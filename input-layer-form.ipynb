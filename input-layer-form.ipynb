{
 "cells": [
  {
   "cell_type": "markdown",
   "metadata": {},
   "source": [
    "This notebook is for transforming the full format form (xml) into the required formate for the input layer (1x455)\n"
   ]
  },
  {
   "cell_type": "code",
   "execution_count": 1,
   "metadata": {},
   "outputs": [],
   "source": [
    "import os\n",
    "import xml.etree.ElementTree as ET\n",
    "import pandas as pd\n",
    "from datetime import datetime\n",
    "import csv\n",
    "import pickle\n",
    "import tqdm"
   ]
  },
  {
   "cell_type": "code",
   "execution_count": 2,
   "metadata": {},
   "outputs": [],
   "source": [
    "file = 'test-race-form.xml'\n",
    "os.chdir(r'C:\\Users\\Nick\\Documents\\GitHub\\grvmodel\\grv scraper\\full race form')\n",
    "path = os.getcwd()\n",
    "file_list = os.listdir()\n"
   ]
  },
  {
   "cell_type": "code",
   "execution_count": 3,
   "metadata": {},
   "outputs": [
    {
     "output_type": "execute_result",
     "data": {
      "text/plain": [
       "   Unnamed: 0    race_id       track  dist      grade  place      dog_id  box  \\\n",
       "0       42462  285775930     Bendigo  425m    Grade 7    6.0  1560320014    1   \n",
       "1      245491  194890011  Shepparton  450m  Mixed 4/5    8.0   275790002    1   \n",
       "2      139827  276572040     Horsham  410m    Grade 5    3.0   108390995    1   \n",
       "3      245481  194890010  Shepparton  390m  Mixed 3/4    4.0   778670033    1   \n",
       "4      245472  194890012  Shepparton  450m    Grade 5    3.0   855980016    1   \n",
       "\n",
       "   split_times  split_margins  run_time  place_adj  \n",
       "0         6.94           0.35     25.27   0.166667  \n",
       "1         6.79           0.10     27.04   0.125000  \n",
       "2        10.33           0.00     23.70   0.333333  \n",
       "3         8.60           0.25     22.53   0.250000  \n",
       "4         6.63           0.01     25.68   0.333333  "
      ],
      "text/html": "<div>\n<style scoped>\n    .dataframe tbody tr th:only-of-type {\n        vertical-align: middle;\n    }\n\n    .dataframe tbody tr th {\n        vertical-align: top;\n    }\n\n    .dataframe thead th {\n        text-align: right;\n    }\n</style>\n<table border=\"1\" class=\"dataframe\">\n  <thead>\n    <tr style=\"text-align: right;\">\n      <th></th>\n      <th>Unnamed: 0</th>\n      <th>race_id</th>\n      <th>track</th>\n      <th>dist</th>\n      <th>grade</th>\n      <th>place</th>\n      <th>dog_id</th>\n      <th>box</th>\n      <th>split_times</th>\n      <th>split_margins</th>\n      <th>run_time</th>\n      <th>place_adj</th>\n    </tr>\n  </thead>\n  <tbody>\n    <tr>\n      <th>0</th>\n      <td>42462</td>\n      <td>285775930</td>\n      <td>Bendigo</td>\n      <td>425m</td>\n      <td>Grade 7</td>\n      <td>6.0</td>\n      <td>1560320014</td>\n      <td>1</td>\n      <td>6.94</td>\n      <td>0.35</td>\n      <td>25.27</td>\n      <td>0.166667</td>\n    </tr>\n    <tr>\n      <th>1</th>\n      <td>245491</td>\n      <td>194890011</td>\n      <td>Shepparton</td>\n      <td>450m</td>\n      <td>Mixed 4/5</td>\n      <td>8.0</td>\n      <td>275790002</td>\n      <td>1</td>\n      <td>6.79</td>\n      <td>0.10</td>\n      <td>27.04</td>\n      <td>0.125000</td>\n    </tr>\n    <tr>\n      <th>2</th>\n      <td>139827</td>\n      <td>276572040</td>\n      <td>Horsham</td>\n      <td>410m</td>\n      <td>Grade 5</td>\n      <td>3.0</td>\n      <td>108390995</td>\n      <td>1</td>\n      <td>10.33</td>\n      <td>0.00</td>\n      <td>23.70</td>\n      <td>0.333333</td>\n    </tr>\n    <tr>\n      <th>3</th>\n      <td>245481</td>\n      <td>194890010</td>\n      <td>Shepparton</td>\n      <td>390m</td>\n      <td>Mixed 3/4</td>\n      <td>4.0</td>\n      <td>778670033</td>\n      <td>1</td>\n      <td>8.60</td>\n      <td>0.25</td>\n      <td>22.53</td>\n      <td>0.250000</td>\n    </tr>\n    <tr>\n      <th>4</th>\n      <td>245472</td>\n      <td>194890012</td>\n      <td>Shepparton</td>\n      <td>450m</td>\n      <td>Grade 5</td>\n      <td>3.0</td>\n      <td>855980016</td>\n      <td>1</td>\n      <td>6.63</td>\n      <td>0.01</td>\n      <td>25.68</td>\n      <td>0.333333</td>\n    </tr>\n  </tbody>\n</table>\n</div>"
     },
     "metadata": {},
     "execution_count": 3
    }
   ],
   "source": [
    "\n",
    "result_master = pd.read_csv(r'C:\\Users\\Nick\\Documents\\GitHub\\grvmodel\\masterfilenew.csv')\n",
    "result_master.head()"
   ]
  },
  {
   "cell_type": "code",
   "execution_count": 12,
   "metadata": {},
   "outputs": [
    {
     "output_type": "stream",
     "name": "stderr",
     "text": [
      "100%|██████████| 4645/4645 [10:48<00:00,  7.17it/s]\n"
     ]
    }
   ],
   "source": [
    "form_master = input_layer_gen(file_list, result_master)"
   ]
  },
  {
   "cell_type": "code",
   "execution_count": 6,
   "metadata": {},
   "outputs": [
    {
     "output_type": "error",
     "ename": "NameError",
     "evalue": "name 'formmaster' is not defined",
     "traceback": [
      "\u001b[1;31m---------------------------------------------------------------------------\u001b[0m",
      "\u001b[1;31mNameError\u001b[0m                                 Traceback (most recent call last)",
      "\u001b[1;32m<ipython-input-6-125456749d20>\u001b[0m in \u001b[0;36m<module>\u001b[1;34m\u001b[0m\n\u001b[0;32m      1\u001b[0m \u001b[1;32mwith\u001b[0m \u001b[0mopen\u001b[0m\u001b[1;33m(\u001b[0m\u001b[1;34m\"formmaster.txt\"\u001b[0m\u001b[1;33m,\u001b[0m \u001b[1;34m\"wb\"\u001b[0m\u001b[1;33m)\u001b[0m \u001b[1;32mas\u001b[0m \u001b[0mfp\u001b[0m\u001b[1;33m:\u001b[0m   \u001b[1;31m#Pickling\u001b[0m\u001b[1;33m\u001b[0m\u001b[1;33m\u001b[0m\u001b[0m\n\u001b[1;32m----> 2\u001b[1;33m     \u001b[0mpickle\u001b[0m\u001b[1;33m.\u001b[0m\u001b[0mdump\u001b[0m\u001b[1;33m(\u001b[0m\u001b[0mformmaster\u001b[0m\u001b[1;33m)\u001b[0m\u001b[1;33m\u001b[0m\u001b[1;33m\u001b[0m\u001b[0m\n\u001b[0m",
      "\u001b[1;31mNameError\u001b[0m: name 'formmaster' is not defined"
     ]
    }
   ],
   "source": [
    "with open(\"formmaster.txt\", \"wb\") as fp:   #Pickling\n",
    "    pickle.dump(form_master)"
   ]
  },
  {
   "cell_type": "code",
   "execution_count": 4,
   "metadata": {},
   "outputs": [],
   "source": [
    "def input_layer_gen(path, result_master):\n",
    "    form_master = []\n",
    "    for i in tqdm.tqdm(file_list):\n",
    "\n",
    "        root = ET.parse(i).getroot()\n",
    "\n",
    "        track = root[0]\n",
    "        #print(\"track =\", track.text)\n",
    "        date = datetime.strptime(root[1].text, \"%d %b %y\")\n",
    "        #print(\"date =\", date)\n",
    "\n",
    "        full_day = []\n",
    "\n",
    "        for race in root.iter('Race'):\n",
    "            #print(\"race id = \",race.attrib[\"id\"])\n",
    "            #print(\"Distance =\", race[4].text, \"\\n\")\n",
    "            #print(\"Grade =\", race[5].text, \"\\n\")\n",
    "\n",
    "            #print(\"box\", \"dog id\", \"DID IT RUN?\")\n",
    "            full_race = [[[int(race[4].text[:-1])]]]\n",
    "            for dog in race.iter('Dog'):\n",
    "                box = dog[0].text #1\n",
    "                dog_id = dog.attrib[\"id\"]\n",
    "                if not dog_id:\n",
    "                    continue\n",
    "\n",
    "                besttime = dog[2].text #2\n",
    "                if not besttime.isdigit():\n",
    "                    besttime = -1\n",
    "                #need to edit both of these to get the numbers out\n",
    "                TOT, TOT1, TOT2, TOT3 = basic_form(dog[4].text)\n",
    "                TTD, TTD1, TTD2, TTD3 = basic_form(dog[5].text)\n",
    "\n",
    "                dogprize = dog.find('DogPRIZE').text\n",
    "                run = diditrun(result_master,  race.attrib[\"id\"], dog_id)\n",
    "                if run == \"no\":\n",
    "                    continue\n",
    "\n",
    "\n",
    "                forms = dog.findall('Form')\n",
    "                #print(box, dog_id, besttime, TOT, TTD, dogprize, run)\n",
    "                #print(\"\\n----------\\n Form\\n place box dist age margin dog_time win_time split\")\n",
    "                form_list = [[box,besttime,TOT, TOT1, TOT2, TOT3,TTD, TTD1, TTD2, TTD3, dogprize]]\n",
    "                for form in forms:\n",
    "                    if not form:\n",
    "                        one_form = ['-1']*8\n",
    "                        form_list.append(one_form)\n",
    "                        continue\n",
    "                    if form[0]:\n",
    "                        place = form[0].text[0]\n",
    "                        if not place.isdigit():\n",
    "                            place = -1\n",
    "                    else:\n",
    "                        place = -1\n",
    "\n",
    "                    form_box = form[1].text\n",
    "                    form_dist = form[4].text\n",
    "                    form_date = datetime.strptime(form[5].text, \"%d%b%y\")\n",
    "                    form_age = (date - form_date).days\n",
    "                    #same track ???\n",
    "\n",
    "                    if place == -1:\n",
    "                        margin = -1\n",
    "                    else:\n",
    "                        try:\n",
    "                            margin = form[8].text[:-1]\n",
    "                        except:\n",
    "                            margin \n",
    "                    dog_time = form[10].text\n",
    "                    win_time = form[11].text\n",
    "                    split = form[15].text\n",
    "\n",
    "                    if not split:\n",
    "                        split = -1\n",
    "\n",
    "                    one_form = [place, form_box, form_dist, form_age, margin, dog_time, win_time, split]\n",
    "                    form_list.append(one_form)\n",
    "                    #print(place, form_box, form_dist, form_age, margin, dog_time, win_time, split)\n",
    "\n",
    "\n",
    "\n",
    "                full_race.append(form_list)    \n",
    "                #print(\"\\n----------\\n\")\n",
    "            flat_list = [item for sublist in full_race for item in sublist]\n",
    "            #print(flat_list)\n",
    "            flatter_list =  [item for sublist in flat_list for item in sublist]\n",
    "            #print(flatter_list, len(flatter_list))\n",
    "            #here we are going for a return object in the form [(race_id, race_form(1*409))]\n",
    "            race_tuple = (race.attrib[\"id\"], flatter_list)\n",
    "            if len(flatter_list )== 409:\n",
    "                form_master.append(race_tuple)\n",
    "        #print(full_day)\n",
    "    return(form_master)\n"
   ]
  },
  {
   "cell_type": "code",
   "execution_count": 9,
   "metadata": {
    "scrolled": true
   },
   "outputs": [],
   "source": [
    "def class_generator(form_master, results_master):\n",
    "    #input\n",
    "    race_ids,x = list(zip(*form_master)) \n",
    "    y = []\n",
    "    #form master in format [(race_id, input_layer(1*409))]\n",
    "    for i in tqdm.tqdm(range(len(race_ids))):\n",
    "        #print(i)\n",
    "        #print(results_master[results_master[\"race_id\"]==int(i)])\n",
    "        race_results = results_master[results_master[\"race_id\"] == int(race_ids[i])]\n",
    "        if len(race_results) != 8:\n",
    "            pass\n",
    "        else:\n",
    "            #y.append((race_results[\"place_adj\"].tolist(),x[i])) this is for places between 1-8\n",
    "            y.append((race_results[\"place\"].tolist(),x[i]))\n",
    "        #print(race_results)\n",
    "    return y\n",
    "        \n",
    "    "
   ]
  },
  {
   "cell_type": "code",
   "execution_count": 10,
   "metadata": {},
   "outputs": [],
   "source": [
    "def diditrun(df, race_id, dog_id):\n",
    "    #print(race_id)\n",
    "    #print(dog_id)\n",
    "    if not dog_id:\n",
    "        return \"no\"\n",
    "    \n",
    "    result = df[(df[\"race_id\"]==int(race_id)) & (df[\"dog_id\"]==int(dog_id))]\n",
    "    if result.empty:\n",
    "        return \"no\"\n",
    "    else:\n",
    "        return \"yes\""
   ]
  },
  {
   "cell_type": "code",
   "execution_count": 11,
   "metadata": {},
   "outputs": [],
   "source": [
    "def basic_form(form):\n",
    "    split_1 = form.split(\" \")\n",
    "    split_2 = split_1[1].split(\"-\")\n",
    "    return split_2"
   ]
  },
  {
   "cell_type": "code",
   "execution_count": 17,
   "metadata": {},
   "outputs": [
    {
     "name": "stderr",
     "output_type": "stream",
     "text": [
      "100%|██████████████████████████████████████████████████████████████████████████| 25387/25387 [00:14<00:00, 1742.86it/s]\n"
     ]
    }
   ],
   "source": [
    "classes = class_generator(form_master, result_master)"
   ]
  },
  {
   "cell_type": "code",
   "execution_count": 4,
   "metadata": {},
   "outputs": [],
   "source": [
    "file = open(r'C:\\Users\\Nick\\Documents\\GitHub\\grvmodel\\finalnew.txt', 'rb')\n",
    "data = pickle.load(file)  \n",
    "classes, inputs = zip(*data)"
   ]
  },
  {
   "cell_type": "code",
   "execution_count": 12,
   "metadata": {},
   "outputs": [
    {
     "output_type": "stream",
     "name": "stdout",
     "text": [
      "25104 25104\n"
     ]
    }
   ],
   "source": [
    "print(len(inputs), len(classes))"
   ]
  },
  {
   "cell_type": "code",
   "execution_count": null,
   "metadata": {},
   "outputs": [],
   "source": [
    "inputs_df = pd.DataFrame(inputs)"
   ]
  },
  {
   "cell_type": "code",
   "execution_count": null,
   "metadata": {},
   "outputs": [],
   "source": [
    "inputs_df.head()"
   ]
  },
  {
   "cell_type": "code",
   "execution_count": 18,
   "metadata": {},
   "outputs": [],
   "source": [
    "with open(\"final.txt\", \"wb\") as fp:   #Pickling\n",
    "    pickle.dump(classes, fp)"
   ]
  },
  {
   "cell_type": "code",
   "execution_count": 22,
   "metadata": {},
   "outputs": [],
   "source": [
    "with open(\"form_master_race_ids.csv\", \"w\") as myfile:\n",
    "    wr = csv.writer(myfile, quoting=csv.QUOTE_ALL)\n",
    "    wr.writerow(list(unzipped[0]))"
   ]
  },
  {
   "cell_type": "code",
   "execution_count": 21,
   "metadata": {},
   "outputs": [],
   "source": [
    "with open(\"form_master.csv\", \"w\") as myfile:\n",
    "    wr = csv.writer(myfile, quoting=csv.QUOTE_ALL)\n",
    "    wr.writerow(list(unzipped[1]))"
   ]
  },
  {
   "cell_type": "code",
   "execution_count": 23,
   "metadata": {},
   "outputs": [],
   "source": [
    "form_master_df = pd.DataFrame(form_master)"
   ]
  }
 ],
 "metadata": {
  "kernelspec": {
   "name": "python3",
   "display_name": "Python 3.9.2 64-bit ('pytorch': conda)"
  },
  "language_info": {
   "codemirror_mode": {
    "name": "ipython",
    "version": 3
   },
   "file_extension": ".py",
   "mimetype": "text/x-python",
   "name": "python",
   "nbconvert_exporter": "python",
   "pygments_lexer": "ipython3",
   "version": "3.9.2"
  },
  "interpreter": {
   "hash": "bfbc89c8622a84d0dd68be4d1447c40cc119f7a41d05894739daaf06a08adac1"
  }
 },
 "nbformat": 4,
 "nbformat_minor": 2
}