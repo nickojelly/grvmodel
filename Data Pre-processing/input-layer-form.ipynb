{
 "cells": [
  {
   "cell_type": "markdown",
   "source": [
    "This notebook is for transforming the full format form (xml) into the required formate for the input layer (1x455)\n"
   ],
   "metadata": {}
  },
  {
   "cell_type": "code",
   "execution_count": 2,
   "source": [
    "import os\r\n",
    "import xml.etree.ElementTree as ET\r\n",
    "import pandas as pd\r\n",
    "from datetime import datetime\r\n",
    "import csv\r\n",
    "import pickle\r\n",
    "import tqdm"
   ],
   "outputs": [],
   "metadata": {}
  },
  {
   "cell_type": "code",
   "execution_count": 3,
   "source": [
    "import line_profiler\r\n",
    "%load_ext line_profiler\r\n",
    "%load_ext heat"
   ],
   "outputs": [],
   "metadata": {}
  },
  {
   "cell_type": "code",
   "execution_count": 4,
   "source": [
    "file = 'test-race-form.xml'\r\n",
    "datapath = r'C:\\Users\\Nick\\Documents\\GitHub\\grvmodel\\grv scraper\\full race form'\r\n",
    "path = os.chdir(datapath)\r\n",
    "file_list = os.listdir()\r\n"
   ],
   "outputs": [],
   "metadata": {}
  },
  {
   "cell_type": "code",
   "execution_count": 5,
   "source": [
    "#pickle Load results\r\n",
    "resultspicklefile = open( r'C:\\Users\\Nick\\Documents\\GitHub\\grvmodel\\Data Processed\\results-df.npy', 'rb')\r\n",
    "resultsdf = pickle.load(resultspicklefile)\r\n",
    "resultsdf = pd.DataFrame(resultsdf)\r\n",
    "resultsdf.head()\r\n",
    "\r\n",
    "#resultsdf.to_csv(\"resultsdf_r.csv\")\r\n",
    "\r\n",
    "#result_master = pd.read_csv(r'C:\\Users\\Nick\\Documents\\GitHub\\grvmodel\\masterfilenew.csv')\r\n",
    "#result_master.head()"
   ],
   "outputs": [],
   "metadata": {}
  },
  {
   "cell_type": "code",
   "execution_count": null,
   "source": [
    "#Pickle Load input layer\r\n",
    "input_master = pickle.load(\"input-master.npy\")"
   ],
   "outputs": [],
   "metadata": {}
  },
  {
   "cell_type": "code",
   "execution_count": 12,
   "source": [
    "input_master =  input_layer_gen(file_list, resultsdf)    \r\n",
    "with open(\"input-master.npy\", \"wb\") as fp:\r\n",
    "    pickle.dump(input_master, fp)"
   ],
   "outputs": [
    {
     "output_type": "stream",
     "name": "stderr",
     "text": [
      "  0%|          | 25/5127 [00:06<22:20,  3.81it/s]\n"
     ]
    },
    {
     "output_type": "error",
     "ename": "KeyboardInterrupt",
     "evalue": "",
     "traceback": [
      "\u001b[1;31m---------------------------------------------------------------------------\u001b[0m",
      "\u001b[1;31mKeyboardInterrupt\u001b[0m                         Traceback (most recent call last)",
      "\u001b[1;32m<ipython-input-12-c55adc6388b1>\u001b[0m in \u001b[0;36m<module>\u001b[1;34m\u001b[0m\n\u001b[1;32m----> 1\u001b[1;33m \u001b[0minput_master\u001b[0m \u001b[1;33m=\u001b[0m  \u001b[0minput_layer_gen\u001b[0m\u001b[1;33m(\u001b[0m\u001b[0mfile_list\u001b[0m\u001b[1;33m,\u001b[0m \u001b[0mresultsdf\u001b[0m\u001b[1;33m)\u001b[0m\u001b[1;33m\u001b[0m\u001b[1;33m\u001b[0m\u001b[0m\n\u001b[0m\u001b[0;32m      2\u001b[0m \u001b[1;32mwith\u001b[0m \u001b[0mopen\u001b[0m\u001b[1;33m(\u001b[0m\u001b[1;34m\"input-master.npy\"\u001b[0m\u001b[1;33m,\u001b[0m \u001b[1;34m\"wb\"\u001b[0m\u001b[1;33m)\u001b[0m \u001b[1;32mas\u001b[0m \u001b[0mfp\u001b[0m\u001b[1;33m:\u001b[0m\u001b[1;33m\u001b[0m\u001b[1;33m\u001b[0m\u001b[0m\n\u001b[0;32m      3\u001b[0m     \u001b[0mpickle\u001b[0m\u001b[1;33m.\u001b[0m\u001b[0mdump\u001b[0m\u001b[1;33m(\u001b[0m\u001b[0minput_master\u001b[0m\u001b[1;33m,\u001b[0m \u001b[0mfp\u001b[0m\u001b[1;33m)\u001b[0m\u001b[1;33m\u001b[0m\u001b[1;33m\u001b[0m\u001b[0m\n",
      "\u001b[1;32m<ipython-input-11-f01a05cd4765>\u001b[0m in \u001b[0;36minput_layer_gen\u001b[1;34m(path, result_master)\u001b[0m\n\u001b[0;32m     18\u001b[0m \u001b[1;33m\u001b[0m\u001b[0m\n\u001b[0;32m     19\u001b[0m         \u001b[1;32mfor\u001b[0m \u001b[0mrace\u001b[0m \u001b[1;32min\u001b[0m \u001b[0mroot\u001b[0m\u001b[1;33m.\u001b[0m\u001b[0miter\u001b[0m\u001b[1;33m(\u001b[0m\u001b[1;34m'Race'\u001b[0m\u001b[1;33m)\u001b[0m\u001b[1;33m:\u001b[0m\u001b[1;33m\u001b[0m\u001b[1;33m\u001b[0m\u001b[0m\n\u001b[1;32m---> 20\u001b[1;33m             \u001b[0mrace_run\u001b[0m \u001b[1;33m=\u001b[0m \u001b[0mdogrun_df\u001b[0m\u001b[1;33m[\u001b[0m\u001b[0mdogrun_df\u001b[0m\u001b[1;33m.\u001b[0m\u001b[0mindex\u001b[0m \u001b[1;33m==\u001b[0m \u001b[0mrace\u001b[0m\u001b[1;33m.\u001b[0m\u001b[0mattrib\u001b[0m\u001b[1;33m[\u001b[0m\u001b[1;34m\"id\"\u001b[0m\u001b[1;33m]\u001b[0m\u001b[1;33m]\u001b[0m\u001b[1;33m\u001b[0m\u001b[1;33m\u001b[0m\u001b[0m\n\u001b[0m\u001b[0;32m     21\u001b[0m             \u001b[1;31m#print(\"race id = \",race.attrib[\"id\"])\u001b[0m\u001b[1;33m\u001b[0m\u001b[1;33m\u001b[0m\u001b[1;33m\u001b[0m\u001b[0m\n\u001b[0;32m     22\u001b[0m             \u001b[1;31m#print(\"Distance =\", race[4].text, \"\\n\")\u001b[0m\u001b[1;33m\u001b[0m\u001b[1;33m\u001b[0m\u001b[1;33m\u001b[0m\u001b[0m\n",
      "\u001b[1;32m~\\.conda\\envs\\pytorch\\lib\\site-packages\\pandas\\core\\frame.py\u001b[0m in \u001b[0;36m__getitem__\u001b[1;34m(self, key)\u001b[0m\n\u001b[0;32m   3013\u001b[0m         \u001b[1;31m# Do we have a (boolean) 1d indexer?\u001b[0m\u001b[1;33m\u001b[0m\u001b[1;33m\u001b[0m\u001b[1;33m\u001b[0m\u001b[0m\n\u001b[0;32m   3014\u001b[0m         \u001b[1;32mif\u001b[0m \u001b[0mcom\u001b[0m\u001b[1;33m.\u001b[0m\u001b[0mis_bool_indexer\u001b[0m\u001b[1;33m(\u001b[0m\u001b[0mkey\u001b[0m\u001b[1;33m)\u001b[0m\u001b[1;33m:\u001b[0m\u001b[1;33m\u001b[0m\u001b[1;33m\u001b[0m\u001b[0m\n\u001b[1;32m-> 3015\u001b[1;33m             \u001b[1;32mreturn\u001b[0m \u001b[0mself\u001b[0m\u001b[1;33m.\u001b[0m\u001b[0m_getitem_bool_array\u001b[0m\u001b[1;33m(\u001b[0m\u001b[0mkey\u001b[0m\u001b[1;33m)\u001b[0m\u001b[1;33m\u001b[0m\u001b[1;33m\u001b[0m\u001b[0m\n\u001b[0m\u001b[0;32m   3016\u001b[0m \u001b[1;33m\u001b[0m\u001b[0m\n\u001b[0;32m   3017\u001b[0m         \u001b[1;31m# We are left with two options: a single key, and a collection of keys,\u001b[0m\u001b[1;33m\u001b[0m\u001b[1;33m\u001b[0m\u001b[1;33m\u001b[0m\u001b[0m\n",
      "\u001b[1;32m~\\.conda\\envs\\pytorch\\lib\\site-packages\\pandas\\core\\frame.py\u001b[0m in \u001b[0;36m_getitem_bool_array\u001b[1;34m(self, key)\u001b[0m\n\u001b[0;32m   3067\u001b[0m         \u001b[1;31m# be reindexed to match DataFrame rows\u001b[0m\u001b[1;33m\u001b[0m\u001b[1;33m\u001b[0m\u001b[1;33m\u001b[0m\u001b[0m\n\u001b[0;32m   3068\u001b[0m         \u001b[0mkey\u001b[0m \u001b[1;33m=\u001b[0m \u001b[0mcheck_bool_indexer\u001b[0m\u001b[1;33m(\u001b[0m\u001b[0mself\u001b[0m\u001b[1;33m.\u001b[0m\u001b[0mindex\u001b[0m\u001b[1;33m,\u001b[0m \u001b[0mkey\u001b[0m\u001b[1;33m)\u001b[0m\u001b[1;33m\u001b[0m\u001b[1;33m\u001b[0m\u001b[0m\n\u001b[1;32m-> 3069\u001b[1;33m         \u001b[0mindexer\u001b[0m \u001b[1;33m=\u001b[0m \u001b[0mkey\u001b[0m\u001b[1;33m.\u001b[0m\u001b[0mnonzero\u001b[0m\u001b[1;33m(\u001b[0m\u001b[1;33m)\u001b[0m\u001b[1;33m[\u001b[0m\u001b[1;36m0\u001b[0m\u001b[1;33m]\u001b[0m\u001b[1;33m\u001b[0m\u001b[1;33m\u001b[0m\u001b[0m\n\u001b[0m\u001b[0;32m   3070\u001b[0m         \u001b[1;32mreturn\u001b[0m \u001b[0mself\u001b[0m\u001b[1;33m.\u001b[0m\u001b[0m_take_with_is_copy\u001b[0m\u001b[1;33m(\u001b[0m\u001b[0mindexer\u001b[0m\u001b[1;33m,\u001b[0m \u001b[0maxis\u001b[0m\u001b[1;33m=\u001b[0m\u001b[1;36m0\u001b[0m\u001b[1;33m)\u001b[0m\u001b[1;33m\u001b[0m\u001b[1;33m\u001b[0m\u001b[0m\n\u001b[0;32m   3071\u001b[0m \u001b[1;33m\u001b[0m\u001b[0m\n",
      "\u001b[1;31mKeyboardInterrupt\u001b[0m: "
     ]
    }
   ],
   "metadata": {}
  },
  {
   "cell_type": "code",
   "execution_count": 11,
   "source": [
    "def input_layer_gen(path, result_master):\r\n",
    "    form_master = []\r\n",
    "    data = [resultsdf['race_id'], resultsdf['dog_id']]\r\n",
    "    headers = ['race_id', 'dog_id']\r\n",
    "    dogrun_df = pd.concat(data, axis=1, keys = headers)\r\n",
    "    dogrun_df = dogrun_df.set_index('race_id')\r\n",
    "    for i in tqdm.tqdm(file_list):\r\n",
    "        fname, extenstion  = i.split('.')\r\n",
    "        if extenstion != 'xml':\r\n",
    "            continue\r\n",
    "        root = ET.parse(i).getroot()\r\n",
    "        track = root[0]\r\n",
    "        #print(\"track =\", track.text)\r\n",
    "        date = datetime.strptime(root[1].text, \"%d %b %y\")\r\n",
    "        #print(\"date =\", date)\r\n",
    "\r\n",
    "        full_day = []\r\n",
    "\r\n",
    "        for race in root.iter('Race'):\r\n",
    "            race_run = dogrun_df[dogrun_df.index == race.attrib[\"id\"]]\r\n",
    "            #print(\"race id = \",race.attrib[\"id\"])\r\n",
    "            #print(\"Distance =\", race[4].text, \"\\n\")\r\n",
    "            #print(\"Grade =\", race[5].text, \"\\n\")\r\n",
    "\r\n",
    "            #print(\"box\", \"dog id\", \"DID IT RUN?\")\r\n",
    "            full_race = [[[int(race[4].text[:-1])]]]\r\n",
    "            for dog in race.iter('Dog'):\r\n",
    "                box = dog[0].text #1\r\n",
    "                dog_id = dog.attrib[\"id\"]\r\n",
    "                if not dog_id:\r\n",
    "                    continue\r\n",
    "\r\n",
    "                besttime = dog[2].text #2\r\n",
    "                if not besttime.isdigit():\r\n",
    "                    besttime = -1\r\n",
    "                #need to edit both of these to get the numbers out\r\n",
    "                TOT, TOT1, TOT2, TOT3 = basic_form(dog[4].text)\r\n",
    "                TTD, TTD1, TTD2, TTD3 = basic_form(dog[5].text)\r\n",
    "\r\n",
    "                dogprize = dog.find('DogPRIZE').text\r\n",
    "                run = diditrun(race_run,  race.attrib[\"id\"], dog_id)\r\n",
    "                if run == \"no\":\r\n",
    "                    continue\r\n",
    "\r\n",
    "\r\n",
    "                forms = dog.findall('Form')\r\n",
    "                #print(box, dog_id, besttime, TOT, TTD, dogprize, run)\r\n",
    "                #print(\"\\n----------\\n Form\\n place box dist age margin dog_time win_time split\")\r\n",
    "                form_list = [[box,besttime,TOT, TOT1, TOT2, TOT3,TTD, TTD1, TTD2, TTD3, dogprize]]\r\n",
    "                for form in forms:\r\n",
    "                    if not form:\r\n",
    "                        one_form = ['-1']*8\r\n",
    "                        form_list.append(one_form)\r\n",
    "                        continue\r\n",
    "                    if form[0]:\r\n",
    "                        place = form[0].text[0]\r\n",
    "                        if not place.isdigit():\r\n",
    "                            place = -1\r\n",
    "                    else:\r\n",
    "                        place = -1\r\n",
    "\r\n",
    "                    form_box = form[1].text\r\n",
    "                    form_dist = form[4].text\r\n",
    "                    form_date = datetime.strptime(form[5].text, \"%d%b%y\")\r\n",
    "                    form_age = (date - form_date).days\r\n",
    "                    #same track ???\r\n",
    "\r\n",
    "                    if place == -1:\r\n",
    "                        margin = -1\r\n",
    "                    else:\r\n",
    "                        try:\r\n",
    "                            margin = form[8].text[:-1]\r\n",
    "                        except:\r\n",
    "                            margin \r\n",
    "                    dog_time = form[10].text\r\n",
    "                    win_time = form[11].text\r\n",
    "                    split = form[15].text\r\n",
    "\r\n",
    "                    if not split:\r\n",
    "                        split = -1\r\n",
    "\r\n",
    "                    one_form = [place, form_box, form_dist, form_age, margin, dog_time, win_time, split]\r\n",
    "                    form_list.append(one_form)\r\n",
    "                    #print(place, form_box, form_dist, form_age, margin, dog_time, win_time, split)\r\n",
    "\r\n",
    "\r\n",
    "\r\n",
    "                full_race.append(form_list)    \r\n",
    "                #print(\"\\n----------\\n\")\r\n",
    "            flat_list = [item for sublist in full_race for item in sublist]\r\n",
    "            #print(flat_list)\r\n",
    "            flatter_list =  [item for sublist in flat_list for item in sublist]\r\n",
    "            #print(flatter_list, len(flatter_list))\r\n",
    "            #here we are going for a return object in the form [(race_id, race_form(1*409))]\r\n",
    "            race_tuple = (race.attrib[\"id\"], flatter_list)\r\n",
    "            if len(flatter_list )== 409:\r\n",
    "                form_master.append(race_tuple)\r\n",
    "        #print(full_day)\r\n",
    "    return(form_master)\r\n",
    "\r\n",
    "def class_generator(form_master, results_master):\r\n",
    "    #input\r\n",
    "    race_ids,x = list(zip(*form_master)) \r\n",
    "    y = []\r\n",
    "    #form master in format [(race_id, input_layer(1*409))]\r\n",
    "    for i in tqdm.tqdm(range(len(race_ids))):\r\n",
    "        #print(i)\r\n",
    "        #print(results_master[results_master[\"race_id\"]==int(i)])\r\n",
    "        race_results = results_master[results_master[\"race_id\"] == int(race_ids[i])]\r\n",
    "        if len(race_results) != 8:\r\n",
    "            pass\r\n",
    "        else:\r\n",
    "            #y.append((race_results[\"place_adj\"].tolist(),x[i])) this is for places between 1-8\r\n",
    "            y.append((race_results[\"place\"].tolist(),x[i]))\r\n",
    "        #print(race_results)\r\n",
    "    return y\r\n",
    "\r\n",
    "def diditrun(df, race_id, dog_id):\r\n",
    "    #print(race_id)\r\n",
    "    #print(dog_id)\r\n",
    "    #print(df.size)\r\n",
    "    if not dog_id:\r\n",
    "        return \"no\"\r\n",
    "    \r\n",
    "\r\n",
    "    result = dog_id in df\r\n",
    "    if result:\r\n",
    "        return \"no\"\r\n",
    "    else:\r\n",
    "        return \"yes\"\r\n",
    "\r\n",
    "def basic_form(form):\r\n",
    "    split_1 = form.split(\" \")\r\n",
    "    split_2 = split_1[1].split(\"-\")\r\n",
    "    return split_2"
   ],
   "outputs": [],
   "metadata": {}
  },
  {
   "cell_type": "code",
   "execution_count": 6,
   "source": [
    "classes = class_generator(form_master, result_master)"
   ],
   "outputs": [
    {
     "output_type": "error",
     "ename": "NameError",
     "evalue": "name 'form_master' is not defined",
     "traceback": [
      "\u001b[1;31m---------------------------------------------------------------------------\u001b[0m",
      "\u001b[1;31mNameError\u001b[0m                                 Traceback (most recent call last)",
      "\u001b[1;32m<ipython-input-6-3eb30871f23e>\u001b[0m in \u001b[0;36m<module>\u001b[1;34m\u001b[0m\n\u001b[1;32m----> 1\u001b[1;33m \u001b[0mclasses\u001b[0m \u001b[1;33m=\u001b[0m \u001b[0mclass_generator\u001b[0m\u001b[1;33m(\u001b[0m\u001b[0mform_master\u001b[0m\u001b[1;33m,\u001b[0m \u001b[0mresult_master\u001b[0m\u001b[1;33m)\u001b[0m\u001b[1;33m\u001b[0m\u001b[1;33m\u001b[0m\u001b[0m\n\u001b[0m",
      "\u001b[1;31mNameError\u001b[0m: name 'form_master' is not defined"
     ]
    }
   ],
   "metadata": {}
  },
  {
   "cell_type": "code",
   "execution_count": 4,
   "source": [
    "file = open(r'C:\\Users\\Nick\\Documents\\GitHub\\grvmodel\\finalnew.txt', 'rb')\r\n",
    "data = pickle.load(file)  \r\n",
    "classes, inputs = zip(*data)"
   ],
   "outputs": [],
   "metadata": {}
  },
  {
   "cell_type": "code",
   "execution_count": 12,
   "source": [
    "print(len(inputs), len(classes))"
   ],
   "outputs": [
    {
     "output_type": "stream",
     "name": "stdout",
     "text": [
      "25104 25104\n"
     ]
    }
   ],
   "metadata": {}
  },
  {
   "cell_type": "code",
   "execution_count": null,
   "source": [
    "inputs_df = pd.DataFrame(inputs)"
   ],
   "outputs": [],
   "metadata": {}
  },
  {
   "cell_type": "code",
   "execution_count": null,
   "source": [
    "inputs_df.head()"
   ],
   "outputs": [],
   "metadata": {}
  },
  {
   "cell_type": "code",
   "execution_count": 18,
   "source": [
    "with open(\"final.txt\", \"wb\") as fp:   #Pickling\r\n",
    "    pickle.dump(classes, fp)"
   ],
   "outputs": [],
   "metadata": {}
  }
 ],
 "metadata": {
  "kernelspec": {
   "name": "python3",
   "display_name": "Python 3.9.2 64-bit ('pytorch': conda)"
  },
  "language_info": {
   "codemirror_mode": {
    "name": "ipython",
    "version": 3
   },
   "file_extension": ".py",
   "mimetype": "text/x-python",
   "name": "python",
   "nbconvert_exporter": "python",
   "pygments_lexer": "ipython3",
   "version": "3.9.2"
  },
  "interpreter": {
   "hash": "bfbc89c8622a84d0dd68be4d1447c40cc119f7a41d05894739daaf06a08adac1"
  }
 },
 "nbformat": 4,
 "nbformat_minor": 2
}