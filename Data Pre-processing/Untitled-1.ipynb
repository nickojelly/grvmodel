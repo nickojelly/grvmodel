{
    "cells": [
        {
            "cell_type": "markdown",
            "source": [
                "## Generates Form from Results calculates statistics based on previous races\r\n",
                "This file uses previous race results (rr-ShepXX.xml) and combines them with the results of the current race, to create a timeseries feature set"
            ],
            "metadata": {}
        },
        {
            "cell_type": "code",
            "execution_count": 4,
            "source": [
                "#Imports\r\n",
                "import os\r\n",
                "import xml.etree.ElementTree as ET\r\n",
                "import pandas as pd\r\n",
                "from datetime import datetime\r\n",
                "import pickle\r\n",
                "import tqdm\r\n",
                "import line_profiler\r\n",
                "%load_ext line_profiler\r\n",
                "%load_ext heat"
            ],
            "outputs": [],
            "metadata": {}
        },
        {
            "cell_type": "code",
            "execution_count": 5,
            "source": [
                "#pickle Load results\r\n",
                "resultspicklefile = open( r'C:\\Users\\Nick\\Documents\\GitHub\\grvmodel\\Data Processed\\results-df-w-dates.npy', 'rb')\r\n",
                "resultsdf = pickle.load(resultspicklefile)\r\n",
                "resultsdf = pd.DataFrame(resultsdf)\r\n",
                "resultsdf.head()\r\n",
                "\r\n",
                "resultsdf[\"dist\"] = resultsdf[\"dist\"].astype(str).str[:-1].astype(float)\r\n",
                "resultsdf.run_time = resultsdf.run_time.astype(float)"
            ],
            "outputs": [],
            "metadata": {}
        },
        {
            "cell_type": "code",
            "execution_count": 13,
            "source": [
                "#Generate Speed statistics\r\n",
                "def speedcalc(time,distance):\r\n",
                "    speed = distance/time\r\n",
                "    return speed\r\n",
                "\r\n",
                "resultsdf[\"FullSpeed\"] = resultsdf.dist / resultsdf.run_time"
            ],
            "outputs": [],
            "metadata": {}
        },
        {
            "cell_type": "code",
            "execution_count": 14,
            "source": [
                "a = form(resultsdf)"
            ],
            "outputs": [
                {
                    "output_type": "stream",
                    "name": "stdout",
                    "text": [
                        "race id =  12539914\n",
                        "          race_id       date       track   dist                    grade  \\\n",
                        "105719  478749090  28 Sep 19  Cranbourne  311.0               Grade 5 T3   \n",
                        "308164  335811297  01 Jul 18        Sale  520.0           Restricted Win   \n",
                        "309757  414352558  03 Mar 19        Sale  520.0      Restricted Win Heat   \n",
                        "310097  308829936  04 Apr 18        Sale  440.0                   Maiden   \n",
                        "310619  300465748  04 Mar 18        Sale  440.0              Maiden Heat   \n",
                        "311069  347014666  05 Aug 18        Sale  440.0                Mixed 6/7   \n",
                        "313571  310561914  08 Apr 18        Sale  440.0              Maiden Heat   \n",
                        "314110  302128058  08 Mar 18        Sale  440.0                   Maiden   \n",
                        "314554  389233928  09 Dec 18        Sale  520.0           Restricted Win   \n",
                        "315292  408733344  10 Feb 19        Sale  520.0                Mixed 4/5   \n",
                        "315723  416347563  10 Mar 19        Sale  520.0                Mixed 4/5   \n",
                        "316676  379303111  11 Nov 18        Sale  440.0           Restricted Win   \n",
                        "316903  425782390  12 Apr 19        Sale  440.0       Grade 5 No Penalty   \n",
                        "317651  401219347  13 Jan 19        Sale  520.0                  Grade 5   \n",
                        "317886  320318367  13 May 18        Sale  440.0                   Maiden   \n",
                        "319312  311978211  15 Apr 18        Sale  440.0             Maiden Final   \n",
                        "319862  304256816  15 Mar 18        Sale  440.0                   Maiden   \n",
                        "321274  410352588  17 Feb 19        Sale  520.0                  Grade 5   \n",
                        "321689  321628508  17 May 18        Sale  520.0           Restricted Win   \n",
                        "324928  314591938  22 Apr 18        Sale  440.0                   Maiden   \n",
                        "325544  305775850  22 Mar 18        Sale  440.0                   Maiden   \n",
                        "326190  394596135  23 Dec 18        Sale  440.0       Grade 5 No Penalty   \n",
                        "326851  412327531  24 Feb 19        Sale  520.0                Mixed 4/5   \n",
                        "327329  420495312  24 Mar 19        Sale  440.0           Restricted Win   \n",
                        "329489  405041970  27 Jan 19        Sale  520.0                Mixed 4/5   \n",
                        "329786  488059678  27 Oct 19        Sale  440.0             Grade 5 Heat   \n",
                        "332599  397073110  31 Dec 18        Sale  520.0           Restricted Win   \n",
                        "332885  422324474  31 Mar 19        Sale  520.0                  Grade 5   \n",
                        "337474  337785734  06 Jul 18   Traralgon  525.0           Restricted Win   \n",
                        "338856  328705099  08 Jun 18   Traralgon  525.0              Maiden Heat   \n",
                        "349106   12539914  22 Jun 18   Traralgon  525.0             Maiden Final   \n",
                        "384370  399080603  06 Jan 19    Warragul  460.0  Tier 3 - Restricted Win   \n",
                        "386380  492530609  07 Nov 19    Warragul  400.0               Grade 5 T3   \n",
                        "387512  378584166  08 Nov 18    Warragul  460.0         Tier 3 - Grade 6   \n",
                        "393897  390905759  13 Dec 18    Warragul  460.0                  Grade 5   \n",
                        "396069  494990013  14 Nov 19    Warragul  460.0               Grade 5 T3   \n",
                        "402255  382133764  19 Nov 18    Warragul  460.0  Tier 3 - Restricted Win   \n",
                        "409590  487328220  24 Oct 19    Warragul  460.0               Grade 5 T3   \n",
                        "411286  344083314  26 Jul 18    Warragul  460.0         Tier 3 - Grade 6   \n",
                        "413546  396244927  28 Dec 18    Warragul  460.0                  Grade 5   \n",
                        "414258  500077178  28 Nov 19    Warragul  460.0               Grade 5 T3   \n",
                        "415517  386239938  29 Nov 18    Warragul  460.0  Tier 3 - Restricted Win   \n",
                        "415588  375155325  29 Oct 18    Warragul  460.0  Tier 3 - Restricted Win   \n",
                        "417172  406122630  31 Jan 19    Warragul  460.0               Grade 5 T3   \n",
                        "417800  489942469  31 Oct 19    Warragul  460.0               Grade 5 T3   \n",
                        "\n",
                        "        place     dog_id box split_times split_margins  run_time  FullSpeed  \n",
                        "105719    4.0  115367782   4       10.19          0.10     18.75  16.586667  \n",
                        "308164    4.0  115367782   8       10.01          0.00     30.53  17.032427  \n",
                        "309757    6.0  115367782   1        9.49          0.00     30.23  17.201456  \n",
                        "310097    2.0  115367782   3        5.45          0.14     25.33  17.370707  \n",
                        "310619    7.0  115367782   5        5.65          0.35     26.52  16.591252  \n",
                        "311069    6.0  115367782   8        5.44          0.15     25.43  17.302399  \n",
                        "313571    2.0  115367782   8        5.52          0.14     25.17  17.481128  \n",
                        "314110    2.0  115367782   7        5.46          0.11     25.68  17.133956  \n",
                        "314554    1.0  115367782   5        9.54         -0.68     30.21  17.212843  \n",
                        "315292    4.0  115367782   4        9.80          0.28     30.02  17.321785  \n",
                        "315723    7.0  115367782   1       10.03          0.00     30.81  16.877637  \n",
                        "316676    6.0  115367782   2        5.43          0.14     25.97  16.942626  \n",
                        "316903    8.0  115367782   5        5.67          0.37     25.99  16.929588  \n",
                        "317651    2.0  115367782   7        9.43          0.00     30.17  17.235665  \n",
                        "317886    3.0  115367782   8        5.50          0.12     25.76  17.080745  \n",
                        "319312    4.0  115367782   3        5.35          0.03     25.81  17.047656  \n",
                        "319862    3.0  115367782   1        5.46          0.15     25.64  17.160686  \n",
                        "321274    6.0  115367782   7        9.75          0.37     30.31  17.156054  \n",
                        "321689    4.0  115367782   8        9.75         -0.25     30.16  17.241379  \n",
                        "324928    6.0  115367782   3        5.54          0.21     26.20  16.793893  \n",
                        "325544    2.0  115367782   1        5.35          0.00     25.44  17.295597  \n",
                        "326190    8.0  115367782   4        5.50          0.19     25.81  17.047656  \n",
                        "326851    6.0  115367782   5        9.61          0.11     30.20  17.218543  \n",
                        "327329    6.0  115367782   6        5.53          0.16     25.72  17.107309  \n",
                        "329489    5.0  115367782   8        9.68          0.33     30.13  17.258546  \n",
                        "329786    7.0  115367782   5        5.55          0.20     25.84  17.027864  \n",
                        "332599    6.0  115367782   3        9.87         -0.14     30.50  17.049180  \n",
                        "332885    7.0  115367782   2        9.85          0.36     30.58  17.004578  \n",
                        "337474    5.0  115367782   2        4.97          0.12     31.45  16.693164  \n",
                        "338856    1.0  115367782   6        4.83          0.00     31.02  16.924565  \n",
                        "349106    1.0  115367782   8        4.86          0.00     31.08  16.891892  \n",
                        "384370    1.0  115367782   4        6.67          0.00     26.22  17.543860  \n",
                        "386380    5.0  115367782   3        8.80          0.18     23.95  16.701461  \n",
                        "387512    5.0  115367782   3        6.90          0.28     26.92  17.087667  \n",
                        "393897    5.0  115367782   2        6.58          0.00     26.71  17.222014  \n",
                        "396069    8.0  115367782   6        6.86          0.25     26.92  17.087667  \n",
                        "402255    3.0  115367782   4        6.75          0.12     26.39  17.430845  \n",
                        "409590    8.0  115367782   7        6.81          0.26     27.04  17.011834  \n",
                        "411286    7.0  115367782   5        6.73          0.13     26.96  17.062315  \n",
                        "413546    8.0  115367782   2        6.98          0.38     26.73  17.209128  \n",
                        "414258    4.0  115367782   1        6.69          0.08     26.70  17.228464  \n",
                        "415517    2.0  115367782   4        6.74          0.09     26.46  17.384732  \n",
                        "415588    7.0  115367782   5        6.85          0.27     26.98  17.049666  \n",
                        "417172    7.0  115367782   5        6.67          0.00     26.93  17.081322  \n",
                        "417800    7.0  115367782   3        6.79          0.16     26.79  17.170586  \n"
                    ]
                }
            ],
            "metadata": {}
        },
        {
            "cell_type": "code",
            "execution_count": 11,
            "source": [
                "def form(results):\r\n",
                "    test = results[15000:15500]\r\n",
                "    races = results.groupby(['race_id'])\r\n",
                "    for race, dogs in races:\r\n",
                "        print(\"race id = \",race)\r\n",
                "        for dog in dogs['dog_id']:\r\n",
                "            dogform = results[results['dog_id']==dog]\r\n",
                "            print(dogform)\r\n",
                "            break\r\n",
                "        break\r\n",
                "    return"
            ],
            "outputs": [],
            "metadata": {}
        },
        {
            "cell_type": "code",
            "execution_count": null,
            "source": [],
            "outputs": [],
            "metadata": {}
        }
    ],
    "metadata": {
        "orig_nbformat": 4,
        "language_info": {
            "name": "python",
            "version": "3.9.2",
            "mimetype": "text/x-python",
            "codemirror_mode": {
                "name": "ipython",
                "version": 3
            },
            "pygments_lexer": "ipython3",
            "nbconvert_exporter": "python",
            "file_extension": ".py"
        },
        "kernelspec": {
            "name": "python3",
            "display_name": "Python 3.9.2 64-bit ('pytorch': conda)"
        },
        "interpreter": {
            "hash": "bfbc89c8622a84d0dd68be4d1447c40cc119f7a41d05894739daaf06a08adac1"
        }
    },
    "nbformat": 4,
    "nbformat_minor": 2
}