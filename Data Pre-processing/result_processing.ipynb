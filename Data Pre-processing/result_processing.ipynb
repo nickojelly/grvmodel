{
 "cells": [
  {
   "cell_type": "markdown",
   "source": [
    "Full pandas dataframe created for all shep race results\n",
    "\n",
    "todo:\n",
    "create graph of box number vs place\n",
    "create lin model of distance box vs time/place?\n",
    "\n",
    "idea:\n",
    "clustering analysis of dog to predict dogs that will behave the same  \n",
    "\n",
    "working:\n",
    "currently working with all split time correct in r\n",
    "creating dog index in r to hold previous race results\n"
   ],
   "metadata": {}
  },
  {
   "cell_type": "code",
   "execution_count": 17,
   "source": [
    "import os\r\n",
    "import xml.etree.ElementTree as ET\r\n",
    "import pandas as pd\r\n",
    "import tqdm\r\n",
    "import pickle"
   ],
   "outputs": [],
   "metadata": {}
  },
  {
   "cell_type": "code",
   "execution_count": 16,
   "source": [
    "#Loading race results database\r\n",
    "os.chdir(r'C:\\Users\\Nick\\Documents\\GitHub\\grvmodel\\grv scraper\\full race results')\r\n",
    "file_list = os.listdir()\r\n",
    "path = os.getcwd()\r\n",
    "\r\n",
    "\r\n",
    "#print(file_list)\r\n"
   ],
   "outputs": [],
   "metadata": {}
  },
  {
   "cell_type": "code",
   "execution_count": 10,
   "source": [
    "#master_list = pd.read_csv('masterfile.csv')\r\n",
    "\r\n",
    "# not needed unless needs to be regenerated\r\n",
    "master_list = result_getter(file_list, path)\r\n"
   ],
   "outputs": [
    {
     "output_type": "stream",
     "name": "stderr",
     "text": [
      "100%|██████████| 4811/4811 [00:30<00:00, 157.64it/s]\n"
     ]
    }
   ],
   "metadata": {}
  },
  {
   "cell_type": "code",
   "execution_count": 4,
   "source": [
    "def result_labels(file_list, path):\r\n",
    "    label_list = []\r\n",
    "    for i in file_list:\r\n",
    "        root = ET.parse(i).getroot()\r\n",
    "        \r\n",
    "        for race in root.iter('Race'):\r\n",
    "            race_id = race.attrib[\"id\"]\r\n",
    "            print(\"race id = \",race_id)\r\n",
    "            \r\n",
    "            places = []\r\n",
    "            \r\n",
    "            for dog in race.iter('Dog'):\r\n",
    "                places.append(dog[0].text)\r\n",
    "            print(places)\r\n",
    "        break\r\n",
    "            "
   ],
   "outputs": [],
   "metadata": {}
  },
  {
   "cell_type": "code",
   "execution_count": 9,
   "source": [
    "def result_getter(file_list, path):\r\n",
    "    master_list = []\r\n",
    "    \r\n",
    "    for i in tqdm.tqdm(file_list):\r\n",
    "        root = ET.parse(i).getroot()\r\n",
    "\r\n",
    "        track = root[0]\r\n",
    "        #print(\"track =\", track.text)\r\n",
    "        date = root[1]\r\n",
    "        #print(\"date =\", date.text)\r\n",
    "\r\n",
    "\r\n",
    "        for race in root.iter('Race'):\r\n",
    "            #print(\"race id = \",race.attrib[\"id\"])\r\n",
    "            #print(\"Distance =\", race[3].text, \"\\n\")\r\n",
    "            #print(\"Grade =\", race[4].text, \"\\n\")\r\n",
    "            #print(\"place name box split split_margin runtime\")\r\n",
    "\r\n",
    "            places = []\r\n",
    "            ids = []\r\n",
    "            boxes = []\r\n",
    "            splittimes = []\r\n",
    "            split_margin = []\r\n",
    "            split_position = []\r\n",
    "            runtimes = []\r\n",
    "\r\n",
    "            for dog in race.iter('Dog'):\r\n",
    "                if not dog.attrib[\"id\"]:\r\n",
    "                    continue\r\n",
    "                if not dog[0].text:\r\n",
    "                    continue\r\n",
    "                if (dog[0].text in \"RSBFNPTBD\")or('=' in dog[0].text):\r\n",
    "                    #print(\"scratched check working\")\r\n",
    "                    continue\r\n",
    "                else:\r\n",
    "                    places.append(dog[0].text)\r\n",
    "                    ids.append(dog.attrib[\"id\"])\r\n",
    "                    boxes.append(dog[3].text)\r\n",
    "                    splittimes.append(dog[13].text)\r\n",
    "                    runtimes.append(dog[14].text)\r\n",
    "\r\n",
    "            for i in range(len(splittimes)):\r\n",
    "                if splittimes[0] == None:\r\n",
    "                    split_margin.append(pd.NaT)\r\n",
    "                    continue\r\n",
    "                try:\r\n",
    "                    split_margin.append(\"%.2f\" % (float(splittimes[i])-float(min(splittimes))))\r\n",
    "                    \r\n",
    "                                        #trying to get split position\r\n",
    "                except:\r\n",
    "                    split_margin.append(pd.NaT)\r\n",
    "                    \r\n",
    "                    \r\n",
    "            for i in range(len(places)):\r\n",
    "                try:\r\n",
    "                    pass\r\n",
    "                    #print(places[i], ids[i], boxes[i], splittimes[i], \"%.2f\" % split_margin[i], runtimes[i])\r\n",
    "                except :\r\n",
    "                    pass\r\n",
    "                    #print(places[i], ids[i], boxes[i], splittimes[i], split_margin[i], runtimes[i])\r\n",
    "\r\n",
    "            #print(\"\\n------------------------\\n\")\r\n",
    "            zipall = list(zip(places,ids,boxes,splittimes,split_margin,runtimes))\r\n",
    "            #print(zipall)\r\n",
    "            for i in range(len(zipall)):\r\n",
    "                zipall[i] = (race.attrib[\"id\"],track.text, race[3].text, race[4].text,) + zipall[i]\r\n",
    "                master_list.append(zipall[i])\r\n",
    "\r\n",
    "    return master_list"
   ],
   "outputs": [],
   "metadata": {}
  },
  {
   "cell_type": "code",
   "execution_count": 13,
   "source": [
    "col_names = [\"race_id\", \"track\",\"dist\",\"grade\", \"place\", \"dog_id\", \"box\", \"split_times\", \"split_margins\", \"run_time\"]\r\n",
    "df = pd.DataFrame(master_list, columns = col_names)\r\n",
    "df.place = df.place.astype(float)\r\n",
    "df.place.unique()"
   ],
   "outputs": [
    {
     "output_type": "execute_result",
     "data": {
      "text/plain": [
       "array([1., 2., 3., 4., 5., 6., 7., 8.])"
      ]
     },
     "metadata": {},
     "execution_count": 13
    }
   ],
   "metadata": {}
  },
  {
   "cell_type": "code",
   "execution_count": 15,
   "source": [
    "print(df.size)\r\n",
    "df = df.dropna()\r\n",
    "print(df.size)\r\n",
    "df.to_csv(\"masterfile.csv\")\r\n",
    "\r\n",
    "with open(\"results-df.npy\", \"wb\") as fp:   #Pickling\r\n",
    "    \r\n",
    "    pickle.dump(df, fp)"
   ],
   "outputs": [
    {
     "output_type": "stream",
     "name": "stdout",
     "text": [
      "4178470\n",
      "4151160\n"
     ]
    },
    {
     "output_type": "error",
     "ename": "NameError",
     "evalue": "name 'pickle' is not defined",
     "traceback": [
      "\u001b[1;31m---------------------------------------------------------------------------\u001b[0m",
      "\u001b[1;31mNameError\u001b[0m                                 Traceback (most recent call last)",
      "\u001b[1;32m<ipython-input-15-825311f906ce>\u001b[0m in \u001b[0;36m<module>\u001b[1;34m\u001b[0m\n\u001b[0;32m      6\u001b[0m \u001b[1;32mwith\u001b[0m \u001b[0mopen\u001b[0m\u001b[1;33m(\u001b[0m\u001b[1;34m\"results-df.npy\"\u001b[0m\u001b[1;33m,\u001b[0m \u001b[1;34m\"wb\"\u001b[0m\u001b[1;33m)\u001b[0m \u001b[1;32mas\u001b[0m \u001b[0mfp\u001b[0m\u001b[1;33m:\u001b[0m   \u001b[1;31m#Pickling\u001b[0m\u001b[1;33m\u001b[0m\u001b[1;33m\u001b[0m\u001b[0m\n\u001b[0;32m      7\u001b[0m \u001b[1;33m\u001b[0m\u001b[0m\n\u001b[1;32m----> 8\u001b[1;33m     \u001b[0mpickle\u001b[0m\u001b[1;33m.\u001b[0m\u001b[0mdump\u001b[0m\u001b[1;33m(\u001b[0m\u001b[0mdf\u001b[0m\u001b[1;33m,\u001b[0m \u001b[0mfp\u001b[0m\u001b[1;33m)\u001b[0m\u001b[1;33m\u001b[0m\u001b[1;33m\u001b[0m\u001b[0m\n\u001b[0m",
      "\u001b[1;31mNameError\u001b[0m: name 'pickle' is not defined"
     ]
    }
   ],
   "metadata": {}
  },
  {
   "cell_type": "code",
   "execution_count": 14,
   "source": [
    "df.grade.value_counts()"
   ],
   "outputs": [
    {
     "output_type": "execute_result",
     "data": {
      "text/plain": [
       "Grade 5                            92157\n",
       "Mixed 4/5                          38487\n",
       "Maiden                             32138\n",
       "Grade 5 T3                         26966\n",
       "Mixed 6/7                          22233\n",
       "Grade 7                            17453\n",
       "Restricted Win                     16629\n",
       "Grade 5 Heat                       14403\n",
       "Tier 3 - Maiden                    13181\n",
       "Maiden Heat                        12606\n",
       "Restricted Win Heat                11648\n",
       "Tier 3 - Grade 7                   10824\n",
       "Grade 6                            10476\n",
       "S/E Heat                            8932\n",
       "Free For All                        8421\n",
       "Mixed 6/7 Heat                      8317\n",
       "Tier 3 - Restricted Win             6760\n",
       "Tier 3 - Grade 6                    6703\n",
       "Grade 5 No Penalty                  6357\n",
       "Aged Prize Money                    5449\n",
       "Grade 5 Final                       4533\n",
       "Special Event                       4440\n",
       "Mixed 3/4                           3869\n",
       "Restricted Win Final                3782\n",
       "Maiden Final                        3455\n",
       "S/E Veteran                         3148\n",
       "All Maiden                          2961\n",
       "Mixed 6/7 Final                     2563\n",
       "Restricted Win Aged Prize Money     2516\n",
       "Maiden Aged Prize Money             2435\n",
       "Grade 7 Aged Prize Money            1825\n",
       "Grade 4                             1598\n",
       "S/E Final                           1453\n",
       "Maiden Semi Final                   1399\n",
       "Maiden Qualifying Heat              1208\n",
       "Grade 6 Aged Prize Money            1098\n",
       "Grade 7 Heat                         633\n",
       "Novice Grade 7                       568\n",
       "S/E Group 1                          543\n",
       "S/E Semi Final                       454\n",
       "S/E Group 2                          444\n",
       "S/E Group 3                          389\n",
       "Grade 6 Heat                         367\n",
       "Handicap                             299\n",
       "Mixed 4/5 Heat                       256\n",
       "Maiden Quali Final                   253\n",
       "Restricted Win Qualifying Heat       249\n",
       "Group Listed                         209\n",
       "Grade 7 Final                        182\n",
       "Grade 6 Final                        167\n",
       "Mixed 4/5 Final                      111\n",
       "Grade 5 Non Penalty Heat             108\n",
       "Restricted Win Qualifying Final       86\n",
       "Novice Heat                           36\n",
       "Special Event Heat Non Penalty        21\n",
       "Grade 5 Qualifying Heat               21\n",
       "Novice Final                           8\n",
       "Grade 5 Quali Final                    8\n",
       "Grade 3                                7\n",
       "Special Event Non Penalty              5\n",
       "Name: grade, dtype: int64"
      ]
     },
     "metadata": {},
     "execution_count": 14
    }
   ],
   "metadata": {}
  },
  {
   "cell_type": "code",
   "execution_count": 13,
   "source": [
    "#generates adjusted place to transfer to form results\r\n",
    "\r\n",
    "dfsorted = df.sort_values(['box'])\r\n",
    "dfsorted['place_adj'] = 1/(dfsorted[\"place\"])\r\n",
    "grouped = dfsorted.groupby(['race_id'])\r\n",
    "\r\n",
    "for group in grouped:\r\n",
    "    \r\n",
    "    print(group[1])\r\n",
    "    break\r\n",
    " "
   ],
   "outputs": [
    {
     "output_type": "stream",
     "name": "stdout",
     "text": [
      "         race_id      track  dist         grade  place      dog_id  box  \\\n",
      "312035  12539914  Traralgon  525m  Maiden Final    8.0   109032142    1   \n",
      "312031  12539914  Traralgon  525m  Maiden Final    4.0   145856635    2   \n",
      "312033  12539914  Traralgon  525m  Maiden Final    6.0  2131520028    3   \n",
      "312030  12539914  Traralgon  525m  Maiden Final    3.0   167542442    4   \n",
      "312029  12539914  Traralgon  525m  Maiden Final    2.0   128006011    5   \n",
      "312034  12539914  Traralgon  525m  Maiden Final    7.0  1199430051    6   \n",
      "312032  12539914  Traralgon  525m  Maiden Final    5.0   159734832    7   \n",
      "312028  12539914  Traralgon  525m  Maiden Final    1.0   115367782    8   \n",
      "\n",
      "        split_times  split_margins  run_time  place_adj  \n",
      "312035         5.06           0.20     32.31   0.125000  \n",
      "312031         5.06           0.20     31.53   0.250000  \n",
      "312033         5.06           0.20     31.70   0.166667  \n",
      "312030         4.90           0.04     31.31   0.333333  \n",
      "312029         5.04           0.18     31.09   0.500000  \n",
      "312034         5.04           0.18     32.13   0.142857  \n",
      "312032         4.95           0.09     31.58   0.200000  \n",
      "312028         4.86           0.00     31.08   1.000000  \n"
     ]
    }
   ],
   "metadata": {}
  },
  {
   "cell_type": "code",
   "execution_count": 15,
   "source": [
    "dfsorted.to_csv(\"masterfilenew.csv\")\r\n"
   ],
   "outputs": [],
   "metadata": {}
  },
  {
   "cell_type": "code",
   "execution_count": null,
   "source": [
    "\r\n",
    "    "
   ],
   "outputs": [],
   "metadata": {}
  }
 ],
 "metadata": {
  "kernelspec": {
   "name": "python3",
   "display_name": "Python 3.9.2 64-bit ('pytorch': conda)"
  },
  "language_info": {
   "codemirror_mode": {
    "name": "ipython",
    "version": 3
   },
   "file_extension": ".py",
   "mimetype": "text/x-python",
   "name": "python",
   "nbconvert_exporter": "python",
   "pygments_lexer": "ipython3",
   "version": "3.9.2"
  },
  "interpreter": {
   "hash": "bfbc89c8622a84d0dd68be4d1447c40cc119f7a41d05894739daaf06a08adac1"
  }
 },
 "nbformat": 4,
 "nbformat_minor": 2
}