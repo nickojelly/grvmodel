{
 "cells": [
  {
   "cell_type": "code",
   "execution_count": null,
   "metadata": {},
   "outputs": [],
   "source": [
    "likelihood = [\"Rare\", \"Unlikely\", \"Possible\", \"Likely\", \"Almost Certain\"]\n",
    "Consq = [\"Minor\", \"Moderate\", \"Major\", \"Critical\", ]"
   ]
  }
 ],
 "metadata": {
  "language_info": {
   "name": "python"
  },
  "orig_nbformat": 4
 },
 "nbformat": 4,
 "nbformat_minor": 2
}
