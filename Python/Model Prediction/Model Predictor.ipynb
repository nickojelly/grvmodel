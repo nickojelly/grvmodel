{
 "cells": [
  {
   "cell_type": "code",
   "execution_count": 1,
   "metadata": {},
   "outputs": [
    {
     "name": "stderr",
     "output_type": "stream",
     "text": [
      "<frozen importlib._bootstrap>:228: RuntimeWarning: scipy._lib.messagestream.MessageStream size changed, may indicate binary incompatibility. Expected 56 from C header, got 64 from PyObject\n"
     ]
    }
   ],
   "source": [
    "import pickle\n",
    "import pandas as pd\n",
    "import os\n",
    "import torch\n",
    "\n",
    "import betfairlightweight\n",
    "from betfairlightweight import filters\n",
    "from datetime import datetime\n",
    "from datetime import timedelta\n",
    "from dateutil import tz\n",
    "import math\n",
    "import numpy as np\n",
    "import pandas as pd\n",
    "from scipy.stats import zscore\n",
    "from sklearn.linear_model import LogisticRegression\n",
    "import fasttrack as ft\n",
    "import importlib\n",
    "import featurecreations"
   ]
  },
  {
   "cell_type": "code",
   "execution_count": 2,
   "metadata": {},
   "outputs": [
    {
     "name": "stdout",
     "output_type": "stream",
     "text": [
      "Valid Security Key\n"
     ]
    }
   ],
   "source": [
    "seckey = \"50efd775-e988-4be3-924f-87631fabdc3f\"\n",
    "greys = ft.Fasttrack(seckey)"
   ]
  },
  {
   "cell_type": "code",
   "execution_count": 3,
   "metadata": {},
   "outputs": [
    {
     "data": {
      "text/plain": [
       "'2023-01-17'"
      ]
     },
     "execution_count": 3,
     "metadata": {},
     "output_type": "execute_result"
    }
   ],
   "source": [
    "today = datetime.today().strftime('%Y-%m-%d')\n",
    "today"
   ]
  },
  {
   "cell_type": "code",
   "execution_count": 4,
   "metadata": {},
   "outputs": [
    {
     "name": "stdout",
     "output_type": "stream",
     "text": [
      "Getting meets for each date ..\n"
     ]
    },
    {
     "name": "stderr",
     "output_type": "stream",
     "text": [
      "100%|██████████| 1/1 [00:00<00:00,  2.16it/s]\n"
     ]
    },
    {
     "name": "stdout",
     "output_type": "stream",
     "text": [
      "Getting dog lineups ..\n"
     ]
    },
    {
     "name": "stderr",
     "output_type": "stream",
     "text": [
      "100%|██████████| 14/14 [00:09<00:00,  1.41it/s]\n"
     ]
    }
   ],
   "source": [
    "importlib.reload(ft)\n",
    "today = datetime.today().strftime('%Y-%m-%d')\n",
    "race_details, dog_results = greys.getBasicFormat(today, dt_end=today)\n",
    "race_details = race_details[['@id', 'RaceNum', 'Distance', 'Date','RaceTime', 'RaceName', 'RaceGrade', 'Track']]\n",
    "race_details['RaceId'] = race_details['@id']\n",
    "dog_results = dog_results[['@id', 'RaceBox', 'DogName', 'RaceId']]\n",
    "dog_results['DogId'] = dog_results['@id']\n",
    "dog_results['box'] = dog_results['RaceBox']"
   ]
  },
  {
   "cell_type": "code",
   "execution_count": 5,
   "metadata": {},
   "outputs": [],
   "source": [
    "prediction_df = pd.merge(dog_results,race_details, how='left', on='RaceId')"
   ]
  },
  {
   "cell_type": "code",
   "execution_count": 6,
   "metadata": {},
   "outputs": [
    {
     "name": "stderr",
     "output_type": "stream",
     "text": [
      "  0%|          | 0/150 [00:00<?, ?it/s]"
     ]
    },
    {
     "name": "stdout",
     "output_type": "stream",
     "text": [
      "<pandas.core.groupby.generic.DataFrameGroupBy object at 0x00000251DD438A90>\n"
     ]
    },
    {
     "name": "stderr",
     "output_type": "stream",
     "text": [
      "  5%|▍         | 7/150 [00:00<00:06, 22.88it/s]"
     ]
    },
    {
     "name": "stdout",
     "output_type": "stream",
     "text": [
      "'706804801'\n",
      "'662310483'\n"
     ]
    },
    {
     "name": "stderr",
     "output_type": "stream",
     "text": [
      " 13%|█▎        | 19/150 [00:00<00:03, 39.60it/s]"
     ]
    },
    {
     "name": "stdout",
     "output_type": "stream",
     "text": [
      "'664193740'\n"
     ]
    },
    {
     "name": "stderr",
     "output_type": "stream",
     "text": [
      " 24%|██▍       | 36/150 [00:00<00:02, 47.78it/s]"
     ]
    },
    {
     "name": "stdout",
     "output_type": "stream",
     "text": [
      "'718695522'\n"
     ]
    },
    {
     "name": "stderr",
     "output_type": "stream",
     "text": [
      " 37%|███▋      | 55/150 [00:01<00:01, 51.42it/s]"
     ]
    },
    {
     "name": "stdout",
     "output_type": "stream",
     "text": [
      "'782101724'\n",
      "'718777928'\n",
      "'680702223'\n",
      "'779220403'\n",
      "'669960252'\n",
      "'825269405'\n",
      "'647615205'\n",
      "'710478181'\n",
      "'680702224'\n"
     ]
    },
    {
     "name": "stderr",
     "output_type": "stream",
     "text": [
      " 45%|████▍     | 67/150 [00:01<00:01, 50.97it/s]"
     ]
    },
    {
     "name": "stdout",
     "output_type": "stream",
     "text": [
      "'710534397'\n",
      "'718777439'\n",
      "'677865093'\n",
      "'694775785'\n",
      "'681919127'\n"
     ]
    },
    {
     "name": "stderr",
     "output_type": "stream",
     "text": [
      " 57%|█████▋    | 86/150 [00:01<00:01, 54.79it/s]"
     ]
    },
    {
     "name": "stdout",
     "output_type": "stream",
     "text": [
      "'718776932'\n",
      "'679825487'\n",
      "'714917500'\n"
     ]
    },
    {
     "name": "stderr",
     "output_type": "stream",
     "text": [
      " 76%|███████▌  | 114/150 [00:02<00:00, 53.61it/s]"
     ]
    },
    {
     "name": "stdout",
     "output_type": "stream",
     "text": [
      "'710534346'\n",
      "'656364125'\n",
      "'656363117'\n",
      "'705700613'\n",
      "'705701102'\n",
      "'633121251'\n",
      "'726169477'\n"
     ]
    },
    {
     "name": "stderr",
     "output_type": "stream",
     "text": [
      " 84%|████████▍ | 126/150 [00:02<00:00, 50.11it/s]"
     ]
    },
    {
     "name": "stdout",
     "output_type": "stream",
     "text": [
      "'710534430'\n"
     ]
    },
    {
     "name": "stderr",
     "output_type": "stream",
     "text": [
      " 88%|████████▊ | 132/150 [00:02<00:00, 51.16it/s]"
     ]
    },
    {
     "name": "stdout",
     "output_type": "stream",
     "text": [
      "'685380602'\n",
      "'665396155'\n",
      "'685380603'\n",
      "'718777885'\n",
      "'675830470'\n",
      "'694775789'\n",
      "'718776875'\n",
      "'675830472'\n",
      "'694776829'\n",
      "'665430230'\n"
     ]
    },
    {
     "name": "stderr",
     "output_type": "stream",
     "text": [
      "100%|██████████| 150/150 [00:03<00:00, 48.37it/s]\n"
     ]
    }
   ],
   "source": [
    "importlib.reload(featurecreations)\n",
    "x = featurecreations.generate_prediction_dataframe(\"test\", prediction_df)"
   ]
  },
  {
   "cell_type": "code",
   "execution_count": 8,
   "metadata": {},
   "outputs": [
    {
     "data": {
      "text/html": [
       "<div>\n",
       "<style scoped>\n",
       "    .dataframe tbody tr th:only-of-type {\n",
       "        vertical-align: middle;\n",
       "    }\n",
       "\n",
       "    .dataframe tbody tr th {\n",
       "        vertical-align: top;\n",
       "    }\n",
       "\n",
       "    .dataframe thead th {\n",
       "        text-align: right;\n",
       "    }\n",
       "</style>\n",
       "<table border=\"1\" class=\"dataframe\">\n",
       "  <thead>\n",
       "    <tr style=\"text-align: right;\">\n",
       "      <th></th>\n",
       "      <th>dogid</th>\n",
       "      <th>dog_name</th>\n",
       "      <th>raceid</th>\n",
       "      <th>race_grade</th>\n",
       "      <th>date</th>\n",
       "      <th>trackOHE</th>\n",
       "      <th>track_name</th>\n",
       "      <th>dist</th>\n",
       "      <th>stats</th>\n",
       "      <th>prev_race</th>\n",
       "      <th>race_time</th>\n",
       "    </tr>\n",
       "  </thead>\n",
       "  <tbody>\n",
       "    <tr>\n",
       "      <th>0</th>\n",
       "      <td>684153075</td>\n",
       "      <td>THAT'S RARE</td>\n",
       "      <td>864527126</td>\n",
       "      <td>Maiden</td>\n",
       "      <td>2023-01-17</td>\n",
       "      <td>[0, 0, 0, 0, 0, 0, 0, 0, 0, 0, 0, 0, 0, 0, 0, ...</td>\n",
       "      <td>Horsham</td>\n",
       "      <td>410.0</td>\n",
       "      <td>[1, 0.05854471544715447, 0.0011367877275452625...</td>\n",
       "      <td>854127863</td>\n",
       "      <td>09:32AM</td>\n",
       "    </tr>\n",
       "    <tr>\n",
       "      <th>1</th>\n",
       "      <td>643584609</td>\n",
       "      <td>WEIRD WAYS</td>\n",
       "      <td>864527126</td>\n",
       "      <td>Maiden</td>\n",
       "      <td>2023-01-17</td>\n",
       "      <td>[0, 0, 0, 0, 0, 0, 0, 0, 0, 0, 0, 0, 0, 0, 0, ...</td>\n",
       "      <td>Horsham</td>\n",
       "      <td>410.0</td>\n",
       "      <td>[2, 0.059113402061855676, -1, 0.05911340206185...</td>\n",
       "      <td>833865910</td>\n",
       "      <td>09:32AM</td>\n",
       "    </tr>\n",
       "    <tr>\n",
       "      <th>2</th>\n",
       "      <td>706804801</td>\n",
       "      <td>MOONLIGHT STORM</td>\n",
       "      <td>864527126</td>\n",
       "      <td>Maiden</td>\n",
       "      <td>2023-01-17</td>\n",
       "      <td>[0, 0, 0, 0, 0, 0, 0, 0, 0, 0, 0, 0, 0, 0, 0, ...</td>\n",
       "      <td>Horsham</td>\n",
       "      <td>410.0</td>\n",
       "      <td>[3, -1, -1, -1, -1, -1, -1, -1, -1, -1, -1, -1...</td>\n",
       "      <td>-1</td>\n",
       "      <td>09:32AM</td>\n",
       "    </tr>\n",
       "    <tr>\n",
       "      <th>3</th>\n",
       "      <td>662310483</td>\n",
       "      <td>CHANGING EYES</td>\n",
       "      <td>864527126</td>\n",
       "      <td>Maiden</td>\n",
       "      <td>2023-01-17</td>\n",
       "      <td>[0, 0, 0, 0, 0, 0, 0, 0, 0, 0, 0, 0, 0, 0, 0, ...</td>\n",
       "      <td>Horsham</td>\n",
       "      <td>410.0</td>\n",
       "      <td>[4, -1, -1, -1, -1, -1, -1, -1, -1, -1, -1, -1...</td>\n",
       "      <td>-1</td>\n",
       "      <td>09:32AM</td>\n",
       "    </tr>\n",
       "    <tr>\n",
       "      <th>4</th>\n",
       "      <td>695485197</td>\n",
       "      <td>CEMENT MIXER</td>\n",
       "      <td>864527126</td>\n",
       "      <td>Maiden</td>\n",
       "      <td>2023-01-17</td>\n",
       "      <td>[0, 0, 0, 0, 0, 0, 0, 0, 0, 0, 0, 0, 0, 0, 0, ...</td>\n",
       "      <td>Horsham</td>\n",
       "      <td>410.0</td>\n",
       "      <td>[5, 0.060000000000000005, -1, 0.06000000000000...</td>\n",
       "      <td>862249577</td>\n",
       "      <td>09:32AM</td>\n",
       "    </tr>\n",
       "    <tr>\n",
       "      <th>...</th>\n",
       "      <td>...</td>\n",
       "      <td>...</td>\n",
       "      <td>...</td>\n",
       "      <td>...</td>\n",
       "      <td>...</td>\n",
       "      <td>...</td>\n",
       "      <td>...</td>\n",
       "      <td>...</td>\n",
       "      <td>...</td>\n",
       "      <td>...</td>\n",
       "      <td>...</td>\n",
       "    </tr>\n",
       "    <tr>\n",
       "      <th>1110</th>\n",
       "      <td>357308212</td>\n",
       "      <td>TONY'S RESCUE</td>\n",
       "      <td>863837897</td>\n",
       "      <td>GRADE 5  PATHWAY NON-PENALTY</td>\n",
       "      <td>2023-01-17</td>\n",
       "      <td>[0, 0, 0, 0, 0, 0, 0, 0, 0, 0, 0, 0, 0, 0, 0, ...</td>\n",
       "      <td>Ipswich</td>\n",
       "      <td>431.0</td>\n",
       "      <td>[4, 0.05892928556954403, 0.0010273708581745847...</td>\n",
       "      <td>500539207</td>\n",
       "      <td>05:57PM</td>\n",
       "    </tr>\n",
       "    <tr>\n",
       "      <th>1111</th>\n",
       "      <td>638803096</td>\n",
       "      <td>BUNDY TRIGGER</td>\n",
       "      <td>863837897</td>\n",
       "      <td>GRADE 5  PATHWAY NON-PENALTY</td>\n",
       "      <td>2023-01-17</td>\n",
       "      <td>[0, 0, 0, 0, 0, 0, 0, 0, 0, 0, 0, 0, 0, 0, 0, ...</td>\n",
       "      <td>Ipswich</td>\n",
       "      <td>431.0</td>\n",
       "      <td>[5, 0.0596105455626284, 0.0015224622184925327,...</td>\n",
       "      <td>775473913</td>\n",
       "      <td>05:57PM</td>\n",
       "    </tr>\n",
       "    <tr>\n",
       "      <th>1112</th>\n",
       "      <td>540632271</td>\n",
       "      <td>ROCKING THE ARES</td>\n",
       "      <td>863837897</td>\n",
       "      <td>GRADE 5  PATHWAY NON-PENALTY</td>\n",
       "      <td>2023-01-17</td>\n",
       "      <td>[0, 0, 0, 0, 0, 0, 0, 0, 0, 0, 0, 0, 0, 0, 0, ...</td>\n",
       "      <td>Ipswich</td>\n",
       "      <td>431.0</td>\n",
       "      <td>[6, 0.05980167733339246, 0.0014602356938039612...</td>\n",
       "      <td>771810553</td>\n",
       "      <td>05:57PM</td>\n",
       "    </tr>\n",
       "    <tr>\n",
       "      <th>1113</th>\n",
       "      <td>603189046</td>\n",
       "      <td>PATRICIA'S PRIDE</td>\n",
       "      <td>863837897</td>\n",
       "      <td>GRADE 5  PATHWAY NON-PENALTY</td>\n",
       "      <td>2023-01-17</td>\n",
       "      <td>[0, 0, 0, 0, 0, 0, 0, 0, 0, 0, 0, 0, 0, 0, 0, ...</td>\n",
       "      <td>Ipswich</td>\n",
       "      <td>431.0</td>\n",
       "      <td>[7, 0.06045197942422161, 0.0008527925624234105...</td>\n",
       "      <td>617984308</td>\n",
       "      <td>05:57PM</td>\n",
       "    </tr>\n",
       "    <tr>\n",
       "      <th>1114</th>\n",
       "      <td>341854862</td>\n",
       "      <td>CAWBOURNE BONNIE</td>\n",
       "      <td>863837897</td>\n",
       "      <td>GRADE 5  PATHWAY NON-PENALTY</td>\n",
       "      <td>2023-01-17</td>\n",
       "      <td>[0, 0, 0, 0, 0, 0, 0, 0, 0, 0, 0, 0, 0, 0, 0, ...</td>\n",
       "      <td>Ipswich</td>\n",
       "      <td>431.0</td>\n",
       "      <td>[8, 0.060591329564691994, 0.001064673186937390...</td>\n",
       "      <td>546213292</td>\n",
       "      <td>05:57PM</td>\n",
       "    </tr>\n",
       "  </tbody>\n",
       "</table>\n",
       "<p>1115 rows × 11 columns</p>\n",
       "</div>"
      ],
      "text/plain": [
       "          dogid          dog_name     raceid                    race_grade  \\\n",
       "0     684153075       THAT'S RARE  864527126                        Maiden   \n",
       "1     643584609        WEIRD WAYS  864527126                        Maiden   \n",
       "2     706804801   MOONLIGHT STORM  864527126                        Maiden   \n",
       "3     662310483     CHANGING EYES  864527126                        Maiden   \n",
       "4     695485197      CEMENT MIXER  864527126                        Maiden   \n",
       "...         ...               ...        ...                           ...   \n",
       "1110  357308212     TONY'S RESCUE  863837897  GRADE 5  PATHWAY NON-PENALTY   \n",
       "1111  638803096     BUNDY TRIGGER  863837897  GRADE 5  PATHWAY NON-PENALTY   \n",
       "1112  540632271  ROCKING THE ARES  863837897  GRADE 5  PATHWAY NON-PENALTY   \n",
       "1113  603189046  PATRICIA'S PRIDE  863837897  GRADE 5  PATHWAY NON-PENALTY   \n",
       "1114  341854862  CAWBOURNE BONNIE  863837897  GRADE 5  PATHWAY NON-PENALTY   \n",
       "\n",
       "           date                                           trackOHE track_name  \\\n",
       "0    2023-01-17  [0, 0, 0, 0, 0, 0, 0, 0, 0, 0, 0, 0, 0, 0, 0, ...    Horsham   \n",
       "1    2023-01-17  [0, 0, 0, 0, 0, 0, 0, 0, 0, 0, 0, 0, 0, 0, 0, ...    Horsham   \n",
       "2    2023-01-17  [0, 0, 0, 0, 0, 0, 0, 0, 0, 0, 0, 0, 0, 0, 0, ...    Horsham   \n",
       "3    2023-01-17  [0, 0, 0, 0, 0, 0, 0, 0, 0, 0, 0, 0, 0, 0, 0, ...    Horsham   \n",
       "4    2023-01-17  [0, 0, 0, 0, 0, 0, 0, 0, 0, 0, 0, 0, 0, 0, 0, ...    Horsham   \n",
       "...         ...                                                ...        ...   \n",
       "1110 2023-01-17  [0, 0, 0, 0, 0, 0, 0, 0, 0, 0, 0, 0, 0, 0, 0, ...    Ipswich   \n",
       "1111 2023-01-17  [0, 0, 0, 0, 0, 0, 0, 0, 0, 0, 0, 0, 0, 0, 0, ...    Ipswich   \n",
       "1112 2023-01-17  [0, 0, 0, 0, 0, 0, 0, 0, 0, 0, 0, 0, 0, 0, 0, ...    Ipswich   \n",
       "1113 2023-01-17  [0, 0, 0, 0, 0, 0, 0, 0, 0, 0, 0, 0, 0, 0, 0, ...    Ipswich   \n",
       "1114 2023-01-17  [0, 0, 0, 0, 0, 0, 0, 0, 0, 0, 0, 0, 0, 0, 0, ...    Ipswich   \n",
       "\n",
       "       dist                                              stats  prev_race  \\\n",
       "0     410.0  [1, 0.05854471544715447, 0.0011367877275452625...  854127863   \n",
       "1     410.0  [2, 0.059113402061855676, -1, 0.05911340206185...  833865910   \n",
       "2     410.0  [3, -1, -1, -1, -1, -1, -1, -1, -1, -1, -1, -1...         -1   \n",
       "3     410.0  [4, -1, -1, -1, -1, -1, -1, -1, -1, -1, -1, -1...         -1   \n",
       "4     410.0  [5, 0.060000000000000005, -1, 0.06000000000000...  862249577   \n",
       "...     ...                                                ...        ...   \n",
       "1110  431.0  [4, 0.05892928556954403, 0.0010273708581745847...  500539207   \n",
       "1111  431.0  [5, 0.0596105455626284, 0.0015224622184925327,...  775473913   \n",
       "1112  431.0  [6, 0.05980167733339246, 0.0014602356938039612...  771810553   \n",
       "1113  431.0  [7, 0.06045197942422161, 0.0008527925624234105...  617984308   \n",
       "1114  431.0  [8, 0.060591329564691994, 0.001064673186937390...  546213292   \n",
       "\n",
       "     race_time  \n",
       "0      09:32AM  \n",
       "1      09:32AM  \n",
       "2      09:32AM  \n",
       "3      09:32AM  \n",
       "4      09:32AM  \n",
       "...        ...  \n",
       "1110   05:57PM  \n",
       "1111   05:57PM  \n",
       "1112   05:57PM  \n",
       "1113   05:57PM  \n",
       "1114   05:57PM  \n",
       "\n",
       "[1115 rows x 11 columns]"
      ]
     },
     "execution_count": 8,
     "metadata": {},
     "output_type": "execute_result"
    }
   ],
   "source": [
    "x"
   ]
  },
  {
   "cell_type": "code",
   "execution_count": 38,
   "metadata": {},
   "outputs": [
    {
     "data": {
      "text/plain": [
       "74"
      ]
     },
     "execution_count": 38,
     "metadata": {},
     "output_type": "execute_result"
    }
   ],
   "source": [
    "len(x['trackOHE'].iloc[0])"
   ]
  },
  {
   "cell_type": "code",
   "execution_count": 55,
   "metadata": {},
   "outputs": [],
   "source": [
    "with open('pred_df 2023-01-12.npy', 'wb') as file:\n",
    "    pickle.dump(x, file)"
   ]
  },
  {
   "cell_type": "code",
   "execution_count": 10,
   "metadata": {},
   "outputs": [
    {
     "data": {
      "text/plain": [
       "'c:\\\\Users\\\\Nick\\\\Documents\\\\GitHub\\\\grvmodel\\\\Python\\\\Model Prediction'"
      ]
     },
     "execution_count": 10,
     "metadata": {},
     "output_type": "execute_result"
    }
   ],
   "source": [
    "os.getcwd()"
   ]
  }
 ],
 "metadata": {
  "kernelspec": {
   "display_name": "pytorch",
   "language": "python",
   "name": "python3"
  },
  "language_info": {
   "codemirror_mode": {
    "name": "ipython",
    "version": 3
   },
   "file_extension": ".py",
   "mimetype": "text/x-python",
   "name": "python",
   "nbconvert_exporter": "python",
   "pygments_lexer": "ipython3",
   "version": "3.9.12"
  },
  "orig_nbformat": 4,
  "vscode": {
   "interpreter": {
    "hash": "43115443075634c02a7c247a87b0dd9d74842892e56d473b9e19f544f3149aff"
   }
  }
 },
 "nbformat": 4,
 "nbformat_minor": 2
}
