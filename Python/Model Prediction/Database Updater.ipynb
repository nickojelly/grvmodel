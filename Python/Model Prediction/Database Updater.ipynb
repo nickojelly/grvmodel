{
 "cells": [
  {
   "cell_type": "code",
   "execution_count": 1,
   "metadata": {},
   "outputs": [
    {
     "name": "stderr",
     "output_type": "stream",
     "text": [
      "<frozen importlib._bootstrap>:228: RuntimeWarning: scipy._lib.messagestream.MessageStream size changed, may indicate binary incompatibility. Expected 56 from C header, got 64 from PyObject\n"
     ]
    }
   ],
   "source": [
    "import pickle\n",
    "import pandas as pd\n",
    "import os\n",
    "import torch\n",
    "\n",
    "import betfairlightweight\n",
    "from betfairlightweight import filters\n",
    "from datetime import datetime\n",
    "from datetime import timedelta\n",
    "from dateutil import tz\n",
    "import math\n",
    "import numpy as np\n",
    "import pandas as pd\n",
    "from scipy.stats import zscore\n",
    "from sklearn.linear_model import LogisticRegression\n",
    "import fasttrack as ft\n",
    "import importlib\n",
    "import featurecreations\n",
    "from tqdm.notebook import tqdm\n",
    "from sklearn.preprocessing import OneHotEncoder\n"
   ]
  },
  {
   "cell_type": "code",
   "execution_count": 14,
   "metadata": {},
   "outputs": [],
   "source": [
    "# Standard locations\n",
    "betfair_sp_file = (\n",
    "    r\"C:\\Users\\Nick\\Documents\\GitHub\\grvmodel\\Python\\DATA\\df-betfairSP.npy\"\n",
    ")\n",
    "previous_results_file = (\n",
    "    r\"C:\\Users\\Nick\\Documents\\GitHub\\grvmodel\\Python\\DATA\\all-results-db.npy\"\n",
    ")\n",
    "split_dist_file = (\n",
    "    r\"C:\\Users\\Nick\\Documents\\GitHub\\grvmodel\\Python\\DATA\\split_dist_ft.csv\"\n",
    ")\n",
    "prev_full_details = r\"C:\\Users\\Nick\\Documents\\GitHub\\grvmodel\\Python\\DATA\\full_race_details_ft.csv\"\n"
   ]
  },
  {
   "cell_type": "code",
   "execution_count": 20,
   "metadata": {},
   "outputs": [
    {
     "name": "stdout",
     "output_type": "stream",
     "text": [
      "Valid Security Key\n",
      "Getting meets for each date ..\n"
     ]
    },
    {
     "name": "stderr",
     "output_type": "stream",
     "text": [
      "100%|██████████| 43/43 [00:23<00:00,  1.83it/s]\n"
     ]
    },
    {
     "name": "stdout",
     "output_type": "stream",
     "text": [
      "Getting historic results details ..\n"
     ]
    },
    {
     "name": "stderr",
     "output_type": "stream",
     "text": [
      "100%|██████████| 562/562 [06:03<00:00,  1.55it/s]\n"
     ]
    }
   ],
   "source": [
    "importlib.reload(ft)\n",
    "today = datetime.today().strftime('%Y-%m-%d')\n",
    "seckey = \"50efd775-e988-4be3-924f-87631fabdc3f\"\n",
    "greys = ft.Fasttrack(seckey)\n",
    "race_details, dog_results = greys.getRaceResults('2022-12-01', dt_end=today)"
   ]
  },
  {
   "cell_type": "code",
   "execution_count": 21,
   "metadata": {},
   "outputs": [
    {
     "name": "stderr",
     "output_type": "stream",
     "text": [
      "c:\\Users\\Nick\\Documents\\GitHub\\grvmodel\\Python\\Model Prediction\\featurecreations.py:200: SettingWithCopyWarning: \n",
      "A value is trying to be set on a copy of a slice from a DataFrame.\n",
      "Try using .loc[row_indexer,col_indexer] = value instead\n",
      "\n",
      "See the caveats in the documentation: https://pandas.pydata.org/pandas-docs/stable/user_guide/indexing.html#returning-a-view-versus-a-copy\n",
      "  race_details['RaceId'] = race_details['@id']\n"
     ]
    },
    {
     "name": "stdout",
     "output_type": "stream",
     "text": [
      "(51110, 19)\n",
      "(42915, 19)\n",
      "<pandas.core.groupby.generic.DataFrameGroupBy object at 0x000001B890B3F9D0>\n"
     ]
    },
    {
     "name": "stderr",
     "output_type": "stream",
     "text": [
      "100%|██████████| 155095/155095 [52:58<00:00, 48.80it/s]  \n"
     ]
    }
   ],
   "source": [
    "importlib.reload(featurecreations)\n",
    "x = featurecreations.generate_results_df(previous_results_file, dog_results, race_details, betfair_sp_file, split_dist_file)"
   ]
  },
  {
   "cell_type": "code",
   "execution_count": 23,
   "metadata": {},
   "outputs": [
    {
     "data": {
      "text/plain": [
       "74"
      ]
     },
     "execution_count": 23,
     "metadata": {},
     "output_type": "execute_result"
    }
   ],
   "source": [
    "len(x.trackOHE.iloc[0])"
   ]
  },
  {
   "cell_type": "code",
   "execution_count": 24,
   "metadata": {},
   "outputs": [],
   "source": [
    "with open(\"new gru input 2023-01.npy\", \"wb\") as fp:   #Pickling\n",
    "    \n",
    "    pickle.dump(x, fp)"
   ]
  },
  {
   "cell_type": "code",
   "execution_count": 64,
   "metadata": {},
   "outputs": [],
   "source": [
    "os.getcwd()\n",
    "os.chdir(r\"C:\\Users\\Nick\\Documents\\GitHub\\grvmodel\\Python\\DATA\")\n",
    "race_ft_details = pd.DataFrame(pickle.load(open('race_details_ft.npy','rb')), columns=['@id', 'RaceNum', 'RaceName','RaceTime', 'Distance', 'RaceGrade', 'Track', 'date'])\n",
    "race_ft_details['RaceId'] = race_ft_details['@id'] \n",
    "dog_ft_details = pd.DataFrame(pickle.load(open('dog_details_ft.npy','rb')))\n",
    "dog_ft_details['DogId'] =   dog_ft_details['@id']\n",
    "full_details = pd.merge(race_ft_details,dog_ft_details, 'right', on='RaceId')"
   ]
  }
 ],
 "metadata": {
  "kernelspec": {
   "display_name": "pytorch",
   "language": "python",
   "name": "python3"
  },
  "language_info": {
   "codemirror_mode": {
    "name": "ipython",
    "version": 3
   },
   "file_extension": ".py",
   "mimetype": "text/x-python",
   "name": "python",
   "nbconvert_exporter": "python",
   "pygments_lexer": "ipython3",
   "version": "3.9.12 | packaged by conda-forge | (main, Mar 24 2022, 23:17:03) [MSC v.1929 64 bit (AMD64)]"
  },
  "orig_nbformat": 4,
  "vscode": {
   "interpreter": {
    "hash": "43115443075634c02a7c247a87b0dd9d74842892e56d473b9e19f544f3149aff"
   }
  }
 },
 "nbformat": 4,
 "nbformat_minor": 2
}
