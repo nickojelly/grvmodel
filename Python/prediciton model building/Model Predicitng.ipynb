{
 "cells": [
  {
   "cell_type": "code",
   "execution_count": 10,
   "metadata": {},
   "outputs": [],
   "source": [
    "import pickle\n",
    "import pandas as pd\n",
    "import os\n",
    "import torch\n",
    "import numpy as np\n",
    "import torch.nn as nn\n",
    "import torch.nn.functional as F\n",
    "import torch.optim as optim\n",
    "from tqdm import tqdm\n",
    "import torch.optim as optim\n",
    "from torch.utils.data import TensorDataset, DataLoader\n",
    "import wandb\n",
    "from torch.utils.data.sampler import SubsetRandomSampler\n",
    "import pprint\n",
    "import matplotlib.pyplot as plt\n",
    "import torch\n",
    "from sklearn.preprocessing import MinMaxScaler"
   ]
  },
  {
   "cell_type": "code",
   "execution_count": 11,
   "metadata": {},
   "outputs": [
    {
     "name": "stdout",
     "output_type": "stream",
     "text": [
      "Running on the GPU\n"
     ]
    }
   ],
   "source": [
    "if torch.cuda.is_available():\n",
    "    device = torch.device(\"cuda:0\")  # you can continue going on here, like cuda:1 cuda:2....etc.\n",
    "    print(\"Running on the GPU\")\n",
    "else:\n",
    "    device = torch.device(\"cpu\")\n",
    "    print(\"Running on the CPU\")"
   ]
  },
  {
   "cell_type": "code",
   "execution_count": 12,
   "metadata": {},
   "outputs": [],
   "source": [
    "def build_network(f1_layer_size, f2_layer_size, dropout, num_layers=2):\n",
    "\n",
    "    if num_layers == 2:\n",
    "        network = nn.Sequential(  # fully-connected, dual hidden layer\n",
    "            nn.Linear(144, f1_layer_size),\n",
    "            nn.ReLU(),\n",
    "            nn.Dropout(dropout),\n",
    "            nn.Linear(f1_layer_size, f2_layer_size),\n",
    "            nn.ReLU(),\n",
    "            nn.Dropout(dropout),\n",
    "            nn.Linear(f2_layer_size, 8),\n",
    "            nn.Softmax(dim=1),\n",
    "        )\n",
    "\n",
    "    else:\n",
    "        network = nn.Sequential(  # fully-connected, dual hidden layer\n",
    "            nn.Linear(120, f1_layer_size),\n",
    "            nn.ReLU(),\n",
    "            nn.Dropout(dropout),\n",
    "            nn.Linear(f1_layer_size, f2_layer_size),\n",
    "            nn.ReLU(),\n",
    "            nn.Dropout(dropout),\n",
    "            nn.Linear(f2_layer_size, f2_layer_size),\n",
    "            nn.ReLU(),\n",
    "            nn.Dropout(dropout),\n",
    "            nn.Linear(f2_layer_size, 8),\n",
    "            nn.Softmax(dim=1),\n",
    "        )\n",
    "\n",
    "\n",
    "    return network"
   ]
  },
  {
   "cell_type": "code",
   "execution_count": 13,
   "metadata": {},
   "outputs": [],
   "source": [
    "PATH = r\"C:\\Users\\Nick\\Documents\\GitHub\\grvmodel\\Python\\pytorch\\New Model\\good models\\lemon-sweep-1_990.pt\"\n",
    "checkpoint = torch.load(PATH)\n",
    "# \n",
    "# epoch,model_sd,optim_sd,loss_sd = \n"
   ]
  },
  {
   "cell_type": "code",
   "execution_count": 14,
   "metadata": {},
   "outputs": [
    {
     "data": {
      "text/plain": [
       "Sequential(\n",
       "  (0): Linear(in_features=144, out_features=256, bias=True)\n",
       "  (1): ReLU()\n",
       "  (2): Dropout(p=0.3, inplace=False)\n",
       "  (3): Linear(in_features=256, out_features=64, bias=True)\n",
       "  (4): ReLU()\n",
       "  (5): Dropout(p=0.3, inplace=False)\n",
       "  (6): Linear(in_features=64, out_features=8, bias=True)\n",
       "  (7): Softmax(dim=1)\n",
       ")"
      ]
     },
     "execution_count": 14,
     "metadata": {},
     "output_type": "execute_result"
    }
   ],
   "source": [
    "model = build_network(256 ,64,0.3,2)\n",
    "model.load_state_dict(checkpoint[\"model_state_dict\"])\n",
    "model.eval()"
   ]
  },
  {
   "cell_type": "code",
   "execution_count": 15,
   "metadata": {},
   "outputs": [
    {
     "name": "stdout",
     "output_type": "stream",
     "text": [
      "832364915 ['BARRY ALLAN', 'WALDEN BALE', 'BROOKLYN STAR', 'ISHMY BELLE', 'SCOTT ME', 'DALLAS JANE', 'DELINQUENT', 'ESPECIAL HARVEY']\n",
      "832364916 ['FLYING JARRAD', \"OSWALD'S DELIGHT\", 'DOWN UNDER MISS', 'SCOTT MONSTER', 'MISS TINGLES', 'FORWARD STEP', 'RUSHWORTH', 'CONFOUND']\n",
      "832364914 ['PATCHWORK PANDA', 'NO JEWELS', 'TWENTY TWO BLACK', 'CHAMP DURAN', \"IT'S LUIGI\", 'AEROPLANE LEXI', 'MISS CHARLO', 'COSMETIC ROSE']\n",
      "832364913 ['GROOMSMAN', 'AUSSIE SHOWGIRL', 'CLARETOWN MAC', 'LIKE A LORRY', 'HOT CROSS', 'ROJO SILVER FOX', 'ENSEMBLE', 'WHO TOLD JOHN']\n",
      "832364907 ['DISORDER', 'WINDY BISCUIT', 'COOL WHIP', 'SMOOTH CRUISER', 'READY TO LAUNCH', 'BRAVE LAD', 'MCIVOR BONNIE', 'BENNY JET']\n",
      "832364918 ['WOW STAR', 'FOXTROT TANGO', 'PRINCESS WARRIOR', 'DAINTREE LAD', 'JOEY MAC', \"I'M NOT BUDGING\", 'ITCHY KAALA', \"REZZIE'S SHOUT\"]\n",
      "832364908 ['GIPPSLAND BOY', 'SPEARHEAD JOE', 'AMERICAN STAR', 'ESPECIAL SPEED', 'COLLEGE BOY', 'MISS BELLE', 'REMNANTS', 'MAXIMUM ZEAL']\n",
      "832364917 ['JOHNNY ONE THONG', \"IRENE'S A STAR\", 'JAYLA STRIKE', 'DE GOEY EXPRESS', 'LIGHTS STRIKE', 'FEISTY NIKITA', 'RED HOT LADY', 'MCIVOR RUSTY']\n",
      "832364912 [\"EMMA'S DOUBLE\", 'HEARTS DENIED', 'MIBIN MAGIC', 'STORMY TRENCH', 'MCIVOR JIMMY', 'MCIVOR CLYDE', 'EMPRESS BLAZE', \"KATH'S GIRL\"]\n",
      "832364909 ['CLASSY SHIFTER', 'LONG SHADOW', 'NAOMI BUTTERFLY', 'DUST STORM', 'DEVON LASS', 'JOYOUS LEGACY', 'SUPASONIC ROMEO', \"EVAN'S ALMIGHTY\"]\n",
      "832364910 ['RAW PANIC', 'ISLAND CHIEF', 'ZIEMS PARK GIRL', 'GOT ME SMARTY', 'CENTURY ROCKS', \"DEVIL'S WATER\", 'DIAMOND SOCKS', 'ASTON ROSA']\n",
      "832364911 ['BLACKPOOL HOMER', 'YEAH SEND IT', 'MAJESTIC MOJO', 'BIT TWISTED', 'VORTEX', 'MCIVOR BLUEY', 'MISS BAZAAR', 'MCIVOR JACK']\n"
     ]
    }
   ],
   "source": [
    "os.chdir(r\"C:\\Users\\Nick\\Documents\\GitHub\\grvmodel\\Python\\DATA\")\n",
    "pred_inputs_file = open( 'prediction_inputs.npy', 'rb')\n",
    "data= pickle.load(pred_inputs_file)\n",
    "race_ids,inputs,names = zip(*data)\n",
    "for (i,j) in zip(race_ids,names):\n",
    "    print(i,j)"
   ]
  },
  {
   "cell_type": "code",
   "execution_count": 16,
   "metadata": {},
   "outputs": [],
   "source": [
    "scaler_file = open(r\"C:\\Users\\Nick\\Documents\\GitHub\\grvmodel\\Python\\pytorch\\New Model\\normalizer.npy\", \"rb\")\n",
    "scaler = pickle.load(scaler_file)\n",
    "scaler\n",
    "Xn = scaler.transform(X)\n",
    "Xn = torch.tensor(Xn).float()"
   ]
  },
  {
   "cell_type": "code",
   "execution_count": 17,
   "metadata": {},
   "outputs": [
    {
     "data": {
      "text/plain": [
       "tensor([[0.0000, 1.0000, 0.0000,  ..., 0.1206, 0.9938, 0.1186],\n",
       "        [0.0000, 1.0000, 0.0000,  ..., 0.1265, 0.9947, 0.1018],\n",
       "        [0.0000, 1.0000, 0.0000,  ..., 0.1202, 0.9952, 0.1998],\n",
       "        ...,\n",
       "        [0.0000, 1.0000, 0.0000,  ..., 0.1272, 0.9946, 0.1322],\n",
       "        [0.0000, 1.0000, 0.0000,  ..., 0.1156, 0.9941, 0.0227],\n",
       "        [0.0000, 1.0000, 0.0000,  ..., 0.1105, 0.9948, 0.2537]])"
      ]
     },
     "execution_count": 17,
     "metadata": {},
     "output_type": "execute_result"
    }
   ],
   "source": [
    "inputs_df = pd.DataFrame(inputs)\n",
    "inputs_df.fillna(value=-1, inplace=True)\n",
    "inputs = inputs_df.values.tolist()\n",
    "inputs = [[float(i) for i in j] for j in inputs]\n",
    "\n",
    "X = torch.Tensor(np.array([i for i in inputs]))\n",
    "X.shape\n",
    "Xn = scaler.transform(X)\n",
    "Xn = torch.tensor(Xn).float()\n",
    "Xn"
   ]
  },
  {
   "cell_type": "code",
   "execution_count": 18,
   "metadata": {},
   "outputs": [
    {
     "ename": "FileNotFoundError",
     "evalue": "[Errno 2] No such file or directory: 'C:\\\\Users\\\\Nick\\\\Documents\\\\GitHub\\\\grvmodel\\\\Python\\\\DATAprediction_inputs.npy'",
     "output_type": "error",
     "traceback": [
      "\u001b[1;31m---------------------------------------------------------------------------\u001b[0m",
      "\u001b[1;31mFileNotFoundError\u001b[0m                         Traceback (most recent call last)",
      "\u001b[1;32mc:\\Users\\Nick\\Documents\\GitHub\\grvmodel\\Python\\prediciton model building\\Model Predicitng.ipynb Cell 9\u001b[0m in \u001b[0;36m<cell line: 4>\u001b[1;34m()\u001b[0m\n\u001b[0;32m      <a href='vscode-notebook-cell:/c%3A/Users/Nick/Documents/GitHub/grvmodel/Python/prediciton%20model%20building/Model%20Predicitng.ipynb#X11sZmlsZQ%3D%3D?line=0'>1</a>\u001b[0m REBUILD_DATA \u001b[39m=\u001b[39m \u001b[39mTrue\u001b[39;00m\n\u001b[1;32m----> <a href='vscode-notebook-cell:/c%3A/Users/Nick/Documents/GitHub/grvmodel/Python/prediciton%20model%20building/Model%20Predicitng.ipynb#X11sZmlsZQ%3D%3D?line=3'>4</a>\u001b[0m \u001b[39mclass\u001b[39;00m \u001b[39mGRV_pred\u001b[39;00m:\n\u001b[0;32m      <a href='vscode-notebook-cell:/c%3A/Users/Nick/Documents/GitHub/grvmodel/Python/prediciton%20model%20building/Model%20Predicitng.ipynb#X11sZmlsZQ%3D%3D?line=4'>5</a>\u001b[0m     \u001b[39m# class to store prediction data\u001b[39;00m\n\u001b[0;32m      <a href='vscode-notebook-cell:/c%3A/Users/Nick/Documents/GitHub/grvmodel/Python/prediciton%20model%20building/Model%20Predicitng.ipynb#X11sZmlsZQ%3D%3D?line=5'>6</a>\u001b[0m \n\u001b[0;32m      <a href='vscode-notebook-cell:/c%3A/Users/Nick/Documents/GitHub/grvmodel/Python/prediciton%20model%20building/Model%20Predicitng.ipynb#X11sZmlsZQ%3D%3D?line=6'>7</a>\u001b[0m     \u001b[39m# reading data from pickle\u001b[39;00m\n\u001b[0;32m      <a href='vscode-notebook-cell:/c%3A/Users/Nick/Documents/GitHub/grvmodel/Python/prediciton%20model%20building/Model%20Predicitng.ipynb#X11sZmlsZQ%3D%3D?line=7'>8</a>\u001b[0m     file \u001b[39m=\u001b[39m \u001b[39mopen\u001b[39m(\u001b[39mr\u001b[39m\u001b[39m\"\u001b[39m\u001b[39mC:\u001b[39m\u001b[39m\\\u001b[39m\u001b[39mUsers\u001b[39m\u001b[39m\\\u001b[39m\u001b[39mNick\u001b[39m\u001b[39m\\\u001b[39m\u001b[39mDocuments\u001b[39m\u001b[39m\\\u001b[39m\u001b[39mGitHub\u001b[39m\u001b[39m\\\u001b[39m\u001b[39mgrvmodel\u001b[39m\u001b[39m\\\u001b[39m\u001b[39mPython\u001b[39m\u001b[39m\\\u001b[39m\u001b[39mDATAprediction_inputs.npy\u001b[39m\u001b[39m\"\u001b[39m, \u001b[39m\"\u001b[39m\u001b[39mrb\u001b[39m\u001b[39m\"\u001b[39m)\n\u001b[0;32m      <a href='vscode-notebook-cell:/c%3A/Users/Nick/Documents/GitHub/grvmodel/Python/prediciton%20model%20building/Model%20Predicitng.ipynb#X11sZmlsZQ%3D%3D?line=8'>9</a>\u001b[0m     data \u001b[39m=\u001b[39m pickle\u001b[39m.\u001b[39mload(file)\n",
      "\u001b[1;32mc:\\Users\\Nick\\Documents\\GitHub\\grvmodel\\Python\\prediciton model building\\Model Predicitng.ipynb Cell 9\u001b[0m in \u001b[0;36mGRV_pred\u001b[1;34m()\u001b[0m\n\u001b[0;32m      <a href='vscode-notebook-cell:/c%3A/Users/Nick/Documents/GitHub/grvmodel/Python/prediciton%20model%20building/Model%20Predicitng.ipynb#X11sZmlsZQ%3D%3D?line=3'>4</a>\u001b[0m \u001b[39mclass\u001b[39;00m \u001b[39mGRV_pred\u001b[39;00m:\n\u001b[0;32m      <a href='vscode-notebook-cell:/c%3A/Users/Nick/Documents/GitHub/grvmodel/Python/prediciton%20model%20building/Model%20Predicitng.ipynb#X11sZmlsZQ%3D%3D?line=4'>5</a>\u001b[0m     \u001b[39m# class to store prediction data\u001b[39;00m\n\u001b[0;32m      <a href='vscode-notebook-cell:/c%3A/Users/Nick/Documents/GitHub/grvmodel/Python/prediciton%20model%20building/Model%20Predicitng.ipynb#X11sZmlsZQ%3D%3D?line=5'>6</a>\u001b[0m \n\u001b[0;32m      <a href='vscode-notebook-cell:/c%3A/Users/Nick/Documents/GitHub/grvmodel/Python/prediciton%20model%20building/Model%20Predicitng.ipynb#X11sZmlsZQ%3D%3D?line=6'>7</a>\u001b[0m     \u001b[39m# reading data from pickle\u001b[39;00m\n\u001b[1;32m----> <a href='vscode-notebook-cell:/c%3A/Users/Nick/Documents/GitHub/grvmodel/Python/prediciton%20model%20building/Model%20Predicitng.ipynb#X11sZmlsZQ%3D%3D?line=7'>8</a>\u001b[0m     file \u001b[39m=\u001b[39m \u001b[39mopen\u001b[39;49m(\u001b[39mr\u001b[39;49m\u001b[39m\"\u001b[39;49m\u001b[39mC:\u001b[39;49m\u001b[39m\\\u001b[39;49m\u001b[39mUsers\u001b[39;49m\u001b[39m\\\u001b[39;49m\u001b[39mNick\u001b[39;49m\u001b[39m\\\u001b[39;49m\u001b[39mDocuments\u001b[39;49m\u001b[39m\\\u001b[39;49m\u001b[39mGitHub\u001b[39;49m\u001b[39m\\\u001b[39;49m\u001b[39mgrvmodel\u001b[39;49m\u001b[39m\\\u001b[39;49m\u001b[39mPython\u001b[39;49m\u001b[39m\\\u001b[39;49m\u001b[39mDATAprediction_inputs.npy\u001b[39;49m\u001b[39m\"\u001b[39;49m, \u001b[39m\"\u001b[39;49m\u001b[39mrb\u001b[39;49m\u001b[39m\"\u001b[39;49m)\n\u001b[0;32m      <a href='vscode-notebook-cell:/c%3A/Users/Nick/Documents/GitHub/grvmodel/Python/prediciton%20model%20building/Model%20Predicitng.ipynb#X11sZmlsZQ%3D%3D?line=8'>9</a>\u001b[0m     data \u001b[39m=\u001b[39m pickle\u001b[39m.\u001b[39mload(file)\n\u001b[0;32m     <a href='vscode-notebook-cell:/c%3A/Users/Nick/Documents/GitHub/grvmodel/Python/prediciton%20model%20building/Model%20Predicitng.ipynb#X11sZmlsZQ%3D%3D?line=9'>10</a>\u001b[0m     \u001b[39m# seperate out classes from inputs\u001b[39;00m\n",
      "\u001b[1;31mFileNotFoundError\u001b[0m: [Errno 2] No such file or directory: 'C:\\\\Users\\\\Nick\\\\Documents\\\\GitHub\\\\grvmodel\\\\Python\\\\DATAprediction_inputs.npy'"
     ]
    }
   ],
   "source": [
    "REBUILD_DATA = True\n",
    "\n",
    "\n",
    "class GRV_pred:\n",
    "    # class to store prediction data\n",
    "\n",
    "    # reading data from pickle\n",
    "    file = open(r\"C:\\Users\\Nick\\Documents\\GitHub\\grvmodel\\Python\\DATAprediction_inputs.npy\", \"rb\")\n",
    "    data = pickle.load(file)\n",
    "    # seperate out classes from inputs\n",
    "    raceIDs, inputs = zip(*data)\n",
    "    # removing nan from inputs and convert to float\n",
    "    inputs_df = pd.DataFrame(inputs)\n",
    "    inputs_df.fillna(value=-1, inplace=True)\n",
    "    inputs = inputs_df.values.tolist()\n",
    "    inputs = [[float(i) for i in j] for j in inputs]\n",
    "\n",
    "    # data\n",
    "    pred_data = []\n",
    "\n",
    "    def make_pred_data(self):\n",
    "        excluded = 0\n",
    "        for i in range(len(self.inputs)):\n",
    "            if len(self.inputs[i]) == 120:\n",
    "                self.pred_data.append(\n",
    "                    [\n",
    "                        np.array(self.inputs[i]),\n",
    "                    ]\n",
    "                )\n",
    "            else:\n",
    "                adjustedList = self.classes[i] + ([8] * (8 - len(self.classes[i])))\n",
    "                adjustedListP = self.prices[i] + ([0] * (8 - len(self.prices[i])))\n",
    "                adjustedListM = self.margins[i] + ([100] * (8 - len(self.margins[i])))\n",
    "                adjustedListSP = self.margins[i] + ([0] * (8 - len(self.betfairSP[i])))\n",
    "                self.pred_data.append(\n",
    "                    [\n",
    "                        np.array(self.inputs[i]),\n",
    "                        np.array(adjustedList),\n",
    "                        np.array(adjustedListP),\n",
    "                        np.array(adjustedListM),\n",
    "                        np.array(adjustedListSP)\n",
    "                    ]\n",
    "                )\n",
    "                if len(adjustedList) != 8:\n",
    "                    print(adjustedList)\n",
    "        np.save(\"pred_data.npy\", self.pred_data)\n",
    "        print(\"excluded = \", excluded)\n",
    "\n",
    "\n",
    "if REBUILD_DATA:\n",
    "    grv = GRV_pred()\n",
    "    grv.make_pred_data()\n"
   ]
  },
  {
   "cell_type": "code",
   "execution_count": 19,
   "metadata": {},
   "outputs": [
    {
     "name": "stdout",
     "output_type": "stream",
     "text": [
      "\n",
      "[6, 6, 7, 5, 7, 5, 7, 2, 1, 5, 5, 4]\n",
      "DELINQUENT\n",
      "RUSHWORTH\n",
      "COSMETIC ROSE\n",
      "ROJO SILVER FOX\n",
      "BENNY JET\n",
      "I'M NOT BUDGING\n",
      "MAXIMUM ZEAL\n",
      "JAYLA STRIKE\n",
      "HEARTS DENIED\n",
      "JOYOUS LEGACY\n",
      "DEVIL'S WATER\n",
      "VORTEX\n"
     ]
    }
   ],
   "source": [
    "\n",
    "\n",
    "with torch.no_grad():\n",
    "    model.eval()\n",
    "    outputs = model(Xn)\n",
    "    print()\n",
    "    print(torch.argmax(outputs,1).tolist())\n",
    "    outs = torch.argmax(outputs,1).tolist()\n",
    "    for i,j in enumerate(names):\n",
    "        print(j[outs[i]])\n"
   ]
  },
  {
   "cell_type": "code",
   "execution_count": null,
   "metadata": {},
   "outputs": [],
   "source": []
  }
 ],
 "metadata": {
  "kernelspec": {
   "display_name": "Python 3.9.12 ('pytorch')",
   "language": "python",
   "name": "python3"
  },
  "language_info": {
   "codemirror_mode": {
    "name": "ipython",
    "version": 3
   },
   "file_extension": ".py",
   "mimetype": "text/x-python",
   "name": "python",
   "nbconvert_exporter": "python",
   "pygments_lexer": "ipython3",
   "version": "3.9.12"
  },
  "orig_nbformat": 4,
  "vscode": {
   "interpreter": {
    "hash": "43115443075634c02a7c247a87b0dd9d74842892e56d473b9e19f544f3149aff"
   }
  }
 },
 "nbformat": 4,
 "nbformat_minor": 2
}
