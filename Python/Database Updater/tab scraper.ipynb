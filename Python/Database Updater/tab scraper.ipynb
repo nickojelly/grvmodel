{
 "cells": [
  {
   "cell_type": "code",
   "execution_count": 6,
   "metadata": {},
   "outputs": [],
   "source": [
    "import random\n",
    "import csv\n",
    "from selenium import webdriver\n",
    "from selenium.webdriver.common.keys import Keys\n",
    "import time\n",
    "from tkinter import Tk\n",
    "import os\n",
    "#from selenium.webdriver.chrome.options import Options\n",
    "from selenium.webdriver import Firefox\n",
    "from selenium.webdriver.firefox.service import Service\n",
    "from selenium.webdriver.firefox.options import Options\n",
    "from selenium.webdriver.common.by import By\n",
    "import pandas as pd"
   ]
  },
  {
   "cell_type": "code",
   "execution_count": 7,
   "metadata": {},
   "outputs": [],
   "source": [
    "service = Service(r'C:\\Users\\Nick\\Documents\\GitHub\\grvmodel\\DATA\\GRV_scraper\\gdriver\\geckodriver.exe')\n"
   ]
  },
  {
   "cell_type": "code",
   "execution_count": 8,
   "metadata": {},
   "outputs": [],
   "source": [
    "\n",
    "driver = Firefox(service=service)  \n",
    "url = 'https://www.tab.com.au'\n",
    "\n",
    "meets_list = []\n",
    "driver.get(url)"
   ]
  },
  {
   "cell_type": "code",
   "execution_count": 9,
   "metadata": {},
   "outputs": [],
   "source": [
    "menu = driver.find_element(By.CLASS_NAME, 'toggle-menu-link')"
   ]
  },
  {
   "cell_type": "code",
   "execution_count": 10,
   "metadata": {},
   "outputs": [],
   "source": [
    "menu.click()"
   ]
  },
  {
   "cell_type": "code",
   "execution_count": 11,
   "metadata": {},
   "outputs": [],
   "source": [
    "menu2 = driver.find_element(By.XPATH, '/html/body/ui-view/header/div/div[1]/div[2]/div[2]/nav[1]/div[1]/div[1]')\n",
    "menu2.click()"
   ]
  },
  {
   "cell_type": "code",
   "execution_count": 12,
   "metadata": {},
   "outputs": [],
   "source": [
    "greys = driver.find_element(By.XPATH, \"/html/body/ui-view/header/div/div[1]/div[2]/div[2]/simple-main-nav-menu[1]/nav/div/div[3]/a\")"
   ]
  },
  {
   "cell_type": "code",
   "execution_count": 13,
   "metadata": {},
   "outputs": [],
   "source": [
    "greys.click()"
   ]
  },
  {
   "cell_type": "code",
   "execution_count": 14,
   "metadata": {},
   "outputs": [],
   "source": [
    "driver.refresh()"
   ]
  },
  {
   "cell_type": "code",
   "execution_count": 15,
   "metadata": {},
   "outputs": [],
   "source": [
    "race_elements = driver.find_elements(By.CLASS_NAME, '_1pb745v')"
   ]
  },
  {
   "cell_type": "code",
   "execution_count": 16,
   "metadata": {},
   "outputs": [],
   "source": [
    "race_elements = driver.find_elements(By.XPATH,\"//*[@data-testid='race']\")"
   ]
  },
  {
   "cell_type": "code",
   "execution_count": 17,
   "metadata": {},
   "outputs": [
    {
     "name": "stderr",
     "output_type": "stream",
     "text": [
      "C:\\Users\\Nick\\AppData\\Local\\Temp\\ipykernel_9904\\1746305968.py:12: DeprecationWarning: find_elements_by_xpath is deprecated. Please use find_elements(by=By.XPATH, value=xpath) instead\n",
      "  children = r.find_elements_by_xpath('./child::*')\n",
      "C:\\Users\\Nick\\AppData\\Local\\Temp\\ipykernel_9904\\1746305968.py:13: DeprecationWarning: find_elements_by_xpath is deprecated. Please use find_elements(by=By.XPATH, value=xpath) instead\n",
      "  children2 = [c.find_elements_by_xpath('./child::*') for c in children]\n"
     ]
    }
   ],
   "source": [
    "tab_dict = {}\n",
    "tab_dict['links'] = []\n",
    "tab_dict['children'] = []\n",
    "tab_dict['children2'] = []\n",
    "tab_dict['children_id'] = []\n",
    "tab_dict['children_text'] = []\n",
    "# tab_dict['child1'] = []\n",
    "# tab_dict['child2'] = []\n",
    "for r in race_elements:\n",
    "    # print(r)\n",
    "    tab_dict['links'].append(r.get_attribute(\"href\"))\n",
    "    children = r.find_elements_by_xpath('./child::*')\n",
    "    children2 = [c.find_elements_by_xpath('./child::*') for c in children]\n",
    "    tab_dict['children2'].append([c.get_attribute('class') for sublist in children2 for c in sublist])\n",
    "    tab_dict['children_id'].append([c.get_attribute('data-testid') for sublist in children2 for c in sublist])\n",
    "    tab_dict['children_text'].append([c.text for sublist in children2 for c in sublist])\n",
    "    tab_dict['children'].append([c.get_attribute('class') for c in children])"
   ]
  },
  {
   "cell_type": "code",
   "execution_count": 18,
   "metadata": {},
   "outputs": [],
   "source": [
    "tab_df = pd.DataFrame(tab_dict)"
   ]
  },
  {
   "cell_type": "code",
   "execution_count": 19,
   "metadata": {},
   "outputs": [],
   "source": [
    "tab_df['splits'] = tab_df.links.apply(lambda x: x.split('/'))\n",
    "tab_df['date'] = tab_df.splits.apply(lambda x: x[4])\n",
    "tab_df['track'] = tab_df.splits.apply(lambda x: x[5])\n",
    "tab_df['race_num'] = tab_df.splits.apply(lambda x: x[8])"
   ]
  },
  {
   "cell_type": "code",
   "execution_count": 24,
   "metadata": {},
   "outputs": [],
   "source": [
    "tab_df['odds_available'] = tab_df.children_id.apply(lambda x: True if 'icon-fixed-odds' in x else False)"
   ]
  },
  {
   "cell_type": "code",
   "execution_count": 25,
   "metadata": {},
   "outputs": [
    {
     "data": {
      "text/plain": [
       "0      False\n",
       "1      False\n",
       "2      False\n",
       "3      False\n",
       "4      False\n",
       "       ...  \n",
       "198    False\n",
       "199    False\n",
       "200    False\n",
       "201    False\n",
       "202    False\n",
       "Name: odds_available, Length: 203, dtype: bool"
      ]
     },
     "execution_count": 25,
     "metadata": {},
     "output_type": "execute_result"
    }
   ],
   "source": [
    "tab_df['odds_available']"
   ]
  },
  {
   "cell_type": "code",
   "execution_count": 27,
   "metadata": {},
   "outputs": [],
   "source": [
    "tab_df_avail = tab_df[tab_df['odds_available']]"
   ]
  },
  {
   "cell_type": "code",
   "execution_count": 34,
   "metadata": {},
   "outputs": [],
   "source": [
    "race_link = tab_df_avail.links.iloc[-1]"
   ]
  },
  {
   "cell_type": "markdown",
   "metadata": {},
   "source": []
  },
  {
   "cell_type": "code",
   "execution_count": 33,
   "metadata": {},
   "outputs": [],
   "source": [
    "driver.get(race_link)"
   ]
  },
  {
   "cell_type": "code",
   "execution_count": 23,
   "metadata": {},
   "outputs": [
    {
     "data": {
      "text/plain": [
       "['R1', '18:57', '3 4 7 8']"
      ]
     },
     "execution_count": 23,
     "metadata": {},
     "output_type": "execute_result"
    }
   ],
   "source": [
    "tab_df.children_text[0]"
   ]
  },
  {
   "cell_type": "code",
   "execution_count": 130,
   "metadata": {},
   "outputs": [],
   "source": []
  },
  {
   "cell_type": "code",
   "execution_count": 131,
   "metadata": {},
   "outputs": [],
   "source": []
  },
  {
   "cell_type": "code",
   "execution_count": 133,
   "metadata": {},
   "outputs": [],
   "source": [
    "\n"
   ]
  },
  {
   "cell_type": "code",
   "execution_count": 125,
   "metadata": {},
   "outputs": [
    {
     "data": {
      "text/html": [
       "<div>\n",
       "<style scoped>\n",
       "    .dataframe tbody tr th:only-of-type {\n",
       "        vertical-align: middle;\n",
       "    }\n",
       "\n",
       "    .dataframe tbody tr th {\n",
       "        vertical-align: top;\n",
       "    }\n",
       "\n",
       "    .dataframe thead th {\n",
       "        text-align: right;\n",
       "    }\n",
       "</style>\n",
       "<table border=\"1\" class=\"dataframe\">\n",
       "  <thead>\n",
       "    <tr style=\"text-align: right;\">\n",
       "      <th></th>\n",
       "      <th>links</th>\n",
       "      <th>children</th>\n",
       "    </tr>\n",
       "  </thead>\n",
       "  <tbody>\n",
       "    <tr>\n",
       "      <th>0</th>\n",
       "      <td>https://www.tab.com.au/racing/2023-05-13/NEWCA...</td>\n",
       "      <td>[, _i9ed2x ]</td>\n",
       "    </tr>\n",
       "    <tr>\n",
       "      <th>1</th>\n",
       "      <td>https://www.tab.com.au/racing/2023-05-13/NEWCA...</td>\n",
       "      <td>[, _i9ed2x ]</td>\n",
       "    </tr>\n",
       "    <tr>\n",
       "      <th>2</th>\n",
       "      <td>https://www.tab.com.au/racing/2023-05-13/NEWCA...</td>\n",
       "      <td>[, _i9ed2x ]</td>\n",
       "    </tr>\n",
       "    <tr>\n",
       "      <th>3</th>\n",
       "      <td>https://www.tab.com.au/racing/2023-05-13/NEWCA...</td>\n",
       "      <td>[, _i9ed2x , _1j1uuf5 ]</td>\n",
       "    </tr>\n",
       "    <tr>\n",
       "      <th>4</th>\n",
       "      <td>https://www.tab.com.au/racing/2023-05-13/NEWCA...</td>\n",
       "      <td>[, _i9ed2x , _1j1uuf5 ]</td>\n",
       "    </tr>\n",
       "    <tr>\n",
       "      <th>...</th>\n",
       "      <td>...</td>\n",
       "      <td>...</td>\n",
       "    </tr>\n",
       "    <tr>\n",
       "      <th>131</th>\n",
       "      <td>https://www.tab.com.au/racing/2023-05-13/SWIND...</td>\n",
       "      <td>[, _i9ed2x ]</td>\n",
       "    </tr>\n",
       "    <tr>\n",
       "      <th>132</th>\n",
       "      <td>https://www.tab.com.au/racing/2023-05-13/SWIND...</td>\n",
       "      <td>[, _i9ed2x ]</td>\n",
       "    </tr>\n",
       "    <tr>\n",
       "      <th>133</th>\n",
       "      <td>https://www.tab.com.au/racing/2023-05-13/SWIND...</td>\n",
       "      <td>[, _i9ed2x ]</td>\n",
       "    </tr>\n",
       "    <tr>\n",
       "      <th>134</th>\n",
       "      <td>https://www.tab.com.au/racing/2023-05-13/SWIND...</td>\n",
       "      <td>[, _i9ed2x ]</td>\n",
       "    </tr>\n",
       "    <tr>\n",
       "      <th>135</th>\n",
       "      <td>https://www.tab.com.au/racing/2023-05-13/SWIND...</td>\n",
       "      <td>[, _i9ed2x ]</td>\n",
       "    </tr>\n",
       "  </tbody>\n",
       "</table>\n",
       "<p>136 rows × 2 columns</p>\n",
       "</div>"
      ],
      "text/plain": [
       "                                                 links  \\\n",
       "0    https://www.tab.com.au/racing/2023-05-13/NEWCA...   \n",
       "1    https://www.tab.com.au/racing/2023-05-13/NEWCA...   \n",
       "2    https://www.tab.com.au/racing/2023-05-13/NEWCA...   \n",
       "3    https://www.tab.com.au/racing/2023-05-13/NEWCA...   \n",
       "4    https://www.tab.com.au/racing/2023-05-13/NEWCA...   \n",
       "..                                                 ...   \n",
       "131  https://www.tab.com.au/racing/2023-05-13/SWIND...   \n",
       "132  https://www.tab.com.au/racing/2023-05-13/SWIND...   \n",
       "133  https://www.tab.com.au/racing/2023-05-13/SWIND...   \n",
       "134  https://www.tab.com.au/racing/2023-05-13/SWIND...   \n",
       "135  https://www.tab.com.au/racing/2023-05-13/SWIND...   \n",
       "\n",
       "                    children  \n",
       "0               [, _i9ed2x ]  \n",
       "1               [, _i9ed2x ]  \n",
       "2               [, _i9ed2x ]  \n",
       "3    [, _i9ed2x , _1j1uuf5 ]  \n",
       "4    [, _i9ed2x , _1j1uuf5 ]  \n",
       "..                       ...  \n",
       "131             [, _i9ed2x ]  \n",
       "132             [, _i9ed2x ]  \n",
       "133             [, _i9ed2x ]  \n",
       "134             [, _i9ed2x ]  \n",
       "135             [, _i9ed2x ]  \n",
       "\n",
       "[136 rows x 2 columns]"
      ]
     },
     "execution_count": 125,
     "metadata": {},
     "output_type": "execute_result"
    }
   ],
   "source": [
    "tab_df"
   ]
  }
 ],
 "metadata": {
  "kernelspec": {
   "display_name": "PYTORCH",
   "language": "python",
   "name": "python3"
  },
  "language_info": {
   "codemirror_mode": {
    "name": "ipython",
    "version": 3
   },
   "file_extension": ".py",
   "mimetype": "text/x-python",
   "name": "python",
   "nbconvert_exporter": "python",
   "pygments_lexer": "ipython3",
   "version": "3.9.16"
  },
  "orig_nbformat": 4
 },
 "nbformat": 4,
 "nbformat_minor": 2
}
