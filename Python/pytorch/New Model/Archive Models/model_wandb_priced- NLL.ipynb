{
 "cells": [
  {
   "cell_type": "code",
   "execution_count": 2,
   "metadata": {},
   "outputs": [],
   "source": [
    "import pickle\n",
    "import pandas as pd\n",
    "import os\n",
    "import torch\n",
    "import numpy as np\n",
    "import torch.nn as nn\n",
    "import torch.nn.functional as F\n",
    "import torch.optim as optim\n",
    "from tqdm import tqdm\n",
    "import torch.optim as optim\n",
    "from torch.utils.data import TensorDataset, DataLoader\n",
    "import wandb\n",
    "from torch.utils.data.sampler import SubsetRandomSampler\n",
    "import pprint\n",
    "import matplotlib.pyplot as plt\n"
   ]
  },
  {
   "cell_type": "code",
   "execution_count": 3,
   "metadata": {},
   "outputs": [
    {
     "name": "stderr",
     "output_type": "stream",
     "text": [
      "Failed to detect the name of this notebook, you can set it manually with the WANDB_NOTEBOOK_NAME environment variable to enable code saving.\n",
      "\u001b[34m\u001b[1mwandb\u001b[0m: Currently logged in as: \u001b[33mnickojelly\u001b[0m (use `wandb login --relogin` to force relogin)\n"
     ]
    },
    {
     "data": {
      "text/plain": [
       "True"
      ]
     },
     "execution_count": 3,
     "metadata": {},
     "output_type": "execute_result"
    }
   ],
   "source": [
    "import wandb\n",
    "\n",
    "wandb.login()\n"
   ]
  },
  {
   "cell_type": "code",
   "execution_count": 4,
   "metadata": {},
   "outputs": [
    {
     "name": "stdout",
     "output_type": "stream",
     "text": [
      "Running on the GPU\n"
     ]
    }
   ],
   "source": [
    "if torch.cuda.is_available():\n",
    "    device = torch.device(\"cuda:0\")  # you can continue going on here, like cuda:1 cuda:2....etc.\n",
    "    print(\"Running on the GPU\")\n",
    "else:\n",
    "    device = torch.device(\"cpu\")\n",
    "    print(\"Running on the CPU\")\n",
    "    "
   ]
  },
  {
   "cell_type": "code",
   "execution_count": 5,
   "metadata": {},
   "outputs": [
    {
     "name": "stderr",
     "output_type": "stream",
     "text": [
      "c:\\Users\\Nick\\.conda\\envs\\pytorch\\lib\\site-packages\\numpy\\core\\_asarray.py:171: VisibleDeprecationWarning: Creating an ndarray from ragged nested sequences (which is a list-or-tuple of lists-or-tuples-or ndarrays with different lengths or shapes) is deprecated. If you meant to do this, you must specify 'dtype=object' when creating the ndarray.\n",
      "  return array(a, dtype, copy=False, order=order, subok=True)\n"
     ]
    },
    {
     "name": "stdout",
     "output_type": "stream",
     "text": [
      "excluded =  0\n"
     ]
    }
   ],
   "source": [
    "REBUILD_DATA = True\n",
    "\n",
    "\n",
    "class GRV:\n",
    "    # class to store training data\n",
    "\n",
    "    # reading data from pickle\n",
    "    file = open(r\"DATA/total_list_w_price_w_weights.npy\", \"rb\")\n",
    "    data = pickle.load(file)\n",
    "    # seperate out classes from inputs\n",
    "    raceIDs, inputs, classes, prices, win_price, margins = zip(*data)\n",
    "    # removing nan from inputs and convert to float\n",
    "    inputs_df = pd.DataFrame(inputs)\n",
    "    inputs_df.fillna(value=-1, inplace=True)\n",
    "    inputs = inputs_df.values.tolist()\n",
    "    inputs = [[float(i) for i in j] for j in inputs]\n",
    "\n",
    "    # data\n",
    "    training_data = []\n",
    "\n",
    "    def make_training_data(self):\n",
    "        excluded = 0\n",
    "        for i in range(len(self.inputs)):\n",
    "            if len(self.classes[i]) == 8:\n",
    "                self.training_data.append(\n",
    "                    [\n",
    "                        np.array(self.inputs[i]),\n",
    "                        np.array(self.classes[i]),\n",
    "                        np.array(self.prices[i]),\n",
    "                        np.array(self.margins[i]),\n",
    "                    ]\n",
    "                )\n",
    "            else:\n",
    "                adjustedList = self.classes[i] + ([8] * (8 - len(self.classes[i])))\n",
    "                adjustedListP = self.prices[i] + ([0] * (8 - len(self.prices[i])))\n",
    "                adjustedListM = self.margins[i] + ([100] * (8 - len(self.margins[i])))\n",
    "                self.training_data.append(\n",
    "                    [\n",
    "                        np.array(self.inputs[i]),\n",
    "                        np.array(adjustedList),\n",
    "                        np.array(adjustedListP),\n",
    "                        np.array(adjustedListM),\n",
    "                    ]\n",
    "                )\n",
    "                if len(adjustedList) != 8:\n",
    "                    print(adjustedList)\n",
    "        np.save(\"training_data.npy\", self.training_data)\n",
    "        print(\"excluded = \", excluded)\n",
    "\n",
    "\n",
    "if REBUILD_DATA:\n",
    "    grv = GRV()\n",
    "    grv.make_training_data()\n"
   ]
  },
  {
   "cell_type": "code",
   "execution_count": 6,
   "metadata": {},
   "outputs": [
    {
     "ename": "NameError",
     "evalue": "name 'Y_m' is not defined",
     "output_type": "error",
     "traceback": [
      "\u001b[1;31m---------------------------------------------------------------------------\u001b[0m",
      "\u001b[1;31mNameError\u001b[0m                                 Traceback (most recent call last)",
      "\u001b[1;32mc:\\Users\\Nick\\Documents\\GitHub\\grvmodel\\Python\\pytorch\\New Model\\model_wandb_priced- NLL.ipynb Cell 5'\u001b[0m in \u001b[0;36m<cell line: 7>\u001b[1;34m()\u001b[0m\n\u001b[0;32m      <a href='vscode-notebook-cell:/c%3A/Users/Nick/Documents/GitHub/grvmodel/Python/pytorch/New%20Model/model_wandb_priced-%20NLL.ipynb#ch0000004?line=0'>1</a>\u001b[0m softmin \u001b[39m=\u001b[39m nn\u001b[39m.\u001b[39mSoftmin()\n\u001b[0;32m      <a href='vscode-notebook-cell:/c%3A/Users/Nick/Documents/GitHub/grvmodel/Python/pytorch/New%20Model/model_wandb_priced-%20NLL.ipynb#ch0000004?line=2'>3</a>\u001b[0m pp \u001b[39m=\u001b[39m pprint\u001b[39m.\u001b[39mPrettyPrinter(indent\u001b[39m=\u001b[39m\u001b[39m4\u001b[39m)\n\u001b[1;32m----> <a href='vscode-notebook-cell:/c%3A/Users/Nick/Documents/GitHub/grvmodel/Python/pytorch/New%20Model/model_wandb_priced-%20NLL.ipynb#ch0000004?line=6'>7</a>\u001b[0m pp\u001b[39m.\u001b[39mpprint(Y_m[\u001b[39m0\u001b[39m])\n\u001b[0;32m      <a href='vscode-notebook-cell:/c%3A/Users/Nick/Documents/GitHub/grvmodel/Python/pytorch/New%20Model/model_wandb_priced-%20NLL.ipynb#ch0000004?line=8'>9</a>\u001b[0m softmax(Y_m[\u001b[39m1\u001b[39m])\n",
      "\u001b[1;31mNameError\u001b[0m: name 'Y_m' is not defined"
     ]
    }
   ],
   "source": [
    "softmin = nn.Softmin()\n",
    "\n",
    "pp = pprint.PrettyPrinter(indent=4)\n",
    "\n",
    "\n",
    "pp.pprint(Y_m[0])\n",
    "\n",
    "softmax(Y_m[1])\n"
   ]
  },
  {
   "cell_type": "code",
   "execution_count": 7,
   "metadata": {},
   "outputs": [
    {
     "name": "stderr",
     "output_type": "stream",
     "text": [
      "C:\\Users\\Nick\\AppData\\Local\\Temp\\ipykernel_24580\\2075100870.py:6: UserWarning: Creating a tensor from a list of numpy.ndarrays is extremely slow. Please consider converting the list to a single numpy.ndarray with numpy.array() before converting to a tensor. (Triggered internally at  C:\\cb\\pytorch_1000000000000\\work\\torch\\csrc\\utils\\tensor_new.cpp:210.)\n",
      "  X = torch.Tensor([i[0] for i in training_data])\n",
      "C:\\Users\\Nick\\AppData\\Local\\Temp\\ipykernel_24580\\2075100870.py:9: UserWarning: Implicit dimension choice for softmin has been deprecated. Change the call to include dim=X as an argument.\n",
      "  Y_m = softmin(torch.Tensor([i[3] for i in training_data]))\n"
     ]
    }
   ],
   "source": [
    "softmin = nn.Softmin()\n",
    "\n",
    "# dataset setup\n",
    "training_data = grv.training_data\n",
    "\n",
    "X = torch.Tensor([i[0] for i in training_data])\n",
    "Y = torch.Tensor([i[1] for i in training_data])\n",
    "P = torch.Tensor([i[2] for i in training_data])\n",
    "Y_m = softmin(torch.Tensor([i[3] for i in training_data]))\n",
    "# Generate winner only class\n",
    "Y_w = []\n",
    "for i in Y:\n",
    "    n = np.zeros(8)\n",
    "    index = torch.argmin(i)\n",
    "    n[index] = float(1)\n",
    "    Y_w.append(n)\n",
    "\n",
    "Y_w = torch.tensor([i for i in Y_w])\n",
    "X = X.to(device)\n",
    "Y_w = Y_w.to(device)\n",
    "\n",
    "\n",
    "Y_m = Y_m.to(device)\n",
    "P = P.to(device)\n",
    "my_dataset = TensorDataset(X, Y_m, P)\n",
    "my_dataloader = DataLoader(my_dataset)\n"
   ]
  },
  {
   "cell_type": "code",
   "execution_count": 8,
   "metadata": {},
   "outputs": [
    {
     "data": {
      "text/plain": [
       "tensor([1.1902e-08, 5.4522e-01, 1.6185e-07, 4.3319e-01, 8.1155e-04, 3.9502e-04,\n",
       "        2.0311e-02, 7.0031e-05], device='cuda:0')"
      ]
     },
     "execution_count": 8,
     "metadata": {},
     "output_type": "execute_result"
    }
   ],
   "source": [
    "Y_m[0]\n"
   ]
  },
  {
   "cell_type": "code",
   "execution_count": null,
   "metadata": {},
   "outputs": [
    {
     "data": {
      "text/plain": [
       "torch.Size([120])"
      ]
     },
     "execution_count": 65,
     "metadata": {},
     "output_type": "execute_result"
    }
   ],
   "source": [
    "X[0].shape\n"
   ]
  },
  {
   "cell_type": "code",
   "execution_count": null,
   "metadata": {},
   "outputs": [
    {
     "name": "stderr",
     "output_type": "stream",
     "text": [
      "c:\\Users\\Nick\\.conda\\envs\\pytorch\\lib\\site-packages\\numpy\\core\\_asarray.py:102: VisibleDeprecationWarning: Creating an ndarray from ragged nested sequences (which is a list-or-tuple of lists-or-tuples-or ndarrays with different lengths or shapes) is deprecated. If you meant to do this, you must specify 'dtype=object' when creating the ndarray.\n",
      "  return array(a, dtype, copy=False, order=order)\n"
     ]
    },
    {
     "data": {
      "text/plain": [
       "array([list([49.2, 11.0, 53.4, 6.5, 4.8, 2.8, 3.3, 41.6]),\n",
       "       list([27.3, 1.9, 18.9, 5.2, 5.4, 29.7, 10.2, 13.4]),\n",
       "       list([4.5, 33.0, 34.6, 1.8, 6.1, 14.0, 15.4, 22.3]), ..., 0, 0, 0],\n",
       "      dtype=object)"
      ]
     },
     "execution_count": 6,
     "metadata": {},
     "output_type": "execute_result"
    }
   ],
   "source": [
    "np.pad(grv.prices, (0, 8), mode=\"constant\")\n"
   ]
  },
  {
   "cell_type": "code",
   "execution_count": null,
   "metadata": {},
   "outputs": [
    {
     "data": {
      "text/plain": [
       "67100"
      ]
     },
     "execution_count": 7,
     "metadata": {},
     "output_type": "execute_result"
    }
   ],
   "source": [
    "config = dict(\n",
    "    epochs=50,\n",
    "    classes=8,\n",
    "    kernels=[16, 32],\n",
    "    batch_size=128,\n",
    "    learning_rate=0.0001,\n",
    "    validation_split=0.1,\n",
    "    dataset=\"MNIST\",\n",
    "    architecture=\"CNN\",\n",
    "    dataset_size=len(training_data),\n",
    ")\n",
    "\n",
    "config[\"dataset_size\"]\n"
   ]
  },
  {
   "cell_type": "code",
   "execution_count": 9,
   "metadata": {},
   "outputs": [],
   "source": [
    "# have to pass in dataset to get_data (created above)\n",
    "def make_loader(dataset, config, train=True):\n",
    "    dataset_size = len(dataset)\n",
    "    indices = list(range(dataset_size))\n",
    "    split = int(np.floor(config[\"validation_split\"] * dataset_size))\n",
    "    random_seed = 42\n",
    "    np.random.seed(random_seed)\n",
    "    np.random.shuffle(indices)\n",
    "    train_indices, val_indices = indices[split:], indices[:split]\n",
    "\n",
    "    if train:\n",
    "        dataset_sampler = SubsetRandomSampler(train_indices)\n",
    "        loader = torch.utils.data.DataLoader(\n",
    "            dataset=dataset,\n",
    "            batch_size=config[\"batch_size\"],\n",
    "            shuffle=False,\n",
    "            pin_memory=False,\n",
    "            num_workers=0,\n",
    "            sampler=dataset_sampler,\n",
    "        )\n",
    "    else:\n",
    "        dataset_sampler = SubsetRandomSampler(val_indices)\n",
    "        loader = torch.utils.data.DataLoader(\n",
    "            dataset=dataset,\n",
    "            shuffle=False,\n",
    "            pin_memory=False,\n",
    "            num_workers=0,\n",
    "            sampler=dataset_sampler,\n",
    "        )\n",
    "\n",
    "    return loader\n"
   ]
  },
  {
   "cell_type": "code",
   "execution_count": null,
   "metadata": {},
   "outputs": [],
   "source": [
    "class Net(nn.Module):\n",
    "    def __init__(self):\n",
    "        super().__init__()\n",
    "        self.fc1 = nn.Linear(81, 256)\n",
    "        self.fc2 = nn.Linear(256, 32)\n",
    "        self.fc3 = nn.Linear(32, 8)\n",
    "        \n",
    "    def forward(self, x):\n",
    "        x = F.relu(self.fc1(x))\n",
    "        x = F.relu(self.fc2(x))\n",
    "        x = self.fc3(x)\n",
    "        return nn.Softmax(x, dim=1)\n",
    "    "
   ]
  },
  {
   "cell_type": "code",
   "execution_count": 10,
   "metadata": {},
   "outputs": [],
   "source": [
    "def build_network(f1_layer_size, f2_layer_size, dropout):\n",
    "    # network = nn.Sequential(  # fully-connected, single hidden layer\n",
    "    #     nn.Linear(96, f1_layer_size), nn.ReLU(),\n",
    "    #     nn.Linear(f1_layer_size, 8), nn.Softmax(dim=1))\n",
    "\n",
    "    network = nn.Sequential(  # fully-connected, dual hidden layer\n",
    "        nn.Linear(120, f1_layer_size),\n",
    "        nn.ReLU(),\n",
    "        nn.Linear(f1_layer_size, f2_layer_size),\n",
    "        nn.ReLU(),\n",
    "        nn.Linear(f2_layer_size, 8),\n",
    "    )\n",
    "\n",
    "    return network\n"
   ]
  },
  {
   "cell_type": "code",
   "execution_count": 11,
   "metadata": {},
   "outputs": [],
   "source": [
    "def make(config, dataset):\n",
    "    # Make the data\n",
    "\n",
    "    train_loader = make_loader(dataset, config, train=True)\n",
    "    test_loader = make_loader(dataset, config, train=False)\n",
    "    # Make the model\n",
    "    # model = Net().to(device)\n",
    "    model = build_network(\n",
    "        config[\"f1_layer_size\"], config[\"f2_layer_size\"], config[\"dropout\"]\n",
    "    )\n",
    "\n",
    "    # Make the loss and optimizer\n",
    "    # criterion = nn.HuberLoss(reduction='sum', delta=1.0)\n",
    "    # criterion = nn.MSELoss()\n",
    "    # criterion = nn.CrossEntropyLoss()\n",
    "    criterion = nn.NLLLoss()\n",
    "\n",
    "    optimizer = config[\"optimizer\"]\n",
    "\n",
    "    if optimizer == \"sgd\":\n",
    "        optimizer = optim.SGD(\n",
    "            model.parameters(), lr=config[\"learning_rate\"], momentum=0.9\n",
    "        )\n",
    "    elif optimizer == \"adam\":\n",
    "        optimizer = optim.Adam(model.parameters(), lr=config[\"learning_rate\"])\n",
    "    # optimizer = torch.optim.Adam(\n",
    "    #    model.parameters(), lr=config[\"learning_rate\"])\n",
    "\n",
    "    return model, train_loader, test_loader, criterion, optimizer\n"
   ]
  },
  {
   "cell_type": "code",
   "execution_count": 12,
   "metadata": {},
   "outputs": [],
   "source": [
    "def test(model, test_loader, batch_ct):\n",
    "    model.eval()\n",
    "    classL, predL, maxL, correctL, priceP, priceR = [], [], [], [], [], []\n",
    "    # Run the model on some test examples\n",
    "    with torch.no_grad():\n",
    "        correct, total, max_sum, max_w_sum, profit = 0, 0, 0, 0, 0\n",
    "        value_pick_correct, value_pick_profit = 0, 0\n",
    "        num_bets = 0\n",
    "        for images, labels, prices in test_loader:\n",
    "\n",
    "            outputs = model(images)\n",
    "            prices = prices[\n",
    "                0,\n",
    "            ].tolist()\n",
    "            # print(f\"{images=},\\n,{labels=},\\n{prices=}\")\n",
    "\n",
    "            max, predicted = torch.max(outputs.data, 1)\n",
    "            _, real = torch.max(labels.data, 1)\n",
    "\n",
    "            prediction = predicted.item()\n",
    "            real_item = real.item()\n",
    "\n",
    "            predL.append(prediction)\n",
    "            maxL.append(max.item())\n",
    "\n",
    "            total += labels.size(0)\n",
    "            correct += prediction == real_item\n",
    "\n",
    "            correctL.append(int(prediction == real_item))\n",
    "            classL.append(real_item)\n",
    "\n",
    "            priceR.append(prices[real_item])\n",
    "            priceP.append(prices[prediction])\n",
    "            # print(outputs.data.flatten().tolist())\n",
    "\n",
    "            predicted_odds = [\n",
    "                1 / ((x + 1**-7) / 1) for x in outputs.data.flatten().tolist()\n",
    "            ]\n",
    "\n",
    "            if prices[real_item] > (predicted_odds[real_item] * 1.2):\n",
    "                value_pick_correct += 1\n",
    "                value_pick_profit += prices[real_item]\n",
    "\n",
    "            bets = [x > (y * 1.2) for x, y in zip(prices, predicted_odds)]\n",
    "            num_bets += sum(bets)\n",
    "\n",
    "            value_pick_profit += -sum(bets)\n",
    "\n",
    "            if prediction == real_item:\n",
    "                max_sum += max\n",
    "                profit += prices[real_item]\n",
    "            else:\n",
    "                max_w_sum += max\n",
    "\n",
    "            profit += -1\n",
    "\n",
    "            # print(f\"{correct=}\")\n",
    "\n",
    "        # print(f\"Accuracy of the model on the {total} \" +\n",
    "        #       f\"test images: {100 * correct / total}%\" +\n",
    "        #       f\"profit: {profit}\"+\n",
    "        #       f\"profit: {value_pick_profit}\")\n",
    "\n",
    "        wandb.log(\n",
    "            {\n",
    "                \"test_accuracy\": correct / total,\n",
    "                \"correct_conf\": max_sum / correct,\n",
    "                \"incorrect_conf\": (max_w_sum) / (total - correct),\n",
    "                \"profit\": profit,\n",
    "                \"value_pick_roi\": value_pick_profit / num_bets,\n",
    "                \"num_bets_per\": num_bets / total,\n",
    "            }\n",
    "        )\n",
    "\n",
    "        logdf = pd.DataFrame(\n",
    "            data={\n",
    "                \"class\": classL,\n",
    "                \"pred\": predL,\n",
    "                \"max\": maxL,\n",
    "                \"correct\": correctL,\n",
    "                \"priceR\": priceR,\n",
    "                \"priceP\": priceP,\n",
    "                \"bets\": sum(bets),\n",
    "            }\n",
    "        )\n",
    "        table = wandb.Table(dataframe=logdf)\n",
    "        wandb.log({\"table_key\": table})\n",
    "        classCounts = logdf[\"class\"].value_counts()\n",
    "        predCounts = logdf[\"class\"].value_counts()\n",
    "        # boxplot = logdf.boxplot(column=['priceR'],by='correct')\n",
    "\n",
    "        print(classCounts, predCounts)\n",
    "        # boxplot\n",
    "        # plt.savefig(\"boxplot.png\")\n",
    "        # wandb.log({\"boxplot\":boxplot})\n",
    "\n",
    "    # Save the model in the exchangeable ONNX format\n",
    "    # torch.onnx.export(model, images, \"model.onnx\")\n",
    "    # wandb.save(\"model.onnx\")\n"
   ]
  },
  {
   "cell_type": "code",
   "execution_count": null,
   "metadata": {},
   "outputs": [],
   "source": [
    "def train(model, loader, test_loader, criterion, optimizer, config):\n",
    "    # Tell wandb to watch what the model gets up to: gradients, weights, and more!\n",
    "    wandb.watch(model, criterion, log=\"all\", log_freq=10)\n",
    "\n",
    "    # Run training and track with wandb\n",
    "    total_batches = len(loader) * config.epochs\n",
    "    example_ct = 0  # number of examples seen\n",
    "    batch_ct = 0\n",
    "    for epoch in tqdm(range(config.epochs)):\n",
    "        for _, (images, labels, _) in enumerate(loader):\n",
    "\n",
    "            loss = train_batch(\n",
    "                images, labels, model, optimizer, criterion, btch_count=batch_ct\n",
    "            )\n",
    "            example_ct += len(images)\n",
    "            batch_ct += 1\n",
    "\n",
    "            # Report metrics every 25th batch\n",
    "            if ((batch_ct + 1) % 250) == 0:\n",
    "                train_log(loss, example_ct, epoch)\n",
    "\n",
    "        if epoch % 20 == 0:\n",
    "            test(model, test_loader, batch_ct)\n",
    "\n",
    "\n",
    "def train_batch(images, labels, model, optimizer, criterion, btch_count=0):\n",
    "    images, labels = images, labels\n",
    "\n",
    "    # Forward pass ➡\n",
    "    outputs = model(images)\n",
    "    loss = criterion(outputs, labels.float())\n",
    "\n",
    "    # Backward pass ⬅\n",
    "    optimizer.zero_grad()\n",
    "    loss.backward()\n",
    "\n",
    "    # Step with optimizer\n",
    "    optimizer.step()\n",
    "\n",
    "    return loss\n"
   ]
  },
  {
   "cell_type": "code",
   "execution_count": null,
   "metadata": {},
   "outputs": [],
   "source": [
    "def train_log(loss, example_ct, epoch):\n",
    "    # Where the magic happens\n",
    "    wandb.log({\"epoch\": epoch, \"loss\": loss}, step=example_ct)\n",
    "    # print(f\"Loss after \" + str(example_ct).zfill(5) + f\" examples: {loss:.3f}\")\n"
   ]
  },
  {
   "cell_type": "code",
   "execution_count": null,
   "metadata": {},
   "outputs": [],
   "source": [
    "def model_pipeline(config=None):\n",
    "    dataset = my_dataset\n",
    "    # tell wandb to get started\n",
    "    with wandb.init(project=\"debug\", config=config):\n",
    "        # access all HPs through wandb.config, so logging matches execution!\n",
    "\n",
    "        config = wandb.config\n",
    "        pprint.pprint(config)\n",
    "        pprint.pprint(config.epochs)\n",
    "        print(config)\n",
    "\n",
    "        # make the model, data, and optimization problem\n",
    "        model, train_loader, test_loader, criterion, optimizer = make(config, dataset)\n",
    "        model = model.to(device)\n",
    "        print(model)\n",
    "\n",
    "        # and use them to train the model\n",
    "        train(model, train_loader, test_loader, criterion, optimizer, config)\n",
    "\n",
    "        # and test its final performance\n",
    "        test(model, test_loader)\n",
    "\n",
    "    return model\n"
   ]
  },
  {
   "cell_type": "code",
   "execution_count": null,
   "metadata": {},
   "outputs": [
    {
     "ename": "NameError",
     "evalue": "name 'sweep_config' is not defined",
     "output_type": "error",
     "traceback": [
      "\u001b[1;31m---------------------------------------------------------------------------\u001b[0m",
      "\u001b[1;31mNameError\u001b[0m                                 Traceback (most recent call last)",
      "\u001b[1;32mc:\\Users\\Nick\\Documents\\GitHub\\grvmodel\\Python\\pytorch\\New Model\\model_wandb_priced.ipynb Cell 17'\u001b[0m in \u001b[0;36m<cell line: 1>\u001b[1;34m()\u001b[0m\n\u001b[1;32m----> <a href='vscode-notebook-cell:/c%3A/Users/Nick/Documents/GitHub/grvmodel/Python/pytorch/New%20Model/model_wandb_priced.ipynb#ch0000016?line=0'>1</a>\u001b[0m sweep_config\n",
      "\u001b[1;31mNameError\u001b[0m: name 'sweep_config' is not defined"
     ]
    }
   ],
   "source": [
    "sweep_config\n"
   ]
  },
  {
   "cell_type": "code",
   "execution_count": null,
   "metadata": {},
   "outputs": [
    {
     "data": {
      "text/html": [
       "wandb version 0.12.18 is available!  To upgrade, please run:\n",
       " $ pip install wandb --upgrade"
      ],
      "text/plain": [
       "<IPython.core.display.HTML object>"
      ]
     },
     "metadata": {},
     "output_type": "display_data"
    },
    {
     "data": {
      "text/html": [
       "Tracking run with wandb version 0.12.14"
      ],
      "text/plain": [
       "<IPython.core.display.HTML object>"
      ]
     },
     "metadata": {},
     "output_type": "display_data"
    },
    {
     "data": {
      "text/html": [
       "Run data is saved locally in <code>c:\\Users\\Nick\\Documents\\GitHub\\grvmodel\\Python\\pytorch\\New Model\\wandb\\run-20220616_221228-3kgaq2yk</code>"
      ],
      "text/plain": [
       "<IPython.core.display.HTML object>"
      ]
     },
     "metadata": {},
     "output_type": "display_data"
    },
    {
     "data": {
      "text/html": [
       "Syncing run <strong><a href=\"https://wandb.ai/nickojelly/debug/runs/3kgaq2yk\" target=\"_blank\">spring-plant-40</a></strong> to <a href=\"https://wandb.ai/nickojelly/debug\" target=\"_blank\">Weights & Biases</a> (<a href=\"https://wandb.me/run\" target=\"_blank\">docs</a>)<br/>"
      ],
      "text/plain": [
       "<IPython.core.display.HTML object>"
      ]
     },
     "metadata": {},
     "output_type": "display_data"
    },
    {
     "name": "stderr",
     "output_type": "stream",
     "text": [
      "  0%|          | 0/2000 [00:00<?, ?it/s]"
     ]
    },
    {
     "name": "stdout",
     "output_type": "stream",
     "text": [
      "{'epochs': 2000, 'classes': 8, 'f1_layer_size': 32, 'f2_layer_size': 32, 'batch_size': 64, 'learning_rate': 0.0005, 'optimizer': 'adam', 'loss': 'Huber', 'dropout': 0.2, 'validation_split': 0.2, 'dataset': 'MNIST', 'architecture': 'CNN', 'dataset_size': 66976}\n",
      "2000\n",
      "{'epochs': 2000, 'classes': 8, 'f1_layer_size': 32, 'f2_layer_size': 32, 'batch_size': 64, 'learning_rate': 0.0005, 'optimizer': 'adam', 'loss': 'Huber', 'dropout': 0.2, 'validation_split': 0.2, 'dataset': 'MNIST', 'architecture': 'CNN', 'dataset_size': 66976}\n",
      "Sequential(\n",
      "  (0): Linear(in_features=120, out_features=32, bias=True)\n",
      "  (1): ReLU()\n",
      "  (2): Linear(in_features=32, out_features=32, bias=True)\n",
      "  (3): ReLU()\n",
      "  (4): Linear(in_features=32, out_features=8, bias=True)\n",
      "  (5): Softmax(dim=1)\n",
      ")\n"
     ]
    },
    {
     "name": "stderr",
     "output_type": "stream",
     "text": [
      "  0%|          | 1/2000 [00:22<12:21:49, 22.27s/it]"
     ]
    },
    {
     "name": "stdout",
     "output_type": "stream",
     "text": [
      "5    2052\n",
      "4    1996\n",
      "3    1965\n",
      "2    1734\n",
      "6    1626\n",
      "1    1605\n",
      "0    1367\n",
      "7    1050\n",
      "Name: class, dtype: int64 5    2052\n",
      "4    1996\n",
      "3    1965\n",
      "2    1734\n",
      "6    1626\n",
      "1    1605\n",
      "0    1367\n",
      "7    1050\n",
      "Name: class, dtype: int64\n"
     ]
    },
    {
     "name": "stderr",
     "output_type": "stream",
     "text": [
      "  1%|          | 21/2000 [01:38<4:57:40,  9.02s/it]"
     ]
    },
    {
     "name": "stdout",
     "output_type": "stream",
     "text": [
      "5    2052\n",
      "4    1996\n",
      "3    1965\n",
      "2    1734\n",
      "6    1626\n",
      "1    1605\n",
      "0    1367\n",
      "7    1050\n",
      "Name: class, dtype: int64 5    2052\n",
      "4    1996\n",
      "3    1965\n",
      "2    1734\n",
      "6    1626\n",
      "1    1605\n",
      "0    1367\n",
      "7    1050\n",
      "Name: class, dtype: int64\n"
     ]
    },
    {
     "name": "stderr",
     "output_type": "stream",
     "text": [
      "  2%|▏         | 41/2000 [02:52<4:47:12,  8.80s/it]"
     ]
    },
    {
     "name": "stdout",
     "output_type": "stream",
     "text": [
      "5    2052\n",
      "4    1996\n",
      "3    1965\n",
      "2    1734\n",
      "6    1626\n",
      "1    1605\n",
      "0    1367\n",
      "7    1050\n",
      "Name: class, dtype: int64 5    2052\n",
      "4    1996\n",
      "3    1965\n",
      "2    1734\n",
      "6    1626\n",
      "1    1605\n",
      "0    1367\n",
      "7    1050\n",
      "Name: class, dtype: int64\n"
     ]
    },
    {
     "name": "stderr",
     "output_type": "stream",
     "text": [
      "  3%|▎         | 61/2000 [04:08<4:48:50,  8.94s/it]"
     ]
    },
    {
     "name": "stdout",
     "output_type": "stream",
     "text": [
      "5    2052\n",
      "4    1996\n",
      "3    1965\n",
      "2    1734\n",
      "6    1626\n",
      "1    1605\n",
      "0    1367\n",
      "7    1050\n",
      "Name: class, dtype: int64 5    2052\n",
      "4    1996\n",
      "3    1965\n",
      "2    1734\n",
      "6    1626\n",
      "1    1605\n",
      "0    1367\n",
      "7    1050\n",
      "Name: class, dtype: int64\n"
     ]
    },
    {
     "name": "stderr",
     "output_type": "stream",
     "text": [
      "  4%|▍         | 81/2000 [05:22<4:34:35,  8.59s/it]"
     ]
    },
    {
     "name": "stdout",
     "output_type": "stream",
     "text": [
      "5    2052\n",
      "4    1996\n",
      "3    1965\n",
      "2    1734\n",
      "6    1626\n",
      "1    1605\n",
      "0    1367\n",
      "7    1050\n",
      "Name: class, dtype: int64 5    2052\n",
      "4    1996\n",
      "3    1965\n",
      "2    1734\n",
      "6    1626\n",
      "1    1605\n",
      "0    1367\n",
      "7    1050\n",
      "Name: class, dtype: int64\n"
     ]
    },
    {
     "name": "stderr",
     "output_type": "stream",
     "text": [
      "  5%|▌         | 101/2000 [06:38<4:39:33,  8.83s/it]"
     ]
    },
    {
     "name": "stdout",
     "output_type": "stream",
     "text": [
      "5    2052\n",
      "4    1996\n",
      "3    1965\n",
      "2    1734\n",
      "6    1626\n",
      "1    1605\n",
      "0    1367\n",
      "7    1050\n",
      "Name: class, dtype: int64 5    2052\n",
      "4    1996\n",
      "3    1965\n",
      "2    1734\n",
      "6    1626\n",
      "1    1605\n",
      "0    1367\n",
      "7    1050\n",
      "Name: class, dtype: int64\n"
     ]
    },
    {
     "name": "stderr",
     "output_type": "stream",
     "text": [
      "  6%|▌         | 121/2000 [07:52<4:36:09,  8.82s/it]"
     ]
    },
    {
     "name": "stdout",
     "output_type": "stream",
     "text": [
      "5    2052\n",
      "4    1996\n",
      "3    1965\n",
      "2    1734\n",
      "6    1626\n",
      "1    1605\n",
      "0    1367\n",
      "7    1050\n",
      "Name: class, dtype: int64 5    2052\n",
      "4    1996\n",
      "3    1965\n",
      "2    1734\n",
      "6    1626\n",
      "1    1605\n",
      "0    1367\n",
      "7    1050\n",
      "Name: class, dtype: int64\n"
     ]
    },
    {
     "name": "stderr",
     "output_type": "stream",
     "text": [
      "  7%|▋         | 141/2000 [09:08<4:39:03,  9.01s/it]"
     ]
    },
    {
     "name": "stdout",
     "output_type": "stream",
     "text": [
      "5    2052\n",
      "4    1996\n",
      "3    1965\n",
      "2    1734\n",
      "6    1626\n",
      "1    1605\n",
      "0    1367\n",
      "7    1050\n",
      "Name: class, dtype: int64 5    2052\n",
      "4    1996\n",
      "3    1965\n",
      "2    1734\n",
      "6    1626\n",
      "1    1605\n",
      "0    1367\n",
      "7    1050\n",
      "Name: class, dtype: int64\n"
     ]
    },
    {
     "name": "stderr",
     "output_type": "stream",
     "text": [
      "  8%|▊         | 161/2000 [10:22<4:29:01,  8.78s/it]"
     ]
    },
    {
     "name": "stdout",
     "output_type": "stream",
     "text": [
      "5    2052\n",
      "4    1996\n",
      "3    1965\n",
      "2    1734\n",
      "6    1626\n",
      "1    1605\n",
      "0    1367\n",
      "7    1050\n",
      "Name: class, dtype: int64 5    2052\n",
      "4    1996\n",
      "3    1965\n",
      "2    1734\n",
      "6    1626\n",
      "1    1605\n",
      "0    1367\n",
      "7    1050\n",
      "Name: class, dtype: int64\n"
     ]
    },
    {
     "name": "stderr",
     "output_type": "stream",
     "text": [
      "  9%|▉         | 181/2000 [11:38<4:29:19,  8.88s/it]"
     ]
    },
    {
     "name": "stdout",
     "output_type": "stream",
     "text": [
      "5    2052\n",
      "4    1996\n",
      "3    1965\n",
      "2    1734\n",
      "6    1626\n",
      "1    1605\n",
      "0    1367\n",
      "7    1050\n",
      "Name: class, dtype: int64 5    2052\n",
      "4    1996\n",
      "3    1965\n",
      "2    1734\n",
      "6    1626\n",
      "1    1605\n",
      "0    1367\n",
      "7    1050\n",
      "Name: class, dtype: int64\n"
     ]
    },
    {
     "name": "stderr",
     "output_type": "stream",
     "text": [
      " 10%|█         | 201/2000 [12:51<4:13:05,  8.44s/it]"
     ]
    },
    {
     "name": "stdout",
     "output_type": "stream",
     "text": [
      "5    2052\n",
      "4    1996\n",
      "3    1965\n",
      "2    1734\n",
      "6    1626\n",
      "1    1605\n",
      "0    1367\n",
      "7    1050\n",
      "Name: class, dtype: int64 5    2052\n",
      "4    1996\n",
      "3    1965\n",
      "2    1734\n",
      "6    1626\n",
      "1    1605\n",
      "0    1367\n",
      "7    1050\n",
      "Name: class, dtype: int64\n"
     ]
    },
    {
     "name": "stderr",
     "output_type": "stream",
     "text": [
      " 11%|█         | 221/2000 [14:07<4:21:42,  8.83s/it]"
     ]
    },
    {
     "name": "stdout",
     "output_type": "stream",
     "text": [
      "5    2052\n",
      "4    1996\n",
      "3    1965\n",
      "2    1734\n",
      "6    1626\n",
      "1    1605\n",
      "0    1367\n",
      "7    1050\n",
      "Name: class, dtype: int64 5    2052\n",
      "4    1996\n",
      "3    1965\n",
      "2    1734\n",
      "6    1626\n",
      "1    1605\n",
      "0    1367\n",
      "7    1050\n",
      "Name: class, dtype: int64\n"
     ]
    },
    {
     "name": "stderr",
     "output_type": "stream",
     "text": [
      " 12%|█▏        | 241/2000 [15:21<4:21:26,  8.92s/it]"
     ]
    },
    {
     "name": "stdout",
     "output_type": "stream",
     "text": [
      "5    2052\n",
      "4    1996\n",
      "3    1965\n",
      "2    1734\n",
      "6    1626\n",
      "1    1605\n",
      "0    1367\n",
      "7    1050\n",
      "Name: class, dtype: int64 5    2052\n",
      "4    1996\n",
      "3    1965\n",
      "2    1734\n",
      "6    1626\n",
      "1    1605\n",
      "0    1367\n",
      "7    1050\n",
      "Name: class, dtype: int64\n"
     ]
    },
    {
     "name": "stderr",
     "output_type": "stream",
     "text": [
      " 13%|█▎        | 261/2000 [16:36<4:13:35,  8.75s/it]"
     ]
    },
    {
     "name": "stdout",
     "output_type": "stream",
     "text": [
      "5    2052\n",
      "4    1996\n",
      "3    1965\n",
      "2    1734\n",
      "6    1626\n",
      "1    1605\n",
      "0    1367\n",
      "7    1050\n",
      "Name: class, dtype: int64 5    2052\n",
      "4    1996\n",
      "3    1965\n",
      "2    1734\n",
      "6    1626\n",
      "1    1605\n",
      "0    1367\n",
      "7    1050\n",
      "Name: class, dtype: int64\n"
     ]
    },
    {
     "name": "stderr",
     "output_type": "stream",
     "text": [
      " 14%|█▍        | 281/2000 [17:50<4:15:37,  8.92s/it]"
     ]
    },
    {
     "name": "stdout",
     "output_type": "stream",
     "text": [
      "5    2052\n",
      "4    1996\n",
      "3    1965\n",
      "2    1734\n",
      "6    1626\n",
      "1    1605\n",
      "0    1367\n",
      "7    1050\n",
      "Name: class, dtype: int64 5    2052\n",
      "4    1996\n",
      "3    1965\n",
      "2    1734\n",
      "6    1626\n",
      "1    1605\n",
      "0    1367\n",
      "7    1050\n",
      "Name: class, dtype: int64\n"
     ]
    },
    {
     "name": "stderr",
     "output_type": "stream",
     "text": [
      " 15%|█▌        | 301/2000 [19:05<4:07:00,  8.72s/it]"
     ]
    },
    {
     "name": "stdout",
     "output_type": "stream",
     "text": [
      "5    2052\n",
      "4    1996\n",
      "3    1965\n",
      "2    1734\n",
      "6    1626\n",
      "1    1605\n",
      "0    1367\n",
      "7    1050\n",
      "Name: class, dtype: int64 5    2052\n",
      "4    1996\n",
      "3    1965\n",
      "2    1734\n",
      "6    1626\n",
      "1    1605\n",
      "0    1367\n",
      "7    1050\n",
      "Name: class, dtype: int64\n"
     ]
    },
    {
     "name": "stderr",
     "output_type": "stream",
     "text": [
      " 16%|█▌        | 321/2000 [20:19<4:07:54,  8.86s/it]"
     ]
    },
    {
     "name": "stdout",
     "output_type": "stream",
     "text": [
      "5    2052\n",
      "4    1996\n",
      "3    1965\n",
      "2    1734\n",
      "6    1626\n",
      "1    1605\n",
      "0    1367\n",
      "7    1050\n",
      "Name: class, dtype: int64 5    2052\n",
      "4    1996\n",
      "3    1965\n",
      "2    1734\n",
      "6    1626\n",
      "1    1605\n",
      "0    1367\n",
      "7    1050\n",
      "Name: class, dtype: int64\n"
     ]
    },
    {
     "name": "stderr",
     "output_type": "stream",
     "text": [
      " 17%|█▋        | 341/2000 [21:34<4:02:12,  8.76s/it]"
     ]
    },
    {
     "name": "stdout",
     "output_type": "stream",
     "text": [
      "5    2052\n",
      "4    1996\n",
      "3    1965\n",
      "2    1734\n",
      "6    1626\n",
      "1    1605\n",
      "0    1367\n",
      "7    1050\n",
      "Name: class, dtype: int64 5    2052\n",
      "4    1996\n",
      "3    1965\n",
      "2    1734\n",
      "6    1626\n",
      "1    1605\n",
      "0    1367\n",
      "7    1050\n",
      "Name: class, dtype: int64\n"
     ]
    },
    {
     "name": "stderr",
     "output_type": "stream",
     "text": [
      " 18%|█▊        | 361/2000 [22:49<4:03:27,  8.91s/it]"
     ]
    },
    {
     "name": "stdout",
     "output_type": "stream",
     "text": [
      "5    2052\n",
      "4    1996\n",
      "3    1965\n",
      "2    1734\n",
      "6    1626\n",
      "1    1605\n",
      "0    1367\n",
      "7    1050\n",
      "Name: class, dtype: int64 5    2052\n",
      "4    1996\n",
      "3    1965\n",
      "2    1734\n",
      "6    1626\n",
      "1    1605\n",
      "0    1367\n",
      "7    1050\n",
      "Name: class, dtype: int64\n"
     ]
    },
    {
     "name": "stderr",
     "output_type": "stream",
     "text": [
      " 19%|█▉        | 381/2000 [24:03<3:56:20,  8.76s/it]"
     ]
    },
    {
     "name": "stdout",
     "output_type": "stream",
     "text": [
      "5    2052\n",
      "4    1996\n",
      "3    1965\n",
      "2    1734\n",
      "6    1626\n",
      "1    1605\n",
      "0    1367\n",
      "7    1050\n",
      "Name: class, dtype: int64 5    2052\n",
      "4    1996\n",
      "3    1965\n",
      "2    1734\n",
      "6    1626\n",
      "1    1605\n",
      "0    1367\n",
      "7    1050\n",
      "Name: class, dtype: int64\n"
     ]
    },
    {
     "name": "stderr",
     "output_type": "stream",
     "text": [
      " 20%|██        | 401/2000 [25:17<3:49:06,  8.60s/it]"
     ]
    },
    {
     "name": "stdout",
     "output_type": "stream",
     "text": [
      "5    2052\n",
      "4    1996\n",
      "3    1965\n",
      "2    1734\n",
      "6    1626\n",
      "1    1605\n",
      "0    1367\n",
      "7    1050\n",
      "Name: class, dtype: int64 5    2052\n",
      "4    1996\n",
      "3    1965\n",
      "2    1734\n",
      "6    1626\n",
      "1    1605\n",
      "0    1367\n",
      "7    1050\n",
      "Name: class, dtype: int64\n"
     ]
    },
    {
     "name": "stderr",
     "output_type": "stream",
     "text": [
      " 21%|██        | 421/2000 [26:33<3:53:04,  8.86s/it]"
     ]
    },
    {
     "name": "stdout",
     "output_type": "stream",
     "text": [
      "5    2052\n",
      "4    1996\n",
      "3    1965\n",
      "2    1734\n",
      "6    1626\n",
      "1    1605\n",
      "0    1367\n",
      "7    1050\n",
      "Name: class, dtype: int64 5    2052\n",
      "4    1996\n",
      "3    1965\n",
      "2    1734\n",
      "6    1626\n",
      "1    1605\n",
      "0    1367\n",
      "7    1050\n",
      "Name: class, dtype: int64\n"
     ]
    },
    {
     "name": "stderr",
     "output_type": "stream",
     "text": [
      " 22%|██▏       | 441/2000 [27:46<3:46:29,  8.72s/it]"
     ]
    },
    {
     "name": "stdout",
     "output_type": "stream",
     "text": [
      "5    2052\n",
      "4    1996\n",
      "3    1965\n",
      "2    1734\n",
      "6    1626\n",
      "1    1605\n",
      "0    1367\n",
      "7    1050\n",
      "Name: class, dtype: int64 5    2052\n",
      "4    1996\n",
      "3    1965\n",
      "2    1734\n",
      "6    1626\n",
      "1    1605\n",
      "0    1367\n",
      "7    1050\n",
      "Name: class, dtype: int64\n"
     ]
    },
    {
     "name": "stderr",
     "output_type": "stream",
     "text": [
      " 23%|██▎       | 461/2000 [29:02<3:49:48,  8.96s/it]"
     ]
    },
    {
     "name": "stdout",
     "output_type": "stream",
     "text": [
      "5    2052\n",
      "4    1996\n",
      "3    1965\n",
      "2    1734\n",
      "6    1626\n",
      "1    1605\n",
      "0    1367\n",
      "7    1050\n",
      "Name: class, dtype: int64 5    2052\n",
      "4    1996\n",
      "3    1965\n",
      "2    1734\n",
      "6    1626\n",
      "1    1605\n",
      "0    1367\n",
      "7    1050\n",
      "Name: class, dtype: int64\n"
     ]
    },
    {
     "name": "stderr",
     "output_type": "stream",
     "text": [
      " 24%|██▍       | 481/2000 [30:16<3:43:36,  8.83s/it]"
     ]
    },
    {
     "name": "stdout",
     "output_type": "stream",
     "text": [
      "5    2052\n",
      "4    1996\n",
      "3    1965\n",
      "2    1734\n",
      "6    1626\n",
      "1    1605\n",
      "0    1367\n",
      "7    1050\n",
      "Name: class, dtype: int64 5    2052\n",
      "4    1996\n",
      "3    1965\n",
      "2    1734\n",
      "6    1626\n",
      "1    1605\n",
      "0    1367\n",
      "7    1050\n",
      "Name: class, dtype: int64\n"
     ]
    },
    {
     "name": "stderr",
     "output_type": "stream",
     "text": [
      " 25%|██▌       | 501/2000 [31:30<3:34:17,  8.58s/it]"
     ]
    },
    {
     "name": "stdout",
     "output_type": "stream",
     "text": [
      "5    2052\n",
      "4    1996\n",
      "3    1965\n",
      "2    1734\n",
      "6    1626\n",
      "1    1605\n",
      "0    1367\n",
      "7    1050\n",
      "Name: class, dtype: int64 5    2052\n",
      "4    1996\n",
      "3    1965\n",
      "2    1734\n",
      "6    1626\n",
      "1    1605\n",
      "0    1367\n",
      "7    1050\n",
      "Name: class, dtype: int64\n"
     ]
    },
    {
     "name": "stderr",
     "output_type": "stream",
     "text": [
      " 26%|██▌       | 521/2000 [32:43<3:30:55,  8.56s/it]"
     ]
    },
    {
     "name": "stdout",
     "output_type": "stream",
     "text": [
      "5    2052\n",
      "4    1996\n",
      "3    1965\n",
      "2    1734\n",
      "6    1626\n",
      "1    1605\n",
      "0    1367\n",
      "7    1050\n",
      "Name: class, dtype: int64 5    2052\n",
      "4    1996\n",
      "3    1965\n",
      "2    1734\n",
      "6    1626\n",
      "1    1605\n",
      "0    1367\n",
      "7    1050\n",
      "Name: class, dtype: int64\n"
     ]
    },
    {
     "name": "stderr",
     "output_type": "stream",
     "text": [
      " 27%|██▋       | 541/2000 [33:58<3:33:53,  8.80s/it]"
     ]
    },
    {
     "name": "stdout",
     "output_type": "stream",
     "text": [
      "5    2052\n",
      "4    1996\n",
      "3    1965\n",
      "2    1734\n",
      "6    1626\n",
      "1    1605\n",
      "0    1367\n",
      "7    1050\n",
      "Name: class, dtype: int64 5    2052\n",
      "4    1996\n",
      "3    1965\n",
      "2    1734\n",
      "6    1626\n",
      "1    1605\n",
      "0    1367\n",
      "7    1050\n",
      "Name: class, dtype: int64\n"
     ]
    },
    {
     "name": "stderr",
     "output_type": "stream",
     "text": [
      " 28%|██▊       | 561/2000 [35:11<3:26:20,  8.60s/it]"
     ]
    },
    {
     "name": "stdout",
     "output_type": "stream",
     "text": [
      "5    2052\n",
      "4    1996\n",
      "3    1965\n",
      "2    1734\n",
      "6    1626\n",
      "1    1605\n",
      "0    1367\n",
      "7    1050\n",
      "Name: class, dtype: int64 5    2052\n",
      "4    1996\n",
      "3    1965\n",
      "2    1734\n",
      "6    1626\n",
      "1    1605\n",
      "0    1367\n",
      "7    1050\n",
      "Name: class, dtype: int64\n"
     ]
    },
    {
     "name": "stderr",
     "output_type": "stream",
     "text": [
      " 29%|██▉       | 581/2000 [36:25<3:25:21,  8.68s/it]"
     ]
    },
    {
     "name": "stdout",
     "output_type": "stream",
     "text": [
      "5    2052\n",
      "4    1996\n",
      "3    1965\n",
      "2    1734\n",
      "6    1626\n",
      "1    1605\n",
      "0    1367\n",
      "7    1050\n",
      "Name: class, dtype: int64 5    2052\n",
      "4    1996\n",
      "3    1965\n",
      "2    1734\n",
      "6    1626\n",
      "1    1605\n",
      "0    1367\n",
      "7    1050\n",
      "Name: class, dtype: int64\n"
     ]
    },
    {
     "name": "stderr",
     "output_type": "stream",
     "text": [
      " 30%|███       | 601/2000 [37:38<3:19:53,  8.57s/it]"
     ]
    },
    {
     "name": "stdout",
     "output_type": "stream",
     "text": [
      "5    2052\n",
      "4    1996\n",
      "3    1965\n",
      "2    1734\n",
      "6    1626\n",
      "1    1605\n",
      "0    1367\n",
      "7    1050\n",
      "Name: class, dtype: int64 5    2052\n",
      "4    1996\n",
      "3    1965\n",
      "2    1734\n",
      "6    1626\n",
      "1    1605\n",
      "0    1367\n",
      "7    1050\n",
      "Name: class, dtype: int64\n"
     ]
    },
    {
     "name": "stderr",
     "output_type": "stream",
     "text": [
      " 31%|███       | 621/2000 [38:53<3:25:43,  8.95s/it]"
     ]
    },
    {
     "name": "stdout",
     "output_type": "stream",
     "text": [
      "5    2052\n",
      "4    1996\n",
      "3    1965\n",
      "2    1734\n",
      "6    1626\n",
      "1    1605\n",
      "0    1367\n",
      "7    1050\n",
      "Name: class, dtype: int64 5    2052\n",
      "4    1996\n",
      "3    1965\n",
      "2    1734\n",
      "6    1626\n",
      "1    1605\n",
      "0    1367\n",
      "7    1050\n",
      "Name: class, dtype: int64\n"
     ]
    },
    {
     "name": "stderr",
     "output_type": "stream",
     "text": [
      " 32%|███▏      | 641/2000 [40:06<3:16:14,  8.66s/it]"
     ]
    },
    {
     "name": "stdout",
     "output_type": "stream",
     "text": [
      "5    2052\n",
      "4    1996\n",
      "3    1965\n",
      "2    1734\n",
      "6    1626\n",
      "1    1605\n",
      "0    1367\n",
      "7    1050\n",
      "Name: class, dtype: int64 5    2052\n",
      "4    1996\n",
      "3    1965\n",
      "2    1734\n",
      "6    1626\n",
      "1    1605\n",
      "0    1367\n",
      "7    1050\n",
      "Name: class, dtype: int64\n"
     ]
    },
    {
     "name": "stderr",
     "output_type": "stream",
     "text": [
      " 33%|███▎      | 661/2000 [41:20<3:13:14,  8.66s/it]"
     ]
    },
    {
     "name": "stdout",
     "output_type": "stream",
     "text": [
      "5    2052\n",
      "4    1996\n",
      "3    1965\n",
      "2    1734\n",
      "6    1626\n",
      "1    1605\n",
      "0    1367\n",
      "7    1050\n",
      "Name: class, dtype: int64 5    2052\n",
      "4    1996\n",
      "3    1965\n",
      "2    1734\n",
      "6    1626\n",
      "1    1605\n",
      "0    1367\n",
      "7    1050\n",
      "Name: class, dtype: int64\n"
     ]
    },
    {
     "name": "stderr",
     "output_type": "stream",
     "text": [
      " 34%|███▍      | 681/2000 [42:33<3:08:35,  8.58s/it]"
     ]
    },
    {
     "name": "stdout",
     "output_type": "stream",
     "text": [
      "5    2052\n",
      "4    1996\n",
      "3    1965\n",
      "2    1734\n",
      "6    1626\n",
      "1    1605\n",
      "0    1367\n",
      "7    1050\n",
      "Name: class, dtype: int64 5    2052\n",
      "4    1996\n",
      "3    1965\n",
      "2    1734\n",
      "6    1626\n",
      "1    1605\n",
      "0    1367\n",
      "7    1050\n",
      "Name: class, dtype: int64\n"
     ]
    },
    {
     "name": "stderr",
     "output_type": "stream",
     "text": [
      " 35%|███▌      | 701/2000 [43:48<3:06:16,  8.60s/it]"
     ]
    },
    {
     "name": "stdout",
     "output_type": "stream",
     "text": [
      "5    2052\n",
      "4    1996\n",
      "3    1965\n",
      "2    1734\n",
      "6    1626\n",
      "1    1605\n",
      "0    1367\n",
      "7    1050\n",
      "Name: class, dtype: int64 5    2052\n",
      "4    1996\n",
      "3    1965\n",
      "2    1734\n",
      "6    1626\n",
      "1    1605\n",
      "0    1367\n",
      "7    1050\n",
      "Name: class, dtype: int64\n"
     ]
    },
    {
     "name": "stderr",
     "output_type": "stream",
     "text": [
      " 36%|███▌      | 721/2000 [45:01<3:02:13,  8.55s/it]"
     ]
    },
    {
     "name": "stdout",
     "output_type": "stream",
     "text": [
      "5    2052\n",
      "4    1996\n",
      "3    1965\n",
      "2    1734\n",
      "6    1626\n",
      "1    1605\n",
      "0    1367\n",
      "7    1050\n",
      "Name: class, dtype: int64 5    2052\n",
      "4    1996\n",
      "3    1965\n",
      "2    1734\n",
      "6    1626\n",
      "1    1605\n",
      "0    1367\n",
      "7    1050\n",
      "Name: class, dtype: int64\n"
     ]
    },
    {
     "name": "stderr",
     "output_type": "stream",
     "text": [
      " 37%|███▋      | 741/2000 [46:16<3:05:51,  8.86s/it]"
     ]
    },
    {
     "name": "stdout",
     "output_type": "stream",
     "text": [
      "5    2052\n",
      "4    1996\n",
      "3    1965\n",
      "2    1734\n",
      "6    1626\n",
      "1    1605\n",
      "0    1367\n",
      "7    1050\n",
      "Name: class, dtype: int64 5    2052\n",
      "4    1996\n",
      "3    1965\n",
      "2    1734\n",
      "6    1626\n",
      "1    1605\n",
      "0    1367\n",
      "7    1050\n",
      "Name: class, dtype: int64\n"
     ]
    },
    {
     "name": "stderr",
     "output_type": "stream",
     "text": [
      " 38%|███▊      | 761/2000 [47:29<3:00:17,  8.73s/it]"
     ]
    },
    {
     "name": "stdout",
     "output_type": "stream",
     "text": [
      "5    2052\n",
      "4    1996\n",
      "3    1965\n",
      "2    1734\n",
      "6    1626\n",
      "1    1605\n",
      "0    1367\n",
      "7    1050\n",
      "Name: class, dtype: int64 5    2052\n",
      "4    1996\n",
      "3    1965\n",
      "2    1734\n",
      "6    1626\n",
      "1    1605\n",
      "0    1367\n",
      "7    1050\n",
      "Name: class, dtype: int64\n"
     ]
    },
    {
     "name": "stderr",
     "output_type": "stream",
     "text": [
      " 39%|███▉      | 781/2000 [48:44<2:59:52,  8.85s/it]"
     ]
    },
    {
     "name": "stdout",
     "output_type": "stream",
     "text": [
      "5    2052\n",
      "4    1996\n",
      "3    1965\n",
      "2    1734\n",
      "6    1626\n",
      "1    1605\n",
      "0    1367\n",
      "7    1050\n",
      "Name: class, dtype: int64 5    2052\n",
      "4    1996\n",
      "3    1965\n",
      "2    1734\n",
      "6    1626\n",
      "1    1605\n",
      "0    1367\n",
      "7    1050\n",
      "Name: class, dtype: int64\n"
     ]
    },
    {
     "name": "stderr",
     "output_type": "stream",
     "text": [
      " 40%|████      | 801/2000 [49:56<2:52:04,  8.61s/it]"
     ]
    },
    {
     "name": "stdout",
     "output_type": "stream",
     "text": [
      "5    2052\n",
      "4    1996\n",
      "3    1965\n",
      "2    1734\n",
      "6    1626\n",
      "1    1605\n",
      "0    1367\n",
      "7    1050\n",
      "Name: class, dtype: int64 5    2052\n",
      "4    1996\n",
      "3    1965\n",
      "2    1734\n",
      "6    1626\n",
      "1    1605\n",
      "0    1367\n",
      "7    1050\n",
      "Name: class, dtype: int64\n"
     ]
    },
    {
     "name": "stderr",
     "output_type": "stream",
     "text": [
      " 41%|████      | 821/2000 [51:11<2:51:57,  8.75s/it]"
     ]
    },
    {
     "name": "stdout",
     "output_type": "stream",
     "text": [
      "5    2052\n",
      "4    1996\n",
      "3    1965\n",
      "2    1734\n",
      "6    1626\n",
      "1    1605\n",
      "0    1367\n",
      "7    1050\n",
      "Name: class, dtype: int64 5    2052\n",
      "4    1996\n",
      "3    1965\n",
      "2    1734\n",
      "6    1626\n",
      "1    1605\n",
      "0    1367\n",
      "7    1050\n",
      "Name: class, dtype: int64\n"
     ]
    },
    {
     "name": "stderr",
     "output_type": "stream",
     "text": [
      " 42%|████▏     | 841/2000 [52:24<2:49:47,  8.79s/it]"
     ]
    },
    {
     "name": "stdout",
     "output_type": "stream",
     "text": [
      "5    2052\n",
      "4    1996\n",
      "3    1965\n",
      "2    1734\n",
      "6    1626\n",
      "1    1605\n",
      "0    1367\n",
      "7    1050\n",
      "Name: class, dtype: int64 5    2052\n",
      "4    1996\n",
      "3    1965\n",
      "2    1734\n",
      "6    1626\n",
      "1    1605\n",
      "0    1367\n",
      "7    1050\n",
      "Name: class, dtype: int64\n"
     ]
    },
    {
     "name": "stderr",
     "output_type": "stream",
     "text": [
      " 43%|████▎     | 861/2000 [53:38<2:43:27,  8.61s/it]"
     ]
    },
    {
     "name": "stdout",
     "output_type": "stream",
     "text": [
      "5    2052\n",
      "4    1996\n",
      "3    1965\n",
      "2    1734\n",
      "6    1626\n",
      "1    1605\n",
      "0    1367\n",
      "7    1050\n",
      "Name: class, dtype: int64 5    2052\n",
      "4    1996\n",
      "3    1965\n",
      "2    1734\n",
      "6    1626\n",
      "1    1605\n",
      "0    1367\n",
      "7    1050\n",
      "Name: class, dtype: int64\n"
     ]
    },
    {
     "name": "stderr",
     "output_type": "stream",
     "text": [
      " 44%|████▍     | 881/2000 [54:51<2:39:34,  8.56s/it]"
     ]
    },
    {
     "name": "stdout",
     "output_type": "stream",
     "text": [
      "5    2052\n",
      "4    1996\n",
      "3    1965\n",
      "2    1734\n",
      "6    1626\n",
      "1    1605\n",
      "0    1367\n",
      "7    1050\n",
      "Name: class, dtype: int64 5    2052\n",
      "4    1996\n",
      "3    1965\n",
      "2    1734\n",
      "6    1626\n",
      "1    1605\n",
      "0    1367\n",
      "7    1050\n",
      "Name: class, dtype: int64\n"
     ]
    },
    {
     "name": "stderr",
     "output_type": "stream",
     "text": [
      " 45%|████▌     | 901/2000 [56:05<2:38:09,  8.63s/it]"
     ]
    },
    {
     "name": "stdout",
     "output_type": "stream",
     "text": [
      "5    2052\n",
      "4    1996\n",
      "3    1965\n",
      "2    1734\n",
      "6    1626\n",
      "1    1605\n",
      "0    1367\n",
      "7    1050\n",
      "Name: class, dtype: int64 5    2052\n",
      "4    1996\n",
      "3    1965\n",
      "2    1734\n",
      "6    1626\n",
      "1    1605\n",
      "0    1367\n",
      "7    1050\n",
      "Name: class, dtype: int64\n"
     ]
    },
    {
     "name": "stderr",
     "output_type": "stream",
     "text": [
      " 46%|████▌     | 921/2000 [57:19<2:34:33,  8.59s/it]"
     ]
    },
    {
     "name": "stdout",
     "output_type": "stream",
     "text": [
      "5    2052\n",
      "4    1996\n",
      "3    1965\n",
      "2    1734\n",
      "6    1626\n",
      "1    1605\n",
      "0    1367\n",
      "7    1050\n",
      "Name: class, dtype: int64 5    2052\n",
      "4    1996\n",
      "3    1965\n",
      "2    1734\n",
      "6    1626\n",
      "1    1605\n",
      "0    1367\n",
      "7    1050\n",
      "Name: class, dtype: int64\n"
     ]
    },
    {
     "name": "stderr",
     "output_type": "stream",
     "text": [
      " 47%|████▋     | 941/2000 [58:33<2:32:38,  8.65s/it]"
     ]
    },
    {
     "name": "stdout",
     "output_type": "stream",
     "text": [
      "5    2052\n",
      "4    1996\n",
      "3    1965\n",
      "2    1734\n",
      "6    1626\n",
      "1    1605\n",
      "0    1367\n",
      "7    1050\n",
      "Name: class, dtype: int64 5    2052\n",
      "4    1996\n",
      "3    1965\n",
      "2    1734\n",
      "6    1626\n",
      "1    1605\n",
      "0    1367\n",
      "7    1050\n",
      "Name: class, dtype: int64\n"
     ]
    },
    {
     "name": "stderr",
     "output_type": "stream",
     "text": [
      " 48%|████▊     | 961/2000 [59:46<2:28:44,  8.59s/it]"
     ]
    },
    {
     "name": "stdout",
     "output_type": "stream",
     "text": [
      "5    2052\n",
      "4    1996\n",
      "3    1965\n",
      "2    1734\n",
      "6    1626\n",
      "1    1605\n",
      "0    1367\n",
      "7    1050\n",
      "Name: class, dtype: int64 5    2052\n",
      "4    1996\n",
      "3    1965\n",
      "2    1734\n",
      "6    1626\n",
      "1    1605\n",
      "0    1367\n",
      "7    1050\n",
      "Name: class, dtype: int64\n"
     ]
    },
    {
     "name": "stderr",
     "output_type": "stream",
     "text": [
      " 49%|████▉     | 981/2000 [1:01:00<2:27:00,  8.66s/it]"
     ]
    },
    {
     "name": "stdout",
     "output_type": "stream",
     "text": [
      "5    2052\n",
      "4    1996\n",
      "3    1965\n",
      "2    1734\n",
      "6    1626\n",
      "1    1605\n",
      "0    1367\n",
      "7    1050\n",
      "Name: class, dtype: int64 5    2052\n",
      "4    1996\n",
      "3    1965\n",
      "2    1734\n",
      "6    1626\n",
      "1    1605\n",
      "0    1367\n",
      "7    1050\n",
      "Name: class, dtype: int64\n"
     ]
    },
    {
     "name": "stderr",
     "output_type": "stream",
     "text": [
      " 50%|█████     | 1001/2000 [1:02:14<2:22:59,  8.59s/it]"
     ]
    },
    {
     "name": "stdout",
     "output_type": "stream",
     "text": [
      "5    2052\n",
      "4    1996\n",
      "3    1965\n",
      "2    1734\n",
      "6    1626\n",
      "1    1605\n",
      "0    1367\n",
      "7    1050\n",
      "Name: class, dtype: int64 5    2052\n",
      "4    1996\n",
      "3    1965\n",
      "2    1734\n",
      "6    1626\n",
      "1    1605\n",
      "0    1367\n",
      "7    1050\n",
      "Name: class, dtype: int64\n"
     ]
    },
    {
     "name": "stderr",
     "output_type": "stream",
     "text": [
      " 51%|█████     | 1021/2000 [1:03:28<2:21:48,  8.69s/it]"
     ]
    },
    {
     "name": "stdout",
     "output_type": "stream",
     "text": [
      "5    2052\n",
      "4    1996\n",
      "3    1965\n",
      "2    1734\n",
      "6    1626\n",
      "1    1605\n",
      "0    1367\n",
      "7    1050\n",
      "Name: class, dtype: int64 5    2052\n",
      "4    1996\n",
      "3    1965\n",
      "2    1734\n",
      "6    1626\n",
      "1    1605\n",
      "0    1367\n",
      "7    1050\n",
      "Name: class, dtype: int64\n"
     ]
    },
    {
     "name": "stderr",
     "output_type": "stream",
     "text": [
      " 52%|█████▏    | 1041/2000 [1:04:41<2:18:30,  8.67s/it]"
     ]
    },
    {
     "name": "stdout",
     "output_type": "stream",
     "text": [
      "5    2052\n",
      "4    1996\n",
      "3    1965\n",
      "2    1734\n",
      "6    1626\n",
      "1    1605\n",
      "0    1367\n",
      "7    1050\n",
      "Name: class, dtype: int64 5    2052\n",
      "4    1996\n",
      "3    1965\n",
      "2    1734\n",
      "6    1626\n",
      "1    1605\n",
      "0    1367\n",
      "7    1050\n",
      "Name: class, dtype: int64\n"
     ]
    },
    {
     "name": "stderr",
     "output_type": "stream",
     "text": [
      " 53%|█████▎    | 1061/2000 [1:05:55<2:18:30,  8.85s/it]"
     ]
    },
    {
     "name": "stdout",
     "output_type": "stream",
     "text": [
      "5    2052\n",
      "4    1996\n",
      "3    1965\n",
      "2    1734\n",
      "6    1626\n",
      "1    1605\n",
      "0    1367\n",
      "7    1050\n",
      "Name: class, dtype: int64 5    2052\n",
      "4    1996\n",
      "3    1965\n",
      "2    1734\n",
      "6    1626\n",
      "1    1605\n",
      "0    1367\n",
      "7    1050\n",
      "Name: class, dtype: int64\n"
     ]
    },
    {
     "name": "stderr",
     "output_type": "stream",
     "text": [
      " 54%|█████▍    | 1081/2000 [1:07:09<2:16:36,  8.92s/it]"
     ]
    },
    {
     "name": "stdout",
     "output_type": "stream",
     "text": [
      "5    2052\n",
      "4    1996\n",
      "3    1965\n",
      "2    1734\n",
      "6    1626\n",
      "1    1605\n",
      "0    1367\n",
      "7    1050\n",
      "Name: class, dtype: int64 5    2052\n",
      "4    1996\n",
      "3    1965\n",
      "2    1734\n",
      "6    1626\n",
      "1    1605\n",
      "0    1367\n",
      "7    1050\n",
      "Name: class, dtype: int64\n"
     ]
    },
    {
     "name": "stderr",
     "output_type": "stream",
     "text": [
      " 55%|█████▌    | 1101/2000 [1:08:19<1:57:45,  7.86s/it]"
     ]
    },
    {
     "name": "stdout",
     "output_type": "stream",
     "text": [
      "5    2052\n",
      "4    1996\n",
      "3    1965\n",
      "2    1734\n",
      "6    1626\n",
      "1    1605\n",
      "0    1367\n",
      "7    1050\n",
      "Name: class, dtype: int64 5    2052\n",
      "4    1996\n",
      "3    1965\n",
      "2    1734\n",
      "6    1626\n",
      "1    1605\n",
      "0    1367\n",
      "7    1050\n",
      "Name: class, dtype: int64\n"
     ]
    },
    {
     "name": "stderr",
     "output_type": "stream",
     "text": [
      " 56%|█████▌    | 1121/2000 [1:09:26<1:55:07,  7.86s/it]"
     ]
    },
    {
     "name": "stdout",
     "output_type": "stream",
     "text": [
      "5    2052\n",
      "4    1996\n",
      "3    1965\n",
      "2    1734\n",
      "6    1626\n",
      "1    1605\n",
      "0    1367\n",
      "7    1050\n",
      "Name: class, dtype: int64 5    2052\n",
      "4    1996\n",
      "3    1965\n",
      "2    1734\n",
      "6    1626\n",
      "1    1605\n",
      "0    1367\n",
      "7    1050\n",
      "Name: class, dtype: int64\n"
     ]
    },
    {
     "name": "stderr",
     "output_type": "stream",
     "text": [
      " 56%|█████▌    | 1122/2000 [1:09:29<1:32:15,  6.31s/it]"
     ]
    }
   ],
   "source": [
    "CUDA_LAUNCH_BLOCKING = 1\n",
    "\n",
    "\n",
    "normal_config = dict(\n",
    "    epochs=2000,\n",
    "    classes=8,\n",
    "    f1_layer_size=32,\n",
    "    f2_layer_size=32,\n",
    "    batch_size=64,\n",
    "    learning_rate=0.0005,\n",
    "    optimizer=\"adam\",\n",
    "    loss=\"NLL\",\n",
    "    dropout=0.2,\n",
    "    validation_split=0.2,\n",
    "    dataset=\"MNIST\",\n",
    "    architecture=\"CNN\",\n",
    "    dataset_size=len(training_data),\n",
    ")\n",
    "\n",
    "\n",
    "model = model_pipeline(config=normal_config)\n"
   ]
  }
 ],
 "metadata": {
  "interpreter": {
   "hash": "43115443075634c02a7c247a87b0dd9d74842892e56d473b9e19f544f3149aff"
  },
  "kernelspec": {
   "display_name": "Python 3.9.7 ('pytorch')",
   "language": "python",
   "name": "python3"
  },
  "language_info": {
   "codemirror_mode": {
    "name": "ipython",
    "version": 3
   },
   "file_extension": ".py",
   "mimetype": "text/x-python",
   "name": "python",
   "nbconvert_exporter": "python",
   "pygments_lexer": "ipython3",
   "version": "3.9.12"
  }
 },
 "nbformat": 4,
 "nbformat_minor": 2
}
