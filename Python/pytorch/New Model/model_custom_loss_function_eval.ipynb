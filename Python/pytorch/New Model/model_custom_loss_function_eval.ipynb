{
 "cells": [
  {
   "cell_type": "code",
   "execution_count": 1,
   "metadata": {},
   "outputs": [],
   "source": [
    "import pickle\n",
    "import pandas as pd\n",
    "import os\n",
    "import torch\n",
    "import numpy as np\n",
    "import torch.nn as nn\n",
    "import torch.nn.functional as F\n",
    "import torch.optim as optim\n",
    "from tqdm import tqdm\n",
    "import torch.optim as optim\n",
    "from torch.utils.data import TensorDataset, DataLoader\n",
    "import wandb\n",
    "from torch.utils.data.sampler import SubsetRandomSampler\n",
    "import pprint\n",
    "import matplotlib.pyplot as plt\n",
    "import torch\n",
    "with torch.profiler.profile() as profiler:\n",
    "        pass\n"
   ]
  },
  {
   "cell_type": "code",
   "execution_count": 2,
   "metadata": {},
   "outputs": [
    {
     "name": "stderr",
     "output_type": "stream",
     "text": [
      "Failed to detect the name of this notebook, you can set it manually with the WANDB_NOTEBOOK_NAME environment variable to enable code saving.\n",
      "\u001b[34m\u001b[1mwandb\u001b[0m: Currently logged in as: \u001b[33mnickojelly\u001b[0m (use `wandb login --relogin` to force relogin)\n"
     ]
    },
    {
     "data": {
      "text/plain": [
       "True"
      ]
     },
     "execution_count": 2,
     "metadata": {},
     "output_type": "execute_result"
    }
   ],
   "source": [
    "import wandb\n",
    "\n",
    "wandb.login()\n"
   ]
  },
  {
   "cell_type": "code",
   "execution_count": 3,
   "metadata": {},
   "outputs": [
    {
     "name": "stdout",
     "output_type": "stream",
     "text": [
      "Running on the GPU\n"
     ]
    }
   ],
   "source": [
    "if torch.cuda.is_available():\n",
    "    device = torch.device(\"cuda:0\")  # you can continue going on here, like cuda:1 cuda:2....etc.\n",
    "    print(\"Running on the GPU\")\n",
    "else:\n",
    "    device = torch.device(\"cpu\")\n",
    "    print(\"Running on the CPU\")\n",
    "    "
   ]
  },
  {
   "cell_type": "code",
   "execution_count": 4,
   "metadata": {},
   "outputs": [
    {
     "name": "stderr",
     "output_type": "stream",
     "text": [
      "c:\\Users\\Nick\\.conda\\envs\\pytorch\\lib\\site-packages\\numpy\\core\\_asarray.py:171: VisibleDeprecationWarning: Creating an ndarray from ragged nested sequences (which is a list-or-tuple of lists-or-tuples-or ndarrays with different lengths or shapes) is deprecated. If you meant to do this, you must specify 'dtype=object' when creating the ndarray.\n",
      "  return array(a, dtype, copy=False, order=order, subok=True)\n"
     ]
    },
    {
     "name": "stdout",
     "output_type": "stream",
     "text": [
      "excluded =  0\n"
     ]
    }
   ],
   "source": [
    "REBUILD_DATA = True\n",
    "\n",
    "\n",
    "class GRV:\n",
    "    # class to store training data\n",
    "\n",
    "    # reading data from pickle\n",
    "    file = open(r\"DATA/total_list_w_price_bf.npy\", \"rb\")\n",
    "    data = pickle.load(file)\n",
    "    # seperate out classes from inputs\n",
    "    raceIDs, inputs, classes, prices, win_price, margins, betfairSP = zip(*data)\n",
    "    # removing nan from inputs and convert to float\n",
    "    inputs_df = pd.DataFrame(inputs)\n",
    "    inputs_df.fillna(value=-1, inplace=True)\n",
    "    inputs = inputs_df.values.tolist()\n",
    "    inputs = [[float(i) for i in j] for j in inputs]\n",
    "\n",
    "    # data\n",
    "    training_data = []\n",
    "\n",
    "    def make_training_data(self):\n",
    "        excluded = 0\n",
    "        for i in range(len(self.inputs)):\n",
    "            if len(self.classes[i]) == 8:\n",
    "                self.training_data.append(\n",
    "                    [\n",
    "                        np.array(self.inputs[i]),\n",
    "                        np.array(self.classes[i]),\n",
    "                        np.array(self.prices[i]),\n",
    "                        np.array(self.margins[i]),\n",
    "                        np.array(self.betfairSP[i]),\n",
    "                    ]\n",
    "                )\n",
    "            else:\n",
    "                adjustedList = self.classes[i] + ([8] * (8 - len(self.classes[i])))\n",
    "                adjustedListP = self.prices[i] + ([0] * (8 - len(self.prices[i])))\n",
    "                adjustedListM = self.margins[i] + ([100] * (8 - len(self.margins[i])))\n",
    "                adjustedListSP = self.margins[i] + ([0] * (8 - len(self.betfairSP[i])))\n",
    "                self.training_data.append(\n",
    "                    [\n",
    "                        np.array(self.inputs[i]),\n",
    "                        np.array(adjustedList),\n",
    "                        np.array(adjustedListP),\n",
    "                        np.array(adjustedListM),\n",
    "                        np.array(adjustedListSP)\n",
    "                    ]\n",
    "                )\n",
    "                if len(adjustedList) != 8:\n",
    "                    print(adjustedList)\n",
    "        np.save(\"training_data.npy\", self.training_data)\n",
    "        print(\"excluded = \", excluded)\n",
    "\n",
    "\n",
    "if REBUILD_DATA:\n",
    "    grv = GRV()\n",
    "    grv.make_training_data()\n"
   ]
  },
  {
   "cell_type": "code",
   "execution_count": 5,
   "metadata": {},
   "outputs": [
    {
     "name": "stderr",
     "output_type": "stream",
     "text": [
      "C:\\Users\\Nick\\AppData\\Local\\Temp\\ipykernel_11508\\2102313497.py:20: UserWarning: Creating a tensor from a list of numpy.ndarrays is extremely slow. Please consider converting the list to a single numpy.ndarray with numpy.array() before converting to a tensor. (Triggered internally at  C:\\cb\\pytorch_1000000000000\\work\\torch\\csrc\\utils\\tensor_new.cpp:204.)\n",
      "  Y_w = torch.tensor([i for i in Y_w])\n"
     ]
    }
   ],
   "source": [
    "softmin = nn.Softmin(dim=1)\n",
    "\n",
    "# dataset setup\n",
    "training_data = grv.training_data\n",
    "\n",
    "X = torch.Tensor(np.array([i[0] for i in training_data]))\n",
    "Y = torch.Tensor(np.array([i[1] for i in training_data]))\n",
    "P = torch.Tensor(np.array([i[2] for i in training_data]))\n",
    "Y_m = softmin(torch.Tensor(np.array([i[3] for i in training_data])))\n",
    "bfSP = torch.Tensor(np.array([i[4] for i in training_data]))\n",
    "\n",
    "# Generate winner only class\n",
    "Y_w = []\n",
    "for i in Y:\n",
    "    n = np.zeros(8)\n",
    "    index = torch.argmin(i)\n",
    "    n[index] = float(1)\n",
    "    Y_w.append(n)\n",
    "\n",
    "Y_w = torch.tensor([i for i in Y_w])\n",
    "X = X.to(device)\n",
    "Y_w = Y_w.to(device)\n",
    "\n",
    "\n",
    "Y_m = Y_m.to(device)\n",
    "P = P.to(device)\n",
    "bfSP = bfSP.to('cuda')\n",
    "bfSP = torch.nan_to_num(bfSP, nan=0)\n",
    "my_dataset = TensorDataset(X, Y_m, P, bfSP)\n",
    "my_dataloader = DataLoader(my_dataset)\n"
   ]
  },
  {
   "cell_type": "code",
   "execution_count": null,
   "metadata": {},
   "outputs": [],
   "source": [
    "X[1:10]\n"
   ]
  },
  {
   "cell_type": "code",
   "execution_count": 16,
   "metadata": {},
   "outputs": [],
   "source": [
    "# have to pass in dataset to get_data (created above)\n",
    "def make_loader(dataset, config, train=True):\n",
    "    dataset_size = len(dataset)\n",
    "    indices = list(range(dataset_size))\n",
    "    split = int(np.floor(config[\"validation_split\"] * dataset_size))\n",
    "    random_seed = 42\n",
    "    np.random.seed(random_seed)\n",
    "    np.random.shuffle(indices)\n",
    "    train_indices, val_indices = indices[split:], indices[:split]\n",
    "\n",
    "    if train:\n",
    "        dataset_sampler = SubsetRandomSampler(train_indices)\n",
    "        loader = torch.utils.data.DataLoader(\n",
    "            dataset=dataset,\n",
    "            batch_size=config[\"batch_size\"],\n",
    "            shuffle=False,\n",
    "            pin_memory=False,\n",
    "            num_workers=0,\n",
    "            sampler=dataset_sampler\n",
    "        )\n",
    "    else:\n",
    "        dataset_sampler = SubsetRandomSampler(val_indices)\n",
    "        loader = torch.utils.data.DataLoader(\n",
    "            dataset=dataset,\n",
    "            shuffle=False,\n",
    "            pin_memory=False,\n",
    "            num_workers=0,\n",
    "            sampler=dataset_sampler,\n",
    "        )\n",
    "\n",
    "    return loader\n"
   ]
  },
  {
   "cell_type": "code",
   "execution_count": 17,
   "metadata": {},
   "outputs": [],
   "source": [
    "def build_network(f1_layer_size, f2_layer_size, dropout, num_layers=2):\n",
    "\n",
    "    if num_layers == 2:\n",
    "        network = nn.Sequential(  # fully-connected, dual hidden layer\n",
    "            nn.Linear(120, f1_layer_size),\n",
    "            nn.ReLU(),\n",
    "            nn.Dropout(dropout),\n",
    "            nn.Linear(f1_layer_size, f2_layer_size),\n",
    "            nn.ReLU(),\n",
    "            nn.Dropout(dropout),\n",
    "            nn.Linear(f2_layer_size, 8),\n",
    "            nn.Softmax(dim=1),\n",
    "        )\n",
    "\n",
    "    else:\n",
    "        network = nn.Sequential(  # fully-connected, dual hidden layer\n",
    "            nn.Linear(120, f1_layer_size),\n",
    "            nn.ReLU(),\n",
    "            nn.Dropout(dropout),\n",
    "            nn.Linear(f1_layer_size, f2_layer_size),\n",
    "            nn.ReLU(),\n",
    "            nn.Dropout(dropout),\n",
    "            nn.Linear(f2_layer_size, f2_layer_size),\n",
    "            nn.ReLU(),\n",
    "            nn.Dropout(dropout),\n",
    "            nn.Linear(f2_layer_size, 8),\n",
    "            nn.Softmax(dim=1),\n",
    "        )\n",
    "\n",
    "\n",
    "    return network\n"
   ]
  },
  {
   "cell_type": "code",
   "execution_count": 18,
   "metadata": {},
   "outputs": [],
   "source": [
    "def custom_MSE(output, target):\n",
    "    sorts = torch.argsort(target)\n",
    "    out = sorts.narrow(1,0,3)\n",
    "    ohe = torch.nn.functional.one_hot(out, num_classes=8).sum(1)\n",
    "    out_first3 = ohe*output\n",
    "    target_ohe = ohe*target\n",
    "    loss = torch.sum((((target_ohe+1)*abs(out_first3-target_ohe)+1)**2))\n",
    "    # loss = torch.sum(((out_first3-target_ohe))**2)\n",
    "    return loss\n",
    "    \n"
   ]
  },
  {
   "cell_type": "code",
   "execution_count": 19,
   "metadata": {},
   "outputs": [],
   "source": [
    "x = torch.tensor([[1,2,3,5,6]])\n",
    "y =torch.tensor([[6,2,3,4,5]]) \n"
   ]
  },
  {
   "cell_type": "code",
   "execution_count": 20,
   "metadata": {},
   "outputs": [],
   "source": [
    "def custom_order_MSE(output, target):\n",
    "    sorts = torch.argsort(target)\n",
    "    print(sorts)\n",
    "    out = sorts.narrow(1,0,3)\n",
    "    ohe = torch.nn.functional.one_hot(out, num_classes=8).sum(1)\n",
    "    out_first3 = ohe*output\n",
    "    target_ohe = ohe*target\n",
    "    loss = torch.mean(((abs(out_first3-target_ohe)*10)**2))\n",
    "    # loss = torch.sum(((out_first3-target_ohe))**2)\n",
    "    return loss\n",
    "    "
   ]
  },
  {
   "cell_type": "code",
   "execution_count": 21,
   "metadata": {},
   "outputs": [],
   "source": [
    "def loss_customiser(x,y,loss_func=nn.HuberLoss(reduction='none',delta=0.1)):\n",
    "    sorts_t = torch.argsort(y)\n",
    "    out = sorts_t.narrow(1,0,3)\n",
    "    ohe = torch.nn.functional.one_hot(out, num_classes=8).sum(1)\n",
    "    loss = loss_func(x,y)\n",
    "    return torch.mean(loss)"
   ]
  },
  {
   "cell_type": "code",
   "execution_count": 22,
   "metadata": {},
   "outputs": [],
   "source": [
    "def custom_l1(x=None,y=None,beta=0.1):\n",
    "    loss_func=nn.SmoothL1Loss(reduction='none',beta=beta)\n",
    "    sorts_t = torch.argsort(y)\n",
    "    sorts_o = torch.argsort(x)\n",
    "    diff_place = abs(sorts_t-sorts_o)\n",
    "    out = sorts_t.narrow(1,0,3)\n",
    "    ohe = torch.nn.functional.one_hot(out, num_classes=8).sum(1)\n",
    "    loss = loss_func(x,y)*ohe\n",
    "    return torch.mean(loss)"
   ]
  },
  {
   "cell_type": "code",
   "execution_count": 31,
   "metadata": {},
   "outputs": [],
   "source": [
    "def custom_l1_place(x=None,y=None,beta=0.1):\n",
    "    loss_func=nn.SmoothL1Loss(reduction='none',beta=beta)\n",
    "    sorts_t = torch.argsort(y)\n",
    "    sorts_o = torch.argsort(x)\n",
    "    diff_place = abs(sorts_t-sorts_o)\n",
    "    out = sorts_t.narrow(1,0,3)\n",
    "    ohe = torch.nn.functional.one_hot(out, num_classes=8).sum(1)\n",
    "    loss = loss_func(x,y)*diff_place\n",
    "    return torch.mean(loss)"
   ]
  },
  {
   "cell_type": "code",
   "execution_count": 32,
   "metadata": {},
   "outputs": [],
   "source": [
    "def make(config, dataset):\n",
    "    # Make the data\n",
    "\n",
    "    train_loader = make_loader(dataset, config, train=True)\n",
    "    test_loader = make_loader(dataset, config, train=False)\n",
    "    # Make the model\n",
    "    # model = Net().to(device)\n",
    "    model = build_network(\n",
    "        config[\"f1_layer_size\"], config[\"f2_layer_size\"], config[\"dropout\"], config[\"num_layers\"]\n",
    "    )\n",
    "\n",
    "    loss_functions = {\n",
    "        \"Huber\":nn.HuberLoss(),\n",
    "        \"Huber_custom\":loss_customiser,\n",
    "        \"l1_custom\":custom_l1_place,\n",
    "        \"MSE\":nn.MSELoss(),\n",
    "        \"L1\":nn.SmoothL1Loss(reduction='sum', beta=config[\"l1_beta\"]),\n",
    "        \"BCE\":nn.CrossEntropyLoss(),\n",
    "        \"Custom\":custom_MSE,\n",
    "        \"KL\":nn.KLDivLoss(reduction='batchmean'),\n",
    "        \"NLL\":nn.NLLLoss()\n",
    "    }\n",
    "    # Make the loss and optimizer\n",
    "    #  criterion = nn.NLLLoss()\n",
    "    loss_f = loss_functions[config['loss']]\n",
    "    criterion = loss_f\n",
    "    optimizer = config[\"optimizer\"]\n",
    "\n",
    "    if optimizer == \"sgd\":\n",
    "        optimizer = optim.SGD(\n",
    "            model.parameters(), lr=config[\"learning_rate\"], momentum=0.9\n",
    "        )\n",
    "    elif optimizer == \"adam\":\n",
    "        optimizer = optim.Adam(model.parameters(), lr=config[\"learning_rate\"])\n",
    "\n",
    "    return model, train_loader, test_loader, criterion, optimizer\n"
   ]
  },
  {
   "cell_type": "code",
   "execution_count": 24,
   "metadata": {},
   "outputs": [],
   "source": [
    "def test(model, test_loader, batch_ct):\n",
    "    model.eval()\n",
    "    classL, predL, maxL, correctL, priceP, priceR, bfPriceR, pred_odds, model_outputs = [], [], [], [], [], [], [], [], []\n",
    "    # Run the model on some test examples\n",
    "    with torch.no_grad():\n",
    "        correct, total, max_sum, max_w_sum, profit, bfprofit, bfnotavail = 0, 0, 0, 0, 0,0,0\n",
    "        value_pick_correct, value_pick_profit = 0, 0\n",
    "        num_bets = 0\n",
    "        for images, labels, prices, bfspPrices in test_loader:\n",
    "\n",
    "            outputs = model(images)\n",
    "\n",
    "            #converts prices from tensor to list\n",
    "            prices = prices[0,].tolist()\n",
    "            bfspPrices = bfspPrices[0,].tolist()\n",
    "\n",
    "            #gets the prediction and its confidence and the real class\n",
    "            max, predicted = torch.max(outputs.data, 1)\n",
    "            _, real = torch.max(labels.data, 1)\n",
    "\n",
    "            #converts prediction from tensor to item\n",
    "            prediction = predicted.item()\n",
    "            real_item = real.item()\n",
    "\n",
    "            #appends prediction and likelyhood to lists\n",
    "            predL.append(prediction)\n",
    "            maxL.append(max.item())\n",
    "\n",
    "        \n",
    "            total += labels.size(0)\n",
    "            correct += prediction == real_item\n",
    "\n",
    "            correctL.append(int(prediction == real_item))\n",
    "            classL.append(real_item)\n",
    "\n",
    "            priceR.append(prices[real_item])\n",
    "            priceP.append(prices[prediction])\n",
    "            bfPriceR.append(bfspPrices[real_item])\n",
    "            # print(outputs.data.flatten().tolist())\n",
    "\n",
    "            predicted_odds = [\n",
    "                1 / ((x + 10**-7)) for x in outputs.data.flatten().tolist()\n",
    "            ]\n",
    "\n",
    "            pred_odds.append(predicted_odds)\n",
    "            model_outputs.append(outputs.data.flatten().tolist())\n",
    "\n",
    "            if prices[real_item] > (predicted_odds[real_item]):\n",
    "                value_pick_correct += 1\n",
    "                value_pick_profit += prices[real_item]\n",
    "\n",
    "            bets = [x > (y) for x, y in zip(prices, predicted_odds)]\n",
    "            num_bets += sum(bets)\n",
    "\n",
    "            value_pick_profit += -sum(bets)\n",
    "\n",
    "            if prediction == real_item:\n",
    "                max_sum += max\n",
    "                profit += prices[real_item]\n",
    "                if bfspPrices[real_item]:\n",
    "                    bfprofit += bfspPrices[real_item]\n",
    "                else:\n",
    "                    bfprofit += prices[real_item]\n",
    "                    bfnotavail += 1\n",
    "            else:\n",
    "                max_w_sum += max\n",
    "\n",
    "            profit += -1\n",
    "            bfprofit += -1\n",
    "\n",
    "            # print(f\"{correct=}\")\n",
    "\n",
    "        # print(f\"Accuracy of the model on the {total} \" +\n",
    "        #       f\"test images: {100 * correct / total}%\" +\n",
    "        #       f\"profit: {profit}\"+\n",
    "        #       f\"profit: {value_pick_profit}\")\n",
    "\n",
    "        wandb.log(\n",
    "            {\n",
    "                \"test_accuracy\": correct / total,\n",
    "                \"correct_conf\": max_sum / correct,\n",
    "                \"incorrect_conf\": (max_w_sum) / (total - correct),\n",
    "                \"profit\": profit,\n",
    "                \"bfprofit\": bfprofit,\n",
    "                \"bfnotavail\": bfnotavail,\n",
    "                \"value_pick_roi\": value_pick_profit / num_bets,\n",
    "                \"value_pick_correct\": value_pick_correct\n",
    "                \"num_bets_per\": num_bets / total,\n",
    "            }\n",
    "        )\n",
    "\n",
    "        # logdf = pd.DataFrame(\n",
    "        #     data={\n",
    "        #         \"class\": classL,\n",
    "        #         \"pred\": predL,\n",
    "        #         \"max\": maxL,\n",
    "        #         \"correct\": correctL,\n",
    "        #         \"priceR\": priceR,\n",
    "        #         \"priceP\": priceP,\n",
    "        #         \"bets\": sum(bets),\n",
    "        #         \"pred_odds\": pred_odds,\n",
    "        #         \"model_outputs\": model_outputs,\n",
    "        #         \"bfodds\" : bfPriceR\n",
    "        #     }\n",
    "        # )\n",
    "        # table = wandb.Table(dataframe=logdf)\n",
    "        # wandb.log({\"table_key\": table})\n",
    "        # classCounts = logdf[\"class\"].value_counts()\n",
    "        # predCounts = logdf[\"pred\"].value_counts()\n",
    "        # boxplot = logdf.boxplot(column=['priceR'],by='correct')\n",
    "        # print(classCounts, predCounts)\n",
    "        # boxplot\n",
    "        # plt.savefig(\"boxplot.png\")\n",
    "        # wandb.log({\"boxplot\":boxplot})\n",
    "\n"
   ]
  },
  {
   "cell_type": "code",
   "execution_count": 25,
   "metadata": {},
   "outputs": [],
   "source": [
    "def train_log(loss, example_ct, epoch):\n",
    "    # Where the magic happens\n",
    "    wandb.log({\"epoch\": epoch, \"loss\": loss}, step=example_ct)\n",
    "    #print(f\"Loss after \" + str(example_ct).zfill(5) + f\" examples: {loss:.3f}\")"
   ]
  },
  {
   "cell_type": "code",
   "execution_count": 26,
   "metadata": {},
   "outputs": [],
   "source": [
    "def model_saver(model, optimizer, epoch, loss):\n",
    "    \n",
    "    pathtofolder = \"C:/Users/Nick/Documents/GitHub/grvmodel/Python/pytorch/New Model\"\n",
    "    model_name = wandb.run.name\n",
    "    isExist = os.path.exists(\n",
    "        f\"C:/Users/Nick/Documents/GitHub/grvmodel/Python/pytorch/New Model/savedmodel/{model_name}/\"\n",
    "    )\n",
    "    if isExist:\n",
    "        torch.save(\n",
    "            {\n",
    "                \"epoch\": epoch,\n",
    "                \"model_state_dict\": model.state_dict(),\n",
    "                \"optimizer_state_dict\": optimizer.state_dict(),\n",
    "                \"loss\": loss,\n",
    "            },\n",
    "            f\"C:/Users/Nick/Documents/GitHub/grvmodel/Python/pytorch/New Model/savedmodel/{model_name}/{model_name}_{epoch}.pt\",\n",
    "        )\n",
    "    else:\n",
    "        print(\"created path\")\n",
    "        os.makedirs(\n",
    "            f\"C:/Users/Nick/Documents/GitHub/grvmodel/Python/pytorch/New Model/savedmodel/{model_name}/\"\n",
    "        )\n",
    "        torch.save(\n",
    "            {\n",
    "                \"epoch\": epoch,\n",
    "                \"model_state_dict\": model.state_dict(),\n",
    "                \"optimizer_state_dict\": optimizer.state_dict(),\n",
    "                \"loss\": loss,\n",
    "            },\n",
    "            f\"C:/Users/Nick/Documents/GitHub/grvmodel/Python/pytorch/New Model/savedmodel/{model_name}/{model_name}_{epoch}.pt\",\n",
    "        )\n"
   ]
  },
  {
   "cell_type": "code",
   "execution_count": 27,
   "metadata": {},
   "outputs": [],
   "source": [
    "def train(model, loader,test_loader, criterion, optimizer, config):\n",
    "    # Tell wandb to watch what the model gets up to: gradients, weights, and more!\n",
    "    wandb.watch(model, criterion, log=\"all\", log_freq=10)\n",
    "\n",
    "    # Run training and track with wandb\n",
    "    total_batches = len(loader) * config.epochs\n",
    "    example_ct = 0  # number of examples seen\n",
    "    batch_ct = 0\n",
    "\n",
    "    raw_inputs = True\n",
    "    if config['loss'] == \"KL\":\n",
    "\n",
    "        for epoch in tqdm(range(config.epochs)):\n",
    "            for _, (images, labels, _ , _) in enumerate(loader):\n",
    "\n",
    "                loss = train_batch_lsftmax(images, labels, model, optimizer, criterion, btch_count=batch_ct, raw_inputs=True)\n",
    "                example_ct +=  len(images)\n",
    "                batch_ct += 1\n",
    "\n",
    "                # Report metrics every 25th batch\n",
    "                if ((batch_ct + 1) % 250) == 0:\n",
    "                    train_log(loss, example_ct, epoch)\n",
    "                    \n",
    "\n",
    "            if epoch %10 ==0:\n",
    "                test(model,test_loader, epoch)\n",
    "                model_saver(model,optimizer,epoch,loss)\n",
    "\n",
    "    else:\n",
    "        for epoch in tqdm(range(config.epochs)):\n",
    "            for _, (images, labels, _ , _) in enumerate(loader):\n",
    "\n",
    "                loss = train_batch(images, labels, model, optimizer, criterion, btch_count=batch_ct, raw_inputs=True, beta=config[\"l1_beta\"])\n",
    "                example_ct +=  len(images)\n",
    "                batch_ct += 1\n",
    "\n",
    "                # Report metrics every 25th batch\n",
    "                if ((batch_ct + 1) % 250) == 0:\n",
    "                    train_log(loss, example_ct, epoch)\n",
    "\n",
    "            if epoch %10 ==0:\n",
    "                test(model,test_loader, epoch)\n",
    "                model_saver(model, optimizer, epoch, loss)\n",
    "\n",
    "def train_batch(images, labels, model, optimizer, criterion, btch_count=0, raw_inputs=True, beta=0.1):\n",
    "    images, labels = images, labels\n",
    "    \n",
    "\n",
    "    # Forward pass ➡\n",
    "    outputs = model(images)\n",
    "    loss = criterion(outputs, labels.float(), beta=beta)\n",
    "    \n",
    "    # Backward pass ⬅\n",
    "    optimizer.zero_grad()\n",
    "    loss.backward()\n",
    "\n",
    "    # Step with optimizer\n",
    "    optimizer.step()\n",
    "\n",
    "    return loss\n",
    "\n",
    "\n",
    "def train_batch_lsftmax(images, labels, model, optimizer, criterion, btch_count=0, raw_inputs=True):\n",
    "    images, labels = images, labels\n",
    "    \n",
    "\n",
    "    # Forward pass ➡\n",
    "    outputs = model(images)\n",
    "    loss = criterion(F.log_softmax(outputs), labels.float())\n",
    "    \n",
    "    # Backward pass ⬅\n",
    "    optimizer.zero_grad()\n",
    "    loss.backward()\n",
    "\n",
    "    # Step with optimizer\n",
    "    optimizer.step()\n",
    "\n",
    "    return loss"
   ]
  },
  {
   "cell_type": "code",
   "execution_count": 28,
   "metadata": {},
   "outputs": [],
   "source": [
    "def model_pipeline(config=None,prev_model=None):\n",
    "    dataset = my_dataset\n",
    "    # tell wandb to get started\n",
    "    with wandb.init(project=\"new customs\", config=config):\n",
    "      # access all HPs through wandb.config, so logging matches execution!\n",
    "      wandb.define_metric(\"loss\", summary=\"min\")\n",
    "      wandb.define_metric(\"test_accuracy\", summary=\"max\")\n",
    "      wandb.define_metric(\"bfprofit\", summary=\"max\")\n",
    "      config = wandb.config\n",
    "      pprint.pprint(config)\n",
    "      pprint.pprint(config.epochs)\n",
    "      print(config)\n",
    "\n",
    "      # make the model, data, and optimization problem\n",
    "      model, train_loader, test_loader, criterion, optimizer = make(config, dataset)\n",
    "      if prev_model:\n",
    "        checkpoint = torch.load(prev_model, map_location=\"cuda:0\")\n",
    "        print(\"here\")\n",
    "        model.load_state_dict(checkpoint['model_state_dict'])\n",
    "        # optimizer.load_state_dict(checkpoint['optimizer_state_dict'])\n",
    "      model = model.to(device)\n",
    "      #optimizer = optimizer.to(device)\n",
    "      print(model)\n",
    "\n",
    "      # and use them to train the model\n",
    "      train(model, train_loader,test_loader, criterion, optimizer, config)\n",
    "\n",
    "      # and test its final performance\n",
    "      #test(model, test_loader)\n",
    "\n",
    "    return model"
   ]
  },
  {
   "cell_type": "code",
   "execution_count": 38,
   "metadata": {},
   "outputs": [
    {
     "name": "stdout",
     "output_type": "stream",
     "text": [
      "{'method': 'random',\n",
      " 'metric': {'goal': 'maximize', 'name': 'profit'},\n",
      " 'parameters': {'batch_size': {'values': [32, 64, 128, 360, 720]},\n",
      "                'dropout': {'values': [0.3, 0.4, 0.5]},\n",
      "                'epochs': {'values': [100]},\n",
      "                'f1_layer_size': {'values': [32, 64, 128, 256]},\n",
      "                'f2_layer_size': {'values': [32, 64, 128, 256]},\n",
      "                'l1_beta': {'distribution': 'uniform', 'max': 1, 'min': 0},\n",
      "                'learning_rate': {'distribution': 'uniform',\n",
      "                                  'max': 0.001,\n",
      "                                  'min': 0.0001},\n",
      "                'loss': {'value': 'l1_custom'},\n",
      "                'num_layers': {'values': [2]},\n",
      "                'optimizer': {'value': 'adam'},\n",
      "                'validation_split': {'value': 0.1}}}\n"
     ]
    },
    {
     "data": {
      "text/plain": [
       "{'method': 'random',\n",
       " 'metric': {'name': 'profit', 'goal': 'maximize'},\n",
       " 'parameters': {'optimizer': {'value': 'adam'},\n",
       "  'f1_layer_size': {'values': [32, 64, 128, 256]},\n",
       "  'f2_layer_size': {'values': [32, 64, 128, 256]},\n",
       "  'dropout': {'values': [0.3, 0.4, 0.5]},\n",
       "  'epochs': {'values': [100]},\n",
       "  'validation_split': {'value': 0.1},\n",
       "  'loss': {'value': 'l1_custom'},\n",
       "  'num_layers': {'values': [2]},\n",
       "  'learning_rate': {'distribution': 'uniform', 'min': 0.0001, 'max': 0.001},\n",
       "  'l1_beta': {'distribution': 'uniform', 'min': 0, 'max': 1},\n",
       "  'batch_size': {'values': [32, 64, 128, 360, 720]}}}"
      ]
     },
     "execution_count": 38,
     "metadata": {},
     "output_type": "execute_result"
    }
   ],
   "source": [
    "sweep_config = {\"method\": \"random\"}\n",
    "\n",
    "metric = {\"name\": \"profit\", \"goal\": \"maximize\"}\n",
    "\n",
    "sweep_config[\"metric\"] = metric\n",
    "\n",
    "\n",
    "parameters_dict = {\n",
    "    \"optimizer\": {\"value\": \"adam\"},\n",
    "    \"f1_layer_size\": {\"values\": [32,64,128,256]},\n",
    "    \"f2_layer_size\": {\"values\": [32,64,128,256]},\n",
    "    \"dropout\": {\"values\": [0.3, 0.4, 0.5]},\n",
    "}\n",
    "\n",
    "sweep_config[\"parameters\"] = parameters_dict\n",
    "\n",
    "parameters_dict.update(\n",
    "    {\n",
    "        \"epochs\": {\"values\": [100]},\n",
    "        \"validation_split\": {\"value\": 0.1},\n",
    "        \"loss\": {\n",
    "            # \"values\": [ \"l1_custom\", \"Huber_custom\"],\n",
    "            # \"values\": [\"Huber\", \"MSE\", \"L1\", \"BCE\", \"Custom\", \"KL\"]\n",
    "            'value': 'l1_custom'\n",
    "        },\n",
    "        \"num_layers\": {\"values\": [2]},\n",
    "    }\n",
    ")\n",
    "\n",
    "parameters_dict.update(\n",
    "    {\n",
    "        \"learning_rate\": {\n",
    "            # a flat distribution between 0 and 0.1\n",
    "            \"distribution\": \"uniform\",\n",
    "            \"min\": 0.0001,\n",
    "            \"max\": 0.001,\n",
    "        },\n",
    "        \"l1_beta\": {\n",
    "            # a flat distribution between 0 and 0.1\n",
    "            \"distribution\": \"uniform\",\n",
    "            \"min\": 0,\n",
    "            \"max\": 1,\n",
    "        },\n",
    "        \"batch_size\": {\n",
    "            # 'value': 1000\n",
    "            \"values\": [32, 64, 128, 360,720]\n",
    "            # 'values':[4,8,16,32,64,128,360]\n",
    "        },\n",
    "    }\n",
    ")\n",
    "\n",
    "import pprint\n",
    "\n",
    "pprint.pprint(sweep_config)\n",
    "\n",
    "\n",
    "sweep_config\n"
   ]
  },
  {
   "cell_type": "code",
   "execution_count": null,
   "metadata": {},
   "outputs": [],
   "source": [
    "wandb_config_static = {'batch_size': 32, 'dropout': 0.5, 'epochs': 1000, 'f1_layer_size': 256, 'f2_layer_size': 256, 'learning_rate': 0.0001, 'loss': 'l1_custom', 'l1_beta':0.2, 'num_layers': 2, 'optimizer': 'adam', 'validation_split': 0.1}\n",
    "model = model_pipeline(config=wandb_config_static)\n",
    "# wandb.init()\n",
    "# model = model_pipeline(config=wandb_config_static, prev_model=r'C:\\Users\\Nick\\Documents\\GitHub\\grvmodel\\Python\\pytorch\\New Model\\good models\\vocal-sweep-80_90.pt')"
   ]
  },
  {
   "cell_type": "code",
   "execution_count": 40,
   "metadata": {},
   "outputs": [
    {
     "name": "stdout",
     "output_type": "stream",
     "text": [
      "Create sweep with ID: nwqxajsa\n",
      "Sweep URL: https://wandb.ai/nickojelly/grv_priced_sweep_custom/sweeps/nwqxajsa\n"
     ]
    },
    {
     "name": "stderr",
     "output_type": "stream",
     "text": [
      "\u001b[34m\u001b[1mwandb\u001b[0m: Agent Starting Run: cgzxz4et with config:\n",
      "\u001b[34m\u001b[1mwandb\u001b[0m: \tbatch_size: 64\n",
      "\u001b[34m\u001b[1mwandb\u001b[0m: \tdropout: 0.4\n",
      "\u001b[34m\u001b[1mwandb\u001b[0m: \tepochs: 100\n",
      "\u001b[34m\u001b[1mwandb\u001b[0m: \tf1_layer_size: 128\n",
      "\u001b[34m\u001b[1mwandb\u001b[0m: \tf2_layer_size: 64\n",
      "\u001b[34m\u001b[1mwandb\u001b[0m: \tl1_beta: 0.6416726182754626\n",
      "\u001b[34m\u001b[1mwandb\u001b[0m: \tlearning_rate: 0.0008091670816542509\n",
      "\u001b[34m\u001b[1mwandb\u001b[0m: \tloss: l1_custom\n",
      "\u001b[34m\u001b[1mwandb\u001b[0m: \tnum_layers: 2\n",
      "\u001b[34m\u001b[1mwandb\u001b[0m: \toptimizer: adam\n",
      "\u001b[34m\u001b[1mwandb\u001b[0m: \tvalidation_split: 0.1\n",
      "Failed to detect the name of this notebook, you can set it manually with the WANDB_NOTEBOOK_NAME environment variable to enable code saving.\n",
      "\u001b[34m\u001b[1mwandb\u001b[0m: \u001b[33mWARNING\u001b[0m Ignored wandb.init() arg project when running a sweep.\n"
     ]
    },
    {
     "data": {
      "text/html": [
       "wandb version 0.13.2 is available!  To upgrade, please run:\n",
       " $ pip install wandb --upgrade"
      ],
      "text/plain": [
       "<IPython.core.display.HTML object>"
      ]
     },
     "metadata": {},
     "output_type": "display_data"
    },
    {
     "data": {
      "text/html": [
       "Tracking run with wandb version 0.12.14"
      ],
      "text/plain": [
       "<IPython.core.display.HTML object>"
      ]
     },
     "metadata": {},
     "output_type": "display_data"
    },
    {
     "data": {
      "text/html": [
       "Run data is saved locally in <code>c:\\Users\\Nick\\Documents\\GitHub\\grvmodel\\Python\\pytorch\\New Model\\wandb\\run-20220825_040229-cgzxz4et</code>"
      ],
      "text/plain": [
       "<IPython.core.display.HTML object>"
      ]
     },
     "metadata": {},
     "output_type": "display_data"
    },
    {
     "data": {
      "text/html": [
       "Syncing run <strong><a href=\"https://wandb.ai/nickojelly/grv_priced_sweep_custom/runs/cgzxz4et\" target=\"_blank\">soft-sweep-1</a></strong> to <a href=\"https://wandb.ai/nickojelly/grv_priced_sweep_custom\" target=\"_blank\">Weights & Biases</a> (<a href=\"https://wandb.me/run\" target=\"_blank\">docs</a>)<br/>Sweep page:  <a href=\"https://wandb.ai/nickojelly/grv_priced_sweep_custom/sweeps/nwqxajsa\" target=\"_blank\">https://wandb.ai/nickojelly/grv_priced_sweep_custom/sweeps/nwqxajsa</a>"
      ],
      "text/plain": [
       "<IPython.core.display.HTML object>"
      ]
     },
     "metadata": {},
     "output_type": "display_data"
    },
    {
     "name": "stderr",
     "output_type": "stream",
     "text": [
      "  0%|          | 0/100 [00:00<?, ?it/s]"
     ]
    },
    {
     "name": "stdout",
     "output_type": "stream",
     "text": [
      "{'batch_size': 64, 'dropout': 0.4, 'epochs': 100, 'f1_layer_size': 128, 'f2_layer_size': 64, 'l1_beta': 0.6416726182754626, 'learning_rate': 0.0008091670816542509, 'loss': 'l1_custom', 'num_layers': 2, 'optimizer': 'adam', 'validation_split': 0.1}\n",
      "100\n",
      "{'batch_size': 64, 'dropout': 0.4, 'epochs': 100, 'f1_layer_size': 128, 'f2_layer_size': 64, 'l1_beta': 0.6416726182754626, 'learning_rate': 0.0008091670816542509, 'loss': 'l1_custom', 'num_layers': 2, 'optimizer': 'adam', 'validation_split': 0.1}\n",
      "Sequential(\n",
      "  (0): Linear(in_features=120, out_features=128, bias=True)\n",
      "  (1): ReLU()\n",
      "  (2): Dropout(p=0.4, inplace=False)\n",
      "  (3): Linear(in_features=128, out_features=64, bias=True)\n",
      "  (4): ReLU()\n",
      "  (5): Dropout(p=0.4, inplace=False)\n",
      "  (6): Linear(in_features=64, out_features=8, bias=True)\n",
      "  (7): Softmax(dim=1)\n",
      ")\n"
     ]
    },
    {
     "name": "stderr",
     "output_type": "stream",
     "text": [
      "  1%|          | 1/100 [00:14<23:15, 14.10s/it]"
     ]
    },
    {
     "name": "stdout",
     "output_type": "stream",
     "text": [
      "created path\n"
     ]
    },
    {
     "name": "stderr",
     "output_type": "stream",
     "text": [
      "100%|██████████| 100/100 [08:15<00:00,  4.95s/it]\n"
     ]
    },
    {
     "name": "stdout",
     "output_type": "stream",
     "text": [
      "\n"
     ]
    },
    {
     "data": {
      "text/html": [
       "Waiting for W&B process to finish... <strong style=\"color:green\">(success).</strong>"
      ],
      "text/plain": [
       "<IPython.core.display.HTML object>"
      ]
     },
     "metadata": {},
     "output_type": "display_data"
    },
    {
     "data": {
      "application/vnd.jupyter.widget-view+json": {
       "model_id": "370cc851785b4976af7b1e76262b6423",
       "version_major": 2,
       "version_minor": 0
      },
      "text/plain": [
       "VBox(children=(Label(value='0.001 MB of 0.001 MB uploaded (0.000 MB deduped)\\r'), FloatProgress(value=1.0, max…"
      ]
     },
     "metadata": {},
     "output_type": "display_data"
    },
    {
     "data": {
      "text/html": [
       "<style>\n",
       "    table.wandb td:nth-child(1) { padding: 0 10px; text-align: right }\n",
       "    .wandb-row { display: flex; flex-direction: row; flex-wrap: wrap; width: 100% }\n",
       "    .wandb-col { display: flex; flex-direction: column; flex-basis: 100%; flex: 1; padding: 10px; }\n",
       "    </style>\n",
       "<div class=\"wandb-row\"><div class=\"wandb-col\"><h3>Run history:</h3><br/><table class=\"wandb\"><tr><td>bfnotavail</td><td>▁▁▁▁▁▁▁▁▁▁</td></tr><tr><td>bfprofit</td><td>▁▁▁▁▁▁▁▁▁▁</td></tr><tr><td>correct_conf</td><td>▁█▆▇▇▆▇█▇▆</td></tr><tr><td>epoch</td><td>▁▁▁▁▂▂▂▂▂▃▃▃▃▃▃▄▄▄▄▄▅▅▅▅▅▅▆▆▆▆▆▇▇▇▇▇▇███</td></tr><tr><td>incorrect_conf</td><td>▁█▆▇▇▆▇█▇▆</td></tr><tr><td>loss</td><td>▅▆▃▆▂▂▁▃▃▃▄▆▇▄▁▄▂▃▅▆▃▆▂▃▄▄▇▂▃▅█▄▅▃▄▄▃▅▄▆</td></tr><tr><td>num_bets_per</td><td>█▂▃▂▅▃▄▁▅▄</td></tr><tr><td>profit</td><td>▁▁▁▁▁▁▁▁▁▁</td></tr><tr><td>test_accuracy</td><td>▁▁▁▁▁▁▁▁▁▁</td></tr><tr><td>value_pick_roi</td><td>▇█▅▇▄▃█▆▁▁</td></tr></table><br/></div><div class=\"wandb-col\"><h3>Run summary:</h3><br/><table class=\"wandb\"><tr><td>bfnotavail</td><td>533</td></tr><tr><td>correct_conf</td><td>0.15054</td></tr><tr><td>epoch</td><td>99</td></tr><tr><td>incorrect_conf</td><td>0.15056</td></tr><tr><td>num_bets_per</td><td>4.05528</td></tr><tr><td>profit</td><td>-1286.70001</td></tr><tr><td>value_pick_roi</td><td>-0.28436</td></tr></table><br/></div></div>"
      ],
      "text/plain": [
       "<IPython.core.display.HTML object>"
      ]
     },
     "metadata": {},
     "output_type": "display_data"
    },
    {
     "data": {
      "text/html": [
       "Synced <strong style=\"color:#cdcd00\">soft-sweep-1</strong>: <a href=\"https://wandb.ai/nickojelly/grv_priced_sweep_custom/runs/cgzxz4et\" target=\"_blank\">https://wandb.ai/nickojelly/grv_priced_sweep_custom/runs/cgzxz4et</a><br/>Synced 5 W&B file(s), 0 media file(s), 0 artifact file(s) and 0 other file(s)"
      ],
      "text/plain": [
       "<IPython.core.display.HTML object>"
      ]
     },
     "metadata": {},
     "output_type": "display_data"
    },
    {
     "data": {
      "text/html": [
       "Find logs at: <code>.\\wandb\\run-20220825_040229-cgzxz4et\\logs</code>"
      ],
      "text/plain": [
       "<IPython.core.display.HTML object>"
      ]
     },
     "metadata": {},
     "output_type": "display_data"
    },
    {
     "name": "stderr",
     "output_type": "stream",
     "text": [
      "\u001b[34m\u001b[1mwandb\u001b[0m: Agent Starting Run: hmof6vea with config:\n",
      "\u001b[34m\u001b[1mwandb\u001b[0m: \tbatch_size: 360\n",
      "\u001b[34m\u001b[1mwandb\u001b[0m: \tdropout: 0.5\n",
      "\u001b[34m\u001b[1mwandb\u001b[0m: \tepochs: 100\n",
      "\u001b[34m\u001b[1mwandb\u001b[0m: \tf1_layer_size: 64\n",
      "\u001b[34m\u001b[1mwandb\u001b[0m: \tf2_layer_size: 32\n",
      "\u001b[34m\u001b[1mwandb\u001b[0m: \tl1_beta: 0.2564029994577206\n",
      "\u001b[34m\u001b[1mwandb\u001b[0m: \tlearning_rate: 0.0006981518840890024\n",
      "\u001b[34m\u001b[1mwandb\u001b[0m: \tloss: l1_custom\n",
      "\u001b[34m\u001b[1mwandb\u001b[0m: \tnum_layers: 2\n",
      "\u001b[34m\u001b[1mwandb\u001b[0m: \toptimizer: adam\n",
      "\u001b[34m\u001b[1mwandb\u001b[0m: \tvalidation_split: 0.1\n",
      "Failed to detect the name of this notebook, you can set it manually with the WANDB_NOTEBOOK_NAME environment variable to enable code saving.\n",
      "\u001b[34m\u001b[1mwandb\u001b[0m: \u001b[33mWARNING\u001b[0m Ignored wandb.init() arg project when running a sweep.\n"
     ]
    },
    {
     "data": {
      "text/html": [
       "wandb version 0.13.2 is available!  To upgrade, please run:\n",
       " $ pip install wandb --upgrade"
      ],
      "text/plain": [
       "<IPython.core.display.HTML object>"
      ]
     },
     "metadata": {},
     "output_type": "display_data"
    },
    {
     "data": {
      "text/html": [
       "Tracking run with wandb version 0.12.14"
      ],
      "text/plain": [
       "<IPython.core.display.HTML object>"
      ]
     },
     "metadata": {},
     "output_type": "display_data"
    },
    {
     "data": {
      "text/html": [
       "Run data is saved locally in <code>c:\\Users\\Nick\\Documents\\GitHub\\grvmodel\\Python\\pytorch\\New Model\\wandb\\run-20220825_041055-hmof6vea</code>"
      ],
      "text/plain": [
       "<IPython.core.display.HTML object>"
      ]
     },
     "metadata": {},
     "output_type": "display_data"
    },
    {
     "data": {
      "text/html": [
       "Syncing run <strong><a href=\"https://wandb.ai/nickojelly/grv_priced_sweep_custom/runs/hmof6vea\" target=\"_blank\">fragrant-sweep-2</a></strong> to <a href=\"https://wandb.ai/nickojelly/grv_priced_sweep_custom\" target=\"_blank\">Weights & Biases</a> (<a href=\"https://wandb.me/run\" target=\"_blank\">docs</a>)<br/>Sweep page:  <a href=\"https://wandb.ai/nickojelly/grv_priced_sweep_custom/sweeps/nwqxajsa\" target=\"_blank\">https://wandb.ai/nickojelly/grv_priced_sweep_custom/sweeps/nwqxajsa</a>"
      ],
      "text/plain": [
       "<IPython.core.display.HTML object>"
      ]
     },
     "metadata": {},
     "output_type": "display_data"
    },
    {
     "name": "stderr",
     "output_type": "stream",
     "text": [
      "  0%|          | 0/100 [00:00<?, ?it/s]"
     ]
    },
    {
     "name": "stdout",
     "output_type": "stream",
     "text": [
      "{'batch_size': 360, 'dropout': 0.5, 'epochs': 100, 'f1_layer_size': 64, 'f2_layer_size': 32, 'l1_beta': 0.2564029994577206, 'learning_rate': 0.0006981518840890024, 'loss': 'l1_custom', 'num_layers': 2, 'optimizer': 'adam', 'validation_split': 0.1}\n",
      "100\n",
      "{'batch_size': 360, 'dropout': 0.5, 'epochs': 100, 'f1_layer_size': 64, 'f2_layer_size': 32, 'l1_beta': 0.2564029994577206, 'learning_rate': 0.0006981518840890024, 'loss': 'l1_custom', 'num_layers': 2, 'optimizer': 'adam', 'validation_split': 0.1}\n",
      "Sequential(\n",
      "  (0): Linear(in_features=120, out_features=64, bias=True)\n",
      "  (1): ReLU()\n",
      "  (2): Dropout(p=0.5, inplace=False)\n",
      "  (3): Linear(in_features=64, out_features=32, bias=True)\n",
      "  (4): ReLU()\n",
      "  (5): Dropout(p=0.5, inplace=False)\n",
      "  (6): Linear(in_features=32, out_features=8, bias=True)\n",
      "  (7): Softmax(dim=1)\n",
      ")\n"
     ]
    },
    {
     "name": "stderr",
     "output_type": "stream",
     "text": [
      "  1%|          | 1/100 [00:11<19:16, 11.68s/it]"
     ]
    },
    {
     "name": "stdout",
     "output_type": "stream",
     "text": [
      "created path\n"
     ]
    },
    {
     "name": "stderr",
     "output_type": "stream",
     "text": [
      "100%|██████████| 100/100 [04:34<00:00,  2.75s/it]\n"
     ]
    },
    {
     "name": "stdout",
     "output_type": "stream",
     "text": [
      "\n"
     ]
    },
    {
     "data": {
      "text/html": [
       "Waiting for W&B process to finish... <strong style=\"color:green\">(success).</strong>"
      ],
      "text/plain": [
       "<IPython.core.display.HTML object>"
      ]
     },
     "metadata": {},
     "output_type": "display_data"
    },
    {
     "data": {
      "application/vnd.jupyter.widget-view+json": {
       "model_id": "04fb004756b942f48679195409d8b10a",
       "version_major": 2,
       "version_minor": 0
      },
      "text/plain": [
       "VBox(children=(Label(value='0.001 MB of 0.001 MB uploaded (0.000 MB deduped)\\r'), FloatProgress(value=1.0, max…"
      ]
     },
     "metadata": {},
     "output_type": "display_data"
    },
    {
     "data": {
      "text/html": [
       "<style>\n",
       "    table.wandb td:nth-child(1) { padding: 0 10px; text-align: right }\n",
       "    .wandb-row { display: flex; flex-direction: row; flex-wrap: wrap; width: 100% }\n",
       "    .wandb-col { display: flex; flex-direction: column; flex-basis: 100%; flex: 1; padding: 10px; }\n",
       "    </style>\n",
       "<div class=\"wandb-row\"><div class=\"wandb-col\"><h3>Run history:</h3><br/><table class=\"wandb\"><tr><td>bfnotavail</td><td>▇▁▂▅▅▇▇▇▇█</td></tr><tr><td>bfprofit</td><td>▇▆▃█▁▄▅▆▄▄</td></tr><tr><td>correct_conf</td><td>▁█▇▇▇▇████</td></tr><tr><td>epoch</td><td>▁▁▁▁▂▂▂▂▂▃▃▃▃▃▃▄▄▄▄▄▅▅▅▅▅▅▆▆▆▆▆▇▇▇▇▇▇███</td></tr><tr><td>incorrect_conf</td><td>▁▇▇▇▇████▇</td></tr><tr><td>loss</td><td>█▄▃▄▄▄▃▃▃▂▂▄▂▄▂▃▂▃▂▃▃▃▂▃▄▂▃▂▂▂▃▂▂▁▃▂▂▁▁▄</td></tr><tr><td>num_bets_per</td><td>█▃▆▄▃▂▂▂▁▂</td></tr><tr><td>profit</td><td>▇▁▁█▃▅▅▆▆▅</td></tr><tr><td>test_accuracy</td><td>▃▁▃▆▇█████</td></tr><tr><td>value_pick_roi</td><td>▄▁▆▁▇▂▆█▂▇</td></tr></table><br/></div><div class=\"wandb-col\"><h3>Run summary:</h3><br/><table class=\"wandb\"><tr><td>bfnotavail</td><td>558</td></tr><tr><td>correct_conf</td><td>0.28842</td></tr><tr><td>epoch</td><td>99</td></tr><tr><td>incorrect_conf</td><td>0.29944</td></tr><tr><td>num_bets_per</td><td>3.78395</td></tr><tr><td>profit</td><td>-1346.02</td></tr><tr><td>value_pick_roi</td><td>-0.27611</td></tr></table><br/></div></div>"
      ],
      "text/plain": [
       "<IPython.core.display.HTML object>"
      ]
     },
     "metadata": {},
     "output_type": "display_data"
    },
    {
     "data": {
      "text/html": [
       "Synced <strong style=\"color:#cdcd00\">fragrant-sweep-2</strong>: <a href=\"https://wandb.ai/nickojelly/grv_priced_sweep_custom/runs/hmof6vea\" target=\"_blank\">https://wandb.ai/nickojelly/grv_priced_sweep_custom/runs/hmof6vea</a><br/>Synced 5 W&B file(s), 0 media file(s), 0 artifact file(s) and 0 other file(s)"
      ],
      "text/plain": [
       "<IPython.core.display.HTML object>"
      ]
     },
     "metadata": {},
     "output_type": "display_data"
    },
    {
     "data": {
      "text/html": [
       "Find logs at: <code>.\\wandb\\run-20220825_041055-hmof6vea\\logs</code>"
      ],
      "text/plain": [
       "<IPython.core.display.HTML object>"
      ]
     },
     "metadata": {},
     "output_type": "display_data"
    },
    {
     "name": "stderr",
     "output_type": "stream",
     "text": [
      "\u001b[34m\u001b[1mwandb\u001b[0m: Agent Starting Run: 6rpbg6xe with config:\n",
      "\u001b[34m\u001b[1mwandb\u001b[0m: \tbatch_size: 720\n",
      "\u001b[34m\u001b[1mwandb\u001b[0m: \tdropout: 0.3\n",
      "\u001b[34m\u001b[1mwandb\u001b[0m: \tepochs: 100\n",
      "\u001b[34m\u001b[1mwandb\u001b[0m: \tf1_layer_size: 256\n",
      "\u001b[34m\u001b[1mwandb\u001b[0m: \tf2_layer_size: 256\n",
      "\u001b[34m\u001b[1mwandb\u001b[0m: \tl1_beta: 0.42316894075852074\n",
      "\u001b[34m\u001b[1mwandb\u001b[0m: \tlearning_rate: 0.0005063617879537392\n",
      "\u001b[34m\u001b[1mwandb\u001b[0m: \tloss: l1_custom\n",
      "\u001b[34m\u001b[1mwandb\u001b[0m: \tnum_layers: 2\n",
      "\u001b[34m\u001b[1mwandb\u001b[0m: \toptimizer: adam\n",
      "\u001b[34m\u001b[1mwandb\u001b[0m: \tvalidation_split: 0.1\n",
      "Failed to detect the name of this notebook, you can set it manually with the WANDB_NOTEBOOK_NAME environment variable to enable code saving.\n",
      "\u001b[34m\u001b[1mwandb\u001b[0m: \u001b[33mWARNING\u001b[0m Ignored wandb.init() arg project when running a sweep.\n"
     ]
    },
    {
     "data": {
      "text/html": [
       "wandb version 0.13.2 is available!  To upgrade, please run:\n",
       " $ pip install wandb --upgrade"
      ],
      "text/plain": [
       "<IPython.core.display.HTML object>"
      ]
     },
     "metadata": {},
     "output_type": "display_data"
    },
    {
     "data": {
      "text/html": [
       "Tracking run with wandb version 0.12.14"
      ],
      "text/plain": [
       "<IPython.core.display.HTML object>"
      ]
     },
     "metadata": {},
     "output_type": "display_data"
    },
    {
     "data": {
      "text/html": [
       "Run data is saved locally in <code>c:\\Users\\Nick\\Documents\\GitHub\\grvmodel\\Python\\pytorch\\New Model\\wandb\\run-20220825_041542-6rpbg6xe</code>"
      ],
      "text/plain": [
       "<IPython.core.display.HTML object>"
      ]
     },
     "metadata": {},
     "output_type": "display_data"
    },
    {
     "data": {
      "text/html": [
       "Syncing run <strong><a href=\"https://wandb.ai/nickojelly/grv_priced_sweep_custom/runs/6rpbg6xe\" target=\"_blank\">rare-sweep-3</a></strong> to <a href=\"https://wandb.ai/nickojelly/grv_priced_sweep_custom\" target=\"_blank\">Weights & Biases</a> (<a href=\"https://wandb.me/run\" target=\"_blank\">docs</a>)<br/>Sweep page:  <a href=\"https://wandb.ai/nickojelly/grv_priced_sweep_custom/sweeps/nwqxajsa\" target=\"_blank\">https://wandb.ai/nickojelly/grv_priced_sweep_custom/sweeps/nwqxajsa</a>"
      ],
      "text/plain": [
       "<IPython.core.display.HTML object>"
      ]
     },
     "metadata": {},
     "output_type": "display_data"
    },
    {
     "name": "stderr",
     "output_type": "stream",
     "text": [
      "  0%|          | 0/100 [00:00<?, ?it/s]"
     ]
    },
    {
     "name": "stdout",
     "output_type": "stream",
     "text": [
      "{'batch_size': 720, 'dropout': 0.3, 'epochs': 100, 'f1_layer_size': 256, 'f2_layer_size': 256, 'l1_beta': 0.42316894075852074, 'learning_rate': 0.0005063617879537392, 'loss': 'l1_custom', 'num_layers': 2, 'optimizer': 'adam', 'validation_split': 0.1}\n",
      "100\n",
      "{'batch_size': 720, 'dropout': 0.3, 'epochs': 100, 'f1_layer_size': 256, 'f2_layer_size': 256, 'l1_beta': 0.42316894075852074, 'learning_rate': 0.0005063617879537392, 'loss': 'l1_custom', 'num_layers': 2, 'optimizer': 'adam', 'validation_split': 0.1}\n",
      "Sequential(\n",
      "  (0): Linear(in_features=120, out_features=256, bias=True)\n",
      "  (1): ReLU()\n",
      "  (2): Dropout(p=0.3, inplace=False)\n",
      "  (3): Linear(in_features=256, out_features=256, bias=True)\n",
      "  (4): ReLU()\n",
      "  (5): Dropout(p=0.3, inplace=False)\n",
      "  (6): Linear(in_features=256, out_features=8, bias=True)\n",
      "  (7): Softmax(dim=1)\n",
      ")\n"
     ]
    },
    {
     "name": "stderr",
     "output_type": "stream",
     "text": [
      "  1%|          | 1/100 [00:12<21:09, 12.82s/it]"
     ]
    },
    {
     "name": "stdout",
     "output_type": "stream",
     "text": [
      "created path\n"
     ]
    },
    {
     "name": "stderr",
     "output_type": "stream",
     "text": [
      "100%|██████████| 100/100 [04:39<00:00,  2.79s/it]\n"
     ]
    },
    {
     "name": "stdout",
     "output_type": "stream",
     "text": [
      "\n"
     ]
    },
    {
     "data": {
      "text/html": [
       "Waiting for W&B process to finish... <strong style=\"color:green\">(success).</strong>"
      ],
      "text/plain": [
       "<IPython.core.display.HTML object>"
      ]
     },
     "metadata": {},
     "output_type": "display_data"
    },
    {
     "data": {
      "application/vnd.jupyter.widget-view+json": {
       "model_id": "69c5c19d3498401580bb438c5bb7ae90",
       "version_major": 2,
       "version_minor": 0
      },
      "text/plain": [
       "VBox(children=(Label(value='0.001 MB of 0.001 MB uploaded (0.000 MB deduped)\\r'), FloatProgress(value=1.0, max…"
      ]
     },
     "metadata": {},
     "output_type": "display_data"
    },
    {
     "data": {
      "text/html": [
       "<style>\n",
       "    table.wandb td:nth-child(1) { padding: 0 10px; text-align: right }\n",
       "    .wandb-row { display: flex; flex-direction: row; flex-wrap: wrap; width: 100% }\n",
       "    .wandb-col { display: flex; flex-direction: column; flex-basis: 100%; flex: 1; padding: 10px; }\n",
       "    </style>\n",
       "<div class=\"wandb-row\"><div class=\"wandb-col\"><h3>Run history:</h3><br/><table class=\"wandb\"><tr><td>bfnotavail</td><td>▁▁▅▆████▇▇</td></tr><tr><td>bfprofit</td><td>▂▁▄██▅▇▇▆▆</td></tr><tr><td>correct_conf</td><td>▁▄▆▆▆▆▇▇▇█</td></tr><tr><td>epoch</td><td>▁▁▁▂▂▂▂▃▃▃▃▃▄▄▄▄▅▅▅▅▅▆▆▆▆▆▇▇▇▇███</td></tr><tr><td>incorrect_conf</td><td>▁▅▆▇▇▇▇▇██</td></tr><tr><td>loss</td><td>█▆▄▆▅▄▅▃▃▄▃▃▃▃▃▅▃▃▃▆▄▃▃▄▄▃▂▃▃▄▂▁▃</td></tr><tr><td>num_bets_per</td><td>▇█▅▄▄▄▃▂▁▁</td></tr><tr><td>profit</td><td>▁▁▅██▆█▇▇▇</td></tr><tr><td>test_accuracy</td><td>▁▂▆▇█████▇</td></tr><tr><td>value_pick_roi</td><td>▁▃▄▆█▅▅▅▁▆</td></tr></table><br/></div><div class=\"wandb-col\"><h3>Run summary:</h3><br/><table class=\"wandb\"><tr><td>bfnotavail</td><td>790</td></tr><tr><td>correct_conf</td><td>0.31775</td></tr><tr><td>epoch</td><td>98</td></tr><tr><td>incorrect_conf</td><td>0.28406</td></tr><tr><td>num_bets_per</td><td>3.79486</td></tr><tr><td>profit</td><td>-876.82</td></tr><tr><td>value_pick_roi</td><td>-0.26887</td></tr></table><br/></div></div>"
      ],
      "text/plain": [
       "<IPython.core.display.HTML object>"
      ]
     },
     "metadata": {},
     "output_type": "display_data"
    },
    {
     "data": {
      "text/html": [
       "Synced <strong style=\"color:#cdcd00\">rare-sweep-3</strong>: <a href=\"https://wandb.ai/nickojelly/grv_priced_sweep_custom/runs/6rpbg6xe\" target=\"_blank\">https://wandb.ai/nickojelly/grv_priced_sweep_custom/runs/6rpbg6xe</a><br/>Synced 5 W&B file(s), 0 media file(s), 0 artifact file(s) and 0 other file(s)"
      ],
      "text/plain": [
       "<IPython.core.display.HTML object>"
      ]
     },
     "metadata": {},
     "output_type": "display_data"
    },
    {
     "data": {
      "text/html": [
       "Find logs at: <code>.\\wandb\\run-20220825_041542-6rpbg6xe\\logs</code>"
      ],
      "text/plain": [
       "<IPython.core.display.HTML object>"
      ]
     },
     "metadata": {},
     "output_type": "display_data"
    },
    {
     "name": "stderr",
     "output_type": "stream",
     "text": [
      "\u001b[34m\u001b[1mwandb\u001b[0m: Sweep Agent: Waiting for job.\n",
      "\u001b[34m\u001b[1mwandb\u001b[0m: Job received.\n",
      "\u001b[34m\u001b[1mwandb\u001b[0m: Agent Starting Run: tskhpgz8 with config:\n",
      "\u001b[34m\u001b[1mwandb\u001b[0m: \tbatch_size: 128\n",
      "\u001b[34m\u001b[1mwandb\u001b[0m: \tdropout: 0.3\n",
      "\u001b[34m\u001b[1mwandb\u001b[0m: \tepochs: 100\n",
      "\u001b[34m\u001b[1mwandb\u001b[0m: \tf1_layer_size: 32\n",
      "\u001b[34m\u001b[1mwandb\u001b[0m: \tf2_layer_size: 64\n",
      "\u001b[34m\u001b[1mwandb\u001b[0m: \tl1_beta: 0.4395750191266897\n",
      "\u001b[34m\u001b[1mwandb\u001b[0m: \tlearning_rate: 0.0005418896954432392\n",
      "\u001b[34m\u001b[1mwandb\u001b[0m: \tloss: l1_custom\n",
      "\u001b[34m\u001b[1mwandb\u001b[0m: \tnum_layers: 2\n",
      "\u001b[34m\u001b[1mwandb\u001b[0m: \toptimizer: adam\n",
      "\u001b[34m\u001b[1mwandb\u001b[0m: \tvalidation_split: 0.1\n",
      "Failed to detect the name of this notebook, you can set it manually with the WANDB_NOTEBOOK_NAME environment variable to enable code saving.\n",
      "\u001b[34m\u001b[1mwandb\u001b[0m: \u001b[33mWARNING\u001b[0m Ignored wandb.init() arg project when running a sweep.\n"
     ]
    },
    {
     "data": {
      "text/html": [
       "wandb version 0.13.2 is available!  To upgrade, please run:\n",
       " $ pip install wandb --upgrade"
      ],
      "text/plain": [
       "<IPython.core.display.HTML object>"
      ]
     },
     "metadata": {},
     "output_type": "display_data"
    },
    {
     "data": {
      "text/html": [
       "Tracking run with wandb version 0.12.14"
      ],
      "text/plain": [
       "<IPython.core.display.HTML object>"
      ]
     },
     "metadata": {},
     "output_type": "display_data"
    },
    {
     "data": {
      "text/html": [
       "Run data is saved locally in <code>c:\\Users\\Nick\\Documents\\GitHub\\grvmodel\\Python\\pytorch\\New Model\\wandb\\run-20220825_042039-tskhpgz8</code>"
      ],
      "text/plain": [
       "<IPython.core.display.HTML object>"
      ]
     },
     "metadata": {},
     "output_type": "display_data"
    },
    {
     "data": {
      "text/html": [
       "Syncing run <strong><a href=\"https://wandb.ai/nickojelly/grv_priced_sweep_custom/runs/tskhpgz8\" target=\"_blank\">dulcet-sweep-4</a></strong> to <a href=\"https://wandb.ai/nickojelly/grv_priced_sweep_custom\" target=\"_blank\">Weights & Biases</a> (<a href=\"https://wandb.me/run\" target=\"_blank\">docs</a>)<br/>Sweep page:  <a href=\"https://wandb.ai/nickojelly/grv_priced_sweep_custom/sweeps/nwqxajsa\" target=\"_blank\">https://wandb.ai/nickojelly/grv_priced_sweep_custom/sweeps/nwqxajsa</a>"
      ],
      "text/plain": [
       "<IPython.core.display.HTML object>"
      ]
     },
     "metadata": {},
     "output_type": "display_data"
    },
    {
     "name": "stderr",
     "output_type": "stream",
     "text": [
      "  0%|          | 0/100 [00:00<?, ?it/s]"
     ]
    },
    {
     "name": "stdout",
     "output_type": "stream",
     "text": [
      "{'batch_size': 128, 'dropout': 0.3, 'epochs': 100, 'f1_layer_size': 32, 'f2_layer_size': 64, 'l1_beta': 0.4395750191266897, 'learning_rate': 0.0005418896954432392, 'loss': 'l1_custom', 'num_layers': 2, 'optimizer': 'adam', 'validation_split': 0.1}\n",
      "100\n",
      "{'batch_size': 128, 'dropout': 0.3, 'epochs': 100, 'f1_layer_size': 32, 'f2_layer_size': 64, 'l1_beta': 0.4395750191266897, 'learning_rate': 0.0005418896954432392, 'loss': 'l1_custom', 'num_layers': 2, 'optimizer': 'adam', 'validation_split': 0.1}\n",
      "Sequential(\n",
      "  (0): Linear(in_features=120, out_features=32, bias=True)\n",
      "  (1): ReLU()\n",
      "  (2): Dropout(p=0.3, inplace=False)\n",
      "  (3): Linear(in_features=32, out_features=64, bias=True)\n",
      "  (4): ReLU()\n",
      "  (5): Dropout(p=0.3, inplace=False)\n",
      "  (6): Linear(in_features=64, out_features=8, bias=True)\n",
      "  (7): Softmax(dim=1)\n",
      ")\n"
     ]
    },
    {
     "name": "stderr",
     "output_type": "stream",
     "text": [
      "  1%|          | 1/100 [00:12<20:37, 12.50s/it]"
     ]
    },
    {
     "name": "stdout",
     "output_type": "stream",
     "text": [
      "created path\n"
     ]
    },
    {
     "name": "stderr",
     "output_type": "stream",
     "text": [
      "100%|██████████| 100/100 [05:49<00:00,  3.49s/it]\n"
     ]
    },
    {
     "name": "stdout",
     "output_type": "stream",
     "text": [
      "\n"
     ]
    },
    {
     "data": {
      "text/html": [
       "Waiting for W&B process to finish... <strong style=\"color:green\">(success).</strong>"
      ],
      "text/plain": [
       "<IPython.core.display.HTML object>"
      ]
     },
     "metadata": {},
     "output_type": "display_data"
    },
    {
     "data": {
      "application/vnd.jupyter.widget-view+json": {
       "model_id": "ad34a80bbefc4a7fb1d4222b0dd117df",
       "version_major": 2,
       "version_minor": 0
      },
      "text/plain": [
       "VBox(children=(Label(value='0.001 MB of 0.001 MB uploaded (0.000 MB deduped)\\r'), FloatProgress(value=1.0, max…"
      ]
     },
     "metadata": {},
     "output_type": "display_data"
    },
    {
     "data": {
      "text/html": [
       "<style>\n",
       "    table.wandb td:nth-child(1) { padding: 0 10px; text-align: right }\n",
       "    .wandb-row { display: flex; flex-direction: row; flex-wrap: wrap; width: 100% }\n",
       "    .wandb-col { display: flex; flex-direction: column; flex-basis: 100%; flex: 1; padding: 10px; }\n",
       "    </style>\n",
       "<div class=\"wandb-row\"><div class=\"wandb-col\"><h3>Run history:</h3><br/><table class=\"wandb\"><tr><td>bfnotavail</td><td>▁▃▆▇▆▅▇▇▇█</td></tr><tr><td>bfprofit</td><td>▁▄▄▂▂▄▃▅▅█</td></tr><tr><td>correct_conf</td><td>▁▆▆▇▇█████</td></tr><tr><td>epoch</td><td>▁▁▁▁▂▂▂▂▂▃▃▃▃▃▃▄▄▄▄▄▅▅▅▅▅▅▆▆▆▆▆▇▇▇▇▇▇███</td></tr><tr><td>incorrect_conf</td><td>▁▆▆▇▇█▇███</td></tr><tr><td>loss</td><td>█▄▇▂▆▅▃▃▃▅▂▄▆▅▁▄▄▂▅▄▄▅▁▁▄▃▄▆▄▂▃▄▂▃▆▅▄▂▂▂</td></tr><tr><td>num_bets_per</td><td>▆▇█▆▄▁▃▃▂▃</td></tr><tr><td>profit</td><td>▁▄▄▃▃▄▅▆▅█</td></tr><tr><td>test_accuracy</td><td>▁▄▆▇▆▆▇▇▇█</td></tr><tr><td>value_pick_roi</td><td>▁▅▅▆▅▅█▇██</td></tr></table><br/></div><div class=\"wandb-col\"><h3>Run summary:</h3><br/><table class=\"wandb\"><tr><td>bfnotavail</td><td>841</td></tr><tr><td>correct_conf</td><td>0.27734</td></tr><tr><td>epoch</td><td>99</td></tr><tr><td>incorrect_conf</td><td>0.24972</td></tr><tr><td>num_bets_per</td><td>3.97027</td></tr><tr><td>profit</td><td>-850.0</td></tr><tr><td>value_pick_roi</td><td>-0.26414</td></tr></table><br/></div></div>"
      ],
      "text/plain": [
       "<IPython.core.display.HTML object>"
      ]
     },
     "metadata": {},
     "output_type": "display_data"
    },
    {
     "data": {
      "text/html": [
       "Synced <strong style=\"color:#cdcd00\">dulcet-sweep-4</strong>: <a href=\"https://wandb.ai/nickojelly/grv_priced_sweep_custom/runs/tskhpgz8\" target=\"_blank\">https://wandb.ai/nickojelly/grv_priced_sweep_custom/runs/tskhpgz8</a><br/>Synced 5 W&B file(s), 0 media file(s), 0 artifact file(s) and 0 other file(s)"
      ],
      "text/plain": [
       "<IPython.core.display.HTML object>"
      ]
     },
     "metadata": {},
     "output_type": "display_data"
    },
    {
     "data": {
      "text/html": [
       "Find logs at: <code>.\\wandb\\run-20220825_042039-tskhpgz8\\logs</code>"
      ],
      "text/plain": [
       "<IPython.core.display.HTML object>"
      ]
     },
     "metadata": {},
     "output_type": "display_data"
    },
    {
     "name": "stderr",
     "output_type": "stream",
     "text": [
      "\u001b[34m\u001b[1mwandb\u001b[0m: Agent Starting Run: kzvrnwwi with config:\n",
      "\u001b[34m\u001b[1mwandb\u001b[0m: \tbatch_size: 128\n",
      "\u001b[34m\u001b[1mwandb\u001b[0m: \tdropout: 0.5\n",
      "\u001b[34m\u001b[1mwandb\u001b[0m: \tepochs: 100\n",
      "\u001b[34m\u001b[1mwandb\u001b[0m: \tf1_layer_size: 128\n",
      "\u001b[34m\u001b[1mwandb\u001b[0m: \tf2_layer_size: 64\n",
      "\u001b[34m\u001b[1mwandb\u001b[0m: \tl1_beta: 0.06943088906693085\n",
      "\u001b[34m\u001b[1mwandb\u001b[0m: \tlearning_rate: 0.0006156986157517025\n",
      "\u001b[34m\u001b[1mwandb\u001b[0m: \tloss: l1_custom\n",
      "\u001b[34m\u001b[1mwandb\u001b[0m: \tnum_layers: 2\n",
      "\u001b[34m\u001b[1mwandb\u001b[0m: \toptimizer: adam\n",
      "\u001b[34m\u001b[1mwandb\u001b[0m: \tvalidation_split: 0.1\n",
      "Failed to detect the name of this notebook, you can set it manually with the WANDB_NOTEBOOK_NAME environment variable to enable code saving.\n",
      "\u001b[34m\u001b[1mwandb\u001b[0m: \u001b[33mWARNING\u001b[0m Ignored wandb.init() arg project when running a sweep.\n"
     ]
    },
    {
     "data": {
      "text/html": [
       "wandb version 0.13.2 is available!  To upgrade, please run:\n",
       " $ pip install wandb --upgrade"
      ],
      "text/plain": [
       "<IPython.core.display.HTML object>"
      ]
     },
     "metadata": {},
     "output_type": "display_data"
    },
    {
     "data": {
      "text/html": [
       "Tracking run with wandb version 0.12.14"
      ],
      "text/plain": [
       "<IPython.core.display.HTML object>"
      ]
     },
     "metadata": {},
     "output_type": "display_data"
    },
    {
     "data": {
      "text/html": [
       "Run data is saved locally in <code>c:\\Users\\Nick\\Documents\\GitHub\\grvmodel\\Python\\pytorch\\New Model\\wandb\\run-20220825_042639-kzvrnwwi</code>"
      ],
      "text/plain": [
       "<IPython.core.display.HTML object>"
      ]
     },
     "metadata": {},
     "output_type": "display_data"
    },
    {
     "data": {
      "text/html": [
       "Syncing run <strong><a href=\"https://wandb.ai/nickojelly/grv_priced_sweep_custom/runs/kzvrnwwi\" target=\"_blank\">warm-sweep-5</a></strong> to <a href=\"https://wandb.ai/nickojelly/grv_priced_sweep_custom\" target=\"_blank\">Weights & Biases</a> (<a href=\"https://wandb.me/run\" target=\"_blank\">docs</a>)<br/>Sweep page:  <a href=\"https://wandb.ai/nickojelly/grv_priced_sweep_custom/sweeps/nwqxajsa\" target=\"_blank\">https://wandb.ai/nickojelly/grv_priced_sweep_custom/sweeps/nwqxajsa</a>"
      ],
      "text/plain": [
       "<IPython.core.display.HTML object>"
      ]
     },
     "metadata": {},
     "output_type": "display_data"
    },
    {
     "name": "stderr",
     "output_type": "stream",
     "text": [
      "  0%|          | 0/100 [00:00<?, ?it/s]"
     ]
    },
    {
     "name": "stdout",
     "output_type": "stream",
     "text": [
      "{'batch_size': 128, 'dropout': 0.5, 'epochs': 100, 'f1_layer_size': 128, 'f2_layer_size': 64, 'l1_beta': 0.06943088906693085, 'learning_rate': 0.0006156986157517025, 'loss': 'l1_custom', 'num_layers': 2, 'optimizer': 'adam', 'validation_split': 0.1}\n",
      "100\n",
      "{'batch_size': 128, 'dropout': 0.5, 'epochs': 100, 'f1_layer_size': 128, 'f2_layer_size': 64, 'l1_beta': 0.06943088906693085, 'learning_rate': 0.0006156986157517025, 'loss': 'l1_custom', 'num_layers': 2, 'optimizer': 'adam', 'validation_split': 0.1}\n",
      "Sequential(\n",
      "  (0): Linear(in_features=120, out_features=128, bias=True)\n",
      "  (1): ReLU()\n",
      "  (2): Dropout(p=0.5, inplace=False)\n",
      "  (3): Linear(in_features=128, out_features=64, bias=True)\n",
      "  (4): ReLU()\n",
      "  (5): Dropout(p=0.5, inplace=False)\n",
      "  (6): Linear(in_features=64, out_features=8, bias=True)\n",
      "  (7): Softmax(dim=1)\n",
      ")\n"
     ]
    },
    {
     "name": "stderr",
     "output_type": "stream",
     "text": [
      "  1%|          | 1/100 [00:12<21:24, 12.97s/it]"
     ]
    },
    {
     "name": "stdout",
     "output_type": "stream",
     "text": [
      "created path\n"
     ]
    },
    {
     "name": "stderr",
     "output_type": "stream",
     "text": [
      "100%|██████████| 100/100 [06:00<00:00,  3.60s/it]\n"
     ]
    },
    {
     "name": "stdout",
     "output_type": "stream",
     "text": [
      "\n"
     ]
    },
    {
     "data": {
      "text/html": [
       "Waiting for W&B process to finish... <strong style=\"color:green\">(success).</strong>"
      ],
      "text/plain": [
       "<IPython.core.display.HTML object>"
      ]
     },
     "metadata": {},
     "output_type": "display_data"
    },
    {
     "data": {
      "application/vnd.jupyter.widget-view+json": {
       "model_id": "42cf9898a3a1498db4f330cb1c33ea11",
       "version_major": 2,
       "version_minor": 0
      },
      "text/plain": [
       "VBox(children=(Label(value='0.001 MB of 0.001 MB uploaded (0.000 MB deduped)\\r'), FloatProgress(value=1.0, max…"
      ]
     },
     "metadata": {},
     "output_type": "display_data"
    },
    {
     "data": {
      "text/html": [
       "<style>\n",
       "    table.wandb td:nth-child(1) { padding: 0 10px; text-align: right }\n",
       "    .wandb-row { display: flex; flex-direction: row; flex-wrap: wrap; width: 100% }\n",
       "    .wandb-col { display: flex; flex-direction: column; flex-basis: 100%; flex: 1; padding: 10px; }\n",
       "    </style>\n",
       "<div class=\"wandb-row\"><div class=\"wandb-col\"><h3>Run history:</h3><br/><table class=\"wandb\"><tr><td>bfnotavail</td><td>█▁▆▆▆▅▇▆▅▇</td></tr><tr><td>bfprofit</td><td>█▃▂▁▆▃▆▃▅█</td></tr><tr><td>correct_conf</td><td>▁▆▇███████</td></tr><tr><td>epoch</td><td>▁▁▁▁▂▂▂▂▂▃▃▃▃▃▃▄▄▄▄▄▅▅▅▅▅▅▆▆▆▆▆▇▇▇▇▇▇███</td></tr><tr><td>incorrect_conf</td><td>▁▆▇▇██▇▇██</td></tr><tr><td>loss</td><td>█▇▇▃▄▄▄▂▂▄▄▂▁▅▃▃▃▁▂▂▄▂▁▂▂▁▂▁▃▁▃▂▁▃▂▁▂▁▃▁</td></tr><tr><td>num_bets_per</td><td>█▄▃▂▁▁▂▂▂▂</td></tr><tr><td>profit</td><td>▃▄▃▁▆▃▆▄▅█</td></tr><tr><td>test_accuracy</td><td>▁▃▇▇█▆█▇▇█</td></tr><tr><td>value_pick_roi</td><td>▃▂▃▆█▅▆▁▁▃</td></tr></table><br/></div><div class=\"wandb-col\"><h3>Run summary:</h3><br/><table class=\"wandb\"><tr><td>bfnotavail</td><td>551</td></tr><tr><td>correct_conf</td><td>0.47827</td></tr><tr><td>epoch</td><td>99</td></tr><tr><td>incorrect_conf</td><td>0.50815</td></tr><tr><td>num_bets_per</td><td>2.79053</td></tr><tr><td>profit</td><td>-1021.26</td></tr><tr><td>value_pick_roi</td><td>-0.27757</td></tr></table><br/></div></div>"
      ],
      "text/plain": [
       "<IPython.core.display.HTML object>"
      ]
     },
     "metadata": {},
     "output_type": "display_data"
    },
    {
     "data": {
      "text/html": [
       "Synced <strong style=\"color:#cdcd00\">warm-sweep-5</strong>: <a href=\"https://wandb.ai/nickojelly/grv_priced_sweep_custom/runs/kzvrnwwi\" target=\"_blank\">https://wandb.ai/nickojelly/grv_priced_sweep_custom/runs/kzvrnwwi</a><br/>Synced 5 W&B file(s), 0 media file(s), 0 artifact file(s) and 0 other file(s)"
      ],
      "text/plain": [
       "<IPython.core.display.HTML object>"
      ]
     },
     "metadata": {},
     "output_type": "display_data"
    },
    {
     "data": {
      "text/html": [
       "Find logs at: <code>.\\wandb\\run-20220825_042639-kzvrnwwi\\logs</code>"
      ],
      "text/plain": [
       "<IPython.core.display.HTML object>"
      ]
     },
     "metadata": {},
     "output_type": "display_data"
    },
    {
     "name": "stderr",
     "output_type": "stream",
     "text": [
      "\u001b[34m\u001b[1mwandb\u001b[0m: Agent Starting Run: a7r2z6gx with config:\n",
      "\u001b[34m\u001b[1mwandb\u001b[0m: \tbatch_size: 720\n",
      "\u001b[34m\u001b[1mwandb\u001b[0m: \tdropout: 0.3\n",
      "\u001b[34m\u001b[1mwandb\u001b[0m: \tepochs: 100\n",
      "\u001b[34m\u001b[1mwandb\u001b[0m: \tf1_layer_size: 32\n",
      "\u001b[34m\u001b[1mwandb\u001b[0m: \tf2_layer_size: 64\n",
      "\u001b[34m\u001b[1mwandb\u001b[0m: \tl1_beta: 0.7683511466358938\n",
      "\u001b[34m\u001b[1mwandb\u001b[0m: \tlearning_rate: 0.0007945261919213561\n",
      "\u001b[34m\u001b[1mwandb\u001b[0m: \tloss: l1_custom\n",
      "\u001b[34m\u001b[1mwandb\u001b[0m: \tnum_layers: 2\n",
      "\u001b[34m\u001b[1mwandb\u001b[0m: \toptimizer: adam\n",
      "\u001b[34m\u001b[1mwandb\u001b[0m: \tvalidation_split: 0.1\n",
      "Failed to detect the name of this notebook, you can set it manually with the WANDB_NOTEBOOK_NAME environment variable to enable code saving.\n",
      "\u001b[34m\u001b[1mwandb\u001b[0m: \u001b[33mWARNING\u001b[0m Ignored wandb.init() arg project when running a sweep.\n"
     ]
    },
    {
     "data": {
      "text/html": [
       "wandb version 0.13.2 is available!  To upgrade, please run:\n",
       " $ pip install wandb --upgrade"
      ],
      "text/plain": [
       "<IPython.core.display.HTML object>"
      ]
     },
     "metadata": {},
     "output_type": "display_data"
    },
    {
     "data": {
      "text/html": [
       "Tracking run with wandb version 0.12.14"
      ],
      "text/plain": [
       "<IPython.core.display.HTML object>"
      ]
     },
     "metadata": {},
     "output_type": "display_data"
    },
    {
     "data": {
      "text/html": [
       "Run data is saved locally in <code>c:\\Users\\Nick\\Documents\\GitHub\\grvmodel\\Python\\pytorch\\New Model\\wandb\\run-20220825_043249-a7r2z6gx</code>"
      ],
      "text/plain": [
       "<IPython.core.display.HTML object>"
      ]
     },
     "metadata": {},
     "output_type": "display_data"
    },
    {
     "data": {
      "text/html": [
       "Syncing run <strong><a href=\"https://wandb.ai/nickojelly/grv_priced_sweep_custom/runs/a7r2z6gx\" target=\"_blank\">olive-sweep-6</a></strong> to <a href=\"https://wandb.ai/nickojelly/grv_priced_sweep_custom\" target=\"_blank\">Weights & Biases</a> (<a href=\"https://wandb.me/run\" target=\"_blank\">docs</a>)<br/>Sweep page:  <a href=\"https://wandb.ai/nickojelly/grv_priced_sweep_custom/sweeps/nwqxajsa\" target=\"_blank\">https://wandb.ai/nickojelly/grv_priced_sweep_custom/sweeps/nwqxajsa</a>"
      ],
      "text/plain": [
       "<IPython.core.display.HTML object>"
      ]
     },
     "metadata": {},
     "output_type": "display_data"
    },
    {
     "name": "stderr",
     "output_type": "stream",
     "text": [
      "  0%|          | 0/100 [00:00<?, ?it/s]"
     ]
    },
    {
     "name": "stdout",
     "output_type": "stream",
     "text": [
      "{'batch_size': 720, 'dropout': 0.3, 'epochs': 100, 'f1_layer_size': 32, 'f2_layer_size': 64, 'l1_beta': 0.7683511466358938, 'learning_rate': 0.0007945261919213561, 'loss': 'l1_custom', 'num_layers': 2, 'optimizer': 'adam', 'validation_split': 0.1}\n",
      "100\n",
      "{'batch_size': 720, 'dropout': 0.3, 'epochs': 100, 'f1_layer_size': 32, 'f2_layer_size': 64, 'l1_beta': 0.7683511466358938, 'learning_rate': 0.0007945261919213561, 'loss': 'l1_custom', 'num_layers': 2, 'optimizer': 'adam', 'validation_split': 0.1}\n",
      "Sequential(\n",
      "  (0): Linear(in_features=120, out_features=32, bias=True)\n",
      "  (1): ReLU()\n",
      "  (2): Dropout(p=0.3, inplace=False)\n",
      "  (3): Linear(in_features=32, out_features=64, bias=True)\n",
      "  (4): ReLU()\n",
      "  (5): Dropout(p=0.3, inplace=False)\n",
      "  (6): Linear(in_features=64, out_features=8, bias=True)\n",
      "  (7): Softmax(dim=1)\n",
      ")\n"
     ]
    },
    {
     "name": "stderr",
     "output_type": "stream",
     "text": [
      "  1%|          | 1/100 [00:11<18:31, 11.22s/it]"
     ]
    },
    {
     "name": "stdout",
     "output_type": "stream",
     "text": [
      "created path\n"
     ]
    },
    {
     "name": "stderr",
     "output_type": "stream",
     "text": [
      "100%|██████████| 100/100 [04:16<00:00,  2.57s/it]\n"
     ]
    },
    {
     "name": "stdout",
     "output_type": "stream",
     "text": [
      "\n"
     ]
    },
    {
     "data": {
      "text/html": [
       "Waiting for W&B process to finish... <strong style=\"color:green\">(success).</strong>"
      ],
      "text/plain": [
       "<IPython.core.display.HTML object>"
      ]
     },
     "metadata": {},
     "output_type": "display_data"
    },
    {
     "data": {
      "application/vnd.jupyter.widget-view+json": {
       "model_id": "a3a5b906f4454444bf8078b8865e5080",
       "version_major": 2,
       "version_minor": 0
      },
      "text/plain": [
       "VBox(children=(Label(value='0.001 MB of 0.001 MB uploaded (0.000 MB deduped)\\r'), FloatProgress(value=1.0, max…"
      ]
     },
     "metadata": {},
     "output_type": "display_data"
    },
    {
     "data": {
      "text/html": [
       "<style>\n",
       "    table.wandb td:nth-child(1) { padding: 0 10px; text-align: right }\n",
       "    .wandb-row { display: flex; flex-direction: row; flex-wrap: wrap; width: 100% }\n",
       "    .wandb-col { display: flex; flex-direction: column; flex-basis: 100%; flex: 1; padding: 10px; }\n",
       "    </style>\n",
       "<div class=\"wandb-row\"><div class=\"wandb-col\"><h3>Run history:</h3><br/><table class=\"wandb\"><tr><td>bfnotavail</td><td>▁▆██▇█████</td></tr><tr><td>bfprofit</td><td>▁▇██▆███▇▇</td></tr><tr><td>correct_conf</td><td>▁▆▇▇▇▇█▇█▇</td></tr><tr><td>epoch</td><td>▁▁▁▂▂▂▂▃▃▃▃▃▄▄▄▄▅▅▅▅▅▆▆▆▆▆▇▇▇▇███</td></tr><tr><td>incorrect_conf</td><td>▁▆▇▇▇▇█▇█▇</td></tr><tr><td>loss</td><td>██▅▅▄▅▄▄▃▁▅▅▁▃▁▄▃▃▄▃▂▄▃▃▂▂▄▃▃▂▃▂▂</td></tr><tr><td>num_bets_per</td><td>▆█▅▅▃▃▂▂▁▂</td></tr><tr><td>profit</td><td>▁▇██▆███▇▇</td></tr><tr><td>test_accuracy</td><td>▁▆██▇███▇█</td></tr><tr><td>value_pick_roi</td><td>▁▅▆▇▆▆▇▇█▇</td></tr></table><br/></div><div class=\"wandb-col\"><h3>Run summary:</h3><br/><table class=\"wandb\"><tr><td>bfnotavail</td><td>954</td></tr><tr><td>correct_conf</td><td>0.28439</td></tr><tr><td>epoch</td><td>98</td></tr><tr><td>incorrect_conf</td><td>0.25487</td></tr><tr><td>num_bets_per</td><td>3.92231</td></tr><tr><td>profit</td><td>-961.6</td></tr><tr><td>value_pick_roi</td><td>-0.2535</td></tr></table><br/></div></div>"
      ],
      "text/plain": [
       "<IPython.core.display.HTML object>"
      ]
     },
     "metadata": {},
     "output_type": "display_data"
    },
    {
     "data": {
      "text/html": [
       "Synced <strong style=\"color:#cdcd00\">olive-sweep-6</strong>: <a href=\"https://wandb.ai/nickojelly/grv_priced_sweep_custom/runs/a7r2z6gx\" target=\"_blank\">https://wandb.ai/nickojelly/grv_priced_sweep_custom/runs/a7r2z6gx</a><br/>Synced 5 W&B file(s), 0 media file(s), 0 artifact file(s) and 0 other file(s)"
      ],
      "text/plain": [
       "<IPython.core.display.HTML object>"
      ]
     },
     "metadata": {},
     "output_type": "display_data"
    },
    {
     "data": {
      "text/html": [
       "Find logs at: <code>.\\wandb\\run-20220825_043249-a7r2z6gx\\logs</code>"
      ],
      "text/plain": [
       "<IPython.core.display.HTML object>"
      ]
     },
     "metadata": {},
     "output_type": "display_data"
    },
    {
     "name": "stderr",
     "output_type": "stream",
     "text": [
      "\u001b[34m\u001b[1mwandb\u001b[0m: Agent Starting Run: cy3ezunv with config:\n",
      "\u001b[34m\u001b[1mwandb\u001b[0m: \tbatch_size: 32\n",
      "\u001b[34m\u001b[1mwandb\u001b[0m: \tdropout: 0.4\n",
      "\u001b[34m\u001b[1mwandb\u001b[0m: \tepochs: 100\n",
      "\u001b[34m\u001b[1mwandb\u001b[0m: \tf1_layer_size: 32\n",
      "\u001b[34m\u001b[1mwandb\u001b[0m: \tf2_layer_size: 128\n",
      "\u001b[34m\u001b[1mwandb\u001b[0m: \tl1_beta: 0.6934128937513108\n",
      "\u001b[34m\u001b[1mwandb\u001b[0m: \tlearning_rate: 0.000694065405508729\n",
      "\u001b[34m\u001b[1mwandb\u001b[0m: \tloss: l1_custom\n",
      "\u001b[34m\u001b[1mwandb\u001b[0m: \tnum_layers: 2\n",
      "\u001b[34m\u001b[1mwandb\u001b[0m: \toptimizer: adam\n",
      "\u001b[34m\u001b[1mwandb\u001b[0m: \tvalidation_split: 0.1\n",
      "Failed to detect the name of this notebook, you can set it manually with the WANDB_NOTEBOOK_NAME environment variable to enable code saving.\n",
      "\u001b[34m\u001b[1mwandb\u001b[0m: \u001b[33mWARNING\u001b[0m Ignored wandb.init() arg project when running a sweep.\n"
     ]
    },
    {
     "data": {
      "text/html": [
       "wandb version 0.13.2 is available!  To upgrade, please run:\n",
       " $ pip install wandb --upgrade"
      ],
      "text/plain": [
       "<IPython.core.display.HTML object>"
      ]
     },
     "metadata": {},
     "output_type": "display_data"
    },
    {
     "data": {
      "text/html": [
       "Tracking run with wandb version 0.12.14"
      ],
      "text/plain": [
       "<IPython.core.display.HTML object>"
      ]
     },
     "metadata": {},
     "output_type": "display_data"
    },
    {
     "data": {
      "text/html": [
       "Run data is saved locally in <code>c:\\Users\\Nick\\Documents\\GitHub\\grvmodel\\Python\\pytorch\\New Model\\wandb\\run-20220825_043715-cy3ezunv</code>"
      ],
      "text/plain": [
       "<IPython.core.display.HTML object>"
      ]
     },
     "metadata": {},
     "output_type": "display_data"
    },
    {
     "data": {
      "text/html": [
       "Syncing run <strong><a href=\"https://wandb.ai/nickojelly/grv_priced_sweep_custom/runs/cy3ezunv\" target=\"_blank\">electric-sweep-7</a></strong> to <a href=\"https://wandb.ai/nickojelly/grv_priced_sweep_custom\" target=\"_blank\">Weights & Biases</a> (<a href=\"https://wandb.me/run\" target=\"_blank\">docs</a>)<br/>Sweep page:  <a href=\"https://wandb.ai/nickojelly/grv_priced_sweep_custom/sweeps/nwqxajsa\" target=\"_blank\">https://wandb.ai/nickojelly/grv_priced_sweep_custom/sweeps/nwqxajsa</a>"
      ],
      "text/plain": [
       "<IPython.core.display.HTML object>"
      ]
     },
     "metadata": {},
     "output_type": "display_data"
    },
    {
     "name": "stderr",
     "output_type": "stream",
     "text": [
      "  0%|          | 0/100 [00:00<?, ?it/s]"
     ]
    },
    {
     "name": "stdout",
     "output_type": "stream",
     "text": [
      "{'batch_size': 32, 'dropout': 0.4, 'epochs': 100, 'f1_layer_size': 32, 'f2_layer_size': 128, 'l1_beta': 0.6934128937513108, 'learning_rate': 0.000694065405508729, 'loss': 'l1_custom', 'num_layers': 2, 'optimizer': 'adam', 'validation_split': 0.1}\n",
      "100\n",
      "{'batch_size': 32, 'dropout': 0.4, 'epochs': 100, 'f1_layer_size': 32, 'f2_layer_size': 128, 'l1_beta': 0.6934128937513108, 'learning_rate': 0.000694065405508729, 'loss': 'l1_custom', 'num_layers': 2, 'optimizer': 'adam', 'validation_split': 0.1}\n",
      "Sequential(\n",
      "  (0): Linear(in_features=120, out_features=32, bias=True)\n",
      "  (1): ReLU()\n",
      "  (2): Dropout(p=0.4, inplace=False)\n",
      "  (3): Linear(in_features=32, out_features=128, bias=True)\n",
      "  (4): ReLU()\n",
      "  (5): Dropout(p=0.4, inplace=False)\n",
      "  (6): Linear(in_features=128, out_features=8, bias=True)\n",
      "  (7): Softmax(dim=1)\n",
      ")\n"
     ]
    },
    {
     "name": "stderr",
     "output_type": "stream",
     "text": [
      "100%|██████████| 100/100 [12:43<00:00,  7.64s/it]\n"
     ]
    },
    {
     "name": "stdout",
     "output_type": "stream",
     "text": [
      "\n"
     ]
    },
    {
     "data": {
      "text/html": [
       "Waiting for W&B process to finish... <strong style=\"color:green\">(success).</strong>"
      ],
      "text/plain": [
       "<IPython.core.display.HTML object>"
      ]
     },
     "metadata": {},
     "output_type": "display_data"
    },
    {
     "data": {
      "application/vnd.jupyter.widget-view+json": {
       "model_id": "12cf483e886c46c3903635614efc4e4f",
       "version_major": 2,
       "version_minor": 0
      },
      "text/plain": [
       "VBox(children=(Label(value='0.001 MB of 0.001 MB uploaded (0.000 MB deduped)\\r'), FloatProgress(value=1.0, max…"
      ]
     },
     "metadata": {},
     "output_type": "display_data"
    },
    {
     "data": {
      "text/html": [
       "<style>\n",
       "    table.wandb td:nth-child(1) { padding: 0 10px; text-align: right }\n",
       "    .wandb-row { display: flex; flex-direction: row; flex-wrap: wrap; width: 100% }\n",
       "    .wandb-col { display: flex; flex-direction: column; flex-basis: 100%; flex: 1; padding: 10px; }\n",
       "    </style>\n",
       "<div class=\"wandb-row\"><div class=\"wandb-col\"><h3>Run history:</h3><br/><table class=\"wandb\"><tr><td>bfnotavail</td><td>▂▆▆▆█▆▁▇█▇</td></tr><tr><td>bfprofit</td><td>▂▃▄▃▆█▁▄▆▄</td></tr><tr><td>correct_conf</td><td>▁▆▅▆▆█▅▆█▇</td></tr><tr><td>epoch</td><td>▁▁▁▁▂▂▂▂▂▃▃▃▃▃▃▄▄▄▄▄▅▅▅▅▅▅▆▆▆▆▆▇▇▇▇▇▇███</td></tr><tr><td>incorrect_conf</td><td>▁▇▅▄▅█▅▄▆▅</td></tr><tr><td>loss</td><td>▆▄▃▄▃▇▃▆▄▃█▃▃▄▃▃▄▄▄▅▅▅▄▃▃▄▄▃▅▄▅▂▆▄▁▄▆▄▄▃</td></tr><tr><td>num_bets_per</td><td>▁███▇▆▇▆▇▇</td></tr><tr><td>profit</td><td>▂▄▅▃▆█▁▅▆▅</td></tr><tr><td>test_accuracy</td><td>▂▆▆▆█▆▁▇█▇</td></tr><tr><td>value_pick_roi</td><td>▁██▇█▇▇▇██</td></tr></table><br/></div><div class=\"wandb-col\"><h3>Run summary:</h3><br/><table class=\"wandb\"><tr><td>bfnotavail</td><td>699</td></tr><tr><td>correct_conf</td><td>0.17769</td></tr><tr><td>epoch</td><td>99</td></tr><tr><td>incorrect_conf</td><td>0.16052</td></tr><tr><td>num_bets_per</td><td>4.19618</td></tr><tr><td>profit</td><td>-897.90001</td></tr><tr><td>value_pick_roi</td><td>-0.27031</td></tr></table><br/></div></div>"
      ],
      "text/plain": [
       "<IPython.core.display.HTML object>"
      ]
     },
     "metadata": {},
     "output_type": "display_data"
    },
    {
     "data": {
      "text/html": [
       "Synced <strong style=\"color:#cdcd00\">electric-sweep-7</strong>: <a href=\"https://wandb.ai/nickojelly/grv_priced_sweep_custom/runs/cy3ezunv\" target=\"_blank\">https://wandb.ai/nickojelly/grv_priced_sweep_custom/runs/cy3ezunv</a><br/>Synced 5 W&B file(s), 0 media file(s), 0 artifact file(s) and 0 other file(s)"
      ],
      "text/plain": [
       "<IPython.core.display.HTML object>"
      ]
     },
     "metadata": {},
     "output_type": "display_data"
    },
    {
     "data": {
      "text/html": [
       "Find logs at: <code>.\\wandb\\run-20220825_043715-cy3ezunv\\logs</code>"
      ],
      "text/plain": [
       "<IPython.core.display.HTML object>"
      ]
     },
     "metadata": {},
     "output_type": "display_data"
    },
    {
     "name": "stderr",
     "output_type": "stream",
     "text": [
      "\u001b[34m\u001b[1mwandb\u001b[0m: Agent Starting Run: m7adb8cq with config:\n",
      "\u001b[34m\u001b[1mwandb\u001b[0m: \tbatch_size: 360\n",
      "\u001b[34m\u001b[1mwandb\u001b[0m: \tdropout: 0.3\n",
      "\u001b[34m\u001b[1mwandb\u001b[0m: \tepochs: 100\n",
      "\u001b[34m\u001b[1mwandb\u001b[0m: \tf1_layer_size: 256\n",
      "\u001b[34m\u001b[1mwandb\u001b[0m: \tf2_layer_size: 256\n",
      "\u001b[34m\u001b[1mwandb\u001b[0m: \tl1_beta: 0.22768527869939836\n",
      "\u001b[34m\u001b[1mwandb\u001b[0m: \tlearning_rate: 0.0003945361064722401\n",
      "\u001b[34m\u001b[1mwandb\u001b[0m: \tloss: l1_custom\n",
      "\u001b[34m\u001b[1mwandb\u001b[0m: \tnum_layers: 2\n",
      "\u001b[34m\u001b[1mwandb\u001b[0m: \toptimizer: adam\n",
      "\u001b[34m\u001b[1mwandb\u001b[0m: \tvalidation_split: 0.1\n",
      "Failed to detect the name of this notebook, you can set it manually with the WANDB_NOTEBOOK_NAME environment variable to enable code saving.\n",
      "\u001b[34m\u001b[1mwandb\u001b[0m: \u001b[33mWARNING\u001b[0m Ignored wandb.init() arg project when running a sweep.\n"
     ]
    },
    {
     "data": {
      "text/html": [
       "wandb version 0.13.2 is available!  To upgrade, please run:\n",
       " $ pip install wandb --upgrade"
      ],
      "text/plain": [
       "<IPython.core.display.HTML object>"
      ]
     },
     "metadata": {},
     "output_type": "display_data"
    },
    {
     "data": {
      "text/html": [
       "Tracking run with wandb version 0.12.14"
      ],
      "text/plain": [
       "<IPython.core.display.HTML object>"
      ]
     },
     "metadata": {},
     "output_type": "display_data"
    },
    {
     "data": {
      "text/html": [
       "Run data is saved locally in <code>c:\\Users\\Nick\\Documents\\GitHub\\grvmodel\\Python\\pytorch\\New Model\\wandb\\run-20220825_045012-m7adb8cq</code>"
      ],
      "text/plain": [
       "<IPython.core.display.HTML object>"
      ]
     },
     "metadata": {},
     "output_type": "display_data"
    },
    {
     "data": {
      "text/html": [
       "Syncing run <strong><a href=\"https://wandb.ai/nickojelly/grv_priced_sweep_custom/runs/m7adb8cq\" target=\"_blank\">unique-sweep-8</a></strong> to <a href=\"https://wandb.ai/nickojelly/grv_priced_sweep_custom\" target=\"_blank\">Weights & Biases</a> (<a href=\"https://wandb.me/run\" target=\"_blank\">docs</a>)<br/>Sweep page:  <a href=\"https://wandb.ai/nickojelly/grv_priced_sweep_custom/sweeps/nwqxajsa\" target=\"_blank\">https://wandb.ai/nickojelly/grv_priced_sweep_custom/sweeps/nwqxajsa</a>"
      ],
      "text/plain": [
       "<IPython.core.display.HTML object>"
      ]
     },
     "metadata": {},
     "output_type": "display_data"
    },
    {
     "name": "stderr",
     "output_type": "stream",
     "text": [
      "  0%|          | 0/100 [00:00<?, ?it/s]"
     ]
    },
    {
     "name": "stdout",
     "output_type": "stream",
     "text": [
      "{'batch_size': 360, 'dropout': 0.3, 'epochs': 100, 'f1_layer_size': 256, 'f2_layer_size': 256, 'l1_beta': 0.22768527869939836, 'learning_rate': 0.0003945361064722401, 'loss': 'l1_custom', 'num_layers': 2, 'optimizer': 'adam', 'validation_split': 0.1}\n",
      "100\n",
      "{'batch_size': 360, 'dropout': 0.3, 'epochs': 100, 'f1_layer_size': 256, 'f2_layer_size': 256, 'l1_beta': 0.22768527869939836, 'learning_rate': 0.0003945361064722401, 'loss': 'l1_custom', 'num_layers': 2, 'optimizer': 'adam', 'validation_split': 0.1}\n",
      "Sequential(\n",
      "  (0): Linear(in_features=120, out_features=256, bias=True)\n",
      "  (1): ReLU()\n",
      "  (2): Dropout(p=0.3, inplace=False)\n",
      "  (3): Linear(in_features=256, out_features=256, bias=True)\n",
      "  (4): ReLU()\n",
      "  (5): Dropout(p=0.3, inplace=False)\n",
      "  (6): Linear(in_features=256, out_features=8, bias=True)\n",
      "  (7): Softmax(dim=1)\n",
      ")\n"
     ]
    },
    {
     "name": "stderr",
     "output_type": "stream",
     "text": [
      "  1%|          | 1/100 [00:13<21:47, 13.20s/it]"
     ]
    },
    {
     "name": "stdout",
     "output_type": "stream",
     "text": [
      "created path\n"
     ]
    },
    {
     "name": "stderr",
     "output_type": "stream",
     "text": [
      "100%|██████████| 100/100 [04:52<00:00,  2.92s/it]"
     ]
    },
    {
     "name": "stdout",
     "output_type": "stream",
     "text": [
      "\n"
     ]
    },
    {
     "name": "stderr",
     "output_type": "stream",
     "text": [
      "\n"
     ]
    },
    {
     "data": {
      "text/html": [
       "Waiting for W&B process to finish... <strong style=\"color:green\">(success).</strong>"
      ],
      "text/plain": [
       "<IPython.core.display.HTML object>"
      ]
     },
     "metadata": {},
     "output_type": "display_data"
    },
    {
     "data": {
      "application/vnd.jupyter.widget-view+json": {
       "model_id": "7c95784294644cdb9cae12d2a8ef731a",
       "version_major": 2,
       "version_minor": 0
      },
      "text/plain": [
       "VBox(children=(Label(value='0.001 MB of 0.001 MB uploaded (0.000 MB deduped)\\r'), FloatProgress(value=1.0, max…"
      ]
     },
     "metadata": {},
     "output_type": "display_data"
    },
    {
     "data": {
      "text/html": [
       "<style>\n",
       "    table.wandb td:nth-child(1) { padding: 0 10px; text-align: right }\n",
       "    .wandb-row { display: flex; flex-direction: row; flex-wrap: wrap; width: 100% }\n",
       "    .wandb-col { display: flex; flex-direction: column; flex-basis: 100%; flex: 1; padding: 10px; }\n",
       "    </style>\n",
       "<div class=\"wandb-row\"><div class=\"wandb-col\"><h3>Run history:</h3><br/><table class=\"wandb\"><tr><td>bfnotavail</td><td>▃▁▃▅▅▆▆▆▇█</td></tr><tr><td>bfprofit</td><td>▂▁▁▆▄▆▆▅██</td></tr><tr><td>correct_conf</td><td>▁▆▆▆▆▆▇▇▇█</td></tr><tr><td>epoch</td><td>▁▁▁▁▂▂▂▂▂▃▃▃▃▃▃▄▄▄▄▄▅▅▅▅▅▅▆▆▆▆▆▇▇▇▇▇▇███</td></tr><tr><td>incorrect_conf</td><td>▁▇█▇▇▇▇██▇</td></tr><tr><td>loss</td><td>█▇▄▃▄▄▄▃▃▂▃▃▄▂▃▃▃▃▂▃▂▃▂▃▂▂▂▂▁▂▁▃▃▃▂▃▂▃▂▁</td></tr><tr><td>num_bets_per</td><td>█▄▂▄▃▄▃▁▂▂</td></tr><tr><td>profit</td><td>▁▁▁▆▄▆▆▆██</td></tr><tr><td>test_accuracy</td><td>▁▃▅▇▇▇▇▇██</td></tr><tr><td>value_pick_roi</td><td>▄▁▃▇█▇█▃▆█</td></tr></table><br/></div><div class=\"wandb-col\"><h3>Run summary:</h3><br/><table class=\"wandb\"><tr><td>bfnotavail</td><td>640</td></tr><tr><td>correct_conf</td><td>0.34225</td></tr><tr><td>epoch</td><td>99</td></tr><tr><td>incorrect_conf</td><td>0.32432</td></tr><tr><td>num_bets_per</td><td>3.64172</td></tr><tr><td>profit</td><td>-878.78001</td></tr><tr><td>value_pick_roi</td><td>-0.27614</td></tr></table><br/></div></div>"
      ],
      "text/plain": [
       "<IPython.core.display.HTML object>"
      ]
     },
     "metadata": {},
     "output_type": "display_data"
    },
    {
     "data": {
      "text/html": [
       "Synced <strong style=\"color:#cdcd00\">unique-sweep-8</strong>: <a href=\"https://wandb.ai/nickojelly/grv_priced_sweep_custom/runs/m7adb8cq\" target=\"_blank\">https://wandb.ai/nickojelly/grv_priced_sweep_custom/runs/m7adb8cq</a><br/>Synced 5 W&B file(s), 0 media file(s), 0 artifact file(s) and 0 other file(s)"
      ],
      "text/plain": [
       "<IPython.core.display.HTML object>"
      ]
     },
     "metadata": {},
     "output_type": "display_data"
    },
    {
     "data": {
      "text/html": [
       "Find logs at: <code>.\\wandb\\run-20220825_045012-m7adb8cq\\logs</code>"
      ],
      "text/plain": [
       "<IPython.core.display.HTML object>"
      ]
     },
     "metadata": {},
     "output_type": "display_data"
    },
    {
     "name": "stderr",
     "output_type": "stream",
     "text": [
      "\u001b[34m\u001b[1mwandb\u001b[0m: Agent Starting Run: 7l58zu3p with config:\n",
      "\u001b[34m\u001b[1mwandb\u001b[0m: \tbatch_size: 32\n",
      "\u001b[34m\u001b[1mwandb\u001b[0m: \tdropout: 0.4\n",
      "\u001b[34m\u001b[1mwandb\u001b[0m: \tepochs: 100\n",
      "\u001b[34m\u001b[1mwandb\u001b[0m: \tf1_layer_size: 256\n",
      "\u001b[34m\u001b[1mwandb\u001b[0m: \tf2_layer_size: 32\n",
      "\u001b[34m\u001b[1mwandb\u001b[0m: \tl1_beta: 0.5576337031121097\n",
      "\u001b[34m\u001b[1mwandb\u001b[0m: \tlearning_rate: 0.000712617542885516\n",
      "\u001b[34m\u001b[1mwandb\u001b[0m: \tloss: l1_custom\n",
      "\u001b[34m\u001b[1mwandb\u001b[0m: \tnum_layers: 2\n",
      "\u001b[34m\u001b[1mwandb\u001b[0m: \toptimizer: adam\n",
      "\u001b[34m\u001b[1mwandb\u001b[0m: \tvalidation_split: 0.1\n",
      "Failed to detect the name of this notebook, you can set it manually with the WANDB_NOTEBOOK_NAME environment variable to enable code saving.\n",
      "\u001b[34m\u001b[1mwandb\u001b[0m: \u001b[33mWARNING\u001b[0m Ignored wandb.init() arg project when running a sweep.\n"
     ]
    },
    {
     "data": {
      "text/html": [
       "wandb version 0.13.2 is available!  To upgrade, please run:\n",
       " $ pip install wandb --upgrade"
      ],
      "text/plain": [
       "<IPython.core.display.HTML object>"
      ]
     },
     "metadata": {},
     "output_type": "display_data"
    },
    {
     "data": {
      "text/html": [
       "Tracking run with wandb version 0.12.14"
      ],
      "text/plain": [
       "<IPython.core.display.HTML object>"
      ]
     },
     "metadata": {},
     "output_type": "display_data"
    },
    {
     "data": {
      "text/html": [
       "Run data is saved locally in <code>c:\\Users\\Nick\\Documents\\GitHub\\grvmodel\\Python\\pytorch\\New Model\\wandb\\run-20220825_045512-7l58zu3p</code>"
      ],
      "text/plain": [
       "<IPython.core.display.HTML object>"
      ]
     },
     "metadata": {},
     "output_type": "display_data"
    },
    {
     "data": {
      "text/html": [
       "Syncing run <strong><a href=\"https://wandb.ai/nickojelly/grv_priced_sweep_custom/runs/7l58zu3p\" target=\"_blank\">lyric-sweep-9</a></strong> to <a href=\"https://wandb.ai/nickojelly/grv_priced_sweep_custom\" target=\"_blank\">Weights & Biases</a> (<a href=\"https://wandb.me/run\" target=\"_blank\">docs</a>)<br/>Sweep page:  <a href=\"https://wandb.ai/nickojelly/grv_priced_sweep_custom/sweeps/nwqxajsa\" target=\"_blank\">https://wandb.ai/nickojelly/grv_priced_sweep_custom/sweeps/nwqxajsa</a>"
      ],
      "text/plain": [
       "<IPython.core.display.HTML object>"
      ]
     },
     "metadata": {},
     "output_type": "display_data"
    },
    {
     "name": "stderr",
     "output_type": "stream",
     "text": [
      "  0%|          | 0/100 [00:00<?, ?it/s]"
     ]
    },
    {
     "name": "stdout",
     "output_type": "stream",
     "text": [
      "{'batch_size': 32, 'dropout': 0.4, 'epochs': 100, 'f1_layer_size': 256, 'f2_layer_size': 32, 'l1_beta': 0.5576337031121097, 'learning_rate': 0.000712617542885516, 'loss': 'l1_custom', 'num_layers': 2, 'optimizer': 'adam', 'validation_split': 0.1}\n",
      "100\n",
      "{'batch_size': 32, 'dropout': 0.4, 'epochs': 100, 'f1_layer_size': 256, 'f2_layer_size': 32, 'l1_beta': 0.5576337031121097, 'learning_rate': 0.000712617542885516, 'loss': 'l1_custom', 'num_layers': 2, 'optimizer': 'adam', 'validation_split': 0.1}\n",
      "Sequential(\n",
      "  (0): Linear(in_features=120, out_features=256, bias=True)\n",
      "  (1): ReLU()\n",
      "  (2): Dropout(p=0.4, inplace=False)\n",
      "  (3): Linear(in_features=256, out_features=32, bias=True)\n",
      "  (4): ReLU()\n",
      "  (5): Dropout(p=0.4, inplace=False)\n",
      "  (6): Linear(in_features=32, out_features=8, bias=True)\n",
      "  (7): Softmax(dim=1)\n",
      ")\n"
     ]
    },
    {
     "name": "stderr",
     "output_type": "stream",
     "text": [
      "  1%|          | 1/100 [00:17<28:44, 17.42s/it]"
     ]
    },
    {
     "name": "stdout",
     "output_type": "stream",
     "text": [
      "created path\n"
     ]
    },
    {
     "name": "stderr",
     "output_type": "stream",
     "text": [
      "100%|██████████| 100/100 [13:16<00:00,  7.96s/it]\n"
     ]
    },
    {
     "name": "stdout",
     "output_type": "stream",
     "text": [
      "\n"
     ]
    },
    {
     "data": {
      "text/html": [
       "Waiting for W&B process to finish... <strong style=\"color:green\">(success).</strong>"
      ],
      "text/plain": [
       "<IPython.core.display.HTML object>"
      ]
     },
     "metadata": {},
     "output_type": "display_data"
    },
    {
     "data": {
      "application/vnd.jupyter.widget-view+json": {
       "model_id": "745fdf79a47b42848607e78b018e6b78",
       "version_major": 2,
       "version_minor": 0
      },
      "text/plain": [
       "VBox(children=(Label(value='0.001 MB of 0.001 MB uploaded (0.000 MB deduped)\\r'), FloatProgress(value=1.0, max…"
      ]
     },
     "metadata": {},
     "output_type": "display_data"
    },
    {
     "data": {
      "text/html": [
       "<style>\n",
       "    table.wandb td:nth-child(1) { padding: 0 10px; text-align: right }\n",
       "    .wandb-row { display: flex; flex-direction: row; flex-wrap: wrap; width: 100% }\n",
       "    .wandb-col { display: flex; flex-direction: column; flex-basis: 100%; flex: 1; padding: 10px; }\n",
       "    </style>\n",
       "<div class=\"wandb-row\"><div class=\"wandb-col\"><h3>Run history:</h3><br/><table class=\"wandb\"><tr><td>bfnotavail</td><td>▁▁▁▁▁▁▁▁▁▁</td></tr><tr><td>bfprofit</td><td>▁▁▁▁▁▁▁▁▁▁</td></tr><tr><td>correct_conf</td><td>▁▇▇▇▇▅▅▇█▇</td></tr><tr><td>epoch</td><td>▁▁▁▁▂▂▂▂▂▃▃▃▃▃▃▄▄▄▄▄▅▅▅▅▅▅▆▆▆▆▆▇▇▇▇▇▇███</td></tr><tr><td>incorrect_conf</td><td>▁▇▇▇▇▅▅▇█▇</td></tr><tr><td>loss</td><td>▃▄▂▅▆▂▃▄▄▄▅▅▄▄▅▃█▄▅▄▅▄▄▅▄▁▃▅▂▃▄▃▅▆▃▂▁▂▃▃</td></tr><tr><td>num_bets_per</td><td>▃▄▁▆▆█▂▅▇▅</td></tr><tr><td>profit</td><td>▁▁▁▁▁▁▁▁▁▁</td></tr><tr><td>test_accuracy</td><td>▁▁▁▁▁▁▁▁▁▁</td></tr><tr><td>value_pick_roi</td><td>█▂▃▅▁▄▄▄▂▂</td></tr></table><br/></div><div class=\"wandb-col\"><h3>Run summary:</h3><br/><table class=\"wandb\"><tr><td>bfnotavail</td><td>533</td></tr><tr><td>correct_conf</td><td>0.15039</td></tr><tr><td>epoch</td><td>99</td></tr><tr><td>incorrect_conf</td><td>0.15039</td></tr><tr><td>num_bets_per</td><td>4.05812</td></tr><tr><td>profit</td><td>-1286.70001</td></tr><tr><td>value_pick_roi</td><td>-0.28352</td></tr></table><br/></div></div>"
      ],
      "text/plain": [
       "<IPython.core.display.HTML object>"
      ]
     },
     "metadata": {},
     "output_type": "display_data"
    },
    {
     "data": {
      "text/html": [
       "Synced <strong style=\"color:#cdcd00\">lyric-sweep-9</strong>: <a href=\"https://wandb.ai/nickojelly/grv_priced_sweep_custom/runs/7l58zu3p\" target=\"_blank\">https://wandb.ai/nickojelly/grv_priced_sweep_custom/runs/7l58zu3p</a><br/>Synced 5 W&B file(s), 0 media file(s), 0 artifact file(s) and 0 other file(s)"
      ],
      "text/plain": [
       "<IPython.core.display.HTML object>"
      ]
     },
     "metadata": {},
     "output_type": "display_data"
    },
    {
     "data": {
      "text/html": [
       "Find logs at: <code>.\\wandb\\run-20220825_045512-7l58zu3p\\logs</code>"
      ],
      "text/plain": [
       "<IPython.core.display.HTML object>"
      ]
     },
     "metadata": {},
     "output_type": "display_data"
    },
    {
     "name": "stderr",
     "output_type": "stream",
     "text": [
      "\u001b[34m\u001b[1mwandb\u001b[0m: Sweep Agent: Waiting for job.\n",
      "\u001b[34m\u001b[1mwandb\u001b[0m: Job received.\n",
      "\u001b[34m\u001b[1mwandb\u001b[0m: Agent Starting Run: txsxv9qc with config:\n",
      "\u001b[34m\u001b[1mwandb\u001b[0m: \tbatch_size: 64\n",
      "\u001b[34m\u001b[1mwandb\u001b[0m: \tdropout: 0.4\n",
      "\u001b[34m\u001b[1mwandb\u001b[0m: \tepochs: 100\n",
      "\u001b[34m\u001b[1mwandb\u001b[0m: \tf1_layer_size: 32\n",
      "\u001b[34m\u001b[1mwandb\u001b[0m: \tf2_layer_size: 32\n",
      "\u001b[34m\u001b[1mwandb\u001b[0m: \tl1_beta: 0.4940371128842468\n",
      "\u001b[34m\u001b[1mwandb\u001b[0m: \tlearning_rate: 0.0005968468047705116\n",
      "\u001b[34m\u001b[1mwandb\u001b[0m: \tloss: l1_custom\n",
      "\u001b[34m\u001b[1mwandb\u001b[0m: \tnum_layers: 2\n",
      "\u001b[34m\u001b[1mwandb\u001b[0m: \toptimizer: adam\n",
      "\u001b[34m\u001b[1mwandb\u001b[0m: \tvalidation_split: 0.1\n",
      "Failed to detect the name of this notebook, you can set it manually with the WANDB_NOTEBOOK_NAME environment variable to enable code saving.\n",
      "\u001b[34m\u001b[1mwandb\u001b[0m: \u001b[33mWARNING\u001b[0m Ignored wandb.init() arg project when running a sweep.\n"
     ]
    },
    {
     "data": {
      "text/html": [
       "wandb version 0.13.2 is available!  To upgrade, please run:\n",
       " $ pip install wandb --upgrade"
      ],
      "text/plain": [
       "<IPython.core.display.HTML object>"
      ]
     },
     "metadata": {},
     "output_type": "display_data"
    },
    {
     "data": {
      "text/html": [
       "Tracking run with wandb version 0.12.14"
      ],
      "text/plain": [
       "<IPython.core.display.HTML object>"
      ]
     },
     "metadata": {},
     "output_type": "display_data"
    },
    {
     "data": {
      "text/html": [
       "Run data is saved locally in <code>c:\\Users\\Nick\\Documents\\GitHub\\grvmodel\\Python\\pytorch\\New Model\\wandb\\run-20220825_050847-txsxv9qc</code>"
      ],
      "text/plain": [
       "<IPython.core.display.HTML object>"
      ]
     },
     "metadata": {},
     "output_type": "display_data"
    },
    {
     "data": {
      "text/html": [
       "Syncing run <strong><a href=\"https://wandb.ai/nickojelly/grv_priced_sweep_custom/runs/txsxv9qc\" target=\"_blank\">comic-sweep-10</a></strong> to <a href=\"https://wandb.ai/nickojelly/grv_priced_sweep_custom\" target=\"_blank\">Weights & Biases</a> (<a href=\"https://wandb.me/run\" target=\"_blank\">docs</a>)<br/>Sweep page:  <a href=\"https://wandb.ai/nickojelly/grv_priced_sweep_custom/sweeps/nwqxajsa\" target=\"_blank\">https://wandb.ai/nickojelly/grv_priced_sweep_custom/sweeps/nwqxajsa</a>"
      ],
      "text/plain": [
       "<IPython.core.display.HTML object>"
      ]
     },
     "metadata": {},
     "output_type": "display_data"
    },
    {
     "name": "stderr",
     "output_type": "stream",
     "text": [
      "  0%|          | 0/100 [00:00<?, ?it/s]"
     ]
    },
    {
     "name": "stdout",
     "output_type": "stream",
     "text": [
      "{'batch_size': 64, 'dropout': 0.4, 'epochs': 100, 'f1_layer_size': 32, 'f2_layer_size': 32, 'l1_beta': 0.4940371128842468, 'learning_rate': 0.0005968468047705116, 'loss': 'l1_custom', 'num_layers': 2, 'optimizer': 'adam', 'validation_split': 0.1}\n",
      "100\n",
      "{'batch_size': 64, 'dropout': 0.4, 'epochs': 100, 'f1_layer_size': 32, 'f2_layer_size': 32, 'l1_beta': 0.4940371128842468, 'learning_rate': 0.0005968468047705116, 'loss': 'l1_custom', 'num_layers': 2, 'optimizer': 'adam', 'validation_split': 0.1}\n",
      "Sequential(\n",
      "  (0): Linear(in_features=120, out_features=32, bias=True)\n",
      "  (1): ReLU()\n",
      "  (2): Dropout(p=0.4, inplace=False)\n",
      "  (3): Linear(in_features=32, out_features=32, bias=True)\n",
      "  (4): ReLU()\n",
      "  (5): Dropout(p=0.4, inplace=False)\n",
      "  (6): Linear(in_features=32, out_features=8, bias=True)\n",
      "  (7): Softmax(dim=1)\n",
      ")\n"
     ]
    },
    {
     "name": "stderr",
     "output_type": "stream",
     "text": [
      "  1%|          | 1/100 [00:13<22:46, 13.80s/it]"
     ]
    },
    {
     "name": "stdout",
     "output_type": "stream",
     "text": [
      "created path\n"
     ]
    },
    {
     "name": "stderr",
     "output_type": "stream",
     "text": [
      "100%|██████████| 100/100 [07:55<00:00,  4.76s/it]\n"
     ]
    },
    {
     "name": "stdout",
     "output_type": "stream",
     "text": [
      "\n"
     ]
    },
    {
     "data": {
      "text/html": [
       "Waiting for W&B process to finish... <strong style=\"color:green\">(success).</strong>"
      ],
      "text/plain": [
       "<IPython.core.display.HTML object>"
      ]
     },
     "metadata": {},
     "output_type": "display_data"
    },
    {
     "data": {
      "application/vnd.jupyter.widget-view+json": {
       "model_id": "a0c475f7f33c49bbba009df9ba372179",
       "version_major": 2,
       "version_minor": 0
      },
      "text/plain": [
       "VBox(children=(Label(value='0.001 MB of 0.001 MB uploaded (0.000 MB deduped)\\r'), FloatProgress(value=1.0, max…"
      ]
     },
     "metadata": {},
     "output_type": "display_data"
    },
    {
     "data": {
      "text/html": [
       "<style>\n",
       "    table.wandb td:nth-child(1) { padding: 0 10px; text-align: right }\n",
       "    .wandb-row { display: flex; flex-direction: row; flex-wrap: wrap; width: 100% }\n",
       "    .wandb-col { display: flex; flex-direction: column; flex-basis: 100%; flex: 1; padding: 10px; }\n",
       "    </style>\n",
       "<div class=\"wandb-row\"><div class=\"wandb-col\"><h3>Run history:</h3><br/><table class=\"wandb\"><tr><td>bfnotavail</td><td>▁▅▅█▆▆█▆▄▇</td></tr><tr><td>bfprofit</td><td>▄▂▁█▅▇▆▅▄▅</td></tr><tr><td>correct_conf</td><td>▁▆▆▆▇█▇▇▇▇</td></tr><tr><td>epoch</td><td>▁▁▁▁▂▂▂▂▂▃▃▃▃▃▃▄▄▄▄▄▅▅▅▅▅▅▆▆▆▆▆▇▇▇▇▇▇███</td></tr><tr><td>incorrect_conf</td><td>▁▆▆▆▇█▇▇▇▇</td></tr><tr><td>loss</td><td>▆▅▇▆▁▃▆▄▅▄▅▄▃▄▅▄▂▆▂▅▄▁▆▅█▃▅▄▅▆▅▄▅█▅▆▂▃▅▃</td></tr><tr><td>num_bets_per</td><td>▄█▇▆▅▁▄▄▃▄</td></tr><tr><td>profit</td><td>▂▂▁█▅▅▆▃▄▅</td></tr><tr><td>test_accuracy</td><td>▁▆▆█▇▇█▇▆█</td></tr><tr><td>value_pick_roi</td><td>▁▆▆█▇▆▆▅▆█</td></tr></table><br/></div><div class=\"wandb-col\"><h3>Run summary:</h3><br/><table class=\"wandb\"><tr><td>bfnotavail</td><td>755</td></tr><tr><td>correct_conf</td><td>0.2439</td></tr><tr><td>epoch</td><td>99</td></tr><tr><td>incorrect_conf</td><td>0.22153</td></tr><tr><td>num_bets_per</td><td>4.0384</td></tr><tr><td>profit</td><td>-924.42</td></tr><tr><td>value_pick_roi</td><td>-0.26293</td></tr></table><br/></div></div>"
      ],
      "text/plain": [
       "<IPython.core.display.HTML object>"
      ]
     },
     "metadata": {},
     "output_type": "display_data"
    },
    {
     "data": {
      "text/html": [
       "Synced <strong style=\"color:#cdcd00\">comic-sweep-10</strong>: <a href=\"https://wandb.ai/nickojelly/grv_priced_sweep_custom/runs/txsxv9qc\" target=\"_blank\">https://wandb.ai/nickojelly/grv_priced_sweep_custom/runs/txsxv9qc</a><br/>Synced 5 W&B file(s), 0 media file(s), 0 artifact file(s) and 0 other file(s)"
      ],
      "text/plain": [
       "<IPython.core.display.HTML object>"
      ]
     },
     "metadata": {},
     "output_type": "display_data"
    },
    {
     "data": {
      "text/html": [
       "Find logs at: <code>.\\wandb\\run-20220825_050847-txsxv9qc\\logs</code>"
      ],
      "text/plain": [
       "<IPython.core.display.HTML object>"
      ]
     },
     "metadata": {},
     "output_type": "display_data"
    },
    {
     "name": "stderr",
     "output_type": "stream",
     "text": [
      "\u001b[34m\u001b[1mwandb\u001b[0m: Agent Starting Run: wgoped3v with config:\n",
      "\u001b[34m\u001b[1mwandb\u001b[0m: \tbatch_size: 64\n",
      "\u001b[34m\u001b[1mwandb\u001b[0m: \tdropout: 0.5\n",
      "\u001b[34m\u001b[1mwandb\u001b[0m: \tepochs: 100\n",
      "\u001b[34m\u001b[1mwandb\u001b[0m: \tf1_layer_size: 256\n",
      "\u001b[34m\u001b[1mwandb\u001b[0m: \tf2_layer_size: 256\n",
      "\u001b[34m\u001b[1mwandb\u001b[0m: \tl1_beta: 0.2010586179992675\n",
      "\u001b[34m\u001b[1mwandb\u001b[0m: \tlearning_rate: 0.0004396840735751195\n",
      "\u001b[34m\u001b[1mwandb\u001b[0m: \tloss: l1_custom\n",
      "\u001b[34m\u001b[1mwandb\u001b[0m: \tnum_layers: 2\n",
      "\u001b[34m\u001b[1mwandb\u001b[0m: \toptimizer: adam\n",
      "\u001b[34m\u001b[1mwandb\u001b[0m: \tvalidation_split: 0.1\n",
      "Failed to detect the name of this notebook, you can set it manually with the WANDB_NOTEBOOK_NAME environment variable to enable code saving.\n",
      "\u001b[34m\u001b[1mwandb\u001b[0m: \u001b[33mWARNING\u001b[0m Ignored wandb.init() arg project when running a sweep.\n"
     ]
    },
    {
     "data": {
      "text/html": [
       "wandb version 0.13.2 is available!  To upgrade, please run:\n",
       " $ pip install wandb --upgrade"
      ],
      "text/plain": [
       "<IPython.core.display.HTML object>"
      ]
     },
     "metadata": {},
     "output_type": "display_data"
    },
    {
     "data": {
      "text/html": [
       "Tracking run with wandb version 0.12.14"
      ],
      "text/plain": [
       "<IPython.core.display.HTML object>"
      ]
     },
     "metadata": {},
     "output_type": "display_data"
    },
    {
     "data": {
      "text/html": [
       "Run data is saved locally in <code>c:\\Users\\Nick\\Documents\\GitHub\\grvmodel\\Python\\pytorch\\New Model\\wandb\\run-20220825_051655-wgoped3v</code>"
      ],
      "text/plain": [
       "<IPython.core.display.HTML object>"
      ]
     },
     "metadata": {},
     "output_type": "display_data"
    },
    {
     "data": {
      "text/html": [
       "Syncing run <strong><a href=\"https://wandb.ai/nickojelly/grv_priced_sweep_custom/runs/wgoped3v\" target=\"_blank\">celestial-sweep-11</a></strong> to <a href=\"https://wandb.ai/nickojelly/grv_priced_sweep_custom\" target=\"_blank\">Weights & Biases</a> (<a href=\"https://wandb.me/run\" target=\"_blank\">docs</a>)<br/>Sweep page:  <a href=\"https://wandb.ai/nickojelly/grv_priced_sweep_custom/sweeps/nwqxajsa\" target=\"_blank\">https://wandb.ai/nickojelly/grv_priced_sweep_custom/sweeps/nwqxajsa</a>"
      ],
      "text/plain": [
       "<IPython.core.display.HTML object>"
      ]
     },
     "metadata": {},
     "output_type": "display_data"
    },
    {
     "name": "stderr",
     "output_type": "stream",
     "text": [
      "  0%|          | 0/100 [00:00<?, ?it/s]"
     ]
    },
    {
     "name": "stdout",
     "output_type": "stream",
     "text": [
      "{'batch_size': 64, 'dropout': 0.5, 'epochs': 100, 'f1_layer_size': 256, 'f2_layer_size': 256, 'l1_beta': 0.2010586179992675, 'learning_rate': 0.0004396840735751195, 'loss': 'l1_custom', 'num_layers': 2, 'optimizer': 'adam', 'validation_split': 0.1}\n",
      "100\n",
      "{'batch_size': 64, 'dropout': 0.5, 'epochs': 100, 'f1_layer_size': 256, 'f2_layer_size': 256, 'l1_beta': 0.2010586179992675, 'learning_rate': 0.0004396840735751195, 'loss': 'l1_custom', 'num_layers': 2, 'optimizer': 'adam', 'validation_split': 0.1}\n",
      "Sequential(\n",
      "  (0): Linear(in_features=120, out_features=256, bias=True)\n",
      "  (1): ReLU()\n",
      "  (2): Dropout(p=0.5, inplace=False)\n",
      "  (3): Linear(in_features=256, out_features=256, bias=True)\n",
      "  (4): ReLU()\n",
      "  (5): Dropout(p=0.5, inplace=False)\n",
      "  (6): Linear(in_features=256, out_features=8, bias=True)\n",
      "  (7): Softmax(dim=1)\n",
      ")\n"
     ]
    },
    {
     "name": "stderr",
     "output_type": "stream",
     "text": [
      "  1%|          | 1/100 [00:15<25:31, 15.47s/it]"
     ]
    },
    {
     "name": "stdout",
     "output_type": "stream",
     "text": [
      "created path\n"
     ]
    },
    {
     "name": "stderr",
     "output_type": "stream",
     "text": [
      "100%|██████████| 100/100 [08:38<00:00,  5.18s/it]\n"
     ]
    },
    {
     "name": "stdout",
     "output_type": "stream",
     "text": [
      "\n"
     ]
    },
    {
     "data": {
      "text/html": [
       "Waiting for W&B process to finish... <strong style=\"color:green\">(success).</strong>"
      ],
      "text/plain": [
       "<IPython.core.display.HTML object>"
      ]
     },
     "metadata": {},
     "output_type": "display_data"
    },
    {
     "data": {
      "application/vnd.jupyter.widget-view+json": {
       "model_id": "16775cac07ec456bbe50889224667dea",
       "version_major": 2,
       "version_minor": 0
      },
      "text/plain": [
       "VBox(children=(Label(value='0.001 MB of 0.001 MB uploaded (0.000 MB deduped)\\r'), FloatProgress(value=1.0, max…"
      ]
     },
     "metadata": {},
     "output_type": "display_data"
    },
    {
     "data": {
      "text/html": [
       "<style>\n",
       "    table.wandb td:nth-child(1) { padding: 0 10px; text-align: right }\n",
       "    .wandb-row { display: flex; flex-direction: row; flex-wrap: wrap; width: 100% }\n",
       "    .wandb-col { display: flex; flex-direction: column; flex-basis: 100%; flex: 1; padding: 10px; }\n",
       "    </style>\n",
       "<div class=\"wandb-row\"><div class=\"wandb-col\"><h3>Run history:</h3><br/><table class=\"wandb\"><tr><td>bfnotavail</td><td>▂▁▄▄█▄▆▇▅▆</td></tr><tr><td>bfprofit</td><td>▁▁▁▄▄▂▄█▇▁</td></tr><tr><td>correct_conf</td><td>▁▅▅▆▅▆▇▇▇█</td></tr><tr><td>epoch</td><td>▁▁▁▁▂▂▂▂▂▃▃▃▃▃▃▄▄▄▄▄▅▅▅▅▅▅▆▆▆▆▆▇▇▇▇▇▇███</td></tr><tr><td>incorrect_conf</td><td>▁▇▆▇▆▇▇▇██</td></tr><tr><td>loss</td><td>█▄▂▂▃▄▄▃▄▂▃▃▄▃▂▄▄▂▄▄▃▂▂▅▂▂▃▁▂▂▂▄▄▂▁▂▂▄▃▃</td></tr><tr><td>num_bets_per</td><td>█▃▅▄▅▃▂▃▁▁</td></tr><tr><td>profit</td><td>▁▂▂▆▅▁▄██▁</td></tr><tr><td>test_accuracy</td><td>▁▄▆▇█▆▇█▇▆</td></tr><tr><td>value_pick_roi</td><td>▂▁▂▃▄▃▄█▇▆</td></tr></table><br/></div><div class=\"wandb-col\"><h3>Run summary:</h3><br/><table class=\"wandb\"><tr><td>bfnotavail</td><td>620</td></tr><tr><td>correct_conf</td><td>0.39495</td></tr><tr><td>epoch</td><td>99</td></tr><tr><td>incorrect_conf</td><td>0.36939</td></tr><tr><td>num_bets_per</td><td>3.46646</td></tr><tr><td>profit</td><td>-1282.48</td></tr><tr><td>value_pick_roi</td><td>-0.26767</td></tr></table><br/></div></div>"
      ],
      "text/plain": [
       "<IPython.core.display.HTML object>"
      ]
     },
     "metadata": {},
     "output_type": "display_data"
    },
    {
     "data": {
      "text/html": [
       "Synced <strong style=\"color:#cdcd00\">celestial-sweep-11</strong>: <a href=\"https://wandb.ai/nickojelly/grv_priced_sweep_custom/runs/wgoped3v\" target=\"_blank\">https://wandb.ai/nickojelly/grv_priced_sweep_custom/runs/wgoped3v</a><br/>Synced 5 W&B file(s), 0 media file(s), 0 artifact file(s) and 0 other file(s)"
      ],
      "text/plain": [
       "<IPython.core.display.HTML object>"
      ]
     },
     "metadata": {},
     "output_type": "display_data"
    },
    {
     "data": {
      "text/html": [
       "Find logs at: <code>.\\wandb\\run-20220825_051655-wgoped3v\\logs</code>"
      ],
      "text/plain": [
       "<IPython.core.display.HTML object>"
      ]
     },
     "metadata": {},
     "output_type": "display_data"
    },
    {
     "name": "stderr",
     "output_type": "stream",
     "text": [
      "\u001b[34m\u001b[1mwandb\u001b[0m: Sweep Agent: Waiting for job.\n",
      "\u001b[34m\u001b[1mwandb\u001b[0m: Job received.\n",
      "\u001b[34m\u001b[1mwandb\u001b[0m: Agent Starting Run: 1sqaq9a1 with config:\n",
      "\u001b[34m\u001b[1mwandb\u001b[0m: \tbatch_size: 32\n",
      "\u001b[34m\u001b[1mwandb\u001b[0m: \tdropout: 0.3\n",
      "\u001b[34m\u001b[1mwandb\u001b[0m: \tepochs: 100\n",
      "\u001b[34m\u001b[1mwandb\u001b[0m: \tf1_layer_size: 32\n",
      "\u001b[34m\u001b[1mwandb\u001b[0m: \tf2_layer_size: 256\n",
      "\u001b[34m\u001b[1mwandb\u001b[0m: \tl1_beta: 0.2676132186701854\n",
      "\u001b[34m\u001b[1mwandb\u001b[0m: \tlearning_rate: 0.0008184354234908437\n",
      "\u001b[34m\u001b[1mwandb\u001b[0m: \tloss: l1_custom\n",
      "\u001b[34m\u001b[1mwandb\u001b[0m: \tnum_layers: 2\n",
      "\u001b[34m\u001b[1mwandb\u001b[0m: \toptimizer: adam\n",
      "\u001b[34m\u001b[1mwandb\u001b[0m: \tvalidation_split: 0.1\n",
      "Failed to detect the name of this notebook, you can set it manually with the WANDB_NOTEBOOK_NAME environment variable to enable code saving.\n",
      "\u001b[34m\u001b[1mwandb\u001b[0m: \u001b[33mWARNING\u001b[0m Ignored wandb.init() arg project when running a sweep.\n"
     ]
    },
    {
     "data": {
      "text/html": [
       "wandb version 0.13.2 is available!  To upgrade, please run:\n",
       " $ pip install wandb --upgrade"
      ],
      "text/plain": [
       "<IPython.core.display.HTML object>"
      ]
     },
     "metadata": {},
     "output_type": "display_data"
    },
    {
     "data": {
      "text/html": [
       "Tracking run with wandb version 0.12.14"
      ],
      "text/plain": [
       "<IPython.core.display.HTML object>"
      ]
     },
     "metadata": {},
     "output_type": "display_data"
    },
    {
     "data": {
      "text/html": [
       "Run data is saved locally in <code>c:\\Users\\Nick\\Documents\\GitHub\\grvmodel\\Python\\pytorch\\New Model\\wandb\\run-20220825_052551-1sqaq9a1</code>"
      ],
      "text/plain": [
       "<IPython.core.display.HTML object>"
      ]
     },
     "metadata": {},
     "output_type": "display_data"
    },
    {
     "data": {
      "text/html": [
       "Syncing run <strong><a href=\"https://wandb.ai/nickojelly/grv_priced_sweep_custom/runs/1sqaq9a1\" target=\"_blank\">wild-sweep-12</a></strong> to <a href=\"https://wandb.ai/nickojelly/grv_priced_sweep_custom\" target=\"_blank\">Weights & Biases</a> (<a href=\"https://wandb.me/run\" target=\"_blank\">docs</a>)<br/>Sweep page:  <a href=\"https://wandb.ai/nickojelly/grv_priced_sweep_custom/sweeps/nwqxajsa\" target=\"_blank\">https://wandb.ai/nickojelly/grv_priced_sweep_custom/sweeps/nwqxajsa</a>"
      ],
      "text/plain": [
       "<IPython.core.display.HTML object>"
      ]
     },
     "metadata": {},
     "output_type": "display_data"
    },
    {
     "name": "stderr",
     "output_type": "stream",
     "text": [
      "  0%|          | 0/100 [00:00<?, ?it/s]"
     ]
    },
    {
     "name": "stdout",
     "output_type": "stream",
     "text": [
      "{'batch_size': 32, 'dropout': 0.3, 'epochs': 100, 'f1_layer_size': 32, 'f2_layer_size': 256, 'l1_beta': 0.2676132186701854, 'learning_rate': 0.0008184354234908437, 'loss': 'l1_custom', 'num_layers': 2, 'optimizer': 'adam', 'validation_split': 0.1}\n",
      "100\n",
      "{'batch_size': 32, 'dropout': 0.3, 'epochs': 100, 'f1_layer_size': 32, 'f2_layer_size': 256, 'l1_beta': 0.2676132186701854, 'learning_rate': 0.0008184354234908437, 'loss': 'l1_custom', 'num_layers': 2, 'optimizer': 'adam', 'validation_split': 0.1}\n",
      "Sequential(\n",
      "  (0): Linear(in_features=120, out_features=32, bias=True)\n",
      "  (1): ReLU()\n",
      "  (2): Dropout(p=0.3, inplace=False)\n",
      "  (3): Linear(in_features=32, out_features=256, bias=True)\n",
      "  (4): ReLU()\n",
      "  (5): Dropout(p=0.3, inplace=False)\n",
      "  (6): Linear(in_features=256, out_features=8, bias=True)\n",
      "  (7): Softmax(dim=1)\n",
      ")\n"
     ]
    },
    {
     "name": "stderr",
     "output_type": "stream",
     "text": [
      "  1%|          | 1/100 [00:17<28:03, 17.00s/it]"
     ]
    },
    {
     "name": "stdout",
     "output_type": "stream",
     "text": [
      "created path\n"
     ]
    },
    {
     "name": "stderr",
     "output_type": "stream",
     "text": [
      "100%|██████████| 100/100 [12:50<00:00,  7.70s/it]\n"
     ]
    },
    {
     "name": "stdout",
     "output_type": "stream",
     "text": [
      "\n"
     ]
    },
    {
     "data": {
      "text/html": [
       "Waiting for W&B process to finish... <strong style=\"color:green\">(success).</strong>"
      ],
      "text/plain": [
       "<IPython.core.display.HTML object>"
      ]
     },
     "metadata": {},
     "output_type": "display_data"
    },
    {
     "data": {
      "application/vnd.jupyter.widget-view+json": {
       "model_id": "733da8ba746045f7b3ebf4e0d4d1474f",
       "version_major": 2,
       "version_minor": 0
      },
      "text/plain": [
       "VBox(children=(Label(value='0.001 MB of 0.001 MB uploaded (0.000 MB deduped)\\r'), FloatProgress(value=1.0, max…"
      ]
     },
     "metadata": {},
     "output_type": "display_data"
    },
    {
     "data": {
      "text/html": [
       "<style>\n",
       "    table.wandb td:nth-child(1) { padding: 0 10px; text-align: right }\n",
       "    .wandb-row { display: flex; flex-direction: row; flex-wrap: wrap; width: 100% }\n",
       "    .wandb-col { display: flex; flex-direction: column; flex-basis: 100%; flex: 1; padding: 10px; }\n",
       "    </style>\n",
       "<div class=\"wandb-row\"><div class=\"wandb-col\"><h3>Run history:</h3><br/><table class=\"wandb\"><tr><td>bfnotavail</td><td>▁▃▃▃▆▅█▄▆▅</td></tr><tr><td>bfprofit</td><td>██▂▇▇▂█▁▇▆</td></tr><tr><td>correct_conf</td><td>▁▅▇█▆▇▇▆▆█</td></tr><tr><td>epoch</td><td>▁▁▁▁▂▂▂▂▂▃▃▃▃▃▃▄▄▄▄▄▅▅▅▅▅▅▆▆▆▆▆▇▇▇▇▇▇███</td></tr><tr><td>incorrect_conf</td><td>▁▅▇█▆▆▇▆▅▇</td></tr><tr><td>loss</td><td>▂▆▃▃▅▅▂▅█▅▅▃▂▅▂▂▆▂▅▅▃▅▄▅▆▄▃▅▁▆▅▆▄▇▄▃▅▄▅▂</td></tr><tr><td>num_bets_per</td><td>█▇▃▁▂▄▃▄▅▂</td></tr><tr><td>profit</td><td>█▆▂▅▆▂█▁▅▅</td></tr><tr><td>test_accuracy</td><td>▃▂▂▁▄▄█▃▄▃</td></tr><tr><td>value_pick_roi</td><td>▄▇▃▁█▃▄█▇▄</td></tr></table><br/></div><div class=\"wandb-col\"><h3>Run summary:</h3><br/><table class=\"wandb\"><tr><td>bfnotavail</td><td>487</td></tr><tr><td>correct_conf</td><td>0.25081</td></tr><tr><td>epoch</td><td>99</td></tr><tr><td>incorrect_conf</td><td>0.25495</td></tr><tr><td>num_bets_per</td><td>3.9619</td></tr><tr><td>profit</td><td>-1534.97999</td></tr><tr><td>value_pick_roi</td><td>-0.27993</td></tr></table><br/></div></div>"
      ],
      "text/plain": [
       "<IPython.core.display.HTML object>"
      ]
     },
     "metadata": {},
     "output_type": "display_data"
    },
    {
     "data": {
      "text/html": [
       "Synced <strong style=\"color:#cdcd00\">wild-sweep-12</strong>: <a href=\"https://wandb.ai/nickojelly/grv_priced_sweep_custom/runs/1sqaq9a1\" target=\"_blank\">https://wandb.ai/nickojelly/grv_priced_sweep_custom/runs/1sqaq9a1</a><br/>Synced 5 W&B file(s), 0 media file(s), 0 artifact file(s) and 0 other file(s)"
      ],
      "text/plain": [
       "<IPython.core.display.HTML object>"
      ]
     },
     "metadata": {},
     "output_type": "display_data"
    },
    {
     "data": {
      "text/html": [
       "Find logs at: <code>.\\wandb\\run-20220825_052551-1sqaq9a1\\logs</code>"
      ],
      "text/plain": [
       "<IPython.core.display.HTML object>"
      ]
     },
     "metadata": {},
     "output_type": "display_data"
    },
    {
     "name": "stderr",
     "output_type": "stream",
     "text": [
      "\u001b[34m\u001b[1mwandb\u001b[0m: Agent Starting Run: 6w34bfrd with config:\n",
      "\u001b[34m\u001b[1mwandb\u001b[0m: \tbatch_size: 32\n",
      "\u001b[34m\u001b[1mwandb\u001b[0m: \tdropout: 0.4\n",
      "\u001b[34m\u001b[1mwandb\u001b[0m: \tepochs: 100\n",
      "\u001b[34m\u001b[1mwandb\u001b[0m: \tf1_layer_size: 256\n",
      "\u001b[34m\u001b[1mwandb\u001b[0m: \tf2_layer_size: 128\n",
      "\u001b[34m\u001b[1mwandb\u001b[0m: \tl1_beta: 0.86773768104998\n",
      "\u001b[34m\u001b[1mwandb\u001b[0m: \tlearning_rate: 0.0009537371385278706\n",
      "\u001b[34m\u001b[1mwandb\u001b[0m: \tloss: l1_custom\n",
      "\u001b[34m\u001b[1mwandb\u001b[0m: \tnum_layers: 2\n",
      "\u001b[34m\u001b[1mwandb\u001b[0m: \toptimizer: adam\n",
      "\u001b[34m\u001b[1mwandb\u001b[0m: \tvalidation_split: 0.1\n",
      "Failed to detect the name of this notebook, you can set it manually with the WANDB_NOTEBOOK_NAME environment variable to enable code saving.\n",
      "\u001b[34m\u001b[1mwandb\u001b[0m: \u001b[33mWARNING\u001b[0m Ignored wandb.init() arg project when running a sweep.\n"
     ]
    },
    {
     "data": {
      "text/html": [
       "wandb version 0.13.2 is available!  To upgrade, please run:\n",
       " $ pip install wandb --upgrade"
      ],
      "text/plain": [
       "<IPython.core.display.HTML object>"
      ]
     },
     "metadata": {},
     "output_type": "display_data"
    },
    {
     "data": {
      "text/html": [
       "Tracking run with wandb version 0.12.14"
      ],
      "text/plain": [
       "<IPython.core.display.HTML object>"
      ]
     },
     "metadata": {},
     "output_type": "display_data"
    },
    {
     "data": {
      "text/html": [
       "Run data is saved locally in <code>c:\\Users\\Nick\\Documents\\GitHub\\grvmodel\\Python\\pytorch\\New Model\\wandb\\run-20220825_053851-6w34bfrd</code>"
      ],
      "text/plain": [
       "<IPython.core.display.HTML object>"
      ]
     },
     "metadata": {},
     "output_type": "display_data"
    },
    {
     "data": {
      "text/html": [
       "Syncing run <strong><a href=\"https://wandb.ai/nickojelly/grv_priced_sweep_custom/runs/6w34bfrd\" target=\"_blank\">wobbly-sweep-13</a></strong> to <a href=\"https://wandb.ai/nickojelly/grv_priced_sweep_custom\" target=\"_blank\">Weights & Biases</a> (<a href=\"https://wandb.me/run\" target=\"_blank\">docs</a>)<br/>Sweep page:  <a href=\"https://wandb.ai/nickojelly/grv_priced_sweep_custom/sweeps/nwqxajsa\" target=\"_blank\">https://wandb.ai/nickojelly/grv_priced_sweep_custom/sweeps/nwqxajsa</a>"
      ],
      "text/plain": [
       "<IPython.core.display.HTML object>"
      ]
     },
     "metadata": {},
     "output_type": "display_data"
    },
    {
     "name": "stderr",
     "output_type": "stream",
     "text": [
      "  0%|          | 0/100 [00:00<?, ?it/s]"
     ]
    },
    {
     "name": "stdout",
     "output_type": "stream",
     "text": [
      "{'batch_size': 32, 'dropout': 0.4, 'epochs': 100, 'f1_layer_size': 256, 'f2_layer_size': 128, 'l1_beta': 0.86773768104998, 'learning_rate': 0.0009537371385278706, 'loss': 'l1_custom', 'num_layers': 2, 'optimizer': 'adam', 'validation_split': 0.1}\n",
      "100\n",
      "{'batch_size': 32, 'dropout': 0.4, 'epochs': 100, 'f1_layer_size': 256, 'f2_layer_size': 128, 'l1_beta': 0.86773768104998, 'learning_rate': 0.0009537371385278706, 'loss': 'l1_custom', 'num_layers': 2, 'optimizer': 'adam', 'validation_split': 0.1}\n",
      "Sequential(\n",
      "  (0): Linear(in_features=120, out_features=256, bias=True)\n",
      "  (1): ReLU()\n",
      "  (2): Dropout(p=0.4, inplace=False)\n",
      "  (3): Linear(in_features=256, out_features=128, bias=True)\n",
      "  (4): ReLU()\n",
      "  (5): Dropout(p=0.4, inplace=False)\n",
      "  (6): Linear(in_features=128, out_features=8, bias=True)\n",
      "  (7): Softmax(dim=1)\n",
      ")\n"
     ]
    },
    {
     "name": "stderr",
     "output_type": "stream",
     "text": [
      "  1%|          | 1/100 [00:17<29:40, 17.99s/it]"
     ]
    },
    {
     "name": "stdout",
     "output_type": "stream",
     "text": [
      "created path\n"
     ]
    },
    {
     "name": "stderr",
     "output_type": "stream",
     "text": [
      "100%|██████████| 100/100 [13:26<00:00,  8.07s/it]\n"
     ]
    },
    {
     "name": "stdout",
     "output_type": "stream",
     "text": [
      "\n"
     ]
    },
    {
     "data": {
      "text/html": [
       "Waiting for W&B process to finish... <strong style=\"color:green\">(success).</strong>"
      ],
      "text/plain": [
       "<IPython.core.display.HTML object>"
      ]
     },
     "metadata": {},
     "output_type": "display_data"
    },
    {
     "data": {
      "application/vnd.jupyter.widget-view+json": {
       "model_id": "6ce004bb4b104bdeb1e07c7ef46d5a30",
       "version_major": 2,
       "version_minor": 0
      },
      "text/plain": [
       "VBox(children=(Label(value='0.001 MB of 0.001 MB uploaded (0.000 MB deduped)\\r'), FloatProgress(value=1.0, max…"
      ]
     },
     "metadata": {},
     "output_type": "display_data"
    },
    {
     "data": {
      "text/html": [
       "<style>\n",
       "    table.wandb td:nth-child(1) { padding: 0 10px; text-align: right }\n",
       "    .wandb-row { display: flex; flex-direction: row; flex-wrap: wrap; width: 100% }\n",
       "    .wandb-col { display: flex; flex-direction: column; flex-basis: 100%; flex: 1; padding: 10px; }\n",
       "    </style>\n",
       "<div class=\"wandb-row\"><div class=\"wandb-col\"><h3>Run history:</h3><br/><table class=\"wandb\"><tr><td>bfnotavail</td><td>█▁█▁██▁▁█▁</td></tr><tr><td>bfprofit</td><td>█▁█▁██▁▁█▁</td></tr><tr><td>correct_conf</td><td>▃▇▅▄▇█▁▅▇▆</td></tr><tr><td>epoch</td><td>▁▁▁▁▂▂▂▂▂▃▃▃▃▃▃▄▄▄▄▄▅▅▅▅▅▅▆▆▆▆▆▇▇▇▇▇▇███</td></tr><tr><td>incorrect_conf</td><td>▃▇▅▄▇█▁▅▇▆</td></tr><tr><td>loss</td><td>▄▄▂▁▅█▆▃▅▃▇▃▄▂▆▅▆▃▆▅▄▆▅▄▃▄▄▅▆▆▅▄▄▁▃▆▄▅▅▆</td></tr><tr><td>num_bets_per</td><td>▁▅▄▆█▆▄▇▂▁</td></tr><tr><td>profit</td><td>█▁█▁██▁▁█▁</td></tr><tr><td>test_accuracy</td><td>█▁█▁██▁▁█▁</td></tr><tr><td>value_pick_roi</td><td>▁▇▃▁▂▂█▆▃▅</td></tr></table><br/></div><div class=\"wandb-col\"><h3>Run summary:</h3><br/><table class=\"wandb\"><tr><td>bfnotavail</td><td>513</td></tr><tr><td>correct_conf</td><td>0.14937</td></tr><tr><td>epoch</td><td>99</td></tr><tr><td>incorrect_conf</td><td>0.14937</td></tr><tr><td>num_bets_per</td><td>4.04288</td></tr><tr><td>profit</td><td>-1291.42001</td></tr><tr><td>value_pick_roi</td><td>-0.28148</td></tr></table><br/></div></div>"
      ],
      "text/plain": [
       "<IPython.core.display.HTML object>"
      ]
     },
     "metadata": {},
     "output_type": "display_data"
    },
    {
     "data": {
      "text/html": [
       "Synced <strong style=\"color:#cdcd00\">wobbly-sweep-13</strong>: <a href=\"https://wandb.ai/nickojelly/grv_priced_sweep_custom/runs/6w34bfrd\" target=\"_blank\">https://wandb.ai/nickojelly/grv_priced_sweep_custom/runs/6w34bfrd</a><br/>Synced 5 W&B file(s), 0 media file(s), 0 artifact file(s) and 0 other file(s)"
      ],
      "text/plain": [
       "<IPython.core.display.HTML object>"
      ]
     },
     "metadata": {},
     "output_type": "display_data"
    },
    {
     "data": {
      "text/html": [
       "Find logs at: <code>.\\wandb\\run-20220825_053851-6w34bfrd\\logs</code>"
      ],
      "text/plain": [
       "<IPython.core.display.HTML object>"
      ]
     },
     "metadata": {},
     "output_type": "display_data"
    },
    {
     "name": "stderr",
     "output_type": "stream",
     "text": [
      "\u001b[34m\u001b[1mwandb\u001b[0m: Agent Starting Run: 4yc34beq with config:\n",
      "\u001b[34m\u001b[1mwandb\u001b[0m: \tbatch_size: 128\n",
      "\u001b[34m\u001b[1mwandb\u001b[0m: \tdropout: 0.5\n",
      "\u001b[34m\u001b[1mwandb\u001b[0m: \tepochs: 100\n",
      "\u001b[34m\u001b[1mwandb\u001b[0m: \tf1_layer_size: 64\n",
      "\u001b[34m\u001b[1mwandb\u001b[0m: \tf2_layer_size: 128\n",
      "\u001b[34m\u001b[1mwandb\u001b[0m: \tl1_beta: 0.8227633245620515\n",
      "\u001b[34m\u001b[1mwandb\u001b[0m: \tlearning_rate: 0.0006789903201003847\n",
      "\u001b[34m\u001b[1mwandb\u001b[0m: \tloss: l1_custom\n",
      "\u001b[34m\u001b[1mwandb\u001b[0m: \tnum_layers: 2\n",
      "\u001b[34m\u001b[1mwandb\u001b[0m: \toptimizer: adam\n",
      "\u001b[34m\u001b[1mwandb\u001b[0m: \tvalidation_split: 0.1\n",
      "Failed to detect the name of this notebook, you can set it manually with the WANDB_NOTEBOOK_NAME environment variable to enable code saving.\n",
      "\u001b[34m\u001b[1mwandb\u001b[0m: \u001b[33mWARNING\u001b[0m Ignored wandb.init() arg project when running a sweep.\n"
     ]
    },
    {
     "data": {
      "text/html": [
       "wandb version 0.13.2 is available!  To upgrade, please run:\n",
       " $ pip install wandb --upgrade"
      ],
      "text/plain": [
       "<IPython.core.display.HTML object>"
      ]
     },
     "metadata": {},
     "output_type": "display_data"
    },
    {
     "data": {
      "text/html": [
       "Tracking run with wandb version 0.12.14"
      ],
      "text/plain": [
       "<IPython.core.display.HTML object>"
      ]
     },
     "metadata": {},
     "output_type": "display_data"
    },
    {
     "data": {
      "text/html": [
       "Run data is saved locally in <code>c:\\Users\\Nick\\Documents\\GitHub\\grvmodel\\Python\\pytorch\\New Model\\wandb\\run-20220825_055230-4yc34beq</code>"
      ],
      "text/plain": [
       "<IPython.core.display.HTML object>"
      ]
     },
     "metadata": {},
     "output_type": "display_data"
    },
    {
     "data": {
      "text/html": [
       "Syncing run <strong><a href=\"https://wandb.ai/nickojelly/grv_priced_sweep_custom/runs/4yc34beq\" target=\"_blank\">rural-sweep-14</a></strong> to <a href=\"https://wandb.ai/nickojelly/grv_priced_sweep_custom\" target=\"_blank\">Weights & Biases</a> (<a href=\"https://wandb.me/run\" target=\"_blank\">docs</a>)<br/>Sweep page:  <a href=\"https://wandb.ai/nickojelly/grv_priced_sweep_custom/sweeps/nwqxajsa\" target=\"_blank\">https://wandb.ai/nickojelly/grv_priced_sweep_custom/sweeps/nwqxajsa</a>"
      ],
      "text/plain": [
       "<IPython.core.display.HTML object>"
      ]
     },
     "metadata": {},
     "output_type": "display_data"
    },
    {
     "name": "stderr",
     "output_type": "stream",
     "text": [
      "  0%|          | 0/100 [00:00<?, ?it/s]"
     ]
    },
    {
     "name": "stdout",
     "output_type": "stream",
     "text": [
      "{'batch_size': 128, 'dropout': 0.5, 'epochs': 100, 'f1_layer_size': 64, 'f2_layer_size': 128, 'l1_beta': 0.8227633245620515, 'learning_rate': 0.0006789903201003847, 'loss': 'l1_custom', 'num_layers': 2, 'optimizer': 'adam', 'validation_split': 0.1}\n",
      "100\n",
      "{'batch_size': 128, 'dropout': 0.5, 'epochs': 100, 'f1_layer_size': 64, 'f2_layer_size': 128, 'l1_beta': 0.8227633245620515, 'learning_rate': 0.0006789903201003847, 'loss': 'l1_custom', 'num_layers': 2, 'optimizer': 'adam', 'validation_split': 0.1}\n",
      "Sequential(\n",
      "  (0): Linear(in_features=120, out_features=64, bias=True)\n",
      "  (1): ReLU()\n",
      "  (2): Dropout(p=0.5, inplace=False)\n",
      "  (3): Linear(in_features=64, out_features=128, bias=True)\n",
      "  (4): ReLU()\n",
      "  (5): Dropout(p=0.5, inplace=False)\n",
      "  (6): Linear(in_features=128, out_features=8, bias=True)\n",
      "  (7): Softmax(dim=1)\n",
      ")\n"
     ]
    },
    {
     "name": "stderr",
     "output_type": "stream",
     "text": [
      "  1%|          | 1/100 [00:12<20:40, 12.53s/it]"
     ]
    },
    {
     "name": "stdout",
     "output_type": "stream",
     "text": [
      "created path\n"
     ]
    },
    {
     "name": "stderr",
     "output_type": "stream",
     "text": [
      "100%|██████████| 100/100 [05:54<00:00,  3.55s/it]\n"
     ]
    },
    {
     "name": "stdout",
     "output_type": "stream",
     "text": [
      "\n"
     ]
    },
    {
     "data": {
      "text/html": [
       "Waiting for W&B process to finish... <strong style=\"color:green\">(success).</strong>"
      ],
      "text/plain": [
       "<IPython.core.display.HTML object>"
      ]
     },
     "metadata": {},
     "output_type": "display_data"
    },
    {
     "data": {
      "application/vnd.jupyter.widget-view+json": {
       "model_id": "604e364868364e09b4b676e6755f4c49",
       "version_major": 2,
       "version_minor": 0
      },
      "text/plain": [
       "VBox(children=(Label(value='0.001 MB of 0.001 MB uploaded (0.000 MB deduped)\\r'), FloatProgress(value=1.0, max…"
      ]
     },
     "metadata": {},
     "output_type": "display_data"
    },
    {
     "data": {
      "text/html": [
       "<style>\n",
       "    table.wandb td:nth-child(1) { padding: 0 10px; text-align: right }\n",
       "    .wandb-row { display: flex; flex-direction: row; flex-wrap: wrap; width: 100% }\n",
       "    .wandb-col { display: flex; flex-direction: column; flex-basis: 100%; flex: 1; padding: 10px; }\n",
       "    </style>\n",
       "<div class=\"wandb-row\"><div class=\"wandb-col\"><h3>Run history:</h3><br/><table class=\"wandb\"><tr><td>bfnotavail</td><td>▁▇██▇██▇▇█</td></tr><tr><td>bfprofit</td><td>▁▂▄▅▅▅▅▆▃█</td></tr><tr><td>correct_conf</td><td>▁▆▇▇▇▇▇███</td></tr><tr><td>epoch</td><td>▁▁▁▁▂▂▂▂▂▃▃▃▃▃▃▄▄▄▄▄▅▅▅▅▅▅▆▆▆▆▆▇▇▇▇▇▇███</td></tr><tr><td>incorrect_conf</td><td>▁▆▇▇▇▇▇███</td></tr><tr><td>loss</td><td>█▅▄▅▃▅▄▆▄▅▃▄▅▃▅▅▁▁▂▅▄▃▄▆▅▂█▃▄▁▆▂▂▃▃▆▂▃▄▂</td></tr><tr><td>num_bets_per</td><td>██▅▄▄▄▄▁▁▂</td></tr><tr><td>profit</td><td>▁▄▆▆▆▆▆▇▃█</td></tr><tr><td>test_accuracy</td><td>▁▇██████▇█</td></tr><tr><td>value_pick_roi</td><td>▁▄▄▆▆▆▄▇▃█</td></tr></table><br/></div><div class=\"wandb-col\"><h3>Run summary:</h3><br/><table class=\"wandb\"><tr><td>bfnotavail</td><td>941</td></tr><tr><td>correct_conf</td><td>0.29838</td></tr><tr><td>epoch</td><td>99</td></tr><tr><td>incorrect_conf</td><td>0.26752</td></tr><tr><td>num_bets_per</td><td>3.82922</td></tr><tr><td>profit</td><td>-612.74</td></tr><tr><td>value_pick_roi</td><td>-0.24975</td></tr></table><br/></div></div>"
      ],
      "text/plain": [
       "<IPython.core.display.HTML object>"
      ]
     },
     "metadata": {},
     "output_type": "display_data"
    },
    {
     "data": {
      "text/html": [
       "Synced <strong style=\"color:#cdcd00\">rural-sweep-14</strong>: <a href=\"https://wandb.ai/nickojelly/grv_priced_sweep_custom/runs/4yc34beq\" target=\"_blank\">https://wandb.ai/nickojelly/grv_priced_sweep_custom/runs/4yc34beq</a><br/>Synced 5 W&B file(s), 0 media file(s), 0 artifact file(s) and 0 other file(s)"
      ],
      "text/plain": [
       "<IPython.core.display.HTML object>"
      ]
     },
     "metadata": {},
     "output_type": "display_data"
    },
    {
     "data": {
      "text/html": [
       "Find logs at: <code>.\\wandb\\run-20220825_055230-4yc34beq\\logs</code>"
      ],
      "text/plain": [
       "<IPython.core.display.HTML object>"
      ]
     },
     "metadata": {},
     "output_type": "display_data"
    },
    {
     "name": "stderr",
     "output_type": "stream",
     "text": [
      "\u001b[34m\u001b[1mwandb\u001b[0m: Agent Starting Run: 2cegywt7 with config:\n",
      "\u001b[34m\u001b[1mwandb\u001b[0m: \tbatch_size: 128\n",
      "\u001b[34m\u001b[1mwandb\u001b[0m: \tdropout: 0.5\n",
      "\u001b[34m\u001b[1mwandb\u001b[0m: \tepochs: 100\n",
      "\u001b[34m\u001b[1mwandb\u001b[0m: \tf1_layer_size: 32\n",
      "\u001b[34m\u001b[1mwandb\u001b[0m: \tf2_layer_size: 256\n",
      "\u001b[34m\u001b[1mwandb\u001b[0m: \tl1_beta: 0.9143105880095423\n",
      "\u001b[34m\u001b[1mwandb\u001b[0m: \tlearning_rate: 0.00026291692288837426\n",
      "\u001b[34m\u001b[1mwandb\u001b[0m: \tloss: l1_custom\n",
      "\u001b[34m\u001b[1mwandb\u001b[0m: \tnum_layers: 2\n",
      "\u001b[34m\u001b[1mwandb\u001b[0m: \toptimizer: adam\n",
      "\u001b[34m\u001b[1mwandb\u001b[0m: \tvalidation_split: 0.1\n",
      "Failed to detect the name of this notebook, you can set it manually with the WANDB_NOTEBOOK_NAME environment variable to enable code saving.\n",
      "\u001b[34m\u001b[1mwandb\u001b[0m: \u001b[33mWARNING\u001b[0m Ignored wandb.init() arg project when running a sweep.\n"
     ]
    },
    {
     "data": {
      "text/html": [
       "wandb version 0.13.2 is available!  To upgrade, please run:\n",
       " $ pip install wandb --upgrade"
      ],
      "text/plain": [
       "<IPython.core.display.HTML object>"
      ]
     },
     "metadata": {},
     "output_type": "display_data"
    },
    {
     "data": {
      "text/html": [
       "Tracking run with wandb version 0.12.14"
      ],
      "text/plain": [
       "<IPython.core.display.HTML object>"
      ]
     },
     "metadata": {},
     "output_type": "display_data"
    },
    {
     "data": {
      "text/html": [
       "Run data is saved locally in <code>c:\\Users\\Nick\\Documents\\GitHub\\grvmodel\\Python\\pytorch\\New Model\\wandb\\run-20220825_055836-2cegywt7</code>"
      ],
      "text/plain": [
       "<IPython.core.display.HTML object>"
      ]
     },
     "metadata": {},
     "output_type": "display_data"
    },
    {
     "data": {
      "text/html": [
       "Syncing run <strong><a href=\"https://wandb.ai/nickojelly/grv_priced_sweep_custom/runs/2cegywt7\" target=\"_blank\">sleek-sweep-15</a></strong> to <a href=\"https://wandb.ai/nickojelly/grv_priced_sweep_custom\" target=\"_blank\">Weights & Biases</a> (<a href=\"https://wandb.me/run\" target=\"_blank\">docs</a>)<br/>Sweep page:  <a href=\"https://wandb.ai/nickojelly/grv_priced_sweep_custom/sweeps/nwqxajsa\" target=\"_blank\">https://wandb.ai/nickojelly/grv_priced_sweep_custom/sweeps/nwqxajsa</a>"
      ],
      "text/plain": [
       "<IPython.core.display.HTML object>"
      ]
     },
     "metadata": {},
     "output_type": "display_data"
    },
    {
     "name": "stderr",
     "output_type": "stream",
     "text": [
      "  0%|          | 0/100 [00:00<?, ?it/s]"
     ]
    },
    {
     "name": "stdout",
     "output_type": "stream",
     "text": [
      "{'batch_size': 128, 'dropout': 0.5, 'epochs': 100, 'f1_layer_size': 32, 'f2_layer_size': 256, 'l1_beta': 0.9143105880095423, 'learning_rate': 0.00026291692288837426, 'loss': 'l1_custom', 'num_layers': 2, 'optimizer': 'adam', 'validation_split': 0.1}\n",
      "100\n",
      "{'batch_size': 128, 'dropout': 0.5, 'epochs': 100, 'f1_layer_size': 32, 'f2_layer_size': 256, 'l1_beta': 0.9143105880095423, 'learning_rate': 0.00026291692288837426, 'loss': 'l1_custom', 'num_layers': 2, 'optimizer': 'adam', 'validation_split': 0.1}\n",
      "Sequential(\n",
      "  (0): Linear(in_features=120, out_features=32, bias=True)\n",
      "  (1): ReLU()\n",
      "  (2): Dropout(p=0.5, inplace=False)\n",
      "  (3): Linear(in_features=32, out_features=256, bias=True)\n",
      "  (4): ReLU()\n",
      "  (5): Dropout(p=0.5, inplace=False)\n",
      "  (6): Linear(in_features=256, out_features=8, bias=True)\n",
      "  (7): Softmax(dim=1)\n",
      ")\n"
     ]
    },
    {
     "name": "stderr",
     "output_type": "stream",
     "text": [
      "  1%|          | 1/100 [00:12<20:57, 12.70s/it]"
     ]
    },
    {
     "name": "stdout",
     "output_type": "stream",
     "text": [
      "created path\n"
     ]
    },
    {
     "name": "stderr",
     "output_type": "stream",
     "text": [
      "100%|██████████| 100/100 [05:53<00:00,  3.53s/it]\n"
     ]
    },
    {
     "name": "stdout",
     "output_type": "stream",
     "text": [
      "\n"
     ]
    },
    {
     "data": {
      "text/html": [
       "Waiting for W&B process to finish... <strong style=\"color:green\">(success).</strong>"
      ],
      "text/plain": [
       "<IPython.core.display.HTML object>"
      ]
     },
     "metadata": {},
     "output_type": "display_data"
    },
    {
     "data": {
      "application/vnd.jupyter.widget-view+json": {
       "model_id": "292d0b0406b34359b707c604250a7b62",
       "version_major": 2,
       "version_minor": 0
      },
      "text/plain": [
       "VBox(children=(Label(value='0.001 MB of 0.001 MB uploaded (0.000 MB deduped)\\r'), FloatProgress(value=1.0, max…"
      ]
     },
     "metadata": {},
     "output_type": "display_data"
    },
    {
     "data": {
      "text/html": [
       "<style>\n",
       "    table.wandb td:nth-child(1) { padding: 0 10px; text-align: right }\n",
       "    .wandb-row { display: flex; flex-direction: row; flex-wrap: wrap; width: 100% }\n",
       "    .wandb-col { display: flex; flex-direction: column; flex-basis: 100%; flex: 1; padding: 10px; }\n",
       "    </style>\n",
       "<div class=\"wandb-row\"><div class=\"wandb-col\"><h3>Run history:</h3><br/><table class=\"wandb\"><tr><td>bfnotavail</td><td>▁▇██████▇█</td></tr><tr><td>bfprofit</td><td>▅▃█▆█▅▆▁▇▆</td></tr><tr><td>correct_conf</td><td>▁▆▇▇▇▇█▇██</td></tr><tr><td>epoch</td><td>▁▁▁▁▂▂▂▂▂▃▃▃▃▃▃▄▄▄▄▄▅▅▅▅▅▅▆▆▆▆▆▇▇▇▇▇▇███</td></tr><tr><td>incorrect_conf</td><td>▁▆▇▇▇▇█▇██</td></tr><tr><td>loss</td><td>█▅▄▅▄▅▄▄▄▅▅▃▃▄▄▃▄▂▄▂▆▅▅▃▃▄▃▃▄▄▁▁▃▃▂▄▃▅▃▇</td></tr><tr><td>num_bets_per</td><td>▇█▄▅▄▃▁▄▁▁</td></tr><tr><td>profit</td><td>▁▃███▅▅▂▆▆</td></tr><tr><td>test_accuracy</td><td>▁▆███▇█▇▇▇</td></tr><tr><td>value_pick_roi</td><td>▁▃▅█▆▇▆▆▇▄</td></tr></table><br/></div><div class=\"wandb-col\"><h3>Run summary:</h3><br/><table class=\"wandb\"><tr><td>bfnotavail</td><td>915</td></tr><tr><td>correct_conf</td><td>0.29864</td></tr><tr><td>epoch</td><td>99</td></tr><tr><td>incorrect_conf</td><td>0.27141</td></tr><tr><td>num_bets_per</td><td>3.84163</td></tr><tr><td>profit</td><td>-892.68001</td></tr><tr><td>value_pick_roi</td><td>-0.26747</td></tr></table><br/></div></div>"
      ],
      "text/plain": [
       "<IPython.core.display.HTML object>"
      ]
     },
     "metadata": {},
     "output_type": "display_data"
    },
    {
     "data": {
      "text/html": [
       "Synced <strong style=\"color:#cdcd00\">sleek-sweep-15</strong>: <a href=\"https://wandb.ai/nickojelly/grv_priced_sweep_custom/runs/2cegywt7\" target=\"_blank\">https://wandb.ai/nickojelly/grv_priced_sweep_custom/runs/2cegywt7</a><br/>Synced 5 W&B file(s), 0 media file(s), 0 artifact file(s) and 0 other file(s)"
      ],
      "text/plain": [
       "<IPython.core.display.HTML object>"
      ]
     },
     "metadata": {},
     "output_type": "display_data"
    },
    {
     "data": {
      "text/html": [
       "Find logs at: <code>.\\wandb\\run-20220825_055836-2cegywt7\\logs</code>"
      ],
      "text/plain": [
       "<IPython.core.display.HTML object>"
      ]
     },
     "metadata": {},
     "output_type": "display_data"
    },
    {
     "name": "stderr",
     "output_type": "stream",
     "text": [
      "\u001b[34m\u001b[1mwandb\u001b[0m: Agent Starting Run: lx7yndr6 with config:\n",
      "\u001b[34m\u001b[1mwandb\u001b[0m: \tbatch_size: 128\n",
      "\u001b[34m\u001b[1mwandb\u001b[0m: \tdropout: 0.3\n",
      "\u001b[34m\u001b[1mwandb\u001b[0m: \tepochs: 100\n",
      "\u001b[34m\u001b[1mwandb\u001b[0m: \tf1_layer_size: 256\n",
      "\u001b[34m\u001b[1mwandb\u001b[0m: \tf2_layer_size: 128\n",
      "\u001b[34m\u001b[1mwandb\u001b[0m: \tl1_beta: 0.01251097303764459\n",
      "\u001b[34m\u001b[1mwandb\u001b[0m: \tlearning_rate: 0.00040751918367624735\n",
      "\u001b[34m\u001b[1mwandb\u001b[0m: \tloss: l1_custom\n",
      "\u001b[34m\u001b[1mwandb\u001b[0m: \tnum_layers: 2\n",
      "\u001b[34m\u001b[1mwandb\u001b[0m: \toptimizer: adam\n",
      "\u001b[34m\u001b[1mwandb\u001b[0m: \tvalidation_split: 0.1\n",
      "Failed to detect the name of this notebook, you can set it manually with the WANDB_NOTEBOOK_NAME environment variable to enable code saving.\n",
      "\u001b[34m\u001b[1mwandb\u001b[0m: \u001b[33mWARNING\u001b[0m Ignored wandb.init() arg project when running a sweep.\n"
     ]
    },
    {
     "data": {
      "text/html": [
       "wandb version 0.13.2 is available!  To upgrade, please run:\n",
       " $ pip install wandb --upgrade"
      ],
      "text/plain": [
       "<IPython.core.display.HTML object>"
      ]
     },
     "metadata": {},
     "output_type": "display_data"
    },
    {
     "data": {
      "text/html": [
       "Tracking run with wandb version 0.12.14"
      ],
      "text/plain": [
       "<IPython.core.display.HTML object>"
      ]
     },
     "metadata": {},
     "output_type": "display_data"
    },
    {
     "data": {
      "text/html": [
       "Run data is saved locally in <code>c:\\Users\\Nick\\Documents\\GitHub\\grvmodel\\Python\\pytorch\\New Model\\wandb\\run-20220825_060441-lx7yndr6</code>"
      ],
      "text/plain": [
       "<IPython.core.display.HTML object>"
      ]
     },
     "metadata": {},
     "output_type": "display_data"
    },
    {
     "data": {
      "text/html": [
       "Syncing run <strong><a href=\"https://wandb.ai/nickojelly/grv_priced_sweep_custom/runs/lx7yndr6\" target=\"_blank\">kind-sweep-16</a></strong> to <a href=\"https://wandb.ai/nickojelly/grv_priced_sweep_custom\" target=\"_blank\">Weights & Biases</a> (<a href=\"https://wandb.me/run\" target=\"_blank\">docs</a>)<br/>Sweep page:  <a href=\"https://wandb.ai/nickojelly/grv_priced_sweep_custom/sweeps/nwqxajsa\" target=\"_blank\">https://wandb.ai/nickojelly/grv_priced_sweep_custom/sweeps/nwqxajsa</a>"
      ],
      "text/plain": [
       "<IPython.core.display.HTML object>"
      ]
     },
     "metadata": {},
     "output_type": "display_data"
    },
    {
     "name": "stderr",
     "output_type": "stream",
     "text": [
      "  0%|          | 0/100 [00:00<?, ?it/s]"
     ]
    },
    {
     "name": "stdout",
     "output_type": "stream",
     "text": [
      "{'batch_size': 128, 'dropout': 0.3, 'epochs': 100, 'f1_layer_size': 256, 'f2_layer_size': 128, 'l1_beta': 0.01251097303764459, 'learning_rate': 0.00040751918367624735, 'loss': 'l1_custom', 'num_layers': 2, 'optimizer': 'adam', 'validation_split': 0.1}\n",
      "100\n",
      "{'batch_size': 128, 'dropout': 0.3, 'epochs': 100, 'f1_layer_size': 256, 'f2_layer_size': 128, 'l1_beta': 0.01251097303764459, 'learning_rate': 0.00040751918367624735, 'loss': 'l1_custom', 'num_layers': 2, 'optimizer': 'adam', 'validation_split': 0.1}\n",
      "Sequential(\n",
      "  (0): Linear(in_features=120, out_features=256, bias=True)\n",
      "  (1): ReLU()\n",
      "  (2): Dropout(p=0.3, inplace=False)\n",
      "  (3): Linear(in_features=256, out_features=128, bias=True)\n",
      "  (4): ReLU()\n",
      "  (5): Dropout(p=0.3, inplace=False)\n",
      "  (6): Linear(in_features=128, out_features=8, bias=True)\n",
      "  (7): Softmax(dim=1)\n",
      ")\n"
     ]
    },
    {
     "name": "stderr",
     "output_type": "stream",
     "text": [
      "  1%|          | 1/100 [00:13<22:33, 13.67s/it]"
     ]
    },
    {
     "name": "stdout",
     "output_type": "stream",
     "text": [
      "created path\n"
     ]
    },
    {
     "name": "stderr",
     "output_type": "stream",
     "text": [
      "100%|██████████| 100/100 [06:10<00:00,  3.70s/it]"
     ]
    },
    {
     "name": "stdout",
     "output_type": "stream",
     "text": [
      "\n"
     ]
    },
    {
     "name": "stderr",
     "output_type": "stream",
     "text": [
      "\n"
     ]
    },
    {
     "data": {
      "text/html": [
       "Waiting for W&B process to finish... <strong style=\"color:green\">(success).</strong>"
      ],
      "text/plain": [
       "<IPython.core.display.HTML object>"
      ]
     },
     "metadata": {},
     "output_type": "display_data"
    },
    {
     "data": {
      "application/vnd.jupyter.widget-view+json": {
       "model_id": "40df26ce647a4a01b036daee26214cc6",
       "version_major": 2,
       "version_minor": 0
      },
      "text/plain": [
       "VBox(children=(Label(value='0.001 MB of 0.001 MB uploaded (0.000 MB deduped)\\r'), FloatProgress(value=1.0, max…"
      ]
     },
     "metadata": {},
     "output_type": "display_data"
    },
    {
     "data": {
      "text/html": [
       "<style>\n",
       "    table.wandb td:nth-child(1) { padding: 0 10px; text-align: right }\n",
       "    .wandb-row { display: flex; flex-direction: row; flex-wrap: wrap; width: 100% }\n",
       "    .wandb-col { display: flex; flex-direction: column; flex-basis: 100%; flex: 1; padding: 10px; }\n",
       "    </style>\n",
       "<div class=\"wandb-row\"><div class=\"wandb-col\"><h3>Run history:</h3><br/><table class=\"wandb\"><tr><td>bfnotavail</td><td>▅▁▃▃▅▅▇▇▆█</td></tr><tr><td>bfprofit</td><td>▇▁▃▂▄▃▆█▆█</td></tr><tr><td>correct_conf</td><td>▁▆▆▇▇▇▇███</td></tr><tr><td>epoch</td><td>▁▁▁▁▂▂▂▂▂▃▃▃▃▃▃▄▄▄▄▄▅▅▅▅▅▅▆▆▆▆▆▇▇▇▇▇▇███</td></tr><tr><td>incorrect_conf</td><td>▁▇▇█▇▇████</td></tr><tr><td>loss</td><td>█▃▂▄▄▄▃▅▃▄▃▃▄▂▃▄▃▃▃▃▅▃▂▃▄▃▃▃▃▃▃▃▁▄▂▃▂▃▄▃</td></tr><tr><td>num_bets_per</td><td>█▄▂▂▂▁▂▁▁▁</td></tr><tr><td>profit</td><td>▅▁▄▃▄▄▆█▆▇</td></tr><tr><td>test_accuracy</td><td>▁▁▅▆▇▇▇█▇█</td></tr><tr><td>value_pick_roi</td><td>▅▁▅▆▇▄██▇▆</td></tr></table><br/></div><div class=\"wandb-col\"><h3>Run summary:</h3><br/><table class=\"wandb\"><tr><td>bfnotavail</td><td>704</td></tr><tr><td>correct_conf</td><td>0.59023</td></tr><tr><td>epoch</td><td>99</td></tr><tr><td>incorrect_conf</td><td>0.59338</td></tr><tr><td>num_bets_per</td><td>2.18153</td></tr><tr><td>profit</td><td>-953.6</td></tr><tr><td>value_pick_roi</td><td>-0.23946</td></tr></table><br/></div></div>"
      ],
      "text/plain": [
       "<IPython.core.display.HTML object>"
      ]
     },
     "metadata": {},
     "output_type": "display_data"
    },
    {
     "data": {
      "text/html": [
       "Synced <strong style=\"color:#cdcd00\">kind-sweep-16</strong>: <a href=\"https://wandb.ai/nickojelly/grv_priced_sweep_custom/runs/lx7yndr6\" target=\"_blank\">https://wandb.ai/nickojelly/grv_priced_sweep_custom/runs/lx7yndr6</a><br/>Synced 5 W&B file(s), 0 media file(s), 0 artifact file(s) and 0 other file(s)"
      ],
      "text/plain": [
       "<IPython.core.display.HTML object>"
      ]
     },
     "metadata": {},
     "output_type": "display_data"
    },
    {
     "data": {
      "text/html": [
       "Find logs at: <code>.\\wandb\\run-20220825_060441-lx7yndr6\\logs</code>"
      ],
      "text/plain": [
       "<IPython.core.display.HTML object>"
      ]
     },
     "metadata": {},
     "output_type": "display_data"
    },
    {
     "name": "stderr",
     "output_type": "stream",
     "text": [
      "\u001b[34m\u001b[1mwandb\u001b[0m: Agent Starting Run: 4xpdylc7 with config:\n",
      "\u001b[34m\u001b[1mwandb\u001b[0m: \tbatch_size: 64\n",
      "\u001b[34m\u001b[1mwandb\u001b[0m: \tdropout: 0.4\n",
      "\u001b[34m\u001b[1mwandb\u001b[0m: \tepochs: 100\n",
      "\u001b[34m\u001b[1mwandb\u001b[0m: \tf1_layer_size: 256\n",
      "\u001b[34m\u001b[1mwandb\u001b[0m: \tf2_layer_size: 128\n",
      "\u001b[34m\u001b[1mwandb\u001b[0m: \tl1_beta: 0.4744384060942347\n",
      "\u001b[34m\u001b[1mwandb\u001b[0m: \tlearning_rate: 0.0005638715481687296\n",
      "\u001b[34m\u001b[1mwandb\u001b[0m: \tloss: l1_custom\n",
      "\u001b[34m\u001b[1mwandb\u001b[0m: \tnum_layers: 2\n",
      "\u001b[34m\u001b[1mwandb\u001b[0m: \toptimizer: adam\n",
      "\u001b[34m\u001b[1mwandb\u001b[0m: \tvalidation_split: 0.1\n",
      "Failed to detect the name of this notebook, you can set it manually with the WANDB_NOTEBOOK_NAME environment variable to enable code saving.\n",
      "\u001b[34m\u001b[1mwandb\u001b[0m: \u001b[33mWARNING\u001b[0m Ignored wandb.init() arg project when running a sweep.\n"
     ]
    },
    {
     "data": {
      "text/html": [
       "wandb version 0.13.2 is available!  To upgrade, please run:\n",
       " $ pip install wandb --upgrade"
      ],
      "text/plain": [
       "<IPython.core.display.HTML object>"
      ]
     },
     "metadata": {},
     "output_type": "display_data"
    },
    {
     "data": {
      "text/html": [
       "Tracking run with wandb version 0.12.14"
      ],
      "text/plain": [
       "<IPython.core.display.HTML object>"
      ]
     },
     "metadata": {},
     "output_type": "display_data"
    },
    {
     "data": {
      "text/html": [
       "Run data is saved locally in <code>c:\\Users\\Nick\\Documents\\GitHub\\grvmodel\\Python\\pytorch\\New Model\\wandb\\run-20220825_061103-4xpdylc7</code>"
      ],
      "text/plain": [
       "<IPython.core.display.HTML object>"
      ]
     },
     "metadata": {},
     "output_type": "display_data"
    },
    {
     "data": {
      "text/html": [
       "Syncing run <strong><a href=\"https://wandb.ai/nickojelly/grv_priced_sweep_custom/runs/4xpdylc7\" target=\"_blank\">woven-sweep-17</a></strong> to <a href=\"https://wandb.ai/nickojelly/grv_priced_sweep_custom\" target=\"_blank\">Weights & Biases</a> (<a href=\"https://wandb.me/run\" target=\"_blank\">docs</a>)<br/>Sweep page:  <a href=\"https://wandb.ai/nickojelly/grv_priced_sweep_custom/sweeps/nwqxajsa\" target=\"_blank\">https://wandb.ai/nickojelly/grv_priced_sweep_custom/sweeps/nwqxajsa</a>"
      ],
      "text/plain": [
       "<IPython.core.display.HTML object>"
      ]
     },
     "metadata": {},
     "output_type": "display_data"
    },
    {
     "name": "stderr",
     "output_type": "stream",
     "text": [
      "  0%|          | 0/100 [00:00<?, ?it/s]"
     ]
    },
    {
     "name": "stdout",
     "output_type": "stream",
     "text": [
      "{'batch_size': 64, 'dropout': 0.4, 'epochs': 100, 'f1_layer_size': 256, 'f2_layer_size': 128, 'l1_beta': 0.4744384060942347, 'learning_rate': 0.0005638715481687296, 'loss': 'l1_custom', 'num_layers': 2, 'optimizer': 'adam', 'validation_split': 0.1}\n",
      "100\n",
      "{'batch_size': 64, 'dropout': 0.4, 'epochs': 100, 'f1_layer_size': 256, 'f2_layer_size': 128, 'l1_beta': 0.4744384060942347, 'learning_rate': 0.0005638715481687296, 'loss': 'l1_custom', 'num_layers': 2, 'optimizer': 'adam', 'validation_split': 0.1}\n",
      "Sequential(\n",
      "  (0): Linear(in_features=120, out_features=256, bias=True)\n",
      "  (1): ReLU()\n",
      "  (2): Dropout(p=0.4, inplace=False)\n",
      "  (3): Linear(in_features=256, out_features=128, bias=True)\n",
      "  (4): ReLU()\n",
      "  (5): Dropout(p=0.4, inplace=False)\n",
      "  (6): Linear(in_features=128, out_features=8, bias=True)\n",
      "  (7): Softmax(dim=1)\n",
      ")\n"
     ]
    },
    {
     "name": "stderr",
     "output_type": "stream",
     "text": [
      "  1%|          | 1/100 [00:15<24:59, 15.14s/it]"
     ]
    },
    {
     "name": "stdout",
     "output_type": "stream",
     "text": [
      "created path\n"
     ]
    },
    {
     "name": "stderr",
     "output_type": "stream",
     "text": [
      "100%|██████████| 100/100 [08:38<00:00,  5.18s/it]\n"
     ]
    },
    {
     "name": "stdout",
     "output_type": "stream",
     "text": [
      "\n"
     ]
    },
    {
     "data": {
      "text/html": [
       "Waiting for W&B process to finish... <strong style=\"color:green\">(success).</strong>"
      ],
      "text/plain": [
       "<IPython.core.display.HTML object>"
      ]
     },
     "metadata": {},
     "output_type": "display_data"
    },
    {
     "data": {
      "application/vnd.jupyter.widget-view+json": {
       "model_id": "b617ff2ac6b24b2998e2f3afb4ac60ef",
       "version_major": 2,
       "version_minor": 0
      },
      "text/plain": [
       "VBox(children=(Label(value='0.001 MB of 0.001 MB uploaded (0.000 MB deduped)\\r'), FloatProgress(value=1.0, max…"
      ]
     },
     "metadata": {},
     "output_type": "display_data"
    },
    {
     "data": {
      "text/html": [
       "<style>\n",
       "    table.wandb td:nth-child(1) { padding: 0 10px; text-align: right }\n",
       "    .wandb-row { display: flex; flex-direction: row; flex-wrap: wrap; width: 100% }\n",
       "    .wandb-col { display: flex; flex-direction: column; flex-basis: 100%; flex: 1; padding: 10px; }\n",
       "    </style>\n",
       "<div class=\"wandb-row\"><div class=\"wandb-col\"><h3>Run history:</h3><br/><table class=\"wandb\"><tr><td>bfnotavail</td><td>▁█████████</td></tr><tr><td>bfprofit</td><td>▁█████████</td></tr><tr><td>correct_conf</td><td>▁▆▇▇██▇▇█▇</td></tr><tr><td>epoch</td><td>▁▁▁▁▂▂▂▂▂▃▃▃▃▃▃▄▄▄▄▄▅▅▅▅▅▅▆▆▆▆▆▇▇▇▇▇▇███</td></tr><tr><td>incorrect_conf</td><td>▁▆▇▇██▇▇█▇</td></tr><tr><td>loss</td><td>▁▆▂▃▆▇█▆▃▄▃▇▅▅▅▄▄▅▇▃▆▆▄▆▁▃▃▅▄▅▃▄▃▃▂▃▆▅▄▄</td></tr><tr><td>num_bets_per</td><td>█▃▃▃▃▃▅▁▃▂</td></tr><tr><td>profit</td><td>█▁▁▁▁▁▁▁▁▁</td></tr><tr><td>test_accuracy</td><td>█▁▁▁▁▁▁▁▁▁</td></tr><tr><td>value_pick_roi</td><td>▁▆▆▆▇▅▅▅▆█</td></tr></table><br/></div><div class=\"wandb-col\"><h3>Run summary:</h3><br/><table class=\"wandb\"><tr><td>bfnotavail</td><td>558</td></tr><tr><td>correct_conf</td><td>0.15342</td></tr><tr><td>epoch</td><td>99</td></tr><tr><td>incorrect_conf</td><td>0.15343</td></tr><tr><td>num_bets_per</td><td>4.04258</td></tr><tr><td>profit</td><td>-1290.75999</td></tr><tr><td>value_pick_roi</td><td>-0.28158</td></tr></table><br/></div></div>"
      ],
      "text/plain": [
       "<IPython.core.display.HTML object>"
      ]
     },
     "metadata": {},
     "output_type": "display_data"
    },
    {
     "data": {
      "text/html": [
       "Synced <strong style=\"color:#cdcd00\">woven-sweep-17</strong>: <a href=\"https://wandb.ai/nickojelly/grv_priced_sweep_custom/runs/4xpdylc7\" target=\"_blank\">https://wandb.ai/nickojelly/grv_priced_sweep_custom/runs/4xpdylc7</a><br/>Synced 5 W&B file(s), 0 media file(s), 0 artifact file(s) and 0 other file(s)"
      ],
      "text/plain": [
       "<IPython.core.display.HTML object>"
      ]
     },
     "metadata": {},
     "output_type": "display_data"
    },
    {
     "data": {
      "text/html": [
       "Find logs at: <code>.\\wandb\\run-20220825_061103-4xpdylc7\\logs</code>"
      ],
      "text/plain": [
       "<IPython.core.display.HTML object>"
      ]
     },
     "metadata": {},
     "output_type": "display_data"
    },
    {
     "name": "stderr",
     "output_type": "stream",
     "text": [
      "\u001b[34m\u001b[1mwandb\u001b[0m: Agent Starting Run: 6dnyc601 with config:\n",
      "\u001b[34m\u001b[1mwandb\u001b[0m: \tbatch_size: 64\n",
      "\u001b[34m\u001b[1mwandb\u001b[0m: \tdropout: 0.5\n",
      "\u001b[34m\u001b[1mwandb\u001b[0m: \tepochs: 100\n",
      "\u001b[34m\u001b[1mwandb\u001b[0m: \tf1_layer_size: 256\n",
      "\u001b[34m\u001b[1mwandb\u001b[0m: \tf2_layer_size: 64\n",
      "\u001b[34m\u001b[1mwandb\u001b[0m: \tl1_beta: 0.8470992240658606\n",
      "\u001b[34m\u001b[1mwandb\u001b[0m: \tlearning_rate: 0.00039351551557337776\n",
      "\u001b[34m\u001b[1mwandb\u001b[0m: \tloss: l1_custom\n",
      "\u001b[34m\u001b[1mwandb\u001b[0m: \tnum_layers: 2\n",
      "\u001b[34m\u001b[1mwandb\u001b[0m: \toptimizer: adam\n",
      "\u001b[34m\u001b[1mwandb\u001b[0m: \tvalidation_split: 0.1\n",
      "Failed to detect the name of this notebook, you can set it manually with the WANDB_NOTEBOOK_NAME environment variable to enable code saving.\n",
      "\u001b[34m\u001b[1mwandb\u001b[0m: \u001b[33mWARNING\u001b[0m Ignored wandb.init() arg project when running a sweep.\n"
     ]
    },
    {
     "data": {
      "text/html": [
       "wandb version 0.13.2 is available!  To upgrade, please run:\n",
       " $ pip install wandb --upgrade"
      ],
      "text/plain": [
       "<IPython.core.display.HTML object>"
      ]
     },
     "metadata": {},
     "output_type": "display_data"
    },
    {
     "data": {
      "text/html": [
       "Tracking run with wandb version 0.12.14"
      ],
      "text/plain": [
       "<IPython.core.display.HTML object>"
      ]
     },
     "metadata": {},
     "output_type": "display_data"
    },
    {
     "data": {
      "text/html": [
       "Run data is saved locally in <code>c:\\Users\\Nick\\Documents\\GitHub\\grvmodel\\Python\\pytorch\\New Model\\wandb\\run-20220825_061951-6dnyc601</code>"
      ],
      "text/plain": [
       "<IPython.core.display.HTML object>"
      ]
     },
     "metadata": {},
     "output_type": "display_data"
    },
    {
     "data": {
      "text/html": [
       "Syncing run <strong><a href=\"https://wandb.ai/nickojelly/grv_priced_sweep_custom/runs/6dnyc601\" target=\"_blank\">usual-sweep-18</a></strong> to <a href=\"https://wandb.ai/nickojelly/grv_priced_sweep_custom\" target=\"_blank\">Weights & Biases</a> (<a href=\"https://wandb.me/run\" target=\"_blank\">docs</a>)<br/>Sweep page:  <a href=\"https://wandb.ai/nickojelly/grv_priced_sweep_custom/sweeps/nwqxajsa\" target=\"_blank\">https://wandb.ai/nickojelly/grv_priced_sweep_custom/sweeps/nwqxajsa</a>"
      ],
      "text/plain": [
       "<IPython.core.display.HTML object>"
      ]
     },
     "metadata": {},
     "output_type": "display_data"
    },
    {
     "name": "stderr",
     "output_type": "stream",
     "text": [
      "  0%|          | 0/100 [00:00<?, ?it/s]"
     ]
    },
    {
     "name": "stdout",
     "output_type": "stream",
     "text": [
      "{'batch_size': 64, 'dropout': 0.5, 'epochs': 100, 'f1_layer_size': 256, 'f2_layer_size': 64, 'l1_beta': 0.8470992240658606, 'learning_rate': 0.00039351551557337776, 'loss': 'l1_custom', 'num_layers': 2, 'optimizer': 'adam', 'validation_split': 0.1}\n",
      "100\n",
      "{'batch_size': 64, 'dropout': 0.5, 'epochs': 100, 'f1_layer_size': 256, 'f2_layer_size': 64, 'l1_beta': 0.8470992240658606, 'learning_rate': 0.00039351551557337776, 'loss': 'l1_custom', 'num_layers': 2, 'optimizer': 'adam', 'validation_split': 0.1}\n",
      "Sequential(\n",
      "  (0): Linear(in_features=120, out_features=256, bias=True)\n",
      "  (1): ReLU()\n",
      "  (2): Dropout(p=0.5, inplace=False)\n",
      "  (3): Linear(in_features=256, out_features=64, bias=True)\n",
      "  (4): ReLU()\n",
      "  (5): Dropout(p=0.5, inplace=False)\n",
      "  (6): Linear(in_features=64, out_features=8, bias=True)\n",
      "  (7): Softmax(dim=1)\n",
      ")\n"
     ]
    },
    {
     "name": "stderr",
     "output_type": "stream",
     "text": [
      "  1%|          | 1/100 [00:14<24:22, 14.77s/it]"
     ]
    },
    {
     "name": "stdout",
     "output_type": "stream",
     "text": [
      "created path\n"
     ]
    },
    {
     "name": "stderr",
     "output_type": "stream",
     "text": [
      "100%|██████████| 100/100 [08:25<00:00,  5.05s/it]\n"
     ]
    },
    {
     "name": "stdout",
     "output_type": "stream",
     "text": [
      "\n"
     ]
    },
    {
     "data": {
      "text/html": [
       "Waiting for W&B process to finish... <strong style=\"color:green\">(success).</strong>"
      ],
      "text/plain": [
       "<IPython.core.display.HTML object>"
      ]
     },
     "metadata": {},
     "output_type": "display_data"
    },
    {
     "data": {
      "application/vnd.jupyter.widget-view+json": {
       "model_id": "cdbed2ad37a84faa8dc2b166806efde4",
       "version_major": 2,
       "version_minor": 0
      },
      "text/plain": [
       "VBox(children=(Label(value='0.001 MB of 0.001 MB uploaded (0.000 MB deduped)\\r'), FloatProgress(value=1.0, max…"
      ]
     },
     "metadata": {},
     "output_type": "display_data"
    },
    {
     "data": {
      "text/html": [
       "<style>\n",
       "    table.wandb td:nth-child(1) { padding: 0 10px; text-align: right }\n",
       "    .wandb-row { display: flex; flex-direction: row; flex-wrap: wrap; width: 100% }\n",
       "    .wandb-col { display: flex; flex-direction: column; flex-basis: 100%; flex: 1; padding: 10px; }\n",
       "    </style>\n",
       "<div class=\"wandb-row\"><div class=\"wandb-col\"><h3>Run history:</h3><br/><table class=\"wandb\"><tr><td>bfnotavail</td><td>▁█████████</td></tr><tr><td>bfprofit</td><td>▁█████████</td></tr><tr><td>correct_conf</td><td>▁█████████</td></tr><tr><td>epoch</td><td>▁▁▁▁▂▂▂▂▂▃▃▃▃▃▃▄▄▄▄▄▅▅▅▅▅▅▆▆▆▆▆▇▇▇▇▇▇███</td></tr><tr><td>incorrect_conf</td><td>▁█████████</td></tr><tr><td>loss</td><td>█▃▂▂▂▄▂▁▃▅▃▃▃▃▃▅▃▄▃▄▄▂▂▄▃▂▅▅▄▄▄▃▆▃▂▄▂▄▄▃</td></tr><tr><td>num_bets_per</td><td>▁█▅▇▅▅▅▃▅▇</td></tr><tr><td>profit</td><td>▁█████████</td></tr><tr><td>test_accuracy</td><td>▁█████████</td></tr><tr><td>value_pick_roi</td><td>▂▅█▃▁▁▁▃█▆</td></tr></table><br/></div><div class=\"wandb-col\"><h3>Run summary:</h3><br/><table class=\"wandb\"><tr><td>bfnotavail</td><td>533</td></tr><tr><td>correct_conf</td><td>0.15266</td></tr><tr><td>epoch</td><td>99</td></tr><tr><td>incorrect_conf</td><td>0.15265</td></tr><tr><td>num_bets_per</td><td>4.0496</td></tr><tr><td>profit</td><td>-1286.70001</td></tr><tr><td>value_pick_roi</td><td>-0.27932</td></tr></table><br/></div></div>"
      ],
      "text/plain": [
       "<IPython.core.display.HTML object>"
      ]
     },
     "metadata": {},
     "output_type": "display_data"
    },
    {
     "data": {
      "text/html": [
       "Synced <strong style=\"color:#cdcd00\">usual-sweep-18</strong>: <a href=\"https://wandb.ai/nickojelly/grv_priced_sweep_custom/runs/6dnyc601\" target=\"_blank\">https://wandb.ai/nickojelly/grv_priced_sweep_custom/runs/6dnyc601</a><br/>Synced 5 W&B file(s), 0 media file(s), 0 artifact file(s) and 0 other file(s)"
      ],
      "text/plain": [
       "<IPython.core.display.HTML object>"
      ]
     },
     "metadata": {},
     "output_type": "display_data"
    },
    {
     "data": {
      "text/html": [
       "Find logs at: <code>.\\wandb\\run-20220825_061951-6dnyc601\\logs</code>"
      ],
      "text/plain": [
       "<IPython.core.display.HTML object>"
      ]
     },
     "metadata": {},
     "output_type": "display_data"
    },
    {
     "name": "stderr",
     "output_type": "stream",
     "text": [
      "\u001b[34m\u001b[1mwandb\u001b[0m: Agent Starting Run: k3s78yyu with config:\n",
      "\u001b[34m\u001b[1mwandb\u001b[0m: \tbatch_size: 720\n",
      "\u001b[34m\u001b[1mwandb\u001b[0m: \tdropout: 0.4\n",
      "\u001b[34m\u001b[1mwandb\u001b[0m: \tepochs: 100\n",
      "\u001b[34m\u001b[1mwandb\u001b[0m: \tf1_layer_size: 32\n",
      "\u001b[34m\u001b[1mwandb\u001b[0m: \tf2_layer_size: 64\n",
      "\u001b[34m\u001b[1mwandb\u001b[0m: \tl1_beta: 0.22811485191195344\n",
      "\u001b[34m\u001b[1mwandb\u001b[0m: \tlearning_rate: 0.00023341165259211903\n",
      "\u001b[34m\u001b[1mwandb\u001b[0m: \tloss: l1_custom\n",
      "\u001b[34m\u001b[1mwandb\u001b[0m: \tnum_layers: 2\n",
      "\u001b[34m\u001b[1mwandb\u001b[0m: \toptimizer: adam\n",
      "\u001b[34m\u001b[1mwandb\u001b[0m: \tvalidation_split: 0.1\n",
      "Failed to detect the name of this notebook, you can set it manually with the WANDB_NOTEBOOK_NAME environment variable to enable code saving.\n",
      "\u001b[34m\u001b[1mwandb\u001b[0m: \u001b[33mWARNING\u001b[0m Ignored wandb.init() arg project when running a sweep.\n"
     ]
    },
    {
     "data": {
      "text/html": [
       "wandb version 0.13.2 is available!  To upgrade, please run:\n",
       " $ pip install wandb --upgrade"
      ],
      "text/plain": [
       "<IPython.core.display.HTML object>"
      ]
     },
     "metadata": {},
     "output_type": "display_data"
    },
    {
     "data": {
      "text/html": [
       "Tracking run with wandb version 0.12.14"
      ],
      "text/plain": [
       "<IPython.core.display.HTML object>"
      ]
     },
     "metadata": {},
     "output_type": "display_data"
    },
    {
     "data": {
      "text/html": [
       "Run data is saved locally in <code>c:\\Users\\Nick\\Documents\\GitHub\\grvmodel\\Python\\pytorch\\New Model\\wandb\\run-20220825_062830-k3s78yyu</code>"
      ],
      "text/plain": [
       "<IPython.core.display.HTML object>"
      ]
     },
     "metadata": {},
     "output_type": "display_data"
    },
    {
     "data": {
      "text/html": [
       "Syncing run <strong><a href=\"https://wandb.ai/nickojelly/grv_priced_sweep_custom/runs/k3s78yyu\" target=\"_blank\">hopeful-sweep-19</a></strong> to <a href=\"https://wandb.ai/nickojelly/grv_priced_sweep_custom\" target=\"_blank\">Weights & Biases</a> (<a href=\"https://wandb.me/run\" target=\"_blank\">docs</a>)<br/>Sweep page:  <a href=\"https://wandb.ai/nickojelly/grv_priced_sweep_custom/sweeps/nwqxajsa\" target=\"_blank\">https://wandb.ai/nickojelly/grv_priced_sweep_custom/sweeps/nwqxajsa</a>"
      ],
      "text/plain": [
       "<IPython.core.display.HTML object>"
      ]
     },
     "metadata": {},
     "output_type": "display_data"
    },
    {
     "name": "stderr",
     "output_type": "stream",
     "text": [
      "  0%|          | 0/100 [00:00<?, ?it/s]"
     ]
    },
    {
     "name": "stdout",
     "output_type": "stream",
     "text": [
      "{'batch_size': 720, 'dropout': 0.4, 'epochs': 100, 'f1_layer_size': 32, 'f2_layer_size': 64, 'l1_beta': 0.22811485191195344, 'learning_rate': 0.00023341165259211903, 'loss': 'l1_custom', 'num_layers': 2, 'optimizer': 'adam', 'validation_split': 0.1}\n",
      "100\n",
      "{'batch_size': 720, 'dropout': 0.4, 'epochs': 100, 'f1_layer_size': 32, 'f2_layer_size': 64, 'l1_beta': 0.22811485191195344, 'learning_rate': 0.00023341165259211903, 'loss': 'l1_custom', 'num_layers': 2, 'optimizer': 'adam', 'validation_split': 0.1}\n",
      "Sequential(\n",
      "  (0): Linear(in_features=120, out_features=32, bias=True)\n",
      "  (1): ReLU()\n",
      "  (2): Dropout(p=0.4, inplace=False)\n",
      "  (3): Linear(in_features=32, out_features=64, bias=True)\n",
      "  (4): ReLU()\n",
      "  (5): Dropout(p=0.4, inplace=False)\n",
      "  (6): Linear(in_features=64, out_features=8, bias=True)\n",
      "  (7): Softmax(dim=1)\n",
      ")\n"
     ]
    },
    {
     "name": "stderr",
     "output_type": "stream",
     "text": [
      "  1%|          | 1/100 [00:10<17:48, 10.79s/it]"
     ]
    },
    {
     "name": "stdout",
     "output_type": "stream",
     "text": [
      "created path\n"
     ]
    },
    {
     "name": "stderr",
     "output_type": "stream",
     "text": [
      "100%|██████████| 100/100 [04:13<00:00,  2.54s/it]\n"
     ]
    },
    {
     "name": "stdout",
     "output_type": "stream",
     "text": [
      "\n"
     ]
    },
    {
     "data": {
      "text/html": [
       "Waiting for W&B process to finish... <strong style=\"color:green\">(success).</strong>"
      ],
      "text/plain": [
       "<IPython.core.display.HTML object>"
      ]
     },
     "metadata": {},
     "output_type": "display_data"
    },
    {
     "data": {
      "application/vnd.jupyter.widget-view+json": {
       "model_id": "d4842540a5e740fba812a9adfd9fe58b",
       "version_major": 2,
       "version_minor": 0
      },
      "text/plain": [
       "VBox(children=(Label(value='0.001 MB of 0.001 MB uploaded (0.000 MB deduped)\\r'), FloatProgress(value=1.0, max…"
      ]
     },
     "metadata": {},
     "output_type": "display_data"
    },
    {
     "data": {
      "text/html": [
       "<style>\n",
       "    table.wandb td:nth-child(1) { padding: 0 10px; text-align: right }\n",
       "    .wandb-row { display: flex; flex-direction: row; flex-wrap: wrap; width: 100% }\n",
       "    .wandb-col { display: flex; flex-direction: column; flex-basis: 100%; flex: 1; padding: 10px; }\n",
       "    </style>\n",
       "<div class=\"wandb-row\"><div class=\"wandb-col\"><h3>Run history:</h3><br/><table class=\"wandb\"><tr><td>bfnotavail</td><td>▁▁▄▆▅▇████</td></tr><tr><td>bfprofit</td><td>▃▂▁▅▆█▇▄▆▄</td></tr><tr><td>correct_conf</td><td>▁▅▇▇▇▇████</td></tr><tr><td>epoch</td><td>▁▁▁▂▂▂▂▃▃▃▃▃▄▄▄▄▅▅▅▅▅▆▆▆▆▆▇▇▇▇███</td></tr><tr><td>incorrect_conf</td><td>▁▆▇▇█▇████</td></tr><tr><td>loss</td><td>█▅▂▂▃▂▂▃▂▂▃▂▂▂▁▂▁▂▂▂▁▂▂▃▃▂▂▂▂▂▁▃▂</td></tr><tr><td>num_bets_per</td><td>█▆▅▅▂▃▁▂▁▁</td></tr><tr><td>profit</td><td>▁▅▅▇▇██▆▇▇</td></tr><tr><td>test_accuracy</td><td>▁▄▅▇▇█████</td></tr><tr><td>value_pick_roi</td><td>▅▄▃▁▃▄▇▆█▆</td></tr></table><br/></div><div class=\"wandb-col\"><h3>Run summary:</h3><br/><table class=\"wandb\"><tr><td>bfnotavail</td><td>542</td></tr><tr><td>correct_conf</td><td>0.28663</td></tr><tr><td>epoch</td><td>98</td></tr><tr><td>incorrect_conf</td><td>0.31735</td></tr><tr><td>num_bets_per</td><td>3.7333</td></tr><tr><td>profit</td><td>-1252.22001</td></tr><tr><td>value_pick_roi</td><td>-0.27877</td></tr></table><br/></div></div>"
      ],
      "text/plain": [
       "<IPython.core.display.HTML object>"
      ]
     },
     "metadata": {},
     "output_type": "display_data"
    },
    {
     "data": {
      "text/html": [
       "Synced <strong style=\"color:#cdcd00\">hopeful-sweep-19</strong>: <a href=\"https://wandb.ai/nickojelly/grv_priced_sweep_custom/runs/k3s78yyu\" target=\"_blank\">https://wandb.ai/nickojelly/grv_priced_sweep_custom/runs/k3s78yyu</a><br/>Synced 5 W&B file(s), 0 media file(s), 0 artifact file(s) and 0 other file(s)"
      ],
      "text/plain": [
       "<IPython.core.display.HTML object>"
      ]
     },
     "metadata": {},
     "output_type": "display_data"
    },
    {
     "data": {
      "text/html": [
       "Find logs at: <code>.\\wandb\\run-20220825_062830-k3s78yyu\\logs</code>"
      ],
      "text/plain": [
       "<IPython.core.display.HTML object>"
      ]
     },
     "metadata": {},
     "output_type": "display_data"
    },
    {
     "name": "stderr",
     "output_type": "stream",
     "text": [
      "\u001b[34m\u001b[1mwandb\u001b[0m: Agent Starting Run: n1i4qegr with config:\n",
      "\u001b[34m\u001b[1mwandb\u001b[0m: \tbatch_size: 128\n",
      "\u001b[34m\u001b[1mwandb\u001b[0m: \tdropout: 0.4\n",
      "\u001b[34m\u001b[1mwandb\u001b[0m: \tepochs: 100\n",
      "\u001b[34m\u001b[1mwandb\u001b[0m: \tf1_layer_size: 64\n",
      "\u001b[34m\u001b[1mwandb\u001b[0m: \tf2_layer_size: 64\n",
      "\u001b[34m\u001b[1mwandb\u001b[0m: \tl1_beta: 0.1779143764110993\n",
      "\u001b[34m\u001b[1mwandb\u001b[0m: \tlearning_rate: 0.00020830803216215536\n",
      "\u001b[34m\u001b[1mwandb\u001b[0m: \tloss: l1_custom\n",
      "\u001b[34m\u001b[1mwandb\u001b[0m: \tnum_layers: 2\n",
      "\u001b[34m\u001b[1mwandb\u001b[0m: \toptimizer: adam\n",
      "\u001b[34m\u001b[1mwandb\u001b[0m: \tvalidation_split: 0.1\n",
      "Failed to detect the name of this notebook, you can set it manually with the WANDB_NOTEBOOK_NAME environment variable to enable code saving.\n",
      "\u001b[34m\u001b[1mwandb\u001b[0m: \u001b[33mWARNING\u001b[0m Ignored wandb.init() arg project when running a sweep.\n"
     ]
    },
    {
     "data": {
      "text/html": [
       "wandb version 0.13.2 is available!  To upgrade, please run:\n",
       " $ pip install wandb --upgrade"
      ],
      "text/plain": [
       "<IPython.core.display.HTML object>"
      ]
     },
     "metadata": {},
     "output_type": "display_data"
    },
    {
     "data": {
      "text/html": [
       "Tracking run with wandb version 0.12.14"
      ],
      "text/plain": [
       "<IPython.core.display.HTML object>"
      ]
     },
     "metadata": {},
     "output_type": "display_data"
    },
    {
     "data": {
      "text/html": [
       "Run data is saved locally in <code>c:\\Users\\Nick\\Documents\\GitHub\\grvmodel\\Python\\pytorch\\New Model\\wandb\\run-20220825_063254-n1i4qegr</code>"
      ],
      "text/plain": [
       "<IPython.core.display.HTML object>"
      ]
     },
     "metadata": {},
     "output_type": "display_data"
    },
    {
     "data": {
      "text/html": [
       "Syncing run <strong><a href=\"https://wandb.ai/nickojelly/grv_priced_sweep_custom/runs/n1i4qegr\" target=\"_blank\">proud-sweep-20</a></strong> to <a href=\"https://wandb.ai/nickojelly/grv_priced_sweep_custom\" target=\"_blank\">Weights & Biases</a> (<a href=\"https://wandb.me/run\" target=\"_blank\">docs</a>)<br/>Sweep page:  <a href=\"https://wandb.ai/nickojelly/grv_priced_sweep_custom/sweeps/nwqxajsa\" target=\"_blank\">https://wandb.ai/nickojelly/grv_priced_sweep_custom/sweeps/nwqxajsa</a>"
      ],
      "text/plain": [
       "<IPython.core.display.HTML object>"
      ]
     },
     "metadata": {},
     "output_type": "display_data"
    },
    {
     "name": "stderr",
     "output_type": "stream",
     "text": [
      "  0%|          | 0/100 [00:00<?, ?it/s]"
     ]
    },
    {
     "name": "stdout",
     "output_type": "stream",
     "text": [
      "{'batch_size': 128, 'dropout': 0.4, 'epochs': 100, 'f1_layer_size': 64, 'f2_layer_size': 64, 'l1_beta': 0.1779143764110993, 'learning_rate': 0.00020830803216215536, 'loss': 'l1_custom', 'num_layers': 2, 'optimizer': 'adam', 'validation_split': 0.1}\n",
      "100\n",
      "{'batch_size': 128, 'dropout': 0.4, 'epochs': 100, 'f1_layer_size': 64, 'f2_layer_size': 64, 'l1_beta': 0.1779143764110993, 'learning_rate': 0.00020830803216215536, 'loss': 'l1_custom', 'num_layers': 2, 'optimizer': 'adam', 'validation_split': 0.1}\n",
      "Sequential(\n",
      "  (0): Linear(in_features=120, out_features=64, bias=True)\n",
      "  (1): ReLU()\n",
      "  (2): Dropout(p=0.4, inplace=False)\n",
      "  (3): Linear(in_features=64, out_features=64, bias=True)\n",
      "  (4): ReLU()\n",
      "  (5): Dropout(p=0.4, inplace=False)\n",
      "  (6): Linear(in_features=64, out_features=8, bias=True)\n",
      "  (7): Softmax(dim=1)\n",
      ")\n"
     ]
    },
    {
     "name": "stderr",
     "output_type": "stream",
     "text": [
      "  1%|          | 1/100 [00:12<20:41, 12.54s/it]"
     ]
    },
    {
     "name": "stdout",
     "output_type": "stream",
     "text": [
      "created path\n"
     ]
    },
    {
     "name": "stderr",
     "output_type": "stream",
     "text": [
      "100%|██████████| 100/100 [05:52<00:00,  3.52s/it]\n"
     ]
    },
    {
     "name": "stdout",
     "output_type": "stream",
     "text": [
      "\n"
     ]
    },
    {
     "data": {
      "text/html": [
       "Waiting for W&B process to finish... <strong style=\"color:green\">(success).</strong>"
      ],
      "text/plain": [
       "<IPython.core.display.HTML object>"
      ]
     },
     "metadata": {},
     "output_type": "display_data"
    },
    {
     "data": {
      "application/vnd.jupyter.widget-view+json": {
       "model_id": "ae34dbcdd0694cedbfc90095837a134c",
       "version_major": 2,
       "version_minor": 0
      },
      "text/plain": [
       "VBox(children=(Label(value='0.001 MB of 0.001 MB uploaded (0.000 MB deduped)\\r'), FloatProgress(value=1.0, max…"
      ]
     },
     "metadata": {},
     "output_type": "display_data"
    },
    {
     "data": {
      "text/html": [
       "<style>\n",
       "    table.wandb td:nth-child(1) { padding: 0 10px; text-align: right }\n",
       "    .wandb-row { display: flex; flex-direction: row; flex-wrap: wrap; width: 100% }\n",
       "    .wandb-col { display: flex; flex-direction: column; flex-basis: 100%; flex: 1; padding: 10px; }\n",
       "    </style>\n",
       "<div class=\"wandb-row\"><div class=\"wandb-col\"><h3>Run history:</h3><br/><table class=\"wandb\"><tr><td>bfnotavail</td><td>█▁▃▅▅▆▇█▇█</td></tr><tr><td>bfprofit</td><td>▅▄▂▁▃▆▆▆█▆</td></tr><tr><td>correct_conf</td><td>▁▆▇▇▇▇▇▇██</td></tr><tr><td>epoch</td><td>▁▁▁▁▂▂▂▂▂▃▃▃▃▃▃▄▄▄▄▄▅▅▅▅▅▅▆▆▆▆▆▇▇▇▇▇▇███</td></tr><tr><td>incorrect_conf</td><td>▁▇▇█▇█▇▇██</td></tr><tr><td>loss</td><td>█▆▄▅▅▆▃▄▄▅▄▃▄▄▄▄▅▃▆▃▄▄▄▁▄▃▃▃▅▃▄▅▆▅▄▂▆▅▃▃</td></tr><tr><td>num_bets_per</td><td>█▅▃▂▂▂▃▂▁▁</td></tr><tr><td>profit</td><td>▁▄▂▃▄▆▇▇█▇</td></tr><tr><td>test_accuracy</td><td>▁▃▆▆▇█████</td></tr><tr><td>value_pick_roi</td><td>█▆▄▃▅▁▅▇▃▆</td></tr></table><br/></div><div class=\"wandb-col\"><h3>Run summary:</h3><br/><table class=\"wandb\"><tr><td>bfnotavail</td><td>563</td></tr><tr><td>correct_conf</td><td>0.31887</td></tr><tr><td>epoch</td><td>99</td></tr><tr><td>incorrect_conf</td><td>0.35456</td></tr><tr><td>num_bets_per</td><td>3.52757</td></tr><tr><td>profit</td><td>-1113.26</td></tr><tr><td>value_pick_roi</td><td>-0.28545</td></tr></table><br/></div></div>"
      ],
      "text/plain": [
       "<IPython.core.display.HTML object>"
      ]
     },
     "metadata": {},
     "output_type": "display_data"
    },
    {
     "data": {
      "text/html": [
       "Synced <strong style=\"color:#cdcd00\">proud-sweep-20</strong>: <a href=\"https://wandb.ai/nickojelly/grv_priced_sweep_custom/runs/n1i4qegr\" target=\"_blank\">https://wandb.ai/nickojelly/grv_priced_sweep_custom/runs/n1i4qegr</a><br/>Synced 5 W&B file(s), 0 media file(s), 0 artifact file(s) and 0 other file(s)"
      ],
      "text/plain": [
       "<IPython.core.display.HTML object>"
      ]
     },
     "metadata": {},
     "output_type": "display_data"
    },
    {
     "data": {
      "text/html": [
       "Find logs at: <code>.\\wandb\\run-20220825_063254-n1i4qegr\\logs</code>"
      ],
      "text/plain": [
       "<IPython.core.display.HTML object>"
      ]
     },
     "metadata": {},
     "output_type": "display_data"
    },
    {
     "name": "stderr",
     "output_type": "stream",
     "text": [
      "\u001b[34m\u001b[1mwandb\u001b[0m: Sweep Agent: Waiting for job.\n",
      "\u001b[34m\u001b[1mwandb\u001b[0m: Job received.\n",
      "\u001b[34m\u001b[1mwandb\u001b[0m: Agent Starting Run: lo67ngvm with config:\n",
      "\u001b[34m\u001b[1mwandb\u001b[0m: \tbatch_size: 64\n",
      "\u001b[34m\u001b[1mwandb\u001b[0m: \tdropout: 0.5\n",
      "\u001b[34m\u001b[1mwandb\u001b[0m: \tepochs: 100\n",
      "\u001b[34m\u001b[1mwandb\u001b[0m: \tf1_layer_size: 32\n",
      "\u001b[34m\u001b[1mwandb\u001b[0m: \tf2_layer_size: 32\n",
      "\u001b[34m\u001b[1mwandb\u001b[0m: \tl1_beta: 0.9730583866440072\n",
      "\u001b[34m\u001b[1mwandb\u001b[0m: \tlearning_rate: 0.0006888842071701682\n",
      "\u001b[34m\u001b[1mwandb\u001b[0m: \tloss: l1_custom\n",
      "\u001b[34m\u001b[1mwandb\u001b[0m: \tnum_layers: 2\n",
      "\u001b[34m\u001b[1mwandb\u001b[0m: \toptimizer: adam\n",
      "\u001b[34m\u001b[1mwandb\u001b[0m: \tvalidation_split: 0.1\n",
      "Failed to detect the name of this notebook, you can set it manually with the WANDB_NOTEBOOK_NAME environment variable to enable code saving.\n",
      "\u001b[34m\u001b[1mwandb\u001b[0m: \u001b[33mWARNING\u001b[0m Ignored wandb.init() arg project when running a sweep.\n"
     ]
    },
    {
     "data": {
      "text/html": [
       "wandb version 0.13.2 is available!  To upgrade, please run:\n",
       " $ pip install wandb --upgrade"
      ],
      "text/plain": [
       "<IPython.core.display.HTML object>"
      ]
     },
     "metadata": {},
     "output_type": "display_data"
    },
    {
     "data": {
      "text/html": [
       "Tracking run with wandb version 0.12.14"
      ],
      "text/plain": [
       "<IPython.core.display.HTML object>"
      ]
     },
     "metadata": {},
     "output_type": "display_data"
    },
    {
     "data": {
      "text/html": [
       "Run data is saved locally in <code>c:\\Users\\Nick\\Documents\\GitHub\\grvmodel\\Python\\pytorch\\New Model\\wandb\\run-20220825_063905-lo67ngvm</code>"
      ],
      "text/plain": [
       "<IPython.core.display.HTML object>"
      ]
     },
     "metadata": {},
     "output_type": "display_data"
    },
    {
     "data": {
      "text/html": [
       "Syncing run <strong><a href=\"https://wandb.ai/nickojelly/grv_priced_sweep_custom/runs/lo67ngvm\" target=\"_blank\">sunny-sweep-21</a></strong> to <a href=\"https://wandb.ai/nickojelly/grv_priced_sweep_custom\" target=\"_blank\">Weights & Biases</a> (<a href=\"https://wandb.me/run\" target=\"_blank\">docs</a>)<br/>Sweep page:  <a href=\"https://wandb.ai/nickojelly/grv_priced_sweep_custom/sweeps/nwqxajsa\" target=\"_blank\">https://wandb.ai/nickojelly/grv_priced_sweep_custom/sweeps/nwqxajsa</a>"
      ],
      "text/plain": [
       "<IPython.core.display.HTML object>"
      ]
     },
     "metadata": {},
     "output_type": "display_data"
    },
    {
     "name": "stderr",
     "output_type": "stream",
     "text": [
      "  0%|          | 0/100 [00:00<?, ?it/s]"
     ]
    },
    {
     "name": "stdout",
     "output_type": "stream",
     "text": [
      "{'batch_size': 64, 'dropout': 0.5, 'epochs': 100, 'f1_layer_size': 32, 'f2_layer_size': 32, 'l1_beta': 0.9730583866440072, 'learning_rate': 0.0006888842071701682, 'loss': 'l1_custom', 'num_layers': 2, 'optimizer': 'adam', 'validation_split': 0.1}\n",
      "100\n",
      "{'batch_size': 64, 'dropout': 0.5, 'epochs': 100, 'f1_layer_size': 32, 'f2_layer_size': 32, 'l1_beta': 0.9730583866440072, 'learning_rate': 0.0006888842071701682, 'loss': 'l1_custom', 'num_layers': 2, 'optimizer': 'adam', 'validation_split': 0.1}\n",
      "Sequential(\n",
      "  (0): Linear(in_features=120, out_features=32, bias=True)\n",
      "  (1): ReLU()\n",
      "  (2): Dropout(p=0.5, inplace=False)\n",
      "  (3): Linear(in_features=32, out_features=32, bias=True)\n",
      "  (4): ReLU()\n",
      "  (5): Dropout(p=0.5, inplace=False)\n",
      "  (6): Linear(in_features=32, out_features=8, bias=True)\n",
      "  (7): Softmax(dim=1)\n",
      ")\n"
     ]
    },
    {
     "name": "stderr",
     "output_type": "stream",
     "text": [
      "  1%|          | 1/100 [00:13<22:32, 13.66s/it]"
     ]
    },
    {
     "name": "stdout",
     "output_type": "stream",
     "text": [
      "created path\n"
     ]
    },
    {
     "name": "stderr",
     "output_type": "stream",
     "text": [
      "100%|██████████| 100/100 [07:56<00:00,  4.77s/it]"
     ]
    },
    {
     "name": "stdout",
     "output_type": "stream",
     "text": [
      "\n"
     ]
    },
    {
     "name": "stderr",
     "output_type": "stream",
     "text": [
      "\n"
     ]
    },
    {
     "data": {
      "text/html": [
       "Waiting for W&B process to finish... <strong style=\"color:green\">(success).</strong>"
      ],
      "text/plain": [
       "<IPython.core.display.HTML object>"
      ]
     },
     "metadata": {},
     "output_type": "display_data"
    },
    {
     "data": {
      "application/vnd.jupyter.widget-view+json": {
       "model_id": "7ca4d1c055f04c0f9f50cb90b1aa68b4",
       "version_major": 2,
       "version_minor": 0
      },
      "text/plain": [
       "VBox(children=(Label(value='0.001 MB of 0.001 MB uploaded (0.000 MB deduped)\\r'), FloatProgress(value=1.0, max…"
      ]
     },
     "metadata": {},
     "output_type": "display_data"
    },
    {
     "data": {
      "text/html": [
       "<style>\n",
       "    table.wandb td:nth-child(1) { padding: 0 10px; text-align: right }\n",
       "    .wandb-row { display: flex; flex-direction: row; flex-wrap: wrap; width: 100% }\n",
       "    .wandb-col { display: flex; flex-direction: column; flex-basis: 100%; flex: 1; padding: 10px; }\n",
       "    </style>\n",
       "<div class=\"wandb-row\"><div class=\"wandb-col\"><h3>Run history:</h3><br/><table class=\"wandb\"><tr><td>bfnotavail</td><td>▁▂▄▅▆▇▇▇▇█</td></tr><tr><td>bfprofit</td><td>█▅█▄▄▄▁▂▃▄</td></tr><tr><td>correct_conf</td><td>▁▄▅▆▇▇▇▇▇█</td></tr><tr><td>epoch</td><td>▁▁▁▁▂▂▂▂▂▃▃▃▃▃▃▄▄▄▄▄▅▅▅▅▅▅▆▆▆▆▆▇▇▇▇▇▇███</td></tr><tr><td>incorrect_conf</td><td>▁▅▅▆▇███▇█</td></tr><tr><td>loss</td><td>▅▆▄▅▂▅▄▂▃▁▄▄▇▇▆▅▃▂▂▅▇▁▄▇▄▅▄▆▂██▃▅▆▃▅▂▆▃▃</td></tr><tr><td>num_bets_per</td><td>▁▇█▇▆▆▅▅▅▄</td></tr><tr><td>profit</td><td>█▅▇▅▄▅▁▃▄▄</td></tr><tr><td>test_accuracy</td><td>▁▃▅▅▆▇▇▇▇█</td></tr><tr><td>value_pick_roi</td><td>▁▅▇█▃▆▇██▆</td></tr></table><br/></div><div class=\"wandb-col\"><h3>Run summary:</h3><br/><table class=\"wandb\"><tr><td>bfnotavail</td><td>824</td></tr><tr><td>correct_conf</td><td>0.2313</td></tr><tr><td>epoch</td><td>99</td></tr><tr><td>incorrect_conf</td><td>0.20865</td></tr><tr><td>num_bets_per</td><td>4.13342</td></tr><tr><td>profit</td><td>-1169.04001</td></tr><tr><td>value_pick_roi</td><td>-0.27345</td></tr></table><br/></div></div>"
      ],
      "text/plain": [
       "<IPython.core.display.HTML object>"
      ]
     },
     "metadata": {},
     "output_type": "display_data"
    },
    {
     "data": {
      "text/html": [
       "Synced <strong style=\"color:#cdcd00\">sunny-sweep-21</strong>: <a href=\"https://wandb.ai/nickojelly/grv_priced_sweep_custom/runs/lo67ngvm\" target=\"_blank\">https://wandb.ai/nickojelly/grv_priced_sweep_custom/runs/lo67ngvm</a><br/>Synced 5 W&B file(s), 0 media file(s), 0 artifact file(s) and 0 other file(s)"
      ],
      "text/plain": [
       "<IPython.core.display.HTML object>"
      ]
     },
     "metadata": {},
     "output_type": "display_data"
    },
    {
     "data": {
      "text/html": [
       "Find logs at: <code>.\\wandb\\run-20220825_063905-lo67ngvm\\logs</code>"
      ],
      "text/plain": [
       "<IPython.core.display.HTML object>"
      ]
     },
     "metadata": {},
     "output_type": "display_data"
    },
    {
     "name": "stderr",
     "output_type": "stream",
     "text": [
      "\u001b[34m\u001b[1mwandb\u001b[0m: Agent Starting Run: bszqcfvs with config:\n",
      "\u001b[34m\u001b[1mwandb\u001b[0m: \tbatch_size: 720\n",
      "\u001b[34m\u001b[1mwandb\u001b[0m: \tdropout: 0.3\n",
      "\u001b[34m\u001b[1mwandb\u001b[0m: \tepochs: 100\n",
      "\u001b[34m\u001b[1mwandb\u001b[0m: \tf1_layer_size: 32\n",
      "\u001b[34m\u001b[1mwandb\u001b[0m: \tf2_layer_size: 64\n",
      "\u001b[34m\u001b[1mwandb\u001b[0m: \tl1_beta: 0.9395633773445908\n",
      "\u001b[34m\u001b[1mwandb\u001b[0m: \tlearning_rate: 0.00010207283120155658\n",
      "\u001b[34m\u001b[1mwandb\u001b[0m: \tloss: l1_custom\n",
      "\u001b[34m\u001b[1mwandb\u001b[0m: \tnum_layers: 2\n",
      "\u001b[34m\u001b[1mwandb\u001b[0m: \toptimizer: adam\n",
      "\u001b[34m\u001b[1mwandb\u001b[0m: \tvalidation_split: 0.1\n",
      "Failed to detect the name of this notebook, you can set it manually with the WANDB_NOTEBOOK_NAME environment variable to enable code saving.\n",
      "\u001b[34m\u001b[1mwandb\u001b[0m: \u001b[33mWARNING\u001b[0m Ignored wandb.init() arg project when running a sweep.\n"
     ]
    },
    {
     "data": {
      "text/html": [
       "wandb version 0.13.2 is available!  To upgrade, please run:\n",
       " $ pip install wandb --upgrade"
      ],
      "text/plain": [
       "<IPython.core.display.HTML object>"
      ]
     },
     "metadata": {},
     "output_type": "display_data"
    },
    {
     "data": {
      "text/html": [
       "Tracking run with wandb version 0.12.14"
      ],
      "text/plain": [
       "<IPython.core.display.HTML object>"
      ]
     },
     "metadata": {},
     "output_type": "display_data"
    },
    {
     "data": {
      "text/html": [
       "Run data is saved locally in <code>c:\\Users\\Nick\\Documents\\GitHub\\grvmodel\\Python\\pytorch\\New Model\\wandb\\run-20220825_064713-bszqcfvs</code>"
      ],
      "text/plain": [
       "<IPython.core.display.HTML object>"
      ]
     },
     "metadata": {},
     "output_type": "display_data"
    },
    {
     "data": {
      "text/html": [
       "Syncing run <strong><a href=\"https://wandb.ai/nickojelly/grv_priced_sweep_custom/runs/bszqcfvs\" target=\"_blank\">dainty-sweep-22</a></strong> to <a href=\"https://wandb.ai/nickojelly/grv_priced_sweep_custom\" target=\"_blank\">Weights & Biases</a> (<a href=\"https://wandb.me/run\" target=\"_blank\">docs</a>)<br/>Sweep page:  <a href=\"https://wandb.ai/nickojelly/grv_priced_sweep_custom/sweeps/nwqxajsa\" target=\"_blank\">https://wandb.ai/nickojelly/grv_priced_sweep_custom/sweeps/nwqxajsa</a>"
      ],
      "text/plain": [
       "<IPython.core.display.HTML object>"
      ]
     },
     "metadata": {},
     "output_type": "display_data"
    },
    {
     "name": "stderr",
     "output_type": "stream",
     "text": [
      "  0%|          | 0/100 [00:00<?, ?it/s]"
     ]
    },
    {
     "name": "stdout",
     "output_type": "stream",
     "text": [
      "{'batch_size': 720, 'dropout': 0.3, 'epochs': 100, 'f1_layer_size': 32, 'f2_layer_size': 64, 'l1_beta': 0.9395633773445908, 'learning_rate': 0.00010207283120155658, 'loss': 'l1_custom', 'num_layers': 2, 'optimizer': 'adam', 'validation_split': 0.1}\n",
      "100\n",
      "{'batch_size': 720, 'dropout': 0.3, 'epochs': 100, 'f1_layer_size': 32, 'f2_layer_size': 64, 'l1_beta': 0.9395633773445908, 'learning_rate': 0.00010207283120155658, 'loss': 'l1_custom', 'num_layers': 2, 'optimizer': 'adam', 'validation_split': 0.1}\n",
      "Sequential(\n",
      "  (0): Linear(in_features=120, out_features=32, bias=True)\n",
      "  (1): ReLU()\n",
      "  (2): Dropout(p=0.3, inplace=False)\n",
      "  (3): Linear(in_features=32, out_features=64, bias=True)\n",
      "  (4): ReLU()\n",
      "  (5): Dropout(p=0.3, inplace=False)\n",
      "  (6): Linear(in_features=64, out_features=8, bias=True)\n",
      "  (7): Softmax(dim=1)\n",
      ")\n"
     ]
    },
    {
     "name": "stderr",
     "output_type": "stream",
     "text": [
      "  1%|          | 1/100 [00:11<18:21, 11.12s/it]"
     ]
    },
    {
     "name": "stdout",
     "output_type": "stream",
     "text": [
      "created path\n"
     ]
    },
    {
     "name": "stderr",
     "output_type": "stream",
     "text": [
      "100%|██████████| 100/100 [04:15<00:00,  2.55s/it]\n"
     ]
    },
    {
     "name": "stdout",
     "output_type": "stream",
     "text": [
      "\n"
     ]
    },
    {
     "data": {
      "text/html": [
       "Waiting for W&B process to finish... <strong style=\"color:green\">(success).</strong>"
      ],
      "text/plain": [
       "<IPython.core.display.HTML object>"
      ]
     },
     "metadata": {},
     "output_type": "display_data"
    },
    {
     "data": {
      "application/vnd.jupyter.widget-view+json": {
       "model_id": "a884d82c6a864388ab33f7526df0349e",
       "version_major": 2,
       "version_minor": 0
      },
      "text/plain": [
       "VBox(children=(Label(value='0.001 MB of 0.001 MB uploaded (0.000 MB deduped)\\r'), FloatProgress(value=1.0, max…"
      ]
     },
     "metadata": {},
     "output_type": "display_data"
    },
    {
     "data": {
      "text/html": [
       "<style>\n",
       "    table.wandb td:nth-child(1) { padding: 0 10px; text-align: right }\n",
       "    .wandb-row { display: flex; flex-direction: row; flex-wrap: wrap; width: 100% }\n",
       "    .wandb-col { display: flex; flex-direction: column; flex-basis: 100%; flex: 1; padding: 10px; }\n",
       "    </style>\n",
       "<div class=\"wandb-row\"><div class=\"wandb-col\"><h3>Run history:</h3><br/><table class=\"wandb\"><tr><td>bfnotavail</td><td>▁▄▅▇▇█▇███</td></tr><tr><td>bfprofit</td><td>▁▆▆▆▅▇▅█▇█</td></tr><tr><td>correct_conf</td><td>█▁▁▂▂▂▂▂▂▂</td></tr><tr><td>epoch</td><td>▁▁▁▂▂▂▂▃▃▃▃▃▄▄▄▄▅▅▅▅▅▆▆▆▆▆▇▇▇▇███</td></tr><tr><td>incorrect_conf</td><td>█▁▁▁▂▂▂▂▂▂</td></tr><tr><td>loss</td><td>█▇▆▄▅▃▂▄▄▄▂▂▁▂▁▂▂▂▂▂▃▂▃▁▃▁▁▁▁▂▂▂▂</td></tr><tr><td>num_bets_per</td><td>▁██████▇▇▇</td></tr><tr><td>profit</td><td>▁▇▆▇▆▇▆█▇█</td></tr><tr><td>test_accuracy</td><td>▁▄▅▆▇▇▇███</td></tr><tr><td>value_pick_roi</td><td>▁▅▆▆▇▆▇███</td></tr></table><br/></div><div class=\"wandb-col\"><h3>Run summary:</h3><br/><table class=\"wandb\"><tr><td>bfnotavail</td><td>957</td></tr><tr><td>correct_conf</td><td>0.26914</td></tr><tr><td>epoch</td><td>98</td></tr><tr><td>incorrect_conf</td><td>0.24284</td></tr><tr><td>num_bets_per</td><td>3.98864</td></tr><tr><td>profit</td><td>-652.30001</td></tr><tr><td>value_pick_roi</td><td>-0.25507</td></tr></table><br/></div></div>"
      ],
      "text/plain": [
       "<IPython.core.display.HTML object>"
      ]
     },
     "metadata": {},
     "output_type": "display_data"
    },
    {
     "data": {
      "text/html": [
       "Synced <strong style=\"color:#cdcd00\">dainty-sweep-22</strong>: <a href=\"https://wandb.ai/nickojelly/grv_priced_sweep_custom/runs/bszqcfvs\" target=\"_blank\">https://wandb.ai/nickojelly/grv_priced_sweep_custom/runs/bszqcfvs</a><br/>Synced 5 W&B file(s), 0 media file(s), 0 artifact file(s) and 0 other file(s)"
      ],
      "text/plain": [
       "<IPython.core.display.HTML object>"
      ]
     },
     "metadata": {},
     "output_type": "display_data"
    },
    {
     "data": {
      "text/html": [
       "Find logs at: <code>.\\wandb\\run-20220825_064713-bszqcfvs\\logs</code>"
      ],
      "text/plain": [
       "<IPython.core.display.HTML object>"
      ]
     },
     "metadata": {},
     "output_type": "display_data"
    },
    {
     "name": "stderr",
     "output_type": "stream",
     "text": [
      "\u001b[34m\u001b[1mwandb\u001b[0m: Agent Starting Run: 48yn8rev with config:\n",
      "\u001b[34m\u001b[1mwandb\u001b[0m: \tbatch_size: 720\n",
      "\u001b[34m\u001b[1mwandb\u001b[0m: \tdropout: 0.5\n",
      "\u001b[34m\u001b[1mwandb\u001b[0m: \tepochs: 100\n",
      "\u001b[34m\u001b[1mwandb\u001b[0m: \tf1_layer_size: 32\n",
      "\u001b[34m\u001b[1mwandb\u001b[0m: \tf2_layer_size: 64\n",
      "\u001b[34m\u001b[1mwandb\u001b[0m: \tl1_beta: 0.5402892147873701\n",
      "\u001b[34m\u001b[1mwandb\u001b[0m: \tlearning_rate: 0.00018220203198219683\n",
      "\u001b[34m\u001b[1mwandb\u001b[0m: \tloss: l1_custom\n",
      "\u001b[34m\u001b[1mwandb\u001b[0m: \tnum_layers: 2\n",
      "\u001b[34m\u001b[1mwandb\u001b[0m: \toptimizer: adam\n",
      "\u001b[34m\u001b[1mwandb\u001b[0m: \tvalidation_split: 0.1\n",
      "Failed to detect the name of this notebook, you can set it manually with the WANDB_NOTEBOOK_NAME environment variable to enable code saving.\n",
      "\u001b[34m\u001b[1mwandb\u001b[0m: \u001b[33mWARNING\u001b[0m Ignored wandb.init() arg project when running a sweep.\n"
     ]
    },
    {
     "data": {
      "text/html": [
       "wandb version 0.13.2 is available!  To upgrade, please run:\n",
       " $ pip install wandb --upgrade"
      ],
      "text/plain": [
       "<IPython.core.display.HTML object>"
      ]
     },
     "metadata": {},
     "output_type": "display_data"
    },
    {
     "data": {
      "text/html": [
       "Tracking run with wandb version 0.12.14"
      ],
      "text/plain": [
       "<IPython.core.display.HTML object>"
      ]
     },
     "metadata": {},
     "output_type": "display_data"
    },
    {
     "data": {
      "text/html": [
       "Run data is saved locally in <code>c:\\Users\\Nick\\Documents\\GitHub\\grvmodel\\Python\\pytorch\\New Model\\wandb\\run-20220825_065141-48yn8rev</code>"
      ],
      "text/plain": [
       "<IPython.core.display.HTML object>"
      ]
     },
     "metadata": {},
     "output_type": "display_data"
    },
    {
     "data": {
      "text/html": [
       "Syncing run <strong><a href=\"https://wandb.ai/nickojelly/grv_priced_sweep_custom/runs/48yn8rev\" target=\"_blank\">sweepy-sweep-23</a></strong> to <a href=\"https://wandb.ai/nickojelly/grv_priced_sweep_custom\" target=\"_blank\">Weights & Biases</a> (<a href=\"https://wandb.me/run\" target=\"_blank\">docs</a>)<br/>Sweep page:  <a href=\"https://wandb.ai/nickojelly/grv_priced_sweep_custom/sweeps/nwqxajsa\" target=\"_blank\">https://wandb.ai/nickojelly/grv_priced_sweep_custom/sweeps/nwqxajsa</a>"
      ],
      "text/plain": [
       "<IPython.core.display.HTML object>"
      ]
     },
     "metadata": {},
     "output_type": "display_data"
    },
    {
     "name": "stderr",
     "output_type": "stream",
     "text": [
      "  0%|          | 0/100 [00:00<?, ?it/s]"
     ]
    },
    {
     "name": "stdout",
     "output_type": "stream",
     "text": [
      "{'batch_size': 720, 'dropout': 0.5, 'epochs': 100, 'f1_layer_size': 32, 'f2_layer_size': 64, 'l1_beta': 0.5402892147873701, 'learning_rate': 0.00018220203198219683, 'loss': 'l1_custom', 'num_layers': 2, 'optimizer': 'adam', 'validation_split': 0.1}\n",
      "100\n",
      "{'batch_size': 720, 'dropout': 0.5, 'epochs': 100, 'f1_layer_size': 32, 'f2_layer_size': 64, 'l1_beta': 0.5402892147873701, 'learning_rate': 0.00018220203198219683, 'loss': 'l1_custom', 'num_layers': 2, 'optimizer': 'adam', 'validation_split': 0.1}\n",
      "Sequential(\n",
      "  (0): Linear(in_features=120, out_features=32, bias=True)\n",
      "  (1): ReLU()\n",
      "  (2): Dropout(p=0.5, inplace=False)\n",
      "  (3): Linear(in_features=32, out_features=64, bias=True)\n",
      "  (4): ReLU()\n",
      "  (5): Dropout(p=0.5, inplace=False)\n",
      "  (6): Linear(in_features=64, out_features=8, bias=True)\n",
      "  (7): Softmax(dim=1)\n",
      ")\n"
     ]
    },
    {
     "name": "stderr",
     "output_type": "stream",
     "text": [
      "  1%|          | 1/100 [00:11<18:25, 11.17s/it]"
     ]
    },
    {
     "name": "stdout",
     "output_type": "stream",
     "text": [
      "created path\n"
     ]
    },
    {
     "name": "stderr",
     "output_type": "stream",
     "text": [
      "100%|██████████| 100/100 [04:14<00:00,  2.55s/it]\n"
     ]
    },
    {
     "name": "stdout",
     "output_type": "stream",
     "text": [
      "\n"
     ]
    },
    {
     "data": {
      "text/html": [
       "Waiting for W&B process to finish... <strong style=\"color:green\">(success).</strong>"
      ],
      "text/plain": [
       "<IPython.core.display.HTML object>"
      ]
     },
     "metadata": {},
     "output_type": "display_data"
    },
    {
     "data": {
      "application/vnd.jupyter.widget-view+json": {
       "model_id": "2cb0b438e4c84ba485296eba8a121354",
       "version_major": 2,
       "version_minor": 0
      },
      "text/plain": [
       "VBox(children=(Label(value='0.001 MB of 0.001 MB uploaded (0.000 MB deduped)\\r'), FloatProgress(value=1.0, max…"
      ]
     },
     "metadata": {},
     "output_type": "display_data"
    },
    {
     "data": {
      "text/html": [
       "<style>\n",
       "    table.wandb td:nth-child(1) { padding: 0 10px; text-align: right }\n",
       "    .wandb-row { display: flex; flex-direction: row; flex-wrap: wrap; width: 100% }\n",
       "    .wandb-col { display: flex; flex-direction: column; flex-basis: 100%; flex: 1; padding: 10px; }\n",
       "    </style>\n",
       "<div class=\"wandb-row\"><div class=\"wandb-col\"><h3>Run history:</h3><br/><table class=\"wandb\"><tr><td>bfnotavail</td><td>▁▃▆▇██████</td></tr><tr><td>bfprofit</td><td>▁▇█▄▅▆▄▆█▆</td></tr><tr><td>correct_conf</td><td>█▁▂▃▃▃▃▃▄▄</td></tr><tr><td>epoch</td><td>▁▁▁▂▂▂▂▃▃▃▃▃▄▄▄▄▅▅▅▅▅▆▆▆▆▆▇▇▇▇███</td></tr><tr><td>incorrect_conf</td><td>█▁▁▂▂▃▃▃▃▃</td></tr><tr><td>loss</td><td>▇█▅▆▅▆▅▆▅▃▄▃▂▄▅▄▃▃▄▄▄▃▄▅▂▄▅▄▂▃▃▄▁</td></tr><tr><td>num_bets_per</td><td>▁███▇▇▇▇▇▇</td></tr><tr><td>profit</td><td>▁▆▇▅▆▇▅▆█▇</td></tr><tr><td>test_accuracy</td><td>▁▄▆▇▇█████</td></tr><tr><td>value_pick_roi</td><td>▄▃▁▂▁▄▅█▄▅</td></tr></table><br/></div><div class=\"wandb-col\"><h3>Run summary:</h3><br/><table class=\"wandb\"><tr><td>bfnotavail</td><td>935</td></tr><tr><td>correct_conf</td><td>0.27157</td></tr><tr><td>epoch</td><td>98</td></tr><tr><td>incorrect_conf</td><td>0.24386</td></tr><tr><td>num_bets_per</td><td>3.97863</td></tr><tr><td>profit</td><td>-952.1</td></tr><tr><td>value_pick_roi</td><td>-0.26215</td></tr></table><br/></div></div>"
      ],
      "text/plain": [
       "<IPython.core.display.HTML object>"
      ]
     },
     "metadata": {},
     "output_type": "display_data"
    },
    {
     "data": {
      "text/html": [
       "Synced <strong style=\"color:#cdcd00\">sweepy-sweep-23</strong>: <a href=\"https://wandb.ai/nickojelly/grv_priced_sweep_custom/runs/48yn8rev\" target=\"_blank\">https://wandb.ai/nickojelly/grv_priced_sweep_custom/runs/48yn8rev</a><br/>Synced 5 W&B file(s), 0 media file(s), 0 artifact file(s) and 0 other file(s)"
      ],
      "text/plain": [
       "<IPython.core.display.HTML object>"
      ]
     },
     "metadata": {},
     "output_type": "display_data"
    },
    {
     "data": {
      "text/html": [
       "Find logs at: <code>.\\wandb\\run-20220825_065141-48yn8rev\\logs</code>"
      ],
      "text/plain": [
       "<IPython.core.display.HTML object>"
      ]
     },
     "metadata": {},
     "output_type": "display_data"
    },
    {
     "name": "stderr",
     "output_type": "stream",
     "text": [
      "\u001b[34m\u001b[1mwandb\u001b[0m: Sweep Agent: Waiting for job.\n",
      "\u001b[34m\u001b[1mwandb\u001b[0m: Job received.\n",
      "\u001b[34m\u001b[1mwandb\u001b[0m: Agent Starting Run: 40sai1b0 with config:\n",
      "\u001b[34m\u001b[1mwandb\u001b[0m: \tbatch_size: 64\n",
      "\u001b[34m\u001b[1mwandb\u001b[0m: \tdropout: 0.4\n",
      "\u001b[34m\u001b[1mwandb\u001b[0m: \tepochs: 100\n",
      "\u001b[34m\u001b[1mwandb\u001b[0m: \tf1_layer_size: 32\n",
      "\u001b[34m\u001b[1mwandb\u001b[0m: \tf2_layer_size: 32\n",
      "\u001b[34m\u001b[1mwandb\u001b[0m: \tl1_beta: 0.9757202562195318\n",
      "\u001b[34m\u001b[1mwandb\u001b[0m: \tlearning_rate: 0.0007367831275483849\n",
      "\u001b[34m\u001b[1mwandb\u001b[0m: \tloss: l1_custom\n",
      "\u001b[34m\u001b[1mwandb\u001b[0m: \tnum_layers: 2\n",
      "\u001b[34m\u001b[1mwandb\u001b[0m: \toptimizer: adam\n",
      "\u001b[34m\u001b[1mwandb\u001b[0m: \tvalidation_split: 0.1\n",
      "Failed to detect the name of this notebook, you can set it manually with the WANDB_NOTEBOOK_NAME environment variable to enable code saving.\n",
      "\u001b[34m\u001b[1mwandb\u001b[0m: \u001b[33mWARNING\u001b[0m Ignored wandb.init() arg project when running a sweep.\n"
     ]
    },
    {
     "data": {
      "text/html": [
       "wandb version 0.13.2 is available!  To upgrade, please run:\n",
       " $ pip install wandb --upgrade"
      ],
      "text/plain": [
       "<IPython.core.display.HTML object>"
      ]
     },
     "metadata": {},
     "output_type": "display_data"
    },
    {
     "data": {
      "text/html": [
       "Tracking run with wandb version 0.12.14"
      ],
      "text/plain": [
       "<IPython.core.display.HTML object>"
      ]
     },
     "metadata": {},
     "output_type": "display_data"
    },
    {
     "data": {
      "text/html": [
       "Run data is saved locally in <code>c:\\Users\\Nick\\Documents\\GitHub\\grvmodel\\Python\\pytorch\\New Model\\wandb\\run-20220825_065615-40sai1b0</code>"
      ],
      "text/plain": [
       "<IPython.core.display.HTML object>"
      ]
     },
     "metadata": {},
     "output_type": "display_data"
    },
    {
     "data": {
      "text/html": [
       "Syncing run <strong><a href=\"https://wandb.ai/nickojelly/grv_priced_sweep_custom/runs/40sai1b0\" target=\"_blank\">fancy-sweep-24</a></strong> to <a href=\"https://wandb.ai/nickojelly/grv_priced_sweep_custom\" target=\"_blank\">Weights & Biases</a> (<a href=\"https://wandb.me/run\" target=\"_blank\">docs</a>)<br/>Sweep page:  <a href=\"https://wandb.ai/nickojelly/grv_priced_sweep_custom/sweeps/nwqxajsa\" target=\"_blank\">https://wandb.ai/nickojelly/grv_priced_sweep_custom/sweeps/nwqxajsa</a>"
      ],
      "text/plain": [
       "<IPython.core.display.HTML object>"
      ]
     },
     "metadata": {},
     "output_type": "display_data"
    },
    {
     "name": "stderr",
     "output_type": "stream",
     "text": [
      "  0%|          | 0/100 [00:00<?, ?it/s]"
     ]
    },
    {
     "name": "stdout",
     "output_type": "stream",
     "text": [
      "{'batch_size': 64, 'dropout': 0.4, 'epochs': 100, 'f1_layer_size': 32, 'f2_layer_size': 32, 'l1_beta': 0.9757202562195318, 'learning_rate': 0.0007367831275483849, 'loss': 'l1_custom', 'num_layers': 2, 'optimizer': 'adam', 'validation_split': 0.1}\n",
      "100\n",
      "{'batch_size': 64, 'dropout': 0.4, 'epochs': 100, 'f1_layer_size': 32, 'f2_layer_size': 32, 'l1_beta': 0.9757202562195318, 'learning_rate': 0.0007367831275483849, 'loss': 'l1_custom', 'num_layers': 2, 'optimizer': 'adam', 'validation_split': 0.1}\n",
      "Sequential(\n",
      "  (0): Linear(in_features=120, out_features=32, bias=True)\n",
      "  (1): ReLU()\n",
      "  (2): Dropout(p=0.4, inplace=False)\n",
      "  (3): Linear(in_features=32, out_features=32, bias=True)\n",
      "  (4): ReLU()\n",
      "  (5): Dropout(p=0.4, inplace=False)\n",
      "  (6): Linear(in_features=32, out_features=8, bias=True)\n",
      "  (7): Softmax(dim=1)\n",
      ")\n"
     ]
    },
    {
     "name": "stderr",
     "output_type": "stream",
     "text": [
      "  1%|          | 1/100 [00:13<22:44, 13.78s/it]"
     ]
    },
    {
     "name": "stdout",
     "output_type": "stream",
     "text": [
      "created path\n"
     ]
    },
    {
     "name": "stderr",
     "output_type": "stream",
     "text": [
      "100%|██████████| 100/100 [08:02<00:00,  4.82s/it]\n"
     ]
    },
    {
     "name": "stdout",
     "output_type": "stream",
     "text": [
      "\n"
     ]
    },
    {
     "data": {
      "text/html": [
       "Waiting for W&B process to finish... <strong style=\"color:green\">(success).</strong>"
      ],
      "text/plain": [
       "<IPython.core.display.HTML object>"
      ]
     },
     "metadata": {},
     "output_type": "display_data"
    },
    {
     "data": {
      "application/vnd.jupyter.widget-view+json": {
       "model_id": "85f63385a0394388978403120f6627a1",
       "version_major": 2,
       "version_minor": 0
      },
      "text/plain": [
       "VBox(children=(Label(value='0.001 MB of 0.001 MB uploaded (0.000 MB deduped)\\r'), FloatProgress(value=1.0, max…"
      ]
     },
     "metadata": {},
     "output_type": "display_data"
    },
    {
     "data": {
      "text/html": [
       "<style>\n",
       "    table.wandb td:nth-child(1) { padding: 0 10px; text-align: right }\n",
       "    .wandb-row { display: flex; flex-direction: row; flex-wrap: wrap; width: 100% }\n",
       "    .wandb-col { display: flex; flex-direction: column; flex-basis: 100%; flex: 1; padding: 10px; }\n",
       "    </style>\n",
       "<div class=\"wandb-row\"><div class=\"wandb-col\"><h3>Run history:</h3><br/><table class=\"wandb\"><tr><td>bfnotavail</td><td>▁▃▄▅▅▅▅▆▆█</td></tr><tr><td>bfprofit</td><td>▁▄▄▃▂▅▃█▃▅</td></tr><tr><td>correct_conf</td><td>▁▆▇▆▆▆▇▆██</td></tr><tr><td>epoch</td><td>▁▁▁▁▂▂▂▂▂▃▃▃▃▃▃▄▄▄▄▄▅▅▅▅▅▅▆▆▆▆▆▇▇▇▇▇▇███</td></tr><tr><td>incorrect_conf</td><td>▁▆█▆▆▅▆▆██</td></tr><tr><td>loss</td><td>█▂▂▄▃▄▄▄▂▂▄▅▂▄▅▃▃▃▅▅▃▄▂▁▅▄▁▄▆▆▅▄▃▃▂▂▃▆▄▄</td></tr><tr><td>num_bets_per</td><td>▁▇▅▇▆█▇▆▅▇</td></tr><tr><td>profit</td><td>▁▂▄▃▁▅▂█▃▅</td></tr><tr><td>test_accuracy</td><td>▁▄▅▆▆▆▅▇▆█</td></tr><tr><td>value_pick_roi</td><td>▁█▇▆██▆▃▅▅</td></tr></table><br/></div><div class=\"wandb-col\"><h3>Run summary:</h3><br/><table class=\"wandb\"><tr><td>bfnotavail</td><td>816</td></tr><tr><td>correct_conf</td><td>0.2267</td></tr><tr><td>epoch</td><td>99</td></tr><tr><td>incorrect_conf</td><td>0.20468</td></tr><tr><td>num_bets_per</td><td>4.17884</td></tr><tr><td>profit</td><td>-847.02</td></tr><tr><td>value_pick_roi</td><td>-0.27402</td></tr></table><br/></div></div>"
      ],
      "text/plain": [
       "<IPython.core.display.HTML object>"
      ]
     },
     "metadata": {},
     "output_type": "display_data"
    },
    {
     "data": {
      "text/html": [
       "Synced <strong style=\"color:#cdcd00\">fancy-sweep-24</strong>: <a href=\"https://wandb.ai/nickojelly/grv_priced_sweep_custom/runs/40sai1b0\" target=\"_blank\">https://wandb.ai/nickojelly/grv_priced_sweep_custom/runs/40sai1b0</a><br/>Synced 5 W&B file(s), 0 media file(s), 0 artifact file(s) and 0 other file(s)"
      ],
      "text/plain": [
       "<IPython.core.display.HTML object>"
      ]
     },
     "metadata": {},
     "output_type": "display_data"
    },
    {
     "data": {
      "text/html": [
       "Find logs at: <code>.\\wandb\\run-20220825_065615-40sai1b0\\logs</code>"
      ],
      "text/plain": [
       "<IPython.core.display.HTML object>"
      ]
     },
     "metadata": {},
     "output_type": "display_data"
    },
    {
     "name": "stderr",
     "output_type": "stream",
     "text": [
      "\u001b[34m\u001b[1mwandb\u001b[0m: Agent Starting Run: 7tukkta9 with config:\n",
      "\u001b[34m\u001b[1mwandb\u001b[0m: \tbatch_size: 64\n",
      "\u001b[34m\u001b[1mwandb\u001b[0m: \tdropout: 0.5\n",
      "\u001b[34m\u001b[1mwandb\u001b[0m: \tepochs: 100\n",
      "\u001b[34m\u001b[1mwandb\u001b[0m: \tf1_layer_size: 256\n",
      "\u001b[34m\u001b[1mwandb\u001b[0m: \tf2_layer_size: 64\n",
      "\u001b[34m\u001b[1mwandb\u001b[0m: \tl1_beta: 0.7411553524065958\n",
      "\u001b[34m\u001b[1mwandb\u001b[0m: \tlearning_rate: 0.00046169266480584295\n",
      "\u001b[34m\u001b[1mwandb\u001b[0m: \tloss: l1_custom\n",
      "\u001b[34m\u001b[1mwandb\u001b[0m: \tnum_layers: 2\n",
      "\u001b[34m\u001b[1mwandb\u001b[0m: \toptimizer: adam\n",
      "\u001b[34m\u001b[1mwandb\u001b[0m: \tvalidation_split: 0.1\n",
      "Failed to detect the name of this notebook, you can set it manually with the WANDB_NOTEBOOK_NAME environment variable to enable code saving.\n",
      "\u001b[34m\u001b[1mwandb\u001b[0m: \u001b[33mWARNING\u001b[0m Ignored wandb.init() arg project when running a sweep.\n"
     ]
    },
    {
     "data": {
      "text/html": [
       "wandb version 0.13.2 is available!  To upgrade, please run:\n",
       " $ pip install wandb --upgrade"
      ],
      "text/plain": [
       "<IPython.core.display.HTML object>"
      ]
     },
     "metadata": {},
     "output_type": "display_data"
    },
    {
     "data": {
      "text/html": [
       "Tracking run with wandb version 0.12.14"
      ],
      "text/plain": [
       "<IPython.core.display.HTML object>"
      ]
     },
     "metadata": {},
     "output_type": "display_data"
    },
    {
     "data": {
      "text/html": [
       "Run data is saved locally in <code>c:\\Users\\Nick\\Documents\\GitHub\\grvmodel\\Python\\pytorch\\New Model\\wandb\\run-20220825_070430-7tukkta9</code>"
      ],
      "text/plain": [
       "<IPython.core.display.HTML object>"
      ]
     },
     "metadata": {},
     "output_type": "display_data"
    },
    {
     "data": {
      "text/html": [
       "Syncing run <strong><a href=\"https://wandb.ai/nickojelly/grv_priced_sweep_custom/runs/7tukkta9\" target=\"_blank\">solar-sweep-25</a></strong> to <a href=\"https://wandb.ai/nickojelly/grv_priced_sweep_custom\" target=\"_blank\">Weights & Biases</a> (<a href=\"https://wandb.me/run\" target=\"_blank\">docs</a>)<br/>Sweep page:  <a href=\"https://wandb.ai/nickojelly/grv_priced_sweep_custom/sweeps/nwqxajsa\" target=\"_blank\">https://wandb.ai/nickojelly/grv_priced_sweep_custom/sweeps/nwqxajsa</a>"
      ],
      "text/plain": [
       "<IPython.core.display.HTML object>"
      ]
     },
     "metadata": {},
     "output_type": "display_data"
    },
    {
     "name": "stderr",
     "output_type": "stream",
     "text": [
      "  0%|          | 0/100 [00:00<?, ?it/s]"
     ]
    },
    {
     "name": "stdout",
     "output_type": "stream",
     "text": [
      "{'batch_size': 64, 'dropout': 0.5, 'epochs': 100, 'f1_layer_size': 256, 'f2_layer_size': 64, 'l1_beta': 0.7411553524065958, 'learning_rate': 0.00046169266480584295, 'loss': 'l1_custom', 'num_layers': 2, 'optimizer': 'adam', 'validation_split': 0.1}\n",
      "100\n",
      "{'batch_size': 64, 'dropout': 0.5, 'epochs': 100, 'f1_layer_size': 256, 'f2_layer_size': 64, 'l1_beta': 0.7411553524065958, 'learning_rate': 0.00046169266480584295, 'loss': 'l1_custom', 'num_layers': 2, 'optimizer': 'adam', 'validation_split': 0.1}\n",
      "Sequential(\n",
      "  (0): Linear(in_features=120, out_features=256, bias=True)\n",
      "  (1): ReLU()\n",
      "  (2): Dropout(p=0.5, inplace=False)\n",
      "  (3): Linear(in_features=256, out_features=64, bias=True)\n",
      "  (4): ReLU()\n",
      "  (5): Dropout(p=0.5, inplace=False)\n",
      "  (6): Linear(in_features=64, out_features=8, bias=True)\n",
      "  (7): Softmax(dim=1)\n",
      ")\n"
     ]
    },
    {
     "name": "stderr",
     "output_type": "stream",
     "text": [
      "  1%|          | 1/100 [00:14<24:07, 14.62s/it]"
     ]
    },
    {
     "name": "stdout",
     "output_type": "stream",
     "text": [
      "created path\n"
     ]
    },
    {
     "name": "stderr",
     "output_type": "stream",
     "text": [
      "100%|██████████| 100/100 [08:23<00:00,  5.04s/it]\n"
     ]
    },
    {
     "name": "stdout",
     "output_type": "stream",
     "text": [
      "\n"
     ]
    },
    {
     "data": {
      "text/html": [
       "Waiting for W&B process to finish... <strong style=\"color:green\">(success).</strong>"
      ],
      "text/plain": [
       "<IPython.core.display.HTML object>"
      ]
     },
     "metadata": {},
     "output_type": "display_data"
    },
    {
     "data": {
      "application/vnd.jupyter.widget-view+json": {
       "model_id": "bb2f470ed12a46e49132013346ad6eca",
       "version_major": 2,
       "version_minor": 0
      },
      "text/plain": [
       "VBox(children=(Label(value='0.001 MB of 0.001 MB uploaded (0.000 MB deduped)\\r'), FloatProgress(value=1.0, max…"
      ]
     },
     "metadata": {},
     "output_type": "display_data"
    },
    {
     "data": {
      "text/html": [
       "<style>\n",
       "    table.wandb td:nth-child(1) { padding: 0 10px; text-align: right }\n",
       "    .wandb-row { display: flex; flex-direction: row; flex-wrap: wrap; width: 100% }\n",
       "    .wandb-col { display: flex; flex-direction: column; flex-basis: 100%; flex: 1; padding: 10px; }\n",
       "    </style>\n",
       "<div class=\"wandb-row\"><div class=\"wandb-col\"><h3>Run history:</h3><br/><table class=\"wandb\"><tr><td>bfnotavail</td><td>█▁▁▁▁▁▁▁▁▁</td></tr><tr><td>bfprofit</td><td>█▁▁▁▁▁▁▁▁▁</td></tr><tr><td>correct_conf</td><td>▁█████▇▇██</td></tr><tr><td>epoch</td><td>▁▁▁▁▂▂▂▂▂▃▃▃▃▃▃▄▄▄▄▄▅▅▅▅▅▅▆▆▆▆▆▇▇▇▇▇▇███</td></tr><tr><td>incorrect_conf</td><td>▁█████▇▇██</td></tr><tr><td>loss</td><td>▄▁▅▄▅▆▄▄▆▆▃▃▅█▄▃▂▂▂▄▃▄██▃▅▆▅▄▄▅▇▆▄▆▃▆▆▅▅</td></tr><tr><td>num_bets_per</td><td>▄▃▁▄▁▃▁▆▇█</td></tr><tr><td>profit</td><td>▁█████████</td></tr><tr><td>test_accuracy</td><td>▁█████████</td></tr><tr><td>value_pick_roi</td><td>▂█▆▅▆█▁▆██</td></tr></table><br/></div><div class=\"wandb-col\"><h3>Run summary:</h3><br/><table class=\"wandb\"><tr><td>bfnotavail</td><td>533</td></tr><tr><td>correct_conf</td><td>0.15238</td></tr><tr><td>epoch</td><td>99</td></tr><tr><td>incorrect_conf</td><td>0.15239</td></tr><tr><td>num_bets_per</td><td>4.05349</td></tr><tr><td>profit</td><td>-1286.70001</td></tr><tr><td>value_pick_roi</td><td>-0.28024</td></tr></table><br/></div></div>"
      ],
      "text/plain": [
       "<IPython.core.display.HTML object>"
      ]
     },
     "metadata": {},
     "output_type": "display_data"
    },
    {
     "data": {
      "text/html": [
       "Synced <strong style=\"color:#cdcd00\">solar-sweep-25</strong>: <a href=\"https://wandb.ai/nickojelly/grv_priced_sweep_custom/runs/7tukkta9\" target=\"_blank\">https://wandb.ai/nickojelly/grv_priced_sweep_custom/runs/7tukkta9</a><br/>Synced 5 W&B file(s), 0 media file(s), 0 artifact file(s) and 0 other file(s)"
      ],
      "text/plain": [
       "<IPython.core.display.HTML object>"
      ]
     },
     "metadata": {},
     "output_type": "display_data"
    },
    {
     "data": {
      "text/html": [
       "Find logs at: <code>.\\wandb\\run-20220825_070430-7tukkta9\\logs</code>"
      ],
      "text/plain": [
       "<IPython.core.display.HTML object>"
      ]
     },
     "metadata": {},
     "output_type": "display_data"
    },
    {
     "name": "stderr",
     "output_type": "stream",
     "text": [
      "\u001b[34m\u001b[1mwandb\u001b[0m: Sweep Agent: Waiting for job.\n",
      "\u001b[34m\u001b[1mwandb\u001b[0m: Job received.\n",
      "\u001b[34m\u001b[1mwandb\u001b[0m: Agent Starting Run: uo613crt with config:\n",
      "\u001b[34m\u001b[1mwandb\u001b[0m: \tbatch_size: 128\n",
      "\u001b[34m\u001b[1mwandb\u001b[0m: \tdropout: 0.4\n",
      "\u001b[34m\u001b[1mwandb\u001b[0m: \tepochs: 100\n",
      "\u001b[34m\u001b[1mwandb\u001b[0m: \tf1_layer_size: 64\n",
      "\u001b[34m\u001b[1mwandb\u001b[0m: \tf2_layer_size: 128\n",
      "\u001b[34m\u001b[1mwandb\u001b[0m: \tl1_beta: 0.8327816393314312\n",
      "\u001b[34m\u001b[1mwandb\u001b[0m: \tlearning_rate: 0.00018733852052291695\n",
      "\u001b[34m\u001b[1mwandb\u001b[0m: \tloss: l1_custom\n",
      "\u001b[34m\u001b[1mwandb\u001b[0m: \tnum_layers: 2\n",
      "\u001b[34m\u001b[1mwandb\u001b[0m: \toptimizer: adam\n",
      "\u001b[34m\u001b[1mwandb\u001b[0m: \tvalidation_split: 0.1\n",
      "Failed to detect the name of this notebook, you can set it manually with the WANDB_NOTEBOOK_NAME environment variable to enable code saving.\n",
      "\u001b[34m\u001b[1mwandb\u001b[0m: \u001b[33mWARNING\u001b[0m Ignored wandb.init() arg project when running a sweep.\n"
     ]
    },
    {
     "data": {
      "text/html": [
       "wandb version 0.13.2 is available!  To upgrade, please run:\n",
       " $ pip install wandb --upgrade"
      ],
      "text/plain": [
       "<IPython.core.display.HTML object>"
      ]
     },
     "metadata": {},
     "output_type": "display_data"
    },
    {
     "data": {
      "text/html": [
       "Tracking run with wandb version 0.12.14"
      ],
      "text/plain": [
       "<IPython.core.display.HTML object>"
      ]
     },
     "metadata": {},
     "output_type": "display_data"
    },
    {
     "data": {
      "text/html": [
       "Run data is saved locally in <code>c:\\Users\\Nick\\Documents\\GitHub\\grvmodel\\Python\\pytorch\\New Model\\wandb\\run-20220825_071312-uo613crt</code>"
      ],
      "text/plain": [
       "<IPython.core.display.HTML object>"
      ]
     },
     "metadata": {},
     "output_type": "display_data"
    },
    {
     "data": {
      "text/html": [
       "Syncing run <strong><a href=\"https://wandb.ai/nickojelly/grv_priced_sweep_custom/runs/uo613crt\" target=\"_blank\">summer-sweep-26</a></strong> to <a href=\"https://wandb.ai/nickojelly/grv_priced_sweep_custom\" target=\"_blank\">Weights & Biases</a> (<a href=\"https://wandb.me/run\" target=\"_blank\">docs</a>)<br/>Sweep page:  <a href=\"https://wandb.ai/nickojelly/grv_priced_sweep_custom/sweeps/nwqxajsa\" target=\"_blank\">https://wandb.ai/nickojelly/grv_priced_sweep_custom/sweeps/nwqxajsa</a>"
      ],
      "text/plain": [
       "<IPython.core.display.HTML object>"
      ]
     },
     "metadata": {},
     "output_type": "display_data"
    },
    {
     "name": "stderr",
     "output_type": "stream",
     "text": [
      "  0%|          | 0/100 [00:00<?, ?it/s]"
     ]
    },
    {
     "name": "stdout",
     "output_type": "stream",
     "text": [
      "{'batch_size': 128, 'dropout': 0.4, 'epochs': 100, 'f1_layer_size': 64, 'f2_layer_size': 128, 'l1_beta': 0.8327816393314312, 'learning_rate': 0.00018733852052291695, 'loss': 'l1_custom', 'num_layers': 2, 'optimizer': 'adam', 'validation_split': 0.1}\n",
      "100\n",
      "{'batch_size': 128, 'dropout': 0.4, 'epochs': 100, 'f1_layer_size': 64, 'f2_layer_size': 128, 'l1_beta': 0.8327816393314312, 'learning_rate': 0.00018733852052291695, 'loss': 'l1_custom', 'num_layers': 2, 'optimizer': 'adam', 'validation_split': 0.1}\n",
      "Sequential(\n",
      "  (0): Linear(in_features=120, out_features=64, bias=True)\n",
      "  (1): ReLU()\n",
      "  (2): Dropout(p=0.4, inplace=False)\n",
      "  (3): Linear(in_features=64, out_features=128, bias=True)\n",
      "  (4): ReLU()\n",
      "  (5): Dropout(p=0.4, inplace=False)\n",
      "  (6): Linear(in_features=128, out_features=8, bias=True)\n",
      "  (7): Softmax(dim=1)\n",
      ")\n"
     ]
    },
    {
     "name": "stderr",
     "output_type": "stream",
     "text": [
      "  1%|          | 1/100 [00:13<22:23, 13.57s/it]"
     ]
    },
    {
     "name": "stdout",
     "output_type": "stream",
     "text": [
      "created path\n"
     ]
    },
    {
     "name": "stderr",
     "output_type": "stream",
     "text": [
      "100%|██████████| 100/100 [05:56<00:00,  3.56s/it]\n"
     ]
    },
    {
     "name": "stdout",
     "output_type": "stream",
     "text": [
      "\n"
     ]
    },
    {
     "data": {
      "text/html": [
       "Waiting for W&B process to finish... <strong style=\"color:green\">(success).</strong>"
      ],
      "text/plain": [
       "<IPython.core.display.HTML object>"
      ]
     },
     "metadata": {},
     "output_type": "display_data"
    },
    {
     "data": {
      "application/vnd.jupyter.widget-view+json": {
       "model_id": "a819d4e80f234990a6f56fe0c1c0a0e5",
       "version_major": 2,
       "version_minor": 0
      },
      "text/plain": [
       "VBox(children=(Label(value='0.001 MB of 0.001 MB uploaded (0.000 MB deduped)\\r'), FloatProgress(value=1.0, max…"
      ]
     },
     "metadata": {},
     "output_type": "display_data"
    },
    {
     "data": {
      "text/html": [
       "<style>\n",
       "    table.wandb td:nth-child(1) { padding: 0 10px; text-align: right }\n",
       "    .wandb-row { display: flex; flex-direction: row; flex-wrap: wrap; width: 100% }\n",
       "    .wandb-col { display: flex; flex-direction: column; flex-basis: 100%; flex: 1; padding: 10px; }\n",
       "    </style>\n",
       "<div class=\"wandb-row\"><div class=\"wandb-col\"><h3>Run history:</h3><br/><table class=\"wandb\"><tr><td>bfnotavail</td><td>▁▇███████▇</td></tr><tr><td>bfprofit</td><td>▁▄█▆▅▇▅▇▇▇</td></tr><tr><td>correct_conf</td><td>▁▆▆▇▇▇▇███</td></tr><tr><td>epoch</td><td>▁▁▁▁▂▂▂▂▂▃▃▃▃▃▃▄▄▄▄▄▅▅▅▅▅▅▆▆▆▆▆▇▇▇▇▇▇███</td></tr><tr><td>incorrect_conf</td><td>▁▆▆▇▇▇▇███</td></tr><tr><td>loss</td><td>█▅▅▅▄▄▄▃▂▅▅▂▄▃▂▃▂▂▃▄▄▄▄▅▃▄▄▂▁▃▄▃▃▃▃▄▄▄▄▂</td></tr><tr><td>num_bets_per</td><td>█▇▆▄▄▃▄▁▂▁</td></tr><tr><td>profit</td><td>▁▅█▇▆▇▆▇▇▇</td></tr><tr><td>test_accuracy</td><td>▁▇██▇███▇▇</td></tr><tr><td>value_pick_roi</td><td>▁▇▇█████▆▇</td></tr></table><br/></div><div class=\"wandb-col\"><h3>Run summary:</h3><br/><table class=\"wandb\"><tr><td>bfnotavail</td><td>906</td></tr><tr><td>correct_conf</td><td>0.30563</td></tr><tr><td>epoch</td><td>99</td></tr><tr><td>incorrect_conf</td><td>0.27646</td></tr><tr><td>num_bets_per</td><td>3.80188</td></tr><tr><td>profit</td><td>-775.54</td></tr><tr><td>value_pick_roi</td><td>-0.25383</td></tr></table><br/></div></div>"
      ],
      "text/plain": [
       "<IPython.core.display.HTML object>"
      ]
     },
     "metadata": {},
     "output_type": "display_data"
    },
    {
     "data": {
      "text/html": [
       "Synced <strong style=\"color:#cdcd00\">summer-sweep-26</strong>: <a href=\"https://wandb.ai/nickojelly/grv_priced_sweep_custom/runs/uo613crt\" target=\"_blank\">https://wandb.ai/nickojelly/grv_priced_sweep_custom/runs/uo613crt</a><br/>Synced 5 W&B file(s), 0 media file(s), 0 artifact file(s) and 0 other file(s)"
      ],
      "text/plain": [
       "<IPython.core.display.HTML object>"
      ]
     },
     "metadata": {},
     "output_type": "display_data"
    },
    {
     "data": {
      "text/html": [
       "Find logs at: <code>.\\wandb\\run-20220825_071312-uo613crt\\logs</code>"
      ],
      "text/plain": [
       "<IPython.core.display.HTML object>"
      ]
     },
     "metadata": {},
     "output_type": "display_data"
    },
    {
     "name": "stderr",
     "output_type": "stream",
     "text": [
      "\u001b[34m\u001b[1mwandb\u001b[0m: Agent Starting Run: rdzom26p with config:\n",
      "\u001b[34m\u001b[1mwandb\u001b[0m: \tbatch_size: 720\n",
      "\u001b[34m\u001b[1mwandb\u001b[0m: \tdropout: 0.4\n",
      "\u001b[34m\u001b[1mwandb\u001b[0m: \tepochs: 100\n",
      "\u001b[34m\u001b[1mwandb\u001b[0m: \tf1_layer_size: 32\n",
      "\u001b[34m\u001b[1mwandb\u001b[0m: \tf2_layer_size: 64\n",
      "\u001b[34m\u001b[1mwandb\u001b[0m: \tl1_beta: 0.269937775336589\n",
      "\u001b[34m\u001b[1mwandb\u001b[0m: \tlearning_rate: 0.0006891914088508795\n",
      "\u001b[34m\u001b[1mwandb\u001b[0m: \tloss: l1_custom\n",
      "\u001b[34m\u001b[1mwandb\u001b[0m: \tnum_layers: 2\n",
      "\u001b[34m\u001b[1mwandb\u001b[0m: \toptimizer: adam\n",
      "\u001b[34m\u001b[1mwandb\u001b[0m: \tvalidation_split: 0.1\n",
      "Failed to detect the name of this notebook, you can set it manually with the WANDB_NOTEBOOK_NAME environment variable to enable code saving.\n",
      "\u001b[34m\u001b[1mwandb\u001b[0m: \u001b[33mWARNING\u001b[0m Ignored wandb.init() arg project when running a sweep.\n"
     ]
    },
    {
     "data": {
      "text/html": [
       "wandb version 0.13.2 is available!  To upgrade, please run:\n",
       " $ pip install wandb --upgrade"
      ],
      "text/plain": [
       "<IPython.core.display.HTML object>"
      ]
     },
     "metadata": {},
     "output_type": "display_data"
    },
    {
     "data": {
      "text/html": [
       "Tracking run with wandb version 0.12.14"
      ],
      "text/plain": [
       "<IPython.core.display.HTML object>"
      ]
     },
     "metadata": {},
     "output_type": "display_data"
    },
    {
     "data": {
      "text/html": [
       "Run data is saved locally in <code>c:\\Users\\Nick\\Documents\\GitHub\\grvmodel\\Python\\pytorch\\New Model\\wandb\\run-20220825_071917-rdzom26p</code>"
      ],
      "text/plain": [
       "<IPython.core.display.HTML object>"
      ]
     },
     "metadata": {},
     "output_type": "display_data"
    },
    {
     "data": {
      "text/html": [
       "Syncing run <strong><a href=\"https://wandb.ai/nickojelly/grv_priced_sweep_custom/runs/rdzom26p\" target=\"_blank\">fast-sweep-27</a></strong> to <a href=\"https://wandb.ai/nickojelly/grv_priced_sweep_custom\" target=\"_blank\">Weights & Biases</a> (<a href=\"https://wandb.me/run\" target=\"_blank\">docs</a>)<br/>Sweep page:  <a href=\"https://wandb.ai/nickojelly/grv_priced_sweep_custom/sweeps/nwqxajsa\" target=\"_blank\">https://wandb.ai/nickojelly/grv_priced_sweep_custom/sweeps/nwqxajsa</a>"
      ],
      "text/plain": [
       "<IPython.core.display.HTML object>"
      ]
     },
     "metadata": {},
     "output_type": "display_data"
    },
    {
     "name": "stderr",
     "output_type": "stream",
     "text": [
      "  0%|          | 0/100 [00:00<?, ?it/s]"
     ]
    },
    {
     "name": "stdout",
     "output_type": "stream",
     "text": [
      "{'batch_size': 720, 'dropout': 0.4, 'epochs': 100, 'f1_layer_size': 32, 'f2_layer_size': 64, 'l1_beta': 0.269937775336589, 'learning_rate': 0.0006891914088508795, 'loss': 'l1_custom', 'num_layers': 2, 'optimizer': 'adam', 'validation_split': 0.1}\n",
      "100\n",
      "{'batch_size': 720, 'dropout': 0.4, 'epochs': 100, 'f1_layer_size': 32, 'f2_layer_size': 64, 'l1_beta': 0.269937775336589, 'learning_rate': 0.0006891914088508795, 'loss': 'l1_custom', 'num_layers': 2, 'optimizer': 'adam', 'validation_split': 0.1}\n",
      "Sequential(\n",
      "  (0): Linear(in_features=120, out_features=32, bias=True)\n",
      "  (1): ReLU()\n",
      "  (2): Dropout(p=0.4, inplace=False)\n",
      "  (3): Linear(in_features=32, out_features=64, bias=True)\n",
      "  (4): ReLU()\n",
      "  (5): Dropout(p=0.4, inplace=False)\n",
      "  (6): Linear(in_features=64, out_features=8, bias=True)\n",
      "  (7): Softmax(dim=1)\n",
      ")\n"
     ]
    },
    {
     "name": "stderr",
     "output_type": "stream",
     "text": [
      "  1%|          | 1/100 [00:11<18:26, 11.18s/it]"
     ]
    },
    {
     "name": "stdout",
     "output_type": "stream",
     "text": [
      "created path\n"
     ]
    },
    {
     "name": "stderr",
     "output_type": "stream",
     "text": [
      "100%|██████████| 100/100 [04:13<00:00,  2.53s/it]\n"
     ]
    },
    {
     "name": "stdout",
     "output_type": "stream",
     "text": [
      "\n"
     ]
    },
    {
     "data": {
      "text/html": [
       "Waiting for W&B process to finish... <strong style=\"color:green\">(success).</strong>"
      ],
      "text/plain": [
       "<IPython.core.display.HTML object>"
      ]
     },
     "metadata": {},
     "output_type": "display_data"
    },
    {
     "data": {
      "application/vnd.jupyter.widget-view+json": {
       "model_id": "3b63c6a143504e01acec972ff446a89f",
       "version_major": 2,
       "version_minor": 0
      },
      "text/plain": [
       "VBox(children=(Label(value='0.001 MB of 0.001 MB uploaded (0.000 MB deduped)\\r'), FloatProgress(value=1.0, max…"
      ]
     },
     "metadata": {},
     "output_type": "display_data"
    },
    {
     "data": {
      "text/html": [
       "<style>\n",
       "    table.wandb td:nth-child(1) { padding: 0 10px; text-align: right }\n",
       "    .wandb-row { display: flex; flex-direction: row; flex-wrap: wrap; width: 100% }\n",
       "    .wandb-col { display: flex; flex-direction: column; flex-basis: 100%; flex: 1; padding: 10px; }\n",
       "    </style>\n",
       "<div class=\"wandb-row\"><div class=\"wandb-col\"><h3>Run history:</h3><br/><table class=\"wandb\"><tr><td>bfnotavail</td><td>▂▁▃▅▅▇█▇█▇</td></tr><tr><td>bfprofit</td><td>▁▃▄▄▄▄▆▅▇█</td></tr><tr><td>correct_conf</td><td>▁▆▇█▇██▇██</td></tr><tr><td>epoch</td><td>▁▁▁▂▂▂▂▃▃▃▃▃▄▄▄▄▅▅▅▅▅▆▆▆▆▆▇▇▇▇███</td></tr><tr><td>incorrect_conf</td><td>▁▇███▇█▇██</td></tr><tr><td>loss</td><td>█▃▂▂▃▂▂▃▂▃▄▂▁▂▃▂▃▂▁▃▂▂▂▂▂▂▂▁▂▂▂▃▁</td></tr><tr><td>num_bets_per</td><td>█▆▄▂▁▂▂▄▂▂</td></tr><tr><td>profit</td><td>▁▃▄▄▅▅▆▆██</td></tr><tr><td>test_accuracy</td><td>▁▃▅▆▆▇█▇██</td></tr><tr><td>value_pick_roi</td><td>▁▄▄▃▂▃▇▅█▃</td></tr></table><br/></div><div class=\"wandb-col\"><h3>Run summary:</h3><br/><table class=\"wandb\"><tr><td>bfnotavail</td><td>612</td></tr><tr><td>correct_conf</td><td>0.2903</td></tr><tr><td>epoch</td><td>98</td></tr><tr><td>incorrect_conf</td><td>0.29643</td></tr><tr><td>num_bets_per</td><td>3.80502</td></tr><tr><td>profit</td><td>-920.58</td></tr><tr><td>value_pick_roi</td><td>-0.2787</td></tr></table><br/></div></div>"
      ],
      "text/plain": [
       "<IPython.core.display.HTML object>"
      ]
     },
     "metadata": {},
     "output_type": "display_data"
    },
    {
     "data": {
      "text/html": [
       "Synced <strong style=\"color:#cdcd00\">fast-sweep-27</strong>: <a href=\"https://wandb.ai/nickojelly/grv_priced_sweep_custom/runs/rdzom26p\" target=\"_blank\">https://wandb.ai/nickojelly/grv_priced_sweep_custom/runs/rdzom26p</a><br/>Synced 5 W&B file(s), 0 media file(s), 0 artifact file(s) and 0 other file(s)"
      ],
      "text/plain": [
       "<IPython.core.display.HTML object>"
      ]
     },
     "metadata": {},
     "output_type": "display_data"
    },
    {
     "data": {
      "text/html": [
       "Find logs at: <code>.\\wandb\\run-20220825_071917-rdzom26p\\logs</code>"
      ],
      "text/plain": [
       "<IPython.core.display.HTML object>"
      ]
     },
     "metadata": {},
     "output_type": "display_data"
    },
    {
     "name": "stderr",
     "output_type": "stream",
     "text": [
      "\u001b[34m\u001b[1mwandb\u001b[0m: Agent Starting Run: 7h8upces with config:\n",
      "\u001b[34m\u001b[1mwandb\u001b[0m: \tbatch_size: 128\n",
      "\u001b[34m\u001b[1mwandb\u001b[0m: \tdropout: 0.5\n",
      "\u001b[34m\u001b[1mwandb\u001b[0m: \tepochs: 100\n",
      "\u001b[34m\u001b[1mwandb\u001b[0m: \tf1_layer_size: 128\n",
      "\u001b[34m\u001b[1mwandb\u001b[0m: \tf2_layer_size: 256\n",
      "\u001b[34m\u001b[1mwandb\u001b[0m: \tl1_beta: 0.9350023247041208\n",
      "\u001b[34m\u001b[1mwandb\u001b[0m: \tlearning_rate: 0.0008944552626466122\n",
      "\u001b[34m\u001b[1mwandb\u001b[0m: \tloss: l1_custom\n",
      "\u001b[34m\u001b[1mwandb\u001b[0m: \tnum_layers: 2\n",
      "\u001b[34m\u001b[1mwandb\u001b[0m: \toptimizer: adam\n",
      "\u001b[34m\u001b[1mwandb\u001b[0m: \tvalidation_split: 0.1\n",
      "Failed to detect the name of this notebook, you can set it manually with the WANDB_NOTEBOOK_NAME environment variable to enable code saving.\n",
      "\u001b[34m\u001b[1mwandb\u001b[0m: \u001b[33mWARNING\u001b[0m Ignored wandb.init() arg project when running a sweep.\n"
     ]
    },
    {
     "data": {
      "text/html": [
       "wandb version 0.13.2 is available!  To upgrade, please run:\n",
       " $ pip install wandb --upgrade"
      ],
      "text/plain": [
       "<IPython.core.display.HTML object>"
      ]
     },
     "metadata": {},
     "output_type": "display_data"
    },
    {
     "data": {
      "text/html": [
       "Tracking run with wandb version 0.12.14"
      ],
      "text/plain": [
       "<IPython.core.display.HTML object>"
      ]
     },
     "metadata": {},
     "output_type": "display_data"
    },
    {
     "data": {
      "text/html": [
       "Run data is saved locally in <code>c:\\Users\\Nick\\Documents\\GitHub\\grvmodel\\Python\\pytorch\\New Model\\wandb\\run-20220825_072341-7h8upces</code>"
      ],
      "text/plain": [
       "<IPython.core.display.HTML object>"
      ]
     },
     "metadata": {},
     "output_type": "display_data"
    },
    {
     "data": {
      "text/html": [
       "Syncing run <strong><a href=\"https://wandb.ai/nickojelly/grv_priced_sweep_custom/runs/7h8upces\" target=\"_blank\">rare-sweep-28</a></strong> to <a href=\"https://wandb.ai/nickojelly/grv_priced_sweep_custom\" target=\"_blank\">Weights & Biases</a> (<a href=\"https://wandb.me/run\" target=\"_blank\">docs</a>)<br/>Sweep page:  <a href=\"https://wandb.ai/nickojelly/grv_priced_sweep_custom/sweeps/nwqxajsa\" target=\"_blank\">https://wandb.ai/nickojelly/grv_priced_sweep_custom/sweeps/nwqxajsa</a>"
      ],
      "text/plain": [
       "<IPython.core.display.HTML object>"
      ]
     },
     "metadata": {},
     "output_type": "display_data"
    },
    {
     "name": "stderr",
     "output_type": "stream",
     "text": [
      "  0%|          | 0/100 [00:00<?, ?it/s]"
     ]
    },
    {
     "name": "stdout",
     "output_type": "stream",
     "text": [
      "{'batch_size': 128, 'dropout': 0.5, 'epochs': 100, 'f1_layer_size': 128, 'f2_layer_size': 256, 'l1_beta': 0.9350023247041208, 'learning_rate': 0.0008944552626466122, 'loss': 'l1_custom', 'num_layers': 2, 'optimizer': 'adam', 'validation_split': 0.1}\n",
      "100\n",
      "{'batch_size': 128, 'dropout': 0.5, 'epochs': 100, 'f1_layer_size': 128, 'f2_layer_size': 256, 'l1_beta': 0.9350023247041208, 'learning_rate': 0.0008944552626466122, 'loss': 'l1_custom', 'num_layers': 2, 'optimizer': 'adam', 'validation_split': 0.1}\n",
      "Sequential(\n",
      "  (0): Linear(in_features=120, out_features=128, bias=True)\n",
      "  (1): ReLU()\n",
      "  (2): Dropout(p=0.5, inplace=False)\n",
      "  (3): Linear(in_features=128, out_features=256, bias=True)\n",
      "  (4): ReLU()\n",
      "  (5): Dropout(p=0.5, inplace=False)\n",
      "  (6): Linear(in_features=256, out_features=8, bias=True)\n",
      "  (7): Softmax(dim=1)\n",
      ")\n"
     ]
    },
    {
     "name": "stderr",
     "output_type": "stream",
     "text": [
      "  1%|          | 1/100 [00:13<22:09, 13.43s/it]"
     ]
    },
    {
     "name": "stdout",
     "output_type": "stream",
     "text": [
      "created path\n"
     ]
    },
    {
     "name": "stderr",
     "output_type": "stream",
     "text": [
      "100%|██████████| 100/100 [06:08<00:00,  3.68s/it]\n"
     ]
    },
    {
     "name": "stdout",
     "output_type": "stream",
     "text": [
      "\n"
     ]
    },
    {
     "data": {
      "text/html": [
       "Waiting for W&B process to finish... <strong style=\"color:green\">(success).</strong>"
      ],
      "text/plain": [
       "<IPython.core.display.HTML object>"
      ]
     },
     "metadata": {},
     "output_type": "display_data"
    },
    {
     "data": {
      "application/vnd.jupyter.widget-view+json": {
       "model_id": "6e5408ed87ab4461802f3f7fdff3e7eb",
       "version_major": 2,
       "version_minor": 0
      },
      "text/plain": [
       "VBox(children=(Label(value='0.001 MB of 0.001 MB uploaded (0.000 MB deduped)\\r'), FloatProgress(value=1.0, max…"
      ]
     },
     "metadata": {},
     "output_type": "display_data"
    },
    {
     "data": {
      "text/html": [
       "<style>\n",
       "    table.wandb td:nth-child(1) { padding: 0 10px; text-align: right }\n",
       "    .wandb-row { display: flex; flex-direction: row; flex-wrap: wrap; width: 100% }\n",
       "    .wandb-col { display: flex; flex-direction: column; flex-basis: 100%; flex: 1; padding: 10px; }\n",
       "    </style>\n",
       "<div class=\"wandb-row\"><div class=\"wandb-col\"><h3>Run history:</h3><br/><table class=\"wandb\"><tr><td>bfnotavail</td><td>▁██▇▇█▇▇▇▇</td></tr><tr><td>bfprofit</td><td>▁█▄▁▄▇▄▄▅▃</td></tr><tr><td>correct_conf</td><td>▁▆▆▆▆▇▇▇██</td></tr><tr><td>epoch</td><td>▁▁▁▁▂▂▂▂▂▃▃▃▃▃▃▄▄▄▄▄▅▅▅▅▅▅▆▆▆▆▆▇▇▇▇▇▇███</td></tr><tr><td>incorrect_conf</td><td>▁▅▆▆▆▆▇▇██</td></tr><tr><td>loss</td><td>█▆▄▆▃▁▄▅▄▄▃▃▄▃▄▂▄▃▄▃▃▃▄▃▄▄▄▃▄▅▃▃▂▂▃▄▃▃▃▃</td></tr><tr><td>num_bets_per</td><td>█▇▅▅▅▄▃▄▁▂</td></tr><tr><td>profit</td><td>▁█▅▃▄▇▄▄▅▄</td></tr><tr><td>test_accuracy</td><td>▁██▇▇█▇▇▇▇</td></tr><tr><td>value_pick_roi</td><td>▁▄▅▅▆█▆██▆</td></tr></table><br/></div><div class=\"wandb-col\"><h3>Run summary:</h3><br/><table class=\"wandb\"><tr><td>bfnotavail</td><td>877</td></tr><tr><td>correct_conf</td><td>0.31406</td></tr><tr><td>epoch</td><td>99</td></tr><tr><td>incorrect_conf</td><td>0.28267</td></tr><tr><td>num_bets_per</td><td>3.73271</td></tr><tr><td>profit</td><td>-1068.44</td></tr><tr><td>value_pick_roi</td><td>-0.25193</td></tr></table><br/></div></div>"
      ],
      "text/plain": [
       "<IPython.core.display.HTML object>"
      ]
     },
     "metadata": {},
     "output_type": "display_data"
    },
    {
     "data": {
      "text/html": [
       "Synced <strong style=\"color:#cdcd00\">rare-sweep-28</strong>: <a href=\"https://wandb.ai/nickojelly/grv_priced_sweep_custom/runs/7h8upces\" target=\"_blank\">https://wandb.ai/nickojelly/grv_priced_sweep_custom/runs/7h8upces</a><br/>Synced 5 W&B file(s), 0 media file(s), 0 artifact file(s) and 0 other file(s)"
      ],
      "text/plain": [
       "<IPython.core.display.HTML object>"
      ]
     },
     "metadata": {},
     "output_type": "display_data"
    },
    {
     "data": {
      "text/html": [
       "Find logs at: <code>.\\wandb\\run-20220825_072341-7h8upces\\logs</code>"
      ],
      "text/plain": [
       "<IPython.core.display.HTML object>"
      ]
     },
     "metadata": {},
     "output_type": "display_data"
    },
    {
     "name": "stderr",
     "output_type": "stream",
     "text": [
      "\u001b[34m\u001b[1mwandb\u001b[0m: Agent Starting Run: tijg85qa with config:\n",
      "\u001b[34m\u001b[1mwandb\u001b[0m: \tbatch_size: 64\n",
      "\u001b[34m\u001b[1mwandb\u001b[0m: \tdropout: 0.4\n",
      "\u001b[34m\u001b[1mwandb\u001b[0m: \tepochs: 100\n",
      "\u001b[34m\u001b[1mwandb\u001b[0m: \tf1_layer_size: 64\n",
      "\u001b[34m\u001b[1mwandb\u001b[0m: \tf2_layer_size: 32\n",
      "\u001b[34m\u001b[1mwandb\u001b[0m: \tl1_beta: 0.3838988102860378\n",
      "\u001b[34m\u001b[1mwandb\u001b[0m: \tlearning_rate: 0.0004795001121420542\n",
      "\u001b[34m\u001b[1mwandb\u001b[0m: \tloss: l1_custom\n",
      "\u001b[34m\u001b[1mwandb\u001b[0m: \tnum_layers: 2\n",
      "\u001b[34m\u001b[1mwandb\u001b[0m: \toptimizer: adam\n",
      "\u001b[34m\u001b[1mwandb\u001b[0m: \tvalidation_split: 0.1\n",
      "Failed to detect the name of this notebook, you can set it manually with the WANDB_NOTEBOOK_NAME environment variable to enable code saving.\n",
      "\u001b[34m\u001b[1mwandb\u001b[0m: \u001b[33mWARNING\u001b[0m Ignored wandb.init() arg project when running a sweep.\n"
     ]
    },
    {
     "data": {
      "text/html": [
       "wandb version 0.13.2 is available!  To upgrade, please run:\n",
       " $ pip install wandb --upgrade"
      ],
      "text/plain": [
       "<IPython.core.display.HTML object>"
      ]
     },
     "metadata": {},
     "output_type": "display_data"
    },
    {
     "data": {
      "text/html": [
       "Tracking run with wandb version 0.12.14"
      ],
      "text/plain": [
       "<IPython.core.display.HTML object>"
      ]
     },
     "metadata": {},
     "output_type": "display_data"
    },
    {
     "data": {
      "text/html": [
       "Run data is saved locally in <code>c:\\Users\\Nick\\Documents\\GitHub\\grvmodel\\Python\\pytorch\\New Model\\wandb\\run-20220825_072958-tijg85qa</code>"
      ],
      "text/plain": [
       "<IPython.core.display.HTML object>"
      ]
     },
     "metadata": {},
     "output_type": "display_data"
    },
    {
     "data": {
      "text/html": [
       "Syncing run <strong><a href=\"https://wandb.ai/nickojelly/grv_priced_sweep_custom/runs/tijg85qa\" target=\"_blank\">youthful-sweep-29</a></strong> to <a href=\"https://wandb.ai/nickojelly/grv_priced_sweep_custom\" target=\"_blank\">Weights & Biases</a> (<a href=\"https://wandb.me/run\" target=\"_blank\">docs</a>)<br/>Sweep page:  <a href=\"https://wandb.ai/nickojelly/grv_priced_sweep_custom/sweeps/nwqxajsa\" target=\"_blank\">https://wandb.ai/nickojelly/grv_priced_sweep_custom/sweeps/nwqxajsa</a>"
      ],
      "text/plain": [
       "<IPython.core.display.HTML object>"
      ]
     },
     "metadata": {},
     "output_type": "display_data"
    },
    {
     "name": "stderr",
     "output_type": "stream",
     "text": [
      "  0%|          | 0/100 [00:00<?, ?it/s]"
     ]
    },
    {
     "name": "stdout",
     "output_type": "stream",
     "text": [
      "{'batch_size': 64, 'dropout': 0.4, 'epochs': 100, 'f1_layer_size': 64, 'f2_layer_size': 32, 'l1_beta': 0.3838988102860378, 'learning_rate': 0.0004795001121420542, 'loss': 'l1_custom', 'num_layers': 2, 'optimizer': 'adam', 'validation_split': 0.1}\n",
      "100\n",
      "{'batch_size': 64, 'dropout': 0.4, 'epochs': 100, 'f1_layer_size': 64, 'f2_layer_size': 32, 'l1_beta': 0.3838988102860378, 'learning_rate': 0.0004795001121420542, 'loss': 'l1_custom', 'num_layers': 2, 'optimizer': 'adam', 'validation_split': 0.1}\n",
      "Sequential(\n",
      "  (0): Linear(in_features=120, out_features=64, bias=True)\n",
      "  (1): ReLU()\n",
      "  (2): Dropout(p=0.4, inplace=False)\n",
      "  (3): Linear(in_features=64, out_features=32, bias=True)\n",
      "  (4): ReLU()\n",
      "  (5): Dropout(p=0.4, inplace=False)\n",
      "  (6): Linear(in_features=32, out_features=8, bias=True)\n",
      "  (7): Softmax(dim=1)\n",
      ")\n"
     ]
    },
    {
     "name": "stderr",
     "output_type": "stream",
     "text": [
      "  1%|          | 1/100 [00:14<23:15, 14.09s/it]"
     ]
    },
    {
     "name": "stdout",
     "output_type": "stream",
     "text": [
      "created path\n"
     ]
    },
    {
     "name": "stderr",
     "output_type": "stream",
     "text": [
      "100%|██████████| 100/100 [08:12<00:00,  4.92s/it]\n"
     ]
    },
    {
     "name": "stdout",
     "output_type": "stream",
     "text": [
      "\n"
     ]
    },
    {
     "data": {
      "text/html": [
       "Waiting for W&B process to finish... <strong style=\"color:green\">(success).</strong>"
      ],
      "text/plain": [
       "<IPython.core.display.HTML object>"
      ]
     },
     "metadata": {},
     "output_type": "display_data"
    },
    {
     "data": {
      "application/vnd.jupyter.widget-view+json": {
       "model_id": "3163cc540ac34341a18b162e78e1d50c",
       "version_major": 2,
       "version_minor": 0
      },
      "text/plain": [
       "VBox(children=(Label(value='0.001 MB of 0.001 MB uploaded (0.000 MB deduped)\\r'), FloatProgress(value=1.0, max…"
      ]
     },
     "metadata": {},
     "output_type": "display_data"
    },
    {
     "data": {
      "text/html": [
       "<style>\n",
       "    table.wandb td:nth-child(1) { padding: 0 10px; text-align: right }\n",
       "    .wandb-row { display: flex; flex-direction: row; flex-wrap: wrap; width: 100% }\n",
       "    .wandb-col { display: flex; flex-direction: column; flex-basis: 100%; flex: 1; padding: 10px; }\n",
       "    </style>\n",
       "<div class=\"wandb-row\"><div class=\"wandb-col\"><h3>Run history:</h3><br/><table class=\"wandb\"><tr><td>bfnotavail</td><td>▁█████████</td></tr><tr><td>bfprofit</td><td>▁█████████</td></tr><tr><td>correct_conf</td><td>▁█▇▇▇▇█▇█▇</td></tr><tr><td>epoch</td><td>▁▁▁▁▂▂▂▂▂▃▃▃▃▃▃▄▄▄▄▄▅▅▅▅▅▅▆▆▆▆▆▇▇▇▇▇▇███</td></tr><tr><td>incorrect_conf</td><td>▁█▇▇▇▇█▇█▇</td></tr><tr><td>loss</td><td>▄▃▅▄▄▅▂▄▅▂▆▆▄▁▆▃▄▅▂▄▆▃▃▄▆▄▄▅█▄▃▅▄▄▆▃▃▂▄▁</td></tr><tr><td>num_bets_per</td><td>█▁▄▄▃▃▃▃▃▄</td></tr><tr><td>profit</td><td>█▁▁▁▁▁▁▁▁▁</td></tr><tr><td>test_accuracy</td><td>█▁▁▁▁▁▁▁▁▁</td></tr><tr><td>value_pick_roi</td><td>▁▆▄█▆▆▅▅▅▅</td></tr></table><br/></div><div class=\"wandb-col\"><h3>Run summary:</h3><br/><table class=\"wandb\"><tr><td>bfnotavail</td><td>558</td></tr><tr><td>correct_conf</td><td>0.1539</td></tr><tr><td>epoch</td><td>99</td></tr><tr><td>incorrect_conf</td><td>0.15389</td></tr><tr><td>num_bets_per</td><td>4.04467</td></tr><tr><td>profit</td><td>-1290.75999</td></tr><tr><td>value_pick_roi</td><td>-0.2845</td></tr></table><br/></div></div>"
      ],
      "text/plain": [
       "<IPython.core.display.HTML object>"
      ]
     },
     "metadata": {},
     "output_type": "display_data"
    },
    {
     "data": {
      "text/html": [
       "Synced <strong style=\"color:#cdcd00\">youthful-sweep-29</strong>: <a href=\"https://wandb.ai/nickojelly/grv_priced_sweep_custom/runs/tijg85qa\" target=\"_blank\">https://wandb.ai/nickojelly/grv_priced_sweep_custom/runs/tijg85qa</a><br/>Synced 5 W&B file(s), 0 media file(s), 0 artifact file(s) and 0 other file(s)"
      ],
      "text/plain": [
       "<IPython.core.display.HTML object>"
      ]
     },
     "metadata": {},
     "output_type": "display_data"
    },
    {
     "data": {
      "text/html": [
       "Find logs at: <code>.\\wandb\\run-20220825_072958-tijg85qa\\logs</code>"
      ],
      "text/plain": [
       "<IPython.core.display.HTML object>"
      ]
     },
     "metadata": {},
     "output_type": "display_data"
    },
    {
     "name": "stderr",
     "output_type": "stream",
     "text": [
      "\u001b[34m\u001b[1mwandb\u001b[0m: Agent Starting Run: ilezxhon with config:\n",
      "\u001b[34m\u001b[1mwandb\u001b[0m: \tbatch_size: 128\n",
      "\u001b[34m\u001b[1mwandb\u001b[0m: \tdropout: 0.4\n",
      "\u001b[34m\u001b[1mwandb\u001b[0m: \tepochs: 100\n",
      "\u001b[34m\u001b[1mwandb\u001b[0m: \tf1_layer_size: 128\n",
      "\u001b[34m\u001b[1mwandb\u001b[0m: \tf2_layer_size: 128\n",
      "\u001b[34m\u001b[1mwandb\u001b[0m: \tl1_beta: 0.005653079470358646\n",
      "\u001b[34m\u001b[1mwandb\u001b[0m: \tlearning_rate: 0.000902530062294052\n",
      "\u001b[34m\u001b[1mwandb\u001b[0m: \tloss: l1_custom\n",
      "\u001b[34m\u001b[1mwandb\u001b[0m: \tnum_layers: 2\n",
      "\u001b[34m\u001b[1mwandb\u001b[0m: \toptimizer: adam\n",
      "\u001b[34m\u001b[1mwandb\u001b[0m: \tvalidation_split: 0.1\n",
      "Failed to detect the name of this notebook, you can set it manually with the WANDB_NOTEBOOK_NAME environment variable to enable code saving.\n",
      "\u001b[34m\u001b[1mwandb\u001b[0m: \u001b[33mWARNING\u001b[0m Ignored wandb.init() arg project when running a sweep.\n"
     ]
    },
    {
     "data": {
      "text/html": [
       "wandb version 0.13.2 is available!  To upgrade, please run:\n",
       " $ pip install wandb --upgrade"
      ],
      "text/plain": [
       "<IPython.core.display.HTML object>"
      ]
     },
     "metadata": {},
     "output_type": "display_data"
    },
    {
     "data": {
      "text/html": [
       "Tracking run with wandb version 0.12.14"
      ],
      "text/plain": [
       "<IPython.core.display.HTML object>"
      ]
     },
     "metadata": {},
     "output_type": "display_data"
    },
    {
     "data": {
      "text/html": [
       "Run data is saved locally in <code>c:\\Users\\Nick\\Documents\\GitHub\\grvmodel\\Python\\pytorch\\New Model\\wandb\\run-20220825_073821-ilezxhon</code>"
      ],
      "text/plain": [
       "<IPython.core.display.HTML object>"
      ]
     },
     "metadata": {},
     "output_type": "display_data"
    },
    {
     "data": {
      "text/html": [
       "Syncing run <strong><a href=\"https://wandb.ai/nickojelly/grv_priced_sweep_custom/runs/ilezxhon\" target=\"_blank\">glamorous-sweep-30</a></strong> to <a href=\"https://wandb.ai/nickojelly/grv_priced_sweep_custom\" target=\"_blank\">Weights & Biases</a> (<a href=\"https://wandb.me/run\" target=\"_blank\">docs</a>)<br/>Sweep page:  <a href=\"https://wandb.ai/nickojelly/grv_priced_sweep_custom/sweeps/nwqxajsa\" target=\"_blank\">https://wandb.ai/nickojelly/grv_priced_sweep_custom/sweeps/nwqxajsa</a>"
      ],
      "text/plain": [
       "<IPython.core.display.HTML object>"
      ]
     },
     "metadata": {},
     "output_type": "display_data"
    },
    {
     "name": "stderr",
     "output_type": "stream",
     "text": [
      "  0%|          | 0/100 [00:00<?, ?it/s]"
     ]
    },
    {
     "name": "stdout",
     "output_type": "stream",
     "text": [
      "{'batch_size': 128, 'dropout': 0.4, 'epochs': 100, 'f1_layer_size': 128, 'f2_layer_size': 128, 'l1_beta': 0.005653079470358646, 'learning_rate': 0.000902530062294052, 'loss': 'l1_custom', 'num_layers': 2, 'optimizer': 'adam', 'validation_split': 0.1}\n",
      "100\n",
      "{'batch_size': 128, 'dropout': 0.4, 'epochs': 100, 'f1_layer_size': 128, 'f2_layer_size': 128, 'l1_beta': 0.005653079470358646, 'learning_rate': 0.000902530062294052, 'loss': 'l1_custom', 'num_layers': 2, 'optimizer': 'adam', 'validation_split': 0.1}\n",
      "Sequential(\n",
      "  (0): Linear(in_features=120, out_features=128, bias=True)\n",
      "  (1): ReLU()\n",
      "  (2): Dropout(p=0.4, inplace=False)\n",
      "  (3): Linear(in_features=128, out_features=128, bias=True)\n",
      "  (4): ReLU()\n",
      "  (5): Dropout(p=0.4, inplace=False)\n",
      "  (6): Linear(in_features=128, out_features=8, bias=True)\n",
      "  (7): Softmax(dim=1)\n",
      ")\n"
     ]
    },
    {
     "name": "stderr",
     "output_type": "stream",
     "text": [
      "  1%|          | 1/100 [00:13<21:31, 13.05s/it]"
     ]
    },
    {
     "name": "stdout",
     "output_type": "stream",
     "text": [
      "created path\n"
     ]
    },
    {
     "name": "stderr",
     "output_type": "stream",
     "text": [
      "100%|██████████| 100/100 [06:00<00:00,  3.61s/it]\n"
     ]
    },
    {
     "name": "stdout",
     "output_type": "stream",
     "text": [
      "\n"
     ]
    },
    {
     "data": {
      "text/html": [
       "Waiting for W&B process to finish... <strong style=\"color:green\">(success).</strong>"
      ],
      "text/plain": [
       "<IPython.core.display.HTML object>"
      ]
     },
     "metadata": {},
     "output_type": "display_data"
    },
    {
     "data": {
      "application/vnd.jupyter.widget-view+json": {
       "model_id": "8850119f949e437ba0932f0ce669f9c1",
       "version_major": 2,
       "version_minor": 0
      },
      "text/plain": [
       "VBox(children=(Label(value='0.001 MB of 0.001 MB uploaded (0.000 MB deduped)\\r'), FloatProgress(value=1.0, max…"
      ]
     },
     "metadata": {},
     "output_type": "display_data"
    },
    {
     "data": {
      "text/html": [
       "<style>\n",
       "    table.wandb td:nth-child(1) { padding: 0 10px; text-align: right }\n",
       "    .wandb-row { display: flex; flex-direction: row; flex-wrap: wrap; width: 100% }\n",
       "    .wandb-col { display: flex; flex-direction: column; flex-basis: 100%; flex: 1; padding: 10px; }\n",
       "    </style>\n",
       "<div class=\"wandb-row\"><div class=\"wandb-col\"><h3>Run history:</h3><br/><table class=\"wandb\"><tr><td>bfnotavail</td><td>▁▆▆▇▇▆█▇██</td></tr><tr><td>bfprofit</td><td>▁▂▃▆▁▆▅▂▇█</td></tr><tr><td>correct_conf</td><td>▁▄▅▅▄█▅▇▆▆</td></tr><tr><td>epoch</td><td>▁▁▁▁▂▂▂▂▂▃▃▃▃▃▃▄▄▄▄▄▅▅▅▅▅▅▆▆▆▆▆▇▇▇▇▇▇███</td></tr><tr><td>incorrect_conf</td><td>▁▅▆▅▄█▅▆▇▆</td></tr><tr><td>loss</td><td>▅▅▅▅▆▆▅▄▃▅▅▄▇▄▄▅▅▂▅▃▄▅▂▃▂▅▃▁▅▄▂█▃▆▅▃▃▂▄▄</td></tr><tr><td>num_bets_per</td><td>█▃▃▂▃▁▃▂▂▂</td></tr><tr><td>profit</td><td>▁▄▅▇▃▇▆▄██</td></tr><tr><td>test_accuracy</td><td>▁▇▇█▇▇█▇██</td></tr><tr><td>value_pick_roi</td><td>▁▅▆▆▆▅▇▆██</td></tr></table><br/></div><div class=\"wandb-col\"><h3>Run summary:</h3><br/><table class=\"wandb\"><tr><td>bfnotavail</td><td>541</td></tr><tr><td>correct_conf</td><td>0.56893</td></tr><tr><td>epoch</td><td>99</td></tr><tr><td>incorrect_conf</td><td>0.61038</td></tr><tr><td>num_bets_per</td><td>2.1382</td></tr><tr><td>profit</td><td>-1038.9</td></tr><tr><td>value_pick_roi</td><td>-0.22356</td></tr></table><br/></div></div>"
      ],
      "text/plain": [
       "<IPython.core.display.HTML object>"
      ]
     },
     "metadata": {},
     "output_type": "display_data"
    },
    {
     "data": {
      "text/html": [
       "Synced <strong style=\"color:#cdcd00\">glamorous-sweep-30</strong>: <a href=\"https://wandb.ai/nickojelly/grv_priced_sweep_custom/runs/ilezxhon\" target=\"_blank\">https://wandb.ai/nickojelly/grv_priced_sweep_custom/runs/ilezxhon</a><br/>Synced 5 W&B file(s), 0 media file(s), 0 artifact file(s) and 0 other file(s)"
      ],
      "text/plain": [
       "<IPython.core.display.HTML object>"
      ]
     },
     "metadata": {},
     "output_type": "display_data"
    },
    {
     "data": {
      "text/html": [
       "Find logs at: <code>.\\wandb\\run-20220825_073821-ilezxhon\\logs</code>"
      ],
      "text/plain": [
       "<IPython.core.display.HTML object>"
      ]
     },
     "metadata": {},
     "output_type": "display_data"
    },
    {
     "name": "stderr",
     "output_type": "stream",
     "text": [
      "\u001b[34m\u001b[1mwandb\u001b[0m: Agent Starting Run: lyrxhw7b with config:\n",
      "\u001b[34m\u001b[1mwandb\u001b[0m: \tbatch_size: 720\n",
      "\u001b[34m\u001b[1mwandb\u001b[0m: \tdropout: 0.5\n",
      "\u001b[34m\u001b[1mwandb\u001b[0m: \tepochs: 100\n",
      "\u001b[34m\u001b[1mwandb\u001b[0m: \tf1_layer_size: 256\n",
      "\u001b[34m\u001b[1mwandb\u001b[0m: \tf2_layer_size: 256\n",
      "\u001b[34m\u001b[1mwandb\u001b[0m: \tl1_beta: 0.8200455100052588\n",
      "\u001b[34m\u001b[1mwandb\u001b[0m: \tlearning_rate: 0.00026470777940822425\n",
      "\u001b[34m\u001b[1mwandb\u001b[0m: \tloss: l1_custom\n",
      "\u001b[34m\u001b[1mwandb\u001b[0m: \tnum_layers: 2\n",
      "\u001b[34m\u001b[1mwandb\u001b[0m: \toptimizer: adam\n",
      "\u001b[34m\u001b[1mwandb\u001b[0m: \tvalidation_split: 0.1\n",
      "Failed to detect the name of this notebook, you can set it manually with the WANDB_NOTEBOOK_NAME environment variable to enable code saving.\n",
      "\u001b[34m\u001b[1mwandb\u001b[0m: \u001b[33mWARNING\u001b[0m Ignored wandb.init() arg project when running a sweep.\n"
     ]
    },
    {
     "data": {
      "text/html": [
       "wandb version 0.13.2 is available!  To upgrade, please run:\n",
       " $ pip install wandb --upgrade"
      ],
      "text/plain": [
       "<IPython.core.display.HTML object>"
      ]
     },
     "metadata": {},
     "output_type": "display_data"
    },
    {
     "data": {
      "text/html": [
       "Tracking run with wandb version 0.12.14"
      ],
      "text/plain": [
       "<IPython.core.display.HTML object>"
      ]
     },
     "metadata": {},
     "output_type": "display_data"
    },
    {
     "data": {
      "text/html": [
       "Run data is saved locally in <code>c:\\Users\\Nick\\Documents\\GitHub\\grvmodel\\Python\\pytorch\\New Model\\wandb\\run-20220825_074435-lyrxhw7b</code>"
      ],
      "text/plain": [
       "<IPython.core.display.HTML object>"
      ]
     },
     "metadata": {},
     "output_type": "display_data"
    },
    {
     "data": {
      "text/html": [
       "Syncing run <strong><a href=\"https://wandb.ai/nickojelly/grv_priced_sweep_custom/runs/lyrxhw7b\" target=\"_blank\">misunderstood-sweep-31</a></strong> to <a href=\"https://wandb.ai/nickojelly/grv_priced_sweep_custom\" target=\"_blank\">Weights & Biases</a> (<a href=\"https://wandb.me/run\" target=\"_blank\">docs</a>)<br/>Sweep page:  <a href=\"https://wandb.ai/nickojelly/grv_priced_sweep_custom/sweeps/nwqxajsa\" target=\"_blank\">https://wandb.ai/nickojelly/grv_priced_sweep_custom/sweeps/nwqxajsa</a>"
      ],
      "text/plain": [
       "<IPython.core.display.HTML object>"
      ]
     },
     "metadata": {},
     "output_type": "display_data"
    },
    {
     "name": "stderr",
     "output_type": "stream",
     "text": [
      "  0%|          | 0/100 [00:00<?, ?it/s]"
     ]
    },
    {
     "name": "stdout",
     "output_type": "stream",
     "text": [
      "{'batch_size': 720, 'dropout': 0.5, 'epochs': 100, 'f1_layer_size': 256, 'f2_layer_size': 256, 'l1_beta': 0.8200455100052588, 'learning_rate': 0.00026470777940822425, 'loss': 'l1_custom', 'num_layers': 2, 'optimizer': 'adam', 'validation_split': 0.1}\n",
      "100\n",
      "{'batch_size': 720, 'dropout': 0.5, 'epochs': 100, 'f1_layer_size': 256, 'f2_layer_size': 256, 'l1_beta': 0.8200455100052588, 'learning_rate': 0.00026470777940822425, 'loss': 'l1_custom', 'num_layers': 2, 'optimizer': 'adam', 'validation_split': 0.1}\n",
      "Sequential(\n",
      "  (0): Linear(in_features=120, out_features=256, bias=True)\n",
      "  (1): ReLU()\n",
      "  (2): Dropout(p=0.5, inplace=False)\n",
      "  (3): Linear(in_features=256, out_features=256, bias=True)\n",
      "  (4): ReLU()\n",
      "  (5): Dropout(p=0.5, inplace=False)\n",
      "  (6): Linear(in_features=256, out_features=8, bias=True)\n",
      "  (7): Softmax(dim=1)\n",
      ")\n"
     ]
    },
    {
     "name": "stderr",
     "output_type": "stream",
     "text": [
      "  1%|          | 1/100 [00:12<20:58, 12.72s/it]"
     ]
    },
    {
     "name": "stdout",
     "output_type": "stream",
     "text": [
      "created path\n"
     ]
    },
    {
     "name": "stderr",
     "output_type": "stream",
     "text": [
      "100%|██████████| 100/100 [04:32<00:00,  2.72s/it]\n"
     ]
    },
    {
     "name": "stdout",
     "output_type": "stream",
     "text": [
      "\n"
     ]
    },
    {
     "data": {
      "text/html": [
       "Waiting for W&B process to finish... <strong style=\"color:green\">(success).</strong>"
      ],
      "text/plain": [
       "<IPython.core.display.HTML object>"
      ]
     },
     "metadata": {},
     "output_type": "display_data"
    },
    {
     "data": {
      "application/vnd.jupyter.widget-view+json": {
       "model_id": "15034877ca274ba190e9f8e78401903f",
       "version_major": 2,
       "version_minor": 0
      },
      "text/plain": [
       "VBox(children=(Label(value='0.001 MB of 0.001 MB uploaded (0.000 MB deduped)\\r'), FloatProgress(value=1.0, max…"
      ]
     },
     "metadata": {},
     "output_type": "display_data"
    },
    {
     "data": {
      "text/html": [
       "<style>\n",
       "    table.wandb td:nth-child(1) { padding: 0 10px; text-align: right }\n",
       "    .wandb-row { display: flex; flex-direction: row; flex-wrap: wrap; width: 100% }\n",
       "    .wandb-col { display: flex; flex-direction: column; flex-basis: 100%; flex: 1; padding: 10px; }\n",
       "    </style>\n",
       "<div class=\"wandb-row\"><div class=\"wandb-col\"><h3>Run history:</h3><br/><table class=\"wandb\"><tr><td>bfnotavail</td><td>▁▇█████▇▇▇</td></tr><tr><td>bfprofit</td><td>▁▅▆▇▄▆█▆▆█</td></tr><tr><td>correct_conf</td><td>▄▁▅▅▄▆▇███</td></tr><tr><td>epoch</td><td>▁▁▁▂▂▂▂▃▃▃▃▃▄▄▄▄▅▅▅▅▅▆▆▆▆▆▇▇▇▇███</td></tr><tr><td>incorrect_conf</td><td>▆▁▄▅▄▆▆███</td></tr><tr><td>loss</td><td>██▃▅▅▅▃▃▄▄▄▅▅▅▁▄▃▂▄▂▄▃▃▃▃▄▂▄▂▃▄▂▂</td></tr><tr><td>num_bets_per</td><td>▁█▅▅▆▅▄▃▃▂</td></tr><tr><td>profit</td><td>▁▆██▆▇██▇▇</td></tr><tr><td>test_accuracy</td><td>▁▇█████▇▇▇</td></tr><tr><td>value_pick_roi</td><td>▁▁▇▆▂▆▃▂▆█</td></tr></table><br/></div><div class=\"wandb-col\"><h3>Run summary:</h3><br/><table class=\"wandb\"><tr><td>bfnotavail</td><td>920</td></tr><tr><td>correct_conf</td><td>0.3107</td></tr><tr><td>epoch</td><td>98</td></tr><tr><td>incorrect_conf</td><td>0.28061</td></tr><tr><td>num_bets_per</td><td>3.78231</td></tr><tr><td>profit</td><td>-778.0</td></tr><tr><td>value_pick_roi</td><td>-0.24949</td></tr></table><br/></div></div>"
      ],
      "text/plain": [
       "<IPython.core.display.HTML object>"
      ]
     },
     "metadata": {},
     "output_type": "display_data"
    },
    {
     "data": {
      "text/html": [
       "Synced <strong style=\"color:#cdcd00\">misunderstood-sweep-31</strong>: <a href=\"https://wandb.ai/nickojelly/grv_priced_sweep_custom/runs/lyrxhw7b\" target=\"_blank\">https://wandb.ai/nickojelly/grv_priced_sweep_custom/runs/lyrxhw7b</a><br/>Synced 5 W&B file(s), 0 media file(s), 0 artifact file(s) and 0 other file(s)"
      ],
      "text/plain": [
       "<IPython.core.display.HTML object>"
      ]
     },
     "metadata": {},
     "output_type": "display_data"
    },
    {
     "data": {
      "text/html": [
       "Find logs at: <code>.\\wandb\\run-20220825_074435-lyrxhw7b\\logs</code>"
      ],
      "text/plain": [
       "<IPython.core.display.HTML object>"
      ]
     },
     "metadata": {},
     "output_type": "display_data"
    },
    {
     "name": "stderr",
     "output_type": "stream",
     "text": [
      "\u001b[34m\u001b[1mwandb\u001b[0m: Agent Starting Run: f6vsuw3k with config:\n",
      "\u001b[34m\u001b[1mwandb\u001b[0m: \tbatch_size: 128\n",
      "\u001b[34m\u001b[1mwandb\u001b[0m: \tdropout: 0.3\n",
      "\u001b[34m\u001b[1mwandb\u001b[0m: \tepochs: 100\n",
      "\u001b[34m\u001b[1mwandb\u001b[0m: \tf1_layer_size: 256\n",
      "\u001b[34m\u001b[1mwandb\u001b[0m: \tf2_layer_size: 256\n",
      "\u001b[34m\u001b[1mwandb\u001b[0m: \tl1_beta: 0.6030350595034565\n",
      "\u001b[34m\u001b[1mwandb\u001b[0m: \tlearning_rate: 0.0006880907213405058\n",
      "\u001b[34m\u001b[1mwandb\u001b[0m: \tloss: l1_custom\n",
      "\u001b[34m\u001b[1mwandb\u001b[0m: \tnum_layers: 2\n",
      "\u001b[34m\u001b[1mwandb\u001b[0m: \toptimizer: adam\n",
      "\u001b[34m\u001b[1mwandb\u001b[0m: \tvalidation_split: 0.1\n",
      "Failed to detect the name of this notebook, you can set it manually with the WANDB_NOTEBOOK_NAME environment variable to enable code saving.\n",
      "\u001b[34m\u001b[1mwandb\u001b[0m: \u001b[33mWARNING\u001b[0m Ignored wandb.init() arg project when running a sweep.\n"
     ]
    },
    {
     "data": {
      "text/html": [
       "wandb version 0.13.2 is available!  To upgrade, please run:\n",
       " $ pip install wandb --upgrade"
      ],
      "text/plain": [
       "<IPython.core.display.HTML object>"
      ]
     },
     "metadata": {},
     "output_type": "display_data"
    },
    {
     "data": {
      "text/html": [
       "Tracking run with wandb version 0.12.14"
      ],
      "text/plain": [
       "<IPython.core.display.HTML object>"
      ]
     },
     "metadata": {},
     "output_type": "display_data"
    },
    {
     "data": {
      "text/html": [
       "Run data is saved locally in <code>c:\\Users\\Nick\\Documents\\GitHub\\grvmodel\\Python\\pytorch\\New Model\\wandb\\run-20220825_074919-f6vsuw3k</code>"
      ],
      "text/plain": [
       "<IPython.core.display.HTML object>"
      ]
     },
     "metadata": {},
     "output_type": "display_data"
    },
    {
     "data": {
      "text/html": [
       "Syncing run <strong><a href=\"https://wandb.ai/nickojelly/grv_priced_sweep_custom/runs/f6vsuw3k\" target=\"_blank\">true-sweep-32</a></strong> to <a href=\"https://wandb.ai/nickojelly/grv_priced_sweep_custom\" target=\"_blank\">Weights & Biases</a> (<a href=\"https://wandb.me/run\" target=\"_blank\">docs</a>)<br/>Sweep page:  <a href=\"https://wandb.ai/nickojelly/grv_priced_sweep_custom/sweeps/nwqxajsa\" target=\"_blank\">https://wandb.ai/nickojelly/grv_priced_sweep_custom/sweeps/nwqxajsa</a>"
      ],
      "text/plain": [
       "<IPython.core.display.HTML object>"
      ]
     },
     "metadata": {},
     "output_type": "display_data"
    },
    {
     "name": "stderr",
     "output_type": "stream",
     "text": [
      "  0%|          | 0/100 [00:00<?, ?it/s]"
     ]
    },
    {
     "name": "stdout",
     "output_type": "stream",
     "text": [
      "{'batch_size': 128, 'dropout': 0.3, 'epochs': 100, 'f1_layer_size': 256, 'f2_layer_size': 256, 'l1_beta': 0.6030350595034565, 'learning_rate': 0.0006880907213405058, 'loss': 'l1_custom', 'num_layers': 2, 'optimizer': 'adam', 'validation_split': 0.1}\n",
      "100\n",
      "{'batch_size': 128, 'dropout': 0.3, 'epochs': 100, 'f1_layer_size': 256, 'f2_layer_size': 256, 'l1_beta': 0.6030350595034565, 'learning_rate': 0.0006880907213405058, 'loss': 'l1_custom', 'num_layers': 2, 'optimizer': 'adam', 'validation_split': 0.1}\n",
      "Sequential(\n",
      "  (0): Linear(in_features=120, out_features=256, bias=True)\n",
      "  (1): ReLU()\n",
      "  (2): Dropout(p=0.3, inplace=False)\n",
      "  (3): Linear(in_features=256, out_features=256, bias=True)\n",
      "  (4): ReLU()\n",
      "  (5): Dropout(p=0.3, inplace=False)\n",
      "  (6): Linear(in_features=256, out_features=8, bias=True)\n",
      "  (7): Softmax(dim=1)\n",
      ")\n"
     ]
    },
    {
     "name": "stderr",
     "output_type": "stream",
     "text": [
      "  1%|          | 1/100 [00:14<23:15, 14.10s/it]"
     ]
    },
    {
     "name": "stdout",
     "output_type": "stream",
     "text": [
      "created path\n"
     ]
    },
    {
     "name": "stderr",
     "output_type": "stream",
     "text": [
      "100%|██████████| 100/100 [06:15<00:00,  3.76s/it]\n"
     ]
    },
    {
     "name": "stdout",
     "output_type": "stream",
     "text": [
      "\n"
     ]
    },
    {
     "data": {
      "text/html": [
       "Waiting for W&B process to finish... <strong style=\"color:green\">(success).</strong>"
      ],
      "text/plain": [
       "<IPython.core.display.HTML object>"
      ]
     },
     "metadata": {},
     "output_type": "display_data"
    },
    {
     "data": {
      "application/vnd.jupyter.widget-view+json": {
       "model_id": "eed09b42af754148bcc11b027cdfc3c3",
       "version_major": 2,
       "version_minor": 0
      },
      "text/plain": [
       "VBox(children=(Label(value='0.001 MB of 0.001 MB uploaded (0.000 MB deduped)\\r'), FloatProgress(value=1.0, max…"
      ]
     },
     "metadata": {},
     "output_type": "display_data"
    },
    {
     "data": {
      "text/html": [
       "<style>\n",
       "    table.wandb td:nth-child(1) { padding: 0 10px; text-align: right }\n",
       "    .wandb-row { display: flex; flex-direction: row; flex-wrap: wrap; width: 100% }\n",
       "    .wandb-col { display: flex; flex-direction: column; flex-basis: 100%; flex: 1; padding: 10px; }\n",
       "    </style>\n",
       "<div class=\"wandb-row\"><div class=\"wandb-col\"><h3>Run history:</h3><br/><table class=\"wandb\"><tr><td>bfnotavail</td><td>▁▇▇██▇▇▇▇▇</td></tr><tr><td>bfprofit</td><td>▁▄▄▇▅▆█▆▆█</td></tr><tr><td>correct_conf</td><td>▁▅▅▆▆▆▇█▇█</td></tr><tr><td>epoch</td><td>▁▁▁▁▂▂▂▂▂▃▃▃▃▃▃▄▄▄▄▄▅▅▅▅▅▅▆▆▆▆▆▇▇▇▇▇▇███</td></tr><tr><td>incorrect_conf</td><td>▁▅▅▆▆▆▇▇▇█</td></tr><tr><td>loss</td><td>█▄▄▆▅▂▄▄▃▆▃▄▄▄▃▂▁▄▄▃▄▄▃▃▃▃▁▃▃▂▃▂▂▄▁▂▂▃▁▂</td></tr><tr><td>num_bets_per</td><td>██▇▆▅▆▄▃▃▁</td></tr><tr><td>profit</td><td>▁▅▆▇▆▆█▇▆▇</td></tr><tr><td>test_accuracy</td><td>▁▇█████▇▇▇</td></tr><tr><td>value_pick_roi</td><td>▁▃▅▇▇▆▇█▃▅</td></tr></table><br/></div><div class=\"wandb-col\"><h3>Run summary:</h3><br/><table class=\"wandb\"><tr><td>bfnotavail</td><td>894</td></tr><tr><td>correct_conf</td><td>0.35473</td></tr><tr><td>epoch</td><td>99</td></tr><tr><td>incorrect_conf</td><td>0.319</td></tr><tr><td>num_bets_per</td><td>3.63932</td></tr><tr><td>profit</td><td>-820.78</td></tr><tr><td>value_pick_roi</td><td>-0.26356</td></tr></table><br/></div></div>"
      ],
      "text/plain": [
       "<IPython.core.display.HTML object>"
      ]
     },
     "metadata": {},
     "output_type": "display_data"
    },
    {
     "data": {
      "text/html": [
       "Synced <strong style=\"color:#cdcd00\">true-sweep-32</strong>: <a href=\"https://wandb.ai/nickojelly/grv_priced_sweep_custom/runs/f6vsuw3k\" target=\"_blank\">https://wandb.ai/nickojelly/grv_priced_sweep_custom/runs/f6vsuw3k</a><br/>Synced 5 W&B file(s), 0 media file(s), 0 artifact file(s) and 0 other file(s)"
      ],
      "text/plain": [
       "<IPython.core.display.HTML object>"
      ]
     },
     "metadata": {},
     "output_type": "display_data"
    },
    {
     "data": {
      "text/html": [
       "Find logs at: <code>.\\wandb\\run-20220825_074919-f6vsuw3k\\logs</code>"
      ],
      "text/plain": [
       "<IPython.core.display.HTML object>"
      ]
     },
     "metadata": {},
     "output_type": "display_data"
    },
    {
     "name": "stderr",
     "output_type": "stream",
     "text": [
      "\u001b[34m\u001b[1mwandb\u001b[0m: Agent Starting Run: 1m59hhe0 with config:\n",
      "\u001b[34m\u001b[1mwandb\u001b[0m: \tbatch_size: 360\n",
      "\u001b[34m\u001b[1mwandb\u001b[0m: \tdropout: 0.4\n",
      "\u001b[34m\u001b[1mwandb\u001b[0m: \tepochs: 100\n",
      "\u001b[34m\u001b[1mwandb\u001b[0m: \tf1_layer_size: 128\n",
      "\u001b[34m\u001b[1mwandb\u001b[0m: \tf2_layer_size: 32\n",
      "\u001b[34m\u001b[1mwandb\u001b[0m: \tl1_beta: 0.355689843654432\n",
      "\u001b[34m\u001b[1mwandb\u001b[0m: \tlearning_rate: 0.00022962858643471424\n",
      "\u001b[34m\u001b[1mwandb\u001b[0m: \tloss: l1_custom\n",
      "\u001b[34m\u001b[1mwandb\u001b[0m: \tnum_layers: 2\n",
      "\u001b[34m\u001b[1mwandb\u001b[0m: \toptimizer: adam\n",
      "\u001b[34m\u001b[1mwandb\u001b[0m: \tvalidation_split: 0.1\n",
      "Failed to detect the name of this notebook, you can set it manually with the WANDB_NOTEBOOK_NAME environment variable to enable code saving.\n",
      "\u001b[34m\u001b[1mwandb\u001b[0m: \u001b[33mWARNING\u001b[0m Ignored wandb.init() arg project when running a sweep.\n"
     ]
    },
    {
     "data": {
      "text/html": [
       "wandb version 0.13.2 is available!  To upgrade, please run:\n",
       " $ pip install wandb --upgrade"
      ],
      "text/plain": [
       "<IPython.core.display.HTML object>"
      ]
     },
     "metadata": {},
     "output_type": "display_data"
    },
    {
     "data": {
      "text/html": [
       "Tracking run with wandb version 0.12.14"
      ],
      "text/plain": [
       "<IPython.core.display.HTML object>"
      ]
     },
     "metadata": {},
     "output_type": "display_data"
    },
    {
     "data": {
      "text/html": [
       "Run data is saved locally in <code>c:\\Users\\Nick\\Documents\\GitHub\\grvmodel\\Python\\pytorch\\New Model\\wandb\\run-20220825_075544-1m59hhe0</code>"
      ],
      "text/plain": [
       "<IPython.core.display.HTML object>"
      ]
     },
     "metadata": {},
     "output_type": "display_data"
    },
    {
     "data": {
      "text/html": [
       "Syncing run <strong><a href=\"https://wandb.ai/nickojelly/grv_priced_sweep_custom/runs/1m59hhe0\" target=\"_blank\">ancient-sweep-33</a></strong> to <a href=\"https://wandb.ai/nickojelly/grv_priced_sweep_custom\" target=\"_blank\">Weights & Biases</a> (<a href=\"https://wandb.me/run\" target=\"_blank\">docs</a>)<br/>Sweep page:  <a href=\"https://wandb.ai/nickojelly/grv_priced_sweep_custom/sweeps/nwqxajsa\" target=\"_blank\">https://wandb.ai/nickojelly/grv_priced_sweep_custom/sweeps/nwqxajsa</a>"
      ],
      "text/plain": [
       "<IPython.core.display.HTML object>"
      ]
     },
     "metadata": {},
     "output_type": "display_data"
    },
    {
     "name": "stderr",
     "output_type": "stream",
     "text": [
      "  0%|          | 0/100 [00:00<?, ?it/s]"
     ]
    },
    {
     "name": "stdout",
     "output_type": "stream",
     "text": [
      "{'batch_size': 360, 'dropout': 0.4, 'epochs': 100, 'f1_layer_size': 128, 'f2_layer_size': 32, 'l1_beta': 0.355689843654432, 'learning_rate': 0.00022962858643471424, 'loss': 'l1_custom', 'num_layers': 2, 'optimizer': 'adam', 'validation_split': 0.1}\n",
      "100\n",
      "{'batch_size': 360, 'dropout': 0.4, 'epochs': 100, 'f1_layer_size': 128, 'f2_layer_size': 32, 'l1_beta': 0.355689843654432, 'learning_rate': 0.00022962858643471424, 'loss': 'l1_custom', 'num_layers': 2, 'optimizer': 'adam', 'validation_split': 0.1}\n",
      "Sequential(\n",
      "  (0): Linear(in_features=120, out_features=128, bias=True)\n",
      "  (1): ReLU()\n",
      "  (2): Dropout(p=0.4, inplace=False)\n",
      "  (3): Linear(in_features=128, out_features=32, bias=True)\n",
      "  (4): ReLU()\n",
      "  (5): Dropout(p=0.4, inplace=False)\n",
      "  (6): Linear(in_features=32, out_features=8, bias=True)\n",
      "  (7): Softmax(dim=1)\n",
      ")\n"
     ]
    },
    {
     "name": "stderr",
     "output_type": "stream",
     "text": [
      "  1%|          | 1/100 [00:11<19:02, 11.54s/it]"
     ]
    },
    {
     "name": "stdout",
     "output_type": "stream",
     "text": [
      "created path\n"
     ]
    },
    {
     "name": "stderr",
     "output_type": "stream",
     "text": [
      "100%|██████████| 100/100 [04:38<00:00,  2.78s/it]\n"
     ]
    },
    {
     "name": "stdout",
     "output_type": "stream",
     "text": [
      "\n"
     ]
    },
    {
     "data": {
      "text/html": [
       "Waiting for W&B process to finish... <strong style=\"color:green\">(success).</strong>"
      ],
      "text/plain": [
       "<IPython.core.display.HTML object>"
      ]
     },
     "metadata": {},
     "output_type": "display_data"
    },
    {
     "data": {
      "application/vnd.jupyter.widget-view+json": {
       "model_id": "fcf2b2d21cc9457f8686231d9198e44a",
       "version_major": 2,
       "version_minor": 0
      },
      "text/plain": [
       "VBox(children=(Label(value='0.001 MB of 0.001 MB uploaded (0.000 MB deduped)\\r'), FloatProgress(value=1.0, max…"
      ]
     },
     "metadata": {},
     "output_type": "display_data"
    },
    {
     "data": {
      "text/html": [
       "<style>\n",
       "    table.wandb td:nth-child(1) { padding: 0 10px; text-align: right }\n",
       "    .wandb-row { display: flex; flex-direction: row; flex-wrap: wrap; width: 100% }\n",
       "    .wandb-col { display: flex; flex-direction: column; flex-basis: 100%; flex: 1; padding: 10px; }\n",
       "    </style>\n",
       "<div class=\"wandb-row\"><div class=\"wandb-col\"><h3>Run history:</h3><br/><table class=\"wandb\"><tr><td>bfnotavail</td><td>▁█▅███████</td></tr><tr><td>bfprofit</td><td>█▄▁▄▄▄▄▄▄▄</td></tr><tr><td>correct_conf</td><td>▁▃▃▅▅█████</td></tr><tr><td>epoch</td><td>▁▁▁▁▂▂▂▂▂▃▃▃▃▃▃▄▄▄▄▄▅▅▅▅▅▅▆▆▆▆▆▇▇▇▇▇▇███</td></tr><tr><td>incorrect_conf</td><td>▁▃▃▅▅█████</td></tr><tr><td>loss</td><td>▇▃▄▄▅▅▅▇▆█▇▅▅▅▇▅▄▅▄▂▄▃▃▆▄▄▂▃▄▃▃▁▃▃▄▅▁▃▄▄</td></tr><tr><td>num_bets_per</td><td>▁▄▃▆█▇▇███</td></tr><tr><td>profit</td><td>▁█▇███████</td></tr><tr><td>test_accuracy</td><td>▁█▆███████</td></tr><tr><td>value_pick_roi</td><td>▂▁▁▆█▃▂▂▂▂</td></tr></table><br/></div><div class=\"wandb-col\"><h3>Run summary:</h3><br/><table class=\"wandb\"><tr><td>bfnotavail</td><td>558</td></tr><tr><td>correct_conf</td><td>0.15066</td></tr><tr><td>epoch</td><td>99</td></tr><tr><td>incorrect_conf</td><td>0.15065</td></tr><tr><td>num_bets_per</td><td>4.04213</td></tr><tr><td>profit</td><td>-1290.75999</td></tr><tr><td>value_pick_roi</td><td>-0.28238</td></tr></table><br/></div></div>"
      ],
      "text/plain": [
       "<IPython.core.display.HTML object>"
      ]
     },
     "metadata": {},
     "output_type": "display_data"
    },
    {
     "data": {
      "text/html": [
       "Synced <strong style=\"color:#cdcd00\">ancient-sweep-33</strong>: <a href=\"https://wandb.ai/nickojelly/grv_priced_sweep_custom/runs/1m59hhe0\" target=\"_blank\">https://wandb.ai/nickojelly/grv_priced_sweep_custom/runs/1m59hhe0</a><br/>Synced 5 W&B file(s), 0 media file(s), 0 artifact file(s) and 0 other file(s)"
      ],
      "text/plain": [
       "<IPython.core.display.HTML object>"
      ]
     },
     "metadata": {},
     "output_type": "display_data"
    },
    {
     "data": {
      "text/html": [
       "Find logs at: <code>.\\wandb\\run-20220825_075544-1m59hhe0\\logs</code>"
      ],
      "text/plain": [
       "<IPython.core.display.HTML object>"
      ]
     },
     "metadata": {},
     "output_type": "display_data"
    },
    {
     "name": "stderr",
     "output_type": "stream",
     "text": [
      "\u001b[34m\u001b[1mwandb\u001b[0m: Agent Starting Run: rpjq8z5e with config:\n",
      "\u001b[34m\u001b[1mwandb\u001b[0m: \tbatch_size: 720\n",
      "\u001b[34m\u001b[1mwandb\u001b[0m: \tdropout: 0.5\n",
      "\u001b[34m\u001b[1mwandb\u001b[0m: \tepochs: 100\n",
      "\u001b[34m\u001b[1mwandb\u001b[0m: \tf1_layer_size: 256\n",
      "\u001b[34m\u001b[1mwandb\u001b[0m: \tf2_layer_size: 32\n",
      "\u001b[34m\u001b[1mwandb\u001b[0m: \tl1_beta: 0.6267902827205065\n",
      "\u001b[34m\u001b[1mwandb\u001b[0m: \tlearning_rate: 0.00014487731885102692\n",
      "\u001b[34m\u001b[1mwandb\u001b[0m: \tloss: l1_custom\n",
      "\u001b[34m\u001b[1mwandb\u001b[0m: \tnum_layers: 2\n",
      "\u001b[34m\u001b[1mwandb\u001b[0m: \toptimizer: adam\n",
      "\u001b[34m\u001b[1mwandb\u001b[0m: \tvalidation_split: 0.1\n",
      "Failed to detect the name of this notebook, you can set it manually with the WANDB_NOTEBOOK_NAME environment variable to enable code saving.\n",
      "\u001b[34m\u001b[1mwandb\u001b[0m: \u001b[33mWARNING\u001b[0m Ignored wandb.init() arg project when running a sweep.\n"
     ]
    },
    {
     "data": {
      "text/html": [
       "wandb version 0.13.2 is available!  To upgrade, please run:\n",
       " $ pip install wandb --upgrade"
      ],
      "text/plain": [
       "<IPython.core.display.HTML object>"
      ]
     },
     "metadata": {},
     "output_type": "display_data"
    },
    {
     "data": {
      "text/html": [
       "Tracking run with wandb version 0.12.14"
      ],
      "text/plain": [
       "<IPython.core.display.HTML object>"
      ]
     },
     "metadata": {},
     "output_type": "display_data"
    },
    {
     "data": {
      "text/html": [
       "Run data is saved locally in <code>c:\\Users\\Nick\\Documents\\GitHub\\grvmodel\\Python\\pytorch\\New Model\\wandb\\run-20220825_080033-rpjq8z5e</code>"
      ],
      "text/plain": [
       "<IPython.core.display.HTML object>"
      ]
     },
     "metadata": {},
     "output_type": "display_data"
    },
    {
     "data": {
      "text/html": [
       "Syncing run <strong><a href=\"https://wandb.ai/nickojelly/grv_priced_sweep_custom/runs/rpjq8z5e\" target=\"_blank\">cosmic-sweep-34</a></strong> to <a href=\"https://wandb.ai/nickojelly/grv_priced_sweep_custom\" target=\"_blank\">Weights & Biases</a> (<a href=\"https://wandb.me/run\" target=\"_blank\">docs</a>)<br/>Sweep page:  <a href=\"https://wandb.ai/nickojelly/grv_priced_sweep_custom/sweeps/nwqxajsa\" target=\"_blank\">https://wandb.ai/nickojelly/grv_priced_sweep_custom/sweeps/nwqxajsa</a>"
      ],
      "text/plain": [
       "<IPython.core.display.HTML object>"
      ]
     },
     "metadata": {},
     "output_type": "display_data"
    },
    {
     "name": "stderr",
     "output_type": "stream",
     "text": [
      "  0%|          | 0/100 [00:00<?, ?it/s]"
     ]
    },
    {
     "name": "stdout",
     "output_type": "stream",
     "text": [
      "{'batch_size': 720, 'dropout': 0.5, 'epochs': 100, 'f1_layer_size': 256, 'f2_layer_size': 32, 'l1_beta': 0.6267902827205065, 'learning_rate': 0.00014487731885102692, 'loss': 'l1_custom', 'num_layers': 2, 'optimizer': 'adam', 'validation_split': 0.1}\n",
      "100\n",
      "{'batch_size': 720, 'dropout': 0.5, 'epochs': 100, 'f1_layer_size': 256, 'f2_layer_size': 32, 'l1_beta': 0.6267902827205065, 'learning_rate': 0.00014487731885102692, 'loss': 'l1_custom', 'num_layers': 2, 'optimizer': 'adam', 'validation_split': 0.1}\n",
      "Sequential(\n",
      "  (0): Linear(in_features=120, out_features=256, bias=True)\n",
      "  (1): ReLU()\n",
      "  (2): Dropout(p=0.5, inplace=False)\n",
      "  (3): Linear(in_features=256, out_features=32, bias=True)\n",
      "  (4): ReLU()\n",
      "  (5): Dropout(p=0.5, inplace=False)\n",
      "  (6): Linear(in_features=32, out_features=8, bias=True)\n",
      "  (7): Softmax(dim=1)\n",
      ")\n"
     ]
    },
    {
     "name": "stderr",
     "output_type": "stream",
     "text": [
      "  1%|          | 1/100 [00:12<19:51, 12.03s/it]"
     ]
    },
    {
     "name": "stdout",
     "output_type": "stream",
     "text": [
      "created path\n"
     ]
    },
    {
     "name": "stderr",
     "output_type": "stream",
     "text": [
      "100%|██████████| 100/100 [04:24<00:00,  2.64s/it]\n"
     ]
    },
    {
     "name": "stdout",
     "output_type": "stream",
     "text": [
      "\n"
     ]
    },
    {
     "data": {
      "text/html": [
       "Waiting for W&B process to finish... <strong style=\"color:green\">(success).</strong>"
      ],
      "text/plain": [
       "<IPython.core.display.HTML object>"
      ]
     },
     "metadata": {},
     "output_type": "display_data"
    },
    {
     "data": {
      "application/vnd.jupyter.widget-view+json": {
       "model_id": "95c52cc3a37c498eb955e7c8bf997766",
       "version_major": 2,
       "version_minor": 0
      },
      "text/plain": [
       "VBox(children=(Label(value='0.001 MB of 0.001 MB uploaded (0.000 MB deduped)\\r'), FloatProgress(value=1.0, max…"
      ]
     },
     "metadata": {},
     "output_type": "display_data"
    },
    {
     "data": {
      "text/html": [
       "<style>\n",
       "    table.wandb td:nth-child(1) { padding: 0 10px; text-align: right }\n",
       "    .wandb-row { display: flex; flex-direction: row; flex-wrap: wrap; width: 100% }\n",
       "    .wandb-col { display: flex; flex-direction: column; flex-basis: 100%; flex: 1; padding: 10px; }\n",
       "    </style>\n",
       "<div class=\"wandb-row\"><div class=\"wandb-col\"><h3>Run history:</h3><br/><table class=\"wandb\"><tr><td>bfnotavail</td><td>▁█████████</td></tr><tr><td>bfprofit</td><td>▁█████████</td></tr><tr><td>correct_conf</td><td>▄▁▄▆▇▇████</td></tr><tr><td>epoch</td><td>▁▁▁▂▂▂▂▃▃▃▃▃▄▄▄▄▅▅▅▅▅▆▆▆▆▆▇▇▇▇███</td></tr><tr><td>incorrect_conf</td><td>▄▁▄▆▇▇████</td></tr><tr><td>loss</td><td>▅█▇▁▄▃▆▃▅▃▃▆▃▃▅▃▅▆▅▃▅▄▄▂▆▃▄▂▄▅▃▆▂</td></tr><tr><td>num_bets_per</td><td>▆▅▇█▇▅▆▁▁▁</td></tr><tr><td>profit</td><td>▁█████████</td></tr><tr><td>test_accuracy</td><td>▁█████████</td></tr><tr><td>value_pick_roi</td><td>▄██▅▄▁▃▅▆▆</td></tr></table><br/></div><div class=\"wandb-col\"><h3>Run summary:</h3><br/><table class=\"wandb\"><tr><td>bfnotavail</td><td>533</td></tr><tr><td>correct_conf</td><td>0.15172</td></tr><tr><td>epoch</td><td>98</td></tr><tr><td>incorrect_conf</td><td>0.15173</td></tr><tr><td>num_bets_per</td><td>4.04706</td></tr><tr><td>profit</td><td>-1286.70001</td></tr><tr><td>value_pick_roi</td><td>-0.28208</td></tr></table><br/></div></div>"
      ],
      "text/plain": [
       "<IPython.core.display.HTML object>"
      ]
     },
     "metadata": {},
     "output_type": "display_data"
    },
    {
     "data": {
      "text/html": [
       "Synced <strong style=\"color:#cdcd00\">cosmic-sweep-34</strong>: <a href=\"https://wandb.ai/nickojelly/grv_priced_sweep_custom/runs/rpjq8z5e\" target=\"_blank\">https://wandb.ai/nickojelly/grv_priced_sweep_custom/runs/rpjq8z5e</a><br/>Synced 5 W&B file(s), 0 media file(s), 0 artifact file(s) and 0 other file(s)"
      ],
      "text/plain": [
       "<IPython.core.display.HTML object>"
      ]
     },
     "metadata": {},
     "output_type": "display_data"
    },
    {
     "data": {
      "text/html": [
       "Find logs at: <code>.\\wandb\\run-20220825_080033-rpjq8z5e\\logs</code>"
      ],
      "text/plain": [
       "<IPython.core.display.HTML object>"
      ]
     },
     "metadata": {},
     "output_type": "display_data"
    },
    {
     "name": "stderr",
     "output_type": "stream",
     "text": [
      "\u001b[34m\u001b[1mwandb\u001b[0m: Sweep Agent: Waiting for job.\n",
      "\u001b[34m\u001b[1mwandb\u001b[0m: Job received.\n",
      "\u001b[34m\u001b[1mwandb\u001b[0m: Agent Starting Run: o9bzgx0l with config:\n",
      "\u001b[34m\u001b[1mwandb\u001b[0m: \tbatch_size: 64\n",
      "\u001b[34m\u001b[1mwandb\u001b[0m: \tdropout: 0.4\n",
      "\u001b[34m\u001b[1mwandb\u001b[0m: \tepochs: 100\n",
      "\u001b[34m\u001b[1mwandb\u001b[0m: \tf1_layer_size: 64\n",
      "\u001b[34m\u001b[1mwandb\u001b[0m: \tf2_layer_size: 256\n",
      "\u001b[34m\u001b[1mwandb\u001b[0m: \tl1_beta: 0.4649944958088624\n",
      "\u001b[34m\u001b[1mwandb\u001b[0m: \tlearning_rate: 0.0003601861381907951\n",
      "\u001b[34m\u001b[1mwandb\u001b[0m: \tloss: l1_custom\n",
      "\u001b[34m\u001b[1mwandb\u001b[0m: \tnum_layers: 2\n",
      "\u001b[34m\u001b[1mwandb\u001b[0m: \toptimizer: adam\n",
      "\u001b[34m\u001b[1mwandb\u001b[0m: \tvalidation_split: 0.1\n",
      "Failed to detect the name of this notebook, you can set it manually with the WANDB_NOTEBOOK_NAME environment variable to enable code saving.\n",
      "\u001b[34m\u001b[1mwandb\u001b[0m: \u001b[33mWARNING\u001b[0m Ignored wandb.init() arg project when running a sweep.\n"
     ]
    },
    {
     "data": {
      "text/html": [
       "wandb version 0.13.2 is available!  To upgrade, please run:\n",
       " $ pip install wandb --upgrade"
      ],
      "text/plain": [
       "<IPython.core.display.HTML object>"
      ]
     },
     "metadata": {},
     "output_type": "display_data"
    },
    {
     "data": {
      "text/html": [
       "Tracking run with wandb version 0.12.14"
      ],
      "text/plain": [
       "<IPython.core.display.HTML object>"
      ]
     },
     "metadata": {},
     "output_type": "display_data"
    },
    {
     "data": {
      "text/html": [
       "Run data is saved locally in <code>c:\\Users\\Nick\\Documents\\GitHub\\grvmodel\\Python\\pytorch\\New Model\\wandb\\run-20220825_080516-o9bzgx0l</code>"
      ],
      "text/plain": [
       "<IPython.core.display.HTML object>"
      ]
     },
     "metadata": {},
     "output_type": "display_data"
    },
    {
     "data": {
      "text/html": [
       "Syncing run <strong><a href=\"https://wandb.ai/nickojelly/grv_priced_sweep_custom/runs/o9bzgx0l\" target=\"_blank\">super-sweep-35</a></strong> to <a href=\"https://wandb.ai/nickojelly/grv_priced_sweep_custom\" target=\"_blank\">Weights & Biases</a> (<a href=\"https://wandb.me/run\" target=\"_blank\">docs</a>)<br/>Sweep page:  <a href=\"https://wandb.ai/nickojelly/grv_priced_sweep_custom/sweeps/nwqxajsa\" target=\"_blank\">https://wandb.ai/nickojelly/grv_priced_sweep_custom/sweeps/nwqxajsa</a>"
      ],
      "text/plain": [
       "<IPython.core.display.HTML object>"
      ]
     },
     "metadata": {},
     "output_type": "display_data"
    },
    {
     "name": "stderr",
     "output_type": "stream",
     "text": [
      "  0%|          | 0/100 [00:00<?, ?it/s]"
     ]
    },
    {
     "name": "stdout",
     "output_type": "stream",
     "text": [
      "{'batch_size': 64, 'dropout': 0.4, 'epochs': 100, 'f1_layer_size': 64, 'f2_layer_size': 256, 'l1_beta': 0.4649944958088624, 'learning_rate': 0.0003601861381907951, 'loss': 'l1_custom', 'num_layers': 2, 'optimizer': 'adam', 'validation_split': 0.1}\n",
      "100\n",
      "{'batch_size': 64, 'dropout': 0.4, 'epochs': 100, 'f1_layer_size': 64, 'f2_layer_size': 256, 'l1_beta': 0.4649944958088624, 'learning_rate': 0.0003601861381907951, 'loss': 'l1_custom', 'num_layers': 2, 'optimizer': 'adam', 'validation_split': 0.1}\n",
      "Sequential(\n",
      "  (0): Linear(in_features=120, out_features=64, bias=True)\n",
      "  (1): ReLU()\n",
      "  (2): Dropout(p=0.4, inplace=False)\n",
      "  (3): Linear(in_features=64, out_features=256, bias=True)\n",
      "  (4): ReLU()\n",
      "  (5): Dropout(p=0.4, inplace=False)\n",
      "  (6): Linear(in_features=256, out_features=8, bias=True)\n",
      "  (7): Softmax(dim=1)\n",
      ")\n"
     ]
    },
    {
     "name": "stderr",
     "output_type": "stream",
     "text": [
      "  1%|          | 1/100 [00:14<23:26, 14.21s/it]"
     ]
    },
    {
     "name": "stdout",
     "output_type": "stream",
     "text": [
      "created path\n"
     ]
    },
    {
     "name": "stderr",
     "output_type": "stream",
     "text": [
      "100%|██████████| 100/100 [08:05<00:00,  4.85s/it]\n"
     ]
    },
    {
     "name": "stdout",
     "output_type": "stream",
     "text": [
      "\n"
     ]
    },
    {
     "data": {
      "text/html": [
       "Waiting for W&B process to finish... <strong style=\"color:green\">(success).</strong>"
      ],
      "text/plain": [
       "<IPython.core.display.HTML object>"
      ]
     },
     "metadata": {},
     "output_type": "display_data"
    },
    {
     "data": {
      "application/vnd.jupyter.widget-view+json": {
       "model_id": "05f627e49620455084e4dae244f7d2e1",
       "version_major": 2,
       "version_minor": 0
      },
      "text/plain": [
       "VBox(children=(Label(value='0.001 MB of 0.001 MB uploaded (0.000 MB deduped)\\r'), FloatProgress(value=1.0, max…"
      ]
     },
     "metadata": {},
     "output_type": "display_data"
    },
    {
     "data": {
      "text/html": [
       "<style>\n",
       "    table.wandb td:nth-child(1) { padding: 0 10px; text-align: right }\n",
       "    .wandb-row { display: flex; flex-direction: row; flex-wrap: wrap; width: 100% }\n",
       "    .wandb-col { display: flex; flex-direction: column; flex-basis: 100%; flex: 1; padding: 10px; }\n",
       "    </style>\n",
       "<div class=\"wandb-row\"><div class=\"wandb-col\"><h3>Run history:</h3><br/><table class=\"wandb\"><tr><td>bfnotavail</td><td>▁▆▇█▆▇▇▇▅▅</td></tr><tr><td>bfprofit</td><td>▂▁▂▂█▇█▇▆▂</td></tr><tr><td>correct_conf</td><td>▁▆▆▆▇▇▇▇▇█</td></tr><tr><td>epoch</td><td>▁▁▁▁▂▂▂▂▂▃▃▃▃▃▃▄▄▄▄▄▅▅▅▅▅▅▆▆▆▆▆▇▇▇▇▇▇███</td></tr><tr><td>incorrect_conf</td><td>▁▆▆▆▆▇▇▇▇█</td></tr><tr><td>loss</td><td>█▇▆▇▁▃▅▆▆▅▅█▄▅▆▁▄▇▆▃▆▃▄▃▅▅▅▇▅▇▄▆▃▇▆▅▆▃▂▂</td></tr><tr><td>num_bets_per</td><td>█▆▆▆▄▅▄▃▃▁</td></tr><tr><td>profit</td><td>▁▂▃▃█▇█▇▅▂</td></tr><tr><td>test_accuracy</td><td>▁▇▇█▇█▇▇▇▇</td></tr><tr><td>value_pick_roi</td><td>▁▆▆█▄▆▂▆▄▂</td></tr></table><br/></div><div class=\"wandb-col\"><h3>Run summary:</h3><br/><table class=\"wandb\"><tr><td>bfnotavail</td><td>777</td></tr><tr><td>correct_conf</td><td>0.31997</td></tr><tr><td>epoch</td><td>99</td></tr><tr><td>incorrect_conf</td><td>0.28532</td></tr><tr><td>num_bets_per</td><td>3.75586</td></tr><tr><td>profit</td><td>-1123.78</td></tr><tr><td>value_pick_roi</td><td>-0.27325</td></tr></table><br/></div></div>"
      ],
      "text/plain": [
       "<IPython.core.display.HTML object>"
      ]
     },
     "metadata": {},
     "output_type": "display_data"
    },
    {
     "data": {
      "text/html": [
       "Synced <strong style=\"color:#cdcd00\">super-sweep-35</strong>: <a href=\"https://wandb.ai/nickojelly/grv_priced_sweep_custom/runs/o9bzgx0l\" target=\"_blank\">https://wandb.ai/nickojelly/grv_priced_sweep_custom/runs/o9bzgx0l</a><br/>Synced 5 W&B file(s), 0 media file(s), 0 artifact file(s) and 0 other file(s)"
      ],
      "text/plain": [
       "<IPython.core.display.HTML object>"
      ]
     },
     "metadata": {},
     "output_type": "display_data"
    },
    {
     "data": {
      "text/html": [
       "Find logs at: <code>.\\wandb\\run-20220825_080516-o9bzgx0l\\logs</code>"
      ],
      "text/plain": [
       "<IPython.core.display.HTML object>"
      ]
     },
     "metadata": {},
     "output_type": "display_data"
    },
    {
     "name": "stderr",
     "output_type": "stream",
     "text": [
      "\u001b[34m\u001b[1mwandb\u001b[0m: Agent Starting Run: vhk6jmqt with config:\n",
      "\u001b[34m\u001b[1mwandb\u001b[0m: \tbatch_size: 64\n",
      "\u001b[34m\u001b[1mwandb\u001b[0m: \tdropout: 0.5\n",
      "\u001b[34m\u001b[1mwandb\u001b[0m: \tepochs: 100\n",
      "\u001b[34m\u001b[1mwandb\u001b[0m: \tf1_layer_size: 128\n",
      "\u001b[34m\u001b[1mwandb\u001b[0m: \tf2_layer_size: 256\n",
      "\u001b[34m\u001b[1mwandb\u001b[0m: \tl1_beta: 0.8445683795285226\n",
      "\u001b[34m\u001b[1mwandb\u001b[0m: \tlearning_rate: 0.00016806618177422905\n",
      "\u001b[34m\u001b[1mwandb\u001b[0m: \tloss: l1_custom\n",
      "\u001b[34m\u001b[1mwandb\u001b[0m: \tnum_layers: 2\n",
      "\u001b[34m\u001b[1mwandb\u001b[0m: \toptimizer: adam\n",
      "\u001b[34m\u001b[1mwandb\u001b[0m: \tvalidation_split: 0.1\n",
      "Failed to detect the name of this notebook, you can set it manually with the WANDB_NOTEBOOK_NAME environment variable to enable code saving.\n",
      "\u001b[34m\u001b[1mwandb\u001b[0m: \u001b[33mWARNING\u001b[0m Ignored wandb.init() arg project when running a sweep.\n"
     ]
    },
    {
     "data": {
      "text/html": [
       "wandb version 0.13.2 is available!  To upgrade, please run:\n",
       " $ pip install wandb --upgrade"
      ],
      "text/plain": [
       "<IPython.core.display.HTML object>"
      ]
     },
     "metadata": {},
     "output_type": "display_data"
    },
    {
     "data": {
      "text/html": [
       "Tracking run with wandb version 0.12.14"
      ],
      "text/plain": [
       "<IPython.core.display.HTML object>"
      ]
     },
     "metadata": {},
     "output_type": "display_data"
    },
    {
     "data": {
      "text/html": [
       "Run data is saved locally in <code>c:\\Users\\Nick\\Documents\\GitHub\\grvmodel\\Python\\pytorch\\New Model\\wandb\\run-20220825_081334-vhk6jmqt</code>"
      ],
      "text/plain": [
       "<IPython.core.display.HTML object>"
      ]
     },
     "metadata": {},
     "output_type": "display_data"
    },
    {
     "data": {
      "text/html": [
       "Syncing run <strong><a href=\"https://wandb.ai/nickojelly/grv_priced_sweep_custom/runs/vhk6jmqt\" target=\"_blank\">pious-sweep-36</a></strong> to <a href=\"https://wandb.ai/nickojelly/grv_priced_sweep_custom\" target=\"_blank\">Weights & Biases</a> (<a href=\"https://wandb.me/run\" target=\"_blank\">docs</a>)<br/>Sweep page:  <a href=\"https://wandb.ai/nickojelly/grv_priced_sweep_custom/sweeps/nwqxajsa\" target=\"_blank\">https://wandb.ai/nickojelly/grv_priced_sweep_custom/sweeps/nwqxajsa</a>"
      ],
      "text/plain": [
       "<IPython.core.display.HTML object>"
      ]
     },
     "metadata": {},
     "output_type": "display_data"
    },
    {
     "name": "stderr",
     "output_type": "stream",
     "text": [
      "  0%|          | 0/100 [00:00<?, ?it/s]"
     ]
    },
    {
     "name": "stdout",
     "output_type": "stream",
     "text": [
      "{'batch_size': 64, 'dropout': 0.5, 'epochs': 100, 'f1_layer_size': 128, 'f2_layer_size': 256, 'l1_beta': 0.8445683795285226, 'learning_rate': 0.00016806618177422905, 'loss': 'l1_custom', 'num_layers': 2, 'optimizer': 'adam', 'validation_split': 0.1}\n",
      "100\n",
      "{'batch_size': 64, 'dropout': 0.5, 'epochs': 100, 'f1_layer_size': 128, 'f2_layer_size': 256, 'l1_beta': 0.8445683795285226, 'learning_rate': 0.00016806618177422905, 'loss': 'l1_custom', 'num_layers': 2, 'optimizer': 'adam', 'validation_split': 0.1}\n",
      "Sequential(\n",
      "  (0): Linear(in_features=120, out_features=128, bias=True)\n",
      "  (1): ReLU()\n",
      "  (2): Dropout(p=0.5, inplace=False)\n",
      "  (3): Linear(in_features=128, out_features=256, bias=True)\n",
      "  (4): ReLU()\n",
      "  (5): Dropout(p=0.5, inplace=False)\n",
      "  (6): Linear(in_features=256, out_features=8, bias=True)\n",
      "  (7): Softmax(dim=1)\n",
      ")\n"
     ]
    },
    {
     "name": "stderr",
     "output_type": "stream",
     "text": [
      "  1%|          | 1/100 [00:14<24:39, 14.94s/it]"
     ]
    },
    {
     "name": "stdout",
     "output_type": "stream",
     "text": [
      "created path\n"
     ]
    },
    {
     "name": "stderr",
     "output_type": "stream",
     "text": [
      "100%|██████████| 100/100 [08:25<00:00,  5.05s/it]\n"
     ]
    },
    {
     "name": "stdout",
     "output_type": "stream",
     "text": [
      "\n"
     ]
    },
    {
     "data": {
      "text/html": [
       "Waiting for W&B process to finish... <strong style=\"color:green\">(success).</strong>"
      ],
      "text/plain": [
       "<IPython.core.display.HTML object>"
      ]
     },
     "metadata": {},
     "output_type": "display_data"
    },
    {
     "data": {
      "application/vnd.jupyter.widget-view+json": {
       "model_id": "c8aaa68187f943669f0b8773dc915715",
       "version_major": 2,
       "version_minor": 0
      },
      "text/plain": [
       "VBox(children=(Label(value='0.001 MB of 0.001 MB uploaded (0.000 MB deduped)\\r'), FloatProgress(value=1.0, max…"
      ]
     },
     "metadata": {},
     "output_type": "display_data"
    },
    {
     "data": {
      "text/html": [
       "<style>\n",
       "    table.wandb td:nth-child(1) { padding: 0 10px; text-align: right }\n",
       "    .wandb-row { display: flex; flex-direction: row; flex-wrap: wrap; width: 100% }\n",
       "    .wandb-col { display: flex; flex-direction: column; flex-basis: 100%; flex: 1; padding: 10px; }\n",
       "    </style>\n",
       "<div class=\"wandb-row\"><div class=\"wandb-col\"><h3>Run history:</h3><br/><table class=\"wandb\"><tr><td>bfnotavail</td><td>▁██████▇▇▇</td></tr><tr><td>bfprofit</td><td>▁▅▅▃▆█▅█▃▄</td></tr><tr><td>correct_conf</td><td>▁▅▆▆▆▆▇▇██</td></tr><tr><td>epoch</td><td>▁▁▁▁▂▂▂▂▂▃▃▃▃▃▃▄▄▄▄▄▅▅▅▅▅▅▆▆▆▆▆▇▇▇▇▇▇███</td></tr><tr><td>incorrect_conf</td><td>▁▅▅▆▆▆▇▇▇█</td></tr><tr><td>loss</td><td>█▇▇▇▄▄▃▄█▅▃▄▄▅▄▅▄▅▃▃▃▄▆▃▄▅▇▇▇▄▃▄▃▄▄▃▃▅▂▁</td></tr><tr><td>num_bets_per</td><td>█▇▇▅▅▄▂▃▂▁</td></tr><tr><td>profit</td><td>▁▅▅▄▆▇▅█▄▅</td></tr><tr><td>test_accuracy</td><td>▁█████▇▇▇▇</td></tr><tr><td>value_pick_roi</td><td>▁▆▆▇▅▆▅█▆▅</td></tr></table><br/></div><div class=\"wandb-col\"><h3>Run summary:</h3><br/><table class=\"wandb\"><tr><td>bfnotavail</td><td>876</td></tr><tr><td>correct_conf</td><td>0.35072</td></tr><tr><td>epoch</td><td>99</td></tr><tr><td>incorrect_conf</td><td>0.31903</td></tr><tr><td>num_bets_per</td><td>3.531</td></tr><tr><td>profit</td><td>-877.14001</td></tr><tr><td>value_pick_roi</td><td>-0.25326</td></tr></table><br/></div></div>"
      ],
      "text/plain": [
       "<IPython.core.display.HTML object>"
      ]
     },
     "metadata": {},
     "output_type": "display_data"
    },
    {
     "data": {
      "text/html": [
       "Synced <strong style=\"color:#cdcd00\">pious-sweep-36</strong>: <a href=\"https://wandb.ai/nickojelly/grv_priced_sweep_custom/runs/vhk6jmqt\" target=\"_blank\">https://wandb.ai/nickojelly/grv_priced_sweep_custom/runs/vhk6jmqt</a><br/>Synced 5 W&B file(s), 0 media file(s), 0 artifact file(s) and 0 other file(s)"
      ],
      "text/plain": [
       "<IPython.core.display.HTML object>"
      ]
     },
     "metadata": {},
     "output_type": "display_data"
    },
    {
     "data": {
      "text/html": [
       "Find logs at: <code>.\\wandb\\run-20220825_081334-vhk6jmqt\\logs</code>"
      ],
      "text/plain": [
       "<IPython.core.display.HTML object>"
      ]
     },
     "metadata": {},
     "output_type": "display_data"
    },
    {
     "name": "stderr",
     "output_type": "stream",
     "text": [
      "\u001b[34m\u001b[1mwandb\u001b[0m: Agent Starting Run: q2pfgxht with config:\n",
      "\u001b[34m\u001b[1mwandb\u001b[0m: \tbatch_size: 128\n",
      "\u001b[34m\u001b[1mwandb\u001b[0m: \tdropout: 0.4\n",
      "\u001b[34m\u001b[1mwandb\u001b[0m: \tepochs: 100\n",
      "\u001b[34m\u001b[1mwandb\u001b[0m: \tf1_layer_size: 256\n",
      "\u001b[34m\u001b[1mwandb\u001b[0m: \tf2_layer_size: 256\n",
      "\u001b[34m\u001b[1mwandb\u001b[0m: \tl1_beta: 0.6280792484846153\n",
      "\u001b[34m\u001b[1mwandb\u001b[0m: \tlearning_rate: 0.0006986477511418778\n",
      "\u001b[34m\u001b[1mwandb\u001b[0m: \tloss: l1_custom\n",
      "\u001b[34m\u001b[1mwandb\u001b[0m: \tnum_layers: 2\n",
      "\u001b[34m\u001b[1mwandb\u001b[0m: \toptimizer: adam\n",
      "\u001b[34m\u001b[1mwandb\u001b[0m: \tvalidation_split: 0.1\n",
      "Failed to detect the name of this notebook, you can set it manually with the WANDB_NOTEBOOK_NAME environment variable to enable code saving.\n",
      "\u001b[34m\u001b[1mwandb\u001b[0m: \u001b[33mWARNING\u001b[0m Ignored wandb.init() arg project when running a sweep.\n"
     ]
    },
    {
     "data": {
      "text/html": [
       "wandb version 0.13.2 is available!  To upgrade, please run:\n",
       " $ pip install wandb --upgrade"
      ],
      "text/plain": [
       "<IPython.core.display.HTML object>"
      ]
     },
     "metadata": {},
     "output_type": "display_data"
    },
    {
     "data": {
      "text/html": [
       "Tracking run with wandb version 0.12.14"
      ],
      "text/plain": [
       "<IPython.core.display.HTML object>"
      ]
     },
     "metadata": {},
     "output_type": "display_data"
    },
    {
     "data": {
      "text/html": [
       "Run data is saved locally in <code>c:\\Users\\Nick\\Documents\\GitHub\\grvmodel\\Python\\pytorch\\New Model\\wandb\\run-20220825_082208-q2pfgxht</code>"
      ],
      "text/plain": [
       "<IPython.core.display.HTML object>"
      ]
     },
     "metadata": {},
     "output_type": "display_data"
    },
    {
     "data": {
      "text/html": [
       "Syncing run <strong><a href=\"https://wandb.ai/nickojelly/grv_priced_sweep_custom/runs/q2pfgxht\" target=\"_blank\">atomic-sweep-37</a></strong> to <a href=\"https://wandb.ai/nickojelly/grv_priced_sweep_custom\" target=\"_blank\">Weights & Biases</a> (<a href=\"https://wandb.me/run\" target=\"_blank\">docs</a>)<br/>Sweep page:  <a href=\"https://wandb.ai/nickojelly/grv_priced_sweep_custom/sweeps/nwqxajsa\" target=\"_blank\">https://wandb.ai/nickojelly/grv_priced_sweep_custom/sweeps/nwqxajsa</a>"
      ],
      "text/plain": [
       "<IPython.core.display.HTML object>"
      ]
     },
     "metadata": {},
     "output_type": "display_data"
    },
    {
     "name": "stderr",
     "output_type": "stream",
     "text": [
      "  0%|          | 0/100 [00:00<?, ?it/s]"
     ]
    },
    {
     "name": "stdout",
     "output_type": "stream",
     "text": [
      "{'batch_size': 128, 'dropout': 0.4, 'epochs': 100, 'f1_layer_size': 256, 'f2_layer_size': 256, 'l1_beta': 0.6280792484846153, 'learning_rate': 0.0006986477511418778, 'loss': 'l1_custom', 'num_layers': 2, 'optimizer': 'adam', 'validation_split': 0.1}\n",
      "100\n",
      "{'batch_size': 128, 'dropout': 0.4, 'epochs': 100, 'f1_layer_size': 256, 'f2_layer_size': 256, 'l1_beta': 0.6280792484846153, 'learning_rate': 0.0006986477511418778, 'loss': 'l1_custom', 'num_layers': 2, 'optimizer': 'adam', 'validation_split': 0.1}\n",
      "Sequential(\n",
      "  (0): Linear(in_features=120, out_features=256, bias=True)\n",
      "  (1): ReLU()\n",
      "  (2): Dropout(p=0.4, inplace=False)\n",
      "  (3): Linear(in_features=256, out_features=256, bias=True)\n",
      "  (4): ReLU()\n",
      "  (5): Dropout(p=0.4, inplace=False)\n",
      "  (6): Linear(in_features=256, out_features=8, bias=True)\n",
      "  (7): Softmax(dim=1)\n",
      ")\n"
     ]
    },
    {
     "name": "stderr",
     "output_type": "stream",
     "text": [
      "  1%|          | 1/100 [00:14<23:17, 14.12s/it]"
     ]
    },
    {
     "name": "stdout",
     "output_type": "stream",
     "text": [
      "created path\n"
     ]
    },
    {
     "name": "stderr",
     "output_type": "stream",
     "text": [
      "100%|██████████| 100/100 [06:14<00:00,  3.74s/it]\n"
     ]
    },
    {
     "name": "stdout",
     "output_type": "stream",
     "text": [
      "\n"
     ]
    },
    {
     "data": {
      "text/html": [
       "Waiting for W&B process to finish... <strong style=\"color:green\">(success).</strong>"
      ],
      "text/plain": [
       "<IPython.core.display.HTML object>"
      ]
     },
     "metadata": {},
     "output_type": "display_data"
    },
    {
     "data": {
      "application/vnd.jupyter.widget-view+json": {
       "model_id": "2df99a021b7f404090bc26e538282286",
       "version_major": 2,
       "version_minor": 0
      },
      "text/plain": [
       "VBox(children=(Label(value='0.001 MB of 0.001 MB uploaded (0.000 MB deduped)\\r'), FloatProgress(value=1.0, max…"
      ]
     },
     "metadata": {},
     "output_type": "display_data"
    },
    {
     "data": {
      "text/html": [
       "<style>\n",
       "    table.wandb td:nth-child(1) { padding: 0 10px; text-align: right }\n",
       "    .wandb-row { display: flex; flex-direction: row; flex-wrap: wrap; width: 100% }\n",
       "    .wandb-col { display: flex; flex-direction: column; flex-basis: 100%; flex: 1; padding: 10px; }\n",
       "    </style>\n",
       "<div class=\"wandb-row\"><div class=\"wandb-col\"><h3>Run history:</h3><br/><table class=\"wandb\"><tr><td>bfnotavail</td><td>▁██▇▇█▇▇▆▆</td></tr><tr><td>bfprofit</td><td>▅▄▄▁█▅▆▁▂▄</td></tr><tr><td>correct_conf</td><td>▁▅▅▆▆▇▆▇▇█</td></tr><tr><td>epoch</td><td>▁▁▁▁▂▂▂▂▂▃▃▃▃▃▃▄▄▄▄▄▅▅▅▅▅▅▆▆▆▆▆▇▇▇▇▇▇███</td></tr><tr><td>incorrect_conf</td><td>▁▅▅▆▆▆▆▇▇█</td></tr><tr><td>loss</td><td>█▅▆▅▇▆▅▅▅▄▄▅▆▅▃▅▅▆▄▄▅▆█▁▃▅▆▃▂▃▄▅▄▅▅▃▅▅▄▄</td></tr><tr><td>num_bets_per</td><td>███▆▅▄▄▃▂▁</td></tr><tr><td>profit</td><td>▃▄▄▁█▆█▁▂▃</td></tr><tr><td>test_accuracy</td><td>▁██████▇▇▇</td></tr><tr><td>value_pick_roi</td><td>▁▂▃▅▅▅▆▅▅█</td></tr></table><br/></div><div class=\"wandb-col\"><h3>Run summary:</h3><br/><table class=\"wandb\"><tr><td>bfnotavail</td><td>848</td></tr><tr><td>correct_conf</td><td>0.3754</td></tr><tr><td>epoch</td><td>99</td></tr><tr><td>incorrect_conf</td><td>0.33086</td></tr><tr><td>num_bets_per</td><td>3.5455</td></tr><tr><td>profit</td><td>-1085.58</td></tr><tr><td>value_pick_roi</td><td>-0.23731</td></tr></table><br/></div></div>"
      ],
      "text/plain": [
       "<IPython.core.display.HTML object>"
      ]
     },
     "metadata": {},
     "output_type": "display_data"
    },
    {
     "data": {
      "text/html": [
       "Synced <strong style=\"color:#cdcd00\">atomic-sweep-37</strong>: <a href=\"https://wandb.ai/nickojelly/grv_priced_sweep_custom/runs/q2pfgxht\" target=\"_blank\">https://wandb.ai/nickojelly/grv_priced_sweep_custom/runs/q2pfgxht</a><br/>Synced 5 W&B file(s), 0 media file(s), 0 artifact file(s) and 0 other file(s)"
      ],
      "text/plain": [
       "<IPython.core.display.HTML object>"
      ]
     },
     "metadata": {},
     "output_type": "display_data"
    },
    {
     "data": {
      "text/html": [
       "Find logs at: <code>.\\wandb\\run-20220825_082208-q2pfgxht\\logs</code>"
      ],
      "text/plain": [
       "<IPython.core.display.HTML object>"
      ]
     },
     "metadata": {},
     "output_type": "display_data"
    },
    {
     "name": "stderr",
     "output_type": "stream",
     "text": [
      "\u001b[34m\u001b[1mwandb\u001b[0m: Agent Starting Run: 59we4dbw with config:\n",
      "\u001b[34m\u001b[1mwandb\u001b[0m: \tbatch_size: 720\n",
      "\u001b[34m\u001b[1mwandb\u001b[0m: \tdropout: 0.5\n",
      "\u001b[34m\u001b[1mwandb\u001b[0m: \tepochs: 100\n",
      "\u001b[34m\u001b[1mwandb\u001b[0m: \tf1_layer_size: 32\n",
      "\u001b[34m\u001b[1mwandb\u001b[0m: \tf2_layer_size: 32\n",
      "\u001b[34m\u001b[1mwandb\u001b[0m: \tl1_beta: 0.63414020166023\n",
      "\u001b[34m\u001b[1mwandb\u001b[0m: \tlearning_rate: 0.0002961821019306635\n",
      "\u001b[34m\u001b[1mwandb\u001b[0m: \tloss: l1_custom\n",
      "\u001b[34m\u001b[1mwandb\u001b[0m: \tnum_layers: 2\n",
      "\u001b[34m\u001b[1mwandb\u001b[0m: \toptimizer: adam\n",
      "\u001b[34m\u001b[1mwandb\u001b[0m: \tvalidation_split: 0.1\n",
      "Failed to detect the name of this notebook, you can set it manually with the WANDB_NOTEBOOK_NAME environment variable to enable code saving.\n",
      "\u001b[34m\u001b[1mwandb\u001b[0m: \u001b[33mWARNING\u001b[0m Ignored wandb.init() arg project when running a sweep.\n"
     ]
    },
    {
     "data": {
      "text/html": [
       "wandb version 0.13.2 is available!  To upgrade, please run:\n",
       " $ pip install wandb --upgrade"
      ],
      "text/plain": [
       "<IPython.core.display.HTML object>"
      ]
     },
     "metadata": {},
     "output_type": "display_data"
    },
    {
     "data": {
      "text/html": [
       "Tracking run with wandb version 0.12.14"
      ],
      "text/plain": [
       "<IPython.core.display.HTML object>"
      ]
     },
     "metadata": {},
     "output_type": "display_data"
    },
    {
     "data": {
      "text/html": [
       "Run data is saved locally in <code>c:\\Users\\Nick\\Documents\\GitHub\\grvmodel\\Python\\pytorch\\New Model\\wandb\\run-20220825_082837-59we4dbw</code>"
      ],
      "text/plain": [
       "<IPython.core.display.HTML object>"
      ]
     },
     "metadata": {},
     "output_type": "display_data"
    },
    {
     "data": {
      "text/html": [
       "Syncing run <strong><a href=\"https://wandb.ai/nickojelly/grv_priced_sweep_custom/runs/59we4dbw\" target=\"_blank\">skilled-sweep-38</a></strong> to <a href=\"https://wandb.ai/nickojelly/grv_priced_sweep_custom\" target=\"_blank\">Weights & Biases</a> (<a href=\"https://wandb.me/run\" target=\"_blank\">docs</a>)<br/>Sweep page:  <a href=\"https://wandb.ai/nickojelly/grv_priced_sweep_custom/sweeps/nwqxajsa\" target=\"_blank\">https://wandb.ai/nickojelly/grv_priced_sweep_custom/sweeps/nwqxajsa</a>"
      ],
      "text/plain": [
       "<IPython.core.display.HTML object>"
      ]
     },
     "metadata": {},
     "output_type": "display_data"
    },
    {
     "name": "stderr",
     "output_type": "stream",
     "text": [
      "  0%|          | 0/100 [00:00<?, ?it/s]"
     ]
    },
    {
     "name": "stdout",
     "output_type": "stream",
     "text": [
      "{'batch_size': 720, 'dropout': 0.5, 'epochs': 100, 'f1_layer_size': 32, 'f2_layer_size': 32, 'l1_beta': 0.63414020166023, 'learning_rate': 0.0002961821019306635, 'loss': 'l1_custom', 'num_layers': 2, 'optimizer': 'adam', 'validation_split': 0.1}\n",
      "100\n",
      "{'batch_size': 720, 'dropout': 0.5, 'epochs': 100, 'f1_layer_size': 32, 'f2_layer_size': 32, 'l1_beta': 0.63414020166023, 'learning_rate': 0.0002961821019306635, 'loss': 'l1_custom', 'num_layers': 2, 'optimizer': 'adam', 'validation_split': 0.1}\n",
      "Sequential(\n",
      "  (0): Linear(in_features=120, out_features=32, bias=True)\n",
      "  (1): ReLU()\n",
      "  (2): Dropout(p=0.5, inplace=False)\n",
      "  (3): Linear(in_features=32, out_features=32, bias=True)\n",
      "  (4): ReLU()\n",
      "  (5): Dropout(p=0.5, inplace=False)\n",
      "  (6): Linear(in_features=32, out_features=8, bias=True)\n",
      "  (7): Softmax(dim=1)\n",
      ")\n"
     ]
    },
    {
     "name": "stderr",
     "output_type": "stream",
     "text": [
      "  1%|          | 1/100 [00:10<18:03, 10.94s/it]"
     ]
    },
    {
     "name": "stdout",
     "output_type": "stream",
     "text": [
      "created path\n"
     ]
    },
    {
     "name": "stderr",
     "output_type": "stream",
     "text": [
      "100%|██████████| 100/100 [04:14<00:00,  2.54s/it]\n"
     ]
    },
    {
     "name": "stdout",
     "output_type": "stream",
     "text": [
      "\n"
     ]
    },
    {
     "data": {
      "text/html": [
       "Waiting for W&B process to finish... <strong style=\"color:green\">(success).</strong>"
      ],
      "text/plain": [
       "<IPython.core.display.HTML object>"
      ]
     },
     "metadata": {},
     "output_type": "display_data"
    },
    {
     "data": {
      "application/vnd.jupyter.widget-view+json": {
       "model_id": "f2bc79f4c09a4d768d16d6b9a28b1a0c",
       "version_major": 2,
       "version_minor": 0
      },
      "text/plain": [
       "VBox(children=(Label(value='0.001 MB of 0.001 MB uploaded (0.000 MB deduped)\\r'), FloatProgress(value=1.0, max…"
      ]
     },
     "metadata": {},
     "output_type": "display_data"
    },
    {
     "data": {
      "text/html": [
       "<style>\n",
       "    table.wandb td:nth-child(1) { padding: 0 10px; text-align: right }\n",
       "    .wandb-row { display: flex; flex-direction: row; flex-wrap: wrap; width: 100% }\n",
       "    .wandb-col { display: flex; flex-direction: column; flex-basis: 100%; flex: 1; padding: 10px; }\n",
       "    </style>\n",
       "<div class=\"wandb-row\"><div class=\"wandb-col\"><h3>Run history:</h3><br/><table class=\"wandb\"><tr><td>bfnotavail</td><td>▁▄▆▇██████</td></tr><tr><td>bfprofit</td><td>▁█▇▆▇▇▇▇█▇</td></tr><tr><td>correct_conf</td><td>▁▁▄▆▇▇████</td></tr><tr><td>epoch</td><td>▁▁▁▂▂▂▂▃▃▃▃▃▄▄▄▄▅▅▅▅▅▆▆▆▆▆▇▇▇▇███</td></tr><tr><td>incorrect_conf</td><td>▂▁▄▆▇▇▇███</td></tr><tr><td>loss</td><td>█▅▄▄▃▄▃▃▂▂▃▄▂▃▂▄▃▁▃▂▂▃▁▂▁▂▂▂▂▃▃▂▂</td></tr><tr><td>num_bets_per</td><td>▁▇█▆▄▄▃▂▁▂</td></tr><tr><td>profit</td><td>▁█▇▆▇█▇██▇</td></tr><tr><td>test_accuracy</td><td>▁▃▆▇██████</td></tr><tr><td>value_pick_roi</td><td>▁▂▅▇▆▄▄▇▇█</td></tr></table><br/></div><div class=\"wandb-col\"><h3>Run summary:</h3><br/><table class=\"wandb\"><tr><td>bfnotavail</td><td>960</td></tr><tr><td>correct_conf</td><td>0.27723</td></tr><tr><td>epoch</td><td>98</td></tr><tr><td>incorrect_conf</td><td>0.24878</td></tr><tr><td>num_bets_per</td><td>3.96056</td></tr><tr><td>profit</td><td>-791.24</td></tr><tr><td>value_pick_roi</td><td>-0.25542</td></tr></table><br/></div></div>"
      ],
      "text/plain": [
       "<IPython.core.display.HTML object>"
      ]
     },
     "metadata": {},
     "output_type": "display_data"
    },
    {
     "data": {
      "text/html": [
       "Synced <strong style=\"color:#cdcd00\">skilled-sweep-38</strong>: <a href=\"https://wandb.ai/nickojelly/grv_priced_sweep_custom/runs/59we4dbw\" target=\"_blank\">https://wandb.ai/nickojelly/grv_priced_sweep_custom/runs/59we4dbw</a><br/>Synced 5 W&B file(s), 0 media file(s), 0 artifact file(s) and 0 other file(s)"
      ],
      "text/plain": [
       "<IPython.core.display.HTML object>"
      ]
     },
     "metadata": {},
     "output_type": "display_data"
    },
    {
     "data": {
      "text/html": [
       "Find logs at: <code>.\\wandb\\run-20220825_082837-59we4dbw\\logs</code>"
      ],
      "text/plain": [
       "<IPython.core.display.HTML object>"
      ]
     },
     "metadata": {},
     "output_type": "display_data"
    },
    {
     "name": "stderr",
     "output_type": "stream",
     "text": [
      "\u001b[34m\u001b[1mwandb\u001b[0m: Agent Starting Run: 5tzta6ov with config:\n",
      "\u001b[34m\u001b[1mwandb\u001b[0m: \tbatch_size: 720\n",
      "\u001b[34m\u001b[1mwandb\u001b[0m: \tdropout: 0.4\n",
      "\u001b[34m\u001b[1mwandb\u001b[0m: \tepochs: 100\n",
      "\u001b[34m\u001b[1mwandb\u001b[0m: \tf1_layer_size: 256\n",
      "\u001b[34m\u001b[1mwandb\u001b[0m: \tf2_layer_size: 64\n",
      "\u001b[34m\u001b[1mwandb\u001b[0m: \tl1_beta: 0.2067096242553098\n",
      "\u001b[34m\u001b[1mwandb\u001b[0m: \tlearning_rate: 0.0001289681091562202\n",
      "\u001b[34m\u001b[1mwandb\u001b[0m: \tloss: l1_custom\n",
      "\u001b[34m\u001b[1mwandb\u001b[0m: \tnum_layers: 2\n",
      "\u001b[34m\u001b[1mwandb\u001b[0m: \toptimizer: adam\n",
      "\u001b[34m\u001b[1mwandb\u001b[0m: \tvalidation_split: 0.1\n",
      "Failed to detect the name of this notebook, you can set it manually with the WANDB_NOTEBOOK_NAME environment variable to enable code saving.\n",
      "\u001b[34m\u001b[1mwandb\u001b[0m: \u001b[33mWARNING\u001b[0m Ignored wandb.init() arg project when running a sweep.\n"
     ]
    },
    {
     "data": {
      "text/html": [
       "wandb version 0.13.2 is available!  To upgrade, please run:\n",
       " $ pip install wandb --upgrade"
      ],
      "text/plain": [
       "<IPython.core.display.HTML object>"
      ]
     },
     "metadata": {},
     "output_type": "display_data"
    },
    {
     "data": {
      "text/html": [
       "Tracking run with wandb version 0.12.14"
      ],
      "text/plain": [
       "<IPython.core.display.HTML object>"
      ]
     },
     "metadata": {},
     "output_type": "display_data"
    },
    {
     "data": {
      "text/html": [
       "Run data is saved locally in <code>c:\\Users\\Nick\\Documents\\GitHub\\grvmodel\\Python\\pytorch\\New Model\\wandb\\run-20220825_083304-5tzta6ov</code>"
      ],
      "text/plain": [
       "<IPython.core.display.HTML object>"
      ]
     },
     "metadata": {},
     "output_type": "display_data"
    },
    {
     "data": {
      "text/html": [
       "Syncing run <strong><a href=\"https://wandb.ai/nickojelly/grv_priced_sweep_custom/runs/5tzta6ov\" target=\"_blank\">fine-sweep-39</a></strong> to <a href=\"https://wandb.ai/nickojelly/grv_priced_sweep_custom\" target=\"_blank\">Weights & Biases</a> (<a href=\"https://wandb.me/run\" target=\"_blank\">docs</a>)<br/>Sweep page:  <a href=\"https://wandb.ai/nickojelly/grv_priced_sweep_custom/sweeps/nwqxajsa\" target=\"_blank\">https://wandb.ai/nickojelly/grv_priced_sweep_custom/sweeps/nwqxajsa</a>"
      ],
      "text/plain": [
       "<IPython.core.display.HTML object>"
      ]
     },
     "metadata": {},
     "output_type": "display_data"
    },
    {
     "name": "stderr",
     "output_type": "stream",
     "text": [
      "  0%|          | 0/100 [00:00<?, ?it/s]"
     ]
    },
    {
     "name": "stdout",
     "output_type": "stream",
     "text": [
      "{'batch_size': 720, 'dropout': 0.4, 'epochs': 100, 'f1_layer_size': 256, 'f2_layer_size': 64, 'l1_beta': 0.2067096242553098, 'learning_rate': 0.0001289681091562202, 'loss': 'l1_custom', 'num_layers': 2, 'optimizer': 'adam', 'validation_split': 0.1}\n",
      "100\n",
      "{'batch_size': 720, 'dropout': 0.4, 'epochs': 100, 'f1_layer_size': 256, 'f2_layer_size': 64, 'l1_beta': 0.2067096242553098, 'learning_rate': 0.0001289681091562202, 'loss': 'l1_custom', 'num_layers': 2, 'optimizer': 'adam', 'validation_split': 0.1}\n",
      "Sequential(\n",
      "  (0): Linear(in_features=120, out_features=256, bias=True)\n",
      "  (1): ReLU()\n",
      "  (2): Dropout(p=0.4, inplace=False)\n",
      "  (3): Linear(in_features=256, out_features=64, bias=True)\n",
      "  (4): ReLU()\n",
      "  (5): Dropout(p=0.4, inplace=False)\n",
      "  (6): Linear(in_features=64, out_features=8, bias=True)\n",
      "  (7): Softmax(dim=1)\n",
      ")\n"
     ]
    },
    {
     "name": "stderr",
     "output_type": "stream",
     "text": [
      "  1%|          | 1/100 [00:12<20:05, 12.18s/it]"
     ]
    },
    {
     "name": "stdout",
     "output_type": "stream",
     "text": [
      "created path\n"
     ]
    },
    {
     "name": "stderr",
     "output_type": "stream",
     "text": [
      "100%|██████████| 100/100 [04:24<00:00,  2.65s/it]\n"
     ]
    },
    {
     "name": "stdout",
     "output_type": "stream",
     "text": [
      "\n"
     ]
    },
    {
     "data": {
      "text/html": [
       "Waiting for W&B process to finish... <strong style=\"color:green\">(success).</strong>"
      ],
      "text/plain": [
       "<IPython.core.display.HTML object>"
      ]
     },
     "metadata": {},
     "output_type": "display_data"
    },
    {
     "data": {
      "application/vnd.jupyter.widget-view+json": {
       "model_id": "cd67361ca7614fd0b26ea6f7b9f92800",
       "version_major": 2,
       "version_minor": 0
      },
      "text/plain": [
       "VBox(children=(Label(value='0.001 MB of 0.001 MB uploaded (0.000 MB deduped)\\r'), FloatProgress(value=1.0, max…"
      ]
     },
     "metadata": {},
     "output_type": "display_data"
    },
    {
     "data": {
      "text/html": [
       "<style>\n",
       "    table.wandb td:nth-child(1) { padding: 0 10px; text-align: right }\n",
       "    .wandb-row { display: flex; flex-direction: row; flex-wrap: wrap; width: 100% }\n",
       "    .wandb-col { display: flex; flex-direction: column; flex-basis: 100%; flex: 1; padding: 10px; }\n",
       "    </style>\n",
       "<div class=\"wandb-row\"><div class=\"wandb-col\"><h3>Run history:</h3><br/><table class=\"wandb\"><tr><td>bfnotavail</td><td>█▁▁▂▆▃▂▃▃▆</td></tr><tr><td>bfprofit</td><td>▁▆▆▅▆█▄▅▂▄</td></tr><tr><td>correct_conf</td><td>▁▆▇▇▆▇▇▇█▇</td></tr><tr><td>epoch</td><td>▁▁▁▂▂▂▂▃▃▃▃▃▄▄▄▄▅▅▅▅▅▆▆▆▆▆▇▇▇▇███</td></tr><tr><td>incorrect_conf</td><td>▁▆▇▇▆▇▇▇█▇</td></tr><tr><td>loss</td><td>█▇▃▂▂▃▂▄▃▄▄▃▁▂▃▃▃▃▂▃▂▁▄▄▂▂▂▂▂▃▂▃▂</td></tr><tr><td>num_bets_per</td><td>█▄▂▂▃▃▃▃▁▂</td></tr><tr><td>profit</td><td>▁▇▇▃▅█▄▅▁▅</td></tr><tr><td>test_accuracy</td><td>▁▃▃▂▃▅▅▆▅█</td></tr><tr><td>value_pick_roi</td><td>▆▂▁▂▇█▇▅▃▇</td></tr></table><br/></div><div class=\"wandb-col\"><h3>Run summary:</h3><br/><table class=\"wandb\"><tr><td>bfnotavail</td><td>462</td></tr><tr><td>correct_conf</td><td>0.2909</td></tr><tr><td>epoch</td><td>98</td></tr><tr><td>incorrect_conf</td><td>0.32003</td></tr><tr><td>num_bets_per</td><td>3.76124</td></tr><tr><td>profit</td><td>-1428.2</td></tr><tr><td>value_pick_roi</td><td>-0.284</td></tr></table><br/></div></div>"
      ],
      "text/plain": [
       "<IPython.core.display.HTML object>"
      ]
     },
     "metadata": {},
     "output_type": "display_data"
    },
    {
     "data": {
      "text/html": [
       "Synced <strong style=\"color:#cdcd00\">fine-sweep-39</strong>: <a href=\"https://wandb.ai/nickojelly/grv_priced_sweep_custom/runs/5tzta6ov\" target=\"_blank\">https://wandb.ai/nickojelly/grv_priced_sweep_custom/runs/5tzta6ov</a><br/>Synced 5 W&B file(s), 0 media file(s), 0 artifact file(s) and 0 other file(s)"
      ],
      "text/plain": [
       "<IPython.core.display.HTML object>"
      ]
     },
     "metadata": {},
     "output_type": "display_data"
    },
    {
     "data": {
      "text/html": [
       "Find logs at: <code>.\\wandb\\run-20220825_083304-5tzta6ov\\logs</code>"
      ],
      "text/plain": [
       "<IPython.core.display.HTML object>"
      ]
     },
     "metadata": {},
     "output_type": "display_data"
    },
    {
     "name": "stderr",
     "output_type": "stream",
     "text": [
      "\u001b[34m\u001b[1mwandb\u001b[0m: Agent Starting Run: rjbowqws with config:\n",
      "\u001b[34m\u001b[1mwandb\u001b[0m: \tbatch_size: 128\n",
      "\u001b[34m\u001b[1mwandb\u001b[0m: \tdropout: 0.4\n",
      "\u001b[34m\u001b[1mwandb\u001b[0m: \tepochs: 100\n",
      "\u001b[34m\u001b[1mwandb\u001b[0m: \tf1_layer_size: 32\n",
      "\u001b[34m\u001b[1mwandb\u001b[0m: \tf2_layer_size: 32\n",
      "\u001b[34m\u001b[1mwandb\u001b[0m: \tl1_beta: 0.010607817165705248\n",
      "\u001b[34m\u001b[1mwandb\u001b[0m: \tlearning_rate: 0.0008278761096677768\n",
      "\u001b[34m\u001b[1mwandb\u001b[0m: \tloss: l1_custom\n",
      "\u001b[34m\u001b[1mwandb\u001b[0m: \tnum_layers: 2\n",
      "\u001b[34m\u001b[1mwandb\u001b[0m: \toptimizer: adam\n",
      "\u001b[34m\u001b[1mwandb\u001b[0m: \tvalidation_split: 0.1\n",
      "Failed to detect the name of this notebook, you can set it manually with the WANDB_NOTEBOOK_NAME environment variable to enable code saving.\n",
      "\u001b[34m\u001b[1mwandb\u001b[0m: \u001b[33mWARNING\u001b[0m Ignored wandb.init() arg project when running a sweep.\n"
     ]
    },
    {
     "data": {
      "text/html": [
       "wandb version 0.13.2 is available!  To upgrade, please run:\n",
       " $ pip install wandb --upgrade"
      ],
      "text/plain": [
       "<IPython.core.display.HTML object>"
      ]
     },
     "metadata": {},
     "output_type": "display_data"
    },
    {
     "data": {
      "text/html": [
       "Tracking run with wandb version 0.12.14"
      ],
      "text/plain": [
       "<IPython.core.display.HTML object>"
      ]
     },
     "metadata": {},
     "output_type": "display_data"
    },
    {
     "data": {
      "text/html": [
       "Run data is saved locally in <code>c:\\Users\\Nick\\Documents\\GitHub\\grvmodel\\Python\\pytorch\\New Model\\wandb\\run-20220825_083739-rjbowqws</code>"
      ],
      "text/plain": [
       "<IPython.core.display.HTML object>"
      ]
     },
     "metadata": {},
     "output_type": "display_data"
    },
    {
     "data": {
      "text/html": [
       "Syncing run <strong><a href=\"https://wandb.ai/nickojelly/grv_priced_sweep_custom/runs/rjbowqws\" target=\"_blank\">ruby-sweep-40</a></strong> to <a href=\"https://wandb.ai/nickojelly/grv_priced_sweep_custom\" target=\"_blank\">Weights & Biases</a> (<a href=\"https://wandb.me/run\" target=\"_blank\">docs</a>)<br/>Sweep page:  <a href=\"https://wandb.ai/nickojelly/grv_priced_sweep_custom/sweeps/nwqxajsa\" target=\"_blank\">https://wandb.ai/nickojelly/grv_priced_sweep_custom/sweeps/nwqxajsa</a>"
      ],
      "text/plain": [
       "<IPython.core.display.HTML object>"
      ]
     },
     "metadata": {},
     "output_type": "display_data"
    },
    {
     "name": "stderr",
     "output_type": "stream",
     "text": [
      "  0%|          | 0/100 [00:00<?, ?it/s]"
     ]
    },
    {
     "name": "stdout",
     "output_type": "stream",
     "text": [
      "{'batch_size': 128, 'dropout': 0.4, 'epochs': 100, 'f1_layer_size': 32, 'f2_layer_size': 32, 'l1_beta': 0.010607817165705248, 'learning_rate': 0.0008278761096677768, 'loss': 'l1_custom', 'num_layers': 2, 'optimizer': 'adam', 'validation_split': 0.1}\n",
      "100\n",
      "{'batch_size': 128, 'dropout': 0.4, 'epochs': 100, 'f1_layer_size': 32, 'f2_layer_size': 32, 'l1_beta': 0.010607817165705248, 'learning_rate': 0.0008278761096677768, 'loss': 'l1_custom', 'num_layers': 2, 'optimizer': 'adam', 'validation_split': 0.1}\n",
      "Sequential(\n",
      "  (0): Linear(in_features=120, out_features=32, bias=True)\n",
      "  (1): ReLU()\n",
      "  (2): Dropout(p=0.4, inplace=False)\n",
      "  (3): Linear(in_features=32, out_features=32, bias=True)\n",
      "  (4): ReLU()\n",
      "  (5): Dropout(p=0.4, inplace=False)\n",
      "  (6): Linear(in_features=32, out_features=8, bias=True)\n",
      "  (7): Softmax(dim=1)\n",
      ")\n"
     ]
    },
    {
     "name": "stderr",
     "output_type": "stream",
     "text": [
      "  1%|          | 1/100 [00:12<20:01, 12.13s/it]"
     ]
    },
    {
     "name": "stdout",
     "output_type": "stream",
     "text": [
      "created path\n"
     ]
    },
    {
     "name": "stderr",
     "output_type": "stream",
     "text": [
      "100%|██████████| 100/100 [05:47<00:00,  3.47s/it]"
     ]
    },
    {
     "name": "stdout",
     "output_type": "stream",
     "text": [
      "\n"
     ]
    },
    {
     "name": "stderr",
     "output_type": "stream",
     "text": [
      "\n"
     ]
    },
    {
     "data": {
      "text/html": [
       "Waiting for W&B process to finish... <strong style=\"color:green\">(success).</strong>"
      ],
      "text/plain": [
       "<IPython.core.display.HTML object>"
      ]
     },
     "metadata": {},
     "output_type": "display_data"
    },
    {
     "data": {
      "application/vnd.jupyter.widget-view+json": {
       "model_id": "e7a35d95ad8b41c2ac69e30f235bb1d7",
       "version_major": 2,
       "version_minor": 0
      },
      "text/plain": [
       "VBox(children=(Label(value='0.001 MB of 0.001 MB uploaded (0.000 MB deduped)\\r'), FloatProgress(value=1.0, max…"
      ]
     },
     "metadata": {},
     "output_type": "display_data"
    },
    {
     "data": {
      "text/html": [
       "<style>\n",
       "    table.wandb td:nth-child(1) { padding: 0 10px; text-align: right }\n",
       "    .wandb-row { display: flex; flex-direction: row; flex-wrap: wrap; width: 100% }\n",
       "    .wandb-col { display: flex; flex-direction: column; flex-basis: 100%; flex: 1; padding: 10px; }\n",
       "    </style>\n",
       "<div class=\"wandb-row\"><div class=\"wandb-col\"><h3>Run history:</h3><br/><table class=\"wandb\"><tr><td>bfnotavail</td><td>▅▁▂▂▂▂▆▃▅█</td></tr><tr><td>bfprofit</td><td>█▇▃▃▁▂▇▂▂▅</td></tr><tr><td>correct_conf</td><td>▁▇█▇███▇██</td></tr><tr><td>epoch</td><td>▁▁▁▁▂▂▂▂▂▃▃▃▃▃▃▄▄▄▄▄▅▅▅▅▅▅▆▆▆▆▆▇▇▇▇▇▇███</td></tr><tr><td>incorrect_conf</td><td>▁▇█▇█████▇</td></tr><tr><td>loss</td><td>█▂▂▃▂▃▃▁▃▃▂▂▁▂▂▂▃▃▂▂▁▄▁▂▃▂▃▄▃▃▃▄▂▂▃▂▃▂▂▁</td></tr><tr><td>num_bets_per</td><td>█▂▁▂▁▁▁▂▁▁</td></tr><tr><td>profit</td><td>▆▇▂▂▁▁█▂▂▅</td></tr><tr><td>test_accuracy</td><td>▁▂▃▃▄▄▇▅▇█</td></tr><tr><td>value_pick_roi</td><td>▁▂▄▃▂▁▃▃█▅</td></tr></table><br/></div><div class=\"wandb-col\"><h3>Run summary:</h3><br/><table class=\"wandb\"><tr><td>bfnotavail</td><td>647</td></tr><tr><td>correct_conf</td><td>0.52356</td></tr><tr><td>epoch</td><td>99</td></tr><tr><td>incorrect_conf</td><td>0.528</td></tr><tr><td>num_bets_per</td><td>2.36934</td></tr><tr><td>profit</td><td>-1154.1</td></tr><tr><td>value_pick_roi</td><td>-0.2457</td></tr></table><br/></div></div>"
      ],
      "text/plain": [
       "<IPython.core.display.HTML object>"
      ]
     },
     "metadata": {},
     "output_type": "display_data"
    },
    {
     "data": {
      "text/html": [
       "Synced <strong style=\"color:#cdcd00\">ruby-sweep-40</strong>: <a href=\"https://wandb.ai/nickojelly/grv_priced_sweep_custom/runs/rjbowqws\" target=\"_blank\">https://wandb.ai/nickojelly/grv_priced_sweep_custom/runs/rjbowqws</a><br/>Synced 5 W&B file(s), 0 media file(s), 0 artifact file(s) and 0 other file(s)"
      ],
      "text/plain": [
       "<IPython.core.display.HTML object>"
      ]
     },
     "metadata": {},
     "output_type": "display_data"
    },
    {
     "data": {
      "text/html": [
       "Find logs at: <code>.\\wandb\\run-20220825_083739-rjbowqws\\logs</code>"
      ],
      "text/plain": [
       "<IPython.core.display.HTML object>"
      ]
     },
     "metadata": {},
     "output_type": "display_data"
    },
    {
     "name": "stderr",
     "output_type": "stream",
     "text": [
      "\u001b[34m\u001b[1mwandb\u001b[0m: Agent Starting Run: xqvgl3o0 with config:\n",
      "\u001b[34m\u001b[1mwandb\u001b[0m: \tbatch_size: 360\n",
      "\u001b[34m\u001b[1mwandb\u001b[0m: \tdropout: 0.5\n",
      "\u001b[34m\u001b[1mwandb\u001b[0m: \tepochs: 100\n",
      "\u001b[34m\u001b[1mwandb\u001b[0m: \tf1_layer_size: 128\n",
      "\u001b[34m\u001b[1mwandb\u001b[0m: \tf2_layer_size: 64\n",
      "\u001b[34m\u001b[1mwandb\u001b[0m: \tl1_beta: 0.8643604689859545\n",
      "\u001b[34m\u001b[1mwandb\u001b[0m: \tlearning_rate: 0.00018283534583162073\n",
      "\u001b[34m\u001b[1mwandb\u001b[0m: \tloss: l1_custom\n",
      "\u001b[34m\u001b[1mwandb\u001b[0m: \tnum_layers: 2\n",
      "\u001b[34m\u001b[1mwandb\u001b[0m: \toptimizer: adam\n",
      "\u001b[34m\u001b[1mwandb\u001b[0m: \tvalidation_split: 0.1\n",
      "Failed to detect the name of this notebook, you can set it manually with the WANDB_NOTEBOOK_NAME environment variable to enable code saving.\n",
      "\u001b[34m\u001b[1mwandb\u001b[0m: \u001b[33mWARNING\u001b[0m Ignored wandb.init() arg project when running a sweep.\n"
     ]
    },
    {
     "data": {
      "text/html": [
       "wandb version 0.13.2 is available!  To upgrade, please run:\n",
       " $ pip install wandb --upgrade"
      ],
      "text/plain": [
       "<IPython.core.display.HTML object>"
      ]
     },
     "metadata": {},
     "output_type": "display_data"
    },
    {
     "data": {
      "text/html": [
       "Tracking run with wandb version 0.12.14"
      ],
      "text/plain": [
       "<IPython.core.display.HTML object>"
      ]
     },
     "metadata": {},
     "output_type": "display_data"
    },
    {
     "data": {
      "text/html": [
       "Run data is saved locally in <code>c:\\Users\\Nick\\Documents\\GitHub\\grvmodel\\Python\\pytorch\\New Model\\wandb\\run-20220825_084338-xqvgl3o0</code>"
      ],
      "text/plain": [
       "<IPython.core.display.HTML object>"
      ]
     },
     "metadata": {},
     "output_type": "display_data"
    },
    {
     "data": {
      "text/html": [
       "Syncing run <strong><a href=\"https://wandb.ai/nickojelly/grv_priced_sweep_custom/runs/xqvgl3o0\" target=\"_blank\">hearty-sweep-41</a></strong> to <a href=\"https://wandb.ai/nickojelly/grv_priced_sweep_custom\" target=\"_blank\">Weights & Biases</a> (<a href=\"https://wandb.me/run\" target=\"_blank\">docs</a>)<br/>Sweep page:  <a href=\"https://wandb.ai/nickojelly/grv_priced_sweep_custom/sweeps/nwqxajsa\" target=\"_blank\">https://wandb.ai/nickojelly/grv_priced_sweep_custom/sweeps/nwqxajsa</a>"
      ],
      "text/plain": [
       "<IPython.core.display.HTML object>"
      ]
     },
     "metadata": {},
     "output_type": "display_data"
    },
    {
     "name": "stderr",
     "output_type": "stream",
     "text": [
      "  0%|          | 0/100 [00:00<?, ?it/s]"
     ]
    },
    {
     "name": "stdout",
     "output_type": "stream",
     "text": [
      "{'batch_size': 360, 'dropout': 0.5, 'epochs': 100, 'f1_layer_size': 128, 'f2_layer_size': 64, 'l1_beta': 0.8643604689859545, 'learning_rate': 0.00018283534583162073, 'loss': 'l1_custom', 'num_layers': 2, 'optimizer': 'adam', 'validation_split': 0.1}\n",
      "100\n",
      "{'batch_size': 360, 'dropout': 0.5, 'epochs': 100, 'f1_layer_size': 128, 'f2_layer_size': 64, 'l1_beta': 0.8643604689859545, 'learning_rate': 0.00018283534583162073, 'loss': 'l1_custom', 'num_layers': 2, 'optimizer': 'adam', 'validation_split': 0.1}\n",
      "Sequential(\n",
      "  (0): Linear(in_features=120, out_features=128, bias=True)\n",
      "  (1): ReLU()\n",
      "  (2): Dropout(p=0.5, inplace=False)\n",
      "  (3): Linear(in_features=128, out_features=64, bias=True)\n",
      "  (4): ReLU()\n",
      "  (5): Dropout(p=0.5, inplace=False)\n",
      "  (6): Linear(in_features=64, out_features=8, bias=True)\n",
      "  (7): Softmax(dim=1)\n",
      ")\n"
     ]
    },
    {
     "name": "stderr",
     "output_type": "stream",
     "text": [
      "  1%|          | 1/100 [00:11<19:00, 11.52s/it]"
     ]
    },
    {
     "name": "stdout",
     "output_type": "stream",
     "text": [
      "created path\n"
     ]
    },
    {
     "name": "stderr",
     "output_type": "stream",
     "text": [
      "100%|██████████| 100/100 [04:37<00:00,  2.77s/it]\n"
     ]
    },
    {
     "name": "stdout",
     "output_type": "stream",
     "text": [
      "\n"
     ]
    },
    {
     "data": {
      "text/html": [
       "Waiting for W&B process to finish... <strong style=\"color:green\">(success).</strong>"
      ],
      "text/plain": [
       "<IPython.core.display.HTML object>"
      ]
     },
     "metadata": {},
     "output_type": "display_data"
    },
    {
     "data": {
      "application/vnd.jupyter.widget-view+json": {
       "model_id": "ea607262778c47e789b662fd38ef8942",
       "version_major": 2,
       "version_minor": 0
      },
      "text/plain": [
       "VBox(children=(Label(value='0.001 MB of 0.001 MB uploaded (0.000 MB deduped)\\r'), FloatProgress(value=1.0, max…"
      ]
     },
     "metadata": {},
     "output_type": "display_data"
    },
    {
     "data": {
      "text/html": [
       "<style>\n",
       "    table.wandb td:nth-child(1) { padding: 0 10px; text-align: right }\n",
       "    .wandb-row { display: flex; flex-direction: row; flex-wrap: wrap; width: 100% }\n",
       "    .wandb-col { display: flex; flex-direction: column; flex-basis: 100%; flex: 1; padding: 10px; }\n",
       "    </style>\n",
       "<div class=\"wandb-row\"><div class=\"wandb-col\"><h3>Run history:</h3><br/><table class=\"wandb\"><tr><td>bfnotavail</td><td>▁▂▃▃▃▄▇███</td></tr><tr><td>bfprofit</td><td>▆▁▆▃▃█▄▆█▅</td></tr><tr><td>correct_conf</td><td>▁▁▂▂▃▃▆▇▇█</td></tr><tr><td>epoch</td><td>▁▁▁▁▂▂▂▂▂▃▃▃▃▃▃▄▄▄▄▄▅▅▅▅▅▅▆▆▆▆▆▇▇▇▇▇▇███</td></tr><tr><td>incorrect_conf</td><td>▁▁▂▃▃▃▆▇▇█</td></tr><tr><td>loss</td><td>█▅▇▄▅▅▄▄▅▇▆▅▃▄▄▄▃▄▅▄▃▅▂▄▂▃▃▃▂▂▁▁▂▃▃▁▄▄▄▂</td></tr><tr><td>num_bets_per</td><td>▂▃██▇▆▆▄▂▁</td></tr><tr><td>profit</td><td>▁▁▆▃▂▇▄▇█▆</td></tr><tr><td>test_accuracy</td><td>▁▃▃▃▃▄▇███</td></tr><tr><td>value_pick_roi</td><td>▁▁▄▅▅▄▆▇██</td></tr></table><br/></div><div class=\"wandb-col\"><h3>Run summary:</h3><br/><table class=\"wandb\"><tr><td>bfnotavail</td><td>910</td></tr><tr><td>correct_conf</td><td>0.28245</td></tr><tr><td>epoch</td><td>99</td></tr><tr><td>incorrect_conf</td><td>0.25264</td></tr><tr><td>num_bets_per</td><td>4.00433</td></tr><tr><td>profit</td><td>-966.24</td></tr><tr><td>value_pick_roi</td><td>-0.2571</td></tr></table><br/></div></div>"
      ],
      "text/plain": [
       "<IPython.core.display.HTML object>"
      ]
     },
     "metadata": {},
     "output_type": "display_data"
    },
    {
     "data": {
      "text/html": [
       "Synced <strong style=\"color:#cdcd00\">hearty-sweep-41</strong>: <a href=\"https://wandb.ai/nickojelly/grv_priced_sweep_custom/runs/xqvgl3o0\" target=\"_blank\">https://wandb.ai/nickojelly/grv_priced_sweep_custom/runs/xqvgl3o0</a><br/>Synced 5 W&B file(s), 0 media file(s), 0 artifact file(s) and 0 other file(s)"
      ],
      "text/plain": [
       "<IPython.core.display.HTML object>"
      ]
     },
     "metadata": {},
     "output_type": "display_data"
    },
    {
     "data": {
      "text/html": [
       "Find logs at: <code>.\\wandb\\run-20220825_084338-xqvgl3o0\\logs</code>"
      ],
      "text/plain": [
       "<IPython.core.display.HTML object>"
      ]
     },
     "metadata": {},
     "output_type": "display_data"
    },
    {
     "name": "stderr",
     "output_type": "stream",
     "text": [
      "\u001b[34m\u001b[1mwandb\u001b[0m: Agent Starting Run: id7c3fpe with config:\n",
      "\u001b[34m\u001b[1mwandb\u001b[0m: \tbatch_size: 64\n",
      "\u001b[34m\u001b[1mwandb\u001b[0m: \tdropout: 0.4\n",
      "\u001b[34m\u001b[1mwandb\u001b[0m: \tepochs: 100\n",
      "\u001b[34m\u001b[1mwandb\u001b[0m: \tf1_layer_size: 64\n",
      "\u001b[34m\u001b[1mwandb\u001b[0m: \tf2_layer_size: 64\n",
      "\u001b[34m\u001b[1mwandb\u001b[0m: \tl1_beta: 0.6071042492360312\n",
      "\u001b[34m\u001b[1mwandb\u001b[0m: \tlearning_rate: 0.0005121342799718185\n",
      "\u001b[34m\u001b[1mwandb\u001b[0m: \tloss: l1_custom\n",
      "\u001b[34m\u001b[1mwandb\u001b[0m: \tnum_layers: 2\n",
      "\u001b[34m\u001b[1mwandb\u001b[0m: \toptimizer: adam\n",
      "\u001b[34m\u001b[1mwandb\u001b[0m: \tvalidation_split: 0.1\n",
      "Failed to detect the name of this notebook, you can set it manually with the WANDB_NOTEBOOK_NAME environment variable to enable code saving.\n",
      "\u001b[34m\u001b[1mwandb\u001b[0m: \u001b[33mWARNING\u001b[0m Ignored wandb.init() arg project when running a sweep.\n"
     ]
    },
    {
     "data": {
      "text/html": [
       "wandb version 0.13.2 is available!  To upgrade, please run:\n",
       " $ pip install wandb --upgrade"
      ],
      "text/plain": [
       "<IPython.core.display.HTML object>"
      ]
     },
     "metadata": {},
     "output_type": "display_data"
    },
    {
     "data": {
      "text/html": [
       "Tracking run with wandb version 0.12.14"
      ],
      "text/plain": [
       "<IPython.core.display.HTML object>"
      ]
     },
     "metadata": {},
     "output_type": "display_data"
    },
    {
     "data": {
      "text/html": [
       "Run data is saved locally in <code>c:\\Users\\Nick\\Documents\\GitHub\\grvmodel\\Python\\pytorch\\New Model\\wandb\\run-20220825_084828-id7c3fpe</code>"
      ],
      "text/plain": [
       "<IPython.core.display.HTML object>"
      ]
     },
     "metadata": {},
     "output_type": "display_data"
    },
    {
     "data": {
      "text/html": [
       "Syncing run <strong><a href=\"https://wandb.ai/nickojelly/grv_priced_sweep_custom/runs/id7c3fpe\" target=\"_blank\">cerulean-sweep-42</a></strong> to <a href=\"https://wandb.ai/nickojelly/grv_priced_sweep_custom\" target=\"_blank\">Weights & Biases</a> (<a href=\"https://wandb.me/run\" target=\"_blank\">docs</a>)<br/>Sweep page:  <a href=\"https://wandb.ai/nickojelly/grv_priced_sweep_custom/sweeps/nwqxajsa\" target=\"_blank\">https://wandb.ai/nickojelly/grv_priced_sweep_custom/sweeps/nwqxajsa</a>"
      ],
      "text/plain": [
       "<IPython.core.display.HTML object>"
      ]
     },
     "metadata": {},
     "output_type": "display_data"
    },
    {
     "name": "stderr",
     "output_type": "stream",
     "text": [
      "  0%|          | 0/100 [00:00<?, ?it/s]"
     ]
    },
    {
     "name": "stdout",
     "output_type": "stream",
     "text": [
      "{'batch_size': 64, 'dropout': 0.4, 'epochs': 100, 'f1_layer_size': 64, 'f2_layer_size': 64, 'l1_beta': 0.6071042492360312, 'learning_rate': 0.0005121342799718185, 'loss': 'l1_custom', 'num_layers': 2, 'optimizer': 'adam', 'validation_split': 0.1}\n",
      "100\n",
      "{'batch_size': 64, 'dropout': 0.4, 'epochs': 100, 'f1_layer_size': 64, 'f2_layer_size': 64, 'l1_beta': 0.6071042492360312, 'learning_rate': 0.0005121342799718185, 'loss': 'l1_custom', 'num_layers': 2, 'optimizer': 'adam', 'validation_split': 0.1}\n",
      "Sequential(\n",
      "  (0): Linear(in_features=120, out_features=64, bias=True)\n",
      "  (1): ReLU()\n",
      "  (2): Dropout(p=0.4, inplace=False)\n",
      "  (3): Linear(in_features=64, out_features=64, bias=True)\n",
      "  (4): ReLU()\n",
      "  (5): Dropout(p=0.4, inplace=False)\n",
      "  (6): Linear(in_features=64, out_features=8, bias=True)\n",
      "  (7): Softmax(dim=1)\n",
      ")\n"
     ]
    },
    {
     "name": "stderr",
     "output_type": "stream",
     "text": [
      "  1%|          | 1/100 [00:14<23:08, 14.03s/it]"
     ]
    },
    {
     "name": "stdout",
     "output_type": "stream",
     "text": [
      "created path\n"
     ]
    },
    {
     "name": "stderr",
     "output_type": "stream",
     "text": [
      "100%|██████████| 100/100 [08:04<00:00,  4.85s/it]\n"
     ]
    },
    {
     "name": "stdout",
     "output_type": "stream",
     "text": [
      "\n"
     ]
    },
    {
     "data": {
      "text/html": [
       "Waiting for W&B process to finish... <strong style=\"color:green\">(success).</strong>"
      ],
      "text/plain": [
       "<IPython.core.display.HTML object>"
      ]
     },
     "metadata": {},
     "output_type": "display_data"
    },
    {
     "data": {
      "application/vnd.jupyter.widget-view+json": {
       "model_id": "5b142023d8e54c9fac95fbd3e5d4a540",
       "version_major": 2,
       "version_minor": 0
      },
      "text/plain": [
       "VBox(children=(Label(value='0.001 MB of 0.001 MB uploaded (0.000 MB deduped)\\r'), FloatProgress(value=1.0, max…"
      ]
     },
     "metadata": {},
     "output_type": "display_data"
    },
    {
     "data": {
      "text/html": [
       "<style>\n",
       "    table.wandb td:nth-child(1) { padding: 0 10px; text-align: right }\n",
       "    .wandb-row { display: flex; flex-direction: row; flex-wrap: wrap; width: 100% }\n",
       "    .wandb-col { display: flex; flex-direction: column; flex-basis: 100%; flex: 1; padding: 10px; }\n",
       "    </style>\n",
       "<div class=\"wandb-row\"><div class=\"wandb-col\"><h3>Run history:</h3><br/><table class=\"wandb\"><tr><td>bfnotavail</td><td>▁████████▇</td></tr><tr><td>bfprofit</td><td>▁▄▅▃▇▆█▅▃▅</td></tr><tr><td>correct_conf</td><td>▁▇▇▇██████</td></tr><tr><td>epoch</td><td>▁▁▁▁▂▂▂▂▂▃▃▃▃▃▃▄▄▄▄▄▅▅▅▅▅▅▆▆▆▆▆▇▇▇▇▇▇███</td></tr><tr><td>incorrect_conf</td><td>▁▇▇▇▇▇▇███</td></tr><tr><td>loss</td><td>█▅▆▅▄▆▃▅▅▃▁▄▄▅▆▆▆▂▄▅▃▄▃▂▄▄▄▂▅▄▄▄▄▃▄▃▄▃▃▆</td></tr><tr><td>num_bets_per</td><td>█▄▄▄▃▂▂▁▁▂</td></tr><tr><td>profit</td><td>▁▅▄▄▇▆█▆▃▄</td></tr><tr><td>test_accuracy</td><td>▁▇████████</td></tr><tr><td>value_pick_roi</td><td>▁▆▂▅▃▆█▅▆▇</td></tr></table><br/></div><div class=\"wandb-col\"><h3>Run summary:</h3><br/><table class=\"wandb\"><tr><td>bfnotavail</td><td>900</td></tr><tr><td>correct_conf</td><td>0.29138</td></tr><tr><td>epoch</td><td>99</td></tr><tr><td>incorrect_conf</td><td>0.26344</td></tr><tr><td>num_bets_per</td><td>3.94845</td></tr><tr><td>profit</td><td>-902.9</td></tr><tr><td>value_pick_roi</td><td>-0.25678</td></tr></table><br/></div></div>"
      ],
      "text/plain": [
       "<IPython.core.display.HTML object>"
      ]
     },
     "metadata": {},
     "output_type": "display_data"
    },
    {
     "data": {
      "text/html": [
       "Synced <strong style=\"color:#cdcd00\">cerulean-sweep-42</strong>: <a href=\"https://wandb.ai/nickojelly/grv_priced_sweep_custom/runs/id7c3fpe\" target=\"_blank\">https://wandb.ai/nickojelly/grv_priced_sweep_custom/runs/id7c3fpe</a><br/>Synced 5 W&B file(s), 0 media file(s), 0 artifact file(s) and 0 other file(s)"
      ],
      "text/plain": [
       "<IPython.core.display.HTML object>"
      ]
     },
     "metadata": {},
     "output_type": "display_data"
    },
    {
     "data": {
      "text/html": [
       "Find logs at: <code>.\\wandb\\run-20220825_084828-id7c3fpe\\logs</code>"
      ],
      "text/plain": [
       "<IPython.core.display.HTML object>"
      ]
     },
     "metadata": {},
     "output_type": "display_data"
    },
    {
     "name": "stderr",
     "output_type": "stream",
     "text": [
      "\u001b[34m\u001b[1mwandb\u001b[0m: Agent Starting Run: ygoonnps with config:\n",
      "\u001b[34m\u001b[1mwandb\u001b[0m: \tbatch_size: 720\n",
      "\u001b[34m\u001b[1mwandb\u001b[0m: \tdropout: 0.5\n",
      "\u001b[34m\u001b[1mwandb\u001b[0m: \tepochs: 100\n",
      "\u001b[34m\u001b[1mwandb\u001b[0m: \tf1_layer_size: 256\n",
      "\u001b[34m\u001b[1mwandb\u001b[0m: \tf2_layer_size: 64\n",
      "\u001b[34m\u001b[1mwandb\u001b[0m: \tl1_beta: 0.3249429475709188\n",
      "\u001b[34m\u001b[1mwandb\u001b[0m: \tlearning_rate: 0.0008746642023274643\n",
      "\u001b[34m\u001b[1mwandb\u001b[0m: \tloss: l1_custom\n",
      "\u001b[34m\u001b[1mwandb\u001b[0m: \tnum_layers: 2\n",
      "\u001b[34m\u001b[1mwandb\u001b[0m: \toptimizer: adam\n",
      "\u001b[34m\u001b[1mwandb\u001b[0m: \tvalidation_split: 0.1\n",
      "Failed to detect the name of this notebook, you can set it manually with the WANDB_NOTEBOOK_NAME environment variable to enable code saving.\n",
      "\u001b[34m\u001b[1mwandb\u001b[0m: \u001b[33mWARNING\u001b[0m Ignored wandb.init() arg project when running a sweep.\n"
     ]
    },
    {
     "data": {
      "text/html": [
       "wandb version 0.13.2 is available!  To upgrade, please run:\n",
       " $ pip install wandb --upgrade"
      ],
      "text/plain": [
       "<IPython.core.display.HTML object>"
      ]
     },
     "metadata": {},
     "output_type": "display_data"
    },
    {
     "data": {
      "text/html": [
       "Tracking run with wandb version 0.12.14"
      ],
      "text/plain": [
       "<IPython.core.display.HTML object>"
      ]
     },
     "metadata": {},
     "output_type": "display_data"
    },
    {
     "data": {
      "text/html": [
       "Run data is saved locally in <code>c:\\Users\\Nick\\Documents\\GitHub\\grvmodel\\Python\\pytorch\\New Model\\wandb\\run-20220825_085646-ygoonnps</code>"
      ],
      "text/plain": [
       "<IPython.core.display.HTML object>"
      ]
     },
     "metadata": {},
     "output_type": "display_data"
    },
    {
     "data": {
      "text/html": [
       "Syncing run <strong><a href=\"https://wandb.ai/nickojelly/grv_priced_sweep_custom/runs/ygoonnps\" target=\"_blank\">fresh-sweep-43</a></strong> to <a href=\"https://wandb.ai/nickojelly/grv_priced_sweep_custom\" target=\"_blank\">Weights & Biases</a> (<a href=\"https://wandb.me/run\" target=\"_blank\">docs</a>)<br/>Sweep page:  <a href=\"https://wandb.ai/nickojelly/grv_priced_sweep_custom/sweeps/nwqxajsa\" target=\"_blank\">https://wandb.ai/nickojelly/grv_priced_sweep_custom/sweeps/nwqxajsa</a>"
      ],
      "text/plain": [
       "<IPython.core.display.HTML object>"
      ]
     },
     "metadata": {},
     "output_type": "display_data"
    },
    {
     "name": "stderr",
     "output_type": "stream",
     "text": [
      "  0%|          | 0/100 [00:00<?, ?it/s]"
     ]
    },
    {
     "name": "stdout",
     "output_type": "stream",
     "text": [
      "{'batch_size': 720, 'dropout': 0.5, 'epochs': 100, 'f1_layer_size': 256, 'f2_layer_size': 64, 'l1_beta': 0.3249429475709188, 'learning_rate': 0.0008746642023274643, 'loss': 'l1_custom', 'num_layers': 2, 'optimizer': 'adam', 'validation_split': 0.1}\n",
      "100\n",
      "{'batch_size': 720, 'dropout': 0.5, 'epochs': 100, 'f1_layer_size': 256, 'f2_layer_size': 64, 'l1_beta': 0.3249429475709188, 'learning_rate': 0.0008746642023274643, 'loss': 'l1_custom', 'num_layers': 2, 'optimizer': 'adam', 'validation_split': 0.1}\n",
      "Sequential(\n",
      "  (0): Linear(in_features=120, out_features=256, bias=True)\n",
      "  (1): ReLU()\n",
      "  (2): Dropout(p=0.5, inplace=False)\n",
      "  (3): Linear(in_features=256, out_features=64, bias=True)\n",
      "  (4): ReLU()\n",
      "  (5): Dropout(p=0.5, inplace=False)\n",
      "  (6): Linear(in_features=64, out_features=8, bias=True)\n",
      "  (7): Softmax(dim=1)\n",
      ")\n"
     ]
    },
    {
     "name": "stderr",
     "output_type": "stream",
     "text": [
      "  1%|          | 1/100 [00:11<19:20, 11.72s/it]"
     ]
    },
    {
     "name": "stdout",
     "output_type": "stream",
     "text": [
      "created path\n"
     ]
    },
    {
     "name": "stderr",
     "output_type": "stream",
     "text": [
      "100%|██████████| 100/100 [04:22<00:00,  2.62s/it]\n"
     ]
    },
    {
     "name": "stdout",
     "output_type": "stream",
     "text": [
      "\n"
     ]
    },
    {
     "data": {
      "text/html": [
       "Waiting for W&B process to finish... <strong style=\"color:green\">(success).</strong>"
      ],
      "text/plain": [
       "<IPython.core.display.HTML object>"
      ]
     },
     "metadata": {},
     "output_type": "display_data"
    },
    {
     "data": {
      "application/vnd.jupyter.widget-view+json": {
       "model_id": "8d8cc50aa25e44f9a77d7a0af00e22cb",
       "version_major": 2,
       "version_minor": 0
      },
      "text/plain": [
       "VBox(children=(Label(value='0.001 MB of 0.001 MB uploaded (0.000 MB deduped)\\r'), FloatProgress(value=1.0, max…"
      ]
     },
     "metadata": {},
     "output_type": "display_data"
    },
    {
     "data": {
      "text/html": [
       "<style>\n",
       "    table.wandb td:nth-child(1) { padding: 0 10px; text-align: right }\n",
       "    .wandb-row { display: flex; flex-direction: row; flex-wrap: wrap; width: 100% }\n",
       "    .wandb-col { display: flex; flex-direction: column; flex-basis: 100%; flex: 1; padding: 10px; }\n",
       "    </style>\n",
       "<div class=\"wandb-row\"><div class=\"wandb-col\"><h3>Run history:</h3><br/><table class=\"wandb\"><tr><td>bfnotavail</td><td>▁▁▁▁▁▁▁▁▁▁</td></tr><tr><td>bfprofit</td><td>▁▁▁▁▁▁▁▁▁▁</td></tr><tr><td>correct_conf</td><td>▁██▆▆▇▇▆▇▇</td></tr><tr><td>epoch</td><td>▁▁▁▂▂▂▂▃▃▃▃▃▄▄▄▄▅▅▅▅▅▆▆▆▆▆▇▇▇▇███</td></tr><tr><td>incorrect_conf</td><td>▁██▆▆▇▇▆▇▇</td></tr><tr><td>loss</td><td>▅▅▅▄▆▄█▃▃▅▅▂▁▅▂▄▅▅▃▅▃▄▃▄▆▆▅▅▇▄▃▄▅</td></tr><tr><td>num_bets_per</td><td>▁▂▂▅▃█▆▃▂▄</td></tr><tr><td>profit</td><td>▁▁▁▁▁▁▁▁▁▁</td></tr><tr><td>test_accuracy</td><td>▁▁▁▁▁▁▁▁▁▁</td></tr><tr><td>value_pick_roi</td><td>▁▅▅██▆▆▇▅█</td></tr></table><br/></div><div class=\"wandb-col\"><h3>Run summary:</h3><br/><table class=\"wandb\"><tr><td>bfnotavail</td><td>558</td></tr><tr><td>correct_conf</td><td>0.14558</td></tr><tr><td>epoch</td><td>98</td></tr><tr><td>incorrect_conf</td><td>0.14557</td></tr><tr><td>num_bets_per</td><td>4.03153</td></tr><tr><td>profit</td><td>-1290.75999</td></tr><tr><td>value_pick_roi</td><td>-0.28297</td></tr></table><br/></div></div>"
      ],
      "text/plain": [
       "<IPython.core.display.HTML object>"
      ]
     },
     "metadata": {},
     "output_type": "display_data"
    },
    {
     "data": {
      "text/html": [
       "Synced <strong style=\"color:#cdcd00\">fresh-sweep-43</strong>: <a href=\"https://wandb.ai/nickojelly/grv_priced_sweep_custom/runs/ygoonnps\" target=\"_blank\">https://wandb.ai/nickojelly/grv_priced_sweep_custom/runs/ygoonnps</a><br/>Synced 5 W&B file(s), 0 media file(s), 0 artifact file(s) and 0 other file(s)"
      ],
      "text/plain": [
       "<IPython.core.display.HTML object>"
      ]
     },
     "metadata": {},
     "output_type": "display_data"
    },
    {
     "data": {
      "text/html": [
       "Find logs at: <code>.\\wandb\\run-20220825_085646-ygoonnps\\logs</code>"
      ],
      "text/plain": [
       "<IPython.core.display.HTML object>"
      ]
     },
     "metadata": {},
     "output_type": "display_data"
    },
    {
     "name": "stderr",
     "output_type": "stream",
     "text": [
      "\u001b[34m\u001b[1mwandb\u001b[0m: Sweep Agent: Waiting for job.\n",
      "\u001b[34m\u001b[1mwandb\u001b[0m: Job received.\n",
      "\u001b[34m\u001b[1mwandb\u001b[0m: Agent Starting Run: wsokmlim with config:\n",
      "\u001b[34m\u001b[1mwandb\u001b[0m: \tbatch_size: 64\n",
      "\u001b[34m\u001b[1mwandb\u001b[0m: \tdropout: 0.3\n",
      "\u001b[34m\u001b[1mwandb\u001b[0m: \tepochs: 100\n",
      "\u001b[34m\u001b[1mwandb\u001b[0m: \tf1_layer_size: 64\n",
      "\u001b[34m\u001b[1mwandb\u001b[0m: \tf2_layer_size: 128\n",
      "\u001b[34m\u001b[1mwandb\u001b[0m: \tl1_beta: 0.8465568988811866\n",
      "\u001b[34m\u001b[1mwandb\u001b[0m: \tlearning_rate: 0.00022380499479295705\n",
      "\u001b[34m\u001b[1mwandb\u001b[0m: \tloss: l1_custom\n",
      "\u001b[34m\u001b[1mwandb\u001b[0m: \tnum_layers: 2\n",
      "\u001b[34m\u001b[1mwandb\u001b[0m: \toptimizer: adam\n",
      "\u001b[34m\u001b[1mwandb\u001b[0m: \tvalidation_split: 0.1\n",
      "Failed to detect the name of this notebook, you can set it manually with the WANDB_NOTEBOOK_NAME environment variable to enable code saving.\n",
      "\u001b[34m\u001b[1mwandb\u001b[0m: \u001b[33mWARNING\u001b[0m Ignored wandb.init() arg project when running a sweep.\n"
     ]
    },
    {
     "data": {
      "text/html": [
       "wandb version 0.13.2 is available!  To upgrade, please run:\n",
       " $ pip install wandb --upgrade"
      ],
      "text/plain": [
       "<IPython.core.display.HTML object>"
      ]
     },
     "metadata": {},
     "output_type": "display_data"
    },
    {
     "data": {
      "text/html": [
       "Tracking run with wandb version 0.12.14"
      ],
      "text/plain": [
       "<IPython.core.display.HTML object>"
      ]
     },
     "metadata": {},
     "output_type": "display_data"
    },
    {
     "data": {
      "text/html": [
       "Run data is saved locally in <code>c:\\Users\\Nick\\Documents\\GitHub\\grvmodel\\Python\\pytorch\\New Model\\wandb\\run-20220825_090126-wsokmlim</code>"
      ],
      "text/plain": [
       "<IPython.core.display.HTML object>"
      ]
     },
     "metadata": {},
     "output_type": "display_data"
    },
    {
     "data": {
      "text/html": [
       "Syncing run <strong><a href=\"https://wandb.ai/nickojelly/grv_priced_sweep_custom/runs/wsokmlim\" target=\"_blank\">deep-sweep-44</a></strong> to <a href=\"https://wandb.ai/nickojelly/grv_priced_sweep_custom\" target=\"_blank\">Weights & Biases</a> (<a href=\"https://wandb.me/run\" target=\"_blank\">docs</a>)<br/>Sweep page:  <a href=\"https://wandb.ai/nickojelly/grv_priced_sweep_custom/sweeps/nwqxajsa\" target=\"_blank\">https://wandb.ai/nickojelly/grv_priced_sweep_custom/sweeps/nwqxajsa</a>"
      ],
      "text/plain": [
       "<IPython.core.display.HTML object>"
      ]
     },
     "metadata": {},
     "output_type": "display_data"
    },
    {
     "name": "stderr",
     "output_type": "stream",
     "text": [
      "  0%|          | 0/100 [00:00<?, ?it/s]"
     ]
    },
    {
     "name": "stdout",
     "output_type": "stream",
     "text": [
      "{'batch_size': 64, 'dropout': 0.3, 'epochs': 100, 'f1_layer_size': 64, 'f2_layer_size': 128, 'l1_beta': 0.8465568988811866, 'learning_rate': 0.00022380499479295705, 'loss': 'l1_custom', 'num_layers': 2, 'optimizer': 'adam', 'validation_split': 0.1}\n",
      "100\n",
      "{'batch_size': 64, 'dropout': 0.3, 'epochs': 100, 'f1_layer_size': 64, 'f2_layer_size': 128, 'l1_beta': 0.8465568988811866, 'learning_rate': 0.00022380499479295705, 'loss': 'l1_custom', 'num_layers': 2, 'optimizer': 'adam', 'validation_split': 0.1}\n",
      "Sequential(\n",
      "  (0): Linear(in_features=120, out_features=64, bias=True)\n",
      "  (1): ReLU()\n",
      "  (2): Dropout(p=0.3, inplace=False)\n",
      "  (3): Linear(in_features=64, out_features=128, bias=True)\n",
      "  (4): ReLU()\n",
      "  (5): Dropout(p=0.3, inplace=False)\n",
      "  (6): Linear(in_features=128, out_features=8, bias=True)\n",
      "  (7): Softmax(dim=1)\n",
      ")\n"
     ]
    },
    {
     "name": "stderr",
     "output_type": "stream",
     "text": [
      "  1%|          | 1/100 [00:14<23:26, 14.21s/it]"
     ]
    },
    {
     "name": "stdout",
     "output_type": "stream",
     "text": [
      "created path\n"
     ]
    },
    {
     "name": "stderr",
     "output_type": "stream",
     "text": [
      "100%|██████████| 100/100 [08:05<00:00,  4.85s/it]\n"
     ]
    },
    {
     "name": "stdout",
     "output_type": "stream",
     "text": [
      "\n"
     ]
    },
    {
     "data": {
      "text/html": [
       "Waiting for W&B process to finish... <strong style=\"color:green\">(success).</strong>"
      ],
      "text/plain": [
       "<IPython.core.display.HTML object>"
      ]
     },
     "metadata": {},
     "output_type": "display_data"
    },
    {
     "data": {
      "application/vnd.jupyter.widget-view+json": {
       "model_id": "5dc823b783f94be3af1ad79436e6aa8f",
       "version_major": 2,
       "version_minor": 0
      },
      "text/plain": [
       "VBox(children=(Label(value='0.001 MB of 0.001 MB uploaded (0.000 MB deduped)\\r'), FloatProgress(value=1.0, max…"
      ]
     },
     "metadata": {},
     "output_type": "display_data"
    },
    {
     "data": {
      "text/html": [
       "<style>\n",
       "    table.wandb td:nth-child(1) { padding: 0 10px; text-align: right }\n",
       "    .wandb-row { display: flex; flex-direction: row; flex-wrap: wrap; width: 100% }\n",
       "    .wandb-col { display: flex; flex-direction: column; flex-basis: 100%; flex: 1; padding: 10px; }\n",
       "    </style>\n",
       "<div class=\"wandb-row\"><div class=\"wandb-col\"><h3>Run history:</h3><br/><table class=\"wandb\"><tr><td>bfnotavail</td><td>▁▇███▇█▇▇▇</td></tr><tr><td>bfprofit</td><td>▁▇▇▇█▅▇█▇▆</td></tr><tr><td>correct_conf</td><td>▁▆▇▇▇▇▇▇██</td></tr><tr><td>epoch</td><td>▁▁▁▁▂▂▂▂▂▃▃▃▃▃▃▄▄▄▄▄▅▅▅▅▅▅▆▆▆▆▆▇▇▇▇▇▇███</td></tr><tr><td>incorrect_conf</td><td>▁▆▇▇▇▇▇▇██</td></tr><tr><td>loss</td><td>▅▃▃▂▅█▂▄▂▃▂▄▄▂▄▄▄▁▁▃▃▅▄▃▃▂▄▃▃▂▃▃▁▂▁▃▅▁▃▂</td></tr><tr><td>num_bets_per</td><td>█▇▄▃▄▂▃▄▂▁</td></tr><tr><td>profit</td><td>▁▇███▅▇█▇▆</td></tr><tr><td>test_accuracy</td><td>▁▇███▇█▇▇▇</td></tr><tr><td>value_pick_roi</td><td>▁▃▅█▅▆▇▆▇▆</td></tr></table><br/></div><div class=\"wandb-col\"><h3>Run summary:</h3><br/><table class=\"wandb\"><tr><td>bfnotavail</td><td>871</td></tr><tr><td>correct_conf</td><td>0.3138</td></tr><tr><td>epoch</td><td>99</td></tr><tr><td>incorrect_conf</td><td>0.28507</td></tr><tr><td>num_bets_per</td><td>3.76752</td></tr><tr><td>profit</td><td>-947.74001</td></tr><tr><td>value_pick_roi</td><td>-0.25433</td></tr></table><br/></div></div>"
      ],
      "text/plain": [
       "<IPython.core.display.HTML object>"
      ]
     },
     "metadata": {},
     "output_type": "display_data"
    },
    {
     "data": {
      "text/html": [
       "Synced <strong style=\"color:#cdcd00\">deep-sweep-44</strong>: <a href=\"https://wandb.ai/nickojelly/grv_priced_sweep_custom/runs/wsokmlim\" target=\"_blank\">https://wandb.ai/nickojelly/grv_priced_sweep_custom/runs/wsokmlim</a><br/>Synced 5 W&B file(s), 0 media file(s), 0 artifact file(s) and 0 other file(s)"
      ],
      "text/plain": [
       "<IPython.core.display.HTML object>"
      ]
     },
     "metadata": {},
     "output_type": "display_data"
    },
    {
     "data": {
      "text/html": [
       "Find logs at: <code>.\\wandb\\run-20220825_090126-wsokmlim\\logs</code>"
      ],
      "text/plain": [
       "<IPython.core.display.HTML object>"
      ]
     },
     "metadata": {},
     "output_type": "display_data"
    },
    {
     "name": "stderr",
     "output_type": "stream",
     "text": [
      "\u001b[34m\u001b[1mwandb\u001b[0m: Agent Starting Run: c2zw5ikp with config:\n",
      "\u001b[34m\u001b[1mwandb\u001b[0m: \tbatch_size: 32\n",
      "\u001b[34m\u001b[1mwandb\u001b[0m: \tdropout: 0.3\n",
      "\u001b[34m\u001b[1mwandb\u001b[0m: \tepochs: 100\n",
      "\u001b[34m\u001b[1mwandb\u001b[0m: \tf1_layer_size: 32\n",
      "\u001b[34m\u001b[1mwandb\u001b[0m: \tf2_layer_size: 64\n",
      "\u001b[34m\u001b[1mwandb\u001b[0m: \tl1_beta: 0.5470217182396807\n",
      "\u001b[34m\u001b[1mwandb\u001b[0m: \tlearning_rate: 0.00023634283994580384\n",
      "\u001b[34m\u001b[1mwandb\u001b[0m: \tloss: l1_custom\n",
      "\u001b[34m\u001b[1mwandb\u001b[0m: \tnum_layers: 2\n",
      "\u001b[34m\u001b[1mwandb\u001b[0m: \toptimizer: adam\n",
      "\u001b[34m\u001b[1mwandb\u001b[0m: \tvalidation_split: 0.1\n",
      "Failed to detect the name of this notebook, you can set it manually with the WANDB_NOTEBOOK_NAME environment variable to enable code saving.\n",
      "\u001b[34m\u001b[1mwandb\u001b[0m: \u001b[33mWARNING\u001b[0m Ignored wandb.init() arg project when running a sweep.\n"
     ]
    },
    {
     "data": {
      "text/html": [
       "wandb version 0.13.2 is available!  To upgrade, please run:\n",
       " $ pip install wandb --upgrade"
      ],
      "text/plain": [
       "<IPython.core.display.HTML object>"
      ]
     },
     "metadata": {},
     "output_type": "display_data"
    },
    {
     "data": {
      "text/html": [
       "Tracking run with wandb version 0.12.14"
      ],
      "text/plain": [
       "<IPython.core.display.HTML object>"
      ]
     },
     "metadata": {},
     "output_type": "display_data"
    },
    {
     "data": {
      "text/html": [
       "Run data is saved locally in <code>c:\\Users\\Nick\\Documents\\GitHub\\grvmodel\\Python\\pytorch\\New Model\\wandb\\run-20220825_090943-c2zw5ikp</code>"
      ],
      "text/plain": [
       "<IPython.core.display.HTML object>"
      ]
     },
     "metadata": {},
     "output_type": "display_data"
    },
    {
     "data": {
      "text/html": [
       "Syncing run <strong><a href=\"https://wandb.ai/nickojelly/grv_priced_sweep_custom/runs/c2zw5ikp\" target=\"_blank\">jumping-sweep-45</a></strong> to <a href=\"https://wandb.ai/nickojelly/grv_priced_sweep_custom\" target=\"_blank\">Weights & Biases</a> (<a href=\"https://wandb.me/run\" target=\"_blank\">docs</a>)<br/>Sweep page:  <a href=\"https://wandb.ai/nickojelly/grv_priced_sweep_custom/sweeps/nwqxajsa\" target=\"_blank\">https://wandb.ai/nickojelly/grv_priced_sweep_custom/sweeps/nwqxajsa</a>"
      ],
      "text/plain": [
       "<IPython.core.display.HTML object>"
      ]
     },
     "metadata": {},
     "output_type": "display_data"
    },
    {
     "name": "stderr",
     "output_type": "stream",
     "text": [
      "  0%|          | 0/100 [00:00<?, ?it/s]"
     ]
    },
    {
     "name": "stdout",
     "output_type": "stream",
     "text": [
      "{'batch_size': 32, 'dropout': 0.3, 'epochs': 100, 'f1_layer_size': 32, 'f2_layer_size': 64, 'l1_beta': 0.5470217182396807, 'learning_rate': 0.00023634283994580384, 'loss': 'l1_custom', 'num_layers': 2, 'optimizer': 'adam', 'validation_split': 0.1}\n",
      "100\n",
      "{'batch_size': 32, 'dropout': 0.3, 'epochs': 100, 'f1_layer_size': 32, 'f2_layer_size': 64, 'l1_beta': 0.5470217182396807, 'learning_rate': 0.00023634283994580384, 'loss': 'l1_custom', 'num_layers': 2, 'optimizer': 'adam', 'validation_split': 0.1}\n",
      "Sequential(\n",
      "  (0): Linear(in_features=120, out_features=32, bias=True)\n",
      "  (1): ReLU()\n",
      "  (2): Dropout(p=0.3, inplace=False)\n",
      "  (3): Linear(in_features=32, out_features=64, bias=True)\n",
      "  (4): ReLU()\n",
      "  (5): Dropout(p=0.3, inplace=False)\n",
      "  (6): Linear(in_features=64, out_features=8, bias=True)\n",
      "  (7): Softmax(dim=1)\n",
      ")\n"
     ]
    },
    {
     "name": "stderr",
     "output_type": "stream",
     "text": [
      "  1%|          | 1/100 [00:16<27:13, 16.50s/it]"
     ]
    },
    {
     "name": "stdout",
     "output_type": "stream",
     "text": [
      "created path\n"
     ]
    },
    {
     "name": "stderr",
     "output_type": "stream",
     "text": [
      "100%|██████████| 100/100 [12:46<00:00,  7.66s/it]\n"
     ]
    },
    {
     "name": "stdout",
     "output_type": "stream",
     "text": [
      "\n"
     ]
    },
    {
     "data": {
      "text/html": [
       "Waiting for W&B process to finish... <strong style=\"color:green\">(success).</strong>"
      ],
      "text/plain": [
       "<IPython.core.display.HTML object>"
      ]
     },
     "metadata": {},
     "output_type": "display_data"
    },
    {
     "data": {
      "application/vnd.jupyter.widget-view+json": {
       "model_id": "8d4f48bc06fb47448ccc746b302d1dbd",
       "version_major": 2,
       "version_minor": 0
      },
      "text/plain": [
       "VBox(children=(Label(value='0.001 MB of 0.001 MB uploaded (0.000 MB deduped)\\r'), FloatProgress(value=1.0, max…"
      ]
     },
     "metadata": {},
     "output_type": "display_data"
    },
    {
     "data": {
      "text/html": [
       "<style>\n",
       "    table.wandb td:nth-child(1) { padding: 0 10px; text-align: right }\n",
       "    .wandb-row { display: flex; flex-direction: row; flex-wrap: wrap; width: 100% }\n",
       "    .wandb-col { display: flex; flex-direction: column; flex-basis: 100%; flex: 1; padding: 10px; }\n",
       "    </style>\n",
       "<div class=\"wandb-row\"><div class=\"wandb-col\"><h3>Run history:</h3><br/><table class=\"wandb\"><tr><td>bfnotavail</td><td>▁▆▆▆▇▆▇▇██</td></tr><tr><td>bfprofit</td><td>▁▁▄█▅▄▆▇▆█</td></tr><tr><td>correct_conf</td><td>▁▆▇▇█▇▇▇▇█</td></tr><tr><td>epoch</td><td>▁▁▁▁▂▂▂▂▂▃▃▃▃▃▃▄▄▄▄▄▅▅▅▅▅▅▆▆▆▆▆▇▇▇▇▇▇███</td></tr><tr><td>incorrect_conf</td><td>▁▆▆▇█▇▇▇▇▇</td></tr><tr><td>loss</td><td>▇▆▆▃▃▅▄▆▄▃▅█▄▄▇█▄▃▄█▃▅▂▇▂▄▄▄▅▃▆▄▆▃▆▅▁▇▅▃</td></tr><tr><td>num_bets_per</td><td>█▅▄▂▁▂▁▁▂▃</td></tr><tr><td>profit</td><td>▁▄▆█▇▆▇▇▇█</td></tr><tr><td>test_accuracy</td><td>▁▆▇▇▇▇▇▇██</td></tr><tr><td>value_pick_roi</td><td>▁▅▅▇█▅█▇▆▆</td></tr></table><br/></div><div class=\"wandb-col\"><h3>Run summary:</h3><br/><table class=\"wandb\"><tr><td>bfnotavail</td><td>964</td></tr><tr><td>correct_conf</td><td>0.27616</td></tr><tr><td>epoch</td><td>99</td></tr><tr><td>incorrect_conf</td><td>0.24655</td></tr><tr><td>num_bets_per</td><td>4.03302</td></tr><tr><td>profit</td><td>-797.3</td></tr><tr><td>value_pick_roi</td><td>-0.26077</td></tr></table><br/></div></div>"
      ],
      "text/plain": [
       "<IPython.core.display.HTML object>"
      ]
     },
     "metadata": {},
     "output_type": "display_data"
    },
    {
     "data": {
      "text/html": [
       "Synced <strong style=\"color:#cdcd00\">jumping-sweep-45</strong>: <a href=\"https://wandb.ai/nickojelly/grv_priced_sweep_custom/runs/c2zw5ikp\" target=\"_blank\">https://wandb.ai/nickojelly/grv_priced_sweep_custom/runs/c2zw5ikp</a><br/>Synced 5 W&B file(s), 0 media file(s), 0 artifact file(s) and 0 other file(s)"
      ],
      "text/plain": [
       "<IPython.core.display.HTML object>"
      ]
     },
     "metadata": {},
     "output_type": "display_data"
    },
    {
     "data": {
      "text/html": [
       "Find logs at: <code>.\\wandb\\run-20220825_090943-c2zw5ikp\\logs</code>"
      ],
      "text/plain": [
       "<IPython.core.display.HTML object>"
      ]
     },
     "metadata": {},
     "output_type": "display_data"
    },
    {
     "name": "stderr",
     "output_type": "stream",
     "text": [
      "\u001b[34m\u001b[1mwandb\u001b[0m: Agent Starting Run: otl0hp9a with config:\n",
      "\u001b[34m\u001b[1mwandb\u001b[0m: \tbatch_size: 64\n",
      "\u001b[34m\u001b[1mwandb\u001b[0m: \tdropout: 0.3\n",
      "\u001b[34m\u001b[1mwandb\u001b[0m: \tepochs: 100\n",
      "\u001b[34m\u001b[1mwandb\u001b[0m: \tf1_layer_size: 32\n",
      "\u001b[34m\u001b[1mwandb\u001b[0m: \tf2_layer_size: 32\n",
      "\u001b[34m\u001b[1mwandb\u001b[0m: \tl1_beta: 0.33257172473990615\n",
      "\u001b[34m\u001b[1mwandb\u001b[0m: \tlearning_rate: 0.00012246381354073956\n",
      "\u001b[34m\u001b[1mwandb\u001b[0m: \tloss: l1_custom\n",
      "\u001b[34m\u001b[1mwandb\u001b[0m: \tnum_layers: 2\n",
      "\u001b[34m\u001b[1mwandb\u001b[0m: \toptimizer: adam\n",
      "\u001b[34m\u001b[1mwandb\u001b[0m: \tvalidation_split: 0.1\n",
      "Failed to detect the name of this notebook, you can set it manually with the WANDB_NOTEBOOK_NAME environment variable to enable code saving.\n",
      "\u001b[34m\u001b[1mwandb\u001b[0m: \u001b[33mWARNING\u001b[0m Ignored wandb.init() arg project when running a sweep.\n"
     ]
    },
    {
     "data": {
      "text/html": [
       "wandb version 0.13.2 is available!  To upgrade, please run:\n",
       " $ pip install wandb --upgrade"
      ],
      "text/plain": [
       "<IPython.core.display.HTML object>"
      ]
     },
     "metadata": {},
     "output_type": "display_data"
    },
    {
     "data": {
      "text/html": [
       "Tracking run with wandb version 0.12.14"
      ],
      "text/plain": [
       "<IPython.core.display.HTML object>"
      ]
     },
     "metadata": {},
     "output_type": "display_data"
    },
    {
     "data": {
      "text/html": [
       "Run data is saved locally in <code>c:\\Users\\Nick\\Documents\\GitHub\\grvmodel\\Python\\pytorch\\New Model\\wandb\\run-20220825_092241-otl0hp9a</code>"
      ],
      "text/plain": [
       "<IPython.core.display.HTML object>"
      ]
     },
     "metadata": {},
     "output_type": "display_data"
    },
    {
     "data": {
      "text/html": [
       "Syncing run <strong><a href=\"https://wandb.ai/nickojelly/grv_priced_sweep_custom/runs/otl0hp9a\" target=\"_blank\">likely-sweep-46</a></strong> to <a href=\"https://wandb.ai/nickojelly/grv_priced_sweep_custom\" target=\"_blank\">Weights & Biases</a> (<a href=\"https://wandb.me/run\" target=\"_blank\">docs</a>)<br/>Sweep page:  <a href=\"https://wandb.ai/nickojelly/grv_priced_sweep_custom/sweeps/nwqxajsa\" target=\"_blank\">https://wandb.ai/nickojelly/grv_priced_sweep_custom/sweeps/nwqxajsa</a>"
      ],
      "text/plain": [
       "<IPython.core.display.HTML object>"
      ]
     },
     "metadata": {},
     "output_type": "display_data"
    },
    {
     "name": "stderr",
     "output_type": "stream",
     "text": [
      "  0%|          | 0/100 [00:00<?, ?it/s]"
     ]
    },
    {
     "name": "stdout",
     "output_type": "stream",
     "text": [
      "{'batch_size': 64, 'dropout': 0.3, 'epochs': 100, 'f1_layer_size': 32, 'f2_layer_size': 32, 'l1_beta': 0.33257172473990615, 'learning_rate': 0.00012246381354073956, 'loss': 'l1_custom', 'num_layers': 2, 'optimizer': 'adam', 'validation_split': 0.1}\n",
      "100\n",
      "{'batch_size': 64, 'dropout': 0.3, 'epochs': 100, 'f1_layer_size': 32, 'f2_layer_size': 32, 'l1_beta': 0.33257172473990615, 'learning_rate': 0.00012246381354073956, 'loss': 'l1_custom', 'num_layers': 2, 'optimizer': 'adam', 'validation_split': 0.1}\n",
      "Sequential(\n",
      "  (0): Linear(in_features=120, out_features=32, bias=True)\n",
      "  (1): ReLU()\n",
      "  (2): Dropout(p=0.3, inplace=False)\n",
      "  (3): Linear(in_features=32, out_features=32, bias=True)\n",
      "  (4): ReLU()\n",
      "  (5): Dropout(p=0.3, inplace=False)\n",
      "  (6): Linear(in_features=32, out_features=8, bias=True)\n",
      "  (7): Softmax(dim=1)\n",
      ")\n"
     ]
    },
    {
     "name": "stderr",
     "output_type": "stream",
     "text": [
      "  1%|          | 1/100 [00:13<22:45, 13.80s/it]"
     ]
    },
    {
     "name": "stdout",
     "output_type": "stream",
     "text": [
      "created path\n"
     ]
    },
    {
     "name": "stderr",
     "output_type": "stream",
     "text": [
      "100%|██████████| 100/100 [07:54<00:00,  4.75s/it]\n"
     ]
    },
    {
     "name": "stdout",
     "output_type": "stream",
     "text": [
      "\n"
     ]
    },
    {
     "data": {
      "text/html": [
       "Waiting for W&B process to finish... <strong style=\"color:green\">(success).</strong>"
      ],
      "text/plain": [
       "<IPython.core.display.HTML object>"
      ]
     },
     "metadata": {},
     "output_type": "display_data"
    },
    {
     "data": {
      "application/vnd.jupyter.widget-view+json": {
       "model_id": "c22a09da075a415782559fcfda63b3b5",
       "version_major": 2,
       "version_minor": 0
      },
      "text/plain": [
       "VBox(children=(Label(value='0.001 MB of 0.001 MB uploaded (0.000 MB deduped)\\r'), FloatProgress(value=1.0, max…"
      ]
     },
     "metadata": {},
     "output_type": "display_data"
    },
    {
     "data": {
      "text/html": [
       "<style>\n",
       "    table.wandb td:nth-child(1) { padding: 0 10px; text-align: right }\n",
       "    .wandb-row { display: flex; flex-direction: row; flex-wrap: wrap; width: 100% }\n",
       "    .wandb-col { display: flex; flex-direction: column; flex-basis: 100%; flex: 1; padding: 10px; }\n",
       "    </style>\n",
       "<div class=\"wandb-row\"><div class=\"wandb-col\"><h3>Run history:</h3><br/><table class=\"wandb\"><tr><td>bfnotavail</td><td>▂▁▅▅▇▇███▇</td></tr><tr><td>bfprofit</td><td>▂▁▃▃▆▄▇██▇</td></tr><tr><td>correct_conf</td><td>▁▆▇▇██████</td></tr><tr><td>epoch</td><td>▁▁▁▁▂▂▂▂▂▃▃▃▃▃▃▄▄▄▄▄▅▅▅▅▅▅▆▆▆▆▆▇▇▇▇▇▇███</td></tr><tr><td>incorrect_conf</td><td>▁▇▇▇███▇██</td></tr><tr><td>loss</td><td>█▇█▅█▄▆▄▅▂▇▆▅▇▅▆▂▄▅▄█▄▆▇▂▄▄▄▅▅▁▆▄▆▆▆▂▅▇▃</td></tr><tr><td>num_bets_per</td><td>▇█▅▃▃▁▁▃▃▁</td></tr><tr><td>profit</td><td>▁▂▃▃▇▅███▇</td></tr><tr><td>test_accuracy</td><td>▁▃▆▇▇▇████</td></tr><tr><td>value_pick_roi</td><td>▁▄▆▇█▆▇▆▇▅</td></tr></table><br/></div><div class=\"wandb-col\"><h3>Run summary:</h3><br/><table class=\"wandb\"><tr><td>bfnotavail</td><td>688</td></tr><tr><td>correct_conf</td><td>0.27053</td></tr><tr><td>epoch</td><td>99</td></tr><tr><td>incorrect_conf</td><td>0.2632</td></tr><tr><td>num_bets_per</td><td>3.9492</td></tr><tr><td>profit</td><td>-987.78</td></tr><tr><td>value_pick_roi</td><td>-0.27228</td></tr></table><br/></div></div>"
      ],
      "text/plain": [
       "<IPython.core.display.HTML object>"
      ]
     },
     "metadata": {},
     "output_type": "display_data"
    },
    {
     "data": {
      "text/html": [
       "Synced <strong style=\"color:#cdcd00\">likely-sweep-46</strong>: <a href=\"https://wandb.ai/nickojelly/grv_priced_sweep_custom/runs/otl0hp9a\" target=\"_blank\">https://wandb.ai/nickojelly/grv_priced_sweep_custom/runs/otl0hp9a</a><br/>Synced 5 W&B file(s), 0 media file(s), 0 artifact file(s) and 0 other file(s)"
      ],
      "text/plain": [
       "<IPython.core.display.HTML object>"
      ]
     },
     "metadata": {},
     "output_type": "display_data"
    },
    {
     "data": {
      "text/html": [
       "Find logs at: <code>.\\wandb\\run-20220825_092241-otl0hp9a\\logs</code>"
      ],
      "text/plain": [
       "<IPython.core.display.HTML object>"
      ]
     },
     "metadata": {},
     "output_type": "display_data"
    },
    {
     "name": "stderr",
     "output_type": "stream",
     "text": [
      "\u001b[34m\u001b[1mwandb\u001b[0m: Agent Starting Run: qfiwkaso with config:\n",
      "\u001b[34m\u001b[1mwandb\u001b[0m: \tbatch_size: 720\n",
      "\u001b[34m\u001b[1mwandb\u001b[0m: \tdropout: 0.5\n",
      "\u001b[34m\u001b[1mwandb\u001b[0m: \tepochs: 100\n",
      "\u001b[34m\u001b[1mwandb\u001b[0m: \tf1_layer_size: 32\n",
      "\u001b[34m\u001b[1mwandb\u001b[0m: \tf2_layer_size: 256\n",
      "\u001b[34m\u001b[1mwandb\u001b[0m: \tl1_beta: 0.7554683629046511\n",
      "\u001b[34m\u001b[1mwandb\u001b[0m: \tlearning_rate: 0.0008859136855062067\n",
      "\u001b[34m\u001b[1mwandb\u001b[0m: \tloss: l1_custom\n",
      "\u001b[34m\u001b[1mwandb\u001b[0m: \tnum_layers: 2\n",
      "\u001b[34m\u001b[1mwandb\u001b[0m: \toptimizer: adam\n",
      "\u001b[34m\u001b[1mwandb\u001b[0m: \tvalidation_split: 0.1\n",
      "Failed to detect the name of this notebook, you can set it manually with the WANDB_NOTEBOOK_NAME environment variable to enable code saving.\n",
      "\u001b[34m\u001b[1mwandb\u001b[0m: \u001b[33mWARNING\u001b[0m Ignored wandb.init() arg project when running a sweep.\n"
     ]
    },
    {
     "data": {
      "text/html": [
       "wandb version 0.13.2 is available!  To upgrade, please run:\n",
       " $ pip install wandb --upgrade"
      ],
      "text/plain": [
       "<IPython.core.display.HTML object>"
      ]
     },
     "metadata": {},
     "output_type": "display_data"
    },
    {
     "data": {
      "text/html": [
       "Tracking run with wandb version 0.12.14"
      ],
      "text/plain": [
       "<IPython.core.display.HTML object>"
      ]
     },
     "metadata": {},
     "output_type": "display_data"
    },
    {
     "data": {
      "text/html": [
       "Run data is saved locally in <code>c:\\Users\\Nick\\Documents\\GitHub\\grvmodel\\Python\\pytorch\\New Model\\wandb\\run-20220825_093049-qfiwkaso</code>"
      ],
      "text/plain": [
       "<IPython.core.display.HTML object>"
      ]
     },
     "metadata": {},
     "output_type": "display_data"
    },
    {
     "data": {
      "text/html": [
       "Syncing run <strong><a href=\"https://wandb.ai/nickojelly/grv_priced_sweep_custom/runs/qfiwkaso\" target=\"_blank\">dauntless-sweep-47</a></strong> to <a href=\"https://wandb.ai/nickojelly/grv_priced_sweep_custom\" target=\"_blank\">Weights & Biases</a> (<a href=\"https://wandb.me/run\" target=\"_blank\">docs</a>)<br/>Sweep page:  <a href=\"https://wandb.ai/nickojelly/grv_priced_sweep_custom/sweeps/nwqxajsa\" target=\"_blank\">https://wandb.ai/nickojelly/grv_priced_sweep_custom/sweeps/nwqxajsa</a>"
      ],
      "text/plain": [
       "<IPython.core.display.HTML object>"
      ]
     },
     "metadata": {},
     "output_type": "display_data"
    },
    {
     "name": "stderr",
     "output_type": "stream",
     "text": [
      "  0%|          | 0/100 [00:00<?, ?it/s]"
     ]
    },
    {
     "name": "stdout",
     "output_type": "stream",
     "text": [
      "{'batch_size': 720, 'dropout': 0.5, 'epochs': 100, 'f1_layer_size': 32, 'f2_layer_size': 256, 'l1_beta': 0.7554683629046511, 'learning_rate': 0.0008859136855062067, 'loss': 'l1_custom', 'num_layers': 2, 'optimizer': 'adam', 'validation_split': 0.1}\n",
      "100\n",
      "{'batch_size': 720, 'dropout': 0.5, 'epochs': 100, 'f1_layer_size': 32, 'f2_layer_size': 256, 'l1_beta': 0.7554683629046511, 'learning_rate': 0.0008859136855062067, 'loss': 'l1_custom', 'num_layers': 2, 'optimizer': 'adam', 'validation_split': 0.1}\n",
      "Sequential(\n",
      "  (0): Linear(in_features=120, out_features=32, bias=True)\n",
      "  (1): ReLU()\n",
      "  (2): Dropout(p=0.5, inplace=False)\n",
      "  (3): Linear(in_features=32, out_features=256, bias=True)\n",
      "  (4): ReLU()\n",
      "  (5): Dropout(p=0.5, inplace=False)\n",
      "  (6): Linear(in_features=256, out_features=8, bias=True)\n",
      "  (7): Softmax(dim=1)\n",
      ")\n"
     ]
    },
    {
     "name": "stderr",
     "output_type": "stream",
     "text": [
      "  1%|          | 1/100 [00:11<18:14, 11.06s/it]"
     ]
    },
    {
     "name": "stdout",
     "output_type": "stream",
     "text": [
      "created path\n"
     ]
    },
    {
     "name": "stderr",
     "output_type": "stream",
     "text": [
      "100%|██████████| 100/100 [04:17<00:00,  2.58s/it]\n"
     ]
    },
    {
     "name": "stdout",
     "output_type": "stream",
     "text": [
      "\n"
     ]
    },
    {
     "data": {
      "text/html": [
       "Waiting for W&B process to finish... <strong style=\"color:green\">(success).</strong>"
      ],
      "text/plain": [
       "<IPython.core.display.HTML object>"
      ]
     },
     "metadata": {},
     "output_type": "display_data"
    },
    {
     "data": {
      "application/vnd.jupyter.widget-view+json": {
       "model_id": "a056ff37c5bf4e7ebb96dbf772a4a94a",
       "version_major": 2,
       "version_minor": 0
      },
      "text/plain": [
       "VBox(children=(Label(value='0.001 MB of 0.001 MB uploaded (0.000 MB deduped)\\r'), FloatProgress(value=1.0, max…"
      ]
     },
     "metadata": {},
     "output_type": "display_data"
    },
    {
     "data": {
      "text/html": [
       "<style>\n",
       "    table.wandb td:nth-child(1) { padding: 0 10px; text-align: right }\n",
       "    .wandb-row { display: flex; flex-direction: row; flex-wrap: wrap; width: 100% }\n",
       "    .wandb-col { display: flex; flex-direction: column; flex-basis: 100%; flex: 1; padding: 10px; }\n",
       "    </style>\n",
       "<div class=\"wandb-row\"><div class=\"wandb-col\"><h3>Run history:</h3><br/><table class=\"wandb\"><tr><td>bfnotavail</td><td>▁▃▄▆▇▇▇███</td></tr><tr><td>bfprofit</td><td>▃▂▄▁▅▄█▆▆▄</td></tr><tr><td>correct_conf</td><td>▁▃▄▆▇▇████</td></tr><tr><td>epoch</td><td>▁▁▁▂▂▂▂▃▃▃▃▃▄▄▄▄▅▅▅▅▅▆▆▆▆▆▇▇▇▇███</td></tr><tr><td>incorrect_conf</td><td>▁▃▄▆▇▇████</td></tr><tr><td>loss</td><td>▅█▃▆▃▃▄▃▃▆▄▆▅▅▃▄▄▄▁▂▃▃▃▂▅▃▃▃▁▃▄▂▂</td></tr><tr><td>num_bets_per</td><td>▄██▅▄▂▂▃▂▁</td></tr><tr><td>profit</td><td>▂▁▂▂▅▅█▇▇▅</td></tr><tr><td>test_accuracy</td><td>▁▃▃▅▇▇████</td></tr><tr><td>value_pick_roi</td><td>▁▃▄▃▄▃▅▆▇█</td></tr></table><br/></div><div class=\"wandb-col\"><h3>Run summary:</h3><br/><table class=\"wandb\"><tr><td>bfnotavail</td><td>938</td></tr><tr><td>correct_conf</td><td>0.27879</td></tr><tr><td>epoch</td><td>98</td></tr><tr><td>incorrect_conf</td><td>0.24863</td></tr><tr><td>num_bets_per</td><td>3.96758</td></tr><tr><td>profit</td><td>-988.40001</td></tr><tr><td>value_pick_roi</td><td>-0.25432</td></tr></table><br/></div></div>"
      ],
      "text/plain": [
       "<IPython.core.display.HTML object>"
      ]
     },
     "metadata": {},
     "output_type": "display_data"
    },
    {
     "data": {
      "text/html": [
       "Synced <strong style=\"color:#cdcd00\">dauntless-sweep-47</strong>: <a href=\"https://wandb.ai/nickojelly/grv_priced_sweep_custom/runs/qfiwkaso\" target=\"_blank\">https://wandb.ai/nickojelly/grv_priced_sweep_custom/runs/qfiwkaso</a><br/>Synced 5 W&B file(s), 0 media file(s), 0 artifact file(s) and 0 other file(s)"
      ],
      "text/plain": [
       "<IPython.core.display.HTML object>"
      ]
     },
     "metadata": {},
     "output_type": "display_data"
    },
    {
     "data": {
      "text/html": [
       "Find logs at: <code>.\\wandb\\run-20220825_093049-qfiwkaso\\logs</code>"
      ],
      "text/plain": [
       "<IPython.core.display.HTML object>"
      ]
     },
     "metadata": {},
     "output_type": "display_data"
    },
    {
     "name": "stderr",
     "output_type": "stream",
     "text": [
      "\u001b[34m\u001b[1mwandb\u001b[0m: Agent Starting Run: jq41eqaj with config:\n",
      "\u001b[34m\u001b[1mwandb\u001b[0m: \tbatch_size: 64\n",
      "\u001b[34m\u001b[1mwandb\u001b[0m: \tdropout: 0.4\n",
      "\u001b[34m\u001b[1mwandb\u001b[0m: \tepochs: 100\n",
      "\u001b[34m\u001b[1mwandb\u001b[0m: \tf1_layer_size: 128\n",
      "\u001b[34m\u001b[1mwandb\u001b[0m: \tf2_layer_size: 128\n",
      "\u001b[34m\u001b[1mwandb\u001b[0m: \tl1_beta: 0.5748004806621649\n",
      "\u001b[34m\u001b[1mwandb\u001b[0m: \tlearning_rate: 0.00032209533851403527\n",
      "\u001b[34m\u001b[1mwandb\u001b[0m: \tloss: l1_custom\n",
      "\u001b[34m\u001b[1mwandb\u001b[0m: \tnum_layers: 2\n",
      "\u001b[34m\u001b[1mwandb\u001b[0m: \toptimizer: adam\n",
      "\u001b[34m\u001b[1mwandb\u001b[0m: \tvalidation_split: 0.1\n",
      "Failed to detect the name of this notebook, you can set it manually with the WANDB_NOTEBOOK_NAME environment variable to enable code saving.\n",
      "\u001b[34m\u001b[1mwandb\u001b[0m: \u001b[33mWARNING\u001b[0m Ignored wandb.init() arg project when running a sweep.\n"
     ]
    },
    {
     "data": {
      "text/html": [
       "wandb version 0.13.2 is available!  To upgrade, please run:\n",
       " $ pip install wandb --upgrade"
      ],
      "text/plain": [
       "<IPython.core.display.HTML object>"
      ]
     },
     "metadata": {},
     "output_type": "display_data"
    },
    {
     "data": {
      "text/html": [
       "Tracking run with wandb version 0.12.14"
      ],
      "text/plain": [
       "<IPython.core.display.HTML object>"
      ]
     },
     "metadata": {},
     "output_type": "display_data"
    },
    {
     "data": {
      "text/html": [
       "Run data is saved locally in <code>c:\\Users\\Nick\\Documents\\GitHub\\grvmodel\\Python\\pytorch\\New Model\\wandb\\run-20220825_093518-jq41eqaj</code>"
      ],
      "text/plain": [
       "<IPython.core.display.HTML object>"
      ]
     },
     "metadata": {},
     "output_type": "display_data"
    },
    {
     "data": {
      "text/html": [
       "Syncing run <strong><a href=\"https://wandb.ai/nickojelly/grv_priced_sweep_custom/runs/jq41eqaj\" target=\"_blank\">vital-sweep-48</a></strong> to <a href=\"https://wandb.ai/nickojelly/grv_priced_sweep_custom\" target=\"_blank\">Weights & Biases</a> (<a href=\"https://wandb.me/run\" target=\"_blank\">docs</a>)<br/>Sweep page:  <a href=\"https://wandb.ai/nickojelly/grv_priced_sweep_custom/sweeps/nwqxajsa\" target=\"_blank\">https://wandb.ai/nickojelly/grv_priced_sweep_custom/sweeps/nwqxajsa</a>"
      ],
      "text/plain": [
       "<IPython.core.display.HTML object>"
      ]
     },
     "metadata": {},
     "output_type": "display_data"
    },
    {
     "name": "stderr",
     "output_type": "stream",
     "text": [
      "  0%|          | 0/100 [00:00<?, ?it/s]"
     ]
    },
    {
     "name": "stdout",
     "output_type": "stream",
     "text": [
      "{'batch_size': 64, 'dropout': 0.4, 'epochs': 100, 'f1_layer_size': 128, 'f2_layer_size': 128, 'l1_beta': 0.5748004806621649, 'learning_rate': 0.00032209533851403527, 'loss': 'l1_custom', 'num_layers': 2, 'optimizer': 'adam', 'validation_split': 0.1}\n",
      "100\n",
      "{'batch_size': 64, 'dropout': 0.4, 'epochs': 100, 'f1_layer_size': 128, 'f2_layer_size': 128, 'l1_beta': 0.5748004806621649, 'learning_rate': 0.00032209533851403527, 'loss': 'l1_custom', 'num_layers': 2, 'optimizer': 'adam', 'validation_split': 0.1}\n",
      "Sequential(\n",
      "  (0): Linear(in_features=120, out_features=128, bias=True)\n",
      "  (1): ReLU()\n",
      "  (2): Dropout(p=0.4, inplace=False)\n",
      "  (3): Linear(in_features=128, out_features=128, bias=True)\n",
      "  (4): ReLU()\n",
      "  (5): Dropout(p=0.4, inplace=False)\n",
      "  (6): Linear(in_features=128, out_features=8, bias=True)\n",
      "  (7): Softmax(dim=1)\n",
      ")\n"
     ]
    },
    {
     "name": "stderr",
     "output_type": "stream",
     "text": [
      "  1%|          | 1/100 [00:14<23:56, 14.51s/it]"
     ]
    },
    {
     "name": "stdout",
     "output_type": "stream",
     "text": [
      "created path\n"
     ]
    },
    {
     "name": "stderr",
     "output_type": "stream",
     "text": [
      "100%|██████████| 100/100 [08:11<00:00,  4.92s/it]\n"
     ]
    },
    {
     "name": "stdout",
     "output_type": "stream",
     "text": [
      "\n"
     ]
    },
    {
     "data": {
      "text/html": [
       "Waiting for W&B process to finish... <strong style=\"color:green\">(success).</strong>"
      ],
      "text/plain": [
       "<IPython.core.display.HTML object>"
      ]
     },
     "metadata": {},
     "output_type": "display_data"
    },
    {
     "data": {
      "application/vnd.jupyter.widget-view+json": {
       "model_id": "636cbe24fa7343aba971682adfaf74f9",
       "version_major": 2,
       "version_minor": 0
      },
      "text/plain": [
       "VBox(children=(Label(value='0.001 MB of 0.001 MB uploaded (0.000 MB deduped)\\r'), FloatProgress(value=1.0, max…"
      ]
     },
     "metadata": {},
     "output_type": "display_data"
    },
    {
     "data": {
      "text/html": [
       "<style>\n",
       "    table.wandb td:nth-child(1) { padding: 0 10px; text-align: right }\n",
       "    .wandb-row { display: flex; flex-direction: row; flex-wrap: wrap; width: 100% }\n",
       "    .wandb-col { display: flex; flex-direction: column; flex-basis: 100%; flex: 1; padding: 10px; }\n",
       "    </style>\n",
       "<div class=\"wandb-row\"><div class=\"wandb-col\"><h3>Run history:</h3><br/><table class=\"wandb\"><tr><td>bfnotavail</td><td>▁████▇█▇▆▆</td></tr><tr><td>bfprofit</td><td>▁▄▇▆▇▅█▆▅▂</td></tr><tr><td>correct_conf</td><td>▁▆▆▇▇▇▇███</td></tr><tr><td>epoch</td><td>▁▁▁▁▂▂▂▂▂▃▃▃▃▃▃▄▄▄▄▄▅▅▅▅▅▅▆▆▆▆▆▇▇▇▇▇▇███</td></tr><tr><td>incorrect_conf</td><td>▁▆▆▆▇▇▇███</td></tr><tr><td>loss</td><td>▇██▃▅▅▆▆▃▂▅▂▁▂▃▃▆▃▅▇▃▆▁▃▄▃▅▄▂▃▄▃▂▂▂▃▃▄▁▃</td></tr><tr><td>num_bets_per</td><td>█▇▆▆▅▃▄▂▂▁</td></tr><tr><td>profit</td><td>▁▅▇▆▇▅█▅▅▃</td></tr><tr><td>test_accuracy</td><td>▁████▇█▇▇▆</td></tr><tr><td>value_pick_roi</td><td>▁▆▆▇▆█▅█▇▆</td></tr></table><br/></div><div class=\"wandb-col\"><h3>Run summary:</h3><br/><table class=\"wandb\"><tr><td>bfnotavail</td><td>833</td></tr><tr><td>correct_conf</td><td>0.32278</td></tr><tr><td>epoch</td><td>99</td></tr><tr><td>incorrect_conf</td><td>0.29131</td></tr><tr><td>num_bets_per</td><td>3.77051</td></tr><tr><td>profit</td><td>-1069.54</td></tr><tr><td>value_pick_roi</td><td>-0.26286</td></tr></table><br/></div></div>"
      ],
      "text/plain": [
       "<IPython.core.display.HTML object>"
      ]
     },
     "metadata": {},
     "output_type": "display_data"
    },
    {
     "data": {
      "text/html": [
       "Synced <strong style=\"color:#cdcd00\">vital-sweep-48</strong>: <a href=\"https://wandb.ai/nickojelly/grv_priced_sweep_custom/runs/jq41eqaj\" target=\"_blank\">https://wandb.ai/nickojelly/grv_priced_sweep_custom/runs/jq41eqaj</a><br/>Synced 5 W&B file(s), 0 media file(s), 0 artifact file(s) and 0 other file(s)"
      ],
      "text/plain": [
       "<IPython.core.display.HTML object>"
      ]
     },
     "metadata": {},
     "output_type": "display_data"
    },
    {
     "data": {
      "text/html": [
       "Find logs at: <code>.\\wandb\\run-20220825_093518-jq41eqaj\\logs</code>"
      ],
      "text/plain": [
       "<IPython.core.display.HTML object>"
      ]
     },
     "metadata": {},
     "output_type": "display_data"
    },
    {
     "name": "stderr",
     "output_type": "stream",
     "text": [
      "\u001b[34m\u001b[1mwandb\u001b[0m: Agent Starting Run: 0jwxlwls with config:\n",
      "\u001b[34m\u001b[1mwandb\u001b[0m: \tbatch_size: 32\n",
      "\u001b[34m\u001b[1mwandb\u001b[0m: \tdropout: 0.5\n",
      "\u001b[34m\u001b[1mwandb\u001b[0m: \tepochs: 100\n",
      "\u001b[34m\u001b[1mwandb\u001b[0m: \tf1_layer_size: 256\n",
      "\u001b[34m\u001b[1mwandb\u001b[0m: \tf2_layer_size: 256\n",
      "\u001b[34m\u001b[1mwandb\u001b[0m: \tl1_beta: 0.829194948617487\n",
      "\u001b[34m\u001b[1mwandb\u001b[0m: \tlearning_rate: 0.0007609412346296165\n",
      "\u001b[34m\u001b[1mwandb\u001b[0m: \tloss: l1_custom\n",
      "\u001b[34m\u001b[1mwandb\u001b[0m: \tnum_layers: 2\n",
      "\u001b[34m\u001b[1mwandb\u001b[0m: \toptimizer: adam\n",
      "\u001b[34m\u001b[1mwandb\u001b[0m: \tvalidation_split: 0.1\n",
      "Failed to detect the name of this notebook, you can set it manually with the WANDB_NOTEBOOK_NAME environment variable to enable code saving.\n",
      "\u001b[34m\u001b[1mwandb\u001b[0m: \u001b[33mWARNING\u001b[0m Ignored wandb.init() arg project when running a sweep.\n"
     ]
    },
    {
     "data": {
      "text/html": [
       "wandb version 0.13.2 is available!  To upgrade, please run:\n",
       " $ pip install wandb --upgrade"
      ],
      "text/plain": [
       "<IPython.core.display.HTML object>"
      ]
     },
     "metadata": {},
     "output_type": "display_data"
    },
    {
     "data": {
      "text/html": [
       "Tracking run with wandb version 0.12.14"
      ],
      "text/plain": [
       "<IPython.core.display.HTML object>"
      ]
     },
     "metadata": {},
     "output_type": "display_data"
    },
    {
     "data": {
      "text/html": [
       "Run data is saved locally in <code>c:\\Users\\Nick\\Documents\\GitHub\\grvmodel\\Python\\pytorch\\New Model\\wandb\\run-20220825_094345-0jwxlwls</code>"
      ],
      "text/plain": [
       "<IPython.core.display.HTML object>"
      ]
     },
     "metadata": {},
     "output_type": "display_data"
    },
    {
     "data": {
      "text/html": [
       "Syncing run <strong><a href=\"https://wandb.ai/nickojelly/grv_priced_sweep_custom/runs/0jwxlwls\" target=\"_blank\">serene-sweep-49</a></strong> to <a href=\"https://wandb.ai/nickojelly/grv_priced_sweep_custom\" target=\"_blank\">Weights & Biases</a> (<a href=\"https://wandb.me/run\" target=\"_blank\">docs</a>)<br/>Sweep page:  <a href=\"https://wandb.ai/nickojelly/grv_priced_sweep_custom/sweeps/nwqxajsa\" target=\"_blank\">https://wandb.ai/nickojelly/grv_priced_sweep_custom/sweeps/nwqxajsa</a>"
      ],
      "text/plain": [
       "<IPython.core.display.HTML object>"
      ]
     },
     "metadata": {},
     "output_type": "display_data"
    },
    {
     "name": "stderr",
     "output_type": "stream",
     "text": [
      "  0%|          | 0/100 [00:00<?, ?it/s]"
     ]
    },
    {
     "name": "stdout",
     "output_type": "stream",
     "text": [
      "{'batch_size': 32, 'dropout': 0.5, 'epochs': 100, 'f1_layer_size': 256, 'f2_layer_size': 256, 'l1_beta': 0.829194948617487, 'learning_rate': 0.0007609412346296165, 'loss': 'l1_custom', 'num_layers': 2, 'optimizer': 'adam', 'validation_split': 0.1}\n",
      "100\n",
      "{'batch_size': 32, 'dropout': 0.5, 'epochs': 100, 'f1_layer_size': 256, 'f2_layer_size': 256, 'l1_beta': 0.829194948617487, 'learning_rate': 0.0007609412346296165, 'loss': 'l1_custom', 'num_layers': 2, 'optimizer': 'adam', 'validation_split': 0.1}\n",
      "Sequential(\n",
      "  (0): Linear(in_features=120, out_features=256, bias=True)\n",
      "  (1): ReLU()\n",
      "  (2): Dropout(p=0.5, inplace=False)\n",
      "  (3): Linear(in_features=256, out_features=256, bias=True)\n",
      "  (4): ReLU()\n",
      "  (5): Dropout(p=0.5, inplace=False)\n",
      "  (6): Linear(in_features=256, out_features=8, bias=True)\n",
      "  (7): Softmax(dim=1)\n",
      ")\n"
     ]
    },
    {
     "name": "stderr",
     "output_type": "stream",
     "text": [
      "  1%|          | 1/100 [00:18<30:48, 18.67s/it]"
     ]
    },
    {
     "name": "stdout",
     "output_type": "stream",
     "text": [
      "created path\n"
     ]
    },
    {
     "name": "stderr",
     "output_type": "stream",
     "text": [
      "100%|██████████| 100/100 [13:43<00:00,  8.23s/it]\n"
     ]
    },
    {
     "name": "stdout",
     "output_type": "stream",
     "text": [
      "\n"
     ]
    },
    {
     "data": {
      "text/html": [
       "Waiting for W&B process to finish... <strong style=\"color:green\">(success).</strong>"
      ],
      "text/plain": [
       "<IPython.core.display.HTML object>"
      ]
     },
     "metadata": {},
     "output_type": "display_data"
    },
    {
     "data": {
      "application/vnd.jupyter.widget-view+json": {
       "model_id": "aff8a97a65fc436aafb3647c0e3b43f5",
       "version_major": 2,
       "version_minor": 0
      },
      "text/plain": [
       "VBox(children=(Label(value='0.001 MB of 0.001 MB uploaded (0.000 MB deduped)\\r'), FloatProgress(value=1.0, max…"
      ]
     },
     "metadata": {},
     "output_type": "display_data"
    },
    {
     "data": {
      "text/html": [
       "<style>\n",
       "    table.wandb td:nth-child(1) { padding: 0 10px; text-align: right }\n",
       "    .wandb-row { display: flex; flex-direction: row; flex-wrap: wrap; width: 100% }\n",
       "    .wandb-col { display: flex; flex-direction: column; flex-basis: 100%; flex: 1; padding: 10px; }\n",
       "    </style>\n",
       "<div class=\"wandb-row\"><div class=\"wandb-col\"><h3>Run history:</h3><br/><table class=\"wandb\"><tr><td>bfnotavail</td><td>▁▁▁▁▁▁▁▁▁▁</td></tr><tr><td>bfprofit</td><td>▁▁▁▁▁▁▁▁▁▁</td></tr><tr><td>correct_conf</td><td>▁▁▁▁▁▁▁▁▁▁</td></tr><tr><td>epoch</td><td>▁▁▁▁▂▂▂▂▂▃▃▃▃▃▃▄▄▄▄▄▅▅▅▅▅▅▆▆▆▆▆▇▇▇▇▇▇███</td></tr><tr><td>incorrect_conf</td><td>▁▁▁▁▁▁▁▁▁▁</td></tr><tr><td>loss</td><td>▆▂▄▃▃▃▄▄▄▄▃▆▄▅▆▅▂▇▄▆▃▄▄▅▄▃▅▃█▅▁▅▄▇▄▅▇▆▅▃</td></tr><tr><td>num_bets_per</td><td>▁▁▁▁▁▁▁▁▁▁</td></tr><tr><td>profit</td><td>▁▁▁▁▁▁▁▁▁▁</td></tr><tr><td>test_accuracy</td><td>▁▁▁▁▁▁▁▁▁▁</td></tr><tr><td>value_pick_roi</td><td>▁▁▁▁▁▁▁▁▁▁</td></tr></table><br/></div><div class=\"wandb-col\"><h3>Run summary:</h3><br/><table class=\"wandb\"><tr><td>bfnotavail</td><td>356</td></tr><tr><td>correct_conf</td><td>1.0</td></tr><tr><td>epoch</td><td>99</td></tr><tr><td>incorrect_conf</td><td>1.0</td></tr><tr><td>num_bets_per</td><td>0.82564</td></tr><tr><td>profit</td><td>-2386.06</td></tr><tr><td>value_pick_roi</td><td>-0.2206</td></tr></table><br/></div></div>"
      ],
      "text/plain": [
       "<IPython.core.display.HTML object>"
      ]
     },
     "metadata": {},
     "output_type": "display_data"
    },
    {
     "data": {
      "text/html": [
       "Synced <strong style=\"color:#cdcd00\">serene-sweep-49</strong>: <a href=\"https://wandb.ai/nickojelly/grv_priced_sweep_custom/runs/0jwxlwls\" target=\"_blank\">https://wandb.ai/nickojelly/grv_priced_sweep_custom/runs/0jwxlwls</a><br/>Synced 5 W&B file(s), 0 media file(s), 0 artifact file(s) and 0 other file(s)"
      ],
      "text/plain": [
       "<IPython.core.display.HTML object>"
      ]
     },
     "metadata": {},
     "output_type": "display_data"
    },
    {
     "data": {
      "text/html": [
       "Find logs at: <code>.\\wandb\\run-20220825_094345-0jwxlwls\\logs</code>"
      ],
      "text/plain": [
       "<IPython.core.display.HTML object>"
      ]
     },
     "metadata": {},
     "output_type": "display_data"
    },
    {
     "name": "stderr",
     "output_type": "stream",
     "text": [
      "\u001b[34m\u001b[1mwandb\u001b[0m: Agent Starting Run: pnd6waiy with config:\n",
      "\u001b[34m\u001b[1mwandb\u001b[0m: \tbatch_size: 720\n",
      "\u001b[34m\u001b[1mwandb\u001b[0m: \tdropout: 0.3\n",
      "\u001b[34m\u001b[1mwandb\u001b[0m: \tepochs: 100\n",
      "\u001b[34m\u001b[1mwandb\u001b[0m: \tf1_layer_size: 128\n",
      "\u001b[34m\u001b[1mwandb\u001b[0m: \tf2_layer_size: 128\n",
      "\u001b[34m\u001b[1mwandb\u001b[0m: \tl1_beta: 0.23988805556890025\n",
      "\u001b[34m\u001b[1mwandb\u001b[0m: \tlearning_rate: 0.0008611646859915786\n",
      "\u001b[34m\u001b[1mwandb\u001b[0m: \tloss: l1_custom\n",
      "\u001b[34m\u001b[1mwandb\u001b[0m: \tnum_layers: 2\n",
      "\u001b[34m\u001b[1mwandb\u001b[0m: \toptimizer: adam\n",
      "\u001b[34m\u001b[1mwandb\u001b[0m: \tvalidation_split: 0.1\n",
      "Failed to detect the name of this notebook, you can set it manually with the WANDB_NOTEBOOK_NAME environment variable to enable code saving.\n",
      "\u001b[34m\u001b[1mwandb\u001b[0m: \u001b[33mWARNING\u001b[0m Ignored wandb.init() arg project when running a sweep.\n"
     ]
    },
    {
     "data": {
      "text/html": [
       "wandb version 0.13.2 is available!  To upgrade, please run:\n",
       " $ pip install wandb --upgrade"
      ],
      "text/plain": [
       "<IPython.core.display.HTML object>"
      ]
     },
     "metadata": {},
     "output_type": "display_data"
    },
    {
     "data": {
      "text/html": [
       "Tracking run with wandb version 0.12.14"
      ],
      "text/plain": [
       "<IPython.core.display.HTML object>"
      ]
     },
     "metadata": {},
     "output_type": "display_data"
    },
    {
     "data": {
      "text/html": [
       "Run data is saved locally in <code>c:\\Users\\Nick\\Documents\\GitHub\\grvmodel\\Python\\pytorch\\New Model\\wandb\\run-20220825_095740-pnd6waiy</code>"
      ],
      "text/plain": [
       "<IPython.core.display.HTML object>"
      ]
     },
     "metadata": {},
     "output_type": "display_data"
    },
    {
     "data": {
      "text/html": [
       "Syncing run <strong><a href=\"https://wandb.ai/nickojelly/grv_priced_sweep_custom/runs/pnd6waiy\" target=\"_blank\">northern-sweep-50</a></strong> to <a href=\"https://wandb.ai/nickojelly/grv_priced_sweep_custom\" target=\"_blank\">Weights & Biases</a> (<a href=\"https://wandb.me/run\" target=\"_blank\">docs</a>)<br/>Sweep page:  <a href=\"https://wandb.ai/nickojelly/grv_priced_sweep_custom/sweeps/nwqxajsa\" target=\"_blank\">https://wandb.ai/nickojelly/grv_priced_sweep_custom/sweeps/nwqxajsa</a>"
      ],
      "text/plain": [
       "<IPython.core.display.HTML object>"
      ]
     },
     "metadata": {},
     "output_type": "display_data"
    },
    {
     "name": "stderr",
     "output_type": "stream",
     "text": [
      "  0%|          | 0/100 [00:00<?, ?it/s]"
     ]
    },
    {
     "name": "stdout",
     "output_type": "stream",
     "text": [
      "{'batch_size': 720, 'dropout': 0.3, 'epochs': 100, 'f1_layer_size': 128, 'f2_layer_size': 128, 'l1_beta': 0.23988805556890025, 'learning_rate': 0.0008611646859915786, 'loss': 'l1_custom', 'num_layers': 2, 'optimizer': 'adam', 'validation_split': 0.1}\n",
      "100\n",
      "{'batch_size': 720, 'dropout': 0.3, 'epochs': 100, 'f1_layer_size': 128, 'f2_layer_size': 128, 'l1_beta': 0.23988805556890025, 'learning_rate': 0.0008611646859915786, 'loss': 'l1_custom', 'num_layers': 2, 'optimizer': 'adam', 'validation_split': 0.1}\n",
      "Sequential(\n",
      "  (0): Linear(in_features=120, out_features=128, bias=True)\n",
      "  (1): ReLU()\n",
      "  (2): Dropout(p=0.3, inplace=False)\n",
      "  (3): Linear(in_features=128, out_features=128, bias=True)\n",
      "  (4): ReLU()\n",
      "  (5): Dropout(p=0.3, inplace=False)\n",
      "  (6): Linear(in_features=128, out_features=8, bias=True)\n",
      "  (7): Softmax(dim=1)\n",
      ")\n"
     ]
    },
    {
     "name": "stderr",
     "output_type": "stream",
     "text": [
      "  1%|          | 1/100 [00:11<19:33, 11.86s/it]"
     ]
    },
    {
     "name": "stdout",
     "output_type": "stream",
     "text": [
      "created path\n"
     ]
    },
    {
     "name": "stderr",
     "output_type": "stream",
     "text": [
      "100%|██████████| 100/100 [04:20<00:00,  2.60s/it]\n"
     ]
    },
    {
     "name": "stdout",
     "output_type": "stream",
     "text": [
      "\n"
     ]
    },
    {
     "data": {
      "text/html": [
       "Waiting for W&B process to finish... <strong style=\"color:green\">(success).</strong>"
      ],
      "text/plain": [
       "<IPython.core.display.HTML object>"
      ]
     },
     "metadata": {},
     "output_type": "display_data"
    },
    {
     "data": {
      "application/vnd.jupyter.widget-view+json": {
       "model_id": "965e73b0ef624be8a26aef990d4deedb",
       "version_major": 2,
       "version_minor": 0
      },
      "text/plain": [
       "VBox(children=(Label(value='0.001 MB of 0.001 MB uploaded (0.000 MB deduped)\\r'), FloatProgress(value=1.0, max…"
      ]
     },
     "metadata": {},
     "output_type": "display_data"
    },
    {
     "data": {
      "text/html": [
       "<style>\n",
       "    table.wandb td:nth-child(1) { padding: 0 10px; text-align: right }\n",
       "    .wandb-row { display: flex; flex-direction: row; flex-wrap: wrap; width: 100% }\n",
       "    .wandb-col { display: flex; flex-direction: column; flex-basis: 100%; flex: 1; padding: 10px; }\n",
       "    </style>\n",
       "<div class=\"wandb-row\"><div class=\"wandb-col\"><h3>Run history:</h3><br/><table class=\"wandb\"><tr><td>bfnotavail</td><td>▇▁▅▇▇▇▆▇██</td></tr><tr><td>bfprofit</td><td>▄▁▅▄▅█▁▂█▃</td></tr><tr><td>correct_conf</td><td>▁▆▆▆▆▇▇▇▇█</td></tr><tr><td>epoch</td><td>▁▁▁▂▂▂▂▃▃▃▃▃▄▄▄▄▅▅▅▅▅▆▆▆▆▆▇▇▇▇███</td></tr><tr><td>incorrect_conf</td><td>▁▇▇▇▇▇▇▇██</td></tr><tr><td>loss</td><td>▄█▅▆▅▄▄▅▅▄▅▃▅▄▆▃▃▂▄▃▄▅▄▅▄▂▄▄▃▁▄▃▄</td></tr><tr><td>num_bets_per</td><td>█▄▃▃▃▃▃▃▂▁</td></tr><tr><td>profit</td><td>▁▃▅▆▆▇▄▂█▃</td></tr><tr><td>test_accuracy</td><td>▁▃▆██▇▇▇█▇</td></tr><tr><td>value_pick_roi</td><td>▅▁▄▆█▄▅▄▄▅</td></tr></table><br/></div><div class=\"wandb-col\"><h3>Run summary:</h3><br/><table class=\"wandb\"><tr><td>bfnotavail</td><td>570</td></tr><tr><td>correct_conf</td><td>0.33588</td></tr><tr><td>epoch</td><td>98</td></tr><tr><td>incorrect_conf</td><td>0.3414</td></tr><tr><td>num_bets_per</td><td>3.58091</td></tr><tr><td>profit</td><td>-1204.26001</td></tr><tr><td>value_pick_roi</td><td>-0.28268</td></tr></table><br/></div></div>"
      ],
      "text/plain": [
       "<IPython.core.display.HTML object>"
      ]
     },
     "metadata": {},
     "output_type": "display_data"
    },
    {
     "data": {
      "text/html": [
       "Synced <strong style=\"color:#cdcd00\">northern-sweep-50</strong>: <a href=\"https://wandb.ai/nickojelly/grv_priced_sweep_custom/runs/pnd6waiy\" target=\"_blank\">https://wandb.ai/nickojelly/grv_priced_sweep_custom/runs/pnd6waiy</a><br/>Synced 5 W&B file(s), 0 media file(s), 0 artifact file(s) and 0 other file(s)"
      ],
      "text/plain": [
       "<IPython.core.display.HTML object>"
      ]
     },
     "metadata": {},
     "output_type": "display_data"
    },
    {
     "data": {
      "text/html": [
       "Find logs at: <code>.\\wandb\\run-20220825_095740-pnd6waiy\\logs</code>"
      ],
      "text/plain": [
       "<IPython.core.display.HTML object>"
      ]
     },
     "metadata": {},
     "output_type": "display_data"
    },
    {
     "name": "stderr",
     "output_type": "stream",
     "text": [
      "\u001b[34m\u001b[1mwandb\u001b[0m: Agent Starting Run: 5lb43tv7 with config:\n",
      "\u001b[34m\u001b[1mwandb\u001b[0m: \tbatch_size: 32\n",
      "\u001b[34m\u001b[1mwandb\u001b[0m: \tdropout: 0.3\n",
      "\u001b[34m\u001b[1mwandb\u001b[0m: \tepochs: 100\n",
      "\u001b[34m\u001b[1mwandb\u001b[0m: \tf1_layer_size: 128\n",
      "\u001b[34m\u001b[1mwandb\u001b[0m: \tf2_layer_size: 32\n",
      "\u001b[34m\u001b[1mwandb\u001b[0m: \tl1_beta: 0.9392431739843664\n",
      "\u001b[34m\u001b[1mwandb\u001b[0m: \tlearning_rate: 0.00022948917128399384\n",
      "\u001b[34m\u001b[1mwandb\u001b[0m: \tloss: l1_custom\n",
      "\u001b[34m\u001b[1mwandb\u001b[0m: \tnum_layers: 2\n",
      "\u001b[34m\u001b[1mwandb\u001b[0m: \toptimizer: adam\n",
      "\u001b[34m\u001b[1mwandb\u001b[0m: \tvalidation_split: 0.1\n",
      "Failed to detect the name of this notebook, you can set it manually with the WANDB_NOTEBOOK_NAME environment variable to enable code saving.\n",
      "\u001b[34m\u001b[1mwandb\u001b[0m: \u001b[33mWARNING\u001b[0m Ignored wandb.init() arg project when running a sweep.\n"
     ]
    },
    {
     "data": {
      "text/html": [
       "wandb version 0.13.2 is available!  To upgrade, please run:\n",
       " $ pip install wandb --upgrade"
      ],
      "text/plain": [
       "<IPython.core.display.HTML object>"
      ]
     },
     "metadata": {},
     "output_type": "display_data"
    },
    {
     "data": {
      "text/html": [
       "Tracking run with wandb version 0.12.14"
      ],
      "text/plain": [
       "<IPython.core.display.HTML object>"
      ]
     },
     "metadata": {},
     "output_type": "display_data"
    },
    {
     "data": {
      "text/html": [
       "Run data is saved locally in <code>c:\\Users\\Nick\\Documents\\GitHub\\grvmodel\\Python\\pytorch\\New Model\\wandb\\run-20220825_100209-5lb43tv7</code>"
      ],
      "text/plain": [
       "<IPython.core.display.HTML object>"
      ]
     },
     "metadata": {},
     "output_type": "display_data"
    },
    {
     "data": {
      "text/html": [
       "Syncing run <strong><a href=\"https://wandb.ai/nickojelly/grv_priced_sweep_custom/runs/5lb43tv7\" target=\"_blank\">stellar-sweep-51</a></strong> to <a href=\"https://wandb.ai/nickojelly/grv_priced_sweep_custom\" target=\"_blank\">Weights & Biases</a> (<a href=\"https://wandb.me/run\" target=\"_blank\">docs</a>)<br/>Sweep page:  <a href=\"https://wandb.ai/nickojelly/grv_priced_sweep_custom/sweeps/nwqxajsa\" target=\"_blank\">https://wandb.ai/nickojelly/grv_priced_sweep_custom/sweeps/nwqxajsa</a>"
      ],
      "text/plain": [
       "<IPython.core.display.HTML object>"
      ]
     },
     "metadata": {},
     "output_type": "display_data"
    },
    {
     "name": "stderr",
     "output_type": "stream",
     "text": [
      "  0%|          | 0/100 [00:00<?, ?it/s]"
     ]
    },
    {
     "name": "stdout",
     "output_type": "stream",
     "text": [
      "{'batch_size': 32, 'dropout': 0.3, 'epochs': 100, 'f1_layer_size': 128, 'f2_layer_size': 32, 'l1_beta': 0.9392431739843664, 'learning_rate': 0.00022948917128399384, 'loss': 'l1_custom', 'num_layers': 2, 'optimizer': 'adam', 'validation_split': 0.1}\n",
      "100\n",
      "{'batch_size': 32, 'dropout': 0.3, 'epochs': 100, 'f1_layer_size': 128, 'f2_layer_size': 32, 'l1_beta': 0.9392431739843664, 'learning_rate': 0.00022948917128399384, 'loss': 'l1_custom', 'num_layers': 2, 'optimizer': 'adam', 'validation_split': 0.1}\n",
      "Sequential(\n",
      "  (0): Linear(in_features=120, out_features=128, bias=True)\n",
      "  (1): ReLU()\n",
      "  (2): Dropout(p=0.3, inplace=False)\n",
      "  (3): Linear(in_features=128, out_features=32, bias=True)\n",
      "  (4): ReLU()\n",
      "  (5): Dropout(p=0.3, inplace=False)\n",
      "  (6): Linear(in_features=32, out_features=8, bias=True)\n",
      "  (7): Softmax(dim=1)\n",
      ")\n"
     ]
    },
    {
     "name": "stderr",
     "output_type": "stream",
     "text": [
      "  1%|          | 1/100 [00:16<27:34, 16.71s/it]"
     ]
    },
    {
     "name": "stdout",
     "output_type": "stream",
     "text": [
      "created path\n"
     ]
    },
    {
     "name": "stderr",
     "output_type": "stream",
     "text": [
      "100%|██████████| 100/100 [13:00<00:00,  7.80s/it]\n"
     ]
    },
    {
     "name": "stdout",
     "output_type": "stream",
     "text": [
      "\n"
     ]
    },
    {
     "data": {
      "text/html": [
       "Waiting for W&B process to finish... <strong style=\"color:green\">(success).</strong>"
      ],
      "text/plain": [
       "<IPython.core.display.HTML object>"
      ]
     },
     "metadata": {},
     "output_type": "display_data"
    },
    {
     "data": {
      "application/vnd.jupyter.widget-view+json": {
       "model_id": "3dbafea91b3d4b8393772e75ba0fb805",
       "version_major": 2,
       "version_minor": 0
      },
      "text/plain": [
       "VBox(children=(Label(value='0.001 MB of 0.001 MB uploaded (0.000 MB deduped)\\r'), FloatProgress(value=1.0, max…"
      ]
     },
     "metadata": {},
     "output_type": "display_data"
    },
    {
     "data": {
      "text/html": [
       "<style>\n",
       "    table.wandb td:nth-child(1) { padding: 0 10px; text-align: right }\n",
       "    .wandb-row { display: flex; flex-direction: row; flex-wrap: wrap; width: 100% }\n",
       "    .wandb-col { display: flex; flex-direction: column; flex-basis: 100%; flex: 1; padding: 10px; }\n",
       "    </style>\n",
       "<div class=\"wandb-row\"><div class=\"wandb-col\"><h3>Run history:</h3><br/><table class=\"wandb\"><tr><td>bfnotavail</td><td>█▁▁▁▁▁▁▁▁▁</td></tr><tr><td>bfprofit</td><td>█▁▁▁▁▁▁▁▁▁</td></tr><tr><td>correct_conf</td><td>▁█████████</td></tr><tr><td>epoch</td><td>▁▁▁▁▂▂▂▂▂▃▃▃▃▃▃▄▄▄▄▄▅▅▅▅▅▅▆▆▆▆▆▇▇▇▇▇▇███</td></tr><tr><td>incorrect_conf</td><td>▁█████████</td></tr><tr><td>loss</td><td>▃▃▅▆▅▂▄▄▄▄▃▄▆▃▂▄▄▅▄▃▃▄▄▄▆▄▃▃▄▅▂▂▅▃▄▁█▄▃▃</td></tr><tr><td>num_bets_per</td><td>▁████▇████</td></tr><tr><td>profit</td><td>▁█████████</td></tr><tr><td>test_accuracy</td><td>▁█████████</td></tr><tr><td>value_pick_roi</td><td>▂▆▅▁▅▁▅█▁▅</td></tr></table><br/></div><div class=\"wandb-col\"><h3>Run summary:</h3><br/><table class=\"wandb\"><tr><td>bfnotavail</td><td>533</td></tr><tr><td>correct_conf</td><td>0.15161</td></tr><tr><td>epoch</td><td>99</td></tr><tr><td>incorrect_conf</td><td>0.15161</td></tr><tr><td>num_bets_per</td><td>4.0496</td></tr><tr><td>profit</td><td>-1286.70001</td></tr><tr><td>value_pick_roi</td><td>-0.27994</td></tr></table><br/></div></div>"
      ],
      "text/plain": [
       "<IPython.core.display.HTML object>"
      ]
     },
     "metadata": {},
     "output_type": "display_data"
    },
    {
     "data": {
      "text/html": [
       "Synced <strong style=\"color:#cdcd00\">stellar-sweep-51</strong>: <a href=\"https://wandb.ai/nickojelly/grv_priced_sweep_custom/runs/5lb43tv7\" target=\"_blank\">https://wandb.ai/nickojelly/grv_priced_sweep_custom/runs/5lb43tv7</a><br/>Synced 5 W&B file(s), 0 media file(s), 0 artifact file(s) and 0 other file(s)"
      ],
      "text/plain": [
       "<IPython.core.display.HTML object>"
      ]
     },
     "metadata": {},
     "output_type": "display_data"
    },
    {
     "data": {
      "text/html": [
       "Find logs at: <code>.\\wandb\\run-20220825_100209-5lb43tv7\\logs</code>"
      ],
      "text/plain": [
       "<IPython.core.display.HTML object>"
      ]
     },
     "metadata": {},
     "output_type": "display_data"
    },
    {
     "name": "stderr",
     "output_type": "stream",
     "text": [
      "\u001b[34m\u001b[1mwandb\u001b[0m: Agent Starting Run: x35ly9r9 with config:\n",
      "\u001b[34m\u001b[1mwandb\u001b[0m: \tbatch_size: 128\n",
      "\u001b[34m\u001b[1mwandb\u001b[0m: \tdropout: 0.4\n",
      "\u001b[34m\u001b[1mwandb\u001b[0m: \tepochs: 100\n",
      "\u001b[34m\u001b[1mwandb\u001b[0m: \tf1_layer_size: 32\n",
      "\u001b[34m\u001b[1mwandb\u001b[0m: \tf2_layer_size: 128\n",
      "\u001b[34m\u001b[1mwandb\u001b[0m: \tl1_beta: 0.9862479735915164\n",
      "\u001b[34m\u001b[1mwandb\u001b[0m: \tlearning_rate: 0.00015379038799490628\n",
      "\u001b[34m\u001b[1mwandb\u001b[0m: \tloss: l1_custom\n",
      "\u001b[34m\u001b[1mwandb\u001b[0m: \tnum_layers: 2\n",
      "\u001b[34m\u001b[1mwandb\u001b[0m: \toptimizer: adam\n",
      "\u001b[34m\u001b[1mwandb\u001b[0m: \tvalidation_split: 0.1\n",
      "Failed to detect the name of this notebook, you can set it manually with the WANDB_NOTEBOOK_NAME environment variable to enable code saving.\n",
      "\u001b[34m\u001b[1mwandb\u001b[0m: \u001b[33mWARNING\u001b[0m Ignored wandb.init() arg project when running a sweep.\n"
     ]
    },
    {
     "data": {
      "text/html": [
       "wandb version 0.13.2 is available!  To upgrade, please run:\n",
       " $ pip install wandb --upgrade"
      ],
      "text/plain": [
       "<IPython.core.display.HTML object>"
      ]
     },
     "metadata": {},
     "output_type": "display_data"
    },
    {
     "data": {
      "text/html": [
       "Tracking run with wandb version 0.12.14"
      ],
      "text/plain": [
       "<IPython.core.display.HTML object>"
      ]
     },
     "metadata": {},
     "output_type": "display_data"
    },
    {
     "data": {
      "text/html": [
       "Run data is saved locally in <code>c:\\Users\\Nick\\Documents\\GitHub\\grvmodel\\Python\\pytorch\\New Model\\wandb\\run-20220825_101523-x35ly9r9</code>"
      ],
      "text/plain": [
       "<IPython.core.display.HTML object>"
      ]
     },
     "metadata": {},
     "output_type": "display_data"
    },
    {
     "data": {
      "text/html": [
       "Syncing run <strong><a href=\"https://wandb.ai/nickojelly/grv_priced_sweep_custom/runs/x35ly9r9\" target=\"_blank\">cosmic-sweep-52</a></strong> to <a href=\"https://wandb.ai/nickojelly/grv_priced_sweep_custom\" target=\"_blank\">Weights & Biases</a> (<a href=\"https://wandb.me/run\" target=\"_blank\">docs</a>)<br/>Sweep page:  <a href=\"https://wandb.ai/nickojelly/grv_priced_sweep_custom/sweeps/nwqxajsa\" target=\"_blank\">https://wandb.ai/nickojelly/grv_priced_sweep_custom/sweeps/nwqxajsa</a>"
      ],
      "text/plain": [
       "<IPython.core.display.HTML object>"
      ]
     },
     "metadata": {},
     "output_type": "display_data"
    },
    {
     "name": "stderr",
     "output_type": "stream",
     "text": [
      "  0%|          | 0/100 [00:00<?, ?it/s]"
     ]
    },
    {
     "name": "stdout",
     "output_type": "stream",
     "text": [
      "{'batch_size': 128, 'dropout': 0.4, 'epochs': 100, 'f1_layer_size': 32, 'f2_layer_size': 128, 'l1_beta': 0.9862479735915164, 'learning_rate': 0.00015379038799490628, 'loss': 'l1_custom', 'num_layers': 2, 'optimizer': 'adam', 'validation_split': 0.1}\n",
      "100\n",
      "{'batch_size': 128, 'dropout': 0.4, 'epochs': 100, 'f1_layer_size': 32, 'f2_layer_size': 128, 'l1_beta': 0.9862479735915164, 'learning_rate': 0.00015379038799490628, 'loss': 'l1_custom', 'num_layers': 2, 'optimizer': 'adam', 'validation_split': 0.1}\n",
      "Sequential(\n",
      "  (0): Linear(in_features=120, out_features=32, bias=True)\n",
      "  (1): ReLU()\n",
      "  (2): Dropout(p=0.4, inplace=False)\n",
      "  (3): Linear(in_features=32, out_features=128, bias=True)\n",
      "  (4): ReLU()\n",
      "  (5): Dropout(p=0.4, inplace=False)\n",
      "  (6): Linear(in_features=128, out_features=8, bias=True)\n",
      "  (7): Softmax(dim=1)\n",
      ")\n"
     ]
    },
    {
     "name": "stderr",
     "output_type": "stream",
     "text": [
      "  1%|          | 1/100 [00:12<20:50, 12.64s/it]"
     ]
    },
    {
     "name": "stdout",
     "output_type": "stream",
     "text": [
      "created path\n"
     ]
    },
    {
     "name": "stderr",
     "output_type": "stream",
     "text": [
      "100%|██████████| 100/100 [05:52<00:00,  3.52s/it]\n"
     ]
    },
    {
     "name": "stdout",
     "output_type": "stream",
     "text": [
      "\n"
     ]
    },
    {
     "data": {
      "text/html": [
       "Waiting for W&B process to finish... <strong style=\"color:green\">(success).</strong>"
      ],
      "text/plain": [
       "<IPython.core.display.HTML object>"
      ]
     },
     "metadata": {},
     "output_type": "display_data"
    },
    {
     "data": {
      "application/vnd.jupyter.widget-view+json": {
       "model_id": "c7d7b4347e644e828fe9e6ada7891af0",
       "version_major": 2,
       "version_minor": 0
      },
      "text/plain": [
       "VBox(children=(Label(value='0.001 MB of 0.001 MB uploaded (0.000 MB deduped)\\r'), FloatProgress(value=1.0, max…"
      ]
     },
     "metadata": {},
     "output_type": "display_data"
    },
    {
     "data": {
      "text/html": [
       "<style>\n",
       "    table.wandb td:nth-child(1) { padding: 0 10px; text-align: right }\n",
       "    .wandb-row { display: flex; flex-direction: row; flex-wrap: wrap; width: 100% }\n",
       "    .wandb-col { display: flex; flex-direction: column; flex-basis: 100%; flex: 1; padding: 10px; }\n",
       "    </style>\n",
       "<div class=\"wandb-row\"><div class=\"wandb-col\"><h3>Run history:</h3><br/><table class=\"wandb\"><tr><td>bfnotavail</td><td>▁▇▇██▇▇███</td></tr><tr><td>bfprofit</td><td>▁█▃▄▅▄▆▆▅▅</td></tr><tr><td>correct_conf</td><td>▁▆▇▇▇▇████</td></tr><tr><td>epoch</td><td>▁▁▁▁▂▂▂▂▂▃▃▃▃▃▃▄▄▄▄▄▅▅▅▅▅▅▆▆▆▆▆▇▇▇▇▇▇███</td></tr><tr><td>incorrect_conf</td><td>▁▆▇▇▇▇████</td></tr><tr><td>loss</td><td>█▅▃▃▄▄▃▅▃▄▄▃▄▂▃▂▁▃▃▃▃▃▅▄▃▃▃▂▁▃▂▃▁▄▄▄▃▄▃▄</td></tr><tr><td>num_bets_per</td><td>██▆▄▄▄▂▂▁▂</td></tr><tr><td>profit</td><td>▁█▄▅▆▄▆▆▆▅</td></tr><tr><td>test_accuracy</td><td>▁▇▇██▇▇███</td></tr><tr><td>value_pick_roi</td><td>▁▄▅▄▇▅█▇▇▆</td></tr></table><br/></div><div class=\"wandb-col\"><h3>Run summary:</h3><br/><table class=\"wandb\"><tr><td>bfnotavail</td><td>945</td></tr><tr><td>correct_conf</td><td>0.2885</td></tr><tr><td>epoch</td><td>99</td></tr><tr><td>incorrect_conf</td><td>0.25904</td></tr><tr><td>num_bets_per</td><td>3.90423</td></tr><tr><td>profit</td><td>-920.3</td></tr><tr><td>value_pick_roi</td><td>-0.25805</td></tr></table><br/></div></div>"
      ],
      "text/plain": [
       "<IPython.core.display.HTML object>"
      ]
     },
     "metadata": {},
     "output_type": "display_data"
    },
    {
     "data": {
      "text/html": [
       "Synced <strong style=\"color:#cdcd00\">cosmic-sweep-52</strong>: <a href=\"https://wandb.ai/nickojelly/grv_priced_sweep_custom/runs/x35ly9r9\" target=\"_blank\">https://wandb.ai/nickojelly/grv_priced_sweep_custom/runs/x35ly9r9</a><br/>Synced 5 W&B file(s), 0 media file(s), 0 artifact file(s) and 0 other file(s)"
      ],
      "text/plain": [
       "<IPython.core.display.HTML object>"
      ]
     },
     "metadata": {},
     "output_type": "display_data"
    },
    {
     "data": {
      "text/html": [
       "Find logs at: <code>.\\wandb\\run-20220825_101523-x35ly9r9\\logs</code>"
      ],
      "text/plain": [
       "<IPython.core.display.HTML object>"
      ]
     },
     "metadata": {},
     "output_type": "display_data"
    },
    {
     "name": "stderr",
     "output_type": "stream",
     "text": [
      "\u001b[34m\u001b[1mwandb\u001b[0m: Agent Starting Run: 152z9qf6 with config:\n",
      "\u001b[34m\u001b[1mwandb\u001b[0m: \tbatch_size: 64\n",
      "\u001b[34m\u001b[1mwandb\u001b[0m: \tdropout: 0.4\n",
      "\u001b[34m\u001b[1mwandb\u001b[0m: \tepochs: 100\n",
      "\u001b[34m\u001b[1mwandb\u001b[0m: \tf1_layer_size: 256\n",
      "\u001b[34m\u001b[1mwandb\u001b[0m: \tf2_layer_size: 64\n",
      "\u001b[34m\u001b[1mwandb\u001b[0m: \tl1_beta: 0.04594607038984311\n",
      "\u001b[34m\u001b[1mwandb\u001b[0m: \tlearning_rate: 0.0003800284305898115\n",
      "\u001b[34m\u001b[1mwandb\u001b[0m: \tloss: l1_custom\n",
      "\u001b[34m\u001b[1mwandb\u001b[0m: \tnum_layers: 2\n",
      "\u001b[34m\u001b[1mwandb\u001b[0m: \toptimizer: adam\n",
      "\u001b[34m\u001b[1mwandb\u001b[0m: \tvalidation_split: 0.1\n",
      "Failed to detect the name of this notebook, you can set it manually with the WANDB_NOTEBOOK_NAME environment variable to enable code saving.\n",
      "\u001b[34m\u001b[1mwandb\u001b[0m: \u001b[33mWARNING\u001b[0m Ignored wandb.init() arg project when running a sweep.\n"
     ]
    },
    {
     "data": {
      "text/html": [
       "wandb version 0.13.2 is available!  To upgrade, please run:\n",
       " $ pip install wandb --upgrade"
      ],
      "text/plain": [
       "<IPython.core.display.HTML object>"
      ]
     },
     "metadata": {},
     "output_type": "display_data"
    },
    {
     "data": {
      "text/html": [
       "Tracking run with wandb version 0.12.14"
      ],
      "text/plain": [
       "<IPython.core.display.HTML object>"
      ]
     },
     "metadata": {},
     "output_type": "display_data"
    },
    {
     "data": {
      "text/html": [
       "Run data is saved locally in <code>c:\\Users\\Nick\\Documents\\GitHub\\grvmodel\\Python\\pytorch\\New Model\\wandb\\run-20220825_102127-152z9qf6</code>"
      ],
      "text/plain": [
       "<IPython.core.display.HTML object>"
      ]
     },
     "metadata": {},
     "output_type": "display_data"
    },
    {
     "data": {
      "text/html": [
       "Syncing run <strong><a href=\"https://wandb.ai/nickojelly/grv_priced_sweep_custom/runs/152z9qf6\" target=\"_blank\">fresh-sweep-53</a></strong> to <a href=\"https://wandb.ai/nickojelly/grv_priced_sweep_custom\" target=\"_blank\">Weights & Biases</a> (<a href=\"https://wandb.me/run\" target=\"_blank\">docs</a>)<br/>Sweep page:  <a href=\"https://wandb.ai/nickojelly/grv_priced_sweep_custom/sweeps/nwqxajsa\" target=\"_blank\">https://wandb.ai/nickojelly/grv_priced_sweep_custom/sweeps/nwqxajsa</a>"
      ],
      "text/plain": [
       "<IPython.core.display.HTML object>"
      ]
     },
     "metadata": {},
     "output_type": "display_data"
    },
    {
     "name": "stderr",
     "output_type": "stream",
     "text": [
      "  0%|          | 0/100 [00:00<?, ?it/s]"
     ]
    },
    {
     "name": "stdout",
     "output_type": "stream",
     "text": [
      "{'batch_size': 64, 'dropout': 0.4, 'epochs': 100, 'f1_layer_size': 256, 'f2_layer_size': 64, 'l1_beta': 0.04594607038984311, 'learning_rate': 0.0003800284305898115, 'loss': 'l1_custom', 'num_layers': 2, 'optimizer': 'adam', 'validation_split': 0.1}\n",
      "100\n",
      "{'batch_size': 64, 'dropout': 0.4, 'epochs': 100, 'f1_layer_size': 256, 'f2_layer_size': 64, 'l1_beta': 0.04594607038984311, 'learning_rate': 0.0003800284305898115, 'loss': 'l1_custom', 'num_layers': 2, 'optimizer': 'adam', 'validation_split': 0.1}\n",
      "Sequential(\n",
      "  (0): Linear(in_features=120, out_features=256, bias=True)\n",
      "  (1): ReLU()\n",
      "  (2): Dropout(p=0.4, inplace=False)\n",
      "  (3): Linear(in_features=256, out_features=64, bias=True)\n",
      "  (4): ReLU()\n",
      "  (5): Dropout(p=0.4, inplace=False)\n",
      "  (6): Linear(in_features=64, out_features=8, bias=True)\n",
      "  (7): Softmax(dim=1)\n",
      ")\n"
     ]
    },
    {
     "name": "stderr",
     "output_type": "stream",
     "text": [
      "  1%|          | 1/100 [00:14<24:05, 14.60s/it]"
     ]
    },
    {
     "name": "stdout",
     "output_type": "stream",
     "text": [
      "created path\n"
     ]
    },
    {
     "name": "stderr",
     "output_type": "stream",
     "text": [
      "100%|██████████| 100/100 [08:16<00:00,  4.96s/it]\n"
     ]
    },
    {
     "name": "stdout",
     "output_type": "stream",
     "text": [
      "\n"
     ]
    },
    {
     "data": {
      "text/html": [
       "Waiting for W&B process to finish... <strong style=\"color:green\">(success).</strong>"
      ],
      "text/plain": [
       "<IPython.core.display.HTML object>"
      ]
     },
     "metadata": {},
     "output_type": "display_data"
    },
    {
     "data": {
      "application/vnd.jupyter.widget-view+json": {
       "model_id": "5e48c144c079488e9314017bdf21b3ff",
       "version_major": 2,
       "version_minor": 0
      },
      "text/plain": [
       "VBox(children=(Label(value='0.001 MB of 0.001 MB uploaded (0.000 MB deduped)\\r'), FloatProgress(value=1.0, max…"
      ]
     },
     "metadata": {},
     "output_type": "display_data"
    },
    {
     "data": {
      "text/html": [
       "<style>\n",
       "    table.wandb td:nth-child(1) { padding: 0 10px; text-align: right }\n",
       "    .wandb-row { display: flex; flex-direction: row; flex-wrap: wrap; width: 100% }\n",
       "    .wandb-col { display: flex; flex-direction: column; flex-basis: 100%; flex: 1; padding: 10px; }\n",
       "    </style>\n",
       "<div class=\"wandb-row\"><div class=\"wandb-col\"><h3>Run history:</h3><br/><table class=\"wandb\"><tr><td>bfnotavail</td><td>▂▁▂▄▄█▇▆▇█</td></tr><tr><td>bfprofit</td><td>▁▇▁▂▁█▅▄▇█</td></tr><tr><td>correct_conf</td><td>▁▆▆▇█▇▇███</td></tr><tr><td>epoch</td><td>▁▁▁▁▂▂▂▂▂▃▃▃▃▃▃▄▄▄▄▄▅▅▅▅▅▅▆▆▆▆▆▇▇▇▇▇▇███</td></tr><tr><td>incorrect_conf</td><td>▁▇▇██▇▇██▇</td></tr><tr><td>loss</td><td>▅█▇▆▆▇▅▇▆▅▆▆▅▄▅▆▂█▂▇▅▃▄▅▄▆▄▆▆▆▄▇▆▁▄▄▂▅█▅</td></tr><tr><td>num_bets_per</td><td>█▃▂▁▁▁▂▁▁▁</td></tr><tr><td>profit</td><td>▁▅▃▃▃█▆▆▇█</td></tr><tr><td>test_accuracy</td><td>▁▂▆▆▆█▇▇▇█</td></tr><tr><td>value_pick_roi</td><td>▁▂▁▄▇▆▇▆█▆</td></tr></table><br/></div><div class=\"wandb-col\"><h3>Run summary:</h3><br/><table class=\"wandb\"><tr><td>bfnotavail</td><td>598</td></tr><tr><td>correct_conf</td><td>0.516</td></tr><tr><td>epoch</td><td>99</td></tr><tr><td>incorrect_conf</td><td>0.51735</td></tr><tr><td>num_bets_per</td><td>2.59883</td></tr><tr><td>profit</td><td>-1076.22001</td></tr><tr><td>value_pick_roi</td><td>-0.24988</td></tr></table><br/></div></div>"
      ],
      "text/plain": [
       "<IPython.core.display.HTML object>"
      ]
     },
     "metadata": {},
     "output_type": "display_data"
    },
    {
     "data": {
      "text/html": [
       "Synced <strong style=\"color:#cdcd00\">fresh-sweep-53</strong>: <a href=\"https://wandb.ai/nickojelly/grv_priced_sweep_custom/runs/152z9qf6\" target=\"_blank\">https://wandb.ai/nickojelly/grv_priced_sweep_custom/runs/152z9qf6</a><br/>Synced 5 W&B file(s), 0 media file(s), 0 artifact file(s) and 0 other file(s)"
      ],
      "text/plain": [
       "<IPython.core.display.HTML object>"
      ]
     },
     "metadata": {},
     "output_type": "display_data"
    },
    {
     "data": {
      "text/html": [
       "Find logs at: <code>.\\wandb\\run-20220825_102127-152z9qf6\\logs</code>"
      ],
      "text/plain": [
       "<IPython.core.display.HTML object>"
      ]
     },
     "metadata": {},
     "output_type": "display_data"
    },
    {
     "name": "stderr",
     "output_type": "stream",
     "text": [
      "\u001b[34m\u001b[1mwandb\u001b[0m: Agent Starting Run: hgidgbz6 with config:\n",
      "\u001b[34m\u001b[1mwandb\u001b[0m: \tbatch_size: 720\n",
      "\u001b[34m\u001b[1mwandb\u001b[0m: \tdropout: 0.4\n",
      "\u001b[34m\u001b[1mwandb\u001b[0m: \tepochs: 100\n",
      "\u001b[34m\u001b[1mwandb\u001b[0m: \tf1_layer_size: 32\n",
      "\u001b[34m\u001b[1mwandb\u001b[0m: \tf2_layer_size: 32\n",
      "\u001b[34m\u001b[1mwandb\u001b[0m: \tl1_beta: 0.9447534747402528\n",
      "\u001b[34m\u001b[1mwandb\u001b[0m: \tlearning_rate: 0.0009378810759719772\n",
      "\u001b[34m\u001b[1mwandb\u001b[0m: \tloss: l1_custom\n",
      "\u001b[34m\u001b[1mwandb\u001b[0m: \tnum_layers: 2\n",
      "\u001b[34m\u001b[1mwandb\u001b[0m: \toptimizer: adam\n",
      "\u001b[34m\u001b[1mwandb\u001b[0m: \tvalidation_split: 0.1\n",
      "Failed to detect the name of this notebook, you can set it manually with the WANDB_NOTEBOOK_NAME environment variable to enable code saving.\n",
      "\u001b[34m\u001b[1mwandb\u001b[0m: \u001b[33mWARNING\u001b[0m Ignored wandb.init() arg project when running a sweep.\n"
     ]
    },
    {
     "data": {
      "text/html": [
       "wandb version 0.13.2 is available!  To upgrade, please run:\n",
       " $ pip install wandb --upgrade"
      ],
      "text/plain": [
       "<IPython.core.display.HTML object>"
      ]
     },
     "metadata": {},
     "output_type": "display_data"
    },
    {
     "data": {
      "text/html": [
       "Tracking run with wandb version 0.12.14"
      ],
      "text/plain": [
       "<IPython.core.display.HTML object>"
      ]
     },
     "metadata": {},
     "output_type": "display_data"
    },
    {
     "data": {
      "text/html": [
       "Run data is saved locally in <code>c:\\Users\\Nick\\Documents\\GitHub\\grvmodel\\Python\\pytorch\\New Model\\wandb\\run-20220825_102955-hgidgbz6</code>"
      ],
      "text/plain": [
       "<IPython.core.display.HTML object>"
      ]
     },
     "metadata": {},
     "output_type": "display_data"
    },
    {
     "data": {
      "text/html": [
       "Syncing run <strong><a href=\"https://wandb.ai/nickojelly/grv_priced_sweep_custom/runs/hgidgbz6\" target=\"_blank\">solar-sweep-54</a></strong> to <a href=\"https://wandb.ai/nickojelly/grv_priced_sweep_custom\" target=\"_blank\">Weights & Biases</a> (<a href=\"https://wandb.me/run\" target=\"_blank\">docs</a>)<br/>Sweep page:  <a href=\"https://wandb.ai/nickojelly/grv_priced_sweep_custom/sweeps/nwqxajsa\" target=\"_blank\">https://wandb.ai/nickojelly/grv_priced_sweep_custom/sweeps/nwqxajsa</a>"
      ],
      "text/plain": [
       "<IPython.core.display.HTML object>"
      ]
     },
     "metadata": {},
     "output_type": "display_data"
    },
    {
     "name": "stderr",
     "output_type": "stream",
     "text": [
      "  0%|          | 0/100 [00:00<?, ?it/s]"
     ]
    },
    {
     "name": "stdout",
     "output_type": "stream",
     "text": [
      "{'batch_size': 720, 'dropout': 0.4, 'epochs': 100, 'f1_layer_size': 32, 'f2_layer_size': 32, 'l1_beta': 0.9447534747402528, 'learning_rate': 0.0009378810759719772, 'loss': 'l1_custom', 'num_layers': 2, 'optimizer': 'adam', 'validation_split': 0.1}\n",
      "100\n",
      "{'batch_size': 720, 'dropout': 0.4, 'epochs': 100, 'f1_layer_size': 32, 'f2_layer_size': 32, 'l1_beta': 0.9447534747402528, 'learning_rate': 0.0009378810759719772, 'loss': 'l1_custom', 'num_layers': 2, 'optimizer': 'adam', 'validation_split': 0.1}\n",
      "Sequential(\n",
      "  (0): Linear(in_features=120, out_features=32, bias=True)\n",
      "  (1): ReLU()\n",
      "  (2): Dropout(p=0.4, inplace=False)\n",
      "  (3): Linear(in_features=32, out_features=32, bias=True)\n",
      "  (4): ReLU()\n",
      "  (5): Dropout(p=0.4, inplace=False)\n",
      "  (6): Linear(in_features=32, out_features=8, bias=True)\n",
      "  (7): Softmax(dim=1)\n",
      ")\n"
     ]
    },
    {
     "name": "stderr",
     "output_type": "stream",
     "text": [
      "  1%|          | 1/100 [00:10<17:39, 10.70s/it]"
     ]
    },
    {
     "name": "stdout",
     "output_type": "stream",
     "text": [
      "created path\n"
     ]
    },
    {
     "name": "stderr",
     "output_type": "stream",
     "text": [
      "100%|██████████| 100/100 [04:11<00:00,  2.51s/it]\n"
     ]
    },
    {
     "name": "stdout",
     "output_type": "stream",
     "text": [
      "\n"
     ]
    },
    {
     "data": {
      "text/html": [
       "Waiting for W&B process to finish... <strong style=\"color:green\">(success).</strong>"
      ],
      "text/plain": [
       "<IPython.core.display.HTML object>"
      ]
     },
     "metadata": {},
     "output_type": "display_data"
    },
    {
     "data": {
      "application/vnd.jupyter.widget-view+json": {
       "model_id": "e6a21089f0a24ae9b22fa155d0fb7bec",
       "version_major": 2,
       "version_minor": 0
      },
      "text/plain": [
       "VBox(children=(Label(value='0.001 MB of 0.001 MB uploaded (0.000 MB deduped)\\r'), FloatProgress(value=1.0, max…"
      ]
     },
     "metadata": {},
     "output_type": "display_data"
    },
    {
     "data": {
      "text/html": [
       "<style>\n",
       "    table.wandb td:nth-child(1) { padding: 0 10px; text-align: right }\n",
       "    .wandb-row { display: flex; flex-direction: row; flex-wrap: wrap; width: 100% }\n",
       "    .wandb-col { display: flex; flex-direction: column; flex-basis: 100%; flex: 1; padding: 10px; }\n",
       "    </style>\n",
       "<div class=\"wandb-row\"><div class=\"wandb-col\"><h3>Run history:</h3><br/><table class=\"wandb\"><tr><td>bfnotavail</td><td>▁▆▇▇██████</td></tr><tr><td>bfprofit</td><td>▁█▂▁▃▂▄▅▅▄</td></tr><tr><td>correct_conf</td><td>▁▄▇██▇████</td></tr><tr><td>epoch</td><td>▁▁▁▂▂▂▂▃▃▃▃▃▄▄▄▄▅▅▅▅▅▆▆▆▆▆▇▇▇▇███</td></tr><tr><td>incorrect_conf</td><td>▁▄▇▇▇▇████</td></tr><tr><td>loss</td><td>█▄▆▃▆▃▇▂▂▄▁▂▃▃▃▂▃▄▃▃▅▄▄▃▄▂▂▂▁▄▁▃▃</td></tr><tr><td>num_bets_per</td><td>▃█▄▂▁▂▁▂▃▂</td></tr><tr><td>profit</td><td>▁█▆▅▇▅▇██▇</td></tr><tr><td>test_accuracy</td><td>▁▆▇▇██████</td></tr><tr><td>value_pick_roi</td><td>▁▃▄▆▅▆▆▇▆█</td></tr></table><br/></div><div class=\"wandb-col\"><h3>Run summary:</h3><br/><table class=\"wandb\"><tr><td>bfnotavail</td><td>941</td></tr><tr><td>correct_conf</td><td>0.28151</td></tr><tr><td>epoch</td><td>98</td></tr><tr><td>incorrect_conf</td><td>0.25339</td></tr><tr><td>num_bets_per</td><td>3.98132</td></tr><tr><td>profit</td><td>-929.34001</td></tr><tr><td>value_pick_roi</td><td>-0.25055</td></tr></table><br/></div></div>"
      ],
      "text/plain": [
       "<IPython.core.display.HTML object>"
      ]
     },
     "metadata": {},
     "output_type": "display_data"
    },
    {
     "data": {
      "text/html": [
       "Synced <strong style=\"color:#cdcd00\">solar-sweep-54</strong>: <a href=\"https://wandb.ai/nickojelly/grv_priced_sweep_custom/runs/hgidgbz6\" target=\"_blank\">https://wandb.ai/nickojelly/grv_priced_sweep_custom/runs/hgidgbz6</a><br/>Synced 5 W&B file(s), 0 media file(s), 0 artifact file(s) and 0 other file(s)"
      ],
      "text/plain": [
       "<IPython.core.display.HTML object>"
      ]
     },
     "metadata": {},
     "output_type": "display_data"
    },
    {
     "data": {
      "text/html": [
       "Find logs at: <code>.\\wandb\\run-20220825_102955-hgidgbz6\\logs</code>"
      ],
      "text/plain": [
       "<IPython.core.display.HTML object>"
      ]
     },
     "metadata": {},
     "output_type": "display_data"
    },
    {
     "name": "stderr",
     "output_type": "stream",
     "text": [
      "\u001b[34m\u001b[1mwandb\u001b[0m: Agent Starting Run: f1o4xjvd with config:\n",
      "\u001b[34m\u001b[1mwandb\u001b[0m: \tbatch_size: 720\n",
      "\u001b[34m\u001b[1mwandb\u001b[0m: \tdropout: 0.5\n",
      "\u001b[34m\u001b[1mwandb\u001b[0m: \tepochs: 100\n",
      "\u001b[34m\u001b[1mwandb\u001b[0m: \tf1_layer_size: 32\n",
      "\u001b[34m\u001b[1mwandb\u001b[0m: \tf2_layer_size: 64\n",
      "\u001b[34m\u001b[1mwandb\u001b[0m: \tl1_beta: 0.9430747855179994\n",
      "\u001b[34m\u001b[1mwandb\u001b[0m: \tlearning_rate: 0.0006559725215188367\n",
      "\u001b[34m\u001b[1mwandb\u001b[0m: \tloss: l1_custom\n",
      "\u001b[34m\u001b[1mwandb\u001b[0m: \tnum_layers: 2\n",
      "\u001b[34m\u001b[1mwandb\u001b[0m: \toptimizer: adam\n",
      "\u001b[34m\u001b[1mwandb\u001b[0m: \tvalidation_split: 0.1\n",
      "Failed to detect the name of this notebook, you can set it manually with the WANDB_NOTEBOOK_NAME environment variable to enable code saving.\n",
      "\u001b[34m\u001b[1mwandb\u001b[0m: \u001b[33mWARNING\u001b[0m Ignored wandb.init() arg project when running a sweep.\n"
     ]
    },
    {
     "data": {
      "text/html": [
       "wandb version 0.13.2 is available!  To upgrade, please run:\n",
       " $ pip install wandb --upgrade"
      ],
      "text/plain": [
       "<IPython.core.display.HTML object>"
      ]
     },
     "metadata": {},
     "output_type": "display_data"
    },
    {
     "data": {
      "text/html": [
       "Tracking run with wandb version 0.12.14"
      ],
      "text/plain": [
       "<IPython.core.display.HTML object>"
      ]
     },
     "metadata": {},
     "output_type": "display_data"
    },
    {
     "data": {
      "text/html": [
       "Run data is saved locally in <code>c:\\Users\\Nick\\Documents\\GitHub\\grvmodel\\Python\\pytorch\\New Model\\wandb\\run-20220825_103417-f1o4xjvd</code>"
      ],
      "text/plain": [
       "<IPython.core.display.HTML object>"
      ]
     },
     "metadata": {},
     "output_type": "display_data"
    },
    {
     "data": {
      "text/html": [
       "Syncing run <strong><a href=\"https://wandb.ai/nickojelly/grv_priced_sweep_custom/runs/f1o4xjvd\" target=\"_blank\">eternal-sweep-55</a></strong> to <a href=\"https://wandb.ai/nickojelly/grv_priced_sweep_custom\" target=\"_blank\">Weights & Biases</a> (<a href=\"https://wandb.me/run\" target=\"_blank\">docs</a>)<br/>Sweep page:  <a href=\"https://wandb.ai/nickojelly/grv_priced_sweep_custom/sweeps/nwqxajsa\" target=\"_blank\">https://wandb.ai/nickojelly/grv_priced_sweep_custom/sweeps/nwqxajsa</a>"
      ],
      "text/plain": [
       "<IPython.core.display.HTML object>"
      ]
     },
     "metadata": {},
     "output_type": "display_data"
    },
    {
     "name": "stderr",
     "output_type": "stream",
     "text": [
      "  0%|          | 0/100 [00:00<?, ?it/s]"
     ]
    },
    {
     "name": "stdout",
     "output_type": "stream",
     "text": [
      "{'batch_size': 720, 'dropout': 0.5, 'epochs': 100, 'f1_layer_size': 32, 'f2_layer_size': 64, 'l1_beta': 0.9430747855179994, 'learning_rate': 0.0006559725215188367, 'loss': 'l1_custom', 'num_layers': 2, 'optimizer': 'adam', 'validation_split': 0.1}\n",
      "100\n",
      "{'batch_size': 720, 'dropout': 0.5, 'epochs': 100, 'f1_layer_size': 32, 'f2_layer_size': 64, 'l1_beta': 0.9430747855179994, 'learning_rate': 0.0006559725215188367, 'loss': 'l1_custom', 'num_layers': 2, 'optimizer': 'adam', 'validation_split': 0.1}\n",
      "Sequential(\n",
      "  (0): Linear(in_features=120, out_features=32, bias=True)\n",
      "  (1): ReLU()\n",
      "  (2): Dropout(p=0.5, inplace=False)\n",
      "  (3): Linear(in_features=32, out_features=64, bias=True)\n",
      "  (4): ReLU()\n",
      "  (5): Dropout(p=0.5, inplace=False)\n",
      "  (6): Linear(in_features=64, out_features=8, bias=True)\n",
      "  (7): Softmax(dim=1)\n",
      ")\n"
     ]
    },
    {
     "name": "stderr",
     "output_type": "stream",
     "text": [
      "  1%|          | 1/100 [00:11<18:33, 11.25s/it]"
     ]
    },
    {
     "name": "stdout",
     "output_type": "stream",
     "text": [
      "created path\n"
     ]
    },
    {
     "name": "stderr",
     "output_type": "stream",
     "text": [
      "100%|██████████| 100/100 [04:13<00:00,  2.54s/it]\n"
     ]
    },
    {
     "name": "stdout",
     "output_type": "stream",
     "text": [
      "\n"
     ]
    },
    {
     "data": {
      "text/html": [
       "Waiting for W&B process to finish... <strong style=\"color:green\">(success).</strong>"
      ],
      "text/plain": [
       "<IPython.core.display.HTML object>"
      ]
     },
     "metadata": {},
     "output_type": "display_data"
    },
    {
     "data": {
      "application/vnd.jupyter.widget-view+json": {
       "model_id": "a1a8a6f630554c03a775f66a633cb819",
       "version_major": 2,
       "version_minor": 0
      },
      "text/plain": [
       "VBox(children=(Label(value='0.001 MB of 0.001 MB uploaded (0.000 MB deduped)\\r'), FloatProgress(value=1.0, max…"
      ]
     },
     "metadata": {},
     "output_type": "display_data"
    },
    {
     "data": {
      "text/html": [
       "<style>\n",
       "    table.wandb td:nth-child(1) { padding: 0 10px; text-align: right }\n",
       "    .wandb-row { display: flex; flex-direction: row; flex-wrap: wrap; width: 100% }\n",
       "    .wandb-col { display: flex; flex-direction: column; flex-basis: 100%; flex: 1; padding: 10px; }\n",
       "    </style>\n",
       "<div class=\"wandb-row\"><div class=\"wandb-col\"><h3>Run history:</h3><br/><table class=\"wandb\"><tr><td>bfnotavail</td><td>▁▅▆▇█▇████</td></tr><tr><td>bfprofit</td><td>▁▂▃▆▆▆▆▇██</td></tr><tr><td>correct_conf</td><td>▁▄▆▇██████</td></tr><tr><td>epoch</td><td>▁▁▁▂▂▂▂▃▃▃▃▃▄▄▄▄▅▅▅▅▅▆▆▆▆▆▇▇▇▇███</td></tr><tr><td>incorrect_conf</td><td>▁▄▆▇▇█████</td></tr><tr><td>loss</td><td>█▇▆▅▅▄▄▃▄▄▄▄▄▂▄▂▂▂▃▄▄▄▁▄▄▄▃▃▄▂▁▄▄</td></tr><tr><td>num_bets_per</td><td>▅█▆▅▄▂▁▃▂▂</td></tr><tr><td>profit</td><td>▁▄▄▆▆▇▇▇██</td></tr><tr><td>test_accuracy</td><td>▁▅▆▇█▇████</td></tr><tr><td>value_pick_roi</td><td>▁▄▅▄▄▆█▇██</td></tr></table><br/></div><div class=\"wandb-col\"><h3>Run summary:</h3><br/><table class=\"wandb\"><tr><td>bfnotavail</td><td>948</td></tr><tr><td>correct_conf</td><td>0.28534</td></tr><tr><td>epoch</td><td>98</td></tr><tr><td>incorrect_conf</td><td>0.25802</td></tr><tr><td>num_bets_per</td><td>3.90318</td></tr><tr><td>profit</td><td>-842.14</td></tr><tr><td>value_pick_roi</td><td>-0.25377</td></tr></table><br/></div></div>"
      ],
      "text/plain": [
       "<IPython.core.display.HTML object>"
      ]
     },
     "metadata": {},
     "output_type": "display_data"
    },
    {
     "data": {
      "text/html": [
       "Synced <strong style=\"color:#cdcd00\">eternal-sweep-55</strong>: <a href=\"https://wandb.ai/nickojelly/grv_priced_sweep_custom/runs/f1o4xjvd\" target=\"_blank\">https://wandb.ai/nickojelly/grv_priced_sweep_custom/runs/f1o4xjvd</a><br/>Synced 5 W&B file(s), 0 media file(s), 0 artifact file(s) and 0 other file(s)"
      ],
      "text/plain": [
       "<IPython.core.display.HTML object>"
      ]
     },
     "metadata": {},
     "output_type": "display_data"
    },
    {
     "data": {
      "text/html": [
       "Find logs at: <code>.\\wandb\\run-20220825_103417-f1o4xjvd\\logs</code>"
      ],
      "text/plain": [
       "<IPython.core.display.HTML object>"
      ]
     },
     "metadata": {},
     "output_type": "display_data"
    },
    {
     "name": "stderr",
     "output_type": "stream",
     "text": [
      "\u001b[34m\u001b[1mwandb\u001b[0m: Agent Starting Run: sp55hzgp with config:\n",
      "\u001b[34m\u001b[1mwandb\u001b[0m: \tbatch_size: 128\n",
      "\u001b[34m\u001b[1mwandb\u001b[0m: \tdropout: 0.3\n",
      "\u001b[34m\u001b[1mwandb\u001b[0m: \tepochs: 100\n",
      "\u001b[34m\u001b[1mwandb\u001b[0m: \tf1_layer_size: 64\n",
      "\u001b[34m\u001b[1mwandb\u001b[0m: \tf2_layer_size: 64\n",
      "\u001b[34m\u001b[1mwandb\u001b[0m: \tl1_beta: 0.632492739563925\n",
      "\u001b[34m\u001b[1mwandb\u001b[0m: \tlearning_rate: 0.0008977669380205639\n",
      "\u001b[34m\u001b[1mwandb\u001b[0m: \tloss: l1_custom\n",
      "\u001b[34m\u001b[1mwandb\u001b[0m: \tnum_layers: 2\n",
      "\u001b[34m\u001b[1mwandb\u001b[0m: \toptimizer: adam\n",
      "\u001b[34m\u001b[1mwandb\u001b[0m: \tvalidation_split: 0.1\n",
      "Failed to detect the name of this notebook, you can set it manually with the WANDB_NOTEBOOK_NAME environment variable to enable code saving.\n",
      "\u001b[34m\u001b[1mwandb\u001b[0m: \u001b[33mWARNING\u001b[0m Ignored wandb.init() arg project when running a sweep.\n"
     ]
    },
    {
     "data": {
      "text/html": [
       "wandb version 0.13.2 is available!  To upgrade, please run:\n",
       " $ pip install wandb --upgrade"
      ],
      "text/plain": [
       "<IPython.core.display.HTML object>"
      ]
     },
     "metadata": {},
     "output_type": "display_data"
    },
    {
     "data": {
      "text/html": [
       "Tracking run with wandb version 0.12.14"
      ],
      "text/plain": [
       "<IPython.core.display.HTML object>"
      ]
     },
     "metadata": {},
     "output_type": "display_data"
    },
    {
     "data": {
      "text/html": [
       "Run data is saved locally in <code>c:\\Users\\Nick\\Documents\\GitHub\\grvmodel\\Python\\pytorch\\New Model\\wandb\\run-20220825_103842-sp55hzgp</code>"
      ],
      "text/plain": [
       "<IPython.core.display.HTML object>"
      ]
     },
     "metadata": {},
     "output_type": "display_data"
    },
    {
     "data": {
      "text/html": [
       "Syncing run <strong><a href=\"https://wandb.ai/nickojelly/grv_priced_sweep_custom/runs/sp55hzgp\" target=\"_blank\">dazzling-sweep-56</a></strong> to <a href=\"https://wandb.ai/nickojelly/grv_priced_sweep_custom\" target=\"_blank\">Weights & Biases</a> (<a href=\"https://wandb.me/run\" target=\"_blank\">docs</a>)<br/>Sweep page:  <a href=\"https://wandb.ai/nickojelly/grv_priced_sweep_custom/sweeps/nwqxajsa\" target=\"_blank\">https://wandb.ai/nickojelly/grv_priced_sweep_custom/sweeps/nwqxajsa</a>"
      ],
      "text/plain": [
       "<IPython.core.display.HTML object>"
      ]
     },
     "metadata": {},
     "output_type": "display_data"
    },
    {
     "name": "stderr",
     "output_type": "stream",
     "text": [
      "  0%|          | 0/100 [00:00<?, ?it/s]"
     ]
    },
    {
     "name": "stdout",
     "output_type": "stream",
     "text": [
      "{'batch_size': 128, 'dropout': 0.3, 'epochs': 100, 'f1_layer_size': 64, 'f2_layer_size': 64, 'l1_beta': 0.632492739563925, 'learning_rate': 0.0008977669380205639, 'loss': 'l1_custom', 'num_layers': 2, 'optimizer': 'adam', 'validation_split': 0.1}\n",
      "100\n",
      "{'batch_size': 128, 'dropout': 0.3, 'epochs': 100, 'f1_layer_size': 64, 'f2_layer_size': 64, 'l1_beta': 0.632492739563925, 'learning_rate': 0.0008977669380205639, 'loss': 'l1_custom', 'num_layers': 2, 'optimizer': 'adam', 'validation_split': 0.1}\n",
      "Sequential(\n",
      "  (0): Linear(in_features=120, out_features=64, bias=True)\n",
      "  (1): ReLU()\n",
      "  (2): Dropout(p=0.3, inplace=False)\n",
      "  (3): Linear(in_features=64, out_features=64, bias=True)\n",
      "  (4): ReLU()\n",
      "  (5): Dropout(p=0.3, inplace=False)\n",
      "  (6): Linear(in_features=64, out_features=8, bias=True)\n",
      "  (7): Softmax(dim=1)\n",
      ")\n"
     ]
    },
    {
     "name": "stderr",
     "output_type": "stream",
     "text": [
      "  1%|          | 1/100 [00:12<20:44, 12.57s/it]"
     ]
    },
    {
     "name": "stdout",
     "output_type": "stream",
     "text": [
      "created path\n"
     ]
    },
    {
     "name": "stderr",
     "output_type": "stream",
     "text": [
      "100%|██████████| 100/100 [05:51<00:00,  3.51s/it]\n"
     ]
    },
    {
     "name": "stdout",
     "output_type": "stream",
     "text": [
      "\n"
     ]
    },
    {
     "data": {
      "text/html": [
       "Waiting for W&B process to finish... <strong style=\"color:green\">(success).</strong>"
      ],
      "text/plain": [
       "<IPython.core.display.HTML object>"
      ]
     },
     "metadata": {},
     "output_type": "display_data"
    },
    {
     "data": {
      "application/vnd.jupyter.widget-view+json": {
       "model_id": "35b2dfebfd4542ce80f4d5f626af84f1",
       "version_major": 2,
       "version_minor": 0
      },
      "text/plain": [
       "VBox(children=(Label(value='0.001 MB of 0.001 MB uploaded (0.000 MB deduped)\\r'), FloatProgress(value=1.0, max…"
      ]
     },
     "metadata": {},
     "output_type": "display_data"
    },
    {
     "data": {
      "text/html": [
       "<style>\n",
       "    table.wandb td:nth-child(1) { padding: 0 10px; text-align: right }\n",
       "    .wandb-row { display: flex; flex-direction: row; flex-wrap: wrap; width: 100% }\n",
       "    .wandb-col { display: flex; flex-direction: column; flex-basis: 100%; flex: 1; padding: 10px; }\n",
       "    </style>\n",
       "<div class=\"wandb-row\"><div class=\"wandb-col\"><h3>Run history:</h3><br/><table class=\"wandb\"><tr><td>bfnotavail</td><td>▁▇▇▇▇▇▇▇█▇</td></tr><tr><td>bfprofit</td><td>▃▂▄▆▁▆▇▄█▆</td></tr><tr><td>correct_conf</td><td>▁▇█▇███▇██</td></tr><tr><td>epoch</td><td>▁▁▁▁▂▂▂▂▂▃▃▃▃▃▃▄▄▄▄▄▅▅▅▅▅▅▆▆▆▆▆▇▇▇▇▇▇███</td></tr><tr><td>incorrect_conf</td><td>▁▇█▇███▇██</td></tr><tr><td>loss</td><td>█▆▅▇▇▃▅▂▃▆▁▇▄▆▄▃▅▆▄▇▅▁▁▃▄▅▂▆▆▇▃▆▃▄▄▄█▆▅▅</td></tr><tr><td>num_bets_per</td><td>█▄▂▁▂▃▃▃▂▂</td></tr><tr><td>profit</td><td>▁▂▄▆▁▇█▅█▇</td></tr><tr><td>test_accuracy</td><td>▁▇█▇▇█▇▇██</td></tr><tr><td>value_pick_roi</td><td>▁▇▆▄▃█▃▅▇▄</td></tr></table><br/></div><div class=\"wandb-col\"><h3>Run summary:</h3><br/><table class=\"wandb\"><tr><td>bfnotavail</td><td>930</td></tr><tr><td>correct_conf</td><td>0.29031</td></tr><tr><td>epoch</td><td>99</td></tr><tr><td>incorrect_conf</td><td>0.26118</td></tr><tr><td>num_bets_per</td><td>3.94083</td></tr><tr><td>profit</td><td>-834.14</td></tr><tr><td>value_pick_roi</td><td>-0.26612</td></tr></table><br/></div></div>"
      ],
      "text/plain": [
       "<IPython.core.display.HTML object>"
      ]
     },
     "metadata": {},
     "output_type": "display_data"
    },
    {
     "data": {
      "text/html": [
       "Synced <strong style=\"color:#cdcd00\">dazzling-sweep-56</strong>: <a href=\"https://wandb.ai/nickojelly/grv_priced_sweep_custom/runs/sp55hzgp\" target=\"_blank\">https://wandb.ai/nickojelly/grv_priced_sweep_custom/runs/sp55hzgp</a><br/>Synced 5 W&B file(s), 0 media file(s), 0 artifact file(s) and 0 other file(s)"
      ],
      "text/plain": [
       "<IPython.core.display.HTML object>"
      ]
     },
     "metadata": {},
     "output_type": "display_data"
    },
    {
     "data": {
      "text/html": [
       "Find logs at: <code>.\\wandb\\run-20220825_103842-sp55hzgp\\logs</code>"
      ],
      "text/plain": [
       "<IPython.core.display.HTML object>"
      ]
     },
     "metadata": {},
     "output_type": "display_data"
    },
    {
     "name": "stderr",
     "output_type": "stream",
     "text": [
      "\u001b[34m\u001b[1mwandb\u001b[0m: Sweep Agent: Waiting for job.\n",
      "\u001b[34m\u001b[1mwandb\u001b[0m: Job received.\n",
      "\u001b[34m\u001b[1mwandb\u001b[0m: Agent Starting Run: pgoozd17 with config:\n",
      "\u001b[34m\u001b[1mwandb\u001b[0m: \tbatch_size: 128\n",
      "\u001b[34m\u001b[1mwandb\u001b[0m: \tdropout: 0.3\n",
      "\u001b[34m\u001b[1mwandb\u001b[0m: \tepochs: 100\n",
      "\u001b[34m\u001b[1mwandb\u001b[0m: \tf1_layer_size: 128\n",
      "\u001b[34m\u001b[1mwandb\u001b[0m: \tf2_layer_size: 128\n",
      "\u001b[34m\u001b[1mwandb\u001b[0m: \tl1_beta: 0.6807384859800948\n",
      "\u001b[34m\u001b[1mwandb\u001b[0m: \tlearning_rate: 0.0008058944805124884\n",
      "\u001b[34m\u001b[1mwandb\u001b[0m: \tloss: l1_custom\n",
      "\u001b[34m\u001b[1mwandb\u001b[0m: \tnum_layers: 2\n",
      "\u001b[34m\u001b[1mwandb\u001b[0m: \toptimizer: adam\n",
      "\u001b[34m\u001b[1mwandb\u001b[0m: \tvalidation_split: 0.1\n",
      "Failed to detect the name of this notebook, you can set it manually with the WANDB_NOTEBOOK_NAME environment variable to enable code saving.\n",
      "\u001b[34m\u001b[1mwandb\u001b[0m: \u001b[33mWARNING\u001b[0m Ignored wandb.init() arg project when running a sweep.\n"
     ]
    },
    {
     "data": {
      "text/html": [
       "wandb version 0.13.2 is available!  To upgrade, please run:\n",
       " $ pip install wandb --upgrade"
      ],
      "text/plain": [
       "<IPython.core.display.HTML object>"
      ]
     },
     "metadata": {},
     "output_type": "display_data"
    },
    {
     "data": {
      "text/html": [
       "Tracking run with wandb version 0.12.14"
      ],
      "text/plain": [
       "<IPython.core.display.HTML object>"
      ]
     },
     "metadata": {},
     "output_type": "display_data"
    },
    {
     "data": {
      "text/html": [
       "Run data is saved locally in <code>c:\\Users\\Nick\\Documents\\GitHub\\grvmodel\\Python\\pytorch\\New Model\\wandb\\run-20220825_104452-pgoozd17</code>"
      ],
      "text/plain": [
       "<IPython.core.display.HTML object>"
      ]
     },
     "metadata": {},
     "output_type": "display_data"
    },
    {
     "data": {
      "text/html": [
       "Syncing run <strong><a href=\"https://wandb.ai/nickojelly/grv_priced_sweep_custom/runs/pgoozd17\" target=\"_blank\">divine-sweep-57</a></strong> to <a href=\"https://wandb.ai/nickojelly/grv_priced_sweep_custom\" target=\"_blank\">Weights & Biases</a> (<a href=\"https://wandb.me/run\" target=\"_blank\">docs</a>)<br/>Sweep page:  <a href=\"https://wandb.ai/nickojelly/grv_priced_sweep_custom/sweeps/nwqxajsa\" target=\"_blank\">https://wandb.ai/nickojelly/grv_priced_sweep_custom/sweeps/nwqxajsa</a>"
      ],
      "text/plain": [
       "<IPython.core.display.HTML object>"
      ]
     },
     "metadata": {},
     "output_type": "display_data"
    },
    {
     "name": "stderr",
     "output_type": "stream",
     "text": [
      "  0%|          | 0/100 [00:00<?, ?it/s]"
     ]
    },
    {
     "name": "stdout",
     "output_type": "stream",
     "text": [
      "{'batch_size': 128, 'dropout': 0.3, 'epochs': 100, 'f1_layer_size': 128, 'f2_layer_size': 128, 'l1_beta': 0.6807384859800948, 'learning_rate': 0.0008058944805124884, 'loss': 'l1_custom', 'num_layers': 2, 'optimizer': 'adam', 'validation_split': 0.1}\n",
      "100\n",
      "{'batch_size': 128, 'dropout': 0.3, 'epochs': 100, 'f1_layer_size': 128, 'f2_layer_size': 128, 'l1_beta': 0.6807384859800948, 'learning_rate': 0.0008058944805124884, 'loss': 'l1_custom', 'num_layers': 2, 'optimizer': 'adam', 'validation_split': 0.1}\n",
      "Sequential(\n",
      "  (0): Linear(in_features=120, out_features=128, bias=True)\n",
      "  (1): ReLU()\n",
      "  (2): Dropout(p=0.3, inplace=False)\n",
      "  (3): Linear(in_features=128, out_features=128, bias=True)\n",
      "  (4): ReLU()\n",
      "  (5): Dropout(p=0.3, inplace=False)\n",
      "  (6): Linear(in_features=128, out_features=8, bias=True)\n",
      "  (7): Softmax(dim=1)\n",
      ")\n"
     ]
    },
    {
     "name": "stderr",
     "output_type": "stream",
     "text": [
      "  1%|          | 1/100 [00:12<20:52, 12.65s/it]"
     ]
    },
    {
     "name": "stdout",
     "output_type": "stream",
     "text": [
      "created path\n"
     ]
    },
    {
     "name": "stderr",
     "output_type": "stream",
     "text": [
      "100%|██████████| 100/100 [05:57<00:00,  3.58s/it]\n"
     ]
    },
    {
     "name": "stdout",
     "output_type": "stream",
     "text": [
      "\n"
     ]
    },
    {
     "data": {
      "text/html": [
       "Waiting for W&B process to finish... <strong style=\"color:green\">(success).</strong>"
      ],
      "text/plain": [
       "<IPython.core.display.HTML object>"
      ]
     },
     "metadata": {},
     "output_type": "display_data"
    },
    {
     "data": {
      "application/vnd.jupyter.widget-view+json": {
       "model_id": "e83fd5d93ce446d6978540ebf4f38387",
       "version_major": 2,
       "version_minor": 0
      },
      "text/plain": [
       "VBox(children=(Label(value='0.001 MB of 0.001 MB uploaded (0.000 MB deduped)\\r'), FloatProgress(value=1.0, max…"
      ]
     },
     "metadata": {},
     "output_type": "display_data"
    },
    {
     "data": {
      "text/html": [
       "<style>\n",
       "    table.wandb td:nth-child(1) { padding: 0 10px; text-align: right }\n",
       "    .wandb-row { display: flex; flex-direction: row; flex-wrap: wrap; width: 100% }\n",
       "    .wandb-col { display: flex; flex-direction: column; flex-basis: 100%; flex: 1; padding: 10px; }\n",
       "    </style>\n",
       "<div class=\"wandb-row\"><div class=\"wandb-col\"><h3>Run history:</h3><br/><table class=\"wandb\"><tr><td>bfnotavail</td><td>▁███▇▇██▇▇</td></tr><tr><td>bfprofit</td><td>▂▁▇▁▇▅▅█▇▆</td></tr><tr><td>correct_conf</td><td>▁▆▆▇█▇████</td></tr><tr><td>epoch</td><td>▁▁▁▁▂▂▂▂▂▃▃▃▃▃▃▄▄▄▄▄▅▅▅▅▅▅▆▆▆▆▆▇▇▇▇▇▇███</td></tr><tr><td>incorrect_conf</td><td>▁▆▆▇█▇████</td></tr><tr><td>loss</td><td>▇▄▃▄▄▄▆▆▅▃▄▄▅▆▃▃▁▃▄▃▁▃▆▄▄▄▃▃▅▃█▂▆▃▄▅▄▄▂▃</td></tr><tr><td>num_bets_per</td><td>█▇▇▅▄▅▃▃▁▂</td></tr><tr><td>profit</td><td>▁▄█▅▇▆▇█▇▇</td></tr><tr><td>test_accuracy</td><td>▁███████▇▇</td></tr><tr><td>value_pick_roi</td><td>▁▄▇▇▆▅██▆▅</td></tr></table><br/></div><div class=\"wandb-col\"><h3>Run summary:</h3><br/><table class=\"wandb\"><tr><td>bfnotavail</td><td>892</td></tr><tr><td>correct_conf</td><td>0.30476</td></tr><tr><td>epoch</td><td>99</td></tr><tr><td>incorrect_conf</td><td>0.27066</td></tr><tr><td>num_bets_per</td><td>3.87599</td></tr><tr><td>profit</td><td>-893.42</td></tr><tr><td>value_pick_roi</td><td>-0.26822</td></tr></table><br/></div></div>"
      ],
      "text/plain": [
       "<IPython.core.display.HTML object>"
      ]
     },
     "metadata": {},
     "output_type": "display_data"
    },
    {
     "data": {
      "text/html": [
       "Synced <strong style=\"color:#cdcd00\">divine-sweep-57</strong>: <a href=\"https://wandb.ai/nickojelly/grv_priced_sweep_custom/runs/pgoozd17\" target=\"_blank\">https://wandb.ai/nickojelly/grv_priced_sweep_custom/runs/pgoozd17</a><br/>Synced 5 W&B file(s), 0 media file(s), 0 artifact file(s) and 0 other file(s)"
      ],
      "text/plain": [
       "<IPython.core.display.HTML object>"
      ]
     },
     "metadata": {},
     "output_type": "display_data"
    },
    {
     "data": {
      "text/html": [
       "Find logs at: <code>.\\wandb\\run-20220825_104452-pgoozd17\\logs</code>"
      ],
      "text/plain": [
       "<IPython.core.display.HTML object>"
      ]
     },
     "metadata": {},
     "output_type": "display_data"
    },
    {
     "name": "stderr",
     "output_type": "stream",
     "text": [
      "\u001b[34m\u001b[1mwandb\u001b[0m: Agent Starting Run: zgus413d with config:\n",
      "\u001b[34m\u001b[1mwandb\u001b[0m: \tbatch_size: 128\n",
      "\u001b[34m\u001b[1mwandb\u001b[0m: \tdropout: 0.3\n",
      "\u001b[34m\u001b[1mwandb\u001b[0m: \tepochs: 100\n",
      "\u001b[34m\u001b[1mwandb\u001b[0m: \tf1_layer_size: 256\n",
      "\u001b[34m\u001b[1mwandb\u001b[0m: \tf2_layer_size: 256\n",
      "\u001b[34m\u001b[1mwandb\u001b[0m: \tl1_beta: 0.7039960192878751\n",
      "\u001b[34m\u001b[1mwandb\u001b[0m: \tlearning_rate: 0.0006054223936301375\n",
      "\u001b[34m\u001b[1mwandb\u001b[0m: \tloss: l1_custom\n",
      "\u001b[34m\u001b[1mwandb\u001b[0m: \tnum_layers: 2\n",
      "\u001b[34m\u001b[1mwandb\u001b[0m: \toptimizer: adam\n",
      "\u001b[34m\u001b[1mwandb\u001b[0m: \tvalidation_split: 0.1\n",
      "Failed to detect the name of this notebook, you can set it manually with the WANDB_NOTEBOOK_NAME environment variable to enable code saving.\n",
      "\u001b[34m\u001b[1mwandb\u001b[0m: \u001b[33mWARNING\u001b[0m Ignored wandb.init() arg project when running a sweep.\n"
     ]
    },
    {
     "data": {
      "text/html": [
       "wandb version 0.13.2 is available!  To upgrade, please run:\n",
       " $ pip install wandb --upgrade"
      ],
      "text/plain": [
       "<IPython.core.display.HTML object>"
      ]
     },
     "metadata": {},
     "output_type": "display_data"
    },
    {
     "data": {
      "text/html": [
       "Tracking run with wandb version 0.12.14"
      ],
      "text/plain": [
       "<IPython.core.display.HTML object>"
      ]
     },
     "metadata": {},
     "output_type": "display_data"
    },
    {
     "data": {
      "text/html": [
       "Run data is saved locally in <code>c:\\Users\\Nick\\Documents\\GitHub\\grvmodel\\Python\\pytorch\\New Model\\wandb\\run-20220825_105101-zgus413d</code>"
      ],
      "text/plain": [
       "<IPython.core.display.HTML object>"
      ]
     },
     "metadata": {},
     "output_type": "display_data"
    },
    {
     "data": {
      "text/html": [
       "Syncing run <strong><a href=\"https://wandb.ai/nickojelly/grv_priced_sweep_custom/runs/zgus413d\" target=\"_blank\">honest-sweep-58</a></strong> to <a href=\"https://wandb.ai/nickojelly/grv_priced_sweep_custom\" target=\"_blank\">Weights & Biases</a> (<a href=\"https://wandb.me/run\" target=\"_blank\">docs</a>)<br/>Sweep page:  <a href=\"https://wandb.ai/nickojelly/grv_priced_sweep_custom/sweeps/nwqxajsa\" target=\"_blank\">https://wandb.ai/nickojelly/grv_priced_sweep_custom/sweeps/nwqxajsa</a>"
      ],
      "text/plain": [
       "<IPython.core.display.HTML object>"
      ]
     },
     "metadata": {},
     "output_type": "display_data"
    },
    {
     "name": "stderr",
     "output_type": "stream",
     "text": [
      "  0%|          | 0/100 [00:00<?, ?it/s]"
     ]
    },
    {
     "name": "stdout",
     "output_type": "stream",
     "text": [
      "{'batch_size': 128, 'dropout': 0.3, 'epochs': 100, 'f1_layer_size': 256, 'f2_layer_size': 256, 'l1_beta': 0.7039960192878751, 'learning_rate': 0.0006054223936301375, 'loss': 'l1_custom', 'num_layers': 2, 'optimizer': 'adam', 'validation_split': 0.1}\n",
      "100\n",
      "{'batch_size': 128, 'dropout': 0.3, 'epochs': 100, 'f1_layer_size': 256, 'f2_layer_size': 256, 'l1_beta': 0.7039960192878751, 'learning_rate': 0.0006054223936301375, 'loss': 'l1_custom', 'num_layers': 2, 'optimizer': 'adam', 'validation_split': 0.1}\n",
      "Sequential(\n",
      "  (0): Linear(in_features=120, out_features=256, bias=True)\n",
      "  (1): ReLU()\n",
      "  (2): Dropout(p=0.3, inplace=False)\n",
      "  (3): Linear(in_features=256, out_features=256, bias=True)\n",
      "  (4): ReLU()\n",
      "  (5): Dropout(p=0.3, inplace=False)\n",
      "  (6): Linear(in_features=256, out_features=8, bias=True)\n",
      "  (7): Softmax(dim=1)\n",
      ")\n"
     ]
    },
    {
     "name": "stderr",
     "output_type": "stream",
     "text": [
      "  1%|          | 1/100 [00:14<23:14, 14.09s/it]"
     ]
    },
    {
     "name": "stdout",
     "output_type": "stream",
     "text": [
      "created path\n"
     ]
    },
    {
     "name": "stderr",
     "output_type": "stream",
     "text": [
      "100%|██████████| 100/100 [06:15<00:00,  3.75s/it]\n"
     ]
    },
    {
     "name": "stdout",
     "output_type": "stream",
     "text": [
      "\n"
     ]
    },
    {
     "data": {
      "text/html": [
       "Waiting for W&B process to finish... <strong style=\"color:green\">(success).</strong>"
      ],
      "text/plain": [
       "<IPython.core.display.HTML object>"
      ]
     },
     "metadata": {},
     "output_type": "display_data"
    },
    {
     "data": {
      "application/vnd.jupyter.widget-view+json": {
       "model_id": "8094a4db3c8b4c6da305d3fd868eab27",
       "version_major": 2,
       "version_minor": 0
      },
      "text/plain": [
       "VBox(children=(Label(value='0.001 MB of 0.001 MB uploaded (0.000 MB deduped)\\r'), FloatProgress(value=1.0, max…"
      ]
     },
     "metadata": {},
     "output_type": "display_data"
    },
    {
     "data": {
      "text/html": [
       "<style>\n",
       "    table.wandb td:nth-child(1) { padding: 0 10px; text-align: right }\n",
       "    .wandb-row { display: flex; flex-direction: row; flex-wrap: wrap; width: 100% }\n",
       "    .wandb-col { display: flex; flex-direction: column; flex-basis: 100%; flex: 1; padding: 10px; }\n",
       "    </style>\n",
       "<div class=\"wandb-row\"><div class=\"wandb-col\"><h3>Run history:</h3><br/><table class=\"wandb\"><tr><td>bfnotavail</td><td>▁█████▇▇▆▅</td></tr><tr><td>bfprofit</td><td>▄▁█▇▃▆▇▇▅▃</td></tr><tr><td>correct_conf</td><td>▁▄▅▆▆▇████</td></tr><tr><td>epoch</td><td>▁▁▁▁▂▂▂▂▂▃▃▃▃▃▃▄▄▄▄▄▅▅▅▅▅▅▆▆▆▆▆▇▇▇▇▇▇███</td></tr><tr><td>incorrect_conf</td><td>▁▄▅▆▆▇████</td></tr><tr><td>loss</td><td>▇▇▆▆█▇▅▅▄▆▅█▅▆▃▃▃▆▆▆▁▄▆▃▁▄▅▄▆▁▄▄▆▆▂▁▅▄▂▇</td></tr><tr><td>num_bets_per</td><td>██▆▅▅▄▂▂▁▁</td></tr><tr><td>profit</td><td>▃▄█▇▄▇▇▇▅▁</td></tr><tr><td>test_accuracy</td><td>▁▇█▇▇▇▇▇▆▆</td></tr><tr><td>value_pick_roi</td><td>▁▃▇█▂██▆█▃</td></tr></table><br/></div><div class=\"wandb-col\"><h3>Run summary:</h3><br/><table class=\"wandb\"><tr><td>bfnotavail</td><td>793</td></tr><tr><td>correct_conf</td><td>0.35302</td></tr><tr><td>epoch</td><td>99</td></tr><tr><td>incorrect_conf</td><td>0.31588</td></tr><tr><td>num_bets_per</td><td>3.632</td></tr><tr><td>profit</td><td>-1177.14001</td></tr><tr><td>value_pick_roi</td><td>-0.27112</td></tr></table><br/></div></div>"
      ],
      "text/plain": [
       "<IPython.core.display.HTML object>"
      ]
     },
     "metadata": {},
     "output_type": "display_data"
    },
    {
     "data": {
      "text/html": [
       "Synced <strong style=\"color:#cdcd00\">honest-sweep-58</strong>: <a href=\"https://wandb.ai/nickojelly/grv_priced_sweep_custom/runs/zgus413d\" target=\"_blank\">https://wandb.ai/nickojelly/grv_priced_sweep_custom/runs/zgus413d</a><br/>Synced 5 W&B file(s), 0 media file(s), 0 artifact file(s) and 0 other file(s)"
      ],
      "text/plain": [
       "<IPython.core.display.HTML object>"
      ]
     },
     "metadata": {},
     "output_type": "display_data"
    },
    {
     "data": {
      "text/html": [
       "Find logs at: <code>.\\wandb\\run-20220825_105101-zgus413d\\logs</code>"
      ],
      "text/plain": [
       "<IPython.core.display.HTML object>"
      ]
     },
     "metadata": {},
     "output_type": "display_data"
    },
    {
     "name": "stderr",
     "output_type": "stream",
     "text": [
      "\u001b[34m\u001b[1mwandb\u001b[0m: Agent Starting Run: xldee74i with config:\n",
      "\u001b[34m\u001b[1mwandb\u001b[0m: \tbatch_size: 360\n",
      "\u001b[34m\u001b[1mwandb\u001b[0m: \tdropout: 0.3\n",
      "\u001b[34m\u001b[1mwandb\u001b[0m: \tepochs: 100\n",
      "\u001b[34m\u001b[1mwandb\u001b[0m: \tf1_layer_size: 256\n",
      "\u001b[34m\u001b[1mwandb\u001b[0m: \tf2_layer_size: 128\n",
      "\u001b[34m\u001b[1mwandb\u001b[0m: \tl1_beta: 0.4570725241115184\n",
      "\u001b[34m\u001b[1mwandb\u001b[0m: \tlearning_rate: 0.0006313124487046272\n",
      "\u001b[34m\u001b[1mwandb\u001b[0m: \tloss: l1_custom\n",
      "\u001b[34m\u001b[1mwandb\u001b[0m: \tnum_layers: 2\n",
      "\u001b[34m\u001b[1mwandb\u001b[0m: \toptimizer: adam\n",
      "\u001b[34m\u001b[1mwandb\u001b[0m: \tvalidation_split: 0.1\n",
      "Failed to detect the name of this notebook, you can set it manually with the WANDB_NOTEBOOK_NAME environment variable to enable code saving.\n",
      "\u001b[34m\u001b[1mwandb\u001b[0m: \u001b[33mWARNING\u001b[0m Ignored wandb.init() arg project when running a sweep.\n"
     ]
    },
    {
     "data": {
      "text/html": [
       "wandb version 0.13.2 is available!  To upgrade, please run:\n",
       " $ pip install wandb --upgrade"
      ],
      "text/plain": [
       "<IPython.core.display.HTML object>"
      ]
     },
     "metadata": {},
     "output_type": "display_data"
    },
    {
     "data": {
      "text/html": [
       "Tracking run with wandb version 0.12.14"
      ],
      "text/plain": [
       "<IPython.core.display.HTML object>"
      ]
     },
     "metadata": {},
     "output_type": "display_data"
    },
    {
     "data": {
      "text/html": [
       "Run data is saved locally in <code>c:\\Users\\Nick\\Documents\\GitHub\\grvmodel\\Python\\pytorch\\New Model\\wandb\\run-20220825_105729-xldee74i</code>"
      ],
      "text/plain": [
       "<IPython.core.display.HTML object>"
      ]
     },
     "metadata": {},
     "output_type": "display_data"
    },
    {
     "data": {
      "text/html": [
       "Syncing run <strong><a href=\"https://wandb.ai/nickojelly/grv_priced_sweep_custom/runs/xldee74i\" target=\"_blank\">eternal-sweep-59</a></strong> to <a href=\"https://wandb.ai/nickojelly/grv_priced_sweep_custom\" target=\"_blank\">Weights & Biases</a> (<a href=\"https://wandb.me/run\" target=\"_blank\">docs</a>)<br/>Sweep page:  <a href=\"https://wandb.ai/nickojelly/grv_priced_sweep_custom/sweeps/nwqxajsa\" target=\"_blank\">https://wandb.ai/nickojelly/grv_priced_sweep_custom/sweeps/nwqxajsa</a>"
      ],
      "text/plain": [
       "<IPython.core.display.HTML object>"
      ]
     },
     "metadata": {},
     "output_type": "display_data"
    },
    {
     "name": "stderr",
     "output_type": "stream",
     "text": [
      "  0%|          | 0/100 [00:00<?, ?it/s]"
     ]
    },
    {
     "name": "stdout",
     "output_type": "stream",
     "text": [
      "{'batch_size': 360, 'dropout': 0.3, 'epochs': 100, 'f1_layer_size': 256, 'f2_layer_size': 128, 'l1_beta': 0.4570725241115184, 'learning_rate': 0.0006313124487046272, 'loss': 'l1_custom', 'num_layers': 2, 'optimizer': 'adam', 'validation_split': 0.1}\n",
      "100\n",
      "{'batch_size': 360, 'dropout': 0.3, 'epochs': 100, 'f1_layer_size': 256, 'f2_layer_size': 128, 'l1_beta': 0.4570725241115184, 'learning_rate': 0.0006313124487046272, 'loss': 'l1_custom', 'num_layers': 2, 'optimizer': 'adam', 'validation_split': 0.1}\n",
      "Sequential(\n",
      "  (0): Linear(in_features=120, out_features=256, bias=True)\n",
      "  (1): ReLU()\n",
      "  (2): Dropout(p=0.3, inplace=False)\n",
      "  (3): Linear(in_features=256, out_features=128, bias=True)\n",
      "  (4): ReLU()\n",
      "  (5): Dropout(p=0.3, inplace=False)\n",
      "  (6): Linear(in_features=128, out_features=8, bias=True)\n",
      "  (7): Softmax(dim=1)\n",
      ")\n"
     ]
    },
    {
     "name": "stderr",
     "output_type": "stream",
     "text": [
      "  1%|          | 1/100 [00:12<20:43, 12.56s/it]"
     ]
    },
    {
     "name": "stdout",
     "output_type": "stream",
     "text": [
      "created path\n"
     ]
    },
    {
     "name": "stderr",
     "output_type": "stream",
     "text": [
      "100%|██████████| 100/100 [04:48<00:00,  2.88s/it]\n"
     ]
    },
    {
     "name": "stdout",
     "output_type": "stream",
     "text": [
      "\n"
     ]
    },
    {
     "data": {
      "text/html": [
       "Waiting for W&B process to finish... <strong style=\"color:green\">(success).</strong>"
      ],
      "text/plain": [
       "<IPython.core.display.HTML object>"
      ]
     },
     "metadata": {},
     "output_type": "display_data"
    },
    {
     "data": {
      "application/vnd.jupyter.widget-view+json": {
       "model_id": "dd1e0ed06a2f486aa154a731bbd23c93",
       "version_major": 2,
       "version_minor": 0
      },
      "text/plain": [
       "VBox(children=(Label(value='0.001 MB of 0.001 MB uploaded (0.000 MB deduped)\\r'), FloatProgress(value=1.0, max…"
      ]
     },
     "metadata": {},
     "output_type": "display_data"
    },
    {
     "data": {
      "text/html": [
       "<style>\n",
       "    table.wandb td:nth-child(1) { padding: 0 10px; text-align: right }\n",
       "    .wandb-row { display: flex; flex-direction: row; flex-wrap: wrap; width: 100% }\n",
       "    .wandb-col { display: flex; flex-direction: column; flex-basis: 100%; flex: 1; padding: 10px; }\n",
       "    </style>\n",
       "<div class=\"wandb-row\"><div class=\"wandb-col\"><h3>Run history:</h3><br/><table class=\"wandb\"><tr><td>bfnotavail</td><td>▁█████████</td></tr><tr><td>bfprofit</td><td>▁█████████</td></tr><tr><td>correct_conf</td><td>▁█████████</td></tr><tr><td>epoch</td><td>▁▁▁▁▂▂▂▂▂▃▃▃▃▃▃▄▄▄▄▄▅▅▅▅▅▅▆▆▆▆▆▇▇▇▇▇▇███</td></tr><tr><td>incorrect_conf</td><td>▁█████████</td></tr><tr><td>loss</td><td>▃▁▅▃▅▅▄▄▃▅▅▃▅▅▅▅▅▆▆▇█▄▅▆▅▆▇▄▅▅▆▅▆▇▆▆▄▄▄▆</td></tr><tr><td>num_bets_per</td><td>▁▁█▅▁▅▁▅▁▁</td></tr><tr><td>profit</td><td>█▁▁▁▁▁▁▁▁▁</td></tr><tr><td>test_accuracy</td><td>█▁▁▁▁▁▁▁▁▁</td></tr><tr><td>value_pick_roi</td><td>█▃▁▃▃▁▃▃▃▃</td></tr></table><br/></div><div class=\"wandb-col\"><h3>Run summary:</h3><br/><table class=\"wandb\"><tr><td>bfnotavail</td><td>558</td></tr><tr><td>correct_conf</td><td>0.15377</td></tr><tr><td>epoch</td><td>99</td></tr><tr><td>incorrect_conf</td><td>0.15376</td></tr><tr><td>num_bets_per</td><td>4.0369</td></tr><tr><td>profit</td><td>-1290.75999</td></tr><tr><td>value_pick_roi</td><td>-0.28313</td></tr></table><br/></div></div>"
      ],
      "text/plain": [
       "<IPython.core.display.HTML object>"
      ]
     },
     "metadata": {},
     "output_type": "display_data"
    },
    {
     "data": {
      "text/html": [
       "Synced <strong style=\"color:#cdcd00\">eternal-sweep-59</strong>: <a href=\"https://wandb.ai/nickojelly/grv_priced_sweep_custom/runs/xldee74i\" target=\"_blank\">https://wandb.ai/nickojelly/grv_priced_sweep_custom/runs/xldee74i</a><br/>Synced 5 W&B file(s), 0 media file(s), 0 artifact file(s) and 0 other file(s)"
      ],
      "text/plain": [
       "<IPython.core.display.HTML object>"
      ]
     },
     "metadata": {},
     "output_type": "display_data"
    },
    {
     "data": {
      "text/html": [
       "Find logs at: <code>.\\wandb\\run-20220825_105729-xldee74i\\logs</code>"
      ],
      "text/plain": [
       "<IPython.core.display.HTML object>"
      ]
     },
     "metadata": {},
     "output_type": "display_data"
    },
    {
     "name": "stderr",
     "output_type": "stream",
     "text": [
      "\u001b[34m\u001b[1mwandb\u001b[0m: Agent Starting Run: mj3pm68d with config:\n",
      "\u001b[34m\u001b[1mwandb\u001b[0m: \tbatch_size: 360\n",
      "\u001b[34m\u001b[1mwandb\u001b[0m: \tdropout: 0.5\n",
      "\u001b[34m\u001b[1mwandb\u001b[0m: \tepochs: 100\n",
      "\u001b[34m\u001b[1mwandb\u001b[0m: \tf1_layer_size: 64\n",
      "\u001b[34m\u001b[1mwandb\u001b[0m: \tf2_layer_size: 64\n",
      "\u001b[34m\u001b[1mwandb\u001b[0m: \tl1_beta: 0.3848462277110112\n",
      "\u001b[34m\u001b[1mwandb\u001b[0m: \tlearning_rate: 0.00044877714321318944\n",
      "\u001b[34m\u001b[1mwandb\u001b[0m: \tloss: l1_custom\n",
      "\u001b[34m\u001b[1mwandb\u001b[0m: \tnum_layers: 2\n",
      "\u001b[34m\u001b[1mwandb\u001b[0m: \toptimizer: adam\n",
      "\u001b[34m\u001b[1mwandb\u001b[0m: \tvalidation_split: 0.1\n",
      "Failed to detect the name of this notebook, you can set it manually with the WANDB_NOTEBOOK_NAME environment variable to enable code saving.\n",
      "\u001b[34m\u001b[1mwandb\u001b[0m: \u001b[33mWARNING\u001b[0m Ignored wandb.init() arg project when running a sweep.\n"
     ]
    },
    {
     "data": {
      "text/html": [
       "wandb version 0.13.2 is available!  To upgrade, please run:\n",
       " $ pip install wandb --upgrade"
      ],
      "text/plain": [
       "<IPython.core.display.HTML object>"
      ]
     },
     "metadata": {},
     "output_type": "display_data"
    },
    {
     "data": {
      "text/html": [
       "Tracking run with wandb version 0.12.14"
      ],
      "text/plain": [
       "<IPython.core.display.HTML object>"
      ]
     },
     "metadata": {},
     "output_type": "display_data"
    },
    {
     "data": {
      "text/html": [
       "Run data is saved locally in <code>c:\\Users\\Nick\\Documents\\GitHub\\grvmodel\\Python\\pytorch\\New Model\\wandb\\run-20220825_110229-mj3pm68d</code>"
      ],
      "text/plain": [
       "<IPython.core.display.HTML object>"
      ]
     },
     "metadata": {},
     "output_type": "display_data"
    },
    {
     "data": {
      "text/html": [
       "Syncing run <strong><a href=\"https://wandb.ai/nickojelly/grv_priced_sweep_custom/runs/mj3pm68d\" target=\"_blank\">brisk-sweep-60</a></strong> to <a href=\"https://wandb.ai/nickojelly/grv_priced_sweep_custom\" target=\"_blank\">Weights & Biases</a> (<a href=\"https://wandb.me/run\" target=\"_blank\">docs</a>)<br/>Sweep page:  <a href=\"https://wandb.ai/nickojelly/grv_priced_sweep_custom/sweeps/nwqxajsa\" target=\"_blank\">https://wandb.ai/nickojelly/grv_priced_sweep_custom/sweeps/nwqxajsa</a>"
      ],
      "text/plain": [
       "<IPython.core.display.HTML object>"
      ]
     },
     "metadata": {},
     "output_type": "display_data"
    },
    {
     "name": "stderr",
     "output_type": "stream",
     "text": [
      "  0%|          | 0/100 [00:00<?, ?it/s]"
     ]
    },
    {
     "name": "stdout",
     "output_type": "stream",
     "text": [
      "{'batch_size': 360, 'dropout': 0.5, 'epochs': 100, 'f1_layer_size': 64, 'f2_layer_size': 64, 'l1_beta': 0.3848462277110112, 'learning_rate': 0.00044877714321318944, 'loss': 'l1_custom', 'num_layers': 2, 'optimizer': 'adam', 'validation_split': 0.1}\n",
      "100\n",
      "{'batch_size': 360, 'dropout': 0.5, 'epochs': 100, 'f1_layer_size': 64, 'f2_layer_size': 64, 'l1_beta': 0.3848462277110112, 'learning_rate': 0.00044877714321318944, 'loss': 'l1_custom', 'num_layers': 2, 'optimizer': 'adam', 'validation_split': 0.1}\n",
      "Sequential(\n",
      "  (0): Linear(in_features=120, out_features=64, bias=True)\n",
      "  (1): ReLU()\n",
      "  (2): Dropout(p=0.5, inplace=False)\n",
      "  (3): Linear(in_features=64, out_features=64, bias=True)\n",
      "  (4): ReLU()\n",
      "  (5): Dropout(p=0.5, inplace=False)\n",
      "  (6): Linear(in_features=64, out_features=8, bias=True)\n",
      "  (7): Softmax(dim=1)\n",
      ")\n"
     ]
    },
    {
     "name": "stderr",
     "output_type": "stream",
     "text": [
      "  1%|          | 1/100 [00:12<20:45, 12.58s/it]"
     ]
    },
    {
     "name": "stdout",
     "output_type": "stream",
     "text": [
      "created path\n"
     ]
    },
    {
     "name": "stderr",
     "output_type": "stream",
     "text": [
      "100%|██████████| 100/100 [04:32<00:00,  2.73s/it]\n"
     ]
    },
    {
     "name": "stdout",
     "output_type": "stream",
     "text": [
      "\n"
     ]
    },
    {
     "data": {
      "text/html": [
       "Waiting for W&B process to finish... <strong style=\"color:green\">(success).</strong>"
      ],
      "text/plain": [
       "<IPython.core.display.HTML object>"
      ]
     },
     "metadata": {},
     "output_type": "display_data"
    },
    {
     "data": {
      "application/vnd.jupyter.widget-view+json": {
       "model_id": "48752cc02d074ac19ad1e552d229b480",
       "version_major": 2,
       "version_minor": 0
      },
      "text/plain": [
       "VBox(children=(Label(value='0.001 MB of 0.001 MB uploaded (0.000 MB deduped)\\r'), FloatProgress(value=1.0, max…"
      ]
     },
     "metadata": {},
     "output_type": "display_data"
    },
    {
     "data": {
      "text/html": [
       "<style>\n",
       "    table.wandb td:nth-child(1) { padding: 0 10px; text-align: right }\n",
       "    .wandb-row { display: flex; flex-direction: row; flex-wrap: wrap; width: 100% }\n",
       "    .wandb-col { display: flex; flex-direction: column; flex-basis: 100%; flex: 1; padding: 10px; }\n",
       "    </style>\n",
       "<div class=\"wandb-row\"><div class=\"wandb-col\"><h3>Run history:</h3><br/><table class=\"wandb\"><tr><td>bfnotavail</td><td>▁▃▆▇▆█▆▇▆▇</td></tr><tr><td>bfprofit</td><td>▁▄▆███▇▄▅▅</td></tr><tr><td>correct_conf</td><td>▁▆▇▇▇▇█▇██</td></tr><tr><td>epoch</td><td>▁▁▁▁▂▂▂▂▂▃▃▃▃▃▃▄▄▄▄▄▅▅▅▅▅▅▆▆▆▆▆▇▇▇▇▇▇███</td></tr><tr><td>incorrect_conf</td><td>▁▆▇▇▇▆█▇█▇</td></tr><tr><td>loss</td><td>█▅▃▃▂▂▂▂▂▃▂▂▂▁▃▃▄▄▃▄▄▃▃▄▁▂▃▃▃▂▃▂▂▃▂▃▁▂▃▁</td></tr><tr><td>num_bets_per</td><td>██▆▅▄▆▂▄▁▃</td></tr><tr><td>profit</td><td>▁▅▇█▇██▆▅▆</td></tr><tr><td>test_accuracy</td><td>▁▅▇▇▇█▇▇▇▇</td></tr><tr><td>value_pick_roi</td><td>▁▄▄█▆█▆▆▃▇</td></tr></table><br/></div><div class=\"wandb-col\"><h3>Run summary:</h3><br/><table class=\"wandb\"><tr><td>bfnotavail</td><td>787</td></tr><tr><td>correct_conf</td><td>0.28256</td></tr><tr><td>epoch</td><td>99</td></tr><tr><td>incorrect_conf</td><td>0.26025</td></tr><tr><td>num_bets_per</td><td>3.91379</td></tr><tr><td>profit</td><td>-1095.28001</td></tr><tr><td>value_pick_roi</td><td>-0.269</td></tr></table><br/></div></div>"
      ],
      "text/plain": [
       "<IPython.core.display.HTML object>"
      ]
     },
     "metadata": {},
     "output_type": "display_data"
    },
    {
     "data": {
      "text/html": [
       "Synced <strong style=\"color:#cdcd00\">brisk-sweep-60</strong>: <a href=\"https://wandb.ai/nickojelly/grv_priced_sweep_custom/runs/mj3pm68d\" target=\"_blank\">https://wandb.ai/nickojelly/grv_priced_sweep_custom/runs/mj3pm68d</a><br/>Synced 5 W&B file(s), 0 media file(s), 0 artifact file(s) and 0 other file(s)"
      ],
      "text/plain": [
       "<IPython.core.display.HTML object>"
      ]
     },
     "metadata": {},
     "output_type": "display_data"
    },
    {
     "data": {
      "text/html": [
       "Find logs at: <code>.\\wandb\\run-20220825_110229-mj3pm68d\\logs</code>"
      ],
      "text/plain": [
       "<IPython.core.display.HTML object>"
      ]
     },
     "metadata": {},
     "output_type": "display_data"
    },
    {
     "name": "stderr",
     "output_type": "stream",
     "text": [
      "\u001b[34m\u001b[1mwandb\u001b[0m: Agent Starting Run: x6e4odb8 with config:\n",
      "\u001b[34m\u001b[1mwandb\u001b[0m: \tbatch_size: 360\n",
      "\u001b[34m\u001b[1mwandb\u001b[0m: \tdropout: 0.5\n",
      "\u001b[34m\u001b[1mwandb\u001b[0m: \tepochs: 100\n",
      "\u001b[34m\u001b[1mwandb\u001b[0m: \tf1_layer_size: 256\n",
      "\u001b[34m\u001b[1mwandb\u001b[0m: \tf2_layer_size: 128\n",
      "\u001b[34m\u001b[1mwandb\u001b[0m: \tl1_beta: 0.26695067112430115\n",
      "\u001b[34m\u001b[1mwandb\u001b[0m: \tlearning_rate: 0.00038990225725374063\n",
      "\u001b[34m\u001b[1mwandb\u001b[0m: \tloss: l1_custom\n",
      "\u001b[34m\u001b[1mwandb\u001b[0m: \tnum_layers: 2\n",
      "\u001b[34m\u001b[1mwandb\u001b[0m: \toptimizer: adam\n",
      "\u001b[34m\u001b[1mwandb\u001b[0m: \tvalidation_split: 0.1\n",
      "Failed to detect the name of this notebook, you can set it manually with the WANDB_NOTEBOOK_NAME environment variable to enable code saving.\n",
      "\u001b[34m\u001b[1mwandb\u001b[0m: \u001b[33mWARNING\u001b[0m Ignored wandb.init() arg project when running a sweep.\n"
     ]
    },
    {
     "data": {
      "text/html": [
       "wandb version 0.13.2 is available!  To upgrade, please run:\n",
       " $ pip install wandb --upgrade"
      ],
      "text/plain": [
       "<IPython.core.display.HTML object>"
      ]
     },
     "metadata": {},
     "output_type": "display_data"
    },
    {
     "data": {
      "text/html": [
       "Tracking run with wandb version 0.12.14"
      ],
      "text/plain": [
       "<IPython.core.display.HTML object>"
      ]
     },
     "metadata": {},
     "output_type": "display_data"
    },
    {
     "data": {
      "text/html": [
       "Run data is saved locally in <code>c:\\Users\\Nick\\Documents\\GitHub\\grvmodel\\Python\\pytorch\\New Model\\wandb\\run-20220825_110718-x6e4odb8</code>"
      ],
      "text/plain": [
       "<IPython.core.display.HTML object>"
      ]
     },
     "metadata": {},
     "output_type": "display_data"
    },
    {
     "data": {
      "text/html": [
       "Syncing run <strong><a href=\"https://wandb.ai/nickojelly/grv_priced_sweep_custom/runs/x6e4odb8\" target=\"_blank\">peachy-sweep-61</a></strong> to <a href=\"https://wandb.ai/nickojelly/grv_priced_sweep_custom\" target=\"_blank\">Weights & Biases</a> (<a href=\"https://wandb.me/run\" target=\"_blank\">docs</a>)<br/>Sweep page:  <a href=\"https://wandb.ai/nickojelly/grv_priced_sweep_custom/sweeps/nwqxajsa\" target=\"_blank\">https://wandb.ai/nickojelly/grv_priced_sweep_custom/sweeps/nwqxajsa</a>"
      ],
      "text/plain": [
       "<IPython.core.display.HTML object>"
      ]
     },
     "metadata": {},
     "output_type": "display_data"
    },
    {
     "name": "stderr",
     "output_type": "stream",
     "text": [
      "  0%|          | 0/100 [00:00<?, ?it/s]"
     ]
    },
    {
     "name": "stdout",
     "output_type": "stream",
     "text": [
      "{'batch_size': 360, 'dropout': 0.5, 'epochs': 100, 'f1_layer_size': 256, 'f2_layer_size': 128, 'l1_beta': 0.26695067112430115, 'learning_rate': 0.00038990225725374063, 'loss': 'l1_custom', 'num_layers': 2, 'optimizer': 'adam', 'validation_split': 0.1}\n",
      "100\n",
      "{'batch_size': 360, 'dropout': 0.5, 'epochs': 100, 'f1_layer_size': 256, 'f2_layer_size': 128, 'l1_beta': 0.26695067112430115, 'learning_rate': 0.00038990225725374063, 'loss': 'l1_custom', 'num_layers': 2, 'optimizer': 'adam', 'validation_split': 0.1}\n",
      "Sequential(\n",
      "  (0): Linear(in_features=120, out_features=256, bias=True)\n",
      "  (1): ReLU()\n",
      "  (2): Dropout(p=0.5, inplace=False)\n",
      "  (3): Linear(in_features=256, out_features=128, bias=True)\n",
      "  (4): ReLU()\n",
      "  (5): Dropout(p=0.5, inplace=False)\n",
      "  (6): Linear(in_features=128, out_features=8, bias=True)\n",
      "  (7): Softmax(dim=1)\n",
      ")\n"
     ]
    },
    {
     "name": "stderr",
     "output_type": "stream",
     "text": [
      "  1%|          | 1/100 [00:12<21:03, 12.76s/it]"
     ]
    },
    {
     "name": "stdout",
     "output_type": "stream",
     "text": [
      "created path\n"
     ]
    },
    {
     "name": "stderr",
     "output_type": "stream",
     "text": [
      "100%|██████████| 100/100 [04:48<00:00,  2.88s/it]\n"
     ]
    },
    {
     "name": "stdout",
     "output_type": "stream",
     "text": [
      "\n"
     ]
    },
    {
     "data": {
      "text/html": [
       "Waiting for W&B process to finish... <strong style=\"color:green\">(success).</strong>"
      ],
      "text/plain": [
       "<IPython.core.display.HTML object>"
      ]
     },
     "metadata": {},
     "output_type": "display_data"
    },
    {
     "data": {
      "application/vnd.jupyter.widget-view+json": {
       "model_id": "24d2898d7056469191237ff0a68504b8",
       "version_major": 2,
       "version_minor": 0
      },
      "text/plain": [
       "VBox(children=(Label(value='0.001 MB of 0.001 MB uploaded (0.000 MB deduped)\\r'), FloatProgress(value=1.0, max…"
      ]
     },
     "metadata": {},
     "output_type": "display_data"
    },
    {
     "data": {
      "text/html": [
       "<style>\n",
       "    table.wandb td:nth-child(1) { padding: 0 10px; text-align: right }\n",
       "    .wandb-row { display: flex; flex-direction: row; flex-wrap: wrap; width: 100% }\n",
       "    .wandb-col { display: flex; flex-direction: column; flex-basis: 100%; flex: 1; padding: 10px; }\n",
       "    </style>\n",
       "<div class=\"wandb-row\"><div class=\"wandb-col\"><h3>Run history:</h3><br/><table class=\"wandb\"><tr><td>bfnotavail</td><td>█████▁▁███</td></tr><tr><td>bfprofit</td><td>█████▁▁███</td></tr><tr><td>correct_conf</td><td>▁█▆▇▇▇▇▇▇▇</td></tr><tr><td>epoch</td><td>▁▁▁▁▂▂▂▂▂▃▃▃▃▃▃▄▄▄▄▄▅▅▅▅▅▅▆▆▆▆▆▇▇▇▇▇▇███</td></tr><tr><td>incorrect_conf</td><td>▁█▆▇▇▇▇▇▇▇</td></tr><tr><td>loss</td><td>▁▂▄▅▅▆▃▃▃▆▂▆▃▄▂▃▅▂▅▄▆▂█▃▆▃▆▂▄▇▄▆▅▁▆▂▅▂█▄</td></tr><tr><td>num_bets_per</td><td>▇█▅▄▄▄▁▃▂▁</td></tr><tr><td>profit</td><td>█████▁▁███</td></tr><tr><td>test_accuracy</td><td>█████▁▁███</td></tr><tr><td>value_pick_roi</td><td>█▄▅▅▃█▇▁▃▆</td></tr></table><br/></div><div class=\"wandb-col\"><h3>Run summary:</h3><br/><table class=\"wandb\"><tr><td>bfnotavail</td><td>533</td></tr><tr><td>correct_conf</td><td>0.14911</td></tr><tr><td>epoch</td><td>99</td></tr><tr><td>incorrect_conf</td><td>0.14911</td></tr><tr><td>num_bets_per</td><td>4.02077</td></tr><tr><td>profit</td><td>-1286.70001</td></tr><tr><td>value_pick_roi</td><td>-0.28072</td></tr></table><br/></div></div>"
      ],
      "text/plain": [
       "<IPython.core.display.HTML object>"
      ]
     },
     "metadata": {},
     "output_type": "display_data"
    },
    {
     "data": {
      "text/html": [
       "Synced <strong style=\"color:#cdcd00\">peachy-sweep-61</strong>: <a href=\"https://wandb.ai/nickojelly/grv_priced_sweep_custom/runs/x6e4odb8\" target=\"_blank\">https://wandb.ai/nickojelly/grv_priced_sweep_custom/runs/x6e4odb8</a><br/>Synced 5 W&B file(s), 0 media file(s), 0 artifact file(s) and 0 other file(s)"
      ],
      "text/plain": [
       "<IPython.core.display.HTML object>"
      ]
     },
     "metadata": {},
     "output_type": "display_data"
    },
    {
     "data": {
      "text/html": [
       "Find logs at: <code>.\\wandb\\run-20220825_110718-x6e4odb8\\logs</code>"
      ],
      "text/plain": [
       "<IPython.core.display.HTML object>"
      ]
     },
     "metadata": {},
     "output_type": "display_data"
    },
    {
     "name": "stderr",
     "output_type": "stream",
     "text": [
      "\u001b[34m\u001b[1mwandb\u001b[0m: Sweep Agent: Waiting for job.\n",
      "\u001b[34m\u001b[1mwandb\u001b[0m: Job received.\n",
      "\u001b[34m\u001b[1mwandb\u001b[0m: Agent Starting Run: 4qii0db5 with config:\n",
      "\u001b[34m\u001b[1mwandb\u001b[0m: \tbatch_size: 720\n",
      "\u001b[34m\u001b[1mwandb\u001b[0m: \tdropout: 0.5\n",
      "\u001b[34m\u001b[1mwandb\u001b[0m: \tepochs: 100\n",
      "\u001b[34m\u001b[1mwandb\u001b[0m: \tf1_layer_size: 256\n",
      "\u001b[34m\u001b[1mwandb\u001b[0m: \tf2_layer_size: 64\n",
      "\u001b[34m\u001b[1mwandb\u001b[0m: \tl1_beta: 0.019950970729161632\n",
      "\u001b[34m\u001b[1mwandb\u001b[0m: \tlearning_rate: 0.00045257782630378344\n",
      "\u001b[34m\u001b[1mwandb\u001b[0m: \tloss: l1_custom\n",
      "\u001b[34m\u001b[1mwandb\u001b[0m: \tnum_layers: 2\n",
      "\u001b[34m\u001b[1mwandb\u001b[0m: \toptimizer: adam\n",
      "\u001b[34m\u001b[1mwandb\u001b[0m: \tvalidation_split: 0.1\n",
      "Failed to detect the name of this notebook, you can set it manually with the WANDB_NOTEBOOK_NAME environment variable to enable code saving.\n",
      "\u001b[34m\u001b[1mwandb\u001b[0m: \u001b[33mWARNING\u001b[0m Ignored wandb.init() arg project when running a sweep.\n"
     ]
    },
    {
     "data": {
      "text/html": [
       "wandb version 0.13.2 is available!  To upgrade, please run:\n",
       " $ pip install wandb --upgrade"
      ],
      "text/plain": [
       "<IPython.core.display.HTML object>"
      ]
     },
     "metadata": {},
     "output_type": "display_data"
    },
    {
     "data": {
      "text/html": [
       "Tracking run with wandb version 0.12.14"
      ],
      "text/plain": [
       "<IPython.core.display.HTML object>"
      ]
     },
     "metadata": {},
     "output_type": "display_data"
    },
    {
     "data": {
      "text/html": [
       "Run data is saved locally in <code>c:\\Users\\Nick\\Documents\\GitHub\\grvmodel\\Python\\pytorch\\New Model\\wandb\\run-20220825_111225-4qii0db5</code>"
      ],
      "text/plain": [
       "<IPython.core.display.HTML object>"
      ]
     },
     "metadata": {},
     "output_type": "display_data"
    },
    {
     "data": {
      "text/html": [
       "Syncing run <strong><a href=\"https://wandb.ai/nickojelly/grv_priced_sweep_custom/runs/4qii0db5\" target=\"_blank\">eager-sweep-62</a></strong> to <a href=\"https://wandb.ai/nickojelly/grv_priced_sweep_custom\" target=\"_blank\">Weights & Biases</a> (<a href=\"https://wandb.me/run\" target=\"_blank\">docs</a>)<br/>Sweep page:  <a href=\"https://wandb.ai/nickojelly/grv_priced_sweep_custom/sweeps/nwqxajsa\" target=\"_blank\">https://wandb.ai/nickojelly/grv_priced_sweep_custom/sweeps/nwqxajsa</a>"
      ],
      "text/plain": [
       "<IPython.core.display.HTML object>"
      ]
     },
     "metadata": {},
     "output_type": "display_data"
    },
    {
     "name": "stderr",
     "output_type": "stream",
     "text": [
      "  0%|          | 0/100 [00:00<?, ?it/s]"
     ]
    },
    {
     "name": "stdout",
     "output_type": "stream",
     "text": [
      "{'batch_size': 720, 'dropout': 0.5, 'epochs': 100, 'f1_layer_size': 256, 'f2_layer_size': 64, 'l1_beta': 0.019950970729161632, 'learning_rate': 0.00045257782630378344, 'loss': 'l1_custom', 'num_layers': 2, 'optimizer': 'adam', 'validation_split': 0.1}\n",
      "100\n",
      "{'batch_size': 720, 'dropout': 0.5, 'epochs': 100, 'f1_layer_size': 256, 'f2_layer_size': 64, 'l1_beta': 0.019950970729161632, 'learning_rate': 0.00045257782630378344, 'loss': 'l1_custom', 'num_layers': 2, 'optimizer': 'adam', 'validation_split': 0.1}\n",
      "Sequential(\n",
      "  (0): Linear(in_features=120, out_features=256, bias=True)\n",
      "  (1): ReLU()\n",
      "  (2): Dropout(p=0.5, inplace=False)\n",
      "  (3): Linear(in_features=256, out_features=64, bias=True)\n",
      "  (4): ReLU()\n",
      "  (5): Dropout(p=0.5, inplace=False)\n",
      "  (6): Linear(in_features=64, out_features=8, bias=True)\n",
      "  (7): Softmax(dim=1)\n",
      ")\n"
     ]
    },
    {
     "name": "stderr",
     "output_type": "stream",
     "text": [
      "  1%|          | 1/100 [00:12<20:06, 12.19s/it]"
     ]
    },
    {
     "name": "stdout",
     "output_type": "stream",
     "text": [
      "created path\n"
     ]
    },
    {
     "name": "stderr",
     "output_type": "stream",
     "text": [
      "100%|██████████| 100/100 [04:23<00:00,  2.64s/it]\n"
     ]
    },
    {
     "name": "stdout",
     "output_type": "stream",
     "text": [
      "\n"
     ]
    },
    {
     "data": {
      "text/html": [
       "Waiting for W&B process to finish... <strong style=\"color:green\">(success).</strong>"
      ],
      "text/plain": [
       "<IPython.core.display.HTML object>"
      ]
     },
     "metadata": {},
     "output_type": "display_data"
    },
    {
     "data": {
      "application/vnd.jupyter.widget-view+json": {
       "model_id": "2119a1f1b3a942d49f352db2320fbc29",
       "version_major": 2,
       "version_minor": 0
      },
      "text/plain": [
       "VBox(children=(Label(value='0.001 MB of 0.001 MB uploaded (0.000 MB deduped)\\r'), FloatProgress(value=1.0, max…"
      ]
     },
     "metadata": {},
     "output_type": "display_data"
    },
    {
     "data": {
      "text/html": [
       "<style>\n",
       "    table.wandb td:nth-child(1) { padding: 0 10px; text-align: right }\n",
       "    .wandb-row { display: flex; flex-direction: row; flex-wrap: wrap; width: 100% }\n",
       "    .wandb-col { display: flex; flex-direction: column; flex-basis: 100%; flex: 1; padding: 10px; }\n",
       "    </style>\n",
       "<div class=\"wandb-row\"><div class=\"wandb-col\"><h3>Run history:</h3><br/><table class=\"wandb\"><tr><td>bfnotavail</td><td>▅▂▇▁▂▅▆▆▇█</td></tr><tr><td>bfprofit</td><td>▃▅█▄▂▁▁▃▄▇</td></tr><tr><td>correct_conf</td><td>▁▃▂▇▇▇▇███</td></tr><tr><td>epoch</td><td>▁▁▁▂▂▂▂▃▃▃▃▃▄▄▄▄▅▅▅▅▅▆▆▆▆▆▇▇▇▇███</td></tr><tr><td>incorrect_conf</td><td>▁▃▂▇██▇███</td></tr><tr><td>loss</td><td>▅█▇███▇█▃▆▂▂▂▃▂▂▂▁▂▂▂▁▁▂▁▁▁▂▂▂▂▁▂</td></tr><tr><td>num_bets_per</td><td>█▅▆▂▃▂▂▁▁▁</td></tr><tr><td>profit</td><td>▃▂█▄▂▁▁▄▅█</td></tr><tr><td>test_accuracy</td><td>▂▁▄▁▄▆▇▇▇█</td></tr><tr><td>value_pick_roi</td><td>▁█▄▂▂▅▇▆▇█</td></tr></table><br/></div><div class=\"wandb-col\"><h3>Run summary:</h3><br/><table class=\"wandb\"><tr><td>bfnotavail</td><td>642</td></tr><tr><td>correct_conf</td><td>0.51695</td></tr><tr><td>epoch</td><td>98</td></tr><tr><td>incorrect_conf</td><td>0.53903</td></tr><tr><td>num_bets_per</td><td>2.41372</td></tr><tr><td>profit</td><td>-958.22</td></tr><tr><td>value_pick_roi</td><td>-0.23747</td></tr></table><br/></div></div>"
      ],
      "text/plain": [
       "<IPython.core.display.HTML object>"
      ]
     },
     "metadata": {},
     "output_type": "display_data"
    },
    {
     "data": {
      "text/html": [
       "Synced <strong style=\"color:#cdcd00\">eager-sweep-62</strong>: <a href=\"https://wandb.ai/nickojelly/grv_priced_sweep_custom/runs/4qii0db5\" target=\"_blank\">https://wandb.ai/nickojelly/grv_priced_sweep_custom/runs/4qii0db5</a><br/>Synced 5 W&B file(s), 0 media file(s), 0 artifact file(s) and 0 other file(s)"
      ],
      "text/plain": [
       "<IPython.core.display.HTML object>"
      ]
     },
     "metadata": {},
     "output_type": "display_data"
    },
    {
     "data": {
      "text/html": [
       "Find logs at: <code>.\\wandb\\run-20220825_111225-4qii0db5\\logs</code>"
      ],
      "text/plain": [
       "<IPython.core.display.HTML object>"
      ]
     },
     "metadata": {},
     "output_type": "display_data"
    },
    {
     "name": "stderr",
     "output_type": "stream",
     "text": [
      "\u001b[34m\u001b[1mwandb\u001b[0m: Agent Starting Run: zxo6ksf1 with config:\n",
      "\u001b[34m\u001b[1mwandb\u001b[0m: \tbatch_size: 64\n",
      "\u001b[34m\u001b[1mwandb\u001b[0m: \tdropout: 0.5\n",
      "\u001b[34m\u001b[1mwandb\u001b[0m: \tepochs: 100\n",
      "\u001b[34m\u001b[1mwandb\u001b[0m: \tf1_layer_size: 64\n",
      "\u001b[34m\u001b[1mwandb\u001b[0m: \tf2_layer_size: 32\n",
      "\u001b[34m\u001b[1mwandb\u001b[0m: \tl1_beta: 0.20826360539846145\n",
      "\u001b[34m\u001b[1mwandb\u001b[0m: \tlearning_rate: 0.00023843141712930809\n",
      "\u001b[34m\u001b[1mwandb\u001b[0m: \tloss: l1_custom\n",
      "\u001b[34m\u001b[1mwandb\u001b[0m: \tnum_layers: 2\n",
      "\u001b[34m\u001b[1mwandb\u001b[0m: \toptimizer: adam\n",
      "\u001b[34m\u001b[1mwandb\u001b[0m: \tvalidation_split: 0.1\n",
      "Failed to detect the name of this notebook, you can set it manually with the WANDB_NOTEBOOK_NAME environment variable to enable code saving.\n",
      "\u001b[34m\u001b[1mwandb\u001b[0m: \u001b[33mWARNING\u001b[0m Ignored wandb.init() arg project when running a sweep.\n"
     ]
    },
    {
     "data": {
      "text/html": [
       "wandb version 0.13.2 is available!  To upgrade, please run:\n",
       " $ pip install wandb --upgrade"
      ],
      "text/plain": [
       "<IPython.core.display.HTML object>"
      ]
     },
     "metadata": {},
     "output_type": "display_data"
    },
    {
     "data": {
      "text/html": [
       "Tracking run with wandb version 0.12.14"
      ],
      "text/plain": [
       "<IPython.core.display.HTML object>"
      ]
     },
     "metadata": {},
     "output_type": "display_data"
    },
    {
     "data": {
      "text/html": [
       "Run data is saved locally in <code>c:\\Users\\Nick\\Documents\\GitHub\\grvmodel\\Python\\pytorch\\New Model\\wandb\\run-20220825_111704-zxo6ksf1</code>"
      ],
      "text/plain": [
       "<IPython.core.display.HTML object>"
      ]
     },
     "metadata": {},
     "output_type": "display_data"
    },
    {
     "data": {
      "text/html": [
       "Syncing run <strong><a href=\"https://wandb.ai/nickojelly/grv_priced_sweep_custom/runs/zxo6ksf1\" target=\"_blank\">ancient-sweep-63</a></strong> to <a href=\"https://wandb.ai/nickojelly/grv_priced_sweep_custom\" target=\"_blank\">Weights & Biases</a> (<a href=\"https://wandb.me/run\" target=\"_blank\">docs</a>)<br/>Sweep page:  <a href=\"https://wandb.ai/nickojelly/grv_priced_sweep_custom/sweeps/nwqxajsa\" target=\"_blank\">https://wandb.ai/nickojelly/grv_priced_sweep_custom/sweeps/nwqxajsa</a>"
      ],
      "text/plain": [
       "<IPython.core.display.HTML object>"
      ]
     },
     "metadata": {},
     "output_type": "display_data"
    },
    {
     "name": "stderr",
     "output_type": "stream",
     "text": [
      "  0%|          | 0/100 [00:00<?, ?it/s]"
     ]
    },
    {
     "name": "stdout",
     "output_type": "stream",
     "text": [
      "{'batch_size': 64, 'dropout': 0.5, 'epochs': 100, 'f1_layer_size': 64, 'f2_layer_size': 32, 'l1_beta': 0.20826360539846145, 'learning_rate': 0.00023843141712930809, 'loss': 'l1_custom', 'num_layers': 2, 'optimizer': 'adam', 'validation_split': 0.1}\n",
      "100\n",
      "{'batch_size': 64, 'dropout': 0.5, 'epochs': 100, 'f1_layer_size': 64, 'f2_layer_size': 32, 'l1_beta': 0.20826360539846145, 'learning_rate': 0.00023843141712930809, 'loss': 'l1_custom', 'num_layers': 2, 'optimizer': 'adam', 'validation_split': 0.1}\n",
      "Sequential(\n",
      "  (0): Linear(in_features=120, out_features=64, bias=True)\n",
      "  (1): ReLU()\n",
      "  (2): Dropout(p=0.5, inplace=False)\n",
      "  (3): Linear(in_features=64, out_features=32, bias=True)\n",
      "  (4): ReLU()\n",
      "  (5): Dropout(p=0.5, inplace=False)\n",
      "  (6): Linear(in_features=32, out_features=8, bias=True)\n",
      "  (7): Softmax(dim=1)\n",
      ")\n"
     ]
    },
    {
     "name": "stderr",
     "output_type": "stream",
     "text": [
      "  1%|          | 1/100 [00:13<22:44, 13.79s/it]"
     ]
    },
    {
     "name": "stdout",
     "output_type": "stream",
     "text": [
      "created path\n"
     ]
    },
    {
     "name": "stderr",
     "output_type": "stream",
     "text": [
      "100%|██████████| 100/100 [08:04<00:00,  4.84s/it]\n"
     ]
    },
    {
     "name": "stdout",
     "output_type": "stream",
     "text": [
      "\n"
     ]
    },
    {
     "data": {
      "text/html": [
       "Waiting for W&B process to finish... <strong style=\"color:green\">(success).</strong>"
      ],
      "text/plain": [
       "<IPython.core.display.HTML object>"
      ]
     },
     "metadata": {},
     "output_type": "display_data"
    },
    {
     "data": {
      "application/vnd.jupyter.widget-view+json": {
       "model_id": "9e9903098b0b4478896056707784d15e",
       "version_major": 2,
       "version_minor": 0
      },
      "text/plain": [
       "VBox(children=(Label(value='0.001 MB of 0.001 MB uploaded (0.000 MB deduped)\\r'), FloatProgress(value=1.0, max…"
      ]
     },
     "metadata": {},
     "output_type": "display_data"
    },
    {
     "data": {
      "text/html": [
       "<style>\n",
       "    table.wandb td:nth-child(1) { padding: 0 10px; text-align: right }\n",
       "    .wandb-row { display: flex; flex-direction: row; flex-wrap: wrap; width: 100% }\n",
       "    .wandb-col { display: flex; flex-direction: column; flex-basis: 100%; flex: 1; padding: 10px; }\n",
       "    </style>\n",
       "<div class=\"wandb-row\"><div class=\"wandb-col\"><h3>Run history:</h3><br/><table class=\"wandb\"><tr><td>bfnotavail</td><td>▁█████████</td></tr><tr><td>bfprofit</td><td>▁█████████</td></tr><tr><td>correct_conf</td><td>▁█████████</td></tr><tr><td>epoch</td><td>▁▁▁▁▂▂▂▂▂▃▃▃▃▃▃▄▄▄▄▄▅▅▅▅▅▅▆▆▆▆▆▇▇▇▇▇▇███</td></tr><tr><td>incorrect_conf</td><td>▁█████████</td></tr><tr><td>loss</td><td>▃▃▁▄▆▄▅▄▇▄▆▄▃▇▄▇▃▆▇▄▅▃▆▆▅▅▆▅▇▂▅▅▅▆▃█▅▅▆▆</td></tr><tr><td>num_bets_per</td><td>█▃▄▂▁▃▃▄▄▄</td></tr><tr><td>profit</td><td>▁█████████</td></tr><tr><td>test_accuracy</td><td>▁█████████</td></tr><tr><td>value_pick_roi</td><td>▁▄▆▂▂█▇▇▅▇</td></tr></table><br/></div><div class=\"wandb-col\"><h3>Run summary:</h3><br/><table class=\"wandb\"><tr><td>bfnotavail</td><td>558</td></tr><tr><td>correct_conf</td><td>0.15069</td></tr><tr><td>epoch</td><td>99</td></tr><tr><td>incorrect_conf</td><td>0.15069</td></tr><tr><td>num_bets_per</td><td>4.01688</td></tr><tr><td>profit</td><td>-1290.75999</td></tr><tr><td>value_pick_roi</td><td>-0.28447</td></tr></table><br/></div></div>"
      ],
      "text/plain": [
       "<IPython.core.display.HTML object>"
      ]
     },
     "metadata": {},
     "output_type": "display_data"
    },
    {
     "data": {
      "text/html": [
       "Synced <strong style=\"color:#cdcd00\">ancient-sweep-63</strong>: <a href=\"https://wandb.ai/nickojelly/grv_priced_sweep_custom/runs/zxo6ksf1\" target=\"_blank\">https://wandb.ai/nickojelly/grv_priced_sweep_custom/runs/zxo6ksf1</a><br/>Synced 5 W&B file(s), 0 media file(s), 0 artifact file(s) and 0 other file(s)"
      ],
      "text/plain": [
       "<IPython.core.display.HTML object>"
      ]
     },
     "metadata": {},
     "output_type": "display_data"
    },
    {
     "data": {
      "text/html": [
       "Find logs at: <code>.\\wandb\\run-20220825_111704-zxo6ksf1\\logs</code>"
      ],
      "text/plain": [
       "<IPython.core.display.HTML object>"
      ]
     },
     "metadata": {},
     "output_type": "display_data"
    },
    {
     "name": "stderr",
     "output_type": "stream",
     "text": [
      "\u001b[34m\u001b[1mwandb\u001b[0m: Agent Starting Run: jky7ixl0 with config:\n",
      "\u001b[34m\u001b[1mwandb\u001b[0m: \tbatch_size: 32\n",
      "\u001b[34m\u001b[1mwandb\u001b[0m: \tdropout: 0.4\n",
      "\u001b[34m\u001b[1mwandb\u001b[0m: \tepochs: 100\n",
      "\u001b[34m\u001b[1mwandb\u001b[0m: \tf1_layer_size: 256\n",
      "\u001b[34m\u001b[1mwandb\u001b[0m: \tf2_layer_size: 64\n",
      "\u001b[34m\u001b[1mwandb\u001b[0m: \tl1_beta: 0.4251780111161667\n",
      "\u001b[34m\u001b[1mwandb\u001b[0m: \tlearning_rate: 0.000305164856473913\n",
      "\u001b[34m\u001b[1mwandb\u001b[0m: \tloss: l1_custom\n",
      "\u001b[34m\u001b[1mwandb\u001b[0m: \tnum_layers: 2\n",
      "\u001b[34m\u001b[1mwandb\u001b[0m: \toptimizer: adam\n",
      "\u001b[34m\u001b[1mwandb\u001b[0m: \tvalidation_split: 0.1\n",
      "Failed to detect the name of this notebook, you can set it manually with the WANDB_NOTEBOOK_NAME environment variable to enable code saving.\n",
      "\u001b[34m\u001b[1mwandb\u001b[0m: \u001b[33mWARNING\u001b[0m Ignored wandb.init() arg project when running a sweep.\n"
     ]
    },
    {
     "data": {
      "text/html": [
       "wandb version 0.13.2 is available!  To upgrade, please run:\n",
       " $ pip install wandb --upgrade"
      ],
      "text/plain": [
       "<IPython.core.display.HTML object>"
      ]
     },
     "metadata": {},
     "output_type": "display_data"
    },
    {
     "data": {
      "text/html": [
       "Tracking run with wandb version 0.12.14"
      ],
      "text/plain": [
       "<IPython.core.display.HTML object>"
      ]
     },
     "metadata": {},
     "output_type": "display_data"
    },
    {
     "data": {
      "text/html": [
       "Run data is saved locally in <code>c:\\Users\\Nick\\Documents\\GitHub\\grvmodel\\Python\\pytorch\\New Model\\wandb\\run-20220825_112519-jky7ixl0</code>"
      ],
      "text/plain": [
       "<IPython.core.display.HTML object>"
      ]
     },
     "metadata": {},
     "output_type": "display_data"
    },
    {
     "data": {
      "text/html": [
       "Syncing run <strong><a href=\"https://wandb.ai/nickojelly/grv_priced_sweep_custom/runs/jky7ixl0\" target=\"_blank\">pleasant-sweep-64</a></strong> to <a href=\"https://wandb.ai/nickojelly/grv_priced_sweep_custom\" target=\"_blank\">Weights & Biases</a> (<a href=\"https://wandb.me/run\" target=\"_blank\">docs</a>)<br/>Sweep page:  <a href=\"https://wandb.ai/nickojelly/grv_priced_sweep_custom/sweeps/nwqxajsa\" target=\"_blank\">https://wandb.ai/nickojelly/grv_priced_sweep_custom/sweeps/nwqxajsa</a>"
      ],
      "text/plain": [
       "<IPython.core.display.HTML object>"
      ]
     },
     "metadata": {},
     "output_type": "display_data"
    },
    {
     "name": "stderr",
     "output_type": "stream",
     "text": [
      "  0%|          | 0/100 [00:00<?, ?it/s]"
     ]
    },
    {
     "name": "stdout",
     "output_type": "stream",
     "text": [
      "{'batch_size': 32, 'dropout': 0.4, 'epochs': 100, 'f1_layer_size': 256, 'f2_layer_size': 64, 'l1_beta': 0.4251780111161667, 'learning_rate': 0.000305164856473913, 'loss': 'l1_custom', 'num_layers': 2, 'optimizer': 'adam', 'validation_split': 0.1}\n",
      "100\n",
      "{'batch_size': 32, 'dropout': 0.4, 'epochs': 100, 'f1_layer_size': 256, 'f2_layer_size': 64, 'l1_beta': 0.4251780111161667, 'learning_rate': 0.000305164856473913, 'loss': 'l1_custom', 'num_layers': 2, 'optimizer': 'adam', 'validation_split': 0.1}\n",
      "Sequential(\n",
      "  (0): Linear(in_features=120, out_features=256, bias=True)\n",
      "  (1): ReLU()\n",
      "  (2): Dropout(p=0.4, inplace=False)\n",
      "  (3): Linear(in_features=256, out_features=64, bias=True)\n",
      "  (4): ReLU()\n",
      "  (5): Dropout(p=0.4, inplace=False)\n",
      "  (6): Linear(in_features=64, out_features=8, bias=True)\n",
      "  (7): Softmax(dim=1)\n",
      ")\n"
     ]
    },
    {
     "name": "stderr",
     "output_type": "stream",
     "text": [
      "  1%|          | 1/100 [00:17<28:34, 17.32s/it]"
     ]
    },
    {
     "name": "stdout",
     "output_type": "stream",
     "text": [
      "created path\n"
     ]
    },
    {
     "name": "stderr",
     "output_type": "stream",
     "text": [
      "100%|██████████| 100/100 [13:19<00:00,  7.99s/it]\n"
     ]
    },
    {
     "name": "stdout",
     "output_type": "stream",
     "text": [
      "\n"
     ]
    },
    {
     "data": {
      "text/html": [
       "Waiting for W&B process to finish... <strong style=\"color:green\">(success).</strong>"
      ],
      "text/plain": [
       "<IPython.core.display.HTML object>"
      ]
     },
     "metadata": {},
     "output_type": "display_data"
    },
    {
     "data": {
      "application/vnd.jupyter.widget-view+json": {
       "model_id": "f6f05937881c4353acabc4b478ee61bf",
       "version_major": 2,
       "version_minor": 0
      },
      "text/plain": [
       "VBox(children=(Label(value='0.001 MB of 0.001 MB uploaded (0.000 MB deduped)\\r'), FloatProgress(value=1.0, max…"
      ]
     },
     "metadata": {},
     "output_type": "display_data"
    },
    {
     "data": {
      "text/html": [
       "<style>\n",
       "    table.wandb td:nth-child(1) { padding: 0 10px; text-align: right }\n",
       "    .wandb-row { display: flex; flex-direction: row; flex-wrap: wrap; width: 100% }\n",
       "    .wandb-col { display: flex; flex-direction: column; flex-basis: 100%; flex: 1; padding: 10px; }\n",
       "    </style>\n",
       "<div class=\"wandb-row\"><div class=\"wandb-col\"><h3>Run history:</h3><br/><table class=\"wandb\"><tr><td>bfnotavail</td><td>▁█████████</td></tr><tr><td>bfprofit</td><td>▁█████████</td></tr><tr><td>correct_conf</td><td>▁█████████</td></tr><tr><td>epoch</td><td>▁▁▁▁▂▂▂▂▂▃▃▃▃▃▃▄▄▄▄▄▅▅▅▅▅▅▆▆▆▆▆▇▇▇▇▇▇███</td></tr><tr><td>incorrect_conf</td><td>▁█████████</td></tr><tr><td>loss</td><td>▄▇█▄▅▄▃▅▆▆▅▆▅▇▅▅▄▄▅▅▆▃▅▅▅▄▄▄▄▁▂▃▃▃▅▄▃▅▇▆</td></tr><tr><td>num_bets_per</td><td>▁█▅▇▇▇▇▇▆▆</td></tr><tr><td>profit</td><td>▁█████████</td></tr><tr><td>test_accuracy</td><td>▁█████████</td></tr><tr><td>value_pick_roi</td><td>▁▂▅█████▅█</td></tr></table><br/></div><div class=\"wandb-col\"><h3>Run summary:</h3><br/><table class=\"wandb\"><tr><td>bfnotavail</td><td>558</td></tr><tr><td>correct_conf</td><td>0.15513</td></tr><tr><td>epoch</td><td>99</td></tr><tr><td>incorrect_conf</td><td>0.15513</td></tr><tr><td>num_bets_per</td><td>4.04004</td></tr><tr><td>profit</td><td>-1290.75999</td></tr><tr><td>value_pick_roi</td><td>-0.28352</td></tr></table><br/></div></div>"
      ],
      "text/plain": [
       "<IPython.core.display.HTML object>"
      ]
     },
     "metadata": {},
     "output_type": "display_data"
    },
    {
     "data": {
      "text/html": [
       "Synced <strong style=\"color:#cdcd00\">pleasant-sweep-64</strong>: <a href=\"https://wandb.ai/nickojelly/grv_priced_sweep_custom/runs/jky7ixl0\" target=\"_blank\">https://wandb.ai/nickojelly/grv_priced_sweep_custom/runs/jky7ixl0</a><br/>Synced 5 W&B file(s), 0 media file(s), 0 artifact file(s) and 0 other file(s)"
      ],
      "text/plain": [
       "<IPython.core.display.HTML object>"
      ]
     },
     "metadata": {},
     "output_type": "display_data"
    },
    {
     "data": {
      "text/html": [
       "Find logs at: <code>.\\wandb\\run-20220825_112519-jky7ixl0\\logs</code>"
      ],
      "text/plain": [
       "<IPython.core.display.HTML object>"
      ]
     },
     "metadata": {},
     "output_type": "display_data"
    },
    {
     "name": "stderr",
     "output_type": "stream",
     "text": [
      "\u001b[34m\u001b[1mwandb\u001b[0m: Agent Starting Run: c6h1tmch with config:\n",
      "\u001b[34m\u001b[1mwandb\u001b[0m: \tbatch_size: 128\n",
      "\u001b[34m\u001b[1mwandb\u001b[0m: \tdropout: 0.4\n",
      "\u001b[34m\u001b[1mwandb\u001b[0m: \tepochs: 100\n",
      "\u001b[34m\u001b[1mwandb\u001b[0m: \tf1_layer_size: 256\n",
      "\u001b[34m\u001b[1mwandb\u001b[0m: \tf2_layer_size: 32\n",
      "\u001b[34m\u001b[1mwandb\u001b[0m: \tl1_beta: 0.5778976215147573\n",
      "\u001b[34m\u001b[1mwandb\u001b[0m: \tlearning_rate: 0.0005698301495176847\n",
      "\u001b[34m\u001b[1mwandb\u001b[0m: \tloss: l1_custom\n",
      "\u001b[34m\u001b[1mwandb\u001b[0m: \tnum_layers: 2\n",
      "\u001b[34m\u001b[1mwandb\u001b[0m: \toptimizer: adam\n",
      "\u001b[34m\u001b[1mwandb\u001b[0m: \tvalidation_split: 0.1\n",
      "Failed to detect the name of this notebook, you can set it manually with the WANDB_NOTEBOOK_NAME environment variable to enable code saving.\n",
      "\u001b[34m\u001b[1mwandb\u001b[0m: \u001b[33mWARNING\u001b[0m Ignored wandb.init() arg project when running a sweep.\n"
     ]
    },
    {
     "data": {
      "text/html": [
       "wandb version 0.13.2 is available!  To upgrade, please run:\n",
       " $ pip install wandb --upgrade"
      ],
      "text/plain": [
       "<IPython.core.display.HTML object>"
      ]
     },
     "metadata": {},
     "output_type": "display_data"
    },
    {
     "data": {
      "text/html": [
       "Tracking run with wandb version 0.12.14"
      ],
      "text/plain": [
       "<IPython.core.display.HTML object>"
      ]
     },
     "metadata": {},
     "output_type": "display_data"
    },
    {
     "data": {
      "text/html": [
       "Run data is saved locally in <code>c:\\Users\\Nick\\Documents\\GitHub\\grvmodel\\Python\\pytorch\\New Model\\wandb\\run-20220825_113850-c6h1tmch</code>"
      ],
      "text/plain": [
       "<IPython.core.display.HTML object>"
      ]
     },
     "metadata": {},
     "output_type": "display_data"
    },
    {
     "data": {
      "text/html": [
       "Syncing run <strong><a href=\"https://wandb.ai/nickojelly/grv_priced_sweep_custom/runs/c6h1tmch\" target=\"_blank\">swept-sweep-65</a></strong> to <a href=\"https://wandb.ai/nickojelly/grv_priced_sweep_custom\" target=\"_blank\">Weights & Biases</a> (<a href=\"https://wandb.me/run\" target=\"_blank\">docs</a>)<br/>Sweep page:  <a href=\"https://wandb.ai/nickojelly/grv_priced_sweep_custom/sweeps/nwqxajsa\" target=\"_blank\">https://wandb.ai/nickojelly/grv_priced_sweep_custom/sweeps/nwqxajsa</a>"
      ],
      "text/plain": [
       "<IPython.core.display.HTML object>"
      ]
     },
     "metadata": {},
     "output_type": "display_data"
    },
    {
     "name": "stderr",
     "output_type": "stream",
     "text": [
      "  0%|          | 0/100 [00:00<?, ?it/s]"
     ]
    },
    {
     "name": "stdout",
     "output_type": "stream",
     "text": [
      "{'batch_size': 128, 'dropout': 0.4, 'epochs': 100, 'f1_layer_size': 256, 'f2_layer_size': 32, 'l1_beta': 0.5778976215147573, 'learning_rate': 0.0005698301495176847, 'loss': 'l1_custom', 'num_layers': 2, 'optimizer': 'adam', 'validation_split': 0.1}\n",
      "100\n",
      "{'batch_size': 128, 'dropout': 0.4, 'epochs': 100, 'f1_layer_size': 256, 'f2_layer_size': 32, 'l1_beta': 0.5778976215147573, 'learning_rate': 0.0005698301495176847, 'loss': 'l1_custom', 'num_layers': 2, 'optimizer': 'adam', 'validation_split': 0.1}\n",
      "Sequential(\n",
      "  (0): Linear(in_features=120, out_features=256, bias=True)\n",
      "  (1): ReLU()\n",
      "  (2): Dropout(p=0.4, inplace=False)\n",
      "  (3): Linear(in_features=256, out_features=32, bias=True)\n",
      "  (4): ReLU()\n",
      "  (5): Dropout(p=0.4, inplace=False)\n",
      "  (6): Linear(in_features=32, out_features=8, bias=True)\n",
      "  (7): Softmax(dim=1)\n",
      ")\n"
     ]
    },
    {
     "name": "stderr",
     "output_type": "stream",
     "text": [
      "  1%|          | 1/100 [00:15<25:09, 15.25s/it]"
     ]
    },
    {
     "name": "stdout",
     "output_type": "stream",
     "text": [
      "created path\n"
     ]
    },
    {
     "name": "stderr",
     "output_type": "stream",
     "text": [
      "100%|██████████| 100/100 [06:06<00:00,  3.67s/it]\n"
     ]
    },
    {
     "name": "stdout",
     "output_type": "stream",
     "text": [
      "\n"
     ]
    },
    {
     "data": {
      "text/html": [
       "Waiting for W&B process to finish... <strong style=\"color:green\">(success).</strong>"
      ],
      "text/plain": [
       "<IPython.core.display.HTML object>"
      ]
     },
     "metadata": {},
     "output_type": "display_data"
    },
    {
     "data": {
      "application/vnd.jupyter.widget-view+json": {
       "model_id": "7c767857c6e449558c4b662d9c005653",
       "version_major": 2,
       "version_minor": 0
      },
      "text/plain": [
       "VBox(children=(Label(value='0.001 MB of 0.001 MB uploaded (0.000 MB deduped)\\r'), FloatProgress(value=1.0, max…"
      ]
     },
     "metadata": {},
     "output_type": "display_data"
    },
    {
     "data": {
      "text/html": [
       "<style>\n",
       "    table.wandb td:nth-child(1) { padding: 0 10px; text-align: right }\n",
       "    .wandb-row { display: flex; flex-direction: row; flex-wrap: wrap; width: 100% }\n",
       "    .wandb-col { display: flex; flex-direction: column; flex-basis: 100%; flex: 1; padding: 10px; }\n",
       "    </style>\n",
       "<div class=\"wandb-row\"><div class=\"wandb-col\"><h3>Run history:</h3><br/><table class=\"wandb\"><tr><td>bfnotavail</td><td>█▁▁▁▁▁▁▁▁▁</td></tr><tr><td>bfprofit</td><td>█▁▁▁▁▁▁▁▁▁</td></tr><tr><td>correct_conf</td><td>▁▇▇█▇▇█▇▇▇</td></tr><tr><td>epoch</td><td>▁▁▁▁▂▂▂▂▂▃▃▃▃▃▃▄▄▄▄▄▅▅▅▅▅▅▆▆▆▆▆▇▇▇▇▇▇███</td></tr><tr><td>incorrect_conf</td><td>▁▇▇█▇▇█▇▇▇</td></tr><tr><td>loss</td><td>█▄▄▁█▆▅▃▄▃▄▃▃▂▆▃▅▄▄▄▅▄▅▄▃▁▃▅▄▅▄▅▆▄▃▄▄▃▄▅</td></tr><tr><td>num_bets_per</td><td>▁█▄▄▄▇▆█▄▄</td></tr><tr><td>profit</td><td>▁█████████</td></tr><tr><td>test_accuracy</td><td>▁█████████</td></tr><tr><td>value_pick_roi</td><td>█▃▂▃▁▂▃▁▃▁</td></tr></table><br/></div><div class=\"wandb-col\"><h3>Run summary:</h3><br/><table class=\"wandb\"><tr><td>bfnotavail</td><td>533</td></tr><tr><td>correct_conf</td><td>0.15126</td></tr><tr><td>epoch</td><td>99</td></tr><tr><td>incorrect_conf</td><td>0.15126</td></tr><tr><td>num_bets_per</td><td>4.0517</td></tr><tr><td>profit</td><td>-1286.70001</td></tr><tr><td>value_pick_roi</td><td>-0.28427</td></tr></table><br/></div></div>"
      ],
      "text/plain": [
       "<IPython.core.display.HTML object>"
      ]
     },
     "metadata": {},
     "output_type": "display_data"
    },
    {
     "data": {
      "text/html": [
       "Synced <strong style=\"color:#cdcd00\">swept-sweep-65</strong>: <a href=\"https://wandb.ai/nickojelly/grv_priced_sweep_custom/runs/c6h1tmch\" target=\"_blank\">https://wandb.ai/nickojelly/grv_priced_sweep_custom/runs/c6h1tmch</a><br/>Synced 5 W&B file(s), 0 media file(s), 0 artifact file(s) and 0 other file(s)"
      ],
      "text/plain": [
       "<IPython.core.display.HTML object>"
      ]
     },
     "metadata": {},
     "output_type": "display_data"
    },
    {
     "data": {
      "text/html": [
       "Find logs at: <code>.\\wandb\\run-20220825_113850-c6h1tmch\\logs</code>"
      ],
      "text/plain": [
       "<IPython.core.display.HTML object>"
      ]
     },
     "metadata": {},
     "output_type": "display_data"
    },
    {
     "name": "stderr",
     "output_type": "stream",
     "text": [
      "\u001b[34m\u001b[1mwandb\u001b[0m: Agent Starting Run: z4nhdhwu with config:\n",
      "\u001b[34m\u001b[1mwandb\u001b[0m: \tbatch_size: 64\n",
      "\u001b[34m\u001b[1mwandb\u001b[0m: \tdropout: 0.5\n",
      "\u001b[34m\u001b[1mwandb\u001b[0m: \tepochs: 100\n",
      "\u001b[34m\u001b[1mwandb\u001b[0m: \tf1_layer_size: 64\n",
      "\u001b[34m\u001b[1mwandb\u001b[0m: \tf2_layer_size: 128\n",
      "\u001b[34m\u001b[1mwandb\u001b[0m: \tl1_beta: 0.3479809240462163\n",
      "\u001b[34m\u001b[1mwandb\u001b[0m: \tlearning_rate: 0.0002189063617546415\n",
      "\u001b[34m\u001b[1mwandb\u001b[0m: \tloss: l1_custom\n",
      "\u001b[34m\u001b[1mwandb\u001b[0m: \tnum_layers: 2\n",
      "\u001b[34m\u001b[1mwandb\u001b[0m: \toptimizer: adam\n",
      "\u001b[34m\u001b[1mwandb\u001b[0m: \tvalidation_split: 0.1\n",
      "Failed to detect the name of this notebook, you can set it manually with the WANDB_NOTEBOOK_NAME environment variable to enable code saving.\n",
      "\u001b[34m\u001b[1mwandb\u001b[0m: \u001b[33mWARNING\u001b[0m Ignored wandb.init() arg project when running a sweep.\n"
     ]
    },
    {
     "data": {
      "text/html": [
       "wandb version 0.13.2 is available!  To upgrade, please run:\n",
       " $ pip install wandb --upgrade"
      ],
      "text/plain": [
       "<IPython.core.display.HTML object>"
      ]
     },
     "metadata": {},
     "output_type": "display_data"
    },
    {
     "data": {
      "text/html": [
       "Tracking run with wandb version 0.12.14"
      ],
      "text/plain": [
       "<IPython.core.display.HTML object>"
      ]
     },
     "metadata": {},
     "output_type": "display_data"
    },
    {
     "data": {
      "text/html": [
       "Run data is saved locally in <code>c:\\Users\\Nick\\Documents\\GitHub\\grvmodel\\Python\\pytorch\\New Model\\wandb\\run-20220825_114509-z4nhdhwu</code>"
      ],
      "text/plain": [
       "<IPython.core.display.HTML object>"
      ]
     },
     "metadata": {},
     "output_type": "display_data"
    },
    {
     "data": {
      "text/html": [
       "Syncing run <strong><a href=\"https://wandb.ai/nickojelly/grv_priced_sweep_custom/runs/z4nhdhwu\" target=\"_blank\">woven-sweep-66</a></strong> to <a href=\"https://wandb.ai/nickojelly/grv_priced_sweep_custom\" target=\"_blank\">Weights & Biases</a> (<a href=\"https://wandb.me/run\" target=\"_blank\">docs</a>)<br/>Sweep page:  <a href=\"https://wandb.ai/nickojelly/grv_priced_sweep_custom/sweeps/nwqxajsa\" target=\"_blank\">https://wandb.ai/nickojelly/grv_priced_sweep_custom/sweeps/nwqxajsa</a>"
      ],
      "text/plain": [
       "<IPython.core.display.HTML object>"
      ]
     },
     "metadata": {},
     "output_type": "display_data"
    },
    {
     "name": "stderr",
     "output_type": "stream",
     "text": [
      "  0%|          | 0/100 [00:00<?, ?it/s]"
     ]
    },
    {
     "name": "stdout",
     "output_type": "stream",
     "text": [
      "{'batch_size': 64, 'dropout': 0.5, 'epochs': 100, 'f1_layer_size': 64, 'f2_layer_size': 128, 'l1_beta': 0.3479809240462163, 'learning_rate': 0.0002189063617546415, 'loss': 'l1_custom', 'num_layers': 2, 'optimizer': 'adam', 'validation_split': 0.1}\n",
      "100\n",
      "{'batch_size': 64, 'dropout': 0.5, 'epochs': 100, 'f1_layer_size': 64, 'f2_layer_size': 128, 'l1_beta': 0.3479809240462163, 'learning_rate': 0.0002189063617546415, 'loss': 'l1_custom', 'num_layers': 2, 'optimizer': 'adam', 'validation_split': 0.1}\n",
      "Sequential(\n",
      "  (0): Linear(in_features=120, out_features=64, bias=True)\n",
      "  (1): ReLU()\n",
      "  (2): Dropout(p=0.5, inplace=False)\n",
      "  (3): Linear(in_features=64, out_features=128, bias=True)\n",
      "  (4): ReLU()\n",
      "  (5): Dropout(p=0.5, inplace=False)\n",
      "  (6): Linear(in_features=128, out_features=8, bias=True)\n",
      "  (7): Softmax(dim=1)\n",
      ")\n"
     ]
    },
    {
     "name": "stderr",
     "output_type": "stream",
     "text": [
      "  1%|          | 1/100 [00:13<22:39, 13.73s/it]"
     ]
    },
    {
     "name": "stdout",
     "output_type": "stream",
     "text": [
      "created path\n"
     ]
    },
    {
     "name": "stderr",
     "output_type": "stream",
     "text": [
      "100%|██████████| 100/100 [07:57<00:00,  4.78s/it]\n"
     ]
    },
    {
     "name": "stdout",
     "output_type": "stream",
     "text": [
      "\n"
     ]
    },
    {
     "data": {
      "text/html": [
       "Waiting for W&B process to finish... <strong style=\"color:green\">(success).</strong>"
      ],
      "text/plain": [
       "<IPython.core.display.HTML object>"
      ]
     },
     "metadata": {},
     "output_type": "display_data"
    },
    {
     "data": {
      "application/vnd.jupyter.widget-view+json": {
       "model_id": "8ec2a77146664828a21ac787b511a637",
       "version_major": 2,
       "version_minor": 0
      },
      "text/plain": [
       "VBox(children=(Label(value='0.001 MB of 0.001 MB uploaded (0.000 MB deduped)\\r'), FloatProgress(value=1.0, max…"
      ]
     },
     "metadata": {},
     "output_type": "display_data"
    },
    {
     "data": {
      "text/html": [
       "<style>\n",
       "    table.wandb td:nth-child(1) { padding: 0 10px; text-align: right }\n",
       "    .wandb-row { display: flex; flex-direction: row; flex-wrap: wrap; width: 100% }\n",
       "    .wandb-col { display: flex; flex-direction: column; flex-basis: 100%; flex: 1; padding: 10px; }\n",
       "    </style>\n",
       "<div class=\"wandb-row\"><div class=\"wandb-col\"><h3>Run history:</h3><br/><table class=\"wandb\"><tr><td>bfnotavail</td><td>▁▅▅█▇▆▆▇▆▆</td></tr><tr><td>bfprofit</td><td>▁▅▄▇▇▅█▅▂▆</td></tr><tr><td>correct_conf</td><td>▁▆▇▇▇▇▇███</td></tr><tr><td>epoch</td><td>▁▁▁▁▂▂▂▂▂▃▃▃▃▃▃▄▄▄▄▄▅▅▅▅▅▅▆▆▆▆▆▇▇▇▇▇▇███</td></tr><tr><td>incorrect_conf</td><td>▁▆▇▇▇▇█▇▇█</td></tr><tr><td>loss</td><td>▅▅▂▆▄▃▅▅▂▄▅▄▁▂▆▂▂▅▆▃▆▄▅▂▄▄▄▁▃▄█▅▆▅▇▃▃▆▅▇</td></tr><tr><td>num_bets_per</td><td>█▅▄▄▃▃▂▂▂▁</td></tr><tr><td>profit</td><td>▁▆▅█▇▆█▆▄▆</td></tr><tr><td>test_accuracy</td><td>▁▆▇██▇▇█▇▇</td></tr><tr><td>value_pick_roi</td><td>▁█▅█▆▅▄█▅▃</td></tr></table><br/></div><div class=\"wandb-col\"><h3>Run summary:</h3><br/><table class=\"wandb\"><tr><td>bfnotavail</td><td>673</td></tr><tr><td>correct_conf</td><td>0.30545</td></tr><tr><td>epoch</td><td>99</td></tr><tr><td>incorrect_conf</td><td>0.28811</td></tr><tr><td>num_bets_per</td><td>3.80696</td></tr><tr><td>profit</td><td>-1090.48</td></tr><tr><td>value_pick_roi</td><td>-0.27409</td></tr></table><br/></div></div>"
      ],
      "text/plain": [
       "<IPython.core.display.HTML object>"
      ]
     },
     "metadata": {},
     "output_type": "display_data"
    },
    {
     "data": {
      "text/html": [
       "Synced <strong style=\"color:#cdcd00\">woven-sweep-66</strong>: <a href=\"https://wandb.ai/nickojelly/grv_priced_sweep_custom/runs/z4nhdhwu\" target=\"_blank\">https://wandb.ai/nickojelly/grv_priced_sweep_custom/runs/z4nhdhwu</a><br/>Synced 5 W&B file(s), 0 media file(s), 0 artifact file(s) and 0 other file(s)"
      ],
      "text/plain": [
       "<IPython.core.display.HTML object>"
      ]
     },
     "metadata": {},
     "output_type": "display_data"
    },
    {
     "data": {
      "text/html": [
       "Find logs at: <code>.\\wandb\\run-20220825_114509-z4nhdhwu\\logs</code>"
      ],
      "text/plain": [
       "<IPython.core.display.HTML object>"
      ]
     },
     "metadata": {},
     "output_type": "display_data"
    },
    {
     "name": "stderr",
     "output_type": "stream",
     "text": [
      "\u001b[34m\u001b[1mwandb\u001b[0m: Agent Starting Run: 372lh151 with config:\n",
      "\u001b[34m\u001b[1mwandb\u001b[0m: \tbatch_size: 32\n",
      "\u001b[34m\u001b[1mwandb\u001b[0m: \tdropout: 0.4\n",
      "\u001b[34m\u001b[1mwandb\u001b[0m: \tepochs: 100\n",
      "\u001b[34m\u001b[1mwandb\u001b[0m: \tf1_layer_size: 32\n",
      "\u001b[34m\u001b[1mwandb\u001b[0m: \tf2_layer_size: 256\n",
      "\u001b[34m\u001b[1mwandb\u001b[0m: \tl1_beta: 0.600840641518348\n",
      "\u001b[34m\u001b[1mwandb\u001b[0m: \tlearning_rate: 0.00022308275424112584\n",
      "\u001b[34m\u001b[1mwandb\u001b[0m: \tloss: l1_custom\n",
      "\u001b[34m\u001b[1mwandb\u001b[0m: \tnum_layers: 2\n",
      "\u001b[34m\u001b[1mwandb\u001b[0m: \toptimizer: adam\n",
      "\u001b[34m\u001b[1mwandb\u001b[0m: \tvalidation_split: 0.1\n",
      "Failed to detect the name of this notebook, you can set it manually with the WANDB_NOTEBOOK_NAME environment variable to enable code saving.\n",
      "\u001b[34m\u001b[1mwandb\u001b[0m: \u001b[33mWARNING\u001b[0m Ignored wandb.init() arg project when running a sweep.\n"
     ]
    },
    {
     "data": {
      "text/html": [
       "wandb version 0.13.2 is available!  To upgrade, please run:\n",
       " $ pip install wandb --upgrade"
      ],
      "text/plain": [
       "<IPython.core.display.HTML object>"
      ]
     },
     "metadata": {},
     "output_type": "display_data"
    },
    {
     "data": {
      "text/html": [
       "Tracking run with wandb version 0.12.14"
      ],
      "text/plain": [
       "<IPython.core.display.HTML object>"
      ]
     },
     "metadata": {},
     "output_type": "display_data"
    },
    {
     "data": {
      "text/html": [
       "Run data is saved locally in <code>c:\\Users\\Nick\\Documents\\GitHub\\grvmodel\\Python\\pytorch\\New Model\\wandb\\run-20220825_115317-372lh151</code>"
      ],
      "text/plain": [
       "<IPython.core.display.HTML object>"
      ]
     },
     "metadata": {},
     "output_type": "display_data"
    },
    {
     "data": {
      "text/html": [
       "Syncing run <strong><a href=\"https://wandb.ai/nickojelly/grv_priced_sweep_custom/runs/372lh151\" target=\"_blank\">toasty-sweep-67</a></strong> to <a href=\"https://wandb.ai/nickojelly/grv_priced_sweep_custom\" target=\"_blank\">Weights & Biases</a> (<a href=\"https://wandb.me/run\" target=\"_blank\">docs</a>)<br/>Sweep page:  <a href=\"https://wandb.ai/nickojelly/grv_priced_sweep_custom/sweeps/nwqxajsa\" target=\"_blank\">https://wandb.ai/nickojelly/grv_priced_sweep_custom/sweeps/nwqxajsa</a>"
      ],
      "text/plain": [
       "<IPython.core.display.HTML object>"
      ]
     },
     "metadata": {},
     "output_type": "display_data"
    },
    {
     "name": "stderr",
     "output_type": "stream",
     "text": [
      "  0%|          | 0/100 [00:00<?, ?it/s]"
     ]
    },
    {
     "name": "stdout",
     "output_type": "stream",
     "text": [
      "{'batch_size': 32, 'dropout': 0.4, 'epochs': 100, 'f1_layer_size': 32, 'f2_layer_size': 256, 'l1_beta': 0.600840641518348, 'learning_rate': 0.00022308275424112584, 'loss': 'l1_custom', 'num_layers': 2, 'optimizer': 'adam', 'validation_split': 0.1}\n",
      "100\n",
      "{'batch_size': 32, 'dropout': 0.4, 'epochs': 100, 'f1_layer_size': 32, 'f2_layer_size': 256, 'l1_beta': 0.600840641518348, 'learning_rate': 0.00022308275424112584, 'loss': 'l1_custom', 'num_layers': 2, 'optimizer': 'adam', 'validation_split': 0.1}\n",
      "Sequential(\n",
      "  (0): Linear(in_features=120, out_features=32, bias=True)\n",
      "  (1): ReLU()\n",
      "  (2): Dropout(p=0.4, inplace=False)\n",
      "  (3): Linear(in_features=32, out_features=256, bias=True)\n",
      "  (4): ReLU()\n",
      "  (5): Dropout(p=0.4, inplace=False)\n",
      "  (6): Linear(in_features=256, out_features=8, bias=True)\n",
      "  (7): Softmax(dim=1)\n",
      ")\n"
     ]
    },
    {
     "name": "stderr",
     "output_type": "stream",
     "text": [
      "  1%|          | 1/100 [00:16<27:52, 16.90s/it]"
     ]
    },
    {
     "name": "stdout",
     "output_type": "stream",
     "text": [
      "created path\n"
     ]
    },
    {
     "name": "stderr",
     "output_type": "stream",
     "text": [
      "100%|██████████| 100/100 [12:47<00:00,  7.68s/it]\n"
     ]
    },
    {
     "name": "stdout",
     "output_type": "stream",
     "text": [
      "\n"
     ]
    },
    {
     "data": {
      "text/html": [
       "Waiting for W&B process to finish... <strong style=\"color:green\">(success).</strong>"
      ],
      "text/plain": [
       "<IPython.core.display.HTML object>"
      ]
     },
     "metadata": {},
     "output_type": "display_data"
    },
    {
     "data": {
      "application/vnd.jupyter.widget-view+json": {
       "model_id": "c35b48b5abc548398aa88e52303e1ca0",
       "version_major": 2,
       "version_minor": 0
      },
      "text/plain": [
       "VBox(children=(Label(value='0.001 MB of 0.001 MB uploaded (0.000 MB deduped)\\r'), FloatProgress(value=1.0, max…"
      ]
     },
     "metadata": {},
     "output_type": "display_data"
    },
    {
     "data": {
      "text/html": [
       "<style>\n",
       "    table.wandb td:nth-child(1) { padding: 0 10px; text-align: right }\n",
       "    .wandb-row { display: flex; flex-direction: row; flex-wrap: wrap; width: 100% }\n",
       "    .wandb-col { display: flex; flex-direction: column; flex-basis: 100%; flex: 1; padding: 10px; }\n",
       "    </style>\n",
       "<div class=\"wandb-row\"><div class=\"wandb-col\"><h3>Run history:</h3><br/><table class=\"wandb\"><tr><td>bfnotavail</td><td>▁▅▇▇▇▇███▇</td></tr><tr><td>bfprofit</td><td>▃▁▄█▇▂▆▆▃▂</td></tr><tr><td>correct_conf</td><td>▁▄▇▇▇█▇▇██</td></tr><tr><td>epoch</td><td>▁▁▁▁▂▂▂▂▂▃▃▃▃▃▃▄▄▄▄▄▅▅▅▅▅▅▆▆▆▆▆▇▇▇▇▇▇███</td></tr><tr><td>incorrect_conf</td><td>▁▄▇▇▇█▇▇██</td></tr><tr><td>loss</td><td>▄▂█▁▇▄▄▅▄▆▅▄▄▂▆▅▅▄▅▁▅▃▄▆▄▄▅▄▅▂▁▃▃▆▃▂▄▂▃▄</td></tr><tr><td>num_bets_per</td><td>▅█▅▃▃▂▃▂▂▁</td></tr><tr><td>profit</td><td>▂▁▃█▇▃▅▆▃▂</td></tr><tr><td>test_accuracy</td><td>▁▅▆██▇██▇▇</td></tr><tr><td>value_pick_roi</td><td>▁▃▆▃▂▅▃▄▅█</td></tr></table><br/></div><div class=\"wandb-col\"><h3>Run summary:</h3><br/><table class=\"wandb\"><tr><td>bfnotavail</td><td>906</td></tr><tr><td>correct_conf</td><td>0.27846</td></tr><tr><td>epoch</td><td>99</td></tr><tr><td>incorrect_conf</td><td>0.24307</td></tr><tr><td>num_bets_per</td><td>3.987</td></tr><tr><td>profit</td><td>-1247.04</td></tr><tr><td>value_pick_roi</td><td>-0.26537</td></tr></table><br/></div></div>"
      ],
      "text/plain": [
       "<IPython.core.display.HTML object>"
      ]
     },
     "metadata": {},
     "output_type": "display_data"
    },
    {
     "data": {
      "text/html": [
       "Synced <strong style=\"color:#cdcd00\">toasty-sweep-67</strong>: <a href=\"https://wandb.ai/nickojelly/grv_priced_sweep_custom/runs/372lh151\" target=\"_blank\">https://wandb.ai/nickojelly/grv_priced_sweep_custom/runs/372lh151</a><br/>Synced 5 W&B file(s), 0 media file(s), 0 artifact file(s) and 0 other file(s)"
      ],
      "text/plain": [
       "<IPython.core.display.HTML object>"
      ]
     },
     "metadata": {},
     "output_type": "display_data"
    },
    {
     "data": {
      "text/html": [
       "Find logs at: <code>.\\wandb\\run-20220825_115317-372lh151\\logs</code>"
      ],
      "text/plain": [
       "<IPython.core.display.HTML object>"
      ]
     },
     "metadata": {},
     "output_type": "display_data"
    },
    {
     "name": "stderr",
     "output_type": "stream",
     "text": [
      "\u001b[34m\u001b[1mwandb\u001b[0m: Agent Starting Run: cpfdtiwz with config:\n",
      "\u001b[34m\u001b[1mwandb\u001b[0m: \tbatch_size: 360\n",
      "\u001b[34m\u001b[1mwandb\u001b[0m: \tdropout: 0.3\n",
      "\u001b[34m\u001b[1mwandb\u001b[0m: \tepochs: 100\n",
      "\u001b[34m\u001b[1mwandb\u001b[0m: \tf1_layer_size: 128\n",
      "\u001b[34m\u001b[1mwandb\u001b[0m: \tf2_layer_size: 32\n",
      "\u001b[34m\u001b[1mwandb\u001b[0m: \tl1_beta: 0.4809625661567478\n",
      "\u001b[34m\u001b[1mwandb\u001b[0m: \tlearning_rate: 0.0008365540117815255\n",
      "\u001b[34m\u001b[1mwandb\u001b[0m: \tloss: l1_custom\n",
      "\u001b[34m\u001b[1mwandb\u001b[0m: \tnum_layers: 2\n",
      "\u001b[34m\u001b[1mwandb\u001b[0m: \toptimizer: adam\n",
      "\u001b[34m\u001b[1mwandb\u001b[0m: \tvalidation_split: 0.1\n",
      "Failed to detect the name of this notebook, you can set it manually with the WANDB_NOTEBOOK_NAME environment variable to enable code saving.\n",
      "\u001b[34m\u001b[1mwandb\u001b[0m: \u001b[33mWARNING\u001b[0m Ignored wandb.init() arg project when running a sweep.\n"
     ]
    },
    {
     "data": {
      "text/html": [
       "wandb version 0.13.2 is available!  To upgrade, please run:\n",
       " $ pip install wandb --upgrade"
      ],
      "text/plain": [
       "<IPython.core.display.HTML object>"
      ]
     },
     "metadata": {},
     "output_type": "display_data"
    },
    {
     "data": {
      "text/html": [
       "Tracking run with wandb version 0.12.14"
      ],
      "text/plain": [
       "<IPython.core.display.HTML object>"
      ]
     },
     "metadata": {},
     "output_type": "display_data"
    },
    {
     "data": {
      "text/html": [
       "Run data is saved locally in <code>c:\\Users\\Nick\\Documents\\GitHub\\grvmodel\\Python\\pytorch\\New Model\\wandb\\run-20220825_120619-cpfdtiwz</code>"
      ],
      "text/plain": [
       "<IPython.core.display.HTML object>"
      ]
     },
     "metadata": {},
     "output_type": "display_data"
    },
    {
     "data": {
      "text/html": [
       "Syncing run <strong><a href=\"https://wandb.ai/nickojelly/grv_priced_sweep_custom/runs/cpfdtiwz\" target=\"_blank\">stilted-sweep-68</a></strong> to <a href=\"https://wandb.ai/nickojelly/grv_priced_sweep_custom\" target=\"_blank\">Weights & Biases</a> (<a href=\"https://wandb.me/run\" target=\"_blank\">docs</a>)<br/>Sweep page:  <a href=\"https://wandb.ai/nickojelly/grv_priced_sweep_custom/sweeps/nwqxajsa\" target=\"_blank\">https://wandb.ai/nickojelly/grv_priced_sweep_custom/sweeps/nwqxajsa</a>"
      ],
      "text/plain": [
       "<IPython.core.display.HTML object>"
      ]
     },
     "metadata": {},
     "output_type": "display_data"
    },
    {
     "name": "stderr",
     "output_type": "stream",
     "text": [
      "  0%|          | 0/100 [00:00<?, ?it/s]"
     ]
    },
    {
     "name": "stdout",
     "output_type": "stream",
     "text": [
      "{'batch_size': 360, 'dropout': 0.3, 'epochs': 100, 'f1_layer_size': 128, 'f2_layer_size': 32, 'l1_beta': 0.4809625661567478, 'learning_rate': 0.0008365540117815255, 'loss': 'l1_custom', 'num_layers': 2, 'optimizer': 'adam', 'validation_split': 0.1}\n",
      "100\n",
      "{'batch_size': 360, 'dropout': 0.3, 'epochs': 100, 'f1_layer_size': 128, 'f2_layer_size': 32, 'l1_beta': 0.4809625661567478, 'learning_rate': 0.0008365540117815255, 'loss': 'l1_custom', 'num_layers': 2, 'optimizer': 'adam', 'validation_split': 0.1}\n",
      "Sequential(\n",
      "  (0): Linear(in_features=120, out_features=128, bias=True)\n",
      "  (1): ReLU()\n",
      "  (2): Dropout(p=0.3, inplace=False)\n",
      "  (3): Linear(in_features=128, out_features=32, bias=True)\n",
      "  (4): ReLU()\n",
      "  (5): Dropout(p=0.3, inplace=False)\n",
      "  (6): Linear(in_features=32, out_features=8, bias=True)\n",
      "  (7): Softmax(dim=1)\n",
      ")\n"
     ]
    },
    {
     "name": "stderr",
     "output_type": "stream",
     "text": [
      "  1%|          | 1/100 [00:11<19:30, 11.82s/it]"
     ]
    },
    {
     "name": "stdout",
     "output_type": "stream",
     "text": [
      "created path\n"
     ]
    },
    {
     "name": "stderr",
     "output_type": "stream",
     "text": [
      "100%|██████████| 100/100 [04:36<00:00,  2.77s/it]\n"
     ]
    },
    {
     "name": "stdout",
     "output_type": "stream",
     "text": [
      "\n"
     ]
    },
    {
     "data": {
      "text/html": [
       "Waiting for W&B process to finish... <strong style=\"color:green\">(success).</strong>"
      ],
      "text/plain": [
       "<IPython.core.display.HTML object>"
      ]
     },
     "metadata": {},
     "output_type": "display_data"
    },
    {
     "data": {
      "application/vnd.jupyter.widget-view+json": {
       "model_id": "77910de567644d22be860568b8934023",
       "version_major": 2,
       "version_minor": 0
      },
      "text/plain": [
       "VBox(children=(Label(value='0.001 MB of 0.001 MB uploaded (0.000 MB deduped)\\r'), FloatProgress(value=1.0, max…"
      ]
     },
     "metadata": {},
     "output_type": "display_data"
    },
    {
     "data": {
      "text/html": [
       "<style>\n",
       "    table.wandb td:nth-child(1) { padding: 0 10px; text-align: right }\n",
       "    .wandb-row { display: flex; flex-direction: row; flex-wrap: wrap; width: 100% }\n",
       "    .wandb-col { display: flex; flex-direction: column; flex-basis: 100%; flex: 1; padding: 10px; }\n",
       "    </style>\n",
       "<div class=\"wandb-row\"><div class=\"wandb-col\"><h3>Run history:</h3><br/><table class=\"wandb\"><tr><td>bfnotavail</td><td>█▁▁▁▁▁▁▁▁▁</td></tr><tr><td>bfprofit</td><td>█▁▁▁▁▁▁▁▁▁</td></tr><tr><td>correct_conf</td><td>▁█▇▆█▇█▇▇▇</td></tr><tr><td>epoch</td><td>▁▁▁▁▂▂▂▂▂▃▃▃▃▃▃▄▄▄▄▄▅▅▅▅▅▅▆▆▆▆▆▇▇▇▇▇▇███</td></tr><tr><td>incorrect_conf</td><td>▁█▇▆█▇█▇▇▇</td></tr><tr><td>loss</td><td>▆█▂▃▄▄▃▃▃▄▂▄▃▄▃▅▃▄▂▃▅▁▂▃▂▃▄▃▃▁▃▃▃▃▂▄▄▂▃▃</td></tr><tr><td>num_bets_per</td><td>▁▃▆▄▆▆▆█▇▇</td></tr><tr><td>profit</td><td>▁█████████</td></tr><tr><td>test_accuracy</td><td>▁█████████</td></tr><tr><td>value_pick_roi</td><td>█▄▂▂▃▂▁▂▄▂</td></tr></table><br/></div><div class=\"wandb-col\"><h3>Run summary:</h3><br/><table class=\"wandb\"><tr><td>bfnotavail</td><td>533</td></tr><tr><td>correct_conf</td><td>0.14926</td></tr><tr><td>epoch</td><td>99</td></tr><tr><td>incorrect_conf</td><td>0.14925</td></tr><tr><td>num_bets_per</td><td>4.06305</td></tr><tr><td>profit</td><td>-1286.70001</td></tr><tr><td>value_pick_roi</td><td>-0.28344</td></tr></table><br/></div></div>"
      ],
      "text/plain": [
       "<IPython.core.display.HTML object>"
      ]
     },
     "metadata": {},
     "output_type": "display_data"
    },
    {
     "data": {
      "text/html": [
       "Synced <strong style=\"color:#cdcd00\">stilted-sweep-68</strong>: <a href=\"https://wandb.ai/nickojelly/grv_priced_sweep_custom/runs/cpfdtiwz\" target=\"_blank\">https://wandb.ai/nickojelly/grv_priced_sweep_custom/runs/cpfdtiwz</a><br/>Synced 5 W&B file(s), 0 media file(s), 0 artifact file(s) and 0 other file(s)"
      ],
      "text/plain": [
       "<IPython.core.display.HTML object>"
      ]
     },
     "metadata": {},
     "output_type": "display_data"
    },
    {
     "data": {
      "text/html": [
       "Find logs at: <code>.\\wandb\\run-20220825_120619-cpfdtiwz\\logs</code>"
      ],
      "text/plain": [
       "<IPython.core.display.HTML object>"
      ]
     },
     "metadata": {},
     "output_type": "display_data"
    },
    {
     "name": "stderr",
     "output_type": "stream",
     "text": [
      "\u001b[34m\u001b[1mwandb\u001b[0m: Agent Starting Run: 8zfzftpy with config:\n",
      "\u001b[34m\u001b[1mwandb\u001b[0m: \tbatch_size: 128\n",
      "\u001b[34m\u001b[1mwandb\u001b[0m: \tdropout: 0.3\n",
      "\u001b[34m\u001b[1mwandb\u001b[0m: \tepochs: 100\n",
      "\u001b[34m\u001b[1mwandb\u001b[0m: \tf1_layer_size: 128\n",
      "\u001b[34m\u001b[1mwandb\u001b[0m: \tf2_layer_size: 32\n",
      "\u001b[34m\u001b[1mwandb\u001b[0m: \tl1_beta: 0.3820508072344755\n",
      "\u001b[34m\u001b[1mwandb\u001b[0m: \tlearning_rate: 0.0008019274067423466\n",
      "\u001b[34m\u001b[1mwandb\u001b[0m: \tloss: l1_custom\n",
      "\u001b[34m\u001b[1mwandb\u001b[0m: \tnum_layers: 2\n",
      "\u001b[34m\u001b[1mwandb\u001b[0m: \toptimizer: adam\n",
      "\u001b[34m\u001b[1mwandb\u001b[0m: \tvalidation_split: 0.1\n",
      "Failed to detect the name of this notebook, you can set it manually with the WANDB_NOTEBOOK_NAME environment variable to enable code saving.\n",
      "\u001b[34m\u001b[1mwandb\u001b[0m: \u001b[33mWARNING\u001b[0m Ignored wandb.init() arg project when running a sweep.\n"
     ]
    },
    {
     "data": {
      "text/html": [
       "wandb version 0.13.2 is available!  To upgrade, please run:\n",
       " $ pip install wandb --upgrade"
      ],
      "text/plain": [
       "<IPython.core.display.HTML object>"
      ]
     },
     "metadata": {},
     "output_type": "display_data"
    },
    {
     "data": {
      "text/html": [
       "Tracking run with wandb version 0.12.14"
      ],
      "text/plain": [
       "<IPython.core.display.HTML object>"
      ]
     },
     "metadata": {},
     "output_type": "display_data"
    },
    {
     "data": {
      "text/html": [
       "Run data is saved locally in <code>c:\\Users\\Nick\\Documents\\GitHub\\grvmodel\\Python\\pytorch\\New Model\\wandb\\run-20220825_121107-8zfzftpy</code>"
      ],
      "text/plain": [
       "<IPython.core.display.HTML object>"
      ]
     },
     "metadata": {},
     "output_type": "display_data"
    },
    {
     "data": {
      "text/html": [
       "Syncing run <strong><a href=\"https://wandb.ai/nickojelly/grv_priced_sweep_custom/runs/8zfzftpy\" target=\"_blank\">stilted-sweep-69</a></strong> to <a href=\"https://wandb.ai/nickojelly/grv_priced_sweep_custom\" target=\"_blank\">Weights & Biases</a> (<a href=\"https://wandb.me/run\" target=\"_blank\">docs</a>)<br/>Sweep page:  <a href=\"https://wandb.ai/nickojelly/grv_priced_sweep_custom/sweeps/nwqxajsa\" target=\"_blank\">https://wandb.ai/nickojelly/grv_priced_sweep_custom/sweeps/nwqxajsa</a>"
      ],
      "text/plain": [
       "<IPython.core.display.HTML object>"
      ]
     },
     "metadata": {},
     "output_type": "display_data"
    },
    {
     "name": "stderr",
     "output_type": "stream",
     "text": [
      "  0%|          | 0/100 [00:00<?, ?it/s]"
     ]
    },
    {
     "name": "stdout",
     "output_type": "stream",
     "text": [
      "{'batch_size': 128, 'dropout': 0.3, 'epochs': 100, 'f1_layer_size': 128, 'f2_layer_size': 32, 'l1_beta': 0.3820508072344755, 'learning_rate': 0.0008019274067423466, 'loss': 'l1_custom', 'num_layers': 2, 'optimizer': 'adam', 'validation_split': 0.1}\n",
      "100\n",
      "{'batch_size': 128, 'dropout': 0.3, 'epochs': 100, 'f1_layer_size': 128, 'f2_layer_size': 32, 'l1_beta': 0.3820508072344755, 'learning_rate': 0.0008019274067423466, 'loss': 'l1_custom', 'num_layers': 2, 'optimizer': 'adam', 'validation_split': 0.1}\n",
      "Sequential(\n",
      "  (0): Linear(in_features=120, out_features=128, bias=True)\n",
      "  (1): ReLU()\n",
      "  (2): Dropout(p=0.3, inplace=False)\n",
      "  (3): Linear(in_features=128, out_features=32, bias=True)\n",
      "  (4): ReLU()\n",
      "  (5): Dropout(p=0.3, inplace=False)\n",
      "  (6): Linear(in_features=32, out_features=8, bias=True)\n",
      "  (7): Softmax(dim=1)\n",
      ")\n"
     ]
    },
    {
     "name": "stderr",
     "output_type": "stream",
     "text": [
      "  1%|          | 1/100 [00:12<20:59, 12.73s/it]"
     ]
    },
    {
     "name": "stdout",
     "output_type": "stream",
     "text": [
      "created path\n"
     ]
    },
    {
     "name": "stderr",
     "output_type": "stream",
     "text": [
      "100%|██████████| 100/100 [05:56<00:00,  3.57s/it]\n"
     ]
    },
    {
     "name": "stdout",
     "output_type": "stream",
     "text": [
      "\n"
     ]
    },
    {
     "data": {
      "text/html": [
       "Waiting for W&B process to finish... <strong style=\"color:green\">(success).</strong>"
      ],
      "text/plain": [
       "<IPython.core.display.HTML object>"
      ]
     },
     "metadata": {},
     "output_type": "display_data"
    },
    {
     "data": {
      "application/vnd.jupyter.widget-view+json": {
       "model_id": "46df40a52b0f4101bac60b2c5f3663be",
       "version_major": 2,
       "version_minor": 0
      },
      "text/plain": [
       "VBox(children=(Label(value='0.001 MB of 0.001 MB uploaded (0.000 MB deduped)\\r'), FloatProgress(value=1.0, max…"
      ]
     },
     "metadata": {},
     "output_type": "display_data"
    },
    {
     "data": {
      "text/html": [
       "<style>\n",
       "    table.wandb td:nth-child(1) { padding: 0 10px; text-align: right }\n",
       "    .wandb-row { display: flex; flex-direction: row; flex-wrap: wrap; width: 100% }\n",
       "    .wandb-col { display: flex; flex-direction: column; flex-basis: 100%; flex: 1; padding: 10px; }\n",
       "    </style>\n",
       "<div class=\"wandb-row\"><div class=\"wandb-col\"><h3>Run history:</h3><br/><table class=\"wandb\"><tr><td>bfnotavail</td><td>▁█████████</td></tr><tr><td>bfprofit</td><td>▁█████████</td></tr><tr><td>correct_conf</td><td>▁▇▇█▇██▇▇█</td></tr><tr><td>epoch</td><td>▁▁▁▁▂▂▂▂▂▃▃▃▃▃▃▄▄▄▄▄▅▅▅▅▅▅▆▆▆▆▆▇▇▇▇▇▇███</td></tr><tr><td>incorrect_conf</td><td>▁▇▇█▇██▇▇█</td></tr><tr><td>loss</td><td>▃▃▁▄▄▄▅▂▄▃█▄▅▅▇▆▄▇▃▇▅▄▃▅▅▄▆▄▃▅▄▄▂▅▆▅▆▃▅▇</td></tr><tr><td>num_bets_per</td><td>▁▇█▄▅▆▄▇▄▆</td></tr><tr><td>profit</td><td>▁█████████</td></tr><tr><td>test_accuracy</td><td>▁█████████</td></tr><tr><td>value_pick_roi</td><td>▁▅█▃▃▅▄▄▆▂</td></tr></table><br/></div><div class=\"wandb-col\"><h3>Run summary:</h3><br/><table class=\"wandb\"><tr><td>bfnotavail</td><td>558</td></tr><tr><td>correct_conf</td><td>0.15371</td></tr><tr><td>epoch</td><td>99</td></tr><tr><td>incorrect_conf</td><td>0.1537</td></tr><tr><td>num_bets_per</td><td>4.039</td></tr><tr><td>profit</td><td>-1290.75999</td></tr><tr><td>value_pick_roi</td><td>-0.28446</td></tr></table><br/></div></div>"
      ],
      "text/plain": [
       "<IPython.core.display.HTML object>"
      ]
     },
     "metadata": {},
     "output_type": "display_data"
    },
    {
     "data": {
      "text/html": [
       "Synced <strong style=\"color:#cdcd00\">stilted-sweep-69</strong>: <a href=\"https://wandb.ai/nickojelly/grv_priced_sweep_custom/runs/8zfzftpy\" target=\"_blank\">https://wandb.ai/nickojelly/grv_priced_sweep_custom/runs/8zfzftpy</a><br/>Synced 5 W&B file(s), 0 media file(s), 0 artifact file(s) and 0 other file(s)"
      ],
      "text/plain": [
       "<IPython.core.display.HTML object>"
      ]
     },
     "metadata": {},
     "output_type": "display_data"
    },
    {
     "data": {
      "text/html": [
       "Find logs at: <code>.\\wandb\\run-20220825_121107-8zfzftpy\\logs</code>"
      ],
      "text/plain": [
       "<IPython.core.display.HTML object>"
      ]
     },
     "metadata": {},
     "output_type": "display_data"
    },
    {
     "name": "stderr",
     "output_type": "stream",
     "text": [
      "\u001b[34m\u001b[1mwandb\u001b[0m: Agent Starting Run: s86gz7da with config:\n",
      "\u001b[34m\u001b[1mwandb\u001b[0m: \tbatch_size: 128\n",
      "\u001b[34m\u001b[1mwandb\u001b[0m: \tdropout: 0.3\n",
      "\u001b[34m\u001b[1mwandb\u001b[0m: \tepochs: 100\n",
      "\u001b[34m\u001b[1mwandb\u001b[0m: \tf1_layer_size: 64\n",
      "\u001b[34m\u001b[1mwandb\u001b[0m: \tf2_layer_size: 256\n",
      "\u001b[34m\u001b[1mwandb\u001b[0m: \tl1_beta: 0.7784735078430441\n",
      "\u001b[34m\u001b[1mwandb\u001b[0m: \tlearning_rate: 0.00022919103705500892\n",
      "\u001b[34m\u001b[1mwandb\u001b[0m: \tloss: l1_custom\n",
      "\u001b[34m\u001b[1mwandb\u001b[0m: \tnum_layers: 2\n",
      "\u001b[34m\u001b[1mwandb\u001b[0m: \toptimizer: adam\n",
      "\u001b[34m\u001b[1mwandb\u001b[0m: \tvalidation_split: 0.1\n",
      "Failed to detect the name of this notebook, you can set it manually with the WANDB_NOTEBOOK_NAME environment variable to enable code saving.\n",
      "\u001b[34m\u001b[1mwandb\u001b[0m: \u001b[33mWARNING\u001b[0m Ignored wandb.init() arg project when running a sweep.\n"
     ]
    },
    {
     "data": {
      "text/html": [
       "wandb version 0.13.2 is available!  To upgrade, please run:\n",
       " $ pip install wandb --upgrade"
      ],
      "text/plain": [
       "<IPython.core.display.HTML object>"
      ]
     },
     "metadata": {},
     "output_type": "display_data"
    },
    {
     "data": {
      "text/html": [
       "Tracking run with wandb version 0.12.14"
      ],
      "text/plain": [
       "<IPython.core.display.HTML object>"
      ]
     },
     "metadata": {},
     "output_type": "display_data"
    },
    {
     "data": {
      "text/html": [
       "Run data is saved locally in <code>c:\\Users\\Nick\\Documents\\GitHub\\grvmodel\\Python\\pytorch\\New Model\\wandb\\run-20220825_121718-s86gz7da</code>"
      ],
      "text/plain": [
       "<IPython.core.display.HTML object>"
      ]
     },
     "metadata": {},
     "output_type": "display_data"
    },
    {
     "data": {
      "text/html": [
       "Syncing run <strong><a href=\"https://wandb.ai/nickojelly/grv_priced_sweep_custom/runs/s86gz7da\" target=\"_blank\">youthful-sweep-70</a></strong> to <a href=\"https://wandb.ai/nickojelly/grv_priced_sweep_custom\" target=\"_blank\">Weights & Biases</a> (<a href=\"https://wandb.me/run\" target=\"_blank\">docs</a>)<br/>Sweep page:  <a href=\"https://wandb.ai/nickojelly/grv_priced_sweep_custom/sweeps/nwqxajsa\" target=\"_blank\">https://wandb.ai/nickojelly/grv_priced_sweep_custom/sweeps/nwqxajsa</a>"
      ],
      "text/plain": [
       "<IPython.core.display.HTML object>"
      ]
     },
     "metadata": {},
     "output_type": "display_data"
    },
    {
     "name": "stderr",
     "output_type": "stream",
     "text": [
      "  0%|          | 0/100 [00:00<?, ?it/s]"
     ]
    },
    {
     "name": "stdout",
     "output_type": "stream",
     "text": [
      "{'batch_size': 128, 'dropout': 0.3, 'epochs': 100, 'f1_layer_size': 64, 'f2_layer_size': 256, 'l1_beta': 0.7784735078430441, 'learning_rate': 0.00022919103705500892, 'loss': 'l1_custom', 'num_layers': 2, 'optimizer': 'adam', 'validation_split': 0.1}\n",
      "100\n",
      "{'batch_size': 128, 'dropout': 0.3, 'epochs': 100, 'f1_layer_size': 64, 'f2_layer_size': 256, 'l1_beta': 0.7784735078430441, 'learning_rate': 0.00022919103705500892, 'loss': 'l1_custom', 'num_layers': 2, 'optimizer': 'adam', 'validation_split': 0.1}\n",
      "Sequential(\n",
      "  (0): Linear(in_features=120, out_features=64, bias=True)\n",
      "  (1): ReLU()\n",
      "  (2): Dropout(p=0.3, inplace=False)\n",
      "  (3): Linear(in_features=64, out_features=256, bias=True)\n",
      "  (4): ReLU()\n",
      "  (5): Dropout(p=0.3, inplace=False)\n",
      "  (6): Linear(in_features=256, out_features=8, bias=True)\n",
      "  (7): Softmax(dim=1)\n",
      ")\n"
     ]
    },
    {
     "name": "stderr",
     "output_type": "stream",
     "text": [
      "  1%|          | 1/100 [00:12<21:17, 12.90s/it]"
     ]
    },
    {
     "name": "stdout",
     "output_type": "stream",
     "text": [
      "created path\n"
     ]
    },
    {
     "name": "stderr",
     "output_type": "stream",
     "text": [
      "100%|██████████| 100/100 [05:57<00:00,  3.57s/it]\n"
     ]
    },
    {
     "name": "stdout",
     "output_type": "stream",
     "text": [
      "\n"
     ]
    },
    {
     "data": {
      "text/html": [
       "Waiting for W&B process to finish... <strong style=\"color:green\">(success).</strong>"
      ],
      "text/plain": [
       "<IPython.core.display.HTML object>"
      ]
     },
     "metadata": {},
     "output_type": "display_data"
    },
    {
     "data": {
      "application/vnd.jupyter.widget-view+json": {
       "model_id": "510e279ba8e04226a6f0034de7abde5f",
       "version_major": 2,
       "version_minor": 0
      },
      "text/plain": [
       "VBox(children=(Label(value='0.001 MB of 0.001 MB uploaded (0.000 MB deduped)\\r'), FloatProgress(value=1.0, max…"
      ]
     },
     "metadata": {},
     "output_type": "display_data"
    },
    {
     "data": {
      "text/html": [
       "<style>\n",
       "    table.wandb td:nth-child(1) { padding: 0 10px; text-align: right }\n",
       "    .wandb-row { display: flex; flex-direction: row; flex-wrap: wrap; width: 100% }\n",
       "    .wandb-col { display: flex; flex-direction: column; flex-basis: 100%; flex: 1; padding: 10px; }\n",
       "    </style>\n",
       "<div class=\"wandb-row\"><div class=\"wandb-col\"><h3>Run history:</h3><br/><table class=\"wandb\"><tr><td>bfnotavail</td><td>▁▇███▇▇▇▇▇</td></tr><tr><td>bfprofit</td><td>▁▅▇▇▇▅█▆▆▆</td></tr><tr><td>correct_conf</td><td>▁▆▆▇▇▇████</td></tr><tr><td>epoch</td><td>▁▁▁▁▂▂▂▂▂▃▃▃▃▃▃▄▄▄▄▄▅▅▅▅▅▅▆▆▆▆▆▇▇▇▇▇▇███</td></tr><tr><td>incorrect_conf</td><td>▁▆▆▆▇▇▇███</td></tr><tr><td>loss</td><td>▆█▄▆▄▅▃▆▂▄▆▂▅▇▇▆▄▃▄▁▄▄▆▃▅▃▇▄▃▄▃▅▆▅▆▃▃▄▁▃</td></tr><tr><td>num_bets_per</td><td>█▆▅▅▄▂▃▂▂▁</td></tr><tr><td>profit</td><td>▁▅█▇▇▆█▆▆▇</td></tr><tr><td>test_accuracy</td><td>▁▇███▇▇▇▇▇</td></tr><tr><td>value_pick_roi</td><td>▁▆▇▄▇█▆█▆▇</td></tr></table><br/></div><div class=\"wandb-col\"><h3>Run summary:</h3><br/><table class=\"wandb\"><tr><td>bfnotavail</td><td>928</td></tr><tr><td>correct_conf</td><td>0.32364</td></tr><tr><td>epoch</td><td>99</td></tr><tr><td>incorrect_conf</td><td>0.29235</td></tr><tr><td>num_bets_per</td><td>3.68235</td></tr><tr><td>profit</td><td>-745.50001</td></tr><tr><td>value_pick_roi</td><td>-0.25251</td></tr></table><br/></div></div>"
      ],
      "text/plain": [
       "<IPython.core.display.HTML object>"
      ]
     },
     "metadata": {},
     "output_type": "display_data"
    },
    {
     "data": {
      "text/html": [
       "Synced <strong style=\"color:#cdcd00\">youthful-sweep-70</strong>: <a href=\"https://wandb.ai/nickojelly/grv_priced_sweep_custom/runs/s86gz7da\" target=\"_blank\">https://wandb.ai/nickojelly/grv_priced_sweep_custom/runs/s86gz7da</a><br/>Synced 5 W&B file(s), 0 media file(s), 0 artifact file(s) and 0 other file(s)"
      ],
      "text/plain": [
       "<IPython.core.display.HTML object>"
      ]
     },
     "metadata": {},
     "output_type": "display_data"
    },
    {
     "data": {
      "text/html": [
       "Find logs at: <code>.\\wandb\\run-20220825_121718-s86gz7da\\logs</code>"
      ],
      "text/plain": [
       "<IPython.core.display.HTML object>"
      ]
     },
     "metadata": {},
     "output_type": "display_data"
    },
    {
     "name": "stderr",
     "output_type": "stream",
     "text": [
      "\u001b[34m\u001b[1mwandb\u001b[0m: Agent Starting Run: 9k4n8u98 with config:\n",
      "\u001b[34m\u001b[1mwandb\u001b[0m: \tbatch_size: 128\n",
      "\u001b[34m\u001b[1mwandb\u001b[0m: \tdropout: 0.4\n",
      "\u001b[34m\u001b[1mwandb\u001b[0m: \tepochs: 100\n",
      "\u001b[34m\u001b[1mwandb\u001b[0m: \tf1_layer_size: 64\n",
      "\u001b[34m\u001b[1mwandb\u001b[0m: \tf2_layer_size: 256\n",
      "\u001b[34m\u001b[1mwandb\u001b[0m: \tl1_beta: 0.8537999560156813\n",
      "\u001b[34m\u001b[1mwandb\u001b[0m: \tlearning_rate: 0.0005036854398058791\n",
      "\u001b[34m\u001b[1mwandb\u001b[0m: \tloss: l1_custom\n",
      "\u001b[34m\u001b[1mwandb\u001b[0m: \tnum_layers: 2\n",
      "\u001b[34m\u001b[1mwandb\u001b[0m: \toptimizer: adam\n",
      "\u001b[34m\u001b[1mwandb\u001b[0m: \tvalidation_split: 0.1\n",
      "Failed to detect the name of this notebook, you can set it manually with the WANDB_NOTEBOOK_NAME environment variable to enable code saving.\n",
      "\u001b[34m\u001b[1mwandb\u001b[0m: \u001b[33mWARNING\u001b[0m Ignored wandb.init() arg project when running a sweep.\n"
     ]
    },
    {
     "data": {
      "text/html": [
       "wandb version 0.13.2 is available!  To upgrade, please run:\n",
       " $ pip install wandb --upgrade"
      ],
      "text/plain": [
       "<IPython.core.display.HTML object>"
      ]
     },
     "metadata": {},
     "output_type": "display_data"
    },
    {
     "data": {
      "text/html": [
       "Tracking run with wandb version 0.12.14"
      ],
      "text/plain": [
       "<IPython.core.display.HTML object>"
      ]
     },
     "metadata": {},
     "output_type": "display_data"
    },
    {
     "data": {
      "text/html": [
       "Run data is saved locally in <code>c:\\Users\\Nick\\Documents\\GitHub\\grvmodel\\Python\\pytorch\\New Model\\wandb\\run-20220825_122328-9k4n8u98</code>"
      ],
      "text/plain": [
       "<IPython.core.display.HTML object>"
      ]
     },
     "metadata": {},
     "output_type": "display_data"
    },
    {
     "data": {
      "text/html": [
       "Syncing run <strong><a href=\"https://wandb.ai/nickojelly/grv_priced_sweep_custom/runs/9k4n8u98\" target=\"_blank\">cool-sweep-71</a></strong> to <a href=\"https://wandb.ai/nickojelly/grv_priced_sweep_custom\" target=\"_blank\">Weights & Biases</a> (<a href=\"https://wandb.me/run\" target=\"_blank\">docs</a>)<br/>Sweep page:  <a href=\"https://wandb.ai/nickojelly/grv_priced_sweep_custom/sweeps/nwqxajsa\" target=\"_blank\">https://wandb.ai/nickojelly/grv_priced_sweep_custom/sweeps/nwqxajsa</a>"
      ],
      "text/plain": [
       "<IPython.core.display.HTML object>"
      ]
     },
     "metadata": {},
     "output_type": "display_data"
    },
    {
     "name": "stderr",
     "output_type": "stream",
     "text": [
      "  0%|          | 0/100 [00:00<?, ?it/s]"
     ]
    },
    {
     "name": "stdout",
     "output_type": "stream",
     "text": [
      "{'batch_size': 128, 'dropout': 0.4, 'epochs': 100, 'f1_layer_size': 64, 'f2_layer_size': 256, 'l1_beta': 0.8537999560156813, 'learning_rate': 0.0005036854398058791, 'loss': 'l1_custom', 'num_layers': 2, 'optimizer': 'adam', 'validation_split': 0.1}\n",
      "100\n",
      "{'batch_size': 128, 'dropout': 0.4, 'epochs': 100, 'f1_layer_size': 64, 'f2_layer_size': 256, 'l1_beta': 0.8537999560156813, 'learning_rate': 0.0005036854398058791, 'loss': 'l1_custom', 'num_layers': 2, 'optimizer': 'adam', 'validation_split': 0.1}\n",
      "Sequential(\n",
      "  (0): Linear(in_features=120, out_features=64, bias=True)\n",
      "  (1): ReLU()\n",
      "  (2): Dropout(p=0.4, inplace=False)\n",
      "  (3): Linear(in_features=64, out_features=256, bias=True)\n",
      "  (4): ReLU()\n",
      "  (5): Dropout(p=0.4, inplace=False)\n",
      "  (6): Linear(in_features=256, out_features=8, bias=True)\n",
      "  (7): Softmax(dim=1)\n",
      ")\n"
     ]
    },
    {
     "name": "stderr",
     "output_type": "stream",
     "text": [
      "  1%|          | 1/100 [00:12<20:41, 12.54s/it]"
     ]
    },
    {
     "name": "stdout",
     "output_type": "stream",
     "text": [
      "created path\n"
     ]
    },
    {
     "name": "stderr",
     "output_type": "stream",
     "text": [
      "100%|██████████| 100/100 [05:56<00:00,  3.56s/it]\n"
     ]
    },
    {
     "name": "stdout",
     "output_type": "stream",
     "text": [
      "\n"
     ]
    },
    {
     "data": {
      "text/html": [
       "Waiting for W&B process to finish... <strong style=\"color:green\">(success).</strong>"
      ],
      "text/plain": [
       "<IPython.core.display.HTML object>"
      ]
     },
     "metadata": {},
     "output_type": "display_data"
    },
    {
     "data": {
      "application/vnd.jupyter.widget-view+json": {
       "model_id": "ed2a2e8868e949aa8d8fbe02ef072752",
       "version_major": 2,
       "version_minor": 0
      },
      "text/plain": [
       "VBox(children=(Label(value='0.001 MB of 0.001 MB uploaded (0.000 MB deduped)\\r'), FloatProgress(value=1.0, max…"
      ]
     },
     "metadata": {},
     "output_type": "display_data"
    },
    {
     "data": {
      "text/html": [
       "<style>\n",
       "    table.wandb td:nth-child(1) { padding: 0 10px; text-align: right }\n",
       "    .wandb-row { display: flex; flex-direction: row; flex-wrap: wrap; width: 100% }\n",
       "    .wandb-col { display: flex; flex-direction: column; flex-basis: 100%; flex: 1; padding: 10px; }\n",
       "    </style>\n",
       "<div class=\"wandb-row\"><div class=\"wandb-col\"><h3>Run history:</h3><br/><table class=\"wandb\"><tr><td>bfnotavail</td><td>▁▇██▇▇▇▇▆▇</td></tr><tr><td>bfprofit</td><td>▅▄▅█▇▁▆█▇▇</td></tr><tr><td>correct_conf</td><td>▁▆▆▆▆▇▇███</td></tr><tr><td>epoch</td><td>▁▁▁▁▂▂▂▂▂▃▃▃▃▃▃▄▄▄▄▄▅▅▅▅▅▅▆▆▆▆▆▇▇▇▇▇▇███</td></tr><tr><td>incorrect_conf</td><td>▁▅▆▆▆▇▇███</td></tr><tr><td>loss</td><td>▇▇▅▆▆▆▄█▇▇▄▆▃▄█▇▆▄▆▃▄▄▇▁▆▇▇█▄▅▄▄▅▃▁▃▄▄▂▆</td></tr><tr><td>num_bets_per</td><td>█▆▅▅▄▃▃▂▁▁</td></tr><tr><td>profit</td><td>▃▅▆█▇▁▇▇█▇</td></tr><tr><td>test_accuracy</td><td>▁████▇▇▇▇▇</td></tr><tr><td>value_pick_roi</td><td>▁▅▆▆▅▆▅▇██</td></tr></table><br/></div><div class=\"wandb-col\"><h3>Run summary:</h3><br/><table class=\"wandb\"><tr><td>bfnotavail</td><td>888</td></tr><tr><td>correct_conf</td><td>0.3175</td></tr><tr><td>epoch</td><td>99</td></tr><tr><td>incorrect_conf</td><td>0.28828</td></tr><tr><td>num_bets_per</td><td>3.6958</td></tr><tr><td>profit</td><td>-887.4</td></tr><tr><td>value_pick_roi</td><td>-0.23862</td></tr></table><br/></div></div>"
      ],
      "text/plain": [
       "<IPython.core.display.HTML object>"
      ]
     },
     "metadata": {},
     "output_type": "display_data"
    },
    {
     "data": {
      "text/html": [
       "Synced <strong style=\"color:#cdcd00\">cool-sweep-71</strong>: <a href=\"https://wandb.ai/nickojelly/grv_priced_sweep_custom/runs/9k4n8u98\" target=\"_blank\">https://wandb.ai/nickojelly/grv_priced_sweep_custom/runs/9k4n8u98</a><br/>Synced 5 W&B file(s), 0 media file(s), 0 artifact file(s) and 0 other file(s)"
      ],
      "text/plain": [
       "<IPython.core.display.HTML object>"
      ]
     },
     "metadata": {},
     "output_type": "display_data"
    },
    {
     "data": {
      "text/html": [
       "Find logs at: <code>.\\wandb\\run-20220825_122328-9k4n8u98\\logs</code>"
      ],
      "text/plain": [
       "<IPython.core.display.HTML object>"
      ]
     },
     "metadata": {},
     "output_type": "display_data"
    },
    {
     "name": "stderr",
     "output_type": "stream",
     "text": [
      "\u001b[34m\u001b[1mwandb\u001b[0m: Agent Starting Run: 0ba4jc3l with config:\n",
      "\u001b[34m\u001b[1mwandb\u001b[0m: \tbatch_size: 128\n",
      "\u001b[34m\u001b[1mwandb\u001b[0m: \tdropout: 0.5\n",
      "\u001b[34m\u001b[1mwandb\u001b[0m: \tepochs: 100\n",
      "\u001b[34m\u001b[1mwandb\u001b[0m: \tf1_layer_size: 128\n",
      "\u001b[34m\u001b[1mwandb\u001b[0m: \tf2_layer_size: 128\n",
      "\u001b[34m\u001b[1mwandb\u001b[0m: \tl1_beta: 0.34574321184704426\n",
      "\u001b[34m\u001b[1mwandb\u001b[0m: \tlearning_rate: 0.0007370595686282315\n",
      "\u001b[34m\u001b[1mwandb\u001b[0m: \tloss: l1_custom\n",
      "\u001b[34m\u001b[1mwandb\u001b[0m: \tnum_layers: 2\n",
      "\u001b[34m\u001b[1mwandb\u001b[0m: \toptimizer: adam\n",
      "\u001b[34m\u001b[1mwandb\u001b[0m: \tvalidation_split: 0.1\n",
      "Failed to detect the name of this notebook, you can set it manually with the WANDB_NOTEBOOK_NAME environment variable to enable code saving.\n",
      "\u001b[34m\u001b[1mwandb\u001b[0m: \u001b[33mWARNING\u001b[0m Ignored wandb.init() arg project when running a sweep.\n"
     ]
    },
    {
     "data": {
      "text/html": [
       "wandb version 0.13.2 is available!  To upgrade, please run:\n",
       " $ pip install wandb --upgrade"
      ],
      "text/plain": [
       "<IPython.core.display.HTML object>"
      ]
     },
     "metadata": {},
     "output_type": "display_data"
    },
    {
     "data": {
      "text/html": [
       "Tracking run with wandb version 0.12.14"
      ],
      "text/plain": [
       "<IPython.core.display.HTML object>"
      ]
     },
     "metadata": {},
     "output_type": "display_data"
    },
    {
     "data": {
      "text/html": [
       "Run data is saved locally in <code>c:\\Users\\Nick\\Documents\\GitHub\\grvmodel\\Python\\pytorch\\New Model\\wandb\\run-20220825_122935-0ba4jc3l</code>"
      ],
      "text/plain": [
       "<IPython.core.display.HTML object>"
      ]
     },
     "metadata": {},
     "output_type": "display_data"
    },
    {
     "data": {
      "text/html": [
       "Syncing run <strong><a href=\"https://wandb.ai/nickojelly/grv_priced_sweep_custom/runs/0ba4jc3l\" target=\"_blank\">worthy-sweep-72</a></strong> to <a href=\"https://wandb.ai/nickojelly/grv_priced_sweep_custom\" target=\"_blank\">Weights & Biases</a> (<a href=\"https://wandb.me/run\" target=\"_blank\">docs</a>)<br/>Sweep page:  <a href=\"https://wandb.ai/nickojelly/grv_priced_sweep_custom/sweeps/nwqxajsa\" target=\"_blank\">https://wandb.ai/nickojelly/grv_priced_sweep_custom/sweeps/nwqxajsa</a>"
      ],
      "text/plain": [
       "<IPython.core.display.HTML object>"
      ]
     },
     "metadata": {},
     "output_type": "display_data"
    },
    {
     "name": "stderr",
     "output_type": "stream",
     "text": [
      "  0%|          | 0/100 [00:00<?, ?it/s]"
     ]
    },
    {
     "name": "stdout",
     "output_type": "stream",
     "text": [
      "{'batch_size': 128, 'dropout': 0.5, 'epochs': 100, 'f1_layer_size': 128, 'f2_layer_size': 128, 'l1_beta': 0.34574321184704426, 'learning_rate': 0.0007370595686282315, 'loss': 'l1_custom', 'num_layers': 2, 'optimizer': 'adam', 'validation_split': 0.1}\n",
      "100\n",
      "{'batch_size': 128, 'dropout': 0.5, 'epochs': 100, 'f1_layer_size': 128, 'f2_layer_size': 128, 'l1_beta': 0.34574321184704426, 'learning_rate': 0.0007370595686282315, 'loss': 'l1_custom', 'num_layers': 2, 'optimizer': 'adam', 'validation_split': 0.1}\n",
      "Sequential(\n",
      "  (0): Linear(in_features=120, out_features=128, bias=True)\n",
      "  (1): ReLU()\n",
      "  (2): Dropout(p=0.5, inplace=False)\n",
      "  (3): Linear(in_features=128, out_features=128, bias=True)\n",
      "  (4): ReLU()\n",
      "  (5): Dropout(p=0.5, inplace=False)\n",
      "  (6): Linear(in_features=128, out_features=8, bias=True)\n",
      "  (7): Softmax(dim=1)\n",
      ")\n"
     ]
    },
    {
     "name": "stderr",
     "output_type": "stream",
     "text": [
      "  1%|          | 1/100 [00:12<21:22, 12.95s/it]"
     ]
    },
    {
     "name": "stdout",
     "output_type": "stream",
     "text": [
      "created path\n"
     ]
    },
    {
     "name": "stderr",
     "output_type": "stream",
     "text": [
      "100%|██████████| 100/100 [05:56<00:00,  3.56s/it]\n"
     ]
    },
    {
     "name": "stdout",
     "output_type": "stream",
     "text": [
      "\n"
     ]
    },
    {
     "data": {
      "text/html": [
       "Waiting for W&B process to finish... <strong style=\"color:green\">(success).</strong>"
      ],
      "text/plain": [
       "<IPython.core.display.HTML object>"
      ]
     },
     "metadata": {},
     "output_type": "display_data"
    },
    {
     "data": {
      "application/vnd.jupyter.widget-view+json": {
       "model_id": "1ef0a10ba02b47e6a6732b9657dd4635",
       "version_major": 2,
       "version_minor": 0
      },
      "text/plain": [
       "VBox(children=(Label(value='0.001 MB of 0.001 MB uploaded (0.000 MB deduped)\\r'), FloatProgress(value=1.0, max…"
      ]
     },
     "metadata": {},
     "output_type": "display_data"
    },
    {
     "data": {
      "text/html": [
       "<style>\n",
       "    table.wandb td:nth-child(1) { padding: 0 10px; text-align: right }\n",
       "    .wandb-row { display: flex; flex-direction: row; flex-wrap: wrap; width: 100% }\n",
       "    .wandb-col { display: flex; flex-direction: column; flex-basis: 100%; flex: 1; padding: 10px; }\n",
       "    </style>\n",
       "<div class=\"wandb-row\"><div class=\"wandb-col\"><h3>Run history:</h3><br/><table class=\"wandb\"><tr><td>bfnotavail</td><td>▁▅▅█▅▇▆█▇▆</td></tr><tr><td>bfprofit</td><td>▂▃▁▅▃█▄▃▆▃</td></tr><tr><td>correct_conf</td><td>▁▆▇▆▇▇▇▇▇█</td></tr><tr><td>epoch</td><td>▁▁▁▁▂▂▂▂▂▃▃▃▃▃▃▄▄▄▄▄▅▅▅▅▅▅▆▆▆▆▆▇▇▇▇▇▇███</td></tr><tr><td>incorrect_conf</td><td>▁▇▇▆▇█▇▇▇█</td></tr><tr><td>loss</td><td>▅█▅▄▃▅▂▃▄▃▃▁▁▆▄▅▃▆▅▃▃▃▄▄▅▄▅▂▄▄▅▄▃▄▃▅▄▄▃▃</td></tr><tr><td>num_bets_per</td><td>█▅▅▆▄▃▄▄▃▁</td></tr><tr><td>profit</td><td>▁▆▃▆▅▇▆▆█▅</td></tr><tr><td>test_accuracy</td><td>▁▇▇█▇▇▇▇▇▇</td></tr><tr><td>value_pick_roi</td><td>▂▇▇█▆▅▁▃▄▆</td></tr></table><br/></div><div class=\"wandb-col\"><h3>Run summary:</h3><br/><table class=\"wandb\"><tr><td>bfnotavail</td><td>695</td></tr><tr><td>correct_conf</td><td>0.31606</td></tr><tr><td>epoch</td><td>99</td></tr><tr><td>incorrect_conf</td><td>0.2905</td></tr><tr><td>num_bets_per</td><td>3.76453</td></tr><tr><td>profit</td><td>-989.06001</td></tr><tr><td>value_pick_roi</td><td>-0.26671</td></tr></table><br/></div></div>"
      ],
      "text/plain": [
       "<IPython.core.display.HTML object>"
      ]
     },
     "metadata": {},
     "output_type": "display_data"
    },
    {
     "data": {
      "text/html": [
       "Synced <strong style=\"color:#cdcd00\">worthy-sweep-72</strong>: <a href=\"https://wandb.ai/nickojelly/grv_priced_sweep_custom/runs/0ba4jc3l\" target=\"_blank\">https://wandb.ai/nickojelly/grv_priced_sweep_custom/runs/0ba4jc3l</a><br/>Synced 5 W&B file(s), 0 media file(s), 0 artifact file(s) and 0 other file(s)"
      ],
      "text/plain": [
       "<IPython.core.display.HTML object>"
      ]
     },
     "metadata": {},
     "output_type": "display_data"
    },
    {
     "data": {
      "text/html": [
       "Find logs at: <code>.\\wandb\\run-20220825_122935-0ba4jc3l\\logs</code>"
      ],
      "text/plain": [
       "<IPython.core.display.HTML object>"
      ]
     },
     "metadata": {},
     "output_type": "display_data"
    },
    {
     "name": "stderr",
     "output_type": "stream",
     "text": [
      "\u001b[34m\u001b[1mwandb\u001b[0m: Sweep Agent: Waiting for job.\n",
      "\u001b[34m\u001b[1mwandb\u001b[0m: Job received.\n",
      "\u001b[34m\u001b[1mwandb\u001b[0m: Agent Starting Run: xun3vqt0 with config:\n",
      "\u001b[34m\u001b[1mwandb\u001b[0m: \tbatch_size: 64\n",
      "\u001b[34m\u001b[1mwandb\u001b[0m: \tdropout: 0.3\n",
      "\u001b[34m\u001b[1mwandb\u001b[0m: \tepochs: 100\n",
      "\u001b[34m\u001b[1mwandb\u001b[0m: \tf1_layer_size: 64\n",
      "\u001b[34m\u001b[1mwandb\u001b[0m: \tf2_layer_size: 256\n",
      "\u001b[34m\u001b[1mwandb\u001b[0m: \tl1_beta: 0.5428509251617443\n",
      "\u001b[34m\u001b[1mwandb\u001b[0m: \tlearning_rate: 0.0007697876358121267\n",
      "\u001b[34m\u001b[1mwandb\u001b[0m: \tloss: l1_custom\n",
      "\u001b[34m\u001b[1mwandb\u001b[0m: \tnum_layers: 2\n",
      "\u001b[34m\u001b[1mwandb\u001b[0m: \toptimizer: adam\n",
      "\u001b[34m\u001b[1mwandb\u001b[0m: \tvalidation_split: 0.1\n",
      "Failed to detect the name of this notebook, you can set it manually with the WANDB_NOTEBOOK_NAME environment variable to enable code saving.\n",
      "\u001b[34m\u001b[1mwandb\u001b[0m: \u001b[33mWARNING\u001b[0m Ignored wandb.init() arg project when running a sweep.\n"
     ]
    },
    {
     "data": {
      "text/html": [
       "wandb version 0.13.2 is available!  To upgrade, please run:\n",
       " $ pip install wandb --upgrade"
      ],
      "text/plain": [
       "<IPython.core.display.HTML object>"
      ]
     },
     "metadata": {},
     "output_type": "display_data"
    },
    {
     "data": {
      "text/html": [
       "Tracking run with wandb version 0.12.14"
      ],
      "text/plain": [
       "<IPython.core.display.HTML object>"
      ]
     },
     "metadata": {},
     "output_type": "display_data"
    },
    {
     "data": {
      "text/html": [
       "Run data is saved locally in <code>c:\\Users\\Nick\\Documents\\GitHub\\grvmodel\\Python\\pytorch\\New Model\\wandb\\run-20220825_123551-xun3vqt0</code>"
      ],
      "text/plain": [
       "<IPython.core.display.HTML object>"
      ]
     },
     "metadata": {},
     "output_type": "display_data"
    },
    {
     "data": {
      "text/html": [
       "Syncing run <strong><a href=\"https://wandb.ai/nickojelly/grv_priced_sweep_custom/runs/xun3vqt0\" target=\"_blank\">wandering-sweep-73</a></strong> to <a href=\"https://wandb.ai/nickojelly/grv_priced_sweep_custom\" target=\"_blank\">Weights & Biases</a> (<a href=\"https://wandb.me/run\" target=\"_blank\">docs</a>)<br/>Sweep page:  <a href=\"https://wandb.ai/nickojelly/grv_priced_sweep_custom/sweeps/nwqxajsa\" target=\"_blank\">https://wandb.ai/nickojelly/grv_priced_sweep_custom/sweeps/nwqxajsa</a>"
      ],
      "text/plain": [
       "<IPython.core.display.HTML object>"
      ]
     },
     "metadata": {},
     "output_type": "display_data"
    },
    {
     "name": "stderr",
     "output_type": "stream",
     "text": [
      "  0%|          | 0/100 [00:00<?, ?it/s]"
     ]
    },
    {
     "name": "stdout",
     "output_type": "stream",
     "text": [
      "{'batch_size': 64, 'dropout': 0.3, 'epochs': 100, 'f1_layer_size': 64, 'f2_layer_size': 256, 'l1_beta': 0.5428509251617443, 'learning_rate': 0.0007697876358121267, 'loss': 'l1_custom', 'num_layers': 2, 'optimizer': 'adam', 'validation_split': 0.1}\n",
      "100\n",
      "{'batch_size': 64, 'dropout': 0.3, 'epochs': 100, 'f1_layer_size': 64, 'f2_layer_size': 256, 'l1_beta': 0.5428509251617443, 'learning_rate': 0.0007697876358121267, 'loss': 'l1_custom', 'num_layers': 2, 'optimizer': 'adam', 'validation_split': 0.1}\n",
      "Sequential(\n",
      "  (0): Linear(in_features=120, out_features=64, bias=True)\n",
      "  (1): ReLU()\n",
      "  (2): Dropout(p=0.3, inplace=False)\n",
      "  (3): Linear(in_features=64, out_features=256, bias=True)\n",
      "  (4): ReLU()\n",
      "  (5): Dropout(p=0.3, inplace=False)\n",
      "  (6): Linear(in_features=256, out_features=8, bias=True)\n",
      "  (7): Softmax(dim=1)\n",
      ")\n"
     ]
    },
    {
     "name": "stderr",
     "output_type": "stream",
     "text": [
      "  1%|          | 1/100 [00:14<23:40, 14.35s/it]"
     ]
    },
    {
     "name": "stdout",
     "output_type": "stream",
     "text": [
      "created path\n"
     ]
    },
    {
     "name": "stderr",
     "output_type": "stream",
     "text": [
      "100%|██████████| 100/100 [08:06<00:00,  4.86s/it]\n"
     ]
    },
    {
     "name": "stdout",
     "output_type": "stream",
     "text": [
      "\n"
     ]
    },
    {
     "data": {
      "text/html": [
       "Waiting for W&B process to finish... <strong style=\"color:green\">(success).</strong>"
      ],
      "text/plain": [
       "<IPython.core.display.HTML object>"
      ]
     },
     "metadata": {},
     "output_type": "display_data"
    },
    {
     "data": {
      "application/vnd.jupyter.widget-view+json": {
       "model_id": "b4a3449da13d4243b0254718185a88b4",
       "version_major": 2,
       "version_minor": 0
      },
      "text/plain": [
       "VBox(children=(Label(value='0.001 MB of 0.001 MB uploaded (0.000 MB deduped)\\r'), FloatProgress(value=1.0, max…"
      ]
     },
     "metadata": {},
     "output_type": "display_data"
    },
    {
     "data": {
      "text/html": [
       "<style>\n",
       "    table.wandb td:nth-child(1) { padding: 0 10px; text-align: right }\n",
       "    .wandb-row { display: flex; flex-direction: row; flex-wrap: wrap; width: 100% }\n",
       "    .wandb-col { display: flex; flex-direction: column; flex-basis: 100%; flex: 1; padding: 10px; }\n",
       "    </style>\n",
       "<div class=\"wandb-row\"><div class=\"wandb-col\"><h3>Run history:</h3><br/><table class=\"wandb\"><tr><td>bfnotavail</td><td>▁▇▆█▇▇▇▇▇▇</td></tr><tr><td>bfprofit</td><td>▁▄▇▆▆▅▆▅▄█</td></tr><tr><td>correct_conf</td><td>▁▇▇█▇█▇██▇</td></tr><tr><td>epoch</td><td>▁▁▁▁▂▂▂▂▂▃▃▃▃▃▃▄▄▄▄▄▅▅▅▅▅▅▆▆▆▆▆▇▇▇▇▇▇███</td></tr><tr><td>incorrect_conf</td><td>▁▇▇█▇█▇███</td></tr><tr><td>loss</td><td>▅▄▄▂▄▁▅▇▄▆▅█▂▃▅▆▇▃▆▆▄▂▇▄▂█▆▆▆▄▅▆▄▆▄▇▅▅▇▃</td></tr><tr><td>num_bets_per</td><td>█▃▂▁▃▁▁▁▁▁</td></tr><tr><td>profit</td><td>▁▄█▇▇▆▆▆▆█</td></tr><tr><td>test_accuracy</td><td>▁▇▇████▇██</td></tr><tr><td>value_pick_roi</td><td>▁▁▃▁▇▅▇▄█▂</td></tr></table><br/></div><div class=\"wandb-col\"><h3>Run summary:</h3><br/><table class=\"wandb\"><tr><td>bfnotavail</td><td>870</td></tr><tr><td>correct_conf</td><td>0.26916</td></tr><tr><td>epoch</td><td>99</td></tr><tr><td>incorrect_conf</td><td>0.24426</td></tr><tr><td>num_bets_per</td><td>3.98342</td></tr><tr><td>profit</td><td>-914.38</td></tr><tr><td>value_pick_roi</td><td>-0.27464</td></tr></table><br/></div></div>"
      ],
      "text/plain": [
       "<IPython.core.display.HTML object>"
      ]
     },
     "metadata": {},
     "output_type": "display_data"
    },
    {
     "data": {
      "text/html": [
       "Synced <strong style=\"color:#cdcd00\">wandering-sweep-73</strong>: <a href=\"https://wandb.ai/nickojelly/grv_priced_sweep_custom/runs/xun3vqt0\" target=\"_blank\">https://wandb.ai/nickojelly/grv_priced_sweep_custom/runs/xun3vqt0</a><br/>Synced 5 W&B file(s), 0 media file(s), 0 artifact file(s) and 0 other file(s)"
      ],
      "text/plain": [
       "<IPython.core.display.HTML object>"
      ]
     },
     "metadata": {},
     "output_type": "display_data"
    },
    {
     "data": {
      "text/html": [
       "Find logs at: <code>.\\wandb\\run-20220825_123551-xun3vqt0\\logs</code>"
      ],
      "text/plain": [
       "<IPython.core.display.HTML object>"
      ]
     },
     "metadata": {},
     "output_type": "display_data"
    },
    {
     "name": "stderr",
     "output_type": "stream",
     "text": [
      "\u001b[34m\u001b[1mwandb\u001b[0m: Sweep Agent: Waiting for job.\n",
      "\u001b[34m\u001b[1mwandb\u001b[0m: Job received.\n",
      "\u001b[34m\u001b[1mwandb\u001b[0m: Agent Starting Run: 6nc41290 with config:\n",
      "\u001b[34m\u001b[1mwandb\u001b[0m: \tbatch_size: 64\n",
      "\u001b[34m\u001b[1mwandb\u001b[0m: \tdropout: 0.5\n",
      "\u001b[34m\u001b[1mwandb\u001b[0m: \tepochs: 100\n",
      "\u001b[34m\u001b[1mwandb\u001b[0m: \tf1_layer_size: 128\n",
      "\u001b[34m\u001b[1mwandb\u001b[0m: \tf2_layer_size: 32\n",
      "\u001b[34m\u001b[1mwandb\u001b[0m: \tl1_beta: 0.1441583383191012\n",
      "\u001b[34m\u001b[1mwandb\u001b[0m: \tlearning_rate: 0.00019072401548494256\n",
      "\u001b[34m\u001b[1mwandb\u001b[0m: \tloss: l1_custom\n",
      "\u001b[34m\u001b[1mwandb\u001b[0m: \tnum_layers: 2\n",
      "\u001b[34m\u001b[1mwandb\u001b[0m: \toptimizer: adam\n",
      "\u001b[34m\u001b[1mwandb\u001b[0m: \tvalidation_split: 0.1\n",
      "Failed to detect the name of this notebook, you can set it manually with the WANDB_NOTEBOOK_NAME environment variable to enable code saving.\n",
      "\u001b[34m\u001b[1mwandb\u001b[0m: \u001b[33mWARNING\u001b[0m Ignored wandb.init() arg project when running a sweep.\n"
     ]
    },
    {
     "data": {
      "text/html": [
       "wandb version 0.13.2 is available!  To upgrade, please run:\n",
       " $ pip install wandb --upgrade"
      ],
      "text/plain": [
       "<IPython.core.display.HTML object>"
      ]
     },
     "metadata": {},
     "output_type": "display_data"
    },
    {
     "data": {
      "text/html": [
       "Tracking run with wandb version 0.12.14"
      ],
      "text/plain": [
       "<IPython.core.display.HTML object>"
      ]
     },
     "metadata": {},
     "output_type": "display_data"
    },
    {
     "data": {
      "text/html": [
       "Run data is saved locally in <code>c:\\Users\\Nick\\Documents\\GitHub\\grvmodel\\Python\\pytorch\\New Model\\wandb\\run-20220825_124416-6nc41290</code>"
      ],
      "text/plain": [
       "<IPython.core.display.HTML object>"
      ]
     },
     "metadata": {},
     "output_type": "display_data"
    },
    {
     "data": {
      "text/html": [
       "Syncing run <strong><a href=\"https://wandb.ai/nickojelly/grv_priced_sweep_custom/runs/6nc41290\" target=\"_blank\">quiet-sweep-74</a></strong> to <a href=\"https://wandb.ai/nickojelly/grv_priced_sweep_custom\" target=\"_blank\">Weights & Biases</a> (<a href=\"https://wandb.me/run\" target=\"_blank\">docs</a>)<br/>Sweep page:  <a href=\"https://wandb.ai/nickojelly/grv_priced_sweep_custom/sweeps/nwqxajsa\" target=\"_blank\">https://wandb.ai/nickojelly/grv_priced_sweep_custom/sweeps/nwqxajsa</a>"
      ],
      "text/plain": [
       "<IPython.core.display.HTML object>"
      ]
     },
     "metadata": {},
     "output_type": "display_data"
    },
    {
     "name": "stderr",
     "output_type": "stream",
     "text": [
      "  0%|          | 0/100 [00:00<?, ?it/s]"
     ]
    },
    {
     "name": "stdout",
     "output_type": "stream",
     "text": [
      "{'batch_size': 64, 'dropout': 0.5, 'epochs': 100, 'f1_layer_size': 128, 'f2_layer_size': 32, 'l1_beta': 0.1441583383191012, 'learning_rate': 0.00019072401548494256, 'loss': 'l1_custom', 'num_layers': 2, 'optimizer': 'adam', 'validation_split': 0.1}\n",
      "100\n",
      "{'batch_size': 64, 'dropout': 0.5, 'epochs': 100, 'f1_layer_size': 128, 'f2_layer_size': 32, 'l1_beta': 0.1441583383191012, 'learning_rate': 0.00019072401548494256, 'loss': 'l1_custom', 'num_layers': 2, 'optimizer': 'adam', 'validation_split': 0.1}\n",
      "Sequential(\n",
      "  (0): Linear(in_features=120, out_features=128, bias=True)\n",
      "  (1): ReLU()\n",
      "  (2): Dropout(p=0.5, inplace=False)\n",
      "  (3): Linear(in_features=128, out_features=32, bias=True)\n",
      "  (4): ReLU()\n",
      "  (5): Dropout(p=0.5, inplace=False)\n",
      "  (6): Linear(in_features=32, out_features=8, bias=True)\n",
      "  (7): Softmax(dim=1)\n",
      ")\n"
     ]
    },
    {
     "name": "stderr",
     "output_type": "stream",
     "text": [
      "  1%|          | 1/100 [00:14<23:18, 14.12s/it]"
     ]
    },
    {
     "name": "stdout",
     "output_type": "stream",
     "text": [
      "created path\n"
     ]
    },
    {
     "name": "stderr",
     "output_type": "stream",
     "text": [
      "100%|██████████| 100/100 [08:08<00:00,  4.89s/it]\n"
     ]
    },
    {
     "name": "stdout",
     "output_type": "stream",
     "text": [
      "\n"
     ]
    },
    {
     "data": {
      "text/html": [
       "Waiting for W&B process to finish... <strong style=\"color:green\">(success).</strong>"
      ],
      "text/plain": [
       "<IPython.core.display.HTML object>"
      ]
     },
     "metadata": {},
     "output_type": "display_data"
    },
    {
     "data": {
      "application/vnd.jupyter.widget-view+json": {
       "model_id": "84ad1b0b17ff4c80929d2a963935c2c9",
       "version_major": 2,
       "version_minor": 0
      },
      "text/plain": [
       "VBox(children=(Label(value='0.001 MB of 0.001 MB uploaded (0.000 MB deduped)\\r'), FloatProgress(value=1.0, max…"
      ]
     },
     "metadata": {},
     "output_type": "display_data"
    },
    {
     "data": {
      "text/html": [
       "<style>\n",
       "    table.wandb td:nth-child(1) { padding: 0 10px; text-align: right }\n",
       "    .wandb-row { display: flex; flex-direction: row; flex-wrap: wrap; width: 100% }\n",
       "    .wandb-col { display: flex; flex-direction: column; flex-basis: 100%; flex: 1; padding: 10px; }\n",
       "    </style>\n",
       "<div class=\"wandb-row\"><div class=\"wandb-col\"><h3>Run history:</h3><br/><table class=\"wandb\"><tr><td>bfnotavail</td><td>▁██▄▄▄▄▄▄▄</td></tr><tr><td>bfprofit</td><td>▁██▆▆▆▆▆▆▆</td></tr><tr><td>correct_conf</td><td>▁▃▄███████</td></tr><tr><td>epoch</td><td>▁▁▁▁▂▂▂▂▂▃▃▃▃▃▃▄▄▄▄▄▅▅▅▅▅▅▆▆▆▆▆▇▇▇▇▇▇███</td></tr><tr><td>incorrect_conf</td><td>▁▃▄███████</td></tr><tr><td>loss</td><td>▄▃▄▆▄▂▃█▂▇▅▃▃▄▃▆▆▅▁█▆▅▄▂▇█▄▃▆▇▂▅▆▆▅▇▄▆▅▄</td></tr><tr><td>num_bets_per</td><td>▇█▇▁▁▁▁▁▁▁</td></tr><tr><td>profit</td><td>▁█████████</td></tr><tr><td>test_accuracy</td><td>▁██▆▆▆▆▆▆▆</td></tr><tr><td>value_pick_roi</td><td>▁▅▅███████</td></tr></table><br/></div><div class=\"wandb-col\"><h3>Run summary:</h3><br/><table class=\"wandb\"><tr><td>bfnotavail</td><td>513</td></tr><tr><td>correct_conf</td><td>0.15133</td></tr><tr><td>epoch</td><td>99</td></tr><tr><td>incorrect_conf</td><td>0.15132</td></tr><tr><td>num_bets_per</td><td>3.99343</td></tr><tr><td>profit</td><td>-1291.42001</td></tr><tr><td>value_pick_roi</td><td>-0.27241</td></tr></table><br/></div></div>"
      ],
      "text/plain": [
       "<IPython.core.display.HTML object>"
      ]
     },
     "metadata": {},
     "output_type": "display_data"
    },
    {
     "data": {
      "text/html": [
       "Synced <strong style=\"color:#cdcd00\">quiet-sweep-74</strong>: <a href=\"https://wandb.ai/nickojelly/grv_priced_sweep_custom/runs/6nc41290\" target=\"_blank\">https://wandb.ai/nickojelly/grv_priced_sweep_custom/runs/6nc41290</a><br/>Synced 5 W&B file(s), 0 media file(s), 0 artifact file(s) and 0 other file(s)"
      ],
      "text/plain": [
       "<IPython.core.display.HTML object>"
      ]
     },
     "metadata": {},
     "output_type": "display_data"
    },
    {
     "data": {
      "text/html": [
       "Find logs at: <code>.\\wandb\\run-20220825_124416-6nc41290\\logs</code>"
      ],
      "text/plain": [
       "<IPython.core.display.HTML object>"
      ]
     },
     "metadata": {},
     "output_type": "display_data"
    },
    {
     "name": "stderr",
     "output_type": "stream",
     "text": [
      "\u001b[34m\u001b[1mwandb\u001b[0m: Agent Starting Run: yw78u45r with config:\n",
      "\u001b[34m\u001b[1mwandb\u001b[0m: \tbatch_size: 64\n",
      "\u001b[34m\u001b[1mwandb\u001b[0m: \tdropout: 0.5\n",
      "\u001b[34m\u001b[1mwandb\u001b[0m: \tepochs: 100\n",
      "\u001b[34m\u001b[1mwandb\u001b[0m: \tf1_layer_size: 256\n",
      "\u001b[34m\u001b[1mwandb\u001b[0m: \tf2_layer_size: 64\n",
      "\u001b[34m\u001b[1mwandb\u001b[0m: \tl1_beta: 0.398677938682266\n",
      "\u001b[34m\u001b[1mwandb\u001b[0m: \tlearning_rate: 0.00045227990148561834\n",
      "\u001b[34m\u001b[1mwandb\u001b[0m: \tloss: l1_custom\n",
      "\u001b[34m\u001b[1mwandb\u001b[0m: \tnum_layers: 2\n",
      "\u001b[34m\u001b[1mwandb\u001b[0m: \toptimizer: adam\n",
      "\u001b[34m\u001b[1mwandb\u001b[0m: \tvalidation_split: 0.1\n",
      "Failed to detect the name of this notebook, you can set it manually with the WANDB_NOTEBOOK_NAME environment variable to enable code saving.\n",
      "\u001b[34m\u001b[1mwandb\u001b[0m: \u001b[33mWARNING\u001b[0m Ignored wandb.init() arg project when running a sweep.\n"
     ]
    },
    {
     "data": {
      "text/html": [
       "wandb version 0.13.2 is available!  To upgrade, please run:\n",
       " $ pip install wandb --upgrade"
      ],
      "text/plain": [
       "<IPython.core.display.HTML object>"
      ]
     },
     "metadata": {},
     "output_type": "display_data"
    },
    {
     "data": {
      "text/html": [
       "Tracking run with wandb version 0.12.14"
      ],
      "text/plain": [
       "<IPython.core.display.HTML object>"
      ]
     },
     "metadata": {},
     "output_type": "display_data"
    },
    {
     "data": {
      "text/html": [
       "Run data is saved locally in <code>c:\\Users\\Nick\\Documents\\GitHub\\grvmodel\\Python\\pytorch\\New Model\\wandb\\run-20220825_125234-yw78u45r</code>"
      ],
      "text/plain": [
       "<IPython.core.display.HTML object>"
      ]
     },
     "metadata": {},
     "output_type": "display_data"
    },
    {
     "data": {
      "text/html": [
       "Syncing run <strong><a href=\"https://wandb.ai/nickojelly/grv_priced_sweep_custom/runs/yw78u45r\" target=\"_blank\">volcanic-sweep-75</a></strong> to <a href=\"https://wandb.ai/nickojelly/grv_priced_sweep_custom\" target=\"_blank\">Weights & Biases</a> (<a href=\"https://wandb.me/run\" target=\"_blank\">docs</a>)<br/>Sweep page:  <a href=\"https://wandb.ai/nickojelly/grv_priced_sweep_custom/sweeps/nwqxajsa\" target=\"_blank\">https://wandb.ai/nickojelly/grv_priced_sweep_custom/sweeps/nwqxajsa</a>"
      ],
      "text/plain": [
       "<IPython.core.display.HTML object>"
      ]
     },
     "metadata": {},
     "output_type": "display_data"
    },
    {
     "name": "stderr",
     "output_type": "stream",
     "text": [
      "  0%|          | 0/100 [00:00<?, ?it/s]"
     ]
    },
    {
     "name": "stdout",
     "output_type": "stream",
     "text": [
      "{'batch_size': 64, 'dropout': 0.5, 'epochs': 100, 'f1_layer_size': 256, 'f2_layer_size': 64, 'l1_beta': 0.398677938682266, 'learning_rate': 0.00045227990148561834, 'loss': 'l1_custom', 'num_layers': 2, 'optimizer': 'adam', 'validation_split': 0.1}\n",
      "100\n",
      "{'batch_size': 64, 'dropout': 0.5, 'epochs': 100, 'f1_layer_size': 256, 'f2_layer_size': 64, 'l1_beta': 0.398677938682266, 'learning_rate': 0.00045227990148561834, 'loss': 'l1_custom', 'num_layers': 2, 'optimizer': 'adam', 'validation_split': 0.1}\n",
      "Sequential(\n",
      "  (0): Linear(in_features=120, out_features=256, bias=True)\n",
      "  (1): ReLU()\n",
      "  (2): Dropout(p=0.5, inplace=False)\n",
      "  (3): Linear(in_features=256, out_features=64, bias=True)\n",
      "  (4): ReLU()\n",
      "  (5): Dropout(p=0.5, inplace=False)\n",
      "  (6): Linear(in_features=64, out_features=8, bias=True)\n",
      "  (7): Softmax(dim=1)\n",
      ")\n"
     ]
    },
    {
     "name": "stderr",
     "output_type": "stream",
     "text": [
      "  1%|          | 1/100 [00:14<23:49, 14.44s/it]"
     ]
    },
    {
     "name": "stdout",
     "output_type": "stream",
     "text": [
      "created path\n"
     ]
    },
    {
     "name": "stderr",
     "output_type": "stream",
     "text": [
      "100%|██████████| 100/100 [08:24<00:00,  5.04s/it]"
     ]
    },
    {
     "name": "stdout",
     "output_type": "stream",
     "text": [
      "\n"
     ]
    },
    {
     "name": "stderr",
     "output_type": "stream",
     "text": [
      "\n"
     ]
    },
    {
     "data": {
      "text/html": [
       "Waiting for W&B process to finish... <strong style=\"color:green\">(success).</strong>"
      ],
      "text/plain": [
       "<IPython.core.display.HTML object>"
      ]
     },
     "metadata": {},
     "output_type": "display_data"
    },
    {
     "data": {
      "application/vnd.jupyter.widget-view+json": {
       "model_id": "b3f5a364cb924b358e5ccd20e4f7d27b",
       "version_major": 2,
       "version_minor": 0
      },
      "text/plain": [
       "VBox(children=(Label(value='0.001 MB of 0.001 MB uploaded (0.000 MB deduped)\\r'), FloatProgress(value=1.0, max…"
      ]
     },
     "metadata": {},
     "output_type": "display_data"
    },
    {
     "data": {
      "text/html": [
       "<style>\n",
       "    table.wandb td:nth-child(1) { padding: 0 10px; text-align: right }\n",
       "    .wandb-row { display: flex; flex-direction: row; flex-wrap: wrap; width: 100% }\n",
       "    .wandb-col { display: flex; flex-direction: column; flex-basis: 100%; flex: 1; padding: 10px; }\n",
       "    </style>\n",
       "<div class=\"wandb-row\"><div class=\"wandb-col\"><h3>Run history:</h3><br/><table class=\"wandb\"><tr><td>bfnotavail</td><td>▁▁▁▁▁▁▁▁▁▁</td></tr><tr><td>bfprofit</td><td>▁▁▁▁▁▁▁▁▁▁</td></tr><tr><td>correct_conf</td><td>▁█████████</td></tr><tr><td>epoch</td><td>▁▁▁▁▂▂▂▂▂▃▃▃▃▃▃▄▄▄▄▄▅▅▅▅▅▅▆▆▆▆▆▇▇▇▇▇▇███</td></tr><tr><td>incorrect_conf</td><td>▁█████████</td></tr><tr><td>loss</td><td>▄▇▃▂▁▆▃▄▆▃▂▂▃▅▅▆▅▅▄▃▃▅▄▅▅▆▄▄▅▅▆▆▇▄█▆▄▄▃▃</td></tr><tr><td>num_bets_per</td><td>█▄▆▃▇▁▃▅▇▄</td></tr><tr><td>profit</td><td>▁▁▁▁▁▁▁▁▁▁</td></tr><tr><td>test_accuracy</td><td>▁▁▁▁▁▁▁▁▁▁</td></tr><tr><td>value_pick_roi</td><td>█▂▃▄▂▁▄▆▂▃</td></tr></table><br/></div><div class=\"wandb-col\"><h3>Run summary:</h3><br/><table class=\"wandb\"><tr><td>bfnotavail</td><td>558</td></tr><tr><td>correct_conf</td><td>0.15505</td></tr><tr><td>epoch</td><td>99</td></tr><tr><td>incorrect_conf</td><td>0.15504</td></tr><tr><td>num_bets_per</td><td>4.04019</td></tr><tr><td>profit</td><td>-1290.75999</td></tr><tr><td>value_pick_roi</td><td>-0.28407</td></tr></table><br/></div></div>"
      ],
      "text/plain": [
       "<IPython.core.display.HTML object>"
      ]
     },
     "metadata": {},
     "output_type": "display_data"
    },
    {
     "data": {
      "text/html": [
       "Synced <strong style=\"color:#cdcd00\">volcanic-sweep-75</strong>: <a href=\"https://wandb.ai/nickojelly/grv_priced_sweep_custom/runs/yw78u45r\" target=\"_blank\">https://wandb.ai/nickojelly/grv_priced_sweep_custom/runs/yw78u45r</a><br/>Synced 5 W&B file(s), 0 media file(s), 0 artifact file(s) and 0 other file(s)"
      ],
      "text/plain": [
       "<IPython.core.display.HTML object>"
      ]
     },
     "metadata": {},
     "output_type": "display_data"
    },
    {
     "data": {
      "text/html": [
       "Find logs at: <code>.\\wandb\\run-20220825_125234-yw78u45r\\logs</code>"
      ],
      "text/plain": [
       "<IPython.core.display.HTML object>"
      ]
     },
     "metadata": {},
     "output_type": "display_data"
    },
    {
     "name": "stderr",
     "output_type": "stream",
     "text": [
      "\u001b[34m\u001b[1mwandb\u001b[0m: Agent Starting Run: k5zoox0h with config:\n",
      "\u001b[34m\u001b[1mwandb\u001b[0m: \tbatch_size: 128\n",
      "\u001b[34m\u001b[1mwandb\u001b[0m: \tdropout: 0.3\n",
      "\u001b[34m\u001b[1mwandb\u001b[0m: \tepochs: 100\n",
      "\u001b[34m\u001b[1mwandb\u001b[0m: \tf1_layer_size: 128\n",
      "\u001b[34m\u001b[1mwandb\u001b[0m: \tf2_layer_size: 64\n",
      "\u001b[34m\u001b[1mwandb\u001b[0m: \tl1_beta: 0.18259074957958257\n",
      "\u001b[34m\u001b[1mwandb\u001b[0m: \tlearning_rate: 0.00016949073393925297\n",
      "\u001b[34m\u001b[1mwandb\u001b[0m: \tloss: l1_custom\n",
      "\u001b[34m\u001b[1mwandb\u001b[0m: \tnum_layers: 2\n",
      "\u001b[34m\u001b[1mwandb\u001b[0m: \toptimizer: adam\n",
      "\u001b[34m\u001b[1mwandb\u001b[0m: \tvalidation_split: 0.1\n",
      "Failed to detect the name of this notebook, you can set it manually with the WANDB_NOTEBOOK_NAME environment variable to enable code saving.\n",
      "\u001b[34m\u001b[1mwandb\u001b[0m: \u001b[33mWARNING\u001b[0m Ignored wandb.init() arg project when running a sweep.\n"
     ]
    },
    {
     "data": {
      "text/html": [
       "wandb version 0.13.2 is available!  To upgrade, please run:\n",
       " $ pip install wandb --upgrade"
      ],
      "text/plain": [
       "<IPython.core.display.HTML object>"
      ]
     },
     "metadata": {},
     "output_type": "display_data"
    },
    {
     "data": {
      "text/html": [
       "Tracking run with wandb version 0.12.14"
      ],
      "text/plain": [
       "<IPython.core.display.HTML object>"
      ]
     },
     "metadata": {},
     "output_type": "display_data"
    },
    {
     "data": {
      "text/html": [
       "Run data is saved locally in <code>c:\\Users\\Nick\\Documents\\GitHub\\grvmodel\\Python\\pytorch\\New Model\\wandb\\run-20220825_130111-k5zoox0h</code>"
      ],
      "text/plain": [
       "<IPython.core.display.HTML object>"
      ]
     },
     "metadata": {},
     "output_type": "display_data"
    },
    {
     "data": {
      "text/html": [
       "Syncing run <strong><a href=\"https://wandb.ai/nickojelly/grv_priced_sweep_custom/runs/k5zoox0h\" target=\"_blank\">devout-sweep-76</a></strong> to <a href=\"https://wandb.ai/nickojelly/grv_priced_sweep_custom\" target=\"_blank\">Weights & Biases</a> (<a href=\"https://wandb.me/run\" target=\"_blank\">docs</a>)<br/>Sweep page:  <a href=\"https://wandb.ai/nickojelly/grv_priced_sweep_custom/sweeps/nwqxajsa\" target=\"_blank\">https://wandb.ai/nickojelly/grv_priced_sweep_custom/sweeps/nwqxajsa</a>"
      ],
      "text/plain": [
       "<IPython.core.display.HTML object>"
      ]
     },
     "metadata": {},
     "output_type": "display_data"
    },
    {
     "name": "stderr",
     "output_type": "stream",
     "text": [
      "  0%|          | 0/100 [00:00<?, ?it/s]"
     ]
    },
    {
     "name": "stdout",
     "output_type": "stream",
     "text": [
      "{'batch_size': 128, 'dropout': 0.3, 'epochs': 100, 'f1_layer_size': 128, 'f2_layer_size': 64, 'l1_beta': 0.18259074957958257, 'learning_rate': 0.00016949073393925297, 'loss': 'l1_custom', 'num_layers': 2, 'optimizer': 'adam', 'validation_split': 0.1}\n",
      "100\n",
      "{'batch_size': 128, 'dropout': 0.3, 'epochs': 100, 'f1_layer_size': 128, 'f2_layer_size': 64, 'l1_beta': 0.18259074957958257, 'learning_rate': 0.00016949073393925297, 'loss': 'l1_custom', 'num_layers': 2, 'optimizer': 'adam', 'validation_split': 0.1}\n",
      "Sequential(\n",
      "  (0): Linear(in_features=120, out_features=128, bias=True)\n",
      "  (1): ReLU()\n",
      "  (2): Dropout(p=0.3, inplace=False)\n",
      "  (3): Linear(in_features=128, out_features=64, bias=True)\n",
      "  (4): ReLU()\n",
      "  (5): Dropout(p=0.3, inplace=False)\n",
      "  (6): Linear(in_features=64, out_features=8, bias=True)\n",
      "  (7): Softmax(dim=1)\n",
      ")\n"
     ]
    },
    {
     "name": "stderr",
     "output_type": "stream",
     "text": [
      "  1%|          | 1/100 [00:12<20:49, 12.62s/it]"
     ]
    },
    {
     "name": "stdout",
     "output_type": "stream",
     "text": [
      "created path\n"
     ]
    },
    {
     "name": "stderr",
     "output_type": "stream",
     "text": [
      "100%|██████████| 100/100 [05:57<00:00,  3.57s/it]\n"
     ]
    },
    {
     "name": "stdout",
     "output_type": "stream",
     "text": [
      "\n"
     ]
    },
    {
     "data": {
      "text/html": [
       "Waiting for W&B process to finish... <strong style=\"color:green\">(success).</strong>"
      ],
      "text/plain": [
       "<IPython.core.display.HTML object>"
      ]
     },
     "metadata": {},
     "output_type": "display_data"
    },
    {
     "data": {
      "application/vnd.jupyter.widget-view+json": {
       "model_id": "da8383507adb44b7a3601517baf832b6",
       "version_major": 2,
       "version_minor": 0
      },
      "text/plain": [
       "VBox(children=(Label(value='0.001 MB of 0.001 MB uploaded (0.000 MB deduped)\\r'), FloatProgress(value=1.0, max…"
      ]
     },
     "metadata": {},
     "output_type": "display_data"
    },
    {
     "data": {
      "text/html": [
       "<style>\n",
       "    table.wandb td:nth-child(1) { padding: 0 10px; text-align: right }\n",
       "    .wandb-row { display: flex; flex-direction: row; flex-wrap: wrap; width: 100% }\n",
       "    .wandb-col { display: flex; flex-direction: column; flex-basis: 100%; flex: 1; padding: 10px; }\n",
       "    </style>\n",
       "<div class=\"wandb-row\"><div class=\"wandb-col\"><h3>Run history:</h3><br/><table class=\"wandb\"><tr><td>bfnotavail</td><td>█▁▂▂▂▃▃▅▅▆</td></tr><tr><td>bfprofit</td><td>█▁▆▆▅▆▄▇▇█</td></tr><tr><td>correct_conf</td><td>▁▃██▇▇▇▇▇▇</td></tr><tr><td>epoch</td><td>▁▁▁▁▂▂▂▂▂▃▃▃▃▃▃▄▄▄▄▄▅▅▅▅▅▅▆▆▆▆▆▇▇▇▇▇▇███</td></tr><tr><td>incorrect_conf</td><td>▁▃▇▇▇▇▇▇▇█</td></tr><tr><td>loss</td><td>▆▆██▆▄▃▄▃▅▄▃▃▃▃▃▃▄▃▄▄▃▃▅▃▁▂▅▁▁▂▄▃▁▃▁▂▃▃▂</td></tr><tr><td>num_bets_per</td><td>▇█▂▄▃▄▃▃▂▁</td></tr><tr><td>profit</td><td>▆▁▅▅▄▅▄▆▆█</td></tr><tr><td>test_accuracy</td><td>▄▁▂▂▃▃▅▇▇█</td></tr><tr><td>value_pick_roi</td><td>▄▇▁▃▂▄▃▅▆█</td></tr></table><br/></div><div class=\"wandb-col\"><h3>Run summary:</h3><br/><table class=\"wandb\"><tr><td>bfnotavail</td><td>507</td></tr><tr><td>correct_conf</td><td>0.29882</td></tr><tr><td>epoch</td><td>99</td></tr><tr><td>incorrect_conf</td><td>0.35351</td></tr><tr><td>num_bets_per</td><td>3.60152</td></tr><tr><td>profit</td><td>-1050.94</td></tr><tr><td>value_pick_roi</td><td>-0.27452</td></tr></table><br/></div></div>"
      ],
      "text/plain": [
       "<IPython.core.display.HTML object>"
      ]
     },
     "metadata": {},
     "output_type": "display_data"
    },
    {
     "data": {
      "text/html": [
       "Synced <strong style=\"color:#cdcd00\">devout-sweep-76</strong>: <a href=\"https://wandb.ai/nickojelly/grv_priced_sweep_custom/runs/k5zoox0h\" target=\"_blank\">https://wandb.ai/nickojelly/grv_priced_sweep_custom/runs/k5zoox0h</a><br/>Synced 5 W&B file(s), 0 media file(s), 0 artifact file(s) and 0 other file(s)"
      ],
      "text/plain": [
       "<IPython.core.display.HTML object>"
      ]
     },
     "metadata": {},
     "output_type": "display_data"
    },
    {
     "data": {
      "text/html": [
       "Find logs at: <code>.\\wandb\\run-20220825_130111-k5zoox0h\\logs</code>"
      ],
      "text/plain": [
       "<IPython.core.display.HTML object>"
      ]
     },
     "metadata": {},
     "output_type": "display_data"
    },
    {
     "name": "stderr",
     "output_type": "stream",
     "text": [
      "\u001b[34m\u001b[1mwandb\u001b[0m: Sweep Agent: Waiting for job.\n",
      "\u001b[34m\u001b[1mwandb\u001b[0m: Job received.\n",
      "\u001b[34m\u001b[1mwandb\u001b[0m: Agent Starting Run: rq9twazl with config:\n",
      "\u001b[34m\u001b[1mwandb\u001b[0m: \tbatch_size: 720\n",
      "\u001b[34m\u001b[1mwandb\u001b[0m: \tdropout: 0.5\n",
      "\u001b[34m\u001b[1mwandb\u001b[0m: \tepochs: 100\n",
      "\u001b[34m\u001b[1mwandb\u001b[0m: \tf1_layer_size: 128\n",
      "\u001b[34m\u001b[1mwandb\u001b[0m: \tf2_layer_size: 128\n",
      "\u001b[34m\u001b[1mwandb\u001b[0m: \tl1_beta: 0.46947679132017217\n",
      "\u001b[34m\u001b[1mwandb\u001b[0m: \tlearning_rate: 0.0009920773060915146\n",
      "\u001b[34m\u001b[1mwandb\u001b[0m: \tloss: l1_custom\n",
      "\u001b[34m\u001b[1mwandb\u001b[0m: \tnum_layers: 2\n",
      "\u001b[34m\u001b[1mwandb\u001b[0m: \toptimizer: adam\n",
      "\u001b[34m\u001b[1mwandb\u001b[0m: \tvalidation_split: 0.1\n",
      "Failed to detect the name of this notebook, you can set it manually with the WANDB_NOTEBOOK_NAME environment variable to enable code saving.\n",
      "\u001b[34m\u001b[1mwandb\u001b[0m: \u001b[33mWARNING\u001b[0m Ignored wandb.init() arg project when running a sweep.\n"
     ]
    },
    {
     "data": {
      "text/html": [
       "wandb version 0.13.2 is available!  To upgrade, please run:\n",
       " $ pip install wandb --upgrade"
      ],
      "text/plain": [
       "<IPython.core.display.HTML object>"
      ]
     },
     "metadata": {},
     "output_type": "display_data"
    },
    {
     "data": {
      "text/html": [
       "Tracking run with wandb version 0.12.14"
      ],
      "text/plain": [
       "<IPython.core.display.HTML object>"
      ]
     },
     "metadata": {},
     "output_type": "display_data"
    },
    {
     "data": {
      "text/html": [
       "Run data is saved locally in <code>c:\\Users\\Nick\\Documents\\GitHub\\grvmodel\\Python\\pytorch\\New Model\\wandb\\run-20220825_130727-rq9twazl</code>"
      ],
      "text/plain": [
       "<IPython.core.display.HTML object>"
      ]
     },
     "metadata": {},
     "output_type": "display_data"
    },
    {
     "data": {
      "text/html": [
       "Syncing run <strong><a href=\"https://wandb.ai/nickojelly/grv_priced_sweep_custom/runs/rq9twazl\" target=\"_blank\">crisp-sweep-77</a></strong> to <a href=\"https://wandb.ai/nickojelly/grv_priced_sweep_custom\" target=\"_blank\">Weights & Biases</a> (<a href=\"https://wandb.me/run\" target=\"_blank\">docs</a>)<br/>Sweep page:  <a href=\"https://wandb.ai/nickojelly/grv_priced_sweep_custom/sweeps/nwqxajsa\" target=\"_blank\">https://wandb.ai/nickojelly/grv_priced_sweep_custom/sweeps/nwqxajsa</a>"
      ],
      "text/plain": [
       "<IPython.core.display.HTML object>"
      ]
     },
     "metadata": {},
     "output_type": "display_data"
    },
    {
     "name": "stderr",
     "output_type": "stream",
     "text": [
      "  0%|          | 0/100 [00:00<?, ?it/s]"
     ]
    },
    {
     "name": "stdout",
     "output_type": "stream",
     "text": [
      "{'batch_size': 720, 'dropout': 0.5, 'epochs': 100, 'f1_layer_size': 128, 'f2_layer_size': 128, 'l1_beta': 0.46947679132017217, 'learning_rate': 0.0009920773060915146, 'loss': 'l1_custom', 'num_layers': 2, 'optimizer': 'adam', 'validation_split': 0.1}\n",
      "100\n",
      "{'batch_size': 720, 'dropout': 0.5, 'epochs': 100, 'f1_layer_size': 128, 'f2_layer_size': 128, 'l1_beta': 0.46947679132017217, 'learning_rate': 0.0009920773060915146, 'loss': 'l1_custom', 'num_layers': 2, 'optimizer': 'adam', 'validation_split': 0.1}\n",
      "Sequential(\n",
      "  (0): Linear(in_features=120, out_features=128, bias=True)\n",
      "  (1): ReLU()\n",
      "  (2): Dropout(p=0.5, inplace=False)\n",
      "  (3): Linear(in_features=128, out_features=128, bias=True)\n",
      "  (4): ReLU()\n",
      "  (5): Dropout(p=0.5, inplace=False)\n",
      "  (6): Linear(in_features=128, out_features=8, bias=True)\n",
      "  (7): Softmax(dim=1)\n",
      ")\n"
     ]
    },
    {
     "name": "stderr",
     "output_type": "stream",
     "text": [
      "  1%|          | 1/100 [00:11<19:40, 11.93s/it]"
     ]
    },
    {
     "name": "stdout",
     "output_type": "stream",
     "text": [
      "created path\n"
     ]
    },
    {
     "name": "stderr",
     "output_type": "stream",
     "text": [
      "100%|██████████| 100/100 [04:19<00:00,  2.59s/it]\n"
     ]
    },
    {
     "name": "stdout",
     "output_type": "stream",
     "text": [
      "\n"
     ]
    },
    {
     "data": {
      "text/html": [
       "Waiting for W&B process to finish... <strong style=\"color:green\">(success).</strong>"
      ],
      "text/plain": [
       "<IPython.core.display.HTML object>"
      ]
     },
     "metadata": {},
     "output_type": "display_data"
    },
    {
     "data": {
      "application/vnd.jupyter.widget-view+json": {
       "model_id": "3982efaf6c4b493382c84cd0f003bbfd",
       "version_major": 2,
       "version_minor": 0
      },
      "text/plain": [
       "VBox(children=(Label(value='0.001 MB of 0.001 MB uploaded (0.000 MB deduped)\\r'), FloatProgress(value=1.0, max…"
      ]
     },
     "metadata": {},
     "output_type": "display_data"
    },
    {
     "data": {
      "text/html": [
       "<style>\n",
       "    table.wandb td:nth-child(1) { padding: 0 10px; text-align: right }\n",
       "    .wandb-row { display: flex; flex-direction: row; flex-wrap: wrap; width: 100% }\n",
       "    .wandb-col { display: flex; flex-direction: column; flex-basis: 100%; flex: 1; padding: 10px; }\n",
       "    </style>\n",
       "<div class=\"wandb-row\"><div class=\"wandb-col\"><h3>Run history:</h3><br/><table class=\"wandb\"><tr><td>bfnotavail</td><td>▁▄▇█▇▇▇█▇█</td></tr><tr><td>bfprofit</td><td>▁▄▇▇▄▇▅▇▆█</td></tr><tr><td>correct_conf</td><td>▁▅▆▆▇▇▇▇██</td></tr><tr><td>epoch</td><td>▁▁▁▂▂▂▂▃▃▃▃▃▄▄▄▄▅▅▅▅▅▆▆▆▆▆▇▇▇▇███</td></tr><tr><td>incorrect_conf</td><td>▁▅▆▆▇▇▇▇██</td></tr><tr><td>loss</td><td>█▄▅▄▃▂▃▄▄▂▂▄▅▂▄▂▂▂▃▄▁▁▂▃▂▁▁▃▁▂▁▃▁</td></tr><tr><td>num_bets_per</td><td>▆█▆▅▄▄▃▄▂▁</td></tr><tr><td>profit</td><td>▁▅▇█▅▇▆█▆█</td></tr><tr><td>test_accuracy</td><td>▁▅██▇█▇█▇▇</td></tr><tr><td>value_pick_roi</td><td>▁▄▆▅▆██▇▇▇</td></tr></table><br/></div><div class=\"wandb-col\"><h3>Run summary:</h3><br/><table class=\"wandb\"><tr><td>bfnotavail</td><td>882</td></tr><tr><td>correct_conf</td><td>0.3162</td></tr><tr><td>epoch</td><td>98</td></tr><tr><td>incorrect_conf</td><td>0.27938</td></tr><tr><td>num_bets_per</td><td>3.8476</td></tr><tr><td>profit</td><td>-798.40001</td></tr><tr><td>value_pick_roi</td><td>-0.26153</td></tr></table><br/></div></div>"
      ],
      "text/plain": [
       "<IPython.core.display.HTML object>"
      ]
     },
     "metadata": {},
     "output_type": "display_data"
    },
    {
     "data": {
      "text/html": [
       "Synced <strong style=\"color:#cdcd00\">crisp-sweep-77</strong>: <a href=\"https://wandb.ai/nickojelly/grv_priced_sweep_custom/runs/rq9twazl\" target=\"_blank\">https://wandb.ai/nickojelly/grv_priced_sweep_custom/runs/rq9twazl</a><br/>Synced 5 W&B file(s), 0 media file(s), 0 artifact file(s) and 0 other file(s)"
      ],
      "text/plain": [
       "<IPython.core.display.HTML object>"
      ]
     },
     "metadata": {},
     "output_type": "display_data"
    },
    {
     "data": {
      "text/html": [
       "Find logs at: <code>.\\wandb\\run-20220825_130727-rq9twazl\\logs</code>"
      ],
      "text/plain": [
       "<IPython.core.display.HTML object>"
      ]
     },
     "metadata": {},
     "output_type": "display_data"
    },
    {
     "name": "stderr",
     "output_type": "stream",
     "text": [
      "\u001b[34m\u001b[1mwandb\u001b[0m: Agent Starting Run: 18h0mofz with config:\n",
      "\u001b[34m\u001b[1mwandb\u001b[0m: \tbatch_size: 720\n",
      "\u001b[34m\u001b[1mwandb\u001b[0m: \tdropout: 0.5\n",
      "\u001b[34m\u001b[1mwandb\u001b[0m: \tepochs: 100\n",
      "\u001b[34m\u001b[1mwandb\u001b[0m: \tf1_layer_size: 128\n",
      "\u001b[34m\u001b[1mwandb\u001b[0m: \tf2_layer_size: 64\n",
      "\u001b[34m\u001b[1mwandb\u001b[0m: \tl1_beta: 0.6079829294859748\n",
      "\u001b[34m\u001b[1mwandb\u001b[0m: \tlearning_rate: 0.0006161023002395712\n",
      "\u001b[34m\u001b[1mwandb\u001b[0m: \tloss: l1_custom\n",
      "\u001b[34m\u001b[1mwandb\u001b[0m: \tnum_layers: 2\n",
      "\u001b[34m\u001b[1mwandb\u001b[0m: \toptimizer: adam\n",
      "\u001b[34m\u001b[1mwandb\u001b[0m: \tvalidation_split: 0.1\n",
      "Failed to detect the name of this notebook, you can set it manually with the WANDB_NOTEBOOK_NAME environment variable to enable code saving.\n",
      "\u001b[34m\u001b[1mwandb\u001b[0m: \u001b[33mWARNING\u001b[0m Ignored wandb.init() arg project when running a sweep.\n"
     ]
    },
    {
     "data": {
      "text/html": [
       "wandb version 0.13.2 is available!  To upgrade, please run:\n",
       " $ pip install wandb --upgrade"
      ],
      "text/plain": [
       "<IPython.core.display.HTML object>"
      ]
     },
     "metadata": {},
     "output_type": "display_data"
    },
    {
     "data": {
      "text/html": [
       "Tracking run with wandb version 0.12.14"
      ],
      "text/plain": [
       "<IPython.core.display.HTML object>"
      ]
     },
     "metadata": {},
     "output_type": "display_data"
    },
    {
     "data": {
      "text/html": [
       "Run data is saved locally in <code>c:\\Users\\Nick\\Documents\\GitHub\\grvmodel\\Python\\pytorch\\New Model\\wandb\\run-20220825_131156-18h0mofz</code>"
      ],
      "text/plain": [
       "<IPython.core.display.HTML object>"
      ]
     },
     "metadata": {},
     "output_type": "display_data"
    },
    {
     "data": {
      "text/html": [
       "Syncing run <strong><a href=\"https://wandb.ai/nickojelly/grv_priced_sweep_custom/runs/18h0mofz\" target=\"_blank\">breezy-sweep-78</a></strong> to <a href=\"https://wandb.ai/nickojelly/grv_priced_sweep_custom\" target=\"_blank\">Weights & Biases</a> (<a href=\"https://wandb.me/run\" target=\"_blank\">docs</a>)<br/>Sweep page:  <a href=\"https://wandb.ai/nickojelly/grv_priced_sweep_custom/sweeps/nwqxajsa\" target=\"_blank\">https://wandb.ai/nickojelly/grv_priced_sweep_custom/sweeps/nwqxajsa</a>"
      ],
      "text/plain": [
       "<IPython.core.display.HTML object>"
      ]
     },
     "metadata": {},
     "output_type": "display_data"
    },
    {
     "name": "stderr",
     "output_type": "stream",
     "text": [
      "  0%|          | 0/100 [00:00<?, ?it/s]"
     ]
    },
    {
     "name": "stdout",
     "output_type": "stream",
     "text": [
      "{'batch_size': 720, 'dropout': 0.5, 'epochs': 100, 'f1_layer_size': 128, 'f2_layer_size': 64, 'l1_beta': 0.6079829294859748, 'learning_rate': 0.0006161023002395712, 'loss': 'l1_custom', 'num_layers': 2, 'optimizer': 'adam', 'validation_split': 0.1}\n",
      "100\n",
      "{'batch_size': 720, 'dropout': 0.5, 'epochs': 100, 'f1_layer_size': 128, 'f2_layer_size': 64, 'l1_beta': 0.6079829294859748, 'learning_rate': 0.0006161023002395712, 'loss': 'l1_custom', 'num_layers': 2, 'optimizer': 'adam', 'validation_split': 0.1}\n",
      "Sequential(\n",
      "  (0): Linear(in_features=120, out_features=128, bias=True)\n",
      "  (1): ReLU()\n",
      "  (2): Dropout(p=0.5, inplace=False)\n",
      "  (3): Linear(in_features=128, out_features=64, bias=True)\n",
      "  (4): ReLU()\n",
      "  (5): Dropout(p=0.5, inplace=False)\n",
      "  (6): Linear(in_features=64, out_features=8, bias=True)\n",
      "  (7): Softmax(dim=1)\n",
      ")\n"
     ]
    },
    {
     "name": "stderr",
     "output_type": "stream",
     "text": [
      "  1%|          | 1/100 [00:11<19:07, 11.59s/it]"
     ]
    },
    {
     "name": "stdout",
     "output_type": "stream",
     "text": [
      "created path\n"
     ]
    },
    {
     "name": "stderr",
     "output_type": "stream",
     "text": [
      "100%|██████████| 100/100 [04:18<00:00,  2.58s/it]\n"
     ]
    },
    {
     "name": "stdout",
     "output_type": "stream",
     "text": [
      "\n"
     ]
    },
    {
     "data": {
      "text/html": [
       "Waiting for W&B process to finish... <strong style=\"color:green\">(success).</strong>"
      ],
      "text/plain": [
       "<IPython.core.display.HTML object>"
      ]
     },
     "metadata": {},
     "output_type": "display_data"
    },
    {
     "data": {
      "application/vnd.jupyter.widget-view+json": {
       "model_id": "b859e28fa87a4c3fa1d6bbd4d19d8c82",
       "version_major": 2,
       "version_minor": 0
      },
      "text/plain": [
       "VBox(children=(Label(value='0.001 MB of 0.001 MB uploaded (0.000 MB deduped)\\r'), FloatProgress(value=1.0, max…"
      ]
     },
     "metadata": {},
     "output_type": "display_data"
    },
    {
     "data": {
      "text/html": [
       "<style>\n",
       "    table.wandb td:nth-child(1) { padding: 0 10px; text-align: right }\n",
       "    .wandb-row { display: flex; flex-direction: row; flex-wrap: wrap; width: 100% }\n",
       "    .wandb-col { display: flex; flex-direction: column; flex-basis: 100%; flex: 1; padding: 10px; }\n",
       "    </style>\n",
       "<div class=\"wandb-row\"><div class=\"wandb-col\"><h3>Run history:</h3><br/><table class=\"wandb\"><tr><td>bfnotavail</td><td>▁█████████</td></tr><tr><td>bfprofit</td><td>▁█████████</td></tr><tr><td>correct_conf</td><td>▁▄████████</td></tr><tr><td>epoch</td><td>▁▁▁▂▂▂▂▃▃▃▃▃▄▄▄▄▅▅▅▅▅▆▆▆▆▆▇▇▇▇███</td></tr><tr><td>incorrect_conf</td><td>▁▄████████</td></tr><tr><td>loss</td><td>▆▄▂▅▃▅▆▄▄▄▁▆▂▅█▄▃▄▄▃▂▃▅▇▂▅▅▃▄▂█▆▄</td></tr><tr><td>num_bets_per</td><td>▁▇▇▇▆▇▇▇▇█</td></tr><tr><td>profit</td><td>▁█████████</td></tr><tr><td>test_accuracy</td><td>▁█████████</td></tr><tr><td>value_pick_roi</td><td>▁▇▇█▇██▇▇█</td></tr></table><br/></div><div class=\"wandb-col\"><h3>Run summary:</h3><br/><table class=\"wandb\"><tr><td>bfnotavail</td><td>558</td></tr><tr><td>correct_conf</td><td>0.14983</td></tr><tr><td>epoch</td><td>98</td></tr><tr><td>incorrect_conf</td><td>0.14984</td></tr><tr><td>num_bets_per</td><td>4.0638</td></tr><tr><td>profit</td><td>-1290.75999</td></tr><tr><td>value_pick_roi</td><td>-0.28055</td></tr></table><br/></div></div>"
      ],
      "text/plain": [
       "<IPython.core.display.HTML object>"
      ]
     },
     "metadata": {},
     "output_type": "display_data"
    },
    {
     "data": {
      "text/html": [
       "Synced <strong style=\"color:#cdcd00\">breezy-sweep-78</strong>: <a href=\"https://wandb.ai/nickojelly/grv_priced_sweep_custom/runs/18h0mofz\" target=\"_blank\">https://wandb.ai/nickojelly/grv_priced_sweep_custom/runs/18h0mofz</a><br/>Synced 5 W&B file(s), 0 media file(s), 0 artifact file(s) and 0 other file(s)"
      ],
      "text/plain": [
       "<IPython.core.display.HTML object>"
      ]
     },
     "metadata": {},
     "output_type": "display_data"
    },
    {
     "data": {
      "text/html": [
       "Find logs at: <code>.\\wandb\\run-20220825_131156-18h0mofz\\logs</code>"
      ],
      "text/plain": [
       "<IPython.core.display.HTML object>"
      ]
     },
     "metadata": {},
     "output_type": "display_data"
    },
    {
     "name": "stderr",
     "output_type": "stream",
     "text": [
      "\u001b[34m\u001b[1mwandb\u001b[0m: Agent Starting Run: 2drrhtax with config:\n",
      "\u001b[34m\u001b[1mwandb\u001b[0m: \tbatch_size: 360\n",
      "\u001b[34m\u001b[1mwandb\u001b[0m: \tdropout: 0.5\n",
      "\u001b[34m\u001b[1mwandb\u001b[0m: \tepochs: 100\n",
      "\u001b[34m\u001b[1mwandb\u001b[0m: \tf1_layer_size: 256\n",
      "\u001b[34m\u001b[1mwandb\u001b[0m: \tf2_layer_size: 128\n",
      "\u001b[34m\u001b[1mwandb\u001b[0m: \tl1_beta: 0.7696762633086299\n",
      "\u001b[34m\u001b[1mwandb\u001b[0m: \tlearning_rate: 0.0004337371350541134\n",
      "\u001b[34m\u001b[1mwandb\u001b[0m: \tloss: l1_custom\n",
      "\u001b[34m\u001b[1mwandb\u001b[0m: \tnum_layers: 2\n",
      "\u001b[34m\u001b[1mwandb\u001b[0m: \toptimizer: adam\n",
      "\u001b[34m\u001b[1mwandb\u001b[0m: \tvalidation_split: 0.1\n",
      "Failed to detect the name of this notebook, you can set it manually with the WANDB_NOTEBOOK_NAME environment variable to enable code saving.\n",
      "\u001b[34m\u001b[1mwandb\u001b[0m: \u001b[33mWARNING\u001b[0m Ignored wandb.init() arg project when running a sweep.\n"
     ]
    },
    {
     "data": {
      "text/html": [
       "wandb version 0.13.2 is available!  To upgrade, please run:\n",
       " $ pip install wandb --upgrade"
      ],
      "text/plain": [
       "<IPython.core.display.HTML object>"
      ]
     },
     "metadata": {},
     "output_type": "display_data"
    },
    {
     "data": {
      "text/html": [
       "Tracking run with wandb version 0.12.14"
      ],
      "text/plain": [
       "<IPython.core.display.HTML object>"
      ]
     },
     "metadata": {},
     "output_type": "display_data"
    },
    {
     "data": {
      "text/html": [
       "Run data is saved locally in <code>c:\\Users\\Nick\\Documents\\GitHub\\grvmodel\\Python\\pytorch\\New Model\\wandb\\run-20220825_131629-2drrhtax</code>"
      ],
      "text/plain": [
       "<IPython.core.display.HTML object>"
      ]
     },
     "metadata": {},
     "output_type": "display_data"
    },
    {
     "data": {
      "text/html": [
       "Syncing run <strong><a href=\"https://wandb.ai/nickojelly/grv_priced_sweep_custom/runs/2drrhtax\" target=\"_blank\">leafy-sweep-79</a></strong> to <a href=\"https://wandb.ai/nickojelly/grv_priced_sweep_custom\" target=\"_blank\">Weights & Biases</a> (<a href=\"https://wandb.me/run\" target=\"_blank\">docs</a>)<br/>Sweep page:  <a href=\"https://wandb.ai/nickojelly/grv_priced_sweep_custom/sweeps/nwqxajsa\" target=\"_blank\">https://wandb.ai/nickojelly/grv_priced_sweep_custom/sweeps/nwqxajsa</a>"
      ],
      "text/plain": [
       "<IPython.core.display.HTML object>"
      ]
     },
     "metadata": {},
     "output_type": "display_data"
    },
    {
     "name": "stderr",
     "output_type": "stream",
     "text": [
      "  0%|          | 0/100 [00:00<?, ?it/s]"
     ]
    },
    {
     "name": "stdout",
     "output_type": "stream",
     "text": [
      "{'batch_size': 360, 'dropout': 0.5, 'epochs': 100, 'f1_layer_size': 256, 'f2_layer_size': 128, 'l1_beta': 0.7696762633086299, 'learning_rate': 0.0004337371350541134, 'loss': 'l1_custom', 'num_layers': 2, 'optimizer': 'adam', 'validation_split': 0.1}\n",
      "100\n",
      "{'batch_size': 360, 'dropout': 0.5, 'epochs': 100, 'f1_layer_size': 256, 'f2_layer_size': 128, 'l1_beta': 0.7696762633086299, 'learning_rate': 0.0004337371350541134, 'loss': 'l1_custom', 'num_layers': 2, 'optimizer': 'adam', 'validation_split': 0.1}\n",
      "Sequential(\n",
      "  (0): Linear(in_features=120, out_features=256, bias=True)\n",
      "  (1): ReLU()\n",
      "  (2): Dropout(p=0.5, inplace=False)\n",
      "  (3): Linear(in_features=256, out_features=128, bias=True)\n",
      "  (4): ReLU()\n",
      "  (5): Dropout(p=0.5, inplace=False)\n",
      "  (6): Linear(in_features=128, out_features=8, bias=True)\n",
      "  (7): Softmax(dim=1)\n",
      ")\n"
     ]
    },
    {
     "name": "stderr",
     "output_type": "stream",
     "text": [
      "  1%|          | 1/100 [00:12<20:53, 12.66s/it]"
     ]
    },
    {
     "name": "stdout",
     "output_type": "stream",
     "text": [
      "created path\n"
     ]
    },
    {
     "name": "stderr",
     "output_type": "stream",
     "text": [
      "100%|██████████| 100/100 [04:45<00:00,  2.86s/it]\n"
     ]
    },
    {
     "name": "stdout",
     "output_type": "stream",
     "text": [
      "\n"
     ]
    },
    {
     "data": {
      "text/html": [
       "Waiting for W&B process to finish... <strong style=\"color:green\">(success).</strong>"
      ],
      "text/plain": [
       "<IPython.core.display.HTML object>"
      ]
     },
     "metadata": {},
     "output_type": "display_data"
    },
    {
     "data": {
      "application/vnd.jupyter.widget-view+json": {
       "model_id": "d66c793c69ab4949956870f43565e51f",
       "version_major": 2,
       "version_minor": 0
      },
      "text/plain": [
       "VBox(children=(Label(value='0.001 MB of 0.001 MB uploaded (0.000 MB deduped)\\r'), FloatProgress(value=1.0, max…"
      ]
     },
     "metadata": {},
     "output_type": "display_data"
    },
    {
     "data": {
      "text/html": [
       "<style>\n",
       "    table.wandb td:nth-child(1) { padding: 0 10px; text-align: right }\n",
       "    .wandb-row { display: flex; flex-direction: row; flex-wrap: wrap; width: 100% }\n",
       "    .wandb-col { display: flex; flex-direction: column; flex-basis: 100%; flex: 1; padding: 10px; }\n",
       "    </style>\n",
       "<div class=\"wandb-row\"><div class=\"wandb-col\"><h3>Run history:</h3><br/><table class=\"wandb\"><tr><td>bfnotavail</td><td>▁▁▁▁▁▁▁▁▁▁</td></tr><tr><td>bfprofit</td><td>▁▁▁▁▁▁▁▁▁▁</td></tr><tr><td>correct_conf</td><td>▁▇████████</td></tr><tr><td>epoch</td><td>▁▁▁▁▂▂▂▂▂▃▃▃▃▃▃▄▄▄▄▄▅▅▅▅▅▅▆▆▆▆▆▇▇▇▇▇▇███</td></tr><tr><td>incorrect_conf</td><td>▁▇████████</td></tr><tr><td>loss</td><td>▁▆▃▃▃▂▆▂▂▂▆█▃▄▃▆▅▃▆▇▃▃▅▃▁▅▆▃▃▅▅▂▄▃▁▅▃▄▃▄</td></tr><tr><td>num_bets_per</td><td>█▇▄▃▃▃▁▃▃▃</td></tr><tr><td>profit</td><td>▁▁▁▁▁▁▁▁▁▁</td></tr><tr><td>test_accuracy</td><td>▁▁▁▁▁▁▁▁▁▁</td></tr><tr><td>value_pick_roi</td><td>▁▂█▁▁▁█▁▁▁</td></tr></table><br/></div><div class=\"wandb-col\"><h3>Run summary:</h3><br/><table class=\"wandb\"><tr><td>bfnotavail</td><td>533</td></tr><tr><td>correct_conf</td><td>0.15261</td></tr><tr><td>epoch</td><td>99</td></tr><tr><td>incorrect_conf</td><td>0.1526</td></tr><tr><td>num_bets_per</td><td>4.04482</td></tr><tr><td>profit</td><td>-1286.70001</td></tr><tr><td>value_pick_roi</td><td>-0.28186</td></tr></table><br/></div></div>"
      ],
      "text/plain": [
       "<IPython.core.display.HTML object>"
      ]
     },
     "metadata": {},
     "output_type": "display_data"
    },
    {
     "data": {
      "text/html": [
       "Synced <strong style=\"color:#cdcd00\">leafy-sweep-79</strong>: <a href=\"https://wandb.ai/nickojelly/grv_priced_sweep_custom/runs/2drrhtax\" target=\"_blank\">https://wandb.ai/nickojelly/grv_priced_sweep_custom/runs/2drrhtax</a><br/>Synced 5 W&B file(s), 0 media file(s), 0 artifact file(s) and 0 other file(s)"
      ],
      "text/plain": [
       "<IPython.core.display.HTML object>"
      ]
     },
     "metadata": {},
     "output_type": "display_data"
    },
    {
     "data": {
      "text/html": [
       "Find logs at: <code>.\\wandb\\run-20220825_131629-2drrhtax\\logs</code>"
      ],
      "text/plain": [
       "<IPython.core.display.HTML object>"
      ]
     },
     "metadata": {},
     "output_type": "display_data"
    },
    {
     "name": "stderr",
     "output_type": "stream",
     "text": [
      "\u001b[34m\u001b[1mwandb\u001b[0m: Agent Starting Run: 7j6g799u with config:\n",
      "\u001b[34m\u001b[1mwandb\u001b[0m: \tbatch_size: 32\n",
      "\u001b[34m\u001b[1mwandb\u001b[0m: \tdropout: 0.5\n",
      "\u001b[34m\u001b[1mwandb\u001b[0m: \tepochs: 100\n",
      "\u001b[34m\u001b[1mwandb\u001b[0m: \tf1_layer_size: 64\n",
      "\u001b[34m\u001b[1mwandb\u001b[0m: \tf2_layer_size: 64\n",
      "\u001b[34m\u001b[1mwandb\u001b[0m: \tl1_beta: 0.5391632007400217\n",
      "\u001b[34m\u001b[1mwandb\u001b[0m: \tlearning_rate: 0.0004667554934247221\n",
      "\u001b[34m\u001b[1mwandb\u001b[0m: \tloss: l1_custom\n",
      "\u001b[34m\u001b[1mwandb\u001b[0m: \tnum_layers: 2\n",
      "\u001b[34m\u001b[1mwandb\u001b[0m: \toptimizer: adam\n",
      "\u001b[34m\u001b[1mwandb\u001b[0m: \tvalidation_split: 0.1\n",
      "Failed to detect the name of this notebook, you can set it manually with the WANDB_NOTEBOOK_NAME environment variable to enable code saving.\n",
      "\u001b[34m\u001b[1mwandb\u001b[0m: \u001b[33mWARNING\u001b[0m Ignored wandb.init() arg project when running a sweep.\n"
     ]
    },
    {
     "data": {
      "text/html": [
       "wandb version 0.13.2 is available!  To upgrade, please run:\n",
       " $ pip install wandb --upgrade"
      ],
      "text/plain": [
       "<IPython.core.display.HTML object>"
      ]
     },
     "metadata": {},
     "output_type": "display_data"
    },
    {
     "data": {
      "text/html": [
       "Tracking run with wandb version 0.12.14"
      ],
      "text/plain": [
       "<IPython.core.display.HTML object>"
      ]
     },
     "metadata": {},
     "output_type": "display_data"
    },
    {
     "data": {
      "text/html": [
       "Run data is saved locally in <code>c:\\Users\\Nick\\Documents\\GitHub\\grvmodel\\Python\\pytorch\\New Model\\wandb\\run-20220825_132125-7j6g799u</code>"
      ],
      "text/plain": [
       "<IPython.core.display.HTML object>"
      ]
     },
     "metadata": {},
     "output_type": "display_data"
    },
    {
     "data": {
      "text/html": [
       "Syncing run <strong><a href=\"https://wandb.ai/nickojelly/grv_priced_sweep_custom/runs/7j6g799u\" target=\"_blank\">lilac-sweep-80</a></strong> to <a href=\"https://wandb.ai/nickojelly/grv_priced_sweep_custom\" target=\"_blank\">Weights & Biases</a> (<a href=\"https://wandb.me/run\" target=\"_blank\">docs</a>)<br/>Sweep page:  <a href=\"https://wandb.ai/nickojelly/grv_priced_sweep_custom/sweeps/nwqxajsa\" target=\"_blank\">https://wandb.ai/nickojelly/grv_priced_sweep_custom/sweeps/nwqxajsa</a>"
      ],
      "text/plain": [
       "<IPython.core.display.HTML object>"
      ]
     },
     "metadata": {},
     "output_type": "display_data"
    },
    {
     "name": "stderr",
     "output_type": "stream",
     "text": [
      "  0%|          | 0/100 [00:00<?, ?it/s]"
     ]
    },
    {
     "name": "stdout",
     "output_type": "stream",
     "text": [
      "{'batch_size': 32, 'dropout': 0.5, 'epochs': 100, 'f1_layer_size': 64, 'f2_layer_size': 64, 'l1_beta': 0.5391632007400217, 'learning_rate': 0.0004667554934247221, 'loss': 'l1_custom', 'num_layers': 2, 'optimizer': 'adam', 'validation_split': 0.1}\n",
      "100\n",
      "{'batch_size': 32, 'dropout': 0.5, 'epochs': 100, 'f1_layer_size': 64, 'f2_layer_size': 64, 'l1_beta': 0.5391632007400217, 'learning_rate': 0.0004667554934247221, 'loss': 'l1_custom', 'num_layers': 2, 'optimizer': 'adam', 'validation_split': 0.1}\n",
      "Sequential(\n",
      "  (0): Linear(in_features=120, out_features=64, bias=True)\n",
      "  (1): ReLU()\n",
      "  (2): Dropout(p=0.5, inplace=False)\n",
      "  (3): Linear(in_features=64, out_features=64, bias=True)\n",
      "  (4): ReLU()\n",
      "  (5): Dropout(p=0.5, inplace=False)\n",
      "  (6): Linear(in_features=64, out_features=8, bias=True)\n",
      "  (7): Softmax(dim=1)\n",
      ")\n"
     ]
    },
    {
     "name": "stderr",
     "output_type": "stream",
     "text": [
      "  1%|          | 1/100 [00:16<27:30, 16.67s/it]"
     ]
    },
    {
     "name": "stdout",
     "output_type": "stream",
     "text": [
      "created path\n"
     ]
    },
    {
     "name": "stderr",
     "output_type": "stream",
     "text": [
      "100%|██████████| 100/100 [12:45<00:00,  7.66s/it]\n"
     ]
    },
    {
     "name": "stdout",
     "output_type": "stream",
     "text": [
      "\n"
     ]
    },
    {
     "data": {
      "text/html": [
       "Waiting for W&B process to finish... <strong style=\"color:green\">(success).</strong>"
      ],
      "text/plain": [
       "<IPython.core.display.HTML object>"
      ]
     },
     "metadata": {},
     "output_type": "display_data"
    },
    {
     "data": {
      "application/vnd.jupyter.widget-view+json": {
       "model_id": "f099d32babbc4d559af67ee4f412bb47",
       "version_major": 2,
       "version_minor": 0
      },
      "text/plain": [
       "VBox(children=(Label(value='0.001 MB of 0.001 MB uploaded (0.000 MB deduped)\\r'), FloatProgress(value=1.0, max…"
      ]
     },
     "metadata": {},
     "output_type": "display_data"
    },
    {
     "data": {
      "text/html": [
       "<style>\n",
       "    table.wandb td:nth-child(1) { padding: 0 10px; text-align: right }\n",
       "    .wandb-row { display: flex; flex-direction: row; flex-wrap: wrap; width: 100% }\n",
       "    .wandb-col { display: flex; flex-direction: column; flex-basis: 100%; flex: 1; padding: 10px; }\n",
       "    </style>\n",
       "<div class=\"wandb-row\"><div class=\"wandb-col\"><h3>Run history:</h3><br/><table class=\"wandb\"><tr><td>bfnotavail</td><td>▁▇▅▆▇▇█▆▆▇</td></tr><tr><td>bfprofit</td><td>█▃▃▁▅▅▅▂▂▆</td></tr><tr><td>correct_conf</td><td>▁▇█▇▇▇▇▇██</td></tr><tr><td>epoch</td><td>▁▁▁▁▂▂▂▂▂▃▃▃▃▃▃▄▄▄▄▄▅▅▅▅▅▅▆▆▆▆▆▇▇▇▇▇▇███</td></tr><tr><td>incorrect_conf</td><td>▁▇█▇▇▇▇▇██</td></tr><tr><td>loss</td><td>▄▄▅▅▃▄▄▃▂▃▃▃▅▂▁▅▂▅▄▃▅▃▄▃▇▅▆▄▂▄▃▂▁█▃▅▇▄▂▃</td></tr><tr><td>num_bets_per</td><td>█▂▁▄▅▄▄▂▂▃</td></tr><tr><td>profit</td><td>▅▄▄▁▅▆▆▁▃█</td></tr><tr><td>test_accuracy</td><td>▁▇▆▇▇▇█▇▇█</td></tr><tr><td>value_pick_roi</td><td>▁█▃▄▅▁▅▅▃▆</td></tr></table><br/></div><div class=\"wandb-col\"><h3>Run summary:</h3><br/><table class=\"wandb\"><tr><td>bfnotavail</td><td>883</td></tr><tr><td>correct_conf</td><td>0.27852</td></tr><tr><td>epoch</td><td>99</td></tr><tr><td>incorrect_conf</td><td>0.24815</td></tr><tr><td>num_bets_per</td><td>3.99163</td></tr><tr><td>profit</td><td>-916.9</td></tr><tr><td>value_pick_roi</td><td>-0.26236</td></tr></table><br/></div></div>"
      ],
      "text/plain": [
       "<IPython.core.display.HTML object>"
      ]
     },
     "metadata": {},
     "output_type": "display_data"
    },
    {
     "data": {
      "text/html": [
       "Synced <strong style=\"color:#cdcd00\">lilac-sweep-80</strong>: <a href=\"https://wandb.ai/nickojelly/grv_priced_sweep_custom/runs/7j6g799u\" target=\"_blank\">https://wandb.ai/nickojelly/grv_priced_sweep_custom/runs/7j6g799u</a><br/>Synced 5 W&B file(s), 0 media file(s), 0 artifact file(s) and 0 other file(s)"
      ],
      "text/plain": [
       "<IPython.core.display.HTML object>"
      ]
     },
     "metadata": {},
     "output_type": "display_data"
    },
    {
     "data": {
      "text/html": [
       "Find logs at: <code>.\\wandb\\run-20220825_132125-7j6g799u\\logs</code>"
      ],
      "text/plain": [
       "<IPython.core.display.HTML object>"
      ]
     },
     "metadata": {},
     "output_type": "display_data"
    },
    {
     "name": "stderr",
     "output_type": "stream",
     "text": [
      "\u001b[34m\u001b[1mwandb\u001b[0m: Sweep Agent: Waiting for job.\n",
      "\u001b[34m\u001b[1mwandb\u001b[0m: Job received.\n",
      "\u001b[34m\u001b[1mwandb\u001b[0m: Agent Starting Run: lbu8nhgf with config:\n",
      "\u001b[34m\u001b[1mwandb\u001b[0m: \tbatch_size: 32\n",
      "\u001b[34m\u001b[1mwandb\u001b[0m: \tdropout: 0.3\n",
      "\u001b[34m\u001b[1mwandb\u001b[0m: \tepochs: 100\n",
      "\u001b[34m\u001b[1mwandb\u001b[0m: \tf1_layer_size: 64\n",
      "\u001b[34m\u001b[1mwandb\u001b[0m: \tf2_layer_size: 256\n",
      "\u001b[34m\u001b[1mwandb\u001b[0m: \tl1_beta: 0.8278699880043255\n",
      "\u001b[34m\u001b[1mwandb\u001b[0m: \tlearning_rate: 0.0006191504359365357\n",
      "\u001b[34m\u001b[1mwandb\u001b[0m: \tloss: l1_custom\n",
      "\u001b[34m\u001b[1mwandb\u001b[0m: \tnum_layers: 2\n",
      "\u001b[34m\u001b[1mwandb\u001b[0m: \toptimizer: adam\n",
      "\u001b[34m\u001b[1mwandb\u001b[0m: \tvalidation_split: 0.1\n",
      "Failed to detect the name of this notebook, you can set it manually with the WANDB_NOTEBOOK_NAME environment variable to enable code saving.\n",
      "\u001b[34m\u001b[1mwandb\u001b[0m: \u001b[33mWARNING\u001b[0m Ignored wandb.init() arg project when running a sweep.\n"
     ]
    },
    {
     "data": {
      "text/html": [
       "wandb version 0.13.2 is available!  To upgrade, please run:\n",
       " $ pip install wandb --upgrade"
      ],
      "text/plain": [
       "<IPython.core.display.HTML object>"
      ]
     },
     "metadata": {},
     "output_type": "display_data"
    },
    {
     "data": {
      "text/html": [
       "Tracking run with wandb version 0.12.14"
      ],
      "text/plain": [
       "<IPython.core.display.HTML object>"
      ]
     },
     "metadata": {},
     "output_type": "display_data"
    },
    {
     "data": {
      "text/html": [
       "Run data is saved locally in <code>c:\\Users\\Nick\\Documents\\GitHub\\grvmodel\\Python\\pytorch\\New Model\\wandb\\run-20220825_133430-lbu8nhgf</code>"
      ],
      "text/plain": [
       "<IPython.core.display.HTML object>"
      ]
     },
     "metadata": {},
     "output_type": "display_data"
    },
    {
     "data": {
      "text/html": [
       "Syncing run <strong><a href=\"https://wandb.ai/nickojelly/grv_priced_sweep_custom/runs/lbu8nhgf\" target=\"_blank\">comic-sweep-81</a></strong> to <a href=\"https://wandb.ai/nickojelly/grv_priced_sweep_custom\" target=\"_blank\">Weights & Biases</a> (<a href=\"https://wandb.me/run\" target=\"_blank\">docs</a>)<br/>Sweep page:  <a href=\"https://wandb.ai/nickojelly/grv_priced_sweep_custom/sweeps/nwqxajsa\" target=\"_blank\">https://wandb.ai/nickojelly/grv_priced_sweep_custom/sweeps/nwqxajsa</a>"
      ],
      "text/plain": [
       "<IPython.core.display.HTML object>"
      ]
     },
     "metadata": {},
     "output_type": "display_data"
    },
    {
     "name": "stderr",
     "output_type": "stream",
     "text": [
      "  0%|          | 0/100 [00:00<?, ?it/s]"
     ]
    },
    {
     "name": "stdout",
     "output_type": "stream",
     "text": [
      "{'batch_size': 32, 'dropout': 0.3, 'epochs': 100, 'f1_layer_size': 64, 'f2_layer_size': 256, 'l1_beta': 0.8278699880043255, 'learning_rate': 0.0006191504359365357, 'loss': 'l1_custom', 'num_layers': 2, 'optimizer': 'adam', 'validation_split': 0.1}\n",
      "100\n",
      "{'batch_size': 32, 'dropout': 0.3, 'epochs': 100, 'f1_layer_size': 64, 'f2_layer_size': 256, 'l1_beta': 0.8278699880043255, 'learning_rate': 0.0006191504359365357, 'loss': 'l1_custom', 'num_layers': 2, 'optimizer': 'adam', 'validation_split': 0.1}\n",
      "Sequential(\n",
      "  (0): Linear(in_features=120, out_features=64, bias=True)\n",
      "  (1): ReLU()\n",
      "  (2): Dropout(p=0.3, inplace=False)\n",
      "  (3): Linear(in_features=64, out_features=256, bias=True)\n",
      "  (4): ReLU()\n",
      "  (5): Dropout(p=0.3, inplace=False)\n",
      "  (6): Linear(in_features=256, out_features=8, bias=True)\n",
      "  (7): Softmax(dim=1)\n",
      ")\n"
     ]
    },
    {
     "name": "stderr",
     "output_type": "stream",
     "text": [
      "  1%|          | 1/100 [00:17<28:12, 17.10s/it]"
     ]
    },
    {
     "name": "stdout",
     "output_type": "stream",
     "text": [
      "created path\n"
     ]
    },
    {
     "name": "stderr",
     "output_type": "stream",
     "text": [
      "100%|██████████| 100/100 [12:54<00:00,  7.75s/it]\n"
     ]
    },
    {
     "name": "stdout",
     "output_type": "stream",
     "text": [
      "\n"
     ]
    },
    {
     "data": {
      "text/html": [
       "Waiting for W&B process to finish... <strong style=\"color:green\">(success).</strong>"
      ],
      "text/plain": [
       "<IPython.core.display.HTML object>"
      ]
     },
     "metadata": {},
     "output_type": "display_data"
    },
    {
     "data": {
      "application/vnd.jupyter.widget-view+json": {
       "model_id": "de75439d1be545168e8349572169405f",
       "version_major": 2,
       "version_minor": 0
      },
      "text/plain": [
       "VBox(children=(Label(value='0.001 MB of 0.001 MB uploaded (0.000 MB deduped)\\r'), FloatProgress(value=1.0, max…"
      ]
     },
     "metadata": {},
     "output_type": "display_data"
    },
    {
     "data": {
      "text/html": [
       "<style>\n",
       "    table.wandb td:nth-child(1) { padding: 0 10px; text-align: right }\n",
       "    .wandb-row { display: flex; flex-direction: row; flex-wrap: wrap; width: 100% }\n",
       "    .wandb-col { display: flex; flex-direction: column; flex-basis: 100%; flex: 1; padding: 10px; }\n",
       "    </style>\n",
       "<div class=\"wandb-row\"><div class=\"wandb-col\"><h3>Run history:</h3><br/><table class=\"wandb\"><tr><td>bfnotavail</td><td>▁█▆▇▇▇▇███</td></tr><tr><td>bfprofit</td><td>█▃▁▁▄▄▂▂▄▄</td></tr><tr><td>correct_conf</td><td>▁▆▇▆██▇▇▇▆</td></tr><tr><td>epoch</td><td>▁▁▁▁▂▂▂▂▂▃▃▃▃▃▃▄▄▄▄▄▅▅▅▅▅▅▆▆▆▆▆▇▇▇▇▇▇███</td></tr><tr><td>incorrect_conf</td><td>▁▆▇▅██▇▇▆▆</td></tr><tr><td>loss</td><td>▂▅▄▄▂▂▁▆▂▃▁▂▄█▂▃▃▄▁▄▂█▂▆▄▂▂▅▄▆▅▅▅▄▁▃▄▂▂▆</td></tr><tr><td>num_bets_per</td><td>█▅▄▆▁▂▄▄▄▄</td></tr><tr><td>profit</td><td>█▅▁▁▅▅▃▂▅▅</td></tr><tr><td>test_accuracy</td><td>▁▇▇▇▆▇████</td></tr><tr><td>value_pick_roi</td><td>▃▆▅▄▅▁██▂▅</td></tr></table><br/></div><div class=\"wandb-col\"><h3>Run summary:</h3><br/><table class=\"wandb\"><tr><td>bfnotavail</td><td>933</td></tr><tr><td>correct_conf</td><td>0.2627</td></tr><tr><td>epoch</td><td>99</td></tr><tr><td>incorrect_conf</td><td>0.23575</td></tr><tr><td>num_bets_per</td><td>4.02241</td></tr><tr><td>profit</td><td>-948.40001</td></tr><tr><td>value_pick_roi</td><td>-0.26872</td></tr></table><br/></div></div>"
      ],
      "text/plain": [
       "<IPython.core.display.HTML object>"
      ]
     },
     "metadata": {},
     "output_type": "display_data"
    },
    {
     "data": {
      "text/html": [
       "Synced <strong style=\"color:#cdcd00\">comic-sweep-81</strong>: <a href=\"https://wandb.ai/nickojelly/grv_priced_sweep_custom/runs/lbu8nhgf\" target=\"_blank\">https://wandb.ai/nickojelly/grv_priced_sweep_custom/runs/lbu8nhgf</a><br/>Synced 5 W&B file(s), 0 media file(s), 0 artifact file(s) and 0 other file(s)"
      ],
      "text/plain": [
       "<IPython.core.display.HTML object>"
      ]
     },
     "metadata": {},
     "output_type": "display_data"
    },
    {
     "data": {
      "text/html": [
       "Find logs at: <code>.\\wandb\\run-20220825_133430-lbu8nhgf\\logs</code>"
      ],
      "text/plain": [
       "<IPython.core.display.HTML object>"
      ]
     },
     "metadata": {},
     "output_type": "display_data"
    },
    {
     "name": "stderr",
     "output_type": "stream",
     "text": [
      "\u001b[34m\u001b[1mwandb\u001b[0m: Agent Starting Run: 9wnirb80 with config:\n",
      "\u001b[34m\u001b[1mwandb\u001b[0m: \tbatch_size: 360\n",
      "\u001b[34m\u001b[1mwandb\u001b[0m: \tdropout: 0.4\n",
      "\u001b[34m\u001b[1mwandb\u001b[0m: \tepochs: 100\n",
      "\u001b[34m\u001b[1mwandb\u001b[0m: \tf1_layer_size: 64\n",
      "\u001b[34m\u001b[1mwandb\u001b[0m: \tf2_layer_size: 128\n",
      "\u001b[34m\u001b[1mwandb\u001b[0m: \tl1_beta: 0.30524750352789376\n",
      "\u001b[34m\u001b[1mwandb\u001b[0m: \tlearning_rate: 0.000992203045180044\n",
      "\u001b[34m\u001b[1mwandb\u001b[0m: \tloss: l1_custom\n",
      "\u001b[34m\u001b[1mwandb\u001b[0m: \tnum_layers: 2\n",
      "\u001b[34m\u001b[1mwandb\u001b[0m: \toptimizer: adam\n",
      "\u001b[34m\u001b[1mwandb\u001b[0m: \tvalidation_split: 0.1\n",
      "Failed to detect the name of this notebook, you can set it manually with the WANDB_NOTEBOOK_NAME environment variable to enable code saving.\n",
      "\u001b[34m\u001b[1mwandb\u001b[0m: \u001b[33mWARNING\u001b[0m Ignored wandb.init() arg project when running a sweep.\n"
     ]
    },
    {
     "data": {
      "text/html": [
       "wandb version 0.13.2 is available!  To upgrade, please run:\n",
       " $ pip install wandb --upgrade"
      ],
      "text/plain": [
       "<IPython.core.display.HTML object>"
      ]
     },
     "metadata": {},
     "output_type": "display_data"
    },
    {
     "data": {
      "text/html": [
       "Tracking run with wandb version 0.12.14"
      ],
      "text/plain": [
       "<IPython.core.display.HTML object>"
      ]
     },
     "metadata": {},
     "output_type": "display_data"
    },
    {
     "data": {
      "text/html": [
       "Run data is saved locally in <code>c:\\Users\\Nick\\Documents\\GitHub\\grvmodel\\Python\\pytorch\\New Model\\wandb\\run-20220825_134739-9wnirb80</code>"
      ],
      "text/plain": [
       "<IPython.core.display.HTML object>"
      ]
     },
     "metadata": {},
     "output_type": "display_data"
    },
    {
     "data": {
      "text/html": [
       "Syncing run <strong><a href=\"https://wandb.ai/nickojelly/grv_priced_sweep_custom/runs/9wnirb80\" target=\"_blank\">youthful-sweep-82</a></strong> to <a href=\"https://wandb.ai/nickojelly/grv_priced_sweep_custom\" target=\"_blank\">Weights & Biases</a> (<a href=\"https://wandb.me/run\" target=\"_blank\">docs</a>)<br/>Sweep page:  <a href=\"https://wandb.ai/nickojelly/grv_priced_sweep_custom/sweeps/nwqxajsa\" target=\"_blank\">https://wandb.ai/nickojelly/grv_priced_sweep_custom/sweeps/nwqxajsa</a>"
      ],
      "text/plain": [
       "<IPython.core.display.HTML object>"
      ]
     },
     "metadata": {},
     "output_type": "display_data"
    },
    {
     "name": "stderr",
     "output_type": "stream",
     "text": [
      "  0%|          | 0/100 [00:00<?, ?it/s]"
     ]
    },
    {
     "name": "stdout",
     "output_type": "stream",
     "text": [
      "{'batch_size': 360, 'dropout': 0.4, 'epochs': 100, 'f1_layer_size': 64, 'f2_layer_size': 128, 'l1_beta': 0.30524750352789376, 'learning_rate': 0.000992203045180044, 'loss': 'l1_custom', 'num_layers': 2, 'optimizer': 'adam', 'validation_split': 0.1}\n",
      "100\n",
      "{'batch_size': 360, 'dropout': 0.4, 'epochs': 100, 'f1_layer_size': 64, 'f2_layer_size': 128, 'l1_beta': 0.30524750352789376, 'learning_rate': 0.000992203045180044, 'loss': 'l1_custom', 'num_layers': 2, 'optimizer': 'adam', 'validation_split': 0.1}\n",
      "Sequential(\n",
      "  (0): Linear(in_features=120, out_features=64, bias=True)\n",
      "  (1): ReLU()\n",
      "  (2): Dropout(p=0.4, inplace=False)\n",
      "  (3): Linear(in_features=64, out_features=128, bias=True)\n",
      "  (4): ReLU()\n",
      "  (5): Dropout(p=0.4, inplace=False)\n",
      "  (6): Linear(in_features=128, out_features=8, bias=True)\n",
      "  (7): Softmax(dim=1)\n",
      ")\n"
     ]
    },
    {
     "name": "stderr",
     "output_type": "stream",
     "text": [
      "  1%|          | 1/100 [00:11<18:52, 11.44s/it]"
     ]
    },
    {
     "name": "stdout",
     "output_type": "stream",
     "text": [
      "created path\n"
     ]
    },
    {
     "name": "stderr",
     "output_type": "stream",
     "text": [
      "100%|██████████| 100/100 [04:33<00:00,  2.73s/it]\n"
     ]
    },
    {
     "name": "stdout",
     "output_type": "stream",
     "text": [
      "\n"
     ]
    },
    {
     "data": {
      "text/html": [
       "Waiting for W&B process to finish... <strong style=\"color:green\">(success).</strong>"
      ],
      "text/plain": [
       "<IPython.core.display.HTML object>"
      ]
     },
     "metadata": {},
     "output_type": "display_data"
    },
    {
     "data": {
      "application/vnd.jupyter.widget-view+json": {
       "model_id": "fa5110ac920448d4946011ab2cb57905",
       "version_major": 2,
       "version_minor": 0
      },
      "text/plain": [
       "VBox(children=(Label(value='0.001 MB of 0.001 MB uploaded (0.000 MB deduped)\\r'), FloatProgress(value=1.0, max…"
      ]
     },
     "metadata": {},
     "output_type": "display_data"
    },
    {
     "data": {
      "text/html": [
       "<style>\n",
       "    table.wandb td:nth-child(1) { padding: 0 10px; text-align: right }\n",
       "    .wandb-row { display: flex; flex-direction: row; flex-wrap: wrap; width: 100% }\n",
       "    .wandb-col { display: flex; flex-direction: column; flex-basis: 100%; flex: 1; padding: 10px; }\n",
       "    </style>\n",
       "<div class=\"wandb-row\"><div class=\"wandb-col\"><h3>Run history:</h3><br/><table class=\"wandb\"><tr><td>bfnotavail</td><td>▁▄▄█▆▄▅▅▂▃</td></tr><tr><td>bfprofit</td><td>▆▁▅▅▂█▅▁▄▂</td></tr><tr><td>correct_conf</td><td>▁▆▇▇▇▇▇▇██</td></tr><tr><td>epoch</td><td>▁▁▁▁▂▂▂▂▂▃▃▃▃▃▃▄▄▄▄▄▅▅▅▅▅▅▆▆▆▆▆▇▇▇▇▇▇███</td></tr><tr><td>incorrect_conf</td><td>▁▇▇▆▆▇▇▇█▇</td></tr><tr><td>loss</td><td>▅█▄▆▃▅▂▄▆▄▇▂▆▄▆▄▅▄▅▁▅▂▃▃▅▅▅▃▇▄▄▄▅▆▄▅▄▃▅▃</td></tr><tr><td>num_bets_per</td><td>█▄▃▅▅▃▃▄▁▂</td></tr><tr><td>profit</td><td>▆▂▆▇▁█▇▁▅▂</td></tr><tr><td>test_accuracy</td><td>▁▆▇█▇▇▇▇▆▆</td></tr><tr><td>value_pick_roi</td><td>▂▅▆█▃▆▅▁▃▅</td></tr></table><br/></div><div class=\"wandb-col\"><h3>Run summary:</h3><br/><table class=\"wandb\"><tr><td>bfnotavail</td><td>636</td></tr><tr><td>correct_conf</td><td>0.29784</td></tr><tr><td>epoch</td><td>99</td></tr><tr><td>incorrect_conf</td><td>0.28368</td></tr><tr><td>num_bets_per</td><td>3.81264</td></tr><tr><td>profit</td><td>-1138.42</td></tr><tr><td>value_pick_roi</td><td>-0.27336</td></tr></table><br/></div></div>"
      ],
      "text/plain": [
       "<IPython.core.display.HTML object>"
      ]
     },
     "metadata": {},
     "output_type": "display_data"
    },
    {
     "data": {
      "text/html": [
       "Synced <strong style=\"color:#cdcd00\">youthful-sweep-82</strong>: <a href=\"https://wandb.ai/nickojelly/grv_priced_sweep_custom/runs/9wnirb80\" target=\"_blank\">https://wandb.ai/nickojelly/grv_priced_sweep_custom/runs/9wnirb80</a><br/>Synced 5 W&B file(s), 0 media file(s), 0 artifact file(s) and 0 other file(s)"
      ],
      "text/plain": [
       "<IPython.core.display.HTML object>"
      ]
     },
     "metadata": {},
     "output_type": "display_data"
    },
    {
     "data": {
      "text/html": [
       "Find logs at: <code>.\\wandb\\run-20220825_134739-9wnirb80\\logs</code>"
      ],
      "text/plain": [
       "<IPython.core.display.HTML object>"
      ]
     },
     "metadata": {},
     "output_type": "display_data"
    },
    {
     "name": "stderr",
     "output_type": "stream",
     "text": [
      "\u001b[34m\u001b[1mwandb\u001b[0m: Sweep Agent: Waiting for job.\n",
      "\u001b[34m\u001b[1mwandb\u001b[0m: Job received.\n",
      "\u001b[34m\u001b[1mwandb\u001b[0m: Agent Starting Run: 4010h4cf with config:\n",
      "\u001b[34m\u001b[1mwandb\u001b[0m: \tbatch_size: 64\n",
      "\u001b[34m\u001b[1mwandb\u001b[0m: \tdropout: 0.4\n",
      "\u001b[34m\u001b[1mwandb\u001b[0m: \tepochs: 100\n",
      "\u001b[34m\u001b[1mwandb\u001b[0m: \tf1_layer_size: 256\n",
      "\u001b[34m\u001b[1mwandb\u001b[0m: \tf2_layer_size: 256\n",
      "\u001b[34m\u001b[1mwandb\u001b[0m: \tl1_beta: 0.7604980618705666\n",
      "\u001b[34m\u001b[1mwandb\u001b[0m: \tlearning_rate: 0.0007764652502570818\n",
      "\u001b[34m\u001b[1mwandb\u001b[0m: \tloss: l1_custom\n",
      "\u001b[34m\u001b[1mwandb\u001b[0m: \tnum_layers: 2\n",
      "\u001b[34m\u001b[1mwandb\u001b[0m: \toptimizer: adam\n",
      "\u001b[34m\u001b[1mwandb\u001b[0m: \tvalidation_split: 0.1\n",
      "Failed to detect the name of this notebook, you can set it manually with the WANDB_NOTEBOOK_NAME environment variable to enable code saving.\n",
      "\u001b[34m\u001b[1mwandb\u001b[0m: \u001b[33mWARNING\u001b[0m Ignored wandb.init() arg project when running a sweep.\n"
     ]
    },
    {
     "data": {
      "text/html": [
       "wandb version 0.13.2 is available!  To upgrade, please run:\n",
       " $ pip install wandb --upgrade"
      ],
      "text/plain": [
       "<IPython.core.display.HTML object>"
      ]
     },
     "metadata": {},
     "output_type": "display_data"
    },
    {
     "data": {
      "text/html": [
       "Tracking run with wandb version 0.12.14"
      ],
      "text/plain": [
       "<IPython.core.display.HTML object>"
      ]
     },
     "metadata": {},
     "output_type": "display_data"
    },
    {
     "data": {
      "text/html": [
       "Run data is saved locally in <code>c:\\Users\\Nick\\Documents\\GitHub\\grvmodel\\Python\\pytorch\\New Model\\wandb\\run-20220825_135231-4010h4cf</code>"
      ],
      "text/plain": [
       "<IPython.core.display.HTML object>"
      ]
     },
     "metadata": {},
     "output_type": "display_data"
    },
    {
     "data": {
      "text/html": [
       "Syncing run <strong><a href=\"https://wandb.ai/nickojelly/grv_priced_sweep_custom/runs/4010h4cf\" target=\"_blank\">ancient-sweep-83</a></strong> to <a href=\"https://wandb.ai/nickojelly/grv_priced_sweep_custom\" target=\"_blank\">Weights & Biases</a> (<a href=\"https://wandb.me/run\" target=\"_blank\">docs</a>)<br/>Sweep page:  <a href=\"https://wandb.ai/nickojelly/grv_priced_sweep_custom/sweeps/nwqxajsa\" target=\"_blank\">https://wandb.ai/nickojelly/grv_priced_sweep_custom/sweeps/nwqxajsa</a>"
      ],
      "text/plain": [
       "<IPython.core.display.HTML object>"
      ]
     },
     "metadata": {},
     "output_type": "display_data"
    },
    {
     "name": "stderr",
     "output_type": "stream",
     "text": [
      "  0%|          | 0/100 [00:00<?, ?it/s]"
     ]
    },
    {
     "name": "stdout",
     "output_type": "stream",
     "text": [
      "{'batch_size': 64, 'dropout': 0.4, 'epochs': 100, 'f1_layer_size': 256, 'f2_layer_size': 256, 'l1_beta': 0.7604980618705666, 'learning_rate': 0.0007764652502570818, 'loss': 'l1_custom', 'num_layers': 2, 'optimizer': 'adam', 'validation_split': 0.1}\n",
      "100\n",
      "{'batch_size': 64, 'dropout': 0.4, 'epochs': 100, 'f1_layer_size': 256, 'f2_layer_size': 256, 'l1_beta': 0.7604980618705666, 'learning_rate': 0.0007764652502570818, 'loss': 'l1_custom', 'num_layers': 2, 'optimizer': 'adam', 'validation_split': 0.1}\n",
      "Sequential(\n",
      "  (0): Linear(in_features=120, out_features=256, bias=True)\n",
      "  (1): ReLU()\n",
      "  (2): Dropout(p=0.4, inplace=False)\n",
      "  (3): Linear(in_features=256, out_features=256, bias=True)\n",
      "  (4): ReLU()\n",
      "  (5): Dropout(p=0.4, inplace=False)\n",
      "  (6): Linear(in_features=256, out_features=8, bias=True)\n",
      "  (7): Softmax(dim=1)\n",
      ")\n"
     ]
    },
    {
     "name": "stderr",
     "output_type": "stream",
     "text": [
      "  1%|          | 1/100 [00:15<25:51, 15.67s/it]"
     ]
    },
    {
     "name": "stdout",
     "output_type": "stream",
     "text": [
      "created path\n"
     ]
    },
    {
     "name": "stderr",
     "output_type": "stream",
     "text": [
      "100%|██████████| 100/100 [08:36<00:00,  5.16s/it]\n"
     ]
    },
    {
     "name": "stdout",
     "output_type": "stream",
     "text": [
      "\n"
     ]
    },
    {
     "data": {
      "text/html": [
       "Waiting for W&B process to finish... <strong style=\"color:green\">(success).</strong>"
      ],
      "text/plain": [
       "<IPython.core.display.HTML object>"
      ]
     },
     "metadata": {},
     "output_type": "display_data"
    },
    {
     "data": {
      "application/vnd.jupyter.widget-view+json": {
       "model_id": "dbe2da1f04144e6f83e460b8647f6e82",
       "version_major": 2,
       "version_minor": 0
      },
      "text/plain": [
       "VBox(children=(Label(value='0.001 MB of 0.001 MB uploaded (0.000 MB deduped)\\r'), FloatProgress(value=1.0, max…"
      ]
     },
     "metadata": {},
     "output_type": "display_data"
    },
    {
     "data": {
      "text/html": [
       "<style>\n",
       "    table.wandb td:nth-child(1) { padding: 0 10px; text-align: right }\n",
       "    .wandb-row { display: flex; flex-direction: row; flex-wrap: wrap; width: 100% }\n",
       "    .wandb-col { display: flex; flex-direction: column; flex-basis: 100%; flex: 1; padding: 10px; }\n",
       "    </style>\n",
       "<div class=\"wandb-row\"><div class=\"wandb-col\"><h3>Run history:</h3><br/><table class=\"wandb\"><tr><td>bfnotavail</td><td>▁█▇█▇▇▇▇█▇</td></tr><tr><td>bfprofit</td><td>▁▄▆█▆▂▅▆▄▃</td></tr><tr><td>correct_conf</td><td>▁▅▆▇▆▇▇▇██</td></tr><tr><td>epoch</td><td>▁▁▁▁▂▂▂▂▂▃▃▃▃▃▃▄▄▄▄▄▅▅▅▅▅▅▆▆▆▆▆▇▇▇▇▇▇███</td></tr><tr><td>incorrect_conf</td><td>▁▅▆▇▆▇▇▇██</td></tr><tr><td>loss</td><td>▆▃▅▂▅▄▃▃▅▃▄▄▄▆▅▆▄▂▅▃▄▂▄▄▃█▅▂▅▄▄▂▃▃▂▁▄▂▄▄</td></tr><tr><td>num_bets_per</td><td>█▇▆▃▆▅▂▂▁▁</td></tr><tr><td>profit</td><td>▁▆▇█▇▄▆▆▅▄</td></tr><tr><td>test_accuracy</td><td>▁████▇█▇▇▇</td></tr><tr><td>value_pick_roi</td><td>▁▅▃▆▂▆▆▆▇█</td></tr></table><br/></div><div class=\"wandb-col\"><h3>Run summary:</h3><br/><table class=\"wandb\"><tr><td>bfnotavail</td><td>877</td></tr><tr><td>correct_conf</td><td>0.3164</td></tr><tr><td>epoch</td><td>99</td></tr><tr><td>incorrect_conf</td><td>0.27956</td></tr><tr><td>num_bets_per</td><td>3.78948</td></tr><tr><td>profit</td><td>-1031.38</td></tr><tr><td>value_pick_roi</td><td>-0.24621</td></tr></table><br/></div></div>"
      ],
      "text/plain": [
       "<IPython.core.display.HTML object>"
      ]
     },
     "metadata": {},
     "output_type": "display_data"
    },
    {
     "data": {
      "text/html": [
       "Synced <strong style=\"color:#cdcd00\">ancient-sweep-83</strong>: <a href=\"https://wandb.ai/nickojelly/grv_priced_sweep_custom/runs/4010h4cf\" target=\"_blank\">https://wandb.ai/nickojelly/grv_priced_sweep_custom/runs/4010h4cf</a><br/>Synced 5 W&B file(s), 0 media file(s), 0 artifact file(s) and 0 other file(s)"
      ],
      "text/plain": [
       "<IPython.core.display.HTML object>"
      ]
     },
     "metadata": {},
     "output_type": "display_data"
    },
    {
     "data": {
      "text/html": [
       "Find logs at: <code>.\\wandb\\run-20220825_135231-4010h4cf\\logs</code>"
      ],
      "text/plain": [
       "<IPython.core.display.HTML object>"
      ]
     },
     "metadata": {},
     "output_type": "display_data"
    },
    {
     "name": "stderr",
     "output_type": "stream",
     "text": [
      "\u001b[34m\u001b[1mwandb\u001b[0m: Agent Starting Run: prj0rw5e with config:\n",
      "\u001b[34m\u001b[1mwandb\u001b[0m: \tbatch_size: 360\n",
      "\u001b[34m\u001b[1mwandb\u001b[0m: \tdropout: 0.4\n",
      "\u001b[34m\u001b[1mwandb\u001b[0m: \tepochs: 100\n",
      "\u001b[34m\u001b[1mwandb\u001b[0m: \tf1_layer_size: 256\n",
      "\u001b[34m\u001b[1mwandb\u001b[0m: \tf2_layer_size: 64\n",
      "\u001b[34m\u001b[1mwandb\u001b[0m: \tl1_beta: 0.13674847965848358\n",
      "\u001b[34m\u001b[1mwandb\u001b[0m: \tlearning_rate: 0.0008931058957642585\n",
      "\u001b[34m\u001b[1mwandb\u001b[0m: \tloss: l1_custom\n",
      "\u001b[34m\u001b[1mwandb\u001b[0m: \tnum_layers: 2\n",
      "\u001b[34m\u001b[1mwandb\u001b[0m: \toptimizer: adam\n",
      "\u001b[34m\u001b[1mwandb\u001b[0m: \tvalidation_split: 0.1\n",
      "Failed to detect the name of this notebook, you can set it manually with the WANDB_NOTEBOOK_NAME environment variable to enable code saving.\n",
      "\u001b[34m\u001b[1mwandb\u001b[0m: \u001b[33mWARNING\u001b[0m Ignored wandb.init() arg project when running a sweep.\n"
     ]
    },
    {
     "data": {
      "text/html": [
       "wandb version 0.13.2 is available!  To upgrade, please run:\n",
       " $ pip install wandb --upgrade"
      ],
      "text/plain": [
       "<IPython.core.display.HTML object>"
      ]
     },
     "metadata": {},
     "output_type": "display_data"
    },
    {
     "data": {
      "text/html": [
       "Tracking run with wandb version 0.12.14"
      ],
      "text/plain": [
       "<IPython.core.display.HTML object>"
      ]
     },
     "metadata": {},
     "output_type": "display_data"
    },
    {
     "data": {
      "text/html": [
       "Run data is saved locally in <code>c:\\Users\\Nick\\Documents\\GitHub\\grvmodel\\Python\\pytorch\\New Model\\wandb\\run-20220825_140120-prj0rw5e</code>"
      ],
      "text/plain": [
       "<IPython.core.display.HTML object>"
      ]
     },
     "metadata": {},
     "output_type": "display_data"
    },
    {
     "data": {
      "text/html": [
       "Syncing run <strong><a href=\"https://wandb.ai/nickojelly/grv_priced_sweep_custom/runs/prj0rw5e\" target=\"_blank\">proud-sweep-84</a></strong> to <a href=\"https://wandb.ai/nickojelly/grv_priced_sweep_custom\" target=\"_blank\">Weights & Biases</a> (<a href=\"https://wandb.me/run\" target=\"_blank\">docs</a>)<br/>Sweep page:  <a href=\"https://wandb.ai/nickojelly/grv_priced_sweep_custom/sweeps/nwqxajsa\" target=\"_blank\">https://wandb.ai/nickojelly/grv_priced_sweep_custom/sweeps/nwqxajsa</a>"
      ],
      "text/plain": [
       "<IPython.core.display.HTML object>"
      ]
     },
     "metadata": {},
     "output_type": "display_data"
    },
    {
     "name": "stderr",
     "output_type": "stream",
     "text": [
      "  0%|          | 0/100 [00:00<?, ?it/s]"
     ]
    },
    {
     "name": "stdout",
     "output_type": "stream",
     "text": [
      "{'batch_size': 360, 'dropout': 0.4, 'epochs': 100, 'f1_layer_size': 256, 'f2_layer_size': 64, 'l1_beta': 0.13674847965848358, 'learning_rate': 0.0008931058957642585, 'loss': 'l1_custom', 'num_layers': 2, 'optimizer': 'adam', 'validation_split': 0.1}\n",
      "100\n",
      "{'batch_size': 360, 'dropout': 0.4, 'epochs': 100, 'f1_layer_size': 256, 'f2_layer_size': 64, 'l1_beta': 0.13674847965848358, 'learning_rate': 0.0008931058957642585, 'loss': 'l1_custom', 'num_layers': 2, 'optimizer': 'adam', 'validation_split': 0.1}\n",
      "Sequential(\n",
      "  (0): Linear(in_features=120, out_features=256, bias=True)\n",
      "  (1): ReLU()\n",
      "  (2): Dropout(p=0.4, inplace=False)\n",
      "  (3): Linear(in_features=256, out_features=64, bias=True)\n",
      "  (4): ReLU()\n",
      "  (5): Dropout(p=0.4, inplace=False)\n",
      "  (6): Linear(in_features=64, out_features=8, bias=True)\n",
      "  (7): Softmax(dim=1)\n",
      ")\n"
     ]
    },
    {
     "name": "stderr",
     "output_type": "stream",
     "text": [
      "  1%|          | 1/100 [00:11<19:40, 11.93s/it]"
     ]
    },
    {
     "name": "stdout",
     "output_type": "stream",
     "text": [
      "created path\n"
     ]
    },
    {
     "name": "stderr",
     "output_type": "stream",
     "text": [
      "100%|██████████| 100/100 [04:40<00:00,  2.81s/it]\n"
     ]
    },
    {
     "name": "stdout",
     "output_type": "stream",
     "text": [
      "\n"
     ]
    },
    {
     "data": {
      "text/html": [
       "Waiting for W&B process to finish... <strong style=\"color:green\">(success).</strong>"
      ],
      "text/plain": [
       "<IPython.core.display.HTML object>"
      ]
     },
     "metadata": {},
     "output_type": "display_data"
    },
    {
     "data": {
      "application/vnd.jupyter.widget-view+json": {
       "model_id": "4ed1ba0726b64489aae6b7e0c3e793b4",
       "version_major": 2,
       "version_minor": 0
      },
      "text/plain": [
       "VBox(children=(Label(value='0.001 MB of 0.001 MB uploaded (0.000 MB deduped)\\r'), FloatProgress(value=1.0, max…"
      ]
     },
     "metadata": {},
     "output_type": "display_data"
    },
    {
     "data": {
      "text/html": [
       "<style>\n",
       "    table.wandb td:nth-child(1) { padding: 0 10px; text-align: right }\n",
       "    .wandb-row { display: flex; flex-direction: row; flex-wrap: wrap; width: 100% }\n",
       "    .wandb-col { display: flex; flex-direction: column; flex-basis: 100%; flex: 1; padding: 10px; }\n",
       "    </style>\n",
       "<div class=\"wandb-row\"><div class=\"wandb-col\"><h3>Run history:</h3><br/><table class=\"wandb\"><tr><td>bfnotavail</td><td>▄█████▁▁▁▁</td></tr><tr><td>bfprofit</td><td>▁█████▁▁▁▁</td></tr><tr><td>correct_conf</td><td>▁▇██▇█▄▄▄▄</td></tr><tr><td>epoch</td><td>▁▁▁▁▂▂▂▂▂▃▃▃▃▃▃▄▄▄▄▄▅▅▅▅▅▅▆▆▆▆▆▇▇▇▇▇▇███</td></tr><tr><td>incorrect_conf</td><td>▁▇██▇█▄▄▄▄</td></tr><tr><td>loss</td><td>█▆▅▆▃▂▄▃▃▆▄█▇▄▄▃▅▄▆▃▇▄▅▆▄▄▂▃▁▃▃▃▅▄▄▂▆▁▂▂</td></tr><tr><td>num_bets_per</td><td>█▅▅▅▅▄▁▃▃▂</td></tr><tr><td>profit</td><td>█▂▂▂▂▂▁▁▁▁</td></tr><tr><td>test_accuracy</td><td>█▆▆▆▆▆▁▁▁▁</td></tr><tr><td>value_pick_roi</td><td>▅▄▃▁▄▂▆▇█▇</td></tr></table><br/></div><div class=\"wandb-col\"><h3>Run summary:</h3><br/><table class=\"wandb\"><tr><td>bfnotavail</td><td>513</td></tr><tr><td>correct_conf</td><td>0.15575</td></tr><tr><td>epoch</td><td>99</td></tr><tr><td>incorrect_conf</td><td>0.15575</td></tr><tr><td>num_bets_per</td><td>3.9746</td></tr><tr><td>profit</td><td>-1291.42001</td></tr><tr><td>value_pick_roi</td><td>-0.27197</td></tr></table><br/></div></div>"
      ],
      "text/plain": [
       "<IPython.core.display.HTML object>"
      ]
     },
     "metadata": {},
     "output_type": "display_data"
    },
    {
     "data": {
      "text/html": [
       "Synced <strong style=\"color:#cdcd00\">proud-sweep-84</strong>: <a href=\"https://wandb.ai/nickojelly/grv_priced_sweep_custom/runs/prj0rw5e\" target=\"_blank\">https://wandb.ai/nickojelly/grv_priced_sweep_custom/runs/prj0rw5e</a><br/>Synced 5 W&B file(s), 0 media file(s), 0 artifact file(s) and 0 other file(s)"
      ],
      "text/plain": [
       "<IPython.core.display.HTML object>"
      ]
     },
     "metadata": {},
     "output_type": "display_data"
    },
    {
     "data": {
      "text/html": [
       "Find logs at: <code>.\\wandb\\run-20220825_140120-prj0rw5e\\logs</code>"
      ],
      "text/plain": [
       "<IPython.core.display.HTML object>"
      ]
     },
     "metadata": {},
     "output_type": "display_data"
    },
    {
     "name": "stderr",
     "output_type": "stream",
     "text": [
      "\u001b[34m\u001b[1mwandb\u001b[0m: Agent Starting Run: o0ukatit with config:\n",
      "\u001b[34m\u001b[1mwandb\u001b[0m: \tbatch_size: 128\n",
      "\u001b[34m\u001b[1mwandb\u001b[0m: \tdropout: 0.5\n",
      "\u001b[34m\u001b[1mwandb\u001b[0m: \tepochs: 100\n",
      "\u001b[34m\u001b[1mwandb\u001b[0m: \tf1_layer_size: 32\n",
      "\u001b[34m\u001b[1mwandb\u001b[0m: \tf2_layer_size: 128\n",
      "\u001b[34m\u001b[1mwandb\u001b[0m: \tl1_beta: 0.5219001367373884\n",
      "\u001b[34m\u001b[1mwandb\u001b[0m: \tlearning_rate: 0.0004179781924763328\n",
      "\u001b[34m\u001b[1mwandb\u001b[0m: \tloss: l1_custom\n",
      "\u001b[34m\u001b[1mwandb\u001b[0m: \tnum_layers: 2\n",
      "\u001b[34m\u001b[1mwandb\u001b[0m: \toptimizer: adam\n",
      "\u001b[34m\u001b[1mwandb\u001b[0m: \tvalidation_split: 0.1\n",
      "Failed to detect the name of this notebook, you can set it manually with the WANDB_NOTEBOOK_NAME environment variable to enable code saving.\n",
      "\u001b[34m\u001b[1mwandb\u001b[0m: \u001b[33mWARNING\u001b[0m Ignored wandb.init() arg project when running a sweep.\n"
     ]
    },
    {
     "data": {
      "text/html": [
       "wandb version 0.13.2 is available!  To upgrade, please run:\n",
       " $ pip install wandb --upgrade"
      ],
      "text/plain": [
       "<IPython.core.display.HTML object>"
      ]
     },
     "metadata": {},
     "output_type": "display_data"
    },
    {
     "data": {
      "text/html": [
       "Tracking run with wandb version 0.12.14"
      ],
      "text/plain": [
       "<IPython.core.display.HTML object>"
      ]
     },
     "metadata": {},
     "output_type": "display_data"
    },
    {
     "data": {
      "text/html": [
       "Run data is saved locally in <code>c:\\Users\\Nick\\Documents\\GitHub\\grvmodel\\Python\\pytorch\\New Model\\wandb\\run-20220825_140614-o0ukatit</code>"
      ],
      "text/plain": [
       "<IPython.core.display.HTML object>"
      ]
     },
     "metadata": {},
     "output_type": "display_data"
    },
    {
     "data": {
      "text/html": [
       "Syncing run <strong><a href=\"https://wandb.ai/nickojelly/grv_priced_sweep_custom/runs/o0ukatit\" target=\"_blank\">hearty-sweep-85</a></strong> to <a href=\"https://wandb.ai/nickojelly/grv_priced_sweep_custom\" target=\"_blank\">Weights & Biases</a> (<a href=\"https://wandb.me/run\" target=\"_blank\">docs</a>)<br/>Sweep page:  <a href=\"https://wandb.ai/nickojelly/grv_priced_sweep_custom/sweeps/nwqxajsa\" target=\"_blank\">https://wandb.ai/nickojelly/grv_priced_sweep_custom/sweeps/nwqxajsa</a>"
      ],
      "text/plain": [
       "<IPython.core.display.HTML object>"
      ]
     },
     "metadata": {},
     "output_type": "display_data"
    },
    {
     "name": "stderr",
     "output_type": "stream",
     "text": [
      "  0%|          | 0/100 [00:00<?, ?it/s]"
     ]
    },
    {
     "name": "stdout",
     "output_type": "stream",
     "text": [
      "{'batch_size': 128, 'dropout': 0.5, 'epochs': 100, 'f1_layer_size': 32, 'f2_layer_size': 128, 'l1_beta': 0.5219001367373884, 'learning_rate': 0.0004179781924763328, 'loss': 'l1_custom', 'num_layers': 2, 'optimizer': 'adam', 'validation_split': 0.1}\n",
      "100\n",
      "{'batch_size': 128, 'dropout': 0.5, 'epochs': 100, 'f1_layer_size': 32, 'f2_layer_size': 128, 'l1_beta': 0.5219001367373884, 'learning_rate': 0.0004179781924763328, 'loss': 'l1_custom', 'num_layers': 2, 'optimizer': 'adam', 'validation_split': 0.1}\n",
      "Sequential(\n",
      "  (0): Linear(in_features=120, out_features=32, bias=True)\n",
      "  (1): ReLU()\n",
      "  (2): Dropout(p=0.5, inplace=False)\n",
      "  (3): Linear(in_features=32, out_features=128, bias=True)\n",
      "  (4): ReLU()\n",
      "  (5): Dropout(p=0.5, inplace=False)\n",
      "  (6): Linear(in_features=128, out_features=8, bias=True)\n",
      "  (7): Softmax(dim=1)\n",
      ")\n"
     ]
    },
    {
     "name": "stderr",
     "output_type": "stream",
     "text": [
      "  1%|          | 1/100 [00:12<20:40, 12.53s/it]"
     ]
    },
    {
     "name": "stdout",
     "output_type": "stream",
     "text": [
      "created path\n"
     ]
    },
    {
     "name": "stderr",
     "output_type": "stream",
     "text": [
      "100%|██████████| 100/100 [05:47<00:00,  3.47s/it]\n"
     ]
    },
    {
     "name": "stdout",
     "output_type": "stream",
     "text": [
      "\n"
     ]
    },
    {
     "data": {
      "text/html": [
       "Waiting for W&B process to finish... <strong style=\"color:green\">(success).</strong>"
      ],
      "text/plain": [
       "<IPython.core.display.HTML object>"
      ]
     },
     "metadata": {},
     "output_type": "display_data"
    },
    {
     "data": {
      "application/vnd.jupyter.widget-view+json": {
       "model_id": "95e9f5708f384c5c964cb77af22ceddf",
       "version_major": 2,
       "version_minor": 0
      },
      "text/plain": [
       "VBox(children=(Label(value='0.001 MB of 0.001 MB uploaded (0.000 MB deduped)\\r'), FloatProgress(value=1.0, max…"
      ]
     },
     "metadata": {},
     "output_type": "display_data"
    },
    {
     "data": {
      "text/html": [
       "<style>\n",
       "    table.wandb td:nth-child(1) { padding: 0 10px; text-align: right }\n",
       "    .wandb-row { display: flex; flex-direction: row; flex-wrap: wrap; width: 100% }\n",
       "    .wandb-col { display: flex; flex-direction: column; flex-basis: 100%; flex: 1; padding: 10px; }\n",
       "    </style>\n",
       "<div class=\"wandb-row\"><div class=\"wandb-col\"><h3>Run history:</h3><br/><table class=\"wandb\"><tr><td>bfnotavail</td><td>▁▁▆▇██▆▇▇█</td></tr><tr><td>bfprofit</td><td>▃▄▅▁▆█▃▂▅▇</td></tr><tr><td>correct_conf</td><td>▁▄▆▆▇▇▇▇▇█</td></tr><tr><td>epoch</td><td>▁▁▁▁▂▂▂▂▂▃▃▃▃▃▃▄▄▄▄▄▅▅▅▅▅▅▆▆▆▆▆▇▇▇▇▇▇███</td></tr><tr><td>incorrect_conf</td><td>▁▄▆▆▇▇▇▇▇█</td></tr><tr><td>loss</td><td>█▅▆▄▅▄▄▄▃▃▄▂▅▄▄▂▃▇▇▃▂▃▄▃▇▄▅▄▅▁▅▂▄▆▄▃▆▃▃▂</td></tr><tr><td>num_bets_per</td><td>▄█▅▄▃▃▂▁▂▁</td></tr><tr><td>profit</td><td>▁▃▆▃▆█▅▃▆▇</td></tr><tr><td>test_accuracy</td><td>▁▂▆▇▇█▇▇██</td></tr><tr><td>value_pick_roi</td><td>▁▃▂▅█▄▃▆▆▆</td></tr></table><br/></div><div class=\"wandb-col\"><h3>Run summary:</h3><br/><table class=\"wandb\"><tr><td>bfnotavail</td><td>888</td></tr><tr><td>correct_conf</td><td>0.28382</td></tr><tr><td>epoch</td><td>99</td></tr><tr><td>incorrect_conf</td><td>0.25203</td></tr><tr><td>num_bets_per</td><td>3.96115</td></tr><tr><td>profit</td><td>-866.2</td></tr><tr><td>value_pick_roi</td><td>-0.2654</td></tr></table><br/></div></div>"
      ],
      "text/plain": [
       "<IPython.core.display.HTML object>"
      ]
     },
     "metadata": {},
     "output_type": "display_data"
    },
    {
     "data": {
      "text/html": [
       "Synced <strong style=\"color:#cdcd00\">hearty-sweep-85</strong>: <a href=\"https://wandb.ai/nickojelly/grv_priced_sweep_custom/runs/o0ukatit\" target=\"_blank\">https://wandb.ai/nickojelly/grv_priced_sweep_custom/runs/o0ukatit</a><br/>Synced 5 W&B file(s), 0 media file(s), 0 artifact file(s) and 0 other file(s)"
      ],
      "text/plain": [
       "<IPython.core.display.HTML object>"
      ]
     },
     "metadata": {},
     "output_type": "display_data"
    },
    {
     "data": {
      "text/html": [
       "Find logs at: <code>.\\wandb\\run-20220825_140614-o0ukatit\\logs</code>"
      ],
      "text/plain": [
       "<IPython.core.display.HTML object>"
      ]
     },
     "metadata": {},
     "output_type": "display_data"
    },
    {
     "name": "stderr",
     "output_type": "stream",
     "text": [
      "\u001b[34m\u001b[1mwandb\u001b[0m: Agent Starting Run: zkuyuu4b with config:\n",
      "\u001b[34m\u001b[1mwandb\u001b[0m: \tbatch_size: 128\n",
      "\u001b[34m\u001b[1mwandb\u001b[0m: \tdropout: 0.3\n",
      "\u001b[34m\u001b[1mwandb\u001b[0m: \tepochs: 100\n",
      "\u001b[34m\u001b[1mwandb\u001b[0m: \tf1_layer_size: 32\n",
      "\u001b[34m\u001b[1mwandb\u001b[0m: \tf2_layer_size: 32\n",
      "\u001b[34m\u001b[1mwandb\u001b[0m: \tl1_beta: 0.16993532068748807\n",
      "\u001b[34m\u001b[1mwandb\u001b[0m: \tlearning_rate: 0.0007781740616377641\n",
      "\u001b[34m\u001b[1mwandb\u001b[0m: \tloss: l1_custom\n",
      "\u001b[34m\u001b[1mwandb\u001b[0m: \tnum_layers: 2\n",
      "\u001b[34m\u001b[1mwandb\u001b[0m: \toptimizer: adam\n",
      "\u001b[34m\u001b[1mwandb\u001b[0m: \tvalidation_split: 0.1\n",
      "Failed to detect the name of this notebook, you can set it manually with the WANDB_NOTEBOOK_NAME environment variable to enable code saving.\n",
      "\u001b[34m\u001b[1mwandb\u001b[0m: \u001b[33mWARNING\u001b[0m Ignored wandb.init() arg project when running a sweep.\n"
     ]
    },
    {
     "data": {
      "text/html": [
       "wandb version 0.13.2 is available!  To upgrade, please run:\n",
       " $ pip install wandb --upgrade"
      ],
      "text/plain": [
       "<IPython.core.display.HTML object>"
      ]
     },
     "metadata": {},
     "output_type": "display_data"
    },
    {
     "data": {
      "text/html": [
       "Tracking run with wandb version 0.12.14"
      ],
      "text/plain": [
       "<IPython.core.display.HTML object>"
      ]
     },
     "metadata": {},
     "output_type": "display_data"
    },
    {
     "data": {
      "text/html": [
       "Run data is saved locally in <code>c:\\Users\\Nick\\Documents\\GitHub\\grvmodel\\Python\\pytorch\\New Model\\wandb\\run-20220825_141213-zkuyuu4b</code>"
      ],
      "text/plain": [
       "<IPython.core.display.HTML object>"
      ]
     },
     "metadata": {},
     "output_type": "display_data"
    },
    {
     "data": {
      "text/html": [
       "Syncing run <strong><a href=\"https://wandb.ai/nickojelly/grv_priced_sweep_custom/runs/zkuyuu4b\" target=\"_blank\">snowy-sweep-86</a></strong> to <a href=\"https://wandb.ai/nickojelly/grv_priced_sweep_custom\" target=\"_blank\">Weights & Biases</a> (<a href=\"https://wandb.me/run\" target=\"_blank\">docs</a>)<br/>Sweep page:  <a href=\"https://wandb.ai/nickojelly/grv_priced_sweep_custom/sweeps/nwqxajsa\" target=\"_blank\">https://wandb.ai/nickojelly/grv_priced_sweep_custom/sweeps/nwqxajsa</a>"
      ],
      "text/plain": [
       "<IPython.core.display.HTML object>"
      ]
     },
     "metadata": {},
     "output_type": "display_data"
    },
    {
     "name": "stderr",
     "output_type": "stream",
     "text": [
      "  0%|          | 0/100 [00:00<?, ?it/s]"
     ]
    },
    {
     "name": "stdout",
     "output_type": "stream",
     "text": [
      "{'batch_size': 128, 'dropout': 0.3, 'epochs': 100, 'f1_layer_size': 32, 'f2_layer_size': 32, 'l1_beta': 0.16993532068748807, 'learning_rate': 0.0007781740616377641, 'loss': 'l1_custom', 'num_layers': 2, 'optimizer': 'adam', 'validation_split': 0.1}\n",
      "100\n",
      "{'batch_size': 128, 'dropout': 0.3, 'epochs': 100, 'f1_layer_size': 32, 'f2_layer_size': 32, 'l1_beta': 0.16993532068748807, 'learning_rate': 0.0007781740616377641, 'loss': 'l1_custom', 'num_layers': 2, 'optimizer': 'adam', 'validation_split': 0.1}\n",
      "Sequential(\n",
      "  (0): Linear(in_features=120, out_features=32, bias=True)\n",
      "  (1): ReLU()\n",
      "  (2): Dropout(p=0.3, inplace=False)\n",
      "  (3): Linear(in_features=32, out_features=32, bias=True)\n",
      "  (4): ReLU()\n",
      "  (5): Dropout(p=0.3, inplace=False)\n",
      "  (6): Linear(in_features=32, out_features=8, bias=True)\n",
      "  (7): Softmax(dim=1)\n",
      ")\n"
     ]
    },
    {
     "name": "stderr",
     "output_type": "stream",
     "text": [
      "  1%|          | 1/100 [00:12<20:05, 12.17s/it]"
     ]
    },
    {
     "name": "stdout",
     "output_type": "stream",
     "text": [
      "created path\n"
     ]
    },
    {
     "name": "stderr",
     "output_type": "stream",
     "text": [
      "100%|██████████| 100/100 [05:46<00:00,  3.47s/it]\n"
     ]
    },
    {
     "name": "stdout",
     "output_type": "stream",
     "text": [
      "\n"
     ]
    },
    {
     "data": {
      "text/html": [
       "Waiting for W&B process to finish... <strong style=\"color:green\">(success).</strong>"
      ],
      "text/plain": [
       "<IPython.core.display.HTML object>"
      ]
     },
     "metadata": {},
     "output_type": "display_data"
    },
    {
     "data": {
      "application/vnd.jupyter.widget-view+json": {
       "model_id": "48270bfe3e014471abbc2cb324dde960",
       "version_major": 2,
       "version_minor": 0
      },
      "text/plain": [
       "VBox(children=(Label(value='0.001 MB of 0.001 MB uploaded (0.000 MB deduped)\\r'), FloatProgress(value=1.0, max…"
      ]
     },
     "metadata": {},
     "output_type": "display_data"
    },
    {
     "data": {
      "text/html": [
       "<style>\n",
       "    table.wandb td:nth-child(1) { padding: 0 10px; text-align: right }\n",
       "    .wandb-row { display: flex; flex-direction: row; flex-wrap: wrap; width: 100% }\n",
       "    .wandb-col { display: flex; flex-direction: column; flex-basis: 100%; flex: 1; padding: 10px; }\n",
       "    </style>\n",
       "<div class=\"wandb-row\"><div class=\"wandb-col\"><h3>Run history:</h3><br/><table class=\"wandb\"><tr><td>bfnotavail</td><td>▇▁▃▃▄▇▆▇█▇</td></tr><tr><td>bfprofit</td><td>█▂▁▂▃▁▂▃▃▂</td></tr><tr><td>correct_conf</td><td>▁▆▆█▇▇▇▇▇▇</td></tr><tr><td>epoch</td><td>▁▁▁▁▂▂▂▂▂▃▃▃▃▃▃▄▄▄▄▄▅▅▅▅▅▅▆▆▆▆▆▇▇▇▇▇▇███</td></tr><tr><td>incorrect_conf</td><td>▁▇▆█▆▆▆▇▆▇</td></tr><tr><td>loss</td><td>█▄▃▂▄▄▃▃▂▄▇▂▅▃▄▃▅▁▅▆▁▅▂▅▅▃▆▁▄▃▄▃▅▆▂▄▃▄▃▃</td></tr><tr><td>num_bets_per</td><td>█▃▅▁▄▄▃▃▄▃</td></tr><tr><td>profit</td><td>█▁▁▂▂▁▁▃▄▂</td></tr><tr><td>test_accuracy</td><td>▁▃▅▆▅▇▆▇█▇</td></tr><tr><td>value_pick_roi</td><td>▇▅▇▁▆█▅▁▅▄</td></tr></table><br/></div><div class=\"wandb-col\"><h3>Run summary:</h3><br/><table class=\"wandb\"><tr><td>bfnotavail</td><td>628</td></tr><tr><td>correct_conf</td><td>0.3182</td></tr><tr><td>epoch</td><td>99</td></tr><tr><td>incorrect_conf</td><td>0.34353</td></tr><tr><td>num_bets_per</td><td>3.61363</td></tr><tr><td>profit</td><td>-1146.06001</td></tr><tr><td>value_pick_roi</td><td>-0.28768</td></tr></table><br/></div></div>"
      ],
      "text/plain": [
       "<IPython.core.display.HTML object>"
      ]
     },
     "metadata": {},
     "output_type": "display_data"
    },
    {
     "data": {
      "text/html": [
       "Synced <strong style=\"color:#cdcd00\">snowy-sweep-86</strong>: <a href=\"https://wandb.ai/nickojelly/grv_priced_sweep_custom/runs/zkuyuu4b\" target=\"_blank\">https://wandb.ai/nickojelly/grv_priced_sweep_custom/runs/zkuyuu4b</a><br/>Synced 5 W&B file(s), 0 media file(s), 0 artifact file(s) and 0 other file(s)"
      ],
      "text/plain": [
       "<IPython.core.display.HTML object>"
      ]
     },
     "metadata": {},
     "output_type": "display_data"
    },
    {
     "data": {
      "text/html": [
       "Find logs at: <code>.\\wandb\\run-20220825_141213-zkuyuu4b\\logs</code>"
      ],
      "text/plain": [
       "<IPython.core.display.HTML object>"
      ]
     },
     "metadata": {},
     "output_type": "display_data"
    },
    {
     "name": "stderr",
     "output_type": "stream",
     "text": [
      "\u001b[34m\u001b[1mwandb\u001b[0m: Agent Starting Run: 5izc8oko with config:\n",
      "\u001b[34m\u001b[1mwandb\u001b[0m: \tbatch_size: 128\n",
      "\u001b[34m\u001b[1mwandb\u001b[0m: \tdropout: 0.5\n",
      "\u001b[34m\u001b[1mwandb\u001b[0m: \tepochs: 100\n",
      "\u001b[34m\u001b[1mwandb\u001b[0m: \tf1_layer_size: 64\n",
      "\u001b[34m\u001b[1mwandb\u001b[0m: \tf2_layer_size: 128\n",
      "\u001b[34m\u001b[1mwandb\u001b[0m: \tl1_beta: 0.7283356083198671\n",
      "\u001b[34m\u001b[1mwandb\u001b[0m: \tlearning_rate: 0.0009676585686414756\n",
      "\u001b[34m\u001b[1mwandb\u001b[0m: \tloss: l1_custom\n",
      "\u001b[34m\u001b[1mwandb\u001b[0m: \tnum_layers: 2\n",
      "\u001b[34m\u001b[1mwandb\u001b[0m: \toptimizer: adam\n",
      "\u001b[34m\u001b[1mwandb\u001b[0m: \tvalidation_split: 0.1\n",
      "Failed to detect the name of this notebook, you can set it manually with the WANDB_NOTEBOOK_NAME environment variable to enable code saving.\n",
      "\u001b[34m\u001b[1mwandb\u001b[0m: \u001b[33mWARNING\u001b[0m Ignored wandb.init() arg project when running a sweep.\n"
     ]
    },
    {
     "data": {
      "text/html": [
       "wandb version 0.13.2 is available!  To upgrade, please run:\n",
       " $ pip install wandb --upgrade"
      ],
      "text/plain": [
       "<IPython.core.display.HTML object>"
      ]
     },
     "metadata": {},
     "output_type": "display_data"
    },
    {
     "data": {
      "text/html": [
       "Tracking run with wandb version 0.12.14"
      ],
      "text/plain": [
       "<IPython.core.display.HTML object>"
      ]
     },
     "metadata": {},
     "output_type": "display_data"
    },
    {
     "data": {
      "text/html": [
       "Run data is saved locally in <code>c:\\Users\\Nick\\Documents\\GitHub\\grvmodel\\Python\\pytorch\\New Model\\wandb\\run-20220825_141813-5izc8oko</code>"
      ],
      "text/plain": [
       "<IPython.core.display.HTML object>"
      ]
     },
     "metadata": {},
     "output_type": "display_data"
    },
    {
     "data": {
      "text/html": [
       "Syncing run <strong><a href=\"https://wandb.ai/nickojelly/grv_priced_sweep_custom/runs/5izc8oko\" target=\"_blank\">hearty-sweep-87</a></strong> to <a href=\"https://wandb.ai/nickojelly/grv_priced_sweep_custom\" target=\"_blank\">Weights & Biases</a> (<a href=\"https://wandb.me/run\" target=\"_blank\">docs</a>)<br/>Sweep page:  <a href=\"https://wandb.ai/nickojelly/grv_priced_sweep_custom/sweeps/nwqxajsa\" target=\"_blank\">https://wandb.ai/nickojelly/grv_priced_sweep_custom/sweeps/nwqxajsa</a>"
      ],
      "text/plain": [
       "<IPython.core.display.HTML object>"
      ]
     },
     "metadata": {},
     "output_type": "display_data"
    },
    {
     "name": "stderr",
     "output_type": "stream",
     "text": [
      "  0%|          | 0/100 [00:00<?, ?it/s]"
     ]
    },
    {
     "name": "stdout",
     "output_type": "stream",
     "text": [
      "{'batch_size': 128, 'dropout': 0.5, 'epochs': 100, 'f1_layer_size': 64, 'f2_layer_size': 128, 'l1_beta': 0.7283356083198671, 'learning_rate': 0.0009676585686414756, 'loss': 'l1_custom', 'num_layers': 2, 'optimizer': 'adam', 'validation_split': 0.1}\n",
      "100\n",
      "{'batch_size': 128, 'dropout': 0.5, 'epochs': 100, 'f1_layer_size': 64, 'f2_layer_size': 128, 'l1_beta': 0.7283356083198671, 'learning_rate': 0.0009676585686414756, 'loss': 'l1_custom', 'num_layers': 2, 'optimizer': 'adam', 'validation_split': 0.1}\n",
      "Sequential(\n",
      "  (0): Linear(in_features=120, out_features=64, bias=True)\n",
      "  (1): ReLU()\n",
      "  (2): Dropout(p=0.5, inplace=False)\n",
      "  (3): Linear(in_features=64, out_features=128, bias=True)\n",
      "  (4): ReLU()\n",
      "  (5): Dropout(p=0.5, inplace=False)\n",
      "  (6): Linear(in_features=128, out_features=8, bias=True)\n",
      "  (7): Softmax(dim=1)\n",
      ")\n"
     ]
    },
    {
     "name": "stderr",
     "output_type": "stream",
     "text": [
      "  1%|          | 1/100 [00:12<20:55, 12.69s/it]"
     ]
    },
    {
     "name": "stdout",
     "output_type": "stream",
     "text": [
      "created path\n"
     ]
    },
    {
     "name": "stderr",
     "output_type": "stream",
     "text": [
      "100%|██████████| 100/100 [05:49<00:00,  3.50s/it]\n"
     ]
    },
    {
     "name": "stdout",
     "output_type": "stream",
     "text": [
      "\n"
     ]
    },
    {
     "data": {
      "text/html": [
       "Waiting for W&B process to finish... <strong style=\"color:green\">(success).</strong>"
      ],
      "text/plain": [
       "<IPython.core.display.HTML object>"
      ]
     },
     "metadata": {},
     "output_type": "display_data"
    },
    {
     "data": {
      "application/vnd.jupyter.widget-view+json": {
       "model_id": "13115959c54440c99da8933506b66f65",
       "version_major": 2,
       "version_minor": 0
      },
      "text/plain": [
       "VBox(children=(Label(value='0.001 MB of 0.001 MB uploaded (0.000 MB deduped)\\r'), FloatProgress(value=1.0, max…"
      ]
     },
     "metadata": {},
     "output_type": "display_data"
    },
    {
     "data": {
      "text/html": [
       "<style>\n",
       "    table.wandb td:nth-child(1) { padding: 0 10px; text-align: right }\n",
       "    .wandb-row { display: flex; flex-direction: row; flex-wrap: wrap; width: 100% }\n",
       "    .wandb-col { display: flex; flex-direction: column; flex-basis: 100%; flex: 1; padding: 10px; }\n",
       "    </style>\n",
       "<div class=\"wandb-row\"><div class=\"wandb-col\"><h3>Run history:</h3><br/><table class=\"wandb\"><tr><td>bfnotavail</td><td>▁▇█▇█▇▇▇▇▇</td></tr><tr><td>bfprofit</td><td>█▆▇▂▃▁▄▄▃▅</td></tr><tr><td>correct_conf</td><td>▁▇▇▇██▇▇██</td></tr><tr><td>epoch</td><td>▁▁▁▁▂▂▂▂▂▃▃▃▃▃▃▄▄▄▄▄▅▅▅▅▅▅▆▆▆▆▆▇▇▇▇▇▇███</td></tr><tr><td>incorrect_conf</td><td>▁▇▇▇██▇▇██</td></tr><tr><td>loss</td><td>█▅▅▆█▇▆▇▃▆▃▂▁▄▆▅▇▂▄▆▅▅▄▅▃█▇▄▇▅▆▃▄▅▄▆▄▃▇▂</td></tr><tr><td>num_bets_per</td><td>█▅▅▄▃▃▂▃▂▁</td></tr><tr><td>profit</td><td>▆▆█▂▄▁▄▄▃▆</td></tr><tr><td>test_accuracy</td><td>▁██▇██▇██▇</td></tr><tr><td>value_pick_roi</td><td>▁▅▃▆▅▇█▆▅▇</td></tr></table><br/></div><div class=\"wandb-col\"><h3>Run summary:</h3><br/><table class=\"wandb\"><tr><td>bfnotavail</td><td>911</td></tr><tr><td>correct_conf</td><td>0.2836</td></tr><tr><td>epoch</td><td>99</td></tr><tr><td>incorrect_conf</td><td>0.2545</td></tr><tr><td>num_bets_per</td><td>3.95607</td></tr><tr><td>profit</td><td>-926.74001</td></tr><tr><td>value_pick_roi</td><td>-0.25705</td></tr></table><br/></div></div>"
      ],
      "text/plain": [
       "<IPython.core.display.HTML object>"
      ]
     },
     "metadata": {},
     "output_type": "display_data"
    },
    {
     "data": {
      "text/html": [
       "Synced <strong style=\"color:#cdcd00\">hearty-sweep-87</strong>: <a href=\"https://wandb.ai/nickojelly/grv_priced_sweep_custom/runs/5izc8oko\" target=\"_blank\">https://wandb.ai/nickojelly/grv_priced_sweep_custom/runs/5izc8oko</a><br/>Synced 5 W&B file(s), 0 media file(s), 0 artifact file(s) and 0 other file(s)"
      ],
      "text/plain": [
       "<IPython.core.display.HTML object>"
      ]
     },
     "metadata": {},
     "output_type": "display_data"
    },
    {
     "data": {
      "text/html": [
       "Find logs at: <code>.\\wandb\\run-20220825_141813-5izc8oko\\logs</code>"
      ],
      "text/plain": [
       "<IPython.core.display.HTML object>"
      ]
     },
     "metadata": {},
     "output_type": "display_data"
    },
    {
     "name": "stderr",
     "output_type": "stream",
     "text": [
      "\u001b[34m\u001b[1mwandb\u001b[0m: Agent Starting Run: 8g1ogyie with config:\n",
      "\u001b[34m\u001b[1mwandb\u001b[0m: \tbatch_size: 720\n",
      "\u001b[34m\u001b[1mwandb\u001b[0m: \tdropout: 0.4\n",
      "\u001b[34m\u001b[1mwandb\u001b[0m: \tepochs: 100\n",
      "\u001b[34m\u001b[1mwandb\u001b[0m: \tf1_layer_size: 128\n",
      "\u001b[34m\u001b[1mwandb\u001b[0m: \tf2_layer_size: 64\n",
      "\u001b[34m\u001b[1mwandb\u001b[0m: \tl1_beta: 0.353585752532931\n",
      "\u001b[34m\u001b[1mwandb\u001b[0m: \tlearning_rate: 0.0003204601129289788\n",
      "\u001b[34m\u001b[1mwandb\u001b[0m: \tloss: l1_custom\n",
      "\u001b[34m\u001b[1mwandb\u001b[0m: \tnum_layers: 2\n",
      "\u001b[34m\u001b[1mwandb\u001b[0m: \toptimizer: adam\n",
      "\u001b[34m\u001b[1mwandb\u001b[0m: \tvalidation_split: 0.1\n",
      "Failed to detect the name of this notebook, you can set it manually with the WANDB_NOTEBOOK_NAME environment variable to enable code saving.\n",
      "\u001b[34m\u001b[1mwandb\u001b[0m: \u001b[33mWARNING\u001b[0m Ignored wandb.init() arg project when running a sweep.\n"
     ]
    },
    {
     "data": {
      "text/html": [
       "wandb version 0.13.2 is available!  To upgrade, please run:\n",
       " $ pip install wandb --upgrade"
      ],
      "text/plain": [
       "<IPython.core.display.HTML object>"
      ]
     },
     "metadata": {},
     "output_type": "display_data"
    },
    {
     "data": {
      "text/html": [
       "Tracking run with wandb version 0.12.14"
      ],
      "text/plain": [
       "<IPython.core.display.HTML object>"
      ]
     },
     "metadata": {},
     "output_type": "display_data"
    },
    {
     "data": {
      "text/html": [
       "Run data is saved locally in <code>c:\\Users\\Nick\\Documents\\GitHub\\grvmodel\\Python\\pytorch\\New Model\\wandb\\run-20220825_142414-8g1ogyie</code>"
      ],
      "text/plain": [
       "<IPython.core.display.HTML object>"
      ]
     },
     "metadata": {},
     "output_type": "display_data"
    },
    {
     "data": {
      "text/html": [
       "Syncing run <strong><a href=\"https://wandb.ai/nickojelly/grv_priced_sweep_custom/runs/8g1ogyie\" target=\"_blank\">electric-sweep-88</a></strong> to <a href=\"https://wandb.ai/nickojelly/grv_priced_sweep_custom\" target=\"_blank\">Weights & Biases</a> (<a href=\"https://wandb.me/run\" target=\"_blank\">docs</a>)<br/>Sweep page:  <a href=\"https://wandb.ai/nickojelly/grv_priced_sweep_custom/sweeps/nwqxajsa\" target=\"_blank\">https://wandb.ai/nickojelly/grv_priced_sweep_custom/sweeps/nwqxajsa</a>"
      ],
      "text/plain": [
       "<IPython.core.display.HTML object>"
      ]
     },
     "metadata": {},
     "output_type": "display_data"
    },
    {
     "name": "stderr",
     "output_type": "stream",
     "text": [
      "  0%|          | 0/100 [00:00<?, ?it/s]"
     ]
    },
    {
     "name": "stdout",
     "output_type": "stream",
     "text": [
      "{'batch_size': 720, 'dropout': 0.4, 'epochs': 100, 'f1_layer_size': 128, 'f2_layer_size': 64, 'l1_beta': 0.353585752532931, 'learning_rate': 0.0003204601129289788, 'loss': 'l1_custom', 'num_layers': 2, 'optimizer': 'adam', 'validation_split': 0.1}\n",
      "100\n",
      "{'batch_size': 720, 'dropout': 0.4, 'epochs': 100, 'f1_layer_size': 128, 'f2_layer_size': 64, 'l1_beta': 0.353585752532931, 'learning_rate': 0.0003204601129289788, 'loss': 'l1_custom', 'num_layers': 2, 'optimizer': 'adam', 'validation_split': 0.1}\n",
      "Sequential(\n",
      "  (0): Linear(in_features=120, out_features=128, bias=True)\n",
      "  (1): ReLU()\n",
      "  (2): Dropout(p=0.4, inplace=False)\n",
      "  (3): Linear(in_features=128, out_features=64, bias=True)\n",
      "  (4): ReLU()\n",
      "  (5): Dropout(p=0.4, inplace=False)\n",
      "  (6): Linear(in_features=64, out_features=8, bias=True)\n",
      "  (7): Softmax(dim=1)\n",
      ")\n"
     ]
    },
    {
     "name": "stderr",
     "output_type": "stream",
     "text": [
      "  1%|          | 1/100 [00:11<18:26, 11.18s/it]"
     ]
    },
    {
     "name": "stdout",
     "output_type": "stream",
     "text": [
      "created path\n"
     ]
    },
    {
     "name": "stderr",
     "output_type": "stream",
     "text": [
      "100%|██████████| 100/100 [04:15<00:00,  2.56s/it]\n"
     ]
    },
    {
     "name": "stdout",
     "output_type": "stream",
     "text": [
      "\n"
     ]
    },
    {
     "data": {
      "text/html": [
       "Waiting for W&B process to finish... <strong style=\"color:green\">(success).</strong>"
      ],
      "text/plain": [
       "<IPython.core.display.HTML object>"
      ]
     },
     "metadata": {},
     "output_type": "display_data"
    },
    {
     "data": {
      "application/vnd.jupyter.widget-view+json": {
       "model_id": "197956c7613c4480b06e3d75daa97caa",
       "version_major": 2,
       "version_minor": 0
      },
      "text/plain": [
       "VBox(children=(Label(value='0.001 MB of 0.001 MB uploaded (0.000 MB deduped)\\r'), FloatProgress(value=1.0, max…"
      ]
     },
     "metadata": {},
     "output_type": "display_data"
    },
    {
     "data": {
      "text/html": [
       "<style>\n",
       "    table.wandb td:nth-child(1) { padding: 0 10px; text-align: right }\n",
       "    .wandb-row { display: flex; flex-direction: row; flex-wrap: wrap; width: 100% }\n",
       "    .wandb-col { display: flex; flex-direction: column; flex-basis: 100%; flex: 1; padding: 10px; }\n",
       "    </style>\n",
       "<div class=\"wandb-row\"><div class=\"wandb-col\"><h3>Run history:</h3><br/><table class=\"wandb\"><tr><td>bfnotavail</td><td>▁▆▇▇▅▅▅▇██</td></tr><tr><td>bfprofit</td><td>▁███▇█▇█▇█</td></tr><tr><td>correct_conf</td><td>▁▁▁▁▄▆▆▆▇█</td></tr><tr><td>epoch</td><td>▁▁▁▂▂▂▂▃▃▃▃▃▄▄▄▄▅▅▅▅▅▆▆▆▆▆▇▇▇▇███</td></tr><tr><td>incorrect_conf</td><td>▁▁▁▁▅▇▇▇▇█</td></tr><tr><td>loss</td><td>▆▆▇▇▇██▇▇▆▇▇▆▃▃▂▃▂▃▂▂▂▂▂▂▂▂▃▂▂▁▂▁</td></tr><tr><td>num_bets_per</td><td>▆▆▆▆█▄▄▅▃▁</td></tr><tr><td>profit</td><td>▁███▇▇▇███</td></tr><tr><td>test_accuracy</td><td>▁▄▅▅▄▄▅▆▇█</td></tr><tr><td>value_pick_roi</td><td>▁▂▃▂▅▁▁▅▇█</td></tr></table><br/></div><div class=\"wandb-col\"><h3>Run summary:</h3><br/><table class=\"wandb\"><tr><td>bfnotavail</td><td>660</td></tr><tr><td>correct_conf</td><td>0.2783</td></tr><tr><td>epoch</td><td>98</td></tr><tr><td>incorrect_conf</td><td>0.27061</td></tr><tr><td>num_bets_per</td><td>3.88839</td></tr><tr><td>profit</td><td>-1125.32001</td></tr><tr><td>value_pick_roi</td><td>-0.27085</td></tr></table><br/></div></div>"
      ],
      "text/plain": [
       "<IPython.core.display.HTML object>"
      ]
     },
     "metadata": {},
     "output_type": "display_data"
    },
    {
     "data": {
      "text/html": [
       "Synced <strong style=\"color:#cdcd00\">electric-sweep-88</strong>: <a href=\"https://wandb.ai/nickojelly/grv_priced_sweep_custom/runs/8g1ogyie\" target=\"_blank\">https://wandb.ai/nickojelly/grv_priced_sweep_custom/runs/8g1ogyie</a><br/>Synced 5 W&B file(s), 0 media file(s), 0 artifact file(s) and 0 other file(s)"
      ],
      "text/plain": [
       "<IPython.core.display.HTML object>"
      ]
     },
     "metadata": {},
     "output_type": "display_data"
    },
    {
     "data": {
      "text/html": [
       "Find logs at: <code>.\\wandb\\run-20220825_142414-8g1ogyie\\logs</code>"
      ],
      "text/plain": [
       "<IPython.core.display.HTML object>"
      ]
     },
     "metadata": {},
     "output_type": "display_data"
    },
    {
     "name": "stderr",
     "output_type": "stream",
     "text": [
      "\u001b[34m\u001b[1mwandb\u001b[0m: Agent Starting Run: 3jms1on3 with config:\n",
      "\u001b[34m\u001b[1mwandb\u001b[0m: \tbatch_size: 64\n",
      "\u001b[34m\u001b[1mwandb\u001b[0m: \tdropout: 0.5\n",
      "\u001b[34m\u001b[1mwandb\u001b[0m: \tepochs: 100\n",
      "\u001b[34m\u001b[1mwandb\u001b[0m: \tf1_layer_size: 32\n",
      "\u001b[34m\u001b[1mwandb\u001b[0m: \tf2_layer_size: 64\n",
      "\u001b[34m\u001b[1mwandb\u001b[0m: \tl1_beta: 0.9511525218853044\n",
      "\u001b[34m\u001b[1mwandb\u001b[0m: \tlearning_rate: 0.00019660878003097143\n",
      "\u001b[34m\u001b[1mwandb\u001b[0m: \tloss: l1_custom\n",
      "\u001b[34m\u001b[1mwandb\u001b[0m: \tnum_layers: 2\n",
      "\u001b[34m\u001b[1mwandb\u001b[0m: \toptimizer: adam\n",
      "\u001b[34m\u001b[1mwandb\u001b[0m: \tvalidation_split: 0.1\n",
      "Failed to detect the name of this notebook, you can set it manually with the WANDB_NOTEBOOK_NAME environment variable to enable code saving.\n",
      "\u001b[34m\u001b[1mwandb\u001b[0m: \u001b[33mWARNING\u001b[0m Ignored wandb.init() arg project when running a sweep.\n"
     ]
    },
    {
     "data": {
      "text/html": [
       "wandb version 0.13.2 is available!  To upgrade, please run:\n",
       " $ pip install wandb --upgrade"
      ],
      "text/plain": [
       "<IPython.core.display.HTML object>"
      ]
     },
     "metadata": {},
     "output_type": "display_data"
    },
    {
     "data": {
      "text/html": [
       "Tracking run with wandb version 0.12.14"
      ],
      "text/plain": [
       "<IPython.core.display.HTML object>"
      ]
     },
     "metadata": {},
     "output_type": "display_data"
    },
    {
     "data": {
      "text/html": [
       "Run data is saved locally in <code>c:\\Users\\Nick\\Documents\\GitHub\\grvmodel\\Python\\pytorch\\New Model\\wandb\\run-20220825_142843-3jms1on3</code>"
      ],
      "text/plain": [
       "<IPython.core.display.HTML object>"
      ]
     },
     "metadata": {},
     "output_type": "display_data"
    },
    {
     "data": {
      "text/html": [
       "Syncing run <strong><a href=\"https://wandb.ai/nickojelly/grv_priced_sweep_custom/runs/3jms1on3\" target=\"_blank\">grateful-sweep-89</a></strong> to <a href=\"https://wandb.ai/nickojelly/grv_priced_sweep_custom\" target=\"_blank\">Weights & Biases</a> (<a href=\"https://wandb.me/run\" target=\"_blank\">docs</a>)<br/>Sweep page:  <a href=\"https://wandb.ai/nickojelly/grv_priced_sweep_custom/sweeps/nwqxajsa\" target=\"_blank\">https://wandb.ai/nickojelly/grv_priced_sweep_custom/sweeps/nwqxajsa</a>"
      ],
      "text/plain": [
       "<IPython.core.display.HTML object>"
      ]
     },
     "metadata": {},
     "output_type": "display_data"
    },
    {
     "name": "stderr",
     "output_type": "stream",
     "text": [
      "  0%|          | 0/100 [00:00<?, ?it/s]"
     ]
    },
    {
     "name": "stdout",
     "output_type": "stream",
     "text": [
      "{'batch_size': 64, 'dropout': 0.5, 'epochs': 100, 'f1_layer_size': 32, 'f2_layer_size': 64, 'l1_beta': 0.9511525218853044, 'learning_rate': 0.00019660878003097143, 'loss': 'l1_custom', 'num_layers': 2, 'optimizer': 'adam', 'validation_split': 0.1}\n",
      "100\n",
      "{'batch_size': 64, 'dropout': 0.5, 'epochs': 100, 'f1_layer_size': 32, 'f2_layer_size': 64, 'l1_beta': 0.9511525218853044, 'learning_rate': 0.00019660878003097143, 'loss': 'l1_custom', 'num_layers': 2, 'optimizer': 'adam', 'validation_split': 0.1}\n",
      "Sequential(\n",
      "  (0): Linear(in_features=120, out_features=32, bias=True)\n",
      "  (1): ReLU()\n",
      "  (2): Dropout(p=0.5, inplace=False)\n",
      "  (3): Linear(in_features=32, out_features=64, bias=True)\n",
      "  (4): ReLU()\n",
      "  (5): Dropout(p=0.5, inplace=False)\n",
      "  (6): Linear(in_features=64, out_features=8, bias=True)\n",
      "  (7): Softmax(dim=1)\n",
      ")\n"
     ]
    },
    {
     "name": "stderr",
     "output_type": "stream",
     "text": [
      "  1%|          | 1/100 [00:13<22:34, 13.68s/it]"
     ]
    },
    {
     "name": "stdout",
     "output_type": "stream",
     "text": [
      "created path\n"
     ]
    },
    {
     "name": "stderr",
     "output_type": "stream",
     "text": [
      "100%|██████████| 100/100 [07:55<00:00,  4.75s/it]\n"
     ]
    },
    {
     "name": "stdout",
     "output_type": "stream",
     "text": [
      "\n"
     ]
    },
    {
     "data": {
      "text/html": [
       "Waiting for W&B process to finish... <strong style=\"color:green\">(success).</strong>"
      ],
      "text/plain": [
       "<IPython.core.display.HTML object>"
      ]
     },
     "metadata": {},
     "output_type": "display_data"
    },
    {
     "data": {
      "application/vnd.jupyter.widget-view+json": {
       "model_id": "7a7e6ee24021448a9ef078b195f9fbf8",
       "version_major": 2,
       "version_minor": 0
      },
      "text/plain": [
       "VBox(children=(Label(value='0.001 MB of 0.001 MB uploaded (0.000 MB deduped)\\r'), FloatProgress(value=1.0, max…"
      ]
     },
     "metadata": {},
     "output_type": "display_data"
    },
    {
     "data": {
      "text/html": [
       "<style>\n",
       "    table.wandb td:nth-child(1) { padding: 0 10px; text-align: right }\n",
       "    .wandb-row { display: flex; flex-direction: row; flex-wrap: wrap; width: 100% }\n",
       "    .wandb-col { display: flex; flex-direction: column; flex-basis: 100%; flex: 1; padding: 10px; }\n",
       "    </style>\n",
       "<div class=\"wandb-row\"><div class=\"wandb-col\"><h3>Run history:</h3><br/><table class=\"wandb\"><tr><td>bfnotavail</td><td>▁▆▇███▇█▇█</td></tr><tr><td>bfprofit</td><td>▂█▅▄▁▇▆▇▄▆</td></tr><tr><td>correct_conf</td><td>▁▅▇▇▇▇▇███</td></tr><tr><td>epoch</td><td>▁▁▁▁▂▂▂▂▂▃▃▃▃▃▃▄▄▄▄▄▅▅▅▅▅▅▆▆▆▆▆▇▇▇▇▇▇███</td></tr><tr><td>incorrect_conf</td><td>▁▅▇▇▇▇████</td></tr><tr><td>loss</td><td>▇█▅▃▄▆▃▃▆▄▃▇▅▃▂▃▅▄▃▁▃▄▄▃▄▅▃▄▅▂▃▃▂▃▅▄▃▃▃▃</td></tr><tr><td>num_bets_per</td><td>▅█▆▄▃▃▂▂▂▁</td></tr><tr><td>profit</td><td>▁▇▇▅▃█▇█▅▇</td></tr><tr><td>test_accuracy</td><td>▁▆▇▇▇█████</td></tr><tr><td>value_pick_roi</td><td>▁▃▅▇▅▇▇▅▆█</td></tr></table><br/></div><div class=\"wandb-col\"><h3>Run summary:</h3><br/><table class=\"wandb\"><tr><td>bfnotavail</td><td>935</td></tr><tr><td>correct_conf</td><td>0.28676</td></tr><tr><td>epoch</td><td>99</td></tr><tr><td>incorrect_conf</td><td>0.25899</td></tr><tr><td>num_bets_per</td><td>3.93411</td></tr><tr><td>profit</td><td>-991.24001</td></tr><tr><td>value_pick_roi</td><td>-0.25424</td></tr></table><br/></div></div>"
      ],
      "text/plain": [
       "<IPython.core.display.HTML object>"
      ]
     },
     "metadata": {},
     "output_type": "display_data"
    },
    {
     "data": {
      "text/html": [
       "Synced <strong style=\"color:#cdcd00\">grateful-sweep-89</strong>: <a href=\"https://wandb.ai/nickojelly/grv_priced_sweep_custom/runs/3jms1on3\" target=\"_blank\">https://wandb.ai/nickojelly/grv_priced_sweep_custom/runs/3jms1on3</a><br/>Synced 5 W&B file(s), 0 media file(s), 0 artifact file(s) and 0 other file(s)"
      ],
      "text/plain": [
       "<IPython.core.display.HTML object>"
      ]
     },
     "metadata": {},
     "output_type": "display_data"
    },
    {
     "data": {
      "text/html": [
       "Find logs at: <code>.\\wandb\\run-20220825_142843-3jms1on3\\logs</code>"
      ],
      "text/plain": [
       "<IPython.core.display.HTML object>"
      ]
     },
     "metadata": {},
     "output_type": "display_data"
    },
    {
     "name": "stderr",
     "output_type": "stream",
     "text": [
      "\u001b[34m\u001b[1mwandb\u001b[0m: Agent Starting Run: memt2a3c with config:\n",
      "\u001b[34m\u001b[1mwandb\u001b[0m: \tbatch_size: 64\n",
      "\u001b[34m\u001b[1mwandb\u001b[0m: \tdropout: 0.4\n",
      "\u001b[34m\u001b[1mwandb\u001b[0m: \tepochs: 100\n",
      "\u001b[34m\u001b[1mwandb\u001b[0m: \tf1_layer_size: 32\n",
      "\u001b[34m\u001b[1mwandb\u001b[0m: \tf2_layer_size: 32\n",
      "\u001b[34m\u001b[1mwandb\u001b[0m: \tl1_beta: 0.258738045564464\n",
      "\u001b[34m\u001b[1mwandb\u001b[0m: \tlearning_rate: 0.0008609970559188679\n",
      "\u001b[34m\u001b[1mwandb\u001b[0m: \tloss: l1_custom\n",
      "\u001b[34m\u001b[1mwandb\u001b[0m: \tnum_layers: 2\n",
      "\u001b[34m\u001b[1mwandb\u001b[0m: \toptimizer: adam\n",
      "\u001b[34m\u001b[1mwandb\u001b[0m: \tvalidation_split: 0.1\n",
      "Failed to detect the name of this notebook, you can set it manually with the WANDB_NOTEBOOK_NAME environment variable to enable code saving.\n",
      "\u001b[34m\u001b[1mwandb\u001b[0m: \u001b[33mWARNING\u001b[0m Ignored wandb.init() arg project when running a sweep.\n"
     ]
    },
    {
     "data": {
      "text/html": [
       "wandb version 0.13.2 is available!  To upgrade, please run:\n",
       " $ pip install wandb --upgrade"
      ],
      "text/plain": [
       "<IPython.core.display.HTML object>"
      ]
     },
     "metadata": {},
     "output_type": "display_data"
    },
    {
     "data": {
      "text/html": [
       "Tracking run with wandb version 0.12.14"
      ],
      "text/plain": [
       "<IPython.core.display.HTML object>"
      ]
     },
     "metadata": {},
     "output_type": "display_data"
    },
    {
     "data": {
      "text/html": [
       "Run data is saved locally in <code>c:\\Users\\Nick\\Documents\\GitHub\\grvmodel\\Python\\pytorch\\New Model\\wandb\\run-20220825_143650-memt2a3c</code>"
      ],
      "text/plain": [
       "<IPython.core.display.HTML object>"
      ]
     },
     "metadata": {},
     "output_type": "display_data"
    },
    {
     "data": {
      "text/html": [
       "Syncing run <strong><a href=\"https://wandb.ai/nickojelly/grv_priced_sweep_custom/runs/memt2a3c\" target=\"_blank\">dazzling-sweep-90</a></strong> to <a href=\"https://wandb.ai/nickojelly/grv_priced_sweep_custom\" target=\"_blank\">Weights & Biases</a> (<a href=\"https://wandb.me/run\" target=\"_blank\">docs</a>)<br/>Sweep page:  <a href=\"https://wandb.ai/nickojelly/grv_priced_sweep_custom/sweeps/nwqxajsa\" target=\"_blank\">https://wandb.ai/nickojelly/grv_priced_sweep_custom/sweeps/nwqxajsa</a>"
      ],
      "text/plain": [
       "<IPython.core.display.HTML object>"
      ]
     },
     "metadata": {},
     "output_type": "display_data"
    },
    {
     "name": "stderr",
     "output_type": "stream",
     "text": [
      "  0%|          | 0/100 [00:00<?, ?it/s]"
     ]
    },
    {
     "name": "stdout",
     "output_type": "stream",
     "text": [
      "{'batch_size': 64, 'dropout': 0.4, 'epochs': 100, 'f1_layer_size': 32, 'f2_layer_size': 32, 'l1_beta': 0.258738045564464, 'learning_rate': 0.0008609970559188679, 'loss': 'l1_custom', 'num_layers': 2, 'optimizer': 'adam', 'validation_split': 0.1}\n",
      "100\n",
      "{'batch_size': 64, 'dropout': 0.4, 'epochs': 100, 'f1_layer_size': 32, 'f2_layer_size': 32, 'l1_beta': 0.258738045564464, 'learning_rate': 0.0008609970559188679, 'loss': 'l1_custom', 'num_layers': 2, 'optimizer': 'adam', 'validation_split': 0.1}\n",
      "Sequential(\n",
      "  (0): Linear(in_features=120, out_features=32, bias=True)\n",
      "  (1): ReLU()\n",
      "  (2): Dropout(p=0.4, inplace=False)\n",
      "  (3): Linear(in_features=32, out_features=32, bias=True)\n",
      "  (4): ReLU()\n",
      "  (5): Dropout(p=0.4, inplace=False)\n",
      "  (6): Linear(in_features=32, out_features=8, bias=True)\n",
      "  (7): Softmax(dim=1)\n",
      ")\n"
     ]
    },
    {
     "name": "stderr",
     "output_type": "stream",
     "text": [
      "  1%|          | 1/100 [00:13<22:30, 13.64s/it]"
     ]
    },
    {
     "name": "stdout",
     "output_type": "stream",
     "text": [
      "created path\n"
     ]
    },
    {
     "name": "stderr",
     "output_type": "stream",
     "text": [
      "100%|██████████| 100/100 [07:54<00:00,  4.74s/it]\n"
     ]
    },
    {
     "name": "stdout",
     "output_type": "stream",
     "text": [
      "\n"
     ]
    },
    {
     "data": {
      "text/html": [
       "Waiting for W&B process to finish... <strong style=\"color:green\">(success).</strong>"
      ],
      "text/plain": [
       "<IPython.core.display.HTML object>"
      ]
     },
     "metadata": {},
     "output_type": "display_data"
    },
    {
     "data": {
      "application/vnd.jupyter.widget-view+json": {
       "model_id": "a3017fe9b32440eba299a9f7321cf74b",
       "version_major": 2,
       "version_minor": 0
      },
      "text/plain": [
       "VBox(children=(Label(value='0.001 MB of 0.001 MB uploaded (0.000 MB deduped)\\r'), FloatProgress(value=1.0, max…"
      ]
     },
     "metadata": {},
     "output_type": "display_data"
    },
    {
     "data": {
      "text/html": [
       "<style>\n",
       "    table.wandb td:nth-child(1) { padding: 0 10px; text-align: right }\n",
       "    .wandb-row { display: flex; flex-direction: row; flex-wrap: wrap; width: 100% }\n",
       "    .wandb-col { display: flex; flex-direction: column; flex-basis: 100%; flex: 1; padding: 10px; }\n",
       "    </style>\n",
       "<div class=\"wandb-row\"><div class=\"wandb-col\"><h3>Run history:</h3><br/><table class=\"wandb\"><tr><td>bfnotavail</td><td>▆▁▂▅▅▅█▇▃▄</td></tr><tr><td>bfprofit</td><td>▇▇▇▂█▇▇▁▇▂</td></tr><tr><td>correct_conf</td><td>▁▆▇▇▆▇▇▇█▇</td></tr><tr><td>epoch</td><td>▁▁▁▁▂▂▂▂▂▃▃▃▃▃▃▄▄▄▄▄▅▅▅▅▅▅▆▆▆▆▆▇▇▇▇▇▇███</td></tr><tr><td>incorrect_conf</td><td>▁▇▇▇▇▇█▇█▇</td></tr><tr><td>loss</td><td>▇▄█▇▇▅▄▅▄▁▄▃▅▄▃▄▅▆▆▅▆▃▅▄▄▄▄▅▇▅▄█▃▄▄▄▅▃▃▃</td></tr><tr><td>num_bets_per</td><td>█▇▅▃▇▄▁▁▁▃</td></tr><tr><td>profit</td><td>█▇▆▂█▆▇▁▆▂</td></tr><tr><td>test_accuracy</td><td>▆▁▂▇▅▅██▃▅</td></tr><tr><td>value_pick_roi</td><td>▂▇█▆█▇▆▅▁▄</td></tr></table><br/></div><div class=\"wandb-col\"><h3>Run summary:</h3><br/><table class=\"wandb\"><tr><td>bfnotavail</td><td>493</td></tr><tr><td>correct_conf</td><td>0.25444</td></tr><tr><td>epoch</td><td>99</td></tr><tr><td>incorrect_conf</td><td>0.25766</td></tr><tr><td>num_bets_per</td><td>3.95817</td></tr><tr><td>profit</td><td>-1826.28001</td></tr><tr><td>value_pick_roi</td><td>-0.27948</td></tr></table><br/></div></div>"
      ],
      "text/plain": [
       "<IPython.core.display.HTML object>"
      ]
     },
     "metadata": {},
     "output_type": "display_data"
    },
    {
     "data": {
      "text/html": [
       "Synced <strong style=\"color:#cdcd00\">dazzling-sweep-90</strong>: <a href=\"https://wandb.ai/nickojelly/grv_priced_sweep_custom/runs/memt2a3c\" target=\"_blank\">https://wandb.ai/nickojelly/grv_priced_sweep_custom/runs/memt2a3c</a><br/>Synced 5 W&B file(s), 0 media file(s), 0 artifact file(s) and 0 other file(s)"
      ],
      "text/plain": [
       "<IPython.core.display.HTML object>"
      ]
     },
     "metadata": {},
     "output_type": "display_data"
    },
    {
     "data": {
      "text/html": [
       "Find logs at: <code>.\\wandb\\run-20220825_143650-memt2a3c\\logs</code>"
      ],
      "text/plain": [
       "<IPython.core.display.HTML object>"
      ]
     },
     "metadata": {},
     "output_type": "display_data"
    },
    {
     "name": "stderr",
     "output_type": "stream",
     "text": [
      "\u001b[34m\u001b[1mwandb\u001b[0m: Agent Starting Run: y36v5els with config:\n",
      "\u001b[34m\u001b[1mwandb\u001b[0m: \tbatch_size: 64\n",
      "\u001b[34m\u001b[1mwandb\u001b[0m: \tdropout: 0.4\n",
      "\u001b[34m\u001b[1mwandb\u001b[0m: \tepochs: 100\n",
      "\u001b[34m\u001b[1mwandb\u001b[0m: \tf1_layer_size: 256\n",
      "\u001b[34m\u001b[1mwandb\u001b[0m: \tf2_layer_size: 64\n",
      "\u001b[34m\u001b[1mwandb\u001b[0m: \tl1_beta: 0.23611316068231336\n",
      "\u001b[34m\u001b[1mwandb\u001b[0m: \tlearning_rate: 0.0009838235363964672\n",
      "\u001b[34m\u001b[1mwandb\u001b[0m: \tloss: l1_custom\n",
      "\u001b[34m\u001b[1mwandb\u001b[0m: \tnum_layers: 2\n",
      "\u001b[34m\u001b[1mwandb\u001b[0m: \toptimizer: adam\n",
      "\u001b[34m\u001b[1mwandb\u001b[0m: \tvalidation_split: 0.1\n",
      "Failed to detect the name of this notebook, you can set it manually with the WANDB_NOTEBOOK_NAME environment variable to enable code saving.\n",
      "\u001b[34m\u001b[1mwandb\u001b[0m: \u001b[33mWARNING\u001b[0m Ignored wandb.init() arg project when running a sweep.\n"
     ]
    },
    {
     "data": {
      "text/html": [
       "wandb version 0.13.2 is available!  To upgrade, please run:\n",
       " $ pip install wandb --upgrade"
      ],
      "text/plain": [
       "<IPython.core.display.HTML object>"
      ]
     },
     "metadata": {},
     "output_type": "display_data"
    },
    {
     "data": {
      "text/html": [
       "Tracking run with wandb version 0.12.14"
      ],
      "text/plain": [
       "<IPython.core.display.HTML object>"
      ]
     },
     "metadata": {},
     "output_type": "display_data"
    },
    {
     "data": {
      "text/html": [
       "Run data is saved locally in <code>c:\\Users\\Nick\\Documents\\GitHub\\grvmodel\\Python\\pytorch\\New Model\\wandb\\run-20220825_144457-y36v5els</code>"
      ],
      "text/plain": [
       "<IPython.core.display.HTML object>"
      ]
     },
     "metadata": {},
     "output_type": "display_data"
    },
    {
     "data": {
      "text/html": [
       "Syncing run <strong><a href=\"https://wandb.ai/nickojelly/grv_priced_sweep_custom/runs/y36v5els\" target=\"_blank\">fine-sweep-91</a></strong> to <a href=\"https://wandb.ai/nickojelly/grv_priced_sweep_custom\" target=\"_blank\">Weights & Biases</a> (<a href=\"https://wandb.me/run\" target=\"_blank\">docs</a>)<br/>Sweep page:  <a href=\"https://wandb.ai/nickojelly/grv_priced_sweep_custom/sweeps/nwqxajsa\" target=\"_blank\">https://wandb.ai/nickojelly/grv_priced_sweep_custom/sweeps/nwqxajsa</a>"
      ],
      "text/plain": [
       "<IPython.core.display.HTML object>"
      ]
     },
     "metadata": {},
     "output_type": "display_data"
    },
    {
     "name": "stderr",
     "output_type": "stream",
     "text": [
      "  0%|          | 0/100 [00:00<?, ?it/s]"
     ]
    },
    {
     "name": "stdout",
     "output_type": "stream",
     "text": [
      "{'batch_size': 64, 'dropout': 0.4, 'epochs': 100, 'f1_layer_size': 256, 'f2_layer_size': 64, 'l1_beta': 0.23611316068231336, 'learning_rate': 0.0009838235363964672, 'loss': 'l1_custom', 'num_layers': 2, 'optimizer': 'adam', 'validation_split': 0.1}\n",
      "100\n",
      "{'batch_size': 64, 'dropout': 0.4, 'epochs': 100, 'f1_layer_size': 256, 'f2_layer_size': 64, 'l1_beta': 0.23611316068231336, 'learning_rate': 0.0009838235363964672, 'loss': 'l1_custom', 'num_layers': 2, 'optimizer': 'adam', 'validation_split': 0.1}\n",
      "Sequential(\n",
      "  (0): Linear(in_features=120, out_features=256, bias=True)\n",
      "  (1): ReLU()\n",
      "  (2): Dropout(p=0.4, inplace=False)\n",
      "  (3): Linear(in_features=256, out_features=64, bias=True)\n",
      "  (4): ReLU()\n",
      "  (5): Dropout(p=0.4, inplace=False)\n",
      "  (6): Linear(in_features=64, out_features=8, bias=True)\n",
      "  (7): Softmax(dim=1)\n",
      ")\n"
     ]
    },
    {
     "name": "stderr",
     "output_type": "stream",
     "text": [
      "  1%|          | 1/100 [00:14<23:37, 14.31s/it]"
     ]
    },
    {
     "name": "stdout",
     "output_type": "stream",
     "text": [
      "created path\n"
     ]
    },
    {
     "name": "stderr",
     "output_type": "stream",
     "text": [
      " 86%|████████▌ | 86/100 [07:14<01:05,  4.67s/it]"
     ]
    }
   ],
   "source": [
    "# pause\n",
    "#model_pipeline(config)\n",
    "sweep_id = wandb.sweep(sweep_config, project=\"grv_priced_sweep_custom\")\n",
    "CUDA_LAUNCH_BLOCKING=1\n",
    "wandb.agent(sweep_id, function=model_pipeline, count=100)\n"
   ]
  },
  {
   "cell_type": "code",
   "execution_count": null,
   "metadata": {},
   "outputs": [
    {
     "data": {
      "text/plain": [
       "Sequential(\n",
       "  (0): Linear(in_features=120, out_features=128, bias=True)\n",
       "  (1): ReLU()\n",
       "  (2): Dropout(p=0.5, inplace=False)\n",
       "  (3): Linear(in_features=128, out_features=128, bias=True)\n",
       "  (4): ReLU()\n",
       "  (5): Dropout(p=0.5, inplace=False)\n",
       "  (6): Linear(in_features=128, out_features=8, bias=True)\n",
       "  (7): Softmax(dim=1)\n",
       ")"
      ]
     },
     "execution_count": 25,
     "metadata": {},
     "output_type": "execute_result"
    }
   ],
   "source": [
    "model"
   ]
  }
 ],
 "metadata": {
  "interpreter": {
   "hash": "43115443075634c02a7c247a87b0dd9d74842892e56d473b9e19f544f3149aff"
  },
  "kernelspec": {
   "display_name": "Python 3.9.7 ('pytorch')",
   "language": "python",
   "name": "python3"
  },
  "language_info": {
   "codemirror_mode": {
    "name": "ipython",
    "version": 3
   },
   "file_extension": ".py",
   "mimetype": "text/x-python",
   "name": "python",
   "nbconvert_exporter": "python",
   "pygments_lexer": "ipython3",
   "version": "3.9.12"
  }
 },
 "nbformat": 4,
 "nbformat_minor": 2
}
