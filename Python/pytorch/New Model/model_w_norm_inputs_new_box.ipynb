{
 "cells": [
  {
   "cell_type": "code",
   "execution_count": 1,
   "metadata": {},
   "outputs": [
    {
     "name": "stderr",
     "output_type": "stream",
     "text": [
      "<frozen importlib._bootstrap>:228: RuntimeWarning: scipy._lib.messagestream.MessageStream size changed, may indicate binary incompatibility. Expected 56 from C header, got 64 from PyObject\n"
     ]
    }
   ],
   "source": [
    "import pickle\n",
    "import pandas as pd\n",
    "import os\n",
    "import torch\n",
    "import numpy as np\n",
    "import torch.nn as nn\n",
    "import torch.nn.functional as F\n",
    "import torch.optim as optim\n",
    "from tqdm import tqdm\n",
    "import torch.optim as optim\n",
    "from torch.utils.data import TensorDataset, DataLoader\n",
    "import wandb\n",
    "from torch.utils.data.sampler import SubsetRandomSampler\n",
    "import pprint\n",
    "import matplotlib.pyplot as plt\n",
    "import torch\n",
    "with torch.profiler.profile() as profiler:\n",
    "        pass\n",
    "from sklearn.preprocessing import MinMaxScaler"
   ]
  },
  {
   "cell_type": "code",
   "execution_count": 2,
   "metadata": {},
   "outputs": [
    {
     "name": "stderr",
     "output_type": "stream",
     "text": [
      "Failed to detect the name of this notebook, you can set it manually with the WANDB_NOTEBOOK_NAME environment variable to enable code saving.\n",
      "\u001b[34m\u001b[1mwandb\u001b[0m: Currently logged in as: \u001b[33mnickojelly\u001b[0m (use `wandb login --relogin` to force relogin)\n"
     ]
    },
    {
     "data": {
      "text/plain": [
       "True"
      ]
     },
     "execution_count": 2,
     "metadata": {},
     "output_type": "execute_result"
    }
   ],
   "source": [
    "import wandb\n",
    "\n",
    "wandb.login()\n"
   ]
  },
  {
   "cell_type": "code",
   "execution_count": 3,
   "metadata": {},
   "outputs": [
    {
     "name": "stdout",
     "output_type": "stream",
     "text": [
      "Running on the GPU\n"
     ]
    }
   ],
   "source": [
    "if torch.cuda.is_available():\n",
    "    device = torch.device(\"cuda:0\")  # you can continue going on here, like cuda:1 cuda:2....etc.\n",
    "    print(\"Running on the GPU\")\n",
    "else:\n",
    "    device = torch.device(\"cpu\")\n",
    "    print(\"Running on the CPU\")\n",
    "    "
   ]
  },
  {
   "cell_type": "code",
   "execution_count": 4,
   "metadata": {},
   "outputs": [],
   "source": [
    "os.chdir(r'C:\\Users\\Nick\\Documents\\GitHub\\grvmodel\\Python\\pytorch\\New Model')"
   ]
  },
  {
   "cell_type": "code",
   "execution_count": 5,
   "metadata": {},
   "outputs": [
    {
     "name": "stdout",
     "output_type": "stream",
     "text": [
      "excluded =  0\n"
     ]
    }
   ],
   "source": [
    "REBUILD_DATA = True\n",
    "\n",
    "\n",
    "class GRV:\n",
    "    # class to store training data\n",
    "\n",
    "    # reading data from pickle\n",
    "    file = open(r\"DATA/total_list_new_box_index_fix.npy\", \"rb\")\n",
    "    data = pickle.load(file)\n",
    "    # seperate out classes from inputs\n",
    "    raceIDs, inputs, classes, prices, margins, betfairSP,names = zip(*data)\n",
    "    raceIDs_float = [float(x) for x in raceIDs]\n",
    "    # removing nan from inputs and convert to float\n",
    "    inputs_df = pd.DataFrame(inputs)\n",
    "    inputs_df = inputs_df.fillna(value=-1)\n",
    "    inputs = inputs_df.values.tolist()\n",
    "    # inputs = [[float(i) for i in j] for j in inputs]\n",
    "\n",
    "    # data\n",
    "    training_data = []\n",
    "\n",
    "\n",
    "\n",
    "\n",
    "    def make_training_data(self):\n",
    "        excluded = 0\n",
    "        # for i in range(len(self.inputs)):\n",
    "        self.raceIDs_t = torch.tensor(np.array(self.raceIDs_float))\n",
    "        self.inputs_t = torch.tensor(np.array(self.inputs))\n",
    "        self.classes_t = torch.tensor(np.array(self.classes))\n",
    "        self.prices_t =torch.tensor(np.array(self.prices))\n",
    "        self.margins_t = torch.tensor(np.array(self.margins))\n",
    "        self.bsp_t = torch.tensor(np.array(self.betfairSP))\n",
    " \n",
    "\n",
    "            # print(type(self.inputs[i]))\n",
    "            #self.rIDs_t_test =\n",
    "            # if 1270<i<1290:\n",
    "            # #     print(i, self.raceIDs[i], self.names[i], self.classes[i])\n",
    "            # if len(self.classes[i]) == 8:\n",
    "            #     self.training_data.append(\n",
    "            #         [\n",
    "            #             torch.FloatTensor(self.inputs[i]),\n",
    "            #             torch.FloatTensor(self.classes[i]),\n",
    "            #             torch.FloatTensor(self.prices[i]),\n",
    "            #             torch.FloatTensor(self.margins[i]),\n",
    "            #             torch.FloatTensor(self.betfairSP[i]),\n",
    "            #             torch.Tensor([float(self.raceIDs[i])])\n",
    "            #         ]\n",
    "            #     )\n",
    "            #     if 1270<i<1290:\n",
    "            #         print(i ,torch.Tensor([self.raceIDs_float[i]]).detach(), self.raceIDs_float[i], self.raceIDs[i])\n",
    "            # else:\n",
    "            #     print(\"failed\")\n",
    "\n",
    "        np.save(\"training_data.npy\", self.training_data)\n",
    "        print(\"excluded = \", excluded)\n",
    "\n",
    "\n",
    "if REBUILD_DATA:\n",
    "    grv = GRV()\n",
    "    grv.make_training_data()\n"
   ]
  },
  {
   "cell_type": "code",
   "execution_count": 6,
   "metadata": {},
   "outputs": [
    {
     "data": {
      "text/plain": [
       "tensor([[8., 4., 6.,  ..., 7., 5., 1.],\n",
       "        [6., 5., 1.,  ..., 3., 4., 2.],\n",
       "        [6., 8., 5.,  ..., 7., 2., 1.],\n",
       "        ...,\n",
       "        [1., 8., 8.,  ..., 8., 5., 4.],\n",
       "        [2., 3., 8.,  ..., 8., 5., 1.],\n",
       "        [4., 3., 5.,  ..., 8., 2., 1.]], dtype=torch.float64)"
      ]
     },
     "execution_count": 6,
     "metadata": {},
     "output_type": "execute_result"
    }
   ],
   "source": [
    "test_class = grv.classes\n",
    "test_class = list(test_class)\n",
    "torch.tensor(np.array(test_class))"
   ]
  },
  {
   "cell_type": "code",
   "execution_count": 7,
   "metadata": {},
   "outputs": [
    {
     "data": {
      "text/plain": [
       "140918776.0"
      ]
     },
     "execution_count": 7,
     "metadata": {},
     "output_type": "execute_result"
    }
   ],
   "source": [
    "test_class = grv.raceIDs_float\n",
    "test_class = list(test_class)\n",
    "x = torch.tensor(np.array(test_class))\n",
    "x[1277].item()"
   ]
  },
  {
   "cell_type": "code",
   "execution_count": 8,
   "metadata": {},
   "outputs": [
    {
     "name": "stdout",
     "output_type": "stream",
     "text": [
      "['MARODO', 'blank', 'MORTAL SIN', 'SUNDANCE LAD', 'RIVERSIDE MONS', 'MISS PIE', 'TALTARNI SHIRAZ', 'THUNDEROUS NIGHT']\n",
      "140918784.0\n"
     ]
    }
   ],
   "source": [
    "print(grv.names[1285])\n",
    "print(x[1285].item())\n"
   ]
  },
  {
   "cell_type": "code",
   "execution_count": null,
   "metadata": {},
   "outputs": [],
   "source": []
  },
  {
   "cell_type": "code",
   "execution_count": 9,
   "metadata": {},
   "outputs": [],
   "source": [
    "\n",
    "# X = torch.stack([i[0] for i in training_data])\n",
    "# Y = torch.stack([i[1] for i in training_data])\n",
    "# P = torch.stack([i[2] for i in training_data])\n",
    "# Y_m = softmin(torch.stack([i[3] for i in training_data])).float()\n",
    "# bfSP = torch.stack([i[4] for i in training_data])\n",
    "# rIDs = torch.tensor([float(x) for x in grv.raceIDs])\n",
    "# new_rIDs = torch.stack([i[5] for i in training_data])"
   ]
  },
  {
   "cell_type": "code",
   "execution_count": 10,
   "metadata": {},
   "outputs": [
    {
     "name": "stderr",
     "output_type": "stream",
     "text": [
      "C:\\Users\\Nick\\AppData\\Local\\Temp\\ipykernel_32404\\2544570433.py:25: UserWarning: Creating a tensor from a list of numpy.ndarrays is extremely slow. Please consider converting the list to a single numpy.ndarray with numpy.array() before converting to a tensor. (Triggered internally at  C:\\cb\\pytorch_1000000000000\\work\\torch\\csrc\\utils\\tensor_new.cpp:204.)\n",
      "  Y_w = torch.tensor([i for i in Y_w])\n"
     ]
    },
    {
     "name": "stdout",
     "output_type": "stream",
     "text": [
      "72546\n"
     ]
    }
   ],
   "source": [
    "softmin = nn.Softmin(dim=1)\n",
    "\n",
    "scaler = MinMaxScaler()\n",
    "\n",
    "\n",
    "# dataset setup\n",
    "training_data = grv.training_data\n",
    "\n",
    "X = grv.inputs_t.clone().detach()\n",
    "Y = grv.classes_t.clone().detach()\n",
    "P = grv.prices_t.clone().detach()\n",
    "Y_m = softmin(grv.margins_t).float().clone().detach()\n",
    "bfSP = grv.bsp_t.clone().detach()\n",
    "rIDs = grv.raceIDs_t.clone().detach()\n",
    "# new_rIDs = torch.stack([i[5] for i in training_data])\n",
    "len_dataset = len(X)\n",
    "# Generate winner only class\n",
    "Y_w = []\n",
    "for i in Y:\n",
    "    n = np.zeros(8)\n",
    "    index = torch.argmin(i)\n",
    "    n[index] = float(1)\n",
    "    Y_w.append(n)\n",
    "\n",
    "Y_w = torch.tensor([i for i in Y_w])\n",
    "\n",
    "scaler.fit(X)\n",
    "Xn = scaler.transform(X)\n",
    "Xn = torch.tensor(Xn).float()\n",
    "\n",
    "with open(\"normalizer.npy\", \"wb\") as fp:   #Pickling\n",
    "    \n",
    "    pickle.dump(scaler, fp)\n",
    "\n",
    "# Xn = nn.functional.normalize(X, dim = 1)\n",
    "X = Xn.to(device)\n",
    "Y_w = Y_w.to(device)\n",
    "\n",
    "\n",
    "Y_m = Y_m.to(device)\n",
    "P = P.to(device)\n",
    "bfSP = bfSP.to('cuda')\n",
    "bfSP = torch.nan_to_num(bfSP, nan=0)\n",
    "my_dataset = TensorDataset(X, Y_m, P, bfSP,rIDs)\n",
    "my_dataloader = DataLoader(my_dataset)\n",
    "print(len(X))"
   ]
  },
  {
   "cell_type": "code",
   "execution_count": 11,
   "metadata": {},
   "outputs": [
    {
     "name": "stdout",
     "output_type": "stream",
     "text": [
      "tensor([[0.0000, 1.0000, 0.0000, 0.0000, 0.0000, 0.0000, 0.0000, 0.0000, 0.0000,\n",
      "         0.0000, 0.0000, 0.0000, 0.0000, 0.0000, 0.0000, 0.2941, 1.0000, 0.9939,\n",
      "         0.9965, 0.9906, 0.9885, 0.9610, 0.9565, 0.4861, 0.1375, 0.1854, 0.0391,\n",
      "         0.0476, 0.0500, 0.1049, 0.9925, 0.0214, 0.0000, 0.0000, 0.0000, 0.0000,\n",
      "         0.0000, 0.0000, 0.0000, 0.0000, 0.0000, 0.0000, 0.0000, 0.0000, 0.0000,\n",
      "         0.0000, 0.0000, 0.0000, 1.0000, 0.9943, 0.9968, 0.9899, 0.9906, 0.9615,\n",
      "         0.9582, 0.5397, 0.1383, 0.0862, 0.0385, 0.0213, 0.0323, 0.7523, 0.9939,\n",
      "         0.1229, 1.0000, 0.9934, 0.0000, 0.9875, 0.9899, 0.0000, 0.9564, 0.4179,\n",
      "         0.0251, 0.0000, 0.0109, 0.0488, 0.0250, 0.6622, 0.9922, 0.0214, 1.0000,\n",
      "         0.9961, 0.0000, 0.9901, 0.9869, 0.0000, 0.9557, 0.3388, 0.1726, 0.0000,\n",
      "         0.0110, 0.0213, 0.0215, 0.0830, 0.9948, 0.1630, 1.0000, 0.9942, 0.9960,\n",
      "         0.9901, 0.9907, 0.9615, 0.9571, 0.4679, 0.0827, 0.1387, 0.0281, 0.0426,\n",
      "         0.0538, 0.0931, 0.9948, 0.1415, 1.0000, 0.9945, 0.9951, 0.9899, 0.9904,\n",
      "         0.9610, 0.9574, 0.4857, 0.2368, 0.1992, 0.0479, 0.0435, 0.0225, 0.6644,\n",
      "         0.9944, 0.2060, 1.0000, 0.9943, 0.9951, 0.9899, 0.9800, 0.9591, 0.9580,\n",
      "         0.3876, 0.2530, 0.1183, 0.0455, 0.0213, 0.0217, 0.6854, 0.9944, 0.2919]],\n",
      "       device='cuda:0') tensor([[    0.0973,     0.0000,     0.2779,     0.0000,     0.0000,     0.6248,\n",
      "             0.0000,     0.0000]], device='cuda:0') tensor([[ 3.5000,  0.0000, 10.2000,  9.7000, 20.8000,  7.3000, 26.7000, 25.9000]],\n",
      "       device='cuda:0', dtype=torch.float64) tensor([[ 3,  0, 12, 16, 26, 11, 38, 92]], device='cuda:0') tensor([140918784.], dtype=torch.float64)\n",
      "tensor(5, device='cuda:0')\n"
     ]
    }
   ],
   "source": [
    "torch.set_printoptions(sci_mode=False)\n",
    "for i,(ins,margins,prices,bsfp,race_IDs) in enumerate(my_dataloader):\n",
    "    if race_IDs.item()==140918784.0:\n",
    "        print(ins,margins,prices,bsfp.long(),race_IDs)\n",
    "        print(torch.argmax(margins))\n",
    "        break\n",
    "    #break"
   ]
  },
  {
   "cell_type": "code",
   "execution_count": 12,
   "metadata": {},
   "outputs": [],
   "source": [
    "# have to pass in dataset to get_data (created above)\n",
    "def make_loader(dataset, config, train=True):\n",
    "    dataset_size = len(dataset)\n",
    "    indices = list(range(dataset_size))\n",
    "    split = int(np.floor(config[\"validation_split\"] * dataset_size))\n",
    "    random_seed = 42\n",
    "    np.random.seed(random_seed)\n",
    "    np.random.shuffle(indices)\n",
    "    train_indices, val_indices = indices[split:], indices[:split]\n",
    "\n",
    "    if train:\n",
    "        dataset_sampler = SubsetRandomSampler(train_indices)\n",
    "        loader = torch.utils.data.DataLoader(\n",
    "            dataset=dataset,\n",
    "            batch_size=config[\"batch_size\"],\n",
    "            shuffle=False,\n",
    "            pin_memory=False,\n",
    "            num_workers=0,\n",
    "            sampler=dataset_sampler\n",
    "        )\n",
    "    else:\n",
    "        dataset_sampler = SubsetRandomSampler(val_indices)\n",
    "        loader = torch.utils.data.DataLoader(\n",
    "            dataset=dataset,\n",
    "            shuffle=False,\n",
    "            pin_memory=False,\n",
    "            num_workers=0,\n",
    "            sampler=dataset_sampler,\n",
    "        )\n",
    "\n",
    "    return loader\n"
   ]
  },
  {
   "cell_type": "code",
   "execution_count": 13,
   "metadata": {},
   "outputs": [],
   "source": [
    "def build_network(f1_layer_size, f2_layer_size, dropout, num_layers=2):\n",
    "\n",
    "    if num_layers == 2:\n",
    "        network = nn.Sequential(  # fully-connected, dual hidden layer\n",
    "            nn.Linear(144, f1_layer_size),\n",
    "            nn.ReLU(),\n",
    "            nn.Dropout(dropout),\n",
    "            nn.Linear(f1_layer_size, f2_layer_size),\n",
    "            nn.ReLU(),\n",
    "            nn.Dropout(dropout),\n",
    "            nn.Linear(f2_layer_size, 8),\n",
    "            nn.Softmax(dim=1),\n",
    "        )\n",
    "\n",
    "    else:\n",
    "        network = nn.Sequential(  # fully-connected, dual hidden layer\n",
    "            nn.Linear(144, f1_layer_size),\n",
    "            nn.ReLU(),\n",
    "            nn.Dropout(dropout),\n",
    "            nn.Linear(f1_layer_size, f2_layer_size),\n",
    "            nn.ReLU(),\n",
    "            nn.Dropout(dropout),\n",
    "            nn.Linear(f2_layer_size, f2_layer_size),\n",
    "            nn.ReLU(),\n",
    "            nn.Dropout(dropout),\n",
    "            nn.Linear(f2_layer_size, 8),\n",
    "            nn.Softmax(dim=1),\n",
    "        )\n",
    "\n",
    "\n",
    "    return network\n"
   ]
  },
  {
   "cell_type": "code",
   "execution_count": 14,
   "metadata": {},
   "outputs": [],
   "source": [
    "def custom_MSE(output, target):\n",
    "    sorts = torch.argsort(target)\n",
    "    out = sorts.narrow(1,0,3)\n",
    "    ohe = torch.nn.functional.one_hot(out, num_classes=8).sum(1)\n",
    "    out_first3 = ohe*output\n",
    "    target_ohe = ohe*target\n",
    "    loss = torch.sum((((target_ohe+1)*abs(out_first3-target_ohe)+1)**2))\n",
    "    # loss = torch.sum(((out_first3-target_ohe))**2)\n",
    "    return loss\n",
    "    \n"
   ]
  },
  {
   "cell_type": "code",
   "execution_count": 15,
   "metadata": {},
   "outputs": [],
   "source": [
    "x = torch.tensor([[1,2,3,5,6]])\n",
    "y =torch.tensor([[6,2,3,4,5]]) \n"
   ]
  },
  {
   "cell_type": "code",
   "execution_count": 16,
   "metadata": {},
   "outputs": [],
   "source": [
    "def custom_order_MSE(output, target):\n",
    "    sorts = torch.argsort(target)\n",
    "    print(sorts)\n",
    "    out = sorts.narrow(1,0,3)\n",
    "    ohe = torch.nn.functional.one_hot(out, num_classes=8).sum(1)\n",
    "    out_first3 = ohe*output\n",
    "    target_ohe = ohe*target\n",
    "    loss = torch.mean(((abs(out_first3-target_ohe)*10)**2))\n",
    "    # loss = torch.sum(((out_first3-target_ohe))**2)\n",
    "    return loss\n",
    "    "
   ]
  },
  {
   "cell_type": "code",
   "execution_count": 17,
   "metadata": {},
   "outputs": [],
   "source": [
    "def loss_customiser(x,y,loss_func=nn.HuberLoss(reduction='none',delta=0.1)):\n",
    "    sorts_t = torch.argsort(y)\n",
    "    out = sorts_t.narrow(1,0,3)\n",
    "    ohe = torch.nn.functional.one_hot(out, num_classes=8).sum(1)\n",
    "    loss = loss_func(x,y)\n",
    "    return torch.mean(loss)"
   ]
  },
  {
   "cell_type": "code",
   "execution_count": 18,
   "metadata": {},
   "outputs": [],
   "source": [
    "def custom_l1(x=None,y=None,beta=0.1):\n",
    "    loss_func=nn.SmoothL1Loss(reduction='none',beta=beta)\n",
    "    sorts_t = torch.argsort(y)\n",
    "    sorts_o = torch.argsort(x)\n",
    "    diff_place = abs(sorts_t-sorts_o)\n",
    "    out = sorts_t.narrow(1,0,3)\n",
    "    ohe = torch.nn.functional.one_hot(out, num_classes=8).sum(1)\n",
    "    loss = loss_func(x,y)*ohe\n",
    "    return torch.mean(loss)"
   ]
  },
  {
   "cell_type": "code",
   "execution_count": 19,
   "metadata": {},
   "outputs": [],
   "source": [
    "def custom_l1_place(x=None,y=None,beta=0.1):\n",
    "    loss_func=nn.SmoothL1Loss(reduction='none',beta=beta)\n",
    "    sorts_t = torch.argsort(y)\n",
    "    sorts_o = torch.argsort(x)\n",
    "    diff_place = abs(sorts_t-sorts_o)\n",
    "    out = sorts_t.narrow(1,0,3)\n",
    "    ohe = torch.nn.functional.one_hot(out, num_classes=8).sum(1)\n",
    "    loss = loss_func(x,y)*diff_place\n",
    "    return torch.mean(loss)"
   ]
  },
  {
   "cell_type": "code",
   "execution_count": 20,
   "metadata": {},
   "outputs": [],
   "source": [
    "def custom_l1_place_1(x=None,y=None,beta=0.1):\n",
    "    loss_func=nn.SmoothL1Loss(reduction='none',beta=beta)\n",
    "    sorts_t = torch.argsort(y)\n",
    "    weight_adj = 1/(sorts_t+0.5) # WOOOH MAGIC NUMBER BAD :(\n",
    "    out = sorts_t.narrow(1,0,3)\n",
    "    ohe = torch.nn.functional.one_hot(out, num_classes=8).sum(1)\n",
    "    loss = loss_func(x,y)*weight_adj\n",
    "    return torch.mean(loss)"
   ]
  },
  {
   "cell_type": "code",
   "execution_count": 21,
   "metadata": {},
   "outputs": [],
   "source": [
    "def make(config, dataset):\n",
    "    # Make the data\n",
    "\n",
    "    train_loader = make_loader(dataset, config, train=True)\n",
    "    test_loader = make_loader(dataset, config, train=False)\n",
    "    # Make the model\n",
    "    # model = Net().to(device)\n",
    "    model = build_network(\n",
    "        config[\"f1_layer_size\"], config[\"f2_layer_size\"], config[\"dropout\"], config[\"num_layers\"]\n",
    "    )\n",
    "\n",
    "    loss_functions = {\n",
    "        \"Huber\":nn.HuberLoss(),\n",
    "        \"Huber_custom\":loss_customiser,\n",
    "        \"l1_custom\":custom_l1_place,\n",
    "        \"l1_custom_1stplace\":custom_l1_place_1,\n",
    "        \"MSE\":nn.MSELoss(),\n",
    "        \"L1\":nn.SmoothL1Loss(reduction='mean', beta=config[\"l1_beta\"]),\n",
    "        \"BCE\":nn.CrossEntropyLoss(),\n",
    "        \"Custom\":custom_MSE,\n",
    "        \"KL\":nn.KLDivLoss(reduction='batchmean'),\n",
    "        \"NLL\":nn.NLLLoss()\n",
    "    }\n",
    "    # Make the loss and optimizer\n",
    "    #  criterion = nn.NLLLoss()\n",
    "    loss_f = loss_functions[config['loss']]\n",
    "    criterion = loss_f\n",
    "    optimizer = config[\"optimizer\"]\n",
    "\n",
    "    if optimizer == \"sgd\":\n",
    "        optimizer = optim.SGD(\n",
    "            model.parameters(), lr=config[\"learning_rate\"], momentum=0.9\n",
    "        )\n",
    "    if optimizer == \"adam\":\n",
    "        optimizer = optim.Adam(model.parameters(), lr=config[\"learning_rate\"])\n",
    "    print(optimizer)\n",
    "    if optimizer == \"adamW\":\n",
    "        print(\"HERE\")\n",
    "    optimizer = optim.AdamW(model.parameters(), lr=config[\"learning_rate\"])\n",
    "\n",
    "    return model, train_loader, test_loader, criterion, optimizer\n"
   ]
  },
  {
   "cell_type": "code",
   "execution_count": 35,
   "metadata": {},
   "outputs": [],
   "source": [
    "def test(model, test_loader, epoch):\n",
    "    model.eval()\n",
    "    classL, predL, maxL, correctL, priceP, priceR, bfPriceR, pred_odds, model_outputs, race_ID_list, delta_odds_list, prices_L = [], [], [], [], [], [], [], [], [], [], [], []\n",
    "    # Run the model on some test examples\n",
    "    with torch.no_grad():\n",
    "        correct, total, max_sum, max_w_sum, profit, bfprofit, bfnotavail, bf_available,bf_only_bets, bf_only_profit, test_val,bf_sp_prices, zero_price = 0, 0, 0, 0, 0,0,0,0,0,0 ,0,0,0\n",
    "        alt_bet_1, alt_bet_2 = 0,0\n",
    "        value_pick_correct, value_pick_profit = 0, 0\n",
    "        num_bets = 0\n",
    "        for images, labels, prices, bfspPrices, raceID in test_loader:\n",
    "\n",
    "            outputs = model(images)\n",
    "            race_ID_list.append(raceID.item())\n",
    "\n",
    "            #converts prices from tensor to list\n",
    "            prices = prices[0,].tolist()\n",
    "            bfspPrices = bfspPrices[0,].tolist()\n",
    "\n",
    "            #gets the prediction and its confidence and the real class\n",
    "            max, predicted = torch.max(outputs.data, 1)\n",
    "            _, real = torch.max(labels.data, 1)\n",
    "\n",
    "            #converts prediction from tensor to item\n",
    "            prediction = predicted.item()\n",
    "            real_item = real.item()\n",
    "\n",
    "\n",
    "            #appends prediction and likelyhood to lists\n",
    "            predL.append(prediction)\n",
    "            maxL.append(max.item())\n",
    "\n",
    "        \n",
    "            total += labels.size(0)\n",
    "            correct += prediction == real_item\n",
    "\n",
    "            correctL.append(int(prediction == real_item))\n",
    "            classL.append(real_item)\n",
    "\n",
    "            priceR.append(prices[real_item])\n",
    "            priceP.append(prices[prediction])\n",
    "            prices_L.append(prices)\n",
    "            bfPriceR.append(bfspPrices[real_item])\n",
    "            # print(outputs.data.flatten().tolist())\n",
    "\n",
    "            bf_odds_filled = []\n",
    "            for i,odd in enumerate(bfspPrices):\n",
    "                if odd:\n",
    "                    bf_odds_filled.append(odd)\n",
    "                else:\n",
    "                    bf_odds_filled.append(prices[i])\n",
    "\n",
    "            predicted_odds = [\n",
    "                1 / ((x + 10**-7)) for x in outputs.data.flatten().tolist()\n",
    "            ]\n",
    "\n",
    "            delta_odds = [x - y for x, y in zip(bf_odds_filled, predicted_odds)]\n",
    "\n",
    "            delta_odds_list.append(delta_odds)\n",
    "            pred_odds.append(predicted_odds)\n",
    "            model_outputs.append(outputs.data.flatten().tolist())\n",
    "\n",
    "            if prices[real_item] > (predicted_odds[real_item]):\n",
    "                value_pick_correct += 1\n",
    "                value_pick_profit += prices[real_item]\n",
    "                \n",
    "\n",
    "            bets = [x > (y) for x, y in zip(prices, predicted_odds)]\n",
    "            num_bets += sum(bets)\n",
    "\n",
    "            value_pick_profit += -sum(bets)\n",
    "\n",
    "            delta_pred = prices[prediction]-predicted_odds[prediction]\n",
    "            alt_bet_1 -= 1+10*delta_pred\n",
    "            alt_bet_2 -= 5\n",
    "\n",
    "\n",
    "            if bfspPrices[prediction]:\n",
    "                bf_only_bets += 1\n",
    "                bf_only_profit -= 1\n",
    "                bf_sp_prices += bfspPrices[prediction]\n",
    "                test_val += 1\n",
    "\n",
    "            if prediction == real_item:\n",
    "                if prices[real_item]==0:\n",
    "                    zero_price +=1\n",
    "                    #print(raceID.item())\n",
    "                max_sum += max\n",
    "                profit += prices[real_item]\n",
    "                if bfspPrices[real_item]:\n",
    "                    bfprofit += bfspPrices[real_item]\n",
    "                    bf_only_profit += bfspPrices[real_item]\n",
    "                    alt_bet_1 += (1+10*delta_pred)*bfspPrices[real_item]\n",
    "                    alt_bet_2 += 5*bfspPrices[real_item]\n",
    "                    bf_available += 1\n",
    "                    test_val -= 1\n",
    "                else:\n",
    "                    bfprofit += prices[real_item]*1.12\n",
    "                    bfnotavail += 1\n",
    "                    alt_bet_1 += (1+10*delta_pred)*prices[real_item]*1.12\n",
    "                    alt_bet_2 += 5*prices[real_item]*1.12\n",
    "            else:\n",
    "                max_w_sum += max\n",
    "\n",
    "            profit += -1\n",
    "            bfprofit += -1\n",
    "\n",
    "            # print(f\"{correct=}\")\n",
    "\n",
    "        # print(f\"Accuracy of the model on the {total} \" +\n",
    "        #       f\"test images: {100 * correct / total}%\" +\n",
    "        #       f\"profit: {profit}\"+\n",
    "        #       f\"profit: {value_pick_profit}\")\n",
    "\n",
    "        wandb.log(\n",
    "            {\n",
    "                \"test_accuracy\": correct / total,\n",
    "                \"correct_conf\": max_sum / correct,\n",
    "                \"incorrect_conf\": (max_w_sum) / (total - correct),\n",
    "                \"profit\": profit,\n",
    "                \"bfprofit\": bfprofit,\n",
    "                \"bfnotavail\": bfnotavail,\n",
    "                \"value_pick_roi\": value_pick_profit / num_bets,\n",
    "                \"value_pick_correct\": value_pick_correct,\n",
    "                \"num_bets_per\": num_bets / total,\n",
    "                \"bf_avail\": bf_available,\n",
    "                \"bfOnlyProfit\": bf_only_profit,\n",
    "                \"bfOnlyBets\": bf_only_bets,\n",
    "                \"test_val\": test_val,\n",
    "                \"alt_bet_1\":alt_bet_1,\n",
    "                \"alt_bet_2\":alt_bet_2,\n",
    "                \"zero_price\":zero_price\n",
    "            }\n",
    "        )\n",
    "\n",
    "        if epoch%100==0:\n",
    "\n",
    "            logdf = pd.DataFrame(\n",
    "                data={\n",
    "                    \"class\": classL,\n",
    "                    \"pred\": predL,\n",
    "                    \"max\": maxL,\n",
    "                    \"correct\": correctL,\n",
    "                    \"priceR\": priceR,\n",
    "                    \"priceP\": priceP,\n",
    "                    \"bets\": sum(bets),\n",
    "                    \"pred_odds\": pred_odds,\n",
    "                    \"model_outputs\": model_outputs,\n",
    "                    \"bfodds\" : bfPriceR,\n",
    "                    \"raceID\":race_ID_list,\n",
    "                    \"delta_odds\":delta_odds_list,\n",
    "                    \"pricesL\":prices_L\n",
    "                    \n",
    "                }\n",
    "            )\n",
    "\n",
    "            table = wandb.Table(dataframe=logdf)\n",
    "            wandb.log({\"table_key\": table})\n",
    "        # classCounts = logdf[\"class\"].value_counts()\n",
    "        # predCounts = logdf[\"pred\"].value_counts()\n",
    "        # boxplot = logdf.boxplot(column=['priceR'],by='correct')\n",
    "        # print(classCounts, predCounts)\n",
    "        # boxplot\n",
    "        # plt.savefig(\"boxplot.png\")\n",
    "        # wandb.log({\"boxplot\":boxplot})\n",
    "\n",
    "\n"
   ]
  },
  {
   "cell_type": "code",
   "execution_count": 23,
   "metadata": {},
   "outputs": [],
   "source": [
    "def train_log(loss, example_ct, epoch):\n",
    "    # Where the magic happens\n",
    "    wandb.log({\"epoch\": epoch, \"loss\": loss}, step=example_ct)\n",
    "    #print(f\"Loss after \" + str(example_ct).zfill(5) + f\" examples: {loss:.3f}\")"
   ]
  },
  {
   "cell_type": "code",
   "execution_count": 24,
   "metadata": {},
   "outputs": [],
   "source": [
    "def model_saver(model, optimizer, epoch, loss):\n",
    "    \n",
    "    pathtofolder = \"C:/Users/Nick/Documents/GitHub/grvmodel/Python/pytorch/New Model\"\n",
    "    model_name = wandb.run.name\n",
    "    isExist = os.path.exists(\n",
    "        f\"C:/Users/Nick/Documents/GitHub/grvmodel/Python/pytorch/New Model/savedmodel/{model_name}/\"\n",
    "    )\n",
    "    if isExist:\n",
    "        torch.save(\n",
    "            {\n",
    "                \"epoch\": epoch,\n",
    "                \"model_state_dict\": model.state_dict(),\n",
    "                \"optimizer_state_dict\": optimizer.state_dict(),\n",
    "                \"loss\": loss,\n",
    "            },\n",
    "            f\"C:/Users/Nick/Documents/GitHub/grvmodel/Python/pytorch/New Model/savedmodel/{model_name}/{model_name}_{epoch}.pt\",\n",
    "        )\n",
    "    else:\n",
    "        print(\"created path\")\n",
    "        os.makedirs(\n",
    "            f\"C:/Users/Nick/Documents/GitHub/grvmodel/Python/pytorch/New Model/savedmodel/{model_name}/\"\n",
    "        )\n",
    "        torch.save(\n",
    "            {\n",
    "                \"epoch\": epoch,\n",
    "                \"model_state_dict\": model.state_dict(),\n",
    "                \"optimizer_state_dict\": optimizer.state_dict(),\n",
    "                \"loss\": loss,\n",
    "            },\n",
    "            f\"C:/Users/Nick/Documents/GitHub/grvmodel/Python/pytorch/New Model/savedmodel/{model_name}/{model_name}_{epoch}.pt\",\n",
    "        )\n"
   ]
  },
  {
   "cell_type": "code",
   "execution_count": 25,
   "metadata": {},
   "outputs": [],
   "source": [
    "def train(model, loader,test_loader, criterion, optimizer, config):\n",
    "    # Tell wandb to watch what the model gets up to: gradients, weights, and more!\n",
    "    wandb.watch(model, criterion, log=\"all\", log_freq=10)\n",
    "\n",
    "    # Run training and track with wandb\n",
    "    total_batches = len(loader) * config.epochs\n",
    "    example_ct = 0  # number of examples seen\n",
    "    batch_ct = 0\n",
    "\n",
    "    raw_inputs = True\n",
    "    if config['loss'] == \"KL\":\n",
    "\n",
    "        for epoch in tqdm(range(config.epochs)):\n",
    "            for _, (images, labels, _ , _, _) in enumerate(loader):\n",
    "\n",
    "                loss = train_batch_lsftmax(images, labels, model, optimizer, criterion, btch_count=batch_ct, raw_inputs=True)\n",
    "                example_ct +=  len(images)\n",
    "                batch_ct += 1\n",
    "\n",
    "                # Report metrics every 25th batch\n",
    "                if ((batch_ct + 1) % 250) == 0:\n",
    "                    train_log(loss, example_ct, epoch)\n",
    "                    \n",
    "\n",
    "            if epoch %10 ==0:\n",
    "                test(model,test_loader, epoch)\n",
    "                model_saver(model,optimizer,epoch,loss)\n",
    "\n",
    "    else:\n",
    "        for epoch in tqdm(range(config.epochs)):\n",
    "            for _, (images, labels, _ , _, _) in enumerate(loader):\n",
    "\n",
    "                loss = train_batch(images, labels, model, optimizer, criterion, btch_count=batch_ct, raw_inputs=True)\n",
    "                example_ct +=  len(images)\n",
    "                batch_ct += 1\n",
    "\n",
    "                # Report metrics every 25th batch\n",
    "                if ((batch_ct + 1) % 250) == 0:\n",
    "                    train_log(loss, example_ct, epoch)\n",
    "\n",
    "            if epoch %10 ==0:\n",
    "                test(model,test_loader, epoch)\n",
    "                model_saver(model, optimizer, epoch, loss)\n",
    "\n",
    "def train_batch(images, labels, model, optimizer, criterion, btch_count=0, raw_inputs=True, beta=0.1):\n",
    "    images, labels = images, labels\n",
    "    \n",
    "\n",
    "    # Forward pass ➡\n",
    "    outputs = model(images)\n",
    "    loss = criterion(outputs, labels.float())\n",
    "    \n",
    "    # Backward pass ⬅\n",
    "    optimizer.zero_grad()\n",
    "    loss.backward()\n",
    "\n",
    "    # Step with optimizer\n",
    "    optimizer.step()\n",
    "\n",
    "    return loss\n",
    "\n",
    "\n",
    "def train_batch_lsftmax(images, labels, model, optimizer, criterion, btch_count=0, raw_inputs=True):\n",
    "    images, labels = images, labels\n",
    "    \n",
    "\n",
    "    # Forward pass ➡\n",
    "    outputs = model(images)\n",
    "    loss = criterion(F.log_softmax(outputs), labels.float())\n",
    "    \n",
    "    # Backward pass ⬅\n",
    "    optimizer.zero_grad()\n",
    "    loss.backward()\n",
    "\n",
    "    # Step with optimizer\n",
    "    optimizer.step()\n",
    "\n",
    "    return loss"
   ]
  },
  {
   "cell_type": "code",
   "execution_count": 26,
   "metadata": {},
   "outputs": [],
   "source": [
    "def model_pipeline(config=None,prev_model=None):\n",
    "    dataset = my_dataset\n",
    "    # tell wandb to get started\n",
    "    with wandb.init(project=\"new customs 71.7K\", config=config):\n",
    "      # access all HPs through wandb.config, so logging matches execution!\n",
    "      wandb.define_metric(\"loss\", summary=\"min\")\n",
    "      wandb.define_metric(\"test_accuracy\", summary=\"max\")\n",
    "      wandb.define_metric(\"bfprofit\", summary=\"max\")\n",
    "      config = wandb.config\n",
    "      pprint.pprint(config)\n",
    "      pprint.pprint(config.epochs)\n",
    "      print(config)\n",
    "\n",
    "      # make the model, data, and optimization problem\n",
    "      model, train_loader, test_loader, criterion, optimizer = make(config, dataset)\n",
    "\n",
    "      prev_model = r'C:\\Users\\Nick\\Documents\\GitHub\\grvmodel\\Python\\pytorch\\New Model\\good models\\worthy-sweep-6_290.pt'\n",
    "      if prev_model:\n",
    "        checkpoint = torch.load(prev_model, map_location=\"cuda:0\")\n",
    "        print(\"here\")\n",
    "        model.load_state_dict(checkpoint['model_state_dict'])\n",
    "        # optimizer.load_state_dict(checkpoint['optimizer_state_dict'])\n",
    "      model = model.to(device)\n",
    "      #optimizer = optimizer.to(device)\n",
    "      print(model)\n",
    "\n",
    "      # and use them to train the model\n",
    "      train(model, train_loader,test_loader, criterion, optimizer, config)\n",
    "\n",
    "      # and test its final performance\n",
    "      #test(model, test_loader)\n",
    "\n",
    "    return model"
   ]
  },
  {
   "cell_type": "code",
   "execution_count": 27,
   "metadata": {},
   "outputs": [
    {
     "name": "stdout",
     "output_type": "stream",
     "text": [
      "{'method': 'random',\n",
      " 'metric': {'goal': 'maximize', 'name': 'profit'},\n",
      " 'parameters': {'batch_size': {'values': [1000]},\n",
      "                'dropout': {'values': [0.3, 0.4, 0.5]},\n",
      "                'epochs': {'values': [1000]},\n",
      "                'f1_layer_size': {'values': [256]},\n",
      "                'f2_layer_size': {'values': [64]},\n",
      "                'l1_beta': {'distribution': 'uniform', 'max': 1, 'min': 0},\n",
      "                'learning_rate': {'distribution': 'uniform',\n",
      "                                  'max': 0.001,\n",
      "                                  'min': 0.00011},\n",
      "                'len_data': {'value': 72546},\n",
      "                'loss': {'values': ['L1']},\n",
      "                'num_layers': {'values': [2]},\n",
      "                'optimizer': {'value': 'adamW'},\n",
      "                'validation_split': {'value': 0.1}}}\n"
     ]
    },
    {
     "data": {
      "text/plain": [
       "{'method': 'random',\n",
       " 'metric': {'name': 'profit', 'goal': 'maximize'},\n",
       " 'parameters': {'optimizer': {'value': 'adamW'},\n",
       "  'f1_layer_size': {'values': [256]},\n",
       "  'f2_layer_size': {'values': [64]},\n",
       "  'dropout': {'values': [0.3, 0.4, 0.5]},\n",
       "  'len_data': {'value': 72546},\n",
       "  'epochs': {'values': [1000]},\n",
       "  'validation_split': {'value': 0.1},\n",
       "  'loss': {'values': ['L1']},\n",
       "  'num_layers': {'values': [2]},\n",
       "  'learning_rate': {'distribution': 'uniform', 'min': 0.00011, 'max': 0.001},\n",
       "  'l1_beta': {'distribution': 'uniform', 'min': 0, 'max': 1},\n",
       "  'batch_size': {'values': [1000]}}}"
      ]
     },
     "execution_count": 27,
     "metadata": {},
     "output_type": "execute_result"
    }
   ],
   "source": [
    "sweep_config = {\"method\": \"random\"}\n",
    "\n",
    "metric = {\"name\": \"profit\", \"goal\": \"maximize\"}\n",
    "\n",
    "sweep_config[\"metric\"] = metric\n",
    "\n",
    "\n",
    "parameters_dict = {\n",
    "    \"optimizer\": {\"value\": \"adamW\"},\n",
    "    \"f1_layer_size\": {\"values\": [256]},\n",
    "    \"f2_layer_size\": {\"values\": [64]},\n",
    "    \"dropout\": {\"values\": [0.3, 0.4, 0.5]},\n",
    "    \"len_data\": {\"value\": len_dataset},\n",
    "}\n",
    "\n",
    "sweep_config[\"parameters\"] = parameters_dict\n",
    "\n",
    "parameters_dict.update(\n",
    "    {\n",
    "        \"epochs\": {\"values\": [1000]},\n",
    "        \"validation_split\": {\"value\": 0.1},\n",
    "        \"loss\": {\n",
    "            \"values\": [ \"L1\"],\n",
    "            # \"values\": [\"Huber\", \"MSE\", \"L1\", \"BCE\", \"Custom\", \"KL\"]\n",
    "            # 'value': 'l1_custom'\n",
    "        },\n",
    "        \"num_layers\": {\"values\": [2]},\n",
    "    }\n",
    ")\n",
    "\n",
    "parameters_dict.update(\n",
    "    {\n",
    "        \"learning_rate\": {\n",
    "            # a flat distribution between 0 and 0.1\n",
    "            \"distribution\": \"uniform\",\n",
    "            \"min\": 0.00011,\n",
    "            \"max\": 0.001,\n",
    "        },\n",
    "        \"l1_beta\": {\n",
    "            # a flat distribution between 0 and 0.1\n",
    "            \"distribution\": \"uniform\",\n",
    "            \"min\": 0,\n",
    "            \"max\": 1,\n",
    "        },\n",
    "        \"batch_size\": {\n",
    "            'values': [1000]\n",
    "            # \"values\": [32, 64, 128, 360, 720]\n",
    "            # 'values':[4,8,16,32,64,128,360]\n",
    "        },\n",
    "    }\n",
    ")\n",
    "\n",
    "import pprint\n",
    "\n",
    "pprint.pprint(sweep_config)\n",
    "\n",
    "\n",
    "sweep_config\n"
   ]
  },
  {
   "cell_type": "code",
   "execution_count": 36,
   "metadata": {},
   "outputs": [
    {
     "data": {
      "text/html": [
       "wandb version 0.13.4 is available!  To upgrade, please run:\n",
       " $ pip install wandb --upgrade"
      ],
      "text/plain": [
       "<IPython.core.display.HTML object>"
      ]
     },
     "metadata": {},
     "output_type": "display_data"
    },
    {
     "data": {
      "text/html": [
       "Tracking run with wandb version 0.12.14"
      ],
      "text/plain": [
       "<IPython.core.display.HTML object>"
      ]
     },
     "metadata": {},
     "output_type": "display_data"
    },
    {
     "data": {
      "text/html": [
       "Run data is saved locally in <code>c:\\Users\\Nick\\Documents\\GitHub\\grvmodel\\Python\\pytorch\\New Model\\wandb\\run-20221015_131355-1xopan0d</code>"
      ],
      "text/plain": [
       "<IPython.core.display.HTML object>"
      ]
     },
     "metadata": {},
     "output_type": "display_data"
    },
    {
     "data": {
      "text/html": [
       "Syncing run <strong><a href=\"https://wandb.ai/nickojelly/new%20customs%2071.7K/runs/1xopan0d\" target=\"_blank\">driven-snowflake-49</a></strong> to <a href=\"https://wandb.ai/nickojelly/new%20customs%2071.7K\" target=\"_blank\">Weights & Biases</a> (<a href=\"https://wandb.me/run\" target=\"_blank\">docs</a>)<br/>"
      ],
      "text/plain": [
       "<IPython.core.display.HTML object>"
      ]
     },
     "metadata": {},
     "output_type": "display_data"
    },
    {
     "name": "stderr",
     "output_type": "stream",
     "text": [
      "  0%|          | 0/1000 [00:00<?, ?it/s]"
     ]
    },
    {
     "name": "stdout",
     "output_type": "stream",
     "text": [
      "{'batch_size': 360, 'dropout': 0.3, 'epochs': 1000, 'f1_layer_size': 256, 'f2_layer_size': 64, 'learning_rate': 0.0001, 'loss': 'L1', 'l1_beta': 0.1, 'len_data': 72546, 'num_layers': 2, 'optimizer': 'adamW', 'validation_split': 0.1}\n",
      "1000\n",
      "{'batch_size': 360, 'dropout': 0.3, 'epochs': 1000, 'f1_layer_size': 256, 'f2_layer_size': 64, 'learning_rate': 0.0001, 'loss': 'L1', 'l1_beta': 0.1, 'len_data': 72546, 'num_layers': 2, 'optimizer': 'adamW', 'validation_split': 0.1}\n",
      "adamW\n",
      "HERE\n",
      "here\n",
      "Sequential(\n",
      "  (0): Linear(in_features=144, out_features=256, bias=True)\n",
      "  (1): ReLU()\n",
      "  (2): Dropout(p=0.3, inplace=False)\n",
      "  (3): Linear(in_features=256, out_features=64, bias=True)\n",
      "  (4): ReLU()\n",
      "  (5): Dropout(p=0.3, inplace=False)\n",
      "  (6): Linear(in_features=64, out_features=8, bias=True)\n",
      "  (7): Softmax(dim=1)\n",
      ")\n"
     ]
    },
    {
     "name": "stderr",
     "output_type": "stream",
     "text": [
      "  0%|          | 1/1000 [00:20<5:38:04, 20.30s/it]"
     ]
    },
    {
     "name": "stdout",
     "output_type": "stream",
     "text": [
      "created path\n"
     ]
    },
    {
     "name": "stderr",
     "output_type": "stream",
     "text": [
      "100%|██████████| 1000/1000 [53:30<00:00,  3.21s/it] \n"
     ]
    },
    {
     "name": "stdout",
     "output_type": "stream",
     "text": [
      "\n"
     ]
    },
    {
     "data": {
      "text/html": [
       "Waiting for W&B process to finish... <strong style=\"color:green\">(success).</strong>"
      ],
      "text/plain": [
       "<IPython.core.display.HTML object>"
      ]
     },
     "metadata": {},
     "output_type": "display_data"
    },
    {
     "data": {
      "application/vnd.jupyter.widget-view+json": {
       "model_id": "f51807cdf7e84f4da05c55329d2647bf",
       "version_major": 2,
       "version_minor": 0
      },
      "text/plain": [
       "VBox(children=(Label(value='83.809 MB of 83.809 MB uploaded (0.000 MB deduped)\\r'), FloatProgress(value=1.0, m…"
      ]
     },
     "metadata": {},
     "output_type": "display_data"
    },
    {
     "data": {
      "text/html": [
       "<style>\n",
       "    table.wandb td:nth-child(1) { padding: 0 10px; text-align: right }\n",
       "    .wandb-row { display: flex; flex-direction: row; flex-wrap: wrap; width: 100% }\n",
       "    .wandb-col { display: flex; flex-direction: column; flex-basis: 100%; flex: 1; padding: 10px; }\n",
       "    </style>\n",
       "<div class=\"wandb-row\"><div class=\"wandb-col\"><h3>Run history:</h3><br/><table class=\"wandb\"><tr><td>alt_bet_1</td><td>▄▆█▆▅▆▇█▇▇▆▅█▆▇▅█▅▆▄▆▅▄▄▇▆▆▆▃▂▂▆▄▃▂▁▁▅▁▃</td></tr><tr><td>alt_bet_2</td><td>▁▄▆█▃▆▇█▅▆▆▄█▆▆▆▆▅▆▅▄▄▄▂▅▆▅▄▃▂▂▅▇▂▅▂▁▇▁▄</td></tr><tr><td>bfOnlyBets</td><td>▅▃▃▄▅▃▄▅▄▃▂▅▅▃▁▃▄▃▃▂▄▄▁▄▅▄▃▆▅▅▂▆▇▇▆▄▂▆██</td></tr><tr><td>bfOnlyProfit</td><td>▁▅▆▇▅▇▆▇▅▆▆▅▇▆▆▆▆▆▇▆▅▅▆▃▆▆▆▅▄▄▄▆▇▄▇▄▃█▄▆</td></tr><tr><td>bf_avail</td><td>▁▇▇█▆▇▇▇▅▅▅▆▆▆▄▅▅▅▅▅▄▄▄▂▅▄▄▂▃▃▃▄▄▂▄▃▁▃▂▂</td></tr><tr><td>bfnotavail</td><td>▄▆▆█▅▄▇▆▆▆▆▅▆▄█▇▆▆▆▆▄▅▄▄▅▅▅▄▄▅▂▃▅▁▂▃▆▃▃▂</td></tr><tr><td>bfprofit</td><td>▁▄▆█▃▆▇█▅▆▆▄█▆▆▆▆▅▆▅▄▄▄▂▅▆▅▄▃▂▂▅▇▂▅▂▁▇▁▄</td></tr><tr><td>correct_conf</td><td>▁▅▅▅▅▅▆▆▆▆▆▆▆▆▆▆▆▆▇▆▇▇▇▇▇▇▇▇▇▇▇▇▇▇▇█▇▇█▇</td></tr><tr><td>epoch</td><td>▁▁▁▁▂▂▂▂▂▃▃▃▃▃▄▄▄▄▄▄▅▅▅▅▅▅▆▆▆▆▆▇▇▇▇▇████</td></tr><tr><td>incorrect_conf</td><td>▁▅▅▅▅▅▆▅▆▆▆▆▆▆▆▆▆▇▇▇▇▇▇▆▇▇▇▇▇▇▇▇▇▇▇█▇▇█▇</td></tr><tr><td>loss</td><td>▇█▆▆▆▃▆▅▆▆█▅█▆▆▅▃▃▃▄▃▄▄▇▃▅▅▆▅▂▆▃▂▂▅▂▅▆▂▁</td></tr><tr><td>num_bets_per</td><td>█▄▃▃▃▃▃▃▃▃▃▃▃▃▂▂▂▂▂▂▂▂▂▂▂▂▂▂▂▂▂▂▂▂▂▁▂▂▁▂</td></tr><tr><td>profit</td><td>▂▅▆█▃▅▆█▄▆▅▄▇▆▆▆▅▅▄▄▃▄▃▂▅▅▅▄▂▃▁▅▆▂▄▂▁▆▂▃</td></tr><tr><td>test_accuracy</td><td>▁▇▇█▆▆▇▇▅▅▅▆▆▅▄▅▅▅▅▅▃▄▄▂▄▄▄▂▃▃▂▃▄▁▃▃▁▃▂▂</td></tr><tr><td>test_val</td><td>█▂▁▁▃▂▂▂▄▃▃▃▃▃▄▄▄▄▃▃▅▅▄▇▄▅▄█▆▆▅▅▅▇▆▆▇▆▇█</td></tr><tr><td>value_pick_correct</td><td>▁▄▅▆▅▅▆▅▇▅▆▆▅▆▆▆▆▆▇▇▇▇▇▇▆▇▇▇█▇▇▇▆▆▇█▆▆▆▆</td></tr><tr><td>value_pick_roi</td><td>▁▃▃▅▃▃▅▄▇▄▄▅▄▄▅▅▆▅▇█▅█▆▇▆▆▆▇█▇▅█▅▄▄▆▄▁▂█</td></tr><tr><td>zero_price</td><td>▁▁▁▁▁▁▁▁▁▁▁▁▁▁▁▁▁▁▁▁▁▁▁▁▁▁▁▁▁▁▁▁▁▁▁▁▁▁▁▁</td></tr></table><br/></div><div class=\"wandb-col\"><h3>Run summary:</h3><br/><table class=\"wandb\"><tr><td>alt_bet_1</td><td>60260.18875</td></tr><tr><td>alt_bet_2</td><td>569.68324</td></tr><tr><td>bfOnlyBets</td><td>6119</td></tr><tr><td>bfOnlyProfit</td><td>243.57985</td></tr><tr><td>bf_avail</td><td>1500</td></tr><tr><td>bfnotavail</td><td>261</td></tr><tr><td>correct_conf</td><td>0.47799</td></tr><tr><td>epoch</td><td>999</td></tr><tr><td>incorrect_conf</td><td>0.4348</td></tr><tr><td>num_bets_per</td><td>2.8689</td></tr><tr><td>profit</td><td>-1071.74</td></tr><tr><td>test_val</td><td>4619</td></tr><tr><td>value_pick_correct</td><td>1860</td></tr><tr><td>value_pick_roi</td><td>-0.23928</td></tr><tr><td>zero_price</td><td>0</td></tr></table><br/></div></div>"
      ],
      "text/plain": [
       "<IPython.core.display.HTML object>"
      ]
     },
     "metadata": {},
     "output_type": "display_data"
    },
    {
     "data": {
      "text/html": [
       "Synced <strong style=\"color:#cdcd00\">driven-snowflake-49</strong>: <a href=\"https://wandb.ai/nickojelly/new%20customs%2071.7K/runs/1xopan0d\" target=\"_blank\">https://wandb.ai/nickojelly/new%20customs%2071.7K/runs/1xopan0d</a><br/>Synced 5 W&B file(s), 10 media file(s), 10 artifact file(s) and 0 other file(s)"
      ],
      "text/plain": [
       "<IPython.core.display.HTML object>"
      ]
     },
     "metadata": {},
     "output_type": "display_data"
    },
    {
     "data": {
      "text/html": [
       "Find logs at: <code>.\\wandb\\run-20221015_131355-1xopan0d\\logs</code>"
      ],
      "text/plain": [
       "<IPython.core.display.HTML object>"
      ]
     },
     "metadata": {},
     "output_type": "display_data"
    }
   ],
   "source": [
    "\n",
    "wandb_config_static = {'batch_size': 360, 'dropout': 0.3, 'epochs': 1000, 'f1_layer_size': 256, 'f2_layer_size': 64 , 'learning_rate': 0.0001, 'loss': 'L1', 'l1_beta':0.1, \"len_data\": len_dataset, 'num_layers': 2, 'optimizer': 'adamW', 'validation_split': 0.1}\n",
    "model = model_pipeline(config=wandb_config_static)\n",
    "# wandb.init()\n",
    "# model = model_pipeline(config=wandb_config_static, prev_model=r'C:\\Users\\Nick\\Documents\\GitHub\\grvmodel\\Python\\pytorch\\New Model\\good models\\vocal-sweep-80_90.pt')"
   ]
  },
  {
   "cell_type": "code",
   "execution_count": 37,
   "metadata": {},
   "outputs": [
    {
     "name": "stdout",
     "output_type": "stream",
     "text": [
      "Create sweep with ID: s56m9tsl\n",
      "Sweep URL: https://wandb.ai/nickojelly/grv_priced_sweep_custom_new_box/sweeps/s56m9tsl\n"
     ]
    },
    {
     "name": "stderr",
     "output_type": "stream",
     "text": [
      "\u001b[34m\u001b[1mwandb\u001b[0m: Agent Starting Run: ch83m2jb with config:\n",
      "\u001b[34m\u001b[1mwandb\u001b[0m: \tbatch_size: 1000\n",
      "\u001b[34m\u001b[1mwandb\u001b[0m: \tdropout: 0.3\n",
      "\u001b[34m\u001b[1mwandb\u001b[0m: \tepochs: 1000\n",
      "\u001b[34m\u001b[1mwandb\u001b[0m: \tf1_layer_size: 256\n",
      "\u001b[34m\u001b[1mwandb\u001b[0m: \tf2_layer_size: 64\n",
      "\u001b[34m\u001b[1mwandb\u001b[0m: \tl1_beta: 0.06931838167221116\n",
      "\u001b[34m\u001b[1mwandb\u001b[0m: \tlearning_rate: 0.000829931728485932\n",
      "\u001b[34m\u001b[1mwandb\u001b[0m: \tlen_data: 72546\n",
      "\u001b[34m\u001b[1mwandb\u001b[0m: \tloss: L1\n",
      "\u001b[34m\u001b[1mwandb\u001b[0m: \tnum_layers: 2\n",
      "\u001b[34m\u001b[1mwandb\u001b[0m: \toptimizer: adamW\n",
      "\u001b[34m\u001b[1mwandb\u001b[0m: \tvalidation_split: 0.1\n",
      "Failed to detect the name of this notebook, you can set it manually with the WANDB_NOTEBOOK_NAME environment variable to enable code saving.\n",
      "\u001b[34m\u001b[1mwandb\u001b[0m: \u001b[33mWARNING\u001b[0m Ignored wandb.init() arg project when running a sweep.\n"
     ]
    },
    {
     "data": {
      "text/html": [
       "wandb version 0.13.4 is available!  To upgrade, please run:\n",
       " $ pip install wandb --upgrade"
      ],
      "text/plain": [
       "<IPython.core.display.HTML object>"
      ]
     },
     "metadata": {},
     "output_type": "display_data"
    },
    {
     "data": {
      "text/html": [
       "Tracking run with wandb version 0.12.14"
      ],
      "text/plain": [
       "<IPython.core.display.HTML object>"
      ]
     },
     "metadata": {},
     "output_type": "display_data"
    },
    {
     "data": {
      "text/html": [
       "Run data is saved locally in <code>c:\\Users\\Nick\\Documents\\GitHub\\grvmodel\\Python\\pytorch\\New Model\\wandb\\run-20221015_140900-ch83m2jb</code>"
      ],
      "text/plain": [
       "<IPython.core.display.HTML object>"
      ]
     },
     "metadata": {},
     "output_type": "display_data"
    },
    {
     "data": {
      "text/html": [
       "Syncing run <strong><a href=\"https://wandb.ai/nickojelly/grv_priced_sweep_custom_new_box/runs/ch83m2jb\" target=\"_blank\">volcanic-sweep-1</a></strong> to <a href=\"https://wandb.ai/nickojelly/grv_priced_sweep_custom_new_box\" target=\"_blank\">Weights & Biases</a> (<a href=\"https://wandb.me/run\" target=\"_blank\">docs</a>)<br/>Sweep page:  <a href=\"https://wandb.ai/nickojelly/grv_priced_sweep_custom_new_box/sweeps/s56m9tsl\" target=\"_blank\">https://wandb.ai/nickojelly/grv_priced_sweep_custom_new_box/sweeps/s56m9tsl</a>"
      ],
      "text/plain": [
       "<IPython.core.display.HTML object>"
      ]
     },
     "metadata": {},
     "output_type": "display_data"
    },
    {
     "name": "stderr",
     "output_type": "stream",
     "text": [
      "  0%|          | 0/1000 [00:00<?, ?it/s]"
     ]
    },
    {
     "name": "stdout",
     "output_type": "stream",
     "text": [
      "{'batch_size': 1000, 'dropout': 0.3, 'epochs': 1000, 'f1_layer_size': 256, 'f2_layer_size': 64, 'l1_beta': 0.06931838167221116, 'learning_rate': 0.000829931728485932, 'len_data': 72546, 'loss': 'L1', 'num_layers': 2, 'optimizer': 'adamW', 'validation_split': 0.1}\n",
      "1000\n",
      "{'batch_size': 1000, 'dropout': 0.3, 'epochs': 1000, 'f1_layer_size': 256, 'f2_layer_size': 64, 'l1_beta': 0.06931838167221116, 'learning_rate': 0.000829931728485932, 'len_data': 72546, 'loss': 'L1', 'num_layers': 2, 'optimizer': 'adamW', 'validation_split': 0.1}\n",
      "adamW\n",
      "HERE\n",
      "here\n",
      "Sequential(\n",
      "  (0): Linear(in_features=144, out_features=256, bias=True)\n",
      "  (1): ReLU()\n",
      "  (2): Dropout(p=0.3, inplace=False)\n",
      "  (3): Linear(in_features=256, out_features=64, bias=True)\n",
      "  (4): ReLU()\n",
      "  (5): Dropout(p=0.3, inplace=False)\n",
      "  (6): Linear(in_features=64, out_features=8, bias=True)\n",
      "  (7): Softmax(dim=1)\n",
      ")\n"
     ]
    },
    {
     "name": "stderr",
     "output_type": "stream",
     "text": [
      "  0%|          | 1/1000 [00:20<5:38:58, 20.36s/it]"
     ]
    },
    {
     "name": "stdout",
     "output_type": "stream",
     "text": [
      "created path\n"
     ]
    },
    {
     "name": "stderr",
     "output_type": "stream",
     "text": [
      "100%|██████████| 1000/1000 [1:11:35<00:00,  4.30s/it]\n"
     ]
    },
    {
     "name": "stdout",
     "output_type": "stream",
     "text": [
      "\n"
     ]
    },
    {
     "data": {
      "text/html": [
       "Waiting for W&B process to finish... <strong style=\"color:green\">(success).</strong>"
      ],
      "text/plain": [
       "<IPython.core.display.HTML object>"
      ]
     },
     "metadata": {},
     "output_type": "display_data"
    },
    {
     "data": {
      "application/vnd.jupyter.widget-view+json": {
       "model_id": "7f90ff7111dc417bb2ed630e75a6c4d9",
       "version_major": 2,
       "version_minor": 0
      },
      "text/plain": [
       "VBox(children=(Label(value='83.992 MB of 83.992 MB uploaded (0.000 MB deduped)\\r'), FloatProgress(value=1.0, m…"
      ]
     },
     "metadata": {},
     "output_type": "display_data"
    },
    {
     "data": {
      "text/html": [
       "<style>\n",
       "    table.wandb td:nth-child(1) { padding: 0 10px; text-align: right }\n",
       "    .wandb-row { display: flex; flex-direction: row; flex-wrap: wrap; width: 100% }\n",
       "    .wandb-col { display: flex; flex-direction: column; flex-basis: 100%; flex: 1; padding: 10px; }\n",
       "    </style>\n",
       "<div class=\"wandb-row\"><div class=\"wandb-col\"><h3>Run history:</h3><br/><table class=\"wandb\"><tr><td>alt_bet_1</td><td>▁▄▅▂▄▅▇▅▄▇▄▄▄▃▄▅▆▅▄▅▄▃▄▂▂▃▄█▅▇▆▇▇▅▃▅▅▅▇▄</td></tr><tr><td>alt_bet_2</td><td>▁▅▆▂▅▅▇▇▆█▅▆▆▆▆▇▆▅▅▇▅▅▅▄▃▅▆▆▆▇▆▇▇▅▄▆▆▆▆▆</td></tr><tr><td>bfOnlyBets</td><td>▁▅▂▂▂▄▅▇▄▂▃▃▅▅▆▁▄▄▅▃▄▆▂▇█▄▇▆▇▂▅▄▃▅▇▃▅▅▄▃</td></tr><tr><td>bfOnlyProfit</td><td>▁▄▆▃▅▅▇▆▅█▅▅▅▅▆▆▆▅▅▇▅▅▆▄▃▅▆▇▆▇▆▇▆▆▄▇▆▆▆▆</td></tr><tr><td>bf_avail</td><td>▁██▄▆▇▆▇▅▄▄▅▆▅▅▄▃▃▃▄▄▃▃▂▃▂▅▃▄▃▂▂▂▃▂▁▃▃▁▃</td></tr><tr><td>bfnotavail</td><td>▄██▇▇▇▇█▇▂▅▆▇▇▅█▇█▆▇▇▆▆▅▄▅▅▃▅▆▅▆▇▄▄▁▅▆▆▆</td></tr><tr><td>bfprofit</td><td>▁▅▆▂▅▅▇▇▆█▅▆▆▆▆▇▆▅▅▇▅▅▅▄▃▅▆▆▆▇▆▇▇▅▄▆▆▆▆▆</td></tr><tr><td>correct_conf</td><td>▁▅▅▆▅▅▆▆▆▆▇▇▆▆▇▇▇▇▇▇▇▇▇▇▇▇▇▇▇█▇▇▇██▇████</td></tr><tr><td>epoch</td><td>▁▁▁▂▂▂▂▂▂▃▃▃▃▃▃▄▄▄▄▄▅▅▅▅▅▅▆▆▆▆▆▆▇▇▇▇▇███</td></tr><tr><td>incorrect_conf</td><td>▁▅▅▆▅▅▆▆▆▆▆▆▆▆▆▇▇▇▆▇▇▇▇▇▇▇▇▇██▇▇▇██▇▇███</td></tr><tr><td>loss</td><td>█▇▇▆▇▅▇▅▆▄▅▅▅▄▅▄▆▄▅▄▄▃▄▂▂▃▄▃▃▂▃▃▂▄▂▁▂▃▂▂</td></tr><tr><td>num_bets_per</td><td>█▃▃▂▃▃▂▃▂▃▂▂▃▂▂▂▂▂▂▂▂▂▂▂▂▂▂▂▁▁▂▁▂▁▁▂▁▁▁▁</td></tr><tr><td>profit</td><td>▁▅▆▁▄▆█▇▆█▅▆▆▆▆▇▅▅▄▆▅▅▄▄▂▄▆▅▅▆▅▆▅▄▃▆▄▅▃▅</td></tr><tr><td>test_accuracy</td><td>▂██▅▇▇▆▇▆▄▄▅▆▅▅▅▄▄▄▅▅▄▄▃▃▃▅▃▄▄▃▃▃▃▂▁▄▃▂▄</td></tr><tr><td>test_val</td><td>▇▂▁▄▃▂▄▄▄▅▅▄▄▅▅▄▆▆▇▅▅▇▅█▇▇▆▇▇▆▇▇▇▇██▇▇█▆</td></tr><tr><td>value_pick_correct</td><td>▁▆▆▇▇▆▇▆▇█▆▆▇▇▇▇▆▆▆▇▇▆▇▇▇▆▇▇▇▇▇▆▆▇▇▆▇█▆▇</td></tr><tr><td>value_pick_roi</td><td>▁▂▄▄▄▄▃▄▅▆▃▂▄▄▄▄▂▂▅▇▄▄▅▆▆▆▇▇▇█▅▇▅▇▆▇█▆▅▇</td></tr><tr><td>zero_price</td><td>▁▁▁▁▁▁▁▁▁▁▁▁▁▁▁▁▁▁▁▁▁▁▁▁▁▁▁▁▁▁▁▁▁▁▁▁▁▁▁▁</td></tr></table><br/></div><div class=\"wandb-col\"><h3>Run summary:</h3><br/><table class=\"wandb\"><tr><td>alt_bet_1</td><td>99949.80207</td></tr><tr><td>alt_bet_2</td><td>1371.89191</td></tr><tr><td>bfOnlyBets</td><td>6095</td></tr><tr><td>bfOnlyProfit</td><td>317.92558</td></tr><tr><td>bf_avail</td><td>1467</td></tr><tr><td>bfnotavail</td><td>269</td></tr><tr><td>correct_conf</td><td>0.58173</td></tr><tr><td>epoch</td><td>999</td></tr><tr><td>incorrect_conf</td><td>0.54307</td></tr><tr><td>num_bets_per</td><td>2.37014</td></tr><tr><td>profit</td><td>-1040.64</td></tr><tr><td>test_val</td><td>4628</td></tr><tr><td>value_pick_correct</td><td>1944</td></tr><tr><td>value_pick_roi</td><td>-0.20565</td></tr><tr><td>zero_price</td><td>0</td></tr></table><br/></div></div>"
      ],
      "text/plain": [
       "<IPython.core.display.HTML object>"
      ]
     },
     "metadata": {},
     "output_type": "display_data"
    },
    {
     "data": {
      "text/html": [
       "Synced <strong style=\"color:#cdcd00\">volcanic-sweep-1</strong>: <a href=\"https://wandb.ai/nickojelly/grv_priced_sweep_custom_new_box/runs/ch83m2jb\" target=\"_blank\">https://wandb.ai/nickojelly/grv_priced_sweep_custom_new_box/runs/ch83m2jb</a><br/>Synced 5 W&B file(s), 10 media file(s), 10 artifact file(s) and 0 other file(s)"
      ],
      "text/plain": [
       "<IPython.core.display.HTML object>"
      ]
     },
     "metadata": {},
     "output_type": "display_data"
    },
    {
     "data": {
      "text/html": [
       "Find logs at: <code>.\\wandb\\run-20221015_140900-ch83m2jb\\logs</code>"
      ],
      "text/plain": [
       "<IPython.core.display.HTML object>"
      ]
     },
     "metadata": {},
     "output_type": "display_data"
    },
    {
     "name": "stderr",
     "output_type": "stream",
     "text": [
      "\u001b[34m\u001b[1mwandb\u001b[0m: Agent Starting Run: 9fu3qhi0 with config:\n",
      "\u001b[34m\u001b[1mwandb\u001b[0m: \tbatch_size: 1000\n",
      "\u001b[34m\u001b[1mwandb\u001b[0m: \tdropout: 0.5\n",
      "\u001b[34m\u001b[1mwandb\u001b[0m: \tepochs: 1000\n",
      "\u001b[34m\u001b[1mwandb\u001b[0m: \tf1_layer_size: 256\n",
      "\u001b[34m\u001b[1mwandb\u001b[0m: \tf2_layer_size: 64\n",
      "\u001b[34m\u001b[1mwandb\u001b[0m: \tl1_beta: 0.8314966218611598\n",
      "\u001b[34m\u001b[1mwandb\u001b[0m: \tlearning_rate: 0.000766695430439596\n",
      "\u001b[34m\u001b[1mwandb\u001b[0m: \tlen_data: 72546\n",
      "\u001b[34m\u001b[1mwandb\u001b[0m: \tloss: L1\n",
      "\u001b[34m\u001b[1mwandb\u001b[0m: \tnum_layers: 2\n",
      "\u001b[34m\u001b[1mwandb\u001b[0m: \toptimizer: adamW\n",
      "\u001b[34m\u001b[1mwandb\u001b[0m: \tvalidation_split: 0.1\n",
      "Failed to detect the name of this notebook, you can set it manually with the WANDB_NOTEBOOK_NAME environment variable to enable code saving.\n",
      "\u001b[34m\u001b[1mwandb\u001b[0m: \u001b[33mWARNING\u001b[0m Ignored wandb.init() arg project when running a sweep.\n"
     ]
    },
    {
     "data": {
      "text/html": [
       "wandb version 0.13.4 is available!  To upgrade, please run:\n",
       " $ pip install wandb --upgrade"
      ],
      "text/plain": [
       "<IPython.core.display.HTML object>"
      ]
     },
     "metadata": {},
     "output_type": "display_data"
    },
    {
     "data": {
      "text/html": [
       "Tracking run with wandb version 0.12.14"
      ],
      "text/plain": [
       "<IPython.core.display.HTML object>"
      ]
     },
     "metadata": {},
     "output_type": "display_data"
    },
    {
     "data": {
      "text/html": [
       "Run data is saved locally in <code>c:\\Users\\Nick\\Documents\\GitHub\\grvmodel\\Python\\pytorch\\New Model\\wandb\\run-20221015_152046-9fu3qhi0</code>"
      ],
      "text/plain": [
       "<IPython.core.display.HTML object>"
      ]
     },
     "metadata": {},
     "output_type": "display_data"
    },
    {
     "data": {
      "text/html": [
       "Syncing run <strong><a href=\"https://wandb.ai/nickojelly/grv_priced_sweep_custom_new_box/runs/9fu3qhi0\" target=\"_blank\">ethereal-sweep-2</a></strong> to <a href=\"https://wandb.ai/nickojelly/grv_priced_sweep_custom_new_box\" target=\"_blank\">Weights & Biases</a> (<a href=\"https://wandb.me/run\" target=\"_blank\">docs</a>)<br/>Sweep page:  <a href=\"https://wandb.ai/nickojelly/grv_priced_sweep_custom_new_box/sweeps/s56m9tsl\" target=\"_blank\">https://wandb.ai/nickojelly/grv_priced_sweep_custom_new_box/sweeps/s56m9tsl</a>"
      ],
      "text/plain": [
       "<IPython.core.display.HTML object>"
      ]
     },
     "metadata": {},
     "output_type": "display_data"
    },
    {
     "name": "stderr",
     "output_type": "stream",
     "text": [
      "  0%|          | 0/1000 [00:00<?, ?it/s]"
     ]
    },
    {
     "name": "stdout",
     "output_type": "stream",
     "text": [
      "{'batch_size': 1000, 'dropout': 0.5, 'epochs': 1000, 'f1_layer_size': 256, 'f2_layer_size': 64, 'l1_beta': 0.8314966218611598, 'learning_rate': 0.000766695430439596, 'len_data': 72546, 'loss': 'L1', 'num_layers': 2, 'optimizer': 'adamW', 'validation_split': 0.1}\n",
      "1000\n",
      "{'batch_size': 1000, 'dropout': 0.5, 'epochs': 1000, 'f1_layer_size': 256, 'f2_layer_size': 64, 'l1_beta': 0.8314966218611598, 'learning_rate': 0.000766695430439596, 'len_data': 72546, 'loss': 'L1', 'num_layers': 2, 'optimizer': 'adamW', 'validation_split': 0.1}\n",
      "adamW\n",
      "HERE\n",
      "here\n",
      "Sequential(\n",
      "  (0): Linear(in_features=144, out_features=256, bias=True)\n",
      "  (1): ReLU()\n",
      "  (2): Dropout(p=0.5, inplace=False)\n",
      "  (3): Linear(in_features=256, out_features=64, bias=True)\n",
      "  (4): ReLU()\n",
      "  (5): Dropout(p=0.5, inplace=False)\n",
      "  (6): Linear(in_features=64, out_features=8, bias=True)\n",
      "  (7): Softmax(dim=1)\n",
      ")\n"
     ]
    },
    {
     "name": "stderr",
     "output_type": "stream",
     "text": [
      "100%|██████████| 1000/1000 [1:12:28<00:00,  4.35s/it]\n"
     ]
    },
    {
     "name": "stdout",
     "output_type": "stream",
     "text": [
      "\n"
     ]
    },
    {
     "data": {
      "text/html": [
       "Waiting for W&B process to finish... <strong style=\"color:green\">(success).</strong>"
      ],
      "text/plain": [
       "<IPython.core.display.HTML object>"
      ]
     },
     "metadata": {},
     "output_type": "display_data"
    },
    {
     "data": {
      "application/vnd.jupyter.widget-view+json": {
       "model_id": "8d04273e25b142f6983182d95a385988",
       "version_major": 2,
       "version_minor": 0
      },
      "text/plain": [
       "VBox(children=(Label(value='83.689 MB of 83.689 MB uploaded (0.000 MB deduped)\\r'), FloatProgress(value=1.0, m…"
      ]
     },
     "metadata": {},
     "output_type": "display_data"
    },
    {
     "data": {
      "text/html": [
       "<style>\n",
       "    table.wandb td:nth-child(1) { padding: 0 10px; text-align: right }\n",
       "    .wandb-row { display: flex; flex-direction: row; flex-wrap: wrap; width: 100% }\n",
       "    .wandb-col { display: flex; flex-direction: column; flex-basis: 100%; flex: 1; padding: 10px; }\n",
       "    </style>\n",
       "<div class=\"wandb-row\"><div class=\"wandb-col\"><h3>Run history:</h3><br/><table class=\"wandb\"><tr><td>alt_bet_1</td><td>▁▅▅▆▄▇▅▇▅▆▆▄▇██▅▆▆▄█▇█▄▇▄▄█▇▇▆▅▅▆▇▄▅▅▄▅▅</td></tr><tr><td>alt_bet_2</td><td>▁▄▆▇▅▆▅▆▆▆▇▅▅▆▆▅▅▄▅▆▆▆▅▅▃▄█▆▇▆▅▆▅▇▄▆▆▄▅▅</td></tr><tr><td>bfOnlyBets</td><td>▁▆▆▆▆▇▆▅▅▆▅▆▇▅█▇▆▄█▅▅▇▇▄▄▆▆▆▅▆▄▅▅▅▄▃▂▃▄▅</td></tr><tr><td>bfOnlyProfit</td><td>▁▄▅▆▅▆▅▆▅▅▆▄▄▆▅▅▄▄▅▆▅▅▅▅▄▄█▆▆▅▄▅▄▆▄▆▆▃▄▄</td></tr><tr><td>bf_avail</td><td>▁▇▇█▇▇▆▇▇▆▆▆▅▆▆▆▆▄▆▆▅▅▆▅▄▅▅▆▆▅▅▅▅▆▅▄▄▅▅▅</td></tr><tr><td>bfnotavail</td><td>▁█▆▇▅▇▅▆▆▆█▇▅▇▅▅▆▅▄▆▆▆▅▇▄▄▄▅▆▆▆▆▆▇▅▅▃▆▄▅</td></tr><tr><td>bfprofit</td><td>▁▄▆▇▅▆▅▆▆▆▇▅▅▆▆▅▅▄▅▆▆▆▅▅▃▄█▆▇▆▅▆▅▇▄▆▆▄▅▅</td></tr><tr><td>correct_conf</td><td>▁▅▅▅▆▆▆▆▆▆▆▆▆▇▇▇▇▇▇▇▇▇▇▇▇▇▇▇▇▇██████████</td></tr><tr><td>epoch</td><td>▁▁▁▂▂▂▂▂▂▃▃▃▃▃▃▄▄▄▄▄▅▅▅▅▅▅▆▆▆▆▆▆▇▇▇▇▇███</td></tr><tr><td>incorrect_conf</td><td>▁▅▅▅▅▆▅▆▆▆▆▆▆▆▇▆▇▇▇▇▇▇▇▇▇▇▇▇▇▇▇█████████</td></tr><tr><td>loss</td><td>█▇█▇▇▆▇▆▆▅▅▅▅▅▅▅▅▄▄▄▃▂▃▃▃▃▃▂▃▃▃▃▂▃▂▂▁▁▃▃</td></tr><tr><td>num_bets_per</td><td>█▅▅▄▄▄▄▄▄▄▃▃▃▃▃▃▂▃▂▂▂▂▂▂▂▂▂▂▂▂▂▁▂▁▁▁▂▁▁▁</td></tr><tr><td>profit</td><td>▁▅▆▇▅▆▆▇▇▆▇▆▅▅▅▄▅▄▆▅▆▅▅▅▄▅█▇█▇▆▆▆▇▅▆▆▅▅▆</td></tr><tr><td>test_accuracy</td><td>▁█▇█▇▇▆▇▇▆▇▆▅▆▆▆▆▅▆▆▅▅▆▆▄▅▅▆▆▆▅▆▆▆▅▄▄▅▅▅</td></tr><tr><td>test_val</td><td>█▂▂▁▂▂▄▂▂▄▃▄▅▃▄▄▃▅▄▃▄▅▄▄▅▅▅▄▃▄▄▄▄▄▄▅▅▄▄▄</td></tr><tr><td>value_pick_correct</td><td>▁▆▇▆▇▆▇▆▆▇▆▇▇▇▇▇▇▇▇██▇▇██▇█▇█▇█████████▇</td></tr><tr><td>value_pick_roi</td><td>▁▂▅▃▃▂▄▂▃▃▄▆▃▃▂▅▄▄▄▅▆▄▄▄▅▃▅▃▆▄▇▅▅▄▅█▇▆▄▄</td></tr><tr><td>zero_price</td><td>▁▁▁▁▁▁▁▁▁▁▁▁▁▁▁▁▁▁▁▁▁▁▁▁▁▁▁▁▁▁▁▁▁▁▁▁▁▁▁▁</td></tr></table><br/></div><div class=\"wandb-col\"><h3>Run summary:</h3><br/><table class=\"wandb\"><tr><td>alt_bet_1</td><td>68684.64966</td></tr><tr><td>alt_bet_2</td><td>1242.15761</td></tr><tr><td>bfOnlyBets</td><td>6113</td></tr><tr><td>bfOnlyProfit</td><td>351.70672</td></tr><tr><td>bf_avail</td><td>1493</td></tr><tr><td>bfnotavail</td><td>247</td></tr><tr><td>correct_conf</td><td>0.44255</td></tr><tr><td>epoch</td><td>999</td></tr><tr><td>incorrect_conf</td><td>0.41707</td></tr><tr><td>num_bets_per</td><td>3.01061</td></tr><tr><td>profit</td><td>-836.84</td></tr><tr><td>test_val</td><td>4620</td></tr><tr><td>value_pick_correct</td><td>1807</td></tr><tr><td>value_pick_roi</td><td>-0.2486</td></tr><tr><td>zero_price</td><td>0</td></tr></table><br/></div></div>"
      ],
      "text/plain": [
       "<IPython.core.display.HTML object>"
      ]
     },
     "metadata": {},
     "output_type": "display_data"
    },
    {
     "data": {
      "text/html": [
       "Synced <strong style=\"color:#cdcd00\">ethereal-sweep-2</strong>: <a href=\"https://wandb.ai/nickojelly/grv_priced_sweep_custom_new_box/runs/9fu3qhi0\" target=\"_blank\">https://wandb.ai/nickojelly/grv_priced_sweep_custom_new_box/runs/9fu3qhi0</a><br/>Synced 5 W&B file(s), 10 media file(s), 10 artifact file(s) and 0 other file(s)"
      ],
      "text/plain": [
       "<IPython.core.display.HTML object>"
      ]
     },
     "metadata": {},
     "output_type": "display_data"
    },
    {
     "data": {
      "text/html": [
       "Find logs at: <code>.\\wandb\\run-20221015_152046-9fu3qhi0\\logs</code>"
      ],
      "text/plain": [
       "<IPython.core.display.HTML object>"
      ]
     },
     "metadata": {},
     "output_type": "display_data"
    },
    {
     "name": "stderr",
     "output_type": "stream",
     "text": [
      "\u001b[34m\u001b[1mwandb\u001b[0m: Agent Starting Run: 5bxhna2h with config:\n",
      "\u001b[34m\u001b[1mwandb\u001b[0m: \tbatch_size: 1000\n",
      "\u001b[34m\u001b[1mwandb\u001b[0m: \tdropout: 0.5\n",
      "\u001b[34m\u001b[1mwandb\u001b[0m: \tepochs: 1000\n",
      "\u001b[34m\u001b[1mwandb\u001b[0m: \tf1_layer_size: 256\n",
      "\u001b[34m\u001b[1mwandb\u001b[0m: \tf2_layer_size: 64\n",
      "\u001b[34m\u001b[1mwandb\u001b[0m: \tl1_beta: 0.03279759356290213\n",
      "\u001b[34m\u001b[1mwandb\u001b[0m: \tlearning_rate: 0.0007232275237786255\n",
      "\u001b[34m\u001b[1mwandb\u001b[0m: \tlen_data: 72546\n",
      "\u001b[34m\u001b[1mwandb\u001b[0m: \tloss: L1\n",
      "\u001b[34m\u001b[1mwandb\u001b[0m: \tnum_layers: 2\n",
      "\u001b[34m\u001b[1mwandb\u001b[0m: \toptimizer: adamW\n",
      "\u001b[34m\u001b[1mwandb\u001b[0m: \tvalidation_split: 0.1\n",
      "Failed to detect the name of this notebook, you can set it manually with the WANDB_NOTEBOOK_NAME environment variable to enable code saving.\n",
      "\u001b[34m\u001b[1mwandb\u001b[0m: \u001b[33mWARNING\u001b[0m Ignored wandb.init() arg project when running a sweep.\n"
     ]
    },
    {
     "data": {
      "text/html": [
       "wandb version 0.13.4 is available!  To upgrade, please run:\n",
       " $ pip install wandb --upgrade"
      ],
      "text/plain": [
       "<IPython.core.display.HTML object>"
      ]
     },
     "metadata": {},
     "output_type": "display_data"
    },
    {
     "data": {
      "text/html": [
       "Tracking run with wandb version 0.12.14"
      ],
      "text/plain": [
       "<IPython.core.display.HTML object>"
      ]
     },
     "metadata": {},
     "output_type": "display_data"
    },
    {
     "data": {
      "text/html": [
       "Run data is saved locally in <code>c:\\Users\\Nick\\Documents\\GitHub\\grvmodel\\Python\\pytorch\\New Model\\wandb\\run-20221015_163327-5bxhna2h</code>"
      ],
      "text/plain": [
       "<IPython.core.display.HTML object>"
      ]
     },
     "metadata": {},
     "output_type": "display_data"
    },
    {
     "data": {
      "text/html": [
       "Syncing run <strong><a href=\"https://wandb.ai/nickojelly/grv_priced_sweep_custom_new_box/runs/5bxhna2h\" target=\"_blank\">worthy-sweep-3</a></strong> to <a href=\"https://wandb.ai/nickojelly/grv_priced_sweep_custom_new_box\" target=\"_blank\">Weights & Biases</a> (<a href=\"https://wandb.me/run\" target=\"_blank\">docs</a>)<br/>Sweep page:  <a href=\"https://wandb.ai/nickojelly/grv_priced_sweep_custom_new_box/sweeps/s56m9tsl\" target=\"_blank\">https://wandb.ai/nickojelly/grv_priced_sweep_custom_new_box/sweeps/s56m9tsl</a>"
      ],
      "text/plain": [
       "<IPython.core.display.HTML object>"
      ]
     },
     "metadata": {},
     "output_type": "display_data"
    },
    {
     "name": "stderr",
     "output_type": "stream",
     "text": [
      "  0%|          | 0/1000 [00:00<?, ?it/s]"
     ]
    },
    {
     "name": "stdout",
     "output_type": "stream",
     "text": [
      "{'batch_size': 1000, 'dropout': 0.5, 'epochs': 1000, 'f1_layer_size': 256, 'f2_layer_size': 64, 'l1_beta': 0.03279759356290213, 'learning_rate': 0.0007232275237786255, 'len_data': 72546, 'loss': 'L1', 'num_layers': 2, 'optimizer': 'adamW', 'validation_split': 0.1}\n",
      "1000\n",
      "{'batch_size': 1000, 'dropout': 0.5, 'epochs': 1000, 'f1_layer_size': 256, 'f2_layer_size': 64, 'l1_beta': 0.03279759356290213, 'learning_rate': 0.0007232275237786255, 'len_data': 72546, 'loss': 'L1', 'num_layers': 2, 'optimizer': 'adamW', 'validation_split': 0.1}\n",
      "adamW\n",
      "HERE\n",
      "here\n",
      "Sequential(\n",
      "  (0): Linear(in_features=144, out_features=256, bias=True)\n",
      "  (1): ReLU()\n",
      "  (2): Dropout(p=0.5, inplace=False)\n",
      "  (3): Linear(in_features=256, out_features=64, bias=True)\n",
      "  (4): ReLU()\n",
      "  (5): Dropout(p=0.5, inplace=False)\n",
      "  (6): Linear(in_features=64, out_features=8, bias=True)\n",
      "  (7): Softmax(dim=1)\n",
      ")\n"
     ]
    },
    {
     "name": "stderr",
     "output_type": "stream",
     "text": [
      "  0%|          | 1/1000 [00:19<5:24:55, 19.52s/it]"
     ]
    },
    {
     "name": "stdout",
     "output_type": "stream",
     "text": [
      "created path\n"
     ]
    },
    {
     "name": "stderr",
     "output_type": "stream",
     "text": [
      "100%|██████████| 1000/1000 [1:03:21<00:00,  3.80s/it]\n"
     ]
    },
    {
     "name": "stdout",
     "output_type": "stream",
     "text": [
      "\n"
     ]
    },
    {
     "data": {
      "text/html": [
       "Waiting for W&B process to finish... <strong style=\"color:green\">(success).</strong>"
      ],
      "text/plain": [
       "<IPython.core.display.HTML object>"
      ]
     },
     "metadata": {},
     "output_type": "display_data"
    },
    {
     "data": {
      "application/vnd.jupyter.widget-view+json": {
       "model_id": "088ba0066c1747f0b5939f0f53a89270",
       "version_major": 2,
       "version_minor": 0
      },
      "text/plain": [
       "VBox(children=(Label(value='84.149 MB of 84.149 MB uploaded (0.000 MB deduped)\\r'), FloatProgress(value=1.0, m…"
      ]
     },
     "metadata": {},
     "output_type": "display_data"
    },
    {
     "data": {
      "text/html": [
       "<style>\n",
       "    table.wandb td:nth-child(1) { padding: 0 10px; text-align: right }\n",
       "    .wandb-row { display: flex; flex-direction: row; flex-wrap: wrap; width: 100% }\n",
       "    .wandb-col { display: flex; flex-direction: column; flex-basis: 100%; flex: 1; padding: 10px; }\n",
       "    </style>\n",
       "<div class=\"wandb-row\"><div class=\"wandb-col\"><h3>Run history:</h3><br/><table class=\"wandb\"><tr><td>alt_bet_1</td><td>▁▆▆▄▆▆▃▇▃▆▅▆▄▅▅▅▅▄▅▅▅▄▂▆▅▆▄▆█▄▆▆▆▅▄▅▄▄▄▄</td></tr><tr><td>alt_bet_2</td><td>▁█▆▃▇█▃▇▄▆▇▆▅▇▇▅▅▄▆▆▄▆▃▇▆▆▅▅▆▄▇▇▇▇▄▅▄▄▅▆</td></tr><tr><td>bfOnlyBets</td><td>▅▄▆▂▁▄▄▃▅▄▅▆▅▅▇▄▃▆▂▇▄▆█▅▄▄▄▄▆▅▆▆▇▄▆▆▆▆▅▄</td></tr><tr><td>bfOnlyProfit</td><td>▁█▆▄▇▇▄▆▄▅▅▆▅▇▆▆▆▅▆▆▅▇▄▇▆▆▄▅▆▄▆▆▇▇▄▅▅▄▅▅</td></tr><tr><td>bf_avail</td><td>▁█▇▅▇▇▅▅▇▅▅▅▅▆▇▄▅▅▄▅▃▅▅▅▄▃▃▄▄▃▄▄▄▅▃▃▃▃▅▂</td></tr><tr><td>bfnotavail</td><td>▃▅▆▇█▇▄█▇█▆▄▅▇▆▆▄▄▇▄▄▃▁▆▃▆█▆▄▅▄▅▂▄▃▅▂▁▃▃</td></tr><tr><td>bfprofit</td><td>▁█▆▃▇█▃▇▄▆▇▆▅▇▇▅▅▄▆▆▄▆▃▇▆▆▅▅▆▄▇▇▇▇▄▅▄▄▅▆</td></tr><tr><td>correct_conf</td><td>▁▅▆▆▆▆▇▆▇▆▇▇▇▇▇▇▇▇▇▇▇▇▇▇▇▇▇▇██▇▇▇███████</td></tr><tr><td>epoch</td><td>▁▁▁▂▂▂▂▂▂▃▃▃▃▃▃▄▄▄▄▄▅▅▅▅▅▅▆▆▆▆▆▆▇▇▇▇▇███</td></tr><tr><td>incorrect_conf</td><td>▁▅▅▆▆▆▇▆▆▆▇▆▆▇▇▇▇▇▇▇▇▇▇▇▇▇▇▇▇▇▇█▇███▇▇██</td></tr><tr><td>loss</td><td>█▇▇▇▆▇▅▆▆▅▆▅▅▅▄▅▄▄▃▄▃▄▄▄▄▄▃▃▅▅▃▃▄▄▃▄▃▁▂▂</td></tr><tr><td>num_bets_per</td><td>█▃▃▂▂▃▂▂▂▂▂▂▂▂▂▂▂▂▂▂▂▁▁▁▁▁▁▁▁▁▁▁▁▁▁▁▁▁▁▁</td></tr><tr><td>profit</td><td>▁█▆▂▅▇▂▅▅▅▆▅▅▅▆▄▄▄▄▅▃▅▂▆▅▅▄▅▅▃▅▅▅▆▃▃▄▃▄▅</td></tr><tr><td>test_accuracy</td><td>▁█▇▆█▇▅▅▇▅▅▅▅▆▇▅▅▅▅▅▃▅▄▆▃▃▄▄▄▃▄▅▃▅▃▄▃▂▄▂</td></tr><tr><td>test_val</td><td>█▁▃▃▁▂▄▄▃▄▄▅▄▄▃▅▄▅▄▅▆▄▆▄▅▆▅▅▆▆▆▅▆▄▆▆▇▇▅▇</td></tr><tr><td>value_pick_correct</td><td>▁▇▆██▇▇▇▇▇▇████▇██▇█▇█▇██▇▇▇▇▇▇▇▇██▇▆▇▇▆</td></tr><tr><td>value_pick_roi</td><td>▁▅▅▄▅▆▄▇▄▄▅▇▇▆▆▅▅▆▅▇▆▅▄▆██▆▅▆▅▇▇█▇▇▇▆▇▆▆</td></tr><tr><td>zero_price</td><td>▁▁▁▁▁▁▁▁▁▁▁▁▁▁▁▁▁▁▁▁▁▁▁▁▁▁▁▁▁▁▁▁▁▁▁▁▁▁▁▁</td></tr></table><br/></div><div class=\"wandb-col\"><h3>Run summary:</h3><br/><table class=\"wandb\"><tr><td>alt_bet_1</td><td>59869.5264</td></tr><tr><td>alt_bet_2</td><td>1184.29741</td></tr><tr><td>bfOnlyBets</td><td>6099</td></tr><tr><td>bfOnlyProfit</td><td>272.03868</td></tr><tr><td>bf_avail</td><td>1422</td></tr><tr><td>bfnotavail</td><td>258</td></tr><tr><td>correct_conf</td><td>0.61844</td></tr><tr><td>epoch</td><td>999</td></tr><tr><td>incorrect_conf</td><td>0.57737</td></tr><tr><td>num_bets_per</td><td>2.1373</td></tr><tr><td>profit</td><td>-964.94</td></tr><tr><td>test_val</td><td>4677</td></tr><tr><td>value_pick_correct</td><td>1957</td></tr><tr><td>value_pick_roi</td><td>-0.20196</td></tr><tr><td>zero_price</td><td>0</td></tr></table><br/></div></div>"
      ],
      "text/plain": [
       "<IPython.core.display.HTML object>"
      ]
     },
     "metadata": {},
     "output_type": "display_data"
    },
    {
     "data": {
      "text/html": [
       "Synced <strong style=\"color:#cdcd00\">worthy-sweep-3</strong>: <a href=\"https://wandb.ai/nickojelly/grv_priced_sweep_custom_new_box/runs/5bxhna2h\" target=\"_blank\">https://wandb.ai/nickojelly/grv_priced_sweep_custom_new_box/runs/5bxhna2h</a><br/>Synced 5 W&B file(s), 10 media file(s), 10 artifact file(s) and 0 other file(s)"
      ],
      "text/plain": [
       "<IPython.core.display.HTML object>"
      ]
     },
     "metadata": {},
     "output_type": "display_data"
    },
    {
     "data": {
      "text/html": [
       "Find logs at: <code>.\\wandb\\run-20221015_163327-5bxhna2h\\logs</code>"
      ],
      "text/plain": [
       "<IPython.core.display.HTML object>"
      ]
     },
     "metadata": {},
     "output_type": "display_data"
    },
    {
     "name": "stderr",
     "output_type": "stream",
     "text": [
      "\u001b[34m\u001b[1mwandb\u001b[0m: Agent Starting Run: qnzbx040 with config:\n",
      "\u001b[34m\u001b[1mwandb\u001b[0m: \tbatch_size: 1000\n",
      "\u001b[34m\u001b[1mwandb\u001b[0m: \tdropout: 0.5\n",
      "\u001b[34m\u001b[1mwandb\u001b[0m: \tepochs: 1000\n",
      "\u001b[34m\u001b[1mwandb\u001b[0m: \tf1_layer_size: 256\n",
      "\u001b[34m\u001b[1mwandb\u001b[0m: \tf2_layer_size: 64\n",
      "\u001b[34m\u001b[1mwandb\u001b[0m: \tl1_beta: 0.42818715112183103\n",
      "\u001b[34m\u001b[1mwandb\u001b[0m: \tlearning_rate: 0.0007248874794388982\n",
      "\u001b[34m\u001b[1mwandb\u001b[0m: \tlen_data: 72546\n",
      "\u001b[34m\u001b[1mwandb\u001b[0m: \tloss: L1\n",
      "\u001b[34m\u001b[1mwandb\u001b[0m: \tnum_layers: 2\n",
      "\u001b[34m\u001b[1mwandb\u001b[0m: \toptimizer: adamW\n",
      "\u001b[34m\u001b[1mwandb\u001b[0m: \tvalidation_split: 0.1\n",
      "Failed to detect the name of this notebook, you can set it manually with the WANDB_NOTEBOOK_NAME environment variable to enable code saving.\n",
      "\u001b[34m\u001b[1mwandb\u001b[0m: \u001b[33mWARNING\u001b[0m Ignored wandb.init() arg project when running a sweep.\n"
     ]
    },
    {
     "data": {
      "text/html": [
       "wandb version 0.13.4 is available!  To upgrade, please run:\n",
       " $ pip install wandb --upgrade"
      ],
      "text/plain": [
       "<IPython.core.display.HTML object>"
      ]
     },
     "metadata": {},
     "output_type": "display_data"
    },
    {
     "data": {
      "text/html": [
       "Tracking run with wandb version 0.12.14"
      ],
      "text/plain": [
       "<IPython.core.display.HTML object>"
      ]
     },
     "metadata": {},
     "output_type": "display_data"
    },
    {
     "data": {
      "text/html": [
       "Run data is saved locally in <code>c:\\Users\\Nick\\Documents\\GitHub\\grvmodel\\Python\\pytorch\\New Model\\wandb\\run-20221015_173701-qnzbx040</code>"
      ],
      "text/plain": [
       "<IPython.core.display.HTML object>"
      ]
     },
     "metadata": {},
     "output_type": "display_data"
    },
    {
     "data": {
      "text/html": [
       "Syncing run <strong><a href=\"https://wandb.ai/nickojelly/grv_priced_sweep_custom_new_box/runs/qnzbx040\" target=\"_blank\">breezy-sweep-4</a></strong> to <a href=\"https://wandb.ai/nickojelly/grv_priced_sweep_custom_new_box\" target=\"_blank\">Weights & Biases</a> (<a href=\"https://wandb.me/run\" target=\"_blank\">docs</a>)<br/>Sweep page:  <a href=\"https://wandb.ai/nickojelly/grv_priced_sweep_custom_new_box/sweeps/s56m9tsl\" target=\"_blank\">https://wandb.ai/nickojelly/grv_priced_sweep_custom_new_box/sweeps/s56m9tsl</a>"
      ],
      "text/plain": [
       "<IPython.core.display.HTML object>"
      ]
     },
     "metadata": {},
     "output_type": "display_data"
    },
    {
     "name": "stderr",
     "output_type": "stream",
     "text": [
      "  0%|          | 0/1000 [00:00<?, ?it/s]"
     ]
    },
    {
     "name": "stdout",
     "output_type": "stream",
     "text": [
      "{'batch_size': 1000, 'dropout': 0.5, 'epochs': 1000, 'f1_layer_size': 256, 'f2_layer_size': 64, 'l1_beta': 0.42818715112183103, 'learning_rate': 0.0007248874794388982, 'len_data': 72546, 'loss': 'L1', 'num_layers': 2, 'optimizer': 'adamW', 'validation_split': 0.1}\n",
      "1000\n",
      "{'batch_size': 1000, 'dropout': 0.5, 'epochs': 1000, 'f1_layer_size': 256, 'f2_layer_size': 64, 'l1_beta': 0.42818715112183103, 'learning_rate': 0.0007248874794388982, 'len_data': 72546, 'loss': 'L1', 'num_layers': 2, 'optimizer': 'adamW', 'validation_split': 0.1}\n",
      "adamW\n",
      "HERE\n",
      "here\n",
      "Sequential(\n",
      "  (0): Linear(in_features=144, out_features=256, bias=True)\n",
      "  (1): ReLU()\n",
      "  (2): Dropout(p=0.5, inplace=False)\n",
      "  (3): Linear(in_features=256, out_features=64, bias=True)\n",
      "  (4): ReLU()\n",
      "  (5): Dropout(p=0.5, inplace=False)\n",
      "  (6): Linear(in_features=64, out_features=8, bias=True)\n",
      "  (7): Softmax(dim=1)\n",
      ")\n"
     ]
    },
    {
     "name": "stderr",
     "output_type": "stream",
     "text": [
      "  0%|          | 1/1000 [00:37<10:28:24, 37.74s/it]"
     ]
    },
    {
     "name": "stdout",
     "output_type": "stream",
     "text": [
      "created path\n"
     ]
    },
    {
     "name": "stderr",
     "output_type": "stream",
     "text": [
      "100%|██████████| 1000/1000 [1:03:53<00:00,  3.83s/it]\n"
     ]
    },
    {
     "name": "stdout",
     "output_type": "stream",
     "text": [
      "\n"
     ]
    },
    {
     "data": {
      "text/html": [
       "Waiting for W&B process to finish... <strong style=\"color:green\">(success).</strong>"
      ],
      "text/plain": [
       "<IPython.core.display.HTML object>"
      ]
     },
     "metadata": {},
     "output_type": "display_data"
    },
    {
     "data": {
      "application/vnd.jupyter.widget-view+json": {
       "model_id": "cb92a6a709cc4d53b8eb9947a3bbf584",
       "version_major": 2,
       "version_minor": 0
      },
      "text/plain": [
       "VBox(children=(Label(value='83.657 MB of 83.657 MB uploaded (0.000 MB deduped)\\r'), FloatProgress(value=1.0, m…"
      ]
     },
     "metadata": {},
     "output_type": "display_data"
    },
    {
     "data": {
      "text/html": [
       "<style>\n",
       "    table.wandb td:nth-child(1) { padding: 0 10px; text-align: right }\n",
       "    .wandb-row { display: flex; flex-direction: row; flex-wrap: wrap; width: 100% }\n",
       "    .wandb-col { display: flex; flex-direction: column; flex-basis: 100%; flex: 1; padding: 10px; }\n",
       "    </style>\n",
       "<div class=\"wandb-row\"><div class=\"wandb-col\"><h3>Run history:</h3><br/><table class=\"wandb\"><tr><td>alt_bet_1</td><td>▂▇▇▇█▅▄▆▄▃▅▃▄▅▅▄▅▃▇▅▂▂▂▃▄▂▄▃▄▆▃▄▁▃▁▂▁▅▃▄</td></tr><tr><td>alt_bet_2</td><td>▃▇█▆▇▆▄▇▆▃▅▄▅▇█▇▆▅█▆▄▆▅▆▅▆▅▄▆█▅▆▃▆▃▁▃▅▅▄</td></tr><tr><td>bfOnlyBets</td><td>▁▆▂▄▅▅▆▄▆▆▆▆▅▆▃▃▄▅▂▅▆▅▃▇▄▆▇▅▄█▇▆█▅▆▆▅▄█▇</td></tr><tr><td>bfOnlyProfit</td><td>▁▆▆▅▆▅▃▅▄▂▄▃▄▅▆▆▅▄█▅▄▅▅▆▅▆▅▄▅▇▅▆▂▆▃▁▂▄▅▄</td></tr><tr><td>bf_avail</td><td>▁███▇▇▇▇▇▆▇▅▆▇▆▇▆▇▆▆▆▇▆▆▆▆▆▆▅▆▆▆▅▆▅▅▅▅▅▅</td></tr><tr><td>bfnotavail</td><td>▁▆█▇▅▅▄▆▅▃▆▅▄▄▆▄▅▄▄▃▃▅▅▂▃▁▂▃▃▁▂▂▂▂▃▂▃▃▂▂</td></tr><tr><td>bfprofit</td><td>▃▇█▆▇▆▄▇▆▃▅▄▅▇█▇▆▅█▆▄▆▅▆▅▆▅▄▆█▅▆▃▆▃▁▃▅▅▄</td></tr><tr><td>correct_conf</td><td>▁▅▅▅▅▅▅▅▆▆▆▆▆▆▇▆▇▆▇▇▇▇▇▇▇▇▇▇▇▇▇▇▇▇▇█▇█▇█</td></tr><tr><td>epoch</td><td>▁▁▁▂▂▂▂▂▂▃▃▃▃▃▃▄▄▄▄▄▅▅▅▅▅▅▆▆▆▆▆▆▇▇▇▇▇███</td></tr><tr><td>incorrect_conf</td><td>▁▅▅▅▅▅▅▅▆▆▆▆▆▆▇▆▇▇▇▇▇▇▇▇▇▇▇▇▇▇▇▇▇▇▇█▇███</td></tr><tr><td>loss</td><td>▇██▆▇▅▅▅▅▅▅▅▅▆▄▄▃▂▃▃▃▃▃▁▃▂▂▂▂▁▂▃▂▁▂▁▂▁▁▁</td></tr><tr><td>num_bets_per</td><td>█▅▅▅▅▄▄▅▄▄▄▄▄▃▃▃▃▃▃▃▃▂▂▃▂▂▂▂▂▂▂▂▂▂▂▂▂▂▂▁</td></tr><tr><td>profit</td><td>▂▇▇▆▇▆▄▇▇▄▅▅▆▇██▇▆▇▆▅▆▆▇▅▆▅▄▇█▆▆▅▆▄▁▄▄▅▃</td></tr><tr><td>test_accuracy</td><td>▁▇██▇▇▆▇▆▆▇▅▆▆▆▆▆▆▆▆▆▇▆▆▅▅▆▅▅▅▆▆▅▆▅▄▅▅▅▄</td></tr><tr><td>test_val</td><td>█▂▁▂▂▃▃▃▃▄▃▅▃▃▃▃▃▃▃▄▃▃▃▄▃▄▄▄▄▅▄▄▅▃▄▅▄▅▅▅</td></tr><tr><td>value_pick_correct</td><td>▁▆▇▆▆▆▆▆▆▆▆▇▇▆▇▇▇▆▇▇▇█▇█▇▇▇▇▇▇▇▇▇▇▇▇▇▇▇▇</td></tr><tr><td>value_pick_roi</td><td>▁▅▆▂▃▃▅▃▁▂▃▄▅▁▅▃▄▁▃▂▆▆▂▆▁▅▃▃▄█▇▇▄▄▅▂▁▅▄▁</td></tr><tr><td>zero_price</td><td>▁▁▁▁▁▁▁▁▁▁▁▁▁▁▁▁▁▁▁▁▁▁▁▁▁▁▁▁▁▁▁▁▁▁▁▁▁▁▁▁</td></tr></table><br/></div><div class=\"wandb-col\"><h3>Run summary:</h3><br/><table class=\"wandb\"><tr><td>alt_bet_1</td><td>16980.1624</td></tr><tr><td>alt_bet_2</td><td>-913.56372</td></tr><tr><td>bfOnlyBets</td><td>6121</td></tr><tr><td>bfOnlyProfit</td><td>0.48246</td></tr><tr><td>bf_avail</td><td>1411</td></tr><tr><td>bfnotavail</td><td>231</td></tr><tr><td>correct_conf</td><td>0.4648</td></tr><tr><td>epoch</td><td>999</td></tr><tr><td>incorrect_conf</td><td>0.42794</td></tr><tr><td>num_bets_per</td><td>3.06121</td></tr><tr><td>profit</td><td>-1353.64</td></tr><tr><td>test_val</td><td>4710</td></tr><tr><td>value_pick_correct</td><td>1804</td></tr><tr><td>value_pick_roi</td><td>-0.26751</td></tr><tr><td>zero_price</td><td>0</td></tr></table><br/></div></div>"
      ],
      "text/plain": [
       "<IPython.core.display.HTML object>"
      ]
     },
     "metadata": {},
     "output_type": "display_data"
    },
    {
     "data": {
      "text/html": [
       "Synced <strong style=\"color:#cdcd00\">breezy-sweep-4</strong>: <a href=\"https://wandb.ai/nickojelly/grv_priced_sweep_custom_new_box/runs/qnzbx040\" target=\"_blank\">https://wandb.ai/nickojelly/grv_priced_sweep_custom_new_box/runs/qnzbx040</a><br/>Synced 5 W&B file(s), 10 media file(s), 10 artifact file(s) and 0 other file(s)"
      ],
      "text/plain": [
       "<IPython.core.display.HTML object>"
      ]
     },
     "metadata": {},
     "output_type": "display_data"
    },
    {
     "data": {
      "text/html": [
       "Find logs at: <code>.\\wandb\\run-20221015_173701-qnzbx040\\logs</code>"
      ],
      "text/plain": [
       "<IPython.core.display.HTML object>"
      ]
     },
     "metadata": {},
     "output_type": "display_data"
    },
    {
     "name": "stderr",
     "output_type": "stream",
     "text": [
      "\u001b[34m\u001b[1mwandb\u001b[0m: Agent Starting Run: 5vu7uvic with config:\n",
      "\u001b[34m\u001b[1mwandb\u001b[0m: \tbatch_size: 1000\n",
      "\u001b[34m\u001b[1mwandb\u001b[0m: \tdropout: 0.5\n",
      "\u001b[34m\u001b[1mwandb\u001b[0m: \tepochs: 1000\n",
      "\u001b[34m\u001b[1mwandb\u001b[0m: \tf1_layer_size: 256\n",
      "\u001b[34m\u001b[1mwandb\u001b[0m: \tf2_layer_size: 64\n",
      "\u001b[34m\u001b[1mwandb\u001b[0m: \tl1_beta: 0.13246859418901102\n",
      "\u001b[34m\u001b[1mwandb\u001b[0m: \tlearning_rate: 0.0006728723038016594\n",
      "\u001b[34m\u001b[1mwandb\u001b[0m: \tlen_data: 72546\n",
      "\u001b[34m\u001b[1mwandb\u001b[0m: \tloss: L1\n",
      "\u001b[34m\u001b[1mwandb\u001b[0m: \tnum_layers: 2\n",
      "\u001b[34m\u001b[1mwandb\u001b[0m: \toptimizer: adamW\n",
      "\u001b[34m\u001b[1mwandb\u001b[0m: \tvalidation_split: 0.1\n",
      "Failed to detect the name of this notebook, you can set it manually with the WANDB_NOTEBOOK_NAME environment variable to enable code saving.\n",
      "\u001b[34m\u001b[1mwandb\u001b[0m: \u001b[33mWARNING\u001b[0m Ignored wandb.init() arg project when running a sweep.\n"
     ]
    },
    {
     "data": {
      "text/html": [
       "wandb version 0.13.4 is available!  To upgrade, please run:\n",
       " $ pip install wandb --upgrade"
      ],
      "text/plain": [
       "<IPython.core.display.HTML object>"
      ]
     },
     "metadata": {},
     "output_type": "display_data"
    },
    {
     "data": {
      "text/html": [
       "Tracking run with wandb version 0.12.14"
      ],
      "text/plain": [
       "<IPython.core.display.HTML object>"
      ]
     },
     "metadata": {},
     "output_type": "display_data"
    },
    {
     "data": {
      "text/html": [
       "Run data is saved locally in <code>c:\\Users\\Nick\\Documents\\GitHub\\grvmodel\\Python\\pytorch\\New Model\\wandb\\run-20221015_184107-5vu7uvic</code>"
      ],
      "text/plain": [
       "<IPython.core.display.HTML object>"
      ]
     },
     "metadata": {},
     "output_type": "display_data"
    },
    {
     "data": {
      "text/html": [
       "Syncing run <strong><a href=\"https://wandb.ai/nickojelly/grv_priced_sweep_custom_new_box/runs/5vu7uvic\" target=\"_blank\">amber-sweep-5</a></strong> to <a href=\"https://wandb.ai/nickojelly/grv_priced_sweep_custom_new_box\" target=\"_blank\">Weights & Biases</a> (<a href=\"https://wandb.me/run\" target=\"_blank\">docs</a>)<br/>Sweep page:  <a href=\"https://wandb.ai/nickojelly/grv_priced_sweep_custom_new_box/sweeps/s56m9tsl\" target=\"_blank\">https://wandb.ai/nickojelly/grv_priced_sweep_custom_new_box/sweeps/s56m9tsl</a>"
      ],
      "text/plain": [
       "<IPython.core.display.HTML object>"
      ]
     },
     "metadata": {},
     "output_type": "display_data"
    },
    {
     "name": "stderr",
     "output_type": "stream",
     "text": [
      "  0%|          | 0/1000 [00:00<?, ?it/s]"
     ]
    },
    {
     "name": "stdout",
     "output_type": "stream",
     "text": [
      "{'batch_size': 1000, 'dropout': 0.5, 'epochs': 1000, 'f1_layer_size': 256, 'f2_layer_size': 64, 'l1_beta': 0.13246859418901102, 'learning_rate': 0.0006728723038016594, 'len_data': 72546, 'loss': 'L1', 'num_layers': 2, 'optimizer': 'adamW', 'validation_split': 0.1}\n",
      "1000\n",
      "{'batch_size': 1000, 'dropout': 0.5, 'epochs': 1000, 'f1_layer_size': 256, 'f2_layer_size': 64, 'l1_beta': 0.13246859418901102, 'learning_rate': 0.0006728723038016594, 'len_data': 72546, 'loss': 'L1', 'num_layers': 2, 'optimizer': 'adamW', 'validation_split': 0.1}\n",
      "adamW\n",
      "HERE\n",
      "here\n",
      "Sequential(\n",
      "  (0): Linear(in_features=144, out_features=256, bias=True)\n",
      "  (1): ReLU()\n",
      "  (2): Dropout(p=0.5, inplace=False)\n",
      "  (3): Linear(in_features=256, out_features=64, bias=True)\n",
      "  (4): ReLU()\n",
      "  (5): Dropout(p=0.5, inplace=False)\n",
      "  (6): Linear(in_features=64, out_features=8, bias=True)\n",
      "  (7): Softmax(dim=1)\n",
      ")\n"
     ]
    },
    {
     "name": "stderr",
     "output_type": "stream",
     "text": [
      "  0%|          | 1/1000 [00:19<5:31:50, 19.93s/it]"
     ]
    },
    {
     "name": "stdout",
     "output_type": "stream",
     "text": [
      "created path\n"
     ]
    },
    {
     "name": "stderr",
     "output_type": "stream",
     "text": [
      "100%|██████████| 1000/1000 [52:08<00:00,  3.13s/it] \n"
     ]
    },
    {
     "name": "stdout",
     "output_type": "stream",
     "text": [
      "\n"
     ]
    },
    {
     "data": {
      "text/html": [
       "Waiting for W&B process to finish... <strong style=\"color:green\">(success).</strong>"
      ],
      "text/plain": [
       "<IPython.core.display.HTML object>"
      ]
     },
     "metadata": {},
     "output_type": "display_data"
    },
    {
     "data": {
      "application/vnd.jupyter.widget-view+json": {
       "model_id": "a03cd8c0dc9944958fed009af6304401",
       "version_major": 2,
       "version_minor": 0
      },
      "text/plain": [
       "VBox(children=(Label(value='83.643 MB of 83.643 MB uploaded (0.000 MB deduped)\\r'), FloatProgress(value=1.0, m…"
      ]
     },
     "metadata": {},
     "output_type": "display_data"
    },
    {
     "data": {
      "text/html": [
       "<style>\n",
       "    table.wandb td:nth-child(1) { padding: 0 10px; text-align: right }\n",
       "    .wandb-row { display: flex; flex-direction: row; flex-wrap: wrap; width: 100% }\n",
       "    .wandb-col { display: flex; flex-direction: column; flex-basis: 100%; flex: 1; padding: 10px; }\n",
       "    </style>\n",
       "<div class=\"wandb-row\"><div class=\"wandb-col\"><h3>Run history:</h3><br/><table class=\"wandb\"><tr><td>alt_bet_1</td><td>▁▆▆▅▅▅▅█▅▃▄▅▆▅▄▄▄▇▂▃▂▃▂▃▃▃▅▃▃▃▄▃▄▄▂▄▄▃▄▄</td></tr><tr><td>alt_bet_2</td><td>▂▆▇▇▆▅▆█▄▅▃▅▇▆▅▂▄▇▁▃▄▄▂▃▆▄▆▄▃▆▆▅▆▄▃▆▅▆▄▄</td></tr><tr><td>bfOnlyBets</td><td>▅▄▆▅▅▇▅▅▆▅▃▆██▅▅▅▆▃▃▆▄▅█▁▆▆▅▃▃▇▅▄▆▃▅▃▇▅▅</td></tr><tr><td>bfOnlyProfit</td><td>▁▅▇▇▆▅▆█▃▄▂▅▇▆▅▂▄█▂▃▄▅▃▄▆▄▆▃▃▆▆▅▆▅▃▆▅▆▄▄</td></tr><tr><td>bf_avail</td><td>▁▇██▇▇▇▇▅▆▆▇▆▆▆▅▅▆▅▅▆▅▅▆▅▆▅▅▅▅▅▅▅▅▄▅▅▅▅▅</td></tr><tr><td>bfnotavail</td><td>▁▇███▆█▇▆▇█▆▅▇▆▆▇▄▅▅▆▄▆▅▆▅▅▅▅▄▆▅▄▅▅▄▆▅▅▄</td></tr><tr><td>bfprofit</td><td>▂▆▇▇▆▅▆█▄▅▃▅▇▆▅▂▄▇▁▃▄▄▂▃▆▄▆▄▃▆▆▅▆▄▃▆▅▆▄▄</td></tr><tr><td>correct_conf</td><td>▁▅▅▅▅▅▆▆▆▆▆▇▆▇▇▇▇▇▇▇▇▇▇▇▇▇▇▇▇▇█▇███▇████</td></tr><tr><td>epoch</td><td>▁▁▁▂▂▂▂▂▂▃▃▃▃▃▃▄▄▄▄▄▅▅▅▅▅▅▆▆▆▆▆▆▇▇▇▇▇███</td></tr><tr><td>incorrect_conf</td><td>▁▅▅▅▅▅▆▆▆▆▆▇▆▇▇▇▇▇▇▇▇▇▇▇▇▇█▇▇▇█▇███▇████</td></tr><tr><td>loss</td><td>█▇█▇▆▆▆▆▆▅▅▄▅▄▄▄▃▄▃▃▃▂▂▃▂▂▂▂▂▂▂▁▃▂▃▁▂▂▁▁</td></tr><tr><td>num_bets_per</td><td>█▅▅▄▄▄▄▄▄▄▃▃▃▃▂▃▂▃▂▂▂▃▂▂▂▂▂▂▂▂▂▂▁▁▁▂▁▂▁▁</td></tr><tr><td>profit</td><td>▁▅█▇▆▅▆█▄▆▄▅▆▆▄▁▃▇▁▂▄▄▃▃▆▅▅▄▃▆▇▄▆▃▂▄▄▅▃▂</td></tr><tr><td>test_accuracy</td><td>▁▇███▇▇▇▆▇▆▇▆▇▆▅▆▅▅▅▆▅▆▆▅▆▅▅▅▅▅▅▅▅▄▅▅▅▅▄</td></tr><tr><td>test_val</td><td>█▂▁▁▂▂▂▂▄▃▂▃▃▃▃▄▄▄▃▃▄▃▃▄▃▃▄▄▄▃▄▃▄▄▄▄▄▅▄▄</td></tr><tr><td>value_pick_correct</td><td>▁▆▇▆▆▇▆▆▆▆▆▆▇▇▇▇▇▇▇▇▇▇█▆▇▇▇▇▇▇▇▇▇▇▇▇█▇██</td></tr><tr><td>value_pick_roi</td><td>▅██▂▁▄▂▄▃▃▅▂▅▃▄▄▅▄▁▄▅▄▅▁▄▄▅▂▅▃▃▆▅▅▅▆▆▇▄▇</td></tr><tr><td>zero_price</td><td>▁▁▁▁▁▁▁▁▁▁▁▁▁▁▁▁▁▁▁▁▁▁▁▁▁▁▁▁▁▁▁▁▁▁▁▁▁▁▁▁</td></tr></table><br/></div><div class=\"wandb-col\"><h3>Run summary:</h3><br/><table class=\"wandb\"><tr><td>alt_bet_1</td><td>33124.32146</td></tr><tr><td>alt_bet_2</td><td>-290.15558</td></tr><tr><td>bfOnlyBets</td><td>6084</td></tr><tr><td>bfOnlyProfit</td><td>75.07288</td></tr><tr><td>bf_avail</td><td>1439</td></tr><tr><td>bfnotavail</td><td>247</td></tr><tr><td>correct_conf</td><td>0.52608</td></tr><tr><td>epoch</td><td>999</td></tr><tr><td>incorrect_conf</td><td>0.47221</td></tr><tr><td>num_bets_per</td><td>2.98704</td></tr><tr><td>profit</td><td>-1298.82</td></tr><tr><td>test_val</td><td>4645</td></tr><tr><td>value_pick_correct</td><td>1833</td></tr><tr><td>value_pick_roi</td><td>-0.25875</td></tr><tr><td>zero_price</td><td>0</td></tr></table><br/></div></div>"
      ],
      "text/plain": [
       "<IPython.core.display.HTML object>"
      ]
     },
     "metadata": {},
     "output_type": "display_data"
    },
    {
     "data": {
      "text/html": [
       "Synced <strong style=\"color:#cdcd00\">amber-sweep-5</strong>: <a href=\"https://wandb.ai/nickojelly/grv_priced_sweep_custom_new_box/runs/5vu7uvic\" target=\"_blank\">https://wandb.ai/nickojelly/grv_priced_sweep_custom_new_box/runs/5vu7uvic</a><br/>Synced 5 W&B file(s), 10 media file(s), 10 artifact file(s) and 0 other file(s)"
      ],
      "text/plain": [
       "<IPython.core.display.HTML object>"
      ]
     },
     "metadata": {},
     "output_type": "display_data"
    },
    {
     "data": {
      "text/html": [
       "Find logs at: <code>.\\wandb\\run-20221015_184107-5vu7uvic\\logs</code>"
      ],
      "text/plain": [
       "<IPython.core.display.HTML object>"
      ]
     },
     "metadata": {},
     "output_type": "display_data"
    },
    {
     "name": "stderr",
     "output_type": "stream",
     "text": [
      "\u001b[34m\u001b[1mwandb\u001b[0m: Agent Starting Run: i3u7c4lq with config:\n",
      "\u001b[34m\u001b[1mwandb\u001b[0m: \tbatch_size: 1000\n",
      "\u001b[34m\u001b[1mwandb\u001b[0m: \tdropout: 0.5\n",
      "\u001b[34m\u001b[1mwandb\u001b[0m: \tepochs: 1000\n",
      "\u001b[34m\u001b[1mwandb\u001b[0m: \tf1_layer_size: 256\n",
      "\u001b[34m\u001b[1mwandb\u001b[0m: \tf2_layer_size: 64\n",
      "\u001b[34m\u001b[1mwandb\u001b[0m: \tl1_beta: 0.9354853430237944\n",
      "\u001b[34m\u001b[1mwandb\u001b[0m: \tlearning_rate: 0.0006079580755642812\n",
      "\u001b[34m\u001b[1mwandb\u001b[0m: \tlen_data: 72546\n",
      "\u001b[34m\u001b[1mwandb\u001b[0m: \tloss: L1\n",
      "\u001b[34m\u001b[1mwandb\u001b[0m: \tnum_layers: 2\n",
      "\u001b[34m\u001b[1mwandb\u001b[0m: \toptimizer: adamW\n",
      "\u001b[34m\u001b[1mwandb\u001b[0m: \tvalidation_split: 0.1\n",
      "Failed to detect the name of this notebook, you can set it manually with the WANDB_NOTEBOOK_NAME environment variable to enable code saving.\n",
      "\u001b[34m\u001b[1mwandb\u001b[0m: \u001b[33mWARNING\u001b[0m Ignored wandb.init() arg project when running a sweep.\n"
     ]
    },
    {
     "data": {
      "text/html": [
       "wandb version 0.13.4 is available!  To upgrade, please run:\n",
       " $ pip install wandb --upgrade"
      ],
      "text/plain": [
       "<IPython.core.display.HTML object>"
      ]
     },
     "metadata": {},
     "output_type": "display_data"
    },
    {
     "data": {
      "text/html": [
       "Tracking run with wandb version 0.12.14"
      ],
      "text/plain": [
       "<IPython.core.display.HTML object>"
      ]
     },
     "metadata": {},
     "output_type": "display_data"
    },
    {
     "data": {
      "text/html": [
       "Run data is saved locally in <code>c:\\Users\\Nick\\Documents\\GitHub\\grvmodel\\Python\\pytorch\\New Model\\wandb\\run-20221015_193328-i3u7c4lq</code>"
      ],
      "text/plain": [
       "<IPython.core.display.HTML object>"
      ]
     },
     "metadata": {},
     "output_type": "display_data"
    },
    {
     "data": {
      "text/html": [
       "Syncing run <strong><a href=\"https://wandb.ai/nickojelly/grv_priced_sweep_custom_new_box/runs/i3u7c4lq\" target=\"_blank\">glamorous-sweep-6</a></strong> to <a href=\"https://wandb.ai/nickojelly/grv_priced_sweep_custom_new_box\" target=\"_blank\">Weights & Biases</a> (<a href=\"https://wandb.me/run\" target=\"_blank\">docs</a>)<br/>Sweep page:  <a href=\"https://wandb.ai/nickojelly/grv_priced_sweep_custom_new_box/sweeps/s56m9tsl\" target=\"_blank\">https://wandb.ai/nickojelly/grv_priced_sweep_custom_new_box/sweeps/s56m9tsl</a>"
      ],
      "text/plain": [
       "<IPython.core.display.HTML object>"
      ]
     },
     "metadata": {},
     "output_type": "display_data"
    },
    {
     "name": "stderr",
     "output_type": "stream",
     "text": [
      "  0%|          | 0/1000 [00:00<?, ?it/s]"
     ]
    },
    {
     "name": "stdout",
     "output_type": "stream",
     "text": [
      "{'batch_size': 1000, 'dropout': 0.5, 'epochs': 1000, 'f1_layer_size': 256, 'f2_layer_size': 64, 'l1_beta': 0.9354853430237944, 'learning_rate': 0.0006079580755642812, 'len_data': 72546, 'loss': 'L1', 'num_layers': 2, 'optimizer': 'adamW', 'validation_split': 0.1}\n",
      "1000\n",
      "{'batch_size': 1000, 'dropout': 0.5, 'epochs': 1000, 'f1_layer_size': 256, 'f2_layer_size': 64, 'l1_beta': 0.9354853430237944, 'learning_rate': 0.0006079580755642812, 'len_data': 72546, 'loss': 'L1', 'num_layers': 2, 'optimizer': 'adamW', 'validation_split': 0.1}\n",
      "adamW\n",
      "HERE\n",
      "here\n",
      "Sequential(\n",
      "  (0): Linear(in_features=144, out_features=256, bias=True)\n",
      "  (1): ReLU()\n",
      "  (2): Dropout(p=0.5, inplace=False)\n",
      "  (3): Linear(in_features=256, out_features=64, bias=True)\n",
      "  (4): ReLU()\n",
      "  (5): Dropout(p=0.5, inplace=False)\n",
      "  (6): Linear(in_features=64, out_features=8, bias=True)\n",
      "  (7): Softmax(dim=1)\n",
      ")\n"
     ]
    },
    {
     "name": "stderr",
     "output_type": "stream",
     "text": [
      "  0%|          | 1/1000 [00:17<4:47:53, 17.29s/it]"
     ]
    },
    {
     "name": "stdout",
     "output_type": "stream",
     "text": [
      "created path\n"
     ]
    },
    {
     "name": "stderr",
     "output_type": "stream",
     "text": [
      "100%|██████████| 1000/1000 [50:04<00:00,  3.00s/it] \n"
     ]
    },
    {
     "name": "stdout",
     "output_type": "stream",
     "text": [
      "\n"
     ]
    },
    {
     "data": {
      "text/html": [
       "Waiting for W&B process to finish... <strong style=\"color:green\">(success).</strong>"
      ],
      "text/plain": [
       "<IPython.core.display.HTML object>"
      ]
     },
     "metadata": {},
     "output_type": "display_data"
    },
    {
     "data": {
      "application/vnd.jupyter.widget-view+json": {
       "model_id": "520f1592f29d448694944194318629c2",
       "version_major": 2,
       "version_minor": 0
      },
      "text/plain": [
       "VBox(children=(Label(value='83.669 MB of 83.669 MB uploaded (0.000 MB deduped)\\r'), FloatProgress(value=1.0, m…"
      ]
     },
     "metadata": {},
     "output_type": "display_data"
    },
    {
     "data": {
      "text/html": [
       "<style>\n",
       "    table.wandb td:nth-child(1) { padding: 0 10px; text-align: right }\n",
       "    .wandb-row { display: flex; flex-direction: row; flex-wrap: wrap; width: 100% }\n",
       "    .wandb-col { display: flex; flex-direction: column; flex-basis: 100%; flex: 1; padding: 10px; }\n",
       "    </style>\n",
       "<div class=\"wandb-row\"><div class=\"wandb-col\"><h3>Run history:</h3><br/><table class=\"wandb\"><tr><td>alt_bet_1</td><td>▁█▇▇▇█▇▇▇▇▅▆▄▆▅▅▃▅▄▄▃▅▅▂▂▂▂▃▂▃▃▂▅▃▂▆▃▂▃▃</td></tr><tr><td>alt_bet_2</td><td>▁▆▆▇▇█▇▆▆█▅▅▄▅▄▅▃▄▄▃▂▃▅▂▂▂▁▂▃▄▂▂▅▄▃▅▃▃▃▃</td></tr><tr><td>bfOnlyBets</td><td>▁▂▃▄▄▆▅█▅▄▂█▇▆▆▄▄▆▆▅▅▆▅▆▄▅▅▅▄▄▃▃▂▃▃▁▅▄▃▂</td></tr><tr><td>bfOnlyProfit</td><td>▁▆▆▇▇█▇▆▆▇▄▅▄▅▅▅▄▅▅▃▂▄▆▃▃▃▂▃▃▄▃▄▆▄▃▅▄▃▄▄</td></tr><tr><td>bf_avail</td><td>▁██████▇▇▇▅▆▆▆▆▆▆▆▆▅▅▅▆▅▅▅▅▅▅▅▅▅▆▅▅▅▅▄▅▄</td></tr><tr><td>bfnotavail</td><td>▁▇▇█▆▆▇▆▇█▇▇▅▆▄▅▅▅▅▇▇▃▅▄▆▄▄▅▆▃▅▅▅▅▆▅▃▄▅▅</td></tr><tr><td>bfprofit</td><td>▁▆▆▇▇█▇▆▆█▅▅▄▅▄▅▃▄▄▃▂▃▅▂▂▂▁▂▃▄▂▂▅▄▃▅▃▃▃▃</td></tr><tr><td>correct_conf</td><td>▁▅▆▆▆▆▆▆▆▆▆▆▇▇▇▇▇▇▇▇▇▇▇▇▇███▇██▇████████</td></tr><tr><td>epoch</td><td>▁▁▁▂▂▂▂▂▂▃▃▃▃▃▃▄▄▄▄▄▅▅▅▅▅▅▆▆▆▆▆▆▇▇▇▇▇███</td></tr><tr><td>incorrect_conf</td><td>▁▅▅▆▆▆▆▆▆▆▆▆▇▆▇▇▇▇▇▇▇▇▇▇▇█▇█▇██▇████████</td></tr><tr><td>loss</td><td>█▇▇▇▇▆▇▅▆▅▅▇▇▆▄▄▅▅▃▄▄▃▄▅▃▄▃▃▃▄▄▃▄▁▃▄▃▃▃▂</td></tr><tr><td>num_bets_per</td><td>█▅▄▄▄▄▄▃▃▃▃▃▃▃▂▃▂▂▂▂▂▂▂▂▂▂▂▁▂▁▁▂▂▁▁▁▁▁▁▁</td></tr><tr><td>profit</td><td>▁▆▆▇▇██▇▇█▆▆▅▆▅▆▅▅▅▄▃▄▆▄▄▄▃▄▅▅▅▄▆▅▆▆▅▅▅▅</td></tr><tr><td>test_accuracy</td><td>▁████▇▇▇▇▇▆▆▆▆▆▆▆▆▆▆▅▅▆▅▅▅▅▅▅▅▅▅▅▅▅▅▅▄▅▄</td></tr><tr><td>test_val</td><td>█▁▁▁▁▂▂▂▂▂▄▄▄▃▄▃▃▄▃▄▄▅▄▄▄▄▄▄▄▄▄▄▃▄▄▄▄▅▄▅</td></tr><tr><td>value_pick_correct</td><td>▁▆▆▇▇▇▇▇█▇▇▇▇▆▇▇▇▇▇▇▇█▇█▇█▇█▇███▇█▇▇▇▇██</td></tr><tr><td>value_pick_roi</td><td>▁▄▄▇▆▆▇▂▄▄▆▃▆▃▃▃▁▄▂▅▃▆▄▆▅▅▄▆▆▅█▇▅▅▄▄▃▄▄▅</td></tr><tr><td>zero_price</td><td>▁▁▁▁▁▁▁▁▁▁▁▁▁▁▁▁▁▁▁▁▁▁▁▁▁▁▁▁▁▁▁▁▁▁▁▁▁▁▁▁</td></tr></table><br/></div><div class=\"wandb-col\"><h3>Run summary:</h3><br/><table class=\"wandb\"><tr><td>alt_bet_1</td><td>-14790.89288</td></tr><tr><td>alt_bet_2</td><td>-514.93662</td></tr><tr><td>bfOnlyBets</td><td>6083</td></tr><tr><td>bfOnlyProfit</td><td>25.29268</td></tr><tr><td>bf_avail</td><td>1420</td></tr><tr><td>bfnotavail</td><td>257</td></tr><tr><td>correct_conf</td><td>0.42442</td></tr><tr><td>epoch</td><td>999</td></tr><tr><td>incorrect_conf</td><td>0.39452</td></tr><tr><td>num_bets_per</td><td>3.13151</td></tr><tr><td>profit</td><td>-1127.62</td></tr><tr><td>test_val</td><td>4663</td></tr><tr><td>value_pick_correct</td><td>1805</td></tr><tr><td>value_pick_roi</td><td>-0.25495</td></tr><tr><td>zero_price</td><td>0</td></tr></table><br/></div></div>"
      ],
      "text/plain": [
       "<IPython.core.display.HTML object>"
      ]
     },
     "metadata": {},
     "output_type": "display_data"
    },
    {
     "data": {
      "text/html": [
       "Synced <strong style=\"color:#cdcd00\">glamorous-sweep-6</strong>: <a href=\"https://wandb.ai/nickojelly/grv_priced_sweep_custom_new_box/runs/i3u7c4lq\" target=\"_blank\">https://wandb.ai/nickojelly/grv_priced_sweep_custom_new_box/runs/i3u7c4lq</a><br/>Synced 5 W&B file(s), 10 media file(s), 10 artifact file(s) and 0 other file(s)"
      ],
      "text/plain": [
       "<IPython.core.display.HTML object>"
      ]
     },
     "metadata": {},
     "output_type": "display_data"
    },
    {
     "data": {
      "text/html": [
       "Find logs at: <code>.\\wandb\\run-20221015_193328-i3u7c4lq\\logs</code>"
      ],
      "text/plain": [
       "<IPython.core.display.HTML object>"
      ]
     },
     "metadata": {},
     "output_type": "display_data"
    },
    {
     "name": "stderr",
     "output_type": "stream",
     "text": [
      "\u001b[34m\u001b[1mwandb\u001b[0m: Agent Starting Run: e9gtnr3a with config:\n",
      "\u001b[34m\u001b[1mwandb\u001b[0m: \tbatch_size: 1000\n",
      "\u001b[34m\u001b[1mwandb\u001b[0m: \tdropout: 0.3\n",
      "\u001b[34m\u001b[1mwandb\u001b[0m: \tepochs: 1000\n",
      "\u001b[34m\u001b[1mwandb\u001b[0m: \tf1_layer_size: 256\n",
      "\u001b[34m\u001b[1mwandb\u001b[0m: \tf2_layer_size: 64\n",
      "\u001b[34m\u001b[1mwandb\u001b[0m: \tl1_beta: 0.812250718104166\n",
      "\u001b[34m\u001b[1mwandb\u001b[0m: \tlearning_rate: 0.00033753764425122724\n",
      "\u001b[34m\u001b[1mwandb\u001b[0m: \tlen_data: 72546\n",
      "\u001b[34m\u001b[1mwandb\u001b[0m: \tloss: L1\n",
      "\u001b[34m\u001b[1mwandb\u001b[0m: \tnum_layers: 2\n",
      "\u001b[34m\u001b[1mwandb\u001b[0m: \toptimizer: adamW\n",
      "\u001b[34m\u001b[1mwandb\u001b[0m: \tvalidation_split: 0.1\n",
      "Failed to detect the name of this notebook, you can set it manually with the WANDB_NOTEBOOK_NAME environment variable to enable code saving.\n",
      "\u001b[34m\u001b[1mwandb\u001b[0m: \u001b[33mWARNING\u001b[0m Ignored wandb.init() arg project when running a sweep.\n"
     ]
    },
    {
     "data": {
      "text/html": [
       "wandb version 0.13.4 is available!  To upgrade, please run:\n",
       " $ pip install wandb --upgrade"
      ],
      "text/plain": [
       "<IPython.core.display.HTML object>"
      ]
     },
     "metadata": {},
     "output_type": "display_data"
    },
    {
     "data": {
      "text/html": [
       "Tracking run with wandb version 0.12.14"
      ],
      "text/plain": [
       "<IPython.core.display.HTML object>"
      ]
     },
     "metadata": {},
     "output_type": "display_data"
    },
    {
     "data": {
      "text/html": [
       "Run data is saved locally in <code>c:\\Users\\Nick\\Documents\\GitHub\\grvmodel\\Python\\pytorch\\New Model\\wandb\\run-20221015_202346-e9gtnr3a</code>"
      ],
      "text/plain": [
       "<IPython.core.display.HTML object>"
      ]
     },
     "metadata": {},
     "output_type": "display_data"
    },
    {
     "data": {
      "text/html": [
       "Syncing run <strong><a href=\"https://wandb.ai/nickojelly/grv_priced_sweep_custom_new_box/runs/e9gtnr3a\" target=\"_blank\">colorful-sweep-7</a></strong> to <a href=\"https://wandb.ai/nickojelly/grv_priced_sweep_custom_new_box\" target=\"_blank\">Weights & Biases</a> (<a href=\"https://wandb.me/run\" target=\"_blank\">docs</a>)<br/>Sweep page:  <a href=\"https://wandb.ai/nickojelly/grv_priced_sweep_custom_new_box/sweeps/s56m9tsl\" target=\"_blank\">https://wandb.ai/nickojelly/grv_priced_sweep_custom_new_box/sweeps/s56m9tsl</a>"
      ],
      "text/plain": [
       "<IPython.core.display.HTML object>"
      ]
     },
     "metadata": {},
     "output_type": "display_data"
    },
    {
     "name": "stderr",
     "output_type": "stream",
     "text": [
      "  0%|          | 0/1000 [00:00<?, ?it/s]"
     ]
    },
    {
     "name": "stdout",
     "output_type": "stream",
     "text": [
      "{'batch_size': 1000, 'dropout': 0.3, 'epochs': 1000, 'f1_layer_size': 256, 'f2_layer_size': 64, 'l1_beta': 0.812250718104166, 'learning_rate': 0.00033753764425122724, 'len_data': 72546, 'loss': 'L1', 'num_layers': 2, 'optimizer': 'adamW', 'validation_split': 0.1}\n",
      "1000\n",
      "{'batch_size': 1000, 'dropout': 0.3, 'epochs': 1000, 'f1_layer_size': 256, 'f2_layer_size': 64, 'l1_beta': 0.812250718104166, 'learning_rate': 0.00033753764425122724, 'len_data': 72546, 'loss': 'L1', 'num_layers': 2, 'optimizer': 'adamW', 'validation_split': 0.1}\n",
      "adamW\n",
      "HERE\n",
      "here\n",
      "Sequential(\n",
      "  (0): Linear(in_features=144, out_features=256, bias=True)\n",
      "  (1): ReLU()\n",
      "  (2): Dropout(p=0.3, inplace=False)\n",
      "  (3): Linear(in_features=256, out_features=64, bias=True)\n",
      "  (4): ReLU()\n",
      "  (5): Dropout(p=0.3, inplace=False)\n",
      "  (6): Linear(in_features=64, out_features=8, bias=True)\n",
      "  (7): Softmax(dim=1)\n",
      ")\n"
     ]
    },
    {
     "name": "stderr",
     "output_type": "stream",
     "text": [
      "100%|██████████| 1000/1000 [49:51<00:00,  2.99s/it] \n"
     ]
    },
    {
     "name": "stdout",
     "output_type": "stream",
     "text": [
      "\n"
     ]
    },
    {
     "data": {
      "text/html": [
       "Waiting for W&B process to finish... <strong style=\"color:green\">(success).</strong>"
      ],
      "text/plain": [
       "<IPython.core.display.HTML object>"
      ]
     },
     "metadata": {},
     "output_type": "display_data"
    },
    {
     "data": {
      "application/vnd.jupyter.widget-view+json": {
       "model_id": "19f9d3d25a55467382a0ec535a462705",
       "version_major": 2,
       "version_minor": 0
      },
      "text/plain": [
       "VBox(children=(Label(value='83.652 MB of 83.652 MB uploaded (0.000 MB deduped)\\r'), FloatProgress(value=1.0, m…"
      ]
     },
     "metadata": {},
     "output_type": "display_data"
    },
    {
     "data": {
      "text/html": [
       "<style>\n",
       "    table.wandb td:nth-child(1) { padding: 0 10px; text-align: right }\n",
       "    .wandb-row { display: flex; flex-direction: row; flex-wrap: wrap; width: 100% }\n",
       "    .wandb-col { display: flex; flex-direction: column; flex-basis: 100%; flex: 1; padding: 10px; }\n",
       "    </style>\n",
       "<div class=\"wandb-row\"><div class=\"wandb-col\"><h3>Run history:</h3><br/><table class=\"wandb\"><tr><td>alt_bet_1</td><td>▁▃▄▄▅▅▆▄▆▇▆▅▅▇▅▅▅▆▅▅▇▅▅▅▅▅▄▄▇▄▃▅▅▄▃▅▅▅█▄</td></tr><tr><td>alt_bet_2</td><td>▁▂▃▄▄▄▆▂▆▆▄▆▃█▅▅▆▆▅▄▆▄▆▄▄▆▄▃▃▃▂▆▅▃▃▄▆▄▆▄</td></tr><tr><td>bfOnlyBets</td><td>▅▆▅▃▄▃▅▃▅▂▄▆▅▆▆▄▅▄▄▇▆▅▆█▁▅██▁▅▇▅▇▅▅▄▆▆▅▆</td></tr><tr><td>bfOnlyProfit</td><td>▁▄▄▅▅▄▇▃▇▇▄▇▃█▅▆▆▆▅▅▆▄▅▄▄▅▅▄▄▃▃▆▅▄▄▅▆▄▆▅</td></tr><tr><td>bf_avail</td><td>▁█▆▇▇▇▇▆▇▇▅▇▅▇▆▅▆▄▅▆▄▄▆▄▃▅▅▅▂▄▃▅▅▃▃▄▅▃▃▅</td></tr><tr><td>bfnotavail</td><td>▃▃▅▆▃█▄▅▅▄▅▅▆▆▅▆▃▅▅▄▅▅▆▅▅▅▂▄▁▃▂▄▅▃▂▃▄▂▄▂</td></tr><tr><td>bfprofit</td><td>▁▂▃▄▄▄▆▂▆▆▄▆▃█▅▅▆▆▅▄▆▄▆▄▄▆▄▃▃▃▂▆▅▃▃▄▆▄▆▄</td></tr><tr><td>correct_conf</td><td>▁▆▆▆▆▆▆▇▆▇▆▆▆▇▇▇▇▇▇▇▇▇▇▇▇▇▇█████▇███████</td></tr><tr><td>epoch</td><td>▁▁▁▂▂▂▂▂▂▃▃▃▃▃▃▄▄▄▄▄▅▅▅▅▅▅▆▆▆▆▆▆▇▇▇▇▇███</td></tr><tr><td>incorrect_conf</td><td>▁▅▆▆▆▆▆▇▆▆▆▇▆▇▇▇▇▇▇▇▇▇▇▇▇▇▇█▇▇██▇███████</td></tr><tr><td>loss</td><td>█▇▆▆▆▅▃▆▆▄▆█▅▆▄▄▅▄▄▃▅▁▄▄▃▂▄▃▃▂▂▂▂▄▃▂▃▁▂▂</td></tr><tr><td>num_bets_per</td><td>█▄▄▃▃▃▃▂▃▂▃▃▃▂▂▂▂▂▂▂▂▂▂▂▂▂▂▁▂▁▁▁▂▁▁▁▁▁▁▁</td></tr><tr><td>profit</td><td>▁▂▃▄▅▅▆▂▇▆▅▇▃█▅▆▆▆▆▅▇▄█▄▅▇▄▄▃▄▂▇▆▄▄▆█▅▆▆</td></tr><tr><td>test_accuracy</td><td>▁█▇▇▇▇▇▆▇▇▅▇▅█▆▆▆▅▆▆▅▅▇▅▄▆▅▅▂▄▃▅▅▃▃▄▅▃▄▄</td></tr><tr><td>test_val</td><td>█▁▂▂▁▂▂▃▂▁▄▂▄▂▄▃▃▄▃▃▅▅▃▅▅▃▅▅▆▅▆▄▄▆▅▅▅▆▆▅</td></tr><tr><td>value_pick_correct</td><td>▁▆▅▇▆▆▇▆▆▆▅▆▆▆▇▇▆▆▆▆▇▇▇▇▇▇▇▆█▇█▇▇▇▇▇▇▇▆▇</td></tr><tr><td>value_pick_roi</td><td>▄█▆▇▅▇▇▅▄▅▃▅▄▅▅▇▅▄▁▄▅▄▂▆▆▄▄▂▇▆▇▅▅▅▇▆▄▆▅▆</td></tr><tr><td>zero_price</td><td>▁▁▁▁▁▁▁▁▁▁▁▁▁▁▁▁▁▁▁▁▁▁▁▁▁▁▁▁▁▁▁▁▁▁▁▁▁▁▁▁</td></tr></table><br/></div><div class=\"wandb-col\"><h3>Run summary:</h3><br/><table class=\"wandb\"><tr><td>alt_bet_1</td><td>80526.2033</td></tr><tr><td>alt_bet_2</td><td>1969.46084</td></tr><tr><td>bfOnlyBets</td><td>6122</td></tr><tr><td>bfOnlyProfit</td><td>455.73217</td></tr><tr><td>bf_avail</td><td>1537</td></tr><tr><td>bfnotavail</td><td>263</td></tr><tr><td>correct_conf</td><td>0.39768</td></tr><tr><td>epoch</td><td>999</td></tr><tr><td>incorrect_conf</td><td>0.36693</td></tr><tr><td>num_bets_per</td><td>3.28329</td></tr><tr><td>profit</td><td>-753.94</td></tr><tr><td>test_val</td><td>4585</td></tr><tr><td>value_pick_correct</td><td>1811</td></tr><tr><td>value_pick_roi</td><td>-0.25714</td></tr><tr><td>zero_price</td><td>0</td></tr></table><br/></div></div>"
      ],
      "text/plain": [
       "<IPython.core.display.HTML object>"
      ]
     },
     "metadata": {},
     "output_type": "display_data"
    },
    {
     "data": {
      "text/html": [
       "Synced <strong style=\"color:#cdcd00\">colorful-sweep-7</strong>: <a href=\"https://wandb.ai/nickojelly/grv_priced_sweep_custom_new_box/runs/e9gtnr3a\" target=\"_blank\">https://wandb.ai/nickojelly/grv_priced_sweep_custom_new_box/runs/e9gtnr3a</a><br/>Synced 5 W&B file(s), 10 media file(s), 10 artifact file(s) and 0 other file(s)"
      ],
      "text/plain": [
       "<IPython.core.display.HTML object>"
      ]
     },
     "metadata": {},
     "output_type": "display_data"
    },
    {
     "data": {
      "text/html": [
       "Find logs at: <code>.\\wandb\\run-20221015_202346-e9gtnr3a\\logs</code>"
      ],
      "text/plain": [
       "<IPython.core.display.HTML object>"
      ]
     },
     "metadata": {},
     "output_type": "display_data"
    },
    {
     "name": "stderr",
     "output_type": "stream",
     "text": [
      "\u001b[34m\u001b[1mwandb\u001b[0m: Sweep Agent: Waiting for job.\n",
      "\u001b[34m\u001b[1mwandb\u001b[0m: Job received.\n",
      "\u001b[34m\u001b[1mwandb\u001b[0m: Agent Starting Run: z8n0h9ew with config:\n",
      "\u001b[34m\u001b[1mwandb\u001b[0m: \tbatch_size: 1000\n",
      "\u001b[34m\u001b[1mwandb\u001b[0m: \tdropout: 0.4\n",
      "\u001b[34m\u001b[1mwandb\u001b[0m: \tepochs: 1000\n",
      "\u001b[34m\u001b[1mwandb\u001b[0m: \tf1_layer_size: 256\n",
      "\u001b[34m\u001b[1mwandb\u001b[0m: \tf2_layer_size: 64\n",
      "\u001b[34m\u001b[1mwandb\u001b[0m: \tl1_beta: 0.9447289932948498\n",
      "\u001b[34m\u001b[1mwandb\u001b[0m: \tlearning_rate: 0.0008887829898340413\n",
      "\u001b[34m\u001b[1mwandb\u001b[0m: \tlen_data: 72546\n",
      "\u001b[34m\u001b[1mwandb\u001b[0m: \tloss: L1\n",
      "\u001b[34m\u001b[1mwandb\u001b[0m: \tnum_layers: 2\n",
      "\u001b[34m\u001b[1mwandb\u001b[0m: \toptimizer: adamW\n",
      "\u001b[34m\u001b[1mwandb\u001b[0m: \tvalidation_split: 0.1\n",
      "Failed to detect the name of this notebook, you can set it manually with the WANDB_NOTEBOOK_NAME environment variable to enable code saving.\n",
      "\u001b[34m\u001b[1mwandb\u001b[0m: \u001b[33mWARNING\u001b[0m Ignored wandb.init() arg project when running a sweep.\n"
     ]
    },
    {
     "data": {
      "text/html": [
       "wandb version 0.13.4 is available!  To upgrade, please run:\n",
       " $ pip install wandb --upgrade"
      ],
      "text/plain": [
       "<IPython.core.display.HTML object>"
      ]
     },
     "metadata": {},
     "output_type": "display_data"
    },
    {
     "data": {
      "text/html": [
       "Tracking run with wandb version 0.12.14"
      ],
      "text/plain": [
       "<IPython.core.display.HTML object>"
      ]
     },
     "metadata": {},
     "output_type": "display_data"
    },
    {
     "data": {
      "text/html": [
       "Run data is saved locally in <code>c:\\Users\\Nick\\Documents\\GitHub\\grvmodel\\Python\\pytorch\\New Model\\wandb\\run-20221015_211355-z8n0h9ew</code>"
      ],
      "text/plain": [
       "<IPython.core.display.HTML object>"
      ]
     },
     "metadata": {},
     "output_type": "display_data"
    },
    {
     "data": {
      "text/html": [
       "Syncing run <strong><a href=\"https://wandb.ai/nickojelly/grv_priced_sweep_custom_new_box/runs/z8n0h9ew\" target=\"_blank\">stilted-sweep-8</a></strong> to <a href=\"https://wandb.ai/nickojelly/grv_priced_sweep_custom_new_box\" target=\"_blank\">Weights & Biases</a> (<a href=\"https://wandb.me/run\" target=\"_blank\">docs</a>)<br/>Sweep page:  <a href=\"https://wandb.ai/nickojelly/grv_priced_sweep_custom_new_box/sweeps/s56m9tsl\" target=\"_blank\">https://wandb.ai/nickojelly/grv_priced_sweep_custom_new_box/sweeps/s56m9tsl</a>"
      ],
      "text/plain": [
       "<IPython.core.display.HTML object>"
      ]
     },
     "metadata": {},
     "output_type": "display_data"
    },
    {
     "name": "stderr",
     "output_type": "stream",
     "text": [
      "  0%|          | 0/1000 [00:00<?, ?it/s]"
     ]
    },
    {
     "name": "stdout",
     "output_type": "stream",
     "text": [
      "{'batch_size': 1000, 'dropout': 0.4, 'epochs': 1000, 'f1_layer_size': 256, 'f2_layer_size': 64, 'l1_beta': 0.9447289932948498, 'learning_rate': 0.0008887829898340413, 'len_data': 72546, 'loss': 'L1', 'num_layers': 2, 'optimizer': 'adamW', 'validation_split': 0.1}\n",
      "1000\n",
      "{'batch_size': 1000, 'dropout': 0.4, 'epochs': 1000, 'f1_layer_size': 256, 'f2_layer_size': 64, 'l1_beta': 0.9447289932948498, 'learning_rate': 0.0008887829898340413, 'len_data': 72546, 'loss': 'L1', 'num_layers': 2, 'optimizer': 'adamW', 'validation_split': 0.1}\n",
      "adamW\n",
      "HERE\n",
      "here\n",
      "Sequential(\n",
      "  (0): Linear(in_features=144, out_features=256, bias=True)\n",
      "  (1): ReLU()\n",
      "  (2): Dropout(p=0.4, inplace=False)\n",
      "  (3): Linear(in_features=256, out_features=64, bias=True)\n",
      "  (4): ReLU()\n",
      "  (5): Dropout(p=0.4, inplace=False)\n",
      "  (6): Linear(in_features=64, out_features=8, bias=True)\n",
      "  (7): Softmax(dim=1)\n",
      ")\n"
     ]
    },
    {
     "name": "stderr",
     "output_type": "stream",
     "text": [
      "  0%|          | 1/1000 [00:17<4:51:16, 17.49s/it]"
     ]
    },
    {
     "name": "stdout",
     "output_type": "stream",
     "text": [
      "created path\n"
     ]
    },
    {
     "name": "stderr",
     "output_type": "stream",
     "text": [
      "100%|██████████| 1000/1000 [51:22<00:00,  3.08s/it] \n"
     ]
    },
    {
     "name": "stdout",
     "output_type": "stream",
     "text": [
      "\n"
     ]
    },
    {
     "data": {
      "text/html": [
       "Waiting for W&B process to finish... <strong style=\"color:green\">(success).</strong>"
      ],
      "text/plain": [
       "<IPython.core.display.HTML object>"
      ]
     },
     "metadata": {},
     "output_type": "display_data"
    },
    {
     "data": {
      "application/vnd.jupyter.widget-view+json": {
       "model_id": "8ac8bb3e236e415591bc482cb8ba2923",
       "version_major": 2,
       "version_minor": 0
      },
      "text/plain": [
       "VBox(children=(Label(value='83.705 MB of 83.705 MB uploaded (0.000 MB deduped)\\r'), FloatProgress(value=1.0, m…"
      ]
     },
     "metadata": {},
     "output_type": "display_data"
    },
    {
     "data": {
      "text/html": [
       "<style>\n",
       "    table.wandb td:nth-child(1) { padding: 0 10px; text-align: right }\n",
       "    .wandb-row { display: flex; flex-direction: row; flex-wrap: wrap; width: 100% }\n",
       "    .wandb-col { display: flex; flex-direction: column; flex-basis: 100%; flex: 1; padding: 10px; }\n",
       "    </style>\n",
       "<div class=\"wandb-row\"><div class=\"wandb-col\"><h3>Run history:</h3><br/><table class=\"wandb\"><tr><td>alt_bet_1</td><td>▂██▄▇▅▃▄▃▅▅▇▁▅▄▇▅█▇▅▅▅▅▅▆▅▅▄▆▃▆▅▅▄▃▅▅▅▅▆</td></tr><tr><td>alt_bet_2</td><td>▃█▇▅▆▇▄▆▃▄▂▇▁▄▃▄▄▅▇▄▄▄▄▄▄▄▄▅▆▃▅▆▃▄▃▄█▅▃▇</td></tr><tr><td>bfOnlyBets</td><td>▁▆▅▆▃▄▄▂▄▄▄▅▅▄▄▃▇▄▅▄▃▆▅▄█▄▇▄▃▇▅▇▃▇█▇▅▃▇▇</td></tr><tr><td>bfOnlyProfit</td><td>▁▇▇▄▅▆▄▆▁▂▂▆▁▃▃▃▄▅▆▂▂▃▄▃▄▃▃▄▅▂▄▅▃▃▁▃█▅▂▅</td></tr><tr><td>bf_avail</td><td>▁██▇▇▇▆▆▆▅▅▆▆▄▅▄▄▅▅▄▃▃▄▃▄▃▄▃▄▄▃▃▂▃▄▃▄▂▂▂</td></tr><tr><td>bfnotavail</td><td>▁▇▆▄█▆▂▄▇▇▄▄▂▄▄▅▄▅▅▆▅▂▃▂▁▄▄▃▄▃▅▄▄▃▄▅▄▃▂▄</td></tr><tr><td>bfprofit</td><td>▃█▇▅▆▇▄▆▃▄▂▇▁▄▃▄▄▅▇▄▄▄▄▄▄▄▄▅▆▃▅▆▃▄▃▄█▅▃▇</td></tr><tr><td>correct_conf</td><td>▁▅▅▅▆▆▆▆▆▆▆▆▇▇▇▇▇▇▇▇▇▇▇▇▇▇▇▇█▇█▇████▇▇█▇</td></tr><tr><td>epoch</td><td>▁▁▁▂▂▂▂▂▂▃▃▃▃▃▃▄▄▄▄▄▅▅▅▅▅▅▆▆▆▆▆▆▇▇▇▇▇███</td></tr><tr><td>incorrect_conf</td><td>▁▅▅▅▆▅▆▆▆▆▆▆▇▇▇▇▇▇▇▇▇▇▇▇▇▇▇▇█▇█▇████████</td></tr><tr><td>loss</td><td>█▇███▇▆▇▇▇▆▅▅▆▆▅▅▄▅▅▄▅▄▄▄▄▅▄▄▅▃▄▂▄▁▄▃▂▄▂</td></tr><tr><td>num_bets_per</td><td>█▅▄▅▄▄▃▄▄▃▃▃▃▂▃▃▂▂▃▂▂▃▂▂▂▂▂▂▁▂▁▂▁▁▁▂▂▂▁▁</td></tr><tr><td>profit</td><td>▃▇▆▆▅█▄▆▄▃▂▆▁▃▂▃▃▄▆▃▃▃▃▃▃▃▃▄▅▁▄▆▂▄▂▃▇▅▁▆</td></tr><tr><td>test_accuracy</td><td>▁█▇▇▇▇▆▆▆▅▅▆▅▄▅▄▄▅▅▄▄▃▄▃▃▃▄▃▄▄▃▄▂▃▄▃▄▂▂▃</td></tr><tr><td>test_val</td><td>▇▁▁▂▁▂▃▂▃▄▄▃▃▅▃▅▅▄▄▅▅▆▅▆▆▆▅▆▅▆▇▆▆▆▆▇▅▆██</td></tr><tr><td>value_pick_correct</td><td>▁▆▆▆▇▇█▇▆▆▇▇▇▇▇▆▇▇▆█▇▇▇▇▇▆▇█▇▇██▇▇████▇▇</td></tr><tr><td>value_pick_roi</td><td>▂▅▃▄▄▅▆▆▄▂▅▅▄▅▅▃▅▄▁▇▃▆▃▄▆▂▄▆▅▅▆▆▅▄▆▇██▅▆</td></tr><tr><td>zero_price</td><td>▁▁▁▁▁▁▁▁▁▁▁▁▁▁▁▁▁▁▁▁▁▁▁▁▁▁▁▁▁▁▁▁▁▁▁▁▁▁▁▁</td></tr></table><br/></div><div class=\"wandb-col\"><h3>Run summary:</h3><br/><table class=\"wandb\"><tr><td>alt_bet_1</td><td>60106.61881</td></tr><tr><td>alt_bet_2</td><td>1438.2395</td></tr><tr><td>bfOnlyBets</td><td>6132</td></tr><tr><td>bfOnlyProfit</td><td>318.9471</td></tr><tr><td>bf_avail</td><td>1416</td></tr><tr><td>bfnotavail</td><td>254</td></tr><tr><td>correct_conf</td><td>0.42577</td></tr><tr><td>epoch</td><td>999</td></tr><tr><td>incorrect_conf</td><td>0.40824</td></tr><tr><td>num_bets_per</td><td>3.06383</td></tr><tr><td>profit</td><td>-907.24</td></tr><tr><td>test_val</td><td>4716</td></tr><tr><td>value_pick_correct</td><td>1791</td></tr><tr><td>value_pick_roi</td><td>-0.24732</td></tr><tr><td>zero_price</td><td>0</td></tr></table><br/></div></div>"
      ],
      "text/plain": [
       "<IPython.core.display.HTML object>"
      ]
     },
     "metadata": {},
     "output_type": "display_data"
    },
    {
     "data": {
      "text/html": [
       "Synced <strong style=\"color:#cdcd00\">stilted-sweep-8</strong>: <a href=\"https://wandb.ai/nickojelly/grv_priced_sweep_custom_new_box/runs/z8n0h9ew\" target=\"_blank\">https://wandb.ai/nickojelly/grv_priced_sweep_custom_new_box/runs/z8n0h9ew</a><br/>Synced 5 W&B file(s), 10 media file(s), 10 artifact file(s) and 0 other file(s)"
      ],
      "text/plain": [
       "<IPython.core.display.HTML object>"
      ]
     },
     "metadata": {},
     "output_type": "display_data"
    },
    {
     "data": {
      "text/html": [
       "Find logs at: <code>.\\wandb\\run-20221015_211355-z8n0h9ew\\logs</code>"
      ],
      "text/plain": [
       "<IPython.core.display.HTML object>"
      ]
     },
     "metadata": {},
     "output_type": "display_data"
    },
    {
     "name": "stderr",
     "output_type": "stream",
     "text": [
      "\u001b[34m\u001b[1mwandb\u001b[0m: Agent Starting Run: 1i5sg6k3 with config:\n",
      "\u001b[34m\u001b[1mwandb\u001b[0m: \tbatch_size: 1000\n",
      "\u001b[34m\u001b[1mwandb\u001b[0m: \tdropout: 0.4\n",
      "\u001b[34m\u001b[1mwandb\u001b[0m: \tepochs: 1000\n",
      "\u001b[34m\u001b[1mwandb\u001b[0m: \tf1_layer_size: 256\n",
      "\u001b[34m\u001b[1mwandb\u001b[0m: \tf2_layer_size: 64\n",
      "\u001b[34m\u001b[1mwandb\u001b[0m: \tl1_beta: 0.7759770891954295\n",
      "\u001b[34m\u001b[1mwandb\u001b[0m: \tlearning_rate: 0.0004609115000826358\n",
      "\u001b[34m\u001b[1mwandb\u001b[0m: \tlen_data: 72546\n",
      "\u001b[34m\u001b[1mwandb\u001b[0m: \tloss: L1\n",
      "\u001b[34m\u001b[1mwandb\u001b[0m: \tnum_layers: 2\n",
      "\u001b[34m\u001b[1mwandb\u001b[0m: \toptimizer: adamW\n",
      "\u001b[34m\u001b[1mwandb\u001b[0m: \tvalidation_split: 0.1\n",
      "Failed to detect the name of this notebook, you can set it manually with the WANDB_NOTEBOOK_NAME environment variable to enable code saving.\n",
      "\u001b[34m\u001b[1mwandb\u001b[0m: \u001b[33mWARNING\u001b[0m Ignored wandb.init() arg project when running a sweep.\n"
     ]
    },
    {
     "data": {
      "text/html": [
       "wandb version 0.13.4 is available!  To upgrade, please run:\n",
       " $ pip install wandb --upgrade"
      ],
      "text/plain": [
       "<IPython.core.display.HTML object>"
      ]
     },
     "metadata": {},
     "output_type": "display_data"
    },
    {
     "data": {
      "text/html": [
       "Tracking run with wandb version 0.12.14"
      ],
      "text/plain": [
       "<IPython.core.display.HTML object>"
      ]
     },
     "metadata": {},
     "output_type": "display_data"
    },
    {
     "data": {
      "text/html": [
       "Run data is saved locally in <code>c:\\Users\\Nick\\Documents\\GitHub\\grvmodel\\Python\\pytorch\\New Model\\wandb\\run-20221015_220526-1i5sg6k3</code>"
      ],
      "text/plain": [
       "<IPython.core.display.HTML object>"
      ]
     },
     "metadata": {},
     "output_type": "display_data"
    },
    {
     "data": {
      "text/html": [
       "Syncing run <strong><a href=\"https://wandb.ai/nickojelly/grv_priced_sweep_custom_new_box/runs/1i5sg6k3\" target=\"_blank\">smooth-sweep-9</a></strong> to <a href=\"https://wandb.ai/nickojelly/grv_priced_sweep_custom_new_box\" target=\"_blank\">Weights & Biases</a> (<a href=\"https://wandb.me/run\" target=\"_blank\">docs</a>)<br/>Sweep page:  <a href=\"https://wandb.ai/nickojelly/grv_priced_sweep_custom_new_box/sweeps/s56m9tsl\" target=\"_blank\">https://wandb.ai/nickojelly/grv_priced_sweep_custom_new_box/sweeps/s56m9tsl</a>"
      ],
      "text/plain": [
       "<IPython.core.display.HTML object>"
      ]
     },
     "metadata": {},
     "output_type": "display_data"
    },
    {
     "name": "stderr",
     "output_type": "stream",
     "text": [
      "  0%|          | 0/1000 [00:00<?, ?it/s]"
     ]
    },
    {
     "name": "stdout",
     "output_type": "stream",
     "text": [
      "{'batch_size': 1000, 'dropout': 0.4, 'epochs': 1000, 'f1_layer_size': 256, 'f2_layer_size': 64, 'l1_beta': 0.7759770891954295, 'learning_rate': 0.0004609115000826358, 'len_data': 72546, 'loss': 'L1', 'num_layers': 2, 'optimizer': 'adamW', 'validation_split': 0.1}\n",
      "1000\n",
      "{'batch_size': 1000, 'dropout': 0.4, 'epochs': 1000, 'f1_layer_size': 256, 'f2_layer_size': 64, 'l1_beta': 0.7759770891954295, 'learning_rate': 0.0004609115000826358, 'len_data': 72546, 'loss': 'L1', 'num_layers': 2, 'optimizer': 'adamW', 'validation_split': 0.1}\n",
      "adamW\n",
      "HERE\n",
      "here\n",
      "Sequential(\n",
      "  (0): Linear(in_features=144, out_features=256, bias=True)\n",
      "  (1): ReLU()\n",
      "  (2): Dropout(p=0.4, inplace=False)\n",
      "  (3): Linear(in_features=256, out_features=64, bias=True)\n",
      "  (4): ReLU()\n",
      "  (5): Dropout(p=0.4, inplace=False)\n",
      "  (6): Linear(in_features=64, out_features=8, bias=True)\n",
      "  (7): Softmax(dim=1)\n",
      ")\n"
     ]
    },
    {
     "name": "stderr",
     "output_type": "stream",
     "text": [
      "  0%|          | 1/1000 [00:17<4:58:41, 17.94s/it]"
     ]
    },
    {
     "name": "stdout",
     "output_type": "stream",
     "text": [
      "created path\n"
     ]
    },
    {
     "name": "stderr",
     "output_type": "stream",
     "text": [
      "100%|██████████| 1000/1000 [51:06<00:00,  3.07s/it] \n"
     ]
    },
    {
     "name": "stdout",
     "output_type": "stream",
     "text": [
      "\n"
     ]
    },
    {
     "data": {
      "text/html": [
       "Waiting for W&B process to finish... <strong style=\"color:green\">(success).</strong>"
      ],
      "text/plain": [
       "<IPython.core.display.HTML object>"
      ]
     },
     "metadata": {},
     "output_type": "display_data"
    },
    {
     "data": {
      "application/vnd.jupyter.widget-view+json": {
       "model_id": "da1509a68acc4a17bfa7c78a05746d19",
       "version_major": 2,
       "version_minor": 0
      },
      "text/plain": [
       "VBox(children=(Label(value='83.661 MB of 83.661 MB uploaded (0.000 MB deduped)\\r'), FloatProgress(value=1.0, m…"
      ]
     },
     "metadata": {},
     "output_type": "display_data"
    },
    {
     "data": {
      "text/html": [
       "<style>\n",
       "    table.wandb td:nth-child(1) { padding: 0 10px; text-align: right }\n",
       "    .wandb-row { display: flex; flex-direction: row; flex-wrap: wrap; width: 100% }\n",
       "    .wandb-col { display: flex; flex-direction: column; flex-basis: 100%; flex: 1; padding: 10px; }\n",
       "    </style>\n",
       "<div class=\"wandb-row\"><div class=\"wandb-col\"><h3>Run history:</h3><br/><table class=\"wandb\"><tr><td>alt_bet_1</td><td>▁▄▄▄▇▃▄▅▄▅▄▄▄▆▅▄▄▅▄▇▄▅▅▅▅▆▇▅▅▆▆▆▃▆▆▆▆██▅</td></tr><tr><td>alt_bet_2</td><td>▁▃▄▄█▄▇▆▄▃▆▅▆█▆▆▅▇▄▆▅▅▆▇▆▇▅▇▅▇▇▆▄▇▇██▇█▇</td></tr><tr><td>bfOnlyBets</td><td>▂▃▂▃▃▂▅▄▃▃▅▅▆▆▄▄▅▃▆▇▃█▅█▅▆▇▄▆▄▅▁▄▇▅▅▇▅▅▄</td></tr><tr><td>bfOnlyProfit</td><td>▁▃▃▄█▄▆▅▃▃▅▄▆▇▆▅▄▇▄▆▅▅▅▆▆▇▅▆▅█▇▆▃▇▇██▇█▇</td></tr><tr><td>bf_avail</td><td>▁▇▇█▇▆█▇▆▅▇▆▇▆▇▆▄▆▅▅▆▅▄▆▆▅▄▅▅▅▅▄▄▅▄▆▅▄▅▄</td></tr><tr><td>bfnotavail</td><td>▁▇█▆█▆▇▆▆▆▆▆▅▇▅▇▅▆▅▃▄▃▅▅▆▆▂▆▅▅▅▅▅▅▃▅▄▅▅▁</td></tr><tr><td>bfprofit</td><td>▁▃▄▄█▄▇▆▄▃▆▅▆█▆▆▅▇▄▆▅▅▆▇▆▇▅▇▅▇▇▆▄▇▇██▇█▇</td></tr><tr><td>correct_conf</td><td>▁▅▅▅▆▆▆▆▆▆▆▆▆▆▇▆▇▆▇▇▇▇▇▇▇▇▇▇▇▇▇▇█▇▇▇▇▇▇▇</td></tr><tr><td>epoch</td><td>▁▁▁▂▂▂▂▂▂▃▃▃▃▃▃▄▄▄▄▄▅▅▅▅▅▅▆▆▆▆▆▆▇▇▇▇▇███</td></tr><tr><td>incorrect_conf</td><td>▁▅▅▅▅▆▆▆▆▆▆▆▆▆▇▆▆▆▇▇▇▇▇▇▇▇▇▇▇▇▇▇█▇▇▇▇▇▇▇</td></tr><tr><td>loss</td><td>▇▇▇▅▇▅▄█▅█▆▅▆▄▄▄▃▄▃▄▅▄▃▂▂▄▅▅▄▂▃▃▂▂▃▁▂▂▁▃</td></tr><tr><td>num_bets_per</td><td>█▄▄▄▄▄▃▄▄▃▃▃▃▃▂▃▃▃▃▃▂▃▂▂▂▂▂▂▂▂▂▂▁▂▂▂▂▂▂▂</td></tr><tr><td>profit</td><td>▁▄▅▄█▄█▆▄▂▆▅▆▇▄▆▆▆▄▅▅▅▆▆▅▆▄▇▅▇▆▇▄▇▇██▆▇▆</td></tr><tr><td>test_accuracy</td><td>▁▇██▇▆█▇▆▅▇▇▇▇▇▇▄▆▅▅▆▅▄▆▆▆▃▅▅▅▅▄▄▅▄▆▅▅▅▄</td></tr><tr><td>test_val</td><td>█▂▁▁▂▃▂▂▃▄▃▃▂▄▃▃▆▄▅▅▃▅▆▅▄▅▇▅▅▄▅▅▅▅▆▄▅▆▅▆</td></tr><tr><td>value_pick_correct</td><td>▁▅▅▅▅▅▆▆▆▆▆▆▆▆▇▆▆▇▆▆▇▇▇▆▆▆▇▇▇█▇▇▇▇▇▇▇▇▆▇</td></tr><tr><td>value_pick_roi</td><td>▁▂▁▃▁▃▃▄▃▃▃▃▃▄▅▃▄▅▂▄▆▅▆▄▃▃▄▄▅█▄▅▃▅▄▅▅▃▃▄</td></tr><tr><td>zero_price</td><td>▁▁▁▁▁▁▁▁▁▁▁▁▁▁▁▁▁▁▁▁▁▁▁▁▁▁▁▁▁▁▁▁▁▁▁▁▁▁▁▁</td></tr></table><br/></div><div class=\"wandb-col\"><h3>Run summary:</h3><br/><table class=\"wandb\"><tr><td>alt_bet_1</td><td>144631.27872</td></tr><tr><td>alt_bet_2</td><td>3041.92876</td></tr><tr><td>bfOnlyBets</td><td>6112</td></tr><tr><td>bfOnlyProfit</td><td>765.68175</td></tr><tr><td>bf_avail</td><td>1484</td></tr><tr><td>bfnotavail</td><td>230</td></tr><tr><td>correct_conf</td><td>0.40657</td></tr><tr><td>epoch</td><td>999</td></tr><tr><td>incorrect_conf</td><td>0.37718</td></tr><tr><td>num_bets_per</td><td>3.24455</td></tr><tr><td>profit</td><td>-757.44</td></tr><tr><td>test_val</td><td>4628</td></tr><tr><td>value_pick_correct</td><td>1848</td></tr><tr><td>value_pick_roi</td><td>-0.2451</td></tr><tr><td>zero_price</td><td>0</td></tr></table><br/></div></div>"
      ],
      "text/plain": [
       "<IPython.core.display.HTML object>"
      ]
     },
     "metadata": {},
     "output_type": "display_data"
    },
    {
     "data": {
      "text/html": [
       "Synced <strong style=\"color:#cdcd00\">smooth-sweep-9</strong>: <a href=\"https://wandb.ai/nickojelly/grv_priced_sweep_custom_new_box/runs/1i5sg6k3\" target=\"_blank\">https://wandb.ai/nickojelly/grv_priced_sweep_custom_new_box/runs/1i5sg6k3</a><br/>Synced 5 W&B file(s), 10 media file(s), 10 artifact file(s) and 0 other file(s)"
      ],
      "text/plain": [
       "<IPython.core.display.HTML object>"
      ]
     },
     "metadata": {},
     "output_type": "display_data"
    },
    {
     "data": {
      "text/html": [
       "Find logs at: <code>.\\wandb\\run-20221015_220526-1i5sg6k3\\logs</code>"
      ],
      "text/plain": [
       "<IPython.core.display.HTML object>"
      ]
     },
     "metadata": {},
     "output_type": "display_data"
    },
    {
     "name": "stderr",
     "output_type": "stream",
     "text": [
      "\u001b[34m\u001b[1mwandb\u001b[0m: Agent Starting Run: tnp1a66g with config:\n",
      "\u001b[34m\u001b[1mwandb\u001b[0m: \tbatch_size: 1000\n",
      "\u001b[34m\u001b[1mwandb\u001b[0m: \tdropout: 0.5\n",
      "\u001b[34m\u001b[1mwandb\u001b[0m: \tepochs: 1000\n",
      "\u001b[34m\u001b[1mwandb\u001b[0m: \tf1_layer_size: 256\n",
      "\u001b[34m\u001b[1mwandb\u001b[0m: \tf2_layer_size: 64\n",
      "\u001b[34m\u001b[1mwandb\u001b[0m: \tl1_beta: 0.704805818079957\n",
      "\u001b[34m\u001b[1mwandb\u001b[0m: \tlearning_rate: 0.000936825171540373\n",
      "\u001b[34m\u001b[1mwandb\u001b[0m: \tlen_data: 72546\n",
      "\u001b[34m\u001b[1mwandb\u001b[0m: \tloss: L1\n",
      "\u001b[34m\u001b[1mwandb\u001b[0m: \tnum_layers: 2\n",
      "\u001b[34m\u001b[1mwandb\u001b[0m: \toptimizer: adamW\n",
      "\u001b[34m\u001b[1mwandb\u001b[0m: \tvalidation_split: 0.1\n",
      "Failed to detect the name of this notebook, you can set it manually with the WANDB_NOTEBOOK_NAME environment variable to enable code saving.\n",
      "\u001b[34m\u001b[1mwandb\u001b[0m: \u001b[33mWARNING\u001b[0m Ignored wandb.init() arg project when running a sweep.\n"
     ]
    },
    {
     "data": {
      "text/html": [
       "wandb version 0.13.4 is available!  To upgrade, please run:\n",
       " $ pip install wandb --upgrade"
      ],
      "text/plain": [
       "<IPython.core.display.HTML object>"
      ]
     },
     "metadata": {},
     "output_type": "display_data"
    },
    {
     "data": {
      "text/html": [
       "Tracking run with wandb version 0.12.14"
      ],
      "text/plain": [
       "<IPython.core.display.HTML object>"
      ]
     },
     "metadata": {},
     "output_type": "display_data"
    },
    {
     "data": {
      "text/html": [
       "Run data is saved locally in <code>c:\\Users\\Nick\\Documents\\GitHub\\grvmodel\\Python\\pytorch\\New Model\\wandb\\run-20221015_225645-tnp1a66g</code>"
      ],
      "text/plain": [
       "<IPython.core.display.HTML object>"
      ]
     },
     "metadata": {},
     "output_type": "display_data"
    },
    {
     "data": {
      "text/html": [
       "Syncing run <strong><a href=\"https://wandb.ai/nickojelly/grv_priced_sweep_custom_new_box/runs/tnp1a66g\" target=\"_blank\">driven-sweep-10</a></strong> to <a href=\"https://wandb.ai/nickojelly/grv_priced_sweep_custom_new_box\" target=\"_blank\">Weights & Biases</a> (<a href=\"https://wandb.me/run\" target=\"_blank\">docs</a>)<br/>Sweep page:  <a href=\"https://wandb.ai/nickojelly/grv_priced_sweep_custom_new_box/sweeps/s56m9tsl\" target=\"_blank\">https://wandb.ai/nickojelly/grv_priced_sweep_custom_new_box/sweeps/s56m9tsl</a>"
      ],
      "text/plain": [
       "<IPython.core.display.HTML object>"
      ]
     },
     "metadata": {},
     "output_type": "display_data"
    },
    {
     "name": "stderr",
     "output_type": "stream",
     "text": [
      "  0%|          | 0/1000 [00:00<?, ?it/s]"
     ]
    },
    {
     "name": "stdout",
     "output_type": "stream",
     "text": [
      "{'batch_size': 1000, 'dropout': 0.5, 'epochs': 1000, 'f1_layer_size': 256, 'f2_layer_size': 64, 'l1_beta': 0.704805818079957, 'learning_rate': 0.000936825171540373, 'len_data': 72546, 'loss': 'L1', 'num_layers': 2, 'optimizer': 'adamW', 'validation_split': 0.1}\n",
      "1000\n",
      "{'batch_size': 1000, 'dropout': 0.5, 'epochs': 1000, 'f1_layer_size': 256, 'f2_layer_size': 64, 'l1_beta': 0.704805818079957, 'learning_rate': 0.000936825171540373, 'len_data': 72546, 'loss': 'L1', 'num_layers': 2, 'optimizer': 'adamW', 'validation_split': 0.1}\n",
      "adamW\n",
      "HERE\n",
      "here\n",
      "Sequential(\n",
      "  (0): Linear(in_features=144, out_features=256, bias=True)\n",
      "  (1): ReLU()\n",
      "  (2): Dropout(p=0.5, inplace=False)\n",
      "  (3): Linear(in_features=256, out_features=64, bias=True)\n",
      "  (4): ReLU()\n",
      "  (5): Dropout(p=0.5, inplace=False)\n",
      "  (6): Linear(in_features=64, out_features=8, bias=True)\n",
      "  (7): Softmax(dim=1)\n",
      ")\n"
     ]
    },
    {
     "name": "stderr",
     "output_type": "stream",
     "text": [
      "  0%|          | 1/1000 [00:19<5:32:01, 19.94s/it]"
     ]
    },
    {
     "name": "stdout",
     "output_type": "stream",
     "text": [
      "created path\n"
     ]
    },
    {
     "name": "stderr",
     "output_type": "stream",
     "text": [
      "100%|██████████| 1000/1000 [51:09<00:00,  3.07s/it] \n"
     ]
    },
    {
     "name": "stdout",
     "output_type": "stream",
     "text": [
      "\n"
     ]
    },
    {
     "data": {
      "text/html": [
       "Waiting for W&B process to finish... <strong style=\"color:green\">(success).</strong>"
      ],
      "text/plain": [
       "<IPython.core.display.HTML object>"
      ]
     },
     "metadata": {},
     "output_type": "display_data"
    },
    {
     "data": {
      "application/vnd.jupyter.widget-view+json": {
       "model_id": "ecc9b090e004456dbfeefc1c3996c300",
       "version_major": 2,
       "version_minor": 0
      },
      "text/plain": [
       "VBox(children=(Label(value='83.714 MB of 83.714 MB uploaded (0.000 MB deduped)\\r'), FloatProgress(value=1.0, m…"
      ]
     },
     "metadata": {},
     "output_type": "display_data"
    },
    {
     "data": {
      "text/html": [
       "<style>\n",
       "    table.wandb td:nth-child(1) { padding: 0 10px; text-align: right }\n",
       "    .wandb-row { display: flex; flex-direction: row; flex-wrap: wrap; width: 100% }\n",
       "    .wandb-col { display: flex; flex-direction: column; flex-basis: 100%; flex: 1; padding: 10px; }\n",
       "    </style>\n",
       "<div class=\"wandb-row\"><div class=\"wandb-col\"><h3>Run history:</h3><br/><table class=\"wandb\"><tr><td>alt_bet_1</td><td>▁▆▇█▅▄▅▅▇▄▅▄▄▅▄▅▅▄▄▄▅▄▅▄▄▅▄▅▃▅▅▅▃▃▃▄▅▃▃▃</td></tr><tr><td>alt_bet_2</td><td>▁▆▇█▇▅▆▇▅▆▆▆▄▆▅▅▄▃▄▆▇▆▆▅▄▆▆▆▄▆▆▅▅▄▅▅▅▅▅▄</td></tr><tr><td>bfOnlyBets</td><td>▁▆▃█▅▃▅▆▅▇█▆▆▆▆▆▃▆▃▅▇▇▄█▆▇▆▆▃▃▄▃▅▄▅▃▃▅▇▅</td></tr><tr><td>bfOnlyProfit</td><td>▁▆▇█▆▆▆▇▆▆▅▇▄▆▅▆▅▃▄▆▇▆▆▅▅▇▆▇▄▆▇▆▆▄▅▆▆▆▅▅</td></tr><tr><td>bf_avail</td><td>▁██▇█▇▇▇▆▇▆▇▆▆▆▆▄▅▅▅▄▆▆▆▅▆▅▅▅▅▅▅▅▄▅▅▄▄▄▃</td></tr><tr><td>bfnotavail</td><td>▁▇▇██▇▆█▆▇▅▆▇▇▇▅▄▅▇▆▄▅▇▅▅▆▅▄▆▅▅▅▄▆▅▅▄▃▄▂</td></tr><tr><td>bfprofit</td><td>▁▆▇█▇▅▆▇▅▆▆▆▄▆▅▅▄▃▄▆▇▆▆▅▄▆▆▆▄▆▆▅▅▄▅▅▅▅▅▄</td></tr><tr><td>correct_conf</td><td>▁▅▅▅▅▆▆▆▆▆▆▆▇▆▇▇▇▇▇▇▇▇▇▇▇▇▇▇▇▇▇█▇█▇█████</td></tr><tr><td>epoch</td><td>▁▁▁▂▂▂▂▂▂▃▃▃▃▃▃▄▄▄▄▄▅▅▅▅▅▅▆▆▆▆▆▆▇▇▇▇▇███</td></tr><tr><td>incorrect_conf</td><td>▁▅▅▅▅▆▆▆▆▆▆▆▆▆▆▆▇▇▇▇▇▇▇▇▇▇▇▇▇▇▇█▇█▇█████</td></tr><tr><td>loss</td><td>██▇▇▇▆▆▇▅▅▄▅▅▃▅▄▄▄▅▄▃▃▃▄▂▂▃▃▂▃▂▁▂▂▂▃▁▁▂▁</td></tr><tr><td>num_bets_per</td><td>█▅▄▅▄▄▄▄▄▄▃▃▃▃▃▃▂▃▃▃▃▂▂▂▂▂▂▂▂▂▂▂▂▁▂▂▁▂▂▁</td></tr><tr><td>profit</td><td>▁▇██▇▆▆█▅█▆▇▅▇▇▆▆▄▅▆█▆▇▆▅▇▆▆▆▆▆▅▇▅▆▆▅▆▆▅</td></tr><tr><td>test_accuracy</td><td>▁████▇▇▇▆▇▆▇▆▆▆▆▄▅▆▅▄▆▆▆▅▆▅▅▅▅▅▅▅▅▅▅▄▄▄▃</td></tr><tr><td>test_val</td><td>█▁▁▂▁▂▂▂▃▂▄▃▄▃▄▄▅▅▄▄▅▄▃▄▄▄▅▄▄▄▄▄▅▅▅▅▅▆▆▆</td></tr><tr><td>value_pick_correct</td><td>▁▆▆▆▆▆▇▆▆▆▆▇▇▇▆▇▇▆▆▇█▆▇▇▇▆█▇▇▇▆▇▇▇▇▇▇▆▆▆</td></tr><tr><td>value_pick_roi</td><td>▁▃▄▃▃▄▆▃▃▂▃▄▃▆▄▅▆▄▃▅█▃▆▂▄▃▅▅▃▄▄▅▄▅▄▅▄▄▄▂</td></tr><tr><td>zero_price</td><td>▁▁▁▁▁▁▁▁▁▁▁▁▁▁▁▁▁▁▁▁▁▁▁▁▁▁▁▁▁▁▁▁▁▁▁▁▁▁▁▁</td></tr></table><br/></div><div class=\"wandb-col\"><h3>Run summary:</h3><br/><table class=\"wandb\"><tr><td>alt_bet_1</td><td>4950.21265</td></tr><tr><td>alt_bet_2</td><td>84.55668</td></tr><tr><td>bfOnlyBets</td><td>6119</td></tr><tr><td>bfOnlyProfit</td><td>203.04734</td></tr><tr><td>bf_avail</td><td>1398</td></tr><tr><td>bfnotavail</td><td>228</td></tr><tr><td>correct_conf</td><td>0.46521</td></tr><tr><td>epoch</td><td>999</td></tr><tr><td>incorrect_conf</td><td>0.43367</td></tr><tr><td>num_bets_per</td><td>2.93741</td></tr><tr><td>profit</td><td>-1120.92</td></tr><tr><td>test_val</td><td>4721</td></tr><tr><td>value_pick_correct</td><td>1783</td></tr><tr><td>value_pick_roi</td><td>-0.26167</td></tr><tr><td>zero_price</td><td>0</td></tr></table><br/></div></div>"
      ],
      "text/plain": [
       "<IPython.core.display.HTML object>"
      ]
     },
     "metadata": {},
     "output_type": "display_data"
    },
    {
     "data": {
      "text/html": [
       "Synced <strong style=\"color:#cdcd00\">driven-sweep-10</strong>: <a href=\"https://wandb.ai/nickojelly/grv_priced_sweep_custom_new_box/runs/tnp1a66g\" target=\"_blank\">https://wandb.ai/nickojelly/grv_priced_sweep_custom_new_box/runs/tnp1a66g</a><br/>Synced 5 W&B file(s), 10 media file(s), 10 artifact file(s) and 0 other file(s)"
      ],
      "text/plain": [
       "<IPython.core.display.HTML object>"
      ]
     },
     "metadata": {},
     "output_type": "display_data"
    },
    {
     "data": {
      "text/html": [
       "Find logs at: <code>.\\wandb\\run-20221015_225645-tnp1a66g\\logs</code>"
      ],
      "text/plain": [
       "<IPython.core.display.HTML object>"
      ]
     },
     "metadata": {},
     "output_type": "display_data"
    },
    {
     "name": "stderr",
     "output_type": "stream",
     "text": [
      "\u001b[34m\u001b[1mwandb\u001b[0m: Sweep Agent: Waiting for job.\n",
      "\u001b[34m\u001b[1mwandb\u001b[0m: Job received.\n",
      "\u001b[34m\u001b[1mwandb\u001b[0m: Agent Starting Run: pg8ik4qe with config:\n",
      "\u001b[34m\u001b[1mwandb\u001b[0m: \tbatch_size: 1000\n",
      "\u001b[34m\u001b[1mwandb\u001b[0m: \tdropout: 0.5\n",
      "\u001b[34m\u001b[1mwandb\u001b[0m: \tepochs: 1000\n",
      "\u001b[34m\u001b[1mwandb\u001b[0m: \tf1_layer_size: 256\n",
      "\u001b[34m\u001b[1mwandb\u001b[0m: \tf2_layer_size: 64\n",
      "\u001b[34m\u001b[1mwandb\u001b[0m: \tl1_beta: 0.44727019173440175\n",
      "\u001b[34m\u001b[1mwandb\u001b[0m: \tlearning_rate: 0.0002819722535286744\n",
      "\u001b[34m\u001b[1mwandb\u001b[0m: \tlen_data: 72546\n",
      "\u001b[34m\u001b[1mwandb\u001b[0m: \tloss: L1\n",
      "\u001b[34m\u001b[1mwandb\u001b[0m: \tnum_layers: 2\n",
      "\u001b[34m\u001b[1mwandb\u001b[0m: \toptimizer: adamW\n",
      "\u001b[34m\u001b[1mwandb\u001b[0m: \tvalidation_split: 0.1\n",
      "Failed to detect the name of this notebook, you can set it manually with the WANDB_NOTEBOOK_NAME environment variable to enable code saving.\n",
      "\u001b[34m\u001b[1mwandb\u001b[0m: \u001b[33mWARNING\u001b[0m Ignored wandb.init() arg project when running a sweep.\n"
     ]
    },
    {
     "data": {
      "text/html": [
       "wandb version 0.13.4 is available!  To upgrade, please run:\n",
       " $ pip install wandb --upgrade"
      ],
      "text/plain": [
       "<IPython.core.display.HTML object>"
      ]
     },
     "metadata": {},
     "output_type": "display_data"
    },
    {
     "data": {
      "text/html": [
       "Tracking run with wandb version 0.12.14"
      ],
      "text/plain": [
       "<IPython.core.display.HTML object>"
      ]
     },
     "metadata": {},
     "output_type": "display_data"
    },
    {
     "data": {
      "text/html": [
       "Run data is saved locally in <code>c:\\Users\\Nick\\Documents\\GitHub\\grvmodel\\Python\\pytorch\\New Model\\wandb\\run-20221015_234814-pg8ik4qe</code>"
      ],
      "text/plain": [
       "<IPython.core.display.HTML object>"
      ]
     },
     "metadata": {},
     "output_type": "display_data"
    },
    {
     "data": {
      "text/html": [
       "Syncing run <strong><a href=\"https://wandb.ai/nickojelly/grv_priced_sweep_custom_new_box/runs/pg8ik4qe\" target=\"_blank\">tough-sweep-11</a></strong> to <a href=\"https://wandb.ai/nickojelly/grv_priced_sweep_custom_new_box\" target=\"_blank\">Weights & Biases</a> (<a href=\"https://wandb.me/run\" target=\"_blank\">docs</a>)<br/>Sweep page:  <a href=\"https://wandb.ai/nickojelly/grv_priced_sweep_custom_new_box/sweeps/s56m9tsl\" target=\"_blank\">https://wandb.ai/nickojelly/grv_priced_sweep_custom_new_box/sweeps/s56m9tsl</a>"
      ],
      "text/plain": [
       "<IPython.core.display.HTML object>"
      ]
     },
     "metadata": {},
     "output_type": "display_data"
    },
    {
     "name": "stderr",
     "output_type": "stream",
     "text": [
      "  0%|          | 0/1000 [00:00<?, ?it/s]"
     ]
    },
    {
     "name": "stdout",
     "output_type": "stream",
     "text": [
      "{'batch_size': 1000, 'dropout': 0.5, 'epochs': 1000, 'f1_layer_size': 256, 'f2_layer_size': 64, 'l1_beta': 0.44727019173440175, 'learning_rate': 0.0002819722535286744, 'len_data': 72546, 'loss': 'L1', 'num_layers': 2, 'optimizer': 'adamW', 'validation_split': 0.1}\n",
      "1000\n",
      "{'batch_size': 1000, 'dropout': 0.5, 'epochs': 1000, 'f1_layer_size': 256, 'f2_layer_size': 64, 'l1_beta': 0.44727019173440175, 'learning_rate': 0.0002819722535286744, 'len_data': 72546, 'loss': 'L1', 'num_layers': 2, 'optimizer': 'adamW', 'validation_split': 0.1}\n",
      "adamW\n",
      "HERE\n",
      "here\n",
      "Sequential(\n",
      "  (0): Linear(in_features=144, out_features=256, bias=True)\n",
      "  (1): ReLU()\n",
      "  (2): Dropout(p=0.5, inplace=False)\n",
      "  (3): Linear(in_features=256, out_features=64, bias=True)\n",
      "  (4): ReLU()\n",
      "  (5): Dropout(p=0.5, inplace=False)\n",
      "  (6): Linear(in_features=64, out_features=8, bias=True)\n",
      "  (7): Softmax(dim=1)\n",
      ")\n"
     ]
    },
    {
     "name": "stderr",
     "output_type": "stream",
     "text": [
      "  0%|          | 1/1000 [00:19<5:21:42, 19.32s/it]"
     ]
    },
    {
     "name": "stdout",
     "output_type": "stream",
     "text": [
      "created path\n"
     ]
    },
    {
     "name": "stderr",
     "output_type": "stream",
     "text": [
      "100%|██████████| 1000/1000 [50:31<00:00,  3.03s/it] \n"
     ]
    },
    {
     "name": "stdout",
     "output_type": "stream",
     "text": [
      "\n"
     ]
    },
    {
     "data": {
      "text/html": [
       "Waiting for W&B process to finish... <strong style=\"color:green\">(success).</strong>"
      ],
      "text/plain": [
       "<IPython.core.display.HTML object>"
      ]
     },
     "metadata": {},
     "output_type": "display_data"
    },
    {
     "data": {
      "application/vnd.jupyter.widget-view+json": {
       "model_id": "f8423a3517f745d08d06aec8b251ddc3",
       "version_major": 2,
       "version_minor": 0
      },
      "text/plain": [
       "VBox(children=(Label(value='83.604 MB of 83.604 MB uploaded (0.000 MB deduped)\\r'), FloatProgress(value=1.0, m…"
      ]
     },
     "metadata": {},
     "output_type": "display_data"
    },
    {
     "data": {
      "text/html": [
       "<style>\n",
       "    table.wandb td:nth-child(1) { padding: 0 10px; text-align: right }\n",
       "    .wandb-row { display: flex; flex-direction: row; flex-wrap: wrap; width: 100% }\n",
       "    .wandb-col { display: flex; flex-direction: column; flex-basis: 100%; flex: 1; padding: 10px; }\n",
       "    </style>\n",
       "<div class=\"wandb-row\"><div class=\"wandb-col\"><h3>Run history:</h3><br/><table class=\"wandb\"><tr><td>alt_bet_1</td><td>▁▆▆▆▅▆▆▆▆█▇▅▄▆▇▅▆▅▅▄▄▆▅▅▄▄▅▄▄▃▃▅▄▃▃▅▄▄▂▄</td></tr><tr><td>alt_bet_2</td><td>▃▇▅▇▅▆▇▇▆▇▆▅▄▇█▇▅▆▆▅▅▇▆▅▅▅▅▆▅▄▃▅▂▄▃▆▃▅▁▄</td></tr><tr><td>bfOnlyBets</td><td>▁▆▂▃▃▂▁▂▃▃▃▃▃▃▂▅▃▂▅▃▅▆▅▇▃▆▆▆▆▅▇▇▅█▃▆▅█▇█</td></tr><tr><td>bfOnlyProfit</td><td>▃▇▄▆▅▇▇▇▆▇▆▄▄▇█▇▅▆▆▅▅▇▆▅▆▅▅▆▅▄▃▄▂▄▄▆▃▅▁▄</td></tr><tr><td>bf_avail</td><td>▁█▇▇▇██▇▇▇▆▆▆▆▆▆▆▆▆▆▆▆▅▆▅▆▅▆▆▅▅▅▄▅▄▅▄▅▄▅</td></tr><tr><td>bfnotavail</td><td>▁▆▇▇▇▆▆▆▇██▇▇▇▆▅▇▆▆▆▇▆▅▅▄▆▆▆▄▆▃█▆▄▃▅▅▄▄▄</td></tr><tr><td>bfprofit</td><td>▃▇▅▇▅▆▇▇▆▇▆▅▄▇█▇▅▆▆▅▅▇▆▅▅▅▅▆▅▄▃▅▂▄▃▆▃▅▁▄</td></tr><tr><td>correct_conf</td><td>▁▆▆▆▆▆▆▆▇▆▇▇▇▇▇▇▇▇▇▇▇▇▇▇▇▇█▇▇▇▇█████████</td></tr><tr><td>epoch</td><td>▁▁▁▂▂▂▂▂▂▃▃▃▃▃▃▄▄▄▄▄▅▅▅▅▅▅▆▆▆▆▆▆▇▇▇▇▇███</td></tr><tr><td>incorrect_conf</td><td>▁▅▆▆▆▆▆▆▆▆▇▇▇▇▇▇▇▇▇▇▇▇▇▇▇██▇▇█▇█████████</td></tr><tr><td>loss</td><td>▇██▇█▆▇▆▅▇▆▇▆▅▆▄▄▅▇▅▄▃▃▄▁▄▅▄▆▅▂▄▄▄▃▄▁▄▃▅</td></tr><tr><td>num_bets_per</td><td>█▄▄▄▄▃▃▄▃▃▃▃▂▃▃▃▂▃▂▃▂▂▂▂▂▁▂▂▂▂▂▁▁▂▂▂▁▁▁▂</td></tr><tr><td>profit</td><td>▃▇▅▇▆▇▇▇▆▇▅▅▄▆█▇▅▆▆▅▅▇▆▅▅▅▅▆▅▄▃▄▂▄▃▆▃▅▁▄</td></tr><tr><td>test_accuracy</td><td>▁█▇▇▇██▇▇▇▇▇▆▇▆▆▆▆▆▆▆▆▆▆▅▆▆▆▆▆▅▆▅▅▄▅▅▅▄▅</td></tr><tr><td>test_val</td><td>█▂▂▂▂▁▁▂▂▂▃▃▃▃▃▃▄▃▃▃▄▄▄▄▄▄▅▄▄▄▅▅▅▅▅▅▅▅▆▆</td></tr><tr><td>value_pick_correct</td><td>▁▆▆▆▆▆▆▆▇▆▆▇▇▆▇▇▆▇▆▇▆▆▇▇█▆█▇▇██▇▇▇▇▇▇█▆▇</td></tr><tr><td>value_pick_roi</td><td>▃▆▄▄▄▃▂▃▅▁▂▅▃▁▃▃▂▅▂▅▁▂▄▄▆▃▆▃▃▄█▅▆▅▆▆▅▇▅▄</td></tr><tr><td>zero_price</td><td>▁▁▁▁▁▁▁▁▁▁▁▁▁▁▁▁▁▁▁▁▁▁▁▁▁▁▁▁▁▁▁▁▁▁▁▁▁▁▁▁</td></tr></table><br/></div><div class=\"wandb-col\"><h3>Run summary:</h3><br/><table class=\"wandb\"><tr><td>alt_bet_1</td><td>64619.92331</td></tr><tr><td>alt_bet_2</td><td>1040.87379</td></tr><tr><td>bfOnlyBets</td><td>6147</td></tr><tr><td>bfOnlyProfit</td><td>253.07876</td></tr><tr><td>bf_avail</td><td>1480</td></tr><tr><td>bfnotavail</td><td>256</td></tr><tr><td>correct_conf</td><td>0.39016</td></tr><tr><td>epoch</td><td>999</td></tr><tr><td>incorrect_conf</td><td>0.35705</td></tr><tr><td>num_bets_per</td><td>3.37758</td></tr><tr><td>profit</td><td>-1018.88</td></tr><tr><td>test_val</td><td>4667</td></tr><tr><td>value_pick_correct</td><td>1790</td></tr><tr><td>value_pick_roi</td><td>-0.25969</td></tr><tr><td>zero_price</td><td>0</td></tr></table><br/></div></div>"
      ],
      "text/plain": [
       "<IPython.core.display.HTML object>"
      ]
     },
     "metadata": {},
     "output_type": "display_data"
    },
    {
     "data": {
      "text/html": [
       "Synced <strong style=\"color:#cdcd00\">tough-sweep-11</strong>: <a href=\"https://wandb.ai/nickojelly/grv_priced_sweep_custom_new_box/runs/pg8ik4qe\" target=\"_blank\">https://wandb.ai/nickojelly/grv_priced_sweep_custom_new_box/runs/pg8ik4qe</a><br/>Synced 5 W&B file(s), 10 media file(s), 10 artifact file(s) and 0 other file(s)"
      ],
      "text/plain": [
       "<IPython.core.display.HTML object>"
      ]
     },
     "metadata": {},
     "output_type": "display_data"
    },
    {
     "data": {
      "text/html": [
       "Find logs at: <code>.\\wandb\\run-20221015_234814-pg8ik4qe\\logs</code>"
      ],
      "text/plain": [
       "<IPython.core.display.HTML object>"
      ]
     },
     "metadata": {},
     "output_type": "display_data"
    },
    {
     "name": "stderr",
     "output_type": "stream",
     "text": [
      "\u001b[34m\u001b[1mwandb\u001b[0m: Agent Starting Run: g1r09enz with config:\n",
      "\u001b[34m\u001b[1mwandb\u001b[0m: \tbatch_size: 1000\n",
      "\u001b[34m\u001b[1mwandb\u001b[0m: \tdropout: 0.5\n",
      "\u001b[34m\u001b[1mwandb\u001b[0m: \tepochs: 1000\n",
      "\u001b[34m\u001b[1mwandb\u001b[0m: \tf1_layer_size: 256\n",
      "\u001b[34m\u001b[1mwandb\u001b[0m: \tf2_layer_size: 64\n",
      "\u001b[34m\u001b[1mwandb\u001b[0m: \tl1_beta: 0.8423842306069573\n",
      "\u001b[34m\u001b[1mwandb\u001b[0m: \tlearning_rate: 0.0007107515783677275\n",
      "\u001b[34m\u001b[1mwandb\u001b[0m: \tlen_data: 72546\n",
      "\u001b[34m\u001b[1mwandb\u001b[0m: \tloss: L1\n",
      "\u001b[34m\u001b[1mwandb\u001b[0m: \tnum_layers: 2\n",
      "\u001b[34m\u001b[1mwandb\u001b[0m: \toptimizer: adamW\n",
      "\u001b[34m\u001b[1mwandb\u001b[0m: \tvalidation_split: 0.1\n",
      "Failed to detect the name of this notebook, you can set it manually with the WANDB_NOTEBOOK_NAME environment variable to enable code saving.\n",
      "\u001b[34m\u001b[1mwandb\u001b[0m: \u001b[33mWARNING\u001b[0m Ignored wandb.init() arg project when running a sweep.\n"
     ]
    },
    {
     "data": {
      "text/html": [
       "wandb version 0.13.4 is available!  To upgrade, please run:\n",
       " $ pip install wandb --upgrade"
      ],
      "text/plain": [
       "<IPython.core.display.HTML object>"
      ]
     },
     "metadata": {},
     "output_type": "display_data"
    },
    {
     "data": {
      "text/html": [
       "Tracking run with wandb version 0.12.14"
      ],
      "text/plain": [
       "<IPython.core.display.HTML object>"
      ]
     },
     "metadata": {},
     "output_type": "display_data"
    },
    {
     "data": {
      "text/html": [
       "Run data is saved locally in <code>c:\\Users\\Nick\\Documents\\GitHub\\grvmodel\\Python\\pytorch\\New Model\\wandb\\run-20221016_003855-g1r09enz</code>"
      ],
      "text/plain": [
       "<IPython.core.display.HTML object>"
      ]
     },
     "metadata": {},
     "output_type": "display_data"
    },
    {
     "data": {
      "text/html": [
       "Syncing run <strong><a href=\"https://wandb.ai/nickojelly/grv_priced_sweep_custom_new_box/runs/g1r09enz\" target=\"_blank\">quiet-sweep-12</a></strong> to <a href=\"https://wandb.ai/nickojelly/grv_priced_sweep_custom_new_box\" target=\"_blank\">Weights & Biases</a> (<a href=\"https://wandb.me/run\" target=\"_blank\">docs</a>)<br/>Sweep page:  <a href=\"https://wandb.ai/nickojelly/grv_priced_sweep_custom_new_box/sweeps/s56m9tsl\" target=\"_blank\">https://wandb.ai/nickojelly/grv_priced_sweep_custom_new_box/sweeps/s56m9tsl</a>"
      ],
      "text/plain": [
       "<IPython.core.display.HTML object>"
      ]
     },
     "metadata": {},
     "output_type": "display_data"
    },
    {
     "name": "stderr",
     "output_type": "stream",
     "text": [
      "  0%|          | 0/1000 [00:00<?, ?it/s]"
     ]
    },
    {
     "name": "stdout",
     "output_type": "stream",
     "text": [
      "{'batch_size': 1000, 'dropout': 0.5, 'epochs': 1000, 'f1_layer_size': 256, 'f2_layer_size': 64, 'l1_beta': 0.8423842306069573, 'learning_rate': 0.0007107515783677275, 'len_data': 72546, 'loss': 'L1', 'num_layers': 2, 'optimizer': 'adamW', 'validation_split': 0.1}\n",
      "1000\n",
      "{'batch_size': 1000, 'dropout': 0.5, 'epochs': 1000, 'f1_layer_size': 256, 'f2_layer_size': 64, 'l1_beta': 0.8423842306069573, 'learning_rate': 0.0007107515783677275, 'len_data': 72546, 'loss': 'L1', 'num_layers': 2, 'optimizer': 'adamW', 'validation_split': 0.1}\n",
      "adamW\n",
      "HERE\n",
      "here\n",
      "Sequential(\n",
      "  (0): Linear(in_features=144, out_features=256, bias=True)\n",
      "  (1): ReLU()\n",
      "  (2): Dropout(p=0.5, inplace=False)\n",
      "  (3): Linear(in_features=256, out_features=64, bias=True)\n",
      "  (4): ReLU()\n",
      "  (5): Dropout(p=0.5, inplace=False)\n",
      "  (6): Linear(in_features=64, out_features=8, bias=True)\n",
      "  (7): Softmax(dim=1)\n",
      ")\n"
     ]
    },
    {
     "name": "stderr",
     "output_type": "stream",
     "text": [
      "  0%|          | 1/1000 [00:17<4:57:57, 17.89s/it]"
     ]
    },
    {
     "name": "stdout",
     "output_type": "stream",
     "text": [
      "created path\n"
     ]
    },
    {
     "name": "stderr",
     "output_type": "stream",
     "text": [
      "100%|██████████| 1000/1000 [49:50<00:00,  2.99s/it] \n"
     ]
    },
    {
     "name": "stdout",
     "output_type": "stream",
     "text": [
      "\n"
     ]
    },
    {
     "data": {
      "text/html": [
       "Waiting for W&B process to finish... <strong style=\"color:green\">(success).</strong>"
      ],
      "text/plain": [
       "<IPython.core.display.HTML object>"
      ]
     },
     "metadata": {},
     "output_type": "display_data"
    },
    {
     "data": {
      "application/vnd.jupyter.widget-view+json": {
       "model_id": "2db581bad9e2484e84e996c319e6c77f",
       "version_major": 2,
       "version_minor": 0
      },
      "text/plain": [
       "VBox(children=(Label(value='83.676 MB of 83.676 MB uploaded (0.000 MB deduped)\\r'), FloatProgress(value=1.0, m…"
      ]
     },
     "metadata": {},
     "output_type": "display_data"
    },
    {
     "data": {
      "text/html": [
       "<style>\n",
       "    table.wandb td:nth-child(1) { padding: 0 10px; text-align: right }\n",
       "    .wandb-row { display: flex; flex-direction: row; flex-wrap: wrap; width: 100% }\n",
       "    .wandb-col { display: flex; flex-direction: column; flex-basis: 100%; flex: 1; padding: 10px; }\n",
       "    </style>\n",
       "<div class=\"wandb-row\"><div class=\"wandb-col\"><h3>Run history:</h3><br/><table class=\"wandb\"><tr><td>alt_bet_1</td><td>▁█▇█▇▇█▇▇▇▆▆▆▅▆▅▅▆▄▆▅▆▅▃▅▃▃▃▄▃▅▄▂▄▃▄▃▃▄▄</td></tr><tr><td>alt_bet_2</td><td>▁▇▅▇▇▆█▆▆▇▆▅▅▄▅▅▅▆▅▅▅▇▄▄▅▃▄▄▄▅▅▄▄▄▃▄▂▄▅▄</td></tr><tr><td>bfOnlyBets</td><td>▁▅▇▅▁▇▇▆█▇▇▅▆▆▆▄▅▅▅▆▄▅▄▅▅▆▆▆▄▅▃▆▆▅▄▂▆▄▄▅</td></tr><tr><td>bfOnlyProfit</td><td>▁▆▅▇▆▇█▆▇▇▆▅▅▄▅▅▅▅▅▆▄▆▅▄▅▃▄▄▃▄▅▄▄▄▃▄▂▃▅▄</td></tr><tr><td>bf_avail</td><td>▁█▆▇▆▇█▇▆▇▆▇▆▆▆▆▇▆▆▆▆▇▅▅▅▅▅▅▅▅▄▅▄▅▅▅▅▅▄▅</td></tr><tr><td>bfnotavail</td><td>▁█▆▆▇▅▇▆▆▆▅▆▆▆▆█▅▆▆▅▆▆▆▆▇▆▆▆▅▆▅▆▂▅▄▅▅▆▅▄</td></tr><tr><td>bfprofit</td><td>▁▇▅▇▇▆█▆▆▇▆▅▅▄▅▅▅▆▅▅▅▇▄▄▅▃▄▄▄▅▅▄▄▄▃▄▂▄▅▄</td></tr><tr><td>correct_conf</td><td>▁▅▆▅▆▆▆▆▆▆▆▇▇▇▇▇▇▇▇▇▇▇▇▇█▇▇▇█▇██████████</td></tr><tr><td>epoch</td><td>▁▁▁▂▂▂▂▂▂▃▃▃▃▃▃▄▄▄▄▄▅▅▅▅▅▅▆▆▆▆▆▆▇▇▇▇▇███</td></tr><tr><td>incorrect_conf</td><td>▁▅▅▅▆▆▆▆▆▆▆▇▆▇▇▇▇▇▇▇▇▇▇▇█▇▇▇█▇██▇███████</td></tr><tr><td>loss</td><td>▇█▆▆▆▅▅▆▅▅▆▄▅▆▄▄▄▃▅▄▂▃▃▂▃▃▅▂▃▂▃▂▃▂▃▃▁▂▂▂</td></tr><tr><td>num_bets_per</td><td>█▅▄▄▄▃▄▄▄▃▃▃▃▃▃▂▂▂▂▂▂▂▂▂▁▂▂▂▂▂▂▂▂▂▁▁▁▁▁▁</td></tr><tr><td>profit</td><td>▁▇▅▇▇▆█▅▆▇▆▅▅▄▅▅▅▆▅▅▆▇▄▅▅▄▅▅▅▆▆▅▅▅▄▅▃▄▆▅</td></tr><tr><td>test_accuracy</td><td>▁█▇▇▆▇█▇▆▇▆▇▆▆▆▆▆▆▆▆▆▇▅▅▅▅▅▆▅▅▅▅▄▅▅▅▅▅▄▅</td></tr><tr><td>test_val</td><td>█▁▃▂▂▂▁▂▃▂▃▂▃▃▄▃▃▄▃▄▃▂▄▄▄▅▄▄▄▄▅▅▆▅▄▄▅▄▅▄</td></tr><tr><td>value_pick_correct</td><td>▁▅▅▆▇▆▆▇▇▆▆▇▇██▇█▇▇█████▇█▇██▇▇█▇▇███▇▇█</td></tr><tr><td>value_pick_roi</td><td>▂▂▁▃▄▃▄▅▅▃▃▄▄▆▅▅▇▅▅█▇▆▆█▆▇▇▇▆▆▆▆▇▆▆▇▄▅▆▅</td></tr><tr><td>zero_price</td><td>▁▁▁▁▁▁▁▁▁▁▁▁▁▁▁▁▁▁▁▁▁▁▁▁▁▁▁▁▁▁▁▁▁▁▁▁▁▁▁▁</td></tr></table><br/></div><div class=\"wandb-col\"><h3>Run summary:</h3><br/><table class=\"wandb\"><tr><td>alt_bet_1</td><td>-3409.14057</td></tr><tr><td>alt_bet_2</td><td>130.65155</td></tr><tr><td>bfOnlyBets</td><td>6119</td></tr><tr><td>bfOnlyProfit</td><td>15.32551</td></tr><tr><td>bf_avail</td><td>1492</td></tr><tr><td>bfnotavail</td><td>252</td></tr><tr><td>correct_conf</td><td>0.42318</td></tr><tr><td>epoch</td><td>999</td></tr><tr><td>incorrect_conf</td><td>0.39348</td></tr><tr><td>num_bets_per</td><td>3.13785</td></tr><tr><td>profit</td><td>-962.7</td></tr><tr><td>test_val</td><td>4627</td></tr><tr><td>value_pick_correct</td><td>1840</td></tr><tr><td>value_pick_roi</td><td>-0.24274</td></tr><tr><td>zero_price</td><td>0</td></tr></table><br/></div></div>"
      ],
      "text/plain": [
       "<IPython.core.display.HTML object>"
      ]
     },
     "metadata": {},
     "output_type": "display_data"
    },
    {
     "data": {
      "text/html": [
       "Synced <strong style=\"color:#cdcd00\">quiet-sweep-12</strong>: <a href=\"https://wandb.ai/nickojelly/grv_priced_sweep_custom_new_box/runs/g1r09enz\" target=\"_blank\">https://wandb.ai/nickojelly/grv_priced_sweep_custom_new_box/runs/g1r09enz</a><br/>Synced 5 W&B file(s), 10 media file(s), 10 artifact file(s) and 0 other file(s)"
      ],
      "text/plain": [
       "<IPython.core.display.HTML object>"
      ]
     },
     "metadata": {},
     "output_type": "display_data"
    },
    {
     "data": {
      "text/html": [
       "Find logs at: <code>.\\wandb\\run-20221016_003855-g1r09enz\\logs</code>"
      ],
      "text/plain": [
       "<IPython.core.display.HTML object>"
      ]
     },
     "metadata": {},
     "output_type": "display_data"
    },
    {
     "name": "stderr",
     "output_type": "stream",
     "text": [
      "\u001b[34m\u001b[1mwandb\u001b[0m: Agent Starting Run: cye4g7w6 with config:\n",
      "\u001b[34m\u001b[1mwandb\u001b[0m: \tbatch_size: 1000\n",
      "\u001b[34m\u001b[1mwandb\u001b[0m: \tdropout: 0.3\n",
      "\u001b[34m\u001b[1mwandb\u001b[0m: \tepochs: 1000\n",
      "\u001b[34m\u001b[1mwandb\u001b[0m: \tf1_layer_size: 256\n",
      "\u001b[34m\u001b[1mwandb\u001b[0m: \tf2_layer_size: 64\n",
      "\u001b[34m\u001b[1mwandb\u001b[0m: \tl1_beta: 0.8225780657017575\n",
      "\u001b[34m\u001b[1mwandb\u001b[0m: \tlearning_rate: 0.0005507992409845869\n",
      "\u001b[34m\u001b[1mwandb\u001b[0m: \tlen_data: 72546\n",
      "\u001b[34m\u001b[1mwandb\u001b[0m: \tloss: L1\n",
      "\u001b[34m\u001b[1mwandb\u001b[0m: \tnum_layers: 2\n",
      "\u001b[34m\u001b[1mwandb\u001b[0m: \toptimizer: adamW\n",
      "\u001b[34m\u001b[1mwandb\u001b[0m: \tvalidation_split: 0.1\n",
      "Failed to detect the name of this notebook, you can set it manually with the WANDB_NOTEBOOK_NAME environment variable to enable code saving.\n",
      "\u001b[34m\u001b[1mwandb\u001b[0m: \u001b[33mWARNING\u001b[0m Ignored wandb.init() arg project when running a sweep.\n"
     ]
    },
    {
     "data": {
      "text/html": [
       "wandb version 0.13.4 is available!  To upgrade, please run:\n",
       " $ pip install wandb --upgrade"
      ],
      "text/plain": [
       "<IPython.core.display.HTML object>"
      ]
     },
     "metadata": {},
     "output_type": "display_data"
    },
    {
     "data": {
      "text/html": [
       "Tracking run with wandb version 0.12.14"
      ],
      "text/plain": [
       "<IPython.core.display.HTML object>"
      ]
     },
     "metadata": {},
     "output_type": "display_data"
    },
    {
     "data": {
      "text/html": [
       "Run data is saved locally in <code>c:\\Users\\Nick\\Documents\\GitHub\\grvmodel\\Python\\pytorch\\New Model\\wandb\\run-20221016_012859-cye4g7w6</code>"
      ],
      "text/plain": [
       "<IPython.core.display.HTML object>"
      ]
     },
     "metadata": {},
     "output_type": "display_data"
    },
    {
     "data": {
      "text/html": [
       "Syncing run <strong><a href=\"https://wandb.ai/nickojelly/grv_priced_sweep_custom_new_box/runs/cye4g7w6\" target=\"_blank\">sweepy-sweep-13</a></strong> to <a href=\"https://wandb.ai/nickojelly/grv_priced_sweep_custom_new_box\" target=\"_blank\">Weights & Biases</a> (<a href=\"https://wandb.me/run\" target=\"_blank\">docs</a>)<br/>Sweep page:  <a href=\"https://wandb.ai/nickojelly/grv_priced_sweep_custom_new_box/sweeps/s56m9tsl\" target=\"_blank\">https://wandb.ai/nickojelly/grv_priced_sweep_custom_new_box/sweeps/s56m9tsl</a>"
      ],
      "text/plain": [
       "<IPython.core.display.HTML object>"
      ]
     },
     "metadata": {},
     "output_type": "display_data"
    },
    {
     "name": "stderr",
     "output_type": "stream",
     "text": [
      "  0%|          | 0/1000 [00:00<?, ?it/s]"
     ]
    },
    {
     "name": "stdout",
     "output_type": "stream",
     "text": [
      "{'batch_size': 1000, 'dropout': 0.3, 'epochs': 1000, 'f1_layer_size': 256, 'f2_layer_size': 64, 'l1_beta': 0.8225780657017575, 'learning_rate': 0.0005507992409845869, 'len_data': 72546, 'loss': 'L1', 'num_layers': 2, 'optimizer': 'adamW', 'validation_split': 0.1}\n",
      "1000\n",
      "{'batch_size': 1000, 'dropout': 0.3, 'epochs': 1000, 'f1_layer_size': 256, 'f2_layer_size': 64, 'l1_beta': 0.8225780657017575, 'learning_rate': 0.0005507992409845869, 'len_data': 72546, 'loss': 'L1', 'num_layers': 2, 'optimizer': 'adamW', 'validation_split': 0.1}\n",
      "adamW\n",
      "HERE\n",
      "here\n",
      "Sequential(\n",
      "  (0): Linear(in_features=144, out_features=256, bias=True)\n",
      "  (1): ReLU()\n",
      "  (2): Dropout(p=0.3, inplace=False)\n",
      "  (3): Linear(in_features=256, out_features=64, bias=True)\n",
      "  (4): ReLU()\n",
      "  (5): Dropout(p=0.3, inplace=False)\n",
      "  (6): Linear(in_features=64, out_features=8, bias=True)\n",
      "  (7): Softmax(dim=1)\n",
      ")\n"
     ]
    },
    {
     "name": "stderr",
     "output_type": "stream",
     "text": [
      "  0%|          | 1/1000 [00:17<4:47:18, 17.26s/it]"
     ]
    },
    {
     "name": "stdout",
     "output_type": "stream",
     "text": [
      "created path\n"
     ]
    },
    {
     "name": "stderr",
     "output_type": "stream",
     "text": [
      "100%|██████████| 1000/1000 [49:15<00:00,  2.96s/it] \n"
     ]
    },
    {
     "name": "stdout",
     "output_type": "stream",
     "text": [
      "\n"
     ]
    },
    {
     "data": {
      "text/html": [
       "Waiting for W&B process to finish... <strong style=\"color:green\">(success).</strong>"
      ],
      "text/plain": [
       "<IPython.core.display.HTML object>"
      ]
     },
     "metadata": {},
     "output_type": "display_data"
    },
    {
     "data": {
      "application/vnd.jupyter.widget-view+json": {
       "model_id": "5e1c2522f00648fabe46a98c6a0466b5",
       "version_major": 2,
       "version_minor": 0
      },
      "text/plain": [
       "VBox(children=(Label(value='83.666 MB of 83.666 MB uploaded (0.000 MB deduped)\\r'), FloatProgress(value=1.0, m…"
      ]
     },
     "metadata": {},
     "output_type": "display_data"
    },
    {
     "data": {
      "text/html": [
       "<style>\n",
       "    table.wandb td:nth-child(1) { padding: 0 10px; text-align: right }\n",
       "    .wandb-row { display: flex; flex-direction: row; flex-wrap: wrap; width: 100% }\n",
       "    .wandb-col { display: flex; flex-direction: column; flex-basis: 100%; flex: 1; padding: 10px; }\n",
       "    </style>\n",
       "<div class=\"wandb-row\"><div class=\"wandb-col\"><h3>Run history:</h3><br/><table class=\"wandb\"><tr><td>alt_bet_1</td><td>▁▅▆█▇▇▇▆█▇▆▅▆▇▄▆▄▅▅▅▅▄▆▅▅▄▅▅▆▄▄▄▅▄▃▅▄▅▄▅</td></tr><tr><td>alt_bet_2</td><td>▁▁▄█▆▅▇▆▇█▅▅▅▆▅▆▄▃▅▄▆▄▅▄▃▄▆▆▄▃▄▃▃▅▂▄▄▄▄▄</td></tr><tr><td>bfOnlyBets</td><td>▂▅▂▄▄▅▆▄▃▇▄█▅▆▇█▆▇▇▆▄▆▅▁▇▄▅▅▅▆▃▄▄▆▆▆▄▁▆▆</td></tr><tr><td>bfOnlyProfit</td><td>▁▂▃█▆▅▇▆▇█▆▅▅▆▆▇▃▄▄▃▆▅▅▅▄▄▆▆▄▄▄▃▃▄▃▅▄▄▆▄</td></tr><tr><td>bf_avail</td><td>▂▆▇█▇▇▇▇▆▆▇▆▅▆▅▇▅▄▆▅▆▅▃▂▄▄▅▅▃▄▅▃▃▄▁▃▂▂▁▄</td></tr><tr><td>bfnotavail</td><td>▃▆█▇█▅▄▆▇▅▆▆▆▄▄▆▆▄██▅▅▆▇▅▇▅██▄▇█▅▇▃▃▆▆▁▅</td></tr><tr><td>bfprofit</td><td>▁▁▄█▆▅▇▆▇█▅▅▅▆▅▆▄▃▅▄▆▄▅▄▃▄▆▆▄▃▄▃▃▅▂▄▄▄▄▄</td></tr><tr><td>correct_conf</td><td>▁▅▅▅▅▆▆▆▆▆▆▆▆▆▇▆▆▆▆▆▇▇▇▇▇▇▇▇▇▇█▇▇▇█▇▇███</td></tr><tr><td>epoch</td><td>▁▁▁▂▂▂▂▂▂▃▃▃▃▃▃▄▄▄▄▄▅▅▅▅▅▅▆▆▆▆▆▆▇▇▇▇▇███</td></tr><tr><td>incorrect_conf</td><td>▁▅▅▅▅▆▆▆▆▆▆▆▆▆▆▇▆▆▆▆▇▇▇▇▇▇▇▇▇▇█▇▇▇█▇▇█▇█</td></tr><tr><td>loss</td><td>██▇▇▇▆▅▇▇▆▆▆▅▆▆▄▆▅▆▄▅▅▄▃▅▅▄▄▃▅▆▄▁▅▄▃▄▁▄▄</td></tr><tr><td>num_bets_per</td><td>█▄▄▄▄▄▄▄▃▄▃▃▃▃▃▃▃▃▃▃▂▃▃▂▂▂▂▂▂▂▁▂▂▂▁▂▂▁▂▁</td></tr><tr><td>profit</td><td>▁▂▄█▇▄▆▆▆▇▄▄▅▅▅▆▅▃▅▄▅▄▅▄▃▃▅▆▂▃▃▃▃▅▁▄▃▃▃▃</td></tr><tr><td>test_accuracy</td><td>▂▆▇██▇▆▇▇▆▇▇▅▆▅▇▆▄▆▅▆▅▄▄▄▅▅▅▄▄▅▄▃▄▂▃▃▃▁▄</td></tr><tr><td>test_val</td><td>▆▃▁▁▂▂▃▂▂▄▂▄▄▄▄▃▄▅▄▅▃▄▆▅▆▄▄▄▆▅▄▅▆▆█▆▆▆█▆</td></tr><tr><td>value_pick_correct</td><td>▁▅▆▆▅▆▆▆▇▆▆▆▇▇▆▆▇▇▆▆▇▇▇▇▆▇▆▇▇▆▇█▇▇▆▆▇██▇</td></tr><tr><td>value_pick_roi</td><td>▁▅▄▄▂▄▄▃▆▅▅▆▇█▄▇▆▆▄▅▆▅▇▆▆▅▂▅▆▅▃▅▅▆▅▅███▂</td></tr><tr><td>zero_price</td><td>▁▁▁▁▁▁▁▁▁▁▁▁▁▁▁▁▁▁▁▁▁▁▁▁▁▁▁▁▁▁▁▁▁▁▁▁▁▁▁▁</td></tr></table><br/></div><div class=\"wandb-col\"><h3>Run summary:</h3><br/><table class=\"wandb\"><tr><td>alt_bet_1</td><td>60677.4119</td></tr><tr><td>alt_bet_2</td><td>747.71277</td></tr><tr><td>bfOnlyBets</td><td>6124</td></tr><tr><td>bfOnlyProfit</td><td>205.97775</td></tr><tr><td>bf_avail</td><td>1498</td></tr><tr><td>bfnotavail</td><td>265</td></tr><tr><td>correct_conf</td><td>0.41962</td></tr><tr><td>epoch</td><td>999</td></tr><tr><td>incorrect_conf</td><td>0.39033</td></tr><tr><td>num_bets_per</td><td>3.10339</td></tr><tr><td>profit</td><td>-1063.64</td></tr><tr><td>test_val</td><td>4626</td></tr><tr><td>value_pick_correct</td><td>1806</td></tr><tr><td>value_pick_roi</td><td>-0.26867</td></tr><tr><td>zero_price</td><td>0</td></tr></table><br/></div></div>"
      ],
      "text/plain": [
       "<IPython.core.display.HTML object>"
      ]
     },
     "metadata": {},
     "output_type": "display_data"
    },
    {
     "data": {
      "text/html": [
       "Synced <strong style=\"color:#cdcd00\">sweepy-sweep-13</strong>: <a href=\"https://wandb.ai/nickojelly/grv_priced_sweep_custom_new_box/runs/cye4g7w6\" target=\"_blank\">https://wandb.ai/nickojelly/grv_priced_sweep_custom_new_box/runs/cye4g7w6</a><br/>Synced 5 W&B file(s), 10 media file(s), 10 artifact file(s) and 0 other file(s)"
      ],
      "text/plain": [
       "<IPython.core.display.HTML object>"
      ]
     },
     "metadata": {},
     "output_type": "display_data"
    },
    {
     "data": {
      "text/html": [
       "Find logs at: <code>.\\wandb\\run-20221016_012859-cye4g7w6\\logs</code>"
      ],
      "text/plain": [
       "<IPython.core.display.HTML object>"
      ]
     },
     "metadata": {},
     "output_type": "display_data"
    },
    {
     "name": "stderr",
     "output_type": "stream",
     "text": [
      "\u001b[34m\u001b[1mwandb\u001b[0m: Sweep Agent: Waiting for job.\n",
      "\u001b[34m\u001b[1mwandb\u001b[0m: Job received.\n",
      "\u001b[34m\u001b[1mwandb\u001b[0m: Agent Starting Run: lzjyexy8 with config:\n",
      "\u001b[34m\u001b[1mwandb\u001b[0m: \tbatch_size: 1000\n",
      "\u001b[34m\u001b[1mwandb\u001b[0m: \tdropout: 0.3\n",
      "\u001b[34m\u001b[1mwandb\u001b[0m: \tepochs: 1000\n",
      "\u001b[34m\u001b[1mwandb\u001b[0m: \tf1_layer_size: 256\n",
      "\u001b[34m\u001b[1mwandb\u001b[0m: \tf2_layer_size: 64\n",
      "\u001b[34m\u001b[1mwandb\u001b[0m: \tl1_beta: 0.7014575038852648\n",
      "\u001b[34m\u001b[1mwandb\u001b[0m: \tlearning_rate: 0.000904141912021616\n",
      "\u001b[34m\u001b[1mwandb\u001b[0m: \tlen_data: 72546\n",
      "\u001b[34m\u001b[1mwandb\u001b[0m: \tloss: L1\n",
      "\u001b[34m\u001b[1mwandb\u001b[0m: \tnum_layers: 2\n",
      "\u001b[34m\u001b[1mwandb\u001b[0m: \toptimizer: adamW\n",
      "\u001b[34m\u001b[1mwandb\u001b[0m: \tvalidation_split: 0.1\n",
      "Failed to detect the name of this notebook, you can set it manually with the WANDB_NOTEBOOK_NAME environment variable to enable code saving.\n",
      "\u001b[34m\u001b[1mwandb\u001b[0m: \u001b[33mWARNING\u001b[0m Ignored wandb.init() arg project when running a sweep.\n"
     ]
    },
    {
     "data": {
      "text/html": [
       "wandb version 0.13.4 is available!  To upgrade, please run:\n",
       " $ pip install wandb --upgrade"
      ],
      "text/plain": [
       "<IPython.core.display.HTML object>"
      ]
     },
     "metadata": {},
     "output_type": "display_data"
    },
    {
     "data": {
      "text/html": [
       "Tracking run with wandb version 0.12.14"
      ],
      "text/plain": [
       "<IPython.core.display.HTML object>"
      ]
     },
     "metadata": {},
     "output_type": "display_data"
    },
    {
     "data": {
      "text/html": [
       "Run data is saved locally in <code>c:\\Users\\Nick\\Documents\\GitHub\\grvmodel\\Python\\pytorch\\New Model\\wandb\\run-20221016_021836-lzjyexy8</code>"
      ],
      "text/plain": [
       "<IPython.core.display.HTML object>"
      ]
     },
     "metadata": {},
     "output_type": "display_data"
    },
    {
     "data": {
      "text/html": [
       "Syncing run <strong><a href=\"https://wandb.ai/nickojelly/grv_priced_sweep_custom_new_box/runs/lzjyexy8\" target=\"_blank\">fragrant-sweep-14</a></strong> to <a href=\"https://wandb.ai/nickojelly/grv_priced_sweep_custom_new_box\" target=\"_blank\">Weights & Biases</a> (<a href=\"https://wandb.me/run\" target=\"_blank\">docs</a>)<br/>Sweep page:  <a href=\"https://wandb.ai/nickojelly/grv_priced_sweep_custom_new_box/sweeps/s56m9tsl\" target=\"_blank\">https://wandb.ai/nickojelly/grv_priced_sweep_custom_new_box/sweeps/s56m9tsl</a>"
      ],
      "text/plain": [
       "<IPython.core.display.HTML object>"
      ]
     },
     "metadata": {},
     "output_type": "display_data"
    },
    {
     "name": "stderr",
     "output_type": "stream",
     "text": [
      "  0%|          | 0/1000 [00:00<?, ?it/s]"
     ]
    },
    {
     "name": "stdout",
     "output_type": "stream",
     "text": [
      "{'batch_size': 1000, 'dropout': 0.3, 'epochs': 1000, 'f1_layer_size': 256, 'f2_layer_size': 64, 'l1_beta': 0.7014575038852648, 'learning_rate': 0.000904141912021616, 'len_data': 72546, 'loss': 'L1', 'num_layers': 2, 'optimizer': 'adamW', 'validation_split': 0.1}\n",
      "1000\n",
      "{'batch_size': 1000, 'dropout': 0.3, 'epochs': 1000, 'f1_layer_size': 256, 'f2_layer_size': 64, 'l1_beta': 0.7014575038852648, 'learning_rate': 0.000904141912021616, 'len_data': 72546, 'loss': 'L1', 'num_layers': 2, 'optimizer': 'adamW', 'validation_split': 0.1}\n",
      "adamW\n",
      "HERE\n",
      "here\n",
      "Sequential(\n",
      "  (0): Linear(in_features=144, out_features=256, bias=True)\n",
      "  (1): ReLU()\n",
      "  (2): Dropout(p=0.3, inplace=False)\n",
      "  (3): Linear(in_features=256, out_features=64, bias=True)\n",
      "  (4): ReLU()\n",
      "  (5): Dropout(p=0.3, inplace=False)\n",
      "  (6): Linear(in_features=64, out_features=8, bias=True)\n",
      "  (7): Softmax(dim=1)\n",
      ")\n"
     ]
    },
    {
     "name": "stderr",
     "output_type": "stream",
     "text": [
      "  0%|          | 1/1000 [00:17<4:46:02, 17.18s/it]"
     ]
    },
    {
     "name": "stdout",
     "output_type": "stream",
     "text": [
      "created path\n"
     ]
    },
    {
     "name": "stderr",
     "output_type": "stream",
     "text": [
      "100%|██████████| 1000/1000 [49:13<00:00,  2.95s/it] \n"
     ]
    },
    {
     "name": "stdout",
     "output_type": "stream",
     "text": [
      "\n"
     ]
    },
    {
     "data": {
      "text/html": [
       "Waiting for W&B process to finish... <strong style=\"color:green\">(success).</strong>"
      ],
      "text/plain": [
       "<IPython.core.display.HTML object>"
      ]
     },
     "metadata": {},
     "output_type": "display_data"
    },
    {
     "data": {
      "application/vnd.jupyter.widget-view+json": {
       "model_id": "c661713ae96a49049938d593446256cb",
       "version_major": 2,
       "version_minor": 0
      },
      "text/plain": [
       "VBox(children=(Label(value='83.703 MB of 83.703 MB uploaded (0.000 MB deduped)\\r'), FloatProgress(value=1.0, m…"
      ]
     },
     "metadata": {},
     "output_type": "display_data"
    },
    {
     "data": {
      "text/html": [
       "<style>\n",
       "    table.wandb td:nth-child(1) { padding: 0 10px; text-align: right }\n",
       "    .wandb-row { display: flex; flex-direction: row; flex-wrap: wrap; width: 100% }\n",
       "    .wandb-col { display: flex; flex-direction: column; flex-basis: 100%; flex: 1; padding: 10px; }\n",
       "    </style>\n",
       "<div class=\"wandb-row\"><div class=\"wandb-col\"><h3>Run history:</h3><br/><table class=\"wandb\"><tr><td>alt_bet_1</td><td>▁▆▅▆▄▇▆▆▆▆▆▇▅▅▆▅▅▇▅▃▆▅▅▄▅▄▃▅▇▃▆▄▄▅▆▇█▅▅▆</td></tr><tr><td>alt_bet_2</td><td>▁▇▄▆▅██▃▆▆▄▇▅▅▆▆▄▆▅▃▄▆▅▃▆▅▂▅▅▂▅▃▄▃▆▇▆▃▃▄</td></tr><tr><td>bfOnlyBets</td><td>▂▃▄▇▅▆▅▂█▆▆▄▇▆▂▅▇▃▄█▄▁▃▅▅▂▄▆▅▆▅▇▁▄▄▃▄▃▃▃</td></tr><tr><td>bfOnlyProfit</td><td>▁▆▄▆▅█▇▃▅▆▄▇▅▄▆▆▄▆▅▃▅▅▅▃▆▅▃▆▅▃▅▄▄▄▆▇▇▃▄▅</td></tr><tr><td>bf_avail</td><td>▁█▆▇▇▆▆▅▄▅▅▅▅▅▂▅▄▄▃▃▃▂▂▃▄▃▂▃▃▂▁▂▂▂▃▂▂▁▂▁</td></tr><tr><td>bfnotavail</td><td>▅█▇██▆██▅▆▆▇▆▆▅▇▆▆▅▆▆▇▇▄▅▆▃▃▃▃▃▁▄▃▄▅▃▃▅▃</td></tr><tr><td>bfprofit</td><td>▁▇▄▆▅██▃▆▆▄▇▅▅▆▆▄▆▅▃▄▆▅▃▆▅▂▅▅▂▅▃▄▃▆▇▆▃▃▄</td></tr><tr><td>correct_conf</td><td>▁▄▅▅▅▅▅▆▆▅▆▆▆▆▇▆▆▇▇▇▇▇▇▇▇▇▇▇██▇█▇███████</td></tr><tr><td>epoch</td><td>▁▁▁▂▂▂▂▂▂▃▃▃▃▃▃▄▄▄▄▄▅▅▅▅▅▅▆▆▆▆▆▆▇▇▇▇▇███</td></tr><tr><td>incorrect_conf</td><td>▁▄▅▅▅▅▅▆▅▆▆▆▆▆▆▆▆▇▆▇▇▇▇▇▇▇▇▇██▇█▇███████</td></tr><tr><td>loss</td><td>▆▇▇▇█▆▆▆▅▄▅▄▄▄▄▄▄▄▄▃▄▂▃▃▂▃▃▂▂▁▂▁▃▂▂▁▂▁▁▂</td></tr><tr><td>num_bets_per</td><td>█▅▄▄▄▄▄▃▄▄▃▃▃▃▃▃▃▂▃▂▂▂▂▂▂▂▂▂▁▂▂▁▂▂▁▂▁▁▁▁</td></tr><tr><td>profit</td><td>▁▇▄▆▅▇█▃▆▆▅▇▅▅▆▆▃▆▅▂▃▆▅▂▅▄▂▄▃▁▅▂▄▂▄▅▄▃▂▂</td></tr><tr><td>test_accuracy</td><td>▁█▆▇▇▆▆▅▄▅▅▅▅▅▂▅▄▄▃▃▄▃▃▃▄▃▂▃▃▂▁▁▂▂▃▂▂▁▂▁</td></tr><tr><td>test_val</td><td>▇▁▃▃▃▃▃▄▆▄▄▄▅▅▆▄▆▅▆▇▅▆▆▆▅▅▇▇▆███▆▇▆▇▇▇▇█</td></tr><tr><td>value_pick_correct</td><td>▁▆▆▆▅▆▅▆▅▆▆▆▅▆▇▇▆▆▅▆▆▆▇▆▆▆▆▆▇▆▅▆▆▇█▇▆▇▆▆</td></tr><tr><td>value_pick_roi</td><td>▁▆▃▇▄▄▃▄▃▄▂▃▂▂▇▆▄▃▃▇▆▅█▇▇▆▆▆▇▃▄▇▆██▇▅█▆▆</td></tr><tr><td>zero_price</td><td>▁▁▁▁▁▁▁▁▁▁▁▁▁▁▁▁▁▁▁▁▁▁▁▁▁▁▁▁▁▁▁▁▁▁▁▁▁▁▁▁</td></tr></table><br/></div><div class=\"wandb-col\"><h3>Run summary:</h3><br/><table class=\"wandb\"><tr><td>alt_bet_1</td><td>100814.82061</td></tr><tr><td>alt_bet_2</td><td>700.39328</td></tr><tr><td>bfOnlyBets</td><td>6105</td></tr><tr><td>bfOnlyProfit</td><td>306.68186</td></tr><tr><td>bf_avail</td><td>1422</td></tr><tr><td>bfnotavail</td><td>240</td></tr><tr><td>correct_conf</td><td>0.44903</td></tr><tr><td>epoch</td><td>999</td></tr><tr><td>incorrect_conf</td><td>0.41842</td></tr><tr><td>num_bets_per</td><td>3.00441</td></tr><tr><td>profit</td><td>-1172.92</td></tr><tr><td>test_val</td><td>4683</td></tr><tr><td>value_pick_correct</td><td>1800</td></tr><tr><td>value_pick_roi</td><td>-0.24181</td></tr><tr><td>zero_price</td><td>0</td></tr></table><br/></div></div>"
      ],
      "text/plain": [
       "<IPython.core.display.HTML object>"
      ]
     },
     "metadata": {},
     "output_type": "display_data"
    },
    {
     "data": {
      "text/html": [
       "Synced <strong style=\"color:#cdcd00\">fragrant-sweep-14</strong>: <a href=\"https://wandb.ai/nickojelly/grv_priced_sweep_custom_new_box/runs/lzjyexy8\" target=\"_blank\">https://wandb.ai/nickojelly/grv_priced_sweep_custom_new_box/runs/lzjyexy8</a><br/>Synced 5 W&B file(s), 10 media file(s), 10 artifact file(s) and 0 other file(s)"
      ],
      "text/plain": [
       "<IPython.core.display.HTML object>"
      ]
     },
     "metadata": {},
     "output_type": "display_data"
    },
    {
     "data": {
      "text/html": [
       "Find logs at: <code>.\\wandb\\run-20221016_021836-lzjyexy8\\logs</code>"
      ],
      "text/plain": [
       "<IPython.core.display.HTML object>"
      ]
     },
     "metadata": {},
     "output_type": "display_data"
    },
    {
     "name": "stderr",
     "output_type": "stream",
     "text": [
      "\u001b[34m\u001b[1mwandb\u001b[0m: Agent Starting Run: q8hcq6ow with config:\n",
      "\u001b[34m\u001b[1mwandb\u001b[0m: \tbatch_size: 1000\n",
      "\u001b[34m\u001b[1mwandb\u001b[0m: \tdropout: 0.4\n",
      "\u001b[34m\u001b[1mwandb\u001b[0m: \tepochs: 1000\n",
      "\u001b[34m\u001b[1mwandb\u001b[0m: \tf1_layer_size: 256\n",
      "\u001b[34m\u001b[1mwandb\u001b[0m: \tf2_layer_size: 64\n",
      "\u001b[34m\u001b[1mwandb\u001b[0m: \tl1_beta: 0.004542334467439013\n",
      "\u001b[34m\u001b[1mwandb\u001b[0m: \tlearning_rate: 0.000828337721407052\n",
      "\u001b[34m\u001b[1mwandb\u001b[0m: \tlen_data: 72546\n",
      "\u001b[34m\u001b[1mwandb\u001b[0m: \tloss: L1\n",
      "\u001b[34m\u001b[1mwandb\u001b[0m: \tnum_layers: 2\n",
      "\u001b[34m\u001b[1mwandb\u001b[0m: \toptimizer: adamW\n",
      "\u001b[34m\u001b[1mwandb\u001b[0m: \tvalidation_split: 0.1\n",
      "Failed to detect the name of this notebook, you can set it manually with the WANDB_NOTEBOOK_NAME environment variable to enable code saving.\n",
      "\u001b[34m\u001b[1mwandb\u001b[0m: \u001b[33mWARNING\u001b[0m Ignored wandb.init() arg project when running a sweep.\n"
     ]
    },
    {
     "data": {
      "text/html": [
       "wandb version 0.13.4 is available!  To upgrade, please run:\n",
       " $ pip install wandb --upgrade"
      ],
      "text/plain": [
       "<IPython.core.display.HTML object>"
      ]
     },
     "metadata": {},
     "output_type": "display_data"
    },
    {
     "data": {
      "text/html": [
       "Tracking run with wandb version 0.12.14"
      ],
      "text/plain": [
       "<IPython.core.display.HTML object>"
      ]
     },
     "metadata": {},
     "output_type": "display_data"
    },
    {
     "data": {
      "text/html": [
       "Run data is saved locally in <code>c:\\Users\\Nick\\Documents\\GitHub\\grvmodel\\Python\\pytorch\\New Model\\wandb\\run-20221016_030800-q8hcq6ow</code>"
      ],
      "text/plain": [
       "<IPython.core.display.HTML object>"
      ]
     },
     "metadata": {},
     "output_type": "display_data"
    },
    {
     "data": {
      "text/html": [
       "Syncing run <strong><a href=\"https://wandb.ai/nickojelly/grv_priced_sweep_custom_new_box/runs/q8hcq6ow\" target=\"_blank\">olive-sweep-15</a></strong> to <a href=\"https://wandb.ai/nickojelly/grv_priced_sweep_custom_new_box\" target=\"_blank\">Weights & Biases</a> (<a href=\"https://wandb.me/run\" target=\"_blank\">docs</a>)<br/>Sweep page:  <a href=\"https://wandb.ai/nickojelly/grv_priced_sweep_custom_new_box/sweeps/s56m9tsl\" target=\"_blank\">https://wandb.ai/nickojelly/grv_priced_sweep_custom_new_box/sweeps/s56m9tsl</a>"
      ],
      "text/plain": [
       "<IPython.core.display.HTML object>"
      ]
     },
     "metadata": {},
     "output_type": "display_data"
    },
    {
     "name": "stderr",
     "output_type": "stream",
     "text": [
      "  0%|          | 0/1000 [00:00<?, ?it/s]"
     ]
    },
    {
     "name": "stdout",
     "output_type": "stream",
     "text": [
      "{'batch_size': 1000, 'dropout': 0.4, 'epochs': 1000, 'f1_layer_size': 256, 'f2_layer_size': 64, 'l1_beta': 0.004542334467439013, 'learning_rate': 0.000828337721407052, 'len_data': 72546, 'loss': 'L1', 'num_layers': 2, 'optimizer': 'adamW', 'validation_split': 0.1}\n",
      "1000\n",
      "{'batch_size': 1000, 'dropout': 0.4, 'epochs': 1000, 'f1_layer_size': 256, 'f2_layer_size': 64, 'l1_beta': 0.004542334467439013, 'learning_rate': 0.000828337721407052, 'len_data': 72546, 'loss': 'L1', 'num_layers': 2, 'optimizer': 'adamW', 'validation_split': 0.1}\n",
      "adamW\n",
      "HERE\n",
      "here\n",
      "Sequential(\n",
      "  (0): Linear(in_features=144, out_features=256, bias=True)\n",
      "  (1): ReLU()\n",
      "  (2): Dropout(p=0.4, inplace=False)\n",
      "  (3): Linear(in_features=256, out_features=64, bias=True)\n",
      "  (4): ReLU()\n",
      "  (5): Dropout(p=0.4, inplace=False)\n",
      "  (6): Linear(in_features=64, out_features=8, bias=True)\n",
      "  (7): Softmax(dim=1)\n",
      ")\n"
     ]
    },
    {
     "name": "stderr",
     "output_type": "stream",
     "text": [
      "  0%|          | 1/1000 [00:17<4:47:18, 17.26s/it]"
     ]
    },
    {
     "name": "stdout",
     "output_type": "stream",
     "text": [
      "created path\n"
     ]
    },
    {
     "name": "stderr",
     "output_type": "stream",
     "text": [
      "100%|██████████| 1000/1000 [49:19<00:00,  2.96s/it] \n"
     ]
    },
    {
     "name": "stdout",
     "output_type": "stream",
     "text": [
      "\n"
     ]
    },
    {
     "data": {
      "text/html": [
       "Waiting for W&B process to finish... <strong style=\"color:green\">(success).</strong>"
      ],
      "text/plain": [
       "<IPython.core.display.HTML object>"
      ]
     },
     "metadata": {},
     "output_type": "display_data"
    },
    {
     "data": {
      "application/vnd.jupyter.widget-view+json": {
       "model_id": "7f4bec7eb726484fa91c7cc615945175",
       "version_major": 2,
       "version_minor": 0
      },
      "text/plain": [
       "VBox(children=(Label(value='84.337 MB of 84.337 MB uploaded (0.000 MB deduped)\\r'), FloatProgress(value=1.0, m…"
      ]
     },
     "metadata": {},
     "output_type": "display_data"
    },
    {
     "data": {
      "text/html": [
       "<style>\n",
       "    table.wandb td:nth-child(1) { padding: 0 10px; text-align: right }\n",
       "    .wandb-row { display: flex; flex-direction: row; flex-wrap: wrap; width: 100% }\n",
       "    .wandb-col { display: flex; flex-direction: column; flex-basis: 100%; flex: 1; padding: 10px; }\n",
       "    </style>\n",
       "<div class=\"wandb-row\"><div class=\"wandb-col\"><h3>Run history:</h3><br/><table class=\"wandb\"><tr><td>alt_bet_1</td><td>▁▅▆▆▆▆▆▆▆▅▇▆▆▆▇▃▆█▇▇▅▅▆▆▆▇▆▅▆▆▇█▇▆▄▅▅▅█▇</td></tr><tr><td>alt_bet_2</td><td>▁▅▆▅▄▆▆▆▆▆▆▆▆▆▆▃▆█▇▆▅▅▇▆▆▇▆▆▆▇█▇▇▅▅▆▆▆▇▆</td></tr><tr><td>bfOnlyBets</td><td>▂▄▃▃▂▆▂▇▆▆▆▄▅▅▄▃▅▁▇▅█▅▄▆▅▆▃▅▅▂▂▃▃▆▄▅▆▆▅▄</td></tr><tr><td>bfOnlyProfit</td><td>▁▄▆▅▄▆▅▆▆▅▆▆▅▅▆▃▆▇▆▆▅▅▇▆▆▇▆▆▆▇█▇▇▆▄▅▆▆▇▇</td></tr><tr><td>bf_avail</td><td>▁█▇█▇▆█▆▇▆▇▇▇▅▅▆▇▆▇▇▅▅▇▆▆▇▆▆▅▆▆▆▆▆▆▆▇▅▅▆</td></tr><tr><td>bfnotavail</td><td>▁▇▃▆▅▅█▅▆█▄▆▆▄█▅▄▅▄▆▃▅▆▆▅▅▇▅▅▆▆▄▅▄▄▆▃▄▃▂</td></tr><tr><td>bfprofit</td><td>▁▅▆▅▄▆▆▆▆▆▆▆▆▆▆▃▆█▇▆▅▅▇▆▆▇▆▆▆▇█▇▇▅▅▆▆▆▇▆</td></tr><tr><td>correct_conf</td><td>▁▅▅▆▆▆▆▆▆▆▇▇▇▇▇█▇▇▇▇▇▇▇▇▇▇██████████████</td></tr><tr><td>epoch</td><td>▁▁▁▂▂▂▂▂▂▃▃▃▃▃▃▄▄▄▄▄▅▅▅▅▅▅▆▆▆▆▆▆▇▇▇▇▇███</td></tr><tr><td>incorrect_conf</td><td>▁▄▅▅▆▆▆▆▆▆▆▇▇▇▇▇▇▇▇▇▇▇█▇▇▇██▇███████████</td></tr><tr><td>loss</td><td>██▇▇▆▆▅▆▆▅▅▅▃▄▅▅▅▄▄▄▃▂▃▅▂▂▃▂▂▂▂▁▂▂▁▃▂▂▂▂</td></tr><tr><td>num_bets_per</td><td>█▃▃▃▂▂▂▂▂▂▂▂▂▂▂▁▂▂▂▁▂▁▁▁▁▁▁▁▁▁▁▁▁▁▁▁▁▁▁▁</td></tr><tr><td>profit</td><td>▁▆▆▅▄▆▆▆▆▇▆▆▆▆▆▄▆█▇▆▅▅▇▆▆▇▆▆▇▆▇▇▇▅▆▆▇▆▆▆</td></tr><tr><td>test_accuracy</td><td>▁█▇█▇▆█▆▇▇▇▇▇▅▆▆▇▆▆▇▅▅▇▆▆▇▆▆▅▆▆▆▆▆▆▆▆▅▅▅</td></tr><tr><td>test_val</td><td>█▁▂▁▂▃▁▄▂▃▂▂▂▅▄▃▃▃▃▂▅▅▂▄▃▃▃▃▄▃▂▃▃▄▄▃▃▄▄▃</td></tr><tr><td>value_pick_correct</td><td>▁▆▆▇▇▇▇▆█▆▇▇▇▆▆▇▇▇▇▇▇▇█▇▇█▇▇▇▇███▇▇██▇▇▇</td></tr><tr><td>value_pick_roi</td><td>▁▄▅▆▄▇▅▅▅▅▃▅▅▅▄▄▄▆▅▆▅▅▆▆▅▇▅▅▇▇█▇▇▆▇▇█▆█▆</td></tr><tr><td>zero_price</td><td>▁▁▁▁▁▁▁▁▁▁▁▁▁▁▁▁▁▁▁▁▁▁▁▁▁▁▁▁▁▁▁▁▁▁▁▁▁▁▁▁</td></tr></table><br/></div><div class=\"wandb-col\"><h3>Run summary:</h3><br/><table class=\"wandb\"><tr><td>alt_bet_1</td><td>96508.84162</td></tr><tr><td>alt_bet_2</td><td>1466.60586</td></tr><tr><td>bfOnlyBets</td><td>6098</td></tr><tr><td>bfOnlyProfit</td><td>427.27637</td></tr><tr><td>bf_avail</td><td>1519</td></tr><tr><td>bfnotavail</td><td>255</td></tr><tr><td>correct_conf</td><td>0.68183</td></tr><tr><td>epoch</td><td>999</td></tr><tr><td>incorrect_conf</td><td>0.64047</td></tr><tr><td>num_bets_per</td><td>1.88806</td></tr><tr><td>profit</td><td>-952.2</td></tr><tr><td>test_val</td><td>4579</td></tr><tr><td>value_pick_correct</td><td>2065</td></tr><tr><td>value_pick_roi</td><td>-0.17846</td></tr><tr><td>zero_price</td><td>0</td></tr></table><br/></div></div>"
      ],
      "text/plain": [
       "<IPython.core.display.HTML object>"
      ]
     },
     "metadata": {},
     "output_type": "display_data"
    },
    {
     "data": {
      "text/html": [
       "Synced <strong style=\"color:#cdcd00\">olive-sweep-15</strong>: <a href=\"https://wandb.ai/nickojelly/grv_priced_sweep_custom_new_box/runs/q8hcq6ow\" target=\"_blank\">https://wandb.ai/nickojelly/grv_priced_sweep_custom_new_box/runs/q8hcq6ow</a><br/>Synced 5 W&B file(s), 10 media file(s), 10 artifact file(s) and 0 other file(s)"
      ],
      "text/plain": [
       "<IPython.core.display.HTML object>"
      ]
     },
     "metadata": {},
     "output_type": "display_data"
    },
    {
     "data": {
      "text/html": [
       "Find logs at: <code>.\\wandb\\run-20221016_030800-q8hcq6ow\\logs</code>"
      ],
      "text/plain": [
       "<IPython.core.display.HTML object>"
      ]
     },
     "metadata": {},
     "output_type": "display_data"
    },
    {
     "name": "stderr",
     "output_type": "stream",
     "text": [
      "\u001b[34m\u001b[1mwandb\u001b[0m: Agent Starting Run: b9p7gu4e with config:\n",
      "\u001b[34m\u001b[1mwandb\u001b[0m: \tbatch_size: 1000\n",
      "\u001b[34m\u001b[1mwandb\u001b[0m: \tdropout: 0.3\n",
      "\u001b[34m\u001b[1mwandb\u001b[0m: \tepochs: 1000\n",
      "\u001b[34m\u001b[1mwandb\u001b[0m: \tf1_layer_size: 256\n",
      "\u001b[34m\u001b[1mwandb\u001b[0m: \tf2_layer_size: 64\n",
      "\u001b[34m\u001b[1mwandb\u001b[0m: \tl1_beta: 0.7672350687782418\n",
      "\u001b[34m\u001b[1mwandb\u001b[0m: \tlearning_rate: 0.0009628084206617272\n",
      "\u001b[34m\u001b[1mwandb\u001b[0m: \tlen_data: 72546\n",
      "\u001b[34m\u001b[1mwandb\u001b[0m: \tloss: L1\n",
      "\u001b[34m\u001b[1mwandb\u001b[0m: \tnum_layers: 2\n",
      "\u001b[34m\u001b[1mwandb\u001b[0m: \toptimizer: adamW\n",
      "\u001b[34m\u001b[1mwandb\u001b[0m: \tvalidation_split: 0.1\n",
      "Failed to detect the name of this notebook, you can set it manually with the WANDB_NOTEBOOK_NAME environment variable to enable code saving.\n",
      "\u001b[34m\u001b[1mwandb\u001b[0m: \u001b[33mWARNING\u001b[0m Ignored wandb.init() arg project when running a sweep.\n"
     ]
    },
    {
     "data": {
      "text/html": [
       "wandb version 0.13.4 is available!  To upgrade, please run:\n",
       " $ pip install wandb --upgrade"
      ],
      "text/plain": [
       "<IPython.core.display.HTML object>"
      ]
     },
     "metadata": {},
     "output_type": "display_data"
    },
    {
     "data": {
      "text/html": [
       "Tracking run with wandb version 0.12.14"
      ],
      "text/plain": [
       "<IPython.core.display.HTML object>"
      ]
     },
     "metadata": {},
     "output_type": "display_data"
    },
    {
     "data": {
      "text/html": [
       "Run data is saved locally in <code>c:\\Users\\Nick\\Documents\\GitHub\\grvmodel\\Python\\pytorch\\New Model\\wandb\\run-20221016_035732-b9p7gu4e</code>"
      ],
      "text/plain": [
       "<IPython.core.display.HTML object>"
      ]
     },
     "metadata": {},
     "output_type": "display_data"
    },
    {
     "data": {
      "text/html": [
       "Syncing run <strong><a href=\"https://wandb.ai/nickojelly/grv_priced_sweep_custom_new_box/runs/b9p7gu4e\" target=\"_blank\">good-sweep-16</a></strong> to <a href=\"https://wandb.ai/nickojelly/grv_priced_sweep_custom_new_box\" target=\"_blank\">Weights & Biases</a> (<a href=\"https://wandb.me/run\" target=\"_blank\">docs</a>)<br/>Sweep page:  <a href=\"https://wandb.ai/nickojelly/grv_priced_sweep_custom_new_box/sweeps/s56m9tsl\" target=\"_blank\">https://wandb.ai/nickojelly/grv_priced_sweep_custom_new_box/sweeps/s56m9tsl</a>"
      ],
      "text/plain": [
       "<IPython.core.display.HTML object>"
      ]
     },
     "metadata": {},
     "output_type": "display_data"
    },
    {
     "name": "stderr",
     "output_type": "stream",
     "text": [
      "  0%|          | 0/1000 [00:00<?, ?it/s]"
     ]
    },
    {
     "name": "stdout",
     "output_type": "stream",
     "text": [
      "{'batch_size': 1000, 'dropout': 0.3, 'epochs': 1000, 'f1_layer_size': 256, 'f2_layer_size': 64, 'l1_beta': 0.7672350687782418, 'learning_rate': 0.0009628084206617272, 'len_data': 72546, 'loss': 'L1', 'num_layers': 2, 'optimizer': 'adamW', 'validation_split': 0.1}\n",
      "1000\n",
      "{'batch_size': 1000, 'dropout': 0.3, 'epochs': 1000, 'f1_layer_size': 256, 'f2_layer_size': 64, 'l1_beta': 0.7672350687782418, 'learning_rate': 0.0009628084206617272, 'len_data': 72546, 'loss': 'L1', 'num_layers': 2, 'optimizer': 'adamW', 'validation_split': 0.1}\n",
      "adamW\n",
      "HERE\n",
      "here\n",
      "Sequential(\n",
      "  (0): Linear(in_features=144, out_features=256, bias=True)\n",
      "  (1): ReLU()\n",
      "  (2): Dropout(p=0.3, inplace=False)\n",
      "  (3): Linear(in_features=256, out_features=64, bias=True)\n",
      "  (4): ReLU()\n",
      "  (5): Dropout(p=0.3, inplace=False)\n",
      "  (6): Linear(in_features=64, out_features=8, bias=True)\n",
      "  (7): Softmax(dim=1)\n",
      ")\n"
     ]
    },
    {
     "name": "stderr",
     "output_type": "stream",
     "text": [
      "  0%|          | 1/1000 [00:17<4:47:45, 17.28s/it]"
     ]
    },
    {
     "name": "stdout",
     "output_type": "stream",
     "text": [
      "created path\n"
     ]
    },
    {
     "name": "stderr",
     "output_type": "stream",
     "text": [
      "100%|██████████| 1000/1000 [49:18<00:00,  2.96s/it] \n"
     ]
    },
    {
     "name": "stdout",
     "output_type": "stream",
     "text": [
      "\n"
     ]
    },
    {
     "data": {
      "text/html": [
       "Waiting for W&B process to finish... <strong style=\"color:green\">(success).</strong>"
      ],
      "text/plain": [
       "<IPython.core.display.HTML object>"
      ]
     },
     "metadata": {},
     "output_type": "display_data"
    },
    {
     "data": {
      "application/vnd.jupyter.widget-view+json": {
       "model_id": "030a0f72713446968a9e976784ec4d64",
       "version_major": 2,
       "version_minor": 0
      },
      "text/plain": [
       "VBox(children=(Label(value='83.707 MB of 83.707 MB uploaded (0.000 MB deduped)\\r'), FloatProgress(value=1.0, m…"
      ]
     },
     "metadata": {},
     "output_type": "display_data"
    },
    {
     "data": {
      "text/html": [
       "<style>\n",
       "    table.wandb td:nth-child(1) { padding: 0 10px; text-align: right }\n",
       "    .wandb-row { display: flex; flex-direction: row; flex-wrap: wrap; width: 100% }\n",
       "    .wandb-col { display: flex; flex-direction: column; flex-basis: 100%; flex: 1; padding: 10px; }\n",
       "    </style>\n",
       "<div class=\"wandb-row\"><div class=\"wandb-col\"><h3>Run history:</h3><br/><table class=\"wandb\"><tr><td>alt_bet_1</td><td>▁▄█▄▃▃▂▃▃▄▃▄▃▃▂▂▄▃▁▂▁▂▃▃▁▃▁▂▃▃▃▄▃▄▁▃▃▁▃▁</td></tr><tr><td>alt_bet_2</td><td>▃▅▇▅▅▃▂▃▅▆▆▇▄▅▅▄█▅▃▁▄▃▃▅▂▃▄▃▃▅▅▇▅▄▁▆▅▃▃▂</td></tr><tr><td>bfOnlyBets</td><td>▄▄▆▃▅█▆▅▄█▇▇▅▆▆▅▂█▇█▇▇▆▄▅▆▇▅▅▃▆▂▂▅▃▃▁▃▃▃</td></tr><tr><td>bfOnlyProfit</td><td>▃▅▇▅▄▃▂▄▅▆▆▇▆▆▅▄█▅▄▁▅▄▄▅▃▃▅▄▂▆▅▇▆▄▁▅▅▃▄▃</td></tr><tr><td>bf_avail</td><td>▂█▆▆▆▆▅▅▆▆▇▅▆▅▄▃▃▅▃▃▃▃▃▃▃▃▄▄▁▃▃▂▄▂▁▁▁▃▂▂</td></tr><tr><td>bfnotavail</td><td>▃█▇▇▆▄▆▅▇▇▅▅▄▄▆▅▄▆▃▃▄▄▃▇▂▅▂▄▅▂▂▂▄▅▅▄▅▄▁▃</td></tr><tr><td>bfprofit</td><td>▃▅▇▅▅▃▂▃▅▆▆▇▄▅▅▄█▅▃▁▄▃▃▅▂▃▄▃▃▅▅▇▅▄▁▆▅▃▃▂</td></tr><tr><td>correct_conf</td><td>▁▄▅▅▅▆▅▆▅▆▆▆▆▆▆▇▇▇▇▇▇▇▇▇▇▇▇▇▇▇▇▇▇▇██████</td></tr><tr><td>epoch</td><td>▁▁▁▂▂▂▂▂▂▃▃▃▃▃▃▄▄▄▄▄▅▅▅▅▅▅▆▆▆▆▆▆▇▇▇▇▇███</td></tr><tr><td>incorrect_conf</td><td>▁▄▅▅▅▅▅▆▅▆▆▆▆▆▆▇▇▇▇▇▇▇▇▇▇▇▇▇▇█▇▇▇███████</td></tr><tr><td>loss</td><td>█▇▆██▅▆▇▆▅▆▅▅▅▅▆▅▄▄▅▄▄▄▃▄▄▄▃▄▄▂▃▃▂▄▃▃▃▂▁</td></tr><tr><td>num_bets_per</td><td>█▅▄▄▄▄▄▃▄▄▃▄▃▃▃▂▃▂▂▂▂▃▂▂▂▂▂▂▂▂▂▂▂▂▁▂▁▂▁▁</td></tr><tr><td>profit</td><td>▃▆▇▅▅▄▃▄▆▆▆▇▅▅▅▄█▆▃▂▄▄▄▅▃▄▅▄▃▅▅▇▆▅▁▆▅▄▃▃</td></tr><tr><td>test_accuracy</td><td>▁█▆▆▆▆▅▅▆▆▇▅▆▅▄▃▂▅▃▂▃▃▃▃▂▃▃▃▁▂▂▁▃▂▁▁▁▂▁▂</td></tr><tr><td>test_val</td><td>▇▁▄▃▃▄▅▄▄▄▃▅▃▄▆▆▆▆▇█▇▇▆▆▇▇▆▆█▆▇▇▅▇█▇▇▆▆▆</td></tr><tr><td>value_pick_correct</td><td>▁▄▅▅▅▅▅▆▆▆▆▆▇▆▆██▇▆▇▇▇▇█▇▇▇▇▇▇▇▇██▇▇▇▇█▇</td></tr><tr><td>value_pick_roi</td><td>▁▃▃▂▂▁▂▄▃▃▄▄▅▃▄▇█▅▅▃▅▅▂▇▆▄▃▅▄▅▄▄▅▅▃▅▂▆▇▅</td></tr><tr><td>zero_price</td><td>▁▁▁▁▁▁▁▁▁▁▁▁▁▁▁▁▁▁▁▁▁▁▁▁▁▁▁▁▁▁▁▁▁▁▁▁▁▁▁▁</td></tr></table><br/></div><div class=\"wandb-col\"><h3>Run summary:</h3><br/><table class=\"wandb\"><tr><td>alt_bet_1</td><td>22921.38897</td></tr><tr><td>alt_bet_2</td><td>-79.09447</td></tr><tr><td>bfOnlyBets</td><td>6097</td></tr><tr><td>bfOnlyProfit</td><td>126.86431</td></tr><tr><td>bf_avail</td><td>1455</td></tr><tr><td>bfnotavail</td><td>249</td></tr><tr><td>correct_conf</td><td>0.45342</td></tr><tr><td>epoch</td><td>999</td></tr><tr><td>incorrect_conf</td><td>0.4236</td></tr><tr><td>num_bets_per</td><td>2.9676</td></tr><tr><td>profit</td><td>-1157.24</td></tr><tr><td>test_val</td><td>4642</td></tr><tr><td>value_pick_correct</td><td>1839</td></tr><tr><td>value_pick_roi</td><td>-0.24366</td></tr><tr><td>zero_price</td><td>0</td></tr></table><br/></div></div>"
      ],
      "text/plain": [
       "<IPython.core.display.HTML object>"
      ]
     },
     "metadata": {},
     "output_type": "display_data"
    },
    {
     "data": {
      "text/html": [
       "Synced <strong style=\"color:#cdcd00\">good-sweep-16</strong>: <a href=\"https://wandb.ai/nickojelly/grv_priced_sweep_custom_new_box/runs/b9p7gu4e\" target=\"_blank\">https://wandb.ai/nickojelly/grv_priced_sweep_custom_new_box/runs/b9p7gu4e</a><br/>Synced 5 W&B file(s), 10 media file(s), 10 artifact file(s) and 0 other file(s)"
      ],
      "text/plain": [
       "<IPython.core.display.HTML object>"
      ]
     },
     "metadata": {},
     "output_type": "display_data"
    },
    {
     "data": {
      "text/html": [
       "Find logs at: <code>.\\wandb\\run-20221016_035732-b9p7gu4e\\logs</code>"
      ],
      "text/plain": [
       "<IPython.core.display.HTML object>"
      ]
     },
     "metadata": {},
     "output_type": "display_data"
    },
    {
     "name": "stderr",
     "output_type": "stream",
     "text": [
      "\u001b[34m\u001b[1mwandb\u001b[0m: Agent Starting Run: 3a6svewt with config:\n",
      "\u001b[34m\u001b[1mwandb\u001b[0m: \tbatch_size: 1000\n",
      "\u001b[34m\u001b[1mwandb\u001b[0m: \tdropout: 0.4\n",
      "\u001b[34m\u001b[1mwandb\u001b[0m: \tepochs: 1000\n",
      "\u001b[34m\u001b[1mwandb\u001b[0m: \tf1_layer_size: 256\n",
      "\u001b[34m\u001b[1mwandb\u001b[0m: \tf2_layer_size: 64\n",
      "\u001b[34m\u001b[1mwandb\u001b[0m: \tl1_beta: 0.962558996717102\n",
      "\u001b[34m\u001b[1mwandb\u001b[0m: \tlearning_rate: 0.0005688432386560894\n",
      "\u001b[34m\u001b[1mwandb\u001b[0m: \tlen_data: 72546\n",
      "\u001b[34m\u001b[1mwandb\u001b[0m: \tloss: L1\n",
      "\u001b[34m\u001b[1mwandb\u001b[0m: \tnum_layers: 2\n",
      "\u001b[34m\u001b[1mwandb\u001b[0m: \toptimizer: adamW\n",
      "\u001b[34m\u001b[1mwandb\u001b[0m: \tvalidation_split: 0.1\n",
      "Failed to detect the name of this notebook, you can set it manually with the WANDB_NOTEBOOK_NAME environment variable to enable code saving.\n",
      "\u001b[34m\u001b[1mwandb\u001b[0m: \u001b[33mWARNING\u001b[0m Ignored wandb.init() arg project when running a sweep.\n"
     ]
    },
    {
     "data": {
      "text/html": [
       "wandb version 0.13.4 is available!  To upgrade, please run:\n",
       " $ pip install wandb --upgrade"
      ],
      "text/plain": [
       "<IPython.core.display.HTML object>"
      ]
     },
     "metadata": {},
     "output_type": "display_data"
    },
    {
     "data": {
      "text/html": [
       "Tracking run with wandb version 0.12.14"
      ],
      "text/plain": [
       "<IPython.core.display.HTML object>"
      ]
     },
     "metadata": {},
     "output_type": "display_data"
    },
    {
     "data": {
      "text/html": [
       "Run data is saved locally in <code>c:\\Users\\Nick\\Documents\\GitHub\\grvmodel\\Python\\pytorch\\New Model\\wandb\\run-20221016_044703-3a6svewt</code>"
      ],
      "text/plain": [
       "<IPython.core.display.HTML object>"
      ]
     },
     "metadata": {},
     "output_type": "display_data"
    },
    {
     "data": {
      "text/html": [
       "Syncing run <strong><a href=\"https://wandb.ai/nickojelly/grv_priced_sweep_custom_new_box/runs/3a6svewt\" target=\"_blank\">rural-sweep-17</a></strong> to <a href=\"https://wandb.ai/nickojelly/grv_priced_sweep_custom_new_box\" target=\"_blank\">Weights & Biases</a> (<a href=\"https://wandb.me/run\" target=\"_blank\">docs</a>)<br/>Sweep page:  <a href=\"https://wandb.ai/nickojelly/grv_priced_sweep_custom_new_box/sweeps/s56m9tsl\" target=\"_blank\">https://wandb.ai/nickojelly/grv_priced_sweep_custom_new_box/sweeps/s56m9tsl</a>"
      ],
      "text/plain": [
       "<IPython.core.display.HTML object>"
      ]
     },
     "metadata": {},
     "output_type": "display_data"
    },
    {
     "name": "stderr",
     "output_type": "stream",
     "text": [
      "  0%|          | 0/1000 [00:00<?, ?it/s]"
     ]
    },
    {
     "name": "stdout",
     "output_type": "stream",
     "text": [
      "{'batch_size': 1000, 'dropout': 0.4, 'epochs': 1000, 'f1_layer_size': 256, 'f2_layer_size': 64, 'l1_beta': 0.962558996717102, 'learning_rate': 0.0005688432386560894, 'len_data': 72546, 'loss': 'L1', 'num_layers': 2, 'optimizer': 'adamW', 'validation_split': 0.1}\n",
      "1000\n",
      "{'batch_size': 1000, 'dropout': 0.4, 'epochs': 1000, 'f1_layer_size': 256, 'f2_layer_size': 64, 'l1_beta': 0.962558996717102, 'learning_rate': 0.0005688432386560894, 'len_data': 72546, 'loss': 'L1', 'num_layers': 2, 'optimizer': 'adamW', 'validation_split': 0.1}\n",
      "adamW\n",
      "HERE\n",
      "here\n",
      "Sequential(\n",
      "  (0): Linear(in_features=144, out_features=256, bias=True)\n",
      "  (1): ReLU()\n",
      "  (2): Dropout(p=0.4, inplace=False)\n",
      "  (3): Linear(in_features=256, out_features=64, bias=True)\n",
      "  (4): ReLU()\n",
      "  (5): Dropout(p=0.4, inplace=False)\n",
      "  (6): Linear(in_features=64, out_features=8, bias=True)\n",
      "  (7): Softmax(dim=1)\n",
      ")\n"
     ]
    },
    {
     "name": "stderr",
     "output_type": "stream",
     "text": [
      "  0%|          | 1/1000 [00:17<4:47:28, 17.27s/it]"
     ]
    },
    {
     "name": "stdout",
     "output_type": "stream",
     "text": [
      "created path\n"
     ]
    },
    {
     "name": "stderr",
     "output_type": "stream",
     "text": [
      "100%|██████████| 1000/1000 [49:08<00:00,  2.95s/it] "
     ]
    },
    {
     "name": "stdout",
     "output_type": "stream",
     "text": [
      "\n"
     ]
    },
    {
     "name": "stderr",
     "output_type": "stream",
     "text": [
      "\n"
     ]
    },
    {
     "data": {
      "text/html": [
       "Waiting for W&B process to finish... <strong style=\"color:green\">(success).</strong>"
      ],
      "text/plain": [
       "<IPython.core.display.HTML object>"
      ]
     },
     "metadata": {},
     "output_type": "display_data"
    },
    {
     "data": {
      "application/vnd.jupyter.widget-view+json": {
       "model_id": "1b7511a9881e40cc8411752311d7f14a",
       "version_major": 2,
       "version_minor": 0
      },
      "text/plain": [
       "VBox(children=(Label(value='83.671 MB of 83.671 MB uploaded (0.000 MB deduped)\\r'), FloatProgress(value=1.0, m…"
      ]
     },
     "metadata": {},
     "output_type": "display_data"
    },
    {
     "data": {
      "text/html": [
       "<style>\n",
       "    table.wandb td:nth-child(1) { padding: 0 10px; text-align: right }\n",
       "    .wandb-row { display: flex; flex-direction: row; flex-wrap: wrap; width: 100% }\n",
       "    .wandb-col { display: flex; flex-direction: column; flex-basis: 100%; flex: 1; padding: 10px; }\n",
       "    </style>\n",
       "<div class=\"wandb-row\"><div class=\"wandb-col\"><h3>Run history:</h3><br/><table class=\"wandb\"><tr><td>alt_bet_1</td><td>▁▃▄▄▅▅▄▆▆▅▆▅▆▆▆▅▅▅▃▅▇▆▅▅▅▅▅▅▅▅▅▄▆▅▆▇▇▇▅█</td></tr><tr><td>alt_bet_2</td><td>▁▂▅▅▇▅▅▆▇▆▆▆▆▆▅▅▅▆▄▆██▅▄▃▆▃▅▇▆▄▄▇▆▆▆▅▅▄▆</td></tr><tr><td>bfOnlyBets</td><td>▁▁▂▆▄▅▃▃▆█▅▅▅▄▃▅▅▆▆▆▇▄▆▅▁▇▂▅▄▃▅█▇▄▃▆▆█▅▅</td></tr><tr><td>bfOnlyProfit</td><td>▁▂▅▅▇▅▆▇▇▇▇▆▇▇▆▆▆▇▅▇██▆▅▄▆▄▆█▆▅▅▆▆▆▇▆▆▅▆</td></tr><tr><td>bf_avail</td><td>▁▇▇██▇██▇█▇▇▆▅▅▆▆▆▆▆▆▆▅▅▅▆▄▅▇▅▅▅▆▅▄▆▅▄▄▅</td></tr><tr><td>bfnotavail</td><td>▂██▇▆█▄▄▆▄▅▅▆▁▃▅█▄▅▄▂▅▃▄▅▅▂▅▄▆▃▄▃▅▃▄▄▄▅▆</td></tr><tr><td>bfprofit</td><td>▁▂▅▅▇▅▅▆▇▆▆▆▆▆▅▅▅▆▄▆██▅▄▃▆▃▅▇▆▄▄▇▆▆▆▅▅▄▆</td></tr><tr><td>correct_conf</td><td>▁▅▅▅▆▆▆▆▆▆▆▆▆▇▇▆▇▇▇▇▇▇▇▇█▇█▇▇▇██▇███▇▇██</td></tr><tr><td>epoch</td><td>▁▁▁▂▂▂▂▂▂▃▃▃▃▃▃▄▄▄▄▄▅▅▅▅▅▅▆▆▆▆▆▆▇▇▇▇▇███</td></tr><tr><td>incorrect_conf</td><td>▁▅▅▅▆▆▆▆▆▆▆▆▆▇▇▇▇▇▇▇▇▇▇▇▇▇█▇▇▇▇█▇█▇█████</td></tr><tr><td>loss</td><td>█▇▇█▇▆▆▇▆▇▄▆▆▄▅▃▅▅▄▄▄▃▄▃▃▁▄▂▅▂▂▃▂▁▂▁▂▂▄▁</td></tr><tr><td>num_bets_per</td><td>█▄▄▄▄▄▄▃▃▃▃▃▃▃▃▃▂▃▂▂▂▂▂▂▂▂▁▂▂▂▂▂▂▁▂▁▂▂▁▁</td></tr><tr><td>profit</td><td>▁▃▆▆▇▄▅▅▇▆▆▆▆▅▅▅▅▆▅▆██▅▄▂▅▂▆▇▇▄▅▇▆▆▆▅▅▄▆</td></tr><tr><td>test_accuracy</td><td>▁▇▇██▇█▇▇█▇▆▆▅▅▆▆▆▆▅▆▆▅▅▅▆▄▅▆▅▅▅▅▅▄▅▅▄▄▅</td></tr><tr><td>test_val</td><td>█▁▂▂▂▂▁▁▂▂▃▃▃▄▄▄▄▄▃▄▄▃▄▅▄▄▅▅▃▄▅▅▄▄▅▄▄▆▆▅</td></tr><tr><td>value_pick_correct</td><td>▁▅▅▅▆▅▆▆▆▆▅▇▆▇▆▆▆▇▇▆▇▇▇▆▇▇▇▆▇▇█▇▇▇█▇▇███</td></tr><tr><td>value_pick_roi</td><td>▂▄▁▄▃▂▄▄▅▄▂▅▆▇▄▃▅▅▄▂▇▆▅▅▃▄▆▃▇▅▆▃▆▆▇▄▄█▅█</td></tr><tr><td>zero_price</td><td>▁▁▁▁▁▁▁▁▁▁▁▁▁▁▁▁▁▁▁▁▁▁▁▁▁▁▁▁▁▁▁▁▁▁▁▁▁▁▁▁</td></tr></table><br/></div><div class=\"wandb-col\"><h3>Run summary:</h3><br/><table class=\"wandb\"><tr><td>alt_bet_1</td><td>222776.04661</td></tr><tr><td>alt_bet_2</td><td>2910.63685</td></tr><tr><td>bfOnlyBets</td><td>6115</td></tr><tr><td>bfOnlyProfit</td><td>642.85857</td></tr><tr><td>bf_avail</td><td>1491</td></tr><tr><td>bfnotavail</td><td>270</td></tr><tr><td>correct_conf</td><td>0.41958</td></tr><tr><td>epoch</td><td>999</td></tr><tr><td>incorrect_conf</td><td>0.38984</td></tr><tr><td>num_bets_per</td><td>3.15908</td></tr><tr><td>profit</td><td>-757.2</td></tr><tr><td>test_val</td><td>4624</td></tr><tr><td>value_pick_correct</td><td>1875</td></tr><tr><td>value_pick_roi</td><td>-0.23111</td></tr><tr><td>zero_price</td><td>0</td></tr></table><br/></div></div>"
      ],
      "text/plain": [
       "<IPython.core.display.HTML object>"
      ]
     },
     "metadata": {},
     "output_type": "display_data"
    },
    {
     "data": {
      "text/html": [
       "Synced <strong style=\"color:#cdcd00\">rural-sweep-17</strong>: <a href=\"https://wandb.ai/nickojelly/grv_priced_sweep_custom_new_box/runs/3a6svewt\" target=\"_blank\">https://wandb.ai/nickojelly/grv_priced_sweep_custom_new_box/runs/3a6svewt</a><br/>Synced 5 W&B file(s), 10 media file(s), 10 artifact file(s) and 0 other file(s)"
      ],
      "text/plain": [
       "<IPython.core.display.HTML object>"
      ]
     },
     "metadata": {},
     "output_type": "display_data"
    },
    {
     "data": {
      "text/html": [
       "Find logs at: <code>.\\wandb\\run-20221016_044703-3a6svewt\\logs</code>"
      ],
      "text/plain": [
       "<IPython.core.display.HTML object>"
      ]
     },
     "metadata": {},
     "output_type": "display_data"
    },
    {
     "name": "stderr",
     "output_type": "stream",
     "text": [
      "\u001b[34m\u001b[1mwandb\u001b[0m: Agent Starting Run: 3d3lb26k with config:\n",
      "\u001b[34m\u001b[1mwandb\u001b[0m: \tbatch_size: 1000\n",
      "\u001b[34m\u001b[1mwandb\u001b[0m: \tdropout: 0.5\n",
      "\u001b[34m\u001b[1mwandb\u001b[0m: \tepochs: 1000\n",
      "\u001b[34m\u001b[1mwandb\u001b[0m: \tf1_layer_size: 256\n",
      "\u001b[34m\u001b[1mwandb\u001b[0m: \tf2_layer_size: 64\n",
      "\u001b[34m\u001b[1mwandb\u001b[0m: \tl1_beta: 0.3633188747020052\n",
      "\u001b[34m\u001b[1mwandb\u001b[0m: \tlearning_rate: 0.00013831195390882466\n",
      "\u001b[34m\u001b[1mwandb\u001b[0m: \tlen_data: 72546\n",
      "\u001b[34m\u001b[1mwandb\u001b[0m: \tloss: L1\n",
      "\u001b[34m\u001b[1mwandb\u001b[0m: \tnum_layers: 2\n",
      "\u001b[34m\u001b[1mwandb\u001b[0m: \toptimizer: adamW\n",
      "\u001b[34m\u001b[1mwandb\u001b[0m: \tvalidation_split: 0.1\n",
      "Failed to detect the name of this notebook, you can set it manually with the WANDB_NOTEBOOK_NAME environment variable to enable code saving.\n",
      "\u001b[34m\u001b[1mwandb\u001b[0m: \u001b[33mWARNING\u001b[0m Ignored wandb.init() arg project when running a sweep.\n"
     ]
    },
    {
     "data": {
      "text/html": [
       "wandb version 0.13.4 is available!  To upgrade, please run:\n",
       " $ pip install wandb --upgrade"
      ],
      "text/plain": [
       "<IPython.core.display.HTML object>"
      ]
     },
     "metadata": {},
     "output_type": "display_data"
    },
    {
     "data": {
      "text/html": [
       "Tracking run with wandb version 0.12.14"
      ],
      "text/plain": [
       "<IPython.core.display.HTML object>"
      ]
     },
     "metadata": {},
     "output_type": "display_data"
    },
    {
     "data": {
      "text/html": [
       "Run data is saved locally in <code>c:\\Users\\Nick\\Documents\\GitHub\\grvmodel\\Python\\pytorch\\New Model\\wandb\\run-20221016_053628-3d3lb26k</code>"
      ],
      "text/plain": [
       "<IPython.core.display.HTML object>"
      ]
     },
     "metadata": {},
     "output_type": "display_data"
    },
    {
     "data": {
      "text/html": [
       "Syncing run <strong><a href=\"https://wandb.ai/nickojelly/grv_priced_sweep_custom_new_box/runs/3d3lb26k\" target=\"_blank\">icy-sweep-18</a></strong> to <a href=\"https://wandb.ai/nickojelly/grv_priced_sweep_custom_new_box\" target=\"_blank\">Weights & Biases</a> (<a href=\"https://wandb.me/run\" target=\"_blank\">docs</a>)<br/>Sweep page:  <a href=\"https://wandb.ai/nickojelly/grv_priced_sweep_custom_new_box/sweeps/s56m9tsl\" target=\"_blank\">https://wandb.ai/nickojelly/grv_priced_sweep_custom_new_box/sweeps/s56m9tsl</a>"
      ],
      "text/plain": [
       "<IPython.core.display.HTML object>"
      ]
     },
     "metadata": {},
     "output_type": "display_data"
    },
    {
     "name": "stderr",
     "output_type": "stream",
     "text": [
      "  0%|          | 0/1000 [00:00<?, ?it/s]"
     ]
    },
    {
     "name": "stdout",
     "output_type": "stream",
     "text": [
      "{'batch_size': 1000, 'dropout': 0.5, 'epochs': 1000, 'f1_layer_size': 256, 'f2_layer_size': 64, 'l1_beta': 0.3633188747020052, 'learning_rate': 0.00013831195390882466, 'len_data': 72546, 'loss': 'L1', 'num_layers': 2, 'optimizer': 'adamW', 'validation_split': 0.1}\n",
      "1000\n",
      "{'batch_size': 1000, 'dropout': 0.5, 'epochs': 1000, 'f1_layer_size': 256, 'f2_layer_size': 64, 'l1_beta': 0.3633188747020052, 'learning_rate': 0.00013831195390882466, 'len_data': 72546, 'loss': 'L1', 'num_layers': 2, 'optimizer': 'adamW', 'validation_split': 0.1}\n",
      "adamW\n",
      "HERE\n",
      "here\n",
      "Sequential(\n",
      "  (0): Linear(in_features=144, out_features=256, bias=True)\n",
      "  (1): ReLU()\n",
      "  (2): Dropout(p=0.5, inplace=False)\n",
      "  (3): Linear(in_features=256, out_features=64, bias=True)\n",
      "  (4): ReLU()\n",
      "  (5): Dropout(p=0.5, inplace=False)\n",
      "  (6): Linear(in_features=64, out_features=8, bias=True)\n",
      "  (7): Softmax(dim=1)\n",
      ")\n"
     ]
    },
    {
     "name": "stderr",
     "output_type": "stream",
     "text": [
      "  0%|          | 1/1000 [00:17<4:46:25, 17.20s/it]"
     ]
    },
    {
     "name": "stdout",
     "output_type": "stream",
     "text": [
      "created path\n"
     ]
    },
    {
     "name": "stderr",
     "output_type": "stream",
     "text": [
      "100%|██████████| 1000/1000 [49:08<00:00,  2.95s/it] \n"
     ]
    },
    {
     "name": "stdout",
     "output_type": "stream",
     "text": [
      "\n"
     ]
    },
    {
     "data": {
      "text/html": [
       "Waiting for W&B process to finish... <strong style=\"color:green\">(success).</strong>"
      ],
      "text/plain": [
       "<IPython.core.display.HTML object>"
      ]
     },
     "metadata": {},
     "output_type": "display_data"
    },
    {
     "data": {
      "application/vnd.jupyter.widget-view+json": {
       "model_id": "e1e58f86a9714afaa6631a926374d61c",
       "version_major": 2,
       "version_minor": 0
      },
      "text/plain": [
       "VBox(children=(Label(value='83.564 MB of 83.564 MB uploaded (0.000 MB deduped)\\r'), FloatProgress(value=1.0, m…"
      ]
     },
     "metadata": {},
     "output_type": "display_data"
    },
    {
     "data": {
      "text/html": [
       "<style>\n",
       "    table.wandb td:nth-child(1) { padding: 0 10px; text-align: right }\n",
       "    .wandb-row { display: flex; flex-direction: row; flex-wrap: wrap; width: 100% }\n",
       "    .wandb-col { display: flex; flex-direction: column; flex-basis: 100%; flex: 1; padding: 10px; }\n",
       "    </style>\n",
       "<div class=\"wandb-row\"><div class=\"wandb-col\"><h3>Run history:</h3><br/><table class=\"wandb\"><tr><td>alt_bet_1</td><td>▂▄▃▃▃▄▄▄▄▄▃▄▃▂▆▃▃█▇▃▄▂▃▃▃▃▃▃▄▇▄▂▁▃▅▂▂▂▂▂</td></tr><tr><td>alt_bet_2</td><td>▅▆▄▄▄▅▇▅▅▆▄▅▅▄▆▄▅█▆▄▅▄▄▅▆▄▄▅▆█▅▃▁▃█▂▄▃▅▁</td></tr><tr><td>bfOnlyBets</td><td>▁▄▅▆█▂▅▅▃▄▂▁▃▄▁▄▁▅▂▄▂▅▄▄▄▄▅▆▂▃▅▅▆██▆██▆▇</td></tr><tr><td>bfOnlyProfit</td><td>▄▇▅▅▄▆▇▆▆▇▅▅▆▅▆▄▆█▆▄▅▄▄▄▇▄▄▅▆█▆▃▂▃▇▂▄▃▅▁</td></tr><tr><td>bf_avail</td><td>▁█▇▇▇▇█▇▇▇▆▆▇▇▆▆▆▆▅▆▅▆▆▅▆▅▆▆▅▅▅▅▅▅▅▅▅▅▅▄</td></tr><tr><td>bfnotavail</td><td>▁▇█▇▆▆▆▅▆▆▆▆▅▄▇▇▅▇▇▆▇▇▇▇▆▆▇▄▇▇▆▆▅▆▆▇▅▇▇▆</td></tr><tr><td>bfprofit</td><td>▅▆▄▄▄▅▇▅▅▆▄▅▅▄▆▄▅█▆▄▅▄▄▅▆▄▄▅▆█▅▃▁▃█▂▄▃▅▁</td></tr><tr><td>correct_conf</td><td>▁▆▆▆▆▆▆▆▆▆▆▇▆▇▇▇▇▇▇▇▇▇▇▇▇▇█▇▇▇██████████</td></tr><tr><td>epoch</td><td>▁▁▁▂▂▂▂▂▂▃▃▃▃▃▃▄▄▄▄▄▅▅▅▅▅▅▆▆▆▆▆▆▇▇▇▇▇███</td></tr><tr><td>incorrect_conf</td><td>▁▆▆▆▆▆▆▆▆▆▆▆▆▇▇▇▇▇▇▇▇▇▇▇▇▇█▇▇▇██████████</td></tr><tr><td>loss</td><td>▇█▇▄▄▇▆▅▅▄▄▄▄▄▆▄▇▇▄▃▂▄▁▂▂▅▁▃▄▂▁▃▂▃▁▁▄▂▂▂</td></tr><tr><td>num_bets_per</td><td>█▄▄▄▃▃▃▃▃▃▃▃▃▂▂▃▂▂▂▂▂▂▂▂▂▂▁▁▂▂▁▂▁▁▁▁▁▁▁▁</td></tr><tr><td>profit</td><td>▅▆▄▅▄▅▆▅▅▅▄▆▅▃▃▄▄▅▄▄▅▃▃▅▅▃▄▄▅▅▅▃▁▃█▂▃▂▅▁</td></tr><tr><td>test_accuracy</td><td>▁██▇▇▇▇▇▇▇▇▆▇▇▆▆▆▆▅▆▆▆▆▆▆▅▆▆▆▆▆▅▅▅▅▅▅▅▅▄</td></tr><tr><td>test_val</td><td>█▁▂▂▃▂▂▂▂▂▂▃▂▂▃▃▃▃▄▄▃▄▃▄▃▄▄▄▄▄▄▄▅▅▅▅▅▅▅▆</td></tr><tr><td>value_pick_correct</td><td>▁▆▆▆▅▅▆▅▆▆▅▅▆▆▆▆▆▇▆▆▆▇▇▇▆▇▆▇▇▇▆▇▇▇█▆▇▇▇▇</td></tr><tr><td>value_pick_roi</td><td>▄█▇▇▇▅▇▆▆▅▃▁▆▅▅▄▅▄▃▄▄▅▄▄▂▅▁▄▅▅▄▅▃▂█▂▂▃▅▃</td></tr><tr><td>zero_price</td><td>▁▁▁▁▁▁▁▁▁▁▁▁▁▁▁▁▁▁▁▁▁▁▁▁▁▁▁▁▁▁▁▁▁▁▁▁▁▁▁▁</td></tr></table><br/></div><div class=\"wandb-col\"><h3>Run summary:</h3><br/><table class=\"wandb\"><tr><td>alt_bet_1</td><td>72273.3144</td></tr><tr><td>alt_bet_2</td><td>669.47183</td></tr><tr><td>bfOnlyBets</td><td>6113</td></tr><tr><td>bfOnlyProfit</td><td>138.20637</td></tr><tr><td>bf_avail</td><td>1502</td></tr><tr><td>bfnotavail</td><td>270</td></tr><tr><td>correct_conf</td><td>0.36964</td></tr><tr><td>epoch</td><td>999</td></tr><tr><td>incorrect_conf</td><td>0.3406</td></tr><tr><td>num_bets_per</td><td>3.50993</td></tr><tr><td>profit</td><td>-1013.14</td></tr><tr><td>test_val</td><td>4611</td></tr><tr><td>value_pick_correct</td><td>1767</td></tr><tr><td>value_pick_roi</td><td>-0.27016</td></tr><tr><td>zero_price</td><td>0</td></tr></table><br/></div></div>"
      ],
      "text/plain": [
       "<IPython.core.display.HTML object>"
      ]
     },
     "metadata": {},
     "output_type": "display_data"
    },
    {
     "data": {
      "text/html": [
       "Synced <strong style=\"color:#cdcd00\">icy-sweep-18</strong>: <a href=\"https://wandb.ai/nickojelly/grv_priced_sweep_custom_new_box/runs/3d3lb26k\" target=\"_blank\">https://wandb.ai/nickojelly/grv_priced_sweep_custom_new_box/runs/3d3lb26k</a><br/>Synced 5 W&B file(s), 10 media file(s), 10 artifact file(s) and 0 other file(s)"
      ],
      "text/plain": [
       "<IPython.core.display.HTML object>"
      ]
     },
     "metadata": {},
     "output_type": "display_data"
    },
    {
     "data": {
      "text/html": [
       "Find logs at: <code>.\\wandb\\run-20221016_053628-3d3lb26k\\logs</code>"
      ],
      "text/plain": [
       "<IPython.core.display.HTML object>"
      ]
     },
     "metadata": {},
     "output_type": "display_data"
    },
    {
     "name": "stderr",
     "output_type": "stream",
     "text": [
      "\u001b[34m\u001b[1mwandb\u001b[0m: Sweep Agent: Waiting for job.\n",
      "\u001b[34m\u001b[1mwandb\u001b[0m: Job received.\n",
      "\u001b[34m\u001b[1mwandb\u001b[0m: Agent Starting Run: c6nzdpla with config:\n",
      "\u001b[34m\u001b[1mwandb\u001b[0m: \tbatch_size: 1000\n",
      "\u001b[34m\u001b[1mwandb\u001b[0m: \tdropout: 0.3\n",
      "\u001b[34m\u001b[1mwandb\u001b[0m: \tepochs: 1000\n",
      "\u001b[34m\u001b[1mwandb\u001b[0m: \tf1_layer_size: 256\n",
      "\u001b[34m\u001b[1mwandb\u001b[0m: \tf2_layer_size: 64\n",
      "\u001b[34m\u001b[1mwandb\u001b[0m: \tl1_beta: 0.2198305153020642\n",
      "\u001b[34m\u001b[1mwandb\u001b[0m: \tlearning_rate: 0.00029867451023173335\n",
      "\u001b[34m\u001b[1mwandb\u001b[0m: \tlen_data: 72546\n",
      "\u001b[34m\u001b[1mwandb\u001b[0m: \tloss: L1\n",
      "\u001b[34m\u001b[1mwandb\u001b[0m: \tnum_layers: 2\n",
      "\u001b[34m\u001b[1mwandb\u001b[0m: \toptimizer: adamW\n",
      "\u001b[34m\u001b[1mwandb\u001b[0m: \tvalidation_split: 0.1\n",
      "Failed to detect the name of this notebook, you can set it manually with the WANDB_NOTEBOOK_NAME environment variable to enable code saving.\n",
      "\u001b[34m\u001b[1mwandb\u001b[0m: \u001b[33mWARNING\u001b[0m Ignored wandb.init() arg project when running a sweep.\n"
     ]
    },
    {
     "data": {
      "text/html": [
       "wandb version 0.13.4 is available!  To upgrade, please run:\n",
       " $ pip install wandb --upgrade"
      ],
      "text/plain": [
       "<IPython.core.display.HTML object>"
      ]
     },
     "metadata": {},
     "output_type": "display_data"
    },
    {
     "data": {
      "text/html": [
       "Tracking run with wandb version 0.12.14"
      ],
      "text/plain": [
       "<IPython.core.display.HTML object>"
      ]
     },
     "metadata": {},
     "output_type": "display_data"
    },
    {
     "data": {
      "text/html": [
       "Run data is saved locally in <code>c:\\Users\\Nick\\Documents\\GitHub\\grvmodel\\Python\\pytorch\\New Model\\wandb\\run-20221016_062601-c6nzdpla</code>"
      ],
      "text/plain": [
       "<IPython.core.display.HTML object>"
      ]
     },
     "metadata": {},
     "output_type": "display_data"
    },
    {
     "data": {
      "text/html": [
       "Syncing run <strong><a href=\"https://wandb.ai/nickojelly/grv_priced_sweep_custom_new_box/runs/c6nzdpla\" target=\"_blank\">firm-sweep-19</a></strong> to <a href=\"https://wandb.ai/nickojelly/grv_priced_sweep_custom_new_box\" target=\"_blank\">Weights & Biases</a> (<a href=\"https://wandb.me/run\" target=\"_blank\">docs</a>)<br/>Sweep page:  <a href=\"https://wandb.ai/nickojelly/grv_priced_sweep_custom_new_box/sweeps/s56m9tsl\" target=\"_blank\">https://wandb.ai/nickojelly/grv_priced_sweep_custom_new_box/sweeps/s56m9tsl</a>"
      ],
      "text/plain": [
       "<IPython.core.display.HTML object>"
      ]
     },
     "metadata": {},
     "output_type": "display_data"
    },
    {
     "name": "stderr",
     "output_type": "stream",
     "text": [
      "  0%|          | 0/1000 [00:00<?, ?it/s]"
     ]
    },
    {
     "name": "stdout",
     "output_type": "stream",
     "text": [
      "{'batch_size': 1000, 'dropout': 0.3, 'epochs': 1000, 'f1_layer_size': 256, 'f2_layer_size': 64, 'l1_beta': 0.2198305153020642, 'learning_rate': 0.00029867451023173335, 'len_data': 72546, 'loss': 'L1', 'num_layers': 2, 'optimizer': 'adamW', 'validation_split': 0.1}\n",
      "1000\n",
      "{'batch_size': 1000, 'dropout': 0.3, 'epochs': 1000, 'f1_layer_size': 256, 'f2_layer_size': 64, 'l1_beta': 0.2198305153020642, 'learning_rate': 0.00029867451023173335, 'len_data': 72546, 'loss': 'L1', 'num_layers': 2, 'optimizer': 'adamW', 'validation_split': 0.1}\n",
      "adamW\n",
      "HERE\n",
      "here\n",
      "Sequential(\n",
      "  (0): Linear(in_features=144, out_features=256, bias=True)\n",
      "  (1): ReLU()\n",
      "  (2): Dropout(p=0.3, inplace=False)\n",
      "  (3): Linear(in_features=256, out_features=64, bias=True)\n",
      "  (4): ReLU()\n",
      "  (5): Dropout(p=0.3, inplace=False)\n",
      "  (6): Linear(in_features=64, out_features=8, bias=True)\n",
      "  (7): Softmax(dim=1)\n",
      ")\n"
     ]
    },
    {
     "name": "stderr",
     "output_type": "stream",
     "text": [
      "  0%|          | 1/1000 [00:17<4:45:36, 17.15s/it]"
     ]
    },
    {
     "name": "stdout",
     "output_type": "stream",
     "text": [
      "created path\n"
     ]
    },
    {
     "name": "stderr",
     "output_type": "stream",
     "text": [
      "100%|██████████| 1000/1000 [49:02<00:00,  2.94s/it] \n"
     ]
    },
    {
     "name": "stdout",
     "output_type": "stream",
     "text": [
      "\n"
     ]
    },
    {
     "data": {
      "text/html": [
       "Waiting for W&B process to finish... <strong style=\"color:green\">(success).</strong>"
      ],
      "text/plain": [
       "<IPython.core.display.HTML object>"
      ]
     },
     "metadata": {},
     "output_type": "display_data"
    },
    {
     "data": {
      "application/vnd.jupyter.widget-view+json": {
       "model_id": "7f6dc92222484b1da7de020416252fb4",
       "version_major": 2,
       "version_minor": 0
      },
      "text/plain": [
       "VBox(children=(Label(value='83.510 MB of 83.510 MB uploaded (0.000 MB deduped)\\r'), FloatProgress(value=1.0, m…"
      ]
     },
     "metadata": {},
     "output_type": "display_data"
    },
    {
     "data": {
      "text/html": [
       "<style>\n",
       "    table.wandb td:nth-child(1) { padding: 0 10px; text-align: right }\n",
       "    .wandb-row { display: flex; flex-direction: row; flex-wrap: wrap; width: 100% }\n",
       "    .wandb-col { display: flex; flex-direction: column; flex-basis: 100%; flex: 1; padding: 10px; }\n",
       "    </style>\n",
       "<div class=\"wandb-row\"><div class=\"wandb-col\"><h3>Run history:</h3><br/><table class=\"wandb\"><tr><td>alt_bet_1</td><td>▃▆▅▅▆█▅▅▄▅▄▅▆▇▅▅▄▃▄█▅▄▄▄▄▃▂▄▂▃▂▁▁▂▃▁▅▃▅▅</td></tr><tr><td>alt_bet_2</td><td>▅▆▅▅▅▇▆▅▅▄▄▄▆▆▆▆▄▅▅█▅▄▄▄▄▂▃▃▃▃▂▁▂▁▂▁▅▃▅▃</td></tr><tr><td>bfOnlyBets</td><td>▄█▇█▅▅▃▃▃▅▄▂▃▄▄▄▅▆▆▃▆▇▄▅▆▅▂▃▅▂▂▃▄▁▁▄▃▆▆▄</td></tr><tr><td>bfOnlyProfit</td><td>▅▇▆▆▆█▆▇▆▅▅▄▇▆▇▇▄▅▆█▅▆▄▅▄▂▃▄▃▃▂▁▂▂▃▁▅▃▆▄</td></tr><tr><td>bf_avail</td><td>▁▇██▇▇▆▅▇▅▅▅▅▅▆▅▅▅▆▄▅▅▅▅▄▃▄▃▄▃▂▃▄▂▃▂▂▃▄▂</td></tr><tr><td>bfnotavail</td><td>▁▅▇▄▄▆▇▄▆▇▇█▆█▆▆▆▅▅▆▅▂▆▅▄▅▅▄▃▅▄▄▃▃▃▄▃▄▃▄</td></tr><tr><td>bfprofit</td><td>▅▆▅▅▅▇▆▅▅▄▄▄▆▆▆▆▄▅▅█▅▄▄▄▄▂▃▃▃▃▂▁▂▁▂▁▅▃▅▃</td></tr><tr><td>correct_conf</td><td>▁▄▅▅▅▅▅▅▅▅▆▆▆▆▆▆▇▆▆▆▇▇▇▇▇█▇▇▇▇█▇████████</td></tr><tr><td>epoch</td><td>▁▁▁▂▂▂▂▂▂▃▃▃▃▃▃▄▄▄▄▄▅▅▅▅▅▅▆▆▆▆▆▆▇▇▇▇▇███</td></tr><tr><td>incorrect_conf</td><td>▁▄▅▅▅▅▅▅▅▅▆▆▆▆▆▆▇▆▇▆▇▇▇▇▇█▇▇▇▇█▇████████</td></tr><tr><td>loss</td><td>██▆▇▇▆▇▅▆▆▅▅▄▅▄▅▄▅▄▅▄▄▃▃▄▂▄▃▃▃▃▁▂▃▃▂▂▂▄▃</td></tr><tr><td>num_bets_per</td><td>█▅▅▄▄▄▄▄▄▄▃▃▃▃▃▃▂▃▂▃▂▂▂▂▂▁▁▂▂▂▁▂▁▁▁▁▁▁▁▁</td></tr><tr><td>profit</td><td>▆▇▆▅▅▇▇▅▆▅▄▄▇▅▇▆▄▅▆█▅▄▅▄▄▁▅▄▄▃▂▂▂▂▁▂▅▃▅▄</td></tr><tr><td>test_accuracy</td><td>▁▇█▇▇▇▆▅▇▅▅▅▅▆▆▆▅▅▆▄▅▅▅▅▄▄▅▃▄▃▂▄▄▂▃▃▂▃▄▃</td></tr><tr><td>test_val</td><td>█▂▁▁▁▁▂▃▁▄▄▃▄▃▂▃▄▄▃▄▄▄▄▄▅▆▃▅▅▅▆▅▅▆▅▆▆▆▅▆</td></tr><tr><td>value_pick_correct</td><td>▁▆▆▆▅▆▆▆▆▆▇▇▆▆▇▆▅▆▇▆▇▇▇▆▇▇▇▇▆▇▇▇▇█▇▆▇▇▆▇</td></tr><tr><td>value_pick_roi</td><td>▇█▇▇▆▅▇▆▆▅▇▆▆▃▅▅▂▃▅▄▄▅▃▁▁▄▄▃▁▃▃▂▂▄▂▁▃▃▃▂</td></tr><tr><td>zero_price</td><td>▁▁▁▁▁▁▁▁▁▁▁▁▁▁▁▁▁▁▁▁▁▁▁▁▁▁▁▁▁▁▁▁▁▁▁▁▁▁▁▁</td></tr></table><br/></div><div class=\"wandb-col\"><h3>Run summary:</h3><br/><table class=\"wandb\"><tr><td>alt_bet_1</td><td>67996.83274</td></tr><tr><td>alt_bet_2</td><td>-302.09083</td></tr><tr><td>bfOnlyBets</td><td>6077</td></tr><tr><td>bfOnlyProfit</td><td>5.38503</td></tr><tr><td>bf_avail</td><td>1448</td></tr><tr><td>bfnotavail</td><td>267</td></tr><tr><td>correct_conf</td><td>0.42249</td></tr><tr><td>epoch</td><td>999</td></tr><tr><td>incorrect_conf</td><td>0.37999</td></tr><tr><td>num_bets_per</td><td>3.41632</td></tr><tr><td>profit</td><td>-1136.6</td></tr><tr><td>test_val</td><td>4629</td></tr><tr><td>value_pick_correct</td><td>1733</td></tr><tr><td>value_pick_roi</td><td>-0.28339</td></tr><tr><td>zero_price</td><td>0</td></tr></table><br/></div></div>"
      ],
      "text/plain": [
       "<IPython.core.display.HTML object>"
      ]
     },
     "metadata": {},
     "output_type": "display_data"
    },
    {
     "data": {
      "text/html": [
       "Synced <strong style=\"color:#cdcd00\">firm-sweep-19</strong>: <a href=\"https://wandb.ai/nickojelly/grv_priced_sweep_custom_new_box/runs/c6nzdpla\" target=\"_blank\">https://wandb.ai/nickojelly/grv_priced_sweep_custom_new_box/runs/c6nzdpla</a><br/>Synced 5 W&B file(s), 10 media file(s), 10 artifact file(s) and 0 other file(s)"
      ],
      "text/plain": [
       "<IPython.core.display.HTML object>"
      ]
     },
     "metadata": {},
     "output_type": "display_data"
    },
    {
     "data": {
      "text/html": [
       "Find logs at: <code>.\\wandb\\run-20221016_062601-c6nzdpla\\logs</code>"
      ],
      "text/plain": [
       "<IPython.core.display.HTML object>"
      ]
     },
     "metadata": {},
     "output_type": "display_data"
    },
    {
     "name": "stderr",
     "output_type": "stream",
     "text": [
      "\u001b[34m\u001b[1mwandb\u001b[0m: Sweep Agent: Waiting for job.\n",
      "\u001b[34m\u001b[1mwandb\u001b[0m: Job received.\n",
      "\u001b[34m\u001b[1mwandb\u001b[0m: Agent Starting Run: edbhvcg7 with config:\n",
      "\u001b[34m\u001b[1mwandb\u001b[0m: \tbatch_size: 1000\n",
      "\u001b[34m\u001b[1mwandb\u001b[0m: \tdropout: 0.4\n",
      "\u001b[34m\u001b[1mwandb\u001b[0m: \tepochs: 1000\n",
      "\u001b[34m\u001b[1mwandb\u001b[0m: \tf1_layer_size: 256\n",
      "\u001b[34m\u001b[1mwandb\u001b[0m: \tf2_layer_size: 64\n",
      "\u001b[34m\u001b[1mwandb\u001b[0m: \tl1_beta: 0.1995047253529032\n",
      "\u001b[34m\u001b[1mwandb\u001b[0m: \tlearning_rate: 0.0003400878094224309\n",
      "\u001b[34m\u001b[1mwandb\u001b[0m: \tlen_data: 72546\n",
      "\u001b[34m\u001b[1mwandb\u001b[0m: \tloss: L1\n",
      "\u001b[34m\u001b[1mwandb\u001b[0m: \tnum_layers: 2\n",
      "\u001b[34m\u001b[1mwandb\u001b[0m: \toptimizer: adamW\n",
      "\u001b[34m\u001b[1mwandb\u001b[0m: \tvalidation_split: 0.1\n",
      "Failed to detect the name of this notebook, you can set it manually with the WANDB_NOTEBOOK_NAME environment variable to enable code saving.\n",
      "\u001b[34m\u001b[1mwandb\u001b[0m: \u001b[33mWARNING\u001b[0m Ignored wandb.init() arg project when running a sweep.\n"
     ]
    },
    {
     "data": {
      "text/html": [
       "wandb version 0.13.4 is available!  To upgrade, please run:\n",
       " $ pip install wandb --upgrade"
      ],
      "text/plain": [
       "<IPython.core.display.HTML object>"
      ]
     },
     "metadata": {},
     "output_type": "display_data"
    },
    {
     "data": {
      "text/html": [
       "Tracking run with wandb version 0.12.14"
      ],
      "text/plain": [
       "<IPython.core.display.HTML object>"
      ]
     },
     "metadata": {},
     "output_type": "display_data"
    },
    {
     "data": {
      "text/html": [
       "Run data is saved locally in <code>c:\\Users\\Nick\\Documents\\GitHub\\grvmodel\\Python\\pytorch\\New Model\\wandb\\run-20221016_071527-edbhvcg7</code>"
      ],
      "text/plain": [
       "<IPython.core.display.HTML object>"
      ]
     },
     "metadata": {},
     "output_type": "display_data"
    },
    {
     "data": {
      "text/html": [
       "Syncing run <strong><a href=\"https://wandb.ai/nickojelly/grv_priced_sweep_custom_new_box/runs/edbhvcg7\" target=\"_blank\">different-sweep-20</a></strong> to <a href=\"https://wandb.ai/nickojelly/grv_priced_sweep_custom_new_box\" target=\"_blank\">Weights & Biases</a> (<a href=\"https://wandb.me/run\" target=\"_blank\">docs</a>)<br/>Sweep page:  <a href=\"https://wandb.ai/nickojelly/grv_priced_sweep_custom_new_box/sweeps/s56m9tsl\" target=\"_blank\">https://wandb.ai/nickojelly/grv_priced_sweep_custom_new_box/sweeps/s56m9tsl</a>"
      ],
      "text/plain": [
       "<IPython.core.display.HTML object>"
      ]
     },
     "metadata": {},
     "output_type": "display_data"
    },
    {
     "name": "stderr",
     "output_type": "stream",
     "text": [
      "  0%|          | 0/1000 [00:00<?, ?it/s]"
     ]
    },
    {
     "name": "stdout",
     "output_type": "stream",
     "text": [
      "{'batch_size': 1000, 'dropout': 0.4, 'epochs': 1000, 'f1_layer_size': 256, 'f2_layer_size': 64, 'l1_beta': 0.1995047253529032, 'learning_rate': 0.0003400878094224309, 'len_data': 72546, 'loss': 'L1', 'num_layers': 2, 'optimizer': 'adamW', 'validation_split': 0.1}\n",
      "1000\n",
      "{'batch_size': 1000, 'dropout': 0.4, 'epochs': 1000, 'f1_layer_size': 256, 'f2_layer_size': 64, 'l1_beta': 0.1995047253529032, 'learning_rate': 0.0003400878094224309, 'len_data': 72546, 'loss': 'L1', 'num_layers': 2, 'optimizer': 'adamW', 'validation_split': 0.1}\n",
      "adamW\n",
      "HERE\n",
      "here\n",
      "Sequential(\n",
      "  (0): Linear(in_features=144, out_features=256, bias=True)\n",
      "  (1): ReLU()\n",
      "  (2): Dropout(p=0.4, inplace=False)\n",
      "  (3): Linear(in_features=256, out_features=64, bias=True)\n",
      "  (4): ReLU()\n",
      "  (5): Dropout(p=0.4, inplace=False)\n",
      "  (6): Linear(in_features=64, out_features=8, bias=True)\n",
      "  (7): Softmax(dim=1)\n",
      ")\n"
     ]
    },
    {
     "name": "stderr",
     "output_type": "stream",
     "text": [
      "  0%|          | 1/1000 [00:17<4:46:00, 17.18s/it]"
     ]
    },
    {
     "name": "stdout",
     "output_type": "stream",
     "text": [
      "created path\n"
     ]
    },
    {
     "name": "stderr",
     "output_type": "stream",
     "text": [
      "100%|██████████| 1000/1000 [49:00<00:00,  2.94s/it] \n"
     ]
    },
    {
     "name": "stdout",
     "output_type": "stream",
     "text": [
      "\n"
     ]
    },
    {
     "data": {
      "text/html": [
       "Waiting for W&B process to finish... <strong style=\"color:green\">(success).</strong>"
      ],
      "text/plain": [
       "<IPython.core.display.HTML object>"
      ]
     },
     "metadata": {},
     "output_type": "display_data"
    },
    {
     "data": {
      "application/vnd.jupyter.widget-view+json": {
       "model_id": "9649449050984f4aa2658740c55bf475",
       "version_major": 2,
       "version_minor": 0
      },
      "text/plain": [
       "VBox(children=(Label(value='83.500 MB of 83.500 MB uploaded (0.000 MB deduped)\\r'), FloatProgress(value=1.0, m…"
      ]
     },
     "metadata": {},
     "output_type": "display_data"
    },
    {
     "data": {
      "text/html": [
       "<style>\n",
       "    table.wandb td:nth-child(1) { padding: 0 10px; text-align: right }\n",
       "    .wandb-row { display: flex; flex-direction: row; flex-wrap: wrap; width: 100% }\n",
       "    .wandb-col { display: flex; flex-direction: column; flex-basis: 100%; flex: 1; padding: 10px; }\n",
       "    </style>\n",
       "<div class=\"wandb-row\"><div class=\"wandb-col\"><h3>Run history:</h3><br/><table class=\"wandb\"><tr><td>alt_bet_1</td><td>▁▆▆▇▆▆▆▆▆▇▆▆▆▇█▆▆▇█▇▆▆█▆▇▅▃▇▇█▆▅▃▆▆▆▃▄▄▇</td></tr><tr><td>alt_bet_2</td><td>▃▅▅▇▃▅▄▆▅▇▃▆▅▅▆▅▇██▆▅▆▆▆▇▃▁▆▆█▅▆▄▅▆▄▃▅▄▅</td></tr><tr><td>bfOnlyBets</td><td>▃█▃▅▅▃▅▄▆▆▅▂▅▄▆▆█▅▅▇▆▆▅▆▆▇▅▂▄▃▆▄▄▄▄▄▁▅▅▇</td></tr><tr><td>bfOnlyProfit</td><td>▃▅▄▇▃▅▃▅▆█▃▆▅▅▅▅▇▇▆▆▆▇▄▆▇▃▁▆▆▇▆▇▅▆▆▄▃▄▄▅</td></tr><tr><td>bf_avail</td><td>▁█▇█▆▇▆▇▇▇▆▆▇▅▆▆▆▆▆▅▅▆▅▆▆▅▅▅▅▅▅▅▅▅▅▄▄▅▅▅</td></tr><tr><td>bfnotavail</td><td>▁▅▇█▆▇▆█▃▅▆▇▅▅▅▅▄▅▇▃▅▅▅▅▄▅▄▅▅▅▂▄▄▂▄▃▅▆▅▄</td></tr><tr><td>bfprofit</td><td>▃▅▅▇▃▅▄▆▅▇▃▆▅▅▆▅▇██▆▅▆▆▆▇▃▁▆▆█▅▆▄▅▆▄▃▅▄▅</td></tr><tr><td>correct_conf</td><td>▁▄▅▅▅▅▅▆▅▆▆▆▆▆▇▆▇▇▇▇▇▇▇▇▇▇█▇▇▇█▇█████▇██</td></tr><tr><td>epoch</td><td>▁▁▁▂▂▂▂▂▂▃▃▃▃▃▃▄▄▄▄▄▅▅▅▅▅▅▆▆▆▆▆▆▇▇▇▇▇███</td></tr><tr><td>incorrect_conf</td><td>▁▄▅▅▅▅▅▆▅▆▆▆▆▆▇▆▇▇▇▇▇▇▇▇▇▇▇▇▇▇█▇█▇█▇████</td></tr><tr><td>loss</td><td>▇██▇▆▆▆▆▅▆▅▅▄▄▅▄▄▅▄▄▄▄▃▄▂▃▃▂▂▃▂▃▂▂▄▂▂▁▂▁</td></tr><tr><td>num_bets_per</td><td>█▅▅▅▄▄▄▄▄▃▄▄▃▃▃▃▃▃▃▂▃▃▃▂▃▂▂▂▂▂▂▂▁▂▂▂▁▂▂▁</td></tr><tr><td>profit</td><td>▂▆▅▇▃▅▄▆▅▇▄▇▅▅▇▅▇▇█▅▆▇▅▆▇▃▁▆▅█▄▅▃▅▅▄▅▅▅▄</td></tr><tr><td>test_accuracy</td><td>▁▇▇█▆▇▆▇▆▇▆▆▆▅▆▆▆▆▆▅▅▆▅▆▅▅▅▅▅▅▄▅▅▅▅▄▄▅▅▅</td></tr><tr><td>test_val</td><td>█▂▁▁▄▂▃▂▃▂▃▂▃▃▄▃▄▃▃▄▄▃▄▄▄▅▅▄▄▄▅▄▄▄▄▅▄▅▅▅</td></tr><tr><td>value_pick_correct</td><td>▁▆▆▆▆▆▇▆▇▆▇▇▇▇▇▆▇▇▇▆▆▇▇▇▇▇▇█▇▇▇▇▇█▇█▇█▇█</td></tr><tr><td>value_pick_roi</td><td>▅▆▆▆▆▄▄▄▅▃▅▄▃▃▅▃▅▃▅▂▃▂▁▃▃▂▂▄▄▃▂▄▃▇▄█▆▆▄▅</td></tr><tr><td>zero_price</td><td>▁▁▁▁▁▁▁▁▁▁▁▁▁▁▁▁▁▁▁▁▁▁▁▁▁▁▁▁▁▁▁▁▁▁▁▁▁▁▁▁</td></tr></table><br/></div><div class=\"wandb-col\"><h3>Run summary:</h3><br/><table class=\"wandb\"><tr><td>alt_bet_1</td><td>90686.31887</td></tr><tr><td>alt_bet_2</td><td>1002.90984</td></tr><tr><td>bfOnlyBets</td><td>6109</td></tr><tr><td>bfOnlyProfit</td><td>272.95797</td></tr><tr><td>bf_avail</td><td>1475</td></tr><tr><td>bfnotavail</td><td>260</td></tr><tr><td>correct_conf</td><td>0.43603</td></tr><tr><td>epoch</td><td>999</td></tr><tr><td>incorrect_conf</td><td>0.39537</td></tr><tr><td>num_bets_per</td><td>3.37648</td></tr><tr><td>profit</td><td>-1032.14</td></tr><tr><td>test_val</td><td>4634</td></tr><tr><td>value_pick_correct</td><td>1769</td></tr><tr><td>value_pick_roi</td><td>-0.27019</td></tr><tr><td>zero_price</td><td>0</td></tr></table><br/></div></div>"
      ],
      "text/plain": [
       "<IPython.core.display.HTML object>"
      ]
     },
     "metadata": {},
     "output_type": "display_data"
    },
    {
     "data": {
      "text/html": [
       "Synced <strong style=\"color:#cdcd00\">different-sweep-20</strong>: <a href=\"https://wandb.ai/nickojelly/grv_priced_sweep_custom_new_box/runs/edbhvcg7\" target=\"_blank\">https://wandb.ai/nickojelly/grv_priced_sweep_custom_new_box/runs/edbhvcg7</a><br/>Synced 5 W&B file(s), 10 media file(s), 10 artifact file(s) and 0 other file(s)"
      ],
      "text/plain": [
       "<IPython.core.display.HTML object>"
      ]
     },
     "metadata": {},
     "output_type": "display_data"
    },
    {
     "data": {
      "text/html": [
       "Find logs at: <code>.\\wandb\\run-20221016_071527-edbhvcg7\\logs</code>"
      ],
      "text/plain": [
       "<IPython.core.display.HTML object>"
      ]
     },
     "metadata": {},
     "output_type": "display_data"
    },
    {
     "name": "stderr",
     "output_type": "stream",
     "text": [
      "\u001b[34m\u001b[1mwandb\u001b[0m: Agent Starting Run: 0mkts5v6 with config:\n",
      "\u001b[34m\u001b[1mwandb\u001b[0m: \tbatch_size: 1000\n",
      "\u001b[34m\u001b[1mwandb\u001b[0m: \tdropout: 0.5\n",
      "\u001b[34m\u001b[1mwandb\u001b[0m: \tepochs: 1000\n",
      "\u001b[34m\u001b[1mwandb\u001b[0m: \tf1_layer_size: 256\n",
      "\u001b[34m\u001b[1mwandb\u001b[0m: \tf2_layer_size: 64\n",
      "\u001b[34m\u001b[1mwandb\u001b[0m: \tl1_beta: 0.8837379289812115\n",
      "\u001b[34m\u001b[1mwandb\u001b[0m: \tlearning_rate: 0.0005067495477326473\n",
      "\u001b[34m\u001b[1mwandb\u001b[0m: \tlen_data: 72546\n",
      "\u001b[34m\u001b[1mwandb\u001b[0m: \tloss: L1\n",
      "\u001b[34m\u001b[1mwandb\u001b[0m: \tnum_layers: 2\n",
      "\u001b[34m\u001b[1mwandb\u001b[0m: \toptimizer: adamW\n",
      "\u001b[34m\u001b[1mwandb\u001b[0m: \tvalidation_split: 0.1\n",
      "Failed to detect the name of this notebook, you can set it manually with the WANDB_NOTEBOOK_NAME environment variable to enable code saving.\n",
      "\u001b[34m\u001b[1mwandb\u001b[0m: \u001b[33mWARNING\u001b[0m Ignored wandb.init() arg project when running a sweep.\n"
     ]
    },
    {
     "data": {
      "text/html": [
       "wandb version 0.13.4 is available!  To upgrade, please run:\n",
       " $ pip install wandb --upgrade"
      ],
      "text/plain": [
       "<IPython.core.display.HTML object>"
      ]
     },
     "metadata": {},
     "output_type": "display_data"
    },
    {
     "data": {
      "text/html": [
       "Tracking run with wandb version 0.12.14"
      ],
      "text/plain": [
       "<IPython.core.display.HTML object>"
      ]
     },
     "metadata": {},
     "output_type": "display_data"
    },
    {
     "data": {
      "text/html": [
       "Run data is saved locally in <code>c:\\Users\\Nick\\Documents\\GitHub\\grvmodel\\Python\\pytorch\\New Model\\wandb\\run-20221016_080439-0mkts5v6</code>"
      ],
      "text/plain": [
       "<IPython.core.display.HTML object>"
      ]
     },
     "metadata": {},
     "output_type": "display_data"
    },
    {
     "data": {
      "text/html": [
       "Syncing run <strong><a href=\"https://wandb.ai/nickojelly/grv_priced_sweep_custom_new_box/runs/0mkts5v6\" target=\"_blank\">decent-sweep-21</a></strong> to <a href=\"https://wandb.ai/nickojelly/grv_priced_sweep_custom_new_box\" target=\"_blank\">Weights & Biases</a> (<a href=\"https://wandb.me/run\" target=\"_blank\">docs</a>)<br/>Sweep page:  <a href=\"https://wandb.ai/nickojelly/grv_priced_sweep_custom_new_box/sweeps/s56m9tsl\" target=\"_blank\">https://wandb.ai/nickojelly/grv_priced_sweep_custom_new_box/sweeps/s56m9tsl</a>"
      ],
      "text/plain": [
       "<IPython.core.display.HTML object>"
      ]
     },
     "metadata": {},
     "output_type": "display_data"
    },
    {
     "name": "stderr",
     "output_type": "stream",
     "text": [
      "  0%|          | 0/1000 [00:00<?, ?it/s]"
     ]
    },
    {
     "name": "stdout",
     "output_type": "stream",
     "text": [
      "{'batch_size': 1000, 'dropout': 0.5, 'epochs': 1000, 'f1_layer_size': 256, 'f2_layer_size': 64, 'l1_beta': 0.8837379289812115, 'learning_rate': 0.0005067495477326473, 'len_data': 72546, 'loss': 'L1', 'num_layers': 2, 'optimizer': 'adamW', 'validation_split': 0.1}\n",
      "1000\n",
      "{'batch_size': 1000, 'dropout': 0.5, 'epochs': 1000, 'f1_layer_size': 256, 'f2_layer_size': 64, 'l1_beta': 0.8837379289812115, 'learning_rate': 0.0005067495477326473, 'len_data': 72546, 'loss': 'L1', 'num_layers': 2, 'optimizer': 'adamW', 'validation_split': 0.1}\n",
      "adamW\n",
      "HERE\n",
      "here\n",
      "Sequential(\n",
      "  (0): Linear(in_features=144, out_features=256, bias=True)\n",
      "  (1): ReLU()\n",
      "  (2): Dropout(p=0.5, inplace=False)\n",
      "  (3): Linear(in_features=256, out_features=64, bias=True)\n",
      "  (4): ReLU()\n",
      "  (5): Dropout(p=0.5, inplace=False)\n",
      "  (6): Linear(in_features=64, out_features=8, bias=True)\n",
      "  (7): Softmax(dim=1)\n",
      ")\n"
     ]
    },
    {
     "name": "stderr",
     "output_type": "stream",
     "text": [
      "  0%|          | 1/1000 [00:17<4:48:28, 17.33s/it]"
     ]
    },
    {
     "name": "stdout",
     "output_type": "stream",
     "text": [
      "created path\n"
     ]
    },
    {
     "name": "stderr",
     "output_type": "stream",
     "text": [
      "100%|██████████| 1000/1000 [49:04<00:00,  2.94s/it] \n"
     ]
    },
    {
     "name": "stdout",
     "output_type": "stream",
     "text": [
      "\n"
     ]
    },
    {
     "data": {
      "text/html": [
       "Waiting for W&B process to finish... <strong style=\"color:green\">(success).</strong>"
      ],
      "text/plain": [
       "<IPython.core.display.HTML object>"
      ]
     },
     "metadata": {},
     "output_type": "display_data"
    },
    {
     "data": {
      "application/vnd.jupyter.widget-view+json": {
       "model_id": "96b9cc966d14475ca615d0224af9dfe6",
       "version_major": 2,
       "version_minor": 0
      },
      "text/plain": [
       "VBox(children=(Label(value='83.663 MB of 83.663 MB uploaded (0.000 MB deduped)\\r'), FloatProgress(value=1.0, m…"
      ]
     },
     "metadata": {},
     "output_type": "display_data"
    },
    {
     "data": {
      "text/html": [
       "<style>\n",
       "    table.wandb td:nth-child(1) { padding: 0 10px; text-align: right }\n",
       "    .wandb-row { display: flex; flex-direction: row; flex-wrap: wrap; width: 100% }\n",
       "    .wandb-col { display: flex; flex-direction: column; flex-basis: 100%; flex: 1; padding: 10px; }\n",
       "    </style>\n",
       "<div class=\"wandb-row\"><div class=\"wandb-col\"><h3>Run history:</h3><br/><table class=\"wandb\"><tr><td>alt_bet_1</td><td>▁▆▇█▇▇▇▆▆▇▆▇▇▆▇██▇▇▆█▅▆▆▆▇▅▇▅▆▇▆▅▇▇▅▆▄▇█</td></tr><tr><td>alt_bet_2</td><td>▁▆▆▇█▇▆▄▆▇▇█▇▆▇▇▇▆▅▅▇▅▆▆▇▇▇▆▆▆▇▆▆▇▇▆▆▄█▇</td></tr><tr><td>bfOnlyBets</td><td>▁█▅▁▅▅▄▃▅▄▅█▇▃▇▄▄▆▃▂▅▃▆▇▆▆▆▄▇▃█▄▅▆▅▇▅▆▃▇</td></tr><tr><td>bfOnlyProfit</td><td>▁▆▆▆█▇▆▅▆▇▆█▇▆▇▇▇▆▆▅▇▅▆▇▇▇▇▆▆▆█▆▆▇▇▆▆▄██</td></tr><tr><td>bf_avail</td><td>▁██▆▇▇▇▇▇▇▆▇▆▇▆▅▇▅▅▆▆▆▅▆▆▆▆▅▆▅▆▆▄▅▆▅▄▅▅▅</td></tr><tr><td>bfnotavail</td><td>▁▇▇█▅▇▆▅▅▅▆▅▅▆▅▆█▄▅▇▆▅▅▃▄▅▃▅▃▅▄▆▄▃▅▄▆▄▃▃</td></tr><tr><td>bfprofit</td><td>▁▆▆▇█▇▆▄▆▇▇█▇▆▇▇▇▆▅▅▇▅▆▆▇▇▇▆▆▆▇▆▆▇▇▆▆▄█▇</td></tr><tr><td>correct_conf</td><td>▁▆▆▆▆▆▆▇▇▇▇▇▇▇▇▇▇▇▇▇▇▇▇▇██▇█▇███████████</td></tr><tr><td>epoch</td><td>▁▁▁▂▂▂▂▂▂▃▃▃▃▃▃▄▄▄▄▄▅▅▅▅▅▅▆▆▆▆▆▆▇▇▇▇▇███</td></tr><tr><td>incorrect_conf</td><td>▁▆▆▆▆▆▆▆▇▇▆▇▇▇▇▇▇▇▇▇▇▇▇▇██▇█▇███████████</td></tr><tr><td>loss</td><td>█▆█▆▆▄▆▅▅▄▆▄▄▃▃▅▃▄▄▃▃▂▂▄▄▃▃▂▃▃▂▂▁▂▂▁▁▂▁▂</td></tr><tr><td>num_bets_per</td><td>█▄▄▄▄▄▃▃▃▂▃▃▃▃▂▃▂▂▂▂▂▂▂▂▁▁▂▁▂▁▁▁▂▁▁▁▁▁▁▁</td></tr><tr><td>profit</td><td>▁▇▇▇██▆▅▆▇██▇▆▇██▇▅▆▇▅▆▆▇▇█▆▇▇██▇█▇▇▆▅█▇</td></tr><tr><td>test_accuracy</td><td>▁██▇▇▇▇▇▇▇▆▇▆▇▆▆▇▅▅▆▆▅▅▅▆▆▅▅▆▅▆▆▄▅▆▅▅▅▄▄</td></tr><tr><td>test_val</td><td>█▁▁▂▁▂▂▂▂▁▃▃▃▂▃▃▂▄▄▃▄▃▄▄▃▃▄▄▄▄▄▃▅▅▃▅▅▄▄▅</td></tr><tr><td>value_pick_correct</td><td>▁▆▆▆▆▇▆▆▇▇▆▇▇▇▆▇▇▇▇▇▇▇▇█▇█▇█▇▇▇▇▇▇█▇▇▇▇█</td></tr><tr><td>value_pick_roi</td><td>▁▄▄▂▃▄▁▄▃▄▂▄▄▄▄▆▃▄▄▅▄▃▄█▆▆▅▇▆▅▅▅▇▅▇▅▅▆▆▇</td></tr><tr><td>zero_price</td><td>▁▁▁▁▁▁▁▁▁▁▁▁▁▁▁▁▁▁▁▁▁▁▁▁▁▁▁▁▁▁▁▁▁▁▁▁▁▁▁▁</td></tr></table><br/></div><div class=\"wandb-col\"><h3>Run summary:</h3><br/><table class=\"wandb\"><tr><td>alt_bet_1</td><td>134220.589</td></tr><tr><td>alt_bet_2</td><td>2548.16285</td></tr><tr><td>bfOnlyBets</td><td>6126</td></tr><tr><td>bfOnlyProfit</td><td>623.20377</td></tr><tr><td>bf_avail</td><td>1472</td></tr><tr><td>bfnotavail</td><td>250</td></tr><tr><td>correct_conf</td><td>0.41499</td></tr><tr><td>epoch</td><td>999</td></tr><tr><td>incorrect_conf</td><td>0.38276</td></tr><tr><td>num_bets_per</td><td>3.2003</td></tr><tr><td>profit</td><td>-838.1</td></tr><tr><td>test_val</td><td>4654</td></tr><tr><td>value_pick_correct</td><td>1836</td></tr><tr><td>value_pick_roi</td><td>-0.22904</td></tr><tr><td>zero_price</td><td>0</td></tr></table><br/></div></div>"
      ],
      "text/plain": [
       "<IPython.core.display.HTML object>"
      ]
     },
     "metadata": {},
     "output_type": "display_data"
    },
    {
     "data": {
      "text/html": [
       "Synced <strong style=\"color:#cdcd00\">decent-sweep-21</strong>: <a href=\"https://wandb.ai/nickojelly/grv_priced_sweep_custom_new_box/runs/0mkts5v6\" target=\"_blank\">https://wandb.ai/nickojelly/grv_priced_sweep_custom_new_box/runs/0mkts5v6</a><br/>Synced 5 W&B file(s), 10 media file(s), 10 artifact file(s) and 0 other file(s)"
      ],
      "text/plain": [
       "<IPython.core.display.HTML object>"
      ]
     },
     "metadata": {},
     "output_type": "display_data"
    },
    {
     "data": {
      "text/html": [
       "Find logs at: <code>.\\wandb\\run-20221016_080439-0mkts5v6\\logs</code>"
      ],
      "text/plain": [
       "<IPython.core.display.HTML object>"
      ]
     },
     "metadata": {},
     "output_type": "display_data"
    },
    {
     "name": "stderr",
     "output_type": "stream",
     "text": [
      "\u001b[34m\u001b[1mwandb\u001b[0m: Agent Starting Run: ttsu68np with config:\n",
      "\u001b[34m\u001b[1mwandb\u001b[0m: \tbatch_size: 1000\n",
      "\u001b[34m\u001b[1mwandb\u001b[0m: \tdropout: 0.3\n",
      "\u001b[34m\u001b[1mwandb\u001b[0m: \tepochs: 1000\n",
      "\u001b[34m\u001b[1mwandb\u001b[0m: \tf1_layer_size: 256\n",
      "\u001b[34m\u001b[1mwandb\u001b[0m: \tf2_layer_size: 64\n",
      "\u001b[34m\u001b[1mwandb\u001b[0m: \tl1_beta: 0.34145190786130153\n",
      "\u001b[34m\u001b[1mwandb\u001b[0m: \tlearning_rate: 0.0002869833106344889\n",
      "\u001b[34m\u001b[1mwandb\u001b[0m: \tlen_data: 72546\n",
      "\u001b[34m\u001b[1mwandb\u001b[0m: \tloss: L1\n",
      "\u001b[34m\u001b[1mwandb\u001b[0m: \tnum_layers: 2\n",
      "\u001b[34m\u001b[1mwandb\u001b[0m: \toptimizer: adamW\n",
      "\u001b[34m\u001b[1mwandb\u001b[0m: \tvalidation_split: 0.1\n",
      "Failed to detect the name of this notebook, you can set it manually with the WANDB_NOTEBOOK_NAME environment variable to enable code saving.\n",
      "\u001b[34m\u001b[1mwandb\u001b[0m: \u001b[33mWARNING\u001b[0m Ignored wandb.init() arg project when running a sweep.\n"
     ]
    },
    {
     "data": {
      "text/html": [
       "wandb version 0.13.4 is available!  To upgrade, please run:\n",
       " $ pip install wandb --upgrade"
      ],
      "text/plain": [
       "<IPython.core.display.HTML object>"
      ]
     },
     "metadata": {},
     "output_type": "display_data"
    },
    {
     "data": {
      "text/html": [
       "Tracking run with wandb version 0.12.14"
      ],
      "text/plain": [
       "<IPython.core.display.HTML object>"
      ]
     },
     "metadata": {},
     "output_type": "display_data"
    },
    {
     "data": {
      "text/html": [
       "Run data is saved locally in <code>c:\\Users\\Nick\\Documents\\GitHub\\grvmodel\\Python\\pytorch\\New Model\\wandb\\run-20221016_085356-ttsu68np</code>"
      ],
      "text/plain": [
       "<IPython.core.display.HTML object>"
      ]
     },
     "metadata": {},
     "output_type": "display_data"
    },
    {
     "data": {
      "text/html": [
       "Syncing run <strong><a href=\"https://wandb.ai/nickojelly/grv_priced_sweep_custom_new_box/runs/ttsu68np\" target=\"_blank\">brisk-sweep-22</a></strong> to <a href=\"https://wandb.ai/nickojelly/grv_priced_sweep_custom_new_box\" target=\"_blank\">Weights & Biases</a> (<a href=\"https://wandb.me/run\" target=\"_blank\">docs</a>)<br/>Sweep page:  <a href=\"https://wandb.ai/nickojelly/grv_priced_sweep_custom_new_box/sweeps/s56m9tsl\" target=\"_blank\">https://wandb.ai/nickojelly/grv_priced_sweep_custom_new_box/sweeps/s56m9tsl</a>"
      ],
      "text/plain": [
       "<IPython.core.display.HTML object>"
      ]
     },
     "metadata": {},
     "output_type": "display_data"
    },
    {
     "name": "stderr",
     "output_type": "stream",
     "text": [
      "  0%|          | 0/1000 [00:00<?, ?it/s]"
     ]
    },
    {
     "name": "stdout",
     "output_type": "stream",
     "text": [
      "{'batch_size': 1000, 'dropout': 0.3, 'epochs': 1000, 'f1_layer_size': 256, 'f2_layer_size': 64, 'l1_beta': 0.34145190786130153, 'learning_rate': 0.0002869833106344889, 'len_data': 72546, 'loss': 'L1', 'num_layers': 2, 'optimizer': 'adamW', 'validation_split': 0.1}\n",
      "1000\n",
      "{'batch_size': 1000, 'dropout': 0.3, 'epochs': 1000, 'f1_layer_size': 256, 'f2_layer_size': 64, 'l1_beta': 0.34145190786130153, 'learning_rate': 0.0002869833106344889, 'len_data': 72546, 'loss': 'L1', 'num_layers': 2, 'optimizer': 'adamW', 'validation_split': 0.1}\n",
      "adamW\n",
      "HERE\n",
      "here\n",
      "Sequential(\n",
      "  (0): Linear(in_features=144, out_features=256, bias=True)\n",
      "  (1): ReLU()\n",
      "  (2): Dropout(p=0.3, inplace=False)\n",
      "  (3): Linear(in_features=256, out_features=64, bias=True)\n",
      "  (4): ReLU()\n",
      "  (5): Dropout(p=0.3, inplace=False)\n",
      "  (6): Linear(in_features=64, out_features=8, bias=True)\n",
      "  (7): Softmax(dim=1)\n",
      ")\n"
     ]
    },
    {
     "name": "stderr",
     "output_type": "stream",
     "text": [
      "  0%|          | 1/1000 [00:17<4:47:08, 17.25s/it]"
     ]
    },
    {
     "name": "stdout",
     "output_type": "stream",
     "text": [
      "created path\n"
     ]
    },
    {
     "name": "stderr",
     "output_type": "stream",
     "text": [
      "100%|██████████| 1000/1000 [49:15<00:00,  2.96s/it] \n"
     ]
    },
    {
     "name": "stdout",
     "output_type": "stream",
     "text": [
      "\n"
     ]
    },
    {
     "data": {
      "text/html": [
       "Waiting for W&B process to finish... <strong style=\"color:green\">(success).</strong>"
      ],
      "text/plain": [
       "<IPython.core.display.HTML object>"
      ]
     },
     "metadata": {},
     "output_type": "display_data"
    },
    {
     "data": {
      "application/vnd.jupyter.widget-view+json": {
       "model_id": "72ce57e677f14420a4efe8a6764378e3",
       "version_major": 2,
       "version_minor": 0
      },
      "text/plain": [
       "VBox(children=(Label(value='83.576 MB of 83.576 MB uploaded (0.000 MB deduped)\\r'), FloatProgress(value=1.0, m…"
      ]
     },
     "metadata": {},
     "output_type": "display_data"
    },
    {
     "data": {
      "text/html": [
       "<style>\n",
       "    table.wandb td:nth-child(1) { padding: 0 10px; text-align: right }\n",
       "    .wandb-row { display: flex; flex-direction: row; flex-wrap: wrap; width: 100% }\n",
       "    .wandb-col { display: flex; flex-direction: column; flex-basis: 100%; flex: 1; padding: 10px; }\n",
       "    </style>\n",
       "<div class=\"wandb-row\"><div class=\"wandb-col\"><h3>Run history:</h3><br/><table class=\"wandb\"><tr><td>alt_bet_1</td><td>▁▃▂▂▃▃▂▅▃▃▃█▆▄▆▄▃█▅▅▅▅▅▄▄▅▆▄▅▄▅▅▄▄▄▄▄▄▃▅</td></tr><tr><td>alt_bet_2</td><td>▃▅▂▂▅▄▃▆▅▃▂█▆▅▆▃▄▅▆▄▅▆▅▃▃▅▄▄▅▂▅▃▄▃▂▂▃▃▁▄</td></tr><tr><td>bfOnlyBets</td><td>▄█▅▅▇▄▅▄▃▃▃▆▅▅▃▄▅▅▇▄▄▇▅▆▅▂▂█▆▆▁▅▃▃▄▆▆▅▂▂</td></tr><tr><td>bfOnlyProfit</td><td>▂▅▁▂▅▄▃▆▅▄▁█▅▄▆▃▄▅▆▃▅▆▅▃▃▅▅▄▄▂▅▄▃▂▂▂▃▃▁▄</td></tr><tr><td>bf_avail</td><td>▁█▆▆█▇▆▇▇▆▄▆▆▆▆▅▅▅▃▅▅▅▃▅▅▃▃▄▄▄▃▄▃▃▃▃▃▃▁▃</td></tr><tr><td>bfnotavail</td><td>▂▆▅▇▅▇▅▇▆▇▆▆▆▇█▆▆▅▃▇█▃▅▄▆▆▆▃▅▃▇▁▆▆▅▃▅▇▃▆</td></tr><tr><td>bfprofit</td><td>▃▅▂▂▅▄▃▆▅▃▂█▆▅▆▃▄▅▆▄▅▆▅▃▃▅▄▄▅▂▅▃▄▃▂▂▃▃▁▄</td></tr><tr><td>correct_conf</td><td>▁▅▅▅▅▆▆▆▆▆▆▆▆▆▆▇▆▇▆▇▇▇▇▇▇▇▇▇▇▇▇█████████</td></tr><tr><td>epoch</td><td>▁▁▁▂▂▂▂▂▂▃▃▃▃▃▃▄▄▄▄▄▅▅▅▅▅▅▆▆▆▆▆▆▇▇▇▇▇███</td></tr><tr><td>incorrect_conf</td><td>▁▅▅▅▅▆▆▆▆▆▆▆▆▆▆▇▆▇▆▇▇▇▇▇█▇▇▇▇▇▇█████████</td></tr><tr><td>loss</td><td>██▆▇▇▇▄▆▆▇▅▄▄▄▆▄▃▅▅▅▄▃▄▄▃▄▁▃▃▁▁▁▄▁▃▂▁▁▃▁</td></tr><tr><td>num_bets_per</td><td>█▄▄▄▄▄▄▄▄▃▃▃▃▃▃▃▃▃▃▂▂▂▂▂▂▂▂▂▂▂▂▂▂▁▁▁▂▁▁▁</td></tr><tr><td>profit</td><td>▅▆▃▄▆▆▄▆▅▄▂█▆▆▆▃▅▅▆▄▅▆▄▂▃▆▄▄▅▂▆▄▃▃▂▁▃▃▁▃</td></tr><tr><td>test_accuracy</td><td>▁█▆▇█▇▆█▇▇▄▇▆▆▆▅▆▅▃▅▅▅▄▅▅▄▃▄▅▄▃▄▃▄▄▃▃▃▁▃</td></tr><tr><td>test_val</td><td>█▁▂▂▁▁▃▁▁▂▄▂▃▃▂▃▃▄▆▄▄▅▆▄▄▅▅▆▅▆▅▅▆▅▅▇▇▆▇▅</td></tr><tr><td>value_pick_correct</td><td>▁▆▅▅▅▅▆▆▇▆▆▆▇▇▇▇▆▆▇▇▇▇█▆▆▇▇▆▇▇█▇▇█▇█▇▇▇▇</td></tr><tr><td>value_pick_roi</td><td>▃█▄▄▄▄▃▄▅▂▄▃▅▅▆▃▃▃▇▅▅▃▇▃▂▄▄▃▁▃▃▁▂▄▁▅▃▂▂▂</td></tr><tr><td>zero_price</td><td>▁▁▁▁▁▁▁▁▁▁▁▁▁▁▁▁▁▁▁▁▁▁▁▁▁▁▁▁▁▁▁▁▁▁▁▁▁▁▁▁</td></tr></table><br/></div><div class=\"wandb-col\"><h3>Run summary:</h3><br/><table class=\"wandb\"><tr><td>alt_bet_1</td><td>153194.25223</td></tr><tr><td>alt_bet_2</td><td>2199.78063</td></tr><tr><td>bfOnlyBets</td><td>6074</td></tr><tr><td>bfOnlyProfit</td><td>468.48413</td></tr><tr><td>bf_avail</td><td>1470</td></tr><tr><td>bfnotavail</td><td>275</td></tr><tr><td>correct_conf</td><td>0.39098</td></tr><tr><td>epoch</td><td>999</td></tr><tr><td>incorrect_conf</td><td>0.36004</td></tr><tr><td>num_bets_per</td><td>3.41798</td></tr><tr><td>profit</td><td>-953.32</td></tr><tr><td>test_val</td><td>4604</td></tr><tr><td>value_pick_correct</td><td>1790</td></tr><tr><td>value_pick_roi</td><td>-0.27119</td></tr><tr><td>zero_price</td><td>0</td></tr></table><br/></div></div>"
      ],
      "text/plain": [
       "<IPython.core.display.HTML object>"
      ]
     },
     "metadata": {},
     "output_type": "display_data"
    },
    {
     "data": {
      "text/html": [
       "Synced <strong style=\"color:#cdcd00\">brisk-sweep-22</strong>: <a href=\"https://wandb.ai/nickojelly/grv_priced_sweep_custom_new_box/runs/ttsu68np\" target=\"_blank\">https://wandb.ai/nickojelly/grv_priced_sweep_custom_new_box/runs/ttsu68np</a><br/>Synced 5 W&B file(s), 10 media file(s), 10 artifact file(s) and 0 other file(s)"
      ],
      "text/plain": [
       "<IPython.core.display.HTML object>"
      ]
     },
     "metadata": {},
     "output_type": "display_data"
    },
    {
     "data": {
      "text/html": [
       "Find logs at: <code>.\\wandb\\run-20221016_085356-ttsu68np\\logs</code>"
      ],
      "text/plain": [
       "<IPython.core.display.HTML object>"
      ]
     },
     "metadata": {},
     "output_type": "display_data"
    },
    {
     "name": "stderr",
     "output_type": "stream",
     "text": [
      "\u001b[34m\u001b[1mwandb\u001b[0m: Agent Starting Run: b3ve8xzn with config:\n",
      "\u001b[34m\u001b[1mwandb\u001b[0m: \tbatch_size: 1000\n",
      "\u001b[34m\u001b[1mwandb\u001b[0m: \tdropout: 0.4\n",
      "\u001b[34m\u001b[1mwandb\u001b[0m: \tepochs: 1000\n",
      "\u001b[34m\u001b[1mwandb\u001b[0m: \tf1_layer_size: 256\n",
      "\u001b[34m\u001b[1mwandb\u001b[0m: \tf2_layer_size: 64\n",
      "\u001b[34m\u001b[1mwandb\u001b[0m: \tl1_beta: 0.8519898454351746\n",
      "\u001b[34m\u001b[1mwandb\u001b[0m: \tlearning_rate: 0.00038079401219962006\n",
      "\u001b[34m\u001b[1mwandb\u001b[0m: \tlen_data: 72546\n",
      "\u001b[34m\u001b[1mwandb\u001b[0m: \tloss: L1\n",
      "\u001b[34m\u001b[1mwandb\u001b[0m: \tnum_layers: 2\n",
      "\u001b[34m\u001b[1mwandb\u001b[0m: \toptimizer: adamW\n",
      "\u001b[34m\u001b[1mwandb\u001b[0m: \tvalidation_split: 0.1\n",
      "Failed to detect the name of this notebook, you can set it manually with the WANDB_NOTEBOOK_NAME environment variable to enable code saving.\n",
      "\u001b[34m\u001b[1mwandb\u001b[0m: \u001b[33mWARNING\u001b[0m Ignored wandb.init() arg project when running a sweep.\n"
     ]
    },
    {
     "data": {
      "text/html": [
       "wandb version 0.13.4 is available!  To upgrade, please run:\n",
       " $ pip install wandb --upgrade"
      ],
      "text/plain": [
       "<IPython.core.display.HTML object>"
      ]
     },
     "metadata": {},
     "output_type": "display_data"
    },
    {
     "data": {
      "text/html": [
       "Tracking run with wandb version 0.12.14"
      ],
      "text/plain": [
       "<IPython.core.display.HTML object>"
      ]
     },
     "metadata": {},
     "output_type": "display_data"
    },
    {
     "data": {
      "text/html": [
       "Run data is saved locally in <code>c:\\Users\\Nick\\Documents\\GitHub\\grvmodel\\Python\\pytorch\\New Model\\wandb\\run-20221016_094328-b3ve8xzn</code>"
      ],
      "text/plain": [
       "<IPython.core.display.HTML object>"
      ]
     },
     "metadata": {},
     "output_type": "display_data"
    },
    {
     "data": {
      "text/html": [
       "Syncing run <strong><a href=\"https://wandb.ai/nickojelly/grv_priced_sweep_custom_new_box/runs/b3ve8xzn\" target=\"_blank\">giddy-sweep-23</a></strong> to <a href=\"https://wandb.ai/nickojelly/grv_priced_sweep_custom_new_box\" target=\"_blank\">Weights & Biases</a> (<a href=\"https://wandb.me/run\" target=\"_blank\">docs</a>)<br/>Sweep page:  <a href=\"https://wandb.ai/nickojelly/grv_priced_sweep_custom_new_box/sweeps/s56m9tsl\" target=\"_blank\">https://wandb.ai/nickojelly/grv_priced_sweep_custom_new_box/sweeps/s56m9tsl</a>"
      ],
      "text/plain": [
       "<IPython.core.display.HTML object>"
      ]
     },
     "metadata": {},
     "output_type": "display_data"
    },
    {
     "name": "stderr",
     "output_type": "stream",
     "text": [
      "  0%|          | 0/1000 [00:00<?, ?it/s]"
     ]
    },
    {
     "name": "stdout",
     "output_type": "stream",
     "text": [
      "{'batch_size': 1000, 'dropout': 0.4, 'epochs': 1000, 'f1_layer_size': 256, 'f2_layer_size': 64, 'l1_beta': 0.8519898454351746, 'learning_rate': 0.00038079401219962006, 'len_data': 72546, 'loss': 'L1', 'num_layers': 2, 'optimizer': 'adamW', 'validation_split': 0.1}\n",
      "1000\n",
      "{'batch_size': 1000, 'dropout': 0.4, 'epochs': 1000, 'f1_layer_size': 256, 'f2_layer_size': 64, 'l1_beta': 0.8519898454351746, 'learning_rate': 0.00038079401219962006, 'len_data': 72546, 'loss': 'L1', 'num_layers': 2, 'optimizer': 'adamW', 'validation_split': 0.1}\n",
      "adamW\n",
      "HERE\n",
      "here\n",
      "Sequential(\n",
      "  (0): Linear(in_features=144, out_features=256, bias=True)\n",
      "  (1): ReLU()\n",
      "  (2): Dropout(p=0.4, inplace=False)\n",
      "  (3): Linear(in_features=256, out_features=64, bias=True)\n",
      "  (4): ReLU()\n",
      "  (5): Dropout(p=0.4, inplace=False)\n",
      "  (6): Linear(in_features=64, out_features=8, bias=True)\n",
      "  (7): Softmax(dim=1)\n",
      ")\n"
     ]
    },
    {
     "name": "stderr",
     "output_type": "stream",
     "text": [
      "  0%|          | 1/1000 [00:18<5:12:51, 18.79s/it]"
     ]
    },
    {
     "name": "stdout",
     "output_type": "stream",
     "text": [
      "created path\n"
     ]
    },
    {
     "name": "stderr",
     "output_type": "stream",
     "text": [
      "100%|██████████| 1000/1000 [49:33<00:00,  2.97s/it] "
     ]
    },
    {
     "name": "stdout",
     "output_type": "stream",
     "text": [
      "\n"
     ]
    },
    {
     "name": "stderr",
     "output_type": "stream",
     "text": [
      "\n"
     ]
    },
    {
     "data": {
      "text/html": [
       "Waiting for W&B process to finish... <strong style=\"color:green\">(success).</strong>"
      ],
      "text/plain": [
       "<IPython.core.display.HTML object>"
      ]
     },
     "metadata": {},
     "output_type": "display_data"
    },
    {
     "data": {
      "application/vnd.jupyter.widget-view+json": {
       "model_id": "4eef7b34a5a5436997e90dec842216e4",
       "version_major": 2,
       "version_minor": 0
      },
      "text/plain": [
       "VBox(children=(Label(value='83.646 MB of 83.646 MB uploaded (0.000 MB deduped)\\r'), FloatProgress(value=1.0, m…"
      ]
     },
     "metadata": {},
     "output_type": "display_data"
    },
    {
     "data": {
      "text/html": [
       "<style>\n",
       "    table.wandb td:nth-child(1) { padding: 0 10px; text-align: right }\n",
       "    .wandb-row { display: flex; flex-direction: row; flex-wrap: wrap; width: 100% }\n",
       "    .wandb-col { display: flex; flex-direction: column; flex-basis: 100%; flex: 1; padding: 10px; }\n",
       "    </style>\n",
       "<div class=\"wandb-row\"><div class=\"wandb-col\"><h3>Run history:</h3><br/><table class=\"wandb\"><tr><td>alt_bet_1</td><td>▁▇▅▆▅▆▅▆▆▅▅▅▅▆▆▆▆▅▅▄▄▄▄▅▄▄▄▄▄▅▄█▃▄▄▇▄▄▆▄</td></tr><tr><td>alt_bet_2</td><td>▁▇▆▇█▇▆▆▇▇▇▇▆▇▆▇▆▆▅▆▅▄▆▆▅▅▆▅▅▇▅█▅▅▆▇▄▆▆▅</td></tr><tr><td>bfOnlyBets</td><td>▁▅▃▅▅▄▄▄▆▄▅▂▄▄▅▅▃▅▅▅▆▃▅▆▅▅▅▇▆▅▄▆▆▅▇▇▅▆█▅</td></tr><tr><td>bfOnlyProfit</td><td>▁▆▆▇▇▇▆▇▇▆▇▇▅▇▆█▆▆▄▅▅▄▆▆▅▅▅▅▅▇▅█▅▅▆▇▄▆▆▄</td></tr><tr><td>bf_avail</td><td>▁▇▇██▇▇▇▇▇▇▇▆▇▆▆▅▆▄▆▆▅▆▅▅▆▅▅▆▆▅▅▅▅▄▅▅▅▅▄</td></tr><tr><td>bfnotavail</td><td>▁▇▇▅▆▆▇▅▄▇▆█▆▇▄▅▅▅▅▅▅▅▅▅▅▅▇▃▄▅▅▄▅▄▄▄▆▄▄▅</td></tr><tr><td>bfprofit</td><td>▁▇▆▇█▇▆▆▇▇▇▇▆▇▆▇▆▆▅▆▅▄▆▆▅▅▆▅▅▇▅█▅▅▆▇▄▆▆▅</td></tr><tr><td>correct_conf</td><td>▁▆▆▆▆▆▆▆▆▇▆▇▇▇▇▇▇▇██▇█▇▇▇█▇▇█▇█▇██▇█████</td></tr><tr><td>epoch</td><td>▁▁▁▂▂▂▂▂▂▃▃▃▃▃▃▄▄▄▄▄▅▅▅▅▅▅▆▆▆▆▆▆▇▇▇▇▇███</td></tr><tr><td>incorrect_conf</td><td>▁▆▆▆▆▆▆▆▆▇▆▇▇▇▇▇▇▇▇█▇▇▇▇▇█▇▇██████▇█████</td></tr><tr><td>loss</td><td>█▇▆▆▇█▅▆▄▆▆▄▅▄▅▄▄▄▄▅▄▅▄▄▃▃▄▅▃▁▅▄▃▃▂▃▃▅▄▁</td></tr><tr><td>num_bets_per</td><td>█▃▄▃▄▃▃▃▃▂▃▂▃▂▂▂▂▂▁▁▂▂▂▂▂▁▂▂▁▂▁▂▁▁▂▁▁▁▁▁</td></tr><tr><td>profit</td><td>▁▇▆▇▇▆▆▆▇▆▇▇▆▇▆█▅▅▅▅▆▄▅▅▅▅▆▅▅▇▅█▅▅▆▆▅▆▆▅</td></tr><tr><td>test_accuracy</td><td>▁▇▇██▇▇▇▇▇▇▇▆▇▆▆▆▆▅▆▆▅▆▅▅▆▅▅▅▆▅▅▅▅▄▅▅▅▅▅</td></tr><tr><td>test_val</td><td>█▂▁▁▁▂▂▂▃▂▃▂▄▂▄▃▄▄▆▃▄▄▃▅▄▃▅▆▅▄▄▅▅▄▆▅▅▅▆▆</td></tr><tr><td>value_pick_correct</td><td>▁▆▆▅▆▆▆▆▇▇▇▇▇▆█▇▇▆▆▇▆▇▆▇▆▇█▇▇▆█▇▆▇█▇▇█▇█</td></tr><tr><td>value_pick_roi</td><td>▂▄▃▃▅▃▂▄▅▄▄▄▃▃▇▄▄▂▃▄▃▄▂▄▂▄▅▄▄▁▆▃▁▃█▅▅▇▆▆</td></tr><tr><td>zero_price</td><td>▁▁▁▁▁▁▁▁▁▁▁▁▁▁▁▁▁▁▁▁▁▁▁▁▁▁▁▁▁▁▁▁▁▁▁▁▁▁▁▁</td></tr></table><br/></div><div class=\"wandb-col\"><h3>Run summary:</h3><br/><table class=\"wandb\"><tr><td>alt_bet_1</td><td>55203.50879</td></tr><tr><td>alt_bet_2</td><td>1018.50802</td></tr><tr><td>bfOnlyBets</td><td>6123</td></tr><tr><td>bfOnlyProfit</td><td>244.4936</td></tr><tr><td>bf_avail</td><td>1493</td></tr><tr><td>bfnotavail</td><td>267</td></tr><tr><td>correct_conf</td><td>0.40404</td></tr><tr><td>epoch</td><td>999</td></tr><tr><td>incorrect_conf</td><td>0.37313</td></tr><tr><td>num_bets_per</td><td>3.23256</td></tr><tr><td>profit</td><td>-926.52</td></tr><tr><td>test_val</td><td>4630</td></tr><tr><td>value_pick_correct</td><td>1834</td></tr><tr><td>value_pick_roi</td><td>-0.24518</td></tr><tr><td>zero_price</td><td>0</td></tr></table><br/></div></div>"
      ],
      "text/plain": [
       "<IPython.core.display.HTML object>"
      ]
     },
     "metadata": {},
     "output_type": "display_data"
    },
    {
     "data": {
      "text/html": [
       "Synced <strong style=\"color:#cdcd00\">giddy-sweep-23</strong>: <a href=\"https://wandb.ai/nickojelly/grv_priced_sweep_custom_new_box/runs/b3ve8xzn\" target=\"_blank\">https://wandb.ai/nickojelly/grv_priced_sweep_custom_new_box/runs/b3ve8xzn</a><br/>Synced 5 W&B file(s), 10 media file(s), 10 artifact file(s) and 0 other file(s)"
      ],
      "text/plain": [
       "<IPython.core.display.HTML object>"
      ]
     },
     "metadata": {},
     "output_type": "display_data"
    },
    {
     "data": {
      "text/html": [
       "Find logs at: <code>.\\wandb\\run-20221016_094328-b3ve8xzn\\logs</code>"
      ],
      "text/plain": [
       "<IPython.core.display.HTML object>"
      ]
     },
     "metadata": {},
     "output_type": "display_data"
    },
    {
     "name": "stderr",
     "output_type": "stream",
     "text": [
      "\u001b[34m\u001b[1mwandb\u001b[0m: Agent Starting Run: ak4n6zi4 with config:\n",
      "\u001b[34m\u001b[1mwandb\u001b[0m: \tbatch_size: 1000\n",
      "\u001b[34m\u001b[1mwandb\u001b[0m: \tdropout: 0.4\n",
      "\u001b[34m\u001b[1mwandb\u001b[0m: \tepochs: 1000\n",
      "\u001b[34m\u001b[1mwandb\u001b[0m: \tf1_layer_size: 256\n",
      "\u001b[34m\u001b[1mwandb\u001b[0m: \tf2_layer_size: 64\n",
      "\u001b[34m\u001b[1mwandb\u001b[0m: \tl1_beta: 0.8585432154970413\n",
      "\u001b[34m\u001b[1mwandb\u001b[0m: \tlearning_rate: 0.000542817906328683\n",
      "\u001b[34m\u001b[1mwandb\u001b[0m: \tlen_data: 72546\n",
      "\u001b[34m\u001b[1mwandb\u001b[0m: \tloss: L1\n",
      "\u001b[34m\u001b[1mwandb\u001b[0m: \tnum_layers: 2\n",
      "\u001b[34m\u001b[1mwandb\u001b[0m: \toptimizer: adamW\n",
      "\u001b[34m\u001b[1mwandb\u001b[0m: \tvalidation_split: 0.1\n",
      "Failed to detect the name of this notebook, you can set it manually with the WANDB_NOTEBOOK_NAME environment variable to enable code saving.\n",
      "\u001b[34m\u001b[1mwandb\u001b[0m: \u001b[33mWARNING\u001b[0m Ignored wandb.init() arg project when running a sweep.\n"
     ]
    },
    {
     "data": {
      "text/html": [
       "wandb version 0.13.4 is available!  To upgrade, please run:\n",
       " $ pip install wandb --upgrade"
      ],
      "text/plain": [
       "<IPython.core.display.HTML object>"
      ]
     },
     "metadata": {},
     "output_type": "display_data"
    },
    {
     "data": {
      "text/html": [
       "Tracking run with wandb version 0.12.14"
      ],
      "text/plain": [
       "<IPython.core.display.HTML object>"
      ]
     },
     "metadata": {},
     "output_type": "display_data"
    },
    {
     "data": {
      "text/html": [
       "Run data is saved locally in <code>c:\\Users\\Nick\\Documents\\GitHub\\grvmodel\\Python\\pytorch\\New Model\\wandb\\run-20221016_103313-ak4n6zi4</code>"
      ],
      "text/plain": [
       "<IPython.core.display.HTML object>"
      ]
     },
     "metadata": {},
     "output_type": "display_data"
    },
    {
     "data": {
      "text/html": [
       "Syncing run <strong><a href=\"https://wandb.ai/nickojelly/grv_priced_sweep_custom_new_box/runs/ak4n6zi4\" target=\"_blank\">crimson-sweep-24</a></strong> to <a href=\"https://wandb.ai/nickojelly/grv_priced_sweep_custom_new_box\" target=\"_blank\">Weights & Biases</a> (<a href=\"https://wandb.me/run\" target=\"_blank\">docs</a>)<br/>Sweep page:  <a href=\"https://wandb.ai/nickojelly/grv_priced_sweep_custom_new_box/sweeps/s56m9tsl\" target=\"_blank\">https://wandb.ai/nickojelly/grv_priced_sweep_custom_new_box/sweeps/s56m9tsl</a>"
      ],
      "text/plain": [
       "<IPython.core.display.HTML object>"
      ]
     },
     "metadata": {},
     "output_type": "display_data"
    },
    {
     "name": "stderr",
     "output_type": "stream",
     "text": [
      "  0%|          | 0/1000 [00:00<?, ?it/s]"
     ]
    },
    {
     "name": "stdout",
     "output_type": "stream",
     "text": [
      "{'batch_size': 1000, 'dropout': 0.4, 'epochs': 1000, 'f1_layer_size': 256, 'f2_layer_size': 64, 'l1_beta': 0.8585432154970413, 'learning_rate': 0.000542817906328683, 'len_data': 72546, 'loss': 'L1', 'num_layers': 2, 'optimizer': 'adamW', 'validation_split': 0.1}\n",
      "1000\n",
      "{'batch_size': 1000, 'dropout': 0.4, 'epochs': 1000, 'f1_layer_size': 256, 'f2_layer_size': 64, 'l1_beta': 0.8585432154970413, 'learning_rate': 0.000542817906328683, 'len_data': 72546, 'loss': 'L1', 'num_layers': 2, 'optimizer': 'adamW', 'validation_split': 0.1}\n",
      "adamW\n",
      "HERE\n",
      "here\n",
      "Sequential(\n",
      "  (0): Linear(in_features=144, out_features=256, bias=True)\n",
      "  (1): ReLU()\n",
      "  (2): Dropout(p=0.4, inplace=False)\n",
      "  (3): Linear(in_features=256, out_features=64, bias=True)\n",
      "  (4): ReLU()\n",
      "  (5): Dropout(p=0.4, inplace=False)\n",
      "  (6): Linear(in_features=64, out_features=8, bias=True)\n",
      "  (7): Softmax(dim=1)\n",
      ")\n"
     ]
    },
    {
     "name": "stderr",
     "output_type": "stream",
     "text": [
      "  0%|          | 1/1000 [00:18<5:00:19, 18.04s/it]"
     ]
    },
    {
     "name": "stdout",
     "output_type": "stream",
     "text": [
      "created path\n"
     ]
    },
    {
     "name": "stderr",
     "output_type": "stream",
     "text": [
      "100%|██████████| 1000/1000 [51:55<00:00,  3.12s/it] \n"
     ]
    },
    {
     "name": "stdout",
     "output_type": "stream",
     "text": [
      "\n"
     ]
    },
    {
     "data": {
      "text/html": [
       "Waiting for W&B process to finish... <strong style=\"color:green\">(success).</strong>"
      ],
      "text/plain": [
       "<IPython.core.display.HTML object>"
      ]
     },
     "metadata": {},
     "output_type": "display_data"
    },
    {
     "data": {
      "application/vnd.jupyter.widget-view+json": {
       "model_id": "18588f62701b490bbd6ae41872c52dd2",
       "version_major": 2,
       "version_minor": 0
      },
      "text/plain": [
       "VBox(children=(Label(value='83.669 MB of 83.669 MB uploaded (0.000 MB deduped)\\r'), FloatProgress(value=1.0, m…"
      ]
     },
     "metadata": {},
     "output_type": "display_data"
    },
    {
     "data": {
      "text/html": [
       "<style>\n",
       "    table.wandb td:nth-child(1) { padding: 0 10px; text-align: right }\n",
       "    .wandb-row { display: flex; flex-direction: row; flex-wrap: wrap; width: 100% }\n",
       "    .wandb-col { display: flex; flex-direction: column; flex-basis: 100%; flex: 1; padding: 10px; }\n",
       "    </style>\n",
       "<div class=\"wandb-row\"><div class=\"wandb-col\"><h3>Run history:</h3><br/><table class=\"wandb\"><tr><td>alt_bet_1</td><td>▃▆██▆▆▅█▇▅▆▅▄▄▆▄▄▅▃▅▄▃▄▅▃▄▄▄▄▃▂▄▂▂▃▃▃▃▅▁</td></tr><tr><td>alt_bet_2</td><td>▄▅▇█▅▇▆▇▆▅▇▄▅▄▆▃▅▅▂▅▅▅▄▅▃▅▄▄▃▄▂▄▂▂▂▄▂▃▅▁</td></tr><tr><td>bfOnlyBets</td><td>▁▄▄▄▄▂▄▅▄▃▅▅▅▅▅▄▄▅▄▇▅▆▅▆▄▆▄▆▅▅▆▅▇▆█▅▅▇█▅</td></tr><tr><td>bfOnlyProfit</td><td>▅▅▇█▅█▇█▆▅█▅▅▅▅▃▅▅▂▅▆▅▄▅▃▅▄▄▄▄▂▄▂▂▃▅▂▃▆▁</td></tr><tr><td>bf_avail</td><td>▁██▇▇▇█▇▇▅▆▆▅▅▅▆▇▄▅▇▅▅▄▄▄▆▅▅▄▄▄▅▃▄▃▃▃▄▃▃</td></tr><tr><td>bfnotavail</td><td>▁███▇█▆▅█▆▅▆▅▅▅▅▆▄▅▅▄▅▅▂▂▃▅▅▄▆▅▇▅▅▁▃▄▃▁▃</td></tr><tr><td>bfprofit</td><td>▄▅▇█▅▇▆▇▆▅▇▄▅▄▆▃▅▅▂▅▅▅▄▅▃▅▄▄▃▄▂▄▂▂▂▄▂▃▅▁</td></tr><tr><td>correct_conf</td><td>▁▅▆▆▆▆▆▆▆▆▆▇▇▇▇▇▇▇▇▇▇▇▇▇▇▇█▇▇███████████</td></tr><tr><td>epoch</td><td>▁▁▁▂▂▂▂▂▂▃▃▃▃▃▃▄▄▄▄▄▅▅▅▅▅▅▆▆▆▆▆▆▇▇▇▇▇███</td></tr><tr><td>incorrect_conf</td><td>▁▅▅▅▆▆▆▆▆▆▆▆▇▆▆▇▇▇▇▇▇▇▇▇▇▇▇▇▇███████████</td></tr><tr><td>loss</td><td>▆▆▆▆██▄▅▆▆▆▅▅▄▄▂▅▅▇▄▄▂▆▅▄▂▃▂▂▂▂▂▄▂▂▃▃▁▂▂</td></tr><tr><td>num_bets_per</td><td>█▄▄▄▄▄▃▃▃▃▃▃▃▃▃▂▂▃▂▂▂▂▂▂▂▂▂▂▂▂▁▁▂▁▂▁▂▁▂▁</td></tr><tr><td>profit</td><td>▄▅▇█▅▇▆▆▆▄▇▄▅▄▆▃▅▅▁▆▆▄▄▅▃▅▄▃▄▃▂▃▁▁▂▅▂▂▅▁</td></tr><tr><td>test_accuracy</td><td>▁██▇▇▇▇▇▇▅▆▆▅▅▅▆▇▄▅▇▅▅▅▄▄▅▅▅▄▄▄▅▄▄▂▃▃▄▃▃</td></tr><tr><td>test_val</td><td>▇▁▁▂▂▁▂▃▃▄▃▄▄▄▅▃▂▅▅▃▄▅▅▆▅▄▄▅▅▅▆▅▇▆█▇▇▇▇▇</td></tr><tr><td>value_pick_correct</td><td>▁▆▅▆▇▇▇▇▇▇▇▇▇▆▇▇█▆▇▇▇▇▇▆▇▆▇▆▇▇▇▇▇▆▇▇▇▇▇▇</td></tr><tr><td>value_pick_roi</td><td>▂▅▁▆▇▅▆▅▄▆█▄▅▄▆▄█▃▆▇█▅▅▃▆▃▄▄▆▃▇▅▆▄▇▃▅▆▇▆</td></tr><tr><td>zero_price</td><td>▁▁▁▁▁▁▁▁▁▁▁▁▁▁▁▁▁▁▁▁▁▁▁▁▁▁▁▁▁▁▁▁▁▁▁▁▁▁▁▁</td></tr></table><br/></div><div class=\"wandb-col\"><h3>Run summary:</h3><br/><table class=\"wandb\"><tr><td>alt_bet_1</td><td>-12652.15499</td></tr><tr><td>alt_bet_2</td><td>-1386.84691</td></tr><tr><td>bfOnlyBets</td><td>6131</td></tr><tr><td>bfOnlyProfit</td><td>-136.94538</td></tr><tr><td>bf_avail</td><td>1448</td></tr><tr><td>bfnotavail</td><td>251</td></tr><tr><td>correct_conf</td><td>0.41806</td></tr><tr><td>epoch</td><td>999</td></tr><tr><td>incorrect_conf</td><td>0.38918</td></tr><tr><td>num_bets_per</td><td>3.12572</td></tr><tr><td>profit</td><td>-1314.74</td></tr><tr><td>test_val</td><td>4683</td></tr><tr><td>value_pick_correct</td><td>1809</td></tr><tr><td>value_pick_roi</td><td>-0.24593</td></tr><tr><td>zero_price</td><td>0</td></tr></table><br/></div></div>"
      ],
      "text/plain": [
       "<IPython.core.display.HTML object>"
      ]
     },
     "metadata": {},
     "output_type": "display_data"
    },
    {
     "data": {
      "text/html": [
       "Synced <strong style=\"color:#cdcd00\">crimson-sweep-24</strong>: <a href=\"https://wandb.ai/nickojelly/grv_priced_sweep_custom_new_box/runs/ak4n6zi4\" target=\"_blank\">https://wandb.ai/nickojelly/grv_priced_sweep_custom_new_box/runs/ak4n6zi4</a><br/>Synced 5 W&B file(s), 10 media file(s), 10 artifact file(s) and 0 other file(s)"
      ],
      "text/plain": [
       "<IPython.core.display.HTML object>"
      ]
     },
     "metadata": {},
     "output_type": "display_data"
    },
    {
     "data": {
      "text/html": [
       "Find logs at: <code>.\\wandb\\run-20221016_103313-ak4n6zi4\\logs</code>"
      ],
      "text/plain": [
       "<IPython.core.display.HTML object>"
      ]
     },
     "metadata": {},
     "output_type": "display_data"
    },
    {
     "name": "stderr",
     "output_type": "stream",
     "text": [
      "\u001b[34m\u001b[1mwandb\u001b[0m: Agent Starting Run: 0v6p6494 with config:\n",
      "\u001b[34m\u001b[1mwandb\u001b[0m: \tbatch_size: 1000\n",
      "\u001b[34m\u001b[1mwandb\u001b[0m: \tdropout: 0.3\n",
      "\u001b[34m\u001b[1mwandb\u001b[0m: \tepochs: 1000\n",
      "\u001b[34m\u001b[1mwandb\u001b[0m: \tf1_layer_size: 256\n",
      "\u001b[34m\u001b[1mwandb\u001b[0m: \tf2_layer_size: 64\n",
      "\u001b[34m\u001b[1mwandb\u001b[0m: \tl1_beta: 0.7655586180577464\n",
      "\u001b[34m\u001b[1mwandb\u001b[0m: \tlearning_rate: 0.00019872852538568096\n",
      "\u001b[34m\u001b[1mwandb\u001b[0m: \tlen_data: 72546\n",
      "\u001b[34m\u001b[1mwandb\u001b[0m: \tloss: L1\n",
      "\u001b[34m\u001b[1mwandb\u001b[0m: \tnum_layers: 2\n",
      "\u001b[34m\u001b[1mwandb\u001b[0m: \toptimizer: adamW\n",
      "\u001b[34m\u001b[1mwandb\u001b[0m: \tvalidation_split: 0.1\n",
      "Failed to detect the name of this notebook, you can set it manually with the WANDB_NOTEBOOK_NAME environment variable to enable code saving.\n",
      "\u001b[34m\u001b[1mwandb\u001b[0m: \u001b[33mWARNING\u001b[0m Ignored wandb.init() arg project when running a sweep.\n"
     ]
    },
    {
     "data": {
      "text/html": [
       "wandb version 0.13.4 is available!  To upgrade, please run:\n",
       " $ pip install wandb --upgrade"
      ],
      "text/plain": [
       "<IPython.core.display.HTML object>"
      ]
     },
     "metadata": {},
     "output_type": "display_data"
    },
    {
     "data": {
      "text/html": [
       "Tracking run with wandb version 0.12.14"
      ],
      "text/plain": [
       "<IPython.core.display.HTML object>"
      ]
     },
     "metadata": {},
     "output_type": "display_data"
    },
    {
     "data": {
      "text/html": [
       "Run data is saved locally in <code>c:\\Users\\Nick\\Documents\\GitHub\\grvmodel\\Python\\pytorch\\New Model\\wandb\\run-20221016_112520-0v6p6494</code>"
      ],
      "text/plain": [
       "<IPython.core.display.HTML object>"
      ]
     },
     "metadata": {},
     "output_type": "display_data"
    },
    {
     "data": {
      "text/html": [
       "Syncing run <strong><a href=\"https://wandb.ai/nickojelly/grv_priced_sweep_custom_new_box/runs/0v6p6494\" target=\"_blank\">eternal-sweep-25</a></strong> to <a href=\"https://wandb.ai/nickojelly/grv_priced_sweep_custom_new_box\" target=\"_blank\">Weights & Biases</a> (<a href=\"https://wandb.me/run\" target=\"_blank\">docs</a>)<br/>Sweep page:  <a href=\"https://wandb.ai/nickojelly/grv_priced_sweep_custom_new_box/sweeps/s56m9tsl\" target=\"_blank\">https://wandb.ai/nickojelly/grv_priced_sweep_custom_new_box/sweeps/s56m9tsl</a>"
      ],
      "text/plain": [
       "<IPython.core.display.HTML object>"
      ]
     },
     "metadata": {},
     "output_type": "display_data"
    },
    {
     "name": "stderr",
     "output_type": "stream",
     "text": [
      "  0%|          | 0/1000 [00:00<?, ?it/s]"
     ]
    },
    {
     "name": "stdout",
     "output_type": "stream",
     "text": [
      "{'batch_size': 1000, 'dropout': 0.3, 'epochs': 1000, 'f1_layer_size': 256, 'f2_layer_size': 64, 'l1_beta': 0.7655586180577464, 'learning_rate': 0.00019872852538568096, 'len_data': 72546, 'loss': 'L1', 'num_layers': 2, 'optimizer': 'adamW', 'validation_split': 0.1}\n",
      "1000\n",
      "{'batch_size': 1000, 'dropout': 0.3, 'epochs': 1000, 'f1_layer_size': 256, 'f2_layer_size': 64, 'l1_beta': 0.7655586180577464, 'learning_rate': 0.00019872852538568096, 'len_data': 72546, 'loss': 'L1', 'num_layers': 2, 'optimizer': 'adamW', 'validation_split': 0.1}\n",
      "adamW\n",
      "HERE\n",
      "here\n",
      "Sequential(\n",
      "  (0): Linear(in_features=144, out_features=256, bias=True)\n",
      "  (1): ReLU()\n",
      "  (2): Dropout(p=0.3, inplace=False)\n",
      "  (3): Linear(in_features=256, out_features=64, bias=True)\n",
      "  (4): ReLU()\n",
      "  (5): Dropout(p=0.3, inplace=False)\n",
      "  (6): Linear(in_features=64, out_features=8, bias=True)\n",
      "  (7): Softmax(dim=1)\n",
      ")\n"
     ]
    },
    {
     "name": "stderr",
     "output_type": "stream",
     "text": [
      "  0%|          | 1/1000 [00:19<5:22:39, 19.38s/it]"
     ]
    },
    {
     "name": "stdout",
     "output_type": "stream",
     "text": [
      "created path\n"
     ]
    },
    {
     "name": "stderr",
     "output_type": "stream",
     "text": [
      "100%|██████████| 1000/1000 [51:27<00:00,  3.09s/it] "
     ]
    },
    {
     "name": "stdout",
     "output_type": "stream",
     "text": [
      "\n"
     ]
    },
    {
     "name": "stderr",
     "output_type": "stream",
     "text": [
      "\n"
     ]
    },
    {
     "data": {
      "text/html": [
       "Waiting for W&B process to finish... <strong style=\"color:green\">(success).</strong>"
      ],
      "text/plain": [
       "<IPython.core.display.HTML object>"
      ]
     },
     "metadata": {},
     "output_type": "display_data"
    },
    {
     "data": {
      "application/vnd.jupyter.widget-view+json": {
       "model_id": "e7ac52ba99af47ecb5c5beebffc4c2f1",
       "version_major": 2,
       "version_minor": 0
      },
      "text/plain": [
       "VBox(children=(Label(value='83.643 MB of 83.643 MB uploaded (0.000 MB deduped)\\r'), FloatProgress(value=1.0, m…"
      ]
     },
     "metadata": {},
     "output_type": "display_data"
    },
    {
     "data": {
      "text/html": [
       "<style>\n",
       "    table.wandb td:nth-child(1) { padding: 0 10px; text-align: right }\n",
       "    .wandb-row { display: flex; flex-direction: row; flex-wrap: wrap; width: 100% }\n",
       "    .wandb-col { display: flex; flex-direction: column; flex-basis: 100%; flex: 1; padding: 10px; }\n",
       "    </style>\n",
       "<div class=\"wandb-row\"><div class=\"wandb-col\"><h3>Run history:</h3><br/><table class=\"wandb\"><tr><td>alt_bet_1</td><td>▃▃▅▄▄▆▄▄▇▆▆▅▄▅▃▄▅█▅▃▅▃▂▄▃▅▃▄▃▄▅▄▄▅▃▂▃▃▂▁</td></tr><tr><td>alt_bet_2</td><td>▄▃▆▁▄▅▅▄▇▆▆▅▅▅█▅▅▇▇▃▆▄▄▆▃▆▄▆▄▄▆▇▇▅▄▂▅▂▄▄</td></tr><tr><td>bfOnlyBets</td><td>▂▃▂▃▄▄▅▂▂▅▃▃▂▄▅▂▆▃▄▄▄▃▁▆▃▇▅▆▄▄▇█▅▄▇▇▆▅▅▇</td></tr><tr><td>bfOnlyProfit</td><td>▁▂▆▁▄▆▆▄▇▅█▆▄▅█▆▄██▄▅▄▅▆▃▅▄▆▃▅▆▆▆▃▂▂▅▁▂▃</td></tr><tr><td>bf_avail</td><td>▁██▆██▇▇▇▆▇▇▇▆▇▆▇▆▇▆▆▆▄▆▅▆▅▆▄▅▆▆▅▃▅▅▅▄▄▅</td></tr><tr><td>bfnotavail</td><td>▃▅█▂▃▃▂▅▅▅▁▂▆▇▇▆▄▅▇▁▆▅▄▅▄▅▃▆█▃▄▇▇▅▅▂▂▂▆▂</td></tr><tr><td>bfprofit</td><td>▄▃▆▁▄▅▅▄▇▆▆▅▅▅█▅▅▇▇▃▆▄▄▆▃▆▄▆▄▄▆▇▇▅▄▂▅▂▄▄</td></tr><tr><td>correct_conf</td><td>▁▆▆▆▆▆▆▆▆▆▇▆▇▇▆▇▇▇▇█▇▇▇▇▇▇█▇▇█▇▇▇███████</td></tr><tr><td>epoch</td><td>▁▁▁▂▂▂▂▂▂▃▃▃▃▃▃▄▄▄▄▄▅▅▅▅▅▅▆▆▆▆▆▆▇▇▇▇▇███</td></tr><tr><td>incorrect_conf</td><td>▁▅▆▆▆▆▆▆▆▆▇▆▇▇▇▇▇▇▇█▇▇▇▇▇▇█▇▇██▇▇███████</td></tr><tr><td>loss</td><td>▇▆▄█▇▅▅▅▄▅▂▆▅▄▆▅▆▃▃▅▂▁▅▂▂▂▃▃▃▁▃▃▁▄▃▁▃▂▂▃</td></tr><tr><td>num_bets_per</td><td>█▄▃▃▃▃▃▃▃▃▃▃▃▂▃▂▂▂▂▁▂▂▂▂▂▂▁▂▂▂▂▂▂▂▂▁▁▁▁▁</td></tr><tr><td>profit</td><td>▄▄▇▁▄▅▅▄▇▆▆▅▅▄█▅▅▆▇▃▆▄▄▆▄▆▄▆▄▄▆▆▆▅▄▂▆▃▅▅</td></tr><tr><td>test_accuracy</td><td>▁▇█▆▇▇▇▆▇▆▆▆▇▆▇▆▆▆▇▅▆▅▄▆▅▆▅▆▅▄▅▆▅▃▅▄▅▃▄▄</td></tr><tr><td>test_val</td><td>█▂▁▃▁▂▂▂▁▄▂▃▂▃▃▃▃▃▃▄▄▄▅▄▄▅▅▄▅▅▅▅▅▇▆▆▅▆▆▆</td></tr><tr><td>value_pick_correct</td><td>▁▆▅▅▆▆▆▆▆▆▅▆▅▅▇▆▆▇▇▇▆▆▇▇▆▇▇▆▇▆▇▇▇█▇▇▆▇▇█</td></tr><tr><td>value_pick_roi</td><td>▂█▅▄▅▆▆▄▄▅▃▅▁▂▄▃▃▄▄▅▄▃▆▃▂▅▁▄▄▃▆▆▅▅▄▄▄█▃▆</td></tr><tr><td>zero_price</td><td>▁▁▁▁▁▁▁▁▁▁▁▁▁▁▁▁▁▁▁▁▁▁▁▁▁▁▁▁▁▁▁▁▁▁▁▁▁▁▁▁</td></tr></table><br/></div><div class=\"wandb-col\"><h3>Run summary:</h3><br/><table class=\"wandb\"><tr><td>alt_bet_1</td><td>73499.60796</td></tr><tr><td>alt_bet_2</td><td>1909.5091</td></tr><tr><td>bfOnlyBets</td><td>6135</td></tr><tr><td>bfOnlyProfit</td><td>389.63782</td></tr><tr><td>bf_avail</td><td>1552</td></tr><tr><td>bfnotavail</td><td>265</td></tr><tr><td>correct_conf</td><td>0.38797</td></tr><tr><td>epoch</td><td>999</td></tr><tr><td>incorrect_conf</td><td>0.3589</td></tr><tr><td>num_bets_per</td><td>3.32616</td></tr><tr><td>profit</td><td>-808.92</td></tr><tr><td>test_val</td><td>4583</td></tr><tr><td>value_pick_correct</td><td>1823</td></tr><tr><td>value_pick_roi</td><td>-0.2536</td></tr><tr><td>zero_price</td><td>0</td></tr></table><br/></div></div>"
      ],
      "text/plain": [
       "<IPython.core.display.HTML object>"
      ]
     },
     "metadata": {},
     "output_type": "display_data"
    },
    {
     "data": {
      "text/html": [
       "Synced <strong style=\"color:#cdcd00\">eternal-sweep-25</strong>: <a href=\"https://wandb.ai/nickojelly/grv_priced_sweep_custom_new_box/runs/0v6p6494\" target=\"_blank\">https://wandb.ai/nickojelly/grv_priced_sweep_custom_new_box/runs/0v6p6494</a><br/>Synced 5 W&B file(s), 10 media file(s), 10 artifact file(s) and 0 other file(s)"
      ],
      "text/plain": [
       "<IPython.core.display.HTML object>"
      ]
     },
     "metadata": {},
     "output_type": "display_data"
    },
    {
     "data": {
      "text/html": [
       "Find logs at: <code>.\\wandb\\run-20221016_112520-0v6p6494\\logs</code>"
      ],
      "text/plain": [
       "<IPython.core.display.HTML object>"
      ]
     },
     "metadata": {},
     "output_type": "display_data"
    },
    {
     "name": "stderr",
     "output_type": "stream",
     "text": [
      "\u001b[34m\u001b[1mwandb\u001b[0m: Sweep Agent: Waiting for job.\n",
      "\u001b[34m\u001b[1mwandb\u001b[0m: Job received.\n",
      "\u001b[34m\u001b[1mwandb\u001b[0m: Agent Starting Run: bii3clap with config:\n",
      "\u001b[34m\u001b[1mwandb\u001b[0m: \tbatch_size: 1000\n",
      "\u001b[34m\u001b[1mwandb\u001b[0m: \tdropout: 0.4\n",
      "\u001b[34m\u001b[1mwandb\u001b[0m: \tepochs: 1000\n",
      "\u001b[34m\u001b[1mwandb\u001b[0m: \tf1_layer_size: 256\n",
      "\u001b[34m\u001b[1mwandb\u001b[0m: \tf2_layer_size: 64\n",
      "\u001b[34m\u001b[1mwandb\u001b[0m: \tl1_beta: 0.2012298543399171\n",
      "\u001b[34m\u001b[1mwandb\u001b[0m: \tlearning_rate: 0.0006675459147935276\n",
      "\u001b[34m\u001b[1mwandb\u001b[0m: \tlen_data: 72546\n",
      "\u001b[34m\u001b[1mwandb\u001b[0m: \tloss: L1\n",
      "\u001b[34m\u001b[1mwandb\u001b[0m: \tnum_layers: 2\n",
      "\u001b[34m\u001b[1mwandb\u001b[0m: \toptimizer: adamW\n",
      "\u001b[34m\u001b[1mwandb\u001b[0m: \tvalidation_split: 0.1\n",
      "Failed to detect the name of this notebook, you can set it manually with the WANDB_NOTEBOOK_NAME environment variable to enable code saving.\n",
      "\u001b[34m\u001b[1mwandb\u001b[0m: \u001b[33mWARNING\u001b[0m Ignored wandb.init() arg project when running a sweep.\n"
     ]
    },
    {
     "data": {
      "text/html": [
       "wandb version 0.13.4 is available!  To upgrade, please run:\n",
       " $ pip install wandb --upgrade"
      ],
      "text/plain": [
       "<IPython.core.display.HTML object>"
      ]
     },
     "metadata": {},
     "output_type": "display_data"
    },
    {
     "data": {
      "text/html": [
       "Tracking run with wandb version 0.12.14"
      ],
      "text/plain": [
       "<IPython.core.display.HTML object>"
      ]
     },
     "metadata": {},
     "output_type": "display_data"
    },
    {
     "data": {
      "text/html": [
       "Run data is saved locally in <code>c:\\Users\\Nick\\Documents\\GitHub\\grvmodel\\Python\\pytorch\\New Model\\wandb\\run-20221016_121717-bii3clap</code>"
      ],
      "text/plain": [
       "<IPython.core.display.HTML object>"
      ]
     },
     "metadata": {},
     "output_type": "display_data"
    },
    {
     "data": {
      "text/html": [
       "Syncing run <strong><a href=\"https://wandb.ai/nickojelly/grv_priced_sweep_custom_new_box/runs/bii3clap\" target=\"_blank\">quiet-sweep-26</a></strong> to <a href=\"https://wandb.ai/nickojelly/grv_priced_sweep_custom_new_box\" target=\"_blank\">Weights & Biases</a> (<a href=\"https://wandb.me/run\" target=\"_blank\">docs</a>)<br/>Sweep page:  <a href=\"https://wandb.ai/nickojelly/grv_priced_sweep_custom_new_box/sweeps/s56m9tsl\" target=\"_blank\">https://wandb.ai/nickojelly/grv_priced_sweep_custom_new_box/sweeps/s56m9tsl</a>"
      ],
      "text/plain": [
       "<IPython.core.display.HTML object>"
      ]
     },
     "metadata": {},
     "output_type": "display_data"
    },
    {
     "name": "stderr",
     "output_type": "stream",
     "text": [
      "  0%|          | 0/1000 [00:00<?, ?it/s]"
     ]
    },
    {
     "name": "stdout",
     "output_type": "stream",
     "text": [
      "{'batch_size': 1000, 'dropout': 0.4, 'epochs': 1000, 'f1_layer_size': 256, 'f2_layer_size': 64, 'l1_beta': 0.2012298543399171, 'learning_rate': 0.0006675459147935276, 'len_data': 72546, 'loss': 'L1', 'num_layers': 2, 'optimizer': 'adamW', 'validation_split': 0.1}\n",
      "1000\n",
      "{'batch_size': 1000, 'dropout': 0.4, 'epochs': 1000, 'f1_layer_size': 256, 'f2_layer_size': 64, 'l1_beta': 0.2012298543399171, 'learning_rate': 0.0006675459147935276, 'len_data': 72546, 'loss': 'L1', 'num_layers': 2, 'optimizer': 'adamW', 'validation_split': 0.1}\n",
      "adamW\n",
      "HERE\n",
      "here\n",
      "Sequential(\n",
      "  (0): Linear(in_features=144, out_features=256, bias=True)\n",
      "  (1): ReLU()\n",
      "  (2): Dropout(p=0.4, inplace=False)\n",
      "  (3): Linear(in_features=256, out_features=64, bias=True)\n",
      "  (4): ReLU()\n",
      "  (5): Dropout(p=0.4, inplace=False)\n",
      "  (6): Linear(in_features=64, out_features=8, bias=True)\n",
      "  (7): Softmax(dim=1)\n",
      ")\n"
     ]
    },
    {
     "name": "stderr",
     "output_type": "stream",
     "text": [
      "  0%|          | 1/1000 [00:18<5:02:50, 18.19s/it]"
     ]
    },
    {
     "name": "stdout",
     "output_type": "stream",
     "text": [
      "created path\n"
     ]
    },
    {
     "name": "stderr",
     "output_type": "stream",
     "text": [
      "100%|██████████| 1000/1000 [52:11<00:00,  3.13s/it] \n"
     ]
    },
    {
     "name": "stdout",
     "output_type": "stream",
     "text": [
      "\n"
     ]
    },
    {
     "data": {
      "text/html": [
       "Waiting for W&B process to finish... <strong style=\"color:green\">(success).</strong>"
      ],
      "text/plain": [
       "<IPython.core.display.HTML object>"
      ]
     },
     "metadata": {},
     "output_type": "display_data"
    },
    {
     "data": {
      "application/vnd.jupyter.widget-view+json": {
       "model_id": "206ce3e0e8f44bf6b52bb5d193b5cca4",
       "version_major": 2,
       "version_minor": 0
      },
      "text/plain": [
       "VBox(children=(Label(value='83.568 MB of 83.568 MB uploaded (0.000 MB deduped)\\r'), FloatProgress(value=1.0, m…"
      ]
     },
     "metadata": {},
     "output_type": "display_data"
    },
    {
     "data": {
      "text/html": [
       "<style>\n",
       "    table.wandb td:nth-child(1) { padding: 0 10px; text-align: right }\n",
       "    .wandb-row { display: flex; flex-direction: row; flex-wrap: wrap; width: 100% }\n",
       "    .wandb-col { display: flex; flex-direction: column; flex-basis: 100%; flex: 1; padding: 10px; }\n",
       "    </style>\n",
       "<div class=\"wandb-row\"><div class=\"wandb-col\"><h3>Run history:</h3><br/><table class=\"wandb\"><tr><td>alt_bet_1</td><td>▁▇▇▇▇██▇▆▆▅▅▆▅▆▆▄▅▄▃▇▆▃▃▆▄▄▄▃▃▄▃▆▄▃▆▅▄▃▆</td></tr><tr><td>alt_bet_2</td><td>▁▇▆▇▅██▆▄▅▄▄▄▅▅█▄▃▄▄▅▅▄▃▅▅▅▅▅▃▄▂▅▅▃▅▄▄▄▆</td></tr><tr><td>bfOnlyBets</td><td>▃▅▅▃▅▅▅█▄▃▄▃▃▁▂▄▂▂▂▂▃▃▂▂▁▂▃▃▃▂▃▂▃▂▃▃▃▃▂▂</td></tr><tr><td>bfOnlyProfit</td><td>▁▇▆▇▆▇█▆▄▆▅▅▆▅▅█▅▃▄▄▅▆▅▄▆▅▅▅▅▄▄▂▅▅▃▅▅▅▄▆</td></tr><tr><td>bf_avail</td><td>▁████▇▇▆▆▆▇▆▆▆▆▆▆▅▅▆▅▅▅▅▅▅▅▅▆▅▄▄▄▅▅▄▄▄▅▄</td></tr><tr><td>bfnotavail</td><td>▁▇▇█▅▇▅▄▆▃▆▅▄▅▄▅▄▆▆▆▆▅▃▃▅▆▆▄▆▅▇▆▄▆▆▆▄▅▇▇</td></tr><tr><td>bfprofit</td><td>▁▇▆▇▅██▆▄▅▄▄▄▅▅█▄▃▄▄▅▅▄▃▅▅▅▅▅▃▄▂▅▅▃▅▄▄▄▆</td></tr><tr><td>correct_conf</td><td>▁▄▅▅▅▅▅▆▆▆▆▆▇▇▇▇▇▇▇▇▇▇▇▇▇▇▇▇█▇▇█████████</td></tr><tr><td>epoch</td><td>▁▁▁▂▂▂▂▂▂▃▃▃▃▃▃▄▄▄▄▄▅▅▅▅▅▅▆▆▆▆▆▆▇▇▇▇▇███</td></tr><tr><td>incorrect_conf</td><td>▁▄▅▅▅▅▅▆▆▆▆▆▇▆▇▇▇▇▇▇▇▇▇▇▇▇▇▇█▇▇█████████</td></tr><tr><td>loss</td><td>█▇▇▆▆▆▆▆▅▅▄▅▄▄▃▄▃▃▄▄▃▃▄▄▃▃▄▃▂▃▂▃▂▃▂▁▂▂▂▂</td></tr><tr><td>num_bets_per</td><td>█▆▅▆▅▅▅▄▄▄▃▄▃▃▃▃▃▃▃▂▂▂▂▂▂▂▂▂▂▂▂▁▂▁▁▂▁▁▁▁</td></tr><tr><td>profit</td><td>▁█▇█▅██▆▅▅▄▄▅▅▅▇▅▄▄▄▅▅▄▃▅▅▅▅▆▄▅▂▆▅▃▅▅▅▅▅</td></tr><tr><td>test_accuracy</td><td>▁███▇▇▇▆▆▆▇▆▆▆▅▆▆▅▅▆▅▅▅▅▅▆▅▅▆▅▅▄▄▅▅▄▄▄▅▅</td></tr><tr><td>test_val</td><td>█▁▁▁▂▂▂▄▃▂▂▃▃▃▃▃▃▃▄▃▄▃▄▃▃▃▄▄▃▄▅▅▅▄▄▅▄▅▄▄</td></tr><tr><td>value_pick_correct</td><td>▁▆▇▆▇▇▇▇▇▆▇▇▇▇▇▇▇▇▇▇▇█▇█▇▇█▇██▇█▇▇▇▇▇▇██</td></tr><tr><td>value_pick_roi</td><td>▇▆█▆▇▆▄▆▄▃▄▄▄▄▆▃▅▂▂▇▂█▄▆▁▂▄▂▄▃▂▄▄▂▂▄▃▂▄▄</td></tr><tr><td>zero_price</td><td>▁▁▁▁▁▁▁▁▁▁▁▁▁▁▁▁▁▁▁▁▁▁▁▁▁▁▁▁▁▁▁▁▁▁▁▁▁▁▁▁</td></tr></table><br/></div><div class=\"wandb-col\"><h3>Run summary:</h3><br/><table class=\"wandb\"><tr><td>alt_bet_1</td><td>63996.74197</td></tr><tr><td>alt_bet_2</td><td>843.65029</td></tr><tr><td>bfOnlyBets</td><td>6075</td></tr><tr><td>bfOnlyProfit</td><td>183.10926</td></tr><tr><td>bf_avail</td><td>1433</td></tr><tr><td>bfnotavail</td><td>273</td></tr><tr><td>correct_conf</td><td>0.46794</td></tr><tr><td>epoch</td><td>999</td></tr><tr><td>incorrect_conf</td><td>0.42618</td></tr><tr><td>num_bets_per</td><td>3.20968</td></tr><tr><td>profit</td><td>-1063.74</td></tr><tr><td>test_val</td><td>4642</td></tr><tr><td>value_pick_correct</td><td>1776</td></tr><tr><td>value_pick_roi</td><td>-0.2768</td></tr><tr><td>zero_price</td><td>0</td></tr></table><br/></div></div>"
      ],
      "text/plain": [
       "<IPython.core.display.HTML object>"
      ]
     },
     "metadata": {},
     "output_type": "display_data"
    },
    {
     "data": {
      "text/html": [
       "Synced <strong style=\"color:#cdcd00\">quiet-sweep-26</strong>: <a href=\"https://wandb.ai/nickojelly/grv_priced_sweep_custom_new_box/runs/bii3clap\" target=\"_blank\">https://wandb.ai/nickojelly/grv_priced_sweep_custom_new_box/runs/bii3clap</a><br/>Synced 5 W&B file(s), 10 media file(s), 10 artifact file(s) and 0 other file(s)"
      ],
      "text/plain": [
       "<IPython.core.display.HTML object>"
      ]
     },
     "metadata": {},
     "output_type": "display_data"
    },
    {
     "data": {
      "text/html": [
       "Find logs at: <code>.\\wandb\\run-20221016_121717-bii3clap\\logs</code>"
      ],
      "text/plain": [
       "<IPython.core.display.HTML object>"
      ]
     },
     "metadata": {},
     "output_type": "display_data"
    },
    {
     "name": "stderr",
     "output_type": "stream",
     "text": [
      "\u001b[34m\u001b[1mwandb\u001b[0m: Agent Starting Run: h3pkfk4g with config:\n",
      "\u001b[34m\u001b[1mwandb\u001b[0m: \tbatch_size: 1000\n",
      "\u001b[34m\u001b[1mwandb\u001b[0m: \tdropout: 0.4\n",
      "\u001b[34m\u001b[1mwandb\u001b[0m: \tepochs: 1000\n",
      "\u001b[34m\u001b[1mwandb\u001b[0m: \tf1_layer_size: 256\n",
      "\u001b[34m\u001b[1mwandb\u001b[0m: \tf2_layer_size: 64\n",
      "\u001b[34m\u001b[1mwandb\u001b[0m: \tl1_beta: 0.6893899601149477\n",
      "\u001b[34m\u001b[1mwandb\u001b[0m: \tlearning_rate: 0.0003649210440847911\n",
      "\u001b[34m\u001b[1mwandb\u001b[0m: \tlen_data: 72546\n",
      "\u001b[34m\u001b[1mwandb\u001b[0m: \tloss: L1\n",
      "\u001b[34m\u001b[1mwandb\u001b[0m: \tnum_layers: 2\n",
      "\u001b[34m\u001b[1mwandb\u001b[0m: \toptimizer: adamW\n",
      "\u001b[34m\u001b[1mwandb\u001b[0m: \tvalidation_split: 0.1\n",
      "Failed to detect the name of this notebook, you can set it manually with the WANDB_NOTEBOOK_NAME environment variable to enable code saving.\n",
      "\u001b[34m\u001b[1mwandb\u001b[0m: \u001b[33mWARNING\u001b[0m Ignored wandb.init() arg project when running a sweep.\n"
     ]
    },
    {
     "data": {
      "text/html": [
       "wandb version 0.13.4 is available!  To upgrade, please run:\n",
       " $ pip install wandb --upgrade"
      ],
      "text/plain": [
       "<IPython.core.display.HTML object>"
      ]
     },
     "metadata": {},
     "output_type": "display_data"
    },
    {
     "data": {
      "text/html": [
       "Tracking run with wandb version 0.12.14"
      ],
      "text/plain": [
       "<IPython.core.display.HTML object>"
      ]
     },
     "metadata": {},
     "output_type": "display_data"
    },
    {
     "data": {
      "text/html": [
       "Run data is saved locally in <code>c:\\Users\\Nick\\Documents\\GitHub\\grvmodel\\Python\\pytorch\\New Model\\wandb\\run-20221016_130946-h3pkfk4g</code>"
      ],
      "text/plain": [
       "<IPython.core.display.HTML object>"
      ]
     },
     "metadata": {},
     "output_type": "display_data"
    },
    {
     "data": {
      "text/html": [
       "Syncing run <strong><a href=\"https://wandb.ai/nickojelly/grv_priced_sweep_custom_new_box/runs/h3pkfk4g\" target=\"_blank\">wild-sweep-27</a></strong> to <a href=\"https://wandb.ai/nickojelly/grv_priced_sweep_custom_new_box\" target=\"_blank\">Weights & Biases</a> (<a href=\"https://wandb.me/run\" target=\"_blank\">docs</a>)<br/>Sweep page:  <a href=\"https://wandb.ai/nickojelly/grv_priced_sweep_custom_new_box/sweeps/s56m9tsl\" target=\"_blank\">https://wandb.ai/nickojelly/grv_priced_sweep_custom_new_box/sweeps/s56m9tsl</a>"
      ],
      "text/plain": [
       "<IPython.core.display.HTML object>"
      ]
     },
     "metadata": {},
     "output_type": "display_data"
    },
    {
     "name": "stderr",
     "output_type": "stream",
     "text": [
      "  0%|          | 0/1000 [00:00<?, ?it/s]"
     ]
    },
    {
     "name": "stdout",
     "output_type": "stream",
     "text": [
      "{'batch_size': 1000, 'dropout': 0.4, 'epochs': 1000, 'f1_layer_size': 256, 'f2_layer_size': 64, 'l1_beta': 0.6893899601149477, 'learning_rate': 0.0003649210440847911, 'len_data': 72546, 'loss': 'L1', 'num_layers': 2, 'optimizer': 'adamW', 'validation_split': 0.1}\n",
      "1000\n",
      "{'batch_size': 1000, 'dropout': 0.4, 'epochs': 1000, 'f1_layer_size': 256, 'f2_layer_size': 64, 'l1_beta': 0.6893899601149477, 'learning_rate': 0.0003649210440847911, 'len_data': 72546, 'loss': 'L1', 'num_layers': 2, 'optimizer': 'adamW', 'validation_split': 0.1}\n",
      "adamW\n",
      "HERE\n",
      "here\n",
      "Sequential(\n",
      "  (0): Linear(in_features=144, out_features=256, bias=True)\n",
      "  (1): ReLU()\n",
      "  (2): Dropout(p=0.4, inplace=False)\n",
      "  (3): Linear(in_features=256, out_features=64, bias=True)\n",
      "  (4): ReLU()\n",
      "  (5): Dropout(p=0.4, inplace=False)\n",
      "  (6): Linear(in_features=64, out_features=8, bias=True)\n",
      "  (7): Softmax(dim=1)\n",
      ")\n"
     ]
    },
    {
     "name": "stderr",
     "output_type": "stream",
     "text": [
      "  0%|          | 1/1000 [00:18<5:02:32, 18.17s/it]"
     ]
    },
    {
     "name": "stdout",
     "output_type": "stream",
     "text": [
      "created path\n"
     ]
    },
    {
     "name": "stderr",
     "output_type": "stream",
     "text": [
      "100%|██████████| 1000/1000 [51:54<00:00,  3.11s/it] \n"
     ]
    },
    {
     "name": "stdout",
     "output_type": "stream",
     "text": [
      "\n"
     ]
    },
    {
     "data": {
      "text/html": [
       "Waiting for W&B process to finish... <strong style=\"color:green\">(success).</strong>"
      ],
      "text/plain": [
       "<IPython.core.display.HTML object>"
      ]
     },
     "metadata": {},
     "output_type": "display_data"
    },
    {
     "data": {
      "application/vnd.jupyter.widget-view+json": {
       "model_id": "9d892073fe70463d87b87bb5544ad535",
       "version_major": 2,
       "version_minor": 0
      },
      "text/plain": [
       "VBox(children=(Label(value='83.659 MB of 83.659 MB uploaded (0.000 MB deduped)\\r'), FloatProgress(value=1.0, m…"
      ]
     },
     "metadata": {},
     "output_type": "display_data"
    },
    {
     "data": {
      "text/html": [
       "<style>\n",
       "    table.wandb td:nth-child(1) { padding: 0 10px; text-align: right }\n",
       "    .wandb-row { display: flex; flex-direction: row; flex-wrap: wrap; width: 100% }\n",
       "    .wandb-col { display: flex; flex-direction: column; flex-basis: 100%; flex: 1; padding: 10px; }\n",
       "    </style>\n",
       "<div class=\"wandb-row\"><div class=\"wandb-col\"><h3>Run history:</h3><br/><table class=\"wandb\"><tr><td>alt_bet_1</td><td>▁▆▆▇▆▇▆▆▇▇█▇▅▆▅▅▅▅▅▆▅▆▅▅▅▄▅▅▅▅▃▆▅▃▅▂▄▄▄▅</td></tr><tr><td>alt_bet_2</td><td>▂▆▆▅▆▇▇▅▆▇█▅▄▆▅▅▄▄▄▆▃▇▃▄▃▅▅▄▃▅▁▅▅▂▅▂▂▄▃▅</td></tr><tr><td>bfOnlyBets</td><td>▁▅▃▂▄▂▃▁▃▂▃▂▅▅▅▂▄▄▂▂▅▅▅▅▄▇▄▄▄▆▅▄▅▄▄▇█▇▆▅</td></tr><tr><td>bfOnlyProfit</td><td>▂▆▅▅▆▇▇▅▇▇█▅▄▆▅▄▄▃▅▇▃▆▄▄▃▄▅▄▂▅▁▅▄▁▅▁▂▄▂▅</td></tr><tr><td>bf_avail</td><td>▁█▇▇█▇█▇▆▆▇▅▅▆▆▅▅▅▆▅▄▆▅▅▄▅▅▅▄▄▄▅▅▃▅▄▄▄▄▄</td></tr><tr><td>bfnotavail</td><td>▁▇██▅▇▆▇▆▇█▅▄▆▄▇▆▆▅▃▄▅▃▄▇▅▅▃▅▅▄▅▆▄▄▂▃▃▄▅</td></tr><tr><td>bfprofit</td><td>▂▆▆▅▆▇▇▅▆▇█▅▄▆▅▅▄▄▄▆▃▇▃▄▃▅▅▄▃▅▁▅▅▂▅▂▂▄▃▅</td></tr><tr><td>correct_conf</td><td>▁▆▆▆▆▆▆▆▆▆▆▇▇▇▇▇▇▇▇▇█▇▇▇▇▇▇▇█▇████▇█████</td></tr><tr><td>epoch</td><td>▁▁▁▂▂▂▂▂▂▃▃▃▃▃▃▄▄▄▄▄▅▅▅▅▅▅▆▆▆▆▆▆▇▇▇▇▇███</td></tr><tr><td>incorrect_conf</td><td>▁▆▅▆▆▆▆▆▆▆▆▇▇▆▇▇▇▇▇▇▇▇▇▇▇▇▇▇█▇██▇█▇█████</td></tr><tr><td>loss</td><td>▇▇█▇▅▇▆▆▇▅▄▆▄▅█▄▃▄▄▃▅▄▄▂▃▄▃▅▃▂▃▃▃▃▃▃▂▁▂▂</td></tr><tr><td>num_bets_per</td><td>█▄▄▃▃▃▃▃▃▃▃▂▃▃▂▃▂▂▂▂▁▂▂▂▂▂▂▂▁▂▁▁▂▁▂▂▁▂▁▁</td></tr><tr><td>profit</td><td>▂▆▆▅▆▇▇▆▆██▅▄▆▄▅▅▅▄▇▂█▄▅▄▆▆▄▃▆▁▆▅▂▆▃▃▄▄▆</td></tr><tr><td>test_accuracy</td><td>▁█▇▇█▇█▇▆▆▇▅▅▆▆▅▆▅▆▅▄▆▅▅▅▅▅▅▄▅▄▅▅▄▅▃▄▄▄▅</td></tr><tr><td>test_val</td><td>█▁▂▂▁▁▁▂▃▃▁▄▄▄▃▄▄▄▃▄▆▄▅▅▅▅▅▅▆▆▆▄▅▆▅▇▇▆▆▅</td></tr><tr><td>value_pick_correct</td><td>▁▆▆▆▆▇▆▆▆▆▆▆▆▇▆▆▆▆▆▇▆▆▇▇▇▇█▇█▇▆▇▇██▇▆█▇█</td></tr><tr><td>value_pick_roi</td><td>▁▄▃▃▄▅▃▃▅▃▂▃▄▄▂▄▄▄▄▅▁▄▆▄▆▇▅▆▅▅▁▄▅██▇▅▇▇█</td></tr><tr><td>zero_price</td><td>▁▁▁▁▁▁▁▁▁▁▁▁▁▁▁▁▁▁▁▁▁▁▁▁▁▁▁▁▁▁▁▁▁▁▁▁▁▁▁▁</td></tr></table><br/></div><div class=\"wandb-col\"><h3>Run summary:</h3><br/><table class=\"wandb\"><tr><td>alt_bet_1</td><td>75847.36115</td></tr><tr><td>alt_bet_2</td><td>1759.54218</td></tr><tr><td>bfOnlyBets</td><td>6123</td></tr><tr><td>bfOnlyProfit</td><td>369.35964</td></tr><tr><td>bf_avail</td><td>1501</td></tr><tr><td>bfnotavail</td><td>265</td></tr><tr><td>correct_conf</td><td>0.40848</td></tr><tr><td>epoch</td><td>999</td></tr><tr><td>incorrect_conf</td><td>0.38387</td></tr><tr><td>num_bets_per</td><td>3.17521</td></tr><tr><td>profit</td><td>-843.1</td></tr><tr><td>test_val</td><td>4622</td></tr><tr><td>value_pick_correct</td><td>1845</td></tr><tr><td>value_pick_roi</td><td>-0.2341</td></tr><tr><td>zero_price</td><td>0</td></tr></table><br/></div></div>"
      ],
      "text/plain": [
       "<IPython.core.display.HTML object>"
      ]
     },
     "metadata": {},
     "output_type": "display_data"
    },
    {
     "data": {
      "text/html": [
       "Synced <strong style=\"color:#cdcd00\">wild-sweep-27</strong>: <a href=\"https://wandb.ai/nickojelly/grv_priced_sweep_custom_new_box/runs/h3pkfk4g\" target=\"_blank\">https://wandb.ai/nickojelly/grv_priced_sweep_custom_new_box/runs/h3pkfk4g</a><br/>Synced 5 W&B file(s), 10 media file(s), 10 artifact file(s) and 0 other file(s)"
      ],
      "text/plain": [
       "<IPython.core.display.HTML object>"
      ]
     },
     "metadata": {},
     "output_type": "display_data"
    },
    {
     "data": {
      "text/html": [
       "Find logs at: <code>.\\wandb\\run-20221016_130946-h3pkfk4g\\logs</code>"
      ],
      "text/plain": [
       "<IPython.core.display.HTML object>"
      ]
     },
     "metadata": {},
     "output_type": "display_data"
    },
    {
     "name": "stderr",
     "output_type": "stream",
     "text": [
      "\u001b[34m\u001b[1mwandb\u001b[0m: Agent Starting Run: jg9yygkq with config:\n",
      "\u001b[34m\u001b[1mwandb\u001b[0m: \tbatch_size: 1000\n",
      "\u001b[34m\u001b[1mwandb\u001b[0m: \tdropout: 0.5\n",
      "\u001b[34m\u001b[1mwandb\u001b[0m: \tepochs: 1000\n",
      "\u001b[34m\u001b[1mwandb\u001b[0m: \tf1_layer_size: 256\n",
      "\u001b[34m\u001b[1mwandb\u001b[0m: \tf2_layer_size: 64\n",
      "\u001b[34m\u001b[1mwandb\u001b[0m: \tl1_beta: 0.3731779494922999\n",
      "\u001b[34m\u001b[1mwandb\u001b[0m: \tlearning_rate: 0.0005185682712017183\n",
      "\u001b[34m\u001b[1mwandb\u001b[0m: \tlen_data: 72546\n",
      "\u001b[34m\u001b[1mwandb\u001b[0m: \tloss: L1\n",
      "\u001b[34m\u001b[1mwandb\u001b[0m: \tnum_layers: 2\n",
      "\u001b[34m\u001b[1mwandb\u001b[0m: \toptimizer: adamW\n",
      "\u001b[34m\u001b[1mwandb\u001b[0m: \tvalidation_split: 0.1\n",
      "Failed to detect the name of this notebook, you can set it manually with the WANDB_NOTEBOOK_NAME environment variable to enable code saving.\n",
      "\u001b[34m\u001b[1mwandb\u001b[0m: \u001b[33mWARNING\u001b[0m Ignored wandb.init() arg project when running a sweep.\n"
     ]
    },
    {
     "data": {
      "text/html": [
       "wandb version 0.13.4 is available!  To upgrade, please run:\n",
       " $ pip install wandb --upgrade"
      ],
      "text/plain": [
       "<IPython.core.display.HTML object>"
      ]
     },
     "metadata": {},
     "output_type": "display_data"
    },
    {
     "data": {
      "text/html": [
       "Tracking run with wandb version 0.12.14"
      ],
      "text/plain": [
       "<IPython.core.display.HTML object>"
      ]
     },
     "metadata": {},
     "output_type": "display_data"
    },
    {
     "data": {
      "text/html": [
       "Run data is saved locally in <code>c:\\Users\\Nick\\Documents\\GitHub\\grvmodel\\Python\\pytorch\\New Model\\wandb\\run-20221016_140151-jg9yygkq</code>"
      ],
      "text/plain": [
       "<IPython.core.display.HTML object>"
      ]
     },
     "metadata": {},
     "output_type": "display_data"
    },
    {
     "data": {
      "text/html": [
       "Syncing run <strong><a href=\"https://wandb.ai/nickojelly/grv_priced_sweep_custom_new_box/runs/jg9yygkq\" target=\"_blank\">valiant-sweep-28</a></strong> to <a href=\"https://wandb.ai/nickojelly/grv_priced_sweep_custom_new_box\" target=\"_blank\">Weights & Biases</a> (<a href=\"https://wandb.me/run\" target=\"_blank\">docs</a>)<br/>Sweep page:  <a href=\"https://wandb.ai/nickojelly/grv_priced_sweep_custom_new_box/sweeps/s56m9tsl\" target=\"_blank\">https://wandb.ai/nickojelly/grv_priced_sweep_custom_new_box/sweeps/s56m9tsl</a>"
      ],
      "text/plain": [
       "<IPython.core.display.HTML object>"
      ]
     },
     "metadata": {},
     "output_type": "display_data"
    },
    {
     "name": "stderr",
     "output_type": "stream",
     "text": [
      "  0%|          | 0/1000 [00:00<?, ?it/s]"
     ]
    },
    {
     "name": "stdout",
     "output_type": "stream",
     "text": [
      "{'batch_size': 1000, 'dropout': 0.5, 'epochs': 1000, 'f1_layer_size': 256, 'f2_layer_size': 64, 'l1_beta': 0.3731779494922999, 'learning_rate': 0.0005185682712017183, 'len_data': 72546, 'loss': 'L1', 'num_layers': 2, 'optimizer': 'adamW', 'validation_split': 0.1}\n",
      "1000\n",
      "{'batch_size': 1000, 'dropout': 0.5, 'epochs': 1000, 'f1_layer_size': 256, 'f2_layer_size': 64, 'l1_beta': 0.3731779494922999, 'learning_rate': 0.0005185682712017183, 'len_data': 72546, 'loss': 'L1', 'num_layers': 2, 'optimizer': 'adamW', 'validation_split': 0.1}\n",
      "adamW\n",
      "HERE\n",
      "here\n",
      "Sequential(\n",
      "  (0): Linear(in_features=144, out_features=256, bias=True)\n",
      "  (1): ReLU()\n",
      "  (2): Dropout(p=0.5, inplace=False)\n",
      "  (3): Linear(in_features=256, out_features=64, bias=True)\n",
      "  (4): ReLU()\n",
      "  (5): Dropout(p=0.5, inplace=False)\n",
      "  (6): Linear(in_features=64, out_features=8, bias=True)\n",
      "  (7): Softmax(dim=1)\n",
      ")\n"
     ]
    },
    {
     "name": "stderr",
     "output_type": "stream",
     "text": [
      "  0%|          | 1/1000 [00:18<5:03:11, 18.21s/it]"
     ]
    },
    {
     "name": "stdout",
     "output_type": "stream",
     "text": [
      "created path\n"
     ]
    },
    {
     "name": "stderr",
     "output_type": "stream",
     "text": [
      "100%|██████████| 1000/1000 [51:52<00:00,  3.11s/it] \n"
     ]
    },
    {
     "name": "stdout",
     "output_type": "stream",
     "text": [
      "\n"
     ]
    },
    {
     "data": {
      "text/html": [
       "Waiting for W&B process to finish... <strong style=\"color:green\">(success).</strong>"
      ],
      "text/plain": [
       "<IPython.core.display.HTML object>"
      ]
     },
     "metadata": {},
     "output_type": "display_data"
    },
    {
     "data": {
      "application/vnd.jupyter.widget-view+json": {
       "model_id": "4ddacdc5a64049ad9da296db77097808",
       "version_major": 2,
       "version_minor": 0
      },
      "text/plain": [
       "VBox(children=(Label(value='83.610 MB of 83.610 MB uploaded (0.000 MB deduped)\\r'), FloatProgress(value=1.0, m…"
      ]
     },
     "metadata": {},
     "output_type": "display_data"
    },
    {
     "data": {
      "text/html": [
       "<style>\n",
       "    table.wandb td:nth-child(1) { padding: 0 10px; text-align: right }\n",
       "    .wandb-row { display: flex; flex-direction: row; flex-wrap: wrap; width: 100% }\n",
       "    .wandb-col { display: flex; flex-direction: column; flex-basis: 100%; flex: 1; padding: 10px; }\n",
       "    </style>\n",
       "<div class=\"wandb-row\"><div class=\"wandb-col\"><h3>Run history:</h3><br/><table class=\"wandb\"><tr><td>alt_bet_1</td><td>▁▅▅▅▇▆▇▇▇▅▇█▅▆▃▄▅▄▃▄▄▅▄▄▅▄▄▄▃▄▄▃▅▄█▅▅▆▅▄</td></tr><tr><td>alt_bet_2</td><td>▂▇▅▇▇▇██▆▄▅▇▄▃▂▃▄▄▂▂▂▆▆▄▃▂▃▄▃▂▃▂▄▃▆▃▅▅▄▁</td></tr><tr><td>bfOnlyBets</td><td>▃▄▂▅▅▃▂▂▄▄▆▅▇▇▇▆▆▆▆▆▁█▅▄▄▅▄▆▆▂▃▃▄▄▅▄▅▁▄▂</td></tr><tr><td>bfOnlyProfit</td><td>▁▇▅▇▇▇█▇▆▅▅█▅▄▃▄▅▅▃▃▃▇▇▅▄▃▄▅▄▃▄▄▅▄▇▅▆▆▅▃</td></tr><tr><td>bf_avail</td><td>▁████▇▇▇▆▇▅▆▆▅▆▆▆▆▆▆▅▆▆▅▆▅▆▅▅▅▅▆▅▅▅▅▅▅▅▄</td></tr><tr><td>bfnotavail</td><td>▂▆█▅▆▄▇▆▆▅▅▄▃▃▃▄▄▃▃▄▅▂▄▂▃▃▃▂▃▄▄▃▃▂▁▂▂▃▃▁</td></tr><tr><td>bfprofit</td><td>▂▇▅▇▇▇██▆▄▅▇▄▃▂▃▄▄▂▂▂▆▆▄▃▂▃▄▃▂▃▂▄▃▆▃▅▅▄▁</td></tr><tr><td>correct_conf</td><td>▁▅▅▅▅▆▆▆▆▇▆▆▆▇▇▇▇▇▇▇▇▇▇▇▇▇▇▇▇███████████</td></tr><tr><td>epoch</td><td>▁▁▁▂▂▂▂▂▂▃▃▃▃▃▃▄▄▄▄▄▅▅▅▅▅▅▆▆▆▆▆▆▇▇▇▇▇███</td></tr><tr><td>incorrect_conf</td><td>▁▅▅▅▅▆▆▆▆▇▆▆▆▇▇▇▇▇▇▇▇▇▇▇▇▇▇▇▇███████████</td></tr><tr><td>loss</td><td>▇█▇▇█▇▅▆▆▅▆▆▅▄▃▄▅▅▅▄▄▄▄▃▄▃▃▃▂▃▂▃▂▅▃▃▂▂▁▂</td></tr><tr><td>num_bets_per</td><td>█▅▅▅▅▄▄▄▄▃▄▃▃▃▃▃▃▃▂▃▂▃▃▂▂▂▂▂▂▁▂▁▁▁▂▂▂▁▁▁</td></tr><tr><td>profit</td><td>▁█▆█▇▆██▅▄▅▇▅▃▂▃▄▅▃▂▂▇▇▅▃▂▂▅▄▁▃▃▃▃▅▃▅▅▄▁</td></tr><tr><td>test_accuracy</td><td>▁██▇▇▇▇▆▆▇▅▆▆▅▅▅▆▆▆▅▅▅▆▅▅▅▅▄▅▄▅▅▅▄▅▄▄▄▅▄</td></tr><tr><td>test_val</td><td>█▁▁▂▂▂▂▃▃▃▄▃▄▅▄▄▄▄▄▄▄▅▃▄▃▅▄▅▅▄▄▃▄▄▄▄▅▄▄▅</td></tr><tr><td>value_pick_correct</td><td>▁▅▆▇▆▆▆▆▆▇▆▆▆▆▆▆▆▆▆▆▆▇▆▇▆▇▇▇▇▇█▇▇▇▇▇▇▇▇█</td></tr><tr><td>value_pick_roi</td><td>▅▅▅█▆▄▂▄▃▂▃▂▃▅▃▃▃▁▁▁▂▅▃▃▁▃▄▄▃▄▇▃▆▃▆▅▄▅▇█</td></tr><tr><td>zero_price</td><td>▁▁▁▁▁▁▁▁▁▁▁▁▁▁▁▁▁▁▁▁▁▁▁▁▁▁▁▁▁▁▁▁▁▁▁▁▁▁▁▁</td></tr></table><br/></div><div class=\"wandb-col\"><h3>Run summary:</h3><br/><table class=\"wandb\"><tr><td>alt_bet_1</td><td>53911.93024</td></tr><tr><td>alt_bet_2</td><td>-1064.5576</td></tr><tr><td>bfOnlyBets</td><td>6089</td></tr><tr><td>bfOnlyProfit</td><td>32.12048</td></tr><tr><td>bf_avail</td><td>1434</td></tr><tr><td>bfnotavail</td><td>230</td></tr><tr><td>correct_conf</td><td>0.42244</td></tr><tr><td>epoch</td><td>999</td></tr><tr><td>incorrect_conf</td><td>0.39009</td></tr><tr><td>num_bets_per</td><td>3.27392</td></tr><tr><td>profit</td><td>-1362.02</td></tr><tr><td>test_val</td><td>4655</td></tr><tr><td>value_pick_correct</td><td>1816</td></tr><tr><td>value_pick_roi</td><td>-0.2496</td></tr><tr><td>zero_price</td><td>0</td></tr></table><br/></div></div>"
      ],
      "text/plain": [
       "<IPython.core.display.HTML object>"
      ]
     },
     "metadata": {},
     "output_type": "display_data"
    },
    {
     "data": {
      "text/html": [
       "Synced <strong style=\"color:#cdcd00\">valiant-sweep-28</strong>: <a href=\"https://wandb.ai/nickojelly/grv_priced_sweep_custom_new_box/runs/jg9yygkq\" target=\"_blank\">https://wandb.ai/nickojelly/grv_priced_sweep_custom_new_box/runs/jg9yygkq</a><br/>Synced 5 W&B file(s), 10 media file(s), 10 artifact file(s) and 0 other file(s)"
      ],
      "text/plain": [
       "<IPython.core.display.HTML object>"
      ]
     },
     "metadata": {},
     "output_type": "display_data"
    },
    {
     "data": {
      "text/html": [
       "Find logs at: <code>.\\wandb\\run-20221016_140151-jg9yygkq\\logs</code>"
      ],
      "text/plain": [
       "<IPython.core.display.HTML object>"
      ]
     },
     "metadata": {},
     "output_type": "display_data"
    },
    {
     "name": "stderr",
     "output_type": "stream",
     "text": [
      "\u001b[34m\u001b[1mwandb\u001b[0m: Agent Starting Run: szg0mjrt with config:\n",
      "\u001b[34m\u001b[1mwandb\u001b[0m: \tbatch_size: 1000\n",
      "\u001b[34m\u001b[1mwandb\u001b[0m: \tdropout: 0.4\n",
      "\u001b[34m\u001b[1mwandb\u001b[0m: \tepochs: 1000\n",
      "\u001b[34m\u001b[1mwandb\u001b[0m: \tf1_layer_size: 256\n",
      "\u001b[34m\u001b[1mwandb\u001b[0m: \tf2_layer_size: 64\n",
      "\u001b[34m\u001b[1mwandb\u001b[0m: \tl1_beta: 0.4189120266032237\n",
      "\u001b[34m\u001b[1mwandb\u001b[0m: \tlearning_rate: 0.0003807870159271336\n",
      "\u001b[34m\u001b[1mwandb\u001b[0m: \tlen_data: 72546\n",
      "\u001b[34m\u001b[1mwandb\u001b[0m: \tloss: L1\n",
      "\u001b[34m\u001b[1mwandb\u001b[0m: \tnum_layers: 2\n",
      "\u001b[34m\u001b[1mwandb\u001b[0m: \toptimizer: adamW\n",
      "\u001b[34m\u001b[1mwandb\u001b[0m: \tvalidation_split: 0.1\n",
      "Failed to detect the name of this notebook, you can set it manually with the WANDB_NOTEBOOK_NAME environment variable to enable code saving.\n",
      "\u001b[34m\u001b[1mwandb\u001b[0m: \u001b[33mWARNING\u001b[0m Ignored wandb.init() arg project when running a sweep.\n"
     ]
    },
    {
     "data": {
      "text/html": [
       "wandb version 0.13.4 is available!  To upgrade, please run:\n",
       " $ pip install wandb --upgrade"
      ],
      "text/plain": [
       "<IPython.core.display.HTML object>"
      ]
     },
     "metadata": {},
     "output_type": "display_data"
    },
    {
     "data": {
      "text/html": [
       "Tracking run with wandb version 0.12.14"
      ],
      "text/plain": [
       "<IPython.core.display.HTML object>"
      ]
     },
     "metadata": {},
     "output_type": "display_data"
    },
    {
     "data": {
      "text/html": [
       "Run data is saved locally in <code>c:\\Users\\Nick\\Documents\\GitHub\\grvmodel\\Python\\pytorch\\New Model\\wandb\\run-20221016_145352-szg0mjrt</code>"
      ],
      "text/plain": [
       "<IPython.core.display.HTML object>"
      ]
     },
     "metadata": {},
     "output_type": "display_data"
    },
    {
     "data": {
      "text/html": [
       "Syncing run <strong><a href=\"https://wandb.ai/nickojelly/grv_priced_sweep_custom_new_box/runs/szg0mjrt\" target=\"_blank\">denim-sweep-29</a></strong> to <a href=\"https://wandb.ai/nickojelly/grv_priced_sweep_custom_new_box\" target=\"_blank\">Weights & Biases</a> (<a href=\"https://wandb.me/run\" target=\"_blank\">docs</a>)<br/>Sweep page:  <a href=\"https://wandb.ai/nickojelly/grv_priced_sweep_custom_new_box/sweeps/s56m9tsl\" target=\"_blank\">https://wandb.ai/nickojelly/grv_priced_sweep_custom_new_box/sweeps/s56m9tsl</a>"
      ],
      "text/plain": [
       "<IPython.core.display.HTML object>"
      ]
     },
     "metadata": {},
     "output_type": "display_data"
    },
    {
     "name": "stderr",
     "output_type": "stream",
     "text": [
      "  0%|          | 0/1000 [00:00<?, ?it/s]"
     ]
    },
    {
     "name": "stdout",
     "output_type": "stream",
     "text": [
      "{'batch_size': 1000, 'dropout': 0.4, 'epochs': 1000, 'f1_layer_size': 256, 'f2_layer_size': 64, 'l1_beta': 0.4189120266032237, 'learning_rate': 0.0003807870159271336, 'len_data': 72546, 'loss': 'L1', 'num_layers': 2, 'optimizer': 'adamW', 'validation_split': 0.1}\n",
      "1000\n",
      "{'batch_size': 1000, 'dropout': 0.4, 'epochs': 1000, 'f1_layer_size': 256, 'f2_layer_size': 64, 'l1_beta': 0.4189120266032237, 'learning_rate': 0.0003807870159271336, 'len_data': 72546, 'loss': 'L1', 'num_layers': 2, 'optimizer': 'adamW', 'validation_split': 0.1}\n",
      "adamW\n",
      "HERE\n",
      "here\n",
      "Sequential(\n",
      "  (0): Linear(in_features=144, out_features=256, bias=True)\n",
      "  (1): ReLU()\n",
      "  (2): Dropout(p=0.4, inplace=False)\n",
      "  (3): Linear(in_features=256, out_features=64, bias=True)\n",
      "  (4): ReLU()\n",
      "  (5): Dropout(p=0.4, inplace=False)\n",
      "  (6): Linear(in_features=64, out_features=8, bias=True)\n",
      "  (7): Softmax(dim=1)\n",
      ")\n"
     ]
    },
    {
     "name": "stderr",
     "output_type": "stream",
     "text": [
      "  0%|          | 1/1000 [00:18<5:02:16, 18.16s/it]"
     ]
    },
    {
     "name": "stdout",
     "output_type": "stream",
     "text": [
      "created path\n"
     ]
    },
    {
     "name": "stderr",
     "output_type": "stream",
     "text": [
      "100%|██████████| 1000/1000 [52:07<00:00,  3.13s/it] \n"
     ]
    },
    {
     "name": "stdout",
     "output_type": "stream",
     "text": [
      "\n"
     ]
    },
    {
     "data": {
      "text/html": [
       "Waiting for W&B process to finish... <strong style=\"color:green\">(success).</strong>"
      ],
      "text/plain": [
       "<IPython.core.display.HTML object>"
      ]
     },
     "metadata": {},
     "output_type": "display_data"
    },
    {
     "data": {
      "application/vnd.jupyter.widget-view+json": {
       "model_id": "b2c43b23062e4da0b619a9958ded618a",
       "version_major": 2,
       "version_minor": 0
      },
      "text/plain": [
       "VBox(children=(Label(value='83.604 MB of 83.604 MB uploaded (0.000 MB deduped)\\r'), FloatProgress(value=1.0, m…"
      ]
     },
     "metadata": {},
     "output_type": "display_data"
    },
    {
     "data": {
      "text/html": [
       "<style>\n",
       "    table.wandb td:nth-child(1) { padding: 0 10px; text-align: right }\n",
       "    .wandb-row { display: flex; flex-direction: row; flex-wrap: wrap; width: 100% }\n",
       "    .wandb-col { display: flex; flex-direction: column; flex-basis: 100%; flex: 1; padding: 10px; }\n",
       "    </style>\n",
       "<div class=\"wandb-row\"><div class=\"wandb-col\"><h3>Run history:</h3><br/><table class=\"wandb\"><tr><td>alt_bet_1</td><td>▁▄▄▄▄▅▃▆▄▆▅▄█▄▄▅▅▃▆▄▄▄▄▅▄▄▅▄▄▄▅▄▄▄▄▆▄▆▅▄</td></tr><tr><td>alt_bet_2</td><td>▁▄▅▄▄▆▃█▆▆▅▄▇▆▃▆▅▃▅▄▅▅▄▇▄▅▆▃▃▄▆▄▇▄▅█▄▆▆▄</td></tr><tr><td>bfOnlyBets</td><td>▄▆▅▆▅▃▂▁▂▃▅▄▇▆▅▄▄▅██▆▂▆▇▆▇▅█▄▇▂▅▇▆▂▅▇▆▅▅</td></tr><tr><td>bfOnlyProfit</td><td>▁▄▆▄▄▆▃█▅▆▄▄▇▆▂▆▅▃▅▄▅▅▄▇▃▅▆▄▃▄▆▄▇▃▄█▄▇▆▄</td></tr><tr><td>bf_avail</td><td>▁▇█▇▇█▇▇▇▆▇▆▆▆▅▅▅▆▆▄▅▅▅▅▆▆▅▅▅▆▅▅▆▅▃▅▅▅▅▄</td></tr><tr><td>bfnotavail</td><td>▁▇▇▇▇▇███▆▇▇▇▅▆▆▇▅▅▄▄▅▆▅▅▄▄▄▅▅▅▅▄▄▅▅▂▃▅▄</td></tr><tr><td>bfprofit</td><td>▁▄▅▄▄▆▃█▆▆▅▄▇▆▃▆▅▃▅▄▅▅▄▇▄▅▆▃▃▄▆▄▇▄▅█▄▆▆▄</td></tr><tr><td>correct_conf</td><td>▁▅▅▆▆▆▆▆▆▆▆▇▆▆▇▆▇▇▇▇▇▇▇▇▇▇▇▇▇▇████▇█████</td></tr><tr><td>epoch</td><td>▁▁▁▂▂▂▂▂▂▃▃▃▃▃▃▄▄▄▄▄▅▅▅▅▅▅▆▆▆▆▆▆▇▇▇▇▇███</td></tr><tr><td>incorrect_conf</td><td>▁▅▅▆▆▆▆▆▆▆▆▇▆▆▇▆▇▇▇▇▇▇▇▇█▇▇▇▇███████████</td></tr><tr><td>loss</td><td>█▆▆▆▆▅▇▅▃▆▅▅▄▄▆▅▄▅▄▄▅▄▂▃▄▃▂▃▃▂▃▃▄▂▂▃▃▂▃▁</td></tr><tr><td>num_bets_per</td><td>█▄▄▄▄▄▃▄▄▃▃▃▃▃▃▃▃▂▂▂▃▂▂▂▂▂▂▂▂▂▂▂▂▂▂▂▁▂▂▁</td></tr><tr><td>profit</td><td>▁▅▆▆▅▇▃▇▇▅▆▅▆▇▄▆▆▄▅▅▆▆▅█▄▅▇▄▄▄▇▅█▅▆█▄▅▅▅</td></tr><tr><td>test_accuracy</td><td>▁██▇▇█▇▇▇▆▇▆▆▆▅▅▆▆▆▄▅▆▅▆▆▆▅▅▅▆▅▆▆▅▄▅▅▅▅▅</td></tr><tr><td>test_val</td><td>█▂▁▂▂▁▂▁▂▃▂▃▃▃▄▄▄▃▄▅▄▃▄▄▄▄▄▅▄▄▄▄▄▄▅▄▅▅▅▅</td></tr><tr><td>value_pick_correct</td><td>▁▆▆▇▆▆▆▇▆▆▇▇▇▇▇▇▇█▆▇▇█▇▇▇▇█▇▇▇█▇▇▇▇▇▇▇▇█</td></tr><tr><td>value_pick_roi</td><td>▄██▇▄█▃▅▃▄▅▆▄▅▄▆▅▆▃▆▆▄▅▅▃▅▇▁▅▂▅▄▃▁▇▁▂▅▃▅</td></tr><tr><td>zero_price</td><td>▁▁▁▁▁▁▁▁▁▁▁▁▁▁▁▁▁▁▁▁▁▁▁▁▁▁▁▁▁▁▁▁▁▁▁▁▁▁▁▁</td></tr></table><br/></div><div class=\"wandb-col\"><h3>Run summary:</h3><br/><table class=\"wandb\"><tr><td>alt_bet_1</td><td>106240.03478</td></tr><tr><td>alt_bet_2</td><td>1837.47041</td></tr><tr><td>bfOnlyBets</td><td>6108</td></tr><tr><td>bfOnlyProfit</td><td>404.42528</td></tr><tr><td>bf_avail</td><td>1486</td></tr><tr><td>bfnotavail</td><td>261</td></tr><tr><td>correct_conf</td><td>0.40775</td></tr><tr><td>epoch</td><td>999</td></tr><tr><td>incorrect_conf</td><td>0.37592</td></tr><tr><td>num_bets_per</td><td>3.2877</td></tr><tr><td>profit</td><td>-878.54</td></tr><tr><td>test_val</td><td>4622</td></tr><tr><td>value_pick_correct</td><td>1806</td></tr><tr><td>value_pick_roi</td><td>-0.26598</td></tr><tr><td>zero_price</td><td>0</td></tr></table><br/></div></div>"
      ],
      "text/plain": [
       "<IPython.core.display.HTML object>"
      ]
     },
     "metadata": {},
     "output_type": "display_data"
    },
    {
     "data": {
      "text/html": [
       "Synced <strong style=\"color:#cdcd00\">denim-sweep-29</strong>: <a href=\"https://wandb.ai/nickojelly/grv_priced_sweep_custom_new_box/runs/szg0mjrt\" target=\"_blank\">https://wandb.ai/nickojelly/grv_priced_sweep_custom_new_box/runs/szg0mjrt</a><br/>Synced 5 W&B file(s), 10 media file(s), 10 artifact file(s) and 0 other file(s)"
      ],
      "text/plain": [
       "<IPython.core.display.HTML object>"
      ]
     },
     "metadata": {},
     "output_type": "display_data"
    },
    {
     "data": {
      "text/html": [
       "Find logs at: <code>.\\wandb\\run-20221016_145352-szg0mjrt\\logs</code>"
      ],
      "text/plain": [
       "<IPython.core.display.HTML object>"
      ]
     },
     "metadata": {},
     "output_type": "display_data"
    },
    {
     "name": "stderr",
     "output_type": "stream",
     "text": [
      "\u001b[34m\u001b[1mwandb\u001b[0m: Agent Starting Run: hrrio1tg with config:\n",
      "\u001b[34m\u001b[1mwandb\u001b[0m: \tbatch_size: 1000\n",
      "\u001b[34m\u001b[1mwandb\u001b[0m: \tdropout: 0.4\n",
      "\u001b[34m\u001b[1mwandb\u001b[0m: \tepochs: 1000\n",
      "\u001b[34m\u001b[1mwandb\u001b[0m: \tf1_layer_size: 256\n",
      "\u001b[34m\u001b[1mwandb\u001b[0m: \tf2_layer_size: 64\n",
      "\u001b[34m\u001b[1mwandb\u001b[0m: \tl1_beta: 0.023578407093681752\n",
      "\u001b[34m\u001b[1mwandb\u001b[0m: \tlearning_rate: 0.0006470337997231264\n",
      "\u001b[34m\u001b[1mwandb\u001b[0m: \tlen_data: 72546\n",
      "\u001b[34m\u001b[1mwandb\u001b[0m: \tloss: L1\n",
      "\u001b[34m\u001b[1mwandb\u001b[0m: \tnum_layers: 2\n",
      "\u001b[34m\u001b[1mwandb\u001b[0m: \toptimizer: adamW\n",
      "\u001b[34m\u001b[1mwandb\u001b[0m: \tvalidation_split: 0.1\n",
      "Failed to detect the name of this notebook, you can set it manually with the WANDB_NOTEBOOK_NAME environment variable to enable code saving.\n",
      "\u001b[34m\u001b[1mwandb\u001b[0m: \u001b[33mWARNING\u001b[0m Ignored wandb.init() arg project when running a sweep.\n"
     ]
    },
    {
     "data": {
      "text/html": [
       "wandb version 0.13.4 is available!  To upgrade, please run:\n",
       " $ pip install wandb --upgrade"
      ],
      "text/plain": [
       "<IPython.core.display.HTML object>"
      ]
     },
     "metadata": {},
     "output_type": "display_data"
    },
    {
     "data": {
      "text/html": [
       "Tracking run with wandb version 0.12.14"
      ],
      "text/plain": [
       "<IPython.core.display.HTML object>"
      ]
     },
     "metadata": {},
     "output_type": "display_data"
    },
    {
     "data": {
      "text/html": [
       "Run data is saved locally in <code>c:\\Users\\Nick\\Documents\\GitHub\\grvmodel\\Python\\pytorch\\New Model\\wandb\\run-20221016_154620-hrrio1tg</code>"
      ],
      "text/plain": [
       "<IPython.core.display.HTML object>"
      ]
     },
     "metadata": {},
     "output_type": "display_data"
    },
    {
     "data": {
      "text/html": [
       "Syncing run <strong><a href=\"https://wandb.ai/nickojelly/grv_priced_sweep_custom_new_box/runs/hrrio1tg\" target=\"_blank\">dauntless-sweep-30</a></strong> to <a href=\"https://wandb.ai/nickojelly/grv_priced_sweep_custom_new_box\" target=\"_blank\">Weights & Biases</a> (<a href=\"https://wandb.me/run\" target=\"_blank\">docs</a>)<br/>Sweep page:  <a href=\"https://wandb.ai/nickojelly/grv_priced_sweep_custom_new_box/sweeps/s56m9tsl\" target=\"_blank\">https://wandb.ai/nickojelly/grv_priced_sweep_custom_new_box/sweeps/s56m9tsl</a>"
      ],
      "text/plain": [
       "<IPython.core.display.HTML object>"
      ]
     },
     "metadata": {},
     "output_type": "display_data"
    },
    {
     "name": "stderr",
     "output_type": "stream",
     "text": [
      "  0%|          | 0/1000 [00:00<?, ?it/s]"
     ]
    },
    {
     "name": "stdout",
     "output_type": "stream",
     "text": [
      "{'batch_size': 1000, 'dropout': 0.4, 'epochs': 1000, 'f1_layer_size': 256, 'f2_layer_size': 64, 'l1_beta': 0.023578407093681752, 'learning_rate': 0.0006470337997231264, 'len_data': 72546, 'loss': 'L1', 'num_layers': 2, 'optimizer': 'adamW', 'validation_split': 0.1}\n",
      "1000\n",
      "{'batch_size': 1000, 'dropout': 0.4, 'epochs': 1000, 'f1_layer_size': 256, 'f2_layer_size': 64, 'l1_beta': 0.023578407093681752, 'learning_rate': 0.0006470337997231264, 'len_data': 72546, 'loss': 'L1', 'num_layers': 2, 'optimizer': 'adamW', 'validation_split': 0.1}\n",
      "adamW\n",
      "HERE\n",
      "here\n",
      "Sequential(\n",
      "  (0): Linear(in_features=144, out_features=256, bias=True)\n",
      "  (1): ReLU()\n",
      "  (2): Dropout(p=0.4, inplace=False)\n",
      "  (3): Linear(in_features=256, out_features=64, bias=True)\n",
      "  (4): ReLU()\n",
      "  (5): Dropout(p=0.4, inplace=False)\n",
      "  (6): Linear(in_features=64, out_features=8, bias=True)\n",
      "  (7): Softmax(dim=1)\n",
      ")\n"
     ]
    },
    {
     "name": "stderr",
     "output_type": "stream",
     "text": [
      "  0%|          | 1/1000 [00:19<5:18:47, 19.15s/it]"
     ]
    },
    {
     "name": "stdout",
     "output_type": "stream",
     "text": [
      "created path\n"
     ]
    },
    {
     "name": "stderr",
     "output_type": "stream",
     "text": [
      "100%|██████████| 1000/1000 [54:30<00:00,  3.27s/it] \n"
     ]
    },
    {
     "name": "stdout",
     "output_type": "stream",
     "text": [
      "\n"
     ]
    },
    {
     "data": {
      "text/html": [
       "Waiting for W&B process to finish... <strong style=\"color:green\">(success).</strong>"
      ],
      "text/plain": [
       "<IPython.core.display.HTML object>"
      ]
     },
     "metadata": {},
     "output_type": "display_data"
    },
    {
     "data": {
      "application/vnd.jupyter.widget-view+json": {
       "model_id": "a2ea9fe3c598451a92b0e4e5226f5382",
       "version_major": 2,
       "version_minor": 0
      },
      "text/plain": [
       "VBox(children=(Label(value='84.212 MB of 84.212 MB uploaded (0.000 MB deduped)\\r'), FloatProgress(value=1.0, m…"
      ]
     },
     "metadata": {},
     "output_type": "display_data"
    },
    {
     "data": {
      "text/html": [
       "<style>\n",
       "    table.wandb td:nth-child(1) { padding: 0 10px; text-align: right }\n",
       "    .wandb-row { display: flex; flex-direction: row; flex-wrap: wrap; width: 100% }\n",
       "    .wandb-col { display: flex; flex-direction: column; flex-basis: 100%; flex: 1; padding: 10px; }\n",
       "    </style>\n",
       "<div class=\"wandb-row\"><div class=\"wandb-col\"><h3>Run history:</h3><br/><table class=\"wandb\"><tr><td>alt_bet_1</td><td>▁▆▇▆▆▆▇▅▆▅▆▅▅▅▄▄▇▇▄▃▆▅█▅▄▄▄▂▅▄▄▄▃▁▅▆▂▂▃▅</td></tr><tr><td>alt_bet_2</td><td>▁▅▅▅▆▅▆▆▆▄▃▆▅▆▅▅▇█▄▅▆▅▅▆▆▆▅▄▅▆▅▆▅▃▄▅▄▄▅▅</td></tr><tr><td>bfOnlyBets</td><td>▁▅▂▅▅▂▂▄▇▄▂▆▃▃▅▆▂▃▄▃▄▄▄▇▆▅▃██▅▆▅▆█▇▄█▅▆▄</td></tr><tr><td>bfOnlyProfit</td><td>▁▅▅▅▆▄▆▆▅▅▄▅▅▆▅▅▆█▄▅▅▅▅▆▆▅▅▄▅▆▅▆▄▄▅▆▄▄▅▅</td></tr><tr><td>bf_avail</td><td>▁█▇▇█▆▇▇▆▇▄▇▆▅▆▅▅▇▄▅▄▄▃▅▆▄▅▅▄▄▄▅▃▃▄▅▃▄▄▃</td></tr><tr><td>bfnotavail</td><td>▂▆█▅▅▇▆▄▆▃▃▅▆▄▅▂▆▄▄▅▆▆▇▃▄▅▅▅▄▄▆▄▄▁▄▃▆▄▄▅</td></tr><tr><td>bfprofit</td><td>▁▅▅▅▆▅▆▆▆▄▃▆▅▆▅▅▇█▄▅▆▅▅▆▆▆▅▄▅▆▅▆▅▃▄▅▄▄▅▅</td></tr><tr><td>correct_conf</td><td>▁▅▅▅▅▆▆▆▆▇▇▆▆▇▇▇▇▇▇▇▇▇▇▇▇▇█▇█▇█▇▇███████</td></tr><tr><td>epoch</td><td>▁▁▁▂▂▂▂▂▂▃▃▃▃▃▃▄▄▄▄▄▅▅▅▅▅▅▆▆▆▆▆▆▇▇▇▇▇███</td></tr><tr><td>incorrect_conf</td><td>▁▅▅▅▅▆▆▆▆▆▆▆▆▆▆▆▇▇▇▇▇▇▇▇▇▇█▇▇▇█▇▇▇███▇██</td></tr><tr><td>loss</td><td>▇█▇▇▆▇▅▅▆▆▅▅▄▄▃▃▃▃▄▄▄▃▄▃▃▃▃▃▁▁▃▃▃▃▂▃▁▂▂▂</td></tr><tr><td>num_bets_per</td><td>█▃▃▃▃▂▂▂▂▂▂▂▂▂▂▂▂▂▂▂▂▂▁▂▁▂▁▁▁▂▁▁▂▁▁▁▁▁▁▁</td></tr><tr><td>profit</td><td>▁▅▅▅▇▅▆▆▆▄▄▆▅▆▆▅▇█▄▅▇▄▆▆▆▆▅▄▆▆▄▇▆▄▅▅▅▅▅▅</td></tr><tr><td>test_accuracy</td><td>▁██▇▇▆▇▆▆▆▄▇▇▅▅▅▅▇▄▅▅▅▄▄▆▄▅▅▄▄▄▅▃▂▄▄▃▄▄▃</td></tr><tr><td>test_val</td><td>▇▁▁▂▁▃▁▂▄▂▄▃▂▄▄▄▄▂▆▄▅▅▆▅▄▆▄▆▆▅▆▄▇█▆▄█▆▆▆</td></tr><tr><td>value_pick_correct</td><td>▁▇▇▇██▇▇▇█▇▇▇█████▇█▇▇▇████▇▇█▇▇▇▇█▇▇▇▇▇</td></tr><tr><td>value_pick_roi</td><td>▁▅▅▅▇▆▄▇▄▆▅▆▅▇▅▇▇▇▆▇▆▅▆█▆▇▇▅▆▇▆▆▅▇▇▇▅▆▇▇</td></tr><tr><td>zero_price</td><td>▁▁▁▁▁▁▁▁▁▁▁▁▁▁▁▁▁▁▁▁▁▁▁▁▁▁▁▁▁▁▁▁▁▁▁▁▁▁▁▁</td></tr></table><br/></div><div class=\"wandb-col\"><h3>Run summary:</h3><br/><table class=\"wandb\"><tr><td>alt_bet_1</td><td>79190.89497</td></tr><tr><td>alt_bet_2</td><td>974.61769</td></tr><tr><td>bfOnlyBets</td><td>6102</td></tr><tr><td>bfOnlyProfit</td><td>259.80674</td></tr><tr><td>bf_avail</td><td>1494</td></tr><tr><td>bfnotavail</td><td>267</td></tr><tr><td>correct_conf</td><td>0.63333</td></tr><tr><td>epoch</td><td>999</td></tr><tr><td>incorrect_conf</td><td>0.59236</td></tr><tr><td>num_bets_per</td><td>2.06452</td></tr><tr><td>profit</td><td>-1031.74</td></tr><tr><td>test_val</td><td>4608</td></tr><tr><td>value_pick_correct</td><td>2028</td></tr><tr><td>value_pick_roi</td><td>-0.17952</td></tr><tr><td>zero_price</td><td>0</td></tr></table><br/></div></div>"
      ],
      "text/plain": [
       "<IPython.core.display.HTML object>"
      ]
     },
     "metadata": {},
     "output_type": "display_data"
    },
    {
     "data": {
      "text/html": [
       "Synced <strong style=\"color:#cdcd00\">dauntless-sweep-30</strong>: <a href=\"https://wandb.ai/nickojelly/grv_priced_sweep_custom_new_box/runs/hrrio1tg\" target=\"_blank\">https://wandb.ai/nickojelly/grv_priced_sweep_custom_new_box/runs/hrrio1tg</a><br/>Synced 5 W&B file(s), 10 media file(s), 10 artifact file(s) and 0 other file(s)"
      ],
      "text/plain": [
       "<IPython.core.display.HTML object>"
      ]
     },
     "metadata": {},
     "output_type": "display_data"
    },
    {
     "data": {
      "text/html": [
       "Find logs at: <code>.\\wandb\\run-20221016_154620-hrrio1tg\\logs</code>"
      ],
      "text/plain": [
       "<IPython.core.display.HTML object>"
      ]
     },
     "metadata": {},
     "output_type": "display_data"
    },
    {
     "name": "stderr",
     "output_type": "stream",
     "text": [
      "\u001b[34m\u001b[1mwandb\u001b[0m: Agent Starting Run: g0lewfqc with config:\n",
      "\u001b[34m\u001b[1mwandb\u001b[0m: \tbatch_size: 1000\n",
      "\u001b[34m\u001b[1mwandb\u001b[0m: \tdropout: 0.3\n",
      "\u001b[34m\u001b[1mwandb\u001b[0m: \tepochs: 1000\n",
      "\u001b[34m\u001b[1mwandb\u001b[0m: \tf1_layer_size: 256\n",
      "\u001b[34m\u001b[1mwandb\u001b[0m: \tf2_layer_size: 64\n",
      "\u001b[34m\u001b[1mwandb\u001b[0m: \tl1_beta: 0.2754543312270695\n",
      "\u001b[34m\u001b[1mwandb\u001b[0m: \tlearning_rate: 0.0007876668038121364\n",
      "\u001b[34m\u001b[1mwandb\u001b[0m: \tlen_data: 72546\n",
      "\u001b[34m\u001b[1mwandb\u001b[0m: \tloss: L1\n",
      "\u001b[34m\u001b[1mwandb\u001b[0m: \tnum_layers: 2\n",
      "\u001b[34m\u001b[1mwandb\u001b[0m: \toptimizer: adamW\n",
      "\u001b[34m\u001b[1mwandb\u001b[0m: \tvalidation_split: 0.1\n",
      "Failed to detect the name of this notebook, you can set it manually with the WANDB_NOTEBOOK_NAME environment variable to enable code saving.\n",
      "\u001b[34m\u001b[1mwandb\u001b[0m: \u001b[33mWARNING\u001b[0m Ignored wandb.init() arg project when running a sweep.\n"
     ]
    },
    {
     "data": {
      "text/html": [
       "wandb version 0.13.4 is available!  To upgrade, please run:\n",
       " $ pip install wandb --upgrade"
      ],
      "text/plain": [
       "<IPython.core.display.HTML object>"
      ]
     },
     "metadata": {},
     "output_type": "display_data"
    },
    {
     "data": {
      "text/html": [
       "Tracking run with wandb version 0.12.14"
      ],
      "text/plain": [
       "<IPython.core.display.HTML object>"
      ]
     },
     "metadata": {},
     "output_type": "display_data"
    },
    {
     "data": {
      "text/html": [
       "Run data is saved locally in <code>c:\\Users\\Nick\\Documents\\GitHub\\grvmodel\\Python\\pytorch\\New Model\\wandb\\run-20221016_164101-g0lewfqc</code>"
      ],
      "text/plain": [
       "<IPython.core.display.HTML object>"
      ]
     },
     "metadata": {},
     "output_type": "display_data"
    },
    {
     "data": {
      "text/html": [
       "Syncing run <strong><a href=\"https://wandb.ai/nickojelly/grv_priced_sweep_custom_new_box/runs/g0lewfqc\" target=\"_blank\">icy-sweep-31</a></strong> to <a href=\"https://wandb.ai/nickojelly/grv_priced_sweep_custom_new_box\" target=\"_blank\">Weights & Biases</a> (<a href=\"https://wandb.me/run\" target=\"_blank\">docs</a>)<br/>Sweep page:  <a href=\"https://wandb.ai/nickojelly/grv_priced_sweep_custom_new_box/sweeps/s56m9tsl\" target=\"_blank\">https://wandb.ai/nickojelly/grv_priced_sweep_custom_new_box/sweeps/s56m9tsl</a>"
      ],
      "text/plain": [
       "<IPython.core.display.HTML object>"
      ]
     },
     "metadata": {},
     "output_type": "display_data"
    },
    {
     "name": "stderr",
     "output_type": "stream",
     "text": [
      "  0%|          | 0/1000 [00:00<?, ?it/s]"
     ]
    },
    {
     "name": "stdout",
     "output_type": "stream",
     "text": [
      "{'batch_size': 1000, 'dropout': 0.3, 'epochs': 1000, 'f1_layer_size': 256, 'f2_layer_size': 64, 'l1_beta': 0.2754543312270695, 'learning_rate': 0.0007876668038121364, 'len_data': 72546, 'loss': 'L1', 'num_layers': 2, 'optimizer': 'adamW', 'validation_split': 0.1}\n",
      "1000\n",
      "{'batch_size': 1000, 'dropout': 0.3, 'epochs': 1000, 'f1_layer_size': 256, 'f2_layer_size': 64, 'l1_beta': 0.2754543312270695, 'learning_rate': 0.0007876668038121364, 'len_data': 72546, 'loss': 'L1', 'num_layers': 2, 'optimizer': 'adamW', 'validation_split': 0.1}\n",
      "adamW\n",
      "HERE\n",
      "here\n",
      "Sequential(\n",
      "  (0): Linear(in_features=144, out_features=256, bias=True)\n",
      "  (1): ReLU()\n",
      "  (2): Dropout(p=0.3, inplace=False)\n",
      "  (3): Linear(in_features=256, out_features=64, bias=True)\n",
      "  (4): ReLU()\n",
      "  (5): Dropout(p=0.3, inplace=False)\n",
      "  (6): Linear(in_features=64, out_features=8, bias=True)\n",
      "  (7): Softmax(dim=1)\n",
      ")\n"
     ]
    },
    {
     "name": "stderr",
     "output_type": "stream",
     "text": [
      "  0%|          | 1/1000 [00:18<5:08:44, 18.54s/it]"
     ]
    },
    {
     "name": "stdout",
     "output_type": "stream",
     "text": [
      "created path\n"
     ]
    },
    {
     "name": "stderr",
     "output_type": "stream",
     "text": [
      " 56%|█████▌    | 560/1000 [39:08<18:59,  2.59s/it]  "
     ]
    }
   ],
   "source": [
    "#model_pipeline(config)\n",
    "\n",
    "sweep_id = wandb.sweep(sweep_config, project=\"grv_priced_sweep_custom_new_box\")\n",
    "CUDA_LAUNCH_BLOCKING=1\n",
    "wandb.agent(sweep_id, function=model_pipeline, count=100)\n"
   ]
  }
 ],
 "metadata": {
  "interpreter": {
   "hash": "43115443075634c02a7c247a87b0dd9d74842892e56d473b9e19f544f3149aff"
  },
  "kernelspec": {
   "display_name": "Python 3.9.7 ('pytorch')",
   "language": "python",
   "name": "python3"
  },
  "language_info": {
   "codemirror_mode": {
    "name": "ipython",
    "version": 3
   },
   "file_extension": ".py",
   "mimetype": "text/x-python",
   "name": "python",
   "nbconvert_exporter": "python",
   "pygments_lexer": "ipython3",
   "version": "3.9.12"
  }
 },
 "nbformat": 4,
 "nbformat_minor": 2
}
