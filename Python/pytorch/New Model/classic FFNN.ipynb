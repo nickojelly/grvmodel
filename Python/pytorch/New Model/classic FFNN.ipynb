{
 "cells": [
  {
   "cell_type": "code",
   "execution_count": 1,
   "metadata": {},
   "outputs": [
    {
     "name": "stderr",
     "output_type": "stream",
     "text": [
      "<frozen importlib._bootstrap>:228: RuntimeWarning: scipy._lib.messagestream.MessageStream size changed, may indicate binary incompatibility. Expected 56 from C header, got 64 from PyObject\n"
     ]
    }
   ],
   "source": [
    "import pickle\n",
    "import pandas as pd\n",
    "import os\n",
    "import torch\n",
    "import numpy as np\n",
    "import torch.nn as nn\n",
    "import torch.nn.functional as F\n",
    "import torch.optim as optim\n",
    "from tqdm import tqdm\n",
    "import torch.optim as optim\n",
    "from torch.utils.data import TensorDataset, DataLoader\n",
    "import wandb\n",
    "from torch.utils.data.sampler import SubsetRandomSampler\n",
    "import pprint\n",
    "import matplotlib.pyplot as plt\n",
    "import torch\n",
    "with torch.profiler.profile() as profiler:\n",
    "        pass\n",
    "from sklearn.preprocessing import MinMaxScaler"
   ]
  },
  {
   "cell_type": "code",
   "execution_count": 2,
   "metadata": {},
   "outputs": [
    {
     "name": "stderr",
     "output_type": "stream",
     "text": [
      "Failed to detect the name of this notebook, you can set it manually with the WANDB_NOTEBOOK_NAME environment variable to enable code saving.\n",
      "\u001b[34m\u001b[1mwandb\u001b[0m: Currently logged in as: \u001b[33mnickojelly\u001b[0m (use `wandb login --relogin` to force relogin)\n"
     ]
    },
    {
     "data": {
      "text/plain": [
       "True"
      ]
     },
     "execution_count": 2,
     "metadata": {},
     "output_type": "execute_result"
    }
   ],
   "source": [
    "import wandb\n",
    "\n",
    "wandb.login()\n"
   ]
  },
  {
   "cell_type": "code",
   "execution_count": 3,
   "metadata": {},
   "outputs": [
    {
     "name": "stdout",
     "output_type": "stream",
     "text": [
      "Running on the GPU\n"
     ]
    }
   ],
   "source": [
    "if torch.cuda.is_available():\n",
    "    device = torch.device(\"cuda:0\")  # you can continue going on here, like cuda:1 cuda:2....etc.\n",
    "    print(\"Running on the GPU\")\n",
    "else:\n",
    "    device = torch.device(\"cpu\")\n",
    "    print(\"Running on the CPU\")\n",
    "    "
   ]
  },
  {
   "cell_type": "code",
   "execution_count": 4,
   "metadata": {},
   "outputs": [],
   "source": [
    "os.chdir(r'C:\\Users\\Nick\\Documents\\GitHub\\grvmodel\\Python\\pytorch\\New Model')"
   ]
  },
  {
   "cell_type": "code",
   "execution_count": 5,
   "metadata": {},
   "outputs": [
    {
     "name": "stdout",
     "output_type": "stream",
     "text": [
      "excluded =  0\n"
     ]
    }
   ],
   "source": [
    "REBUILD_DATA = True\n",
    "\n",
    "\n",
    "class GRV:\n",
    "    # class to store training data\n",
    "    def __init__(self) -> None:\n",
    "        pass\n",
    "        # reading data from pickle\n",
    "        file = open(r\"DATA/143K fasttrack FFNN.npy\", \"rb\")\n",
    "        data = pickle.load(file)\n",
    "        # seperate out classes from inputs\n",
    "        self.raceIDs, self.inputs, self.classes, self.prices, self.margins, self.betfairSP,self.names = zip(*data)\n",
    "        self.raceIDs_float = [float(x) for x in self.raceIDs]\n",
    "        # removing nan from inputs and convert to float\n",
    "        self.inputs_df = pd.DataFrame(self.inputs)\n",
    "        self.inputs_df = self.inputs_df.fillna(value=-1)\n",
    "        self.inputs = self.inputs_df.values.tolist()\n",
    "        self.prices = pd.DataFrame(self.prices).fillna(value=0).values.tolist()\n",
    "        # inputs = [[float(i) for i in j] for j in inputs]\n",
    "\n",
    "    # data\n",
    "    training_data = []\n",
    "\n",
    "\n",
    "\n",
    "\n",
    "    def make_training_data(self):\n",
    "        excluded = 0\n",
    "        # for i in range(len(self.inputs)):\n",
    "        self.raceIDs_t = torch.tensor(np.array(self.raceIDs_float))\n",
    "        self.inputs_t = torch.tensor(np.array(self.inputs))\n",
    "        self.classes_t = torch.tensor(np.array(self.classes))\n",
    "        self.prices_t =torch.tensor(np.array(self.prices))\n",
    "        self.margins_t = torch.tensor(np.array(self.margins))\n",
    "        self.bsp_t = torch.tensor(np.array(self.betfairSP))\n",
    " \n",
    "\n",
    "            # print(type(self.inputs[i]))\n",
    "            #self.rIDs_t_test =\n",
    "            # if 1270<i<1290:\n",
    "            # #     print(i, self.raceIDs[i], self.names[i], self.classes[i])\n",
    "            # if len(self.classes[i]) == 8:\n",
    "            #     self.training_data.append(\n",
    "            #         [\n",
    "            #             torch.FloatTensor(self.inputs[i]),\n",
    "            #             torch.FloatTensor(self.classes[i]),\n",
    "            #             torch.FloatTensor(self.prices[i]),\n",
    "            #             torch.FloatTensor(self.margins[i]),\n",
    "            #             torch.FloatTensor(self.betfairSP[i]),\n",
    "            #             torch.Tensor([float(self.raceIDs[i])])\n",
    "            #         ]\n",
    "            #     )\n",
    "            #     if 1270<i<1290:\n",
    "            #         print(i ,torch.Tensor([self.raceIDs_float[i]]).detach(), self.raceIDs_float[i], self.raceIDs[i])\n",
    "            # else:\n",
    "            #     print(\"failed\")\n",
    "\n",
    "        np.save(\"training_data.npy\", self.training_data)\n",
    "        print(\"excluded = \", excluded)\n",
    "\n",
    "\n",
    "if REBUILD_DATA:\n",
    "    grv = GRV()\n",
    "    grv.make_training_data()\n"
   ]
  },
  {
   "cell_type": "code",
   "execution_count": 6,
   "metadata": {},
   "outputs": [],
   "source": [
    "price = grv.prices"
   ]
  },
  {
   "cell_type": "code",
   "execution_count": 7,
   "metadata": {},
   "outputs": [],
   "source": [
    "x = pd.DataFrame(grv.margins).isna().any(axis=0)"
   ]
  },
  {
   "cell_type": "code",
   "execution_count": 8,
   "metadata": {},
   "outputs": [
    {
     "data": {
      "text/plain": [
       "(142750, 8)"
      ]
     },
     "execution_count": 8,
     "metadata": {},
     "output_type": "execute_result"
    }
   ],
   "source": [
    "pd.DataFrame(grv.classes).dropna().shape"
   ]
  },
  {
   "cell_type": "code",
   "execution_count": 9,
   "metadata": {},
   "outputs": [
    {
     "data": {
      "text/plain": [
       "tensor([[4., 2., 7.,  ..., 6., 5., 3.],\n",
       "        [1., 7., 6.,  ..., 8., 2., 3.],\n",
       "        [4., 6., 8.,  ..., 3., 1., 2.],\n",
       "        ...,\n",
       "        [4., 6., 8.,  ..., 8., 1., 2.],\n",
       "        [6., 3., 7.,  ..., 5., 2., 4.],\n",
       "        [4., 1., 8.,  ..., 2., 7., 3.]], dtype=torch.float64)"
      ]
     },
     "execution_count": 9,
     "metadata": {},
     "output_type": "execute_result"
    }
   ],
   "source": [
    "test_class = grv.classes\n",
    "test_class = list(test_class)\n",
    "torch.tensor(np.array(test_class))"
   ]
  },
  {
   "cell_type": "code",
   "execution_count": 10,
   "metadata": {},
   "outputs": [
    {
     "data": {
      "text/plain": [
       "504053349.0"
      ]
     },
     "execution_count": 10,
     "metadata": {},
     "output_type": "execute_result"
    }
   ],
   "source": [
    "test_class = grv.raceIDs_float\n",
    "test_class = list(test_class)\n",
    "x = torch.tensor(np.array(test_class))\n",
    "x[1277].item()"
   ]
  },
  {
   "cell_type": "code",
   "execution_count": 11,
   "metadata": {},
   "outputs": [
    {
     "name": "stdout",
     "output_type": "stream",
     "text": [
      "['DOUBLE BY DESIGN', 'SURVEYOR', \"IT'S A RIOT\", 'MISSY CRANE', 'EEDEE KEEPSAKE', \"HELLO I'M JADE\", 'COORONG LUCY', 'WINSOME DYLAN']\n",
      "504053357.0\n"
     ]
    }
   ],
   "source": [
    "print(grv.names[1285])\n",
    "print(x[1285].item())\n"
   ]
  },
  {
   "cell_type": "code",
   "execution_count": null,
   "metadata": {},
   "outputs": [],
   "source": []
  },
  {
   "cell_type": "code",
   "execution_count": 12,
   "metadata": {},
   "outputs": [],
   "source": [
    "\n",
    "# X = torch.stack([i[0] for i in training_data])\n",
    "# Y = torch.stack([i[1] for i in training_data])\n",
    "# P = torch.stack([i[2] for i in training_data])\n",
    "# Y_m = softmin(torch.stack([i[3] for i in training_data])).float()\n",
    "# bfSP = torch.stack([i[4] for i in training_data])\n",
    "# rIDs = torch.tensor([float(x) for x in grv.raceIDs])\n",
    "# new_rIDs = torch.stack([i[5] for i in training_data])"
   ]
  },
  {
   "cell_type": "code",
   "execution_count": 13,
   "metadata": {},
   "outputs": [
    {
     "name": "stderr",
     "output_type": "stream",
     "text": [
      "C:\\Users\\Nick\\AppData\\Local\\Temp\\ipykernel_25748\\2162114888.py:26: UserWarning: Creating a tensor from a list of numpy.ndarrays is extremely slow. Please consider converting the list to a single numpy.ndarray with numpy.array() before converting to a tensor. (Triggered internally at  C:\\cb\\pytorch_1000000000000\\work\\torch\\csrc\\utils\\tensor_new.cpp:204.)\n",
      "  Y_w = torch.tensor([i for i in Y_w])\n"
     ]
    },
    {
     "name": "stdout",
     "output_type": "stream",
     "text": [
      "142750\n"
     ]
    }
   ],
   "source": [
    "softmin = nn.Softmin(dim=1)\n",
    "\n",
    "scaler = MinMaxScaler()\n",
    "\n",
    "\n",
    "# dataset setup\n",
    "training_data = grv.training_data\n",
    "\n",
    "X = grv.inputs_t.clone().detach()\n",
    "Y = grv.classes_t.clone().detach()\n",
    "P = grv.prices_t.clone().detach()\n",
    "Y_m = softmin(grv.margins_t).float().clone().detach()\n",
    "Y_m = softmin(grv.classes_t)\n",
    "bfSP = grv.bsp_t.clone().detach()\n",
    "rIDs = grv.raceIDs_t.clone().detach()\n",
    "# new_rIDs = torch.stack([i[5] for i in training_data])\n",
    "len_dataset = len(X)\n",
    "# Generate winner only class\n",
    "Y_w = []\n",
    "for i in Y:\n",
    "    n = np.zeros(8)\n",
    "    index = torch.argmin(i)\n",
    "    n[index] = float(1)\n",
    "    Y_w.append(n)\n",
    "\n",
    "Y_w = torch.tensor([i for i in Y_w])\n",
    "\n",
    "scaler.fit(X)\n",
    "Xn = scaler.transform(X)\n",
    "Xn = torch.tensor(Xn).float()\n",
    "\n",
    "with open(\"normalizer.npy\", \"wb\") as fp:   #Pickling\n",
    "    \n",
    "    pickle.dump(scaler, fp)\n",
    "\n",
    "# Xn = nn.functional.normalize(X, dim = 1)\n",
    "X = Xn.to(device)\n",
    "Y_w = Y_w.to(device)\n",
    "\n",
    "\n",
    "Y_m = Y_m.to(device)\n",
    "P = P.to(device)\n",
    "bfSP = bfSP.to('cuda')\n",
    "bfSP = torch.nan_to_num(bfSP, nan=0)\n",
    "my_dataset = TensorDataset(X, Y_m, P, bfSP,rIDs)\n",
    "my_dataloader = DataLoader(my_dataset)\n",
    "print(len(X))"
   ]
  },
  {
   "cell_type": "code",
   "execution_count": 14,
   "metadata": {},
   "outputs": [
    {
     "data": {
      "text/plain": [
       "tensor(0, device='cuda:0')"
      ]
     },
     "execution_count": 14,
     "metadata": {},
     "output_type": "execute_result"
    }
   ],
   "source": [
    "P.isnan().sum()"
   ]
  },
  {
   "cell_type": "code",
   "execution_count": 15,
   "metadata": {},
   "outputs": [],
   "source": [
    "# have to pass in dataset to get_data (created above)\n",
    "def make_loader(dataset, config, train=True):\n",
    "    dataset_size = len(dataset)\n",
    "    indices = list(range(dataset_size))\n",
    "    split = int(np.floor(config[\"validation_split\"] * dataset_size))\n",
    "    random_seed = 42\n",
    "    np.random.seed(random_seed)\n",
    "    np.random.shuffle(indices)\n",
    "    train_indices, val_indices = indices[split:], indices[:split]\n",
    "\n",
    "    if train:\n",
    "        dataset_sampler = SubsetRandomSampler(train_indices)\n",
    "        loader = torch.utils.data.DataLoader(\n",
    "            dataset=dataset,\n",
    "            batch_size=config[\"batch_size\"],\n",
    "            shuffle=False,\n",
    "            pin_memory=False,\n",
    "            num_workers=0,\n",
    "            sampler=dataset_sampler\n",
    "        )\n",
    "    else:\n",
    "        dataset_sampler = SubsetRandomSampler(val_indices)\n",
    "        loader = torch.utils.data.DataLoader(\n",
    "            dataset=dataset,\n",
    "            shuffle=False,\n",
    "            pin_memory=False,\n",
    "            num_workers=0,\n",
    "            sampler=dataset_sampler,\n",
    "        )\n",
    "\n",
    "    return loader\n"
   ]
  },
  {
   "cell_type": "code",
   "execution_count": 16,
   "metadata": {},
   "outputs": [],
   "source": [
    "def build_network(f1_layer_size, f2_layer_size, dropout, num_layers=2):\n",
    "\n",
    "    if num_layers == 2:\n",
    "        network = nn.Sequential(  # fully-connected, dual hidden layer\n",
    "            nn.Linear(203, f1_layer_size),\n",
    "            nn.ReLU(),\n",
    "            nn.Dropout(dropout),\n",
    "            nn.Linear(f1_layer_size, f2_layer_size),\n",
    "            nn.ReLU(),\n",
    "            nn.Dropout(dropout),\n",
    "            nn.Linear(f2_layer_size, 8),\n",
    "            nn.Softmax(dim=1),\n",
    "        )\n",
    "\n",
    "    else:\n",
    "        network = nn.Sequential(  # fully-connected, dual hidden layer\n",
    "            nn.Linear(203, f1_layer_size),\n",
    "            nn.ReLU(),\n",
    "            nn.Dropout(dropout),\n",
    "            nn.Linear(f1_layer_size, f2_layer_size),\n",
    "            nn.ReLU(),\n",
    "            nn.Dropout(dropout),\n",
    "            nn.Linear(f2_layer_size, f2_layer_size),\n",
    "            nn.ReLU(),\n",
    "            nn.Dropout(dropout),\n",
    "            nn.Linear(f2_layer_size, 8),\n",
    "            nn.Softmax(dim=1),\n",
    "        )\n",
    "\n",
    "\n",
    "    return network\n"
   ]
  },
  {
   "cell_type": "code",
   "execution_count": 17,
   "metadata": {},
   "outputs": [],
   "source": [
    "def custom_MSE(output, target):\n",
    "    sorts = torch.argsort(target)\n",
    "    out = sorts.narrow(1,0,3)\n",
    "    ohe = torch.nn.functional.one_hot(out, num_classes=8).sum(1)\n",
    "    out_first3 = ohe*output\n",
    "    target_ohe = ohe*target\n",
    "    loss = torch.sum((((target_ohe+1)*abs(out_first3-target_ohe)+1)**2))\n",
    "    # loss = torch.sum(((out_first3-target_ohe))**2)\n",
    "    return loss\n",
    "    \n"
   ]
  },
  {
   "cell_type": "code",
   "execution_count": 18,
   "metadata": {},
   "outputs": [],
   "source": [
    "x = torch.tensor([[1,2,3,5,6]])\n",
    "y =torch.tensor([[6,2,3,4,5]]) \n"
   ]
  },
  {
   "cell_type": "code",
   "execution_count": 19,
   "metadata": {},
   "outputs": [],
   "source": [
    "def custom_order_MSE(output, target):\n",
    "    sorts = torch.argsort(target)\n",
    "    print(sorts)\n",
    "    out = sorts.narrow(1,0,3)\n",
    "    ohe = torch.nn.functional.one_hot(out, num_classes=8).sum(1)\n",
    "    out_first3 = ohe*output\n",
    "    target_ohe = ohe*target\n",
    "    loss = torch.mean(((abs(out_first3-target_ohe)*10)**2))\n",
    "    # loss = torch.sum(((out_first3-target_ohe))**2)\n",
    "    return loss\n",
    "    "
   ]
  },
  {
   "cell_type": "code",
   "execution_count": 20,
   "metadata": {},
   "outputs": [],
   "source": [
    "def loss_customiser(x,y,loss_func=nn.HuberLoss(reduction='none',delta=0.1)):\n",
    "    sorts_t = torch.argsort(y)\n",
    "    out = sorts_t.narrow(1,0,3)\n",
    "    ohe = torch.nn.functional.one_hot(out, num_classes=8).sum(1)\n",
    "    loss = loss_func(x,y)\n",
    "    return torch.mean(loss)"
   ]
  },
  {
   "cell_type": "code",
   "execution_count": 21,
   "metadata": {},
   "outputs": [],
   "source": [
    "def custom_l1(x=None,y=None,beta=0.1):\n",
    "    loss_func=nn.SmoothL1Loss(reduction='none',beta=beta)\n",
    "    sorts_t = torch.argsort(y)\n",
    "    sorts_o = torch.argsort(x)\n",
    "    diff_place = abs(sorts_t-sorts_o)\n",
    "    out = sorts_t.narrow(1,0,3)\n",
    "    ohe = torch.nn.functional.one_hot(out, num_classes=8).sum(1)\n",
    "    loss = loss_func(x,y)*ohe\n",
    "    return torch.mean(loss)"
   ]
  },
  {
   "cell_type": "code",
   "execution_count": 22,
   "metadata": {},
   "outputs": [],
   "source": [
    "def custom_l1_place(x=None,y=None,beta=0.1):\n",
    "    loss_func=nn.SmoothL1Loss(reduction='none',beta=beta)\n",
    "    sorts_t = torch.argsort(y)\n",
    "    sorts_o = torch.argsort(x)\n",
    "    diff_place = abs(sorts_t-sorts_o)\n",
    "    out = sorts_t.narrow(1,0,3)\n",
    "    ohe = torch.nn.functional.one_hot(out, num_classes=8).sum(1)\n",
    "    loss = loss_func(x,y)*diff_place\n",
    "    return torch.mean(loss)"
   ]
  },
  {
   "cell_type": "code",
   "execution_count": 23,
   "metadata": {},
   "outputs": [],
   "source": [
    "def custom_l1_place_1(x=None,y=None,beta=0.1):\n",
    "    loss_func=nn.SmoothL1Loss(reduction='none',beta=beta)\n",
    "    sorts_t = torch.argsort(y)\n",
    "    weight_adj = 1/(sorts_t+0.5) # WOOOH MAGIC NUMBER BAD :(\n",
    "    out = sorts_t.narrow(1,0,3)\n",
    "    ohe = torch.nn.functional.one_hot(out, num_classes=8).sum(1)\n",
    "    loss = loss_func(x,y)*weight_adj\n",
    "    return torch.mean(loss)"
   ]
  },
  {
   "cell_type": "code",
   "execution_count": 24,
   "metadata": {},
   "outputs": [],
   "source": [
    "def weighted_L1(x=None,y=None):\n",
    "    weights = weights = torch.square(torch.tensor([0.8289, 0.8543, 0.8846, 0.8804, 0.9043, 0.8930, 0.8867, 0.8679])).to(device)\n",
    "    loss_func =nn.SmoothL1Loss(reduction='none')\n",
    "    loss = loss_func(x,y)*weights\n",
    "    return torch.mean(loss)"
   ]
  },
  {
   "cell_type": "code",
   "execution_count": 33,
   "metadata": {},
   "outputs": [],
   "source": [
    "def make(config, dataset):\n",
    "    # Make the data\n",
    "\n",
    "    train_loader = make_loader(dataset, config, train=True)\n",
    "    test_loader = make_loader(dataset, config, train=False)\n",
    "    # Make the model\n",
    "    # model = Net().to(device)\n",
    "    model = build_network(\n",
    "        config[\"f1_layer_size\"], config[\"f2_layer_size\"], config[\"dropout\"], config[\"num_layers\"]\n",
    "    )\n",
    "    weights = torch.square(torch.tensor([0.8289, 0.8543, 0.8846, 0.8804, 0.9043, 0.8930, 0.8867, 0.8679])).to(device)\n",
    "\n",
    "    loss_functions = {\n",
    "        \"Huber\":nn.HuberLoss(),\n",
    "        \"Huber_custom\":loss_customiser,\n",
    "        \"l1_custom\":custom_l1_place,\n",
    "        \"l1_custom_1stplace\":custom_l1_place_1,\n",
    "        \"MSE\":nn.MSELoss(),\n",
    "        \"L1\":nn.SmoothL1Loss(reduction='mean', beta=config[\"l1_beta\"]),\n",
    "        \"L1W\":weighted_L1,\n",
    "        \"BCE\":nn.CrossEntropyLoss(),\n",
    "        \"Custom\":custom_MSE,\n",
    "        \"KL\":nn.KLDivLoss(reduction='batchmean'),\n",
    "        \"NLL\":nn.NLLLoss(),\n",
    "        \"CEL\":nn.CrossEntropyLoss(weight=weights)\n",
    "    }\n",
    "    # Make the loss and optimizer\n",
    "    #  criterion = nn.NLLLoss()\n",
    "    loss_f = loss_functions[config['loss']]\n",
    "    criterion = loss_f\n",
    "    optimizer = config[\"optimizer\"]\n",
    "\n",
    "    if optimizer == \"sgd\":\n",
    "        optimizer = optim.SGD(\n",
    "            model.parameters(), lr=config[\"learning_rate\"], momentum=0.9\n",
    "        )\n",
    "    if optimizer == \"adam\":\n",
    "        optimizer = optim.Adam(model.parameters(), lr=config[\"learning_rate\"])\n",
    "    print(optimizer)\n",
    "    if optimizer == \"adamW\":\n",
    "        print(\"HERE\")\n",
    "    optimizer = optim.AdamW(model.parameters(), lr=config[\"learning_rate\"])\n",
    "\n",
    "    return model, train_loader, test_loader, criterion, optimizer\n"
   ]
  },
  {
   "cell_type": "code",
   "execution_count": 26,
   "metadata": {},
   "outputs": [],
   "source": [
    "def test(model, test_loader, epoch):\n",
    "    model.eval()\n",
    "    classL, predL, maxL, correctL, priceP, priceR, bfPriceR, pred_odds, model_outputs, race_ID_list, delta_odds_list, prices_L = [], [], [], [], [], [], [], [], [], [], [], []\n",
    "    # Run the model on some test examples\n",
    "    with torch.no_grad():\n",
    "        correct, total, max_sum, max_w_sum, profit, bfprofit, bfnotavail, bf_available,bf_only_bets, bf_only_profit, test_val,bf_sp_prices, zero_price = 0, 0, 0, 0, 0,0,0,0,0,0 ,0,0,0\n",
    "        alt_bet_1, alt_bet_2 = 0,0\n",
    "        value_pick_correct, value_pick_profit = 0, 0\n",
    "        num_bets = 0\n",
    "        for images, labels, prices, bfspPrices, raceID in test_loader:\n",
    "\n",
    "            outputs = model(images)\n",
    "            race_ID_list.append(raceID.item())\n",
    "\n",
    "            #converts prices from tensor to list\n",
    "            prices = prices[0,].tolist()\n",
    "            bfspPrices = bfspPrices[0,].tolist()\n",
    "\n",
    "            #gets the prediction and its confidence and the real class\n",
    "            max, predicted = torch.max(outputs.data, 1)\n",
    "            _, real = torch.max(labels.data, 1)\n",
    "\n",
    "            #converts prediction from tensor to item\n",
    "            prediction = predicted.item()\n",
    "            real_item = real.item()\n",
    "\n",
    "            # print(f\"{images=}\\n{prices=}\\n{bfspPrices=}\\n{predicted=}\\n{real=}\")\n",
    "\n",
    "            #appends prediction and likelyhood to lists\n",
    "            predL.append(prediction)\n",
    "            maxL.append(max.item())\n",
    "\n",
    "        \n",
    "            total += labels.size(0)\n",
    "            correct += prediction == real_item\n",
    "\n",
    "            correctL.append(int(prediction == real_item))\n",
    "            classL.append(real_item)\n",
    "\n",
    "            priceR.append(prices[real_item])\n",
    "            priceP.append(prices[prediction])\n",
    "            prices_L.append(prices)\n",
    "            bfPriceR.append(bfspPrices[real_item])\n",
    "            # print(outputs.data.flatten().tolist())\n",
    "\n",
    "            bf_odds_filled = []\n",
    "            for i,odd in enumerate(bfspPrices):\n",
    "                if odd:\n",
    "                    bf_odds_filled.append(odd)\n",
    "                else:\n",
    "                    bf_odds_filled.append(prices[i])\n",
    "\n",
    "            predicted_odds = [\n",
    "                1 / ((x + 10**-7)) for x in outputs.data.flatten().tolist()\n",
    "            ]\n",
    "\n",
    "            delta_odds = [x - y for x, y in zip(bf_odds_filled, predicted_odds)]\n",
    "\n",
    "            delta_odds_list.append(delta_odds)\n",
    "            pred_odds.append(predicted_odds)\n",
    "            model_outputs.append(outputs.data.flatten().tolist())\n",
    "\n",
    "            if prices[real_item] > (predicted_odds[real_item]):\n",
    "                value_pick_correct += 1\n",
    "                value_pick_profit += prices[real_item]\n",
    "                \n",
    "\n",
    "            bets = [x > (y) for x, y in zip(prices, predicted_odds)]\n",
    "            num_bets += sum(bets)\n",
    "\n",
    "            value_pick_profit += -sum(bets)\n",
    "\n",
    "            delta_pred = prices[prediction]-predicted_odds[prediction]\n",
    "            alt_bet_1 -= 1+10*delta_pred\n",
    "            alt_bet_2 -= 5\n",
    "\n",
    "\n",
    "            if bfspPrices[prediction]:\n",
    "                bf_only_bets += 1\n",
    "                bf_only_profit -= 1\n",
    "                bf_sp_prices += bfspPrices[prediction]\n",
    "                test_val += 1\n",
    "\n",
    "            if prediction == real_item:\n",
    "                if prices[real_item]==0:\n",
    "                    zero_price +=1\n",
    "                    #print(raceID.item())\n",
    "                max_sum += max\n",
    "                profit += prices[real_item]\n",
    "                if bfspPrices[real_item]:\n",
    "                    bfprofit += bfspPrices[real_item]\n",
    "                    bf_only_profit += bfspPrices[real_item]\n",
    "                    alt_bet_1 += (1+10*delta_pred)*bfspPrices[real_item]\n",
    "                    alt_bet_2 += 5*bfspPrices[real_item]\n",
    "                    bf_available += 1\n",
    "                    test_val -= 1\n",
    "                else:\n",
    "                    bfprofit += prices[real_item]*1.12\n",
    "                    bfnotavail += 1\n",
    "                    alt_bet_1 += (1+10*delta_pred)*prices[real_item]*1.12\n",
    "                    alt_bet_2 += 5*prices[real_item]*1.12\n",
    "            else:\n",
    "                max_w_sum += max\n",
    "\n",
    "            profit += -1\n",
    "            bfprofit += -1\n",
    "\n",
    "            # print(f\"{correct=}\")\n",
    "\n",
    "        # print(f\"Accuracy of the model on the {total} \" +\n",
    "        #       f\"test images: {100 * correct / total}%\" +\n",
    "        #       f\"profit: {profit}\"+\n",
    "        #       f\"profit: {value_pick_profit}\")\n",
    "\n",
    "        wandb.log(\n",
    "            {\n",
    "                \"test_accuracy\": correct / total,\n",
    "                \"correct_conf\": max_sum / correct,\n",
    "                \"incorrect_conf\": (max_w_sum) / (total - correct),\n",
    "                \"profit\": profit,\n",
    "                \"bfprofit\": bfprofit,\n",
    "                \"bfnotavail\": bfnotavail,\n",
    "                \"value_pick_roi\": value_pick_profit /( num_bets+ 10**-7),\n",
    "                \"value_pick_correct\": value_pick_correct,\n",
    "                \"num_bets_per\": num_bets / total,\n",
    "                \"bf_avail\": bf_available,\n",
    "                \"bfOnlyProfit\": bf_only_profit,\n",
    "                \"bfOnlyBets\": bf_only_bets,\n",
    "                \"test_val\": test_val,\n",
    "                \"alt_bet_1\":alt_bet_1,\n",
    "                \"alt_bet_2\":alt_bet_2,\n",
    "                \"zero_price\":zero_price\n",
    "            }\n",
    "        )\n",
    "\n",
    "        if epoch%100==0:\n",
    "\n",
    "            logdf = pd.DataFrame(\n",
    "                data={\n",
    "                    \"class\": classL,\n",
    "                    \"pred\": predL,\n",
    "                    \"max\": maxL,\n",
    "                    \"correct\": correctL,\n",
    "                    \"priceR\": priceR,\n",
    "                    \"priceP\": priceP,\n",
    "                    \"bets\": sum(bets),\n",
    "                    \"pred_odds\": pred_odds,\n",
    "                    \"model_outputs\": model_outputs,\n",
    "                    \"bfodds\" : bfPriceR,\n",
    "                    \"raceID\":race_ID_list,\n",
    "                    \"delta_odds\":delta_odds_list,\n",
    "                    \"pricesL\":prices_L\n",
    "                    \n",
    "                }\n",
    "            )\n",
    "\n",
    "            table = wandb.Table(dataframe=logdf)\n",
    "            wandb.log({\"table_key\": table})\n",
    "        # classCounts = logdf[\"class\"].value_counts()\n",
    "        # predCounts = logdf[\"pred\"].value_counts()\n",
    "        # boxplot = logdf.boxplot(column=['priceR'],by='correct')\n",
    "        # print(classCounts, predCounts)\n",
    "        # boxplot\n",
    "        # plt.savefig(\"boxplot.png\")\n",
    "        # wandb.log({\"boxplot\":boxplot})\n",
    "\n",
    "\n"
   ]
  },
  {
   "cell_type": "code",
   "execution_count": 27,
   "metadata": {},
   "outputs": [],
   "source": [
    "def train_log(loss, example_ct, epoch):\n",
    "    # Where the magic happens\n",
    "    wandb.log({\"epoch\": epoch, \"loss\": loss}, step=example_ct)\n",
    "    #print(f\"Loss after \" + str(example_ct).zfill(5) + f\" examples: {loss:.3f}\")"
   ]
  },
  {
   "cell_type": "code",
   "execution_count": 28,
   "metadata": {},
   "outputs": [],
   "source": [
    "def model_saver(model, optimizer, epoch, loss):\n",
    "    \n",
    "    pathtofolder = \"C:/Users/Nick/Documents/GitHub/grvmodel/Python/pytorch/New Model\"\n",
    "    model_name = wandb.run.name\n",
    "    isExist = os.path.exists(\n",
    "        f\"C:/Users/Nick/Documents/GitHub/grvmodel/Python/pytorch/New Model/savedmodel/{model_name}/\"\n",
    "    )\n",
    "    if isExist:\n",
    "        torch.save(\n",
    "            {\n",
    "                \"epoch\": epoch,\n",
    "                \"model_state_dict\": model.state_dict(),\n",
    "                \"optimizer_state_dict\": optimizer.state_dict(),\n",
    "                \"loss\": loss,\n",
    "            },\n",
    "            f\"C:/Users/Nick/Documents/GitHub/grvmodel/Python/pytorch/New Model/savedmodel/{model_name}/{model_name}_{epoch}.pt\",\n",
    "        )\n",
    "    else:\n",
    "        print(\"created path\")\n",
    "        os.makedirs(\n",
    "            f\"C:/Users/Nick/Documents/GitHub/grvmodel/Python/pytorch/New Model/savedmodel/{model_name}/\"\n",
    "        )\n",
    "        torch.save(\n",
    "            {\n",
    "                \"epoch\": epoch,\n",
    "                \"model_state_dict\": model.state_dict(),\n",
    "                \"optimizer_state_dict\": optimizer.state_dict(),\n",
    "                \"loss\": loss,\n",
    "            },\n",
    "            f\"C:/Users/Nick/Documents/GitHub/grvmodel/Python/pytorch/New Model/savedmodel/{model_name}/{model_name}_{epoch}.pt\",\n",
    "        )\n"
   ]
  },
  {
   "cell_type": "code",
   "execution_count": 29,
   "metadata": {},
   "outputs": [],
   "source": [
    "def train(model, loader,test_loader, criterion, optimizer, config):\n",
    "    # Tell wandb to watch what the model gets up to: gradients, weights, and more!\n",
    "    wandb.watch(model, criterion, log=\"all\", log_freq=10)\n",
    "\n",
    "    # Run training and track with wandb\n",
    "    total_batches = len(loader) * config.epochs\n",
    "    example_ct = 0  # number of examples seen\n",
    "    batch_ct = 0\n",
    "\n",
    "    raw_inputs = True\n",
    "    if config['loss'] == \"KL\":\n",
    "\n",
    "        for epoch in tqdm(range(config.epochs)):\n",
    "            for _, (images, labels, _ , _, _) in enumerate(loader):\n",
    "\n",
    "                loss = train_batch_lsftmax(images, labels, model, optimizer, criterion, btch_count=batch_ct, raw_inputs=True)\n",
    "                example_ct +=  len(images)\n",
    "                batch_ct += 1\n",
    "\n",
    "                # Report metrics every 25th batch\n",
    "                if ((batch_ct + 1) % 250) == 0:\n",
    "                    train_log(loss, example_ct, epoch)\n",
    "                    \n",
    "\n",
    "            if epoch %10 ==0:\n",
    "                test(model,test_loader, epoch)\n",
    "                model_saver(model,optimizer,epoch,loss)\n",
    "\n",
    "    else:\n",
    "        for epoch in tqdm(range(config.epochs)):\n",
    "            for _, (images, labels, _ , _, _) in enumerate(loader):\n",
    "\n",
    "\n",
    "                loss = train_batch(images, labels, model, optimizer, criterion, btch_count=batch_ct, raw_inputs=True)\n",
    "                example_ct +=  len(images)\n",
    "                batch_ct += 1\n",
    "\n",
    "                # Report metrics every 25th batch\n",
    "                if ((batch_ct + 1) % 250) == 0:\n",
    "                    train_log(loss, example_ct, epoch)\n",
    "\n",
    "            if epoch %10 ==0:\n",
    "                test(model,test_loader, epoch)\n",
    "                model_saver(model, optimizer, epoch, loss)\n",
    "\n",
    "def train_batch(images, labels, model, optimizer, criterion, btch_count=0, raw_inputs=True, beta=0.1):\n",
    "    images, labels = images, labels\n",
    "    \n",
    "\n",
    "    # Forward pass ➡\n",
    "    outputs = model(images)\n",
    "    loss = criterion(outputs, labels.float())\n",
    "\n",
    "    # Backward pass ⬅\n",
    "    optimizer.zero_grad()\n",
    "    loss.backward()\n",
    "\n",
    "    # Step with optimizer\n",
    "    optimizer.step()\n",
    "\n",
    "    return loss\n",
    "\n",
    "\n",
    "def train_batch_lsftmax(images, labels, model, optimizer, criterion, btch_count=0, raw_inputs=True):\n",
    "    images, labels = images, labels\n",
    "\n",
    "    outputs = model(images)\n",
    "    loss = criterion(F.log_softmax(outputs), labels.float())\n",
    "\n",
    "\n",
    "    # Backward pass ⬅\n",
    "    optimizer.zero_grad()\n",
    "    loss.backward()\n",
    "\n",
    "    # Step with optimizer\n",
    "    optimizer.step()\n",
    "\n",
    "    return loss"
   ]
  },
  {
   "cell_type": "code",
   "execution_count": null,
   "metadata": {},
   "outputs": [],
   "source": []
  },
  {
   "cell_type": "code",
   "execution_count": 30,
   "metadata": {},
   "outputs": [],
   "source": [
    "def model_pipeline(config=None,prev_model=None):\n",
    "    dataset = my_dataset\n",
    "    # tell wandb to get started\n",
    "    with wandb.init(project=\"fasttrack 123K\", config=config):\n",
    "      # access all HPs through wandb.config, so logging matches execution!\n",
    "      wandb.define_metric(\"loss\", summary=\"min\")\n",
    "      wandb.define_metric(\"test_accuracy\", summary=\"max\")\n",
    "      wandb.define_metric(\"bfprofit\", summary=\"max\")\n",
    "      config = wandb.config\n",
    "      pprint.pprint(config)\n",
    "      pprint.pprint(config.epochs)\n",
    "      print(config)\n",
    "\n",
    "      # make the model, data, and optimization problem\n",
    "      \n",
    "      model, train_loader, test_loader, criterion, optimizer = make(config, dataset)\n",
    "\n",
    "      # prev_model = r'C:\\Users\\Nick\\Documents\\GitHub\\grvmodel\\Python\\pytorch\\New Model\\good models\\worthy-sweep-6_290.pt'\n",
    "      # if prev_model:\n",
    "      #   checkpoint = torch.load(prev_model, map_location=\"cuda:0\")\n",
    "      #   print(\"here\")\n",
    "      #   model.load_state_dict(checkpoint['model_state_dict'])\n",
    "        # optimizer.load_state_dict(checkpoint['optimizer_state_dict'])\n",
    "      model = model.to(device)\n",
    "      #optimizer = optimizer.to(device)\n",
    "      print(model)\n",
    "\n",
    "      # and use them to train the model\n",
    "      train(model, train_loader,test_loader, criterion, optimizer, config)\n",
    "\n",
    "      # and test its final performance\n",
    "      #test(model, test_loader)\n",
    "\n",
    "    return model"
   ]
  },
  {
   "cell_type": "code",
   "execution_count": 31,
   "metadata": {},
   "outputs": [
    {
     "name": "stdout",
     "output_type": "stream",
     "text": [
      "{'method': 'random',\n",
      " 'metric': {'goal': 'maximize', 'name': 'profit'},\n",
      " 'parameters': {'batch_size': {'values': [1000]},\n",
      "                'dropout': {'values': [0.3, 0.4, 0.5]},\n",
      "                'epochs': {'values': [1000]},\n",
      "                'f1_layer_size': {'values': [256]},\n",
      "                'f2_layer_size': {'values': [64]},\n",
      "                'l1_beta': {'distribution': 'uniform', 'max': 1, 'min': 0},\n",
      "                'learning_rate': {'distribution': 'uniform',\n",
      "                                  'max': 0.001,\n",
      "                                  'min': 0.00011},\n",
      "                'len_data': {'value': 142750},\n",
      "                'loss': {'values': ['L1']},\n",
      "                'num_layers': {'values': [2]},\n",
      "                'optimizer': {'value': 'adamW'},\n",
      "                'validation_split': {'value': 0.1}}}\n"
     ]
    },
    {
     "data": {
      "text/plain": [
       "{'method': 'random',\n",
       " 'metric': {'name': 'profit', 'goal': 'maximize'},\n",
       " 'parameters': {'optimizer': {'value': 'adamW'},\n",
       "  'f1_layer_size': {'values': [256]},\n",
       "  'f2_layer_size': {'values': [64]},\n",
       "  'dropout': {'values': [0.3, 0.4, 0.5]},\n",
       "  'len_data': {'value': 142750},\n",
       "  'epochs': {'values': [1000]},\n",
       "  'validation_split': {'value': 0.1},\n",
       "  'loss': {'values': ['L1']},\n",
       "  'num_layers': {'values': [2]},\n",
       "  'learning_rate': {'distribution': 'uniform', 'min': 0.00011, 'max': 0.001},\n",
       "  'l1_beta': {'distribution': 'uniform', 'min': 0, 'max': 1},\n",
       "  'batch_size': {'values': [1000]}}}"
      ]
     },
     "execution_count": 31,
     "metadata": {},
     "output_type": "execute_result"
    }
   ],
   "source": [
    "sweep_config = {\"method\": \"random\"}\n",
    "\n",
    "metric = {\"name\": \"profit\", \"goal\": \"maximize\"}\n",
    "\n",
    "sweep_config[\"metric\"] = metric\n",
    "\n",
    "\n",
    "parameters_dict = {\n",
    "    \"optimizer\": {\"value\": \"adamW\"},\n",
    "    \"f1_layer_size\": {\"values\": [256]},\n",
    "    \"f2_layer_size\": {\"values\": [64]},\n",
    "    \"dropout\": {\"values\": [0.3, 0.4, 0.5]},\n",
    "    \"len_data\": {\"value\": len_dataset},\n",
    "}\n",
    "\n",
    "sweep_config[\"parameters\"] = parameters_dict\n",
    "\n",
    "parameters_dict.update(\n",
    "    {\n",
    "        \"epochs\": {\"values\": [1000]},\n",
    "        \"validation_split\": {\"value\": 0.1},\n",
    "        \"loss\": {\n",
    "            \"values\": [ \"L1\"],\n",
    "            # \"values\": [\"Huber\", \"MSE\", \"L1\", \"BCE\", \"Custom\", \"KL\"]\n",
    "            # 'value': 'l1_custom'\n",
    "        },\n",
    "        \"num_layers\": {\"values\": [2]},\n",
    "    }\n",
    ")\n",
    "\n",
    "parameters_dict.update(\n",
    "    {\n",
    "        \"learning_rate\": {\n",
    "            # a flat distribution between 0 and 0.1\n",
    "            \"distribution\": \"uniform\",\n",
    "            \"min\": 0.00011,\n",
    "            \"max\": 0.001,\n",
    "        },\n",
    "        \"l1_beta\": {\n",
    "            # a flat distribution between 0 and 0.1\n",
    "            \"distribution\": \"uniform\",\n",
    "            \"min\": 0,\n",
    "            \"max\": 1,\n",
    "        },\n",
    "        \"batch_size\": {\n",
    "            'values': [1000]\n",
    "            # \"values\": [32, 64, 128, 360, 720]\n",
    "            # 'values':[4,8,16,32,64,128,360]\n",
    "        },\n",
    "    }\n",
    ")\n",
    "\n",
    "import pprint\n",
    "\n",
    "pprint.pprint(sweep_config)\n",
    "\n",
    "\n",
    "sweep_config\n"
   ]
  },
  {
   "cell_type": "code",
   "execution_count": null,
   "metadata": {},
   "outputs": [],
   "source": []
  },
  {
   "cell_type": "code",
   "execution_count": 34,
   "metadata": {},
   "outputs": [
    {
     "data": {
      "text/html": [
       "wandb version 0.13.5 is available!  To upgrade, please run:\n",
       " $ pip install wandb --upgrade"
      ],
      "text/plain": [
       "<IPython.core.display.HTML object>"
      ]
     },
     "metadata": {},
     "output_type": "display_data"
    },
    {
     "data": {
      "text/html": [
       "Tracking run with wandb version 0.12.14"
      ],
      "text/plain": [
       "<IPython.core.display.HTML object>"
      ]
     },
     "metadata": {},
     "output_type": "display_data"
    },
    {
     "data": {
      "text/html": [
       "Run data is saved locally in <code>c:\\Users\\Nick\\Documents\\GitHub\\grvmodel\\Python\\pytorch\\New Model\\wandb\\run-20221206_212558-eb0k3aro</code>"
      ],
      "text/plain": [
       "<IPython.core.display.HTML object>"
      ]
     },
     "metadata": {},
     "output_type": "display_data"
    },
    {
     "data": {
      "text/html": [
       "Syncing run <strong><a href=\"https://wandb.ai/nickojelly/fasttrack%20123K/runs/eb0k3aro\" target=\"_blank\">rosy-brook-29</a></strong> to <a href=\"https://wandb.ai/nickojelly/fasttrack%20123K\" target=\"_blank\">Weights & Biases</a> (<a href=\"https://wandb.me/run\" target=\"_blank\">docs</a>)<br/>"
      ],
      "text/plain": [
       "<IPython.core.display.HTML object>"
      ]
     },
     "metadata": {},
     "output_type": "display_data"
    },
    {
     "name": "stderr",
     "output_type": "stream",
     "text": [
      "  0%|          | 0/2000 [00:00<?, ?it/s]"
     ]
    },
    {
     "name": "stdout",
     "output_type": "stream",
     "text": [
      "{'batch_size': 250, 'dropout': 0.3, 'epochs': 2000, 'f1_layer_size': 256, 'f2_layer_size': 64, 'learning_rate': 0.0001, 'loss': 'CEL', 'l1_beta': 0.1, 'len_data': 142750, 'num_layers': 2, 'optimizer': 'adamW', 'validation_split': 0.2}\n",
      "2000\n",
      "{'batch_size': 250, 'dropout': 0.3, 'epochs': 2000, 'f1_layer_size': 256, 'f2_layer_size': 64, 'learning_rate': 0.0001, 'loss': 'CEL', 'l1_beta': 0.1, 'len_data': 142750, 'num_layers': 2, 'optimizer': 'adamW', 'validation_split': 0.2}\n",
      "adamW\n",
      "HERE\n",
      "Sequential(\n",
      "  (0): Linear(in_features=203, out_features=256, bias=True)\n",
      "  (1): ReLU()\n",
      "  (2): Dropout(p=0.3, inplace=False)\n",
      "  (3): Linear(in_features=256, out_features=64, bias=True)\n",
      "  (4): ReLU()\n",
      "  (5): Dropout(p=0.3, inplace=False)\n",
      "  (6): Linear(in_features=64, out_features=8, bias=True)\n",
      "  (7): Softmax(dim=1)\n",
      ")\n"
     ]
    },
    {
     "name": "stderr",
     "output_type": "stream",
     "text": [
      "  0%|          | 1/2000 [01:08<38:04:27, 68.57s/it]"
     ]
    },
    {
     "name": "stdout",
     "output_type": "stream",
     "text": [
      "created path\n"
     ]
    },
    {
     "name": "stderr",
     "output_type": "stream",
     "text": [
      "100%|██████████| 2000/2000 [4:48:47<00:00,  8.66s/it]  \n"
     ]
    },
    {
     "name": "stdout",
     "output_type": "stream",
     "text": [
      "\n"
     ]
    },
    {
     "data": {
      "text/html": [
       "Waiting for W&B process to finish... <strong style=\"color:green\">(success).</strong>"
      ],
      "text/plain": [
       "<IPython.core.display.HTML object>"
      ]
     },
     "metadata": {},
     "output_type": "display_data"
    },
    {
     "data": {
      "application/vnd.jupyter.widget-view+json": {
       "model_id": "070d248f84324021b8db012888b88f94",
       "version_major": 2,
       "version_minor": 0
      },
      "text/plain": [
       "VBox(children=(Label(value='449.818 MB of 449.818 MB uploaded (0.000 MB deduped)\\r'), FloatProgress(value=1.0,…"
      ]
     },
     "metadata": {},
     "output_type": "display_data"
    },
    {
     "data": {
      "text/html": [
       "<style>\n",
       "    table.wandb td:nth-child(1) { padding: 0 10px; text-align: right }\n",
       "    .wandb-row { display: flex; flex-direction: row; flex-wrap: wrap; width: 100% }\n",
       "    .wandb-col { display: flex; flex-direction: column; flex-basis: 100%; flex: 1; padding: 10px; }\n",
       "    </style>\n",
       "<div class=\"wandb-row\"><div class=\"wandb-col\"><h3>Run history:</h3><br/><table class=\"wandb\"><tr><td>alt_bet_1</td><td>█▂▃▄▃▃▂▃▃▃▂▂▃▃▃▃▃▃▄▃▄▂▃▂▃▂▃▂▃▃▃▂▁▃▂▁▂▁▂▁</td></tr><tr><td>alt_bet_2</td><td>▃▄▄▇▂▄▁▄▆▃▂▃▂▄▂▅▅▆▆▆█▄▆▄▇▃▇▅█▇▅▄▄▄▆▃▆▃▄▃</td></tr><tr><td>bfOnlyBets</td><td>▁▄▆▅▆▇▆▇▇▇▇▇▇▆▆▇▆▆▆▆▆█▆▆▅▆▅▆▆▆▅▅▆▆▄▄▄▅▆▆</td></tr><tr><td>bfOnlyProfit</td><td>▆▆▄▇▃▅▁▅█▃▂▄▃▄▁▅▅▆▅▅▇▂▄▄▆▃▆▅▇▇▄▃▃▄▅▂▄▁▃▁</td></tr><tr><td>bf_avail</td><td>▁▇▇▇▇█▇▇█▇▇▇▇▇▇▇▇▇▇▆▇▇▇▇▆▆▆▆▇▇▆▆▆▆▆▆▆▆▆▆</td></tr><tr><td>bfnotavail</td><td>▁▇█▇███▇█▇▇▇▆▇▇▇▆▆▇▆▆▆▆▆▆▆▆▆▆▇▆▆▆▆▆▅▆▆▆▆</td></tr><tr><td>bfprofit</td><td>▃▄▄▇▂▄▁▄▆▃▂▃▂▄▂▅▅▆▆▆█▄▆▄▇▃▇▅█▇▅▄▄▄▆▃▆▃▄▃</td></tr><tr><td>correct_conf</td><td>▁▄▅▅▅▅▆▆▆▆▆▆▇▇▇▇▇▇▇▇▇▇▇▇▇███████████████</td></tr><tr><td>epoch</td><td>▁▁▁▁▂▂▂▂▂▃▃▃▃▃▃▄▄▄▄▄▅▅▅▅▅▅▆▆▆▆▆▇▇▇▇▇▇███</td></tr><tr><td>incorrect_conf</td><td>▁▄▅▅▅▅▅▅▆▆▆▆▆▆▇▇▇▇▇▇▇▇▇▇▇█▇█████████████</td></tr><tr><td>loss</td><td>█▆▅▆▅▆▆▅▅▄▅▄▄▄▄▄▄▃▅▃▄▄▁▅▂▂▃▄▄▃▃▄▃▆▄▄▃▃▂▅</td></tr><tr><td>num_bets_per</td><td>█▄▃▃▃▃▃▃▂▂▂▂▂▂▂▂▂▂▂▂▂▁▁▁▁▁▁▁▁▁▁▁▁▁▁▁▁▁▁▁</td></tr><tr><td>profit</td><td>▁▆▆█▄▆▄▆▇▅▅▅▅▆▅▇▇▇▇▇█▅▇▆▇▅▇▆█▇▇▆▆▅▇▅▇▅▆▅</td></tr><tr><td>test_accuracy</td><td>▁▇▇▇▇████▇▇▇▇▇▇▇▇▇▇▆▇▇▇▆▆▆▆▆▇▇▆▆▆▆▆▆▆▆▆▆</td></tr><tr><td>test_val</td><td>█▂▂▂▂▁▂▂▁▂▂▂▂▂▂▂▂▂▂▃▃▃▃▃▃▃▃▃▃▂▃▃▃▃▃▃▃▃▄▃</td></tr><tr><td>value_pick_correct</td><td>▁▇█▇█████▇▇▇▇▇▇▇▆▆▇▆▆▆▆▆▆▆▆▆▆▆▅▆▅▅▆▅▅▅▅▅</td></tr><tr><td>value_pick_roi</td><td>▁▄▅▅▅▆▆▇▇▇▆▆▇▆▆▇▇▆▇▇▇▇███▇▇█▇▇▆▇▇▇██▇▆▇▇</td></tr><tr><td>zero_price</td><td>▃█▃▅▅▆▇▆█▆▆▅▅▄▄▃▄▃▄▄▃▄▃▃▃▁▄▃▅▆▅▃▁▃▅▃▃▃▃▂</td></tr></table><br/></div><div class=\"wandb-col\"><h3>Run summary:</h3><br/><table class=\"wandb\"><tr><td>alt_bet_1</td><td>-60408.62513</td></tr><tr><td>alt_bet_2</td><td>-3244.56183</td></tr><tr><td>bfOnlyBets</td><td>19143</td></tr><tr><td>bfOnlyProfit</td><td>-36.85797</td></tr><tr><td>bf_avail</td><td>5248</td></tr><tr><td>bfnotavail</td><td>2569</td></tr><tr><td>correct_conf</td><td>0.8614</td></tr><tr><td>epoch</td><td>1999</td></tr><tr><td>incorrect_conf</td><td>0.81896</td></tr><tr><td>num_bets_per</td><td>1.33748</td></tr><tr><td>profit</td><td>-4526.59</td></tr><tr><td>test_val</td><td>13895</td></tr><tr><td>value_pick_correct</td><td>8434</td></tr><tr><td>value_pick_roi</td><td>-0.15709</td></tr><tr><td>zero_price</td><td>117</td></tr></table><br/></div></div>"
      ],
      "text/plain": [
       "<IPython.core.display.HTML object>"
      ]
     },
     "metadata": {},
     "output_type": "display_data"
    },
    {
     "data": {
      "text/html": [
       "Synced <strong style=\"color:#cdcd00\">rosy-brook-29</strong>: <a href=\"https://wandb.ai/nickojelly/fasttrack%20123K/runs/eb0k3aro\" target=\"_blank\">https://wandb.ai/nickojelly/fasttrack%20123K/runs/eb0k3aro</a><br/>Synced 5 W&B file(s), 20 media file(s), 20 artifact file(s) and 0 other file(s)"
      ],
      "text/plain": [
       "<IPython.core.display.HTML object>"
      ]
     },
     "metadata": {},
     "output_type": "display_data"
    },
    {
     "data": {
      "text/html": [
       "Find logs at: <code>.\\wandb\\run-20221206_212558-eb0k3aro\\logs</code>"
      ],
      "text/plain": [
       "<IPython.core.display.HTML object>"
      ]
     },
     "metadata": {},
     "output_type": "display_data"
    }
   ],
   "source": [
    "\n",
    "wandb_config_static = {'batch_size': 250, 'dropout': 0.3, 'epochs': 2000, 'f1_layer_size': 256, 'f2_layer_size': 64 , 'learning_rate': 0.0001, 'loss': 'CEL', 'l1_beta':0.1, \"len_data\": len_dataset, 'num_layers': 2, 'optimizer': 'adamW', 'validation_split': 0.2}\n",
    "model = model_pipeline(config=wandb_config_static)\n",
    "# wandb.init()\n",
    "# model = model_pipeline(config=wandb_config_static, prev_model=r'C:\\Users\\Nick\\Documents\\GitHub\\grvmodel\\Python\\pytorch\\New Model\\good models\\vocal-sweep-80_90.pt')"
   ]
  },
  {
   "cell_type": "code",
   "execution_count": null,
   "metadata": {},
   "outputs": [
    {
     "name": "stdout",
     "output_type": "stream",
     "text": [
      "Create sweep with ID: 8fweh2r2\n",
      "Sweep URL: https://wandb.ai/nickojelly/grv_priced_sweep_custom_new_box/sweeps/8fweh2r2\n"
     ]
    },
    {
     "name": "stderr",
     "output_type": "stream",
     "text": [
      "\u001b[34m\u001b[1mwandb\u001b[0m: Agent Starting Run: b3gervri with config:\n",
      "\u001b[34m\u001b[1mwandb\u001b[0m: \tbatch_size: 1000\n",
      "\u001b[34m\u001b[1mwandb\u001b[0m: \tdropout: 0.5\n",
      "\u001b[34m\u001b[1mwandb\u001b[0m: \tepochs: 1000\n",
      "\u001b[34m\u001b[1mwandb\u001b[0m: \tf1_layer_size: 256\n",
      "\u001b[34m\u001b[1mwandb\u001b[0m: \tf2_layer_size: 64\n",
      "\u001b[34m\u001b[1mwandb\u001b[0m: \tl1_beta: 0.2957152643221529\n",
      "\u001b[34m\u001b[1mwandb\u001b[0m: \tlearning_rate: 0.0008453208176840226\n",
      "\u001b[34m\u001b[1mwandb\u001b[0m: \tlen_data: 142750\n",
      "\u001b[34m\u001b[1mwandb\u001b[0m: \tloss: L1\n",
      "\u001b[34m\u001b[1mwandb\u001b[0m: \tnum_layers: 2\n",
      "\u001b[34m\u001b[1mwandb\u001b[0m: \toptimizer: adamW\n",
      "\u001b[34m\u001b[1mwandb\u001b[0m: \tvalidation_split: 0.1\n",
      "Failed to detect the name of this notebook, you can set it manually with the WANDB_NOTEBOOK_NAME environment variable to enable code saving.\n",
      "\u001b[34m\u001b[1mwandb\u001b[0m: \u001b[33mWARNING\u001b[0m Ignored wandb.init() arg project when running a sweep.\n"
     ]
    },
    {
     "data": {
      "text/html": [
       "wandb version 0.13.5 is available!  To upgrade, please run:\n",
       " $ pip install wandb --upgrade"
      ],
      "text/plain": [
       "<IPython.core.display.HTML object>"
      ]
     },
     "metadata": {},
     "output_type": "display_data"
    },
    {
     "data": {
      "text/html": [
       "Tracking run with wandb version 0.12.14"
      ],
      "text/plain": [
       "<IPython.core.display.HTML object>"
      ]
     },
     "metadata": {},
     "output_type": "display_data"
    },
    {
     "data": {
      "text/html": [
       "Run data is saved locally in <code>c:\\Users\\Nick\\Documents\\GitHub\\grvmodel\\Python\\pytorch\\New Model\\wandb\\run-20221204_025145-b3gervri</code>"
      ],
      "text/plain": [
       "<IPython.core.display.HTML object>"
      ]
     },
     "metadata": {},
     "output_type": "display_data"
    },
    {
     "data": {
      "text/html": [
       "Syncing run <strong><a href=\"https://wandb.ai/nickojelly/grv_priced_sweep_custom_new_box/runs/b3gervri\" target=\"_blank\">legendary-sweep-1</a></strong> to <a href=\"https://wandb.ai/nickojelly/grv_priced_sweep_custom_new_box\" target=\"_blank\">Weights & Biases</a> (<a href=\"https://wandb.me/run\" target=\"_blank\">docs</a>)<br/>Sweep page:  <a href=\"https://wandb.ai/nickojelly/grv_priced_sweep_custom_new_box/sweeps/8fweh2r2\" target=\"_blank\">https://wandb.ai/nickojelly/grv_priced_sweep_custom_new_box/sweeps/8fweh2r2</a>"
      ],
      "text/plain": [
       "<IPython.core.display.HTML object>"
      ]
     },
     "metadata": {},
     "output_type": "display_data"
    },
    {
     "name": "stderr",
     "output_type": "stream",
     "text": [
      "  0%|          | 0/1000 [00:00<?, ?it/s]"
     ]
    },
    {
     "name": "stdout",
     "output_type": "stream",
     "text": [
      "{'batch_size': 1000, 'dropout': 0.5, 'epochs': 1000, 'f1_layer_size': 256, 'f2_layer_size': 64, 'l1_beta': 0.2957152643221529, 'learning_rate': 0.0008453208176840226, 'len_data': 142750, 'loss': 'L1', 'num_layers': 2, 'optimizer': 'adamW', 'validation_split': 0.1}\n",
      "1000\n",
      "{'batch_size': 1000, 'dropout': 0.5, 'epochs': 1000, 'f1_layer_size': 256, 'f2_layer_size': 64, 'l1_beta': 0.2957152643221529, 'learning_rate': 0.0008453208176840226, 'len_data': 142750, 'loss': 'L1', 'num_layers': 2, 'optimizer': 'adamW', 'validation_split': 0.1}\n",
      "adamW\n",
      "HERE\n",
      "Sequential(\n",
      "  (0): Linear(in_features=203, out_features=256, bias=True)\n",
      "  (1): ReLU()\n",
      "  (2): Dropout(p=0.5, inplace=False)\n",
      "  (3): Linear(in_features=256, out_features=64, bias=True)\n",
      "  (4): ReLU()\n",
      "  (5): Dropout(p=0.5, inplace=False)\n",
      "  (6): Linear(in_features=64, out_features=8, bias=True)\n",
      "  (7): Softmax(dim=1)\n",
      ")\n"
     ]
    },
    {
     "name": "stderr",
     "output_type": "stream",
     "text": [
      "  0%|          | 1/1000 [00:27<7:32:51, 27.20s/it]"
     ]
    },
    {
     "name": "stdout",
     "output_type": "stream",
     "text": [
      "created path\n"
     ]
    },
    {
     "name": "stderr",
     "output_type": "stream",
     "text": [
      "100%|██████████| 1000/1000 [1:48:32<00:00,  6.51s/it] \n"
     ]
    },
    {
     "name": "stdout",
     "output_type": "stream",
     "text": [
      "\n"
     ]
    },
    {
     "data": {
      "text/html": [
       "Waiting for W&B process to finish... <strong style=\"color:green\">(success).</strong>"
      ],
      "text/plain": [
       "<IPython.core.display.HTML object>"
      ]
     },
     "metadata": {},
     "output_type": "display_data"
    },
    {
     "data": {
      "application/vnd.jupyter.widget-view+json": {
       "model_id": "4a044d5ea65d496b9c236b6f1b27c1ba",
       "version_major": 2,
       "version_minor": 0
      },
      "text/plain": [
       "VBox(children=(Label(value='0.001 MB of 0.001 MB uploaded (0.000 MB deduped)\\r'), FloatProgress(value=1.0, max…"
      ]
     },
     "metadata": {},
     "output_type": "display_data"
    },
    {
     "data": {
      "text/html": [
       "<style>\n",
       "    table.wandb td:nth-child(1) { padding: 0 10px; text-align: right }\n",
       "    .wandb-row { display: flex; flex-direction: row; flex-wrap: wrap; width: 100% }\n",
       "    .wandb-col { display: flex; flex-direction: column; flex-basis: 100%; flex: 1; padding: 10px; }\n",
       "    </style>\n",
       "<div class=\"wandb-row\"><div class=\"wandb-col\"><h3>Run history:</h3><br/><table class=\"wandb\"><tr><td>bfOnlyBets</td><td>▁▆▇▆▅▆▆█▇▆▆██▇▆▇▇▇▇▇▆█▆▇▆█▇▇▆▇▆▆▆▇▆▇▆▅▇▆</td></tr><tr><td>bfOnlyProfit</td><td>▄▄▄▆▄▄▁▃▄▂▁▄▄▄▃▂▃▃▃▃▄▄▃▃▄▅▅▇▃▃▅▄▆▆▅▅▅█▅▅</td></tr><tr><td>bf_avail</td><td>▁██▇▇█▇▇▇▇▆▇▇▆▇▆▇▆▆▆▆▆▆▆▆▆▆▆▆▆▆▆▆▆▆▆▆▆▆▆</td></tr><tr><td>bfnotavail</td><td>▁█▇█▇██▇▇▇▆▇▇▇▇▆▇▇▆▇▆▆▆▆▇▆▆▆▆▆▆▆▆▆▇▆▆▆▆▆</td></tr><tr><td>correct_conf</td><td>▁▄▅▅▆▆▆▆▆▆▇▇▇▇▇▇▇▇▇▇▇▇▇▇▇▇▇▇▇▇▇▇████████</td></tr><tr><td>epoch</td><td>▁▁▁▁▂▂▂▂▂▃▃▃▃▃▃▄▄▄▄▄▅▅▅▅▅▅▆▆▆▆▆▇▇▇▇▇▇███</td></tr><tr><td>incorrect_conf</td><td>▁▄▅▅▅▅▆▆▆▆▇▆▆▇▇▇▇▇▇▇▇▇▇▇▇▇▇▇▇██▇████████</td></tr><tr><td>loss</td><td>██▆▆▆▅▅▅▄▆▄▄▄▄▃▃▃▄▂▃▂▃▄▃▃▃▃▂▂▃▃▂▂▁▃▂▂▂▃▂</td></tr><tr><td>num_bets_per</td><td>██▇▆▆▆▆▅▅▅▄▄▄▃▃▄▃▃▃▃▃▃▂▃▂▃▂▂▂▂▂▂▁▂▁▁▂▁▁▁</td></tr><tr><td>test_accuracy</td><td>▁█▇▇▇█▇▇▇▇▆▇▇▇▇▆▇▇▆▆▆▆▆▆▆▆▆▆▆▆▆▆▆▆▆▆▆▆▆▆</td></tr><tr><td>test_val</td><td>█▁▂▂▁▁▂▂▂▂▃▃▃▃▃▃▃▃▃▃▃▃▃▄▃▃▄▃▃▃▃▃▃▃▃▃▃▃▃▄</td></tr><tr><td>value_pick_correct</td><td>▁▅▆▆▆▆▇▇▇▇▇▇▇▇▇██▇▇▇▇▇▇▇▇▇▇▇▇▇▇█████████</td></tr><tr><td>value_pick_roi</td><td>▂▄▅▃▄▅▆▅▅▇▆▇▇▅▇▇▆▃▆▁▄▅▆▃▅▅▅▄▆▄▅▇▄▆▇▇▇█▆▇</td></tr><tr><td>zero_price</td><td>▁▁▁▁▁▁▁▁▁▁▁▁▁▁▁▁▁▁▁▁▁▁▁▁▁▁▁▁▁▁▁▁▁▁▁▁▁▁▁▁</td></tr></table><br/></div><div class=\"wandb-col\"><h3>Run summary:</h3><br/><table class=\"wandb\"><tr><td>alt_bet_1</td><td>nan</td></tr><tr><td>alt_bet_2</td><td>nan</td></tr><tr><td>bfOnlyBets</td><td>9519</td></tr><tr><td>bfOnlyProfit</td><td>204.21074</td></tr><tr><td>bf_avail</td><td>2419</td></tr><tr><td>bfnotavail</td><td>1179</td></tr><tr><td>correct_conf</td><td>0.36981</td></tr><tr><td>epoch</td><td>999</td></tr><tr><td>incorrect_conf</td><td>0.33909</td></tr><tr><td>num_bets_per</td><td>3.47846</td></tr><tr><td>profit</td><td>nan</td></tr><tr><td>test_val</td><td>7100</td></tr><tr><td>value_pick_correct</td><td>3367</td></tr><tr><td>value_pick_roi</td><td>-0.2444</td></tr><tr><td>zero_price</td><td>0</td></tr></table><br/></div></div>"
      ],
      "text/plain": [
       "<IPython.core.display.HTML object>"
      ]
     },
     "metadata": {},
     "output_type": "display_data"
    },
    {
     "data": {
      "text/html": [
       "Synced <strong style=\"color:#cdcd00\">legendary-sweep-1</strong>: <a href=\"https://wandb.ai/nickojelly/grv_priced_sweep_custom_new_box/runs/b3gervri\" target=\"_blank\">https://wandb.ai/nickojelly/grv_priced_sweep_custom_new_box/runs/b3gervri</a><br/>Synced 5 W&B file(s), 0 media file(s), 0 artifact file(s) and 0 other file(s)"
      ],
      "text/plain": [
       "<IPython.core.display.HTML object>"
      ]
     },
     "metadata": {},
     "output_type": "display_data"
    },
    {
     "data": {
      "text/html": [
       "Find logs at: <code>.\\wandb\\run-20221204_025145-b3gervri\\logs</code>"
      ],
      "text/plain": [
       "<IPython.core.display.HTML object>"
      ]
     },
     "metadata": {},
     "output_type": "display_data"
    },
    {
     "name": "stderr",
     "output_type": "stream",
     "text": [
      "\u001b[34m\u001b[1mwandb\u001b[0m: Agent Starting Run: j5oe6lgv with config:\n",
      "\u001b[34m\u001b[1mwandb\u001b[0m: \tbatch_size: 1000\n",
      "\u001b[34m\u001b[1mwandb\u001b[0m: \tdropout: 0.4\n",
      "\u001b[34m\u001b[1mwandb\u001b[0m: \tepochs: 1000\n",
      "\u001b[34m\u001b[1mwandb\u001b[0m: \tf1_layer_size: 256\n",
      "\u001b[34m\u001b[1mwandb\u001b[0m: \tf2_layer_size: 64\n",
      "\u001b[34m\u001b[1mwandb\u001b[0m: \tl1_beta: 0.17316404543218444\n",
      "\u001b[34m\u001b[1mwandb\u001b[0m: \tlearning_rate: 0.0006743392345942777\n",
      "\u001b[34m\u001b[1mwandb\u001b[0m: \tlen_data: 142750\n",
      "\u001b[34m\u001b[1mwandb\u001b[0m: \tloss: L1\n",
      "\u001b[34m\u001b[1mwandb\u001b[0m: \tnum_layers: 2\n",
      "\u001b[34m\u001b[1mwandb\u001b[0m: \toptimizer: adamW\n",
      "\u001b[34m\u001b[1mwandb\u001b[0m: \tvalidation_split: 0.1\n",
      "Failed to detect the name of this notebook, you can set it manually with the WANDB_NOTEBOOK_NAME environment variable to enable code saving.\n",
      "\u001b[34m\u001b[1mwandb\u001b[0m: \u001b[33mWARNING\u001b[0m Ignored wandb.init() arg project when running a sweep.\n"
     ]
    },
    {
     "data": {
      "text/html": [
       "wandb version 0.13.5 is available!  To upgrade, please run:\n",
       " $ pip install wandb --upgrade"
      ],
      "text/plain": [
       "<IPython.core.display.HTML object>"
      ]
     },
     "metadata": {},
     "output_type": "display_data"
    },
    {
     "data": {
      "text/html": [
       "Tracking run with wandb version 0.12.14"
      ],
      "text/plain": [
       "<IPython.core.display.HTML object>"
      ]
     },
     "metadata": {},
     "output_type": "display_data"
    },
    {
     "data": {
      "text/html": [
       "Run data is saved locally in <code>c:\\Users\\Nick\\Documents\\GitHub\\grvmodel\\Python\\pytorch\\New Model\\wandb\\run-20221204_044029-j5oe6lgv</code>"
      ],
      "text/plain": [
       "<IPython.core.display.HTML object>"
      ]
     },
     "metadata": {},
     "output_type": "display_data"
    },
    {
     "data": {
      "text/html": [
       "Syncing run <strong><a href=\"https://wandb.ai/nickojelly/grv_priced_sweep_custom_new_box/runs/j5oe6lgv\" target=\"_blank\">zesty-sweep-2</a></strong> to <a href=\"https://wandb.ai/nickojelly/grv_priced_sweep_custom_new_box\" target=\"_blank\">Weights & Biases</a> (<a href=\"https://wandb.me/run\" target=\"_blank\">docs</a>)<br/>Sweep page:  <a href=\"https://wandb.ai/nickojelly/grv_priced_sweep_custom_new_box/sweeps/8fweh2r2\" target=\"_blank\">https://wandb.ai/nickojelly/grv_priced_sweep_custom_new_box/sweeps/8fweh2r2</a>"
      ],
      "text/plain": [
       "<IPython.core.display.HTML object>"
      ]
     },
     "metadata": {},
     "output_type": "display_data"
    },
    {
     "name": "stderr",
     "output_type": "stream",
     "text": [
      "  0%|          | 0/1000 [00:00<?, ?it/s]"
     ]
    },
    {
     "name": "stdout",
     "output_type": "stream",
     "text": [
      "{'batch_size': 1000, 'dropout': 0.4, 'epochs': 1000, 'f1_layer_size': 256, 'f2_layer_size': 64, 'l1_beta': 0.17316404543218444, 'learning_rate': 0.0006743392345942777, 'len_data': 142750, 'loss': 'L1', 'num_layers': 2, 'optimizer': 'adamW', 'validation_split': 0.1}\n",
      "1000\n",
      "{'batch_size': 1000, 'dropout': 0.4, 'epochs': 1000, 'f1_layer_size': 256, 'f2_layer_size': 64, 'l1_beta': 0.17316404543218444, 'learning_rate': 0.0006743392345942777, 'len_data': 142750, 'loss': 'L1', 'num_layers': 2, 'optimizer': 'adamW', 'validation_split': 0.1}\n",
      "adamW\n",
      "HERE\n",
      "Sequential(\n",
      "  (0): Linear(in_features=203, out_features=256, bias=True)\n",
      "  (1): ReLU()\n",
      "  (2): Dropout(p=0.4, inplace=False)\n",
      "  (3): Linear(in_features=256, out_features=64, bias=True)\n",
      "  (4): ReLU()\n",
      "  (5): Dropout(p=0.4, inplace=False)\n",
      "  (6): Linear(in_features=64, out_features=8, bias=True)\n",
      "  (7): Softmax(dim=1)\n",
      ")\n"
     ]
    },
    {
     "name": "stderr",
     "output_type": "stream",
     "text": [
      "  0%|          | 1/1000 [00:26<7:29:15, 26.98s/it]"
     ]
    },
    {
     "name": "stdout",
     "output_type": "stream",
     "text": [
      "created path\n"
     ]
    },
    {
     "name": "stderr",
     "output_type": "stream",
     "text": [
      "100%|██████████| 1000/1000 [1:48:05<00:00,  6.49s/it] \n"
     ]
    },
    {
     "name": "stdout",
     "output_type": "stream",
     "text": [
      "\n"
     ]
    },
    {
     "data": {
      "text/html": [
       "Waiting for W&B process to finish... <strong style=\"color:green\">(success).</strong>"
      ],
      "text/plain": [
       "<IPython.core.display.HTML object>"
      ]
     },
     "metadata": {},
     "output_type": "display_data"
    },
    {
     "data": {
      "application/vnd.jupyter.widget-view+json": {
       "model_id": "8b073dfbd86d4f0ebfa484c1786ac359",
       "version_major": 2,
       "version_minor": 0
      },
      "text/plain": [
       "VBox(children=(Label(value='0.001 MB of 0.001 MB uploaded (0.000 MB deduped)\\r'), FloatProgress(value=1.0, max…"
      ]
     },
     "metadata": {},
     "output_type": "display_data"
    },
    {
     "data": {
      "text/html": [
       "<style>\n",
       "    table.wandb td:nth-child(1) { padding: 0 10px; text-align: right }\n",
       "    .wandb-row { display: flex; flex-direction: row; flex-wrap: wrap; width: 100% }\n",
       "    .wandb-col { display: flex; flex-direction: column; flex-basis: 100%; flex: 1; padding: 10px; }\n",
       "    </style>\n",
       "<div class=\"wandb-row\"><div class=\"wandb-col\"><h3>Run history:</h3><br/><table class=\"wandb\"><tr><td>bfOnlyBets</td><td>▁▆█▆▆▆▆▆█▆█▆▆▇▇██▇▆▆▇▇▆▇▆▆▅▆▇▇▇▇▃▆█▆▆▅▇▅</td></tr><tr><td>bfOnlyProfit</td><td>▄▆▅▄▄▆▄▅▄▅▃▃▅▃▃▃▂▃▃▃▃▄▄▃▃▄▃▂▄▄▁▅▄▃▄▃▄▄▅█</td></tr><tr><td>bf_avail</td><td>▁██████▇▇▇▇▇▇▇▇▇▆▇▇▆▇▇▇▆▇▇▇▆▇▆▆▆▆▆▇▆▆▆▆▆</td></tr><tr><td>bfnotavail</td><td>▁▇▇█▇▇▇▇▇▇▇▇▇▇▇▇▇▇▇▆▆▆▆▆▆▆▆▆▆▆▆▆▆▆▆▆▆▆▅▅</td></tr><tr><td>correct_conf</td><td>▁▄▄▅▅▆▅▆▆▆▆▆▆▆▇▇▇▇▆▆▇▇▆▇▇▇▇▇▇▇▇▇█▇▇▇▇▇▇█</td></tr><tr><td>epoch</td><td>▁▁▁▁▂▂▂▂▂▃▃▃▃▃▃▄▄▄▄▄▅▅▅▅▅▅▆▆▆▆▆▇▇▇▇▇▇███</td></tr><tr><td>incorrect_conf</td><td>▁▄▄▄▅▅▅▅▆▆▆▆▆▆▆▆▆▇▆▆▇▇▆▇▇▇▇▇▇▇▇▇█▇▇▇▇▇▇█</td></tr><tr><td>loss</td><td>▇█▇▇▆▅▆▅▅▅▅▄▄▄▄▃▄▃▄▄▂▃▂▂▂▂▃▂▃▃▂▂▂▃▃▁▂▃▂▂</td></tr><tr><td>num_bets_per</td><td>███▇▆▆▆▆▅▅▅▅▅▄▄▄▄▄▄▄▄▃▄▃▃▃▃▃▃▂▃▃▂▂▂▃▃▃▂▁</td></tr><tr><td>test_accuracy</td><td>▁████▇▇▇▇▇▇▇▇▇▇▇▆▇▇▆▆▆▆▆▇▆▆▆▆▆▆▆▆▆▆▆▆▆▆▆</td></tr><tr><td>test_val</td><td>█▁▂▁▁▁▂▂▂▂▃▂▂▃▂▃▃▃▂▃▃▃▃▃▂▃▂▃▃▃▃▃▃▃▃▃▃▃▃▃</td></tr><tr><td>value_pick_correct</td><td>▁▅▅▅▆▆▆▆▆▆▆▆▇▇▇▇▆▇▇▆▇▇▇▇▇█▇▇█▇▇▇█▇███▇▇█</td></tr><tr><td>value_pick_roi</td><td>▂▅▆▆▇▄▄▄▅▄▃▃▄▃▂▄▁▃▄▂▃▄▅▃▅▄▅▄▅▅▅▄▆▇▅▅█▄▆▄</td></tr><tr><td>zero_price</td><td>▁▁▁▁▁▁▁▁▁▁▁▁▁▁▁▁▁▁▁▁▁▁▁▁▁▁▁▁▁▁▁▁▁▁▁▁▁▁▁▁</td></tr></table><br/></div><div class=\"wandb-col\"><h3>Run summary:</h3><br/><table class=\"wandb\"><tr><td>alt_bet_1</td><td>nan</td></tr><tr><td>alt_bet_2</td><td>nan</td></tr><tr><td>bfOnlyBets</td><td>9493</td></tr><tr><td>bfOnlyProfit</td><td>546.85815</td></tr><tr><td>bf_avail</td><td>2480</td></tr><tr><td>bfnotavail</td><td>1167</td></tr><tr><td>correct_conf</td><td>0.39819</td></tr><tr><td>epoch</td><td>999</td></tr><tr><td>incorrect_conf</td><td>0.35408</td></tr><tr><td>num_bets_per</td><td>3.49968</td></tr><tr><td>profit</td><td>nan</td></tr><tr><td>test_val</td><td>7013</td></tr><tr><td>value_pick_correct</td><td>3326</td></tr><tr><td>value_pick_roi</td><td>-0.25597</td></tr><tr><td>zero_price</td><td>0</td></tr></table><br/></div></div>"
      ],
      "text/plain": [
       "<IPython.core.display.HTML object>"
      ]
     },
     "metadata": {},
     "output_type": "display_data"
    },
    {
     "data": {
      "text/html": [
       "Synced <strong style=\"color:#cdcd00\">zesty-sweep-2</strong>: <a href=\"https://wandb.ai/nickojelly/grv_priced_sweep_custom_new_box/runs/j5oe6lgv\" target=\"_blank\">https://wandb.ai/nickojelly/grv_priced_sweep_custom_new_box/runs/j5oe6lgv</a><br/>Synced 5 W&B file(s), 0 media file(s), 0 artifact file(s) and 0 other file(s)"
      ],
      "text/plain": [
       "<IPython.core.display.HTML object>"
      ]
     },
     "metadata": {},
     "output_type": "display_data"
    },
    {
     "data": {
      "text/html": [
       "Find logs at: <code>.\\wandb\\run-20221204_044029-j5oe6lgv\\logs</code>"
      ],
      "text/plain": [
       "<IPython.core.display.HTML object>"
      ]
     },
     "metadata": {},
     "output_type": "display_data"
    },
    {
     "name": "stderr",
     "output_type": "stream",
     "text": [
      "\u001b[34m\u001b[1mwandb\u001b[0m: Agent Starting Run: azkp4dac with config:\n",
      "\u001b[34m\u001b[1mwandb\u001b[0m: \tbatch_size: 1000\n",
      "\u001b[34m\u001b[1mwandb\u001b[0m: \tdropout: 0.3\n",
      "\u001b[34m\u001b[1mwandb\u001b[0m: \tepochs: 1000\n",
      "\u001b[34m\u001b[1mwandb\u001b[0m: \tf1_layer_size: 256\n",
      "\u001b[34m\u001b[1mwandb\u001b[0m: \tf2_layer_size: 64\n",
      "\u001b[34m\u001b[1mwandb\u001b[0m: \tl1_beta: 0.18771048581635708\n",
      "\u001b[34m\u001b[1mwandb\u001b[0m: \tlearning_rate: 0.0004557028307220165\n",
      "\u001b[34m\u001b[1mwandb\u001b[0m: \tlen_data: 142750\n",
      "\u001b[34m\u001b[1mwandb\u001b[0m: \tloss: L1\n",
      "\u001b[34m\u001b[1mwandb\u001b[0m: \tnum_layers: 2\n",
      "\u001b[34m\u001b[1mwandb\u001b[0m: \toptimizer: adamW\n",
      "\u001b[34m\u001b[1mwandb\u001b[0m: \tvalidation_split: 0.1\n",
      "Failed to detect the name of this notebook, you can set it manually with the WANDB_NOTEBOOK_NAME environment variable to enable code saving.\n",
      "\u001b[34m\u001b[1mwandb\u001b[0m: \u001b[33mWARNING\u001b[0m Ignored wandb.init() arg project when running a sweep.\n"
     ]
    },
    {
     "data": {
      "text/html": [
       "wandb version 0.13.5 is available!  To upgrade, please run:\n",
       " $ pip install wandb --upgrade"
      ],
      "text/plain": [
       "<IPython.core.display.HTML object>"
      ]
     },
     "metadata": {},
     "output_type": "display_data"
    },
    {
     "data": {
      "text/html": [
       "Tracking run with wandb version 0.12.14"
      ],
      "text/plain": [
       "<IPython.core.display.HTML object>"
      ]
     },
     "metadata": {},
     "output_type": "display_data"
    },
    {
     "data": {
      "text/html": [
       "Run data is saved locally in <code>c:\\Users\\Nick\\Documents\\GitHub\\grvmodel\\Python\\pytorch\\New Model\\wandb\\run-20221204_062848-azkp4dac</code>"
      ],
      "text/plain": [
       "<IPython.core.display.HTML object>"
      ]
     },
     "metadata": {},
     "output_type": "display_data"
    },
    {
     "data": {
      "text/html": [
       "Syncing run <strong><a href=\"https://wandb.ai/nickojelly/grv_priced_sweep_custom_new_box/runs/azkp4dac\" target=\"_blank\">genial-sweep-3</a></strong> to <a href=\"https://wandb.ai/nickojelly/grv_priced_sweep_custom_new_box\" target=\"_blank\">Weights & Biases</a> (<a href=\"https://wandb.me/run\" target=\"_blank\">docs</a>)<br/>Sweep page:  <a href=\"https://wandb.ai/nickojelly/grv_priced_sweep_custom_new_box/sweeps/8fweh2r2\" target=\"_blank\">https://wandb.ai/nickojelly/grv_priced_sweep_custom_new_box/sweeps/8fweh2r2</a>"
      ],
      "text/plain": [
       "<IPython.core.display.HTML object>"
      ]
     },
     "metadata": {},
     "output_type": "display_data"
    },
    {
     "name": "stderr",
     "output_type": "stream",
     "text": [
      "  0%|          | 0/1000 [00:00<?, ?it/s]"
     ]
    },
    {
     "name": "stdout",
     "output_type": "stream",
     "text": [
      "{'batch_size': 1000, 'dropout': 0.3, 'epochs': 1000, 'f1_layer_size': 256, 'f2_layer_size': 64, 'l1_beta': 0.18771048581635708, 'learning_rate': 0.0004557028307220165, 'len_data': 142750, 'loss': 'L1', 'num_layers': 2, 'optimizer': 'adamW', 'validation_split': 0.1}\n",
      "1000\n",
      "{'batch_size': 1000, 'dropout': 0.3, 'epochs': 1000, 'f1_layer_size': 256, 'f2_layer_size': 64, 'l1_beta': 0.18771048581635708, 'learning_rate': 0.0004557028307220165, 'len_data': 142750, 'loss': 'L1', 'num_layers': 2, 'optimizer': 'adamW', 'validation_split': 0.1}\n",
      "adamW\n",
      "HERE\n",
      "Sequential(\n",
      "  (0): Linear(in_features=203, out_features=256, bias=True)\n",
      "  (1): ReLU()\n",
      "  (2): Dropout(p=0.3, inplace=False)\n",
      "  (3): Linear(in_features=256, out_features=64, bias=True)\n",
      "  (4): ReLU()\n",
      "  (5): Dropout(p=0.3, inplace=False)\n",
      "  (6): Linear(in_features=64, out_features=8, bias=True)\n",
      "  (7): Softmax(dim=1)\n",
      ")\n"
     ]
    },
    {
     "name": "stderr",
     "output_type": "stream",
     "text": [
      "  0%|          | 1/1000 [00:26<7:18:50, 26.36s/it]"
     ]
    },
    {
     "name": "stdout",
     "output_type": "stream",
     "text": [
      "created path\n"
     ]
    },
    {
     "name": "stderr",
     "output_type": "stream",
     "text": [
      "100%|██████████| 1000/1000 [1:48:22<00:00,  6.50s/it] \n"
     ]
    },
    {
     "name": "stdout",
     "output_type": "stream",
     "text": [
      "\n"
     ]
    },
    {
     "data": {
      "text/html": [
       "Waiting for W&B process to finish... <strong style=\"color:green\">(success).</strong>"
      ],
      "text/plain": [
       "<IPython.core.display.HTML object>"
      ]
     },
     "metadata": {},
     "output_type": "display_data"
    },
    {
     "data": {
      "application/vnd.jupyter.widget-view+json": {
       "model_id": "e7fbbebf9e3e4f85be4fccdcb912c355",
       "version_major": 2,
       "version_minor": 0
      },
      "text/plain": [
       "VBox(children=(Label(value='0.001 MB of 0.001 MB uploaded (0.000 MB deduped)\\r'), FloatProgress(value=1.0, max…"
      ]
     },
     "metadata": {},
     "output_type": "display_data"
    },
    {
     "data": {
      "text/html": [
       "<style>\n",
       "    table.wandb td:nth-child(1) { padding: 0 10px; text-align: right }\n",
       "    .wandb-row { display: flex; flex-direction: row; flex-wrap: wrap; width: 100% }\n",
       "    .wandb-col { display: flex; flex-direction: column; flex-basis: 100%; flex: 1; padding: 10px; }\n",
       "    </style>\n",
       "<div class=\"wandb-row\"><div class=\"wandb-col\"><h3>Run history:</h3><br/><table class=\"wandb\"><tr><td>bfOnlyBets</td><td>▁▇▇▇█▆▇▇▇▇▇▆█▇▅▇▇▆▇▇▇▆▆▇▆▇▇▆▇▇▆▇▆▇▆▅█▆▅▇</td></tr><tr><td>bfOnlyProfit</td><td>▁▆▅▄▃▄▁▄▁▄▃▃▄▄▃▅▃▂▃▆▅▃▅▄▂▄▄▂▅▇▅▄█▅▇▄▇▄█▆</td></tr><tr><td>bf_avail</td><td>▁█████▇▇▇▇▇▇█▇▇▇▇▇▇▇▇▇▇▇▇▇▇▇▇▇▇▇▇▇▇▇▇▇▇▇</td></tr><tr><td>bfnotavail</td><td>▁██████▇▇▇▇▇▇▇▇▇▇▆▆▇▆▆▆▆▇▇▇▆▇▇▇▇▆▇▇▇▇▇▇▇</td></tr><tr><td>correct_conf</td><td>▁▄▅▅▅▅▆▆▆▇▇▇▇▇▇▇██▇▇▇█▇▇█▇████████████▇█</td></tr><tr><td>epoch</td><td>▁▁▁▁▂▂▂▂▂▃▃▃▃▃▃▄▄▄▄▄▅▅▅▅▅▅▆▆▆▆▆▇▇▇▇▇▇███</td></tr><tr><td>incorrect_conf</td><td>▁▄▄▅▅▅▅▆▆▇▇▇▇▇▆▇▇█▇▇▇█▇▇▇▇██████████████</td></tr><tr><td>loss</td><td>██▆▇▇▆▅▅▅▅▅▆▄▄▅▄▄▃▃▄▃▃▂▂▃▁▂▂▃▃▃▂▂▂▂▂▂▂▁▃</td></tr><tr><td>num_bets_per</td><td>██▇▇▆▆▆▅▅▄▃▄▄▄▄▄▃▁▃▄▃▂▃▃▂▃▂▂▂▁▂▁▁▂▁▁▁▁▂▁</td></tr><tr><td>test_accuracy</td><td>▁█████▇█▇▇▇▇▇▇▇▇▇▇▇▇▇▇▇▇▇▇▇▇▇▇▇▇▇▇▇▇▇▇▇▇</td></tr><tr><td>test_val</td><td>█▁▁▁▂▁▂▂▂▂▂▂▂▂▂▂▂▂▂▂▂▂▂▂▂▂▂▂▂▂▂▂▂▂▂▂▂▂▁▂</td></tr><tr><td>value_pick_correct</td><td>▁▅▅▅▅▆▆▆▆▇▇▇▇▆▇▆▇▇▇▇▇▇▇▇▇▇▇█▇████▇▇█▇▇▇█</td></tr><tr><td>value_pick_roi</td><td>▃▇▆█▆▇▆▆▅▄▄▅▅▃▅▂▁▃▁▅▅▂▅▃▄▃▅▆▃▆▆▅▆▆▃▅▅▄▄▆</td></tr><tr><td>zero_price</td><td>▁▁▁▁▁▁▁▁▁▁▁▁▁▁▁▁▁▁▁▁▁▁▁▁▁▁▁▁▁▁▁▁▁▁▁▁▁▁▁▁</td></tr></table><br/></div><div class=\"wandb-col\"><h3>Run summary:</h3><br/><table class=\"wandb\"><tr><td>alt_bet_1</td><td>nan</td></tr><tr><td>alt_bet_2</td><td>nan</td></tr><tr><td>bfOnlyBets</td><td>9527</td></tr><tr><td>bfOnlyProfit</td><td>244.52179</td></tr><tr><td>bf_avail</td><td>2652</td></tr><tr><td>bfnotavail</td><td>1237</td></tr><tr><td>correct_conf</td><td>0.35378</td></tr><tr><td>epoch</td><td>999</td></tr><tr><td>incorrect_conf</td><td>0.31455</td></tr><tr><td>num_bets_per</td><td>3.64427</td></tr><tr><td>profit</td><td>nan</td></tr><tr><td>test_val</td><td>6875</td></tr><tr><td>value_pick_correct</td><td>3233</td></tr><tr><td>value_pick_roi</td><td>-0.25666</td></tr><tr><td>zero_price</td><td>0</td></tr></table><br/></div></div>"
      ],
      "text/plain": [
       "<IPython.core.display.HTML object>"
      ]
     },
     "metadata": {},
     "output_type": "display_data"
    },
    {
     "data": {
      "text/html": [
       "Synced <strong style=\"color:#cdcd00\">genial-sweep-3</strong>: <a href=\"https://wandb.ai/nickojelly/grv_priced_sweep_custom_new_box/runs/azkp4dac\" target=\"_blank\">https://wandb.ai/nickojelly/grv_priced_sweep_custom_new_box/runs/azkp4dac</a><br/>Synced 5 W&B file(s), 0 media file(s), 0 artifact file(s) and 0 other file(s)"
      ],
      "text/plain": [
       "<IPython.core.display.HTML object>"
      ]
     },
     "metadata": {},
     "output_type": "display_data"
    },
    {
     "data": {
      "text/html": [
       "Find logs at: <code>.\\wandb\\run-20221204_062848-azkp4dac\\logs</code>"
      ],
      "text/plain": [
       "<IPython.core.display.HTML object>"
      ]
     },
     "metadata": {},
     "output_type": "display_data"
    },
    {
     "name": "stderr",
     "output_type": "stream",
     "text": [
      "\u001b[34m\u001b[1mwandb\u001b[0m: Agent Starting Run: 6c1bauoc with config:\n",
      "\u001b[34m\u001b[1mwandb\u001b[0m: \tbatch_size: 1000\n",
      "\u001b[34m\u001b[1mwandb\u001b[0m: \tdropout: 0.5\n",
      "\u001b[34m\u001b[1mwandb\u001b[0m: \tepochs: 1000\n",
      "\u001b[34m\u001b[1mwandb\u001b[0m: \tf1_layer_size: 256\n",
      "\u001b[34m\u001b[1mwandb\u001b[0m: \tf2_layer_size: 64\n",
      "\u001b[34m\u001b[1mwandb\u001b[0m: \tl1_beta: 0.26354959128838207\n",
      "\u001b[34m\u001b[1mwandb\u001b[0m: \tlearning_rate: 0.0006092662684034728\n",
      "\u001b[34m\u001b[1mwandb\u001b[0m: \tlen_data: 142750\n",
      "\u001b[34m\u001b[1mwandb\u001b[0m: \tloss: L1\n",
      "\u001b[34m\u001b[1mwandb\u001b[0m: \tnum_layers: 2\n",
      "\u001b[34m\u001b[1mwandb\u001b[0m: \toptimizer: adamW\n",
      "\u001b[34m\u001b[1mwandb\u001b[0m: \tvalidation_split: 0.1\n",
      "Failed to detect the name of this notebook, you can set it manually with the WANDB_NOTEBOOK_NAME environment variable to enable code saving.\n",
      "\u001b[34m\u001b[1mwandb\u001b[0m: \u001b[33mWARNING\u001b[0m Ignored wandb.init() arg project when running a sweep.\n"
     ]
    },
    {
     "data": {
      "text/html": [
       "wandb version 0.13.5 is available!  To upgrade, please run:\n",
       " $ pip install wandb --upgrade"
      ],
      "text/plain": [
       "<IPython.core.display.HTML object>"
      ]
     },
     "metadata": {},
     "output_type": "display_data"
    },
    {
     "data": {
      "text/html": [
       "Tracking run with wandb version 0.12.14"
      ],
      "text/plain": [
       "<IPython.core.display.HTML object>"
      ]
     },
     "metadata": {},
     "output_type": "display_data"
    },
    {
     "data": {
      "text/html": [
       "Run data is saved locally in <code>c:\\Users\\Nick\\Documents\\GitHub\\grvmodel\\Python\\pytorch\\New Model\\wandb\\run-20221204_081721-6c1bauoc</code>"
      ],
      "text/plain": [
       "<IPython.core.display.HTML object>"
      ]
     },
     "metadata": {},
     "output_type": "display_data"
    },
    {
     "data": {
      "text/html": [
       "Syncing run <strong><a href=\"https://wandb.ai/nickojelly/grv_priced_sweep_custom_new_box/runs/6c1bauoc\" target=\"_blank\">skilled-sweep-4</a></strong> to <a href=\"https://wandb.ai/nickojelly/grv_priced_sweep_custom_new_box\" target=\"_blank\">Weights & Biases</a> (<a href=\"https://wandb.me/run\" target=\"_blank\">docs</a>)<br/>Sweep page:  <a href=\"https://wandb.ai/nickojelly/grv_priced_sweep_custom_new_box/sweeps/8fweh2r2\" target=\"_blank\">https://wandb.ai/nickojelly/grv_priced_sweep_custom_new_box/sweeps/8fweh2r2</a>"
      ],
      "text/plain": [
       "<IPython.core.display.HTML object>"
      ]
     },
     "metadata": {},
     "output_type": "display_data"
    },
    {
     "name": "stderr",
     "output_type": "stream",
     "text": [
      "  0%|          | 0/1000 [00:00<?, ?it/s]"
     ]
    },
    {
     "name": "stdout",
     "output_type": "stream",
     "text": [
      "{'batch_size': 1000, 'dropout': 0.5, 'epochs': 1000, 'f1_layer_size': 256, 'f2_layer_size': 64, 'l1_beta': 0.26354959128838207, 'learning_rate': 0.0006092662684034728, 'len_data': 142750, 'loss': 'L1', 'num_layers': 2, 'optimizer': 'adamW', 'validation_split': 0.1}\n",
      "1000\n",
      "{'batch_size': 1000, 'dropout': 0.5, 'epochs': 1000, 'f1_layer_size': 256, 'f2_layer_size': 64, 'l1_beta': 0.26354959128838207, 'learning_rate': 0.0006092662684034728, 'len_data': 142750, 'loss': 'L1', 'num_layers': 2, 'optimizer': 'adamW', 'validation_split': 0.1}\n",
      "adamW\n",
      "HERE\n",
      "Sequential(\n",
      "  (0): Linear(in_features=203, out_features=256, bias=True)\n",
      "  (1): ReLU()\n",
      "  (2): Dropout(p=0.5, inplace=False)\n",
      "  (3): Linear(in_features=256, out_features=64, bias=True)\n",
      "  (4): ReLU()\n",
      "  (5): Dropout(p=0.5, inplace=False)\n",
      "  (6): Linear(in_features=64, out_features=8, bias=True)\n",
      "  (7): Softmax(dim=1)\n",
      ")\n"
     ]
    },
    {
     "name": "stderr",
     "output_type": "stream",
     "text": [
      "  0%|          | 1/1000 [00:27<7:34:57, 27.32s/it]"
     ]
    },
    {
     "name": "stdout",
     "output_type": "stream",
     "text": [
      "created path\n"
     ]
    },
    {
     "name": "stderr",
     "output_type": "stream",
     "text": [
      "100%|██████████| 1000/1000 [1:48:52<00:00,  6.53s/it] \n"
     ]
    },
    {
     "name": "stdout",
     "output_type": "stream",
     "text": [
      "\n"
     ]
    },
    {
     "data": {
      "text/html": [
       "Waiting for W&B process to finish... <strong style=\"color:green\">(success).</strong>"
      ],
      "text/plain": [
       "<IPython.core.display.HTML object>"
      ]
     },
     "metadata": {},
     "output_type": "display_data"
    },
    {
     "data": {
      "application/vnd.jupyter.widget-view+json": {
       "model_id": "8285c4a9a10c48abbb39ff17839ab365",
       "version_major": 2,
       "version_minor": 0
      },
      "text/plain": [
       "VBox(children=(Label(value='0.001 MB of 0.001 MB uploaded (0.000 MB deduped)\\r'), FloatProgress(value=1.0, max…"
      ]
     },
     "metadata": {},
     "output_type": "display_data"
    },
    {
     "data": {
      "text/html": [
       "<style>\n",
       "    table.wandb td:nth-child(1) { padding: 0 10px; text-align: right }\n",
       "    .wandb-row { display: flex; flex-direction: row; flex-wrap: wrap; width: 100% }\n",
       "    .wandb-col { display: flex; flex-direction: column; flex-basis: 100%; flex: 1; padding: 10px; }\n",
       "    </style>\n",
       "<div class=\"wandb-row\"><div class=\"wandb-col\"><h3>Run history:</h3><br/><table class=\"wandb\"><tr><td>bfOnlyBets</td><td>▁▆▇▆▆▆▇▆▆▆▇▇▆▇▆▅▇▆▆▇▇▆▆▆▆▇▇▇▆▆█▆▇▆▇▆▇▇▇▇</td></tr><tr><td>bfOnlyProfit</td><td>▃▅▄▄▃▂▁▅▆▇▆▅▆▅█▄▄▅▃▁▂▅█▄▃▂▄▄▄▃▆▅▁▃▄▃▅▅▅▃</td></tr><tr><td>bf_avail</td><td>▁█████▇███▇▇▇▇▇▇▇▇▇▇▆▇▇▇▆▇▇▇▆▇▇▇▆▇▆▆▆▆▆▆</td></tr><tr><td>bfnotavail</td><td>▁▇████▇█▇█▇▇▇▇▇▇▇▇▆▆▆▆▆▆▆▆▆▆▆▆▆▇▆▆▆▆▆▆▆▆</td></tr><tr><td>correct_conf</td><td>▁▄▄▅▅▅▅▆▆▆▆▆▆▆▆▆▇▇▇▇▇▇▇▇▇▇█▇█▇▇██▇▇█▇▇██</td></tr><tr><td>epoch</td><td>▁▁▁▁▂▂▂▂▂▃▃▃▃▃▃▄▄▄▄▄▅▅▅▅▅▅▆▆▆▆▆▇▇▇▇▇▇███</td></tr><tr><td>incorrect_conf</td><td>▁▄▄▅▅▅▅▅▆▆▆▆▆▆▆▆▇▇▆▇▇▇▇▇▇▇▇▇█▇▇██▇▇██▇██</td></tr><tr><td>loss</td><td>█▇▇▇▇▅▆▅▅▅▄▅▄▄▅▃▅▂▃▄▄▄▃▃▃▃▃▂▁▂▂▂▂▂▂▁▂▁▂▂</td></tr><tr><td>num_bets_per</td><td>███▇▇▆▆▆▅▅▄▄▄▅▄▄▄▃▄▄▄▄▃▃▃▂▂▃▁▂▂▂▂▃▂▁▂▂▂▂</td></tr><tr><td>test_accuracy</td><td>▁█████▇███▇▇▇▇▇▇▇▇▆▇▆▇▇▇▆▆▆▆▆▇▇▇▆▆▆▆▆▆▆▆</td></tr><tr><td>test_val</td><td>█▁▁▁▁▁▂▁▁▁▂▂▂▂▂▂▂▂▃▃▃▂▃▂▃▃▃▃▃▃▃▃▃▃▃▃▃▃▃▃</td></tr><tr><td>value_pick_correct</td><td>▁▅▅▆▆▆▆▆▇▇▆▇▇▇▇▇▇▇▇▇▇▇▇▇▇████████▇▇█▇▇██</td></tr><tr><td>value_pick_roi</td><td>▁▆▆▄█▆▅▄▆▆▃▅▆▆▅▂▃▃▅▃▄▂▅▄▂▃▃▄▁▅▄▆▄▅▅▆▅▄▄▅</td></tr><tr><td>zero_price</td><td>▁▁▁▁▁▁▁▁▁▁▁▁▁▁▁▁▁▁▁▁▁▁▁▁▁▁▁▁▁▁▁▁▁▁▁▁▁▁▁▁</td></tr></table><br/></div><div class=\"wandb-col\"><h3>Run summary:</h3><br/><table class=\"wandb\"><tr><td>alt_bet_1</td><td>nan</td></tr><tr><td>alt_bet_2</td><td>nan</td></tr><tr><td>bfOnlyBets</td><td>9527</td></tr><tr><td>bfOnlyProfit</td><td>-108.1731</td></tr><tr><td>bf_avail</td><td>2510</td></tr><tr><td>bfnotavail</td><td>1221</td></tr><tr><td>correct_conf</td><td>0.36146</td></tr><tr><td>epoch</td><td>999</td></tr><tr><td>incorrect_conf</td><td>0.32569</td></tr><tr><td>num_bets_per</td><td>3.58053</td></tr><tr><td>profit</td><td>nan</td></tr><tr><td>test_val</td><td>7017</td></tr><tr><td>value_pick_correct</td><td>3310</td></tr><tr><td>value_pick_roi</td><td>-0.251</td></tr><tr><td>zero_price</td><td>0</td></tr></table><br/></div></div>"
      ],
      "text/plain": [
       "<IPython.core.display.HTML object>"
      ]
     },
     "metadata": {},
     "output_type": "display_data"
    },
    {
     "data": {
      "text/html": [
       "Synced <strong style=\"color:#cdcd00\">skilled-sweep-4</strong>: <a href=\"https://wandb.ai/nickojelly/grv_priced_sweep_custom_new_box/runs/6c1bauoc\" target=\"_blank\">https://wandb.ai/nickojelly/grv_priced_sweep_custom_new_box/runs/6c1bauoc</a><br/>Synced 5 W&B file(s), 0 media file(s), 0 artifact file(s) and 0 other file(s)"
      ],
      "text/plain": [
       "<IPython.core.display.HTML object>"
      ]
     },
     "metadata": {},
     "output_type": "display_data"
    },
    {
     "data": {
      "text/html": [
       "Find logs at: <code>.\\wandb\\run-20221204_081721-6c1bauoc\\logs</code>"
      ],
      "text/plain": [
       "<IPython.core.display.HTML object>"
      ]
     },
     "metadata": {},
     "output_type": "display_data"
    },
    {
     "name": "stderr",
     "output_type": "stream",
     "text": [
      "\u001b[34m\u001b[1mwandb\u001b[0m: Agent Starting Run: i7a1mqrl with config:\n",
      "\u001b[34m\u001b[1mwandb\u001b[0m: \tbatch_size: 1000\n",
      "\u001b[34m\u001b[1mwandb\u001b[0m: \tdropout: 0.3\n",
      "\u001b[34m\u001b[1mwandb\u001b[0m: \tepochs: 1000\n",
      "\u001b[34m\u001b[1mwandb\u001b[0m: \tf1_layer_size: 256\n",
      "\u001b[34m\u001b[1mwandb\u001b[0m: \tf2_layer_size: 64\n",
      "\u001b[34m\u001b[1mwandb\u001b[0m: \tl1_beta: 0.11408929535061184\n",
      "\u001b[34m\u001b[1mwandb\u001b[0m: \tlearning_rate: 0.0002513156957472186\n",
      "\u001b[34m\u001b[1mwandb\u001b[0m: \tlen_data: 142750\n",
      "\u001b[34m\u001b[1mwandb\u001b[0m: \tloss: L1\n",
      "\u001b[34m\u001b[1mwandb\u001b[0m: \tnum_layers: 2\n",
      "\u001b[34m\u001b[1mwandb\u001b[0m: \toptimizer: adamW\n",
      "\u001b[34m\u001b[1mwandb\u001b[0m: \tvalidation_split: 0.1\n",
      "Failed to detect the name of this notebook, you can set it manually with the WANDB_NOTEBOOK_NAME environment variable to enable code saving.\n",
      "\u001b[34m\u001b[1mwandb\u001b[0m: \u001b[33mWARNING\u001b[0m Ignored wandb.init() arg project when running a sweep.\n"
     ]
    },
    {
     "data": {
      "text/html": [
       "wandb version 0.13.5 is available!  To upgrade, please run:\n",
       " $ pip install wandb --upgrade"
      ],
      "text/plain": [
       "<IPython.core.display.HTML object>"
      ]
     },
     "metadata": {},
     "output_type": "display_data"
    },
    {
     "data": {
      "text/html": [
       "Tracking run with wandb version 0.12.14"
      ],
      "text/plain": [
       "<IPython.core.display.HTML object>"
      ]
     },
     "metadata": {},
     "output_type": "display_data"
    },
    {
     "data": {
      "text/html": [
       "Run data is saved locally in <code>c:\\Users\\Nick\\Documents\\GitHub\\grvmodel\\Python\\pytorch\\New Model\\wandb\\run-20221204_100632-i7a1mqrl</code>"
      ],
      "text/plain": [
       "<IPython.core.display.HTML object>"
      ]
     },
     "metadata": {},
     "output_type": "display_data"
    },
    {
     "data": {
      "text/html": [
       "Syncing run <strong><a href=\"https://wandb.ai/nickojelly/grv_priced_sweep_custom_new_box/runs/i7a1mqrl\" target=\"_blank\">rosy-sweep-5</a></strong> to <a href=\"https://wandb.ai/nickojelly/grv_priced_sweep_custom_new_box\" target=\"_blank\">Weights & Biases</a> (<a href=\"https://wandb.me/run\" target=\"_blank\">docs</a>)<br/>Sweep page:  <a href=\"https://wandb.ai/nickojelly/grv_priced_sweep_custom_new_box/sweeps/8fweh2r2\" target=\"_blank\">https://wandb.ai/nickojelly/grv_priced_sweep_custom_new_box/sweeps/8fweh2r2</a>"
      ],
      "text/plain": [
       "<IPython.core.display.HTML object>"
      ]
     },
     "metadata": {},
     "output_type": "display_data"
    },
    {
     "name": "stderr",
     "output_type": "stream",
     "text": [
      "  0%|          | 0/1000 [00:00<?, ?it/s]"
     ]
    },
    {
     "name": "stdout",
     "output_type": "stream",
     "text": [
      "{'batch_size': 1000, 'dropout': 0.3, 'epochs': 1000, 'f1_layer_size': 256, 'f2_layer_size': 64, 'l1_beta': 0.11408929535061184, 'learning_rate': 0.0002513156957472186, 'len_data': 142750, 'loss': 'L1', 'num_layers': 2, 'optimizer': 'adamW', 'validation_split': 0.1}\n",
      "1000\n",
      "{'batch_size': 1000, 'dropout': 0.3, 'epochs': 1000, 'f1_layer_size': 256, 'f2_layer_size': 64, 'l1_beta': 0.11408929535061184, 'learning_rate': 0.0002513156957472186, 'len_data': 142750, 'loss': 'L1', 'num_layers': 2, 'optimizer': 'adamW', 'validation_split': 0.1}\n",
      "adamW\n",
      "HERE\n",
      "Sequential(\n",
      "  (0): Linear(in_features=203, out_features=256, bias=True)\n",
      "  (1): ReLU()\n",
      "  (2): Dropout(p=0.3, inplace=False)\n",
      "  (3): Linear(in_features=256, out_features=64, bias=True)\n",
      "  (4): ReLU()\n",
      "  (5): Dropout(p=0.3, inplace=False)\n",
      "  (6): Linear(in_features=64, out_features=8, bias=True)\n",
      "  (7): Softmax(dim=1)\n",
      ")\n"
     ]
    },
    {
     "name": "stderr",
     "output_type": "stream",
     "text": [
      "  0%|          | 1/1000 [00:27<7:40:07, 27.64s/it]"
     ]
    },
    {
     "name": "stdout",
     "output_type": "stream",
     "text": [
      "created path\n"
     ]
    },
    {
     "name": "stderr",
     "output_type": "stream",
     "text": [
      "100%|██████████| 1000/1000 [1:49:15<00:00,  6.56s/it] \n"
     ]
    },
    {
     "name": "stdout",
     "output_type": "stream",
     "text": [
      "\n"
     ]
    },
    {
     "data": {
      "text/html": [
       "Waiting for W&B process to finish... <strong style=\"color:green\">(success).</strong>"
      ],
      "text/plain": [
       "<IPython.core.display.HTML object>"
      ]
     },
     "metadata": {},
     "output_type": "display_data"
    },
    {
     "data": {
      "application/vnd.jupyter.widget-view+json": {
       "model_id": "17624713b5024db3bb5e5aca0f3796b6",
       "version_major": 2,
       "version_minor": 0
      },
      "text/plain": [
       "VBox(children=(Label(value='0.001 MB of 0.001 MB uploaded (0.000 MB deduped)\\r'), FloatProgress(value=1.0, max…"
      ]
     },
     "metadata": {},
     "output_type": "display_data"
    },
    {
     "data": {
      "text/html": [
       "<style>\n",
       "    table.wandb td:nth-child(1) { padding: 0 10px; text-align: right }\n",
       "    .wandb-row { display: flex; flex-direction: row; flex-wrap: wrap; width: 100% }\n",
       "    .wandb-col { display: flex; flex-direction: column; flex-basis: 100%; flex: 1; padding: 10px; }\n",
       "    </style>\n",
       "<div class=\"wandb-row\"><div class=\"wandb-col\"><h3>Run history:</h3><br/><table class=\"wandb\"><tr><td>bfOnlyBets</td><td>▁▆▅▆▆▇██▆▇▇▇▅▆▇▆▆▅▅▆▅▆▆▆▇▇▆▇▅▆▆▆▆▆▇▆▇▇▆▅</td></tr><tr><td>bfOnlyProfit</td><td>▃▆▅▆▂▅▁▆▂▅▂▅▅▅▆▅▅▅▆▇▃▄▆▄██▅▆▆▅▃▆▅▃▅▃█▄▆▄</td></tr><tr><td>bf_avail</td><td>▁▇▇█▇███████▇▇██▇▇▇█▇▇▇▇█▇▇▇▇▇▇▇▇▇▇▇▇▇▇▆</td></tr><tr><td>bfnotavail</td><td>▁▇██▇████████▇█▇▇▇▇▇▇▇▇▇▇▇▆▇▇▇▇▇▇▇▇▆▇▇▇▇</td></tr><tr><td>correct_conf</td><td>▁▄▅▄▅▅▅▅▆▅▆▆▆▆▆▇▆▆▆▆▇▇▆▇▇▇▇▇▇██▇▇▇███▇█▇</td></tr><tr><td>epoch</td><td>▁▁▁▁▂▂▂▂▂▃▃▃▃▃▃▄▄▄▄▄▅▅▅▅▅▅▆▆▆▆▆▇▇▇▇▇▇███</td></tr><tr><td>incorrect_conf</td><td>▁▃▄▄▅▅▅▅▅▅▆▅▆▆▆▇▆▆▆▆▇▇▆▇▇▇▇▇▇█▇▇▇▇██▇▇█▇</td></tr><tr><td>loss</td><td>█▇▇▆▆▆▅▅▅▅▅▅▃▄▄▃▃▃▃▃▃▂▂▃▂▂▂▄▂▃▂▂▂▃▂▁▁▁▁▂</td></tr><tr><td>num_bets_per</td><td>██▆▇▆▆▅▆▅▆▅▅▄▄▄▃▄▄▄▄▃▃▄▄▃▃▄▃▃▂▂▃▃▃▁▂▂▃▁▃</td></tr><tr><td>test_accuracy</td><td>▁▇██▇███████▇▇█▇▇▇▇█▇▇▇▇█▇▇▇▇▇▇▇▇▇▇▆▇▇▇▆</td></tr><tr><td>test_val</td><td>█▂▂▁▂▁▂▁▁▁▂▁▂▂▁▂▂▂▂▁▂▂▂▂▁▂▂▂▂▂▂▂▂▃▂▃▂▃▂▃</td></tr><tr><td>value_pick_correct</td><td>▁▅▅▅▆▆▆▆▆▆▆▆▇▇▇▆▇▇▆▇▇▇▇▇▇▇▇▇▇▇▇▇▇▇▇▇▇▇█▇</td></tr><tr><td>value_pick_roi</td><td>▁▆▄▇██▅█▅▇▄▅▆▆▄▁▆▇▃▄▃▃▆▆▇▆▅▅▃▅▄▆▂▄▂▁▄▆▄▆</td></tr><tr><td>zero_price</td><td>▁▁▁▁▁▁▁▁▁▁▁▁▁▁▁▁▁▁▁▁▁▁▁▁▁▁▁▁▁▁▁▁▁▁▁▁▁▁▁▁</td></tr></table><br/></div><div class=\"wandb-col\"><h3>Run summary:</h3><br/><table class=\"wandb\"><tr><td>alt_bet_1</td><td>nan</td></tr><tr><td>alt_bet_2</td><td>nan</td></tr><tr><td>bfOnlyBets</td><td>9500</td></tr><tr><td>bfOnlyProfit</td><td>-38.61743</td></tr><tr><td>bf_avail</td><td>2541</td></tr><tr><td>bfnotavail</td><td>1248</td></tr><tr><td>correct_conf</td><td>0.36007</td></tr><tr><td>epoch</td><td>999</td></tr><tr><td>incorrect_conf</td><td>0.32273</td></tr><tr><td>num_bets_per</td><td>3.61044</td></tr><tr><td>profit</td><td>nan</td></tr><tr><td>test_val</td><td>6959</td></tr><tr><td>value_pick_correct</td><td>3232</td></tr><tr><td>value_pick_roi</td><td>-0.25613</td></tr><tr><td>zero_price</td><td>0</td></tr></table><br/></div></div>"
      ],
      "text/plain": [
       "<IPython.core.display.HTML object>"
      ]
     },
     "metadata": {},
     "output_type": "display_data"
    },
    {
     "data": {
      "text/html": [
       "Synced <strong style=\"color:#cdcd00\">rosy-sweep-5</strong>: <a href=\"https://wandb.ai/nickojelly/grv_priced_sweep_custom_new_box/runs/i7a1mqrl\" target=\"_blank\">https://wandb.ai/nickojelly/grv_priced_sweep_custom_new_box/runs/i7a1mqrl</a><br/>Synced 5 W&B file(s), 0 media file(s), 0 artifact file(s) and 0 other file(s)"
      ],
      "text/plain": [
       "<IPython.core.display.HTML object>"
      ]
     },
     "metadata": {},
     "output_type": "display_data"
    },
    {
     "data": {
      "text/html": [
       "Find logs at: <code>.\\wandb\\run-20221204_100632-i7a1mqrl\\logs</code>"
      ],
      "text/plain": [
       "<IPython.core.display.HTML object>"
      ]
     },
     "metadata": {},
     "output_type": "display_data"
    },
    {
     "name": "stderr",
     "output_type": "stream",
     "text": [
      "\u001b[34m\u001b[1mwandb\u001b[0m: Agent Starting Run: w11a147w with config:\n",
      "\u001b[34m\u001b[1mwandb\u001b[0m: \tbatch_size: 1000\n",
      "\u001b[34m\u001b[1mwandb\u001b[0m: \tdropout: 0.5\n",
      "\u001b[34m\u001b[1mwandb\u001b[0m: \tepochs: 1000\n",
      "\u001b[34m\u001b[1mwandb\u001b[0m: \tf1_layer_size: 256\n",
      "\u001b[34m\u001b[1mwandb\u001b[0m: \tf2_layer_size: 64\n",
      "\u001b[34m\u001b[1mwandb\u001b[0m: \tl1_beta: 0.9268169912120172\n",
      "\u001b[34m\u001b[1mwandb\u001b[0m: \tlearning_rate: 0.0005459024286766638\n",
      "\u001b[34m\u001b[1mwandb\u001b[0m: \tlen_data: 142750\n",
      "\u001b[34m\u001b[1mwandb\u001b[0m: \tloss: L1\n",
      "\u001b[34m\u001b[1mwandb\u001b[0m: \tnum_layers: 2\n",
      "\u001b[34m\u001b[1mwandb\u001b[0m: \toptimizer: adamW\n",
      "\u001b[34m\u001b[1mwandb\u001b[0m: \tvalidation_split: 0.1\n",
      "Failed to detect the name of this notebook, you can set it manually with the WANDB_NOTEBOOK_NAME environment variable to enable code saving.\n",
      "\u001b[34m\u001b[1mwandb\u001b[0m: \u001b[33mWARNING\u001b[0m Ignored wandb.init() arg project when running a sweep.\n"
     ]
    },
    {
     "data": {
      "text/html": [
       "wandb version 0.13.5 is available!  To upgrade, please run:\n",
       " $ pip install wandb --upgrade"
      ],
      "text/plain": [
       "<IPython.core.display.HTML object>"
      ]
     },
     "metadata": {},
     "output_type": "display_data"
    },
    {
     "data": {
      "text/html": [
       "Tracking run with wandb version 0.12.14"
      ],
      "text/plain": [
       "<IPython.core.display.HTML object>"
      ]
     },
     "metadata": {},
     "output_type": "display_data"
    },
    {
     "data": {
      "text/html": [
       "Run data is saved locally in <code>c:\\Users\\Nick\\Documents\\GitHub\\grvmodel\\Python\\pytorch\\New Model\\wandb\\run-20221204_115558-w11a147w</code>"
      ],
      "text/plain": [
       "<IPython.core.display.HTML object>"
      ]
     },
     "metadata": {},
     "output_type": "display_data"
    },
    {
     "data": {
      "text/html": [
       "Syncing run <strong><a href=\"https://wandb.ai/nickojelly/grv_priced_sweep_custom_new_box/runs/w11a147w\" target=\"_blank\">gentle-sweep-6</a></strong> to <a href=\"https://wandb.ai/nickojelly/grv_priced_sweep_custom_new_box\" target=\"_blank\">Weights & Biases</a> (<a href=\"https://wandb.me/run\" target=\"_blank\">docs</a>)<br/>Sweep page:  <a href=\"https://wandb.ai/nickojelly/grv_priced_sweep_custom_new_box/sweeps/8fweh2r2\" target=\"_blank\">https://wandb.ai/nickojelly/grv_priced_sweep_custom_new_box/sweeps/8fweh2r2</a>"
      ],
      "text/plain": [
       "<IPython.core.display.HTML object>"
      ]
     },
     "metadata": {},
     "output_type": "display_data"
    },
    {
     "name": "stderr",
     "output_type": "stream",
     "text": [
      "  0%|          | 0/1000 [00:00<?, ?it/s]"
     ]
    },
    {
     "name": "stdout",
     "output_type": "stream",
     "text": [
      "{'batch_size': 1000, 'dropout': 0.5, 'epochs': 1000, 'f1_layer_size': 256, 'f2_layer_size': 64, 'l1_beta': 0.9268169912120172, 'learning_rate': 0.0005459024286766638, 'len_data': 142750, 'loss': 'L1', 'num_layers': 2, 'optimizer': 'adamW', 'validation_split': 0.1}\n",
      "1000\n",
      "{'batch_size': 1000, 'dropout': 0.5, 'epochs': 1000, 'f1_layer_size': 256, 'f2_layer_size': 64, 'l1_beta': 0.9268169912120172, 'learning_rate': 0.0005459024286766638, 'len_data': 142750, 'loss': 'L1', 'num_layers': 2, 'optimizer': 'adamW', 'validation_split': 0.1}\n",
      "adamW\n",
      "HERE\n",
      "Sequential(\n",
      "  (0): Linear(in_features=203, out_features=256, bias=True)\n",
      "  (1): ReLU()\n",
      "  (2): Dropout(p=0.5, inplace=False)\n",
      "  (3): Linear(in_features=256, out_features=64, bias=True)\n",
      "  (4): ReLU()\n",
      "  (5): Dropout(p=0.5, inplace=False)\n",
      "  (6): Linear(in_features=64, out_features=8, bias=True)\n",
      "  (7): Softmax(dim=1)\n",
      ")\n"
     ]
    },
    {
     "name": "stderr",
     "output_type": "stream",
     "text": [
      "  0%|          | 1/1000 [00:25<7:10:04, 25.83s/it]"
     ]
    },
    {
     "name": "stdout",
     "output_type": "stream",
     "text": [
      "created path\n"
     ]
    },
    {
     "name": "stderr",
     "output_type": "stream",
     "text": [
      " 72%|███████▏  | 722/1000 [1:18:50<42:59,  9.28s/it]  \u001b[34m\u001b[1mwandb\u001b[0m: Network error (HTTPError), entering retry loop.\n",
      "100%|██████████| 1000/1000 [1:48:54<00:00,  6.53s/it]\n"
     ]
    },
    {
     "name": "stdout",
     "output_type": "stream",
     "text": [
      "\n"
     ]
    },
    {
     "data": {
      "text/html": [
       "Waiting for W&B process to finish... <strong style=\"color:green\">(success).</strong>"
      ],
      "text/plain": [
       "<IPython.core.display.HTML object>"
      ]
     },
     "metadata": {},
     "output_type": "display_data"
    },
    {
     "data": {
      "application/vnd.jupyter.widget-view+json": {
       "model_id": "26e6a1a6e26d406681d96eeef9fe0266",
       "version_major": 2,
       "version_minor": 0
      },
      "text/plain": [
       "VBox(children=(Label(value='0.001 MB of 0.001 MB uploaded (0.000 MB deduped)\\r'), FloatProgress(value=1.0, max…"
      ]
     },
     "metadata": {},
     "output_type": "display_data"
    },
    {
     "data": {
      "text/html": [
       "<style>\n",
       "    table.wandb td:nth-child(1) { padding: 0 10px; text-align: right }\n",
       "    .wandb-row { display: flex; flex-direction: row; flex-wrap: wrap; width: 100% }\n",
       "    .wandb-col { display: flex; flex-direction: column; flex-basis: 100%; flex: 1; padding: 10px; }\n",
       "    </style>\n",
       "<div class=\"wandb-row\"><div class=\"wandb-col\"><h3>Run history:</h3><br/><table class=\"wandb\"><tr><td>bfOnlyBets</td><td>▁▇█▇▆▇▇▆▆▆▇▇▆▇▇▇▆▇█▇▆█▇▆▆▇▆▆▇▆▆▆▇▇▆▆▇▇▇▆</td></tr><tr><td>bfOnlyProfit</td><td>▃▁▄▁▃▃▂▄▄▃▃▆▅▃▄▅▄▄█▅▆█▄▄▆▄█▅█▅▆▅▄▇▇▇▇▅▆▅</td></tr><tr><td>bf_avail</td><td>▁▇███▇█▇▇▇▇█▇▇▇▇▇▇▇▇▇▇▇▇▇▇▇▇▇▇▇▇▇▇▇▆▇▇▇▆</td></tr><tr><td>bfnotavail</td><td>▁▇▇█▇▇▇▇▇▇▇▇▇▇▆▇▇▇▆▇▇▆▇▆▆▇▆▆▇▇▆▇▇▇▆▆▆▆▆▆</td></tr><tr><td>correct_conf</td><td>▁▅▅▅▆▆▆▆▆▆▆▆▇▇▇▇▇▇▇▇▇▇▇█▇▇▇█▇████████▇██</td></tr><tr><td>epoch</td><td>▁▁▁▁▂▂▂▂▂▃▃▃▃▃▃▄▄▄▄▄▅▅▅▅▅▅▆▆▆▆▆▇▇▇▇▇▇███</td></tr><tr><td>incorrect_conf</td><td>▁▅▅▅▆▅▆▆▆▆▆▆▇▇▇▇▇▇▇▇▇▇▇█▇▇▇█████████████</td></tr><tr><td>loss</td><td>██▇▇▇▆▇▅▅▅▆▄▄▃▅▄▄▃▅▅▃▄▃▄▃▃▄▃▄▄▂▂▃▂▂▃▃▃▁▂</td></tr><tr><td>num_bets_per</td><td>█▇▇▇▆▇▅▅▅▅▅▅▄▄▄▄▃▃▄▃▄▃▃▁▂▃▃▂▂▂▁▂▂▂▂▂▁▂▂▁</td></tr><tr><td>test_accuracy</td><td>▁▇██████▇▇▇█▇▇▇▇▇▇▇▇▇▇▇▇▇▇▇▇▇▇▇▇▇▇▇▇▇▇▇▆</td></tr><tr><td>test_val</td><td>█▂▁▁▁▁▁▁▁▂▂▁▁▂▁▂▁▂▂▂▂▂▂▂▂▂▂▂▂▂▂▂▂▂▂▃▂▂▃▃</td></tr><tr><td>value_pick_correct</td><td>▁▅▆▆▆▇▆▆▇▇▇▇▇▇▇▇▇▇▇████▇▇██████▇▇███████</td></tr><tr><td>value_pick_roi</td><td>▁▃▅▄▄▅▃▄▆▅▅▆▄▄▇▆▅▅▆▅██▅▅▅▆▆▆▇▅▆▅▅▇▇█▇███</td></tr><tr><td>zero_price</td><td>▁▁▁▁▁▁▁▁▁▁▁▁▁▁▁▁▁▁▁▁▁▁▁▁▁▁▁▁▁▁▁▁▁▁▁▁▁▁▁▁</td></tr></table><br/></div><div class=\"wandb-col\"><h3>Run summary:</h3><br/><table class=\"wandb\"><tr><td>alt_bet_1</td><td>nan</td></tr><tr><td>alt_bet_2</td><td>nan</td></tr><tr><td>bfOnlyBets</td><td>9503</td></tr><tr><td>bfOnlyProfit</td><td>222.84389</td></tr><tr><td>bf_avail</td><td>2529</td></tr><tr><td>bfnotavail</td><td>1194</td></tr><tr><td>correct_conf</td><td>0.34025</td></tr><tr><td>epoch</td><td>999</td></tr><tr><td>incorrect_conf</td><td>0.31364</td></tr><tr><td>num_bets_per</td><td>3.53163</td></tr><tr><td>profit</td><td>nan</td></tr><tr><td>test_val</td><td>6974</td></tr><tr><td>value_pick_correct</td><td>3337</td></tr><tr><td>value_pick_roi</td><td>-0.23661</td></tr><tr><td>zero_price</td><td>0</td></tr></table><br/></div></div>"
      ],
      "text/plain": [
       "<IPython.core.display.HTML object>"
      ]
     },
     "metadata": {},
     "output_type": "display_data"
    },
    {
     "data": {
      "text/html": [
       "Synced <strong style=\"color:#cdcd00\">gentle-sweep-6</strong>: <a href=\"https://wandb.ai/nickojelly/grv_priced_sweep_custom_new_box/runs/w11a147w\" target=\"_blank\">https://wandb.ai/nickojelly/grv_priced_sweep_custom_new_box/runs/w11a147w</a><br/>Synced 5 W&B file(s), 0 media file(s), 0 artifact file(s) and 0 other file(s)"
      ],
      "text/plain": [
       "<IPython.core.display.HTML object>"
      ]
     },
     "metadata": {},
     "output_type": "display_data"
    },
    {
     "data": {
      "text/html": [
       "Find logs at: <code>.\\wandb\\run-20221204_115558-w11a147w\\logs</code>"
      ],
      "text/plain": [
       "<IPython.core.display.HTML object>"
      ]
     },
     "metadata": {},
     "output_type": "display_data"
    },
    {
     "name": "stderr",
     "output_type": "stream",
     "text": [
      "\u001b[34m\u001b[1mwandb\u001b[0m: Agent Starting Run: ngsv2dwu with config:\n",
      "\u001b[34m\u001b[1mwandb\u001b[0m: \tbatch_size: 1000\n",
      "\u001b[34m\u001b[1mwandb\u001b[0m: \tdropout: 0.5\n",
      "\u001b[34m\u001b[1mwandb\u001b[0m: \tepochs: 1000\n",
      "\u001b[34m\u001b[1mwandb\u001b[0m: \tf1_layer_size: 256\n",
      "\u001b[34m\u001b[1mwandb\u001b[0m: \tf2_layer_size: 64\n",
      "\u001b[34m\u001b[1mwandb\u001b[0m: \tl1_beta: 0.06573896388910483\n",
      "\u001b[34m\u001b[1mwandb\u001b[0m: \tlearning_rate: 0.0008044093968809001\n",
      "\u001b[34m\u001b[1mwandb\u001b[0m: \tlen_data: 142750\n",
      "\u001b[34m\u001b[1mwandb\u001b[0m: \tloss: L1\n",
      "\u001b[34m\u001b[1mwandb\u001b[0m: \tnum_layers: 2\n",
      "\u001b[34m\u001b[1mwandb\u001b[0m: \toptimizer: adamW\n",
      "\u001b[34m\u001b[1mwandb\u001b[0m: \tvalidation_split: 0.1\n",
      "Failed to detect the name of this notebook, you can set it manually with the WANDB_NOTEBOOK_NAME environment variable to enable code saving.\n",
      "\u001b[34m\u001b[1mwandb\u001b[0m: \u001b[33mWARNING\u001b[0m Ignored wandb.init() arg project when running a sweep.\n"
     ]
    },
    {
     "data": {
      "text/html": [
       "wandb version 0.13.5 is available!  To upgrade, please run:\n",
       " $ pip install wandb --upgrade"
      ],
      "text/plain": [
       "<IPython.core.display.HTML object>"
      ]
     },
     "metadata": {},
     "output_type": "display_data"
    },
    {
     "data": {
      "text/html": [
       "Tracking run with wandb version 0.12.14"
      ],
      "text/plain": [
       "<IPython.core.display.HTML object>"
      ]
     },
     "metadata": {},
     "output_type": "display_data"
    },
    {
     "data": {
      "text/html": [
       "Run data is saved locally in <code>c:\\Users\\Nick\\Documents\\GitHub\\grvmodel\\Python\\pytorch\\New Model\\wandb\\run-20221204_134505-ngsv2dwu</code>"
      ],
      "text/plain": [
       "<IPython.core.display.HTML object>"
      ]
     },
     "metadata": {},
     "output_type": "display_data"
    },
    {
     "data": {
      "text/html": [
       "Syncing run <strong><a href=\"https://wandb.ai/nickojelly/grv_priced_sweep_custom_new_box/runs/ngsv2dwu\" target=\"_blank\">earthy-sweep-7</a></strong> to <a href=\"https://wandb.ai/nickojelly/grv_priced_sweep_custom_new_box\" target=\"_blank\">Weights & Biases</a> (<a href=\"https://wandb.me/run\" target=\"_blank\">docs</a>)<br/>Sweep page:  <a href=\"https://wandb.ai/nickojelly/grv_priced_sweep_custom_new_box/sweeps/8fweh2r2\" target=\"_blank\">https://wandb.ai/nickojelly/grv_priced_sweep_custom_new_box/sweeps/8fweh2r2</a>"
      ],
      "text/plain": [
       "<IPython.core.display.HTML object>"
      ]
     },
     "metadata": {},
     "output_type": "display_data"
    },
    {
     "name": "stderr",
     "output_type": "stream",
     "text": [
      "  0%|          | 0/1000 [00:00<?, ?it/s]"
     ]
    },
    {
     "name": "stdout",
     "output_type": "stream",
     "text": [
      "{'batch_size': 1000, 'dropout': 0.5, 'epochs': 1000, 'f1_layer_size': 256, 'f2_layer_size': 64, 'l1_beta': 0.06573896388910483, 'learning_rate': 0.0008044093968809001, 'len_data': 142750, 'loss': 'L1', 'num_layers': 2, 'optimizer': 'adamW', 'validation_split': 0.1}\n",
      "1000\n",
      "{'batch_size': 1000, 'dropout': 0.5, 'epochs': 1000, 'f1_layer_size': 256, 'f2_layer_size': 64, 'l1_beta': 0.06573896388910483, 'learning_rate': 0.0008044093968809001, 'len_data': 142750, 'loss': 'L1', 'num_layers': 2, 'optimizer': 'adamW', 'validation_split': 0.1}\n",
      "adamW\n",
      "HERE\n",
      "Sequential(\n",
      "  (0): Linear(in_features=203, out_features=256, bias=True)\n",
      "  (1): ReLU()\n",
      "  (2): Dropout(p=0.5, inplace=False)\n",
      "  (3): Linear(in_features=256, out_features=64, bias=True)\n",
      "  (4): ReLU()\n",
      "  (5): Dropout(p=0.5, inplace=False)\n",
      "  (6): Linear(in_features=64, out_features=8, bias=True)\n",
      "  (7): Softmax(dim=1)\n",
      ")\n"
     ]
    },
    {
     "name": "stderr",
     "output_type": "stream",
     "text": [
      "  0%|          | 1/1000 [00:27<7:32:06, 27.15s/it]"
     ]
    },
    {
     "name": "stdout",
     "output_type": "stream",
     "text": [
      "created path\n"
     ]
    },
    {
     "name": "stderr",
     "output_type": "stream",
     "text": [
      "100%|██████████| 1000/1000 [1:49:35<00:00,  6.58s/it] \n"
     ]
    },
    {
     "name": "stdout",
     "output_type": "stream",
     "text": [
      "\n"
     ]
    },
    {
     "data": {
      "text/html": [
       "Waiting for W&B process to finish... <strong style=\"color:green\">(success).</strong>"
      ],
      "text/plain": [
       "<IPython.core.display.HTML object>"
      ]
     },
     "metadata": {},
     "output_type": "display_data"
    },
    {
     "data": {
      "application/vnd.jupyter.widget-view+json": {
       "model_id": "3453b063b27f47e2a8d52cd8bdc8f0aa",
       "version_major": 2,
       "version_minor": 0
      },
      "text/plain": [
       "VBox(children=(Label(value='0.001 MB of 0.001 MB uploaded (0.000 MB deduped)\\r'), FloatProgress(value=1.0, max…"
      ]
     },
     "metadata": {},
     "output_type": "display_data"
    },
    {
     "data": {
      "text/html": [
       "<style>\n",
       "    table.wandb td:nth-child(1) { padding: 0 10px; text-align: right }\n",
       "    .wandb-row { display: flex; flex-direction: row; flex-wrap: wrap; width: 100% }\n",
       "    .wandb-col { display: flex; flex-direction: column; flex-basis: 100%; flex: 1; padding: 10px; }\n",
       "    </style>\n",
       "<div class=\"wandb-row\"><div class=\"wandb-col\"><h3>Run history:</h3><br/><table class=\"wandb\"><tr><td>bfOnlyBets</td><td>▁▆▇███▇██▇▇▆▇▇▇▆▇▅▅▄▆▆▅▇▇▅▆▇▆▅▆▇▆▆▆▇▅▇▇▇</td></tr><tr><td>bfOnlyProfit</td><td>▃▂▃▁▄▅▃▂▂▅▆▄▆▅▆▄▇▃▄▄▆▄▆▇▃▅▂▄▆▄▃▆█▇▄▇▆▆█▅</td></tr><tr><td>bf_avail</td><td>▁▇████▇▇▇▇▇▇▇█▇▇▇▆▇▇▇▇▇▇▇▇▆▇▇▇▆▆▇▇▆▇▇▆▇▆</td></tr><tr><td>bfnotavail</td><td>▁▇█▇███▇▇▇█▇▇▇▇▇▇▆▇▇▇▇▇▆▇▇▆▆▆▆▆▆▆▆▆▆▆▆▆▆</td></tr><tr><td>correct_conf</td><td>▁▅▅▆▆▆▇▇▇▇▇▇▇▇▇▇▇█▇▇▇█▇▇▇▇█▇█████▇██████</td></tr><tr><td>epoch</td><td>▁▁▁▁▂▂▂▂▂▃▃▃▃▃▃▄▄▄▄▄▅▅▅▅▅▅▆▆▆▆▆▇▇▇▇▇▇███</td></tr><tr><td>incorrect_conf</td><td>▁▅▅▅▆▆▆▆▆▆▆▆▇▇▇▇▇█▇▇▇█▇▇▇▇▇▇████████████</td></tr><tr><td>loss</td><td>██▆▇▅▅▅▅▄▅▅▃▄▄▄▃▃▂▃▄▂▂▃▂▃▂▃▂▃▂▂▁▂▁▁▃▂▂▂▂</td></tr><tr><td>num_bets_per</td><td>█▅▅▄▄▄▃▃▃▄▃▄▃▂▃▂▃▂▃▂▃▂▂▂▂▂▂▂▂▁▁▁▁▂▁▂▁▁▁▁</td></tr><tr><td>test_accuracy</td><td>▁▇████▇▇▇▇█▇▇▇▇▇▇▆▇▇▇▇▇▇▇▇▆▇▇▇▆▆▇▇▆▇▇▆▆▆</td></tr><tr><td>test_val</td><td>█▂▁▁▁▁▂▂▂▂▁▂▂▁▂▂▂▂▂▂▂▂▂▂▃▂▃▂▂▂▃▃▂▂▂▂▂▃▂▃</td></tr><tr><td>value_pick_correct</td><td>▁▅▆▆▆▆▆▇▆▇▆▇▇▇▇▇▇▇▇▇▇▇▇▇▇▇▇▇▇█▇▇█▇███▇▇█</td></tr><tr><td>value_pick_roi</td><td>▂▅▆▅▅▄▃▃▁▃▂▄▅▄▃▆▅▄▅▄▂▆▅▄▆▃▅▅▆▅▅▅▆▅▇▅▅▅▅█</td></tr><tr><td>zero_price</td><td>▁▁▁▁▁▁▁▁▁▁▁▁▁▁▁▁▁▁▁▁▁▁▁▁▁▁▁▁▁▁▁▁▁▁▁▁▁▁▁▁</td></tr></table><br/></div><div class=\"wandb-col\"><h3>Run summary:</h3><br/><table class=\"wandb\"><tr><td>alt_bet_1</td><td>nan</td></tr><tr><td>alt_bet_2</td><td>nan</td></tr><tr><td>bfOnlyBets</td><td>9521</td></tr><tr><td>bfOnlyProfit</td><td>110.2913</td></tr><tr><td>bf_avail</td><td>2509</td></tr><tr><td>bfnotavail</td><td>1194</td></tr><tr><td>correct_conf</td><td>0.46381</td></tr><tr><td>epoch</td><td>999</td></tr><tr><td>incorrect_conf</td><td>0.41784</td></tr><tr><td>num_bets_per</td><td>3.06431</td></tr><tr><td>profit</td><td>nan</td></tr><tr><td>test_val</td><td>7012</td></tr><tr><td>value_pick_correct</td><td>3633</td></tr><tr><td>value_pick_roi</td><td>-0.23598</td></tr><tr><td>zero_price</td><td>0</td></tr></table><br/></div></div>"
      ],
      "text/plain": [
       "<IPython.core.display.HTML object>"
      ]
     },
     "metadata": {},
     "output_type": "display_data"
    },
    {
     "data": {
      "text/html": [
       "Synced <strong style=\"color:#cdcd00\">earthy-sweep-7</strong>: <a href=\"https://wandb.ai/nickojelly/grv_priced_sweep_custom_new_box/runs/ngsv2dwu\" target=\"_blank\">https://wandb.ai/nickojelly/grv_priced_sweep_custom_new_box/runs/ngsv2dwu</a><br/>Synced 5 W&B file(s), 0 media file(s), 0 artifact file(s) and 0 other file(s)"
      ],
      "text/plain": [
       "<IPython.core.display.HTML object>"
      ]
     },
     "metadata": {},
     "output_type": "display_data"
    },
    {
     "data": {
      "text/html": [
       "Find logs at: <code>.\\wandb\\run-20221204_134505-ngsv2dwu\\logs</code>"
      ],
      "text/plain": [
       "<IPython.core.display.HTML object>"
      ]
     },
     "metadata": {},
     "output_type": "display_data"
    },
    {
     "name": "stderr",
     "output_type": "stream",
     "text": [
      "\u001b[34m\u001b[1mwandb\u001b[0m: Agent Starting Run: 5t64esw1 with config:\n",
      "\u001b[34m\u001b[1mwandb\u001b[0m: \tbatch_size: 1000\n",
      "\u001b[34m\u001b[1mwandb\u001b[0m: \tdropout: 0.3\n",
      "\u001b[34m\u001b[1mwandb\u001b[0m: \tepochs: 1000\n",
      "\u001b[34m\u001b[1mwandb\u001b[0m: \tf1_layer_size: 256\n",
      "\u001b[34m\u001b[1mwandb\u001b[0m: \tf2_layer_size: 64\n",
      "\u001b[34m\u001b[1mwandb\u001b[0m: \tl1_beta: 0.4842017547642301\n",
      "\u001b[34m\u001b[1mwandb\u001b[0m: \tlearning_rate: 0.0008491742118335291\n",
      "\u001b[34m\u001b[1mwandb\u001b[0m: \tlen_data: 142750\n",
      "\u001b[34m\u001b[1mwandb\u001b[0m: \tloss: L1\n",
      "\u001b[34m\u001b[1mwandb\u001b[0m: \tnum_layers: 2\n",
      "\u001b[34m\u001b[1mwandb\u001b[0m: \toptimizer: adamW\n",
      "\u001b[34m\u001b[1mwandb\u001b[0m: \tvalidation_split: 0.1\n",
      "Failed to detect the name of this notebook, you can set it manually with the WANDB_NOTEBOOK_NAME environment variable to enable code saving.\n",
      "\u001b[34m\u001b[1mwandb\u001b[0m: \u001b[33mWARNING\u001b[0m Ignored wandb.init() arg project when running a sweep.\n"
     ]
    },
    {
     "data": {
      "text/html": [
       "wandb version 0.13.5 is available!  To upgrade, please run:\n",
       " $ pip install wandb --upgrade"
      ],
      "text/plain": [
       "<IPython.core.display.HTML object>"
      ]
     },
     "metadata": {},
     "output_type": "display_data"
    },
    {
     "data": {
      "text/html": [
       "Tracking run with wandb version 0.12.14"
      ],
      "text/plain": [
       "<IPython.core.display.HTML object>"
      ]
     },
     "metadata": {},
     "output_type": "display_data"
    },
    {
     "data": {
      "text/html": [
       "Run data is saved locally in <code>c:\\Users\\Nick\\Documents\\GitHub\\grvmodel\\Python\\pytorch\\New Model\\wandb\\run-20221204_153450-5t64esw1</code>"
      ],
      "text/plain": [
       "<IPython.core.display.HTML object>"
      ]
     },
     "metadata": {},
     "output_type": "display_data"
    },
    {
     "data": {
      "text/html": [
       "Syncing run <strong><a href=\"https://wandb.ai/nickojelly/grv_priced_sweep_custom_new_box/runs/5t64esw1\" target=\"_blank\">summer-sweep-8</a></strong> to <a href=\"https://wandb.ai/nickojelly/grv_priced_sweep_custom_new_box\" target=\"_blank\">Weights & Biases</a> (<a href=\"https://wandb.me/run\" target=\"_blank\">docs</a>)<br/>Sweep page:  <a href=\"https://wandb.ai/nickojelly/grv_priced_sweep_custom_new_box/sweeps/8fweh2r2\" target=\"_blank\">https://wandb.ai/nickojelly/grv_priced_sweep_custom_new_box/sweeps/8fweh2r2</a>"
      ],
      "text/plain": [
       "<IPython.core.display.HTML object>"
      ]
     },
     "metadata": {},
     "output_type": "display_data"
    },
    {
     "name": "stderr",
     "output_type": "stream",
     "text": [
      "  0%|          | 0/1000 [00:00<?, ?it/s]"
     ]
    },
    {
     "name": "stdout",
     "output_type": "stream",
     "text": [
      "{'batch_size': 1000, 'dropout': 0.3, 'epochs': 1000, 'f1_layer_size': 256, 'f2_layer_size': 64, 'l1_beta': 0.4842017547642301, 'learning_rate': 0.0008491742118335291, 'len_data': 142750, 'loss': 'L1', 'num_layers': 2, 'optimizer': 'adamW', 'validation_split': 0.1}\n",
      "1000\n",
      "{'batch_size': 1000, 'dropout': 0.3, 'epochs': 1000, 'f1_layer_size': 256, 'f2_layer_size': 64, 'l1_beta': 0.4842017547642301, 'learning_rate': 0.0008491742118335291, 'len_data': 142750, 'loss': 'L1', 'num_layers': 2, 'optimizer': 'adamW', 'validation_split': 0.1}\n",
      "adamW\n",
      "HERE\n",
      "Sequential(\n",
      "  (0): Linear(in_features=203, out_features=256, bias=True)\n",
      "  (1): ReLU()\n",
      "  (2): Dropout(p=0.3, inplace=False)\n",
      "  (3): Linear(in_features=256, out_features=64, bias=True)\n",
      "  (4): ReLU()\n",
      "  (5): Dropout(p=0.3, inplace=False)\n",
      "  (6): Linear(in_features=64, out_features=8, bias=True)\n",
      "  (7): Softmax(dim=1)\n",
      ")\n"
     ]
    },
    {
     "name": "stderr",
     "output_type": "stream",
     "text": [
      "  0%|          | 1/1000 [00:26<7:13:05, 26.01s/it]"
     ]
    },
    {
     "name": "stdout",
     "output_type": "stream",
     "text": [
      "created path\n"
     ]
    },
    {
     "name": "stderr",
     "output_type": "stream",
     "text": [
      "100%|██████████| 1000/1000 [2:14:45<00:00,  8.09s/it] \n"
     ]
    },
    {
     "name": "stdout",
     "output_type": "stream",
     "text": [
      "\n"
     ]
    },
    {
     "data": {
      "text/html": [
       "Waiting for W&B process to finish... <strong style=\"color:green\">(success).</strong>"
      ],
      "text/plain": [
       "<IPython.core.display.HTML object>"
      ]
     },
     "metadata": {},
     "output_type": "display_data"
    },
    {
     "data": {
      "application/vnd.jupyter.widget-view+json": {
       "model_id": "b5c6e9c451374c098d81ebd8cc61c3df",
       "version_major": 2,
       "version_minor": 0
      },
      "text/plain": [
       "VBox(children=(Label(value='0.001 MB of 0.001 MB uploaded (0.000 MB deduped)\\r'), FloatProgress(value=1.0, max…"
      ]
     },
     "metadata": {},
     "output_type": "display_data"
    },
    {
     "data": {
      "text/html": [
       "<style>\n",
       "    table.wandb td:nth-child(1) { padding: 0 10px; text-align: right }\n",
       "    .wandb-row { display: flex; flex-direction: row; flex-wrap: wrap; width: 100% }\n",
       "    .wandb-col { display: flex; flex-direction: column; flex-basis: 100%; flex: 1; padding: 10px; }\n",
       "    </style>\n",
       "<div class=\"wandb-row\"><div class=\"wandb-col\"><h3>Run history:</h3><br/><table class=\"wandb\"><tr><td>bfOnlyBets</td><td>▁▇▆▆▆█▆▇▆▆▇▅▇▆▆▆▆▅▆▆▅▇▆▆▅▅▇▇▆▇▆▇▇▇█▇▇██▇</td></tr><tr><td>bfOnlyProfit</td><td>▅▃▃▄▅▅▆▃▆▄▂▄▃▃▁▂▂▃▅▂▄▄▃▄▄▂▁▄▆▅▃▂▅▅▅▅▆▆█▄</td></tr><tr><td>bf_avail</td><td>▁█████▇▇█▇▇▇▇▇▇▇▆▇▆▆▇▆▆▆▆▆▆▆▆▆▆▆▆▆▆▆▆▆▆▆</td></tr><tr><td>bfnotavail</td><td>▁▇██▇▇▇▇▇▇▇▇▇▇▇▇▇▇▇▆▇▆▆▆▆▆▆▆▅▆▆▆▆▆▆▅▅▅▅▅</td></tr><tr><td>correct_conf</td><td>▁▄▅▅▆▆▆▆▆▆▆▆▇▇▇▇▇▇▇▇▇▇▇▇█▇▇▇▇▇█▇▇█▇█████</td></tr><tr><td>epoch</td><td>▁▁▁▁▂▂▂▂▂▃▃▃▃▃▃▄▄▄▄▄▅▅▅▅▅▅▆▆▆▆▆▇▇▇▇▇▇███</td></tr><tr><td>incorrect_conf</td><td>▁▄▅▅▆▅▅▆▆▆▆▆▇▆▇▇▇▇▇▇▇▇▇▇█▇▇▇▇▇█▇▇▇▇█████</td></tr><tr><td>loss</td><td>██▇▇▆▆▆▅▅▆▄▄▆▃▄▄▅▄▃▅▃▄▃▃▃▂▃▃▂▃▂▃▂▃▃▃▃▁▁▁</td></tr><tr><td>num_bets_per</td><td>██▇▆▅▆▅▅▅▅▄▄▃▄▃▃▃▃▃▃▃▃▂▂▂▃▃▂▂▂▂▂▂▂▂▂▁▂▂▁</td></tr><tr><td>test_accuracy</td><td>▁████▇▇▇▇▇▇▇▇▇▇▇▇▇▆▆▇▆▆▆▆▆▆▆▆▆▆▆▆▆▆▆▆▆▆▆</td></tr><tr><td>test_val</td><td>█▁▁▁▁▂▂▂▁▂▂▂▃▂▃▃▃▂▃▃▂▃▃▃▃▃▃▃▃▃▃▃▃▃▃▃▃▄▄▃</td></tr><tr><td>value_pick_correct</td><td>▁▅▆▆▆▆▇▇▇▇▇▇▇▇▇█▇▇▇▇▇▇▇▇▇█▇█████████▇▇██</td></tr><tr><td>value_pick_roi</td><td>▁▃▄▃▄▄▅▄▅▄▅▅▄▇▇▆▆▅▄▆▆▅▄▆▅▆▅█▇█▆▆▆▇▇▇▆▅▆▆</td></tr><tr><td>zero_price</td><td>▁▁▁▁▁▁▁▁▁▁▁▁▁▁▁▁▁▁▁▁▁▁▁▁▁▁▁▁▁▁▁▁▁▁▁▁▁▁▁▁</td></tr></table><br/></div><div class=\"wandb-col\"><h3>Run summary:</h3><br/><table class=\"wandb\"><tr><td>alt_bet_1</td><td>nan</td></tr><tr><td>alt_bet_2</td><td>nan</td></tr><tr><td>bfOnlyBets</td><td>9550</td></tr><tr><td>bfOnlyProfit</td><td>-141.07923</td></tr><tr><td>bf_avail</td><td>2470</td></tr><tr><td>bfnotavail</td><td>1153</td></tr><tr><td>correct_conf</td><td>0.36417</td></tr><tr><td>epoch</td><td>999</td></tr><tr><td>incorrect_conf</td><td>0.3403</td></tr><tr><td>num_bets_per</td><td>3.37954</td></tr><tr><td>profit</td><td>nan</td></tr><tr><td>test_val</td><td>7080</td></tr><tr><td>value_pick_correct</td><td>3327</td></tr><tr><td>value_pick_roi</td><td>-0.24125</td></tr><tr><td>zero_price</td><td>0</td></tr></table><br/></div></div>"
      ],
      "text/plain": [
       "<IPython.core.display.HTML object>"
      ]
     },
     "metadata": {},
     "output_type": "display_data"
    },
    {
     "data": {
      "text/html": [
       "Synced <strong style=\"color:#cdcd00\">summer-sweep-8</strong>: <a href=\"https://wandb.ai/nickojelly/grv_priced_sweep_custom_new_box/runs/5t64esw1\" target=\"_blank\">https://wandb.ai/nickojelly/grv_priced_sweep_custom_new_box/runs/5t64esw1</a><br/>Synced 5 W&B file(s), 0 media file(s), 0 artifact file(s) and 0 other file(s)"
      ],
      "text/plain": [
       "<IPython.core.display.HTML object>"
      ]
     },
     "metadata": {},
     "output_type": "display_data"
    },
    {
     "data": {
      "text/html": [
       "Find logs at: <code>.\\wandb\\run-20221204_153450-5t64esw1\\logs</code>"
      ],
      "text/plain": [
       "<IPython.core.display.HTML object>"
      ]
     },
     "metadata": {},
     "output_type": "display_data"
    },
    {
     "name": "stderr",
     "output_type": "stream",
     "text": [
      "\u001b[34m\u001b[1mwandb\u001b[0m: Sweep Agent: Waiting for job.\n",
      "\u001b[34m\u001b[1mwandb\u001b[0m: Job received.\n",
      "\u001b[34m\u001b[1mwandb\u001b[0m: Agent Starting Run: 9qi8yj8y with config:\n",
      "\u001b[34m\u001b[1mwandb\u001b[0m: \tbatch_size: 1000\n",
      "\u001b[34m\u001b[1mwandb\u001b[0m: \tdropout: 0.4\n",
      "\u001b[34m\u001b[1mwandb\u001b[0m: \tepochs: 1000\n",
      "\u001b[34m\u001b[1mwandb\u001b[0m: \tf1_layer_size: 256\n",
      "\u001b[34m\u001b[1mwandb\u001b[0m: \tf2_layer_size: 64\n",
      "\u001b[34m\u001b[1mwandb\u001b[0m: \tl1_beta: 0.4310195150457912\n",
      "\u001b[34m\u001b[1mwandb\u001b[0m: \tlearning_rate: 0.0006670365665654402\n",
      "\u001b[34m\u001b[1mwandb\u001b[0m: \tlen_data: 142750\n",
      "\u001b[34m\u001b[1mwandb\u001b[0m: \tloss: L1\n",
      "\u001b[34m\u001b[1mwandb\u001b[0m: \tnum_layers: 2\n",
      "\u001b[34m\u001b[1mwandb\u001b[0m: \toptimizer: adamW\n",
      "\u001b[34m\u001b[1mwandb\u001b[0m: \tvalidation_split: 0.1\n",
      "Failed to detect the name of this notebook, you can set it manually with the WANDB_NOTEBOOK_NAME environment variable to enable code saving.\n",
      "\u001b[34m\u001b[1mwandb\u001b[0m: \u001b[33mWARNING\u001b[0m Ignored wandb.init() arg project when running a sweep.\n"
     ]
    },
    {
     "data": {
      "text/html": [
       "wandb version 0.13.5 is available!  To upgrade, please run:\n",
       " $ pip install wandb --upgrade"
      ],
      "text/plain": [
       "<IPython.core.display.HTML object>"
      ]
     },
     "metadata": {},
     "output_type": "display_data"
    },
    {
     "data": {
      "text/html": [
       "Tracking run with wandb version 0.12.14"
      ],
      "text/plain": [
       "<IPython.core.display.HTML object>"
      ]
     },
     "metadata": {},
     "output_type": "display_data"
    },
    {
     "data": {
      "text/html": [
       "Run data is saved locally in <code>c:\\Users\\Nick\\Documents\\GitHub\\grvmodel\\Python\\pytorch\\New Model\\wandb\\run-20221204_174954-9qi8yj8y</code>"
      ],
      "text/plain": [
       "<IPython.core.display.HTML object>"
      ]
     },
     "metadata": {},
     "output_type": "display_data"
    },
    {
     "data": {
      "text/html": [
       "Syncing run <strong><a href=\"https://wandb.ai/nickojelly/grv_priced_sweep_custom_new_box/runs/9qi8yj8y\" target=\"_blank\">fearless-sweep-9</a></strong> to <a href=\"https://wandb.ai/nickojelly/grv_priced_sweep_custom_new_box\" target=\"_blank\">Weights & Biases</a> (<a href=\"https://wandb.me/run\" target=\"_blank\">docs</a>)<br/>Sweep page:  <a href=\"https://wandb.ai/nickojelly/grv_priced_sweep_custom_new_box/sweeps/8fweh2r2\" target=\"_blank\">https://wandb.ai/nickojelly/grv_priced_sweep_custom_new_box/sweeps/8fweh2r2</a>"
      ],
      "text/plain": [
       "<IPython.core.display.HTML object>"
      ]
     },
     "metadata": {},
     "output_type": "display_data"
    },
    {
     "name": "stderr",
     "output_type": "stream",
     "text": [
      "  0%|          | 0/1000 [00:00<?, ?it/s]"
     ]
    },
    {
     "name": "stdout",
     "output_type": "stream",
     "text": [
      "{'batch_size': 1000, 'dropout': 0.4, 'epochs': 1000, 'f1_layer_size': 256, 'f2_layer_size': 64, 'l1_beta': 0.4310195150457912, 'learning_rate': 0.0006670365665654402, 'len_data': 142750, 'loss': 'L1', 'num_layers': 2, 'optimizer': 'adamW', 'validation_split': 0.1}\n",
      "1000\n",
      "{'batch_size': 1000, 'dropout': 0.4, 'epochs': 1000, 'f1_layer_size': 256, 'f2_layer_size': 64, 'l1_beta': 0.4310195150457912, 'learning_rate': 0.0006670365665654402, 'len_data': 142750, 'loss': 'L1', 'num_layers': 2, 'optimizer': 'adamW', 'validation_split': 0.1}\n",
      "adamW\n",
      "HERE\n",
      "Sequential(\n",
      "  (0): Linear(in_features=203, out_features=256, bias=True)\n",
      "  (1): ReLU()\n",
      "  (2): Dropout(p=0.4, inplace=False)\n",
      "  (3): Linear(in_features=256, out_features=64, bias=True)\n",
      "  (4): ReLU()\n",
      "  (5): Dropout(p=0.4, inplace=False)\n",
      "  (6): Linear(in_features=64, out_features=8, bias=True)\n",
      "  (7): Softmax(dim=1)\n",
      ")\n"
     ]
    },
    {
     "name": "stderr",
     "output_type": "stream",
     "text": [
      "  0%|          | 1/1000 [00:27<7:33:26, 27.23s/it]"
     ]
    },
    {
     "name": "stdout",
     "output_type": "stream",
     "text": [
      "created path\n"
     ]
    },
    {
     "name": "stderr",
     "output_type": "stream",
     "text": [
      "100%|██████████| 1000/1000 [2:06:00<00:00,  7.56s/it] \n"
     ]
    },
    {
     "name": "stdout",
     "output_type": "stream",
     "text": [
      "\n"
     ]
    },
    {
     "data": {
      "text/html": [
       "Waiting for W&B process to finish... <strong style=\"color:green\">(success).</strong>"
      ],
      "text/plain": [
       "<IPython.core.display.HTML object>"
      ]
     },
     "metadata": {},
     "output_type": "display_data"
    },
    {
     "data": {
      "application/vnd.jupyter.widget-view+json": {
       "model_id": "2be3cff55e494992859dd9fae3e60fdc",
       "version_major": 2,
       "version_minor": 0
      },
      "text/plain": [
       "VBox(children=(Label(value='0.001 MB of 0.001 MB uploaded (0.000 MB deduped)\\r'), FloatProgress(value=1.0, max…"
      ]
     },
     "metadata": {},
     "output_type": "display_data"
    },
    {
     "data": {
      "text/html": [
       "<style>\n",
       "    table.wandb td:nth-child(1) { padding: 0 10px; text-align: right }\n",
       "    .wandb-row { display: flex; flex-direction: row; flex-wrap: wrap; width: 100% }\n",
       "    .wandb-col { display: flex; flex-direction: column; flex-basis: 100%; flex: 1; padding: 10px; }\n",
       "    </style>\n",
       "<div class=\"wandb-row\"><div class=\"wandb-col\"><h3>Run history:</h3><br/><table class=\"wandb\"><tr><td>bfOnlyBets</td><td>▁▇▇▆▅▅▇▇▆▆▆▅▇▆▆▇▆▅▇▆▇▆▆█▇▇▇▆▇▅▆▇▇▆▇▅▇▆▇▇</td></tr><tr><td>bfOnlyProfit</td><td>▅▂▄▅▄▃▃▂▅▇▄▃▄▄▄▅▃▄▄▂▂▁▄▄▄▃▃▆▃▄▅▅▄▃█▅▄▄▄▆</td></tr><tr><td>bf_avail</td><td>▁█▇██▇▇▇▇▇▆▇▇▇▆▆▆▇▇▆▆▆▆▆▆▆▆▆▆▆▆▆▆▆▆▆▆▆▆▆</td></tr><tr><td>bfnotavail</td><td>▁█▇██▇▇▇▇▇▇▇▇▆▆▇▆▆▆▆▆▆▆▆▅▆▆▆▆▆▆▆▆▆▅▆▆▆▆▅</td></tr><tr><td>correct_conf</td><td>▁▅▅▅▆▆▆▆▇▆▇▇▇▇▇▇▇▇▇▇▇▇▇▇█▇▇██▇██████████</td></tr><tr><td>epoch</td><td>▁▁▁▁▂▂▂▂▂▃▃▃▃▃▃▄▄▄▄▄▅▅▅▅▅▅▆▆▆▆▆▇▇▇▇▇▇███</td></tr><tr><td>incorrect_conf</td><td>▁▄▅▅▅▆▆▆▇▆▇▇▇▇▇▇▇▇▇▇▇▇▇▇█▇▇██▇██████████</td></tr><tr><td>loss</td><td>█▇▇▇▆▅▅▅▅▅▄▃▄▃▃▃▃▃▃▃▂▃▃▂▂▃▂▂▂▂▂▂▂▂▁▂▁▂▁▂</td></tr><tr><td>num_bets_per</td><td>█▇▆▆▆▅▅▅▄▅▃▄▃▃▂▃▃▃▃▃▃▂▂▃▁▂▃▂▂▂▁▁▂▁▂▂▁▁▁▂</td></tr><tr><td>test_accuracy</td><td>▁████▇▇▇▇▇▇▇▇▇▆▇▆▇▇▆▆▆▆▆▆▆▆▆▆▆▆▆▆▆▆▆▆▆▆▆</td></tr><tr><td>test_val</td><td>█▂▂▁▁▂▂▂▃▂▃▂▂▃▃▃▃▂▃▃▃▃▃▃▃▃▄▃▃▃▃▄▃▃▃▃▃▄▄▄</td></tr><tr><td>value_pick_correct</td><td>▁▅▆▆▆▇▆▇▆▇▇▇▇▇▇▇▇▇▇▇▇▇▇▇▇▇▇█▇▇▇█▇▇▇▇▇███</td></tr><tr><td>value_pick_roi</td><td>▁▆▅▅▅▆▄▆▄▆▅▇▇█▇▅▇▅▅▄▄▄▆▆▆▆▅▇▅▄▅▅▂▄▄▄▄▆▅█</td></tr><tr><td>zero_price</td><td>▁▁▁▁▁▁▁▁▁▁▁▁▁▁▁▁▁▁▁▁▁▁▁▁▁▁▁▁▁▁▁▁▁▁▁▁▁▁▁▁</td></tr></table><br/></div><div class=\"wandb-col\"><h3>Run summary:</h3><br/><table class=\"wandb\"><tr><td>alt_bet_1</td><td>nan</td></tr><tr><td>alt_bet_2</td><td>nan</td></tr><tr><td>bfOnlyBets</td><td>9532</td></tr><tr><td>bfOnlyProfit</td><td>126.07721</td></tr><tr><td>bf_avail</td><td>2460</td></tr><tr><td>bfnotavail</td><td>1169</td></tr><tr><td>correct_conf</td><td>0.35325</td></tr><tr><td>epoch</td><td>999</td></tr><tr><td>incorrect_conf</td><td>0.32795</td></tr><tr><td>num_bets_per</td><td>3.47356</td></tr><tr><td>profit</td><td>nan</td></tr><tr><td>test_val</td><td>7072</td></tr><tr><td>value_pick_correct</td><td>3369</td></tr><tr><td>value_pick_roi</td><td>-0.24261</td></tr><tr><td>zero_price</td><td>0</td></tr></table><br/></div></div>"
      ],
      "text/plain": [
       "<IPython.core.display.HTML object>"
      ]
     },
     "metadata": {},
     "output_type": "display_data"
    },
    {
     "data": {
      "text/html": [
       "Synced <strong style=\"color:#cdcd00\">fearless-sweep-9</strong>: <a href=\"https://wandb.ai/nickojelly/grv_priced_sweep_custom_new_box/runs/9qi8yj8y\" target=\"_blank\">https://wandb.ai/nickojelly/grv_priced_sweep_custom_new_box/runs/9qi8yj8y</a><br/>Synced 5 W&B file(s), 0 media file(s), 0 artifact file(s) and 0 other file(s)"
      ],
      "text/plain": [
       "<IPython.core.display.HTML object>"
      ]
     },
     "metadata": {},
     "output_type": "display_data"
    },
    {
     "data": {
      "text/html": [
       "Find logs at: <code>.\\wandb\\run-20221204_174954-9qi8yj8y\\logs</code>"
      ],
      "text/plain": [
       "<IPython.core.display.HTML object>"
      ]
     },
     "metadata": {},
     "output_type": "display_data"
    },
    {
     "name": "stderr",
     "output_type": "stream",
     "text": [
      "\u001b[34m\u001b[1mwandb\u001b[0m: Agent Starting Run: lj55rlfo with config:\n",
      "\u001b[34m\u001b[1mwandb\u001b[0m: \tbatch_size: 1000\n",
      "\u001b[34m\u001b[1mwandb\u001b[0m: \tdropout: 0.5\n",
      "\u001b[34m\u001b[1mwandb\u001b[0m: \tepochs: 1000\n",
      "\u001b[34m\u001b[1mwandb\u001b[0m: \tf1_layer_size: 256\n",
      "\u001b[34m\u001b[1mwandb\u001b[0m: \tf2_layer_size: 64\n",
      "\u001b[34m\u001b[1mwandb\u001b[0m: \tl1_beta: 0.8821947669500644\n",
      "\u001b[34m\u001b[1mwandb\u001b[0m: \tlearning_rate: 0.0003606889980485294\n",
      "\u001b[34m\u001b[1mwandb\u001b[0m: \tlen_data: 142750\n",
      "\u001b[34m\u001b[1mwandb\u001b[0m: \tloss: L1\n",
      "\u001b[34m\u001b[1mwandb\u001b[0m: \tnum_layers: 2\n",
      "\u001b[34m\u001b[1mwandb\u001b[0m: \toptimizer: adamW\n",
      "\u001b[34m\u001b[1mwandb\u001b[0m: \tvalidation_split: 0.1\n",
      "Failed to detect the name of this notebook, you can set it manually with the WANDB_NOTEBOOK_NAME environment variable to enable code saving.\n",
      "\u001b[34m\u001b[1mwandb\u001b[0m: \u001b[33mWARNING\u001b[0m Ignored wandb.init() arg project when running a sweep.\n"
     ]
    },
    {
     "data": {
      "text/html": [
       "wandb version 0.13.5 is available!  To upgrade, please run:\n",
       " $ pip install wandb --upgrade"
      ],
      "text/plain": [
       "<IPython.core.display.HTML object>"
      ]
     },
     "metadata": {},
     "output_type": "display_data"
    },
    {
     "data": {
      "text/html": [
       "Tracking run with wandb version 0.12.14"
      ],
      "text/plain": [
       "<IPython.core.display.HTML object>"
      ]
     },
     "metadata": {},
     "output_type": "display_data"
    },
    {
     "data": {
      "text/html": [
       "Run data is saved locally in <code>c:\\Users\\Nick\\Documents\\GitHub\\grvmodel\\Python\\pytorch\\New Model\\wandb\\run-20221204_195607-lj55rlfo</code>"
      ],
      "text/plain": [
       "<IPython.core.display.HTML object>"
      ]
     },
     "metadata": {},
     "output_type": "display_data"
    },
    {
     "data": {
      "text/html": [
       "Syncing run <strong><a href=\"https://wandb.ai/nickojelly/grv_priced_sweep_custom_new_box/runs/lj55rlfo\" target=\"_blank\">tough-sweep-10</a></strong> to <a href=\"https://wandb.ai/nickojelly/grv_priced_sweep_custom_new_box\" target=\"_blank\">Weights & Biases</a> (<a href=\"https://wandb.me/run\" target=\"_blank\">docs</a>)<br/>Sweep page:  <a href=\"https://wandb.ai/nickojelly/grv_priced_sweep_custom_new_box/sweeps/8fweh2r2\" target=\"_blank\">https://wandb.ai/nickojelly/grv_priced_sweep_custom_new_box/sweeps/8fweh2r2</a>"
      ],
      "text/plain": [
       "<IPython.core.display.HTML object>"
      ]
     },
     "metadata": {},
     "output_type": "display_data"
    },
    {
     "name": "stderr",
     "output_type": "stream",
     "text": [
      "  0%|          | 0/1000 [00:00<?, ?it/s]"
     ]
    },
    {
     "name": "stdout",
     "output_type": "stream",
     "text": [
      "{'batch_size': 1000, 'dropout': 0.5, 'epochs': 1000, 'f1_layer_size': 256, 'f2_layer_size': 64, 'l1_beta': 0.8821947669500644, 'learning_rate': 0.0003606889980485294, 'len_data': 142750, 'loss': 'L1', 'num_layers': 2, 'optimizer': 'adamW', 'validation_split': 0.1}\n",
      "1000\n",
      "{'batch_size': 1000, 'dropout': 0.5, 'epochs': 1000, 'f1_layer_size': 256, 'f2_layer_size': 64, 'l1_beta': 0.8821947669500644, 'learning_rate': 0.0003606889980485294, 'len_data': 142750, 'loss': 'L1', 'num_layers': 2, 'optimizer': 'adamW', 'validation_split': 0.1}\n",
      "adamW\n",
      "HERE\n",
      "Sequential(\n",
      "  (0): Linear(in_features=203, out_features=256, bias=True)\n",
      "  (1): ReLU()\n",
      "  (2): Dropout(p=0.5, inplace=False)\n",
      "  (3): Linear(in_features=256, out_features=64, bias=True)\n",
      "  (4): ReLU()\n",
      "  (5): Dropout(p=0.5, inplace=False)\n",
      "  (6): Linear(in_features=64, out_features=8, bias=True)\n",
      "  (7): Softmax(dim=1)\n",
      ")\n"
     ]
    },
    {
     "name": "stderr",
     "output_type": "stream",
     "text": [
      "  0%|          | 1/1000 [00:25<7:07:03, 25.65s/it]"
     ]
    },
    {
     "name": "stdout",
     "output_type": "stream",
     "text": [
      "created path\n"
     ]
    },
    {
     "name": "stderr",
     "output_type": "stream",
     "text": [
      "100%|██████████| 1000/1000 [1:47:25<00:00,  6.45s/it] \n"
     ]
    },
    {
     "name": "stdout",
     "output_type": "stream",
     "text": [
      "\n"
     ]
    },
    {
     "data": {
      "text/html": [
       "Waiting for W&B process to finish... <strong style=\"color:green\">(success).</strong>"
      ],
      "text/plain": [
       "<IPython.core.display.HTML object>"
      ]
     },
     "metadata": {},
     "output_type": "display_data"
    },
    {
     "data": {
      "application/vnd.jupyter.widget-view+json": {
       "model_id": "99505484890b4e538d6b2423ce180bfb",
       "version_major": 2,
       "version_minor": 0
      },
      "text/plain": [
       "VBox(children=(Label(value='0.001 MB of 0.001 MB uploaded (0.000 MB deduped)\\r'), FloatProgress(value=1.0, max…"
      ]
     },
     "metadata": {},
     "output_type": "display_data"
    },
    {
     "data": {
      "text/html": [
       "<style>\n",
       "    table.wandb td:nth-child(1) { padding: 0 10px; text-align: right }\n",
       "    .wandb-row { display: flex; flex-direction: row; flex-wrap: wrap; width: 100% }\n",
       "    .wandb-col { display: flex; flex-direction: column; flex-basis: 100%; flex: 1; padding: 10px; }\n",
       "    </style>\n",
       "<div class=\"wandb-row\"><div class=\"wandb-col\"><h3>Run history:</h3><br/><table class=\"wandb\"><tr><td>bfOnlyBets</td><td>▁▆▇▇█▇▇▇▆▇█▇▇▆▆█▇█▆▆▇▇▇▇▆▆▇▇▆▇▇▆▇▇▆▆▇▇▇▇</td></tr><tr><td>bfOnlyProfit</td><td>▃█▅▅▅▇▅▃▄▅▃▆▅▁▄▄▅▄▆▅▄▃▄▅▆▇▅▄▄▇▅▆▆▄▅▆█▆▆▇</td></tr><tr><td>bf_avail</td><td>▁▇█████▇▇████▇▇▇█▇▇▇▇▆▇▇▇▇▇▇▇▇▇▇▇▇▇▇▇▇▇▇</td></tr><tr><td>bfnotavail</td><td>▁▇▇████▇█▇▇▇▇▇▇▇▇▆▇▇▇▇▇▇▇▇▇▇▆▇▆▆▆▇▇▆▆▆▆▆</td></tr><tr><td>correct_conf</td><td>▁▅▆▆▆▆▆▆▆▆▆▆▇▇▇▆▇▇▇▇▇▇▇▇▇▇▇▇▇▇▇▇█▇█▇▇▇▇█</td></tr><tr><td>epoch</td><td>▁▁▁▁▂▂▂▂▂▃▃▃▃▃▃▄▄▄▄▄▅▅▅▅▅▅▆▆▆▆▆▇▇▇▇▇▇███</td></tr><tr><td>incorrect_conf</td><td>▁▅▅▅▅▆▆▆▆▆▆▆▆▆▇▆▆▇▇▇▇▇▇▇▇▇▇▇▇▇▇▇█▇█▇▇▇▇█</td></tr><tr><td>loss</td><td>▇█▆▆▅▇▅▅▅▅▅▅▄▄▄▅▄▃▅▃▃▃▃▃▃▁▁▃▂▂▂▂▂▁▁▂▁▂▁▂</td></tr><tr><td>num_bets_per</td><td>██▇██▇▆▆▆▇▆▆▅▅▅▆▅▄▅▄▄▅▄▄▄▃▃▄▃▄▃▃▂▃▂▃▃▃▃▁</td></tr><tr><td>test_accuracy</td><td>▁▇█████▇█████▇▇▇▇▇▇▇▇▇▇▇▇▇▇▇▇▇▇▆▇▇▇▇▇▇▇▇</td></tr><tr><td>test_val</td><td>█▁▁▁▁▁▁▂▁▁▁▁▁▂▂▂▁▂▂▁▂▃▂▂▂▂▂▂▂▂▂▂▃▂▂▂▂▂▂▂</td></tr><tr><td>value_pick_correct</td><td>▁▅▆▆▆▇▇▆▇▇▇▇▇▇▇▇▇▇█▇█▇█▇██▇█▇██▇████▇███</td></tr><tr><td>value_pick_roi</td><td>▁▃▆▆▅▆▇▅▆▆▇▆▆▇▇▇▆▇▇▆▆▇▇▆▅█▆▅▆▅▇▆▅▆▅▇▅█▇▆</td></tr><tr><td>zero_price</td><td>▁▁▁▁▁▁▁▁▁▁▁▁▁▁▁▁▁▁▁▁▁▁▁▁▁▁▁▁▁▁▁▁▁▁▁▁▁▁▁▁</td></tr></table><br/></div><div class=\"wandb-col\"><h3>Run summary:</h3><br/><table class=\"wandb\"><tr><td>alt_bet_1</td><td>nan</td></tr><tr><td>alt_bet_2</td><td>nan</td></tr><tr><td>bfOnlyBets</td><td>9530</td></tr><tr><td>bfOnlyProfit</td><td>67.72694</td></tr><tr><td>bf_avail</td><td>2586</td></tr><tr><td>bfnotavail</td><td>1235</td></tr><tr><td>correct_conf</td><td>0.33512</td></tr><tr><td>epoch</td><td>999</td></tr><tr><td>incorrect_conf</td><td>0.3085</td></tr><tr><td>num_bets_per</td><td>3.56455</td></tr><tr><td>profit</td><td>nan</td></tr><tr><td>test_val</td><td>6944</td></tr><tr><td>value_pick_correct</td><td>3273</td></tr><tr><td>value_pick_roi</td><td>-0.25008</td></tr><tr><td>zero_price</td><td>0</td></tr></table><br/></div></div>"
      ],
      "text/plain": [
       "<IPython.core.display.HTML object>"
      ]
     },
     "metadata": {},
     "output_type": "display_data"
    },
    {
     "data": {
      "text/html": [
       "Synced <strong style=\"color:#cdcd00\">tough-sweep-10</strong>: <a href=\"https://wandb.ai/nickojelly/grv_priced_sweep_custom_new_box/runs/lj55rlfo\" target=\"_blank\">https://wandb.ai/nickojelly/grv_priced_sweep_custom_new_box/runs/lj55rlfo</a><br/>Synced 5 W&B file(s), 0 media file(s), 0 artifact file(s) and 0 other file(s)"
      ],
      "text/plain": [
       "<IPython.core.display.HTML object>"
      ]
     },
     "metadata": {},
     "output_type": "display_data"
    },
    {
     "data": {
      "text/html": [
       "Find logs at: <code>.\\wandb\\run-20221204_195607-lj55rlfo\\logs</code>"
      ],
      "text/plain": [
       "<IPython.core.display.HTML object>"
      ]
     },
     "metadata": {},
     "output_type": "display_data"
    },
    {
     "name": "stderr",
     "output_type": "stream",
     "text": [
      "\u001b[34m\u001b[1mwandb\u001b[0m: Agent Starting Run: uzc73go6 with config:\n",
      "\u001b[34m\u001b[1mwandb\u001b[0m: \tbatch_size: 1000\n",
      "\u001b[34m\u001b[1mwandb\u001b[0m: \tdropout: 0.5\n",
      "\u001b[34m\u001b[1mwandb\u001b[0m: \tepochs: 1000\n",
      "\u001b[34m\u001b[1mwandb\u001b[0m: \tf1_layer_size: 256\n",
      "\u001b[34m\u001b[1mwandb\u001b[0m: \tf2_layer_size: 64\n",
      "\u001b[34m\u001b[1mwandb\u001b[0m: \tl1_beta: 0.6690522734619349\n",
      "\u001b[34m\u001b[1mwandb\u001b[0m: \tlearning_rate: 0.0009152262253361836\n",
      "\u001b[34m\u001b[1mwandb\u001b[0m: \tlen_data: 142750\n",
      "\u001b[34m\u001b[1mwandb\u001b[0m: \tloss: L1\n",
      "\u001b[34m\u001b[1mwandb\u001b[0m: \tnum_layers: 2\n",
      "\u001b[34m\u001b[1mwandb\u001b[0m: \toptimizer: adamW\n",
      "\u001b[34m\u001b[1mwandb\u001b[0m: \tvalidation_split: 0.1\n",
      "Failed to detect the name of this notebook, you can set it manually with the WANDB_NOTEBOOK_NAME environment variable to enable code saving.\n",
      "\u001b[34m\u001b[1mwandb\u001b[0m: \u001b[33mWARNING\u001b[0m Ignored wandb.init() arg project when running a sweep.\n"
     ]
    },
    {
     "data": {
      "text/html": [
       "wandb version 0.13.5 is available!  To upgrade, please run:\n",
       " $ pip install wandb --upgrade"
      ],
      "text/plain": [
       "<IPython.core.display.HTML object>"
      ]
     },
     "metadata": {},
     "output_type": "display_data"
    },
    {
     "data": {
      "text/html": [
       "Tracking run with wandb version 0.12.14"
      ],
      "text/plain": [
       "<IPython.core.display.HTML object>"
      ]
     },
     "metadata": {},
     "output_type": "display_data"
    },
    {
     "data": {
      "text/html": [
       "Run data is saved locally in <code>c:\\Users\\Nick\\Documents\\GitHub\\grvmodel\\Python\\pytorch\\New Model\\wandb\\run-20221204_214342-uzc73go6</code>"
      ],
      "text/plain": [
       "<IPython.core.display.HTML object>"
      ]
     },
     "metadata": {},
     "output_type": "display_data"
    },
    {
     "data": {
      "text/html": [
       "Syncing run <strong><a href=\"https://wandb.ai/nickojelly/grv_priced_sweep_custom_new_box/runs/uzc73go6\" target=\"_blank\">gallant-sweep-11</a></strong> to <a href=\"https://wandb.ai/nickojelly/grv_priced_sweep_custom_new_box\" target=\"_blank\">Weights & Biases</a> (<a href=\"https://wandb.me/run\" target=\"_blank\">docs</a>)<br/>Sweep page:  <a href=\"https://wandb.ai/nickojelly/grv_priced_sweep_custom_new_box/sweeps/8fweh2r2\" target=\"_blank\">https://wandb.ai/nickojelly/grv_priced_sweep_custom_new_box/sweeps/8fweh2r2</a>"
      ],
      "text/plain": [
       "<IPython.core.display.HTML object>"
      ]
     },
     "metadata": {},
     "output_type": "display_data"
    },
    {
     "name": "stderr",
     "output_type": "stream",
     "text": [
      "  0%|          | 0/1000 [00:00<?, ?it/s]"
     ]
    },
    {
     "name": "stdout",
     "output_type": "stream",
     "text": [
      "{'batch_size': 1000, 'dropout': 0.5, 'epochs': 1000, 'f1_layer_size': 256, 'f2_layer_size': 64, 'l1_beta': 0.6690522734619349, 'learning_rate': 0.0009152262253361836, 'len_data': 142750, 'loss': 'L1', 'num_layers': 2, 'optimizer': 'adamW', 'validation_split': 0.1}\n",
      "1000\n",
      "{'batch_size': 1000, 'dropout': 0.5, 'epochs': 1000, 'f1_layer_size': 256, 'f2_layer_size': 64, 'l1_beta': 0.6690522734619349, 'learning_rate': 0.0009152262253361836, 'len_data': 142750, 'loss': 'L1', 'num_layers': 2, 'optimizer': 'adamW', 'validation_split': 0.1}\n",
      "adamW\n",
      "HERE\n",
      "Sequential(\n",
      "  (0): Linear(in_features=203, out_features=256, bias=True)\n",
      "  (1): ReLU()\n",
      "  (2): Dropout(p=0.5, inplace=False)\n",
      "  (3): Linear(in_features=256, out_features=64, bias=True)\n",
      "  (4): ReLU()\n",
      "  (5): Dropout(p=0.5, inplace=False)\n",
      "  (6): Linear(in_features=64, out_features=8, bias=True)\n",
      "  (7): Softmax(dim=1)\n",
      ")\n"
     ]
    },
    {
     "name": "stderr",
     "output_type": "stream",
     "text": [
      "  0%|          | 1/1000 [00:25<7:08:16, 25.72s/it]"
     ]
    },
    {
     "name": "stdout",
     "output_type": "stream",
     "text": [
      "created path\n"
     ]
    },
    {
     "name": "stderr",
     "output_type": "stream",
     "text": [
      "100%|██████████| 1000/1000 [1:49:36<00:00,  6.58s/it] \n"
     ]
    },
    {
     "name": "stdout",
     "output_type": "stream",
     "text": [
      "\n"
     ]
    },
    {
     "data": {
      "text/html": [
       "Waiting for W&B process to finish... <strong style=\"color:green\">(success).</strong>"
      ],
      "text/plain": [
       "<IPython.core.display.HTML object>"
      ]
     },
     "metadata": {},
     "output_type": "display_data"
    },
    {
     "data": {
      "application/vnd.jupyter.widget-view+json": {
       "model_id": "930bb938a21f4e8e81f35df36ce6d623",
       "version_major": 2,
       "version_minor": 0
      },
      "text/plain": [
       "VBox(children=(Label(value='0.001 MB of 0.001 MB uploaded (0.000 MB deduped)\\r'), FloatProgress(value=1.0, max…"
      ]
     },
     "metadata": {},
     "output_type": "display_data"
    },
    {
     "data": {
      "text/html": [
       "<style>\n",
       "    table.wandb td:nth-child(1) { padding: 0 10px; text-align: right }\n",
       "    .wandb-row { display: flex; flex-direction: row; flex-wrap: wrap; width: 100% }\n",
       "    .wandb-col { display: flex; flex-direction: column; flex-basis: 100%; flex: 1; padding: 10px; }\n",
       "    </style>\n",
       "<div class=\"wandb-row\"><div class=\"wandb-col\"><h3>Run history:</h3><br/><table class=\"wandb\"><tr><td>bfOnlyBets</td><td>▁▆▇█▇▇▆▆▆▇▇▅▆▇▇▇▆▆▆▇▇▇▇▇███▇▇▆█▇█▆▇▇▇▇▇▆</td></tr><tr><td>bfOnlyProfit</td><td>▃▃▄▁▆▄▃▇▁▅▄▃▄▅▃▃▃▆▃▄▅▅▅▅▃▆▆█▃▅▃█▄▆█▆▄▅▅▃</td></tr><tr><td>bf_avail</td><td>▁█████▇▇▇▇▇▇▇▇▇▇▇▇▇▆▆▇▆▆▆▇▆▆▆▆▆▇▆▆▆▆▆▆▆▆</td></tr><tr><td>bfnotavail</td><td>▁██▇█▇▇▇▇▇▇▇▆▆▆▆▇▆▆▆▆▆▆▆▆▅▆▆▅▅▅▆▅▅▅▆▆▅▆▆</td></tr><tr><td>correct_conf</td><td>▁▄▅▅▅▆▆▆▆▆▇▆▇▇▇▇▇▇▇▇▇▇▇██▇▇▇████████████</td></tr><tr><td>epoch</td><td>▁▁▁▁▂▂▂▂▂▃▃▃▃▃▃▄▄▄▄▄▅▅▅▅▅▅▆▆▆▆▆▇▇▇▇▇▇███</td></tr><tr><td>incorrect_conf</td><td>▁▄▅▅▅▆▆▆▆▆▆▆▇▇▇▇▇▇▇▇▇▇▇██▇▇▇▇███████████</td></tr><tr><td>loss</td><td>██▆▆▇▆▆▆▅▅▄▅▄▃▄▄▃▃▂▃▄▃▂▃▃▃▃▂▃▃▁▂▃▁▂▂▂▂▂▁</td></tr><tr><td>num_bets_per</td><td>██▇▇▆▅▅▅▅▅▄▄▃▃▃▃▂▃▃▃▃▃▃▂▂▂▂▂▂▂▂▁▁▂▂▁▂▂▁▁</td></tr><tr><td>test_accuracy</td><td>▁█████▇▇▇▇▇▇▇▇▇▇▇▇▆▆▆▆▆▆▆▆▆▆▆▆▆▆▆▆▆▆▆▆▆▆</td></tr><tr><td>test_val</td><td>█▁▁▂▁▁▂▂▂▂▂▂▂▃▃▂▂▂▃▃▄▃▃▃▃▃▃▃▃▃▄▂▃▃▃▃▃▃▃▃</td></tr><tr><td>value_pick_correct</td><td>▁▆▆▇▇▇▇▇▇▇▇▇▇▇▇█▇█▇▇▇▇█▇▇█▇█████▇████▇█▇</td></tr><tr><td>value_pick_roi</td><td>▁▆▅▆▆▅▆▅▄▅▄▅▆▅▅▆▅▆▅▃▃▆▇▆▄▅▄▆▅▆▆▅▂▆█▆▆▅▆▃</td></tr><tr><td>zero_price</td><td>▁▁▁▁▁▁▁▁▁▁▁▁▁▁▁▁▁▁▁▁▁▁▁▁▁▁▁▁▁▁▁▁▁▁▁▁▁▁▁▁</td></tr></table><br/></div><div class=\"wandb-col\"><h3>Run summary:</h3><br/><table class=\"wandb\"><tr><td>alt_bet_1</td><td>nan</td></tr><tr><td>alt_bet_2</td><td>nan</td></tr><tr><td>bfOnlyBets</td><td>9507</td></tr><tr><td>bfOnlyProfit</td><td>-2.06346</td></tr><tr><td>bf_avail</td><td>2464</td></tr><tr><td>bfnotavail</td><td>1167</td></tr><tr><td>correct_conf</td><td>0.36394</td></tr><tr><td>epoch</td><td>999</td></tr><tr><td>incorrect_conf</td><td>0.33895</td></tr><tr><td>num_bets_per</td><td>3.39986</td></tr><tr><td>profit</td><td>nan</td></tr><tr><td>test_val</td><td>7043</td></tr><tr><td>value_pick_correct</td><td>3255</td></tr><tr><td>value_pick_roi</td><td>-0.25609</td></tr><tr><td>zero_price</td><td>0</td></tr></table><br/></div></div>"
      ],
      "text/plain": [
       "<IPython.core.display.HTML object>"
      ]
     },
     "metadata": {},
     "output_type": "display_data"
    },
    {
     "data": {
      "text/html": [
       "Synced <strong style=\"color:#cdcd00\">gallant-sweep-11</strong>: <a href=\"https://wandb.ai/nickojelly/grv_priced_sweep_custom_new_box/runs/uzc73go6\" target=\"_blank\">https://wandb.ai/nickojelly/grv_priced_sweep_custom_new_box/runs/uzc73go6</a><br/>Synced 5 W&B file(s), 0 media file(s), 0 artifact file(s) and 0 other file(s)"
      ],
      "text/plain": [
       "<IPython.core.display.HTML object>"
      ]
     },
     "metadata": {},
     "output_type": "display_data"
    },
    {
     "data": {
      "text/html": [
       "Find logs at: <code>.\\wandb\\run-20221204_214342-uzc73go6\\logs</code>"
      ],
      "text/plain": [
       "<IPython.core.display.HTML object>"
      ]
     },
     "metadata": {},
     "output_type": "display_data"
    },
    {
     "name": "stderr",
     "output_type": "stream",
     "text": [
      "\u001b[34m\u001b[1mwandb\u001b[0m: Agent Starting Run: f2s2z7et with config:\n",
      "\u001b[34m\u001b[1mwandb\u001b[0m: \tbatch_size: 1000\n",
      "\u001b[34m\u001b[1mwandb\u001b[0m: \tdropout: 0.5\n",
      "\u001b[34m\u001b[1mwandb\u001b[0m: \tepochs: 1000\n",
      "\u001b[34m\u001b[1mwandb\u001b[0m: \tf1_layer_size: 256\n",
      "\u001b[34m\u001b[1mwandb\u001b[0m: \tf2_layer_size: 64\n",
      "\u001b[34m\u001b[1mwandb\u001b[0m: \tl1_beta: 0.839713770435817\n",
      "\u001b[34m\u001b[1mwandb\u001b[0m: \tlearning_rate: 0.00091672190408898\n",
      "\u001b[34m\u001b[1mwandb\u001b[0m: \tlen_data: 142750\n",
      "\u001b[34m\u001b[1mwandb\u001b[0m: \tloss: L1\n",
      "\u001b[34m\u001b[1mwandb\u001b[0m: \tnum_layers: 2\n",
      "\u001b[34m\u001b[1mwandb\u001b[0m: \toptimizer: adamW\n",
      "\u001b[34m\u001b[1mwandb\u001b[0m: \tvalidation_split: 0.1\n",
      "Failed to detect the name of this notebook, you can set it manually with the WANDB_NOTEBOOK_NAME environment variable to enable code saving.\n",
      "\u001b[34m\u001b[1mwandb\u001b[0m: \u001b[33mWARNING\u001b[0m Ignored wandb.init() arg project when running a sweep.\n"
     ]
    },
    {
     "data": {
      "text/html": [
       "wandb version 0.13.5 is available!  To upgrade, please run:\n",
       " $ pip install wandb --upgrade"
      ],
      "text/plain": [
       "<IPython.core.display.HTML object>"
      ]
     },
     "metadata": {},
     "output_type": "display_data"
    },
    {
     "data": {
      "text/html": [
       "Tracking run with wandb version 0.12.14"
      ],
      "text/plain": [
       "<IPython.core.display.HTML object>"
      ]
     },
     "metadata": {},
     "output_type": "display_data"
    },
    {
     "data": {
      "text/html": [
       "Run data is saved locally in <code>c:\\Users\\Nick\\Documents\\GitHub\\grvmodel\\Python\\pytorch\\New Model\\wandb\\run-20221204_233329-f2s2z7et</code>"
      ],
      "text/plain": [
       "<IPython.core.display.HTML object>"
      ]
     },
     "metadata": {},
     "output_type": "display_data"
    },
    {
     "data": {
      "text/html": [
       "Syncing run <strong><a href=\"https://wandb.ai/nickojelly/grv_priced_sweep_custom_new_box/runs/f2s2z7et\" target=\"_blank\">daily-sweep-12</a></strong> to <a href=\"https://wandb.ai/nickojelly/grv_priced_sweep_custom_new_box\" target=\"_blank\">Weights & Biases</a> (<a href=\"https://wandb.me/run\" target=\"_blank\">docs</a>)<br/>Sweep page:  <a href=\"https://wandb.ai/nickojelly/grv_priced_sweep_custom_new_box/sweeps/8fweh2r2\" target=\"_blank\">https://wandb.ai/nickojelly/grv_priced_sweep_custom_new_box/sweeps/8fweh2r2</a>"
      ],
      "text/plain": [
       "<IPython.core.display.HTML object>"
      ]
     },
     "metadata": {},
     "output_type": "display_data"
    },
    {
     "name": "stderr",
     "output_type": "stream",
     "text": [
      "  0%|          | 0/1000 [00:00<?, ?it/s]"
     ]
    },
    {
     "name": "stdout",
     "output_type": "stream",
     "text": [
      "{'batch_size': 1000, 'dropout': 0.5, 'epochs': 1000, 'f1_layer_size': 256, 'f2_layer_size': 64, 'l1_beta': 0.839713770435817, 'learning_rate': 0.00091672190408898, 'len_data': 142750, 'loss': 'L1', 'num_layers': 2, 'optimizer': 'adamW', 'validation_split': 0.1}\n",
      "1000\n",
      "{'batch_size': 1000, 'dropout': 0.5, 'epochs': 1000, 'f1_layer_size': 256, 'f2_layer_size': 64, 'l1_beta': 0.839713770435817, 'learning_rate': 0.00091672190408898, 'len_data': 142750, 'loss': 'L1', 'num_layers': 2, 'optimizer': 'adamW', 'validation_split': 0.1}\n",
      "adamW\n",
      "HERE\n",
      "Sequential(\n",
      "  (0): Linear(in_features=203, out_features=256, bias=True)\n",
      "  (1): ReLU()\n",
      "  (2): Dropout(p=0.5, inplace=False)\n",
      "  (3): Linear(in_features=256, out_features=64, bias=True)\n",
      "  (4): ReLU()\n",
      "  (5): Dropout(p=0.5, inplace=False)\n",
      "  (6): Linear(in_features=64, out_features=8, bias=True)\n",
      "  (7): Softmax(dim=1)\n",
      ")\n"
     ]
    },
    {
     "name": "stderr",
     "output_type": "stream",
     "text": [
      "  0%|          | 1/1000 [00:26<7:18:05, 26.31s/it]"
     ]
    },
    {
     "name": "stdout",
     "output_type": "stream",
     "text": [
      "created path\n"
     ]
    },
    {
     "name": "stderr",
     "output_type": "stream",
     "text": [
      "100%|██████████| 1000/1000 [1:50:15<00:00,  6.62s/it] \n"
     ]
    },
    {
     "name": "stdout",
     "output_type": "stream",
     "text": [
      "\n"
     ]
    },
    {
     "data": {
      "text/html": [
       "Waiting for W&B process to finish... <strong style=\"color:green\">(success).</strong>"
      ],
      "text/plain": [
       "<IPython.core.display.HTML object>"
      ]
     },
     "metadata": {},
     "output_type": "display_data"
    },
    {
     "data": {
      "application/vnd.jupyter.widget-view+json": {
       "model_id": "7c1d3fb920884d3690a3ec56f1281fe6",
       "version_major": 2,
       "version_minor": 0
      },
      "text/plain": [
       "VBox(children=(Label(value='0.001 MB of 0.001 MB uploaded (0.000 MB deduped)\\r'), FloatProgress(value=1.0, max…"
      ]
     },
     "metadata": {},
     "output_type": "display_data"
    },
    {
     "data": {
      "text/html": [
       "<style>\n",
       "    table.wandb td:nth-child(1) { padding: 0 10px; text-align: right }\n",
       "    .wandb-row { display: flex; flex-direction: row; flex-wrap: wrap; width: 100% }\n",
       "    .wandb-col { display: flex; flex-direction: column; flex-basis: 100%; flex: 1; padding: 10px; }\n",
       "    </style>\n",
       "<div class=\"wandb-row\"><div class=\"wandb-col\"><h3>Run history:</h3><br/><table class=\"wandb\"><tr><td>bfOnlyBets</td><td>▁▇▇▇▇▇▆▆▆▇▇▇▇▇▆██▆█▇█▆▇▆▇▆▆▆▇▇▇▆▅▇▇█▆▆▅▅</td></tr><tr><td>bfOnlyProfit</td><td>▁▄▃▂▄▁▃▁▄▃▃▂▅▃▃▂▂▃▆▄▂▅▃▃█▃▆▂▃█▅▄▂▄▆▄▆▄▅▁</td></tr><tr><td>bf_avail</td><td>▁████▇▇▇▇▇▇▇▇▆▇▆▆▇▆▆▆▆▆▆▆▆▇▆▆▆▆▆▅▆▆▆▆▆▆▆</td></tr><tr><td>bfnotavail</td><td>▁███▇▇█▇▇▇▇▇▇▆▇▆▆▇▇▇▆▅▇▆▆▆▆▆▆▆▆▆▆▆▆▆▆▆▆▆</td></tr><tr><td>correct_conf</td><td>▁▅▅▅▆▆▆▆▆▆▇▆▇▇▇▇▇▇▇▇▇▇▇▇▇▇█████▇████████</td></tr><tr><td>epoch</td><td>▁▁▁▁▂▂▂▂▂▃▃▃▃▃▃▄▄▄▄▄▅▅▅▅▅▅▆▆▆▆▆▇▇▇▇▇▇███</td></tr><tr><td>incorrect_conf</td><td>▁▄▅▅▅▆▆▆▆▆▆▆▆▆▇▇▇▇▇▇▇▇▇▇▇▇█████▇████████</td></tr><tr><td>loss</td><td>█▇▆▆▆▆▅▅▅▄▃▄▃▄▄▄▃▃▃▄▃▂▂▃▂▃▂▂▁▃▃▂▂▃▂▂▁▂▂▂</td></tr><tr><td>num_bets_per</td><td>█▇▇▆▆▅▅▅▅▄▄▄▄▄▃▄▃▃▃▃▃▃▂▂▂▂▂▁▁▁▁▂▁▂▂▁▂▁▁▁</td></tr><tr><td>test_accuracy</td><td>▁████▇█▇▇▇▇▇▇▆▇▆▆▇▆▆▆▆▇▆▆▆▆▆▆▆▆▆▆▆▆▆▆▆▆▆</td></tr><tr><td>test_val</td><td>█▁▁▁▁▂▂▂▂▂▂▃▃▃▂▃▃▃▃▃▃▃▃▃▃▃▂▃▃▃▃▄▄▃▃▃▃▃▃▃</td></tr><tr><td>value_pick_correct</td><td>▁▅▅▆▆▆▆▆▆▆▇▇▇▇▇▇▇▇▇▇▇█▇█▇█▇▇▇▇▇▇█▇▇▇█▇▇▇</td></tr><tr><td>value_pick_roi</td><td>▁▅▄▅▅▆▆▆▆▅▆▄▆▆▅▆▅▅▅▄▆█▅█▅█▇▅▅▆▅▇▇▅▆▄▆▅▄▆</td></tr><tr><td>zero_price</td><td>▁▁▁▁▁▁▁▁▁▁▁▁▁▁▁▁▁▁▁▁▁▁▁▁▁▁▁▁▁▁▁▁▁▁▁▁▁▁▁▁</td></tr></table><br/></div><div class=\"wandb-col\"><h3>Run summary:</h3><br/><table class=\"wandb\"><tr><td>alt_bet_1</td><td>nan</td></tr><tr><td>alt_bet_2</td><td>nan</td></tr><tr><td>bfOnlyBets</td><td>9498</td></tr><tr><td>bfOnlyProfit</td><td>-67.80813</td></tr><tr><td>bf_avail</td><td>2422</td></tr><tr><td>bfnotavail</td><td>1160</td></tr><tr><td>correct_conf</td><td>0.35953</td></tr><tr><td>epoch</td><td>999</td></tr><tr><td>incorrect_conf</td><td>0.33081</td></tr><tr><td>num_bets_per</td><td>3.4297</td></tr><tr><td>profit</td><td>nan</td></tr><tr><td>test_val</td><td>7076</td></tr><tr><td>value_pick_correct</td><td>3357</td></tr><tr><td>value_pick_roi</td><td>-0.24241</td></tr><tr><td>zero_price</td><td>0</td></tr></table><br/></div></div>"
      ],
      "text/plain": [
       "<IPython.core.display.HTML object>"
      ]
     },
     "metadata": {},
     "output_type": "display_data"
    },
    {
     "data": {
      "text/html": [
       "Synced <strong style=\"color:#cdcd00\">daily-sweep-12</strong>: <a href=\"https://wandb.ai/nickojelly/grv_priced_sweep_custom_new_box/runs/f2s2z7et\" target=\"_blank\">https://wandb.ai/nickojelly/grv_priced_sweep_custom_new_box/runs/f2s2z7et</a><br/>Synced 5 W&B file(s), 0 media file(s), 0 artifact file(s) and 0 other file(s)"
      ],
      "text/plain": [
       "<IPython.core.display.HTML object>"
      ]
     },
     "metadata": {},
     "output_type": "display_data"
    },
    {
     "data": {
      "text/html": [
       "Find logs at: <code>.\\wandb\\run-20221204_233329-f2s2z7et\\logs</code>"
      ],
      "text/plain": [
       "<IPython.core.display.HTML object>"
      ]
     },
     "metadata": {},
     "output_type": "display_data"
    },
    {
     "name": "stderr",
     "output_type": "stream",
     "text": [
      "\u001b[34m\u001b[1mwandb\u001b[0m: Agent Starting Run: i2dofj3x with config:\n",
      "\u001b[34m\u001b[1mwandb\u001b[0m: \tbatch_size: 1000\n",
      "\u001b[34m\u001b[1mwandb\u001b[0m: \tdropout: 0.5\n",
      "\u001b[34m\u001b[1mwandb\u001b[0m: \tepochs: 1000\n",
      "\u001b[34m\u001b[1mwandb\u001b[0m: \tf1_layer_size: 256\n",
      "\u001b[34m\u001b[1mwandb\u001b[0m: \tf2_layer_size: 64\n",
      "\u001b[34m\u001b[1mwandb\u001b[0m: \tl1_beta: 0.21164935635210447\n",
      "\u001b[34m\u001b[1mwandb\u001b[0m: \tlearning_rate: 0.0006797327602581858\n",
      "\u001b[34m\u001b[1mwandb\u001b[0m: \tlen_data: 142750\n",
      "\u001b[34m\u001b[1mwandb\u001b[0m: \tloss: L1\n",
      "\u001b[34m\u001b[1mwandb\u001b[0m: \tnum_layers: 2\n",
      "\u001b[34m\u001b[1mwandb\u001b[0m: \toptimizer: adamW\n",
      "\u001b[34m\u001b[1mwandb\u001b[0m: \tvalidation_split: 0.1\n",
      "Failed to detect the name of this notebook, you can set it manually with the WANDB_NOTEBOOK_NAME environment variable to enable code saving.\n",
      "\u001b[34m\u001b[1mwandb\u001b[0m: \u001b[33mWARNING\u001b[0m Ignored wandb.init() arg project when running a sweep.\n"
     ]
    },
    {
     "data": {
      "text/html": [
       "wandb version 0.13.5 is available!  To upgrade, please run:\n",
       " $ pip install wandb --upgrade"
      ],
      "text/plain": [
       "<IPython.core.display.HTML object>"
      ]
     },
     "metadata": {},
     "output_type": "display_data"
    },
    {
     "data": {
      "text/html": [
       "Tracking run with wandb version 0.12.14"
      ],
      "text/plain": [
       "<IPython.core.display.HTML object>"
      ]
     },
     "metadata": {},
     "output_type": "display_data"
    },
    {
     "data": {
      "text/html": [
       "Run data is saved locally in <code>c:\\Users\\Nick\\Documents\\GitHub\\grvmodel\\Python\\pytorch\\New Model\\wandb\\run-20221205_012357-i2dofj3x</code>"
      ],
      "text/plain": [
       "<IPython.core.display.HTML object>"
      ]
     },
     "metadata": {},
     "output_type": "display_data"
    },
    {
     "data": {
      "text/html": [
       "Syncing run <strong><a href=\"https://wandb.ai/nickojelly/grv_priced_sweep_custom_new_box/runs/i2dofj3x\" target=\"_blank\">fiery-sweep-13</a></strong> to <a href=\"https://wandb.ai/nickojelly/grv_priced_sweep_custom_new_box\" target=\"_blank\">Weights & Biases</a> (<a href=\"https://wandb.me/run\" target=\"_blank\">docs</a>)<br/>Sweep page:  <a href=\"https://wandb.ai/nickojelly/grv_priced_sweep_custom_new_box/sweeps/8fweh2r2\" target=\"_blank\">https://wandb.ai/nickojelly/grv_priced_sweep_custom_new_box/sweeps/8fweh2r2</a>"
      ],
      "text/plain": [
       "<IPython.core.display.HTML object>"
      ]
     },
     "metadata": {},
     "output_type": "display_data"
    },
    {
     "name": "stderr",
     "output_type": "stream",
     "text": [
      "  0%|          | 0/1000 [00:00<?, ?it/s]"
     ]
    },
    {
     "name": "stdout",
     "output_type": "stream",
     "text": [
      "{'batch_size': 1000, 'dropout': 0.5, 'epochs': 1000, 'f1_layer_size': 256, 'f2_layer_size': 64, 'l1_beta': 0.21164935635210447, 'learning_rate': 0.0006797327602581858, 'len_data': 142750, 'loss': 'L1', 'num_layers': 2, 'optimizer': 'adamW', 'validation_split': 0.1}\n",
      "1000\n",
      "{'batch_size': 1000, 'dropout': 0.5, 'epochs': 1000, 'f1_layer_size': 256, 'f2_layer_size': 64, 'l1_beta': 0.21164935635210447, 'learning_rate': 0.0006797327602581858, 'len_data': 142750, 'loss': 'L1', 'num_layers': 2, 'optimizer': 'adamW', 'validation_split': 0.1}\n",
      "adamW\n",
      "HERE\n",
      "Sequential(\n",
      "  (0): Linear(in_features=203, out_features=256, bias=True)\n",
      "  (1): ReLU()\n",
      "  (2): Dropout(p=0.5, inplace=False)\n",
      "  (3): Linear(in_features=256, out_features=64, bias=True)\n",
      "  (4): ReLU()\n",
      "  (5): Dropout(p=0.5, inplace=False)\n",
      "  (6): Linear(in_features=64, out_features=8, bias=True)\n",
      "  (7): Softmax(dim=1)\n",
      ")\n"
     ]
    },
    {
     "name": "stderr",
     "output_type": "stream",
     "text": [
      "  0%|          | 1/1000 [00:26<7:18:28, 26.33s/it]"
     ]
    },
    {
     "name": "stdout",
     "output_type": "stream",
     "text": [
      "created path\n"
     ]
    },
    {
     "name": "stderr",
     "output_type": "stream",
     "text": [
      "100%|██████████| 1000/1000 [1:50:29<00:00,  6.63s/it] \n"
     ]
    },
    {
     "name": "stdout",
     "output_type": "stream",
     "text": [
      "\n"
     ]
    },
    {
     "data": {
      "text/html": [
       "Waiting for W&B process to finish... <strong style=\"color:green\">(success).</strong>"
      ],
      "text/plain": [
       "<IPython.core.display.HTML object>"
      ]
     },
     "metadata": {},
     "output_type": "display_data"
    },
    {
     "data": {
      "application/vnd.jupyter.widget-view+json": {
       "model_id": "86e2e354987d4dca91a5d0ac7cad2623",
       "version_major": 2,
       "version_minor": 0
      },
      "text/plain": [
       "VBox(children=(Label(value='0.001 MB of 0.001 MB uploaded (0.000 MB deduped)\\r'), FloatProgress(value=1.0, max…"
      ]
     },
     "metadata": {},
     "output_type": "display_data"
    },
    {
     "data": {
      "text/html": [
       "<style>\n",
       "    table.wandb td:nth-child(1) { padding: 0 10px; text-align: right }\n",
       "    .wandb-row { display: flex; flex-direction: row; flex-wrap: wrap; width: 100% }\n",
       "    .wandb-col { display: flex; flex-direction: column; flex-basis: 100%; flex: 1; padding: 10px; }\n",
       "    </style>\n",
       "<div class=\"wandb-row\"><div class=\"wandb-col\"><h3>Run history:</h3><br/><table class=\"wandb\"><tr><td>bfOnlyBets</td><td>▁▇▇▆▇█▆▇▆▆██▇█▆▆▆▅▆▆▇▇▆▆▆▇▆▇█▇▆▆███▇▇█▇█</td></tr><tr><td>bfOnlyProfit</td><td>▃▇▁▅▄▄▇▆▇▇▅▇▆▆▄▆▆▆▅▇▅▆▄▄▆▃▂▅▅▁▄▂█▂▃▄▃▆▆▃</td></tr><tr><td>bf_avail</td><td>▁█▇█▇▇▇▇▇▇▇▇▇▇▇▇▇▇▇▇▇▇▇▆▆▆▆▆▆▆▇▆▆▆▆▆▆▆▆▆</td></tr><tr><td>bfnotavail</td><td>▁█▇█▇▇█▇▇▇▇▇▆▆▇▇▇▇▇▇▆▆▇▆▆▆▆▆▆▆▆▆▆▆▅▅▅▆▆▆</td></tr><tr><td>correct_conf</td><td>▁▄▅▅▅▆▆▆▆▆▆▆▇▇▇▇▇▇▇▇▇▇▇▇█▇█▇▇█▇▇▇▇▇███▇█</td></tr><tr><td>epoch</td><td>▁▁▁▁▂▂▂▂▂▃▃▃▃▃▃▄▄▄▄▄▅▅▅▅▅▅▆▆▆▆▆▇▇▇▇▇▇███</td></tr><tr><td>incorrect_conf</td><td>▁▄▅▅▅▅▆▆▆▆▆▆▆▇▇▇▇▆▇▇▇▇▇▇▇▇█▇▇█▇▇▇▇▇██▇▇█</td></tr><tr><td>loss</td><td>██▇▇▇▆▆▆▅▆▅▄▄▃▄▅▄▃▅▄▄▄▃▄▄▃▃▃▃▃▄▃▂▂▃▃▃▃▂▁</td></tr><tr><td>num_bets_per</td><td>▇█▇▆▆▆▆▅▅▅▅▅▄▄▄▄▄▄▃▄▃▂▃▃▂▂▂▂▂▂▂▂▂▂▂▂▂▂▂▁</td></tr><tr><td>test_accuracy</td><td>▁█▇█▇▇▇▇▇▇▇▇▇▇▇▇▇▇▇▇▇▇▇▆▆▆▆▆▆▆▇▆▆▆▆▆▆▆▆▆</td></tr><tr><td>test_val</td><td>█▁▂▁▂▂▂▂▂▂▂▂▂▂▂▂▂▂▂▂▃▂▂▃▃▃▃▃▃▃▃▃▃▃▃▃▃▃▃▃</td></tr><tr><td>value_pick_correct</td><td>▁▅▅▆▆▆▆▇▇▇▇▇▆▇▇▇█▇▇▇▇▇▇▇▇▇█▇▇▇▇▇▇▇▇▇▇▇██</td></tr><tr><td>value_pick_roi</td><td>▂█▅▆▆▇▅▅▄▅▇▆▁▆▄▅██▅▅▅▅▇▆▆█▆▆▄▄▆▆▇▄▆▄▇▅▇▇</td></tr><tr><td>zero_price</td><td>▁▁▁▁▁▁▁▁▁▁▁▁▁▁▁▁▁▁▁▁▁▁▁▁▁▁▁▁▁▁▁▁▁▁▁▁▁▁▁▁</td></tr></table><br/></div><div class=\"wandb-col\"><h3>Run summary:</h3><br/><table class=\"wandb\"><tr><td>alt_bet_1</td><td>nan</td></tr><tr><td>alt_bet_2</td><td>nan</td></tr><tr><td>bfOnlyBets</td><td>9553</td></tr><tr><td>bfOnlyProfit</td><td>-76.50084</td></tr><tr><td>bf_avail</td><td>2487</td></tr><tr><td>bfnotavail</td><td>1193</td></tr><tr><td>correct_conf</td><td>0.37497</td></tr><tr><td>epoch</td><td>999</td></tr><tr><td>incorrect_conf</td><td>0.33563</td></tr><tr><td>num_bets_per</td><td>3.55194</td></tr><tr><td>profit</td><td>nan</td></tr><tr><td>test_val</td><td>7066</td></tr><tr><td>value_pick_correct</td><td>3297</td></tr><tr><td>value_pick_roi</td><td>-0.25254</td></tr><tr><td>zero_price</td><td>0</td></tr></table><br/></div></div>"
      ],
      "text/plain": [
       "<IPython.core.display.HTML object>"
      ]
     },
     "metadata": {},
     "output_type": "display_data"
    },
    {
     "data": {
      "text/html": [
       "Synced <strong style=\"color:#cdcd00\">fiery-sweep-13</strong>: <a href=\"https://wandb.ai/nickojelly/grv_priced_sweep_custom_new_box/runs/i2dofj3x\" target=\"_blank\">https://wandb.ai/nickojelly/grv_priced_sweep_custom_new_box/runs/i2dofj3x</a><br/>Synced 5 W&B file(s), 0 media file(s), 0 artifact file(s) and 0 other file(s)"
      ],
      "text/plain": [
       "<IPython.core.display.HTML object>"
      ]
     },
     "metadata": {},
     "output_type": "display_data"
    },
    {
     "data": {
      "text/html": [
       "Find logs at: <code>.\\wandb\\run-20221205_012357-i2dofj3x\\logs</code>"
      ],
      "text/plain": [
       "<IPython.core.display.HTML object>"
      ]
     },
     "metadata": {},
     "output_type": "display_data"
    },
    {
     "name": "stderr",
     "output_type": "stream",
     "text": [
      "\u001b[34m\u001b[1mwandb\u001b[0m: Agent Starting Run: ypq96ib9 with config:\n",
      "\u001b[34m\u001b[1mwandb\u001b[0m: \tbatch_size: 1000\n",
      "\u001b[34m\u001b[1mwandb\u001b[0m: \tdropout: 0.3\n",
      "\u001b[34m\u001b[1mwandb\u001b[0m: \tepochs: 1000\n",
      "\u001b[34m\u001b[1mwandb\u001b[0m: \tf1_layer_size: 256\n",
      "\u001b[34m\u001b[1mwandb\u001b[0m: \tf2_layer_size: 64\n",
      "\u001b[34m\u001b[1mwandb\u001b[0m: \tl1_beta: 0.9576069148525806\n",
      "\u001b[34m\u001b[1mwandb\u001b[0m: \tlearning_rate: 0.0009704101819140368\n",
      "\u001b[34m\u001b[1mwandb\u001b[0m: \tlen_data: 142750\n",
      "\u001b[34m\u001b[1mwandb\u001b[0m: \tloss: L1\n",
      "\u001b[34m\u001b[1mwandb\u001b[0m: \tnum_layers: 2\n",
      "\u001b[34m\u001b[1mwandb\u001b[0m: \toptimizer: adamW\n",
      "\u001b[34m\u001b[1mwandb\u001b[0m: \tvalidation_split: 0.1\n",
      "Failed to detect the name of this notebook, you can set it manually with the WANDB_NOTEBOOK_NAME environment variable to enable code saving.\n",
      "\u001b[34m\u001b[1mwandb\u001b[0m: \u001b[33mWARNING\u001b[0m Ignored wandb.init() arg project when running a sweep.\n"
     ]
    },
    {
     "data": {
      "text/html": [
       "wandb version 0.13.5 is available!  To upgrade, please run:\n",
       " $ pip install wandb --upgrade"
      ],
      "text/plain": [
       "<IPython.core.display.HTML object>"
      ]
     },
     "metadata": {},
     "output_type": "display_data"
    },
    {
     "data": {
      "text/html": [
       "Tracking run with wandb version 0.12.14"
      ],
      "text/plain": [
       "<IPython.core.display.HTML object>"
      ]
     },
     "metadata": {},
     "output_type": "display_data"
    },
    {
     "data": {
      "text/html": [
       "Run data is saved locally in <code>c:\\Users\\Nick\\Documents\\GitHub\\grvmodel\\Python\\pytorch\\New Model\\wandb\\run-20221205_031437-ypq96ib9</code>"
      ],
      "text/plain": [
       "<IPython.core.display.HTML object>"
      ]
     },
     "metadata": {},
     "output_type": "display_data"
    },
    {
     "data": {
      "text/html": [
       "Syncing run <strong><a href=\"https://wandb.ai/nickojelly/grv_priced_sweep_custom_new_box/runs/ypq96ib9\" target=\"_blank\">smooth-sweep-14</a></strong> to <a href=\"https://wandb.ai/nickojelly/grv_priced_sweep_custom_new_box\" target=\"_blank\">Weights & Biases</a> (<a href=\"https://wandb.me/run\" target=\"_blank\">docs</a>)<br/>Sweep page:  <a href=\"https://wandb.ai/nickojelly/grv_priced_sweep_custom_new_box/sweeps/8fweh2r2\" target=\"_blank\">https://wandb.ai/nickojelly/grv_priced_sweep_custom_new_box/sweeps/8fweh2r2</a>"
      ],
      "text/plain": [
       "<IPython.core.display.HTML object>"
      ]
     },
     "metadata": {},
     "output_type": "display_data"
    },
    {
     "name": "stderr",
     "output_type": "stream",
     "text": [
      "  0%|          | 0/1000 [00:00<?, ?it/s]"
     ]
    },
    {
     "name": "stdout",
     "output_type": "stream",
     "text": [
      "{'batch_size': 1000, 'dropout': 0.3, 'epochs': 1000, 'f1_layer_size': 256, 'f2_layer_size': 64, 'l1_beta': 0.9576069148525806, 'learning_rate': 0.0009704101819140368, 'len_data': 142750, 'loss': 'L1', 'num_layers': 2, 'optimizer': 'adamW', 'validation_split': 0.1}\n",
      "1000\n",
      "{'batch_size': 1000, 'dropout': 0.3, 'epochs': 1000, 'f1_layer_size': 256, 'f2_layer_size': 64, 'l1_beta': 0.9576069148525806, 'learning_rate': 0.0009704101819140368, 'len_data': 142750, 'loss': 'L1', 'num_layers': 2, 'optimizer': 'adamW', 'validation_split': 0.1}\n",
      "adamW\n",
      "HERE\n",
      "Sequential(\n",
      "  (0): Linear(in_features=203, out_features=256, bias=True)\n",
      "  (1): ReLU()\n",
      "  (2): Dropout(p=0.3, inplace=False)\n",
      "  (3): Linear(in_features=256, out_features=64, bias=True)\n",
      "  (4): ReLU()\n",
      "  (5): Dropout(p=0.3, inplace=False)\n",
      "  (6): Linear(in_features=64, out_features=8, bias=True)\n",
      "  (7): Softmax(dim=1)\n",
      ")\n"
     ]
    },
    {
     "name": "stderr",
     "output_type": "stream",
     "text": [
      "  0%|          | 1/1000 [00:26<7:23:56, 26.66s/it]"
     ]
    },
    {
     "name": "stdout",
     "output_type": "stream",
     "text": [
      "created path\n"
     ]
    },
    {
     "name": "stderr",
     "output_type": "stream",
     "text": [
      "100%|██████████| 1000/1000 [1:51:01<00:00,  6.66s/it] \n"
     ]
    },
    {
     "name": "stdout",
     "output_type": "stream",
     "text": [
      "\n"
     ]
    },
    {
     "data": {
      "text/html": [
       "Waiting for W&B process to finish... <strong style=\"color:green\">(success).</strong>"
      ],
      "text/plain": [
       "<IPython.core.display.HTML object>"
      ]
     },
     "metadata": {},
     "output_type": "display_data"
    },
    {
     "data": {
      "application/vnd.jupyter.widget-view+json": {
       "model_id": "f0ac00e887a44ea987614b1102595204",
       "version_major": 2,
       "version_minor": 0
      },
      "text/plain": [
       "VBox(children=(Label(value='0.001 MB of 0.001 MB uploaded (0.000 MB deduped)\\r'), FloatProgress(value=1.0, max…"
      ]
     },
     "metadata": {},
     "output_type": "display_data"
    },
    {
     "data": {
      "text/html": [
       "<style>\n",
       "    table.wandb td:nth-child(1) { padding: 0 10px; text-align: right }\n",
       "    .wandb-row { display: flex; flex-direction: row; flex-wrap: wrap; width: 100% }\n",
       "    .wandb-col { display: flex; flex-direction: column; flex-basis: 100%; flex: 1; padding: 10px; }\n",
       "    </style>\n",
       "<div class=\"wandb-row\"><div class=\"wandb-col\"><h3>Run history:</h3><br/><table class=\"wandb\"><tr><td>bfOnlyBets</td><td>▁▅▆▆▅▆▅▆▇▆▆▆▆▇▆▇▇█▆▆▇▇▆▆▇▆▆▇▆█▇▇▇▆▇▇▆▆█▇</td></tr><tr><td>bfOnlyProfit</td><td>▂▆█▄▆▄▅▇▇▃▃▆▄▆▇▆▄▇▄▄▆▄▄▄▁▅▄▄▆▃▅▃▇▂█▇▄▄▅▅</td></tr><tr><td>bf_avail</td><td>▁██▇▇▇▇▇▇▇▆▇▆▇▆▇▆▆▆▆▆▆▆▆▆▆▆▆▆▅▆▆▆▅▆▆▆▅▆▆</td></tr><tr><td>bfnotavail</td><td>▁████▇▇▇▇▇▆▆▆▆▆▆▆▆▆▆▆▆▆▆▆▅▆▆▅▆▆▆▆▆▆▆▆▆▅▅</td></tr><tr><td>correct_conf</td><td>▁▄▅▅▅▅▆▆▆▆▆▆▇▇▆▇▇▇▇▇▇▇▇▇▇▇▇▇▇▇▇▇▇███████</td></tr><tr><td>epoch</td><td>▁▁▁▁▂▂▂▂▂▃▃▃▃▃▃▄▄▄▄▄▅▅▅▅▅▅▆▆▆▆▆▇▇▇▇▇▇███</td></tr><tr><td>incorrect_conf</td><td>▁▃▄▅▅▅▅▅▅▆▆▆▆▆▆▇▇▇▇▇▇▇▇▇▇▇▇▇▇▇▇▇▇██████▇</td></tr><tr><td>loss</td><td>█▇▇▆▆▆▅▄▅▅▄▃▄▄▄▄▄▂▂▃▃▂▃▃▃▃▄▁▂▃▂▃▂▁▂▂▄▂▁▂</td></tr><tr><td>num_bets_per</td><td>██▇▆▆▅▅▅▅▅▄▄▄▄▄▃▃▃▃▃▂▃▃▂▂▂▂▂▂▂▂▂▂▁▁▁▂▁▂▂</td></tr><tr><td>test_accuracy</td><td>▁███▇▇▇▇▇▇▆▇▆▆▆▆▆▆▆▆▆▆▆▆▆▆▆▆▆▆▆▆▆▆▆▆▆▆▆▆</td></tr><tr><td>test_val</td><td>█▁▁▂▂▂▂▂▂▃▃▃▃▃▃▃▃▄▃▃▃▄▄▃▄▄▄▄▄▄▄▄▄▄▄▄▄▄▄▄</td></tr><tr><td>value_pick_correct</td><td>▁▆▆▆▇▆▇▇▇▇▇▇▇█▇▇█▇▇▇▇▇▇█▇██▇▇▇█▇█▇██▇▇▇█</td></tr><tr><td>value_pick_roi</td><td>▁▅▄▄▇▅█▇▇█▆▆▆▇▆▆▅▄▄▄▄▃▃▄▃▆▆▄▃▂▅▂▅▂▅▅▃▃▃▆</td></tr><tr><td>zero_price</td><td>▁▁▁▁▁▁▁▁▁▁▁▁▁▁▁▁▁▁▁▁▁▁▁▁▁▁▁▁▁▁▁▁▁▁▁▁▁▁▁▁</td></tr></table><br/></div><div class=\"wandb-col\"><h3>Run summary:</h3><br/><table class=\"wandb\"><tr><td>alt_bet_1</td><td>nan</td></tr><tr><td>alt_bet_2</td><td>nan</td></tr><tr><td>bfOnlyBets</td><td>9564</td></tr><tr><td>bfOnlyProfit</td><td>-19.05458</td></tr><tr><td>bf_avail</td><td>2497</td></tr><tr><td>bfnotavail</td><td>1155</td></tr><tr><td>correct_conf</td><td>0.35968</td></tr><tr><td>epoch</td><td>999</td></tr><tr><td>incorrect_conf</td><td>0.33326</td></tr><tr><td>num_bets_per</td><td>3.4428</td></tr><tr><td>profit</td><td>nan</td></tr><tr><td>test_val</td><td>7067</td></tr><tr><td>value_pick_correct</td><td>3347</td></tr><tr><td>value_pick_roi</td><td>-0.24388</td></tr><tr><td>zero_price</td><td>0</td></tr></table><br/></div></div>"
      ],
      "text/plain": [
       "<IPython.core.display.HTML object>"
      ]
     },
     "metadata": {},
     "output_type": "display_data"
    },
    {
     "data": {
      "text/html": [
       "Synced <strong style=\"color:#cdcd00\">smooth-sweep-14</strong>: <a href=\"https://wandb.ai/nickojelly/grv_priced_sweep_custom_new_box/runs/ypq96ib9\" target=\"_blank\">https://wandb.ai/nickojelly/grv_priced_sweep_custom_new_box/runs/ypq96ib9</a><br/>Synced 5 W&B file(s), 0 media file(s), 0 artifact file(s) and 0 other file(s)"
      ],
      "text/plain": [
       "<IPython.core.display.HTML object>"
      ]
     },
     "metadata": {},
     "output_type": "display_data"
    },
    {
     "data": {
      "text/html": [
       "Find logs at: <code>.\\wandb\\run-20221205_031437-ypq96ib9\\logs</code>"
      ],
      "text/plain": [
       "<IPython.core.display.HTML object>"
      ]
     },
     "metadata": {},
     "output_type": "display_data"
    },
    {
     "name": "stderr",
     "output_type": "stream",
     "text": [
      "\u001b[34m\u001b[1mwandb\u001b[0m: Agent Starting Run: d1a9xe7k with config:\n",
      "\u001b[34m\u001b[1mwandb\u001b[0m: \tbatch_size: 1000\n",
      "\u001b[34m\u001b[1mwandb\u001b[0m: \tdropout: 0.5\n",
      "\u001b[34m\u001b[1mwandb\u001b[0m: \tepochs: 1000\n",
      "\u001b[34m\u001b[1mwandb\u001b[0m: \tf1_layer_size: 256\n",
      "\u001b[34m\u001b[1mwandb\u001b[0m: \tf2_layer_size: 64\n",
      "\u001b[34m\u001b[1mwandb\u001b[0m: \tl1_beta: 0.427149839434685\n",
      "\u001b[34m\u001b[1mwandb\u001b[0m: \tlearning_rate: 0.000675997742558488\n",
      "\u001b[34m\u001b[1mwandb\u001b[0m: \tlen_data: 142750\n",
      "\u001b[34m\u001b[1mwandb\u001b[0m: \tloss: L1\n",
      "\u001b[34m\u001b[1mwandb\u001b[0m: \tnum_layers: 2\n",
      "\u001b[34m\u001b[1mwandb\u001b[0m: \toptimizer: adamW\n",
      "\u001b[34m\u001b[1mwandb\u001b[0m: \tvalidation_split: 0.1\n",
      "Failed to detect the name of this notebook, you can set it manually with the WANDB_NOTEBOOK_NAME environment variable to enable code saving.\n",
      "\u001b[34m\u001b[1mwandb\u001b[0m: \u001b[33mWARNING\u001b[0m Ignored wandb.init() arg project when running a sweep.\n"
     ]
    },
    {
     "data": {
      "text/html": [
       "wandb version 0.13.5 is available!  To upgrade, please run:\n",
       " $ pip install wandb --upgrade"
      ],
      "text/plain": [
       "<IPython.core.display.HTML object>"
      ]
     },
     "metadata": {},
     "output_type": "display_data"
    },
    {
     "data": {
      "text/html": [
       "Tracking run with wandb version 0.12.14"
      ],
      "text/plain": [
       "<IPython.core.display.HTML object>"
      ]
     },
     "metadata": {},
     "output_type": "display_data"
    },
    {
     "data": {
      "text/html": [
       "Run data is saved locally in <code>c:\\Users\\Nick\\Documents\\GitHub\\grvmodel\\Python\\pytorch\\New Model\\wandb\\run-20221205_050553-d1a9xe7k</code>"
      ],
      "text/plain": [
       "<IPython.core.display.HTML object>"
      ]
     },
     "metadata": {},
     "output_type": "display_data"
    },
    {
     "data": {
      "text/html": [
       "Syncing run <strong><a href=\"https://wandb.ai/nickojelly/grv_priced_sweep_custom_new_box/runs/d1a9xe7k\" target=\"_blank\">generous-sweep-15</a></strong> to <a href=\"https://wandb.ai/nickojelly/grv_priced_sweep_custom_new_box\" target=\"_blank\">Weights & Biases</a> (<a href=\"https://wandb.me/run\" target=\"_blank\">docs</a>)<br/>Sweep page:  <a href=\"https://wandb.ai/nickojelly/grv_priced_sweep_custom_new_box/sweeps/8fweh2r2\" target=\"_blank\">https://wandb.ai/nickojelly/grv_priced_sweep_custom_new_box/sweeps/8fweh2r2</a>"
      ],
      "text/plain": [
       "<IPython.core.display.HTML object>"
      ]
     },
     "metadata": {},
     "output_type": "display_data"
    },
    {
     "name": "stderr",
     "output_type": "stream",
     "text": [
      "  0%|          | 0/1000 [00:00<?, ?it/s]"
     ]
    },
    {
     "name": "stdout",
     "output_type": "stream",
     "text": [
      "{'batch_size': 1000, 'dropout': 0.5, 'epochs': 1000, 'f1_layer_size': 256, 'f2_layer_size': 64, 'l1_beta': 0.427149839434685, 'learning_rate': 0.000675997742558488, 'len_data': 142750, 'loss': 'L1', 'num_layers': 2, 'optimizer': 'adamW', 'validation_split': 0.1}\n",
      "1000\n",
      "{'batch_size': 1000, 'dropout': 0.5, 'epochs': 1000, 'f1_layer_size': 256, 'f2_layer_size': 64, 'l1_beta': 0.427149839434685, 'learning_rate': 0.000675997742558488, 'len_data': 142750, 'loss': 'L1', 'num_layers': 2, 'optimizer': 'adamW', 'validation_split': 0.1}\n",
      "adamW\n",
      "HERE\n",
      "Sequential(\n",
      "  (0): Linear(in_features=203, out_features=256, bias=True)\n",
      "  (1): ReLU()\n",
      "  (2): Dropout(p=0.5, inplace=False)\n",
      "  (3): Linear(in_features=256, out_features=64, bias=True)\n",
      "  (4): ReLU()\n",
      "  (5): Dropout(p=0.5, inplace=False)\n",
      "  (6): Linear(in_features=64, out_features=8, bias=True)\n",
      "  (7): Softmax(dim=1)\n",
      ")\n"
     ]
    },
    {
     "name": "stderr",
     "output_type": "stream",
     "text": [
      "  0%|          | 1/1000 [00:28<7:47:46, 28.09s/it]"
     ]
    },
    {
     "name": "stdout",
     "output_type": "stream",
     "text": [
      "created path\n"
     ]
    },
    {
     "name": "stderr",
     "output_type": "stream",
     "text": [
      "100%|██████████| 1000/1000 [1:50:44<00:00,  6.64s/it] \n"
     ]
    },
    {
     "name": "stdout",
     "output_type": "stream",
     "text": [
      "\n"
     ]
    },
    {
     "data": {
      "text/html": [
       "Waiting for W&B process to finish... <strong style=\"color:green\">(success).</strong>"
      ],
      "text/plain": [
       "<IPython.core.display.HTML object>"
      ]
     },
     "metadata": {},
     "output_type": "display_data"
    },
    {
     "data": {
      "application/vnd.jupyter.widget-view+json": {
       "model_id": "13767ccb27104672b5af07fb263a6752",
       "version_major": 2,
       "version_minor": 0
      },
      "text/plain": [
       "VBox(children=(Label(value='0.001 MB of 0.001 MB uploaded (0.000 MB deduped)\\r'), FloatProgress(value=1.0, max…"
      ]
     },
     "metadata": {},
     "output_type": "display_data"
    },
    {
     "data": {
      "text/html": [
       "<style>\n",
       "    table.wandb td:nth-child(1) { padding: 0 10px; text-align: right }\n",
       "    .wandb-row { display: flex; flex-direction: row; flex-wrap: wrap; width: 100% }\n",
       "    .wandb-col { display: flex; flex-direction: column; flex-basis: 100%; flex: 1; padding: 10px; }\n",
       "    </style>\n",
       "<div class=\"wandb-row\"><div class=\"wandb-col\"><h3>Run history:</h3><br/><table class=\"wandb\"><tr><td>bfOnlyBets</td><td>▁▆▅▆▆▆▅▆▆▄▆▅▇▅▆▅▅▅▇█▇▇▆▅▆█▆▇▆▆▇▇▇█▄▆▆█▇▆</td></tr><tr><td>bfOnlyProfit</td><td>▅▇▇▃▇▃▁▄▅▄▃▁▆▄▅▂▆▂▄▆▅▅█▆▃▇▃▃▄▅▇▅▅█▃▂▅▄▅▆</td></tr><tr><td>bf_avail</td><td>▁██▇█▇▇██▇▇▇▇▇▇▇▇▆▆▆▇▆▇▇▆▆▆▆▆▆▇▆▆▇▆▆▆▆▆▆</td></tr><tr><td>bfnotavail</td><td>▁████▇▇▇▆▇▇▇▆▇▆▆▆▆▆▆▆▆▆▆▆▅▆▆▅▆▅▆▅▆▆▆▆▆▅▆</td></tr><tr><td>correct_conf</td><td>▁▄▅▅▅▆▆▆▆▆▆▇▆▆▇▇▇▇▇▇▇▇▇▇█▇▇█▇█▇▇▇▇███▇██</td></tr><tr><td>epoch</td><td>▁▁▁▁▂▂▂▂▂▃▃▃▃▃▃▄▄▄▄▄▅▅▅▅▅▅▆▆▆▆▆▇▇▇▇▇▇███</td></tr><tr><td>incorrect_conf</td><td>▁▄▅▅▅▆▆▆▆▆▆▇▆▆▇▇▇▇▇▇▇▇▇▇█▇▇█▇█▇▇▇▇███▇██</td></tr><tr><td>loss</td><td>█▇▆▆▅▅▄▅▄▄▄▃▃▃▄▄▃▃▃▃▄▂▂▃▃▃▁▂▂▃▂▂▂▃▂▂▂▁▁▂</td></tr><tr><td>num_bets_per</td><td>██▇▇▆▆▅▅▅▅▄▃▅▄▃▃▃▃▃▃▃▂▃▃▂▃▂▂▃▂▂▃▂▂▁▁▁▂▂▁</td></tr><tr><td>test_accuracy</td><td>▁████▇▇▇▇▇▇▇▇▇▇▇▆▆▆▆▆▆▆▇▆▆▆▆▆▆▆▆▆▆▆▆▆▆▆▆</td></tr><tr><td>test_val</td><td>█▁▁▂▁▂▂▂▂▂▂▂▂▂▂▂▂▃▃▃▃▃▃▃▃▃▃▃▃▃▃▃▃▃▃▃▃▄▃▃</td></tr><tr><td>value_pick_correct</td><td>▁▅▆▆▆▆▇▇▇▇▇▇▇▇▇▇▇▇▇█▇█▇▇▇▇▇▇█▇█▇█▇▇▇▇██▇</td></tr><tr><td>value_pick_roi</td><td>▁▄▃▅▅▄▅▅▆█▄▆▆▆▅▆▇▅▄█▃▆▅▅▅▃▅▄▇▆▅▅▇▆▃▅▅▇▅▄</td></tr><tr><td>zero_price</td><td>▁▁▁▁▁▁▁▁▁▁▁▁▁▁▁▁▁▁▁▁▁▁▁▁▁▁▁▁▁▁▁▁▁▁▁▁▁▁▁▁</td></tr></table><br/></div><div class=\"wandb-col\"><h3>Run summary:</h3><br/><table class=\"wandb\"><tr><td>alt_bet_1</td><td>nan</td></tr><tr><td>alt_bet_2</td><td>nan</td></tr><tr><td>bfOnlyBets</td><td>9547</td></tr><tr><td>bfOnlyProfit</td><td>95.5108</td></tr><tr><td>bf_avail</td><td>2523</td></tr><tr><td>bfnotavail</td><td>1189</td></tr><tr><td>correct_conf</td><td>0.36478</td></tr><tr><td>epoch</td><td>999</td></tr><tr><td>incorrect_conf</td><td>0.3358</td></tr><tr><td>num_bets_per</td><td>3.39671</td></tr><tr><td>profit</td><td>nan</td></tr><tr><td>test_val</td><td>7024</td></tr><tr><td>value_pick_correct</td><td>3331</td></tr><tr><td>value_pick_roi</td><td>-0.25205</td></tr><tr><td>zero_price</td><td>0</td></tr></table><br/></div></div>"
      ],
      "text/plain": [
       "<IPython.core.display.HTML object>"
      ]
     },
     "metadata": {},
     "output_type": "display_data"
    },
    {
     "data": {
      "text/html": [
       "Synced <strong style=\"color:#cdcd00\">generous-sweep-15</strong>: <a href=\"https://wandb.ai/nickojelly/grv_priced_sweep_custom_new_box/runs/d1a9xe7k\" target=\"_blank\">https://wandb.ai/nickojelly/grv_priced_sweep_custom_new_box/runs/d1a9xe7k</a><br/>Synced 5 W&B file(s), 0 media file(s), 0 artifact file(s) and 0 other file(s)"
      ],
      "text/plain": [
       "<IPython.core.display.HTML object>"
      ]
     },
     "metadata": {},
     "output_type": "display_data"
    },
    {
     "data": {
      "text/html": [
       "Find logs at: <code>.\\wandb\\run-20221205_050553-d1a9xe7k\\logs</code>"
      ],
      "text/plain": [
       "<IPython.core.display.HTML object>"
      ]
     },
     "metadata": {},
     "output_type": "display_data"
    },
    {
     "name": "stderr",
     "output_type": "stream",
     "text": [
      "\u001b[34m\u001b[1mwandb\u001b[0m: Agent Starting Run: d7myflgw with config:\n",
      "\u001b[34m\u001b[1mwandb\u001b[0m: \tbatch_size: 1000\n",
      "\u001b[34m\u001b[1mwandb\u001b[0m: \tdropout: 0.4\n",
      "\u001b[34m\u001b[1mwandb\u001b[0m: \tepochs: 1000\n",
      "\u001b[34m\u001b[1mwandb\u001b[0m: \tf1_layer_size: 256\n",
      "\u001b[34m\u001b[1mwandb\u001b[0m: \tf2_layer_size: 64\n",
      "\u001b[34m\u001b[1mwandb\u001b[0m: \tl1_beta: 0.761460112711345\n",
      "\u001b[34m\u001b[1mwandb\u001b[0m: \tlearning_rate: 0.000543036005893139\n",
      "\u001b[34m\u001b[1mwandb\u001b[0m: \tlen_data: 142750\n",
      "\u001b[34m\u001b[1mwandb\u001b[0m: \tloss: L1\n",
      "\u001b[34m\u001b[1mwandb\u001b[0m: \tnum_layers: 2\n",
      "\u001b[34m\u001b[1mwandb\u001b[0m: \toptimizer: adamW\n",
      "\u001b[34m\u001b[1mwandb\u001b[0m: \tvalidation_split: 0.1\n",
      "Failed to detect the name of this notebook, you can set it manually with the WANDB_NOTEBOOK_NAME environment variable to enable code saving.\n",
      "\u001b[34m\u001b[1mwandb\u001b[0m: \u001b[33mWARNING\u001b[0m Ignored wandb.init() arg project when running a sweep.\n"
     ]
    },
    {
     "data": {
      "text/html": [
       "wandb version 0.13.5 is available!  To upgrade, please run:\n",
       " $ pip install wandb --upgrade"
      ],
      "text/plain": [
       "<IPython.core.display.HTML object>"
      ]
     },
     "metadata": {},
     "output_type": "display_data"
    },
    {
     "data": {
      "text/html": [
       "Tracking run with wandb version 0.12.14"
      ],
      "text/plain": [
       "<IPython.core.display.HTML object>"
      ]
     },
     "metadata": {},
     "output_type": "display_data"
    },
    {
     "data": {
      "text/html": [
       "Run data is saved locally in <code>c:\\Users\\Nick\\Documents\\GitHub\\grvmodel\\Python\\pytorch\\New Model\\wandb\\run-20221205_065651-d7myflgw</code>"
      ],
      "text/plain": [
       "<IPython.core.display.HTML object>"
      ]
     },
     "metadata": {},
     "output_type": "display_data"
    },
    {
     "data": {
      "text/html": [
       "Syncing run <strong><a href=\"https://wandb.ai/nickojelly/grv_priced_sweep_custom_new_box/runs/d7myflgw\" target=\"_blank\">peach-sweep-16</a></strong> to <a href=\"https://wandb.ai/nickojelly/grv_priced_sweep_custom_new_box\" target=\"_blank\">Weights & Biases</a> (<a href=\"https://wandb.me/run\" target=\"_blank\">docs</a>)<br/>Sweep page:  <a href=\"https://wandb.ai/nickojelly/grv_priced_sweep_custom_new_box/sweeps/8fweh2r2\" target=\"_blank\">https://wandb.ai/nickojelly/grv_priced_sweep_custom_new_box/sweeps/8fweh2r2</a>"
      ],
      "text/plain": [
       "<IPython.core.display.HTML object>"
      ]
     },
     "metadata": {},
     "output_type": "display_data"
    },
    {
     "name": "stderr",
     "output_type": "stream",
     "text": [
      "  0%|          | 0/1000 [00:00<?, ?it/s]"
     ]
    },
    {
     "name": "stdout",
     "output_type": "stream",
     "text": [
      "{'batch_size': 1000, 'dropout': 0.4, 'epochs': 1000, 'f1_layer_size': 256, 'f2_layer_size': 64, 'l1_beta': 0.761460112711345, 'learning_rate': 0.000543036005893139, 'len_data': 142750, 'loss': 'L1', 'num_layers': 2, 'optimizer': 'adamW', 'validation_split': 0.1}\n",
      "1000\n",
      "{'batch_size': 1000, 'dropout': 0.4, 'epochs': 1000, 'f1_layer_size': 256, 'f2_layer_size': 64, 'l1_beta': 0.761460112711345, 'learning_rate': 0.000543036005893139, 'len_data': 142750, 'loss': 'L1', 'num_layers': 2, 'optimizer': 'adamW', 'validation_split': 0.1}\n",
      "adamW\n",
      "HERE\n",
      "Sequential(\n",
      "  (0): Linear(in_features=203, out_features=256, bias=True)\n",
      "  (1): ReLU()\n",
      "  (2): Dropout(p=0.4, inplace=False)\n",
      "  (3): Linear(in_features=256, out_features=64, bias=True)\n",
      "  (4): ReLU()\n",
      "  (5): Dropout(p=0.4, inplace=False)\n",
      "  (6): Linear(in_features=64, out_features=8, bias=True)\n",
      "  (7): Softmax(dim=1)\n",
      ")\n"
     ]
    },
    {
     "name": "stderr",
     "output_type": "stream",
     "text": [
      "  0%|          | 1/1000 [00:26<7:29:05, 26.97s/it]"
     ]
    },
    {
     "name": "stdout",
     "output_type": "stream",
     "text": [
      "created path\n"
     ]
    },
    {
     "name": "stderr",
     "output_type": "stream",
     "text": [
      "100%|██████████| 1000/1000 [1:50:10<00:00,  6.61s/it] \n"
     ]
    },
    {
     "name": "stdout",
     "output_type": "stream",
     "text": [
      "\n"
     ]
    },
    {
     "data": {
      "text/html": [
       "Waiting for W&B process to finish... <strong style=\"color:green\">(success).</strong>"
      ],
      "text/plain": [
       "<IPython.core.display.HTML object>"
      ]
     },
     "metadata": {},
     "output_type": "display_data"
    },
    {
     "data": {
      "application/vnd.jupyter.widget-view+json": {
       "model_id": "cfb1c1a8bbe4462fb2a5d19d5baa755b",
       "version_major": 2,
       "version_minor": 0
      },
      "text/plain": [
       "VBox(children=(Label(value='0.001 MB of 0.001 MB uploaded (0.000 MB deduped)\\r'), FloatProgress(value=1.0, max…"
      ]
     },
     "metadata": {},
     "output_type": "display_data"
    },
    {
     "data": {
      "text/html": [
       "<style>\n",
       "    table.wandb td:nth-child(1) { padding: 0 10px; text-align: right }\n",
       "    .wandb-row { display: flex; flex-direction: row; flex-wrap: wrap; width: 100% }\n",
       "    .wandb-col { display: flex; flex-direction: column; flex-basis: 100%; flex: 1; padding: 10px; }\n",
       "    </style>\n",
       "<div class=\"wandb-row\"><div class=\"wandb-col\"><h3>Run history:</h3><br/><table class=\"wandb\"><tr><td>bfOnlyBets</td><td>▁▆▆▆▇▇▇▅▆▇▅▅▆▆▆▇▅▅▆▅▅▅▇▅▅▆▇█▆▆▇▅▅█▆▅▇▆▆▆</td></tr><tr><td>bfOnlyProfit</td><td>▁▄▅▂▄▃▆▃▂▂▄▄▅▃▄▄▄▅▄▅▅▄▅▄▄▅▂▂▁▅▂▂█▁▃▂▁▅▂▇</td></tr><tr><td>bf_avail</td><td>▁███████▇▇▇▇▇▇▇▇▇▇▇▇▇▇▇▇▆▇▇▇▆▆▆▆▆▆▆▆▆▇▆▇</td></tr><tr><td>bfnotavail</td><td>▁███▇▇▇▇▇▇▇▇▇▇▇▇▆▇▆▇▇▆▇▆▆▆▆▆▆▆▆▆▅▅▆▆▆▆▆▆</td></tr><tr><td>correct_conf</td><td>▁▄▅▅▆▆▆▆▆▆▇▆▇▇▇▇▇▇█▇▇▇▇▇▇▇██▇█▇█████████</td></tr><tr><td>epoch</td><td>▁▁▁▁▂▂▂▂▂▃▃▃▃▃▃▄▄▄▄▄▅▅▅▅▅▅▆▆▆▆▆▇▇▇▇▇▇███</td></tr><tr><td>incorrect_conf</td><td>▁▄▅▅▅▅▅▆▆▆▆▆▆▆▆▇▇▇█▇▇▇▇▇▇▇▇█▇▇▇▇███▇████</td></tr><tr><td>loss</td><td>█▇▇▆▆▆▅▅▆▄▅▅▄▄▄▄▃▃▄▄▄▄▄▂▃▄▄▃▃▂▃▃▃▁▂▃▃▂▃▁</td></tr><tr><td>num_bets_per</td><td>██▇▇▆▆▆▆▆▅▅▄▄▄▄▄▃▃▂▄▃▃▃▃▃▃▃▂▃▃▂▂▁▂▂▂▂▂▂▁</td></tr><tr><td>test_accuracy</td><td>▁███████▇▇▇▇▇▇▇▇▆▇▇▇▇▆▇▇▆▇▇▆▆▆▆▆▆▆▆▆▆▆▆▆</td></tr><tr><td>test_val</td><td>█▁▁▁▂▁▁▁▂▂▂▂▂▂▂▃▃▂▂▂▂▂▃▂▃▂▃▃▃▃▃▃▃▃▄▃▃▃▃▃</td></tr><tr><td>value_pick_correct</td><td>▁▅▆▆▆▆▇▆▆▆▇▇▇▇▇▇█▇▇▇▇▇▇▇▇▇▇▇▇▇▇▇██▇▇▇██▇</td></tr><tr><td>value_pick_roi</td><td>▁▄▆▅▅▅▇▆▆▆▅█▆▇▆▅▇▆▃▆▇▆▆▇▆▆▅▇▄▆▅▃▇▇▅▅▆▇▆▄</td></tr><tr><td>zero_price</td><td>▁▁▁▁▁▁▁▁▁▁▁▁▁▁▁▁▁▁▁▁▁▁▁▁▁▁▁▁▁▁▁▁▁▁▁▁▁▁▁▁</td></tr></table><br/></div><div class=\"wandb-col\"><h3>Run summary:</h3><br/><table class=\"wandb\"><tr><td>alt_bet_1</td><td>nan</td></tr><tr><td>alt_bet_2</td><td>nan</td></tr><tr><td>bfOnlyBets</td><td>9505</td></tr><tr><td>bfOnlyProfit</td><td>272.79301</td></tr><tr><td>bf_avail</td><td>2548</td></tr><tr><td>bfnotavail</td><td>1204</td></tr><tr><td>correct_conf</td><td>0.34597</td></tr><tr><td>epoch</td><td>999</td></tr><tr><td>incorrect_conf</td><td>0.32204</td></tr><tr><td>num_bets_per</td><td>3.47692</td></tr><tr><td>profit</td><td>nan</td></tr><tr><td>test_val</td><td>6957</td></tr><tr><td>value_pick_correct</td><td>3282</td></tr><tr><td>value_pick_roi</td><td>-0.25455</td></tr><tr><td>zero_price</td><td>0</td></tr></table><br/></div></div>"
      ],
      "text/plain": [
       "<IPython.core.display.HTML object>"
      ]
     },
     "metadata": {},
     "output_type": "display_data"
    },
    {
     "data": {
      "text/html": [
       "Synced <strong style=\"color:#cdcd00\">peach-sweep-16</strong>: <a href=\"https://wandb.ai/nickojelly/grv_priced_sweep_custom_new_box/runs/d7myflgw\" target=\"_blank\">https://wandb.ai/nickojelly/grv_priced_sweep_custom_new_box/runs/d7myflgw</a><br/>Synced 5 W&B file(s), 0 media file(s), 0 artifact file(s) and 0 other file(s)"
      ],
      "text/plain": [
       "<IPython.core.display.HTML object>"
      ]
     },
     "metadata": {},
     "output_type": "display_data"
    },
    {
     "data": {
      "text/html": [
       "Find logs at: <code>.\\wandb\\run-20221205_065651-d7myflgw\\logs</code>"
      ],
      "text/plain": [
       "<IPython.core.display.HTML object>"
      ]
     },
     "metadata": {},
     "output_type": "display_data"
    },
    {
     "name": "stderr",
     "output_type": "stream",
     "text": [
      "\u001b[34m\u001b[1mwandb\u001b[0m: Agent Starting Run: ql72dm0j with config:\n",
      "\u001b[34m\u001b[1mwandb\u001b[0m: \tbatch_size: 1000\n",
      "\u001b[34m\u001b[1mwandb\u001b[0m: \tdropout: 0.5\n",
      "\u001b[34m\u001b[1mwandb\u001b[0m: \tepochs: 1000\n",
      "\u001b[34m\u001b[1mwandb\u001b[0m: \tf1_layer_size: 256\n",
      "\u001b[34m\u001b[1mwandb\u001b[0m: \tf2_layer_size: 64\n",
      "\u001b[34m\u001b[1mwandb\u001b[0m: \tl1_beta: 0.08335709292007787\n",
      "\u001b[34m\u001b[1mwandb\u001b[0m: \tlearning_rate: 0.0006138595348632226\n",
      "\u001b[34m\u001b[1mwandb\u001b[0m: \tlen_data: 142750\n",
      "\u001b[34m\u001b[1mwandb\u001b[0m: \tloss: L1\n",
      "\u001b[34m\u001b[1mwandb\u001b[0m: \tnum_layers: 2\n",
      "\u001b[34m\u001b[1mwandb\u001b[0m: \toptimizer: adamW\n",
      "\u001b[34m\u001b[1mwandb\u001b[0m: \tvalidation_split: 0.1\n",
      "Failed to detect the name of this notebook, you can set it manually with the WANDB_NOTEBOOK_NAME environment variable to enable code saving.\n",
      "\u001b[34m\u001b[1mwandb\u001b[0m: \u001b[33mWARNING\u001b[0m Ignored wandb.init() arg project when running a sweep.\n"
     ]
    },
    {
     "data": {
      "text/html": [
       "wandb version 0.13.5 is available!  To upgrade, please run:\n",
       " $ pip install wandb --upgrade"
      ],
      "text/plain": [
       "<IPython.core.display.HTML object>"
      ]
     },
     "metadata": {},
     "output_type": "display_data"
    },
    {
     "data": {
      "text/html": [
       "Tracking run with wandb version 0.12.14"
      ],
      "text/plain": [
       "<IPython.core.display.HTML object>"
      ]
     },
     "metadata": {},
     "output_type": "display_data"
    },
    {
     "data": {
      "text/html": [
       "Run data is saved locally in <code>c:\\Users\\Nick\\Documents\\GitHub\\grvmodel\\Python\\pytorch\\New Model\\wandb\\run-20221205_084713-ql72dm0j</code>"
      ],
      "text/plain": [
       "<IPython.core.display.HTML object>"
      ]
     },
     "metadata": {},
     "output_type": "display_data"
    },
    {
     "data": {
      "text/html": [
       "Syncing run <strong><a href=\"https://wandb.ai/nickojelly/grv_priced_sweep_custom_new_box/runs/ql72dm0j\" target=\"_blank\">feasible-sweep-17</a></strong> to <a href=\"https://wandb.ai/nickojelly/grv_priced_sweep_custom_new_box\" target=\"_blank\">Weights & Biases</a> (<a href=\"https://wandb.me/run\" target=\"_blank\">docs</a>)<br/>Sweep page:  <a href=\"https://wandb.ai/nickojelly/grv_priced_sweep_custom_new_box/sweeps/8fweh2r2\" target=\"_blank\">https://wandb.ai/nickojelly/grv_priced_sweep_custom_new_box/sweeps/8fweh2r2</a>"
      ],
      "text/plain": [
       "<IPython.core.display.HTML object>"
      ]
     },
     "metadata": {},
     "output_type": "display_data"
    },
    {
     "name": "stderr",
     "output_type": "stream",
     "text": [
      "  0%|          | 0/1000 [00:00<?, ?it/s]"
     ]
    },
    {
     "name": "stdout",
     "output_type": "stream",
     "text": [
      "{'batch_size': 1000, 'dropout': 0.5, 'epochs': 1000, 'f1_layer_size': 256, 'f2_layer_size': 64, 'l1_beta': 0.08335709292007787, 'learning_rate': 0.0006138595348632226, 'len_data': 142750, 'loss': 'L1', 'num_layers': 2, 'optimizer': 'adamW', 'validation_split': 0.1}\n",
      "1000\n",
      "{'batch_size': 1000, 'dropout': 0.5, 'epochs': 1000, 'f1_layer_size': 256, 'f2_layer_size': 64, 'l1_beta': 0.08335709292007787, 'learning_rate': 0.0006138595348632226, 'len_data': 142750, 'loss': 'L1', 'num_layers': 2, 'optimizer': 'adamW', 'validation_split': 0.1}\n",
      "adamW\n",
      "HERE\n",
      "Sequential(\n",
      "  (0): Linear(in_features=203, out_features=256, bias=True)\n",
      "  (1): ReLU()\n",
      "  (2): Dropout(p=0.5, inplace=False)\n",
      "  (3): Linear(in_features=256, out_features=64, bias=True)\n",
      "  (4): ReLU()\n",
      "  (5): Dropout(p=0.5, inplace=False)\n",
      "  (6): Linear(in_features=64, out_features=8, bias=True)\n",
      "  (7): Softmax(dim=1)\n",
      ")\n"
     ]
    },
    {
     "name": "stderr",
     "output_type": "stream",
     "text": [
      "  0%|          | 1/1000 [00:26<7:23:04, 26.61s/it]"
     ]
    },
    {
     "name": "stdout",
     "output_type": "stream",
     "text": [
      "created path\n"
     ]
    },
    {
     "name": "stderr",
     "output_type": "stream",
     "text": [
      "100%|██████████| 1000/1000 [1:49:57<00:00,  6.60s/it] \n"
     ]
    },
    {
     "name": "stdout",
     "output_type": "stream",
     "text": [
      "\n"
     ]
    },
    {
     "data": {
      "text/html": [
       "Waiting for W&B process to finish... <strong style=\"color:green\">(success).</strong>"
      ],
      "text/plain": [
       "<IPython.core.display.HTML object>"
      ]
     },
     "metadata": {},
     "output_type": "display_data"
    },
    {
     "data": {
      "application/vnd.jupyter.widget-view+json": {
       "model_id": "2e7af7204fb8443bad9287194be880af",
       "version_major": 2,
       "version_minor": 0
      },
      "text/plain": [
       "VBox(children=(Label(value='0.001 MB of 0.001 MB uploaded (0.000 MB deduped)\\r'), FloatProgress(value=1.0, max…"
      ]
     },
     "metadata": {},
     "output_type": "display_data"
    },
    {
     "data": {
      "text/html": [
       "<style>\n",
       "    table.wandb td:nth-child(1) { padding: 0 10px; text-align: right }\n",
       "    .wandb-row { display: flex; flex-direction: row; flex-wrap: wrap; width: 100% }\n",
       "    .wandb-col { display: flex; flex-direction: column; flex-basis: 100%; flex: 1; padding: 10px; }\n",
       "    </style>\n",
       "<div class=\"wandb-row\"><div class=\"wandb-col\"><h3>Run history:</h3><br/><table class=\"wandb\"><tr><td>bfOnlyBets</td><td>▁▆█▆▇▆▇▆▆▆▅▅▅▆▅▄▆▆▆▆▅▆▆▆▆▇▇▇▆▆▇▆▇▆▅▆▇▆▆▆</td></tr><tr><td>bfOnlyProfit</td><td>▄█▄▄▄▅▃▃▂▅▁▂▁▆▄█▃▅▆▂▄▅▃▅▃▅▄▃▇▂▆▇▆▅▆▆▄▇▅▅</td></tr><tr><td>bf_avail</td><td>▁██▇███▇▇█▇▇▇▇▇▇▇▇▇▇▇▇▆▇▆▆▆▆▆▆▆▆▆▆▆▆▆▆▆▆</td></tr><tr><td>bfnotavail</td><td>▁███████▇██▇▇▇▇▇▇▇▇▇▇▇▇▇▇▇▇▆▇▇▇▇▆▇▇▆▇▆▇▆</td></tr><tr><td>correct_conf</td><td>▁▄▄▅▆▆▆▆▆▆▆▆▇▇▇▇▆▇▇▇▇▇▇▇▇▇▇▇▇█▇▇▇▇▇▇▇▇█▇</td></tr><tr><td>epoch</td><td>▁▁▁▁▂▂▂▂▂▃▃▃▃▃▃▄▄▄▄▄▅▅▅▅▅▅▆▆▆▆▆▇▇▇▇▇▇███</td></tr><tr><td>incorrect_conf</td><td>▁▄▄▅▆▅▆▅▆▆▆▆▆▇▇▇▆▇▇▇▇▇▇▇▇▇▇▇▇█▇▇▇▇█▇▇▇█▇</td></tr><tr><td>loss</td><td>██▆▆▅▆▆▅▃▅▅▄▄▄▄▄▃▃▃▄▂▃▄▂▃▂▂▃▃▃▂▂▃▂▂▂▂▁▂▁</td></tr><tr><td>num_bets_per</td><td>█▆▆▅▄▅▄▅▄▄▄▄▃▃▃▃▃▃▃▂▃▃▂▂▂▂▁▂▂▁▂▂▂▂▁▂▂▂▁▂</td></tr><tr><td>test_accuracy</td><td>▁██▇████▇█▇▇▇▇▇▇▇▇▇▇▇▇▇▇▆▇▆▆▆▆▆▆▆▆▇▆▆▆▆▆</td></tr><tr><td>test_val</td><td>█▁▁▂▂▁▁▂▂▂▂▂▂▂▂▂▃▂▂▃▃▃▃▃▃▃▃▄▃▄▃▃▃▃▃▃▃▃▃▃</td></tr><tr><td>value_pick_correct</td><td>▁▅▅▆▇▆▇▆▇▇▇▇▇█▇█▇▇██▇█▇▇▇████▇█████▇▇██▇</td></tr><tr><td>value_pick_roi</td><td>▂▄▆▅▄▂▃▄▃▃▅▆▄▇▆▇▆▆▆▃▃▇▄▄▁▅▇█▄▂▇▇▆▆▃▄▃▇▅▄</td></tr><tr><td>zero_price</td><td>▁▁▁▁▁▁▁▁▁▁▁▁▁▁▁▁▁▁▁▁▁▁▁▁▁▁▁▁▁▁▁▁▁▁▁▁▁▁▁▁</td></tr></table><br/></div><div class=\"wandb-col\"><h3>Run summary:</h3><br/><table class=\"wandb\"><tr><td>alt_bet_1</td><td>nan</td></tr><tr><td>alt_bet_2</td><td>nan</td></tr><tr><td>bfOnlyBets</td><td>9505</td></tr><tr><td>bfOnlyProfit</td><td>20.43465</td></tr><tr><td>bf_avail</td><td>2444</td></tr><tr><td>bfnotavail</td><td>1203</td></tr><tr><td>correct_conf</td><td>0.42684</td></tr><tr><td>epoch</td><td>999</td></tr><tr><td>incorrect_conf</td><td>0.38612</td></tr><tr><td>num_bets_per</td><td>3.27839</td></tr><tr><td>profit</td><td>nan</td></tr><tr><td>test_val</td><td>7061</td></tr><tr><td>value_pick_correct</td><td>3427</td></tr><tr><td>value_pick_roi</td><td>-0.25723</td></tr><tr><td>zero_price</td><td>0</td></tr></table><br/></div></div>"
      ],
      "text/plain": [
       "<IPython.core.display.HTML object>"
      ]
     },
     "metadata": {},
     "output_type": "display_data"
    },
    {
     "data": {
      "text/html": [
       "Synced <strong style=\"color:#cdcd00\">feasible-sweep-17</strong>: <a href=\"https://wandb.ai/nickojelly/grv_priced_sweep_custom_new_box/runs/ql72dm0j\" target=\"_blank\">https://wandb.ai/nickojelly/grv_priced_sweep_custom_new_box/runs/ql72dm0j</a><br/>Synced 5 W&B file(s), 0 media file(s), 0 artifact file(s) and 0 other file(s)"
      ],
      "text/plain": [
       "<IPython.core.display.HTML object>"
      ]
     },
     "metadata": {},
     "output_type": "display_data"
    },
    {
     "data": {
      "text/html": [
       "Find logs at: <code>.\\wandb\\run-20221205_084713-ql72dm0j\\logs</code>"
      ],
      "text/plain": [
       "<IPython.core.display.HTML object>"
      ]
     },
     "metadata": {},
     "output_type": "display_data"
    },
    {
     "name": "stderr",
     "output_type": "stream",
     "text": [
      "\u001b[34m\u001b[1mwandb\u001b[0m: Sweep Agent: Waiting for job.\n",
      "\u001b[34m\u001b[1mwandb\u001b[0m: Job received.\n",
      "\u001b[34m\u001b[1mwandb\u001b[0m: Agent Starting Run: id612t5z with config:\n",
      "\u001b[34m\u001b[1mwandb\u001b[0m: \tbatch_size: 1000\n",
      "\u001b[34m\u001b[1mwandb\u001b[0m: \tdropout: 0.3\n",
      "\u001b[34m\u001b[1mwandb\u001b[0m: \tepochs: 1000\n",
      "\u001b[34m\u001b[1mwandb\u001b[0m: \tf1_layer_size: 256\n",
      "\u001b[34m\u001b[1mwandb\u001b[0m: \tf2_layer_size: 64\n",
      "\u001b[34m\u001b[1mwandb\u001b[0m: \tl1_beta: 0.6963272807302433\n",
      "\u001b[34m\u001b[1mwandb\u001b[0m: \tlearning_rate: 0.00020196550375612971\n",
      "\u001b[34m\u001b[1mwandb\u001b[0m: \tlen_data: 142750\n",
      "\u001b[34m\u001b[1mwandb\u001b[0m: \tloss: L1\n",
      "\u001b[34m\u001b[1mwandb\u001b[0m: \tnum_layers: 2\n",
      "\u001b[34m\u001b[1mwandb\u001b[0m: \toptimizer: adamW\n",
      "\u001b[34m\u001b[1mwandb\u001b[0m: \tvalidation_split: 0.1\n",
      "Failed to detect the name of this notebook, you can set it manually with the WANDB_NOTEBOOK_NAME environment variable to enable code saving.\n",
      "\u001b[34m\u001b[1mwandb\u001b[0m: \u001b[33mWARNING\u001b[0m Ignored wandb.init() arg project when running a sweep.\n"
     ]
    },
    {
     "data": {
      "text/html": [
       "wandb version 0.13.5 is available!  To upgrade, please run:\n",
       " $ pip install wandb --upgrade"
      ],
      "text/plain": [
       "<IPython.core.display.HTML object>"
      ]
     },
     "metadata": {},
     "output_type": "display_data"
    },
    {
     "data": {
      "text/html": [
       "Tracking run with wandb version 0.12.14"
      ],
      "text/plain": [
       "<IPython.core.display.HTML object>"
      ]
     },
     "metadata": {},
     "output_type": "display_data"
    },
    {
     "data": {
      "text/html": [
       "Run data is saved locally in <code>c:\\Users\\Nick\\Documents\\GitHub\\grvmodel\\Python\\pytorch\\New Model\\wandb\\run-20221205_103729-id612t5z</code>"
      ],
      "text/plain": [
       "<IPython.core.display.HTML object>"
      ]
     },
     "metadata": {},
     "output_type": "display_data"
    },
    {
     "data": {
      "text/html": [
       "Syncing run <strong><a href=\"https://wandb.ai/nickojelly/grv_priced_sweep_custom_new_box/runs/id612t5z\" target=\"_blank\">smooth-sweep-18</a></strong> to <a href=\"https://wandb.ai/nickojelly/grv_priced_sweep_custom_new_box\" target=\"_blank\">Weights & Biases</a> (<a href=\"https://wandb.me/run\" target=\"_blank\">docs</a>)<br/>Sweep page:  <a href=\"https://wandb.ai/nickojelly/grv_priced_sweep_custom_new_box/sweeps/8fweh2r2\" target=\"_blank\">https://wandb.ai/nickojelly/grv_priced_sweep_custom_new_box/sweeps/8fweh2r2</a>"
      ],
      "text/plain": [
       "<IPython.core.display.HTML object>"
      ]
     },
     "metadata": {},
     "output_type": "display_data"
    },
    {
     "name": "stderr",
     "output_type": "stream",
     "text": [
      "  0%|          | 0/1000 [00:00<?, ?it/s]"
     ]
    },
    {
     "name": "stdout",
     "output_type": "stream",
     "text": [
      "{'batch_size': 1000, 'dropout': 0.3, 'epochs': 1000, 'f1_layer_size': 256, 'f2_layer_size': 64, 'l1_beta': 0.6963272807302433, 'learning_rate': 0.00020196550375612971, 'len_data': 142750, 'loss': 'L1', 'num_layers': 2, 'optimizer': 'adamW', 'validation_split': 0.1}\n",
      "1000\n",
      "{'batch_size': 1000, 'dropout': 0.3, 'epochs': 1000, 'f1_layer_size': 256, 'f2_layer_size': 64, 'l1_beta': 0.6963272807302433, 'learning_rate': 0.00020196550375612971, 'len_data': 142750, 'loss': 'L1', 'num_layers': 2, 'optimizer': 'adamW', 'validation_split': 0.1}\n",
      "adamW\n",
      "HERE\n",
      "Sequential(\n",
      "  (0): Linear(in_features=203, out_features=256, bias=True)\n",
      "  (1): ReLU()\n",
      "  (2): Dropout(p=0.3, inplace=False)\n",
      "  (3): Linear(in_features=256, out_features=64, bias=True)\n",
      "  (4): ReLU()\n",
      "  (5): Dropout(p=0.3, inplace=False)\n",
      "  (6): Linear(in_features=64, out_features=8, bias=True)\n",
      "  (7): Softmax(dim=1)\n",
      ")\n"
     ]
    },
    {
     "name": "stderr",
     "output_type": "stream",
     "text": [
      "  0%|          | 1/1000 [00:26<7:20:52, 26.48s/it]"
     ]
    },
    {
     "name": "stdout",
     "output_type": "stream",
     "text": [
      "created path\n"
     ]
    },
    {
     "name": "stderr",
     "output_type": "stream",
     "text": [
      "100%|██████████| 1000/1000 [1:51:36<00:00,  6.70s/it] \n"
     ]
    },
    {
     "name": "stdout",
     "output_type": "stream",
     "text": [
      "\n"
     ]
    },
    {
     "data": {
      "text/html": [
       "Waiting for W&B process to finish... <strong style=\"color:green\">(success).</strong>"
      ],
      "text/plain": [
       "<IPython.core.display.HTML object>"
      ]
     },
     "metadata": {},
     "output_type": "display_data"
    },
    {
     "data": {
      "application/vnd.jupyter.widget-view+json": {
       "model_id": "1a7b86b4b75b4494be1d645cb6088db0",
       "version_major": 2,
       "version_minor": 0
      },
      "text/plain": [
       "VBox(children=(Label(value='0.001 MB of 0.001 MB uploaded (0.000 MB deduped)\\r'), FloatProgress(value=1.0, max…"
      ]
     },
     "metadata": {},
     "output_type": "display_data"
    },
    {
     "data": {
      "text/html": [
       "<style>\n",
       "    table.wandb td:nth-child(1) { padding: 0 10px; text-align: right }\n",
       "    .wandb-row { display: flex; flex-direction: row; flex-wrap: wrap; width: 100% }\n",
       "    .wandb-col { display: flex; flex-direction: column; flex-basis: 100%; flex: 1; padding: 10px; }\n",
       "    </style>\n",
       "<div class=\"wandb-row\"><div class=\"wandb-col\"><h3>Run history:</h3><br/><table class=\"wandb\"><tr><td>bfOnlyBets</td><td>▁▆▇▇██▇█▇▇▆▆▇▇▇▇▇▇▆▇▆▇▇▆██▇▇▇█▇▇▆▇▇▇▇█▇▇</td></tr><tr><td>bfOnlyProfit</td><td>▂▇▇▇▅▅▂▂▁▅▇▅▃▅▄▅▆▄▅▅▃▇▂▁▂▂▄▃▁▂█▄▄▇▁█▇▃▃▅</td></tr><tr><td>bf_avail</td><td>▁▇████████▇██▇███▇█▇█▇▇▇▇▇▇▇▇▇▇▇▇▇▇▇▇▇▇▇</td></tr><tr><td>bfnotavail</td><td>▁▇▇█▇████▇▇▇▇▇▇▇▇▇▇▇▇▇▇▇▇▇▇▇▇▇▇▇▇▇▇▇▇▇▇▇</td></tr><tr><td>correct_conf</td><td>▁▄▅▆▆▆▇▆▆▇▇▇▇▇▇▇▇▇▇▇▇█▇▇▇▇▇▇▇█▇▇▇███████</td></tr><tr><td>epoch</td><td>▁▁▁▁▂▂▂▂▂▃▃▃▃▃▃▄▄▄▄▄▅▅▅▅▅▅▆▆▆▆▆▇▇▇▇▇▇███</td></tr><tr><td>incorrect_conf</td><td>▁▄▅▅▆▆▆▆▆▇▇▆▇▇▆▇▇▇▇▇▇█▇▇▇▇▇▇▇██▇▇███████</td></tr><tr><td>loss</td><td>█▆▆▅▅▅▄▅▄▄▄▄▄▄▃▄▄▃▂▄▄▃▃▃▂▄▂▄▂▃▄▄▄▃▃▃▁▃▂▁</td></tr><tr><td>num_bets_per</td><td>▆█▇▆▆▆▅▆▅▄▄▅▅▄▅▄▃▄▃▃▃▂▂▃▃▂▃▃▂▁▂▃▃▁▂▁▂▁▂▂</td></tr><tr><td>test_accuracy</td><td>▁▇███████████▇███▇█▇█▇▇▇▇▇▇▇▇▇▇▇▇▇▇▇▇▇▇▇</td></tr><tr><td>test_val</td><td>█▂▁▁▁▁▁▂▁▁▁▁▁▂▁▁▁▂▁▂▁▂▂▂▂▂▂▂▂▂▂▂▂▂▂▂▂▂▂▂</td></tr><tr><td>value_pick_correct</td><td>▁▅▆▆▆▆▆▇▇▆▇▇▇▇▇▇▇█▇▇█▇▇▇▇▇▇▇███▇█████▇██</td></tr><tr><td>value_pick_roi</td><td>▁▅▅▆▅▅▄▇▆▄▆▆▆▆▇▆▅▇▄▆▆▅▅▆▆▅▆▆▆▆█▇█▆▆▇▇▅▇▆</td></tr><tr><td>zero_price</td><td>▁▁▁▁▁▁▁▁▁▁▁▁▁▁▁▁▁▁▁▁▁▁▁▁▁▁▁▁▁▁▁▁▁▁▁▁▁▁▁▁</td></tr></table><br/></div><div class=\"wandb-col\"><h3>Run summary:</h3><br/><table class=\"wandb\"><tr><td>alt_bet_1</td><td>nan</td></tr><tr><td>alt_bet_2</td><td>nan</td></tr><tr><td>bfOnlyBets</td><td>9526</td></tr><tr><td>bfOnlyProfit</td><td>23.82828</td></tr><tr><td>bf_avail</td><td>2711</td></tr><tr><td>bfnotavail</td><td>1279</td></tr><tr><td>correct_conf</td><td>0.3028</td></tr><tr><td>epoch</td><td>999</td></tr><tr><td>incorrect_conf</td><td>0.27771</td></tr><tr><td>num_bets_per</td><td>3.74599</td></tr><tr><td>profit</td><td>nan</td></tr><tr><td>test_val</td><td>6815</td></tr><tr><td>value_pick_correct</td><td>3256</td></tr><tr><td>value_pick_roi</td><td>-0.24829</td></tr><tr><td>zero_price</td><td>0</td></tr></table><br/></div></div>"
      ],
      "text/plain": [
       "<IPython.core.display.HTML object>"
      ]
     },
     "metadata": {},
     "output_type": "display_data"
    },
    {
     "data": {
      "text/html": [
       "Synced <strong style=\"color:#cdcd00\">smooth-sweep-18</strong>: <a href=\"https://wandb.ai/nickojelly/grv_priced_sweep_custom_new_box/runs/id612t5z\" target=\"_blank\">https://wandb.ai/nickojelly/grv_priced_sweep_custom_new_box/runs/id612t5z</a><br/>Synced 5 W&B file(s), 0 media file(s), 0 artifact file(s) and 0 other file(s)"
      ],
      "text/plain": [
       "<IPython.core.display.HTML object>"
      ]
     },
     "metadata": {},
     "output_type": "display_data"
    },
    {
     "data": {
      "text/html": [
       "Find logs at: <code>.\\wandb\\run-20221205_103729-id612t5z\\logs</code>"
      ],
      "text/plain": [
       "<IPython.core.display.HTML object>"
      ]
     },
     "metadata": {},
     "output_type": "display_data"
    },
    {
     "name": "stderr",
     "output_type": "stream",
     "text": [
      "\u001b[34m\u001b[1mwandb\u001b[0m: Agent Starting Run: s5l0eg4j with config:\n",
      "\u001b[34m\u001b[1mwandb\u001b[0m: \tbatch_size: 1000\n",
      "\u001b[34m\u001b[1mwandb\u001b[0m: \tdropout: 0.4\n",
      "\u001b[34m\u001b[1mwandb\u001b[0m: \tepochs: 1000\n",
      "\u001b[34m\u001b[1mwandb\u001b[0m: \tf1_layer_size: 256\n",
      "\u001b[34m\u001b[1mwandb\u001b[0m: \tf2_layer_size: 64\n",
      "\u001b[34m\u001b[1mwandb\u001b[0m: \tl1_beta: 0.018521267147603937\n",
      "\u001b[34m\u001b[1mwandb\u001b[0m: \tlearning_rate: 0.0005608484077115722\n",
      "\u001b[34m\u001b[1mwandb\u001b[0m: \tlen_data: 142750\n",
      "\u001b[34m\u001b[1mwandb\u001b[0m: \tloss: L1\n",
      "\u001b[34m\u001b[1mwandb\u001b[0m: \tnum_layers: 2\n",
      "\u001b[34m\u001b[1mwandb\u001b[0m: \toptimizer: adamW\n",
      "\u001b[34m\u001b[1mwandb\u001b[0m: \tvalidation_split: 0.1\n",
      "Failed to detect the name of this notebook, you can set it manually with the WANDB_NOTEBOOK_NAME environment variable to enable code saving.\n",
      "\u001b[34m\u001b[1mwandb\u001b[0m: \u001b[33mWARNING\u001b[0m Ignored wandb.init() arg project when running a sweep.\n"
     ]
    },
    {
     "data": {
      "text/html": [
       "wandb version 0.13.5 is available!  To upgrade, please run:\n",
       " $ pip install wandb --upgrade"
      ],
      "text/plain": [
       "<IPython.core.display.HTML object>"
      ]
     },
     "metadata": {},
     "output_type": "display_data"
    },
    {
     "data": {
      "text/html": [
       "Tracking run with wandb version 0.12.14"
      ],
      "text/plain": [
       "<IPython.core.display.HTML object>"
      ]
     },
     "metadata": {},
     "output_type": "display_data"
    },
    {
     "data": {
      "text/html": [
       "Run data is saved locally in <code>c:\\Users\\Nick\\Documents\\GitHub\\grvmodel\\Python\\pytorch\\New Model\\wandb\\run-20221205_122917-s5l0eg4j</code>"
      ],
      "text/plain": [
       "<IPython.core.display.HTML object>"
      ]
     },
     "metadata": {},
     "output_type": "display_data"
    },
    {
     "data": {
      "text/html": [
       "Syncing run <strong><a href=\"https://wandb.ai/nickojelly/grv_priced_sweep_custom_new_box/runs/s5l0eg4j\" target=\"_blank\">swept-sweep-19</a></strong> to <a href=\"https://wandb.ai/nickojelly/grv_priced_sweep_custom_new_box\" target=\"_blank\">Weights & Biases</a> (<a href=\"https://wandb.me/run\" target=\"_blank\">docs</a>)<br/>Sweep page:  <a href=\"https://wandb.ai/nickojelly/grv_priced_sweep_custom_new_box/sweeps/8fweh2r2\" target=\"_blank\">https://wandb.ai/nickojelly/grv_priced_sweep_custom_new_box/sweeps/8fweh2r2</a>"
      ],
      "text/plain": [
       "<IPython.core.display.HTML object>"
      ]
     },
     "metadata": {},
     "output_type": "display_data"
    },
    {
     "name": "stderr",
     "output_type": "stream",
     "text": [
      "  0%|          | 0/1000 [00:00<?, ?it/s]"
     ]
    },
    {
     "name": "stdout",
     "output_type": "stream",
     "text": [
      "{'batch_size': 1000, 'dropout': 0.4, 'epochs': 1000, 'f1_layer_size': 256, 'f2_layer_size': 64, 'l1_beta': 0.018521267147603937, 'learning_rate': 0.0005608484077115722, 'len_data': 142750, 'loss': 'L1', 'num_layers': 2, 'optimizer': 'adamW', 'validation_split': 0.1}\n",
      "1000\n",
      "{'batch_size': 1000, 'dropout': 0.4, 'epochs': 1000, 'f1_layer_size': 256, 'f2_layer_size': 64, 'l1_beta': 0.018521267147603937, 'learning_rate': 0.0005608484077115722, 'len_data': 142750, 'loss': 'L1', 'num_layers': 2, 'optimizer': 'adamW', 'validation_split': 0.1}\n",
      "adamW\n",
      "HERE\n",
      "Sequential(\n",
      "  (0): Linear(in_features=203, out_features=256, bias=True)\n",
      "  (1): ReLU()\n",
      "  (2): Dropout(p=0.4, inplace=False)\n",
      "  (3): Linear(in_features=256, out_features=64, bias=True)\n",
      "  (4): ReLU()\n",
      "  (5): Dropout(p=0.4, inplace=False)\n",
      "  (6): Linear(in_features=64, out_features=8, bias=True)\n",
      "  (7): Softmax(dim=1)\n",
      ")\n"
     ]
    },
    {
     "name": "stderr",
     "output_type": "stream",
     "text": [
      "  0%|          | 1/1000 [00:26<7:22:49, 26.60s/it]"
     ]
    },
    {
     "name": "stdout",
     "output_type": "stream",
     "text": [
      "created path\n"
     ]
    },
    {
     "name": "stderr",
     "output_type": "stream",
     "text": [
      "100%|██████████| 1000/1000 [1:54:14<00:00,  6.85s/it] \n"
     ]
    },
    {
     "name": "stdout",
     "output_type": "stream",
     "text": [
      "\n"
     ]
    },
    {
     "data": {
      "text/html": [
       "Waiting for W&B process to finish... <strong style=\"color:green\">(success).</strong>"
      ],
      "text/plain": [
       "<IPython.core.display.HTML object>"
      ]
     },
     "metadata": {},
     "output_type": "display_data"
    },
    {
     "data": {
      "application/vnd.jupyter.widget-view+json": {
       "model_id": "c852ec467d30482393335f1814e99d2c",
       "version_major": 2,
       "version_minor": 0
      },
      "text/plain": [
       "VBox(children=(Label(value='0.001 MB of 0.001 MB uploaded (0.000 MB deduped)\\r'), FloatProgress(value=1.0, max…"
      ]
     },
     "metadata": {},
     "output_type": "display_data"
    },
    {
     "data": {
      "text/html": [
       "<style>\n",
       "    table.wandb td:nth-child(1) { padding: 0 10px; text-align: right }\n",
       "    .wandb-row { display: flex; flex-direction: row; flex-wrap: wrap; width: 100% }\n",
       "    .wandb-col { display: flex; flex-direction: column; flex-basis: 100%; flex: 1; padding: 10px; }\n",
       "    </style>\n",
       "<div class=\"wandb-row\"><div class=\"wandb-col\"><h3>Run history:</h3><br/><table class=\"wandb\"><tr><td>bfOnlyBets</td><td>▁▇▇█▇▇▇▇▇█▇▇█▇█▇▇▆▆▇▆▆▆▆▇▆▆▇▆▇▆▇██▆▇▇▆▆▇</td></tr><tr><td>bfOnlyProfit</td><td>▂█▄▄▄▃▅▃▃▁█▇▃▄▇▆▆▆▄▄▅█▃▄▇▅▃▂▅▄▅▆▆▃▅▅▇▆▅▇</td></tr><tr><td>bf_avail</td><td>▁█▇███▇▇▇▇█▇▇▇▇▇▇▇▇▇▇▇▇▇▇▆▆▆▆▇▇▆▆▆▆▆▆▆▆▆</td></tr><tr><td>bfnotavail</td><td>▁█▇█████▇█▇█▇▇▇▇▇▇▇▇▇▇▇▇▇▇▆▆▇▆▆▆▆▆▆▆▆▆▆▆</td></tr><tr><td>correct_conf</td><td>▁▅▅▅▆▆▇▇▇▇▇▇▇▇▇▇█▇█▇█▇██▇███████████████</td></tr><tr><td>epoch</td><td>▁▁▁▁▂▂▂▂▂▃▃▃▃▃▃▄▄▄▄▄▅▅▅▅▅▅▆▆▆▆▆▇▇▇▇▇▇███</td></tr><tr><td>incorrect_conf</td><td>▁▄▅▅▆▆▆▆▇▇▆▆▇▇▇▇▇▇█▇▇▇█▇▇▇███▇██▇███████</td></tr><tr><td>loss</td><td>██▇▆▆▅▅▄▆▄▅▄▃▃▃▃▃▃▃▂▃▂▂▂▂▂▃▃▃▂▃▂▂▁▁▃▁▁▁▁</td></tr><tr><td>num_bets_per</td><td>█▆▅▄▄▄▃▃▂▂▃▃▂▂▂▂▂▂▁▂▂▂▁▂▂▂▁▁▂▂▁▁▂▁▁▁▁▁▁▁</td></tr><tr><td>test_accuracy</td><td>▁█▇████▇▇▇█▇▇▇▇▇▇▇▇▇▇▇▇▇▇▇▆▆▆▆▇▆▆▆▆▆▆▆▆▆</td></tr><tr><td>test_val</td><td>█▁▂▂▁▁▂▂▂▂▂▂▂▂▂▂▂▂▂▃▂▂▃▃▃▃▃▃▃▃▃▃▃▃▃▃▃▃▃▃</td></tr><tr><td>value_pick_correct</td><td>▁▅▆▆▇▇▇▇▇▇▇█▇██████████▇████████████████</td></tr><tr><td>value_pick_roi</td><td>▁▄▄▅▄▆▆▆▅▅▆▆▅▇▆▇▆█▆▇▇█▆▇██▇▇▇▇█▇▇▇▇█▆▇▇▇</td></tr><tr><td>zero_price</td><td>▁▁▁▁▁▁▁▁▁▁▁▁▁▁▁▁▁▁▁▁▁▁▁▁▁▁▁▁▁▁▁▁▁▁▁▁▁▁▁▁</td></tr></table><br/></div><div class=\"wandb-col\"><h3>Run summary:</h3><br/><table class=\"wandb\"><tr><td>alt_bet_1</td><td>nan</td></tr><tr><td>alt_bet_2</td><td>nan</td></tr><tr><td>bfOnlyBets</td><td>9538</td></tr><tr><td>bfOnlyProfit</td><td>90.28612</td></tr><tr><td>bf_avail</td><td>2503</td></tr><tr><td>bfnotavail</td><td>1203</td></tr><tr><td>correct_conf</td><td>0.4702</td></tr><tr><td>epoch</td><td>999</td></tr><tr><td>incorrect_conf</td><td>0.43064</td></tr><tr><td>num_bets_per</td><td>2.75951</td></tr><tr><td>profit</td><td>nan</td></tr><tr><td>test_val</td><td>7035</td></tr><tr><td>value_pick_correct</td><td>3697</td></tr><tr><td>value_pick_roi</td><td>-0.21239</td></tr><tr><td>zero_price</td><td>0</td></tr></table><br/></div></div>"
      ],
      "text/plain": [
       "<IPython.core.display.HTML object>"
      ]
     },
     "metadata": {},
     "output_type": "display_data"
    },
    {
     "data": {
      "text/html": [
       "Synced <strong style=\"color:#cdcd00\">swept-sweep-19</strong>: <a href=\"https://wandb.ai/nickojelly/grv_priced_sweep_custom_new_box/runs/s5l0eg4j\" target=\"_blank\">https://wandb.ai/nickojelly/grv_priced_sweep_custom_new_box/runs/s5l0eg4j</a><br/>Synced 5 W&B file(s), 0 media file(s), 0 artifact file(s) and 0 other file(s)"
      ],
      "text/plain": [
       "<IPython.core.display.HTML object>"
      ]
     },
     "metadata": {},
     "output_type": "display_data"
    },
    {
     "data": {
      "text/html": [
       "Find logs at: <code>.\\wandb\\run-20221205_122917-s5l0eg4j\\logs</code>"
      ],
      "text/plain": [
       "<IPython.core.display.HTML object>"
      ]
     },
     "metadata": {},
     "output_type": "display_data"
    },
    {
     "name": "stderr",
     "output_type": "stream",
     "text": [
      "\u001b[34m\u001b[1mwandb\u001b[0m: Agent Starting Run: rwxbcbyh with config:\n",
      "\u001b[34m\u001b[1mwandb\u001b[0m: \tbatch_size: 1000\n",
      "\u001b[34m\u001b[1mwandb\u001b[0m: \tdropout: 0.3\n",
      "\u001b[34m\u001b[1mwandb\u001b[0m: \tepochs: 1000\n",
      "\u001b[34m\u001b[1mwandb\u001b[0m: \tf1_layer_size: 256\n",
      "\u001b[34m\u001b[1mwandb\u001b[0m: \tf2_layer_size: 64\n",
      "\u001b[34m\u001b[1mwandb\u001b[0m: \tl1_beta: 0.9003651701504356\n",
      "\u001b[34m\u001b[1mwandb\u001b[0m: \tlearning_rate: 0.00011222528650979872\n",
      "\u001b[34m\u001b[1mwandb\u001b[0m: \tlen_data: 142750\n",
      "\u001b[34m\u001b[1mwandb\u001b[0m: \tloss: L1\n",
      "\u001b[34m\u001b[1mwandb\u001b[0m: \tnum_layers: 2\n",
      "\u001b[34m\u001b[1mwandb\u001b[0m: \toptimizer: adamW\n",
      "\u001b[34m\u001b[1mwandb\u001b[0m: \tvalidation_split: 0.1\n",
      "Failed to detect the name of this notebook, you can set it manually with the WANDB_NOTEBOOK_NAME environment variable to enable code saving.\n",
      "\u001b[34m\u001b[1mwandb\u001b[0m: \u001b[33mWARNING\u001b[0m Ignored wandb.init() arg project when running a sweep.\n"
     ]
    },
    {
     "data": {
      "text/html": [
       "wandb version 0.13.5 is available!  To upgrade, please run:\n",
       " $ pip install wandb --upgrade"
      ],
      "text/plain": [
       "<IPython.core.display.HTML object>"
      ]
     },
     "metadata": {},
     "output_type": "display_data"
    },
    {
     "data": {
      "text/html": [
       "Tracking run with wandb version 0.12.14"
      ],
      "text/plain": [
       "<IPython.core.display.HTML object>"
      ]
     },
     "metadata": {},
     "output_type": "display_data"
    },
    {
     "data": {
      "text/html": [
       "Run data is saved locally in <code>c:\\Users\\Nick\\Documents\\GitHub\\grvmodel\\Python\\pytorch\\New Model\\wandb\\run-20221205_142346-rwxbcbyh</code>"
      ],
      "text/plain": [
       "<IPython.core.display.HTML object>"
      ]
     },
     "metadata": {},
     "output_type": "display_data"
    },
    {
     "data": {
      "text/html": [
       "Syncing run <strong><a href=\"https://wandb.ai/nickojelly/grv_priced_sweep_custom_new_box/runs/rwxbcbyh\" target=\"_blank\">crisp-sweep-20</a></strong> to <a href=\"https://wandb.ai/nickojelly/grv_priced_sweep_custom_new_box\" target=\"_blank\">Weights & Biases</a> (<a href=\"https://wandb.me/run\" target=\"_blank\">docs</a>)<br/>Sweep page:  <a href=\"https://wandb.ai/nickojelly/grv_priced_sweep_custom_new_box/sweeps/8fweh2r2\" target=\"_blank\">https://wandb.ai/nickojelly/grv_priced_sweep_custom_new_box/sweeps/8fweh2r2</a>"
      ],
      "text/plain": [
       "<IPython.core.display.HTML object>"
      ]
     },
     "metadata": {},
     "output_type": "display_data"
    },
    {
     "name": "stderr",
     "output_type": "stream",
     "text": [
      "  0%|          | 0/1000 [00:00<?, ?it/s]"
     ]
    },
    {
     "name": "stdout",
     "output_type": "stream",
     "text": [
      "{'batch_size': 1000, 'dropout': 0.3, 'epochs': 1000, 'f1_layer_size': 256, 'f2_layer_size': 64, 'l1_beta': 0.9003651701504356, 'learning_rate': 0.00011222528650979872, 'len_data': 142750, 'loss': 'L1', 'num_layers': 2, 'optimizer': 'adamW', 'validation_split': 0.1}\n",
      "1000\n",
      "{'batch_size': 1000, 'dropout': 0.3, 'epochs': 1000, 'f1_layer_size': 256, 'f2_layer_size': 64, 'l1_beta': 0.9003651701504356, 'learning_rate': 0.00011222528650979872, 'len_data': 142750, 'loss': 'L1', 'num_layers': 2, 'optimizer': 'adamW', 'validation_split': 0.1}\n",
      "adamW\n",
      "HERE\n",
      "Sequential(\n",
      "  (0): Linear(in_features=203, out_features=256, bias=True)\n",
      "  (1): ReLU()\n",
      "  (2): Dropout(p=0.3, inplace=False)\n",
      "  (3): Linear(in_features=256, out_features=64, bias=True)\n",
      "  (4): ReLU()\n",
      "  (5): Dropout(p=0.3, inplace=False)\n",
      "  (6): Linear(in_features=64, out_features=8, bias=True)\n",
      "  (7): Softmax(dim=1)\n",
      ")\n"
     ]
    },
    {
     "name": "stderr",
     "output_type": "stream",
     "text": [
      "  0%|          | 1/1000 [00:28<8:00:16, 28.85s/it]"
     ]
    },
    {
     "name": "stdout",
     "output_type": "stream",
     "text": [
      "created path\n"
     ]
    },
    {
     "name": "stderr",
     "output_type": "stream",
     "text": [
      "100%|██████████| 1000/1000 [1:51:08<00:00,  6.67s/it] \n"
     ]
    },
    {
     "name": "stdout",
     "output_type": "stream",
     "text": [
      "\n"
     ]
    },
    {
     "data": {
      "text/html": [
       "Waiting for W&B process to finish... <strong style=\"color:green\">(success).</strong>"
      ],
      "text/plain": [
       "<IPython.core.display.HTML object>"
      ]
     },
     "metadata": {},
     "output_type": "display_data"
    },
    {
     "data": {
      "application/vnd.jupyter.widget-view+json": {
       "model_id": "f0ff3f09ab954102af8276ece9f3598c",
       "version_major": 2,
       "version_minor": 0
      },
      "text/plain": [
       "VBox(children=(Label(value='0.001 MB of 0.001 MB uploaded (0.000 MB deduped)\\r'), FloatProgress(value=1.0, max…"
      ]
     },
     "metadata": {},
     "output_type": "display_data"
    },
    {
     "data": {
      "text/html": [
       "<style>\n",
       "    table.wandb td:nth-child(1) { padding: 0 10px; text-align: right }\n",
       "    .wandb-row { display: flex; flex-direction: row; flex-wrap: wrap; width: 100% }\n",
       "    .wandb-col { display: flex; flex-direction: column; flex-basis: 100%; flex: 1; padding: 10px; }\n",
       "    </style>\n",
       "<div class=\"wandb-row\"><div class=\"wandb-col\"><h3>Run history:</h3><br/><table class=\"wandb\"><tr><td>bfOnlyBets</td><td>▁▇▇▇▇▇▇▇▇▇███▇████▇▇▇▇▇▇▇▇▇▇▇▇█▇▇▇▇▇▇▇▇▇</td></tr><tr><td>bfOnlyProfit</td><td>▂▃▆▇▇▆▇▅▄▅▃▁▁▁▄▄▄▄▆▅▃▃▄▅▅▆▄▄▃▄▄▂▆▆▅▅▆▆▆█</td></tr><tr><td>bf_avail</td><td>▁▆▇████████▇█▇██████████████████████████</td></tr><tr><td>bfnotavail</td><td>▁▅▇██████▇▇▇█▇█▇█▇▇▇▇▇▇▇▇▇▇▇▇▇▇▇▇▇▇▇▇▇▇▇</td></tr><tr><td>correct_conf</td><td>▁▄▆▆▆▆▆▆▆▇▇▇▇▇▇▇▇▇▇▇▇▇▇▇▇▇▇▇██▇█▇▇██████</td></tr><tr><td>epoch</td><td>▁▁▁▁▂▂▂▂▂▃▃▃▃▃▃▄▄▄▄▄▅▅▅▅▅▅▆▆▆▆▆▇▇▇▇▇▇███</td></tr><tr><td>incorrect_conf</td><td>▁▄▆▆▆▆▆▆▆▇▆▇▇▇▇▇▇▇▇▇▇▇▇▇▇▇▇▇██▇█▇▇██████</td></tr><tr><td>loss</td><td>█▄▄▅▃▄▄▄▄▃▃▃▄▃▄▃▂▃▂▃▂▂▂▂▂▃▂▃▂▃▂▂▃▂▂▂▂▁▃▂</td></tr><tr><td>num_bets_per</td><td>▃█▅▆▆▅▅▅▅▄▄▃▅▄▄▄▃▃▃▃▃▃▃▃▂▃▃▂▂▂▂▁▂▂▂▂▁▁▂▁</td></tr><tr><td>test_accuracy</td><td>▁▆▇████████▇███████████████████▇███▇▇▇██</td></tr><tr><td>test_val</td><td>█▄▂▁▁▁▁▁▁▁▂▂▂▂▁▁▁▂▁▁▁▁▁▁▁▁▁▁▁▁▁▂▁▁▁▂▁▁▁▁</td></tr><tr><td>value_pick_correct</td><td>▁▅▆▆▇▆▇▇▇▇▇▇▇▇▇▇████▇███████▇███████████</td></tr><tr><td>value_pick_roi</td><td>▁▅▆▅▆▅▅▆▆▅▇█▅▆▆▆▇▇▇█▇██▇▇█▇▇▆▆▇▆▆▇▇▇▆▆█▇</td></tr><tr><td>zero_price</td><td>▁▁▁▁▁▁▁▁▁▁▁▁▁▁▁▁▁▁▁▁▁▁▁▁▁▁▁▁▁▁▁▁▁▁▁▁▁▁▁▁</td></tr></table><br/></div><div class=\"wandb-col\"><h3>Run summary:</h3><br/><table class=\"wandb\"><tr><td>alt_bet_1</td><td>nan</td></tr><tr><td>alt_bet_2</td><td>nan</td></tr><tr><td>bfOnlyBets</td><td>9528</td></tr><tr><td>bfOnlyProfit</td><td>350.31719</td></tr><tr><td>bf_avail</td><td>2798</td></tr><tr><td>bfnotavail</td><td>1288</td></tr><tr><td>correct_conf</td><td>0.29006</td></tr><tr><td>epoch</td><td>999</td></tr><tr><td>incorrect_conf</td><td>0.26511</td></tr><tr><td>num_bets_per</td><td>3.79748</td></tr><tr><td>profit</td><td>nan</td></tr><tr><td>test_val</td><td>6730</td></tr><tr><td>value_pick_correct</td><td>3218</td></tr><tr><td>value_pick_roi</td><td>-0.24717</td></tr><tr><td>zero_price</td><td>0</td></tr></table><br/></div></div>"
      ],
      "text/plain": [
       "<IPython.core.display.HTML object>"
      ]
     },
     "metadata": {},
     "output_type": "display_data"
    },
    {
     "data": {
      "text/html": [
       "Synced <strong style=\"color:#cdcd00\">crisp-sweep-20</strong>: <a href=\"https://wandb.ai/nickojelly/grv_priced_sweep_custom_new_box/runs/rwxbcbyh\" target=\"_blank\">https://wandb.ai/nickojelly/grv_priced_sweep_custom_new_box/runs/rwxbcbyh</a><br/>Synced 5 W&B file(s), 0 media file(s), 0 artifact file(s) and 0 other file(s)"
      ],
      "text/plain": [
       "<IPython.core.display.HTML object>"
      ]
     },
     "metadata": {},
     "output_type": "display_data"
    },
    {
     "data": {
      "text/html": [
       "Find logs at: <code>.\\wandb\\run-20221205_142346-rwxbcbyh\\logs</code>"
      ],
      "text/plain": [
       "<IPython.core.display.HTML object>"
      ]
     },
     "metadata": {},
     "output_type": "display_data"
    },
    {
     "name": "stderr",
     "output_type": "stream",
     "text": [
      "\u001b[34m\u001b[1mwandb\u001b[0m: Agent Starting Run: xvup66gj with config:\n",
      "\u001b[34m\u001b[1mwandb\u001b[0m: \tbatch_size: 1000\n",
      "\u001b[34m\u001b[1mwandb\u001b[0m: \tdropout: 0.4\n",
      "\u001b[34m\u001b[1mwandb\u001b[0m: \tepochs: 1000\n",
      "\u001b[34m\u001b[1mwandb\u001b[0m: \tf1_layer_size: 256\n",
      "\u001b[34m\u001b[1mwandb\u001b[0m: \tf2_layer_size: 64\n",
      "\u001b[34m\u001b[1mwandb\u001b[0m: \tl1_beta: 0.5075720661332522\n",
      "\u001b[34m\u001b[1mwandb\u001b[0m: \tlearning_rate: 0.0006559900508856115\n",
      "\u001b[34m\u001b[1mwandb\u001b[0m: \tlen_data: 142750\n",
      "\u001b[34m\u001b[1mwandb\u001b[0m: \tloss: L1\n",
      "\u001b[34m\u001b[1mwandb\u001b[0m: \tnum_layers: 2\n",
      "\u001b[34m\u001b[1mwandb\u001b[0m: \toptimizer: adamW\n",
      "\u001b[34m\u001b[1mwandb\u001b[0m: \tvalidation_split: 0.1\n",
      "Failed to detect the name of this notebook, you can set it manually with the WANDB_NOTEBOOK_NAME environment variable to enable code saving.\n",
      "\u001b[34m\u001b[1mwandb\u001b[0m: \u001b[33mWARNING\u001b[0m Ignored wandb.init() arg project when running a sweep.\n"
     ]
    },
    {
     "data": {
      "text/html": [
       "wandb version 0.13.5 is available!  To upgrade, please run:\n",
       " $ pip install wandb --upgrade"
      ],
      "text/plain": [
       "<IPython.core.display.HTML object>"
      ]
     },
     "metadata": {},
     "output_type": "display_data"
    },
    {
     "data": {
      "text/html": [
       "Tracking run with wandb version 0.12.14"
      ],
      "text/plain": [
       "<IPython.core.display.HTML object>"
      ]
     },
     "metadata": {},
     "output_type": "display_data"
    },
    {
     "data": {
      "text/html": [
       "Run data is saved locally in <code>c:\\Users\\Nick\\Documents\\GitHub\\grvmodel\\Python\\pytorch\\New Model\\wandb\\run-20221205_161506-xvup66gj</code>"
      ],
      "text/plain": [
       "<IPython.core.display.HTML object>"
      ]
     },
     "metadata": {},
     "output_type": "display_data"
    },
    {
     "data": {
      "text/html": [
       "Syncing run <strong><a href=\"https://wandb.ai/nickojelly/grv_priced_sweep_custom_new_box/runs/xvup66gj\" target=\"_blank\">revived-sweep-21</a></strong> to <a href=\"https://wandb.ai/nickojelly/grv_priced_sweep_custom_new_box\" target=\"_blank\">Weights & Biases</a> (<a href=\"https://wandb.me/run\" target=\"_blank\">docs</a>)<br/>Sweep page:  <a href=\"https://wandb.ai/nickojelly/grv_priced_sweep_custom_new_box/sweeps/8fweh2r2\" target=\"_blank\">https://wandb.ai/nickojelly/grv_priced_sweep_custom_new_box/sweeps/8fweh2r2</a>"
      ],
      "text/plain": [
       "<IPython.core.display.HTML object>"
      ]
     },
     "metadata": {},
     "output_type": "display_data"
    },
    {
     "name": "stderr",
     "output_type": "stream",
     "text": [
      "  0%|          | 0/1000 [00:00<?, ?it/s]"
     ]
    },
    {
     "name": "stdout",
     "output_type": "stream",
     "text": [
      "{'batch_size': 1000, 'dropout': 0.4, 'epochs': 1000, 'f1_layer_size': 256, 'f2_layer_size': 64, 'l1_beta': 0.5075720661332522, 'learning_rate': 0.0006559900508856115, 'len_data': 142750, 'loss': 'L1', 'num_layers': 2, 'optimizer': 'adamW', 'validation_split': 0.1}\n",
      "1000\n",
      "{'batch_size': 1000, 'dropout': 0.4, 'epochs': 1000, 'f1_layer_size': 256, 'f2_layer_size': 64, 'l1_beta': 0.5075720661332522, 'learning_rate': 0.0006559900508856115, 'len_data': 142750, 'loss': 'L1', 'num_layers': 2, 'optimizer': 'adamW', 'validation_split': 0.1}\n",
      "adamW\n",
      "HERE\n",
      "Sequential(\n",
      "  (0): Linear(in_features=203, out_features=256, bias=True)\n",
      "  (1): ReLU()\n",
      "  (2): Dropout(p=0.4, inplace=False)\n",
      "  (3): Linear(in_features=256, out_features=64, bias=True)\n",
      "  (4): ReLU()\n",
      "  (5): Dropout(p=0.4, inplace=False)\n",
      "  (6): Linear(in_features=64, out_features=8, bias=True)\n",
      "  (7): Softmax(dim=1)\n",
      ")\n"
     ]
    },
    {
     "name": "stderr",
     "output_type": "stream",
     "text": [
      "  0%|          | 1/1000 [00:26<7:23:50, 26.66s/it]"
     ]
    },
    {
     "name": "stdout",
     "output_type": "stream",
     "text": [
      "created path\n"
     ]
    },
    {
     "name": "stderr",
     "output_type": "stream",
     "text": [
      "  3%|▎         | 29/1000 [03:16<1:17:40,  4.80s/it]"
     ]
    }
   ],
   "source": [
    "#model_pipeline(config)\n",
    "\n",
    "sweep_id = wandb.sweep(sweep_config, project=\"FastTrack 124K sweeps\")\n",
    "CUDA_LAUNCH_BLOCKING=1\n",
    "wandb.agent(sweep_id, function=model_pipeline, count=100)\n"
   ]
  }
 ],
 "metadata": {
  "interpreter": {
   "hash": "43115443075634c02a7c247a87b0dd9d74842892e56d473b9e19f544f3149aff"
  },
  "kernelspec": {
   "display_name": "Python 3.9.7 ('pytorch')",
   "language": "python",
   "name": "python3"
  },
  "language_info": {
   "codemirror_mode": {
    "name": "ipython",
    "version": 3
   },
   "file_extension": ".py",
   "mimetype": "text/x-python",
   "name": "python",
   "nbconvert_exporter": "python",
   "pygments_lexer": "ipython3",
   "version": "3.9.12"
  }
 },
 "nbformat": 4,
 "nbformat_minor": 2
}
