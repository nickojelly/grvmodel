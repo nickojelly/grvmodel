{
 "cells": [
  {
   "cell_type": "code",
   "execution_count": 1,
   "metadata": {},
   "outputs": [],
   "source": [
    "import os\n",
    "import time\n",
    "import paramiko\n",
    "\n"
   ]
  },
  {
   "cell_type": "code",
   "execution_count": 2,
   "metadata": {},
   "outputs": [],
   "source": [
    "def ssh_model_up():\n",
    "\n",
    "    files = os.listdir('./savedmodel/wild-feather-527/')\n",
    "    models = sorted([(os.path.getmtime(f'./savedmodel/wild-feather-527/{x}'),x) for x in files])\n",
    "    model = models[-1][1]\n",
    "\n",
    "\n",
    "    try:\n",
    "        ssh = paramiko.SSHClient() \n",
    "        ssh.set_missing_host_key_policy(paramiko.AutoAddPolicy()) \n",
    "        # ssh.load_host_keys(os.path.expanduser(os.path.join(\"~\", \".ssh\", \"known_hosts\")))\n",
    "        ssh.connect('45.79.238.197', username='root', password='un6/chxe!N!?adsp')\n",
    "        sftp = ssh.open_sftp()\n",
    "        sftp.put(f'./savedmodel/wild-feather-527/{model}', f'/root/grv_model/model_predictions/models/{model}')\n",
    "        sftp.close()\n",
    "        ssh.close()\n",
    "    except Exception as e:\n",
    "        print(e)\n",
    "\n",
    "    return(model)"
   ]
  },
  {
   "cell_type": "code",
   "execution_count": 3,
   "metadata": {},
   "outputs": [
    {
     "name": "stdout",
     "output_type": "stream",
     "text": [
      "wild-feather-527_1100.pt\n",
      "wild-feather-527_1100.pt\n",
      "wild-feather-527_1100.pt\n",
      "wild-feather-527_1100.pt\n",
      "wild-feather-527_1100.pt\n",
      "wild-feather-527_1100.pt\n",
      "wild-feather-527_1100.pt\n",
      "wild-feather-527_1100.pt\n",
      "wild-feather-527_1100.pt\n",
      "wild-feather-527_1100.pt\n",
      "wild-feather-527_1100.pt\n",
      "wild-feather-527_1100.pt\n",
      "wild-feather-527_1100.pt\n",
      "wild-feather-527_1100.pt\n",
      "wild-feather-527_1100.pt\n",
      "wild-feather-527_1100.pt\n",
      "wild-feather-527_1100.pt\n",
      "wild-feather-527_1100.pt\n",
      "wild-feather-527_1100.pt\n",
      "wild-feather-527_1100.pt\n",
      "wild-feather-527_1100.pt\n",
      "wild-feather-527_1100.pt\n",
      "wild-feather-527_1100.pt\n",
      "wild-feather-527_1100.pt\n"
     ]
    }
   ],
   "source": [
    "while True:\n",
    "    model = ssh_model_up()\n",
    "    print(model)\n",
    "\n",
    "    time.sleep(3600)\n",
    "\n"
   ]
  },
  {
   "cell_type": "code",
   "execution_count": 7,
   "metadata": {},
   "outputs": [
    {
     "data": {
      "text/plain": [
       "'c:\\\\Users\\\\Nick\\\\Documents\\\\GitHub\\\\grvmodel\\\\Python\\\\pytorch\\\\New Model'"
      ]
     },
     "execution_count": 7,
     "metadata": {},
     "output_type": "execute_result"
    }
   ],
   "source": [
    "os.getcwd()"
   ]
  }
 ],
 "metadata": {
  "kernelspec": {
   "display_name": "PYTORCH",
   "language": "python",
   "name": "python3"
  },
  "language_info": {
   "codemirror_mode": {
    "name": "ipython",
    "version": 3
   },
   "file_extension": ".py",
   "mimetype": "text/x-python",
   "name": "python",
   "nbconvert_exporter": "python",
   "pygments_lexer": "ipython3",
   "version": "3.9.16"
  },
  "orig_nbformat": 4
 },
 "nbformat": 4,
 "nbformat_minor": 2
}
