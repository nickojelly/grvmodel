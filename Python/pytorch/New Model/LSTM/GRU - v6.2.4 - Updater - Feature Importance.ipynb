{
 "cells": [
  {
   "cell_type": "code",
   "execution_count": 2,
   "metadata": {},
   "outputs": [
    {
     "name": "stderr",
     "output_type": "stream",
     "text": [
      "<frozen importlib._bootstrap>:228: RuntimeWarning: scipy._lib.messagestream.MessageStream size changed, may indicate binary incompatibility. Expected 56 from C header, got 64 from PyObject\n"
     ]
    },
    {
     "name": "stdout",
     "output_type": "stream",
     "text": [
      "c:\\Users\\Nick\\Documents\\GitHub\\grvmodel\\Python\\pytorch\\New Model\\LSTM\n"
     ]
    }
   ],
   "source": [
    "import pickle\n",
    "import pandas as pd\n",
    "import os\n",
    "\n",
    "import torch\n",
    "import numpy as np\n",
    "import torch.nn as nn\n",
    "import torch.nn.functional as F\n",
    "import torch.optim as optim\n",
    "from tqdm.notebook import tqdm, trange\n",
    "import torch.optim as optim\n",
    "from torch.utils.data import TensorDataset, DataLoader\n",
    "import wandb\n",
    "from torch.utils.data.sampler import SubsetRandomSampler\n",
    "import pprint\n",
    "import matplotlib.pyplot as plt\n",
    "import torch\n",
    "\n",
    "from sklearn.preprocessing import MinMaxScaler\n",
    "import math\n",
    "from torch.profiler import profile, record_function, ProfilerActivity\n",
    "\n",
    "from operator import itemgetter\n",
    "import operator\n",
    "from random import randint\n",
    "# from rnn_classes import Dog, DogInput, Race, Races, GRUNet, smallGRUNet, smalll_lin_GRUNet, smalll_prelin_GRUNet\n",
    "import rnn_classes\n",
    "from raceDB import build_dataset, build_pred_dataset\n",
    "import importlib\n",
    "import datetime\n",
    "from model_saver import model_saver, model_saver_wandb\n",
    "import training_testing_gru\n",
    "from torch.nn.utils.rnn import pack_padded_sequence, pack_sequence, pad_packed_sequence,pad_sequence, unpack_sequence, unpad_sequence\n"
   ]
  },
  {
   "cell_type": "code",
   "execution_count": 3,
   "metadata": {},
   "outputs": [
    {
     "name": "stdout",
     "output_type": "stream",
     "text": [
      "Running on the GPU\n"
     ]
    }
   ],
   "source": [
    "if torch.cuda.is_available():\n",
    "    device = torch.device(\"cuda:0\")  # you can continue going on here, like cuda:1 cuda:2....etc.\n",
    "    print(\"Running on the GPU\")\n",
    "else:\n",
    "    device = torch.device(\"cpu\")\n",
    "    print(\"Running on the CPU\")"
   ]
  },
  {
   "cell_type": "code",
   "execution_count": 4,
   "metadata": {},
   "outputs": [],
   "source": [
    "torch.set_default_tensor_type(torch.FloatTensor)"
   ]
  },
  {
   "cell_type": "code",
   "execution_count": 5,
   "metadata": {},
   "outputs": [],
   "source": [
    "def custom_l2(output, target):\n",
    "    loss = torch.mean(abs(output-target), dim=1)\n",
    "    return loss"
   ]
  },
  {
   "cell_type": "code",
   "execution_count": 6,
   "metadata": {},
   "outputs": [],
   "source": [
    "def validation_CLE(x,y):\n",
    "    loss_t = -torch.log(torch.exp(x)/torch.sum(torch.exp(x), dim=-1, keepdim=True))*y\n",
    "    return loss_t"
   ]
  },
  {
   "cell_type": "code",
   "execution_count": 7,
   "metadata": {},
   "outputs": [
    {
     "name": "stdout",
     "output_type": "stream",
     "text": [
      "[['dist_last__1', 'box_last__1', 'speed_avg_1', 'split_speed_v1_1', 'split_speed_avg_1', 'split_margin_avg_1', 'margin_avg_1', 'RunHomeTime_1', 'run_home_speed_1', 'run_home_speed_v1_1', 'first_out_avg_1', 'pos_out_avg_1', 'post_change_avg_1', 'races_1', 'wins_1', 'wins_last_1', 'weight_', 'min_time_', 'min_split_time_', 'min_split_time_v1', 'last_start_price', 'last_start_prob']]\n",
      "(1253403, 23)\n",
      "28\n",
      "Latest date = 2023-05-26 00:00:00\n",
      "size after state filter (311201, 25)\n",
      "(311201, 25)\n",
      "Latest date = 2023-05-26 00:00:00\n",
      "num_features_per_dog=28\n"
     ]
    },
    {
     "name": "stderr",
     "output_type": "stream",
     "text": [
      "  0%|          | 0/6959 [00:00<?, ?it/s]c:\\Users\\Nick\\.conda\\envs\\PYTORCH\\lib\\site-packages\\tqdm\\std.py:1195: FutureWarning: In a future version of pandas, a length 1 tuple will be returned when iterating over a groupby with a grouper equal to a list of length 1. Don't supply a list with a single grouper to avoid this warning.\n",
      "  for obj in iterable:\n",
      "100%|██████████| 6959/6959 [05:51<00:00, 19.78it/s]  \n",
      "  0%|          | 0/11199 [00:00<?, ?it/s]c:\\Users\\Nick\\.conda\\envs\\PYTORCH\\lib\\site-packages\\tqdm\\std.py:1195: FutureWarning: In a future version of pandas, a length 1 tuple will be returned when iterating over a groupby with a grouper equal to a list of length 1. Don't supply a list with a single grouper to avoid this warning.\n",
      "  for obj in iterable:\n",
      " 44%|████▍     | 4944/11199 [01:26<00:17, 358.86it/s]"
     ]
    },
    {
     "name": "stdout",
     "output_type": "stream",
     "text": [
      "index 7 is out of bounds for dimension 0 with size 5\n"
     ]
    },
    {
     "name": "stderr",
     "output_type": "stream",
     "text": [
      " 68%|██████▊   | 7565/11199 [02:04<00:12, 300.75it/s]"
     ]
    },
    {
     "name": "stdout",
     "output_type": "stream",
     "text": [
      "index 7 is out of bounds for dimension 0 with size 7\n"
     ]
    },
    {
     "name": "stderr",
     "output_type": "stream",
     "text": [
      " 84%|████████▍ | 9407/11199 [02:14<00:05, 324.58it/s]"
     ]
    },
    {
     "name": "stdout",
     "output_type": "stream",
     "text": [
      "index 5 is out of bounds for dimension 0 with size 3\n"
     ]
    },
    {
     "name": "stderr",
     "output_type": "stream",
     "text": [
      "100%|██████████| 11199/11199 [02:20<00:00, 79.92it/s] \n"
     ]
    },
    {
     "name": "stdout",
     "output_type": "stream",
     "text": [
      "number of races = 11199, number of unique dogs = 6960\n"
     ]
    }
   ],
   "source": [
    "os.getcwd()\n",
    "os.chdir(r\"C:\\Users\\Nick\\Documents\\GitHub\\grvmodel\\Python\\DATA\")\n",
    "date = datetime.datetime.strptime(\"2022-08-01\", \"%Y-%m-%d\").date()\n",
    "hidden_size = 32\n",
    "states = [\"NSW\"]\n",
    "data_file = 'gru_inputs_simple_v8_kitchen_sink.fth'\n",
    "# data_file = r'C:\\Users\\Nick\\Documents\\GitHub\\grvmodel\\Python\\DATA\\gru_inputs_simple_TESTING_v6.fth'\n",
    "raceDB = build_dataset(data_file, hidden_size ,state_filter=states, margin_type='boosted_sftmin',v6=True, date_filter=date)"
   ]
  },
  {
   "cell_type": "code",
   "execution_count": 8,
   "metadata": {},
   "outputs": [
    {
     "data": {
      "text/plain": [
       "tensor([300.], device='cuda:0', dtype=torch.float64)"
      ]
     },
     "execution_count": 8,
     "metadata": {},
     "output_type": "execute_result"
    }
   ],
   "source": [
    "races = raceDB.get_test_input([1,2,3])\n",
    "races[0].race_dist"
   ]
  },
  {
   "cell_type": "code",
   "execution_count": 9,
   "metadata": {},
   "outputs": [
    {
     "data": {
      "text/plain": [
       "tensor([300.], device='cuda:0', dtype=torch.float64)"
      ]
     },
     "execution_count": 9,
     "metadata": {},
     "output_type": "execute_result"
    }
   ],
   "source": [
    "races[0].race_dist"
   ]
  },
  {
   "cell_type": "code",
   "execution_count": 10,
   "metadata": {},
   "outputs": [
    {
     "name": "stdout",
     "output_type": "stream",
     "text": [
      "Train examples 0, Test examples 11199\n"
     ]
    }
   ],
   "source": [
    "date = datetime.datetime.strptime(\"2022-08-01\", \"%Y-%m-%d\").date()\n",
    "raceDB.create_test_split_date(date)"
   ]
  },
  {
   "cell_type": "code",
   "execution_count": 11,
   "metadata": {},
   "outputs": [
    {
     "name": "stderr",
     "output_type": "stream",
     "text": [
      "100%|██████████| 6959/6959 [00:00<00:00, 133705.42it/s]\n"
     ]
    }
   ],
   "source": [
    "raceDB.create_dogs_test_split_date()"
   ]
  },
  {
   "cell_type": "code",
   "execution_count": 12,
   "metadata": {},
   "outputs": [
    {
     "name": "stderr",
     "output_type": "stream",
     "text": [
      "100%|██████████| 6960/6960 [00:01<00:00, 6553.88it/s]\n"
     ]
    }
   ],
   "source": [
    "raceDB.attach_races_to_dog_inputv2()"
   ]
  },
  {
   "cell_type": "code",
   "execution_count": 13,
   "metadata": {},
   "outputs": [],
   "source": [
    "all_dog_input = [list(d.races.values()) for d in raceDB.dogsDict.values() if d.races.values()]"
   ]
  },
  {
   "cell_type": "code",
   "execution_count": 14,
   "metadata": {},
   "outputs": [],
   "source": [
    "packed_y = pack_sequence([torch.stack(n,0) for n in [[z.full_input.to('cpu') for z in inner] for inner in all_dog_input]], enforce_sorted=False) "
   ]
  },
  {
   "cell_type": "code",
   "execution_count": 15,
   "metadata": {},
   "outputs": [],
   "source": [
    "packed_y = packed_y.to('cuda:0')"
   ]
  },
  {
   "cell_type": "code",
   "execution_count": 16,
   "metadata": {},
   "outputs": [],
   "source": [
    "# model_name = 'curious-durian-408'\n",
    "# model,hidden_state_dict = setup_model(model_name)"
   ]
  },
  {
   "cell_type": "code",
   "execution_count": 17,
   "metadata": {},
   "outputs": [
    {
     "name": "stdout",
     "output_type": "stream",
     "text": [
      "start_date=datetime.date(2019, 12, 1)\n",
      "period=datetime.date(2020, 11, 30)\n",
      "start_date=datetime.date(2020, 11, 30)\n",
      "period=datetime.date(2021, 11, 30)\n",
      "start_date=datetime.date(2021, 11, 30)\n",
      "period=datetime.date(2022, 7, 31)\n",
      "[(datetime.date(2019, 12, 1), datetime.date(2020, 11, 30)), (datetime.date(2020, 11, 30), datetime.date(2021, 11, 30)), (datetime.date(2021, 11, 30), datetime.date(2022, 7, 31))]\n"
     ]
    }
   ],
   "source": [
    "start_date = datetime.datetime.strptime(\"2019-12-01\", \"%Y-%m-%d\").date()\n",
    "end_date = datetime.datetime.strptime(\"2022-08-01\", \"%Y-%m-%d\").date()-datetime.timedelta(1)\n",
    "period = start_date\n",
    "batches = []\n",
    "while start_date<end_date:\n",
    "   \n",
    "    print(f\"{start_date=}\")\n",
    "    period = min(start_date+datetime.timedelta(365), end_date)\n",
    "    print(f\"{period=}\")\n",
    "    batches.append((start_date,period))\n",
    "    start_date=period\n",
    "    #batches.append((start_date,end_date))\n",
    "# batches.append((period,end_date))\n",
    "print(batches)"
   ]
  },
  {
   "cell_type": "code",
   "execution_count": 18,
   "metadata": {},
   "outputs": [
    {
     "name": "stdout",
     "output_type": "stream",
     "text": [
      "2020-11-30\n",
      "2021-11-30\n",
      "2022-07-31\n",
      "Train examples [0, 0, 0]\n"
     ]
    }
   ],
   "source": [
    "batch_races_ids = [] # list of race_ids\n",
    "j = 0\n",
    "current_batch = []\n",
    "for i,r in enumerate(raceDB.raceIDs):   \n",
    "    _,end_date = batches[j]\n",
    "    race_date = raceDB.racesDict[r].race_date\n",
    "    if race_date>end_date:\n",
    "        print(end_date)\n",
    "\n",
    "        batch_races_ids.append(current_batch)\n",
    "        current_batch = []\n",
    "        j += 1\n",
    "        if j>len(batches)-1:\n",
    "            break\n",
    "    else:\n",
    "        current_batch.append(r)\n",
    "print(f\"Train examples {[len(x) for x in batch_races_ids]}\")"
   ]
  },
  {
   "cell_type": "code",
   "execution_count": 19,
   "metadata": {},
   "outputs": [
    {
     "data": {
      "application/vnd.jupyter.widget-view+json": {
       "model_id": "6f86cadb585f42e7bc2c9b5681201c12",
       "version_major": 2,
       "version_minor": 0
      },
      "text/plain": [
       "  0%|          | 0/3 [00:00<?, ?it/s]"
      ]
     },
     "metadata": {},
     "output_type": "display_data"
    },
    {
     "data": {
      "application/vnd.jupyter.widget-view+json": {
       "model_id": "c59f94535259414ebaef67a0dd0a9f7c",
       "version_major": 2,
       "version_minor": 0
      },
      "text/plain": [
       "  0%|          | 0/6959 [00:00<?, ?it/s]"
      ]
     },
     "metadata": {},
     "output_type": "display_data"
    },
    {
     "data": {
      "application/vnd.jupyter.widget-view+json": {
       "model_id": "b7124d50e2ee41e0bf6351c59a400e6a",
       "version_major": 2,
       "version_minor": 0
      },
      "text/plain": [
       "  0%|          | 0/6959 [00:00<?, ?it/s]"
      ]
     },
     "metadata": {},
     "output_type": "display_data"
    },
    {
     "data": {
      "application/vnd.jupyter.widget-view+json": {
       "model_id": "e11ca46a3abd43d4923f13b6587bf31c",
       "version_major": 2,
       "version_minor": 0
      },
      "text/plain": [
       "  0%|          | 0/6959 [00:00<?, ?it/s]"
      ]
     },
     "metadata": {},
     "output_type": "display_data"
    }
   ],
   "source": [
    "train_dogs = []\n",
    "train_dog_input = []\n",
    "for bi, batch in enumerate(tqdm(batch_races_ids)):\n",
    "    # print(bi)\n",
    "    # print(batch)\n",
    "    batch_dogs = []\n",
    "    batch_dog_input = []\n",
    "    for i in tqdm(raceDB.dog_ids):\n",
    "        dog = raceDB.dogsDict[i]\n",
    "        train = [dog.races[x] for x in batch if x in dog.races.keys()]\n",
    "        if train:\n",
    "            batch_dogs.append(dog)\n",
    "            batch_dog_input.append(train)\n",
    "    train_dogs.append(batch_dogs)\n",
    "    train_dog_input.append(batch_dog_input)"
   ]
  },
  {
   "cell_type": "code",
   "execution_count": 20,
   "metadata": {},
   "outputs": [],
   "source": [
    "batch_races = [[raceDB.racesDict[r] for r in inner] for inner in batch_races_ids]"
   ]
  },
  {
   "cell_type": "code",
   "execution_count": 21,
   "metadata": {},
   "outputs": [
    {
     "name": "stdout",
     "output_type": "stream",
     "text": [
      "Train examples [0, 0, 0]\n",
      "Train examples [0, 0, 0]\n",
      "Train examples [0, 0, 0]\n",
      "Train examples [0, 0, 0]\n"
     ]
    }
   ],
   "source": [
    "print(f\"Train examples {[len(x) for x in train_dogs]}\")\n",
    "print(f\"Train examples {[len(x) for x in train_dog_input]}\")\n",
    "print(f\"Train examples {[len(x) for x in batch_races]}\")\n",
    "print(f\"Train examples {[len(x) for x in batch_races_ids]}\")"
   ]
  },
  {
   "cell_type": "code",
   "execution_count": 22,
   "metadata": {},
   "outputs": [],
   "source": [
    "test_idx = range(0,len(raceDB.test_dog_ids))\n",
    "packed_x = \"\"#[pack_sequence([torch.stack(n,0) for n in [[z.full_input for z in inner] for inner in x]], enforce_sorted=False).to('cuda:0') for x in train_dog_input]\n",
    "packed_x_basic = \"\"#[pack_sequence([torch.stack(n,0) for n in [[z.stats for z in inner] for inner in x]], enforce_sorted=False).to('cuda:0') for x in train_dog_input]\n",
    "packed_y = \"\"#pack_sequence([torch.stack(n,0) for n in [[z.full_input.to('cuda:0') for z in inner] for inner in [x for x in raceDB.get_dog_test(test_idx)]]], enforce_sorted=False)\n",
    "packed_y_basic = pack_sequence([torch.stack(n,0) for n in [[z.stats.to('cuda:0') for z in inner] for inner in [x for x in raceDB.get_dog_test(test_idx)]]], enforce_sorted=False)"
   ]
  },
  {
   "cell_type": "code",
   "execution_count": 23,
   "metadata": {},
   "outputs": [],
   "source": [
    "raceDB.batches = {'num_batches':len(train_dogs),\n",
    "                  'dogs':train_dogs,\n",
    "                  'train_dog_input':train_dog_input,\n",
    "                  'batch_races':batch_races,\n",
    "                  'batch_races_ids':batch_races_ids,\n",
    "                  'packed_x':packed_x,\n",
    "                  'packed_x_basic':packed_x_basic,\n",
    "                  'packed_y_basic':packed_y_basic,\n",
    "                    'packed_y':packed_y}"
   ]
  },
  {
   "cell_type": "code",
   "execution_count": 24,
   "metadata": {},
   "outputs": [],
   "source": [
    "def closure(optimizer, criterion, outs, classes):\n",
    "    optimizer.zero_grad()\n",
    "    loss = nn.functional.mse_loss(outs, classes)\n",
    "    loss.backward()\n",
    "    return loss\n",
    "\n",
    "def model_pipeline(my_dataset=raceDB,config=None,prev_model=None, sweep=True, model_state_dict=None, prev_model_file=None, prev_model_version='450'):\n",
    "    if my_dataset:\n",
    "      dataset = my_dataset    \n",
    "    else:\n",
    "      dataset = raceDB\n",
    "    # tell wandb to get started\n",
    "    with wandb.init(project=\"NEW GRU - updates - shuffle\", config=config):\n",
    "      #  access all HPs through wandb.config, so logging matches execution!\n",
    "      wandb.define_metric(\"loss\", summary=\"min\")\n",
    "      wandb.define_metric(\"test_accuracy\", summary=\"max\")\n",
    "      wandb.define_metric(\"bfprofit\", summary=\"max\")\n",
    "      wandb.define_metric(\"multibet profit\", summary=\"max\")\n",
    "      \n",
    "      config = wandb.config\n",
    "      pprint.pprint(config)\n",
    "      pprint.pprint(config.epochs)\n",
    "      print(config)\n",
    "      # input_size = raceDB.get_race_input([0,1])[0].full_input.shape[0] #create fix so messy\n",
    "      print(config.input_type)\n",
    "      if config.input_type == 'full':\n",
    "        print('here1')\n",
    "        input_size = raceDB.batches['packed_x'][0].data[0].shape[0]\n",
    "      elif config.input_type == 'basic':\n",
    "        print('here')\n",
    "        raceDB.batches['packed_x'] = raceDB.batches['packed_x_basic']\n",
    "        raceDB.batches['packed_y'] = raceDB.batches['packed_y_basic']\n",
    "        input_size = raceDB.batches['packed_y'][0].data[0].shape[0]\n",
    "\n",
    "      print(f\"{input_size=}\")\n",
    "\n",
    "      # raceDB.batches['packed_y'][0] = raceDB.batches['packed_y'][0]._replace(data=)\n",
    "\n",
    "      raceDB.reset_hidden(num_layers=config['num_layers'], hidden_size=config['hidden_size'])\n",
    "      model = rnn_classes.GRUNetv3_BN(input_size,config['hidden_size'], num_layers=config['num_layers'],fc0_size=config['f0_layer_size'], fc1_size=config['f1_layer_size'])\n",
    "\n",
    "      if model_state_dict:\n",
    "        model.load_state_dict(model_state_dict)\n",
    "      if prev_model_file!=None:\n",
    "        model_name = prev_model_file\n",
    "        model_loc = f\"C:/Users/Nick/Documents/GitHub/grvmodel/Python/pytorch/New Model/savedmodel/{model_name}/{model_name}_{prev_model_version}.pt\"\n",
    "        model_data = torch.load(model_loc,map_location=torch.device('cuda:0'))\n",
    "        model.load_state_dict(model_data['model_state_dict'])\n",
    "        raceDB.fill_hidden_states_dict_v2(model_data['db_train'])\n",
    "        config['parent model'] = prev_model_file\n",
    "\n",
    "      raceDB.to_cuda()\n",
    "\n",
    "      criterion = nn.CrossEntropyLoss(reduction='none')\n",
    "      optimizer = optim.AdamW(model.parameters(), lr=config['learning_rate'])\n",
    "      model = model.to(device)\n",
    "\n",
    "      print(model)\n",
    "\n",
    "      # training_testing_gru.validate_model_v3(model,raceDB, criterion,epoch=0)\n",
    "\n",
    "      model.eval()\n",
    "      training_testing_gru.validate_model_v3(model,raceDB, criterion,epoch=0)\n",
    "      # print(ahhh)\n",
    "\n",
    "      # # and use them to train the model\n",
    "      # try:\n",
    "      #   # train_double_loss_regular(model, dataset, criterion, optimizer, scheduler, config, crit2=custom_l2)\n",
    "      #   training_testing_gru.train_regular_v3(model, dataset, criterion, optimizer, 'na', config, update=True)\n",
    "      # except (KeyboardInterrupt) as error:\n",
    "      #   print(error)\n",
    "      #   print(\"finished Early\")\n",
    "\n",
    "      # raceDB.create_hidden_states_dict_v2()\n",
    "      # model_saver_wandb(model, optimizer, 450, 0.1, raceDB.hidden_states_dict_gru_v6,raceDB.train_hidden_dict , model_name=\"long nsw new  22000 RUN\")\n",
    "      if sweep:\n",
    "        raceDB.reset_all_lstm_states\n",
    "        raceDB.reset_hidden()\n",
    "    \n",
    "\n",
    "\n",
    "    # and test its final performance\n",
    "    #test(model, test_loader)\n",
    "\n",
    "    return (model,dataset, optimizer)"
   ]
  },
  {
   "cell_type": "code",
   "execution_count": 25,
   "metadata": {},
   "outputs": [],
   "source": [
    "len(raceDB.raceIDs)\n",
    "wandb_config_static = {'hidden_size':128,\n",
    "                       'datafile':data_file,\n",
    "                       'stats':raceDB.stats_cols,\n",
    "                       'input_type':'basic',\n",
    "                       'races':states,\n",
    "                       'latest_date':raceDB.latest_date,\n",
    "                       'num_layers':2,\n",
    "                       'batch_size': 750,\n",
    "                       'dropout': 0.3,\n",
    "                       'epochs': 10_000,\n",
    "                       'learning_rate': 0.0003,\n",
    "                       'optimizer': 'adamW',\n",
    "                       'f0_layer_size':128,\n",
    "                       'f1_layer_size':64}"
   ]
  },
  {
   "cell_type": "code",
   "execution_count": 26,
   "metadata": {},
   "outputs": [
    {
     "name": "stdout",
     "output_type": "stream",
     "text": [
      "C:\\Users\\Nick\\Documents\\GitHub\\grvmodel\\Python\\DATA\n"
     ]
    },
    {
     "data": {
      "text/plain": [
       "<module 'rnn_classes' from 'c:\\\\Users\\\\Nick\\\\Documents\\\\GitHub\\\\grvmodel\\\\Python\\\\pytorch\\\\New Model\\\\LSTM\\\\rnn_classes.py'>"
      ]
     },
     "execution_count": 26,
     "metadata": {},
     "output_type": "execute_result"
    }
   ],
   "source": [
    "#(model,dataset, optimizer) = model_pipeline(raceDB,config=wandb_config_static)\n",
    "importlib.reload(training_testing_gru)\n",
    "importlib.reload(rnn_classes)\n",
    "# (model,dataset, optimizer) = model_pipeline(raceDB,config=wandb_config_static,sweep=False)"
   ]
  },
  {
   "cell_type": "code",
   "execution_count": 27,
   "metadata": {},
   "outputs": [],
   "source": [
    "raceDB.reset_hidden(num_layers=wandb_config_static['num_layers'], hidden_size=wandb_config_static['hidden_size'])"
   ]
  },
  {
   "cell_type": "code",
   "execution_count": 28,
   "metadata": {},
   "outputs": [],
   "source": [
    "torch.cuda.empty_cache()"
   ]
  },
  {
   "cell_type": "code",
   "execution_count": 29,
   "metadata": {},
   "outputs": [],
   "source": [
    "original = packed_y_basic"
   ]
  },
  {
   "cell_type": "code",
   "execution_count": 30,
   "metadata": {},
   "outputs": [],
   "source": [
    "original_data = packed_y_basic.data"
   ]
  },
  {
   "cell_type": "code",
   "execution_count": 31,
   "metadata": {},
   "outputs": [
    {
     "data": {
      "text/plain": [
       "tensor([[ 5.0000e+00,  0.0000e+00,  1.0000e+00,  ...,  1.4000e-01,\n",
       "          5.1000e+01,  1.9608e-02],\n",
       "        [ 8.0000e+00,  0.0000e+00,  0.0000e+00,  ..., -1.0000e+00,\n",
       "          3.4000e+00,  2.9412e-01],\n",
       "        [ 3.0000e+00,  0.0000e+00,  1.0000e+00,  ...,  2.4000e-01,\n",
       "          5.0000e+00,  2.0000e-01],\n",
       "        ...,\n",
       "        [ 6.0000e+00,  0.0000e+00,  1.0000e+00,  ...,  3.1000e-01,\n",
       "          2.1000e+01,  4.7619e-02],\n",
       "        [ 8.0000e+00,  0.0000e+00,  0.0000e+00,  ...,  4.7000e-01,\n",
       "          1.0100e+02,  9.9010e-03],\n",
       "        [ 7.0000e+00,  0.0000e+00,  0.0000e+00,  ...,  1.8000e-01,\n",
       "          2.3000e+01,  4.3478e-02]], dtype=torch.float64)"
      ]
     },
     "execution_count": 31,
     "metadata": {},
     "output_type": "execute_result"
    }
   ],
   "source": [
    "x = original_data.to('cpu')\n",
    "x"
   ]
  },
  {
   "cell_type": "code",
   "execution_count": 32,
   "metadata": {},
   "outputs": [
    {
     "data": {
      "text/plain": [
       "torch.return_types.max(\n",
       "values=tensor([8.0000e+00, 1.0000e+00, 1.0000e+00, 1.0000e+00, 4.3200e+01, 8.0000e+00,\n",
       "        7.6000e+02, 8.0000e+00, 1.8859e+01, 2.8107e+04, 1.6338e+03, 1.4050e+01,\n",
       "        1.0225e+02, 3.9560e+01, 4.1024e+01, 2.5327e+01, 1.0000e+00, 9.0000e+00,\n",
       "        7.0000e+00, 2.2700e+02, 1.0000e+00, 1.0000e+00, 4.3200e+01, 4.9210e+01,\n",
       "        2.9600e+01, 1.4050e+01, 4.1000e+02, 1.0000e+00], dtype=torch.float64),\n",
       "indices=tensor([    1,     3,     0,     1,  4561,     2, 52454,     0, 40460, 59173,\n",
       "         2138, 45881, 10334,  4069, 45881, 13187,     7, 67587,   475, 80181,\n",
       "          191,    16, 11520, 32301, 45881, 45881, 11545,   693]))"
      ]
     },
     "execution_count": 32,
     "metadata": {},
     "output_type": "execute_result"
    }
   ],
   "source": [
    "torch.max(x, dim=0)"
   ]
  },
  {
   "cell_type": "code",
   "execution_count": 33,
   "metadata": {},
   "outputs": [
    {
     "data": {
      "text/plain": [
       "tensor([[ 8.0000,  0.0000,  0.0000,  ...,  0.3500,  3.4000,  0.2941],\n",
       "        [ 1.0000,  1.0000,  0.0000,  ...,  0.1600, 26.0000,  0.0385],\n",
       "        [ 1.0000,  1.0000,  0.0000,  ...,  0.0600,  7.0000,  0.1429],\n",
       "        ...,\n",
       "        [ 2.0000,  1.0000,  0.0000,  ..., -1.0000,  3.6000,  0.2778],\n",
       "        [ 2.0000,  1.0000,  0.0000,  ..., -1.0000,  2.3000,  0.4348],\n",
       "        [ 5.0000,  0.0000,  1.0000,  ..., -1.0000,  5.5000,  0.1818]],\n",
       "       device='cuda:0', dtype=torch.float64)"
      ]
     },
     "execution_count": 33,
     "metadata": {},
     "output_type": "execute_result"
    }
   ],
   "source": [
    "idx = torch.randperm(original_data.shape[0])\n",
    "original_data[idx].view(original_data.size())"
   ]
  },
  {
   "cell_type": "code",
   "execution_count": 34,
   "metadata": {},
   "outputs": [
    {
     "data": {
      "text/plain": [
       "tensor([[ 8.0000e+00,  0.0000e+00,  0.0000e+00,  ..., -1.0000e+00,\n",
       "          3.4000e+00,  2.9412e-01],\n",
       "        [ 3.0000e+00,  0.0000e+00,  1.0000e+00,  ...,  2.4000e-01,\n",
       "          5.0000e+00,  2.0000e-01],\n",
       "        [ 1.0000e+00,  1.0000e+00,  0.0000e+00,  ...,  1.5000e-01,\n",
       "          1.3000e+01,  7.6923e-02],\n",
       "        ...,\n",
       "        [ 1.0000e+00,  1.0000e+00,  0.0000e+00,  ..., -1.0000e+00,\n",
       "          9.0000e+00,  1.1111e-01],\n",
       "        [ 2.0000e+00,  1.0000e+00,  0.0000e+00,  ...,  2.1000e-01,\n",
       "          8.0000e+00,  1.2500e-01],\n",
       "        [ 2.0000e+00,  1.0000e+00,  0.0000e+00,  ...,  3.1000e-01,\n",
       "          7.1000e+01,  1.4085e-02]], dtype=torch.float64)"
      ]
     },
     "execution_count": 34,
     "metadata": {},
     "output_type": "execute_result"
    }
   ],
   "source": [
    "x = x[1:100]\n",
    "x"
   ]
  },
  {
   "cell_type": "code",
   "execution_count": 35,
   "metadata": {},
   "outputs": [
    {
     "data": {
      "text/plain": [
       "torch.return_types.max(\n",
       "values=tensor([8.0000e+00, 1.0000e+00, 1.0000e+00, 1.0000e+00, 3.6100e+01, 8.0000e+00,\n",
       "        6.2200e+02, 8.0000e+00, 1.7802e+01, 6.4063e+03, 1.8110e+01, 5.2000e-01,\n",
       "        1.9000e+01, 2.6990e+01, 1.7872e+01, 1.5258e+01, 1.0000e+00, 8.0000e+00,\n",
       "        5.0000e+00, 1.7900e+02, 5.0000e-01, 1.0000e+00, 3.5500e+01, 3.6630e+01,\n",
       "        1.6040e+01, 5.2000e-01, 1.0100e+02, 5.4054e-01], dtype=torch.float64),\n",
       "indices=tensor([ 0,  2,  1,  0, 82,  1, 95,  4, 32, 45, 65, 89, 72, 72, 32, 19,  6, 17,\n",
       "        95, 11, 40, 15, 82, 95, 92, 89,  5, 15]))"
      ]
     },
     "execution_count": 35,
     "metadata": {},
     "output_type": "execute_result"
    }
   ],
   "source": [
    "torch.max(x,dim=0)"
   ]
  },
  {
   "cell_type": "code",
   "execution_count": 36,
   "metadata": {},
   "outputs": [
    {
     "name": "stdout",
     "output_type": "stream",
     "text": [
      "tensor([5., 8., 8., 6., 7., 8., 5., 5., 8., 7., 8., 5., 5., 5., 5., 8., 3., 6.,\n",
      "        7., 7., 5., 5., 5., 8., 8., 7., 8., 7., 8., 5., 7., 6., 6., 7., 8., 7.,\n",
      "        7., 8., 7., 5., 8., 8., 4., 7., 8., 7., 6., 5., 7., 7., 8., 7., 8., 8.,\n",
      "        8., 5., 5., 8., 5., 8., 5., 5., 5., 6., 5., 8., 5., 7., 6., 3., 8., 8.,\n",
      "        8., 5., 8., 8., 4., 5., 5., 5., 5., 8., 5., 1., 5., 5., 8., 5., 8., 8.,\n",
      "        8., 6., 7., 8., 8., 7., 8., 8., 4.], dtype=torch.float64)\n"
     ]
    }
   ],
   "source": [
    "idx = torch.randperm(x.size(0))\n",
    "i= 5\n",
    "y = x\n",
    "y[:, i] = x[idx,i] \n",
    "print(y[:, i])"
   ]
  },
  {
   "cell_type": "code",
   "execution_count": 37,
   "metadata": {},
   "outputs": [
    {
     "data": {
      "text/plain": [
       "28"
      ]
     },
     "execution_count": 37,
     "metadata": {},
     "output_type": "execute_result"
    }
   ],
   "source": [
    "x.size(1)"
   ]
  },
  {
   "cell_type": "code",
   "execution_count": 38,
   "metadata": {},
   "outputs": [
    {
     "data": {
      "text/plain": [
       "tensor([[ 5.0000e+00,  0.0000e+00,  1.0000e+00,  ...,  1.4000e-01,\n",
       "          5.1000e+01,  1.9608e-02],\n",
       "        [ 8.0000e+00,  0.0000e+00,  0.0000e+00,  ..., -1.0000e+00,\n",
       "          3.4000e+00,  2.9412e-01],\n",
       "        [ 3.0000e+00,  0.0000e+00,  1.0000e+00,  ...,  2.4000e-01,\n",
       "          5.0000e+00,  2.0000e-01],\n",
       "        ...,\n",
       "        [ 6.0000e+00,  0.0000e+00,  1.0000e+00,  ...,  3.1000e-01,\n",
       "          2.1000e+01,  4.7619e-02],\n",
       "        [ 8.0000e+00,  0.0000e+00,  0.0000e+00,  ...,  4.7000e-01,\n",
       "          1.0100e+02,  9.9010e-03],\n",
       "        [ 7.0000e+00,  0.0000e+00,  0.0000e+00,  ...,  1.8000e-01,\n",
       "          2.3000e+01,  4.3478e-02]], device='cuda:0', dtype=torch.float64)"
      ]
     },
     "execution_count": 38,
     "metadata": {},
     "output_type": "execute_result"
    }
   ],
   "source": [
    "original_data"
   ]
  },
  {
   "cell_type": "code",
   "execution_count": 41,
   "metadata": {},
   "outputs": [
    {
     "data": {
      "application/vnd.jupyter.widget-view+json": {
       "model_id": "9bc31609e309428892a9ecbf6ce3d0ee",
       "version_major": 2,
       "version_minor": 0
      },
      "text/plain": [
       "VBox(children=(Label(value='Waiting for wandb.init()...\\r'), FloatProgress(value=0.016666666666666666, max=1.0…"
      ]
     },
     "metadata": {},
     "output_type": "display_data"
    },
    {
     "data": {
      "text/html": [
       "Tracking run with wandb version 0.15.4"
      ],
      "text/plain": [
       "<IPython.core.display.HTML object>"
      ]
     },
     "metadata": {},
     "output_type": "display_data"
    },
    {
     "data": {
      "text/html": [
       "Run data is saved locally in <code>C:\\Users\\Nick\\Documents\\GitHub\\grvmodel\\Python\\DATA\\wandb\\run-20230615_215402-2tnh6thi</code>"
      ],
      "text/plain": [
       "<IPython.core.display.HTML object>"
      ]
     },
     "metadata": {},
     "output_type": "display_data"
    },
    {
     "data": {
      "text/html": [
       "Syncing run <strong><a href='https://wandb.ai/nickojelly/NEW%20GRU%20-%20updates%20-%20shuffle/runs/2tnh6thi' target=\"_blank\">upbeat-dawn-114</a></strong> to <a href='https://wandb.ai/nickojelly/NEW%20GRU%20-%20updates%20-%20shuffle' target=\"_blank\">Weights & Biases</a> (<a href='https://wandb.me/run' target=\"_blank\">docs</a>)<br/>"
      ],
      "text/plain": [
       "<IPython.core.display.HTML object>"
      ]
     },
     "metadata": {},
     "output_type": "display_data"
    },
    {
     "data": {
      "text/html": [
       " View project at <a href='https://wandb.ai/nickojelly/NEW%20GRU%20-%20updates%20-%20shuffle' target=\"_blank\">https://wandb.ai/nickojelly/NEW%20GRU%20-%20updates%20-%20shuffle</a>"
      ],
      "text/plain": [
       "<IPython.core.display.HTML object>"
      ]
     },
     "metadata": {},
     "output_type": "display_data"
    },
    {
     "data": {
      "text/html": [
       " View run at <a href='https://wandb.ai/nickojelly/NEW%20GRU%20-%20updates%20-%20shuffle/runs/2tnh6thi' target=\"_blank\">https://wandb.ai/nickojelly/NEW%20GRU%20-%20updates%20-%20shuffle/runs/2tnh6thi</a>"
      ],
      "text/plain": [
       "<IPython.core.display.HTML object>"
      ]
     },
     "metadata": {},
     "output_type": "display_data"
    },
    {
     "name": "stdout",
     "output_type": "stream",
     "text": [
      "{'hidden_size': 128, 'datafile': 'gru_inputs_simple_v8_kitchen_sink.fth', 'stats': \"[['dist_last__1', 'box_last__1', 'speed_avg_1', 'split_speed_v1_1', 'split_speed_avg_1', 'split_margin_avg_1', 'margin_avg_1', 'RunHomeTime_1', 'run_home_speed_1', 'run_home_speed_v1_1', 'first_out_avg_1', 'pos_out_avg_1', 'post_change_avg_1', 'races_1', 'wins_1', 'wins_last_1', 'weight_', 'min_time_', 'min_split_time_', 'min_split_time_v1', 'last_start_price', 'last_start_prob']]\", 'input_type': 'basic', 'races': ['NSW'], 'latest_date': '2023-05-26T00:00:00', 'num_layers': 2, 'batch_size': 750, 'dropout': 0.3, 'epochs': 10000, 'learning_rate': 0.0003, 'optimizer': 'adamW', 'f0_layer_size': 128, 'f1_layer_size': 64, 'variable': 'boxpos'}\n",
      "10000\n",
      "{'hidden_size': 128, 'datafile': 'gru_inputs_simple_v8_kitchen_sink.fth', 'stats': \"[['dist_last__1', 'box_last__1', 'speed_avg_1', 'split_speed_v1_1', 'split_speed_avg_1', 'split_margin_avg_1', 'margin_avg_1', 'RunHomeTime_1', 'run_home_speed_1', 'run_home_speed_v1_1', 'first_out_avg_1', 'pos_out_avg_1', 'post_change_avg_1', 'races_1', 'wins_1', 'wins_last_1', 'weight_', 'min_time_', 'min_split_time_', 'min_split_time_v1', 'last_start_price', 'last_start_prob']]\", 'input_type': 'basic', 'races': ['NSW'], 'latest_date': '2023-05-26T00:00:00', 'num_layers': 2, 'batch_size': 750, 'dropout': 0.3, 'epochs': 10000, 'learning_rate': 0.0003, 'optimizer': 'adamW', 'f0_layer_size': 128, 'f1_layer_size': 64, 'variable': 'boxpos'}\n",
      "basic\n",
      "here\n",
      "input_size=28\n"
     ]
    },
    {
     "name": "stderr",
     "output_type": "stream",
     "text": [
      "100%|██████████| 6960/6960 [00:00<00:00, 365970.34it/s]\n"
     ]
    },
    {
     "name": "stdout",
     "output_type": "stream",
     "text": [
      "filled =3856\n",
      "empty  =3104\n",
      "0.5540229885057472null_dog=0\n",
      "GRUNetv3_BN(\n",
      "  (gru): GRU(28, 128, num_layers=2, dropout=0.3)\n",
      "  (relu0): ReLU()\n",
      "  (fc0): Linear(in_features=1094, out_features=1094, bias=True)\n",
      "  (layer_norm): BatchNorm1d(28, eps=1e-05, momentum=0.1, affine=True, track_running_stats=True)\n",
      "  (rl1): ReLU()\n",
      "  (drop1): Dropout(p=0.3, inplace=False)\n",
      "  (fc1): Linear(in_features=1094, out_features=128, bias=True)\n",
      "  (rl2): ReLU()\n",
      "  (drop2): Dropout(p=0.3, inplace=False)\n",
      "  (fc2): Linear(in_features=128, out_features=64, bias=True)\n",
      "  (rl3): ReLU()\n",
      "  (drop3): Dropout(p=0.3, inplace=False)\n",
      "  (fc3): Linear(in_features=64, out_features=8, bias=True)\n",
      "  (output_fn): Identity()\n",
      ")\n"
     ]
    },
    {
     "data": {
      "text/html": [
       "Waiting for W&B process to finish... <strong style=\"color:green\">(success).</strong>"
      ],
      "text/plain": [
       "<IPython.core.display.HTML object>"
      ]
     },
     "metadata": {},
     "output_type": "display_data"
    },
    {
     "data": {
      "text/html": [
       "<style>\n",
       "    table.wandb td:nth-child(1) { padding: 0 10px; text-align: left ; width: auto;} td:nth-child(2) {text-align: left ; width: 100%}\n",
       "    .wandb-row { display: flex; flex-direction: row; flex-wrap: wrap; justify-content: flex-start; width: 100% }\n",
       "    .wandb-col { display: flex; flex-direction: column; flex-basis: 100%; flex: 1; padding: 10px; }\n",
       "    </style>\n",
       "<div class=\"wandb-row\"><div class=\"wandb-col\"><h3>Run history:</h3><br/><table class=\"wandb\"><tr><td>ROI < 30</td><td>▁▁</td></tr><tr><td>ROI < 30 2</td><td>▁▁</td></tr><tr><td>accuracy</td><td>▁▁</td></tr><tr><td>accuracy2</td><td>▁</td></tr><tr><td>epoch</td><td>▁▁</td></tr><tr><td>flat_simple</td><td>▁▁</td></tr><tr><td>loss_val</td><td>▁▁</td></tr><tr><td>multibet outlay < 30</td><td>▁▁</td></tr><tr><td>multibet profit</td><td>▁▁</td></tr><tr><td>multibet profit < 30</td><td>▁▁</td></tr><tr><td>multibet profit < 30 sd</td><td>▁▁</td></tr><tr><td>profit_relu</td><td>▁▁</td></tr><tr><td>relu roi</td><td>▁▁</td></tr></table><br/></div><div class=\"wandb-col\"><h3>Run summary:</h3><br/><table class=\"wandb\"><tr><td>ROI < 30</td><td>0.01365</td></tr><tr><td>ROI < 30 2</td><td>-0.0241</td></tr><tr><td>accuracy</td><td>0.34816</td></tr><tr><td>accuracy2</td><td>0.34816</td></tr><tr><td>epoch</td><td>0</td></tr><tr><td>flat_simple</td><td>-660.50022</td></tr><tr><td>loss_val</td><td>1.68738</td></tr><tr><td>multibet outlay < 30</td><td>145098.74542</td></tr><tr><td>multibet profit < 30</td><td>1980.73981</td></tr><tr><td>multibet profit < 30 sd</td><td>14.61548</td></tr><tr><td>profit_relu</td><td>16.03447</td></tr><tr><td>relu roi</td><td>0.00032</td></tr></table><br/></div></div>"
      ],
      "text/plain": [
       "<IPython.core.display.HTML object>"
      ]
     },
     "metadata": {},
     "output_type": "display_data"
    },
    {
     "data": {
      "text/html": [
       " View run <strong style=\"color:#cdcd00\">upbeat-dawn-114</strong> at: <a href='https://wandb.ai/nickojelly/NEW%20GRU%20-%20updates%20-%20shuffle/runs/2tnh6thi' target=\"_blank\">https://wandb.ai/nickojelly/NEW%20GRU%20-%20updates%20-%20shuffle/runs/2tnh6thi</a><br/>Synced 6 W&B file(s), 3 media file(s), 3 artifact file(s) and 1 other file(s)"
      ],
      "text/plain": [
       "<IPython.core.display.HTML object>"
      ]
     },
     "metadata": {},
     "output_type": "display_data"
    },
    {
     "data": {
      "text/html": [
       "Find logs at: <code>.\\wandb\\run-20230615_215402-2tnh6thi\\logs</code>"
      ],
      "text/plain": [
       "<IPython.core.display.HTML object>"
      ]
     },
     "metadata": {},
     "output_type": "display_data"
    }
   ],
   "source": [
    "wandb_config_static['variable'] = 'boxpos'\n",
    "raceDB.batches['packed_y_basic'] = original_pack\n",
    "x = original_pack.data.to('cpu')\n",
    "idx = torch.randperm(x.size(0))\n",
    "x[:, 1:3] = x[idx,1:3] \n",
    "raceDB.batches['packed_y_basic'] = raceDB.batches['packed_y_basic']._replace(data=x.to('cuda:0'))\n",
    "(model,dataset, optimizer) = model_pipeline(raceDB,config=wandb_config_static,sweep=False, prev_model_file='glamorous-lion-731', prev_model_version='400')"
   ]
  },
  {
   "cell_type": "code",
   "execution_count": 39,
   "metadata": {},
   "outputs": [
    {
     "name": "stderr",
     "output_type": "stream",
     "text": [
      "Failed to detect the name of this notebook, you can set it manually with the WANDB_NOTEBOOK_NAME environment variable to enable code saving.\n",
      "\u001b[34m\u001b[1mwandb\u001b[0m: Currently logged in as: \u001b[33mnickojelly\u001b[0m. Use \u001b[1m`wandb login --relogin`\u001b[0m to force relogin\n"
     ]
    },
    {
     "data": {
      "application/vnd.jupyter.widget-view+json": {
       "model_id": "5a210399ea07471d8e14d211e990e7d1",
       "version_major": 2,
       "version_minor": 0
      },
      "text/plain": [
       "VBox(children=(Label(value='Waiting for wandb.init()...\\r'), FloatProgress(value=0.016666666666666666, max=1.0…"
      ]
     },
     "metadata": {},
     "output_type": "display_data"
    },
    {
     "data": {
      "text/html": [
       "Tracking run with wandb version 0.15.4"
      ],
      "text/plain": [
       "<IPython.core.display.HTML object>"
      ]
     },
     "metadata": {},
     "output_type": "display_data"
    },
    {
     "data": {
      "text/html": [
       "Run data is saved locally in <code>C:\\Users\\Nick\\Documents\\GitHub\\grvmodel\\Python\\DATA\\wandb\\run-20230615_213508-qtr8uxt2</code>"
      ],
      "text/plain": [
       "<IPython.core.display.HTML object>"
      ]
     },
     "metadata": {},
     "output_type": "display_data"
    },
    {
     "data": {
      "text/html": [
       "Syncing run <strong><a href='https://wandb.ai/nickojelly/NEW%20GRU%20-%20updates%20-%20shuffle/runs/qtr8uxt2' target=\"_blank\">dark-dawn-90</a></strong> to <a href='https://wandb.ai/nickojelly/NEW%20GRU%20-%20updates%20-%20shuffle' target=\"_blank\">Weights & Biases</a> (<a href='https://wandb.me/run' target=\"_blank\">docs</a>)<br/>"
      ],
      "text/plain": [
       "<IPython.core.display.HTML object>"
      ]
     },
     "metadata": {},
     "output_type": "display_data"
    },
    {
     "data": {
      "text/html": [
       " View project at <a href='https://wandb.ai/nickojelly/NEW%20GRU%20-%20updates%20-%20shuffle' target=\"_blank\">https://wandb.ai/nickojelly/NEW%20GRU%20-%20updates%20-%20shuffle</a>"
      ],
      "text/plain": [
       "<IPython.core.display.HTML object>"
      ]
     },
     "metadata": {},
     "output_type": "display_data"
    },
    {
     "data": {
      "text/html": [
       " View run at <a href='https://wandb.ai/nickojelly/NEW%20GRU%20-%20updates%20-%20shuffle/runs/qtr8uxt2' target=\"_blank\">https://wandb.ai/nickojelly/NEW%20GRU%20-%20updates%20-%20shuffle/runs/qtr8uxt2</a>"
      ],
      "text/plain": [
       "<IPython.core.display.HTML object>"
      ]
     },
     "metadata": {},
     "output_type": "display_data"
    },
    {
     "name": "stdout",
     "output_type": "stream",
     "text": [
      "{'hidden_size': 128, 'datafile': 'gru_inputs_simple_v8_kitchen_sink.fth', 'stats': \"[['dist_last__1', 'box_last__1', 'speed_avg_1', 'split_speed_v1_1', 'split_speed_avg_1', 'split_margin_avg_1', 'margin_avg_1', 'RunHomeTime_1', 'run_home_speed_1', 'run_home_speed_v1_1', 'first_out_avg_1', 'pos_out_avg_1', 'post_change_avg_1', 'races_1', 'wins_1', 'wins_last_1', 'weight_', 'min_time_', 'min_split_time_', 'min_split_time_v1', 'last_start_price', 'last_start_prob']]\", 'input_type': 'basic', 'races': ['NSW'], 'latest_date': '2023-05-26T00:00:00', 'num_layers': 2, 'batch_size': 750, 'dropout': 0.3, 'epochs': 10000, 'learning_rate': 0.0003, 'optimizer': 'adamW', 'f0_layer_size': 128, 'f1_layer_size': 64, 'variable': 'weight'}\n",
      "10000\n",
      "{'hidden_size': 128, 'datafile': 'gru_inputs_simple_v8_kitchen_sink.fth', 'stats': \"[['dist_last__1', 'box_last__1', 'speed_avg_1', 'split_speed_v1_1', 'split_speed_avg_1', 'split_margin_avg_1', 'margin_avg_1', 'RunHomeTime_1', 'run_home_speed_1', 'run_home_speed_v1_1', 'first_out_avg_1', 'pos_out_avg_1', 'post_change_avg_1', 'races_1', 'wins_1', 'wins_last_1', 'weight_', 'min_time_', 'min_split_time_', 'min_split_time_v1', 'last_start_price', 'last_start_prob']]\", 'input_type': 'basic', 'races': ['NSW'], 'latest_date': '2023-05-26T00:00:00', 'num_layers': 2, 'batch_size': 750, 'dropout': 0.3, 'epochs': 10000, 'learning_rate': 0.0003, 'optimizer': 'adamW', 'f0_layer_size': 128, 'f1_layer_size': 64, 'variable': 'weight'}\n",
      "basic\n",
      "here\n",
      "input_size=28\n"
     ]
    },
    {
     "name": "stderr",
     "output_type": "stream",
     "text": [
      "100%|██████████| 6960/6960 [00:00<00:00, 434604.08it/s]\n"
     ]
    },
    {
     "name": "stdout",
     "output_type": "stream",
     "text": [
      "filled =3856\n",
      "empty  =3104\n",
      "0.5540229885057472null_dog=0\n",
      "GRUNetv3_BN(\n",
      "  (gru): GRU(28, 128, num_layers=2, dropout=0.3)\n",
      "  (relu0): ReLU()\n",
      "  (fc0): Linear(in_features=1094, out_features=1094, bias=True)\n",
      "  (layer_norm): BatchNorm1d(28, eps=1e-05, momentum=0.1, affine=True, track_running_stats=True)\n",
      "  (rl1): ReLU()\n",
      "  (drop1): Dropout(p=0.3, inplace=False)\n",
      "  (fc1): Linear(in_features=1094, out_features=128, bias=True)\n",
      "  (rl2): ReLU()\n",
      "  (drop2): Dropout(p=0.3, inplace=False)\n",
      "  (fc2): Linear(in_features=128, out_features=64, bias=True)\n",
      "  (rl3): ReLU()\n",
      "  (drop3): Dropout(p=0.3, inplace=False)\n",
      "  (fc3): Linear(in_features=64, out_features=8, bias=True)\n",
      "  (output_fn): Identity()\n",
      ")\n"
     ]
    },
    {
     "data": {
      "text/html": [
       "Waiting for W&B process to finish... <strong style=\"color:green\">(success).</strong>"
      ],
      "text/plain": [
       "<IPython.core.display.HTML object>"
      ]
     },
     "metadata": {},
     "output_type": "display_data"
    },
    {
     "data": {
      "text/html": [
       "<style>\n",
       "    table.wandb td:nth-child(1) { padding: 0 10px; text-align: left ; width: auto;} td:nth-child(2) {text-align: left ; width: 100%}\n",
       "    .wandb-row { display: flex; flex-direction: row; flex-wrap: wrap; justify-content: flex-start; width: 100% }\n",
       "    .wandb-col { display: flex; flex-direction: column; flex-basis: 100%; flex: 1; padding: 10px; }\n",
       "    </style>\n",
       "<div class=\"wandb-row\"><div class=\"wandb-col\"><h3>Run history:</h3><br/><table class=\"wandb\"><tr><td>ROI < 30</td><td>▁▁</td></tr><tr><td>ROI < 30 2</td><td>▁▁</td></tr><tr><td>accuracy</td><td>▁▁</td></tr><tr><td>accuracy2</td><td>▁</td></tr><tr><td>epoch</td><td>▁▁</td></tr><tr><td>flat_simple</td><td>▁▁</td></tr><tr><td>loss_val</td><td>▁▁</td></tr><tr><td>multibet outlay < 30</td><td>▁▁</td></tr><tr><td>multibet profit</td><td>▁▁</td></tr><tr><td>multibet profit < 30</td><td>▁▁</td></tr><tr><td>multibet profit < 30 sd</td><td>▁▁</td></tr><tr><td>profit_relu</td><td>▁▁</td></tr><tr><td>relu roi</td><td>▁▁</td></tr></table><br/></div><div class=\"wandb-col\"><h3>Run summary:</h3><br/><table class=\"wandb\"><tr><td>ROI < 30</td><td>0.01823</td></tr><tr><td>ROI < 30 2</td><td>-0.01902</td></tr><tr><td>accuracy</td><td>0.34628</td></tr><tr><td>accuracy2</td><td>0.34628</td></tr><tr><td>epoch</td><td>0</td></tr><tr><td>flat_simple</td><td>-511.96127</td></tr><tr><td>loss_val</td><td>1.68892</td></tr><tr><td>multibet outlay < 30</td><td>145871.42093</td></tr><tr><td>multibet profit < 30</td><td>2659.49293</td></tr><tr><td>multibet profit < 30 sd</td><td>14.74633</td></tr><tr><td>profit_relu</td><td>255.88676</td></tr><tr><td>relu roi</td><td>0.00516</td></tr></table><br/></div></div>"
      ],
      "text/plain": [
       "<IPython.core.display.HTML object>"
      ]
     },
     "metadata": {},
     "output_type": "display_data"
    },
    {
     "data": {
      "text/html": [
       " View run <strong style=\"color:#cdcd00\">dark-dawn-90</strong> at: <a href='https://wandb.ai/nickojelly/NEW%20GRU%20-%20updates%20-%20shuffle/runs/qtr8uxt2' target=\"_blank\">https://wandb.ai/nickojelly/NEW%20GRU%20-%20updates%20-%20shuffle/runs/qtr8uxt2</a><br/>Synced 6 W&B file(s), 3 media file(s), 3 artifact file(s) and 1 other file(s)"
      ],
      "text/plain": [
       "<IPython.core.display.HTML object>"
      ]
     },
     "metadata": {},
     "output_type": "display_data"
    },
    {
     "data": {
      "text/html": [
       "Find logs at: <code>.\\wandb\\run-20230615_213508-qtr8uxt2\\logs</code>"
      ],
      "text/plain": [
       "<IPython.core.display.HTML object>"
      ]
     },
     "metadata": {},
     "output_type": "display_data"
    },
    {
     "data": {
      "application/vnd.jupyter.widget-view+json": {
       "model_id": "2da73e72402f46ba89c98fdbe8984131",
       "version_major": 2,
       "version_minor": 0
      },
      "text/plain": [
       "VBox(children=(Label(value='Waiting for wandb.init()...\\r'), FloatProgress(value=0.016916666666899498, max=1.0…"
      ]
     },
     "metadata": {},
     "output_type": "display_data"
    },
    {
     "data": {
      "text/html": [
       "Tracking run with wandb version 0.15.4"
      ],
      "text/plain": [
       "<IPython.core.display.HTML object>"
      ]
     },
     "metadata": {},
     "output_type": "display_data"
    },
    {
     "data": {
      "text/html": [
       "Run data is saved locally in <code>C:\\Users\\Nick\\Documents\\GitHub\\grvmodel\\Python\\DATA\\wandb\\run-20230615_213553-sqohf0pn</code>"
      ],
      "text/plain": [
       "<IPython.core.display.HTML object>"
      ]
     },
     "metadata": {},
     "output_type": "display_data"
    },
    {
     "data": {
      "text/html": [
       "Syncing run <strong><a href='https://wandb.ai/nickojelly/NEW%20GRU%20-%20updates%20-%20shuffle/runs/sqohf0pn' target=\"_blank\">azure-dust-91</a></strong> to <a href='https://wandb.ai/nickojelly/NEW%20GRU%20-%20updates%20-%20shuffle' target=\"_blank\">Weights & Biases</a> (<a href='https://wandb.me/run' target=\"_blank\">docs</a>)<br/>"
      ],
      "text/plain": [
       "<IPython.core.display.HTML object>"
      ]
     },
     "metadata": {},
     "output_type": "display_data"
    },
    {
     "data": {
      "text/html": [
       " View project at <a href='https://wandb.ai/nickojelly/NEW%20GRU%20-%20updates%20-%20shuffle' target=\"_blank\">https://wandb.ai/nickojelly/NEW%20GRU%20-%20updates%20-%20shuffle</a>"
      ],
      "text/plain": [
       "<IPython.core.display.HTML object>"
      ]
     },
     "metadata": {},
     "output_type": "display_data"
    },
    {
     "data": {
      "text/html": [
       " View run at <a href='https://wandb.ai/nickojelly/NEW%20GRU%20-%20updates%20-%20shuffle/runs/sqohf0pn' target=\"_blank\">https://wandb.ai/nickojelly/NEW%20GRU%20-%20updates%20-%20shuffle/runs/sqohf0pn</a>"
      ],
      "text/plain": [
       "<IPython.core.display.HTML object>"
      ]
     },
     "metadata": {},
     "output_type": "display_data"
    },
    {
     "name": "stdout",
     "output_type": "stream",
     "text": [
      "{'hidden_size': 128, 'datafile': 'gru_inputs_simple_v8_kitchen_sink.fth', 'stats': \"[['dist_last__1', 'box_last__1', 'speed_avg_1', 'split_speed_v1_1', 'split_speed_avg_1', 'split_margin_avg_1', 'margin_avg_1', 'RunHomeTime_1', 'run_home_speed_1', 'run_home_speed_v1_1', 'first_out_avg_1', 'pos_out_avg_1', 'post_change_avg_1', 'races_1', 'wins_1', 'wins_last_1', 'weight_', 'min_time_', 'min_split_time_', 'min_split_time_v1', 'last_start_price', 'last_start_prob']]\", 'input_type': 'basic', 'races': ['NSW'], 'latest_date': '2023-05-26T00:00:00', 'num_layers': 2, 'batch_size': 750, 'dropout': 0.3, 'epochs': 10000, 'learning_rate': 0.0003, 'optimizer': 'adamW', 'f0_layer_size': 128, 'f1_layer_size': 64, 'variable': 'DogGrade'}\n",
      "10000\n",
      "{'hidden_size': 128, 'datafile': 'gru_inputs_simple_v8_kitchen_sink.fth', 'stats': \"[['dist_last__1', 'box_last__1', 'speed_avg_1', 'split_speed_v1_1', 'split_speed_avg_1', 'split_margin_avg_1', 'margin_avg_1', 'RunHomeTime_1', 'run_home_speed_1', 'run_home_speed_v1_1', 'first_out_avg_1', 'pos_out_avg_1', 'post_change_avg_1', 'races_1', 'wins_1', 'wins_last_1', 'weight_', 'min_time_', 'min_split_time_', 'min_split_time_v1', 'last_start_price', 'last_start_prob']]\", 'input_type': 'basic', 'races': ['NSW'], 'latest_date': '2023-05-26T00:00:00', 'num_layers': 2, 'batch_size': 750, 'dropout': 0.3, 'epochs': 10000, 'learning_rate': 0.0003, 'optimizer': 'adamW', 'f0_layer_size': 128, 'f1_layer_size': 64, 'variable': 'DogGrade'}\n",
      "basic\n",
      "here\n",
      "input_size=28\n"
     ]
    },
    {
     "name": "stderr",
     "output_type": "stream",
     "text": [
      "100%|██████████| 6960/6960 [00:00<00:00, 434597.61it/s]\n"
     ]
    },
    {
     "name": "stdout",
     "output_type": "stream",
     "text": [
      "filled =3856\n",
      "empty  =3104\n",
      "0.5540229885057472null_dog=0\n",
      "GRUNetv3_BN(\n",
      "  (gru): GRU(28, 128, num_layers=2, dropout=0.3)\n",
      "  (relu0): ReLU()\n",
      "  (fc0): Linear(in_features=1094, out_features=1094, bias=True)\n",
      "  (layer_norm): BatchNorm1d(28, eps=1e-05, momentum=0.1, affine=True, track_running_stats=True)\n",
      "  (rl1): ReLU()\n",
      "  (drop1): Dropout(p=0.3, inplace=False)\n",
      "  (fc1): Linear(in_features=1094, out_features=128, bias=True)\n",
      "  (rl2): ReLU()\n",
      "  (drop2): Dropout(p=0.3, inplace=False)\n",
      "  (fc2): Linear(in_features=128, out_features=64, bias=True)\n",
      "  (rl3): ReLU()\n",
      "  (drop3): Dropout(p=0.3, inplace=False)\n",
      "  (fc3): Linear(in_features=64, out_features=8, bias=True)\n",
      "  (output_fn): Identity()\n",
      ")\n"
     ]
    },
    {
     "data": {
      "text/html": [
       "Waiting for W&B process to finish... <strong style=\"color:green\">(success).</strong>"
      ],
      "text/plain": [
       "<IPython.core.display.HTML object>"
      ]
     },
     "metadata": {},
     "output_type": "display_data"
    },
    {
     "data": {
      "text/html": [
       "<style>\n",
       "    table.wandb td:nth-child(1) { padding: 0 10px; text-align: left ; width: auto;} td:nth-child(2) {text-align: left ; width: 100%}\n",
       "    .wandb-row { display: flex; flex-direction: row; flex-wrap: wrap; justify-content: flex-start; width: 100% }\n",
       "    .wandb-col { display: flex; flex-direction: column; flex-basis: 100%; flex: 1; padding: 10px; }\n",
       "    </style>\n",
       "<div class=\"wandb-row\"><div class=\"wandb-col\"><h3>Run history:</h3><br/><table class=\"wandb\"><tr><td>ROI < 30</td><td>▁▁</td></tr><tr><td>ROI < 30 2</td><td>▁▁</td></tr><tr><td>accuracy</td><td>▁▁</td></tr><tr><td>accuracy2</td><td>▁</td></tr><tr><td>epoch</td><td>▁▁</td></tr><tr><td>flat_simple</td><td>▁▁</td></tr><tr><td>loss_val</td><td>▁▁</td></tr><tr><td>multibet outlay < 30</td><td>▁▁</td></tr><tr><td>multibet profit</td><td>▁▁</td></tr><tr><td>multibet profit < 30</td><td>▁▁</td></tr><tr><td>multibet profit < 30 sd</td><td>▁▁</td></tr><tr><td>profit_relu</td><td>▁▁</td></tr><tr><td>relu roi</td><td>▁▁</td></tr></table><br/></div><div class=\"wandb-col\"><h3>Run summary:</h3><br/><table class=\"wandb\"><tr><td>ROI < 30</td><td>0.01741</td></tr><tr><td>ROI < 30 2</td><td>-0.01404</td></tr><tr><td>accuracy</td><td>0.34208</td></tr><tr><td>accuracy2</td><td>0.34208</td></tr><tr><td>epoch</td><td>0</td></tr><tr><td>flat_simple</td><td>-542.89406</td></tr><tr><td>loss_val</td><td>1.70001</td></tr><tr><td>multibet outlay < 30</td><td>150227.3035</td></tr><tr><td>multibet profit < 30</td><td>2615.33106</td></tr><tr><td>multibet profit < 30 sd</td><td>15.367</td></tr><tr><td>profit_relu</td><td>-62.70006</td></tr><tr><td>relu roi</td><td>-0.00125</td></tr></table><br/></div></div>"
      ],
      "text/plain": [
       "<IPython.core.display.HTML object>"
      ]
     },
     "metadata": {},
     "output_type": "display_data"
    },
    {
     "data": {
      "text/html": [
       " View run <strong style=\"color:#cdcd00\">azure-dust-91</strong> at: <a href='https://wandb.ai/nickojelly/NEW%20GRU%20-%20updates%20-%20shuffle/runs/sqohf0pn' target=\"_blank\">https://wandb.ai/nickojelly/NEW%20GRU%20-%20updates%20-%20shuffle/runs/sqohf0pn</a><br/>Synced 6 W&B file(s), 3 media file(s), 3 artifact file(s) and 1 other file(s)"
      ],
      "text/plain": [
       "<IPython.core.display.HTML object>"
      ]
     },
     "metadata": {},
     "output_type": "display_data"
    },
    {
     "data": {
      "text/html": [
       "Find logs at: <code>.\\wandb\\run-20230615_213553-sqohf0pn\\logs</code>"
      ],
      "text/plain": [
       "<IPython.core.display.HTML object>"
      ]
     },
     "metadata": {},
     "output_type": "display_data"
    },
    {
     "data": {
      "application/vnd.jupyter.widget-view+json": {
       "model_id": "fd7d66ff1a7c4d618af30b54892d5240",
       "version_major": 2,
       "version_minor": 0
      },
      "text/plain": [
       "VBox(children=(Label(value='Waiting for wandb.init()...\\r'), FloatProgress(value=0.016666666666666666, max=1.0…"
      ]
     },
     "metadata": {},
     "output_type": "display_data"
    },
    {
     "data": {
      "text/html": [
       "Tracking run with wandb version 0.15.4"
      ],
      "text/plain": [
       "<IPython.core.display.HTML object>"
      ]
     },
     "metadata": {},
     "output_type": "display_data"
    },
    {
     "data": {
      "text/html": [
       "Run data is saved locally in <code>C:\\Users\\Nick\\Documents\\GitHub\\grvmodel\\Python\\DATA\\wandb\\run-20230615_213636-k4h1wguy</code>"
      ],
      "text/plain": [
       "<IPython.core.display.HTML object>"
      ]
     },
     "metadata": {},
     "output_type": "display_data"
    },
    {
     "data": {
      "text/html": [
       "Syncing run <strong><a href='https://wandb.ai/nickojelly/NEW%20GRU%20-%20updates%20-%20shuffle/runs/k4h1wguy' target=\"_blank\">confused-gorge-92</a></strong> to <a href='https://wandb.ai/nickojelly/NEW%20GRU%20-%20updates%20-%20shuffle' target=\"_blank\">Weights & Biases</a> (<a href='https://wandb.me/run' target=\"_blank\">docs</a>)<br/>"
      ],
      "text/plain": [
       "<IPython.core.display.HTML object>"
      ]
     },
     "metadata": {},
     "output_type": "display_data"
    },
    {
     "data": {
      "text/html": [
       " View project at <a href='https://wandb.ai/nickojelly/NEW%20GRU%20-%20updates%20-%20shuffle' target=\"_blank\">https://wandb.ai/nickojelly/NEW%20GRU%20-%20updates%20-%20shuffle</a>"
      ],
      "text/plain": [
       "<IPython.core.display.HTML object>"
      ]
     },
     "metadata": {},
     "output_type": "display_data"
    },
    {
     "data": {
      "text/html": [
       " View run at <a href='https://wandb.ai/nickojelly/NEW%20GRU%20-%20updates%20-%20shuffle/runs/k4h1wguy' target=\"_blank\">https://wandb.ai/nickojelly/NEW%20GRU%20-%20updates%20-%20shuffle/runs/k4h1wguy</a>"
      ],
      "text/plain": [
       "<IPython.core.display.HTML object>"
      ]
     },
     "metadata": {},
     "output_type": "display_data"
    },
    {
     "name": "stdout",
     "output_type": "stream",
     "text": [
      "{'hidden_size': 128, 'datafile': 'gru_inputs_simple_v8_kitchen_sink.fth', 'stats': \"[['dist_last__1', 'box_last__1', 'speed_avg_1', 'split_speed_v1_1', 'split_speed_avg_1', 'split_margin_avg_1', 'margin_avg_1', 'RunHomeTime_1', 'run_home_speed_1', 'run_home_speed_v1_1', 'first_out_avg_1', 'pos_out_avg_1', 'post_change_avg_1', 'races_1', 'wins_1', 'wins_last_1', 'weight_', 'min_time_', 'min_split_time_', 'min_split_time_v1', 'last_start_price', 'last_start_prob']]\", 'input_type': 'basic', 'races': ['NSW'], 'latest_date': '2023-05-26T00:00:00', 'num_layers': 2, 'batch_size': 750, 'dropout': 0.3, 'epochs': 10000, 'learning_rate': 0.0003, 'optimizer': 'adamW', 'f0_layer_size': 128, 'f1_layer_size': 64, 'variable': 'dist_last__1'}\n",
      "10000\n",
      "{'hidden_size': 128, 'datafile': 'gru_inputs_simple_v8_kitchen_sink.fth', 'stats': \"[['dist_last__1', 'box_last__1', 'speed_avg_1', 'split_speed_v1_1', 'split_speed_avg_1', 'split_margin_avg_1', 'margin_avg_1', 'RunHomeTime_1', 'run_home_speed_1', 'run_home_speed_v1_1', 'first_out_avg_1', 'pos_out_avg_1', 'post_change_avg_1', 'races_1', 'wins_1', 'wins_last_1', 'weight_', 'min_time_', 'min_split_time_', 'min_split_time_v1', 'last_start_price', 'last_start_prob']]\", 'input_type': 'basic', 'races': ['NSW'], 'latest_date': '2023-05-26T00:00:00', 'num_layers': 2, 'batch_size': 750, 'dropout': 0.3, 'epochs': 10000, 'learning_rate': 0.0003, 'optimizer': 'adamW', 'f0_layer_size': 128, 'f1_layer_size': 64, 'variable': 'dist_last__1'}\n",
      "basic\n",
      "here\n",
      "input_size=28\n"
     ]
    },
    {
     "name": "stderr",
     "output_type": "stream",
     "text": [
      "100%|██████████| 6960/6960 [00:00<00:00, 463598.85it/s]\n"
     ]
    },
    {
     "name": "stdout",
     "output_type": "stream",
     "text": [
      "filled =3856\n",
      "empty  =3104\n",
      "0.5540229885057472null_dog=0\n",
      "GRUNetv3_BN(\n",
      "  (gru): GRU(28, 128, num_layers=2, dropout=0.3)\n",
      "  (relu0): ReLU()\n",
      "  (fc0): Linear(in_features=1094, out_features=1094, bias=True)\n",
      "  (layer_norm): BatchNorm1d(28, eps=1e-05, momentum=0.1, affine=True, track_running_stats=True)\n",
      "  (rl1): ReLU()\n",
      "  (drop1): Dropout(p=0.3, inplace=False)\n",
      "  (fc1): Linear(in_features=1094, out_features=128, bias=True)\n",
      "  (rl2): ReLU()\n",
      "  (drop2): Dropout(p=0.3, inplace=False)\n",
      "  (fc2): Linear(in_features=128, out_features=64, bias=True)\n",
      "  (rl3): ReLU()\n",
      "  (drop3): Dropout(p=0.3, inplace=False)\n",
      "  (fc3): Linear(in_features=64, out_features=8, bias=True)\n",
      "  (output_fn): Identity()\n",
      ")\n"
     ]
    },
    {
     "data": {
      "text/html": [
       "Waiting for W&B process to finish... <strong style=\"color:green\">(success).</strong>"
      ],
      "text/plain": [
       "<IPython.core.display.HTML object>"
      ]
     },
     "metadata": {},
     "output_type": "display_data"
    },
    {
     "data": {
      "text/html": [
       "<style>\n",
       "    table.wandb td:nth-child(1) { padding: 0 10px; text-align: left ; width: auto;} td:nth-child(2) {text-align: left ; width: 100%}\n",
       "    .wandb-row { display: flex; flex-direction: row; flex-wrap: wrap; justify-content: flex-start; width: 100% }\n",
       "    .wandb-col { display: flex; flex-direction: column; flex-basis: 100%; flex: 1; padding: 10px; }\n",
       "    </style>\n",
       "<div class=\"wandb-row\"><div class=\"wandb-col\"><h3>Run history:</h3><br/><table class=\"wandb\"><tr><td>ROI < 30</td><td>▁▁</td></tr><tr><td>ROI < 30 2</td><td>▁▁</td></tr><tr><td>accuracy</td><td>▁▁</td></tr><tr><td>accuracy2</td><td>▁</td></tr><tr><td>epoch</td><td>▁▁</td></tr><tr><td>flat_simple</td><td>▁▁</td></tr><tr><td>loss_val</td><td>▁▁</td></tr><tr><td>multibet outlay < 30</td><td>▁▁</td></tr><tr><td>multibet profit</td><td>▁▁</td></tr><tr><td>multibet profit < 30</td><td>▁▁</td></tr><tr><td>multibet profit < 30 sd</td><td>▁▁</td></tr><tr><td>profit_relu</td><td>▁▁</td></tr><tr><td>relu roi</td><td>▁▁</td></tr></table><br/></div><div class=\"wandb-col\"><h3>Run summary:</h3><br/><table class=\"wandb\"><tr><td>ROI < 30</td><td>0.01597</td></tr><tr><td>ROI < 30 2</td><td>-0.03098</td></tr><tr><td>accuracy</td><td>0.33896</td></tr><tr><td>accuracy2</td><td>0.33896</td></tr><tr><td>epoch</td><td>0</td></tr><tr><td>flat_simple</td><td>-639.56506</td></tr><tr><td>loss_val</td><td>1.70684</td></tr><tr><td>multibet outlay < 30</td><td>157189.39063</td></tr><tr><td>multibet profit < 30</td><td>2509.84856</td></tr><tr><td>multibet profit < 30 sd</td><td>15.97633</td></tr><tr><td>profit_relu</td><td>89.03636</td></tr><tr><td>relu roi</td><td>0.00165</td></tr></table><br/></div></div>"
      ],
      "text/plain": [
       "<IPython.core.display.HTML object>"
      ]
     },
     "metadata": {},
     "output_type": "display_data"
    },
    {
     "data": {
      "text/html": [
       " View run <strong style=\"color:#cdcd00\">confused-gorge-92</strong> at: <a href='https://wandb.ai/nickojelly/NEW%20GRU%20-%20updates%20-%20shuffle/runs/k4h1wguy' target=\"_blank\">https://wandb.ai/nickojelly/NEW%20GRU%20-%20updates%20-%20shuffle/runs/k4h1wguy</a><br/>Synced 6 W&B file(s), 3 media file(s), 3 artifact file(s) and 1 other file(s)"
      ],
      "text/plain": [
       "<IPython.core.display.HTML object>"
      ]
     },
     "metadata": {},
     "output_type": "display_data"
    },
    {
     "data": {
      "text/html": [
       "Find logs at: <code>.\\wandb\\run-20230615_213636-k4h1wguy\\logs</code>"
      ],
      "text/plain": [
       "<IPython.core.display.HTML object>"
      ]
     },
     "metadata": {},
     "output_type": "display_data"
    },
    {
     "data": {
      "application/vnd.jupyter.widget-view+json": {
       "model_id": "83a34cb7ac9545b5b88dc13f1b044e6b",
       "version_major": 2,
       "version_minor": 0
      },
      "text/plain": [
       "VBox(children=(Label(value='Waiting for wandb.init()...\\r'), FloatProgress(value=0.01693333333338766, max=1.0)…"
      ]
     },
     "metadata": {},
     "output_type": "display_data"
    },
    {
     "data": {
      "text/html": [
       "Tracking run with wandb version 0.15.4"
      ],
      "text/plain": [
       "<IPython.core.display.HTML object>"
      ]
     },
     "metadata": {},
     "output_type": "display_data"
    },
    {
     "data": {
      "text/html": [
       "Run data is saved locally in <code>C:\\Users\\Nick\\Documents\\GitHub\\grvmodel\\Python\\DATA\\wandb\\run-20230615_213718-qmhhxum4</code>"
      ],
      "text/plain": [
       "<IPython.core.display.HTML object>"
      ]
     },
     "metadata": {},
     "output_type": "display_data"
    },
    {
     "data": {
      "text/html": [
       "Syncing run <strong><a href='https://wandb.ai/nickojelly/NEW%20GRU%20-%20updates%20-%20shuffle/runs/qmhhxum4' target=\"_blank\">driven-rain-93</a></strong> to <a href='https://wandb.ai/nickojelly/NEW%20GRU%20-%20updates%20-%20shuffle' target=\"_blank\">Weights & Biases</a> (<a href='https://wandb.me/run' target=\"_blank\">docs</a>)<br/>"
      ],
      "text/plain": [
       "<IPython.core.display.HTML object>"
      ]
     },
     "metadata": {},
     "output_type": "display_data"
    },
    {
     "data": {
      "text/html": [
       " View project at <a href='https://wandb.ai/nickojelly/NEW%20GRU%20-%20updates%20-%20shuffle' target=\"_blank\">https://wandb.ai/nickojelly/NEW%20GRU%20-%20updates%20-%20shuffle</a>"
      ],
      "text/plain": [
       "<IPython.core.display.HTML object>"
      ]
     },
     "metadata": {},
     "output_type": "display_data"
    },
    {
     "data": {
      "text/html": [
       " View run at <a href='https://wandb.ai/nickojelly/NEW%20GRU%20-%20updates%20-%20shuffle/runs/qmhhxum4' target=\"_blank\">https://wandb.ai/nickojelly/NEW%20GRU%20-%20updates%20-%20shuffle/runs/qmhhxum4</a>"
      ],
      "text/plain": [
       "<IPython.core.display.HTML object>"
      ]
     },
     "metadata": {},
     "output_type": "display_data"
    },
    {
     "name": "stdout",
     "output_type": "stream",
     "text": [
      "{'hidden_size': 128, 'datafile': 'gru_inputs_simple_v8_kitchen_sink.fth', 'stats': \"[['dist_last__1', 'box_last__1', 'speed_avg_1', 'split_speed_v1_1', 'split_speed_avg_1', 'split_margin_avg_1', 'margin_avg_1', 'RunHomeTime_1', 'run_home_speed_1', 'run_home_speed_v1_1', 'first_out_avg_1', 'pos_out_avg_1', 'post_change_avg_1', 'races_1', 'wins_1', 'wins_last_1', 'weight_', 'min_time_', 'min_split_time_', 'min_split_time_v1', 'last_start_price', 'last_start_prob']]\", 'input_type': 'basic', 'races': ['NSW'], 'latest_date': '2023-05-26T00:00:00', 'num_layers': 2, 'batch_size': 750, 'dropout': 0.3, 'epochs': 10000, 'learning_rate': 0.0003, 'optimizer': 'adamW', 'f0_layer_size': 128, 'f1_layer_size': 64, 'variable': 'box_last__1'}\n",
      "10000\n",
      "{'hidden_size': 128, 'datafile': 'gru_inputs_simple_v8_kitchen_sink.fth', 'stats': \"[['dist_last__1', 'box_last__1', 'speed_avg_1', 'split_speed_v1_1', 'split_speed_avg_1', 'split_margin_avg_1', 'margin_avg_1', 'RunHomeTime_1', 'run_home_speed_1', 'run_home_speed_v1_1', 'first_out_avg_1', 'pos_out_avg_1', 'post_change_avg_1', 'races_1', 'wins_1', 'wins_last_1', 'weight_', 'min_time_', 'min_split_time_', 'min_split_time_v1', 'last_start_price', 'last_start_prob']]\", 'input_type': 'basic', 'races': ['NSW'], 'latest_date': '2023-05-26T00:00:00', 'num_layers': 2, 'batch_size': 750, 'dropout': 0.3, 'epochs': 10000, 'learning_rate': 0.0003, 'optimizer': 'adamW', 'f0_layer_size': 128, 'f1_layer_size': 64, 'variable': 'box_last__1'}\n",
      "basic\n",
      "here\n",
      "input_size=28\n"
     ]
    },
    {
     "name": "stderr",
     "output_type": "stream",
     "text": [
      "100%|██████████| 6960/6960 [00:00<00:00, 463591.49it/s]\n"
     ]
    },
    {
     "name": "stdout",
     "output_type": "stream",
     "text": [
      "filled =3856\n",
      "empty  =3104\n",
      "0.5540229885057472null_dog=0\n",
      "GRUNetv3_BN(\n",
      "  (gru): GRU(28, 128, num_layers=2, dropout=0.3)\n",
      "  (relu0): ReLU()\n",
      "  (fc0): Linear(in_features=1094, out_features=1094, bias=True)\n",
      "  (layer_norm): BatchNorm1d(28, eps=1e-05, momentum=0.1, affine=True, track_running_stats=True)\n",
      "  (rl1): ReLU()\n",
      "  (drop1): Dropout(p=0.3, inplace=False)\n",
      "  (fc1): Linear(in_features=1094, out_features=128, bias=True)\n",
      "  (rl2): ReLU()\n",
      "  (drop2): Dropout(p=0.3, inplace=False)\n",
      "  (fc2): Linear(in_features=128, out_features=64, bias=True)\n",
      "  (rl3): ReLU()\n",
      "  (drop3): Dropout(p=0.3, inplace=False)\n",
      "  (fc3): Linear(in_features=64, out_features=8, bias=True)\n",
      "  (output_fn): Identity()\n",
      ")\n"
     ]
    },
    {
     "data": {
      "text/html": [
       "Waiting for W&B process to finish... <strong style=\"color:green\">(success).</strong>"
      ],
      "text/plain": [
       "<IPython.core.display.HTML object>"
      ]
     },
     "metadata": {},
     "output_type": "display_data"
    },
    {
     "data": {
      "text/html": [
       "<style>\n",
       "    table.wandb td:nth-child(1) { padding: 0 10px; text-align: left ; width: auto;} td:nth-child(2) {text-align: left ; width: 100%}\n",
       "    .wandb-row { display: flex; flex-direction: row; flex-wrap: wrap; justify-content: flex-start; width: 100% }\n",
       "    .wandb-col { display: flex; flex-direction: column; flex-basis: 100%; flex: 1; padding: 10px; }\n",
       "    </style>\n",
       "<div class=\"wandb-row\"><div class=\"wandb-col\"><h3>Run history:</h3><br/><table class=\"wandb\"><tr><td>ROI < 30</td><td>▁▁</td></tr><tr><td>ROI < 30 2</td><td>▁▁</td></tr><tr><td>accuracy</td><td>▁▁</td></tr><tr><td>accuracy2</td><td>▁</td></tr><tr><td>epoch</td><td>▁▁</td></tr><tr><td>flat_simple</td><td>▁▁</td></tr><tr><td>loss_val</td><td>▁▁</td></tr><tr><td>multibet outlay < 30</td><td>▁▁</td></tr><tr><td>multibet profit</td><td>▁▁</td></tr><tr><td>multibet profit < 30</td><td>▁▁</td></tr><tr><td>multibet profit < 30 sd</td><td>▁▁</td></tr><tr><td>profit_relu</td><td>▁▁</td></tr><tr><td>relu roi</td><td>▁▁</td></tr></table><br/></div><div class=\"wandb-col\"><h3>Run summary:</h3><br/><table class=\"wandb\"><tr><td>ROI < 30</td><td>0.01525</td></tr><tr><td>ROI < 30 2</td><td>-0.02112</td></tr><tr><td>accuracy</td><td>0.34664</td></tr><tr><td>accuracy2</td><td>0.34664</td></tr><tr><td>epoch</td><td>0</td></tr><tr><td>flat_simple</td><td>-651.09831</td></tr><tr><td>loss_val</td><td>1.6856</td></tr><tr><td>multibet outlay < 30</td><td>144102.91007</td></tr><tr><td>multibet profit < 30</td><td>2197.64247</td></tr><tr><td>multibet profit < 30 sd</td><td>14.47517</td></tr><tr><td>profit_relu</td><td>178.02979</td></tr><tr><td>relu roi</td><td>0.00362</td></tr></table><br/></div></div>"
      ],
      "text/plain": [
       "<IPython.core.display.HTML object>"
      ]
     },
     "metadata": {},
     "output_type": "display_data"
    },
    {
     "data": {
      "text/html": [
       " View run <strong style=\"color:#cdcd00\">driven-rain-93</strong> at: <a href='https://wandb.ai/nickojelly/NEW%20GRU%20-%20updates%20-%20shuffle/runs/qmhhxum4' target=\"_blank\">https://wandb.ai/nickojelly/NEW%20GRU%20-%20updates%20-%20shuffle/runs/qmhhxum4</a><br/>Synced 6 W&B file(s), 3 media file(s), 3 artifact file(s) and 1 other file(s)"
      ],
      "text/plain": [
       "<IPython.core.display.HTML object>"
      ]
     },
     "metadata": {},
     "output_type": "display_data"
    },
    {
     "data": {
      "text/html": [
       "Find logs at: <code>.\\wandb\\run-20230615_213718-qmhhxum4\\logs</code>"
      ],
      "text/plain": [
       "<IPython.core.display.HTML object>"
      ]
     },
     "metadata": {},
     "output_type": "display_data"
    },
    {
     "data": {
      "application/vnd.jupyter.widget-view+json": {
       "model_id": "d1a946c87a684a32ada93ed071749591",
       "version_major": 2,
       "version_minor": 0
      },
      "text/plain": [
       "VBox(children=(Label(value='Waiting for wandb.init()...\\r'), FloatProgress(value=0.01693333333338766, max=1.0)…"
      ]
     },
     "metadata": {},
     "output_type": "display_data"
    },
    {
     "data": {
      "text/html": [
       "Tracking run with wandb version 0.15.4"
      ],
      "text/plain": [
       "<IPython.core.display.HTML object>"
      ]
     },
     "metadata": {},
     "output_type": "display_data"
    },
    {
     "data": {
      "text/html": [
       "Run data is saved locally in <code>C:\\Users\\Nick\\Documents\\GitHub\\grvmodel\\Python\\DATA\\wandb\\run-20230615_213759-w8xzycx8</code>"
      ],
      "text/plain": [
       "<IPython.core.display.HTML object>"
      ]
     },
     "metadata": {},
     "output_type": "display_data"
    },
    {
     "data": {
      "text/html": [
       "Syncing run <strong><a href='https://wandb.ai/nickojelly/NEW%20GRU%20-%20updates%20-%20shuffle/runs/w8xzycx8' target=\"_blank\">rich-haze-94</a></strong> to <a href='https://wandb.ai/nickojelly/NEW%20GRU%20-%20updates%20-%20shuffle' target=\"_blank\">Weights & Biases</a> (<a href='https://wandb.me/run' target=\"_blank\">docs</a>)<br/>"
      ],
      "text/plain": [
       "<IPython.core.display.HTML object>"
      ]
     },
     "metadata": {},
     "output_type": "display_data"
    },
    {
     "data": {
      "text/html": [
       " View project at <a href='https://wandb.ai/nickojelly/NEW%20GRU%20-%20updates%20-%20shuffle' target=\"_blank\">https://wandb.ai/nickojelly/NEW%20GRU%20-%20updates%20-%20shuffle</a>"
      ],
      "text/plain": [
       "<IPython.core.display.HTML object>"
      ]
     },
     "metadata": {},
     "output_type": "display_data"
    },
    {
     "data": {
      "text/html": [
       " View run at <a href='https://wandb.ai/nickojelly/NEW%20GRU%20-%20updates%20-%20shuffle/runs/w8xzycx8' target=\"_blank\">https://wandb.ai/nickojelly/NEW%20GRU%20-%20updates%20-%20shuffle/runs/w8xzycx8</a>"
      ],
      "text/plain": [
       "<IPython.core.display.HTML object>"
      ]
     },
     "metadata": {},
     "output_type": "display_data"
    },
    {
     "name": "stdout",
     "output_type": "stream",
     "text": [
      "{'hidden_size': 128, 'datafile': 'gru_inputs_simple_v8_kitchen_sink.fth', 'stats': \"[['dist_last__1', 'box_last__1', 'speed_avg_1', 'split_speed_v1_1', 'split_speed_avg_1', 'split_margin_avg_1', 'margin_avg_1', 'RunHomeTime_1', 'run_home_speed_1', 'run_home_speed_v1_1', 'first_out_avg_1', 'pos_out_avg_1', 'post_change_avg_1', 'races_1', 'wins_1', 'wins_last_1', 'weight_', 'min_time_', 'min_split_time_', 'min_split_time_v1', 'last_start_price', 'last_start_prob']]\", 'input_type': 'basic', 'races': ['NSW'], 'latest_date': '2023-05-26T00:00:00', 'num_layers': 2, 'batch_size': 750, 'dropout': 0.3, 'epochs': 10000, 'learning_rate': 0.0003, 'optimizer': 'adamW', 'f0_layer_size': 128, 'f1_layer_size': 64, 'variable': 'speed_avg_1'}\n",
      "10000\n",
      "{'hidden_size': 128, 'datafile': 'gru_inputs_simple_v8_kitchen_sink.fth', 'stats': \"[['dist_last__1', 'box_last__1', 'speed_avg_1', 'split_speed_v1_1', 'split_speed_avg_1', 'split_margin_avg_1', 'margin_avg_1', 'RunHomeTime_1', 'run_home_speed_1', 'run_home_speed_v1_1', 'first_out_avg_1', 'pos_out_avg_1', 'post_change_avg_1', 'races_1', 'wins_1', 'wins_last_1', 'weight_', 'min_time_', 'min_split_time_', 'min_split_time_v1', 'last_start_price', 'last_start_prob']]\", 'input_type': 'basic', 'races': ['NSW'], 'latest_date': '2023-05-26T00:00:00', 'num_layers': 2, 'batch_size': 750, 'dropout': 0.3, 'epochs': 10000, 'learning_rate': 0.0003, 'optimizer': 'adamW', 'f0_layer_size': 128, 'f1_layer_size': 64, 'variable': 'speed_avg_1'}\n",
      "basic\n",
      "here\n",
      "input_size=28\n"
     ]
    },
    {
     "name": "stderr",
     "output_type": "stream",
     "text": [
      "100%|██████████| 6960/6960 [00:00<00:00, 434604.08it/s]\n"
     ]
    },
    {
     "name": "stdout",
     "output_type": "stream",
     "text": [
      "filled =3856\n",
      "empty  =3104\n",
      "0.5540229885057472null_dog=0\n",
      "GRUNetv3_BN(\n",
      "  (gru): GRU(28, 128, num_layers=2, dropout=0.3)\n",
      "  (relu0): ReLU()\n",
      "  (fc0): Linear(in_features=1094, out_features=1094, bias=True)\n",
      "  (layer_norm): BatchNorm1d(28, eps=1e-05, momentum=0.1, affine=True, track_running_stats=True)\n",
      "  (rl1): ReLU()\n",
      "  (drop1): Dropout(p=0.3, inplace=False)\n",
      "  (fc1): Linear(in_features=1094, out_features=128, bias=True)\n",
      "  (rl2): ReLU()\n",
      "  (drop2): Dropout(p=0.3, inplace=False)\n",
      "  (fc2): Linear(in_features=128, out_features=64, bias=True)\n",
      "  (rl3): ReLU()\n",
      "  (drop3): Dropout(p=0.3, inplace=False)\n",
      "  (fc3): Linear(in_features=64, out_features=8, bias=True)\n",
      "  (output_fn): Identity()\n",
      ")\n"
     ]
    },
    {
     "data": {
      "text/html": [
       "Waiting for W&B process to finish... <strong style=\"color:green\">(success).</strong>"
      ],
      "text/plain": [
       "<IPython.core.display.HTML object>"
      ]
     },
     "metadata": {},
     "output_type": "display_data"
    },
    {
     "data": {
      "text/html": [
       "<style>\n",
       "    table.wandb td:nth-child(1) { padding: 0 10px; text-align: left ; width: auto;} td:nth-child(2) {text-align: left ; width: 100%}\n",
       "    .wandb-row { display: flex; flex-direction: row; flex-wrap: wrap; justify-content: flex-start; width: 100% }\n",
       "    .wandb-col { display: flex; flex-direction: column; flex-basis: 100%; flex: 1; padding: 10px; }\n",
       "    </style>\n",
       "<div class=\"wandb-row\"><div class=\"wandb-col\"><h3>Run history:</h3><br/><table class=\"wandb\"><tr><td>ROI < 30</td><td>▁▁</td></tr><tr><td>ROI < 30 2</td><td>▁▁</td></tr><tr><td>accuracy</td><td>▁▁</td></tr><tr><td>accuracy2</td><td>▁</td></tr><tr><td>epoch</td><td>▁▁</td></tr><tr><td>flat_simple</td><td>▁▁</td></tr><tr><td>loss_val</td><td>▁▁</td></tr><tr><td>multibet outlay < 30</td><td>▁▁</td></tr><tr><td>multibet profit</td><td>▁▁</td></tr><tr><td>multibet profit < 30</td><td>▁▁</td></tr><tr><td>multibet profit < 30 sd</td><td>▁▁</td></tr><tr><td>profit_relu</td><td>▁▁</td></tr><tr><td>relu roi</td><td>▁▁</td></tr></table><br/></div><div class=\"wandb-col\"><h3>Run summary:</h3><br/><table class=\"wandb\"><tr><td>ROI < 30</td><td>-0.00892</td></tr><tr><td>ROI < 30 2</td><td>-0.04043</td></tr><tr><td>accuracy</td><td>0.3403</td></tr><tr><td>accuracy2</td><td>0.3403</td></tr><tr><td>epoch</td><td>0</td></tr><tr><td>flat_simple</td><td>-699.07513</td></tr><tr><td>loss_val</td><td>1.70383</td></tr><tr><td>multibet outlay < 30</td><td>152798.19969</td></tr><tr><td>multibet profit < 30</td><td>-1362.9279</td></tr><tr><td>multibet profit < 30 sd</td><td>15.18955</td></tr><tr><td>profit_relu</td><td>-353.50215</td></tr><tr><td>relu roi</td><td>-0.00675</td></tr></table><br/></div></div>"
      ],
      "text/plain": [
       "<IPython.core.display.HTML object>"
      ]
     },
     "metadata": {},
     "output_type": "display_data"
    },
    {
     "data": {
      "text/html": [
       " View run <strong style=\"color:#cdcd00\">rich-haze-94</strong> at: <a href='https://wandb.ai/nickojelly/NEW%20GRU%20-%20updates%20-%20shuffle/runs/w8xzycx8' target=\"_blank\">https://wandb.ai/nickojelly/NEW%20GRU%20-%20updates%20-%20shuffle/runs/w8xzycx8</a><br/>Synced 6 W&B file(s), 3 media file(s), 3 artifact file(s) and 1 other file(s)"
      ],
      "text/plain": [
       "<IPython.core.display.HTML object>"
      ]
     },
     "metadata": {},
     "output_type": "display_data"
    },
    {
     "data": {
      "text/html": [
       "Find logs at: <code>.\\wandb\\run-20230615_213759-w8xzycx8\\logs</code>"
      ],
      "text/plain": [
       "<IPython.core.display.HTML object>"
      ]
     },
     "metadata": {},
     "output_type": "display_data"
    },
    {
     "data": {
      "application/vnd.jupyter.widget-view+json": {
       "model_id": "876405acb5c34908816b5698330b692d",
       "version_major": 2,
       "version_minor": 0
      },
      "text/plain": [
       "VBox(children=(Label(value='Waiting for wandb.init()...\\r'), FloatProgress(value=0.016916666666899498, max=1.0…"
      ]
     },
     "metadata": {},
     "output_type": "display_data"
    },
    {
     "data": {
      "text/html": [
       "Tracking run with wandb version 0.15.4"
      ],
      "text/plain": [
       "<IPython.core.display.HTML object>"
      ]
     },
     "metadata": {},
     "output_type": "display_data"
    },
    {
     "data": {
      "text/html": [
       "Run data is saved locally in <code>C:\\Users\\Nick\\Documents\\GitHub\\grvmodel\\Python\\DATA\\wandb\\run-20230615_213841-6jvhznte</code>"
      ],
      "text/plain": [
       "<IPython.core.display.HTML object>"
      ]
     },
     "metadata": {},
     "output_type": "display_data"
    },
    {
     "data": {
      "text/html": [
       "Syncing run <strong><a href='https://wandb.ai/nickojelly/NEW%20GRU%20-%20updates%20-%20shuffle/runs/6jvhznte' target=\"_blank\">jolly-monkey-95</a></strong> to <a href='https://wandb.ai/nickojelly/NEW%20GRU%20-%20updates%20-%20shuffle' target=\"_blank\">Weights & Biases</a> (<a href='https://wandb.me/run' target=\"_blank\">docs</a>)<br/>"
      ],
      "text/plain": [
       "<IPython.core.display.HTML object>"
      ]
     },
     "metadata": {},
     "output_type": "display_data"
    },
    {
     "data": {
      "text/html": [
       " View project at <a href='https://wandb.ai/nickojelly/NEW%20GRU%20-%20updates%20-%20shuffle' target=\"_blank\">https://wandb.ai/nickojelly/NEW%20GRU%20-%20updates%20-%20shuffle</a>"
      ],
      "text/plain": [
       "<IPython.core.display.HTML object>"
      ]
     },
     "metadata": {},
     "output_type": "display_data"
    },
    {
     "data": {
      "text/html": [
       " View run at <a href='https://wandb.ai/nickojelly/NEW%20GRU%20-%20updates%20-%20shuffle/runs/6jvhznte' target=\"_blank\">https://wandb.ai/nickojelly/NEW%20GRU%20-%20updates%20-%20shuffle/runs/6jvhznte</a>"
      ],
      "text/plain": [
       "<IPython.core.display.HTML object>"
      ]
     },
     "metadata": {},
     "output_type": "display_data"
    },
    {
     "name": "stdout",
     "output_type": "stream",
     "text": [
      "{'hidden_size': 128, 'datafile': 'gru_inputs_simple_v8_kitchen_sink.fth', 'stats': \"[['dist_last__1', 'box_last__1', 'speed_avg_1', 'split_speed_v1_1', 'split_speed_avg_1', 'split_margin_avg_1', 'margin_avg_1', 'RunHomeTime_1', 'run_home_speed_1', 'run_home_speed_v1_1', 'first_out_avg_1', 'pos_out_avg_1', 'post_change_avg_1', 'races_1', 'wins_1', 'wins_last_1', 'weight_', 'min_time_', 'min_split_time_', 'min_split_time_v1', 'last_start_price', 'last_start_prob']]\", 'input_type': 'basic', 'races': ['NSW'], 'latest_date': '2023-05-26T00:00:00', 'num_layers': 2, 'batch_size': 750, 'dropout': 0.3, 'epochs': 10000, 'learning_rate': 0.0003, 'optimizer': 'adamW', 'f0_layer_size': 128, 'f1_layer_size': 64, 'variable': 'split_speed_v1_1'}\n",
      "10000\n",
      "{'hidden_size': 128, 'datafile': 'gru_inputs_simple_v8_kitchen_sink.fth', 'stats': \"[['dist_last__1', 'box_last__1', 'speed_avg_1', 'split_speed_v1_1', 'split_speed_avg_1', 'split_margin_avg_1', 'margin_avg_1', 'RunHomeTime_1', 'run_home_speed_1', 'run_home_speed_v1_1', 'first_out_avg_1', 'pos_out_avg_1', 'post_change_avg_1', 'races_1', 'wins_1', 'wins_last_1', 'weight_', 'min_time_', 'min_split_time_', 'min_split_time_v1', 'last_start_price', 'last_start_prob']]\", 'input_type': 'basic', 'races': ['NSW'], 'latest_date': '2023-05-26T00:00:00', 'num_layers': 2, 'batch_size': 750, 'dropout': 0.3, 'epochs': 10000, 'learning_rate': 0.0003, 'optimizer': 'adamW', 'f0_layer_size': 128, 'f1_layer_size': 64, 'variable': 'split_speed_v1_1'}\n",
      "basic\n",
      "here\n",
      "input_size=28\n"
     ]
    },
    {
     "name": "stderr",
     "output_type": "stream",
     "text": [
      "100%|██████████| 6960/6960 [00:00<00:00, 302342.27it/s]\n"
     ]
    },
    {
     "name": "stdout",
     "output_type": "stream",
     "text": [
      "filled =3856\n",
      "empty  =3104\n",
      "0.5540229885057472null_dog=0\n",
      "GRUNetv3_BN(\n",
      "  (gru): GRU(28, 128, num_layers=2, dropout=0.3)\n",
      "  (relu0): ReLU()\n",
      "  (fc0): Linear(in_features=1094, out_features=1094, bias=True)\n",
      "  (layer_norm): BatchNorm1d(28, eps=1e-05, momentum=0.1, affine=True, track_running_stats=True)\n",
      "  (rl1): ReLU()\n",
      "  (drop1): Dropout(p=0.3, inplace=False)\n",
      "  (fc1): Linear(in_features=1094, out_features=128, bias=True)\n",
      "  (rl2): ReLU()\n",
      "  (drop2): Dropout(p=0.3, inplace=False)\n",
      "  (fc2): Linear(in_features=128, out_features=64, bias=True)\n",
      "  (rl3): ReLU()\n",
      "  (drop3): Dropout(p=0.3, inplace=False)\n",
      "  (fc3): Linear(in_features=64, out_features=8, bias=True)\n",
      "  (output_fn): Identity()\n",
      ")\n"
     ]
    },
    {
     "data": {
      "text/html": [
       "Waiting for W&B process to finish... <strong style=\"color:green\">(success).</strong>"
      ],
      "text/plain": [
       "<IPython.core.display.HTML object>"
      ]
     },
     "metadata": {},
     "output_type": "display_data"
    },
    {
     "data": {
      "text/html": [
       "<style>\n",
       "    table.wandb td:nth-child(1) { padding: 0 10px; text-align: left ; width: auto;} td:nth-child(2) {text-align: left ; width: 100%}\n",
       "    .wandb-row { display: flex; flex-direction: row; flex-wrap: wrap; justify-content: flex-start; width: 100% }\n",
       "    .wandb-col { display: flex; flex-direction: column; flex-basis: 100%; flex: 1; padding: 10px; }\n",
       "    </style>\n",
       "<div class=\"wandb-row\"><div class=\"wandb-col\"><h3>Run history:</h3><br/><table class=\"wandb\"><tr><td>ROI < 30</td><td>▁▁</td></tr><tr><td>ROI < 30 2</td><td>▁▁</td></tr><tr><td>accuracy</td><td>▁▁</td></tr><tr><td>accuracy2</td><td>▁</td></tr><tr><td>epoch</td><td>▁▁</td></tr><tr><td>flat_simple</td><td>▁▁</td></tr><tr><td>loss_val</td><td>▁▁</td></tr><tr><td>multibet outlay < 30</td><td>▁▁</td></tr><tr><td>multibet profit</td><td>▁▁</td></tr><tr><td>multibet profit < 30</td><td>▁▁</td></tr><tr><td>multibet profit < 30 sd</td><td>▁▁</td></tr><tr><td>profit_relu</td><td>▁▁</td></tr><tr><td>relu roi</td><td>▁▁</td></tr></table><br/></div><div class=\"wandb-col\"><h3>Run summary:</h3><br/><table class=\"wandb\"><tr><td>ROI < 30</td><td>0.01228</td></tr><tr><td>ROI < 30 2</td><td>-0.02651</td></tr><tr><td>accuracy</td><td>0.34816</td></tr><tr><td>accuracy2</td><td>0.34816</td></tr><tr><td>epoch</td><td>0</td></tr><tr><td>flat_simple</td><td>-581.88491</td></tr><tr><td>loss_val</td><td>1.68612</td></tr><tr><td>multibet outlay < 30</td><td>143442.60746</td></tr><tr><td>multibet profit < 30</td><td>1761.42418</td></tr><tr><td>multibet profit < 30 sd</td><td>14.37976</td></tr><tr><td>profit_relu</td><td>-37.44448</td></tr><tr><td>relu roi</td><td>-0.00077</td></tr></table><br/></div></div>"
      ],
      "text/plain": [
       "<IPython.core.display.HTML object>"
      ]
     },
     "metadata": {},
     "output_type": "display_data"
    },
    {
     "data": {
      "text/html": [
       " View run <strong style=\"color:#cdcd00\">jolly-monkey-95</strong> at: <a href='https://wandb.ai/nickojelly/NEW%20GRU%20-%20updates%20-%20shuffle/runs/6jvhznte' target=\"_blank\">https://wandb.ai/nickojelly/NEW%20GRU%20-%20updates%20-%20shuffle/runs/6jvhznte</a><br/>Synced 6 W&B file(s), 3 media file(s), 3 artifact file(s) and 1 other file(s)"
      ],
      "text/plain": [
       "<IPython.core.display.HTML object>"
      ]
     },
     "metadata": {},
     "output_type": "display_data"
    },
    {
     "data": {
      "text/html": [
       "Find logs at: <code>.\\wandb\\run-20230615_213841-6jvhznte\\logs</code>"
      ],
      "text/plain": [
       "<IPython.core.display.HTML object>"
      ]
     },
     "metadata": {},
     "output_type": "display_data"
    },
    {
     "data": {
      "application/vnd.jupyter.widget-view+json": {
       "model_id": "af9729c9123742018925cf5ec4a20b77",
       "version_major": 2,
       "version_minor": 0
      },
      "text/plain": [
       "VBox(children=(Label(value='Waiting for wandb.init()...\\r'), FloatProgress(value=0.01693333333338766, max=1.0)…"
      ]
     },
     "metadata": {},
     "output_type": "display_data"
    },
    {
     "data": {
      "text/html": [
       "Tracking run with wandb version 0.15.4"
      ],
      "text/plain": [
       "<IPython.core.display.HTML object>"
      ]
     },
     "metadata": {},
     "output_type": "display_data"
    },
    {
     "data": {
      "text/html": [
       "Run data is saved locally in <code>C:\\Users\\Nick\\Documents\\GitHub\\grvmodel\\Python\\DATA\\wandb\\run-20230615_213921-f6y3mk66</code>"
      ],
      "text/plain": [
       "<IPython.core.display.HTML object>"
      ]
     },
     "metadata": {},
     "output_type": "display_data"
    },
    {
     "data": {
      "text/html": [
       "Syncing run <strong><a href='https://wandb.ai/nickojelly/NEW%20GRU%20-%20updates%20-%20shuffle/runs/f6y3mk66' target=\"_blank\">soft-pyramid-96</a></strong> to <a href='https://wandb.ai/nickojelly/NEW%20GRU%20-%20updates%20-%20shuffle' target=\"_blank\">Weights & Biases</a> (<a href='https://wandb.me/run' target=\"_blank\">docs</a>)<br/>"
      ],
      "text/plain": [
       "<IPython.core.display.HTML object>"
      ]
     },
     "metadata": {},
     "output_type": "display_data"
    },
    {
     "data": {
      "text/html": [
       " View project at <a href='https://wandb.ai/nickojelly/NEW%20GRU%20-%20updates%20-%20shuffle' target=\"_blank\">https://wandb.ai/nickojelly/NEW%20GRU%20-%20updates%20-%20shuffle</a>"
      ],
      "text/plain": [
       "<IPython.core.display.HTML object>"
      ]
     },
     "metadata": {},
     "output_type": "display_data"
    },
    {
     "data": {
      "text/html": [
       " View run at <a href='https://wandb.ai/nickojelly/NEW%20GRU%20-%20updates%20-%20shuffle/runs/f6y3mk66' target=\"_blank\">https://wandb.ai/nickojelly/NEW%20GRU%20-%20updates%20-%20shuffle/runs/f6y3mk66</a>"
      ],
      "text/plain": [
       "<IPython.core.display.HTML object>"
      ]
     },
     "metadata": {},
     "output_type": "display_data"
    },
    {
     "name": "stdout",
     "output_type": "stream",
     "text": [
      "{'hidden_size': 128, 'datafile': 'gru_inputs_simple_v8_kitchen_sink.fth', 'stats': \"[['dist_last__1', 'box_last__1', 'speed_avg_1', 'split_speed_v1_1', 'split_speed_avg_1', 'split_margin_avg_1', 'margin_avg_1', 'RunHomeTime_1', 'run_home_speed_1', 'run_home_speed_v1_1', 'first_out_avg_1', 'pos_out_avg_1', 'post_change_avg_1', 'races_1', 'wins_1', 'wins_last_1', 'weight_', 'min_time_', 'min_split_time_', 'min_split_time_v1', 'last_start_price', 'last_start_prob']]\", 'input_type': 'basic', 'races': ['NSW'], 'latest_date': '2023-05-26T00:00:00', 'num_layers': 2, 'batch_size': 750, 'dropout': 0.3, 'epochs': 10000, 'learning_rate': 0.0003, 'optimizer': 'adamW', 'f0_layer_size': 128, 'f1_layer_size': 64, 'variable': 'split_speed_avg_1'}\n",
      "10000\n",
      "{'hidden_size': 128, 'datafile': 'gru_inputs_simple_v8_kitchen_sink.fth', 'stats': \"[['dist_last__1', 'box_last__1', 'speed_avg_1', 'split_speed_v1_1', 'split_speed_avg_1', 'split_margin_avg_1', 'margin_avg_1', 'RunHomeTime_1', 'run_home_speed_1', 'run_home_speed_v1_1', 'first_out_avg_1', 'pos_out_avg_1', 'post_change_avg_1', 'races_1', 'wins_1', 'wins_last_1', 'weight_', 'min_time_', 'min_split_time_', 'min_split_time_v1', 'last_start_price', 'last_start_prob']]\", 'input_type': 'basic', 'races': ['NSW'], 'latest_date': '2023-05-26T00:00:00', 'num_layers': 2, 'batch_size': 750, 'dropout': 0.3, 'epochs': 10000, 'learning_rate': 0.0003, 'optimizer': 'adamW', 'f0_layer_size': 128, 'f1_layer_size': 64, 'variable': 'split_speed_avg_1'}\n",
      "basic\n",
      "here\n",
      "input_size=28\n"
     ]
    },
    {
     "name": "stderr",
     "output_type": "stream",
     "text": [
      "100%|██████████| 6960/6960 [00:00<00:00, 409057.04it/s]\n"
     ]
    },
    {
     "name": "stdout",
     "output_type": "stream",
     "text": [
      "filled =3856\n",
      "empty  =3104\n",
      "0.5540229885057472null_dog=0\n",
      "GRUNetv3_BN(\n",
      "  (gru): GRU(28, 128, num_layers=2, dropout=0.3)\n",
      "  (relu0): ReLU()\n",
      "  (fc0): Linear(in_features=1094, out_features=1094, bias=True)\n",
      "  (layer_norm): BatchNorm1d(28, eps=1e-05, momentum=0.1, affine=True, track_running_stats=True)\n",
      "  (rl1): ReLU()\n",
      "  (drop1): Dropout(p=0.3, inplace=False)\n",
      "  (fc1): Linear(in_features=1094, out_features=128, bias=True)\n",
      "  (rl2): ReLU()\n",
      "  (drop2): Dropout(p=0.3, inplace=False)\n",
      "  (fc2): Linear(in_features=128, out_features=64, bias=True)\n",
      "  (rl3): ReLU()\n",
      "  (drop3): Dropout(p=0.3, inplace=False)\n",
      "  (fc3): Linear(in_features=64, out_features=8, bias=True)\n",
      "  (output_fn): Identity()\n",
      ")\n"
     ]
    },
    {
     "data": {
      "text/html": [
       "Waiting for W&B process to finish... <strong style=\"color:green\">(success).</strong>"
      ],
      "text/plain": [
       "<IPython.core.display.HTML object>"
      ]
     },
     "metadata": {},
     "output_type": "display_data"
    },
    {
     "data": {
      "text/html": [
       "<style>\n",
       "    table.wandb td:nth-child(1) { padding: 0 10px; text-align: left ; width: auto;} td:nth-child(2) {text-align: left ; width: 100%}\n",
       "    .wandb-row { display: flex; flex-direction: row; flex-wrap: wrap; justify-content: flex-start; width: 100% }\n",
       "    .wandb-col { display: flex; flex-direction: column; flex-basis: 100%; flex: 1; padding: 10px; }\n",
       "    </style>\n",
       "<div class=\"wandb-row\"><div class=\"wandb-col\"><h3>Run history:</h3><br/><table class=\"wandb\"><tr><td>ROI < 30</td><td>▁▁</td></tr><tr><td>ROI < 30 2</td><td>▁▁</td></tr><tr><td>accuracy</td><td>▁▁</td></tr><tr><td>accuracy2</td><td>▁</td></tr><tr><td>epoch</td><td>▁▁</td></tr><tr><td>flat_simple</td><td>▁▁</td></tr><tr><td>loss_val</td><td>▁▁</td></tr><tr><td>multibet outlay < 30</td><td>▁▁</td></tr><tr><td>multibet profit</td><td>▁▁</td></tr><tr><td>multibet profit < 30</td><td>▁▁</td></tr><tr><td>multibet profit < 30 sd</td><td>▁▁</td></tr><tr><td>profit_relu</td><td>▁▁</td></tr><tr><td>relu roi</td><td>▁▁</td></tr></table><br/></div><div class=\"wandb-col\"><h3>Run summary:</h3><br/><table class=\"wandb\"><tr><td>ROI < 30</td><td>0.01396</td></tr><tr><td>ROI < 30 2</td><td>-0.02422</td></tr><tr><td>accuracy</td><td>0.34994</td></tr><tr><td>accuracy2</td><td>0.34994</td></tr><tr><td>epoch</td><td>0</td></tr><tr><td>flat_simple</td><td>-510.94221</td></tr><tr><td>loss_val</td><td>1.68651</td></tr><tr><td>multibet outlay < 30</td><td>145060.27161</td></tr><tr><td>multibet profit < 30</td><td>2024.97231</td></tr><tr><td>multibet profit < 30 sd</td><td>14.52415</td></tr><tr><td>profit_relu</td><td>320.29555</td></tr><tr><td>relu roi</td><td>0.00648</td></tr></table><br/></div></div>"
      ],
      "text/plain": [
       "<IPython.core.display.HTML object>"
      ]
     },
     "metadata": {},
     "output_type": "display_data"
    },
    {
     "data": {
      "text/html": [
       " View run <strong style=\"color:#cdcd00\">soft-pyramid-96</strong> at: <a href='https://wandb.ai/nickojelly/NEW%20GRU%20-%20updates%20-%20shuffle/runs/f6y3mk66' target=\"_blank\">https://wandb.ai/nickojelly/NEW%20GRU%20-%20updates%20-%20shuffle/runs/f6y3mk66</a><br/>Synced 6 W&B file(s), 3 media file(s), 3 artifact file(s) and 1 other file(s)"
      ],
      "text/plain": [
       "<IPython.core.display.HTML object>"
      ]
     },
     "metadata": {},
     "output_type": "display_data"
    },
    {
     "data": {
      "text/html": [
       "Find logs at: <code>.\\wandb\\run-20230615_213921-f6y3mk66\\logs</code>"
      ],
      "text/plain": [
       "<IPython.core.display.HTML object>"
      ]
     },
     "metadata": {},
     "output_type": "display_data"
    },
    {
     "data": {
      "application/vnd.jupyter.widget-view+json": {
       "model_id": "9fe3707592f14e899be05a0f1bfa780a",
       "version_major": 2,
       "version_minor": 0
      },
      "text/plain": [
       "VBox(children=(Label(value='Waiting for wandb.init()...\\r'), FloatProgress(value=0.01693333333338766, max=1.0)…"
      ]
     },
     "metadata": {},
     "output_type": "display_data"
    },
    {
     "data": {
      "text/html": [
       "Tracking run with wandb version 0.15.4"
      ],
      "text/plain": [
       "<IPython.core.display.HTML object>"
      ]
     },
     "metadata": {},
     "output_type": "display_data"
    },
    {
     "data": {
      "text/html": [
       "Run data is saved locally in <code>C:\\Users\\Nick\\Documents\\GitHub\\grvmodel\\Python\\DATA\\wandb\\run-20230615_214005-1p6jqtlr</code>"
      ],
      "text/plain": [
       "<IPython.core.display.HTML object>"
      ]
     },
     "metadata": {},
     "output_type": "display_data"
    },
    {
     "data": {
      "text/html": [
       "Syncing run <strong><a href='https://wandb.ai/nickojelly/NEW%20GRU%20-%20updates%20-%20shuffle/runs/1p6jqtlr' target=\"_blank\">smart-eon-97</a></strong> to <a href='https://wandb.ai/nickojelly/NEW%20GRU%20-%20updates%20-%20shuffle' target=\"_blank\">Weights & Biases</a> (<a href='https://wandb.me/run' target=\"_blank\">docs</a>)<br/>"
      ],
      "text/plain": [
       "<IPython.core.display.HTML object>"
      ]
     },
     "metadata": {},
     "output_type": "display_data"
    },
    {
     "data": {
      "text/html": [
       " View project at <a href='https://wandb.ai/nickojelly/NEW%20GRU%20-%20updates%20-%20shuffle' target=\"_blank\">https://wandb.ai/nickojelly/NEW%20GRU%20-%20updates%20-%20shuffle</a>"
      ],
      "text/plain": [
       "<IPython.core.display.HTML object>"
      ]
     },
     "metadata": {},
     "output_type": "display_data"
    },
    {
     "data": {
      "text/html": [
       " View run at <a href='https://wandb.ai/nickojelly/NEW%20GRU%20-%20updates%20-%20shuffle/runs/1p6jqtlr' target=\"_blank\">https://wandb.ai/nickojelly/NEW%20GRU%20-%20updates%20-%20shuffle/runs/1p6jqtlr</a>"
      ],
      "text/plain": [
       "<IPython.core.display.HTML object>"
      ]
     },
     "metadata": {},
     "output_type": "display_data"
    },
    {
     "name": "stdout",
     "output_type": "stream",
     "text": [
      "{'hidden_size': 128, 'datafile': 'gru_inputs_simple_v8_kitchen_sink.fth', 'stats': \"[['dist_last__1', 'box_last__1', 'speed_avg_1', 'split_speed_v1_1', 'split_speed_avg_1', 'split_margin_avg_1', 'margin_avg_1', 'RunHomeTime_1', 'run_home_speed_1', 'run_home_speed_v1_1', 'first_out_avg_1', 'pos_out_avg_1', 'post_change_avg_1', 'races_1', 'wins_1', 'wins_last_1', 'weight_', 'min_time_', 'min_split_time_', 'min_split_time_v1', 'last_start_price', 'last_start_prob']]\", 'input_type': 'basic', 'races': ['NSW'], 'latest_date': '2023-05-26T00:00:00', 'num_layers': 2, 'batch_size': 750, 'dropout': 0.3, 'epochs': 10000, 'learning_rate': 0.0003, 'optimizer': 'adamW', 'f0_layer_size': 128, 'f1_layer_size': 64, 'variable': 'split_margin_avg_1'}\n",
      "10000\n",
      "{'hidden_size': 128, 'datafile': 'gru_inputs_simple_v8_kitchen_sink.fth', 'stats': \"[['dist_last__1', 'box_last__1', 'speed_avg_1', 'split_speed_v1_1', 'split_speed_avg_1', 'split_margin_avg_1', 'margin_avg_1', 'RunHomeTime_1', 'run_home_speed_1', 'run_home_speed_v1_1', 'first_out_avg_1', 'pos_out_avg_1', 'post_change_avg_1', 'races_1', 'wins_1', 'wins_last_1', 'weight_', 'min_time_', 'min_split_time_', 'min_split_time_v1', 'last_start_price', 'last_start_prob']]\", 'input_type': 'basic', 'races': ['NSW'], 'latest_date': '2023-05-26T00:00:00', 'num_layers': 2, 'batch_size': 750, 'dropout': 0.3, 'epochs': 10000, 'learning_rate': 0.0003, 'optimizer': 'adamW', 'f0_layer_size': 128, 'f1_layer_size': 64, 'variable': 'split_margin_avg_1'}\n",
      "basic\n",
      "here\n",
      "input_size=28\n"
     ]
    },
    {
     "name": "stderr",
     "output_type": "stream",
     "text": [
      "100%|██████████| 6960/6960 [00:00<00:00, 409022.65it/s]\n"
     ]
    },
    {
     "name": "stdout",
     "output_type": "stream",
     "text": [
      "filled =3856\n",
      "empty  =3104\n",
      "0.5540229885057472null_dog=0\n",
      "GRUNetv3_BN(\n",
      "  (gru): GRU(28, 128, num_layers=2, dropout=0.3)\n",
      "  (relu0): ReLU()\n",
      "  (fc0): Linear(in_features=1094, out_features=1094, bias=True)\n",
      "  (layer_norm): BatchNorm1d(28, eps=1e-05, momentum=0.1, affine=True, track_running_stats=True)\n",
      "  (rl1): ReLU()\n",
      "  (drop1): Dropout(p=0.3, inplace=False)\n",
      "  (fc1): Linear(in_features=1094, out_features=128, bias=True)\n",
      "  (rl2): ReLU()\n",
      "  (drop2): Dropout(p=0.3, inplace=False)\n",
      "  (fc2): Linear(in_features=128, out_features=64, bias=True)\n",
      "  (rl3): ReLU()\n",
      "  (drop3): Dropout(p=0.3, inplace=False)\n",
      "  (fc3): Linear(in_features=64, out_features=8, bias=True)\n",
      "  (output_fn): Identity()\n",
      ")\n"
     ]
    },
    {
     "data": {
      "text/html": [
       "Waiting for W&B process to finish... <strong style=\"color:green\">(success).</strong>"
      ],
      "text/plain": [
       "<IPython.core.display.HTML object>"
      ]
     },
     "metadata": {},
     "output_type": "display_data"
    },
    {
     "data": {
      "text/html": [
       "<style>\n",
       "    table.wandb td:nth-child(1) { padding: 0 10px; text-align: left ; width: auto;} td:nth-child(2) {text-align: left ; width: 100%}\n",
       "    .wandb-row { display: flex; flex-direction: row; flex-wrap: wrap; justify-content: flex-start; width: 100% }\n",
       "    .wandb-col { display: flex; flex-direction: column; flex-basis: 100%; flex: 1; padding: 10px; }\n",
       "    </style>\n",
       "<div class=\"wandb-row\"><div class=\"wandb-col\"><h3>Run history:</h3><br/><table class=\"wandb\"><tr><td>ROI < 30</td><td>▁▁</td></tr><tr><td>ROI < 30 2</td><td>▁▁</td></tr><tr><td>accuracy</td><td>▁▁</td></tr><tr><td>accuracy2</td><td>▁</td></tr><tr><td>epoch</td><td>▁▁</td></tr><tr><td>flat_simple</td><td>▁▁</td></tr><tr><td>loss_val</td><td>▁▁</td></tr><tr><td>multibet outlay < 30</td><td>▁▁</td></tr><tr><td>multibet profit</td><td>▁▁</td></tr><tr><td>multibet profit < 30</td><td>▁▁</td></tr><tr><td>multibet profit < 30 sd</td><td>▁▁</td></tr><tr><td>profit_relu</td><td>▁▁</td></tr><tr><td>relu roi</td><td>▁▁</td></tr></table><br/></div><div class=\"wandb-col\"><h3>Run summary:</h3><br/><table class=\"wandb\"><tr><td>ROI < 30</td><td>0.01714</td></tr><tr><td>ROI < 30 2</td><td>-0.01892</td></tr><tr><td>accuracy</td><td>0.3428</td></tr><tr><td>accuracy2</td><td>0.3428</td></tr><tr><td>epoch</td><td>0</td></tr><tr><td>flat_simple</td><td>-670.43677</td></tr><tr><td>loss_val</td><td>1.68965</td></tr><tr><td>multibet outlay < 30</td><td>145855.69516</td></tr><tr><td>multibet profit < 30</td><td>2500.35949</td></tr><tr><td>multibet profit < 30 sd</td><td>14.80314</td></tr><tr><td>profit_relu</td><td>-144.37221</td></tr><tr><td>relu roi</td><td>-0.0029</td></tr></table><br/></div></div>"
      ],
      "text/plain": [
       "<IPython.core.display.HTML object>"
      ]
     },
     "metadata": {},
     "output_type": "display_data"
    },
    {
     "data": {
      "text/html": [
       " View run <strong style=\"color:#cdcd00\">smart-eon-97</strong> at: <a href='https://wandb.ai/nickojelly/NEW%20GRU%20-%20updates%20-%20shuffle/runs/1p6jqtlr' target=\"_blank\">https://wandb.ai/nickojelly/NEW%20GRU%20-%20updates%20-%20shuffle/runs/1p6jqtlr</a><br/>Synced 6 W&B file(s), 3 media file(s), 3 artifact file(s) and 1 other file(s)"
      ],
      "text/plain": [
       "<IPython.core.display.HTML object>"
      ]
     },
     "metadata": {},
     "output_type": "display_data"
    },
    {
     "data": {
      "text/html": [
       "Find logs at: <code>.\\wandb\\run-20230615_214005-1p6jqtlr\\logs</code>"
      ],
      "text/plain": [
       "<IPython.core.display.HTML object>"
      ]
     },
     "metadata": {},
     "output_type": "display_data"
    },
    {
     "data": {
      "application/vnd.jupyter.widget-view+json": {
       "model_id": "225d67dd47b14c7ea70e43463ec49e10",
       "version_major": 2,
       "version_minor": 0
      },
      "text/plain": [
       "VBox(children=(Label(value='Waiting for wandb.init()...\\r'), FloatProgress(value=0.01693333333338766, max=1.0)…"
      ]
     },
     "metadata": {},
     "output_type": "display_data"
    },
    {
     "data": {
      "text/html": [
       "Tracking run with wandb version 0.15.4"
      ],
      "text/plain": [
       "<IPython.core.display.HTML object>"
      ]
     },
     "metadata": {},
     "output_type": "display_data"
    },
    {
     "data": {
      "text/html": [
       "Run data is saved locally in <code>C:\\Users\\Nick\\Documents\\GitHub\\grvmodel\\Python\\DATA\\wandb\\run-20230615_214055-gd9qg9bs</code>"
      ],
      "text/plain": [
       "<IPython.core.display.HTML object>"
      ]
     },
     "metadata": {},
     "output_type": "display_data"
    },
    {
     "data": {
      "text/html": [
       "Syncing run <strong><a href='https://wandb.ai/nickojelly/NEW%20GRU%20-%20updates%20-%20shuffle/runs/gd9qg9bs' target=\"_blank\">dandy-sun-98</a></strong> to <a href='https://wandb.ai/nickojelly/NEW%20GRU%20-%20updates%20-%20shuffle' target=\"_blank\">Weights & Biases</a> (<a href='https://wandb.me/run' target=\"_blank\">docs</a>)<br/>"
      ],
      "text/plain": [
       "<IPython.core.display.HTML object>"
      ]
     },
     "metadata": {},
     "output_type": "display_data"
    },
    {
     "data": {
      "text/html": [
       " View project at <a href='https://wandb.ai/nickojelly/NEW%20GRU%20-%20updates%20-%20shuffle' target=\"_blank\">https://wandb.ai/nickojelly/NEW%20GRU%20-%20updates%20-%20shuffle</a>"
      ],
      "text/plain": [
       "<IPython.core.display.HTML object>"
      ]
     },
     "metadata": {},
     "output_type": "display_data"
    },
    {
     "data": {
      "text/html": [
       " View run at <a href='https://wandb.ai/nickojelly/NEW%20GRU%20-%20updates%20-%20shuffle/runs/gd9qg9bs' target=\"_blank\">https://wandb.ai/nickojelly/NEW%20GRU%20-%20updates%20-%20shuffle/runs/gd9qg9bs</a>"
      ],
      "text/plain": [
       "<IPython.core.display.HTML object>"
      ]
     },
     "metadata": {},
     "output_type": "display_data"
    },
    {
     "name": "stdout",
     "output_type": "stream",
     "text": [
      "{'hidden_size': 128, 'datafile': 'gru_inputs_simple_v8_kitchen_sink.fth', 'stats': \"[['dist_last__1', 'box_last__1', 'speed_avg_1', 'split_speed_v1_1', 'split_speed_avg_1', 'split_margin_avg_1', 'margin_avg_1', 'RunHomeTime_1', 'run_home_speed_1', 'run_home_speed_v1_1', 'first_out_avg_1', 'pos_out_avg_1', 'post_change_avg_1', 'races_1', 'wins_1', 'wins_last_1', 'weight_', 'min_time_', 'min_split_time_', 'min_split_time_v1', 'last_start_price', 'last_start_prob']]\", 'input_type': 'basic', 'races': ['NSW'], 'latest_date': '2023-05-26T00:00:00', 'num_layers': 2, 'batch_size': 750, 'dropout': 0.3, 'epochs': 10000, 'learning_rate': 0.0003, 'optimizer': 'adamW', 'f0_layer_size': 128, 'f1_layer_size': 64, 'variable': 'margin_avg_1'}\n",
      "10000\n",
      "{'hidden_size': 128, 'datafile': 'gru_inputs_simple_v8_kitchen_sink.fth', 'stats': \"[['dist_last__1', 'box_last__1', 'speed_avg_1', 'split_speed_v1_1', 'split_speed_avg_1', 'split_margin_avg_1', 'margin_avg_1', 'RunHomeTime_1', 'run_home_speed_1', 'run_home_speed_v1_1', 'first_out_avg_1', 'pos_out_avg_1', 'post_change_avg_1', 'races_1', 'wins_1', 'wins_last_1', 'weight_', 'min_time_', 'min_split_time_', 'min_split_time_v1', 'last_start_price', 'last_start_prob']]\", 'input_type': 'basic', 'races': ['NSW'], 'latest_date': '2023-05-26T00:00:00', 'num_layers': 2, 'batch_size': 750, 'dropout': 0.3, 'epochs': 10000, 'learning_rate': 0.0003, 'optimizer': 'adamW', 'f0_layer_size': 128, 'f1_layer_size': 64, 'variable': 'margin_avg_1'}\n",
      "basic\n",
      "here\n",
      "input_size=28\n"
     ]
    },
    {
     "name": "stderr",
     "output_type": "stream",
     "text": [
      "100%|██████████| 6960/6960 [00:00<00:00, 409051.31it/s]\n"
     ]
    },
    {
     "name": "stdout",
     "output_type": "stream",
     "text": [
      "filled =3856\n",
      "empty  =3104\n",
      "0.5540229885057472null_dog=0\n",
      "GRUNetv3_BN(\n",
      "  (gru): GRU(28, 128, num_layers=2, dropout=0.3)\n",
      "  (relu0): ReLU()\n",
      "  (fc0): Linear(in_features=1094, out_features=1094, bias=True)\n",
      "  (layer_norm): BatchNorm1d(28, eps=1e-05, momentum=0.1, affine=True, track_running_stats=True)\n",
      "  (rl1): ReLU()\n",
      "  (drop1): Dropout(p=0.3, inplace=False)\n",
      "  (fc1): Linear(in_features=1094, out_features=128, bias=True)\n",
      "  (rl2): ReLU()\n",
      "  (drop2): Dropout(p=0.3, inplace=False)\n",
      "  (fc2): Linear(in_features=128, out_features=64, bias=True)\n",
      "  (rl3): ReLU()\n",
      "  (drop3): Dropout(p=0.3, inplace=False)\n",
      "  (fc3): Linear(in_features=64, out_features=8, bias=True)\n",
      "  (output_fn): Identity()\n",
      ")\n"
     ]
    },
    {
     "data": {
      "text/html": [
       "Waiting for W&B process to finish... <strong style=\"color:green\">(success).</strong>"
      ],
      "text/plain": [
       "<IPython.core.display.HTML object>"
      ]
     },
     "metadata": {},
     "output_type": "display_data"
    },
    {
     "data": {
      "text/html": [
       "<style>\n",
       "    table.wandb td:nth-child(1) { padding: 0 10px; text-align: left ; width: auto;} td:nth-child(2) {text-align: left ; width: 100%}\n",
       "    .wandb-row { display: flex; flex-direction: row; flex-wrap: wrap; justify-content: flex-start; width: 100% }\n",
       "    .wandb-col { display: flex; flex-direction: column; flex-basis: 100%; flex: 1; padding: 10px; }\n",
       "    </style>\n",
       "<div class=\"wandb-row\"><div class=\"wandb-col\"><h3>Run history:</h3><br/><table class=\"wandb\"><tr><td>ROI < 30</td><td>▁▁</td></tr><tr><td>ROI < 30 2</td><td>▁▁</td></tr><tr><td>accuracy</td><td>▁▁</td></tr><tr><td>accuracy2</td><td>▁</td></tr><tr><td>epoch</td><td>▁▁</td></tr><tr><td>flat_simple</td><td>▁▁</td></tr><tr><td>loss_val</td><td>▁▁</td></tr><tr><td>multibet outlay < 30</td><td>▁▁</td></tr><tr><td>multibet profit</td><td>▁▁</td></tr><tr><td>multibet profit < 30</td><td>▁▁</td></tr><tr><td>multibet profit < 30 sd</td><td>▁▁</td></tr><tr><td>profit_relu</td><td>▁▁</td></tr><tr><td>relu roi</td><td>▁▁</td></tr></table><br/></div><div class=\"wandb-col\"><h3>Run summary:</h3><br/><table class=\"wandb\"><tr><td>ROI < 30</td><td>0.02632</td></tr><tr><td>ROI < 30 2</td><td>0.00832</td></tr><tr><td>accuracy</td><td>0.32092</td></tr><tr><td>accuracy2</td><td>0.32092</td></tr><tr><td>epoch</td><td>0</td></tr><tr><td>flat_simple</td><td>-574.74004</td></tr><tr><td>loss_val</td><td>1.74589</td></tr><tr><td>multibet outlay < 30</td><td>159014.74479</td></tr><tr><td>multibet profit < 30</td><td>4184.81069</td></tr><tr><td>multibet profit < 30 sd</td><td>16.84895</td></tr><tr><td>profit_relu</td><td>-533.42809</td></tr><tr><td>relu roi</td><td>-0.01079</td></tr></table><br/></div></div>"
      ],
      "text/plain": [
       "<IPython.core.display.HTML object>"
      ]
     },
     "metadata": {},
     "output_type": "display_data"
    },
    {
     "data": {
      "text/html": [
       " View run <strong style=\"color:#cdcd00\">dandy-sun-98</strong> at: <a href='https://wandb.ai/nickojelly/NEW%20GRU%20-%20updates%20-%20shuffle/runs/gd9qg9bs' target=\"_blank\">https://wandb.ai/nickojelly/NEW%20GRU%20-%20updates%20-%20shuffle/runs/gd9qg9bs</a><br/>Synced 6 W&B file(s), 3 media file(s), 3 artifact file(s) and 1 other file(s)"
      ],
      "text/plain": [
       "<IPython.core.display.HTML object>"
      ]
     },
     "metadata": {},
     "output_type": "display_data"
    },
    {
     "data": {
      "text/html": [
       "Find logs at: <code>.\\wandb\\run-20230615_214055-gd9qg9bs\\logs</code>"
      ],
      "text/plain": [
       "<IPython.core.display.HTML object>"
      ]
     },
     "metadata": {},
     "output_type": "display_data"
    },
    {
     "data": {
      "application/vnd.jupyter.widget-view+json": {
       "model_id": "7edadb5695bb4972b86b066265531785",
       "version_major": 2,
       "version_minor": 0
      },
      "text/plain": [
       "VBox(children=(Label(value='Waiting for wandb.init()...\\r'), FloatProgress(value=0.016666666666666666, max=1.0…"
      ]
     },
     "metadata": {},
     "output_type": "display_data"
    },
    {
     "data": {
      "text/html": [
       "Tracking run with wandb version 0.15.4"
      ],
      "text/plain": [
       "<IPython.core.display.HTML object>"
      ]
     },
     "metadata": {},
     "output_type": "display_data"
    },
    {
     "data": {
      "text/html": [
       "Run data is saved locally in <code>C:\\Users\\Nick\\Documents\\GitHub\\grvmodel\\Python\\DATA\\wandb\\run-20230615_214135-c1g3d5iy</code>"
      ],
      "text/plain": [
       "<IPython.core.display.HTML object>"
      ]
     },
     "metadata": {},
     "output_type": "display_data"
    },
    {
     "data": {
      "text/html": [
       "Syncing run <strong><a href='https://wandb.ai/nickojelly/NEW%20GRU%20-%20updates%20-%20shuffle/runs/c1g3d5iy' target=\"_blank\">clean-dragon-99</a></strong> to <a href='https://wandb.ai/nickojelly/NEW%20GRU%20-%20updates%20-%20shuffle' target=\"_blank\">Weights & Biases</a> (<a href='https://wandb.me/run' target=\"_blank\">docs</a>)<br/>"
      ],
      "text/plain": [
       "<IPython.core.display.HTML object>"
      ]
     },
     "metadata": {},
     "output_type": "display_data"
    },
    {
     "data": {
      "text/html": [
       " View project at <a href='https://wandb.ai/nickojelly/NEW%20GRU%20-%20updates%20-%20shuffle' target=\"_blank\">https://wandb.ai/nickojelly/NEW%20GRU%20-%20updates%20-%20shuffle</a>"
      ],
      "text/plain": [
       "<IPython.core.display.HTML object>"
      ]
     },
     "metadata": {},
     "output_type": "display_data"
    },
    {
     "data": {
      "text/html": [
       " View run at <a href='https://wandb.ai/nickojelly/NEW%20GRU%20-%20updates%20-%20shuffle/runs/c1g3d5iy' target=\"_blank\">https://wandb.ai/nickojelly/NEW%20GRU%20-%20updates%20-%20shuffle/runs/c1g3d5iy</a>"
      ],
      "text/plain": [
       "<IPython.core.display.HTML object>"
      ]
     },
     "metadata": {},
     "output_type": "display_data"
    },
    {
     "name": "stdout",
     "output_type": "stream",
     "text": [
      "{'hidden_size': 128, 'datafile': 'gru_inputs_simple_v8_kitchen_sink.fth', 'stats': \"[['dist_last__1', 'box_last__1', 'speed_avg_1', 'split_speed_v1_1', 'split_speed_avg_1', 'split_margin_avg_1', 'margin_avg_1', 'RunHomeTime_1', 'run_home_speed_1', 'run_home_speed_v1_1', 'first_out_avg_1', 'pos_out_avg_1', 'post_change_avg_1', 'races_1', 'wins_1', 'wins_last_1', 'weight_', 'min_time_', 'min_split_time_', 'min_split_time_v1', 'last_start_price', 'last_start_prob']]\", 'input_type': 'basic', 'races': ['NSW'], 'latest_date': '2023-05-26T00:00:00', 'num_layers': 2, 'batch_size': 750, 'dropout': 0.3, 'epochs': 10000, 'learning_rate': 0.0003, 'optimizer': 'adamW', 'f0_layer_size': 128, 'f1_layer_size': 64, 'variable': 'RunHomeTime_1'}\n",
      "10000\n",
      "{'hidden_size': 128, 'datafile': 'gru_inputs_simple_v8_kitchen_sink.fth', 'stats': \"[['dist_last__1', 'box_last__1', 'speed_avg_1', 'split_speed_v1_1', 'split_speed_avg_1', 'split_margin_avg_1', 'margin_avg_1', 'RunHomeTime_1', 'run_home_speed_1', 'run_home_speed_v1_1', 'first_out_avg_1', 'pos_out_avg_1', 'post_change_avg_1', 'races_1', 'wins_1', 'wins_last_1', 'weight_', 'min_time_', 'min_split_time_', 'min_split_time_v1', 'last_start_price', 'last_start_prob']]\", 'input_type': 'basic', 'races': ['NSW'], 'latest_date': '2023-05-26T00:00:00', 'num_layers': 2, 'batch_size': 750, 'dropout': 0.3, 'epochs': 10000, 'learning_rate': 0.0003, 'optimizer': 'adamW', 'f0_layer_size': 128, 'f1_layer_size': 64, 'variable': 'RunHomeTime_1'}\n",
      "basic\n",
      "here\n",
      "input_size=28\n"
     ]
    },
    {
     "name": "stderr",
     "output_type": "stream",
     "text": [
      "100%|██████████| 6960/6960 [00:00<00:00, 386310.90it/s]\n"
     ]
    },
    {
     "name": "stdout",
     "output_type": "stream",
     "text": [
      "filled =3856\n",
      "empty  =3104\n",
      "0.5540229885057472null_dog=0\n",
      "GRUNetv3_BN(\n",
      "  (gru): GRU(28, 128, num_layers=2, dropout=0.3)\n",
      "  (relu0): ReLU()\n",
      "  (fc0): Linear(in_features=1094, out_features=1094, bias=True)\n",
      "  (layer_norm): BatchNorm1d(28, eps=1e-05, momentum=0.1, affine=True, track_running_stats=True)\n",
      "  (rl1): ReLU()\n",
      "  (drop1): Dropout(p=0.3, inplace=False)\n",
      "  (fc1): Linear(in_features=1094, out_features=128, bias=True)\n",
      "  (rl2): ReLU()\n",
      "  (drop2): Dropout(p=0.3, inplace=False)\n",
      "  (fc2): Linear(in_features=128, out_features=64, bias=True)\n",
      "  (rl3): ReLU()\n",
      "  (drop3): Dropout(p=0.3, inplace=False)\n",
      "  (fc3): Linear(in_features=64, out_features=8, bias=True)\n",
      "  (output_fn): Identity()\n",
      ")\n"
     ]
    },
    {
     "data": {
      "text/html": [
       "Waiting for W&B process to finish... <strong style=\"color:green\">(success).</strong>"
      ],
      "text/plain": [
       "<IPython.core.display.HTML object>"
      ]
     },
     "metadata": {},
     "output_type": "display_data"
    },
    {
     "data": {
      "text/html": [
       "<style>\n",
       "    table.wandb td:nth-child(1) { padding: 0 10px; text-align: left ; width: auto;} td:nth-child(2) {text-align: left ; width: 100%}\n",
       "    .wandb-row { display: flex; flex-direction: row; flex-wrap: wrap; justify-content: flex-start; width: 100% }\n",
       "    .wandb-col { display: flex; flex-direction: column; flex-basis: 100%; flex: 1; padding: 10px; }\n",
       "    </style>\n",
       "<div class=\"wandb-row\"><div class=\"wandb-col\"><h3>Run history:</h3><br/><table class=\"wandb\"><tr><td>ROI < 30</td><td>▁▁</td></tr><tr><td>ROI < 30 2</td><td>▁▁</td></tr><tr><td>accuracy</td><td>▁▁</td></tr><tr><td>accuracy2</td><td>▁</td></tr><tr><td>epoch</td><td>▁▁</td></tr><tr><td>flat_simple</td><td>▁▁</td></tr><tr><td>loss_val</td><td>▁▁</td></tr><tr><td>multibet outlay < 30</td><td>▁▁</td></tr><tr><td>multibet profit</td><td>▁▁</td></tr><tr><td>multibet profit < 30</td><td>▁▁</td></tr><tr><td>multibet profit < 30 sd</td><td>▁▁</td></tr><tr><td>profit_relu</td><td>▁▁</td></tr><tr><td>relu roi</td><td>▁▁</td></tr></table><br/></div><div class=\"wandb-col\"><h3>Run summary:</h3><br/><table class=\"wandb\"><tr><td>ROI < 30</td><td>0.01123</td></tr><tr><td>ROI < 30 2</td><td>-0.02755</td></tr><tr><td>accuracy</td><td>0.34592</td></tr><tr><td>accuracy2</td><td>0.34592</td></tr><tr><td>epoch</td><td>0</td></tr><tr><td>flat_simple</td><td>-605.79412</td></tr><tr><td>loss_val</td><td>1.68573</td></tr><tr><td>multibet outlay < 30</td><td>144188.48268</td></tr><tr><td>multibet profit < 30</td><td>1619.18332</td></tr><tr><td>multibet profit < 30 sd</td><td>14.3904</td></tr><tr><td>profit_relu</td><td>51.26581</td></tr><tr><td>relu roi</td><td>0.00104</td></tr></table><br/></div></div>"
      ],
      "text/plain": [
       "<IPython.core.display.HTML object>"
      ]
     },
     "metadata": {},
     "output_type": "display_data"
    },
    {
     "data": {
      "text/html": [
       " View run <strong style=\"color:#cdcd00\">clean-dragon-99</strong> at: <a href='https://wandb.ai/nickojelly/NEW%20GRU%20-%20updates%20-%20shuffle/runs/c1g3d5iy' target=\"_blank\">https://wandb.ai/nickojelly/NEW%20GRU%20-%20updates%20-%20shuffle/runs/c1g3d5iy</a><br/>Synced 6 W&B file(s), 3 media file(s), 3 artifact file(s) and 1 other file(s)"
      ],
      "text/plain": [
       "<IPython.core.display.HTML object>"
      ]
     },
     "metadata": {},
     "output_type": "display_data"
    },
    {
     "data": {
      "text/html": [
       "Find logs at: <code>.\\wandb\\run-20230615_214135-c1g3d5iy\\logs</code>"
      ],
      "text/plain": [
       "<IPython.core.display.HTML object>"
      ]
     },
     "metadata": {},
     "output_type": "display_data"
    },
    {
     "data": {
      "application/vnd.jupyter.widget-view+json": {
       "model_id": "75a2d21740c84021a3453ed2cea87f14",
       "version_major": 2,
       "version_minor": 0
      },
      "text/plain": [
       "VBox(children=(Label(value='Waiting for wandb.init()...\\r'), FloatProgress(value=0.016916666666414434, max=1.0…"
      ]
     },
     "metadata": {},
     "output_type": "display_data"
    },
    {
     "data": {
      "text/html": [
       "Tracking run with wandb version 0.15.4"
      ],
      "text/plain": [
       "<IPython.core.display.HTML object>"
      ]
     },
     "metadata": {},
     "output_type": "display_data"
    },
    {
     "data": {
      "text/html": [
       "Run data is saved locally in <code>C:\\Users\\Nick\\Documents\\GitHub\\grvmodel\\Python\\DATA\\wandb\\run-20230615_214219-unpfp7bc</code>"
      ],
      "text/plain": [
       "<IPython.core.display.HTML object>"
      ]
     },
     "metadata": {},
     "output_type": "display_data"
    },
    {
     "data": {
      "text/html": [
       "Syncing run <strong><a href='https://wandb.ai/nickojelly/NEW%20GRU%20-%20updates%20-%20shuffle/runs/unpfp7bc' target=\"_blank\">peachy-frog-100</a></strong> to <a href='https://wandb.ai/nickojelly/NEW%20GRU%20-%20updates%20-%20shuffle' target=\"_blank\">Weights & Biases</a> (<a href='https://wandb.me/run' target=\"_blank\">docs</a>)<br/>"
      ],
      "text/plain": [
       "<IPython.core.display.HTML object>"
      ]
     },
     "metadata": {},
     "output_type": "display_data"
    },
    {
     "data": {
      "text/html": [
       " View project at <a href='https://wandb.ai/nickojelly/NEW%20GRU%20-%20updates%20-%20shuffle' target=\"_blank\">https://wandb.ai/nickojelly/NEW%20GRU%20-%20updates%20-%20shuffle</a>"
      ],
      "text/plain": [
       "<IPython.core.display.HTML object>"
      ]
     },
     "metadata": {},
     "output_type": "display_data"
    },
    {
     "data": {
      "text/html": [
       " View run at <a href='https://wandb.ai/nickojelly/NEW%20GRU%20-%20updates%20-%20shuffle/runs/unpfp7bc' target=\"_blank\">https://wandb.ai/nickojelly/NEW%20GRU%20-%20updates%20-%20shuffle/runs/unpfp7bc</a>"
      ],
      "text/plain": [
       "<IPython.core.display.HTML object>"
      ]
     },
     "metadata": {},
     "output_type": "display_data"
    },
    {
     "name": "stdout",
     "output_type": "stream",
     "text": [
      "{'hidden_size': 128, 'datafile': 'gru_inputs_simple_v8_kitchen_sink.fth', 'stats': \"[['dist_last__1', 'box_last__1', 'speed_avg_1', 'split_speed_v1_1', 'split_speed_avg_1', 'split_margin_avg_1', 'margin_avg_1', 'RunHomeTime_1', 'run_home_speed_1', 'run_home_speed_v1_1', 'first_out_avg_1', 'pos_out_avg_1', 'post_change_avg_1', 'races_1', 'wins_1', 'wins_last_1', 'weight_', 'min_time_', 'min_split_time_', 'min_split_time_v1', 'last_start_price', 'last_start_prob']]\", 'input_type': 'basic', 'races': ['NSW'], 'latest_date': '2023-05-26T00:00:00', 'num_layers': 2, 'batch_size': 750, 'dropout': 0.3, 'epochs': 10000, 'learning_rate': 0.0003, 'optimizer': 'adamW', 'f0_layer_size': 128, 'f1_layer_size': 64, 'variable': 'run_home_speed_1'}\n",
      "10000\n",
      "{'hidden_size': 128, 'datafile': 'gru_inputs_simple_v8_kitchen_sink.fth', 'stats': \"[['dist_last__1', 'box_last__1', 'speed_avg_1', 'split_speed_v1_1', 'split_speed_avg_1', 'split_margin_avg_1', 'margin_avg_1', 'RunHomeTime_1', 'run_home_speed_1', 'run_home_speed_v1_1', 'first_out_avg_1', 'pos_out_avg_1', 'post_change_avg_1', 'races_1', 'wins_1', 'wins_last_1', 'weight_', 'min_time_', 'min_split_time_', 'min_split_time_v1', 'last_start_price', 'last_start_prob']]\", 'input_type': 'basic', 'races': ['NSW'], 'latest_date': '2023-05-26T00:00:00', 'num_layers': 2, 'batch_size': 750, 'dropout': 0.3, 'epochs': 10000, 'learning_rate': 0.0003, 'optimizer': 'adamW', 'f0_layer_size': 128, 'f1_layer_size': 64, 'variable': 'run_home_speed_1'}\n",
      "basic\n",
      "here\n",
      "input_size=28\n"
     ]
    },
    {
     "name": "stderr",
     "output_type": "stream",
     "text": [
      "100%|██████████| 6960/6960 [00:00<00:00, 386331.35it/s]\n"
     ]
    },
    {
     "name": "stdout",
     "output_type": "stream",
     "text": [
      "filled =3856\n",
      "empty  =3104\n",
      "0.5540229885057472null_dog=0\n",
      "GRUNetv3_BN(\n",
      "  (gru): GRU(28, 128, num_layers=2, dropout=0.3)\n",
      "  (relu0): ReLU()\n",
      "  (fc0): Linear(in_features=1094, out_features=1094, bias=True)\n",
      "  (layer_norm): BatchNorm1d(28, eps=1e-05, momentum=0.1, affine=True, track_running_stats=True)\n",
      "  (rl1): ReLU()\n",
      "  (drop1): Dropout(p=0.3, inplace=False)\n",
      "  (fc1): Linear(in_features=1094, out_features=128, bias=True)\n",
      "  (rl2): ReLU()\n",
      "  (drop2): Dropout(p=0.3, inplace=False)\n",
      "  (fc2): Linear(in_features=128, out_features=64, bias=True)\n",
      "  (rl3): ReLU()\n",
      "  (drop3): Dropout(p=0.3, inplace=False)\n",
      "  (fc3): Linear(in_features=64, out_features=8, bias=True)\n",
      "  (output_fn): Identity()\n",
      ")\n"
     ]
    },
    {
     "data": {
      "text/html": [
       "Waiting for W&B process to finish... <strong style=\"color:green\">(success).</strong>"
      ],
      "text/plain": [
       "<IPython.core.display.HTML object>"
      ]
     },
     "metadata": {},
     "output_type": "display_data"
    },
    {
     "data": {
      "text/html": [
       "<style>\n",
       "    table.wandb td:nth-child(1) { padding: 0 10px; text-align: left ; width: auto;} td:nth-child(2) {text-align: left ; width: 100%}\n",
       "    .wandb-row { display: flex; flex-direction: row; flex-wrap: wrap; justify-content: flex-start; width: 100% }\n",
       "    .wandb-col { display: flex; flex-direction: column; flex-basis: 100%; flex: 1; padding: 10px; }\n",
       "    </style>\n",
       "<div class=\"wandb-row\"><div class=\"wandb-col\"><h3>Run history:</h3><br/><table class=\"wandb\"><tr><td>ROI < 30</td><td>▁▁</td></tr><tr><td>ROI < 30 2</td><td>▁▁</td></tr><tr><td>accuracy</td><td>▁▁</td></tr><tr><td>accuracy2</td><td>▁</td></tr><tr><td>epoch</td><td>▁▁</td></tr><tr><td>flat_simple</td><td>▁▁</td></tr><tr><td>loss_val</td><td>▁▁</td></tr><tr><td>multibet outlay < 30</td><td>▁▁</td></tr><tr><td>multibet profit</td><td>▁▁</td></tr><tr><td>multibet profit < 30</td><td>▁▁</td></tr><tr><td>multibet profit < 30 sd</td><td>▁▁</td></tr><tr><td>profit_relu</td><td>▁▁</td></tr><tr><td>relu roi</td><td>▁▁</td></tr></table><br/></div><div class=\"wandb-col\"><h3>Run summary:</h3><br/><table class=\"wandb\"><tr><td>ROI < 30</td><td>0.0071</td></tr><tr><td>ROI < 30 2</td><td>-0.02793</td></tr><tr><td>accuracy</td><td>0.34753</td></tr><tr><td>accuracy2</td><td>0.34753</td></tr><tr><td>epoch</td><td>0</td></tr><tr><td>flat_simple</td><td>-487.03925</td></tr><tr><td>loss_val</td><td>1.68952</td></tr><tr><td>multibet outlay < 30</td><td>145775.08021</td></tr><tr><td>multibet profit < 30</td><td>1035.23311</td></tr><tr><td>multibet profit < 30 sd</td><td>14.60588</td></tr><tr><td>profit_relu</td><td>196.7747</td></tr><tr><td>relu roi</td><td>0.00397</td></tr></table><br/></div></div>"
      ],
      "text/plain": [
       "<IPython.core.display.HTML object>"
      ]
     },
     "metadata": {},
     "output_type": "display_data"
    },
    {
     "data": {
      "text/html": [
       " View run <strong style=\"color:#cdcd00\">peachy-frog-100</strong> at: <a href='https://wandb.ai/nickojelly/NEW%20GRU%20-%20updates%20-%20shuffle/runs/unpfp7bc' target=\"_blank\">https://wandb.ai/nickojelly/NEW%20GRU%20-%20updates%20-%20shuffle/runs/unpfp7bc</a><br/>Synced 6 W&B file(s), 3 media file(s), 3 artifact file(s) and 1 other file(s)"
      ],
      "text/plain": [
       "<IPython.core.display.HTML object>"
      ]
     },
     "metadata": {},
     "output_type": "display_data"
    },
    {
     "data": {
      "text/html": [
       "Find logs at: <code>.\\wandb\\run-20230615_214219-unpfp7bc\\logs</code>"
      ],
      "text/plain": [
       "<IPython.core.display.HTML object>"
      ]
     },
     "metadata": {},
     "output_type": "display_data"
    },
    {
     "data": {
      "application/vnd.jupyter.widget-view+json": {
       "model_id": "b9c6a7f17866485596dc043d28ccefec",
       "version_major": 2,
       "version_minor": 0
      },
      "text/plain": [
       "VBox(children=(Label(value='Waiting for wandb.init()...\\r'), FloatProgress(value=0.016916666666414434, max=1.0…"
      ]
     },
     "metadata": {},
     "output_type": "display_data"
    },
    {
     "data": {
      "text/html": [
       "Tracking run with wandb version 0.15.4"
      ],
      "text/plain": [
       "<IPython.core.display.HTML object>"
      ]
     },
     "metadata": {},
     "output_type": "display_data"
    },
    {
     "data": {
      "text/html": [
       "Run data is saved locally in <code>C:\\Users\\Nick\\Documents\\GitHub\\grvmodel\\Python\\DATA\\wandb\\run-20230615_214259-knhm8gk8</code>"
      ],
      "text/plain": [
       "<IPython.core.display.HTML object>"
      ]
     },
     "metadata": {},
     "output_type": "display_data"
    },
    {
     "data": {
      "text/html": [
       "Syncing run <strong><a href='https://wandb.ai/nickojelly/NEW%20GRU%20-%20updates%20-%20shuffle/runs/knhm8gk8' target=\"_blank\">pretty-music-101</a></strong> to <a href='https://wandb.ai/nickojelly/NEW%20GRU%20-%20updates%20-%20shuffle' target=\"_blank\">Weights & Biases</a> (<a href='https://wandb.me/run' target=\"_blank\">docs</a>)<br/>"
      ],
      "text/plain": [
       "<IPython.core.display.HTML object>"
      ]
     },
     "metadata": {},
     "output_type": "display_data"
    },
    {
     "data": {
      "text/html": [
       " View project at <a href='https://wandb.ai/nickojelly/NEW%20GRU%20-%20updates%20-%20shuffle' target=\"_blank\">https://wandb.ai/nickojelly/NEW%20GRU%20-%20updates%20-%20shuffle</a>"
      ],
      "text/plain": [
       "<IPython.core.display.HTML object>"
      ]
     },
     "metadata": {},
     "output_type": "display_data"
    },
    {
     "data": {
      "text/html": [
       " View run at <a href='https://wandb.ai/nickojelly/NEW%20GRU%20-%20updates%20-%20shuffle/runs/knhm8gk8' target=\"_blank\">https://wandb.ai/nickojelly/NEW%20GRU%20-%20updates%20-%20shuffle/runs/knhm8gk8</a>"
      ],
      "text/plain": [
       "<IPython.core.display.HTML object>"
      ]
     },
     "metadata": {},
     "output_type": "display_data"
    },
    {
     "name": "stdout",
     "output_type": "stream",
     "text": [
      "{'hidden_size': 128, 'datafile': 'gru_inputs_simple_v8_kitchen_sink.fth', 'stats': \"[['dist_last__1', 'box_last__1', 'speed_avg_1', 'split_speed_v1_1', 'split_speed_avg_1', 'split_margin_avg_1', 'margin_avg_1', 'RunHomeTime_1', 'run_home_speed_1', 'run_home_speed_v1_1', 'first_out_avg_1', 'pos_out_avg_1', 'post_change_avg_1', 'races_1', 'wins_1', 'wins_last_1', 'weight_', 'min_time_', 'min_split_time_', 'min_split_time_v1', 'last_start_price', 'last_start_prob']]\", 'input_type': 'basic', 'races': ['NSW'], 'latest_date': '2023-05-26T00:00:00', 'num_layers': 2, 'batch_size': 750, 'dropout': 0.3, 'epochs': 10000, 'learning_rate': 0.0003, 'optimizer': 'adamW', 'f0_layer_size': 128, 'f1_layer_size': 64, 'variable': 'run_home_speed_v1_1'}\n",
      "10000\n",
      "{'hidden_size': 128, 'datafile': 'gru_inputs_simple_v8_kitchen_sink.fth', 'stats': \"[['dist_last__1', 'box_last__1', 'speed_avg_1', 'split_speed_v1_1', 'split_speed_avg_1', 'split_margin_avg_1', 'margin_avg_1', 'RunHomeTime_1', 'run_home_speed_1', 'run_home_speed_v1_1', 'first_out_avg_1', 'pos_out_avg_1', 'post_change_avg_1', 'races_1', 'wins_1', 'wins_last_1', 'weight_', 'min_time_', 'min_split_time_', 'min_split_time_v1', 'last_start_price', 'last_start_prob']]\", 'input_type': 'basic', 'races': ['NSW'], 'latest_date': '2023-05-26T00:00:00', 'num_layers': 2, 'batch_size': 750, 'dropout': 0.3, 'epochs': 10000, 'learning_rate': 0.0003, 'optimizer': 'adamW', 'f0_layer_size': 128, 'f1_layer_size': 64, 'variable': 'run_home_speed_v1_1'}\n",
      "basic\n",
      "here\n",
      "input_size=28\n"
     ]
    },
    {
     "name": "stderr",
     "output_type": "stream",
     "text": [
      "100%|██████████| 6960/6960 [00:00<00:00, 434610.55it/s]\n"
     ]
    },
    {
     "name": "stdout",
     "output_type": "stream",
     "text": [
      "filled =3856\n",
      "empty  =3104\n",
      "0.5540229885057472null_dog=0\n",
      "GRUNetv3_BN(\n",
      "  (gru): GRU(28, 128, num_layers=2, dropout=0.3)\n",
      "  (relu0): ReLU()\n",
      "  (fc0): Linear(in_features=1094, out_features=1094, bias=True)\n",
      "  (layer_norm): BatchNorm1d(28, eps=1e-05, momentum=0.1, affine=True, track_running_stats=True)\n",
      "  (rl1): ReLU()\n",
      "  (drop1): Dropout(p=0.3, inplace=False)\n",
      "  (fc1): Linear(in_features=1094, out_features=128, bias=True)\n",
      "  (rl2): ReLU()\n",
      "  (drop2): Dropout(p=0.3, inplace=False)\n",
      "  (fc2): Linear(in_features=128, out_features=64, bias=True)\n",
      "  (rl3): ReLU()\n",
      "  (drop3): Dropout(p=0.3, inplace=False)\n",
      "  (fc3): Linear(in_features=64, out_features=8, bias=True)\n",
      "  (output_fn): Identity()\n",
      ")\n"
     ]
    },
    {
     "data": {
      "text/html": [
       "Waiting for W&B process to finish... <strong style=\"color:green\">(success).</strong>"
      ],
      "text/plain": [
       "<IPython.core.display.HTML object>"
      ]
     },
     "metadata": {},
     "output_type": "display_data"
    },
    {
     "data": {
      "text/html": [
       "<style>\n",
       "    table.wandb td:nth-child(1) { padding: 0 10px; text-align: left ; width: auto;} td:nth-child(2) {text-align: left ; width: 100%}\n",
       "    .wandb-row { display: flex; flex-direction: row; flex-wrap: wrap; justify-content: flex-start; width: 100% }\n",
       "    .wandb-col { display: flex; flex-direction: column; flex-basis: 100%; flex: 1; padding: 10px; }\n",
       "    </style>\n",
       "<div class=\"wandb-row\"><div class=\"wandb-col\"><h3>Run history:</h3><br/><table class=\"wandb\"><tr><td>ROI < 30</td><td>▁▁</td></tr><tr><td>ROI < 30 2</td><td>▁▁</td></tr><tr><td>accuracy</td><td>▁▁</td></tr><tr><td>accuracy2</td><td>▁</td></tr><tr><td>epoch</td><td>▁▁</td></tr><tr><td>flat_simple</td><td>▁▁</td></tr><tr><td>loss_val</td><td>▁▁</td></tr><tr><td>multibet outlay < 30</td><td>▁▁</td></tr><tr><td>multibet profit</td><td>▁▁</td></tr><tr><td>multibet profit < 30</td><td>▁▁</td></tr><tr><td>multibet profit < 30 sd</td><td>▁▁</td></tr><tr><td>profit_relu</td><td>▁▁</td></tr><tr><td>relu roi</td><td>▁▁</td></tr></table><br/></div><div class=\"wandb-col\"><h3>Run summary:</h3><br/><table class=\"wandb\"><tr><td>ROI < 30</td><td>0.01568</td></tr><tr><td>ROI < 30 2</td><td>-0.02202</td></tr><tr><td>accuracy</td><td>0.34967</td></tr><tr><td>accuracy2</td><td>0.34967</td></tr><tr><td>epoch</td><td>0</td></tr><tr><td>flat_simple</td><td>-528.71673</td></tr><tr><td>loss_val</td><td>1.6858</td></tr><tr><td>multibet outlay < 30</td><td>143993.89013</td></tr><tr><td>multibet profit < 30</td><td>2257.46599</td></tr><tr><td>multibet profit < 30 sd</td><td>14.5219</td></tr><tr><td>profit_relu</td><td>213.67753</td></tr><tr><td>relu roi</td><td>0.00436</td></tr></table><br/></div></div>"
      ],
      "text/plain": [
       "<IPython.core.display.HTML object>"
      ]
     },
     "metadata": {},
     "output_type": "display_data"
    },
    {
     "data": {
      "text/html": [
       " View run <strong style=\"color:#cdcd00\">pretty-music-101</strong> at: <a href='https://wandb.ai/nickojelly/NEW%20GRU%20-%20updates%20-%20shuffle/runs/knhm8gk8' target=\"_blank\">https://wandb.ai/nickojelly/NEW%20GRU%20-%20updates%20-%20shuffle/runs/knhm8gk8</a><br/>Synced 6 W&B file(s), 3 media file(s), 3 artifact file(s) and 1 other file(s)"
      ],
      "text/plain": [
       "<IPython.core.display.HTML object>"
      ]
     },
     "metadata": {},
     "output_type": "display_data"
    },
    {
     "data": {
      "text/html": [
       "Find logs at: <code>.\\wandb\\run-20230615_214259-knhm8gk8\\logs</code>"
      ],
      "text/plain": [
       "<IPython.core.display.HTML object>"
      ]
     },
     "metadata": {},
     "output_type": "display_data"
    },
    {
     "data": {
      "application/vnd.jupyter.widget-view+json": {
       "model_id": "3c6b22b11def480d8e05f85c481d708b",
       "version_major": 2,
       "version_minor": 0
      },
      "text/plain": [
       "VBox(children=(Label(value='Waiting for wandb.init()...\\r'), FloatProgress(value=0.016666666666666666, max=1.0…"
      ]
     },
     "metadata": {},
     "output_type": "display_data"
    },
    {
     "data": {
      "text/html": [
       "Tracking run with wandb version 0.15.4"
      ],
      "text/plain": [
       "<IPython.core.display.HTML object>"
      ]
     },
     "metadata": {},
     "output_type": "display_data"
    },
    {
     "data": {
      "text/html": [
       "Run data is saved locally in <code>C:\\Users\\Nick\\Documents\\GitHub\\grvmodel\\Python\\DATA\\wandb\\run-20230615_214349-rmc8uxoc</code>"
      ],
      "text/plain": [
       "<IPython.core.display.HTML object>"
      ]
     },
     "metadata": {},
     "output_type": "display_data"
    },
    {
     "data": {
      "text/html": [
       "Syncing run <strong><a href='https://wandb.ai/nickojelly/NEW%20GRU%20-%20updates%20-%20shuffle/runs/rmc8uxoc' target=\"_blank\">glamorous-vortex-102</a></strong> to <a href='https://wandb.ai/nickojelly/NEW%20GRU%20-%20updates%20-%20shuffle' target=\"_blank\">Weights & Biases</a> (<a href='https://wandb.me/run' target=\"_blank\">docs</a>)<br/>"
      ],
      "text/plain": [
       "<IPython.core.display.HTML object>"
      ]
     },
     "metadata": {},
     "output_type": "display_data"
    },
    {
     "data": {
      "text/html": [
       " View project at <a href='https://wandb.ai/nickojelly/NEW%20GRU%20-%20updates%20-%20shuffle' target=\"_blank\">https://wandb.ai/nickojelly/NEW%20GRU%20-%20updates%20-%20shuffle</a>"
      ],
      "text/plain": [
       "<IPython.core.display.HTML object>"
      ]
     },
     "metadata": {},
     "output_type": "display_data"
    },
    {
     "data": {
      "text/html": [
       " View run at <a href='https://wandb.ai/nickojelly/NEW%20GRU%20-%20updates%20-%20shuffle/runs/rmc8uxoc' target=\"_blank\">https://wandb.ai/nickojelly/NEW%20GRU%20-%20updates%20-%20shuffle/runs/rmc8uxoc</a>"
      ],
      "text/plain": [
       "<IPython.core.display.HTML object>"
      ]
     },
     "metadata": {},
     "output_type": "display_data"
    },
    {
     "name": "stdout",
     "output_type": "stream",
     "text": [
      "{'hidden_size': 128, 'datafile': 'gru_inputs_simple_v8_kitchen_sink.fth', 'stats': \"[['dist_last__1', 'box_last__1', 'speed_avg_1', 'split_speed_v1_1', 'split_speed_avg_1', 'split_margin_avg_1', 'margin_avg_1', 'RunHomeTime_1', 'run_home_speed_1', 'run_home_speed_v1_1', 'first_out_avg_1', 'pos_out_avg_1', 'post_change_avg_1', 'races_1', 'wins_1', 'wins_last_1', 'weight_', 'min_time_', 'min_split_time_', 'min_split_time_v1', 'last_start_price', 'last_start_prob']]\", 'input_type': 'basic', 'races': ['NSW'], 'latest_date': '2023-05-26T00:00:00', 'num_layers': 2, 'batch_size': 750, 'dropout': 0.3, 'epochs': 10000, 'learning_rate': 0.0003, 'optimizer': 'adamW', 'f0_layer_size': 128, 'f1_layer_size': 64, 'variable': 'first_out_avg_1'}\n",
      "10000\n",
      "{'hidden_size': 128, 'datafile': 'gru_inputs_simple_v8_kitchen_sink.fth', 'stats': \"[['dist_last__1', 'box_last__1', 'speed_avg_1', 'split_speed_v1_1', 'split_speed_avg_1', 'split_margin_avg_1', 'margin_avg_1', 'RunHomeTime_1', 'run_home_speed_1', 'run_home_speed_v1_1', 'first_out_avg_1', 'pos_out_avg_1', 'post_change_avg_1', 'races_1', 'wins_1', 'wins_last_1', 'weight_', 'min_time_', 'min_split_time_', 'min_split_time_v1', 'last_start_price', 'last_start_prob']]\", 'input_type': 'basic', 'races': ['NSW'], 'latest_date': '2023-05-26T00:00:00', 'num_layers': 2, 'batch_size': 750, 'dropout': 0.3, 'epochs': 10000, 'learning_rate': 0.0003, 'optimizer': 'adamW', 'f0_layer_size': 128, 'f1_layer_size': 64, 'variable': 'first_out_avg_1'}\n",
      "basic\n",
      "here\n",
      "input_size=28\n"
     ]
    },
    {
     "name": "stderr",
     "output_type": "stream",
     "text": [
      "100%|██████████| 6960/6960 [00:00<00:00, 409051.31it/s]\n"
     ]
    },
    {
     "name": "stdout",
     "output_type": "stream",
     "text": [
      "filled =3856\n",
      "empty  =3104\n",
      "0.5540229885057472null_dog=0\n",
      "GRUNetv3_BN(\n",
      "  (gru): GRU(28, 128, num_layers=2, dropout=0.3)\n",
      "  (relu0): ReLU()\n",
      "  (fc0): Linear(in_features=1094, out_features=1094, bias=True)\n",
      "  (layer_norm): BatchNorm1d(28, eps=1e-05, momentum=0.1, affine=True, track_running_stats=True)\n",
      "  (rl1): ReLU()\n",
      "  (drop1): Dropout(p=0.3, inplace=False)\n",
      "  (fc1): Linear(in_features=1094, out_features=128, bias=True)\n",
      "  (rl2): ReLU()\n",
      "  (drop2): Dropout(p=0.3, inplace=False)\n",
      "  (fc2): Linear(in_features=128, out_features=64, bias=True)\n",
      "  (rl3): ReLU()\n",
      "  (drop3): Dropout(p=0.3, inplace=False)\n",
      "  (fc3): Linear(in_features=64, out_features=8, bias=True)\n",
      "  (output_fn): Identity()\n",
      ")\n"
     ]
    },
    {
     "data": {
      "text/html": [
       "Waiting for W&B process to finish... <strong style=\"color:green\">(success).</strong>"
      ],
      "text/plain": [
       "<IPython.core.display.HTML object>"
      ]
     },
     "metadata": {},
     "output_type": "display_data"
    },
    {
     "data": {
      "text/html": [
       "<style>\n",
       "    table.wandb td:nth-child(1) { padding: 0 10px; text-align: left ; width: auto;} td:nth-child(2) {text-align: left ; width: 100%}\n",
       "    .wandb-row { display: flex; flex-direction: row; flex-wrap: wrap; justify-content: flex-start; width: 100% }\n",
       "    .wandb-col { display: flex; flex-direction: column; flex-basis: 100%; flex: 1; padding: 10px; }\n",
       "    </style>\n",
       "<div class=\"wandb-row\"><div class=\"wandb-col\"><h3>Run history:</h3><br/><table class=\"wandb\"><tr><td>ROI < 30</td><td>▁▁</td></tr><tr><td>ROI < 30 2</td><td>▁▁</td></tr><tr><td>accuracy</td><td>▁▁</td></tr><tr><td>accuracy2</td><td>▁</td></tr><tr><td>epoch</td><td>▁▁</td></tr><tr><td>flat_simple</td><td>▁▁</td></tr><tr><td>loss_val</td><td>▁▁</td></tr><tr><td>multibet outlay < 30</td><td>▁▁</td></tr><tr><td>multibet profit</td><td>▁▁</td></tr><tr><td>multibet profit < 30</td><td>▁▁</td></tr><tr><td>multibet profit < 30 sd</td><td>▁▁</td></tr><tr><td>profit_relu</td><td>▁▁</td></tr><tr><td>relu roi</td><td>▁▁</td></tr></table><br/></div><div class=\"wandb-col\"><h3>Run summary:</h3><br/><table class=\"wandb\"><tr><td>ROI < 30</td><td>0.01923</td></tr><tr><td>ROI < 30 2</td><td>-0.01749</td></tr><tr><td>accuracy</td><td>0.34753</td></tr><tr><td>accuracy2</td><td>0.34753</td></tr><tr><td>epoch</td><td>0</td></tr><tr><td>flat_simple</td><td>-584.95302</td></tr><tr><td>loss_val</td><td>1.68512</td></tr><tr><td>multibet outlay < 30</td><td>143647.78048</td></tr><tr><td>multibet profit < 30</td><td>2762.64166</td></tr><tr><td>multibet profit < 30 sd</td><td>14.45336</td></tr><tr><td>profit_relu</td><td>291.29276</td></tr><tr><td>relu roi</td><td>0.00597</td></tr></table><br/></div></div>"
      ],
      "text/plain": [
       "<IPython.core.display.HTML object>"
      ]
     },
     "metadata": {},
     "output_type": "display_data"
    },
    {
     "data": {
      "text/html": [
       " View run <strong style=\"color:#cdcd00\">glamorous-vortex-102</strong> at: <a href='https://wandb.ai/nickojelly/NEW%20GRU%20-%20updates%20-%20shuffle/runs/rmc8uxoc' target=\"_blank\">https://wandb.ai/nickojelly/NEW%20GRU%20-%20updates%20-%20shuffle/runs/rmc8uxoc</a><br/>Synced 6 W&B file(s), 3 media file(s), 3 artifact file(s) and 1 other file(s)"
      ],
      "text/plain": [
       "<IPython.core.display.HTML object>"
      ]
     },
     "metadata": {},
     "output_type": "display_data"
    },
    {
     "data": {
      "text/html": [
       "Find logs at: <code>.\\wandb\\run-20230615_214349-rmc8uxoc\\logs</code>"
      ],
      "text/plain": [
       "<IPython.core.display.HTML object>"
      ]
     },
     "metadata": {},
     "output_type": "display_data"
    },
    {
     "data": {
      "application/vnd.jupyter.widget-view+json": {
       "model_id": "ef114cdc98b14a3fa55df0f1a600b314",
       "version_major": 2,
       "version_minor": 0
      },
      "text/plain": [
       "VBox(children=(Label(value='Waiting for wandb.init()...\\r'), FloatProgress(value=0.016933333332902596, max=1.0…"
      ]
     },
     "metadata": {},
     "output_type": "display_data"
    },
    {
     "data": {
      "text/html": [
       "Tracking run with wandb version 0.15.4"
      ],
      "text/plain": [
       "<IPython.core.display.HTML object>"
      ]
     },
     "metadata": {},
     "output_type": "display_data"
    },
    {
     "data": {
      "text/html": [
       "Run data is saved locally in <code>C:\\Users\\Nick\\Documents\\GitHub\\grvmodel\\Python\\DATA\\wandb\\run-20230615_214431-3zixf8d5</code>"
      ],
      "text/plain": [
       "<IPython.core.display.HTML object>"
      ]
     },
     "metadata": {},
     "output_type": "display_data"
    },
    {
     "data": {
      "text/html": [
       "Syncing run <strong><a href='https://wandb.ai/nickojelly/NEW%20GRU%20-%20updates%20-%20shuffle/runs/3zixf8d5' target=\"_blank\">autumn-puddle-103</a></strong> to <a href='https://wandb.ai/nickojelly/NEW%20GRU%20-%20updates%20-%20shuffle' target=\"_blank\">Weights & Biases</a> (<a href='https://wandb.me/run' target=\"_blank\">docs</a>)<br/>"
      ],
      "text/plain": [
       "<IPython.core.display.HTML object>"
      ]
     },
     "metadata": {},
     "output_type": "display_data"
    },
    {
     "data": {
      "text/html": [
       " View project at <a href='https://wandb.ai/nickojelly/NEW%20GRU%20-%20updates%20-%20shuffle' target=\"_blank\">https://wandb.ai/nickojelly/NEW%20GRU%20-%20updates%20-%20shuffle</a>"
      ],
      "text/plain": [
       "<IPython.core.display.HTML object>"
      ]
     },
     "metadata": {},
     "output_type": "display_data"
    },
    {
     "data": {
      "text/html": [
       " View run at <a href='https://wandb.ai/nickojelly/NEW%20GRU%20-%20updates%20-%20shuffle/runs/3zixf8d5' target=\"_blank\">https://wandb.ai/nickojelly/NEW%20GRU%20-%20updates%20-%20shuffle/runs/3zixf8d5</a>"
      ],
      "text/plain": [
       "<IPython.core.display.HTML object>"
      ]
     },
     "metadata": {},
     "output_type": "display_data"
    },
    {
     "name": "stdout",
     "output_type": "stream",
     "text": [
      "{'hidden_size': 128, 'datafile': 'gru_inputs_simple_v8_kitchen_sink.fth', 'stats': \"[['dist_last__1', 'box_last__1', 'speed_avg_1', 'split_speed_v1_1', 'split_speed_avg_1', 'split_margin_avg_1', 'margin_avg_1', 'RunHomeTime_1', 'run_home_speed_1', 'run_home_speed_v1_1', 'first_out_avg_1', 'pos_out_avg_1', 'post_change_avg_1', 'races_1', 'wins_1', 'wins_last_1', 'weight_', 'min_time_', 'min_split_time_', 'min_split_time_v1', 'last_start_price', 'last_start_prob']]\", 'input_type': 'basic', 'races': ['NSW'], 'latest_date': '2023-05-26T00:00:00', 'num_layers': 2, 'batch_size': 750, 'dropout': 0.3, 'epochs': 10000, 'learning_rate': 0.0003, 'optimizer': 'adamW', 'f0_layer_size': 128, 'f1_layer_size': 64, 'variable': 'pos_out_avg_1'}\n",
      "10000\n",
      "{'hidden_size': 128, 'datafile': 'gru_inputs_simple_v8_kitchen_sink.fth', 'stats': \"[['dist_last__1', 'box_last__1', 'speed_avg_1', 'split_speed_v1_1', 'split_speed_avg_1', 'split_margin_avg_1', 'margin_avg_1', 'RunHomeTime_1', 'run_home_speed_1', 'run_home_speed_v1_1', 'first_out_avg_1', 'pos_out_avg_1', 'post_change_avg_1', 'races_1', 'wins_1', 'wins_last_1', 'weight_', 'min_time_', 'min_split_time_', 'min_split_time_v1', 'last_start_price', 'last_start_prob']]\", 'input_type': 'basic', 'races': ['NSW'], 'latest_date': '2023-05-26T00:00:00', 'num_layers': 2, 'batch_size': 750, 'dropout': 0.3, 'epochs': 10000, 'learning_rate': 0.0003, 'optimizer': 'adamW', 'f0_layer_size': 128, 'f1_layer_size': 64, 'variable': 'pos_out_avg_1'}\n",
      "basic\n",
      "here\n",
      "input_size=28\n"
     ]
    },
    {
     "name": "stderr",
     "output_type": "stream",
     "text": [
      "100%|██████████| 6960/6960 [00:00<00:00, 434584.67it/s]\n"
     ]
    },
    {
     "name": "stdout",
     "output_type": "stream",
     "text": [
      "filled =3856\n",
      "empty  =3104\n",
      "0.5540229885057472null_dog=0\n",
      "GRUNetv3_BN(\n",
      "  (gru): GRU(28, 128, num_layers=2, dropout=0.3)\n",
      "  (relu0): ReLU()\n",
      "  (fc0): Linear(in_features=1094, out_features=1094, bias=True)\n",
      "  (layer_norm): BatchNorm1d(28, eps=1e-05, momentum=0.1, affine=True, track_running_stats=True)\n",
      "  (rl1): ReLU()\n",
      "  (drop1): Dropout(p=0.3, inplace=False)\n",
      "  (fc1): Linear(in_features=1094, out_features=128, bias=True)\n",
      "  (rl2): ReLU()\n",
      "  (drop2): Dropout(p=0.3, inplace=False)\n",
      "  (fc2): Linear(in_features=128, out_features=64, bias=True)\n",
      "  (rl3): ReLU()\n",
      "  (drop3): Dropout(p=0.3, inplace=False)\n",
      "  (fc3): Linear(in_features=64, out_features=8, bias=True)\n",
      "  (output_fn): Identity()\n",
      ")\n"
     ]
    },
    {
     "data": {
      "text/html": [
       "Waiting for W&B process to finish... <strong style=\"color:green\">(success).</strong>"
      ],
      "text/plain": [
       "<IPython.core.display.HTML object>"
      ]
     },
     "metadata": {},
     "output_type": "display_data"
    },
    {
     "data": {
      "text/html": [
       "<style>\n",
       "    table.wandb td:nth-child(1) { padding: 0 10px; text-align: left ; width: auto;} td:nth-child(2) {text-align: left ; width: 100%}\n",
       "    .wandb-row { display: flex; flex-direction: row; flex-wrap: wrap; justify-content: flex-start; width: 100% }\n",
       "    .wandb-col { display: flex; flex-direction: column; flex-basis: 100%; flex: 1; padding: 10px; }\n",
       "    </style>\n",
       "<div class=\"wandb-row\"><div class=\"wandb-col\"><h3>Run history:</h3><br/><table class=\"wandb\"><tr><td>ROI < 30</td><td>▁▁</td></tr><tr><td>ROI < 30 2</td><td>▁▁</td></tr><tr><td>accuracy</td><td>▁▁</td></tr><tr><td>accuracy2</td><td>▁</td></tr><tr><td>epoch</td><td>▁▁</td></tr><tr><td>flat_simple</td><td>▁▁</td></tr><tr><td>loss_val</td><td>▁▁</td></tr><tr><td>multibet outlay < 30</td><td>▁▁</td></tr><tr><td>multibet profit</td><td>▁▁</td></tr><tr><td>multibet profit < 30</td><td>▁▁</td></tr><tr><td>multibet profit < 30 sd</td><td>▁▁</td></tr><tr><td>profit_relu</td><td>▁▁</td></tr><tr><td>relu roi</td><td>▁▁</td></tr></table><br/></div><div class=\"wandb-col\"><h3>Run summary:</h3><br/><table class=\"wandb\"><tr><td>ROI < 30</td><td>0.01309</td></tr><tr><td>ROI < 30 2</td><td>-0.02724</td></tr><tr><td>accuracy</td><td>0.34575</td></tr><tr><td>accuracy2</td><td>0.34575</td></tr><tr><td>epoch</td><td>0</td></tr><tr><td>flat_simple</td><td>-690.07539</td></tr><tr><td>loss_val</td><td>1.68579</td></tr><tr><td>multibet outlay < 30</td><td>143544.19486</td></tr><tr><td>multibet profit < 30</td><td>1878.96964</td></tr><tr><td>multibet profit < 30 sd</td><td>14.44171</td></tr><tr><td>profit_relu</td><td>34.99019</td></tr><tr><td>relu roi</td><td>0.00072</td></tr></table><br/></div></div>"
      ],
      "text/plain": [
       "<IPython.core.display.HTML object>"
      ]
     },
     "metadata": {},
     "output_type": "display_data"
    },
    {
     "data": {
      "text/html": [
       " View run <strong style=\"color:#cdcd00\">autumn-puddle-103</strong> at: <a href='https://wandb.ai/nickojelly/NEW%20GRU%20-%20updates%20-%20shuffle/runs/3zixf8d5' target=\"_blank\">https://wandb.ai/nickojelly/NEW%20GRU%20-%20updates%20-%20shuffle/runs/3zixf8d5</a><br/>Synced 6 W&B file(s), 3 media file(s), 3 artifact file(s) and 1 other file(s)"
      ],
      "text/plain": [
       "<IPython.core.display.HTML object>"
      ]
     },
     "metadata": {},
     "output_type": "display_data"
    },
    {
     "data": {
      "text/html": [
       "Find logs at: <code>.\\wandb\\run-20230615_214431-3zixf8d5\\logs</code>"
      ],
      "text/plain": [
       "<IPython.core.display.HTML object>"
      ]
     },
     "metadata": {},
     "output_type": "display_data"
    },
    {
     "data": {
      "application/vnd.jupyter.widget-view+json": {
       "model_id": "0d2f438d786246a3a224e0b2bf7610d7",
       "version_major": 2,
       "version_minor": 0
      },
      "text/plain": [
       "VBox(children=(Label(value='Waiting for wandb.init()...\\r'), FloatProgress(value=0.016666666666666666, max=1.0…"
      ]
     },
     "metadata": {},
     "output_type": "display_data"
    },
    {
     "data": {
      "text/html": [
       "Tracking run with wandb version 0.15.4"
      ],
      "text/plain": [
       "<IPython.core.display.HTML object>"
      ]
     },
     "metadata": {},
     "output_type": "display_data"
    },
    {
     "data": {
      "text/html": [
       "Run data is saved locally in <code>C:\\Users\\Nick\\Documents\\GitHub\\grvmodel\\Python\\DATA\\wandb\\run-20230615_214515-imgnoltb</code>"
      ],
      "text/plain": [
       "<IPython.core.display.HTML object>"
      ]
     },
     "metadata": {},
     "output_type": "display_data"
    },
    {
     "data": {
      "text/html": [
       "Syncing run <strong><a href='https://wandb.ai/nickojelly/NEW%20GRU%20-%20updates%20-%20shuffle/runs/imgnoltb' target=\"_blank\">tough-capybara-104</a></strong> to <a href='https://wandb.ai/nickojelly/NEW%20GRU%20-%20updates%20-%20shuffle' target=\"_blank\">Weights & Biases</a> (<a href='https://wandb.me/run' target=\"_blank\">docs</a>)<br/>"
      ],
      "text/plain": [
       "<IPython.core.display.HTML object>"
      ]
     },
     "metadata": {},
     "output_type": "display_data"
    },
    {
     "data": {
      "text/html": [
       " View project at <a href='https://wandb.ai/nickojelly/NEW%20GRU%20-%20updates%20-%20shuffle' target=\"_blank\">https://wandb.ai/nickojelly/NEW%20GRU%20-%20updates%20-%20shuffle</a>"
      ],
      "text/plain": [
       "<IPython.core.display.HTML object>"
      ]
     },
     "metadata": {},
     "output_type": "display_data"
    },
    {
     "data": {
      "text/html": [
       " View run at <a href='https://wandb.ai/nickojelly/NEW%20GRU%20-%20updates%20-%20shuffle/runs/imgnoltb' target=\"_blank\">https://wandb.ai/nickojelly/NEW%20GRU%20-%20updates%20-%20shuffle/runs/imgnoltb</a>"
      ],
      "text/plain": [
       "<IPython.core.display.HTML object>"
      ]
     },
     "metadata": {},
     "output_type": "display_data"
    },
    {
     "name": "stdout",
     "output_type": "stream",
     "text": [
      "{'hidden_size': 128, 'datafile': 'gru_inputs_simple_v8_kitchen_sink.fth', 'stats': \"[['dist_last__1', 'box_last__1', 'speed_avg_1', 'split_speed_v1_1', 'split_speed_avg_1', 'split_margin_avg_1', 'margin_avg_1', 'RunHomeTime_1', 'run_home_speed_1', 'run_home_speed_v1_1', 'first_out_avg_1', 'pos_out_avg_1', 'post_change_avg_1', 'races_1', 'wins_1', 'wins_last_1', 'weight_', 'min_time_', 'min_split_time_', 'min_split_time_v1', 'last_start_price', 'last_start_prob']]\", 'input_type': 'basic', 'races': ['NSW'], 'latest_date': '2023-05-26T00:00:00', 'num_layers': 2, 'batch_size': 750, 'dropout': 0.3, 'epochs': 10000, 'learning_rate': 0.0003, 'optimizer': 'adamW', 'f0_layer_size': 128, 'f1_layer_size': 64, 'variable': 'post_change_avg_1'}\n",
      "10000\n",
      "{'hidden_size': 128, 'datafile': 'gru_inputs_simple_v8_kitchen_sink.fth', 'stats': \"[['dist_last__1', 'box_last__1', 'speed_avg_1', 'split_speed_v1_1', 'split_speed_avg_1', 'split_margin_avg_1', 'margin_avg_1', 'RunHomeTime_1', 'run_home_speed_1', 'run_home_speed_v1_1', 'first_out_avg_1', 'pos_out_avg_1', 'post_change_avg_1', 'races_1', 'wins_1', 'wins_last_1', 'weight_', 'min_time_', 'min_split_time_', 'min_split_time_v1', 'last_start_price', 'last_start_prob']]\", 'input_type': 'basic', 'races': ['NSW'], 'latest_date': '2023-05-26T00:00:00', 'num_layers': 2, 'batch_size': 750, 'dropout': 0.3, 'epochs': 10000, 'learning_rate': 0.0003, 'optimizer': 'adamW', 'f0_layer_size': 128, 'f1_layer_size': 64, 'variable': 'post_change_avg_1'}\n",
      "basic\n",
      "here\n",
      "input_size=28\n"
     ]
    },
    {
     "name": "stderr",
     "output_type": "stream",
     "text": [
      "100%|██████████| 6960/6960 [00:00<00:00, 434597.61it/s]\n"
     ]
    },
    {
     "name": "stdout",
     "output_type": "stream",
     "text": [
      "filled =3856\n",
      "empty  =3104\n",
      "0.5540229885057472null_dog=0\n",
      "GRUNetv3_BN(\n",
      "  (gru): GRU(28, 128, num_layers=2, dropout=0.3)\n",
      "  (relu0): ReLU()\n",
      "  (fc0): Linear(in_features=1094, out_features=1094, bias=True)\n",
      "  (layer_norm): BatchNorm1d(28, eps=1e-05, momentum=0.1, affine=True, track_running_stats=True)\n",
      "  (rl1): ReLU()\n",
      "  (drop1): Dropout(p=0.3, inplace=False)\n",
      "  (fc1): Linear(in_features=1094, out_features=128, bias=True)\n",
      "  (rl2): ReLU()\n",
      "  (drop2): Dropout(p=0.3, inplace=False)\n",
      "  (fc2): Linear(in_features=128, out_features=64, bias=True)\n",
      "  (rl3): ReLU()\n",
      "  (drop3): Dropout(p=0.3, inplace=False)\n",
      "  (fc3): Linear(in_features=64, out_features=8, bias=True)\n",
      "  (output_fn): Identity()\n",
      ")\n"
     ]
    },
    {
     "data": {
      "text/html": [
       "Waiting for W&B process to finish... <strong style=\"color:green\">(success).</strong>"
      ],
      "text/plain": [
       "<IPython.core.display.HTML object>"
      ]
     },
     "metadata": {},
     "output_type": "display_data"
    },
    {
     "data": {
      "text/html": [
       "<style>\n",
       "    table.wandb td:nth-child(1) { padding: 0 10px; text-align: left ; width: auto;} td:nth-child(2) {text-align: left ; width: 100%}\n",
       "    .wandb-row { display: flex; flex-direction: row; flex-wrap: wrap; justify-content: flex-start; width: 100% }\n",
       "    .wandb-col { display: flex; flex-direction: column; flex-basis: 100%; flex: 1; padding: 10px; }\n",
       "    </style>\n",
       "<div class=\"wandb-row\"><div class=\"wandb-col\"><h3>Run history:</h3><br/><table class=\"wandb\"><tr><td>ROI < 30</td><td>▁▁</td></tr><tr><td>ROI < 30 2</td><td>▁▁</td></tr><tr><td>accuracy</td><td>▁▁</td></tr><tr><td>accuracy2</td><td>▁</td></tr><tr><td>epoch</td><td>▁▁</td></tr><tr><td>flat_simple</td><td>▁▁</td></tr><tr><td>loss_val</td><td>▁▁</td></tr><tr><td>multibet outlay < 30</td><td>▁▁</td></tr><tr><td>multibet profit</td><td>▁▁</td></tr><tr><td>multibet profit < 30</td><td>▁▁</td></tr><tr><td>multibet profit < 30 sd</td><td>▁▁</td></tr><tr><td>profit_relu</td><td>▁▁</td></tr><tr><td>relu roi</td><td>▁▁</td></tr></table><br/></div><div class=\"wandb-col\"><h3>Run summary:</h3><br/><table class=\"wandb\"><tr><td>ROI < 30</td><td>0.01698</td></tr><tr><td>ROI < 30 2</td><td>-0.02007</td></tr><tr><td>accuracy</td><td>0.34976</td></tr><tr><td>accuracy2</td><td>0.34976</td></tr><tr><td>epoch</td><td>0</td></tr><tr><td>flat_simple</td><td>-573.41453</td></tr><tr><td>loss_val</td><td>1.68515</td></tr><tr><td>multibet outlay < 30</td><td>143393.86305</td></tr><tr><td>multibet profit < 30</td><td>2435.28692</td></tr><tr><td>multibet profit < 30 sd</td><td>14.44449</td></tr><tr><td>profit_relu</td><td>117.58394</td></tr><tr><td>relu roi</td><td>0.00241</td></tr></table><br/></div></div>"
      ],
      "text/plain": [
       "<IPython.core.display.HTML object>"
      ]
     },
     "metadata": {},
     "output_type": "display_data"
    },
    {
     "data": {
      "text/html": [
       " View run <strong style=\"color:#cdcd00\">tough-capybara-104</strong> at: <a href='https://wandb.ai/nickojelly/NEW%20GRU%20-%20updates%20-%20shuffle/runs/imgnoltb' target=\"_blank\">https://wandb.ai/nickojelly/NEW%20GRU%20-%20updates%20-%20shuffle/runs/imgnoltb</a><br/>Synced 6 W&B file(s), 3 media file(s), 3 artifact file(s) and 1 other file(s)"
      ],
      "text/plain": [
       "<IPython.core.display.HTML object>"
      ]
     },
     "metadata": {},
     "output_type": "display_data"
    },
    {
     "data": {
      "text/html": [
       "Find logs at: <code>.\\wandb\\run-20230615_214515-imgnoltb\\logs</code>"
      ],
      "text/plain": [
       "<IPython.core.display.HTML object>"
      ]
     },
     "metadata": {},
     "output_type": "display_data"
    },
    {
     "data": {
      "application/vnd.jupyter.widget-view+json": {
       "model_id": "cf347ffa01724133b3ef7cac71bf50da",
       "version_major": 2,
       "version_minor": 0
      },
      "text/plain": [
       "VBox(children=(Label(value='Waiting for wandb.init()...\\r'), FloatProgress(value=0.016666666666666666, max=1.0…"
      ]
     },
     "metadata": {},
     "output_type": "display_data"
    },
    {
     "data": {
      "text/html": [
       "Tracking run with wandb version 0.15.4"
      ],
      "text/plain": [
       "<IPython.core.display.HTML object>"
      ]
     },
     "metadata": {},
     "output_type": "display_data"
    },
    {
     "data": {
      "text/html": [
       "Run data is saved locally in <code>C:\\Users\\Nick\\Documents\\GitHub\\grvmodel\\Python\\DATA\\wandb\\run-20230615_214557-bdmabe55</code>"
      ],
      "text/plain": [
       "<IPython.core.display.HTML object>"
      ]
     },
     "metadata": {},
     "output_type": "display_data"
    },
    {
     "data": {
      "text/html": [
       "Syncing run <strong><a href='https://wandb.ai/nickojelly/NEW%20GRU%20-%20updates%20-%20shuffle/runs/bdmabe55' target=\"_blank\">rural-fire-105</a></strong> to <a href='https://wandb.ai/nickojelly/NEW%20GRU%20-%20updates%20-%20shuffle' target=\"_blank\">Weights & Biases</a> (<a href='https://wandb.me/run' target=\"_blank\">docs</a>)<br/>"
      ],
      "text/plain": [
       "<IPython.core.display.HTML object>"
      ]
     },
     "metadata": {},
     "output_type": "display_data"
    },
    {
     "data": {
      "text/html": [
       " View project at <a href='https://wandb.ai/nickojelly/NEW%20GRU%20-%20updates%20-%20shuffle' target=\"_blank\">https://wandb.ai/nickojelly/NEW%20GRU%20-%20updates%20-%20shuffle</a>"
      ],
      "text/plain": [
       "<IPython.core.display.HTML object>"
      ]
     },
     "metadata": {},
     "output_type": "display_data"
    },
    {
     "data": {
      "text/html": [
       " View run at <a href='https://wandb.ai/nickojelly/NEW%20GRU%20-%20updates%20-%20shuffle/runs/bdmabe55' target=\"_blank\">https://wandb.ai/nickojelly/NEW%20GRU%20-%20updates%20-%20shuffle/runs/bdmabe55</a>"
      ],
      "text/plain": [
       "<IPython.core.display.HTML object>"
      ]
     },
     "metadata": {},
     "output_type": "display_data"
    },
    {
     "name": "stdout",
     "output_type": "stream",
     "text": [
      "{'hidden_size': 128, 'datafile': 'gru_inputs_simple_v8_kitchen_sink.fth', 'stats': \"[['dist_last__1', 'box_last__1', 'speed_avg_1', 'split_speed_v1_1', 'split_speed_avg_1', 'split_margin_avg_1', 'margin_avg_1', 'RunHomeTime_1', 'run_home_speed_1', 'run_home_speed_v1_1', 'first_out_avg_1', 'pos_out_avg_1', 'post_change_avg_1', 'races_1', 'wins_1', 'wins_last_1', 'weight_', 'min_time_', 'min_split_time_', 'min_split_time_v1', 'last_start_price', 'last_start_prob']]\", 'input_type': 'basic', 'races': ['NSW'], 'latest_date': '2023-05-26T00:00:00', 'num_layers': 2, 'batch_size': 750, 'dropout': 0.3, 'epochs': 10000, 'learning_rate': 0.0003, 'optimizer': 'adamW', 'f0_layer_size': 128, 'f1_layer_size': 64, 'variable': 'races_1'}\n",
      "10000\n",
      "{'hidden_size': 128, 'datafile': 'gru_inputs_simple_v8_kitchen_sink.fth', 'stats': \"[['dist_last__1', 'box_last__1', 'speed_avg_1', 'split_speed_v1_1', 'split_speed_avg_1', 'split_margin_avg_1', 'margin_avg_1', 'RunHomeTime_1', 'run_home_speed_1', 'run_home_speed_v1_1', 'first_out_avg_1', 'pos_out_avg_1', 'post_change_avg_1', 'races_1', 'wins_1', 'wins_last_1', 'weight_', 'min_time_', 'min_split_time_', 'min_split_time_v1', 'last_start_price', 'last_start_prob']]\", 'input_type': 'basic', 'races': ['NSW'], 'latest_date': '2023-05-26T00:00:00', 'num_layers': 2, 'batch_size': 750, 'dropout': 0.3, 'epochs': 10000, 'learning_rate': 0.0003, 'optimizer': 'adamW', 'f0_layer_size': 128, 'f1_layer_size': 64, 'variable': 'races_1'}\n",
      "basic\n",
      "here\n",
      "input_size=28\n"
     ]
    },
    {
     "name": "stderr",
     "output_type": "stream",
     "text": [
      "100%|██████████| 6960/6960 [00:00<00:00, 434571.73it/s]\n"
     ]
    },
    {
     "name": "stdout",
     "output_type": "stream",
     "text": [
      "filled =3856\n",
      "empty  =3104\n",
      "0.5540229885057472null_dog=0\n",
      "GRUNetv3_BN(\n",
      "  (gru): GRU(28, 128, num_layers=2, dropout=0.3)\n",
      "  (relu0): ReLU()\n",
      "  (fc0): Linear(in_features=1094, out_features=1094, bias=True)\n",
      "  (layer_norm): BatchNorm1d(28, eps=1e-05, momentum=0.1, affine=True, track_running_stats=True)\n",
      "  (rl1): ReLU()\n",
      "  (drop1): Dropout(p=0.3, inplace=False)\n",
      "  (fc1): Linear(in_features=1094, out_features=128, bias=True)\n",
      "  (rl2): ReLU()\n",
      "  (drop2): Dropout(p=0.3, inplace=False)\n",
      "  (fc2): Linear(in_features=128, out_features=64, bias=True)\n",
      "  (rl3): ReLU()\n",
      "  (drop3): Dropout(p=0.3, inplace=False)\n",
      "  (fc3): Linear(in_features=64, out_features=8, bias=True)\n",
      "  (output_fn): Identity()\n",
      ")\n"
     ]
    },
    {
     "data": {
      "text/html": [
       "Waiting for W&B process to finish... <strong style=\"color:green\">(success).</strong>"
      ],
      "text/plain": [
       "<IPython.core.display.HTML object>"
      ]
     },
     "metadata": {},
     "output_type": "display_data"
    },
    {
     "data": {
      "text/html": [
       "<style>\n",
       "    table.wandb td:nth-child(1) { padding: 0 10px; text-align: left ; width: auto;} td:nth-child(2) {text-align: left ; width: 100%}\n",
       "    .wandb-row { display: flex; flex-direction: row; flex-wrap: wrap; justify-content: flex-start; width: 100% }\n",
       "    .wandb-col { display: flex; flex-direction: column; flex-basis: 100%; flex: 1; padding: 10px; }\n",
       "    </style>\n",
       "<div class=\"wandb-row\"><div class=\"wandb-col\"><h3>Run history:</h3><br/><table class=\"wandb\"><tr><td>ROI < 30</td><td>▁▁</td></tr><tr><td>ROI < 30 2</td><td>▁▁</td></tr><tr><td>accuracy</td><td>▁▁</td></tr><tr><td>accuracy2</td><td>▁</td></tr><tr><td>epoch</td><td>▁▁</td></tr><tr><td>flat_simple</td><td>▁▁</td></tr><tr><td>loss_val</td><td>▁▁</td></tr><tr><td>multibet outlay < 30</td><td>▁▁</td></tr><tr><td>multibet profit</td><td>▁▁</td></tr><tr><td>multibet profit < 30</td><td>▁▁</td></tr><tr><td>multibet profit < 30 sd</td><td>▁▁</td></tr><tr><td>profit_relu</td><td>▁▁</td></tr><tr><td>relu roi</td><td>▁▁</td></tr></table><br/></div><div class=\"wandb-col\"><h3>Run summary:</h3><br/><table class=\"wandb\"><tr><td>ROI < 30</td><td>0.0176</td></tr><tr><td>ROI < 30 2</td><td>-0.01304</td></tr><tr><td>accuracy</td><td>0.34664</td></tr><tr><td>accuracy2</td><td>0.34664</td></tr><tr><td>epoch</td><td>0</td></tr><tr><td>flat_simple</td><td>-512.09437</td></tr><tr><td>loss_val</td><td>1.68841</td></tr><tr><td>multibet outlay < 30</td><td>144568.92737</td></tr><tr><td>multibet profit < 30</td><td>2544.74281</td></tr><tr><td>multibet profit < 30 sd</td><td>14.65476</td></tr><tr><td>profit_relu</td><td>579.71231</td></tr><tr><td>relu roi</td><td>0.01187</td></tr></table><br/></div></div>"
      ],
      "text/plain": [
       "<IPython.core.display.HTML object>"
      ]
     },
     "metadata": {},
     "output_type": "display_data"
    },
    {
     "data": {
      "text/html": [
       " View run <strong style=\"color:#cdcd00\">rural-fire-105</strong> at: <a href='https://wandb.ai/nickojelly/NEW%20GRU%20-%20updates%20-%20shuffle/runs/bdmabe55' target=\"_blank\">https://wandb.ai/nickojelly/NEW%20GRU%20-%20updates%20-%20shuffle/runs/bdmabe55</a><br/>Synced 6 W&B file(s), 3 media file(s), 3 artifact file(s) and 1 other file(s)"
      ],
      "text/plain": [
       "<IPython.core.display.HTML object>"
      ]
     },
     "metadata": {},
     "output_type": "display_data"
    },
    {
     "data": {
      "text/html": [
       "Find logs at: <code>.\\wandb\\run-20230615_214557-bdmabe55\\logs</code>"
      ],
      "text/plain": [
       "<IPython.core.display.HTML object>"
      ]
     },
     "metadata": {},
     "output_type": "display_data"
    },
    {
     "data": {
      "application/vnd.jupyter.widget-view+json": {
       "model_id": "90f75de0638e41d4b0a68323b2fd794b",
       "version_major": 2,
       "version_minor": 0
      },
      "text/plain": [
       "VBox(children=(Label(value='Waiting for wandb.init()...\\r'), FloatProgress(value=0.016916666666414434, max=1.0…"
      ]
     },
     "metadata": {},
     "output_type": "display_data"
    },
    {
     "data": {
      "text/html": [
       "Tracking run with wandb version 0.15.4"
      ],
      "text/plain": [
       "<IPython.core.display.HTML object>"
      ]
     },
     "metadata": {},
     "output_type": "display_data"
    },
    {
     "data": {
      "text/html": [
       "Run data is saved locally in <code>C:\\Users\\Nick\\Documents\\GitHub\\grvmodel\\Python\\DATA\\wandb\\run-20230615_214641-rgaylkd8</code>"
      ],
      "text/plain": [
       "<IPython.core.display.HTML object>"
      ]
     },
     "metadata": {},
     "output_type": "display_data"
    },
    {
     "data": {
      "text/html": [
       "Syncing run <strong><a href='https://wandb.ai/nickojelly/NEW%20GRU%20-%20updates%20-%20shuffle/runs/rgaylkd8' target=\"_blank\">azure-dawn-106</a></strong> to <a href='https://wandb.ai/nickojelly/NEW%20GRU%20-%20updates%20-%20shuffle' target=\"_blank\">Weights & Biases</a> (<a href='https://wandb.me/run' target=\"_blank\">docs</a>)<br/>"
      ],
      "text/plain": [
       "<IPython.core.display.HTML object>"
      ]
     },
     "metadata": {},
     "output_type": "display_data"
    },
    {
     "data": {
      "text/html": [
       " View project at <a href='https://wandb.ai/nickojelly/NEW%20GRU%20-%20updates%20-%20shuffle' target=\"_blank\">https://wandb.ai/nickojelly/NEW%20GRU%20-%20updates%20-%20shuffle</a>"
      ],
      "text/plain": [
       "<IPython.core.display.HTML object>"
      ]
     },
     "metadata": {},
     "output_type": "display_data"
    },
    {
     "data": {
      "text/html": [
       " View run at <a href='https://wandb.ai/nickojelly/NEW%20GRU%20-%20updates%20-%20shuffle/runs/rgaylkd8' target=\"_blank\">https://wandb.ai/nickojelly/NEW%20GRU%20-%20updates%20-%20shuffle/runs/rgaylkd8</a>"
      ],
      "text/plain": [
       "<IPython.core.display.HTML object>"
      ]
     },
     "metadata": {},
     "output_type": "display_data"
    },
    {
     "name": "stdout",
     "output_type": "stream",
     "text": [
      "{'hidden_size': 128, 'datafile': 'gru_inputs_simple_v8_kitchen_sink.fth', 'stats': \"[['dist_last__1', 'box_last__1', 'speed_avg_1', 'split_speed_v1_1', 'split_speed_avg_1', 'split_margin_avg_1', 'margin_avg_1', 'RunHomeTime_1', 'run_home_speed_1', 'run_home_speed_v1_1', 'first_out_avg_1', 'pos_out_avg_1', 'post_change_avg_1', 'races_1', 'wins_1', 'wins_last_1', 'weight_', 'min_time_', 'min_split_time_', 'min_split_time_v1', 'last_start_price', 'last_start_prob']]\", 'input_type': 'basic', 'races': ['NSW'], 'latest_date': '2023-05-26T00:00:00', 'num_layers': 2, 'batch_size': 750, 'dropout': 0.3, 'epochs': 10000, 'learning_rate': 0.0003, 'optimizer': 'adamW', 'f0_layer_size': 128, 'f1_layer_size': 64, 'variable': 'wins_1'}\n",
      "10000\n",
      "{'hidden_size': 128, 'datafile': 'gru_inputs_simple_v8_kitchen_sink.fth', 'stats': \"[['dist_last__1', 'box_last__1', 'speed_avg_1', 'split_speed_v1_1', 'split_speed_avg_1', 'split_margin_avg_1', 'margin_avg_1', 'RunHomeTime_1', 'run_home_speed_1', 'run_home_speed_v1_1', 'first_out_avg_1', 'pos_out_avg_1', 'post_change_avg_1', 'races_1', 'wins_1', 'wins_last_1', 'weight_', 'min_time_', 'min_split_time_', 'min_split_time_v1', 'last_start_price', 'last_start_prob']]\", 'input_type': 'basic', 'races': ['NSW'], 'latest_date': '2023-05-26T00:00:00', 'num_layers': 2, 'batch_size': 750, 'dropout': 0.3, 'epochs': 10000, 'learning_rate': 0.0003, 'optimizer': 'adamW', 'f0_layer_size': 128, 'f1_layer_size': 64, 'variable': 'wins_1'}\n",
      "basic\n",
      "here\n",
      "input_size=28\n"
     ]
    },
    {
     "name": "stderr",
     "output_type": "stream",
     "text": [
      "100%|██████████| 6960/6960 [00:00<00:00, 409051.31it/s]\n"
     ]
    },
    {
     "name": "stdout",
     "output_type": "stream",
     "text": [
      "filled =3856\n",
      "empty  =3104\n",
      "0.5540229885057472null_dog=0\n",
      "GRUNetv3_BN(\n",
      "  (gru): GRU(28, 128, num_layers=2, dropout=0.3)\n",
      "  (relu0): ReLU()\n",
      "  (fc0): Linear(in_features=1094, out_features=1094, bias=True)\n",
      "  (layer_norm): BatchNorm1d(28, eps=1e-05, momentum=0.1, affine=True, track_running_stats=True)\n",
      "  (rl1): ReLU()\n",
      "  (drop1): Dropout(p=0.3, inplace=False)\n",
      "  (fc1): Linear(in_features=1094, out_features=128, bias=True)\n",
      "  (rl2): ReLU()\n",
      "  (drop2): Dropout(p=0.3, inplace=False)\n",
      "  (fc2): Linear(in_features=128, out_features=64, bias=True)\n",
      "  (rl3): ReLU()\n",
      "  (drop3): Dropout(p=0.3, inplace=False)\n",
      "  (fc3): Linear(in_features=64, out_features=8, bias=True)\n",
      "  (output_fn): Identity()\n",
      ")\n"
     ]
    },
    {
     "data": {
      "text/html": [
       "Waiting for W&B process to finish... <strong style=\"color:green\">(success).</strong>"
      ],
      "text/plain": [
       "<IPython.core.display.HTML object>"
      ]
     },
     "metadata": {},
     "output_type": "display_data"
    },
    {
     "data": {
      "text/html": [
       "<style>\n",
       "    table.wandb td:nth-child(1) { padding: 0 10px; text-align: left ; width: auto;} td:nth-child(2) {text-align: left ; width: 100%}\n",
       "    .wandb-row { display: flex; flex-direction: row; flex-wrap: wrap; justify-content: flex-start; width: 100% }\n",
       "    .wandb-col { display: flex; flex-direction: column; flex-basis: 100%; flex: 1; padding: 10px; }\n",
       "    </style>\n",
       "<div class=\"wandb-row\"><div class=\"wandb-col\"><h3>Run history:</h3><br/><table class=\"wandb\"><tr><td>ROI < 30</td><td>▁▁</td></tr><tr><td>ROI < 30 2</td><td>▁▁</td></tr><tr><td>accuracy</td><td>▁▁</td></tr><tr><td>accuracy2</td><td>▁</td></tr><tr><td>epoch</td><td>▁▁</td></tr><tr><td>flat_simple</td><td>▁▁</td></tr><tr><td>loss_val</td><td>▁▁</td></tr><tr><td>multibet outlay < 30</td><td>▁▁</td></tr><tr><td>multibet profit</td><td>▁▁</td></tr><tr><td>multibet profit < 30</td><td>▁▁</td></tr><tr><td>multibet profit < 30 sd</td><td>▁▁</td></tr><tr><td>profit_relu</td><td>▁▁</td></tr><tr><td>relu roi</td><td>▁▁</td></tr></table><br/></div><div class=\"wandb-col\"><h3>Run summary:</h3><br/><table class=\"wandb\"><tr><td>ROI < 30</td><td>0.02098</td></tr><tr><td>ROI < 30 2</td><td>-0.01337</td></tr><tr><td>accuracy</td><td>0.34458</td></tr><tr><td>accuracy2</td><td>0.34458</td></tr><tr><td>epoch</td><td>0</td></tr><tr><td>flat_simple</td><td>-527.8264</td></tr><tr><td>loss_val</td><td>1.69452</td></tr><tr><td>multibet outlay < 30</td><td>145660.10783</td></tr><tr><td>multibet profit < 30</td><td>3056.64427</td></tr><tr><td>multibet profit < 30 sd</td><td>14.94886</td></tr><tr><td>profit_relu</td><td>201.4903</td></tr><tr><td>relu roi</td><td>0.00419</td></tr></table><br/></div></div>"
      ],
      "text/plain": [
       "<IPython.core.display.HTML object>"
      ]
     },
     "metadata": {},
     "output_type": "display_data"
    },
    {
     "data": {
      "text/html": [
       " View run <strong style=\"color:#cdcd00\">azure-dawn-106</strong> at: <a href='https://wandb.ai/nickojelly/NEW%20GRU%20-%20updates%20-%20shuffle/runs/rgaylkd8' target=\"_blank\">https://wandb.ai/nickojelly/NEW%20GRU%20-%20updates%20-%20shuffle/runs/rgaylkd8</a><br/>Synced 6 W&B file(s), 3 media file(s), 3 artifact file(s) and 1 other file(s)"
      ],
      "text/plain": [
       "<IPython.core.display.HTML object>"
      ]
     },
     "metadata": {},
     "output_type": "display_data"
    },
    {
     "data": {
      "text/html": [
       "Find logs at: <code>.\\wandb\\run-20230615_214641-rgaylkd8\\logs</code>"
      ],
      "text/plain": [
       "<IPython.core.display.HTML object>"
      ]
     },
     "metadata": {},
     "output_type": "display_data"
    },
    {
     "data": {
      "application/vnd.jupyter.widget-view+json": {
       "model_id": "fc9d44bdbc214d7aaf90d622d23d0551",
       "version_major": 2,
       "version_minor": 0
      },
      "text/plain": [
       "VBox(children=(Label(value='Waiting for wandb.init()...\\r'), FloatProgress(value=0.016666666666666666, max=1.0…"
      ]
     },
     "metadata": {},
     "output_type": "display_data"
    },
    {
     "data": {
      "text/html": [
       "Tracking run with wandb version 0.15.4"
      ],
      "text/plain": [
       "<IPython.core.display.HTML object>"
      ]
     },
     "metadata": {},
     "output_type": "display_data"
    },
    {
     "data": {
      "text/html": [
       "Run data is saved locally in <code>C:\\Users\\Nick\\Documents\\GitHub\\grvmodel\\Python\\DATA\\wandb\\run-20230615_214721-4ott3t60</code>"
      ],
      "text/plain": [
       "<IPython.core.display.HTML object>"
      ]
     },
     "metadata": {},
     "output_type": "display_data"
    },
    {
     "data": {
      "text/html": [
       "Syncing run <strong><a href='https://wandb.ai/nickojelly/NEW%20GRU%20-%20updates%20-%20shuffle/runs/4ott3t60' target=\"_blank\">efficient-resonance-107</a></strong> to <a href='https://wandb.ai/nickojelly/NEW%20GRU%20-%20updates%20-%20shuffle' target=\"_blank\">Weights & Biases</a> (<a href='https://wandb.me/run' target=\"_blank\">docs</a>)<br/>"
      ],
      "text/plain": [
       "<IPython.core.display.HTML object>"
      ]
     },
     "metadata": {},
     "output_type": "display_data"
    },
    {
     "data": {
      "text/html": [
       " View project at <a href='https://wandb.ai/nickojelly/NEW%20GRU%20-%20updates%20-%20shuffle' target=\"_blank\">https://wandb.ai/nickojelly/NEW%20GRU%20-%20updates%20-%20shuffle</a>"
      ],
      "text/plain": [
       "<IPython.core.display.HTML object>"
      ]
     },
     "metadata": {},
     "output_type": "display_data"
    },
    {
     "data": {
      "text/html": [
       " View run at <a href='https://wandb.ai/nickojelly/NEW%20GRU%20-%20updates%20-%20shuffle/runs/4ott3t60' target=\"_blank\">https://wandb.ai/nickojelly/NEW%20GRU%20-%20updates%20-%20shuffle/runs/4ott3t60</a>"
      ],
      "text/plain": [
       "<IPython.core.display.HTML object>"
      ]
     },
     "metadata": {},
     "output_type": "display_data"
    },
    {
     "name": "stdout",
     "output_type": "stream",
     "text": [
      "{'hidden_size': 128, 'datafile': 'gru_inputs_simple_v8_kitchen_sink.fth', 'stats': \"[['dist_last__1', 'box_last__1', 'speed_avg_1', 'split_speed_v1_1', 'split_speed_avg_1', 'split_margin_avg_1', 'margin_avg_1', 'RunHomeTime_1', 'run_home_speed_1', 'run_home_speed_v1_1', 'first_out_avg_1', 'pos_out_avg_1', 'post_change_avg_1', 'races_1', 'wins_1', 'wins_last_1', 'weight_', 'min_time_', 'min_split_time_', 'min_split_time_v1', 'last_start_price', 'last_start_prob']]\", 'input_type': 'basic', 'races': ['NSW'], 'latest_date': '2023-05-26T00:00:00', 'num_layers': 2, 'batch_size': 750, 'dropout': 0.3, 'epochs': 10000, 'learning_rate': 0.0003, 'optimizer': 'adamW', 'f0_layer_size': 128, 'f1_layer_size': 64, 'variable': 'wins_last_1'}\n",
      "10000\n",
      "{'hidden_size': 128, 'datafile': 'gru_inputs_simple_v8_kitchen_sink.fth', 'stats': \"[['dist_last__1', 'box_last__1', 'speed_avg_1', 'split_speed_v1_1', 'split_speed_avg_1', 'split_margin_avg_1', 'margin_avg_1', 'RunHomeTime_1', 'run_home_speed_1', 'run_home_speed_v1_1', 'first_out_avg_1', 'pos_out_avg_1', 'post_change_avg_1', 'races_1', 'wins_1', 'wins_last_1', 'weight_', 'min_time_', 'min_split_time_', 'min_split_time_v1', 'last_start_price', 'last_start_prob']]\", 'input_type': 'basic', 'races': ['NSW'], 'latest_date': '2023-05-26T00:00:00', 'num_layers': 2, 'batch_size': 750, 'dropout': 0.3, 'epochs': 10000, 'learning_rate': 0.0003, 'optimizer': 'adamW', 'f0_layer_size': 128, 'f1_layer_size': 64, 'variable': 'wins_last_1'}\n",
      "basic\n",
      "here\n",
      "input_size=28\n"
     ]
    },
    {
     "name": "stderr",
     "output_type": "stream",
     "text": [
      "100%|██████████| 6960/6960 [00:00<00:00, 386310.90it/s]\n"
     ]
    },
    {
     "name": "stdout",
     "output_type": "stream",
     "text": [
      "filled =3856\n",
      "empty  =3104\n",
      "0.5540229885057472null_dog=0\n",
      "GRUNetv3_BN(\n",
      "  (gru): GRU(28, 128, num_layers=2, dropout=0.3)\n",
      "  (relu0): ReLU()\n",
      "  (fc0): Linear(in_features=1094, out_features=1094, bias=True)\n",
      "  (layer_norm): BatchNorm1d(28, eps=1e-05, momentum=0.1, affine=True, track_running_stats=True)\n",
      "  (rl1): ReLU()\n",
      "  (drop1): Dropout(p=0.3, inplace=False)\n",
      "  (fc1): Linear(in_features=1094, out_features=128, bias=True)\n",
      "  (rl2): ReLU()\n",
      "  (drop2): Dropout(p=0.3, inplace=False)\n",
      "  (fc2): Linear(in_features=128, out_features=64, bias=True)\n",
      "  (rl3): ReLU()\n",
      "  (drop3): Dropout(p=0.3, inplace=False)\n",
      "  (fc3): Linear(in_features=64, out_features=8, bias=True)\n",
      "  (output_fn): Identity()\n",
      ")\n"
     ]
    },
    {
     "data": {
      "text/html": [
       "Waiting for W&B process to finish... <strong style=\"color:green\">(success).</strong>"
      ],
      "text/plain": [
       "<IPython.core.display.HTML object>"
      ]
     },
     "metadata": {},
     "output_type": "display_data"
    },
    {
     "data": {
      "text/html": [
       "<style>\n",
       "    table.wandb td:nth-child(1) { padding: 0 10px; text-align: left ; width: auto;} td:nth-child(2) {text-align: left ; width: 100%}\n",
       "    .wandb-row { display: flex; flex-direction: row; flex-wrap: wrap; justify-content: flex-start; width: 100% }\n",
       "    .wandb-col { display: flex; flex-direction: column; flex-basis: 100%; flex: 1; padding: 10px; }\n",
       "    </style>\n",
       "<div class=\"wandb-row\"><div class=\"wandb-col\"><h3>Run history:</h3><br/><table class=\"wandb\"><tr><td>ROI < 30</td><td>▁▁</td></tr><tr><td>ROI < 30 2</td><td>▁▁</td></tr><tr><td>accuracy</td><td>▁▁</td></tr><tr><td>accuracy2</td><td>▁</td></tr><tr><td>epoch</td><td>▁▁</td></tr><tr><td>flat_simple</td><td>▁▁</td></tr><tr><td>loss_val</td><td>▁▁</td></tr><tr><td>multibet outlay < 30</td><td>▁▁</td></tr><tr><td>multibet profit</td><td>▁▁</td></tr><tr><td>multibet profit < 30</td><td>▁▁</td></tr><tr><td>multibet profit < 30 sd</td><td>▁▁</td></tr><tr><td>profit_relu</td><td>▁▁</td></tr><tr><td>relu roi</td><td>▁▁</td></tr></table><br/></div><div class=\"wandb-col\"><h3>Run summary:</h3><br/><table class=\"wandb\"><tr><td>ROI < 30</td><td>0.016</td></tr><tr><td>ROI < 30 2</td><td>-0.02354</td></tr><tr><td>accuracy</td><td>0.34548</td></tr><tr><td>accuracy2</td><td>0.34548</td></tr><tr><td>epoch</td><td>0</td></tr><tr><td>flat_simple</td><td>-735.78521</td></tr><tr><td>loss_val</td><td>1.68693</td></tr><tr><td>multibet outlay < 30</td><td>144214.52566</td></tr><tr><td>multibet profit < 30</td><td>2307.4469</td></tr><tr><td>multibet profit < 30 sd</td><td>14.54278</td></tr><tr><td>profit_relu</td><td>191.79944</td></tr><tr><td>relu roi</td><td>0.00395</td></tr></table><br/></div></div>"
      ],
      "text/plain": [
       "<IPython.core.display.HTML object>"
      ]
     },
     "metadata": {},
     "output_type": "display_data"
    },
    {
     "data": {
      "text/html": [
       " View run <strong style=\"color:#cdcd00\">efficient-resonance-107</strong> at: <a href='https://wandb.ai/nickojelly/NEW%20GRU%20-%20updates%20-%20shuffle/runs/4ott3t60' target=\"_blank\">https://wandb.ai/nickojelly/NEW%20GRU%20-%20updates%20-%20shuffle/runs/4ott3t60</a><br/>Synced 6 W&B file(s), 3 media file(s), 3 artifact file(s) and 1 other file(s)"
      ],
      "text/plain": [
       "<IPython.core.display.HTML object>"
      ]
     },
     "metadata": {},
     "output_type": "display_data"
    },
    {
     "data": {
      "text/html": [
       "Find logs at: <code>.\\wandb\\run-20230615_214721-4ott3t60\\logs</code>"
      ],
      "text/plain": [
       "<IPython.core.display.HTML object>"
      ]
     },
     "metadata": {},
     "output_type": "display_data"
    },
    {
     "data": {
      "application/vnd.jupyter.widget-view+json": {
       "model_id": "c770c59415e648cb9772e2968bbbb4b1",
       "version_major": 2,
       "version_minor": 0
      },
      "text/plain": [
       "VBox(children=(Label(value='Waiting for wandb.init()...\\r'), FloatProgress(value=0.01693333333338766, max=1.0)…"
      ]
     },
     "metadata": {},
     "output_type": "display_data"
    },
    {
     "data": {
      "text/html": [
       "Tracking run with wandb version 0.15.4"
      ],
      "text/plain": [
       "<IPython.core.display.HTML object>"
      ]
     },
     "metadata": {},
     "output_type": "display_data"
    },
    {
     "data": {
      "text/html": [
       "Run data is saved locally in <code>C:\\Users\\Nick\\Documents\\GitHub\\grvmodel\\Python\\DATA\\wandb\\run-20230615_214801-2oitt85j</code>"
      ],
      "text/plain": [
       "<IPython.core.display.HTML object>"
      ]
     },
     "metadata": {},
     "output_type": "display_data"
    },
    {
     "data": {
      "text/html": [
       "Syncing run <strong><a href='https://wandb.ai/nickojelly/NEW%20GRU%20-%20updates%20-%20shuffle/runs/2oitt85j' target=\"_blank\">gentle-fire-108</a></strong> to <a href='https://wandb.ai/nickojelly/NEW%20GRU%20-%20updates%20-%20shuffle' target=\"_blank\">Weights & Biases</a> (<a href='https://wandb.me/run' target=\"_blank\">docs</a>)<br/>"
      ],
      "text/plain": [
       "<IPython.core.display.HTML object>"
      ]
     },
     "metadata": {},
     "output_type": "display_data"
    },
    {
     "data": {
      "text/html": [
       " View project at <a href='https://wandb.ai/nickojelly/NEW%20GRU%20-%20updates%20-%20shuffle' target=\"_blank\">https://wandb.ai/nickojelly/NEW%20GRU%20-%20updates%20-%20shuffle</a>"
      ],
      "text/plain": [
       "<IPython.core.display.HTML object>"
      ]
     },
     "metadata": {},
     "output_type": "display_data"
    },
    {
     "data": {
      "text/html": [
       " View run at <a href='https://wandb.ai/nickojelly/NEW%20GRU%20-%20updates%20-%20shuffle/runs/2oitt85j' target=\"_blank\">https://wandb.ai/nickojelly/NEW%20GRU%20-%20updates%20-%20shuffle/runs/2oitt85j</a>"
      ],
      "text/plain": [
       "<IPython.core.display.HTML object>"
      ]
     },
     "metadata": {},
     "output_type": "display_data"
    },
    {
     "name": "stdout",
     "output_type": "stream",
     "text": [
      "{'hidden_size': 128, 'datafile': 'gru_inputs_simple_v8_kitchen_sink.fth', 'stats': \"[['dist_last__1', 'box_last__1', 'speed_avg_1', 'split_speed_v1_1', 'split_speed_avg_1', 'split_margin_avg_1', 'margin_avg_1', 'RunHomeTime_1', 'run_home_speed_1', 'run_home_speed_v1_1', 'first_out_avg_1', 'pos_out_avg_1', 'post_change_avg_1', 'races_1', 'wins_1', 'wins_last_1', 'weight_', 'min_time_', 'min_split_time_', 'min_split_time_v1', 'last_start_price', 'last_start_prob']]\", 'input_type': 'basic', 'races': ['NSW'], 'latest_date': '2023-05-26T00:00:00', 'num_layers': 2, 'batch_size': 750, 'dropout': 0.3, 'epochs': 10000, 'learning_rate': 0.0003, 'optimizer': 'adamW', 'f0_layer_size': 128, 'f1_layer_size': 64, 'variable': 'weight_'}\n",
      "10000\n",
      "{'hidden_size': 128, 'datafile': 'gru_inputs_simple_v8_kitchen_sink.fth', 'stats': \"[['dist_last__1', 'box_last__1', 'speed_avg_1', 'split_speed_v1_1', 'split_speed_avg_1', 'split_margin_avg_1', 'margin_avg_1', 'RunHomeTime_1', 'run_home_speed_1', 'run_home_speed_v1_1', 'first_out_avg_1', 'pos_out_avg_1', 'post_change_avg_1', 'races_1', 'wins_1', 'wins_last_1', 'weight_', 'min_time_', 'min_split_time_', 'min_split_time_v1', 'last_start_price', 'last_start_prob']]\", 'input_type': 'basic', 'races': ['NSW'], 'latest_date': '2023-05-26T00:00:00', 'num_layers': 2, 'batch_size': 750, 'dropout': 0.3, 'epochs': 10000, 'learning_rate': 0.0003, 'optimizer': 'adamW', 'f0_layer_size': 128, 'f1_layer_size': 64, 'variable': 'weight_'}\n",
      "basic\n",
      "here\n",
      "input_size=28\n"
     ]
    },
    {
     "name": "stderr",
     "output_type": "stream",
     "text": [
      "100%|██████████| 6960/6960 [00:00<00:00, 409034.12it/s]\n"
     ]
    },
    {
     "name": "stdout",
     "output_type": "stream",
     "text": [
      "filled =3856\n",
      "empty  =3104\n",
      "0.5540229885057472null_dog=0\n",
      "GRUNetv3_BN(\n",
      "  (gru): GRU(28, 128, num_layers=2, dropout=0.3)\n",
      "  (relu0): ReLU()\n",
      "  (fc0): Linear(in_features=1094, out_features=1094, bias=True)\n",
      "  (layer_norm): BatchNorm1d(28, eps=1e-05, momentum=0.1, affine=True, track_running_stats=True)\n",
      "  (rl1): ReLU()\n",
      "  (drop1): Dropout(p=0.3, inplace=False)\n",
      "  (fc1): Linear(in_features=1094, out_features=128, bias=True)\n",
      "  (rl2): ReLU()\n",
      "  (drop2): Dropout(p=0.3, inplace=False)\n",
      "  (fc2): Linear(in_features=128, out_features=64, bias=True)\n",
      "  (rl3): ReLU()\n",
      "  (drop3): Dropout(p=0.3, inplace=False)\n",
      "  (fc3): Linear(in_features=64, out_features=8, bias=True)\n",
      "  (output_fn): Identity()\n",
      ")\n"
     ]
    },
    {
     "data": {
      "text/html": [
       "Waiting for W&B process to finish... <strong style=\"color:green\">(success).</strong>"
      ],
      "text/plain": [
       "<IPython.core.display.HTML object>"
      ]
     },
     "metadata": {},
     "output_type": "display_data"
    },
    {
     "data": {
      "text/html": [
       "<style>\n",
       "    table.wandb td:nth-child(1) { padding: 0 10px; text-align: left ; width: auto;} td:nth-child(2) {text-align: left ; width: 100%}\n",
       "    .wandb-row { display: flex; flex-direction: row; flex-wrap: wrap; justify-content: flex-start; width: 100% }\n",
       "    .wandb-col { display: flex; flex-direction: column; flex-basis: 100%; flex: 1; padding: 10px; }\n",
       "    </style>\n",
       "<div class=\"wandb-row\"><div class=\"wandb-col\"><h3>Run history:</h3><br/><table class=\"wandb\"><tr><td>ROI < 30</td><td>▁▁</td></tr><tr><td>ROI < 30 2</td><td>▁▁</td></tr><tr><td>accuracy</td><td>▁▁</td></tr><tr><td>accuracy2</td><td>▁</td></tr><tr><td>epoch</td><td>▁▁</td></tr><tr><td>flat_simple</td><td>▁▁</td></tr><tr><td>loss_val</td><td>▁▁</td></tr><tr><td>multibet outlay < 30</td><td>▁▁</td></tr><tr><td>multibet profit</td><td>▁▁</td></tr><tr><td>multibet profit < 30</td><td>▁▁</td></tr><tr><td>multibet profit < 30 sd</td><td>▁▁</td></tr><tr><td>profit_relu</td><td>▁▁</td></tr><tr><td>relu roi</td><td>▁▁</td></tr></table><br/></div><div class=\"wandb-col\"><h3>Run summary:</h3><br/><table class=\"wandb\"><tr><td>ROI < 30</td><td>0.01949</td></tr><tr><td>ROI < 30 2</td><td>-0.01462</td></tr><tr><td>accuracy</td><td>0.34932</td></tr><tr><td>accuracy2</td><td>0.34932</td></tr><tr><td>epoch</td><td>0</td></tr><tr><td>flat_simple</td><td>-518.22392</td></tr><tr><td>loss_val</td><td>1.68815</td></tr><tr><td>multibet outlay < 30</td><td>144630.55194</td></tr><tr><td>multibet profit < 30</td><td>2818.16251</td></tr><tr><td>multibet profit < 30 sd</td><td>14.60814</td></tr><tr><td>profit_relu</td><td>244.09913</td></tr><tr><td>relu roi</td><td>0.00496</td></tr></table><br/></div></div>"
      ],
      "text/plain": [
       "<IPython.core.display.HTML object>"
      ]
     },
     "metadata": {},
     "output_type": "display_data"
    },
    {
     "data": {
      "text/html": [
       " View run <strong style=\"color:#cdcd00\">gentle-fire-108</strong> at: <a href='https://wandb.ai/nickojelly/NEW%20GRU%20-%20updates%20-%20shuffle/runs/2oitt85j' target=\"_blank\">https://wandb.ai/nickojelly/NEW%20GRU%20-%20updates%20-%20shuffle/runs/2oitt85j</a><br/>Synced 6 W&B file(s), 3 media file(s), 3 artifact file(s) and 1 other file(s)"
      ],
      "text/plain": [
       "<IPython.core.display.HTML object>"
      ]
     },
     "metadata": {},
     "output_type": "display_data"
    },
    {
     "data": {
      "text/html": [
       "Find logs at: <code>.\\wandb\\run-20230615_214801-2oitt85j\\logs</code>"
      ],
      "text/plain": [
       "<IPython.core.display.HTML object>"
      ]
     },
     "metadata": {},
     "output_type": "display_data"
    },
    {
     "data": {
      "application/vnd.jupyter.widget-view+json": {
       "model_id": "c2f55b89cbaf45b68cda1100e26c4d98",
       "version_major": 2,
       "version_minor": 0
      },
      "text/plain": [
       "VBox(children=(Label(value='Waiting for wandb.init()...\\r'), FloatProgress(value=0.016666666666666666, max=1.0…"
      ]
     },
     "metadata": {},
     "output_type": "display_data"
    },
    {
     "data": {
      "text/html": [
       "Tracking run with wandb version 0.15.4"
      ],
      "text/plain": [
       "<IPython.core.display.HTML object>"
      ]
     },
     "metadata": {},
     "output_type": "display_data"
    },
    {
     "data": {
      "text/html": [
       "Run data is saved locally in <code>C:\\Users\\Nick\\Documents\\GitHub\\grvmodel\\Python\\DATA\\wandb\\run-20230615_214844-j0s1jlcg</code>"
      ],
      "text/plain": [
       "<IPython.core.display.HTML object>"
      ]
     },
     "metadata": {},
     "output_type": "display_data"
    },
    {
     "data": {
      "text/html": [
       "Syncing run <strong><a href='https://wandb.ai/nickojelly/NEW%20GRU%20-%20updates%20-%20shuffle/runs/j0s1jlcg' target=\"_blank\">treasured-star-109</a></strong> to <a href='https://wandb.ai/nickojelly/NEW%20GRU%20-%20updates%20-%20shuffle' target=\"_blank\">Weights & Biases</a> (<a href='https://wandb.me/run' target=\"_blank\">docs</a>)<br/>"
      ],
      "text/plain": [
       "<IPython.core.display.HTML object>"
      ]
     },
     "metadata": {},
     "output_type": "display_data"
    },
    {
     "data": {
      "text/html": [
       " View project at <a href='https://wandb.ai/nickojelly/NEW%20GRU%20-%20updates%20-%20shuffle' target=\"_blank\">https://wandb.ai/nickojelly/NEW%20GRU%20-%20updates%20-%20shuffle</a>"
      ],
      "text/plain": [
       "<IPython.core.display.HTML object>"
      ]
     },
     "metadata": {},
     "output_type": "display_data"
    },
    {
     "data": {
      "text/html": [
       " View run at <a href='https://wandb.ai/nickojelly/NEW%20GRU%20-%20updates%20-%20shuffle/runs/j0s1jlcg' target=\"_blank\">https://wandb.ai/nickojelly/NEW%20GRU%20-%20updates%20-%20shuffle/runs/j0s1jlcg</a>"
      ],
      "text/plain": [
       "<IPython.core.display.HTML object>"
      ]
     },
     "metadata": {},
     "output_type": "display_data"
    },
    {
     "name": "stdout",
     "output_type": "stream",
     "text": [
      "{'hidden_size': 128, 'datafile': 'gru_inputs_simple_v8_kitchen_sink.fth', 'stats': \"[['dist_last__1', 'box_last__1', 'speed_avg_1', 'split_speed_v1_1', 'split_speed_avg_1', 'split_margin_avg_1', 'margin_avg_1', 'RunHomeTime_1', 'run_home_speed_1', 'run_home_speed_v1_1', 'first_out_avg_1', 'pos_out_avg_1', 'post_change_avg_1', 'races_1', 'wins_1', 'wins_last_1', 'weight_', 'min_time_', 'min_split_time_', 'min_split_time_v1', 'last_start_price', 'last_start_prob']]\", 'input_type': 'basic', 'races': ['NSW'], 'latest_date': '2023-05-26T00:00:00', 'num_layers': 2, 'batch_size': 750, 'dropout': 0.3, 'epochs': 10000, 'learning_rate': 0.0003, 'optimizer': 'adamW', 'f0_layer_size': 128, 'f1_layer_size': 64, 'variable': 'min_time_'}\n",
      "10000\n",
      "{'hidden_size': 128, 'datafile': 'gru_inputs_simple_v8_kitchen_sink.fth', 'stats': \"[['dist_last__1', 'box_last__1', 'speed_avg_1', 'split_speed_v1_1', 'split_speed_avg_1', 'split_margin_avg_1', 'margin_avg_1', 'RunHomeTime_1', 'run_home_speed_1', 'run_home_speed_v1_1', 'first_out_avg_1', 'pos_out_avg_1', 'post_change_avg_1', 'races_1', 'wins_1', 'wins_last_1', 'weight_', 'min_time_', 'min_split_time_', 'min_split_time_v1', 'last_start_price', 'last_start_prob']]\", 'input_type': 'basic', 'races': ['NSW'], 'latest_date': '2023-05-26T00:00:00', 'num_layers': 2, 'batch_size': 750, 'dropout': 0.3, 'epochs': 10000, 'learning_rate': 0.0003, 'optimizer': 'adamW', 'f0_layer_size': 128, 'f1_layer_size': 64, 'variable': 'min_time_'}\n",
      "basic\n",
      "here\n",
      "input_size=28\n"
     ]
    },
    {
     "name": "stderr",
     "output_type": "stream",
     "text": [
      "100%|██████████| 6960/6960 [00:00<00:00, 434571.73it/s]\n"
     ]
    },
    {
     "name": "stdout",
     "output_type": "stream",
     "text": [
      "filled =3856\n",
      "empty  =3104\n",
      "0.5540229885057472null_dog=0\n",
      "GRUNetv3_BN(\n",
      "  (gru): GRU(28, 128, num_layers=2, dropout=0.3)\n",
      "  (relu0): ReLU()\n",
      "  (fc0): Linear(in_features=1094, out_features=1094, bias=True)\n",
      "  (layer_norm): BatchNorm1d(28, eps=1e-05, momentum=0.1, affine=True, track_running_stats=True)\n",
      "  (rl1): ReLU()\n",
      "  (drop1): Dropout(p=0.3, inplace=False)\n",
      "  (fc1): Linear(in_features=1094, out_features=128, bias=True)\n",
      "  (rl2): ReLU()\n",
      "  (drop2): Dropout(p=0.3, inplace=False)\n",
      "  (fc2): Linear(in_features=128, out_features=64, bias=True)\n",
      "  (rl3): ReLU()\n",
      "  (drop3): Dropout(p=0.3, inplace=False)\n",
      "  (fc3): Linear(in_features=64, out_features=8, bias=True)\n",
      "  (output_fn): Identity()\n",
      ")\n"
     ]
    },
    {
     "data": {
      "text/html": [
       "Waiting for W&B process to finish... <strong style=\"color:green\">(success).</strong>"
      ],
      "text/plain": [
       "<IPython.core.display.HTML object>"
      ]
     },
     "metadata": {},
     "output_type": "display_data"
    },
    {
     "data": {
      "text/html": [
       "<style>\n",
       "    table.wandb td:nth-child(1) { padding: 0 10px; text-align: left ; width: auto;} td:nth-child(2) {text-align: left ; width: 100%}\n",
       "    .wandb-row { display: flex; flex-direction: row; flex-wrap: wrap; justify-content: flex-start; width: 100% }\n",
       "    .wandb-col { display: flex; flex-direction: column; flex-basis: 100%; flex: 1; padding: 10px; }\n",
       "    </style>\n",
       "<div class=\"wandb-row\"><div class=\"wandb-col\"><h3>Run history:</h3><br/><table class=\"wandb\"><tr><td>ROI < 30</td><td>▁▁</td></tr><tr><td>ROI < 30 2</td><td>▁▁</td></tr><tr><td>accuracy</td><td>▁▁</td></tr><tr><td>accuracy2</td><td>▁</td></tr><tr><td>epoch</td><td>▁▁</td></tr><tr><td>flat_simple</td><td>▁▁</td></tr><tr><td>loss_val</td><td>▁▁</td></tr><tr><td>multibet outlay < 30</td><td>▁▁</td></tr><tr><td>multibet profit</td><td>▁▁</td></tr><tr><td>multibet profit < 30</td><td>▁▁</td></tr><tr><td>multibet profit < 30 sd</td><td>▁▁</td></tr><tr><td>profit_relu</td><td>▁▁</td></tr><tr><td>relu roi</td><td>▁▁</td></tr></table><br/></div><div class=\"wandb-col\"><h3>Run summary:</h3><br/><table class=\"wandb\"><tr><td>ROI < 30</td><td>0.01733</td></tr><tr><td>ROI < 30 2</td><td>-0.01251</td></tr><tr><td>accuracy</td><td>0.34842</td></tr><tr><td>accuracy2</td><td>0.34842</td></tr><tr><td>epoch</td><td>0</td></tr><tr><td>flat_simple</td><td>-531.79133</td></tr><tr><td>loss_val</td><td>1.6868</td></tr><tr><td>multibet outlay < 30</td><td>143847.71807</td></tr><tr><td>multibet profit < 30</td><td>2492.96377</td></tr><tr><td>multibet profit < 30 sd</td><td>14.55944</td></tr><tr><td>profit_relu</td><td>210.40923</td></tr><tr><td>relu roi</td><td>0.00429</td></tr></table><br/></div></div>"
      ],
      "text/plain": [
       "<IPython.core.display.HTML object>"
      ]
     },
     "metadata": {},
     "output_type": "display_data"
    },
    {
     "data": {
      "text/html": [
       " View run <strong style=\"color:#cdcd00\">treasured-star-109</strong> at: <a href='https://wandb.ai/nickojelly/NEW%20GRU%20-%20updates%20-%20shuffle/runs/j0s1jlcg' target=\"_blank\">https://wandb.ai/nickojelly/NEW%20GRU%20-%20updates%20-%20shuffle/runs/j0s1jlcg</a><br/>Synced 6 W&B file(s), 3 media file(s), 3 artifact file(s) and 1 other file(s)"
      ],
      "text/plain": [
       "<IPython.core.display.HTML object>"
      ]
     },
     "metadata": {},
     "output_type": "display_data"
    },
    {
     "data": {
      "text/html": [
       "Find logs at: <code>.\\wandb\\run-20230615_214844-j0s1jlcg\\logs</code>"
      ],
      "text/plain": [
       "<IPython.core.display.HTML object>"
      ]
     },
     "metadata": {},
     "output_type": "display_data"
    },
    {
     "data": {
      "application/vnd.jupyter.widget-view+json": {
       "model_id": "b425f5da4d5b42bd9dd0afe70a00ab8f",
       "version_major": 2,
       "version_minor": 0
      },
      "text/plain": [
       "VBox(children=(Label(value='Waiting for wandb.init()...\\r'), FloatProgress(value=0.016916666666899498, max=1.0…"
      ]
     },
     "metadata": {},
     "output_type": "display_data"
    },
    {
     "data": {
      "text/html": [
       "Tracking run with wandb version 0.15.4"
      ],
      "text/plain": [
       "<IPython.core.display.HTML object>"
      ]
     },
     "metadata": {},
     "output_type": "display_data"
    },
    {
     "data": {
      "text/html": [
       "Run data is saved locally in <code>C:\\Users\\Nick\\Documents\\GitHub\\grvmodel\\Python\\DATA\\wandb\\run-20230615_214924-tqmf33yi</code>"
      ],
      "text/plain": [
       "<IPython.core.display.HTML object>"
      ]
     },
     "metadata": {},
     "output_type": "display_data"
    },
    {
     "data": {
      "text/html": [
       "Syncing run <strong><a href='https://wandb.ai/nickojelly/NEW%20GRU%20-%20updates%20-%20shuffle/runs/tqmf33yi' target=\"_blank\">devout-sea-110</a></strong> to <a href='https://wandb.ai/nickojelly/NEW%20GRU%20-%20updates%20-%20shuffle' target=\"_blank\">Weights & Biases</a> (<a href='https://wandb.me/run' target=\"_blank\">docs</a>)<br/>"
      ],
      "text/plain": [
       "<IPython.core.display.HTML object>"
      ]
     },
     "metadata": {},
     "output_type": "display_data"
    },
    {
     "data": {
      "text/html": [
       " View project at <a href='https://wandb.ai/nickojelly/NEW%20GRU%20-%20updates%20-%20shuffle' target=\"_blank\">https://wandb.ai/nickojelly/NEW%20GRU%20-%20updates%20-%20shuffle</a>"
      ],
      "text/plain": [
       "<IPython.core.display.HTML object>"
      ]
     },
     "metadata": {},
     "output_type": "display_data"
    },
    {
     "data": {
      "text/html": [
       " View run at <a href='https://wandb.ai/nickojelly/NEW%20GRU%20-%20updates%20-%20shuffle/runs/tqmf33yi' target=\"_blank\">https://wandb.ai/nickojelly/NEW%20GRU%20-%20updates%20-%20shuffle/runs/tqmf33yi</a>"
      ],
      "text/plain": [
       "<IPython.core.display.HTML object>"
      ]
     },
     "metadata": {},
     "output_type": "display_data"
    },
    {
     "name": "stdout",
     "output_type": "stream",
     "text": [
      "{'hidden_size': 128, 'datafile': 'gru_inputs_simple_v8_kitchen_sink.fth', 'stats': \"[['dist_last__1', 'box_last__1', 'speed_avg_1', 'split_speed_v1_1', 'split_speed_avg_1', 'split_margin_avg_1', 'margin_avg_1', 'RunHomeTime_1', 'run_home_speed_1', 'run_home_speed_v1_1', 'first_out_avg_1', 'pos_out_avg_1', 'post_change_avg_1', 'races_1', 'wins_1', 'wins_last_1', 'weight_', 'min_time_', 'min_split_time_', 'min_split_time_v1', 'last_start_price', 'last_start_prob']]\", 'input_type': 'basic', 'races': ['NSW'], 'latest_date': '2023-05-26T00:00:00', 'num_layers': 2, 'batch_size': 750, 'dropout': 0.3, 'epochs': 10000, 'learning_rate': 0.0003, 'optimizer': 'adamW', 'f0_layer_size': 128, 'f1_layer_size': 64, 'variable': 'min_split_time_'}\n",
      "10000\n",
      "{'hidden_size': 128, 'datafile': 'gru_inputs_simple_v8_kitchen_sink.fth', 'stats': \"[['dist_last__1', 'box_last__1', 'speed_avg_1', 'split_speed_v1_1', 'split_speed_avg_1', 'split_margin_avg_1', 'margin_avg_1', 'RunHomeTime_1', 'run_home_speed_1', 'run_home_speed_v1_1', 'first_out_avg_1', 'pos_out_avg_1', 'post_change_avg_1', 'races_1', 'wins_1', 'wins_last_1', 'weight_', 'min_time_', 'min_split_time_', 'min_split_time_v1', 'last_start_price', 'last_start_prob']]\", 'input_type': 'basic', 'races': ['NSW'], 'latest_date': '2023-05-26T00:00:00', 'num_layers': 2, 'batch_size': 750, 'dropout': 0.3, 'epochs': 10000, 'learning_rate': 0.0003, 'optimizer': 'adamW', 'f0_layer_size': 128, 'f1_layer_size': 64, 'variable': 'min_split_time_'}\n",
      "basic\n",
      "here\n",
      "input_size=28\n"
     ]
    },
    {
     "name": "stderr",
     "output_type": "stream",
     "text": [
      "100%|██████████| 6960/6960 [00:00<00:00, 434617.02it/s]\n"
     ]
    },
    {
     "name": "stdout",
     "output_type": "stream",
     "text": [
      "filled =3856\n",
      "empty  =3104\n",
      "0.5540229885057472null_dog=0\n",
      "GRUNetv3_BN(\n",
      "  (gru): GRU(28, 128, num_layers=2, dropout=0.3)\n",
      "  (relu0): ReLU()\n",
      "  (fc0): Linear(in_features=1094, out_features=1094, bias=True)\n",
      "  (layer_norm): BatchNorm1d(28, eps=1e-05, momentum=0.1, affine=True, track_running_stats=True)\n",
      "  (rl1): ReLU()\n",
      "  (drop1): Dropout(p=0.3, inplace=False)\n",
      "  (fc1): Linear(in_features=1094, out_features=128, bias=True)\n",
      "  (rl2): ReLU()\n",
      "  (drop2): Dropout(p=0.3, inplace=False)\n",
      "  (fc2): Linear(in_features=128, out_features=64, bias=True)\n",
      "  (rl3): ReLU()\n",
      "  (drop3): Dropout(p=0.3, inplace=False)\n",
      "  (fc3): Linear(in_features=64, out_features=8, bias=True)\n",
      "  (output_fn): Identity()\n",
      ")\n"
     ]
    },
    {
     "data": {
      "text/html": [
       "Waiting for W&B process to finish... <strong style=\"color:green\">(success).</strong>"
      ],
      "text/plain": [
       "<IPython.core.display.HTML object>"
      ]
     },
     "metadata": {},
     "output_type": "display_data"
    },
    {
     "data": {
      "text/html": [
       "<style>\n",
       "    table.wandb td:nth-child(1) { padding: 0 10px; text-align: left ; width: auto;} td:nth-child(2) {text-align: left ; width: 100%}\n",
       "    .wandb-row { display: flex; flex-direction: row; flex-wrap: wrap; justify-content: flex-start; width: 100% }\n",
       "    .wandb-col { display: flex; flex-direction: column; flex-basis: 100%; flex: 1; padding: 10px; }\n",
       "    </style>\n",
       "<div class=\"wandb-row\"><div class=\"wandb-col\"><h3>Run history:</h3><br/><table class=\"wandb\"><tr><td>ROI < 30</td><td>▁▁</td></tr><tr><td>ROI < 30 2</td><td>▁▁</td></tr><tr><td>accuracy</td><td>▁▁</td></tr><tr><td>accuracy2</td><td>▁</td></tr><tr><td>epoch</td><td>▁▁</td></tr><tr><td>flat_simple</td><td>▁▁</td></tr><tr><td>loss_val</td><td>▁▁</td></tr><tr><td>multibet outlay < 30</td><td>▁▁</td></tr><tr><td>multibet profit</td><td>▁▁</td></tr><tr><td>multibet profit < 30</td><td>▁▁</td></tr><tr><td>multibet profit < 30 sd</td><td>▁▁</td></tr><tr><td>profit_relu</td><td>▁▁</td></tr><tr><td>relu roi</td><td>▁▁</td></tr></table><br/></div><div class=\"wandb-col\"><h3>Run summary:</h3><br/><table class=\"wandb\"><tr><td>ROI < 30</td><td>0.01464</td></tr><tr><td>ROI < 30 2</td><td>-0.01871</td></tr><tr><td>accuracy</td><td>0.34914</td></tr><tr><td>accuracy2</td><td>0.34914</td></tr><tr><td>epoch</td><td>0</td></tr><tr><td>flat_simple</td><td>-482.38264</td></tr><tr><td>loss_val</td><td>1.68464</td></tr><tr><td>multibet outlay < 30</td><td>144461.22969</td></tr><tr><td>multibet profit < 30</td><td>2114.35775</td></tr><tr><td>multibet profit < 30 sd</td><td>14.47521</td></tr><tr><td>profit_relu</td><td>135.98347</td></tr><tr><td>relu roi</td><td>0.00273</td></tr></table><br/></div></div>"
      ],
      "text/plain": [
       "<IPython.core.display.HTML object>"
      ]
     },
     "metadata": {},
     "output_type": "display_data"
    },
    {
     "data": {
      "text/html": [
       " View run <strong style=\"color:#cdcd00\">devout-sea-110</strong> at: <a href='https://wandb.ai/nickojelly/NEW%20GRU%20-%20updates%20-%20shuffle/runs/tqmf33yi' target=\"_blank\">https://wandb.ai/nickojelly/NEW%20GRU%20-%20updates%20-%20shuffle/runs/tqmf33yi</a><br/>Synced 6 W&B file(s), 3 media file(s), 3 artifact file(s) and 1 other file(s)"
      ],
      "text/plain": [
       "<IPython.core.display.HTML object>"
      ]
     },
     "metadata": {},
     "output_type": "display_data"
    },
    {
     "data": {
      "text/html": [
       "Find logs at: <code>.\\wandb\\run-20230615_214924-tqmf33yi\\logs</code>"
      ],
      "text/plain": [
       "<IPython.core.display.HTML object>"
      ]
     },
     "metadata": {},
     "output_type": "display_data"
    },
    {
     "data": {
      "application/vnd.jupyter.widget-view+json": {
       "model_id": "d54c02a5c2d94002a82975b800e8f72f",
       "version_major": 2,
       "version_minor": 0
      },
      "text/plain": [
       "VBox(children=(Label(value='Waiting for wandb.init()...\\r'), FloatProgress(value=0.01693333333338766, max=1.0)…"
      ]
     },
     "metadata": {},
     "output_type": "display_data"
    },
    {
     "data": {
      "text/html": [
       "Tracking run with wandb version 0.15.4"
      ],
      "text/plain": [
       "<IPython.core.display.HTML object>"
      ]
     },
     "metadata": {},
     "output_type": "display_data"
    },
    {
     "data": {
      "text/html": [
       "Run data is saved locally in <code>C:\\Users\\Nick\\Documents\\GitHub\\grvmodel\\Python\\DATA\\wandb\\run-20230615_215009-bx5ohuda</code>"
      ],
      "text/plain": [
       "<IPython.core.display.HTML object>"
      ]
     },
     "metadata": {},
     "output_type": "display_data"
    },
    {
     "data": {
      "text/html": [
       "Syncing run <strong><a href='https://wandb.ai/nickojelly/NEW%20GRU%20-%20updates%20-%20shuffle/runs/bx5ohuda' target=\"_blank\">solar-flower-111</a></strong> to <a href='https://wandb.ai/nickojelly/NEW%20GRU%20-%20updates%20-%20shuffle' target=\"_blank\">Weights & Biases</a> (<a href='https://wandb.me/run' target=\"_blank\">docs</a>)<br/>"
      ],
      "text/plain": [
       "<IPython.core.display.HTML object>"
      ]
     },
     "metadata": {},
     "output_type": "display_data"
    },
    {
     "data": {
      "text/html": [
       " View project at <a href='https://wandb.ai/nickojelly/NEW%20GRU%20-%20updates%20-%20shuffle' target=\"_blank\">https://wandb.ai/nickojelly/NEW%20GRU%20-%20updates%20-%20shuffle</a>"
      ],
      "text/plain": [
       "<IPython.core.display.HTML object>"
      ]
     },
     "metadata": {},
     "output_type": "display_data"
    },
    {
     "data": {
      "text/html": [
       " View run at <a href='https://wandb.ai/nickojelly/NEW%20GRU%20-%20updates%20-%20shuffle/runs/bx5ohuda' target=\"_blank\">https://wandb.ai/nickojelly/NEW%20GRU%20-%20updates%20-%20shuffle/runs/bx5ohuda</a>"
      ],
      "text/plain": [
       "<IPython.core.display.HTML object>"
      ]
     },
     "metadata": {},
     "output_type": "display_data"
    },
    {
     "name": "stdout",
     "output_type": "stream",
     "text": [
      "{'hidden_size': 128, 'datafile': 'gru_inputs_simple_v8_kitchen_sink.fth', 'stats': \"[['dist_last__1', 'box_last__1', 'speed_avg_1', 'split_speed_v1_1', 'split_speed_avg_1', 'split_margin_avg_1', 'margin_avg_1', 'RunHomeTime_1', 'run_home_speed_1', 'run_home_speed_v1_1', 'first_out_avg_1', 'pos_out_avg_1', 'post_change_avg_1', 'races_1', 'wins_1', 'wins_last_1', 'weight_', 'min_time_', 'min_split_time_', 'min_split_time_v1', 'last_start_price', 'last_start_prob']]\", 'input_type': 'basic', 'races': ['NSW'], 'latest_date': '2023-05-26T00:00:00', 'num_layers': 2, 'batch_size': 750, 'dropout': 0.3, 'epochs': 10000, 'learning_rate': 0.0003, 'optimizer': 'adamW', 'f0_layer_size': 128, 'f1_layer_size': 64, 'variable': 'min_split_time_v1'}\n",
      "10000\n",
      "{'hidden_size': 128, 'datafile': 'gru_inputs_simple_v8_kitchen_sink.fth', 'stats': \"[['dist_last__1', 'box_last__1', 'speed_avg_1', 'split_speed_v1_1', 'split_speed_avg_1', 'split_margin_avg_1', 'margin_avg_1', 'RunHomeTime_1', 'run_home_speed_1', 'run_home_speed_v1_1', 'first_out_avg_1', 'pos_out_avg_1', 'post_change_avg_1', 'races_1', 'wins_1', 'wins_last_1', 'weight_', 'min_time_', 'min_split_time_', 'min_split_time_v1', 'last_start_price', 'last_start_prob']]\", 'input_type': 'basic', 'races': ['NSW'], 'latest_date': '2023-05-26T00:00:00', 'num_layers': 2, 'batch_size': 750, 'dropout': 0.3, 'epochs': 10000, 'learning_rate': 0.0003, 'optimizer': 'adamW', 'f0_layer_size': 128, 'f1_layer_size': 64, 'variable': 'min_split_time_v1'}\n",
      "basic\n",
      "here\n",
      "input_size=28\n"
     ]
    },
    {
     "name": "stderr",
     "output_type": "stream",
     "text": [
      "100%|██████████| 6960/6960 [00:00<00:00, 463569.40it/s]\n"
     ]
    },
    {
     "name": "stdout",
     "output_type": "stream",
     "text": [
      "filled =3856\n",
      "empty  =3104\n",
      "0.5540229885057472null_dog=0\n",
      "GRUNetv3_BN(\n",
      "  (gru): GRU(28, 128, num_layers=2, dropout=0.3)\n",
      "  (relu0): ReLU()\n",
      "  (fc0): Linear(in_features=1094, out_features=1094, bias=True)\n",
      "  (layer_norm): BatchNorm1d(28, eps=1e-05, momentum=0.1, affine=True, track_running_stats=True)\n",
      "  (rl1): ReLU()\n",
      "  (drop1): Dropout(p=0.3, inplace=False)\n",
      "  (fc1): Linear(in_features=1094, out_features=128, bias=True)\n",
      "  (rl2): ReLU()\n",
      "  (drop2): Dropout(p=0.3, inplace=False)\n",
      "  (fc2): Linear(in_features=128, out_features=64, bias=True)\n",
      "  (rl3): ReLU()\n",
      "  (drop3): Dropout(p=0.3, inplace=False)\n",
      "  (fc3): Linear(in_features=64, out_features=8, bias=True)\n",
      "  (output_fn): Identity()\n",
      ")\n"
     ]
    },
    {
     "data": {
      "text/html": [
       "Waiting for W&B process to finish... <strong style=\"color:green\">(success).</strong>"
      ],
      "text/plain": [
       "<IPython.core.display.HTML object>"
      ]
     },
     "metadata": {},
     "output_type": "display_data"
    },
    {
     "data": {
      "text/html": [
       "<style>\n",
       "    table.wandb td:nth-child(1) { padding: 0 10px; text-align: left ; width: auto;} td:nth-child(2) {text-align: left ; width: 100%}\n",
       "    .wandb-row { display: flex; flex-direction: row; flex-wrap: wrap; justify-content: flex-start; width: 100% }\n",
       "    .wandb-col { display: flex; flex-direction: column; flex-basis: 100%; flex: 1; padding: 10px; }\n",
       "    </style>\n",
       "<div class=\"wandb-row\"><div class=\"wandb-col\"><h3>Run history:</h3><br/><table class=\"wandb\"><tr><td>ROI < 30</td><td>▁▁</td></tr><tr><td>ROI < 30 2</td><td>▁▁</td></tr><tr><td>accuracy</td><td>▁▁</td></tr><tr><td>accuracy2</td><td>▁</td></tr><tr><td>epoch</td><td>▁▁</td></tr><tr><td>flat_simple</td><td>▁▁</td></tr><tr><td>loss_val</td><td>▁▁</td></tr><tr><td>multibet outlay < 30</td><td>▁▁</td></tr><tr><td>multibet profit</td><td>▁▁</td></tr><tr><td>multibet profit < 30</td><td>▁▁</td></tr><tr><td>multibet profit < 30 sd</td><td>▁▁</td></tr><tr><td>profit_relu</td><td>▁▁</td></tr><tr><td>relu roi</td><td>▁▁</td></tr></table><br/></div><div class=\"wandb-col\"><h3>Run summary:</h3><br/><table class=\"wandb\"><tr><td>ROI < 30</td><td>0.01875</td></tr><tr><td>ROI < 30 2</td><td>-0.019</td></tr><tr><td>accuracy</td><td>0.34735</td></tr><tr><td>accuracy2</td><td>0.34735</td></tr><tr><td>epoch</td><td>0</td></tr><tr><td>flat_simple</td><td>-531.3405</td></tr><tr><td>loss_val</td><td>1.68679</td></tr><tr><td>multibet outlay < 30</td><td>144815.49936</td></tr><tr><td>multibet profit < 30</td><td>2715.20021</td></tr><tr><td>multibet profit < 30 sd</td><td>14.61831</td></tr><tr><td>profit_relu</td><td>254.29982</td></tr><tr><td>relu roi</td><td>0.00515</td></tr></table><br/></div></div>"
      ],
      "text/plain": [
       "<IPython.core.display.HTML object>"
      ]
     },
     "metadata": {},
     "output_type": "display_data"
    },
    {
     "data": {
      "text/html": [
       " View run <strong style=\"color:#cdcd00\">solar-flower-111</strong> at: <a href='https://wandb.ai/nickojelly/NEW%20GRU%20-%20updates%20-%20shuffle/runs/bx5ohuda' target=\"_blank\">https://wandb.ai/nickojelly/NEW%20GRU%20-%20updates%20-%20shuffle/runs/bx5ohuda</a><br/>Synced 6 W&B file(s), 3 media file(s), 3 artifact file(s) and 1 other file(s)"
      ],
      "text/plain": [
       "<IPython.core.display.HTML object>"
      ]
     },
     "metadata": {},
     "output_type": "display_data"
    },
    {
     "data": {
      "text/html": [
       "Find logs at: <code>.\\wandb\\run-20230615_215009-bx5ohuda\\logs</code>"
      ],
      "text/plain": [
       "<IPython.core.display.HTML object>"
      ]
     },
     "metadata": {},
     "output_type": "display_data"
    },
    {
     "data": {
      "application/vnd.jupyter.widget-view+json": {
       "model_id": "a0b01c4261bc442492ae2b3b6fcf2312",
       "version_major": 2,
       "version_minor": 0
      },
      "text/plain": [
       "VBox(children=(Label(value='Waiting for wandb.init()...\\r'), FloatProgress(value=0.01693333333338766, max=1.0)…"
      ]
     },
     "metadata": {},
     "output_type": "display_data"
    },
    {
     "data": {
      "text/html": [
       "Tracking run with wandb version 0.15.4"
      ],
      "text/plain": [
       "<IPython.core.display.HTML object>"
      ]
     },
     "metadata": {},
     "output_type": "display_data"
    },
    {
     "data": {
      "text/html": [
       "Run data is saved locally in <code>C:\\Users\\Nick\\Documents\\GitHub\\grvmodel\\Python\\DATA\\wandb\\run-20230615_215049-zdnj3rio</code>"
      ],
      "text/plain": [
       "<IPython.core.display.HTML object>"
      ]
     },
     "metadata": {},
     "output_type": "display_data"
    },
    {
     "data": {
      "text/html": [
       "Syncing run <strong><a href='https://wandb.ai/nickojelly/NEW%20GRU%20-%20updates%20-%20shuffle/runs/zdnj3rio' target=\"_blank\">comic-tree-112</a></strong> to <a href='https://wandb.ai/nickojelly/NEW%20GRU%20-%20updates%20-%20shuffle' target=\"_blank\">Weights & Biases</a> (<a href='https://wandb.me/run' target=\"_blank\">docs</a>)<br/>"
      ],
      "text/plain": [
       "<IPython.core.display.HTML object>"
      ]
     },
     "metadata": {},
     "output_type": "display_data"
    },
    {
     "data": {
      "text/html": [
       " View project at <a href='https://wandb.ai/nickojelly/NEW%20GRU%20-%20updates%20-%20shuffle' target=\"_blank\">https://wandb.ai/nickojelly/NEW%20GRU%20-%20updates%20-%20shuffle</a>"
      ],
      "text/plain": [
       "<IPython.core.display.HTML object>"
      ]
     },
     "metadata": {},
     "output_type": "display_data"
    },
    {
     "data": {
      "text/html": [
       " View run at <a href='https://wandb.ai/nickojelly/NEW%20GRU%20-%20updates%20-%20shuffle/runs/zdnj3rio' target=\"_blank\">https://wandb.ai/nickojelly/NEW%20GRU%20-%20updates%20-%20shuffle/runs/zdnj3rio</a>"
      ],
      "text/plain": [
       "<IPython.core.display.HTML object>"
      ]
     },
     "metadata": {},
     "output_type": "display_data"
    },
    {
     "name": "stdout",
     "output_type": "stream",
     "text": [
      "{'hidden_size': 128, 'datafile': 'gru_inputs_simple_v8_kitchen_sink.fth', 'stats': \"[['dist_last__1', 'box_last__1', 'speed_avg_1', 'split_speed_v1_1', 'split_speed_avg_1', 'split_margin_avg_1', 'margin_avg_1', 'RunHomeTime_1', 'run_home_speed_1', 'run_home_speed_v1_1', 'first_out_avg_1', 'pos_out_avg_1', 'post_change_avg_1', 'races_1', 'wins_1', 'wins_last_1', 'weight_', 'min_time_', 'min_split_time_', 'min_split_time_v1', 'last_start_price', 'last_start_prob']]\", 'input_type': 'basic', 'races': ['NSW'], 'latest_date': '2023-05-26T00:00:00', 'num_layers': 2, 'batch_size': 750, 'dropout': 0.3, 'epochs': 10000, 'learning_rate': 0.0003, 'optimizer': 'adamW', 'f0_layer_size': 128, 'f1_layer_size': 64, 'variable': 'last_start_price'}\n",
      "10000\n",
      "{'hidden_size': 128, 'datafile': 'gru_inputs_simple_v8_kitchen_sink.fth', 'stats': \"[['dist_last__1', 'box_last__1', 'speed_avg_1', 'split_speed_v1_1', 'split_speed_avg_1', 'split_margin_avg_1', 'margin_avg_1', 'RunHomeTime_1', 'run_home_speed_1', 'run_home_speed_v1_1', 'first_out_avg_1', 'pos_out_avg_1', 'post_change_avg_1', 'races_1', 'wins_1', 'wins_last_1', 'weight_', 'min_time_', 'min_split_time_', 'min_split_time_v1', 'last_start_price', 'last_start_prob']]\", 'input_type': 'basic', 'races': ['NSW'], 'latest_date': '2023-05-26T00:00:00', 'num_layers': 2, 'batch_size': 750, 'dropout': 0.3, 'epochs': 10000, 'learning_rate': 0.0003, 'optimizer': 'adamW', 'f0_layer_size': 128, 'f1_layer_size': 64, 'variable': 'last_start_price'}\n",
      "basic\n",
      "here\n",
      "input_size=28\n"
     ]
    },
    {
     "name": "stderr",
     "output_type": "stream",
     "text": [
      "100%|██████████| 6960/6960 [00:00<00:00, 409051.31it/s]\n"
     ]
    },
    {
     "name": "stdout",
     "output_type": "stream",
     "text": [
      "filled =3856\n",
      "empty  =3104\n",
      "0.5540229885057472null_dog=0\n",
      "GRUNetv3_BN(\n",
      "  (gru): GRU(28, 128, num_layers=2, dropout=0.3)\n",
      "  (relu0): ReLU()\n",
      "  (fc0): Linear(in_features=1094, out_features=1094, bias=True)\n",
      "  (layer_norm): BatchNorm1d(28, eps=1e-05, momentum=0.1, affine=True, track_running_stats=True)\n",
      "  (rl1): ReLU()\n",
      "  (drop1): Dropout(p=0.3, inplace=False)\n",
      "  (fc1): Linear(in_features=1094, out_features=128, bias=True)\n",
      "  (rl2): ReLU()\n",
      "  (drop2): Dropout(p=0.3, inplace=False)\n",
      "  (fc2): Linear(in_features=128, out_features=64, bias=True)\n",
      "  (rl3): ReLU()\n",
      "  (drop3): Dropout(p=0.3, inplace=False)\n",
      "  (fc3): Linear(in_features=64, out_features=8, bias=True)\n",
      "  (output_fn): Identity()\n",
      ")\n"
     ]
    },
    {
     "data": {
      "text/html": [
       "Waiting for W&B process to finish... <strong style=\"color:green\">(success).</strong>"
      ],
      "text/plain": [
       "<IPython.core.display.HTML object>"
      ]
     },
     "metadata": {},
     "output_type": "display_data"
    },
    {
     "data": {
      "text/html": [
       "<style>\n",
       "    table.wandb td:nth-child(1) { padding: 0 10px; text-align: left ; width: auto;} td:nth-child(2) {text-align: left ; width: 100%}\n",
       "    .wandb-row { display: flex; flex-direction: row; flex-wrap: wrap; justify-content: flex-start; width: 100% }\n",
       "    .wandb-col { display: flex; flex-direction: column; flex-basis: 100%; flex: 1; padding: 10px; }\n",
       "    </style>\n",
       "<div class=\"wandb-row\"><div class=\"wandb-col\"><h3>Run history:</h3><br/><table class=\"wandb\"><tr><td>ROI < 30</td><td>▁▁</td></tr><tr><td>ROI < 30 2</td><td>▁▁</td></tr><tr><td>accuracy</td><td>▁▁</td></tr><tr><td>accuracy2</td><td>▁</td></tr><tr><td>epoch</td><td>▁▁</td></tr><tr><td>flat_simple</td><td>▁▁</td></tr><tr><td>loss_val</td><td>▁▁</td></tr><tr><td>multibet outlay < 30</td><td>▁▁</td></tr><tr><td>multibet profit</td><td>▁▁</td></tr><tr><td>multibet profit < 30</td><td>▁▁</td></tr><tr><td>multibet profit < 30 sd</td><td>▁▁</td></tr><tr><td>profit_relu</td><td>▁▁</td></tr><tr><td>relu roi</td><td>▁▁</td></tr></table><br/></div><div class=\"wandb-col\"><h3>Run summary:</h3><br/><table class=\"wandb\"><tr><td>ROI < 30</td><td>0.01729</td></tr><tr><td>ROI < 30 2</td><td>-0.01521</td></tr><tr><td>accuracy</td><td>0.33762</td></tr><tr><td>accuracy2</td><td>0.33762</td></tr><tr><td>epoch</td><td>0</td></tr><tr><td>flat_simple</td><td>-588.49656</td></tr><tr><td>loss_val</td><td>1.71379</td></tr><tr><td>multibet outlay < 30</td><td>144945.79638</td></tr><tr><td>multibet profit < 30</td><td>2506.19848</td></tr><tr><td>multibet profit < 30 sd</td><td>14.81327</td></tr><tr><td>profit_relu</td><td>-62.93051</td></tr><tr><td>relu roi</td><td>-0.00137</td></tr></table><br/></div></div>"
      ],
      "text/plain": [
       "<IPython.core.display.HTML object>"
      ]
     },
     "metadata": {},
     "output_type": "display_data"
    },
    {
     "data": {
      "text/html": [
       " View run <strong style=\"color:#cdcd00\">comic-tree-112</strong> at: <a href='https://wandb.ai/nickojelly/NEW%20GRU%20-%20updates%20-%20shuffle/runs/zdnj3rio' target=\"_blank\">https://wandb.ai/nickojelly/NEW%20GRU%20-%20updates%20-%20shuffle/runs/zdnj3rio</a><br/>Synced 6 W&B file(s), 3 media file(s), 3 artifact file(s) and 1 other file(s)"
      ],
      "text/plain": [
       "<IPython.core.display.HTML object>"
      ]
     },
     "metadata": {},
     "output_type": "display_data"
    },
    {
     "data": {
      "text/html": [
       "Find logs at: <code>.\\wandb\\run-20230615_215049-zdnj3rio\\logs</code>"
      ],
      "text/plain": [
       "<IPython.core.display.HTML object>"
      ]
     },
     "metadata": {},
     "output_type": "display_data"
    },
    {
     "data": {
      "application/vnd.jupyter.widget-view+json": {
       "model_id": "85e84275bdbd4bbeb7d2d012d9979e62",
       "version_major": 2,
       "version_minor": 0
      },
      "text/plain": [
       "VBox(children=(Label(value='Waiting for wandb.init()...\\r'), FloatProgress(value=0.016933333332902596, max=1.0…"
      ]
     },
     "metadata": {},
     "output_type": "display_data"
    },
    {
     "data": {
      "text/html": [
       "Tracking run with wandb version 0.15.4"
      ],
      "text/plain": [
       "<IPython.core.display.HTML object>"
      ]
     },
     "metadata": {},
     "output_type": "display_data"
    },
    {
     "data": {
      "text/html": [
       "Run data is saved locally in <code>C:\\Users\\Nick\\Documents\\GitHub\\grvmodel\\Python\\DATA\\wandb\\run-20230615_215132-zcl5edkb</code>"
      ],
      "text/plain": [
       "<IPython.core.display.HTML object>"
      ]
     },
     "metadata": {},
     "output_type": "display_data"
    },
    {
     "data": {
      "text/html": [
       "Syncing run <strong><a href='https://wandb.ai/nickojelly/NEW%20GRU%20-%20updates%20-%20shuffle/runs/zcl5edkb' target=\"_blank\">quiet-dream-113</a></strong> to <a href='https://wandb.ai/nickojelly/NEW%20GRU%20-%20updates%20-%20shuffle' target=\"_blank\">Weights & Biases</a> (<a href='https://wandb.me/run' target=\"_blank\">docs</a>)<br/>"
      ],
      "text/plain": [
       "<IPython.core.display.HTML object>"
      ]
     },
     "metadata": {},
     "output_type": "display_data"
    },
    {
     "data": {
      "text/html": [
       " View project at <a href='https://wandb.ai/nickojelly/NEW%20GRU%20-%20updates%20-%20shuffle' target=\"_blank\">https://wandb.ai/nickojelly/NEW%20GRU%20-%20updates%20-%20shuffle</a>"
      ],
      "text/plain": [
       "<IPython.core.display.HTML object>"
      ]
     },
     "metadata": {},
     "output_type": "display_data"
    },
    {
     "data": {
      "text/html": [
       " View run at <a href='https://wandb.ai/nickojelly/NEW%20GRU%20-%20updates%20-%20shuffle/runs/zcl5edkb' target=\"_blank\">https://wandb.ai/nickojelly/NEW%20GRU%20-%20updates%20-%20shuffle/runs/zcl5edkb</a>"
      ],
      "text/plain": [
       "<IPython.core.display.HTML object>"
      ]
     },
     "metadata": {},
     "output_type": "display_data"
    },
    {
     "name": "stdout",
     "output_type": "stream",
     "text": [
      "{'hidden_size': 128, 'datafile': 'gru_inputs_simple_v8_kitchen_sink.fth', 'stats': \"[['dist_last__1', 'box_last__1', 'speed_avg_1', 'split_speed_v1_1', 'split_speed_avg_1', 'split_margin_avg_1', 'margin_avg_1', 'RunHomeTime_1', 'run_home_speed_1', 'run_home_speed_v1_1', 'first_out_avg_1', 'pos_out_avg_1', 'post_change_avg_1', 'races_1', 'wins_1', 'wins_last_1', 'weight_', 'min_time_', 'min_split_time_', 'min_split_time_v1', 'last_start_price', 'last_start_prob']]\", 'input_type': 'basic', 'races': ['NSW'], 'latest_date': '2023-05-26T00:00:00', 'num_layers': 2, 'batch_size': 750, 'dropout': 0.3, 'epochs': 10000, 'learning_rate': 0.0003, 'optimizer': 'adamW', 'f0_layer_size': 128, 'f1_layer_size': 64, 'variable': 'last_start_prob'}\n",
      "10000\n",
      "{'hidden_size': 128, 'datafile': 'gru_inputs_simple_v8_kitchen_sink.fth', 'stats': \"[['dist_last__1', 'box_last__1', 'speed_avg_1', 'split_speed_v1_1', 'split_speed_avg_1', 'split_margin_avg_1', 'margin_avg_1', 'RunHomeTime_1', 'run_home_speed_1', 'run_home_speed_v1_1', 'first_out_avg_1', 'pos_out_avg_1', 'post_change_avg_1', 'races_1', 'wins_1', 'wins_last_1', 'weight_', 'min_time_', 'min_split_time_', 'min_split_time_v1', 'last_start_price', 'last_start_prob']]\", 'input_type': 'basic', 'races': ['NSW'], 'latest_date': '2023-05-26T00:00:00', 'num_layers': 2, 'batch_size': 750, 'dropout': 0.3, 'epochs': 10000, 'learning_rate': 0.0003, 'optimizer': 'adamW', 'f0_layer_size': 128, 'f1_layer_size': 64, 'variable': 'last_start_prob'}\n",
      "basic\n",
      "here\n",
      "input_size=28\n"
     ]
    },
    {
     "name": "stderr",
     "output_type": "stream",
     "text": [
      "100%|██████████| 6960/6960 [00:00<00:00, 463591.49it/s]\n"
     ]
    },
    {
     "name": "stdout",
     "output_type": "stream",
     "text": [
      "filled =3856\n",
      "empty  =3104\n",
      "0.5540229885057472null_dog=0\n",
      "GRUNetv3_BN(\n",
      "  (gru): GRU(28, 128, num_layers=2, dropout=0.3)\n",
      "  (relu0): ReLU()\n",
      "  (fc0): Linear(in_features=1094, out_features=1094, bias=True)\n",
      "  (layer_norm): BatchNorm1d(28, eps=1e-05, momentum=0.1, affine=True, track_running_stats=True)\n",
      "  (rl1): ReLU()\n",
      "  (drop1): Dropout(p=0.3, inplace=False)\n",
      "  (fc1): Linear(in_features=1094, out_features=128, bias=True)\n",
      "  (rl2): ReLU()\n",
      "  (drop2): Dropout(p=0.3, inplace=False)\n",
      "  (fc2): Linear(in_features=128, out_features=64, bias=True)\n",
      "  (rl3): ReLU()\n",
      "  (drop3): Dropout(p=0.3, inplace=False)\n",
      "  (fc3): Linear(in_features=64, out_features=8, bias=True)\n",
      "  (output_fn): Identity()\n",
      ")\n"
     ]
    },
    {
     "data": {
      "text/html": [
       "Waiting for W&B process to finish... <strong style=\"color:green\">(success).</strong>"
      ],
      "text/plain": [
       "<IPython.core.display.HTML object>"
      ]
     },
     "metadata": {},
     "output_type": "display_data"
    },
    {
     "data": {
      "text/html": [
       "<style>\n",
       "    table.wandb td:nth-child(1) { padding: 0 10px; text-align: left ; width: auto;} td:nth-child(2) {text-align: left ; width: 100%}\n",
       "    .wandb-row { display: flex; flex-direction: row; flex-wrap: wrap; justify-content: flex-start; width: 100% }\n",
       "    .wandb-col { display: flex; flex-direction: column; flex-basis: 100%; flex: 1; padding: 10px; }\n",
       "    </style>\n",
       "<div class=\"wandb-row\"><div class=\"wandb-col\"><h3>Run history:</h3><br/><table class=\"wandb\"><tr><td>ROI < 30</td><td>▁▁</td></tr><tr><td>ROI < 30 2</td><td>▁▁</td></tr><tr><td>accuracy</td><td>▁▁</td></tr><tr><td>accuracy2</td><td>▁</td></tr><tr><td>epoch</td><td>▁▁</td></tr><tr><td>flat_simple</td><td>▁▁</td></tr><tr><td>loss_val</td><td>▁▁</td></tr><tr><td>multibet outlay < 30</td><td>▁▁</td></tr><tr><td>multibet profit</td><td>▁▁</td></tr><tr><td>multibet profit < 30</td><td>▁▁</td></tr><tr><td>multibet profit < 30 sd</td><td>▁▁</td></tr><tr><td>profit_relu</td><td>▁▁</td></tr><tr><td>relu roi</td><td>▁▁</td></tr></table><br/></div><div class=\"wandb-col\"><h3>Run summary:</h3><br/><table class=\"wandb\"><tr><td>ROI < 30</td><td>0.00739</td></tr><tr><td>ROI < 30 2</td><td>-0.02536</td></tr><tr><td>accuracy</td><td>0.3336</td></tr><tr><td>accuracy2</td><td>0.3336</td></tr><tr><td>epoch</td><td>0</td></tr><tr><td>flat_simple</td><td>-649.9226</td></tr><tr><td>loss_val</td><td>1.71174</td></tr><tr><td>multibet outlay < 30</td><td>151955.30981</td></tr><tr><td>multibet profit < 30</td><td>1122.87177</td></tr><tr><td>multibet profit < 30 sd</td><td>15.5545</td></tr><tr><td>profit_relu</td><td>-416.66875</td></tr><tr><td>relu roi</td><td>-0.0087</td></tr></table><br/></div></div>"
      ],
      "text/plain": [
       "<IPython.core.display.HTML object>"
      ]
     },
     "metadata": {},
     "output_type": "display_data"
    },
    {
     "data": {
      "text/html": [
       " View run <strong style=\"color:#cdcd00\">quiet-dream-113</strong> at: <a href='https://wandb.ai/nickojelly/NEW%20GRU%20-%20updates%20-%20shuffle/runs/zcl5edkb' target=\"_blank\">https://wandb.ai/nickojelly/NEW%20GRU%20-%20updates%20-%20shuffle/runs/zcl5edkb</a><br/>Synced 6 W&B file(s), 3 media file(s), 3 artifact file(s) and 1 other file(s)"
      ],
      "text/plain": [
       "<IPython.core.display.HTML object>"
      ]
     },
     "metadata": {},
     "output_type": "display_data"
    },
    {
     "data": {
      "text/html": [
       "Find logs at: <code>.\\wandb\\run-20230615_215132-zcl5edkb\\logs</code>"
      ],
      "text/plain": [
       "<IPython.core.display.HTML object>"
      ]
     },
     "metadata": {},
     "output_type": "display_data"
    }
   ],
   "source": [
    "original_pack = pack_sequence([torch.stack(n,0) for n in [[z.stats.to('cuda:0') for z in inner] for inner in [x for x in raceDB.get_dog_test(test_idx)]]], enforce_sorted=False)\n",
    "stat_cols= ['box','inside','midfield','wide','weight','DogGrade','dist_last__1', 'box_last__1', 'speed_avg_1', 'split_speed_v1_1', 'split_speed_avg_1', 'split_margin_avg_1', 'margin_avg_1', 'RunHomeTime_1', 'run_home_speed_1', 'run_home_speed_v1_1', 'first_out_avg_1', 'pos_out_avg_1', 'post_change_avg_1', 'races_1', 'wins_1', 'wins_last_1', 'weight_', 'min_time_', 'min_split_time_', 'min_split_time_v1', 'last_start_price', 'last_start_prob']\n",
    "for i in range(4,len(stat_cols)):\n",
    "    wandb_config_static['variable'] = stat_cols[i]\n",
    "    raceDB.batches['packed_y_basic'] = original_pack\n",
    "    x = original_pack.data.to('cpu')\n",
    "    idx = torch.randperm(x.size(0))\n",
    "    x[:, i] = x[idx,i] \n",
    "    raceDB.batches['packed_y_basic'] = raceDB.batches['packed_y_basic']._replace(data=x.to('cuda:0'))\n",
    "    (model,dataset, optimizer) = model_pipeline(raceDB,config=wandb_config_static,sweep=False, prev_model_file='glamorous-lion-731', prev_model_version='400')"
   ]
  },
  {
   "cell_type": "code",
   "execution_count": 28,
   "metadata": {},
   "outputs": [
    {
     "name": "stderr",
     "output_type": "stream",
     "text": [
      "Failed to detect the name of this notebook, you can set it manually with the WANDB_NOTEBOOK_NAME environment variable to enable code saving.\n",
      "\u001b[34m\u001b[1mwandb\u001b[0m: Currently logged in as: \u001b[33mnickojelly\u001b[0m. Use \u001b[1m`wandb login --relogin`\u001b[0m to force relogin\n"
     ]
    },
    {
     "data": {
      "application/vnd.jupyter.widget-view+json": {
       "model_id": "9611c4403dee44daa00479683a4bd393",
       "version_major": 2,
       "version_minor": 0
      },
      "text/plain": [
       "VBox(children=(Label(value='Waiting for wandb.init()...\\r'), FloatProgress(value=0.016666666666666666, max=1.0…"
      ]
     },
     "metadata": {},
     "output_type": "display_data"
    },
    {
     "data": {
      "text/html": [
       "wandb version 0.15.3 is available!  To upgrade, please run:\n",
       " $ pip install wandb --upgrade"
      ],
      "text/plain": [
       "<IPython.core.display.HTML object>"
      ]
     },
     "metadata": {},
     "output_type": "display_data"
    },
    {
     "data": {
      "text/html": [
       "Tracking run with wandb version 0.15.0"
      ],
      "text/plain": [
       "<IPython.core.display.HTML object>"
      ]
     },
     "metadata": {},
     "output_type": "display_data"
    },
    {
     "data": {
      "text/html": [
       "Run data is saved locally in <code>C:\\Users\\Nick\\Documents\\GitHub\\grvmodel\\Python\\DATA\\wandb\\run-20230520_070513-2n3jnnlx</code>"
      ],
      "text/plain": [
       "<IPython.core.display.HTML object>"
      ]
     },
     "metadata": {},
     "output_type": "display_data"
    },
    {
     "data": {
      "text/html": [
       "Syncing run <strong><a href='https://wandb.ai/nickojelly/NEW%20GRU%20-%20updates/runs/2n3jnnlx' target=\"_blank\">worldly-grass-119</a></strong> to <a href='https://wandb.ai/nickojelly/NEW%20GRU%20-%20updates' target=\"_blank\">Weights & Biases</a> (<a href='https://wandb.me/run' target=\"_blank\">docs</a>)<br/>"
      ],
      "text/plain": [
       "<IPython.core.display.HTML object>"
      ]
     },
     "metadata": {},
     "output_type": "display_data"
    },
    {
     "data": {
      "text/html": [
       " View project at <a href='https://wandb.ai/nickojelly/NEW%20GRU%20-%20updates' target=\"_blank\">https://wandb.ai/nickojelly/NEW%20GRU%20-%20updates</a>"
      ],
      "text/plain": [
       "<IPython.core.display.HTML object>"
      ]
     },
     "metadata": {},
     "output_type": "display_data"
    },
    {
     "data": {
      "text/html": [
       " View run at <a href='https://wandb.ai/nickojelly/NEW%20GRU%20-%20updates/runs/2n3jnnlx' target=\"_blank\">https://wandb.ai/nickojelly/NEW%20GRU%20-%20updates/runs/2n3jnnlx</a>"
      ],
      "text/plain": [
       "<IPython.core.display.HTML object>"
      ]
     },
     "metadata": {},
     "output_type": "display_data"
    },
    {
     "name": "stdout",
     "output_type": "stream",
     "text": [
      "{'hidden_size': 128, 'datafile': 'gru_inputs_new_simple_test.fth', 'stats': \"[['dist_last__1', 'box_last__1', 'speed_avg_1', 'split_speed_avg_1', 'split_margin_avg_1', 'margin_avg_1', 'first_out_avg_1', 'post_change_avg_1', 'races_1', 'wins_1', 'weight_', 'min_time_', 'min_split_time_', 'last_start_price']]\", 'input_type': 'basic', 'races': ['NSW'], 'latest_date': '2023-05-02T00:00:00', 'num_layers': 2, 'batch_size': 750, 'dropout': 0.3, 'epochs': 10000, 'learning_rate': 0.0003, 'optimizer': 'adamW', 'f0_layer_size': 128, 'f1_layer_size': 64}\n",
      "10000\n",
      "{'hidden_size': 128, 'datafile': 'gru_inputs_new_simple_test.fth', 'stats': \"[['dist_last__1', 'box_last__1', 'speed_avg_1', 'split_speed_avg_1', 'split_margin_avg_1', 'margin_avg_1', 'first_out_avg_1', 'post_change_avg_1', 'races_1', 'wins_1', 'weight_', 'min_time_', 'min_split_time_', 'last_start_price']]\", 'input_type': 'basic', 'races': ['NSW'], 'latest_date': '2023-05-02T00:00:00', 'num_layers': 2, 'batch_size': 750, 'dropout': 0.3, 'epochs': 10000, 'learning_rate': 0.0003, 'optimizer': 'adamW', 'f0_layer_size': 128, 'f1_layer_size': 64}\n",
      "basic\n",
      "here\n",
      "input_size=20\n"
     ]
    },
    {
     "name": "stderr",
     "output_type": "stream",
     "text": [
      " 55%|█████▌    | 3670/6671 [00:00<00:00, 36666.55it/s]"
     ]
    },
    {
     "name": "stdout",
     "output_type": "stream",
     "text": [
      "Empty: 645474873 JONAH LOVE\n",
      "Empty: 651385170 EXTREME ROCK\n",
      "Empty: 583222624 MORAINE JADE\n",
      "Empty: 504049596 MAELYNN BALE\n",
      "Empty: 549963741 SWEET PANAMA\n",
      "Empty: 705701202 TINY PSYCHO\n",
      "Empty: 603192479 ELITE BULLET\n",
      "Empty: 654230427 BOOK BOOK\n",
      "Empty: 638802618 LUCKY AS BEN\n",
      "Empty: 638803146 PHANTOM ARIZONA\n",
      "Empty: 638802698 CHICAGO REIGN\n",
      "Empty: 638803119 BOLAN ROAD\n",
      "Empty: 670507887 WILD STREAK\n",
      "Empty: 654231426 MAGIC SECRET\n",
      "Empty: 718777802 ALINTA FIRE\n",
      "Empty: 669960260 KRYPTO BOY\n",
      "Empty: 677833466 EYES ON GOLD\n",
      "Empty: 654230432 LUCKY BUNDY\n",
      "Empty: 634935392 MISS SNAP\n",
      "Empty: 677834000 MAGIC TALENT\n",
      "Empty: 677833465 WILLINA CHARM\n",
      "Empty: 654230904 BUNDY ROSE\n",
      "Empty: 572578374 HYLAND HAKUNA\n",
      "Empty: 629791611 SILLY SAUSAGE\n",
      "Empty: 638802753 BUSTER SLOY\n",
      "Empty: 629792190 ZAMBORA BLASTER\n",
      "Empty: 576142515 THREE'S A CHARM\n",
      "Empty: 520643353 FRIEND OR FOE\n",
      "Empty: 341855900 DEB'S BLUE BOY\n",
      "Empty: 638803628 GREEK FLAME\n",
      "Empty: 654230923 SNIPER'S KING\n",
      "Empty: 617355249 I'M FULL ON\n",
      "Empty: 609359802 ZIPPING CUTIE\n",
      "Empty: 576143016 CEDAR DONNA\n",
      "Empty: 580792852 CONCORD PRINCE\n",
      "Empty: 570887499 HAZEL INTENTION\n",
      "Empty: 622583688 ROSE BAY RUBY\n",
      "Empty: 576142007 CEDAR MORK\n",
      "Empty: 471074784 BIMINI TWIST\n",
      "Empty: 550411306 OVERNIGHT SOIREE\n",
      "Empty: 670507940 RODGER PREVAILS\n",
      "Empty: 670508430 RED PREVAILS\n",
      "Empty: 540282427 SLATER STORM\n",
      "Empty: 670507937 VICTOR PREVAILS\n",
      "Empty: 694775830 ORANGE HOUSE\n",
      "Empty: 670507941 BOB PREVAILS\n",
      "Empty: 694776316 FOUND A SPOT\n",
      "Empty: 670508429 LET'S GO BUD\n",
      "Empty: 615097240 MOWSKI TITLE\n",
      "Empty: 718777213 SILLIEST SALMON\n",
      "Empty: 561781371 GOT A DEAL\n",
      "Empty: 675319043 LET'S GO ENYA\n",
      "Empty: 615097244 MOWSKI BLITZ\n",
      "Empty: 645476905 HAPPY GATHERING\n",
      "Empty: 716345348 SKETCHY RUSS\n",
      "Empty: 663003950 RITZA MINDY\n",
      "Empty: 451043847 SILENT RUNNING\n",
      "Empty: 638538532 BLACKPOOL BRUCE\n",
      "Empty: 650078150 NABIAC SUNSET\n",
      "Empty: 580792935 TIGGERLONG CAR\n",
      "Empty: 663003951 RITZA BLUE\n",
      "Empty: 677865080 WORIMI STAR\n",
      "Empty: 656363787 MOPOKE\n",
      "Empty: 645476892 ABLE ZEUS\n",
      "Empty: 619407355 AS EASY AS\n",
      "Empty: 587948107 MOUNTAIN SNAKE\n",
      "Empty: 569306340 UNLEADED DIESEL\n",
      "Empty: 547639595 SIR COME AGAIN\n",
      "Empty: 635302569 UPPER WEST SIDE\n",
      "Empty: 471933085 ON THE AIR\n",
      "Empty: 436113537 BOGIE BANDIT\n",
      "Empty: 520643241 ALL ABOUT BILL\n",
      "Empty: 645796088 MANDY'S CHAMP\n",
      "Empty: 544561464 GECKO FERNANDO\n",
      "Empty: 570626978 VELOCITY DAHLIA\n",
      "Empty: 550407241 WINLOCK MEGGET\n",
      "Empty: 650079167 EASY LANDING\n",
      "Empty: 434800266 ON COMMAND\n",
      "Empty: 643130203 JAPANESE CHICA\n",
      "Empty: 647616163 WINLOCK APPLES\n",
      "Empty: 633120774 BEIJING KLAUS\n",
      "Empty: 491585807 HENDRIK BALE\n",
      "Empty: 580793392 OPTIMUS ADAM\n",
      "Empty: 629792196 NOBU GIRL\n",
      "Empty: 680701754 SANDAVE PEPPER\n",
      "Empty: 650078677 DOING LIFE\n",
      "Empty: 561781472 NOT A GEORGIAN\n",
      "Empty: 629792145 BLACK BOOK\n",
      "Empty: 705700691 BART'S DANCER\n",
      "Empty: 705701168 GINGER BREAD\n",
      "Empty: 556974442 HAY HAY\n",
      "Empty: 667700740 MR. FAHRENHEIT\n",
      "Empty: 667648639 PERPETUAL\n",
      "Empty: 669959258 NIGHTMARE RUN\n",
      "Empty: 620539157 DRINK CROWNIES\n",
      "Empty: 537858625 GREEN DESTINY\n",
      "Empty: 482775681 BIG TOM\n",
      "Empty: 412656668 AFFAIR BIT\n",
      "Empty: 643634738 JUST MUMMULGUM\n",
      "Empty: 634935459 CANYA BOBCAT\n",
      "Empty: 647615168 JUST JUAN\n",
      "Empty: 707215730 BLACK ONYX MAE\n",
      "Empty: 614056802 KING ODIE\n",
      "Empty: 629791118 ALLY KADE\n",
      "Empty: 629792191 NOBU LAD\n",
      "Empty: 645796107 STRAWBERRY SHAKE\n",
      "Empty: 650078632 AUSSIE CHEVY\n",
      "Empty: 606761137 THROSSELL BALE\n",
      "Empty: 504048114 MORE ISSUES\n",
      "Empty: 504049614 OUR ISSUES\n",
      "Empty: 707108405 HOOKED ON EDDIE\n",
      "Empty: 650079139 YORE CHEVY\n",
      "Empty: 638802745 I'VE BEEN RORTED\n",
      "Empty: 592709158 CASH KEY\n",
      "Empty: 663002898 COSMIC MENACE\n",
      "Empty: 578901028 RED BUZZ\n",
      "Empty: 667648178 DIXIE DUTTON\n",
      "Empty: 556974929 ELLA'S CLOVER\n",
      "Empty: 734719530 HEAD THEM UP\n",
      "Empty: 556974782 LITTLE BUGSY\n",
      "Empty: 620538642 DANSEUSE\n",
      "Empty: 527352604 RAZZLE ANN\n",
      "Empty: 496555128 BLACK REDEEMER\n",
      "Empty: 665430228 TALAKAI\n",
      "Empty: 630424337 MAGIQUE NOIR\n",
      "Empty: 562073422 MOON'S ARE LIGHT\n",
      "Empty: 504048589 LORETTA BALE\n",
      "Empty: 675307457 STIR THE POT\n",
      "Empty: 587949199 KNEE HIGH\n",
      "Empty: 650079101 HARLEM SHUFFLE\n",
      "Empty: 634935886 SPRING TUNE\n",
      "Empty: 645329088 STAR RECEIVER\n",
      "Empty: 542641120 MEMPHIS ROSE\n",
      "Empty: 556974350 JACOBITE MAC\n",
      "Empty: 603189539 BELMONT DEWY\n",
      "Empty: 629791192 SUBZERO ANNIE\n",
      "Empty: 692975715 ON THE BOGAN\n",
      "Empty: 665430222 TRADING IN\n",
      "Empty: 550411245 WINLOCK CREWE\n",
      "Empty: 644469372 KENKEY\n",
      "Empty: 660804990 SIRIUS LULU\n",
      "Empty: 669960295 MISLED\n",
      "Empty: 607082801 PICK UP IZZY\n",
      "Empty: 576142993 OSCAR MOSES\n",
      "Empty: 663002905 KEY VAN\n",
      "Empty: 650078599 FULL PELT\n",
      "Empty: 564470689 ROTHWELL HORSE\n",
      "Empty: 663002922 SISTER BEAR\n",
      "Empty: 680701217 PRODIGAL TIGER\n",
      "Empty: 570887501 NELLY INTENTION\n",
      "Empty: 638802755 THAT'S HEAR SAY\n",
      "Empty: 570629999 SKYLA'S ELITE\n",
      "Empty: 667648180 AUSTIN DUTTON\n",
      "Empty: 647615726 CAN'T CATCH HER\n",
      "Empty: 576142997 ROCKY LORRY\n",
      "Empty: 623993503 EYE ROLL SLOY\n",
      "Empty: 576142508 DAISY'S DENIAL\n",
      "Empty: 614057260 RIDLEY DIDGE\n",
      "Empty: 667648654 ROCKING RODGER\n",
      "Empty: 554168625 DESPICABLE RIN\n",
      "Empty: 637973930 BLACKPOOL OAKLEY\n",
      "Empty: 680701722 HIDDEN TIME\n",
      "Empty: 675318972 TARAWI ROCKY\n",
      "Empty: 631792564 CRASH TEST DUMMY\n",
      "Empty: 556215214 REPLICANT\n",
      "Empty: 692975689 DOMINANT FORCE\n",
      "Empty: 654230412 DANA TINY\n",
      "Empty: 667648158 PENNIES FOREVER\n",
      "Empty: 576142031 ALTERCATE\n",
      "Empty: 566431702 GREYSYND BROCKIE\n",
      "Empty: 638803203 SPRITZ\n",
      "Empty: 667648675 SUZIE DUTTON\n",
      "Empty: 638803643 JIMARY INDIANA\n",
      "Empty: 592709607 BUGATTI HYDRO\n",
      "Empty: 572973667 MISUZULU\n",
      "Empty: 677833962 ONE FOR LUCK\n",
      "Empty: 629792087 AROKIN'S WEB\n",
      "Empty: 557435654 THUMPING\n",
      "Empty: 561780902 WYNBURN CALYPSO\n",
      "Empty: 647615772 CLOCK WATCHER\n",
      "Empty: 660800041 ARTHUR CHANCE\n",
      "Empty: 665396142 ZIPPING WHISKEY\n",
      "Empty: 647615151 WYNDRA ALL CLASS\n",
      "Empty: 567734719 ARIES ILLUSION\n",
      "Empty: 656363224 TAP OUT ZOE\n",
      "Empty: 660805038 THAI OAKEY\n",
      "Empty: 675307433 TINY BUTTONS\n",
      "Empty: 556974882 CAN'T CONTROL ME\n",
      "Empty: 550747968 PURNIA BALE\n",
      "Empty: 626191418 TUZLA BALE\n",
      "Empty: 471933003 POETIC FLARE\n",
      "Empty: 638803192 CAHYA\n",
      "Empty: 654231384 VELOCITY ARZEL\n",
      "Empty: 539781408 ASTON CAREY\n",
      "Empty: 645476891 ABLE ZULU\n",
      "Empty: 587949115 CHICAGO DRIVE\n",
      "Empty: 580793376 RED JENNY\n",
      "Empty: 571705129 SPACE CADET\n",
      "Empty: 568419570 ASTON WHISKY\n",
      "Empty: 688394545 FIRESTORM FLYER\n",
      "Empty: 656363234 MONKEY BUSINESS\n",
      "Empty: 580792936 TIGGERLONG INDI\n",
      "Empty: 331407997 HAZEY ROY\n",
      "Empty: 626191901 SPRING PORT\n",
      "Empty: 638802684 MANDALORE\n",
      "Empty: 550407297 DESERT DREAM\n",
      "Empty: 521235399 EYNESBURY FLYER\n",
      "Empty: 667648674 BOWYANG RIP\n",
      "Empty: 600788195 KEITH'S PICK\n",
      "Empty: 556974853 ON THE BEAT\n",
      "Empty: 647615195 MONEY SPIDER\n",
      "Empty: 647615159 MAX ROCHA\n",
      "Empty: 675307435 NIGHT BUTTONS\n",
      "Empty: 620538660 GENUINE RISK\n",
      "Empty: 592709672 TAKE THE CANNOLI\n",
      "Empty: 675318956 BILLY BUTTONS\n",
      "Empty: 587948112 MELLCAT WARRIOR\n",
      "Empty: 620538163 SHROUDED\n",
      "Empty: 647615675 SHAPUR\n",
      "Empty: 587948666 SKYLA BLUE\n",
      "Empty: 564470690 BAROOGA BOY\n",
      "Empty: 566347996 OUT OF AUSSIE\n",
      "Empty: 652334065 NIGHTMARE NED\n",
      "Empty: 669960283 JET SET JACK\n",
      "Empty: 656364268 WILBY LOOSE\n",
      "Empty: 680702231 SANDAVE RICHIE\n",
      "Empty: 652278960 KANIVA SWIFTY\n",
      "Empty: 592709594 NO QUESTIONS\n",
      "Empty: 645795518 GO FORWARD RAY\n",
      "Empty: 614056735 SKEDADDLE DAISY\n",
      "Empty: 629792200 ANGEL BAIL\n",
      "Empty: 650078586 ZIGGY GIRL\n",
      "Empty: 705700160 WHEELING\n",
      "Empty: 705701169 CUPIDITY\n",
      "Empty: 667648646 MIDNIGHT WHISPER\n",
      "Empty: 445020486 ZIPPING CHANDLER\n",
      "Empty: 614057736 BIG GIRL TARO\n",
      "Empty: 718776895 SANTE FE TRAIL\n",
      "Empty: 638803237 ZIPPING SHIFTY\n",
      "Empty: 611215523 LA FERNANDO\n",
      "Empty: 675307440 MR. SOUTHBROOK\n",
      "Empty: 679093543 TARAWI FERRARI\n",
      "Empty: 621003533 MAIL RUN\n",
      "Empty: 638803724 ZIPPING JIMMY\n",
      "Empty: 665430284 TOPPER CREASY\n",
      "Empty: 665430285 TOPPER TSZYU\n",
      "Empty: 645474875 PAINTER OF LIGHT\n",
      "Empty: 718777431 QUEEN LETICIA\n",
      "Empty: 648012444 ALMAGRO FLAME\n",
      "Empty: 638803645 JIMARY TEXAS\n",
      "Empty: 670508375 BLOM MAN\n",
      "Empty: 716345850 SKETCHY IN BY\n",
      "Empty: 669959753 KRYPTO MAIZIE\n",
      "Empty: 629791700 SUBZERO ASH\n",
      "Empty: 654231425 THREE PUTT PAR\n",
      "Empty: 645797104 ACT OF KINDNESS\n",
      "Empty: 677833493 REAL MAGIC\n",
      "Empty: 638803147 JIMARY DECODER\n",
      "Empty: 458036753 FAIRYTALE BLISS\n",
      "Empty: 538578011 KICK IT HOME\n",
      "Empty: 638802652 JIMARY GEORGIA\n",
      "Empty: 555088049 BOMBER STAN\n",
      "Empty: 638803591 HARPER'S DREAM\n",
      "Empty: 461116505 MORIAH BALE\n",
      "Empty: 612861779 JIMMY THE JUDGE\n",
      "Empty: 614056696 POSITIVE ACTION\n",
      "Empty: 645816058 OFF THE CUFF\n",
      "Empty: 640983415 FREE TO DREAM\n",
      "Empty: 629791128 LUCAYAN\n",
      "Empty: 530412744 PANAMA PEPPER\n",
      "Empty: 638803191 SILVER MESSENGER\n",
      "Empty: 644469382 GAGAN SINGLETS\n",
      "Empty: 707215112 KEYLIN\n",
      "Empty: 647616158 GET JUAN\n",
      "Empty: 650078142 SPEEDY SUNNY\n",
      "Empty: 656364257 SALEM SWEETHEART\n",
      "Empty: 609359805 AMBITIOUS BLONDE\n",
      "Empty: 643634710 WINDALE MAGICIAN\n",
      "Empty: 663003461 DJANGO UNLEASHED\n",
      "Empty: 609519611 PAUA TO CONTEST\n",
      "Empty: 597888891 ASTON COGNAC\n",
      "Empty: 658345567 LUTHERMAN\n",
      "Empty: 592711140 NICOLSON BALE\n",
      "Empty: 592711158 PALERMO STING\n",
      "Empty: 540632151 NATIONAL GAME\n",
      "Empty: 502931856 MCINERNEY\n",
      "Empty: 633121294 THROTTLE\n",
      "Empty: 415994929 FLY FOR TRIX\n",
      "Empty: 474128367 TSAR BELL\n",
      "Empty: 583222622 MORAINE SUZIE\n",
      "Empty: 400455359 HIGHLAND WONDER\n",
      "Empty: 415996467 KNOW KEEPER\n",
      "Empty: 540632150 NATIONAL SUNSET\n",
      "Empty: 592709067 DUSTY BOURBSKI\n",
      "Empty: 698472172 SASSY MS. MINX\n",
      "Empty: 645795570 SKETCHY DARLIN'\n",
      "Empty: 663003882 THIRD ELEMENT\n",
      "Empty: 633121723 FIRE AND GRACE\n",
      "Empty: 587949075 LACHLAN'S BEAUTY\n",
      "Empty: 576142010 CHERI MOUSE\n",
      "Empty: 660800538 HOOKED ON RACHEL\n",
      "Empty: 660800536 HOOKED ON SAL\n",
      "Empty: 641008016 SELDOM FROSTY\n",
      "Empty: 675318990 FIGHTING HARADA\n",
      "Empty: 525210929 TYLA'S GIRL\n",
      "Empty: 570991722 REIKO MINI\n",
      "Empty: 638802718 BIONIC BLUES\n",
      "Empty: 501435371 EASY STREET\n",
      "Empty: 555189175 LET IT RAIN\n",
      "Empty: 647615251 ICENI KYOJIN\n",
      "Empty: 572702623 PAROLE\n",
      "Empty: 647615252 ICENI ARASHI\n",
      "Empty: 524387691 BULLYING\n",
      "Empty: 489997550 DANIEL SUN\n",
      "Empty: 524392700 HIRING\n",
      "Empty: 379298585 DEMOLITION\n",
      "Empty: 482775705 MOLLY BLINDERS\n",
      "Empty: 609015109 IMMENSE\n",
      "Empty: 638803700 JACKIE KEEPING\n",
      "Empty: 638803709 BE FREAKY\n",
      "Empty: 647615751 ICENI KESSEKI\n",
      "Empty: 540632120 EMERLEY BRUCE\n",
      "Empty: 540582033 EMERLEY POIDA\n",
      "Empty: 438202658 ANOTHER EASY\n",
      "Empty: 558491843 LITTLE IN LOVE\n",
      "Empty: 679093566 MY LUCY ROSE\n",
      "Empty: 675318996 FOUR YOU\n",
      "Empty: 656363630 MY DAY\n",
      "Empty: 629791092 TINA WENT OFF\n",
      "Empty: 620539130 WHY TELL TINA\n",
      "Empty: 660799978 SIRIUS CUDDLES\n",
      "Empty: 656363806 CHASING DRAGONS\n",
      "Empty: 660804989 SIRIUS THINKING\n",
      "Empty: 677865065 ANGELIC TESS\n",
      "Empty: 587949210 KING PLUTO\n",
      "Empty: 660799980 SIRIUS PSYCHO\n",
      "Empty: 611215018 CHOPPER ON FIRE\n",
      "Empty: 647615661 KNOW JUAN\n",
      "Empty: 656363765 WELLS OF SILENCE\n",
      "Empty: 663002925 CECIL'S SISTER\n",
      "Empty: 663003468 SWEET CITY GAL\n",
      "Empty: 643716864 RECALIBRATE\n",
      "Empty: 645812553 WOVEN MAGIC\n",
      "Empty: 592709141 BOKARM BULL\n",
      "Empty: 614057797 TRIANGLE\n",
      "Empty: 698471673 SHE PICKED ME\n",
      "Empty: 629791590 IDENTITY\n",
      "Empty: 656363631 ALLOWED TO DREAM\n",
      "Empty: 606760686 ANJO PANDA\n",
      "Empty: 520935296 TOUCH OF MINT\n",
      "Empty: 702436119 KEEP ON RUNNING\n",
      "Empty: 710477855 SIR BANJO\n",
      "Empty: 558491889 BRILLIANT LOMAR\n",
      "Empty: 620538122 RUN AROUND TINA\n",
      "Empty: 518714359 ASTON GALAXY\n",
      "Empty: 562122505 MAGICAL MAVIS\n",
      "Empty: 656363113 APACHE LION\n",
      "Empty: 718777399 NO MATTER WHAT\n",
      "Empty: 792289188 PALAWA QUEEN\n",
      "Empty: 656363123 KINGSBRAE BEACH\n",
      "Empty: 647615194 EXPLORE MORE\n",
      "Empty: 510730934 MISS SNIPER\n",
      "Empty: 675307073 EBBY VON\n",
      "Empty: 620539138 ZINZAN CHOPPER\n",
      "Empty: 647615756 ICENI JUDA\n",
      "Empty: 675307575 EBBY FLAME\n",
      "Empty: 675319124 EBBY HISTORIAN\n",
      "Empty: 538999353 SPELL CHECK\n",
      "Empty: 675319129 OBSESSIVE DREAMS\n",
      "Empty: 520643268 SNORKERS\n",
      "Empty: 570887500 LACEY INTENTION\n",
      "Empty: 552733764 TEARDROP EXPLODE\n",
      "Empty: 656363232 I'M ON TILT\n",
      "Empty: 675307072 EBBY COLLERSON\n",
      "Empty: 479146451 PARTY DOLL\n",
      "Empty: 552768843 GRETA FLASH\n",
      "Empty: 656363821 MAGPIE MISS\n",
      "Empty: 638803095 BUNDY BILL\n",
      "Empty: 539779405 NARCISSUS\n",
      "Empty: 575326861 IMPACTUS\n",
      "Empty: 639106169 PAUL'S GIRL\n",
      "Empty: 645796110 BRUTUS MAXIMUS\n",
      "Empty: 592709570 HELPING HANDS\n",
      "Empty: 663002863 ALL LIT UP\n",
      "Empty: 667302452 BOA VISTA\n",
      "Empty: 718777717 ALL THAT GLITZ\n",
      "Empty: 660800043 HOT AUSSIE\n",
      "Empty: 562117499 LUSSIANA BOY\n",
      "Empty: 631792563 ONLY OLLIE\n",
      "Empty: 638803716 ZIPPING SHEENA\n",
      "Empty: 520620766 VAL'S MEMORY\n",
      "Empty: 663003394 BUCK'S UNCLE\n",
      "Empty: 623289595 ALCATRAZ FLASH\n",
      "Empty: 638803686 AUBURN LEE\n",
      "Empty: 638803711 ZIPPING ABIGAIL\n",
      "Empty: 488894852 BACK MOO MOO\n",
      "Empty: 650079096 NINJA MAC\n",
      "Empty: 656363276 RUSHFORTH ALLY\n",
      "Empty: 638803184 BURRINGBAR GYPSY\n",
      "Empty: 573720651 SPENSER FRANKLIN\n",
      "Empty: 670508407 NITRO JAX\n",
      "Empty: 710534471 BUSTER BANJO\n",
      "Empty: 707108406 PRINCESS KEEVARA\n",
      "Empty: 643584606 TAMMY TURBO\n",
      "Empty: 702436613 SPEEDING FINE\n",
      "Empty: 654230362 JOLENE JOLENE\n",
      "Empty: 634935404 HIDDEN DAZZLE\n",
      "Empty: 685380607 SURE AS OAK\n",
      "Empty: 542367587 JEBRYNAH SOL\n",
      "Empty: 647615748 AUTUMN BELLE\n",
      "Empty: 654230367 LOVES A TIPPLE\n",
      "Empty: 550764832 COOK THE NOODLE\n",
      "Empty: 638803739 PEN PAUL\n",
      "Empty: 663002924 KINLOCH BABE\n",
      "Empty: 682084449 WHITE LIAR\n",
      "Empty: 540582540 NATIONAL AMBER\n",
      "Empty: 638802714 JANE KEEPING\n",
      "Empty: 611215518 ATTACK A WHACKER\n",
      "Empty: 707214606 MONKEY PAW\n",
      "Empty: 645796080 SKETCHY SHUFFLES\n",
      "Empty: 552236784 EXTREME FORCE\n",
      "Empty: 514260500 SET ME FREE\n",
      "Empty: 587841340 WHO TOLD SHORTY\n",
      "Empty: 573677072 KYSAIAH\n",
      "Empty: 672316470 ELECTRIC LAD\n",
      "Empty: 570983704 SLINGSHOT RUSTY\n",
      "Empty: 634238448 TUTU TO TUTU\n",
      "Empty: 587949133 KNIGHTON BOLT\n",
      "Empty: 663003395 ON MY WAY\n",
      "Empty: 597592801 AMRON BOY\n",
      "Empty: 591660493 FAYLEE\n",
      "Empty: 663003388 COSMIC FRANKY\n",
      "Empty: 637972966 ARES RISING\n",
      "Empty: 561781985 PEYTON'S PUZZLE\n",
      "Empty: 689777813 REAL STEEL\n",
      "Empty: 710478246 SOPHIE GIRL\n",
      "Empty: 571647522 FALIMA\n",
      "Empty: 638803143 JIMARY MONTANA\n",
      "Empty: 707108404 NUMB\n",
      "Empty: 677833611 FLY HIGH BIM\n",
      "Empty: 629791164 TWIST TOP\n",
      "Empty: 645476906 TRIPLE PSYCHO\n",
      "Empty: 694776836 DAMAGE\n",
      "Empty: 677833610 ARIA'S DREAM\n",
      "Empty: 647615650 PEACE KEEPER\n",
      "Empty: 609519633 COPPER BLONDE\n",
      "Empty: 647615678 FAR TOO FAR\n",
      "Empty: 710477705 MINMI EXPRESS\n",
      "Empty: 645499435 UNACCEPTABLE AL\n",
      "Empty: 638803718 ZIPPING BEAR\n",
      "Empty: 647615167 WRONG JUAN\n",
      "Empty: 592711145 RHINO BUSTER\n",
      "Empty: 669959777 COUNTRY CODE\n",
      "Empty: 666672187 BOOBOOK\n",
      "Empty: 705700668 KINGS OF DIVAS\n",
      "Empty: 592711144 DOUBLE THE CASH\n",
      "Empty: 663002933 ROCKY BANNER\n",
      "Empty: 656363768 GOOD ODDS CARLA\n",
      "Empty: 694776835 MIA SHE'S FAST\n",
      "Empty: 665371655 TOPPER BLOOM\n",
      "Empty: 714917074 ROCKSTAR ATONIA\n",
      "Empty: 645795594 TWIST AND SHAKE\n",
      "Empty: 663002962 COMET A COST\n",
      "Empty: 669959289 DDAJKI\n",
      "Empty: 669959293 HIGH FLUX\n",
      "Empty: 663003428 NANDO BANNER\n",
      "Empty: 669960293 UNTROUBLED\n",
      "Empty: 647615157 MAKE MINE SCOTCH\n",
      "Empty: 634935381 NANGAR PEARL\n",
      "Empty: 656363277 WILSON'S PICK\n",
      "Empty: 629791647 CHASE ME LADY\n",
      "Empty: 663003923 MISSY BANNER\n",
      "Empty: 623992501 GENTLE SOUL\n",
      "Empty: 650078067 EMERALD PEARL\n",
      "Empty: 656364219 GOLLY GOSH RAJA\n",
      "Empty: 656363180 PERJURY\n",
      "Empty: 692983705 SOUL UNLEASHED\n",
      "Empty: 561781890 YASS QUEEN\n",
      "Empty: 656364220 TALKING RAJA\n",
      "Empty: 634936364 JACK'S BROCKIE\n",
      "Empty: 647616154 FALSE CONFIDENCE\n",
      "Empty: 359199983 KISS AND CUT\n",
      "Empty: 654231435 MODERN SWINGER\n",
      "Empty: 360994562 FERNANDO BEACH\n",
      "Empty: 677865067 HALF MAGIC\n",
      "Empty: 654230431 BUNDY TRAVELLER\n",
      "Empty: 629791613 GOLDEN WINNIE\n",
      "Empty: 374382771 WELL GROUNDED\n",
      "Empty: 317760259 PROVIDENCE BALE\n",
      "Empty: 359199986 KISS AND SPIN\n",
      "Empty: 630998981 ELARBEE MENDES\n",
      "Empty: 555068999 INTEGRITY SON\n",
      "Empty: 576142033 EDUCATE\n",
      "Empty: 633120764 XARENI BALE\n",
      "Empty: 675307102 NOON DAY SUN\n",
      "Empty: 629791660 CHOSEN\n",
      "Empty: 663003457 CHEVY LOWRIDER\n",
      "Empty: 550764834 OUR BONNIE GIRL\n",
      "Empty: 645796106 BE MY EXPRESS\n",
      "Empty: 611215538 PLAY NICE\n",
      "Empty: 623911845 OSPREY STORM\n",
      "Empty: 534920710 EMANI BALE\n",
      "Empty: 644832597 FIRST PICKED\n",
      "Empty: 561781989 EDDIE MUNSTER\n",
      "Empty: 694775810 LITTLE VENUS\n",
      "Empty: 634935443 FEDERAL RED\n",
      "Empty: 675307087 GET 'EM TALKING\n",
      "Empty: 576142514 FIRE UP FERNANDO\n",
      "Empty: 665396171 CANYA SIDE KICK\n",
      "Empty: 618429895 WITTY\n",
      "Empty: 521258466 RAPTOR\n",
      "Empty: 461115047 TYBALT BALE\n",
      "Empty: 524392702 LONELINESS\n",
      "Empty: 638803226 ZIPPING TINK\n",
      "Empty: 638803693 DARK AMBER\n",
      "Empty: 577699097 TRIP HAZARD\n",
      "Empty: 534921221 WAYLIN BALE\n",
      "Empty: 656363764 GOOD ODDS RASCAL\n",
      "Empty: 638803723 ZIPPING MORK\n",
      "Empty: 710477703 TINY SARAH\n",
      "Empty: 614057203 LEXI DAZZLE\n",
      "Empty: 629791586 LORD ABILITY\n",
      "Empty: 629791633 LOMANDRA\n",
      "Empty: 689766329 ZANONI\n",
      "Empty: 677865146 TITAN'S GIRL\n",
      "Empty: 679093512 LUNA SOL\n",
      "Empty: 629792166 RIGHT ANGLE\n",
      "Empty: 667700775 PRECIOUS HONEY\n",
      "Empty: 716368387 TIGGERLONG AMY\n",
      "Empty: 689766788 NOTORIOUS HARADA\n",
      "Empty: 716345854 TIGGERLONG HONEY\n",
      "Empty: 635950363 DONE OVER\n",
      "Empty: 636706878 CITY BABE\n",
      "Empty: 619722480 SHE'S THE RITZ\n",
      "Empty: 675307092 SUNRISE SURPRISE\n",
      "Empty: 515297571 ZIPPING GOMEZ\n",
      "Empty: 645474878 UNACCEPTABLE BRO\n",
      "Empty: 650079095 EBONY MOSS\n",
      "Empty: 637972963 VILLAGE LANE\n",
      "Empty: 587948606 SECRET RUBY\n",
      "Empty: 645795595 BE MY OREO\n",
      "Empty: 694775828 SKI SLOPE\n",
      "Empty: 573405526 MAXIMUM STELLA\n",
      "Empty: 607082760 HIGH SEAS\n",
      "Empty: 572974718 RUSSIAN DYLAN\n",
      "Empty: 694775832 SUNNY PACK\n",
      "Empty: 643735903 RUFUS BLOWTORCH\n",
      "Empty: 643634707 CALIBRE ZEUS\n",
      "Empty: 654230428 AMARTEY PARTY\n",
      "Empty: 592709575 TUMBLING DICE\n",
      "Empty: 654230445 GREEK MALT\n",
      "Empty: 660805082 INDIAN WELLS\n",
      "Empty: 544009350 CLONED\n",
      "Empty: 491585727 CAWBOURNE PIN\n",
      "Empty: 587948054 FURIOUS FRANK\n",
      "Empty: 515297551 RASPBERRY KISS\n",
      "Empty: 563717693 SHADY LUNA\n",
      "Empty: 528675744 FLORENTINO\n",
      "Empty: 655389169 MARIONVALE GAL\n",
      "Empty: 647616150 LACHLAN'S MISS\n",
      "Empty: 634935852 ROYAL MATE\n",
      "Empty: 633120784 BETTY MAYO\n",
      "Empty: 556974802 ZIPPING DUDLEY\n",
      "Empty: 570983707 SLINGSHOT AVRIL\n",
      "Empty: 647615153 MIDNIGHT MASH\n",
      "Empty: 611215013 NOT OUR GLENN\n",
      "Empty: 689766807 CHATHAM ROSE\n",
      "Empty: 647616254 WHAT A RUSH\n",
      "Empty: 647616211 ACTIVE THOR\n",
      "Empty: 665371649 PENA\n",
      "Empty: 675307470 DEVEREUX\n",
      "Empty: 656364134 DOUBLE BEACH\n",
      "Empty: 663377617 KNIGHTED RAVEN\n",
      "Empty: 714917492 ARROGANT OSCAR\n",
      "Empty: 716345347 SHAQ OWES\n",
      "Empty: 647615274 JUST FOXING\n",
      "Empty: 623992499 DUSTIN DIESEL\n",
      "Empty: 592709652 TINY WILLOW\n",
      "Empty: 670508374 ANGEL OF HOPE\n",
      "Empty: 667700778 WHO SPLIT TENS\n",
      "Empty: 667700776 ROMAN'S KNOW\n",
      "Empty: 629791132 GYPSY JOKER\n",
      "Empty: 620126278 TURBO BROCKIE\n",
      "Empty: 637972964 KRATOS RISING\n",
      "Empty: 677865115 BLUE ALLEY\n",
      "Empty: 609519649 COMB OVER\n",
      "Empty: 670578483 ALLIGATOR BLACK\n",
      "Empty: 647615211 MAGIC'S CHANCE\n",
      "Empty: 620538107 CLEVER CLASSIC\n",
      "Empty: 655607598 HAPPY HERBIE\n",
      "Empty: 654230883 ARCTIC CHIEF\n",
      "Empty: 546256843 RIO BAILEY\n",
      "Empty: 634935856 ZAMBORA FLETCH\n",
      "Empty: 647615725 ISN'T SIMPLE\n",
      "Empty: 655607602 SWEET ZAMBORA\n",
      "Empty: 623365746 STOLEN JADE\n",
      "Empty: 629791642 CHASE ME WAL\n",
      "Empty: 656363209 FOLLOW ME RAJA\n",
      "Empty: 656363744 KAJAL RANI\n",
      "Empty: 609519650 LAILA HERRERA\n",
      "Empty: 663003890 COSMIC NELL\n",
      "Empty: 660804991 TEAPOT SCANDAL\n",
      "Empty: 656363777 AUSSIE OPHIRA\n",
      "Empty: 669959280 FLIGHT LINE\n",
      "Empty: 654230449 GREEK INQUISITOR\n",
      "Empty: 561782103 XUN BALE\n",
      "Empty: 705701195 TINY BROCKIE\n",
      "Empty: 670507885 AWESOME WORLD\n",
      "Empty: 677833580 ZIPPING VIENNA\n",
      "Empty: 666046440 CLOWN OF CLASS\n",
      "Empty: 694776332 LADY ROCKER\n",
      "Empty: 614057794 FOUR JOANS\n",
      "Empty: 619722471 BLACK ABBOTT\n",
      "Empty: 647615663 JUAN WAY\n",
      "Empty: 710534333 ROLLED YOU\n",
      "Empty: 643291017 STUMBLE BUMBLE\n",
      "Empty: 471932990 BLACKPOOL COCO\n",
      "Empty: 530412235 CANYA BETH\n",
      "Empty: 647615185 COSMIC BEAST\n",
      "Empty: 675306962 SHE'S TRENDY\n",
      "Empty: 634936482 BOMBER CARNEY\n",
      "Empty: 629792102 MASTER MILLIGAN\n",
      "Empty: 530412731 CYCLONE JENNY\n",
      "Empty: 545825475 BASMATI\n",
      "Empty: 589197550 LAMONICA\n",
      "Empty: 525210899 READY RETURN\n",
      "Empty: 563710677 CHASIN' JAX\n",
      "Empty: 572973739 ALL PALAVER\n",
      "Empty: 589197548 KALYARA\n",
      "Empty: 614057201 EBONY TRALEE\n",
      "Empty: 675319004 VALLIE ROSE\n",
      "Empty: 707215247 TRALEE WOLF\n",
      "Empty: 589197545 OL' HARLAN\n",
      "Empty: 623289598 COOKIE COTTON\n",
      "Empty: 644453354 MIDGET ZEAL\n",
      "Empty: 589197552 KYANNA\n",
      "Empty: 680701262 WHISKEY COBBLER\n",
      "Empty: 667648635 KISS ME KEV\n",
      "Empty: 692975694 TRIPPIN' TURTLE\n",
      "Empty: 614057706 VALPARASIO\n",
      "Empty: 677833559 SPRING CEDAR\n",
      "Empty: 660805079 JASPER KIMETTO\n",
      "Empty: 648063043 JELLYBEAN JINGLE\n",
      "Empty: 710477889 HONEY KEEPING\n",
      "Empty: 654230418 BLACK TWENTY\n",
      "Empty: 679825473 SKETCHY DELIVER\n",
      "Empty: 479145927 WINLOCK WIGHTON\n",
      "Empty: 688395559 SPRING BART\n",
      "Empty: 692976186 ONE WAY STREET\n",
      "Empty: 710478413 PEPPER KEEPING\n",
      "Empty: 677865105 SPRING FERN\n",
      "Empty: 589197543 YALLAROO\n",
      "Empty: 645797068 SKETCHY COMRADE\n",
      "Empty: 705700128 TRALEE CRUISER\n",
      "Empty: 718777212 LITTLE PATIENCE\n",
      "Empty: 667700825 BIG ROCK BURUMA\n",
      "Empty: 654230868 THINK ON THIS\n",
      "Empty: 714917570 SUPER KEEN\n",
      "Empty: 714918055 MY HEPBURN\n",
      "Empty: 710534511 ROGER THE DODGER\n",
      "Empty: 677833557 SPRING ROWAN\n",
      "Empty: 666046438 LONDONDERRY LADY\n",
      "Empty: 614057705 DANCE OFF DIVA\n",
      "Empty: 660800057 FINE SCOTCH\n",
      "Empty: 670508873 REMEMBER ALWAYS\n",
      "Empty: 640276998 BILLY BURNER\n",
      "Empty: 714916991 ARROGANT PHOENIX\n",
      "Empty: 688394548 SPRING BLESSING\n",
      "Empty: 714917996 ARROGANT BAILEY\n",
      "Empty: 714917042 BLUE JEAN\n",
      "Empty: 707214612 ASKEY\n",
      "Empty: 638802623 CASH GRAB\n",
      "Empty: 677833593 SPRING BOOROWA\n",
      "Empty: 669959791 SPLIT AND STACK\n",
      "Empty: 647616176 RAGGLE TAGGLE\n",
      "Empty: 644453353 ZEAL SURPRISE\n",
      "Empty: 689777854 SANDAVE BAER\n",
      "Empty: 669959778 KING'S COURT\n",
      "Empty: 550407285 MY GOLD\n",
      "Empty: 570178081 THAT'LL DO NEO\n",
      "Empty: 677865139 ZIPPING BURGER\n",
      "Empty: 647616235 BRYNNER\n",
      "Empty: 511989940 STARLIGHT PLUTO\n",
      "Empty: 695984770 TAKE MY BET\n",
      "Empty: 679825475 PINKY KNIGHT\n",
      "Empty: 651052006 SPEEDY PEBBLES\n",
      "Empty: 611215050 WHISKEY DIVA\n",
      "Empty: 692983703 REX MANIA\n",
      "Empty: 675306960 THUNDER JETT\n",
      "Empty: 678239774 MYSTIC JAZZ\n",
      "Empty: 678214226 MYSTIC SARAH\n",
      "Empty: 674854522 SILVER MEGHAN\n",
      "Empty: 631806099 MYSTIC BINDI\n",
      "Empty: 680701218 VANITY GOLD\n",
      "Empty: 656363236 HOLD IT\n",
      "Empty: 580794282 COOL HAUNTING\n",
      "Empty: 586281730 SEMANTIC REGENT\n",
      "Empty: 629792167 MY MATE NATE\n",
      "Empty: 633121784 YARROW BALE\n",
      "Empty: 695962740 FIREBALL NIGHT\n",
      "Empty: 650079168 GET TO WORK\n",
      "Empty: 597978591 IRINKA URSULA\n",
      "Empty: 597978592 IRINKA XANTHE\n",
      "Empty: 654230395 HOT NUGGET\n",
      "Empty: 592711075 SASSY BOURBSKI\n",
      "Empty: 663002952 TARAWI LOCK STAR\n",
      "Empty: 629792208 BINGO FUEL\n",
      "Empty: 656363179 PROSECUTE\n",
      "Empty: 667648759 MY REPUTATION\n",
      "Empty: 654230907 SALLY BE FAST\n",
      "Empty: 654230387 VELOCITY STEVIE\n",
      "Empty: 667700773 RAINBOW PRIDE\n",
      "Empty: 677833976 FANTASTIC TOMMY\n",
      "Empty: 578900011 TURN BACK TIME\n",
      "Empty: 556974964 SWAY MY WAY\n",
      "Empty: 665430278 NUNES\n",
      "Empty: 702436175 JAKE AND JAMEY\n",
      "Empty: 679093483 LIZZIE LOU\n",
      "Empty: 675319116 READY TO JIGGLE\n",
      "Empty: 710478236 TINY POLO\n",
      "Empty: 651052012 PRINCESS BABY\n",
      "Empty: 675307573 READY TO WIGGLE\n",
      "Empty: 650078666 HURRIED\n",
      "Empty: 552733765 WHERE'S HERBIE\n",
      "Empty: 710534439 DOM JUAN\n",
      "Empty: 629792117 LARSON'S ROCKET\n",
      "Empty: 679093535 ZIPPING DIGBY\n",
      "Empty: 630424333 EARN THE ARREST\n",
      "Empty: 546245818 DAISY A DAY\n",
      "Empty: 597979123 STEEL HAWK\n",
      "Empty: 576142013 SASH EXPRESS\n",
      "Empty: 663002955 MASON HERE\n",
      "Empty: 637973473 EMBER LAD\n",
      "Empty: 656363174 VELOCITY ELSIE\n",
      "Empty: 667648179 MADDIE DUTTON\n",
      "Empty: 658345569 ALTHEA RUTH\n",
      "Empty: 656363629 JOSHUA'S WHISPER\n",
      "Empty: 689766285 CHASIN' FREDDY\n",
      "Empty: 563710675 SYCAMORE TOOLEY\n",
      "Empty: 565612976 MAZARRON\n",
      "Empty: 714917041 TWIN TURBO\n",
      "Empty: 645795526 MY PAYMASTER\n",
      "Empty: 592711095 BOWEN DRIVE\n",
      "Empty: 674854520 SILVER LILLY\n",
      "Empty: 552153616 DREAMING LOLA\n",
      "Empty: 694776301 SUPREME TIGER\n",
      "Empty: 656363756 ACTIVE OPAL\n",
      "Empty: 524599111 PECCAVI\n",
      "Empty: 606760658 WILDASH BOOMER\n",
      "Empty: 592709142 BOKARM SASSY\n",
      "Empty: 695963220 REACH AROUND\n",
      "Empty: 675307444 WILD AMIGO\n",
      "Empty: 695962736 FOOL AROUND\n",
      "Empty: 675306944 THURSDAY ISLAND\n",
      "Empty: 672072965 SLINGSHOT XENA\n",
      "Empty: 672072963 SLINGSHOT VINNY\n",
      "Empty: 716368381 SCOOBY SIREN\n",
      "Empty: 638803218 JANET KEEPING\n",
      "Empty: 716368382 RIPPER SNIPPER\n",
      "Empty: 672072964 SLINGSHOT FLARE\n",
      "Empty: 689766786 ORANMORE\n",
      "Empty: 695962671 NINJA NORM\n",
      "Empty: 716345353 TIGGERLONG ZAP\n",
      "Empty: 638802598 SUMMER SET\n",
      "Empty: 692976195 TWISTED EGO\n",
      "Empty: 634935949 FEDERAL GHOST\n",
      "Empty: 675307100 NORAH SUNRISE\n",
      "Empty: 634935447 FEDERAL MISSY\n",
      "Empty: 685379595 EDWARD TEACH\n",
      "Empty: 689777811 PRINCE MAJESTIC\n",
      "Empty: 675307588 WASABI\n",
      "Empty: 695963218 SPIN AROUND\n",
      "Empty: 595041711 FLYING NOODLES\n",
      "Empty: 647616190 DOUBLE BAROQUE\n",
      "Empty: 647616236 MUMBLE BUG\n",
      "Empty: 629791149 CHASE ME BOY\n",
      "Empty: 695984768 BEND AROUND\n",
      "Empty: 586281732 SEMANTIC LADY\n",
      "Empty: 603189502 WERINA SHADOW\n",
      "Empty: 645796081 ADELE AMOUR\n",
      "Empty: 635016001 FUNKY MUSIC\n",
      "Empty: 587805270 LOVES TO TALK\n",
      "Empty: 645797077 SCARLETT'S GEM\n",
      "Empty: 667700830 WILD WHEELS\n",
      "Empty: 677865127 ZIPPING BESTOW\n",
      "Empty: 634935345 JIMMY BALE\n",
      "Empty: 561781013 ICARUS BALE\n",
      "Empty: 692976203 NORDIC SHIRAZ\n",
      "Empty: 672069462 SLINGSHOT PENNY\n",
      "Empty: 672317468 CUTTIN' GRASS\n",
      "Empty: 658141158 UNO WHISKEY\n",
      "Empty: 670508861 CAWBOURNE OSCAR\n",
      "Empty: 718777756 CAWBOURNE GINGER\n",
      "Empty: 689766785 CHASING ANDY\n",
      "Empty: 714917581 CAWBOURNE STELLA\n",
      "Empty: 563717690 SYCAMORE SARAH\n",
      "Empty: 550764831 MEMPHIS ROCK\n",
      "Empty: 667302450 SPRINGVIEW BUST\n",
      "Empty: 669959264 OH PAPA\n",
      "Empty: 667700831 SMILEY SPARKLES\n",
      "Empty: 707215114 OKEY\n",
      "Empty: 638803561 STUCK IN MUD\n",
      "Empty: 669959266 SWIFT TWIST\n",
      "Empty: 629791168 PERFECT HUNTER\n",
      "Empty: 680702241 PATCHY RUM\n",
      "Empty: 680702238 HOOKED ON RUM\n",
      "Empty: 656363214 BOOK OF LOVE\n",
      "Empty: 629792148 CASHED UP ASHTON\n",
      "Empty: 592709090 TROUBLE MAKER\n",
      "Empty: 707108407 DENNY'S GIRL\n",
      "Empty: 614057707 MISS OVER REACT\n",
      "Empty: 663003467 OSCAR RUTH\n",
      "Empty: 572578389 URANA BLAZER\n",
      "Empty: 644453344 BLUE ZEAL\n",
      "Empty: 680702242 JOHNNY RED\n",
      "Empty: 667700829 RIVERINA KNIGHT\n",
      "Empty: 700930590 WHIRLWIND ETHICS\n",
      "Empty: 647616164 WINLOCK BOOTS\n",
      "Empty: 672069464 SLINGSHOT ROXY\n",
      "Empty: 647615177 WINLOCK BENJI\n",
      "Empty: 642558553 SIENNA'S PICK\n",
      "Empty: 716345848 RIVER CITY\n",
      "Empty: 530411857 MISS RIVER\n",
      "Empty: 685380578 MINT FREEZE\n",
      "Empty: 680701723 GOODOO GIRL\n",
      "Empty: 634935458 ON CREDIT\n",
      "Empty: 638803099 CORLEONE MAGIC\n",
      "Empty: 534590553 SWEET STELLA\n",
      "Empty: 597979072 OUR MAN SLIM\n",
      "Empty: 638803574 TRICKY TOODLES\n",
      "Empty: 540632272 BOOMING ROCK\n",
      "Empty: 718776693 LIGHTEN UP\n",
      "Empty: 705701209 COIGHT\n",
      "Empty: 654231383 ENTRUSTED\n",
      "Empty: 707214746 BLACK BEAST\n",
      "Empty: 660800490 SOLO FERNANDO\n",
      "Empty: 660800489 FREDDY FERNANDO\n",
      "Empty: 660800488 JAI COOL GUY\n",
      "Empty: 611215014 HEART OF GARTH\n",
      "Empty: 645797079 COPPER POWER\n",
      "Empty: 665430249 CONNOR'S COMET\n",
      "Empty: 689766816 MY SHEPHERD\n",
      "Empty: 685380527 POST THE ZIPPER\n",
      "Empty: 650078097 TAKE THE MICKEY\n",
      "Empty: 669960275 MISS AQUAHOLIC\n",
      "Empty: 635302571 TEARS OF JOY\n",
      "Empty: 716368383 HE'S NAUGHTY\n",
      "Empty: 663002960 AKII PRINCESS\n",
      "Empty: 611215516 GARTH ATTACK\n",
      "Empty: 689766292 FRAMALDA\n",
      "Empty: 645796108 UNLEASH RINGO\n",
      "Empty: 654231430 TURBO PERCY\n",
      "Empty: 714917070 QUEEN IDYA\n",
      "Empty: 637972930 NERA HERRERA\n",
      "Empty: 675307090 EMA ROCK\n",
      "Empty: 714918091 JET KEEN\n",
      "Empty: 660804995 STUNNING CHICK\n",
      "Empty: 698471671 DUSTY DYLAN\n",
      "Empty: 667648156 PENITENTIARY\n",
      "Empty: 645795523 HE'S A PAYMASTER\n",
      "Empty: 654231433 SPLIT DECISION\n",
      "Empty: 698471160 SIN BIN SAMMY\n",
      "Empty: 675306942 FRANK THE TANK\n",
      "Empty: 650079094 EBONY PANDA\n",
      "Empty: 665371653 TOPPER SWAYE LOW\n",
      "Empty: 660799984 GOT THE FEATURE\n",
      "Empty: 656364222 SAM DOES IT\n",
      "Empty: 667648684 WAR HAWK\n",
      "Empty: 714917029 LOOSE DEAL\n",
      "Empty: 647616179 VOODOO BEAST\n",
      "Empty: 677833564 ZIPPING LUDA\n",
      "Empty: 710534331 MIGHTY MINERS\n",
      "Empty: 707214626 SHE'S NEXT LEVEL\n",
      "Empty: 623365761 JAMALA\n",
      "Empty: 667648143 OKEECHOBEE ROAD\n",
      "Empty: 702435647 THRILL\n",
      "Empty: 677833566 ZIPPING ANGIE\n",
      "Empty: 714917576 HEROIC KING\n",
      "Empty: 718776684 RED ROLEX\n",
      "Empty: 620539133 ZIPPER PATROL\n",
      "Empty: 690783812 ROCKY REEF\n",
      "Empty: 669959766 MISTER MOON\n",
      "Empty: 623289597 OUR GIRL PEPPER\n",
      "Empty: 700930616 FRISKY FELON\n",
      "Empty: 710478366 NANGAR ZEKE\n",
      "Empty: 714918100 ROCKSTAR RAJ\n",
      "Empty: 669959767 OH BETTY\n",
      "Empty: 714918097 FUNNY BUSINESS\n",
      "Empty: 675307506 LIVE STREAM\n",
      "Empty: 592709653 MILKMAN MAV\n",
      "Empty: 647615727 BLAZE A TRAIL\n",
      "Empty: 667648686 SAL'S BLUE BOY\n",
      "Empty: 634936353 KERRY\n",
      "Empty: 689766327 FLY TOM\n",
      "Empty: 675307508 NARKUNDA\n",
      "Empty: 670508352 LIBERTY VALANCE\n",
      "Empty: 620538120 ONCE AGAIN\n",
      "Empty: 667648190 UZMAN DUTTON\n",
      "Empty: 634936350 BOKARM LUCKY\n",
      "Empty: 656363295 KINGSBRAE DEMON\n",
      "Empty: 566431619 CAPTAIN'S STASH\n",
      "Empty: 623993499 SEDUCTIVE ANGEL\n",
      "Empty: 656364287 COCO BUNDOCK\n",
      "Empty: 680701715 KOORINGA JACK\n",
      "Empty: 672316968 MR. FAVOUR\n",
      "Empty: 623992995 HIGH RANGE\n",
      "Empty: 672317467 UNQUENCHABLE\n",
      "Empty: 694776819 STARLINE EXPRESS\n",
      "Empty: 592709143 BOKARM STUMPY\n",
      "Empty: 694775816 BELLA SENSATION\n",
      "Empty: 656363820 DEMON KINGSBRAE\n",
      "Empty: 667700767 WHISKY DUTTON\n",
      "Empty: 667648673 PAXTON DUTTON\n",
      "Empty: 680701208 KOORINGA MAGIC\n",
      "Empty: 592709140 BOKARM ARROW\n",
      "Empty: 695984713 BYE BYE RAIDER\n",
      "Empty: 667700769 ALL LIES AHEAD\n",
      "Empty: 556974382 CLOVER ROMEO\n",
      "Empty: 685380604 ANYHOW LENNY\n",
      "Empty: 714918093 FLYING PIG\n",
      "Empty: 592711073 BUT IT POURS\n",
      "Empty: 587948610 MISS INDI\n",
      "Empty: 672316956 WE'RE GOOD\n",
      "Empty: 647615165 LUCKY ROMY\n",
      "Empty: 647615212 BECKER'S CHANCE\n",
      "Empty: 692975696 NO INVITE\n",
      "Empty: 655389166 MARIONVALE TIGER\n",
      "Empty: 718776688 STOLEN ROLEX\n",
      "Empty: 580793353 DEADLY QUALITY\n",
      "Empty: 710477695 TILLY DEVINE\n",
      "Empty: 679093526 JIMMY THE SINGER\n",
      "Empty: 710534508 BUDDY KEEPING\n",
      "Empty: 634935380 JOHNNY BE FRANK\n",
      "Empty: 645797103 SHE'S FEISTY\n",
      "Empty: 638803220 JANICE KEEPING\n",
      "Empty: 546256845 ROS'S SAPPHIRE\n",
      "Empty: 650079192 SWEET SUCCULENT\n",
      "Empty: 524392698 EXTREMELY\n",
      "Empty: 665396206 MASSIMO TO EXCEL\n",
      "Empty: 656363641 MY BOY AIDEN\n",
      "Empty: 680210724 DUNCAN COUNTRY\n",
      "Empty: 580793399 BEAU BOY\n",
      "Empty: 572974178 OUR ARCHIE BOY\n",
      "Empty: 675318988 YOUNG HARRY\n",
      "Empty: 695962670 CHASING MALLY\n",
      "Empty: 642221384 BINSTEAD IZZY\n",
      "Empty: 702436161 RAZOR EDGE\n",
      "Empty: 702436644 JACOBITE DREAM\n",
      "Empty: 626191392 WISPY BALE\n",
      "Empty: 702436141 JACOBITE REBEL\n",
      "Empty: 634936469 FEDERAL OFFENCE\n",
      "Empty: 702435634 DANCING BETTY\n",
      "Empty: 629792195 BUNT AND RUN\n",
      "Empty: 667648201 FLOP WEDGE\n",
      "Empty: 718777791 SHANGHAI MASTER\n",
      "Empty: 714917027 BLUE BOY KADE\n",
      "Empty: 714917577 ROCKSTAR RAMPE\n",
      "Empty: 654230887 TIME OFF\n",
      "Empty: 714917076 ROCKSTAR GUNNAR\n",
      "Empty: 710478414 SCREAMING JET\n",
      "Empty: 597978582 DAPPER ETHICS\n",
      "Empty: 679093537 ZIPPING OSTI\n",
      "Empty: 548320467 FAST KAPLAN\n",
      "Empty: 667700774 PRECIOUS ME\n",
      "Empty: 580794373 TERAGRAM FINALE\n",
      "Empty: 591660477 ARROW BAR TEDDY\n",
      "Empty: 521241904 CRUSOE KID\n",
      "Empty: 680701253 DAVE SANDS\n",
      "Empty: 701046838 CHARLM LILLY\n",
      "Empty: 707215264 SISTER TWO\n",
      "Empty: 707214744 SISTER THREE\n",
      "Empty: 677833492 SUN DANCER\n",
      "Empty: 638802573 FULL OF ZIP\n",
      "Empty: 667648204 ABBY ROAD\n",
      "Empty: 587948115 MELLCAT KISS\n",
      "Empty: 685382587 BLAME EVIE\n",
      "Empty: 622583686 BROTHER ONYX\n",
      "Empty: 650078102 ALL FOR IRISH\n",
      "Empty: 695963152 ZAMBORA MAC\n",
      "Empty: 638802642 JO JOHN JOHN\n",
      "Empty: 701046841 CHARLM JUDY\n",
      "Empty: 718777434 YANA YANA\n",
      "Empty: 714917994 INFILTRATE\n",
      "Empty: 524391192 SHELL CITY\n",
      "Empty: 517863169 I'M THE BILL\n",
      "Empty: 525622239 TUNGSTEN MISS\n",
      "Empty: 525211357 CHESTNUT MONELLI\n",
      "Empty: 620538162 SCINTILLATE\n",
      "Empty: 637973976 ODIN RISING\n",
      "Empty: 637973946 RUMOUR IS\n",
      "Empty: 647616173 SATINE\n",
      "Empty: 656364233 IT'S GOLD\n",
      "Empty: 647615679 HAVE TO GO\n",
      "Empty: 675307454 ANOTHER MCMONTY\n",
      "Empty: 504049615 HANGE ZOE\n",
      "Empty: 634936390 FLAT CHAT FRANK\n",
      "Empty: 586287737 MANDY'S MANNERS\n",
      "Empty: 702436659 GEORGE APPEAL\n",
      "Empty: 614056767 WINLOCK BULLET\n",
      "Empty: 576143038 TOTAL POWER\n",
      "Empty: 563726713 JEWEL DANAE\n",
      "Empty: 602825247 SANDSTORM RICO\n",
      "Empty: 564470691 ROTHWELL CHUNK\n",
      "Empty: 663003946 RITZA NICKY\n",
      "Empty: 660800040 SURPRISE ME\n",
      "Empty: 656363757 GOOD ODDS AMY\n",
      "Empty: 707215267 SISTER ONE\n",
      "Empty: 592711157 SNOWY'S LAD\n",
      "Empty: 638802621 GLITTER BRULEE\n",
      "Empty: 701016765 SAPPHIRE ETHICS\n",
      "Empty: 700930589 RUBY ETHICS\n",
      "Empty: 654230420 ISLA VILLE\n",
      "Empty: 654230421 RONIN VILLE\n",
      "Empty: 677833474 FANTASTIC JOE\n",
      "Empty: 665396156 BLUE MOVES\n",
      "Empty: 685382592 TOWERING LARRY\n",
      "Empty: 667648696 OUR CASEY\n",
      "Empty: 680701252 FLYING LULU\n",
      "Empty: 451716139 BLAZING PENNY\n",
      "Empty: 656363697 VELOCITY SHINAE\n",
      "Empty: 534920713 BRECKEN BALE\n",
      "Empty: 675307585 ALWAYS DREAM\n",
      "Empty: 558491767 BLOCKED KNOWS\n",
      "Empty: 663003447 FIRE FLY MILO\n",
      "Empty: 528382660 FREEMAN'S HOPE\n",
      "Empty: 580794425 TIGGERLONG WATER\n",
      "Empty: 716345851 TIGGERLONG GILL\n",
      "Empty: 550831469 IN BLUE JEANS\n",
      "Empty: 718777350 FOREVER SPIRIT\n",
      "Empty: 626191422 UDITA BALE\n",
      "Empty: 550831465 HE'S NO SLOUCH\n",
      "Empty: 685380540 OUR BOY BUZZ\n",
      "Empty: 675307432 EMGRAND EXPRESS\n",
      "Empty: 620538128 RED OSCAR\n",
      "Empty: 663003427 TILLY BANNER\n",
      "Empty: 634463394 BLACK DANIELS\n",
      "Empty: 714917556 MAJOR ANDO\n",
      "Empty: 714918060 TIME FOR TINA\n",
      "Empty: 675307577 FORMULA EBBY\n",
      "Empty: 698472173 BROCKIE'S WAY\n",
      "Empty: 629791169 FLASHY FERNANDO\n",
      "Empty: 656363792 HAPPY POTTER\n",
      "Empty: 734719035 MR. MAGIC MAN\n",
      "Empty: 656364232 GOOD ODDS JOKER\n",
      "Empty: 630424332 EARN THE SAGA\n",
      "Empty: 645816059 TENERIFE\n",
      "Empty: 667700768 PEACH DUTTON\n",
      "Empty: 522729375 ASTON KNOX\n",
      "Empty: 645474879 UNACCEPTABLE LES\n",
      "Empty: 765532422 OVER THINKING\n",
      "Empty: 624974455 BLACK IRON\n",
      "Empty: 670574479 IS A COCO\n",
      "Empty: 718777435 KING NITO\n",
      "Empty: 656363290 BE GOOD BEACH\n",
      "Empty: 656364240 CALL ME DALLAS\n",
      "Empty: 655395178 BURNING LIQUOR\n",
      "Empty: 695984691 EBONY CARAT\n",
      "Empty: 670508385 HE'S GOT SWAGGER\n",
      "Empty: 695984693 WESTBURN BROCKIE\n",
      "Empty: 679093558 MR. SEVERIDE\n",
      "Empty: 672074971 SLINGSHOT SNEAKY\n",
      "Empty: 623993012 ROCHILL EXPRESS\n",
      "Empty: 702436154 DELANEE ROSE\n",
      "Empty: 705701208 SINGLETARY\n",
      "Empty: 656364235 ASHFIELD LASS\n",
      "Empty: 629791179 INFRA HUSTLE\n",
      "Empty: 620538632 RECLINER KING\n",
      "Empty: 640219896 MURRAY'S MATES\n",
      "Empty: 700930588 GOLDEN ETHICS\n",
      "Empty: 675318951 OLLIE IMPACT\n",
      "Empty: 716345385 PANAMA SPEED\n",
      "Empty: 692975703 TOOFAN RAJA\n",
      "Empty: 702435615 HOLSTER BABE\n",
      "Empty: 670508372 AWESOME BELIEVER\n",
      "Empty: 702435664 BEE LOGIE\n",
      "Empty: 650078108 WEATHER GIRL\n",
      "Empty: 675307431 MOLLY EMGRAND\n",
      "Empty: 710534253 JERRY RASCAL\n",
      "Empty: 656364285 CAN'T EXTEND\n",
      "Empty: 638803201 AMBER JACK\n",
      "Empty: 667648693 GLITTER BOMB\n",
      "Empty: 672072967 SLINGSHOT LUCY\n",
      "Empty: 656364284 DEMONICAS BEACH\n",
      "Empty: 561781542 YEVA BALE\n",
      "Empty: 667648667 MAZY GIRL\n",
      "Empty: 714917064 DUSTY KEEN\n",
      "Empty: 647615773 ROYAL RUSH\n",
      "Empty: 667700761 MASIE JANE\n",
      "Empty: 660804976 POCONO\n",
      "Empty: 544269870 ADELONG\n",
      "Empty: 537588532 ASTON PABLO\n",
      "Empty: 714918096 ECLIPSE\n",
      "Empty: 619722478 MOON FALL\n",
      "Empty: 654230416 MOOSE VILLE\n",
      "Empty: 638803252 YES I'M TROUBLE\n",
      "Empty: 634936478 FUSION DREAM\n",
      "Empty: 428733257 MY NAME'S DANNY\n",
      "Empty: 540632126 BELLA'S FLOWER\n",
      "Empty: 511984932 MY NAME'S JUDY\n",
      "Empty: 485634400 PIPER FIRE\n",
      "Empty: 614056690 BLACK BEAD\n",
      "Empty: 714917523 SAFETY SAM\n",
      "Empty: 689766839 OUTSTANDING BILL\n",
      "Empty: 718777739 FLYAWAY LAURAH\n",
      "Empty: 650078624 SUNDAY SEA\n",
      "Empty: 647616180 FAR OUT TINA\n",
      "Empty: 640219892 RARE SPACE\n",
      "Empty: 640492430 ROCKSTAR LOUISE\n",
      "Empty: 714917632 OVER RUN\n",
      "Empty: 714918042 BORN A ROCKET\n",
      "Empty: 689766806 WUANITA ROSE\n",
      "Empty: 667700737 KISS ME OLLAHM\n",
      "Empty: 668178695 SADIE SEAHORSE\n",
      "Empty: 669959754 ANDO LIGHTNING\n",
      "Empty: 645796079 SKETCHY COMBAT\n",
      "Empty: 694776323 OPAL RAID\n",
      "Empty: 673977770 OKAY BOOMER\n",
      "Empty: 714917995 ROCKIN' RONNIE\n",
      "Empty: 675307550 BOGIE CYCLONE\n",
      "Empty: 566431645 TILLY BILLS\n",
      "Empty: 701016762 FLYIN' ETHICS\n",
      "Empty: 668178692 TOMMY TUNA\n",
      "Empty: 539781422 SASSY SAL\n",
      "Empty: 672317472 KING ELF\n",
      "Empty: 656363698 CUSTODIAL\n",
      "Empty: 650078119 STAR MAX\n",
      "Empty: 667648651 ZIPPER SKY\n",
      "Empty: 667700751 ZIPPER IT MAN\n",
      "Empty: 650078205 AEROPLANE ELLIE\n",
      "Empty: 647616201 PSYCHO'S CHANCE\n",
      "Empty: 663377608 LONE HAND\n",
      "Empty: 716345339 SEABROOK\n",
      "Empty: 623992997 SEDUCTIVE ZARA\n",
      "Empty: 592709649 ALL THUNDER\n",
      "Empty: 555088058 METALLIC TEDDY\n",
      "Empty: 647615729 NOTHING SIMPLE\n",
      "Empty: 714917992 PACHECO\n",
      "Empty: 555069540 SILVER PURSE\n",
      "Empty: 660805064 EXPELLIARMUS\n",
      "Empty: 645797107 MY OLD LADY\n",
      "Empty: 707214745 PRINCESS  MAE\n",
      "Empty: 714918099 ROCKSTAR FENDER\n",
      "Empty: 654231399 MAGIC AVENUE\n",
      "Empty: 710478295 FOXY FOLIAKI\n",
      "Empty: 542257354 DIXIE SHOWBAND\n",
      "Empty: 710477776 WHAM BAM KENT\n",
      "Empty: 629791690 CHARLOTTE DREAM\n",
      "Empty: 665430275 HANEY TO EXCEL\n",
      "Empty: 638802662 DIXIE VEGAS\n",
      "Empty: 775588774 PRINCESS PENNY\n",
      "Empty: 586287736 AEROPLANE CARMEL\n",
      "Empty: 694776865 SOLID TANK\n",
      "Empty: 710477771 HEROIC HAZEL\n",
      "Empty: 685380539 CENTRE STAGE\n",
      "Empty: 556974814 HE'S ALL PURPOSE\n",
      "Empty: 718776753 EARLY AMBITION\n",
      "Empty: 663002916 THAI LEE\n",
      "Empty: 695963164 STRIVE POLDA\n",
      "Empty: 663003892 COSMIC JOURNEY\n",
      "Empty: 645795578 FAN BELT\n",
      "Empty: 672317462 TANYA'S BABE\n",
      "Empty: 524890690 PULLIN' YOUR LEG\n",
      "Empty: 656363825 CHOICE WORDS\n",
      "Empty: 667648736 CHILI HORIZON\n",
      "Empty: 710534413 MELBOURNE STREET\n",
      "Empty: 656363827 EVER SINCE\n",
      "Empty: 667648713 DROP ZONE\n",
      "Empty: 710478317 HAPPY JUAN\n",
      "Empty: 690004760 KIANDO INITIAL\n",
      "Empty: 669960296 GORGEOUS GAMBLES\n",
      "Empty: 647615687 LENNY POWER\n",
      "Empty: 667700842 AUSSIE FLASH\n",
      "Empty: 718777279 CANYA UNLEASH\n",
      "Empty: 667648682 PRECIOUS LAYLA\n",
      "Empty: 695962664 AUSSIE SUMMER\n",
      "Empty: 660805061 PRECIOUS BOY\n",
      "Empty: 695962666 AUSSIE SEBASTIAN\n",
      "Empty: 650079169 MISSION\n",
      "Empty: 718777731 MISS MISSY\n",
      "Empty: 718777222 ROLL WITH INDY\n",
      "Empty: 718777730 CHANCE ENCOUNTER\n",
      "Empty: 642221382 BAFFLED KING\n",
      "Empty: 656364124 TALENTED LADY\n",
      "Empty: 520643303 BENIDORM\n",
      "Empty: 701046839 BOLT CHARLM BOLT\n",
      "Empty: 434800268 REMNANTS\n",
      "Empty: 710477863 VENUS BANNER\n",
      "Empty: 660804974 LATE NOTICE\n",
      "Empty: 692975705 BALINESE BLUE\n",
      "Empty: 660799967 LOVE JOB\n",
      "Empty: 645795517 GO FORWARD LAYLA\n",
      "Empty: 702436087 CHARMING LASS\n",
      "Empty: 714917056 TRALEE JACK\n",
      "Empty: 670507874 AWESOME FRED\n",
      "Empty: 651052008 HE'S MY ANGEL\n",
      "Empty: 679093547 COUNTRY ROY\n",
      "Empty: 689777852 FEROCIOUS AMIGO\n",
      "Empty: 702435631 FAULTLESS\n",
      "Empty: 672072966 SLINGSHOT YO YO\n",
      "Empty: 638803094 HEAVEN'S WHISPER\n",
      "Empty: 695962659 WINSOME ALESSIA\n",
      "Empty: 654230901 TRICKY AVENUE\n",
      "Empty: 718776723 SUCCULENT STARE\n",
      "Empty: 718777234 FLYAWAY MATTY\n",
      "Empty: 650079180 MORE CRACKERS\n",
      "Empty: 718777688 RUBY ROLEX\n",
      "Empty: 642558557 OUR GIRL LOLA\n",
      "Empty: 521874672 MORAINE HOLLY\n",
      "Empty: 694775844 GO GO REBEL\n",
      "Empty: 707215615 WOOKEY\n",
      "Empty: 680210716 SHE'S ALL CHARM\n",
      "Empty: 580793351 GIFTED QUALITY\n",
      "Empty: 647616255 BIG RUSH\n",
      "Empty: 685382577 DIDDY AVON\n",
      "Empty: 677833997 CHASING SUNDAY\n",
      "Empty: 710478242 HOIST CHAIN\n",
      "Empty: 685380541 I'M LITTLE TOO\n",
      "Empty: 555068991 MINI MOO COW\n",
      "Empty: 680702233 STEVIE NISMO\n",
      "Empty: 718777712 CLASSY CHAMELEON\n",
      "Empty: 654230379 ORSON VICTORY\n",
      "Empty: 680701263 MONEY'S ON\n",
      "Empty: 718777715 HURRICANE JUNIE\n",
      "Empty: 650078606 STAR IRIS\n",
      "Empty: 710478409 BLAZE KEEPING\n",
      "Empty: 503283071 FOREVER A DREAM\n",
      "Empty: 453317333 SHANLYN CRIPPS\n",
      "Empty: 623911841 GOLD FEVER\n",
      "Empty: 576142036 COSMOLOGIST\n",
      "Empty: 702436620 ALWAYS A SHOW\n",
      "Empty: 701016789 MIGHTY MOUTH\n",
      "Empty: 675307061 OLD EASY\n",
      "Empty: 675307071 PRINCE EBBY\n",
      "Empty: 645476884 BENJI'S BUTTON\n",
      "Empty: 675307558 BOGIE TORNADO\n",
      "Empty: 519260449 BLUE STINGRAY\n",
      "Empty: 710477895 FUSION LATRELL\n",
      "Empty: 614057250 ROXY TARO\n",
      "Empty: 669959786 DAILEE GAMBLES\n",
      "Empty: 679093522 ZIPPING MAXINE\n",
      "Empty: 710478270 GOLDEN BULLET\n",
      "Empty: 677865121 ZIPPING CALYPSO\n",
      "Empty: 705700637 TRALEE BETH\n",
      "Empty: 675318955 SHADES OF ROSE\n",
      "Empty: 675306933 SACRED PARK\n",
      "Empty: 716345374 SURE IS LOOSE\n",
      "Empty: 655389167 MARIONVALE MISS\n",
      "Empty: 650078636 KENNY DO IT\n",
      "Empty: 656364182 VOLDEMONT\n",
      "Empty: 716345355 TIGGERLONG MATE\n",
      "Empty: 702436657 BLUE TIARA\n",
      "Empty: 647615228 DECEIVING\n",
      "Empty: 694775839 FLEX UP\n",
      "Empty: 645474876 DESPICABLE EASY\n",
      "Empty: 700930591 ALLIRA'S WISH\n",
      "Empty: 702436632 CLEARY\n",
      "Empty: 707108396 MISS INSPIRATION\n",
      "Empty: 556974355 DURWOOD\n",
      "Empty: 702436096 LEVINGS\n",
      "Empty: 714917045 CHIP ROCK\n",
      "Empty: 650079088 EBONY DANCER\n",
      "Empty: 701016766 PINNED\n",
      "Empty: 702436637 FAR FROM SHY\n",
      "Empty: 561780843 FABIZIO\n",
      "Empty: 656364288 HERE TODAY\n",
      "Empty: 656363794 VELOCITY NERIDA\n",
      "Empty: 638803629 TIGGERLONG SHINE\n",
      "Empty: 614056801 BUGATTI BRO\n",
      "Empty: 453317328 ASTON SOLAR\n",
      "Empty: 689766286 SYCAMORE TRICKY\n",
      "Empty: 654231371 METTLE MISS\n",
      "Empty: 645329091 TOMMY SWIFT\n",
      "Empty: 677833594 LUNA COUNTRY\n",
      "Empty: 655389162 LET'S PLAY TIP\n",
      "Empty: 647615179 JOE BANANAS\n",
      "Empty: 670508409 DOUG JUDY\n",
      "Empty: 647616252 PINK TICKLES\n",
      "Empty: 643581621 KINGSTON JAZZY\n",
      "Empty: 647615267 GYPSY FLYER\n",
      "Empty: 716345373 KING KAINANE\n",
      "Empty: 629792210 EL GRINGO\n",
      "Empty: 675307089 BLACK ROCKET\n",
      "Empty: 665371646 GARSIDE TO EXCEL\n",
      "Empty: 694775849 SYLVIA'S SONG\n",
      "Empty: 592711156 SNOWY'S ADARNI\n",
      "Empty: 680701759 ANDANTE\n",
      "Empty: 651355115 MORAINE ELSA\n",
      "Empty: 546237804 SHIMA MAGIC\n",
      "Empty: 656363299 KICKING STONES\n",
      "Empty: 620538625 DASHING LU\n",
      "Empty: 675318969 ALL DAMIRO\n",
      "Empty: 714917518 FIRE UP TINA\n",
      "Empty: 689766331 SAIKO\n",
      "Empty: 647616181 FERRARO MAGIC\n",
      "Empty: 638803260 PRECIOUS IVY\n",
      "Empty: 689777857 KISEKI\n",
      "Empty: 643716865 STAND FOR ME\n",
      "Empty: 620539137 FROG STOMP\n",
      "Empty: 609015099 SOLICITOR\n",
      "Empty: 555069537 GIRL'S DREAM\n",
      "Empty: 680209719 DOUBLE CHARMING\n",
      "Empty: 675318970 AURORA DAMIRO\n",
      "Empty: 705700708 TOO TOUGH TERRY\n",
      "Empty: 620539175 SWISH\n",
      "Empty: 737958976 NORA'S BOY\n",
      "Empty: 698472210 PUMP MY TYRE\n",
      "Empty: 680208714 INVEST WISELY\n",
      "Empty: 642102155 FLYING ZINGER\n",
      "Empty: 695962688 SIN RAP MISS\n",
      "Empty: 702436591 CARTER O'BRIEN\n",
      "Empty: 623993528 JET BLACK\n",
      "Empty: 634935956 CANYA GODDESS\n",
      "Empty: 550407238 FINALLY THERE\n",
      "Empty: 710534472 CHANCE MODEL\n",
      "Empty: 695963172 SIN RAP COMET\n",
      "Empty: 677865089 THAT'S LIL HARRY\n",
      "Empty: 734718568 ME AND POP\n",
      "Empty: 623993529 GOLDEN PENNY\n",
      "Empty: 714917098 TWEED FORCE\n",
      "Empty: 638802651 PAN'S ROSE\n",
      "Empty: 667648676 OMAR DUTTON\n",
      "Empty: 692975687 SCORCHING BOY\n",
      "Empty: 714917655 TARA TEARS\n",
      "Empty: 677833499 SPEEDY MUMMA\n",
      "Empty: 667700846 LIQUORICE GIRL\n",
      "Empty: 550407194 OUR ZALIA ZOOM\n",
      "Empty: 465423135 MALAFON\n",
      "Empty: 718777211 RUNNING REDS\n",
      "Empty: 718777853 MY GIRL SHIRL\n",
      "Empty: 623993506 EVER LOVING\n",
      "Empty: 714918178 TREASURE TEARS\n",
      "Empty: 702436671 I'M PEAKIN'\n",
      "Empty: 714918030 ZIPPING MURIEL\n",
      "Empty: 718776758 ZIPPING MAHALIA\n",
      "Empty: 718777777 ZIPPING LUCILLE\n",
      "Empty: 714918021 ZIPPING JADA\n",
      "Empty: 647615680 TWO SHADES\n",
      "Empty: 714917654 TROOPER TEARS\n",
      "Empty: 689766861 LAGOON GUNN\n",
      "Empty: 611215024 HEY SCOOBY\n",
      "Empty: 673011848 CASH LAD\n",
      "Empty: 705700655 SUBLIME DALLAS\n",
      "Empty: 673010843 LEONIDAS\n",
      "Empty: 645476894 DESPICABLE JASON\n",
      "Empty: 705701139 SUBLIME CODY\n",
      "Empty: 587949174 PANDORA FLAME\n",
      "Empty: 718776770 SHANGHAI SUZIE\n",
      "Empty: 656363783 WE ARE KINGS\n",
      "Empty: 718777295 SHANGHAI GIRL\n",
      "Empty: 650078101 TIA'S BABE\n",
      "Empty: 650078118 STAR SIRIUS\n",
      "Empty: 654230925 WILLOWAY\n",
      "Empty: 677833511 OSCAR BOAZ\n",
      "Empty: 694776845 YOU TURN BABY\n",
      "Empty: 694776842 DRY EYE\n",
      "Empty: 647726367 RAJA AMPAT\n",
      "Empty: 415020432 HOW'S IT ALICE\n",
      "Empty: 673010838 CASH CALLING\n",
      "Empty: 522729374 ASTON OSCAR\n",
      "Empty: 714917005 SLICK ZEUS\n",
      "Empty: 718777269 HEY ZEUS\n",
      "Empty: 654230374 DECEPTIVE LASS\n",
      "Empty: 536553466 FLASH THE HAND\n",
      "Empty: 512145247 GOT A VISION\n",
      "Empty: 669959301 WINLOCK TO RISE\n",
      "Empty: 710477720 JAMATI\n",
      "Empty: 660805054 PRECIOUS TIME\n",
      "Empty: 692975699 BESTIA NERA\n",
      "Empty: 629792209 EL BRAVO\n",
      "Empty: 660799979 SIRIUS GAMBLE\n",
      "Empty: 573719159 STREET OF DREAMS\n",
      "Empty: 675307428 SISTER EMGRAND\n",
      "Empty: 714917011 ZIPPING WESLEY\n",
      "Empty: 672316458 OUR BUSH BOY\n",
      "Empty: 689766290 KAOS FOR KEN\n",
      "Empty: 644453345 ALPHY FERNANDO\n",
      "Empty: 580792883 JACOB VALLEY\n",
      "Empty: 680209725 DULY NOTED\n",
      "Empty: 710478245 SIX AMIGOS\n",
      "Empty: 685380590 AEROPLANE STAR\n",
      "Empty: 534921223 CASHTON BALE\n",
      "Empty: 539781410 ASTON SIMPKIN\n",
      "Empty: 710534461 HURRICANE ROCKY\n",
      "Empty: 714917038 MY REASON\n",
      "Empty: 656363294 LITTLE GOMEZ\n",
      "Empty: 650078218 JAMIE TARTT\n",
      "Empty: 425795902 FLAMING ROSE\n",
      "Empty: 660805028 WAIKIKI SURFER\n",
      "Empty: 714917176 TRAPPER TEARS\n",
      "Empty: 629791668 MR. BANNER\n",
      "Empty: 650078564 ZULU CHARLIE\n",
      "Empty: 718777931 PRINCE JEWELS\n",
      "Empty: 643581598 HERE COME CODY\n",
      "Empty: 705701134 TRALEE BEAUTY\n",
      "Empty: 702436164 MIDNIGHT HOWLER\n",
      "Empty: 705700127 TRALEE DOLL\n",
      "Empty: 718777372 REMINISCE AGAIN\n",
      "Empty: 702436085 HOT TEMPER\n",
      "Empty: 663003389 COSMIC NUGGET\n",
      "Empty: 629792216 EARLY SUNSET\n",
      "Empty: 692975712 EKER THE WRECKER\n",
      "Empty: 716345894 SPOOKY ETHICS\n",
      "Empty: 714918138 LEG SPEED\n",
      "Empty: 714917107 WARM REGARDS\n",
      "Empty: 695962661 WINSOME MILO\n",
      "Empty: 710477801 CODE BLUE TOM\n",
      "Empty: 710478137 MAMBA MISS\n",
      "Empty: 629791161 RAVIOLI\n",
      "Empty: 656364181 BALMAIN JUROR\n",
      "Empty: 650079115 STAR KIT\n",
      "Empty: 642132704 BLUEBERRY DANISH\n",
      "Empty: 650078138 CLUB MAGIC\n",
      "Empty: 692975690 SOUR CIDER WILMA\n",
      "Empty: 710477860 CRYPTO MODEL\n",
      "Empty: 694776864 FRED FLINT\n",
      "Empty: 710478381 CARTEL MODEL\n",
      "Empty: 667648752 PETRICHOR\n",
      "Empty: 707214671 HAPPY FEET\n",
      "Empty: 656363249 DOUBLE POLKA\n",
      "Empty: 771741117 LADY RICCIARDO\n",
      "Empty: 654230924 FLYING WHISKY\n",
      "Empty: 710477642 ZIPPING RASCAL\n",
      "Empty: 431851992 HEIDI'S GIFT\n",
      "Empty: 716368388 TIGGERLONG RUBY\n",
      "Empty: 648063039 MARIONVALE PIES\n",
      "Empty: 714918113 CAWBOURNE DIOR\n",
      "Empty: 692888010 SINGING BONE\n",
      "Empty: 692975688 ROWDY REBEL\n",
      "Empty: 596752130 MISS GIVEAWAY\n",
      "Empty: 648063044 MARIONVALE LASS\n",
      "Empty: 710478404 JUNE THE WEAPON\n",
      "Empty: 563717692 SYCAMORE LUCY LU\n",
      "Empty: 606760700 PAMJAMS DORA\n",
      "Empty: 694775843 YABBIE MAN\n",
      "Empty: 648063040 MARIONVALE BENNY\n",
      "Empty: 714917093 CAWBOURNE GORDIE\n",
      "Empty: 670507924 RUTLAND BAM\n",
      "Empty: 698472161 DING DONG DITCH\n",
      "Empty: 663003924 SNOWY BANNER\n",
      "Empty: 694776843 SOUPED UP SHIMMY\n",
      "Empty: 549391143 BIG DAN BLOCKER\n",
      "Empty: 692976220 SO YOU SEE\n",
      "Empty: 645795601 SHE'S ALL STYLE\n",
      "Empty: 707215266 BLONDE POP\n",
      "Empty: 705700136 SAINT DEXTER\n",
      "Empty: 587948185 RUN FOR LIAM\n",
      "Empty: 716345879 DRAMA KIDS\n",
      "Empty: 647615186 CLASSIQUE BEAST\n",
      "Empty: 645797111 MISBEHAVED\n",
      "Empty: 634936468 FEDERAL TARGET\n",
      "Empty: 695962739 FIREBALL FRENZY\n",
      "Empty: 645797071 RIO RIOT\n",
      "Empty: 700930609 LANGE'S LAD\n",
      "Empty: 677865073 FIRE UP OZZIE\n",
      "Empty: 659907183 ASTON MONICA\n",
      "Empty: 659907184 ASTON STEFFI\n",
      "Empty: 662596056 BRENDA'S GIFT\n",
      "Empty: 615103755 KILDERKIN\n",
      "Empty: 556974443 TO THE SKY\n",
      "Empty: 672317471 PETER TARO\n",
      "Empty: 672317469 GEORGE TARO\n",
      "Empty: 702435612 MIDNIGHT PRINCE\n",
      "Empty: 656363643 DUSTY BARBARA\n",
      "Empty: 702435653 JUNGLE GEORGE\n",
      "Empty: 663003878 DANCING MADDIE\n",
      "Empty: 682723726 FLAME\n",
      "Empty: 675307088 BLUE MOJITO\n",
      "Empty: 689766316 IF YOUR LUCKY\n",
      "Empty: 663003895 VINNY'S CHARM\n",
      "Empty: 702435607 ROCK ARTIST\n",
      "Empty: 702436588 ARCHER O'BRIEN\n",
      "Empty: 679093564 AUSSIE SINGMAN\n",
      "Empty: 675319123 EBBY JUSTICE\n",
      "Empty: 647616216 PAINT THE TRAIL\n",
      "Empty: 665396205 SOLIOLA TO EXCEL\n",
      "Empty: 645797116 CARAMEL QUEEN\n",
      "Empty: 611654869 NO TALL TALE\n",
      "Empty: 645795597 AUTONOMOUS\n",
      "Empty: 663003399 SHEBA'S BELLA\n",
      "Empty: 638803079 FULL OF IT\n",
      "Empty: 662312484 BABY JAYCEE\n",
      "Empty: 752070737 REMAS EMERALD\n",
      "Empty: 714917515 TOMMY KADE\n",
      "Empty: 714917588 CAWBOURNE DOMINO\n",
      "Empty: 654231417 ZIHUATANEJO\n",
      "Empty: 672316970 MR. IMPORTANT\n",
      "Empty: 672316969 ROXY'S SECRET\n",
      "Empty: 645499434 UNACCEPTABLE MAX\n",
      "Empty: 680702215 SHINING SILVER\n",
      "Empty: 592711150 SHE'S A LIGHT\n",
      "Empty: 710477803 LITTLE BRINDIE\n",
      "Empty: 710478323 WONG BIAS\n",
      "Empty: 695963148 BALD HEAD SALLY\n",
      "Empty: 633121288 SIZZLE AND SHINE\n",
      "Empty: 675307083 CHARCOAL CHEETAH\n",
      "Empty: 726169478 DANA RIPPER\n",
      "Empty: 698471672 PURE SAVAGE\n",
      "Empty: 667648237 RAFTER\n",
      "Empty: 692976198 GOT A PRINCIPLE\n",
      "Empty: 556251288 ASTON PIVOT\n",
      "Empty: 656363614 CLEAR THE DECK\n",
      "Empty: 672316464 IVY TARO\n",
      "Empty: 710534512 SUGAR KEEPING\n",
      "Empty: 672316974 TORVI TARO\n",
      "Empty: 660800054 PALMDALE\n",
      "Empty: 710534340 SIR JACK\n",
      "Empty: 667648666 SWEET AMY\n",
      "Empty: 650078593 BELIEVE THE HYPE\n",
      "Empty: 706804791 SARA'S TIGER\n",
      "Empty: 668178690 BRENTON BARNACLE\n",
      "Empty: 718777848 BRINDLE BOUNTY\n",
      "Empty: 706804794 CLOVER\n",
      "Empty: 660800014 RAB'S SHOUT\n",
      "Empty: 634935344 GRETEL BALE\n",
      "Empty: 587949085 DON'T BLUSH BABY\n",
      "Empty: 692976194 SOUL SPLICER\n",
      "Empty: 656363781 KEY PORT\n",
      "Empty: 620538635 CARPENTER'S ARMS\n",
      "Empty: 715726105 VIGNE UNLEASHED\n",
      "Empty: 656363774 LILLY'S CHEVY\n",
      "Empty: 737959477 CYCLONE VICKY\n",
      "Empty: 714917522 APACHE PEARL\n",
      "Empty: 695962683 BYE BYE STORM\n",
      "Empty: 629791641 BESTOWAL\n",
      "Empty: 726168476 DANA DASHA\n",
      "Empty: 726168976 DANA VIOLET\n",
      "Empty: 638802581 BLACK JAG\n",
      "Empty: 670508910 RUM NIGHT\n",
      "Empty: 710478285 MCCOY'S BOY\n",
      "Empty: 710478167 ICE COOL KAOS\n",
      "Empty: 707215621 KIARNI BLACK ACE\n",
      "Empty: 695962681 BYE BYE BLASTER\n",
      "Empty: 667648192 TULSA KING\n",
      "Empty: 702436125 DAYS OF GRACE\n",
      "Empty: 656363244 CALM DOWN DONNA\n",
      "Empty: 656364239 RED TERROR CHEVY\n",
      "Empty: 737959982 FLASH ATTIC\n",
      "Empty: 629791673 ON BAIL\n",
      "Empty: 675307593 CHACE THE OUTLAW\n",
      "Empty: 714917014 ZIPPING MARA\n",
      "Empty: 677023848 MAGIC WAVE\n",
      "Empty: 714917653 RACHAEL'S TEARS\n",
      "Empty: 694245720 KNIGHTED TITAN\n",
      "Empty: 648009432 FIRST UP\n",
      "Empty: 677865031 CRASH LEE\n",
      "Empty: 561782019 WHERE'S TREVOR\n",
      "Empty: 718777190 MY MAC DAN\n",
      "Empty: 530412876 SHORE WITH ARNIE\n",
      "Empty: 692103444 IT'S A CAUTION\n",
      "Empty: 726168975 DANA SCOOT\n",
      "Empty: 648009437 NOT FOR SURE\n",
      "Empty: 471932590 STRICT LIABILITY\n",
      "Empty: 740359770 TREVOR'S BOY\n",
      "Empty: 634935373 RUBY ON SCOTCH\n",
      "Empty: 656002890 BLUE YAP\n",
      "Empty: 572973726 OAK BARREL\n",
      "Empty: 580793337 DIEGO\n",
      "Empty: 710478379 SPEEDY FERNANDO\n",
      "Empty: 580794378 TOBY VALLEY\n",
      "Empty: 654231420 PRINCESS BRIDE\n",
      "Empty: 550407344 OMAHA BALE\n",
      "Empty: 491175980 KENJI BALE\n",
      "Empty: 718777284 ZIPPING SWAZI\n",
      "Empty: 645499426 DESPICABLE ORA\n",
      "Empty: 591659971 ASTRO DICE\n",
      "Empty: 675318957 GOT TO BEWARE\n",
      "Empty: 718777283 ZIPPING VADER\n",
      "Empty: 656364290 GOLDEN GORT\n",
      "Empty: 659907185 ASTON ROJA\n",
      "Empty: 726168480 JUST ABOUT TO\n",
      "Empty: 545230286 BEASTLY BOY\n",
      "Empty: 632132745 MULTI MATT\n",
      "Empty: 702435622 EMERLEY ZOE\n",
      "Empty: 632132747 AVA BLAZER\n",
      "Empty: 652329056 ROMAN BLAZER\n",
      "Empty: 650078189 MACHISMO\n",
      "Empty: 650078197 YARRAMUNDI PAUL\n",
      "Empty: 586287741 AEROPLANE WISH\n",
      "Empty: 710478367 DARK SECRET\n",
      "Empty: 654231416 JESS VILLE\n",
      "Empty: 710478371 ROSE BORDEAUX\n",
      "Empty: 659907180 ASTON PAYROLL\n",
      "Empty: 707108394 WINLOCK TILLY\n",
      "Empty: 714918081 ARMATREE PORSHA\n",
      "Empty: 702436159 SOFT EDGE\n",
      "Empty: 678124556 HEAVEN'S EDGE\n",
      "Empty: 669959270 US AND THEM\n",
      "Empty: 629791133 CASHED UP JOHNNY\n",
      "Empty: 460744659 ZAMBORA ALANI\n",
      "Empty: 643581614 PLATINUM MAYHEM\n",
      "Empty: 710477857 BANJO REIGN\n",
      "Empty: 716368444 SWEET NITRO\n",
      "Empty: 705700165 PETER PAN\n",
      "Empty: 702436621 TOO GOOD MOOSE\n",
      "Empty: 680701755 SANDAVE STYLE\n",
      "Empty: 705700164 DOUBLE INFINITY\n",
      "Empty: 602825248 INSIDE DART\n",
      "Empty: 660800018 REDAN\n",
      "Empty: 629791110 GEMMA BRANN\n",
      "Empty: 710477791 EXPRESS PEARL\n",
      "Empty: 710478312 IRISH BISTOE\n",
      "Empty: 638802707 CAWBOURNE KIKI\n",
      "Empty: 637973454 SHOT OF JACKS\n",
      "Empty: 563732724 SYCAMORE DAISY\n",
      "Empty: 670508860 CAWBOURNE GIA\n",
      "Empty: 670508386 BARRY THE BROKER\n",
      "Empty: 740359367 UP THE SCORE\n",
      "Empty: 689777829 FABULOUS VICTOR\n",
      "Empty: 705700652 COOPER'S MATE\n",
      "Empty: 629791150 SLICK SOLDIER\n",
      "Empty: 740359365 BALLINA\n",
      "Empty: 689777831 FABULOUS CARTER\n",
      "Empty: 665396196 SWIPER TAZ\n",
      "Empty: 669959302 CUDAL COYOTE\n",
      "Empty: 765556696 HIDDEN HOUDINI\n",
      "Empty: 705700091 HE'S HALF OURS\n",
      "Empty: 710534445 CONCRETER JAMES\n",
      "Empty: 556974294 CENTURY BELLE\n",
      "Empty: 461066428 IZUKU BALE\n",
      "Empty: 634935355 MISSILE MIA\n",
      "Empty: 710478405 LUCY THE WEAPON\n",
      "Empty: 650079174 SOLAR SPACE\n",
      "Empty: 685379590 NOT CERTAIN\n",
      "Empty: 718777200 SAINTLY\n",
      "Empty: 710477641 ALVIERA\n",
      "Empty: 721080282 DARK INTRUDER\n",
      "Empty: 721080283 RECEPTION\n",
      "Empty: 650078615 KALIKA\n",
      "Empty: 634936421 NOT SIRIUS\n",
      "Empty: 634936345 HERMINE BALE\n",
      "Empty: 714918017 SLICK ATTITUDE\n",
      "Empty: 603952996 ASTON MACALLAN\n",
      "Empty: 653134662 MYSTIC MOMENT\n",
      "Empty: 718777851 NARA SPIRIT\n",
      "Empty: 705700187 BELLA RORY\n",
      "Empty: 710534505 RONOEL KEEPING\n",
      "Empty: 718777330 SORRY FERNANDO\n",
      "Empty: 672316462 SIGMUND TARO\n",
      "Empty: 740359338 FLEETING FURY\n",
      "Empty: 591660473 CLUB MAN\n",
      "Empty: 675319005 HANDSOME ALERT\n",
      "Empty: 637973910 CANYA BELLATRIX\n",
      "Empty: 587948128 ME AND YOU\n",
      "Empty: 556222740 JUST LIKE MICK\n",
      "Empty: 620539171 SORORITY\n",
      "Empty: 641009508 ANNIKA MAC\n",
      "Empty: 692976226 CUT THROAT LOMAR\n",
      "Empty: 726168939 SPIRIT DANCER\n",
      "Empty: 718777693 MISS HURRICANE\n",
      "Empty: 726169464 SONNY BILL FIRE\n",
      "Empty: 677865061 PRETTY SWISH\n",
      "Empty: 710534470 BANG BANG BANJO\n",
      "Empty: 638802699 LIDSDALE ROAD\n",
      "Empty: 715726107 NAD AL SHEBA\n",
      "Empty: 692975726 NONSTOP LOMAR\n",
      "Empty: 638802582 MY JOY\n",
      "Empty: 550407218 ROLE MODEL\n",
      "Empty: 705700625 LEICHHARDT ROAR\n",
      "Empty: 714918056 TIME TO GO\n",
      "Empty: 710477802 WISE BELLY\n",
      "Empty: 718776834 FASTER THAN SUB\n",
      "Empty: 525210943 HENRY THE HAWK\n",
      "Empty: 672069457 SLINGSHOT COOPER\n",
      "Empty: 714918032 ZIPPING BRYCE\n",
      "Empty: 665430266 GO BAILEE GO\n",
      "Empty: 714918031 ZIPPING RUCKMAN\n",
      "Empty: 710478324 MY MATE JAMES\n",
      "Empty: 689777847 BIG BOY WILSON\n",
      "Empty: 710477726 WHISPERING MISTY\n",
      "Empty: 710534516 LIL MISS TROUBLE\n",
      "Empty: 667648692 EMMA DUTTON\n",
      "Empty: 614057796 ROLLING COLE\n",
      "Empty: 705700189 RUTLAND PATCH\n",
      "Empty: 705700195 GOZARN\n",
      "Empty: 694776859 PEYTON'S WISH\n",
      "Empty: 695962689 MISS NARLA\n",
      "Empty: 509291581 FLEET FEET PETE\n",
      "Empty: 670507908 VICTA ALBY\n",
      "Empty: 673919663 TRANSPONDER\n",
      "Empty: 632132742 SCOFFLAW\n",
      "Empty: 670508906 VICTA DAMIAN\n",
      "Empty: 714917563 MUSTARD'S CHOICE\n",
      "Empty: 639106166 TREVOR'S GIFT\n",
      "Empty: 670508395 VICTA MARLI\n",
      "Empty: 647615215 MISSILE DANI\n",
      "Empty: 640983411 CRUISE MODE\n",
      "Empty: 710478374 TEQUILA BANDIT\n",
      "Empty: 714917028 SWIFT KADE\n",
      "Empty: 670508398 VICTA TONY\n",
      "Empty: 644453334 LAWLESS\n",
      "Empty: 700232672 THEO\n",
      "Empty: 643293527 QUEEN OF SCOTCH\n",
      "Empty: 539781409 ASTON TARRANT\n",
      "Empty: 660657679 RED GUM LASS\n",
      "Empty: 667303950 TEETER\n",
      "Empty: 692975727 RED HOT LOMAR\n",
      "Empty: 529115623 GLITTERING ZAC\n",
      "Empty: 561781498 REBEL RACER\n",
      "Empty: 715726108 HUEY THE NEWS\n",
      "Empty: 650079106 FLASH SHANNON\n",
      "Empty: 578900027 SOVEREIGN LAW\n",
      "Empty: 660800025 SUPER PUMPED\n",
      "Empty: 641008504 CORLESS CURSED\n",
      "Empty: 710478233 JETSETTING JETTA\n",
      "Empty: 692975719 BELL MAC PRINCE\n",
      "Empty: 718777207 MILESTONE MAX\n",
      "Empty: 689766781 I'M OVER THIS\n",
      "Empty: 587948056 MOONSHINE BONNIE\n",
      "Empty: 665371656 UNACCEPTABLE JUD\n",
      "Empty: 680701740 GIFTED ACTRESS\n",
      "Empty: 674864036 MUM'S MOUSSAKA\n",
      "Empty: 675307082 WHISKEY AND DRY\n",
      "Empty: 707215639 HARD STYLE REBEL\n",
      "Empty: 740392842 CAMERON KEEPING\n",
      "Empty: 740359281 SIVO KEEPING\n",
      "Empty: 656363802 FERRARI BEACH\n",
      "Empty: 672069460 SLINGSHOT LAYLA\n",
      "Empty: 707215692 STUNNING EYES\n",
      "Empty: 718777455 HE'S FIRST CLASS\n",
      "Empty: 655605095 LITTLE BIT SUNNY\n",
      "Empty: 710534397 PRECOCIOUS\n",
      "Empty: 679825487 MISS ZIPPER\n",
      "Empty: 714917500 BLAZIN' OAKLEE\n",
      "Empty: 710534430 DUTCH COURAGE\n",
      "Empty: 718776932 LOOSE ZEUS\n",
      "Empty: 726169477 DANA XAVIER\n",
      "Empty: 670578481 RUSHWORTH\n",
      "Empty: 634935843 IMMIE BALE\n",
      "Empty: 714917020 ZIPPING DAN\n",
      "Empty: 689766804 BATTERY INCLUDED\n",
      "Empty: 705700692 STATION STREET\n",
      "Empty: 563732720 NO PENALTY\n",
      "Empty: 689766805 STARBURST GISELE\n",
      "Empty: 707215236 FANTANNA'S DREAM\n",
      "Empty: 714917019 ZIPPING LUCIFER\n",
      "Empty: 714917507 ZIPPING PARKER\n",
      "Empty: 714918027 ZIPPING BORIS\n",
      "Empty: 620539139 ZINZAN ABBEY\n",
      "Empty: 679093567 AUSSIE WARPATH\n",
      "Empty: 702435630 LET ME LOOSE\n",
      "Empty: 576143006 DASH OF RAINBOW\n",
      "Empty: 556974388 CLOVER JULIET\n",
      "Empty: 530412780 BUGATTI SUNSHINE\n",
      "Empty: 714917000 BLAZIN' MILA\n",
      "Empty: 629791672 IS THAT YOU\n",
      "Empty: 665430271 WHITTY TO EXCEL\n",
      "Empty: 716345895 CHARMING ETHICS\n",
      "Empty: 667648754 WHITE AMAZON\n",
      "Empty: 611215041 CAWBOURNE MAYA\n",
      "Empty: 675307023 SEABORG BALE\n",
      "Empty: 714917506 ZIPPING ELTON\n",
      "Empty: 663003885 BRUTAL DOMINANCE\n",
      "Empty: 718776862 RUN BLUE RUN\n",
      "Empty: 685379537 SAD SACK\n",
      "Empty: 675306928 FREYDIS\n",
      "Empty: 677833512 THAT'S LIL GERRY\n",
      "Empty: 698471154 ELLE ROBBO\n",
      "Empty: 663002899 COSMIC GHOST\n",
      "Empty: 705700694 FLYING LUCY\n",
      "Empty: 587949059 STETSENKO\n",
      "Empty: 701046831 HODGSON\n",
      "Empty: 650079145 HEY PARTY GIRL\n",
      "Empty: 650078149 ECLECTUS\n",
      "Empty: 667700760 APPRECIATION\n",
      "Empty: 603189540 ELITE RANDY\n",
      "Empty: 710477738 CASSIDY BOY\n",
      "Empty: 710478254 SUNRISE BLUES\n",
      "Empty: 688395545 REDSHIFT ALPHA\n",
      "Empty: 685382586 CLAY DELANEY\n",
      "Empty: 667648172 STONE SOUR\n",
      "Empty: 675307574 LUNATIC FRINGE\n",
      "Empty: 726169473 DOUBLE DIPPIN'\n",
      "Empty: 662631628 QUEST FOR STARS\n",
      "Empty: 707215715 BRONCO JACK\n",
      "Empty: 694775811 STEAL THE STARS\n",
      "Empty: 660800482 SIRIUS MACHINE\n",
      "Empty: 524890699 VIOLET ROSE\n",
      "Empty: 665396207 ZENDAYA TO EXCEL\n",
      "Empty: 670508871 MALLEY\n",
      "Empty: 629791640 JOHNNY SOLDIER\n",
      "Empty: 637973941 DESPICABLE POWER\n",
      "Empty: 714917594 CRACKING MISS\n",
      "Empty: 675307103 MCLINTOCK\n",
      "Empty: 669960288 SEVEN SINNERS\n",
      "Empty: 714918126 CURIOUS CAZA\n",
      "Empty: 714917101 MR FRESH\n",
      "Empty: 702435609 GAL'S THE ONE\n",
      "Empty: 656363609 OUR CHINA RED\n",
      "Empty: 718777778 ZIPPING HARRISON\n",
      "Empty: 714398450 FRENCH STING\n",
      "Empty: 710534256 APACHE GHOST\n",
      "Empty: 656363826 FAR EAST\n",
      "Empty: 647615272 TAI RUSH\n",
      "Empty: 428164132 PERCY'S PRINCESS\n",
      "Empty: 685382594 TANUI\n",
      "Empty: 718776757 ZIPPING JASPER\n",
      "Empty: 652013426 LIMITATION\n",
      "Empty: 714917565 MISS ISAAN\n",
      "Empty: 539779410 ROCKY HORROR\n",
      "Empty: 740359280 GOLDIE KEEPING\n",
      "Empty: 850816754 WADE KEEPING\n",
      "Empty: 718776808 STAY AMUSED\n",
      "Empty: 726168479 DANA BILLY\n",
      "Empty: 707214684 ANGEL CHILD\n",
      "Empty: 675319127 I'M OKAY THANKS\n",
      "Empty: 680701752 CHIMES\n",
      "Empty: 635950367 GET OUT\n",
      "Empty: 629791123 SOMEBODY LIKE ME\n",
      "Empty: 710477893 TO THE BEAT\n",
      "Empty: 740392872 INFRA A NICKLE\n",
      "Empty: 647615728 COLD RUSH\n",
      "Empty: 656364113 KID LAZ\n",
      "Empty: 710534361 STYLISH MINK\n",
      "Empty: 707215622 KIARNI WAKANDA\n",
      "Empty: 707214621 KIARNI JAY\n",
      "Empty: 654230888 LADY EXIT\n",
      "Empty: 707215616 CEDAR\n",
      "Empty: 692976196 BIJLI RANI\n",
      "Empty: 724334303 SOLO CHOPPER\n",
      "Empty: 438216684 BROTHER BEARING\n",
      "Empty: 707215659 VANUATU\n",
      "Empty: 665371627 NATH'S GIFT\n",
      "Empty: 706095878 GENUINE KNOCKOUT\n",
      "Empty: 685382539 LODESTONE\n",
      "Empty: 677833612 AUSSIE JADE\n",
      "Empty: 705700142 FRED'S WAY\n",
      "Empty: 771724483 CASSIE COOL\n",
      "Empty: 702435596 MISTER O'BRIEN\n",
      "Empty: 771741538 GOULBURN GIRL\n",
      "Empty: 726168970 DANA PAULINE\n",
      "Empty: 707215148 GLASKI POKE\n",
      "Empty: 667648710 HEY NAN\n",
      "Empty: 697331384 RED MEDUSA\n",
      "Empty: 726168949 BABY RICCIARDO\n",
      "Empty: 667648712 MICKEY ROY\n",
      "Empty: 771741030 HANNAH HAWKE\n",
      "Empty: 715712575 BAD MOVE\n",
      "Empty: 726169485 ROYAL NANGAR\n",
      "Empty: 679825448 INSANE GEORGE\n",
      "Empty: 561780910 JUST FORGOT\n",
      "Empty: 654230417 POPPY VILLE\n",
      "Empty: 716345834 GLIDE ON BYE\n",
      "Empty: 698471208 FLASH HUNTER\n",
      "Empty: 714918114 CAWBOURNE BUTTER\n",
      "Empty: 614057227 TOO GOOD VIVIAN\n",
      "Empty: 694347926 SIMPLY AWESOME\n",
      "Empty: 681945175 ISABELA ROCKS\n",
      "Empty: 650078157 MISS SPOKE\n",
      "Empty: 675318999 PICTURE TIME\n",
      "Empty: 705700173 CROCODILE KID\n",
      "Empty: 710477692 DEAD RINGER\n",
      "Empty: 705701175 PINK MOON\n",
      "Empty: 714917002 SLICK MONKEY\n",
      "Empty: 714917597 HAZARD ALERT\n",
      "Empty: 714917013 ZIPPING SYLVIA\n",
      "Empty: 707214673 SONIA KEEPING\n",
      "Empty: 702436653 SILVER SESSION\n",
      "Empty: 643581622 WHIZBANG ROBYN\n",
      "Empty: 714918080 MADDI AND ME\n",
      "Empty: 671733789 ASTON CONTROL\n",
      "Empty: 714917596 HAWAII SUNRISE\n",
      "Empty: 710477844 NANGAR LUNA\n",
      "Empty: 714918024 ZIPPING EDITH\n",
      "Empty: 671733792 ASTON SHANDY\n",
      "Empty: 648009439 ERNIE'S SISTER\n",
      "Empty: 702436138 FUN\n",
      "Empty: 710478156 TOXIC LABEL\n",
      "Empty: 718777332 LOCHINVAR MILAN\n",
      "Empty: 710534409 HAS ABILITY\n",
      "Empty: 666046435 MILLTHORPE OSCAR\n",
      "Empty: 629792164 RAMPAGE SOLDIER\n",
      "Empty: 655391173 INFRARED RAYS\n",
      "Empty: 587949060 CHARLO\n",
      "Empty: 656363775 CHEVY GOLD GIRL\n",
      "Empty: 675319000 PAYMENT MADE\n",
      "Empty: 705701171 TO TOO TWO\n",
      "Empty: 645797106 JUSTIFY LOVE\n",
      "Empty: 731358305 FELONIES TWO\n",
      "Empty: 740359779 LIZZY KEEPING\n",
      "Empty: 740392849 REED KEEPING\n",
      "Empty: 673866046 MYALL PRAWN\n",
      "Empty: 675318950 ROLLO\n",
      "Empty: 566348015 SHALL NOT\n",
      "Empty: 675307592 LENNY'S FLAME\n",
      "Empty: 528382673 KISSIN' COCO\n",
      "Empty: 670508360 ABBEY\n",
      "Empty: 700661026 DRAGGING BOOTS\n",
      "Empty: 716345399 PINKY MAGIC\n",
      "Empty: 450250731 ROCKET POWER\n",
      "Empty: 638803230 ZIPPING PIP\n",
      "Empty: 672630576 IMPRESS ROCKS\n",
      "Empty: 675307468 SELFIE TIME\n",
      "Empty: 650079113 STAR VEGA\n",
      "Empty: 650079112 STAR SLATE\n",
      "Empty: 707215237 DANDY REDEEMER\n",
      "Empty: 597982085 LEGENDARY ETHICS\n",
      "Empty: 718777342 SHE'S GLORIOUS\n",
      "Empty: 714917133 RAW QUALITY\n",
      "Empty: 689766808 WHAT ABOUT PABLO\n",
      "Empty: 667648205 SHARP\n",
      "Empty: 673010844 TORI'S CASH\n",
      "Empty: 714917633 LUSH ICE\n",
      "Empty: 734719589 MR. FLYING TIGER\n",
      "Empty: 701046833 RISING FEVER\n",
      "Empty: 633121259 COPPOLA BALE\n",
      "Empty: 629791160 GRANDMA BUTTON\n",
      "Empty: 707215123 KIARNI TERROR\n",
      "Empty: 716345408 DISCO BALL BABE\n",
      "Empty: 707214617 KIARNI BOLT\n",
      "Empty: 670507916 BILLY BUSH\n",
      "Empty: 650078630 GO ON GET\n",
      "Empty: 695962733 SET TO STRIKE\n",
      "Empty: 752070676 ZARA GO ON\n",
      "Empty: 695984757 SET TO ROLL\n",
      "Empty: 670507918 JULIA BUSH\n",
      "Empty: 667700852 VICTORY ROYALE\n",
      "Empty: 556974358 BUGATTI REBEL\n",
      "Empty: 702436168 FELIX FLOYD\n",
      "Empty: 718777419 SPRING VOGUE\n",
      "Empty: 714917514 PURRING ALONG\n",
      "Empty: 716345410 LOMA\n",
      "Empty: 718776914 SPRING BLEND\n",
      "Empty: 718777783 CYCLONE SHIRLEY\n",
      "Empty: 694776296 DEBBIE KNOWS\n",
      "Empty: 675307098 SALLY SUNRISE\n",
      "Empty: 716368451 ELSESSER\n",
      "Empty: 718777901 ZIPPING FOXY\n",
      "Empty: 718776893 ZIPPING OSMAN\n",
      "Empty: 718777902 ZIPPING ELKIE\n",
      "Empty: 718776894 ZIPPING OLAF\n",
      "Empty: 714917012 ZIPPING VANESSA\n",
      "Empty: 694357450 WAVERING LIGHT\n",
      "Empty: 702435649 CALYPSO ROGUE\n",
      "Empty: 775589747 CUDAL COBRA\n",
      "Empty: 710477763 WISHBONE\n",
      "Empty: 710534464 WATCH THE SPEED\n",
      "Empty: 710534414 BLUEY'S WISH\n",
      "Empty: 715712568 SEVEN LADS\n",
      "Empty: 572932578 JUNGLE PANTHER\n",
      "Empty: 542284406 PANADERO WARRIOR\n",
      "Empty: 710477762 NYAD PARRA\n",
      "Empty: 707215242 CHIPPER\n",
      "Empty: 705700131 SPEEDY SONIC\n",
      "Empty: 665396170 CANYA TORQUE\n",
      "Empty: 718777956 CANYA SMURFETTE\n",
      "Empty: 603189991 BROWSE THEM MINI\n",
      "Empty: 714918084 BUTTERWICK\n",
      "Empty: 648053526 STORMY TRENCH\n",
      "Empty: 629792217 INFRA PENNY\n",
      "Empty: 718777824 STELLA MANIA\n",
      "Empty: 665430274 ZOOM TO EXCEL\n",
      "Empty: 714918180 PEARLY TEARS\n",
      "Empty: 718777842 MISS ZIG ZAG\n",
      "Empty: 714917061 ARMATREE CASH\n",
      "Empty: 710478251 COCONUT CHLOE\n",
      "Empty: 707214715 LADY LAURENE\n",
      "Empty: 734718594 TOWERING CHIEF\n",
      "Empty: 665371633 SHIAN LANI\n",
      "Empty: 645795527 MR. LOVER LOVER\n",
      "Empty: 710477884 GIVE IT AWAY\n",
      "Empty: 669960257 STRATAVON KIWI\n",
      "Empty: 576142072 AEROPLANE HARLOW\n",
      "Empty: 650078120 STAR LUNA\n",
      "Empty: 556222757 DUSTY SUGAR\n",
      "Empty: 534919712 DAYLEN BALE\n",
      "Empty: 629791191 ABBY DOLL\n",
      "Empty: 629792152 WILDASH ANDY\n",
      "Empty: 698471717 CALAMITY JOE\n",
      "Empty: 698471207 FLASH AS JOE\n",
      "Empty: 698471719 HAZEL'S OPAL\n",
      "Empty: 695962731 SET TO RUIN\n",
      "Empty: 656363615 OUR CHINA REEF\n",
      "Empty: 695984759 SET TO ROCK\n",
      "Empty: 695984758 SET TO WHIRL\n",
      "Empty: 718777345 GUARD THE SUN\n",
      "Empty: 602825245 ADHANA RICO\n",
      "Empty: 672069461 SLINGSHOT MARLEY\n",
      "Empty: 702436590 KATRINA HIGHKICK\n",
      "Empty: 668146130 SAPPHIRE EDITION\n",
      "Empty: 710641947 ASTON WORLD\n",
      "Empty: 710478133 LET'S GO MERV\n",
      "Empty: 718777755 CAWBOURNE FLINT\n",
      "Empty: 710478132 LET'S GO MARTY\n",
      "Empty: 561782102 JALEESA BALE\n",
      "Empty: 660800036 FEDERAL FERNANDO\n",
      "Empty: 675307583 JUST BREW IT\n",
      "Empty: 782101817 GYPSY GAMBLER\n",
      "Empty: 782171946 UNCLE FREDDY\n",
      "Empty: 665396179 BANFIELD\n",
      "Empty: 675306940 ZARUDE\n",
      "Empty: 689777812 SILVER LAD\n",
      "Empty: 740359826 CHLOE CHAOS\n",
      "Empty: 663003900 LANE COVE\n",
      "Empty: 726168985 NANGAR BUBBLES\n",
      "Empty: 740359336 LITTLE MAN JAY\n",
      "Empty: 714917132 FERNANDO QUALITY\n",
      "Empty: 771741539 TILLY HAWKE\n",
      "Empty: 716368437 PRISTINE ETHICS\n",
      "Empty: 688394556 MIGHTY RANGER\n",
      "Empty: 771724480 MONSTER MEL\n",
      "Empty: 539779432 FISH TOG GIBLET\n",
      "Empty: 698472163 DINO WAY\n",
      "Empty: 718777397 ZIPPING HADLEY\n",
      "Empty: 698471718 AUSSIE COURAGE\n",
      "Empty: 688395556 PRINCESS ALBERT\n",
      "Empty: 752070146 INDISCREET\n",
      "Empty: 716345838 RIOTOUS MISS\n",
      "Empty: 576142008 CEDAR MINDY\n",
      "Empty: 633120766 BEVAN BALE\n",
      "Empty: 649041993 ZAMBORA NUT\n",
      "Empty: 714917036 BRONCO HENRY\n",
      "Empty: 521241910 MAHI MAHI MISS\n",
      "Empty: 629791134 WILDASH JETT\n",
      "Empty: 510730958 BECKY CAIRN DO\n",
      "Empty: 714918086 BELLA KEEN\n",
      "Empty: 710478129 LET'S GO GEORGI\n",
      "Empty: 601137878 TOMMY MCKINNON\n",
      "Empty: 675319107 FIERCE TRIXIE\n",
      "Empty: 677833983 POOKY HOLLER\n",
      "Empty: 710478415 FABULOUS JUNE\n",
      "Empty: 692976197 REMISSION\n",
      "Empty: 664609582 ALASKA GO\n",
      "Empty: 580792874 TERAGRAM'S STAR\n",
      "Empty: 592711084 CALL ME QUITS\n",
      "Empty: 694776846 POWER STORM\n",
      "Empty: 648009438 PURE CLARITY\n",
      "Empty: 637973421 DESPICABLE FLASH\n",
      "Empty: 679825481 AURORA LOVE\n",
      "Empty: 765531550 ROCKET RIOT\n",
      "Empty: 737959978 SWITCH IT ON\n",
      "Empty: 718777304 NOAH'S CHOICE\n",
      "Empty: 714917057 TRALEE ROSA\n",
      "Empty: 670508350 TAKEN PRINCE\n",
      "Empty: 680701254 HALCYON DAYS\n",
      "Empty: 654230881 ENCHANTED ANGEL\n",
      "Empty: 716345900 PERFECT DAWN\n",
      "Empty: 718777921 IT'S FATE\n",
      "Empty: 675307466 DAY OUT\n",
      "Empty: 576142053 BE BE RUFUS\n",
      "Empty: 656363301 HALF LOVED\n",
      "Empty: 688395046 REDSHIFT ROMEO\n",
      "Empty: 675307526 XOIE BALE\n",
      "Empty: 698471162 DECLAN'S FIRST\n",
      "Empty: 656363793 ATTENTION SPAN\n",
      "Empty: 612861780 SUGAR HIT ZARA\n",
      "Empty: 710477628 LET'S GO DEAN\n",
      "Empty: 716345393 SNOWY ETHICS\n",
      "Empty: 757984953 BEAR'S BULLET\n",
      "Empty: 718776858 GRANDER MAKAIRA\n",
      "Empty: 692976193 FIRST SENT\n",
      "Empty: 659565012 MISS ARTEMIS\n",
      "Empty: 726168463 EVIE NISMO\n",
      "Empty: 695984771 WOOTOWN HEART\n",
      "Empty: 688395555 MIGHTY LEGEND\n",
      "Empty: 663003925 GO CALLIE GO\n",
      "Empty: 619722475 ALL SPRITZED UP\n",
      "Empty: 718777414 DARIUS EXPRESS\n",
      "Empty: 620538608 BOY GEORGE CARGO\n",
      "Empty: 726168986 SWIFT DENNIS\n",
      "Empty: 645796087 BELLA'S CHAMPION\n",
      "Empty: 566051343 MR. BEAN\n",
      "Empty: 614085721 SMILING OLIVE\n",
      "Empty: 633120767 ADAL BALE\n",
      "Empty: 633121793 OLIVE BALE\n",
      "Empty: 757984479 MARVEL ZOMBIE\n",
      "Empty: 757984978 ASHBY LOLA\n",
      "Empty: 757985472 ASHBY LISA\n",
      "Empty: 645795564 COMMITMENT\n",
      "Empty: 695984760 SET TO RAID\n",
      "Empty: 734718572 RED RICCIARDO\n",
      "Empty: 710534504 ARTHUR'S CHARM\n",
      "Empty: 675319007 MISS SASSY\n",
      "Empty: 641009506 BLUE EYE MAC\n",
      "Empty: 695963161 BURN THE TURF\n",
      "Empty: 718776711 TAIWAN TYLER\n",
      "Empty: 714918170 CATASTROPHIZE\n",
      "Empty: 566347995 COME ON AUSSIE\n",
      "Empty: 587949132 DANNI'S ON FIRE\n",
      "Empty: 714917022 BLAZE TO EXCEL\n",
      "Empty: 737959485 CHARLM BULLET\n",
      "Empty: 673011846 GOLD TIE ANNIE\n",
      "Empty: 701016790 ROTATOR\n",
      "Empty: 737959990 CHARLM OUTLAW\n",
      "Empty: 689766291 HARADA'S ME DAD\n",
      "Empty: 701016780 LADY SIF\n",
      "Empty: 801425296 GREAT NAN LOWRY\n",
      "Empty: 737959487 CHARLM DANCER\n",
      "Empty: 718777799 IT'S MUM'S MAGIC\n",
      "Empty: 667648735 SUNSHINE LILY\n",
      "Empty: 718777262 JACK'S MOON\n",
      "Empty: 718776709 MICK'S PICK\n",
      "Empty: 697328384 RED AND GOLD\n",
      "Empty: 718777226 MONACO SUN\n",
      "Empty: 726168958 LUCA NISMO\n",
      "Empty: 647616177 VIRAGO BLUE\n",
      "Empty: 707215645 GOOD LUCK BUCK\n",
      "Empty: 647615664 HOLTORF BALE\n",
      "Empty: 596364348 DOOKIE DEVIL\n",
      "Empty: 718776863 CRACKER LENNY\n",
      "Empty: 679093544 DIXIE COUNTRY\n",
      "Empty: 596364351 JACKPOT JOAN\n",
      "Empty: 561781925 GOT AWAY LATE\n",
      "Empty: 714917091 CAWBOURNE SILVER\n",
      "Empty: 710477621 LET'S GO SHAN\n",
      "Empty: 631792565 ICE MONSTER\n",
      "Empty: 633120765 VALOR BALE\n",
      "Empty: 710477834 PUMP YOUR BRAKES\n",
      "Empty: 714918171 TWO DOORS DOWN\n",
      "Empty: 685382583 HOT TORANA\n",
      "Empty: 714918036 WILL TO EXCEL\n",
      "Empty: 685380599 DRIFTIN' TORANA\n",
      "Empty: 710477722 CALYPSO RIPPLE\n",
      "Empty: 410839545 QUININE\n",
      "Empty: 549963740 UNDER ARREST\n",
      "Empty: 633121778 ZOHA BALE\n",
      "Empty: 633120763 AILEE BALE\n",
      "Empty: 573049813 BLACK SAIL\n",
      "Empty: 710478368 BLACK FIRE BALL\n",
      "Empty: 752070217 RED BALL ROCKET\n",
      "Empty: 668178694 SAMUEL SWAN\n",
      "Empty: 752070210 MISS MILA\n",
      "Empty: 729395900 MY GIRL DARCY\n",
      "Empty: 695485197 CEMENT MIXER\n",
      "Empty: 710478380 CURRENT MODEL\n",
      "Empty: 619407347 FIRE HOSE\n",
      "Empty: 700566854 MR. YELLOWSTONE\n",
      "Empty: 637973412 BLACKPOOL KOA\n",
      "Empty: 692976223 MARS LOMAR\n",
      "Empty: 695938107 FRYPAN LOMAR\n",
      "Empty: 700566856 BORN TO SPARKLE\n",
      "Empty: 710534440 BATTLE ROYAL\n",
      "Empty: 609519610 PAUA OF SILENCE\n",
      "Empty: 619407348 ALWAYS A THRILL\n",
      "Empty: 638538530 BLACKPOOL RYAN\n",
      "Empty: 555088051 GLADKI\n",
      "Empty: 614056737 SKEDADDLE RHINO\n",
      "Empty: 737958975 GRAND HURRICANE\n",
      "Empty: 698471156 SHE'S A ROBBO\n",
      "Empty: 737959476 DIVINE VITALITY\n",
      "Empty: 550407222 BOBBY LUPO\n",
      "Empty: 667648243 MACONA EXPRESS\n",
      "Empty: 561781507 KATIE'S IMAGE\n",
      "Empty: 597978613 MAGNIFICENCE\n",
      "Empty: 731470028 FELONY GIRL\n",
      "Empty: 705701126 SMALL DEMEANOUR\n",
      "Empty: 688395059 MIGHTY LUCKY\n",
      "Empty: 705700707 MEG'S GIRL\n",
      "Empty: 679093548 COUNTRY ROCK\n",
      "Empty: 714917503 SLICK ZULU\n",
      "Empty: 688349952 BARNEY BANANA\n",
      "Empty: 692976225 FLAWLESS LOMAR\n",
      "Empty: 660800006 JOE DIRT\n",
      "Empty: 656364126 HARDAWAY CHICAGO\n",
      "Empty: 714917647 OH SO CLASSY\n",
      "Empty: 623366252 OUTLAW ROCKY\n",
      "Empty: 702436162 BELLA LA GRAND\n",
      "Empty: 685382575 KRYPTO CURLY\n",
      "Empty: 645797108 NATURAL WOMEN\n",
      "Empty: 587949197 WROTE THE SCRIPT\n",
      "Empty: 710478252 AUSSIE POWER\n",
      "Empty: 663003414 COONAMBLE KID\n",
      "Empty: 611215584 HIGH TIMES\n",
      "Empty: 765532301 TATE\n",
      "Empty: 675307557 FIERCE HANNAH\n",
      "Empty: 765531786 SOPHIA KINGDOM\n",
      "Empty: 718777311 MAXINE MAGIC\n",
      "Empty: 705701186 GREAT MATE\n",
      "Empty: 714917984 POWER MAID\n",
      "Empty: 587948149 LA FOLIE\n",
      "Empty: 695962680 BYE BYE RAMBO\n",
      "Empty: 734719534 SNOWDONIA MISS\n",
      "Empty: 633121717 OPTICS\n",
      "Empty: 669959783 LAZARUS SOLDIER\n",
      "Empty: 654231370 REBEL RAIDER\n",
      "Empty: 691818387 SHOT OF FAITH\n",
      "Empty: 691818386 SILENT FAITH\n",
      "Empty: 734719536 GEORGE'S BEST\n",
      "Empty: 714917053 GOT A MISTAKE\n",
      "Empty: 636706877 SEELY'S QUEEN\n",
      "Empty: 672069463 SLINGSHOT QUEEN\n",
      "Empty: 690383519 NITRAM BLUE JAY\n",
      "Empty: 705700627 SHEBA'S BEAUTY\n",
      "Empty: 689766782 KICK IT\n",
      "Empty: 684480228 DARK HORSE\n",
      "Empty: 718776887 ZIPPING SIMONE\n",
      "Empty: 705700190 DEN DEN\n",
      "Empty: 710478172 GET THE SPEAR\n",
      "Empty: 591659979 KUNG FUR MASTER\n",
      "Empty: 651957314 GARRY STUN ON\n",
      "Empty: 752070216 OAKEE BEAR\n",
      "Empty: 765556698 PAWS GALORE\n",
      "Empty: 672630579 IMPRESS ROLLS\n",
      "Empty: 629791177 AUSSIE LAD\n",
      "Empty: 705700089 MOVEALONG ZAYNE\n",
      "Empty: 619407354 FUN IDOL\n",
      "Empty: 580794404 SHIAN NESSA\n",
      "Empty: 765532409 CANYA DIOR\n",
      "Empty: 665430233 SHIAN SILVA\n",
      "Empty: 650079179 YORK VICTORIOUS\n",
      "Empty: 645499432 UNACCEPTABLE SID\n",
      "Empty: 714917060 LIDCOMBE BLUE\n",
      "Empty: 660800487 ARROW FERNANDO\n",
      "Empty: 642130201 RISKY KATHLEEN\n",
      "Empty: 705701128 PENGUIN DOUG\n",
      "Empty: 692976208 TOTAL GLAMOUR\n",
      "Empty: 740392843 CLINT KEEPING\n",
      "Empty: 702436601 RUSTY EVENT\n",
      "Empty: 669960310 ARCHIE'S DETOUR\n",
      "Empty: 670508401 JODIE CARGO\n",
      "Empty: 760120791 NATES FURY\n",
      "Empty: 740359282 ISAAH KEEPING\n",
      "Empty: 669960308 BLUE SMOOTHIE\n",
      "Empty: 718777871 THIEVIN' STEVEN\n",
      "Empty: 718776899 THOMAS EXPRESS\n",
      "Empty: 672316463 HAROLD TARO\n",
      "Empty: 638803615 REAL SLIM\n",
      "Empty: 740359771 CECILY CARGO\n",
      "Empty: 702436142 JACOBITE POWER\n",
      "Empty: 726168981 OUTLAW MCGRAW\n",
      "Empty: 710477761 PIED PIPER\n",
      "Empty: 672316973 JOHN BOY TARO\n",
      "Empty: 530412346 DOUGIE CARGO\n",
      "Empty: 718777828 CRIMSON TRALEE\n",
      "Empty: 718777413 FLYING EXPRESS\n",
      "Empty: 695963211 SET TO EXPOSE\n",
      "Empty: 707215670 TRICK OR TREAT\n",
      "Empty: 677865066 COASTAL MAGIC\n",
      "Empty: 714917510 DEMON TO EXCEL\n",
      "Empty: 710534252 RASCAL STORIES\n",
      "Empty: 718776831 CLASSY PINK\n",
      "Empty: 679093480 OUR GIRL RACHEL\n",
      "Empty: 765532405 CANYA LAGOON\n",
      "Empty: 647300024 MADALIA TIPPER\n",
      "Empty: 633121810 INTERNAL AFFAIRS\n",
      "Empty: 662596048 SUNNYSIDE ZEUS\n",
      "Empty: 670508361 WHALE\n",
      "Empty: 710534432 WARIO\n",
      "Empty: 668117069 NITRAM BLUE ROAN\n",
      "Empty: 710534347 CHINA PANDA\n",
      "Empty: 733386365 WINLOCK WAY OUT\n",
      "Empty: 556974429 ROCKSTAR SID\n",
      "Empty: 710478356 PRANCING TORO\n",
      "Empty: 689777821 BURNING ROSE\n",
      "Empty: 558491868 CLOVER GUPPY\n",
      "Empty: 694776824 SNOW BELLE\n",
      "Empty: 689766299 SURF PRINCESS\n",
      "Empty: 694775823 SNOW PATROL\n",
      "Empty: 642130198 DUFFTOWN\n",
      "Empty: 714917006 SWEET MAIZIE\n",
      "Empty: 689777807 LADY GRUB\n",
      "Empty: 714917558 GOT A PENSION\n",
      "Empty: 689777806 LADY GIFT\n",
      "Empty: 726169489 IRISH ACTOR\n",
      "Empty: 718695524 BLACKPOOL BUDDY\n",
      "Empty: 718776859 PAINTED IN SOOT\n",
      "Empty: 710477829 BROCKIE THE BULL\n",
      "Empty: 705310806 ASTON PLUS\n",
      "Empty: 700930612 JUBILEE KEEPING\n",
      "Empty: 678972736 MASTER ARTIST\n",
      "Empty: 580792948 HELLO MIKE\n",
      "Empty: 656364112 KID LARRY\n",
      "Empty: 695962648 SITTING DUCK\n",
      "Empty: 718776719 ONLY HALF GINGER\n",
      "Empty: 769455424 FREIGHTLINER\n",
      "Empty: 619407352 SPIRIT WORLD\n",
      "Empty: 629791628 MOMENT LIKE THIS\n",
      "Empty: 629791121 HONEY I'M GOOD\n",
      "Empty: 648053524 SWEET PEA\n",
      "Empty: 645795536 WEST ON FLARE\n",
      "Empty: 673011853 WEST ON INDIGO\n",
      "Empty: 640276999 LIPINSKI PIE\n",
      "Empty: 673011351 MY LAST BABE\n",
      "Empty: 514260469 RATIFIED\n",
      "Empty: 635299564 JUST VANISHED\n",
      "Empty: 775589227 WHO KNOWS LYN\n",
      "Empty: 673010850 WEST ON OAKLEY\n",
      "Empty: 650078196 TONTO'S BOY\n",
      "Empty: 702424054 TWISTER GIBLET\n",
      "Empty: 629792108 EXPRESSIONIST\n",
      "Empty: 527165732 COMPULSORY HERO\n",
      "Empty: 521258464 PRESIDENT\n",
      "Empty: 550747923 GYPSY BOY\n",
      "Empty: 677877049 HELLO MATE\n",
      "Empty: 714917135 MRS. JONES\n",
      "Empty: 718776748 NINA THE HYENA\n",
      "Empty: 587948611 BLUE RIDER\n",
      "Empty: 718776814 SILENT MONEY\n",
      "Empty: 675318952 SILVER SPURS\n",
      "Empty: 710477639 TRACK MAGICIAN\n",
      "Empty: 739456964 GOOD PUB FEED\n",
      "Empty: 700661032 STEEL HEELS\n",
      "Empty: 670508893 PENALTY KING\n",
      "Empty: 700661036 STEEL LADY\n",
      "Empty: 705701135 TRALEE JESTER\n",
      "Empty: 650079178 FROM THE SKY\n",
      "Empty: 718777831 PATCHES POINT\n",
      "Empty: 681992268 MOMOKO\n",
      "Empty: 556974949 ROCKSTAR PIPER\n",
      "Empty: 718777325 LICKING MARVEL\n",
      "Empty: 679825450 COME ON RHONDA\n",
      "Empty: 688395058 MIGHTY SEVEN\n",
      "Empty: 680702228 MODERN MADONNA\n",
      "Empty: 705701211 HOOKED\n",
      "Empty: 705701210 OSCAR THEA\n",
      "Empty: 675307009 EULER BALE\n",
      "Empty: 695963209 SET TO DARE\n",
      "Empty: 714917127 BOOM BOOM\n",
      "Empty: 705701133 TRALEE CHANCE\n",
      "Empty: 726169459 ROSACKY PARTY\n",
      "Empty: 718777263 KANGAROO JACK\n",
      "Empty: 626192405 LAROZA BALE\n",
      "Empty: 726168450 FELIX JAG\n",
      "Empty: 715726104 BLUE GOOSE BOY\n",
      "Empty: 592709648 OBOYA BALE\n",
      "Empty: 647615171 JAMILLA BALE\n",
      "Empty: 752069649 HOOKED ON FAME\n",
      "Empty: 716345338 IMPRESS NALA\n",
      "Empty: 740359767 KINGSBRAE SMOKEY\n",
      "Empty: 702436102 MIDNIGHT ASSIST\n",
      "Empty: 525212898 SAHARA CASTLE\n",
      "Empty: 705700672 SIR GEORGE\n",
      "Empty: 771741031 GENTLE GEMMA\n",
      "Empty: 693386507 JOYOUS FUTURE\n",
      "Empty: 722116857 SPELLCASTER\n",
      "Empty: 684862996 ARTEMIS ONE\n",
      "Empty: 670574478 FOXY LADY ZEAL\n",
      "Empty: 540634612 SMOKIN' CHARLIE\n",
      "Empty: 629792120 MAGGIE BRANN\n",
      "Empty: 675307522 VIDRIS BALE\n",
      "Empty: 645329095 OLIVIA BAKER\n",
      "Empty: 705701127 HOT POCKETS\n",
      "Empty: 633121794 LANDYN BALE\n",
      "Empty: 634936451 ORSON BEACH\n",
      "Empty: 656363111 OUR CHINA REBEL\n",
      "Empty: 656364115 OUR CHINA SAL\n",
      "Empty: 714916993 ARROGANT CHESTER\n",
      "Empty: 740359844 PINCH AN INCH\n",
      "Empty: 633121267 YACHI BALE\n",
      "Empty: 679831450 ELITE ALEX\n",
      "Empty: 647615258 JAY IS JAY\n",
      "Empty: 677833608 CUSTARD MONELLI\n",
      "Empty: 536729316 PEACOCK\n",
      "Empty: 694775812 ROCKY CHANA\n",
      "Empty: 771741133 JILLIBY SIVO\n",
      "Empty: 645820568 SKY'S DELIGHT\n",
      "Empty: 707215172 FIERY CHANA\n",
      "Empty: 710534378 ACEY DEUCEY\n",
      "Empty: 752070733 BEST THUNDER\n",
      "Empty: 714917099 NIP OF SILVER\n",
      "Empty: 740359298 BLIND FROG\n",
      "Empty: 679093523 TAZ'S CLASSIFIED\n",
      "Empty: 639219889 TAT KENNY\n",
      "Empty: 718776792 WHISPERING JACK\n",
      "Empty: 692976209 LANMOR BEAUTY\n",
      "Empty: 656363752 ESTELLE SOLDIER\n",
      "Empty: 663003937 TARAWI MINNIE\n",
      "Empty: 695962665 WINSOME SIENNA\n",
      "Empty: 707214665 FARMOR KNOWN\n",
      "Empty: 714918102 ROCKSTAR EILISH\n",
      "Empty: 733386903 GET FULLY LOADED\n",
      "Empty: 707215650 FARMOR WANTED\n",
      "Empty: 707215655 FARMOR IN FRONT\n",
      "Empty: 702424049 GO GO GIBLET\n",
      "Empty: 726168520 FLYING ALONSO\n",
      "Empty: 651043012 FLY SLIP\n",
      "Empty: 592709073 NICKO BOOM\n",
      "Empty: 689777845 SAFARI STICKER\n",
      "Empty: 714917100 BEAR INSTINCTS\n",
      "Empty: 448840894 ROAD OWL\n",
      "Empty: 663002904 CHAPPO\n",
      "Empty: 757985037 WHERE'S KENNY\n",
      "Empty: 675307563 SEATON KEY\n",
      "Empty: 425868045 FLYING SONIC\n",
      "Empty: 650078188 SOLAR BRIGHT\n",
      "Empty: 665396217 FINAL INNINGS\n",
      "Empty: 737958986 WARAMI STAR\n",
      "Empty: 692975713 LANMOR LAMPOONS\n",
      "Empty: 665396223 ADELAIDE GIRL\n",
      "Empty: 718777703 GLASTONBURY\n",
      "Empty: 707215235 SHAWSHANK RED\n",
      "Empty: 715726106 JETT KHAN\n",
      "Empty: 710534477 BANDIT BULLET\n",
      "Empty: 700930592 TYPHOON ETHICS\n",
      "Empty: 718777346 BLUEBELL FERN\n",
      "Empty: 691801349 SHE'S TEMPTING\n",
      "Empty: 718776837 ONE HOT BANDIT\n",
      "Empty: 718776910 SPRING WHISKEY\n",
      "Empty: 760119736 MORK VISION\n",
      "Empty: 737958982 BOLT SAINT BOLT\n",
      "Empty: 710646960 IT'S A PROMISE\n",
      "Empty: 718777900 ZIPPING ROUSEY\n",
      "Empty: 714917587 CAWBOURNE SPADE\n",
      "Empty: 718777807 AVA'S MISS\n",
      "Empty: 675306929 HILDE\n",
      "Empty: 629791124 TAKE MY HAND\n",
      "Empty: 702436115 SPREAD THE LOAD\n",
      "Empty: 710534336 SAKA BOOM\n",
      "Empty: 685379596 OH SO SHEIKE\n",
      "Empty: 737959991 MISTER CHARLM\n",
      "Empty: 664892633 KIMBA NEO\n",
      "Empty: 710534466 SILVER PEARL\n",
      "Empty: 718777394 ZIPPING REMUS\n",
      "Empty: 718777922 SPRING PLATINUM\n",
      "Empty: 710477764 SHE'S RARE\n",
      "Empty: 638802611 BLACK PATCH\n",
      "Empty: 629791574 CLAWFOOT\n",
      "Empty: 740359857 SNACKS\n",
      "Empty: 717092837 PAYING THE PRICE\n",
      "Empty: 695962662 WINSOME CAMILLA\n",
      "Empty: 745076695 DUMPLING\n",
      "Empty: 650078222 GO DARTH GO\n",
      "Empty: 710478274 CONSTANT CHATTER\n",
      "Empty: 705700633 COLD CASH\n",
      "Empty: 752069724 FLYING WINGLESS\n",
      "Empty: 710477843 SAND WARRIOR\n",
      "Empty: 706804795 CHEEKY JAYNEE\n",
      "Empty: 698471660 TILLY ROBBO\n",
      "Empty: 714398451 LADY MERLE\n",
      "Empty: 474174970 HIGHLY PRAISED\n",
      "Empty: 702435643 BILL'S LEGACY\n",
      "Empty: 765532404 DAWN'S SISTER\n",
      "Empty: 611214496 LAURIE\n",
      "Empty: 540632152 NATIONAL GYPSY\n",
      "Empty: 679093487 I'M DUTCH\n",
      "Empty: 698471720 ZAMBORA ZEST\n",
      "Empty: 632132746 KORDA\n",
      "Empty: 570556349 RIPTIDE RUSLIE\n",
      "Empty: 702435652 BILL'S MATE\n",
      "Empty: 702436155 SILVER TIARA\n",
      "Empty: 707214672 CLOCK HER\n",
      "Empty: 737958972 LET'S TROT FOX\n",
      "Empty: 710477886 BOLT LIKE JAGGER\n",
      "Empty: 667648711 MISS FEVER\n",
      "Empty: 731358302 REGGIE QUINN\n",
      "Empty: 696849419 UPTOWN GEORGINA\n",
      "Empty: 726169032 KOORINGA ASH\n",
      "Empty: 726168532 KOORINGA RAFAEL\n",
      "Empty: 714917161 BRINDLE BLASTER\n",
      "Empty: 667700749 TOUCH BASE\n",
      "Empty: 726169522 KOORINGA BOWSER\n",
      "Empty: 734719077 LAKESHORE DRIVE\n",
      "Empty: 680208707 MASTER BROCKIE\n",
      "Empty: 731470526 SKIP THE CUE\n",
      "Empty: 710534405 SOCIAL STRATEGY\n",
      "Empty: 726168518 MEAN GIRL\n",
      "Empty: 764254467 MASANI GIRL\n",
      "Empty: 714918074 GLEDHILL JUNIOR\n",
      "Empty: 714917549 GLEDHILL'S GAL\n",
      "Empty: 714918085 SHE'S DEVINE\n",
      "Empty: 710534493 DARK NECESSITIES\n",
      "Empty: 714917035 FAST ROCK HARADA\n",
      "Empty: 726169021 DAVE RICCIARDO\n",
      "Empty: 760120794 OLLIE BOLT\n",
      "Empty: 702436642 JACOBITE FORCE\n",
      "Empty: 736689448 RICO'S FLAME\n",
      "Empty: 740359322 RAVEN BEACH\n",
      "Empty: 693386509 JOYOUS DREAM\n",
      "Empty: 623992504 MAKIN' MILLY'S\n",
      "Empty: 714917050 SHE SOME ANGEL\n",
      "Empty: 688394543 REDSHIFT COSMO\n",
      "Empty: 688394550 MIGHTY ACE\n",
      "Empty: 476716053 YEAH SEND IT\n",
      "Empty: 548320462 KINIMAKATKA\n",
      "Empty: 705232652 ELARBEE BRUCE\n",
      "Empty: 700661030 STEEL BOOTS\n",
      "Empty: 718777242 GOT A COPY\n",
      "Empty: 702436604 TOMMY'S SONS\n",
      "Empty: 694776306 RHYNO'S MAGIC\n",
      "Empty: 825329428 BEDAZZLED JEWEL\n",
      "Empty: 685382546 FIFI LA FEMME\n",
      "Empty: 734719086 INTEGRITY GOLD\n",
      "Empty: 515296541 STICKER SELLS\n",
      "Empty: 667648757 SKEDADDLE NOVA\n",
      "Empty: 718776836 MORE RUPEE\n",
      "Empty: 656364243 KEY ESKY\n",
      "Empty: 677833487 SET SAIL\n",
      "Empty: 643735933 GOLDEN DUDETTE\n",
      "Empty: 740359766 NITRO SLIM\n",
      "Empty: 731470525 GO WHISTLE DIXIE\n",
      "Empty: 726169023 SANDAVE JEANIE\n",
      "Empty: 677833998 PRIMERO\n",
      "Empty: 734719041 JOHNIE KOORINGA\n",
      "Empty: 645329084 HEDGING\n",
      "Empty: 775588739 CANYA CATCH ME\n",
      "Empty: 663003384 COSMIC DREAM\n",
      "Empty: 718777695 DALAIR STAR\n",
      "Empty: 716345858 MAGNOLIA TREE\n",
      "Empty: 656363110 JACK'S ZESTA\n",
      "Empty: 716345857 ON THE SAND\n",
      "Empty: 597600317 MASTER MARS\n",
      "Empty: 771741132 JILLIBY LAYTON\n",
      "Empty: 684797364 MR. TIDY\n",
      "Empty: 775588667 DELPHIE BELLE\n",
      "Empty: 665371634 SHIAN OLLIE\n",
      "Empty: 734719568 INTEGRITY SWIFT\n",
      "Empty: 706471127 AMINAH\n",
      "Empty: 503002025 KING OF SPADES\n",
      "Empty: 718777264 LADY BLIP\n",
      "Empty: 702436099 BARACUDA\n",
      "Empty: 740359264 KINGSBRAE WENDY\n",
      "Empty: 656363181 MAJOR DRUITT\n",
      "Empty: 662596057 MINTER DELIGHT\n",
      "Empty: 757985050 MIGHTY MORTON\n",
      "Empty: 706471123 TIKARNI\n",
      "Empty: 726168474 DANA WILLOW\n",
      "Empty: 726168969 DANA VICTOR\n",
      "Empty: 726168473 DANA HOUDINI\n",
      "Empty: 684797363 BEAUVILLIER\n",
      "Empty: 775589667 NIA FLYER\n",
      "Empty: 706471126 TEONNA\n",
      "Empty: 718777846 CLASSY LUNA\n",
      "Empty: 641008495 TWEED RIVAH\n",
      "Empty: 589197551 KIAH\n",
      "Empty: 702435620 HIT TOP GEAR\n",
      "Empty: 710478400 UNDER THE BRIDGE\n",
      "Empty: 540582560 FARMOR PIZAZZ\n",
      "Empty: 650078168 LADY VIRGINIA\n",
      "Empty: 629791603 FARMOR POWER\n",
      "Empty: 667648183 LUCKY COLOUR\n",
      "Empty: 669959281 PUSH THE PENNY\n",
      "Empty: 655356600 ZEROED IN\n",
      "Empty: 694775845 LETTUCE WIN\n",
      "Empty: 710477814 BRUISIN' BULL\n",
      "Empty: 638803224 BYE BYE BLUES\n",
      "Empty: 670507890 RACEY KASEY\n",
      "Empty: 458342866 MEPUNGA REJECT\n",
      "Empty: 668117078 HEY CLEVELAND\n",
      "Empty: 651355121 CASH CHEQUE\n",
      "Empty: 572974176 FARMOR AMBUSHED\n",
      "Empty: 679093529 WAIKARIE PEG\n",
      "Empty: 511161289 RIVER RAPIDS\n",
      "Empty: 702436131 BANANA GIRL\n",
      "Empty: 638803707 SHIFTY AND SHADY\n",
      "Empty: 689777836 MISS CARA BLACK\n",
      "Empty: 700930598 STELLA STAR\n",
      "Empty: 617355260 JIMMY INTENTION\n",
      "Empty: 620539111 FARMOR DECISIVE\n",
      "Empty: 684481231 ARROW  MASTER\n",
      "Empty: 702435627 FAR OUT LEXI\n",
      "Empty: 668117075 WHAT'S UP PETER\n",
      "Empty: 684481230 CLUB SUPREME\n",
      "Empty: 670508886 KAISON'S CURSE\n",
      "Empty: 670507892 SOUTH AUSSIE BOY\n",
      "Empty: 673919664 SPITEFUL\n",
      "Empty: 710534294 BIG MERV\n",
      "Empty: 679825454 GREAT MINDS\n",
      "Empty: 684481234 FESTIVAL DANCER\n",
      "Empty: 663003455 STREET SCANDAL\n",
      "Empty: 536255381 REBEL\n",
      "Empty: 752070227 THUNDERING BLUE\n",
      "Empty: 654230414 DIESEL'S SHADOW\n",
      "Empty: 710477777 BRON TAY\n",
      "Empty: 716368409 LIPSTICK CHASER\n",
      "Empty: 665371661 SIMPLE GAME\n",
      "Empty: 482776184 FOGELBERG\n",
      "Empty: 765531844 BLUBBER GUTS\n",
      "Empty: 675306927 KELLY EMGRAND\n",
      "Empty: 667648637 DESTINI MAGNET\n",
      "Empty: 710477737 HARD STYLE LADY\n",
      "Empty: 667648141 DESTINI OPERATOR\n",
      "Empty: 714916983 MY MAGNOLIA\n",
      "Empty: 619407353 LOOK I'M FLYING\n",
      "Empty: 689766797 FABULOUS NATH\n",
      "Empty: 765532408 CANYA LIGHT UP\n",
      "Empty: 710477775 RIVER JOHN\n",
      "Empty: 726169451 MY PIRATE\n",
      "Empty: 726168452 SUNDAY SLEEP IN\n",
      "Empty: 710478288 TINY BUTTON\n",
      "Empty: 698472213 VELOCITY KIANA\n",
      "Empty: 752070205 KAIZEN SHADOW\n",
      "Empty: 726168453 LAVENDER HAZE\n",
      "Empty: 640273492 SCOTT MONSTER\n",
      "Empty: 680626039 ECSTATIC\n",
      "Empty: 639221391 SCOTT ME\n",
      "Empty: 637973443 ANITA KEROMA\n",
      "Empty: 680626041 CREDITOR\n",
      "Empty: 705701153 ROSES RING\n",
      "Empty: 737959984 SHEER ROCKETEER\n",
      "Empty: 663377607 INTRUDER\n",
      "Empty: 714918166 SAND BLASTER\n",
      "Empty: 677865052 CLOVER FIREBALL\n",
      "Empty: 707215738 NED THE KNIGHT\n",
      "Empty: 707215623 KIARNI GENIE\n",
      "Empty: 825329429 HES A DAZZLER\n",
      "Empty: 702424055 CAKE\n",
      "Empty: 707214620 KIARNI GREMLIN\n",
      "Empty: 718777916 MARVEL MUNRO\n",
      "Empty: 710534420 RIO BRAVO\n",
      "Empty: 718777460 SISTER ART\n",
      "Empty: 710478145 BE JOHNNY\n",
      "Empty: 710478430 BOOM BAM POPPY\n",
      "Empty: 718776958 AWESOME PILOT\n",
      "Empty: 718777412 SHELLY SPEED\n",
      "Empty: 637972943 FARMOR ORDER\n",
      "Empty: 718777857 WHITE SECRET\n",
      "Empty: 675307520 QUAY BALE\n",
      "Empty: 690004755 ZEMANEK\n",
      "Empty: 701016743 TOMMY TUXEDO\n",
      "Empty: 716345402 MANILA COGHLAN\n",
      "Empty: 734718603 UNLEASH HAVOC\n",
      "Empty: 765531549 ROYAL RIOT\n",
      "Empty: 638803066 MISS CHIEF\n",
      "Empty: 710534421 CALLI CAN\n",
      "Empty: 752070143 VOLCAN BARU\n",
      "Empty: 714917504 SLICK HONEY\n",
      "Empty: 710477795 WAR PAINT\n",
      "Empty: 683541864 GYPSY RICO\n",
      "Empty: 662997349 PLEASURE CRUISE\n",
      "Empty: 710534465 GOING SOLO\n",
      "Empty: 700930615 BAG A BERGAN\n",
      "Empty: 662631627 GLORIOUS ZEAL\n",
      "Empty: 736690948 MOLLY CAMILLE\n",
      "Empty: 651043014 SILLY MID OFF\n",
      "Empty: 697328377 HEIDI HOOK\n",
      "Empty: 753072145 DUKER'S QUEEN\n",
      "Empty: 707215203 BURST OF PERFUME\n",
      "Empty: 572643006 VELOCITY DANIKA\n",
      "Empty: 670507888 BOY FROM HILL\n",
      "Empty: 670508376 BRUCE'S ANGEL\n",
      "Empty: 622036599 KING CUNNINGTON\n",
      "Empty: 603189518 HUGHY HAYZE\n",
      "Empty: 718776791 ALBERT'S MEMORY\n",
      "Empty: 695984756 SET TO DANCE\n",
      "Empty: 651043015 OFFSHORE OUTLAW\n",
      "Empty: 760119884 HARRITA'S DUE IN\n",
      "Empty: 726168462 AURIEL'S NISMO\n",
      "Empty: 760119368 HARRY PANAMA\n",
      "Empty: 764286024 AVA'S DELIGHT\n",
      "Empty: 726169022 LET'S FLY AGAIN\n",
      "Empty: 877725796 DANA REX\n",
      "Empty: 722116852 LUMEAH RANGER\n",
      "Empty: 714917641 BE IN TOUCH\n",
      "Empty: 716345878 LIVIA SOPRANO\n",
      "Empty: 656364260 VELOCITY SASHA\n",
      "Empty: 710534427 CURSE OF COD\n",
      "Empty: 726168519 SANDAVE TOMMY\n",
      "Empty: 665371605 BURNER PHONE\n",
      "Empty: 714917177 LIKE WILDFIRE\n",
      "Empty: 707214698 CHECK THE RADAR\n",
      "Empty: 726169486 MISS MCGRAW\n",
      "Empty: 747808187 DIG DEEP INDY\n",
      "Empty: 663396149 SWEET APEX\n",
      "Empty: 672069459 SLINGSHOT CONNOR\n",
      "Empty: 707215210 MARVEL MALVIN\n",
      "Empty: 707215211 MAILMAN MALONE\n",
      "Empty: 752069638 PROMPT RESPONSE\n",
      "Empty: 714917640 LESS IS MORE\n",
      "Empty: 714917159 BLAST CAFE\n",
      "Empty: 707215124 KIARNI GAZELLE\n",
      "Empty: 716368433 SUAVE ETHICS"
     ]
    },
    {
     "name": "stderr",
     "output_type": "stream",
     "text": [
      "100%|██████████| 6671/6671 [00:00<00:00, 15079.06it/s]"
     ]
    },
    {
     "name": "stdout",
     "output_type": "stream",
     "text": [
      "\n",
      "Empty: 747910335 DANCING FLAMINGO\n",
      "Empty: 718777214 REDSHIFT PAPA\n",
      "Empty: 870438061 ORSON ARIA\n",
      "Empty: 765532187 CLANCY'S TAVERN\n",
      "Empty: 714917642 NOBBY'S GIRL\n",
      "Empty: 710477645 WENDY ROCKS\n",
      "Empty: 623992507 ROCHILL PEARL\n",
      "Empty: 702436600 LIMBUNYA\n",
      "Empty: 740359816 HAYMAN BEACH\n",
      "Empty: 695963210 SET TO RUN\n",
      "Empty: 771724529 RITZA LEWIS\n",
      "Empty: 650078173 AYLA\n",
      "Empty: 734719590 GAIL UNLEASHED\n",
      "Empty: 733458991 AKELA ZORO\n",
      "Empty: 775589228 ROMAN WOLF\n",
      "Empty: 747910340 DAPPER FOX\n",
      "Empty: 747910337 DAPPER RICH\n",
      "Empty: 669959782 NEW HIGHS\n",
      "Empty: 606761154 VENOM SOLDIER\n",
      "Empty: 718777964 TAW COMMANDER\n",
      "Empty: 710477632 BE DIPLOMATIC\n",
      "Empty: 632134757 ASTON DOUGIE\n",
      "Empty: 632134756 ASTON PROSPECT\n",
      "Empty: 716345354 TIGGERLONG EGG\n",
      "Empty: 615180911 ASTON HOGAN\n",
      "Empty: 752070660 PREMIER LOU\n",
      "Empty: 700566858 MS. BLUECHIP\n",
      "Empty: 718777338 FLASH TIGER\n",
      "Empty: 740359273 FRANKY BEAR\n",
      "Empty: 718777944 SUSIE'S SO FAST\n",
      "Empty: 718776823 MR. ARIA\n",
      "Empty: 718777324 JOHNNY FOR SURE\n",
      "Empty: 877724787 JACK NELSON\n",
      "Empty: 623993510 CHAIR SNAPPER\n",
      "Empty: 718776833 MAXWELL KNOWS\n",
      "Empty: 736690944 MY SALLY\n",
      "Empty: 736690946 MY AMELIA\n",
      "Empty: 718777905 SHE KISSED ME\n",
      "Empty: 642132705 RICH'S DELIGHT\n",
      "Empty: 609519615 ZIPPING SYBIL\n",
      "Empty: 705701190 RUM RIOT\n",
      "Empty: 707215208 ZARZU\n",
      "Empty: 765532087 BIG FRANK BANNER\n",
      "Empty: 740392886 CAPE CANAVERAL\n",
      "Empty: 710477750 PODDELKA LADY\n",
      "Empty: 779220339 BIG BANG BOOM\n",
      "Empty: 726168449 ROSACKY VENOM\n",
      "Empty: 694776324 SMOOTH SHIMMY\n",
      "Empty: 757984474 TARAWI TIGER\n",
      "Empty: 702436147 GOOD PUTT\n",
      "Empty: 647615232 SILKY RIPPLE\n",
      "Empty: 740359348 SEND IT SILVER\n",
      "Empty: 779221342 TILLY THE FILLY\n",
      "Empty: 645795602 WE BELONG\n",
      "Empty: 726169460 OCEANSIDE\n",
      "Empty: 517863184 FIRED UP FINN\n",
      "Empty: 731470022 WHISKEY MISS\n",
      "Empty: 662599559 LEXI BOOST\n",
      "Empty: 710534525 WATCH THE FRANKY\n",
      "Empty: 687577412 FLYING BUTCHER\n",
      "Empty: 722116853 LUMEAH MAX\n",
      "Empty: 701046814 BERMUDA SKY\n",
      "Empty: 700930610 MY INCOME\n",
      "Empty: 765556611 WRENCH\n",
      "Empty: 760120782 FLAMING ASTRID\n",
      "Empty: 760120790 SILVERS FURY\n",
      "Empty: 714398453 LADY DOT\n",
      "Empty: 693386506 JOYOUS GIFT\n",
      "Empty: 693386508 JOYOUS FORTUNE\n",
      "Empty: 714917126 LOGARITHM\n",
      "Empty: 760119886 HARRY CONFETTI\n",
      "Empty: 733458992 AKELA AGE\n",
      "Empty: 736205976 PACEY MACEY\n",
      "Empty: 779221375 CHASING MASON\n",
      "Empty: 710478146 SHADOW EXPRESS\n",
      "Empty: 870659515 ORSON EYES\n",
      "Empty: 707214625 SUBLIME ETHICS\n",
      "Empty: 647615148 WAR COLOURS\n",
      "Empty: 550747858 OUR LITTLE MAN\n",
      "Empty: 714918177 BROOKLYN BARB\n",
      "Empty: 714917643 LIAM BLUEY\n",
      "Empty: 710477836 BOO BOO'S MATE\n",
      "Empty: 760120921 TRALEE WEEDLE\n",
      "Empty: 491175896 BLACK FIRE ALPHA\n",
      "Empty: 647615723 SELF PORTRAIT\n",
      "Empty: 702436092 BLAZIN' BAD ZULA\n",
      "Empty: 718776738 LANSDOWNE MISS\n",
      "Empty: 782171466 BURGIN BLOODED\n",
      "Empty: 707215669 HAMMER AND NAILS\n",
      "Empty: 760119922 TRALEE DESTINY\n",
      "Empty: 678239789 HOT TILLY\n",
      "Empty: 765556609 BIKINI RIOT\n",
      "Empty: 707215178 PASSION PLUS\n",
      "Empty: 752069671 IRISH MISS\n",
      "Empty: 685380615 LOCHINVAR KHAN\n",
      "Empty: 724334301 NATURE OF LOVE\n",
      "Empty: 707214685 SMOOTH JESS\n",
      "Empty: 760119411 WHISKEY JAZZ\n",
      "Empty: 752070659 LEO'S FANTASY\n",
      "Empty: 765532395 TWELVE MEN\n",
      "Empty: 760120922 TRALEE RICHIE\n",
      "Empty: 705700639 TRALEE PARIS\n",
      "Empty: 734718593 VILLAGE GIRL\n",
      "Empty: 740392848 HIDDEN SECRET\n",
      "Empty: 710534415 CORLESS NELSON\n",
      "Empty: 718777219 REDSHIFT JULES\n",
      "Empty: 714918167 TO MY CORE\n",
      "Empty: 718776717 REDSHIFT HOTEL\n",
      "Empty: 718776832 MY LUNATIC\n",
      "Empty: 663003944 SWEET CITY BOY\n",
      "Empty: 716368452 FROCH\n",
      "Empty: 677865027 TANGLES\n",
      "Empty: 677865029 BLUE SUPREME\n",
      "Empty: 677833967 GOLDEN ROUGH\n",
      "Empty: 677833963 UNCHANGED PACE\n",
      "Empty: 634936416 MAJOR WARREN\n",
      "Empty: 870659012 EYES TO EYES\n",
      "Empty: 771741590 RITZA NERO\n",
      "Empty: 718776835 PINCH ME MAUREEN\n",
      "Empty: 695196120 LOLA INTENTION\n",
      "Empty: 716345906 VASILIY\n",
      "Empty: 710534322 BOTH OURS\n",
      "Empty: 465862367 TIGGERLONG JET\n",
      "Empty: 561781538 HANNELE BALE\n",
      "Empty: 649041994 SPECIAL ZAMBA\n",
      "Empty: 644832594 WHEEL AND GO\n",
      "Empty: 680702194 COUCH SURFER\n",
      "Empty: 611214525 DIRT FARMER\n",
      "Empty: 644832596 CASH IT IN\n",
      "Empty: 726168483 NANGAR NELLIE\n",
      "Empty: 705700632 MELISSA'S LADY\n",
      "Empty: 685380614 SONGAR ANNALISA\n",
      "Empty: 757984469 NANGAR JIM\n",
      "Empty: 752070215 SHE'S STYLISH\n",
      "Empty: 734719552 LOTS OF ATTITUDE\n",
      "Empty: 469164962 SHE'S PRECOCIOUS\n",
      "Empty: 644832593 FAST MILKMAN\n",
      "Empty: 623911851 MEPUNGA TESS\n",
      "Empty: 611215033 ON THE OFF\n",
      "Empty: 697328380 CITY BOY\n",
      "Empty: 587948120 ROCK ON ROSA\n",
      "Empty: 801424756 BELLA MIA\n",
      "Empty: 765532130 PALAWA PRINCE\n",
      "Empty: 702435646 FIRECOP\n",
      "Empty: 705700120 ZIPPER CODE\n",
      "Empty: 734719103 WINSTON THE WOLF\n",
      "Empty: 710477725 ATOMIC RIPPLE\n",
      "Empty: 679825486 GET UP TINA\n",
      "Empty: 665396146 WHERE'S JOHNSON\n",
      "Empty: 635302579 LITTLE MISS ELLA\n",
      "Empty: 693386510 JOYOUS TREASURE\n",
      "Empty: 694776862 PASTA DOUGH\n",
      "Empty: 755767023 WAGE EARNER\n",
      "Empty: 643293528 JELLYBEAN JAM\n",
      "Empty: 726168961 AUSSIE MIKE\n",
      "Empty: 647615713 TIMES THREE\n",
      "Empty: 705701162 ROCKY PEPPER\n",
      "Empty: 771741629 USAIN BARK\n",
      "Empty: 765556925 MICKEY'S FLYER\n",
      "Empty: 771741105 LADY SLICK\n",
      "Empty: 688395057 SUPER JANE\n",
      "Empty: 760119433 EBBY EXPLORER\n",
      "Empty: 530412745 JOHN DUTTON\n",
      "Empty: 602825249 RAVERS ARMY\n",
      "Empty: 523685796 SPRING ILLUSION\n",
      "Empty: 482776246 BLAZING NENNA\n",
      "Empty: 434800436 VELOCITY COMET\n",
      "Empty: 685379560 BERNARDO BOWL\n",
      "Empty: 681919127 HARPER'S BUDDY\n",
      "Empty: 694776834 PESSIMISM\n",
      "Empty: 710478325 AUSSIE JAKE\n",
      "Empty: 771741628 TONSILS\n",
      "Empty: 771741101 KING OF TULSA\n",
      "Empty: 747497569 LINKIN GIRL\n",
      "Empty: 576141993 OUR LADY DAY\n",
      "Empty: nullDog no_name\n",
      "filled =3845\n",
      "empty  =2826\n",
      "0.5763753560185879null_dog=0\n"
     ]
    },
    {
     "name": "stderr",
     "output_type": "stream",
     "text": [
      "\n"
     ]
    },
    {
     "name": "stdout",
     "output_type": "stream",
     "text": [
      "GRUNetv3_LN(\n",
      "  (gru): GRU(20, 128, num_layers=2, dropout=0.3)\n",
      "  (relu0): ReLU()\n",
      "  (fc0): Linear(in_features=1094, out_features=1094, bias=True)\n",
      "  (layer_norm): LayerNorm((20,), eps=1e-05, elementwise_affine=True)\n",
      "  (rl1): ReLU()\n",
      "  (drop1): Dropout(p=0.3, inplace=False)\n",
      "  (fc1): Linear(in_features=1094, out_features=128, bias=True)\n",
      "  (rl2): ReLU()\n",
      "  (drop2): Dropout(p=0.3, inplace=False)\n",
      "  (fc2): Linear(in_features=128, out_features=64, bias=True)\n",
      "  (rl3): ReLU()\n",
      "  (drop3): Dropout(p=0.3, inplace=False)\n",
      "  (fc3): Linear(in_features=64, out_features=8, bias=True)\n",
      "  (output_fn): Identity()\n",
      ")\n",
      "created path\n"
     ]
    },
    {
     "data": {
      "text/html": [
       "Waiting for W&B process to finish... <strong style=\"color:green\">(success).</strong>"
      ],
      "text/plain": [
       "<IPython.core.display.HTML object>"
      ]
     },
     "metadata": {},
     "output_type": "display_data"
    },
    {
     "data": {
      "text/html": [
       "<style>\n",
       "    table.wandb td:nth-child(1) { padding: 0 10px; text-align: left ; width: auto;} td:nth-child(2) {text-align: left ; width: 100%}\n",
       "    .wandb-row { display: flex; flex-direction: row; flex-wrap: wrap; justify-content: flex-start; width: 100% }\n",
       "    .wandb-col { display: flex; flex-direction: column; flex-basis: 100%; flex: 1; padding: 10px; }\n",
       "    </style>\n",
       "<div class=\"wandb-row\"><div class=\"wandb-col\"><h3>Run history:</h3><br/><table class=\"wandb\"><tr><td>ROI < 30</td><td>▁</td></tr><tr><td>ROI < 30 2</td><td>▁</td></tr><tr><td>accuracy</td><td>▁</td></tr><tr><td>epoch</td><td>▁</td></tr><tr><td>flat_simple</td><td>▁</td></tr><tr><td>loss_val</td><td>▁</td></tr><tr><td>multibet outlay < 30</td><td>▁</td></tr><tr><td>multibet profit</td><td>▁</td></tr><tr><td>multibet profit < 30</td><td>▁</td></tr><tr><td>multibet profit < 30 sd</td><td>▁</td></tr><tr><td>profit_relu</td><td>▁</td></tr><tr><td>relu roi</td><td>▁</td></tr></table><br/></div><div class=\"wandb-col\"><h3>Run summary:</h3><br/><table class=\"wandb\"><tr><td>ROI < 30</td><td>0.06695</td></tr><tr><td>ROI < 30 2</td><td>0.05081</td></tr><tr><td>accuracy</td><td>0.30408</td></tr><tr><td>epoch</td><td>0</td></tr><tr><td>flat_simple</td><td>56.23854</td></tr><tr><td>loss_val</td><td>1.95565</td></tr><tr><td>multibet outlay < 30</td><td>188506.34551</td></tr><tr><td>multibet profit < 30</td><td>12620.21229</td></tr><tr><td>multibet profit < 30 sd</td><td>26.90398</td></tr><tr><td>profit_relu</td><td>26209.65248</td></tr><tr><td>relu roi</td><td>0.15827</td></tr></table><br/></div></div>"
      ],
      "text/plain": [
       "<IPython.core.display.HTML object>"
      ]
     },
     "metadata": {},
     "output_type": "display_data"
    },
    {
     "data": {
      "text/html": [
       " View run <strong style=\"color:#cdcd00\">worldly-grass-119</strong> at: <a href='https://wandb.ai/nickojelly/NEW%20GRU%20-%20updates/runs/2n3jnnlx' target=\"_blank\">https://wandb.ai/nickojelly/NEW%20GRU%20-%20updates/runs/2n3jnnlx</a><br/>Synced 6 W&B file(s), 2 media file(s), 2 artifact file(s) and 1 other file(s)"
      ],
      "text/plain": [
       "<IPython.core.display.HTML object>"
      ]
     },
     "metadata": {},
     "output_type": "display_data"
    },
    {
     "data": {
      "text/html": [
       "Find logs at: <code>.\\wandb\\run-20230520_070513-2n3jnnlx\\logs</code>"
      ],
      "text/plain": [
       "<IPython.core.display.HTML object>"
      ]
     },
     "metadata": {},
     "output_type": "display_data"
    }
   ],
   "source": [
    "# (model,dataset, optimizer) = model_pipeline(raceDB,config=wandb_config_static,sweep=False,prev_model_file='peachy-darkness-493', prev_model_version='1600')\n",
    "# (model,dataset, optimizer) = model_pipeline(raceDB,config=wandb_config_static,sweep=False, prev_model_file='bright-bee-555', prev_model_version='1600')\n",
    "# (model,dataset, optimizer) = model_pipeline(raceDB,config=wandb_config_static,sweep=False, prev_model_file='curious-sweep-4', prev_model_version='900')\n",
    "# (model,dataset, optimizer) = model_pipeline(raceDB,config=wandb_config_static,sweep=False, prev_model_file='visionary-valley-541', prev_model_version='3500')\n",
    "(model,dataset, optimizer) = model_pipeline(raceDB,config=wandb_config_static,sweep=False, prev_model_file='kind-wood-610', prev_model_version='1300')\n",
    "# (model,dataset, optimizer) = model_pipeline(raceDB,config=wandb_config_static,sweep=False, prev_model_file='jolly-sweep-7', prev_model_version='900')\n"
   ]
  },
  {
   "cell_type": "code",
   "execution_count": 29,
   "metadata": {},
   "outputs": [],
   "source": [
    "raceDB.reset_hidden(num_layers=wandb_config_static['num_layers'], hidden_size=wandb_config_static['hidden_size'])"
   ]
  },
  {
   "cell_type": "code",
   "execution_count": 30,
   "metadata": {},
   "outputs": [
    {
     "ename": "IndexError",
     "evalue": "list index out of range",
     "output_type": "error",
     "traceback": [
      "\u001b[1;31m---------------------------------------------------------------------------\u001b[0m",
      "\u001b[1;31mIndexError\u001b[0m                                Traceback (most recent call last)",
      "Cell \u001b[1;32mIn[30], line 1\u001b[0m\n\u001b[1;32m----> 1\u001b[0m race \u001b[39m=\u001b[39m raceDB\u001b[39m.\u001b[39;49mbatches[\u001b[39m'\u001b[39;49m\u001b[39mbatch_races\u001b[39;49m\u001b[39m'\u001b[39;49m][\u001b[39m0\u001b[39;49m][\u001b[39m2\u001b[39;49m]\n\u001b[0;32m      2\u001b[0m [d \u001b[39mfor\u001b[39;00m d \u001b[39min\u001b[39;00m race\u001b[39m.\u001b[39mdogs]\n",
      "\u001b[1;31mIndexError\u001b[0m: list index out of range"
     ]
    }
   ],
   "source": [
    "race = raceDB.batches['batch_races'][0][2]\n",
    "[d for d in race.dogs]"
   ]
  }
 ],
 "metadata": {
  "kernelspec": {
   "display_name": "PYTORCH",
   "language": "python",
   "name": "python3"
  },
  "language_info": {
   "codemirror_mode": {
    "name": "ipython",
    "version": 3
   },
   "file_extension": ".py",
   "mimetype": "text/x-python",
   "name": "python",
   "nbconvert_exporter": "python",
   "pygments_lexer": "ipython3",
   "version": "3.9.16"
  },
  "orig_nbformat": 4,
  "vscode": {
   "interpreter": {
    "hash": "8a48ca33c5a1168302a4f8eae355aad1c03b1396f568d40bc174a6e6aabe725d"
   }
  }
 },
 "nbformat": 4,
 "nbformat_minor": 2
}
