{
 "cells": [
  {
   "cell_type": "code",
   "execution_count": 1,
   "metadata": {},
   "outputs": [
    {
     "name": "stderr",
     "output_type": "stream",
     "text": [
      "<frozen importlib._bootstrap>:228: RuntimeWarning: scipy._lib.messagestream.MessageStream size changed, may indicate binary incompatibility. Expected 56 from C header, got 64 from PyObject\n"
     ]
    },
    {
     "name": "stdout",
     "output_type": "stream",
     "text": [
      "c:\\Users\\Nick\\Documents\\GitHub\\grvmodel\\Python\\pytorch\\New Model\\LSTM\n"
     ]
    }
   ],
   "source": [
    "import pickle\n",
    "import pandas as pd\n",
    "import os\n",
    "\n",
    "import torch\n",
    "import numpy as np\n",
    "import torch.nn as nn\n",
    "import torch.nn.functional as F\n",
    "import torch.optim as optim\n",
    "from tqdm.notebook import tqdm, trange\n",
    "import torch.optim as optim\n",
    "from torch.utils.data import TensorDataset, DataLoader\n",
    "import wandb\n",
    "from torch.utils.data.sampler import SubsetRandomSampler\n",
    "import pprint\n",
    "import matplotlib.pyplot as plt\n",
    "import torch\n",
    "\n",
    "from sklearn.preprocessing import MinMaxScaler\n",
    "import math\n",
    "from torch.profiler import profile, record_function, ProfilerActivity\n",
    "\n",
    "from operator import itemgetter\n",
    "import operator\n",
    "from random import randint\n",
    "# from rnn_classes import Dog, DogInput, Race, Races, GRUNet, smallGRUNet, smalll_lin_GRUNet, smalll_prelin_GRUNet\n",
    "import rnn_classes\n",
    "from raceDB import build_dataset, build_pred_dataset\n",
    "import importlib\n",
    "import datetime\n",
    "from model_saver import model_saver, model_saver_wandb\n",
    "import training_testing_gru\n",
    "from torch.nn.utils.rnn import pack_padded_sequence, pack_sequence, pad_packed_sequence,pad_sequence, unpack_sequence, unpad_sequence"
   ]
  },
  {
   "cell_type": "code",
   "execution_count": 2,
   "metadata": {},
   "outputs": [],
   "source": [
    "WANDB_NOTEBOOK_NAME = \"GRU - v6.2.5.1\""
   ]
  },
  {
   "cell_type": "code",
   "execution_count": 3,
   "metadata": {},
   "outputs": [
    {
     "name": "stdout",
     "output_type": "stream",
     "text": [
      "Running on the GPU\n"
     ]
    }
   ],
   "source": [
    "if torch.cuda.is_available():\n",
    "    device = torch.device(\"cuda:0\")  # you can continue going on here, like cuda:1 cuda:2....etc.\n",
    "    print(\"Running on the GPU\")\n",
    "else:\n",
    "    device = torch.device(\"cpu\")\n",
    "    print(\"Running on the CPU\")"
   ]
  },
  {
   "cell_type": "code",
   "execution_count": 4,
   "metadata": {},
   "outputs": [],
   "source": [
    "torch.set_default_tensor_type(torch.FloatTensor)"
   ]
  },
  {
   "cell_type": "code",
   "execution_count": 5,
   "metadata": {},
   "outputs": [],
   "source": [
    "def custom_l2(output, target):\n",
    "    loss = torch.mean(abs(output-target), dim=1)\n",
    "    return loss"
   ]
  },
  {
   "cell_type": "code",
   "execution_count": 6,
   "metadata": {},
   "outputs": [],
   "source": [
    "def validation_CLE(x,y):\n",
    "    loss_t = -torch.log(torch.exp(x)/torch.sum(torch.exp(x), dim=-1, keepdim=True))*y\n",
    "    return loss_t"
   ]
  },
  {
   "cell_type": "code",
   "execution_count": 7,
   "metadata": {},
   "outputs": [
    {
     "name": "stdout",
     "output_type": "stream",
     "text": [
      "[['dist_last__1', 'box_last__1', 'speed_avg_1', 'split_speed_avg_1', 'split_margin_avg_1', 'margin_avg_1', 'RunHomeTime_1', 'run_home_speed_1', 'first_out_avg_1', 'pos_out_avg_1', 'post_change_avg_1', 'races_1', 'wins_1', 'wins_last_1', 'weight_', 'min_time_', 'min_split_time_', 'last_start_price', 'last_start_prob']]\n",
      "(1273739, 24)\n",
      "25\n",
      "Latest date = 2023-06-14 00:00:00\n",
      "size after state filter (134082, 26)\n",
      "(134082, 26)\n",
      "Latest date = 2023-06-13 00:00:00\n",
      "num_features_per_dog=25\n"
     ]
    },
    {
     "name": "stderr",
     "output_type": "stream",
     "text": [
      "  0%|          | 0/3649 [00:00<?, ?it/s]c:\\Users\\Nick\\.conda\\envs\\PYTORCH\\lib\\site-packages\\tqdm\\std.py:1195: FutureWarning: In a future version of pandas, a length 1 tuple will be returned when iterating over a groupby with a grouper equal to a list of length 1. Don't supply a list with a single grouper to avoid this warning.\n",
      "  for obj in iterable:\n",
      "100%|██████████| 3649/3649 [01:56<00:00, 31.31it/s] \n",
      "  0%|          | 0/17773 [00:00<?, ?it/s]c:\\Users\\Nick\\.conda\\envs\\PYTORCH\\lib\\site-packages\\tqdm\\std.py:1195: FutureWarning: In a future version of pandas, a length 1 tuple will be returned when iterating over a groupby with a grouper equal to a list of length 1. Don't supply a list with a single grouper to avoid this warning.\n",
      "  for obj in iterable:\n",
      "100%|██████████| 17773/17773 [00:49<00:00, 359.45it/s]\n"
     ]
    },
    {
     "name": "stdout",
     "output_type": "stream",
     "text": [
      "number of races = 17773, number of unique dogs = 3650\n",
      "0            (Auckland, 318.0)\n",
      "1            (Auckland, 318.0)\n",
      "2            (Auckland, 527.0)\n",
      "3            (Auckland, 318.0)\n",
      "4            (Auckland, 318.0)\n",
      "                 ...          \n",
      "17768    (Christchurch, 295.0)\n",
      "17769    (Christchurch, 520.0)\n",
      "17770    (Christchurch, 295.0)\n",
      "17771    (Christchurch, 295.0)\n",
      "17772    (Christchurch, 295.0)\n",
      "Length: 17773, dtype: object\n"
     ]
    }
   ],
   "source": [
    "os.getcwd()\n",
    "os.chdir(r\"C:\\Users\\Nick\\Documents\\GitHub\\grvmodel\\Python\\DATA\")\n",
    "date = datetime.datetime.strptime(\"2022-08-01\", \"%Y-%m-%d\").date()\n",
    "hidden_size = 32\n",
    "states = [\"NZ\"]\n",
    "data_file = 'gru_inputs_simple_v6_updated.fth'\n",
    "raceDB = build_dataset(data_file, hidden_size ,state_filter=states, margin_type='boosted_sftmin',v6=True)\n",
    "raceDB.create_new_weights_v2()\n",
    "#raceDB.adjust_weights({\"Dapto\":10, \"Gunnedah\":10})"
   ]
  },
  {
   "cell_type": "code",
   "execution_count": 8,
   "metadata": {},
   "outputs": [
    {
     "name": "stdout",
     "output_type": "stream",
     "text": [
      "Train examples 13565, Test examples 4208\n"
     ]
    }
   ],
   "source": [
    "date = datetime.datetime.strptime(\"2022-08-01\", \"%Y-%m-%d\").date()\n",
    "raceDB.create_test_split_date(date)"
   ]
  },
  {
   "cell_type": "code",
   "execution_count": 9,
   "metadata": {},
   "outputs": [
    {
     "name": "stderr",
     "output_type": "stream",
     "text": [
      "100%|██████████| 3649/3649 [00:00<00:00, 24467.67it/s]\n"
     ]
    }
   ],
   "source": [
    "raceDB.create_dogs_test_split_date()"
   ]
  },
  {
   "cell_type": "code",
   "execution_count": 10,
   "metadata": {},
   "outputs": [
    {
     "name": "stderr",
     "output_type": "stream",
     "text": [
      "100%|██████████| 3650/3650 [00:02<00:00, 1468.66it/s]\n"
     ]
    }
   ],
   "source": [
    "raceDB.attach_races_to_dog_inputv2()"
   ]
  },
  {
   "cell_type": "code",
   "execution_count": 11,
   "metadata": {},
   "outputs": [
    {
     "data": {
      "text/plain": [
       "tensor([ 4.0000,  0.0000,  1.0000,  0.0000, 24.5000,  2.0000, -1.0000, -1.0000,\n",
       "        -1.0000, -1.0000, -1.0000, -1.0000, -1.0000, -1.0000, -1.0000, -1.0000,\n",
       "        -1.0000,  0.0000, -1.0000, -1.0000, -1.0000, -1.0000, -1.0000, -1.0000,\n",
       "        -1.0000], device='cuda:0', dtype=torch.float64)"
      ]
     },
     "execution_count": 11,
     "metadata": {},
     "output_type": "execute_result"
    }
   ],
   "source": [
    "raceDB.get_dog_test([1,2])[0][0].stats"
   ]
  },
  {
   "cell_type": "code",
   "execution_count": 12,
   "metadata": {},
   "outputs": [
    {
     "name": "stdout",
     "output_type": "stream",
     "text": [
      "[(datetime.date(2019, 12, 1), datetime.date(2020, 5, 29)), (datetime.date(2020, 5, 29), datetime.date(2020, 11, 25)), (datetime.date(2020, 11, 25), datetime.date(2021, 5, 24)), (datetime.date(2021, 5, 24), datetime.date(2021, 11, 20)), (datetime.date(2021, 11, 20), datetime.date(2022, 5, 19)), (datetime.date(2022, 5, 19), datetime.date(2022, 7, 31))]\n",
      "2020-05-29\n",
      "2020-11-25\n",
      "2021-05-24\n",
      "2021-11-20\n",
      "2022-05-19\n",
      "2022-07-31\n",
      "Train examples [2201, 2826, 2680, 2396, 2444, 1001]\n"
     ]
    },
    {
     "name": "stderr",
     "output_type": "stream",
     "text": [
      "100%|██████████| 3649/3649 [00:00<00:00, 3833.53it/s]\n",
      "100%|██████████| 3649/3649 [00:01<00:00, 3214.89it/s]\n",
      "100%|██████████| 3649/3649 [00:01<00:00, 3226.27it/s]\n",
      "100%|██████████| 3649/3649 [00:01<00:00, 3609.59it/s]\n",
      "100%|██████████| 3649/3649 [00:00<00:00, 3649.33it/s]\n",
      "100%|██████████| 3649/3649 [00:00<00:00, 8400.20it/s]\n",
      "100%|██████████| 6/6 [00:05<00:00,  1.06it/s]\n"
     ]
    },
    {
     "name": "stdout",
     "output_type": "stream",
     "text": [
      "Train examples [1557, 1594, 1489, 1492, 1400, 1111]\n",
      "Train examples [1557, 1594, 1489, 1492, 1400, 1111]\n",
      "Train examples [2201, 2826, 2680, 2396, 2444, 1001]\n",
      "Train examples [2201, 2826, 2680, 2396, 2444, 1001]\n"
     ]
    }
   ],
   "source": [
    "raceDB.create_batches(batch_days=180)"
   ]
  },
  {
   "cell_type": "code",
   "execution_count": 13,
   "metadata": {},
   "outputs": [],
   "source": [
    "def closure(optimizer, criterion, outs, classes):\n",
    "    optimizer.zero_grad()\n",
    "    loss = nn.functional.mse_loss(outs, classes)\n",
    "    loss.backward()\n",
    "    return loss\n",
    "\n",
    "def model_pipeline(my_dataset=raceDB,config=None,prev_model=None, sweep=True, model_state_dict=None, prev_model_file=None, prev_model_version='450'):\n",
    "    if my_dataset:\n",
    "      dataset = my_dataset    \n",
    "    else:\n",
    "      dataset = raceDB\n",
    "    # tell wandb to get started\n",
    "    with wandb.init(project=\"NEW GRU\", config=config):\n",
    "      #  access all HPs through wandb.config, so logging matches execution!\n",
    "      wandb.define_metric(\"loss_val\", summary=\"min\")\n",
    "      wandb.define_metric(\"accuracy\", summary=\"max\")\n",
    "      wandb.define_metric(\"ROI < 30\", summary=\"max\")\n",
    "      wandb.define_metric(\"relu roi\", summary=\"max\")\n",
    "      \n",
    "      config = wandb.config\n",
    "      pprint.pprint(config)\n",
    "      pprint.pprint(config.epochs)\n",
    "      print(config)\n",
    "      # input_size = raceDB.get_race_input([0,1])[0].full_input.shape[0] #create fix so messy\n",
    "      print(config.input_type)\n",
    "\n",
    "      if 'batch_days' in config.keys():\n",
    "        raceDB.create_batches(batch_days=config['batch_days'])\n",
    "\n",
    "      if config.input_type == 'full':\n",
    "        print('here1')\n",
    "        input_size = raceDB.batches['packed_x'][0].data[0].shape[0]\n",
    "      elif config.input_type == 'basic':\n",
    "        print('here')\n",
    "        raceDB.batches['packed_x'] = raceDB.batches['packed_x_basic']\n",
    "        raceDB.batches['packed_y'] = raceDB.batches['packed_y_basic']\n",
    "        raceDB.batches['num_batches'] = len(raceDB.batches['packed_x'])\n",
    "        input_size = raceDB.batches['packed_x'][0].data[0].shape[0]\n",
    "\n",
    "      print(f\"{input_size=}\")\n",
    "\n",
    "\n",
    "\n",
    "\n",
    "\n",
    "      raceDB.reset_hidden(num_layers=config['num_layers'], hidden_size=config['hidden_size'])\n",
    "      model = rnn_classes.ReluNetv1(input_size,config['hidden_size'], num_layers=config['num_layers'],fc0_size=config['f0_layer_size'], fc1_size=config['f1_layer_size'])\n",
    "\n",
    "      if model_state_dict:\n",
    "        model.load_state_dict(model_state_dict)\n",
    "      if prev_model_file!=None:\n",
    "        model_name = prev_model_file\n",
    "        model_loc = f\"C:/Users/Nick/Documents/GitHub/grvmodel/Python/pytorch/New Model/savedmodel/{model_name}/{model_name}_{prev_model_version}.pt\"\n",
    "        model_data = torch.load(model_loc,map_location=torch.device('cuda:0'))\n",
    "        # model_data['model_state_dict'].pop('gru.weight_ih_l0')\n",
    "        # model_data['model_state_dict'].pop('layer_norm.weight')\n",
    "        # model_data['model_state_dict'].pop('layer_norm.bias')\n",
    "        model.load_state_dict(model_data['model_state_dict'], strict=False)\n",
    "        config['parent model'] = prev_model_file\n",
    "        model = model.to(device)\n",
    "        optimizer = optim.AdamW(model.parameters(), lr=config['learning_rate'])\n",
    "        optimizer.load_state_dict(model_data['optim'])\n",
    "        # optimizer.to(device)\n",
    "      else:\n",
    "        optimizer = optim.Adam(model.parameters(), lr=config['learning_rate'])\n",
    "\n",
    "      raceDB.to_cuda()\n",
    "      optimizer = optim.AdamW(model.parameters(), lr=config['learning_rate'])\n",
    "      criterion = nn.CrossEntropyLoss(reduction='none', label_smoothing=config['label_smoothing'])\n",
    "\n",
    "      model = model.to(device)\n",
    "\n",
    "      # optimizer = optimizer.to(device)\n",
    "      print(model)\n",
    "\n",
    "      # and use them to train the model\n",
    "      try:\n",
    "        # train_double_loss_regular(model, dataset, criterion, optimizer, scheduler, config, crit2=custom_l2)\n",
    "        training_testing_gru.train_regular_v3(model, dataset, criterion, optimizer, 'na', config)\n",
    "      except (KeyboardInterrupt) as error:\n",
    "        print(error)\n",
    "        print(\"finished Early\")\n",
    "        \n",
    "      # dataset.create_hidden_states_dict()\n",
    "      raceDB.create_hidden_states_dict_v2()\n",
    "      model_saver_wandb(model, optimizer, 450, 0.1, raceDB.hidden_states_dict_gru_v6,raceDB.train_hidden_dict , model_name=\"long nsw new  22000 RUN\")\n",
    "      if sweep:\n",
    "        # raceDB.reset_all_lstm_states\n",
    "        raceDB.reset_hidden()\n",
    "    \n",
    "\n",
    "\n",
    "    # and test its final performance\n",
    "    #test(model, test_loader)\n",
    "\n",
    "    return (model,dataset, optimizer)"
   ]
  },
  {
   "cell_type": "code",
   "execution_count": 14,
   "metadata": {},
   "outputs": [],
   "source": [
    "len(raceDB.raceIDs)\n",
    "wandb_config_static = {'hidden_size':128,\n",
    "                       'stats':raceDB.stats_cols,\n",
    "                       'races':states,\n",
    "                       'datafile':data_file,\n",
    "                       'latest_date':raceDB.latest_date,\n",
    "                       'input_type':'basic',\n",
    "                       'num_layers':2,\n",
    "                       'batch_size': 750,\n",
    "                       'dropout': 0.3,\n",
    "                       'epochs': 10_000,\n",
    "                       'learning_rate': 0.00005,\n",
    "                       'label_smoothing':0.01,\n",
    "                       'optimizer': 'adamW',\n",
    "                       'f0_layer_size':128,\n",
    "                       'f1_layer_size':64,\n",
    "                       'batch_days':180}"
   ]
  },
  {
   "cell_type": "code",
   "execution_count": 15,
   "metadata": {},
   "outputs": [
    {
     "name": "stdout",
     "output_type": "stream",
     "text": [
      "C:\\Users\\Nick\\Documents\\GitHub\\grvmodel\\Python\\DATA\n"
     ]
    },
    {
     "data": {
      "text/plain": [
       "<module 'rnn_classes' from 'c:\\\\Users\\\\Nick\\\\Documents\\\\GitHub\\\\grvmodel\\\\Python\\\\pytorch\\\\New Model\\\\LSTM\\\\rnn_classes.py'>"
      ]
     },
     "execution_count": 15,
     "metadata": {},
     "output_type": "execute_result"
    }
   ],
   "source": [
    "importlib.reload(training_testing_gru)\n",
    "importlib.reload(rnn_classes)"
   ]
  },
  {
   "cell_type": "code",
   "execution_count": 16,
   "metadata": {},
   "outputs": [],
   "source": [
    "raceDB.reset_hidden(num_layers=wandb_config_static['num_layers'], hidden_size=wandb_config_static['hidden_size'])"
   ]
  },
  {
   "cell_type": "code",
   "execution_count": 17,
   "metadata": {},
   "outputs": [],
   "source": [
    "torch.cuda.empty_cache()"
   ]
  },
  {
   "cell_type": "code",
   "execution_count": 18,
   "metadata": {},
   "outputs": [],
   "source": [
    "# for race in raceDB.racesDict.values():\n",
    "#     for dog in race.dogs:\n",
    "#         try:\n",
    "#             del dog.stats\n",
    "#         except:\n",
    "#             pass\n",
    "\n",
    "# torch.cuda.empty_cache()"
   ]
  },
  {
   "cell_type": "code",
   "execution_count": 19,
   "metadata": {},
   "outputs": [
    {
     "name": "stderr",
     "output_type": "stream",
     "text": [
      "Failed to detect the name of this notebook, you can set it manually with the WANDB_NOTEBOOK_NAME environment variable to enable code saving.\n",
      "\u001b[34m\u001b[1mwandb\u001b[0m: Currently logged in as: \u001b[33mnickojelly\u001b[0m. Use \u001b[1m`wandb login --relogin`\u001b[0m to force relogin\n"
     ]
    },
    {
     "data": {
      "application/vnd.jupyter.widget-view+json": {
       "model_id": "b51737e406ac4b108976aef27270125e",
       "version_major": 2,
       "version_minor": 0
      },
      "text/plain": [
       "VBox(children=(Label(value='Waiting for wandb.init()...\\r'), FloatProgress(value=0.01693333333338766, max=1.0)…"
      ]
     },
     "metadata": {},
     "output_type": "display_data"
    },
    {
     "data": {
      "text/html": [
       "Tracking run with wandb version 0.15.4"
      ],
      "text/plain": [
       "<IPython.core.display.HTML object>"
      ]
     },
     "metadata": {},
     "output_type": "display_data"
    },
    {
     "data": {
      "text/html": [
       "Run data is saved locally in <code>C:\\Users\\Nick\\Documents\\GitHub\\grvmodel\\Python\\DATA\\wandb\\run-20230615_080404-smj9uxea</code>"
      ],
      "text/plain": [
       "<IPython.core.display.HTML object>"
      ]
     },
     "metadata": {},
     "output_type": "display_data"
    },
    {
     "data": {
      "text/html": [
       "Syncing run <strong><a href='https://wandb.ai/nickojelly/NEW%20GRU/runs/smj9uxea' target=\"_blank\">different-thunder-739</a></strong> to <a href='https://wandb.ai/nickojelly/NEW%20GRU' target=\"_blank\">Weights & Biases</a> (<a href='https://wandb.me/run' target=\"_blank\">docs</a>)<br/>"
      ],
      "text/plain": [
       "<IPython.core.display.HTML object>"
      ]
     },
     "metadata": {},
     "output_type": "display_data"
    },
    {
     "data": {
      "text/html": [
       " View project at <a href='https://wandb.ai/nickojelly/NEW%20GRU' target=\"_blank\">https://wandb.ai/nickojelly/NEW%20GRU</a>"
      ],
      "text/plain": [
       "<IPython.core.display.HTML object>"
      ]
     },
     "metadata": {},
     "output_type": "display_data"
    },
    {
     "data": {
      "text/html": [
       " View run at <a href='https://wandb.ai/nickojelly/NEW%20GRU/runs/smj9uxea' target=\"_blank\">https://wandb.ai/nickojelly/NEW%20GRU/runs/smj9uxea</a>"
      ],
      "text/plain": [
       "<IPython.core.display.HTML object>"
      ]
     },
     "metadata": {},
     "output_type": "display_data"
    },
    {
     "name": "stdout",
     "output_type": "stream",
     "text": [
      "{'hidden_size': 128, 'stats': \"[['dist_last__1', 'box_last__1', 'speed_avg_1', 'split_speed_avg_1', 'split_margin_avg_1', 'margin_avg_1', 'RunHomeTime_1', 'run_home_speed_1', 'first_out_avg_1', 'pos_out_avg_1', 'post_change_avg_1', 'races_1', 'wins_1', 'wins_last_1', 'weight_', 'min_time_', 'min_split_time_', 'last_start_price', 'last_start_prob']]\", 'races': ['NZ'], 'datafile': 'gru_inputs_simple_v9.fth', 'latest_date': '2023-06-13T00:00:00', 'input_type': 'basic', 'num_layers': 2, 'batch_size': 750, 'dropout': 0.3, 'epochs': 10000, 'learning_rate': 5e-05, 'label_smoothing': 0.01, 'optimizer': 'adamW', 'f0_layer_size': 128, 'f1_layer_size': 64, 'batch_days': 180}\n",
      "10000\n",
      "{'hidden_size': 128, 'stats': \"[['dist_last__1', 'box_last__1', 'speed_avg_1', 'split_speed_avg_1', 'split_margin_avg_1', 'margin_avg_1', 'RunHomeTime_1', 'run_home_speed_1', 'first_out_avg_1', 'pos_out_avg_1', 'post_change_avg_1', 'races_1', 'wins_1', 'wins_last_1', 'weight_', 'min_time_', 'min_split_time_', 'last_start_price', 'last_start_prob']]\", 'races': ['NZ'], 'datafile': 'gru_inputs_simple_v9.fth', 'latest_date': '2023-06-13T00:00:00', 'input_type': 'basic', 'num_layers': 2, 'batch_size': 750, 'dropout': 0.3, 'epochs': 10000, 'learning_rate': 5e-05, 'label_smoothing': 0.01, 'optimizer': 'adamW', 'f0_layer_size': 128, 'f1_layer_size': 64, 'batch_days': 180}\n",
      "basic\n",
      "[(datetime.date(2019, 12, 1), datetime.date(2020, 5, 29)), (datetime.date(2020, 5, 29), datetime.date(2020, 11, 25)), (datetime.date(2020, 11, 25), datetime.date(2021, 5, 24)), (datetime.date(2021, 5, 24), datetime.date(2021, 11, 20)), (datetime.date(2021, 11, 20), datetime.date(2022, 5, 19)), (datetime.date(2022, 5, 19), datetime.date(2022, 7, 31))]\n",
      "2020-05-29\n",
      "2020-11-25\n",
      "2021-05-24\n",
      "2021-11-20\n",
      "2022-05-19\n",
      "2022-07-31\n",
      "Train examples [2201, 2826, 2680, 2396, 2444, 1001]\n"
     ]
    },
    {
     "name": "stderr",
     "output_type": "stream",
     "text": [
      "100%|██████████| 3649/3649 [00:00<00:00, 3712.51it/s]\n",
      "100%|██████████| 3649/3649 [00:01<00:00, 3118.63it/s]\n",
      "100%|██████████| 3649/3649 [00:01<00:00, 3269.67it/s]\n",
      "100%|██████████| 3649/3649 [00:00<00:00, 3656.65it/s]\n",
      "100%|██████████| 3649/3649 [00:00<00:00, 3682.51it/s]\n",
      "100%|██████████| 3649/3649 [00:00<00:00, 8517.97it/s]\n",
      "100%|██████████| 6/6 [00:05<00:00,  1.05it/s]\n"
     ]
    },
    {
     "name": "stdout",
     "output_type": "stream",
     "text": [
      "Train examples [1557, 1594, 1489, 1492, 1400, 1111]\n",
      "Train examples [1557, 1594, 1489, 1492, 1400, 1111]\n",
      "Train examples [2201, 2826, 2680, 2396, 2444, 1001]\n",
      "Train examples [2201, 2826, 2680, 2396, 2444, 1001]\n",
      "here\n",
      "input_size=25\n",
      "ReluNetv1(\n",
      "  (gru): GRU(25, 128, num_layers=2, dropout=0.3)\n",
      "  (relu0): ReLU()\n",
      "  (fc0): Linear(in_features=1094, out_features=1094, bias=True)\n",
      "  (layer_norm): BatchNorm1d(25, eps=1e-05, momentum=0.1, affine=True, track_running_stats=True)\n",
      "  (rl1): ReLU()\n",
      "  (drop1): Dropout(p=0.3, inplace=False)\n",
      "  (fc1): Linear(in_features=1094, out_features=128, bias=True)\n",
      "  (rl2): ReLU()\n",
      "  (drop2): Dropout(p=0.3, inplace=False)\n",
      "  (fc2): Linear(in_features=128, out_features=64, bias=True)\n",
      "  (rl3): ReLU()\n",
      "  (drop3): Dropout(p=0.3, inplace=False)\n",
      "  (fc3): Linear(in_features=64, out_features=8, bias=True)\n",
      "  (output_fn): Identity()\n",
      ")\n"
     ]
    },
    {
     "name": "stderr",
     "output_type": "stream",
     "text": [
      "  0%|          | 0/10000 [00:00<?, ?it/s]"
     ]
    },
    {
     "name": "stdout",
     "output_type": "stream",
     "text": [
      "created path\n"
     ]
    },
    {
     "name": "stderr",
     "output_type": "stream",
     "text": [
      " 53%|█████▎    | 5300/10000 [10:51:45<9:24:37,  7.21s/it] \u001b[34m\u001b[1mwandb\u001b[0m: \u001b[33mWARNING\u001b[0m A graphql request initiated by the public wandb API timed out (timeout=9 sec). Create a new API with an integer timeout larger than 9, e.g., `api = wandb.Api(timeout=19)` to increase the graphql timeout.\n",
      " 55%|█████▍    | 5457/10000 [11:11:33<9:19:04,  7.38s/it] \n"
     ]
    },
    {
     "name": "stdout",
     "output_type": "stream",
     "text": [
      "\n",
      "finished Early\n"
     ]
    },
    {
     "data": {
      "text/html": [
       "Waiting for W&B process to finish... <strong style=\"color:green\">(success).</strong>"
      ],
      "text/plain": [
       "<IPython.core.display.HTML object>"
      ]
     },
     "metadata": {},
     "output_type": "display_data"
    },
    {
     "data": {
      "text/html": [
       "<style>\n",
       "    table.wandb td:nth-child(1) { padding: 0 10px; text-align: left ; width: auto;} td:nth-child(2) {text-align: left ; width: 100%}\n",
       "    .wandb-row { display: flex; flex-direction: row; flex-wrap: wrap; justify-content: flex-start; width: 100% }\n",
       "    .wandb-col { display: flex; flex-direction: column; flex-basis: 100%; flex: 1; padding: 10px; }\n",
       "    </style>\n",
       "<div class=\"wandb-row\"><div class=\"wandb-col\"><h3>Run history:</h3><br/><table class=\"wandb\"><tr><td>ROI < 30</td><td>▂▄▆▆▆▆▅▅▅████▆▆▅▄▄▃▂▄▂▃▁▂▂▂▃▃▂▂▃▃▂▄▃▄▃▃▄</td></tr><tr><td>ROI < 30 2</td><td>▁▄▆▆▅▄▄▅▅██▇▆▆▆▅▄▃▄▃▄▂▃▁▂▁▁▂▂▂▂▃▂▂▃▃▂▂▂▃</td></tr><tr><td>accuracy</td><td>▁▆██▇▇▆▆▆▆▆▅▅▅▅▅▅▅▅▅▅▅▅▅▅▅▅▅▅▅▅▅▅▅▅▅▅▅▅▅</td></tr><tr><td>accuracy2</td><td>▁▆██▇▇▆▆▆▆▆▅▅▅▅▅▅▅▅▅▅▅▅▅▅▅▅▅▅▅▅▅▅▅▅▅▅▅▅▅</td></tr><tr><td>epoch</td><td>▁▁▁▁▂▂▂▂▂▃▃▃▃▃▃▄▄▄▄▄▅▅▅▅▅▅▆▆▆▆▆▆▇▇▇▇▇███</td></tr><tr><td>flat_simple</td><td>▅▁▆█▇▃▅▅▆▇█▅▄▄▆▅▄▄▆▅▆▅▅▃▄▃▃▄▄▄▄▅▄▃▅▅▃▄▄▅</td></tr><tr><td>loss_1</td><td>██▇▇▇▂▁▁▁▃▃▃▃▃▃▃▃▃▁▁▁▁▃▂▂▂▂▂▂▂▂▁▁▁▁▂▂▂▂▂</td></tr><tr><td>loss_val</td><td>▃▂▁▁▁▁▂▃▃▄▄▅▅▅▅▆▆▆▆▆▆▆▆▇▇▇▇▇▇▇▇█▇███████</td></tr><tr><td>multibet outlay < 30</td><td>▁▁▁▁▂▂▃▄▄▅▆▆▆▇▇▇▇▇▇▇▇▇▇▇▇▇▇█████████████</td></tr><tr><td>multibet profit</td><td>▅▅▇▇▇▆▄▃▃▆▇▇▇▇▆▆▄▄▄▃▅▃▃▁▄▄▂▅▅▄▄▆▅▅▇▆▆▆▆█</td></tr><tr><td>multibet profit < 30</td><td>▄▅▅▅▅▅▅▅▅▇▇██▇▆▆▄▄▃▃▄▂▃▁▃▂▂▃▃▂▂▃▃▂▄▃▄▃▃▄</td></tr><tr><td>multibet profit < 30 sd</td><td>▁▁▁▁▁▂▃▄▄▅▆▆▇▇▇▇▇▇▇▇▇▇▇▇▇▇▇▇▇▇▇█████████</td></tr><tr><td>profit_relu</td><td>▄▄▅▅▅▅▄▂▂▇███▇▆▆▅▄▄▃▅▄▄▁▄▄▃▆▅▅▄▆▆▅▆▅▅▆▆▇</td></tr><tr><td>relu roi</td><td>▃▅█▇▆▆▄▂▂▆▇▇▇▆▆▆▅▄▄▃▅▄▄▁▄▄▃▆▅▅▄▆▆▅▆▆▆▆▆▇</td></tr></table><br/></div><div class=\"wandb-col\"><h3>Run summary:</h3><br/><table class=\"wandb\"><tr><td>ROI < 30 2</td><td>-0.01966</td></tr><tr><td>accuracy2</td><td>0.26901</td></tr><tr><td>epoch</td><td>5456</td></tr><tr><td>flat_simple</td><td>-83.89071</td></tr><tr><td>loss_1</td><td>0.28608</td></tr><tr><td>multibet outlay < 30</td><td>160281.0707</td></tr><tr><td>multibet profit</td><td>745.45722</td></tr><tr><td>multibet profit < 30</td><td>-3446.93957</td></tr><tr><td>multibet profit < 30 sd</td><td>46.00808</td></tr><tr><td>profit_relu</td><td>555.89164</td></tr></table><br/></div></div>"
      ],
      "text/plain": [
       "<IPython.core.display.HTML object>"
      ]
     },
     "metadata": {},
     "output_type": "display_data"
    },
    {
     "data": {
      "text/html": [
       " View run <strong style=\"color:#cdcd00\">different-thunder-739</strong> at: <a href='https://wandb.ai/nickojelly/NEW%20GRU/runs/smj9uxea' target=\"_blank\">https://wandb.ai/nickojelly/NEW%20GRU/runs/smj9uxea</a><br/>Synced 6 W&B file(s), 819 media file(s), 819 artifact file(s) and 1 other file(s)"
      ],
      "text/plain": [
       "<IPython.core.display.HTML object>"
      ]
     },
     "metadata": {},
     "output_type": "display_data"
    },
    {
     "data": {
      "text/html": [
       "Find logs at: <code>.\\wandb\\run-20230615_080404-smj9uxea\\logs</code>"
      ],
      "text/plain": [
       "<IPython.core.display.HTML object>"
      ]
     },
     "metadata": {},
     "output_type": "display_data"
    }
   ],
   "source": [
    "(model,dataset, optimizer) = model_pipeline(raceDB,config=wandb_config_static,sweep=False)"
   ]
  },
  {
   "cell_type": "code",
   "execution_count": null,
   "metadata": {},
   "outputs": [],
   "source": [
    "raceDB.batches['num_batches']"
   ]
  },
  {
   "cell_type": "code",
   "execution_count": null,
   "metadata": {},
   "outputs": [],
   "source": [
    "len(raceDB.batches['packed_x'])"
   ]
  },
  {
   "cell_type": "code",
   "execution_count": null,
   "metadata": {},
   "outputs": [],
   "source": [
    "model_name='kind-wood-610'\n",
    "prev_model_version=1300\n",
    "model_loc = f\"C:/Users/Nick/Documents/GitHub/grvmodel/Python/pytorch/New Model/savedmodel/{model_name}/{model_name}_{prev_model_version}.pt\"\n",
    "data = torch.load(model_loc,map_location=torch.device('cuda:0'))"
   ]
  },
  {
   "cell_type": "code",
   "execution_count": null,
   "metadata": {},
   "outputs": [],
   "source": [
    "data['model_state_dict'].pop('gru.weight_ih_l0')\n",
    "data['layer_norm.weight'].pop('gru.weight_ih_l0')\n",
    "data['layer_norm.bias'].pop('gru.weight_ih_l0')"
   ]
  },
  {
   "cell_type": "code",
   "execution_count": 18,
   "metadata": {},
   "outputs": [
    {
     "name": "stdout",
     "output_type": "stream",
     "text": [
      "{'method': 'grid',\n",
      " 'metric': {'goal': 'maximize', 'name': 'ROI < 30'},\n",
      " 'parameters': {'batch_days': {'values': [90, 180, 365, 550, 10000]},\n",
      "                'batch_size': {'value': 10},\n",
      "                'dropout': {'values': [0.3]},\n",
      "                'epochs': {'values': [500]},\n",
      "                'f0_layer_size': {'values': [128]},\n",
      "                'f1_layer_size': {'values': [64]},\n",
      "                'hidden_size': {'values': [128]},\n",
      "                'input_type': {'values': ['basic']},\n",
      "                'label_smoothing': {'values': [0.01, 0.0]},\n",
      "                'learning_rate': {'values': [0.0003, 0.0001]},\n",
      "                'len_data': {'value': 17498},\n",
      "                'loss': {'values': ['CEL']},\n",
      "                'num_layers': {'values': [2]},\n",
      "                'optimizer': {'value': 'adamW'},\n",
      "                'races': {'value': ['NZ']},\n",
      "                'stats': {'value': \"[['dist_last__1', 'box_last__1', \"\n",
      "                                   \"'speed_avg_1', 'split_speed_v1_1', \"\n",
      "                                   \"'split_speed_avg_1', 'split_margin_avg_1', \"\n",
      "                                   \"'margin_avg_1', 'RunHomeTime_1', \"\n",
      "                                   \"'run_home_speed_1', 'run_home_speed_v1_1', \"\n",
      "                                   \"'first_out_avg_1', 'pos_out_avg_1', \"\n",
      "                                   \"'post_change_avg_1', 'races_1', 'wins_1', \"\n",
      "                                   \"'wins_last_1', 'weight_', 'min_time_', \"\n",
      "                                   \"'min_split_time_', 'min_split_time_v1', \"\n",
      "                                   \"'last_start_price', 'last_start_prob']]\"},\n",
      "                'validation_split': {'value': 0.1}}}\n"
     ]
    },
    {
     "data": {
      "text/plain": [
       "{'method': 'grid',\n",
       " 'metric': {'name': 'ROI < 30', 'goal': 'maximize'},\n",
       " 'parameters': {'optimizer': {'value': 'adamW'},\n",
       "  'batch_days': {'values': [90, 180, 365, 550, 10000]},\n",
       "  'f0_layer_size': {'values': [128]},\n",
       "  'f1_layer_size': {'values': [64]},\n",
       "  'dropout': {'values': [0.3]},\n",
       "  'input_type': {'values': ['basic']},\n",
       "  'num_layers': {'values': [2]},\n",
       "  'hidden_size': {'values': [128]},\n",
       "  'len_data': {'value': 17498},\n",
       "  'stats': {'value': \"[['dist_last__1', 'box_last__1', 'speed_avg_1', 'split_speed_v1_1', 'split_speed_avg_1', 'split_margin_avg_1', 'margin_avg_1', 'RunHomeTime_1', 'run_home_speed_1', 'run_home_speed_v1_1', 'first_out_avg_1', 'pos_out_avg_1', 'post_change_avg_1', 'races_1', 'wins_1', 'wins_last_1', 'weight_', 'min_time_', 'min_split_time_', 'min_split_time_v1', 'last_start_price', 'last_start_prob']]\"},\n",
       "  'races': {'value': ['NZ']},\n",
       "  'batch_size': {'value': 10},\n",
       "  'epochs': {'values': [500]},\n",
       "  'validation_split': {'value': 0.1},\n",
       "  'learning_rate': {'values': [0.0003, 0.0001]},\n",
       "  'label_smoothing': {'values': [0.01, 0.0]},\n",
       "  'loss': {'values': ['CEL']}}}"
      ]
     },
     "execution_count": 18,
     "metadata": {},
     "output_type": "execute_result"
    }
   ],
   "source": [
    "sweep_config = {\"method\": \"grid\"}\n",
    "\n",
    "metric = {\"name\": \"ROI < 30\", \"goal\": \"maximize\"}\n",
    "\n",
    "sweep_config[\"metric\"] = metric\n",
    "\n",
    "\n",
    "parameters_dict = {\n",
    "    \"optimizer\": {\"value\": \"adamW\"},\n",
    "    \"batch_days\": {\"values\": [90,180,365,550,10000]},\n",
    "    \"f0_layer_size\": {\"values\": [128]},\n",
    "    \"f1_layer_size\": {\"values\": [64]},\n",
    "    \"dropout\": {\"values\": [0.3]},\n",
    "    \"input_type\": {\"values\": ['basic']},\n",
    "    \"num_layers\": {\"values\": [2]},\n",
    "    'hidden_size':{'values':[128]},\n",
    "    \"len_data\": {\"value\": len(raceDB.raceIDs)},\n",
    "    \"stats\":{\"value\": raceDB.stats_cols},\n",
    "    \"races\":{\"value\": states},\n",
    "    \"batch_size\":{\"value\": 10},\n",
    "    # \"hidden_size\": {\"value\":hidden_size}\n",
    "}\n",
    "\n",
    "sweep_config[\"parameters\"] = parameters_dict\n",
    "\n",
    "parameters_dict.update(\n",
    "    {\n",
    "        \"epochs\": {\"values\": [500]},\n",
    "        \"validation_split\": {\"value\": 0.1},\n",
    "        \"learning_rate\": {\"values\": [0.0003, 0.0001]},\n",
    "        \"label_smoothing\": {\"values\": [0.01,0.0]},\n",
    "        \"loss\": {\n",
    "            \"values\": [ \"CEL\"],\n",
    "            # \"values\": [\"Huber\", \"MSE\", \"L1\", \"BCE\", \"Custom\", \"KL\"]\n",
    "            # 'value': 'l1_custom'\n",
    "        },\n",
    "        # \"num_layers\": {\"values\": [2]},\n",
    "    }\n",
    ")\n",
    "\n",
    "# parameters_dict.update(\n",
    "#     {\n",
    "#         \"learning_rate\": {\n",
    "#             # a flat distribution between 0 and 0.1\n",
    "#             \"distribution\": \"uniform\",\n",
    "#             \"min\": 0.0003,\n",
    "#             \"max\": 0.0003,\n",
    "#         },\n",
    "#     }\n",
    "# )\n",
    "\n",
    "import pprint\n",
    "\n",
    "pprint.pprint(sweep_config)\n",
    "\n",
    "\n",
    "sweep_config"
   ]
  },
  {
   "cell_type": "code",
   "execution_count": null,
   "metadata": {},
   "outputs": [],
   "source": [
    "wandb.agent('38qbqfbs', function=model_pipeline, count=100)"
   ]
  },
  {
   "cell_type": "code",
   "execution_count": 19,
   "metadata": {},
   "outputs": [
    {
     "name": "stderr",
     "output_type": "stream",
     "text": [
      "Failed to detect the name of this notebook, you can set it manually with the WANDB_NOTEBOOK_NAME environment variable to enable code saving.\n"
     ]
    },
    {
     "name": "stdout",
     "output_type": "stream",
     "text": [
      "Create sweep with ID: 9vayinwt\n",
      "Sweep URL: https://wandb.ai/nickojelly/NEW%20GRU-sweeps/sweeps/9vayinwt\n"
     ]
    },
    {
     "name": "stderr",
     "output_type": "stream",
     "text": [
      "\u001b[34m\u001b[1mwandb\u001b[0m: Agent Starting Run: plnf6mip with config:\n",
      "\u001b[34m\u001b[1mwandb\u001b[0m: \tbatch_days: 90\n",
      "\u001b[34m\u001b[1mwandb\u001b[0m: \tbatch_size: 10\n",
      "\u001b[34m\u001b[1mwandb\u001b[0m: \tdropout: 0.3\n",
      "\u001b[34m\u001b[1mwandb\u001b[0m: \tepochs: 500\n",
      "\u001b[34m\u001b[1mwandb\u001b[0m: \tf0_layer_size: 128\n",
      "\u001b[34m\u001b[1mwandb\u001b[0m: \tf1_layer_size: 64\n",
      "\u001b[34m\u001b[1mwandb\u001b[0m: \thidden_size: 128\n",
      "\u001b[34m\u001b[1mwandb\u001b[0m: \tinput_type: basic\n",
      "\u001b[34m\u001b[1mwandb\u001b[0m: \tlabel_smoothing: 0.01\n",
      "\u001b[34m\u001b[1mwandb\u001b[0m: \tlearning_rate: 0.0003\n",
      "\u001b[34m\u001b[1mwandb\u001b[0m: \tlen_data: 17498\n",
      "\u001b[34m\u001b[1mwandb\u001b[0m: \tloss: CEL\n",
      "\u001b[34m\u001b[1mwandb\u001b[0m: \tnum_layers: 2\n",
      "\u001b[34m\u001b[1mwandb\u001b[0m: \toptimizer: adamW\n",
      "\u001b[34m\u001b[1mwandb\u001b[0m: \traces: ['NZ']\n",
      "\u001b[34m\u001b[1mwandb\u001b[0m: \tstats: [['dist_last__1', 'box_last__1', 'speed_avg_1', 'split_speed_v1_1', 'split_speed_avg_1', 'split_margin_avg_1', 'margin_avg_1', 'RunHomeTime_1', 'run_home_speed_1', 'run_home_speed_v1_1', 'first_out_avg_1', 'pos_out_avg_1', 'post_change_avg_1', 'races_1', 'wins_1', 'wins_last_1', 'weight_', 'min_time_', 'min_split_time_', 'min_split_time_v1', 'last_start_price', 'last_start_prob']]\n",
      "\u001b[34m\u001b[1mwandb\u001b[0m: \tvalidation_split: 0.1\n",
      "Failed to detect the name of this notebook, you can set it manually with the WANDB_NOTEBOOK_NAME environment variable to enable code saving.\n",
      "\u001b[34m\u001b[1mwandb\u001b[0m: Currently logged in as: \u001b[33mnickojelly\u001b[0m. Use \u001b[1m`wandb login --relogin`\u001b[0m to force relogin\n",
      "\u001b[34m\u001b[1mwandb\u001b[0m: \u001b[33mWARNING\u001b[0m Ignored wandb.init() arg project when running a sweep.\n"
     ]
    },
    {
     "data": {
      "text/html": [
       "wandb version 0.15.4 is available!  To upgrade, please run:\n",
       " $ pip install wandb --upgrade"
      ],
      "text/plain": [
       "<IPython.core.display.HTML object>"
      ]
     },
     "metadata": {},
     "output_type": "display_data"
    },
    {
     "data": {
      "text/html": [
       "Tracking run with wandb version 0.15.0"
      ],
      "text/plain": [
       "<IPython.core.display.HTML object>"
      ]
     },
     "metadata": {},
     "output_type": "display_data"
    },
    {
     "data": {
      "text/html": [
       "Run data is saved locally in <code>C:\\Users\\Nick\\Documents\\GitHub\\grvmodel\\Python\\DATA\\wandb\\run-20230614_100558-plnf6mip</code>"
      ],
      "text/plain": [
       "<IPython.core.display.HTML object>"
      ]
     },
     "metadata": {},
     "output_type": "display_data"
    },
    {
     "data": {
      "text/html": [
       "Syncing run <strong><a href='https://wandb.ai/nickojelly/NEW%20GRU-sweeps/runs/plnf6mip' target=\"_blank\">iconic-sweep-1</a></strong> to <a href='https://wandb.ai/nickojelly/NEW%20GRU-sweeps' target=\"_blank\">Weights & Biases</a> (<a href='https://wandb.me/run' target=\"_blank\">docs</a>)<br/>Sweep page: <a href='https://wandb.ai/nickojelly/NEW%20GRU-sweeps/sweeps/9vayinwt' target=\"_blank\">https://wandb.ai/nickojelly/NEW%20GRU-sweeps/sweeps/9vayinwt</a>"
      ],
      "text/plain": [
       "<IPython.core.display.HTML object>"
      ]
     },
     "metadata": {},
     "output_type": "display_data"
    },
    {
     "data": {
      "text/html": [
       " View project at <a href='https://wandb.ai/nickojelly/NEW%20GRU-sweeps' target=\"_blank\">https://wandb.ai/nickojelly/NEW%20GRU-sweeps</a>"
      ],
      "text/plain": [
       "<IPython.core.display.HTML object>"
      ]
     },
     "metadata": {},
     "output_type": "display_data"
    },
    {
     "data": {
      "text/html": [
       " View sweep at <a href='https://wandb.ai/nickojelly/NEW%20GRU-sweeps/sweeps/9vayinwt' target=\"_blank\">https://wandb.ai/nickojelly/NEW%20GRU-sweeps/sweeps/9vayinwt</a>"
      ],
      "text/plain": [
       "<IPython.core.display.HTML object>"
      ]
     },
     "metadata": {},
     "output_type": "display_data"
    },
    {
     "data": {
      "text/html": [
       " View run at <a href='https://wandb.ai/nickojelly/NEW%20GRU-sweeps/runs/plnf6mip' target=\"_blank\">https://wandb.ai/nickojelly/NEW%20GRU-sweeps/runs/plnf6mip</a>"
      ],
      "text/plain": [
       "<IPython.core.display.HTML object>"
      ]
     },
     "metadata": {},
     "output_type": "display_data"
    },
    {
     "name": "stdout",
     "output_type": "stream",
     "text": [
      "{'batch_days': 90, 'batch_size': 10, 'dropout': 0.3, 'epochs': 500, 'f0_layer_size': 128, 'f1_layer_size': 64, 'hidden_size': 128, 'input_type': 'basic', 'label_smoothing': 0.01, 'learning_rate': 0.0003, 'len_data': 17498, 'loss': 'CEL', 'num_layers': 2, 'optimizer': 'adamW', 'races': ['NZ'], 'stats': \"[['dist_last__1', 'box_last__1', 'speed_avg_1', 'split_speed_v1_1', 'split_speed_avg_1', 'split_margin_avg_1', 'margin_avg_1', 'RunHomeTime_1', 'run_home_speed_1', 'run_home_speed_v1_1', 'first_out_avg_1', 'pos_out_avg_1', 'post_change_avg_1', 'races_1', 'wins_1', 'wins_last_1', 'weight_', 'min_time_', 'min_split_time_', 'min_split_time_v1', 'last_start_price', 'last_start_prob']]\", 'validation_split': 0.1}\n",
      "500\n",
      "{'batch_days': 90, 'batch_size': 10, 'dropout': 0.3, 'epochs': 500, 'f0_layer_size': 128, 'f1_layer_size': 64, 'hidden_size': 128, 'input_type': 'basic', 'label_smoothing': 0.01, 'learning_rate': 0.0003, 'len_data': 17498, 'loss': 'CEL', 'num_layers': 2, 'optimizer': 'adamW', 'races': ['NZ'], 'stats': \"[['dist_last__1', 'box_last__1', 'speed_avg_1', 'split_speed_v1_1', 'split_speed_avg_1', 'split_margin_avg_1', 'margin_avg_1', 'RunHomeTime_1', 'run_home_speed_1', 'run_home_speed_v1_1', 'first_out_avg_1', 'pos_out_avg_1', 'post_change_avg_1', 'races_1', 'wins_1', 'wins_last_1', 'weight_', 'min_time_', 'min_split_time_', 'min_split_time_v1', 'last_start_price', 'last_start_prob']]\", 'validation_split': 0.1}\n",
      "basic\n",
      "[(datetime.date(2019, 12, 1), datetime.date(2020, 2, 29)), (datetime.date(2020, 2, 29), datetime.date(2020, 5, 29)), (datetime.date(2020, 5, 29), datetime.date(2020, 8, 27)), (datetime.date(2020, 8, 27), datetime.date(2020, 11, 25)), (datetime.date(2020, 11, 25), datetime.date(2021, 2, 23)), (datetime.date(2021, 2, 23), datetime.date(2021, 5, 24)), (datetime.date(2021, 5, 24), datetime.date(2021, 8, 22)), (datetime.date(2021, 8, 22), datetime.date(2021, 11, 20)), (datetime.date(2021, 11, 20), datetime.date(2022, 2, 18)), (datetime.date(2022, 2, 18), datetime.date(2022, 5, 19)), (datetime.date(2022, 5, 19), datetime.date(2022, 7, 31))]\n",
      "2020-02-29\n",
      "2020-05-29\n",
      "2020-08-27\n",
      "2020-11-25\n",
      "2021-02-23\n",
      "2021-05-24\n",
      "2021-08-22\n",
      "2021-11-20\n",
      "2022-02-18\n",
      "2022-05-19\n",
      "2022-07-31\n",
      "Train examples [1431, 769, 1453, 1372, 1331, 1348, 1242, 1153, 1230, 1213, 1001]\n"
     ]
    },
    {
     "name": "stderr",
     "output_type": "stream",
     "text": [
      "100%|██████████| 3619/3619 [00:00<00:00, 5908.02it/s]\n",
      "100%|██████████| 3619/3619 [00:00<00:00, 11192.03it/s]\n",
      "100%|██████████| 3619/3619 [00:00<00:00, 6076.83it/s]\n",
      "100%|██████████| 3619/3619 [00:00<00:00, 6621.55it/s]\n",
      "100%|██████████| 3619/3619 [00:00<00:00, 6847.01it/s]\n",
      "100%|██████████| 3619/3619 [00:00<00:00, 6622.18it/s]\n",
      "100%|██████████| 3619/3619 [00:00<00:00, 7319.25it/s]\n",
      "100%|██████████| 3619/3619 [00:00<00:00, 7918.26it/s]\n",
      "100%|██████████| 3619/3619 [00:00<00:00, 7348.99it/s]\n",
      "100%|██████████| 3619/3619 [00:00<00:00, 7470.48it/s]\n",
      "100%|██████████| 3619/3619 [00:00<00:00, 8748.51it/s]\n",
      "100%|██████████| 11/11 [00:05<00:00,  1.98it/s]\n"
     ]
    },
    {
     "name": "stdout",
     "output_type": "stream",
     "text": [
      "Train examples [1400, 1295, 1405, 1321, 1309, 1270, 1270, 1243, 1205, 1143, 1112]\n",
      "Train examples [1400, 1295, 1405, 1321, 1309, 1270, 1270, 1243, 1205, 1143, 1112]\n",
      "Train examples [1431, 769, 1453, 1372, 1331, 1348, 1242, 1153, 1230, 1213, 1001]\n",
      "Train examples [1431, 769, 1453, 1372, 1331, 1348, 1242, 1153, 1230, 1213, 1001]\n",
      "here\n",
      "input_size=28\n",
      "GRUNetv3_BN(\n",
      "  (gru): GRU(28, 128, num_layers=2, dropout=0.3)\n",
      "  (relu0): ReLU()\n",
      "  (fc0): Linear(in_features=1094, out_features=1094, bias=True)\n",
      "  (layer_norm): BatchNorm1d(28, eps=1e-05, momentum=0.1, affine=True, track_running_stats=True)\n",
      "  (rl1): ReLU()\n",
      "  (drop1): Dropout(p=0.3, inplace=False)\n",
      "  (fc1): Linear(in_features=1094, out_features=128, bias=True)\n",
      "  (rl2): ReLU()\n",
      "  (drop2): Dropout(p=0.3, inplace=False)\n",
      "  (fc2): Linear(in_features=128, out_features=64, bias=True)\n",
      "  (rl3): ReLU()\n",
      "  (drop3): Dropout(p=0.3, inplace=False)\n",
      "  (fc3): Linear(in_features=64, out_features=8, bias=True)\n",
      "  (output_fn): Identity()\n",
      ")\n"
     ]
    },
    {
     "name": "stderr",
     "output_type": "stream",
     "text": [
      "  0%|          | 0/500 [00:00<?, ?it/s]"
     ]
    },
    {
     "name": "stdout",
     "output_type": "stream",
     "text": [
      "created path\n"
     ]
    },
    {
     "name": "stderr",
     "output_type": "stream",
     "text": [
      "100%|██████████| 500/500 [1:17:56<00:00,  9.35s/it]\n"
     ]
    },
    {
     "data": {
      "text/html": [
       "Waiting for W&B process to finish... <strong style=\"color:green\">(success).</strong>"
      ],
      "text/plain": [
       "<IPython.core.display.HTML object>"
      ]
     },
     "metadata": {},
     "output_type": "display_data"
    },
    {
     "data": {
      "application/vnd.jupyter.widget-view+json": {
       "model_id": "9c10003cc4cb41af8938d3a0be2e720c",
       "version_major": 2,
       "version_minor": 0
      },
      "text/plain": [
       "VBox(children=(Label(value='59.765 MB of 59.765 MB uploaded (0.000 MB deduped)\\r'), FloatProgress(value=1.0, m…"
      ]
     },
     "metadata": {},
     "output_type": "display_data"
    },
    {
     "data": {
      "text/html": [
       "<style>\n",
       "    table.wandb td:nth-child(1) { padding: 0 10px; text-align: left ; width: auto;} td:nth-child(2) {text-align: left ; width: 100%}\n",
       "    .wandb-row { display: flex; flex-direction: row; flex-wrap: wrap; justify-content: flex-start; width: 100% }\n",
       "    .wandb-col { display: flex; flex-direction: column; flex-basis: 100%; flex: 1; padding: 10px; }\n",
       "    </style>\n",
       "<div class=\"wandb-row\"><div class=\"wandb-col\"><h3>Run history:</h3><br/><table class=\"wandb\"><tr><td>ROI < 30</td><td>▃▃▄▄▅▆▆▆▆▆▅▅▆██▆▆▆▅▅▁██▇▅▅▆▆▅▆▆▄▆▆▆▆▆▆▆▇</td></tr><tr><td>ROI < 30 2</td><td>▂▂▆▆▆▇▇▇▆▆▅▅▆██▆▆▆▅▅▁▇▇▆▄▄▅▅▄▅▅▃▅▅▆▆▆▆▆█</td></tr><tr><td>accuracy</td><td>▁▁▇▇███▇▇▇▆▆▆▆▆▅▅▅▅▅▅▅▅▅▅▅▅▅▅▅▅▅▅▅▅▅▅▅▅▅</td></tr><tr><td>accuracy2</td><td>▁▇██▇▇▆▆▆▅▅▅▅▅▅▅▅▅▅▅▅▅▅▅▅</td></tr><tr><td>epoch</td><td>▁▁▁▂▂▂▂▂▂▃▃▃▃▃▄▄▄▄▄▄▅▅▅▅▅▆▆▆▆▆▆▇▇▇▇▇████</td></tr><tr><td>flat_simple</td><td>▄▄▄▄█▇▇█▅▅▃▃▆██▄▆▆▄▄▂▅▅▄▂▂▅▅▂▄▄▁▂▂▄▄▄▄▄▅</td></tr><tr><td>loss_1</td><td>█▇▇▇▇▇▆▇▆▅▄▄▄▃▃▂▂▃▂▃▂▂▂▂▂▁▂▂▂▂▁▁▁▁▁▁▁▁▁▁</td></tr><tr><td>loss_val</td><td>▄▄▂▂▁▁▁▁▁▁▂▂▄▅▅▆▆▆▇▇▇▇▇█████▇██▇█████▇▇█</td></tr><tr><td>multibet outlay < 30</td><td>▁▁▁▁▁▁▁▂▃▃▄▄▅▆▆▇▇▇▇▇▇███████████████████</td></tr><tr><td>multibet profit</td><td>▄▄▆▆▆▆▆▆▆▆▆▆▇▇▇▇▆▆▅▅▁██▇▄▄▇▇▆▇▇▄▅▅▅▅▅▅▅▇</td></tr><tr><td>multibet profit < 30</td><td>▄▄▄▄▅▅▅▅▅▅▅▅▅▇▇▆▅▅▅▅▁██▇▄▄▆▆▅▆▆▄▆▆▆▆▆▆▆▇</td></tr><tr><td>multibet profit < 30 sd</td><td>▂▂▁▁▁▁▁▂▂▂▄▄▅▆▆▇▇▇▇▇▆██████████▇████████</td></tr><tr><td>profit_relu</td><td>▃▃▄▄▄▄▄▅▅▅▆▆▆▇▇▆▆▆▅▅▁██▆▄▄▇▇▆▇▇▃▅▅▄▄▅▅▅▆</td></tr><tr><td>relu roi</td><td>▄▄▅▅▆▆▆▆▇▇▇▇▆▇▇▆▆▆▅▅▁██▆▄▄▇▇▆▇▇▄▅▅▄▄▅▆▆▆</td></tr></table><br/></div><div class=\"wandb-col\"><h3>Run summary:</h3><br/><table class=\"wandb\"><tr><td>ROI < 30 2</td><td>0.06533</td></tr><tr><td>accuracy2</td><td>0.29469</td></tr><tr><td>epoch</td><td>499</td></tr><tr><td>flat_simple</td><td>47.06844</td></tr><tr><td>loss_1</td><td>0.43458</td></tr><tr><td>multibet outlay < 30</td><td>148495.87524</td></tr><tr><td>multibet profit</td><td>4367.44635</td></tr><tr><td>multibet profit < 30</td><td>6447.69865</td></tr><tr><td>multibet profit < 30 sd</td><td>45.1297</td></tr><tr><td>profit_relu</td><td>2721.80691</td></tr></table><br/></div></div>"
      ],
      "text/plain": [
       "<IPython.core.display.HTML object>"
      ]
     },
     "metadata": {},
     "output_type": "display_data"
    },
    {
     "data": {
      "text/html": [
       " View run <strong style=\"color:#cdcd00\">iconic-sweep-1</strong> at: <a href='https://wandb.ai/nickojelly/NEW%20GRU-sweeps/runs/plnf6mip' target=\"_blank\">https://wandb.ai/nickojelly/NEW%20GRU-sweeps/runs/plnf6mip</a><br/>Synced 6 W&B file(s), 75 media file(s), 75 artifact file(s) and 1 other file(s)"
      ],
      "text/plain": [
       "<IPython.core.display.HTML object>"
      ]
     },
     "metadata": {},
     "output_type": "display_data"
    },
    {
     "data": {
      "text/html": [
       "Find logs at: <code>.\\wandb\\run-20230614_100558-plnf6mip\\logs</code>"
      ],
      "text/plain": [
       "<IPython.core.display.HTML object>"
      ]
     },
     "metadata": {},
     "output_type": "display_data"
    },
    {
     "name": "stderr",
     "output_type": "stream",
     "text": [
      "\u001b[34m\u001b[1mwandb\u001b[0m: Agent Starting Run: 5n44e1nc with config:\n",
      "\u001b[34m\u001b[1mwandb\u001b[0m: \tbatch_days: 90\n",
      "\u001b[34m\u001b[1mwandb\u001b[0m: \tbatch_size: 10\n",
      "\u001b[34m\u001b[1mwandb\u001b[0m: \tdropout: 0.3\n",
      "\u001b[34m\u001b[1mwandb\u001b[0m: \tepochs: 500\n",
      "\u001b[34m\u001b[1mwandb\u001b[0m: \tf0_layer_size: 128\n",
      "\u001b[34m\u001b[1mwandb\u001b[0m: \tf1_layer_size: 64\n",
      "\u001b[34m\u001b[1mwandb\u001b[0m: \thidden_size: 128\n",
      "\u001b[34m\u001b[1mwandb\u001b[0m: \tinput_type: basic\n",
      "\u001b[34m\u001b[1mwandb\u001b[0m: \tlabel_smoothing: 0.01\n",
      "\u001b[34m\u001b[1mwandb\u001b[0m: \tlearning_rate: 0.0001\n",
      "\u001b[34m\u001b[1mwandb\u001b[0m: \tlen_data: 17498\n",
      "\u001b[34m\u001b[1mwandb\u001b[0m: \tloss: CEL\n",
      "\u001b[34m\u001b[1mwandb\u001b[0m: \tnum_layers: 2\n",
      "\u001b[34m\u001b[1mwandb\u001b[0m: \toptimizer: adamW\n",
      "\u001b[34m\u001b[1mwandb\u001b[0m: \traces: ['NZ']\n",
      "\u001b[34m\u001b[1mwandb\u001b[0m: \tstats: [['dist_last__1', 'box_last__1', 'speed_avg_1', 'split_speed_v1_1', 'split_speed_avg_1', 'split_margin_avg_1', 'margin_avg_1', 'RunHomeTime_1', 'run_home_speed_1', 'run_home_speed_v1_1', 'first_out_avg_1', 'pos_out_avg_1', 'post_change_avg_1', 'races_1', 'wins_1', 'wins_last_1', 'weight_', 'min_time_', 'min_split_time_', 'min_split_time_v1', 'last_start_price', 'last_start_prob']]\n",
      "\u001b[34m\u001b[1mwandb\u001b[0m: \tvalidation_split: 0.1\n",
      "Failed to detect the name of this notebook, you can set it manually with the WANDB_NOTEBOOK_NAME environment variable to enable code saving.\n",
      "\u001b[34m\u001b[1mwandb\u001b[0m: \u001b[33mWARNING\u001b[0m Ignored wandb.init() arg project when running a sweep.\n"
     ]
    },
    {
     "data": {
      "application/vnd.jupyter.widget-view+json": {
       "model_id": "3aacc3d2801a45078dfeb5f8c326e740",
       "version_major": 2,
       "version_minor": 0
      },
      "text/plain": [
       "VBox(children=(Label(value='Waiting for wandb.init()...\\r'), FloatProgress(value=0.016666666666666666, max=1.0…"
      ]
     },
     "metadata": {},
     "output_type": "display_data"
    },
    {
     "data": {
      "text/html": [
       "wandb version 0.15.4 is available!  To upgrade, please run:\n",
       " $ pip install wandb --upgrade"
      ],
      "text/plain": [
       "<IPython.core.display.HTML object>"
      ]
     },
     "metadata": {},
     "output_type": "display_data"
    },
    {
     "data": {
      "text/html": [
       "Tracking run with wandb version 0.15.0"
      ],
      "text/plain": [
       "<IPython.core.display.HTML object>"
      ]
     },
     "metadata": {},
     "output_type": "display_data"
    },
    {
     "data": {
      "text/html": [
       "Run data is saved locally in <code>C:\\Users\\Nick\\Documents\\GitHub\\grvmodel\\Python\\DATA\\wandb\\run-20230614_112420-5n44e1nc</code>"
      ],
      "text/plain": [
       "<IPython.core.display.HTML object>"
      ]
     },
     "metadata": {},
     "output_type": "display_data"
    },
    {
     "data": {
      "text/html": [
       "Syncing run <strong><a href='https://wandb.ai/nickojelly/NEW%20GRU-sweeps/runs/5n44e1nc' target=\"_blank\">sparkling-sweep-2</a></strong> to <a href='https://wandb.ai/nickojelly/NEW%20GRU-sweeps' target=\"_blank\">Weights & Biases</a> (<a href='https://wandb.me/run' target=\"_blank\">docs</a>)<br/>Sweep page: <a href='https://wandb.ai/nickojelly/NEW%20GRU-sweeps/sweeps/9vayinwt' target=\"_blank\">https://wandb.ai/nickojelly/NEW%20GRU-sweeps/sweeps/9vayinwt</a>"
      ],
      "text/plain": [
       "<IPython.core.display.HTML object>"
      ]
     },
     "metadata": {},
     "output_type": "display_data"
    },
    {
     "data": {
      "text/html": [
       " View project at <a href='https://wandb.ai/nickojelly/NEW%20GRU-sweeps' target=\"_blank\">https://wandb.ai/nickojelly/NEW%20GRU-sweeps</a>"
      ],
      "text/plain": [
       "<IPython.core.display.HTML object>"
      ]
     },
     "metadata": {},
     "output_type": "display_data"
    },
    {
     "data": {
      "text/html": [
       " View sweep at <a href='https://wandb.ai/nickojelly/NEW%20GRU-sweeps/sweeps/9vayinwt' target=\"_blank\">https://wandb.ai/nickojelly/NEW%20GRU-sweeps/sweeps/9vayinwt</a>"
      ],
      "text/plain": [
       "<IPython.core.display.HTML object>"
      ]
     },
     "metadata": {},
     "output_type": "display_data"
    },
    {
     "data": {
      "text/html": [
       " View run at <a href='https://wandb.ai/nickojelly/NEW%20GRU-sweeps/runs/5n44e1nc' target=\"_blank\">https://wandb.ai/nickojelly/NEW%20GRU-sweeps/runs/5n44e1nc</a>"
      ],
      "text/plain": [
       "<IPython.core.display.HTML object>"
      ]
     },
     "metadata": {},
     "output_type": "display_data"
    },
    {
     "name": "stdout",
     "output_type": "stream",
     "text": [
      "{'batch_days': 90, 'batch_size': 10, 'dropout': 0.3, 'epochs': 500, 'f0_layer_size': 128, 'f1_layer_size': 64, 'hidden_size': 128, 'input_type': 'basic', 'label_smoothing': 0.01, 'learning_rate': 0.0001, 'len_data': 17498, 'loss': 'CEL', 'num_layers': 2, 'optimizer': 'adamW', 'races': ['NZ'], 'stats': \"[['dist_last__1', 'box_last__1', 'speed_avg_1', 'split_speed_v1_1', 'split_speed_avg_1', 'split_margin_avg_1', 'margin_avg_1', 'RunHomeTime_1', 'run_home_speed_1', 'run_home_speed_v1_1', 'first_out_avg_1', 'pos_out_avg_1', 'post_change_avg_1', 'races_1', 'wins_1', 'wins_last_1', 'weight_', 'min_time_', 'min_split_time_', 'min_split_time_v1', 'last_start_price', 'last_start_prob']]\", 'validation_split': 0.1}\n",
      "500\n",
      "{'batch_days': 90, 'batch_size': 10, 'dropout': 0.3, 'epochs': 500, 'f0_layer_size': 128, 'f1_layer_size': 64, 'hidden_size': 128, 'input_type': 'basic', 'label_smoothing': 0.01, 'learning_rate': 0.0001, 'len_data': 17498, 'loss': 'CEL', 'num_layers': 2, 'optimizer': 'adamW', 'races': ['NZ'], 'stats': \"[['dist_last__1', 'box_last__1', 'speed_avg_1', 'split_speed_v1_1', 'split_speed_avg_1', 'split_margin_avg_1', 'margin_avg_1', 'RunHomeTime_1', 'run_home_speed_1', 'run_home_speed_v1_1', 'first_out_avg_1', 'pos_out_avg_1', 'post_change_avg_1', 'races_1', 'wins_1', 'wins_last_1', 'weight_', 'min_time_', 'min_split_time_', 'min_split_time_v1', 'last_start_price', 'last_start_prob']]\", 'validation_split': 0.1}\n",
      "basic\n",
      "[(datetime.date(2019, 12, 1), datetime.date(2020, 2, 29)), (datetime.date(2020, 2, 29), datetime.date(2020, 5, 29)), (datetime.date(2020, 5, 29), datetime.date(2020, 8, 27)), (datetime.date(2020, 8, 27), datetime.date(2020, 11, 25)), (datetime.date(2020, 11, 25), datetime.date(2021, 2, 23)), (datetime.date(2021, 2, 23), datetime.date(2021, 5, 24)), (datetime.date(2021, 5, 24), datetime.date(2021, 8, 22)), (datetime.date(2021, 8, 22), datetime.date(2021, 11, 20)), (datetime.date(2021, 11, 20), datetime.date(2022, 2, 18)), (datetime.date(2022, 2, 18), datetime.date(2022, 5, 19)), (datetime.date(2022, 5, 19), datetime.date(2022, 7, 31))]\n",
      "2020-02-29\n",
      "2020-05-29\n",
      "2020-08-27\n",
      "2020-11-25\n",
      "2021-02-23\n",
      "2021-05-24\n",
      "2021-08-22\n",
      "2021-11-20\n",
      "2022-02-18\n",
      "2022-05-19\n",
      "2022-07-31\n",
      "Train examples [1431, 769, 1453, 1372, 1331, 1348, 1242, 1153, 1230, 1213, 1001]\n"
     ]
    },
    {
     "name": "stderr",
     "output_type": "stream",
     "text": [
      "100%|██████████| 3619/3619 [00:00<00:00, 5520.81it/s]\n",
      "100%|██████████| 3619/3619 [00:00<00:00, 11588.82it/s]\n",
      "100%|██████████| 3619/3619 [00:00<00:00, 6254.47it/s]\n",
      "100%|██████████| 3619/3619 [00:00<00:00, 6167.70it/s]\n",
      "100%|██████████| 3619/3619 [00:00<00:00, 6596.16it/s]\n",
      "100%|██████████| 3619/3619 [00:00<00:00, 6694.69it/s]\n",
      "100%|██████████| 3619/3619 [00:00<00:00, 7171.60it/s]\n",
      "100%|██████████| 3619/3619 [00:00<00:00, 7498.13it/s]\n",
      "100%|██████████| 3619/3619 [00:00<00:00, 7408.39it/s]\n",
      "100%|██████████| 3619/3619 [00:00<00:00, 7319.26it/s]\n",
      "100%|██████████| 3619/3619 [00:00<00:00, 9084.71it/s]\n",
      "100%|██████████| 11/11 [00:05<00:00,  1.95it/s]\n"
     ]
    },
    {
     "name": "stdout",
     "output_type": "stream",
     "text": [
      "Train examples [1400, 1295, 1405, 1321, 1309, 1270, 1270, 1243, 1205, 1143, 1112]\n",
      "Train examples [1400, 1295, 1405, 1321, 1309, 1270, 1270, 1243, 1205, 1143, 1112]\n",
      "Train examples [1431, 769, 1453, 1372, 1331, 1348, 1242, 1153, 1230, 1213, 1001]\n",
      "Train examples [1431, 769, 1453, 1372, 1331, 1348, 1242, 1153, 1230, 1213, 1001]\n",
      "here\n",
      "input_size=28\n",
      "GRUNetv3_BN(\n",
      "  (gru): GRU(28, 128, num_layers=2, dropout=0.3)\n",
      "  (relu0): ReLU()\n",
      "  (fc0): Linear(in_features=1094, out_features=1094, bias=True)\n",
      "  (layer_norm): BatchNorm1d(28, eps=1e-05, momentum=0.1, affine=True, track_running_stats=True)\n",
      "  (rl1): ReLU()\n",
      "  (drop1): Dropout(p=0.3, inplace=False)\n",
      "  (fc1): Linear(in_features=1094, out_features=128, bias=True)\n",
      "  (rl2): ReLU()\n",
      "  (drop2): Dropout(p=0.3, inplace=False)\n",
      "  (fc2): Linear(in_features=128, out_features=64, bias=True)\n",
      "  (rl3): ReLU()\n",
      "  (drop3): Dropout(p=0.3, inplace=False)\n",
      "  (fc3): Linear(in_features=64, out_features=8, bias=True)\n",
      "  (output_fn): Identity()\n",
      ")\n"
     ]
    },
    {
     "name": "stderr",
     "output_type": "stream",
     "text": [
      "  0%|          | 0/500 [00:00<?, ?it/s]"
     ]
    },
    {
     "name": "stdout",
     "output_type": "stream",
     "text": [
      "created path\n"
     ]
    },
    {
     "name": "stderr",
     "output_type": "stream",
     "text": [
      "100%|██████████| 500/500 [1:17:11<00:00,  9.26s/it]\n"
     ]
    },
    {
     "data": {
      "text/html": [
       "Waiting for W&B process to finish... <strong style=\"color:green\">(success).</strong>"
      ],
      "text/plain": [
       "<IPython.core.display.HTML object>"
      ]
     },
     "metadata": {},
     "output_type": "display_data"
    },
    {
     "data": {
      "application/vnd.jupyter.widget-view+json": {
       "model_id": "02053a7b1ab44e0da9a363b150b7fc74",
       "version_major": 2,
       "version_minor": 0
      },
      "text/plain": [
       "VBox(children=(Label(value='59.780 MB of 59.780 MB uploaded (0.000 MB deduped)\\r'), FloatProgress(value=1.0, m…"
      ]
     },
     "metadata": {},
     "output_type": "display_data"
    },
    {
     "data": {
      "text/html": [
       "<style>\n",
       "    table.wandb td:nth-child(1) { padding: 0 10px; text-align: left ; width: auto;} td:nth-child(2) {text-align: left ; width: 100%}\n",
       "    .wandb-row { display: flex; flex-direction: row; flex-wrap: wrap; justify-content: flex-start; width: 100% }\n",
       "    .wandb-col { display: flex; flex-direction: column; flex-basis: 100%; flex: 1; padding: 10px; }\n",
       "    </style>\n",
       "<div class=\"wandb-row\"><div class=\"wandb-col\"><h3>Run history:</h3><br/><table class=\"wandb\"><tr><td>ROI < 30</td><td>▂▂▁▁▂▅▅▅▄▄▄▄▄▃▃▃▃▃▄▄▄▅▅▆▇▇▇▇▇▇▇▇████▇▆▆▇</td></tr><tr><td>ROI < 30 2</td><td>▂▂▁▁▅▆▆▆▆▆▅▅▅▄▄▅▄▄▅▅▅▆▆▇████▇▇▇▇████▇▆▆▇</td></tr><tr><td>accuracy</td><td>▁▁▂▂▇███████████████▇▇▇▇▇▇▇▇▆▆▆▆▆▆▆▆▆▆▆▆</td></tr><tr><td>accuracy2</td><td>▁▂▇█████████▇▇▇▇▇▆▆▆▆▆▆▆▆</td></tr><tr><td>epoch</td><td>▁▁▁▂▂▂▂▂▂▃▃▃▃▃▄▄▄▄▄▄▅▅▅▅▅▆▆▆▆▆▆▇▇▇▇▇████</td></tr><tr><td>flat_simple</td><td>▄▄▁▁▂▃▃▂▄▄▄▄▃▄▄▅▃▃▄▄▃▃▃▇▇▇▆▆▃▄▄▅▆▆██▄▃▃▅</td></tr><tr><td>loss_1</td><td>███▇▇▇▇▇▆▇▆▆▆▆▆▆▆▆▆▆▅▅▆▅▅▄▄▅▄▄▂▃▃▃▃▁▂▃▃▂</td></tr><tr><td>loss_val</td><td>▆▆▅▅▃▂▂▁▁▁▁▁▁▁▁▁▁▁▁▁▁▂▂▂▂▂▃▃▃▄▄▅▅▅▆▆▆▇▇█</td></tr><tr><td>multibet outlay < 30</td><td>▂▂▂▂▁▁▁▁▁▁▁▁▁▂▂▂▂▂▂▂▂▃▃▃▄▄▄▄▅▆▆▆▆▆▇▇▇███</td></tr><tr><td>multibet profit</td><td>▂▂▁▁▁▆▆▆▆▆▆▆▅▄▄▄▄▄▅▅▄▅▅▆▇▇▆▆▇██▆▅▅▆▆▅▄▄▄</td></tr><tr><td>multibet profit < 30</td><td>▁▁▁▁▂▃▃▃▃▃▃▃▃▃▃▃▃▃▃▃▃▄▄▅▆▆▆▆▆▆▆▇▇▇██▇▆▆▆</td></tr><tr><td>multibet profit < 30 sd</td><td>▂▂▂▂▁▁▁▁▁▁▁▁▁▁▁▂▂▂▂▂▂▂▂▃▃▃▄▄▅▅▅▆▆▆▇▇▇███</td></tr><tr><td>profit_relu</td><td>▂▂▁▁▁▄▄▄▄▄▄▄▄▄▄▄▄▄▄▄▄▅▅▆▇▇▇▇▇██▆▆▆▆▆▆▇▇▇</td></tr><tr><td>relu roi</td><td>▅▅▁▁▂▆▆▆▇▇▇▇▆▆▆▆▆▆▆▆▆▇▇███▇▇▇▇▇▆▆▆▆▆▆▆▆▆</td></tr></table><br/></div><div class=\"wandb-col\"><h3>Run summary:</h3><br/><table class=\"wandb\"><tr><td>ROI < 30 2</td><td>0.04157</td></tr><tr><td>accuracy2</td><td>0.30282</td></tr><tr><td>epoch</td><td>499</td></tr><tr><td>flat_simple</td><td>116.2228</td></tr><tr><td>loss_1</td><td>0.75237</td></tr><tr><td>multibet outlay < 30</td><td>122962.28332</td></tr><tr><td>multibet profit</td><td>1849.82394</td></tr><tr><td>multibet profit < 30</td><td>2960.39807</td></tr><tr><td>multibet profit < 30 sd</td><td>32.92647</td></tr><tr><td>profit_relu</td><td>2003.14491</td></tr></table><br/></div></div>"
      ],
      "text/plain": [
       "<IPython.core.display.HTML object>"
      ]
     },
     "metadata": {},
     "output_type": "display_data"
    },
    {
     "data": {
      "text/html": [
       " View run <strong style=\"color:#cdcd00\">sparkling-sweep-2</strong> at: <a href='https://wandb.ai/nickojelly/NEW%20GRU-sweeps/runs/5n44e1nc' target=\"_blank\">https://wandb.ai/nickojelly/NEW%20GRU-sweeps/runs/5n44e1nc</a><br/>Synced 6 W&B file(s), 75 media file(s), 75 artifact file(s) and 1 other file(s)"
      ],
      "text/plain": [
       "<IPython.core.display.HTML object>"
      ]
     },
     "metadata": {},
     "output_type": "display_data"
    },
    {
     "data": {
      "text/html": [
       "Find logs at: <code>.\\wandb\\run-20230614_112420-5n44e1nc\\logs</code>"
      ],
      "text/plain": [
       "<IPython.core.display.HTML object>"
      ]
     },
     "metadata": {},
     "output_type": "display_data"
    },
    {
     "name": "stderr",
     "output_type": "stream",
     "text": [
      "\u001b[34m\u001b[1mwandb\u001b[0m: Agent Starting Run: 5lmcnrlx with config:\n",
      "\u001b[34m\u001b[1mwandb\u001b[0m: \tbatch_days: 90\n",
      "\u001b[34m\u001b[1mwandb\u001b[0m: \tbatch_size: 10\n",
      "\u001b[34m\u001b[1mwandb\u001b[0m: \tdropout: 0.3\n",
      "\u001b[34m\u001b[1mwandb\u001b[0m: \tepochs: 500\n",
      "\u001b[34m\u001b[1mwandb\u001b[0m: \tf0_layer_size: 128\n",
      "\u001b[34m\u001b[1mwandb\u001b[0m: \tf1_layer_size: 64\n",
      "\u001b[34m\u001b[1mwandb\u001b[0m: \thidden_size: 128\n",
      "\u001b[34m\u001b[1mwandb\u001b[0m: \tinput_type: basic\n",
      "\u001b[34m\u001b[1mwandb\u001b[0m: \tlabel_smoothing: 0\n",
      "\u001b[34m\u001b[1mwandb\u001b[0m: \tlearning_rate: 0.0003\n",
      "\u001b[34m\u001b[1mwandb\u001b[0m: \tlen_data: 17498\n",
      "\u001b[34m\u001b[1mwandb\u001b[0m: \tloss: CEL\n",
      "\u001b[34m\u001b[1mwandb\u001b[0m: \tnum_layers: 2\n",
      "\u001b[34m\u001b[1mwandb\u001b[0m: \toptimizer: adamW\n",
      "\u001b[34m\u001b[1mwandb\u001b[0m: \traces: ['NZ']\n",
      "\u001b[34m\u001b[1mwandb\u001b[0m: \tstats: [['dist_last__1', 'box_last__1', 'speed_avg_1', 'split_speed_v1_1', 'split_speed_avg_1', 'split_margin_avg_1', 'margin_avg_1', 'RunHomeTime_1', 'run_home_speed_1', 'run_home_speed_v1_1', 'first_out_avg_1', 'pos_out_avg_1', 'post_change_avg_1', 'races_1', 'wins_1', 'wins_last_1', 'weight_', 'min_time_', 'min_split_time_', 'min_split_time_v1', 'last_start_price', 'last_start_prob']]\n",
      "\u001b[34m\u001b[1mwandb\u001b[0m: \tvalidation_split: 0.1\n",
      "Failed to detect the name of this notebook, you can set it manually with the WANDB_NOTEBOOK_NAME environment variable to enable code saving.\n",
      "\u001b[34m\u001b[1mwandb\u001b[0m: \u001b[33mWARNING\u001b[0m Ignored wandb.init() arg project when running a sweep.\n"
     ]
    },
    {
     "data": {
      "text/html": [
       "wandb version 0.15.4 is available!  To upgrade, please run:\n",
       " $ pip install wandb --upgrade"
      ],
      "text/plain": [
       "<IPython.core.display.HTML object>"
      ]
     },
     "metadata": {},
     "output_type": "display_data"
    },
    {
     "data": {
      "text/html": [
       "Tracking run with wandb version 0.15.0"
      ],
      "text/plain": [
       "<IPython.core.display.HTML object>"
      ]
     },
     "metadata": {},
     "output_type": "display_data"
    },
    {
     "data": {
      "text/html": [
       "Run data is saved locally in <code>C:\\Users\\Nick\\Documents\\GitHub\\grvmodel\\Python\\DATA\\wandb\\run-20230614_124154-5lmcnrlx</code>"
      ],
      "text/plain": [
       "<IPython.core.display.HTML object>"
      ]
     },
     "metadata": {},
     "output_type": "display_data"
    },
    {
     "data": {
      "text/html": [
       "Syncing run <strong><a href='https://wandb.ai/nickojelly/NEW%20GRU-sweeps/runs/5lmcnrlx' target=\"_blank\">efficient-sweep-3</a></strong> to <a href='https://wandb.ai/nickojelly/NEW%20GRU-sweeps' target=\"_blank\">Weights & Biases</a> (<a href='https://wandb.me/run' target=\"_blank\">docs</a>)<br/>Sweep page: <a href='https://wandb.ai/nickojelly/NEW%20GRU-sweeps/sweeps/9vayinwt' target=\"_blank\">https://wandb.ai/nickojelly/NEW%20GRU-sweeps/sweeps/9vayinwt</a>"
      ],
      "text/plain": [
       "<IPython.core.display.HTML object>"
      ]
     },
     "metadata": {},
     "output_type": "display_data"
    },
    {
     "data": {
      "text/html": [
       " View project at <a href='https://wandb.ai/nickojelly/NEW%20GRU-sweeps' target=\"_blank\">https://wandb.ai/nickojelly/NEW%20GRU-sweeps</a>"
      ],
      "text/plain": [
       "<IPython.core.display.HTML object>"
      ]
     },
     "metadata": {},
     "output_type": "display_data"
    },
    {
     "data": {
      "text/html": [
       " View sweep at <a href='https://wandb.ai/nickojelly/NEW%20GRU-sweeps/sweeps/9vayinwt' target=\"_blank\">https://wandb.ai/nickojelly/NEW%20GRU-sweeps/sweeps/9vayinwt</a>"
      ],
      "text/plain": [
       "<IPython.core.display.HTML object>"
      ]
     },
     "metadata": {},
     "output_type": "display_data"
    },
    {
     "data": {
      "text/html": [
       " View run at <a href='https://wandb.ai/nickojelly/NEW%20GRU-sweeps/runs/5lmcnrlx' target=\"_blank\">https://wandb.ai/nickojelly/NEW%20GRU-sweeps/runs/5lmcnrlx</a>"
      ],
      "text/plain": [
       "<IPython.core.display.HTML object>"
      ]
     },
     "metadata": {},
     "output_type": "display_data"
    },
    {
     "name": "stdout",
     "output_type": "stream",
     "text": [
      "{'batch_days': 90, 'batch_size': 10, 'dropout': 0.3, 'epochs': 500, 'f0_layer_size': 128, 'f1_layer_size': 64, 'hidden_size': 128, 'input_type': 'basic', 'label_smoothing': 0, 'learning_rate': 0.0003, 'len_data': 17498, 'loss': 'CEL', 'num_layers': 2, 'optimizer': 'adamW', 'races': ['NZ'], 'stats': \"[['dist_last__1', 'box_last__1', 'speed_avg_1', 'split_speed_v1_1', 'split_speed_avg_1', 'split_margin_avg_1', 'margin_avg_1', 'RunHomeTime_1', 'run_home_speed_1', 'run_home_speed_v1_1', 'first_out_avg_1', 'pos_out_avg_1', 'post_change_avg_1', 'races_1', 'wins_1', 'wins_last_1', 'weight_', 'min_time_', 'min_split_time_', 'min_split_time_v1', 'last_start_price', 'last_start_prob']]\", 'validation_split': 0.1}\n",
      "500\n",
      "{'batch_days': 90, 'batch_size': 10, 'dropout': 0.3, 'epochs': 500, 'f0_layer_size': 128, 'f1_layer_size': 64, 'hidden_size': 128, 'input_type': 'basic', 'label_smoothing': 0, 'learning_rate': 0.0003, 'len_data': 17498, 'loss': 'CEL', 'num_layers': 2, 'optimizer': 'adamW', 'races': ['NZ'], 'stats': \"[['dist_last__1', 'box_last__1', 'speed_avg_1', 'split_speed_v1_1', 'split_speed_avg_1', 'split_margin_avg_1', 'margin_avg_1', 'RunHomeTime_1', 'run_home_speed_1', 'run_home_speed_v1_1', 'first_out_avg_1', 'pos_out_avg_1', 'post_change_avg_1', 'races_1', 'wins_1', 'wins_last_1', 'weight_', 'min_time_', 'min_split_time_', 'min_split_time_v1', 'last_start_price', 'last_start_prob']]\", 'validation_split': 0.1}\n",
      "basic\n",
      "[(datetime.date(2019, 12, 1), datetime.date(2020, 2, 29)), (datetime.date(2020, 2, 29), datetime.date(2020, 5, 29)), (datetime.date(2020, 5, 29), datetime.date(2020, 8, 27)), (datetime.date(2020, 8, 27), datetime.date(2020, 11, 25)), (datetime.date(2020, 11, 25), datetime.date(2021, 2, 23)), (datetime.date(2021, 2, 23), datetime.date(2021, 5, 24)), (datetime.date(2021, 5, 24), datetime.date(2021, 8, 22)), (datetime.date(2021, 8, 22), datetime.date(2021, 11, 20)), (datetime.date(2021, 11, 20), datetime.date(2022, 2, 18)), (datetime.date(2022, 2, 18), datetime.date(2022, 5, 19)), (datetime.date(2022, 5, 19), datetime.date(2022, 7, 31))]\n",
      "2020-02-29\n",
      "2020-05-29\n",
      "2020-08-27\n",
      "2020-11-25\n",
      "2021-02-23\n",
      "2021-05-24\n",
      "2021-08-22\n",
      "2021-11-20\n",
      "2022-02-18\n",
      "2022-05-19\n",
      "2022-07-31\n",
      "Train examples [1431, 769, 1453, 1372, 1331, 1348, 1242, 1153, 1230, 1213, 1001]\n"
     ]
    },
    {
     "name": "stderr",
     "output_type": "stream",
     "text": [
      "100%|██████████| 3619/3619 [00:00<00:00, 5699.99it/s]\n",
      "100%|██████████| 3619/3619 [00:00<00:00, 11777.56it/s]\n",
      "100%|██████████| 3619/3619 [00:00<00:00, 5747.42it/s]\n",
      "100%|██████████| 3619/3619 [00:00<00:00, 6255.05it/s]\n",
      "100%|██████████| 3619/3619 [00:00<00:00, 6885.48it/s]\n",
      "100%|██████████| 3619/3619 [00:00<00:00, 6605.97it/s]\n",
      "100%|██████████| 3619/3619 [00:00<00:00, 6719.17it/s]\n",
      "100%|██████████| 3619/3619 [00:00<00:00, 7874.26it/s]\n",
      "100%|██████████| 3619/3619 [00:00<00:00, 7047.32it/s]\n",
      "100%|██████████| 3619/3619 [00:00<00:00, 7332.43it/s]\n",
      "100%|██████████| 3619/3619 [00:00<00:00, 9200.29it/s]\n",
      "100%|██████████| 11/11 [00:05<00:00,  1.94it/s]\n"
     ]
    },
    {
     "name": "stdout",
     "output_type": "stream",
     "text": [
      "Train examples [1400, 1295, 1405, 1321, 1309, 1270, 1270, 1243, 1205, 1143, 1112]\n",
      "Train examples [1400, 1295, 1405, 1321, 1309, 1270, 1270, 1243, 1205, 1143, 1112]\n",
      "Train examples [1431, 769, 1453, 1372, 1331, 1348, 1242, 1153, 1230, 1213, 1001]\n",
      "Train examples [1431, 769, 1453, 1372, 1331, 1348, 1242, 1153, 1230, 1213, 1001]\n",
      "here\n",
      "input_size=28\n",
      "GRUNetv3_BN(\n",
      "  (gru): GRU(28, 128, num_layers=2, dropout=0.3)\n",
      "  (relu0): ReLU()\n",
      "  (fc0): Linear(in_features=1094, out_features=1094, bias=True)\n",
      "  (layer_norm): BatchNorm1d(28, eps=1e-05, momentum=0.1, affine=True, track_running_stats=True)\n",
      "  (rl1): ReLU()\n",
      "  (drop1): Dropout(p=0.3, inplace=False)\n",
      "  (fc1): Linear(in_features=1094, out_features=128, bias=True)\n",
      "  (rl2): ReLU()\n",
      "  (drop2): Dropout(p=0.3, inplace=False)\n",
      "  (fc2): Linear(in_features=128, out_features=64, bias=True)\n",
      "  (rl3): ReLU()\n",
      "  (drop3): Dropout(p=0.3, inplace=False)\n",
      "  (fc3): Linear(in_features=64, out_features=8, bias=True)\n",
      "  (output_fn): Identity()\n",
      ")\n"
     ]
    },
    {
     "name": "stderr",
     "output_type": "stream",
     "text": [
      "  0%|          | 0/500 [00:00<?, ?it/s]"
     ]
    },
    {
     "name": "stdout",
     "output_type": "stream",
     "text": [
      "created path\n"
     ]
    },
    {
     "name": "stderr",
     "output_type": "stream",
     "text": [
      "100%|██████████| 500/500 [1:16:55<00:00,  9.23s/it]\n"
     ]
    },
    {
     "data": {
      "text/html": [
       "Waiting for W&B process to finish... <strong style=\"color:green\">(success).</strong>"
      ],
      "text/plain": [
       "<IPython.core.display.HTML object>"
      ]
     },
     "metadata": {},
     "output_type": "display_data"
    },
    {
     "data": {
      "application/vnd.jupyter.widget-view+json": {
       "model_id": "26e99620841542d4a30e774e313c4b78",
       "version_major": 2,
       "version_minor": 0
      },
      "text/plain": [
       "VBox(children=(Label(value='59.798 MB of 59.829 MB uploaded (0.000 MB deduped)\\r'), FloatProgress(value=0.9994…"
      ]
     },
     "metadata": {},
     "output_type": "display_data"
    },
    {
     "data": {
      "text/html": [
       "<style>\n",
       "    table.wandb td:nth-child(1) { padding: 0 10px; text-align: left ; width: auto;} td:nth-child(2) {text-align: left ; width: 100%}\n",
       "    .wandb-row { display: flex; flex-direction: row; flex-wrap: wrap; justify-content: flex-start; width: 100% }\n",
       "    .wandb-col { display: flex; flex-direction: column; flex-basis: 100%; flex: 1; padding: 10px; }\n",
       "    </style>\n",
       "<div class=\"wandb-row\"><div class=\"wandb-col\"><h3>Run history:</h3><br/><table class=\"wandb\"><tr><td>ROI < 30</td><td>▄▄▇▇██████▅▅▃▅▅▁▅▅▅▅▅▄▄▄▄▄▄▄▄▅▅▃▃▃▄▄▂▂▂▁</td></tr><tr><td>ROI < 30 2</td><td>▄▄██████▇▇▄▄▃▄▄▁▄▄▅▅▄▃▃▄▃▃▃▃▃▅▅▃▃▃▃▃▁▂▂▁</td></tr><tr><td>accuracy</td><td>▁▁▇▇███▇▇▇▆▆▅▅▅▅▅▅▅▅▅▅▅▅▅▅▅▅▅▅▅▅▅▅▅▅▅▅▅▅</td></tr><tr><td>accuracy2</td><td>▁▇██▇▇▆▅▅▅▅▅▅▅▅▅▅▅▅▅▅▅▅▅▅</td></tr><tr><td>epoch</td><td>▁▁▁▂▂▂▂▂▂▃▃▃▃▃▄▄▄▄▄▄▅▅▅▅▅▆▆▆▆▆▆▇▇▇▇▇████</td></tr><tr><td>flat_simple</td><td>▄▄▇▇█▆▆▇██▅▅▁▃▃▂▅▅▆▆▄▄▄▇▃▃▅▅▃▅▅▄▅▅▃▃▄▄▄▃</td></tr><tr><td>loss_1</td><td>██▇▇▇▆▆▇▅▅▄▄▄▃▄▃▃▃▂▂▂▂▂▂▂▁▂▂▁▂▁▁▁▁▁▁▁▁▂▁</td></tr><tr><td>loss_val</td><td>▃▃▂▂▁▁▁▁▂▂▃▃▄▅▅▅▆▆▆▆▆▇▇▇▇▇▇▇▇▇▇▇██▇▇████</td></tr><tr><td>multibet outlay < 30</td><td>▂▂▁▁▁▁▁▂▃▃▄▄▅▆▆▇▇▇▇▇▇▇▇█████████████████</td></tr><tr><td>multibet profit</td><td>▅▅▇▇▇▇▇███▆▆▃▄▄▁▆▆██▅▄▄█▅▅▆▆▅▆▆▅▅▅▃▃▂▃▃▁</td></tr><tr><td>multibet profit < 30</td><td>▇▇▇▇██████▇▇▄▅▅▂▅▅▆▆▅▅▅▅▅▅▄▄▄▆▆▄▃▃▄▄▂▃▃▁</td></tr><tr><td>multibet profit < 30 sd</td><td>▂▂▁▁▁▁▁▂▃▃▄▄▅▇▇▆▇▇▇▇▇▇▇▇██▇▇▇██▇▇▇██▇▇▇▇</td></tr><tr><td>profit_relu</td><td>▅▅▆▆▆▆▆▇██▇▇▄▄▄▁▆▆██▆▄▄▇▆▆▆▆▅▇▇▅▅▅▄▄▄▄▄▃</td></tr><tr><td>relu roi</td><td>▅▅▆▆▇▇▇███▆▆▃▃▃▁▅▅▆▆▅▃▃▆▅▅▅▅▄▆▆▄▄▄▄▄▃▃▃▂</td></tr></table><br/></div><div class=\"wandb-col\"><h3>Run summary:</h3><br/><table class=\"wandb\"><tr><td>ROI < 30 2</td><td>-0.09375</td></tr><tr><td>accuracy2</td><td>0.27282</td></tr><tr><td>epoch</td><td>499</td></tr><tr><td>flat_simple</td><td>-199.17417</td></tr><tr><td>loss_1</td><td>0.38707</td></tr><tr><td>multibet outlay < 30</td><td>154341.54125</td></tr><tr><td>multibet profit</td><td>-7626.43793</td></tr><tr><td>multibet profit < 30</td><td>-13471.17337</td></tr><tr><td>multibet profit < 30 sd</td><td>40.39674</td></tr><tr><td>profit_relu</td><td>-2303.5037</td></tr></table><br/></div></div>"
      ],
      "text/plain": [
       "<IPython.core.display.HTML object>"
      ]
     },
     "metadata": {},
     "output_type": "display_data"
    },
    {
     "data": {
      "text/html": [
       " View run <strong style=\"color:#cdcd00\">efficient-sweep-3</strong> at: <a href='https://wandb.ai/nickojelly/NEW%20GRU-sweeps/runs/5lmcnrlx' target=\"_blank\">https://wandb.ai/nickojelly/NEW%20GRU-sweeps/runs/5lmcnrlx</a><br/>Synced 6 W&B file(s), 75 media file(s), 75 artifact file(s) and 1 other file(s)"
      ],
      "text/plain": [
       "<IPython.core.display.HTML object>"
      ]
     },
     "metadata": {},
     "output_type": "display_data"
    },
    {
     "data": {
      "text/html": [
       "Find logs at: <code>.\\wandb\\run-20230614_124154-5lmcnrlx\\logs</code>"
      ],
      "text/plain": [
       "<IPython.core.display.HTML object>"
      ]
     },
     "metadata": {},
     "output_type": "display_data"
    },
    {
     "name": "stderr",
     "output_type": "stream",
     "text": [
      "\u001b[34m\u001b[1mwandb\u001b[0m: Sweep Agent: Waiting for job.\n",
      "\u001b[34m\u001b[1mwandb\u001b[0m: Job received.\n",
      "\u001b[34m\u001b[1mwandb\u001b[0m: Agent Starting Run: hgu0ftey with config:\n",
      "\u001b[34m\u001b[1mwandb\u001b[0m: \tbatch_days: 90\n",
      "\u001b[34m\u001b[1mwandb\u001b[0m: \tbatch_size: 10\n",
      "\u001b[34m\u001b[1mwandb\u001b[0m: \tdropout: 0.3\n",
      "\u001b[34m\u001b[1mwandb\u001b[0m: \tepochs: 500\n",
      "\u001b[34m\u001b[1mwandb\u001b[0m: \tf0_layer_size: 128\n",
      "\u001b[34m\u001b[1mwandb\u001b[0m: \tf1_layer_size: 64\n",
      "\u001b[34m\u001b[1mwandb\u001b[0m: \thidden_size: 128\n",
      "\u001b[34m\u001b[1mwandb\u001b[0m: \tinput_type: basic\n",
      "\u001b[34m\u001b[1mwandb\u001b[0m: \tlabel_smoothing: 0\n",
      "\u001b[34m\u001b[1mwandb\u001b[0m: \tlearning_rate: 0.0001\n",
      "\u001b[34m\u001b[1mwandb\u001b[0m: \tlen_data: 17498\n",
      "\u001b[34m\u001b[1mwandb\u001b[0m: \tloss: CEL\n",
      "\u001b[34m\u001b[1mwandb\u001b[0m: \tnum_layers: 2\n",
      "\u001b[34m\u001b[1mwandb\u001b[0m: \toptimizer: adamW\n",
      "\u001b[34m\u001b[1mwandb\u001b[0m: \traces: ['NZ']\n",
      "\u001b[34m\u001b[1mwandb\u001b[0m: \tstats: [['dist_last__1', 'box_last__1', 'speed_avg_1', 'split_speed_v1_1', 'split_speed_avg_1', 'split_margin_avg_1', 'margin_avg_1', 'RunHomeTime_1', 'run_home_speed_1', 'run_home_speed_v1_1', 'first_out_avg_1', 'pos_out_avg_1', 'post_change_avg_1', 'races_1', 'wins_1', 'wins_last_1', 'weight_', 'min_time_', 'min_split_time_', 'min_split_time_v1', 'last_start_price', 'last_start_prob']]\n",
      "\u001b[34m\u001b[1mwandb\u001b[0m: \tvalidation_split: 0.1\n",
      "Failed to detect the name of this notebook, you can set it manually with the WANDB_NOTEBOOK_NAME environment variable to enable code saving.\n",
      "\u001b[34m\u001b[1mwandb\u001b[0m: \u001b[33mWARNING\u001b[0m Ignored wandb.init() arg project when running a sweep.\n"
     ]
    },
    {
     "data": {
      "text/html": [
       "wandb version 0.15.4 is available!  To upgrade, please run:\n",
       " $ pip install wandb --upgrade"
      ],
      "text/plain": [
       "<IPython.core.display.HTML object>"
      ]
     },
     "metadata": {},
     "output_type": "display_data"
    },
    {
     "data": {
      "text/html": [
       "Tracking run with wandb version 0.15.0"
      ],
      "text/plain": [
       "<IPython.core.display.HTML object>"
      ]
     },
     "metadata": {},
     "output_type": "display_data"
    },
    {
     "data": {
      "text/html": [
       "Run data is saved locally in <code>C:\\Users\\Nick\\Documents\\GitHub\\grvmodel\\Python\\DATA\\wandb\\run-20230614_135918-hgu0ftey</code>"
      ],
      "text/plain": [
       "<IPython.core.display.HTML object>"
      ]
     },
     "metadata": {},
     "output_type": "display_data"
    },
    {
     "data": {
      "text/html": [
       "Syncing run <strong><a href='https://wandb.ai/nickojelly/NEW%20GRU-sweeps/runs/hgu0ftey' target=\"_blank\">deft-sweep-4</a></strong> to <a href='https://wandb.ai/nickojelly/NEW%20GRU-sweeps' target=\"_blank\">Weights & Biases</a> (<a href='https://wandb.me/run' target=\"_blank\">docs</a>)<br/>Sweep page: <a href='https://wandb.ai/nickojelly/NEW%20GRU-sweeps/sweeps/9vayinwt' target=\"_blank\">https://wandb.ai/nickojelly/NEW%20GRU-sweeps/sweeps/9vayinwt</a>"
      ],
      "text/plain": [
       "<IPython.core.display.HTML object>"
      ]
     },
     "metadata": {},
     "output_type": "display_data"
    },
    {
     "data": {
      "text/html": [
       " View project at <a href='https://wandb.ai/nickojelly/NEW%20GRU-sweeps' target=\"_blank\">https://wandb.ai/nickojelly/NEW%20GRU-sweeps</a>"
      ],
      "text/plain": [
       "<IPython.core.display.HTML object>"
      ]
     },
     "metadata": {},
     "output_type": "display_data"
    },
    {
     "data": {
      "text/html": [
       " View sweep at <a href='https://wandb.ai/nickojelly/NEW%20GRU-sweeps/sweeps/9vayinwt' target=\"_blank\">https://wandb.ai/nickojelly/NEW%20GRU-sweeps/sweeps/9vayinwt</a>"
      ],
      "text/plain": [
       "<IPython.core.display.HTML object>"
      ]
     },
     "metadata": {},
     "output_type": "display_data"
    },
    {
     "data": {
      "text/html": [
       " View run at <a href='https://wandb.ai/nickojelly/NEW%20GRU-sweeps/runs/hgu0ftey' target=\"_blank\">https://wandb.ai/nickojelly/NEW%20GRU-sweeps/runs/hgu0ftey</a>"
      ],
      "text/plain": [
       "<IPython.core.display.HTML object>"
      ]
     },
     "metadata": {},
     "output_type": "display_data"
    },
    {
     "name": "stdout",
     "output_type": "stream",
     "text": [
      "{'batch_days': 90, 'batch_size': 10, 'dropout': 0.3, 'epochs': 500, 'f0_layer_size': 128, 'f1_layer_size': 64, 'hidden_size': 128, 'input_type': 'basic', 'label_smoothing': 0, 'learning_rate': 0.0001, 'len_data': 17498, 'loss': 'CEL', 'num_layers': 2, 'optimizer': 'adamW', 'races': ['NZ'], 'stats': \"[['dist_last__1', 'box_last__1', 'speed_avg_1', 'split_speed_v1_1', 'split_speed_avg_1', 'split_margin_avg_1', 'margin_avg_1', 'RunHomeTime_1', 'run_home_speed_1', 'run_home_speed_v1_1', 'first_out_avg_1', 'pos_out_avg_1', 'post_change_avg_1', 'races_1', 'wins_1', 'wins_last_1', 'weight_', 'min_time_', 'min_split_time_', 'min_split_time_v1', 'last_start_price', 'last_start_prob']]\", 'validation_split': 0.1}\n",
      "500\n",
      "{'batch_days': 90, 'batch_size': 10, 'dropout': 0.3, 'epochs': 500, 'f0_layer_size': 128, 'f1_layer_size': 64, 'hidden_size': 128, 'input_type': 'basic', 'label_smoothing': 0, 'learning_rate': 0.0001, 'len_data': 17498, 'loss': 'CEL', 'num_layers': 2, 'optimizer': 'adamW', 'races': ['NZ'], 'stats': \"[['dist_last__1', 'box_last__1', 'speed_avg_1', 'split_speed_v1_1', 'split_speed_avg_1', 'split_margin_avg_1', 'margin_avg_1', 'RunHomeTime_1', 'run_home_speed_1', 'run_home_speed_v1_1', 'first_out_avg_1', 'pos_out_avg_1', 'post_change_avg_1', 'races_1', 'wins_1', 'wins_last_1', 'weight_', 'min_time_', 'min_split_time_', 'min_split_time_v1', 'last_start_price', 'last_start_prob']]\", 'validation_split': 0.1}\n",
      "basic\n",
      "[(datetime.date(2019, 12, 1), datetime.date(2020, 2, 29)), (datetime.date(2020, 2, 29), datetime.date(2020, 5, 29)), (datetime.date(2020, 5, 29), datetime.date(2020, 8, 27)), (datetime.date(2020, 8, 27), datetime.date(2020, 11, 25)), (datetime.date(2020, 11, 25), datetime.date(2021, 2, 23)), (datetime.date(2021, 2, 23), datetime.date(2021, 5, 24)), (datetime.date(2021, 5, 24), datetime.date(2021, 8, 22)), (datetime.date(2021, 8, 22), datetime.date(2021, 11, 20)), (datetime.date(2021, 11, 20), datetime.date(2022, 2, 18)), (datetime.date(2022, 2, 18), datetime.date(2022, 5, 19)), (datetime.date(2022, 5, 19), datetime.date(2022, 7, 31))]\n",
      "2020-02-29\n",
      "2020-05-29\n",
      "2020-08-27\n",
      "2020-11-25\n",
      "2021-02-23\n",
      "2021-05-24\n",
      "2021-08-22\n",
      "2021-11-20\n",
      "2022-02-18\n",
      "2022-05-19\n",
      "2022-07-31\n",
      "Train examples [1431, 769, 1453, 1372, 1331, 1348, 1242, 1153, 1230, 1213, 1001]\n"
     ]
    },
    {
     "name": "stderr",
     "output_type": "stream",
     "text": [
      "100%|██████████| 3619/3619 [00:00<00:00, 5148.82it/s]\n",
      "100%|██████████| 3619/3619 [00:00<00:00, 11478.46it/s]\n",
      "100%|██████████| 3619/3619 [00:00<00:00, 6116.15it/s]\n",
      "100%|██████████| 3619/3619 [00:00<00:00, 6609.02it/s]\n",
      "100%|██████████| 3619/3619 [00:00<00:00, 6620.14it/s]\n",
      "100%|██████████| 3619/3619 [00:00<00:00, 6363.59it/s]\n",
      "100%|██████████| 3619/3619 [00:00<00:00, 7376.53it/s]\n",
      "100%|██████████| 3619/3619 [00:00<00:00, 7910.71it/s]\n",
      "100%|██████████| 3619/3619 [00:00<00:00, 7348.12it/s]\n",
      "100%|██████████| 3619/3619 [00:00<00:00, 6897.81it/s]\n",
      "100%|██████████| 3619/3619 [00:00<00:00, 9057.82it/s]\n",
      "100%|██████████| 11/11 [00:05<00:00,  1.93it/s]\n"
     ]
    },
    {
     "name": "stdout",
     "output_type": "stream",
     "text": [
      "Train examples [1400, 1295, 1405, 1321, 1309, 1270, 1270, 1243, 1205, 1143, 1112]\n",
      "Train examples [1400, 1295, 1405, 1321, 1309, 1270, 1270, 1243, 1205, 1143, 1112]\n",
      "Train examples [1431, 769, 1453, 1372, 1331, 1348, 1242, 1153, 1230, 1213, 1001]\n",
      "Train examples [1431, 769, 1453, 1372, 1331, 1348, 1242, 1153, 1230, 1213, 1001]\n",
      "here\n",
      "input_size=28\n",
      "GRUNetv3_BN(\n",
      "  (gru): GRU(28, 128, num_layers=2, dropout=0.3)\n",
      "  (relu0): ReLU()\n",
      "  (fc0): Linear(in_features=1094, out_features=1094, bias=True)\n",
      "  (layer_norm): BatchNorm1d(28, eps=1e-05, momentum=0.1, affine=True, track_running_stats=True)\n",
      "  (rl1): ReLU()\n",
      "  (drop1): Dropout(p=0.3, inplace=False)\n",
      "  (fc1): Linear(in_features=1094, out_features=128, bias=True)\n",
      "  (rl2): ReLU()\n",
      "  (drop2): Dropout(p=0.3, inplace=False)\n",
      "  (fc2): Linear(in_features=128, out_features=64, bias=True)\n",
      "  (rl3): ReLU()\n",
      "  (drop3): Dropout(p=0.3, inplace=False)\n",
      "  (fc3): Linear(in_features=64, out_features=8, bias=True)\n",
      "  (output_fn): Identity()\n",
      ")\n"
     ]
    },
    {
     "name": "stderr",
     "output_type": "stream",
     "text": [
      "  0%|          | 0/500 [00:00<?, ?it/s]"
     ]
    },
    {
     "name": "stdout",
     "output_type": "stream",
     "text": [
      "created path\n"
     ]
    },
    {
     "name": "stderr",
     "output_type": "stream",
     "text": [
      "100%|██████████| 500/500 [1:17:04<00:00,  9.25s/it]\n"
     ]
    },
    {
     "data": {
      "text/html": [
       "Waiting for W&B process to finish... <strong style=\"color:green\">(success).</strong>"
      ],
      "text/plain": [
       "<IPython.core.display.HTML object>"
      ]
     },
     "metadata": {},
     "output_type": "display_data"
    },
    {
     "data": {
      "application/vnd.jupyter.widget-view+json": {
       "model_id": "db796d8ccff64baca6f09fd851cada5f",
       "version_major": 2,
       "version_minor": 0
      },
      "text/plain": [
       "VBox(children=(Label(value='59.763 MB of 59.763 MB uploaded (0.000 MB deduped)\\r'), FloatProgress(value=1.0, m…"
      ]
     },
     "metadata": {},
     "output_type": "display_data"
    },
    {
     "data": {
      "text/html": [
       "<style>\n",
       "    table.wandb td:nth-child(1) { padding: 0 10px; text-align: left ; width: auto;} td:nth-child(2) {text-align: left ; width: 100%}\n",
       "    .wandb-row { display: flex; flex-direction: row; flex-wrap: wrap; justify-content: flex-start; width: 100% }\n",
       "    .wandb-col { display: flex; flex-direction: column; flex-basis: 100%; flex: 1; padding: 10px; }\n",
       "    </style>\n",
       "<div class=\"wandb-row\"><div class=\"wandb-col\"><h3>Run history:</h3><br/><table class=\"wandb\"><tr><td>ROI < 30</td><td>▁▁▂▂▄▅▅▅▄▄▄▄▃▄▄▄▄▄▄▄▅▆▆▅▆▆▆▆▇███▇▇▇▇▆██▇</td></tr><tr><td>ROI < 30 2</td><td>▁▁▂▂▆▆▆▆▆▆▅▅▅▅▅▅▄▄▅▅▆▆▆▅▆▆▆▆▇██▇██▇▇▆██▇</td></tr><tr><td>accuracy</td><td>▁▁▄▄▇█████████████▇▇▇▇▇▇▇▇▆▆▆▆▆▆▆▆▆▆▆▆▆▆</td></tr><tr><td>accuracy2</td><td>▁▄▇████████▇▇▇▇▇▆▆▆▆▆▆▆▆▆</td></tr><tr><td>epoch</td><td>▁▁▁▂▂▂▂▂▂▃▃▃▃▃▄▄▄▄▄▄▅▅▅▅▅▆▆▆▆▆▆▇▇▇▇▇████</td></tr><tr><td>flat_simple</td><td>▅▅▁▁▃▄▄▆▅▅▅▅▅▅▅▅▆▆▆▆▆▆▆▆▆▆▇▇▇▇▇▇▇▇██▆██▇</td></tr><tr><td>loss_1</td><td>███▇▇▇▇▇▆▆▆▆▆▆▆▆▆▆▆▆▅▅▅▅▅▃▄▄▄▄▂▃▃▂▃▁▂▂▃▂</td></tr><tr><td>loss_val</td><td>▅▅▄▄▂▁▁▁▁▁▁▁▁▁▁▁▁▁▁▁▂▂▂▂▃▃▃▃▄▄▄▅▆▆▆▆▇▇▇█</td></tr><tr><td>multibet outlay < 30</td><td>▂▂▁▁▁▁▁▁▁▁▁▁▁▂▂▂▂▂▂▂▃▃▃▄▄▄▅▅▅▆▆▆▇▇▇▇▇███</td></tr><tr><td>multibet profit</td><td>▂▂▁▁▂▃▃▃▃▃▃▃▃▃▃▃▃▃▃▃▃▄▄▃▄▄▄▄▅▇▇▇▇▇▇▇▇███</td></tr><tr><td>multibet profit < 30</td><td>▁▁▂▂▃▃▃▃▃▃▃▃▂▃▃▃▃▃▃▃▄▄▄▄▄▄▅▅▆▇▇▇▆▆▇▇▅██▇</td></tr><tr><td>multibet profit < 30 sd</td><td>▂▂▂▂▁▁▁▁▁▁▁▁▁▁▁▂▂▂▂▂▂▃▃▃▄▄▄▄▅▆▆▆▇▇▇▇▇███</td></tr><tr><td>profit_relu</td><td>▂▂▁▁▁▂▂▂▃▃▂▂▂▃▃▃▃▃▃▃▄▄▄▄▄▄▅▅▅▇▇▇▇▇▇▇▇███</td></tr><tr><td>relu roi</td><td>▄▄▁▁▃▄▄▅▅▅▅▅▅▅▅▅▅▅▆▆▆▆▆▆▆▆▆▆▆███▇▇▇▇▇███</td></tr></table><br/></div><div class=\"wandb-col\"><h3>Run summary:</h3><br/><table class=\"wandb\"><tr><td>ROI < 30 2</td><td>0.06053</td></tr><tr><td>accuracy2</td><td>0.30664</td></tr><tr><td>epoch</td><td>499</td></tr><tr><td>flat_simple</td><td>176.09257</td></tr><tr><td>loss_1</td><td>0.65406</td></tr><tr><td>multibet outlay < 30</td><td>129547.66631</td></tr><tr><td>multibet profit</td><td>12770.62189</td></tr><tr><td>multibet profit < 30</td><td>5490.01974</td></tr><tr><td>multibet profit < 30 sd</td><td>37.95634</td></tr><tr><td>profit_relu</td><td>7670.39693</td></tr></table><br/></div></div>"
      ],
      "text/plain": [
       "<IPython.core.display.HTML object>"
      ]
     },
     "metadata": {},
     "output_type": "display_data"
    },
    {
     "data": {
      "text/html": [
       " View run <strong style=\"color:#cdcd00\">deft-sweep-4</strong> at: <a href='https://wandb.ai/nickojelly/NEW%20GRU-sweeps/runs/hgu0ftey' target=\"_blank\">https://wandb.ai/nickojelly/NEW%20GRU-sweeps/runs/hgu0ftey</a><br/>Synced 6 W&B file(s), 75 media file(s), 75 artifact file(s) and 1 other file(s)"
      ],
      "text/plain": [
       "<IPython.core.display.HTML object>"
      ]
     },
     "metadata": {},
     "output_type": "display_data"
    },
    {
     "data": {
      "text/html": [
       "Find logs at: <code>.\\wandb\\run-20230614_135918-hgu0ftey\\logs</code>"
      ],
      "text/plain": [
       "<IPython.core.display.HTML object>"
      ]
     },
     "metadata": {},
     "output_type": "display_data"
    },
    {
     "name": "stderr",
     "output_type": "stream",
     "text": [
      "\u001b[34m\u001b[1mwandb\u001b[0m: Agent Starting Run: qvv7lt9m with config:\n",
      "\u001b[34m\u001b[1mwandb\u001b[0m: \tbatch_days: 180\n",
      "\u001b[34m\u001b[1mwandb\u001b[0m: \tbatch_size: 10\n",
      "\u001b[34m\u001b[1mwandb\u001b[0m: \tdropout: 0.3\n",
      "\u001b[34m\u001b[1mwandb\u001b[0m: \tepochs: 500\n",
      "\u001b[34m\u001b[1mwandb\u001b[0m: \tf0_layer_size: 128\n",
      "\u001b[34m\u001b[1mwandb\u001b[0m: \tf1_layer_size: 64\n",
      "\u001b[34m\u001b[1mwandb\u001b[0m: \thidden_size: 128\n",
      "\u001b[34m\u001b[1mwandb\u001b[0m: \tinput_type: basic\n",
      "\u001b[34m\u001b[1mwandb\u001b[0m: \tlabel_smoothing: 0.01\n",
      "\u001b[34m\u001b[1mwandb\u001b[0m: \tlearning_rate: 0.0003\n",
      "\u001b[34m\u001b[1mwandb\u001b[0m: \tlen_data: 17498\n",
      "\u001b[34m\u001b[1mwandb\u001b[0m: \tloss: CEL\n",
      "\u001b[34m\u001b[1mwandb\u001b[0m: \tnum_layers: 2\n",
      "\u001b[34m\u001b[1mwandb\u001b[0m: \toptimizer: adamW\n",
      "\u001b[34m\u001b[1mwandb\u001b[0m: \traces: ['NZ']\n",
      "\u001b[34m\u001b[1mwandb\u001b[0m: \tstats: [['dist_last__1', 'box_last__1', 'speed_avg_1', 'split_speed_v1_1', 'split_speed_avg_1', 'split_margin_avg_1', 'margin_avg_1', 'RunHomeTime_1', 'run_home_speed_1', 'run_home_speed_v1_1', 'first_out_avg_1', 'pos_out_avg_1', 'post_change_avg_1', 'races_1', 'wins_1', 'wins_last_1', 'weight_', 'min_time_', 'min_split_time_', 'min_split_time_v1', 'last_start_price', 'last_start_prob']]\n",
      "\u001b[34m\u001b[1mwandb\u001b[0m: \tvalidation_split: 0.1\n",
      "Failed to detect the name of this notebook, you can set it manually with the WANDB_NOTEBOOK_NAME environment variable to enable code saving.\n",
      "\u001b[34m\u001b[1mwandb\u001b[0m: \u001b[33mWARNING\u001b[0m Ignored wandb.init() arg project when running a sweep.\n"
     ]
    },
    {
     "data": {
      "text/html": [
       "wandb version 0.15.4 is available!  To upgrade, please run:\n",
       " $ pip install wandb --upgrade"
      ],
      "text/plain": [
       "<IPython.core.display.HTML object>"
      ]
     },
     "metadata": {},
     "output_type": "display_data"
    },
    {
     "data": {
      "text/html": [
       "Tracking run with wandb version 0.15.0"
      ],
      "text/plain": [
       "<IPython.core.display.HTML object>"
      ]
     },
     "metadata": {},
     "output_type": "display_data"
    },
    {
     "data": {
      "text/html": [
       "Run data is saved locally in <code>C:\\Users\\Nick\\Documents\\GitHub\\grvmodel\\Python\\DATA\\wandb\\run-20230614_151645-qvv7lt9m</code>"
      ],
      "text/plain": [
       "<IPython.core.display.HTML object>"
      ]
     },
     "metadata": {},
     "output_type": "display_data"
    },
    {
     "data": {
      "text/html": [
       "Syncing run <strong><a href='https://wandb.ai/nickojelly/NEW%20GRU-sweeps/runs/qvv7lt9m' target=\"_blank\">drawn-sweep-5</a></strong> to <a href='https://wandb.ai/nickojelly/NEW%20GRU-sweeps' target=\"_blank\">Weights & Biases</a> (<a href='https://wandb.me/run' target=\"_blank\">docs</a>)<br/>Sweep page: <a href='https://wandb.ai/nickojelly/NEW%20GRU-sweeps/sweeps/9vayinwt' target=\"_blank\">https://wandb.ai/nickojelly/NEW%20GRU-sweeps/sweeps/9vayinwt</a>"
      ],
      "text/plain": [
       "<IPython.core.display.HTML object>"
      ]
     },
     "metadata": {},
     "output_type": "display_data"
    },
    {
     "data": {
      "text/html": [
       " View project at <a href='https://wandb.ai/nickojelly/NEW%20GRU-sweeps' target=\"_blank\">https://wandb.ai/nickojelly/NEW%20GRU-sweeps</a>"
      ],
      "text/plain": [
       "<IPython.core.display.HTML object>"
      ]
     },
     "metadata": {},
     "output_type": "display_data"
    },
    {
     "data": {
      "text/html": [
       " View sweep at <a href='https://wandb.ai/nickojelly/NEW%20GRU-sweeps/sweeps/9vayinwt' target=\"_blank\">https://wandb.ai/nickojelly/NEW%20GRU-sweeps/sweeps/9vayinwt</a>"
      ],
      "text/plain": [
       "<IPython.core.display.HTML object>"
      ]
     },
     "metadata": {},
     "output_type": "display_data"
    },
    {
     "data": {
      "text/html": [
       " View run at <a href='https://wandb.ai/nickojelly/NEW%20GRU-sweeps/runs/qvv7lt9m' target=\"_blank\">https://wandb.ai/nickojelly/NEW%20GRU-sweeps/runs/qvv7lt9m</a>"
      ],
      "text/plain": [
       "<IPython.core.display.HTML object>"
      ]
     },
     "metadata": {},
     "output_type": "display_data"
    },
    {
     "name": "stdout",
     "output_type": "stream",
     "text": [
      "{'batch_days': 180, 'batch_size': 10, 'dropout': 0.3, 'epochs': 500, 'f0_layer_size': 128, 'f1_layer_size': 64, 'hidden_size': 128, 'input_type': 'basic', 'label_smoothing': 0.01, 'learning_rate': 0.0003, 'len_data': 17498, 'loss': 'CEL', 'num_layers': 2, 'optimizer': 'adamW', 'races': ['NZ'], 'stats': \"[['dist_last__1', 'box_last__1', 'speed_avg_1', 'split_speed_v1_1', 'split_speed_avg_1', 'split_margin_avg_1', 'margin_avg_1', 'RunHomeTime_1', 'run_home_speed_1', 'run_home_speed_v1_1', 'first_out_avg_1', 'pos_out_avg_1', 'post_change_avg_1', 'races_1', 'wins_1', 'wins_last_1', 'weight_', 'min_time_', 'min_split_time_', 'min_split_time_v1', 'last_start_price', 'last_start_prob']]\", 'validation_split': 0.1}\n",
      "500\n",
      "{'batch_days': 180, 'batch_size': 10, 'dropout': 0.3, 'epochs': 500, 'f0_layer_size': 128, 'f1_layer_size': 64, 'hidden_size': 128, 'input_type': 'basic', 'label_smoothing': 0.01, 'learning_rate': 0.0003, 'len_data': 17498, 'loss': 'CEL', 'num_layers': 2, 'optimizer': 'adamW', 'races': ['NZ'], 'stats': \"[['dist_last__1', 'box_last__1', 'speed_avg_1', 'split_speed_v1_1', 'split_speed_avg_1', 'split_margin_avg_1', 'margin_avg_1', 'RunHomeTime_1', 'run_home_speed_1', 'run_home_speed_v1_1', 'first_out_avg_1', 'pos_out_avg_1', 'post_change_avg_1', 'races_1', 'wins_1', 'wins_last_1', 'weight_', 'min_time_', 'min_split_time_', 'min_split_time_v1', 'last_start_price', 'last_start_prob']]\", 'validation_split': 0.1}\n",
      "basic\n",
      "[(datetime.date(2019, 12, 1), datetime.date(2020, 5, 29)), (datetime.date(2020, 5, 29), datetime.date(2020, 11, 25)), (datetime.date(2020, 11, 25), datetime.date(2021, 5, 24)), (datetime.date(2021, 5, 24), datetime.date(2021, 11, 20)), (datetime.date(2021, 11, 20), datetime.date(2022, 5, 19)), (datetime.date(2022, 5, 19), datetime.date(2022, 7, 31))]\n",
      "2020-05-29\n",
      "2020-11-25\n",
      "2021-05-24\n",
      "2021-11-20\n",
      "2022-05-19\n",
      "2022-07-31\n",
      "Train examples [2201, 2826, 2680, 2396, 2444, 1001]\n"
     ]
    },
    {
     "name": "stderr",
     "output_type": "stream",
     "text": [
      "100%|██████████| 3619/3619 [00:00<00:00, 3789.60it/s]\n",
      "100%|██████████| 3619/3619 [00:01<00:00, 3082.10it/s]\n",
      "100%|██████████| 3619/3619 [00:01<00:00, 3368.29it/s]\n",
      "100%|██████████| 3619/3619 [00:00<00:00, 3677.83it/s]\n",
      "100%|██████████| 3619/3619 [00:00<00:00, 3754.03it/s]\n",
      "100%|██████████| 3619/3619 [00:00<00:00, 9104.27it/s]\n",
      "100%|██████████| 6/6 [00:05<00:00,  1.08it/s]\n"
     ]
    },
    {
     "name": "stdout",
     "output_type": "stream",
     "text": [
      "Train examples [1557, 1594, 1489, 1492, 1400, 1112]\n",
      "Train examples [1557, 1594, 1489, 1492, 1400, 1112]\n",
      "Train examples [2201, 2826, 2680, 2396, 2444, 1001]\n",
      "Train examples [2201, 2826, 2680, 2396, 2444, 1001]\n",
      "here\n",
      "input_size=28\n",
      "GRUNetv3_BN(\n",
      "  (gru): GRU(28, 128, num_layers=2, dropout=0.3)\n",
      "  (relu0): ReLU()\n",
      "  (fc0): Linear(in_features=1094, out_features=1094, bias=True)\n",
      "  (layer_norm): BatchNorm1d(28, eps=1e-05, momentum=0.1, affine=True, track_running_stats=True)\n",
      "  (rl1): ReLU()\n",
      "  (drop1): Dropout(p=0.3, inplace=False)\n",
      "  (fc1): Linear(in_features=1094, out_features=128, bias=True)\n",
      "  (rl2): ReLU()\n",
      "  (drop2): Dropout(p=0.3, inplace=False)\n",
      "  (fc2): Linear(in_features=128, out_features=64, bias=True)\n",
      "  (rl3): ReLU()\n",
      "  (drop3): Dropout(p=0.3, inplace=False)\n",
      "  (fc3): Linear(in_features=64, out_features=8, bias=True)\n",
      "  (output_fn): Identity()\n",
      ")\n"
     ]
    },
    {
     "name": "stderr",
     "output_type": "stream",
     "text": [
      "  0%|          | 0/500 [00:00<?, ?it/s]"
     ]
    },
    {
     "name": "stdout",
     "output_type": "stream",
     "text": [
      "created path\n"
     ]
    },
    {
     "name": "stderr",
     "output_type": "stream",
     "text": [
      "100%|██████████| 500/500 [58:06<00:00,  6.97s/it] \n"
     ]
    },
    {
     "data": {
      "text/html": [
       "Waiting for W&B process to finish... <strong style=\"color:green\">(success).</strong>"
      ],
      "text/plain": [
       "<IPython.core.display.HTML object>"
      ]
     },
     "metadata": {},
     "output_type": "display_data"
    },
    {
     "data": {
      "text/html": [
       "<style>\n",
       "    table.wandb td:nth-child(1) { padding: 0 10px; text-align: left ; width: auto;} td:nth-child(2) {text-align: left ; width: 100%}\n",
       "    .wandb-row { display: flex; flex-direction: row; flex-wrap: wrap; justify-content: flex-start; width: 100% }\n",
       "    .wandb-col { display: flex; flex-direction: column; flex-basis: 100%; flex: 1; padding: 10px; }\n",
       "    </style>\n",
       "<div class=\"wandb-row\"><div class=\"wandb-col\"><h3>Run history:</h3><br/><table class=\"wandb\"><tr><td>ROI < 30</td><td>▃▃▂▂▄▄▄▅▆▆▇▇███▇▆▆▃▃▄▅▅▃▂▂▂▂▃▂▂▂▁▁▁▁▂▃▃▃</td></tr><tr><td>ROI < 30 2</td><td>▃▃▂▂▇▆▆▆▇▇▇▇█▇▇▇▅▅▄▄▄▅▅▃▂▂▂▂▃▃▃▂▂▂▁▁▂▂▂▄</td></tr><tr><td>accuracy</td><td>▁▁▄▄██████▇▇▇▆▆▅▅▅▅▅▅▅▅▄▅▅▄▄▅▅▅▄▅▅▄▄▄▄▄▄</td></tr><tr><td>accuracy2</td><td>▁▄████▇▇▆▅▅▅▅▅▄▅▄▅▅▄▅▄▄▄▄</td></tr><tr><td>epoch</td><td>▁▁▁▂▂▂▂▂▂▃▃▃▃▃▃▄▄▄▄▄▅▅▅▅▅▅▆▆▆▆▆▇▇▇▇▇▇███</td></tr><tr><td>flat_simple</td><td>██▇▇████▆▆▇▇▇▄▄▅▄▄▄▄▃▇▇▃▃▃▁▁▅▄▄▁▃▃▁▁▂▃▃▅</td></tr><tr><td>loss_1</td><td>██▇▇▇▇▆▆▇▆▅▆▅▆▅▃▄▄▄▂▂▃▃▃▁▂▂▂▂▁▂▁▂▁▁▁▂▂▁▁</td></tr><tr><td>loss_val</td><td>▄▄▃▃▁▁▁▁▁▁▁▁▂▂▂▃▄▄▅▅▅▆▆▆▇▇▇▇▇▇▇█████████</td></tr><tr><td>multibet outlay < 30</td><td>▂▂▁▁▁▁▁▁▂▂▂▂▃▄▄▅▆▆▆▆▆▇▇▇▇▇▇▇████████████</td></tr><tr><td>multibet profit</td><td>▄▄▆▆▆▆▆▆▆▆▇▇███▆▇▇▃▃▅▄▄▃▃▃▂▂▄▃▃▂▂▂▁▁▂▃▃▄</td></tr><tr><td>multibet profit < 30</td><td>▅▅▅▅▆▅▅▆▆▆▇▇███▇▇▇▄▄▅▆▆▄▃▃▃▃▃▃▃▂▂▂▁▁▂▄▄▄</td></tr><tr><td>multibet profit < 30 sd</td><td>▂▂▂▂▁▁▁▁▁▁▂▂▃▄▄▅▅▅▆▆▇▇▇▇▇▇▇▇▇▇▇▇▇▇▇▇▇███</td></tr><tr><td>profit_relu</td><td>▅▅▅▅▅▅▅▅▆▆▇▇███▆▇▇▃▃▅▄▄▂▃▃▂▂▄▃▃▂▂▂▁▁▂▃▃▅</td></tr><tr><td>relu roi</td><td>▄▄▅▅▆▅▅▆▆▆█████▅▆▆▂▂▄▃▃▂▃▃▂▂▃▃▃▂▂▂▁▁▂▃▃▄</td></tr></table><br/></div><div class=\"wandb-col\"><h3>Run summary:</h3><br/><table class=\"wandb\"><tr><td>ROI < 30 2</td><td>-0.03111</td></tr><tr><td>accuracy2</td><td>0.27307</td></tr><tr><td>epoch</td><td>499</td></tr><tr><td>flat_simple</td><td>-85.39201</td></tr><tr><td>loss_1</td><td>0.43168</td></tr><tr><td>multibet outlay < 30</td><td>146175.55825</td></tr><tr><td>multibet profit</td><td>-1668.7625</td></tr><tr><td>multibet profit < 30</td><td>-3879.67772</td></tr><tr><td>multibet profit < 30 sd</td><td>42.1158</td></tr><tr><td>profit_relu</td><td>63.95395</td></tr></table><br/></div></div>"
      ],
      "text/plain": [
       "<IPython.core.display.HTML object>"
      ]
     },
     "metadata": {},
     "output_type": "display_data"
    },
    {
     "data": {
      "text/html": [
       " View run <strong style=\"color:#cdcd00\">drawn-sweep-5</strong> at: <a href='https://wandb.ai/nickojelly/NEW%20GRU-sweeps/runs/qvv7lt9m' target=\"_blank\">https://wandb.ai/nickojelly/NEW%20GRU-sweeps/runs/qvv7lt9m</a><br/>Synced 6 W&B file(s), 75 media file(s), 75 artifact file(s) and 1 other file(s)"
      ],
      "text/plain": [
       "<IPython.core.display.HTML object>"
      ]
     },
     "metadata": {},
     "output_type": "display_data"
    },
    {
     "data": {
      "text/html": [
       "Find logs at: <code>.\\wandb\\run-20230614_151645-qvv7lt9m\\logs</code>"
      ],
      "text/plain": [
       "<IPython.core.display.HTML object>"
      ]
     },
     "metadata": {},
     "output_type": "display_data"
    },
    {
     "name": "stderr",
     "output_type": "stream",
     "text": [
      "\u001b[34m\u001b[1mwandb\u001b[0m: Agent Starting Run: qfkniey3 with config:\n",
      "\u001b[34m\u001b[1mwandb\u001b[0m: \tbatch_days: 180\n",
      "\u001b[34m\u001b[1mwandb\u001b[0m: \tbatch_size: 10\n",
      "\u001b[34m\u001b[1mwandb\u001b[0m: \tdropout: 0.3\n",
      "\u001b[34m\u001b[1mwandb\u001b[0m: \tepochs: 500\n",
      "\u001b[34m\u001b[1mwandb\u001b[0m: \tf0_layer_size: 128\n",
      "\u001b[34m\u001b[1mwandb\u001b[0m: \tf1_layer_size: 64\n",
      "\u001b[34m\u001b[1mwandb\u001b[0m: \thidden_size: 128\n",
      "\u001b[34m\u001b[1mwandb\u001b[0m: \tinput_type: basic\n",
      "\u001b[34m\u001b[1mwandb\u001b[0m: \tlabel_smoothing: 0.01\n",
      "\u001b[34m\u001b[1mwandb\u001b[0m: \tlearning_rate: 0.0001\n",
      "\u001b[34m\u001b[1mwandb\u001b[0m: \tlen_data: 17498\n",
      "\u001b[34m\u001b[1mwandb\u001b[0m: \tloss: CEL\n",
      "\u001b[34m\u001b[1mwandb\u001b[0m: \tnum_layers: 2\n",
      "\u001b[34m\u001b[1mwandb\u001b[0m: \toptimizer: adamW\n",
      "\u001b[34m\u001b[1mwandb\u001b[0m: \traces: ['NZ']\n",
      "\u001b[34m\u001b[1mwandb\u001b[0m: \tstats: [['dist_last__1', 'box_last__1', 'speed_avg_1', 'split_speed_v1_1', 'split_speed_avg_1', 'split_margin_avg_1', 'margin_avg_1', 'RunHomeTime_1', 'run_home_speed_1', 'run_home_speed_v1_1', 'first_out_avg_1', 'pos_out_avg_1', 'post_change_avg_1', 'races_1', 'wins_1', 'wins_last_1', 'weight_', 'min_time_', 'min_split_time_', 'min_split_time_v1', 'last_start_price', 'last_start_prob']]\n",
      "\u001b[34m\u001b[1mwandb\u001b[0m: \tvalidation_split: 0.1\n",
      "Failed to detect the name of this notebook, you can set it manually with the WANDB_NOTEBOOK_NAME environment variable to enable code saving.\n",
      "\u001b[34m\u001b[1mwandb\u001b[0m: \u001b[33mWARNING\u001b[0m Ignored wandb.init() arg project when running a sweep.\n"
     ]
    },
    {
     "data": {
      "text/html": [
       "wandb version 0.15.4 is available!  To upgrade, please run:\n",
       " $ pip install wandb --upgrade"
      ],
      "text/plain": [
       "<IPython.core.display.HTML object>"
      ]
     },
     "metadata": {},
     "output_type": "display_data"
    },
    {
     "data": {
      "text/html": [
       "Tracking run with wandb version 0.15.0"
      ],
      "text/plain": [
       "<IPython.core.display.HTML object>"
      ]
     },
     "metadata": {},
     "output_type": "display_data"
    },
    {
     "data": {
      "text/html": [
       "Run data is saved locally in <code>C:\\Users\\Nick\\Documents\\GitHub\\grvmodel\\Python\\DATA\\wandb\\run-20230614_161513-qfkniey3</code>"
      ],
      "text/plain": [
       "<IPython.core.display.HTML object>"
      ]
     },
     "metadata": {},
     "output_type": "display_data"
    },
    {
     "data": {
      "text/html": [
       "Syncing run <strong><a href='https://wandb.ai/nickojelly/NEW%20GRU-sweeps/runs/qfkniey3' target=\"_blank\">solar-sweep-6</a></strong> to <a href='https://wandb.ai/nickojelly/NEW%20GRU-sweeps' target=\"_blank\">Weights & Biases</a> (<a href='https://wandb.me/run' target=\"_blank\">docs</a>)<br/>Sweep page: <a href='https://wandb.ai/nickojelly/NEW%20GRU-sweeps/sweeps/9vayinwt' target=\"_blank\">https://wandb.ai/nickojelly/NEW%20GRU-sweeps/sweeps/9vayinwt</a>"
      ],
      "text/plain": [
       "<IPython.core.display.HTML object>"
      ]
     },
     "metadata": {},
     "output_type": "display_data"
    },
    {
     "data": {
      "text/html": [
       " View project at <a href='https://wandb.ai/nickojelly/NEW%20GRU-sweeps' target=\"_blank\">https://wandb.ai/nickojelly/NEW%20GRU-sweeps</a>"
      ],
      "text/plain": [
       "<IPython.core.display.HTML object>"
      ]
     },
     "metadata": {},
     "output_type": "display_data"
    },
    {
     "data": {
      "text/html": [
       " View sweep at <a href='https://wandb.ai/nickojelly/NEW%20GRU-sweeps/sweeps/9vayinwt' target=\"_blank\">https://wandb.ai/nickojelly/NEW%20GRU-sweeps/sweeps/9vayinwt</a>"
      ],
      "text/plain": [
       "<IPython.core.display.HTML object>"
      ]
     },
     "metadata": {},
     "output_type": "display_data"
    },
    {
     "data": {
      "text/html": [
       " View run at <a href='https://wandb.ai/nickojelly/NEW%20GRU-sweeps/runs/qfkniey3' target=\"_blank\">https://wandb.ai/nickojelly/NEW%20GRU-sweeps/runs/qfkniey3</a>"
      ],
      "text/plain": [
       "<IPython.core.display.HTML object>"
      ]
     },
     "metadata": {},
     "output_type": "display_data"
    },
    {
     "name": "stdout",
     "output_type": "stream",
     "text": [
      "{'batch_days': 180, 'batch_size': 10, 'dropout': 0.3, 'epochs': 500, 'f0_layer_size': 128, 'f1_layer_size': 64, 'hidden_size': 128, 'input_type': 'basic', 'label_smoothing': 0.01, 'learning_rate': 0.0001, 'len_data': 17498, 'loss': 'CEL', 'num_layers': 2, 'optimizer': 'adamW', 'races': ['NZ'], 'stats': \"[['dist_last__1', 'box_last__1', 'speed_avg_1', 'split_speed_v1_1', 'split_speed_avg_1', 'split_margin_avg_1', 'margin_avg_1', 'RunHomeTime_1', 'run_home_speed_1', 'run_home_speed_v1_1', 'first_out_avg_1', 'pos_out_avg_1', 'post_change_avg_1', 'races_1', 'wins_1', 'wins_last_1', 'weight_', 'min_time_', 'min_split_time_', 'min_split_time_v1', 'last_start_price', 'last_start_prob']]\", 'validation_split': 0.1}\n",
      "500\n",
      "{'batch_days': 180, 'batch_size': 10, 'dropout': 0.3, 'epochs': 500, 'f0_layer_size': 128, 'f1_layer_size': 64, 'hidden_size': 128, 'input_type': 'basic', 'label_smoothing': 0.01, 'learning_rate': 0.0001, 'len_data': 17498, 'loss': 'CEL', 'num_layers': 2, 'optimizer': 'adamW', 'races': ['NZ'], 'stats': \"[['dist_last__1', 'box_last__1', 'speed_avg_1', 'split_speed_v1_1', 'split_speed_avg_1', 'split_margin_avg_1', 'margin_avg_1', 'RunHomeTime_1', 'run_home_speed_1', 'run_home_speed_v1_1', 'first_out_avg_1', 'pos_out_avg_1', 'post_change_avg_1', 'races_1', 'wins_1', 'wins_last_1', 'weight_', 'min_time_', 'min_split_time_', 'min_split_time_v1', 'last_start_price', 'last_start_prob']]\", 'validation_split': 0.1}\n",
      "basic\n",
      "[(datetime.date(2019, 12, 1), datetime.date(2020, 5, 29)), (datetime.date(2020, 5, 29), datetime.date(2020, 11, 25)), (datetime.date(2020, 11, 25), datetime.date(2021, 5, 24)), (datetime.date(2021, 5, 24), datetime.date(2021, 11, 20)), (datetime.date(2021, 11, 20), datetime.date(2022, 5, 19)), (datetime.date(2022, 5, 19), datetime.date(2022, 7, 31))]\n",
      "2020-05-29\n",
      "2020-11-25\n",
      "2021-05-24\n",
      "2021-11-20\n",
      "2022-05-19\n",
      "2022-07-31\n",
      "Train examples [2201, 2826, 2680, 2396, 2444, 1001]\n"
     ]
    },
    {
     "name": "stderr",
     "output_type": "stream",
     "text": [
      "100%|██████████| 3619/3619 [00:00<00:00, 3805.46it/s]\n",
      "100%|██████████| 3619/3619 [00:01<00:00, 3086.79it/s]\n",
      "100%|██████████| 3619/3619 [00:01<00:00, 3365.77it/s]\n",
      "100%|██████████| 3619/3619 [00:00<00:00, 3685.36it/s]\n",
      "100%|██████████| 3619/3619 [00:00<00:00, 3626.04it/s]\n",
      "100%|██████████| 3619/3619 [00:00<00:00, 9107.59it/s]\n",
      "100%|██████████| 6/6 [00:05<00:00,  1.07it/s]\n"
     ]
    },
    {
     "name": "stdout",
     "output_type": "stream",
     "text": [
      "Train examples [1557, 1594, 1489, 1492, 1400, 1112]\n",
      "Train examples [1557, 1594, 1489, 1492, 1400, 1112]\n",
      "Train examples [2201, 2826, 2680, 2396, 2444, 1001]\n",
      "Train examples [2201, 2826, 2680, 2396, 2444, 1001]\n",
      "here\n",
      "input_size=28\n",
      "GRUNetv3_BN(\n",
      "  (gru): GRU(28, 128, num_layers=2, dropout=0.3)\n",
      "  (relu0): ReLU()\n",
      "  (fc0): Linear(in_features=1094, out_features=1094, bias=True)\n",
      "  (layer_norm): BatchNorm1d(28, eps=1e-05, momentum=0.1, affine=True, track_running_stats=True)\n",
      "  (rl1): ReLU()\n",
      "  (drop1): Dropout(p=0.3, inplace=False)\n",
      "  (fc1): Linear(in_features=1094, out_features=128, bias=True)\n",
      "  (rl2): ReLU()\n",
      "  (drop2): Dropout(p=0.3, inplace=False)\n",
      "  (fc2): Linear(in_features=128, out_features=64, bias=True)\n",
      "  (rl3): ReLU()\n",
      "  (drop3): Dropout(p=0.3, inplace=False)\n",
      "  (fc3): Linear(in_features=64, out_features=8, bias=True)\n",
      "  (output_fn): Identity()\n",
      ")\n"
     ]
    },
    {
     "name": "stderr",
     "output_type": "stream",
     "text": [
      "  0%|          | 0/500 [00:00<?, ?it/s]"
     ]
    },
    {
     "name": "stdout",
     "output_type": "stream",
     "text": [
      "created path\n"
     ]
    },
    {
     "name": "stderr",
     "output_type": "stream",
     "text": [
      "100%|██████████| 500/500 [58:23<00:00,  7.01s/it] \n"
     ]
    },
    {
     "data": {
      "text/html": [
       "Waiting for W&B process to finish... <strong style=\"color:green\">(success).</strong>"
      ],
      "text/plain": [
       "<IPython.core.display.HTML object>"
      ]
     },
     "metadata": {},
     "output_type": "display_data"
    },
    {
     "data": {
      "text/html": [
       "<style>\n",
       "    table.wandb td:nth-child(1) { padding: 0 10px; text-align: left ; width: auto;} td:nth-child(2) {text-align: left ; width: 100%}\n",
       "    .wandb-row { display: flex; flex-direction: row; flex-wrap: wrap; justify-content: flex-start; width: 100% }\n",
       "    .wandb-col { display: flex; flex-direction: column; flex-basis: 100%; flex: 1; padding: 10px; }\n",
       "    </style>\n",
       "<div class=\"wandb-row\"><div class=\"wandb-col\"><h3>Run history:</h3><br/><table class=\"wandb\"><tr><td>ROI < 30</td><td>▁▁▂▂▂▃▃▇▆▆▇▇▇▇▇▇▇▇▇▇▇▇▇▇▇▇▇▇█▇▇█▇▇▇▇▇▇▇▇</td></tr><tr><td>ROI < 30 2</td><td>▁▁▂▂▂▅▅█▇▇▇▇▇▆▆▆▆▆▆▆▆▆▆▆▆▆▆▆▆▆▆▆▆▆▇▇▇▇▇▇</td></tr><tr><td>accuracy</td><td>▁▁▁▁▅▇▇████████████████▇▇▇▇▇▇▇▇▇▇▇▇▇▇▆▆▆</td></tr><tr><td>accuracy2</td><td>▁▁▅▇██████████▇▇▇▇▇▇▇▇▇▆▆</td></tr><tr><td>epoch</td><td>▁▁▁▂▂▂▂▂▂▃▃▃▃▃▃▄▄▄▄▄▅▅▅▅▅▅▆▆▆▆▆▇▇▇▇▇▇███</td></tr><tr><td>flat_simple</td><td>▃▃▃▃▁▂▂▆▅▅▅▅▄▄▄▅▃▃▃▃▃▃▃▃▃▃▁▁▃▃▃▄▃▃▅▅▃▅▅█</td></tr><tr><td>loss_1</td><td>███▇▇▇▆▇▇▇▆▆▆▆▆▆▆▆▆▅▅▆▆▆▄▅▅▆▆▄▅▅▅▃▂▄▅▅▁▁</td></tr><tr><td>loss_val</td><td>██▇▇▆▄▄▂▂▂▁▁▁▁▁▁▁▁▁▁▁▁▁▁▁▁▁▁▁▂▂▂▂▂▃▃▃▃▃▄</td></tr><tr><td>multibet outlay < 30</td><td>▃▃▂▂▂▁▁▁▁▁▁▁▁▁▁▁▂▂▂▂▂▂▂▃▃▃▃▃▄▄▄▅▅▅▆▆▆▇▇█</td></tr><tr><td>multibet profit</td><td>▃▃▁▁▁▂▂▅▅▅▅▅▄▄▄▄▅▅▄▄▄▄▄▄▄▄▅▅▅▅▅▆▅▅▇▇▇███</td></tr><tr><td>multibet profit < 30</td><td>▁▁▂▂▂▃▃▆▆▆▆▆▆▆▆▇▇▇▇▇▆▇▇▇▇▇▇▇█▇▇█▇▇██████</td></tr><tr><td>multibet profit < 30 sd</td><td>▃▃▃▃▂▁▁▁▁▁▁▁▁▁▁▁▁▁▂▂▂▂▂▃▃▃▃▃▄▄▄▅▅▅▆▆▆▇▇█</td></tr><tr><td>profit_relu</td><td>▃▃▁▁▁▁▁▃▃▃▃▃▃▄▄▄▄▄▄▄▄▄▄▄▄▄▅▅▅▅▅▆▅▅▇▇▇███</td></tr><tr><td>relu roi</td><td>▅▅▁▁▁▂▂▆▆▆▆▆▆▆▆▆▇▇▆▆▆▆▆▆▆▆▇▇▇▆▆▇▆▆██████</td></tr></table><br/></div><div class=\"wandb-col\"><h3>Run summary:</h3><br/><table class=\"wandb\"><tr><td>ROI < 30 2</td><td>0.04252</td></tr><tr><td>accuracy2</td><td>0.33003</td></tr><tr><td>epoch</td><td>499</td></tr><tr><td>flat_simple</td><td>298.77481</td></tr><tr><td>loss_1</td><td>0.85507</td></tr><tr><td>multibet outlay < 30</td><td>86525.05772</td></tr><tr><td>multibet profit</td><td>9439.52996</td></tr><tr><td>multibet profit < 30</td><td>2664.58072</td></tr><tr><td>multibet profit < 30 sd</td><td>23.25485</td></tr><tr><td>profit_relu</td><td>5000.99272</td></tr></table><br/></div></div>"
      ],
      "text/plain": [
       "<IPython.core.display.HTML object>"
      ]
     },
     "metadata": {},
     "output_type": "display_data"
    },
    {
     "data": {
      "text/html": [
       " View run <strong style=\"color:#cdcd00\">solar-sweep-6</strong> at: <a href='https://wandb.ai/nickojelly/NEW%20GRU-sweeps/runs/qfkniey3' target=\"_blank\">https://wandb.ai/nickojelly/NEW%20GRU-sweeps/runs/qfkniey3</a><br/>Synced 6 W&B file(s), 75 media file(s), 75 artifact file(s) and 1 other file(s)"
      ],
      "text/plain": [
       "<IPython.core.display.HTML object>"
      ]
     },
     "metadata": {},
     "output_type": "display_data"
    },
    {
     "data": {
      "text/html": [
       "Find logs at: <code>.\\wandb\\run-20230614_161513-qfkniey3\\logs</code>"
      ],
      "text/plain": [
       "<IPython.core.display.HTML object>"
      ]
     },
     "metadata": {},
     "output_type": "display_data"
    },
    {
     "name": "stderr",
     "output_type": "stream",
     "text": [
      "\u001b[34m\u001b[1mwandb\u001b[0m: Agent Starting Run: 22g6gt1j with config:\n",
      "\u001b[34m\u001b[1mwandb\u001b[0m: \tbatch_days: 180\n",
      "\u001b[34m\u001b[1mwandb\u001b[0m: \tbatch_size: 10\n",
      "\u001b[34m\u001b[1mwandb\u001b[0m: \tdropout: 0.3\n",
      "\u001b[34m\u001b[1mwandb\u001b[0m: \tepochs: 500\n",
      "\u001b[34m\u001b[1mwandb\u001b[0m: \tf0_layer_size: 128\n",
      "\u001b[34m\u001b[1mwandb\u001b[0m: \tf1_layer_size: 64\n",
      "\u001b[34m\u001b[1mwandb\u001b[0m: \thidden_size: 128\n",
      "\u001b[34m\u001b[1mwandb\u001b[0m: \tinput_type: basic\n",
      "\u001b[34m\u001b[1mwandb\u001b[0m: \tlabel_smoothing: 0\n",
      "\u001b[34m\u001b[1mwandb\u001b[0m: \tlearning_rate: 0.0003\n",
      "\u001b[34m\u001b[1mwandb\u001b[0m: \tlen_data: 17498\n",
      "\u001b[34m\u001b[1mwandb\u001b[0m: \tloss: CEL\n",
      "\u001b[34m\u001b[1mwandb\u001b[0m: \tnum_layers: 2\n",
      "\u001b[34m\u001b[1mwandb\u001b[0m: \toptimizer: adamW\n",
      "\u001b[34m\u001b[1mwandb\u001b[0m: \traces: ['NZ']\n",
      "\u001b[34m\u001b[1mwandb\u001b[0m: \tstats: [['dist_last__1', 'box_last__1', 'speed_avg_1', 'split_speed_v1_1', 'split_speed_avg_1', 'split_margin_avg_1', 'margin_avg_1', 'RunHomeTime_1', 'run_home_speed_1', 'run_home_speed_v1_1', 'first_out_avg_1', 'pos_out_avg_1', 'post_change_avg_1', 'races_1', 'wins_1', 'wins_last_1', 'weight_', 'min_time_', 'min_split_time_', 'min_split_time_v1', 'last_start_price', 'last_start_prob']]\n",
      "\u001b[34m\u001b[1mwandb\u001b[0m: \tvalidation_split: 0.1\n",
      "Failed to detect the name of this notebook, you can set it manually with the WANDB_NOTEBOOK_NAME environment variable to enable code saving.\n",
      "\u001b[34m\u001b[1mwandb\u001b[0m: \u001b[33mWARNING\u001b[0m Ignored wandb.init() arg project when running a sweep.\n"
     ]
    },
    {
     "data": {
      "text/html": [
       "wandb version 0.15.4 is available!  To upgrade, please run:\n",
       " $ pip install wandb --upgrade"
      ],
      "text/plain": [
       "<IPython.core.display.HTML object>"
      ]
     },
     "metadata": {},
     "output_type": "display_data"
    },
    {
     "data": {
      "text/html": [
       "Tracking run with wandb version 0.15.0"
      ],
      "text/plain": [
       "<IPython.core.display.HTML object>"
      ]
     },
     "metadata": {},
     "output_type": "display_data"
    },
    {
     "data": {
      "text/html": [
       "Run data is saved locally in <code>C:\\Users\\Nick\\Documents\\GitHub\\grvmodel\\Python\\DATA\\wandb\\run-20230614_171359-22g6gt1j</code>"
      ],
      "text/plain": [
       "<IPython.core.display.HTML object>"
      ]
     },
     "metadata": {},
     "output_type": "display_data"
    },
    {
     "data": {
      "text/html": [
       "Syncing run <strong><a href='https://wandb.ai/nickojelly/NEW%20GRU-sweeps/runs/22g6gt1j' target=\"_blank\">confused-sweep-7</a></strong> to <a href='https://wandb.ai/nickojelly/NEW%20GRU-sweeps' target=\"_blank\">Weights & Biases</a> (<a href='https://wandb.me/run' target=\"_blank\">docs</a>)<br/>Sweep page: <a href='https://wandb.ai/nickojelly/NEW%20GRU-sweeps/sweeps/9vayinwt' target=\"_blank\">https://wandb.ai/nickojelly/NEW%20GRU-sweeps/sweeps/9vayinwt</a>"
      ],
      "text/plain": [
       "<IPython.core.display.HTML object>"
      ]
     },
     "metadata": {},
     "output_type": "display_data"
    },
    {
     "data": {
      "text/html": [
       " View project at <a href='https://wandb.ai/nickojelly/NEW%20GRU-sweeps' target=\"_blank\">https://wandb.ai/nickojelly/NEW%20GRU-sweeps</a>"
      ],
      "text/plain": [
       "<IPython.core.display.HTML object>"
      ]
     },
     "metadata": {},
     "output_type": "display_data"
    },
    {
     "data": {
      "text/html": [
       " View sweep at <a href='https://wandb.ai/nickojelly/NEW%20GRU-sweeps/sweeps/9vayinwt' target=\"_blank\">https://wandb.ai/nickojelly/NEW%20GRU-sweeps/sweeps/9vayinwt</a>"
      ],
      "text/plain": [
       "<IPython.core.display.HTML object>"
      ]
     },
     "metadata": {},
     "output_type": "display_data"
    },
    {
     "data": {
      "text/html": [
       " View run at <a href='https://wandb.ai/nickojelly/NEW%20GRU-sweeps/runs/22g6gt1j' target=\"_blank\">https://wandb.ai/nickojelly/NEW%20GRU-sweeps/runs/22g6gt1j</a>"
      ],
      "text/plain": [
       "<IPython.core.display.HTML object>"
      ]
     },
     "metadata": {},
     "output_type": "display_data"
    },
    {
     "name": "stdout",
     "output_type": "stream",
     "text": [
      "{'batch_days': 180, 'batch_size': 10, 'dropout': 0.3, 'epochs': 500, 'f0_layer_size': 128, 'f1_layer_size': 64, 'hidden_size': 128, 'input_type': 'basic', 'label_smoothing': 0, 'learning_rate': 0.0003, 'len_data': 17498, 'loss': 'CEL', 'num_layers': 2, 'optimizer': 'adamW', 'races': ['NZ'], 'stats': \"[['dist_last__1', 'box_last__1', 'speed_avg_1', 'split_speed_v1_1', 'split_speed_avg_1', 'split_margin_avg_1', 'margin_avg_1', 'RunHomeTime_1', 'run_home_speed_1', 'run_home_speed_v1_1', 'first_out_avg_1', 'pos_out_avg_1', 'post_change_avg_1', 'races_1', 'wins_1', 'wins_last_1', 'weight_', 'min_time_', 'min_split_time_', 'min_split_time_v1', 'last_start_price', 'last_start_prob']]\", 'validation_split': 0.1}\n",
      "500\n",
      "{'batch_days': 180, 'batch_size': 10, 'dropout': 0.3, 'epochs': 500, 'f0_layer_size': 128, 'f1_layer_size': 64, 'hidden_size': 128, 'input_type': 'basic', 'label_smoothing': 0, 'learning_rate': 0.0003, 'len_data': 17498, 'loss': 'CEL', 'num_layers': 2, 'optimizer': 'adamW', 'races': ['NZ'], 'stats': \"[['dist_last__1', 'box_last__1', 'speed_avg_1', 'split_speed_v1_1', 'split_speed_avg_1', 'split_margin_avg_1', 'margin_avg_1', 'RunHomeTime_1', 'run_home_speed_1', 'run_home_speed_v1_1', 'first_out_avg_1', 'pos_out_avg_1', 'post_change_avg_1', 'races_1', 'wins_1', 'wins_last_1', 'weight_', 'min_time_', 'min_split_time_', 'min_split_time_v1', 'last_start_price', 'last_start_prob']]\", 'validation_split': 0.1}\n",
      "basic\n",
      "[(datetime.date(2019, 12, 1), datetime.date(2020, 5, 29)), (datetime.date(2020, 5, 29), datetime.date(2020, 11, 25)), (datetime.date(2020, 11, 25), datetime.date(2021, 5, 24)), (datetime.date(2021, 5, 24), datetime.date(2021, 11, 20)), (datetime.date(2021, 11, 20), datetime.date(2022, 5, 19)), (datetime.date(2022, 5, 19), datetime.date(2022, 7, 31))]\n",
      "2020-05-29\n",
      "2020-11-25\n",
      "2021-05-24\n",
      "2021-11-20\n",
      "2022-05-19\n",
      "2022-07-31\n",
      "Train examples [2201, 2826, 2680, 2396, 2444, 1001]\n"
     ]
    },
    {
     "name": "stderr",
     "output_type": "stream",
     "text": [
      "100%|██████████| 3619/3619 [00:00<00:00, 3738.65it/s]\n",
      "100%|██████████| 3619/3619 [00:01<00:00, 3132.93it/s]\n",
      "100%|██████████| 3619/3619 [00:01<00:00, 3295.44it/s]\n",
      "100%|██████████| 3619/3619 [00:00<00:00, 3813.22it/s]\n",
      "100%|██████████| 3619/3619 [00:00<00:00, 3644.35it/s]\n",
      "100%|██████████| 3619/3619 [00:00<00:00, 8948.54it/s]\n",
      "100%|██████████| 6/6 [00:05<00:00,  1.07it/s]\n"
     ]
    },
    {
     "name": "stdout",
     "output_type": "stream",
     "text": [
      "Train examples [1557, 1594, 1489, 1492, 1400, 1112]\n",
      "Train examples [1557, 1594, 1489, 1492, 1400, 1112]\n",
      "Train examples [2201, 2826, 2680, 2396, 2444, 1001]\n",
      "Train examples [2201, 2826, 2680, 2396, 2444, 1001]\n",
      "here\n",
      "input_size=28\n",
      "GRUNetv3_BN(\n",
      "  (gru): GRU(28, 128, num_layers=2, dropout=0.3)\n",
      "  (relu0): ReLU()\n",
      "  (fc0): Linear(in_features=1094, out_features=1094, bias=True)\n",
      "  (layer_norm): BatchNorm1d(28, eps=1e-05, momentum=0.1, affine=True, track_running_stats=True)\n",
      "  (rl1): ReLU()\n",
      "  (drop1): Dropout(p=0.3, inplace=False)\n",
      "  (fc1): Linear(in_features=1094, out_features=128, bias=True)\n",
      "  (rl2): ReLU()\n",
      "  (drop2): Dropout(p=0.3, inplace=False)\n",
      "  (fc2): Linear(in_features=128, out_features=64, bias=True)\n",
      "  (rl3): ReLU()\n",
      "  (drop3): Dropout(p=0.3, inplace=False)\n",
      "  (fc3): Linear(in_features=64, out_features=8, bias=True)\n",
      "  (output_fn): Identity()\n",
      ")\n"
     ]
    },
    {
     "name": "stderr",
     "output_type": "stream",
     "text": [
      "  0%|          | 0/500 [00:00<?, ?it/s]"
     ]
    },
    {
     "name": "stdout",
     "output_type": "stream",
     "text": [
      "created path\n"
     ]
    },
    {
     "name": "stderr",
     "output_type": "stream",
     "text": [
      "100%|██████████| 500/500 [58:09<00:00,  6.98s/it] \n"
     ]
    },
    {
     "data": {
      "text/html": [
       "Waiting for W&B process to finish... <strong style=\"color:green\">(success).</strong>"
      ],
      "text/plain": [
       "<IPython.core.display.HTML object>"
      ]
     },
     "metadata": {},
     "output_type": "display_data"
    },
    {
     "data": {
      "application/vnd.jupyter.widget-view+json": {
       "model_id": "1de636ecbe934fdba6c9e12ed7eb623d",
       "version_major": 2,
       "version_minor": 0
      },
      "text/plain": [
       "VBox(children=(Label(value='59.743 MB of 59.743 MB uploaded (0.000 MB deduped)\\r'), FloatProgress(value=1.0, m…"
      ]
     },
     "metadata": {},
     "output_type": "display_data"
    },
    {
     "data": {
      "text/html": [
       "<style>\n",
       "    table.wandb td:nth-child(1) { padding: 0 10px; text-align: left ; width: auto;} td:nth-child(2) {text-align: left ; width: 100%}\n",
       "    .wandb-row { display: flex; flex-direction: row; flex-wrap: wrap; justify-content: flex-start; width: 100% }\n",
       "    .wandb-col { display: flex; flex-direction: column; flex-basis: 100%; flex: 1; padding: 10px; }\n",
       "    </style>\n",
       "<div class=\"wandb-row\"><div class=\"wandb-col\"><h3>Run history:</h3><br/><table class=\"wandb\"><tr><td>ROI < 30</td><td>▁▁▁▁▃▄▄▅▅▅▆▆▇▇▇▇▆▆▆▆▆▅▅▆▆▆▇▇▆██▇▇▇▇▇▇▄▄▆</td></tr><tr><td>ROI < 30 2</td><td>▁▁▁▁▇██▆▆▆▆▆█▇▇█▆▆▆▆▆▆▆▇▆▆▇▇▆▇▇▅▆▆▅▅▆▂▂▅</td></tr><tr><td>accuracy</td><td>▁▁▇▇██████▇▇▇▇▇▇▆▆▆▆▆▆▆▆▆▆▆▆▆▆▆▆▆▆▆▆▆▆▆▆</td></tr><tr><td>accuracy2</td><td>▁▇████▇▇▇▇▆▆▆▆▆▆▆▆▆▆▆▆▆▆▆</td></tr><tr><td>epoch</td><td>▁▁▁▂▂▂▂▂▂▃▃▃▃▃▃▄▄▄▄▄▅▅▅▅▅▅▆▆▆▆▆▇▇▇▇▇▇███</td></tr><tr><td>flat_simple</td><td>▁▁▄▄▅▄▄▄▃▃▄▄▇▆▆█▆▆██▆▅▅▇▄▄▅▅▄▆▆▅▄▄▄▄▃▂▂▄</td></tr><tr><td>loss_1</td><td>██▇▇▇▆▆▆▇▆▅▆▅▆▅▃▄▃▄▂▂▃▃▃▁▂▂▂▂▁▂▁▂▁▁▁▂▂▁▁</td></tr><tr><td>loss_val</td><td>▄▄▂▂▁▁▁▁▁▁▁▁▂▂▂▃▃▃▄▄▅▆▆▆▆▆▇▇▇▇▇▇▇▇▇▇▇███</td></tr><tr><td>multibet outlay < 30</td><td>▂▂▁▁▁▁▁▁▂▂▂▂▃▄▄▄▅▅▆▆▆▇▇▇▇▇▇▇▇███████████</td></tr><tr><td>multibet profit</td><td>▁▁▄▄▄▄▄▄▄▄▅▅▇▇▇▇▇▇▇▇▅▅▅▅▄▄▇▇▆██▆▄▄▄▄▆▁▁▅</td></tr><tr><td>multibet profit < 30</td><td>▁▁▁▁▂▂▂▃▃▃▃▃▄▄▄▅▄▄▅▅▅▄▄▅▆▆▇▇▆██▆▇▇▆▆▇▃▃▆</td></tr><tr><td>multibet profit < 30 sd</td><td>▂▂▁▁▁▁▁▁▁▁▂▂▃▃▃▄▅▅▆▆▆▇▇▇▇▇▇▇▇███████████</td></tr><tr><td>profit_relu</td><td>▁▁▁▁▂▂▂▃▂▂▃▃▅▅▅▆▆▆▇▇▆▆▆▆▅▅▇▇▆██▆▅▅▅▅▆▃▃▆</td></tr><tr><td>relu roi</td><td>▁▁▂▂▄▅▅▅▅▅▆▆█▇▇▆▆▆▇▇▅▅▅▅▅▅▆▆▅▇▇▆▅▅▅▅▆▃▃▅</td></tr></table><br/></div><div class=\"wandb-col\"><h3>Run summary:</h3><br/><table class=\"wandb\"><tr><td>ROI < 30 2</td><td>0.02212</td></tr><tr><td>accuracy2</td><td>0.28324</td></tr><tr><td>epoch</td><td>499</td></tr><tr><td>flat_simple</td><td>-12.52819</td></tr><tr><td>loss_1</td><td>0.3942</td></tr><tr><td>multibet outlay < 30</td><td>151698.86162</td></tr><tr><td>multibet profit</td><td>6581.15266</td></tr><tr><td>multibet profit < 30</td><td>5525.01278</td></tr><tr><td>multibet profit < 30 sd</td><td>45.47518</td></tr><tr><td>profit_relu</td><td>5850.18539</td></tr></table><br/></div></div>"
      ],
      "text/plain": [
       "<IPython.core.display.HTML object>"
      ]
     },
     "metadata": {},
     "output_type": "display_data"
    },
    {
     "data": {
      "text/html": [
       " View run <strong style=\"color:#cdcd00\">confused-sweep-7</strong> at: <a href='https://wandb.ai/nickojelly/NEW%20GRU-sweeps/runs/22g6gt1j' target=\"_blank\">https://wandb.ai/nickojelly/NEW%20GRU-sweeps/runs/22g6gt1j</a><br/>Synced 6 W&B file(s), 75 media file(s), 75 artifact file(s) and 1 other file(s)"
      ],
      "text/plain": [
       "<IPython.core.display.HTML object>"
      ]
     },
     "metadata": {},
     "output_type": "display_data"
    },
    {
     "data": {
      "text/html": [
       "Find logs at: <code>.\\wandb\\run-20230614_171359-22g6gt1j\\logs</code>"
      ],
      "text/plain": [
       "<IPython.core.display.HTML object>"
      ]
     },
     "metadata": {},
     "output_type": "display_data"
    },
    {
     "name": "stderr",
     "output_type": "stream",
     "text": [
      "\u001b[34m\u001b[1mwandb\u001b[0m: Agent Starting Run: a4w67vld with config:\n",
      "\u001b[34m\u001b[1mwandb\u001b[0m: \tbatch_days: 180\n",
      "\u001b[34m\u001b[1mwandb\u001b[0m: \tbatch_size: 10\n",
      "\u001b[34m\u001b[1mwandb\u001b[0m: \tdropout: 0.3\n",
      "\u001b[34m\u001b[1mwandb\u001b[0m: \tepochs: 500\n",
      "\u001b[34m\u001b[1mwandb\u001b[0m: \tf0_layer_size: 128\n",
      "\u001b[34m\u001b[1mwandb\u001b[0m: \tf1_layer_size: 64\n",
      "\u001b[34m\u001b[1mwandb\u001b[0m: \thidden_size: 128\n",
      "\u001b[34m\u001b[1mwandb\u001b[0m: \tinput_type: basic\n",
      "\u001b[34m\u001b[1mwandb\u001b[0m: \tlabel_smoothing: 0\n",
      "\u001b[34m\u001b[1mwandb\u001b[0m: \tlearning_rate: 0.0001\n",
      "\u001b[34m\u001b[1mwandb\u001b[0m: \tlen_data: 17498\n",
      "\u001b[34m\u001b[1mwandb\u001b[0m: \tloss: CEL\n",
      "\u001b[34m\u001b[1mwandb\u001b[0m: \tnum_layers: 2\n",
      "\u001b[34m\u001b[1mwandb\u001b[0m: \toptimizer: adamW\n",
      "\u001b[34m\u001b[1mwandb\u001b[0m: \traces: ['NZ']\n",
      "\u001b[34m\u001b[1mwandb\u001b[0m: \tstats: [['dist_last__1', 'box_last__1', 'speed_avg_1', 'split_speed_v1_1', 'split_speed_avg_1', 'split_margin_avg_1', 'margin_avg_1', 'RunHomeTime_1', 'run_home_speed_1', 'run_home_speed_v1_1', 'first_out_avg_1', 'pos_out_avg_1', 'post_change_avg_1', 'races_1', 'wins_1', 'wins_last_1', 'weight_', 'min_time_', 'min_split_time_', 'min_split_time_v1', 'last_start_price', 'last_start_prob']]\n",
      "\u001b[34m\u001b[1mwandb\u001b[0m: \tvalidation_split: 0.1\n",
      "Failed to detect the name of this notebook, you can set it manually with the WANDB_NOTEBOOK_NAME environment variable to enable code saving.\n",
      "\u001b[34m\u001b[1mwandb\u001b[0m: \u001b[33mWARNING\u001b[0m Ignored wandb.init() arg project when running a sweep.\n"
     ]
    },
    {
     "data": {
      "text/html": [
       "wandb version 0.15.4 is available!  To upgrade, please run:\n",
       " $ pip install wandb --upgrade"
      ],
      "text/plain": [
       "<IPython.core.display.HTML object>"
      ]
     },
     "metadata": {},
     "output_type": "display_data"
    },
    {
     "data": {
      "text/html": [
       "Tracking run with wandb version 0.15.0"
      ],
      "text/plain": [
       "<IPython.core.display.HTML object>"
      ]
     },
     "metadata": {},
     "output_type": "display_data"
    },
    {
     "data": {
      "text/html": [
       "Run data is saved locally in <code>C:\\Users\\Nick\\Documents\\GitHub\\grvmodel\\Python\\DATA\\wandb\\run-20230614_181233-a4w67vld</code>"
      ],
      "text/plain": [
       "<IPython.core.display.HTML object>"
      ]
     },
     "metadata": {},
     "output_type": "display_data"
    },
    {
     "data": {
      "text/html": [
       "Syncing run <strong><a href='https://wandb.ai/nickojelly/NEW%20GRU-sweeps/runs/a4w67vld' target=\"_blank\">clean-sweep-8</a></strong> to <a href='https://wandb.ai/nickojelly/NEW%20GRU-sweeps' target=\"_blank\">Weights & Biases</a> (<a href='https://wandb.me/run' target=\"_blank\">docs</a>)<br/>Sweep page: <a href='https://wandb.ai/nickojelly/NEW%20GRU-sweeps/sweeps/9vayinwt' target=\"_blank\">https://wandb.ai/nickojelly/NEW%20GRU-sweeps/sweeps/9vayinwt</a>"
      ],
      "text/plain": [
       "<IPython.core.display.HTML object>"
      ]
     },
     "metadata": {},
     "output_type": "display_data"
    },
    {
     "data": {
      "text/html": [
       " View project at <a href='https://wandb.ai/nickojelly/NEW%20GRU-sweeps' target=\"_blank\">https://wandb.ai/nickojelly/NEW%20GRU-sweeps</a>"
      ],
      "text/plain": [
       "<IPython.core.display.HTML object>"
      ]
     },
     "metadata": {},
     "output_type": "display_data"
    },
    {
     "data": {
      "text/html": [
       " View sweep at <a href='https://wandb.ai/nickojelly/NEW%20GRU-sweeps/sweeps/9vayinwt' target=\"_blank\">https://wandb.ai/nickojelly/NEW%20GRU-sweeps/sweeps/9vayinwt</a>"
      ],
      "text/plain": [
       "<IPython.core.display.HTML object>"
      ]
     },
     "metadata": {},
     "output_type": "display_data"
    },
    {
     "data": {
      "text/html": [
       " View run at <a href='https://wandb.ai/nickojelly/NEW%20GRU-sweeps/runs/a4w67vld' target=\"_blank\">https://wandb.ai/nickojelly/NEW%20GRU-sweeps/runs/a4w67vld</a>"
      ],
      "text/plain": [
       "<IPython.core.display.HTML object>"
      ]
     },
     "metadata": {},
     "output_type": "display_data"
    },
    {
     "name": "stdout",
     "output_type": "stream",
     "text": [
      "{'batch_days': 180, 'batch_size': 10, 'dropout': 0.3, 'epochs': 500, 'f0_layer_size': 128, 'f1_layer_size': 64, 'hidden_size': 128, 'input_type': 'basic', 'label_smoothing': 0, 'learning_rate': 0.0001, 'len_data': 17498, 'loss': 'CEL', 'num_layers': 2, 'optimizer': 'adamW', 'races': ['NZ'], 'stats': \"[['dist_last__1', 'box_last__1', 'speed_avg_1', 'split_speed_v1_1', 'split_speed_avg_1', 'split_margin_avg_1', 'margin_avg_1', 'RunHomeTime_1', 'run_home_speed_1', 'run_home_speed_v1_1', 'first_out_avg_1', 'pos_out_avg_1', 'post_change_avg_1', 'races_1', 'wins_1', 'wins_last_1', 'weight_', 'min_time_', 'min_split_time_', 'min_split_time_v1', 'last_start_price', 'last_start_prob']]\", 'validation_split': 0.1}\n",
      "500\n",
      "{'batch_days': 180, 'batch_size': 10, 'dropout': 0.3, 'epochs': 500, 'f0_layer_size': 128, 'f1_layer_size': 64, 'hidden_size': 128, 'input_type': 'basic', 'label_smoothing': 0, 'learning_rate': 0.0001, 'len_data': 17498, 'loss': 'CEL', 'num_layers': 2, 'optimizer': 'adamW', 'races': ['NZ'], 'stats': \"[['dist_last__1', 'box_last__1', 'speed_avg_1', 'split_speed_v1_1', 'split_speed_avg_1', 'split_margin_avg_1', 'margin_avg_1', 'RunHomeTime_1', 'run_home_speed_1', 'run_home_speed_v1_1', 'first_out_avg_1', 'pos_out_avg_1', 'post_change_avg_1', 'races_1', 'wins_1', 'wins_last_1', 'weight_', 'min_time_', 'min_split_time_', 'min_split_time_v1', 'last_start_price', 'last_start_prob']]\", 'validation_split': 0.1}\n",
      "basic\n",
      "[(datetime.date(2019, 12, 1), datetime.date(2020, 5, 29)), (datetime.date(2020, 5, 29), datetime.date(2020, 11, 25)), (datetime.date(2020, 11, 25), datetime.date(2021, 5, 24)), (datetime.date(2021, 5, 24), datetime.date(2021, 11, 20)), (datetime.date(2021, 11, 20), datetime.date(2022, 5, 19)), (datetime.date(2022, 5, 19), datetime.date(2022, 7, 31))]\n",
      "2020-05-29\n",
      "2020-11-25\n",
      "2021-05-24\n",
      "2021-11-20\n",
      "2022-05-19\n",
      "2022-07-31\n",
      "Train examples [2201, 2826, 2680, 2396, 2444, 1001]\n"
     ]
    },
    {
     "name": "stderr",
     "output_type": "stream",
     "text": [
      "100%|██████████| 3619/3619 [00:01<00:00, 3578.87it/s]\n",
      "100%|██████████| 3619/3619 [00:01<00:00, 3121.94it/s]\n",
      "100%|██████████| 3619/3619 [00:01<00:00, 3313.06it/s]\n",
      "100%|██████████| 3619/3619 [00:00<00:00, 3655.24it/s]\n",
      "100%|██████████| 3619/3619 [00:00<00:00, 3730.65it/s]\n",
      "100%|██████████| 3619/3619 [00:00<00:00, 8648.91it/s]\n",
      "100%|██████████| 6/6 [00:05<00:00,  1.06it/s]\n"
     ]
    },
    {
     "name": "stdout",
     "output_type": "stream",
     "text": [
      "Train examples [1557, 1594, 1489, 1492, 1400, 1112]\n",
      "Train examples [1557, 1594, 1489, 1492, 1400, 1112]\n",
      "Train examples [2201, 2826, 2680, 2396, 2444, 1001]\n",
      "Train examples [2201, 2826, 2680, 2396, 2444, 1001]\n",
      "here\n",
      "input_size=28\n",
      "GRUNetv3_BN(\n",
      "  (gru): GRU(28, 128, num_layers=2, dropout=0.3)\n",
      "  (relu0): ReLU()\n",
      "  (fc0): Linear(in_features=1094, out_features=1094, bias=True)\n",
      "  (layer_norm): BatchNorm1d(28, eps=1e-05, momentum=0.1, affine=True, track_running_stats=True)\n",
      "  (rl1): ReLU()\n",
      "  (drop1): Dropout(p=0.3, inplace=False)\n",
      "  (fc1): Linear(in_features=1094, out_features=128, bias=True)\n",
      "  (rl2): ReLU()\n",
      "  (drop2): Dropout(p=0.3, inplace=False)\n",
      "  (fc2): Linear(in_features=128, out_features=64, bias=True)\n",
      "  (rl3): ReLU()\n",
      "  (drop3): Dropout(p=0.3, inplace=False)\n",
      "  (fc3): Linear(in_features=64, out_features=8, bias=True)\n",
      "  (output_fn): Identity()\n",
      ")\n"
     ]
    },
    {
     "name": "stderr",
     "output_type": "stream",
     "text": [
      "  0%|          | 0/500 [00:00<?, ?it/s]"
     ]
    },
    {
     "name": "stdout",
     "output_type": "stream",
     "text": [
      "created path\n"
     ]
    },
    {
     "name": "stderr",
     "output_type": "stream",
     "text": [
      "100%|██████████| 500/500 [58:06<00:00,  6.97s/it] \n"
     ]
    },
    {
     "data": {
      "text/html": [
       "Waiting for W&B process to finish... <strong style=\"color:green\">(success).</strong>"
      ],
      "text/plain": [
       "<IPython.core.display.HTML object>"
      ]
     },
     "metadata": {},
     "output_type": "display_data"
    },
    {
     "data": {
      "text/html": [
       "<style>\n",
       "    table.wandb td:nth-child(1) { padding: 0 10px; text-align: left ; width: auto;} td:nth-child(2) {text-align: left ; width: 100%}\n",
       "    .wandb-row { display: flex; flex-direction: row; flex-wrap: wrap; justify-content: flex-start; width: 100% }\n",
       "    .wandb-col { display: flex; flex-direction: column; flex-basis: 100%; flex: 1; padding: 10px; }\n",
       "    </style>\n",
       "<div class=\"wandb-row\"><div class=\"wandb-col\"><h3>Run history:</h3><br/><table class=\"wandb\"><tr><td>ROI < 30</td><td>▃▃▂▂▁▁▁▄▄▄▅▅▄▅▅▅▅▅▆▆▆▆▆▇▇▇████████▇▇▇▆▆▆</td></tr><tr><td>ROI < 30 2</td><td>▄▄▃▃▁▃▃▇▇▇▇▇▆▆▆▆▆▆▇▇▇▇▇▇▇▇▇▇▇▇▇███▇▇█▇▇▇</td></tr><tr><td>accuracy</td><td>▁▁▂▂▅▇▇█████████████████▇▇▇▇▇▇▇▇▇▇▇▇▇▇▇▆</td></tr><tr><td>accuracy2</td><td>▁▂▅▇███████████▇▇▇▇▇▇▇▇▇▆</td></tr><tr><td>epoch</td><td>▁▁▁▂▂▂▂▂▂▃▃▃▃▃▃▄▄▄▄▄▅▅▅▅▅▅▆▆▆▆▆▇▇▇▇▇▇███</td></tr><tr><td>flat_simple</td><td>▁▁▆▆▄▅▅▇▆▆██▆▆▆▅▇▇▇▇▆▇▇▇▆▆▆▆▇▇▇█▇▇▇▇▇▇▇▆</td></tr><tr><td>loss_1</td><td>███▇▇▇▇▇▇▇▆▆▆▆▆▆▆▆▆▅▅▆▆▆▄▅▅▆▆▃▅▅▅▃▂▄▅▅▁▁</td></tr><tr><td>loss_val</td><td>████▆▄▄▂▂▂▁▁▁▁▁▁▁▁▁▁▁▁▁▁▁▁▁▁▁▂▂▂▂▂▃▃▃▄▄▅</td></tr><tr><td>multibet outlay < 30</td><td>▂▂▂▂▂▁▁▁▁▁▁▁▁▁▁▁▂▂▂▂▂▂▂▃▃▃▃▃▄▄▄▅▅▅▆▆▇███</td></tr><tr><td>multibet profit</td><td>▁▁▂▂▂▂▂▄▄▄▄▄▄▄▄▄▄▄▅▅▅▅▅▆▆▆▆▆▇▇▇▇███████▇</td></tr><tr><td>multibet profit < 30</td><td>▂▂▂▂▁▁▁▃▄▄▄▄▄▄▄▄▄▄▅▅▅▅▅▆▆▆▇▇▇▇▇███▇▇█▆▆▆</td></tr><tr><td>multibet profit < 30 sd</td><td>▃▃▃▃▂▂▂▁▁▁▁▁▁▁▁▁▁▁▂▂▂▂▂▃▃▃▃▃▄▄▄▅▅▅▆▆▇███</td></tr><tr><td>profit_relu</td><td>▁▁▁▁▁▁▁▃▃▃▃▃▃▃▃▃▃▃▄▄▄▄▄▅▅▅▆▆▇▇▇▇███████▇</td></tr><tr><td>relu roi</td><td>▂▂▂▂▁▂▂▄▄▄▄▄▄▄▄▄▅▅▅▅▆▆▆▆▇▇▇▇██████▇▇▇▇▇▆</td></tr></table><br/></div><div class=\"wandb-col\"><h3>Run summary:</h3><br/><table class=\"wandb\"><tr><td>ROI < 30 2</td><td>0.03303</td></tr><tr><td>accuracy2</td><td>0.32291</td></tr><tr><td>epoch</td><td>499</td></tr><tr><td>flat_simple</td><td>60.89383</td></tr><tr><td>loss_1</td><td>0.75397</td></tr><tr><td>multibet outlay < 30</td><td>90734.73119</td></tr><tr><td>multibet profit</td><td>6746.85774</td></tr><tr><td>multibet profit < 30</td><td>2407.74609</td></tr><tr><td>multibet profit < 30 sd</td><td>24.41248</td></tr><tr><td>profit_relu</td><td>4304.91449</td></tr></table><br/></div></div>"
      ],
      "text/plain": [
       "<IPython.core.display.HTML object>"
      ]
     },
     "metadata": {},
     "output_type": "display_data"
    },
    {
     "data": {
      "text/html": [
       " View run <strong style=\"color:#cdcd00\">clean-sweep-8</strong> at: <a href='https://wandb.ai/nickojelly/NEW%20GRU-sweeps/runs/a4w67vld' target=\"_blank\">https://wandb.ai/nickojelly/NEW%20GRU-sweeps/runs/a4w67vld</a><br/>Synced 6 W&B file(s), 75 media file(s), 75 artifact file(s) and 1 other file(s)"
      ],
      "text/plain": [
       "<IPython.core.display.HTML object>"
      ]
     },
     "metadata": {},
     "output_type": "display_data"
    },
    {
     "data": {
      "text/html": [
       "Find logs at: <code>.\\wandb\\run-20230614_181233-a4w67vld\\logs</code>"
      ],
      "text/plain": [
       "<IPython.core.display.HTML object>"
      ]
     },
     "metadata": {},
     "output_type": "display_data"
    },
    {
     "name": "stderr",
     "output_type": "stream",
     "text": [
      "\u001b[34m\u001b[1mwandb\u001b[0m: Agent Starting Run: 5d1on9kw with config:\n",
      "\u001b[34m\u001b[1mwandb\u001b[0m: \tbatch_days: 365\n",
      "\u001b[34m\u001b[1mwandb\u001b[0m: \tbatch_size: 10\n",
      "\u001b[34m\u001b[1mwandb\u001b[0m: \tdropout: 0.3\n",
      "\u001b[34m\u001b[1mwandb\u001b[0m: \tepochs: 500\n",
      "\u001b[34m\u001b[1mwandb\u001b[0m: \tf0_layer_size: 128\n",
      "\u001b[34m\u001b[1mwandb\u001b[0m: \tf1_layer_size: 64\n",
      "\u001b[34m\u001b[1mwandb\u001b[0m: \thidden_size: 128\n",
      "\u001b[34m\u001b[1mwandb\u001b[0m: \tinput_type: basic\n",
      "\u001b[34m\u001b[1mwandb\u001b[0m: \tlabel_smoothing: 0.01\n",
      "\u001b[34m\u001b[1mwandb\u001b[0m: \tlearning_rate: 0.0003\n",
      "\u001b[34m\u001b[1mwandb\u001b[0m: \tlen_data: 17498\n",
      "\u001b[34m\u001b[1mwandb\u001b[0m: \tloss: CEL\n",
      "\u001b[34m\u001b[1mwandb\u001b[0m: \tnum_layers: 2\n",
      "\u001b[34m\u001b[1mwandb\u001b[0m: \toptimizer: adamW\n",
      "\u001b[34m\u001b[1mwandb\u001b[0m: \traces: ['NZ']\n",
      "\u001b[34m\u001b[1mwandb\u001b[0m: \tstats: [['dist_last__1', 'box_last__1', 'speed_avg_1', 'split_speed_v1_1', 'split_speed_avg_1', 'split_margin_avg_1', 'margin_avg_1', 'RunHomeTime_1', 'run_home_speed_1', 'run_home_speed_v1_1', 'first_out_avg_1', 'pos_out_avg_1', 'post_change_avg_1', 'races_1', 'wins_1', 'wins_last_1', 'weight_', 'min_time_', 'min_split_time_', 'min_split_time_v1', 'last_start_price', 'last_start_prob']]\n",
      "\u001b[34m\u001b[1mwandb\u001b[0m: \tvalidation_split: 0.1\n",
      "Failed to detect the name of this notebook, you can set it manually with the WANDB_NOTEBOOK_NAME environment variable to enable code saving.\n",
      "\u001b[34m\u001b[1mwandb\u001b[0m: \u001b[33mWARNING\u001b[0m Ignored wandb.init() arg project when running a sweep.\n"
     ]
    },
    {
     "data": {
      "text/html": [
       "wandb version 0.15.4 is available!  To upgrade, please run:\n",
       " $ pip install wandb --upgrade"
      ],
      "text/plain": [
       "<IPython.core.display.HTML object>"
      ]
     },
     "metadata": {},
     "output_type": "display_data"
    },
    {
     "data": {
      "text/html": [
       "Tracking run with wandb version 0.15.0"
      ],
      "text/plain": [
       "<IPython.core.display.HTML object>"
      ]
     },
     "metadata": {},
     "output_type": "display_data"
    },
    {
     "data": {
      "text/html": [
       "Run data is saved locally in <code>C:\\Users\\Nick\\Documents\\GitHub\\grvmodel\\Python\\DATA\\wandb\\run-20230614_191102-5d1on9kw</code>"
      ],
      "text/plain": [
       "<IPython.core.display.HTML object>"
      ]
     },
     "metadata": {},
     "output_type": "display_data"
    },
    {
     "data": {
      "text/html": [
       "Syncing run <strong><a href='https://wandb.ai/nickojelly/NEW%20GRU-sweeps/runs/5d1on9kw' target=\"_blank\">royal-sweep-9</a></strong> to <a href='https://wandb.ai/nickojelly/NEW%20GRU-sweeps' target=\"_blank\">Weights & Biases</a> (<a href='https://wandb.me/run' target=\"_blank\">docs</a>)<br/>Sweep page: <a href='https://wandb.ai/nickojelly/NEW%20GRU-sweeps/sweeps/9vayinwt' target=\"_blank\">https://wandb.ai/nickojelly/NEW%20GRU-sweeps/sweeps/9vayinwt</a>"
      ],
      "text/plain": [
       "<IPython.core.display.HTML object>"
      ]
     },
     "metadata": {},
     "output_type": "display_data"
    },
    {
     "data": {
      "text/html": [
       " View project at <a href='https://wandb.ai/nickojelly/NEW%20GRU-sweeps' target=\"_blank\">https://wandb.ai/nickojelly/NEW%20GRU-sweeps</a>"
      ],
      "text/plain": [
       "<IPython.core.display.HTML object>"
      ]
     },
     "metadata": {},
     "output_type": "display_data"
    },
    {
     "data": {
      "text/html": [
       " View sweep at <a href='https://wandb.ai/nickojelly/NEW%20GRU-sweeps/sweeps/9vayinwt' target=\"_blank\">https://wandb.ai/nickojelly/NEW%20GRU-sweeps/sweeps/9vayinwt</a>"
      ],
      "text/plain": [
       "<IPython.core.display.HTML object>"
      ]
     },
     "metadata": {},
     "output_type": "display_data"
    },
    {
     "data": {
      "text/html": [
       " View run at <a href='https://wandb.ai/nickojelly/NEW%20GRU-sweeps/runs/5d1on9kw' target=\"_blank\">https://wandb.ai/nickojelly/NEW%20GRU-sweeps/runs/5d1on9kw</a>"
      ],
      "text/plain": [
       "<IPython.core.display.HTML object>"
      ]
     },
     "metadata": {},
     "output_type": "display_data"
    },
    {
     "name": "stdout",
     "output_type": "stream",
     "text": [
      "{'batch_days': 365, 'batch_size': 10, 'dropout': 0.3, 'epochs': 500, 'f0_layer_size': 128, 'f1_layer_size': 64, 'hidden_size': 128, 'input_type': 'basic', 'label_smoothing': 0.01, 'learning_rate': 0.0003, 'len_data': 17498, 'loss': 'CEL', 'num_layers': 2, 'optimizer': 'adamW', 'races': ['NZ'], 'stats': \"[['dist_last__1', 'box_last__1', 'speed_avg_1', 'split_speed_v1_1', 'split_speed_avg_1', 'split_margin_avg_1', 'margin_avg_1', 'RunHomeTime_1', 'run_home_speed_1', 'run_home_speed_v1_1', 'first_out_avg_1', 'pos_out_avg_1', 'post_change_avg_1', 'races_1', 'wins_1', 'wins_last_1', 'weight_', 'min_time_', 'min_split_time_', 'min_split_time_v1', 'last_start_price', 'last_start_prob']]\", 'validation_split': 0.1}\n",
      "500\n",
      "{'batch_days': 365, 'batch_size': 10, 'dropout': 0.3, 'epochs': 500, 'f0_layer_size': 128, 'f1_layer_size': 64, 'hidden_size': 128, 'input_type': 'basic', 'label_smoothing': 0.01, 'learning_rate': 0.0003, 'len_data': 17498, 'loss': 'CEL', 'num_layers': 2, 'optimizer': 'adamW', 'races': ['NZ'], 'stats': \"[['dist_last__1', 'box_last__1', 'speed_avg_1', 'split_speed_v1_1', 'split_speed_avg_1', 'split_margin_avg_1', 'margin_avg_1', 'RunHomeTime_1', 'run_home_speed_1', 'run_home_speed_v1_1', 'first_out_avg_1', 'pos_out_avg_1', 'post_change_avg_1', 'races_1', 'wins_1', 'wins_last_1', 'weight_', 'min_time_', 'min_split_time_', 'min_split_time_v1', 'last_start_price', 'last_start_prob']]\", 'validation_split': 0.1}\n",
      "basic\n",
      "[(datetime.date(2019, 12, 1), datetime.date(2020, 11, 30)), (datetime.date(2020, 11, 30), datetime.date(2021, 11, 30)), (datetime.date(2021, 11, 30), datetime.date(2022, 7, 31))]\n",
      "2020-11-30\n",
      "2021-11-30\n",
      "2022-07-31\n",
      "Train examples [5094, 5162, 3295]\n"
     ]
    },
    {
     "name": "stderr",
     "output_type": "stream",
     "text": [
      "100%|██████████| 3619/3619 [00:02<00:00, 1694.62it/s]\n",
      "100%|██████████| 3619/3619 [00:02<00:00, 1697.16it/s]\n",
      "100%|██████████| 3619/3619 [00:01<00:00, 2650.55it/s]\n",
      "100%|██████████| 3/3 [00:05<00:00,  1.88s/it]\n"
     ]
    },
    {
     "name": "stdout",
     "output_type": "stream",
     "text": [
      "Train examples [1947, 1877, 1553]\n",
      "Train examples [1947, 1877, 1553]\n",
      "Train examples [5094, 5162, 3295]\n",
      "Train examples [5094, 5162, 3295]\n",
      "here\n",
      "input_size=28\n",
      "GRUNetv3_BN(\n",
      "  (gru): GRU(28, 128, num_layers=2, dropout=0.3)\n",
      "  (relu0): ReLU()\n",
      "  (fc0): Linear(in_features=1094, out_features=1094, bias=True)\n",
      "  (layer_norm): BatchNorm1d(28, eps=1e-05, momentum=0.1, affine=True, track_running_stats=True)\n",
      "  (rl1): ReLU()\n",
      "  (drop1): Dropout(p=0.3, inplace=False)\n",
      "  (fc1): Linear(in_features=1094, out_features=128, bias=True)\n",
      "  (rl2): ReLU()\n",
      "  (drop2): Dropout(p=0.3, inplace=False)\n",
      "  (fc2): Linear(in_features=128, out_features=64, bias=True)\n",
      "  (rl3): ReLU()\n",
      "  (drop3): Dropout(p=0.3, inplace=False)\n",
      "  (fc3): Linear(in_features=64, out_features=8, bias=True)\n",
      "  (output_fn): Identity()\n",
      ")\n"
     ]
    },
    {
     "name": "stderr",
     "output_type": "stream",
     "text": [
      "  0%|          | 0/500 [00:00<?, ?it/s]"
     ]
    },
    {
     "name": "stdout",
     "output_type": "stream",
     "text": [
      "created path\n"
     ]
    },
    {
     "name": "stderr",
     "output_type": "stream",
     "text": [
      "100%|██████████| 500/500 [47:24<00:00,  5.69s/it]\n"
     ]
    },
    {
     "data": {
      "text/html": [
       "Waiting for W&B process to finish... <strong style=\"color:green\">(success).</strong>"
      ],
      "text/plain": [
       "<IPython.core.display.HTML object>"
      ]
     },
     "metadata": {},
     "output_type": "display_data"
    },
    {
     "data": {
      "application/vnd.jupyter.widget-view+json": {
       "model_id": "2c69671490814439b36b115632c8a876",
       "version_major": 2,
       "version_minor": 0
      },
      "text/plain": [
       "VBox(children=(Label(value='59.769 MB of 59.769 MB uploaded (0.000 MB deduped)\\r'), FloatProgress(value=1.0, m…"
      ]
     },
     "metadata": {},
     "output_type": "display_data"
    },
    {
     "data": {
      "text/html": [
       "<style>\n",
       "    table.wandb td:nth-child(1) { padding: 0 10px; text-align: left ; width: auto;} td:nth-child(2) {text-align: left ; width: 100%}\n",
       "    .wandb-row { display: flex; flex-direction: row; flex-wrap: wrap; justify-content: flex-start; width: 100% }\n",
       "    .wandb-col { display: flex; flex-direction: column; flex-basis: 100%; flex: 1; padding: 10px; }\n",
       "    </style>\n",
       "<div class=\"wandb-row\"><div class=\"wandb-col\"><h3>Run history:</h3><br/><table class=\"wandb\"><tr><td>ROI < 30</td><td>▃▃▄▄▁▄▄▆▆▆▆▆▇▇▇▇██▆▆▆▇▇▆▆▆▇▇▆▆▆▇▇▇▆▆▆▆▆▆</td></tr><tr><td>ROI < 30 2</td><td>▃▃▄▄▁▅▅▇▇▇▇▇▇██▇██▇▇▆▇▇▆▆▆▇▇▆▅▅▆▇▇▆▆▆▆▆▆</td></tr><tr><td>accuracy</td><td>▁▁▁▁▄▇▇██████▇▇▇▇▇▇▇▇▆▆▆▆▆▆▆▅▅▅▅▅▅▅▅▅▅▅▅</td></tr><tr><td>accuracy2</td><td>▁▁▄▇████▇▇▇▇▇▆▆▆▆▅▅▅▅▅▅▅▅</td></tr><tr><td>epoch</td><td>▁▁▁▂▂▂▂▂▂▃▃▃▃▃▄▄▄▄▄▄▅▅▅▅▅▅▆▆▆▆▆▇▇▇▇▇▇███</td></tr><tr><td>flat_simple</td><td>▆▆▆▆▁▃▃▅▇▇▆▆▆▅▅▆▆▆██▄▅▅▂▁▁▇▇▃▇▇▆▅▅▆▆▃▅▅▃</td></tr><tr><td>loss_1</td><td>█████▇▇▇▇▇▆▆▆▆▆▅▆▆▆▄▄▅▅▄▂▃▃▃▃▂▂▂▂▁▁▂▂▂▁▁</td></tr><tr><td>loss_val</td><td>▄▄▄▄▃▂▂▁▁▁▁▁▁▁▁▁▁▁▂▂▂▃▃▄▄▄▅▅▆▆▆▇▇▇██████</td></tr><tr><td>multibet outlay < 30</td><td>▂▂▂▂▁▁▁▁▁▁▁▁▂▂▂▂▃▃▃▃▄▅▅▆▆▆▇▇▇▇▇█████████</td></tr><tr><td>multibet profit</td><td>▃▃▂▂▁▄▄▅▅▅▄▄▄▄▄▄▅▅▄▄▅▆▆▄▄▄▇▇▅▇▇█▇▇▆▆▆▃▃▆</td></tr><tr><td>multibet profit < 30</td><td>▂▂▃▃▁▃▃▅▅▅▅▅▆▆▆▆██▆▆▆▇▇▅▅▅▇▇▅▅▅▇██▇▇▆▅▅▇</td></tr><tr><td>multibet profit < 30 sd</td><td>▂▂▂▂▁▁▁▁▁▁▁▁▁▂▂▂▂▂▃▃▄▅▅▅▆▆▆▆▇▇▇▇████████</td></tr><tr><td>profit_relu</td><td>▂▂▁▁▁▂▂▃▃▃▃▃▃▃▃▃▄▄▄▄▅▆▆▅▄▄██▅▇▇█▇▇▇▇▇▄▄▆</td></tr><tr><td>relu roi</td><td>▅▅▁▁▁▅▅▇▇▇▇▇▇▇▇▆▇▇▇▇▇██▆▆▆██▆███▇▇▇▇▇▅▅▇</td></tr></table><br/></div><div class=\"wandb-col\"><h3>Run summary:</h3><br/><table class=\"wandb\"><tr><td>ROI < 30 2</td><td>0.00816</td></tr><tr><td>accuracy2</td><td>0.28528</td></tr><tr><td>epoch</td><td>499</td></tr><tr><td>flat_simple</td><td>-48.76559</td></tr><tr><td>loss_1</td><td>0.51154</td></tr><tr><td>multibet outlay < 30</td><td>145268.43097</td></tr><tr><td>multibet profit</td><td>4884.38786</td></tr><tr><td>multibet profit < 30</td><td>2332.91837</td></tr><tr><td>multibet profit < 30 sd</td><td>39.63992</td></tr><tr><td>profit_relu</td><td>3672.24509</td></tr></table><br/></div></div>"
      ],
      "text/plain": [
       "<IPython.core.display.HTML object>"
      ]
     },
     "metadata": {},
     "output_type": "display_data"
    },
    {
     "data": {
      "text/html": [
       " View run <strong style=\"color:#cdcd00\">royal-sweep-9</strong> at: <a href='https://wandb.ai/nickojelly/NEW%20GRU-sweeps/runs/5d1on9kw' target=\"_blank\">https://wandb.ai/nickojelly/NEW%20GRU-sweeps/runs/5d1on9kw</a><br/>Synced 6 W&B file(s), 75 media file(s), 75 artifact file(s) and 1 other file(s)"
      ],
      "text/plain": [
       "<IPython.core.display.HTML object>"
      ]
     },
     "metadata": {},
     "output_type": "display_data"
    },
    {
     "data": {
      "text/html": [
       "Find logs at: <code>.\\wandb\\run-20230614_191102-5d1on9kw\\logs</code>"
      ],
      "text/plain": [
       "<IPython.core.display.HTML object>"
      ]
     },
     "metadata": {},
     "output_type": "display_data"
    },
    {
     "name": "stderr",
     "output_type": "stream",
     "text": [
      "\u001b[34m\u001b[1mwandb\u001b[0m: Ctrl + C detected. Stopping sweep.\n"
     ]
    }
   ],
   "source": [
    "sweep_id = wandb.sweep(sweep_config, project=\"NEW GRU-sweeps\")\n",
    "CUDA_LAUNCH_BLOCKING=1\n",
    "wandb.agent(sweep_id, function=model_pipeline, count=100)"
   ]
  }
 ],
 "metadata": {
  "kernelspec": {
   "display_name": "PYTORCH",
   "language": "python",
   "name": "python3"
  },
  "language_info": {
   "codemirror_mode": {
    "name": "ipython",
    "version": 3
   },
   "file_extension": ".py",
   "mimetype": "text/x-python",
   "name": "python",
   "nbconvert_exporter": "python",
   "pygments_lexer": "ipython3",
   "version": "3.9.16"
  },
  "orig_nbformat": 4,
  "vscode": {
   "interpreter": {
    "hash": "8a48ca33c5a1168302a4f8eae355aad1c03b1396f568d40bc174a6e6aabe725d"
   }
  }
 },
 "nbformat": 4,
 "nbformat_minor": 2
}
