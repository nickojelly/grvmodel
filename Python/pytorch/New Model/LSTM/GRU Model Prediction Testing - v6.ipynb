{
 "cells": [
  {
   "cell_type": "code",
   "execution_count": 59,
   "metadata": {},
   "outputs": [],
   "source": [
    "import pickle\n",
    "import pandas as pd\n",
    "import os\n",
    "\n",
    "import torch\n",
    "import numpy as np\n",
    "import torch.nn as nn\n",
    "import torch.nn.functional as F\n",
    "import torch.optim as optim\n",
    "from tqdm import tqdm, trange\n",
    "import torch.optim as optim\n",
    "from torch.utils.data import TensorDataset, DataLoader\n",
    "import wandb\n",
    "from torch.utils.data.sampler import SubsetRandomSampler\n",
    "import pprint\n",
    "import matplotlib.pyplot as plt\n",
    "import torch\n",
    "\n",
    "from sklearn.preprocessing import MinMaxScaler\n",
    "import math\n",
    "from torch.profiler import profile, record_function, ProfilerActivity\n",
    "\n",
    "from operator import itemgetter\n",
    "import operator\n",
    "from random import randint\n",
    "from rnn_classes import Dog, DogInput, Race, Races, GRUNet\n",
    "from raceDB import build_dataset, build_pred_dataset\n",
    "import importlib\n",
    "import datetime\n",
    "import model_predictions\n",
    "from rnn_classes import smalll_lin_GRUNet, smalll_prelin_GRUNet,GRUNetv2, GRUNetv2_test,GRUNetv3\n",
    "# import val_model_external\n",
    "from torch.nn.utils.rnn import pack_padded_sequence, pack_sequence"
   ]
  },
  {
   "cell_type": "code",
   "execution_count": 60,
   "metadata": {},
   "outputs": [],
   "source": [
    "def model_predictions(predDB:Races,model_location, net_size = 'small', new_hidden_state=None):\n",
    "    torch_saved_dict = torch.load(model_location,map_location=torch.device('cpu'))\n",
    "    predDB.to_cpu()\n",
    "\n",
    "    if new_hidden_state:\n",
    "        predDB.fill_hidden_states_from_dict(hidden_dict=new_hidden_state)\n",
    "    else:\n",
    "        predDB.fill_hidden_states_from_dict(hidden_dict=torch_saved_dict['db'])\n",
    "\n",
    "    predDB.to_cpu()\n",
    "    input_size = predDB.get_race_input([0,1])[0].full_input.shape[0]\n",
    "\n",
    "\n",
    "    if net_size == 'small_lin':\n",
    "        model = smalll_prelin_GRUNet(input_size,64, output='softmax')\n",
    "    else:\n",
    "        model = GRUNetv2(input_size,64, output='softmax')\n",
    "\n",
    "        \n",
    "        \n",
    "    model.load_state_dict(torch_saved_dict['model_state_dict'])\n",
    "    model.eval()\n",
    "    outs = model(predDB.racesDict.values()).to('cpu')\n",
    "    predDB.to_cpu()\n",
    "    x = predDB.racesDict.values()\n",
    "    outs_list = [item for sublist in outs.tolist() for item in sublist]\n",
    "    dogs = [dog.dog.dog_name for sublist in [r.dogs for r in x] for dog in sublist]\n",
    "    dog_hidden = [dog.dog.hidden_filled for sublist in [r.dogs for r in x] for dog in sublist]\n",
    "    box = [r for s in [[1,2,3,4,5,6,7,8] for r in x] for r in s]\n",
    "    dogId = [dog.dog.dogid for sublist in [r.dogs for r in x] for dog in sublist]\n",
    "    date = [r for s in [[r.race_date]*8 for r in x] for r in s]\n",
    "    times = [r for s in [[r.race_time]*8 for r in x] for r in s]\n",
    "    rid = [r for s in [[r.raceid]*8 for r in x] for r in s]\n",
    "    track = [r for s in [[r.track_name]*8 for r in x] for r in s]\n",
    "    rnum = [r for s in [[int(r.race_num)]*8 for r in x] for r in s]\n",
    "    outs = pd.DataFrame(data = {\"raceid\":rid, \"track\":track,'date':date, \"racetime\":times,\"box\":box, \"dogs\":dogs, \"dogid\":dogId,'dog_hidden':dog_hidden, \"conf\":outs_list,\"race_num\":rnum })\n",
    "    outs['pred_price'] = outs['conf'].apply(lambda x: 1/(x))\n",
    "    outs = outs.sort_values(['track','race_num','box'])\n",
    "\n",
    "    return outs"
   ]
  },
  {
   "cell_type": "code",
   "execution_count": 61,
   "metadata": {},
   "outputs": [],
   "source": [
    "def v6_forward_pass_train(raceDB:Races, model:GRUNetv2, basic=False):\n",
    "    torch.cuda.empty_cache()\n",
    "    with torch.no_grad():\n",
    "        len_train_dogs = len(raceDB.train_dog_ids)\n",
    "        len_train_races = len(raceDB.train_race_ids)\n",
    "\n",
    "        dogs_idx = range(0,len_train_dogs-1)\n",
    "        dogs = [inner[0].dog for inner in [x for x in raceDB.get_dog_train(dogs_idx)]] #[Dog]\n",
    "        dog_input = [inner for inner in [x for x in raceDB.get_dog_train(dogs_idx)]] #[[DogInput]]\n",
    "\n",
    "\n",
    "        if basic:\n",
    "            train = [torch.stack(n,0) for n in [[z.stats for z in inner] for inner in [x for x in raceDB.get_dog_train(dogs_idx)]]] \n",
    "        else:\n",
    "            train = [torch.stack(n,0) for n in [[z.full_input for z in inner] for inner in [x for x in raceDB.get_dog_train(dogs_idx)]]] \n",
    "        X = pack_sequence(train, enforce_sorted=False)\n",
    "\n",
    "        del train\n",
    "        torch.cuda.empty_cache()\n",
    "        #sorts dogs acroding to packed seq\n",
    "        dogs_sorted = [dogs[x] for x in X[3]] #[Dog]\n",
    "\n",
    "        output,hidden = model(X)\n",
    "\n",
    "        for i,dog in enumerate(dog_input):\n",
    "            dog_outputs = output[i]\n",
    "            for j,di in enumerate(dog):\n",
    "                di.hidden_out = dog_outputs[j]\n",
    "    torch.cuda.empty_cache()"
   ]
  },
  {
   "cell_type": "code",
   "execution_count": 62,
   "metadata": {},
   "outputs": [],
   "source": [
    "def v6_forward_pass_test(raceDB:Races, model:GRUNetv2, basic=False):\n",
    "    sft_max = nn.Softmax(dim=-1)\n",
    "    model.eval()\n",
    "    torch.cuda.empty_cache()\n",
    "    with torch.no_grad():\n",
    "        len_test = len(raceDB.test_dog_ids)\n",
    "        test_idx = range(0,len_test)\n",
    "\n",
    "        dogs = [x for x in  raceDB.test_dogs.values()]  #[Dog]\n",
    "        print(f\"length of dogs {len(dogs)}\")\n",
    "        dog_input = [inner for inner in [x for x in raceDB.get_dog_test(test_idx)]] #[[DogInput]]\n",
    "    \n",
    "        for dog in dogs:\n",
    "            dog.hidden = dog.hidden.to('cuda:0')\n",
    "\n",
    "        if basic:\n",
    "            X = pack_sequence([torch.stack(n,0) for n in [[z.stats.to('cuda:0') for z in inner] for inner in [x for x in raceDB.get_dog_test(test_idx)]]], enforce_sorted=False)\n",
    "        else:\n",
    "            X = pack_sequence([torch.stack(n,0) for n in [[z.full_input.to('cuda:0') for z in inner] for inner in [x for x in raceDB.get_dog_test(test_idx)]]], enforce_sorted=False)\n",
    "        # X = pack_sequence(train, enforce_sorted=False)\n",
    "\n",
    "        # dogs_sorted = [dogs[x] for x in X[3]]\n",
    "        # print(f\"length of dogs sorted {len(dogs_sorted)}\")\n",
    "        hidden_in = torch.stack([x.hidden for x in dogs]).transpose(0,1)\n",
    "\n",
    "        print(hidden_in.shape)\n",
    "\n",
    "        # #sorts dogs acroding to packed seq\n",
    "        # dogs_sorted = [dogs[x] for x in X[3]] #[Dog]\n",
    "\n",
    "        output,_ = model(X,h=hidden_in)\n",
    "\n",
    "        for i,dog in enumerate(dog_input):\n",
    "            dog_outputs = output[i]\n",
    "            # print(f'{i=}, shape of output {len(dog_outputs)} type of output {type(dog_outputs)}')\n",
    "            for j,di in enumerate(dog):\n",
    "                di.hidden_out = dog_outputs[j]\n",
    "\n",
    "        raceDB.margin_from_dog_to_race_v3(mode='test')\n",
    "\n",
    "        len_test = len(raceDB.test_race_ids)\n",
    "        test_idx = range(0,len_test)\n",
    "\n",
    "        race = raceDB.get_test_input(test_idx)\n",
    "\n",
    "        X = torch.stack([r.hidden_in for r in race])\n",
    "\n",
    "        output,relu = model(X, p1=False)\n",
    "\n",
    "        relu = torch.mean(abs(relu),dim=1)\n",
    "\n",
    "        softmax_preds = sft_max(output).to('cpu')\n",
    "\n",
    "        test_races = raceDB.get_test_input(test_idx)\n",
    "\n",
    "        x = race\n",
    "\n",
    "        \n",
    "        relu_out = [r for s in  [[r]*8 for r in relu.tolist()] for r in s]\n",
    "        outs_list = [item for sublist in softmax_preds.tolist() for item in sublist]\n",
    "        dogs = [dog.dog.dog_name for sublist in [r.dogs for r in x] for dog in sublist]\n",
    "        dog_hidden = [dog.dog.hidden_filled for sublist in [r.dogs for r in x] for dog in sublist]\n",
    "        dog_last_run_date = [dog.dog.last_race_date for sublist in [r.dogs for r in x] for dog in sublist]\n",
    "        box = [r for s in [[1,2,3,4,5,6,7,8] for r in x] for r in s]\n",
    "        dogId = [dog.dog.dogid for sublist in [r.dogs for r in x] for dog in sublist]\n",
    "        date = [r for s in [[r.race_date]*8 for r in x] for r in s]\n",
    "        times = [r for s in [[r.race_time]*8 for r in x] for r in s]\n",
    "        rid = [r for s in [[r.raceid]*8 for r in x] for r in s]\n",
    "        track = [r for s in [[r.track_name]*8 for r in x] for r in s]\n",
    "        rnum = [r for s in [[int(r.race_num)]*8 for r in x] for r in s]\n",
    "        outs = pd.DataFrame(data = {\"raceid\":rid, \n",
    "                                    \"track\":track,\n",
    "                                    'date':date,\n",
    "                                    \"racetime\":times,\n",
    "                                    \"dogid\":dogId,\n",
    "                                    'dog_hidden':dog_hidden,\n",
    "                                    'dog_last_run_date':dog_last_run_date,\n",
    "                                    'relu_sum':relu_out,\n",
    "                                    \"conf\":outs_list,\n",
    "                                    \"box\":box,\n",
    "                                    \"dogs\":dogs,\n",
    "                                    \"race_num\":rnum })\n",
    "        \n",
    "        outs['pred_price'] = outs['conf'].apply(lambda x: 1/(x))\n",
    "        outs = outs.sort_values(['track','race_num','box'])\n",
    "\n",
    "        \n",
    "    return outs"
   ]
  },
  {
   "cell_type": "code",
   "execution_count": 63,
   "metadata": {},
   "outputs": [
    {
     "name": "stdout",
     "output_type": "stream",
     "text": [
      "['speed_avg_1', 'speed_max_1', 'split_speed_avg_1', 'split_speed_max_1', 'split_margin_avg_1', 'margin_avg_1', 'first_out_avg_1', 'post_change_avg_1', 'races_1', 'wins_1']\n",
      "(994, 21)\n",
      "20\n",
      "Latest date = 2023-04-21 00:00:00\n",
      "(609, 23)\n",
      "Latest date = 2023-04-21 00:00:00\n",
      "num_features_per_dog=20\n"
     ]
    },
    {
     "data": {
      "application/vnd.jupyter.widget-view+json": {
       "model_id": "45477bc23ca94965803c5f5a471479f0",
       "version_major": 2,
       "version_minor": 0
      },
      "text/plain": [
       "  0%|          | 0/609 [00:00<?, ?it/s]"
      ]
     },
     "metadata": {},
     "output_type": "display_data"
    },
    {
     "name": "stderr",
     "output_type": "stream",
     "text": [
      "c:\\Users\\Nick\\.conda\\envs\\PYTORCH\\lib\\site-packages\\tqdm\\std.py:1195: FutureWarning: In a future version of pandas, a length 1 tuple will be returned when iterating over a groupby with a grouper equal to a list of length 1. Don't supply a list with a single grouper to avoid this warning.\n",
      "  for obj in iterable:\n"
     ]
    },
    {
     "data": {
      "application/vnd.jupyter.widget-view+json": {
       "model_id": "e2efa3689365465188dc033826a147a0",
       "version_major": 2,
       "version_minor": 0
      },
      "text/plain": [
       "  0%|          | 0/81 [00:00<?, ?it/s]"
      ]
     },
     "metadata": {},
     "output_type": "display_data"
    },
    {
     "name": "stdout",
     "output_type": "stream",
     "text": [
      "number of races = 81, number of unique dogs = 610\n"
     ]
    },
    {
     "name": "stderr",
     "output_type": "stream",
     "text": [
      "c:\\Users\\Nick\\.conda\\envs\\PYTORCH\\lib\\site-packages\\tqdm\\std.py:1195: FutureWarning: In a future version of pandas, a length 1 tuple will be returned when iterating over a groupby with a grouper equal to a list of length 1. Don't supply a list with a single grouper to avoid this warning.\n",
      "  for obj in iterable:\n"
     ]
    }
   ],
   "source": [
    "os.getcwd()\n",
    "os.chdir(r\"C:\\Users\\Nick\\Documents\\GitHub\\grvmodel\\Python\\DATA\")\n",
    "#dog_stats_file = open( 'new gru input 2023-01.npy', 'rb')\n",
    "CUDA_LAUNCH_BLOCKING=1\n",
    "date = datetime.datetime.strptime(\"2023-04-08\", \"%Y-%m-%d\").date()\n",
    "today = datetime.datetime.today().strftime('%Y-%m-%d')\n",
    "hidden_size = 128\n",
    "simple_db = r\"C:\\Users\\Nick\\Documents\\GitHub\\grvmodel\\Python\\DATA\\gru_inputs_new_simple.npy\"\n",
    "pred_db = f'C:/Users/Nick/Documents/GitHub/grvmodel/Python/Database Updater/testing new outs simple {today}.npy'\n",
    "# raceDB = build_dataset(simple_db, hidden_size ,state_filter=['VIC', 'NSW'])\n",
    "raceDB = build_dataset(pred_db, hidden_size ,state_filter=[\"TAS\"])"
   ]
  },
  {
   "cell_type": "code",
   "execution_count": 64,
   "metadata": {},
   "outputs": [
    {
     "name": "stdout",
     "output_type": "stream",
     "text": [
      "Train examples 0, Test examples 81\n"
     ]
    },
    {
     "data": {
      "application/vnd.jupyter.widget-view+json": {
       "model_id": "2b3be7e8ed1346dc8101b155d85be2af",
       "version_major": 2,
       "version_minor": 0
      },
      "text/plain": [
       "  0%|          | 0/609 [00:00<?, ?it/s]"
      ]
     },
     "metadata": {},
     "output_type": "display_data"
    },
    {
     "data": {
      "application/vnd.jupyter.widget-view+json": {
       "model_id": "f6267872ef5a486f876fc70d8813fcea",
       "version_major": 2,
       "version_minor": 0
      },
      "text/plain": [
       "  0%|          | 0/610 [00:00<?, ?it/s]"
      ]
     },
     "metadata": {},
     "output_type": "display_data"
    }
   ],
   "source": [
    "# date = datetime.datetime.strptime(\"2022-08-01\", \"%Y-%m-%d\").date()\n",
    "today = datetime.datetime.today().strftime('%Y-%m-%d')\n",
    "raceDB.create_test_split_date(date)\n",
    "raceDB.create_dogs_test_split_date()\n",
    "raceDB.attach_races_to_dog_inputv2()"
   ]
  },
  {
   "cell_type": "code",
   "execution_count": 65,
   "metadata": {},
   "outputs": [],
   "source": [
    "def setup_model(model_name):\n",
    "    model = GRUNetv2_test(87,32,num_layers=2).to('cuda:0')\n",
    "    prev_model = f\"C:/Users/Nick/Documents/GitHub/grvmodel/Python/pytorch/New Model/savedmodel/{model_name}/{model_name}_450.pt\"\n",
    "    prev_model_loaded = torch.load(prev_model,map_location=torch.device('cuda:0'))\n",
    "    model.load_state_dict(prev_model_loaded['model_state_dict'])\n",
    "    hidden_state_dict = prev_model_loaded['db']\n",
    "\n",
    "    return model,hidden_state_dict"
   ]
  },
  {
   "cell_type": "code",
   "execution_count": 66,
   "metadata": {},
   "outputs": [],
   "source": [
    "def setup_model_v3(model_name,model_version, input_size, hidden_size, f0_size,f1_size):\n",
    "    model = GRUNetv3(input_size,hidden_size,num_layers=2, fc0_size=f0_size, fc1_size=f1_size).to('cuda:0')\n",
    "    prev_model = f\"C:/Users/Nick/Documents/GitHub/grvmodel/Python/pytorch/New Model/savedmodel/{model_name}/{model_name}_{model_version}.pt\"\n",
    "    prev_model_loaded = torch.load(prev_model,map_location=torch.device('cuda:0'))\n",
    "    model.load_state_dict(prev_model_loaded['model_state_dict'])\n",
    "    hidden_state_dict = prev_model_loaded['db']\n",
    "\n",
    "    return model,hidden_state_dict"
   ]
  },
  {
   "cell_type": "code",
   "execution_count": 57,
   "metadata": {},
   "outputs": [
    {
     "data": {
      "application/vnd.jupyter.widget-view+json": {
       "model_id": "dfcf09d6a1ac4ff6b19d954be02aad12",
       "version_major": 2,
       "version_minor": 0
      },
      "text/plain": [
       "  0%|          | 0/89 [00:00<?, ?it/s]"
      ]
     },
     "metadata": {},
     "output_type": "display_data"
    },
    {
     "name": "stdout",
     "output_type": "stream",
     "text": [
      "Empty: 461116469 TESTING TIME\n",
      "Empty: 461116468 ELLE\n",
      "Empty: 461115006 MIMI\n",
      "Empty: 782171487 BIG TIME BIRDY\n",
      "Empty: nullDog no_name\n",
      "filled =84\n",
      "empty  =5\n",
      "0.9438202247191011null_dog=0\n",
      "length of dogs 88\n",
      "torch.Size([2, 88, 128])\n"
     ]
    }
   ],
   "source": [
    "model_name = 'peachy-darkness-493'\n",
    "model,hidden_state_dict = setup_model_v3(model_name,1600, 20,128,128,64)\n",
    "raceDB.fill_hidden_states_dict_v2(hidden_state_dict)\n",
    "outs = v6_forward_pass_test(raceDB, model, basic=True)\n",
    "today_time = datetime.datetime.today().strftime('%Y-%m-%d %H_%M_%S')\n",
    "today = datetime.datetime.today().strftime('%Y-%m-%d')\n",
    "today_date = datetime.datetime.today().date()\n",
    "\n",
    "outs['Model Name'] = model_name\n",
    "outs = outs#[ outs['track'].isin(['Richmond', 'Wentworth Park'])]\n",
    "outs_1 = outs#[outs['date']==today_date]\n",
    "\n",
    "outs_1.to_pickle(f'./model_outputs/output {model_name} {today_time}.npy')\n",
    "outs_1.to_excel(f'./model_outputs/output {model_name} -{today_time}.xlsx')"
   ]
  },
  {
   "cell_type": "code",
   "execution_count": 69,
   "metadata": {},
   "outputs": [
    {
     "data": {
      "application/vnd.jupyter.widget-view+json": {
       "model_id": "0a4b28089eb940b2ac01f2dc1f72973d",
       "version_major": 2,
       "version_minor": 0
      },
      "text/plain": [
       "  0%|          | 0/610 [00:00<?, ?it/s]"
      ]
     },
     "metadata": {},
     "output_type": "display_data"
    },
    {
     "name": "stdout",
     "output_type": "stream",
     "text": [
      "Empty: 771724529 RITZA LEWIS\n",
      "Empty: 775589228 ROMAN WOLF\n",
      "Empty: 669959782 NEW HIGHS\n",
      "Empty: 547603534 KOJONUP LASS\n",
      "Empty: 734719590 GAIL UNLEASHED\n",
      "Empty: 566431612 TREACHEROUS\n",
      "Empty: 650078173 AYLA\n",
      "Empty: 632134756 ASTON PROSPECT\n",
      "Empty: 615180911 ASTON HOGAN\n",
      "Empty: 632134757 ASTON DOUGIE\n",
      "Empty: 707215137 EMOLGA BALE\n",
      "Empty: 705700606 COSMIC OVERSEER\n",
      "Empty: 734718583 ZIPPING SIRI\n",
      "Empty: 701016751 XATU BALE\n",
      "Empty: 701016759 ROCKET BALE\n",
      "Empty: 723093304 CRIMSON ROSETTE\n",
      "Empty: 707215139 CATERPIE BALE\n",
      "Empty: 734718585 ZIPPING ALEXA\n",
      "Empty: 771741592 REMEMBER WHAT\n",
      "Empty: 714641938 SWOOPING SWAN\n",
      "Empty: 655358100 MANILA FLASH\n",
      "Empty: 706349883 MISSIN THE BUG\n",
      "Empty: nullDog no_name\n",
      "filled =587\n",
      "empty  =23\n",
      "0.9622950819672131null_dog=0\n",
      "length of dogs 609\n",
      "torch.Size([2, 609, 128])\n"
     ]
    }
   ],
   "source": [
    "model_name = 'graceful-jazz-516'\n",
    "model,hidden_state_dict = setup_model_v3(model_name,450, 20,128,128,64)\n",
    "raceDB.fill_hidden_states_dict_v2(hidden_state_dict)\n",
    "outs = v6_forward_pass_test(raceDB, model, basic=True)\n",
    "today_time = datetime.datetime.today().strftime('%Y-%m-%d %H_%M_%S')\n",
    "today = datetime.datetime.today().strftime('%Y-%m-%d')\n",
    "today_date = datetime.datetime.today().date()\n",
    "\n",
    "outs['Model Name'] = model_name\n",
    "outs = outs#[ outs['track'].isin(['Richmond', 'Wentworth Park'])]\n",
    "outs_1 = outs#[outs['date']==today_date]\n",
    "\n",
    "outs_1.to_pickle(f'./model_outputs/output {model_name} {today_time}.npy')\n",
    "outs_1.to_excel(f'./model_outputs/output {model_name} -{today_time}.xlsx')"
   ]
  },
  {
   "cell_type": "code",
   "execution_count": 36,
   "metadata": {},
   "outputs": [
    {
     "data": {
      "application/vnd.jupyter.widget-view+json": {
       "model_id": "560c017e4b9046238f5f670c3607a448",
       "version_major": 2,
       "version_minor": 0
      },
      "text/plain": [
       "  0%|          | 0/272 [00:00<?, ?it/s]"
      ]
     },
     "metadata": {},
     "output_type": "display_data"
    },
    {
     "name": "stdout",
     "output_type": "stream",
     "text": [
      "Empty: 707214698 CHECK THE RADAR\n",
      "Empty: 707215124 KIARNI GAZELLE\n",
      "Empty: 714917159 BLAST CAFE\n",
      "Empty: 714917640 LESS IS MORE\n",
      "Empty: 714917177 LIKE WILDFIRE\n",
      "Empty: 747808187 DIG DEEP INDY\n",
      "Empty: 707215201 DECENT GUY\n",
      "Empty: 726169486 MISS MCGRAW\n",
      "Empty: 707215210 MARVEL MALVIN\n",
      "Empty: 707215211 MAILMAN MALONE\n",
      "Empty: 663396149 SWEET APEX\n",
      "Empty: 672069459 SLINGSHOT CONNOR\n",
      "Empty: 752069638 PROMPT RESPONSE\n",
      "Empty: nullDog no_name\n",
      "filled =258\n",
      "empty  =14\n",
      "0.9485294117647058null_dog=0\n",
      "length of dogs 271\n",
      "torch.Size([2, 271, 32])\n"
     ]
    }
   ],
   "source": [
    "model_name = 'valiant-sky-456'\n",
    "model,hidden_state_dict = setup_model(model_name)\n",
    "raceDB.fill_hidden_states_dict_v2(hidden_state_dict)\n",
    "outs = v6_forward_pass_test(raceDB, model)\n",
    "today_time = datetime.datetime.today().strftime('%Y-%m-%d %H_%M_%S')\n",
    "today = datetime.datetime.today().strftime('%Y-%m-%d')\n",
    "today_date = datetime.datetime.today().date()\n",
    "\n",
    "outs['Model Name'] = model_name\n",
    "outs = outs# [outs['track'].isin(['Gosford', 'Horsham' , 'Bulli', 'Casino'])]\n",
    "outs_1 = outs#[outs['date']==today_dat\n",
    "\n",
    "# outs_1 = outs[outs['pred_price'].isin([5.705377513,7.121924725,8.389350458,8.584420235,9.4191019,9.510855009,8.889639176,8.011170227,])]\n",
    "\n",
    "outs_1.to_pickle(f'./model_outputs/output {model_name} {today_time}.npy')\n",
    "outs_1.to_excel(f'./model_outputs/output {model_name} -{today_time}.xlsx')"
   ]
  },
  {
   "cell_type": "code",
   "execution_count": 11,
   "metadata": {},
   "outputs": [],
   "source": [
    "model_name = 'valiant-sky-456'\n",
    "prev_model = f\"C:/Users/Nick/Documents/GitHub/grvmodel/Python/pytorch/New Model/savedmodel/{model_name}/{model_name}_450.pt\"\n",
    "prev_model_loaded = torch.load(prev_model,map_location=torch.device('cpu'))"
   ]
  },
  {
   "cell_type": "code",
   "execution_count": 12,
   "metadata": {},
   "outputs": [],
   "source": [
    "hidden_state_dict = prev_model_loaded['db']"
   ]
  },
  {
   "cell_type": "code",
   "execution_count": 13,
   "metadata": {},
   "outputs": [
    {
     "name": "stdout",
     "output_type": "stream",
     "text": [
      "tensor([[ 1.0000e+00, -1.0000e+00,  0.0000e+00,  9.6269e-01, -1.0000e+00,\n",
      "          1.0000e+00,  9.1328e-01,  1.0000e+00,  0.0000e+00, -1.0000e+00,\n",
      "         -2.1083e-01,  0.0000e+00, -9.9660e-01,  1.0000e+00, -7.1763e-05,\n",
      "          1.0000e+00,  0.0000e+00,  0.0000e+00, -1.0000e+00,  1.0000e+00,\n",
      "          9.8803e-01, -5.4968e-01,  0.0000e+00, -9.8572e-01, -1.0000e+00,\n",
      "          1.0000e+00,  1.0000e+00,  1.0000e+00,  1.0000e+00, -9.3613e-01,\n",
      "         -1.0000e+00, -1.0000e+00],\n",
      "        [ 9.1053e-01, -2.7656e-01,  1.0000e+00, -9.4494e-02,  9.6896e-01,\n",
      "          1.0000e+00,  9.9049e-01,  1.0000e+00, -9.0974e-02,  1.0000e+00,\n",
      "          9.9997e-01,  1.0000e+00,  1.0000e+00,  8.2621e-01,  1.0000e+00,\n",
      "         -1.0000e+00,  9.7446e-01,  1.0000e+00,  9.9999e-01,  9.9986e-01,\n",
      "          9.9999e-01,  9.7507e-01, -9.8294e-01,  1.0000e+00, -1.0000e+00,\n",
      "          9.4714e-01,  1.0000e+00,  1.0000e+00, -3.7325e-01, -8.6453e-01,\n",
      "         -1.0000e+00,  8.9387e-01]])\n"
     ]
    }
   ],
   "source": [
    "afire = hidden_state_dict['678122538'][0]\n",
    "print(afire)"
   ]
  },
  {
   "cell_type": "code",
   "execution_count": null,
   "metadata": {},
   "outputs": [],
   "source": [
    "kingsley = hidden_state_dict['665757358'][0].to('cpu')\n",
    "print(kingsley)"
   ]
  },
  {
   "cell_type": "code",
   "execution_count": 30,
   "metadata": {},
   "outputs": [
    {
     "data": {
      "text/plain": [
       "[tensor([-0.0238, -0.1045,  1.0000, -0.3999,  0.0022,  0.9964, -0.0448,  1.0000,\n",
       "          0.0081,  1.0000,  0.9862,  1.0000, -0.0897, -0.6760,  1.0000, -1.0000,\n",
       "         -0.4448,  1.0000,  1.0000,  1.0000,  1.0000, -0.0140, -0.0490,  1.0000,\n",
       "         -0.9885,  0.0660,  1.0000,  0.9948,  0.1450,  0.0219, -1.0000, -0.0561],\n",
       "        device='cuda:0'),\n",
       " tensor([ 4.8473e-01, -2.8674e-01,  1.0000e+00, -2.9826e-01,  6.2193e-01,\n",
       "          1.0000e+00,  7.0683e-01,  1.0000e+00, -8.8372e-04,  1.0000e+00,\n",
       "          9.9984e-01,  1.0000e+00,  9.9912e-01,  3.3114e-01,  1.0000e+00,\n",
       "         -1.0000e+00,  8.4187e-01,  1.0000e+00,  1.0000e+00,  9.9999e-01,\n",
       "          1.0000e+00,  3.5037e-01, -8.3341e-01,  1.0000e+00, -9.9998e-01,\n",
       "          6.8520e-01,  1.0000e+00,  9.9997e-01, -3.2998e-01, -7.7432e-01,\n",
       "         -1.0000e+00,  4.1243e-01], device='cuda:0'),\n",
       " tensor([ 0.0588, -0.3857,  1.0000, -0.5911,  0.1186,  0.8024,  0.1212,  1.0000,\n",
       "          0.2140,  1.0000,  0.9985,  1.0000,  0.0520, -0.4569,  1.0000, -1.0000,\n",
       "          0.0248,  1.0000,  1.0000,  1.0000,  1.0000,  0.0660, -0.5294,  1.0000,\n",
       "         -0.9982, -0.1270,  1.0000,  0.1114, -0.0867, -0.4153, -1.0000, -0.0376],\n",
       "        device='cuda:0'),\n",
       " tensor([ 4.3591e-02,  6.6415e-02,  1.0000e+00, -5.9539e-01,  1.7813e-01,\n",
       "          9.9876e-01,  5.2802e-02,  1.0000e+00, -1.1704e-04,  1.0000e+00,\n",
       "          9.9139e-01,  1.0000e+00,  4.9358e-02, -6.9875e-01,  1.0000e+00,\n",
       "         -9.9975e-01, -1.9277e-01,  1.0000e+00,  1.0000e+00,  1.0000e+00,\n",
       "          1.0000e+00,  1.5924e-02, -4.7971e-01,  1.0000e+00, -9.9432e-01,\n",
       "          7.5186e-02,  1.0000e+00,  7.7954e-01,  2.7215e-02, -1.9344e-01,\n",
       "         -1.0000e+00, -1.1275e-02], device='cuda:0'),\n",
       " tensor([ 1.9948e-02, -9.7411e-02,  1.0000e+00, -7.0173e-01, -1.9469e-03,\n",
       "         -4.7496e-02,  1.7877e-01,  1.0000e+00, -2.0462e-05,  1.0000e+00,\n",
       "          9.9663e-01,  1.0000e+00,  5.0584e-01, -7.4704e-01,  1.0000e+00,\n",
       "         -9.9999e-01, -3.8759e-02,  1.0000e+00,  1.0000e+00,  1.0000e+00,\n",
       "          1.0000e+00,  5.8081e-02, -1.3730e-01,  1.0000e+00, -9.9810e-01,\n",
       "         -7.5911e-02,  1.0000e+00,  6.0668e-02, -3.4846e-02, -2.4566e-01,\n",
       "         -1.0000e+00, -1.5359e-02], device='cuda:0'),\n",
       " tensor([-9.3581e-02, -2.4181e-01,  1.0000e+00, -6.8732e-01, -1.1724e-01,\n",
       "          9.9762e-01, -1.0988e-01,  1.0000e+00, -5.5594e-04,  1.0000e+00,\n",
       "          9.8054e-01,  1.0000e+00,  1.2715e-02, -9.5879e-01,  1.0000e+00,\n",
       "         -9.9998e-01, -6.6193e-01,  1.0000e+00,  1.0000e+00,  1.0000e+00,\n",
       "          1.0000e+00, -1.3964e-02,  5.4539e-01,  1.0000e+00, -9.8927e-01,\n",
       "          4.6709e-02,  1.0000e+00,  9.4594e-01,  2.7369e-01,  5.4108e-02,\n",
       "         -1.0000e+00, -7.5090e-02], device='cuda:0'),\n",
       " tensor([ 0.0397,  0.0220,  1.0000, -0.3728,  0.1006,  1.0000,  0.1649,  1.0000,\n",
       "          0.0018,  1.0000,  0.9974,  1.0000,  0.1779, -0.4462,  1.0000, -1.0000,\n",
       "         -0.0068,  1.0000,  1.0000,  1.0000,  1.0000,  0.0398, -0.7886,  1.0000,\n",
       "         -0.9984,  0.0385,  1.0000,  0.9993, -0.0222, -0.3806, -1.0000, -0.0674],\n",
       "        device='cuda:0'),\n",
       " tensor([ 0.7957, -0.1766,  1.0000, -0.4173,  0.9606,  1.0000,  0.9709,  1.0000,\n",
       "         -0.0504,  1.0000,  0.9998,  1.0000,  0.9317,  0.8098,  1.0000, -1.0000,\n",
       "          0.9749,  1.0000,  1.0000,  1.0000,  0.9999,  0.9144, -0.9914,  1.0000,\n",
       "         -0.9999,  0.8886,  1.0000,  1.0000, -0.1819, -0.7869, -1.0000,  0.7882],\n",
       "        device='cuda:0')]"
      ]
     },
     "execution_count": 30,
     "metadata": {},
     "output_type": "execute_result"
    }
   ],
   "source": [
    "r1 = raceDB.racesDict['889002573']\n",
    "[d.hidden_out for d in r1.dogs]"
   ]
  },
  {
   "cell_type": "code",
   "execution_count": null,
   "metadata": {},
   "outputs": [],
   "source": [
    "r2 = raceDB.racesDict['888958937']\n",
    "[d.hidden_out for d in r2.dogs]"
   ]
  },
  {
   "cell_type": "code",
   "execution_count": 12,
   "metadata": {},
   "outputs": [
    {
     "data": {
      "text/plain": [
       "[tensor([ 0.9106, -0.2766,  1.0000, -0.0949,  0.9689,  1.0000,  0.9905,  1.0000,\n",
       "         -0.0905,  1.0000,  1.0000,  1.0000,  1.0000,  0.8262,  1.0000, -1.0000,\n",
       "          0.9744,  1.0000,  1.0000,  0.9999,  1.0000,  0.9750, -0.9829,  1.0000,\n",
       "         -1.0000,  0.9473,  1.0000,  1.0000, -0.3731, -0.8646, -1.0000,  0.8934],\n",
       "        device='cuda:0'),\n",
       " tensor([ 0.8620, -0.3385,  1.0000, -0.2561,  0.9210,  1.0000,  0.9750,  1.0000,\n",
       "         -0.0543,  1.0000,  1.0000,  1.0000,  1.0000,  0.8020,  1.0000, -1.0000,\n",
       "          0.9561,  1.0000,  1.0000,  0.9999,  1.0000,  0.9059, -0.9992,  1.0000,\n",
       "         -1.0000,  0.9096,  1.0000,  1.0000, -0.2822, -0.8409, -1.0000,  0.7926],\n",
       "        device='cuda:0'),\n",
       " tensor([ 0.5171, -0.3337,  1.0000, -0.1794,  0.6409,  1.0000,  0.6957,  1.0000,\n",
       "          0.0075,  1.0000,  0.9998,  1.0000,  1.0000,  0.4504,  1.0000, -1.0000,\n",
       "          0.8260,  1.0000,  1.0000,  1.0000,  1.0000,  0.3620, -0.9148,  1.0000,\n",
       "         -1.0000,  0.7174,  1.0000,  1.0000, -0.3489, -0.7921, -1.0000,  0.4530],\n",
       "        device='cuda:0'),\n",
       " tensor([ 0.7350, -0.0550,  1.0000, -0.3625,  0.8194,  1.0000,  0.9013,  1.0000,\n",
       "          0.0211,  1.0000,  0.9999,  1.0000,  0.9999,  0.7244,  1.0000, -1.0000,\n",
       "          0.9136,  1.0000,  1.0000,  1.0000,  1.0000,  0.6971, -0.9976,  1.0000,\n",
       "         -1.0000,  0.8399,  1.0000,  1.0000, -0.2938, -0.8401, -1.0000,  0.6442],\n",
       "        device='cuda:0'),\n",
       " tensor([ 6.5281e-01,  2.1101e-01,  1.0000e+00, -9.7544e-02,  7.9200e-01,\n",
       "          9.9966e-01,  8.2873e-01,  1.0000e+00,  2.7068e-05,  9.9999e-01,\n",
       "          9.9915e-01,  9.9997e-01,  9.9810e-01,  6.6804e-01,  1.0000e+00,\n",
       "         -1.0000e+00,  7.6442e-01,  1.0000e+00,  1.0000e+00,  9.9999e-01,\n",
       "          9.9999e-01,  4.5294e-01, -9.6900e-01,  1.0000e+00, -1.0000e+00,\n",
       "          6.4901e-01,  1.0000e+00,  9.8299e-01, -2.0822e-01, -6.9589e-01,\n",
       "         -1.0000e+00,  5.5672e-01], device='cuda:0'),\n",
       " tensor([ 0.9155, -0.3392,  1.0000, -0.1230,  0.9386,  1.0000,  0.9914,  1.0000,\n",
       "         -0.0815,  1.0000,  1.0000,  1.0000,  1.0000,  0.8335,  1.0000, -1.0000,\n",
       "          0.9711,  1.0000,  1.0000,  0.9999,  1.0000,  0.9681, -0.9861,  1.0000,\n",
       "         -1.0000,  0.9460,  1.0000,  1.0000, -0.3091, -0.8494, -1.0000,  0.8841],\n",
       "        device='cuda:0'),\n",
       " tensor([ 0.9031, -0.0580,  1.0000, -0.1951,  0.9546,  1.0000,  0.9838,  1.0000,\n",
       "          0.0134,  1.0000,  1.0000,  1.0000,  1.0000,  0.8161,  1.0000, -1.0000,\n",
       "          0.9614,  1.0000,  1.0000,  0.9999,  1.0000,  0.9474, -0.9836,  1.0000,\n",
       "         -1.0000,  0.9304,  1.0000,  1.0000, -0.2269, -0.8380, -1.0000,  0.8005],\n",
       "        device='cuda:0'),\n",
       " tensor([ 0.8263, -0.3520,  1.0000, -0.1736,  0.8819,  1.0000,  0.9715,  1.0000,\n",
       "         -0.0142,  1.0000,  0.9999,  1.0000,  1.0000,  0.7794,  1.0000, -1.0000,\n",
       "          0.9454,  1.0000,  1.0000,  0.9999,  1.0000,  0.8859, -0.9698,  1.0000,\n",
       "         -1.0000,  0.8862,  1.0000,  1.0000, -0.2133, -0.7220, -1.0000,  0.7815],\n",
       "        device='cuda:0')]"
      ]
     },
     "execution_count": 12,
     "metadata": {},
     "output_type": "execute_result"
    }
   ],
   "source": [
    "r2 = raceDB.racesDict['888958937']\n",
    "[d.hidden_out for d in r2.dogs]"
   ]
  },
  {
   "cell_type": "code",
   "execution_count": 13,
   "metadata": {},
   "outputs": [
    {
     "data": {
      "text/plain": [
       "[tensor([ 0.8786, -0.3437,  1.0000, -0.2264,  0.9437,  1.0000,  0.9808,  1.0000,\n",
       "         -0.0790,  1.0000,  1.0000,  1.0000,  1.0000,  0.8052,  1.0000, -1.0000,\n",
       "          0.9682,  1.0000,  1.0000,  0.9999,  1.0000,  0.9474, -0.9994,  1.0000,\n",
       "         -1.0000,  0.9246,  1.0000,  1.0000, -0.3085, -0.8532, -1.0000,  0.8532],\n",
       "        device='cuda:0'),\n",
       " tensor([ 0.9456, -0.3510,  1.0000, -0.1925,  0.9886,  1.0000,  0.9953,  1.0000,\n",
       "         -0.1668,  1.0000,  1.0000,  1.0000,  1.0000,  0.8488,  1.0000, -1.0000,\n",
       "          0.9806,  1.0000,  1.0000,  0.9998,  1.0000,  0.9844, -0.9989,  1.0000,\n",
       "         -1.0000,  0.9610,  1.0000,  1.0000, -0.3682, -0.8771, -1.0000,  0.9340],\n",
       "        device='cuda:0'),\n",
       " tensor([ 0.5399,  0.3814,  1.0000, -0.4527,  0.7558,  1.0000,  0.8464,  1.0000,\n",
       "         -0.2268,  0.1155,  0.9999,  1.0000,  0.9999,  0.4774,  1.0000, -1.0000,\n",
       "          0.8484,  1.0000,  1.0000,  1.0000,  1.0000,  0.4048, -0.3867,  1.0000,\n",
       "         -0.9999,  0.6606,  1.0000,  0.9998,  0.0139, -0.6375, -1.0000,  0.4614],\n",
       "        device='cuda:0'),\n",
       " tensor([ 0.7398, -0.3268,  1.0000, -0.4034,  0.8149,  1.0000,  0.9152,  1.0000,\n",
       "          0.0082,  1.0000,  0.9999,  1.0000,  1.0000,  0.7631,  1.0000, -1.0000,\n",
       "          0.9179,  1.0000,  1.0000,  1.0000,  1.0000,  0.7034, -0.9995,  1.0000,\n",
       "         -1.0000,  0.8419,  1.0000,  1.0000, -0.3049, -0.8431, -1.0000,  0.6497],\n",
       "        device='cuda:0'),\n",
       " tensor([ 0.9077, -0.3635,  1.0000, -0.4071,  0.9756,  1.0000,  0.9923,  1.0000,\n",
       "         -0.0648,  1.0000,  1.0000,  1.0000,  1.0000,  0.8266,  1.0000, -1.0000,\n",
       "          0.9764,  1.0000,  1.0000,  0.9999,  1.0000,  0.9684, -0.9982,  1.0000,\n",
       "         -1.0000,  0.9505,  1.0000,  1.0000, -0.2644, -0.8847, -1.0000,  0.8662],\n",
       "        device='cuda:0'),\n",
       " tensor([ 0.8565, -0.1284,  1.0000, -0.4644,  0.8808,  1.0000,  0.9752,  1.0000,\n",
       "         -0.0148,  1.0000,  1.0000,  1.0000,  1.0000,  0.8038,  1.0000, -1.0000,\n",
       "          0.9539,  1.0000,  1.0000,  1.0000,  1.0000,  0.8529, -0.9984,  1.0000,\n",
       "         -1.0000,  0.8949,  1.0000,  1.0000, -0.2550, -0.8734, -1.0000,  0.7014],\n",
       "        device='cuda:0'),\n",
       " tensor([ 0.8711, -0.3398,  1.0000, -0.3955,  0.9067,  1.0000,  0.9847,  1.0000,\n",
       "         -0.0806,  1.0000,  1.0000,  1.0000,  1.0000,  0.8212,  1.0000, -1.0000,\n",
       "          0.9665,  1.0000,  1.0000,  1.0000,  1.0000,  0.9095, -0.9999,  1.0000,\n",
       "         -1.0000,  0.9176,  1.0000,  1.0000, -0.3154, -0.8864, -1.0000,  0.8098],\n",
       "        device='cuda:0'),\n",
       " tensor([ 0.8317, -0.1065,  1.0000, -0.4708,  0.8837,  1.0000,  0.9789,  1.0000,\n",
       "          0.0787,  1.0000,  1.0000,  1.0000,  1.0000,  0.8142,  1.0000, -1.0000,\n",
       "          0.9551,  1.0000,  1.0000,  1.0000,  1.0000,  0.8672, -0.9999,  1.0000,\n",
       "         -1.0000,  0.8967,  1.0000,  1.0000, -0.3003, -0.8667, -1.0000,  0.7362],\n",
       "        device='cuda:0')]"
      ]
     },
     "execution_count": 13,
     "metadata": {},
     "output_type": "execute_result"
    }
   ],
   "source": [
    "r5 = raceDB.racesDict['889002554']\n",
    "[d.hidden_out for d in r5.dogs]"
   ]
  },
  {
   "cell_type": "code",
   "execution_count": 18,
   "metadata": {},
   "outputs": [
    {
     "data": {
      "text/plain": [
       "tensor([[ 5.1500e+02,  0.0000e+00,  0.0000e+00,  0.0000e+00,  0.0000e+00,\n",
       "          0.0000e+00,  0.0000e+00,  0.0000e+00,  0.0000e+00,  0.0000e+00,\n",
       "          0.0000e+00,  0.0000e+00,  0.0000e+00,  0.0000e+00,  0.0000e+00,\n",
       "          0.0000e+00,  0.0000e+00,  0.0000e+00,  0.0000e+00,  0.0000e+00,\n",
       "          0.0000e+00,  0.0000e+00,  0.0000e+00,  0.0000e+00,  0.0000e+00,\n",
       "          0.0000e+00,  0.0000e+00,  0.0000e+00,  0.0000e+00,  0.0000e+00,\n",
       "          0.0000e+00,  0.0000e+00,  0.0000e+00,  0.0000e+00,  0.0000e+00,\n",
       "          0.0000e+00,  0.0000e+00,  0.0000e+00,  0.0000e+00,  0.0000e+00,\n",
       "          0.0000e+00,  0.0000e+00,  0.0000e+00,  0.0000e+00,  0.0000e+00,\n",
       "          0.0000e+00,  0.0000e+00,  0.0000e+00,  0.0000e+00,  0.0000e+00,\n",
       "          1.0000e+00,  0.0000e+00,  0.0000e+00,  0.0000e+00,  0.0000e+00,\n",
       "          0.0000e+00,  0.0000e+00,  0.0000e+00,  0.0000e+00,  0.0000e+00,\n",
       "          0.0000e+00,  0.0000e+00,  0.0000e+00,  0.0000e+00,  0.0000e+00,\n",
       "          0.0000e+00,  0.0000e+00,  0.0000e+00,  0.0000e+00,  0.0000e+00,\n",
       "          9.1058e-01, -2.7656e-01,  1.0000e+00, -9.4893e-02,  9.6895e-01,\n",
       "          1.0000e+00,  9.9049e-01,  1.0000e+00, -9.0530e-02,  1.0000e+00,\n",
       "          9.9997e-01,  1.0000e+00,  1.0000e+00,  8.2617e-01,  1.0000e+00,\n",
       "         -1.0000e+00,  9.7440e-01,  1.0000e+00,  9.9999e-01,  9.9986e-01,\n",
       "          9.9999e-01,  9.7500e-01, -9.8294e-01,  1.0000e+00, -1.0000e+00,\n",
       "          9.4729e-01,  1.0000e+00,  1.0000e+00, -3.7315e-01, -8.6464e-01,\n",
       "         -1.0000e+00,  8.9344e-01,  8.6204e-01, -3.3850e-01,  1.0000e+00,\n",
       "         -2.5612e-01,  9.2096e-01,  1.0000e+00,  9.7499e-01,  1.0000e+00,\n",
       "         -5.4258e-02,  1.0000e+00,  9.9996e-01,  1.0000e+00,  1.0000e+00,\n",
       "          8.0203e-01,  1.0000e+00, -1.0000e+00,  9.5606e-01,  1.0000e+00,\n",
       "          1.0000e+00,  9.9992e-01,  9.9999e-01,  9.0587e-01, -9.9923e-01,\n",
       "          1.0000e+00, -1.0000e+00,  9.0964e-01,  1.0000e+00,  1.0000e+00,\n",
       "         -2.8222e-01, -8.4092e-01, -1.0000e+00,  7.9261e-01,  5.1713e-01,\n",
       "         -3.3370e-01,  1.0000e+00, -1.7941e-01,  6.4092e-01,  9.9999e-01,\n",
       "          6.9569e-01,  1.0000e+00,  7.4791e-03,  1.0000e+00,  9.9982e-01,\n",
       "          1.0000e+00,  9.9998e-01,  4.5036e-01,  1.0000e+00, -1.0000e+00,\n",
       "          8.2604e-01,  1.0000e+00,  1.0000e+00,  9.9999e-01,  9.9999e-01,\n",
       "          3.6202e-01, -9.1479e-01,  1.0000e+00, -9.9999e-01,  7.1739e-01,\n",
       "          1.0000e+00,  9.9997e-01, -3.4887e-01, -7.9209e-01, -1.0000e+00,\n",
       "          4.5296e-01,  7.3505e-01, -5.5036e-02,  1.0000e+00, -3.6252e-01,\n",
       "          8.1942e-01,  1.0000e+00,  9.0129e-01,  1.0000e+00,  2.1103e-02,\n",
       "          1.0000e+00,  9.9991e-01,  1.0000e+00,  9.9993e-01,  7.2443e-01,\n",
       "          1.0000e+00, -1.0000e+00,  9.1365e-01,  1.0000e+00,  1.0000e+00,\n",
       "          9.9998e-01,  9.9999e-01,  6.9711e-01, -9.9757e-01,  1.0000e+00,\n",
       "         -1.0000e+00,  8.3987e-01,  1.0000e+00,  9.9999e-01, -2.9378e-01,\n",
       "         -8.4008e-01, -1.0000e+00,  6.4419e-01,  6.5281e-01,  2.1101e-01,\n",
       "          1.0000e+00, -9.7544e-02,  7.9200e-01,  9.9966e-01,  8.2873e-01,\n",
       "          1.0000e+00,  2.7068e-05,  9.9999e-01,  9.9915e-01,  9.9997e-01,\n",
       "          9.9810e-01,  6.6804e-01,  1.0000e+00, -1.0000e+00,  7.6442e-01,\n",
       "          1.0000e+00,  1.0000e+00,  9.9999e-01,  9.9999e-01,  4.5294e-01,\n",
       "         -9.6900e-01,  1.0000e+00, -1.0000e+00,  6.4901e-01,  1.0000e+00,\n",
       "          9.8299e-01, -2.0822e-01, -6.9589e-01, -1.0000e+00,  5.5672e-01,\n",
       "          9.1548e-01, -3.3919e-01,  1.0000e+00, -1.2296e-01,  9.3857e-01,\n",
       "          1.0000e+00,  9.9139e-01,  1.0000e+00, -8.1452e-02,  9.9996e-01,\n",
       "          9.9998e-01,  1.0000e+00,  1.0000e+00,  8.3353e-01,  1.0000e+00,\n",
       "         -1.0000e+00,  9.7109e-01,  1.0000e+00,  1.0000e+00,  9.9986e-01,\n",
       "          9.9999e-01,  9.6807e-01, -9.8613e-01,  1.0000e+00, -1.0000e+00,\n",
       "          9.4599e-01,  1.0000e+00,  1.0000e+00, -3.0913e-01, -8.4941e-01,\n",
       "         -1.0000e+00,  8.8405e-01,  9.0305e-01, -5.7951e-02,  1.0000e+00,\n",
       "         -1.9510e-01,  9.5464e-01,  1.0000e+00,  9.8382e-01,  1.0000e+00,\n",
       "          1.3448e-02,  9.9999e-01,  9.9996e-01,  1.0000e+00,  1.0000e+00,\n",
       "          8.1608e-01,  1.0000e+00, -1.0000e+00,  9.6141e-01,  1.0000e+00,\n",
       "          1.0000e+00,  9.9995e-01,  9.9999e-01,  9.4740e-01, -9.8357e-01,\n",
       "          1.0000e+00, -1.0000e+00,  9.3040e-01,  1.0000e+00,  1.0000e+00,\n",
       "         -2.2691e-01, -8.3799e-01, -1.0000e+00,  8.0046e-01,  8.2629e-01,\n",
       "         -3.5195e-01,  1.0000e+00, -1.7363e-01,  8.8188e-01,  9.9999e-01,\n",
       "          9.7154e-01,  1.0000e+00, -1.4207e-02,  9.9997e-01,  9.9995e-01,\n",
       "          1.0000e+00,  9.9995e-01,  7.7938e-01,  1.0000e+00, -1.0000e+00,\n",
       "          9.4542e-01,  1.0000e+00,  1.0000e+00,  9.9992e-01,  9.9999e-01,\n",
       "          8.8588e-01, -9.6981e-01,  1.0000e+00, -1.0000e+00,  8.8619e-01,\n",
       "          1.0000e+00,  1.0000e+00, -2.1331e-01, -7.2202e-01, -1.0000e+00,\n",
       "          7.8146e-01],\n",
       "        [ 5.9500e+02,  0.0000e+00,  0.0000e+00,  0.0000e+00,  0.0000e+00,\n",
       "          0.0000e+00,  0.0000e+00,  0.0000e+00,  0.0000e+00,  0.0000e+00,\n",
       "          0.0000e+00,  0.0000e+00,  0.0000e+00,  0.0000e+00,  0.0000e+00,\n",
       "          0.0000e+00,  0.0000e+00,  0.0000e+00,  0.0000e+00,  0.0000e+00,\n",
       "          0.0000e+00,  0.0000e+00,  0.0000e+00,  0.0000e+00,  0.0000e+00,\n",
       "          0.0000e+00,  0.0000e+00,  0.0000e+00,  0.0000e+00,  0.0000e+00,\n",
       "          0.0000e+00,  0.0000e+00,  0.0000e+00,  0.0000e+00,  0.0000e+00,\n",
       "          0.0000e+00,  0.0000e+00,  0.0000e+00,  0.0000e+00,  0.0000e+00,\n",
       "          0.0000e+00,  0.0000e+00,  0.0000e+00,  0.0000e+00,  0.0000e+00,\n",
       "          0.0000e+00,  0.0000e+00,  0.0000e+00,  0.0000e+00,  0.0000e+00,\n",
       "          1.0000e+00,  0.0000e+00,  0.0000e+00,  0.0000e+00,  0.0000e+00,\n",
       "          0.0000e+00,  0.0000e+00,  0.0000e+00,  0.0000e+00,  0.0000e+00,\n",
       "          0.0000e+00,  0.0000e+00,  0.0000e+00,  0.0000e+00,  0.0000e+00,\n",
       "          0.0000e+00,  0.0000e+00,  0.0000e+00,  0.0000e+00,  0.0000e+00,\n",
       "          8.7862e-01, -3.4367e-01,  1.0000e+00, -2.2640e-01,  9.4370e-01,\n",
       "          1.0000e+00,  9.8084e-01,  1.0000e+00, -7.8974e-02,  1.0000e+00,\n",
       "          9.9997e-01,  1.0000e+00,  1.0000e+00,  8.0518e-01,  1.0000e+00,\n",
       "         -1.0000e+00,  9.6820e-01,  1.0000e+00,  1.0000e+00,  9.9988e-01,\n",
       "          9.9999e-01,  9.4737e-01, -9.9939e-01,  1.0000e+00, -1.0000e+00,\n",
       "          9.2459e-01,  1.0000e+00,  1.0000e+00, -3.0847e-01, -8.5319e-01,\n",
       "         -1.0000e+00,  8.5321e-01,  9.4562e-01, -3.5100e-01,  1.0000e+00,\n",
       "         -1.9252e-01,  9.8864e-01,  1.0000e+00,  9.9534e-01,  1.0000e+00,\n",
       "         -1.6681e-01,  1.0000e+00,  9.9998e-01,  1.0000e+00,  1.0000e+00,\n",
       "          8.4878e-01,  1.0000e+00, -1.0000e+00,  9.8064e-01,  1.0000e+00,\n",
       "          9.9999e-01,  9.9983e-01,  9.9999e-01,  9.8444e-01, -9.9886e-01,\n",
       "          1.0000e+00, -1.0000e+00,  9.6098e-01,  1.0000e+00,  1.0000e+00,\n",
       "         -3.6821e-01, -8.7707e-01, -1.0000e+00,  9.3405e-01,  5.3986e-01,\n",
       "          3.8136e-01,  1.0000e+00, -4.5271e-01,  7.5577e-01,  9.9998e-01,\n",
       "          8.4639e-01,  1.0000e+00, -2.2681e-01,  1.1550e-01,  9.9989e-01,\n",
       "          1.0000e+00,  9.9993e-01,  4.7736e-01,  1.0000e+00, -1.0000e+00,\n",
       "          8.4844e-01,  1.0000e+00,  1.0000e+00,  1.0000e+00,  9.9999e-01,\n",
       "          4.0478e-01, -3.8666e-01,  1.0000e+00, -9.9994e-01,  6.6057e-01,\n",
       "          1.0000e+00,  9.9979e-01,  1.3914e-02, -6.3750e-01, -1.0000e+00,\n",
       "          4.6141e-01,  7.3979e-01, -3.2676e-01,  1.0000e+00, -4.0338e-01,\n",
       "          8.1491e-01,  1.0000e+00,  9.1517e-01,  1.0000e+00,  8.2039e-03,\n",
       "          1.0000e+00,  9.9993e-01,  1.0000e+00,  9.9999e-01,  7.6314e-01,\n",
       "          1.0000e+00, -1.0000e+00,  9.1785e-01,  1.0000e+00,  1.0000e+00,\n",
       "          9.9997e-01,  9.9999e-01,  7.0337e-01, -9.9950e-01,  1.0000e+00,\n",
       "         -1.0000e+00,  8.4193e-01,  1.0000e+00,  1.0000e+00, -3.0494e-01,\n",
       "         -8.4312e-01, -1.0000e+00,  6.4968e-01,  9.0768e-01, -3.6352e-01,\n",
       "          1.0000e+00, -4.0707e-01,  9.7562e-01,  1.0000e+00,  9.9233e-01,\n",
       "          1.0000e+00, -6.4785e-02,  1.0000e+00,  9.9997e-01,  1.0000e+00,\n",
       "          1.0000e+00,  8.2664e-01,  1.0000e+00, -1.0000e+00,  9.7637e-01,\n",
       "          1.0000e+00,  9.9999e-01,  9.9990e-01,  9.9999e-01,  9.6839e-01,\n",
       "         -9.9821e-01,  1.0000e+00, -1.0000e+00,  9.5054e-01,  1.0000e+00,\n",
       "          1.0000e+00, -2.6436e-01, -8.8472e-01, -1.0000e+00,  8.6624e-01,\n",
       "          8.5647e-01, -1.2841e-01,  1.0000e+00, -4.6444e-01,  8.8077e-01,\n",
       "          1.0000e+00,  9.7521e-01,  1.0000e+00, -1.4756e-02,  1.0000e+00,\n",
       "          9.9997e-01,  1.0000e+00,  9.9999e-01,  8.0379e-01,  1.0000e+00,\n",
       "         -1.0000e+00,  9.5387e-01,  1.0000e+00,  1.0000e+00,  9.9997e-01,\n",
       "          9.9999e-01,  8.5290e-01, -9.9837e-01,  1.0000e+00, -1.0000e+00,\n",
       "          8.9492e-01,  1.0000e+00,  1.0000e+00, -2.5500e-01, -8.7344e-01,\n",
       "         -1.0000e+00,  7.0143e-01,  8.7114e-01, -3.3983e-01,  1.0000e+00,\n",
       "         -3.9551e-01,  9.0672e-01,  9.9999e-01,  9.8473e-01,  1.0000e+00,\n",
       "         -8.0619e-02,  1.0000e+00,  9.9997e-01,  1.0000e+00,  1.0000e+00,\n",
       "          8.2121e-01,  1.0000e+00, -1.0000e+00,  9.6652e-01,  1.0000e+00,\n",
       "          1.0000e+00,  9.9997e-01,  9.9999e-01,  9.0949e-01, -9.9992e-01,\n",
       "          1.0000e+00, -1.0000e+00,  9.1755e-01,  1.0000e+00,  1.0000e+00,\n",
       "         -3.1544e-01, -8.8637e-01, -1.0000e+00,  8.0982e-01,  8.3173e-01,\n",
       "         -1.0646e-01,  1.0000e+00, -4.7079e-01,  8.8371e-01,  1.0000e+00,\n",
       "          9.7890e-01,  1.0000e+00,  7.8736e-02,  1.0000e+00,  9.9995e-01,\n",
       "          1.0000e+00,  9.9999e-01,  8.1419e-01,  1.0000e+00, -1.0000e+00,\n",
       "          9.5509e-01,  1.0000e+00,  1.0000e+00,  9.9998e-01,  9.9999e-01,\n",
       "          8.6719e-01, -9.9993e-01,  1.0000e+00, -1.0000e+00,  8.9671e-01,\n",
       "          1.0000e+00,  1.0000e+00, -3.0032e-01, -8.6675e-01, -1.0000e+00,\n",
       "          7.3620e-01]], device='cuda:0', dtype=torch.float64)"
      ]
     },
     "execution_count": 18,
     "metadata": {},
     "output_type": "execute_result"
    }
   ],
   "source": [
    "X"
   ]
  },
  {
   "cell_type": "code",
   "execution_count": 31,
   "metadata": {},
   "outputs": [
    {
     "data": {
      "text/plain": [
       "tensor([[-0.7482,  2.0313, -0.8095,  0.1577, -1.3425, -2.5996, -0.4175,  2.8692],\n",
       "        [ 0.2941,  0.0723, -0.0915, -0.1145, -0.2073, -0.2170, -0.1494, -0.0454],\n",
       "        [ 0.2941,  0.0723, -0.0915, -0.1145, -0.2073, -0.2170, -0.1494, -0.0454]],\n",
       "       device='cuda:0', grad_fn=<AddmmBackward0>)"
      ]
     },
     "execution_count": 31,
     "metadata": {},
     "output_type": "execute_result"
    }
   ],
   "source": [
    "X = torch.stack([r.hidden_in for r in [r1,r2,r5]])\n",
    "model(X, p1=False)"
   ]
  },
  {
   "cell_type": "code",
   "execution_count": 32,
   "metadata": {},
   "outputs": [],
   "source": [
    "rl1 = model.rl1(X.float())\n",
    "fc1 = model.fc1(rl1)\n",
    "rl2 = model.rl2(fc1)\n",
    "fc2 = model.fc2(rl2)"
   ]
  },
  {
   "cell_type": "code",
   "execution_count": 34,
   "metadata": {},
   "outputs": [
    {
     "data": {
      "text/plain": [
       "tensor([[  2.6254,   1.7583,   0.1411,  -3.2357,  -4.0776,   3.2286,  -4.7894,\n",
       "         -16.6218,  -9.1629,  -6.7510, -15.4404,  -1.4580,   1.5123,   1.2001,\n",
       "           2.7232,  -8.0677, -25.2226, -10.2728,  -4.2995,  -3.2322, -11.8672,\n",
       "           4.7934, -17.5518, -13.5397,   1.6137,   0.5465, -29.5264,   3.5766,\n",
       "          -8.8270,   0.3942,  -0.2158, -24.7863, -11.7491, -11.2108,   0.9078,\n",
       "          -4.2446,   2.2536, -13.1783, -20.6844,  -2.3124,  -3.0117,   2.7220,\n",
       "           2.1446, -19.4526, -18.0167,  -4.6072,   3.5481,   6.2097,   1.6527,\n",
       "         -11.8739, -28.4224,  -4.3799,  -2.8509, -11.1404,  -7.7076, -13.7618,\n",
       "          -5.6789,  -1.2436, -14.1827,  -2.7575,  -7.0737,  -6.3545, -11.5823,\n",
       "         -16.0918],\n",
       "        [ -5.0322,  -2.4691,  -6.1479, -19.0814,  -5.2419,  -4.2905,  -1.6341,\n",
       "         -12.2911, -17.9578, -17.8259, -20.6278, -18.0657, -18.9996,  -5.9878,\n",
       "          -6.4022, -14.6446, -28.6712, -17.6169,  -9.4557,  -5.6060, -23.7683,\n",
       "          -5.7024, -27.2382, -19.9811,  -1.4696, -11.5331, -26.7995,  -2.2639,\n",
       "         -23.3423,  -7.7864, -11.3938, -35.4638, -16.3680, -19.7779,  -8.1300,\n",
       "         -14.7196,  -4.6486, -21.0658, -31.0161,  -1.5479, -13.8227,  -2.0964,\n",
       "          -8.7497, -32.8247, -28.1984,  -6.8635,  -9.0811,  -2.9411, -22.7757,\n",
       "         -22.4800, -33.9551, -10.1841,  -6.3683,  -4.1885,  -8.5754, -23.2369,\n",
       "         -25.4153,  -4.6158, -19.6882,  -2.2408,  -5.4264,  -7.8154, -12.9176,\n",
       "         -22.8487],\n",
       "        [ -6.1508,  -1.9717,  -4.3293, -20.1974,  -5.6281,  -6.1436,  -0.6488,\n",
       "         -12.0438, -22.0841, -22.1992, -22.9913, -17.8946, -17.0886,  -4.3152,\n",
       "          -6.2827, -17.0727, -30.0808, -18.0221, -14.6687,  -5.8644, -26.4870,\n",
       "          -4.4190, -30.9870, -22.6734,  -0.9003, -12.5531, -26.2322,  -3.3962,\n",
       "         -25.4083,  -8.5799, -10.9661, -39.1436, -18.8631, -18.7613,  -7.1615,\n",
       "         -15.5524,  -5.3103, -20.9529, -32.6814,  -2.5947, -14.3983,  -4.4631,\n",
       "          -8.1491, -35.6959, -30.2189,  -5.3488, -12.3088,  -2.0598, -21.7446,\n",
       "         -22.0186, -36.5767, -12.4641,  -7.3584,  -4.3349, -10.5736, -22.5599,\n",
       "         -24.3297,  -3.2801, -20.8214,  -4.8687,  -5.5609,  -7.0028, -15.1487,\n",
       "         -25.4696]], device='cuda:0', grad_fn=<AddmmBackward0>)"
      ]
     },
     "execution_count": 34,
     "metadata": {},
     "output_type": "execute_result"
    }
   ],
   "source": [
    "fc1"
   ]
  },
  {
   "cell_type": "code",
   "execution_count": 33,
   "metadata": {},
   "outputs": [
    {
     "data": {
      "text/plain": [
       "tensor([[2.6254, 1.7583, 0.1411, 0.0000, 0.0000, 3.2286, 0.0000, 0.0000, 0.0000,\n",
       "         0.0000, 0.0000, 0.0000, 1.5123, 1.2001, 2.7232, 0.0000, 0.0000, 0.0000,\n",
       "         0.0000, 0.0000, 0.0000, 4.7934, 0.0000, 0.0000, 1.6137, 0.5465, 0.0000,\n",
       "         3.5766, 0.0000, 0.3942, 0.0000, 0.0000, 0.0000, 0.0000, 0.9078, 0.0000,\n",
       "         2.2536, 0.0000, 0.0000, 0.0000, 0.0000, 2.7220, 2.1446, 0.0000, 0.0000,\n",
       "         0.0000, 3.5481, 6.2097, 1.6527, 0.0000, 0.0000, 0.0000, 0.0000, 0.0000,\n",
       "         0.0000, 0.0000, 0.0000, 0.0000, 0.0000, 0.0000, 0.0000, 0.0000, 0.0000,\n",
       "         0.0000],\n",
       "        [0.0000, 0.0000, 0.0000, 0.0000, 0.0000, 0.0000, 0.0000, 0.0000, 0.0000,\n",
       "         0.0000, 0.0000, 0.0000, 0.0000, 0.0000, 0.0000, 0.0000, 0.0000, 0.0000,\n",
       "         0.0000, 0.0000, 0.0000, 0.0000, 0.0000, 0.0000, 0.0000, 0.0000, 0.0000,\n",
       "         0.0000, 0.0000, 0.0000, 0.0000, 0.0000, 0.0000, 0.0000, 0.0000, 0.0000,\n",
       "         0.0000, 0.0000, 0.0000, 0.0000, 0.0000, 0.0000, 0.0000, 0.0000, 0.0000,\n",
       "         0.0000, 0.0000, 0.0000, 0.0000, 0.0000, 0.0000, 0.0000, 0.0000, 0.0000,\n",
       "         0.0000, 0.0000, 0.0000, 0.0000, 0.0000, 0.0000, 0.0000, 0.0000, 0.0000,\n",
       "         0.0000],\n",
       "        [0.0000, 0.0000, 0.0000, 0.0000, 0.0000, 0.0000, 0.0000, 0.0000, 0.0000,\n",
       "         0.0000, 0.0000, 0.0000, 0.0000, 0.0000, 0.0000, 0.0000, 0.0000, 0.0000,\n",
       "         0.0000, 0.0000, 0.0000, 0.0000, 0.0000, 0.0000, 0.0000, 0.0000, 0.0000,\n",
       "         0.0000, 0.0000, 0.0000, 0.0000, 0.0000, 0.0000, 0.0000, 0.0000, 0.0000,\n",
       "         0.0000, 0.0000, 0.0000, 0.0000, 0.0000, 0.0000, 0.0000, 0.0000, 0.0000,\n",
       "         0.0000, 0.0000, 0.0000, 0.0000, 0.0000, 0.0000, 0.0000, 0.0000, 0.0000,\n",
       "         0.0000, 0.0000, 0.0000, 0.0000, 0.0000, 0.0000, 0.0000, 0.0000, 0.0000,\n",
       "         0.0000]], device='cuda:0', grad_fn=<ReluBackward0>)"
      ]
     },
     "execution_count": 33,
     "metadata": {},
     "output_type": "execute_result"
    }
   ],
   "source": [
    "rl2"
   ]
  },
  {
   "cell_type": "code",
   "execution_count": 28,
   "metadata": {},
   "outputs": [
    {
     "data": {
      "text/plain": [
       "tensor([[ 0.2941,  0.0723, -0.0915, -0.1145, -0.2073, -0.2170, -0.1494, -0.0454],\n",
       "        [ 0.2941,  0.0723, -0.0915, -0.1145, -0.2073, -0.2170, -0.1494, -0.0454]],\n",
       "       device='cuda:0', grad_fn=<AddmmBackward0>)"
      ]
     },
     "execution_count": 28,
     "metadata": {},
     "output_type": "execute_result"
    }
   ],
   "source": [
    "fc2"
   ]
  },
  {
   "cell_type": "code",
   "execution_count": 21,
   "metadata": {},
   "outputs": [
    {
     "data": {
      "text/plain": [
       "tensor([[ 5.1500e+02,  0.0000e+00,  0.0000e+00,  0.0000e+00,  0.0000e+00,\n",
       "          0.0000e+00,  0.0000e+00,  0.0000e+00,  0.0000e+00,  0.0000e+00,\n",
       "          0.0000e+00,  0.0000e+00,  0.0000e+00,  0.0000e+00,  0.0000e+00,\n",
       "          0.0000e+00,  0.0000e+00,  0.0000e+00,  0.0000e+00,  0.0000e+00,\n",
       "          0.0000e+00,  0.0000e+00,  0.0000e+00,  0.0000e+00,  0.0000e+00,\n",
       "          0.0000e+00,  0.0000e+00,  0.0000e+00,  0.0000e+00,  0.0000e+00,\n",
       "          0.0000e+00,  0.0000e+00,  0.0000e+00,  0.0000e+00,  0.0000e+00,\n",
       "          0.0000e+00,  0.0000e+00,  0.0000e+00,  0.0000e+00,  0.0000e+00,\n",
       "          0.0000e+00,  0.0000e+00,  0.0000e+00,  0.0000e+00,  0.0000e+00,\n",
       "          0.0000e+00,  0.0000e+00,  0.0000e+00,  0.0000e+00,  0.0000e+00,\n",
       "          1.0000e+00,  0.0000e+00,  0.0000e+00,  0.0000e+00,  0.0000e+00,\n",
       "          0.0000e+00,  0.0000e+00,  0.0000e+00,  0.0000e+00,  0.0000e+00,\n",
       "          0.0000e+00,  0.0000e+00,  0.0000e+00,  0.0000e+00,  0.0000e+00,\n",
       "          0.0000e+00,  0.0000e+00,  0.0000e+00,  0.0000e+00,  0.0000e+00,\n",
       "          9.1058e-01, -2.7656e-01,  1.0000e+00, -9.4893e-02,  9.6895e-01,\n",
       "          1.0000e+00,  9.9049e-01,  1.0000e+00, -9.0530e-02,  1.0000e+00,\n",
       "          9.9997e-01,  1.0000e+00,  1.0000e+00,  8.2617e-01,  1.0000e+00,\n",
       "         -1.0000e+00,  9.7440e-01,  1.0000e+00,  9.9999e-01,  9.9986e-01,\n",
       "          9.9999e-01,  9.7500e-01, -9.8294e-01,  1.0000e+00, -1.0000e+00,\n",
       "          9.4729e-01,  1.0000e+00,  1.0000e+00, -3.7315e-01, -8.6464e-01,\n",
       "         -1.0000e+00,  8.9344e-01,  8.6204e-01, -3.3850e-01,  1.0000e+00,\n",
       "         -2.5612e-01,  9.2096e-01,  1.0000e+00,  9.7499e-01,  1.0000e+00,\n",
       "         -5.4258e-02,  1.0000e+00,  9.9996e-01,  1.0000e+00,  1.0000e+00,\n",
       "          8.0203e-01,  1.0000e+00, -1.0000e+00,  9.5606e-01,  1.0000e+00,\n",
       "          1.0000e+00,  9.9992e-01,  9.9999e-01,  9.0587e-01, -9.9923e-01,\n",
       "          1.0000e+00, -1.0000e+00,  9.0964e-01,  1.0000e+00,  1.0000e+00,\n",
       "         -2.8222e-01, -8.4092e-01, -1.0000e+00,  7.9261e-01,  5.1713e-01,\n",
       "         -3.3370e-01,  1.0000e+00, -1.7941e-01,  6.4092e-01,  9.9999e-01,\n",
       "          6.9569e-01,  1.0000e+00,  7.4791e-03,  1.0000e+00,  9.9982e-01,\n",
       "          1.0000e+00,  9.9998e-01,  4.5036e-01,  1.0000e+00, -1.0000e+00,\n",
       "          8.2604e-01,  1.0000e+00,  1.0000e+00,  9.9999e-01,  9.9999e-01,\n",
       "          3.6202e-01, -9.1479e-01,  1.0000e+00, -9.9999e-01,  7.1739e-01,\n",
       "          1.0000e+00,  9.9997e-01, -3.4887e-01, -7.9209e-01, -1.0000e+00,\n",
       "          4.5296e-01,  7.3505e-01, -5.5036e-02,  1.0000e+00, -3.6252e-01,\n",
       "          8.1942e-01,  1.0000e+00,  9.0129e-01,  1.0000e+00,  2.1103e-02,\n",
       "          1.0000e+00,  9.9991e-01,  1.0000e+00,  9.9993e-01,  7.2443e-01,\n",
       "          1.0000e+00, -1.0000e+00,  9.1365e-01,  1.0000e+00,  1.0000e+00,\n",
       "          9.9998e-01,  9.9999e-01,  6.9711e-01, -9.9757e-01,  1.0000e+00,\n",
       "         -1.0000e+00,  8.3987e-01,  1.0000e+00,  9.9999e-01, -2.9378e-01,\n",
       "         -8.4008e-01, -1.0000e+00,  6.4419e-01,  6.5281e-01,  2.1101e-01,\n",
       "          1.0000e+00, -9.7544e-02,  7.9200e-01,  9.9966e-01,  8.2873e-01,\n",
       "          1.0000e+00,  2.7068e-05,  9.9999e-01,  9.9915e-01,  9.9997e-01,\n",
       "          9.9810e-01,  6.6804e-01,  1.0000e+00, -1.0000e+00,  7.6442e-01,\n",
       "          1.0000e+00,  1.0000e+00,  9.9999e-01,  9.9999e-01,  4.5294e-01,\n",
       "         -9.6900e-01,  1.0000e+00, -1.0000e+00,  6.4901e-01,  1.0000e+00,\n",
       "          9.8299e-01, -2.0822e-01, -6.9589e-01, -1.0000e+00,  5.5672e-01,\n",
       "          9.1548e-01, -3.3919e-01,  1.0000e+00, -1.2296e-01,  9.3857e-01,\n",
       "          1.0000e+00,  9.9139e-01,  1.0000e+00, -8.1452e-02,  9.9996e-01,\n",
       "          9.9998e-01,  1.0000e+00,  1.0000e+00,  8.3353e-01,  1.0000e+00,\n",
       "         -1.0000e+00,  9.7109e-01,  1.0000e+00,  1.0000e+00,  9.9986e-01,\n",
       "          9.9999e-01,  9.6807e-01, -9.8613e-01,  1.0000e+00, -1.0000e+00,\n",
       "          9.4599e-01,  1.0000e+00,  1.0000e+00, -3.0913e-01, -8.4941e-01,\n",
       "         -1.0000e+00,  8.8405e-01,  9.0305e-01, -5.7951e-02,  1.0000e+00,\n",
       "         -1.9510e-01,  9.5464e-01,  1.0000e+00,  9.8382e-01,  1.0000e+00,\n",
       "          1.3448e-02,  9.9999e-01,  9.9996e-01,  1.0000e+00,  1.0000e+00,\n",
       "          8.1608e-01,  1.0000e+00, -1.0000e+00,  9.6141e-01,  1.0000e+00,\n",
       "          1.0000e+00,  9.9995e-01,  9.9999e-01,  9.4740e-01, -9.8357e-01,\n",
       "          1.0000e+00, -1.0000e+00,  9.3040e-01,  1.0000e+00,  1.0000e+00,\n",
       "         -2.2691e-01, -8.3799e-01, -1.0000e+00,  8.0046e-01,  8.2629e-01,\n",
       "         -3.5195e-01,  1.0000e+00, -1.7363e-01,  8.8188e-01,  9.9999e-01,\n",
       "          9.7154e-01,  1.0000e+00, -1.4207e-02,  9.9997e-01,  9.9995e-01,\n",
       "          1.0000e+00,  9.9995e-01,  7.7938e-01,  1.0000e+00, -1.0000e+00,\n",
       "          9.4542e-01,  1.0000e+00,  1.0000e+00,  9.9992e-01,  9.9999e-01,\n",
       "          8.8588e-01, -9.6981e-01,  1.0000e+00, -1.0000e+00,  8.8619e-01,\n",
       "          1.0000e+00,  1.0000e+00, -2.1331e-01, -7.2202e-01, -1.0000e+00,\n",
       "          7.8146e-01],\n",
       "        [ 5.9500e+02,  0.0000e+00,  0.0000e+00,  0.0000e+00,  0.0000e+00,\n",
       "          0.0000e+00,  0.0000e+00,  0.0000e+00,  0.0000e+00,  0.0000e+00,\n",
       "          0.0000e+00,  0.0000e+00,  0.0000e+00,  0.0000e+00,  0.0000e+00,\n",
       "          0.0000e+00,  0.0000e+00,  0.0000e+00,  0.0000e+00,  0.0000e+00,\n",
       "          0.0000e+00,  0.0000e+00,  0.0000e+00,  0.0000e+00,  0.0000e+00,\n",
       "          0.0000e+00,  0.0000e+00,  0.0000e+00,  0.0000e+00,  0.0000e+00,\n",
       "          0.0000e+00,  0.0000e+00,  0.0000e+00,  0.0000e+00,  0.0000e+00,\n",
       "          0.0000e+00,  0.0000e+00,  0.0000e+00,  0.0000e+00,  0.0000e+00,\n",
       "          0.0000e+00,  0.0000e+00,  0.0000e+00,  0.0000e+00,  0.0000e+00,\n",
       "          0.0000e+00,  0.0000e+00,  0.0000e+00,  0.0000e+00,  0.0000e+00,\n",
       "          1.0000e+00,  0.0000e+00,  0.0000e+00,  0.0000e+00,  0.0000e+00,\n",
       "          0.0000e+00,  0.0000e+00,  0.0000e+00,  0.0000e+00,  0.0000e+00,\n",
       "          0.0000e+00,  0.0000e+00,  0.0000e+00,  0.0000e+00,  0.0000e+00,\n",
       "          0.0000e+00,  0.0000e+00,  0.0000e+00,  0.0000e+00,  0.0000e+00,\n",
       "          8.7862e-01, -3.4367e-01,  1.0000e+00, -2.2640e-01,  9.4370e-01,\n",
       "          1.0000e+00,  9.8084e-01,  1.0000e+00, -7.8974e-02,  1.0000e+00,\n",
       "          9.9997e-01,  1.0000e+00,  1.0000e+00,  8.0518e-01,  1.0000e+00,\n",
       "         -1.0000e+00,  9.6820e-01,  1.0000e+00,  1.0000e+00,  9.9988e-01,\n",
       "          9.9999e-01,  9.4737e-01, -9.9939e-01,  1.0000e+00, -1.0000e+00,\n",
       "          9.2459e-01,  1.0000e+00,  1.0000e+00, -3.0847e-01, -8.5319e-01,\n",
       "         -1.0000e+00,  8.5321e-01,  9.4562e-01, -3.5100e-01,  1.0000e+00,\n",
       "         -1.9252e-01,  9.8864e-01,  1.0000e+00,  9.9534e-01,  1.0000e+00,\n",
       "         -1.6681e-01,  1.0000e+00,  9.9998e-01,  1.0000e+00,  1.0000e+00,\n",
       "          8.4878e-01,  1.0000e+00, -1.0000e+00,  9.8064e-01,  1.0000e+00,\n",
       "          9.9999e-01,  9.9983e-01,  9.9999e-01,  9.8444e-01, -9.9886e-01,\n",
       "          1.0000e+00, -1.0000e+00,  9.6098e-01,  1.0000e+00,  1.0000e+00,\n",
       "         -3.6821e-01, -8.7707e-01, -1.0000e+00,  9.3405e-01,  5.3986e-01,\n",
       "          3.8136e-01,  1.0000e+00, -4.5271e-01,  7.5577e-01,  9.9998e-01,\n",
       "          8.4639e-01,  1.0000e+00, -2.2681e-01,  1.1550e-01,  9.9989e-01,\n",
       "          1.0000e+00,  9.9993e-01,  4.7736e-01,  1.0000e+00, -1.0000e+00,\n",
       "          8.4844e-01,  1.0000e+00,  1.0000e+00,  1.0000e+00,  9.9999e-01,\n",
       "          4.0478e-01, -3.8666e-01,  1.0000e+00, -9.9994e-01,  6.6057e-01,\n",
       "          1.0000e+00,  9.9979e-01,  1.3914e-02, -6.3750e-01, -1.0000e+00,\n",
       "          4.6141e-01,  7.3979e-01, -3.2676e-01,  1.0000e+00, -4.0338e-01,\n",
       "          8.1491e-01,  1.0000e+00,  9.1517e-01,  1.0000e+00,  8.2039e-03,\n",
       "          1.0000e+00,  9.9993e-01,  1.0000e+00,  9.9999e-01,  7.6314e-01,\n",
       "          1.0000e+00, -1.0000e+00,  9.1785e-01,  1.0000e+00,  1.0000e+00,\n",
       "          9.9997e-01,  9.9999e-01,  7.0337e-01, -9.9950e-01,  1.0000e+00,\n",
       "         -1.0000e+00,  8.4193e-01,  1.0000e+00,  1.0000e+00, -3.0494e-01,\n",
       "         -8.4312e-01, -1.0000e+00,  6.4968e-01,  9.0768e-01, -3.6352e-01,\n",
       "          1.0000e+00, -4.0707e-01,  9.7562e-01,  1.0000e+00,  9.9233e-01,\n",
       "          1.0000e+00, -6.4785e-02,  1.0000e+00,  9.9997e-01,  1.0000e+00,\n",
       "          1.0000e+00,  8.2664e-01,  1.0000e+00, -1.0000e+00,  9.7637e-01,\n",
       "          1.0000e+00,  9.9999e-01,  9.9990e-01,  9.9999e-01,  9.6839e-01,\n",
       "         -9.9821e-01,  1.0000e+00, -1.0000e+00,  9.5054e-01,  1.0000e+00,\n",
       "          1.0000e+00, -2.6436e-01, -8.8472e-01, -1.0000e+00,  8.6624e-01,\n",
       "          8.5647e-01, -1.2841e-01,  1.0000e+00, -4.6444e-01,  8.8077e-01,\n",
       "          1.0000e+00,  9.7521e-01,  1.0000e+00, -1.4756e-02,  1.0000e+00,\n",
       "          9.9997e-01,  1.0000e+00,  9.9999e-01,  8.0379e-01,  1.0000e+00,\n",
       "         -1.0000e+00,  9.5387e-01,  1.0000e+00,  1.0000e+00,  9.9997e-01,\n",
       "          9.9999e-01,  8.5290e-01, -9.9837e-01,  1.0000e+00, -1.0000e+00,\n",
       "          8.9492e-01,  1.0000e+00,  1.0000e+00, -2.5500e-01, -8.7344e-01,\n",
       "         -1.0000e+00,  7.0143e-01,  8.7114e-01, -3.3983e-01,  1.0000e+00,\n",
       "         -3.9551e-01,  9.0672e-01,  9.9999e-01,  9.8473e-01,  1.0000e+00,\n",
       "         -8.0619e-02,  1.0000e+00,  9.9997e-01,  1.0000e+00,  1.0000e+00,\n",
       "          8.2121e-01,  1.0000e+00, -1.0000e+00,  9.6652e-01,  1.0000e+00,\n",
       "          1.0000e+00,  9.9997e-01,  9.9999e-01,  9.0949e-01, -9.9992e-01,\n",
       "          1.0000e+00, -1.0000e+00,  9.1755e-01,  1.0000e+00,  1.0000e+00,\n",
       "         -3.1544e-01, -8.8637e-01, -1.0000e+00,  8.0982e-01,  8.3173e-01,\n",
       "         -1.0646e-01,  1.0000e+00, -4.7079e-01,  8.8371e-01,  1.0000e+00,\n",
       "          9.7890e-01,  1.0000e+00,  7.8736e-02,  1.0000e+00,  9.9995e-01,\n",
       "          1.0000e+00,  9.9999e-01,  8.1419e-01,  1.0000e+00, -1.0000e+00,\n",
       "          9.5509e-01,  1.0000e+00,  1.0000e+00,  9.9998e-01,  9.9999e-01,\n",
       "          8.6719e-01, -9.9993e-01,  1.0000e+00, -1.0000e+00,  8.9671e-01,\n",
       "          1.0000e+00,  1.0000e+00, -3.0032e-01, -8.6675e-01, -1.0000e+00,\n",
       "          7.3620e-01]], device='cuda:0', dtype=torch.float64)"
      ]
     },
     "execution_count": 21,
     "metadata": {},
     "output_type": "execute_result"
    }
   ],
   "source": [
    "X"
   ]
  },
  {
   "cell_type": "code",
   "execution_count": 10,
   "metadata": {},
   "outputs": [],
   "source": [
    "afire = hidden_state_dict['678122538'][0].to('cpu')\n",
    "kingsley = hidden_state_dict['665757358'][0].to('cpu')"
   ]
  },
  {
   "cell_type": "code",
   "execution_count": null,
   "metadata": {},
   "outputs": [],
   "source": [
    "afire"
   ]
  },
  {
   "cell_type": "code",
   "execution_count": 9,
   "metadata": {},
   "outputs": [
    {
     "data": {
      "application/vnd.jupyter.widget-view+json": {
       "model_id": "cc8a02e2594d444988a5f64a263fde50",
       "version_major": 2,
       "version_minor": 0
      },
      "text/plain": [
       "  0%|          | 0/375 [00:00<?, ?it/s]"
      ]
     },
     "metadata": {},
     "output_type": "display_data"
    },
    {
     "name": "stdout",
     "output_type": "stream",
     "text": [
      "Empty: 699830875 HILLBILLY LEXI\n",
      "Empty: 694775838 MIGHTY STING\n",
      "Empty: 752070205 KAIZEN SHADOW\n",
      "Empty: 710478288 TINY BUTTON\n",
      "Empty: 710477775 RIVER JOHN\n",
      "Empty: 698472213 VELOCITY KIANA\n",
      "Empty: 645795602 WE BELONG\n",
      "Empty: 573719163 IN MEMORIAM PEST\n",
      "Empty: 726168452 SUNDAY SLEEP IN\n",
      "Empty: 726168453 LAVENDER HAZE\n",
      "Empty: 726169451 MY PIRATE\n",
      "Empty: 620126279 DRIVE THROUGH\n",
      "Empty: 611215541 CAWBOURNE RUSTY\n",
      "Empty: 637973443 ANITA KEROMA\n",
      "Empty: 736205973 SPOTTY CAN RUN\n",
      "Empty: 660657682 MATHOURA MARVEL\n",
      "Empty: 717092823 OBSESSIVE QUEEN\n",
      "Empty: 675307030 IASON BALE\n",
      "Empty: 745110246 RUNNING ROMAN\n",
      "Empty: 722114856 SUDDEN HURRICANE\n",
      "Empty: 717092827 MY GIRL PIPER\n",
      "Empty: 766471884 CABAO COCO\n",
      "Empty: 766471886 CABAO ELDERBERRY\n",
      "Empty: 766471885 CABAO DEWBERRY\n",
      "Empty: 708919009 DANIEL\n",
      "Empty: 745076699 BINNY DOO\n",
      "Empty: nullDog no_name\n",
      "filled =348\n",
      "empty  =27\n",
      "0.928null_dog=0\n"
     ]
    }
   ],
   "source": [
    "raceDB.fill_hidden_states_dict_v2(hidden_state_dict)"
   ]
  },
  {
   "cell_type": "code",
   "execution_count": 10,
   "metadata": {},
   "outputs": [
    {
     "ename": "KeyError",
     "evalue": "'638802667'",
     "output_type": "error",
     "traceback": [
      "\u001b[1;31m---------------------------------------------------------------------------\u001b[0m",
      "\u001b[1;31mKeyError\u001b[0m                                  Traceback (most recent call last)",
      "Cell \u001b[1;32mIn[10], line 1\u001b[0m\n\u001b[1;32m----> 1\u001b[0m raceDB\u001b[39m.\u001b[39;49mdogsDict[\u001b[39m'\u001b[39;49m\u001b[39m638802667\u001b[39;49m\u001b[39m'\u001b[39;49m]\u001b[39m.\u001b[39mhidden_filled\n",
      "\u001b[1;31mKeyError\u001b[0m: '638802667'"
     ]
    }
   ],
   "source": [
    "raceDB.dogsDict['638802667'].hidden_filled"
   ]
  },
  {
   "cell_type": "code",
   "execution_count": 11,
   "metadata": {},
   "outputs": [
    {
     "name": "stdout",
     "output_type": "stream",
     "text": [
      "length of dogs 374\n",
      "torch.Size([2, 374, 32])\n"
     ]
    }
   ],
   "source": [
    "outs = v6_forward_pass_test(raceDB, model)\n",
    "today_time = datetime.datetime.today().strftime('%Y-%m-%d %H_%M_%S')\n",
    "today = datetime.datetime.today().strftime('%Y-%m-%d')\n",
    "today_date = datetime.datetime.today().date()\n",
    "\n",
    "outs['Model Name'] = model_name\n",
    "outs = outs#[ outs['track'].isin(['Richmond', 'Wentworth Park'])]\n",
    "outs_1 = outs#[outs['date']==today_date]\n",
    "\n",
    "outs_1.to_pickle(f'./model_outputs/output {model_name} {today_time}.npy')\n",
    "outs_1.to_excel(f'./model_outputs/output {model_name} -{today_time}.xlsx')"
   ]
  },
  {
   "cell_type": "code",
   "execution_count": 11,
   "metadata": {},
   "outputs": [
    {
     "ename": "TypeError",
     "evalue": "itemgetter expected 1 argument, got 0",
     "output_type": "error",
     "traceback": [
      "\u001b[1;31m---------------------------------------------------------------------------\u001b[0m",
      "\u001b[1;31mTypeError\u001b[0m                                 Traceback (most recent call last)",
      "Cell \u001b[1;32mIn[11], line 3\u001b[0m\n\u001b[0;32m      1\u001b[0m model_name \u001b[39m=\u001b[39m \u001b[39m'\u001b[39m\u001b[39mvolcanic-wood-404\u001b[39m\u001b[39m'\u001b[39m\n\u001b[0;32m      2\u001b[0m model \u001b[39m=\u001b[39m setup_model(model_name)\n\u001b[1;32m----> 3\u001b[0m v6_forward_pass_train(raceDB, model)\n\u001b[0;32m      4\u001b[0m outs \u001b[39m=\u001b[39m v6_forward_pass_test(raceDB, model)\n\u001b[0;32m      5\u001b[0m today_time \u001b[39m=\u001b[39m datetime\u001b[39m.\u001b[39mdatetime\u001b[39m.\u001b[39mtoday()\u001b[39m.\u001b[39mstrftime(\u001b[39m'\u001b[39m\u001b[39m%\u001b[39m\u001b[39mY-\u001b[39m\u001b[39m%\u001b[39m\u001b[39mm-\u001b[39m\u001b[39m%d\u001b[39;00m\u001b[39m \u001b[39m\u001b[39m%\u001b[39m\u001b[39mH_\u001b[39m\u001b[39m%\u001b[39m\u001b[39mM_\u001b[39m\u001b[39m%\u001b[39m\u001b[39mS\u001b[39m\u001b[39m'\u001b[39m)\n",
      "Cell \u001b[1;32mIn[3], line 8\u001b[0m, in \u001b[0;36mv6_forward_pass_train\u001b[1;34m(raceDB, model)\u001b[0m\n\u001b[0;32m      5\u001b[0m len_train_races \u001b[39m=\u001b[39m \u001b[39mlen\u001b[39m(raceDB\u001b[39m.\u001b[39mtrain_race_ids)\n\u001b[0;32m      7\u001b[0m dogs_idx \u001b[39m=\u001b[39m \u001b[39mrange\u001b[39m(\u001b[39m0\u001b[39m,len_train_dogs\u001b[39m-\u001b[39m\u001b[39m1\u001b[39m)\n\u001b[1;32m----> 8\u001b[0m dogs \u001b[39m=\u001b[39m [inner[\u001b[39m0\u001b[39m]\u001b[39m.\u001b[39mdog \u001b[39mfor\u001b[39;00m inner \u001b[39min\u001b[39;00m [x \u001b[39mfor\u001b[39;00m x \u001b[39min\u001b[39;00m raceDB\u001b[39m.\u001b[39;49mget_dog_train(dogs_idx)]] \u001b[39m#[Dog]\u001b[39;00m\n\u001b[0;32m      9\u001b[0m dog_input \u001b[39m=\u001b[39m [inner \u001b[39mfor\u001b[39;00m inner \u001b[39min\u001b[39;00m [x \u001b[39mfor\u001b[39;00m x \u001b[39min\u001b[39;00m raceDB\u001b[39m.\u001b[39mget_dog_train(dogs_idx)]] \u001b[39m#[[DogInput]]\u001b[39;00m\n\u001b[0;32m     12\u001b[0m train \u001b[39m=\u001b[39m [torch\u001b[39m.\u001b[39mstack(n,\u001b[39m0\u001b[39m) \u001b[39mfor\u001b[39;00m n \u001b[39min\u001b[39;00m [[z\u001b[39m.\u001b[39mfull_input \u001b[39mfor\u001b[39;00m z \u001b[39min\u001b[39;00m inner] \u001b[39mfor\u001b[39;00m inner \u001b[39min\u001b[39;00m [x \u001b[39mfor\u001b[39;00m x \u001b[39min\u001b[39;00m raceDB\u001b[39m.\u001b[39mget_dog_train(dogs_idx)]]] \n",
      "File \u001b[1;32mc:\\Users\\Nick\\Documents\\GitHub\\grvmodel\\Python\\pytorch\\New Model\\LSTM\\rnn_classes.py:429\u001b[0m, in \u001b[0;36mRaces.get_dog_train\u001b[1;34m(self, idx)\u001b[0m\n\u001b[0;32m    428\u001b[0m \u001b[39mdef\u001b[39;00m \u001b[39mget_dog_train\u001b[39m(\u001b[39mself\u001b[39m, idx):\n\u001b[1;32m--> 429\u001b[0m     dog_idx \u001b[39m=\u001b[39m operator\u001b[39m.\u001b[39;49mitemgetter(\u001b[39m*\u001b[39;49midx)\n\u001b[0;32m    430\u001b[0m     dog_batch_id \u001b[39m=\u001b[39m dog_idx(\u001b[39mself\u001b[39m\u001b[39m.\u001b[39mtrain_dog_ids)\n\u001b[0;32m    431\u001b[0m     races \u001b[39m=\u001b[39m [\u001b[39mself\u001b[39m\u001b[39m.\u001b[39mtrain_dogs[x]\u001b[39m.\u001b[39mtrain \u001b[39mfor\u001b[39;00m x \u001b[39min\u001b[39;00m dog_batch_id] \n",
      "\u001b[1;31mTypeError\u001b[0m: itemgetter expected 1 argument, got 0"
     ]
    }
   ],
   "source": [
    "model_name = 'volcanic-wood-404'\n",
    "model = setup_model(model_name)\n",
    "v6_forward_pass_train(raceDB, model)\n",
    "outs = v6_forward_pass_test(raceDB, model)\n",
    "today_time = datetime.datetime.today().strftime('%Y-%m-%d %H_%M_%S')\n",
    "today = datetime.datetime.today().strftime('%Y-%m-%d')\n",
    "today_date = datetime.datetime.today().date()\n",
    "\n",
    "outs['Model Name'] = model_name\n",
    "\n",
    "outs_1 = outs[outs['date']==today_date]\n",
    "\n",
    "outs_1.to_pickle(f'./model_outputs/output {model_name} {today_time}.npy')\n",
    "outs_1.to_excel(f'./model_outputs/output {model_name} -{today_time}.xlsx')"
   ]
  },
  {
   "cell_type": "code",
   "execution_count": 16,
   "metadata": {},
   "outputs": [
    {
     "name": "stdout",
     "output_type": "stream",
     "text": [
      "torch.Size([1, 6071, 64])\n"
     ]
    }
   ],
   "source": [
    "model_name = 'still-disco-178'\n",
    "model = setup_model(model_name)\n",
    "v6_forward_pass_train(raceDB, model)\n",
    "outs = v6_forward_pass_test(raceDB, model)\n",
    "today_time = datetime.datetime.today().strftime('%Y-%m-%d %H_%M_%S')\n",
    "today = datetime.datetime.today().strftime('%Y-%m-%d')\n",
    "today_date = datetime.datetime.today().date()\n",
    "\n",
    "outs['Model Name'] = model_name\n",
    "\n",
    "outs_1 = outs[outs['date']==today_date]\n",
    "\n",
    "outs_1.to_pickle(f'./model_outputs/output {model_name} {today_time}.npy')\n",
    "outs_1.to_excel(f'./model_outputs/output {model_name} -{today_time}.xlsx')"
   ]
  },
  {
   "cell_type": "code",
   "execution_count": 14,
   "metadata": {},
   "outputs": [
    {
     "data": {
      "text/html": [
       "<div>\n",
       "<style scoped>\n",
       "    .dataframe tbody tr th:only-of-type {\n",
       "        vertical-align: middle;\n",
       "    }\n",
       "\n",
       "    .dataframe tbody tr th {\n",
       "        vertical-align: top;\n",
       "    }\n",
       "\n",
       "    .dataframe thead th {\n",
       "        text-align: right;\n",
       "    }\n",
       "</style>\n",
       "<table border=\"1\" class=\"dataframe\">\n",
       "  <thead>\n",
       "    <tr style=\"text-align: right;\">\n",
       "      <th></th>\n",
       "      <th>raceid</th>\n",
       "      <th>track</th>\n",
       "      <th>date</th>\n",
       "      <th>racetime</th>\n",
       "      <th>box</th>\n",
       "      <th>dogs</th>\n",
       "      <th>dogid</th>\n",
       "      <th>conf</th>\n",
       "      <th>race_num</th>\n",
       "      <th>pred_price</th>\n",
       "    </tr>\n",
       "  </thead>\n",
       "  <tbody>\n",
       "    <tr>\n",
       "      <th>67768</th>\n",
       "      <td>880939579</td>\n",
       "      <td>Grafton</td>\n",
       "      <td>2023-03-19</td>\n",
       "      <td>2023-03-19 18:16:00</td>\n",
       "      <td>1</td>\n",
       "      <td>KRATOS RISING</td>\n",
       "      <td>637972964</td>\n",
       "      <td>0.173082</td>\n",
       "      <td>1</td>\n",
       "      <td>5.777605</td>\n",
       "    </tr>\n",
       "    <tr>\n",
       "      <th>67769</th>\n",
       "      <td>880939579</td>\n",
       "      <td>Grafton</td>\n",
       "      <td>2023-03-19</td>\n",
       "      <td>2023-03-19 18:16:00</td>\n",
       "      <td>2</td>\n",
       "      <td>JUST MUMMULGUM</td>\n",
       "      <td>643634738</td>\n",
       "      <td>0.211303</td>\n",
       "      <td>1</td>\n",
       "      <td>4.732538</td>\n",
       "    </tr>\n",
       "    <tr>\n",
       "      <th>67770</th>\n",
       "      <td>880939579</td>\n",
       "      <td>Grafton</td>\n",
       "      <td>2023-03-19</td>\n",
       "      <td>2023-03-19 18:16:00</td>\n",
       "      <td>3</td>\n",
       "      <td>no_name</td>\n",
       "      <td>nullDog</td>\n",
       "      <td>0.020072</td>\n",
       "      <td>1</td>\n",
       "      <td>49.820692</td>\n",
       "    </tr>\n",
       "    <tr>\n",
       "      <th>67771</th>\n",
       "      <td>880939579</td>\n",
       "      <td>Grafton</td>\n",
       "      <td>2023-03-19</td>\n",
       "      <td>2023-03-19 18:16:00</td>\n",
       "      <td>4</td>\n",
       "      <td>ICE COOL KAOS</td>\n",
       "      <td>710478167</td>\n",
       "      <td>0.160101</td>\n",
       "      <td>1</td>\n",
       "      <td>6.246064</td>\n",
       "    </tr>\n",
       "    <tr>\n",
       "      <th>67772</th>\n",
       "      <td>880939579</td>\n",
       "      <td>Grafton</td>\n",
       "      <td>2023-03-19</td>\n",
       "      <td>2023-03-19 18:16:00</td>\n",
       "      <td>5</td>\n",
       "      <td>JACOB VALLEY</td>\n",
       "      <td>580792883</td>\n",
       "      <td>0.089600</td>\n",
       "      <td>1</td>\n",
       "      <td>11.160709</td>\n",
       "    </tr>\n",
       "    <tr>\n",
       "      <th>...</th>\n",
       "      <td>...</td>\n",
       "      <td>...</td>\n",
       "      <td>...</td>\n",
       "      <td>...</td>\n",
       "      <td>...</td>\n",
       "      <td>...</td>\n",
       "      <td>...</td>\n",
       "      <td>...</td>\n",
       "      <td>...</td>\n",
       "      <td>...</td>\n",
       "    </tr>\n",
       "    <tr>\n",
       "      <th>67763</th>\n",
       "      <td>880939556</td>\n",
       "      <td>Richmond</td>\n",
       "      <td>2023-03-19</td>\n",
       "      <td>2023-03-19 21:57:00</td>\n",
       "      <td>4</td>\n",
       "      <td>SANTANA FLY</td>\n",
       "      <td>707215218</td>\n",
       "      <td>0.145652</td>\n",
       "      <td>12</td>\n",
       "      <td>6.865693</td>\n",
       "    </tr>\n",
       "    <tr>\n",
       "      <th>67764</th>\n",
       "      <td>880939556</td>\n",
       "      <td>Richmond</td>\n",
       "      <td>2023-03-19</td>\n",
       "      <td>2023-03-19 21:57:00</td>\n",
       "      <td>5</td>\n",
       "      <td>no_name</td>\n",
       "      <td>nullDog</td>\n",
       "      <td>0.006609</td>\n",
       "      <td>12</td>\n",
       "      <td>151.300745</td>\n",
       "    </tr>\n",
       "    <tr>\n",
       "      <th>67765</th>\n",
       "      <td>880939556</td>\n",
       "      <td>Richmond</td>\n",
       "      <td>2023-03-19</td>\n",
       "      <td>2023-03-19 21:57:00</td>\n",
       "      <td>6</td>\n",
       "      <td>PALERMO STING</td>\n",
       "      <td>592711158</td>\n",
       "      <td>0.129751</td>\n",
       "      <td>12</td>\n",
       "      <td>7.707042</td>\n",
       "    </tr>\n",
       "    <tr>\n",
       "      <th>67766</th>\n",
       "      <td>880939556</td>\n",
       "      <td>Richmond</td>\n",
       "      <td>2023-03-19</td>\n",
       "      <td>2023-03-19 21:57:00</td>\n",
       "      <td>7</td>\n",
       "      <td>CHLOE CHAOS</td>\n",
       "      <td>740359826</td>\n",
       "      <td>0.031333</td>\n",
       "      <td>12</td>\n",
       "      <td>31.915401</td>\n",
       "    </tr>\n",
       "    <tr>\n",
       "      <th>67767</th>\n",
       "      <td>880939556</td>\n",
       "      <td>Richmond</td>\n",
       "      <td>2023-03-19</td>\n",
       "      <td>2023-03-19 21:57:00</td>\n",
       "      <td>8</td>\n",
       "      <td>SKYLA BLUE</td>\n",
       "      <td>587948666</td>\n",
       "      <td>0.237052</td>\n",
       "      <td>12</td>\n",
       "      <td>4.218487</td>\n",
       "    </tr>\n",
       "  </tbody>\n",
       "</table>\n",
       "<p>176 rows × 10 columns</p>\n",
       "</div>"
      ],
      "text/plain": [
       "          raceid     track        date            racetime  box  \\\n",
       "67768  880939579   Grafton  2023-03-19 2023-03-19 18:16:00    1   \n",
       "67769  880939579   Grafton  2023-03-19 2023-03-19 18:16:00    2   \n",
       "67770  880939579   Grafton  2023-03-19 2023-03-19 18:16:00    3   \n",
       "67771  880939579   Grafton  2023-03-19 2023-03-19 18:16:00    4   \n",
       "67772  880939579   Grafton  2023-03-19 2023-03-19 18:16:00    5   \n",
       "...          ...       ...         ...                 ...  ...   \n",
       "67763  880939556  Richmond  2023-03-19 2023-03-19 21:57:00    4   \n",
       "67764  880939556  Richmond  2023-03-19 2023-03-19 21:57:00    5   \n",
       "67765  880939556  Richmond  2023-03-19 2023-03-19 21:57:00    6   \n",
       "67766  880939556  Richmond  2023-03-19 2023-03-19 21:57:00    7   \n",
       "67767  880939556  Richmond  2023-03-19 2023-03-19 21:57:00    8   \n",
       "\n",
       "                 dogs      dogid      conf  race_num  pred_price  \n",
       "67768   KRATOS RISING  637972964  0.173082         1    5.777605  \n",
       "67769  JUST MUMMULGUM  643634738  0.211303         1    4.732538  \n",
       "67770         no_name    nullDog  0.020072         1   49.820692  \n",
       "67771   ICE COOL KAOS  710478167  0.160101         1    6.246064  \n",
       "67772    JACOB VALLEY  580792883  0.089600         1   11.160709  \n",
       "...               ...        ...       ...       ...         ...  \n",
       "67763     SANTANA FLY  707215218  0.145652        12    6.865693  \n",
       "67764         no_name    nullDog  0.006609        12  151.300745  \n",
       "67765   PALERMO STING  592711158  0.129751        12    7.707042  \n",
       "67766     CHLOE CHAOS  740359826  0.031333        12   31.915401  \n",
       "67767      SKYLA BLUE  587948666  0.237052        12    4.218487  \n",
       "\n",
       "[176 rows x 10 columns]"
      ]
     },
     "execution_count": 14,
     "metadata": {},
     "output_type": "execute_result"
    }
   ],
   "source": [
    "today_date = datetime.datetime.today().date()\n",
    "outs[outs['date']==today_date]"
   ]
  },
  {
   "cell_type": "code",
   "execution_count": 9,
   "metadata": {},
   "outputs": [
    {
     "name": "stdout",
     "output_type": "stream",
     "text": [
      "torch.Size([1, 5812, 64])\n"
     ]
    }
   ],
   "source": [
    "model_name = 'hardy-pond-174'\n",
    "model = setup_model(model_name)\n",
    "v6_forward_pass_train(raceDB, model)\n",
    "outs = v6_forward_pass_test(raceDB, model)\n",
    "today_time = datetime.datetime.today().strftime('%Y-%m-%d %H_%M_%S')\n",
    "today = datetime.datetime.today().strftime('%Y-%m-%d')\n",
    "today_date = datetime.datetime.today().date()\n",
    "\n",
    "outs['Model Name'] = model_name\n",
    "\n",
    "outs_1 = outs[outs['date']==today_date]\n",
    "\n",
    "outs_1.to_pickle(f'./model_outputs/output {model_name} {today_time}.npy')\n",
    "outs_1.to_excel(f'./model_outputs/output {model_name} -{today_time}.xlsx')"
   ]
  },
  {
   "cell_type": "code",
   "execution_count": null,
   "metadata": {},
   "outputs": [],
   "source": [
    "today_date = datetime.datetime.today()\n",
    "outs_1 = outs[outs['date']==today_date]"
   ]
  },
  {
   "cell_type": "code",
   "execution_count": null,
   "metadata": {},
   "outputs": [
    {
     "data": {
      "text/html": [
       "<div>\n",
       "<style scoped>\n",
       "    .dataframe tbody tr th:only-of-type {\n",
       "        vertical-align: middle;\n",
       "    }\n",
       "\n",
       "    .dataframe tbody tr th {\n",
       "        vertical-align: top;\n",
       "    }\n",
       "\n",
       "    .dataframe thead th {\n",
       "        text-align: right;\n",
       "    }\n",
       "</style>\n",
       "<table border=\"1\" class=\"dataframe\">\n",
       "  <thead>\n",
       "    <tr style=\"text-align: right;\">\n",
       "      <th></th>\n",
       "      <th>raceid</th>\n",
       "      <th>track</th>\n",
       "      <th>date</th>\n",
       "      <th>racetime</th>\n",
       "      <th>box</th>\n",
       "      <th>dogs</th>\n",
       "      <th>dogid</th>\n",
       "      <th>conf</th>\n",
       "      <th>race_num</th>\n",
       "      <th>pred_price</th>\n",
       "    </tr>\n",
       "  </thead>\n",
       "  <tbody>\n",
       "    <tr>\n",
       "      <th>75288</th>\n",
       "      <td>882498477</td>\n",
       "      <td>Healesville</td>\n",
       "      <td>2023-03-19</td>\n",
       "      <td>2023-03-19 11:06:00</td>\n",
       "      <td>1</td>\n",
       "      <td>ASTON JERRY</td>\n",
       "      <td>648012438</td>\n",
       "      <td>0.105658</td>\n",
       "      <td>1</td>\n",
       "      <td>9.464539</td>\n",
       "    </tr>\n",
       "    <tr>\n",
       "      <th>75289</th>\n",
       "      <td>882498477</td>\n",
       "      <td>Healesville</td>\n",
       "      <td>2023-03-19</td>\n",
       "      <td>2023-03-19 11:06:00</td>\n",
       "      <td>2</td>\n",
       "      <td>SIR MELVILLE</td>\n",
       "      <td>677030363</td>\n",
       "      <td>0.108754</td>\n",
       "      <td>1</td>\n",
       "      <td>9.195083</td>\n",
       "    </tr>\n",
       "    <tr>\n",
       "      <th>75290</th>\n",
       "      <td>882498477</td>\n",
       "      <td>Healesville</td>\n",
       "      <td>2023-03-19</td>\n",
       "      <td>2023-03-19 11:06:00</td>\n",
       "      <td>3</td>\n",
       "      <td>ACCOUNTED FOR</td>\n",
       "      <td>644728395</td>\n",
       "      <td>0.078954</td>\n",
       "      <td>1</td>\n",
       "      <td>12.665541</td>\n",
       "    </tr>\n",
       "    <tr>\n",
       "      <th>75291</th>\n",
       "      <td>882498477</td>\n",
       "      <td>Healesville</td>\n",
       "      <td>2023-03-19</td>\n",
       "      <td>2023-03-19 11:06:00</td>\n",
       "      <td>4</td>\n",
       "      <td>GEOFF'S STORIES</td>\n",
       "      <td>695938098</td>\n",
       "      <td>0.246108</td>\n",
       "      <td>1</td>\n",
       "      <td>4.063255</td>\n",
       "    </tr>\n",
       "    <tr>\n",
       "      <th>75292</th>\n",
       "      <td>882498477</td>\n",
       "      <td>Healesville</td>\n",
       "      <td>2023-03-19</td>\n",
       "      <td>2023-03-19 11:06:00</td>\n",
       "      <td>5</td>\n",
       "      <td>KEEPS ON</td>\n",
       "      <td>659900668</td>\n",
       "      <td>0.113846</td>\n",
       "      <td>1</td>\n",
       "      <td>8.783809</td>\n",
       "    </tr>\n",
       "    <tr>\n",
       "      <th>...</th>\n",
       "      <td>...</td>\n",
       "      <td>...</td>\n",
       "      <td>...</td>\n",
       "      <td>...</td>\n",
       "      <td>...</td>\n",
       "      <td>...</td>\n",
       "      <td>...</td>\n",
       "      <td>...</td>\n",
       "      <td>...</td>\n",
       "      <td>...</td>\n",
       "    </tr>\n",
       "    <tr>\n",
       "      <th>75195</th>\n",
       "      <td>882478938</td>\n",
       "      <td>Warragul</td>\n",
       "      <td>2023-03-19</td>\n",
       "      <td>2023-03-19 21:54:00</td>\n",
       "      <td>4</td>\n",
       "      <td>ELENOR BALE</td>\n",
       "      <td>634935343</td>\n",
       "      <td>0.146202</td>\n",
       "      <td>12</td>\n",
       "      <td>6.839869</td>\n",
       "    </tr>\n",
       "    <tr>\n",
       "      <th>75196</th>\n",
       "      <td>882478938</td>\n",
       "      <td>Warragul</td>\n",
       "      <td>2023-03-19</td>\n",
       "      <td>2023-03-19 21:54:00</td>\n",
       "      <td>5</td>\n",
       "      <td>LADY WENDY HOOK</td>\n",
       "      <td>570556339</td>\n",
       "      <td>0.124175</td>\n",
       "      <td>12</td>\n",
       "      <td>8.053171</td>\n",
       "    </tr>\n",
       "    <tr>\n",
       "      <th>75197</th>\n",
       "      <td>882478938</td>\n",
       "      <td>Warragul</td>\n",
       "      <td>2023-03-19</td>\n",
       "      <td>2023-03-19 21:54:00</td>\n",
       "      <td>6</td>\n",
       "      <td>IMPRESS PATCH</td>\n",
       "      <td>465423055</td>\n",
       "      <td>0.158166</td>\n",
       "      <td>12</td>\n",
       "      <td>6.322465</td>\n",
       "    </tr>\n",
       "    <tr>\n",
       "      <th>75198</th>\n",
       "      <td>882478938</td>\n",
       "      <td>Warragul</td>\n",
       "      <td>2023-03-19</td>\n",
       "      <td>2023-03-19 21:54:00</td>\n",
       "      <td>7</td>\n",
       "      <td>LIST OF SECRETS</td>\n",
       "      <td>589547246</td>\n",
       "      <td>0.174829</td>\n",
       "      <td>12</td>\n",
       "      <td>5.719865</td>\n",
       "    </tr>\n",
       "    <tr>\n",
       "      <th>75199</th>\n",
       "      <td>882478938</td>\n",
       "      <td>Warragul</td>\n",
       "      <td>2023-03-19</td>\n",
       "      <td>2023-03-19 21:54:00</td>\n",
       "      <td>8</td>\n",
       "      <td>DYNAMITE SWAN</td>\n",
       "      <td>565382014</td>\n",
       "      <td>0.071342</td>\n",
       "      <td>12</td>\n",
       "      <td>14.016968</td>\n",
       "    </tr>\n",
       "  </tbody>\n",
       "</table>\n",
       "<p>288 rows × 10 columns</p>\n",
       "</div>"
      ],
      "text/plain": [
       "          raceid        track        date             racetime  box  \\\n",
       "75288  882498477  Healesville  2023-03-19  2023-03-19 11:06:00    1   \n",
       "75289  882498477  Healesville  2023-03-19  2023-03-19 11:06:00    2   \n",
       "75290  882498477  Healesville  2023-03-19  2023-03-19 11:06:00    3   \n",
       "75291  882498477  Healesville  2023-03-19  2023-03-19 11:06:00    4   \n",
       "75292  882498477  Healesville  2023-03-19  2023-03-19 11:06:00    5   \n",
       "...          ...          ...         ...                  ...  ...   \n",
       "75195  882478938     Warragul  2023-03-19  2023-03-19 21:54:00    4   \n",
       "75196  882478938     Warragul  2023-03-19  2023-03-19 21:54:00    5   \n",
       "75197  882478938     Warragul  2023-03-19  2023-03-19 21:54:00    6   \n",
       "75198  882478938     Warragul  2023-03-19  2023-03-19 21:54:00    7   \n",
       "75199  882478938     Warragul  2023-03-19  2023-03-19 21:54:00    8   \n",
       "\n",
       "                  dogs      dogid      conf  race_num  pred_price  \n",
       "75288      ASTON JERRY  648012438  0.105658         1    9.464539  \n",
       "75289     SIR MELVILLE  677030363  0.108754         1    9.195083  \n",
       "75290    ACCOUNTED FOR  644728395  0.078954         1   12.665541  \n",
       "75291  GEOFF'S STORIES  695938098  0.246108         1    4.063255  \n",
       "75292         KEEPS ON  659900668  0.113846         1    8.783809  \n",
       "...                ...        ...       ...       ...         ...  \n",
       "75195      ELENOR BALE  634935343  0.146202        12    6.839869  \n",
       "75196  LADY WENDY HOOK  570556339  0.124175        12    8.053171  \n",
       "75197    IMPRESS PATCH  465423055  0.158166        12    6.322465  \n",
       "75198  LIST OF SECRETS  589547246  0.174829        12    5.719865  \n",
       "75199    DYNAMITE SWAN  565382014  0.071342        12   14.016968  \n",
       "\n",
       "[288 rows x 10 columns]"
      ]
     },
     "execution_count": 21,
     "metadata": {},
     "output_type": "execute_result"
    }
   ],
   "source": [
    "outs[outs['race_num']!=-1]"
   ]
  },
  {
   "cell_type": "code",
   "execution_count": null,
   "metadata": {},
   "outputs": [
    {
     "data": {
      "text/plain": [
       "656      2022-08-03\n",
       "664      2022-08-03\n",
       "672      2022-08-03\n",
       "680      2022-08-03\n",
       "688      2022-08-03\n",
       "            ...    \n",
       "74951    2023-03-16\n",
       "74959    2023-03-16\n",
       "74967    2023-03-16\n",
       "74975    2023-03-16\n",
       "74983    2023-03-16\n",
       "Name: date, Length: 75448, dtype: object"
      ]
     },
     "execution_count": 13,
     "metadata": {},
     "output_type": "execute_result"
    }
   ],
   "source": [
    "outs['date'][0]"
   ]
  },
  {
   "cell_type": "code",
   "execution_count": null,
   "metadata": {},
   "outputs": [],
   "source": [
    "outs = outs[outs['race_num']!=-1]"
   ]
  },
  {
   "cell_type": "code",
   "execution_count": null,
   "metadata": {},
   "outputs": [],
   "source": [
    "outs.to_excel('test_outs_v6.xlsx')"
   ]
  },
  {
   "cell_type": "code",
   "execution_count": null,
   "metadata": {},
   "outputs": [
    {
     "data": {
      "text/plain": [
       "12689"
      ]
     },
     "execution_count": 23,
     "metadata": {},
     "output_type": "execute_result"
    }
   ],
   "source": [
    "dogs = [x for x in  raceDB.train_dogs.values()]\n",
    "len(dogs)"
   ]
  },
  {
   "cell_type": "code",
   "execution_count": null,
   "metadata": {},
   "outputs": [
    {
     "data": {
      "text/plain": [
       "5792"
      ]
     },
     "execution_count": 22,
     "metadata": {},
     "output_type": "execute_result"
    }
   ],
   "source": [
    "dogs = [x for x in  raceDB.test_dogs.values()]\n",
    "len(dogs)"
   ]
  },
  {
   "cell_type": "code",
   "execution_count": null,
   "metadata": {},
   "outputs": [],
   "source": [
    "def update_hidden_state(raceDB:Races,model_name):\n",
    "    nsw_model_loaded = torch.load(model_name,map_location=torch.device('cuda:0'))\n",
    "    raceDB.fill_hidden_states_from_dict(hidden_dict=nsw_model_loaded['db'])\n",
    "    input_size = raceDB.get_race_input([0,1])[0].full_input.shape[0]\n",
    "    print(input_size)\n",
    "    raceDB.to_cuda()\n",
    "    nsw_model_full = smalll_prelin_GRUNet(input_size=input_size,hidden_size=64).to('cuda:0')\n",
    "    nsw_model_full.load_state_dict(nsw_model_loaded['model_state_dict'])\n",
    "\n",
    "    races = raceDB.get_test_input(range(0,len(raceDB.test_race_ids)))\n",
    "\n",
    "    nsw_model_full.eval()\n",
    "    with torch.no_grad():\n",
    "        last = 0\n",
    "        for i in trange(500,len(raceDB.test_race_ids)-500,500):\n",
    "            sub_races = races[last:i]\n",
    "            try:\n",
    "                nsw_model_full(sub_races)\n",
    "            except:\n",
    "                print('failed')\n",
    "            last = i\n",
    "\n",
    "        outs_full = nsw_model_full(races)\n",
    "    raceDB.to_cuda()\n",
    "    raceDB.create_hidden_states_dict()\n",
    "    \n",
    "    new_rdb = raceDB.hidden_states_dict_gru\n",
    "    return new_rdb"
   ]
  },
  {
   "cell_type": "code",
   "execution_count": null,
   "metadata": {},
   "outputs": [],
   "source": [
    "def gen_predictions(model_name, raceDB, predDB):\n",
    "    model = f\"C:/Users/Nick/Documents/GitHub/grvmodel/Python/pytorch/New Model/savedmodel/{model_name}/{model_name}_450.pt\"\n",
    "    hidden_states = update_hidden_state(raceDB, model)\n",
    "    outs = model_predictions(predDB, model, net_size='small_lin', new_hidden_state=hidden_states )\n",
    "    return outs"
   ]
  },
  {
   "cell_type": "code",
   "execution_count": null,
   "metadata": {},
   "outputs": [
    {
     "name": "stdout",
     "output_type": "stream",
     "text": [
      "77\n"
     ]
    },
    {
     "data": {
      "application/vnd.jupyter.widget-view+json": {
       "model_id": "9c12fb202b3f41b5b6ca3c8946f36f0c",
       "version_major": 2,
       "version_minor": 0
      },
      "text/plain": [
       "  0%|          | 0/212 [00:00<?, ?it/s]"
      ]
     },
     "metadata": {},
     "output_type": "display_data"
    },
    {
     "name": "stderr",
     "output_type": "stream",
     "text": [
      "c:\\Users\\Nick\\.conda\\envs\\PYTORCH\\lib\\site-packages\\tqdm\\std.py:1195: FutureWarning: In a future version of pandas, a length 1 tuple will be returned when iterating over a groupby with a grouper equal to a list of length 1. Don't supply a list with a single grouper to avoid this warning.\n",
      "  for obj in iterable:\n"
     ]
    },
    {
     "data": {
      "application/vnd.jupyter.widget-view+json": {
       "model_id": "9973d2498365477889f4749dc3d9b58f",
       "version_major": 2,
       "version_minor": 0
      },
      "text/plain": [
       "  0%|          | 0/30 [00:00<?, ?it/s]"
      ]
     },
     "metadata": {},
     "output_type": "display_data"
    },
    {
     "name": "stdout",
     "output_type": "stream",
     "text": [
      "number of races = 30, number of unique dogs = 212\n"
     ]
    },
    {
     "name": "stderr",
     "output_type": "stream",
     "text": [
      "c:\\Users\\Nick\\.conda\\envs\\PYTORCH\\lib\\site-packages\\tqdm\\std.py:1195: FutureWarning: In a future version of pandas, a length 1 tuple will be returned when iterating over a groupby with a grouper equal to a list of length 1. Don't supply a list with a single grouper to avoid this warning.\n",
      "  for obj in iterable:\n"
     ]
    }
   ],
   "source": [
    "os.chdir(r\"C:\\Users\\Nick\\Documents\\GitHub\\grvmodel\\Python\\DATA\")\n",
    "today = datetime.datetime.today().strftime('%Y-%m-%d')\n",
    "pred_df = pd.read_pickle(f'C:/Users/Nick/Documents/GitHub/grvmodel/Python/Database Updater/testing new outs {today}.npy')\n",
    "pred_df\n",
    "state = ['NSW']\n",
    "pred_df_nsw = pred_df[pred_df['state'].isin(state)]\n",
    "hidden_size = 64\n",
    "predDB_nsw = build_pred_dataset(pred_df_nsw, hidden_size)"
   ]
  },
  {
   "cell_type": "code",
   "execution_count": null,
   "metadata": {},
   "outputs": [],
   "source": [
    "# model_name = \"zany-wood-268\"\n",
    "# torch_saved_dict = torch.load(f\"C:/Users/Nick/Documents/GitHub/grvmodel/Python/pytorch/New Model/savedmodel/{model_name}/{model_name}_450.pt\")\n",
    "# input_size = raceDB.get_race_input([0,1])[0].full_input.shape[0]\n",
    "# model = smalll_prelin_GRUNet(input_size=input_size,hidden_size=64).to('cuda:0')\n",
    "# model.load_state_dict(torch_saved_dict['model_state_dict'])\n",
    "# importlib.reload(val_model_external)\n",
    "# val_model_external.validate_model(model,raceDB,model_name)"
   ]
  },
  {
   "cell_type": "code",
   "execution_count": null,
   "metadata": {},
   "outputs": [
    {
     "data": {
      "application/vnd.jupyter.widget-view+json": {
       "model_id": "5665b074113e413f9466ba77e8f52c46",
       "version_major": 2,
       "version_minor": 0
      },
      "text/plain": [
       "  0%|          | 0/40877 [00:00<?, ?it/s]"
      ]
     },
     "metadata": {},
     "output_type": "display_data"
    },
    {
     "name": "stdout",
     "output_type": "stream",
     "text": [
      "filled =2451\n",
      "empty  =324565\n",
      "0.007495046113951611null_dog=0\n",
      "686\n"
     ]
    },
    {
     "name": "stderr",
     "output_type": "stream",
     "text": [
      "100%|██████████| 15/15 [00:00<00:00, 28.59it/s]\n"
     ]
    },
    {
     "data": {
      "application/vnd.jupyter.widget-view+json": {
       "model_id": "e3856448048d4c4a83e05079226d64e1",
       "version_major": 2,
       "version_minor": 0
      },
      "text/plain": [
       "  0%|          | 0/30 [00:00<?, ?it/s]"
      ]
     },
     "metadata": {},
     "output_type": "display_data"
    },
    {
     "name": "stdout",
     "output_type": "stream",
     "text": [
      "filled =205\n",
      "empty  =35\n",
      "0.8541666666666666null_dog=0\n"
     ]
    }
   ],
   "source": [
    "model_name = \"neat-universe-4\"\n",
    "outs = gen_predictions(model_name, raceDB, predDB_nsw)\n",
    "outs['Model Name'] = model_name\n",
    "\n",
    "today = datetime.datetime.today().strftime('%Y-%m-%d %H_%M_%S')\n",
    "outs.replace('Richmond Straight','Richmond',inplace = True)\n",
    "outs.replace('Richmond Straight','Richmond',inplace = True)\n",
    "\n",
    "outs_1 = outs[outs['track'].isin(['Dubbo', 'Wentworth Park'])]\n",
    "outs_1.to_pickle(f'./model_outputs/output {model_name} {today}.npy')\n",
    "outs_1.to_excel(f'./model_outputs/output {model_name} {state}-{today}.xlsx')"
   ]
  },
  {
   "cell_type": "code",
   "execution_count": null,
   "metadata": {},
   "outputs": [
    {
     "data": {
      "application/vnd.jupyter.widget-view+json": {
       "model_id": "5c4405a9265049db867c05f496c264dc",
       "version_major": 2,
       "version_minor": 0
      },
      "text/plain": [
       "  0%|          | 0/40877 [00:00<?, ?it/s]"
      ]
     },
     "metadata": {},
     "output_type": "display_data"
    },
    {
     "name": "stdout",
     "output_type": "stream",
     "text": [
      "filled =272304\n",
      "empty  =54712\n",
      "0.8326932015558872null_dog=0\n",
      "686\n"
     ]
    },
    {
     "name": "stderr",
     "output_type": "stream",
     "text": [
      "100%|██████████| 15/15 [00:00<00:00, 46.69it/s]\n"
     ]
    },
    {
     "data": {
      "application/vnd.jupyter.widget-view+json": {
       "model_id": "14b3c00e7ed74fcd86f8fb16bfe7a3e8",
       "version_major": 2,
       "version_minor": 0
      },
      "text/plain": [
       "  0%|          | 0/30 [00:00<?, ?it/s]"
      ]
     },
     "metadata": {},
     "output_type": "display_data"
    },
    {
     "name": "stdout",
     "output_type": "stream",
     "text": [
      "filled =205\n",
      "empty  =35\n",
      "0.8541666666666666null_dog=0\n"
     ]
    },
    {
     "ename": "",
     "evalue": "",
     "output_type": "error",
     "traceback": [
      "\u001b[1;31mThe Kernel crashed while executing code in the the current cell or a previous cell. Please review the code in the cell(s) to identify a possible cause of the failure. Click <a href='https://aka.ms/vscodeJupyterKernelCrash'>here</a> for more info. View Jupyter <a href='command:jupyter.viewOutput'>log</a> for further details."
     ]
    }
   ],
   "source": [
    "model_name = \"polar-paper-2\"\n",
    "outs = gen_predictions(model_name, raceDB, predDB_nsw)\n",
    "outs['Model Name'] = model_name\n",
    "\n",
    "today = datetime.datetime.today().strftime('%Y-%m-%d %H_%M_%S')\n",
    "#outs.replace('Richmond Straight','Richmond',inplace = True)\n",
    "\n",
    "outs_1 = outs[outs['track'].isin(['Dubbo', 'Wentworth Park'])]\n",
    "outs_1.to_pickle(f'./model_outputs/output {model_name} {today}.npy')\n",
    "outs_1.to_excel(f'./model_outputs/output {model_name} {state}-{today}.xlsx')"
   ]
  },
  {
   "cell_type": "code",
   "execution_count": null,
   "metadata": {},
   "outputs": [
    {
     "name": "stderr",
     "output_type": "stream",
     "text": [
      "100%|██████████| 89344/89344 [00:19<00:00, 4467.45it/s]\n"
     ]
    },
    {
     "name": "stdout",
     "output_type": "stream",
     "text": [
      "filled =272321\n",
      "empty  =442431\n",
      "0.381000682754298null_dog=0\n",
      "510\n"
     ]
    },
    {
     "name": "stderr",
     "output_type": "stream",
     "text": [
      "100%|██████████| 32/32 [00:03<00:00, 10.11it/s]\n",
      "100%|██████████| 47/47 [00:00<00:00, 2763.08it/s]\n"
     ]
    },
    {
     "name": "stdout",
     "output_type": "stream",
     "text": [
      "filled =321\n",
      "empty  =55\n",
      "0.8537234042553191null_dog=0\n"
     ]
    }
   ],
   "source": [
    "model_name = \"fallen-planet-281\"\n",
    "outs = gen_predictions(model_name, raceDB, predDB_nsw)\n",
    "outs['Model Name'] = model_name\n",
    "\n",
    "today = datetime.datetime.today().strftime('%Y-%m-%d %H_%M_%S')\n",
    "#outs.replace('Richmond Straight','Richmond',inplace = True)\n",
    "\n",
    "outs_1 = outs[outs['track'].isin(['Richmond', 'Wentworth Park'])]\n",
    "outs_1.to_pickle(f'./model_outputs/output {model_name} {today}.npy')\n",
    "outs_1.to_excel(f'./model_outputs/output {model_name} {state}-{today}.xlsx')\n",
    "outs_carress = outs"
   ]
  },
  {
   "cell_type": "code",
   "execution_count": null,
   "metadata": {},
   "outputs": [
    {
     "name": "stderr",
     "output_type": "stream",
     "text": [
      "100%|██████████| 89344/89344 [00:33<00:00, 2695.36it/s]\n"
     ]
    },
    {
     "name": "stdout",
     "output_type": "stream",
     "text": [
      "filled =605112\n",
      "empty  =109640\n",
      "0.8466041368194842null_dog=0\n",
      "510\n"
     ]
    },
    {
     "name": "stderr",
     "output_type": "stream",
     "text": [
      "100%|██████████| 32/32 [00:01<00:00, 21.02it/s]\n",
      "100%|██████████| 80/80 [00:00<00:00, 2351.35it/s]\n"
     ]
    },
    {
     "name": "stdout",
     "output_type": "stream",
     "text": [
      "filled =541\n",
      "empty  =99\n",
      "0.8453125null_dog=0\n"
     ]
    }
   ],
   "source": [
    "model_name = \"true-grass-258\"\n",
    "outs = gen_predictions(model_name, raceDB, predDB_nsw)\n",
    "outs['Model Name'] = model_name\n",
    "\n",
    "today = datetime.datetime.today().strftime('%Y-%m-%d %H_%M_%S')\n",
    "outs.replace('Richmond Straight','Richmond',inplace = True)\n",
    "outs_1 = outs[outs['track'].isin(['Healesville', 'Taree', 'Richmond', 'Wentworth Park'])]\n",
    "outs_1.to_pickle(f'./model_outputs/output {model_name} {today}.npy')\n",
    "outs_1.to_excel(f'./model_outputs/output {model_name} {state}-{today}.xlsx')\n",
    "outs_carress = outs"
   ]
  },
  {
   "cell_type": "code",
   "execution_count": null,
   "metadata": {},
   "outputs": [
    {
     "name": "stderr",
     "output_type": "stream",
     "text": [
      "100%|██████████| 89184/89184 [00:16<00:00, 5414.67it/s] \n"
     ]
    },
    {
     "name": "stdout",
     "output_type": "stream",
     "text": [
      "filled =274383\n",
      "empty  =439089\n",
      "0.38457430705059203null_dog=0\n",
      "510\n"
     ]
    },
    {
     "name": "stderr",
     "output_type": "stream",
     "text": [
      "100%|██████████| 32/32 [00:01<00:00, 23.61it/s]\n",
      "100%|██████████| 57/57 [00:00<00:00, 2372.91it/s]\n"
     ]
    },
    {
     "name": "stdout",
     "output_type": "stream",
     "text": [
      "filled =411\n",
      "empty  =45\n",
      "0.9013157894736842null_dog=0\n"
     ]
    }
   ],
   "source": [
    "model_name = \"vibrant-energy-237\"\n",
    "outs = gen_predictions(model_name, raceDB, predDB_nsw)\n",
    "outs['Model Name'] = model_name\n",
    "today = datetime.datetime.today().strftime('%Y-%m-%d')\n",
    "outs.replace('Richmond Straight','Richmond',inplace = True)\n",
    "today = datetime.datetime.today().strftime('%Y-%m-%d %H_%M_%S')\n",
    "outs_2= outs[outs['track'].isin(['Dubbo','Wentworth Park'])]\n",
    "outs_2.to_pickle(f'./model_outputs/output {model_name} {today}.npy')\n",
    "outs_2.to_csv(f'./model_outputs/output {model_name} {state}-{today}.csv')\n",
    "outs_carress = outs"
   ]
  },
  {
   "cell_type": "code",
   "execution_count": null,
   "metadata": {},
   "outputs": [],
   "source": [
    "outs_combined = pd.concat([outs_1,outs_2])\n",
    "outs_combined.to_pickle(f'./model_outputs/output {model_name} combined {today}.npy')\n",
    "outs_combined.to_csv(f'./model_outputs/output combined {model_name} {state}-{today}.csv')"
   ]
  },
  {
   "cell_type": "code",
   "execution_count": null,
   "metadata": {},
   "outputs": [
    {
     "name": "stderr",
     "output_type": "stream",
     "text": [
      "100%|██████████| 162850/162850 [00:30<00:00, 5360.34it/s]\n"
     ]
    },
    {
     "name": "stdout",
     "output_type": "stream",
     "text": [
      "filled =275245\n",
      "empty  =1027555\n",
      "0.21127187595947192null_dog=0\n",
      "510\n"
     ]
    },
    {
     "name": "stderr",
     "output_type": "stream",
     "text": [
      "100%|██████████| 59/59 [00:04<00:00, 12.99it/s]\n",
      "100%|██████████| 24/24 [00:00<00:00, 2397.89it/s]\n"
     ]
    },
    {
     "name": "stdout",
     "output_type": "stream",
     "text": [
      "filled =172\n",
      "empty  =20\n",
      "0.8958333333333334null_dog=0\n"
     ]
    }
   ],
   "source": [
    "model_name = \"upbeat-plant-202\"\n",
    "outs = gen_predictions(model_name, raceDB, predDB_nsw)\n",
    "outs['Model Name'] = model_name\n",
    "today = datetime.datetime.today().strftime('%Y-%m-%d')\n",
    "outs.replace('Richmond Straight','Richmond',inplace = True)\n",
    "outs = outs[outs['track'].isin(['Richmond'])]\n",
    "outs.to_pickle(f'./model_outputs/output {model_name} {today}.npy')\n",
    "outs.to_csv(f'./model_outputs/output {model_name} {state}-{today}.csv')\n",
    "outs_carress = outs"
   ]
  },
  {
   "cell_type": "code",
   "execution_count": null,
   "metadata": {},
   "outputs": [
    {
     "name": "stderr",
     "output_type": "stream",
     "text": [
      "100%|██████████| 161848/161848 [00:21<00:00, 7458.84it/s]\n"
     ]
    },
    {
     "name": "stdout",
     "output_type": "stream",
     "text": [
      "filled =273708\n",
      "empty  =1021076\n",
      "0.21139278829519054null_dog=0\n",
      "510\n"
     ]
    },
    {
     "name": "stderr",
     "output_type": "stream",
     "text": [
      "100%|██████████| 57/57 [00:05<00:00, 10.50it/s]\n",
      "100%|██████████| 42/42 [00:00<00:00, 2797.49it/s]\n"
     ]
    },
    {
     "name": "stdout",
     "output_type": "stream",
     "text": [
      "filled =293\n",
      "empty  =43\n",
      "0.8720238095238095null_dog=0\n"
     ]
    }
   ],
   "source": [
    "model_name = \"fearless-shadow-200\"\n",
    "outs = gen_predictions(model_name, raceDB, predDB_nsw)\n",
    "outs['Model Name'] = model_name\n",
    "today = datetime.datetime.today().strftime('%Y-%m-%d')\n",
    "outs.replace('Richmond Straight','Richmond',inplace = True)\n",
    "outs.to_pickle(f'./model_outputs/output {model_name} {today}.npy')\n",
    "outs.to_csv(f'./model_outputs/output {model_name} {state}-{today}.csv')\n",
    "outs_carress = outs"
   ]
  },
  {
   "cell_type": "code",
   "execution_count": null,
   "metadata": {},
   "outputs": [
    {
     "name": "stderr",
     "output_type": "stream",
     "text": [
      "100%|██████████| 161871/161871 [00:20<00:00, 7836.88it/s]\n"
     ]
    },
    {
     "name": "stdout",
     "output_type": "stream",
     "text": [
      "filled =273509\n",
      "empty  =1021459\n",
      "0.21120908006993222null_dog=0\n",
      "512\n"
     ]
    },
    {
     "name": "stderr",
     "output_type": "stream",
     "text": [
      "100%|██████████| 57/57 [00:04<00:00, 11.86it/s]\n",
      "100%|██████████| 18/18 [00:00<00:00, 2441.15it/s]\n"
     ]
    },
    {
     "name": "stdout",
     "output_type": "stream",
     "text": [
      "filled =126\n",
      "empty  =18\n",
      "0.875null_dog=0\n"
     ]
    }
   ],
   "source": [
    "model_name = \"effortless-sweep-1\"\n",
    "outs = gen_predictions(model_name, raceDB, predDB_nsw)\n",
    "outs['Model Name'] = model_name\n",
    "today = datetime.datetime.today().strftime('%Y-%m-%d')\n",
    "outs.to_pickle(f'./model_outputs/output {model_name} {today}.npy')\n",
    "outs.to_csv(f'./model_outputs/output {model_name} {state}-{today}.csv')\n",
    "outs_carress = outs"
   ]
  },
  {
   "cell_type": "code",
   "execution_count": null,
   "metadata": {},
   "outputs": [
    {
     "name": "stderr",
     "output_type": "stream",
     "text": [
      "100%|██████████| 161871/161871 [00:20<00:00, 7843.07it/s]\n"
     ]
    },
    {
     "name": "stdout",
     "output_type": "stream",
     "text": [
      "filled =273509\n",
      "empty  =1021459\n",
      "0.21120908006993222null_dog=0\n",
      "512\n"
     ]
    },
    {
     "name": "stderr",
     "output_type": "stream",
     "text": [
      "100%|██████████| 57/57 [00:05<00:00, 10.47it/s]\n",
      "100%|██████████| 31/31 [00:00<00:00, 2581.01it/s]\n"
     ]
    },
    {
     "name": "stdout",
     "output_type": "stream",
     "text": [
      "filled =223\n",
      "empty  =25\n",
      "0.8991935483870968null_dog=0\n"
     ]
    }
   ],
   "source": [
    "model_name = \"dulcet-waterfall-189\"\n",
    "outs = gen_predictions(model_name, raceDB, predDB_nsw)\n",
    "outs['Model Name'] = model_name\n",
    "today = datetime.datetime.today().strftime('%Y-%m-%d')\n",
    "outs.to_pickle(f'./model_outputs/output {model_name} {today}.npy')\n",
    "outs.to_csv(f'./model_outputs/output {model_name} {state}-{today}.csv')\n",
    "outs_carress = outs"
   ]
  },
  {
   "cell_type": "code",
   "execution_count": null,
   "metadata": {},
   "outputs": [
    {
     "name": "stderr",
     "output_type": "stream",
     "text": [
      "100%|██████████| 161871/161871 [00:19<00:00, 8152.61it/s]\n"
     ]
    },
    {
     "name": "stdout",
     "output_type": "stream",
     "text": [
      "filled =273415\n",
      "empty  =1021553\n",
      "0.2111364914036486null_dog=0\n",
      "512\n"
     ]
    },
    {
     "ename": "RuntimeError",
     "evalue": "Error(s) in loading state_dict for smalll_lin_GRUNet:\n\tsize mismatch for batchnorm.weight: copying a param with shape torch.Size([416]) from checkpoint, the shape in current model is torch.Size([512]).\n\tsize mismatch for batchnorm.bias: copying a param with shape torch.Size([416]) from checkpoint, the shape in current model is torch.Size([512]).\n\tsize mismatch for batchnorm.running_mean: copying a param with shape torch.Size([416]) from checkpoint, the shape in current model is torch.Size([512]).\n\tsize mismatch for batchnorm.running_var: copying a param with shape torch.Size([416]) from checkpoint, the shape in current model is torch.Size([512]).\n\tsize mismatch for fc0.weight: copying a param with shape torch.Size([416, 416]) from checkpoint, the shape in current model is torch.Size([512, 512]).\n\tsize mismatch for fc0.bias: copying a param with shape torch.Size([416]) from checkpoint, the shape in current model is torch.Size([512]).\n\tsize mismatch for gru1.weight_ih: copying a param with shape torch.Size([192, 416]) from checkpoint, the shape in current model is torch.Size([192, 512]).\n\tsize mismatch for gru2.weight_ih: copying a param with shape torch.Size([192, 416]) from checkpoint, the shape in current model is torch.Size([192, 512]).\n\tsize mismatch for gru3.weight_ih: copying a param with shape torch.Size([192, 416]) from checkpoint, the shape in current model is torch.Size([192, 512]).\n\tsize mismatch for gru4.weight_ih: copying a param with shape torch.Size([192, 416]) from checkpoint, the shape in current model is torch.Size([192, 512]).\n\tsize mismatch for gru5.weight_ih: copying a param with shape torch.Size([192, 416]) from checkpoint, the shape in current model is torch.Size([192, 512]).\n\tsize mismatch for gru6.weight_ih: copying a param with shape torch.Size([192, 416]) from checkpoint, the shape in current model is torch.Size([192, 512]).\n\tsize mismatch for gru7.weight_ih: copying a param with shape torch.Size([192, 416]) from checkpoint, the shape in current model is torch.Size([192, 512]).\n\tsize mismatch for gru8.weight_ih: copying a param with shape torch.Size([192, 416]) from checkpoint, the shape in current model is torch.Size([192, 512]).",
     "output_type": "error",
     "traceback": [
      "\u001b[1;31m---------------------------------------------------------------------------\u001b[0m",
      "\u001b[1;31mRuntimeError\u001b[0m                              Traceback (most recent call last)",
      "Cell \u001b[1;32mIn[36], line 2\u001b[0m\n\u001b[0;32m      1\u001b[0m model_name \u001b[39m=\u001b[39m \u001b[39m\"\u001b[39m\u001b[39mforthright-caress-156\u001b[39m\u001b[39m\"\u001b[39m\n\u001b[1;32m----> 2\u001b[0m outs \u001b[39m=\u001b[39m gen_predictions(model_name, raceDB, predDB_nsw)\n\u001b[0;32m      3\u001b[0m outs[\u001b[39m'\u001b[39m\u001b[39mModel Name\u001b[39m\u001b[39m'\u001b[39m] \u001b[39m=\u001b[39m model_name\n\u001b[0;32m      4\u001b[0m today \u001b[39m=\u001b[39m datetime\u001b[39m.\u001b[39mdatetime\u001b[39m.\u001b[39mtoday()\u001b[39m.\u001b[39mstrftime(\u001b[39m'\u001b[39m\u001b[39m%\u001b[39m\u001b[39mY-\u001b[39m\u001b[39m%\u001b[39m\u001b[39mm-\u001b[39m\u001b[39m%d\u001b[39;00m\u001b[39m'\u001b[39m)\n",
      "Cell \u001b[1;32mIn[32], line 3\u001b[0m, in \u001b[0;36mgen_predictions\u001b[1;34m(model_name, raceDB, predDB)\u001b[0m\n\u001b[0;32m      1\u001b[0m \u001b[39mdef\u001b[39;00m \u001b[39mgen_predictions\u001b[39m(model_name, raceDB, predDB):\n\u001b[0;32m      2\u001b[0m     model \u001b[39m=\u001b[39m \u001b[39mf\u001b[39m\u001b[39m\"\u001b[39m\u001b[39mC:/Users/Nick/Documents/GitHub/grvmodel/Python/pytorch/New Model/savedmodel/\u001b[39m\u001b[39m{\u001b[39;00mmodel_name\u001b[39m}\u001b[39;00m\u001b[39m/\u001b[39m\u001b[39m{\u001b[39;00mmodel_name\u001b[39m}\u001b[39;00m\u001b[39m_450.pt\u001b[39m\u001b[39m\"\u001b[39m\n\u001b[1;32m----> 3\u001b[0m     hidden_states \u001b[39m=\u001b[39m update_hidden_state(raceDB, model)\n\u001b[0;32m      4\u001b[0m     outs \u001b[39m=\u001b[39m model_predictions(predDB, model, net_size\u001b[39m=\u001b[39m\u001b[39m'\u001b[39m\u001b[39msmall_lin\u001b[39m\u001b[39m'\u001b[39m, new_hidden_state\u001b[39m=\u001b[39mhidden_states )\n\u001b[0;32m      5\u001b[0m     \u001b[39mreturn\u001b[39;00m outs\n",
      "Cell \u001b[1;32mIn[31], line 8\u001b[0m, in \u001b[0;36mupdate_hidden_state\u001b[1;34m(raceDB, model_name)\u001b[0m\n\u001b[0;32m      6\u001b[0m raceDB\u001b[39m.\u001b[39mto_cuda()\n\u001b[0;32m      7\u001b[0m nsw_model_full \u001b[39m=\u001b[39m smalll_lin_GRUNet(input_size\u001b[39m=\u001b[39minput_size,hidden_size\u001b[39m=\u001b[39m\u001b[39m64\u001b[39m)\u001b[39m.\u001b[39mto(\u001b[39m'\u001b[39m\u001b[39mcuda:0\u001b[39m\u001b[39m'\u001b[39m)\n\u001b[1;32m----> 8\u001b[0m nsw_model_full\u001b[39m.\u001b[39;49mload_state_dict(nsw_model_loaded[\u001b[39m'\u001b[39;49m\u001b[39mmodel_state_dict\u001b[39;49m\u001b[39m'\u001b[39;49m])\n\u001b[0;32m     10\u001b[0m races \u001b[39m=\u001b[39m raceDB\u001b[39m.\u001b[39mget_test_input(\u001b[39mrange\u001b[39m(\u001b[39m0\u001b[39m,\u001b[39mlen\u001b[39m(raceDB\u001b[39m.\u001b[39mtest_race_ids)))\n\u001b[0;32m     12\u001b[0m nsw_model_full\u001b[39m.\u001b[39meval()\n",
      "File \u001b[1;32mc:\\Users\\Nick\\.conda\\envs\\PYTORCH\\lib\\site-packages\\torch\\nn\\modules\\module.py:1604\u001b[0m, in \u001b[0;36mModule.load_state_dict\u001b[1;34m(self, state_dict, strict)\u001b[0m\n\u001b[0;32m   1599\u001b[0m         error_msgs\u001b[39m.\u001b[39minsert(\n\u001b[0;32m   1600\u001b[0m             \u001b[39m0\u001b[39m, \u001b[39m'\u001b[39m\u001b[39mMissing key(s) in state_dict: \u001b[39m\u001b[39m{}\u001b[39;00m\u001b[39m. \u001b[39m\u001b[39m'\u001b[39m\u001b[39m.\u001b[39mformat(\n\u001b[0;32m   1601\u001b[0m                 \u001b[39m'\u001b[39m\u001b[39m, \u001b[39m\u001b[39m'\u001b[39m\u001b[39m.\u001b[39mjoin(\u001b[39m'\u001b[39m\u001b[39m\"\u001b[39m\u001b[39m{}\u001b[39;00m\u001b[39m\"\u001b[39m\u001b[39m'\u001b[39m\u001b[39m.\u001b[39mformat(k) \u001b[39mfor\u001b[39;00m k \u001b[39min\u001b[39;00m missing_keys)))\n\u001b[0;32m   1603\u001b[0m \u001b[39mif\u001b[39;00m \u001b[39mlen\u001b[39m(error_msgs) \u001b[39m>\u001b[39m \u001b[39m0\u001b[39m:\n\u001b[1;32m-> 1604\u001b[0m     \u001b[39mraise\u001b[39;00m \u001b[39mRuntimeError\u001b[39;00m(\u001b[39m'\u001b[39m\u001b[39mError(s) in loading state_dict for \u001b[39m\u001b[39m{}\u001b[39;00m\u001b[39m:\u001b[39m\u001b[39m\\n\u001b[39;00m\u001b[39m\\t\u001b[39;00m\u001b[39m{}\u001b[39;00m\u001b[39m'\u001b[39m\u001b[39m.\u001b[39mformat(\n\u001b[0;32m   1605\u001b[0m                        \u001b[39mself\u001b[39m\u001b[39m.\u001b[39m\u001b[39m__class__\u001b[39m\u001b[39m.\u001b[39m\u001b[39m__name__\u001b[39m, \u001b[39m\"\u001b[39m\u001b[39m\\n\u001b[39;00m\u001b[39m\\t\u001b[39;00m\u001b[39m\"\u001b[39m\u001b[39m.\u001b[39mjoin(error_msgs)))\n\u001b[0;32m   1606\u001b[0m \u001b[39mreturn\u001b[39;00m _IncompatibleKeys(missing_keys, unexpected_keys)\n",
      "\u001b[1;31mRuntimeError\u001b[0m: Error(s) in loading state_dict for smalll_lin_GRUNet:\n\tsize mismatch for batchnorm.weight: copying a param with shape torch.Size([416]) from checkpoint, the shape in current model is torch.Size([512]).\n\tsize mismatch for batchnorm.bias: copying a param with shape torch.Size([416]) from checkpoint, the shape in current model is torch.Size([512]).\n\tsize mismatch for batchnorm.running_mean: copying a param with shape torch.Size([416]) from checkpoint, the shape in current model is torch.Size([512]).\n\tsize mismatch for batchnorm.running_var: copying a param with shape torch.Size([416]) from checkpoint, the shape in current model is torch.Size([512]).\n\tsize mismatch for fc0.weight: copying a param with shape torch.Size([416, 416]) from checkpoint, the shape in current model is torch.Size([512, 512]).\n\tsize mismatch for fc0.bias: copying a param with shape torch.Size([416]) from checkpoint, the shape in current model is torch.Size([512]).\n\tsize mismatch for gru1.weight_ih: copying a param with shape torch.Size([192, 416]) from checkpoint, the shape in current model is torch.Size([192, 512]).\n\tsize mismatch for gru2.weight_ih: copying a param with shape torch.Size([192, 416]) from checkpoint, the shape in current model is torch.Size([192, 512]).\n\tsize mismatch for gru3.weight_ih: copying a param with shape torch.Size([192, 416]) from checkpoint, the shape in current model is torch.Size([192, 512]).\n\tsize mismatch for gru4.weight_ih: copying a param with shape torch.Size([192, 416]) from checkpoint, the shape in current model is torch.Size([192, 512]).\n\tsize mismatch for gru5.weight_ih: copying a param with shape torch.Size([192, 416]) from checkpoint, the shape in current model is torch.Size([192, 512]).\n\tsize mismatch for gru6.weight_ih: copying a param with shape torch.Size([192, 416]) from checkpoint, the shape in current model is torch.Size([192, 512]).\n\tsize mismatch for gru7.weight_ih: copying a param with shape torch.Size([192, 416]) from checkpoint, the shape in current model is torch.Size([192, 512]).\n\tsize mismatch for gru8.weight_ih: copying a param with shape torch.Size([192, 416]) from checkpoint, the shape in current model is torch.Size([192, 512])."
     ]
    }
   ],
   "source": [
    "\n",
    "model_name = \"forthright-caress-156\"\n",
    "outs = gen_predictions(model_name, raceDB, predDB_nsw)\n",
    "outs['Model Name'] = model_name\n",
    "today = datetime.datetime.today().strftime('%Y-%m-%d')\n",
    "outs.to_pickle(f'./model_outputs/output {model_name} {today}.npy')\n",
    "outs.to_csv(f'./model_outputs/output {model_name} {state}-{today}.csv')\n",
    "outs_carress = outs"
   ]
  },
  {
   "cell_type": "code",
   "execution_count": null,
   "metadata": {},
   "outputs": [
    {
     "name": "stderr",
     "output_type": "stream",
     "text": [
      "100%|██████████| 161170/161170 [00:22<00:00, 7209.10it/s]\n"
     ]
    },
    {
     "name": "stdout",
     "output_type": "stream",
     "text": [
      "filled =271623\n",
      "empty  =1017737\n",
      "0.2106649810758826null_dog=0\n"
     ]
    },
    {
     "name": "stderr",
     "output_type": "stream",
     "text": [
      "100%|██████████| 73/73 [00:06<00:00, 11.94it/s]\n",
      "100%|██████████| 34/34 [00:00<00:00, 2426.43it/s]\n"
     ]
    },
    {
     "name": "stdout",
     "output_type": "stream",
     "text": [
      "filled =251\n",
      "empty  =21\n",
      "0.9227941176470589null_dog=0\n"
     ]
    }
   ],
   "source": [
    "model_name = \"stilted-sweep-15\"\n",
    "outs = gen_predictions(\"stilted-sweep-15\", raceDB, predDB_nsw)\n",
    "today = datetime.datetime.today().strftime('%Y-%m-%d')\n",
    "outs.to_pickle(f'./model_outputs/output {model_name} {today}.npy')\n",
    "outs.to_csv(f'./model_outputs/output {model_name} {state}-{today}.csv')\n",
    "outs_stilted = outs"
   ]
  },
  {
   "cell_type": "code",
   "execution_count": null,
   "metadata": {},
   "outputs": [
    {
     "name": "stderr",
     "output_type": "stream",
     "text": [
      "100%|██████████| 161170/161170 [00:23<00:00, 6890.25it/s]\n"
     ]
    },
    {
     "name": "stdout",
     "output_type": "stream",
     "text": [
      "filled =271623\n",
      "empty  =1017737\n",
      "0.2106649810758826null_dog=0\n"
     ]
    },
    {
     "name": "stderr",
     "output_type": "stream",
     "text": [
      "100%|██████████| 73/73 [00:06<00:00, 11.67it/s]\n",
      "100%|██████████| 34/34 [00:00<00:00, 2264.49it/s]\n"
     ]
    },
    {
     "name": "stdout",
     "output_type": "stream",
     "text": [
      "filled =251\n",
      "empty  =21\n",
      "0.9227941176470589null_dog=0\n"
     ]
    }
   ],
   "source": [
    "model_name = \"visionary-sweep-1\"\n",
    "outs = gen_predictions(model_name, raceDB, predDB_nsw)\n",
    "today = datetime.datetime.today().strftime('%Y-%m-%d')\n",
    "outs.to_pickle(f'./model_outputs/output {model_name} {today}.npy')\n",
    "outs.to_csv(f'./model_outputs/output {model_name} {state}-{today}.csv')\n",
    "outs_vision = outs"
   ]
  },
  {
   "cell_type": "code",
   "execution_count": null,
   "metadata": {},
   "outputs": [
    {
     "name": "stderr",
     "output_type": "stream",
     "text": [
      "100%|██████████| 161170/161170 [00:22<00:00, 7077.21it/s]\n"
     ]
    },
    {
     "name": "stdout",
     "output_type": "stream",
     "text": [
      "filled =272214\n",
      "empty  =1017146\n",
      "0.21112334801762114null_dog=0\n"
     ]
    },
    {
     "name": "stderr",
     "output_type": "stream",
     "text": [
      "100%|██████████| 73/73 [00:04<00:00, 15.35it/s]\n",
      "100%|██████████| 34/34 [00:00<00:00, 1698.54it/s]\n"
     ]
    },
    {
     "name": "stdout",
     "output_type": "stream",
     "text": [
      "filled =252\n",
      "empty  =20\n",
      "0.9264705882352942null_dog=0\n"
     ]
    }
   ],
   "source": [
    "model_name = 'forthright-quiver-153'\n",
    "outs = gen_predictions(model_name, raceDB, predDB_nsw)\n",
    "today = datetime.datetime.today().strftime('%Y-%m-%d')\n",
    "outs.to_pickle(f'./model_outputs/output {model_name} {today}.npy')\n",
    "outs.to_csv(f'./model_outputs/output {model_name} {state}-{today}.csv')\n",
    "outs_quiver = outs"
   ]
  },
  {
   "cell_type": "code",
   "execution_count": null,
   "metadata": {},
   "outputs": [
    {
     "name": "stderr",
     "output_type": "stream",
     "text": [
      "100%|██████████| 161170/161170 [00:22<00:00, 7161.66it/s]\n"
     ]
    },
    {
     "name": "stdout",
     "output_type": "stream",
     "text": [
      "filled =272214\n",
      "empty  =1017146\n",
      "0.21112334801762114null_dog=0\n"
     ]
    },
    {
     "name": "stderr",
     "output_type": "stream",
     "text": [
      "100%|██████████| 73/73 [00:05<00:00, 12.26it/s]\n",
      "100%|██████████| 34/34 [00:00<00:00, 2264.17it/s]\n"
     ]
    },
    {
     "name": "stdout",
     "output_type": "stream",
     "text": [
      "filled =251\n",
      "empty  =21\n",
      "0.9227941176470589null_dog=0\n"
     ]
    }
   ],
   "source": [
    "model_name = 'prime-sweep-8'\n",
    "outs = gen_predictions(model_name, raceDB, predDB_nsw)\n",
    "today = datetime.datetime.today().strftime('%Y-%m-%d')\n",
    "outs.to_pickle(f'./model_outputs/output {model_name} {today}.npy')\n",
    "outs.to_csv(f'./model_outputs/output {model_name} {state}-{today}.csv')\n",
    "outs_prime = outs"
   ]
  },
  {
   "cell_type": "code",
   "execution_count": null,
   "metadata": {},
   "outputs": [
    {
     "ename": "NameError",
     "evalue": "name 'outs_carress' is not defined",
     "output_type": "error",
     "traceback": [
      "\u001b[1;31m---------------------------------------------------------------------------\u001b[0m",
      "\u001b[1;31mNameError\u001b[0m                                 Traceback (most recent call last)",
      "Cell \u001b[1;32mIn[19], line 2\u001b[0m\n\u001b[0;32m      1\u001b[0m all_preds \u001b[39m=\u001b[39m outs[[\u001b[39m'\u001b[39m\u001b[39mraceid\u001b[39m\u001b[39m'\u001b[39m,\u001b[39m'\u001b[39m\u001b[39mtrack\u001b[39m\u001b[39m'\u001b[39m,\u001b[39m'\u001b[39m\u001b[39mracetime\u001b[39m\u001b[39m'\u001b[39m,\u001b[39m'\u001b[39m\u001b[39mbox\u001b[39m\u001b[39m'\u001b[39m,\u001b[39m'\u001b[39m\u001b[39mdogs\u001b[39m\u001b[39m'\u001b[39m,\u001b[39m'\u001b[39m\u001b[39mdogid\u001b[39m\u001b[39m'\u001b[39m]]\n\u001b[1;32m----> 2\u001b[0m all_preds_merge \u001b[39m=\u001b[39m all_preds\u001b[39m.\u001b[39mmerge(outs_carress, on\u001b[39m=\u001b[39m[\u001b[39m'\u001b[39m\u001b[39mraceid\u001b[39m\u001b[39m'\u001b[39m,\u001b[39m'\u001b[39m\u001b[39mbox\u001b[39m\u001b[39m'\u001b[39m])\n",
      "\u001b[1;31mNameError\u001b[0m: name 'outs_carress' is not defined"
     ]
    }
   ],
   "source": [
    "all_preds = outs[['raceid','track','racetime','box','dogs','dogid']]\n",
    "all_preds_merge = all_preds.merge(outs_stilted, on=['raceid','box'])"
   ]
  },
  {
   "cell_type": "code",
   "execution_count": null,
   "metadata": {},
   "outputs": [],
   "source": [
    "outs = gen_predictions(\"pleasant-sweep-3\", raceDB, predDB_nsw)"
   ]
  },
  {
   "cell_type": "code",
   "execution_count": null,
   "metadata": {},
   "outputs": [
    {
     "data": {
      "application/vnd.jupyter.widget-view+json": {
       "model_id": "f967f58e1ca640958bdcd0894603184b",
       "version_major": 2,
       "version_minor": 0
      },
      "text/plain": [
       "  0%|          | 0/39546 [00:00<?, ?it/s]"
      ]
     },
     "metadata": {},
     "output_type": "display_data"
    },
    {
     "name": "stdout",
     "output_type": "stream",
     "text": [
      "filled =267422\n",
      "empty  =48946\n",
      "0.8452877661457543null_dog=0\n"
     ]
    }
   ],
   "source": [
    "\n",
    "nsw_model =  f\"C:/Users/Nick/Documents/GitHub/grvmodel/Python/pytorch/New Model/savedmodel/{model_name}/{model_name}_450.pt\"\n",
    "hidden_states = update_hidden_state(raceDB, nsw_model)"
   ]
  },
  {
   "cell_type": "code",
   "execution_count": null,
   "metadata": {},
   "outputs": [
    {
     "data": {
      "application/vnd.jupyter.widget-view+json": {
       "model_id": "80dbc5f3c34c438ea01d2cc99e42512f",
       "version_major": 2,
       "version_minor": 0
      },
      "text/plain": [
       "  0%|          | 0/39546 [00:00<?, ?it/s]"
      ]
     },
     "metadata": {},
     "output_type": "display_data"
    },
    {
     "name": "stdout",
     "output_type": "stream",
     "text": [
      "filled =267422\n",
      "empty  =48946\n",
      "0.8452877661457543null_dog=0\n"
     ]
    }
   ],
   "source": [
    "model_name = \"pleasant-sweep-3\"\n",
    "nsw_model =  f\"C:/Users/Nick/Documents/GitHub/grvmodel/Python/pytorch/New Model/savedmodel/{model_name}/{model_name}_450.pt\"\n",
    "hidden_states_pleasent = update_hidden_state(raceDB, nsw_model)"
   ]
  },
  {
   "cell_type": "code",
   "execution_count": null,
   "metadata": {},
   "outputs": [
    {
     "data": {
      "application/vnd.jupyter.widget-view+json": {
       "model_id": "fedca768e0c64aa1a94f5a4d36e4b66f",
       "version_major": 2,
       "version_minor": 0
      },
      "text/plain": [
       "  0%|          | 0/34 [00:00<?, ?it/s]"
      ]
     },
     "metadata": {},
     "output_type": "display_data"
    },
    {
     "name": "stdout",
     "output_type": "stream",
     "text": [
      "filled =247\n",
      "empty  =25\n",
      "0.9080882352941176null_dog=0\n"
     ]
    }
   ],
   "source": [
    "outs_nsw = model_predictions(predDB_nsw, nsw_model, net_size='small_lin', new_hidden_state=hidden_states )\n",
    "outs = outs_nsw"
   ]
  },
  {
   "cell_type": "code",
   "execution_count": null,
   "metadata": {},
   "outputs": [],
   "source": [
    "today = datetime.datetime.today().strftime('%Y-%m-%d')\n",
    "outs.to_pickle(f'output {model_name} {today}.npy')\n",
    "outs.to_csv(f'output {model_name} {state}-{today}.csv')"
   ]
  },
  {
   "cell_type": "code",
   "execution_count": null,
   "metadata": {},
   "outputs": [
    {
     "data": {
      "application/vnd.jupyter.widget-view+json": {
       "model_id": "952068af85f24cc6b08fd76c4c1eebc3",
       "version_major": 2,
       "version_minor": 0
      },
      "text/plain": [
       "  0%|          | 0/39546 [00:00<?, ?it/s]"
      ]
     },
     "metadata": {},
     "output_type": "display_data"
    },
    {
     "name": "stdout",
     "output_type": "stream",
     "text": [
      "filled =267422\n",
      "empty  =48946\n",
      "0.8452877661457543null_dog=0\n"
     ]
    },
    {
     "data": {
      "text/plain": [
       "<All keys matched successfully>"
      ]
     },
     "execution_count": 4,
     "metadata": {},
     "output_type": "execute_result"
    }
   ],
   "source": [
    "nsw_model_loaded = torch.load(r\"C:\\Users\\Nick\\Documents\\GitHub\\grvmodel\\Python\\pytorch\\New Model\\savedmodel\\pleasant-sweep-3\\pleasant-sweep-3_450.pt\",map_location=torch.device('cuda:0'))\n",
    "raceDB.fill_hidden_states_from_dict(hidden_dict=nsw_model_loaded['db'])\n",
    "input_size = raceDB.get_race_input([0,1])[0].full_input.shape[0]\n",
    "raceDB.to_cuda()\n",
    "nsw_model_full = smalll_lin_GRUNet(input_size=input_size,hidden_size=64).to('cuda:0')\n",
    "nsw_model_full.load_state_dict(nsw_model_loaded['model_state_dict'])\n"
   ]
  },
  {
   "cell_type": "code",
   "execution_count": null,
   "metadata": {},
   "outputs": [],
   "source": [
    "races = raceDB.get_test_input(range(0,2542))"
   ]
  },
  {
   "cell_type": "code",
   "execution_count": null,
   "metadata": {},
   "outputs": [],
   "source": [
    "nsw_model_full.eval()\n",
    "with torch.no_grad():\n",
    "    outs_full = nsw_model_full(races)"
   ]
  },
  {
   "cell_type": "code",
   "execution_count": null,
   "metadata": {},
   "outputs": [],
   "source": [
    "raceDB.create_hidden_states_dict()\n",
    "new_rdb = raceDB.hidden_states_dict\n"
   ]
  },
  {
   "cell_type": "code",
   "execution_count": null,
   "metadata": {},
   "outputs": [],
   "source": []
  },
  {
   "cell_type": "code",
   "execution_count": null,
   "metadata": {},
   "outputs": [],
   "source": []
  },
  {
   "cell_type": "code",
   "execution_count": null,
   "metadata": {},
   "outputs": [
    {
     "data": {
      "application/vnd.jupyter.widget-view+json": {
       "model_id": "05f3365306204f18ab0f71c8ea0ecc9d",
       "version_major": 2,
       "version_minor": 0
      },
      "text/plain": [
       "  0%|          | 0/34 [00:00<?, ?it/s]"
      ]
     },
     "metadata": {},
     "output_type": "display_data"
    },
    {
     "name": "stdout",
     "output_type": "stream",
     "text": [
      "filled =241\n",
      "empty  =31\n",
      "0.8860294117647058null_dog=0\n"
     ]
    }
   ],
   "source": []
  },
  {
   "cell_type": "code",
   "execution_count": null,
   "metadata": {},
   "outputs": [],
   "source": []
  },
  {
   "cell_type": "code",
   "execution_count": null,
   "metadata": {},
   "outputs": [
    {
     "data": {
      "application/vnd.jupyter.widget-view+json": {
       "model_id": "55529818706b4f0691c438f3731da777",
       "version_major": 2,
       "version_minor": 0
      },
      "text/plain": [
       "  0%|          | 0/175 [00:00<?, ?it/s]"
      ]
     },
     "metadata": {},
     "output_type": "display_data"
    },
    {
     "name": "stderr",
     "output_type": "stream",
     "text": [
      "c:\\Users\\Nick\\.conda\\envs\\pytorch\\lib\\site-packages\\tqdm\\std.py:1195: FutureWarning: In a future version of pandas, a length 1 tuple will be returned when iterating over a groupby with a grouper equal to a list of length 1. Don't supply a list with a single grouper to avoid this warning.\n",
      "  for obj in iterable:\n"
     ]
    },
    {
     "data": {
      "application/vnd.jupyter.widget-view+json": {
       "model_id": "87ba108d9a434340ad0df98a35cb633f",
       "version_major": 2,
       "version_minor": 0
      },
      "text/plain": [
       "  0%|          | 0/24 [00:00<?, ?it/s]"
      ]
     },
     "metadata": {},
     "output_type": "display_data"
    },
    {
     "name": "stdout",
     "output_type": "stream",
     "text": [
      "number of races = 24, number of unique dogs = 175\n"
     ]
    },
    {
     "name": "stderr",
     "output_type": "stream",
     "text": [
      "c:\\Users\\Nick\\.conda\\envs\\pytorch\\lib\\site-packages\\tqdm\\std.py:1195: FutureWarning: In a future version of pandas, a length 1 tuple will be returned when iterating over a groupby with a grouper equal to a list of length 1. Don't supply a list with a single grouper to avoid this warning.\n",
      "  for obj in iterable:\n"
     ]
    }
   ],
   "source": [
    "state = \"NZ\"\n",
    "pred_df_nz = pred_df[pred_df['state'].str.contains(state, na=False)]\n",
    "hidden_size = 64\n",
    "predDB_nz = build_pred_dataset(pred_df_nz, hidden_size)"
   ]
  },
  {
   "cell_type": "code",
   "execution_count": null,
   "metadata": {},
   "outputs": [
    {
     "data": {
      "text/plain": [
       "11"
      ]
     },
     "execution_count": 27,
     "metadata": {},
     "output_type": "execute_result"
    }
   ],
   "source": [
    "(pred_df_nsw['prev_race']==-1).sum()"
   ]
  },
  {
   "cell_type": "code",
   "execution_count": null,
   "metadata": {},
   "outputs": [],
   "source": [
    "nsw_model =  r\"C:\\Users\\Nick\\Documents\\GitHub\\grvmodel\\Python\\pytorch\\New Model\\savedmodel\\pleasant-sweep-3\\pleasant-sweep-3_450.pt\"\n",
    "nz_model = r\"C:\\Users\\Nick\\Documents\\GitHub\\grvmodel\\Python\\pytorch\\New Model\\savedmodel\\very long run RUN NZ\\very long run RUN NZ_450.pt\""
   ]
  },
  {
   "cell_type": "code",
   "execution_count": null,
   "metadata": {},
   "outputs": [],
   "source": [
    "all_data = r'C:\\Users\\Nick\\Documents\\GitHub\\grvmodel\\Python\\Database Updater\\DATA\\new_windows_gru_REAL.npy'"
   ]
  },
  {
   "cell_type": "code",
   "execution_count": null,
   "metadata": {},
   "outputs": [
    {
     "data": {
      "text/plain": [
       "<module 'model_predictions' from 'c:\\\\Users\\\\Nick\\\\Documents\\\\GitHub\\\\grvmodel\\\\Python\\\\pytorch\\\\New Model\\\\LSTM\\\\model_predictions.py'>"
      ]
     },
     "execution_count": 18,
     "metadata": {},
     "output_type": "execute_result"
    }
   ],
   "source": [
    "importlib.reload(model_predictions)"
   ]
  },
  {
   "cell_type": "code",
   "execution_count": null,
   "metadata": {},
   "outputs": [],
   "source": [
    "test_R = predDB_nsw.get_race_input([1,2])[0]"
   ]
  },
  {
   "cell_type": "code",
   "execution_count": null,
   "metadata": {},
   "outputs": [
    {
     "data": {
      "text/plain": [
       "71"
      ]
     },
     "execution_count": 6,
     "metadata": {},
     "output_type": "execute_result"
    }
   ],
   "source": [
    "len(test_R.race_track)"
   ]
  },
  {
   "cell_type": "code",
   "execution_count": null,
   "metadata": {},
   "outputs": [
    {
     "data": {
      "application/vnd.jupyter.widget-view+json": {
       "model_id": "4b6fa20b7a43487d88638dfefecf6893",
       "version_major": 2,
       "version_minor": 0
      },
      "text/plain": [
       "  0%|          | 0/34 [00:00<?, ?it/s]"
      ]
     },
     "metadata": {},
     "output_type": "display_data"
    },
    {
     "name": "stdout",
     "output_type": "stream",
     "text": [
      "filled =223\n",
      "empty  =49\n",
      "0.8198529411764706\n"
     ]
    }
   ],
   "source": [
    "outs_nsw = model_predictions.model_predictions(predDB_nsw, nsw_model, net_size='small_lin')\n",
    "#outs_nz =  model_predictions.model_predictions(predDB_nz , nz_model)"
   ]
  },
  {
   "cell_type": "code",
   "execution_count": null,
   "metadata": {},
   "outputs": [],
   "source": [
    "outs = pd.concat([outs_nsw,outs_nz])"
   ]
  },
  {
   "cell_type": "code",
   "execution_count": null,
   "metadata": {},
   "outputs": [],
   "source": [
    "outs = outs_nsw"
   ]
  },
  {
   "cell_type": "code",
   "execution_count": null,
   "metadata": {},
   "outputs": [],
   "source": [
    "today = datetime.datetime.today().strftime('%Y-%m-%d')\n",
    "outs.to_pickle(f'output {today}.npy')\n",
    "outs.to_csv(f'output {state }-{today}.csv')\n"
   ]
  },
  {
   "cell_type": "code",
   "execution_count": null,
   "metadata": {},
   "outputs": [
    {
     "data": {
      "text/plain": [
       "Mandurah         95\n",
       "Shepparton       95\n",
       "Sandown Park     94\n",
       "Gunnedah         94\n",
       "Christchurch     92\n",
       "Casino           92\n",
       "Traralgon        90\n",
       "Warrnambool      89\n",
       "Albion Park      84\n",
       "Waikato          83\n",
       "Hobart           80\n",
       "Angle Park       77\n",
       "Dapto            75\n",
       "Mount Gambier    74\n",
       "Name: track_name, dtype: int64"
      ]
     },
     "execution_count": 8,
     "metadata": {},
     "output_type": "execute_result"
    }
   ],
   "source": [
    "pred_df = pd.read_pickle(r'C:\\Users\\Nick\\Documents\\GitHub\\grvmodel\\Python\\Database Updater\\prediction_input 2023-01-26.npy')\n",
    "pred_df.track_name.value_counts()"
   ]
  },
  {
   "cell_type": "code",
   "execution_count": null,
   "metadata": {},
   "outputs": [
    {
     "data": {
      "text/plain": [
       "71"
      ]
     },
     "execution_count": 5,
     "metadata": {},
     "output_type": "execute_result"
    }
   ],
   "source": [
    "len(pred_df.trackOHE.iloc[0])"
   ]
  },
  {
   "cell_type": "code",
   "execution_count": null,
   "metadata": {},
   "outputs": [],
   "source": [
    "x = predDB.racesDict.values()"
   ]
  },
  {
   "cell_type": "code",
   "execution_count": null,
   "metadata": {},
   "outputs": [],
   "source": [
    "torch_saved_dict = torch.load(r\"C:\\Users\\Nick\\Documents\\GitHub\\grvmodel\\Python\\pytorch\\New Model\\savedmodel\\long nsw 2000 RUN\\long nsw 2000 RUN_450.pt\",map_location=torch.device('cpu'))"
   ]
  },
  {
   "cell_type": "code",
   "execution_count": null,
   "metadata": {},
   "outputs": [],
   "source": [
    "# model_state_dict = torch_saved_dict['model_state_dict']"
   ]
  },
  {
   "cell_type": "code",
   "execution_count": null,
   "metadata": {},
   "outputs": [],
   "source": [
    "predDB.to_cpu()"
   ]
  },
  {
   "cell_type": "code",
   "execution_count": null,
   "metadata": {},
   "outputs": [
    {
     "data": {
      "application/vnd.jupyter.widget-view+json": {
       "model_id": "c22468238e53443faf19486616eeb976",
       "version_major": 2,
       "version_minor": 0
      },
      "text/plain": [
       "  0%|          | 0/34 [00:00<?, ?it/s]"
      ]
     },
     "metadata": {},
     "output_type": "display_data"
    },
    {
     "name": "stdout",
     "output_type": "stream",
     "text": [
      "filled =218\n",
      "empty  =54\n",
      "0.8014705882352942\n"
     ]
    }
   ],
   "source": [
    "predDB.fill_hidden_states_from_dict(hidden_dict=torch_saved_dict['db'])"
   ]
  },
  {
   "cell_type": "code",
   "execution_count": null,
   "metadata": {},
   "outputs": [
    {
     "data": {
      "text/plain": [
       "dict_values([<rnn_classes.Race object at 0x000001C2B9ABD310>, <rnn_classes.Race object at 0x000001C2B9ABDD00>, <rnn_classes.Race object at 0x000001C2B9ABD6D0>, <rnn_classes.Race object at 0x000001C2B9ABD280>, <rnn_classes.Race object at 0x000001C2B9A80370>, <rnn_classes.Race object at 0x000001C2B9ABD790>, <rnn_classes.Race object at 0x000001C2B9ABDC70>, <rnn_classes.Race object at 0x000001C2B9A806D0>, <rnn_classes.Race object at 0x000001C2B981BF70>, <rnn_classes.Race object at 0x000001C2B9ABD9D0>, <rnn_classes.Race object at 0x000001C2B9ABDE20>, <rnn_classes.Race object at 0x000001C2B9A80490>, <rnn_classes.Race object at 0x000001C2B9A9B4F0>, <rnn_classes.Race object at 0x000001C2B9ABDE50>, <rnn_classes.Race object at 0x000001C2B9ABDE80>, <rnn_classes.Race object at 0x000001C2B9A807C0>, <rnn_classes.Race object at 0x000001C2B9AB8F70>, <rnn_classes.Race object at 0x000001C2B9ABD820>, <rnn_classes.Race object at 0x000001C2B9ABD700>, <rnn_classes.Race object at 0x000001C2B9A80940>, <rnn_classes.Race object at 0x000001C2B9A80790>, <rnn_classes.Race object at 0x000001C2B9ABD220>, <rnn_classes.Race object at 0x000001C2B9ABDC40>, <rnn_classes.Race object at 0x000001C2B9AC6670>, <rnn_classes.Race object at 0x000001C2B9A809A0>, <rnn_classes.Race object at 0x000001C2B9ABD4C0>, <rnn_classes.Race object at 0x000001C2B9ABD4F0>, <rnn_classes.Race object at 0x000001C2B9A9FF10>, <rnn_classes.Race object at 0x000001C2B9A9B040>, <rnn_classes.Race object at 0x000001C2B9ABD670>, <rnn_classes.Race object at 0x000001C2B9ABDDC0>, <rnn_classes.Race object at 0x000001C2B9A9FD00>, <rnn_classes.Race object at 0x000001C2B9ABDB20>, <rnn_classes.Race object at 0x000001C2B9ABD940>])"
      ]
     },
     "execution_count": 11,
     "metadata": {},
     "output_type": "execute_result"
    }
   ],
   "source": [
    "predDB.racesDict.values()"
   ]
  },
  {
   "cell_type": "code",
   "execution_count": null,
   "metadata": {},
   "outputs": [
    {
     "name": "stdout",
     "output_type": "stream",
     "text": [
      "232\n",
      "232\n",
      "232\n",
      "232\n",
      "232\n",
      "232\n",
      "232\n",
      "232\n",
      "232\n",
      "232\n",
      "232\n",
      "232\n",
      "232\n",
      "232\n",
      "232\n",
      "232\n",
      "232\n",
      "232\n",
      "232\n",
      "232\n",
      "232\n",
      "232\n",
      "232\n",
      "232\n",
      "232\n",
      "232\n",
      "232\n",
      "232\n",
      "232\n",
      "232\n",
      "232\n",
      "232\n",
      "232\n",
      "232\n"
     ]
    }
   ],
   "source": [
    "for r in predDB.racesDict.values():\n",
    "    print(len(r.full_input))"
   ]
  },
  {
   "cell_type": "code",
   "execution_count": null,
   "metadata": {},
   "outputs": [
    {
     "data": {
      "text/plain": [
       "<All keys matched successfully>"
      ]
     },
     "execution_count": 13,
     "metadata": {},
     "output_type": "execute_result"
    }
   ],
   "source": [
    "input_size = predDB.get_race_input([0,1])[0].full_input.shape[0]\n",
    "model = GRUNet(input_size,64, output='softmax')\n",
    "model.load_state_dict(torch_saved_dict['model_state_dict'])"
   ]
  },
  {
   "cell_type": "code",
   "execution_count": null,
   "metadata": {},
   "outputs": [],
   "source": [
    "model.eval()\n",
    "outs = model(predDB.racesDict.values()).to('cpu')\n",
    "predDB.to_cpu()\n",
    "outs_list = [item for sublist in outs.tolist() for item in sublist]"
   ]
  },
  {
   "cell_type": "code",
   "execution_count": null,
   "metadata": {},
   "outputs": [],
   "source": [
    "dogs = [dog.dog.dog_name for sublist in [r.dogs for r in x] for dog in sublist]\n",
    "box = [r for s in [[1,2,3,4,5,6,7,8] for r in x] for r in s]\n",
    "dogId = [dog.dog.dogid for sublist in [r.dogs for r in x] for dog in sublist]\n",
    "times = [r for s in [[r.race_time]*8 for r in x] for r in s]\n",
    "rid = [r for s in [[r.raceid]*8 for r in x] for r in s]\n",
    "track = [r for s in [[r.track_name]*8 for r in x] for r in s]\n",
    "rnum = [r for s in [[int(r.race_num)]*8 for r in x] for r in s]"
   ]
  },
  {
   "cell_type": "code",
   "execution_count": null,
   "metadata": {},
   "outputs": [],
   "source": [
    "outs = pd.DataFrame(data = {\"raceid\":rid, \"track\":track, \"racetime\":times,\"box\":box, \"dogs\":dogs, \"dogid\":dogId, \"conf\":outs_list,\"race_num\":rnum })"
   ]
  },
  {
   "cell_type": "code",
   "execution_count": null,
   "metadata": {},
   "outputs": [],
   "source": [
    "outs['pred_price'] = outs['conf'].apply(lambda x: 1/(x))"
   ]
  },
  {
   "cell_type": "code",
   "execution_count": null,
   "metadata": {},
   "outputs": [],
   "source": [
    "outs = outs.sort_values(['track','race_num','box'])"
   ]
  },
  {
   "cell_type": "code",
   "execution_count": null,
   "metadata": {},
   "outputs": [
    {
     "data": {
      "text/html": [
       "<div>\n",
       "<style scoped>\n",
       "    .dataframe tbody tr th:only-of-type {\n",
       "        vertical-align: middle;\n",
       "    }\n",
       "\n",
       "    .dataframe tbody tr th {\n",
       "        vertical-align: top;\n",
       "    }\n",
       "\n",
       "    .dataframe thead th {\n",
       "        text-align: right;\n",
       "    }\n",
       "</style>\n",
       "<table border=\"1\" class=\"dataframe\">\n",
       "  <thead>\n",
       "    <tr style=\"text-align: right;\">\n",
       "      <th></th>\n",
       "      <th>raceid</th>\n",
       "      <th>track</th>\n",
       "      <th>racetime</th>\n",
       "      <th>box</th>\n",
       "      <th>dogs</th>\n",
       "      <th>dogid</th>\n",
       "      <th>conf</th>\n",
       "      <th>race_num</th>\n",
       "      <th>pred_price</th>\n",
       "    </tr>\n",
       "  </thead>\n",
       "  <tbody>\n",
       "    <tr>\n",
       "      <th>0</th>\n",
       "      <td>865597968</td>\n",
       "      <td>Casino</td>\n",
       "      <td>10:36AM</td>\n",
       "      <td>1</td>\n",
       "      <td>CUTTIN' GRASS</td>\n",
       "      <td>672317468</td>\n",
       "      <td>0.088841</td>\n",
       "      <td>1</td>\n",
       "      <td>11.256009</td>\n",
       "    </tr>\n",
       "    <tr>\n",
       "      <th>1</th>\n",
       "      <td>865597968</td>\n",
       "      <td>Casino</td>\n",
       "      <td>10:36AM</td>\n",
       "      <td>2</td>\n",
       "      <td>CURIOUS CAZA</td>\n",
       "      <td>714918126</td>\n",
       "      <td>0.112474</td>\n",
       "      <td>1</td>\n",
       "      <td>8.890962</td>\n",
       "    </tr>\n",
       "    <tr>\n",
       "      <th>2</th>\n",
       "      <td>865597968</td>\n",
       "      <td>Casino</td>\n",
       "      <td>10:36AM</td>\n",
       "      <td>3</td>\n",
       "      <td>SEVEN SINNERS</td>\n",
       "      <td>669960288</td>\n",
       "      <td>0.206793</td>\n",
       "      <td>1</td>\n",
       "      <td>4.835751</td>\n",
       "    </tr>\n",
       "    <tr>\n",
       "      <th>3</th>\n",
       "      <td>865597968</td>\n",
       "      <td>Casino</td>\n",
       "      <td>10:36AM</td>\n",
       "      <td>4</td>\n",
       "      <td>SPRITELY GLENNIS</td>\n",
       "      <td>587949066</td>\n",
       "      <td>0.079609</td>\n",
       "      <td>1</td>\n",
       "      <td>12.561409</td>\n",
       "    </tr>\n",
       "    <tr>\n",
       "      <th>4</th>\n",
       "      <td>865597968</td>\n",
       "      <td>Casino</td>\n",
       "      <td>10:36AM</td>\n",
       "      <td>5</td>\n",
       "      <td>AMARTEY PARTY</td>\n",
       "      <td>654230428</td>\n",
       "      <td>0.000446</td>\n",
       "      <td>1</td>\n",
       "      <td>2244.363565</td>\n",
       "    </tr>\n",
       "    <tr>\n",
       "      <th>5</th>\n",
       "      <td>865597968</td>\n",
       "      <td>Casino</td>\n",
       "      <td>10:36AM</td>\n",
       "      <td>6</td>\n",
       "      <td>CLOVER JULIET</td>\n",
       "      <td>556974388</td>\n",
       "      <td>0.225925</td>\n",
       "      <td>1</td>\n",
       "      <td>4.426243</td>\n",
       "    </tr>\n",
       "    <tr>\n",
       "      <th>6</th>\n",
       "      <td>865597968</td>\n",
       "      <td>Casino</td>\n",
       "      <td>10:36AM</td>\n",
       "      <td>7</td>\n",
       "      <td>MR FRESH</td>\n",
       "      <td>714917101</td>\n",
       "      <td>0.117305</td>\n",
       "      <td>1</td>\n",
       "      <td>8.524808</td>\n",
       "    </tr>\n",
       "    <tr>\n",
       "      <th>7</th>\n",
       "      <td>865597968</td>\n",
       "      <td>Casino</td>\n",
       "      <td>10:36AM</td>\n",
       "      <td>8</td>\n",
       "      <td>INTEGRITY SON</td>\n",
       "      <td>555068999</td>\n",
       "      <td>0.168607</td>\n",
       "      <td>1</td>\n",
       "      <td>5.930941</td>\n",
       "    </tr>\n",
       "    <tr>\n",
       "      <th>8</th>\n",
       "      <td>865597969</td>\n",
       "      <td>Casino</td>\n",
       "      <td>10:56AM</td>\n",
       "      <td>1</td>\n",
       "      <td>ALL THUNDER</td>\n",
       "      <td>592709649</td>\n",
       "      <td>0.168463</td>\n",
       "      <td>2</td>\n",
       "      <td>5.936028</td>\n",
       "    </tr>\n",
       "    <tr>\n",
       "      <th>9</th>\n",
       "      <td>865597969</td>\n",
       "      <td>Casino</td>\n",
       "      <td>10:56AM</td>\n",
       "      <td>2</td>\n",
       "      <td>IN THE THIRTIES</td>\n",
       "      <td>471933615</td>\n",
       "      <td>0.000509</td>\n",
       "      <td>2</td>\n",
       "      <td>1964.320351</td>\n",
       "    </tr>\n",
       "    <tr>\n",
       "      <th>10</th>\n",
       "      <td>865597969</td>\n",
       "      <td>Casino</td>\n",
       "      <td>10:56AM</td>\n",
       "      <td>3</td>\n",
       "      <td>ARTURO</td>\n",
       "      <td>614056788</td>\n",
       "      <td>0.100223</td>\n",
       "      <td>2</td>\n",
       "      <td>9.977775</td>\n",
       "    </tr>\n",
       "    <tr>\n",
       "      <th>11</th>\n",
       "      <td>865597969</td>\n",
       "      <td>Casino</td>\n",
       "      <td>10:56AM</td>\n",
       "      <td>4</td>\n",
       "      <td>BOOK BOOK</td>\n",
       "      <td>654230427</td>\n",
       "      <td>0.070188</td>\n",
       "      <td>2</td>\n",
       "      <td>14.247456</td>\n",
       "    </tr>\n",
       "    <tr>\n",
       "      <th>12</th>\n",
       "      <td>865597969</td>\n",
       "      <td>Casino</td>\n",
       "      <td>10:56AM</td>\n",
       "      <td>5</td>\n",
       "      <td>OLSEN GANG</td>\n",
       "      <td>629792118</td>\n",
       "      <td>0.000438</td>\n",
       "      <td>2</td>\n",
       "      <td>2284.624365</td>\n",
       "    </tr>\n",
       "    <tr>\n",
       "      <th>13</th>\n",
       "      <td>865597969</td>\n",
       "      <td>Casino</td>\n",
       "      <td>10:56AM</td>\n",
       "      <td>6</td>\n",
       "      <td>MCLINTOCK</td>\n",
       "      <td>675307103</td>\n",
       "      <td>0.147737</td>\n",
       "      <td>2</td>\n",
       "      <td>6.768790</td>\n",
       "    </tr>\n",
       "    <tr>\n",
       "      <th>14</th>\n",
       "      <td>865597969</td>\n",
       "      <td>Casino</td>\n",
       "      <td>10:56AM</td>\n",
       "      <td>7</td>\n",
       "      <td>BUNDY ROSE</td>\n",
       "      <td>654230904</td>\n",
       "      <td>0.036443</td>\n",
       "      <td>2</td>\n",
       "      <td>27.440163</td>\n",
       "    </tr>\n",
       "    <tr>\n",
       "      <th>15</th>\n",
       "      <td>865597969</td>\n",
       "      <td>Casino</td>\n",
       "      <td>10:56AM</td>\n",
       "      <td>8</td>\n",
       "      <td>TOO TOUGH TERRY</td>\n",
       "      <td>705700708</td>\n",
       "      <td>0.476000</td>\n",
       "      <td>2</td>\n",
       "      <td>2.100841</td>\n",
       "    </tr>\n",
       "    <tr>\n",
       "      <th>16</th>\n",
       "      <td>865597970</td>\n",
       "      <td>Casino</td>\n",
       "      <td>11:13AM</td>\n",
       "      <td>1</td>\n",
       "      <td>CHOOSE WELL</td>\n",
       "      <td>580794298</td>\n",
       "      <td>0.443885</td>\n",
       "      <td>3</td>\n",
       "      <td>2.252838</td>\n",
       "    </tr>\n",
       "    <tr>\n",
       "      <th>17</th>\n",
       "      <td>865597970</td>\n",
       "      <td>Casino</td>\n",
       "      <td>11:13AM</td>\n",
       "      <td>2</td>\n",
       "      <td>BOKARM DONNA</td>\n",
       "      <td>433000359</td>\n",
       "      <td>0.020545</td>\n",
       "      <td>3</td>\n",
       "      <td>48.674477</td>\n",
       "    </tr>\n",
       "    <tr>\n",
       "      <th>18</th>\n",
       "      <td>865597970</td>\n",
       "      <td>Casino</td>\n",
       "      <td>11:13AM</td>\n",
       "      <td>3</td>\n",
       "      <td>KINGSBRAE DEMON</td>\n",
       "      <td>656363295</td>\n",
       "      <td>0.416989</td>\n",
       "      <td>3</td>\n",
       "      <td>2.398144</td>\n",
       "    </tr>\n",
       "    <tr>\n",
       "      <th>19</th>\n",
       "      <td>865597970</td>\n",
       "      <td>Casino</td>\n",
       "      <td>11:13AM</td>\n",
       "      <td>4</td>\n",
       "      <td>SEDUCTIVE ZARA</td>\n",
       "      <td>623992997</td>\n",
       "      <td>0.057709</td>\n",
       "      <td>3</td>\n",
       "      <td>17.328445</td>\n",
       "    </tr>\n",
       "    <tr>\n",
       "      <th>20</th>\n",
       "      <td>865597970</td>\n",
       "      <td>Casino</td>\n",
       "      <td>11:13AM</td>\n",
       "      <td>5</td>\n",
       "      <td>THREE PUTT PAR</td>\n",
       "      <td>654231425</td>\n",
       "      <td>0.026003</td>\n",
       "      <td>3</td>\n",
       "      <td>38.456752</td>\n",
       "    </tr>\n",
       "    <tr>\n",
       "      <th>21</th>\n",
       "      <td>865597970</td>\n",
       "      <td>Casino</td>\n",
       "      <td>11:13AM</td>\n",
       "      <td>6</td>\n",
       "      <td>EDEN FLYER</td>\n",
       "      <td>461066295</td>\n",
       "      <td>0.020727</td>\n",
       "      <td>3</td>\n",
       "      <td>48.246203</td>\n",
       "    </tr>\n",
       "    <tr>\n",
       "      <th>22</th>\n",
       "      <td>865597970</td>\n",
       "      <td>Casino</td>\n",
       "      <td>11:13AM</td>\n",
       "      <td>7</td>\n",
       "      <td>GLENREAGH BURNER</td>\n",
       "      <td>629791608</td>\n",
       "      <td>0.002086</td>\n",
       "      <td>3</td>\n",
       "      <td>479.457709</td>\n",
       "    </tr>\n",
       "    <tr>\n",
       "      <th>23</th>\n",
       "      <td>865597970</td>\n",
       "      <td>Casino</td>\n",
       "      <td>11:13AM</td>\n",
       "      <td>8</td>\n",
       "      <td>BLAZING BONUS</td>\n",
       "      <td>517862182</td>\n",
       "      <td>0.012057</td>\n",
       "      <td>3</td>\n",
       "      <td>82.938943</td>\n",
       "    </tr>\n",
       "    <tr>\n",
       "      <th>24</th>\n",
       "      <td>865597971</td>\n",
       "      <td>Casino</td>\n",
       "      <td>11:33AM</td>\n",
       "      <td>1</td>\n",
       "      <td>WHO ROUX DUDE</td>\n",
       "      <td>644469397</td>\n",
       "      <td>0.055809</td>\n",
       "      <td>4</td>\n",
       "      <td>17.918108</td>\n",
       "    </tr>\n",
       "    <tr>\n",
       "      <th>25</th>\n",
       "      <td>865597971</td>\n",
       "      <td>Casino</td>\n",
       "      <td>11:33AM</td>\n",
       "      <td>2</td>\n",
       "      <td>EVE AND JAN</td>\n",
       "      <td>587948061</td>\n",
       "      <td>0.031644</td>\n",
       "      <td>4</td>\n",
       "      <td>31.601644</td>\n",
       "    </tr>\n",
       "    <tr>\n",
       "      <th>26</th>\n",
       "      <td>865597971</td>\n",
       "      <td>Casino</td>\n",
       "      <td>11:33AM</td>\n",
       "      <td>3</td>\n",
       "      <td>DOUBLE CHARMING</td>\n",
       "      <td>680209719</td>\n",
       "      <td>0.141911</td>\n",
       "      <td>4</td>\n",
       "      <td>7.046695</td>\n",
       "    </tr>\n",
       "    <tr>\n",
       "      <th>27</th>\n",
       "      <td>865597971</td>\n",
       "      <td>Casino</td>\n",
       "      <td>11:33AM</td>\n",
       "      <td>4</td>\n",
       "      <td>COCO BUNDOCK</td>\n",
       "      <td>656364287</td>\n",
       "      <td>0.372971</td>\n",
       "      <td>4</td>\n",
       "      <td>2.681171</td>\n",
       "    </tr>\n",
       "    <tr>\n",
       "      <th>28</th>\n",
       "      <td>865597971</td>\n",
       "      <td>Casino</td>\n",
       "      <td>11:33AM</td>\n",
       "      <td>5</td>\n",
       "      <td>RIPPLE LANE</td>\n",
       "      <td>614056753</td>\n",
       "      <td>0.000955</td>\n",
       "      <td>4</td>\n",
       "      <td>1047.618858</td>\n",
       "    </tr>\n",
       "    <tr>\n",
       "      <th>29</th>\n",
       "      <td>865597971</td>\n",
       "      <td>Casino</td>\n",
       "      <td>11:33AM</td>\n",
       "      <td>6</td>\n",
       "      <td>SECRET GIFT</td>\n",
       "      <td>638803592</td>\n",
       "      <td>0.013778</td>\n",
       "      <td>4</td>\n",
       "      <td>72.580327</td>\n",
       "    </tr>\n",
       "    <tr>\n",
       "      <th>30</th>\n",
       "      <td>865597971</td>\n",
       "      <td>Casino</td>\n",
       "      <td>11:33AM</td>\n",
       "      <td>7</td>\n",
       "      <td>GODDESS OF WAR</td>\n",
       "      <td>638802691</td>\n",
       "      <td>0.116801</td>\n",
       "      <td>4</td>\n",
       "      <td>8.561597</td>\n",
       "    </tr>\n",
       "    <tr>\n",
       "      <th>31</th>\n",
       "      <td>865597971</td>\n",
       "      <td>Casino</td>\n",
       "      <td>11:33AM</td>\n",
       "      <td>8</td>\n",
       "      <td>FAN COOL UNIT</td>\n",
       "      <td>448841575</td>\n",
       "      <td>0.266132</td>\n",
       "      <td>4</td>\n",
       "      <td>3.757537</td>\n",
       "    </tr>\n",
       "    <tr>\n",
       "      <th>32</th>\n",
       "      <td>865597972</td>\n",
       "      <td>Casino</td>\n",
       "      <td>11:50AM</td>\n",
       "      <td>1</td>\n",
       "      <td>KINGSBRAE ANNA</td>\n",
       "      <td>451768846</td>\n",
       "      <td>0.077705</td>\n",
       "      <td>5</td>\n",
       "      <td>12.869222</td>\n",
       "    </tr>\n",
       "    <tr>\n",
       "      <th>33</th>\n",
       "      <td>865597972</td>\n",
       "      <td>Casino</td>\n",
       "      <td>11:50AM</td>\n",
       "      <td>2</td>\n",
       "      <td>SUDDEN COMFORT</td>\n",
       "      <td>430849531</td>\n",
       "      <td>0.030771</td>\n",
       "      <td>5</td>\n",
       "      <td>32.498340</td>\n",
       "    </tr>\n",
       "    <tr>\n",
       "      <th>34</th>\n",
       "      <td>865597972</td>\n",
       "      <td>Casino</td>\n",
       "      <td>11:50AM</td>\n",
       "      <td>3</td>\n",
       "      <td>FAST LIAR</td>\n",
       "      <td>556974867</td>\n",
       "      <td>0.172627</td>\n",
       "      <td>5</td>\n",
       "      <td>5.792823</td>\n",
       "    </tr>\n",
       "    <tr>\n",
       "      <th>35</th>\n",
       "      <td>865597972</td>\n",
       "      <td>Casino</td>\n",
       "      <td>11:50AM</td>\n",
       "      <td>4</td>\n",
       "      <td>HAAS</td>\n",
       "      <td>360995108</td>\n",
       "      <td>0.065815</td>\n",
       "      <td>5</td>\n",
       "      <td>15.194209</td>\n",
       "    </tr>\n",
       "    <tr>\n",
       "      <th>36</th>\n",
       "      <td>865597972</td>\n",
       "      <td>Casino</td>\n",
       "      <td>11:50AM</td>\n",
       "      <td>5</td>\n",
       "      <td>no_name</td>\n",
       "      <td>nullDog</td>\n",
       "      <td>0.170010</td>\n",
       "      <td>5</td>\n",
       "      <td>5.882005</td>\n",
       "    </tr>\n",
       "    <tr>\n",
       "      <th>37</th>\n",
       "      <td>865597972</td>\n",
       "      <td>Casino</td>\n",
       "      <td>11:50AM</td>\n",
       "      <td>6</td>\n",
       "      <td>CARRAMAR DRIVE</td>\n",
       "      <td>576143056</td>\n",
       "      <td>0.108203</td>\n",
       "      <td>5</td>\n",
       "      <td>9.241878</td>\n",
       "    </tr>\n",
       "    <tr>\n",
       "      <th>38</th>\n",
       "      <td>865597972</td>\n",
       "      <td>Casino</td>\n",
       "      <td>11:50AM</td>\n",
       "      <td>7</td>\n",
       "      <td>STACKED DECK</td>\n",
       "      <td>498735482</td>\n",
       "      <td>0.072486</td>\n",
       "      <td>5</td>\n",
       "      <td>13.795819</td>\n",
       "    </tr>\n",
       "    <tr>\n",
       "      <th>39</th>\n",
       "      <td>865597972</td>\n",
       "      <td>Casino</td>\n",
       "      <td>11:50AM</td>\n",
       "      <td>8</td>\n",
       "      <td>KNOW ALL JAMIE</td>\n",
       "      <td>530412273</td>\n",
       "      <td>0.302384</td>\n",
       "      <td>5</td>\n",
       "      <td>3.307058</td>\n",
       "    </tr>\n",
       "    <tr>\n",
       "      <th>40</th>\n",
       "      <td>865597973</td>\n",
       "      <td>Casino</td>\n",
       "      <td>12:11PM</td>\n",
       "      <td>1</td>\n",
       "      <td>SHE'S A SULLY</td>\n",
       "      <td>603189477</td>\n",
       "      <td>0.118957</td>\n",
       "      <td>6</td>\n",
       "      <td>8.406431</td>\n",
       "    </tr>\n",
       "    <tr>\n",
       "      <th>41</th>\n",
       "      <td>865597973</td>\n",
       "      <td>Casino</td>\n",
       "      <td>12:11PM</td>\n",
       "      <td>2</td>\n",
       "      <td>WILGUNYA SCOTT</td>\n",
       "      <td>530412799</td>\n",
       "      <td>0.003813</td>\n",
       "      <td>6</td>\n",
       "      <td>262.268171</td>\n",
       "    </tr>\n",
       "    <tr>\n",
       "      <th>42</th>\n",
       "      <td>865597973</td>\n",
       "      <td>Casino</td>\n",
       "      <td>12:11PM</td>\n",
       "      <td>3</td>\n",
       "      <td>GYPSY JOKER</td>\n",
       "      <td>629791132</td>\n",
       "      <td>0.195873</td>\n",
       "      <td>6</td>\n",
       "      <td>5.105359</td>\n",
       "    </tr>\n",
       "    <tr>\n",
       "      <th>43</th>\n",
       "      <td>865597973</td>\n",
       "      <td>Casino</td>\n",
       "      <td>12:11PM</td>\n",
       "      <td>4</td>\n",
       "      <td>NANGAR CANDY</td>\n",
       "      <td>549391148</td>\n",
       "      <td>0.159947</td>\n",
       "      <td>6</td>\n",
       "      <td>6.252056</td>\n",
       "    </tr>\n",
       "    <tr>\n",
       "      <th>44</th>\n",
       "      <td>865597973</td>\n",
       "      <td>Casino</td>\n",
       "      <td>12:11PM</td>\n",
       "      <td>5</td>\n",
       "      <td>CLOVER ATHENA</td>\n",
       "      <td>445020324</td>\n",
       "      <td>0.000243</td>\n",
       "      <td>6</td>\n",
       "      <td>4116.705459</td>\n",
       "    </tr>\n",
       "    <tr>\n",
       "      <th>45</th>\n",
       "      <td>865597973</td>\n",
       "      <td>Casino</td>\n",
       "      <td>12:11PM</td>\n",
       "      <td>6</td>\n",
       "      <td>MISS DUDETTE</td>\n",
       "      <td>644469393</td>\n",
       "      <td>0.069804</td>\n",
       "      <td>6</td>\n",
       "      <td>14.325729</td>\n",
       "    </tr>\n",
       "    <tr>\n",
       "      <th>46</th>\n",
       "      <td>865597973</td>\n",
       "      <td>Casino</td>\n",
       "      <td>12:11PM</td>\n",
       "      <td>7</td>\n",
       "      <td>HERE'S CAZA</td>\n",
       "      <td>540582234</td>\n",
       "      <td>0.026431</td>\n",
       "      <td>6</td>\n",
       "      <td>37.834796</td>\n",
       "    </tr>\n",
       "    <tr>\n",
       "      <th>47</th>\n",
       "      <td>865597973</td>\n",
       "      <td>Casino</td>\n",
       "      <td>12:11PM</td>\n",
       "      <td>8</td>\n",
       "      <td>KINGSBRAE BEAR</td>\n",
       "      <td>638802676</td>\n",
       "      <td>0.424932</td>\n",
       "      <td>6</td>\n",
       "      <td>2.353315</td>\n",
       "    </tr>\n",
       "    <tr>\n",
       "      <th>48</th>\n",
       "      <td>865597974</td>\n",
       "      <td>Casino</td>\n",
       "      <td>12:27PM</td>\n",
       "      <td>1</td>\n",
       "      <td>JUST ASK JAMIE</td>\n",
       "      <td>540632109</td>\n",
       "      <td>0.312997</td>\n",
       "      <td>7</td>\n",
       "      <td>3.194915</td>\n",
       "    </tr>\n",
       "    <tr>\n",
       "      <th>49</th>\n",
       "      <td>865597974</td>\n",
       "      <td>Casino</td>\n",
       "      <td>12:27PM</td>\n",
       "      <td>2</td>\n",
       "      <td>CONSORT</td>\n",
       "      <td>576142093</td>\n",
       "      <td>0.045352</td>\n",
       "      <td>7</td>\n",
       "      <td>22.049947</td>\n",
       "    </tr>\n",
       "  </tbody>\n",
       "</table>\n",
       "</div>"
      ],
      "text/plain": [
       "       raceid   track racetime  box              dogs      dogid      conf  \\\n",
       "0   865597968  Casino  10:36AM    1     CUTTIN' GRASS  672317468  0.088841   \n",
       "1   865597968  Casino  10:36AM    2      CURIOUS CAZA  714918126  0.112474   \n",
       "2   865597968  Casino  10:36AM    3     SEVEN SINNERS  669960288  0.206793   \n",
       "3   865597968  Casino  10:36AM    4  SPRITELY GLENNIS  587949066  0.079609   \n",
       "4   865597968  Casino  10:36AM    5     AMARTEY PARTY  654230428  0.000446   \n",
       "5   865597968  Casino  10:36AM    6     CLOVER JULIET  556974388  0.225925   \n",
       "6   865597968  Casino  10:36AM    7          MR FRESH  714917101  0.117305   \n",
       "7   865597968  Casino  10:36AM    8     INTEGRITY SON  555068999  0.168607   \n",
       "8   865597969  Casino  10:56AM    1       ALL THUNDER  592709649  0.168463   \n",
       "9   865597969  Casino  10:56AM    2   IN THE THIRTIES  471933615  0.000509   \n",
       "10  865597969  Casino  10:56AM    3            ARTURO  614056788  0.100223   \n",
       "11  865597969  Casino  10:56AM    4         BOOK BOOK  654230427  0.070188   \n",
       "12  865597969  Casino  10:56AM    5        OLSEN GANG  629792118  0.000438   \n",
       "13  865597969  Casino  10:56AM    6         MCLINTOCK  675307103  0.147737   \n",
       "14  865597969  Casino  10:56AM    7        BUNDY ROSE  654230904  0.036443   \n",
       "15  865597969  Casino  10:56AM    8   TOO TOUGH TERRY  705700708  0.476000   \n",
       "16  865597970  Casino  11:13AM    1       CHOOSE WELL  580794298  0.443885   \n",
       "17  865597970  Casino  11:13AM    2      BOKARM DONNA  433000359  0.020545   \n",
       "18  865597970  Casino  11:13AM    3   KINGSBRAE DEMON  656363295  0.416989   \n",
       "19  865597970  Casino  11:13AM    4    SEDUCTIVE ZARA  623992997  0.057709   \n",
       "20  865597970  Casino  11:13AM    5    THREE PUTT PAR  654231425  0.026003   \n",
       "21  865597970  Casino  11:13AM    6        EDEN FLYER  461066295  0.020727   \n",
       "22  865597970  Casino  11:13AM    7  GLENREAGH BURNER  629791608  0.002086   \n",
       "23  865597970  Casino  11:13AM    8     BLAZING BONUS  517862182  0.012057   \n",
       "24  865597971  Casino  11:33AM    1     WHO ROUX DUDE  644469397  0.055809   \n",
       "25  865597971  Casino  11:33AM    2       EVE AND JAN  587948061  0.031644   \n",
       "26  865597971  Casino  11:33AM    3   DOUBLE CHARMING  680209719  0.141911   \n",
       "27  865597971  Casino  11:33AM    4      COCO BUNDOCK  656364287  0.372971   \n",
       "28  865597971  Casino  11:33AM    5       RIPPLE LANE  614056753  0.000955   \n",
       "29  865597971  Casino  11:33AM    6       SECRET GIFT  638803592  0.013778   \n",
       "30  865597971  Casino  11:33AM    7    GODDESS OF WAR  638802691  0.116801   \n",
       "31  865597971  Casino  11:33AM    8     FAN COOL UNIT  448841575  0.266132   \n",
       "32  865597972  Casino  11:50AM    1    KINGSBRAE ANNA  451768846  0.077705   \n",
       "33  865597972  Casino  11:50AM    2    SUDDEN COMFORT  430849531  0.030771   \n",
       "34  865597972  Casino  11:50AM    3         FAST LIAR  556974867  0.172627   \n",
       "35  865597972  Casino  11:50AM    4              HAAS  360995108  0.065815   \n",
       "36  865597972  Casino  11:50AM    5           no_name    nullDog  0.170010   \n",
       "37  865597972  Casino  11:50AM    6    CARRAMAR DRIVE  576143056  0.108203   \n",
       "38  865597972  Casino  11:50AM    7      STACKED DECK  498735482  0.072486   \n",
       "39  865597972  Casino  11:50AM    8    KNOW ALL JAMIE  530412273  0.302384   \n",
       "40  865597973  Casino  12:11PM    1     SHE'S A SULLY  603189477  0.118957   \n",
       "41  865597973  Casino  12:11PM    2    WILGUNYA SCOTT  530412799  0.003813   \n",
       "42  865597973  Casino  12:11PM    3       GYPSY JOKER  629791132  0.195873   \n",
       "43  865597973  Casino  12:11PM    4      NANGAR CANDY  549391148  0.159947   \n",
       "44  865597973  Casino  12:11PM    5     CLOVER ATHENA  445020324  0.000243   \n",
       "45  865597973  Casino  12:11PM    6      MISS DUDETTE  644469393  0.069804   \n",
       "46  865597973  Casino  12:11PM    7       HERE'S CAZA  540582234  0.026431   \n",
       "47  865597973  Casino  12:11PM    8    KINGSBRAE BEAR  638802676  0.424932   \n",
       "48  865597974  Casino  12:27PM    1    JUST ASK JAMIE  540632109  0.312997   \n",
       "49  865597974  Casino  12:27PM    2           CONSORT  576142093  0.045352   \n",
       "\n",
       "    race_num   pred_price  \n",
       "0          1    11.256009  \n",
       "1          1     8.890962  \n",
       "2          1     4.835751  \n",
       "3          1    12.561409  \n",
       "4          1  2244.363565  \n",
       "5          1     4.426243  \n",
       "6          1     8.524808  \n",
       "7          1     5.930941  \n",
       "8          2     5.936028  \n",
       "9          2  1964.320351  \n",
       "10         2     9.977775  \n",
       "11         2    14.247456  \n",
       "12         2  2284.624365  \n",
       "13         2     6.768790  \n",
       "14         2    27.440163  \n",
       "15         2     2.100841  \n",
       "16         3     2.252838  \n",
       "17         3    48.674477  \n",
       "18         3     2.398144  \n",
       "19         3    17.328445  \n",
       "20         3    38.456752  \n",
       "21         3    48.246203  \n",
       "22         3   479.457709  \n",
       "23         3    82.938943  \n",
       "24         4    17.918108  \n",
       "25         4    31.601644  \n",
       "26         4     7.046695  \n",
       "27         4     2.681171  \n",
       "28         4  1047.618858  \n",
       "29         4    72.580327  \n",
       "30         4     8.561597  \n",
       "31         4     3.757537  \n",
       "32         5    12.869222  \n",
       "33         5    32.498340  \n",
       "34         5     5.792823  \n",
       "35         5    15.194209  \n",
       "36         5     5.882005  \n",
       "37         5     9.241878  \n",
       "38         5    13.795819  \n",
       "39         5     3.307058  \n",
       "40         6     8.406431  \n",
       "41         6   262.268171  \n",
       "42         6     5.105359  \n",
       "43         6     6.252056  \n",
       "44         6  4116.705459  \n",
       "45         6    14.325729  \n",
       "46         6    37.834796  \n",
       "47         6     2.353315  \n",
       "48         7     3.194915  \n",
       "49         7    22.049947  "
      ]
     },
     "execution_count": 19,
     "metadata": {},
     "output_type": "execute_result"
    }
   ],
   "source": [
    "outs.head(50)"
   ]
  },
  {
   "cell_type": "code",
   "execution_count": null,
   "metadata": {},
   "outputs": [
    {
     "data": {
      "text/plain": [
       "Casino      96\n",
       "Gunnedah    96\n",
       "Dapto       80\n",
       "Name: track, dtype: int64"
      ]
     },
     "execution_count": 20,
     "metadata": {},
     "output_type": "execute_result"
    }
   ],
   "source": [
    "outs.track.value_counts()"
   ]
  },
  {
   "cell_type": "code",
   "execution_count": null,
   "metadata": {},
   "outputs": [
    {
     "data": {
      "text/plain": [
       "71"
      ]
     },
     "execution_count": 21,
     "metadata": {},
     "output_type": "execute_result"
    }
   ],
   "source": [
    "len(pred_df.trackOHE.iloc[0])"
   ]
  },
  {
   "cell_type": "code",
   "execution_count": null,
   "metadata": {},
   "outputs": [],
   "source": [
    "today = datetime.datetime.today().strftime('%Y-%m-%d')\n",
    "outs.to_csv(f'output {state }{today}.csv')"
   ]
  },
  {
   "cell_type": "code",
   "execution_count": null,
   "metadata": {},
   "outputs": [],
   "source": [
    "outs.to_pickle('output 2023-01-24.npy')"
   ]
  },
  {
   "cell_type": "code",
   "execution_count": null,
   "metadata": {},
   "outputs": [
    {
     "data": {
      "text/plain": [
       "0       1\n",
       "1       1\n",
       "2       1\n",
       "3       1\n",
       "4       1\n",
       "       ..\n",
       "187    12\n",
       "188    12\n",
       "189    12\n",
       "190    12\n",
       "191    12\n",
       "Name: race_num, Length: 272, dtype: int64"
      ]
     },
     "execution_count": 24,
     "metadata": {},
     "output_type": "execute_result"
    }
   ],
   "source": [
    "outs.race_num"
   ]
  },
  {
   "cell_type": "code",
   "execution_count": null,
   "metadata": {},
   "outputs": [
    {
     "data": {
      "text/plain": [
       "'C:\\\\Users\\\\Nick\\\\Documents\\\\GitHub\\\\grvmodel\\\\Python\\\\DATA'"
      ]
     },
     "execution_count": 25,
     "metadata": {},
     "output_type": "execute_result"
    }
   ],
   "source": [
    "os.getcwd()"
   ]
  },
  {
   "cell_type": "code",
   "execution_count": null,
   "metadata": {},
   "outputs": [],
   "source": [
    "betfair_df = pd.read_pickle(r'.\\betfair races\\betfair races 2023-01-24.npy')"
   ]
  },
  {
   "cell_type": "code",
   "execution_count": null,
   "metadata": {},
   "outputs": [
    {
     "data": {
      "text/html": [
       "<div>\n",
       "<style scoped>\n",
       "    .dataframe tbody tr th:only-of-type {\n",
       "        vertical-align: middle;\n",
       "    }\n",
       "\n",
       "    .dataframe tbody tr th {\n",
       "        vertical-align: top;\n",
       "    }\n",
       "\n",
       "    .dataframe thead th {\n",
       "        text-align: right;\n",
       "    }\n",
       "</style>\n",
       "<table border=\"1\" class=\"dataframe\">\n",
       "  <thead>\n",
       "    <tr style=\"text-align: right;\">\n",
       "      <th></th>\n",
       "      <th>market_id</th>\n",
       "      <th>track</th>\n",
       "      <th>dist</th>\n",
       "      <th>race_num</th>\n",
       "      <th>runner_id</th>\n",
       "      <th>runnner_name</th>\n",
       "    </tr>\n",
       "  </thead>\n",
       "  <tbody>\n",
       "    <tr>\n",
       "      <th>0</th>\n",
       "      <td>1.209048130</td>\n",
       "      <td>Temora</td>\n",
       "      <td>R2</td>\n",
       "      <td>2</td>\n",
       "      <td>51312709</td>\n",
       "      <td>STRIVE POLDA</td>\n",
       "    </tr>\n",
       "    <tr>\n",
       "      <th>1</th>\n",
       "      <td>1.209048130</td>\n",
       "      <td>Temora</td>\n",
       "      <td>R2</td>\n",
       "      <td>2</td>\n",
       "      <td>41385415</td>\n",
       "      <td>TAYLEN BALE</td>\n",
       "    </tr>\n",
       "    <tr>\n",
       "      <th>2</th>\n",
       "      <td>1.209048130</td>\n",
       "      <td>Temora</td>\n",
       "      <td>R2</td>\n",
       "      <td>2</td>\n",
       "      <td>51918883</td>\n",
       "      <td>DOUBLE DIPPIN</td>\n",
       "    </tr>\n",
       "    <tr>\n",
       "      <th>3</th>\n",
       "      <td>1.209048130</td>\n",
       "      <td>Temora</td>\n",
       "      <td>R2</td>\n",
       "      <td>2</td>\n",
       "      <td>51129843</td>\n",
       "      <td>TAMMY TURBO</td>\n",
       "    </tr>\n",
       "    <tr>\n",
       "      <th>4</th>\n",
       "      <td>1.209048130</td>\n",
       "      <td>Temora</td>\n",
       "      <td>R2</td>\n",
       "      <td>2</td>\n",
       "      <td>51918884</td>\n",
       "      <td>QUEST FOR STARS</td>\n",
       "    </tr>\n",
       "    <tr>\n",
       "      <th>...</th>\n",
       "      <td>...</td>\n",
       "      <td>...</td>\n",
       "      <td>...</td>\n",
       "      <td>...</td>\n",
       "      <td>...</td>\n",
       "      <td>...</td>\n",
       "    </tr>\n",
       "    <tr>\n",
       "      <th>719</th>\n",
       "      <td>1.209048284</td>\n",
       "      <td>Gosford</td>\n",
       "      <td>R6</td>\n",
       "      <td>6</td>\n",
       "      <td>39791347</td>\n",
       "      <td>SOUND OF SILENCE</td>\n",
       "    </tr>\n",
       "    <tr>\n",
       "      <th>720</th>\n",
       "      <td>1.209048284</td>\n",
       "      <td>Gosford</td>\n",
       "      <td>R6</td>\n",
       "      <td>6</td>\n",
       "      <td>51918814</td>\n",
       "      <td>WE BACK</td>\n",
       "    </tr>\n",
       "    <tr>\n",
       "      <th>721</th>\n",
       "      <td>1.209048284</td>\n",
       "      <td>Gosford</td>\n",
       "      <td>R6</td>\n",
       "      <td>6</td>\n",
       "      <td>39979942</td>\n",
       "      <td>ZIPPING ALABAMA</td>\n",
       "    </tr>\n",
       "    <tr>\n",
       "      <th>722</th>\n",
       "      <td>1.209048284</td>\n",
       "      <td>Gosford</td>\n",
       "      <td>R6</td>\n",
       "      <td>6</td>\n",
       "      <td>41962222</td>\n",
       "      <td>NOT A SHAME</td>\n",
       "    </tr>\n",
       "    <tr>\n",
       "      <th>723</th>\n",
       "      <td>1.209048284</td>\n",
       "      <td>Gosford</td>\n",
       "      <td>R6</td>\n",
       "      <td>6</td>\n",
       "      <td>47692548</td>\n",
       "      <td>GRIM MADARA</td>\n",
       "    </tr>\n",
       "  </tbody>\n",
       "</table>\n",
       "<p>724 rows × 6 columns</p>\n",
       "</div>"
      ],
      "text/plain": [
       "       market_id    track dist  race_num  runner_id      runnner_name\n",
       "0    1.209048130   Temora   R2         2   51312709      STRIVE POLDA\n",
       "1    1.209048130   Temora   R2         2   41385415       TAYLEN BALE\n",
       "2    1.209048130   Temora   R2         2   51918883     DOUBLE DIPPIN\n",
       "3    1.209048130   Temora   R2         2   51129843       TAMMY TURBO\n",
       "4    1.209048130   Temora   R2         2   51918884   QUEST FOR STARS\n",
       "..           ...      ...  ...       ...        ...               ...\n",
       "719  1.209048284  Gosford   R6         6   39791347  SOUND OF SILENCE\n",
       "720  1.209048284  Gosford   R6         6   51918814           WE BACK\n",
       "721  1.209048284  Gosford   R6         6   39979942   ZIPPING ALABAMA\n",
       "722  1.209048284  Gosford   R6         6   41962222       NOT A SHAME\n",
       "723  1.209048284  Gosford   R6         6   47692548       GRIM MADARA\n",
       "\n",
       "[724 rows x 6 columns]"
      ]
     },
     "execution_count": 27,
     "metadata": {},
     "output_type": "execute_result"
    }
   ],
   "source": [
    "betfair_df"
   ]
  },
  {
   "cell_type": "code",
   "execution_count": null,
   "metadata": {},
   "outputs": [
    {
     "data": {
      "text/plain": [
       "Temora           86\n",
       "Murray Bridge    86\n",
       "Geelong          86\n",
       "Ipswich          83\n",
       "Richmond         80\n",
       "Launceston       76\n",
       "Horsham          70\n",
       "Warragul         45\n",
       "Grafton          44\n",
       "Gosford          44\n",
       "Townsville       24\n",
       "Name: track, dtype: int64"
      ]
     },
     "execution_count": 28,
     "metadata": {},
     "output_type": "execute_result"
    }
   ],
   "source": [
    "betfair_df.track.value_counts()"
   ]
  },
  {
   "cell_type": "code",
   "execution_count": null,
   "metadata": {},
   "outputs": [],
   "source": [
    "outs.race_num = pd.to_numeric(outs.race_num)"
   ]
  },
  {
   "cell_type": "code",
   "execution_count": null,
   "metadata": {},
   "outputs": [],
   "source": [
    "merged = pd.merge(outs, betfair_df, how='left', left_on=['race_num', 'dogs'], right_on=['race_num', 'runnner_name'])"
   ]
  },
  {
   "cell_type": "code",
   "execution_count": null,
   "metadata": {},
   "outputs": [],
   "source": [
    "# betfair_df_9 = betfair_df[betfair_df['race_num']==7]\n",
    "# outs = outs[outs['race_num']==7]\n",
    "# merged = pd.merge(outs, betfair_df_9, how='left', left_on=['dogs'], right_on=['runnner_name'])"
   ]
  },
  {
   "cell_type": "code",
   "execution_count": null,
   "metadata": {},
   "outputs": [
    {
     "data": {
      "text/plain": [
       "Casino      96\n",
       "Gunnedah    96\n",
       "Dapto       80\n",
       "Name: track_x, dtype: int64"
      ]
     },
     "execution_count": 32,
     "metadata": {},
     "output_type": "execute_result"
    }
   ],
   "source": [
    "merged.track_x.value_counts()"
   ]
  },
  {
   "cell_type": "code",
   "execution_count": null,
   "metadata": {},
   "outputs": [
    {
     "data": {
      "text/plain": [
       "Series([], Name: track_y, dtype: int64)"
      ]
     },
     "execution_count": 33,
     "metadata": {},
     "output_type": "execute_result"
    }
   ],
   "source": [
    "merged.track_y.value_counts()"
   ]
  },
  {
   "cell_type": "code",
   "execution_count": null,
   "metadata": {},
   "outputs": [
    {
     "data": {
      "text/plain": [
       "array([nan], dtype=object)"
      ]
     },
     "execution_count": 34,
     "metadata": {},
     "output_type": "execute_result"
    }
   ],
   "source": [
    "merged.market_id.unique()"
   ]
  }
 ],
 "metadata": {
  "kernelspec": {
   "display_name": "PYTORCH",
   "language": "python",
   "name": "python3"
  },
  "language_info": {
   "codemirror_mode": {
    "name": "ipython",
    "version": 3
   },
   "file_extension": ".py",
   "mimetype": "text/x-python",
   "name": "python",
   "nbconvert_exporter": "python",
   "pygments_lexer": "ipython3",
   "version": "3.9.16"
  },
  "orig_nbformat": 4,
  "vscode": {
   "interpreter": {
    "hash": "8a48ca33c5a1168302a4f8eae355aad1c03b1396f568d40bc174a6e6aabe725d"
   }
  }
 },
 "nbformat": 4,
 "nbformat_minor": 2
}
