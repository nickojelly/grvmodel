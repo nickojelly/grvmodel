{
 "cells": [
  {
   "cell_type": "code",
   "execution_count": 1,
   "metadata": {},
   "outputs": [
    {
     "name": "stderr",
     "output_type": "stream",
     "text": [
      "<frozen importlib._bootstrap>:228: RuntimeWarning: scipy._lib.messagestream.MessageStream size changed, may indicate binary incompatibility. Expected 56 from C header, got 64 from PyObject\n"
     ]
    }
   ],
   "source": [
    "import pickle\n",
    "import pandas as pd\n",
    "import os\n",
    "\n",
    "import torch\n",
    "with torch.profiler.profile() as profiler:\n",
    "        pass\n",
    "\n",
    "\n",
    "import torch\n",
    "import numpy as np\n",
    "import torch.nn as nn\n",
    "import torch.nn.functional as F\n",
    "import torch.optim as optim\n",
    "from tqdm import tqdm, trange\n",
    "import torch.optim as optim\n",
    "from torch.utils.data import TensorDataset, DataLoader\n",
    "import wandb\n",
    "from torch.utils.data.sampler import SubsetRandomSampler\n",
    "import pprint\n",
    "import matplotlib.pyplot as plt\n",
    "import torch\n",
    "\n",
    "from sklearn.preprocessing import MinMaxScaler\n",
    "import math\n",
    "from torch.profiler import profile, record_function, ProfilerActivity\n",
    "\n",
    "from operator import itemgetter\n",
    "import operator"
   ]
  },
  {
   "cell_type": "code",
   "execution_count": 2,
   "metadata": {},
   "outputs": [
    {
     "name": "stdout",
     "output_type": "stream",
     "text": [
      "Running on the GPU\n"
     ]
    }
   ],
   "source": [
    "if torch.cuda.is_available():\n",
    "    device = torch.device(\"cuda:0\")  # you can continue going on here, like cuda:1 cuda:2....etc.\n",
    "    print(\"Running on the GPU\")\n",
    "else:\n",
    "    device = torch.device(\"cpu\")\n",
    "    print(\"Running on the CPU\")"
   ]
  },
  {
   "cell_type": "code",
   "execution_count": 3,
   "metadata": {},
   "outputs": [],
   "source": [
    "torch.set_default_tensor_type(torch.FloatTensor)"
   ]
  },
  {
   "cell_type": "code",
   "execution_count": 4,
   "metadata": {},
   "outputs": [
    {
     "data": {
      "text/plain": [
       "'1.12.1'"
      ]
     },
     "execution_count": 4,
     "metadata": {},
     "output_type": "execute_result"
    }
   ],
   "source": [
    "torch.__version__"
   ]
  },
  {
   "cell_type": "code",
   "execution_count": 5,
   "metadata": {},
   "outputs": [],
   "source": [
    "class DogInput:\n",
    "    def __init__(self, dogid, raceid,stats, dog,dog_box, hidden_state, bfsp, sp) -> None:\n",
    "        self.dogid= dogid\n",
    "        self.raceid = raceid\n",
    "        self.stats = stats.to('cuda:0')\n",
    "        self.dog = dog\n",
    "        self.gru_cell = hidden_state.float().to('cuda:0')\n",
    "        self.visited = 0\n",
    "        self.bfsp = bfsp\n",
    "        self.gru_cell_out = None\n",
    "\n",
    "        \n",
    "        \n",
    "    def lstm_i(self, hidden_state):\n",
    "        self.gru_cell = hidden_state\n",
    "        # self.lstmCellh=self.lstmCellh.to(device)\n",
    "        # self.lstmCellc=self.lstmCellc.to(device)\n",
    "        self.visited = self.visited + 1\n",
    "        # if self.visited>1:\n",
    "        #     print(\"FOUND LEAK\")\n",
    "        #     sasdfasd\n",
    "\n",
    "    def nextrace(self, raceid):\n",
    "        self.nextrace_id = raceid\n",
    "\n",
    "    def prevrace(self, raceid):\n",
    "        self.prevrace_id = raceid\n",
    "\n",
    "    def lstm_o(self, lstm_o):\n",
    "        # print(lstm_o[0]._version)\n",
    "        hidden_state = lstm_o\n",
    "        self.gru_cell_out = lstm_o\n",
    "        if self.nextrace_id==-1:\n",
    "            pass\n",
    "        else:\n",
    "            self.dog.races[self.nextrace_id].lstm_i(hidden_state) #((lh.detach(), lc.detach())) #DETACH\n",
    "\n",
    "    def detach_state(self):\n",
    "        self.gru_cell = self.gru_cell.detach()\n",
    "            \n"
   ]
  },
  {
   "cell_type": "code",
   "execution_count": 6,
   "metadata": {},
   "outputs": [],
   "source": [
    "class Dog:\n",
    "    def __init__(self, dogid,dog_name, hidden_size, layers) -> None:\n",
    "        self.dogid = dogid\n",
    "        self.dog_name = dog_name\n",
    "        # self.raceids = raceids #possible dictionary of race id keys dog stat outs\n",
    "        self.lstmcell = 0\n",
    "        self.layers = layers\n",
    "        self.hidden_size = hidden_size\n",
    "        self.l_debug = None\n",
    "        self.races = {}\n",
    "\n",
    "    def add_races(self, raceid, racedate, stats,nextraceid, prevraceid, box, bfsp=None, sp=None):\n",
    "        self.races[raceid] = DogInput(self.dogid, raceid, stats, self, box, torch.randn(self.hidden_size), bfsp, sp) #this is the change\n",
    "        self.races[raceid].nextrace(nextraceid)\n",
    "        self.races[raceid].prevrace(prevraceid)"
   ]
  },
  {
   "cell_type": "code",
   "execution_count": 7,
   "metadata": {},
   "outputs": [],
   "source": [
    "class Race:\n",
    "    def __init__(self, raceid,trackOHE, dist, classes=None):\n",
    "        self.raceid = raceid\n",
    "        self.race_dist = dist.to('cuda:0')\n",
    "        self.race_track = trackOHE.to('cuda:0')\n",
    "        self.track_name = None\n",
    "        if classes!=None:\n",
    "            self.classes =  classes.to('cuda:0')\n",
    "\n",
    "    def add_dogs(self, dogs_list:DogInput):\n",
    "        self.dog1 = dogs_list[0]\n",
    "        self.dog2 = dogs_list[1]\n",
    "        self.dog3 = dogs_list[2]\n",
    "        self.dog4 = dogs_list[3]\n",
    "        self.dog5 = dogs_list[4]\n",
    "        self.dog6 = dogs_list[5]\n",
    "        self.dog7 = dogs_list[6]\n",
    "        self.dog8 = dogs_list[7]\n",
    "        self.dogs = dogs_list\n",
    "\n",
    "    def add_track_name(self, track_name):\n",
    "        self.track_name = track_name\n",
    "\n",
    "\n",
    "    def nn_input(self):\n",
    "        input = torch.cat([x.stats for x in self.dogs], dim = 0)\n",
    "        full_input = torch.cat((self.race_dist,self.race_track, input), dim=0).to(device='cuda:0')\n",
    "        self.full_input = full_input\n",
    "        return full_input\n",
    "\n",
    "    def lstm_input(self, pred=False):\n",
    "        if pred:\n",
    "            print('pred')\n",
    "        else:\n",
    "            l_input = [x.gru_cell for x in self.dogs]\n",
    "        return l_input\n",
    "\n",
    "    def lstm_detach(self):\n",
    "        [x.detach_state for x in self.dogs]\n",
    "\n",
    "    def list_dogs(self):\n",
    "        dogs_l = [x for x in self.dogs]\n",
    "        return dogs_l\n",
    "\n",
    "    def pass_gru_output(self, hidden_states):\n",
    "        for i,dog in enumerate(self.dogs):\n",
    "            hs = hidden_states[i]\n",
    "            hs = hs.detach()\n",
    "            dog.lstm_o(hs)"
   ]
  },
  {
   "cell_type": "code",
   "execution_count": 8,
   "metadata": {},
   "outputs": [],
   "source": [
    "class Races:\n",
    "    def __init__(self, hidden_size, layers, batch_size = 100) -> None:\n",
    "        self.racesDict = {}\n",
    "        self.dogsDict = {}\n",
    "        self.raceIDs = []\n",
    "        self.hidden_size = hidden_size\n",
    "        self.layers = layers\n",
    "        self.getter = operator.itemgetter(*range(batch_size))\n",
    "\n",
    "    def add_race(self,raceid:str, trackOHE, dist, classes=None):\n",
    "        self.racesDict[raceid] = Race(raceid, trackOHE, dist, classes)\n",
    "        self.raceIDs.append(raceid)\n",
    "\n",
    "    def add_dog(self,dogid, dog_name):\n",
    "        if dogid not in self.dogsDict.keys():\n",
    "            self.dogsDict[dogid] = Dog(dogid,dog_name, self.hidden_size, self.layers)\n",
    "        # else:\n",
    "        #     self.dogsDict[dogid] = self.dogsDict[dogid]\n",
    "\n",
    "    def get_race_input(self, idx) -> Race:\n",
    "        raceidx = operator.itemgetter(*idx)\n",
    "        race_batch_id = raceidx(self.raceIDs)\n",
    "        races = [self.racesDict[x] for x in race_batch_id] #Returns list of class Race\n",
    "        \n",
    "        return races #self.racesDict[raceidx]\n",
    "\n",
    "    def get_race_classes(self, idx):\n",
    "        raceidx = self.raceIDs[idx]\n",
    "        classes = [x for x in self.raceDict[raceidx].classes]\n",
    "        return classes\n",
    "\n",
    "    def reset_all_lstm_states(self):\n",
    "        for race in self.racesDict.values:\n",
    "            for dog in race.dogs:\n",
    "                dog.lstmCellc = torch.rand(self.hidden_size)\n",
    "                dog.lstmCellh = torch.rand(self.hidden_size)\n",
    "                dog.gru_cell = torch.rand(self.hidden_size)\n",
    "\n",
    "    def create_hidden_states_dict(self):\n",
    "        self.hidden_states_dict = {}\n",
    "        for race in self.racesDict.values():\n",
    "            race_id = race.raceid\n",
    "            for dog in race.dogs:\n",
    "                dog_id = dog.dogid\n",
    "                key = race_id+'_'+dog_id\n",
    "                val = dog.gru_cell_out\n",
    "                self.hidden_states_dict[key] = val\n",
    "\n",
    "    def fill_hidden_states_from_dict(self, hidden_dict):\n",
    "        for race in self.racesDict.values():\n",
    "            race_id = race.raceid\n",
    "            for dog in race.dogs:\n",
    "                dog_id = dog.dogid\n",
    "                dog_prev_race_id = dog.prevrace_id\n",
    "                key = str(dog_prev_race_id)+'_'+dog_id\n",
    "                try:\n",
    "                    val = hidden_dict[key]\n",
    "                    if val != None:\n",
    "                        dog.gru_cell = val\n",
    "                    else:\n",
    "                        dog.gru_cell = torch.rand(self.hidden_size)\n",
    "                except KeyError as e:\n",
    "                    print(f'Key error {e}')\n",
    "                    val = torch.rand(self.hidden_size)\n",
    "                    dog.gru_cell = val\n",
    "                    print(f\"race in = {dog.gru_cell}\")\n",
    "                print(key,val)\n",
    "\n",
    "    def to_cuda(self):\n",
    "        for race in self.racesDict.values():\n",
    "            race_id = race.raceid\n",
    "            for dog in race.dogs:\n",
    "                dog.gru_cell = dog.gru_cell.to(device)\n"
   ]
  },
  {
   "cell_type": "code",
   "execution_count": 9,
   "metadata": {},
   "outputs": [],
   "source": [
    "class GRUNet(nn.Module):\n",
    "    def __init__(self, input_size, hidden_size, dropout=0.3):\n",
    "        super(GRUNet, self).__init__()\n",
    "        self.gru1 = nn.GRUCell(input_size, hidden_size)\n",
    "        self.gru2 = nn.GRUCell(input_size, hidden_size)\n",
    "        self.gru3 = nn.GRUCell(input_size, hidden_size)\n",
    "        self.gru4 = nn.GRUCell(input_size, hidden_size)\n",
    "        self.gru5 = nn.GRUCell(input_size, hidden_size)\n",
    "        self.gru6 = nn.GRUCell(input_size, hidden_size)\n",
    "        self.gru7 = nn.GRUCell(input_size, hidden_size)\n",
    "        self.gru8 = nn.GRUCell(input_size, hidden_size)\n",
    "        self.rl1 = nn.ReLU()\n",
    "        self.drop1 = nn.Dropout(dropout)\n",
    "        self.fc2 = nn.Linear(hidden_size * 8, 64)\n",
    "        self.drop2 = nn.Dropout(dropout)\n",
    "        self.rl2 = nn.ReLU()\n",
    "        self.fc3 = nn.Linear(64, 8)\n",
    "        self.hidden_size = hidden_size\n",
    "\n",
    "    # x represents our data\n",
    "    def forward(self, race: Race):\n",
    "        # x = race.nn_input().float().to('cuda:0')\n",
    "        x = torch.stack([r.full_input.float() for r in race])\n",
    "\n",
    "        # creates list of LSTM data\n",
    "        hidden_state_in = [list(i) for i in zip(*[r.lstm_input() for r in race])]\n",
    "\n",
    "        # creates list of tensors for lstm Cells\n",
    "        # print(hidden_state_in)\n",
    "        hCell = [torch.stack([x for x in y]) for y in hidden_state_in]\n",
    "\n",
    "        h1 = self.gru1(x, hCell[0])\n",
    "        h2 = self.gru2(x, hCell[1])\n",
    "        h3 = self.gru3(x, hCell[2])\n",
    "        h4 = self.gru4(x, hCell[3])\n",
    "        h5 = self.gru5(x, hCell[4])\n",
    "        h6 = self.gru6(x, hCell[5])\n",
    "        h7 = self.gru7(x, hCell[6])\n",
    "        h8 = self.gru8(x, hCell[7])\n",
    "\n",
    "        lstm_list = [\n",
    "            h1,\n",
    "            h2,\n",
    "            h3,\n",
    "            h4,\n",
    "            h5,\n",
    "            h6,\n",
    "            h7,\n",
    "            h8,\n",
    "        ]\n",
    "\n",
    "        hCello = [i for i in zip(*[x for x in lstm_list])]\n",
    "        # cCello = [i for i in zip(*[x[1] for x in lstm_list])]\n",
    "\n",
    "        for i, r in enumerate(race):\n",
    "            r.pass_gru_output(hCello[i])\n",
    "            # r.lstm_detach()\n",
    "        xhh = torch.cat((h1, h2, h3, h4, h5, h6, h7, h8), dim=1)\n",
    "        xr1 = self.rl1(xhh)\n",
    "        xd1 = self.drop1(xr1)\n",
    "        xh = self.fc2(xd1)\n",
    "        xd2 = self.drop2(xh)\n",
    "        xr2 = self.rl2(xd2)\n",
    "        xf = self.fc3(xh)\n",
    "\n",
    "        output = F.softmax(xf, dim=1)\n",
    "        return output\n"
   ]
  },
  {
   "cell_type": "code",
   "execution_count": 10,
   "metadata": {},
   "outputs": [],
   "source": [
    "def build_pred_dataset(data, hidden_size):\n",
    "\n",
    "    #Load in pickeled dataframe\n",
    "    resultsdf = pickle.load(data)\n",
    "    dog_stats_df = pd.DataFrame(resultsdf)\n",
    "    dog_stats_df = dog_stats_df.fillna(-1).drop_duplicates(subset=['dogid', 'raceid'])\n",
    "    dog_stats_df['stats_cuda'] = dog_stats_df.apply(lambda x: torch.tensor(x['stats']), axis =1)\n",
    "    dog_stats_df['box'] = dog_stats_df['stats'].apply(lambda x: x[0])\n",
    "\n",
    "    #Created RaceDB\n",
    "    raceDB = Races(hidden_size, 1)\n",
    "\n",
    "    #Fill in dog portion:\n",
    "\n",
    "    dog_stats_group = dog_stats_df.sort_values(['date']).groupby([\"dogid\"])\n",
    "\n",
    "    for i,j in tqdm(dog_stats_group):\n",
    "        raceDB.add_dog(i, j.dog_name.iloc[0])\n",
    "        j.apply(lambda x: raceDB.dogsDict[i].add_races(x['raceid'], x['date'], torch.Tensor(x['stats']),-1, x['prev_race'], x['box']), axis=1)\n",
    "\n",
    "    #Fill in races portion\n",
    "    softmin = nn.Softmin(dim=0)\n",
    "    races_group = dog_stats_df.groupby(['raceid'])\n",
    "\n",
    "    null_dog = Dog(\"nullDog\", \"no_name\", raceDB.hidden_size, raceDB.layers)\n",
    "    null_dog_i = DogInput(\"nullDog\", \"-1\", torch.zeros(16), null_dog,0, torch.zeros(raceDB.hidden_size),0,0)\n",
    "    null_dog_i.nextrace(-1)\n",
    "    null_dog_i.prevrace(-1)\n",
    "\n",
    "    null_dog_list = [null_dog] * 8\n",
    "    #TO FIX LATER PROPER BOX PLACEMENT #FIXED\n",
    "\n",
    "    races_group = dog_stats_df.groupby(['raceid'])\n",
    "    for i,j in tqdm(races_group):\n",
    "    #Track info tensors\n",
    "        dist = torch.tensor([j.dist.iloc[0]]) \n",
    "        trackOHE = torch.tensor(j.trackOHE.iloc[0])\n",
    "\n",
    "        empty_dog_list = [null_dog_i]*8\n",
    "        boxes_list = [x for x in j['box']]      \n",
    "        dog_list = [raceDB.dogsDict[x].races[i] for x in j[\"dogid\"]]\n",
    "\n",
    "        for n,x in enumerate(boxes_list):\n",
    "            empty_dog_list[x-1] = dog_list[n]\n",
    "        \n",
    "        raceDB.add_race(i,trackOHE,dist)\n",
    "        \n",
    "        # List of Dog Input??\n",
    "        raceDB.racesDict[i].add_dogs(empty_dog_list)\n",
    "        raceDB.racesDict[i].nn_input()\n",
    "        raceDB.racesDict[i].add_track_name(j.track_name.iloc[0])\n",
    "        raceDB.racesDict[i].track_name = j.track_name.iloc[0]\n",
    "        raceDB.racesDict[i].grade = j.race_grade.iloc[0]\n",
    "\n",
    "    print(f\"number of races = {len(raceDB.racesDict)}, number of unique dogs = {len(raceDB.dogsDict)}\")\n",
    "    return raceDB\n",
    "\n"
   ]
  },
  {
   "cell_type": "code",
   "execution_count": 11,
   "metadata": {},
   "outputs": [],
   "source": [
    "def build_dataset(data, hidden_size):\n",
    "\n",
    "    #Load in pickeled dataframe\n",
    "    resultsdf = pickle.load(data)\n",
    "    dog_stats_df = pd.DataFrame(resultsdf)\n",
    "    dog_stats_df = dog_stats_df.fillna(-1).drop_duplicates(subset=['dogid', 'raceid'])\n",
    "    dog_stats_df['stats_cuda'] = dog_stats_df.apply(lambda x: torch.tensor(x['stats']), axis =1)\n",
    "    dog_stats_df['box'] = dog_stats_df['stats'].apply(lambda x: x[0])\n",
    "\n",
    "    #Created RaceDB\n",
    "    raceDB = Races(hidden_size, 1)\n",
    "\n",
    "    #Fill in dog portion:\n",
    "\n",
    "    dog_stats_group = dog_stats_df.sort_values(['date']).groupby([\"dogid\"])\n",
    "\n",
    "    for i,j in tqdm(dog_stats_group):\n",
    "        j[\"next_race\"] = j[\"raceid\"].shift(-1).fillna(-1)\n",
    "        j[\"prev_race\"] = j[\"raceid\"].shift(1).fillna(-1)\n",
    "        raceDB.add_dog(i, j.dog_name.iloc[0])\n",
    "        j.apply(lambda x: raceDB.dogsDict[i].add_races(x['raceid'], x['date'], torch.Tensor(x['stats']),x['next_race'], x['prev_race'], x['box'], x['bfSP'], x['startprice']), axis=1)\n",
    "\n",
    "    #Fill in races portion\n",
    "    softmin = nn.Softmin(dim=0)\n",
    "    races_group = dog_stats_df.groupby(['raceid'])\n",
    "\n",
    "    null_dog = Dog(\"nullDog\", \"no_name\", raceDB.hidden_size, raceDB.layers)\n",
    "    null_dog_i = DogInput(\"nullDog\", \"-1\", torch.zeros(16), null_dog,0, torch.zeros(raceDB.hidden_size),0,0)\n",
    "    null_dog_i.nextrace(-1)\n",
    "    null_dog_i.prevrace(-1)\n",
    "\n",
    "    null_dog_list = [null_dog] * 8\n",
    "    #TO FIX LATER PROPER BOX PLACEMENT #FIXED\n",
    "\n",
    "    races_group = dog_stats_df.groupby(['raceid'])\n",
    "    for i,j in tqdm(races_group):\n",
    "    #Track info tensors\n",
    "        dist = torch.tensor([j.dist.iloc[0]]) \n",
    "        trackOHE = torch.tensor(j.trackOHE.iloc[0])\n",
    "        #margins\n",
    "        empty_dog_list = [null_dog_i]*8\n",
    "        empty_margin_list = [20]*8\n",
    "        empty_place_list = [8]*8\n",
    "\n",
    "        places_list = [x for x in j[\"place\"]]\n",
    "        boxes_list = [x for x in j['box']]\n",
    "        margin_list = [x for x in j[\"margin\"]]\n",
    "        \n",
    "        dog_list = [raceDB.dogsDict[x].races[i] for x in j[\"dogid\"]]\n",
    "\n",
    "        #adjustedMargin = [margin_list[x-1] for x in boxes_list]\n",
    "        for n,x in enumerate(boxes_list):\n",
    "            empty_margin_list[x-1] = margin_list[n]\n",
    "            empty_dog_list[x-1] = dog_list[n]\n",
    "            empty_place_list[x-1] = places_list[n]\n",
    "        adjustedMargin = softmin(torch.tensor(empty_margin_list)).to('cuda:0')\n",
    "        #adjusted_dog_list = [dog_list[x-1] for x in boxes_list]\n",
    "        \n",
    "        raceDB.add_race(i,trackOHE,dist, adjustedMargin)\n",
    "        \n",
    "        \n",
    "        # List of Dog Input??\n",
    "        raceDB.racesDict[i].add_dogs(empty_dog_list)\n",
    "        raceDB.racesDict[i].nn_input()\n",
    "        raceDB.racesDict[i].track_name = j.track_name.iloc[0]\n",
    "        raceDB.racesDict[i].grade = j.race_grade.iloc[0]\n",
    "\n",
    "    print(f\"number of races = {len(raceDB.racesDict)}, number of unique dogs = {len(raceDB.dogsDict)}\")\n",
    "    return raceDB\n"
   ]
  },
  {
   "cell_type": "code",
   "execution_count": 12,
   "metadata": {},
   "outputs": [],
   "source": [
    "def model_saver(model, optimizer, epoch, loss, hidden_state_dict):\n",
    "    \n",
    "    pathtofolder = \"C:/Users/Nick/Documents/GitHub/grvmodel/Python/pytorch/New Model\"\n",
    "    model_name = wandb.run.name\n",
    "    isExist = os.path.exists(\n",
    "        f\"C:/Users/Nick/Documents/GitHub/grvmodel/Python/pytorch/New Model/savedmodel/{model_name}/\"\n",
    "    )\n",
    "    if isExist:\n",
    "        torch.save(\n",
    "            {\n",
    "                \"epoch\": epoch,\n",
    "                \"model_state_dict\": model.state_dict(),\n",
    "                \"optimizer_state_dict\": optimizer.state_dict(),\n",
    "                \"loss\": loss,\n",
    "                \"db\":hidden_state_dict,\n",
    "            },\n",
    "            f\"C:/Users/Nick/Documents/GitHub/grvmodel/Python/pytorch/New Model/savedmodel/{model_name}/{model_name}_{epoch}.pt\",\n",
    "        )\n",
    "    else:\n",
    "        print(\"created path\")\n",
    "        os.makedirs(\n",
    "            f\"C:/Users/Nick/Documents/GitHub/grvmodel/Python/pytorch/New Model/savedmodel/{model_name}/\"\n",
    "        )\n",
    "        torch.save(\n",
    "            {\n",
    "                \"epoch\": epoch,\n",
    "                \"model_state_dict\": model.state_dict(),\n",
    "                \"optimizer_state_dict\": optimizer.state_dict(),\n",
    "                \"loss\": loss,\n",
    "                \"db\":hidden_state_dict,\n",
    "            },\n",
    "            f\"C:/Users/Nick/Documents/GitHub/grvmodel/Python/pytorch/New Model/savedmodel/{model_name}/{model_name}_{epoch}.pt\",\n",
    "        )"
   ]
  },
  {
   "cell_type": "code",
   "execution_count": 16,
   "metadata": {},
   "outputs": [],
   "source": [
    "#Testing\n",
    "def validate_model(model,raceDB,criterion, batch_size, example_ct, epoch_loss, batch_ct):\n",
    "    torch.autograd.set_detect_anomaly(True)\n",
    "    list_t = [] \n",
    "    last = 0\n",
    "    loss_val = 0 \n",
    "    correct = 0\n",
    "    total = 0\n",
    "    model.eval()\n",
    "    actuals = []\n",
    "    preds = []\n",
    "    grades = []\n",
    "    tracks = []\n",
    "    pred_confs = []\n",
    "    bfsps = []\n",
    "    start_prices = []\n",
    "    with torch.no_grad():\n",
    "        for i in trange(20_000,30_000,batch_size):   \n",
    "            races_idx = range(last,last+batch_size)\n",
    "            last = i\n",
    "            race = raceDB.get_race_input(races_idx)\n",
    "            #tracks.extend([r.track for r in race])\n",
    "            X = race\n",
    "            y = torch.stack([x.classes for x in race])\n",
    "            output = model(X)\n",
    "            #print(y)\n",
    "\n",
    "            _, actual = torch.max(y.data, 1)\n",
    "            conf, predicted = torch.max(output.data, 1)\n",
    "            correct += (predicted == actual).sum().item()\n",
    "            \n",
    "            total += batch_size\n",
    "            actuals.extend(actual.tolist())\n",
    "            preds.extend(predicted.tolist())\n",
    "            pred_confs.extend(conf.tolist())\n",
    "            tracks.extend([r.track_name for r in race])\n",
    "            grades.extend([r.grade for r in race])\n",
    "            for i,dog_idx in enumerate(actual.tolist()):\n",
    "                bfsps.append(race[i].dogs[dog_idx].bfsp)\n",
    "                start_prices.append(race[i].dogs[dog_idx].sp)\n",
    "\n",
    "            \n",
    "            loss = criterion(output, y)\n",
    "            loss_val += loss\n",
    "\n",
    "    logdf = pd.DataFrame(data = {\"actuals\":actuals, \"preds\":preds,\"conf\":pred_confs, \"grade\":grades, \"track\":tracks, \"bfsps\":bfsps, \"sp\":start_prices })\n",
    "\n",
    "    table = wandb.Table(dataframe=logdf)\n",
    "    wandb.log({\"table_key\": table})\n",
    "\n",
    "    print(f\"accuray: {correct/total}\")\n",
    "    wandb.log({\"accuracy\": correct/total, \"loss_val\": loss_val/(50_000/batch_size), \"correct\": correct,\"epoch_loss\": epoch_loss/batch_ct}, step=example_ct)"
   ]
  },
  {
   "cell_type": "code",
   "execution_count": 14,
   "metadata": {},
   "outputs": [],
   "source": [
    "def train_log(loss, example_ct, epoch):\n",
    "    # Where the magic happens\n",
    "    wandb.log({\"epoch\": epoch, \"loss\": loss}, step=example_ct)"
   ]
  },
  {
   "cell_type": "code",
   "execution_count": 18,
   "metadata": {},
   "outputs": [],
   "source": [
    "def train(model, raceDB, criterion, optimizer, config=None):\n",
    "    torch.autograd.set_detect_anomaly(True)\n",
    "\n",
    "    last = 0\n",
    "    batch_size = config.batch_size\n",
    "    example_ct = 0  # number of examples seen\n",
    "    batch_ct = 0\n",
    "    \n",
    "    for epoch in range(config.epochs):\n",
    "        model.train()\n",
    "        epoch_loss = 0\n",
    "        batch_ct = 0\n",
    "        for i in trange(batch_size,73590-batch_size,batch_size):\n",
    "            #print(i)\n",
    "            if 20_000-1<i<30_000+1:\n",
    "                continue\n",
    "\n",
    "            batch_ct += 1   \n",
    "            races_idx = range(last,last+batch_size)\n",
    "            last = i\n",
    "            race = raceDB.get_race_input(races_idx)\n",
    "            X = race\n",
    "            \n",
    "\n",
    "            y = torch.stack([x.classes for x in race])\n",
    "            output = model(X)\n",
    "            #print(output,y)\n",
    "            example_ct +=  batch_size\n",
    "            batch_ct += 1\n",
    "\n",
    "            loss = criterion(output, y)\n",
    "            optimizer.zero_grad()\n",
    "            loss.backward(retain_graph=True)  \n",
    "            #loss.backward()\n",
    "            optimizer.step()\n",
    "            if ((batch_ct + 1) % 25) == 0:\n",
    "                    \n",
    "                    train_log(loss, example_ct, epoch)\n",
    "\n",
    "            epoch_loss = epoch_loss + loss.item()\n",
    "            output = model(X)\n",
    "\n",
    "            #[r.lstm_detach for r in race]\n",
    "        #wandb.log({\"epoch_loss\": epoch_loss/batch_ct}, step = example_ct)\n",
    "        print(f'{epoch_loss/batch_ct=}')\n",
    "\n",
    "        print(loss)\n",
    "        validate_model(model,raceDB,criterion, 8, example_ct, epoch_loss, batch_ct)\n",
    "\n",
    "    return model\n",
    "\n"
   ]
  },
  {
   "cell_type": "code",
   "execution_count": 19,
   "metadata": {},
   "outputs": [
    {
     "name": "stderr",
     "output_type": "stream",
     "text": [
      "100%|██████████| 25734/25734 [03:02<00:00, 141.19it/s]\n",
      "100%|██████████| 73590/73590 [01:17<00:00, 950.32it/s] "
     ]
    },
    {
     "name": "stdout",
     "output_type": "stream",
     "text": [
      "number of races = 73590, number of unique dogs = 25734\n"
     ]
    },
    {
     "name": "stderr",
     "output_type": "stream",
     "text": [
      "\n"
     ]
    }
   ],
   "source": [
    "os.getcwd()\n",
    "os.chdir(r\"C:\\Users\\Nick\\Documents\\GitHub\\grvmodel\\Python\\DATA\")\n",
    "dog_stats_file = open( 'dog_stats_df.npy', 'rb')\n",
    "hidden_size = 16\n",
    "raceDB = build_dataset(dog_stats_file, hidden_size)"
   ]
  },
  {
   "cell_type": "code",
   "execution_count": null,
   "metadata": {},
   "outputs": [
    {
     "name": "stderr",
     "output_type": "stream",
     "text": [
      "100%|██████████| 363/363 [00:00<00:00, 1072.99it/s]\n",
      "100%|██████████| 48/48 [00:00<00:00, 1598.58it/s]"
     ]
    },
    {
     "name": "stdout",
     "output_type": "stream",
     "text": [
      "number of races = 48, number of unique dogs = 363\n"
     ]
    },
    {
     "name": "stderr",
     "output_type": "stream",
     "text": [
      "\n"
     ]
    }
   ],
   "source": [
    "os.getcwd()\n",
    "#os.chdir(r\"C:\\Users\\Nick\\Documents\\GitHub\\grvmodel\\Python\\DATA\")\n",
    "dog_stats_file = open( r'C:\\Users\\Nick\\Documents\\GitHub\\grvmodel\\Python\\DATA\\forms\\prediction_inputs_gru.npy', 'rb')\n",
    "hidden_size = 16\n",
    "predDB = build_pred_dataset(dog_stats_file, hidden_size)"
   ]
  },
  {
   "cell_type": "code",
   "execution_count": null,
   "metadata": {},
   "outputs": [],
   "source": [
    "# raceDB.create_hidden_states_dict()\n",
    "# predDB.fill_hidden_states_from_dict(hidden_dict=dataset.hidden_states_dict)\n",
    "# len(raceDB.hidden_states_dict)\n",
    "# predDB.to_cuda()"
   ]
  },
  {
   "cell_type": "code",
   "execution_count": 20,
   "metadata": {},
   "outputs": [],
   "source": [
    "#Testing\n",
    "def predict_model(model,predDB):\n",
    "    torch.autograd.set_detect_anomaly(True)\n",
    "    list_t = [] \n",
    "    last = 0\n",
    "    loss_val = 0 \n",
    "    correct = 0\n",
    "    total = 0\n",
    "    model.eval()\n",
    "    with torch.no_grad():\n",
    "\n",
    "        races_idx = range(0,len(predDB.raceIDs)-1)\n",
    "        race = predDB.get_race_input(races_idx)\n",
    "        X = race\n",
    "        # for i,r in enumerate(race):\n",
    "        #     print(r.raceid, r.track_name)\n",
    "        #     #print(i,r.lstm_input())\n",
    "\n",
    "        output = model(X)\n",
    "        \n",
    "        print(output)\n",
    "\n",
    "        _, predicted = torch.max(output.data, 1)\n",
    "\n",
    "        for i,r in enumerate(race):\n",
    "            print(r.raceid, r.track_name, r.dogs[predicted[i].item()])\n",
    "\n",
    "        print(predicted)\n",
    "\n"
   ]
  },
  {
   "cell_type": "code",
   "execution_count": null,
   "metadata": {},
   "outputs": [
    {
     "data": {
      "text/plain": [
       "[<__main__.Race at 0x1dba90a9cd0>,\n",
       " <__main__.Race at 0x1dba90a9ee0>,\n",
       " <__main__.Race at 0x1dba90a9a90>]"
      ]
     },
     "execution_count": 20,
     "metadata": {},
     "output_type": "execute_result"
    }
   ],
   "source": [
    "predDB.get_race_input([1,2,3])"
   ]
  },
  {
   "cell_type": "code",
   "execution_count": null,
   "metadata": {},
   "outputs": [],
   "source": [
    "# predict_model(model,predDB)"
   ]
  },
  {
   "cell_type": "code",
   "execution_count": 21,
   "metadata": {},
   "outputs": [],
   "source": [
    "def closure(optimizer, criterion, outs, classes):\n",
    "    optimizer.zero_grad()\n",
    "    loss = nn.functional.mse_loss(outs, classes)\n",
    "    loss.backward()\n",
    "    return loss\n",
    "\n",
    "def model_pipeline(my_dataset=raceDB,config=None,prev_model=None, sweep=True):\n",
    "    if my_dataset:\n",
    "      dataset = my_dataset    \n",
    "    else:\n",
    "      dataset = raceDB\n",
    "    # tell wandb to get started\n",
    "    with wandb.init(project=\"new LSTM\", config=config):\n",
    "      # access all HPs through wandb.config, so logging matches execution!\n",
    "      wandb.define_metric(\"loss\", summary=\"min\")\n",
    "      wandb.define_metric(\"test_accuracy\", summary=\"max\")\n",
    "      wandb.define_metric(\"bfprofit\", summary=\"max\")\n",
    "      config = wandb.config\n",
    "      pprint.pprint(config)\n",
    "      pprint.pprint(config.epochs)\n",
    "      print(config)\n",
    "\n",
    "      model = GRUNet(144,config.hidden_size)\n",
    "      # criterion = nn.HuberLoss()\n",
    "      # criterion = nn.BCEWithLogitsLoss()\n",
    "      #optimizer = optim.SGD(model.parameters(), lr=0.1)\n",
    "      criterion = nn.SmoothL1Loss(reduction='mean', beta=0.1)\n",
    "      # optimizer = optim.RMSprop(model.parameters())\n",
    "      # optimizer = optim.AdamW(model.parameters(), lr=0.001)\n",
    "      optimizer = optim.NAdam(model.parameters(), lr=config.learning_rate)\n",
    "      # optimizer = optim.LBFGS(model.parameters(), lr=0.001)\n",
    "      model = model.to(device)\n",
    "      # optimizer = optimizer.to(device)\n",
    "      print(model)\n",
    "\n",
    "      # and use them to train the model\n",
    "      train(model, dataset, criterion, optimizer, config)\n",
    "      dataset.create_hidden_states_dict()\n",
    "      # if sweep:\n",
    "      #   raceDB.reset_all_lstm_states\n",
    "      \n",
    "\n",
    "\n",
    "      # and test its final performance\n",
    "      #test(model, test_loader)\n",
    "\n",
    "    return (model,dataset)"
   ]
  },
  {
   "cell_type": "code",
   "execution_count": null,
   "metadata": {},
   "outputs": [],
   "source": [
    "test_race = raceDB.get_race_input([100,101])[0]"
   ]
  },
  {
   "cell_type": "code",
   "execution_count": null,
   "metadata": {},
   "outputs": [
    {
     "data": {
      "text/plain": [
       "73590"
      ]
     },
     "execution_count": 24,
     "metadata": {},
     "output_type": "execute_result"
    }
   ],
   "source": [
    "len(raceDB.raceIDs)"
   ]
  },
  {
   "cell_type": "code",
   "execution_count": 22,
   "metadata": {},
   "outputs": [],
   "source": [
    "\n",
    "wandb_config_static = {'hidden_size':hidden_size,'batch_size': 250, 'dropout': 0.3, 'epochs': 1000, 'f1_layer_size': 256, 'f2_layer_size': 64 , 'learning_rate': 0.0008, 'loss': 'L1', 'l1_beta':0.1,  'num_layers': 2, 'optimizer': 'adamW', 'validation_split': 0.1}"
   ]
  },
  {
   "cell_type": "code",
   "execution_count": null,
   "metadata": {},
   "outputs": [
    {
     "data": {
      "text/html": [
       "<div>\n",
       "<style scoped>\n",
       "    .dataframe tbody tr th:only-of-type {\n",
       "        vertical-align: middle;\n",
       "    }\n",
       "\n",
       "    .dataframe tbody tr th {\n",
       "        vertical-align: top;\n",
       "    }\n",
       "\n",
       "    .dataframe thead th {\n",
       "        text-align: right;\n",
       "    }\n",
       "</style>\n",
       "<table border=\"1\" class=\"dataframe\">\n",
       "  <thead>\n",
       "    <tr style=\"text-align: right;\">\n",
       "      <th></th>\n",
       "      <th>dogid</th>\n",
       "      <th>dog_name</th>\n",
       "      <th>raceid</th>\n",
       "      <th>race_grade</th>\n",
       "      <th>date</th>\n",
       "      <th>trackOHE</th>\n",
       "      <th>track_name</th>\n",
       "      <th>dist</th>\n",
       "      <th>stats</th>\n",
       "      <th>place</th>\n",
       "      <th>startprice</th>\n",
       "      <th>margin</th>\n",
       "      <th>bfSP</th>\n",
       "    </tr>\n",
       "  </thead>\n",
       "  <tbody>\n",
       "    <tr>\n",
       "      <th>0</th>\n",
       "      <td>115367782</td>\n",
       "      <td>SWIFT GEM</td>\n",
       "      <td>12539914</td>\n",
       "      <td>Maiden Final</td>\n",
       "      <td>2018-06-22</td>\n",
       "      <td>[0, 0, 0, 0, 0, 0, 0, 0, 0, 0, 0, 0, 1, 0, 0]</td>\n",
       "      <td>Traralgon</td>\n",
       "      <td>525.0</td>\n",
       "      <td>[8, 0.05848506493506494, 0.0008907936012381001...</td>\n",
       "      <td>1.0</td>\n",
       "      <td>11.0</td>\n",
       "      <td>0.00</td>\n",
       "      <td>12.0</td>\n",
       "    </tr>\n",
       "    <tr>\n",
       "      <th>1</th>\n",
       "      <td>145856635</td>\n",
       "      <td>CELESTIAL JEWEL</td>\n",
       "      <td>12539914</td>\n",
       "      <td>Maiden Final</td>\n",
       "      <td>2018-06-22</td>\n",
       "      <td>[0, 0, 0, 0, 0, 0, 0, 0, 0, 0, 0, 0, 1, 0, 0]</td>\n",
       "      <td>Traralgon</td>\n",
       "      <td>525.0</td>\n",
       "      <td>[2, 0.05945284327323162, 0.0007404203490765129...</td>\n",
       "      <td>4.0</td>\n",
       "      <td>4.8</td>\n",
       "      <td>6.51</td>\n",
       "      <td>5.8</td>\n",
       "    </tr>\n",
       "    <tr>\n",
       "      <th>2</th>\n",
       "      <td>2131520028</td>\n",
       "      <td>KIOMARA</td>\n",
       "      <td>12539914</td>\n",
       "      <td>Maiden Final</td>\n",
       "      <td>2018-06-22</td>\n",
       "      <td>[0, 0, 0, 0, 0, 0, 0, 0, 0, 0, 0, 0, 1, 0, 0]</td>\n",
       "      <td>Traralgon</td>\n",
       "      <td>525.0</td>\n",
       "      <td>[3, 0.05918524613560071, 0.0009662708972431771...</td>\n",
       "      <td>6.0</td>\n",
       "      <td>41.6</td>\n",
       "      <td>8.96</td>\n",
       "      <td>50.0</td>\n",
       "    </tr>\n",
       "    <tr>\n",
       "      <th>3</th>\n",
       "      <td>159734832</td>\n",
       "      <td>RAPPA FLASH</td>\n",
       "      <td>12539914</td>\n",
       "      <td>Maiden Final</td>\n",
       "      <td>2018-06-22</td>\n",
       "      <td>[0, 0, 0, 0, 0, 0, 0, 0, 0, 0, 0, 0, 1, 0, 0]</td>\n",
       "      <td>Traralgon</td>\n",
       "      <td>525.0</td>\n",
       "      <td>[7, 0.05796197139049795, 0.0010752646024627035...</td>\n",
       "      <td>5.0</td>\n",
       "      <td>2.8</td>\n",
       "      <td>7.23</td>\n",
       "      <td>3.0</td>\n",
       "    </tr>\n",
       "    <tr>\n",
       "      <th>4</th>\n",
       "      <td>167542442</td>\n",
       "      <td>I'M THE POPPET</td>\n",
       "      <td>12539914</td>\n",
       "      <td>Maiden Final</td>\n",
       "      <td>2018-06-22</td>\n",
       "      <td>[0, 0, 0, 0, 0, 0, 0, 0, 0, 0, 0, 0, 1, 0, 0]</td>\n",
       "      <td>Traralgon</td>\n",
       "      <td>525.0</td>\n",
       "      <td>[4, 0.05878095238095238, -1, 0.058780952380952...</td>\n",
       "      <td>3.0</td>\n",
       "      <td>3.3</td>\n",
       "      <td>3.29</td>\n",
       "      <td>NaN</td>\n",
       "    </tr>\n",
       "    <tr>\n",
       "      <th>...</th>\n",
       "      <td>...</td>\n",
       "      <td>...</td>\n",
       "      <td>...</td>\n",
       "      <td>...</td>\n",
       "      <td>...</td>\n",
       "      <td>...</td>\n",
       "      <td>...</td>\n",
       "      <td>...</td>\n",
       "      <td>...</td>\n",
       "      <td>...</td>\n",
       "      <td>...</td>\n",
       "      <td>...</td>\n",
       "      <td>...</td>\n",
       "    </tr>\n",
       "    <tr>\n",
       "      <th>538111</th>\n",
       "      <td>612981526</td>\n",
       "      <td>ASTON MEAD</td>\n",
       "      <td>839820812</td>\n",
       "      <td>Grade 7</td>\n",
       "      <td>2022-11-02</td>\n",
       "      <td>[0, 0, 0, 1, 0, 0, 0, 0, 0, 0, 0, 0, 0, 0, 0]</td>\n",
       "      <td>Geelong</td>\n",
       "      <td>460.0</td>\n",
       "      <td>[8, 0.05788795586564722, 0.000977071454869381,...</td>\n",
       "      <td>4.0</td>\n",
       "      <td>11.0</td>\n",
       "      <td>4.67</td>\n",
       "      <td>NaN</td>\n",
       "    </tr>\n",
       "    <tr>\n",
       "      <th>538112</th>\n",
       "      <td>578790270</td>\n",
       "      <td>FORGOTTEN BOY</td>\n",
       "      <td>839820812</td>\n",
       "      <td>Grade 7</td>\n",
       "      <td>2022-11-02</td>\n",
       "      <td>[0, 0, 0, 1, 0, 0, 0, 0, 0, 0, 0, 0, 0, 0, 0]</td>\n",
       "      <td>Geelong</td>\n",
       "      <td>460.0</td>\n",
       "      <td>[2, 0.058005804548986364, 0.000658205284423107...</td>\n",
       "      <td>8.0</td>\n",
       "      <td>15.1</td>\n",
       "      <td>10.10</td>\n",
       "      <td>NaN</td>\n",
       "    </tr>\n",
       "    <tr>\n",
       "      <th>538113</th>\n",
       "      <td>653489376</td>\n",
       "      <td>MISS DAISY LEE</td>\n",
       "      <td>839820812</td>\n",
       "      <td>Grade 7</td>\n",
       "      <td>2022-11-02</td>\n",
       "      <td>[0, 0, 0, 1, 0, 0, 0, 0, 0, 0, 0, 0, 0, 0, 0]</td>\n",
       "      <td>Geelong</td>\n",
       "      <td>460.0</td>\n",
       "      <td>[6, 0.058630664346592615, 0.000897251431724337...</td>\n",
       "      <td>1.0</td>\n",
       "      <td>12.5</td>\n",
       "      <td>0.00</td>\n",
       "      <td>NaN</td>\n",
       "    </tr>\n",
       "    <tr>\n",
       "      <th>538114</th>\n",
       "      <td>640219891</td>\n",
       "      <td>ENSEMBLE</td>\n",
       "      <td>839820812</td>\n",
       "      <td>Grade 7</td>\n",
       "      <td>2022-11-02</td>\n",
       "      <td>[0, 0, 0, 1, 0, 0, 0, 0, 0, 0, 0, 0, 0, 0, 0]</td>\n",
       "      <td>Geelong</td>\n",
       "      <td>460.0</td>\n",
       "      <td>[3, 0.058095571658615126, 0.000524703858161521...</td>\n",
       "      <td>2.0</td>\n",
       "      <td>37.6</td>\n",
       "      <td>1.09</td>\n",
       "      <td>NaN</td>\n",
       "    </tr>\n",
       "    <tr>\n",
       "      <th>538115</th>\n",
       "      <td>653134666</td>\n",
       "      <td>SCARLETT WINGS</td>\n",
       "      <td>839820812</td>\n",
       "      <td>Grade 7</td>\n",
       "      <td>2022-11-02</td>\n",
       "      <td>[0, 0, 0, 1, 0, 0, 0, 0, 0, 0, 0, 0, 0, 0, 0]</td>\n",
       "      <td>Geelong</td>\n",
       "      <td>460.0</td>\n",
       "      <td>[5, 0.05751395206243033, 0.000671305873384918,...</td>\n",
       "      <td>3.0</td>\n",
       "      <td>3.6</td>\n",
       "      <td>3.89</td>\n",
       "      <td>NaN</td>\n",
       "    </tr>\n",
       "  </tbody>\n",
       "</table>\n",
       "<p>538116 rows × 13 columns</p>\n",
       "</div>"
      ],
      "text/plain": [
       "             dogid         dog_name     raceid    race_grade       date  \\\n",
       "0        115367782        SWIFT GEM   12539914  Maiden Final 2018-06-22   \n",
       "1        145856635  CELESTIAL JEWEL   12539914  Maiden Final 2018-06-22   \n",
       "2       2131520028          KIOMARA   12539914  Maiden Final 2018-06-22   \n",
       "3        159734832      RAPPA FLASH   12539914  Maiden Final 2018-06-22   \n",
       "4        167542442   I'M THE POPPET   12539914  Maiden Final 2018-06-22   \n",
       "...            ...              ...        ...           ...        ...   \n",
       "538111   612981526       ASTON MEAD  839820812       Grade 7 2022-11-02   \n",
       "538112   578790270    FORGOTTEN BOY  839820812       Grade 7 2022-11-02   \n",
       "538113   653489376   MISS DAISY LEE  839820812       Grade 7 2022-11-02   \n",
       "538114   640219891         ENSEMBLE  839820812       Grade 7 2022-11-02   \n",
       "538115   653134666   SCARLETT WINGS  839820812       Grade 7 2022-11-02   \n",
       "\n",
       "                                             trackOHE track_name   dist  \\\n",
       "0       [0, 0, 0, 0, 0, 0, 0, 0, 0, 0, 0, 0, 1, 0, 0]  Traralgon  525.0   \n",
       "1       [0, 0, 0, 0, 0, 0, 0, 0, 0, 0, 0, 0, 1, 0, 0]  Traralgon  525.0   \n",
       "2       [0, 0, 0, 0, 0, 0, 0, 0, 0, 0, 0, 0, 1, 0, 0]  Traralgon  525.0   \n",
       "3       [0, 0, 0, 0, 0, 0, 0, 0, 0, 0, 0, 0, 1, 0, 0]  Traralgon  525.0   \n",
       "4       [0, 0, 0, 0, 0, 0, 0, 0, 0, 0, 0, 0, 1, 0, 0]  Traralgon  525.0   \n",
       "...                                               ...        ...    ...   \n",
       "538111  [0, 0, 0, 1, 0, 0, 0, 0, 0, 0, 0, 0, 0, 0, 0]    Geelong  460.0   \n",
       "538112  [0, 0, 0, 1, 0, 0, 0, 0, 0, 0, 0, 0, 0, 0, 0]    Geelong  460.0   \n",
       "538113  [0, 0, 0, 1, 0, 0, 0, 0, 0, 0, 0, 0, 0, 0, 0]    Geelong  460.0   \n",
       "538114  [0, 0, 0, 1, 0, 0, 0, 0, 0, 0, 0, 0, 0, 0, 0]    Geelong  460.0   \n",
       "538115  [0, 0, 0, 1, 0, 0, 0, 0, 0, 0, 0, 0, 0, 0, 0]    Geelong  460.0   \n",
       "\n",
       "                                                    stats  place  startprice  \\\n",
       "0       [8, 0.05848506493506494, 0.0008907936012381001...    1.0        11.0   \n",
       "1       [2, 0.05945284327323162, 0.0007404203490765129...    4.0         4.8   \n",
       "2       [3, 0.05918524613560071, 0.0009662708972431771...    6.0        41.6   \n",
       "3       [7, 0.05796197139049795, 0.0010752646024627035...    5.0         2.8   \n",
       "4       [4, 0.05878095238095238, -1, 0.058780952380952...    3.0         3.3   \n",
       "...                                                   ...    ...         ...   \n",
       "538111  [8, 0.05788795586564722, 0.000977071454869381,...    4.0        11.0   \n",
       "538112  [2, 0.058005804548986364, 0.000658205284423107...    8.0        15.1   \n",
       "538113  [6, 0.058630664346592615, 0.000897251431724337...    1.0        12.5   \n",
       "538114  [3, 0.058095571658615126, 0.000524703858161521...    2.0        37.6   \n",
       "538115  [5, 0.05751395206243033, 0.000671305873384918,...    3.0         3.6   \n",
       "\n",
       "        margin  bfSP  \n",
       "0         0.00  12.0  \n",
       "1         6.51   5.8  \n",
       "2         8.96  50.0  \n",
       "3         7.23   3.0  \n",
       "4         3.29   NaN  \n",
       "...        ...   ...  \n",
       "538111    4.67   NaN  \n",
       "538112   10.10   NaN  \n",
       "538113    0.00   NaN  \n",
       "538114    1.09   NaN  \n",
       "538115    3.89   NaN  \n",
       "\n",
       "[538116 rows x 13 columns]"
      ]
     },
     "execution_count": 46,
     "metadata": {},
     "output_type": "execute_result"
    }
   ],
   "source": [
    "os.getcwd()\n",
    "os.chdir(r\"C:\\Users\\Nick\\Documents\\GitHub\\grvmodel\\Python\\DATA\")\n",
    "dog_stats_file = open( 'dog_stats_df.npy', 'rb')\n",
    "resultsdf = pickle.load(dog_stats_file)\n",
    "dog_stats_df = pd.DataFrame(resultsdf)\n",
    "dog_stats_df"
   ]
  },
  {
   "cell_type": "code",
   "execution_count": null,
   "metadata": {},
   "outputs": [
    {
     "name": "stdout",
     "output_type": "stream",
     "text": [
      "{'method': 'random',\n",
      " 'metric': {'goal': 'maximize', 'name': 'profit'},\n",
      " 'parameters': {'batch_size': {'values': [500, 1000, 5000]},\n",
      "                'dropout': {'values': [0.3]},\n",
      "                'epochs': {'values': [250]},\n",
      "                'f1_layer_size': {'values': [256]},\n",
      "                'f2_layer_size': {'values': [64]},\n",
      "                'hidden_size': {'value': 16},\n",
      "                'l1_beta': {'value': 0.1},\n",
      "                'learning_rate': {'distribution': 'uniform',\n",
      "                                  'max': 0.001,\n",
      "                                  'min': 0.00011},\n",
      "                'len_data': {'value': 70000},\n",
      "                'loss': {'values': ['L1']},\n",
      "                'num_layers': {'values': [2]},\n",
      "                'optimizer': {'value': 'adamW'},\n",
      "                'validation_split': {'value': 0.1}}}\n"
     ]
    },
    {
     "data": {
      "text/plain": [
       "{'method': 'random',\n",
       " 'metric': {'name': 'profit', 'goal': 'maximize'},\n",
       " 'parameters': {'optimizer': {'value': 'adamW'},\n",
       "  'f1_layer_size': {'values': [256]},\n",
       "  'f2_layer_size': {'values': [64]},\n",
       "  'dropout': {'values': [0.3]},\n",
       "  'len_data': {'value': 70000},\n",
       "  'hidden_size': {'value': 16},\n",
       "  'epochs': {'values': [250]},\n",
       "  'validation_split': {'value': 0.1},\n",
       "  'loss': {'values': ['L1']},\n",
       "  'num_layers': {'values': [2]},\n",
       "  'learning_rate': {'distribution': 'uniform', 'min': 0.00011, 'max': 0.001},\n",
       "  'l1_beta': {'value': 0.1},\n",
       "  'batch_size': {'values': [500, 1000, 5000]}}}"
      ]
     },
     "execution_count": 27,
     "metadata": {},
     "output_type": "execute_result"
    }
   ],
   "source": [
    "sweep_config = {\"method\": \"random\"}\n",
    "\n",
    "metric = {\"name\": \"profit\", \"goal\": \"maximize\"}\n",
    "\n",
    "sweep_config[\"metric\"] = metric\n",
    "\n",
    "\n",
    "parameters_dict = {\n",
    "    \"optimizer\": {\"value\": \"adamW\"},\n",
    "    \"f1_layer_size\": {\"values\": [256]},\n",
    "    \"f2_layer_size\": {\"values\": [64]},\n",
    "    \"dropout\": {\"values\": [0.3]},\n",
    "    \"len_data\": {\"value\": 70000},\n",
    "    \"hidden_size\": {\"value\":16}\n",
    "}\n",
    "\n",
    "sweep_config[\"parameters\"] = parameters_dict\n",
    "\n",
    "parameters_dict.update(\n",
    "    {\n",
    "        \"epochs\": {\"values\": [250]},\n",
    "        \"validation_split\": {\"value\": 0.1},\n",
    "        \"loss\": {\n",
    "            \"values\": [ \"L1\"],\n",
    "            # \"values\": [\"Huber\", \"MSE\", \"L1\", \"BCE\", \"Custom\", \"KL\"]\n",
    "            # 'value': 'l1_custom'\n",
    "        },\n",
    "        \"num_layers\": {\"values\": [2]},\n",
    "    }\n",
    ")\n",
    "\n",
    "parameters_dict.update(\n",
    "    {\n",
    "        \"learning_rate\": {\n",
    "            # a flat distribution between 0 and 0.1\n",
    "            \"distribution\": \"uniform\",\n",
    "            \"min\": 0.00011,\n",
    "            \"max\": 0.001,\n",
    "        },\n",
    "        \"l1_beta\": {\"value\": 0.1\n",
    "        },\n",
    "        \"batch_size\": {\n",
    "            'values': [500,1000,5000]\n",
    "            # \"values\": [32, 64, 128, 360, 720]\n",
    "            # 'values':[4,8,16,32,64,128,360]\n",
    "        },\n",
    "    }\n",
    ")\n",
    "\n",
    "import pprint\n",
    "\n",
    "pprint.pprint(sweep_config)\n",
    "\n",
    "\n",
    "sweep_config\n"
   ]
  },
  {
   "cell_type": "code",
   "execution_count": null,
   "metadata": {},
   "outputs": [
    {
     "data": {
      "text/plain": [
       "16"
      ]
     },
     "execution_count": 28,
     "metadata": {},
     "output_type": "execute_result"
    }
   ],
   "source": [
    "wandb_config_static['hidden_size']"
   ]
  },
  {
   "cell_type": "code",
   "execution_count": 23,
   "metadata": {},
   "outputs": [
    {
     "name": "stderr",
     "output_type": "stream",
     "text": [
      "Failed to detect the name of this notebook, you can set it manually with the WANDB_NOTEBOOK_NAME environment variable to enable code saving.\n",
      "\u001b[34m\u001b[1mwandb\u001b[0m: Currently logged in as: \u001b[33mnickojelly\u001b[0m (use `wandb login --relogin` to force relogin)\n"
     ]
    },
    {
     "data": {
      "text/html": [
       "wandb version 0.13.5 is available!  To upgrade, please run:\n",
       " $ pip install wandb --upgrade"
      ],
      "text/plain": [
       "<IPython.core.display.HTML object>"
      ]
     },
     "metadata": {},
     "output_type": "display_data"
    },
    {
     "data": {
      "text/html": [
       "Tracking run with wandb version 0.12.14"
      ],
      "text/plain": [
       "<IPython.core.display.HTML object>"
      ]
     },
     "metadata": {},
     "output_type": "display_data"
    },
    {
     "data": {
      "text/html": [
       "Run data is saved locally in <code>C:\\Users\\Nick\\Documents\\GitHub\\grvmodel\\Python\\DATA\\wandb\\run-20221110_000501-1w2b243j</code>"
      ],
      "text/plain": [
       "<IPython.core.display.HTML object>"
      ]
     },
     "metadata": {},
     "output_type": "display_data"
    },
    {
     "data": {
      "text/html": [
       "Syncing run <strong><a href=\"https://wandb.ai/nickojelly/new%20LSTM/runs/1w2b243j\" target=\"_blank\">dark-firefly-125</a></strong> to <a href=\"https://wandb.ai/nickojelly/new%20LSTM\" target=\"_blank\">Weights & Biases</a> (<a href=\"https://wandb.me/run\" target=\"_blank\">docs</a>)<br/>"
      ],
      "text/plain": [
       "<IPython.core.display.HTML object>"
      ]
     },
     "metadata": {},
     "output_type": "display_data"
    },
    {
     "name": "stderr",
     "output_type": "stream",
     "text": [
      "  0%|          | 0/293 [00:00<?, ?it/s]"
     ]
    },
    {
     "name": "stdout",
     "output_type": "stream",
     "text": [
      "{'hidden_size': 16, 'batch_size': 250, 'dropout': 0.3, 'epochs': 1000, 'f1_layer_size': 256, 'f2_layer_size': 64, 'learning_rate': 0.0008, 'loss': 'L1', 'l1_beta': 0.1, 'num_layers': 2, 'optimizer': 'adamW', 'validation_split': 0.1}\n",
      "1000\n",
      "{'hidden_size': 16, 'batch_size': 250, 'dropout': 0.3, 'epochs': 1000, 'f1_layer_size': 256, 'f2_layer_size': 64, 'learning_rate': 0.0008, 'loss': 'L1', 'l1_beta': 0.1, 'num_layers': 2, 'optimizer': 'adamW', 'validation_split': 0.1}\n",
      "GRUNet(\n",
      "  (gru1): GRUCell(144, 16)\n",
      "  (gru2): GRUCell(144, 16)\n",
      "  (gru3): GRUCell(144, 16)\n",
      "  (gru4): GRUCell(144, 16)\n",
      "  (gru5): GRUCell(144, 16)\n",
      "  (gru6): GRUCell(144, 16)\n",
      "  (gru7): GRUCell(144, 16)\n",
      "  (gru8): GRUCell(144, 16)\n",
      "  (rl1): ReLU()\n",
      "  (drop1): Dropout(p=0.3, inplace=False)\n",
      "  (fc2): Linear(in_features=128, out_features=64, bias=True)\n",
      "  (drop2): Dropout(p=0.3, inplace=False)\n",
      "  (rl2): ReLU()\n",
      "  (fc3): Linear(in_features=64, out_features=8, bias=True)\n",
      ")\n"
     ]
    },
    {
     "name": "stderr",
     "output_type": "stream",
     "text": [
      "100%|██████████| 293/293 [00:35<00:00,  8.19it/s] \n",
      "  3%|▎         | 33/1250 [00:00<00:03, 326.44it/s]"
     ]
    },
    {
     "name": "stdout",
     "output_type": "stream",
     "text": [
      "epoch_loss/batch_ct=0.06534050878078218\n",
      "tensor(0.1272, device='cuda:0', grad_fn=<SmoothL1LossBackward0>)\n"
     ]
    },
    {
     "name": "stderr",
     "output_type": "stream",
     "text": [
      "100%|██████████| 1250/1250 [00:02<00:00, 453.31it/s]\n",
      "  0%|          | 1/293 [00:00<00:47,  6.09it/s]"
     ]
    },
    {
     "name": "stdout",
     "output_type": "stream",
     "text": [
      "accuray: 0.1777\n"
     ]
    },
    {
     "name": "stderr",
     "output_type": "stream",
     "text": [
      "100%|██████████| 293/293 [00:33<00:00,  8.71it/s]\n",
      " 10%|▉         | 124/1250 [00:00<00:01, 617.36it/s]"
     ]
    },
    {
     "name": "stdout",
     "output_type": "stream",
     "text": [
      "epoch_loss/batch_ct=0.06491349471939935\n",
      "tensor(0.1262, device='cuda:0', grad_fn=<SmoothL1LossBackward0>)\n"
     ]
    },
    {
     "name": "stderr",
     "output_type": "stream",
     "text": [
      "100%|██████████| 1250/1250 [00:02<00:00, 607.35it/s]\n",
      "  0%|          | 1/293 [00:00<00:35,  8.13it/s]"
     ]
    },
    {
     "name": "stdout",
     "output_type": "stream",
     "text": [
      "accuray: 0.1842\n"
     ]
    },
    {
     "name": "stderr",
     "output_type": "stream",
     "text": [
      "100%|██████████| 293/293 [00:34<00:00,  8.53it/s]\n",
      "  2%|▏         | 28/1250 [00:00<00:04, 277.26it/s]"
     ]
    },
    {
     "name": "stdout",
     "output_type": "stream",
     "text": [
      "epoch_loss/batch_ct=0.06470022448116824\n",
      "tensor(0.1264, device='cuda:0', grad_fn=<SmoothL1LossBackward0>)\n"
     ]
    },
    {
     "name": "stderr",
     "output_type": "stream",
     "text": [
      "100%|██████████| 1250/1250 [00:02<00:00, 472.50it/s]\n",
      "  0%|          | 1/293 [00:00<00:44,  6.54it/s]"
     ]
    },
    {
     "name": "stdout",
     "output_type": "stream",
     "text": [
      "accuray: 0.1946\n"
     ]
    },
    {
     "name": "stderr",
     "output_type": "stream",
     "text": [
      "100%|██████████| 293/293 [00:34<00:00,  8.53it/s]\n",
      "  7%|▋         | 86/1250 [00:00<00:02, 429.44it/s]"
     ]
    },
    {
     "name": "stdout",
     "output_type": "stream",
     "text": [
      "epoch_loss/batch_ct=0.06454381562532886\n",
      "tensor(0.1270, device='cuda:0', grad_fn=<SmoothL1LossBackward0>)\n"
     ]
    },
    {
     "name": "stderr",
     "output_type": "stream",
     "text": [
      "100%|██████████| 1250/1250 [00:02<00:00, 557.78it/s]\n",
      "  0%|          | 1/293 [00:00<00:42,  6.88it/s]"
     ]
    },
    {
     "name": "stdout",
     "output_type": "stream",
     "text": [
      "accuray: 0.1976\n"
     ]
    },
    {
     "name": "stderr",
     "output_type": "stream",
     "text": [
      "100%|██████████| 293/293 [00:34<00:00,  8.40it/s]\n",
      "  5%|▌         | 65/1250 [00:00<00:03, 321.91it/s]"
     ]
    },
    {
     "name": "stdout",
     "output_type": "stream",
     "text": [
      "epoch_loss/batch_ct=0.06436793753019875\n",
      "tensor(0.1256, device='cuda:0', grad_fn=<SmoothL1LossBackward0>)\n"
     ]
    },
    {
     "name": "stderr",
     "output_type": "stream",
     "text": [
      "100%|██████████| 1250/1250 [00:02<00:00, 523.28it/s]\n",
      "  0%|          | 1/293 [00:00<00:40,  7.29it/s]"
     ]
    },
    {
     "name": "stdout",
     "output_type": "stream",
     "text": [
      "accuray: 0.2009\n"
     ]
    },
    {
     "name": "stderr",
     "output_type": "stream",
     "text": [
      "100%|██████████| 293/293 [00:34<00:00,  8.42it/s]\n",
      "  3%|▎         | 37/1250 [00:00<00:03, 357.41it/s]"
     ]
    },
    {
     "name": "stdout",
     "output_type": "stream",
     "text": [
      "epoch_loss/batch_ct=0.06423576977399606\n",
      "tensor(0.1255, device='cuda:0', grad_fn=<SmoothL1LossBackward0>)\n"
     ]
    },
    {
     "name": "stderr",
     "output_type": "stream",
     "text": [
      "100%|██████████| 1250/1250 [00:02<00:00, 580.84it/s]\n",
      "  0%|          | 1/293 [00:00<00:35,  8.12it/s]"
     ]
    },
    {
     "name": "stdout",
     "output_type": "stream",
     "text": [
      "accuray: 0.2064\n"
     ]
    },
    {
     "name": "stderr",
     "output_type": "stream",
     "text": [
      "100%|██████████| 293/293 [00:35<00:00,  8.31it/s] \n",
      "  3%|▎         | 36/1250 [00:00<00:03, 358.28it/s]"
     ]
    },
    {
     "name": "stdout",
     "output_type": "stream",
     "text": [
      "epoch_loss/batch_ct=0.0640913484736331\n",
      "tensor(0.1264, device='cuda:0', grad_fn=<SmoothL1LossBackward0>)\n"
     ]
    },
    {
     "name": "stderr",
     "output_type": "stream",
     "text": [
      "100%|██████████| 1250/1250 [00:02<00:00, 563.23it/s]\n",
      "  0%|          | 1/293 [00:00<00:39,  7.34it/s]"
     ]
    },
    {
     "name": "stdout",
     "output_type": "stream",
     "text": [
      "accuray: 0.2089\n"
     ]
    },
    {
     "name": "stderr",
     "output_type": "stream",
     "text": [
      "100%|██████████| 293/293 [00:35<00:00,  8.19it/s] \n",
      "  6%|▌         | 73/1250 [00:00<00:03, 356.40it/s]"
     ]
    },
    {
     "name": "stdout",
     "output_type": "stream",
     "text": [
      "epoch_loss/batch_ct=0.06396237648432217\n",
      "tensor(0.1247, device='cuda:0', grad_fn=<SmoothL1LossBackward0>)\n"
     ]
    },
    {
     "name": "stderr",
     "output_type": "stream",
     "text": [
      "100%|██████████| 1250/1250 [00:02<00:00, 504.91it/s]\n",
      "  0%|          | 1/293 [00:00<00:38,  7.55it/s]"
     ]
    },
    {
     "name": "stdout",
     "output_type": "stream",
     "text": [
      "accuray: 0.2163\n"
     ]
    },
    {
     "name": "stderr",
     "output_type": "stream",
     "text": [
      "100%|██████████| 293/293 [00:33<00:00,  8.68it/s] \n",
      "  3%|▎         | 36/1250 [00:00<00:03, 350.51it/s]"
     ]
    },
    {
     "name": "stdout",
     "output_type": "stream",
     "text": [
      "epoch_loss/batch_ct=0.06384536235164555\n",
      "tensor(0.1250, device='cuda:0', grad_fn=<SmoothL1LossBackward0>)\n"
     ]
    },
    {
     "name": "stderr",
     "output_type": "stream",
     "text": [
      "100%|██████████| 1250/1250 [00:02<00:00, 541.66it/s]\n",
      "  0%|          | 1/293 [00:00<00:39,  7.40it/s]"
     ]
    },
    {
     "name": "stdout",
     "output_type": "stream",
     "text": [
      "accuray: 0.2117\n"
     ]
    },
    {
     "name": "stderr",
     "output_type": "stream",
     "text": [
      "100%|██████████| 293/293 [00:33<00:00,  8.64it/s] \n",
      "  5%|▌         | 63/1250 [00:00<00:01, 629.42it/s]"
     ]
    },
    {
     "name": "stdout",
     "output_type": "stream",
     "text": [
      "epoch_loss/batch_ct=0.06372531621702134\n",
      "tensor(0.1243, device='cuda:0', grad_fn=<SmoothL1LossBackward0>)\n"
     ]
    },
    {
     "name": "stderr",
     "output_type": "stream",
     "text": [
      "100%|██████████| 1250/1250 [00:02<00:00, 600.87it/s]\n",
      "  0%|          | 1/293 [00:00<00:40,  7.23it/s]"
     ]
    },
    {
     "name": "stdout",
     "output_type": "stream",
     "text": [
      "accuray: 0.221\n"
     ]
    },
    {
     "name": "stderr",
     "output_type": "stream",
     "text": [
      "100%|██████████| 293/293 [00:34<00:00,  8.46it/s]\n",
      "  7%|▋         | 93/1250 [00:00<00:02, 461.32it/s]"
     ]
    },
    {
     "name": "stdout",
     "output_type": "stream",
     "text": [
      "epoch_loss/batch_ct=0.06365462142737612\n",
      "tensor(0.1253, device='cuda:0', grad_fn=<SmoothL1LossBackward0>)\n"
     ]
    },
    {
     "name": "stderr",
     "output_type": "stream",
     "text": [
      "100%|██████████| 1250/1250 [00:02<00:00, 562.56it/s]\n",
      "  0%|          | 1/293 [00:00<00:42,  6.92it/s]"
     ]
    },
    {
     "name": "stdout",
     "output_type": "stream",
     "text": [
      "accuray: 0.2189\n"
     ]
    },
    {
     "name": "stderr",
     "output_type": "stream",
     "text": [
      "100%|██████████| 293/293 [00:33<00:00,  8.76it/s]\n",
      "  6%|▌         | 76/1250 [00:00<00:03, 379.12it/s]"
     ]
    },
    {
     "name": "stdout",
     "output_type": "stream",
     "text": [
      "epoch_loss/batch_ct=0.0634812687242788\n",
      "tensor(0.1242, device='cuda:0', grad_fn=<SmoothL1LossBackward0>)\n"
     ]
    },
    {
     "name": "stderr",
     "output_type": "stream",
     "text": [
      "100%|██████████| 1250/1250 [00:02<00:00, 543.52it/s]\n",
      "  0%|          | 1/293 [00:00<00:40,  7.15it/s]"
     ]
    },
    {
     "name": "stdout",
     "output_type": "stream",
     "text": [
      "accuray: 0.2207\n"
     ]
    },
    {
     "name": "stderr",
     "output_type": "stream",
     "text": [
      "100%|██████████| 293/293 [00:34<00:00,  8.54it/s]\n",
      "  7%|▋         | 91/1250 [00:00<00:02, 464.19it/s]"
     ]
    },
    {
     "name": "stdout",
     "output_type": "stream",
     "text": [
      "epoch_loss/batch_ct=0.06340890454631003\n",
      "tensor(0.1248, device='cuda:0', grad_fn=<SmoothL1LossBackward0>)\n"
     ]
    },
    {
     "name": "stderr",
     "output_type": "stream",
     "text": [
      "100%|██████████| 1250/1250 [00:02<00:00, 571.35it/s]\n",
      "  0%|          | 1/293 [00:00<00:45,  6.44it/s]"
     ]
    },
    {
     "name": "stdout",
     "output_type": "stream",
     "text": [
      "accuray: 0.2236\n"
     ]
    },
    {
     "name": "stderr",
     "output_type": "stream",
     "text": [
      "100%|██████████| 293/293 [00:34<00:00,  8.59it/s]\n",
      "  5%|▌         | 66/1250 [00:00<00:03, 329.30it/s]"
     ]
    },
    {
     "name": "stdout",
     "output_type": "stream",
     "text": [
      "epoch_loss/batch_ct=0.06333092854373039\n",
      "tensor(0.1225, device='cuda:0', grad_fn=<SmoothL1LossBackward0>)\n"
     ]
    },
    {
     "name": "stderr",
     "output_type": "stream",
     "text": [
      "100%|██████████| 1250/1250 [00:02<00:00, 574.48it/s]\n",
      "  0%|          | 1/293 [00:00<00:38,  7.58it/s]"
     ]
    },
    {
     "name": "stdout",
     "output_type": "stream",
     "text": [
      "accuray: 0.2295\n"
     ]
    },
    {
     "name": "stderr",
     "output_type": "stream",
     "text": [
      "100%|██████████| 293/293 [00:34<00:00,  8.46it/s] \n",
      " 10%|▉         | 122/1250 [00:00<00:01, 604.55it/s]"
     ]
    },
    {
     "name": "stdout",
     "output_type": "stream",
     "text": [
      "epoch_loss/batch_ct=0.06320990113511918\n",
      "tensor(0.1230, device='cuda:0', grad_fn=<SmoothL1LossBackward0>)\n"
     ]
    },
    {
     "name": "stderr",
     "output_type": "stream",
     "text": [
      "100%|██████████| 1250/1250 [00:02<00:00, 505.96it/s]\n",
      "  0%|          | 1/293 [00:00<00:42,  6.86it/s]"
     ]
    },
    {
     "name": "stdout",
     "output_type": "stream",
     "text": [
      "accuray: 0.2306\n"
     ]
    },
    {
     "name": "stderr",
     "output_type": "stream",
     "text": [
      "100%|██████████| 293/293 [00:32<00:00,  8.91it/s]\n",
      "  1%|▏         | 17/1250 [00:00<00:07, 162.26it/s]"
     ]
    },
    {
     "name": "stdout",
     "output_type": "stream",
     "text": [
      "epoch_loss/batch_ct=0.0632387681583327\n",
      "tensor(0.1237, device='cuda:0', grad_fn=<SmoothL1LossBackward0>)\n"
     ]
    },
    {
     "name": "stderr",
     "output_type": "stream",
     "text": [
      "100%|██████████| 1250/1250 [00:02<00:00, 565.92it/s]\n",
      "  0%|          | 1/293 [00:00<00:36,  8.06it/s]"
     ]
    },
    {
     "name": "stdout",
     "output_type": "stream",
     "text": [
      "accuray: 0.2241\n"
     ]
    },
    {
     "name": "stderr",
     "output_type": "stream",
     "text": [
      "100%|██████████| 293/293 [00:34<00:00,  8.42it/s] \n",
      "  5%|▍         | 62/1250 [00:00<00:01, 615.87it/s]"
     ]
    },
    {
     "name": "stdout",
     "output_type": "stream",
     "text": [
      "epoch_loss/batch_ct=0.06309644042676876\n",
      "tensor(0.1244, device='cuda:0', grad_fn=<SmoothL1LossBackward0>)\n"
     ]
    },
    {
     "name": "stderr",
     "output_type": "stream",
     "text": [
      "100%|██████████| 1250/1250 [00:02<00:00, 595.71it/s]\n",
      "  0%|          | 1/293 [00:00<00:38,  7.58it/s]"
     ]
    },
    {
     "name": "stdout",
     "output_type": "stream",
     "text": [
      "accuray: 0.2256\n"
     ]
    },
    {
     "name": "stderr",
     "output_type": "stream",
     "text": [
      "100%|██████████| 293/293 [00:33<00:00,  8.64it/s] \n",
      "  6%|▌         | 73/1250 [00:00<00:03, 362.98it/s]"
     ]
    },
    {
     "name": "stdout",
     "output_type": "stream",
     "text": [
      "epoch_loss/batch_ct=0.06308097182403481\n",
      "tensor(0.1240, device='cuda:0', grad_fn=<SmoothL1LossBackward0>)\n"
     ]
    },
    {
     "name": "stderr",
     "output_type": "stream",
     "text": [
      "100%|██████████| 1250/1250 [00:02<00:00, 555.07it/s]\n",
      "  0%|          | 1/293 [00:00<00:38,  7.65it/s]"
     ]
    },
    {
     "name": "stdout",
     "output_type": "stream",
     "text": [
      "accuray: 0.2293\n"
     ]
    },
    {
     "name": "stderr",
     "output_type": "stream",
     "text": [
      "100%|██████████| 293/293 [00:34<00:00,  8.58it/s]\n",
      "  7%|▋         | 88/1250 [00:00<00:02, 435.10it/s]"
     ]
    },
    {
     "name": "stdout",
     "output_type": "stream",
     "text": [
      "epoch_loss/batch_ct=0.06294291054031678\n",
      "tensor(0.1228, device='cuda:0', grad_fn=<SmoothL1LossBackward0>)\n"
     ]
    },
    {
     "name": "stderr",
     "output_type": "stream",
     "text": [
      "100%|██████████| 1250/1250 [00:02<00:00, 561.62it/s]\n",
      "  0%|          | 1/293 [00:00<00:48,  5.98it/s]"
     ]
    },
    {
     "name": "stdout",
     "output_type": "stream",
     "text": [
      "accuray: 0.236\n"
     ]
    },
    {
     "name": "stderr",
     "output_type": "stream",
     "text": [
      "100%|██████████| 293/293 [00:34<00:00,  8.50it/s]\n",
      "  7%|▋         | 93/1250 [00:00<00:02, 462.10it/s]"
     ]
    },
    {
     "name": "stdout",
     "output_type": "stream",
     "text": [
      "epoch_loss/batch_ct=0.06283947155766544\n",
      "tensor(0.1235, device='cuda:0', grad_fn=<SmoothL1LossBackward0>)\n"
     ]
    },
    {
     "name": "stderr",
     "output_type": "stream",
     "text": [
      "100%|██████████| 1250/1250 [00:02<00:00, 516.31it/s]\n",
      "  0%|          | 1/293 [00:00<00:40,  7.29it/s]"
     ]
    },
    {
     "name": "stdout",
     "output_type": "stream",
     "text": [
      "accuray: 0.2351\n"
     ]
    },
    {
     "name": "stderr",
     "output_type": "stream",
     "text": [
      "100%|██████████| 293/293 [00:34<00:00,  8.53it/s]\n",
      "  5%|▍         | 60/1250 [00:00<00:01, 596.86it/s]"
     ]
    },
    {
     "name": "stdout",
     "output_type": "stream",
     "text": [
      "epoch_loss/batch_ct=0.06284527047463352\n",
      "tensor(0.1238, device='cuda:0', grad_fn=<SmoothL1LossBackward0>)\n"
     ]
    },
    {
     "name": "stderr",
     "output_type": "stream",
     "text": [
      "100%|██████████| 1250/1250 [00:02<00:00, 594.07it/s]\n",
      "  0%|          | 1/293 [00:00<00:40,  7.23it/s]"
     ]
    },
    {
     "name": "stdout",
     "output_type": "stream",
     "text": [
      "accuray: 0.2375\n"
     ]
    },
    {
     "name": "stderr",
     "output_type": "stream",
     "text": [
      "100%|██████████| 293/293 [00:35<00:00,  8.37it/s]\n",
      "  5%|▌         | 65/1250 [00:00<00:01, 646.61it/s]"
     ]
    },
    {
     "name": "stdout",
     "output_type": "stream",
     "text": [
      "epoch_loss/batch_ct=0.06280067709407636\n",
      "tensor(0.1233, device='cuda:0', grad_fn=<SmoothL1LossBackward0>)\n"
     ]
    },
    {
     "name": "stderr",
     "output_type": "stream",
     "text": [
      "100%|██████████| 1250/1250 [00:02<00:00, 597.38it/s]\n",
      "  0%|          | 1/293 [00:00<00:34,  8.38it/s]"
     ]
    },
    {
     "name": "stdout",
     "output_type": "stream",
     "text": [
      "accuray: 0.2392\n"
     ]
    },
    {
     "name": "stderr",
     "output_type": "stream",
     "text": [
      "100%|██████████| 293/293 [00:33<00:00,  8.63it/s] \n",
      "  5%|▍         | 57/1250 [00:00<00:02, 559.64it/s]"
     ]
    },
    {
     "name": "stdout",
     "output_type": "stream",
     "text": [
      "epoch_loss/batch_ct=0.06273140774537174\n",
      "tensor(0.1232, device='cuda:0', grad_fn=<SmoothL1LossBackward0>)\n"
     ]
    },
    {
     "name": "stderr",
     "output_type": "stream",
     "text": [
      "100%|██████████| 1250/1250 [00:02<00:00, 578.87it/s]\n",
      "  0%|          | 1/293 [00:00<00:42,  6.87it/s]"
     ]
    },
    {
     "name": "stdout",
     "output_type": "stream",
     "text": [
      "accuray: 0.2382\n"
     ]
    },
    {
     "name": "stderr",
     "output_type": "stream",
     "text": [
      "100%|██████████| 293/293 [00:33<00:00,  8.62it/s] \n",
      "  3%|▎         | 36/1250 [00:00<00:03, 346.98it/s]"
     ]
    },
    {
     "name": "stdout",
     "output_type": "stream",
     "text": [
      "epoch_loss/batch_ct=0.06265534747332807\n",
      "tensor(0.1237, device='cuda:0', grad_fn=<SmoothL1LossBackward0>)\n"
     ]
    },
    {
     "name": "stderr",
     "output_type": "stream",
     "text": [
      "100%|██████████| 1250/1250 [00:02<00:00, 598.95it/s]\n",
      "  0%|          | 1/293 [00:00<00:33,  8.60it/s]"
     ]
    },
    {
     "name": "stdout",
     "output_type": "stream",
     "text": [
      "accuray: 0.2456\n"
     ]
    },
    {
     "name": "stderr",
     "output_type": "stream",
     "text": [
      "100%|██████████| 293/293 [00:34<00:00,  8.60it/s] \n",
      "  5%|▌         | 66/1250 [00:00<00:01, 656.72it/s]"
     ]
    },
    {
     "name": "stdout",
     "output_type": "stream",
     "text": [
      "epoch_loss/batch_ct=0.06268381760529583\n",
      "tensor(0.1222, device='cuda:0', grad_fn=<SmoothL1LossBackward0>)\n"
     ]
    },
    {
     "name": "stderr",
     "output_type": "stream",
     "text": [
      "100%|██████████| 1250/1250 [00:02<00:00, 613.87it/s]\n",
      "  0%|          | 1/293 [00:00<00:34,  8.35it/s]"
     ]
    },
    {
     "name": "stdout",
     "output_type": "stream",
     "text": [
      "accuray: 0.2443\n"
     ]
    },
    {
     "name": "stderr",
     "output_type": "stream",
     "text": [
      "100%|██████████| 293/293 [00:33<00:00,  8.77it/s] \n",
      "  7%|▋         | 93/1250 [00:00<00:02, 460.96it/s]"
     ]
    },
    {
     "name": "stdout",
     "output_type": "stream",
     "text": [
      "epoch_loss/batch_ct=0.0625723513464133\n",
      "tensor(0.1227, device='cuda:0', grad_fn=<SmoothL1LossBackward0>)\n"
     ]
    },
    {
     "name": "stderr",
     "output_type": "stream",
     "text": [
      "100%|██████████| 1250/1250 [00:02<00:00, 568.07it/s]\n",
      "  0%|          | 1/293 [00:00<00:37,  7.83it/s]"
     ]
    },
    {
     "name": "stdout",
     "output_type": "stream",
     "text": [
      "accuray: 0.2443\n"
     ]
    },
    {
     "name": "stderr",
     "output_type": "stream",
     "text": [
      "100%|██████████| 293/293 [00:32<00:00,  8.94it/s]\n",
      "  4%|▍         | 54/1250 [00:00<00:02, 535.23it/s]"
     ]
    },
    {
     "name": "stdout",
     "output_type": "stream",
     "text": [
      "epoch_loss/batch_ct=0.06256435125593156\n",
      "tensor(0.1226, device='cuda:0', grad_fn=<SmoothL1LossBackward0>)\n"
     ]
    },
    {
     "name": "stderr",
     "output_type": "stream",
     "text": [
      "100%|██████████| 1250/1250 [00:02<00:00, 566.63it/s]\n",
      "  0%|          | 1/293 [00:00<00:36,  7.92it/s]"
     ]
    },
    {
     "name": "stdout",
     "output_type": "stream",
     "text": [
      "accuray: 0.2437\n"
     ]
    },
    {
     "name": "stderr",
     "output_type": "stream",
     "text": [
      "100%|██████████| 293/293 [00:33<00:00,  8.79it/s] \n",
      "  3%|▎         | 43/1250 [00:00<00:02, 423.62it/s]"
     ]
    },
    {
     "name": "stdout",
     "output_type": "stream",
     "text": [
      "epoch_loss/batch_ct=0.06251846222827832\n",
      "tensor(0.1213, device='cuda:0', grad_fn=<SmoothL1LossBackward0>)\n"
     ]
    },
    {
     "name": "stderr",
     "output_type": "stream",
     "text": [
      "100%|██████████| 1250/1250 [00:02<00:00, 487.07it/s]\n",
      "  0%|          | 1/293 [00:00<00:44,  6.63it/s]"
     ]
    },
    {
     "name": "stdout",
     "output_type": "stream",
     "text": [
      "accuray: 0.2467\n"
     ]
    },
    {
     "name": "stderr",
     "output_type": "stream",
     "text": [
      "100%|██████████| 293/293 [00:36<00:00,  8.01it/s]\n",
      "  3%|▎         | 41/1250 [00:00<00:02, 406.41it/s]"
     ]
    },
    {
     "name": "stdout",
     "output_type": "stream",
     "text": [
      "epoch_loss/batch_ct=0.062475821136363914\n",
      "tensor(0.1232, device='cuda:0', grad_fn=<SmoothL1LossBackward0>)\n"
     ]
    },
    {
     "name": "stderr",
     "output_type": "stream",
     "text": [
      "100%|██████████| 1250/1250 [00:02<00:00, 485.22it/s]\n",
      "  0%|          | 0/293 [00:00<?, ?it/s]"
     ]
    },
    {
     "name": "stdout",
     "output_type": "stream",
     "text": [
      "accuray: 0.2445\n"
     ]
    },
    {
     "name": "stderr",
     "output_type": "stream",
     "text": [
      "100%|██████████| 293/293 [00:34<00:00,  8.48it/s] \n",
      "  3%|▎         | 33/1250 [00:00<00:03, 310.98it/s]"
     ]
    },
    {
     "name": "stdout",
     "output_type": "stream",
     "text": [
      "epoch_loss/batch_ct=0.062455199023206086\n",
      "tensor(0.1227, device='cuda:0', grad_fn=<SmoothL1LossBackward0>)\n"
     ]
    },
    {
     "name": "stderr",
     "output_type": "stream",
     "text": [
      "100%|██████████| 1250/1250 [00:02<00:00, 554.93it/s]\n",
      "  0%|          | 1/293 [00:00<00:35,  8.30it/s]"
     ]
    },
    {
     "name": "stdout",
     "output_type": "stream",
     "text": [
      "accuray: 0.2432\n"
     ]
    },
    {
     "name": "stderr",
     "output_type": "stream",
     "text": [
      "100%|██████████| 293/293 [00:32<00:00,  8.88it/s] \n",
      "  3%|▎         | 38/1250 [00:00<00:03, 378.07it/s]"
     ]
    },
    {
     "name": "stdout",
     "output_type": "stream",
     "text": [
      "epoch_loss/batch_ct=0.0624770809940639\n",
      "tensor(0.1239, device='cuda:0', grad_fn=<SmoothL1LossBackward0>)\n"
     ]
    },
    {
     "name": "stderr",
     "output_type": "stream",
     "text": [
      "100%|██████████| 1250/1250 [00:02<00:00, 563.73it/s]\n",
      "  0%|          | 1/293 [00:00<00:35,  8.16it/s]"
     ]
    },
    {
     "name": "stdout",
     "output_type": "stream",
     "text": [
      "accuray: 0.2439\n"
     ]
    },
    {
     "name": "stderr",
     "output_type": "stream",
     "text": [
      "100%|██████████| 293/293 [00:32<00:00,  8.90it/s] \n",
      "  4%|▍         | 48/1250 [00:00<00:02, 477.94it/s]"
     ]
    },
    {
     "name": "stdout",
     "output_type": "stream",
     "text": [
      "epoch_loss/batch_ct=0.06240710070622819\n",
      "tensor(0.1227, device='cuda:0', grad_fn=<SmoothL1LossBackward0>)\n"
     ]
    },
    {
     "name": "stderr",
     "output_type": "stream",
     "text": [
      "100%|██████████| 1250/1250 [00:02<00:00, 572.65it/s]\n",
      "  0%|          | 1/293 [00:00<00:35,  8.16it/s]"
     ]
    },
    {
     "name": "stdout",
     "output_type": "stream",
     "text": [
      "accuray: 0.2425\n"
     ]
    },
    {
     "name": "stderr",
     "output_type": "stream",
     "text": [
      "100%|██████████| 293/293 [00:33<00:00,  8.81it/s]\n",
      "  7%|▋         | 91/1250 [00:00<00:02, 455.95it/s]"
     ]
    },
    {
     "name": "stdout",
     "output_type": "stream",
     "text": [
      "epoch_loss/batch_ct=0.06235055153864243\n",
      "tensor(0.1230, device='cuda:0', grad_fn=<SmoothL1LossBackward0>)\n"
     ]
    },
    {
     "name": "stderr",
     "output_type": "stream",
     "text": [
      "100%|██████████| 1250/1250 [00:02<00:00, 563.76it/s]\n",
      "  0%|          | 1/293 [00:00<00:39,  7.46it/s]"
     ]
    },
    {
     "name": "stdout",
     "output_type": "stream",
     "text": [
      "accuray: 0.2482\n"
     ]
    },
    {
     "name": "stderr",
     "output_type": "stream",
     "text": [
      "100%|██████████| 293/293 [00:32<00:00,  9.15it/s] \n",
      "  4%|▍         | 51/1250 [00:00<00:02, 500.62it/s]"
     ]
    },
    {
     "name": "stdout",
     "output_type": "stream",
     "text": [
      "epoch_loss/batch_ct=0.062273687816091945\n",
      "tensor(0.1227, device='cuda:0', grad_fn=<SmoothL1LossBackward0>)\n"
     ]
    },
    {
     "name": "stderr",
     "output_type": "stream",
     "text": [
      "100%|██████████| 1250/1250 [00:02<00:00, 544.53it/s]\n",
      "  0%|          | 1/293 [00:00<00:58,  4.97it/s]"
     ]
    },
    {
     "name": "stdout",
     "output_type": "stream",
     "text": [
      "accuray: 0.2497\n"
     ]
    },
    {
     "name": "stderr",
     "output_type": "stream",
     "text": [
      "100%|██████████| 293/293 [00:31<00:00,  9.17it/s] \n",
      "  3%|▎         | 38/1250 [00:00<00:03, 365.60it/s]"
     ]
    },
    {
     "name": "stdout",
     "output_type": "stream",
     "text": [
      "epoch_loss/batch_ct=0.06222978002199578\n",
      "tensor(0.1217, device='cuda:0', grad_fn=<SmoothL1LossBackward0>)\n"
     ]
    },
    {
     "name": "stderr",
     "output_type": "stream",
     "text": [
      "100%|██████████| 1250/1250 [00:02<00:00, 554.15it/s]\n",
      "  0%|          | 1/293 [00:00<00:36,  7.94it/s]"
     ]
    },
    {
     "name": "stdout",
     "output_type": "stream",
     "text": [
      "accuray: 0.2498\n"
     ]
    },
    {
     "name": "stderr",
     "output_type": "stream",
     "text": [
      "100%|██████████| 293/293 [00:31<00:00,  9.27it/s] \n",
      "  7%|▋         | 84/1250 [00:00<00:02, 406.65it/s]"
     ]
    },
    {
     "name": "stdout",
     "output_type": "stream",
     "text": [
      "epoch_loss/batch_ct=0.06228564802320704\n",
      "tensor(0.1237, device='cuda:0', grad_fn=<SmoothL1LossBackward0>)\n"
     ]
    },
    {
     "name": "stderr",
     "output_type": "stream",
     "text": [
      "100%|██████████| 1250/1250 [00:02<00:00, 538.00it/s]\n",
      "  0%|          | 1/293 [00:00<00:35,  8.27it/s]"
     ]
    },
    {
     "name": "stdout",
     "output_type": "stream",
     "text": [
      "accuray: 0.2556\n"
     ]
    },
    {
     "name": "stderr",
     "output_type": "stream",
     "text": [
      "100%|██████████| 293/293 [00:32<00:00,  8.89it/s] \n",
      "  4%|▎         | 44/1250 [00:00<00:02, 434.66it/s]"
     ]
    },
    {
     "name": "stdout",
     "output_type": "stream",
     "text": [
      "epoch_loss/batch_ct=0.06222642523547014\n",
      "tensor(0.1230, device='cuda:0', grad_fn=<SmoothL1LossBackward0>)\n"
     ]
    },
    {
     "name": "stderr",
     "output_type": "stream",
     "text": [
      "100%|██████████| 1250/1250 [00:02<00:00, 560.10it/s]\n",
      "  0%|          | 1/293 [00:00<00:36,  8.06it/s]"
     ]
    },
    {
     "name": "stdout",
     "output_type": "stream",
     "text": [
      "accuray: 0.2532\n"
     ]
    },
    {
     "name": "stderr",
     "output_type": "stream",
     "text": [
      "100%|██████████| 293/293 [00:33<00:00,  8.83it/s] \n",
      "  5%|▌         | 66/1250 [00:00<00:01, 657.05it/s]"
     ]
    },
    {
     "name": "stdout",
     "output_type": "stream",
     "text": [
      "epoch_loss/batch_ct=0.06222622634636031\n",
      "tensor(0.1221, device='cuda:0', grad_fn=<SmoothL1LossBackward0>)\n"
     ]
    },
    {
     "name": "stderr",
     "output_type": "stream",
     "text": [
      "100%|██████████| 1250/1250 [00:01<00:00, 645.31it/s]\n",
      "  0%|          | 1/293 [00:00<00:36,  8.05it/s]"
     ]
    },
    {
     "name": "stdout",
     "output_type": "stream",
     "text": [
      "accuray: 0.2502\n"
     ]
    },
    {
     "name": "stderr",
     "output_type": "stream",
     "text": [
      "100%|██████████| 293/293 [00:32<00:00,  9.01it/s] \n",
      "  3%|▎         | 37/1250 [00:00<00:03, 368.72it/s]"
     ]
    },
    {
     "name": "stdout",
     "output_type": "stream",
     "text": [
      "epoch_loss/batch_ct=0.06218708809169512\n",
      "tensor(0.1214, device='cuda:0', grad_fn=<SmoothL1LossBackward0>)\n"
     ]
    },
    {
     "name": "stderr",
     "output_type": "stream",
     "text": [
      "100%|██████████| 1250/1250 [00:02<00:00, 567.45it/s]\n",
      "  0%|          | 1/293 [00:00<00:46,  6.24it/s]"
     ]
    },
    {
     "name": "stdout",
     "output_type": "stream",
     "text": [
      "accuray: 0.2532\n"
     ]
    },
    {
     "name": "stderr",
     "output_type": "stream",
     "text": [
      "100%|██████████| 293/293 [00:33<00:00,  8.82it/s] \n",
      " 11%|█         | 133/1250 [00:00<00:01, 654.72it/s]"
     ]
    },
    {
     "name": "stdout",
     "output_type": "stream",
     "text": [
      "epoch_loss/batch_ct=0.062125499907230576\n",
      "tensor(0.1222, device='cuda:0', grad_fn=<SmoothL1LossBackward0>)\n"
     ]
    },
    {
     "name": "stderr",
     "output_type": "stream",
     "text": [
      "100%|██████████| 1250/1250 [00:02<00:00, 618.38it/s]\n",
      "  0%|          | 1/293 [00:00<00:34,  8.40it/s]"
     ]
    },
    {
     "name": "stdout",
     "output_type": "stream",
     "text": [
      "accuray: 0.2537\n"
     ]
    },
    {
     "name": "stderr",
     "output_type": "stream",
     "text": [
      "100%|██████████| 293/293 [00:33<00:00,  8.68it/s] \n",
      "  3%|▎         | 42/1250 [00:00<00:02, 414.93it/s]"
     ]
    },
    {
     "name": "stdout",
     "output_type": "stream",
     "text": [
      "epoch_loss/batch_ct=0.06208937350542299\n",
      "tensor(0.1233, device='cuda:0', grad_fn=<SmoothL1LossBackward0>)\n"
     ]
    },
    {
     "name": "stderr",
     "output_type": "stream",
     "text": [
      "100%|██████████| 1250/1250 [00:02<00:00, 563.23it/s]\n",
      "  0%|          | 1/293 [00:00<00:44,  6.61it/s]"
     ]
    },
    {
     "name": "stdout",
     "output_type": "stream",
     "text": [
      "accuray: 0.254\n"
     ]
    },
    {
     "name": "stderr",
     "output_type": "stream",
     "text": [
      "100%|██████████| 293/293 [00:33<00:00,  8.86it/s]\n",
      "  9%|▉         | 112/1250 [00:00<00:02, 555.59it/s]"
     ]
    },
    {
     "name": "stdout",
     "output_type": "stream",
     "text": [
      "epoch_loss/batch_ct=0.06204793318396523\n",
      "tensor(0.1222, device='cuda:0', grad_fn=<SmoothL1LossBackward0>)\n"
     ]
    },
    {
     "name": "stderr",
     "output_type": "stream",
     "text": [
      "100%|██████████| 1250/1250 [00:02<00:00, 579.71it/s]\n",
      "  0%|          | 1/293 [00:00<00:35,  8.28it/s]"
     ]
    },
    {
     "name": "stdout",
     "output_type": "stream",
     "text": [
      "accuray: 0.2564\n"
     ]
    },
    {
     "name": "stderr",
     "output_type": "stream",
     "text": [
      "100%|██████████| 293/293 [00:33<00:00,  8.86it/s] \n",
      "  2%|▏         | 29/1250 [00:00<00:04, 282.40it/s]"
     ]
    },
    {
     "name": "stdout",
     "output_type": "stream",
     "text": [
      "epoch_loss/batch_ct=0.06207603964185904\n",
      "tensor(0.1221, device='cuda:0', grad_fn=<SmoothL1LossBackward0>)\n"
     ]
    },
    {
     "name": "stderr",
     "output_type": "stream",
     "text": [
      "100%|██████████| 1250/1250 [00:02<00:00, 465.97it/s]\n",
      "  0%|          | 1/293 [00:00<00:36,  7.99it/s]"
     ]
    },
    {
     "name": "stdout",
     "output_type": "stream",
     "text": [
      "accuray: 0.2571\n"
     ]
    },
    {
     "name": "stderr",
     "output_type": "stream",
     "text": [
      "100%|██████████| 293/293 [00:32<00:00,  8.97it/s]\n",
      "  7%|▋         | 84/1250 [00:00<00:02, 415.07it/s]"
     ]
    },
    {
     "name": "stdout",
     "output_type": "stream",
     "text": [
      "epoch_loss/batch_ct=0.06198740069059625\n",
      "tensor(0.1242, device='cuda:0', grad_fn=<SmoothL1LossBackward0>)\n"
     ]
    },
    {
     "name": "stderr",
     "output_type": "stream",
     "text": [
      "100%|██████████| 1250/1250 [00:02<00:00, 559.25it/s]\n",
      "  0%|          | 1/293 [00:00<00:36,  8.02it/s]"
     ]
    },
    {
     "name": "stdout",
     "output_type": "stream",
     "text": [
      "accuray: 0.2568\n"
     ]
    },
    {
     "name": "stderr",
     "output_type": "stream",
     "text": [
      "100%|██████████| 293/293 [00:32<00:00,  8.88it/s] \n",
      "  8%|▊         | 100/1250 [00:00<00:02, 486.50it/s]"
     ]
    },
    {
     "name": "stdout",
     "output_type": "stream",
     "text": [
      "epoch_loss/batch_ct=0.062020131283336215\n",
      "tensor(0.1220, device='cuda:0', grad_fn=<SmoothL1LossBackward0>)\n"
     ]
    },
    {
     "name": "stderr",
     "output_type": "stream",
     "text": [
      "100%|██████████| 1250/1250 [00:02<00:00, 573.91it/s]\n",
      "  0%|          | 0/293 [00:00<?, ?it/s]"
     ]
    },
    {
     "name": "stdout",
     "output_type": "stream",
     "text": [
      "accuray: 0.2596\n"
     ]
    },
    {
     "name": "stderr",
     "output_type": "stream",
     "text": [
      "100%|██████████| 293/293 [00:32<00:00,  8.96it/s] \n",
      "  8%|▊         | 98/1250 [00:00<00:02, 471.56it/s]"
     ]
    },
    {
     "name": "stdout",
     "output_type": "stream",
     "text": [
      "epoch_loss/batch_ct=0.062001441620172015\n",
      "tensor(0.1226, device='cuda:0', grad_fn=<SmoothL1LossBackward0>)\n"
     ]
    },
    {
     "name": "stderr",
     "output_type": "stream",
     "text": [
      "100%|██████████| 1250/1250 [00:02<00:00, 573.43it/s]\n",
      "  0%|          | 1/293 [00:00<00:44,  6.60it/s]"
     ]
    },
    {
     "name": "stdout",
     "output_type": "stream",
     "text": [
      "accuray: 0.2522\n"
     ]
    },
    {
     "name": "stderr",
     "output_type": "stream",
     "text": [
      "100%|██████████| 293/293 [00:33<00:00,  8.73it/s] \n",
      "  4%|▍         | 54/1250 [00:00<00:02, 537.27it/s]"
     ]
    },
    {
     "name": "stdout",
     "output_type": "stream",
     "text": [
      "epoch_loss/batch_ct=0.061948510433828076\n",
      "tensor(0.1226, device='cuda:0', grad_fn=<SmoothL1LossBackward0>)\n"
     ]
    },
    {
     "name": "stderr",
     "output_type": "stream",
     "text": [
      "100%|██████████| 1250/1250 [00:02<00:00, 576.34it/s]\n",
      "  0%|          | 1/293 [00:00<00:35,  8.12it/s]"
     ]
    },
    {
     "name": "stdout",
     "output_type": "stream",
     "text": [
      "accuray: 0.2558\n"
     ]
    },
    {
     "name": "stderr",
     "output_type": "stream",
     "text": [
      "100%|██████████| 293/293 [00:33<00:00,  8.65it/s]\n",
      "  5%|▌         | 66/1250 [00:00<00:01, 659.94it/s]"
     ]
    },
    {
     "name": "stdout",
     "output_type": "stream",
     "text": [
      "epoch_loss/batch_ct=0.06198440799637446\n",
      "tensor(0.1227, device='cuda:0', grad_fn=<SmoothL1LossBackward0>)\n"
     ]
    },
    {
     "name": "stderr",
     "output_type": "stream",
     "text": [
      "100%|██████████| 1250/1250 [00:02<00:00, 606.73it/s]\n",
      "  0%|          | 1/293 [00:00<00:37,  7.83it/s]"
     ]
    },
    {
     "name": "stdout",
     "output_type": "stream",
     "text": [
      "accuray: 0.2498\n"
     ]
    },
    {
     "name": "stderr",
     "output_type": "stream",
     "text": [
      "100%|██████████| 293/293 [00:32<00:00,  8.96it/s] \n",
      " 10%|█         | 130/1250 [00:00<00:01, 637.92it/s]"
     ]
    },
    {
     "name": "stdout",
     "output_type": "stream",
     "text": [
      "epoch_loss/batch_ct=0.06189113253697989\n",
      "tensor(0.1209, device='cuda:0', grad_fn=<SmoothL1LossBackward0>)\n"
     ]
    },
    {
     "name": "stderr",
     "output_type": "stream",
     "text": [
      "100%|██████████| 1250/1250 [00:01<00:00, 639.64it/s]\n",
      "  0%|          | 1/293 [00:00<00:34,  8.35it/s]"
     ]
    },
    {
     "name": "stdout",
     "output_type": "stream",
     "text": [
      "accuray: 0.2615\n"
     ]
    },
    {
     "name": "stderr",
     "output_type": "stream",
     "text": [
      "100%|██████████| 293/293 [00:33<00:00,  8.82it/s] \n",
      "  8%|▊         | 104/1250 [00:00<00:02, 514.39it/s]"
     ]
    },
    {
     "name": "stdout",
     "output_type": "stream",
     "text": [
      "epoch_loss/batch_ct=0.06183818940605436\n",
      "tensor(0.1226, device='cuda:0', grad_fn=<SmoothL1LossBackward0>)\n"
     ]
    },
    {
     "name": "stderr",
     "output_type": "stream",
     "text": [
      "100%|██████████| 1250/1250 [00:02<00:00, 561.43it/s]\n",
      "  0%|          | 1/293 [00:00<00:36,  8.02it/s]"
     ]
    },
    {
     "name": "stdout",
     "output_type": "stream",
     "text": [
      "accuray: 0.2524\n"
     ]
    },
    {
     "name": "stderr",
     "output_type": "stream",
     "text": [
      "100%|██████████| 293/293 [00:32<00:00,  8.94it/s] \n",
      "  3%|▎         | 34/1250 [00:00<00:03, 336.32it/s]"
     ]
    },
    {
     "name": "stdout",
     "output_type": "stream",
     "text": [
      "epoch_loss/batch_ct=0.0618163612005966\n",
      "tensor(0.1215, device='cuda:0', grad_fn=<SmoothL1LossBackward0>)\n"
     ]
    },
    {
     "name": "stderr",
     "output_type": "stream",
     "text": [
      "100%|██████████| 1250/1250 [00:02<00:00, 579.52it/s]\n",
      "  0%|          | 0/293 [00:00<?, ?it/s]"
     ]
    },
    {
     "name": "stdout",
     "output_type": "stream",
     "text": [
      "accuray: 0.2592\n"
     ]
    },
    {
     "name": "stderr",
     "output_type": "stream",
     "text": [
      "100%|██████████| 293/293 [00:31<00:00,  9.17it/s] \n",
      "  5%|▌         | 67/1250 [00:00<00:03, 307.08it/s]"
     ]
    },
    {
     "name": "stdout",
     "output_type": "stream",
     "text": [
      "epoch_loss/batch_ct=0.06180792909470342\n",
      "tensor(0.1236, device='cuda:0', grad_fn=<SmoothL1LossBackward0>)\n"
     ]
    },
    {
     "name": "stderr",
     "output_type": "stream",
     "text": [
      "100%|██████████| 1250/1250 [00:02<00:00, 617.94it/s]\n",
      "  0%|          | 1/293 [00:00<00:35,  8.19it/s]"
     ]
    },
    {
     "name": "stdout",
     "output_type": "stream",
     "text": [
      "accuray: 0.2576\n"
     ]
    },
    {
     "name": "stderr",
     "output_type": "stream",
     "text": [
      "100%|██████████| 293/293 [00:32<00:00,  8.94it/s] \n",
      "  3%|▎         | 42/1250 [00:00<00:02, 415.46it/s]"
     ]
    },
    {
     "name": "stdout",
     "output_type": "stream",
     "text": [
      "epoch_loss/batch_ct=0.0617950525253065\n",
      "tensor(0.1220, device='cuda:0', grad_fn=<SmoothL1LossBackward0>)\n"
     ]
    },
    {
     "name": "stderr",
     "output_type": "stream",
     "text": [
      "100%|██████████| 1250/1250 [00:02<00:00, 560.53it/s]\n",
      "  0%|          | 1/293 [00:00<00:37,  7.69it/s]"
     ]
    },
    {
     "name": "stdout",
     "output_type": "stream",
     "text": [
      "accuray: 0.2574\n"
     ]
    },
    {
     "name": "stderr",
     "output_type": "stream",
     "text": [
      "100%|██████████| 293/293 [00:32<00:00,  8.99it/s] \n",
      "  9%|▉         | 114/1250 [00:00<00:02, 544.81it/s]"
     ]
    },
    {
     "name": "stdout",
     "output_type": "stream",
     "text": [
      "epoch_loss/batch_ct=0.061774504459684805\n",
      "tensor(0.1227, device='cuda:0', grad_fn=<SmoothL1LossBackward0>)\n"
     ]
    },
    {
     "name": "stderr",
     "output_type": "stream",
     "text": [
      "100%|██████████| 1250/1250 [00:02<00:00, 569.74it/s]\n",
      "  0%|          | 1/293 [00:00<00:36,  8.06it/s]"
     ]
    },
    {
     "name": "stdout",
     "output_type": "stream",
     "text": [
      "accuray: 0.2567\n"
     ]
    },
    {
     "name": "stderr",
     "output_type": "stream",
     "text": [
      "100%|██████████| 293/293 [00:32<00:00,  8.91it/s] \n",
      "  4%|▎         | 46/1250 [00:00<00:02, 446.20it/s]"
     ]
    },
    {
     "name": "stdout",
     "output_type": "stream",
     "text": [
      "epoch_loss/batch_ct=0.06173749912589315\n",
      "tensor(0.1224, device='cuda:0', grad_fn=<SmoothL1LossBackward0>)\n"
     ]
    },
    {
     "name": "stderr",
     "output_type": "stream",
     "text": [
      "100%|██████████| 1250/1250 [00:02<00:00, 571.04it/s]\n",
      "  0%|          | 1/293 [00:00<00:36,  7.99it/s]"
     ]
    },
    {
     "name": "stdout",
     "output_type": "stream",
     "text": [
      "accuray: 0.261\n"
     ]
    },
    {
     "name": "stderr",
     "output_type": "stream",
     "text": [
      "100%|██████████| 293/293 [00:32<00:00,  9.03it/s] \n",
      "  6%|▋         | 81/1250 [00:00<00:02, 400.91it/s]"
     ]
    },
    {
     "name": "stdout",
     "output_type": "stream",
     "text": [
      "epoch_loss/batch_ct=0.06177483853839692\n",
      "tensor(0.1219, device='cuda:0', grad_fn=<SmoothL1LossBackward0>)\n"
     ]
    },
    {
     "name": "stderr",
     "output_type": "stream",
     "text": [
      "100%|██████████| 1250/1250 [00:02<00:00, 569.74it/s]\n",
      "  0%|          | 1/293 [00:00<00:37,  7.81it/s]"
     ]
    },
    {
     "name": "stdout",
     "output_type": "stream",
     "text": [
      "accuray: 0.2584\n"
     ]
    },
    {
     "name": "stderr",
     "output_type": "stream",
     "text": [
      "100%|██████████| 293/293 [00:32<00:00,  9.06it/s] \n",
      "  3%|▎         | 37/1250 [00:00<00:03, 355.45it/s]"
     ]
    },
    {
     "name": "stdout",
     "output_type": "stream",
     "text": [
      "epoch_loss/batch_ct=0.061736342438038376\n",
      "tensor(0.1214, device='cuda:0', grad_fn=<SmoothL1LossBackward0>)\n"
     ]
    },
    {
     "name": "stderr",
     "output_type": "stream",
     "text": [
      "100%|██████████| 1250/1250 [00:02<00:00, 559.03it/s]\n",
      "  0%|          | 1/293 [00:00<00:37,  7.74it/s]"
     ]
    },
    {
     "name": "stdout",
     "output_type": "stream",
     "text": [
      "accuray: 0.2587\n"
     ]
    },
    {
     "name": "stderr",
     "output_type": "stream",
     "text": [
      "100%|██████████| 293/293 [00:32<00:00,  8.94it/s] \n",
      "  3%|▎         | 36/1250 [00:00<00:03, 345.84it/s]"
     ]
    },
    {
     "name": "stdout",
     "output_type": "stream",
     "text": [
      "epoch_loss/batch_ct=0.06170442792040015\n",
      "tensor(0.1228, device='cuda:0', grad_fn=<SmoothL1LossBackward0>)\n"
     ]
    },
    {
     "name": "stderr",
     "output_type": "stream",
     "text": [
      "100%|██████████| 1250/1250 [00:02<00:00, 621.33it/s]\n",
      "  0%|          | 1/293 [00:00<00:35,  8.19it/s]"
     ]
    },
    {
     "name": "stdout",
     "output_type": "stream",
     "text": [
      "accuray: 0.255\n"
     ]
    },
    {
     "name": "stderr",
     "output_type": "stream",
     "text": [
      "100%|██████████| 293/293 [00:32<00:00,  8.97it/s] \n",
      "  8%|▊         | 99/1250 [00:00<00:02, 492.54it/s]"
     ]
    },
    {
     "name": "stdout",
     "output_type": "stream",
     "text": [
      "epoch_loss/batch_ct=0.06172837311076739\n",
      "tensor(0.1208, device='cuda:0', grad_fn=<SmoothL1LossBackward0>)\n"
     ]
    },
    {
     "name": "stderr",
     "output_type": "stream",
     "text": [
      "100%|██████████| 1250/1250 [00:02<00:00, 563.82it/s]\n",
      "  0%|          | 1/293 [00:00<00:37,  7.74it/s]"
     ]
    },
    {
     "name": "stdout",
     "output_type": "stream",
     "text": [
      "accuray: 0.2596\n"
     ]
    },
    {
     "name": "stderr",
     "output_type": "stream",
     "text": [
      "100%|██████████| 293/293 [00:32<00:00,  9.00it/s] \n",
      "  5%|▍         | 60/1250 [00:00<00:03, 301.49it/s]"
     ]
    },
    {
     "name": "stdout",
     "output_type": "stream",
     "text": [
      "epoch_loss/batch_ct=0.06168469913776905\n",
      "tensor(0.1216, device='cuda:0', grad_fn=<SmoothL1LossBackward0>)\n"
     ]
    },
    {
     "name": "stderr",
     "output_type": "stream",
     "text": [
      "100%|██████████| 1250/1250 [00:02<00:00, 554.56it/s]\n",
      "  0%|          | 1/293 [00:00<00:36,  7.93it/s]"
     ]
    },
    {
     "name": "stdout",
     "output_type": "stream",
     "text": [
      "accuray: 0.2559\n"
     ]
    },
    {
     "name": "stderr",
     "output_type": "stream",
     "text": [
      "100%|██████████| 293/293 [00:32<00:00,  8.96it/s] \n",
      "  3%|▎         | 43/1250 [00:00<00:02, 429.61it/s]"
     ]
    },
    {
     "name": "stdout",
     "output_type": "stream",
     "text": [
      "epoch_loss/batch_ct=0.0617327621088378\n",
      "tensor(0.1220, device='cuda:0', grad_fn=<SmoothL1LossBackward0>)\n"
     ]
    },
    {
     "name": "stderr",
     "output_type": "stream",
     "text": [
      "100%|██████████| 1250/1250 [00:02<00:00, 567.41it/s]\n",
      "  0%|          | 1/293 [00:00<00:38,  7.63it/s]"
     ]
    },
    {
     "name": "stdout",
     "output_type": "stream",
     "text": [
      "accuray: 0.2568\n"
     ]
    },
    {
     "name": "stderr",
     "output_type": "stream",
     "text": [
      "100%|██████████| 293/293 [00:32<00:00,  9.03it/s] \n",
      "  4%|▎         | 45/1250 [00:00<00:02, 449.59it/s]"
     ]
    },
    {
     "name": "stdout",
     "output_type": "stream",
     "text": [
      "epoch_loss/batch_ct=0.061634697921810644\n",
      "tensor(0.1236, device='cuda:0', grad_fn=<SmoothL1LossBackward0>)\n"
     ]
    },
    {
     "name": "stderr",
     "output_type": "stream",
     "text": [
      "100%|██████████| 1250/1250 [00:02<00:00, 580.60it/s]\n",
      "  0%|          | 1/293 [00:00<00:37,  7.74it/s]"
     ]
    },
    {
     "name": "stdout",
     "output_type": "stream",
     "text": [
      "accuray: 0.2574\n"
     ]
    },
    {
     "name": "stderr",
     "output_type": "stream",
     "text": [
      "100%|██████████| 293/293 [00:32<00:00,  9.02it/s] \n",
      "  3%|▎         | 36/1250 [00:00<00:03, 345.84it/s]"
     ]
    },
    {
     "name": "stdout",
     "output_type": "stream",
     "text": [
      "epoch_loss/batch_ct=0.06159365820210604\n",
      "tensor(0.1221, device='cuda:0', grad_fn=<SmoothL1LossBackward0>)\n"
     ]
    },
    {
     "name": "stderr",
     "output_type": "stream",
     "text": [
      "100%|██████████| 1250/1250 [00:01<00:00, 626.00it/s]\n",
      "  0%|          | 1/293 [00:00<00:35,  8.26it/s]"
     ]
    },
    {
     "name": "stdout",
     "output_type": "stream",
     "text": [
      "accuray: 0.2619\n"
     ]
    },
    {
     "name": "stderr",
     "output_type": "stream",
     "text": [
      "100%|██████████| 293/293 [00:32<00:00,  8.97it/s] \n",
      "  4%|▎         | 45/1250 [00:00<00:02, 432.30it/s]"
     ]
    },
    {
     "name": "stdout",
     "output_type": "stream",
     "text": [
      "epoch_loss/batch_ct=0.06161895834855617\n",
      "tensor(0.1235, device='cuda:0', grad_fn=<SmoothL1LossBackward0>)\n"
     ]
    },
    {
     "name": "stderr",
     "output_type": "stream",
     "text": [
      "100%|██████████| 1250/1250 [00:02<00:00, 556.78it/s]\n",
      "  0%|          | 1/293 [00:00<00:37,  7.69it/s]"
     ]
    },
    {
     "name": "stdout",
     "output_type": "stream",
     "text": [
      "accuray: 0.2595\n"
     ]
    },
    {
     "name": "stderr",
     "output_type": "stream",
     "text": [
      "100%|██████████| 293/293 [00:32<00:00,  9.06it/s] \n",
      " 11%|█         | 136/1250 [00:00<00:01, 659.97it/s]"
     ]
    },
    {
     "name": "stdout",
     "output_type": "stream",
     "text": [
      "epoch_loss/batch_ct=0.06163224061980607\n",
      "tensor(0.1202, device='cuda:0', grad_fn=<SmoothL1LossBackward0>)\n"
     ]
    },
    {
     "name": "stderr",
     "output_type": "stream",
     "text": [
      "100%|██████████| 1250/1250 [00:02<00:00, 624.74it/s]\n",
      "  0%|          | 1/293 [00:00<00:35,  8.26it/s]"
     ]
    },
    {
     "name": "stdout",
     "output_type": "stream",
     "text": [
      "accuray: 0.2614\n"
     ]
    },
    {
     "name": "stderr",
     "output_type": "stream",
     "text": [
      "100%|██████████| 293/293 [00:32<00:00,  8.97it/s] \n",
      "  4%|▍         | 48/1250 [00:00<00:02, 479.56it/s]"
     ]
    },
    {
     "name": "stdout",
     "output_type": "stream",
     "text": [
      "epoch_loss/batch_ct=0.06168478699253192\n",
      "tensor(0.1218, device='cuda:0', grad_fn=<SmoothL1LossBackward0>)\n"
     ]
    },
    {
     "name": "stderr",
     "output_type": "stream",
     "text": [
      "100%|██████████| 1250/1250 [00:02<00:00, 562.55it/s]\n",
      "  0%|          | 1/293 [00:00<00:37,  7.74it/s]"
     ]
    },
    {
     "name": "stdout",
     "output_type": "stream",
     "text": [
      "accuray: 0.263\n"
     ]
    },
    {
     "name": "stderr",
     "output_type": "stream",
     "text": [
      "100%|██████████| 293/293 [00:32<00:00,  9.00it/s] \n",
      " 11%|█         | 134/1250 [00:00<00:01, 658.93it/s]"
     ]
    },
    {
     "name": "stdout",
     "output_type": "stream",
     "text": [
      "epoch_loss/batch_ct=0.06167603591604838\n",
      "tensor(0.1225, device='cuda:0', grad_fn=<SmoothL1LossBackward0>)\n"
     ]
    },
    {
     "name": "stderr",
     "output_type": "stream",
     "text": [
      "100%|██████████| 1250/1250 [00:02<00:00, 622.87it/s]\n",
      "  0%|          | 1/293 [00:00<00:34,  8.40it/s]"
     ]
    },
    {
     "name": "stdout",
     "output_type": "stream",
     "text": [
      "accuray: 0.2559\n"
     ]
    },
    {
     "name": "stderr",
     "output_type": "stream",
     "text": [
      "100%|██████████| 293/293 [00:32<00:00,  9.04it/s] \n",
      " 11%|█         | 134/1250 [00:00<00:01, 654.00it/s]"
     ]
    },
    {
     "name": "stdout",
     "output_type": "stream",
     "text": [
      "epoch_loss/batch_ct=0.06155295244285038\n",
      "tensor(0.1207, device='cuda:0', grad_fn=<SmoothL1LossBackward0>)\n"
     ]
    },
    {
     "name": "stderr",
     "output_type": "stream",
     "text": [
      "100%|██████████| 1250/1250 [00:02<00:00, 613.69it/s]\n",
      "  0%|          | 1/293 [00:00<00:34,  8.40it/s]"
     ]
    },
    {
     "name": "stdout",
     "output_type": "stream",
     "text": [
      "accuray: 0.2621\n"
     ]
    },
    {
     "name": "stderr",
     "output_type": "stream",
     "text": [
      "100%|██████████| 293/293 [00:32<00:00,  9.01it/s] \n",
      "  6%|▌         | 70/1250 [00:00<00:03, 344.81it/s]"
     ]
    },
    {
     "name": "stdout",
     "output_type": "stream",
     "text": [
      "epoch_loss/batch_ct=0.06147735078065168\n",
      "tensor(0.1211, device='cuda:0', grad_fn=<SmoothL1LossBackward0>)\n"
     ]
    },
    {
     "name": "stderr",
     "output_type": "stream",
     "text": [
      "100%|██████████| 1250/1250 [00:02<00:00, 566.38it/s]\n",
      "  0%|          | 1/293 [00:00<00:38,  7.63it/s]"
     ]
    },
    {
     "name": "stdout",
     "output_type": "stream",
     "text": [
      "accuray: 0.2549\n"
     ]
    },
    {
     "name": "stderr",
     "output_type": "stream",
     "text": [
      "100%|██████████| 293/293 [00:32<00:00,  9.01it/s] \n",
      "  3%|▎         | 38/1250 [00:00<00:03, 365.05it/s]"
     ]
    },
    {
     "name": "stdout",
     "output_type": "stream",
     "text": [
      "epoch_loss/batch_ct=0.06161986145057848\n",
      "tensor(0.1217, device='cuda:0', grad_fn=<SmoothL1LossBackward0>)\n"
     ]
    },
    {
     "name": "stderr",
     "output_type": "stream",
     "text": [
      "100%|██████████| 1250/1250 [00:02<00:00, 605.36it/s]\n",
      "  0%|          | 1/293 [00:00<00:35,  8.33it/s]"
     ]
    },
    {
     "name": "stdout",
     "output_type": "stream",
     "text": [
      "accuray: 0.2625\n"
     ]
    },
    {
     "name": "stderr",
     "output_type": "stream",
     "text": [
      "100%|██████████| 293/293 [00:32<00:00,  8.99it/s] \n",
      "  3%|▎         | 34/1250 [00:00<00:03, 323.52it/s]"
     ]
    },
    {
     "name": "stdout",
     "output_type": "stream",
     "text": [
      "epoch_loss/batch_ct=0.06159770327605425\n",
      "tensor(0.1204, device='cuda:0', grad_fn=<SmoothL1LossBackward0>)\n"
     ]
    },
    {
     "name": "stderr",
     "output_type": "stream",
     "text": [
      "100%|██████████| 1250/1250 [00:02<00:00, 607.42it/s]\n",
      "  0%|          | 1/293 [00:00<00:35,  8.12it/s]"
     ]
    },
    {
     "name": "stdout",
     "output_type": "stream",
     "text": [
      "accuray: 0.2579\n"
     ]
    },
    {
     "name": "stderr",
     "output_type": "stream",
     "text": [
      "100%|██████████| 293/293 [00:32<00:00,  8.94it/s] \n",
      "  5%|▌         | 68/1250 [00:00<00:01, 679.38it/s]"
     ]
    },
    {
     "name": "stdout",
     "output_type": "stream",
     "text": [
      "epoch_loss/batch_ct=0.06151057244648063\n",
      "tensor(0.1219, device='cuda:0', grad_fn=<SmoothL1LossBackward0>)\n"
     ]
    },
    {
     "name": "stderr",
     "output_type": "stream",
     "text": [
      "100%|██████████| 1250/1250 [00:02<00:00, 608.90it/s]\n",
      "  0%|          | 1/293 [00:00<00:37,  7.81it/s]"
     ]
    },
    {
     "name": "stdout",
     "output_type": "stream",
     "text": [
      "accuray: 0.2606\n"
     ]
    },
    {
     "name": "stderr",
     "output_type": "stream",
     "text": [
      "100%|██████████| 293/293 [00:32<00:00,  9.05it/s] \n",
      "  3%|▎         | 35/1250 [00:00<00:03, 342.83it/s]"
     ]
    },
    {
     "name": "stdout",
     "output_type": "stream",
     "text": [
      "epoch_loss/batch_ct=0.061540382204666025\n",
      "tensor(0.1211, device='cuda:0', grad_fn=<SmoothL1LossBackward0>)\n"
     ]
    },
    {
     "name": "stderr",
     "output_type": "stream",
     "text": [
      "100%|██████████| 1250/1250 [00:02<00:00, 608.31it/s]\n",
      "  0%|          | 1/293 [00:00<00:35,  8.19it/s]"
     ]
    },
    {
     "name": "stdout",
     "output_type": "stream",
     "text": [
      "accuray: 0.2619\n"
     ]
    },
    {
     "name": "stderr",
     "output_type": "stream",
     "text": [
      "100%|██████████| 293/293 [00:32<00:00,  9.05it/s] \n",
      "  4%|▎         | 44/1250 [00:00<00:02, 439.60it/s]"
     ]
    },
    {
     "name": "stdout",
     "output_type": "stream",
     "text": [
      "epoch_loss/batch_ct=0.061442105720440544\n",
      "tensor(0.1205, device='cuda:0', grad_fn=<SmoothL1LossBackward0>)\n"
     ]
    },
    {
     "name": "stderr",
     "output_type": "stream",
     "text": [
      "100%|██████████| 1250/1250 [00:02<00:00, 563.06it/s]\n",
      "  0%|          | 1/293 [00:00<00:37,  7.87it/s]"
     ]
    },
    {
     "name": "stdout",
     "output_type": "stream",
     "text": [
      "accuray: 0.2607\n"
     ]
    },
    {
     "name": "stderr",
     "output_type": "stream",
     "text": [
      "100%|██████████| 293/293 [00:32<00:00,  8.98it/s] \n",
      "  3%|▎         | 36/1250 [00:00<00:03, 345.84it/s]"
     ]
    },
    {
     "name": "stdout",
     "output_type": "stream",
     "text": [
      "epoch_loss/batch_ct=0.06155946927647742\n",
      "tensor(0.1206, device='cuda:0', grad_fn=<SmoothL1LossBackward0>)\n"
     ]
    },
    {
     "name": "stderr",
     "output_type": "stream",
     "text": [
      "100%|██████████| 1250/1250 [00:02<00:00, 624.74it/s]\n",
      "  0%|          | 1/293 [00:00<00:35,  8.19it/s]"
     ]
    },
    {
     "name": "stdout",
     "output_type": "stream",
     "text": [
      "accuray: 0.2646\n"
     ]
    },
    {
     "name": "stderr",
     "output_type": "stream",
     "text": [
      "100%|██████████| 293/293 [00:32<00:00,  9.09it/s] \n",
      "  5%|▌         | 67/1250 [00:00<00:01, 669.39it/s]"
     ]
    },
    {
     "name": "stdout",
     "output_type": "stream",
     "text": [
      "epoch_loss/batch_ct=0.06144287089802443\n",
      "tensor(0.1217, device='cuda:0', grad_fn=<SmoothL1LossBackward0>)\n"
     ]
    },
    {
     "name": "stderr",
     "output_type": "stream",
     "text": [
      "100%|██████████| 1250/1250 [00:01<00:00, 633.94it/s]\n",
      "  0%|          | 1/293 [00:00<00:35,  8.19it/s]"
     ]
    },
    {
     "name": "stdout",
     "output_type": "stream",
     "text": [
      "accuray: 0.2597\n"
     ]
    },
    {
     "name": "stderr",
     "output_type": "stream",
     "text": [
      "100%|██████████| 293/293 [00:32<00:00,  8.98it/s] \n",
      "  4%|▍         | 52/1250 [00:00<00:02, 504.40it/s]"
     ]
    },
    {
     "name": "stdout",
     "output_type": "stream",
     "text": [
      "epoch_loss/batch_ct=0.061446056198624394\n",
      "tensor(0.1201, device='cuda:0', grad_fn=<SmoothL1LossBackward0>)\n"
     ]
    },
    {
     "name": "stderr",
     "output_type": "stream",
     "text": [
      "100%|██████████| 1250/1250 [00:02<00:00, 573.40it/s]\n",
      "  0%|          | 1/293 [00:00<00:35,  8.12it/s]"
     ]
    },
    {
     "name": "stdout",
     "output_type": "stream",
     "text": [
      "accuray: 0.2596\n"
     ]
    },
    {
     "name": "stderr",
     "output_type": "stream",
     "text": [
      "100%|██████████| 293/293 [00:31<00:00,  9.30it/s] \n",
      "  7%|▋         | 87/1250 [00:00<00:02, 433.70it/s]"
     ]
    },
    {
     "name": "stdout",
     "output_type": "stream",
     "text": [
      "epoch_loss/batch_ct=0.06136809965033853\n",
      "tensor(0.1189, device='cuda:0', grad_fn=<SmoothL1LossBackward0>)\n"
     ]
    },
    {
     "name": "stderr",
     "output_type": "stream",
     "text": [
      "100%|██████████| 1250/1250 [00:02<00:00, 571.04it/s]\n",
      "  0%|          | 1/293 [00:00<00:37,  7.87it/s]"
     ]
    },
    {
     "name": "stdout",
     "output_type": "stream",
     "text": [
      "accuray: 0.2668\n"
     ]
    },
    {
     "name": "stderr",
     "output_type": "stream",
     "text": [
      "100%|██████████| 293/293 [00:32<00:00,  9.05it/s] \n",
      "  5%|▍         | 62/1250 [00:00<00:04, 296.30it/s]"
     ]
    },
    {
     "name": "stdout",
     "output_type": "stream",
     "text": [
      "epoch_loss/batch_ct=0.06145642719985474\n",
      "tensor(0.1205, device='cuda:0', grad_fn=<SmoothL1LossBackward0>)\n"
     ]
    },
    {
     "name": "stderr",
     "output_type": "stream",
     "text": [
      "100%|██████████| 1250/1250 [00:02<00:00, 607.13it/s]\n",
      "  0%|          | 1/293 [00:00<00:37,  7.74it/s]"
     ]
    },
    {
     "name": "stdout",
     "output_type": "stream",
     "text": [
      "accuray: 0.2618\n"
     ]
    },
    {
     "name": "stderr",
     "output_type": "stream",
     "text": [
      "100%|██████████| 293/293 [00:32<00:00,  9.01it/s] \n",
      " 11%|█         | 134/1250 [00:00<00:01, 658.93it/s]"
     ]
    },
    {
     "name": "stdout",
     "output_type": "stream",
     "text": [
      "epoch_loss/batch_ct=0.061398329346307685\n",
      "tensor(0.1199, device='cuda:0', grad_fn=<SmoothL1LossBackward0>)\n"
     ]
    },
    {
     "name": "stderr",
     "output_type": "stream",
     "text": [
      "100%|██████████| 1250/1250 [00:02<00:00, 603.90it/s]\n",
      "  0%|          | 1/293 [00:00<00:36,  7.93it/s]"
     ]
    },
    {
     "name": "stdout",
     "output_type": "stream",
     "text": [
      "accuray: 0.2622\n"
     ]
    },
    {
     "name": "stderr",
     "output_type": "stream",
     "text": [
      "100%|██████████| 293/293 [00:32<00:00,  8.91it/s] \n",
      "  3%|▎         | 43/1250 [00:00<00:02, 425.35it/s]"
     ]
    },
    {
     "name": "stdout",
     "output_type": "stream",
     "text": [
      "epoch_loss/batch_ct=0.061415028447906174\n",
      "tensor(0.1211, device='cuda:0', grad_fn=<SmoothL1LossBackward0>)\n"
     ]
    },
    {
     "name": "stderr",
     "output_type": "stream",
     "text": [
      "100%|██████████| 1250/1250 [00:02<00:00, 574.72it/s]\n",
      "  0%|          | 1/293 [00:00<00:37,  7.81it/s]"
     ]
    },
    {
     "name": "stdout",
     "output_type": "stream",
     "text": [
      "accuray: 0.2608\n"
     ]
    },
    {
     "name": "stderr",
     "output_type": "stream",
     "text": [
      "100%|██████████| 293/293 [00:32<00:00,  8.98it/s] \n",
      "  4%|▍         | 50/1250 [00:00<00:02, 494.60it/s]"
     ]
    },
    {
     "name": "stdout",
     "output_type": "stream",
     "text": [
      "epoch_loss/batch_ct=0.06142946786528069\n",
      "tensor(0.1210, device='cuda:0', grad_fn=<SmoothL1LossBackward0>)\n"
     ]
    },
    {
     "name": "stderr",
     "output_type": "stream",
     "text": [
      "100%|██████████| 1250/1250 [00:02<00:00, 573.66it/s]\n",
      "  0%|          | 1/293 [00:00<00:36,  7.99it/s]"
     ]
    },
    {
     "name": "stdout",
     "output_type": "stream",
     "text": [
      "accuray: 0.2573\n"
     ]
    },
    {
     "name": "stderr",
     "output_type": "stream",
     "text": [
      "100%|██████████| 293/293 [00:32<00:00,  9.02it/s] \n",
      "  3%|▎         | 37/1250 [00:00<00:03, 358.90it/s]"
     ]
    },
    {
     "name": "stdout",
     "output_type": "stream",
     "text": [
      "epoch_loss/batch_ct=0.06148228004929565\n",
      "tensor(0.1218, device='cuda:0', grad_fn=<SmoothL1LossBackward0>)\n"
     ]
    },
    {
     "name": "stderr",
     "output_type": "stream",
     "text": [
      "100%|██████████| 1250/1250 [00:02<00:00, 615.20it/s]\n",
      "  0%|          | 1/293 [00:00<00:37,  7.87it/s]"
     ]
    },
    {
     "name": "stdout",
     "output_type": "stream",
     "text": [
      "accuray: 0.2497\n"
     ]
    },
    {
     "name": "stderr",
     "output_type": "stream",
     "text": [
      "100%|██████████| 293/293 [00:32<00:00,  9.01it/s] \n",
      "  4%|▍         | 55/1250 [00:00<00:02, 549.50it/s]"
     ]
    },
    {
     "name": "stdout",
     "output_type": "stream",
     "text": [
      "epoch_loss/batch_ct=0.06145625845307395\n",
      "tensor(0.1239, device='cuda:0', grad_fn=<SmoothL1LossBackward0>)\n"
     ]
    },
    {
     "name": "stderr",
     "output_type": "stream",
     "text": [
      "100%|██████████| 1250/1250 [00:02<00:00, 565.10it/s]\n",
      "  0%|          | 1/293 [00:00<00:35,  8.19it/s]"
     ]
    },
    {
     "name": "stdout",
     "output_type": "stream",
     "text": [
      "accuray: 0.2593\n"
     ]
    },
    {
     "name": "stderr",
     "output_type": "stream",
     "text": [
      "100%|██████████| 293/293 [00:32<00:00,  8.93it/s] \n",
      "  4%|▍         | 52/1250 [00:00<00:04, 264.18it/s]"
     ]
    },
    {
     "name": "stdout",
     "output_type": "stream",
     "text": [
      "epoch_loss/batch_ct=0.06139012566575455\n",
      "tensor(0.1186, device='cuda:0', grad_fn=<SmoothL1LossBackward0>)\n"
     ]
    },
    {
     "name": "stderr",
     "output_type": "stream",
     "text": [
      "100%|██████████| 1250/1250 [00:02<00:00, 608.13it/s]\n",
      "  0%|          | 1/293 [00:00<00:35,  8.26it/s]"
     ]
    },
    {
     "name": "stdout",
     "output_type": "stream",
     "text": [
      "accuray: 0.2637\n"
     ]
    },
    {
     "name": "stderr",
     "output_type": "stream",
     "text": [
      "100%|██████████| 293/293 [00:32<00:00,  9.01it/s] \n",
      "  5%|▌         | 68/1250 [00:00<00:03, 319.05it/s]"
     ]
    },
    {
     "name": "stdout",
     "output_type": "stream",
     "text": [
      "epoch_loss/batch_ct=0.06134599977956405\n",
      "tensor(0.1230, device='cuda:0', grad_fn=<SmoothL1LossBackward0>)\n"
     ]
    },
    {
     "name": "stderr",
     "output_type": "stream",
     "text": [
      "100%|██████████| 1250/1250 [00:02<00:00, 619.78it/s]\n",
      "  0%|          | 1/293 [00:00<00:35,  8.26it/s]"
     ]
    },
    {
     "name": "stdout",
     "output_type": "stream",
     "text": [
      "accuray: 0.2555\n"
     ]
    },
    {
     "name": "stderr",
     "output_type": "stream",
     "text": [
      "100%|██████████| 293/293 [00:32<00:00,  9.01it/s] \n",
      "  4%|▎         | 46/1250 [00:00<00:02, 455.03it/s]"
     ]
    },
    {
     "name": "stdout",
     "output_type": "stream",
     "text": [
      "epoch_loss/batch_ct=0.06127189597972329\n",
      "tensor(0.1217, device='cuda:0', grad_fn=<SmoothL1LossBackward0>)\n"
     ]
    },
    {
     "name": "stderr",
     "output_type": "stream",
     "text": [
      "100%|██████████| 1250/1250 [00:02<00:00, 587.98it/s]\n",
      "  0%|          | 1/293 [00:00<00:36,  7.93it/s]"
     ]
    },
    {
     "name": "stdout",
     "output_type": "stream",
     "text": [
      "accuray: 0.2648\n"
     ]
    },
    {
     "name": "stderr",
     "output_type": "stream",
     "text": [
      "100%|██████████| 293/293 [00:32<00:00,  9.00it/s] \n",
      "  4%|▎         | 45/1250 [00:00<00:02, 449.59it/s]"
     ]
    },
    {
     "name": "stdout",
     "output_type": "stream",
     "text": [
      "epoch_loss/batch_ct=0.061305555337596504\n",
      "tensor(0.1202, device='cuda:0', grad_fn=<SmoothL1LossBackward0>)\n"
     ]
    },
    {
     "name": "stderr",
     "output_type": "stream",
     "text": [
      "100%|██████████| 1250/1250 [00:02<00:00, 546.79it/s]\n",
      "  0%|          | 1/293 [00:00<00:34,  8.47it/s]"
     ]
    },
    {
     "name": "stdout",
     "output_type": "stream",
     "text": [
      "accuray: 0.2601\n"
     ]
    },
    {
     "name": "stderr",
     "output_type": "stream",
     "text": [
      "100%|██████████| 293/293 [00:32<00:00,  9.07it/s] \n",
      "  3%|▎         | 39/1250 [00:00<00:03, 389.64it/s]"
     ]
    },
    {
     "name": "stdout",
     "output_type": "stream",
     "text": [
      "epoch_loss/batch_ct=0.06137564948331269\n",
      "tensor(0.1191, device='cuda:0', grad_fn=<SmoothL1LossBackward0>)\n"
     ]
    },
    {
     "name": "stderr",
     "output_type": "stream",
     "text": [
      "100%|██████████| 1250/1250 [00:02<00:00, 553.08it/s]\n",
      "  0%|          | 1/293 [00:00<00:37,  7.74it/s]"
     ]
    },
    {
     "name": "stdout",
     "output_type": "stream",
     "text": [
      "accuray: 0.2593\n"
     ]
    },
    {
     "name": "stderr",
     "output_type": "stream",
     "text": [
      "100%|██████████| 293/293 [00:32<00:00,  8.92it/s] \n",
      "  5%|▌         | 68/1250 [00:00<00:01, 679.38it/s]"
     ]
    },
    {
     "name": "stdout",
     "output_type": "stream",
     "text": [
      "epoch_loss/batch_ct=0.06148090735373516\n",
      "tensor(0.1205, device='cuda:0', grad_fn=<SmoothL1LossBackward0>)\n"
     ]
    },
    {
     "name": "stderr",
     "output_type": "stream",
     "text": [
      "100%|██████████| 1250/1250 [00:01<00:00, 648.09it/s]\n",
      "  0%|          | 1/293 [00:00<00:38,  7.63it/s]"
     ]
    },
    {
     "name": "stdout",
     "output_type": "stream",
     "text": [
      "accuray: 0.2566\n"
     ]
    },
    {
     "name": "stderr",
     "output_type": "stream",
     "text": [
      "100%|██████████| 293/293 [00:31<00:00,  9.27it/s] \n",
      "  9%|▉         | 116/1250 [00:00<00:02, 562.92it/s]"
     ]
    },
    {
     "name": "stdout",
     "output_type": "stream",
     "text": [
      "epoch_loss/batch_ct=0.06141215006983469\n",
      "tensor(0.1189, device='cuda:0', grad_fn=<SmoothL1LossBackward0>)\n"
     ]
    },
    {
     "name": "stderr",
     "output_type": "stream",
     "text": [
      "100%|██████████| 1250/1250 [00:02<00:00, 566.89it/s]\n",
      "  0%|          | 1/293 [00:00<00:36,  7.99it/s]"
     ]
    },
    {
     "name": "stdout",
     "output_type": "stream",
     "text": [
      "accuray: 0.2586\n"
     ]
    },
    {
     "name": "stderr",
     "output_type": "stream",
     "text": [
      "100%|██████████| 293/293 [00:31<00:00,  9.37it/s] \n",
      "  2%|▏         | 28/1250 [00:00<00:04, 279.74it/s]"
     ]
    },
    {
     "name": "stdout",
     "output_type": "stream",
     "text": [
      "epoch_loss/batch_ct=0.06140305458139333\n",
      "tensor(0.1208, device='cuda:0', grad_fn=<SmoothL1LossBackward0>)\n"
     ]
    },
    {
     "name": "stderr",
     "output_type": "stream",
     "text": [
      "100%|██████████| 1250/1250 [00:02<00:00, 615.51it/s]\n",
      "  0%|          | 1/293 [00:00<00:35,  8.12it/s]"
     ]
    },
    {
     "name": "stdout",
     "output_type": "stream",
     "text": [
      "accuray: 0.2612\n"
     ]
    },
    {
     "name": "stderr",
     "output_type": "stream",
     "text": [
      "100%|██████████| 293/293 [00:32<00:00,  9.08it/s] \n",
      "  2%|▏         | 27/1250 [00:00<00:04, 269.75it/s]"
     ]
    },
    {
     "name": "stdout",
     "output_type": "stream",
     "text": [
      "epoch_loss/batch_ct=0.0613966817923245\n",
      "tensor(0.1205, device='cuda:0', grad_fn=<SmoothL1LossBackward0>)\n"
     ]
    },
    {
     "name": "stderr",
     "output_type": "stream",
     "text": [
      "100%|██████████| 1250/1250 [00:02<00:00, 564.58it/s]\n",
      "  0%|          | 1/293 [00:00<00:37,  7.81it/s]"
     ]
    },
    {
     "name": "stdout",
     "output_type": "stream",
     "text": [
      "accuray: 0.259\n"
     ]
    },
    {
     "name": "stderr",
     "output_type": "stream",
     "text": [
      "100%|██████████| 293/293 [00:32<00:00,  8.99it/s]\n",
      "  3%|▎         | 36/1250 [00:00<00:03, 359.67it/s]"
     ]
    },
    {
     "name": "stdout",
     "output_type": "stream",
     "text": [
      "epoch_loss/batch_ct=0.06128868876054647\n",
      "tensor(0.1195, device='cuda:0', grad_fn=<SmoothL1LossBackward0>)\n"
     ]
    },
    {
     "name": "stderr",
     "output_type": "stream",
     "text": [
      "100%|██████████| 1250/1250 [00:02<00:00, 544.88it/s]\n",
      "  0%|          | 1/293 [00:00<00:36,  7.93it/s]"
     ]
    },
    {
     "name": "stdout",
     "output_type": "stream",
     "text": [
      "accuray: 0.2642\n"
     ]
    },
    {
     "name": "stderr",
     "output_type": "stream",
     "text": [
      "100%|██████████| 293/293 [00:32<00:00,  8.94it/s] \n",
      "  5%|▌         | 68/1250 [00:00<00:01, 679.38it/s]"
     ]
    },
    {
     "name": "stdout",
     "output_type": "stream",
     "text": [
      "epoch_loss/batch_ct=0.06126757656475381\n",
      "tensor(0.1208, device='cuda:0', grad_fn=<SmoothL1LossBackward0>)\n"
     ]
    },
    {
     "name": "stderr",
     "output_type": "stream",
     "text": [
      "100%|██████████| 1250/1250 [00:01<00:00, 655.57it/s]\n",
      "  0%|          | 1/293 [00:00<00:35,  8.26it/s]"
     ]
    },
    {
     "name": "stdout",
     "output_type": "stream",
     "text": [
      "accuray: 0.261\n"
     ]
    },
    {
     "name": "stderr",
     "output_type": "stream",
     "text": [
      "100%|██████████| 293/293 [00:32<00:00,  9.00it/s] \n",
      "  3%|▎         | 42/1250 [00:00<00:02, 419.62it/s]"
     ]
    },
    {
     "name": "stdout",
     "output_type": "stream",
     "text": [
      "epoch_loss/batch_ct=0.06128071646191298\n",
      "tensor(0.1195, device='cuda:0', grad_fn=<SmoothL1LossBackward0>)\n"
     ]
    },
    {
     "name": "stderr",
     "output_type": "stream",
     "text": [
      "100%|██████████| 1250/1250 [00:02<00:00, 560.28it/s]\n",
      "  0%|          | 1/293 [00:00<00:35,  8.12it/s]"
     ]
    },
    {
     "name": "stdout",
     "output_type": "stream",
     "text": [
      "accuray: 0.2589\n"
     ]
    },
    {
     "name": "stderr",
     "output_type": "stream",
     "text": [
      "100%|██████████| 293/293 [00:32<00:00,  8.98it/s] \n",
      "  4%|▎         | 46/1250 [00:00<00:02, 455.03it/s]"
     ]
    },
    {
     "name": "stdout",
     "output_type": "stream",
     "text": [
      "epoch_loss/batch_ct=0.061210767070334106\n",
      "tensor(0.1206, device='cuda:0', grad_fn=<SmoothL1LossBackward0>)\n"
     ]
    },
    {
     "name": "stderr",
     "output_type": "stream",
     "text": [
      "100%|██████████| 1250/1250 [00:02<00:00, 557.03it/s]\n",
      "  0%|          | 1/293 [00:00<00:37,  7.87it/s]"
     ]
    },
    {
     "name": "stdout",
     "output_type": "stream",
     "text": [
      "accuray: 0.2572\n"
     ]
    },
    {
     "name": "stderr",
     "output_type": "stream",
     "text": [
      "100%|██████████| 293/293 [00:33<00:00,  8.86it/s] \n",
      "  3%|▎         | 35/1250 [00:00<00:03, 333.03it/s]"
     ]
    },
    {
     "name": "stdout",
     "output_type": "stream",
     "text": [
      "epoch_loss/batch_ct=0.061281166941164034\n",
      "tensor(0.1225, device='cuda:0', grad_fn=<SmoothL1LossBackward0>)\n"
     ]
    },
    {
     "name": "stderr",
     "output_type": "stream",
     "text": [
      "100%|██████████| 1250/1250 [00:02<00:00, 555.79it/s]\n",
      "  0%|          | 1/293 [00:00<00:37,  7.87it/s]"
     ]
    },
    {
     "name": "stdout",
     "output_type": "stream",
     "text": [
      "accuray: 0.2613\n"
     ]
    },
    {
     "name": "stderr",
     "output_type": "stream",
     "text": [
      "100%|██████████| 293/293 [00:32<00:00,  8.89it/s] \n",
      "  3%|▎         | 43/1250 [00:00<00:02, 425.35it/s]"
     ]
    },
    {
     "name": "stdout",
     "output_type": "stream",
     "text": [
      "epoch_loss/batch_ct=0.061274330501282025\n",
      "tensor(0.1195, device='cuda:0', grad_fn=<SmoothL1LossBackward0>)\n"
     ]
    },
    {
     "name": "stderr",
     "output_type": "stream",
     "text": [
      "100%|██████████| 1250/1250 [00:02<00:00, 547.51it/s]\n",
      "  0%|          | 1/293 [00:00<00:37,  7.87it/s]"
     ]
    },
    {
     "name": "stdout",
     "output_type": "stream",
     "text": [
      "accuray: 0.2618\n"
     ]
    },
    {
     "name": "stderr",
     "output_type": "stream",
     "text": [
      "100%|██████████| 293/293 [00:32<00:00,  9.08it/s] \n",
      "  4%|▎         | 44/1250 [00:00<00:02, 439.60it/s]"
     ]
    },
    {
     "name": "stdout",
     "output_type": "stream",
     "text": [
      "epoch_loss/batch_ct=0.061311634907883314\n",
      "tensor(0.1204, device='cuda:0', grad_fn=<SmoothL1LossBackward0>)\n"
     ]
    },
    {
     "name": "stderr",
     "output_type": "stream",
     "text": [
      "100%|██████████| 1250/1250 [00:02<00:00, 565.86it/s]\n",
      "  0%|          | 1/293 [00:00<00:36,  7.93it/s]"
     ]
    },
    {
     "name": "stdout",
     "output_type": "stream",
     "text": [
      "accuray: 0.2609\n"
     ]
    },
    {
     "name": "stderr",
     "output_type": "stream",
     "text": [
      "100%|██████████| 293/293 [00:31<00:00,  9.20it/s] \n",
      "  4%|▍         | 48/1250 [00:00<00:02, 479.56it/s]"
     ]
    },
    {
     "name": "stdout",
     "output_type": "stream",
     "text": [
      "epoch_loss/batch_ct=0.06124895326201878\n",
      "tensor(0.1192, device='cuda:0', grad_fn=<SmoothL1LossBackward0>)\n"
     ]
    },
    {
     "name": "stderr",
     "output_type": "stream",
     "text": [
      "100%|██████████| 1250/1250 [00:02<00:00, 587.73it/s]\n",
      "  0%|          | 1/293 [00:00<00:40,  7.24it/s]"
     ]
    },
    {
     "name": "stdout",
     "output_type": "stream",
     "text": [
      "accuray: 0.2619\n"
     ]
    },
    {
     "name": "stderr",
     "output_type": "stream",
     "text": [
      "100%|██████████| 293/293 [00:31<00:00,  9.33it/s] \n",
      "  5%|▌         | 68/1250 [00:00<00:01, 672.65it/s]"
     ]
    },
    {
     "name": "stdout",
     "output_type": "stream",
     "text": [
      "epoch_loss/batch_ct=0.06124292794496767\n",
      "tensor(0.1201, device='cuda:0', grad_fn=<SmoothL1LossBackward0>)\n"
     ]
    },
    {
     "name": "stderr",
     "output_type": "stream",
     "text": [
      "100%|██████████| 1250/1250 [00:02<00:00, 618.86it/s]\n",
      "  0%|          | 1/293 [00:00<00:35,  8.12it/s]"
     ]
    },
    {
     "name": "stdout",
     "output_type": "stream",
     "text": [
      "accuray: 0.2628\n"
     ]
    },
    {
     "name": "stderr",
     "output_type": "stream",
     "text": [
      "100%|██████████| 293/293 [00:32<00:00,  8.90it/s] \n",
      "  4%|▎         | 45/1250 [00:00<00:02, 440.78it/s]"
     ]
    },
    {
     "name": "stdout",
     "output_type": "stream",
     "text": [
      "epoch_loss/batch_ct=0.06124534293831814\n",
      "tensor(0.1198, device='cuda:0', grad_fn=<SmoothL1LossBackward0>)\n"
     ]
    },
    {
     "name": "stderr",
     "output_type": "stream",
     "text": [
      "100%|██████████| 1250/1250 [00:02<00:00, 612.49it/s]\n",
      "  0%|          | 1/293 [00:00<00:35,  8.19it/s]"
     ]
    },
    {
     "name": "stdout",
     "output_type": "stream",
     "text": [
      "accuray: 0.26\n"
     ]
    },
    {
     "name": "stderr",
     "output_type": "stream",
     "text": [
      "100%|██████████| 293/293 [00:32<00:00,  8.95it/s] \n",
      "  4%|▎         | 45/1250 [00:00<00:02, 449.59it/s]"
     ]
    },
    {
     "name": "stdout",
     "output_type": "stream",
     "text": [
      "epoch_loss/batch_ct=0.061214862021780204\n",
      "tensor(0.1211, device='cuda:0', grad_fn=<SmoothL1LossBackward0>)\n"
     ]
    },
    {
     "name": "stderr",
     "output_type": "stream",
     "text": [
      "100%|██████████| 1250/1250 [00:02<00:00, 563.57it/s]\n",
      "  0%|          | 1/293 [00:00<00:37,  7.74it/s]"
     ]
    },
    {
     "name": "stdout",
     "output_type": "stream",
     "text": [
      "accuray: 0.2604\n"
     ]
    },
    {
     "name": "stderr",
     "output_type": "stream",
     "text": [
      "100%|██████████| 293/293 [00:32<00:00,  8.90it/s] \n",
      "  2%|▏         | 31/1250 [00:00<00:04, 297.81it/s]"
     ]
    },
    {
     "name": "stdout",
     "output_type": "stream",
     "text": [
      "epoch_loss/batch_ct=0.06113490058730046\n",
      "tensor(0.1197, device='cuda:0', grad_fn=<SmoothL1LossBackward0>)\n"
     ]
    },
    {
     "name": "stderr",
     "output_type": "stream",
     "text": [
      "100%|██████████| 1250/1250 [00:02<00:00, 613.69it/s]\n",
      "  0%|          | 1/293 [00:00<00:35,  8.19it/s]"
     ]
    },
    {
     "name": "stdout",
     "output_type": "stream",
     "text": [
      "accuray: 0.2625\n"
     ]
    },
    {
     "name": "stderr",
     "output_type": "stream",
     "text": [
      "100%|██████████| 293/293 [00:32<00:00,  8.98it/s] \n",
      "  5%|▌         | 66/1250 [00:00<00:01, 652.87it/s]"
     ]
    },
    {
     "name": "stdout",
     "output_type": "stream",
     "text": [
      "epoch_loss/batch_ct=0.06119210709122911\n",
      "tensor(0.1210, device='cuda:0', grad_fn=<SmoothL1LossBackward0>)\n"
     ]
    },
    {
     "name": "stderr",
     "output_type": "stream",
     "text": [
      "100%|██████████| 1250/1250 [00:02<00:00, 615.93it/s]\n",
      "  0%|          | 1/293 [00:00<00:34,  8.40it/s]"
     ]
    },
    {
     "name": "stdout",
     "output_type": "stream",
     "text": [
      "accuray: 0.2564\n"
     ]
    },
    {
     "name": "stderr",
     "output_type": "stream",
     "text": [
      "100%|██████████| 293/293 [00:32<00:00,  8.95it/s] \n",
      "  4%|▍         | 47/1250 [00:00<00:02, 469.57it/s]"
     ]
    },
    {
     "name": "stdout",
     "output_type": "stream",
     "text": [
      "epoch_loss/batch_ct=0.06121749927600225\n",
      "tensor(0.1201, device='cuda:0', grad_fn=<SmoothL1LossBackward0>)\n"
     ]
    },
    {
     "name": "stderr",
     "output_type": "stream",
     "text": [
      "100%|██████████| 1250/1250 [00:02<00:00, 572.87it/s]\n",
      "  0%|          | 1/293 [00:00<00:37,  7.74it/s]"
     ]
    },
    {
     "name": "stdout",
     "output_type": "stream",
     "text": [
      "accuray: 0.2635\n"
     ]
    },
    {
     "name": "stderr",
     "output_type": "stream",
     "text": [
      "100%|██████████| 293/293 [00:33<00:00,  8.87it/s] \n",
      "  9%|▉         | 116/1250 [00:00<00:01, 591.82it/s]"
     ]
    },
    {
     "name": "stdout",
     "output_type": "stream",
     "text": [
      "epoch_loss/batch_ct=0.06120085833032453\n",
      "tensor(0.1205, device='cuda:0', grad_fn=<SmoothL1LossBackward0>)\n"
     ]
    },
    {
     "name": "stderr",
     "output_type": "stream",
     "text": [
      "100%|██████████| 1250/1250 [00:01<00:00, 643.41it/s]\n",
      "  0%|          | 1/293 [00:00<00:33,  8.61it/s]"
     ]
    },
    {
     "name": "stdout",
     "output_type": "stream",
     "text": [
      "accuray: 0.2633\n"
     ]
    },
    {
     "name": "stderr",
     "output_type": "stream",
     "text": [
      "100%|██████████| 293/293 [00:32<00:00,  9.08it/s] \n",
      "  3%|▎         | 42/1250 [00:00<00:02, 407.40it/s]"
     ]
    },
    {
     "name": "stdout",
     "output_type": "stream",
     "text": [
      "epoch_loss/batch_ct=0.06116365122475794\n",
      "tensor(0.1201, device='cuda:0', grad_fn=<SmoothL1LossBackward0>)\n"
     ]
    },
    {
     "name": "stderr",
     "output_type": "stream",
     "text": [
      "100%|██████████| 1250/1250 [00:02<00:00, 614.60it/s]\n",
      "  0%|          | 1/293 [00:00<00:36,  8.06it/s]"
     ]
    },
    {
     "name": "stdout",
     "output_type": "stream",
     "text": [
      "accuray: 0.2608\n"
     ]
    },
    {
     "name": "stderr",
     "output_type": "stream",
     "text": [
      "100%|██████████| 293/293 [00:31<00:00,  9.31it/s] \n",
      "  3%|▎         | 43/1250 [00:00<00:02, 425.36it/s]"
     ]
    },
    {
     "name": "stdout",
     "output_type": "stream",
     "text": [
      "epoch_loss/batch_ct=0.06117193399381543\n",
      "tensor(0.1192, device='cuda:0', grad_fn=<SmoothL1LossBackward0>)\n"
     ]
    },
    {
     "name": "stderr",
     "output_type": "stream",
     "text": [
      "100%|██████████| 1250/1250 [00:02<00:00, 571.82it/s]\n",
      "  0%|          | 1/293 [00:00<00:36,  7.99it/s]"
     ]
    },
    {
     "name": "stdout",
     "output_type": "stream",
     "text": [
      "accuray: 0.2559\n"
     ]
    },
    {
     "name": "stderr",
     "output_type": "stream",
     "text": [
      "100%|██████████| 293/293 [00:32<00:00,  9.05it/s] \n",
      "  3%|▎         | 34/1250 [00:00<00:03, 323.51it/s]"
     ]
    },
    {
     "name": "stdout",
     "output_type": "stream",
     "text": [
      "epoch_loss/batch_ct=0.06124350730152357\n",
      "tensor(0.1205, device='cuda:0', grad_fn=<SmoothL1LossBackward0>)\n"
     ]
    },
    {
     "name": "stderr",
     "output_type": "stream",
     "text": [
      "100%|██████████| 1250/1250 [00:02<00:00, 560.53it/s]\n",
      "  0%|          | 1/293 [00:00<00:36,  7.93it/s]"
     ]
    },
    {
     "name": "stdout",
     "output_type": "stream",
     "text": [
      "accuray: 0.2603\n"
     ]
    },
    {
     "name": "stderr",
     "output_type": "stream",
     "text": [
      "100%|██████████| 293/293 [00:32<00:00,  8.94it/s]\n",
      "  7%|▋         | 86/1250 [00:00<00:02, 431.37it/s]"
     ]
    },
    {
     "name": "stdout",
     "output_type": "stream",
     "text": [
      "epoch_loss/batch_ct=0.0611304132090438\n",
      "tensor(0.1207, device='cuda:0', grad_fn=<SmoothL1LossBackward0>)\n"
     ]
    },
    {
     "name": "stderr",
     "output_type": "stream",
     "text": [
      "100%|██████████| 1250/1250 [00:02<00:00, 567.92it/s]\n",
      "  0%|          | 1/293 [00:00<00:36,  8.06it/s]"
     ]
    },
    {
     "name": "stdout",
     "output_type": "stream",
     "text": [
      "accuray: 0.2609\n"
     ]
    },
    {
     "name": "stderr",
     "output_type": "stream",
     "text": [
      "100%|██████████| 293/293 [00:32<00:00,  9.03it/s] \n",
      "  5%|▌         | 66/1250 [00:00<00:03, 333.03it/s]"
     ]
    },
    {
     "name": "stdout",
     "output_type": "stream",
     "text": [
      "epoch_loss/batch_ct=0.061262088946052014\n",
      "tensor(0.1220, device='cuda:0', grad_fn=<SmoothL1LossBackward0>)\n"
     ]
    },
    {
     "name": "stderr",
     "output_type": "stream",
     "text": [
      "100%|██████████| 1250/1250 [00:02<00:00, 559.03it/s]\n",
      "  0%|          | 1/293 [00:00<00:36,  8.06it/s]"
     ]
    },
    {
     "name": "stdout",
     "output_type": "stream",
     "text": [
      "accuray: 0.2572\n"
     ]
    },
    {
     "name": "stderr",
     "output_type": "stream",
     "text": [
      "100%|██████████| 293/293 [00:32<00:00,  9.01it/s] \n",
      "  3%|▎         | 40/1250 [00:00<00:03, 399.64it/s]"
     ]
    },
    {
     "name": "stdout",
     "output_type": "stream",
     "text": [
      "epoch_loss/batch_ct=0.061108847340894126\n",
      "tensor(0.1196, device='cuda:0', grad_fn=<SmoothL1LossBackward0>)\n"
     ]
    },
    {
     "name": "stderr",
     "output_type": "stream",
     "text": [
      "100%|██████████| 1250/1250 [00:02<00:00, 550.16it/s]\n",
      "  0%|          | 1/293 [00:00<00:37,  7.81it/s]"
     ]
    },
    {
     "name": "stdout",
     "output_type": "stream",
     "text": [
      "accuray: 0.261\n"
     ]
    },
    {
     "name": "stderr",
     "output_type": "stream",
     "text": [
      "100%|██████████| 293/293 [00:32<00:00,  8.98it/s] \n",
      "  3%|▎         | 41/1250 [00:00<00:02, 409.63it/s]"
     ]
    },
    {
     "name": "stdout",
     "output_type": "stream",
     "text": [
      "epoch_loss/batch_ct=0.06119220678709329\n",
      "tensor(0.1168, device='cuda:0', grad_fn=<SmoothL1LossBackward0>)\n"
     ]
    },
    {
     "name": "stderr",
     "output_type": "stream",
     "text": [
      "100%|██████████| 1250/1250 [00:02<00:00, 541.81it/s]\n",
      "  0%|          | 1/293 [00:00<00:36,  8.06it/s]"
     ]
    },
    {
     "name": "stdout",
     "output_type": "stream",
     "text": [
      "accuray: 0.2598\n"
     ]
    },
    {
     "name": "stderr",
     "output_type": "stream",
     "text": [
      "100%|██████████| 293/293 [00:31<00:00,  9.38it/s] \n",
      "  7%|▋         | 90/1250 [00:00<00:02, 451.35it/s]"
     ]
    },
    {
     "name": "stdout",
     "output_type": "stream",
     "text": [
      "epoch_loss/batch_ct=0.06117197408503483\n",
      "tensor(0.1198, device='cuda:0', grad_fn=<SmoothL1LossBackward0>)\n"
     ]
    },
    {
     "name": "stderr",
     "output_type": "stream",
     "text": [
      "100%|██████████| 1250/1250 [00:02<00:00, 571.30it/s]\n",
      "  0%|          | 1/293 [00:00<00:39,  7.46it/s]"
     ]
    },
    {
     "name": "stdout",
     "output_type": "stream",
     "text": [
      "accuray: 0.2641\n"
     ]
    },
    {
     "name": "stderr",
     "output_type": "stream",
     "text": [
      "100%|██████████| 293/293 [00:31<00:00,  9.31it/s] \n",
      "  7%|▋         | 90/1250 [00:00<00:02, 434.27it/s]"
     ]
    },
    {
     "name": "stdout",
     "output_type": "stream",
     "text": [
      "epoch_loss/batch_ct=0.06120477625656696\n",
      "tensor(0.1194, device='cuda:0', grad_fn=<SmoothL1LossBackward0>)\n"
     ]
    },
    {
     "name": "stderr",
     "output_type": "stream",
     "text": [
      "100%|██████████| 1250/1250 [00:02<00:00, 560.53it/s]\n",
      "  0%|          | 1/293 [00:00<00:38,  7.51it/s]"
     ]
    },
    {
     "name": "stdout",
     "output_type": "stream",
     "text": [
      "accuray: 0.2565\n"
     ]
    },
    {
     "name": "stderr",
     "output_type": "stream",
     "text": [
      "100%|██████████| 293/293 [00:32<00:00,  8.96it/s] \n",
      "  3%|▎         | 41/1250 [00:00<00:03, 401.59it/s]"
     ]
    },
    {
     "name": "stdout",
     "output_type": "stream",
     "text": [
      "epoch_loss/batch_ct=0.061142267984530284\n",
      "tensor(0.1186, device='cuda:0', grad_fn=<SmoothL1LossBackward0>)\n"
     ]
    },
    {
     "name": "stderr",
     "output_type": "stream",
     "text": [
      "100%|██████████| 1250/1250 [00:02<00:00, 562.30it/s]\n",
      "  0%|          | 1/293 [00:00<00:37,  7.81it/s]"
     ]
    },
    {
     "name": "stdout",
     "output_type": "stream",
     "text": [
      "accuray: 0.2597\n"
     ]
    },
    {
     "name": "stderr",
     "output_type": "stream",
     "text": [
      "100%|██████████| 293/293 [00:32<00:00,  9.06it/s] \n",
      " 11%|█         | 134/1250 [00:00<00:01, 657.78it/s]"
     ]
    },
    {
     "name": "stdout",
     "output_type": "stream",
     "text": [
      "epoch_loss/batch_ct=0.06113027021407135\n",
      "tensor(0.1210, device='cuda:0', grad_fn=<SmoothL1LossBackward0>)\n"
     ]
    },
    {
     "name": "stderr",
     "output_type": "stream",
     "text": [
      "100%|██████████| 1250/1250 [00:01<00:00, 626.63it/s]\n",
      "  0%|          | 1/293 [00:00<00:35,  8.19it/s]"
     ]
    },
    {
     "name": "stdout",
     "output_type": "stream",
     "text": [
      "accuray: 0.2576\n"
     ]
    },
    {
     "name": "stderr",
     "output_type": "stream",
     "text": [
      "100%|██████████| 293/293 [00:32<00:00,  9.02it/s] \n",
      "  4%|▍         | 49/1250 [00:00<00:02, 489.56it/s]"
     ]
    },
    {
     "name": "stdout",
     "output_type": "stream",
     "text": [
      "epoch_loss/batch_ct=0.0611915263302979\n",
      "tensor(0.1197, device='cuda:0', grad_fn=<SmoothL1LossBackward0>)\n"
     ]
    },
    {
     "name": "stderr",
     "output_type": "stream",
     "text": [
      "100%|██████████| 1250/1250 [00:02<00:00, 557.53it/s]\n",
      "  0%|          | 1/293 [00:00<00:36,  8.06it/s]"
     ]
    },
    {
     "name": "stdout",
     "output_type": "stream",
     "text": [
      "accuray: 0.2624\n"
     ]
    },
    {
     "name": "stderr",
     "output_type": "stream",
     "text": [
      "100%|██████████| 293/293 [00:32<00:00,  9.03it/s] \n",
      "  3%|▎         | 33/1250 [00:00<00:03, 329.70it/s]"
     ]
    },
    {
     "name": "stdout",
     "output_type": "stream",
     "text": [
      "epoch_loss/batch_ct=0.06120882149312704\n",
      "tensor(0.1219, device='cuda:0', grad_fn=<SmoothL1LossBackward0>)\n"
     ]
    },
    {
     "name": "stderr",
     "output_type": "stream",
     "text": [
      "100%|██████████| 1250/1250 [00:02<00:00, 610.69it/s]\n",
      "  0%|          | 1/293 [00:00<00:35,  8.26it/s]"
     ]
    },
    {
     "name": "stdout",
     "output_type": "stream",
     "text": [
      "accuray: 0.2666\n"
     ]
    },
    {
     "name": "stderr",
     "output_type": "stream",
     "text": [
      "100%|██████████| 293/293 [00:32<00:00,  8.93it/s] \n",
      "  3%|▎         | 33/1250 [00:00<00:03, 320.10it/s]"
     ]
    },
    {
     "name": "stdout",
     "output_type": "stream",
     "text": [
      "epoch_loss/batch_ct=0.06111972629728298\n",
      "tensor(0.1186, device='cuda:0', grad_fn=<SmoothL1LossBackward0>)\n"
     ]
    },
    {
     "name": "stderr",
     "output_type": "stream",
     "text": [
      "100%|██████████| 1250/1250 [00:02<00:00, 617.03it/s]\n",
      "  0%|          | 0/293 [00:00<?, ?it/s]"
     ]
    },
    {
     "name": "stdout",
     "output_type": "stream",
     "text": [
      "accuray: 0.2625\n"
     ]
    },
    {
     "name": "stderr",
     "output_type": "stream",
     "text": [
      "100%|██████████| 293/293 [00:32<00:00,  9.02it/s] \n",
      "  6%|▌         | 69/1250 [00:00<00:03, 331.90it/s]"
     ]
    },
    {
     "name": "stdout",
     "output_type": "stream",
     "text": [
      "epoch_loss/batch_ct=0.061049254552002934\n",
      "tensor(0.1200, device='cuda:0', grad_fn=<SmoothL1LossBackward0>)\n"
     ]
    },
    {
     "name": "stderr",
     "output_type": "stream",
     "text": [
      "100%|██████████| 1250/1250 [00:02<00:00, 607.42it/s]\n",
      "  0%|          | 1/293 [00:00<00:35,  8.19it/s]"
     ]
    },
    {
     "name": "stdout",
     "output_type": "stream",
     "text": [
      "accuray: 0.2636\n"
     ]
    },
    {
     "name": "stderr",
     "output_type": "stream",
     "text": [
      "100%|██████████| 293/293 [00:31<00:00,  9.26it/s] \n",
      "  4%|▍         | 50/1250 [00:00<00:02, 499.55it/s]"
     ]
    },
    {
     "name": "stdout",
     "output_type": "stream",
     "text": [
      "epoch_loss/batch_ct=0.06117538871273162\n",
      "tensor(0.1213, device='cuda:0', grad_fn=<SmoothL1LossBackward0>)\n"
     ]
    },
    {
     "name": "stderr",
     "output_type": "stream",
     "text": [
      "100%|██████████| 1250/1250 [00:02<00:00, 560.03it/s]\n",
      "  0%|          | 1/293 [00:00<00:37,  7.81it/s]"
     ]
    },
    {
     "name": "stdout",
     "output_type": "stream",
     "text": [
      "accuray: 0.2599\n"
     ]
    },
    {
     "name": "stderr",
     "output_type": "stream",
     "text": [
      "100%|██████████| 293/293 [00:31<00:00,  9.34it/s] \n",
      "  8%|▊         | 97/1250 [00:00<00:02, 489.61it/s]"
     ]
    },
    {
     "name": "stdout",
     "output_type": "stream",
     "text": [
      "epoch_loss/batch_ct=0.06110781218324389\n",
      "tensor(0.1203, device='cuda:0', grad_fn=<SmoothL1LossBackward0>)\n"
     ]
    },
    {
     "name": "stderr",
     "output_type": "stream",
     "text": [
      "100%|██████████| 1250/1250 [00:02<00:00, 586.87it/s]\n",
      "  0%|          | 0/293 [00:00<?, ?it/s]"
     ]
    },
    {
     "name": "stdout",
     "output_type": "stream",
     "text": [
      "accuray: 0.2645\n"
     ]
    },
    {
     "name": "stderr",
     "output_type": "stream",
     "text": [
      "100%|██████████| 293/293 [00:32<00:00,  8.99it/s] \n",
      "  4%|▎         | 44/1250 [00:00<00:02, 435.25it/s]"
     ]
    },
    {
     "name": "stdout",
     "output_type": "stream",
     "text": [
      "epoch_loss/batch_ct=0.06109309712395308\n",
      "tensor(0.1185, device='cuda:0', grad_fn=<SmoothL1LossBackward0>)\n"
     ]
    },
    {
     "name": "stderr",
     "output_type": "stream",
     "text": [
      "100%|██████████| 1250/1250 [00:02<00:00, 579.25it/s]\n",
      "  0%|          | 1/293 [00:00<00:35,  8.26it/s]"
     ]
    },
    {
     "name": "stdout",
     "output_type": "stream",
     "text": [
      "accuray: 0.2665\n"
     ]
    },
    {
     "name": "stderr",
     "output_type": "stream",
     "text": [
      "100%|██████████| 293/293 [00:32<00:00,  9.13it/s] \n",
      "  4%|▍         | 47/1250 [00:00<00:02, 464.93it/s]"
     ]
    },
    {
     "name": "stdout",
     "output_type": "stream",
     "text": [
      "epoch_loss/batch_ct=0.061064994391349575\n",
      "tensor(0.1196, device='cuda:0', grad_fn=<SmoothL1LossBackward0>)\n"
     ]
    },
    {
     "name": "stderr",
     "output_type": "stream",
     "text": [
      "100%|██████████| 1250/1250 [00:02<00:00, 574.98it/s]\n",
      "  0%|          | 1/293 [00:00<00:36,  8.06it/s]"
     ]
    },
    {
     "name": "stdout",
     "output_type": "stream",
     "text": [
      "accuray: 0.2638\n"
     ]
    },
    {
     "name": "stderr",
     "output_type": "stream",
     "text": [
      "100%|██████████| 293/293 [00:32<00:00,  9.05it/s] \n",
      "  3%|▎         | 41/1250 [00:00<00:03, 390.12it/s]"
     ]
    },
    {
     "name": "stdout",
     "output_type": "stream",
     "text": [
      "epoch_loss/batch_ct=0.061065475382502114\n",
      "tensor(0.1197, device='cuda:0', grad_fn=<SmoothL1LossBackward0>)\n"
     ]
    },
    {
     "name": "stderr",
     "output_type": "stream",
     "text": [
      "100%|██████████| 1250/1250 [00:02<00:00, 567.15it/s]\n",
      "  0%|          | 1/293 [00:00<00:35,  8.19it/s]"
     ]
    },
    {
     "name": "stdout",
     "output_type": "stream",
     "text": [
      "accuray: 0.2625\n"
     ]
    },
    {
     "name": "stderr",
     "output_type": "stream",
     "text": [
      "100%|██████████| 293/293 [00:31<00:00,  9.41it/s] \n",
      "  3%|▎         | 42/1250 [00:00<00:02, 419.62it/s]"
     ]
    },
    {
     "name": "stdout",
     "output_type": "stream",
     "text": [
      "epoch_loss/batch_ct=0.06107609893476206\n",
      "tensor(0.1177, device='cuda:0', grad_fn=<SmoothL1LossBackward0>)\n"
     ]
    },
    {
     "name": "stderr",
     "output_type": "stream",
     "text": [
      "100%|██████████| 1250/1250 [00:02<00:00, 580.06it/s]\n",
      "  0%|          | 1/293 [00:00<00:35,  8.19it/s]"
     ]
    },
    {
     "name": "stdout",
     "output_type": "stream",
     "text": [
      "accuray: 0.2678\n"
     ]
    },
    {
     "name": "stderr",
     "output_type": "stream",
     "text": [
      "100%|██████████| 293/293 [00:32<00:00,  9.04it/s] \n",
      "  3%|▎         | 43/1250 [00:00<00:02, 417.10it/s]"
     ]
    },
    {
     "name": "stdout",
     "output_type": "stream",
     "text": [
      "epoch_loss/batch_ct=0.06108937595808317\n",
      "tensor(0.1193, device='cuda:0', grad_fn=<SmoothL1LossBackward0>)\n"
     ]
    },
    {
     "name": "stderr",
     "output_type": "stream",
     "text": [
      "100%|██████████| 1250/1250 [00:02<00:00, 580.33it/s]\n",
      "  0%|          | 1/293 [00:00<00:36,  8.06it/s]"
     ]
    },
    {
     "name": "stdout",
     "output_type": "stream",
     "text": [
      "accuray: 0.2618\n"
     ]
    },
    {
     "name": "stderr",
     "output_type": "stream",
     "text": [
      "100%|██████████| 293/293 [00:32<00:00,  9.13it/s] \n",
      "  9%|▊         | 109/1250 [00:00<00:02, 545.38it/s]"
     ]
    },
    {
     "name": "stdout",
     "output_type": "stream",
     "text": [
      "epoch_loss/batch_ct=0.06115178179941953\n",
      "tensor(0.1206, device='cuda:0', grad_fn=<SmoothL1LossBackward0>)\n"
     ]
    },
    {
     "name": "stderr",
     "output_type": "stream",
     "text": [
      "100%|██████████| 1250/1250 [00:02<00:00, 593.57it/s]\n",
      "  0%|          | 1/293 [00:00<00:35,  8.33it/s]"
     ]
    },
    {
     "name": "stdout",
     "output_type": "stream",
     "text": [
      "accuray: 0.2626\n"
     ]
    },
    {
     "name": "stderr",
     "output_type": "stream",
     "text": [
      "100%|██████████| 293/293 [00:31<00:00,  9.37it/s] \n",
      "  8%|▊         | 94/1250 [00:00<00:02, 464.92it/s]"
     ]
    },
    {
     "name": "stdout",
     "output_type": "stream",
     "text": [
      "epoch_loss/batch_ct=0.061104561231793864\n",
      "tensor(0.1182, device='cuda:0', grad_fn=<SmoothL1LossBackward0>)\n"
     ]
    },
    {
     "name": "stderr",
     "output_type": "stream",
     "text": [
      "100%|██████████| 1250/1250 [00:02<00:00, 583.58it/s]\n",
      "  0%|          | 1/293 [00:00<00:38,  7.63it/s]"
     ]
    },
    {
     "name": "stdout",
     "output_type": "stream",
     "text": [
      "accuray: 0.2634\n"
     ]
    },
    {
     "name": "stderr",
     "output_type": "stream",
     "text": [
      "100%|██████████| 293/293 [00:31<00:00,  9.31it/s]\n",
      "  6%|▌         | 69/1250 [00:00<00:01, 682.55it/s]"
     ]
    },
    {
     "name": "stdout",
     "output_type": "stream",
     "text": [
      "epoch_loss/batch_ct=0.06105895650883516\n",
      "tensor(0.1201, device='cuda:0', grad_fn=<SmoothL1LossBackward0>)\n"
     ]
    },
    {
     "name": "stderr",
     "output_type": "stream",
     "text": [
      "100%|██████████| 1250/1250 [00:01<00:00, 628.20it/s]\n",
      "  0%|          | 1/293 [00:00<00:34,  8.47it/s]"
     ]
    },
    {
     "name": "stdout",
     "output_type": "stream",
     "text": [
      "accuray: 0.261\n"
     ]
    },
    {
     "name": "stderr",
     "output_type": "stream",
     "text": [
      "100%|██████████| 293/293 [00:32<00:00,  9.02it/s] \n",
      " 11%|█         | 137/1250 [00:00<00:01, 685.26it/s]"
     ]
    },
    {
     "name": "stdout",
     "output_type": "stream",
     "text": [
      "epoch_loss/batch_ct=0.061061777514479464\n",
      "tensor(0.1198, device='cuda:0', grad_fn=<SmoothL1LossBackward0>)\n"
     ]
    },
    {
     "name": "stderr",
     "output_type": "stream",
     "text": [
      "100%|██████████| 1250/1250 [00:01<00:00, 648.42it/s]\n",
      "  0%|          | 1/293 [00:00<00:34,  8.47it/s]"
     ]
    },
    {
     "name": "stdout",
     "output_type": "stream",
     "text": [
      "accuray: 0.263\n"
     ]
    },
    {
     "name": "stderr",
     "output_type": "stream",
     "text": [
      "100%|██████████| 293/293 [00:32<00:00,  8.99it/s] \n",
      "  8%|▊         | 106/1250 [00:00<00:02, 529.93it/s]"
     ]
    },
    {
     "name": "stdout",
     "output_type": "stream",
     "text": [
      "epoch_loss/batch_ct=0.061024873325275994\n",
      "tensor(0.1179, device='cuda:0', grad_fn=<SmoothL1LossBackward0>)\n"
     ]
    },
    {
     "name": "stderr",
     "output_type": "stream",
     "text": [
      "100%|██████████| 1250/1250 [00:02<00:00, 593.28it/s]\n",
      "  0%|          | 1/293 [00:00<00:35,  8.33it/s]"
     ]
    },
    {
     "name": "stdout",
     "output_type": "stream",
     "text": [
      "accuray: 0.2567\n"
     ]
    },
    {
     "name": "stderr",
     "output_type": "stream",
     "text": [
      "100%|██████████| 293/293 [00:32<00:00,  8.98it/s] \n",
      " 11%|█         | 140/1250 [00:00<00:01, 676.68it/s]"
     ]
    },
    {
     "name": "stdout",
     "output_type": "stream",
     "text": [
      "epoch_loss/batch_ct=0.06112307715155776\n",
      "tensor(0.1208, device='cuda:0', grad_fn=<SmoothL1LossBackward0>)\n"
     ]
    },
    {
     "name": "stderr",
     "output_type": "stream",
     "text": [
      "100%|██████████| 1250/1250 [00:01<00:00, 661.82it/s]\n",
      "  0%|          | 1/293 [00:00<00:34,  8.47it/s]"
     ]
    },
    {
     "name": "stdout",
     "output_type": "stream",
     "text": [
      "accuray: 0.263\n"
     ]
    },
    {
     "name": "stderr",
     "output_type": "stream",
     "text": [
      "100%|██████████| 293/293 [00:31<00:00,  9.36it/s] \n",
      "  4%|▍         | 50/1250 [00:00<00:02, 499.55it/s]"
     ]
    },
    {
     "name": "stdout",
     "output_type": "stream",
     "text": [
      "epoch_loss/batch_ct=0.06101845671969747\n",
      "tensor(0.1223, device='cuda:0', grad_fn=<SmoothL1LossBackward0>)\n"
     ]
    },
    {
     "name": "stderr",
     "output_type": "stream",
     "text": [
      "100%|██████████| 1250/1250 [00:02<00:00, 589.36it/s]\n",
      "  0%|          | 1/293 [00:00<00:39,  7.46it/s]"
     ]
    },
    {
     "name": "stdout",
     "output_type": "stream",
     "text": [
      "accuray: 0.2641\n"
     ]
    },
    {
     "name": "stderr",
     "output_type": "stream",
     "text": [
      "100%|██████████| 293/293 [00:30<00:00,  9.54it/s] \n",
      "  3%|▎         | 39/1250 [00:00<00:03, 389.64it/s]"
     ]
    },
    {
     "name": "stdout",
     "output_type": "stream",
     "text": [
      "epoch_loss/batch_ct=0.06108614725489465\n",
      "tensor(0.1194, device='cuda:0', grad_fn=<SmoothL1LossBackward0>)\n"
     ]
    },
    {
     "name": "stderr",
     "output_type": "stream",
     "text": [
      "100%|██████████| 1250/1250 [00:02<00:00, 574.19it/s]\n",
      "  0%|          | 1/293 [00:00<00:36,  8.06it/s]"
     ]
    },
    {
     "name": "stdout",
     "output_type": "stream",
     "text": [
      "accuray: 0.2619\n"
     ]
    },
    {
     "name": "stderr",
     "output_type": "stream",
     "text": [
      "100%|██████████| 293/293 [00:32<00:00,  9.10it/s] \n",
      "  8%|▊         | 100/1250 [00:00<00:02, 491.74it/s]"
     ]
    },
    {
     "name": "stdout",
     "output_type": "stream",
     "text": [
      "epoch_loss/batch_ct=0.06103939639907035\n",
      "tensor(0.1204, device='cuda:0', grad_fn=<SmoothL1LossBackward0>)\n"
     ]
    },
    {
     "name": "stderr",
     "output_type": "stream",
     "text": [
      "100%|██████████| 1250/1250 [00:02<00:00, 584.95it/s]\n",
      "  0%|          | 1/293 [00:00<00:36,  8.06it/s]"
     ]
    },
    {
     "name": "stdout",
     "output_type": "stream",
     "text": [
      "accuray: 0.2579\n"
     ]
    },
    {
     "name": "stderr",
     "output_type": "stream",
     "text": [
      "100%|██████████| 293/293 [00:32<00:00,  9.07it/s] \n",
      " 10%|▉         | 123/1250 [00:00<00:01, 615.33it/s]"
     ]
    },
    {
     "name": "stdout",
     "output_type": "stream",
     "text": [
      "epoch_loss/batch_ct=0.061132887319203404\n",
      "tensor(0.1205, device='cuda:0', grad_fn=<SmoothL1LossBackward0>)\n"
     ]
    },
    {
     "name": "stderr",
     "output_type": "stream",
     "text": [
      "100%|██████████| 1250/1250 [00:02<00:00, 613.69it/s]\n",
      "  0%|          | 1/293 [00:00<00:35,  8.26it/s]"
     ]
    },
    {
     "name": "stdout",
     "output_type": "stream",
     "text": [
      "accuray: 0.2604\n"
     ]
    },
    {
     "name": "stderr",
     "output_type": "stream",
     "text": [
      "100%|██████████| 293/293 [00:32<00:00,  9.05it/s] \n",
      "  8%|▊         | 98/1250 [00:00<00:02, 487.55it/s]"
     ]
    },
    {
     "name": "stdout",
     "output_type": "stream",
     "text": [
      "epoch_loss/batch_ct=0.060903638349993836\n",
      "tensor(0.1194, device='cuda:0', grad_fn=<SmoothL1LossBackward0>)\n"
     ]
    },
    {
     "name": "stderr",
     "output_type": "stream",
     "text": [
      "100%|██████████| 1250/1250 [00:02<00:00, 581.41it/s]\n",
      "  0%|          | 1/293 [00:00<00:35,  8.19it/s]"
     ]
    },
    {
     "name": "stdout",
     "output_type": "stream",
     "text": [
      "accuray: 0.2617\n"
     ]
    },
    {
     "name": "stderr",
     "output_type": "stream",
     "text": [
      "100%|██████████| 293/293 [00:32<00:00,  8.96it/s] \n",
      "  6%|▌         | 78/1250 [00:00<00:02, 395.07it/s]"
     ]
    },
    {
     "name": "stdout",
     "output_type": "stream",
     "text": [
      "epoch_loss/batch_ct=0.060902699162917476\n",
      "tensor(0.1200, device='cuda:0', grad_fn=<SmoothL1LossBackward0>)\n"
     ]
    },
    {
     "name": "stderr",
     "output_type": "stream",
     "text": [
      "100%|██████████| 1250/1250 [00:02<00:00, 563.06it/s]\n",
      "  0%|          | 1/293 [00:00<00:36,  8.06it/s]"
     ]
    },
    {
     "name": "stdout",
     "output_type": "stream",
     "text": [
      "accuray: 0.2628\n"
     ]
    },
    {
     "name": "stderr",
     "output_type": "stream",
     "text": [
      "100%|██████████| 293/293 [00:31<00:00,  9.36it/s] \n",
      "  4%|▍         | 55/1250 [00:00<00:02, 544.06it/s]"
     ]
    },
    {
     "name": "stdout",
     "output_type": "stream",
     "text": [
      "epoch_loss/batch_ct=0.06090665114895692\n",
      "tensor(0.1181, device='cuda:0', grad_fn=<SmoothL1LossBackward0>)\n"
     ]
    },
    {
     "name": "stderr",
     "output_type": "stream",
     "text": [
      "100%|██████████| 1250/1250 [00:02<00:00, 600.70it/s]\n",
      "  0%|          | 1/293 [00:00<00:38,  7.51it/s]"
     ]
    },
    {
     "name": "stdout",
     "output_type": "stream",
     "text": [
      "accuray: 0.2649\n"
     ]
    },
    {
     "name": "stderr",
     "output_type": "stream",
     "text": [
      "100%|██████████| 293/293 [00:32<00:00,  9.05it/s] \n",
      "  4%|▍         | 54/1250 [00:00<00:02, 539.51it/s]"
     ]
    },
    {
     "name": "stdout",
     "output_type": "stream",
     "text": [
      "epoch_loss/batch_ct=0.06099843582700169\n",
      "tensor(0.1202, device='cuda:0', grad_fn=<SmoothL1LossBackward0>)\n"
     ]
    },
    {
     "name": "stderr",
     "output_type": "stream",
     "text": [
      "100%|██████████| 1250/1250 [00:02<00:00, 592.44it/s]\n",
      "  0%|          | 1/293 [00:00<00:36,  7.99it/s]"
     ]
    },
    {
     "name": "stdout",
     "output_type": "stream",
     "text": [
      "accuray: 0.2621\n"
     ]
    },
    {
     "name": "stderr",
     "output_type": "stream",
     "text": [
      "100%|██████████| 293/293 [00:32<00:00,  9.04it/s] \n",
      "  8%|▊         | 94/1250 [00:00<00:02, 468.25it/s]"
     ]
    },
    {
     "name": "stdout",
     "output_type": "stream",
     "text": [
      "epoch_loss/batch_ct=0.0609889795175857\n",
      "tensor(0.1176, device='cuda:0', grad_fn=<SmoothL1LossBackward0>)\n"
     ]
    },
    {
     "name": "stderr",
     "output_type": "stream",
     "text": [
      "100%|██████████| 1250/1250 [00:02<00:00, 579.79it/s]\n",
      "  0%|          | 1/293 [00:00<00:36,  7.93it/s]"
     ]
    },
    {
     "name": "stdout",
     "output_type": "stream",
     "text": [
      "accuray: 0.2628\n"
     ]
    },
    {
     "name": "stderr",
     "output_type": "stream",
     "text": [
      "100%|██████████| 293/293 [00:32<00:00,  8.95it/s] \n",
      "  8%|▊         | 97/1250 [00:00<00:02, 487.20it/s]"
     ]
    },
    {
     "name": "stdout",
     "output_type": "stream",
     "text": [
      "epoch_loss/batch_ct=0.06097828190300673\n",
      "tensor(0.1183, device='cuda:0', grad_fn=<SmoothL1LossBackward0>)\n"
     ]
    },
    {
     "name": "stderr",
     "output_type": "stream",
     "text": [
      "100%|██████████| 1250/1250 [00:02<00:00, 578.98it/s]\n",
      "  0%|          | 1/293 [00:00<00:38,  7.63it/s]"
     ]
    },
    {
     "name": "stdout",
     "output_type": "stream",
     "text": [
      "accuray: 0.2602\n"
     ]
    },
    {
     "name": "stderr",
     "output_type": "stream",
     "text": [
      "100%|██████████| 293/293 [00:30<00:00,  9.52it/s] \n",
      "  4%|▍         | 56/1250 [00:00<00:02, 553.95it/s]"
     ]
    },
    {
     "name": "stdout",
     "output_type": "stream",
     "text": [
      "epoch_loss/batch_ct=0.06093664578206483\n",
      "tensor(0.1187, device='cuda:0', grad_fn=<SmoothL1LossBackward0>)\n"
     ]
    },
    {
     "name": "stderr",
     "output_type": "stream",
     "text": [
      "100%|██████████| 1250/1250 [00:02<00:00, 598.98it/s]\n",
      "  0%|          | 1/293 [00:00<00:36,  7.93it/s]"
     ]
    },
    {
     "name": "stdout",
     "output_type": "stream",
     "text": [
      "accuray: 0.2636\n"
     ]
    },
    {
     "name": "stderr",
     "output_type": "stream",
     "text": [
      "100%|██████████| 293/293 [00:32<00:00,  8.94it/s] \n",
      "  6%|▌         | 69/1250 [00:00<00:01, 689.36it/s]"
     ]
    },
    {
     "name": "stdout",
     "output_type": "stream",
     "text": [
      "epoch_loss/batch_ct=0.06093724454856581\n",
      "tensor(0.1176, device='cuda:0', grad_fn=<SmoothL1LossBackward0>)\n"
     ]
    },
    {
     "name": "stderr",
     "output_type": "stream",
     "text": [
      "100%|██████████| 1250/1250 [00:01<00:00, 652.49it/s]\n",
      "  0%|          | 1/293 [00:00<00:34,  8.40it/s]"
     ]
    },
    {
     "name": "stdout",
     "output_type": "stream",
     "text": [
      "accuray: 0.2615\n"
     ]
    },
    {
     "name": "stderr",
     "output_type": "stream",
     "text": [
      "100%|██████████| 293/293 [00:32<00:00,  8.96it/s] \n",
      "  5%|▌         | 67/1250 [00:00<00:01, 669.40it/s]"
     ]
    },
    {
     "name": "stdout",
     "output_type": "stream",
     "text": [
      "epoch_loss/batch_ct=0.06104367554542564\n",
      "tensor(0.1192, device='cuda:0', grad_fn=<SmoothL1LossBackward0>)\n"
     ]
    },
    {
     "name": "stderr",
     "output_type": "stream",
     "text": [
      "100%|██████████| 1250/1250 [00:01<00:00, 651.47it/s]\n",
      "  0%|          | 1/293 [00:00<00:35,  8.33it/s]"
     ]
    },
    {
     "name": "stdout",
     "output_type": "stream",
     "text": [
      "accuray: 0.2631\n"
     ]
    },
    {
     "name": "stderr",
     "output_type": "stream",
     "text": [
      "100%|██████████| 293/293 [00:32<00:00,  9.08it/s] \n",
      "  4%|▍         | 56/1250 [00:00<00:02, 559.49it/s]"
     ]
    },
    {
     "name": "stdout",
     "output_type": "stream",
     "text": [
      "epoch_loss/batch_ct=0.060935133580295814\n",
      "tensor(0.1189, device='cuda:0', grad_fn=<SmoothL1LossBackward0>)\n"
     ]
    },
    {
     "name": "stderr",
     "output_type": "stream",
     "text": [
      "100%|██████████| 1250/1250 [00:02<00:00, 609.80it/s]\n",
      "  0%|          | 1/293 [00:00<00:34,  8.40it/s]"
     ]
    },
    {
     "name": "stdout",
     "output_type": "stream",
     "text": [
      "accuray: 0.2623\n"
     ]
    },
    {
     "name": "stderr",
     "output_type": "stream",
     "text": [
      "100%|██████████| 293/293 [00:31<00:00,  9.44it/s]\n",
      "  4%|▍         | 54/1250 [00:00<00:02, 534.17it/s]"
     ]
    },
    {
     "name": "stdout",
     "output_type": "stream",
     "text": [
      "epoch_loss/batch_ct=0.060918794752704716\n",
      "tensor(0.1208, device='cuda:0', grad_fn=<SmoothL1LossBackward0>)\n"
     ]
    },
    {
     "name": "stderr",
     "output_type": "stream",
     "text": [
      "100%|██████████| 1250/1250 [00:02<00:00, 586.32it/s]\n",
      "  0%|          | 1/293 [00:00<00:35,  8.33it/s]"
     ]
    },
    {
     "name": "stdout",
     "output_type": "stream",
     "text": [
      "accuray: 0.2593\n"
     ]
    },
    {
     "name": "stderr",
     "output_type": "stream",
     "text": [
      "100%|██████████| 293/293 [00:32<00:00,  8.97it/s] \n",
      "  4%|▎         | 46/1250 [00:00<00:02, 455.03it/s]"
     ]
    },
    {
     "name": "stdout",
     "output_type": "stream",
     "text": [
      "epoch_loss/batch_ct=0.06089480382405103\n",
      "tensor(0.1181, device='cuda:0', grad_fn=<SmoothL1LossBackward0>)\n"
     ]
    },
    {
     "name": "stderr",
     "output_type": "stream",
     "text": [
      "100%|██████████| 1250/1250 [00:02<00:00, 577.11it/s]\n",
      "  0%|          | 1/293 [00:00<00:34,  8.47it/s]"
     ]
    },
    {
     "name": "stdout",
     "output_type": "stream",
     "text": [
      "accuray: 0.2624\n"
     ]
    },
    {
     "name": "stderr",
     "output_type": "stream",
     "text": [
      "100%|██████████| 293/293 [00:32<00:00,  9.12it/s] \n",
      "  4%|▍         | 49/1250 [00:00<00:02, 489.56it/s]"
     ]
    },
    {
     "name": "stdout",
     "output_type": "stream",
     "text": [
      "epoch_loss/batch_ct=0.060884910014768444\n",
      "tensor(0.1202, device='cuda:0', grad_fn=<SmoothL1LossBackward0>)\n"
     ]
    },
    {
     "name": "stderr",
     "output_type": "stream",
     "text": [
      "100%|██████████| 1250/1250 [00:02<00:00, 589.92it/s]\n",
      "  0%|          | 1/293 [00:00<00:37,  7.87it/s]"
     ]
    },
    {
     "name": "stdout",
     "output_type": "stream",
     "text": [
      "accuray: 0.2601\n"
     ]
    },
    {
     "name": "stderr",
     "output_type": "stream",
     "text": [
      "100%|██████████| 293/293 [00:31<00:00,  9.42it/s] \n",
      "  8%|▊         | 99/1250 [00:00<00:02, 493.40it/s]"
     ]
    },
    {
     "name": "stdout",
     "output_type": "stream",
     "text": [
      "epoch_loss/batch_ct=0.06089194705857644\n",
      "tensor(0.1205, device='cuda:0', grad_fn=<SmoothL1LossBackward0>)\n"
     ]
    },
    {
     "name": "stderr",
     "output_type": "stream",
     "text": [
      "100%|██████████| 1250/1250 [00:02<00:00, 586.60it/s]\n",
      "  0%|          | 1/293 [00:00<00:38,  7.63it/s]"
     ]
    },
    {
     "name": "stdout",
     "output_type": "stream",
     "text": [
      "accuray: 0.2583\n"
     ]
    },
    {
     "name": "stderr",
     "output_type": "stream",
     "text": [
      "100%|██████████| 293/293 [00:30<00:00,  9.46it/s] \n",
      "  4%|▍         | 52/1250 [00:00<00:02, 519.53it/s]"
     ]
    },
    {
     "name": "stdout",
     "output_type": "stream",
     "text": [
      "epoch_loss/batch_ct=0.06097573271050813\n",
      "tensor(0.1224, device='cuda:0', grad_fn=<SmoothL1LossBackward0>)\n"
     ]
    },
    {
     "name": "stderr",
     "output_type": "stream",
     "text": [
      "100%|██████████| 1250/1250 [00:02<00:00, 587.98it/s]\n",
      "  0%|          | 1/293 [00:00<00:35,  8.19it/s]"
     ]
    },
    {
     "name": "stdout",
     "output_type": "stream",
     "text": [
      "accuray: 0.2604\n"
     ]
    },
    {
     "name": "stderr",
     "output_type": "stream",
     "text": [
      "100%|██████████| 293/293 [00:32<00:00,  9.01it/s] \n",
      "  9%|▊         | 108/1250 [00:00<00:02, 534.98it/s]"
     ]
    },
    {
     "name": "stdout",
     "output_type": "stream",
     "text": [
      "epoch_loss/batch_ct=0.06102052375319458\n",
      "tensor(0.1186, device='cuda:0', grad_fn=<SmoothL1LossBackward0>)\n"
     ]
    },
    {
     "name": "stderr",
     "output_type": "stream",
     "text": [
      "100%|██████████| 1250/1250 [00:02<00:00, 595.26it/s]\n",
      "  0%|          | 1/293 [00:00<00:35,  8.19it/s]"
     ]
    },
    {
     "name": "stdout",
     "output_type": "stream",
     "text": [
      "accuray: 0.2615\n"
     ]
    },
    {
     "name": "stderr",
     "output_type": "stream",
     "text": [
      "100%|██████████| 293/293 [00:32<00:00,  8.94it/s] \n",
      "  7%|▋         | 90/1250 [00:00<00:02, 452.22it/s]"
     ]
    },
    {
     "name": "stdout",
     "output_type": "stream",
     "text": [
      "epoch_loss/batch_ct=0.06089416363586982\n",
      "tensor(0.1202, device='cuda:0', grad_fn=<SmoothL1LossBackward0>)\n"
     ]
    },
    {
     "name": "stderr",
     "output_type": "stream",
     "text": [
      "100%|██████████| 1250/1250 [00:02<00:00, 571.56it/s]\n",
      "  0%|          | 1/293 [00:00<00:35,  8.12it/s]"
     ]
    },
    {
     "name": "stdout",
     "output_type": "stream",
     "text": [
      "accuray: 0.2658\n"
     ]
    },
    {
     "name": "stderr",
     "output_type": "stream",
     "text": [
      "100%|██████████| 293/293 [00:31<00:00,  9.27it/s] \n",
      " 11%|█         | 136/1250 [00:00<00:01, 671.48it/s]"
     ]
    },
    {
     "name": "stdout",
     "output_type": "stream",
     "text": [
      "epoch_loss/batch_ct=0.0608775115734528\n",
      "tensor(0.1186, device='cuda:0', grad_fn=<SmoothL1LossBackward0>)\n"
     ]
    },
    {
     "name": "stderr",
     "output_type": "stream",
     "text": [
      "100%|██████████| 1250/1250 [00:01<00:00, 650.79it/s]\n",
      "  0%|          | 1/293 [00:00<00:36,  7.99it/s]"
     ]
    },
    {
     "name": "stdout",
     "output_type": "stream",
     "text": [
      "accuray: 0.2638\n"
     ]
    },
    {
     "name": "stderr",
     "output_type": "stream",
     "text": [
      "100%|██████████| 293/293 [00:31<00:00,  9.36it/s] \n",
      "  7%|▋         | 88/1250 [00:00<00:02, 438.69it/s]"
     ]
    },
    {
     "name": "stdout",
     "output_type": "stream",
     "text": [
      "epoch_loss/batch_ct=0.0609143130215151\n",
      "tensor(0.1194, device='cuda:0', grad_fn=<SmoothL1LossBackward0>)\n"
     ]
    },
    {
     "name": "stderr",
     "output_type": "stream",
     "text": [
      "100%|██████████| 1250/1250 [00:02<00:00, 576.84it/s]\n",
      "  0%|          | 1/293 [00:00<00:37,  7.87it/s]"
     ]
    },
    {
     "name": "stdout",
     "output_type": "stream",
     "text": [
      "accuray: 0.2615\n"
     ]
    },
    {
     "name": "stderr",
     "output_type": "stream",
     "text": [
      "100%|██████████| 293/293 [00:32<00:00,  8.91it/s] \n",
      "  8%|▊         | 95/1250 [00:00<00:02, 475.45it/s]"
     ]
    },
    {
     "name": "stdout",
     "output_type": "stream",
     "text": [
      "epoch_loss/batch_ct=0.0608077027376682\n",
      "tensor(0.1195, device='cuda:0', grad_fn=<SmoothL1LossBackward0>)\n"
     ]
    },
    {
     "name": "stderr",
     "output_type": "stream",
     "text": [
      "100%|██████████| 1250/1250 [00:02<00:00, 579.52it/s]\n",
      "  0%|          | 1/293 [00:00<00:35,  8.19it/s]"
     ]
    },
    {
     "name": "stdout",
     "output_type": "stream",
     "text": [
      "accuray: 0.2627\n"
     ]
    },
    {
     "name": "stderr",
     "output_type": "stream",
     "text": [
      "100%|██████████| 293/293 [00:32<00:00,  8.98it/s] \n",
      "  4%|▍         | 53/1250 [00:00<00:02, 524.28it/s]"
     ]
    },
    {
     "name": "stdout",
     "output_type": "stream",
     "text": [
      "epoch_loss/batch_ct=0.06089234556115809\n",
      "tensor(0.1204, device='cuda:0', grad_fn=<SmoothL1LossBackward0>)\n"
     ]
    },
    {
     "name": "stderr",
     "output_type": "stream",
     "text": [
      "100%|██████████| 1250/1250 [00:02<00:00, 597.26it/s]\n",
      "  0%|          | 1/293 [00:00<00:35,  8.19it/s]"
     ]
    },
    {
     "name": "stdout",
     "output_type": "stream",
     "text": [
      "accuray: 0.2582\n"
     ]
    },
    {
     "name": "stderr",
     "output_type": "stream",
     "text": [
      "100%|██████████| 293/293 [00:31<00:00,  9.36it/s] \n",
      "  5%|▍         | 62/1250 [00:00<00:01, 613.30it/s]"
     ]
    },
    {
     "name": "stdout",
     "output_type": "stream",
     "text": [
      "epoch_loss/batch_ct=0.06087899101631982\n",
      "tensor(0.1213, device='cuda:0', grad_fn=<SmoothL1LossBackward0>)\n"
     ]
    },
    {
     "name": "stderr",
     "output_type": "stream",
     "text": [
      "100%|██████████| 1250/1250 [00:02<00:00, 605.95it/s]\n",
      "  0%|          | 1/293 [00:00<00:38,  7.63it/s]"
     ]
    },
    {
     "name": "stdout",
     "output_type": "stream",
     "text": [
      "accuray: 0.2645\n"
     ]
    },
    {
     "name": "stderr",
     "output_type": "stream",
     "text": [
      "100%|██████████| 293/293 [00:32<00:00,  9.00it/s] \n",
      "  7%|▋         | 90/1250 [00:00<00:02, 447.67it/s]"
     ]
    },
    {
     "name": "stdout",
     "output_type": "stream",
     "text": [
      "epoch_loss/batch_ct=0.060907427369365615\n",
      "tensor(0.1215, device='cuda:0', grad_fn=<SmoothL1LossBackward0>)\n"
     ]
    },
    {
     "name": "stderr",
     "output_type": "stream",
     "text": [
      "100%|██████████| 1250/1250 [00:02<00:00, 581.95it/s]\n",
      "  0%|          | 1/293 [00:00<00:35,  8.26it/s]"
     ]
    },
    {
     "name": "stdout",
     "output_type": "stream",
     "text": [
      "accuray: 0.2614\n"
     ]
    },
    {
     "name": "stderr",
     "output_type": "stream",
     "text": [
      "100%|██████████| 293/293 [00:32<00:00,  8.96it/s] \n",
      "  7%|▋         | 85/1250 [00:00<00:02, 427.26it/s]"
     ]
    },
    {
     "name": "stdout",
     "output_type": "stream",
     "text": [
      "epoch_loss/batch_ct=0.06085098889612016\n",
      "tensor(0.1211, device='cuda:0', grad_fn=<SmoothL1LossBackward0>)\n"
     ]
    },
    {
     "name": "stderr",
     "output_type": "stream",
     "text": [
      "100%|██████████| 1250/1250 [00:02<00:00, 578.18it/s]\n",
      "  0%|          | 1/293 [00:00<00:35,  8.26it/s]"
     ]
    },
    {
     "name": "stdout",
     "output_type": "stream",
     "text": [
      "accuray: 0.2598\n"
     ]
    },
    {
     "name": "stderr",
     "output_type": "stream",
     "text": [
      "100%|██████████| 293/293 [00:31<00:00,  9.32it/s] \n",
      "  3%|▎         | 43/1250 [00:00<00:02, 417.10it/s]"
     ]
    },
    {
     "name": "stdout",
     "output_type": "stream",
     "text": [
      "epoch_loss/batch_ct=0.06091521652267566\n",
      "tensor(0.1212, device='cuda:0', grad_fn=<SmoothL1LossBackward0>)\n"
     ]
    },
    {
     "name": "stderr",
     "output_type": "stream",
     "text": [
      "100%|██████████| 1250/1250 [00:02<00:00, 581.68it/s]\n",
      "  0%|          | 1/293 [00:00<00:36,  8.06it/s]"
     ]
    },
    {
     "name": "stdout",
     "output_type": "stream",
     "text": [
      "accuray: 0.2617\n"
     ]
    },
    {
     "name": "stderr",
     "output_type": "stream",
     "text": [
      "100%|██████████| 293/293 [00:31<00:00,  9.33it/s] \n",
      "  5%|▌         | 67/1250 [00:00<00:01, 669.39it/s]"
     ]
    },
    {
     "name": "stdout",
     "output_type": "stream",
     "text": [
      "epoch_loss/batch_ct=0.06082578550373751\n",
      "tensor(0.1218, device='cuda:0', grad_fn=<SmoothL1LossBackward0>)\n"
     ]
    },
    {
     "name": "stderr",
     "output_type": "stream",
     "text": [
      "100%|██████████| 1250/1250 [00:01<00:00, 644.74it/s]\n",
      "  0%|          | 1/293 [00:00<00:34,  8.54it/s]"
     ]
    },
    {
     "name": "stdout",
     "output_type": "stream",
     "text": [
      "accuray: 0.2622\n"
     ]
    },
    {
     "name": "stderr",
     "output_type": "stream",
     "text": [
      "100%|██████████| 293/293 [00:32<00:00,  9.02it/s] \n",
      "  4%|▍         | 50/1250 [00:00<00:02, 499.55it/s]"
     ]
    },
    {
     "name": "stdout",
     "output_type": "stream",
     "text": [
      "epoch_loss/batch_ct=0.06090600127797751\n",
      "tensor(0.1167, device='cuda:0', grad_fn=<SmoothL1LossBackward0>)\n"
     ]
    },
    {
     "name": "stderr",
     "output_type": "stream",
     "text": [
      "100%|██████████| 1250/1250 [00:02<00:00, 592.72it/s]\n",
      "  0%|          | 1/293 [00:00<00:37,  7.74it/s]"
     ]
    },
    {
     "name": "stdout",
     "output_type": "stream",
     "text": [
      "accuray: 0.26\n"
     ]
    },
    {
     "name": "stderr",
     "output_type": "stream",
     "text": [
      "100%|██████████| 293/293 [00:32<00:00,  9.05it/s] \n",
      " 11%|█         | 136/1250 [00:00<00:01, 679.38it/s]"
     ]
    },
    {
     "name": "stdout",
     "output_type": "stream",
     "text": [
      "epoch_loss/batch_ct=0.06082989838683889\n",
      "tensor(0.1204, device='cuda:0', grad_fn=<SmoothL1LossBackward0>)\n"
     ]
    },
    {
     "name": "stderr",
     "output_type": "stream",
     "text": [
      "100%|██████████| 1250/1250 [00:01<00:00, 659.03it/s]\n",
      "  0%|          | 1/293 [00:00<00:35,  8.33it/s]"
     ]
    },
    {
     "name": "stdout",
     "output_type": "stream",
     "text": [
      "accuray: 0.2645\n"
     ]
    },
    {
     "name": "stderr",
     "output_type": "stream",
     "text": [
      "100%|██████████| 293/293 [00:32<00:00,  8.96it/s] \n",
      "  4%|▍         | 48/1250 [00:00<00:02, 479.56it/s]"
     ]
    },
    {
     "name": "stdout",
     "output_type": "stream",
     "text": [
      "epoch_loss/batch_ct=0.060865126358019925\n",
      "tensor(0.1214, device='cuda:0', grad_fn=<SmoothL1LossBackward0>)\n"
     ]
    },
    {
     "name": "stderr",
     "output_type": "stream",
     "text": [
      "100%|██████████| 1250/1250 [00:02<00:00, 582.76it/s]\n",
      "  0%|          | 1/293 [00:00<00:36,  7.99it/s]"
     ]
    },
    {
     "name": "stdout",
     "output_type": "stream",
     "text": [
      "accuray: 0.2634\n"
     ]
    },
    {
     "name": "stderr",
     "output_type": "stream",
     "text": [
      "100%|██████████| 293/293 [00:31<00:00,  9.22it/s] \n",
      " 11%|█         | 134/1250 [00:00<00:01, 665.48it/s]"
     ]
    },
    {
     "name": "stdout",
     "output_type": "stream",
     "text": [
      "epoch_loss/batch_ct=0.060858651906961485\n",
      "tensor(0.1178, device='cuda:0', grad_fn=<SmoothL1LossBackward0>)\n"
     ]
    },
    {
     "name": "stderr",
     "output_type": "stream",
     "text": [
      "100%|██████████| 1250/1250 [00:01<00:00, 668.20it/s]\n",
      "  0%|          | 1/293 [00:00<00:33,  8.76it/s]"
     ]
    },
    {
     "name": "stdout",
     "output_type": "stream",
     "text": [
      "accuray: 0.2592\n"
     ]
    },
    {
     "name": "stderr",
     "output_type": "stream",
     "text": [
      "100%|██████████| 293/293 [00:32<00:00,  8.95it/s] \n",
      "  7%|▋         | 92/1250 [00:00<00:02, 464.87it/s]"
     ]
    },
    {
     "name": "stdout",
     "output_type": "stream",
     "text": [
      "epoch_loss/batch_ct=0.06078518028297122\n",
      "tensor(0.1169, device='cuda:0', grad_fn=<SmoothL1LossBackward0>)\n"
     ]
    },
    {
     "name": "stderr",
     "output_type": "stream",
     "text": [
      "100%|██████████| 1250/1250 [00:02<00:00, 580.06it/s]\n",
      "  0%|          | 1/293 [00:00<00:38,  7.57it/s]"
     ]
    },
    {
     "name": "stdout",
     "output_type": "stream",
     "text": [
      "accuray: 0.2606\n"
     ]
    },
    {
     "name": "stderr",
     "output_type": "stream",
     "text": [
      "100%|██████████| 293/293 [00:32<00:00,  9.05it/s] \n",
      " 11%|█         | 138/1250 [00:00<00:01, 682.54it/s]"
     ]
    },
    {
     "name": "stdout",
     "output_type": "stream",
     "text": [
      "epoch_loss/batch_ct=0.06069784938165593\n",
      "tensor(0.1193, device='cuda:0', grad_fn=<SmoothL1LossBackward0>)\n"
     ]
    },
    {
     "name": "stderr",
     "output_type": "stream",
     "text": [
      "100%|██████████| 1250/1250 [00:01<00:00, 660.08it/s]\n",
      "  0%|          | 1/293 [00:00<00:34,  8.40it/s]"
     ]
    },
    {
     "name": "stdout",
     "output_type": "stream",
     "text": [
      "accuray: 0.2645\n"
     ]
    },
    {
     "name": "stderr",
     "output_type": "stream",
     "text": [
      "100%|██████████| 293/293 [00:32<00:00,  9.01it/s] \n",
      "  8%|▊         | 97/1250 [00:00<00:02, 480.63it/s]"
     ]
    },
    {
     "name": "stdout",
     "output_type": "stream",
     "text": [
      "epoch_loss/batch_ct=0.06080196641149029\n",
      "tensor(0.1193, device='cuda:0', grad_fn=<SmoothL1LossBackward0>)\n"
     ]
    },
    {
     "name": "stderr",
     "output_type": "stream",
     "text": [
      "100%|██████████| 1250/1250 [00:02<00:00, 582.22it/s]\n",
      "  0%|          | 1/293 [00:00<00:36,  7.99it/s]"
     ]
    },
    {
     "name": "stdout",
     "output_type": "stream",
     "text": [
      "accuray: 0.264\n"
     ]
    },
    {
     "name": "stderr",
     "output_type": "stream",
     "text": [
      "100%|██████████| 293/293 [00:31<00:00,  9.23it/s] \n",
      "  7%|▋         | 88/1250 [00:00<00:02, 438.74it/s]"
     ]
    },
    {
     "name": "stdout",
     "output_type": "stream",
     "text": [
      "epoch_loss/batch_ct=0.060773328020577395\n",
      "tensor(0.1193, device='cuda:0', grad_fn=<SmoothL1LossBackward0>)\n"
     ]
    },
    {
     "name": "stderr",
     "output_type": "stream",
     "text": [
      "100%|██████████| 1250/1250 [00:02<00:00, 576.31it/s]\n",
      "  0%|          | 1/293 [00:00<00:34,  8.40it/s]"
     ]
    },
    {
     "name": "stdout",
     "output_type": "stream",
     "text": [
      "accuray: 0.2629\n"
     ]
    },
    {
     "name": "stderr",
     "output_type": "stream",
     "text": [
      "100%|██████████| 293/293 [00:32<00:00,  8.99it/s] \n",
      "  4%|▎         | 45/1250 [00:00<00:02, 449.59it/s]"
     ]
    },
    {
     "name": "stdout",
     "output_type": "stream",
     "text": [
      "epoch_loss/batch_ct=0.06088517453994543\n",
      "tensor(0.1187, device='cuda:0', grad_fn=<SmoothL1LossBackward0>)\n"
     ]
    },
    {
     "name": "stderr",
     "output_type": "stream",
     "text": [
      "100%|██████████| 1250/1250 [00:01<00:00, 668.56it/s]\n",
      "  0%|          | 1/293 [00:00<00:34,  8.54it/s]"
     ]
    },
    {
     "name": "stdout",
     "output_type": "stream",
     "text": [
      "accuray: 0.2602\n"
     ]
    },
    {
     "name": "stderr",
     "output_type": "stream",
     "text": [
      "100%|██████████| 293/293 [00:32<00:00,  8.99it/s] \n",
      "  4%|▍         | 50/1250 [00:00<00:02, 499.55it/s]"
     ]
    },
    {
     "name": "stdout",
     "output_type": "stream",
     "text": [
      "epoch_loss/batch_ct=0.06086085556400201\n",
      "tensor(0.1178, device='cuda:0', grad_fn=<SmoothL1LossBackward0>)\n"
     ]
    },
    {
     "name": "stderr",
     "output_type": "stream",
     "text": [
      "100%|██████████| 1250/1250 [00:02<00:00, 585.77it/s]\n",
      "  0%|          | 1/293 [00:00<00:37,  7.74it/s]"
     ]
    },
    {
     "name": "stdout",
     "output_type": "stream",
     "text": [
      "accuray: 0.2619\n"
     ]
    },
    {
     "name": "stderr",
     "output_type": "stream",
     "text": [
      "100%|██████████| 293/293 [00:32<00:00,  8.97it/s] \n",
      "  4%|▍         | 48/1250 [00:00<00:02, 479.56it/s]"
     ]
    },
    {
     "name": "stdout",
     "output_type": "stream",
     "text": [
      "epoch_loss/batch_ct=0.060787078081851915\n",
      "tensor(0.1181, device='cuda:0', grad_fn=<SmoothL1LossBackward0>)\n"
     ]
    },
    {
     "name": "stderr",
     "output_type": "stream",
     "text": [
      "100%|██████████| 1250/1250 [00:02<00:00, 578.18it/s]\n",
      "  0%|          | 1/293 [00:00<00:36,  8.06it/s]"
     ]
    },
    {
     "name": "stdout",
     "output_type": "stream",
     "text": [
      "accuray: 0.2639\n"
     ]
    },
    {
     "name": "stderr",
     "output_type": "stream",
     "text": [
      "100%|██████████| 293/293 [00:31<00:00,  9.42it/s]\n",
      "  9%|▊         | 107/1250 [00:00<00:02, 535.40it/s]"
     ]
    },
    {
     "name": "stdout",
     "output_type": "stream",
     "text": [
      "epoch_loss/batch_ct=0.06078558570394913\n",
      "tensor(0.1196, device='cuda:0', grad_fn=<SmoothL1LossBackward0>)\n"
     ]
    },
    {
     "name": "stderr",
     "output_type": "stream",
     "text": [
      "100%|██████████| 1250/1250 [00:02<00:00, 591.32it/s]\n",
      "  0%|          | 1/293 [00:00<00:37,  7.81it/s]"
     ]
    },
    {
     "name": "stdout",
     "output_type": "stream",
     "text": [
      "accuray: 0.2645\n"
     ]
    },
    {
     "name": "stderr",
     "output_type": "stream",
     "text": [
      "100%|██████████| 293/293 [00:31<00:00,  9.28it/s] \n",
      "  7%|▋         | 92/1250 [00:00<00:02, 463.11it/s]"
     ]
    },
    {
     "name": "stdout",
     "output_type": "stream",
     "text": [
      "epoch_loss/batch_ct=0.06084311172543537\n",
      "tensor(0.1196, device='cuda:0', grad_fn=<SmoothL1LossBackward0>)\n"
     ]
    },
    {
     "name": "stderr",
     "output_type": "stream",
     "text": [
      "100%|██████████| 1250/1250 [00:02<00:00, 579.25it/s]\n",
      "  0%|          | 1/293 [00:00<00:35,  8.12it/s]"
     ]
    },
    {
     "name": "stdout",
     "output_type": "stream",
     "text": [
      "accuray: 0.2614\n"
     ]
    },
    {
     "name": "stderr",
     "output_type": "stream",
     "text": [
      "100%|██████████| 293/293 [00:32<00:00,  8.98it/s] \n",
      "  3%|▎         | 42/1250 [00:00<00:02, 415.46it/s]"
     ]
    },
    {
     "name": "stdout",
     "output_type": "stream",
     "text": [
      "epoch_loss/batch_ct=0.06078463590275201\n",
      "tensor(0.1189, device='cuda:0', grad_fn=<SmoothL1LossBackward0>)\n"
     ]
    },
    {
     "name": "stderr",
     "output_type": "stream",
     "text": [
      "100%|██████████| 1250/1250 [00:02<00:00, 580.87it/s]\n",
      "  0%|          | 1/293 [00:00<00:35,  8.19it/s]"
     ]
    },
    {
     "name": "stdout",
     "output_type": "stream",
     "text": [
      "accuray: 0.264\n"
     ]
    },
    {
     "name": "stderr",
     "output_type": "stream",
     "text": [
      "100%|██████████| 293/293 [00:32<00:00,  9.00it/s] \n",
      " 11%|█         | 138/1250 [00:00<00:01, 685.35it/s]"
     ]
    },
    {
     "name": "stdout",
     "output_type": "stream",
     "text": [
      "epoch_loss/batch_ct=0.060801702004576484\n",
      "tensor(0.1190, device='cuda:0', grad_fn=<SmoothL1LossBackward0>)\n"
     ]
    },
    {
     "name": "stderr",
     "output_type": "stream",
     "text": [
      "100%|██████████| 1250/1250 [00:01<00:00, 657.64it/s]\n",
      "  0%|          | 1/293 [00:00<00:35,  8.26it/s]"
     ]
    },
    {
     "name": "stdout",
     "output_type": "stream",
     "text": [
      "accuray: 0.2619\n"
     ]
    },
    {
     "name": "stderr",
     "output_type": "stream",
     "text": [
      "100%|██████████| 293/293 [00:31<00:00,  9.33it/s] \n",
      "  8%|▊         | 106/1250 [00:00<00:02, 521.24it/s]"
     ]
    },
    {
     "name": "stdout",
     "output_type": "stream",
     "text": [
      "epoch_loss/batch_ct=0.060884647426151094\n",
      "tensor(0.1187, device='cuda:0', grad_fn=<SmoothL1LossBackward0>)\n"
     ]
    },
    {
     "name": "stderr",
     "output_type": "stream",
     "text": [
      "100%|██████████| 1250/1250 [00:02<00:00, 594.70it/s]\n",
      "  0%|          | 1/293 [00:00<00:37,  7.81it/s]"
     ]
    },
    {
     "name": "stdout",
     "output_type": "stream",
     "text": [
      "accuray: 0.2581\n"
     ]
    },
    {
     "name": "stderr",
     "output_type": "stream",
     "text": [
      "100%|██████████| 293/293 [00:31<00:00,  9.37it/s] \n",
      "  8%|▊         | 100/1250 [00:00<00:02, 490.88it/s]"
     ]
    },
    {
     "name": "stdout",
     "output_type": "stream",
     "text": [
      "epoch_loss/batch_ct=0.06084005997353603\n",
      "tensor(0.1194, device='cuda:0', grad_fn=<SmoothL1LossBackward0>)\n"
     ]
    },
    {
     "name": "stderr",
     "output_type": "stream",
     "text": [
      "100%|██████████| 1250/1250 [00:02<00:00, 584.40it/s]\n",
      "  0%|          | 1/293 [00:00<00:37,  7.81it/s]"
     ]
    },
    {
     "name": "stdout",
     "output_type": "stream",
     "text": [
      "accuray: 0.2656\n"
     ]
    },
    {
     "name": "stderr",
     "output_type": "stream",
     "text": [
      "100%|██████████| 293/293 [00:32<00:00,  9.07it/s] \n",
      "  8%|▊         | 106/1250 [00:00<00:02, 511.47it/s]"
     ]
    },
    {
     "name": "stdout",
     "output_type": "stream",
     "text": [
      "epoch_loss/batch_ct=0.06086924953001832\n",
      "tensor(0.1196, device='cuda:0', grad_fn=<SmoothL1LossBackward0>)\n"
     ]
    },
    {
     "name": "stderr",
     "output_type": "stream",
     "text": [
      "100%|██████████| 1250/1250 [00:02<00:00, 589.36it/s]\n",
      "  0%|          | 1/293 [00:00<00:34,  8.40it/s]"
     ]
    },
    {
     "name": "stdout",
     "output_type": "stream",
     "text": [
      "accuray: 0.2634\n"
     ]
    },
    {
     "name": "stderr",
     "output_type": "stream",
     "text": [
      "100%|██████████| 293/293 [00:31<00:00,  9.36it/s] \n",
      "  4%|▍         | 55/1250 [00:00<00:02, 544.07it/s]"
     ]
    },
    {
     "name": "stdout",
     "output_type": "stream",
     "text": [
      "epoch_loss/batch_ct=0.06079812522327143\n",
      "tensor(0.1196, device='cuda:0', grad_fn=<SmoothL1LossBackward0>)\n"
     ]
    },
    {
     "name": "stderr",
     "output_type": "stream",
     "text": [
      "100%|██████████| 1250/1250 [00:02<00:00, 594.98it/s]\n",
      "  0%|          | 1/293 [00:00<00:39,  7.40it/s]"
     ]
    },
    {
     "name": "stdout",
     "output_type": "stream",
     "text": [
      "accuray: 0.2628\n"
     ]
    },
    {
     "name": "stderr",
     "output_type": "stream",
     "text": [
      "100%|██████████| 293/293 [00:31<00:00,  9.31it/s] \n",
      "  3%|▎         | 36/1250 [00:00<00:03, 359.67it/s]"
     ]
    },
    {
     "name": "stdout",
     "output_type": "stream",
     "text": [
      "epoch_loss/batch_ct=0.060760875114254535\n",
      "tensor(0.1199, device='cuda:0', grad_fn=<SmoothL1LossBackward0>)\n"
     ]
    },
    {
     "name": "stderr",
     "output_type": "stream",
     "text": [
      "100%|██████████| 1250/1250 [00:02<00:00, 577.11it/s]\n",
      "  0%|          | 1/293 [00:00<00:36,  8.06it/s]"
     ]
    },
    {
     "name": "stdout",
     "output_type": "stream",
     "text": [
      "accuray: 0.2607\n"
     ]
    },
    {
     "name": "stderr",
     "output_type": "stream",
     "text": [
      "100%|██████████| 293/293 [00:32<00:00,  9.10it/s] \n",
      "  7%|▋         | 89/1250 [00:00<00:02, 449.00it/s]"
     ]
    },
    {
     "name": "stdout",
     "output_type": "stream",
     "text": [
      "epoch_loss/batch_ct=0.06074112856258002\n",
      "tensor(0.1215, device='cuda:0', grad_fn=<SmoothL1LossBackward0>)\n"
     ]
    },
    {
     "name": "stderr",
     "output_type": "stream",
     "text": [
      "100%|██████████| 1250/1250 [00:02<00:00, 579.79it/s]\n",
      "  0%|          | 1/293 [00:00<00:35,  8.33it/s]"
     ]
    },
    {
     "name": "stdout",
     "output_type": "stream",
     "text": [
      "accuray: 0.2568\n"
     ]
    },
    {
     "name": "stderr",
     "output_type": "stream",
     "text": [
      "100%|██████████| 293/293 [00:32<00:00,  9.02it/s] \n",
      "  9%|▊         | 109/1250 [00:00<00:02, 544.90it/s]"
     ]
    },
    {
     "name": "stdout",
     "output_type": "stream",
     "text": [
      "epoch_loss/batch_ct=0.0607801154255867\n",
      "tensor(0.1201, device='cuda:0', grad_fn=<SmoothL1LossBackward0>)\n"
     ]
    },
    {
     "name": "stderr",
     "output_type": "stream",
     "text": [
      "100%|██████████| 1250/1250 [00:02<00:00, 597.54it/s]\n",
      "  0%|          | 1/293 [00:00<00:35,  8.26it/s]"
     ]
    },
    {
     "name": "stdout",
     "output_type": "stream",
     "text": [
      "accuray: 0.2581\n"
     ]
    },
    {
     "name": "stderr",
     "output_type": "stream",
     "text": [
      "100%|██████████| 293/293 [00:30<00:00,  9.46it/s] \n",
      "  9%|▊         | 108/1250 [00:00<00:02, 539.51it/s]"
     ]
    },
    {
     "name": "stdout",
     "output_type": "stream",
     "text": [
      "epoch_loss/batch_ct=0.06068184111444723\n",
      "tensor(0.1204, device='cuda:0', grad_fn=<SmoothL1LossBackward0>)\n"
     ]
    },
    {
     "name": "stderr",
     "output_type": "stream",
     "text": [
      "100%|██████████| 1250/1250 [00:02<00:00, 592.16it/s]\n",
      "  0%|          | 0/293 [00:00<?, ?it/s]"
     ]
    },
    {
     "name": "stdout",
     "output_type": "stream",
     "text": [
      "accuray: 0.2559\n"
     ]
    },
    {
     "name": "stderr",
     "output_type": "stream",
     "text": [
      "100%|██████████| 293/293 [00:32<00:00,  9.01it/s]\n",
      "  7%|▋         | 88/1250 [00:00<00:02, 443.98it/s]"
     ]
    },
    {
     "name": "stdout",
     "output_type": "stream",
     "text": [
      "epoch_loss/batch_ct=0.06081367907897821\n",
      "tensor(0.1205, device='cuda:0', grad_fn=<SmoothL1LossBackward0>)\n"
     ]
    },
    {
     "name": "stderr",
     "output_type": "stream",
     "text": [
      "100%|██████████| 1250/1250 [00:02<00:00, 572.61it/s]\n",
      "  0%|          | 1/293 [00:00<00:35,  8.12it/s]"
     ]
    },
    {
     "name": "stdout",
     "output_type": "stream",
     "text": [
      "accuray: 0.2642\n"
     ]
    },
    {
     "name": "stderr",
     "output_type": "stream",
     "text": [
      "100%|██████████| 293/293 [00:32<00:00,  9.04it/s] \n",
      "  3%|▎         | 43/1250 [00:00<00:02, 425.35it/s]"
     ]
    },
    {
     "name": "stdout",
     "output_type": "stream",
     "text": [
      "epoch_loss/batch_ct=0.06075405429989573\n",
      "tensor(0.1182, device='cuda:0', grad_fn=<SmoothL1LossBackward0>)\n"
     ]
    },
    {
     "name": "stderr",
     "output_type": "stream",
     "text": [
      "100%|██████████| 1250/1250 [00:02<00:00, 574.98it/s]\n",
      "  0%|          | 1/293 [00:00<00:36,  8.06it/s]"
     ]
    },
    {
     "name": "stdout",
     "output_type": "stream",
     "text": [
      "accuray: 0.2644\n"
     ]
    },
    {
     "name": "stderr",
     "output_type": "stream",
     "text": [
      "100%|██████████| 293/293 [00:31<00:00,  9.33it/s] \n",
      "  3%|▎         | 42/1250 [00:00<00:02, 415.46it/s]"
     ]
    },
    {
     "name": "stdout",
     "output_type": "stream",
     "text": [
      "epoch_loss/batch_ct=0.06078656538138314\n",
      "tensor(0.1197, device='cuda:0', grad_fn=<SmoothL1LossBackward0>)\n"
     ]
    },
    {
     "name": "stderr",
     "output_type": "stream",
     "text": [
      "100%|██████████| 1250/1250 [00:02<00:00, 579.25it/s]\n",
      "  0%|          | 1/293 [00:00<00:36,  7.93it/s]"
     ]
    },
    {
     "name": "stdout",
     "output_type": "stream",
     "text": [
      "accuray: 0.2584\n"
     ]
    },
    {
     "name": "stderr",
     "output_type": "stream",
     "text": [
      "100%|██████████| 293/293 [00:31<00:00,  9.37it/s] \n",
      "  7%|▋         | 84/1250 [00:00<00:02, 419.62it/s]"
     ]
    },
    {
     "name": "stdout",
     "output_type": "stream",
     "text": [
      "epoch_loss/batch_ct=0.060817718047589536\n",
      "tensor(0.1195, device='cuda:0', grad_fn=<SmoothL1LossBackward0>)\n"
     ]
    },
    {
     "name": "stderr",
     "output_type": "stream",
     "text": [
      "100%|██████████| 1250/1250 [00:02<00:00, 576.31it/s]\n",
      "  0%|          | 1/293 [00:00<00:35,  8.26it/s]"
     ]
    },
    {
     "name": "stdout",
     "output_type": "stream",
     "text": [
      "accuray: 0.262\n"
     ]
    },
    {
     "name": "stderr",
     "output_type": "stream",
     "text": [
      "100%|██████████| 293/293 [00:32<00:00,  9.06it/s] \n",
      "  4%|▍         | 52/1250 [00:00<00:02, 519.53it/s]"
     ]
    },
    {
     "name": "stdout",
     "output_type": "stream",
     "text": [
      "epoch_loss/batch_ct=0.060839406081608365\n",
      "tensor(0.1202, device='cuda:0', grad_fn=<SmoothL1LossBackward0>)\n"
     ]
    },
    {
     "name": "stderr",
     "output_type": "stream",
     "text": [
      "100%|██████████| 1250/1250 [00:02<00:00, 587.98it/s]\n",
      "  0%|          | 1/293 [00:00<00:35,  8.26it/s]"
     ]
    },
    {
     "name": "stdout",
     "output_type": "stream",
     "text": [
      "accuray: 0.2604\n"
     ]
    },
    {
     "name": "stderr",
     "output_type": "stream",
     "text": [
      "100%|██████████| 293/293 [00:32<00:00,  8.96it/s] \n",
      "  7%|▋         | 86/1250 [00:00<00:02, 420.46it/s]"
     ]
    },
    {
     "name": "stdout",
     "output_type": "stream",
     "text": [
      "epoch_loss/batch_ct=0.06083909450246701\n",
      "tensor(0.1207, device='cuda:0', grad_fn=<SmoothL1LossBackward0>)\n"
     ]
    },
    {
     "name": "stderr",
     "output_type": "stream",
     "text": [
      "100%|██████████| 1250/1250 [00:02<00:00, 580.33it/s]\n",
      "  0%|          | 1/293 [00:00<00:35,  8.12it/s]"
     ]
    },
    {
     "name": "stdout",
     "output_type": "stream",
     "text": [
      "accuray: 0.2603\n"
     ]
    },
    {
     "name": "stderr",
     "output_type": "stream",
     "text": [
      "100%|██████████| 293/293 [00:31<00:00,  9.34it/s] \n",
      "  7%|▋         | 84/1250 [00:00<00:02, 415.57it/s]"
     ]
    },
    {
     "name": "stdout",
     "output_type": "stream",
     "text": [
      "epoch_loss/batch_ct=0.060714071350438256\n",
      "tensor(0.1196, device='cuda:0', grad_fn=<SmoothL1LossBackward0>)\n"
     ]
    },
    {
     "name": "stderr",
     "output_type": "stream",
     "text": [
      "100%|██████████| 1250/1250 [00:02<00:00, 576.84it/s]\n",
      "  0%|          | 1/293 [00:00<00:35,  8.19it/s]"
     ]
    },
    {
     "name": "stdout",
     "output_type": "stream",
     "text": [
      "accuray: 0.26\n"
     ]
    },
    {
     "name": "stderr",
     "output_type": "stream",
     "text": [
      "100%|██████████| 293/293 [00:32<00:00,  8.92it/s]\n",
      "  9%|▊         | 108/1250 [00:00<00:02, 533.23it/s]"
     ]
    },
    {
     "name": "stdout",
     "output_type": "stream",
     "text": [
      "epoch_loss/batch_ct=0.060835269279778004\n",
      "tensor(0.1182, device='cuda:0', grad_fn=<SmoothL1LossBackward0>)\n"
     ]
    },
    {
     "name": "stderr",
     "output_type": "stream",
     "text": [
      "100%|██████████| 1250/1250 [00:02<00:00, 595.55it/s]\n",
      "  0%|          | 1/293 [00:00<00:36,  7.93it/s]"
     ]
    },
    {
     "name": "stdout",
     "output_type": "stream",
     "text": [
      "accuray: 0.2592\n"
     ]
    },
    {
     "name": "stderr",
     "output_type": "stream",
     "text": [
      "100%|██████████| 293/293 [00:32<00:00,  8.98it/s] \n",
      "  4%|▍         | 52/1250 [00:00<00:02, 514.39it/s]"
     ]
    },
    {
     "name": "stdout",
     "output_type": "stream",
     "text": [
      "epoch_loss/batch_ct=0.06071275624904841\n",
      "tensor(0.1192, device='cuda:0', grad_fn=<SmoothL1LossBackward0>)\n"
     ]
    },
    {
     "name": "stderr",
     "output_type": "stream",
     "text": [
      "100%|██████████| 1250/1250 [00:02<00:00, 590.76it/s]\n",
      "  0%|          | 1/293 [00:00<00:37,  7.69it/s]"
     ]
    },
    {
     "name": "stdout",
     "output_type": "stream",
     "text": [
      "accuray: 0.2638\n"
     ]
    },
    {
     "name": "stderr",
     "output_type": "stream",
     "text": [
      "100%|██████████| 293/293 [00:31<00:00,  9.25it/s] \n",
      "  4%|▎         | 46/1250 [00:00<00:02, 455.03it/s]"
     ]
    },
    {
     "name": "stdout",
     "output_type": "stream",
     "text": [
      "epoch_loss/batch_ct=0.060709735984721826\n",
      "tensor(0.1194, device='cuda:0', grad_fn=<SmoothL1LossBackward0>)\n"
     ]
    },
    {
     "name": "stderr",
     "output_type": "stream",
     "text": [
      "100%|██████████| 1250/1250 [00:02<00:00, 578.45it/s]\n",
      "  0%|          | 1/293 [00:00<00:35,  8.12it/s]"
     ]
    },
    {
     "name": "stdout",
     "output_type": "stream",
     "text": [
      "accuray: 0.2566\n"
     ]
    },
    {
     "name": "stderr",
     "output_type": "stream",
     "text": [
      "100%|██████████| 293/293 [00:32<00:00,  8.92it/s] \n",
      "  3%|▎         | 43/1250 [00:00<00:02, 425.35it/s]"
     ]
    },
    {
     "name": "stdout",
     "output_type": "stream",
     "text": [
      "epoch_loss/batch_ct=0.0607341273672997\n",
      "tensor(0.1213, device='cuda:0', grad_fn=<SmoothL1LossBackward0>)\n"
     ]
    },
    {
     "name": "stderr",
     "output_type": "stream",
     "text": [
      "100%|██████████| 1250/1250 [00:02<00:00, 578.18it/s]\n",
      "  0%|          | 1/293 [00:00<00:36,  8.06it/s]"
     ]
    },
    {
     "name": "stdout",
     "output_type": "stream",
     "text": [
      "accuray: 0.2607\n"
     ]
    },
    {
     "name": "stderr",
     "output_type": "stream",
     "text": [
      "100%|██████████| 293/293 [00:32<00:00,  8.98it/s] \n",
      "  4%|▍         | 49/1250 [00:00<00:02, 489.55it/s]"
     ]
    },
    {
     "name": "stdout",
     "output_type": "stream",
     "text": [
      "epoch_loss/batch_ct=0.0606883866712451\n",
      "tensor(0.1209, device='cuda:0', grad_fn=<SmoothL1LossBackward0>)\n"
     ]
    },
    {
     "name": "stderr",
     "output_type": "stream",
     "text": [
      "100%|██████████| 1250/1250 [00:02<00:00, 588.53it/s]\n",
      "  0%|          | 1/293 [00:00<00:35,  8.12it/s]"
     ]
    },
    {
     "name": "stdout",
     "output_type": "stream",
     "text": [
      "accuray: 0.2625\n"
     ]
    },
    {
     "name": "stderr",
     "output_type": "stream",
     "text": [
      "100%|██████████| 293/293 [00:31<00:00,  9.33it/s] \n",
      "  6%|▌         | 69/1250 [00:00<00:01, 689.37it/s]"
     ]
    },
    {
     "name": "stdout",
     "output_type": "stream",
     "text": [
      "epoch_loss/batch_ct=0.06068405792826698\n",
      "tensor(0.1203, device='cuda:0', grad_fn=<SmoothL1LossBackward0>)\n"
     ]
    },
    {
     "name": "stderr",
     "output_type": "stream",
     "text": [
      "100%|██████████| 1250/1250 [00:01<00:00, 659.38it/s]\n",
      "  0%|          | 1/293 [00:00<00:35,  8.26it/s]"
     ]
    },
    {
     "name": "stdout",
     "output_type": "stream",
     "text": [
      "accuray: 0.2601\n"
     ]
    },
    {
     "name": "stderr",
     "output_type": "stream",
     "text": [
      "100%|██████████| 293/293 [00:31<00:00,  9.41it/s] \n",
      "  4%|▎         | 46/1250 [00:00<00:02, 455.03it/s]"
     ]
    },
    {
     "name": "stdout",
     "output_type": "stream",
     "text": [
      "epoch_loss/batch_ct=0.06067264022394305\n",
      "tensor(0.1188, device='cuda:0', grad_fn=<SmoothL1LossBackward0>)\n"
     ]
    },
    {
     "name": "stderr",
     "output_type": "stream",
     "text": [
      "100%|██████████| 1250/1250 [00:02<00:00, 579.25it/s]\n",
      "  0%|          | 1/293 [00:00<00:37,  7.87it/s]"
     ]
    },
    {
     "name": "stdout",
     "output_type": "stream",
     "text": [
      "accuray: 0.2613\n"
     ]
    },
    {
     "name": "stderr",
     "output_type": "stream",
     "text": [
      "100%|██████████| 293/293 [00:32<00:00,  8.97it/s] \n",
      "  7%|▋         | 84/1250 [00:00<00:02, 420.67it/s]"
     ]
    },
    {
     "name": "stdout",
     "output_type": "stream",
     "text": [
      "epoch_loss/batch_ct=0.06065665924596408\n",
      "tensor(0.1203, device='cuda:0', grad_fn=<SmoothL1LossBackward0>)\n"
     ]
    },
    {
     "name": "stderr",
     "output_type": "stream",
     "text": [
      "100%|██████████| 1250/1250 [00:02<00:00, 573.93it/s]\n",
      "  0%|          | 1/293 [00:00<00:35,  8.26it/s]"
     ]
    },
    {
     "name": "stdout",
     "output_type": "stream",
     "text": [
      "accuray: 0.2611\n"
     ]
    },
    {
     "name": "stderr",
     "output_type": "stream",
     "text": [
      "100%|██████████| 293/293 [00:32<00:00,  8.92it/s] \n",
      "  7%|▋         | 91/1250 [00:00<00:02, 452.70it/s]"
     ]
    },
    {
     "name": "stdout",
     "output_type": "stream",
     "text": [
      "epoch_loss/batch_ct=0.06070341685757277\n",
      "tensor(0.1190, device='cuda:0', grad_fn=<SmoothL1LossBackward0>)\n"
     ]
    },
    {
     "name": "stderr",
     "output_type": "stream",
     "text": [
      "100%|██████████| 1250/1250 [00:02<00:00, 577.11it/s]\n",
      "  0%|          | 1/293 [00:00<00:35,  8.12it/s]"
     ]
    },
    {
     "name": "stdout",
     "output_type": "stream",
     "text": [
      "accuray: 0.2585\n"
     ]
    },
    {
     "name": "stderr",
     "output_type": "stream",
     "text": [
      "100%|██████████| 293/293 [00:31<00:00,  9.28it/s] \n",
      "  3%|▎         | 41/1250 [00:00<00:02, 405.57it/s]"
     ]
    },
    {
     "name": "stdout",
     "output_type": "stream",
     "text": [
      "epoch_loss/batch_ct=0.06062303662359241\n",
      "tensor(0.1187, device='cuda:0', grad_fn=<SmoothL1LossBackward0>)\n"
     ]
    },
    {
     "name": "stderr",
     "output_type": "stream",
     "text": [
      "100%|██████████| 1250/1250 [00:02<00:00, 574.19it/s]\n",
      "  0%|          | 1/293 [00:00<00:56,  5.15it/s]"
     ]
    },
    {
     "name": "stdout",
     "output_type": "stream",
     "text": [
      "accuray: 0.2591\n"
     ]
    },
    {
     "name": "stderr",
     "output_type": "stream",
     "text": [
      "100%|██████████| 293/293 [00:32<00:00,  9.03it/s] \n",
      "  3%|▎         | 43/1250 [00:00<00:02, 425.35it/s]"
     ]
    },
    {
     "name": "stdout",
     "output_type": "stream",
     "text": [
      "epoch_loss/batch_ct=0.060665383373224545\n",
      "tensor(0.1211, device='cuda:0', grad_fn=<SmoothL1LossBackward0>)\n"
     ]
    },
    {
     "name": "stderr",
     "output_type": "stream",
     "text": [
      "100%|██████████| 1250/1250 [00:02<00:00, 574.98it/s]\n",
      "  0%|          | 1/293 [00:00<00:35,  8.26it/s]"
     ]
    },
    {
     "name": "stdout",
     "output_type": "stream",
     "text": [
      "accuray: 0.2612\n"
     ]
    },
    {
     "name": "stderr",
     "output_type": "stream",
     "text": [
      "100%|██████████| 293/293 [00:32<00:00,  9.01it/s] \n",
      "  4%|▍         | 51/1250 [00:00<00:02, 509.54it/s]"
     ]
    },
    {
     "name": "stdout",
     "output_type": "stream",
     "text": [
      "epoch_loss/batch_ct=0.06062338745132798\n",
      "tensor(0.1203, device='cuda:0', grad_fn=<SmoothL1LossBackward0>)\n"
     ]
    },
    {
     "name": "stderr",
     "output_type": "stream",
     "text": [
      "100%|██████████| 1250/1250 [00:02<00:00, 586.05it/s]\n",
      "  0%|          | 1/293 [00:00<00:35,  8.19it/s]"
     ]
    },
    {
     "name": "stdout",
     "output_type": "stream",
     "text": [
      "accuray: 0.2587\n"
     ]
    },
    {
     "name": "stderr",
     "output_type": "stream",
     "text": [
      "100%|██████████| 293/293 [00:31<00:00,  9.35it/s] \n",
      "  3%|▎         | 41/1250 [00:00<00:02, 409.63it/s]"
     ]
    },
    {
     "name": "stdout",
     "output_type": "stream",
     "text": [
      "epoch_loss/batch_ct=0.06063456360309843\n",
      "tensor(0.1191, device='cuda:0', grad_fn=<SmoothL1LossBackward0>)\n"
     ]
    },
    {
     "name": "stderr",
     "output_type": "stream",
     "text": [
      "100%|██████████| 1250/1250 [00:02<00:00, 576.31it/s]\n",
      "  0%|          | 1/293 [00:00<00:35,  8.33it/s]"
     ]
    },
    {
     "name": "stdout",
     "output_type": "stream",
     "text": [
      "accuray: 0.2589\n"
     ]
    },
    {
     "name": "stderr",
     "output_type": "stream",
     "text": [
      "100%|██████████| 293/293 [00:32<00:00,  9.00it/s] \n",
      "  4%|▍         | 49/1250 [00:00<00:02, 484.71it/s]"
     ]
    },
    {
     "name": "stdout",
     "output_type": "stream",
     "text": [
      "epoch_loss/batch_ct=0.060552532355936745\n",
      "tensor(0.1185, device='cuda:0', grad_fn=<SmoothL1LossBackward0>)\n"
     ]
    },
    {
     "name": "stderr",
     "output_type": "stream",
     "text": [
      "100%|██████████| 1250/1250 [00:02<00:00, 583.31it/s]\n",
      "  0%|          | 1/293 [00:00<00:37,  7.74it/s]"
     ]
    },
    {
     "name": "stdout",
     "output_type": "stream",
     "text": [
      "accuray: 0.2556\n"
     ]
    },
    {
     "name": "stderr",
     "output_type": "stream",
     "text": [
      "100%|██████████| 293/293 [00:32<00:00,  8.96it/s] \n",
      "  5%|▍         | 59/1250 [00:00<00:02, 583.63it/s]"
     ]
    },
    {
     "name": "stdout",
     "output_type": "stream",
     "text": [
      "epoch_loss/batch_ct=0.06063071157901533\n",
      "tensor(0.1171, device='cuda:0', grad_fn=<SmoothL1LossBackward0>)\n"
     ]
    },
    {
     "name": "stderr",
     "output_type": "stream",
     "text": [
      "100%|██████████| 1250/1250 [00:02<00:00, 600.99it/s]\n",
      "  0%|          | 1/293 [00:00<00:35,  8.12it/s]"
     ]
    },
    {
     "name": "stdout",
     "output_type": "stream",
     "text": [
      "accuray: 0.2618\n"
     ]
    },
    {
     "name": "stderr",
     "output_type": "stream",
     "text": [
      "100%|██████████| 293/293 [00:30<00:00,  9.46it/s] \n",
      " 10%|▉         | 121/1250 [00:00<00:01, 601.79it/s]"
     ]
    },
    {
     "name": "stdout",
     "output_type": "stream",
     "text": [
      "epoch_loss/batch_ct=0.06059894897043705\n",
      "tensor(0.1187, device='cuda:0', grad_fn=<SmoothL1LossBackward0>)\n"
     ]
    },
    {
     "name": "stderr",
     "output_type": "stream",
     "text": [
      "100%|██████████| 1250/1250 [00:02<00:00, 606.83it/s]\n",
      "  0%|          | 1/293 [00:00<00:35,  8.26it/s]"
     ]
    },
    {
     "name": "stdout",
     "output_type": "stream",
     "text": [
      "accuray: 0.2558\n"
     ]
    },
    {
     "name": "stderr",
     "output_type": "stream",
     "text": [
      "100%|██████████| 293/293 [00:32<00:00,  9.03it/s] \n",
      "  7%|▋         | 90/1250 [00:00<00:02, 452.22it/s]"
     ]
    },
    {
     "name": "stdout",
     "output_type": "stream",
     "text": [
      "epoch_loss/batch_ct=0.060607504025692975\n",
      "tensor(0.1203, device='cuda:0', grad_fn=<SmoothL1LossBackward0>)\n"
     ]
    },
    {
     "name": "stderr",
     "output_type": "stream",
     "text": [
      "100%|██████████| 1250/1250 [00:02<00:00, 581.68it/s]\n",
      "  0%|          | 1/293 [00:00<00:35,  8.26it/s]"
     ]
    },
    {
     "name": "stdout",
     "output_type": "stream",
     "text": [
      "accuray: 0.2615\n"
     ]
    },
    {
     "name": "stderr",
     "output_type": "stream",
     "text": [
      "100%|██████████| 293/293 [00:32<00:00,  9.03it/s] \n",
      "  7%|▋         | 85/1250 [00:00<00:02, 427.26it/s]"
     ]
    },
    {
     "name": "stdout",
     "output_type": "stream",
     "text": [
      "epoch_loss/batch_ct=0.060637602198218545\n",
      "tensor(0.1198, device='cuda:0', grad_fn=<SmoothL1LossBackward0>)\n"
     ]
    },
    {
     "name": "stderr",
     "output_type": "stream",
     "text": [
      "100%|██████████| 1250/1250 [00:02<00:00, 572.09it/s]\n",
      "  0%|          | 1/293 [00:00<00:35,  8.33it/s]"
     ]
    },
    {
     "name": "stdout",
     "output_type": "stream",
     "text": [
      "accuray: 0.2599\n"
     ]
    },
    {
     "name": "stderr",
     "output_type": "stream",
     "text": [
      "100%|██████████| 293/293 [00:31<00:00,  9.26it/s] \n",
      "  7%|▋         | 84/1250 [00:00<00:02, 410.68it/s]"
     ]
    },
    {
     "name": "stdout",
     "output_type": "stream",
     "text": [
      "epoch_loss/batch_ct=0.06055189042337357\n",
      "tensor(0.1207, device='cuda:0', grad_fn=<SmoothL1LossBackward0>)\n"
     ]
    },
    {
     "name": "stderr",
     "output_type": "stream",
     "text": [
      "100%|██████████| 1250/1250 [00:02<00:00, 575.25it/s]\n",
      "  0%|          | 1/293 [00:00<00:36,  7.99it/s]"
     ]
    },
    {
     "name": "stdout",
     "output_type": "stream",
     "text": [
      "accuray: 0.2609\n"
     ]
    },
    {
     "name": "stderr",
     "output_type": "stream",
     "text": [
      "100%|██████████| 293/293 [00:32<00:00,  8.94it/s] \n",
      "  4%|▎         | 45/1250 [00:00<00:02, 445.14it/s]"
     ]
    },
    {
     "name": "stdout",
     "output_type": "stream",
     "text": [
      "epoch_loss/batch_ct=0.06057291409917294\n",
      "tensor(0.1199, device='cuda:0', grad_fn=<SmoothL1LossBackward0>)\n"
     ]
    },
    {
     "name": "stderr",
     "output_type": "stream",
     "text": [
      "100%|██████████| 1250/1250 [00:02<00:00, 582.76it/s]\n",
      "  0%|          | 1/293 [00:00<00:35,  8.19it/s]"
     ]
    },
    {
     "name": "stdout",
     "output_type": "stream",
     "text": [
      "accuray: 0.2583\n"
     ]
    },
    {
     "name": "stderr",
     "output_type": "stream",
     "text": [
      "100%|██████████| 293/293 [00:32<00:00,  9.00it/s]\n",
      "  5%|▌         | 68/1250 [00:00<00:01, 679.38it/s]"
     ]
    },
    {
     "name": "stdout",
     "output_type": "stream",
     "text": [
      "epoch_loss/batch_ct=0.060627830613936694\n",
      "tensor(0.1215, device='cuda:0', grad_fn=<SmoothL1LossBackward0>)\n"
     ]
    },
    {
     "name": "stderr",
     "output_type": "stream",
     "text": [
      "100%|██████████| 1250/1250 [00:01<00:00, 663.94it/s]\n",
      "  0%|          | 1/293 [00:00<00:35,  8.33it/s]"
     ]
    },
    {
     "name": "stdout",
     "output_type": "stream",
     "text": [
      "accuray: 0.2568\n"
     ]
    },
    {
     "name": "stderr",
     "output_type": "stream",
     "text": [
      "100%|██████████| 293/293 [00:31<00:00,  9.28it/s] \n",
      "  7%|▋         | 84/1250 [00:00<00:02, 417.90it/s]"
     ]
    },
    {
     "name": "stdout",
     "output_type": "stream",
     "text": [
      "epoch_loss/batch_ct=0.0606895928965911\n",
      "tensor(0.1189, device='cuda:0', grad_fn=<SmoothL1LossBackward0>)\n"
     ]
    },
    {
     "name": "stderr",
     "output_type": "stream",
     "text": [
      "100%|██████████| 1250/1250 [00:02<00:00, 577.11it/s]\n",
      "  0%|          | 1/293 [00:00<00:36,  7.93it/s]"
     ]
    },
    {
     "name": "stdout",
     "output_type": "stream",
     "text": [
      "accuray: 0.26\n"
     ]
    },
    {
     "name": "stderr",
     "output_type": "stream",
     "text": [
      "100%|██████████| 293/293 [00:32<00:00,  9.03it/s] \n",
      "  3%|▎         | 42/1250 [00:00<00:02, 419.62it/s]"
     ]
    },
    {
     "name": "stdout",
     "output_type": "stream",
     "text": [
      "epoch_loss/batch_ct=0.06062951398688176\n",
      "tensor(0.1202, device='cuda:0', grad_fn=<SmoothL1LossBackward0>)\n"
     ]
    },
    {
     "name": "stderr",
     "output_type": "stream",
     "text": [
      "100%|██████████| 1250/1250 [00:02<00:00, 574.19it/s]\n",
      "  0%|          | 1/293 [00:00<00:35,  8.19it/s]"
     ]
    },
    {
     "name": "stdout",
     "output_type": "stream",
     "text": [
      "accuray: 0.2607\n"
     ]
    },
    {
     "name": "stderr",
     "output_type": "stream",
     "text": [
      "100%|██████████| 293/293 [00:32<00:00,  8.99it/s] \n",
      "  4%|▎         | 44/1250 [00:00<00:02, 439.60it/s]"
     ]
    },
    {
     "name": "stdout",
     "output_type": "stream",
     "text": [
      "epoch_loss/batch_ct=0.06063055545682945\n",
      "tensor(0.1207, device='cuda:0', grad_fn=<SmoothL1LossBackward0>)\n"
     ]
    },
    {
     "name": "stderr",
     "output_type": "stream",
     "text": [
      "100%|██████████| 1250/1250 [00:02<00:00, 578.45it/s]\n",
      "  0%|          | 1/293 [00:00<00:35,  8.12it/s]"
     ]
    },
    {
     "name": "stdout",
     "output_type": "stream",
     "text": [
      "accuray: 0.2629\n"
     ]
    },
    {
     "name": "stderr",
     "output_type": "stream",
     "text": [
      "100%|██████████| 293/293 [00:31<00:00,  9.24it/s] \n",
      "  7%|▋         | 89/1250 [00:00<00:02, 445.34it/s]"
     ]
    },
    {
     "name": "stdout",
     "output_type": "stream",
     "text": [
      "epoch_loss/batch_ct=0.060613901339589604\n",
      "tensor(0.1203, device='cuda:0', grad_fn=<SmoothL1LossBackward0>)\n"
     ]
    },
    {
     "name": "stderr",
     "output_type": "stream",
     "text": [
      "100%|██████████| 1250/1250 [00:02<00:00, 576.58it/s]\n",
      "  0%|          | 1/293 [00:00<00:36,  8.06it/s]"
     ]
    },
    {
     "name": "stdout",
     "output_type": "stream",
     "text": [
      "accuray: 0.2606\n"
     ]
    },
    {
     "name": "stderr",
     "output_type": "stream",
     "text": [
      "100%|██████████| 293/293 [00:32<00:00,  8.90it/s] \n",
      "  7%|▋         | 90/1250 [00:00<00:02, 445.85it/s]"
     ]
    },
    {
     "name": "stdout",
     "output_type": "stream",
     "text": [
      "epoch_loss/batch_ct=0.06058673022521867\n",
      "tensor(0.1212, device='cuda:0', grad_fn=<SmoothL1LossBackward0>)\n"
     ]
    },
    {
     "name": "stderr",
     "output_type": "stream",
     "text": [
      "100%|██████████| 1250/1250 [00:02<00:00, 577.38it/s]\n",
      "  0%|          | 1/293 [00:00<00:34,  8.40it/s]"
     ]
    },
    {
     "name": "stdout",
     "output_type": "stream",
     "text": [
      "accuray: 0.2635\n"
     ]
    },
    {
     "name": "stderr",
     "output_type": "stream",
     "text": [
      "100%|██████████| 293/293 [00:32<00:00,  8.90it/s] \n",
      "  8%|▊         | 103/1250 [00:00<00:02, 515.41it/s]"
     ]
    },
    {
     "name": "stdout",
     "output_type": "stream",
     "text": [
      "epoch_loss/batch_ct=0.060579569492903024\n",
      "tensor(0.1220, device='cuda:0', grad_fn=<SmoothL1LossBackward0>)\n"
     ]
    },
    {
     "name": "stderr",
     "output_type": "stream",
     "text": [
      "100%|██████████| 1250/1250 [00:02<00:00, 591.88it/s]\n",
      "  0%|          | 1/293 [00:00<00:36,  8.06it/s]"
     ]
    },
    {
     "name": "stdout",
     "output_type": "stream",
     "text": [
      "accuray: 0.2632\n"
     ]
    },
    {
     "name": "stderr",
     "output_type": "stream",
     "text": [
      "100%|██████████| 293/293 [00:31<00:00,  9.40it/s] \n",
      "  4%|▍         | 52/1250 [00:00<00:02, 519.53it/s]"
     ]
    },
    {
     "name": "stdout",
     "output_type": "stream",
     "text": [
      "epoch_loss/batch_ct=0.06058135779485816\n",
      "tensor(0.1186, device='cuda:0', grad_fn=<SmoothL1LossBackward0>)\n"
     ]
    },
    {
     "name": "stderr",
     "output_type": "stream",
     "text": [
      "100%|██████████| 1250/1250 [00:02<00:00, 590.20it/s]\n",
      "  0%|          | 1/293 [00:00<00:36,  7.93it/s]"
     ]
    },
    {
     "name": "stdout",
     "output_type": "stream",
     "text": [
      "accuray: 0.2615\n"
     ]
    },
    {
     "name": "stderr",
     "output_type": "stream",
     "text": [
      "100%|██████████| 293/293 [00:32<00:00,  8.91it/s] \n",
      " 11%|█         | 138/1250 [00:00<00:01, 685.34it/s]"
     ]
    },
    {
     "name": "stdout",
     "output_type": "stream",
     "text": [
      "epoch_loss/batch_ct=0.06069816165559348\n",
      "tensor(0.1193, device='cuda:0', grad_fn=<SmoothL1LossBackward0>)\n"
     ]
    },
    {
     "name": "stderr",
     "output_type": "stream",
     "text": [
      "100%|██████████| 1250/1250 [00:01<00:00, 675.06it/s]\n",
      "  0%|          | 1/293 [00:00<00:33,  8.61it/s]"
     ]
    },
    {
     "name": "stdout",
     "output_type": "stream",
     "text": [
      "accuray: 0.2604\n"
     ]
    },
    {
     "name": "stderr",
     "output_type": "stream",
     "text": [
      "100%|██████████| 293/293 [00:32<00:00,  8.97it/s] \n",
      "  4%|▍         | 50/1250 [00:00<00:02, 494.60it/s]"
     ]
    },
    {
     "name": "stdout",
     "output_type": "stream",
     "text": [
      "epoch_loss/batch_ct=0.060632685495037884\n",
      "tensor(0.1197, device='cuda:0', grad_fn=<SmoothL1LossBackward0>)\n"
     ]
    },
    {
     "name": "stderr",
     "output_type": "stream",
     "text": [
      "100%|██████████| 1250/1250 [00:02<00:00, 587.70it/s]\n",
      "  0%|          | 1/293 [00:00<00:35,  8.12it/s]"
     ]
    },
    {
     "name": "stdout",
     "output_type": "stream",
     "text": [
      "accuray: 0.2593\n"
     ]
    },
    {
     "name": "stderr",
     "output_type": "stream",
     "text": [
      "100%|██████████| 293/293 [00:31<00:00,  9.30it/s] \n",
      "  4%|▍         | 52/1250 [00:00<00:02, 519.53it/s]"
     ]
    },
    {
     "name": "stdout",
     "output_type": "stream",
     "text": [
      "epoch_loss/batch_ct=0.060617278477857035\n",
      "tensor(0.1222, device='cuda:0', grad_fn=<SmoothL1LossBackward0>)\n"
     ]
    },
    {
     "name": "stderr",
     "output_type": "stream",
     "text": [
      "100%|██████████| 1250/1250 [00:02<00:00, 591.04it/s]\n",
      "  0%|          | 1/293 [00:00<00:35,  8.19it/s]"
     ]
    },
    {
     "name": "stdout",
     "output_type": "stream",
     "text": [
      "accuray: 0.267\n"
     ]
    },
    {
     "name": "stderr",
     "output_type": "stream",
     "text": [
      "100%|██████████| 293/293 [00:32<00:00,  8.95it/s] \n",
      "  3%|▎         | 41/1250 [00:00<00:02, 409.63it/s]"
     ]
    },
    {
     "name": "stdout",
     "output_type": "stream",
     "text": [
      "epoch_loss/batch_ct=0.06063929735313332\n",
      "tensor(0.1212, device='cuda:0', grad_fn=<SmoothL1LossBackward0>)\n"
     ]
    },
    {
     "name": "stderr",
     "output_type": "stream",
     "text": [
      "100%|██████████| 1250/1250 [00:02<00:00, 581.68it/s]\n",
      "  0%|          | 1/293 [00:00<00:35,  8.26it/s]"
     ]
    },
    {
     "name": "stdout",
     "output_type": "stream",
     "text": [
      "accuray: 0.2637\n"
     ]
    },
    {
     "name": "stderr",
     "output_type": "stream",
     "text": [
      "100%|██████████| 293/293 [00:32<00:00,  9.06it/s] \n",
      "  4%|▍         | 49/1250 [00:00<00:02, 484.71it/s]"
     ]
    },
    {
     "name": "stdout",
     "output_type": "stream",
     "text": [
      "epoch_loss/batch_ct=0.06064611357001085\n",
      "tensor(0.1219, device='cuda:0', grad_fn=<SmoothL1LossBackward0>)\n"
     ]
    },
    {
     "name": "stderr",
     "output_type": "stream",
     "text": [
      "100%|██████████| 1250/1250 [00:02<00:00, 581.95it/s]\n",
      "  0%|          | 1/293 [00:00<00:36,  7.99it/s]"
     ]
    },
    {
     "name": "stdout",
     "output_type": "stream",
     "text": [
      "accuray: 0.2628\n"
     ]
    },
    {
     "name": "stderr",
     "output_type": "stream",
     "text": [
      "100%|██████████| 293/293 [00:31<00:00,  9.40it/s] \n",
      "  4%|▎         | 46/1250 [00:00<00:02, 459.58it/s]"
     ]
    },
    {
     "name": "stdout",
     "output_type": "stream",
     "text": [
      "epoch_loss/batch_ct=0.06066076634895234\n",
      "tensor(0.1212, device='cuda:0', grad_fn=<SmoothL1LossBackward0>)\n"
     ]
    },
    {
     "name": "stderr",
     "output_type": "stream",
     "text": [
      "100%|██████████| 1250/1250 [00:02<00:00, 580.60it/s]\n",
      "  0%|          | 1/293 [00:00<00:37,  7.74it/s]"
     ]
    },
    {
     "name": "stdout",
     "output_type": "stream",
     "text": [
      "accuray: 0.2599\n"
     ]
    },
    {
     "name": "stderr",
     "output_type": "stream",
     "text": [
      "100%|██████████| 293/293 [00:32<00:00,  9.01it/s]\n",
      "  7%|▋         | 90/1250 [00:00<00:02, 437.50it/s]"
     ]
    },
    {
     "name": "stdout",
     "output_type": "stream",
     "text": [
      "epoch_loss/batch_ct=0.060576314564853434\n",
      "tensor(0.1196, device='cuda:0', grad_fn=<SmoothL1LossBackward0>)\n"
     ]
    },
    {
     "name": "stderr",
     "output_type": "stream",
     "text": [
      "100%|██████████| 1250/1250 [00:02<00:00, 578.98it/s]\n",
      "  0%|          | 1/293 [00:00<00:35,  8.26it/s]"
     ]
    },
    {
     "name": "stdout",
     "output_type": "stream",
     "text": [
      "accuray: 0.2615\n"
     ]
    },
    {
     "name": "stderr",
     "output_type": "stream",
     "text": [
      "100%|██████████| 293/293 [00:31<00:00,  9.34it/s] \n",
      "  6%|▌         | 69/1250 [00:00<00:01, 689.37it/s]"
     ]
    },
    {
     "name": "stdout",
     "output_type": "stream",
     "text": [
      "epoch_loss/batch_ct=0.060537502509615725\n",
      "tensor(0.1198, device='cuda:0', grad_fn=<SmoothL1LossBackward0>)\n"
     ]
    },
    {
     "name": "stderr",
     "output_type": "stream",
     "text": [
      "100%|██████████| 1250/1250 [00:01<00:00, 676.16it/s]\n",
      "  0%|          | 1/293 [00:00<00:35,  8.26it/s]"
     ]
    },
    {
     "name": "stdout",
     "output_type": "stream",
     "text": [
      "accuray: 0.2631\n"
     ]
    },
    {
     "name": "stderr",
     "output_type": "stream",
     "text": [
      "100%|██████████| 293/293 [00:31<00:00,  9.32it/s] \n",
      "  7%|▋         | 91/1250 [00:00<00:02, 446.46it/s]"
     ]
    },
    {
     "name": "stdout",
     "output_type": "stream",
     "text": [
      "epoch_loss/batch_ct=0.06061183062515089\n",
      "tensor(0.1203, device='cuda:0', grad_fn=<SmoothL1LossBackward0>)\n"
     ]
    },
    {
     "name": "stderr",
     "output_type": "stream",
     "text": [
      "100%|██████████| 1250/1250 [00:02<00:00, 578.45it/s]\n",
      "  0%|          | 1/293 [00:00<00:36,  7.93it/s]"
     ]
    },
    {
     "name": "stdout",
     "output_type": "stream",
     "text": [
      "accuray: 0.2599\n"
     ]
    },
    {
     "name": "stderr",
     "output_type": "stream",
     "text": [
      "100%|██████████| 293/293 [00:32<00:00,  8.98it/s] \n",
      "  4%|▍         | 52/1250 [00:00<00:02, 519.53it/s]"
     ]
    },
    {
     "name": "stdout",
     "output_type": "stream",
     "text": [
      "epoch_loss/batch_ct=0.06053080603421208\n",
      "tensor(0.1209, device='cuda:0', grad_fn=<SmoothL1LossBackward0>)\n"
     ]
    },
    {
     "name": "stderr",
     "output_type": "stream",
     "text": [
      "100%|██████████| 1250/1250 [00:02<00:00, 591.88it/s]\n",
      "  0%|          | 1/293 [00:00<00:36,  7.99it/s]"
     ]
    },
    {
     "name": "stdout",
     "output_type": "stream",
     "text": [
      "accuray: 0.2644\n"
     ]
    },
    {
     "name": "stderr",
     "output_type": "stream",
     "text": [
      "100%|██████████| 293/293 [00:32<00:00,  8.89it/s] \n",
      "  4%|▍         | 50/1250 [00:00<00:02, 499.55it/s]"
     ]
    },
    {
     "name": "stdout",
     "output_type": "stream",
     "text": [
      "epoch_loss/batch_ct=0.06046570386619322\n",
      "tensor(0.1199, device='cuda:0', grad_fn=<SmoothL1LossBackward0>)\n"
     ]
    },
    {
     "name": "stderr",
     "output_type": "stream",
     "text": [
      "100%|██████████| 1250/1250 [00:02<00:00, 589.64it/s]\n",
      "  0%|          | 1/293 [00:00<00:36,  7.93it/s]"
     ]
    },
    {
     "name": "stdout",
     "output_type": "stream",
     "text": [
      "accuray: 0.2642\n"
     ]
    },
    {
     "name": "stderr",
     "output_type": "stream",
     "text": [
      "100%|██████████| 293/293 [00:31<00:00,  9.40it/s] \n",
      "  3%|▎         | 41/1250 [00:00<00:02, 405.57it/s]"
     ]
    },
    {
     "name": "stdout",
     "output_type": "stream",
     "text": [
      "epoch_loss/batch_ct=0.06064982746269495\n",
      "tensor(0.1213, device='cuda:0', grad_fn=<SmoothL1LossBackward0>)\n"
     ]
    },
    {
     "name": "stderr",
     "output_type": "stream",
     "text": [
      "100%|██████████| 1250/1250 [00:02<00:00, 578.98it/s]\n",
      "  0%|          | 1/293 [00:00<00:35,  8.26it/s]"
     ]
    },
    {
     "name": "stdout",
     "output_type": "stream",
     "text": [
      "accuray: 0.2626\n"
     ]
    },
    {
     "name": "stderr",
     "output_type": "stream",
     "text": [
      "100%|██████████| 293/293 [00:32<00:00,  9.03it/s] \n",
      "  8%|▊         | 96/1250 [00:00<00:02, 479.35it/s]"
     ]
    },
    {
     "name": "stdout",
     "output_type": "stream",
     "text": [
      "epoch_loss/batch_ct=0.0605804535249869\n",
      "tensor(0.1206, device='cuda:0', grad_fn=<SmoothL1LossBackward0>)\n"
     ]
    },
    {
     "name": "stderr",
     "output_type": "stream",
     "text": [
      "100%|██████████| 1250/1250 [00:02<00:00, 581.41it/s]\n",
      "  0%|          | 1/293 [00:00<00:35,  8.26it/s]"
     ]
    },
    {
     "name": "stdout",
     "output_type": "stream",
     "text": [
      "accuray: 0.2635\n"
     ]
    },
    {
     "name": "stderr",
     "output_type": "stream",
     "text": [
      "100%|██████████| 293/293 [00:31<00:00,  9.32it/s] \n",
      "  4%|▍         | 47/1250 [00:00<00:02, 464.92it/s]"
     ]
    },
    {
     "name": "stdout",
     "output_type": "stream",
     "text": [
      "epoch_loss/batch_ct=0.06054616148864466\n",
      "tensor(0.1206, device='cuda:0', grad_fn=<SmoothL1LossBackward0>)\n"
     ]
    },
    {
     "name": "stderr",
     "output_type": "stream",
     "text": [
      "100%|██████████| 1250/1250 [00:02<00:00, 583.85it/s]\n",
      "  0%|          | 1/293 [00:00<00:36,  7.99it/s]"
     ]
    },
    {
     "name": "stdout",
     "output_type": "stream",
     "text": [
      "accuray: 0.2619\n"
     ]
    },
    {
     "name": "stderr",
     "output_type": "stream",
     "text": [
      "100%|██████████| 293/293 [00:31<00:00,  9.36it/s] \n",
      "  5%|▌         | 68/1250 [00:00<00:01, 679.38it/s]"
     ]
    },
    {
     "name": "stdout",
     "output_type": "stream",
     "text": [
      "epoch_loss/batch_ct=0.060627572593234834\n",
      "tensor(0.1212, device='cuda:0', grad_fn=<SmoothL1LossBackward0>)\n"
     ]
    },
    {
     "name": "stderr",
     "output_type": "stream",
     "text": [
      "100%|██████████| 1250/1250 [00:01<00:00, 642.75it/s]\n",
      "  0%|          | 1/293 [00:00<00:34,  8.47it/s]"
     ]
    },
    {
     "name": "stdout",
     "output_type": "stream",
     "text": [
      "accuray: 0.2649\n"
     ]
    },
    {
     "name": "stderr",
     "output_type": "stream",
     "text": [
      "100%|██████████| 293/293 [00:32<00:00,  8.94it/s] \n",
      "  9%|▉         | 110/1250 [00:00<00:02, 533.80it/s]"
     ]
    },
    {
     "name": "stdout",
     "output_type": "stream",
     "text": [
      "epoch_loss/batch_ct=0.060566428605289685\n",
      "tensor(0.1179, device='cuda:0', grad_fn=<SmoothL1LossBackward0>)\n"
     ]
    },
    {
     "name": "stderr",
     "output_type": "stream",
     "text": [
      "100%|██████████| 1250/1250 [00:02<00:00, 596.97it/s]\n",
      "  0%|          | 1/293 [00:00<00:36,  7.93it/s]"
     ]
    },
    {
     "name": "stdout",
     "output_type": "stream",
     "text": [
      "accuray: 0.2606\n"
     ]
    },
    {
     "name": "stderr",
     "output_type": "stream",
     "text": [
      "100%|██████████| 293/293 [00:33<00:00,  8.87it/s] \n",
      "  4%|▎         | 44/1250 [00:00<00:02, 430.98it/s]"
     ]
    },
    {
     "name": "stdout",
     "output_type": "stream",
     "text": [
      "epoch_loss/batch_ct=0.06060592720787677\n",
      "tensor(0.1193, device='cuda:0', grad_fn=<SmoothL1LossBackward0>)\n"
     ]
    },
    {
     "name": "stderr",
     "output_type": "stream",
     "text": [
      "100%|██████████| 1250/1250 [00:02<00:00, 578.98it/s]\n",
      "  0%|          | 1/293 [00:00<00:36,  8.06it/s]"
     ]
    },
    {
     "name": "stdout",
     "output_type": "stream",
     "text": [
      "accuray: 0.2623\n"
     ]
    },
    {
     "name": "stderr",
     "output_type": "stream",
     "text": [
      "100%|██████████| 293/293 [00:31<00:00,  9.22it/s] \n",
      "  4%|▎         | 44/1250 [00:00<00:02, 435.24it/s]"
     ]
    },
    {
     "name": "stdout",
     "output_type": "stream",
     "text": [
      "epoch_loss/batch_ct=0.060550542016114504\n",
      "tensor(0.1209, device='cuda:0', grad_fn=<SmoothL1LossBackward0>)\n"
     ]
    },
    {
     "name": "stderr",
     "output_type": "stream",
     "text": [
      "100%|██████████| 1250/1250 [00:02<00:00, 579.52it/s]\n",
      "  0%|          | 1/293 [00:00<00:36,  7.93it/s]"
     ]
    },
    {
     "name": "stdout",
     "output_type": "stream",
     "text": [
      "accuray: 0.2589\n"
     ]
    },
    {
     "name": "stderr",
     "output_type": "stream",
     "text": [
      "100%|██████████| 293/293 [00:32<00:00,  8.94it/s]\n",
      "  9%|▉         | 111/1250 [00:00<00:02, 558.90it/s]"
     ]
    },
    {
     "name": "stdout",
     "output_type": "stream",
     "text": [
      "epoch_loss/batch_ct=0.06060960117195334\n",
      "tensor(0.1179, device='cuda:0', grad_fn=<SmoothL1LossBackward0>)\n"
     ]
    },
    {
     "name": "stderr",
     "output_type": "stream",
     "text": [
      "100%|██████████| 1250/1250 [00:02<00:00, 599.84it/s]\n",
      "  0%|          | 1/293 [00:00<00:49,  5.95it/s]"
     ]
    },
    {
     "name": "stdout",
     "output_type": "stream",
     "text": [
      "accuray: 0.2623\n"
     ]
    },
    {
     "name": "stderr",
     "output_type": "stream",
     "text": [
      "100%|██████████| 293/293 [00:31<00:00,  9.30it/s] \n",
      "  7%|▋         | 90/1250 [00:00<00:02, 453.12it/s]"
     ]
    },
    {
     "name": "stdout",
     "output_type": "stream",
     "text": [
      "epoch_loss/batch_ct=0.06050741764169837\n",
      "tensor(0.1204, device='cuda:0', grad_fn=<SmoothL1LossBackward0>)\n"
     ]
    },
    {
     "name": "stderr",
     "output_type": "stream",
     "text": [
      "100%|██████████| 1250/1250 [00:02<00:00, 573.14it/s]\n",
      "  0%|          | 1/293 [00:00<00:40,  7.29it/s]"
     ]
    },
    {
     "name": "stdout",
     "output_type": "stream",
     "text": [
      "accuray: 0.263\n"
     ]
    },
    {
     "name": "stderr",
     "output_type": "stream",
     "text": [
      "100%|██████████| 293/293 [00:31<00:00,  9.39it/s] \n",
      "  7%|▋         | 86/1250 [00:00<00:02, 430.60it/s]"
     ]
    },
    {
     "name": "stdout",
     "output_type": "stream",
     "text": [
      "epoch_loss/batch_ct=0.060538788370433305\n",
      "tensor(0.1208, device='cuda:0', grad_fn=<SmoothL1LossBackward0>)\n"
     ]
    },
    {
     "name": "stderr",
     "output_type": "stream",
     "text": [
      "100%|██████████| 1250/1250 [00:02<00:00, 578.98it/s]\n",
      "  0%|          | 1/293 [00:00<00:35,  8.12it/s]"
     ]
    },
    {
     "name": "stdout",
     "output_type": "stream",
     "text": [
      "accuray: 0.2601\n"
     ]
    },
    {
     "name": "stderr",
     "output_type": "stream",
     "text": [
      "100%|██████████| 293/293 [00:32<00:00,  8.93it/s] \n",
      "  4%|▎         | 44/1250 [00:00<00:02, 439.60it/s]"
     ]
    },
    {
     "name": "stdout",
     "output_type": "stream",
     "text": [
      "epoch_loss/batch_ct=0.060588229905873064\n",
      "tensor(0.1210, device='cuda:0', grad_fn=<SmoothL1LossBackward0>)\n"
     ]
    },
    {
     "name": "stderr",
     "output_type": "stream",
     "text": [
      "100%|██████████| 1250/1250 [00:02<00:00, 580.33it/s]\n",
      "  0%|          | 1/293 [00:00<00:35,  8.19it/s]"
     ]
    },
    {
     "name": "stdout",
     "output_type": "stream",
     "text": [
      "accuray: 0.2628\n"
     ]
    },
    {
     "name": "stderr",
     "output_type": "stream",
     "text": [
      "100%|██████████| 293/293 [00:31<00:00,  9.27it/s] \n",
      " 11%|█         | 136/1250 [00:00<00:01, 675.41it/s]"
     ]
    },
    {
     "name": "stdout",
     "output_type": "stream",
     "text": [
      "epoch_loss/batch_ct=0.060513078885537294\n",
      "tensor(0.1208, device='cuda:0', grad_fn=<SmoothL1LossBackward0>)\n"
     ]
    },
    {
     "name": "stderr",
     "output_type": "stream",
     "text": [
      "100%|██████████| 1250/1250 [00:01<00:00, 673.24it/s]\n",
      "  0%|          | 1/293 [00:00<00:33,  8.61it/s]"
     ]
    },
    {
     "name": "stdout",
     "output_type": "stream",
     "text": [
      "accuray: 0.2664\n"
     ]
    },
    {
     "name": "stderr",
     "output_type": "stream",
     "text": [
      "100%|██████████| 293/293 [00:32<00:00,  8.91it/s] \n",
      "  9%|▉         | 111/1250 [00:00<00:02, 555.11it/s]"
     ]
    },
    {
     "name": "stdout",
     "output_type": "stream",
     "text": [
      "epoch_loss/batch_ct=0.0605426567887503\n",
      "tensor(0.1189, device='cuda:0', grad_fn=<SmoothL1LossBackward0>)\n"
     ]
    },
    {
     "name": "stderr",
     "output_type": "stream",
     "text": [
      "100%|██████████| 1250/1250 [00:02<00:00, 594.70it/s]\n",
      "  0%|          | 1/293 [00:00<00:37,  7.87it/s]"
     ]
    },
    {
     "name": "stdout",
     "output_type": "stream",
     "text": [
      "accuray: 0.265\n"
     ]
    },
    {
     "name": "stderr",
     "output_type": "stream",
     "text": [
      "100%|██████████| 293/293 [00:31<00:00,  9.29it/s] \n",
      "  6%|▌         | 69/1250 [00:00<00:01, 689.37it/s]"
     ]
    },
    {
     "name": "stdout",
     "output_type": "stream",
     "text": [
      "epoch_loss/batch_ct=0.060558477254022684\n",
      "tensor(0.1198, device='cuda:0', grad_fn=<SmoothL1LossBackward0>)\n"
     ]
    },
    {
     "name": "stderr",
     "output_type": "stream",
     "text": [
      "100%|██████████| 1250/1250 [00:01<00:00, 669.27it/s]\n",
      "  0%|          | 1/293 [00:00<00:35,  8.19it/s]"
     ]
    },
    {
     "name": "stdout",
     "output_type": "stream",
     "text": [
      "accuray: 0.2629\n"
     ]
    },
    {
     "name": "stderr",
     "output_type": "stream",
     "text": [
      "100%|██████████| 293/293 [00:31<00:00,  9.32it/s] \n",
      "  8%|▊         | 105/1250 [00:00<00:02, 527.17it/s]"
     ]
    },
    {
     "name": "stdout",
     "output_type": "stream",
     "text": [
      "epoch_loss/batch_ct=0.06044155075436547\n",
      "tensor(0.1184, device='cuda:0', grad_fn=<SmoothL1LossBackward0>)\n"
     ]
    },
    {
     "name": "stderr",
     "output_type": "stream",
     "text": [
      "100%|██████████| 1250/1250 [00:02<00:00, 590.48it/s]\n",
      "  0%|          | 1/293 [00:00<00:36,  8.06it/s]"
     ]
    },
    {
     "name": "stdout",
     "output_type": "stream",
     "text": [
      "accuray: 0.2657\n"
     ]
    },
    {
     "name": "stderr",
     "output_type": "stream",
     "text": [
      "100%|██████████| 293/293 [00:32<00:00,  8.89it/s] \n",
      "  4%|▍         | 49/1250 [00:00<00:02, 479.96it/s]"
     ]
    },
    {
     "name": "stdout",
     "output_type": "stream",
     "text": [
      "epoch_loss/batch_ct=0.06043266874575426\n",
      "tensor(0.1206, device='cuda:0', grad_fn=<SmoothL1LossBackward0>)\n"
     ]
    },
    {
     "name": "stderr",
     "output_type": "stream",
     "text": [
      "100%|██████████| 1250/1250 [00:02<00:00, 585.22it/s]\n",
      "  0%|          | 1/293 [00:00<00:35,  8.12it/s]"
     ]
    },
    {
     "name": "stdout",
     "output_type": "stream",
     "text": [
      "accuray: 0.2657\n"
     ]
    },
    {
     "name": "stderr",
     "output_type": "stream",
     "text": [
      "100%|██████████| 293/293 [00:31<00:00,  9.42it/s] \n",
      "  4%|▎         | 45/1250 [00:00<00:02, 449.59it/s]"
     ]
    },
    {
     "name": "stdout",
     "output_type": "stream",
     "text": [
      "epoch_loss/batch_ct=0.060531079296081786\n",
      "tensor(0.1199, device='cuda:0', grad_fn=<SmoothL1LossBackward0>)\n"
     ]
    },
    {
     "name": "stderr",
     "output_type": "stream",
     "text": [
      "100%|██████████| 1250/1250 [00:02<00:00, 585.50it/s]\n",
      "  0%|          | 1/293 [00:00<00:37,  7.81it/s]"
     ]
    },
    {
     "name": "stdout",
     "output_type": "stream",
     "text": [
      "accuray: 0.2612\n"
     ]
    },
    {
     "name": "stderr",
     "output_type": "stream",
     "text": [
      "100%|██████████| 293/293 [00:31<00:00,  9.37it/s] \n",
      "  4%|▍         | 51/1250 [00:00<00:02, 499.55it/s]"
     ]
    },
    {
     "name": "stdout",
     "output_type": "stream",
     "text": [
      "epoch_loss/batch_ct=0.06055318026079072\n",
      "tensor(0.1216, device='cuda:0', grad_fn=<SmoothL1LossBackward0>)\n"
     ]
    },
    {
     "name": "stderr",
     "output_type": "stream",
     "text": [
      "100%|██████████| 1250/1250 [00:02<00:00, 584.67it/s]\n",
      "  0%|          | 1/293 [00:00<00:38,  7.63it/s]"
     ]
    },
    {
     "name": "stdout",
     "output_type": "stream",
     "text": [
      "accuray: 0.2622\n"
     ]
    },
    {
     "name": "stderr",
     "output_type": "stream",
     "text": [
      "100%|██████████| 293/293 [00:32<00:00,  9.03it/s] \n",
      "  5%|▌         | 63/1250 [00:00<00:01, 629.43it/s]"
     ]
    },
    {
     "name": "stdout",
     "output_type": "stream",
     "text": [
      "epoch_loss/batch_ct=0.06049843401544624\n",
      "tensor(0.1208, device='cuda:0', grad_fn=<SmoothL1LossBackward0>)\n"
     ]
    },
    {
     "name": "stderr",
     "output_type": "stream",
     "text": [
      "100%|██████████| 1250/1250 [00:02<00:00, 609.80it/s]\n",
      "  0%|          | 1/293 [00:00<00:38,  7.51it/s]"
     ]
    },
    {
     "name": "stdout",
     "output_type": "stream",
     "text": [
      "accuray: 0.2625\n"
     ]
    },
    {
     "name": "stderr",
     "output_type": "stream",
     "text": [
      "100%|██████████| 293/293 [00:31<00:00,  9.28it/s]\n",
      "  4%|▍         | 49/1250 [00:00<00:02, 484.71it/s]"
     ]
    },
    {
     "name": "stdout",
     "output_type": "stream",
     "text": [
      "epoch_loss/batch_ct=0.060491081504594715\n",
      "tensor(0.1200, device='cuda:0', grad_fn=<SmoothL1LossBackward0>)\n"
     ]
    },
    {
     "name": "stderr",
     "output_type": "stream",
     "text": [
      "100%|██████████| 1250/1250 [00:02<00:00, 582.22it/s]\n",
      "  0%|          | 1/293 [00:00<00:35,  8.26it/s]"
     ]
    },
    {
     "name": "stdout",
     "output_type": "stream",
     "text": [
      "accuray: 0.2623\n"
     ]
    },
    {
     "name": "stderr",
     "output_type": "stream",
     "text": [
      "100%|██████████| 293/293 [00:33<00:00,  8.85it/s] \n",
      "  5%|▍         | 62/1250 [00:00<00:01, 619.44it/s]"
     ]
    },
    {
     "name": "stdout",
     "output_type": "stream",
     "text": [
      "epoch_loss/batch_ct=0.06040127559136304\n",
      "tensor(0.1200, device='cuda:0', grad_fn=<SmoothL1LossBackward0>)\n"
     ]
    },
    {
     "name": "stderr",
     "output_type": "stream",
     "text": [
      "100%|██████████| 1250/1250 [00:02<00:00, 604.78it/s]\n",
      "  0%|          | 1/293 [00:00<00:35,  8.12it/s]"
     ]
    },
    {
     "name": "stdout",
     "output_type": "stream",
     "text": [
      "accuray: 0.2618\n"
     ]
    },
    {
     "name": "stderr",
     "output_type": "stream",
     "text": [
      "100%|██████████| 293/293 [00:31<00:00,  9.38it/s] \n",
      "  7%|▋         | 92/1250 [00:00<00:02, 460.40it/s]"
     ]
    },
    {
     "name": "stdout",
     "output_type": "stream",
     "text": [
      "epoch_loss/batch_ct=0.06054305647396379\n",
      "tensor(0.1188, device='cuda:0', grad_fn=<SmoothL1LossBackward0>)\n"
     ]
    },
    {
     "name": "stderr",
     "output_type": "stream",
     "text": [
      "100%|██████████| 1250/1250 [00:02<00:00, 580.33it/s]\n",
      "  0%|          | 1/293 [00:00<00:37,  7.74it/s]"
     ]
    },
    {
     "name": "stdout",
     "output_type": "stream",
     "text": [
      "accuray: 0.2635\n"
     ]
    },
    {
     "name": "stderr",
     "output_type": "stream",
     "text": [
      "100%|██████████| 293/293 [00:31<00:00,  9.41it/s] \n",
      "  4%|▍         | 51/1250 [00:00<00:02, 504.50it/s]"
     ]
    },
    {
     "name": "stdout",
     "output_type": "stream",
     "text": [
      "epoch_loss/batch_ct=0.06051963714084455\n",
      "tensor(0.1202, device='cuda:0', grad_fn=<SmoothL1LossBackward0>)\n"
     ]
    },
    {
     "name": "stderr",
     "output_type": "stream",
     "text": [
      "100%|██████████| 1250/1250 [00:02<00:00, 590.48it/s]\n",
      "  0%|          | 1/293 [00:00<00:35,  8.19it/s]"
     ]
    },
    {
     "name": "stdout",
     "output_type": "stream",
     "text": [
      "accuray: 0.2629\n"
     ]
    },
    {
     "name": "stderr",
     "output_type": "stream",
     "text": [
      "100%|██████████| 293/293 [00:32<00:00,  9.03it/s] \n",
      "  8%|▊         | 98/1250 [00:00<00:02, 483.86it/s]"
     ]
    },
    {
     "name": "stdout",
     "output_type": "stream",
     "text": [
      "epoch_loss/batch_ct=0.06049081532373315\n",
      "tensor(0.1210, device='cuda:0', grad_fn=<SmoothL1LossBackward0>)\n"
     ]
    },
    {
     "name": "stderr",
     "output_type": "stream",
     "text": [
      "100%|██████████| 1250/1250 [00:02<00:00, 584.40it/s]\n",
      "  0%|          | 1/293 [00:00<00:37,  7.81it/s]"
     ]
    },
    {
     "name": "stdout",
     "output_type": "stream",
     "text": [
      "accuray: 0.262\n"
     ]
    },
    {
     "name": "stderr",
     "output_type": "stream",
     "text": [
      "100%|██████████| 293/293 [00:31<00:00,  9.28it/s] \n",
      "  4%|▍         | 48/1250 [00:00<00:02, 474.82it/s]"
     ]
    },
    {
     "name": "stdout",
     "output_type": "stream",
     "text": [
      "epoch_loss/batch_ct=0.060588289939221884\n",
      "tensor(0.1207, device='cuda:0', grad_fn=<SmoothL1LossBackward0>)\n"
     ]
    },
    {
     "name": "stderr",
     "output_type": "stream",
     "text": [
      "100%|██████████| 1250/1250 [00:02<00:00, 576.84it/s]\n",
      "  0%|          | 1/293 [00:00<00:35,  8.19it/s]"
     ]
    },
    {
     "name": "stdout",
     "output_type": "stream",
     "text": [
      "accuray: 0.2644\n"
     ]
    },
    {
     "name": "stderr",
     "output_type": "stream",
     "text": [
      "100%|██████████| 293/293 [00:32<00:00,  9.00it/s] \n",
      "  3%|▎         | 42/1250 [00:00<00:02, 411.39it/s]"
     ]
    },
    {
     "name": "stdout",
     "output_type": "stream",
     "text": [
      "epoch_loss/batch_ct=0.060451160539828595\n",
      "tensor(0.1214, device='cuda:0', grad_fn=<SmoothL1LossBackward0>)\n"
     ]
    },
    {
     "name": "stderr",
     "output_type": "stream",
     "text": [
      "100%|██████████| 1250/1250 [00:02<00:00, 577.64it/s]\n",
      "  0%|          | 1/293 [00:00<00:36,  7.99it/s]"
     ]
    },
    {
     "name": "stdout",
     "output_type": "stream",
     "text": [
      "accuray: 0.2619\n"
     ]
    },
    {
     "name": "stderr",
     "output_type": "stream",
     "text": [
      "100%|██████████| 293/293 [00:31<00:00,  9.30it/s] \n",
      "  8%|▊         | 104/1250 [00:00<00:02, 502.67it/s]"
     ]
    },
    {
     "name": "stdout",
     "output_type": "stream",
     "text": [
      "epoch_loss/batch_ct=0.060455677572578664\n",
      "tensor(0.1206, device='cuda:0', grad_fn=<SmoothL1LossBackward0>)\n"
     ]
    },
    {
     "name": "stderr",
     "output_type": "stream",
     "text": [
      "100%|██████████| 1250/1250 [00:02<00:00, 589.09it/s]\n",
      "  0%|          | 1/293 [00:00<00:38,  7.51it/s]"
     ]
    },
    {
     "name": "stdout",
     "output_type": "stream",
     "text": [
      "accuray: 0.2628\n"
     ]
    },
    {
     "name": "stderr",
     "output_type": "stream",
     "text": [
      "100%|██████████| 293/293 [00:31<00:00,  9.29it/s] \n",
      "  4%|▍         | 48/1250 [00:00<00:02, 474.82it/s]"
     ]
    },
    {
     "name": "stdout",
     "output_type": "stream",
     "text": [
      "epoch_loss/batch_ct=0.06047102507381212\n",
      "tensor(0.1215, device='cuda:0', grad_fn=<SmoothL1LossBackward0>)\n"
     ]
    },
    {
     "name": "stderr",
     "output_type": "stream",
     "text": [
      "100%|██████████| 1250/1250 [00:02<00:00, 584.95it/s]\n",
      "  0%|          | 1/293 [00:00<00:35,  8.26it/s]"
     ]
    },
    {
     "name": "stdout",
     "output_type": "stream",
     "text": [
      "accuray: 0.2666\n"
     ]
    },
    {
     "name": "stderr",
     "output_type": "stream",
     "text": [
      "100%|██████████| 293/293 [00:32<00:00,  8.93it/s] \n",
      "  4%|▎         | 44/1250 [00:00<00:02, 430.98it/s]"
     ]
    },
    {
     "name": "stdout",
     "output_type": "stream",
     "text": [
      "epoch_loss/batch_ct=0.06050146215905746\n",
      "tensor(0.1208, device='cuda:0', grad_fn=<SmoothL1LossBackward0>)\n"
     ]
    },
    {
     "name": "stderr",
     "output_type": "stream",
     "text": [
      "100%|██████████| 1250/1250 [00:02<00:00, 577.38it/s]\n",
      "  0%|          | 1/293 [00:00<00:36,  7.99it/s]"
     ]
    },
    {
     "name": "stdout",
     "output_type": "stream",
     "text": [
      "accuray: 0.2595\n"
     ]
    },
    {
     "name": "stderr",
     "output_type": "stream",
     "text": [
      "100%|██████████| 293/293 [00:31<00:00,  9.32it/s] \n",
      " 10%|▉         | 121/1250 [00:00<00:01, 599.34it/s]"
     ]
    },
    {
     "name": "stdout",
     "output_type": "stream",
     "text": [
      "epoch_loss/batch_ct=0.06051187407934949\n",
      "tensor(0.1173, device='cuda:0', grad_fn=<SmoothL1LossBackward0>)\n"
     ]
    },
    {
     "name": "stderr",
     "output_type": "stream",
     "text": [
      "100%|██████████| 1250/1250 [00:02<00:00, 597.54it/s]\n",
      "  0%|          | 1/293 [00:00<00:37,  7.81it/s]"
     ]
    },
    {
     "name": "stdout",
     "output_type": "stream",
     "text": [
      "accuray: 0.2666\n"
     ]
    },
    {
     "name": "stderr",
     "output_type": "stream",
     "text": [
      "100%|██████████| 293/293 [00:32<00:00,  9.02it/s] \n",
      "  4%|▎         | 46/1250 [00:00<00:02, 459.59it/s]"
     ]
    },
    {
     "name": "stdout",
     "output_type": "stream",
     "text": [
      "epoch_loss/batch_ct=0.06051014062194597\n",
      "tensor(0.1216, device='cuda:0', grad_fn=<SmoothL1LossBackward0>)\n"
     ]
    },
    {
     "name": "stderr",
     "output_type": "stream",
     "text": [
      "100%|██████████| 1250/1250 [00:02<00:00, 572.61it/s]\n",
      "  0%|          | 1/293 [00:00<00:35,  8.19it/s]"
     ]
    },
    {
     "name": "stdout",
     "output_type": "stream",
     "text": [
      "accuray: 0.2626\n"
     ]
    },
    {
     "name": "stderr",
     "output_type": "stream",
     "text": [
      "100%|██████████| 293/293 [00:32<00:00,  9.03it/s] \n",
      " 11%|█         | 140/1250 [00:00<00:01, 684.47it/s]"
     ]
    },
    {
     "name": "stdout",
     "output_type": "stream",
     "text": [
      "epoch_loss/batch_ct=0.06055899416761739\n",
      "tensor(0.1212, device='cuda:0', grad_fn=<SmoothL1LossBackward0>)\n"
     ]
    },
    {
     "name": "stderr",
     "output_type": "stream",
     "text": [
      "100%|██████████| 1250/1250 [00:01<00:00, 663.23it/s]\n",
      "  0%|          | 1/293 [00:00<00:33,  8.61it/s]"
     ]
    },
    {
     "name": "stdout",
     "output_type": "stream",
     "text": [
      "accuray: 0.2625\n"
     ]
    },
    {
     "name": "stderr",
     "output_type": "stream",
     "text": [
      "100%|██████████| 293/293 [00:31<00:00,  9.40it/s] \n",
      "  4%|▍         | 52/1250 [00:00<00:02, 509.34it/s]"
     ]
    },
    {
     "name": "stdout",
     "output_type": "stream",
     "text": [
      "epoch_loss/batch_ct=0.0605166018423107\n",
      "tensor(0.1212, device='cuda:0', grad_fn=<SmoothL1LossBackward0>)\n"
     ]
    },
    {
     "name": "stderr",
     "output_type": "stream",
     "text": [
      "100%|██████████| 1250/1250 [00:02<00:00, 586.05it/s]\n",
      "  0%|          | 1/293 [00:00<00:37,  7.74it/s]"
     ]
    },
    {
     "name": "stdout",
     "output_type": "stream",
     "text": [
      "accuray: 0.2588\n"
     ]
    },
    {
     "name": "stderr",
     "output_type": "stream",
     "text": [
      "100%|██████████| 293/293 [00:32<00:00,  8.92it/s] \n",
      "  7%|▋         | 90/1250 [00:00<00:02, 445.07it/s]"
     ]
    },
    {
     "name": "stdout",
     "output_type": "stream",
     "text": [
      "epoch_loss/batch_ct=0.060631676103978877\n",
      "tensor(0.1233, device='cuda:0', grad_fn=<SmoothL1LossBackward0>)\n"
     ]
    },
    {
     "name": "stderr",
     "output_type": "stream",
     "text": [
      "100%|██████████| 1250/1250 [00:02<00:00, 579.25it/s]\n",
      "  0%|          | 1/293 [00:00<00:36,  7.93it/s]"
     ]
    },
    {
     "name": "stdout",
     "output_type": "stream",
     "text": [
      "accuray: 0.2608\n"
     ]
    },
    {
     "name": "stderr",
     "output_type": "stream",
     "text": [
      "100%|██████████| 293/293 [00:31<00:00,  9.24it/s] \n",
      "  4%|▎         | 44/1250 [00:00<00:02, 439.60it/s]"
     ]
    },
    {
     "name": "stdout",
     "output_type": "stream",
     "text": [
      "epoch_loss/batch_ct=0.06048420090819635\n",
      "tensor(0.1199, device='cuda:0', grad_fn=<SmoothL1LossBackward0>)\n"
     ]
    },
    {
     "name": "stderr",
     "output_type": "stream",
     "text": [
      "100%|██████████| 1250/1250 [00:02<00:00, 576.84it/s]\n",
      "  0%|          | 1/293 [00:00<00:36,  7.99it/s]"
     ]
    },
    {
     "name": "stdout",
     "output_type": "stream",
     "text": [
      "accuray: 0.2626\n"
     ]
    },
    {
     "name": "stderr",
     "output_type": "stream",
     "text": [
      "100%|██████████| 293/293 [00:32<00:00,  8.88it/s] \n",
      "  9%|▉         | 110/1250 [00:00<00:02, 539.97it/s]"
     ]
    },
    {
     "name": "stdout",
     "output_type": "stream",
     "text": [
      "epoch_loss/batch_ct=0.06048272309144811\n",
      "tensor(0.1191, device='cuda:0', grad_fn=<SmoothL1LossBackward0>)\n"
     ]
    },
    {
     "name": "stderr",
     "output_type": "stream",
     "text": [
      "100%|██████████| 1250/1250 [00:02<00:00, 595.26it/s]\n",
      "  0%|          | 1/293 [00:00<00:35,  8.12it/s]"
     ]
    },
    {
     "name": "stdout",
     "output_type": "stream",
     "text": [
      "accuray: 0.2611\n"
     ]
    },
    {
     "name": "stderr",
     "output_type": "stream",
     "text": [
      "100%|██████████| 293/293 [00:32<00:00,  9.00it/s] \n",
      "  3%|▎         | 43/1250 [00:00<00:02, 425.35it/s]"
     ]
    },
    {
     "name": "stdout",
     "output_type": "stream",
     "text": [
      "epoch_loss/batch_ct=0.06044709589332342\n",
      "tensor(0.1231, device='cuda:0', grad_fn=<SmoothL1LossBackward0>)\n"
     ]
    },
    {
     "name": "stderr",
     "output_type": "stream",
     "text": [
      "100%|██████████| 1250/1250 [00:02<00:00, 578.71it/s]\n",
      "  0%|          | 1/293 [00:00<00:38,  7.57it/s]"
     ]
    },
    {
     "name": "stdout",
     "output_type": "stream",
     "text": [
      "accuray: 0.2623\n"
     ]
    },
    {
     "name": "stderr",
     "output_type": "stream",
     "text": [
      "100%|██████████| 293/293 [00:31<00:00,  9.26it/s] \n",
      "  7%|▋         | 84/1250 [00:00<00:02, 423.14it/s]"
     ]
    },
    {
     "name": "stdout",
     "output_type": "stream",
     "text": [
      "epoch_loss/batch_ct=0.06049695112816398\n",
      "tensor(0.1201, device='cuda:0', grad_fn=<SmoothL1LossBackward0>)\n"
     ]
    },
    {
     "name": "stderr",
     "output_type": "stream",
     "text": [
      "100%|██████████| 1250/1250 [00:02<00:00, 572.61it/s]\n",
      "  0%|          | 1/293 [00:00<00:36,  8.06it/s]"
     ]
    },
    {
     "name": "stdout",
     "output_type": "stream",
     "text": [
      "accuray: 0.2641\n"
     ]
    },
    {
     "name": "stderr",
     "output_type": "stream",
     "text": [
      "100%|██████████| 293/293 [00:32<00:00,  9.08it/s] \n",
      "  8%|▊         | 106/1250 [00:00<00:02, 514.39it/s]"
     ]
    },
    {
     "name": "stdout",
     "output_type": "stream",
     "text": [
      "epoch_loss/batch_ct=0.060416285406857256\n",
      "tensor(0.1226, device='cuda:0', grad_fn=<SmoothL1LossBackward0>)\n"
     ]
    },
    {
     "name": "stderr",
     "output_type": "stream",
     "text": [
      "100%|██████████| 1250/1250 [00:02<00:00, 582.49it/s]\n",
      "  0%|          | 1/293 [00:00<00:35,  8.12it/s]"
     ]
    },
    {
     "name": "stdout",
     "output_type": "stream",
     "text": [
      "accuray: 0.2646\n"
     ]
    },
    {
     "name": "stderr",
     "output_type": "stream",
     "text": [
      "100%|██████████| 293/293 [00:31<00:00,  9.38it/s]\n",
      "  4%|▍         | 50/1250 [00:00<00:02, 494.60it/s]"
     ]
    },
    {
     "name": "stdout",
     "output_type": "stream",
     "text": [
      "epoch_loss/batch_ct=0.06049352412718156\n",
      "tensor(0.1189, device='cuda:0', grad_fn=<SmoothL1LossBackward0>)\n"
     ]
    },
    {
     "name": "stderr",
     "output_type": "stream",
     "text": [
      "100%|██████████| 1250/1250 [00:02<00:00, 584.95it/s]\n",
      "  0%|          | 1/293 [00:00<00:36,  7.93it/s]"
     ]
    },
    {
     "name": "stdout",
     "output_type": "stream",
     "text": [
      "accuray: 0.2646\n"
     ]
    },
    {
     "name": "stderr",
     "output_type": "stream",
     "text": [
      "100%|██████████| 293/293 [00:32<00:00,  8.93it/s] \n",
      "  9%|▉         | 115/1250 [00:00<00:01, 573.00it/s]"
     ]
    },
    {
     "name": "stdout",
     "output_type": "stream",
     "text": [
      "epoch_loss/batch_ct=0.06053133317757221\n",
      "tensor(0.1212, device='cuda:0', grad_fn=<SmoothL1LossBackward0>)\n"
     ]
    },
    {
     "name": "stderr",
     "output_type": "stream",
     "text": [
      "100%|██████████| 1250/1250 [00:02<00:00, 595.26it/s]\n",
      "  0%|          | 1/293 [00:00<00:35,  8.12it/s]"
     ]
    },
    {
     "name": "stdout",
     "output_type": "stream",
     "text": [
      "accuray: 0.2638\n"
     ]
    },
    {
     "name": "stderr",
     "output_type": "stream",
     "text": [
      "100%|██████████| 293/293 [00:32<00:00,  9.01it/s] \n",
      "  5%|▌         | 68/1250 [00:00<00:01, 672.65it/s]"
     ]
    },
    {
     "name": "stdout",
     "output_type": "stream",
     "text": [
      "epoch_loss/batch_ct=0.06049006797432426\n",
      "tensor(0.1205, device='cuda:0', grad_fn=<SmoothL1LossBackward0>)\n"
     ]
    },
    {
     "name": "stderr",
     "output_type": "stream",
     "text": [
      "100%|██████████| 1250/1250 [00:01<00:00, 653.51it/s]\n",
      "  0%|          | 1/293 [00:00<00:34,  8.40it/s]"
     ]
    },
    {
     "name": "stdout",
     "output_type": "stream",
     "text": [
      "accuray: 0.2609\n"
     ]
    },
    {
     "name": "stderr",
     "output_type": "stream",
     "text": [
      "100%|██████████| 293/293 [00:31<00:00,  9.31it/s] \n",
      "  3%|▎         | 40/1250 [00:00<00:03, 391.80it/s]"
     ]
    },
    {
     "name": "stdout",
     "output_type": "stream",
     "text": [
      "epoch_loss/batch_ct=0.060516970749530524\n",
      "tensor(0.1188, device='cuda:0', grad_fn=<SmoothL1LossBackward0>)\n"
     ]
    },
    {
     "name": "stderr",
     "output_type": "stream",
     "text": [
      "100%|██████████| 1250/1250 [00:02<00:00, 578.45it/s]\n",
      "  0%|          | 1/293 [00:00<00:37,  7.69it/s]"
     ]
    },
    {
     "name": "stdout",
     "output_type": "stream",
     "text": [
      "accuray: 0.2613\n"
     ]
    },
    {
     "name": "stderr",
     "output_type": "stream",
     "text": [
      "100%|██████████| 293/293 [00:32<00:00,  8.97it/s] \n",
      "  3%|▎         | 42/1250 [00:00<00:02, 411.39it/s]"
     ]
    },
    {
     "name": "stdout",
     "output_type": "stream",
     "text": [
      "epoch_loss/batch_ct=0.060471893820379465\n",
      "tensor(0.1189, device='cuda:0', grad_fn=<SmoothL1LossBackward0>)\n"
     ]
    },
    {
     "name": "stderr",
     "output_type": "stream",
     "text": [
      "100%|██████████| 1250/1250 [00:02<00:00, 575.78it/s]\n",
      "  0%|          | 1/293 [00:00<00:35,  8.26it/s]"
     ]
    },
    {
     "name": "stdout",
     "output_type": "stream",
     "text": [
      "accuray: 0.2629\n"
     ]
    },
    {
     "name": "stderr",
     "output_type": "stream",
     "text": [
      "100%|██████████| 293/293 [00:31<00:00,  9.30it/s] \n",
      "  7%|▋         | 86/1250 [00:00<00:02, 426.10it/s]"
     ]
    },
    {
     "name": "stdout",
     "output_type": "stream",
     "text": [
      "epoch_loss/batch_ct=0.06052321041860278\n",
      "tensor(0.1206, device='cuda:0', grad_fn=<SmoothL1LossBackward0>)\n"
     ]
    },
    {
     "name": "stderr",
     "output_type": "stream",
     "text": [
      "100%|██████████| 1250/1250 [00:02<00:00, 571.04it/s]\n",
      "  0%|          | 1/293 [00:00<00:36,  8.06it/s]"
     ]
    },
    {
     "name": "stdout",
     "output_type": "stream",
     "text": [
      "accuray: 0.2625\n"
     ]
    },
    {
     "name": "stderr",
     "output_type": "stream",
     "text": [
      "100%|██████████| 293/293 [00:32<00:00,  8.95it/s] \n",
      "  7%|▋         | 86/1250 [00:00<00:02, 433.14it/s]"
     ]
    },
    {
     "name": "stdout",
     "output_type": "stream",
     "text": [
      "epoch_loss/batch_ct=0.060535395414465\n",
      "tensor(0.1197, device='cuda:0', grad_fn=<SmoothL1LossBackward0>)\n"
     ]
    },
    {
     "name": "stderr",
     "output_type": "stream",
     "text": [
      "100%|██████████| 1250/1250 [00:02<00:00, 571.30it/s]\n",
      "  0%|          | 1/293 [00:00<00:35,  8.19it/s]"
     ]
    },
    {
     "name": "stdout",
     "output_type": "stream",
     "text": [
      "accuray: 0.2638\n"
     ]
    },
    {
     "name": "stderr",
     "output_type": "stream",
     "text": [
      "100%|██████████| 293/293 [00:31<00:00,  9.45it/s] \n",
      "  4%|▎         | 45/1250 [00:00<00:02, 440.77it/s]"
     ]
    },
    {
     "name": "stdout",
     "output_type": "stream",
     "text": [
      "epoch_loss/batch_ct=0.060451171523521814\n",
      "tensor(0.1181, device='cuda:0', grad_fn=<SmoothL1LossBackward0>)\n"
     ]
    },
    {
     "name": "stderr",
     "output_type": "stream",
     "text": [
      "100%|██████████| 1250/1250 [00:02<00:00, 578.45it/s]\n",
      "  0%|          | 1/293 [00:00<00:35,  8.12it/s]"
     ]
    },
    {
     "name": "stdout",
     "output_type": "stream",
     "text": [
      "accuray: 0.2669\n"
     ]
    },
    {
     "name": "stderr",
     "output_type": "stream",
     "text": [
      "100%|██████████| 293/293 [00:32<00:00,  8.95it/s] \n",
      "  8%|▊         | 98/1250 [00:00<00:02, 476.38it/s]"
     ]
    },
    {
     "name": "stdout",
     "output_type": "stream",
     "text": [
      "epoch_loss/batch_ct=0.06040607888015017\n",
      "tensor(0.1206, device='cuda:0', grad_fn=<SmoothL1LossBackward0>)\n"
     ]
    },
    {
     "name": "stderr",
     "output_type": "stream",
     "text": [
      "100%|██████████| 1250/1250 [00:02<00:00, 581.68it/s]\n",
      "  0%|          | 1/293 [00:00<00:35,  8.12it/s]"
     ]
    },
    {
     "name": "stdout",
     "output_type": "stream",
     "text": [
      "accuray: 0.2598\n"
     ]
    },
    {
     "name": "stderr",
     "output_type": "stream",
     "text": [
      "100%|██████████| 293/293 [00:32<00:00,  8.90it/s]\n",
      " 11%|█         | 138/1250 [00:00<00:01, 685.34it/s]"
     ]
    },
    {
     "name": "stdout",
     "output_type": "stream",
     "text": [
      "epoch_loss/batch_ct=0.06052792039773767\n",
      "tensor(0.1208, device='cuda:0', grad_fn=<SmoothL1LossBackward0>)\n"
     ]
    },
    {
     "name": "stderr",
     "output_type": "stream",
     "text": [
      "100%|██████████| 1250/1250 [00:01<00:00, 634.59it/s]\n",
      "  0%|          | 1/293 [00:00<00:35,  8.19it/s]"
     ]
    },
    {
     "name": "stdout",
     "output_type": "stream",
     "text": [
      "accuray: 0.2634\n"
     ]
    },
    {
     "name": "stderr",
     "output_type": "stream",
     "text": [
      "100%|██████████| 293/293 [00:31<00:00,  9.27it/s] \n",
      " 11%|█         | 138/1250 [00:00<00:01, 678.60it/s]"
     ]
    },
    {
     "name": "stdout",
     "output_type": "stream",
     "text": [
      "epoch_loss/batch_ct=0.06047026616417699\n",
      "tensor(0.1197, device='cuda:0', grad_fn=<SmoothL1LossBackward0>)\n"
     ]
    },
    {
     "name": "stderr",
     "output_type": "stream",
     "text": [
      "100%|██████████| 1250/1250 [00:01<00:00, 659.73it/s]\n",
      "  0%|          | 1/293 [00:00<00:34,  8.47it/s]"
     ]
    },
    {
     "name": "stdout",
     "output_type": "stream",
     "text": [
      "accuray: 0.2638\n"
     ]
    },
    {
     "name": "stderr",
     "output_type": "stream",
     "text": [
      "100%|██████████| 293/293 [00:32<00:00,  9.01it/s] \n",
      "  8%|▊         | 94/1250 [00:00<00:02, 469.57it/s]"
     ]
    },
    {
     "name": "stdout",
     "output_type": "stream",
     "text": [
      "epoch_loss/batch_ct=0.06043160388926192\n",
      "tensor(0.1201, device='cuda:0', grad_fn=<SmoothL1LossBackward0>)\n"
     ]
    },
    {
     "name": "stderr",
     "output_type": "stream",
     "text": [
      "100%|██████████| 1250/1250 [00:02<00:00, 578.18it/s]\n",
      "  0%|          | 1/293 [00:00<00:35,  8.12it/s]"
     ]
    },
    {
     "name": "stdout",
     "output_type": "stream",
     "text": [
      "accuray: 0.2587\n"
     ]
    },
    {
     "name": "stderr",
     "output_type": "stream",
     "text": [
      "100%|██████████| 293/293 [00:30<00:00,  9.49it/s] \n",
      "  3%|▎         | 42/1250 [00:00<00:02, 415.47it/s]"
     ]
    },
    {
     "name": "stdout",
     "output_type": "stream",
     "text": [
      "epoch_loss/batch_ct=0.06048594636931306\n",
      "tensor(0.1186, device='cuda:0', grad_fn=<SmoothL1LossBackward0>)\n"
     ]
    },
    {
     "name": "stderr",
     "output_type": "stream",
     "text": [
      "100%|██████████| 1250/1250 [00:02<00:00, 572.87it/s]\n",
      "  0%|          | 1/293 [00:00<00:35,  8.26it/s]"
     ]
    },
    {
     "name": "stdout",
     "output_type": "stream",
     "text": [
      "accuray: 0.2595\n"
     ]
    },
    {
     "name": "stderr",
     "output_type": "stream",
     "text": [
      "100%|██████████| 293/293 [00:32<00:00,  8.93it/s] \n",
      "  7%|▋         | 93/1250 [00:00<00:02, 469.75it/s]"
     ]
    },
    {
     "name": "stdout",
     "output_type": "stream",
     "text": [
      "epoch_loss/batch_ct=0.06049633166560578\n",
      "tensor(0.1193, device='cuda:0', grad_fn=<SmoothL1LossBackward0>)\n"
     ]
    },
    {
     "name": "stderr",
     "output_type": "stream",
     "text": [
      "100%|██████████| 1250/1250 [00:02<00:00, 580.06it/s]\n",
      "  0%|          | 1/293 [00:00<00:39,  7.35it/s]"
     ]
    },
    {
     "name": "stdout",
     "output_type": "stream",
     "text": [
      "accuray: 0.2621\n"
     ]
    },
    {
     "name": "stderr",
     "output_type": "stream",
     "text": [
      "100%|██████████| 293/293 [00:32<00:00,  9.00it/s] \n",
      "  3%|▎         | 43/1250 [00:00<00:02, 417.10it/s]"
     ]
    },
    {
     "name": "stdout",
     "output_type": "stream",
     "text": [
      "epoch_loss/batch_ct=0.0604834986318435\n",
      "tensor(0.1222, device='cuda:0', grad_fn=<SmoothL1LossBackward0>)\n"
     ]
    },
    {
     "name": "stderr",
     "output_type": "stream",
     "text": [
      "100%|██████████| 1250/1250 [00:02<00:00, 576.84it/s]\n",
      "  0%|          | 1/293 [00:00<00:34,  8.40it/s]"
     ]
    },
    {
     "name": "stdout",
     "output_type": "stream",
     "text": [
      "accuray: 0.2607\n"
     ]
    },
    {
     "name": "stderr",
     "output_type": "stream",
     "text": [
      "100%|██████████| 293/293 [00:31<00:00,  9.34it/s] \n",
      "  8%|▊         | 106/1250 [00:00<00:02, 529.52it/s]"
     ]
    },
    {
     "name": "stdout",
     "output_type": "stream",
     "text": [
      "epoch_loss/batch_ct=0.060544940465617744\n",
      "tensor(0.1204, device='cuda:0', grad_fn=<SmoothL1LossBackward0>)\n"
     ]
    },
    {
     "name": "stderr",
     "output_type": "stream",
     "text": [
      "100%|██████████| 1250/1250 [00:02<00:00, 590.76it/s]\n",
      "  0%|          | 1/293 [00:00<00:36,  8.06it/s]"
     ]
    },
    {
     "name": "stdout",
     "output_type": "stream",
     "text": [
      "accuray: 0.2651\n"
     ]
    },
    {
     "name": "stderr",
     "output_type": "stream",
     "text": [
      "100%|██████████| 293/293 [00:32<00:00,  8.94it/s] \n",
      "  8%|▊         | 106/1250 [00:00<00:02, 529.51it/s]"
     ]
    },
    {
     "name": "stdout",
     "output_type": "stream",
     "text": [
      "epoch_loss/batch_ct=0.0604772533748358\n",
      "tensor(0.1211, device='cuda:0', grad_fn=<SmoothL1LossBackward0>)\n"
     ]
    },
    {
     "name": "stderr",
     "output_type": "stream",
     "text": [
      "100%|██████████| 1250/1250 [00:02<00:00, 585.77it/s]\n",
      "  0%|          | 1/293 [00:00<00:37,  7.87it/s]"
     ]
    },
    {
     "name": "stdout",
     "output_type": "stream",
     "text": [
      "accuray: 0.2632\n"
     ]
    },
    {
     "name": "stderr",
     "output_type": "stream",
     "text": [
      "100%|██████████| 293/293 [00:31<00:00,  9.18it/s] \n",
      "  9%|▊         | 109/1250 [00:00<00:02, 544.90it/s]"
     ]
    },
    {
     "name": "stdout",
     "output_type": "stream",
     "text": [
      "epoch_loss/batch_ct=0.060534578511520984\n",
      "tensor(0.1207, device='cuda:0', grad_fn=<SmoothL1LossBackward0>)\n"
     ]
    },
    {
     "name": "stderr",
     "output_type": "stream",
     "text": [
      "100%|██████████| 1250/1250 [00:02<00:00, 588.25it/s]\n",
      "  0%|          | 1/293 [00:00<00:36,  7.93it/s]"
     ]
    },
    {
     "name": "stdout",
     "output_type": "stream",
     "text": [
      "accuray: 0.2619\n"
     ]
    },
    {
     "name": "stderr",
     "output_type": "stream",
     "text": [
      "100%|██████████| 293/293 [00:33<00:00,  8.86it/s] \n",
      "  3%|▎         | 40/1250 [00:00<00:03, 395.68it/s]"
     ]
    },
    {
     "name": "stdout",
     "output_type": "stream",
     "text": [
      "epoch_loss/batch_ct=0.06044505224637096\n",
      "tensor(0.1195, device='cuda:0', grad_fn=<SmoothL1LossBackward0>)\n"
     ]
    },
    {
     "name": "stderr",
     "output_type": "stream",
     "text": [
      "100%|██████████| 1250/1250 [00:02<00:00, 574.72it/s]\n",
      "  0%|          | 1/293 [00:00<00:35,  8.12it/s]"
     ]
    },
    {
     "name": "stdout",
     "output_type": "stream",
     "text": [
      "accuray: 0.2629\n"
     ]
    },
    {
     "name": "stderr",
     "output_type": "stream",
     "text": [
      "100%|██████████| 293/293 [00:32<00:00,  8.95it/s] \n",
      "  4%|▍         | 48/1250 [00:00<00:02, 474.81it/s]"
     ]
    },
    {
     "name": "stdout",
     "output_type": "stream",
     "text": [
      "epoch_loss/batch_ct=0.060449094659397525\n",
      "tensor(0.1188, device='cuda:0', grad_fn=<SmoothL1LossBackward0>)\n"
     ]
    },
    {
     "name": "stderr",
     "output_type": "stream",
     "text": [
      "100%|██████████| 1250/1250 [00:02<00:00, 571.04it/s]\n",
      "  0%|          | 1/293 [00:00<00:36,  8.06it/s]"
     ]
    },
    {
     "name": "stdout",
     "output_type": "stream",
     "text": [
      "accuray: 0.2643\n"
     ]
    },
    {
     "name": "stderr",
     "output_type": "stream",
     "text": [
      "100%|██████████| 293/293 [00:31<00:00,  9.40it/s] \n",
      "  4%|▍         | 48/1250 [00:00<00:02, 479.56it/s]"
     ]
    },
    {
     "name": "stdout",
     "output_type": "stream",
     "text": [
      "epoch_loss/batch_ct=0.0604460108581753\n",
      "tensor(0.1188, device='cuda:0', grad_fn=<SmoothL1LossBackward0>)\n"
     ]
    },
    {
     "name": "stderr",
     "output_type": "stream",
     "text": [
      "100%|██████████| 1250/1250 [00:02<00:00, 586.32it/s]\n",
      "  0%|          | 1/293 [00:00<00:35,  8.33it/s]"
     ]
    },
    {
     "name": "stdout",
     "output_type": "stream",
     "text": [
      "accuray: 0.2622\n"
     ]
    },
    {
     "name": "stderr",
     "output_type": "stream",
     "text": [
      "100%|██████████| 293/293 [00:32<00:00,  8.96it/s] \n",
      "  8%|▊         | 105/1250 [00:00<00:02, 518.09it/s]"
     ]
    },
    {
     "name": "stdout",
     "output_type": "stream",
     "text": [
      "epoch_loss/batch_ct=0.06043346334130518\n",
      "tensor(0.1209, device='cuda:0', grad_fn=<SmoothL1LossBackward0>)\n"
     ]
    },
    {
     "name": "stderr",
     "output_type": "stream",
     "text": [
      "100%|██████████| 1250/1250 [00:02<00:00, 584.67it/s]\n",
      "  0%|          | 1/293 [00:00<00:38,  7.51it/s]"
     ]
    },
    {
     "name": "stdout",
     "output_type": "stream",
     "text": [
      "accuray: 0.2642\n"
     ]
    },
    {
     "name": "stderr",
     "output_type": "stream",
     "text": [
      "100%|██████████| 293/293 [00:31<00:00,  9.38it/s] \n",
      "  4%|▍         | 50/1250 [00:00<00:02, 489.75it/s]"
     ]
    },
    {
     "name": "stdout",
     "output_type": "stream",
     "text": [
      "epoch_loss/batch_ct=0.06043310331860705\n",
      "tensor(0.1200, device='cuda:0', grad_fn=<SmoothL1LossBackward0>)\n"
     ]
    },
    {
     "name": "stderr",
     "output_type": "stream",
     "text": [
      "100%|██████████| 1250/1250 [00:02<00:00, 584.13it/s]\n",
      "  0%|          | 1/293 [00:00<00:37,  7.87it/s]"
     ]
    },
    {
     "name": "stdout",
     "output_type": "stream",
     "text": [
      "accuray: 0.2613\n"
     ]
    },
    {
     "name": "stderr",
     "output_type": "stream",
     "text": [
      "100%|██████████| 293/293 [00:31<00:00,  9.43it/s] \n",
      "  5%|▌         | 67/1250 [00:00<00:01, 669.39it/s]"
     ]
    },
    {
     "name": "stdout",
     "output_type": "stream",
     "text": [
      "epoch_loss/batch_ct=0.06043982322490404\n",
      "tensor(0.1195, device='cuda:0', grad_fn=<SmoothL1LossBackward0>)\n"
     ]
    },
    {
     "name": "stderr",
     "output_type": "stream",
     "text": [
      "100%|██████████| 1250/1250 [00:02<00:00, 616.42it/s]\n",
      "  0%|          | 1/293 [00:00<00:35,  8.33it/s]"
     ]
    },
    {
     "name": "stdout",
     "output_type": "stream",
     "text": [
      "accuray: 0.2582\n"
     ]
    },
    {
     "name": "stderr",
     "output_type": "stream",
     "text": [
      "100%|██████████| 293/293 [00:32<00:00,  9.08it/s] \n",
      "  9%|▉         | 110/1250 [00:00<00:02, 531.67it/s]"
     ]
    },
    {
     "name": "stdout",
     "output_type": "stream",
     "text": [
      "epoch_loss/batch_ct=0.06036910963141256\n",
      "tensor(0.1182, device='cuda:0', grad_fn=<SmoothL1LossBackward0>)\n"
     ]
    },
    {
     "name": "stderr",
     "output_type": "stream",
     "text": [
      "100%|██████████| 1250/1250 [00:02<00:00, 593.00it/s]\n",
      "  0%|          | 1/293 [00:00<00:37,  7.87it/s]"
     ]
    },
    {
     "name": "stdout",
     "output_type": "stream",
     "text": [
      "accuray: 0.2633\n"
     ]
    },
    {
     "name": "stderr",
     "output_type": "stream",
     "text": [
      "100%|██████████| 293/293 [00:31<00:00,  9.36it/s] \n",
      "  6%|▌         | 69/1250 [00:00<00:01, 689.37it/s]"
     ]
    },
    {
     "name": "stdout",
     "output_type": "stream",
     "text": [
      "epoch_loss/batch_ct=0.06032649989402483\n",
      "tensor(0.1190, device='cuda:0', grad_fn=<SmoothL1LossBackward0>)\n"
     ]
    },
    {
     "name": "stderr",
     "output_type": "stream",
     "text": [
      "100%|██████████| 1250/1250 [00:01<00:00, 649.10it/s]\n",
      "  0%|          | 1/293 [00:00<00:34,  8.54it/s]"
     ]
    },
    {
     "name": "stdout",
     "output_type": "stream",
     "text": [
      "accuray: 0.2632\n"
     ]
    },
    {
     "name": "stderr",
     "output_type": "stream",
     "text": [
      "100%|██████████| 293/293 [00:32<00:00,  8.95it/s] \n",
      "  7%|▋         | 88/1250 [00:00<00:02, 439.55it/s]"
     ]
    },
    {
     "name": "stdout",
     "output_type": "stream",
     "text": [
      "epoch_loss/batch_ct=0.060373081130877373\n",
      "tensor(0.1213, device='cuda:0', grad_fn=<SmoothL1LossBackward0>)\n"
     ]
    },
    {
     "name": "stderr",
     "output_type": "stream",
     "text": [
      "100%|██████████| 1250/1250 [00:02<00:00, 577.64it/s]\n",
      "  0%|          | 1/293 [00:00<00:35,  8.19it/s]"
     ]
    },
    {
     "name": "stdout",
     "output_type": "stream",
     "text": [
      "accuray: 0.2676\n"
     ]
    },
    {
     "name": "stderr",
     "output_type": "stream",
     "text": [
      "100%|██████████| 293/293 [00:31<00:00,  9.29it/s] \n",
      "  8%|▊         | 102/1250 [00:00<00:02, 509.54it/s]"
     ]
    },
    {
     "name": "stdout",
     "output_type": "stream",
     "text": [
      "epoch_loss/batch_ct=0.0603462720496787\n",
      "tensor(0.1219, device='cuda:0', grad_fn=<SmoothL1LossBackward0>)\n"
     ]
    },
    {
     "name": "stderr",
     "output_type": "stream",
     "text": [
      "100%|██████████| 1250/1250 [00:02<00:00, 584.40it/s]\n",
      "  0%|          | 1/293 [00:00<00:35,  8.19it/s]"
     ]
    },
    {
     "name": "stdout",
     "output_type": "stream",
     "text": [
      "accuray: 0.2598\n"
     ]
    },
    {
     "name": "stderr",
     "output_type": "stream",
     "text": [
      "100%|██████████| 293/293 [00:32<00:00,  8.92it/s] \n",
      "  3%|▎         | 40/1250 [00:00<00:03, 395.68it/s]"
     ]
    },
    {
     "name": "stdout",
     "output_type": "stream",
     "text": [
      "epoch_loss/batch_ct=0.06036949301108954\n",
      "tensor(0.1208, device='cuda:0', grad_fn=<SmoothL1LossBackward0>)\n"
     ]
    },
    {
     "name": "stderr",
     "output_type": "stream",
     "text": [
      "100%|██████████| 1250/1250 [00:02<00:00, 566.12it/s]\n",
      "  0%|          | 1/293 [00:00<00:36,  8.06it/s]"
     ]
    },
    {
     "name": "stdout",
     "output_type": "stream",
     "text": [
      "accuray: 0.2599\n"
     ]
    },
    {
     "name": "stderr",
     "output_type": "stream",
     "text": [
      "100%|██████████| 293/293 [00:31<00:00,  9.43it/s] \n",
      "  4%|▍         | 53/1250 [00:00<00:02, 529.52it/s]"
     ]
    },
    {
     "name": "stdout",
     "output_type": "stream",
     "text": [
      "epoch_loss/batch_ct=0.060461306870574986\n",
      "tensor(0.1190, device='cuda:0', grad_fn=<SmoothL1LossBackward0>)\n"
     ]
    },
    {
     "name": "stderr",
     "output_type": "stream",
     "text": [
      "100%|██████████| 1250/1250 [00:02<00:00, 594.13it/s]\n",
      "  0%|          | 1/293 [00:00<00:37,  7.87it/s]"
     ]
    },
    {
     "name": "stdout",
     "output_type": "stream",
     "text": [
      "accuray: 0.2624\n"
     ]
    },
    {
     "name": "stderr",
     "output_type": "stream",
     "text": [
      "100%|██████████| 293/293 [00:31<00:00,  9.39it/s] \n",
      "  3%|▎         | 41/1250 [00:00<00:02, 409.63it/s]"
     ]
    },
    {
     "name": "stdout",
     "output_type": "stream",
     "text": [
      "epoch_loss/batch_ct=0.060473095743902146\n",
      "tensor(0.1191, device='cuda:0', grad_fn=<SmoothL1LossBackward0>)\n"
     ]
    },
    {
     "name": "stderr",
     "output_type": "stream",
     "text": [
      "100%|██████████| 1250/1250 [00:02<00:00, 570.78it/s]\n",
      "  0%|          | 0/293 [00:00<?, ?it/s]"
     ]
    },
    {
     "name": "stdout",
     "output_type": "stream",
     "text": [
      "accuray: 0.2641\n"
     ]
    },
    {
     "name": "stderr",
     "output_type": "stream",
     "text": [
      "100%|██████████| 293/293 [00:30<00:00,  9.49it/s] \n",
      "  4%|▍         | 48/1250 [00:00<00:02, 479.56it/s]"
     ]
    },
    {
     "name": "stdout",
     "output_type": "stream",
     "text": [
      "epoch_loss/batch_ct=0.06037882363630666\n",
      "tensor(0.1218, device='cuda:0', grad_fn=<SmoothL1LossBackward0>)\n"
     ]
    },
    {
     "name": "stderr",
     "output_type": "stream",
     "text": [
      "100%|██████████| 1250/1250 [00:02<00:00, 582.49it/s]\n",
      "  0%|          | 1/293 [00:00<00:37,  7.81it/s]"
     ]
    },
    {
     "name": "stdout",
     "output_type": "stream",
     "text": [
      "accuray: 0.2653\n"
     ]
    },
    {
     "name": "stderr",
     "output_type": "stream",
     "text": [
      "100%|██████████| 293/293 [00:31<00:00,  9.33it/s] \n",
      "  7%|▋         | 91/1250 [00:00<00:02, 449.91it/s]"
     ]
    },
    {
     "name": "stdout",
     "output_type": "stream",
     "text": [
      "epoch_loss/batch_ct=0.060293496748994264\n",
      "tensor(0.1215, device='cuda:0', grad_fn=<SmoothL1LossBackward0>)\n"
     ]
    },
    {
     "name": "stderr",
     "output_type": "stream",
     "text": [
      "100%|██████████| 1250/1250 [00:02<00:00, 580.06it/s]\n",
      "  0%|          | 1/293 [00:00<00:37,  7.87it/s]"
     ]
    },
    {
     "name": "stdout",
     "output_type": "stream",
     "text": [
      "accuray: 0.2576\n"
     ]
    },
    {
     "name": "stderr",
     "output_type": "stream",
     "text": [
      "100%|██████████| 293/293 [00:32<00:00,  8.94it/s] \n",
      "  5%|▌         | 68/1250 [00:00<00:01, 679.39it/s]"
     ]
    },
    {
     "name": "stdout",
     "output_type": "stream",
     "text": [
      "epoch_loss/batch_ct=0.0603369034176308\n",
      "tensor(0.1199, device='cuda:0', grad_fn=<SmoothL1LossBackward0>)\n"
     ]
    },
    {
     "name": "stderr",
     "output_type": "stream",
     "text": [
      "100%|██████████| 1250/1250 [00:02<00:00, 622.56it/s]\n",
      "  0%|          | 1/293 [00:00<00:34,  8.47it/s]"
     ]
    },
    {
     "name": "stdout",
     "output_type": "stream",
     "text": [
      "accuray: 0.2551\n"
     ]
    },
    {
     "name": "stderr",
     "output_type": "stream",
     "text": [
      "100%|██████████| 293/293 [00:31<00:00,  9.32it/s] \n",
      "  7%|▋         | 88/1250 [00:00<00:02, 443.13it/s]"
     ]
    },
    {
     "name": "stdout",
     "output_type": "stream",
     "text": [
      "epoch_loss/batch_ct=0.060393581107731846\n",
      "tensor(0.1182, device='cuda:0', grad_fn=<SmoothL1LossBackward0>)\n"
     ]
    },
    {
     "name": "stderr",
     "output_type": "stream",
     "text": [
      "100%|██████████| 1250/1250 [00:02<00:00, 581.68it/s]\n",
      "  0%|          | 1/293 [00:00<00:35,  8.12it/s]"
     ]
    },
    {
     "name": "stdout",
     "output_type": "stream",
     "text": [
      "accuray: 0.2631\n"
     ]
    },
    {
     "name": "stderr",
     "output_type": "stream",
     "text": [
      "100%|██████████| 293/293 [00:32<00:00,  8.93it/s] \n",
      " 11%|█         | 136/1250 [00:00<00:01, 675.41it/s]"
     ]
    },
    {
     "name": "stdout",
     "output_type": "stream",
     "text": [
      "epoch_loss/batch_ct=0.060294688694060794\n",
      "tensor(0.1198, device='cuda:0', grad_fn=<SmoothL1LossBackward0>)\n"
     ]
    },
    {
     "name": "stderr",
     "output_type": "stream",
     "text": [
      "100%|██████████| 1250/1250 [00:01<00:00, 676.52it/s]\n",
      "  0%|          | 1/293 [00:00<00:33,  8.61it/s]"
     ]
    },
    {
     "name": "stdout",
     "output_type": "stream",
     "text": [
      "accuray: 0.2628\n"
     ]
    },
    {
     "name": "stderr",
     "output_type": "stream",
     "text": [
      "100%|██████████| 293/293 [00:31<00:00,  9.38it/s] \n",
      " 10%|▉         | 124/1250 [00:00<00:01, 606.24it/s]"
     ]
    },
    {
     "name": "stdout",
     "output_type": "stream",
     "text": [
      "epoch_loss/batch_ct=0.06035032390897709\n",
      "tensor(0.1200, device='cuda:0', grad_fn=<SmoothL1LossBackward0>)\n"
     ]
    },
    {
     "name": "stderr",
     "output_type": "stream",
     "text": [
      "100%|██████████| 1250/1250 [00:02<00:00, 603.02it/s]\n",
      "  0%|          | 1/293 [00:00<00:39,  7.46it/s]"
     ]
    },
    {
     "name": "stdout",
     "output_type": "stream",
     "text": [
      "accuray: 0.2577\n"
     ]
    },
    {
     "name": "stderr",
     "output_type": "stream",
     "text": [
      "100%|██████████| 293/293 [00:32<00:00,  8.93it/s] \n",
      "  4%|▍         | 54/1250 [00:00<00:02, 534.17it/s]"
     ]
    },
    {
     "name": "stdout",
     "output_type": "stream",
     "text": [
      "epoch_loss/batch_ct=0.06051103279940666\n",
      "tensor(0.1198, device='cuda:0', grad_fn=<SmoothL1LossBackward0>)\n"
     ]
    },
    {
     "name": "stderr",
     "output_type": "stream",
     "text": [
      "100%|██████████| 1250/1250 [00:02<00:00, 588.25it/s]\n",
      "  0%|          | 1/293 [00:00<00:36,  8.06it/s]"
     ]
    },
    {
     "name": "stdout",
     "output_type": "stream",
     "text": [
      "accuray: 0.2608\n"
     ]
    },
    {
     "name": "stderr",
     "output_type": "stream",
     "text": [
      "100%|██████████| 293/293 [00:31<00:00,  9.34it/s] \n",
      "  5%|▌         | 67/1250 [00:00<00:01, 669.39it/s]"
     ]
    },
    {
     "name": "stdout",
     "output_type": "stream",
     "text": [
      "epoch_loss/batch_ct=0.06045645142772368\n",
      "tensor(0.1198, device='cuda:0', grad_fn=<SmoothL1LossBackward0>)\n"
     ]
    },
    {
     "name": "stderr",
     "output_type": "stream",
     "text": [
      "100%|██████████| 1250/1250 [00:01<00:00, 673.97it/s]\n",
      "  0%|          | 1/293 [00:00<00:33,  8.76it/s]"
     ]
    },
    {
     "name": "stdout",
     "output_type": "stream",
     "text": [
      "accuray: 0.2606\n"
     ]
    },
    {
     "name": "stderr",
     "output_type": "stream",
     "text": [
      "100%|██████████| 293/293 [00:32<00:00,  9.05it/s]\n",
      "  8%|▊         | 94/1250 [00:00<00:02, 468.58it/s]"
     ]
    },
    {
     "name": "stdout",
     "output_type": "stream",
     "text": [
      "epoch_loss/batch_ct=0.06038261086694778\n",
      "tensor(0.1186, device='cuda:0', grad_fn=<SmoothL1LossBackward0>)\n"
     ]
    },
    {
     "name": "stderr",
     "output_type": "stream",
     "text": [
      "100%|██████████| 1250/1250 [00:02<00:00, 577.38it/s]\n",
      "  0%|          | 1/293 [00:00<00:36,  7.99it/s]"
     ]
    },
    {
     "name": "stdout",
     "output_type": "stream",
     "text": [
      "accuray: 0.2577\n"
     ]
    },
    {
     "name": "stderr",
     "output_type": "stream",
     "text": [
      "100%|██████████| 293/293 [00:31<00:00,  9.44it/s] \n",
      "  8%|▊         | 96/1250 [00:00<00:02, 475.65it/s]"
     ]
    },
    {
     "name": "stdout",
     "output_type": "stream",
     "text": [
      "epoch_loss/batch_ct=0.060439214864302246\n",
      "tensor(0.1181, device='cuda:0', grad_fn=<SmoothL1LossBackward0>)\n"
     ]
    },
    {
     "name": "stderr",
     "output_type": "stream",
     "text": [
      "100%|██████████| 1250/1250 [00:02<00:00, 583.04it/s]\n",
      "  0%|          | 1/293 [00:00<00:37,  7.74it/s]"
     ]
    },
    {
     "name": "stdout",
     "output_type": "stream",
     "text": [
      "accuray: 0.2607\n"
     ]
    },
    {
     "name": "stderr",
     "output_type": "stream",
     "text": [
      "100%|██████████| 293/293 [00:32<00:00,  8.94it/s] \n",
      "  3%|▎         | 42/1250 [00:00<00:02, 411.39it/s]"
     ]
    },
    {
     "name": "stdout",
     "output_type": "stream",
     "text": [
      "epoch_loss/batch_ct=0.06041148365549152\n",
      "tensor(0.1178, device='cuda:0', grad_fn=<SmoothL1LossBackward0>)\n"
     ]
    },
    {
     "name": "stderr",
     "output_type": "stream",
     "text": [
      "100%|██████████| 1250/1250 [00:02<00:00, 574.45it/s]\n",
      "  0%|          | 1/293 [00:00<00:37,  7.74it/s]"
     ]
    },
    {
     "name": "stdout",
     "output_type": "stream",
     "text": [
      "accuray: 0.2637\n"
     ]
    },
    {
     "name": "stderr",
     "output_type": "stream",
     "text": [
      "100%|██████████| 293/293 [00:32<00:00,  9.04it/s] \n",
      " 10%|█         | 130/1250 [00:00<00:01, 623.72it/s]"
     ]
    },
    {
     "name": "stdout",
     "output_type": "stream",
     "text": [
      "epoch_loss/batch_ct=0.06037508190742561\n",
      "tensor(0.1183, device='cuda:0', grad_fn=<SmoothL1LossBackward0>)\n"
     ]
    },
    {
     "name": "stderr",
     "output_type": "stream",
     "text": [
      "100%|██████████| 1250/1250 [00:02<00:00, 608.61it/s]\n",
      "  0%|          | 1/293 [00:00<00:35,  8.26it/s]"
     ]
    },
    {
     "name": "stdout",
     "output_type": "stream",
     "text": [
      "accuray: 0.2654\n"
     ]
    },
    {
     "name": "stderr",
     "output_type": "stream",
     "text": [
      "100%|██████████| 293/293 [00:31<00:00,  9.31it/s] \n",
      "  6%|▌         | 69/1250 [00:00<00:01, 689.38it/s]"
     ]
    },
    {
     "name": "stdout",
     "output_type": "stream",
     "text": [
      "epoch_loss/batch_ct=0.060386423125035234\n",
      "tensor(0.1199, device='cuda:0', grad_fn=<SmoothL1LossBackward0>)\n"
     ]
    },
    {
     "name": "stderr",
     "output_type": "stream",
     "text": [
      "100%|██████████| 1250/1250 [00:01<00:00, 672.52it/s]\n",
      "  0%|          | 1/293 [00:00<00:33,  8.61it/s]"
     ]
    },
    {
     "name": "stdout",
     "output_type": "stream",
     "text": [
      "accuray: 0.2604\n"
     ]
    },
    {
     "name": "stderr",
     "output_type": "stream",
     "text": [
      "100%|██████████| 293/293 [00:32<00:00,  9.03it/s]\n",
      "  9%|▊         | 108/1250 [00:00<00:02, 536.36it/s]"
     ]
    },
    {
     "name": "stdout",
     "output_type": "stream",
     "text": [
      "epoch_loss/batch_ct=0.06035181769125518\n",
      "tensor(0.1204, device='cuda:0', grad_fn=<SmoothL1LossBackward0>)\n"
     ]
    },
    {
     "name": "stderr",
     "output_type": "stream",
     "text": [
      "100%|██████████| 1250/1250 [00:02<00:00, 587.70it/s]\n",
      "  0%|          | 1/293 [00:00<00:36,  8.06it/s]"
     ]
    },
    {
     "name": "stdout",
     "output_type": "stream",
     "text": [
      "accuray: 0.2625\n"
     ]
    },
    {
     "name": "stderr",
     "output_type": "stream",
     "text": [
      "100%|██████████| 293/293 [00:31<00:00,  9.38it/s] \n",
      "  7%|▋         | 88/1250 [00:00<00:02, 431.98it/s]"
     ]
    },
    {
     "name": "stdout",
     "output_type": "stream",
     "text": [
      "epoch_loss/batch_ct=0.06032345084739583\n",
      "tensor(0.1199, device='cuda:0', grad_fn=<SmoothL1LossBackward0>)\n"
     ]
    },
    {
     "name": "stderr",
     "output_type": "stream",
     "text": [
      "100%|██████████| 1250/1250 [00:02<00:00, 574.45it/s]\n",
      "  0%|          | 1/293 [00:00<00:37,  7.87it/s]"
     ]
    },
    {
     "name": "stdout",
     "output_type": "stream",
     "text": [
      "accuray: 0.2633\n"
     ]
    },
    {
     "name": "stderr",
     "output_type": "stream",
     "text": [
      "100%|██████████| 293/293 [00:32<00:00,  8.92it/s] \n",
      "  4%|▍         | 50/1250 [00:00<00:02, 485.00it/s]"
     ]
    },
    {
     "name": "stdout",
     "output_type": "stream",
     "text": [
      "epoch_loss/batch_ct=0.06034008128243306\n",
      "tensor(0.1156, device='cuda:0', grad_fn=<SmoothL1LossBackward0>)\n"
     ]
    },
    {
     "name": "stderr",
     "output_type": "stream",
     "text": [
      "100%|██████████| 1250/1250 [00:02<00:00, 583.58it/s]\n",
      "  0%|          | 1/293 [00:00<00:35,  8.33it/s]"
     ]
    },
    {
     "name": "stdout",
     "output_type": "stream",
     "text": [
      "accuray: 0.2588\n"
     ]
    },
    {
     "name": "stderr",
     "output_type": "stream",
     "text": [
      "100%|██████████| 293/293 [00:31<00:00,  9.35it/s] \n",
      " 10%|▉         | 124/1250 [00:00<00:01, 601.74it/s]"
     ]
    },
    {
     "name": "stdout",
     "output_type": "stream",
     "text": [
      "epoch_loss/batch_ct=0.060413947181096155\n",
      "tensor(0.1187, device='cuda:0', grad_fn=<SmoothL1LossBackward0>)\n"
     ]
    },
    {
     "name": "stderr",
     "output_type": "stream",
     "text": [
      "100%|██████████| 1250/1250 [00:02<00:00, 605.95it/s]\n",
      "  0%|          | 1/293 [00:00<00:35,  8.19it/s]"
     ]
    },
    {
     "name": "stdout",
     "output_type": "stream",
     "text": [
      "accuray: 0.2618\n"
     ]
    },
    {
     "name": "stderr",
     "output_type": "stream",
     "text": [
      "100%|██████████| 293/293 [00:32<00:00,  8.88it/s] \n",
      "  4%|▍         | 50/1250 [00:00<00:02, 499.55it/s]"
     ]
    },
    {
     "name": "stdout",
     "output_type": "stream",
     "text": [
      "epoch_loss/batch_ct=0.060338695725751304\n",
      "tensor(0.1203, device='cuda:0', grad_fn=<SmoothL1LossBackward0>)\n"
     ]
    },
    {
     "name": "stderr",
     "output_type": "stream",
     "text": [
      "100%|██████████| 1250/1250 [00:02<00:00, 585.50it/s]\n",
      "  0%|          | 1/293 [00:00<00:35,  8.19it/s]"
     ]
    },
    {
     "name": "stdout",
     "output_type": "stream",
     "text": [
      "accuray: 0.265\n"
     ]
    },
    {
     "name": "stderr",
     "output_type": "stream",
     "text": [
      "100%|██████████| 293/293 [00:31<00:00,  9.30it/s] \n",
      "  4%|▍         | 50/1250 [00:00<00:02, 499.55it/s]"
     ]
    },
    {
     "name": "stdout",
     "output_type": "stream",
     "text": [
      "epoch_loss/batch_ct=0.060302328421837754\n",
      "tensor(0.1199, device='cuda:0', grad_fn=<SmoothL1LossBackward0>)\n"
     ]
    },
    {
     "name": "stderr",
     "output_type": "stream",
     "text": [
      "100%|██████████| 1250/1250 [00:02<00:00, 581.68it/s]\n",
      "  0%|          | 1/293 [00:00<00:36,  7.99it/s]"
     ]
    },
    {
     "name": "stdout",
     "output_type": "stream",
     "text": [
      "accuray: 0.2619\n"
     ]
    },
    {
     "name": "stderr",
     "output_type": "stream",
     "text": [
      "100%|██████████| 293/293 [00:32<00:00,  8.91it/s] \n",
      "  3%|▎         | 43/1250 [00:00<00:02, 429.61it/s]"
     ]
    },
    {
     "name": "stdout",
     "output_type": "stream",
     "text": [
      "epoch_loss/batch_ct=0.060295204306760476\n",
      "tensor(0.1194, device='cuda:0', grad_fn=<SmoothL1LossBackward0>)\n"
     ]
    },
    {
     "name": "stderr",
     "output_type": "stream",
     "text": [
      "100%|██████████| 1250/1250 [00:02<00:00, 577.38it/s]\n",
      "  0%|          | 1/293 [00:00<00:38,  7.51it/s]"
     ]
    },
    {
     "name": "stdout",
     "output_type": "stream",
     "text": [
      "accuray: 0.2637\n"
     ]
    },
    {
     "name": "stderr",
     "output_type": "stream",
     "text": [
      "100%|██████████| 293/293 [00:30<00:00,  9.46it/s] \n",
      "  4%|▍         | 50/1250 [00:00<00:02, 494.60it/s]"
     ]
    },
    {
     "name": "stdout",
     "output_type": "stream",
     "text": [
      "epoch_loss/batch_ct=0.0603186260051434\n",
      "tensor(0.1191, device='cuda:0', grad_fn=<SmoothL1LossBackward0>)\n"
     ]
    },
    {
     "name": "stderr",
     "output_type": "stream",
     "text": [
      "100%|██████████| 1250/1250 [00:02<00:00, 581.41it/s]\n",
      "  0%|          | 1/293 [00:00<00:36,  7.93it/s]"
     ]
    },
    {
     "name": "stdout",
     "output_type": "stream",
     "text": [
      "accuray: 0.2641\n"
     ]
    },
    {
     "name": "stderr",
     "output_type": "stream",
     "text": [
      "100%|██████████| 293/293 [00:31<00:00,  9.34it/s] \n",
      "  8%|▊         | 98/1250 [00:00<00:02, 487.55it/s]"
     ]
    },
    {
     "name": "stdout",
     "output_type": "stream",
     "text": [
      "epoch_loss/batch_ct=0.06027293863100192\n",
      "tensor(0.1206, device='cuda:0', grad_fn=<SmoothL1LossBackward0>)\n"
     ]
    },
    {
     "name": "stderr",
     "output_type": "stream",
     "text": [
      "100%|██████████| 1250/1250 [00:02<00:00, 583.85it/s]\n",
      "  0%|          | 1/293 [00:00<00:36,  7.99it/s]"
     ]
    },
    {
     "name": "stdout",
     "output_type": "stream",
     "text": [
      "accuray: 0.264\n"
     ]
    },
    {
     "name": "stderr",
     "output_type": "stream",
     "text": [
      "100%|██████████| 293/293 [00:32<00:00,  8.98it/s] \n",
      "  7%|▋         | 88/1250 [00:00<00:02, 436.99it/s]"
     ]
    },
    {
     "name": "stdout",
     "output_type": "stream",
     "text": [
      "epoch_loss/batch_ct=0.06033038402656241\n",
      "tensor(0.1197, device='cuda:0', grad_fn=<SmoothL1LossBackward0>)\n"
     ]
    },
    {
     "name": "stderr",
     "output_type": "stream",
     "text": [
      "100%|██████████| 1250/1250 [00:02<00:00, 578.18it/s]\n",
      "  0%|          | 1/293 [00:00<00:35,  8.26it/s]"
     ]
    },
    {
     "name": "stdout",
     "output_type": "stream",
     "text": [
      "accuray: 0.2628\n"
     ]
    },
    {
     "name": "stderr",
     "output_type": "stream",
     "text": [
      "100%|██████████| 293/293 [00:31<00:00,  9.40it/s] \n",
      "  4%|▍         | 48/1250 [00:00<00:02, 479.57it/s]"
     ]
    },
    {
     "name": "stdout",
     "output_type": "stream",
     "text": [
      "epoch_loss/batch_ct=0.060332715452190426\n",
      "tensor(0.1201, device='cuda:0', grad_fn=<SmoothL1LossBackward0>)\n"
     ]
    },
    {
     "name": "stderr",
     "output_type": "stream",
     "text": [
      "100%|██████████| 1250/1250 [00:02<00:00, 582.49it/s]\n",
      "  0%|          | 1/293 [00:00<00:35,  8.33it/s]"
     ]
    },
    {
     "name": "stdout",
     "output_type": "stream",
     "text": [
      "accuray: 0.2617\n"
     ]
    },
    {
     "name": "stderr",
     "output_type": "stream",
     "text": [
      "100%|██████████| 293/293 [00:33<00:00,  8.86it/s] \n",
      " 11%|█         | 136/1250 [00:00<00:01, 681.14it/s]"
     ]
    },
    {
     "name": "stdout",
     "output_type": "stream",
     "text": [
      "epoch_loss/batch_ct=0.060250014613663395\n",
      "tensor(0.1192, device='cuda:0', grad_fn=<SmoothL1LossBackward0>)\n"
     ]
    },
    {
     "name": "stderr",
     "output_type": "stream",
     "text": [
      "100%|██████████| 1250/1250 [00:01<00:00, 642.75it/s]\n",
      "  0%|          | 1/293 [00:00<00:34,  8.47it/s]"
     ]
    },
    {
     "name": "stdout",
     "output_type": "stream",
     "text": [
      "accuray: 0.2667\n"
     ]
    },
    {
     "name": "stderr",
     "output_type": "stream",
     "text": [
      "100%|██████████| 293/293 [00:31<00:00,  9.30it/s] \n",
      "  4%|▎         | 45/1250 [00:00<00:02, 445.14it/s]"
     ]
    },
    {
     "name": "stdout",
     "output_type": "stream",
     "text": [
      "epoch_loss/batch_ct=0.060218844030584605\n",
      "tensor(0.1187, device='cuda:0', grad_fn=<SmoothL1LossBackward0>)\n"
     ]
    },
    {
     "name": "stderr",
     "output_type": "stream",
     "text": [
      "100%|██████████| 1250/1250 [00:02<00:00, 577.64it/s]\n",
      "  0%|          | 1/293 [00:00<00:36,  7.99it/s]"
     ]
    },
    {
     "name": "stdout",
     "output_type": "stream",
     "text": [
      "accuray: 0.264\n"
     ]
    },
    {
     "name": "stderr",
     "output_type": "stream",
     "text": [
      "100%|██████████| 293/293 [00:32<00:00,  8.93it/s] \n",
      "  8%|▊         | 102/1250 [00:00<00:02, 507.99it/s]"
     ]
    },
    {
     "name": "stdout",
     "output_type": "stream",
     "text": [
      "epoch_loss/batch_ct=0.060280535739683914\n",
      "tensor(0.1177, device='cuda:0', grad_fn=<SmoothL1LossBackward0>)\n"
     ]
    },
    {
     "name": "stderr",
     "output_type": "stream",
     "text": [
      "100%|██████████| 1250/1250 [00:02<00:00, 591.60it/s]\n",
      "  0%|          | 1/293 [00:00<00:35,  8.12it/s]"
     ]
    },
    {
     "name": "stdout",
     "output_type": "stream",
     "text": [
      "accuray: 0.2673\n"
     ]
    },
    {
     "name": "stderr",
     "output_type": "stream",
     "text": [
      "100%|██████████| 293/293 [00:31<00:00,  9.34it/s] \n",
      "  8%|▊         | 99/1250 [00:00<00:02, 490.53it/s]"
     ]
    },
    {
     "name": "stdout",
     "output_type": "stream",
     "text": [
      "epoch_loss/batch_ct=0.06021593551018408\n",
      "tensor(0.1201, device='cuda:0', grad_fn=<SmoothL1LossBackward0>)\n"
     ]
    },
    {
     "name": "stderr",
     "output_type": "stream",
     "text": [
      "100%|██████████| 1250/1250 [00:02<00:00, 586.87it/s]\n",
      "  0%|          | 1/293 [00:00<00:35,  8.33it/s]"
     ]
    },
    {
     "name": "stdout",
     "output_type": "stream",
     "text": [
      "accuray: 0.2629\n"
     ]
    },
    {
     "name": "stderr",
     "output_type": "stream",
     "text": [
      "100%|██████████| 293/293 [00:32<00:00,  8.91it/s] \n",
      "  6%|▌         | 69/1250 [00:00<00:01, 689.37it/s]"
     ]
    },
    {
     "name": "stdout",
     "output_type": "stream",
     "text": [
      "epoch_loss/batch_ct=0.06029297257699664\n",
      "tensor(0.1212, device='cuda:0', grad_fn=<SmoothL1LossBackward0>)\n"
     ]
    },
    {
     "name": "stderr",
     "output_type": "stream",
     "text": [
      "100%|██████████| 1250/1250 [00:01<00:00, 673.61it/s]\n",
      "  0%|          | 1/293 [00:00<00:33,  8.61it/s]"
     ]
    },
    {
     "name": "stdout",
     "output_type": "stream",
     "text": [
      "accuray: 0.2607\n"
     ]
    },
    {
     "name": "stderr",
     "output_type": "stream",
     "text": [
      "100%|██████████| 293/293 [00:31<00:00,  9.40it/s] \n",
      "  8%|▊         | 103/1250 [00:00<00:02, 506.50it/s]"
     ]
    },
    {
     "name": "stdout",
     "output_type": "stream",
     "text": [
      "epoch_loss/batch_ct=0.06029101410910251\n",
      "tensor(0.1187, device='cuda:0', grad_fn=<SmoothL1LossBackward0>)\n"
     ]
    },
    {
     "name": "stderr",
     "output_type": "stream",
     "text": [
      "100%|██████████| 1250/1250 [00:02<00:00, 586.87it/s]\n",
      "  0%|          | 1/293 [00:00<00:37,  7.87it/s]"
     ]
    },
    {
     "name": "stdout",
     "output_type": "stream",
     "text": [
      "accuray: 0.2676\n"
     ]
    },
    {
     "name": "stderr",
     "output_type": "stream",
     "text": [
      "100%|██████████| 293/293 [00:32<00:00,  8.93it/s] \n",
      "  8%|▊         | 94/1250 [00:00<00:02, 466.83it/s]"
     ]
    },
    {
     "name": "stdout",
     "output_type": "stream",
     "text": [
      "epoch_loss/batch_ct=0.06037177315484437\n",
      "tensor(0.1198, device='cuda:0', grad_fn=<SmoothL1LossBackward0>)\n"
     ]
    },
    {
     "name": "stderr",
     "output_type": "stream",
     "text": [
      "100%|██████████| 1250/1250 [00:02<00:00, 575.51it/s]\n",
      "  0%|          | 1/293 [00:00<00:36,  8.06it/s]"
     ]
    },
    {
     "name": "stdout",
     "output_type": "stream",
     "text": [
      "accuray: 0.2644\n"
     ]
    },
    {
     "name": "stderr",
     "output_type": "stream",
     "text": [
      "100%|██████████| 293/293 [00:31<00:00,  9.44it/s] \n",
      "  4%|▍         | 47/1250 [00:00<00:02, 460.37it/s]"
     ]
    },
    {
     "name": "stdout",
     "output_type": "stream",
     "text": [
      "epoch_loss/batch_ct=0.06037947761693171\n",
      "tensor(0.1187, device='cuda:0', grad_fn=<SmoothL1LossBackward0>)\n"
     ]
    },
    {
     "name": "stderr",
     "output_type": "stream",
     "text": [
      "100%|██████████| 1250/1250 [00:02<00:00, 585.77it/s]\n",
      "  0%|          | 1/293 [00:00<00:38,  7.51it/s]"
     ]
    },
    {
     "name": "stdout",
     "output_type": "stream",
     "text": [
      "accuray: 0.259\n"
     ]
    },
    {
     "name": "stderr",
     "output_type": "stream",
     "text": [
      "100%|██████████| 293/293 [00:31<00:00,  9.38it/s] \n",
      "  8%|▊         | 94/1250 [00:00<00:02, 471.34it/s]"
     ]
    },
    {
     "name": "stdout",
     "output_type": "stream",
     "text": [
      "epoch_loss/batch_ct=0.06029418523290327\n",
      "tensor(0.1186, device='cuda:0', grad_fn=<SmoothL1LossBackward0>)\n"
     ]
    },
    {
     "name": "stderr",
     "output_type": "stream",
     "text": [
      "100%|██████████| 1250/1250 [00:02<00:00, 576.04it/s]\n",
      "  0%|          | 1/293 [00:00<00:35,  8.26it/s]"
     ]
    },
    {
     "name": "stdout",
     "output_type": "stream",
     "text": [
      "accuray: 0.2606\n"
     ]
    },
    {
     "name": "stderr",
     "output_type": "stream",
     "text": [
      "100%|██████████| 293/293 [00:31<00:00,  9.31it/s]\n",
      "  7%|▋         | 89/1250 [00:00<00:02, 441.07it/s]"
     ]
    },
    {
     "name": "stdout",
     "output_type": "stream",
     "text": [
      "epoch_loss/batch_ct=0.0603628551350936\n",
      "tensor(0.1189, device='cuda:0', grad_fn=<SmoothL1LossBackward0>)\n"
     ]
    },
    {
     "name": "stderr",
     "output_type": "stream",
     "text": [
      "100%|██████████| 1250/1250 [00:02<00:00, 577.91it/s]\n",
      "  0%|          | 1/293 [00:00<00:37,  7.81it/s]"
     ]
    },
    {
     "name": "stdout",
     "output_type": "stream",
     "text": [
      "accuray: 0.2582\n"
     ]
    },
    {
     "name": "stderr",
     "output_type": "stream",
     "text": [
      "100%|██████████| 293/293 [00:31<00:00,  9.33it/s] \n",
      "  4%|▍         | 51/1250 [00:00<00:02, 509.54it/s]"
     ]
    },
    {
     "name": "stdout",
     "output_type": "stream",
     "text": [
      "epoch_loss/batch_ct=0.06036892033640354\n",
      "tensor(0.1185, device='cuda:0', grad_fn=<SmoothL1LossBackward0>)\n"
     ]
    },
    {
     "name": "stderr",
     "output_type": "stream",
     "text": [
      "100%|██████████| 1250/1250 [00:02<00:00, 583.85it/s]\n",
      "  0%|          | 1/293 [00:00<00:35,  8.19it/s]"
     ]
    },
    {
     "name": "stdout",
     "output_type": "stream",
     "text": [
      "accuray: 0.2642\n"
     ]
    },
    {
     "name": "stderr",
     "output_type": "stream",
     "text": [
      "100%|██████████| 293/293 [00:32<00:00,  8.93it/s] \n",
      "  3%|▎         | 43/1250 [00:00<00:02, 425.35it/s]"
     ]
    },
    {
     "name": "stdout",
     "output_type": "stream",
     "text": [
      "epoch_loss/batch_ct=0.06034426751827437\n",
      "tensor(0.1194, device='cuda:0', grad_fn=<SmoothL1LossBackward0>)\n"
     ]
    },
    {
     "name": "stderr",
     "output_type": "stream",
     "text": [
      "100%|██████████| 1250/1250 [00:02<00:00, 576.31it/s]\n",
      "  0%|          | 1/293 [00:00<00:36,  7.93it/s]"
     ]
    },
    {
     "name": "stdout",
     "output_type": "stream",
     "text": [
      "accuray: 0.2662\n"
     ]
    },
    {
     "name": "stderr",
     "output_type": "stream",
     "text": [
      "100%|██████████| 293/293 [00:31<00:00,  9.33it/s] \n",
      "  4%|▍         | 49/1250 [00:00<00:02, 484.71it/s]"
     ]
    },
    {
     "name": "stdout",
     "output_type": "stream",
     "text": [
      "epoch_loss/batch_ct=0.060251298937059584\n",
      "tensor(0.1185, device='cuda:0', grad_fn=<SmoothL1LossBackward0>)\n"
     ]
    },
    {
     "name": "stderr",
     "output_type": "stream",
     "text": [
      "100%|██████████| 1250/1250 [00:02<00:00, 581.14it/s]\n",
      "  0%|          | 1/293 [00:00<00:39,  7.35it/s]"
     ]
    },
    {
     "name": "stdout",
     "output_type": "stream",
     "text": [
      "accuray: 0.2636\n"
     ]
    },
    {
     "name": "stderr",
     "output_type": "stream",
     "text": [
      "100%|██████████| 293/293 [00:32<00:00,  8.92it/s] \n",
      "  4%|▎         | 46/1250 [00:00<00:02, 459.58it/s]"
     ]
    },
    {
     "name": "stdout",
     "output_type": "stream",
     "text": [
      "epoch_loss/batch_ct=0.06019782178872635\n",
      "tensor(0.1192, device='cuda:0', grad_fn=<SmoothL1LossBackward0>)\n"
     ]
    },
    {
     "name": "stderr",
     "output_type": "stream",
     "text": [
      "100%|██████████| 1250/1250 [00:02<00:00, 583.58it/s]\n",
      "  0%|          | 1/293 [00:00<00:35,  8.33it/s]"
     ]
    },
    {
     "name": "stdout",
     "output_type": "stream",
     "text": [
      "accuray: 0.2634\n"
     ]
    },
    {
     "name": "stderr",
     "output_type": "stream",
     "text": [
      "100%|██████████| 293/293 [00:31<00:00,  9.41it/s] \n",
      " 10%|▉         | 121/1250 [00:00<00:01, 602.85it/s]"
     ]
    },
    {
     "name": "stdout",
     "output_type": "stream",
     "text": [
      "epoch_loss/batch_ct=0.06021260317888052\n",
      "tensor(0.1197, device='cuda:0', grad_fn=<SmoothL1LossBackward0>)\n"
     ]
    },
    {
     "name": "stderr",
     "output_type": "stream",
     "text": [
      "100%|██████████| 1250/1250 [00:02<00:00, 607.72it/s]\n",
      "  0%|          | 1/293 [00:00<00:35,  8.26it/s]"
     ]
    },
    {
     "name": "stdout",
     "output_type": "stream",
     "text": [
      "accuray: 0.2652\n"
     ]
    },
    {
     "name": "stderr",
     "output_type": "stream",
     "text": [
      "100%|██████████| 293/293 [00:33<00:00,  8.62it/s] \n",
      "  3%|▎         | 43/1250 [00:00<00:02, 429.61it/s]"
     ]
    },
    {
     "name": "stdout",
     "output_type": "stream",
     "text": [
      "epoch_loss/batch_ct=0.06016894585142533\n",
      "tensor(0.1211, device='cuda:0', grad_fn=<SmoothL1LossBackward0>)\n"
     ]
    },
    {
     "name": "stderr",
     "output_type": "stream",
     "text": [
      "100%|██████████| 1250/1250 [00:02<00:00, 571.30it/s]\n",
      "  0%|          | 1/293 [00:00<00:37,  7.87it/s]"
     ]
    },
    {
     "name": "stdout",
     "output_type": "stream",
     "text": [
      "accuray: 0.2593\n"
     ]
    },
    {
     "name": "stderr",
     "output_type": "stream",
     "text": [
      "100%|██████████| 293/293 [00:32<00:00,  9.06it/s] \n",
      "  7%|▋         | 85/1250 [00:00<00:02, 427.26it/s]"
     ]
    },
    {
     "name": "stdout",
     "output_type": "stream",
     "text": [
      "epoch_loss/batch_ct=0.060291137117596844\n",
      "tensor(0.1179, device='cuda:0', grad_fn=<SmoothL1LossBackward0>)\n"
     ]
    },
    {
     "name": "stderr",
     "output_type": "stream",
     "text": [
      "100%|██████████| 1250/1250 [00:02<00:00, 533.93it/s]\n",
      "  0%|          | 1/293 [00:00<00:39,  7.35it/s]"
     ]
    },
    {
     "name": "stdout",
     "output_type": "stream",
     "text": [
      "accuray: 0.2607\n"
     ]
    },
    {
     "name": "stderr",
     "output_type": "stream",
     "text": [
      "100%|██████████| 293/293 [00:34<00:00,  8.49it/s] \n",
      "  4%|▍         | 53/1250 [00:00<00:02, 524.28it/s]"
     ]
    },
    {
     "name": "stdout",
     "output_type": "stream",
     "text": [
      "epoch_loss/batch_ct=0.06024236143344924\n",
      "tensor(0.1179, device='cuda:0', grad_fn=<SmoothL1LossBackward0>)\n"
     ]
    },
    {
     "name": "stderr",
     "output_type": "stream",
     "text": [
      "100%|██████████| 1250/1250 [00:02<00:00, 580.87it/s]\n",
      "  0%|          | 1/293 [00:00<00:35,  8.19it/s]"
     ]
    },
    {
     "name": "stdout",
     "output_type": "stream",
     "text": [
      "accuray: 0.2616\n"
     ]
    },
    {
     "name": "stderr",
     "output_type": "stream",
     "text": [
      "100%|██████████| 293/293 [00:31<00:00,  9.35it/s] \n",
      "  8%|▊         | 94/1250 [00:00<00:02, 464.92it/s]"
     ]
    },
    {
     "name": "stdout",
     "output_type": "stream",
     "text": [
      "epoch_loss/batch_ct=0.06023254365261112\n",
      "tensor(0.1184, device='cuda:0', grad_fn=<SmoothL1LossBackward0>)\n"
     ]
    },
    {
     "name": "stderr",
     "output_type": "stream",
     "text": [
      "100%|██████████| 1250/1250 [00:02<00:00, 581.95it/s]\n",
      "  0%|          | 1/293 [00:00<00:35,  8.19it/s]"
     ]
    },
    {
     "name": "stdout",
     "output_type": "stream",
     "text": [
      "accuray: 0.262\n"
     ]
    },
    {
     "name": "stderr",
     "output_type": "stream",
     "text": [
      "100%|██████████| 293/293 [00:32<00:00,  8.93it/s] \n",
      "  7%|▋         | 88/1250 [00:00<00:02, 441.31it/s]"
     ]
    },
    {
     "name": "stdout",
     "output_type": "stream",
     "text": [
      "epoch_loss/batch_ct=0.060269357296564276\n",
      "tensor(0.1191, device='cuda:0', grad_fn=<SmoothL1LossBackward0>)\n"
     ]
    },
    {
     "name": "stderr",
     "output_type": "stream",
     "text": [
      "100%|██████████| 1250/1250 [00:02<00:00, 582.22it/s]\n",
      "  0%|          | 1/293 [00:00<00:35,  8.33it/s]"
     ]
    },
    {
     "name": "stdout",
     "output_type": "stream",
     "text": [
      "accuray: 0.2656\n"
     ]
    },
    {
     "name": "stderr",
     "output_type": "stream",
     "text": [
      "100%|██████████| 293/293 [00:31<00:00,  9.29it/s] \n",
      " 11%|█         | 137/1250 [00:00<00:01, 685.26it/s]"
     ]
    },
    {
     "name": "stdout",
     "output_type": "stream",
     "text": [
      "epoch_loss/batch_ct=0.060224332314516814\n",
      "tensor(0.1201, device='cuda:0', grad_fn=<SmoothL1LossBackward0>)\n"
     ]
    },
    {
     "name": "stderr",
     "output_type": "stream",
     "text": [
      "100%|██████████| 1250/1250 [00:01<00:00, 665.00it/s]\n",
      "  0%|          | 1/293 [00:00<00:35,  8.33it/s]"
     ]
    },
    {
     "name": "stdout",
     "output_type": "stream",
     "text": [
      "accuray: 0.2675\n"
     ]
    },
    {
     "name": "stderr",
     "output_type": "stream",
     "text": [
      "100%|██████████| 293/293 [00:32<00:00,  8.99it/s] \n",
      "  8%|▊         | 96/1250 [00:00<00:02, 479.56it/s]"
     ]
    },
    {
     "name": "stdout",
     "output_type": "stream",
     "text": [
      "epoch_loss/batch_ct=0.06036090596564232\n",
      "tensor(0.1179, device='cuda:0', grad_fn=<SmoothL1LossBackward0>)\n"
     ]
    },
    {
     "name": "stderr",
     "output_type": "stream",
     "text": [
      "100%|██████████| 1250/1250 [00:02<00:00, 570.78it/s]\n",
      "  0%|          | 1/293 [00:00<00:54,  5.40it/s]"
     ]
    },
    {
     "name": "stdout",
     "output_type": "stream",
     "text": [
      "accuray: 0.2627\n"
     ]
    },
    {
     "name": "stderr",
     "output_type": "stream",
     "text": [
      "100%|██████████| 293/293 [00:31<00:00,  9.29it/s] \n",
      "  4%|▍         | 47/1250 [00:00<00:02, 469.57it/s]"
     ]
    },
    {
     "name": "stdout",
     "output_type": "stream",
     "text": [
      "epoch_loss/batch_ct=0.060355439575182065\n",
      "tensor(0.1186, device='cuda:0', grad_fn=<SmoothL1LossBackward0>)\n"
     ]
    },
    {
     "name": "stderr",
     "output_type": "stream",
     "text": [
      "100%|██████████| 1250/1250 [00:02<00:00, 578.45it/s]\n",
      "  0%|          | 1/293 [00:00<00:35,  8.12it/s]"
     ]
    },
    {
     "name": "stdout",
     "output_type": "stream",
     "text": [
      "accuray: 0.2661\n"
     ]
    },
    {
     "name": "stderr",
     "output_type": "stream",
     "text": [
      "100%|██████████| 293/293 [00:32<00:00,  8.95it/s] \n",
      "  6%|▌         | 69/1250 [00:00<00:01, 689.37it/s]"
     ]
    },
    {
     "name": "stdout",
     "output_type": "stream",
     "text": [
      "epoch_loss/batch_ct=0.0601621727414784\n",
      "tensor(0.1204, device='cuda:0', grad_fn=<SmoothL1LossBackward0>)\n"
     ]
    },
    {
     "name": "stderr",
     "output_type": "stream",
     "text": [
      "100%|██████████| 1250/1250 [00:01<00:00, 678.36it/s]\n",
      "  0%|          | 1/293 [00:00<00:34,  8.47it/s]"
     ]
    },
    {
     "name": "stdout",
     "output_type": "stream",
     "text": [
      "accuray: 0.2671\n"
     ]
    },
    {
     "name": "stderr",
     "output_type": "stream",
     "text": [
      "100%|██████████| 293/293 [00:31<00:00,  9.36it/s] \n",
      "  7%|▋         | 90/1250 [00:00<00:02, 438.25it/s]"
     ]
    },
    {
     "name": "stdout",
     "output_type": "stream",
     "text": [
      "epoch_loss/batch_ct=0.060200690528348325\n",
      "tensor(0.1196, device='cuda:0', grad_fn=<SmoothL1LossBackward0>)\n"
     ]
    },
    {
     "name": "stderr",
     "output_type": "stream",
     "text": [
      "100%|██████████| 1250/1250 [00:02<00:00, 575.51it/s]\n",
      "  0%|          | 1/293 [00:00<00:39,  7.46it/s]"
     ]
    },
    {
     "name": "stdout",
     "output_type": "stream",
     "text": [
      "accuray: 0.2648\n"
     ]
    },
    {
     "name": "stderr",
     "output_type": "stream",
     "text": [
      "100%|██████████| 293/293 [00:32<00:00,  8.93it/s] \n",
      " 11%|█         | 136/1250 [00:00<00:01, 679.38it/s]"
     ]
    },
    {
     "name": "stdout",
     "output_type": "stream",
     "text": [
      "epoch_loss/batch_ct=0.060221170917862936\n",
      "tensor(0.1196, device='cuda:0', grad_fn=<SmoothL1LossBackward0>)\n"
     ]
    },
    {
     "name": "stderr",
     "output_type": "stream",
     "text": [
      "100%|██████████| 1250/1250 [00:01<00:00, 644.41it/s]\n",
      "  0%|          | 1/293 [00:00<00:34,  8.40it/s]"
     ]
    },
    {
     "name": "stdout",
     "output_type": "stream",
     "text": [
      "accuray: 0.2678\n"
     ]
    },
    {
     "name": "stderr",
     "output_type": "stream",
     "text": [
      "100%|██████████| 293/293 [00:31<00:00,  9.29it/s] \n",
      "  7%|▋         | 87/1250 [00:00<00:02, 432.92it/s]"
     ]
    },
    {
     "name": "stdout",
     "output_type": "stream",
     "text": [
      "epoch_loss/batch_ct=0.06020156362108768\n",
      "tensor(0.1189, device='cuda:0', grad_fn=<SmoothL1LossBackward0>)\n"
     ]
    },
    {
     "name": "stderr",
     "output_type": "stream",
     "text": [
      "100%|██████████| 1250/1250 [00:02<00:00, 578.18it/s]\n",
      "  0%|          | 1/293 [00:00<00:35,  8.26it/s]"
     ]
    },
    {
     "name": "stdout",
     "output_type": "stream",
     "text": [
      "accuray: 0.2656\n"
     ]
    },
    {
     "name": "stderr",
     "output_type": "stream",
     "text": [
      "100%|██████████| 293/293 [00:32<00:00,  8.99it/s] \n",
      "  7%|▋         | 90/1250 [00:00<00:02, 453.12it/s]"
     ]
    },
    {
     "name": "stdout",
     "output_type": "stream",
     "text": [
      "epoch_loss/batch_ct=0.060164445937271153\n",
      "tensor(0.1208, device='cuda:0', grad_fn=<SmoothL1LossBackward0>)\n"
     ]
    },
    {
     "name": "stderr",
     "output_type": "stream",
     "text": [
      "100%|██████████| 1250/1250 [00:02<00:00, 578.98it/s]\n",
      "  0%|          | 1/293 [00:00<00:36,  7.93it/s]"
     ]
    },
    {
     "name": "stdout",
     "output_type": "stream",
     "text": [
      "accuray: 0.2621\n"
     ]
    },
    {
     "name": "stderr",
     "output_type": "stream",
     "text": [
      "100%|██████████| 293/293 [00:31<00:00,  9.33it/s]\n",
      "  7%|▋         | 86/1250 [00:00<00:02, 427.85it/s]"
     ]
    },
    {
     "name": "stdout",
     "output_type": "stream",
     "text": [
      "epoch_loss/batch_ct=0.060231669983338745\n",
      "tensor(0.1172, device='cuda:0', grad_fn=<SmoothL1LossBackward0>)\n"
     ]
    },
    {
     "name": "stderr",
     "output_type": "stream",
     "text": [
      "100%|██████████| 1250/1250 [00:02<00:00, 577.11it/s]\n",
      "  0%|          | 1/293 [00:00<00:35,  8.19it/s]"
     ]
    },
    {
     "name": "stdout",
     "output_type": "stream",
     "text": [
      "accuray: 0.2607\n"
     ]
    },
    {
     "name": "stderr",
     "output_type": "stream",
     "text": [
      "100%|██████████| 293/293 [00:32<00:00,  9.06it/s] \n",
      "  3%|▎         | 42/1250 [00:00<00:02, 415.46it/s]"
     ]
    },
    {
     "name": "stdout",
     "output_type": "stream",
     "text": [
      "epoch_loss/batch_ct=0.060185517376614\n",
      "tensor(0.1203, device='cuda:0', grad_fn=<SmoothL1LossBackward0>)\n"
     ]
    },
    {
     "name": "stderr",
     "output_type": "stream",
     "text": [
      "100%|██████████| 1250/1250 [00:02<00:00, 576.04it/s]\n",
      "  0%|          | 1/293 [00:00<00:35,  8.12it/s]"
     ]
    },
    {
     "name": "stdout",
     "output_type": "stream",
     "text": [
      "accuray: 0.2638\n"
     ]
    },
    {
     "name": "stderr",
     "output_type": "stream",
     "text": [
      "100%|██████████| 293/293 [00:31<00:00,  9.31it/s] \n",
      "  7%|▋         | 90/1250 [00:00<00:02, 439.26it/s]"
     ]
    },
    {
     "name": "stdout",
     "output_type": "stream",
     "text": [
      "epoch_loss/batch_ct=0.060175230209198266\n",
      "tensor(0.1208, device='cuda:0', grad_fn=<SmoothL1LossBackward0>)\n"
     ]
    },
    {
     "name": "stderr",
     "output_type": "stream",
     "text": [
      "100%|██████████| 1250/1250 [00:02<00:00, 577.64it/s]\n",
      "  0%|          | 1/293 [00:00<00:35,  8.19it/s]"
     ]
    },
    {
     "name": "stdout",
     "output_type": "stream",
     "text": [
      "accuray: 0.265\n"
     ]
    },
    {
     "name": "stderr",
     "output_type": "stream",
     "text": [
      "100%|██████████| 293/293 [00:33<00:00,  8.82it/s] \n",
      " 11%|█         | 136/1250 [00:00<00:01, 676.60it/s]"
     ]
    },
    {
     "name": "stdout",
     "output_type": "stream",
     "text": [
      "epoch_loss/batch_ct=0.060193236030283426\n",
      "tensor(0.1196, device='cuda:0', grad_fn=<SmoothL1LossBackward0>)\n"
     ]
    },
    {
     "name": "stderr",
     "output_type": "stream",
     "text": [
      "100%|██████████| 1250/1250 [00:01<00:00, 673.24it/s]\n",
      "  0%|          | 1/293 [00:00<00:34,  8.47it/s]"
     ]
    },
    {
     "name": "stdout",
     "output_type": "stream",
     "text": [
      "accuray: 0.262\n"
     ]
    },
    {
     "name": "stderr",
     "output_type": "stream",
     "text": [
      "100%|██████████| 293/293 [00:32<00:00,  9.07it/s] \n",
      "  9%|▉         | 110/1250 [00:00<00:02, 534.72it/s]"
     ]
    },
    {
     "name": "stdout",
     "output_type": "stream",
     "text": [
      "epoch_loss/batch_ct=0.06020201299162138\n",
      "tensor(0.1218, device='cuda:0', grad_fn=<SmoothL1LossBackward0>)\n"
     ]
    },
    {
     "name": "stderr",
     "output_type": "stream",
     "text": [
      "100%|██████████| 1250/1250 [00:02<00:00, 595.83it/s]\n",
      "  0%|          | 1/293 [00:00<00:36,  7.93it/s]"
     ]
    },
    {
     "name": "stdout",
     "output_type": "stream",
     "text": [
      "accuray: 0.2608\n"
     ]
    },
    {
     "name": "stderr",
     "output_type": "stream",
     "text": [
      "100%|██████████| 293/293 [00:30<00:00,  9.46it/s] \n",
      "  9%|▊         | 107/1250 [00:00<00:02, 528.76it/s]"
     ]
    },
    {
     "name": "stdout",
     "output_type": "stream",
     "text": [
      "epoch_loss/batch_ct=0.06017176373787816\n",
      "tensor(0.1197, device='cuda:0', grad_fn=<SmoothL1LossBackward0>)\n"
     ]
    },
    {
     "name": "stderr",
     "output_type": "stream",
     "text": [
      "100%|██████████| 1250/1250 [00:02<00:00, 588.25it/s]\n",
      "  0%|          | 1/293 [00:00<00:36,  8.06it/s]"
     ]
    },
    {
     "name": "stdout",
     "output_type": "stream",
     "text": [
      "accuray: 0.2668\n"
     ]
    },
    {
     "name": "stderr",
     "output_type": "stream",
     "text": [
      "100%|██████████| 293/293 [00:32<00:00,  8.92it/s] \n",
      "  7%|▋         | 88/1250 [00:00<00:02, 428.51it/s]"
     ]
    },
    {
     "name": "stdout",
     "output_type": "stream",
     "text": [
      "epoch_loss/batch_ct=0.06024247520263233\n",
      "tensor(0.1201, device='cuda:0', grad_fn=<SmoothL1LossBackward0>)\n"
     ]
    },
    {
     "name": "stderr",
     "output_type": "stream",
     "text": [
      "100%|██████████| 1250/1250 [00:02<00:00, 570.26it/s]\n",
      "  0%|          | 1/293 [00:00<00:35,  8.12it/s]"
     ]
    },
    {
     "name": "stdout",
     "output_type": "stream",
     "text": [
      "accuray: 0.2593\n"
     ]
    },
    {
     "name": "stderr",
     "output_type": "stream",
     "text": [
      "100%|██████████| 293/293 [00:31<00:00,  9.35it/s]\n",
      "  8%|▊         | 96/1250 [00:00<00:02, 479.56it/s]"
     ]
    },
    {
     "name": "stdout",
     "output_type": "stream",
     "text": [
      "epoch_loss/batch_ct=0.060131905851737846\n",
      "tensor(0.1212, device='cuda:0', grad_fn=<SmoothL1LossBackward0>)\n"
     ]
    },
    {
     "name": "stderr",
     "output_type": "stream",
     "text": [
      "100%|██████████| 1250/1250 [00:02<00:00, 581.41it/s]\n",
      "  0%|          | 1/293 [00:00<00:40,  7.14it/s]"
     ]
    },
    {
     "name": "stdout",
     "output_type": "stream",
     "text": [
      "accuray: 0.2668\n"
     ]
    },
    {
     "name": "stderr",
     "output_type": "stream",
     "text": [
      "100%|██████████| 293/293 [00:32<00:00,  8.93it/s] \n",
      "  4%|▍         | 49/1250 [00:00<00:02, 484.71it/s]"
     ]
    },
    {
     "name": "stdout",
     "output_type": "stream",
     "text": [
      "epoch_loss/batch_ct=0.060224039066168994\n",
      "tensor(0.1198, device='cuda:0', grad_fn=<SmoothL1LossBackward0>)\n"
     ]
    },
    {
     "name": "stderr",
     "output_type": "stream",
     "text": [
      "100%|██████████| 1250/1250 [00:02<00:00, 583.04it/s]\n",
      "  0%|          | 1/293 [00:00<00:35,  8.19it/s]"
     ]
    },
    {
     "name": "stdout",
     "output_type": "stream",
     "text": [
      "accuray: 0.2604\n"
     ]
    },
    {
     "name": "stderr",
     "output_type": "stream",
     "text": [
      "100%|██████████| 293/293 [00:31<00:00,  9.28it/s] \n",
      "  7%|▋         | 91/1250 [00:00<00:02, 457.11it/s]"
     ]
    },
    {
     "name": "stdout",
     "output_type": "stream",
     "text": [
      "epoch_loss/batch_ct=0.06011891109307134\n",
      "tensor(0.1192, device='cuda:0', grad_fn=<SmoothL1LossBackward0>)\n"
     ]
    },
    {
     "name": "stderr",
     "output_type": "stream",
     "text": [
      "100%|██████████| 1250/1250 [00:02<00:00, 577.64it/s]\n",
      "  0%|          | 1/293 [00:00<00:35,  8.12it/s]"
     ]
    },
    {
     "name": "stdout",
     "output_type": "stream",
     "text": [
      "accuray: 0.2685\n"
     ]
    },
    {
     "name": "stderr",
     "output_type": "stream",
     "text": [
      "100%|██████████| 293/293 [00:33<00:00,  8.86it/s] \n",
      " 11%|█         | 136/1250 [00:00<00:01, 679.38it/s]"
     ]
    },
    {
     "name": "stdout",
     "output_type": "stream",
     "text": [
      "epoch_loss/batch_ct=0.060167026336467457\n",
      "tensor(0.1195, device='cuda:0', grad_fn=<SmoothL1LossBackward0>)\n"
     ]
    },
    {
     "name": "stderr",
     "output_type": "stream",
     "text": [
      "100%|██████████| 1250/1250 [00:01<00:00, 675.43it/s]\n",
      "  0%|          | 1/293 [00:00<00:33,  8.69it/s]"
     ]
    },
    {
     "name": "stdout",
     "output_type": "stream",
     "text": [
      "accuray: 0.2651\n"
     ]
    },
    {
     "name": "stderr",
     "output_type": "stream",
     "text": [
      "100%|██████████| 293/293 [00:31<00:00,  9.27it/s] \n",
      "  7%|▋         | 88/1250 [00:00<00:02, 440.53it/s]"
     ]
    },
    {
     "name": "stdout",
     "output_type": "stream",
     "text": [
      "epoch_loss/batch_ct=0.060188304322461285\n",
      "tensor(0.1192, device='cuda:0', grad_fn=<SmoothL1LossBackward0>)\n"
     ]
    },
    {
     "name": "stderr",
     "output_type": "stream",
     "text": [
      "100%|██████████| 1250/1250 [00:02<00:00, 576.04it/s]\n",
      "  0%|          | 1/293 [00:00<00:35,  8.19it/s]"
     ]
    },
    {
     "name": "stdout",
     "output_type": "stream",
     "text": [
      "accuray: 0.2605\n"
     ]
    },
    {
     "name": "stderr",
     "output_type": "stream",
     "text": [
      "100%|██████████| 293/293 [00:32<00:00,  8.93it/s] \n",
      "  4%|▍         | 48/1250 [00:00<00:02, 470.16it/s]"
     ]
    },
    {
     "name": "stdout",
     "output_type": "stream",
     "text": [
      "epoch_loss/batch_ct=0.06018980894060362\n",
      "tensor(0.1189, device='cuda:0', grad_fn=<SmoothL1LossBackward0>)\n"
     ]
    },
    {
     "name": "stderr",
     "output_type": "stream",
     "text": [
      "100%|██████████| 1250/1250 [00:02<00:00, 583.58it/s]\n",
      "  0%|          | 1/293 [00:00<00:38,  7.63it/s]"
     ]
    },
    {
     "name": "stdout",
     "output_type": "stream",
     "text": [
      "accuray: 0.2621\n"
     ]
    },
    {
     "name": "stderr",
     "output_type": "stream",
     "text": [
      "100%|██████████| 293/293 [00:31<00:00,  9.44it/s] \n",
      "  9%|▊         | 109/1250 [00:00<00:02, 539.99it/s]"
     ]
    },
    {
     "name": "stdout",
     "output_type": "stream",
     "text": [
      "epoch_loss/batch_ct=0.06024619047012594\n",
      "tensor(0.1188, device='cuda:0', grad_fn=<SmoothL1LossBackward0>)\n"
     ]
    },
    {
     "name": "stderr",
     "output_type": "stream",
     "text": [
      "100%|██████████| 1250/1250 [00:02<00:00, 592.16it/s]\n",
      "  0%|          | 1/293 [00:00<00:35,  8.12it/s]"
     ]
    },
    {
     "name": "stdout",
     "output_type": "stream",
     "text": [
      "accuray: 0.2649\n"
     ]
    },
    {
     "name": "stderr",
     "output_type": "stream",
     "text": [
      "100%|██████████| 293/293 [00:33<00:00,  8.88it/s] \n",
      "  7%|▋         | 86/1250 [00:00<00:02, 433.14it/s]"
     ]
    },
    {
     "name": "stdout",
     "output_type": "stream",
     "text": [
      "epoch_loss/batch_ct=0.060198611402440635\n",
      "tensor(0.1189, device='cuda:0', grad_fn=<SmoothL1LossBackward0>)\n"
     ]
    },
    {
     "name": "stderr",
     "output_type": "stream",
     "text": [
      "100%|██████████| 1250/1250 [00:02<00:00, 574.45it/s]\n",
      "  0%|          | 1/293 [00:00<00:35,  8.19it/s]"
     ]
    },
    {
     "name": "stdout",
     "output_type": "stream",
     "text": [
      "accuray: 0.2612\n"
     ]
    },
    {
     "name": "stderr",
     "output_type": "stream",
     "text": [
      "100%|██████████| 293/293 [00:31<00:00,  9.38it/s] \n",
      "  4%|▍         | 48/1250 [00:00<00:02, 474.82it/s]"
     ]
    },
    {
     "name": "stdout",
     "output_type": "stream",
     "text": [
      "epoch_loss/batch_ct=0.06023327825916192\n",
      "tensor(0.1200, device='cuda:0', grad_fn=<SmoothL1LossBackward0>)\n"
     ]
    },
    {
     "name": "stderr",
     "output_type": "stream",
     "text": [
      "100%|██████████| 1250/1250 [00:02<00:00, 579.52it/s]\n",
      "  0%|          | 1/293 [00:00<00:37,  7.69it/s]"
     ]
    },
    {
     "name": "stdout",
     "output_type": "stream",
     "text": [
      "accuray: 0.2601\n"
     ]
    },
    {
     "name": "stderr",
     "output_type": "stream",
     "text": [
      "100%|██████████| 293/293 [00:32<00:00,  8.97it/s] \n",
      " 11%|█         | 138/1250 [00:00<00:01, 677.42it/s]"
     ]
    },
    {
     "name": "stdout",
     "output_type": "stream",
     "text": [
      "epoch_loss/batch_ct=0.060097335941261716\n",
      "tensor(0.1171, device='cuda:0', grad_fn=<SmoothL1LossBackward0>)\n"
     ]
    },
    {
     "name": "stderr",
     "output_type": "stream",
     "text": [
      "100%|██████████| 1250/1250 [00:01<00:00, 668.56it/s]\n",
      "  0%|          | 1/293 [00:00<00:33,  8.69it/s]"
     ]
    },
    {
     "name": "stdout",
     "output_type": "stream",
     "text": [
      "accuray: 0.2631\n"
     ]
    },
    {
     "name": "stderr",
     "output_type": "stream",
     "text": [
      "100%|██████████| 293/293 [00:31<00:00,  9.33it/s] \n",
      "  4%|▍         | 50/1250 [00:00<00:02, 499.54it/s]"
     ]
    },
    {
     "name": "stdout",
     "output_type": "stream",
     "text": [
      "epoch_loss/batch_ct=0.060169212934043675\n",
      "tensor(0.1200, device='cuda:0', grad_fn=<SmoothL1LossBackward0>)\n"
     ]
    },
    {
     "name": "stderr",
     "output_type": "stream",
     "text": [
      "100%|██████████| 1250/1250 [00:02<00:00, 585.22it/s]\n",
      "  0%|          | 1/293 [00:00<00:37,  7.69it/s]"
     ]
    },
    {
     "name": "stdout",
     "output_type": "stream",
     "text": [
      "accuray: 0.2631\n"
     ]
    },
    {
     "name": "stderr",
     "output_type": "stream",
     "text": [
      "100%|██████████| 293/293 [00:32<00:00,  8.93it/s] \n",
      "  8%|▊         | 102/1250 [00:00<00:02, 509.54it/s]"
     ]
    },
    {
     "name": "stdout",
     "output_type": "stream",
     "text": [
      "epoch_loss/batch_ct=0.06013452691868657\n",
      "tensor(0.1203, device='cuda:0', grad_fn=<SmoothL1LossBackward0>)\n"
     ]
    },
    {
     "name": "stderr",
     "output_type": "stream",
     "text": [
      "100%|██████████| 1250/1250 [00:02<00:00, 585.77it/s]\n",
      "  0%|          | 1/293 [00:00<00:35,  8.33it/s]"
     ]
    },
    {
     "name": "stdout",
     "output_type": "stream",
     "text": [
      "accuray: 0.2606\n"
     ]
    },
    {
     "name": "stderr",
     "output_type": "stream",
     "text": [
      "100%|██████████| 293/293 [00:31<00:00,  9.28it/s] \n",
      "  8%|▊         | 102/1250 [00:00<00:02, 506.56it/s]"
     ]
    },
    {
     "name": "stdout",
     "output_type": "stream",
     "text": [
      "epoch_loss/batch_ct=0.06023412083999978\n",
      "tensor(0.1203, device='cuda:0', grad_fn=<SmoothL1LossBackward0>)\n"
     ]
    },
    {
     "name": "stderr",
     "output_type": "stream",
     "text": [
      "100%|██████████| 1250/1250 [00:02<00:00, 587.70it/s]\n",
      "  0%|          | 1/293 [00:00<00:36,  7.99it/s]"
     ]
    },
    {
     "name": "stdout",
     "output_type": "stream",
     "text": [
      "accuray: 0.2659\n"
     ]
    },
    {
     "name": "stderr",
     "output_type": "stream",
     "text": [
      "100%|██████████| 293/293 [00:32<00:00,  9.00it/s] \n",
      "  8%|▊         | 97/1250 [00:00<00:02, 487.20it/s]"
     ]
    },
    {
     "name": "stdout",
     "output_type": "stream",
     "text": [
      "epoch_loss/batch_ct=0.0601630944847351\n",
      "tensor(0.1191, device='cuda:0', grad_fn=<SmoothL1LossBackward0>)\n"
     ]
    },
    {
     "name": "stderr",
     "output_type": "stream",
     "text": [
      "100%|██████████| 1250/1250 [00:02<00:00, 574.72it/s]\n",
      "  0%|          | 1/293 [00:00<00:37,  7.81it/s]"
     ]
    },
    {
     "name": "stdout",
     "output_type": "stream",
     "text": [
      "accuray: 0.2643\n"
     ]
    },
    {
     "name": "stderr",
     "output_type": "stream",
     "text": [
      "100%|██████████| 293/293 [00:31<00:00,  9.38it/s] \n",
      "  7%|▋         | 88/1250 [00:00<00:02, 442.29it/s]"
     ]
    },
    {
     "name": "stdout",
     "output_type": "stream",
     "text": [
      "epoch_loss/batch_ct=0.06025209499611741\n",
      "tensor(0.1195, device='cuda:0', grad_fn=<SmoothL1LossBackward0>)\n"
     ]
    },
    {
     "name": "stderr",
     "output_type": "stream",
     "text": [
      "100%|██████████| 1250/1250 [00:02<00:00, 577.11it/s]\n",
      "  0%|          | 1/293 [00:00<00:34,  8.40it/s]"
     ]
    },
    {
     "name": "stdout",
     "output_type": "stream",
     "text": [
      "accuray: 0.2625\n"
     ]
    },
    {
     "name": "stderr",
     "output_type": "stream",
     "text": [
      "100%|██████████| 293/293 [00:33<00:00,  8.84it/s] \n",
      "  4%|▍         | 52/1250 [00:00<00:02, 514.38it/s]"
     ]
    },
    {
     "name": "stdout",
     "output_type": "stream",
     "text": [
      "epoch_loss/batch_ct=0.06020292017372355\n",
      "tensor(0.1197, device='cuda:0', grad_fn=<SmoothL1LossBackward0>)\n"
     ]
    },
    {
     "name": "stderr",
     "output_type": "stream",
     "text": [
      "100%|██████████| 1250/1250 [00:02<00:00, 592.16it/s]\n",
      "  0%|          | 1/293 [00:00<00:35,  8.19it/s]"
     ]
    },
    {
     "name": "stdout",
     "output_type": "stream",
     "text": [
      "accuray: 0.2653\n"
     ]
    },
    {
     "name": "stderr",
     "output_type": "stream",
     "text": [
      "100%|██████████| 293/293 [00:31<00:00,  9.36it/s] \n",
      "  7%|▋         | 87/1250 [00:00<00:02, 430.41it/s]"
     ]
    },
    {
     "name": "stdout",
     "output_type": "stream",
     "text": [
      "epoch_loss/batch_ct=0.06018059712553781\n",
      "tensor(0.1186, device='cuda:0', grad_fn=<SmoothL1LossBackward0>)\n"
     ]
    },
    {
     "name": "stderr",
     "output_type": "stream",
     "text": [
      "100%|██████████| 1250/1250 [00:02<00:00, 570.78it/s]\n",
      "  0%|          | 1/293 [00:00<00:37,  7.87it/s]"
     ]
    },
    {
     "name": "stdout",
     "output_type": "stream",
     "text": [
      "accuray: 0.2624\n"
     ]
    },
    {
     "name": "stderr",
     "output_type": "stream",
     "text": [
      "100%|██████████| 293/293 [00:33<00:00,  8.82it/s] \n",
      "  4%|▍         | 49/1250 [00:00<00:02, 489.56it/s]"
     ]
    },
    {
     "name": "stdout",
     "output_type": "stream",
     "text": [
      "epoch_loss/batch_ct=0.06023296991747523\n",
      "tensor(0.1186, device='cuda:0', grad_fn=<SmoothL1LossBackward0>)\n"
     ]
    },
    {
     "name": "stderr",
     "output_type": "stream",
     "text": [
      "100%|██████████| 1250/1250 [00:02<00:00, 583.85it/s]\n",
      "  0%|          | 1/293 [00:00<00:35,  8.19it/s]"
     ]
    },
    {
     "name": "stdout",
     "output_type": "stream",
     "text": [
      "accuray: 0.2615\n"
     ]
    },
    {
     "name": "stderr",
     "output_type": "stream",
     "text": [
      "100%|██████████| 293/293 [00:30<00:00,  9.51it/s] \n",
      "  6%|▌         | 78/1250 [00:00<00:03, 385.12it/s]"
     ]
    },
    {
     "name": "stdout",
     "output_type": "stream",
     "text": [
      "epoch_loss/batch_ct=0.06021667047152444\n",
      "tensor(0.1193, device='cuda:0', grad_fn=<SmoothL1LossBackward0>)\n"
     ]
    },
    {
     "name": "stderr",
     "output_type": "stream",
     "text": [
      "100%|██████████| 1250/1250 [00:02<00:00, 574.72it/s]\n",
      "  0%|          | 1/293 [00:00<00:35,  8.19it/s]"
     ]
    },
    {
     "name": "stdout",
     "output_type": "stream",
     "text": [
      "accuray: 0.2627\n"
     ]
    },
    {
     "name": "stderr",
     "output_type": "stream",
     "text": [
      "100%|██████████| 293/293 [00:32<00:00,  8.92it/s] \n",
      "  7%|▋         | 89/1250 [00:00<00:02, 444.62it/s]"
     ]
    },
    {
     "name": "stdout",
     "output_type": "stream",
     "text": [
      "epoch_loss/batch_ct=0.06020452907042844\n",
      "tensor(0.1182, device='cuda:0', grad_fn=<SmoothL1LossBackward0>)\n"
     ]
    },
    {
     "name": "stderr",
     "output_type": "stream",
     "text": [
      "100%|██████████| 1250/1250 [00:02<00:00, 580.87it/s]\n",
      "  0%|          | 1/293 [00:00<00:37,  7.87it/s]"
     ]
    },
    {
     "name": "stdout",
     "output_type": "stream",
     "text": [
      "accuray: 0.263\n"
     ]
    },
    {
     "name": "stderr",
     "output_type": "stream",
     "text": [
      "100%|██████████| 293/293 [00:31<00:00,  9.37it/s] \n",
      "  7%|▋         | 93/1250 [00:00<00:02, 460.85it/s]"
     ]
    },
    {
     "name": "stdout",
     "output_type": "stream",
     "text": [
      "epoch_loss/batch_ct=0.060125855921161556\n",
      "tensor(0.1176, device='cuda:0', grad_fn=<SmoothL1LossBackward0>)\n"
     ]
    },
    {
     "name": "stderr",
     "output_type": "stream",
     "text": [
      "100%|██████████| 1250/1250 [00:02<00:00, 580.60it/s]\n",
      "  0%|          | 1/293 [00:00<00:35,  8.19it/s]"
     ]
    },
    {
     "name": "stdout",
     "output_type": "stream",
     "text": [
      "accuray: 0.264\n"
     ]
    },
    {
     "name": "stderr",
     "output_type": "stream",
     "text": [
      "100%|██████████| 293/293 [00:32<00:00,  9.03it/s] \n",
      "  5%|▍         | 59/1250 [00:00<00:02, 589.47it/s]"
     ]
    },
    {
     "name": "stdout",
     "output_type": "stream",
     "text": [
      "epoch_loss/batch_ct=0.06013273475839505\n",
      "tensor(0.1196, device='cuda:0', grad_fn=<SmoothL1LossBackward0>)\n"
     ]
    },
    {
     "name": "stderr",
     "output_type": "stream",
     "text": [
      "100%|██████████| 1250/1250 [00:02<00:00, 595.83it/s]\n",
      "  0%|          | 1/293 [00:00<00:37,  7.87it/s]"
     ]
    },
    {
     "name": "stdout",
     "output_type": "stream",
     "text": [
      "accuray: 0.2606\n"
     ]
    },
    {
     "name": "stderr",
     "output_type": "stream",
     "text": [
      "100%|██████████| 293/293 [00:31<00:00,  9.42it/s] \n",
      "  8%|▊         | 103/1250 [00:00<00:02, 510.31it/s]"
     ]
    },
    {
     "name": "stdout",
     "output_type": "stream",
     "text": [
      "epoch_loss/batch_ct=0.060233515450760486\n",
      "tensor(0.1209, device='cuda:0', grad_fn=<SmoothL1LossBackward0>)\n"
     ]
    },
    {
     "name": "stderr",
     "output_type": "stream",
     "text": [
      "100%|██████████| 1250/1250 [00:02<00:00, 587.98it/s]\n",
      "  0%|          | 1/293 [00:00<00:36,  8.06it/s]"
     ]
    },
    {
     "name": "stdout",
     "output_type": "stream",
     "text": [
      "accuray: 0.2609\n"
     ]
    },
    {
     "name": "stderr",
     "output_type": "stream",
     "text": [
      "100%|██████████| 293/293 [00:31<00:00,  9.44it/s] \n",
      "  4%|▎         | 44/1250 [00:00<00:02, 435.25it/s]"
     ]
    },
    {
     "name": "stdout",
     "output_type": "stream",
     "text": [
      "epoch_loss/batch_ct=0.06020892480950034\n",
      "tensor(0.1185, device='cuda:0', grad_fn=<SmoothL1LossBackward0>)\n"
     ]
    },
    {
     "name": "stderr",
     "output_type": "stream",
     "text": [
      "100%|██████████| 1250/1250 [00:02<00:00, 577.64it/s]\n",
      "  0%|          | 1/293 [00:00<00:39,  7.46it/s]"
     ]
    },
    {
     "name": "stdout",
     "output_type": "stream",
     "text": [
      "accuray: 0.2626\n"
     ]
    },
    {
     "name": "stderr",
     "output_type": "stream",
     "text": [
      "100%|██████████| 293/293 [00:31<00:00,  9.32it/s] \n",
      "  5%|▍         | 58/1250 [00:00<00:02, 573.74it/s]"
     ]
    },
    {
     "name": "stdout",
     "output_type": "stream",
     "text": [
      "epoch_loss/batch_ct=0.06016033595161779\n",
      "tensor(0.1197, device='cuda:0', grad_fn=<SmoothL1LossBackward0>)\n"
     ]
    },
    {
     "name": "stderr",
     "output_type": "stream",
     "text": [
      "100%|██████████| 1250/1250 [00:02<00:00, 599.84it/s]\n",
      "  0%|          | 1/293 [00:00<00:34,  8.40it/s]"
     ]
    },
    {
     "name": "stdout",
     "output_type": "stream",
     "text": [
      "accuray: 0.2641\n"
     ]
    },
    {
     "name": "stderr",
     "output_type": "stream",
     "text": [
      "100%|██████████| 293/293 [00:31<00:00,  9.32it/s] \n",
      "  3%|▎         | 42/1250 [00:00<00:02, 407.40it/s]"
     ]
    },
    {
     "name": "stdout",
     "output_type": "stream",
     "text": [
      "epoch_loss/batch_ct=0.06026176061658632\n",
      "tensor(0.1179, device='cuda:0', grad_fn=<SmoothL1LossBackward0>)\n"
     ]
    },
    {
     "name": "stderr",
     "output_type": "stream",
     "text": [
      "100%|██████████| 1250/1250 [00:02<00:00, 573.93it/s]\n",
      "  0%|          | 1/293 [00:00<00:37,  7.69it/s]"
     ]
    },
    {
     "name": "stdout",
     "output_type": "stream",
     "text": [
      "accuray: 0.2619\n"
     ]
    },
    {
     "name": "stderr",
     "output_type": "stream",
     "text": [
      "100%|██████████| 293/293 [00:32<00:00,  8.93it/s] \n",
      "  8%|▊         | 97/1250 [00:00<00:02, 485.44it/s]"
     ]
    },
    {
     "name": "stdout",
     "output_type": "stream",
     "text": [
      "epoch_loss/batch_ct=0.06012408834482942\n",
      "tensor(0.1198, device='cuda:0', grad_fn=<SmoothL1LossBackward0>)\n"
     ]
    },
    {
     "name": "stderr",
     "output_type": "stream",
     "text": [
      "100%|██████████| 1250/1250 [00:02<00:00, 583.58it/s]\n",
      "  0%|          | 1/293 [00:00<00:35,  8.26it/s]"
     ]
    },
    {
     "name": "stdout",
     "output_type": "stream",
     "text": [
      "accuray: 0.259\n"
     ]
    },
    {
     "name": "stderr",
     "output_type": "stream",
     "text": [
      "100%|██████████| 293/293 [00:31<00:00,  9.39it/s] \n",
      "  3%|▎         | 43/1250 [00:00<00:02, 421.19it/s]"
     ]
    },
    {
     "name": "stdout",
     "output_type": "stream",
     "text": [
      "epoch_loss/batch_ct=0.06020550648607905\n",
      "tensor(0.1183, device='cuda:0', grad_fn=<SmoothL1LossBackward0>)\n"
     ]
    },
    {
     "name": "stderr",
     "output_type": "stream",
     "text": [
      "100%|██████████| 1250/1250 [00:02<00:00, 581.41it/s]\n",
      "  0%|          | 1/293 [00:00<00:36,  8.06it/s]"
     ]
    },
    {
     "name": "stdout",
     "output_type": "stream",
     "text": [
      "accuray: 0.2638\n"
     ]
    },
    {
     "name": "stderr",
     "output_type": "stream",
     "text": [
      "100%|██████████| 293/293 [00:32<00:00,  8.90it/s] \n",
      "  4%|▎         | 46/1250 [00:00<00:02, 459.58it/s]"
     ]
    },
    {
     "name": "stdout",
     "output_type": "stream",
     "text": [
      "epoch_loss/batch_ct=0.0601155280712105\n",
      "tensor(0.1185, device='cuda:0', grad_fn=<SmoothL1LossBackward0>)\n"
     ]
    },
    {
     "name": "stderr",
     "output_type": "stream",
     "text": [
      "100%|██████████| 1250/1250 [00:02<00:00, 579.52it/s]\n",
      "  0%|          | 1/293 [00:00<00:35,  8.26it/s]"
     ]
    },
    {
     "name": "stdout",
     "output_type": "stream",
     "text": [
      "accuray: 0.2643\n"
     ]
    },
    {
     "name": "stderr",
     "output_type": "stream",
     "text": [
      "100%|██████████| 293/293 [00:31<00:00,  9.35it/s] \n",
      "  4%|▍         | 48/1250 [00:00<00:02, 474.82it/s]"
     ]
    },
    {
     "name": "stdout",
     "output_type": "stream",
     "text": [
      "epoch_loss/batch_ct=0.060213178573619755\n",
      "tensor(0.1194, device='cuda:0', grad_fn=<SmoothL1LossBackward0>)\n"
     ]
    },
    {
     "name": "stderr",
     "output_type": "stream",
     "text": [
      "100%|██████████| 1250/1250 [00:02<00:00, 583.31it/s]\n",
      "  0%|          | 1/293 [00:00<00:35,  8.26it/s]"
     ]
    },
    {
     "name": "stdout",
     "output_type": "stream",
     "text": [
      "accuray: 0.2625\n"
     ]
    },
    {
     "name": "stderr",
     "output_type": "stream",
     "text": [
      "100%|██████████| 293/293 [00:32<00:00,  9.01it/s] \n",
      "  4%|▍         | 52/1250 [00:00<00:02, 519.52it/s]"
     ]
    },
    {
     "name": "stdout",
     "output_type": "stream",
     "text": [
      "epoch_loss/batch_ct=0.060176526107603594\n",
      "tensor(0.1186, device='cuda:0', grad_fn=<SmoothL1LossBackward0>)\n"
     ]
    },
    {
     "name": "stderr",
     "output_type": "stream",
     "text": [
      "100%|██████████| 1250/1250 [00:02<00:00, 587.98it/s]\n",
      "  0%|          | 1/293 [00:00<00:35,  8.26it/s]"
     ]
    },
    {
     "name": "stdout",
     "output_type": "stream",
     "text": [
      "accuray: 0.2619\n"
     ]
    },
    {
     "name": "stderr",
     "output_type": "stream",
     "text": [
      "100%|██████████| 293/293 [00:30<00:00,  9.50it/s] \n",
      "  4%|▍         | 47/1250 [00:00<00:02, 455.90it/s]"
     ]
    },
    {
     "name": "stdout",
     "output_type": "stream",
     "text": [
      "epoch_loss/batch_ct=0.060186056952391355\n",
      "tensor(0.1195, device='cuda:0', grad_fn=<SmoothL1LossBackward0>)\n"
     ]
    },
    {
     "name": "stderr",
     "output_type": "stream",
     "text": [
      "100%|██████████| 1250/1250 [00:02<00:00, 582.49it/s]\n",
      "  0%|          | 1/293 [00:00<00:35,  8.12it/s]"
     ]
    },
    {
     "name": "stdout",
     "output_type": "stream",
     "text": [
      "accuray: 0.2599\n"
     ]
    },
    {
     "name": "stderr",
     "output_type": "stream",
     "text": [
      "100%|██████████| 293/293 [00:32<00:00,  8.99it/s] \n",
      "  8%|▊         | 101/1250 [00:00<00:02, 505.42it/s]"
     ]
    },
    {
     "name": "stdout",
     "output_type": "stream",
     "text": [
      "epoch_loss/batch_ct=0.06016485061910418\n",
      "tensor(0.1197, device='cuda:0', grad_fn=<SmoothL1LossBackward0>)\n"
     ]
    },
    {
     "name": "stderr",
     "output_type": "stream",
     "text": [
      "100%|██████████| 1250/1250 [00:02<00:00, 584.95it/s]\n",
      "  0%|          | 1/293 [00:00<00:39,  7.35it/s]"
     ]
    },
    {
     "name": "stdout",
     "output_type": "stream",
     "text": [
      "accuray: 0.261\n"
     ]
    },
    {
     "name": "stderr",
     "output_type": "stream",
     "text": [
      "100%|██████████| 293/293 [00:31<00:00,  9.35it/s] \n",
      "  8%|▊         | 102/1250 [00:00<00:02, 506.24it/s]"
     ]
    },
    {
     "name": "stdout",
     "output_type": "stream",
     "text": [
      "epoch_loss/batch_ct=0.06025918614533213\n",
      "tensor(0.1178, device='cuda:0', grad_fn=<SmoothL1LossBackward0>)\n"
     ]
    },
    {
     "name": "stderr",
     "output_type": "stream",
     "text": [
      "100%|██████████| 1250/1250 [00:02<00:00, 585.50it/s]\n",
      "  0%|          | 1/293 [00:00<00:35,  8.19it/s]"
     ]
    },
    {
     "name": "stdout",
     "output_type": "stream",
     "text": [
      "accuray: 0.2652\n"
     ]
    },
    {
     "name": "stderr",
     "output_type": "stream",
     "text": [
      "100%|██████████| 293/293 [00:32<00:00,  8.92it/s] \n",
      " 11%|█         | 136/1250 [00:00<00:01, 681.15it/s]"
     ]
    },
    {
     "name": "stdout",
     "output_type": "stream",
     "text": [
      "epoch_loss/batch_ct=0.06012695176260812\n",
      "tensor(0.1192, device='cuda:0', grad_fn=<SmoothL1LossBackward0>)\n"
     ]
    },
    {
     "name": "stderr",
     "output_type": "stream",
     "text": [
      "100%|██████████| 1250/1250 [00:01<00:00, 652.83it/s]\n",
      "  0%|          | 1/293 [00:00<00:35,  8.33it/s]"
     ]
    },
    {
     "name": "stdout",
     "output_type": "stream",
     "text": [
      "accuray: 0.2628\n"
     ]
    },
    {
     "name": "stderr",
     "output_type": "stream",
     "text": [
      "100%|██████████| 293/293 [00:31<00:00,  9.30it/s] \n",
      "  6%|▌         | 69/1250 [00:00<00:01, 689.37it/s]"
     ]
    },
    {
     "name": "stdout",
     "output_type": "stream",
     "text": [
      "epoch_loss/batch_ct=0.060189616836843984\n",
      "tensor(0.1199, device='cuda:0', grad_fn=<SmoothL1LossBackward0>)\n"
     ]
    },
    {
     "name": "stderr",
     "output_type": "stream",
     "text": [
      "100%|██████████| 1250/1250 [00:01<00:00, 637.83it/s]\n",
      "  0%|          | 1/293 [00:00<00:34,  8.47it/s]"
     ]
    },
    {
     "name": "stdout",
     "output_type": "stream",
     "text": [
      "accuray: 0.2648\n"
     ]
    },
    {
     "name": "stderr",
     "output_type": "stream",
     "text": [
      "100%|██████████| 293/293 [00:32<00:00,  8.90it/s] \n",
      "  5%|▍         | 62/1250 [00:00<00:01, 619.44it/s]"
     ]
    },
    {
     "name": "stdout",
     "output_type": "stream",
     "text": [
      "epoch_loss/batch_ct=0.06018425505017004\n",
      "tensor(0.1181, device='cuda:0', grad_fn=<SmoothL1LossBackward0>)\n"
     ]
    },
    {
     "name": "stderr",
     "output_type": "stream",
     "text": [
      "100%|██████████| 1250/1250 [00:02<00:00, 603.90it/s]\n",
      "  0%|          | 1/293 [00:00<00:35,  8.26it/s]"
     ]
    },
    {
     "name": "stdout",
     "output_type": "stream",
     "text": [
      "accuray: 0.264\n"
     ]
    },
    {
     "name": "stderr",
     "output_type": "stream",
     "text": [
      "100%|██████████| 293/293 [00:31<00:00,  9.36it/s] \n",
      "  4%|▍         | 49/1250 [00:00<00:02, 489.55it/s]"
     ]
    },
    {
     "name": "stdout",
     "output_type": "stream",
     "text": [
      "epoch_loss/batch_ct=0.060083743110890424\n",
      "tensor(0.1197, device='cuda:0', grad_fn=<SmoothL1LossBackward0>)\n"
     ]
    },
    {
     "name": "stderr",
     "output_type": "stream",
     "text": [
      "100%|██████████| 1250/1250 [00:02<00:00, 581.95it/s]\n",
      "  0%|          | 1/293 [00:00<00:35,  8.26it/s]"
     ]
    },
    {
     "name": "stdout",
     "output_type": "stream",
     "text": [
      "accuray: 0.263\n"
     ]
    },
    {
     "name": "stderr",
     "output_type": "stream",
     "text": [
      "100%|██████████| 293/293 [00:32<00:00,  8.89it/s] \n",
      "  4%|▍         | 48/1250 [00:00<00:02, 474.81it/s]"
     ]
    },
    {
     "name": "stdout",
     "output_type": "stream",
     "text": [
      "epoch_loss/batch_ct=0.06012763366812751\n",
      "tensor(0.1179, device='cuda:0', grad_fn=<SmoothL1LossBackward0>)\n"
     ]
    },
    {
     "name": "stderr",
     "output_type": "stream",
     "text": [
      "100%|██████████| 1250/1250 [00:02<00:00, 586.32it/s]\n",
      "  0%|          | 1/293 [00:00<00:36,  8.06it/s]"
     ]
    },
    {
     "name": "stdout",
     "output_type": "stream",
     "text": [
      "accuray: 0.2598\n"
     ]
    },
    {
     "name": "stderr",
     "output_type": "stream",
     "text": [
      "100%|██████████| 293/293 [00:31<00:00,  9.23it/s] \n",
      " 11%|█         | 136/1250 [00:00<00:01, 675.41it/s]"
     ]
    },
    {
     "name": "stdout",
     "output_type": "stream",
     "text": [
      "epoch_loss/batch_ct=0.06017224280725396\n",
      "tensor(0.1189, device='cuda:0', grad_fn=<SmoothL1LossBackward0>)\n"
     ]
    },
    {
     "name": "stderr",
     "output_type": "stream",
     "text": [
      "100%|██████████| 1250/1250 [00:01<00:00, 664.64it/s]\n",
      "  0%|          | 1/293 [00:00<00:34,  8.47it/s]"
     ]
    },
    {
     "name": "stdout",
     "output_type": "stream",
     "text": [
      "accuray: 0.262\n"
     ]
    },
    {
     "name": "stderr",
     "output_type": "stream",
     "text": [
      "100%|██████████| 293/293 [00:32<00:00,  8.95it/s] \n",
      "  3%|▎         | 43/1250 [00:00<00:02, 425.36it/s]"
     ]
    },
    {
     "name": "stdout",
     "output_type": "stream",
     "text": [
      "epoch_loss/batch_ct=0.060152060943581755\n",
      "tensor(0.1187, device='cuda:0', grad_fn=<SmoothL1LossBackward0>)\n"
     ]
    },
    {
     "name": "stderr",
     "output_type": "stream",
     "text": [
      "100%|██████████| 1250/1250 [00:02<00:00, 576.84it/s]\n",
      "  0%|          | 1/293 [00:00<00:36,  7.93it/s]"
     ]
    },
    {
     "name": "stdout",
     "output_type": "stream",
     "text": [
      "accuray: 0.2595\n"
     ]
    },
    {
     "name": "stderr",
     "output_type": "stream",
     "text": [
      "100%|██████████| 293/293 [00:31<00:00,  9.31it/s] \n",
      "  8%|▊         | 97/1250 [00:00<00:02, 480.64it/s]"
     ]
    },
    {
     "name": "stdout",
     "output_type": "stream",
     "text": [
      "epoch_loss/batch_ct=0.06024025546179877\n",
      "tensor(0.1174, device='cuda:0', grad_fn=<SmoothL1LossBackward0>)\n"
     ]
    },
    {
     "name": "stderr",
     "output_type": "stream",
     "text": [
      "100%|██████████| 1250/1250 [00:02<00:00, 582.22it/s]\n",
      "  0%|          | 1/293 [00:00<00:36,  7.99it/s]"
     ]
    },
    {
     "name": "stdout",
     "output_type": "stream",
     "text": [
      "accuray: 0.2624\n"
     ]
    },
    {
     "name": "stderr",
     "output_type": "stream",
     "text": [
      "100%|██████████| 293/293 [00:32<00:00,  8.97it/s]\n",
      "  5%|▍         | 60/1250 [00:00<00:02, 593.53it/s]"
     ]
    },
    {
     "name": "stdout",
     "output_type": "stream",
     "text": [
      "epoch_loss/batch_ct=0.06013704972371223\n",
      "tensor(0.1187, device='cuda:0', grad_fn=<SmoothL1LossBackward0>)\n"
     ]
    },
    {
     "name": "stderr",
     "output_type": "stream",
     "text": [
      "100%|██████████| 1250/1250 [00:02<00:00, 605.07it/s]\n",
      "  0%|          | 1/293 [00:00<00:38,  7.63it/s]"
     ]
    },
    {
     "name": "stdout",
     "output_type": "stream",
     "text": [
      "accuray: 0.2607\n"
     ]
    },
    {
     "name": "stderr",
     "output_type": "stream",
     "text": [
      "100%|██████████| 293/293 [00:31<00:00,  9.36it/s] \n",
      "  5%|▌         | 68/1250 [00:00<00:01, 672.66it/s]"
     ]
    },
    {
     "name": "stdout",
     "output_type": "stream",
     "text": [
      "epoch_loss/batch_ct=0.06023186519150696\n",
      "tensor(0.1201, device='cuda:0', grad_fn=<SmoothL1LossBackward0>)\n"
     ]
    },
    {
     "name": "stderr",
     "output_type": "stream",
     "text": [
      "100%|██████████| 1250/1250 [00:01<00:00, 644.08it/s]\n",
      "  0%|          | 1/293 [00:00<00:33,  8.69it/s]"
     ]
    },
    {
     "name": "stdout",
     "output_type": "stream",
     "text": [
      "accuray: 0.2618\n"
     ]
    },
    {
     "name": "stderr",
     "output_type": "stream",
     "text": [
      "100%|██████████| 293/293 [00:33<00:00,  8.86it/s] \n",
      "  4%|▎         | 44/1250 [00:00<00:02, 435.25it/s]"
     ]
    },
    {
     "name": "stdout",
     "output_type": "stream",
     "text": [
      "epoch_loss/batch_ct=0.06019717131164812\n",
      "tensor(0.1198, device='cuda:0', grad_fn=<SmoothL1LossBackward0>)\n"
     ]
    },
    {
     "name": "stderr",
     "output_type": "stream",
     "text": [
      "100%|██████████| 1250/1250 [00:02<00:00, 579.25it/s]\n",
      "  0%|          | 1/293 [00:00<00:35,  8.12it/s]"
     ]
    },
    {
     "name": "stdout",
     "output_type": "stream",
     "text": [
      "accuray: 0.264\n"
     ]
    },
    {
     "name": "stderr",
     "output_type": "stream",
     "text": [
      "100%|██████████| 293/293 [00:31<00:00,  9.36it/s]\n",
      "  8%|▊         | 96/1250 [00:00<00:02, 480.27it/s]"
     ]
    },
    {
     "name": "stdout",
     "output_type": "stream",
     "text": [
      "epoch_loss/batch_ct=0.06020654294462431\n",
      "tensor(0.1168, device='cuda:0', grad_fn=<SmoothL1LossBackward0>)\n"
     ]
    },
    {
     "name": "stderr",
     "output_type": "stream",
     "text": [
      "100%|██████████| 1250/1250 [00:02<00:00, 581.14it/s]\n",
      "  0%|          | 1/293 [00:00<00:35,  8.12it/s]"
     ]
    },
    {
     "name": "stdout",
     "output_type": "stream",
     "text": [
      "accuray: 0.2623\n"
     ]
    },
    {
     "name": "stderr",
     "output_type": "stream",
     "text": [
      "100%|██████████| 293/293 [00:33<00:00,  8.84it/s] \n",
      "  4%|▎         | 44/1250 [00:00<00:02, 430.98it/s]"
     ]
    },
    {
     "name": "stdout",
     "output_type": "stream",
     "text": [
      "epoch_loss/batch_ct=0.06029477694796191\n",
      "tensor(0.1205, device='cuda:0', grad_fn=<SmoothL1LossBackward0>)\n"
     ]
    },
    {
     "name": "stderr",
     "output_type": "stream",
     "text": [
      "100%|██████████| 1250/1250 [00:02<00:00, 577.64it/s]\n",
      "  0%|          | 1/293 [00:00<00:35,  8.33it/s]"
     ]
    },
    {
     "name": "stdout",
     "output_type": "stream",
     "text": [
      "accuray: 0.2642\n"
     ]
    },
    {
     "name": "stderr",
     "output_type": "stream",
     "text": [
      "100%|██████████| 293/293 [00:31<00:00,  9.35it/s] \n",
      "  5%|▌         | 68/1250 [00:00<00:01, 679.38it/s]"
     ]
    },
    {
     "name": "stdout",
     "output_type": "stream",
     "text": [
      "epoch_loss/batch_ct=0.0601084850551117\n",
      "tensor(0.1189, device='cuda:0', grad_fn=<SmoothL1LossBackward0>)\n"
     ]
    },
    {
     "name": "stderr",
     "output_type": "stream",
     "text": [
      "100%|██████████| 1250/1250 [00:01<00:00, 646.41it/s]\n",
      "  0%|          | 1/293 [00:00<00:34,  8.40it/s]"
     ]
    },
    {
     "name": "stdout",
     "output_type": "stream",
     "text": [
      "accuray: 0.2659\n"
     ]
    },
    {
     "name": "stderr",
     "output_type": "stream",
     "text": [
      "100%|██████████| 293/293 [00:32<00:00,  8.96it/s] \n",
      "  4%|▎         | 44/1250 [00:00<00:02, 426.80it/s]"
     ]
    },
    {
     "name": "stdout",
     "output_type": "stream",
     "text": [
      "epoch_loss/batch_ct=0.06012312349464212\n",
      "tensor(0.1173, device='cuda:0', grad_fn=<SmoothL1LossBackward0>)\n"
     ]
    },
    {
     "name": "stderr",
     "output_type": "stream",
     "text": [
      "100%|██████████| 1250/1250 [00:02<00:00, 576.04it/s]\n",
      "  0%|          | 1/293 [00:00<00:36,  8.06it/s]"
     ]
    },
    {
     "name": "stdout",
     "output_type": "stream",
     "text": [
      "accuray: 0.2661\n"
     ]
    },
    {
     "name": "stderr",
     "output_type": "stream",
     "text": [
      "100%|██████████| 293/293 [00:31<00:00,  9.37it/s] \n",
      "  3%|▎         | 39/1250 [00:00<00:03, 389.64it/s]"
     ]
    },
    {
     "name": "stdout",
     "output_type": "stream",
     "text": [
      "epoch_loss/batch_ct=0.060138377627091746\n",
      "tensor(0.1195, device='cuda:0', grad_fn=<SmoothL1LossBackward0>)\n"
     ]
    },
    {
     "name": "stderr",
     "output_type": "stream",
     "text": [
      "100%|██████████| 1250/1250 [00:02<00:00, 571.04it/s]\n",
      "  0%|          | 1/293 [00:00<00:35,  8.12it/s]"
     ]
    },
    {
     "name": "stdout",
     "output_type": "stream",
     "text": [
      "accuray: 0.2646\n"
     ]
    },
    {
     "name": "stderr",
     "output_type": "stream",
     "text": [
      "100%|██████████| 293/293 [00:32<00:00,  8.91it/s] \n",
      "  3%|▎         | 41/1250 [00:00<00:02, 409.63it/s]"
     ]
    },
    {
     "name": "stdout",
     "output_type": "stream",
     "text": [
      "epoch_loss/batch_ct=0.060100612555822684\n",
      "tensor(0.1161, device='cuda:0', grad_fn=<SmoothL1LossBackward0>)\n"
     ]
    },
    {
     "name": "stderr",
     "output_type": "stream",
     "text": [
      "100%|██████████| 1250/1250 [00:02<00:00, 573.40it/s]\n",
      "  0%|          | 1/293 [00:00<00:36,  7.93it/s]"
     ]
    },
    {
     "name": "stdout",
     "output_type": "stream",
     "text": [
      "accuray: 0.2632\n"
     ]
    },
    {
     "name": "stderr",
     "output_type": "stream",
     "text": [
      "100%|██████████| 293/293 [00:31<00:00,  9.38it/s] \n",
      "  7%|▋         | 89/1250 [00:00<00:02, 444.56it/s]"
     ]
    },
    {
     "name": "stdout",
     "output_type": "stream",
     "text": [
      "epoch_loss/batch_ct=0.06007386767675006\n",
      "tensor(0.1178, device='cuda:0', grad_fn=<SmoothL1LossBackward0>)\n"
     ]
    },
    {
     "name": "stderr",
     "output_type": "stream",
     "text": [
      "100%|██████████| 1250/1250 [00:02<00:00, 577.11it/s]\n",
      "  0%|          | 1/293 [00:00<00:36,  7.93it/s]"
     ]
    },
    {
     "name": "stdout",
     "output_type": "stream",
     "text": [
      "accuray: 0.2674\n"
     ]
    },
    {
     "name": "stderr",
     "output_type": "stream",
     "text": [
      "100%|██████████| 293/293 [00:32<00:00,  8.91it/s] \n",
      "  4%|▍         | 50/1250 [00:00<00:02, 499.55it/s]"
     ]
    },
    {
     "name": "stdout",
     "output_type": "stream",
     "text": [
      "epoch_loss/batch_ct=0.06014682268280359\n",
      "tensor(0.1194, device='cuda:0', grad_fn=<SmoothL1LossBackward0>)\n"
     ]
    },
    {
     "name": "stderr",
     "output_type": "stream",
     "text": [
      "100%|██████████| 1250/1250 [00:02<00:00, 583.31it/s]\n",
      "  0%|          | 1/293 [00:00<00:36,  8.06it/s]"
     ]
    },
    {
     "name": "stdout",
     "output_type": "stream",
     "text": [
      "accuray: 0.2652\n"
     ]
    },
    {
     "name": "stderr",
     "output_type": "stream",
     "text": [
      "100%|██████████| 293/293 [00:31<00:00,  9.44it/s] \n",
      "  3%|▎         | 43/1250 [00:00<00:02, 429.61it/s]"
     ]
    },
    {
     "name": "stdout",
     "output_type": "stream",
     "text": [
      "epoch_loss/batch_ct=0.06006061216254556\n",
      "tensor(0.1190, device='cuda:0', grad_fn=<SmoothL1LossBackward0>)\n"
     ]
    },
    {
     "name": "stderr",
     "output_type": "stream",
     "text": [
      "100%|██████████| 1250/1250 [00:02<00:00, 576.84it/s]\n",
      "  0%|          | 1/293 [00:00<00:35,  8.33it/s]"
     ]
    },
    {
     "name": "stdout",
     "output_type": "stream",
     "text": [
      "accuray: 0.2639\n"
     ]
    },
    {
     "name": "stderr",
     "output_type": "stream",
     "text": [
      "100%|██████████| 293/293 [00:32<00:00,  8.88it/s] \n",
      "  7%|▋         | 86/1250 [00:00<00:02, 424.61it/s]"
     ]
    },
    {
     "name": "stdout",
     "output_type": "stream",
     "text": [
      "epoch_loss/batch_ct=0.06022479417659934\n",
      "tensor(0.1186, device='cuda:0', grad_fn=<SmoothL1LossBackward0>)\n"
     ]
    },
    {
     "name": "stderr",
     "output_type": "stream",
     "text": [
      "100%|██████████| 1250/1250 [00:02<00:00, 574.45it/s]\n",
      "  0%|          | 1/293 [00:00<00:35,  8.12it/s]"
     ]
    },
    {
     "name": "stdout",
     "output_type": "stream",
     "text": [
      "accuray: 0.2666\n"
     ]
    },
    {
     "name": "stderr",
     "output_type": "stream",
     "text": [
      "100%|██████████| 293/293 [00:31<00:00,  9.27it/s]\n",
      "  3%|▎         | 41/1250 [00:00<00:02, 409.63it/s]"
     ]
    },
    {
     "name": "stdout",
     "output_type": "stream",
     "text": [
      "epoch_loss/batch_ct=0.06011807219317508\n",
      "tensor(0.1189, device='cuda:0', grad_fn=<SmoothL1LossBackward0>)\n"
     ]
    },
    {
     "name": "stderr",
     "output_type": "stream",
     "text": [
      "100%|██████████| 1250/1250 [00:02<00:00, 574.72it/s]\n",
      "  0%|          | 1/293 [00:00<00:36,  8.06it/s]"
     ]
    },
    {
     "name": "stdout",
     "output_type": "stream",
     "text": [
      "accuray: 0.2664\n"
     ]
    },
    {
     "name": "stderr",
     "output_type": "stream",
     "text": [
      "100%|██████████| 293/293 [00:33<00:00,  8.83it/s] \n",
      "  8%|▊         | 99/1250 [00:00<00:02, 471.22it/s]"
     ]
    },
    {
     "name": "stdout",
     "output_type": "stream",
     "text": [
      "epoch_loss/batch_ct=0.06022314613478051\n",
      "tensor(0.1189, device='cuda:0', grad_fn=<SmoothL1LossBackward0>)\n"
     ]
    },
    {
     "name": "stderr",
     "output_type": "stream",
     "text": [
      "100%|██████████| 1250/1250 [00:02<00:00, 582.22it/s]\n",
      "  0%|          | 1/293 [00:00<00:35,  8.12it/s]"
     ]
    },
    {
     "name": "stdout",
     "output_type": "stream",
     "text": [
      "accuray: 0.2592\n"
     ]
    },
    {
     "name": "stderr",
     "output_type": "stream",
     "text": [
      "100%|██████████| 293/293 [00:31<00:00,  9.44it/s] \n",
      "  8%|▊         | 106/1250 [00:00<00:02, 523.36it/s]"
     ]
    },
    {
     "name": "stdout",
     "output_type": "stream",
     "text": [
      "epoch_loss/batch_ct=0.06015272645486726\n",
      "tensor(0.1174, device='cuda:0', grad_fn=<SmoothL1LossBackward0>)\n"
     ]
    },
    {
     "name": "stderr",
     "output_type": "stream",
     "text": [
      "100%|██████████| 1250/1250 [00:02<00:00, 593.57it/s]\n",
      "  0%|          | 1/293 [00:00<00:37,  7.69it/s]"
     ]
    },
    {
     "name": "stdout",
     "output_type": "stream",
     "text": [
      "accuray: 0.2671\n"
     ]
    },
    {
     "name": "stderr",
     "output_type": "stream",
     "text": [
      "100%|██████████| 293/293 [00:32<00:00,  9.01it/s] \n",
      " 11%|█         | 138/1250 [00:00<00:01, 681.36it/s]"
     ]
    },
    {
     "name": "stdout",
     "output_type": "stream",
     "text": [
      "epoch_loss/batch_ct=0.060038696250153914\n",
      "tensor(0.1203, device='cuda:0', grad_fn=<SmoothL1LossBackward0>)\n"
     ]
    },
    {
     "name": "stderr",
     "output_type": "stream",
     "text": [
      "100%|██████████| 1250/1250 [00:01<00:00, 667.13it/s]\n",
      "  0%|          | 1/293 [00:00<00:33,  8.69it/s]"
     ]
    },
    {
     "name": "stdout",
     "output_type": "stream",
     "text": [
      "accuray: 0.2639\n"
     ]
    },
    {
     "name": "stderr",
     "output_type": "stream",
     "text": [
      "100%|██████████| 293/293 [00:31<00:00,  9.39it/s] \n",
      "  8%|▊         | 94/1250 [00:00<00:02, 464.11it/s]"
     ]
    },
    {
     "name": "stdout",
     "output_type": "stream",
     "text": [
      "epoch_loss/batch_ct=0.060070726266574295\n",
      "tensor(0.1191, device='cuda:0', grad_fn=<SmoothL1LossBackward0>)\n"
     ]
    },
    {
     "name": "stderr",
     "output_type": "stream",
     "text": [
      "100%|██████████| 1250/1250 [00:02<00:00, 580.33it/s]\n",
      "  0%|          | 1/293 [00:00<00:35,  8.33it/s]"
     ]
    },
    {
     "name": "stdout",
     "output_type": "stream",
     "text": [
      "accuray: 0.2628\n"
     ]
    },
    {
     "name": "stderr",
     "output_type": "stream",
     "text": [
      "100%|██████████| 293/293 [00:33<00:00,  8.86it/s] \n",
      " 11%|█         | 138/1250 [00:00<00:01, 673.52it/s]"
     ]
    },
    {
     "name": "stdout",
     "output_type": "stream",
     "text": [
      "epoch_loss/batch_ct=0.06020252186331957\n",
      "tensor(0.1183, device='cuda:0', grad_fn=<SmoothL1LossBackward0>)\n"
     ]
    },
    {
     "name": "stderr",
     "output_type": "stream",
     "text": [
      "100%|██████████| 1250/1250 [00:01<00:00, 668.20it/s]\n",
      "  0%|          | 1/293 [00:00<00:34,  8.54it/s]"
     ]
    },
    {
     "name": "stdout",
     "output_type": "stream",
     "text": [
      "accuray: 0.2577\n"
     ]
    },
    {
     "name": "stderr",
     "output_type": "stream",
     "text": [
      "100%|██████████| 293/293 [00:31<00:00,  9.31it/s] \n",
      "  4%|▍         | 52/1250 [00:00<00:02, 514.39it/s]"
     ]
    },
    {
     "name": "stdout",
     "output_type": "stream",
     "text": [
      "epoch_loss/batch_ct=0.06014021585089347\n",
      "tensor(0.1182, device='cuda:0', grad_fn=<SmoothL1LossBackward0>)\n"
     ]
    },
    {
     "name": "stderr",
     "output_type": "stream",
     "text": [
      "100%|██████████| 1250/1250 [00:02<00:00, 586.32it/s]\n",
      "  0%|          | 1/293 [00:00<00:35,  8.19it/s]"
     ]
    },
    {
     "name": "stdout",
     "output_type": "stream",
     "text": [
      "accuray: 0.2658\n"
     ]
    },
    {
     "name": "stderr",
     "output_type": "stream",
     "text": [
      "100%|██████████| 293/293 [00:32<00:00,  8.93it/s] \n",
      "  8%|▊         | 98/1250 [00:00<00:02, 489.06it/s]"
     ]
    },
    {
     "name": "stdout",
     "output_type": "stream",
     "text": [
      "epoch_loss/batch_ct=0.060043431034991664\n",
      "tensor(0.1184, device='cuda:0', grad_fn=<SmoothL1LossBackward0>)\n"
     ]
    },
    {
     "name": "stderr",
     "output_type": "stream",
     "text": [
      "100%|██████████| 1250/1250 [00:02<00:00, 578.45it/s]\n",
      "  0%|          | 1/293 [00:00<00:35,  8.19it/s]"
     ]
    },
    {
     "name": "stdout",
     "output_type": "stream",
     "text": [
      "accuray: 0.2644\n"
     ]
    },
    {
     "name": "stderr",
     "output_type": "stream",
     "text": [
      "100%|██████████| 293/293 [00:31<00:00,  9.43it/s] \n",
      "  7%|▋         | 88/1250 [00:00<00:02, 439.60it/s]"
     ]
    },
    {
     "name": "stdout",
     "output_type": "stream",
     "text": [
      "epoch_loss/batch_ct=0.060146260045705335\n",
      "tensor(0.1168, device='cuda:0', grad_fn=<SmoothL1LossBackward0>)\n"
     ]
    },
    {
     "name": "stderr",
     "output_type": "stream",
     "text": [
      "100%|██████████| 1250/1250 [00:02<00:00, 573.66it/s]\n",
      "  0%|          | 1/293 [00:00<00:35,  8.12it/s]"
     ]
    },
    {
     "name": "stdout",
     "output_type": "stream",
     "text": [
      "accuray: 0.2648\n"
     ]
    },
    {
     "name": "stderr",
     "output_type": "stream",
     "text": [
      "100%|██████████| 293/293 [00:31<00:00,  9.43it/s] \n",
      "  4%|▍         | 55/1250 [00:00<00:02, 544.07it/s]"
     ]
    },
    {
     "name": "stdout",
     "output_type": "stream",
     "text": [
      "epoch_loss/batch_ct=0.060225201075867055\n",
      "tensor(0.1186, device='cuda:0', grad_fn=<SmoothL1LossBackward0>)\n"
     ]
    },
    {
     "name": "stderr",
     "output_type": "stream",
     "text": [
      "100%|██████████| 1250/1250 [00:02<00:00, 591.04it/s]\n",
      "  0%|          | 1/293 [00:00<00:35,  8.12it/s]"
     ]
    },
    {
     "name": "stdout",
     "output_type": "stream",
     "text": [
      "accuray: 0.2646\n"
     ]
    },
    {
     "name": "stderr",
     "output_type": "stream",
     "text": [
      "100%|██████████| 293/293 [00:32<00:00,  8.97it/s] \n",
      "  7%|▋         | 87/1250 [00:00<00:02, 435.49it/s]"
     ]
    },
    {
     "name": "stdout",
     "output_type": "stream",
     "text": [
      "epoch_loss/batch_ct=0.06014582687722785\n",
      "tensor(0.1178, device='cuda:0', grad_fn=<SmoothL1LossBackward0>)\n"
     ]
    },
    {
     "name": "stderr",
     "output_type": "stream",
     "text": [
      "100%|██████████| 1250/1250 [00:02<00:00, 575.25it/s]\n",
      "  0%|          | 1/293 [00:00<00:36,  7.93it/s]"
     ]
    },
    {
     "name": "stdout",
     "output_type": "stream",
     "text": [
      "accuray: 0.2666\n"
     ]
    },
    {
     "name": "stderr",
     "output_type": "stream",
     "text": [
      "100%|██████████| 293/293 [00:31<00:00,  9.36it/s] \n",
      "  9%|▉         | 110/1250 [00:00<00:02, 528.66it/s]"
     ]
    },
    {
     "name": "stdout",
     "output_type": "stream",
     "text": [
      "epoch_loss/batch_ct=0.06017938084782116\n",
      "tensor(0.1201, device='cuda:0', grad_fn=<SmoothL1LossBackward0>)\n"
     ]
    },
    {
     "name": "stderr",
     "output_type": "stream",
     "text": [
      "100%|██████████| 1250/1250 [00:02<00:00, 589.64it/s]\n",
      "  0%|          | 1/293 [00:00<00:37,  7.69it/s]"
     ]
    },
    {
     "name": "stdout",
     "output_type": "stream",
     "text": [
      "accuray: 0.2686\n"
     ]
    },
    {
     "name": "stderr",
     "output_type": "stream",
     "text": [
      "100%|██████████| 293/293 [00:30<00:00,  9.49it/s] \n",
      "  7%|▋         | 90/1250 [00:00<00:02, 450.38it/s]"
     ]
    },
    {
     "name": "stdout",
     "output_type": "stream",
     "text": [
      "epoch_loss/batch_ct=0.06015690587579258\n",
      "tensor(0.1195, device='cuda:0', grad_fn=<SmoothL1LossBackward0>)\n"
     ]
    },
    {
     "name": "stderr",
     "output_type": "stream",
     "text": [
      "100%|██████████| 1250/1250 [00:02<00:00, 578.45it/s]\n",
      "  0%|          | 1/293 [00:00<00:36,  7.99it/s]"
     ]
    },
    {
     "name": "stdout",
     "output_type": "stream",
     "text": [
      "accuray: 0.2687\n"
     ]
    },
    {
     "name": "stderr",
     "output_type": "stream",
     "text": [
      "100%|██████████| 293/293 [00:31<00:00,  9.32it/s] \n",
      " 11%|█         | 136/1250 [00:00<00:01, 679.38it/s]"
     ]
    },
    {
     "name": "stdout",
     "output_type": "stream",
     "text": [
      "epoch_loss/batch_ct=0.060088361022136515\n",
      "tensor(0.1184, device='cuda:0', grad_fn=<SmoothL1LossBackward0>)\n"
     ]
    },
    {
     "name": "stderr",
     "output_type": "stream",
     "text": [
      "100%|██████████| 1250/1250 [00:01<00:00, 659.38it/s]\n",
      "  0%|          | 1/293 [00:00<00:35,  8.33it/s]"
     ]
    },
    {
     "name": "stdout",
     "output_type": "stream",
     "text": [
      "accuray: 0.2629\n"
     ]
    },
    {
     "name": "stderr",
     "output_type": "stream",
     "text": [
      "100%|██████████| 293/293 [00:32<00:00,  8.93it/s] \n",
      "  6%|▌         | 69/1250 [00:00<00:01, 682.55it/s]"
     ]
    },
    {
     "name": "stdout",
     "output_type": "stream",
     "text": [
      "epoch_loss/batch_ct=0.06015547410777164\n",
      "tensor(0.1186, device='cuda:0', grad_fn=<SmoothL1LossBackward0>)\n"
     ]
    },
    {
     "name": "stderr",
     "output_type": "stream",
     "text": [
      "100%|██████████| 1250/1250 [00:01<00:00, 640.44it/s]\n",
      "  0%|          | 1/293 [00:00<00:35,  8.26it/s]"
     ]
    },
    {
     "name": "stdout",
     "output_type": "stream",
     "text": [
      "accuray: 0.2677\n"
     ]
    },
    {
     "name": "stderr",
     "output_type": "stream",
     "text": [
      "100%|██████████| 293/293 [00:31<00:00,  9.38it/s] \n",
      "  4%|▎         | 44/1250 [00:00<00:02, 439.61it/s]"
     ]
    },
    {
     "name": "stdout",
     "output_type": "stream",
     "text": [
      "epoch_loss/batch_ct=0.060115790083294825\n",
      "tensor(0.1174, device='cuda:0', grad_fn=<SmoothL1LossBackward0>)\n"
     ]
    },
    {
     "name": "stderr",
     "output_type": "stream",
     "text": [
      "100%|██████████| 1250/1250 [00:02<00:00, 581.41it/s]\n",
      "  0%|          | 1/293 [00:00<00:35,  8.19it/s]"
     ]
    },
    {
     "name": "stdout",
     "output_type": "stream",
     "text": [
      "accuray: 0.2664\n"
     ]
    },
    {
     "name": "stderr",
     "output_type": "stream",
     "text": [
      "100%|██████████| 293/293 [00:33<00:00,  8.84it/s] \n",
      "  4%|▎         | 44/1250 [00:00<00:02, 435.25it/s]"
     ]
    },
    {
     "name": "stdout",
     "output_type": "stream",
     "text": [
      "epoch_loss/batch_ct=0.06000493018932286\n",
      "tensor(0.1198, device='cuda:0', grad_fn=<SmoothL1LossBackward0>)\n"
     ]
    },
    {
     "name": "stderr",
     "output_type": "stream",
     "text": [
      "100%|██████████| 1250/1250 [00:02<00:00, 573.93it/s]\n",
      "  0%|          | 1/293 [00:00<00:35,  8.19it/s]"
     ]
    },
    {
     "name": "stdout",
     "output_type": "stream",
     "text": [
      "accuray: 0.2653\n"
     ]
    },
    {
     "name": "stderr",
     "output_type": "stream",
     "text": [
      "100%|██████████| 293/293 [00:31<00:00,  9.29it/s] \n",
      "  6%|▌         | 69/1250 [00:00<00:01, 689.36it/s]"
     ]
    },
    {
     "name": "stdout",
     "output_type": "stream",
     "text": [
      "epoch_loss/batch_ct=0.06012154769684587\n",
      "tensor(0.1202, device='cuda:0', grad_fn=<SmoothL1LossBackward0>)\n"
     ]
    },
    {
     "name": "stderr",
     "output_type": "stream",
     "text": [
      "100%|██████████| 1250/1250 [00:01<00:00, 645.07it/s]\n",
      "  0%|          | 1/293 [00:00<00:34,  8.47it/s]"
     ]
    },
    {
     "name": "stdout",
     "output_type": "stream",
     "text": [
      "accuray: 0.2668\n"
     ]
    },
    {
     "name": "stderr",
     "output_type": "stream",
     "text": [
      "100%|██████████| 293/293 [00:32<00:00,  8.97it/s] \n",
      "  3%|▎         | 43/1250 [00:00<00:02, 425.36it/s]"
     ]
    },
    {
     "name": "stdout",
     "output_type": "stream",
     "text": [
      "epoch_loss/batch_ct=0.06014721342436378\n",
      "tensor(0.1178, device='cuda:0', grad_fn=<SmoothL1LossBackward0>)\n"
     ]
    },
    {
     "name": "stderr",
     "output_type": "stream",
     "text": [
      "100%|██████████| 1250/1250 [00:02<00:00, 577.91it/s]\n",
      "  0%|          | 1/293 [00:00<00:35,  8.26it/s]"
     ]
    },
    {
     "name": "stdout",
     "output_type": "stream",
     "text": [
      "accuray: 0.2676\n"
     ]
    },
    {
     "name": "stderr",
     "output_type": "stream",
     "text": [
      "100%|██████████| 293/293 [00:31<00:00,  9.27it/s] \n",
      " 11%|█         | 137/1250 [00:00<00:01, 681.25it/s]"
     ]
    },
    {
     "name": "stdout",
     "output_type": "stream",
     "text": [
      "epoch_loss/batch_ct=0.06005584631883909\n",
      "tensor(0.1203, device='cuda:0', grad_fn=<SmoothL1LossBackward0>)\n"
     ]
    },
    {
     "name": "stderr",
     "output_type": "stream",
     "text": [
      "100%|██████████| 1250/1250 [00:01<00:00, 669.27it/s]\n",
      "  0%|          | 1/293 [00:00<00:33,  8.69it/s]"
     ]
    },
    {
     "name": "stdout",
     "output_type": "stream",
     "text": [
      "accuray: 0.266\n"
     ]
    },
    {
     "name": "stderr",
     "output_type": "stream",
     "text": [
      "100%|██████████| 293/293 [00:32<00:00,  9.00it/s] \n",
      "  6%|▌         | 69/1250 [00:00<00:01, 682.55it/s]"
     ]
    },
    {
     "name": "stdout",
     "output_type": "stream",
     "text": [
      "epoch_loss/batch_ct=0.06007938094377991\n",
      "tensor(0.1175, device='cuda:0', grad_fn=<SmoothL1LossBackward0>)\n"
     ]
    },
    {
     "name": "stderr",
     "output_type": "stream",
     "text": [
      "100%|██████████| 1250/1250 [00:01<00:00, 645.07it/s]\n",
      "  0%|          | 1/293 [00:00<00:34,  8.54it/s]"
     ]
    },
    {
     "name": "stdout",
     "output_type": "stream",
     "text": [
      "accuray: 0.2599\n"
     ]
    },
    {
     "name": "stderr",
     "output_type": "stream",
     "text": [
      "100%|██████████| 293/293 [00:31<00:00,  9.37it/s] \n",
      "  9%|▊         | 108/1250 [00:00<00:02, 533.23it/s]"
     ]
    },
    {
     "name": "stdout",
     "output_type": "stream",
     "text": [
      "epoch_loss/batch_ct=0.06009203083221874\n",
      "tensor(0.1191, device='cuda:0', grad_fn=<SmoothL1LossBackward0>)\n"
     ]
    },
    {
     "name": "stderr",
     "output_type": "stream",
     "text": [
      "100%|██████████| 1250/1250 [00:02<00:00, 591.04it/s]\n",
      "  0%|          | 1/293 [00:00<00:37,  7.69it/s]"
     ]
    },
    {
     "name": "stdout",
     "output_type": "stream",
     "text": [
      "accuray: 0.2631\n"
     ]
    },
    {
     "name": "stderr",
     "output_type": "stream",
     "text": [
      "100%|██████████| 293/293 [00:32<00:00,  8.90it/s] \n",
      "  4%|▎         | 45/1250 [00:00<00:02, 440.78it/s]"
     ]
    },
    {
     "name": "stdout",
     "output_type": "stream",
     "text": [
      "epoch_loss/batch_ct=0.060123376770033723\n",
      "tensor(0.1197, device='cuda:0', grad_fn=<SmoothL1LossBackward0>)\n"
     ]
    },
    {
     "name": "stderr",
     "output_type": "stream",
     "text": [
      "100%|██████████| 1250/1250 [00:02<00:00, 579.79it/s]\n",
      "  0%|          | 1/293 [00:00<00:35,  8.19it/s]"
     ]
    },
    {
     "name": "stdout",
     "output_type": "stream",
     "text": [
      "accuray: 0.2627\n"
     ]
    },
    {
     "name": "stderr",
     "output_type": "stream",
     "text": [
      "100%|██████████| 293/293 [00:31<00:00,  9.36it/s] \n",
      "  8%|▊         | 98/1250 [00:00<00:02, 486.69it/s]"
     ]
    },
    {
     "name": "stdout",
     "output_type": "stream",
     "text": [
      "epoch_loss/batch_ct=0.060077391949201385\n",
      "tensor(0.1193, device='cuda:0', grad_fn=<SmoothL1LossBackward0>)\n"
     ]
    },
    {
     "name": "stderr",
     "output_type": "stream",
     "text": [
      "100%|██████████| 1250/1250 [00:02<00:00, 580.06it/s]\n",
      "  0%|          | 1/293 [00:00<00:37,  7.87it/s]"
     ]
    },
    {
     "name": "stdout",
     "output_type": "stream",
     "text": [
      "accuray: 0.2668\n"
     ]
    },
    {
     "name": "stderr",
     "output_type": "stream",
     "text": [
      "100%|██████████| 293/293 [00:32<00:00,  8.95it/s] \n",
      "  4%|▎         | 45/1250 [00:00<00:02, 445.14it/s]"
     ]
    },
    {
     "name": "stdout",
     "output_type": "stream",
     "text": [
      "epoch_loss/batch_ct=0.06000227623042606\n",
      "tensor(0.1186, device='cuda:0', grad_fn=<SmoothL1LossBackward0>)\n"
     ]
    },
    {
     "name": "stderr",
     "output_type": "stream",
     "text": [
      "100%|██████████| 1250/1250 [00:01<00:00, 659.38it/s]\n",
      "  0%|          | 1/293 [00:00<00:35,  8.33it/s]"
     ]
    },
    {
     "name": "stdout",
     "output_type": "stream",
     "text": [
      "accuray: 0.268\n"
     ]
    },
    {
     "name": "stderr",
     "output_type": "stream",
     "text": [
      "100%|██████████| 293/293 [00:31<00:00,  9.34it/s] \n",
      "  7%|▋         | 82/1250 [00:00<00:02, 405.57it/s]"
     ]
    },
    {
     "name": "stdout",
     "output_type": "stream",
     "text": [
      "epoch_loss/batch_ct=0.060135734814500054\n",
      "tensor(0.1186, device='cuda:0', grad_fn=<SmoothL1LossBackward0>)\n"
     ]
    },
    {
     "name": "stderr",
     "output_type": "stream",
     "text": [
      "100%|██████████| 1250/1250 [00:02<00:00, 569.22it/s]\n",
      "  0%|          | 1/293 [00:00<00:36,  8.06it/s]"
     ]
    },
    {
     "name": "stdout",
     "output_type": "stream",
     "text": [
      "accuray: 0.2631\n"
     ]
    },
    {
     "name": "stderr",
     "output_type": "stream",
     "text": [
      "100%|██████████| 293/293 [00:33<00:00,  8.83it/s] \n",
      "  4%|▍         | 50/1250 [00:00<00:02, 494.60it/s]"
     ]
    },
    {
     "name": "stdout",
     "output_type": "stream",
     "text": [
      "epoch_loss/batch_ct=0.06007201474396482\n",
      "tensor(0.1183, device='cuda:0', grad_fn=<SmoothL1LossBackward0>)\n"
     ]
    },
    {
     "name": "stderr",
     "output_type": "stream",
     "text": [
      "100%|██████████| 1250/1250 [00:02<00:00, 588.81it/s]\n",
      "  0%|          | 1/293 [00:00<00:37,  7.87it/s]"
     ]
    },
    {
     "name": "stdout",
     "output_type": "stream",
     "text": [
      "accuray: 0.2648\n"
     ]
    },
    {
     "name": "stderr",
     "output_type": "stream",
     "text": [
      "100%|██████████| 293/293 [00:31<00:00,  9.40it/s] \n",
      "  4%|▎         | 45/1250 [00:00<00:02, 449.59it/s]"
     ]
    },
    {
     "name": "stdout",
     "output_type": "stream",
     "text": [
      "epoch_loss/batch_ct=0.060156497838241715\n",
      "tensor(0.1184, device='cuda:0', grad_fn=<SmoothL1LossBackward0>)\n"
     ]
    },
    {
     "name": "stderr",
     "output_type": "stream",
     "text": [
      "100%|██████████| 1250/1250 [00:02<00:00, 581.68it/s]\n",
      "  0%|          | 1/293 [00:00<00:35,  8.26it/s]"
     ]
    },
    {
     "name": "stdout",
     "output_type": "stream",
     "text": [
      "accuray: 0.2667\n"
     ]
    },
    {
     "name": "stderr",
     "output_type": "stream",
     "text": [
      "100%|██████████| 293/293 [00:31<00:00,  9.37it/s] \n",
      "  8%|▊         | 97/1250 [00:00<00:02, 482.60it/s]"
     ]
    },
    {
     "name": "stdout",
     "output_type": "stream",
     "text": [
      "epoch_loss/batch_ct=0.06005374181069552\n",
      "tensor(0.1189, device='cuda:0', grad_fn=<SmoothL1LossBackward0>)\n"
     ]
    },
    {
     "name": "stderr",
     "output_type": "stream",
     "text": [
      "100%|██████████| 1250/1250 [00:02<00:00, 577.91it/s]\n",
      "  0%|          | 1/293 [00:00<00:34,  8.54it/s]"
     ]
    },
    {
     "name": "stdout",
     "output_type": "stream",
     "text": [
      "accuray: 0.2699\n"
     ]
    },
    {
     "name": "stderr",
     "output_type": "stream",
     "text": [
      "100%|██████████| 293/293 [00:32<00:00,  8.95it/s] \n",
      "  4%|▍         | 47/1250 [00:00<00:02, 464.92it/s]"
     ]
    },
    {
     "name": "stdout",
     "output_type": "stream",
     "text": [
      "epoch_loss/batch_ct=0.06008146361758312\n",
      "tensor(0.1188, device='cuda:0', grad_fn=<SmoothL1LossBackward0>)\n"
     ]
    },
    {
     "name": "stderr",
     "output_type": "stream",
     "text": [
      "100%|██████████| 1250/1250 [00:02<00:00, 581.41it/s]\n",
      "  0%|          | 1/293 [00:00<00:37,  7.87it/s]"
     ]
    },
    {
     "name": "stdout",
     "output_type": "stream",
     "text": [
      "accuray: 0.2665\n"
     ]
    },
    {
     "name": "stderr",
     "output_type": "stream",
     "text": [
      "100%|██████████| 293/293 [00:31<00:00,  9.40it/s] \n",
      "  3%|▎         | 43/1250 [00:00<00:02, 425.36it/s]"
     ]
    },
    {
     "name": "stdout",
     "output_type": "stream",
     "text": [
      "epoch_loss/batch_ct=0.0600436498957967\n",
      "tensor(0.1194, device='cuda:0', grad_fn=<SmoothL1LossBackward0>)\n"
     ]
    },
    {
     "name": "stderr",
     "output_type": "stream",
     "text": [
      "100%|██████████| 1250/1250 [00:02<00:00, 578.98it/s]\n",
      "  0%|          | 1/293 [00:00<00:35,  8.26it/s]"
     ]
    },
    {
     "name": "stdout",
     "output_type": "stream",
     "text": [
      "accuray: 0.2662\n"
     ]
    },
    {
     "name": "stderr",
     "output_type": "stream",
     "text": [
      "100%|██████████| 293/293 [00:33<00:00,  8.83it/s] \n",
      " 11%|█         | 136/1250 [00:00<00:01, 645.22it/s]"
     ]
    },
    {
     "name": "stdout",
     "output_type": "stream",
     "text": [
      "epoch_loss/batch_ct=0.06000867246517113\n",
      "tensor(0.1191, device='cuda:0', grad_fn=<SmoothL1LossBackward0>)\n"
     ]
    },
    {
     "name": "stderr",
     "output_type": "stream",
     "text": [
      "100%|██████████| 1250/1250 [00:02<00:00, 622.25it/s]\n",
      "  0%|          | 1/293 [00:00<00:34,  8.40it/s]"
     ]
    },
    {
     "name": "stdout",
     "output_type": "stream",
     "text": [
      "accuray: 0.262\n"
     ]
    },
    {
     "name": "stderr",
     "output_type": "stream",
     "text": [
      "100%|██████████| 293/293 [00:31<00:00,  9.26it/s] \n",
      "  7%|▋         | 88/1250 [00:00<00:02, 437.03it/s]"
     ]
    },
    {
     "name": "stdout",
     "output_type": "stream",
     "text": [
      "epoch_loss/batch_ct=0.060206640970021014\n",
      "tensor(0.1167, device='cuda:0', grad_fn=<SmoothL1LossBackward0>)\n"
     ]
    },
    {
     "name": "stderr",
     "output_type": "stream",
     "text": [
      "100%|██████████| 1250/1250 [00:02<00:00, 576.31it/s]\n",
      "  0%|          | 1/293 [00:00<00:42,  6.94it/s]"
     ]
    },
    {
     "name": "stdout",
     "output_type": "stream",
     "text": [
      "accuray: 0.2583\n"
     ]
    },
    {
     "name": "stderr",
     "output_type": "stream",
     "text": [
      "100%|██████████| 293/293 [00:32<00:00,  8.92it/s] \n",
      "  7%|▋         | 88/1250 [00:00<00:02, 437.03it/s]"
     ]
    },
    {
     "name": "stdout",
     "output_type": "stream",
     "text": [
      "epoch_loss/batch_ct=0.06012765066846022\n",
      "tensor(0.1195, device='cuda:0', grad_fn=<SmoothL1LossBackward0>)\n"
     ]
    },
    {
     "name": "stderr",
     "output_type": "stream",
     "text": [
      "100%|██████████| 1250/1250 [00:02<00:00, 576.04it/s]\n",
      "  0%|          | 1/293 [00:00<00:35,  8.12it/s]"
     ]
    },
    {
     "name": "stdout",
     "output_type": "stream",
     "text": [
      "accuray: 0.2644\n"
     ]
    },
    {
     "name": "stderr",
     "output_type": "stream",
     "text": [
      "100%|██████████| 293/293 [00:30<00:00,  9.49it/s] \n",
      "  4%|▍         | 54/1250 [00:00<00:02, 539.51it/s]"
     ]
    },
    {
     "name": "stdout",
     "output_type": "stream",
     "text": [
      "epoch_loss/batch_ct=0.06005331137705417\n",
      "tensor(0.1188, device='cuda:0', grad_fn=<SmoothL1LossBackward0>)\n"
     ]
    },
    {
     "name": "stderr",
     "output_type": "stream",
     "text": [
      "100%|██████████| 1250/1250 [00:02<00:00, 599.55it/s]\n",
      "  0%|          | 1/293 [00:00<00:35,  8.19it/s]"
     ]
    },
    {
     "name": "stdout",
     "output_type": "stream",
     "text": [
      "accuray: 0.2627\n"
     ]
    },
    {
     "name": "stderr",
     "output_type": "stream",
     "text": [
      "100%|██████████| 293/293 [00:32<00:00,  8.95it/s] \n",
      "  4%|▍         | 56/1250 [00:00<00:02, 553.95it/s]"
     ]
    },
    {
     "name": "stdout",
     "output_type": "stream",
     "text": [
      "epoch_loss/batch_ct=0.05997938021189637\n",
      "tensor(0.1171, device='cuda:0', grad_fn=<SmoothL1LossBackward0>)\n"
     ]
    },
    {
     "name": "stderr",
     "output_type": "stream",
     "text": [
      "100%|██████████| 1250/1250 [00:02<00:00, 596.40it/s]\n",
      "  0%|          | 1/293 [00:00<00:35,  8.12it/s]"
     ]
    },
    {
     "name": "stdout",
     "output_type": "stream",
     "text": [
      "accuray: 0.2666\n"
     ]
    },
    {
     "name": "stderr",
     "output_type": "stream",
     "text": [
      "100%|██████████| 293/293 [00:30<00:00,  9.47it/s] \n",
      "  4%|▍         | 49/1250 [00:00<00:02, 489.56it/s]"
     ]
    },
    {
     "name": "stdout",
     "output_type": "stream",
     "text": [
      "epoch_loss/batch_ct=0.0600118822314673\n",
      "tensor(0.1184, device='cuda:0', grad_fn=<SmoothL1LossBackward0>)\n"
     ]
    },
    {
     "name": "stderr",
     "output_type": "stream",
     "text": [
      "100%|██████████| 1250/1250 [00:02<00:00, 576.04it/s]\n",
      "  0%|          | 1/293 [00:00<00:36,  8.06it/s]"
     ]
    },
    {
     "name": "stdout",
     "output_type": "stream",
     "text": [
      "accuray: 0.2625\n"
     ]
    },
    {
     "name": "stderr",
     "output_type": "stream",
     "text": [
      "100%|██████████| 293/293 [00:32<00:00,  8.91it/s] \n",
      "  7%|▋         | 84/1250 [00:00<00:02, 416.19it/s]"
     ]
    },
    {
     "name": "stdout",
     "output_type": "stream",
     "text": [
      "epoch_loss/batch_ct=0.060217011306020946\n",
      "tensor(0.1199, device='cuda:0', grad_fn=<SmoothL1LossBackward0>)\n"
     ]
    },
    {
     "name": "stderr",
     "output_type": "stream",
     "text": [
      "100%|██████████| 1250/1250 [00:02<00:00, 568.70it/s]\n",
      "  0%|          | 1/293 [00:00<00:35,  8.12it/s]"
     ]
    },
    {
     "name": "stdout",
     "output_type": "stream",
     "text": [
      "accuray: 0.2668\n"
     ]
    },
    {
     "name": "stderr",
     "output_type": "stream",
     "text": [
      "100%|██████████| 293/293 [00:31<00:00,  9.40it/s] \n",
      "  4%|▍         | 48/1250 [00:00<00:02, 479.56it/s]"
     ]
    },
    {
     "name": "stdout",
     "output_type": "stream",
     "text": [
      "epoch_loss/batch_ct=0.06001360022595951\n",
      "tensor(0.1163, device='cuda:0', grad_fn=<SmoothL1LossBackward0>)\n"
     ]
    },
    {
     "name": "stderr",
     "output_type": "stream",
     "text": [
      "100%|██████████| 1250/1250 [00:02<00:00, 583.31it/s]\n",
      "  0%|          | 1/293 [00:00<00:35,  8.33it/s]"
     ]
    },
    {
     "name": "stdout",
     "output_type": "stream",
     "text": [
      "accuray: 0.2636\n"
     ]
    },
    {
     "name": "stderr",
     "output_type": "stream",
     "text": [
      "100%|██████████| 293/293 [00:33<00:00,  8.85it/s] \n",
      "  3%|▎         | 36/1250 [00:00<00:03, 359.68it/s]"
     ]
    },
    {
     "name": "stdout",
     "output_type": "stream",
     "text": [
      "epoch_loss/batch_ct=0.06018808254942534\n",
      "tensor(0.1200, device='cuda:0', grad_fn=<SmoothL1LossBackward0>)\n"
     ]
    },
    {
     "name": "stderr",
     "output_type": "stream",
     "text": [
      "100%|██████████| 1250/1250 [00:02<00:00, 577.64it/s]\n",
      "  0%|          | 1/293 [00:00<00:35,  8.19it/s]"
     ]
    },
    {
     "name": "stdout",
     "output_type": "stream",
     "text": [
      "accuray: 0.2646\n"
     ]
    },
    {
     "name": "stderr",
     "output_type": "stream",
     "text": [
      "100%|██████████| 293/293 [00:31<00:00,  9.38it/s] \n",
      "  4%|▍         | 52/1250 [00:00<00:02, 514.39it/s]"
     ]
    },
    {
     "name": "stdout",
     "output_type": "stream",
     "text": [
      "epoch_loss/batch_ct=0.06009298688658173\n",
      "tensor(0.1206, device='cuda:0', grad_fn=<SmoothL1LossBackward0>)\n"
     ]
    },
    {
     "name": "stderr",
     "output_type": "stream",
     "text": [
      "100%|██████████| 1250/1250 [00:02<00:00, 591.88it/s]\n",
      "  0%|          | 1/293 [00:00<00:37,  7.87it/s]"
     ]
    },
    {
     "name": "stdout",
     "output_type": "stream",
     "text": [
      "accuray: 0.2622\n"
     ]
    },
    {
     "name": "stderr",
     "output_type": "stream",
     "text": [
      "100%|██████████| 293/293 [00:32<00:00,  8.94it/s] \n",
      "  3%|▎         | 38/1250 [00:00<00:03, 379.65it/s]"
     ]
    },
    {
     "name": "stdout",
     "output_type": "stream",
     "text": [
      "epoch_loss/batch_ct=0.060098962932233775\n",
      "tensor(0.1183, device='cuda:0', grad_fn=<SmoothL1LossBackward0>)\n"
     ]
    },
    {
     "name": "stderr",
     "output_type": "stream",
     "text": [
      "100%|██████████| 1250/1250 [00:02<00:00, 571.82it/s]\n",
      "  0%|          | 1/293 [00:00<00:38,  7.63it/s]"
     ]
    },
    {
     "name": "stdout",
     "output_type": "stream",
     "text": [
      "accuray: 0.2649\n"
     ]
    },
    {
     "name": "stderr",
     "output_type": "stream",
     "text": [
      "100%|██████████| 293/293 [00:31<00:00,  9.24it/s] \n",
      "  6%|▌         | 69/1250 [00:00<00:01, 689.37it/s]"
     ]
    },
    {
     "name": "stdout",
     "output_type": "stream",
     "text": [
      "epoch_loss/batch_ct=0.06006132141642627\n",
      "tensor(0.1193, device='cuda:0', grad_fn=<SmoothL1LossBackward0>)\n"
     ]
    },
    {
     "name": "stderr",
     "output_type": "stream",
     "text": [
      "100%|██████████| 1250/1250 [00:01<00:00, 640.11it/s]\n",
      "  0%|          | 1/293 [00:00<00:33,  8.61it/s]"
     ]
    },
    {
     "name": "stdout",
     "output_type": "stream",
     "text": [
      "accuray: 0.2674\n"
     ]
    },
    {
     "name": "stderr",
     "output_type": "stream",
     "text": [
      "100%|██████████| 293/293 [00:31<00:00,  9.26it/s] \n",
      "  8%|▊         | 97/1250 [00:00<00:02, 484.35it/s]"
     ]
    },
    {
     "name": "stdout",
     "output_type": "stream",
     "text": [
      "epoch_loss/batch_ct=0.06009230237927229\n",
      "tensor(0.1199, device='cuda:0', grad_fn=<SmoothL1LossBackward0>)\n"
     ]
    },
    {
     "name": "stderr",
     "output_type": "stream",
     "text": [
      "100%|██████████| 1250/1250 [00:02<00:00, 622.56it/s]\n",
      "  0%|          | 1/293 [00:00<00:33,  8.69it/s]"
     ]
    },
    {
     "name": "stdout",
     "output_type": "stream",
     "text": [
      "accuray: 0.2653\n"
     ]
    },
    {
     "name": "stderr",
     "output_type": "stream",
     "text": [
      "100%|██████████| 293/293 [00:32<00:00,  8.97it/s] \n",
      "  9%|▉         | 118/1250 [00:00<00:01, 582.61it/s]"
     ]
    },
    {
     "name": "stdout",
     "output_type": "stream",
     "text": [
      "epoch_loss/batch_ct=0.06011617208816229\n",
      "tensor(0.1188, device='cuda:0', grad_fn=<SmoothL1LossBackward0>)\n"
     ]
    },
    {
     "name": "stderr",
     "output_type": "stream",
     "text": [
      "100%|██████████| 1250/1250 [00:02<00:00, 603.90it/s]\n",
      "  0%|          | 1/293 [00:00<00:36,  7.93it/s]"
     ]
    },
    {
     "name": "stdout",
     "output_type": "stream",
     "text": [
      "accuray: 0.2676\n"
     ]
    },
    {
     "name": "stderr",
     "output_type": "stream",
     "text": [
      "100%|██████████| 293/293 [00:31<00:00,  9.31it/s] \n",
      "  4%|▍         | 48/1250 [00:00<00:02, 474.82it/s]"
     ]
    },
    {
     "name": "stdout",
     "output_type": "stream",
     "text": [
      "epoch_loss/batch_ct=0.06005500629544258\n",
      "tensor(0.1183, device='cuda:0', grad_fn=<SmoothL1LossBackward0>)\n"
     ]
    },
    {
     "name": "stderr",
     "output_type": "stream",
     "text": [
      "100%|██████████| 1250/1250 [00:02<00:00, 583.04it/s]\n",
      "  0%|          | 1/293 [00:00<00:36,  8.06it/s]"
     ]
    },
    {
     "name": "stdout",
     "output_type": "stream",
     "text": [
      "accuray: 0.2664\n"
     ]
    },
    {
     "name": "stderr",
     "output_type": "stream",
     "text": [
      "100%|██████████| 293/293 [00:32<00:00,  8.89it/s] \n",
      "  5%|▍         | 61/1250 [00:00<00:01, 609.45it/s]"
     ]
    },
    {
     "name": "stdout",
     "output_type": "stream",
     "text": [
      "epoch_loss/batch_ct=0.059994242287107875\n",
      "tensor(0.1191, device='cuda:0', grad_fn=<SmoothL1LossBackward0>)\n"
     ]
    },
    {
     "name": "stderr",
     "output_type": "stream",
     "text": [
      "100%|██████████| 1250/1250 [00:02<00:00, 604.48it/s]\n",
      "  0%|          | 1/293 [00:00<00:37,  7.81it/s]"
     ]
    },
    {
     "name": "stdout",
     "output_type": "stream",
     "text": [
      "accuray: 0.2667\n"
     ]
    },
    {
     "name": "stderr",
     "output_type": "stream",
     "text": [
      "100%|██████████| 293/293 [00:31<00:00,  9.32it/s] \n",
      " 10%|▉         | 124/1250 [00:00<00:01, 613.30it/s]"
     ]
    },
    {
     "name": "stdout",
     "output_type": "stream",
     "text": [
      "epoch_loss/batch_ct=0.060142438252648665\n",
      "tensor(0.1218, device='cuda:0', grad_fn=<SmoothL1LossBackward0>)\n"
     ]
    },
    {
     "name": "stderr",
     "output_type": "stream",
     "text": [
      "100%|██████████| 1250/1250 [00:02<00:00, 605.36it/s]\n",
      "  0%|          | 1/293 [00:00<00:36,  8.06it/s]"
     ]
    },
    {
     "name": "stdout",
     "output_type": "stream",
     "text": [
      "accuray: 0.2626\n"
     ]
    },
    {
     "name": "stderr",
     "output_type": "stream",
     "text": [
      "100%|██████████| 293/293 [00:32<00:00,  8.92it/s] \n",
      "  8%|▊         | 99/1250 [00:00<00:02, 495.43it/s]"
     ]
    },
    {
     "name": "stdout",
     "output_type": "stream",
     "text": [
      "epoch_loss/batch_ct=0.06002031673218996\n",
      "tensor(0.1186, device='cuda:0', grad_fn=<SmoothL1LossBackward0>)\n"
     ]
    },
    {
     "name": "stderr",
     "output_type": "stream",
     "text": [
      "100%|██████████| 1250/1250 [00:02<00:00, 587.42it/s]\n",
      "  0%|          | 1/293 [00:00<00:34,  8.40it/s]"
     ]
    },
    {
     "name": "stdout",
     "output_type": "stream",
     "text": [
      "accuray: 0.2668\n"
     ]
    },
    {
     "name": "stderr",
     "output_type": "stream",
     "text": [
      "100%|██████████| 293/293 [00:31<00:00,  9.29it/s] \n",
      " 11%|█         | 138/1250 [00:00<00:01, 677.42it/s]"
     ]
    },
    {
     "name": "stdout",
     "output_type": "stream",
     "text": [
      "epoch_loss/batch_ct=0.05995439893255631\n",
      "tensor(0.1184, device='cuda:0', grad_fn=<SmoothL1LossBackward0>)\n"
     ]
    },
    {
     "name": "stderr",
     "output_type": "stream",
     "text": [
      "100%|██████████| 1250/1250 [00:01<00:00, 635.55it/s]\n",
      "  0%|          | 1/293 [00:00<00:34,  8.54it/s]"
     ]
    },
    {
     "name": "stdout",
     "output_type": "stream",
     "text": [
      "accuray: 0.2719\n"
     ]
    },
    {
     "name": "stderr",
     "output_type": "stream",
     "text": [
      "100%|██████████| 293/293 [00:33<00:00,  8.84it/s] \n",
      "  8%|▊         | 104/1250 [00:00<00:02, 520.91it/s]"
     ]
    },
    {
     "name": "stdout",
     "output_type": "stream",
     "text": [
      "epoch_loss/batch_ct=0.06002610128018118\n",
      "tensor(0.1169, device='cuda:0', grad_fn=<SmoothL1LossBackward0>)\n"
     ]
    },
    {
     "name": "stderr",
     "output_type": "stream",
     "text": [
      "100%|██████████| 1250/1250 [00:02<00:00, 580.60it/s]\n",
      "  0%|          | 1/293 [00:00<00:35,  8.26it/s]"
     ]
    },
    {
     "name": "stdout",
     "output_type": "stream",
     "text": [
      "accuray: 0.2672\n"
     ]
    },
    {
     "name": "stderr",
     "output_type": "stream",
     "text": [
      "100%|██████████| 293/293 [00:31<00:00,  9.39it/s] \n",
      "  4%|▍         | 53/1250 [00:00<00:02, 524.27it/s]"
     ]
    },
    {
     "name": "stdout",
     "output_type": "stream",
     "text": [
      "epoch_loss/batch_ct=0.05998912149123729\n",
      "tensor(0.1173, device='cuda:0', grad_fn=<SmoothL1LossBackward0>)\n"
     ]
    },
    {
     "name": "stderr",
     "output_type": "stream",
     "text": [
      "100%|██████████| 1250/1250 [00:02<00:00, 586.87it/s]\n",
      "  0%|          | 1/293 [00:00<00:36,  7.99it/s]"
     ]
    },
    {
     "name": "stdout",
     "output_type": "stream",
     "text": [
      "accuray: 0.269\n"
     ]
    },
    {
     "name": "stderr",
     "output_type": "stream",
     "text": [
      "100%|██████████| 293/293 [00:33<00:00,  8.83it/s] \n",
      "  7%|▋         | 92/1250 [00:00<00:02, 456.55it/s]"
     ]
    },
    {
     "name": "stdout",
     "output_type": "stream",
     "text": [
      "epoch_loss/batch_ct=0.059992729789680906\n",
      "tensor(0.1178, device='cuda:0', grad_fn=<SmoothL1LossBackward0>)\n"
     ]
    },
    {
     "name": "stderr",
     "output_type": "stream",
     "text": [
      "100%|██████████| 1250/1250 [00:02<00:00, 577.64it/s]\n",
      "  0%|          | 1/293 [00:00<00:36,  8.06it/s]"
     ]
    },
    {
     "name": "stdout",
     "output_type": "stream",
     "text": [
      "accuray: 0.2656\n"
     ]
    },
    {
     "name": "stderr",
     "output_type": "stream",
     "text": [
      "100%|██████████| 293/293 [00:31<00:00,  9.24it/s] \n",
      "  4%|▎         | 44/1250 [00:00<00:02, 439.60it/s]"
     ]
    },
    {
     "name": "stdout",
     "output_type": "stream",
     "text": [
      "epoch_loss/batch_ct=0.0599966858410173\n",
      "tensor(0.1192, device='cuda:0', grad_fn=<SmoothL1LossBackward0>)\n"
     ]
    },
    {
     "name": "stderr",
     "output_type": "stream",
     "text": [
      "100%|██████████| 1250/1250 [00:02<00:00, 578.18it/s]\n",
      "  0%|          | 1/293 [00:00<00:35,  8.12it/s]"
     ]
    },
    {
     "name": "stdout",
     "output_type": "stream",
     "text": [
      "accuray: 0.2678\n"
     ]
    },
    {
     "name": "stderr",
     "output_type": "stream",
     "text": [
      "100%|██████████| 293/293 [00:31<00:00,  9.35it/s]\n",
      "  4%|▍         | 47/1250 [00:00<00:02, 469.57it/s]"
     ]
    },
    {
     "name": "stdout",
     "output_type": "stream",
     "text": [
      "epoch_loss/batch_ct=0.059980698003773654\n",
      "tensor(0.1174, device='cuda:0', grad_fn=<SmoothL1LossBackward0>)\n"
     ]
    },
    {
     "name": "stderr",
     "output_type": "stream",
     "text": [
      "100%|██████████| 1250/1250 [00:02<00:00, 583.58it/s]\n",
      "  0%|          | 1/293 [00:00<00:35,  8.33it/s]"
     ]
    },
    {
     "name": "stdout",
     "output_type": "stream",
     "text": [
      "accuray: 0.2626\n"
     ]
    },
    {
     "name": "stderr",
     "output_type": "stream",
     "text": [
      "100%|██████████| 293/293 [00:32<00:00,  8.96it/s] \n",
      "  3%|▎         | 39/1250 [00:00<00:03, 382.01it/s]"
     ]
    },
    {
     "name": "stdout",
     "output_type": "stream",
     "text": [
      "epoch_loss/batch_ct=0.059892821229166456\n",
      "tensor(0.1189, device='cuda:0', grad_fn=<SmoothL1LossBackward0>)\n"
     ]
    },
    {
     "name": "stderr",
     "output_type": "stream",
     "text": [
      "100%|██████████| 1250/1250 [00:02<00:00, 578.71it/s]\n",
      "  0%|          | 1/293 [00:00<00:38,  7.63it/s]"
     ]
    },
    {
     "name": "stdout",
     "output_type": "stream",
     "text": [
      "accuray: 0.2688\n"
     ]
    },
    {
     "name": "stderr",
     "output_type": "stream",
     "text": [
      "100%|██████████| 293/293 [00:31<00:00,  9.41it/s] \n",
      "  9%|▉         | 112/1250 [00:00<00:02, 547.58it/s]"
     ]
    },
    {
     "name": "stdout",
     "output_type": "stream",
     "text": [
      "epoch_loss/batch_ct=0.05996438658367547\n",
      "tensor(0.1175, device='cuda:0', grad_fn=<SmoothL1LossBackward0>)\n"
     ]
    },
    {
     "name": "stderr",
     "output_type": "stream",
     "text": [
      "100%|██████████| 1250/1250 [00:02<00:00, 590.76it/s]\n",
      "  0%|          | 1/293 [00:00<00:36,  7.99it/s]"
     ]
    },
    {
     "name": "stdout",
     "output_type": "stream",
     "text": [
      "accuray: 0.263\n"
     ]
    },
    {
     "name": "stderr",
     "output_type": "stream",
     "text": [
      "100%|██████████| 293/293 [00:32<00:00,  8.98it/s] \n",
      "  7%|▋         | 92/1250 [00:00<00:02, 454.24it/s]"
     ]
    },
    {
     "name": "stdout",
     "output_type": "stream",
     "text": [
      "epoch_loss/batch_ct=0.05996312008845427\n",
      "tensor(0.1188, device='cuda:0', grad_fn=<SmoothL1LossBackward0>)\n"
     ]
    },
    {
     "name": "stderr",
     "output_type": "stream",
     "text": [
      "100%|██████████| 1250/1250 [00:02<00:00, 577.91it/s]\n",
      "  0%|          | 1/293 [00:00<00:37,  7.69it/s]"
     ]
    },
    {
     "name": "stdout",
     "output_type": "stream",
     "text": [
      "accuray: 0.2664\n"
     ]
    },
    {
     "name": "stderr",
     "output_type": "stream",
     "text": [
      "100%|██████████| 293/293 [00:31<00:00,  9.39it/s] \n",
      "  8%|▊         | 103/1250 [00:00<00:02, 507.36it/s]"
     ]
    },
    {
     "name": "stdout",
     "output_type": "stream",
     "text": [
      "epoch_loss/batch_ct=0.05992595144798831\n",
      "tensor(0.1185, device='cuda:0', grad_fn=<SmoothL1LossBackward0>)\n"
     ]
    },
    {
     "name": "stderr",
     "output_type": "stream",
     "text": [
      "100%|██████████| 1250/1250 [00:02<00:00, 583.31it/s]\n",
      "  0%|          | 1/293 [00:00<00:37,  7.74it/s]"
     ]
    },
    {
     "name": "stdout",
     "output_type": "stream",
     "text": [
      "accuray: 0.2646\n"
     ]
    },
    {
     "name": "stderr",
     "output_type": "stream",
     "text": [
      "100%|██████████| 293/293 [00:32<00:00,  8.95it/s] \n",
      "  7%|▋         | 91/1250 [00:00<00:02, 451.75it/s]"
     ]
    },
    {
     "name": "stdout",
     "output_type": "stream",
     "text": [
      "epoch_loss/batch_ct=0.05996582221003279\n",
      "tensor(0.1200, device='cuda:0', grad_fn=<SmoothL1LossBackward0>)\n"
     ]
    },
    {
     "name": "stderr",
     "output_type": "stream",
     "text": [
      "100%|██████████| 1250/1250 [00:02<00:00, 571.04it/s]\n",
      "  0%|          | 1/293 [00:00<00:34,  8.40it/s]"
     ]
    },
    {
     "name": "stdout",
     "output_type": "stream",
     "text": [
      "accuray: 0.2674\n"
     ]
    },
    {
     "name": "stderr",
     "output_type": "stream",
     "text": [
      "100%|██████████| 293/293 [00:31<00:00,  9.35it/s] \n",
      "  4%|▍         | 54/1250 [00:00<00:02, 539.51it/s]"
     ]
    },
    {
     "name": "stdout",
     "output_type": "stream",
     "text": [
      "epoch_loss/batch_ct=0.05992044172885399\n",
      "tensor(0.1189, device='cuda:0', grad_fn=<SmoothL1LossBackward0>)\n"
     ]
    },
    {
     "name": "stderr",
     "output_type": "stream",
     "text": [
      "100%|██████████| 1250/1250 [00:02<00:00, 592.16it/s]\n",
      "  0%|          | 1/293 [00:00<00:38,  7.51it/s]"
     ]
    },
    {
     "name": "stdout",
     "output_type": "stream",
     "text": [
      "accuray: 0.2661\n"
     ]
    },
    {
     "name": "stderr",
     "output_type": "stream",
     "text": [
      "100%|██████████| 293/293 [00:32<00:00,  8.94it/s] \n",
      "  3%|▎         | 43/1250 [00:00<00:02, 417.09it/s]"
     ]
    },
    {
     "name": "stdout",
     "output_type": "stream",
     "text": [
      "epoch_loss/batch_ct=0.06003625890506165\n",
      "tensor(0.1179, device='cuda:0', grad_fn=<SmoothL1LossBackward0>)\n"
     ]
    },
    {
     "name": "stderr",
     "output_type": "stream",
     "text": [
      "100%|██████████| 1250/1250 [00:02<00:00, 577.64it/s]\n",
      "  0%|          | 1/293 [00:00<00:35,  8.19it/s]"
     ]
    },
    {
     "name": "stdout",
     "output_type": "stream",
     "text": [
      "accuray: 0.263\n"
     ]
    },
    {
     "name": "stderr",
     "output_type": "stream",
     "text": [
      "100%|██████████| 293/293 [00:31<00:00,  9.42it/s] \n",
      "  5%|▍         | 61/1250 [00:00<00:01, 603.41it/s]"
     ]
    },
    {
     "name": "stdout",
     "output_type": "stream",
     "text": [
      "epoch_loss/batch_ct=0.060064566262539414\n",
      "tensor(0.1191, device='cuda:0', grad_fn=<SmoothL1LossBackward0>)\n"
     ]
    },
    {
     "name": "stderr",
     "output_type": "stream",
     "text": [
      "100%|██████████| 1250/1250 [00:02<00:00, 597.54it/s]\n",
      "  0%|          | 1/293 [00:00<00:36,  8.06it/s]"
     ]
    },
    {
     "name": "stdout",
     "output_type": "stream",
     "text": [
      "accuray: 0.2651\n"
     ]
    },
    {
     "name": "stderr",
     "output_type": "stream",
     "text": [
      "100%|██████████| 293/293 [00:32<00:00,  8.91it/s] \n",
      "  3%|▎         | 43/1250 [00:00<00:02, 429.61it/s]"
     ]
    },
    {
     "name": "stdout",
     "output_type": "stream",
     "text": [
      "epoch_loss/batch_ct=0.05998931399413517\n",
      "tensor(0.1199, device='cuda:0', grad_fn=<SmoothL1LossBackward0>)\n"
     ]
    },
    {
     "name": "stderr",
     "output_type": "stream",
     "text": [
      "100%|██████████| 1250/1250 [00:02<00:00, 573.66it/s]\n",
      "  0%|          | 1/293 [00:00<00:35,  8.19it/s]"
     ]
    },
    {
     "name": "stdout",
     "output_type": "stream",
     "text": [
      "accuray: 0.2675\n"
     ]
    },
    {
     "name": "stderr",
     "output_type": "stream",
     "text": [
      "100%|██████████| 293/293 [00:31<00:00,  9.31it/s] \n",
      "  7%|▋         | 88/1250 [00:00<00:02, 443.13it/s]"
     ]
    },
    {
     "name": "stdout",
     "output_type": "stream",
     "text": [
      "epoch_loss/batch_ct=0.05992056433821008\n",
      "tensor(0.1193, device='cuda:0', grad_fn=<SmoothL1LossBackward0>)\n"
     ]
    },
    {
     "name": "stderr",
     "output_type": "stream",
     "text": [
      "100%|██████████| 1250/1250 [00:02<00:00, 574.72it/s]\n",
      "  0%|          | 0/293 [00:00<?, ?it/s]"
     ]
    },
    {
     "name": "stdout",
     "output_type": "stream",
     "text": [
      "accuray: 0.2673\n"
     ]
    },
    {
     "name": "stderr",
     "output_type": "stream",
     "text": [
      "100%|██████████| 293/293 [00:31<00:00,  9.38it/s] \n",
      "  3%|▎         | 41/1250 [00:00<00:03, 393.87it/s]"
     ]
    },
    {
     "name": "stdout",
     "output_type": "stream",
     "text": [
      "epoch_loss/batch_ct=0.060017734425999815\n",
      "tensor(0.1191, device='cuda:0', grad_fn=<SmoothL1LossBackward0>)\n"
     ]
    },
    {
     "name": "stderr",
     "output_type": "stream",
     "text": [
      "100%|██████████| 1250/1250 [00:02<00:00, 571.82it/s]\n",
      "  0%|          | 1/293 [00:00<00:37,  7.81it/s]"
     ]
    },
    {
     "name": "stdout",
     "output_type": "stream",
     "text": [
      "accuray: 0.2654\n"
     ]
    },
    {
     "name": "stderr",
     "output_type": "stream",
     "text": [
      "100%|██████████| 293/293 [00:33<00:00,  8.77it/s] \n",
      " 11%|█         | 138/1250 [00:00<00:01, 682.55it/s]"
     ]
    },
    {
     "name": "stdout",
     "output_type": "stream",
     "text": [
      "epoch_loss/batch_ct=0.06002702565479373\n",
      "tensor(0.1176, device='cuda:0', grad_fn=<SmoothL1LossBackward0>)\n"
     ]
    },
    {
     "name": "stderr",
     "output_type": "stream",
     "text": [
      "100%|██████████| 1250/1250 [00:01<00:00, 675.79it/s]\n",
      "  0%|          | 1/293 [00:00<00:34,  8.47it/s]"
     ]
    },
    {
     "name": "stdout",
     "output_type": "stream",
     "text": [
      "accuray: 0.2664\n"
     ]
    },
    {
     "name": "stderr",
     "output_type": "stream",
     "text": [
      "100%|██████████| 293/293 [00:31<00:00,  9.32it/s] \n",
      "  4%|▍         | 51/1250 [00:00<00:02, 509.54it/s]"
     ]
    },
    {
     "name": "stdout",
     "output_type": "stream",
     "text": [
      "epoch_loss/batch_ct=0.060059200676660686\n",
      "tensor(0.1173, device='cuda:0', grad_fn=<SmoothL1LossBackward0>)\n"
     ]
    },
    {
     "name": "stderr",
     "output_type": "stream",
     "text": [
      "100%|██████████| 1250/1250 [00:02<00:00, 584.67it/s]\n",
      "  0%|          | 1/293 [00:00<00:36,  7.93it/s]"
     ]
    },
    {
     "name": "stdout",
     "output_type": "stream",
     "text": [
      "accuray: 0.2659\n"
     ]
    },
    {
     "name": "stderr",
     "output_type": "stream",
     "text": [
      "100%|██████████| 293/293 [00:32<00:00,  8.94it/s] \n",
      "  4%|▍         | 49/1250 [00:00<00:02, 484.71it/s]"
     ]
    },
    {
     "name": "stdout",
     "output_type": "stream",
     "text": [
      "epoch_loss/batch_ct=0.06011300572445468\n",
      "tensor(0.1186, device='cuda:0', grad_fn=<SmoothL1LossBackward0>)\n"
     ]
    },
    {
     "name": "stderr",
     "output_type": "stream",
     "text": [
      "100%|██████████| 1250/1250 [00:02<00:00, 585.77it/s]\n",
      "  0%|          | 1/293 [00:00<00:35,  8.12it/s]"
     ]
    },
    {
     "name": "stdout",
     "output_type": "stream",
     "text": [
      "accuray: 0.2663\n"
     ]
    },
    {
     "name": "stderr",
     "output_type": "stream",
     "text": [
      "100%|██████████| 293/293 [00:31<00:00,  9.31it/s] \n",
      "  7%|▋         | 87/1250 [00:00<00:02, 429.42it/s]"
     ]
    },
    {
     "name": "stdout",
     "output_type": "stream",
     "text": [
      "epoch_loss/batch_ct=0.05999086149746463\n",
      "tensor(0.1175, device='cuda:0', grad_fn=<SmoothL1LossBackward0>)\n"
     ]
    },
    {
     "name": "stderr",
     "output_type": "stream",
     "text": [
      "100%|██████████| 1250/1250 [00:02<00:00, 576.58it/s]\n",
      "  0%|          | 1/293 [00:00<00:36,  7.99it/s]"
     ]
    },
    {
     "name": "stdout",
     "output_type": "stream",
     "text": [
      "accuray: 0.2671\n"
     ]
    },
    {
     "name": "stderr",
     "output_type": "stream",
     "text": [
      "100%|██████████| 293/293 [00:32<00:00,  8.97it/s] \n",
      "  7%|▋         | 84/1250 [00:00<00:02, 416.48it/s]"
     ]
    },
    {
     "name": "stdout",
     "output_type": "stream",
     "text": [
      "epoch_loss/batch_ct=0.06002904715696498\n",
      "tensor(0.1173, device='cuda:0', grad_fn=<SmoothL1LossBackward0>)\n"
     ]
    },
    {
     "name": "stderr",
     "output_type": "stream",
     "text": [
      "100%|██████████| 1250/1250 [00:02<00:00, 574.98it/s]\n",
      "  0%|          | 1/293 [00:00<00:34,  8.40it/s]"
     ]
    },
    {
     "name": "stdout",
     "output_type": "stream",
     "text": [
      "accuray: 0.2648\n"
     ]
    },
    {
     "name": "stderr",
     "output_type": "stream",
     "text": [
      "100%|██████████| 293/293 [00:31<00:00,  9.43it/s] \n",
      " 11%|█         | 134/1250 [00:00<00:01, 668.98it/s]"
     ]
    },
    {
     "name": "stdout",
     "output_type": "stream",
     "text": [
      "epoch_loss/batch_ct=0.059973337598854586\n",
      "tensor(0.1187, device='cuda:0', grad_fn=<SmoothL1LossBackward0>)\n"
     ]
    },
    {
     "name": "stderr",
     "output_type": "stream",
     "text": [
      "100%|██████████| 1250/1250 [00:01<00:00, 636.85it/s]\n",
      "  0%|          | 1/293 [00:00<00:35,  8.12it/s]"
     ]
    },
    {
     "name": "stdout",
     "output_type": "stream",
     "text": [
      "accuray: 0.2673\n"
     ]
    },
    {
     "name": "stderr",
     "output_type": "stream",
     "text": [
      "100%|██████████| 293/293 [00:31<00:00,  9.25it/s] \n",
      "  3%|▎         | 40/1250 [00:00<00:03, 399.64it/s]"
     ]
    },
    {
     "name": "stdout",
     "output_type": "stream",
     "text": [
      "epoch_loss/batch_ct=0.05994046480941867\n",
      "tensor(0.1196, device='cuda:0', grad_fn=<SmoothL1LossBackward0>)\n"
     ]
    },
    {
     "name": "stderr",
     "output_type": "stream",
     "text": [
      "100%|██████████| 1250/1250 [00:02<00:00, 564.59it/s]\n",
      "  0%|          | 1/293 [00:00<00:35,  8.26it/s]"
     ]
    },
    {
     "name": "stdout",
     "output_type": "stream",
     "text": [
      "accuray: 0.2659\n"
     ]
    },
    {
     "name": "stderr",
     "output_type": "stream",
     "text": [
      "100%|██████████| 293/293 [00:33<00:00,  8.79it/s] \n",
      "  7%|▋         | 91/1250 [00:00<00:02, 453.50it/s]"
     ]
    },
    {
     "name": "stdout",
     "output_type": "stream",
     "text": [
      "epoch_loss/batch_ct=0.05993953413729157\n",
      "tensor(0.1193, device='cuda:0', grad_fn=<SmoothL1LossBackward0>)\n"
     ]
    },
    {
     "name": "stderr",
     "output_type": "stream",
     "text": [
      "100%|██████████| 1250/1250 [00:02<00:00, 572.87it/s]\n",
      "  0%|          | 1/293 [00:00<00:35,  8.33it/s]"
     ]
    },
    {
     "name": "stdout",
     "output_type": "stream",
     "text": [
      "accuray: 0.2627\n"
     ]
    },
    {
     "name": "stderr",
     "output_type": "stream",
     "text": [
      "100%|██████████| 293/293 [00:31<00:00,  9.38it/s] \n",
      "  4%|▎         | 46/1250 [00:00<00:02, 455.03it/s]"
     ]
    },
    {
     "name": "stdout",
     "output_type": "stream",
     "text": [
      "epoch_loss/batch_ct=0.0600181505054472\n",
      "tensor(0.1193, device='cuda:0', grad_fn=<SmoothL1LossBackward0>)\n"
     ]
    },
    {
     "name": "stderr",
     "output_type": "stream",
     "text": [
      "100%|██████████| 1250/1250 [00:02<00:00, 579.79it/s]\n",
      "  0%|          | 1/293 [00:00<00:41,  7.09it/s]"
     ]
    },
    {
     "name": "stdout",
     "output_type": "stream",
     "text": [
      "accuray: 0.2673\n"
     ]
    },
    {
     "name": "stderr",
     "output_type": "stream",
     "text": [
      "100%|██████████| 293/293 [00:33<00:00,  8.84it/s] \n",
      "  8%|▊         | 104/1250 [00:00<00:02, 502.67it/s]"
     ]
    },
    {
     "name": "stdout",
     "output_type": "stream",
     "text": [
      "epoch_loss/batch_ct=0.06012228592520669\n",
      "tensor(0.1186, device='cuda:0', grad_fn=<SmoothL1LossBackward0>)\n"
     ]
    },
    {
     "name": "stderr",
     "output_type": "stream",
     "text": [
      "100%|██████████| 1250/1250 [00:02<00:00, 587.98it/s]\n",
      "  0%|          | 1/293 [00:00<00:35,  8.19it/s]"
     ]
    },
    {
     "name": "stdout",
     "output_type": "stream",
     "text": [
      "accuray: 0.2674\n"
     ]
    },
    {
     "name": "stderr",
     "output_type": "stream",
     "text": [
      "100%|██████████| 293/293 [00:31<00:00,  9.35it/s] \n",
      " 11%|█         | 138/1250 [00:00<00:01, 686.55it/s]"
     ]
    },
    {
     "name": "stdout",
     "output_type": "stream",
     "text": [
      "epoch_loss/batch_ct=0.059943777715994254\n",
      "tensor(0.1186, device='cuda:0', grad_fn=<SmoothL1LossBackward0>)\n"
     ]
    },
    {
     "name": "stderr",
     "output_type": "stream",
     "text": [
      "100%|██████████| 1250/1250 [00:01<00:00, 653.86it/s]\n",
      "  0%|          | 1/293 [00:00<00:35,  8.19it/s]"
     ]
    },
    {
     "name": "stdout",
     "output_type": "stream",
     "text": [
      "accuray: 0.2656\n"
     ]
    },
    {
     "name": "stderr",
     "output_type": "stream",
     "text": [
      "100%|██████████| 293/293 [00:31<00:00,  9.24it/s] \n",
      "  4%|▎         | 44/1250 [00:00<00:02, 426.79it/s]"
     ]
    },
    {
     "name": "stdout",
     "output_type": "stream",
     "text": [
      "epoch_loss/batch_ct=0.0599762558611849\n",
      "tensor(0.1177, device='cuda:0', grad_fn=<SmoothL1LossBackward0>)\n"
     ]
    },
    {
     "name": "stderr",
     "output_type": "stream",
     "text": [
      "100%|██████████| 1250/1250 [00:02<00:00, 579.52it/s]\n",
      "  0%|          | 1/293 [00:00<00:40,  7.29it/s]"
     ]
    },
    {
     "name": "stdout",
     "output_type": "stream",
     "text": [
      "accuray: 0.2675\n"
     ]
    },
    {
     "name": "stderr",
     "output_type": "stream",
     "text": [
      "100%|██████████| 293/293 [00:31<00:00,  9.39it/s] \n",
      "  7%|▋         | 86/1250 [00:00<00:02, 425.35it/s]"
     ]
    },
    {
     "name": "stdout",
     "output_type": "stream",
     "text": [
      "epoch_loss/batch_ct=0.06010825819675884\n",
      "tensor(0.1190, device='cuda:0', grad_fn=<SmoothL1LossBackward0>)\n"
     ]
    },
    {
     "name": "stderr",
     "output_type": "stream",
     "text": [
      "100%|██████████| 1250/1250 [00:02<00:00, 568.70it/s]\n",
      "  0%|          | 1/293 [00:00<00:56,  5.18it/s]"
     ]
    },
    {
     "name": "stdout",
     "output_type": "stream",
     "text": [
      "accuray: 0.2669\n"
     ]
    },
    {
     "name": "stderr",
     "output_type": "stream",
     "text": [
      "100%|██████████| 293/293 [00:31<00:00,  9.35it/s] \n",
      "  7%|▋         | 86/1250 [00:00<00:02, 429.61it/s]"
     ]
    },
    {
     "name": "stdout",
     "output_type": "stream",
     "text": [
      "epoch_loss/batch_ct=0.06004468594042082\n",
      "tensor(0.1189, device='cuda:0', grad_fn=<SmoothL1LossBackward0>)\n"
     ]
    },
    {
     "name": "stderr",
     "output_type": "stream",
     "text": [
      "100%|██████████| 1250/1250 [00:02<00:00, 576.04it/s]\n",
      "  0%|          | 1/293 [00:00<00:35,  8.19it/s]"
     ]
    },
    {
     "name": "stdout",
     "output_type": "stream",
     "text": [
      "accuray: 0.2683\n"
     ]
    },
    {
     "name": "stderr",
     "output_type": "stream",
     "text": [
      "100%|██████████| 293/293 [00:33<00:00,  8.86it/s] \n",
      "  4%|▎         | 45/1250 [00:00<00:02, 449.59it/s]"
     ]
    },
    {
     "name": "stdout",
     "output_type": "stream",
     "text": [
      "epoch_loss/batch_ct=0.05995228206591001\n",
      "tensor(0.1201, device='cuda:0', grad_fn=<SmoothL1LossBackward0>)\n"
     ]
    },
    {
     "name": "stderr",
     "output_type": "stream",
     "text": [
      "100%|██████████| 1250/1250 [00:02<00:00, 581.95it/s]\n",
      "  0%|          | 1/293 [00:00<00:36,  7.93it/s]"
     ]
    },
    {
     "name": "stdout",
     "output_type": "stream",
     "text": [
      "accuray: 0.268\n"
     ]
    },
    {
     "name": "stderr",
     "output_type": "stream",
     "text": [
      "100%|██████████| 293/293 [00:31<00:00,  9.43it/s] \n",
      "  7%|▋         | 92/1250 [00:00<00:02, 455.83it/s]"
     ]
    },
    {
     "name": "stdout",
     "output_type": "stream",
     "text": [
      "epoch_loss/batch_ct=0.059846961515999976\n",
      "tensor(0.1168, device='cuda:0', grad_fn=<SmoothL1LossBackward0>)\n"
     ]
    },
    {
     "name": "stderr",
     "output_type": "stream",
     "text": [
      "100%|██████████| 1250/1250 [00:02<00:00, 576.04it/s]\n",
      "  0%|          | 1/293 [00:00<00:35,  8.19it/s]"
     ]
    },
    {
     "name": "stdout",
     "output_type": "stream",
     "text": [
      "accuray: 0.2697\n"
     ]
    },
    {
     "name": "stderr",
     "output_type": "stream",
     "text": [
      "100%|██████████| 293/293 [00:31<00:00,  9.38it/s] \n",
      "  7%|▋         | 93/1250 [00:00<00:02, 463.39it/s]"
     ]
    },
    {
     "name": "stdout",
     "output_type": "stream",
     "text": [
      "epoch_loss/batch_ct=0.059942109052032705\n",
      "tensor(0.1194, device='cuda:0', grad_fn=<SmoothL1LossBackward0>)\n"
     ]
    },
    {
     "name": "stderr",
     "output_type": "stream",
     "text": [
      "100%|██████████| 1250/1250 [00:02<00:00, 581.68it/s]\n",
      "  0%|          | 1/293 [00:00<00:37,  7.81it/s]"
     ]
    },
    {
     "name": "stdout",
     "output_type": "stream",
     "text": [
      "accuray: 0.2675\n"
     ]
    },
    {
     "name": "stderr",
     "output_type": "stream",
     "text": [
      "100%|██████████| 293/293 [00:31<00:00,  9.42it/s] \n",
      "  9%|▉         | 114/1250 [00:00<00:02, 560.58it/s]"
     ]
    },
    {
     "name": "stdout",
     "output_type": "stream",
     "text": [
      "epoch_loss/batch_ct=0.05993395931427441\n",
      "tensor(0.1202, device='cuda:0', grad_fn=<SmoothL1LossBackward0>)\n"
     ]
    },
    {
     "name": "stderr",
     "output_type": "stream",
     "text": [
      "100%|██████████| 1250/1250 [00:02<00:00, 598.11it/s]\n",
      "  0%|          | 1/293 [00:00<00:36,  7.99it/s]"
     ]
    },
    {
     "name": "stdout",
     "output_type": "stream",
     "text": [
      "accuray: 0.2645\n"
     ]
    },
    {
     "name": "stderr",
     "output_type": "stream",
     "text": [
      "100%|██████████| 293/293 [00:30<00:00,  9.55it/s] \n",
      "  7%|▋         | 91/1250 [00:00<00:02, 466.05it/s]"
     ]
    },
    {
     "name": "stdout",
     "output_type": "stream",
     "text": [
      "epoch_loss/batch_ct=0.0599001335157525\n",
      "tensor(0.1198, device='cuda:0', grad_fn=<SmoothL1LossBackward0>)\n"
     ]
    },
    {
     "name": "stderr",
     "output_type": "stream",
     "text": [
      "100%|██████████| 1250/1250 [00:02<00:00, 583.85it/s]\n",
      "  0%|          | 1/293 [00:00<00:49,  5.95it/s]"
     ]
    },
    {
     "name": "stdout",
     "output_type": "stream",
     "text": [
      "accuray: 0.2692\n"
     ]
    },
    {
     "name": "stderr",
     "output_type": "stream",
     "text": [
      "100%|██████████| 293/293 [00:32<00:00,  8.99it/s] \n",
      "  4%|▍         | 52/1250 [00:00<00:02, 519.53it/s]"
     ]
    },
    {
     "name": "stdout",
     "output_type": "stream",
     "text": [
      "epoch_loss/batch_ct=0.05998073812455885\n",
      "tensor(0.1193, device='cuda:0', grad_fn=<SmoothL1LossBackward0>)\n"
     ]
    },
    {
     "name": "stderr",
     "output_type": "stream",
     "text": [
      "100%|██████████| 1250/1250 [00:02<00:00, 585.50it/s]\n",
      "  0%|          | 1/293 [00:00<00:36,  8.06it/s]"
     ]
    },
    {
     "name": "stdout",
     "output_type": "stream",
     "text": [
      "accuray: 0.2656\n"
     ]
    },
    {
     "name": "stderr",
     "output_type": "stream",
     "text": [
      "100%|██████████| 293/293 [00:31<00:00,  9.26it/s] \n",
      "  8%|▊         | 99/1250 [00:00<00:02, 495.16it/s]"
     ]
    },
    {
     "name": "stdout",
     "output_type": "stream",
     "text": [
      "epoch_loss/batch_ct=0.05996286453649638\n",
      "tensor(0.1185, device='cuda:0', grad_fn=<SmoothL1LossBackward0>)\n"
     ]
    },
    {
     "name": "stderr",
     "output_type": "stream",
     "text": [
      "100%|██████████| 1250/1250 [00:02<00:00, 583.31it/s]\n",
      "  0%|          | 1/293 [00:00<00:38,  7.57it/s]"
     ]
    },
    {
     "name": "stdout",
     "output_type": "stream",
     "text": [
      "accuray: 0.2673\n"
     ]
    },
    {
     "name": "stderr",
     "output_type": "stream",
     "text": [
      "100%|██████████| 293/293 [00:32<00:00,  8.91it/s] \n",
      "  3%|▎         | 38/1250 [00:00<00:03, 379.66it/s]"
     ]
    },
    {
     "name": "stdout",
     "output_type": "stream",
     "text": [
      "epoch_loss/batch_ct=0.06002365162093488\n",
      "tensor(0.1211, device='cuda:0', grad_fn=<SmoothL1LossBackward0>)\n"
     ]
    },
    {
     "name": "stderr",
     "output_type": "stream",
     "text": [
      "100%|██████████| 1250/1250 [00:02<00:00, 571.30it/s]\n",
      "  0%|          | 1/293 [00:00<00:39,  7.46it/s]"
     ]
    },
    {
     "name": "stdout",
     "output_type": "stream",
     "text": [
      "accuray: 0.2701\n"
     ]
    },
    {
     "name": "stderr",
     "output_type": "stream",
     "text": [
      "100%|██████████| 293/293 [00:31<00:00,  9.34it/s] \n",
      "  9%|▉         | 114/1250 [00:00<00:01, 569.66it/s]"
     ]
    },
    {
     "name": "stdout",
     "output_type": "stream",
     "text": [
      "epoch_loss/batch_ct=0.059960172097716063\n",
      "tensor(0.1175, device='cuda:0', grad_fn=<SmoothL1LossBackward0>)\n"
     ]
    },
    {
     "name": "stderr",
     "output_type": "stream",
     "text": [
      "100%|██████████| 1250/1250 [00:02<00:00, 597.54it/s]\n",
      "\u001b[34m\u001b[1mwandb\u001b[0m: \u001b[33mWARNING\u001b[0m A graphql request initiated by the public wandb API timed out (timeout=9 sec). Create a new API with an integer timeout larger than 9, e.g., `api = wandb.Api(timeout=19)` to increase the graphql timeout.\n",
      "\u001b[34m\u001b[1mwandb\u001b[0m: \u001b[33mWARNING\u001b[0m A graphql request initiated by the public wandb API timed out (timeout=9 sec). Create a new API with an integer timeout larger than 9, e.g., `api = wandb.Api(timeout=19)` to increase the graphql timeout.\n",
      "  0%|          | 1/293 [00:00<00:37,  7.69it/s]"
     ]
    },
    {
     "name": "stdout",
     "output_type": "stream",
     "text": [
      "accuray: 0.266\n"
     ]
    },
    {
     "name": "stderr",
     "output_type": "stream",
     "text": [
      "100%|██████████| 293/293 [00:31<00:00,  9.26it/s] \n",
      "  3%|▎         | 40/1250 [00:00<00:03, 399.64it/s]"
     ]
    },
    {
     "name": "stdout",
     "output_type": "stream",
     "text": [
      "epoch_loss/batch_ct=0.06001961764894308\n",
      "tensor(0.1192, device='cuda:0', grad_fn=<SmoothL1LossBackward0>)\n"
     ]
    },
    {
     "name": "stderr",
     "output_type": "stream",
     "text": [
      "100%|██████████| 1250/1250 [00:02<00:00, 575.25it/s]\n",
      "  0%|          | 1/293 [00:00<00:37,  7.69it/s]"
     ]
    },
    {
     "name": "stdout",
     "output_type": "stream",
     "text": [
      "accuray: 0.2619\n"
     ]
    },
    {
     "name": "stderr",
     "output_type": "stream",
     "text": [
      "100%|██████████| 293/293 [00:31<00:00,  9.43it/s] \n",
      "  7%|▋         | 90/1250 [00:00<00:02, 434.26it/s]"
     ]
    },
    {
     "name": "stdout",
     "output_type": "stream",
     "text": [
      "epoch_loss/batch_ct=0.060005117370377455\n",
      "tensor(0.1192, device='cuda:0', grad_fn=<SmoothL1LossBackward0>)\n"
     ]
    },
    {
     "name": "stderr",
     "output_type": "stream",
     "text": [
      "100%|██████████| 1250/1250 [00:02<00:00, 580.33it/s]\n",
      "\u001b[34m\u001b[1mwandb\u001b[0m: \u001b[33mWARNING\u001b[0m A graphql request initiated by the public wandb API timed out (timeout=9 sec). Create a new API with an integer timeout larger than 9, e.g., `api = wandb.Api(timeout=19)` to increase the graphql timeout.\n",
      "\u001b[34m\u001b[1mwandb\u001b[0m: \u001b[33mWARNING\u001b[0m A graphql request initiated by the public wandb API timed out (timeout=9 sec). Create a new API with an integer timeout larger than 9, e.g., `api = wandb.Api(timeout=19)` to increase the graphql timeout.\n",
      "\u001b[34m\u001b[1mwandb\u001b[0m: \u001b[33mWARNING\u001b[0m A graphql request initiated by the public wandb API timed out (timeout=9 sec). Create a new API with an integer timeout larger than 9, e.g., `api = wandb.Api(timeout=19)` to increase the graphql timeout.\n",
      "  0%|          | 1/293 [00:00<00:38,  7.57it/s]"
     ]
    },
    {
     "name": "stdout",
     "output_type": "stream",
     "text": [
      "accuray: 0.2642\n"
     ]
    },
    {
     "name": "stderr",
     "output_type": "stream",
     "text": [
      "100%|██████████| 293/293 [00:31<00:00,  9.38it/s] \n",
      "  3%|▎         | 43/1250 [00:00<00:02, 429.61it/s]"
     ]
    },
    {
     "name": "stdout",
     "output_type": "stream",
     "text": [
      "epoch_loss/batch_ct=0.06001833718388327\n",
      "tensor(0.1189, device='cuda:0', grad_fn=<SmoothL1LossBackward0>)\n"
     ]
    },
    {
     "name": "stderr",
     "output_type": "stream",
     "text": [
      "100%|██████████| 1250/1250 [00:02<00:00, 577.64it/s]\n",
      "  0%|          | 1/293 [00:00<00:37,  7.74it/s]"
     ]
    },
    {
     "name": "stdout",
     "output_type": "stream",
     "text": [
      "accuray: 0.2647\n"
     ]
    },
    {
     "name": "stderr",
     "output_type": "stream",
     "text": [
      "100%|██████████| 293/293 [00:32<00:00,  8.90it/s] \n",
      "  4%|▍         | 47/1250 [00:00<00:02, 469.57it/s]"
     ]
    },
    {
     "name": "stdout",
     "output_type": "stream",
     "text": [
      "epoch_loss/batch_ct=0.06009732349406159\n",
      "tensor(0.1184, device='cuda:0', grad_fn=<SmoothL1LossBackward0>)\n"
     ]
    },
    {
     "name": "stderr",
     "output_type": "stream",
     "text": [
      "100%|██████████| 1250/1250 [00:02<00:00, 584.40it/s]\n",
      "\u001b[34m\u001b[1mwandb\u001b[0m: \u001b[33mWARNING\u001b[0m A graphql request initiated by the public wandb API timed out (timeout=9 sec). Create a new API with an integer timeout larger than 9, e.g., `api = wandb.Api(timeout=19)` to increase the graphql timeout.\n",
      "\u001b[34m\u001b[1mwandb\u001b[0m: \u001b[33mWARNING\u001b[0m A graphql request initiated by the public wandb API timed out (timeout=9 sec). Create a new API with an integer timeout larger than 9, e.g., `api = wandb.Api(timeout=19)` to increase the graphql timeout.\n",
      "\u001b[34m\u001b[1mwandb\u001b[0m: \u001b[33mWARNING\u001b[0m A graphql request initiated by the public wandb API timed out (timeout=9 sec). Create a new API with an integer timeout larger than 9, e.g., `api = wandb.Api(timeout=19)` to increase the graphql timeout.\n",
      "  0%|          | 1/293 [00:00<00:37,  7.87it/s]"
     ]
    },
    {
     "name": "stdout",
     "output_type": "stream",
     "text": [
      "accuray: 0.2669\n"
     ]
    },
    {
     "name": "stderr",
     "output_type": "stream",
     "text": [
      "100%|██████████| 293/293 [00:30<00:00,  9.51it/s] \n",
      "  5%|▍         | 58/1250 [00:00<00:02, 573.74it/s]"
     ]
    },
    {
     "name": "stdout",
     "output_type": "stream",
     "text": [
      "epoch_loss/batch_ct=0.06016945664490026\n",
      "tensor(0.1204, device='cuda:0', grad_fn=<SmoothL1LossBackward0>)\n"
     ]
    },
    {
     "name": "stderr",
     "output_type": "stream",
     "text": [
      "100%|██████████| 1250/1250 [00:02<00:00, 596.69it/s]\n",
      "  0%|          | 1/293 [00:00<00:35,  8.12it/s]"
     ]
    },
    {
     "name": "stdout",
     "output_type": "stream",
     "text": [
      "accuray: 0.2657\n"
     ]
    },
    {
     "name": "stderr",
     "output_type": "stream",
     "text": [
      "100%|██████████| 293/293 [00:32<00:00,  8.90it/s] \n",
      "  3%|▎         | 41/1250 [00:00<00:03, 401.59it/s]"
     ]
    },
    {
     "name": "stdout",
     "output_type": "stream",
     "text": [
      "epoch_loss/batch_ct=0.06013890428261624\n",
      "tensor(0.1171, device='cuda:0', grad_fn=<SmoothL1LossBackward0>)\n"
     ]
    },
    {
     "name": "stderr",
     "output_type": "stream",
     "text": [
      "100%|██████████| 1250/1250 [00:02<00:00, 564.59it/s]\n",
      "  0%|          | 1/293 [00:00<00:35,  8.33it/s]"
     ]
    },
    {
     "name": "stdout",
     "output_type": "stream",
     "text": [
      "accuray: 0.2624\n"
     ]
    },
    {
     "name": "stderr",
     "output_type": "stream",
     "text": [
      "100%|██████████| 293/293 [00:31<00:00,  9.22it/s] \n",
      "  4%|▍         | 50/1250 [00:00<00:02, 499.54it/s]"
     ]
    },
    {
     "name": "stdout",
     "output_type": "stream",
     "text": [
      "epoch_loss/batch_ct=0.060014495093907626\n",
      "tensor(0.1187, device='cuda:0', grad_fn=<SmoothL1LossBackward0>)\n"
     ]
    },
    {
     "name": "stderr",
     "output_type": "stream",
     "text": [
      "100%|██████████| 1250/1250 [00:02<00:00, 590.48it/s]\n",
      "  0%|          | 1/293 [00:00<00:35,  8.33it/s]"
     ]
    },
    {
     "name": "stdout",
     "output_type": "stream",
     "text": [
      "accuray: 0.2655\n"
     ]
    },
    {
     "name": "stderr",
     "output_type": "stream",
     "text": [
      "100%|██████████| 293/293 [00:30<00:00,  9.47it/s] \n",
      " 11%|█         | 138/1250 [00:00<00:01, 677.42it/s]"
     ]
    },
    {
     "name": "stdout",
     "output_type": "stream",
     "text": [
      "epoch_loss/batch_ct=0.05994603346796736\n",
      "tensor(0.1169, device='cuda:0', grad_fn=<SmoothL1LossBackward0>)\n"
     ]
    },
    {
     "name": "stderr",
     "output_type": "stream",
     "text": [
      "100%|██████████| 1250/1250 [00:01<00:00, 646.74it/s]\n",
      "  0%|          | 1/293 [00:00<00:35,  8.33it/s]"
     ]
    },
    {
     "name": "stdout",
     "output_type": "stream",
     "text": [
      "accuray: 0.2646\n"
     ]
    },
    {
     "name": "stderr",
     "output_type": "stream",
     "text": [
      "100%|██████████| 293/293 [00:33<00:00,  8.84it/s]\n",
      " 10%|▉         | 124/1250 [00:00<00:01, 612.24it/s]"
     ]
    },
    {
     "name": "stdout",
     "output_type": "stream",
     "text": [
      "epoch_loss/batch_ct=0.06006804937940268\n",
      "tensor(0.1182, device='cuda:0', grad_fn=<SmoothL1LossBackward0>)\n"
     ]
    },
    {
     "name": "stderr",
     "output_type": "stream",
     "text": [
      "100%|██████████| 1250/1250 [00:01<00:00, 626.31it/s]\n",
      "  0%|          | 1/293 [00:00<00:35,  8.26it/s]"
     ]
    },
    {
     "name": "stdout",
     "output_type": "stream",
     "text": [
      "accuray: 0.2661\n"
     ]
    },
    {
     "name": "stderr",
     "output_type": "stream",
     "text": [
      "100%|██████████| 293/293 [00:31<00:00,  9.41it/s] \n",
      "  4%|▍         | 48/1250 [00:00<00:02, 474.81it/s]"
     ]
    },
    {
     "name": "stdout",
     "output_type": "stream",
     "text": [
      "epoch_loss/batch_ct=0.05995744036599284\n",
      "tensor(0.1182, device='cuda:0', grad_fn=<SmoothL1LossBackward0>)\n"
     ]
    },
    {
     "name": "stderr",
     "output_type": "stream",
     "text": [
      "100%|██████████| 1250/1250 [00:02<00:00, 577.64it/s]\n",
      "\u001b[34m\u001b[1mwandb\u001b[0m: \u001b[33mWARNING\u001b[0m A graphql request initiated by the public wandb API timed out (timeout=9 sec). Create a new API with an integer timeout larger than 9, e.g., `api = wandb.Api(timeout=19)` to increase the graphql timeout.\n",
      "  0%|          | 1/293 [00:00<00:38,  7.57it/s]"
     ]
    },
    {
     "name": "stdout",
     "output_type": "stream",
     "text": [
      "accuray: 0.2618\n"
     ]
    },
    {
     "name": "stderr",
     "output_type": "stream",
     "text": [
      "100%|██████████| 293/293 [00:32<00:00,  8.88it/s] \n",
      " 10%|▉         | 124/1250 [00:00<00:01, 615.82it/s]"
     ]
    },
    {
     "name": "stdout",
     "output_type": "stream",
     "text": [
      "epoch_loss/batch_ct=0.05993741462450652\n",
      "tensor(0.1179, device='cuda:0', grad_fn=<SmoothL1LossBackward0>)\n"
     ]
    },
    {
     "name": "stderr",
     "output_type": "stream",
     "text": [
      "100%|██████████| 1250/1250 [00:02<00:00, 598.40it/s]\n",
      "  0%|          | 1/293 [00:00<00:38,  7.63it/s]"
     ]
    },
    {
     "name": "stdout",
     "output_type": "stream",
     "text": [
      "accuray: 0.2626\n"
     ]
    },
    {
     "name": "stderr",
     "output_type": "stream",
     "text": [
      "100%|██████████| 293/293 [00:31<00:00,  9.40it/s] \n",
      "  6%|▌         | 69/1250 [00:00<00:01, 689.37it/s]"
     ]
    },
    {
     "name": "stdout",
     "output_type": "stream",
     "text": [
      "epoch_loss/batch_ct=0.06000204573548029\n",
      "tensor(0.1165, device='cuda:0', grad_fn=<SmoothL1LossBackward0>)\n"
     ]
    },
    {
     "name": "stderr",
     "output_type": "stream",
     "text": [
      "100%|██████████| 1250/1250 [00:01<00:00, 648.42it/s]\n",
      "  0%|          | 1/293 [00:00<00:35,  8.26it/s]"
     ]
    },
    {
     "name": "stdout",
     "output_type": "stream",
     "text": [
      "accuray: 0.2645\n"
     ]
    },
    {
     "name": "stderr",
     "output_type": "stream",
     "text": [
      "100%|██████████| 293/293 [00:31<00:00,  9.37it/s] \n",
      " 11%|█         | 137/1250 [00:00<00:01, 681.25it/s]"
     ]
    },
    {
     "name": "stdout",
     "output_type": "stream",
     "text": [
      "epoch_loss/batch_ct=0.059983390826909316\n",
      "tensor(0.1170, device='cuda:0', grad_fn=<SmoothL1LossBackward0>)\n"
     ]
    },
    {
     "name": "stderr",
     "output_type": "stream",
     "text": [
      "100%|██████████| 1250/1250 [00:01<00:00, 669.99it/s]\n",
      "  0%|          | 1/293 [00:00<00:34,  8.47it/s]"
     ]
    },
    {
     "name": "stdout",
     "output_type": "stream",
     "text": [
      "accuray: 0.2602\n"
     ]
    },
    {
     "name": "stderr",
     "output_type": "stream",
     "text": [
      "100%|██████████| 293/293 [00:32<00:00,  8.91it/s]\n",
      "  3%|▎         | 36/1250 [00:00<00:03, 352.62it/s]"
     ]
    },
    {
     "name": "stdout",
     "output_type": "stream",
     "text": [
      "epoch_loss/batch_ct=0.059952907175535246\n",
      "tensor(0.1195, device='cuda:0', grad_fn=<SmoothL1LossBackward0>)\n"
     ]
    },
    {
     "name": "stderr",
     "output_type": "stream",
     "text": [
      "100%|██████████| 1250/1250 [00:02<00:00, 571.56it/s]\n",
      "  0%|          | 1/293 [00:00<00:40,  7.24it/s]"
     ]
    },
    {
     "name": "stdout",
     "output_type": "stream",
     "text": [
      "accuray: 0.2649\n"
     ]
    },
    {
     "name": "stderr",
     "output_type": "stream",
     "text": [
      "100%|██████████| 293/293 [00:31<00:00,  9.30it/s] \n",
      "  7%|▋         | 88/1250 [00:00<00:02, 433.48it/s]"
     ]
    },
    {
     "name": "stdout",
     "output_type": "stream",
     "text": [
      "epoch_loss/batch_ct=0.05988840053656271\n",
      "tensor(0.1170, device='cuda:0', grad_fn=<SmoothL1LossBackward0>)\n"
     ]
    },
    {
     "name": "stderr",
     "output_type": "stream",
     "text": [
      "100%|██████████| 1250/1250 [00:02<00:00, 567.92it/s]\n",
      "  0%|          | 1/293 [00:00<00:36,  7.99it/s]"
     ]
    },
    {
     "name": "stdout",
     "output_type": "stream",
     "text": [
      "accuray: 0.2596\n"
     ]
    },
    {
     "name": "stderr",
     "output_type": "stream",
     "text": [
      "100%|██████████| 293/293 [00:33<00:00,  8.83it/s] \n",
      "  3%|▎         | 39/1250 [00:00<00:03, 385.79it/s]"
     ]
    },
    {
     "name": "stdout",
     "output_type": "stream",
     "text": [
      "epoch_loss/batch_ct=0.06000000321202808\n",
      "tensor(0.1187, device='cuda:0', grad_fn=<SmoothL1LossBackward0>)\n"
     ]
    },
    {
     "name": "stderr",
     "output_type": "stream",
     "text": [
      "100%|██████████| 1250/1250 [00:02<00:00, 573.66it/s]\n",
      "  0%|          | 1/293 [00:00<00:36,  8.06it/s]"
     ]
    },
    {
     "name": "stdout",
     "output_type": "stream",
     "text": [
      "accuray: 0.2608\n"
     ]
    },
    {
     "name": "stderr",
     "output_type": "stream",
     "text": [
      "100%|██████████| 293/293 [00:31<00:00,  9.31it/s] \n",
      "  8%|▊         | 96/1250 [00:00<00:02, 472.07it/s]"
     ]
    },
    {
     "name": "stdout",
     "output_type": "stream",
     "text": [
      "epoch_loss/batch_ct=0.060014028885653097\n",
      "tensor(0.1204, device='cuda:0', grad_fn=<SmoothL1LossBackward0>)\n"
     ]
    },
    {
     "name": "stderr",
     "output_type": "stream",
     "text": [
      "100%|██████████| 1250/1250 [00:02<00:00, 582.76it/s]\n",
      "  0%|          | 1/293 [00:00<00:40,  7.29it/s]"
     ]
    },
    {
     "name": "stdout",
     "output_type": "stream",
     "text": [
      "accuray: 0.2656\n"
     ]
    },
    {
     "name": "stderr",
     "output_type": "stream",
     "text": [
      "100%|██████████| 293/293 [00:33<00:00,  8.87it/s] \n",
      "  8%|▊         | 95/1250 [00:00<00:02, 478.98it/s]"
     ]
    },
    {
     "name": "stdout",
     "output_type": "stream",
     "text": [
      "epoch_loss/batch_ct=0.0600160246655818\n",
      "tensor(0.1197, device='cuda:0', grad_fn=<SmoothL1LossBackward0>)\n"
     ]
    },
    {
     "name": "stderr",
     "output_type": "stream",
     "text": [
      "100%|██████████| 1250/1250 [00:02<00:00, 575.51it/s]\n",
      "  0%|          | 1/293 [00:00<00:37,  7.69it/s]"
     ]
    },
    {
     "name": "stdout",
     "output_type": "stream",
     "text": [
      "accuray: 0.2609\n"
     ]
    },
    {
     "name": "stderr",
     "output_type": "stream",
     "text": [
      "100%|██████████| 293/293 [00:31<00:00,  9.27it/s] \n",
      "  4%|▎         | 45/1250 [00:00<00:02, 449.59it/s]"
     ]
    },
    {
     "name": "stdout",
     "output_type": "stream",
     "text": [
      "epoch_loss/batch_ct=0.060151995455343575\n",
      "tensor(0.1187, device='cuda:0', grad_fn=<SmoothL1LossBackward0>)\n"
     ]
    },
    {
     "name": "stderr",
     "output_type": "stream",
     "text": [
      "100%|██████████| 1250/1250 [00:02<00:00, 577.38it/s]\n",
      "  0%|          | 1/293 [00:00<00:36,  7.99it/s]"
     ]
    },
    {
     "name": "stdout",
     "output_type": "stream",
     "text": [
      "accuray: 0.259\n"
     ]
    },
    {
     "name": "stderr",
     "output_type": "stream",
     "text": [
      "100%|██████████| 293/293 [00:31<00:00,  9.39it/s] \n",
      "  8%|▊         | 95/1250 [00:00<00:02, 473.31it/s]"
     ]
    },
    {
     "name": "stdout",
     "output_type": "stream",
     "text": [
      "epoch_loss/batch_ct=0.06008537299931049\n",
      "tensor(0.1191, device='cuda:0', grad_fn=<SmoothL1LossBackward0>)\n"
     ]
    },
    {
     "name": "stderr",
     "output_type": "stream",
     "text": [
      "100%|██████████| 1250/1250 [00:02<00:00, 576.84it/s]\n",
      "  0%|          | 1/293 [00:00<00:36,  7.93it/s]"
     ]
    },
    {
     "name": "stdout",
     "output_type": "stream",
     "text": [
      "accuray: 0.2673\n"
     ]
    },
    {
     "name": "stderr",
     "output_type": "stream",
     "text": [
      "100%|██████████| 293/293 [00:32<00:00,  8.91it/s]\n",
      "  4%|▍         | 47/1250 [00:00<00:02, 460.36it/s]"
     ]
    },
    {
     "name": "stdout",
     "output_type": "stream",
     "text": [
      "epoch_loss/batch_ct=0.06013029447150609\n",
      "tensor(0.1200, device='cuda:0', grad_fn=<SmoothL1LossBackward0>)\n"
     ]
    },
    {
     "name": "stderr",
     "output_type": "stream",
     "text": [
      "100%|██████████| 1250/1250 [00:02<00:00, 579.25it/s]\n",
      "  0%|          | 1/293 [00:00<00:37,  7.87it/s]"
     ]
    },
    {
     "name": "stdout",
     "output_type": "stream",
     "text": [
      "accuray: 0.2661\n"
     ]
    },
    {
     "name": "stderr",
     "output_type": "stream",
     "text": [
      "100%|██████████| 293/293 [00:31<00:00,  9.38it/s] \n",
      "  4%|▎         | 45/1250 [00:00<00:02, 449.59it/s]"
     ]
    },
    {
     "name": "stdout",
     "output_type": "stream",
     "text": [
      "epoch_loss/batch_ct=0.059995827383346974\n",
      "tensor(0.1183, device='cuda:0', grad_fn=<SmoothL1LossBackward0>)\n"
     ]
    },
    {
     "name": "stderr",
     "output_type": "stream",
     "text": [
      "100%|██████████| 1250/1250 [00:02<00:00, 584.40it/s]\n",
      "  0%|          | 1/293 [00:00<00:35,  8.19it/s]"
     ]
    },
    {
     "name": "stdout",
     "output_type": "stream",
     "text": [
      "accuray: 0.2666\n"
     ]
    },
    {
     "name": "stderr",
     "output_type": "stream",
     "text": [
      "100%|██████████| 293/293 [00:32<00:00,  8.90it/s] \n",
      "  4%|▎         | 44/1250 [00:00<00:02, 430.98it/s]"
     ]
    },
    {
     "name": "stdout",
     "output_type": "stream",
     "text": [
      "epoch_loss/batch_ct=0.06000795009885988\n",
      "tensor(0.1187, device='cuda:0', grad_fn=<SmoothL1LossBackward0>)\n"
     ]
    },
    {
     "name": "stderr",
     "output_type": "stream",
     "text": [
      "100%|██████████| 1250/1250 [00:02<00:00, 566.38it/s]\n",
      "  0%|          | 1/293 [00:00<00:35,  8.12it/s]"
     ]
    },
    {
     "name": "stdout",
     "output_type": "stream",
     "text": [
      "accuray: 0.2635\n"
     ]
    },
    {
     "name": "stderr",
     "output_type": "stream",
     "text": [
      "100%|██████████| 293/293 [00:31<00:00,  9.45it/s] \n",
      "  8%|▊         | 105/1250 [00:00<00:02, 523.25it/s]"
     ]
    },
    {
     "name": "stdout",
     "output_type": "stream",
     "text": [
      "epoch_loss/batch_ct=0.06000844473462729\n",
      "tensor(0.1212, device='cuda:0', grad_fn=<SmoothL1LossBackward0>)\n"
     ]
    },
    {
     "name": "stderr",
     "output_type": "stream",
     "text": [
      "100%|██████████| 1250/1250 [00:02<00:00, 580.06it/s]\n",
      "  0%|          | 1/293 [00:00<00:35,  8.12it/s]"
     ]
    },
    {
     "name": "stdout",
     "output_type": "stream",
     "text": [
      "accuray: 0.2684\n"
     ]
    },
    {
     "name": "stderr",
     "output_type": "stream",
     "text": [
      "100%|██████████| 293/293 [00:31<00:00,  9.42it/s] \n",
      "  3%|▎         | 43/1250 [00:00<00:02, 429.61it/s]"
     ]
    },
    {
     "name": "stdout",
     "output_type": "stream",
     "text": [
      "epoch_loss/batch_ct=0.06003806164990815\n",
      "tensor(0.1186, device='cuda:0', grad_fn=<SmoothL1LossBackward0>)\n"
     ]
    },
    {
     "name": "stderr",
     "output_type": "stream",
     "text": [
      "100%|██████████| 1250/1250 [00:02<00:00, 578.18it/s]\n",
      "  0%|          | 1/293 [00:00<00:34,  8.40it/s]"
     ]
    },
    {
     "name": "stdout",
     "output_type": "stream",
     "text": [
      "accuray: 0.2661\n"
     ]
    },
    {
     "name": "stderr",
     "output_type": "stream",
     "text": [
      "100%|██████████| 293/293 [00:33<00:00,  8.87it/s] \n",
      "  4%|▍         | 48/1250 [00:00<00:02, 479.57it/s]"
     ]
    },
    {
     "name": "stdout",
     "output_type": "stream",
     "text": [
      "epoch_loss/batch_ct=0.059978395375230954\n",
      "tensor(0.1187, device='cuda:0', grad_fn=<SmoothL1LossBackward0>)\n"
     ]
    },
    {
     "name": "stderr",
     "output_type": "stream",
     "text": [
      "100%|██████████| 1250/1250 [00:02<00:00, 581.68it/s]\n",
      "  0%|          | 1/293 [00:00<00:38,  7.57it/s]"
     ]
    },
    {
     "name": "stdout",
     "output_type": "stream",
     "text": [
      "accuray: 0.2643\n"
     ]
    },
    {
     "name": "stderr",
     "output_type": "stream",
     "text": [
      "100%|██████████| 293/293 [00:31<00:00,  9.37it/s] \n",
      "  3%|▎         | 41/1250 [00:00<00:02, 409.63it/s]"
     ]
    },
    {
     "name": "stdout",
     "output_type": "stream",
     "text": [
      "epoch_loss/batch_ct=0.059994577607583435\n",
      "tensor(0.1166, device='cuda:0', grad_fn=<SmoothL1LossBackward0>)\n"
     ]
    },
    {
     "name": "stderr",
     "output_type": "stream",
     "text": [
      "100%|██████████| 1250/1250 [00:02<00:00, 575.25it/s]\n",
      "  0%|          | 1/293 [00:00<00:37,  7.69it/s]"
     ]
    },
    {
     "name": "stdout",
     "output_type": "stream",
     "text": [
      "accuray: 0.266\n"
     ]
    },
    {
     "name": "stderr",
     "output_type": "stream",
     "text": [
      "100%|██████████| 293/293 [00:33<00:00,  8.78it/s] \n",
      "  4%|▎         | 44/1250 [00:00<00:02, 418.67it/s]"
     ]
    },
    {
     "name": "stdout",
     "output_type": "stream",
     "text": [
      "epoch_loss/batch_ct=0.05993928028536694\n",
      "tensor(0.1207, device='cuda:0', grad_fn=<SmoothL1LossBackward0>)\n"
     ]
    },
    {
     "name": "stderr",
     "output_type": "stream",
     "text": [
      "100%|██████████| 1250/1250 [00:02<00:00, 567.92it/s]\n",
      "  0%|          | 1/293 [00:00<00:36,  7.99it/s]"
     ]
    },
    {
     "name": "stdout",
     "output_type": "stream",
     "text": [
      "accuray: 0.2651\n"
     ]
    },
    {
     "name": "stderr",
     "output_type": "stream",
     "text": [
      "100%|██████████| 293/293 [00:31<00:00,  9.43it/s] \n",
      "  3%|▎         | 42/1250 [00:00<00:02, 411.39it/s]"
     ]
    },
    {
     "name": "stdout",
     "output_type": "stream",
     "text": [
      "epoch_loss/batch_ct=0.059901764276363546\n",
      "tensor(0.1175, device='cuda:0', grad_fn=<SmoothL1LossBackward0>)\n"
     ]
    },
    {
     "name": "stderr",
     "output_type": "stream",
     "text": [
      "100%|██████████| 1250/1250 [00:02<00:00, 573.93it/s]\n",
      "  0%|          | 1/293 [00:00<00:35,  8.26it/s]"
     ]
    },
    {
     "name": "stdout",
     "output_type": "stream",
     "text": [
      "accuray: 0.2663\n"
     ]
    },
    {
     "name": "stderr",
     "output_type": "stream",
     "text": [
      "100%|██████████| 293/293 [00:33<00:00,  8.81it/s] \n",
      "  5%|▍         | 59/1250 [00:00<00:02, 589.46it/s]"
     ]
    },
    {
     "name": "stdout",
     "output_type": "stream",
     "text": [
      "epoch_loss/batch_ct=0.05996208197422444\n",
      "tensor(0.1192, device='cuda:0', grad_fn=<SmoothL1LossBackward0>)\n"
     ]
    },
    {
     "name": "stderr",
     "output_type": "stream",
     "text": [
      "100%|██████████| 1250/1250 [00:02<00:00, 597.54it/s]\n",
      "  0%|          | 1/293 [00:00<00:37,  7.69it/s]"
     ]
    },
    {
     "name": "stdout",
     "output_type": "stream",
     "text": [
      "accuray: 0.2689\n"
     ]
    },
    {
     "name": "stderr",
     "output_type": "stream",
     "text": [
      "100%|██████████| 293/293 [00:31<00:00,  9.31it/s] \n",
      "  4%|▎         | 44/1250 [00:00<00:02, 439.60it/s]"
     ]
    },
    {
     "name": "stdout",
     "output_type": "stream",
     "text": [
      "epoch_loss/batch_ct=0.06002468447245303\n",
      "tensor(0.1194, device='cuda:0', grad_fn=<SmoothL1LossBackward0>)\n"
     ]
    },
    {
     "name": "stderr",
     "output_type": "stream",
     "text": [
      "100%|██████████| 1250/1250 [00:02<00:00, 574.45it/s]\n",
      "  0%|          | 1/293 [00:00<00:38,  7.63it/s]"
     ]
    },
    {
     "name": "stdout",
     "output_type": "stream",
     "text": [
      "accuray: 0.2659\n"
     ]
    },
    {
     "name": "stderr",
     "output_type": "stream",
     "text": [
      "100%|██████████| 293/293 [00:31<00:00,  9.33it/s] \n",
      "  7%|▋         | 86/1250 [00:00<00:02, 425.36it/s]"
     ]
    },
    {
     "name": "stdout",
     "output_type": "stream",
     "text": [
      "epoch_loss/batch_ct=0.059877608414916766\n",
      "tensor(0.1210, device='cuda:0', grad_fn=<SmoothL1LossBackward0>)\n"
     ]
    },
    {
     "name": "stderr",
     "output_type": "stream",
     "text": [
      "100%|██████████| 1250/1250 [00:02<00:00, 574.19it/s]\n",
      "  0%|          | 1/293 [00:00<00:37,  7.87it/s]"
     ]
    },
    {
     "name": "stdout",
     "output_type": "stream",
     "text": [
      "accuray: 0.2644\n"
     ]
    },
    {
     "name": "stderr",
     "output_type": "stream",
     "text": [
      "100%|██████████| 293/293 [00:32<00:00,  8.95it/s] \n",
      "  3%|▎         | 43/1250 [00:00<00:02, 429.61it/s]"
     ]
    },
    {
     "name": "stdout",
     "output_type": "stream",
     "text": [
      "epoch_loss/batch_ct=0.05988154774679551\n",
      "tensor(0.1198, device='cuda:0', grad_fn=<SmoothL1LossBackward0>)\n"
     ]
    },
    {
     "name": "stderr",
     "output_type": "stream",
     "text": [
      "100%|██████████| 1250/1250 [00:02<00:00, 576.04it/s]\n",
      "  0%|          | 1/293 [00:00<00:35,  8.19it/s]"
     ]
    },
    {
     "name": "stdout",
     "output_type": "stream",
     "text": [
      "accuray: 0.2634\n"
     ]
    },
    {
     "name": "stderr",
     "output_type": "stream",
     "text": [
      "100%|██████████| 293/293 [00:31<00:00,  9.40it/s] \n",
      "  4%|▎         | 46/1250 [00:00<00:02, 450.57it/s]"
     ]
    },
    {
     "name": "stdout",
     "output_type": "stream",
     "text": [
      "epoch_loss/batch_ct=0.05996109052960362\n",
      "tensor(0.1186, device='cuda:0', grad_fn=<SmoothL1LossBackward0>)\n"
     ]
    },
    {
     "name": "stderr",
     "output_type": "stream",
     "text": [
      "100%|██████████| 1250/1250 [00:02<00:00, 580.33it/s]\n",
      "  0%|          | 1/293 [00:00<00:36,  7.99it/s]"
     ]
    },
    {
     "name": "stdout",
     "output_type": "stream",
     "text": [
      "accuray: 0.2618\n"
     ]
    },
    {
     "name": "stderr",
     "output_type": "stream",
     "text": [
      "100%|██████████| 293/293 [00:33<00:00,  8.86it/s] \n",
      "  4%|▎         | 44/1250 [00:00<00:02, 439.60it/s]"
     ]
    },
    {
     "name": "stdout",
     "output_type": "stream",
     "text": [
      "epoch_loss/batch_ct=0.059894611098108785\n",
      "tensor(0.1180, device='cuda:0', grad_fn=<SmoothL1LossBackward0>)\n"
     ]
    },
    {
     "name": "stderr",
     "output_type": "stream",
     "text": [
      "100%|██████████| 1250/1250 [00:02<00:00, 576.58it/s]\n",
      "  0%|          | 1/293 [00:00<00:35,  8.19it/s]"
     ]
    },
    {
     "name": "stdout",
     "output_type": "stream",
     "text": [
      "accuray: 0.2625\n"
     ]
    },
    {
     "name": "stderr",
     "output_type": "stream",
     "text": [
      "100%|██████████| 293/293 [00:31<00:00,  9.36it/s] \n",
      "  4%|▍         | 49/1250 [00:00<00:02, 489.55it/s]"
     ]
    },
    {
     "name": "stdout",
     "output_type": "stream",
     "text": [
      "epoch_loss/batch_ct=0.059962660177714296\n",
      "tensor(0.1193, device='cuda:0', grad_fn=<SmoothL1LossBackward0>)\n"
     ]
    },
    {
     "name": "stderr",
     "output_type": "stream",
     "text": [
      "100%|██████████| 1250/1250 [00:02<00:00, 584.67it/s]\n",
      "  0%|          | 1/293 [00:00<00:36,  7.93it/s]"
     ]
    },
    {
     "name": "stdout",
     "output_type": "stream",
     "text": [
      "accuray: 0.2649\n"
     ]
    },
    {
     "name": "stderr",
     "output_type": "stream",
     "text": [
      "100%|██████████| 293/293 [00:31<00:00,  9.33it/s] \n",
      "  5%|▍         | 60/1250 [00:00<00:01, 599.45it/s]"
     ]
    },
    {
     "name": "stdout",
     "output_type": "stream",
     "text": [
      "epoch_loss/batch_ct=0.059973664212203216\n",
      "tensor(0.1186, device='cuda:0', grad_fn=<SmoothL1LossBackward0>)\n"
     ]
    },
    {
     "name": "stderr",
     "output_type": "stream",
     "text": [
      "100%|██████████| 1250/1250 [00:02<00:00, 598.11it/s]\n",
      "  0%|          | 1/293 [00:00<00:39,  7.46it/s]"
     ]
    },
    {
     "name": "stdout",
     "output_type": "stream",
     "text": [
      "accuray: 0.2591\n"
     ]
    },
    {
     "name": "stderr",
     "output_type": "stream",
     "text": [
      "100%|██████████| 293/293 [00:33<00:00,  8.79it/s] \n",
      "  5%|▌         | 68/1250 [00:00<00:01, 672.65it/s]"
     ]
    },
    {
     "name": "stdout",
     "output_type": "stream",
     "text": [
      "epoch_loss/batch_ct=0.060012946910564864\n",
      "tensor(0.1202, device='cuda:0', grad_fn=<SmoothL1LossBackward0>)\n"
     ]
    },
    {
     "name": "stderr",
     "output_type": "stream",
     "text": [
      "100%|██████████| 1250/1250 [00:01<00:00, 665.00it/s]\n",
      "  0%|          | 1/293 [00:00<00:35,  8.26it/s]"
     ]
    },
    {
     "name": "stdout",
     "output_type": "stream",
     "text": [
      "accuray: 0.2653\n"
     ]
    },
    {
     "name": "stderr",
     "output_type": "stream",
     "text": [
      "100%|██████████| 293/293 [00:31<00:00,  9.33it/s] \n",
      "  7%|▋         | 92/1250 [00:00<00:02, 461.34it/s]"
     ]
    },
    {
     "name": "stdout",
     "output_type": "stream",
     "text": [
      "epoch_loss/batch_ct=0.05990886565534368\n",
      "tensor(0.1191, device='cuda:0', grad_fn=<SmoothL1LossBackward0>)\n"
     ]
    },
    {
     "name": "stderr",
     "output_type": "stream",
     "text": [
      "100%|██████████| 1250/1250 [00:02<00:00, 572.35it/s]\n",
      "  0%|          | 1/293 [00:00<00:35,  8.12it/s]"
     ]
    },
    {
     "name": "stdout",
     "output_type": "stream",
     "text": [
      "accuray: 0.2679\n"
     ]
    },
    {
     "name": "stderr",
     "output_type": "stream",
     "text": [
      "100%|██████████| 293/293 [00:33<00:00,  8.85it/s] \n",
      "  8%|▊         | 94/1250 [00:00<00:02, 466.83it/s]"
     ]
    },
    {
     "name": "stdout",
     "output_type": "stream",
     "text": [
      "epoch_loss/batch_ct=0.05987476743757725\n",
      "tensor(0.1186, device='cuda:0', grad_fn=<SmoothL1LossBackward0>)\n"
     ]
    },
    {
     "name": "stderr",
     "output_type": "stream",
     "text": [
      "100%|██████████| 1250/1250 [00:02<00:00, 581.95it/s]\n",
      "  0%|          | 1/293 [00:00<00:35,  8.19it/s]"
     ]
    },
    {
     "name": "stdout",
     "output_type": "stream",
     "text": [
      "accuray: 0.2683\n"
     ]
    },
    {
     "name": "stderr",
     "output_type": "stream",
     "text": [
      "100%|██████████| 293/293 [00:31<00:00,  9.39it/s] \n",
      "  9%|▊         | 109/1250 [00:00<00:02, 542.20it/s]"
     ]
    },
    {
     "name": "stdout",
     "output_type": "stream",
     "text": [
      "epoch_loss/batch_ct=0.05997714858561281\n",
      "tensor(0.1198, device='cuda:0', grad_fn=<SmoothL1LossBackward0>)\n"
     ]
    },
    {
     "name": "stderr",
     "output_type": "stream",
     "text": [
      "100%|██████████| 1250/1250 [00:02<00:00, 598.40it/s]\n",
      "  0%|          | 1/293 [00:00<00:44,  6.62it/s]"
     ]
    },
    {
     "name": "stdout",
     "output_type": "stream",
     "text": [
      "accuray: 0.2686\n"
     ]
    },
    {
     "name": "stderr",
     "output_type": "stream",
     "text": [
      "100%|██████████| 293/293 [00:31<00:00,  9.39it/s] \n",
      "  7%|▋         | 87/1250 [00:00<00:02, 433.68it/s]"
     ]
    },
    {
     "name": "stdout",
     "output_type": "stream",
     "text": [
      "epoch_loss/batch_ct=0.05982102945979152\n",
      "tensor(0.1213, device='cuda:0', grad_fn=<SmoothL1LossBackward0>)\n"
     ]
    },
    {
     "name": "stderr",
     "output_type": "stream",
     "text": [
      "100%|██████████| 1250/1250 [00:02<00:00, 573.66it/s]\n",
      "  0%|          | 1/293 [00:00<00:35,  8.33it/s]"
     ]
    },
    {
     "name": "stdout",
     "output_type": "stream",
     "text": [
      "accuray: 0.2651\n"
     ]
    },
    {
     "name": "stderr",
     "output_type": "stream",
     "text": [
      "100%|██████████| 293/293 [00:32<00:00,  8.99it/s] \n",
      "  4%|▍         | 51/1250 [00:00<00:02, 509.54it/s]"
     ]
    },
    {
     "name": "stdout",
     "output_type": "stream",
     "text": [
      "epoch_loss/batch_ct=0.05984364380498254\n",
      "tensor(0.1170, device='cuda:0', grad_fn=<SmoothL1LossBackward0>)\n"
     ]
    },
    {
     "name": "stderr",
     "output_type": "stream",
     "text": [
      "100%|██████████| 1250/1250 [00:02<00:00, 581.68it/s]\n",
      "  0%|          | 1/293 [00:00<00:42,  6.89it/s]"
     ]
    },
    {
     "name": "stdout",
     "output_type": "stream",
     "text": [
      "accuray: 0.269\n"
     ]
    },
    {
     "name": "stderr",
     "output_type": "stream",
     "text": [
      "100%|██████████| 293/293 [00:31<00:00,  9.43it/s] \n",
      " 11%|█         | 136/1250 [00:00<00:01, 679.38it/s]"
     ]
    },
    {
     "name": "stdout",
     "output_type": "stream",
     "text": [
      "epoch_loss/batch_ct=0.05988533278956773\n",
      "tensor(0.1177, device='cuda:0', grad_fn=<SmoothL1LossBackward0>)\n"
     ]
    },
    {
     "name": "stderr",
     "output_type": "stream",
     "text": [
      "100%|██████████| 1250/1250 [00:02<00:00, 617.94it/s]\n",
      "  0%|          | 1/293 [00:00<00:35,  8.33it/s]"
     ]
    },
    {
     "name": "stdout",
     "output_type": "stream",
     "text": [
      "accuray: 0.2657\n"
     ]
    },
    {
     "name": "stderr",
     "output_type": "stream",
     "text": [
      "100%|██████████| 293/293 [00:33<00:00,  8.79it/s] \n",
      "  3%|▎         | 43/1250 [00:00<00:02, 417.09it/s]"
     ]
    },
    {
     "name": "stdout",
     "output_type": "stream",
     "text": [
      "epoch_loss/batch_ct=0.05990499621700673\n",
      "tensor(0.1201, device='cuda:0', grad_fn=<SmoothL1LossBackward0>)\n"
     ]
    },
    {
     "name": "stderr",
     "output_type": "stream",
     "text": [
      "100%|██████████| 1250/1250 [00:02<00:00, 569.74it/s]\n",
      "  0%|          | 1/293 [00:00<00:36,  7.99it/s]"
     ]
    },
    {
     "name": "stdout",
     "output_type": "stream",
     "text": [
      "accuray: 0.2667\n"
     ]
    },
    {
     "name": "stderr",
     "output_type": "stream",
     "text": [
      "100%|██████████| 293/293 [00:31<00:00,  9.25it/s] \n",
      "  4%|▎         | 45/1250 [00:00<00:02, 440.78it/s]"
     ]
    },
    {
     "name": "stdout",
     "output_type": "stream",
     "text": [
      "epoch_loss/batch_ct=0.05998465402554425\n",
      "tensor(0.1186, device='cuda:0', grad_fn=<SmoothL1LossBackward0>)\n"
     ]
    },
    {
     "name": "stderr",
     "output_type": "stream",
     "text": [
      "100%|██████████| 1250/1250 [00:02<00:00, 575.78it/s]\n",
      "  0%|          | 1/293 [00:00<00:35,  8.12it/s]"
     ]
    },
    {
     "name": "stdout",
     "output_type": "stream",
     "text": [
      "accuray: 0.263\n"
     ]
    },
    {
     "name": "stderr",
     "output_type": "stream",
     "text": [
      "100%|██████████| 293/293 [00:33<00:00,  8.72it/s] \n",
      " 11%|█         | 132/1250 [00:00<00:01, 655.55it/s]"
     ]
    },
    {
     "name": "stdout",
     "output_type": "stream",
     "text": [
      "epoch_loss/batch_ct=0.05995595119597893\n",
      "tensor(0.1192, device='cuda:0', grad_fn=<SmoothL1LossBackward0>)\n"
     ]
    },
    {
     "name": "stderr",
     "output_type": "stream",
     "text": [
      "100%|██████████| 1250/1250 [00:01<00:00, 664.64it/s]\n",
      "  0%|          | 1/293 [00:00<00:33,  8.69it/s]"
     ]
    },
    {
     "name": "stdout",
     "output_type": "stream",
     "text": [
      "accuray: 0.2664\n"
     ]
    },
    {
     "name": "stderr",
     "output_type": "stream",
     "text": [
      "100%|██████████| 293/293 [00:31<00:00,  9.32it/s] \n",
      "  4%|▍         | 50/1250 [00:00<00:02, 499.55it/s]"
     ]
    },
    {
     "name": "stdout",
     "output_type": "stream",
     "text": [
      "epoch_loss/batch_ct=0.05991207967911448\n",
      "tensor(0.1207, device='cuda:0', grad_fn=<SmoothL1LossBackward0>)\n"
     ]
    },
    {
     "name": "stderr",
     "output_type": "stream",
     "text": [
      "100%|██████████| 1250/1250 [00:02<00:00, 582.49it/s]\n",
      "  0%|          | 1/293 [00:00<00:35,  8.19it/s]"
     ]
    },
    {
     "name": "stdout",
     "output_type": "stream",
     "text": [
      "accuray: 0.2656\n"
     ]
    },
    {
     "name": "stderr",
     "output_type": "stream",
     "text": [
      "100%|██████████| 293/293 [00:31<00:00,  9.38it/s] \n",
      "  4%|▍         | 55/1250 [00:00<00:02, 549.50it/s]"
     ]
    },
    {
     "name": "stdout",
     "output_type": "stream",
     "text": [
      "epoch_loss/batch_ct=0.05996854696422815\n",
      "tensor(0.1203, device='cuda:0', grad_fn=<SmoothL1LossBackward0>)\n"
     ]
    },
    {
     "name": "stderr",
     "output_type": "stream",
     "text": [
      "100%|██████████| 1250/1250 [00:02<00:00, 587.15it/s]\n",
      "  0%|          | 1/293 [00:00<00:35,  8.19it/s]"
     ]
    },
    {
     "name": "stdout",
     "output_type": "stream",
     "text": [
      "accuray: 0.2681\n"
     ]
    },
    {
     "name": "stderr",
     "output_type": "stream",
     "text": [
      "100%|██████████| 293/293 [00:33<00:00,  8.81it/s] \n",
      " 11%|█         | 137/1250 [00:00<00:01, 681.25it/s]"
     ]
    },
    {
     "name": "stdout",
     "output_type": "stream",
     "text": [
      "epoch_loss/batch_ct=0.05988638901284763\n",
      "tensor(0.1186, device='cuda:0', grad_fn=<SmoothL1LossBackward0>)\n"
     ]
    },
    {
     "name": "stderr",
     "output_type": "stream",
     "text": [
      "100%|██████████| 1250/1250 [00:01<00:00, 660.43it/s]\n",
      "  0%|          | 1/293 [00:00<00:33,  8.61it/s]"
     ]
    },
    {
     "name": "stdout",
     "output_type": "stream",
     "text": [
      "accuray: 0.268\n"
     ]
    },
    {
     "name": "stderr",
     "output_type": "stream",
     "text": [
      "100%|██████████| 293/293 [00:31<00:00,  9.38it/s] \n",
      "  9%|▉         | 112/1250 [00:00<00:02, 559.49it/s]"
     ]
    },
    {
     "name": "stdout",
     "output_type": "stream",
     "text": [
      "epoch_loss/batch_ct=0.05980093333692778\n",
      "tensor(0.1171, device='cuda:0', grad_fn=<SmoothL1LossBackward0>)\n"
     ]
    },
    {
     "name": "stderr",
     "output_type": "stream",
     "text": [
      "100%|██████████| 1250/1250 [00:02<00:00, 596.97it/s]\n",
      "  0%|          | 1/293 [00:00<00:36,  7.99it/s]"
     ]
    },
    {
     "name": "stdout",
     "output_type": "stream",
     "text": [
      "accuray: 0.269\n"
     ]
    },
    {
     "name": "stderr",
     "output_type": "stream",
     "text": [
      "100%|██████████| 293/293 [00:33<00:00,  8.87it/s] \n",
      "  7%|▋         | 92/1250 [00:00<00:02, 461.35it/s]"
     ]
    },
    {
     "name": "stdout",
     "output_type": "stream",
     "text": [
      "epoch_loss/batch_ct=0.05984078227941479\n",
      "tensor(0.1175, device='cuda:0', grad_fn=<SmoothL1LossBackward0>)\n"
     ]
    },
    {
     "name": "stderr",
     "output_type": "stream",
     "text": [
      "100%|██████████| 1250/1250 [00:02<00:00, 580.87it/s]\n",
      "  0%|          | 1/293 [00:00<00:36,  8.06it/s]"
     ]
    },
    {
     "name": "stdout",
     "output_type": "stream",
     "text": [
      "accuray: 0.2686\n"
     ]
    },
    {
     "name": "stderr",
     "output_type": "stream",
     "text": [
      "100%|██████████| 293/293 [00:31<00:00,  9.36it/s] \n",
      "  9%|▊         | 108/1250 [00:00<00:02, 539.51it/s]"
     ]
    },
    {
     "name": "stdout",
     "output_type": "stream",
     "text": [
      "epoch_loss/batch_ct=0.05985973912867762\n",
      "tensor(0.1205, device='cuda:0', grad_fn=<SmoothL1LossBackward0>)\n"
     ]
    },
    {
     "name": "stderr",
     "output_type": "stream",
     "text": [
      "100%|██████████| 1250/1250 [00:02<00:00, 591.32it/s]\n",
      "  0%|          | 1/293 [00:00<00:35,  8.26it/s]"
     ]
    },
    {
     "name": "stdout",
     "output_type": "stream",
     "text": [
      "accuray: 0.2691\n"
     ]
    },
    {
     "name": "stderr",
     "output_type": "stream",
     "text": [
      "100%|██████████| 293/293 [00:31<00:00,  9.30it/s] \n",
      "  4%|▍         | 48/1250 [00:00<00:02, 474.81it/s]"
     ]
    },
    {
     "name": "stdout",
     "output_type": "stream",
     "text": [
      "epoch_loss/batch_ct=0.05992187453167779\n",
      "tensor(0.1184, device='cuda:0', grad_fn=<SmoothL1LossBackward0>)\n"
     ]
    },
    {
     "name": "stderr",
     "output_type": "stream",
     "text": [
      "100%|██████████| 1250/1250 [00:02<00:00, 584.13it/s]\n",
      "  0%|          | 1/293 [00:00<00:35,  8.12it/s]"
     ]
    },
    {
     "name": "stdout",
     "output_type": "stream",
     "text": [
      "accuray: 0.2665\n"
     ]
    },
    {
     "name": "stderr",
     "output_type": "stream",
     "text": [
      "100%|██████████| 293/293 [00:33<00:00,  8.80it/s] \n",
      "  0%|          | 0/1250 [00:00<?, ?it/s]"
     ]
    },
    {
     "name": "stdout",
     "output_type": "stream",
     "text": [
      "epoch_loss/batch_ct=0.05987741857294052\n",
      "tensor(0.1192, device='cuda:0', grad_fn=<SmoothL1LossBackward0>)\n"
     ]
    },
    {
     "name": "stderr",
     "output_type": "stream",
     "text": [
      "100%|██████████| 1250/1250 [00:01<00:00, 674.70it/s]\n",
      "  0%|          | 1/293 [00:00<00:34,  8.54it/s]"
     ]
    },
    {
     "name": "stdout",
     "output_type": "stream",
     "text": [
      "accuray: 0.2671\n"
     ]
    },
    {
     "name": "stderr",
     "output_type": "stream",
     "text": [
      "100%|██████████| 293/293 [00:31<00:00,  9.32it/s] \n",
      " 10%|▉         | 124/1250 [00:00<00:01, 613.30it/s]"
     ]
    },
    {
     "name": "stdout",
     "output_type": "stream",
     "text": [
      "epoch_loss/batch_ct=0.05987703786896808\n",
      "tensor(0.1188, device='cuda:0', grad_fn=<SmoothL1LossBackward0>)\n"
     ]
    },
    {
     "name": "stderr",
     "output_type": "stream",
     "text": [
      "100%|██████████| 1250/1250 [00:02<00:00, 604.78it/s]\n",
      "  0%|          | 1/293 [00:00<00:37,  7.69it/s]"
     ]
    },
    {
     "name": "stdout",
     "output_type": "stream",
     "text": [
      "accuray: 0.2646\n"
     ]
    },
    {
     "name": "stderr",
     "output_type": "stream",
     "text": [
      "100%|██████████| 293/293 [00:32<00:00,  9.02it/s] \n",
      "  4%|▍         | 56/1250 [00:00<00:02, 553.95it/s]"
     ]
    },
    {
     "name": "stdout",
     "output_type": "stream",
     "text": [
      "epoch_loss/batch_ct=0.06002218367916251\n",
      "tensor(0.1172, device='cuda:0', grad_fn=<SmoothL1LossBackward0>)\n"
     ]
    },
    {
     "name": "stderr",
     "output_type": "stream",
     "text": [
      "100%|██████████| 1250/1250 [00:02<00:00, 593.57it/s]\n",
      "  0%|          | 1/293 [00:00<00:35,  8.19it/s]"
     ]
    },
    {
     "name": "stdout",
     "output_type": "stream",
     "text": [
      "accuray: 0.2633\n"
     ]
    },
    {
     "name": "stderr",
     "output_type": "stream",
     "text": [
      "100%|██████████| 293/293 [00:31<00:00,  9.42it/s] \n",
      "  3%|▎         | 36/1250 [00:00<00:03, 359.67it/s]"
     ]
    },
    {
     "name": "stdout",
     "output_type": "stream",
     "text": [
      "epoch_loss/batch_ct=0.060019366812729645\n",
      "tensor(0.1187, device='cuda:0', grad_fn=<SmoothL1LossBackward0>)\n"
     ]
    },
    {
     "name": "stderr",
     "output_type": "stream",
     "text": [
      "100%|██████████| 1250/1250 [00:02<00:00, 567.67it/s]\n",
      "  0%|          | 1/293 [00:00<00:38,  7.63it/s]"
     ]
    },
    {
     "name": "stdout",
     "output_type": "stream",
     "text": [
      "accuray: 0.2688\n"
     ]
    },
    {
     "name": "stderr",
     "output_type": "stream",
     "text": [
      "100%|██████████| 293/293 [00:31<00:00,  9.25it/s] \n",
      "  3%|▎         | 43/1250 [00:00<00:02, 429.61it/s]"
     ]
    },
    {
     "name": "stdout",
     "output_type": "stream",
     "text": [
      "epoch_loss/batch_ct=0.05995723155755845\n",
      "tensor(0.1193, device='cuda:0', grad_fn=<SmoothL1LossBackward0>)\n"
     ]
    },
    {
     "name": "stderr",
     "output_type": "stream",
     "text": [
      "100%|██████████| 1250/1250 [00:02<00:00, 577.91it/s]\n",
      "  0%|          | 1/293 [00:00<00:35,  8.12it/s]"
     ]
    },
    {
     "name": "stdout",
     "output_type": "stream",
     "text": [
      "accuray: 0.2665\n"
     ]
    },
    {
     "name": "stderr",
     "output_type": "stream",
     "text": [
      "100%|██████████| 293/293 [00:32<00:00,  8.89it/s] \n",
      "  7%|▋         | 89/1250 [00:00<00:02, 430.79it/s]"
     ]
    },
    {
     "name": "stdout",
     "output_type": "stream",
     "text": [
      "epoch_loss/batch_ct=0.05993173930734869\n",
      "tensor(0.1177, device='cuda:0', grad_fn=<SmoothL1LossBackward0>)\n"
     ]
    },
    {
     "name": "stderr",
     "output_type": "stream",
     "text": [
      "100%|██████████| 1250/1250 [00:02<00:00, 570.26it/s]\n",
      "  0%|          | 1/293 [00:00<00:36,  7.99it/s]"
     ]
    },
    {
     "name": "stdout",
     "output_type": "stream",
     "text": [
      "accuray: 0.2645\n"
     ]
    },
    {
     "name": "stderr",
     "output_type": "stream",
     "text": [
      "100%|██████████| 293/293 [00:31<00:00,  9.29it/s] \n",
      "  5%|▌         | 68/1250 [00:00<00:01, 679.39it/s]"
     ]
    },
    {
     "name": "stdout",
     "output_type": "stream",
     "text": [
      "epoch_loss/batch_ct=0.059900203867564124\n",
      "tensor(0.1180, device='cuda:0', grad_fn=<SmoothL1LossBackward0>)\n"
     ]
    },
    {
     "name": "stderr",
     "output_type": "stream",
     "text": [
      "100%|██████████| 1250/1250 [00:01<00:00, 665.00it/s]\n",
      "  0%|          | 1/293 [00:00<00:34,  8.47it/s]"
     ]
    },
    {
     "name": "stdout",
     "output_type": "stream",
     "text": [
      "accuray: 0.2675\n"
     ]
    },
    {
     "name": "stderr",
     "output_type": "stream",
     "text": [
      "100%|██████████| 293/293 [00:33<00:00,  8.83it/s] \n",
      "  4%|▍         | 51/1250 [00:00<00:02, 504.50it/s]"
     ]
    },
    {
     "name": "stdout",
     "output_type": "stream",
     "text": [
      "epoch_loss/batch_ct=0.05985296767441526\n",
      "tensor(0.1206, device='cuda:0', grad_fn=<SmoothL1LossBackward0>)\n"
     ]
    },
    {
     "name": "stderr",
     "output_type": "stream",
     "text": [
      "100%|██████████| 1250/1250 [00:02<00:00, 589.92it/s]\n",
      "  0%|          | 1/293 [00:00<00:35,  8.12it/s]"
     ]
    },
    {
     "name": "stdout",
     "output_type": "stream",
     "text": [
      "accuray: 0.2703\n"
     ]
    },
    {
     "name": "stderr",
     "output_type": "stream",
     "text": [
      "100%|██████████| 293/293 [00:31<00:00,  9.34it/s] \n",
      "  7%|▋         | 90/1250 [00:00<00:02, 451.17it/s]"
     ]
    },
    {
     "name": "stdout",
     "output_type": "stream",
     "text": [
      "epoch_loss/batch_ct=0.0598809298216587\n",
      "tensor(0.1174, device='cuda:0', grad_fn=<SmoothL1LossBackward0>)\n"
     ]
    },
    {
     "name": "stderr",
     "output_type": "stream",
     "text": [
      "100%|██████████| 1250/1250 [00:02<00:00, 576.84it/s]\n",
      "  0%|          | 1/293 [00:00<00:36,  7.99it/s]"
     ]
    },
    {
     "name": "stdout",
     "output_type": "stream",
     "text": [
      "accuray: 0.2676\n"
     ]
    },
    {
     "name": "stderr",
     "output_type": "stream",
     "text": [
      "100%|██████████| 293/293 [00:31<00:00,  9.37it/s] \n",
      "  5%|▌         | 67/1250 [00:00<00:01, 669.39it/s]"
     ]
    },
    {
     "name": "stdout",
     "output_type": "stream",
     "text": [
      "epoch_loss/batch_ct=0.0598579328507185\n",
      "tensor(0.1191, device='cuda:0', grad_fn=<SmoothL1LossBackward0>)\n"
     ]
    },
    {
     "name": "stderr",
     "output_type": "stream",
     "text": [
      "100%|██████████| 1250/1250 [00:01<00:00, 671.07it/s]\n",
      "  0%|          | 1/293 [00:00<00:33,  8.69it/s]"
     ]
    },
    {
     "name": "stdout",
     "output_type": "stream",
     "text": [
      "accuray: 0.2642\n"
     ]
    },
    {
     "name": "stderr",
     "output_type": "stream",
     "text": [
      "100%|██████████| 293/293 [00:33<00:00,  8.83it/s] \n",
      "  5%|▌         | 68/1250 [00:00<00:01, 679.39it/s]"
     ]
    },
    {
     "name": "stdout",
     "output_type": "stream",
     "text": [
      "epoch_loss/batch_ct=0.059845075972141726\n",
      "tensor(0.1192, device='cuda:0', grad_fn=<SmoothL1LossBackward0>)\n"
     ]
    },
    {
     "name": "stderr",
     "output_type": "stream",
     "text": [
      "100%|██████████| 1250/1250 [00:02<00:00, 621.33it/s]\n",
      "  0%|          | 1/293 [00:00<00:36,  8.06it/s]"
     ]
    },
    {
     "name": "stdout",
     "output_type": "stream",
     "text": [
      "accuray: 0.2704\n"
     ]
    },
    {
     "name": "stderr",
     "output_type": "stream",
     "text": [
      "100%|██████████| 293/293 [00:31<00:00,  9.37it/s] \n",
      "  4%|▎         | 44/1250 [00:00<00:02, 435.25it/s]"
     ]
    },
    {
     "name": "stdout",
     "output_type": "stream",
     "text": [
      "epoch_loss/batch_ct=0.05980135785740993\n",
      "tensor(0.1177, device='cuda:0', grad_fn=<SmoothL1LossBackward0>)\n"
     ]
    },
    {
     "name": "stderr",
     "output_type": "stream",
     "text": [
      "100%|██████████| 1250/1250 [00:02<00:00, 582.76it/s]\n",
      "  0%|          | 1/293 [00:00<00:38,  7.63it/s]"
     ]
    },
    {
     "name": "stdout",
     "output_type": "stream",
     "text": [
      "accuray: 0.263\n"
     ]
    },
    {
     "name": "stderr",
     "output_type": "stream",
     "text": [
      "100%|██████████| 293/293 [00:33<00:00,  8.79it/s] \n",
      "  6%|▌         | 69/1250 [00:00<00:01, 689.37it/s]"
     ]
    },
    {
     "name": "stdout",
     "output_type": "stream",
     "text": [
      "epoch_loss/batch_ct=0.059872366325368014\n",
      "tensor(0.1178, device='cuda:0', grad_fn=<SmoothL1LossBackward0>)\n"
     ]
    },
    {
     "name": "stderr",
     "output_type": "stream",
     "text": [
      "100%|██████████| 1250/1250 [00:01<00:00, 657.99it/s]\n",
      "  0%|          | 1/293 [00:00<00:34,  8.47it/s]"
     ]
    },
    {
     "name": "stdout",
     "output_type": "stream",
     "text": [
      "accuray: 0.2657\n"
     ]
    },
    {
     "name": "stderr",
     "output_type": "stream",
     "text": [
      "100%|██████████| 293/293 [00:31<00:00,  9.34it/s] \n",
      "  8%|▊         | 94/1250 [00:00<00:02, 471.34it/s]"
     ]
    },
    {
     "name": "stdout",
     "output_type": "stream",
     "text": [
      "epoch_loss/batch_ct=0.05979283020964691\n",
      "tensor(0.1180, device='cuda:0', grad_fn=<SmoothL1LossBackward0>)\n"
     ]
    },
    {
     "name": "stderr",
     "output_type": "stream",
     "text": [
      "100%|██████████| 1250/1250 [00:02<00:00, 577.38it/s]\n",
      "  0%|          | 1/293 [00:00<00:37,  7.87it/s]"
     ]
    },
    {
     "name": "stdout",
     "output_type": "stream",
     "text": [
      "accuray: 0.2645\n"
     ]
    },
    {
     "name": "stderr",
     "output_type": "stream",
     "text": [
      "100%|██████████| 293/293 [00:31<00:00,  9.32it/s] \n",
      "  4%|▍         | 50/1250 [00:00<00:02, 494.60it/s]"
     ]
    },
    {
     "name": "stdout",
     "output_type": "stream",
     "text": [
      "epoch_loss/batch_ct=0.05985164793119544\n",
      "tensor(0.1195, device='cuda:0', grad_fn=<SmoothL1LossBackward0>)\n"
     ]
    },
    {
     "name": "stderr",
     "output_type": "stream",
     "text": [
      "100%|██████████| 1250/1250 [00:02<00:00, 588.53it/s]\n",
      "  0%|          | 1/293 [00:00<00:35,  8.33it/s]"
     ]
    },
    {
     "name": "stdout",
     "output_type": "stream",
     "text": [
      "accuray: 0.2631\n"
     ]
    },
    {
     "name": "stderr",
     "output_type": "stream",
     "text": [
      "100%|██████████| 293/293 [00:33<00:00,  8.82it/s] \n",
      "  3%|▎         | 39/1250 [00:00<00:03, 385.79it/s]"
     ]
    },
    {
     "name": "stdout",
     "output_type": "stream",
     "text": [
      "epoch_loss/batch_ct=0.059919803965068054\n",
      "tensor(0.1166, device='cuda:0', grad_fn=<SmoothL1LossBackward0>)\n"
     ]
    },
    {
     "name": "stderr",
     "output_type": "stream",
     "text": [
      "100%|██████████| 1250/1250 [00:02<00:00, 573.14it/s]\n",
      "  0%|          | 1/293 [00:00<00:35,  8.12it/s]"
     ]
    },
    {
     "name": "stdout",
     "output_type": "stream",
     "text": [
      "accuray: 0.2685\n"
     ]
    },
    {
     "name": "stderr",
     "output_type": "stream",
     "text": [
      "100%|██████████| 293/293 [00:31<00:00,  9.37it/s] \n",
      "  4%|▍         | 55/1250 [00:00<00:02, 538.73it/s]"
     ]
    },
    {
     "name": "stdout",
     "output_type": "stream",
     "text": [
      "epoch_loss/batch_ct=0.0598592757735224\n",
      "tensor(0.1187, device='cuda:0', grad_fn=<SmoothL1LossBackward0>)\n"
     ]
    },
    {
     "name": "stderr",
     "output_type": "stream",
     "text": [
      "100%|██████████| 1250/1250 [00:02<00:00, 593.85it/s]\n",
      "  0%|          | 1/293 [00:00<00:36,  7.99it/s]"
     ]
    },
    {
     "name": "stdout",
     "output_type": "stream",
     "text": [
      "accuray: 0.2654\n"
     ]
    },
    {
     "name": "stderr",
     "output_type": "stream",
     "text": [
      "100%|██████████| 293/293 [00:32<00:00,  8.88it/s] \n",
      "  3%|▎         | 40/1250 [00:00<00:03, 391.80it/s]"
     ]
    },
    {
     "name": "stdout",
     "output_type": "stream",
     "text": [
      "epoch_loss/batch_ct=0.05984920341639765\n",
      "tensor(0.1179, device='cuda:0', grad_fn=<SmoothL1LossBackward0>)\n"
     ]
    },
    {
     "name": "stderr",
     "output_type": "stream",
     "text": [
      "100%|██████████| 1250/1250 [00:02<00:00, 571.56it/s]\n",
      "  0%|          | 1/293 [00:00<00:40,  7.14it/s]"
     ]
    },
    {
     "name": "stdout",
     "output_type": "stream",
     "text": [
      "accuray: 0.2696\n"
     ]
    },
    {
     "name": "stderr",
     "output_type": "stream",
     "text": [
      "100%|██████████| 293/293 [00:31<00:00,  9.31it/s]\n",
      "  9%|▊         | 109/1250 [00:00<00:02, 543.95it/s]"
     ]
    },
    {
     "name": "stdout",
     "output_type": "stream",
     "text": [
      "epoch_loss/batch_ct=0.059806354255193754\n",
      "tensor(0.1185, device='cuda:0', grad_fn=<SmoothL1LossBackward0>)\n"
     ]
    },
    {
     "name": "stderr",
     "output_type": "stream",
     "text": [
      "100%|██████████| 1250/1250 [00:02<00:00, 595.26it/s]\n",
      "  0%|          | 1/293 [00:00<00:37,  7.74it/s]"
     ]
    },
    {
     "name": "stdout",
     "output_type": "stream",
     "text": [
      "accuray: 0.2677\n"
     ]
    },
    {
     "name": "stderr",
     "output_type": "stream",
     "text": [
      "100%|██████████| 293/293 [00:31<00:00,  9.35it/s] \n",
      "  4%|▍         | 50/1250 [00:00<00:02, 494.59it/s]"
     ]
    },
    {
     "name": "stdout",
     "output_type": "stream",
     "text": [
      "epoch_loss/batch_ct=0.059835413337818215\n",
      "tensor(0.1181, device='cuda:0', grad_fn=<SmoothL1LossBackward0>)\n"
     ]
    },
    {
     "name": "stderr",
     "output_type": "stream",
     "text": [
      "100%|██████████| 1250/1250 [00:02<00:00, 586.32it/s]\n",
      "  0%|          | 1/293 [00:00<00:36,  7.93it/s]"
     ]
    },
    {
     "name": "stdout",
     "output_type": "stream",
     "text": [
      "accuray: 0.2644\n"
     ]
    },
    {
     "name": "stderr",
     "output_type": "stream",
     "text": [
      "100%|██████████| 293/293 [00:31<00:00,  9.39it/s] \n",
      "  8%|▊         | 102/1250 [00:00<00:02, 507.45it/s]"
     ]
    },
    {
     "name": "stdout",
     "output_type": "stream",
     "text": [
      "epoch_loss/batch_ct=0.059924114214640764\n",
      "tensor(0.1184, device='cuda:0', grad_fn=<SmoothL1LossBackward0>)\n"
     ]
    },
    {
     "name": "stderr",
     "output_type": "stream",
     "text": [
      "100%|██████████| 1250/1250 [00:02<00:00, 592.44it/s]\n",
      "  0%|          | 1/293 [00:00<00:35,  8.26it/s]"
     ]
    },
    {
     "name": "stdout",
     "output_type": "stream",
     "text": [
      "accuray: 0.2675\n"
     ]
    },
    {
     "name": "stderr",
     "output_type": "stream",
     "text": [
      "100%|██████████| 293/293 [00:31<00:00,  9.32it/s] \n",
      "  4%|▍         | 54/1250 [00:00<00:02, 539.51it/s]"
     ]
    },
    {
     "name": "stdout",
     "output_type": "stream",
     "text": [
      "epoch_loss/batch_ct=0.05988759483905539\n",
      "tensor(0.1197, device='cuda:0', grad_fn=<SmoothL1LossBackward0>)\n"
     ]
    },
    {
     "name": "stderr",
     "output_type": "stream",
     "text": [
      "100%|██████████| 1250/1250 [00:02<00:00, 589.36it/s]\n",
      "  0%|          | 1/293 [00:00<00:37,  7.81it/s]"
     ]
    },
    {
     "name": "stdout",
     "output_type": "stream",
     "text": [
      "accuray: 0.2628\n"
     ]
    },
    {
     "name": "stderr",
     "output_type": "stream",
     "text": [
      "100%|██████████| 293/293 [00:32<00:00,  8.92it/s] \n",
      "  3%|▎         | 43/1250 [00:00<00:02, 429.61it/s]"
     ]
    },
    {
     "name": "stdout",
     "output_type": "stream",
     "text": [
      "epoch_loss/batch_ct=0.05989329753414033\n",
      "tensor(0.1174, device='cuda:0', grad_fn=<SmoothL1LossBackward0>)\n"
     ]
    },
    {
     "name": "stderr",
     "output_type": "stream",
     "text": [
      "100%|██████████| 1250/1250 [00:02<00:00, 576.58it/s]\n",
      "  0%|          | 1/293 [00:00<00:36,  7.99it/s]"
     ]
    },
    {
     "name": "stdout",
     "output_type": "stream",
     "text": [
      "accuray: 0.2664\n"
     ]
    },
    {
     "name": "stderr",
     "output_type": "stream",
     "text": [
      "100%|██████████| 293/293 [00:31<00:00,  9.37it/s] \n",
      "  4%|▍         | 47/1250 [00:00<00:02, 469.57it/s]"
     ]
    },
    {
     "name": "stdout",
     "output_type": "stream",
     "text": [
      "epoch_loss/batch_ct=0.05975671996554685\n",
      "tensor(0.1196, device='cuda:0', grad_fn=<SmoothL1LossBackward0>)\n"
     ]
    },
    {
     "name": "stderr",
     "output_type": "stream",
     "text": [
      "100%|██████████| 1250/1250 [00:02<00:00, 580.87it/s]\n",
      "  0%|          | 1/293 [00:00<00:36,  7.93it/s]"
     ]
    },
    {
     "name": "stdout",
     "output_type": "stream",
     "text": [
      "accuray: 0.269\n"
     ]
    },
    {
     "name": "stderr",
     "output_type": "stream",
     "text": [
      "100%|██████████| 293/293 [00:31<00:00,  9.23it/s] \n",
      "  4%|▍         | 49/1250 [00:00<00:02, 489.56it/s]"
     ]
    },
    {
     "name": "stdout",
     "output_type": "stream",
     "text": [
      "epoch_loss/batch_ct=0.059793487560772705\n",
      "tensor(0.1170, device='cuda:0', grad_fn=<SmoothL1LossBackward0>)\n"
     ]
    },
    {
     "name": "stderr",
     "output_type": "stream",
     "text": [
      "100%|██████████| 1250/1250 [00:02<00:00, 581.14it/s]\n",
      "  0%|          | 1/293 [00:00<00:37,  7.74it/s]"
     ]
    },
    {
     "name": "stdout",
     "output_type": "stream",
     "text": [
      "accuray: 0.2645\n"
     ]
    },
    {
     "name": "stderr",
     "output_type": "stream",
     "text": [
      "100%|██████████| 293/293 [00:31<00:00,  9.33it/s] \n",
      "  3%|▎         | 42/1250 [00:00<00:02, 415.46it/s]"
     ]
    },
    {
     "name": "stdout",
     "output_type": "stream",
     "text": [
      "epoch_loss/batch_ct=0.059882404134860116\n",
      "tensor(0.1166, device='cuda:0', grad_fn=<SmoothL1LossBackward0>)\n"
     ]
    },
    {
     "name": "stderr",
     "output_type": "stream",
     "text": [
      "100%|██████████| 1250/1250 [00:02<00:00, 575.78it/s]\n",
      "  0%|          | 1/293 [00:00<00:35,  8.26it/s]"
     ]
    },
    {
     "name": "stdout",
     "output_type": "stream",
     "text": [
      "accuray: 0.2661\n"
     ]
    },
    {
     "name": "stderr",
     "output_type": "stream",
     "text": [
      "100%|██████████| 293/293 [00:31<00:00,  9.27it/s]\n",
      "  4%|▍         | 50/1250 [00:00<00:02, 484.99it/s]"
     ]
    },
    {
     "name": "stdout",
     "output_type": "stream",
     "text": [
      "epoch_loss/batch_ct=0.05980440143436667\n",
      "tensor(0.1205, device='cuda:0', grad_fn=<SmoothL1LossBackward0>)\n"
     ]
    },
    {
     "name": "stderr",
     "output_type": "stream",
     "text": [
      "100%|██████████| 1250/1250 [00:02<00:00, 580.87it/s]\n",
      "  0%|          | 1/293 [00:00<00:35,  8.26it/s]"
     ]
    },
    {
     "name": "stdout",
     "output_type": "stream",
     "text": [
      "accuray: 0.2675\n"
     ]
    },
    {
     "name": "stderr",
     "output_type": "stream",
     "text": [
      "100%|██████████| 293/293 [00:33<00:00,  8.77it/s] \n",
      "  4%|▍         | 50/1250 [00:00<00:02, 499.55it/s]"
     ]
    },
    {
     "name": "stdout",
     "output_type": "stream",
     "text": [
      "epoch_loss/batch_ct=0.059860281454074\n",
      "tensor(0.1190, device='cuda:0', grad_fn=<SmoothL1LossBackward0>)\n"
     ]
    },
    {
     "name": "stderr",
     "output_type": "stream",
     "text": [
      "100%|██████████| 1250/1250 [00:02<00:00, 583.58it/s]\n",
      "  0%|          | 1/293 [00:00<00:35,  8.12it/s]"
     ]
    },
    {
     "name": "stdout",
     "output_type": "stream",
     "text": [
      "accuray: 0.2665\n"
     ]
    },
    {
     "name": "stderr",
     "output_type": "stream",
     "text": [
      "100%|██████████| 293/293 [00:31<00:00,  9.34it/s] \n",
      "  8%|▊         | 97/1250 [00:00<00:02, 487.20it/s]"
     ]
    },
    {
     "name": "stdout",
     "output_type": "stream",
     "text": [
      "epoch_loss/batch_ct=0.05979377662556039\n",
      "tensor(0.1185, device='cuda:0', grad_fn=<SmoothL1LossBackward0>)\n"
     ]
    },
    {
     "name": "stderr",
     "output_type": "stream",
     "text": [
      "100%|██████████| 1250/1250 [00:02<00:00, 583.58it/s]\n",
      "  0%|          | 1/293 [00:00<00:35,  8.12it/s]"
     ]
    },
    {
     "name": "stdout",
     "output_type": "stream",
     "text": [
      "accuray: 0.2684\n"
     ]
    },
    {
     "name": "stderr",
     "output_type": "stream",
     "text": [
      "100%|██████████| 293/293 [00:31<00:00,  9.37it/s] \n",
      "  8%|▊         | 96/1250 [00:00<00:02, 481.11it/s]"
     ]
    },
    {
     "name": "stdout",
     "output_type": "stream",
     "text": [
      "epoch_loss/batch_ct=0.05989460926502943\n",
      "tensor(0.1189, device='cuda:0', grad_fn=<SmoothL1LossBackward0>)\n"
     ]
    },
    {
     "name": "stderr",
     "output_type": "stream",
     "text": [
      "100%|██████████| 1250/1250 [00:02<00:00, 574.98it/s]\n",
      "  0%|          | 1/293 [00:00<00:37,  7.87it/s]"
     ]
    },
    {
     "name": "stdout",
     "output_type": "stream",
     "text": [
      "accuray: 0.2637\n"
     ]
    },
    {
     "name": "stderr",
     "output_type": "stream",
     "text": [
      "100%|██████████| 293/293 [00:33<00:00,  8.77it/s]\n",
      "  7%|▋         | 86/1250 [00:00<00:02, 429.61it/s]"
     ]
    },
    {
     "name": "stdout",
     "output_type": "stream",
     "text": [
      "epoch_loss/batch_ct=0.05983233890895333\n",
      "tensor(0.1189, device='cuda:0', grad_fn=<SmoothL1LossBackward0>)\n"
     ]
    },
    {
     "name": "stderr",
     "output_type": "stream",
     "text": [
      "100%|██████████| 1250/1250 [00:02<00:00, 575.25it/s]\n",
      "  0%|          | 1/293 [00:00<00:38,  7.51it/s]"
     ]
    },
    {
     "name": "stdout",
     "output_type": "stream",
     "text": [
      "accuray: 0.264\n"
     ]
    },
    {
     "name": "stderr",
     "output_type": "stream",
     "text": [
      "100%|██████████| 293/293 [00:31<00:00,  9.30it/s] \n",
      "  4%|▍         | 48/1250 [00:00<00:02, 479.56it/s]"
     ]
    },
    {
     "name": "stdout",
     "output_type": "stream",
     "text": [
      "epoch_loss/batch_ct=0.05976101161823386\n",
      "tensor(0.1199, device='cuda:0', grad_fn=<SmoothL1LossBackward0>)\n"
     ]
    },
    {
     "name": "stderr",
     "output_type": "stream",
     "text": [
      "100%|██████████| 1250/1250 [00:02<00:00, 583.58it/s]\n",
      "  0%|          | 0/293 [00:00<?, ?it/s]"
     ]
    },
    {
     "name": "stdout",
     "output_type": "stream",
     "text": [
      "accuray: 0.2656\n"
     ]
    },
    {
     "name": "stderr",
     "output_type": "stream",
     "text": [
      "100%|██████████| 293/293 [00:32<00:00,  8.89it/s] \n",
      "  4%|▍         | 55/1250 [00:00<00:02, 544.06it/s]"
     ]
    },
    {
     "name": "stdout",
     "output_type": "stream",
     "text": [
      "epoch_loss/batch_ct=0.05980552431373369\n",
      "tensor(0.1190, device='cuda:0', grad_fn=<SmoothL1LossBackward0>)\n"
     ]
    },
    {
     "name": "stderr",
     "output_type": "stream",
     "text": [
      "100%|██████████| 1250/1250 [00:02<00:00, 588.53it/s]\n",
      "  0%|          | 1/293 [00:00<00:36,  7.99it/s]"
     ]
    },
    {
     "name": "stdout",
     "output_type": "stream",
     "text": [
      "accuray: 0.267\n"
     ]
    },
    {
     "name": "stderr",
     "output_type": "stream",
     "text": [
      "100%|██████████| 293/293 [00:31<00:00,  9.24it/s] \n",
      " 11%|█         | 138/1250 [00:00<00:01, 674.69it/s]"
     ]
    },
    {
     "name": "stdout",
     "output_type": "stream",
     "text": [
      "epoch_loss/batch_ct=0.059898378519666576\n",
      "tensor(0.1185, device='cuda:0', grad_fn=<SmoothL1LossBackward0>)\n"
     ]
    },
    {
     "name": "stderr",
     "output_type": "stream",
     "text": [
      "100%|██████████| 1250/1250 [00:01<00:00, 640.44it/s]\n",
      "  0%|          | 1/293 [00:00<00:34,  8.54it/s]"
     ]
    },
    {
     "name": "stdout",
     "output_type": "stream",
     "text": [
      "accuray: 0.2659\n"
     ]
    },
    {
     "name": "stderr",
     "output_type": "stream",
     "text": [
      "100%|██████████| 293/293 [00:31<00:00,  9.35it/s] \n",
      "  9%|▉         | 110/1250 [00:00<00:02, 549.50it/s]"
     ]
    },
    {
     "name": "stdout",
     "output_type": "stream",
     "text": [
      "epoch_loss/batch_ct=0.059852839314511845\n",
      "tensor(0.1183, device='cuda:0', grad_fn=<SmoothL1LossBackward0>)\n"
     ]
    },
    {
     "name": "stderr",
     "output_type": "stream",
     "text": [
      "100%|██████████| 1250/1250 [00:02<00:00, 597.54it/s]\n",
      "  0%|          | 1/293 [00:00<00:34,  8.40it/s]"
     ]
    },
    {
     "name": "stdout",
     "output_type": "stream",
     "text": [
      "accuray: 0.2674\n"
     ]
    },
    {
     "name": "stderr",
     "output_type": "stream",
     "text": [
      "100%|██████████| 293/293 [00:33<00:00,  8.80it/s] \n",
      "  4%|▍         | 55/1250 [00:00<00:02, 544.06it/s]"
     ]
    },
    {
     "name": "stdout",
     "output_type": "stream",
     "text": [
      "epoch_loss/batch_ct=0.059852821545468435\n",
      "tensor(0.1172, device='cuda:0', grad_fn=<SmoothL1LossBackward0>)\n"
     ]
    },
    {
     "name": "stderr",
     "output_type": "stream",
     "text": [
      "100%|██████████| 1250/1250 [00:02<00:00, 593.28it/s]\n",
      "  0%|          | 1/293 [00:00<00:35,  8.12it/s]"
     ]
    },
    {
     "name": "stdout",
     "output_type": "stream",
     "text": [
      "accuray: 0.2638\n"
     ]
    },
    {
     "name": "stderr",
     "output_type": "stream",
     "text": [
      "100%|██████████| 293/293 [00:30<00:00,  9.51it/s]\n",
      "  7%|▋         | 83/1250 [00:00<00:02, 414.83it/s]"
     ]
    },
    {
     "name": "stdout",
     "output_type": "stream",
     "text": [
      "epoch_loss/batch_ct=0.059864432210960085\n",
      "tensor(0.1183, device='cuda:0', grad_fn=<SmoothL1LossBackward0>)\n"
     ]
    },
    {
     "name": "stderr",
     "output_type": "stream",
     "text": [
      "100%|██████████| 1250/1250 [00:02<00:00, 573.40it/s]\n",
      "  0%|          | 1/293 [00:00<00:38,  7.57it/s]"
     ]
    },
    {
     "name": "stdout",
     "output_type": "stream",
     "text": [
      "accuray: 0.2657\n"
     ]
    },
    {
     "name": "stderr",
     "output_type": "stream",
     "text": [
      "100%|██████████| 293/293 [00:33<00:00,  8.86it/s] \n",
      "  7%|▋         | 88/1250 [00:00<00:02, 438.78it/s]"
     ]
    },
    {
     "name": "stdout",
     "output_type": "stream",
     "text": [
      "epoch_loss/batch_ct=0.05986924095463658\n",
      "tensor(0.1186, device='cuda:0', grad_fn=<SmoothL1LossBackward0>)\n"
     ]
    },
    {
     "name": "stderr",
     "output_type": "stream",
     "text": [
      "100%|██████████| 1250/1250 [00:02<00:00, 560.03it/s]\n",
      "  0%|          | 1/293 [00:00<00:35,  8.26it/s]"
     ]
    },
    {
     "name": "stdout",
     "output_type": "stream",
     "text": [
      "accuray: 0.2698\n"
     ]
    },
    {
     "name": "stderr",
     "output_type": "stream",
     "text": [
      "100%|██████████| 293/293 [00:31<00:00,  9.31it/s] \n",
      "  4%|▎         | 44/1250 [00:00<00:02, 435.25it/s]"
     ]
    },
    {
     "name": "stdout",
     "output_type": "stream",
     "text": [
      "epoch_loss/batch_ct=0.05985098326253512\n",
      "tensor(0.1194, device='cuda:0', grad_fn=<SmoothL1LossBackward0>)\n"
     ]
    },
    {
     "name": "stderr",
     "output_type": "stream",
     "text": [
      "100%|██████████| 1250/1250 [00:02<00:00, 574.72it/s]\n",
      "  0%|          | 1/293 [00:00<00:36,  7.99it/s]"
     ]
    },
    {
     "name": "stdout",
     "output_type": "stream",
     "text": [
      "accuray: 0.2644\n"
     ]
    },
    {
     "name": "stderr",
     "output_type": "stream",
     "text": [
      "100%|██████████| 293/293 [00:31<00:00,  9.45it/s] \n",
      " 11%|█         | 138/1250 [00:00<00:01, 678.59it/s]"
     ]
    },
    {
     "name": "stdout",
     "output_type": "stream",
     "text": [
      "epoch_loss/batch_ct=0.05980351247957775\n",
      "tensor(0.1171, device='cuda:0', grad_fn=<SmoothL1LossBackward0>)\n"
     ]
    },
    {
     "name": "stderr",
     "output_type": "stream",
     "text": [
      "100%|██████████| 1250/1250 [00:01<00:00, 640.77it/s]\n",
      "  0%|          | 1/293 [00:00<00:33,  8.61it/s]"
     ]
    },
    {
     "name": "stdout",
     "output_type": "stream",
     "text": [
      "accuray: 0.2681\n"
     ]
    },
    {
     "name": "stderr",
     "output_type": "stream",
     "text": [
      "100%|██████████| 293/293 [00:32<00:00,  8.88it/s]\n",
      "  4%|▎         | 45/1250 [00:00<00:02, 449.59it/s]"
     ]
    },
    {
     "name": "stdout",
     "output_type": "stream",
     "text": [
      "epoch_loss/batch_ct=0.05985496785964758\n",
      "tensor(0.1174, device='cuda:0', grad_fn=<SmoothL1LossBackward0>)\n"
     ]
    },
    {
     "name": "stderr",
     "output_type": "stream",
     "text": [
      "100%|██████████| 1250/1250 [00:02<00:00, 579.25it/s]\n",
      "  0%|          | 1/293 [00:00<00:35,  8.12it/s]"
     ]
    },
    {
     "name": "stdout",
     "output_type": "stream",
     "text": [
      "accuray: 0.267\n"
     ]
    },
    {
     "name": "stderr",
     "output_type": "stream",
     "text": [
      "100%|██████████| 293/293 [00:30<00:00,  9.46it/s] \n",
      "  8%|▊         | 97/1250 [00:00<00:02, 485.44it/s]"
     ]
    },
    {
     "name": "stdout",
     "output_type": "stream",
     "text": [
      "epoch_loss/batch_ct=0.059815502710758695\n",
      "tensor(0.1213, device='cuda:0', grad_fn=<SmoothL1LossBackward0>)\n"
     ]
    },
    {
     "name": "stderr",
     "output_type": "stream",
     "text": [
      "100%|██████████| 1250/1250 [00:02<00:00, 576.84it/s]\n",
      "  0%|          | 1/293 [00:00<00:35,  8.12it/s]"
     ]
    },
    {
     "name": "stdout",
     "output_type": "stream",
     "text": [
      "accuray: 0.2684\n"
     ]
    },
    {
     "name": "stderr",
     "output_type": "stream",
     "text": [
      "100%|██████████| 293/293 [00:31<00:00,  9.44it/s] \n",
      "  7%|▋         | 91/1250 [00:00<00:02, 454.56it/s]"
     ]
    },
    {
     "name": "stdout",
     "output_type": "stream",
     "text": [
      "epoch_loss/batch_ct=0.0598671966572366\n",
      "tensor(0.1196, device='cuda:0', grad_fn=<SmoothL1LossBackward0>)\n"
     ]
    },
    {
     "name": "stderr",
     "output_type": "stream",
     "text": [
      "100%|██████████| 1250/1250 [00:02<00:00, 580.60it/s]\n",
      "  0%|          | 1/293 [00:00<00:35,  8.19it/s]"
     ]
    },
    {
     "name": "stdout",
     "output_type": "stream",
     "text": [
      "accuray: 0.2669\n"
     ]
    },
    {
     "name": "stderr",
     "output_type": "stream",
     "text": [
      "100%|██████████| 293/293 [00:33<00:00,  8.81it/s]\n",
      "  7%|▋         | 89/1250 [00:00<00:02, 445.48it/s]"
     ]
    },
    {
     "name": "stdout",
     "output_type": "stream",
     "text": [
      "epoch_loss/batch_ct=0.05990906803321744\n",
      "tensor(0.1189, device='cuda:0', grad_fn=<SmoothL1LossBackward0>)\n"
     ]
    },
    {
     "name": "stderr",
     "output_type": "stream",
     "text": [
      "100%|██████████| 1250/1250 [00:02<00:00, 574.72it/s]\n",
      "  0%|          | 1/293 [00:00<00:35,  8.33it/s]"
     ]
    },
    {
     "name": "stdout",
     "output_type": "stream",
     "text": [
      "accuray: 0.267\n"
     ]
    },
    {
     "name": "stderr",
     "output_type": "stream",
     "text": [
      "100%|██████████| 293/293 [00:31<00:00,  9.27it/s] \n",
      "  5%|▍         | 57/1250 [00:00<00:02, 569.48it/s]"
     ]
    },
    {
     "name": "stdout",
     "output_type": "stream",
     "text": [
      "epoch_loss/batch_ct=0.05977784984168552\n",
      "tensor(0.1173, device='cuda:0', grad_fn=<SmoothL1LossBackward0>)\n"
     ]
    },
    {
     "name": "stderr",
     "output_type": "stream",
     "text": [
      "100%|██████████| 1250/1250 [00:02<00:00, 598.69it/s]\n",
      "  0%|          | 1/293 [00:00<00:37,  7.87it/s]"
     ]
    },
    {
     "name": "stdout",
     "output_type": "stream",
     "text": [
      "accuray: 0.2683\n"
     ]
    },
    {
     "name": "stderr",
     "output_type": "stream",
     "text": [
      "100%|██████████| 293/293 [00:30<00:00,  9.49it/s] \n",
      "  8%|▊         | 100/1250 [00:00<00:02, 501.01it/s]"
     ]
    },
    {
     "name": "stdout",
     "output_type": "stream",
     "text": [
      "epoch_loss/batch_ct=0.05981295591308957\n",
      "tensor(0.1186, device='cuda:0', grad_fn=<SmoothL1LossBackward0>)\n"
     ]
    },
    {
     "name": "stderr",
     "output_type": "stream",
     "text": [
      "100%|██████████| 1250/1250 [00:02<00:00, 584.40it/s]\n",
      "  0%|          | 1/293 [00:00<00:37,  7.81it/s]"
     ]
    },
    {
     "name": "stdout",
     "output_type": "stream",
     "text": [
      "accuray: 0.2697\n"
     ]
    },
    {
     "name": "stderr",
     "output_type": "stream",
     "text": [
      "100%|██████████| 293/293 [00:31<00:00,  9.30it/s] \n",
      "  3%|▎         | 42/1250 [00:00<00:02, 411.39it/s]"
     ]
    },
    {
     "name": "stdout",
     "output_type": "stream",
     "text": [
      "epoch_loss/batch_ct=0.05979101754547585\n",
      "tensor(0.1186, device='cuda:0', grad_fn=<SmoothL1LossBackward0>)\n"
     ]
    },
    {
     "name": "stderr",
     "output_type": "stream",
     "text": [
      "100%|██████████| 1250/1250 [00:02<00:00, 572.35it/s]\n",
      "  0%|          | 1/293 [00:00<00:36,  7.99it/s]"
     ]
    },
    {
     "name": "stdout",
     "output_type": "stream",
     "text": [
      "accuray: 0.2756\n"
     ]
    },
    {
     "name": "stderr",
     "output_type": "stream",
     "text": [
      "100%|██████████| 293/293 [00:31<00:00,  9.26it/s] \n",
      "  3%|▎         | 42/1250 [00:00<00:02, 415.46it/s]"
     ]
    },
    {
     "name": "stdout",
     "output_type": "stream",
     "text": [
      "epoch_loss/batch_ct=0.059793253355319535\n",
      "tensor(0.1195, device='cuda:0', grad_fn=<SmoothL1LossBackward0>)\n"
     ]
    },
    {
     "name": "stderr",
     "output_type": "stream",
     "text": [
      "100%|██████████| 1250/1250 [00:02<00:00, 577.91it/s]\n",
      "  0%|          | 1/293 [00:00<00:35,  8.26it/s]"
     ]
    },
    {
     "name": "stdout",
     "output_type": "stream",
     "text": [
      "accuray: 0.2706\n"
     ]
    },
    {
     "name": "stderr",
     "output_type": "stream",
     "text": [
      "100%|██████████| 293/293 [00:33<00:00,  8.75it/s] \n",
      " 10%|▉         | 122/1250 [00:00<00:01, 605.88it/s]"
     ]
    },
    {
     "name": "stdout",
     "output_type": "stream",
     "text": [
      "epoch_loss/batch_ct=0.05983842374195182\n",
      "tensor(0.1195, device='cuda:0', grad_fn=<SmoothL1LossBackward0>)\n"
     ]
    },
    {
     "name": "stderr",
     "output_type": "stream",
     "text": [
      "100%|██████████| 1250/1250 [00:02<00:00, 605.95it/s]\n",
      "  0%|          | 1/293 [00:00<00:35,  8.33it/s]"
     ]
    },
    {
     "name": "stdout",
     "output_type": "stream",
     "text": [
      "accuray: 0.2662\n"
     ]
    },
    {
     "name": "stderr",
     "output_type": "stream",
     "text": [
      "100%|██████████| 293/293 [00:31<00:00,  9.29it/s]\n",
      "  3%|▎         | 43/1250 [00:00<00:02, 429.61it/s]"
     ]
    },
    {
     "name": "stdout",
     "output_type": "stream",
     "text": [
      "epoch_loss/batch_ct=0.05984925465392215\n",
      "tensor(0.1186, device='cuda:0', grad_fn=<SmoothL1LossBackward0>)\n"
     ]
    },
    {
     "name": "stderr",
     "output_type": "stream",
     "text": [
      "100%|██████████| 1250/1250 [00:02<00:00, 578.18it/s]\n",
      "  0%|          | 1/293 [00:00<00:35,  8.26it/s]"
     ]
    },
    {
     "name": "stdout",
     "output_type": "stream",
     "text": [
      "accuray: 0.2662\n"
     ]
    },
    {
     "name": "stderr",
     "output_type": "stream",
     "text": [
      "100%|██████████| 293/293 [00:31<00:00,  9.32it/s] \n",
      "  3%|▎         | 43/1250 [00:00<00:02, 421.19it/s]"
     ]
    },
    {
     "name": "stdout",
     "output_type": "stream",
     "text": [
      "epoch_loss/batch_ct=0.05994528137324821\n",
      "tensor(0.1186, device='cuda:0', grad_fn=<SmoothL1LossBackward0>)\n"
     ]
    },
    {
     "name": "stderr",
     "output_type": "stream",
     "text": [
      "100%|██████████| 1250/1250 [00:02<00:00, 567.92it/s]\n",
      "  0%|          | 1/293 [00:00<00:35,  8.19it/s]"
     ]
    },
    {
     "name": "stdout",
     "output_type": "stream",
     "text": [
      "accuray: 0.2638\n"
     ]
    },
    {
     "name": "stderr",
     "output_type": "stream",
     "text": [
      "100%|██████████| 293/293 [00:33<00:00,  8.85it/s]\n",
      "  5%|▌         | 68/1250 [00:00<00:01, 679.38it/s]"
     ]
    },
    {
     "name": "stdout",
     "output_type": "stream",
     "text": [
      "epoch_loss/batch_ct=0.059809085306903674\n",
      "tensor(0.1201, device='cuda:0', grad_fn=<SmoothL1LossBackward0>)\n"
     ]
    },
    {
     "name": "stderr",
     "output_type": "stream",
     "text": [
      "100%|██████████| 1250/1250 [00:02<00:00, 614.90it/s]\n",
      "  0%|          | 1/293 [00:00<00:35,  8.12it/s]"
     ]
    },
    {
     "name": "stdout",
     "output_type": "stream",
     "text": [
      "accuray: 0.267\n"
     ]
    },
    {
     "name": "stderr",
     "output_type": "stream",
     "text": [
      "100%|██████████| 293/293 [00:31<00:00,  9.29it/s] \n",
      "  4%|▍         | 52/1250 [00:00<00:02, 519.52it/s]"
     ]
    },
    {
     "name": "stdout",
     "output_type": "stream",
     "text": [
      "epoch_loss/batch_ct=0.059894317583668796\n",
      "tensor(0.1159, device='cuda:0', grad_fn=<SmoothL1LossBackward0>)\n"
     ]
    },
    {
     "name": "stderr",
     "output_type": "stream",
     "text": [
      "100%|██████████| 1250/1250 [00:02<00:00, 591.60it/s]\n",
      "  0%|          | 1/293 [00:00<00:37,  7.87it/s]"
     ]
    },
    {
     "name": "stdout",
     "output_type": "stream",
     "text": [
      "accuray: 0.2635\n"
     ]
    },
    {
     "name": "stderr",
     "output_type": "stream",
     "text": [
      "100%|██████████| 293/293 [00:33<00:00,  8.88it/s] \n",
      " 11%|█         | 138/1250 [00:00<00:01, 689.37it/s]"
     ]
    },
    {
     "name": "stdout",
     "output_type": "stream",
     "text": [
      "epoch_loss/batch_ct=0.059868488342516006\n",
      "tensor(0.1189, device='cuda:0', grad_fn=<SmoothL1LossBackward0>)\n"
     ]
    },
    {
     "name": "stderr",
     "output_type": "stream",
     "text": [
      "100%|██████████| 1250/1250 [00:01<00:00, 637.83it/s]\n",
      "  0%|          | 1/293 [00:00<00:35,  8.26it/s]"
     ]
    },
    {
     "name": "stdout",
     "output_type": "stream",
     "text": [
      "accuray: 0.2671\n"
     ]
    },
    {
     "name": "stderr",
     "output_type": "stream",
     "text": [
      "100%|██████████| 293/293 [00:31<00:00,  9.37it/s] \n",
      "  8%|▊         | 94/1250 [00:00<00:02, 470.16it/s]"
     ]
    },
    {
     "name": "stdout",
     "output_type": "stream",
     "text": [
      "epoch_loss/batch_ct=0.05987040221040684\n",
      "tensor(0.1178, device='cuda:0', grad_fn=<SmoothL1LossBackward0>)\n"
     ]
    },
    {
     "name": "stderr",
     "output_type": "stream",
     "text": [
      "100%|██████████| 1250/1250 [00:02<00:00, 572.35it/s]\n",
      "  0%|          | 1/293 [00:00<00:36,  7.93it/s]"
     ]
    },
    {
     "name": "stdout",
     "output_type": "stream",
     "text": [
      "accuray: 0.259\n"
     ]
    },
    {
     "name": "stderr",
     "output_type": "stream",
     "text": [
      "100%|██████████| 293/293 [00:31<00:00,  9.37it/s] \n",
      "  7%|▋         | 93/1250 [00:00<00:02, 468.99it/s]"
     ]
    },
    {
     "name": "stdout",
     "output_type": "stream",
     "text": [
      "epoch_loss/batch_ct=0.05997563883780487\n",
      "tensor(0.1178, device='cuda:0', grad_fn=<SmoothL1LossBackward0>)\n"
     ]
    },
    {
     "name": "stderr",
     "output_type": "stream",
     "text": [
      "100%|██████████| 1250/1250 [00:02<00:00, 572.09it/s]\n",
      "  0%|          | 1/293 [00:00<00:35,  8.12it/s]"
     ]
    },
    {
     "name": "stdout",
     "output_type": "stream",
     "text": [
      "accuray: 0.2689\n"
     ]
    },
    {
     "name": "stderr",
     "output_type": "stream",
     "text": [
      "100%|██████████| 293/293 [00:33<00:00,  8.84it/s] \n",
      " 11%|█         | 136/1250 [00:00<00:01, 671.48it/s]"
     ]
    },
    {
     "name": "stdout",
     "output_type": "stream",
     "text": [
      "epoch_loss/batch_ct=0.05989363561901781\n",
      "tensor(0.1183, device='cuda:0', grad_fn=<SmoothL1LossBackward0>)\n"
     ]
    },
    {
     "name": "stderr",
     "output_type": "stream",
     "text": [
      "100%|██████████| 1250/1250 [00:01<00:00, 653.51it/s]\n",
      "  0%|          | 1/293 [00:00<00:39,  7.40it/s]"
     ]
    },
    {
     "name": "stdout",
     "output_type": "stream",
     "text": [
      "accuray: 0.265\n"
     ]
    },
    {
     "name": "stderr",
     "output_type": "stream",
     "text": [
      "100%|██████████| 293/293 [00:31<00:00,  9.26it/s] \n",
      "  7%|▋         | 91/1250 [00:00<00:02, 455.40it/s]"
     ]
    },
    {
     "name": "stdout",
     "output_type": "stream",
     "text": [
      "epoch_loss/batch_ct=0.05990466264091314\n",
      "tensor(0.1200, device='cuda:0', grad_fn=<SmoothL1LossBackward0>)\n"
     ]
    },
    {
     "name": "stderr",
     "output_type": "stream",
     "text": [
      "100%|██████████| 1250/1250 [00:02<00:00, 577.91it/s]\n",
      "  0%|          | 1/293 [00:00<00:35,  8.33it/s]"
     ]
    },
    {
     "name": "stdout",
     "output_type": "stream",
     "text": [
      "accuray: 0.2656\n"
     ]
    },
    {
     "name": "stderr",
     "output_type": "stream",
     "text": [
      "100%|██████████| 293/293 [00:30<00:00,  9.50it/s] \n",
      "  9%|▊         | 108/1250 [00:00<00:02, 539.51it/s]"
     ]
    },
    {
     "name": "stdout",
     "output_type": "stream",
     "text": [
      "epoch_loss/batch_ct=0.059889617449943984\n",
      "tensor(0.1170, device='cuda:0', grad_fn=<SmoothL1LossBackward0>)\n"
     ]
    },
    {
     "name": "stderr",
     "output_type": "stream",
     "text": [
      "100%|██████████| 1250/1250 [00:02<00:00, 591.60it/s]\n",
      "  0%|          | 1/293 [00:00<00:43,  6.71it/s]"
     ]
    },
    {
     "name": "stdout",
     "output_type": "stream",
     "text": [
      "accuray: 0.2686\n"
     ]
    },
    {
     "name": "stderr",
     "output_type": "stream",
     "text": [
      "100%|██████████| 293/293 [00:33<00:00,  8.83it/s] \n",
      "  6%|▌         | 69/1250 [00:00<00:01, 689.37it/s]"
     ]
    },
    {
     "name": "stdout",
     "output_type": "stream",
     "text": [
      "epoch_loss/batch_ct=0.059822802816236774\n",
      "tensor(0.1168, device='cuda:0', grad_fn=<SmoothL1LossBackward0>)\n"
     ]
    },
    {
     "name": "stderr",
     "output_type": "stream",
     "text": [
      "100%|██████████| 1250/1250 [00:01<00:00, 652.49it/s]\n",
      "  0%|          | 1/293 [00:00<00:38,  7.63it/s]"
     ]
    },
    {
     "name": "stdout",
     "output_type": "stream",
     "text": [
      "accuray: 0.2685\n"
     ]
    },
    {
     "name": "stderr",
     "output_type": "stream",
     "text": [
      "100%|██████████| 293/293 [00:31<00:00,  9.29it/s] \n",
      "  3%|▎         | 41/1250 [00:00<00:02, 405.57it/s]"
     ]
    },
    {
     "name": "stdout",
     "output_type": "stream",
     "text": [
      "epoch_loss/batch_ct=0.059919972416190875\n",
      "tensor(0.1185, device='cuda:0', grad_fn=<SmoothL1LossBackward0>)\n"
     ]
    },
    {
     "name": "stderr",
     "output_type": "stream",
     "text": [
      "100%|██████████| 1250/1250 [00:02<00:00, 575.51it/s]\n",
      "  0%|          | 1/293 [00:00<00:35,  8.12it/s]"
     ]
    },
    {
     "name": "stdout",
     "output_type": "stream",
     "text": [
      "accuray: 0.2664\n"
     ]
    },
    {
     "name": "stderr",
     "output_type": "stream",
     "text": [
      "100%|██████████| 293/293 [00:30<00:00,  9.45it/s] \n",
      "  8%|▊         | 99/1250 [00:00<00:02, 494.02it/s]"
     ]
    },
    {
     "name": "stdout",
     "output_type": "stream",
     "text": [
      "epoch_loss/batch_ct=0.059910327476996275\n",
      "tensor(0.1178, device='cuda:0', grad_fn=<SmoothL1LossBackward0>)\n"
     ]
    },
    {
     "name": "stderr",
     "output_type": "stream",
     "text": [
      "100%|██████████| 1250/1250 [00:02<00:00, 576.04it/s]\n",
      "  0%|          | 1/293 [00:00<00:36,  7.93it/s]"
     ]
    },
    {
     "name": "stdout",
     "output_type": "stream",
     "text": [
      "accuray: 0.2671\n"
     ]
    },
    {
     "name": "stderr",
     "output_type": "stream",
     "text": [
      "100%|██████████| 293/293 [00:31<00:00,  9.43it/s] \n",
      "  3%|▎         | 41/1250 [00:00<00:03, 397.70it/s]"
     ]
    },
    {
     "name": "stdout",
     "output_type": "stream",
     "text": [
      "epoch_loss/batch_ct=0.0598426948611935\n",
      "tensor(0.1181, device='cuda:0', grad_fn=<SmoothL1LossBackward0>)\n"
     ]
    },
    {
     "name": "stderr",
     "output_type": "stream",
     "text": [
      "100%|██████████| 1250/1250 [00:02<00:00, 572.35it/s]\n",
      "  0%|          | 1/293 [00:00<00:36,  7.99it/s]"
     ]
    },
    {
     "name": "stdout",
     "output_type": "stream",
     "text": [
      "accuray: 0.2661\n"
     ]
    },
    {
     "name": "stderr",
     "output_type": "stream",
     "text": [
      "100%|██████████| 293/293 [00:31<00:00,  9.37it/s] \n",
      "  8%|▊         | 98/1250 [00:00<00:02, 486.45it/s]"
     ]
    },
    {
     "name": "stdout",
     "output_type": "stream",
     "text": [
      "epoch_loss/batch_ct=0.05981715569006545\n",
      "tensor(0.1196, device='cuda:0', grad_fn=<SmoothL1LossBackward0>)\n"
     ]
    },
    {
     "name": "stderr",
     "output_type": "stream",
     "text": [
      "100%|██████████| 1250/1250 [00:02<00:00, 578.71it/s]\n",
      "  0%|          | 1/293 [00:00<00:35,  8.19it/s]"
     ]
    },
    {
     "name": "stdout",
     "output_type": "stream",
     "text": [
      "accuray: 0.265\n"
     ]
    },
    {
     "name": "stderr",
     "output_type": "stream",
     "text": [
      "100%|██████████| 293/293 [00:33<00:00,  8.71it/s] \n",
      "  4%|▍         | 54/1250 [00:00<00:02, 539.51it/s]"
     ]
    },
    {
     "name": "stdout",
     "output_type": "stream",
     "text": [
      "epoch_loss/batch_ct=0.05974873782150329\n",
      "tensor(0.1177, device='cuda:0', grad_fn=<SmoothL1LossBackward0>)\n"
     ]
    },
    {
     "name": "stderr",
     "output_type": "stream",
     "text": [
      "100%|██████████| 1250/1250 [00:02<00:00, 598.40it/s]\n",
      "  0%|          | 1/293 [00:00<00:36,  8.06it/s]"
     ]
    },
    {
     "name": "stdout",
     "output_type": "stream",
     "text": [
      "accuray: 0.2679\n"
     ]
    },
    {
     "name": "stderr",
     "output_type": "stream",
     "text": [
      "100%|██████████| 293/293 [00:31<00:00,  9.28it/s] \n",
      "  4%|▎         | 44/1250 [00:00<00:02, 439.59it/s]"
     ]
    },
    {
     "name": "stdout",
     "output_type": "stream",
     "text": [
      "epoch_loss/batch_ct=0.05983902874683577\n",
      "tensor(0.1165, device='cuda:0', grad_fn=<SmoothL1LossBackward0>)\n"
     ]
    },
    {
     "name": "stderr",
     "output_type": "stream",
     "text": [
      "100%|██████████| 1250/1250 [00:02<00:00, 567.15it/s]\n",
      "  0%|          | 1/293 [00:00<00:38,  7.57it/s]"
     ]
    },
    {
     "name": "stdout",
     "output_type": "stream",
     "text": [
      "accuray: 0.2707\n"
     ]
    },
    {
     "name": "stderr",
     "output_type": "stream",
     "text": [
      "100%|██████████| 293/293 [00:32<00:00,  9.09it/s] \n",
      "  8%|▊         | 104/1250 [00:00<00:02, 517.39it/s]"
     ]
    },
    {
     "name": "stdout",
     "output_type": "stream",
     "text": [
      "epoch_loss/batch_ct=0.0597770648845841\n",
      "tensor(0.1177, device='cuda:0', grad_fn=<SmoothL1LossBackward0>)\n"
     ]
    },
    {
     "name": "stderr",
     "output_type": "stream",
     "text": [
      "100%|██████████| 1250/1250 [00:02<00:00, 583.85it/s]\n",
      "  0%|          | 1/293 [00:00<00:36,  8.06it/s]"
     ]
    },
    {
     "name": "stdout",
     "output_type": "stream",
     "text": [
      "accuray: 0.2686\n"
     ]
    },
    {
     "name": "stderr",
     "output_type": "stream",
     "text": [
      "100%|██████████| 293/293 [00:33<00:00,  8.74it/s] \n",
      "  8%|▊         | 100/1250 [00:00<00:02, 499.55it/s]"
     ]
    },
    {
     "name": "stdout",
     "output_type": "stream",
     "text": [
      "epoch_loss/batch_ct=0.059784247865161254\n",
      "tensor(0.1194, device='cuda:0', grad_fn=<SmoothL1LossBackward0>)\n"
     ]
    },
    {
     "name": "stderr",
     "output_type": "stream",
     "text": [
      "100%|██████████| 1250/1250 [00:02<00:00, 582.76it/s]\n",
      "  0%|          | 1/293 [00:00<00:36,  7.99it/s]"
     ]
    },
    {
     "name": "stdout",
     "output_type": "stream",
     "text": [
      "accuray: 0.2687\n"
     ]
    },
    {
     "name": "stderr",
     "output_type": "stream",
     "text": [
      "100%|██████████| 293/293 [00:31<00:00,  9.35it/s] \n",
      "  4%|▎         | 44/1250 [00:00<00:02, 435.25it/s]"
     ]
    },
    {
     "name": "stdout",
     "output_type": "stream",
     "text": [
      "epoch_loss/batch_ct=0.0598850210478145\n",
      "tensor(0.1188, device='cuda:0', grad_fn=<SmoothL1LossBackward0>)\n"
     ]
    },
    {
     "name": "stderr",
     "output_type": "stream",
     "text": [
      "100%|██████████| 1250/1250 [00:02<00:00, 578.45it/s]\n",
      "  0%|          | 1/293 [00:00<00:36,  7.99it/s]"
     ]
    },
    {
     "name": "stdout",
     "output_type": "stream",
     "text": [
      "accuray: 0.2685\n"
     ]
    },
    {
     "name": "stderr",
     "output_type": "stream",
     "text": [
      "100%|██████████| 293/293 [00:31<00:00,  9.27it/s] \n",
      "  4%|▎         | 44/1250 [00:00<00:02, 435.25it/s]"
     ]
    },
    {
     "name": "stdout",
     "output_type": "stream",
     "text": [
      "epoch_loss/batch_ct=0.059894731549161764\n",
      "tensor(0.1174, device='cuda:0', grad_fn=<SmoothL1LossBackward0>)\n"
     ]
    },
    {
     "name": "stderr",
     "output_type": "stream",
     "text": [
      "100%|██████████| 1250/1250 [00:02<00:00, 576.04it/s]\n",
      "  0%|          | 1/293 [00:00<00:36,  7.99it/s]"
     ]
    },
    {
     "name": "stdout",
     "output_type": "stream",
     "text": [
      "accuray: 0.2641\n"
     ]
    },
    {
     "name": "stderr",
     "output_type": "stream",
     "text": [
      "100%|██████████| 293/293 [00:33<00:00,  8.84it/s] \n",
      "  4%|▎         | 45/1250 [00:00<00:02, 449.59it/s]"
     ]
    },
    {
     "name": "stdout",
     "output_type": "stream",
     "text": [
      "epoch_loss/batch_ct=0.05982439339693103\n",
      "tensor(0.1190, device='cuda:0', grad_fn=<SmoothL1LossBackward0>)\n"
     ]
    },
    {
     "name": "stderr",
     "output_type": "stream",
     "text": [
      "100%|██████████| 1250/1250 [00:02<00:00, 568.44it/s]\n",
      "  0%|          | 1/293 [00:00<00:35,  8.12it/s]"
     ]
    },
    {
     "name": "stdout",
     "output_type": "stream",
     "text": [
      "accuray: 0.2657\n"
     ]
    },
    {
     "name": "stderr",
     "output_type": "stream",
     "text": [
      "100%|██████████| 293/293 [00:31<00:00,  9.41it/s] \n",
      "  5%|▍         | 60/1250 [00:00<00:01, 599.46it/s]"
     ]
    },
    {
     "name": "stdout",
     "output_type": "stream",
     "text": [
      "epoch_loss/batch_ct=0.05970736085954639\n",
      "tensor(0.1164, device='cuda:0', grad_fn=<SmoothL1LossBackward0>)\n"
     ]
    },
    {
     "name": "stderr",
     "output_type": "stream",
     "text": [
      "100%|██████████| 1250/1250 [00:02<00:00, 603.61it/s]\n",
      "  0%|          | 1/293 [00:00<00:35,  8.33it/s]"
     ]
    },
    {
     "name": "stdout",
     "output_type": "stream",
     "text": [
      "accuray: 0.2695\n"
     ]
    },
    {
     "name": "stderr",
     "output_type": "stream",
     "text": [
      "100%|██████████| 293/293 [00:33<00:00,  8.85it/s] \n",
      "  7%|▋         | 83/1250 [00:00<00:02, 413.80it/s]"
     ]
    },
    {
     "name": "stdout",
     "output_type": "stream",
     "text": [
      "epoch_loss/batch_ct=0.05985533669295292\n",
      "tensor(0.1188, device='cuda:0', grad_fn=<SmoothL1LossBackward0>)\n"
     ]
    },
    {
     "name": "stderr",
     "output_type": "stream",
     "text": [
      "100%|██████████| 1250/1250 [00:02<00:00, 570.00it/s]\n",
      "  0%|          | 1/293 [00:00<00:36,  7.93it/s]"
     ]
    },
    {
     "name": "stdout",
     "output_type": "stream",
     "text": [
      "accuray: 0.2693\n"
     ]
    },
    {
     "name": "stderr",
     "output_type": "stream",
     "text": [
      "100%|██████████| 293/293 [00:31<00:00,  9.39it/s] \n",
      " 11%|█         | 137/1250 [00:00<00:01, 685.26it/s]"
     ]
    },
    {
     "name": "stdout",
     "output_type": "stream",
     "text": [
      "epoch_loss/batch_ct=0.05988130634207101\n",
      "tensor(0.1166, device='cuda:0', grad_fn=<SmoothL1LossBackward0>)\n"
     ]
    },
    {
     "name": "stderr",
     "output_type": "stream",
     "text": [
      "100%|██████████| 1250/1250 [00:01<00:00, 679.10it/s]\n",
      "  0%|          | 1/293 [00:00<00:33,  8.61it/s]"
     ]
    },
    {
     "name": "stdout",
     "output_type": "stream",
     "text": [
      "accuray: 0.2691\n"
     ]
    },
    {
     "name": "stderr",
     "output_type": "stream",
     "text": [
      "100%|██████████| 293/293 [00:30<00:00,  9.49it/s] \n",
      "  8%|▊         | 98/1250 [00:00<00:02, 488.20it/s]"
     ]
    },
    {
     "name": "stdout",
     "output_type": "stream",
     "text": [
      "epoch_loss/batch_ct=0.059768016376192605\n",
      "tensor(0.1175, device='cuda:0', grad_fn=<SmoothL1LossBackward0>)\n"
     ]
    },
    {
     "name": "stderr",
     "output_type": "stream",
     "text": [
      "100%|██████████| 1250/1250 [00:02<00:00, 585.77it/s]\n",
      "  0%|          | 1/293 [00:00<00:35,  8.33it/s]"
     ]
    },
    {
     "name": "stdout",
     "output_type": "stream",
     "text": [
      "accuray: 0.2678\n"
     ]
    },
    {
     "name": "stderr",
     "output_type": "stream",
     "text": [
      "100%|██████████| 293/293 [00:32<00:00,  8.91it/s] \n",
      " 10%|▉         | 122/1250 [00:00<00:01, 608.70it/s]"
     ]
    },
    {
     "name": "stdout",
     "output_type": "stream",
     "text": [
      "epoch_loss/batch_ct=0.05976206002136072\n",
      "tensor(0.1153, device='cuda:0', grad_fn=<SmoothL1LossBackward0>)\n"
     ]
    },
    {
     "name": "stderr",
     "output_type": "stream",
     "text": [
      "100%|██████████| 1250/1250 [00:02<00:00, 598.69it/s]\n",
      "  0%|          | 1/293 [00:00<00:35,  8.12it/s]"
     ]
    },
    {
     "name": "stdout",
     "output_type": "stream",
     "text": [
      "accuray: 0.2699\n"
     ]
    },
    {
     "name": "stderr",
     "output_type": "stream",
     "text": [
      "100%|██████████| 293/293 [00:31<00:00,  9.33it/s] \n",
      "  4%|▍         | 49/1250 [00:00<00:02, 489.55it/s]"
     ]
    },
    {
     "name": "stdout",
     "output_type": "stream",
     "text": [
      "epoch_loss/batch_ct=0.05977385701049888\n",
      "tensor(0.1184, device='cuda:0', grad_fn=<SmoothL1LossBackward0>)\n"
     ]
    },
    {
     "name": "stderr",
     "output_type": "stream",
     "text": [
      "100%|██████████| 1250/1250 [00:02<00:00, 583.58it/s]\n",
      "  0%|          | 1/293 [00:00<00:37,  7.87it/s]"
     ]
    },
    {
     "name": "stdout",
     "output_type": "stream",
     "text": [
      "accuray: 0.2672\n"
     ]
    },
    {
     "name": "stderr",
     "output_type": "stream",
     "text": [
      "100%|██████████| 293/293 [00:31<00:00,  9.38it/s] \n",
      "  3%|▎         | 42/1250 [00:00<00:02, 415.47it/s]"
     ]
    },
    {
     "name": "stdout",
     "output_type": "stream",
     "text": [
      "epoch_loss/batch_ct=0.0598405482070077\n",
      "tensor(0.1161, device='cuda:0', grad_fn=<SmoothL1LossBackward0>)\n"
     ]
    },
    {
     "name": "stderr",
     "output_type": "stream",
     "text": [
      "100%|██████████| 1250/1250 [00:02<00:00, 576.31it/s]\n",
      "  0%|          | 1/293 [00:00<00:37,  7.69it/s]"
     ]
    },
    {
     "name": "stdout",
     "output_type": "stream",
     "text": [
      "accuray: 0.2673\n"
     ]
    },
    {
     "name": "stderr",
     "output_type": "stream",
     "text": [
      "100%|██████████| 293/293 [00:31<00:00,  9.36it/s] \n",
      "  3%|▎         | 40/1250 [00:00<00:03, 395.68it/s]"
     ]
    },
    {
     "name": "stdout",
     "output_type": "stream",
     "text": [
      "epoch_loss/batch_ct=0.05979911909098663\n",
      "tensor(0.1150, device='cuda:0', grad_fn=<SmoothL1LossBackward0>)\n"
     ]
    },
    {
     "name": "stderr",
     "output_type": "stream",
     "text": [
      "100%|██████████| 1250/1250 [00:02<00:00, 572.61it/s]\n",
      "  0%|          | 1/293 [00:00<00:37,  7.87it/s]"
     ]
    },
    {
     "name": "stdout",
     "output_type": "stream",
     "text": [
      "accuray: 0.2675\n"
     ]
    },
    {
     "name": "stderr",
     "output_type": "stream",
     "text": [
      "100%|██████████| 293/293 [00:31<00:00,  9.30it/s] \n",
      "  4%|▍         | 52/1250 [00:00<00:02, 519.53it/s]"
     ]
    },
    {
     "name": "stdout",
     "output_type": "stream",
     "text": [
      "epoch_loss/batch_ct=0.05978337800987656\n",
      "tensor(0.1186, device='cuda:0', grad_fn=<SmoothL1LossBackward0>)\n"
     ]
    },
    {
     "name": "stderr",
     "output_type": "stream",
     "text": [
      "100%|██████████| 1250/1250 [00:02<00:00, 592.16it/s]\n",
      "  0%|          | 1/293 [00:00<00:35,  8.26it/s]"
     ]
    },
    {
     "name": "stdout",
     "output_type": "stream",
     "text": [
      "accuray: 0.267\n"
     ]
    },
    {
     "name": "stderr",
     "output_type": "stream",
     "text": [
      "100%|██████████| 293/293 [00:33<00:00,  8.83it/s] \n",
      "  7%|▋         | 87/1250 [00:00<00:02, 433.68it/s]"
     ]
    },
    {
     "name": "stdout",
     "output_type": "stream",
     "text": [
      "epoch_loss/batch_ct=0.05980974233280572\n",
      "tensor(0.1184, device='cuda:0', grad_fn=<SmoothL1LossBackward0>)\n"
     ]
    },
    {
     "name": "stderr",
     "output_type": "stream",
     "text": [
      "100%|██████████| 1250/1250 [00:02<00:00, 573.14it/s]\n",
      "  0%|          | 1/293 [00:00<00:35,  8.12it/s]"
     ]
    },
    {
     "name": "stdout",
     "output_type": "stream",
     "text": [
      "accuray: 0.2681\n"
     ]
    },
    {
     "name": "stderr",
     "output_type": "stream",
     "text": [
      "100%|██████████| 293/293 [00:31<00:00,  9.37it/s] \n",
      "  8%|▊         | 98/1250 [00:00<00:02, 476.38it/s]"
     ]
    },
    {
     "name": "stdout",
     "output_type": "stream",
     "text": [
      "epoch_loss/batch_ct=0.05985261420054095\n",
      "tensor(0.1169, device='cuda:0', grad_fn=<SmoothL1LossBackward0>)\n"
     ]
    },
    {
     "name": "stderr",
     "output_type": "stream",
     "text": [
      "100%|██████████| 1250/1250 [00:02<00:00, 580.33it/s]\n",
      "  0%|          | 1/293 [00:00<00:35,  8.12it/s]"
     ]
    },
    {
     "name": "stdout",
     "output_type": "stream",
     "text": [
      "accuray: 0.2695\n"
     ]
    },
    {
     "name": "stderr",
     "output_type": "stream",
     "text": [
      "100%|██████████| 293/293 [00:31<00:00,  9.38it/s] \n",
      "  4%|▎         | 45/1250 [00:00<00:02, 445.14it/s]"
     ]
    },
    {
     "name": "stdout",
     "output_type": "stream",
     "text": [
      "epoch_loss/batch_ct=0.05994180028164198\n",
      "tensor(0.1185, device='cuda:0', grad_fn=<SmoothL1LossBackward0>)\n"
     ]
    },
    {
     "name": "stderr",
     "output_type": "stream",
     "text": [
      "100%|██████████| 1250/1250 [00:02<00:00, 581.41it/s]\n",
      "  0%|          | 1/293 [00:00<00:36,  7.93it/s]"
     ]
    },
    {
     "name": "stdout",
     "output_type": "stream",
     "text": [
      "accuray: 0.268\n"
     ]
    },
    {
     "name": "stderr",
     "output_type": "stream",
     "text": [
      "100%|██████████| 293/293 [00:33<00:00,  8.82it/s] \n",
      "  3%|▎         | 42/1250 [00:00<00:02, 419.62it/s]"
     ]
    },
    {
     "name": "stdout",
     "output_type": "stream",
     "text": [
      "epoch_loss/batch_ct=0.05989068421343016\n",
      "tensor(0.1214, device='cuda:0', grad_fn=<SmoothL1LossBackward0>)\n"
     ]
    },
    {
     "name": "stderr",
     "output_type": "stream",
     "text": [
      "100%|██████████| 1250/1250 [00:02<00:00, 573.66it/s]\n",
      "  0%|          | 1/293 [00:00<00:37,  7.87it/s]"
     ]
    },
    {
     "name": "stdout",
     "output_type": "stream",
     "text": [
      "accuray: 0.2691\n"
     ]
    },
    {
     "name": "stderr",
     "output_type": "stream",
     "text": [
      "100%|██████████| 293/293 [00:31<00:00,  9.39it/s] \n",
      "  7%|▋         | 87/1250 [00:00<00:02, 432.92it/s]"
     ]
    },
    {
     "name": "stdout",
     "output_type": "stream",
     "text": [
      "epoch_loss/batch_ct=0.05972387001568836\n",
      "tensor(0.1197, device='cuda:0', grad_fn=<SmoothL1LossBackward0>)\n"
     ]
    },
    {
     "name": "stderr",
     "output_type": "stream",
     "text": [
      "100%|██████████| 1250/1250 [00:02<00:00, 571.82it/s]\n",
      "  0%|          | 1/293 [00:00<00:35,  8.19it/s]"
     ]
    },
    {
     "name": "stdout",
     "output_type": "stream",
     "text": [
      "accuray: 0.2678\n"
     ]
    },
    {
     "name": "stderr",
     "output_type": "stream",
     "text": [
      "100%|██████████| 293/293 [00:31<00:00,  9.32it/s]\n",
      "  4%|▍         | 52/1250 [00:00<00:02, 519.53it/s]"
     ]
    },
    {
     "name": "stdout",
     "output_type": "stream",
     "text": [
      "epoch_loss/batch_ct=0.0598098628282074\n",
      "tensor(0.1200, device='cuda:0', grad_fn=<SmoothL1LossBackward0>)\n"
     ]
    },
    {
     "name": "stderr",
     "output_type": "stream",
     "text": [
      "100%|██████████| 1250/1250 [00:02<00:00, 593.85it/s]\n",
      "  0%|          | 1/293 [00:00<00:35,  8.19it/s]"
     ]
    },
    {
     "name": "stdout",
     "output_type": "stream",
     "text": [
      "accuray: 0.2621\n"
     ]
    },
    {
     "name": "stderr",
     "output_type": "stream",
     "text": [
      "100%|██████████| 293/293 [00:32<00:00,  8.90it/s] \n",
      "  8%|▊         | 98/1250 [00:00<00:02, 486.69it/s]"
     ]
    },
    {
     "name": "stdout",
     "output_type": "stream",
     "text": [
      "epoch_loss/batch_ct=0.05979477788602549\n",
      "tensor(0.1189, device='cuda:0', grad_fn=<SmoothL1LossBackward0>)\n"
     ]
    },
    {
     "name": "stderr",
     "output_type": "stream",
     "text": [
      "100%|██████████| 1250/1250 [00:02<00:00, 580.33it/s]\n",
      "  0%|          | 1/293 [00:00<00:37,  7.87it/s]"
     ]
    },
    {
     "name": "stdout",
     "output_type": "stream",
     "text": [
      "accuray: 0.2652\n"
     ]
    },
    {
     "name": "stderr",
     "output_type": "stream",
     "text": [
      "100%|██████████| 293/293 [00:31<00:00,  9.39it/s] \n",
      " 11%|█         | 136/1250 [00:00<00:01, 675.41it/s]"
     ]
    },
    {
     "name": "stdout",
     "output_type": "stream",
     "text": [
      "epoch_loss/batch_ct=0.059759030340328104\n",
      "tensor(0.1177, device='cuda:0', grad_fn=<SmoothL1LossBackward0>)\n"
     ]
    },
    {
     "name": "stderr",
     "output_type": "stream",
     "text": [
      "100%|██████████| 1250/1250 [00:01<00:00, 661.12it/s]\n",
      "  0%|          | 1/293 [00:00<00:34,  8.54it/s]"
     ]
    },
    {
     "name": "stdout",
     "output_type": "stream",
     "text": [
      "accuray: 0.2715\n"
     ]
    },
    {
     "name": "stderr",
     "output_type": "stream",
     "text": [
      "100%|██████████| 293/293 [00:31<00:00,  9.35it/s] \n",
      "  3%|▎         | 42/1250 [00:00<00:02, 415.46it/s]"
     ]
    },
    {
     "name": "stdout",
     "output_type": "stream",
     "text": [
      "epoch_loss/batch_ct=0.059716379713444484\n",
      "tensor(0.1180, device='cuda:0', grad_fn=<SmoothL1LossBackward0>)\n"
     ]
    },
    {
     "name": "stderr",
     "output_type": "stream",
     "text": [
      "100%|██████████| 1250/1250 [00:02<00:00, 578.98it/s]\n",
      "  0%|          | 1/293 [00:00<00:35,  8.19it/s]"
     ]
    },
    {
     "name": "stdout",
     "output_type": "stream",
     "text": [
      "accuray: 0.2669\n"
     ]
    },
    {
     "name": "stderr",
     "output_type": "stream",
     "text": [
      "100%|██████████| 293/293 [00:33<00:00,  8.78it/s] \n",
      "  4%|▍         | 47/1250 [00:00<00:02, 464.92it/s]"
     ]
    },
    {
     "name": "stdout",
     "output_type": "stream",
     "text": [
      "epoch_loss/batch_ct=0.0599375179865294\n",
      "tensor(0.1197, device='cuda:0', grad_fn=<SmoothL1LossBackward0>)\n"
     ]
    },
    {
     "name": "stderr",
     "output_type": "stream",
     "text": [
      "100%|██████████| 1250/1250 [00:02<00:00, 579.79it/s]\n",
      "  0%|          | 1/293 [00:00<00:37,  7.74it/s]"
     ]
    },
    {
     "name": "stdout",
     "output_type": "stream",
     "text": [
      "accuray: 0.2663\n"
     ]
    },
    {
     "name": "stderr",
     "output_type": "stream",
     "text": [
      "100%|██████████| 293/293 [00:31<00:00,  9.37it/s] \n",
      "  7%|▋         | 93/1250 [00:00<00:02, 465.30it/s]"
     ]
    },
    {
     "name": "stdout",
     "output_type": "stream",
     "text": [
      "epoch_loss/batch_ct=0.059754001760175306\n",
      "tensor(0.1183, device='cuda:0', grad_fn=<SmoothL1LossBackward0>)\n"
     ]
    },
    {
     "name": "stderr",
     "output_type": "stream",
     "text": [
      "100%|██████████| 1250/1250 [00:02<00:00, 578.98it/s]\n",
      "  0%|          | 1/293 [00:00<00:36,  7.99it/s]"
     ]
    },
    {
     "name": "stdout",
     "output_type": "stream",
     "text": [
      "accuray: 0.2654\n"
     ]
    },
    {
     "name": "stderr",
     "output_type": "stream",
     "text": [
      "100%|██████████| 293/293 [00:31<00:00,  9.40it/s] \n",
      " 10%|▉         | 122/1250 [00:00<00:01, 603.41it/s]"
     ]
    },
    {
     "name": "stdout",
     "output_type": "stream",
     "text": [
      "epoch_loss/batch_ct=0.05979241735287129\n",
      "tensor(0.1187, device='cuda:0', grad_fn=<SmoothL1LossBackward0>)\n"
     ]
    },
    {
     "name": "stderr",
     "output_type": "stream",
     "text": [
      "100%|██████████| 1250/1250 [00:02<00:00, 607.42it/s]\n",
      "  0%|          | 1/293 [00:00<00:36,  8.06it/s]"
     ]
    },
    {
     "name": "stdout",
     "output_type": "stream",
     "text": [
      "accuray: 0.2633\n"
     ]
    },
    {
     "name": "stderr",
     "output_type": "stream",
     "text": [
      "100%|██████████| 293/293 [00:33<00:00,  8.84it/s] \n",
      "  8%|▊         | 99/1250 [00:00<00:02, 495.43it/s]"
     ]
    },
    {
     "name": "stdout",
     "output_type": "stream",
     "text": [
      "epoch_loss/batch_ct=0.059816374650432005\n",
      "tensor(0.1182, device='cuda:0', grad_fn=<SmoothL1LossBackward0>)\n"
     ]
    },
    {
     "name": "stderr",
     "output_type": "stream",
     "text": [
      "100%|██████████| 1250/1250 [00:02<00:00, 583.85it/s]\n",
      "  0%|          | 1/293 [00:00<00:35,  8.26it/s]"
     ]
    },
    {
     "name": "stdout",
     "output_type": "stream",
     "text": [
      "accuray: 0.2702\n"
     ]
    },
    {
     "name": "stderr",
     "output_type": "stream",
     "text": [
      "100%|██████████| 293/293 [00:31<00:00,  9.42it/s] \n",
      "  9%|▉         | 112/1250 [00:00<00:02, 550.74it/s]"
     ]
    },
    {
     "name": "stdout",
     "output_type": "stream",
     "text": [
      "epoch_loss/batch_ct=0.0598447099623699\n",
      "tensor(0.1200, device='cuda:0', grad_fn=<SmoothL1LossBackward0>)\n"
     ]
    },
    {
     "name": "stderr",
     "output_type": "stream",
     "text": [
      "100%|██████████| 1250/1250 [00:02<00:00, 587.70it/s]\n",
      "  0%|          | 1/293 [00:00<00:35,  8.12it/s]"
     ]
    },
    {
     "name": "stdout",
     "output_type": "stream",
     "text": [
      "accuray: 0.2659\n"
     ]
    },
    {
     "name": "stderr",
     "output_type": "stream",
     "text": [
      "100%|██████████| 293/293 [00:31<00:00,  9.28it/s] \n",
      " 11%|█         | 138/1250 [00:00<00:01, 685.34it/s]"
     ]
    },
    {
     "name": "stdout",
     "output_type": "stream",
     "text": [
      "epoch_loss/batch_ct=0.05983047579075136\n",
      "tensor(0.1180, device='cuda:0', grad_fn=<SmoothL1LossBackward0>)\n"
     ]
    },
    {
     "name": "stderr",
     "output_type": "stream",
     "text": [
      "100%|██████████| 1250/1250 [00:01<00:00, 678.36it/s]\n",
      "  0%|          | 1/293 [00:00<00:37,  7.87it/s]"
     ]
    },
    {
     "name": "stdout",
     "output_type": "stream",
     "text": [
      "accuray: 0.2676\n"
     ]
    },
    {
     "name": "stderr",
     "output_type": "stream",
     "text": [
      "100%|██████████| 293/293 [00:31<00:00,  9.38it/s]\n",
      "  4%|▍         | 52/1250 [00:00<00:02, 514.38it/s]"
     ]
    },
    {
     "name": "stdout",
     "output_type": "stream",
     "text": [
      "epoch_loss/batch_ct=0.059760706055732\n",
      "tensor(0.1177, device='cuda:0', grad_fn=<SmoothL1LossBackward0>)\n"
     ]
    },
    {
     "name": "stderr",
     "output_type": "stream",
     "text": [
      "100%|██████████| 1250/1250 [00:02<00:00, 598.69it/s]\n",
      "  0%|          | 1/293 [00:00<00:37,  7.81it/s]"
     ]
    },
    {
     "name": "stdout",
     "output_type": "stream",
     "text": [
      "accuray: 0.2695\n"
     ]
    },
    {
     "name": "stderr",
     "output_type": "stream",
     "text": [
      "100%|██████████| 293/293 [00:31<00:00,  9.31it/s] \n",
      "  7%|▋         | 91/1250 [00:00<00:02, 450.87it/s]"
     ]
    },
    {
     "name": "stdout",
     "output_type": "stream",
     "text": [
      "epoch_loss/batch_ct=0.0598058792658978\n",
      "tensor(0.1178, device='cuda:0', grad_fn=<SmoothL1LossBackward0>)\n"
     ]
    },
    {
     "name": "stderr",
     "output_type": "stream",
     "text": [
      "100%|██████████| 1250/1250 [00:02<00:00, 572.61it/s]\n",
      "  0%|          | 1/293 [00:00<00:35,  8.12it/s]"
     ]
    },
    {
     "name": "stdout",
     "output_type": "stream",
     "text": [
      "accuray: 0.2686\n"
     ]
    },
    {
     "name": "stderr",
     "output_type": "stream",
     "text": [
      "100%|██████████| 293/293 [00:33<00:00,  8.83it/s] \n",
      "  4%|▍         | 54/1250 [00:00<00:02, 534.17it/s]"
     ]
    },
    {
     "name": "stdout",
     "output_type": "stream",
     "text": [
      "epoch_loss/batch_ct=0.059825935578417214\n",
      "tensor(0.1198, device='cuda:0', grad_fn=<SmoothL1LossBackward0>)\n"
     ]
    },
    {
     "name": "stderr",
     "output_type": "stream",
     "text": [
      "100%|██████████| 1250/1250 [00:02<00:00, 588.53it/s]\n",
      "  0%|          | 1/293 [00:00<00:36,  8.06it/s]"
     ]
    },
    {
     "name": "stdout",
     "output_type": "stream",
     "text": [
      "accuray: 0.2696\n"
     ]
    },
    {
     "name": "stderr",
     "output_type": "stream",
     "text": [
      "100%|██████████| 293/293 [00:31<00:00,  9.37it/s] \n",
      "  4%|▍         | 49/1250 [00:00<00:02, 484.71it/s]"
     ]
    },
    {
     "name": "stdout",
     "output_type": "stream",
     "text": [
      "epoch_loss/batch_ct=0.059798792507203796\n",
      "tensor(0.1189, device='cuda:0', grad_fn=<SmoothL1LossBackward0>)\n"
     ]
    },
    {
     "name": "stderr",
     "output_type": "stream",
     "text": [
      "100%|██████████| 1250/1250 [00:02<00:00, 587.70it/s]\n",
      "  0%|          | 1/293 [00:00<00:35,  8.33it/s]"
     ]
    },
    {
     "name": "stdout",
     "output_type": "stream",
     "text": [
      "accuray: 0.2706\n"
     ]
    },
    {
     "name": "stderr",
     "output_type": "stream",
     "text": [
      "100%|██████████| 293/293 [00:31<00:00,  9.38it/s] \n",
      "  4%|▍         | 49/1250 [00:00<00:02, 484.71it/s]"
     ]
    },
    {
     "name": "stdout",
     "output_type": "stream",
     "text": [
      "epoch_loss/batch_ct=0.059860160958672325\n",
      "tensor(0.1188, device='cuda:0', grad_fn=<SmoothL1LossBackward0>)\n"
     ]
    },
    {
     "name": "stderr",
     "output_type": "stream",
     "text": [
      "100%|██████████| 1250/1250 [00:02<00:00, 583.58it/s]\n",
      "  0%|          | 1/293 [00:00<00:35,  8.19it/s]"
     ]
    },
    {
     "name": "stdout",
     "output_type": "stream",
     "text": [
      "accuray: 0.2675\n"
     ]
    },
    {
     "name": "stderr",
     "output_type": "stream",
     "text": [
      "100%|██████████| 293/293 [00:32<00:00,  8.89it/s] \n",
      "  8%|▊         | 100/1250 [00:00<00:02, 497.50it/s]"
     ]
    },
    {
     "name": "stdout",
     "output_type": "stream",
     "text": [
      "epoch_loss/batch_ct=0.05980716214056999\n",
      "tensor(0.1180, device='cuda:0', grad_fn=<SmoothL1LossBackward0>)\n"
     ]
    },
    {
     "name": "stderr",
     "output_type": "stream",
     "text": [
      "100%|██████████| 1250/1250 [00:02<00:00, 580.87it/s]\n",
      "  0%|          | 1/293 [00:00<00:36,  7.99it/s]"
     ]
    },
    {
     "name": "stdout",
     "output_type": "stream",
     "text": [
      "accuray: 0.2691\n"
     ]
    },
    {
     "name": "stderr",
     "output_type": "stream",
     "text": [
      "100%|██████████| 293/293 [00:31<00:00,  9.41it/s] \n",
      "  5%|▍         | 60/1250 [00:00<00:01, 599.45it/s]"
     ]
    },
    {
     "name": "stdout",
     "output_type": "stream",
     "text": [
      "epoch_loss/batch_ct=0.05983027225981156\n",
      "tensor(0.1183, device='cuda:0', grad_fn=<SmoothL1LossBackward0>)\n"
     ]
    },
    {
     "name": "stderr",
     "output_type": "stream",
     "text": [
      "100%|██████████| 1250/1250 [00:02<00:00, 603.90it/s]\n",
      "  0%|          | 1/293 [00:00<00:37,  7.87it/s]"
     ]
    },
    {
     "name": "stdout",
     "output_type": "stream",
     "text": [
      "accuray: 0.2682\n"
     ]
    },
    {
     "name": "stderr",
     "output_type": "stream",
     "text": [
      "100%|██████████| 293/293 [00:31<00:00,  9.42it/s] \n",
      " 11%|█         | 136/1250 [00:00<00:01, 671.48it/s]"
     ]
    },
    {
     "name": "stdout",
     "output_type": "stream",
     "text": [
      "epoch_loss/batch_ct=0.059758135945432715\n",
      "tensor(0.1187, device='cuda:0', grad_fn=<SmoothL1LossBackward0>)\n"
     ]
    },
    {
     "name": "stderr",
     "output_type": "stream",
     "text": [
      "100%|██████████| 1250/1250 [00:01<00:00, 650.79it/s]\n",
      "  0%|          | 1/293 [00:00<00:34,  8.40it/s]"
     ]
    },
    {
     "name": "stdout",
     "output_type": "stream",
     "text": [
      "accuray: 0.265\n"
     ]
    },
    {
     "name": "stderr",
     "output_type": "stream",
     "text": [
      "100%|██████████| 293/293 [00:33<00:00,  8.82it/s] \n",
      "  4%|▍         | 48/1250 [00:00<00:02, 474.82it/s]"
     ]
    },
    {
     "name": "stdout",
     "output_type": "stream",
     "text": [
      "epoch_loss/batch_ct=0.059823767533377994\n",
      "tensor(0.1194, device='cuda:0', grad_fn=<SmoothL1LossBackward0>)\n"
     ]
    },
    {
     "name": "stderr",
     "output_type": "stream",
     "text": [
      "100%|██████████| 1250/1250 [00:02<00:00, 583.04it/s]\n",
      "  0%|          | 1/293 [00:00<00:36,  7.99it/s]"
     ]
    },
    {
     "name": "stdout",
     "output_type": "stream",
     "text": [
      "accuray: 0.2696\n"
     ]
    },
    {
     "name": "stderr",
     "output_type": "stream",
     "text": [
      "100%|██████████| 293/293 [00:31<00:00,  9.33it/s] \n",
      "  3%|▎         | 43/1250 [00:00<00:02, 417.10it/s]"
     ]
    },
    {
     "name": "stdout",
     "output_type": "stream",
     "text": [
      "epoch_loss/batch_ct=0.059861997852013224\n",
      "tensor(0.1169, device='cuda:0', grad_fn=<SmoothL1LossBackward0>)\n"
     ]
    },
    {
     "name": "stderr",
     "output_type": "stream",
     "text": [
      "100%|██████████| 1250/1250 [00:02<00:00, 573.93it/s]\n",
      "  0%|          | 1/293 [00:00<00:35,  8.19it/s]"
     ]
    },
    {
     "name": "stdout",
     "output_type": "stream",
     "text": [
      "accuray: 0.2677\n"
     ]
    },
    {
     "name": "stderr",
     "output_type": "stream",
     "text": [
      "100%|██████████| 293/293 [00:31<00:00,  9.27it/s] \n",
      "  9%|▊         | 108/1250 [00:00<00:02, 522.01it/s]"
     ]
    },
    {
     "name": "stdout",
     "output_type": "stream",
     "text": [
      "epoch_loss/batch_ct=0.059876698571892956\n",
      "tensor(0.1182, device='cuda:0', grad_fn=<SmoothL1LossBackward0>)\n"
     ]
    },
    {
     "name": "stderr",
     "output_type": "stream",
     "text": [
      "100%|██████████| 1250/1250 [00:02<00:00, 589.64it/s]\n",
      "  0%|          | 1/293 [00:00<00:40,  7.14it/s]"
     ]
    },
    {
     "name": "stdout",
     "output_type": "stream",
     "text": [
      "accuray: 0.2737\n"
     ]
    },
    {
     "name": "stderr",
     "output_type": "stream",
     "text": [
      "100%|██████████| 293/293 [00:33<00:00,  8.82it/s] \n",
      "  4%|▍         | 47/1250 [00:00<00:02, 469.57it/s]"
     ]
    },
    {
     "name": "stdout",
     "output_type": "stream",
     "text": [
      "epoch_loss/batch_ct=0.05981099917479451\n",
      "tensor(0.1196, device='cuda:0', grad_fn=<SmoothL1LossBackward0>)\n"
     ]
    },
    {
     "name": "stderr",
     "output_type": "stream",
     "text": [
      "100%|██████████| 1250/1250 [00:02<00:00, 581.14it/s]\n",
      "  0%|          | 1/293 [00:00<00:35,  8.19it/s]"
     ]
    },
    {
     "name": "stdout",
     "output_type": "stream",
     "text": [
      "accuray: 0.2667\n"
     ]
    },
    {
     "name": "stderr",
     "output_type": "stream",
     "text": [
      "100%|██████████| 293/293 [00:31<00:00,  9.32it/s] \n",
      "  7%|▋         | 91/1250 [00:00<00:02, 453.60it/s]"
     ]
    },
    {
     "name": "stdout",
     "output_type": "stream",
     "text": [
      "epoch_loss/batch_ct=0.05973638128489256\n",
      "tensor(0.1175, device='cuda:0', grad_fn=<SmoothL1LossBackward0>)\n"
     ]
    },
    {
     "name": "stderr",
     "output_type": "stream",
     "text": [
      "100%|██████████| 1250/1250 [00:02<00:00, 578.98it/s]\n",
      "  0%|          | 1/293 [00:00<00:35,  8.19it/s]"
     ]
    },
    {
     "name": "stdout",
     "output_type": "stream",
     "text": [
      "accuray: 0.2667\n"
     ]
    },
    {
     "name": "stderr",
     "output_type": "stream",
     "text": [
      "100%|██████████| 293/293 [00:31<00:00,  9.34it/s] \n",
      "  6%|▌         | 76/1250 [00:00<00:03, 373.72it/s]"
     ]
    },
    {
     "name": "stdout",
     "output_type": "stream",
     "text": [
      "epoch_loss/batch_ct=0.05968381971534756\n",
      "tensor(0.1187, device='cuda:0', grad_fn=<SmoothL1LossBackward0>)\n"
     ]
    },
    {
     "name": "stderr",
     "output_type": "stream",
     "text": [
      "100%|██████████| 1250/1250 [00:02<00:00, 566.12it/s]\n",
      "  0%|          | 1/293 [00:00<00:35,  8.26it/s]"
     ]
    },
    {
     "name": "stdout",
     "output_type": "stream",
     "text": [
      "accuray: 0.2704\n"
     ]
    },
    {
     "name": "stderr",
     "output_type": "stream",
     "text": [
      "100%|██████████| 293/293 [00:32<00:00,  8.88it/s] \n",
      "  8%|▊         | 98/1250 [00:00<00:02, 484.71it/s]"
     ]
    },
    {
     "name": "stdout",
     "output_type": "stream",
     "text": [
      "epoch_loss/batch_ct=0.059771234982661785\n",
      "tensor(0.1170, device='cuda:0', grad_fn=<SmoothL1LossBackward0>)\n"
     ]
    },
    {
     "name": "stderr",
     "output_type": "stream",
     "text": [
      "100%|██████████| 1250/1250 [00:02<00:00, 577.64it/s]\n",
      "  0%|          | 1/293 [00:00<00:41,  7.04it/s]"
     ]
    },
    {
     "name": "stdout",
     "output_type": "stream",
     "text": [
      "accuray: 0.2725\n"
     ]
    },
    {
     "name": "stderr",
     "output_type": "stream",
     "text": [
      "100%|██████████| 293/293 [00:31<00:00,  9.39it/s] \n",
      "  5%|▌         | 68/1250 [00:00<00:01, 679.39it/s]"
     ]
    },
    {
     "name": "stdout",
     "output_type": "stream",
     "text": [
      "epoch_loss/batch_ct=0.05978451500691119\n",
      "tensor(0.1179, device='cuda:0', grad_fn=<SmoothL1LossBackward0>)\n"
     ]
    },
    {
     "name": "stderr",
     "output_type": "stream",
     "text": [
      "100%|██████████| 1250/1250 [00:02<00:00, 615.51it/s]\n",
      "  0%|          | 1/293 [00:00<00:35,  8.33it/s]"
     ]
    },
    {
     "name": "stdout",
     "output_type": "stream",
     "text": [
      "accuray: 0.2695\n"
     ]
    },
    {
     "name": "stderr",
     "output_type": "stream",
     "text": [
      "100%|██████████| 293/293 [00:31<00:00,  9.38it/s] \n",
      " 11%|█         | 138/1250 [00:00<00:01, 681.36it/s]"
     ]
    },
    {
     "name": "stdout",
     "output_type": "stream",
     "text": [
      "epoch_loss/batch_ct=0.059830916528072625\n",
      "tensor(0.1166, device='cuda:0', grad_fn=<SmoothL1LossBackward0>)\n"
     ]
    },
    {
     "name": "stderr",
     "output_type": "stream",
     "text": [
      "100%|██████████| 1250/1250 [00:01<00:00, 663.94it/s]\n",
      "  0%|          | 1/293 [00:00<00:33,  8.61it/s]"
     ]
    },
    {
     "name": "stdout",
     "output_type": "stream",
     "text": [
      "accuray: 0.2663\n"
     ]
    },
    {
     "name": "stderr",
     "output_type": "stream",
     "text": [
      "100%|██████████| 293/293 [00:33<00:00,  8.87it/s] \n",
      "  7%|▋         | 83/1250 [00:00<00:02, 412.11it/s]"
     ]
    },
    {
     "name": "stdout",
     "output_type": "stream",
     "text": [
      "epoch_loss/batch_ct=0.05972155434862962\n",
      "tensor(0.1176, device='cuda:0', grad_fn=<SmoothL1LossBackward0>)\n"
     ]
    },
    {
     "name": "stderr",
     "output_type": "stream",
     "text": [
      "100%|██████████| 1250/1250 [00:02<00:00, 570.78it/s]\n",
      "  0%|          | 1/293 [00:00<00:37,  7.87it/s]"
     ]
    },
    {
     "name": "stdout",
     "output_type": "stream",
     "text": [
      "accuray: 0.2677\n"
     ]
    },
    {
     "name": "stderr",
     "output_type": "stream",
     "text": [
      "100%|██████████| 293/293 [00:31<00:00,  9.31it/s] \n",
      "  4%|▍         | 49/1250 [00:00<00:02, 484.71it/s]"
     ]
    },
    {
     "name": "stdout",
     "output_type": "stream",
     "text": [
      "epoch_loss/batch_ct=0.05977739103966289\n",
      "tensor(0.1189, device='cuda:0', grad_fn=<SmoothL1LossBackward0>)\n"
     ]
    },
    {
     "name": "stderr",
     "output_type": "stream",
     "text": [
      "100%|██████████| 1250/1250 [00:02<00:00, 585.77it/s]\n",
      "  0%|          | 1/293 [00:00<00:36,  8.06it/s]"
     ]
    },
    {
     "name": "stdout",
     "output_type": "stream",
     "text": [
      "accuray: 0.2676\n"
     ]
    },
    {
     "name": "stderr",
     "output_type": "stream",
     "text": [
      "100%|██████████| 293/293 [00:33<00:00,  8.83it/s] \n",
      "  4%|▍         | 54/1250 [00:00<00:02, 539.51it/s]"
     ]
    },
    {
     "name": "stdout",
     "output_type": "stream",
     "text": [
      "epoch_loss/batch_ct=0.05978251860610077\n",
      "tensor(0.1178, device='cuda:0', grad_fn=<SmoothL1LossBackward0>)\n"
     ]
    },
    {
     "name": "stderr",
     "output_type": "stream",
     "text": [
      "100%|██████████| 1250/1250 [00:02<00:00, 596.40it/s]\n",
      "  0%|          | 1/293 [00:00<00:37,  7.87it/s]"
     ]
    },
    {
     "name": "stdout",
     "output_type": "stream",
     "text": [
      "accuray: 0.2701\n"
     ]
    },
    {
     "name": "stderr",
     "output_type": "stream",
     "text": [
      "100%|██████████| 293/293 [00:31<00:00,  9.27it/s] \n",
      "  8%|▊         | 97/1250 [00:00<00:02, 466.92it/s]"
     ]
    },
    {
     "name": "stdout",
     "output_type": "stream",
     "text": [
      "epoch_loss/batch_ct=0.05979309439481724\n",
      "tensor(0.1162, device='cuda:0', grad_fn=<SmoothL1LossBackward0>)\n"
     ]
    },
    {
     "name": "stderr",
     "output_type": "stream",
     "text": [
      "100%|██████████| 1250/1250 [00:02<00:00, 573.66it/s]\n",
      "  0%|          | 1/293 [00:00<00:37,  7.81it/s]"
     ]
    },
    {
     "name": "stdout",
     "output_type": "stream",
     "text": [
      "accuray: 0.2679\n"
     ]
    },
    {
     "name": "stderr",
     "output_type": "stream",
     "text": [
      "100%|██████████| 293/293 [00:31<00:00,  9.24it/s] \n",
      "  3%|▎         | 41/1250 [00:00<00:03, 401.60it/s]"
     ]
    },
    {
     "name": "stdout",
     "output_type": "stream",
     "text": [
      "epoch_loss/batch_ct=0.059790523471458565\n",
      "tensor(0.1156, device='cuda:0', grad_fn=<SmoothL1LossBackward0>)\n"
     ]
    },
    {
     "name": "stderr",
     "output_type": "stream",
     "text": [
      "100%|██████████| 1250/1250 [00:02<00:00, 571.82it/s]\n",
      "  0%|          | 1/293 [00:00<00:35,  8.26it/s]"
     ]
    },
    {
     "name": "stdout",
     "output_type": "stream",
     "text": [
      "accuray: 0.2667\n"
     ]
    },
    {
     "name": "stderr",
     "output_type": "stream",
     "text": [
      "100%|██████████| 293/293 [00:33<00:00,  8.76it/s] \n",
      "  4%|▍         | 51/1250 [00:00<00:02, 509.53it/s]"
     ]
    },
    {
     "name": "stdout",
     "output_type": "stream",
     "text": [
      "epoch_loss/batch_ct=0.05968457621537031\n",
      "tensor(0.1166, device='cuda:0', grad_fn=<SmoothL1LossBackward0>)\n"
     ]
    },
    {
     "name": "stderr",
     "output_type": "stream",
     "text": [
      "100%|██████████| 1250/1250 [00:02<00:00, 591.04it/s]\n",
      "  0%|          | 1/293 [00:00<00:35,  8.19it/s]"
     ]
    },
    {
     "name": "stdout",
     "output_type": "stream",
     "text": [
      "accuray: 0.267\n"
     ]
    },
    {
     "name": "stderr",
     "output_type": "stream",
     "text": [
      "100%|██████████| 293/293 [00:31<00:00,  9.32it/s] \n",
      "  5%|▍         | 61/1250 [00:00<00:01, 609.45it/s]"
     ]
    },
    {
     "name": "stdout",
     "output_type": "stream",
     "text": [
      "epoch_loss/batch_ct=0.05974251603973763\n",
      "tensor(0.1190, device='cuda:0', grad_fn=<SmoothL1LossBackward0>)\n"
     ]
    },
    {
     "name": "stderr",
     "output_type": "stream",
     "text": [
      "100%|██████████| 1250/1250 [00:02<00:00, 600.42it/s]\n",
      "  0%|          | 1/293 [00:00<00:36,  7.99it/s]"
     ]
    },
    {
     "name": "stdout",
     "output_type": "stream",
     "text": [
      "accuray: 0.2593\n"
     ]
    },
    {
     "name": "stderr",
     "output_type": "stream",
     "text": [
      "100%|██████████| 293/293 [00:31<00:00,  9.27it/s] \n",
      "  9%|▊         | 109/1250 [00:00<00:02, 539.99it/s]"
     ]
    },
    {
     "name": "stdout",
     "output_type": "stream",
     "text": [
      "epoch_loss/batch_ct=0.05991386088527857\n",
      "tensor(0.1182, device='cuda:0', grad_fn=<SmoothL1LossBackward0>)\n"
     ]
    },
    {
     "name": "stderr",
     "output_type": "stream",
     "text": [
      "100%|██████████| 1250/1250 [00:02<00:00, 593.85it/s]\n",
      "  0%|          | 1/293 [00:00<00:35,  8.12it/s]"
     ]
    },
    {
     "name": "stdout",
     "output_type": "stream",
     "text": [
      "accuray: 0.2627\n"
     ]
    },
    {
     "name": "stderr",
     "output_type": "stream",
     "text": [
      "100%|██████████| 293/293 [00:33<00:00,  8.86it/s] \n",
      "  9%|▉         | 112/1250 [00:00<00:02, 549.79it/s]"
     ]
    },
    {
     "name": "stdout",
     "output_type": "stream",
     "text": [
      "epoch_loss/batch_ct=0.05984928738325834\n",
      "tensor(0.1182, device='cuda:0', grad_fn=<SmoothL1LossBackward0>)\n"
     ]
    },
    {
     "name": "stderr",
     "output_type": "stream",
     "text": [
      "100%|██████████| 1250/1250 [00:02<00:00, 588.53it/s]\n",
      "  0%|          | 1/293 [00:00<00:35,  8.33it/s]"
     ]
    },
    {
     "name": "stdout",
     "output_type": "stream",
     "text": [
      "accuray: 0.2634\n"
     ]
    },
    {
     "name": "stderr",
     "output_type": "stream",
     "text": [
      "100%|██████████| 293/293 [00:31<00:00,  9.42it/s] \n",
      "  8%|▊         | 97/1250 [00:00<00:02, 485.44it/s]"
     ]
    },
    {
     "name": "stdout",
     "output_type": "stream",
     "text": [
      "epoch_loss/batch_ct=0.059740431444157686\n",
      "tensor(0.1183, device='cuda:0', grad_fn=<SmoothL1LossBackward0>)\n"
     ]
    },
    {
     "name": "stderr",
     "output_type": "stream",
     "text": [
      "100%|██████████| 1250/1250 [00:02<00:00, 576.31it/s]\n",
      "  0%|          | 1/293 [00:00<00:35,  8.26it/s]"
     ]
    },
    {
     "name": "stdout",
     "output_type": "stream",
     "text": [
      "accuray: 0.265\n"
     ]
    },
    {
     "name": "stderr",
     "output_type": "stream",
     "text": [
      "100%|██████████| 293/293 [00:31<00:00,  9.31it/s] \n",
      "  8%|▊         | 102/1250 [00:00<00:02, 509.54it/s]"
     ]
    },
    {
     "name": "stdout",
     "output_type": "stream",
     "text": [
      "epoch_loss/batch_ct=0.05983257346919605\n",
      "tensor(0.1185, device='cuda:0', grad_fn=<SmoothL1LossBackward0>)\n"
     ]
    },
    {
     "name": "stderr",
     "output_type": "stream",
     "text": [
      "100%|██████████| 1250/1250 [00:02<00:00, 583.58it/s]\n",
      "  0%|          | 1/293 [00:00<00:36,  7.99it/s]"
     ]
    },
    {
     "name": "stdout",
     "output_type": "stream",
     "text": [
      "accuray: 0.2631\n"
     ]
    },
    {
     "name": "stderr",
     "output_type": "stream",
     "text": [
      "100%|██████████| 293/293 [00:33<00:00,  8.82it/s] \n",
      "  4%|▍         | 55/1250 [00:00<00:02, 549.50it/s]"
     ]
    },
    {
     "name": "stdout",
     "output_type": "stream",
     "text": [
      "epoch_loss/batch_ct=0.05984309685253908\n",
      "tensor(0.1191, device='cuda:0', grad_fn=<SmoothL1LossBackward0>)\n"
     ]
    },
    {
     "name": "stderr",
     "output_type": "stream",
     "text": [
      "100%|██████████| 1250/1250 [00:02<00:00, 598.98it/s]\n",
      "  0%|          | 1/293 [00:00<00:45,  6.40it/s]"
     ]
    },
    {
     "name": "stdout",
     "output_type": "stream",
     "text": [
      "accuray: 0.2659\n"
     ]
    },
    {
     "name": "stderr",
     "output_type": "stream",
     "text": [
      "100%|██████████| 293/293 [00:31<00:00,  9.34it/s] \n",
      "  6%|▌         | 69/1250 [00:00<00:01, 682.55it/s]"
     ]
    },
    {
     "name": "stdout",
     "output_type": "stream",
     "text": [
      "epoch_loss/batch_ct=0.059810291354854904\n",
      "tensor(0.1188, device='cuda:0', grad_fn=<SmoothL1LossBackward0>)\n"
     ]
    },
    {
     "name": "stderr",
     "output_type": "stream",
     "text": [
      "100%|██████████| 1250/1250 [00:01<00:00, 657.64it/s]\n",
      "  0%|          | 1/293 [00:00<00:35,  8.33it/s]"
     ]
    },
    {
     "name": "stdout",
     "output_type": "stream",
     "text": [
      "accuray: 0.2605\n"
     ]
    },
    {
     "name": "stderr",
     "output_type": "stream",
     "text": [
      "100%|██████████| 293/293 [00:31<00:00,  9.36it/s] \n",
      " 11%|█         | 136/1250 [00:00<00:01, 675.41it/s]"
     ]
    },
    {
     "name": "stdout",
     "output_type": "stream",
     "text": [
      "epoch_loss/batch_ct=0.05993004514288808\n",
      "tensor(0.1177, device='cuda:0', grad_fn=<SmoothL1LossBackward0>)\n"
     ]
    },
    {
     "name": "stderr",
     "output_type": "stream",
     "text": [
      "100%|██████████| 1250/1250 [00:01<00:00, 655.92it/s]\n",
      "  0%|          | 1/293 [00:00<00:34,  8.54it/s]"
     ]
    },
    {
     "name": "stdout",
     "output_type": "stream",
     "text": [
      "accuray: 0.2623\n"
     ]
    },
    {
     "name": "stderr",
     "output_type": "stream",
     "text": [
      "100%|██████████| 293/293 [00:33<00:00,  8.77it/s] \n",
      "  4%|▍         | 54/1250 [00:00<00:02, 539.51it/s]"
     ]
    },
    {
     "name": "stdout",
     "output_type": "stream",
     "text": [
      "epoch_loss/batch_ct=0.05995556407622875\n",
      "tensor(0.1186, device='cuda:0', grad_fn=<SmoothL1LossBackward0>)\n"
     ]
    },
    {
     "name": "stderr",
     "output_type": "stream",
     "text": [
      "100%|██████████| 1250/1250 [00:02<00:00, 589.36it/s]\n",
      "  0%|          | 1/293 [00:00<00:35,  8.19it/s]"
     ]
    },
    {
     "name": "stdout",
     "output_type": "stream",
     "text": [
      "accuray: 0.2589\n"
     ]
    },
    {
     "name": "stderr",
     "output_type": "stream",
     "text": [
      "100%|██████████| 293/293 [00:31<00:00,  9.29it/s] \n",
      "  8%|▊         | 100/1250 [00:00<00:02, 498.38it/s]"
     ]
    },
    {
     "name": "stdout",
     "output_type": "stream",
     "text": [
      "epoch_loss/batch_ct=0.0598487410221308\n",
      "tensor(0.1199, device='cuda:0', grad_fn=<SmoothL1LossBackward0>)\n"
     ]
    },
    {
     "name": "stderr",
     "output_type": "stream",
     "text": [
      "100%|██████████| 1250/1250 [00:02<00:00, 580.06it/s]\n",
      "  0%|          | 1/293 [00:00<00:36,  7.93it/s]"
     ]
    },
    {
     "name": "stdout",
     "output_type": "stream",
     "text": [
      "accuray: 0.2675\n"
     ]
    },
    {
     "name": "stderr",
     "output_type": "stream",
     "text": [
      "100%|██████████| 293/293 [00:31<00:00,  9.40it/s] \n",
      "  8%|▊         | 98/1250 [00:00<00:02, 491.32it/s]"
     ]
    },
    {
     "name": "stdout",
     "output_type": "stream",
     "text": [
      "epoch_loss/batch_ct=0.059871184491803724\n",
      "tensor(0.1186, device='cuda:0', grad_fn=<SmoothL1LossBackward0>)\n"
     ]
    },
    {
     "name": "stderr",
     "output_type": "stream",
     "text": [
      "100%|██████████| 1250/1250 [00:02<00:00, 588.25it/s]\n",
      "  0%|          | 1/293 [00:00<00:35,  8.19it/s]"
     ]
    },
    {
     "name": "stdout",
     "output_type": "stream",
     "text": [
      "accuray: 0.2626\n"
     ]
    },
    {
     "name": "stderr",
     "output_type": "stream",
     "text": [
      "100%|██████████| 293/293 [00:33<00:00,  8.75it/s] \n",
      "  3%|▎         | 43/1250 [00:00<00:02, 421.18it/s]"
     ]
    },
    {
     "name": "stdout",
     "output_type": "stream",
     "text": [
      "epoch_loss/batch_ct=0.05979689773881719\n",
      "tensor(0.1175, device='cuda:0', grad_fn=<SmoothL1LossBackward0>)\n"
     ]
    },
    {
     "name": "stderr",
     "output_type": "stream",
     "text": [
      "100%|██████████| 1250/1250 [00:02<00:00, 570.26it/s]\n",
      "  0%|          | 1/293 [00:00<00:35,  8.12it/s]"
     ]
    },
    {
     "name": "stdout",
     "output_type": "stream",
     "text": [
      "accuray: 0.2654\n"
     ]
    },
    {
     "name": "stderr",
     "output_type": "stream",
     "text": [
      "100%|██████████| 293/293 [00:31<00:00,  9.36it/s] \n",
      "  7%|▋         | 93/1250 [00:00<00:02, 464.49it/s]"
     ]
    },
    {
     "name": "stdout",
     "output_type": "stream",
     "text": [
      "epoch_loss/batch_ct=0.05991109936601586\n",
      "tensor(0.1186, device='cuda:0', grad_fn=<SmoothL1LossBackward0>)\n"
     ]
    },
    {
     "name": "stderr",
     "output_type": "stream",
     "text": [
      "100%|██████████| 1250/1250 [00:02<00:00, 576.84it/s]\n",
      "  0%|          | 1/293 [00:00<00:36,  8.06it/s]"
     ]
    },
    {
     "name": "stdout",
     "output_type": "stream",
     "text": [
      "accuray: 0.2651\n"
     ]
    },
    {
     "name": "stderr",
     "output_type": "stream",
     "text": [
      "100%|██████████| 293/293 [00:30<00:00,  9.47it/s] \n",
      "  4%|▍         | 52/1250 [00:00<00:02, 519.53it/s]"
     ]
    },
    {
     "name": "stdout",
     "output_type": "stream",
     "text": [
      "epoch_loss/batch_ct=0.05980391373177842\n",
      "tensor(0.1185, device='cuda:0', grad_fn=<SmoothL1LossBackward0>)\n"
     ]
    },
    {
     "name": "stderr",
     "output_type": "stream",
     "text": [
      "100%|██████████| 1250/1250 [00:02<00:00, 585.50it/s]\n",
      "  0%|          | 1/293 [00:00<00:36,  8.06it/s]"
     ]
    },
    {
     "name": "stdout",
     "output_type": "stream",
     "text": [
      "accuray: 0.263\n"
     ]
    },
    {
     "name": "stderr",
     "output_type": "stream",
     "text": [
      "100%|██████████| 293/293 [00:33<00:00,  8.87it/s] \n",
      "  7%|▋         | 89/1250 [00:00<00:02, 441.01it/s]"
     ]
    },
    {
     "name": "stdout",
     "output_type": "stream",
     "text": [
      "epoch_loss/batch_ct=0.05976215883025101\n",
      "tensor(0.1167, device='cuda:0', grad_fn=<SmoothL1LossBackward0>)\n"
     ]
    },
    {
     "name": "stderr",
     "output_type": "stream",
     "text": [
      "100%|██████████| 1250/1250 [00:02<00:00, 574.19it/s]\n",
      "  0%|          | 1/293 [00:00<00:35,  8.19it/s]"
     ]
    },
    {
     "name": "stdout",
     "output_type": "stream",
     "text": [
      "accuray: 0.2657\n"
     ]
    },
    {
     "name": "stderr",
     "output_type": "stream",
     "text": [
      "100%|██████████| 293/293 [00:31<00:00,  9.35it/s] \n",
      "  8%|▊         | 98/1250 [00:00<00:02, 493.08it/s]"
     ]
    },
    {
     "name": "stdout",
     "output_type": "stream",
     "text": [
      "epoch_loss/batch_ct=0.059750815114331626\n",
      "tensor(0.1185, device='cuda:0', grad_fn=<SmoothL1LossBackward0>)\n"
     ]
    },
    {
     "name": "stderr",
     "output_type": "stream",
     "text": [
      "100%|██████████| 1250/1250 [00:02<00:00, 577.38it/s]\n",
      "  0%|          | 1/293 [00:00<00:35,  8.19it/s]"
     ]
    },
    {
     "name": "stdout",
     "output_type": "stream",
     "text": [
      "accuray: 0.2648\n"
     ]
    },
    {
     "name": "stderr",
     "output_type": "stream",
     "text": [
      "100%|██████████| 293/293 [00:31<00:00,  9.40it/s] \n",
      "  6%|▌         | 69/1250 [00:00<00:01, 682.55it/s]"
     ]
    },
    {
     "name": "stdout",
     "output_type": "stream",
     "text": [
      "epoch_loss/batch_ct=0.059692935042438056\n",
      "tensor(0.1190, device='cuda:0', grad_fn=<SmoothL1LossBackward0>)\n"
     ]
    },
    {
     "name": "stderr",
     "output_type": "stream",
     "text": [
      "100%|██████████| 1250/1250 [00:01<00:00, 642.42it/s]\n",
      "  0%|          | 1/293 [00:00<00:34,  8.40it/s]"
     ]
    },
    {
     "name": "stdout",
     "output_type": "stream",
     "text": [
      "accuray: 0.2645\n"
     ]
    },
    {
     "name": "stderr",
     "output_type": "stream",
     "text": [
      "100%|██████████| 293/293 [00:32<00:00,  8.89it/s] \n",
      "  4%|▍         | 53/1250 [00:00<00:02, 524.27it/s]"
     ]
    },
    {
     "name": "stdout",
     "output_type": "stream",
     "text": [
      "epoch_loss/batch_ct=0.05973516584980109\n",
      "tensor(0.1156, device='cuda:0', grad_fn=<SmoothL1LossBackward0>)\n"
     ]
    },
    {
     "name": "stderr",
     "output_type": "stream",
     "text": [
      "100%|██████████| 1250/1250 [00:02<00:00, 589.92it/s]\n",
      "  0%|          | 1/293 [00:00<00:36,  8.06it/s]"
     ]
    },
    {
     "name": "stdout",
     "output_type": "stream",
     "text": [
      "accuray: 0.2662\n"
     ]
    },
    {
     "name": "stderr",
     "output_type": "stream",
     "text": [
      "100%|██████████| 293/293 [00:31<00:00,  9.40it/s] \n",
      "  8%|▊         | 96/1250 [00:00<00:02, 473.80it/s]"
     ]
    },
    {
     "name": "stdout",
     "output_type": "stream",
     "text": [
      "epoch_loss/batch_ct=0.05978776337135406\n",
      "tensor(0.1173, device='cuda:0', grad_fn=<SmoothL1LossBackward0>)\n"
     ]
    },
    {
     "name": "stderr",
     "output_type": "stream",
     "text": [
      "100%|██████████| 1250/1250 [00:02<00:00, 577.64it/s]\n",
      "  0%|          | 1/293 [00:00<00:37,  7.81it/s]"
     ]
    },
    {
     "name": "stdout",
     "output_type": "stream",
     "text": [
      "accuray: 0.2685\n"
     ]
    },
    {
     "name": "stderr",
     "output_type": "stream",
     "text": [
      "100%|██████████| 293/293 [00:31<00:00,  9.34it/s] \n",
      "  3%|▎         | 43/1250 [00:00<00:02, 429.61it/s]"
     ]
    },
    {
     "name": "stdout",
     "output_type": "stream",
     "text": [
      "epoch_loss/batch_ct=0.05979800828924728\n",
      "tensor(0.1169, device='cuda:0', grad_fn=<SmoothL1LossBackward0>)\n"
     ]
    },
    {
     "name": "stderr",
     "output_type": "stream",
     "text": [
      "100%|██████████| 1250/1250 [00:02<00:00, 574.19it/s]\n",
      "  0%|          | 1/293 [00:00<00:35,  8.19it/s]"
     ]
    },
    {
     "name": "stdout",
     "output_type": "stream",
     "text": [
      "accuray: 0.2672\n"
     ]
    },
    {
     "name": "stderr",
     "output_type": "stream",
     "text": [
      "100%|██████████| 293/293 [00:33<00:00,  8.76it/s] \n",
      "  3%|▎         | 43/1250 [00:00<00:02, 425.36it/s]"
     ]
    },
    {
     "name": "stdout",
     "output_type": "stream",
     "text": [
      "epoch_loss/batch_ct=0.05979404595517923\n",
      "tensor(0.1164, device='cuda:0', grad_fn=<SmoothL1LossBackward0>)\n"
     ]
    },
    {
     "name": "stderr",
     "output_type": "stream",
     "text": [
      "100%|██████████| 1250/1250 [00:02<00:00, 573.40it/s]\n",
      "  0%|          | 1/293 [00:00<00:36,  8.06it/s]"
     ]
    },
    {
     "name": "stdout",
     "output_type": "stream",
     "text": [
      "accuray: 0.2672\n"
     ]
    },
    {
     "name": "stderr",
     "output_type": "stream",
     "text": [
      "100%|██████████| 293/293 [00:31<00:00,  9.38it/s]\n",
      "  8%|▊         | 106/1250 [00:00<00:02, 517.35it/s]"
     ]
    },
    {
     "name": "stdout",
     "output_type": "stream",
     "text": [
      "epoch_loss/batch_ct=0.05980632525114786\n",
      "tensor(0.1176, device='cuda:0', grad_fn=<SmoothL1LossBackward0>)\n"
     ]
    },
    {
     "name": "stderr",
     "output_type": "stream",
     "text": [
      "100%|██████████| 1250/1250 [00:02<00:00, 591.88it/s]\n",
      "  0%|          | 1/293 [00:00<00:35,  8.19it/s]"
     ]
    },
    {
     "name": "stdout",
     "output_type": "stream",
     "text": [
      "accuray: 0.2676\n"
     ]
    },
    {
     "name": "stderr",
     "output_type": "stream",
     "text": [
      "100%|██████████| 293/293 [00:31<00:00,  9.36it/s] \n",
      " 11%|█         | 138/1250 [00:00<00:01, 685.34it/s]"
     ]
    },
    {
     "name": "stdout",
     "output_type": "stream",
     "text": [
      "epoch_loss/batch_ct=0.05966052658382862\n",
      "tensor(0.1180, device='cuda:0', grad_fn=<SmoothL1LossBackward0>)\n"
     ]
    },
    {
     "name": "stderr",
     "output_type": "stream",
     "text": [
      "100%|██████████| 1250/1250 [00:01<00:00, 632.66it/s]\n",
      "  0%|          | 1/293 [00:00<00:34,  8.47it/s]"
     ]
    },
    {
     "name": "stdout",
     "output_type": "stream",
     "text": [
      "accuray: 0.2638\n"
     ]
    },
    {
     "name": "stderr",
     "output_type": "stream",
     "text": [
      "100%|██████████| 293/293 [00:32<00:00,  8.91it/s] \n",
      "  8%|▊         | 105/1250 [00:00<00:02, 520.20it/s]"
     ]
    },
    {
     "name": "stdout",
     "output_type": "stream",
     "text": [
      "epoch_loss/batch_ct=0.059760129493143826\n",
      "tensor(0.1181, device='cuda:0', grad_fn=<SmoothL1LossBackward0>)\n"
     ]
    },
    {
     "name": "stderr",
     "output_type": "stream",
     "text": [
      "100%|██████████| 1250/1250 [00:02<00:00, 598.69it/s]\n",
      "  0%|          | 1/293 [00:00<00:35,  8.19it/s]"
     ]
    },
    {
     "name": "stdout",
     "output_type": "stream",
     "text": [
      "accuray: 0.2666\n"
     ]
    },
    {
     "name": "stderr",
     "output_type": "stream",
     "text": [
      "100%|██████████| 293/293 [00:31<00:00,  9.28it/s] \n",
      " 10%|▉         | 124/1250 [00:00<00:01, 615.05it/s]"
     ]
    },
    {
     "name": "stdout",
     "output_type": "stream",
     "text": [
      "epoch_loss/batch_ct=0.05982486250263358\n",
      "tensor(0.1177, device='cuda:0', grad_fn=<SmoothL1LossBackward0>)\n"
     ]
    },
    {
     "name": "stderr",
     "output_type": "stream",
     "text": [
      "100%|██████████| 1250/1250 [00:02<00:00, 594.70it/s]\n",
      "  0%|          | 1/293 [00:00<00:35,  8.19it/s]"
     ]
    },
    {
     "name": "stdout",
     "output_type": "stream",
     "text": [
      "accuray: 0.2634\n"
     ]
    },
    {
     "name": "stderr",
     "output_type": "stream",
     "text": [
      "100%|██████████| 293/293 [00:31<00:00,  9.45it/s] \n",
      "  4%|▍         | 52/1250 [00:00<00:02, 519.53it/s]"
     ]
    },
    {
     "name": "stdout",
     "output_type": "stream",
     "text": [
      "epoch_loss/batch_ct=0.059823061502169046\n",
      "tensor(0.1156, device='cuda:0', grad_fn=<SmoothL1LossBackward0>)\n"
     ]
    },
    {
     "name": "stderr",
     "output_type": "stream",
     "text": [
      "100%|██████████| 1250/1250 [00:02<00:00, 589.09it/s]\n",
      "  0%|          | 1/293 [00:00<00:35,  8.19it/s]"
     ]
    },
    {
     "name": "stdout",
     "output_type": "stream",
     "text": [
      "accuray: 0.2634\n"
     ]
    },
    {
     "name": "stderr",
     "output_type": "stream",
     "text": [
      "100%|██████████| 293/293 [00:33<00:00,  8.80it/s] \n",
      " 11%|█         | 138/1250 [00:00<00:01, 685.34it/s]"
     ]
    },
    {
     "name": "stdout",
     "output_type": "stream",
     "text": [
      "epoch_loss/batch_ct=0.059780088238536366\n",
      "tensor(0.1169, device='cuda:0', grad_fn=<SmoothL1LossBackward0>)\n"
     ]
    },
    {
     "name": "stderr",
     "output_type": "stream",
     "text": [
      "100%|██████████| 1250/1250 [00:01<00:00, 645.41it/s]\n",
      "  0%|          | 1/293 [00:00<00:34,  8.47it/s]"
     ]
    },
    {
     "name": "stdout",
     "output_type": "stream",
     "text": [
      "accuray: 0.2679\n"
     ]
    },
    {
     "name": "stderr",
     "output_type": "stream",
     "text": [
      "100%|██████████| 293/293 [00:31<00:00,  9.45it/s]\n",
      "  4%|▎         | 45/1250 [00:00<00:02, 449.59it/s]"
     ]
    },
    {
     "name": "stdout",
     "output_type": "stream",
     "text": [
      "epoch_loss/batch_ct=0.05972591336698286\n",
      "tensor(0.1189, device='cuda:0', grad_fn=<SmoothL1LossBackward0>)\n"
     ]
    },
    {
     "name": "stderr",
     "output_type": "stream",
     "text": [
      "100%|██████████| 1250/1250 [00:02<00:00, 580.06it/s]\n",
      "  0%|          | 1/293 [00:00<00:35,  8.19it/s]"
     ]
    },
    {
     "name": "stdout",
     "output_type": "stream",
     "text": [
      "accuray: 0.2668\n"
     ]
    },
    {
     "name": "stderr",
     "output_type": "stream",
     "text": [
      "100%|██████████| 293/293 [00:30<00:00,  9.45it/s] \n",
      " 11%|█         | 135/1250 [00:00<00:01, 673.07it/s]"
     ]
    },
    {
     "name": "stdout",
     "output_type": "stream",
     "text": [
      "epoch_loss/batch_ct=0.05975163525473031\n",
      "tensor(0.1165, device='cuda:0', grad_fn=<SmoothL1LossBackward0>)\n"
     ]
    },
    {
     "name": "stderr",
     "output_type": "stream",
     "text": [
      "100%|██████████| 1250/1250 [00:01<00:00, 655.92it/s]\n",
      "  0%|          | 1/293 [00:00<00:33,  8.61it/s]"
     ]
    },
    {
     "name": "stdout",
     "output_type": "stream",
     "text": [
      "accuray: 0.2665\n"
     ]
    },
    {
     "name": "stderr",
     "output_type": "stream",
     "text": [
      "100%|██████████| 293/293 [00:32<00:00,  8.90it/s] \n",
      "  8%|▊         | 101/1250 [00:00<00:02, 503.04it/s]"
     ]
    },
    {
     "name": "stdout",
     "output_type": "stream",
     "text": [
      "epoch_loss/batch_ct=0.05964617176897942\n",
      "tensor(0.1171, device='cuda:0', grad_fn=<SmoothL1LossBackward0>)\n"
     ]
    },
    {
     "name": "stderr",
     "output_type": "stream",
     "text": [
      "100%|██████████| 1250/1250 [00:02<00:00, 580.33it/s]\n",
      "  0%|          | 1/293 [00:00<00:37,  7.81it/s]"
     ]
    },
    {
     "name": "stdout",
     "output_type": "stream",
     "text": [
      "accuray: 0.2655\n"
     ]
    },
    {
     "name": "stderr",
     "output_type": "stream",
     "text": [
      "100%|██████████| 293/293 [00:31<00:00,  9.33it/s] \n",
      "  4%|▎         | 45/1250 [00:00<00:02, 445.14it/s]"
     ]
    },
    {
     "name": "stdout",
     "output_type": "stream",
     "text": [
      "epoch_loss/batch_ct=0.059595347574305915\n",
      "tensor(0.1168, device='cuda:0', grad_fn=<SmoothL1LossBackward0>)\n"
     ]
    },
    {
     "name": "stderr",
     "output_type": "stream",
     "text": [
      "100%|██████████| 1250/1250 [00:02<00:00, 578.71it/s]\n",
      "  0%|          | 1/293 [00:00<00:36,  7.99it/s]"
     ]
    },
    {
     "name": "stdout",
     "output_type": "stream",
     "text": [
      "accuray: 0.2646\n"
     ]
    },
    {
     "name": "stderr",
     "output_type": "stream",
     "text": [
      "100%|██████████| 293/293 [00:31<00:00,  9.27it/s] \n",
      "  7%|▋         | 88/1250 [00:00<00:02, 431.98it/s]"
     ]
    },
    {
     "name": "stdout",
     "output_type": "stream",
     "text": [
      "epoch_loss/batch_ct=0.05977739899286202\n",
      "tensor(0.1170, device='cuda:0', grad_fn=<SmoothL1LossBackward0>)\n"
     ]
    },
    {
     "name": "stderr",
     "output_type": "stream",
     "text": [
      "100%|██████████| 1250/1250 [00:02<00:00, 563.31it/s]\n",
      "  0%|          | 1/293 [00:00<00:35,  8.19it/s]"
     ]
    },
    {
     "name": "stdout",
     "output_type": "stream",
     "text": [
      "accuray: 0.2683\n"
     ]
    },
    {
     "name": "stderr",
     "output_type": "stream",
     "text": [
      "100%|██████████| 293/293 [00:33<00:00,  8.83it/s] \n",
      "  4%|▍         | 48/1250 [00:00<00:02, 479.56it/s]"
     ]
    },
    {
     "name": "stdout",
     "output_type": "stream",
     "text": [
      "epoch_loss/batch_ct=0.05976135620758647\n",
      "tensor(0.1186, device='cuda:0', grad_fn=<SmoothL1LossBackward0>)\n"
     ]
    },
    {
     "name": "stderr",
     "output_type": "stream",
     "text": [
      "100%|██████████| 1250/1250 [00:02<00:00, 590.20it/s]\n",
      "  0%|          | 1/293 [00:00<00:36,  7.93it/s]"
     ]
    },
    {
     "name": "stdout",
     "output_type": "stream",
     "text": [
      "accuray: 0.2679\n"
     ]
    },
    {
     "name": "stderr",
     "output_type": "stream",
     "text": [
      "100%|██████████| 293/293 [00:31<00:00,  9.42it/s] \n",
      "  3%|▎         | 39/1250 [00:00<00:03, 385.79it/s]"
     ]
    },
    {
     "name": "stdout",
     "output_type": "stream",
     "text": [
      "epoch_loss/batch_ct=0.05978131841217715\n",
      "tensor(0.1162, device='cuda:0', grad_fn=<SmoothL1LossBackward0>)\n"
     ]
    },
    {
     "name": "stderr",
     "output_type": "stream",
     "text": [
      "100%|██████████| 1250/1250 [00:02<00:00, 579.52it/s]\n",
      "  0%|          | 1/293 [00:00<00:36,  7.93it/s]"
     ]
    },
    {
     "name": "stdout",
     "output_type": "stream",
     "text": [
      "accuray: 0.2662\n"
     ]
    },
    {
     "name": "stderr",
     "output_type": "stream",
     "text": [
      "100%|██████████| 293/293 [00:31<00:00,  9.34it/s] \n",
      "  7%|▋         | 88/1250 [00:00<00:02, 419.84it/s]"
     ]
    },
    {
     "name": "stdout",
     "output_type": "stream",
     "text": [
      "epoch_loss/batch_ct=0.059642758870881704\n",
      "tensor(0.1163, device='cuda:0', grad_fn=<SmoothL1LossBackward0>)\n"
     ]
    },
    {
     "name": "stderr",
     "output_type": "stream",
     "text": [
      "100%|██████████| 1250/1250 [00:02<00:00, 574.45it/s]\n",
      "  0%|          | 1/293 [00:00<00:35,  8.19it/s]"
     ]
    },
    {
     "name": "stdout",
     "output_type": "stream",
     "text": [
      "accuray: 0.265\n"
     ]
    },
    {
     "name": "stderr",
     "output_type": "stream",
     "text": [
      "100%|██████████| 293/293 [00:32<00:00,  8.88it/s]\n",
      "  7%|▋         | 85/1250 [00:00<00:02, 425.49it/s]"
     ]
    },
    {
     "name": "stdout",
     "output_type": "stream",
     "text": [
      "epoch_loss/batch_ct=0.05966030268205537\n",
      "tensor(0.1181, device='cuda:0', grad_fn=<SmoothL1LossBackward0>)\n"
     ]
    },
    {
     "name": "stderr",
     "output_type": "stream",
     "text": [
      "100%|██████████| 1250/1250 [00:02<00:00, 567.15it/s]\n",
      "  0%|          | 1/293 [00:00<00:35,  8.19it/s]"
     ]
    },
    {
     "name": "stdout",
     "output_type": "stream",
     "text": [
      "accuray: 0.2682\n"
     ]
    },
    {
     "name": "stderr",
     "output_type": "stream",
     "text": [
      "100%|██████████| 293/293 [00:31<00:00,  9.44it/s] \n",
      " 10%|█         | 126/1250 [00:00<00:01, 618.51it/s]"
     ]
    },
    {
     "name": "stdout",
     "output_type": "stream",
     "text": [
      "epoch_loss/batch_ct=0.05969456428041061\n",
      "tensor(0.1172, device='cuda:0', grad_fn=<SmoothL1LossBackward0>)\n"
     ]
    },
    {
     "name": "stderr",
     "output_type": "stream",
     "text": [
      "100%|██████████| 1250/1250 [00:02<00:00, 607.72it/s]\n",
      "  0%|          | 1/293 [00:00<00:34,  8.40it/s]"
     ]
    },
    {
     "name": "stdout",
     "output_type": "stream",
     "text": [
      "accuray: 0.266\n"
     ]
    },
    {
     "name": "stderr",
     "output_type": "stream",
     "text": [
      "100%|██████████| 293/293 [00:31<00:00,  9.31it/s] \n",
      "  5%|▍         | 61/1250 [00:00<00:01, 603.41it/s]"
     ]
    },
    {
     "name": "stdout",
     "output_type": "stream",
     "text": [
      "epoch_loss/batch_ct=0.05964943300932646\n",
      "tensor(0.1176, device='cuda:0', grad_fn=<SmoothL1LossBackward0>)\n"
     ]
    },
    {
     "name": "stderr",
     "output_type": "stream",
     "text": [
      "100%|██████████| 1250/1250 [00:02<00:00, 601.86it/s]\n",
      "  0%|          | 1/293 [00:00<00:37,  7.74it/s]"
     ]
    },
    {
     "name": "stdout",
     "output_type": "stream",
     "text": [
      "accuray: 0.2679\n"
     ]
    },
    {
     "name": "stderr",
     "output_type": "stream",
     "text": [
      "100%|██████████| 293/293 [00:33<00:00,  8.84it/s]\n",
      "  8%|▊         | 94/1250 [00:00<00:02, 461.43it/s]"
     ]
    },
    {
     "name": "stdout",
     "output_type": "stream",
     "text": [
      "epoch_loss/batch_ct=0.0596197975710744\n",
      "tensor(0.1157, device='cuda:0', grad_fn=<SmoothL1LossBackward0>)\n"
     ]
    },
    {
     "name": "stderr",
     "output_type": "stream",
     "text": [
      "100%|██████████| 1250/1250 [00:02<00:00, 574.98it/s]\n",
      "  0%|          | 1/293 [00:00<00:36,  7.93it/s]"
     ]
    },
    {
     "name": "stdout",
     "output_type": "stream",
     "text": [
      "accuray: 0.2682\n"
     ]
    },
    {
     "name": "stderr",
     "output_type": "stream",
     "text": [
      "100%|██████████| 293/293 [00:31<00:00,  9.40it/s] \n",
      " 11%|█         | 132/1250 [00:00<00:01, 626.24it/s]"
     ]
    },
    {
     "name": "stdout",
     "output_type": "stream",
     "text": [
      "epoch_loss/batch_ct=0.059610356931530294\n",
      "tensor(0.1160, device='cuda:0', grad_fn=<SmoothL1LossBackward0>)\n"
     ]
    },
    {
     "name": "stderr",
     "output_type": "stream",
     "text": [
      "100%|██████████| 1250/1250 [00:02<00:00, 609.20it/s]\n",
      "  0%|          | 1/293 [00:00<00:37,  7.81it/s]"
     ]
    },
    {
     "name": "stdout",
     "output_type": "stream",
     "text": [
      "accuray: 0.2647\n"
     ]
    },
    {
     "name": "stderr",
     "output_type": "stream",
     "text": [
      "100%|██████████| 293/293 [00:31<00:00,  9.26it/s]\n",
      "  4%|▎         | 44/1250 [00:00<00:02, 435.25it/s]"
     ]
    },
    {
     "name": "stdout",
     "output_type": "stream",
     "text": [
      "epoch_loss/batch_ct=0.05955643706496746\n",
      "tensor(0.1179, device='cuda:0', grad_fn=<SmoothL1LossBackward0>)\n"
     ]
    },
    {
     "name": "stderr",
     "output_type": "stream",
     "text": [
      "100%|██████████| 1250/1250 [00:02<00:00, 577.11it/s]\n",
      "  0%|          | 1/293 [00:00<00:35,  8.26it/s]"
     ]
    },
    {
     "name": "stdout",
     "output_type": "stream",
     "text": [
      "accuray: 0.2675\n"
     ]
    },
    {
     "name": "stderr",
     "output_type": "stream",
     "text": [
      "100%|██████████| 293/293 [00:33<00:00,  8.85it/s] \n",
      "  9%|▊         | 108/1250 [00:00<00:02, 541.27it/s]"
     ]
    },
    {
     "name": "stdout",
     "output_type": "stream",
     "text": [
      "epoch_loss/batch_ct=0.05957760202092311\n",
      "tensor(0.1170, device='cuda:0', grad_fn=<SmoothL1LossBackward0>)\n"
     ]
    },
    {
     "name": "stderr",
     "output_type": "stream",
     "text": [
      "100%|██████████| 1250/1250 [00:02<00:00, 593.85it/s]\n",
      "  0%|          | 1/293 [00:00<00:35,  8.12it/s]"
     ]
    },
    {
     "name": "stdout",
     "output_type": "stream",
     "text": [
      "accuray: 0.2671\n"
     ]
    },
    {
     "name": "stderr",
     "output_type": "stream",
     "text": [
      "100%|██████████| 293/293 [00:31<00:00,  9.30it/s] \n",
      "  4%|▎         | 44/1250 [00:00<00:02, 430.98it/s]"
     ]
    },
    {
     "name": "stdout",
     "output_type": "stream",
     "text": [
      "epoch_loss/batch_ct=0.05966210425905292\n",
      "tensor(0.1178, device='cuda:0', grad_fn=<SmoothL1LossBackward0>)\n"
     ]
    },
    {
     "name": "stderr",
     "output_type": "stream",
     "text": [
      "100%|██████████| 1250/1250 [00:02<00:00, 573.14it/s]\n",
      "  0%|          | 1/293 [00:00<00:35,  8.26it/s]"
     ]
    },
    {
     "name": "stdout",
     "output_type": "stream",
     "text": [
      "accuray: 0.2638\n"
     ]
    },
    {
     "name": "stderr",
     "output_type": "stream",
     "text": [
      "100%|██████████| 293/293 [00:31<00:00,  9.38it/s] \n",
      "  4%|▎         | 45/1250 [00:00<00:02, 440.78it/s]"
     ]
    },
    {
     "name": "stdout",
     "output_type": "stream",
     "text": [
      "epoch_loss/batch_ct=0.05962434484963379\n",
      "tensor(0.1181, device='cuda:0', grad_fn=<SmoothL1LossBackward0>)\n"
     ]
    },
    {
     "name": "stderr",
     "output_type": "stream",
     "text": [
      "100%|██████████| 1250/1250 [00:02<00:00, 583.04it/s]\n",
      "  0%|          | 1/293 [00:00<00:39,  7.35it/s]"
     ]
    },
    {
     "name": "stdout",
     "output_type": "stream",
     "text": [
      "accuray: 0.265\n"
     ]
    },
    {
     "name": "stderr",
     "output_type": "stream",
     "text": [
      "100%|██████████| 293/293 [00:31<00:00,  9.42it/s] \n",
      "  4%|▍         | 48/1250 [00:00<00:02, 479.56it/s]"
     ]
    },
    {
     "name": "stdout",
     "output_type": "stream",
     "text": [
      "epoch_loss/batch_ct=0.05958335126735388\n",
      "tensor(0.1177, device='cuda:0', grad_fn=<SmoothL1LossBackward0>)\n"
     ]
    },
    {
     "name": "stderr",
     "output_type": "stream",
     "text": [
      "100%|██████████| 1250/1250 [00:02<00:00, 575.78it/s]\n",
      "  0%|          | 1/293 [00:00<00:37,  7.69it/s]"
     ]
    },
    {
     "name": "stdout",
     "output_type": "stream",
     "text": [
      "accuray: 0.2636\n"
     ]
    },
    {
     "name": "stderr",
     "output_type": "stream",
     "text": [
      "100%|██████████| 293/293 [00:31<00:00,  9.38it/s] \n",
      "  4%|▍         | 50/1250 [00:00<00:02, 499.54it/s]"
     ]
    },
    {
     "name": "stdout",
     "output_type": "stream",
     "text": [
      "epoch_loss/batch_ct=0.05965843963776789\n",
      "tensor(0.1184, device='cuda:0', grad_fn=<SmoothL1LossBackward0>)\n"
     ]
    },
    {
     "name": "stderr",
     "output_type": "stream",
     "text": [
      "100%|██████████| 1250/1250 [00:02<00:00, 594.98it/s]\n",
      "  0%|          | 1/293 [00:00<00:35,  8.19it/s]"
     ]
    },
    {
     "name": "stdout",
     "output_type": "stream",
     "text": [
      "accuray: 0.2664\n"
     ]
    },
    {
     "name": "stderr",
     "output_type": "stream",
     "text": [
      "100%|██████████| 293/293 [00:31<00:00,  9.30it/s] \n",
      "  8%|▊         | 94/1250 [00:00<00:02, 471.16it/s]"
     ]
    },
    {
     "name": "stdout",
     "output_type": "stream",
     "text": [
      "epoch_loss/batch_ct=0.059619251047334974\n",
      "tensor(0.1179, device='cuda:0', grad_fn=<SmoothL1LossBackward0>)\n"
     ]
    },
    {
     "name": "stderr",
     "output_type": "stream",
     "text": [
      "100%|██████████| 1250/1250 [00:02<00:00, 580.06it/s]\n",
      "  0%|          | 1/293 [00:00<00:36,  8.06it/s]"
     ]
    },
    {
     "name": "stdout",
     "output_type": "stream",
     "text": [
      "accuray: 0.268\n"
     ]
    },
    {
     "name": "stderr",
     "output_type": "stream",
     "text": [
      "100%|██████████| 293/293 [00:33<00:00,  8.82it/s] \n",
      "  7%|▋         | 89/1250 [00:00<00:02, 443.65it/s]"
     ]
    },
    {
     "name": "stdout",
     "output_type": "stream",
     "text": [
      "epoch_loss/batch_ct=0.059660858637283716\n",
      "tensor(0.1180, device='cuda:0', grad_fn=<SmoothL1LossBackward0>)\n"
     ]
    },
    {
     "name": "stderr",
     "output_type": "stream",
     "text": [
      "100%|██████████| 1250/1250 [00:02<00:00, 573.93it/s]\n",
      "  0%|          | 1/293 [00:00<00:35,  8.12it/s]"
     ]
    },
    {
     "name": "stdout",
     "output_type": "stream",
     "text": [
      "accuray: 0.265\n"
     ]
    },
    {
     "name": "stderr",
     "output_type": "stream",
     "text": [
      "100%|██████████| 293/293 [00:31<00:00,  9.38it/s] \n",
      "  8%|▊         | 104/1250 [00:00<00:02, 516.13it/s]"
     ]
    },
    {
     "name": "stdout",
     "output_type": "stream",
     "text": [
      "epoch_loss/batch_ct=0.05970717050016872\n",
      "tensor(0.1157, device='cuda:0', grad_fn=<SmoothL1LossBackward0>)\n"
     ]
    },
    {
     "name": "stderr",
     "output_type": "stream",
     "text": [
      "100%|██████████| 1250/1250 [00:02<00:00, 584.95it/s]\n",
      "  0%|          | 1/293 [00:00<00:35,  8.19it/s]"
     ]
    },
    {
     "name": "stdout",
     "output_type": "stream",
     "text": [
      "accuray: 0.2692\n"
     ]
    },
    {
     "name": "stderr",
     "output_type": "stream",
     "text": [
      "100%|██████████| 293/293 [00:30<00:00,  9.50it/s] \n",
      "  3%|▎         | 42/1250 [00:00<00:02, 415.46it/s]"
     ]
    },
    {
     "name": "stdout",
     "output_type": "stream",
     "text": [
      "epoch_loss/batch_ct=0.05971863280449595\n",
      "tensor(0.1161, device='cuda:0', grad_fn=<SmoothL1LossBackward0>)\n"
     ]
    },
    {
     "name": "stderr",
     "output_type": "stream",
     "text": [
      "100%|██████████| 1250/1250 [00:02<00:00, 577.38it/s]\n",
      "  0%|          | 1/293 [00:00<00:35,  8.12it/s]"
     ]
    },
    {
     "name": "stdout",
     "output_type": "stream",
     "text": [
      "accuray: 0.2683\n"
     ]
    },
    {
     "name": "stderr",
     "output_type": "stream",
     "text": [
      "100%|██████████| 293/293 [00:33<00:00,  8.80it/s] \n",
      "  4%|▍         | 55/1250 [00:00<00:02, 544.06it/s]"
     ]
    },
    {
     "name": "stdout",
     "output_type": "stream",
     "text": [
      "epoch_loss/batch_ct=0.059644688630387896\n",
      "tensor(0.1175, device='cuda:0', grad_fn=<SmoothL1LossBackward0>)\n"
     ]
    },
    {
     "name": "stderr",
     "output_type": "stream",
     "text": [
      "100%|██████████| 1250/1250 [00:02<00:00, 587.70it/s]\n",
      "  0%|          | 1/293 [00:00<00:38,  7.51it/s]"
     ]
    },
    {
     "name": "stdout",
     "output_type": "stream",
     "text": [
      "accuray: 0.2656\n"
     ]
    },
    {
     "name": "stderr",
     "output_type": "stream",
     "text": [
      "100%|██████████| 293/293 [00:31<00:00,  9.30it/s] \n",
      "  3%|▎         | 43/1250 [00:00<00:02, 421.19it/s]"
     ]
    },
    {
     "name": "stdout",
     "output_type": "stream",
     "text": [
      "epoch_loss/batch_ct=0.059637873418747434\n",
      "tensor(0.1175, device='cuda:0', grad_fn=<SmoothL1LossBackward0>)\n"
     ]
    },
    {
     "name": "stderr",
     "output_type": "stream",
     "text": [
      "100%|██████████| 1250/1250 [00:02<00:00, 577.64it/s]\n",
      "  0%|          | 1/293 [00:00<00:35,  8.12it/s]"
     ]
    },
    {
     "name": "stdout",
     "output_type": "stream",
     "text": [
      "accuray: 0.2741\n"
     ]
    },
    {
     "name": "stderr",
     "output_type": "stream",
     "text": [
      "100%|██████████| 293/293 [00:31<00:00,  9.37it/s] \n",
      "  4%|▍         | 54/1250 [00:00<00:02, 539.51it/s]"
     ]
    },
    {
     "name": "stdout",
     "output_type": "stream",
     "text": [
      "epoch_loss/batch_ct=0.059633196996791024\n",
      "tensor(0.1186, device='cuda:0', grad_fn=<SmoothL1LossBackward0>)\n"
     ]
    },
    {
     "name": "stderr",
     "output_type": "stream",
     "text": [
      "100%|██████████| 1250/1250 [00:02<00:00, 588.25it/s]\n",
      "  0%|          | 1/293 [00:00<00:37,  7.74it/s]"
     ]
    },
    {
     "name": "stdout",
     "output_type": "stream",
     "text": [
      "accuray: 0.2657\n"
     ]
    },
    {
     "name": "stderr",
     "output_type": "stream",
     "text": [
      "100%|██████████| 293/293 [00:32<00:00,  8.89it/s] \n",
      "  4%|▎         | 46/1250 [00:00<00:02, 459.58it/s]"
     ]
    },
    {
     "name": "stdout",
     "output_type": "stream",
     "text": [
      "epoch_loss/batch_ct=0.05965640561448203\n",
      "tensor(0.1174, device='cuda:0', grad_fn=<SmoothL1LossBackward0>)\n"
     ]
    },
    {
     "name": "stderr",
     "output_type": "stream",
     "text": [
      "100%|██████████| 1250/1250 [00:02<00:00, 573.93it/s]\n",
      "  0%|          | 1/293 [00:00<00:35,  8.19it/s]"
     ]
    },
    {
     "name": "stdout",
     "output_type": "stream",
     "text": [
      "accuray: 0.2693\n"
     ]
    },
    {
     "name": "stderr",
     "output_type": "stream",
     "text": [
      "100%|██████████| 293/293 [00:30<00:00,  9.46it/s] \n",
      "  8%|▊         | 95/1250 [00:00<00:02, 475.25it/s]"
     ]
    },
    {
     "name": "stdout",
     "output_type": "stream",
     "text": [
      "epoch_loss/batch_ct=0.05970562438643168\n",
      "tensor(0.1141, device='cuda:0', grad_fn=<SmoothL1LossBackward0>)\n"
     ]
    },
    {
     "name": "stderr",
     "output_type": "stream",
     "text": [
      "100%|██████████| 1250/1250 [00:02<00:00, 577.11it/s]\n",
      "  0%|          | 1/293 [00:00<00:36,  8.06it/s]"
     ]
    },
    {
     "name": "stdout",
     "output_type": "stream",
     "text": [
      "accuray: 0.26\n"
     ]
    },
    {
     "name": "stderr",
     "output_type": "stream",
     "text": [
      "100%|██████████| 293/293 [00:31<00:00,  9.32it/s] \n",
      "  8%|▊         | 96/1250 [00:00<00:02, 478.51it/s]"
     ]
    },
    {
     "name": "stdout",
     "output_type": "stream",
     "text": [
      "epoch_loss/batch_ct=0.059650497865818795\n",
      "tensor(0.1159, device='cuda:0', grad_fn=<SmoothL1LossBackward0>)\n"
     ]
    },
    {
     "name": "stderr",
     "output_type": "stream",
     "text": [
      "100%|██████████| 1250/1250 [00:02<00:00, 566.89it/s]\n",
      "  0%|          | 1/293 [00:00<00:35,  8.19it/s]"
     ]
    },
    {
     "name": "stdout",
     "output_type": "stream",
     "text": [
      "accuray: 0.2676\n"
     ]
    },
    {
     "name": "stderr",
     "output_type": "stream",
     "text": [
      "100%|██████████| 293/293 [00:33<00:00,  8.84it/s] \n",
      "  8%|▊         | 94/1250 [00:00<00:02, 464.11it/s]"
     ]
    },
    {
     "name": "stdout",
     "output_type": "stream",
     "text": [
      "epoch_loss/batch_ct=0.059674612512545924\n",
      "tensor(0.1182, device='cuda:0', grad_fn=<SmoothL1LossBackward0>)\n"
     ]
    },
    {
     "name": "stderr",
     "output_type": "stream",
     "text": [
      "100%|██████████| 1250/1250 [00:02<00:00, 572.87it/s]\n",
      "  0%|          | 1/293 [00:00<00:36,  7.99it/s]"
     ]
    },
    {
     "name": "stdout",
     "output_type": "stream",
     "text": [
      "accuray: 0.2661\n"
     ]
    },
    {
     "name": "stderr",
     "output_type": "stream",
     "text": [
      "100%|██████████| 293/293 [00:31<00:00,  9.24it/s] \n",
      "  7%|▋         | 91/1250 [00:00<00:02, 454.34it/s]"
     ]
    },
    {
     "name": "stdout",
     "output_type": "stream",
     "text": [
      "epoch_loss/batch_ct=0.059678042603154034\n",
      "tensor(0.1190, device='cuda:0', grad_fn=<SmoothL1LossBackward0>)\n"
     ]
    },
    {
     "name": "stderr",
     "output_type": "stream",
     "text": [
      "100%|██████████| 1250/1250 [00:02<00:00, 567.41it/s]\n",
      "  0%|          | 1/293 [00:00<00:36,  7.99it/s]"
     ]
    },
    {
     "name": "stdout",
     "output_type": "stream",
     "text": [
      "accuray: 0.2625\n"
     ]
    },
    {
     "name": "stderr",
     "output_type": "stream",
     "text": [
      "100%|██████████| 293/293 [00:31<00:00,  9.37it/s] \n",
      "  8%|▊         | 97/1250 [00:00<00:02, 487.20it/s]"
     ]
    },
    {
     "name": "stdout",
     "output_type": "stream",
     "text": [
      "epoch_loss/batch_ct=0.059667837968657884\n",
      "tensor(0.1169, device='cuda:0', grad_fn=<SmoothL1LossBackward0>)\n"
     ]
    },
    {
     "name": "stderr",
     "output_type": "stream",
     "text": [
      "100%|██████████| 1250/1250 [00:02<00:00, 572.35it/s]\n",
      "  0%|          | 1/293 [00:00<00:37,  7.81it/s]"
     ]
    },
    {
     "name": "stdout",
     "output_type": "stream",
     "text": [
      "accuray: 0.2651\n"
     ]
    },
    {
     "name": "stderr",
     "output_type": "stream",
     "text": [
      "100%|██████████| 293/293 [00:33<00:00,  8.82it/s] \n",
      "  3%|▎         | 43/1250 [00:00<00:02, 429.61it/s]"
     ]
    },
    {
     "name": "stdout",
     "output_type": "stream",
     "text": [
      "epoch_loss/batch_ct=0.05961487134770742\n",
      "tensor(0.1166, device='cuda:0', grad_fn=<SmoothL1LossBackward0>)\n"
     ]
    },
    {
     "name": "stderr",
     "output_type": "stream",
     "text": [
      "100%|██████████| 1250/1250 [00:02<00:00, 581.95it/s]\n",
      "  0%|          | 1/293 [00:00<00:37,  7.87it/s]"
     ]
    },
    {
     "name": "stdout",
     "output_type": "stream",
     "text": [
      "accuray: 0.2675\n"
     ]
    },
    {
     "name": "stderr",
     "output_type": "stream",
     "text": [
      "100%|██████████| 293/293 [00:31<00:00,  9.41it/s] \n",
      "  8%|▊         | 95/1250 [00:00<00:02, 468.83it/s]"
     ]
    },
    {
     "name": "stdout",
     "output_type": "stream",
     "text": [
      "epoch_loss/batch_ct=0.059625282174065\n",
      "tensor(0.1159, device='cuda:0', grad_fn=<SmoothL1LossBackward0>)\n"
     ]
    },
    {
     "name": "stderr",
     "output_type": "stream",
     "text": [
      "100%|██████████| 1250/1250 [00:02<00:00, 564.08it/s]\n",
      "  0%|          | 1/293 [00:00<00:35,  8.12it/s]"
     ]
    },
    {
     "name": "stdout",
     "output_type": "stream",
     "text": [
      "accuray: 0.2661\n"
     ]
    },
    {
     "name": "stderr",
     "output_type": "stream",
     "text": [
      "100%|██████████| 293/293 [00:31<00:00,  9.32it/s] \n",
      "  3%|▎         | 40/1250 [00:00<00:03, 399.64it/s]"
     ]
    },
    {
     "name": "stdout",
     "output_type": "stream",
     "text": [
      "epoch_loss/batch_ct=0.059568243633423536\n",
      "tensor(0.1166, device='cuda:0', grad_fn=<SmoothL1LossBackward0>)\n"
     ]
    },
    {
     "name": "stderr",
     "output_type": "stream",
     "text": [
      "100%|██████████| 1250/1250 [00:02<00:00, 568.96it/s]\n",
      "  0%|          | 1/293 [00:00<00:36,  7.99it/s]"
     ]
    },
    {
     "name": "stdout",
     "output_type": "stream",
     "text": [
      "accuray: 0.2674\n"
     ]
    },
    {
     "name": "stderr",
     "output_type": "stream",
     "text": [
      "100%|██████████| 293/293 [00:36<00:00,  7.98it/s] \n",
      "  4%|▍         | 48/1250 [00:00<00:02, 474.82it/s]"
     ]
    },
    {
     "name": "stdout",
     "output_type": "stream",
     "text": [
      "epoch_loss/batch_ct=0.05967534231465487\n",
      "tensor(0.1179, device='cuda:0', grad_fn=<SmoothL1LossBackward0>)\n"
     ]
    },
    {
     "name": "stderr",
     "output_type": "stream",
     "text": [
      "100%|██████████| 1250/1250 [00:02<00:00, 517.99it/s]\n",
      "  0%|          | 1/293 [00:00<00:34,  8.40it/s]"
     ]
    },
    {
     "name": "stdout",
     "output_type": "stream",
     "text": [
      "accuray: 0.2674\n"
     ]
    },
    {
     "name": "stderr",
     "output_type": "stream",
     "text": [
      "100%|██████████| 293/293 [00:31<00:00,  9.26it/s] \n",
      "  4%|▍         | 54/1250 [00:00<00:02, 534.17it/s]"
     ]
    },
    {
     "name": "stdout",
     "output_type": "stream",
     "text": [
      "epoch_loss/batch_ct=0.05970471559299363\n",
      "tensor(0.1175, device='cuda:0', grad_fn=<SmoothL1LossBackward0>)\n"
     ]
    },
    {
     "name": "stderr",
     "output_type": "stream",
     "text": [
      "100%|██████████| 1250/1250 [00:02<00:00, 581.68it/s]\n",
      "  0%|          | 1/293 [00:00<00:34,  8.47it/s]"
     ]
    },
    {
     "name": "stdout",
     "output_type": "stream",
     "text": [
      "accuray: 0.2655\n"
     ]
    },
    {
     "name": "stderr",
     "output_type": "stream",
     "text": [
      "100%|██████████| 293/293 [00:32<00:00,  9.09it/s] \n",
      "  4%|▍         | 53/1250 [00:00<00:02, 519.13it/s]"
     ]
    },
    {
     "name": "stdout",
     "output_type": "stream",
     "text": [
      "epoch_loss/batch_ct=0.05966839769352523\n",
      "tensor(0.1185, device='cuda:0', grad_fn=<SmoothL1LossBackward0>)\n"
     ]
    },
    {
     "name": "stderr",
     "output_type": "stream",
     "text": [
      "100%|██████████| 1250/1250 [00:02<00:00, 620.49it/s]\n",
      "  0%|          | 1/293 [00:00<00:35,  8.33it/s]"
     ]
    },
    {
     "name": "stdout",
     "output_type": "stream",
     "text": [
      "accuray: 0.2709\n"
     ]
    },
    {
     "name": "stderr",
     "output_type": "stream",
     "text": [
      "100%|██████████| 293/293 [00:33<00:00,  8.63it/s]\n",
      "  4%|▍         | 51/1250 [00:00<00:02, 504.49it/s]"
     ]
    },
    {
     "name": "stdout",
     "output_type": "stream",
     "text": [
      "epoch_loss/batch_ct=0.0596567719938263\n",
      "tensor(0.1185, device='cuda:0', grad_fn=<SmoothL1LossBackward0>)\n"
     ]
    },
    {
     "name": "stderr",
     "output_type": "stream",
     "text": [
      "100%|██████████| 1250/1250 [00:02<00:00, 493.46it/s]\n",
      "  0%|          | 1/293 [00:00<00:35,  8.26it/s]"
     ]
    },
    {
     "name": "stdout",
     "output_type": "stream",
     "text": [
      "accuray: 0.2665\n"
     ]
    },
    {
     "name": "stderr",
     "output_type": "stream",
     "text": [
      "100%|██████████| 293/293 [00:32<00:00,  9.13it/s] \n",
      "  8%|▊         | 104/1250 [00:00<00:02, 516.49it/s]"
     ]
    },
    {
     "name": "stdout",
     "output_type": "stream",
     "text": [
      "epoch_loss/batch_ct=0.05964416895239126\n",
      "tensor(0.1196, device='cuda:0', grad_fn=<SmoothL1LossBackward0>)\n"
     ]
    },
    {
     "name": "stderr",
     "output_type": "stream",
     "text": [
      "100%|██████████| 1250/1250 [00:02<00:00, 568.77it/s]\n",
      "  0%|          | 0/293 [00:00<?, ?it/s]"
     ]
    },
    {
     "name": "stdout",
     "output_type": "stream",
     "text": [
      "accuray: 0.2711\n"
     ]
    },
    {
     "name": "stderr",
     "output_type": "stream",
     "text": [
      "100%|██████████| 293/293 [00:32<00:00,  9.15it/s] \n",
      "  5%|▍         | 61/1250 [00:00<00:01, 609.44it/s]"
     ]
    },
    {
     "name": "stdout",
     "output_type": "stream",
     "text": [
      "epoch_loss/batch_ct=0.059699287741548486\n",
      "tensor(0.1183, device='cuda:0', grad_fn=<SmoothL1LossBackward0>)\n"
     ]
    },
    {
     "name": "stderr",
     "output_type": "stream",
     "text": [
      "100%|██████████| 1250/1250 [00:02<00:00, 592.16it/s]\n",
      "  0%|          | 1/293 [00:00<00:36,  7.99it/s]"
     ]
    },
    {
     "name": "stdout",
     "output_type": "stream",
     "text": [
      "accuray: 0.266\n"
     ]
    },
    {
     "name": "stderr",
     "output_type": "stream",
     "text": [
      "100%|██████████| 293/293 [00:33<00:00,  8.69it/s] \n",
      "  4%|▍         | 54/1250 [00:00<00:02, 539.51it/s]"
     ]
    },
    {
     "name": "stdout",
     "output_type": "stream",
     "text": [
      "epoch_loss/batch_ct=0.05971620347173441\n",
      "tensor(0.1168, device='cuda:0', grad_fn=<SmoothL1LossBackward0>)\n"
     ]
    },
    {
     "name": "stderr",
     "output_type": "stream",
     "text": [
      "100%|██████████| 1250/1250 [00:02<00:00, 600.13it/s]\n",
      "  0%|          | 1/293 [00:00<00:38,  7.63it/s]"
     ]
    },
    {
     "name": "stdout",
     "output_type": "stream",
     "text": [
      "accuray: 0.2676\n"
     ]
    },
    {
     "name": "stderr",
     "output_type": "stream",
     "text": [
      "100%|██████████| 293/293 [00:31<00:00,  9.39it/s] \n",
      "  4%|▍         | 48/1250 [00:00<00:02, 474.82it/s]"
     ]
    },
    {
     "name": "stdout",
     "output_type": "stream",
     "text": [
      "epoch_loss/batch_ct=0.059653067133492894\n",
      "tensor(0.1180, device='cuda:0', grad_fn=<SmoothL1LossBackward0>)\n"
     ]
    },
    {
     "name": "stderr",
     "output_type": "stream",
     "text": [
      "100%|██████████| 1250/1250 [00:02<00:00, 586.87it/s]\n",
      "  0%|          | 0/293 [00:00<?, ?it/s]"
     ]
    },
    {
     "name": "stdout",
     "output_type": "stream",
     "text": [
      "accuray: 0.2656\n"
     ]
    },
    {
     "name": "stderr",
     "output_type": "stream",
     "text": [
      "100%|██████████| 293/293 [00:31<00:00,  9.41it/s] \n",
      "  8%|▊         | 94/1250 [00:00<00:02, 464.11it/s]"
     ]
    },
    {
     "name": "stdout",
     "output_type": "stream",
     "text": [
      "epoch_loss/batch_ct=0.0596416001873357\n",
      "tensor(0.1175, device='cuda:0', grad_fn=<SmoothL1LossBackward0>)\n"
     ]
    },
    {
     "name": "stderr",
     "output_type": "stream",
     "text": [
      "100%|██████████| 1250/1250 [00:02<00:00, 583.58it/s]\n",
      "  0%|          | 1/293 [00:00<00:35,  8.26it/s]"
     ]
    },
    {
     "name": "stdout",
     "output_type": "stream",
     "text": [
      "accuray: 0.264\n"
     ]
    },
    {
     "name": "stderr",
     "output_type": "stream",
     "text": [
      "100%|██████████| 293/293 [00:32<00:00,  8.88it/s] \n",
      "  5%|▍         | 57/1250 [00:00<00:02, 563.84it/s]"
     ]
    },
    {
     "name": "stdout",
     "output_type": "stream",
     "text": [
      "epoch_loss/batch_ct=0.05965902620837802\n",
      "tensor(0.1178, device='cuda:0', grad_fn=<SmoothL1LossBackward0>)\n"
     ]
    },
    {
     "name": "stderr",
     "output_type": "stream",
     "text": [
      "100%|██████████| 1250/1250 [00:02<00:00, 603.90it/s]\n",
      "  0%|          | 1/293 [00:00<00:37,  7.81it/s]"
     ]
    },
    {
     "name": "stdout",
     "output_type": "stream",
     "text": [
      "accuray: 0.2653\n"
     ]
    },
    {
     "name": "stderr",
     "output_type": "stream",
     "text": [
      "100%|██████████| 293/293 [00:31<00:00,  9.42it/s] \n",
      "  3%|▎         | 42/1250 [00:00<00:02, 419.62it/s]"
     ]
    },
    {
     "name": "stdout",
     "output_type": "stream",
     "text": [
      "epoch_loss/batch_ct=0.05962283703838549\n",
      "tensor(0.1190, device='cuda:0', grad_fn=<SmoothL1LossBackward0>)\n"
     ]
    },
    {
     "name": "stderr",
     "output_type": "stream",
     "text": [
      "100%|██████████| 1250/1250 [00:02<00:00, 574.45it/s]\n",
      "  0%|          | 1/293 [00:00<00:36,  8.06it/s]"
     ]
    },
    {
     "name": "stdout",
     "output_type": "stream",
     "text": [
      "accuray: 0.2652\n"
     ]
    },
    {
     "name": "stderr",
     "output_type": "stream",
     "text": [
      "100%|██████████| 293/293 [00:31<00:00,  9.42it/s]\n",
      "  0%|          | 0/1250 [00:00<?, ?it/s]"
     ]
    },
    {
     "name": "stdout",
     "output_type": "stream",
     "text": [
      "epoch_loss/batch_ct=0.0596676469736156\n",
      "tensor(0.1182, device='cuda:0', grad_fn=<SmoothL1LossBackward0>)\n"
     ]
    },
    {
     "name": "stderr",
     "output_type": "stream",
     "text": [
      "100%|██████████| 1250/1250 [00:01<00:00, 674.70it/s]\n",
      "  0%|          | 1/293 [00:00<00:35,  8.26it/s]"
     ]
    },
    {
     "name": "stdout",
     "output_type": "stream",
     "text": [
      "accuray: 0.2695\n"
     ]
    },
    {
     "name": "stderr",
     "output_type": "stream",
     "text": [
      "100%|██████████| 293/293 [00:33<00:00,  8.80it/s] \n",
      "  5%|▌         | 68/1250 [00:00<00:01, 672.66it/s]"
     ]
    },
    {
     "name": "stdout",
     "output_type": "stream",
     "text": [
      "epoch_loss/batch_ct=0.059678360568507324\n",
      "tensor(0.1163, device='cuda:0', grad_fn=<SmoothL1LossBackward0>)\n"
     ]
    },
    {
     "name": "stderr",
     "output_type": "stream",
     "text": [
      "100%|██████████| 1250/1250 [00:01<00:00, 657.99it/s]\n",
      "  0%|          | 1/293 [00:00<00:34,  8.54it/s]"
     ]
    },
    {
     "name": "stdout",
     "output_type": "stream",
     "text": [
      "accuray: 0.267\n"
     ]
    },
    {
     "name": "stderr",
     "output_type": "stream",
     "text": [
      "100%|██████████| 293/293 [00:30<00:00,  9.51it/s] \n",
      "  5%|▍         | 61/1250 [00:00<00:01, 609.45it/s]"
     ]
    },
    {
     "name": "stdout",
     "output_type": "stream",
     "text": [
      "epoch_loss/batch_ct=0.05966143775731325\n",
      "tensor(0.1185, device='cuda:0', grad_fn=<SmoothL1LossBackward0>)\n"
     ]
    },
    {
     "name": "stderr",
     "output_type": "stream",
     "text": [
      "100%|██████████| 1250/1250 [00:02<00:00, 610.39it/s]\n",
      "  0%|          | 1/293 [00:00<00:35,  8.33it/s]"
     ]
    },
    {
     "name": "stdout",
     "output_type": "stream",
     "text": [
      "accuray: 0.2699\n"
     ]
    },
    {
     "name": "stderr",
     "output_type": "stream",
     "text": [
      "100%|██████████| 293/293 [00:30<00:00,  9.47it/s] \n",
      "  8%|▊         | 98/1250 [00:00<00:02, 472.86it/s]"
     ]
    },
    {
     "name": "stdout",
     "output_type": "stream",
     "text": [
      "epoch_loss/batch_ct=0.059588569408607864\n",
      "tensor(0.1189, device='cuda:0', grad_fn=<SmoothL1LossBackward0>)\n"
     ]
    },
    {
     "name": "stderr",
     "output_type": "stream",
     "text": [
      "100%|██████████| 1250/1250 [00:02<00:00, 583.04it/s]\n",
      "  0%|          | 1/293 [00:00<00:36,  8.06it/s]"
     ]
    },
    {
     "name": "stdout",
     "output_type": "stream",
     "text": [
      "accuray: 0.2675\n"
     ]
    },
    {
     "name": "stderr",
     "output_type": "stream",
     "text": [
      "100%|██████████| 293/293 [00:33<00:00,  8.86it/s] \n",
      " 11%|█         | 137/1250 [00:00<00:01, 681.25it/s]"
     ]
    },
    {
     "name": "stdout",
     "output_type": "stream",
     "text": [
      "epoch_loss/batch_ct=0.059678406602451724\n",
      "tensor(0.1195, device='cuda:0', grad_fn=<SmoothL1LossBackward0>)\n"
     ]
    },
    {
     "name": "stderr",
     "output_type": "stream",
     "text": [
      "100%|██████████| 1250/1250 [00:01<00:00, 646.41it/s]\n",
      "  0%|          | 1/293 [00:00<00:34,  8.47it/s]"
     ]
    },
    {
     "name": "stdout",
     "output_type": "stream",
     "text": [
      "accuray: 0.2668\n"
     ]
    },
    {
     "name": "stderr",
     "output_type": "stream",
     "text": [
      "100%|██████████| 293/293 [00:31<00:00,  9.38it/s] \n",
      "  4%|▍         | 51/1250 [00:00<00:02, 504.50it/s]"
     ]
    },
    {
     "name": "stdout",
     "output_type": "stream",
     "text": [
      "epoch_loss/batch_ct=0.05960809565075333\n",
      "tensor(0.1178, device='cuda:0', grad_fn=<SmoothL1LossBackward0>)\n"
     ]
    },
    {
     "name": "stderr",
     "output_type": "stream",
     "text": [
      "100%|██████████| 1250/1250 [00:02<00:00, 588.25it/s]\n",
      "  0%|          | 1/293 [00:00<00:36,  8.06it/s]"
     ]
    },
    {
     "name": "stdout",
     "output_type": "stream",
     "text": [
      "accuray: 0.2687\n"
     ]
    },
    {
     "name": "stderr",
     "output_type": "stream",
     "text": [
      "100%|██████████| 293/293 [00:31<00:00,  9.39it/s] \n",
      "  4%|▍         | 48/1250 [00:00<00:02, 479.57it/s]"
     ]
    },
    {
     "name": "stdout",
     "output_type": "stream",
     "text": [
      "epoch_loss/batch_ct=0.05963443023049169\n",
      "tensor(0.1157, device='cuda:0', grad_fn=<SmoothL1LossBackward0>)\n"
     ]
    },
    {
     "name": "stderr",
     "output_type": "stream",
     "text": [
      "100%|██████████| 1250/1250 [00:02<00:00, 575.25it/s]\n",
      "  0%|          | 1/293 [00:00<00:36,  8.06it/s]"
     ]
    },
    {
     "name": "stdout",
     "output_type": "stream",
     "text": [
      "accuray: 0.2682\n"
     ]
    },
    {
     "name": "stderr",
     "output_type": "stream",
     "text": [
      "100%|██████████| 293/293 [00:33<00:00,  8.84it/s] \n",
      "  4%|▎         | 44/1250 [00:00<00:02, 435.25it/s]"
     ]
    },
    {
     "name": "stdout",
     "output_type": "stream",
     "text": [
      "epoch_loss/batch_ct=0.059628415202337595\n",
      "tensor(0.1204, device='cuda:0', grad_fn=<SmoothL1LossBackward0>)\n"
     ]
    },
    {
     "name": "stderr",
     "output_type": "stream",
     "text": [
      "100%|██████████| 1250/1250 [00:02<00:00, 574.45it/s]\n",
      "  0%|          | 1/293 [00:00<00:35,  8.26it/s]"
     ]
    },
    {
     "name": "stdout",
     "output_type": "stream",
     "text": [
      "accuray: 0.2693\n"
     ]
    },
    {
     "name": "stderr",
     "output_type": "stream",
     "text": [
      "100%|██████████| 293/293 [00:31<00:00,  9.44it/s] \n",
      "  8%|▊         | 95/1250 [00:00<00:02, 475.45it/s]"
     ]
    },
    {
     "name": "stdout",
     "output_type": "stream",
     "text": [
      "epoch_loss/batch_ct=0.059720706933784104\n",
      "tensor(0.1193, device='cuda:0', grad_fn=<SmoothL1LossBackward0>)\n"
     ]
    },
    {
     "name": "stderr",
     "output_type": "stream",
     "text": [
      "100%|██████████| 1250/1250 [00:02<00:00, 582.49it/s]\n",
      "  0%|          | 1/293 [00:00<00:36,  7.99it/s]"
     ]
    },
    {
     "name": "stdout",
     "output_type": "stream",
     "text": [
      "accuray: 0.2693\n"
     ]
    },
    {
     "name": "stderr",
     "output_type": "stream",
     "text": [
      "100%|██████████| 293/293 [00:31<00:00,  9.44it/s] \n",
      "  3%|▎         | 43/1250 [00:00<00:02, 417.09it/s]"
     ]
    },
    {
     "name": "stdout",
     "output_type": "stream",
     "text": [
      "epoch_loss/batch_ct=0.0596113091571227\n",
      "tensor(0.1174, device='cuda:0', grad_fn=<SmoothL1LossBackward0>)\n"
     ]
    },
    {
     "name": "stderr",
     "output_type": "stream",
     "text": [
      "100%|██████████| 1250/1250 [00:02<00:00, 580.87it/s]\n",
      "  0%|          | 1/293 [00:00<00:36,  7.93it/s]"
     ]
    },
    {
     "name": "stdout",
     "output_type": "stream",
     "text": [
      "accuray: 0.2701\n"
     ]
    },
    {
     "name": "stderr",
     "output_type": "stream",
     "text": [
      "100%|██████████| 293/293 [00:33<00:00,  8.80it/s] \n",
      "  3%|▎         | 43/1250 [00:00<00:02, 429.61it/s]"
     ]
    },
    {
     "name": "stdout",
     "output_type": "stream",
     "text": [
      "epoch_loss/batch_ct=0.05969962263332\n",
      "tensor(0.1177, device='cuda:0', grad_fn=<SmoothL1LossBackward0>)\n"
     ]
    },
    {
     "name": "stderr",
     "output_type": "stream",
     "text": [
      "100%|██████████| 1250/1250 [00:02<00:00, 577.91it/s]\n",
      "  0%|          | 0/293 [00:00<?, ?it/s]"
     ]
    },
    {
     "name": "stdout",
     "output_type": "stream",
     "text": [
      "accuray: 0.2694\n"
     ]
    },
    {
     "name": "stderr",
     "output_type": "stream",
     "text": [
      "100%|██████████| 293/293 [00:31<00:00,  9.40it/s] \n",
      "  4%|▎         | 45/1250 [00:00<00:02, 440.77it/s]"
     ]
    },
    {
     "name": "stdout",
     "output_type": "stream",
     "text": [
      "epoch_loss/batch_ct=0.059694294226429766\n",
      "tensor(0.1173, device='cuda:0', grad_fn=<SmoothL1LossBackward0>)\n"
     ]
    },
    {
     "name": "stderr",
     "output_type": "stream",
     "text": [
      "100%|██████████| 1250/1250 [00:02<00:00, 577.64it/s]\n",
      "  0%|          | 1/293 [00:00<00:35,  8.12it/s]"
     ]
    },
    {
     "name": "stdout",
     "output_type": "stream",
     "text": [
      "accuray: 0.2654\n"
     ]
    },
    {
     "name": "stderr",
     "output_type": "stream",
     "text": [
      "100%|██████████| 293/293 [00:31<00:00,  9.38it/s] \n",
      "  7%|▋         | 88/1250 [00:00<00:02, 436.23it/s]"
     ]
    },
    {
     "name": "stdout",
     "output_type": "stream",
     "text": [
      "epoch_loss/batch_ct=0.0596369637531184\n",
      "tensor(0.1184, device='cuda:0', grad_fn=<SmoothL1LossBackward0>)\n"
     ]
    },
    {
     "name": "stderr",
     "output_type": "stream",
     "text": [
      "100%|██████████| 1250/1250 [00:02<00:00, 572.35it/s]\n",
      "  0%|          | 1/293 [00:00<00:36,  7.99it/s]"
     ]
    },
    {
     "name": "stdout",
     "output_type": "stream",
     "text": [
      "accuray: 0.2655\n"
     ]
    },
    {
     "name": "stderr",
     "output_type": "stream",
     "text": [
      "100%|██████████| 293/293 [00:33<00:00,  8.84it/s]\n",
      " 11%|█         | 136/1250 [00:00<00:01, 674.40it/s]"
     ]
    },
    {
     "name": "stdout",
     "output_type": "stream",
     "text": [
      "epoch_loss/batch_ct=0.05967684719888937\n",
      "tensor(0.1172, device='cuda:0', grad_fn=<SmoothL1LossBackward0>)\n"
     ]
    },
    {
     "name": "stderr",
     "output_type": "stream",
     "text": [
      "100%|██████████| 1250/1250 [00:01<00:00, 670.35it/s]\n",
      "  0%|          | 1/293 [00:00<00:34,  8.54it/s]"
     ]
    },
    {
     "name": "stdout",
     "output_type": "stream",
     "text": [
      "accuray: 0.2678\n"
     ]
    },
    {
     "name": "stderr",
     "output_type": "stream",
     "text": [
      "100%|██████████| 293/293 [00:31<00:00,  9.40it/s] \n",
      "  7%|▋         | 90/1250 [00:00<00:02, 454.77it/s]"
     ]
    },
    {
     "name": "stdout",
     "output_type": "stream",
     "text": [
      "epoch_loss/batch_ct=0.05969917562804998\n",
      "tensor(0.1156, device='cuda:0', grad_fn=<SmoothL1LossBackward0>)\n"
     ]
    },
    {
     "name": "stderr",
     "output_type": "stream",
     "text": [
      "100%|██████████| 1250/1250 [00:02<00:00, 571.30it/s]\n",
      "  0%|          | 0/293 [00:00<?, ?it/s]"
     ]
    },
    {
     "name": "stdout",
     "output_type": "stream",
     "text": [
      "accuray: 0.267\n"
     ]
    },
    {
     "name": "stderr",
     "output_type": "stream",
     "text": [
      "100%|██████████| 293/293 [00:31<00:00,  9.45it/s] \n",
      "  3%|▎         | 41/1250 [00:00<00:02, 409.63it/s]"
     ]
    },
    {
     "name": "stdout",
     "output_type": "stream",
     "text": [
      "epoch_loss/batch_ct=0.05958316277062136\n",
      "tensor(0.1173, device='cuda:0', grad_fn=<SmoothL1LossBackward0>)\n"
     ]
    },
    {
     "name": "stderr",
     "output_type": "stream",
     "text": [
      "100%|██████████| 1250/1250 [00:02<00:00, 570.52it/s]\n",
      "  0%|          | 1/293 [00:00<00:38,  7.51it/s]"
     ]
    },
    {
     "name": "stdout",
     "output_type": "stream",
     "text": [
      "accuray: 0.2651\n"
     ]
    },
    {
     "name": "stderr",
     "output_type": "stream",
     "text": [
      "100%|██████████| 293/293 [00:33<00:00,  8.75it/s] \n",
      "  4%|▎         | 45/1250 [00:00<00:02, 445.14it/s]"
     ]
    },
    {
     "name": "stdout",
     "output_type": "stream",
     "text": [
      "epoch_loss/batch_ct=0.05969580981348242\n",
      "tensor(0.1158, device='cuda:0', grad_fn=<SmoothL1LossBackward0>)\n"
     ]
    },
    {
     "name": "stderr",
     "output_type": "stream",
     "text": [
      "100%|██████████| 1250/1250 [00:02<00:00, 581.14it/s]\n",
      "  0%|          | 1/293 [00:00<00:35,  8.26it/s]"
     ]
    },
    {
     "name": "stdout",
     "output_type": "stream",
     "text": [
      "accuray: 0.2674\n"
     ]
    },
    {
     "name": "stderr",
     "output_type": "stream",
     "text": [
      "100%|██████████| 293/293 [00:31<00:00,  9.37it/s] \n",
      "  7%|▋         | 91/1250 [00:00<00:02, 452.70it/s]"
     ]
    },
    {
     "name": "stdout",
     "output_type": "stream",
     "text": [
      "epoch_loss/batch_ct=0.05965455052339368\n",
      "tensor(0.1173, device='cuda:0', grad_fn=<SmoothL1LossBackward0>)\n"
     ]
    },
    {
     "name": "stderr",
     "output_type": "stream",
     "text": [
      "100%|██████████| 1250/1250 [00:02<00:00, 577.91it/s]\n",
      "  0%|          | 1/293 [00:00<00:35,  8.33it/s]"
     ]
    },
    {
     "name": "stdout",
     "output_type": "stream",
     "text": [
      "accuray: 0.266\n"
     ]
    },
    {
     "name": "stderr",
     "output_type": "stream",
     "text": [
      "100%|██████████| 293/293 [00:31<00:00,  9.36it/s] \n",
      "  8%|▊         | 95/1250 [00:00<00:02, 471.57it/s]"
     ]
    },
    {
     "name": "stdout",
     "output_type": "stream",
     "text": [
      "epoch_loss/batch_ct=0.05975428859274539\n",
      "tensor(0.1180, device='cuda:0', grad_fn=<SmoothL1LossBackward0>)\n"
     ]
    },
    {
     "name": "stderr",
     "output_type": "stream",
     "text": [
      "100%|██████████| 1250/1250 [00:02<00:00, 581.68it/s]\n",
      "  0%|          | 1/293 [00:00<00:35,  8.12it/s]"
     ]
    },
    {
     "name": "stdout",
     "output_type": "stream",
     "text": [
      "accuray: 0.2693\n"
     ]
    },
    {
     "name": "stderr",
     "output_type": "stream",
     "text": [
      "100%|██████████| 293/293 [00:33<00:00,  8.87it/s] \n",
      "  4%|▍         | 52/1250 [00:00<00:02, 514.38it/s]"
     ]
    },
    {
     "name": "stdout",
     "output_type": "stream",
     "text": [
      "epoch_loss/batch_ct=0.05977898785874011\n",
      "tensor(0.1176, device='cuda:0', grad_fn=<SmoothL1LossBackward0>)\n"
     ]
    },
    {
     "name": "stderr",
     "output_type": "stream",
     "text": [
      "100%|██████████| 1250/1250 [00:02<00:00, 590.48it/s]\n",
      "  0%|          | 1/293 [00:00<00:36,  8.06it/s]"
     ]
    },
    {
     "name": "stdout",
     "output_type": "stream",
     "text": [
      "accuray: 0.2642\n"
     ]
    },
    {
     "name": "stderr",
     "output_type": "stream",
     "text": [
      "100%|██████████| 293/293 [00:31<00:00,  9.27it/s] \n",
      "  8%|▊         | 104/1250 [00:00<00:02, 511.41it/s]"
     ]
    },
    {
     "name": "stdout",
     "output_type": "stream",
     "text": [
      "epoch_loss/batch_ct=0.059709833713159674\n",
      "tensor(0.1158, device='cuda:0', grad_fn=<SmoothL1LossBackward0>)\n"
     ]
    },
    {
     "name": "stderr",
     "output_type": "stream",
     "text": [
      "100%|██████████| 1250/1250 [00:02<00:00, 539.93it/s]\n",
      "  0%|          | 1/293 [00:00<00:34,  8.47it/s]"
     ]
    },
    {
     "name": "stdout",
     "output_type": "stream",
     "text": [
      "accuray: 0.2645\n"
     ]
    },
    {
     "name": "stderr",
     "output_type": "stream",
     "text": [
      "100%|██████████| 293/293 [00:31<00:00,  9.16it/s] \n",
      "  4%|▎         | 45/1250 [00:00<00:02, 436.50it/s]"
     ]
    },
    {
     "name": "stdout",
     "output_type": "stream",
     "text": [
      "epoch_loss/batch_ct=0.059606856030840726\n",
      "tensor(0.1160, device='cuda:0', grad_fn=<SmoothL1LossBackward0>)\n"
     ]
    },
    {
     "name": "stderr",
     "output_type": "stream",
     "text": [
      "100%|██████████| 1250/1250 [00:02<00:00, 576.84it/s]\n",
      "  0%|          | 1/293 [00:00<00:52,  5.52it/s]"
     ]
    },
    {
     "name": "stdout",
     "output_type": "stream",
     "text": [
      "accuray: 0.2671\n"
     ]
    },
    {
     "name": "stderr",
     "output_type": "stream",
     "text": [
      "100%|██████████| 293/293 [00:36<00:00,  7.94it/s] \n",
      "  4%|▍         | 50/1250 [00:00<00:02, 497.13it/s]"
     ]
    },
    {
     "name": "stdout",
     "output_type": "stream",
     "text": [
      "epoch_loss/batch_ct=0.059725216471604885\n",
      "tensor(0.1180, device='cuda:0', grad_fn=<SmoothL1LossBackward0>)\n"
     ]
    },
    {
     "name": "stderr",
     "output_type": "stream",
     "text": [
      "100%|██████████| 1250/1250 [00:02<00:00, 539.73it/s]\n",
      "  0%|          | 1/293 [00:00<00:38,  7.63it/s]"
     ]
    },
    {
     "name": "stdout",
     "output_type": "stream",
     "text": [
      "accuray: 0.2689\n"
     ]
    },
    {
     "name": "stderr",
     "output_type": "stream",
     "text": [
      "100%|██████████| 293/293 [00:34<00:00,  8.48it/s]\n",
      "  3%|▎         | 36/1250 [00:00<00:03, 352.62it/s]"
     ]
    },
    {
     "name": "stdout",
     "output_type": "stream",
     "text": [
      "epoch_loss/batch_ct=0.05953325291297266\n",
      "tensor(0.1171, device='cuda:0', grad_fn=<SmoothL1LossBackward0>)\n"
     ]
    },
    {
     "name": "stderr",
     "output_type": "stream",
     "text": [
      "100%|██████████| 1250/1250 [00:02<00:00, 513.30it/s]\n",
      "  0%|          | 1/293 [00:00<00:39,  7.46it/s]"
     ]
    },
    {
     "name": "stdout",
     "output_type": "stream",
     "text": [
      "accuray: 0.2698\n"
     ]
    },
    {
     "name": "stderr",
     "output_type": "stream",
     "text": [
      "100%|██████████| 293/293 [00:34<00:00,  8.48it/s] \n",
      "  5%|▍         | 57/1250 [00:00<00:02, 563.85it/s]"
     ]
    },
    {
     "name": "stdout",
     "output_type": "stream",
     "text": [
      "epoch_loss/batch_ct=0.059631229600026495\n",
      "tensor(0.1168, device='cuda:0', grad_fn=<SmoothL1LossBackward0>)\n"
     ]
    },
    {
     "name": "stderr",
     "output_type": "stream",
     "text": [
      "100%|██████████| 1250/1250 [00:02<00:00, 435.30it/s]\n",
      "  0%|          | 1/293 [00:00<00:36,  7.99it/s]"
     ]
    },
    {
     "name": "stdout",
     "output_type": "stream",
     "text": [
      "accuray: 0.267\n"
     ]
    },
    {
     "name": "stderr",
     "output_type": "stream",
     "text": [
      "100%|██████████| 293/293 [00:36<00:00,  7.93it/s] \n",
      "  4%|▍         | 53/1250 [00:00<00:02, 529.52it/s]"
     ]
    },
    {
     "name": "stdout",
     "output_type": "stream",
     "text": [
      "epoch_loss/batch_ct=0.05960996675172022\n",
      "tensor(0.1158, device='cuda:0', grad_fn=<SmoothL1LossBackward0>)\n"
     ]
    },
    {
     "name": "stderr",
     "output_type": "stream",
     "text": [
      "100%|██████████| 1250/1250 [00:02<00:00, 570.00it/s]\n",
      "  0%|          | 1/293 [00:00<00:40,  7.29it/s]"
     ]
    },
    {
     "name": "stdout",
     "output_type": "stream",
     "text": [
      "accuray: 0.2702\n"
     ]
    },
    {
     "name": "stderr",
     "output_type": "stream",
     "text": [
      "100%|██████████| 293/293 [00:32<00:00,  8.94it/s] \n",
      "  8%|▊         | 96/1250 [00:00<00:02, 479.57it/s]"
     ]
    },
    {
     "name": "stdout",
     "output_type": "stream",
     "text": [
      "epoch_loss/batch_ct=0.05965494739985655\n",
      "tensor(0.1178, device='cuda:0', grad_fn=<SmoothL1LossBackward0>)\n"
     ]
    },
    {
     "name": "stderr",
     "output_type": "stream",
     "text": [
      "100%|██████████| 1250/1250 [00:02<00:00, 562.30it/s]\n",
      "  0%|          | 1/293 [00:00<00:37,  7.69it/s]"
     ]
    },
    {
     "name": "stdout",
     "output_type": "stream",
     "text": [
      "accuray: 0.2665\n"
     ]
    },
    {
     "name": "stderr",
     "output_type": "stream",
     "text": [
      "100%|██████████| 293/293 [00:32<00:00,  8.96it/s] \n",
      " 10%|▉         | 123/1250 [00:00<00:01, 610.98it/s]"
     ]
    },
    {
     "name": "stdout",
     "output_type": "stream",
     "text": [
      "epoch_loss/batch_ct=0.05955993200814913\n",
      "tensor(0.1162, device='cuda:0', grad_fn=<SmoothL1LossBackward0>)\n"
     ]
    },
    {
     "name": "stderr",
     "output_type": "stream",
     "text": [
      "100%|██████████| 1250/1250 [00:02<00:00, 576.31it/s]\n",
      "  0%|          | 1/293 [00:00<00:37,  7.69it/s]"
     ]
    },
    {
     "name": "stdout",
     "output_type": "stream",
     "text": [
      "accuray: 0.2666\n"
     ]
    },
    {
     "name": "stderr",
     "output_type": "stream",
     "text": [
      "100%|██████████| 293/293 [00:35<00:00,  8.35it/s] \n",
      "  4%|▎         | 45/1250 [00:00<00:02, 449.59it/s]"
     ]
    },
    {
     "name": "stdout",
     "output_type": "stream",
     "text": [
      "epoch_loss/batch_ct=0.05953991439725671\n",
      "tensor(0.1167, device='cuda:0', grad_fn=<SmoothL1LossBackward0>)\n"
     ]
    },
    {
     "name": "stderr",
     "output_type": "stream",
     "text": [
      "100%|██████████| 1250/1250 [00:02<00:00, 566.38it/s]\n",
      "  0%|          | 1/293 [00:00<00:44,  6.57it/s]"
     ]
    },
    {
     "name": "stdout",
     "output_type": "stream",
     "text": [
      "accuray: 0.2629\n"
     ]
    },
    {
     "name": "stderr",
     "output_type": "stream",
     "text": [
      "100%|██████████| 293/293 [00:32<00:00,  9.02it/s] \n",
      "  7%|▋         | 83/1250 [00:00<00:02, 415.56it/s]"
     ]
    },
    {
     "name": "stdout",
     "output_type": "stream",
     "text": [
      "epoch_loss/batch_ct=0.05954970558366132\n",
      "tensor(0.1157, device='cuda:0', grad_fn=<SmoothL1LossBackward0>)\n"
     ]
    },
    {
     "name": "stderr",
     "output_type": "stream",
     "text": [
      "100%|██████████| 1250/1250 [00:02<00:00, 562.55it/s]\n",
      "  0%|          | 1/293 [00:00<00:37,  7.69it/s]"
     ]
    },
    {
     "name": "stdout",
     "output_type": "stream",
     "text": [
      "accuray: 0.2673\n"
     ]
    },
    {
     "name": "stderr",
     "output_type": "stream",
     "text": [
      "100%|██████████| 293/293 [00:32<00:00,  8.99it/s] \n",
      "  4%|▍         | 47/1250 [00:00<00:02, 469.57it/s]"
     ]
    },
    {
     "name": "stdout",
     "output_type": "stream",
     "text": [
      "epoch_loss/batch_ct=0.059535972197495755\n",
      "tensor(0.1183, device='cuda:0', grad_fn=<SmoothL1LossBackward0>)\n"
     ]
    },
    {
     "name": "stderr",
     "output_type": "stream",
     "text": [
      "100%|██████████| 1250/1250 [00:02<00:00, 561.03it/s]\n",
      "  0%|          | 1/293 [00:00<00:40,  7.24it/s]"
     ]
    },
    {
     "name": "stdout",
     "output_type": "stream",
     "text": [
      "accuray: 0.2661\n"
     ]
    },
    {
     "name": "stderr",
     "output_type": "stream",
     "text": [
      "100%|██████████| 293/293 [00:32<00:00,  9.11it/s] \n",
      "  7%|▋         | 88/1250 [00:00<00:02, 426.07it/s]"
     ]
    },
    {
     "name": "stdout",
     "output_type": "stream",
     "text": [
      "epoch_loss/batch_ct=0.05954772541447291\n",
      "tensor(0.1194, device='cuda:0', grad_fn=<SmoothL1LossBackward0>)\n"
     ]
    },
    {
     "name": "stderr",
     "output_type": "stream",
     "text": [
      "100%|██████████| 1250/1250 [00:02<00:00, 550.65it/s]\n",
      "  0%|          | 0/293 [00:00<?, ?it/s]"
     ]
    },
    {
     "name": "stdout",
     "output_type": "stream",
     "text": [
      "accuray: 0.265\n"
     ]
    },
    {
     "name": "stderr",
     "output_type": "stream",
     "text": [
      "100%|██████████| 293/293 [00:32<00:00,  9.14it/s] \n",
      " 10%|▉         | 124/1250 [00:00<00:01, 615.81it/s]"
     ]
    },
    {
     "name": "stdout",
     "output_type": "stream",
     "text": [
      "epoch_loss/batch_ct=0.05953333421891171\n",
      "tensor(0.1176, device='cuda:0', grad_fn=<SmoothL1LossBackward0>)\n"
     ]
    },
    {
     "name": "stderr",
     "output_type": "stream",
     "text": [
      "100%|██████████| 1250/1250 [00:02<00:00, 569.74it/s]\n",
      "  0%|          | 1/293 [00:00<00:38,  7.63it/s]"
     ]
    },
    {
     "name": "stdout",
     "output_type": "stream",
     "text": [
      "accuray: 0.2685\n"
     ]
    },
    {
     "name": "stderr",
     "output_type": "stream",
     "text": [
      "100%|██████████| 293/293 [00:32<00:00,  8.98it/s] \n",
      " 10%|▉         | 124/1250 [00:00<00:01, 605.20it/s]"
     ]
    },
    {
     "name": "stdout",
     "output_type": "stream",
     "text": [
      "epoch_loss/batch_ct=0.05963099641459329\n",
      "tensor(0.1165, device='cuda:0', grad_fn=<SmoothL1LossBackward0>)\n"
     ]
    },
    {
     "name": "stderr",
     "output_type": "stream",
     "text": [
      "100%|██████████| 1250/1250 [00:02<00:00, 598.17it/s]\n",
      "  0%|          | 1/293 [00:00<00:38,  7.63it/s]"
     ]
    },
    {
     "name": "stdout",
     "output_type": "stream",
     "text": [
      "accuray: 0.2666\n"
     ]
    },
    {
     "name": "stderr",
     "output_type": "stream",
     "text": [
      "100%|██████████| 293/293 [00:32<00:00,  9.08it/s]\n",
      " 10%|▉         | 124/1250 [00:00<00:01, 621.20it/s]"
     ]
    },
    {
     "name": "stdout",
     "output_type": "stream",
     "text": [
      "epoch_loss/batch_ct=0.05964190573505466\n",
      "tensor(0.1184, device='cuda:0', grad_fn=<SmoothL1LossBackward0>)\n"
     ]
    },
    {
     "name": "stderr",
     "output_type": "stream",
     "text": [
      "100%|██████████| 1250/1250 [00:02<00:00, 586.05it/s]\n",
      "  0%|          | 1/293 [00:00<00:35,  8.12it/s]"
     ]
    },
    {
     "name": "stdout",
     "output_type": "stream",
     "text": [
      "accuray: 0.2664\n"
     ]
    },
    {
     "name": "stderr",
     "output_type": "stream",
     "text": [
      "100%|██████████| 293/293 [00:34<00:00,  8.50it/s] \n",
      "  5%|▌         | 63/1250 [00:00<00:01, 629.43it/s]"
     ]
    },
    {
     "name": "stdout",
     "output_type": "stream",
     "text": [
      "epoch_loss/batch_ct=0.05959403065461961\n",
      "tensor(0.1185, device='cuda:0', grad_fn=<SmoothL1LossBackward0>)\n"
     ]
    },
    {
     "name": "stderr",
     "output_type": "stream",
     "text": [
      "100%|██████████| 1250/1250 [00:02<00:00, 607.42it/s]\n",
      "  0%|          | 1/293 [00:00<00:36,  8.06it/s]"
     ]
    },
    {
     "name": "stdout",
     "output_type": "stream",
     "text": [
      "accuray: 0.2659\n"
     ]
    },
    {
     "name": "stderr",
     "output_type": "stream",
     "text": [
      "100%|██████████| 293/293 [00:32<00:00,  9.05it/s] \n",
      "  5%|▌         | 64/1250 [00:00<00:01, 633.09it/s]"
     ]
    },
    {
     "name": "stdout",
     "output_type": "stream",
     "text": [
      "epoch_loss/batch_ct=0.05964543393975685\n",
      "tensor(0.1171, device='cuda:0', grad_fn=<SmoothL1LossBackward0>)\n"
     ]
    },
    {
     "name": "stderr",
     "output_type": "stream",
     "text": [
      "100%|██████████| 1250/1250 [00:02<00:00, 598.69it/s]\n",
      "  0%|          | 1/293 [00:00<00:36,  8.06it/s]"
     ]
    },
    {
     "name": "stdout",
     "output_type": "stream",
     "text": [
      "accuray: 0.2635\n"
     ]
    },
    {
     "name": "stderr",
     "output_type": "stream",
     "text": [
      "100%|██████████| 293/293 [00:33<00:00,  8.88it/s] \n",
      "  3%|▎         | 42/1250 [00:00<00:02, 419.62it/s]"
     ]
    },
    {
     "name": "stdout",
     "output_type": "stream",
     "text": [
      "epoch_loss/batch_ct=0.05961983112825288\n",
      "tensor(0.1168, device='cuda:0', grad_fn=<SmoothL1LossBackward0>)\n"
     ]
    },
    {
     "name": "stderr",
     "output_type": "stream",
     "text": [
      "100%|██████████| 1250/1250 [00:02<00:00, 554.31it/s]\n",
      "  0%|          | 1/293 [00:00<00:35,  8.12it/s]"
     ]
    },
    {
     "name": "stdout",
     "output_type": "stream",
     "text": [
      "accuray: 0.2635\n"
     ]
    },
    {
     "name": "stderr",
     "output_type": "stream",
     "text": [
      "100%|██████████| 293/293 [00:34<00:00,  8.56it/s]\n",
      "  4%|▎         | 44/1250 [00:00<00:02, 435.25it/s]"
     ]
    },
    {
     "name": "stdout",
     "output_type": "stream",
     "text": [
      "epoch_loss/batch_ct=0.0595669039480743\n",
      "tensor(0.1165, device='cuda:0', grad_fn=<SmoothL1LossBackward0>)\n"
     ]
    },
    {
     "name": "stderr",
     "output_type": "stream",
     "text": [
      "100%|██████████| 1250/1250 [00:02<00:00, 555.54it/s]\n",
      "  0%|          | 1/293 [00:00<00:38,  7.57it/s]"
     ]
    },
    {
     "name": "stdout",
     "output_type": "stream",
     "text": [
      "accuray: 0.2711\n"
     ]
    },
    {
     "name": "stderr",
     "output_type": "stream",
     "text": [
      "100%|██████████| 293/293 [00:32<00:00,  9.13it/s] \n",
      "  4%|▍         | 49/1250 [00:00<00:02, 489.55it/s]"
     ]
    },
    {
     "name": "stdout",
     "output_type": "stream",
     "text": [
      "epoch_loss/batch_ct=0.0595941347114387\n",
      "tensor(0.1177, device='cuda:0', grad_fn=<SmoothL1LossBackward0>)\n"
     ]
    },
    {
     "name": "stderr",
     "output_type": "stream",
     "text": [
      "100%|██████████| 1250/1250 [00:02<00:00, 563.31it/s]\n",
      "  0%|          | 1/293 [00:00<00:37,  7.74it/s]"
     ]
    },
    {
     "name": "stdout",
     "output_type": "stream",
     "text": [
      "accuray: 0.2629\n"
     ]
    },
    {
     "name": "stderr",
     "output_type": "stream",
     "text": [
      "100%|██████████| 293/293 [00:32<00:00,  9.02it/s] \n",
      " 10%|█         | 126/1250 [00:00<00:01, 611.44it/s]"
     ]
    },
    {
     "name": "stdout",
     "output_type": "stream",
     "text": [
      "epoch_loss/batch_ct=0.05962820475300153\n",
      "tensor(0.1157, device='cuda:0', grad_fn=<SmoothL1LossBackward0>)\n"
     ]
    },
    {
     "name": "stderr",
     "output_type": "stream",
     "text": [
      "100%|██████████| 1250/1250 [00:02<00:00, 596.97it/s]\n",
      "  0%|          | 1/293 [00:00<00:37,  7.69it/s]"
     ]
    },
    {
     "name": "stdout",
     "output_type": "stream",
     "text": [
      "accuray: 0.2671\n"
     ]
    },
    {
     "name": "stderr",
     "output_type": "stream",
     "text": [
      "100%|██████████| 293/293 [00:34<00:00,  8.56it/s] \n",
      "  4%|▍         | 50/1250 [00:00<00:02, 489.75it/s]"
     ]
    },
    {
     "name": "stdout",
     "output_type": "stream",
     "text": [
      "epoch_loss/batch_ct=0.059525783469397874\n",
      "tensor(0.1173, device='cuda:0', grad_fn=<SmoothL1LossBackward0>)\n"
     ]
    },
    {
     "name": "stderr",
     "output_type": "stream",
     "text": [
      "100%|██████████| 1250/1250 [00:02<00:00, 562.39it/s]\n",
      "  0%|          | 1/293 [00:00<00:37,  7.87it/s]"
     ]
    },
    {
     "name": "stdout",
     "output_type": "stream",
     "text": [
      "accuray: 0.2633\n"
     ]
    },
    {
     "name": "stderr",
     "output_type": "stream",
     "text": [
      "100%|██████████| 293/293 [00:32<00:00,  9.05it/s]\n",
      "  5%|▌         | 64/1250 [00:00<00:01, 620.80it/s]"
     ]
    },
    {
     "name": "stdout",
     "output_type": "stream",
     "text": [
      "epoch_loss/batch_ct=0.059670372126949214\n",
      "tensor(0.1155, device='cuda:0', grad_fn=<SmoothL1LossBackward0>)\n"
     ]
    },
    {
     "name": "stderr",
     "output_type": "stream",
     "text": [
      "100%|██████████| 1250/1250 [00:02<00:00, 582.76it/s]\n",
      "  0%|          | 1/293 [00:00<00:37,  7.81it/s]"
     ]
    },
    {
     "name": "stdout",
     "output_type": "stream",
     "text": [
      "accuray: 0.2649\n"
     ]
    },
    {
     "name": "stderr",
     "output_type": "stream",
     "text": [
      "100%|██████████| 293/293 [00:32<00:00,  9.04it/s]\n",
      "  5%|▍         | 62/1250 [00:00<00:01, 619.44it/s]"
     ]
    },
    {
     "name": "stdout",
     "output_type": "stream",
     "text": [
      "epoch_loss/batch_ct=0.059536924142213093\n",
      "tensor(0.1183, device='cuda:0', grad_fn=<SmoothL1LossBackward0>)\n"
     ]
    },
    {
     "name": "stderr",
     "output_type": "stream",
     "text": [
      "100%|██████████| 1250/1250 [00:02<00:00, 584.13it/s]\n",
      "  0%|          | 1/293 [00:00<00:39,  7.40it/s]"
     ]
    },
    {
     "name": "stdout",
     "output_type": "stream",
     "text": [
      "accuray: 0.265\n"
     ]
    },
    {
     "name": "stderr",
     "output_type": "stream",
     "text": [
      "100%|██████████| 293/293 [00:34<00:00,  8.47it/s] \n",
      " 10%|█         | 125/1250 [00:00<00:01, 621.66it/s]"
     ]
    },
    {
     "name": "stdout",
     "output_type": "stream",
     "text": [
      "epoch_loss/batch_ct=0.059669512871002396\n",
      "tensor(0.1174, device='cuda:0', grad_fn=<SmoothL1LossBackward0>)\n"
     ]
    },
    {
     "name": "stderr",
     "output_type": "stream",
     "text": [
      "100%|██████████| 1250/1250 [00:02<00:00, 589.92it/s]\n",
      "  0%|          | 1/293 [00:00<00:38,  7.57it/s]"
     ]
    },
    {
     "name": "stdout",
     "output_type": "stream",
     "text": [
      "accuray: 0.2673\n"
     ]
    },
    {
     "name": "stderr",
     "output_type": "stream",
     "text": [
      "100%|██████████| 293/293 [00:32<00:00,  9.02it/s] \n",
      "  8%|▊         | 98/1250 [00:00<00:02, 482.74it/s]"
     ]
    },
    {
     "name": "stdout",
     "output_type": "stream",
     "text": [
      "epoch_loss/batch_ct=0.05960941512788099\n",
      "tensor(0.1155, device='cuda:0', grad_fn=<SmoothL1LossBackward0>)\n"
     ]
    },
    {
     "name": "stderr",
     "output_type": "stream",
     "text": [
      "100%|██████████| 1250/1250 [00:02<00:00, 554.56it/s]\n",
      "  0%|          | 1/293 [00:00<00:37,  7.81it/s]"
     ]
    },
    {
     "name": "stdout",
     "output_type": "stream",
     "text": [
      "accuray: 0.2655\n"
     ]
    },
    {
     "name": "stderr",
     "output_type": "stream",
     "text": [
      "100%|██████████| 293/293 [00:31<00:00,  9.16it/s] \n",
      "  3%|▎         | 41/1250 [00:00<00:03, 397.70it/s]"
     ]
    },
    {
     "name": "stdout",
     "output_type": "stream",
     "text": [
      "epoch_loss/batch_ct=0.059699340619974665\n",
      "tensor(0.1170, device='cuda:0', grad_fn=<SmoothL1LossBackward0>)\n"
     ]
    },
    {
     "name": "stderr",
     "output_type": "stream",
     "text": [
      "100%|██████████| 1250/1250 [00:02<00:00, 555.05it/s]\n",
      "  0%|          | 1/293 [00:00<00:35,  8.26it/s]"
     ]
    },
    {
     "name": "stdout",
     "output_type": "stream",
     "text": [
      "accuray: 0.2654\n"
     ]
    },
    {
     "name": "stderr",
     "output_type": "stream",
     "text": [
      "100%|██████████| 293/293 [00:34<00:00,  8.50it/s] \n",
      " 10%|▉         | 124/1250 [00:00<00:01, 619.44it/s]"
     ]
    },
    {
     "name": "stdout",
     "output_type": "stream",
     "text": [
      "epoch_loss/batch_ct=0.05966313276439905\n",
      "tensor(0.1195, device='cuda:0', grad_fn=<SmoothL1LossBackward0>)\n"
     ]
    },
    {
     "name": "stderr",
     "output_type": "stream",
     "text": [
      "100%|██████████| 1250/1250 [00:02<00:00, 615.81it/s]\n",
      "  0%|          | 1/293 [00:00<00:37,  7.74it/s]"
     ]
    },
    {
     "name": "stdout",
     "output_type": "stream",
     "text": [
      "accuray: 0.2657\n"
     ]
    },
    {
     "name": "stderr",
     "output_type": "stream",
     "text": [
      "100%|██████████| 293/293 [00:32<00:00,  9.00it/s] \n",
      "  8%|▊         | 106/1250 [00:00<00:02, 521.24it/s]"
     ]
    },
    {
     "name": "stdout",
     "output_type": "stream",
     "text": [
      "epoch_loss/batch_ct=0.0594864080674828\n",
      "tensor(0.1174, device='cuda:0', grad_fn=<SmoothL1LossBackward0>)\n"
     ]
    },
    {
     "name": "stderr",
     "output_type": "stream",
     "text": [
      "100%|██████████| 1250/1250 [00:02<00:00, 569.48it/s]\n",
      "  0%|          | 1/293 [00:00<00:36,  7.93it/s]"
     ]
    },
    {
     "name": "stdout",
     "output_type": "stream",
     "text": [
      "accuray: 0.2676\n"
     ]
    },
    {
     "name": "stderr",
     "output_type": "stream",
     "text": [
      "100%|██████████| 293/293 [00:32<00:00,  9.11it/s]\n",
      "  4%|▍         | 48/1250 [00:00<00:02, 479.56it/s]"
     ]
    },
    {
     "name": "stdout",
     "output_type": "stream",
     "text": [
      "epoch_loss/batch_ct=0.059564669793915184\n",
      "tensor(0.1156, device='cuda:0', grad_fn=<SmoothL1LossBackward0>)\n"
     ]
    },
    {
     "name": "stderr",
     "output_type": "stream",
     "text": [
      "100%|██████████| 1250/1250 [00:02<00:00, 559.78it/s]\n",
      "  0%|          | 1/293 [00:00<00:39,  7.40it/s]"
     ]
    },
    {
     "name": "stdout",
     "output_type": "stream",
     "text": [
      "accuray: 0.27\n"
     ]
    },
    {
     "name": "stderr",
     "output_type": "stream",
     "text": [
      "100%|██████████| 293/293 [00:34<00:00,  8.54it/s] \n",
      "  5%|▌         | 63/1250 [00:00<00:01, 629.43it/s]"
     ]
    },
    {
     "name": "stdout",
     "output_type": "stream",
     "text": [
      "epoch_loss/batch_ct=0.05951019032074818\n",
      "tensor(0.1164, device='cuda:0', grad_fn=<SmoothL1LossBackward0>)\n"
     ]
    },
    {
     "name": "stderr",
     "output_type": "stream",
     "text": [
      "100%|██████████| 1250/1250 [00:02<00:00, 614.60it/s]\n",
      "  0%|          | 1/293 [00:00<00:38,  7.63it/s]"
     ]
    },
    {
     "name": "stdout",
     "output_type": "stream",
     "text": [
      "accuray: 0.2659\n"
     ]
    },
    {
     "name": "stderr",
     "output_type": "stream",
     "text": [
      "100%|██████████| 293/293 [00:32<00:00,  8.91it/s] \n",
      "  9%|▉         | 113/1250 [00:00<00:01, 572.71it/s]"
     ]
    },
    {
     "name": "stdout",
     "output_type": "stream",
     "text": [
      "epoch_loss/batch_ct=0.05952361376867408\n",
      "tensor(0.1166, device='cuda:0', grad_fn=<SmoothL1LossBackward0>)\n"
     ]
    },
    {
     "name": "stderr",
     "output_type": "stream",
     "text": [
      "100%|██████████| 1250/1250 [00:02<00:00, 604.28it/s]\n",
      "  0%|          | 1/293 [00:00<00:36,  8.06it/s]"
     ]
    },
    {
     "name": "stdout",
     "output_type": "stream",
     "text": [
      "accuray: 0.2659\n"
     ]
    },
    {
     "name": "stderr",
     "output_type": "stream",
     "text": [
      "100%|██████████| 293/293 [00:32<00:00,  8.96it/s] \n",
      "  5%|▌         | 63/1250 [00:00<00:01, 629.43it/s]"
     ]
    },
    {
     "name": "stdout",
     "output_type": "stream",
     "text": [
      "epoch_loss/batch_ct=0.0595844608421127\n",
      "tensor(0.1194, device='cuda:0', grad_fn=<SmoothL1LossBackward0>)\n"
     ]
    },
    {
     "name": "stderr",
     "output_type": "stream",
     "text": [
      "100%|██████████| 1250/1250 [00:02<00:00, 617.33it/s]\n",
      "  0%|          | 0/293 [00:00<?, ?it/s]"
     ]
    },
    {
     "name": "stdout",
     "output_type": "stream",
     "text": [
      "accuray: 0.268\n"
     ]
    },
    {
     "name": "stderr",
     "output_type": "stream",
     "text": [
      "100%|██████████| 293/293 [00:32<00:00,  9.09it/s] \n",
      " 10%|█         | 125/1250 [00:00<00:01, 625.31it/s]"
     ]
    },
    {
     "name": "stdout",
     "output_type": "stream",
     "text": [
      "epoch_loss/batch_ct=0.05963652694804801\n",
      "tensor(0.1159, device='cuda:0', grad_fn=<SmoothL1LossBackward0>)\n"
     ]
    },
    {
     "name": "stderr",
     "output_type": "stream",
     "text": [
      "100%|██████████| 1250/1250 [00:02<00:00, 584.67it/s]\n",
      "  0%|          | 0/293 [00:00<?, ?it/s]"
     ]
    },
    {
     "name": "stdout",
     "output_type": "stream",
     "text": [
      "accuray: 0.2709\n"
     ]
    },
    {
     "name": "stderr",
     "output_type": "stream",
     "text": [
      "100%|██████████| 293/293 [00:36<00:00,  8.12it/s] \n",
      "  5%|▍         | 58/1250 [00:00<00:02, 579.47it/s]"
     ]
    },
    {
     "name": "stdout",
     "output_type": "stream",
     "text": [
      "epoch_loss/batch_ct=0.059564796645963\n",
      "tensor(0.1186, device='cuda:0', grad_fn=<SmoothL1LossBackward0>)\n"
     ]
    },
    {
     "name": "stderr",
     "output_type": "stream",
     "text": [
      "100%|██████████| 1250/1250 [00:02<00:00, 578.45it/s]\n",
      "  0%|          | 1/293 [00:00<00:50,  5.74it/s]"
     ]
    },
    {
     "name": "stdout",
     "output_type": "stream",
     "text": [
      "accuray: 0.2656\n"
     ]
    },
    {
     "name": "stderr",
     "output_type": "stream",
     "text": [
      "100%|██████████| 293/293 [00:33<00:00,  8.86it/s] \n",
      "  5%|▌         | 64/1250 [00:00<00:01, 633.09it/s]"
     ]
    },
    {
     "name": "stdout",
     "output_type": "stream",
     "text": [
      "epoch_loss/batch_ct=0.05959135860145565\n",
      "tensor(0.1159, device='cuda:0', grad_fn=<SmoothL1LossBackward0>)\n"
     ]
    },
    {
     "name": "stderr",
     "output_type": "stream",
     "text": [
      "100%|██████████| 1250/1250 [00:02<00:00, 583.85it/s]\n",
      "  0%|          | 1/293 [00:00<00:41,  6.99it/s]"
     ]
    },
    {
     "name": "stdout",
     "output_type": "stream",
     "text": [
      "accuray: 0.2663\n"
     ]
    },
    {
     "name": "stderr",
     "output_type": "stream",
     "text": [
      "100%|██████████| 293/293 [00:36<00:00,  8.14it/s]\n",
      "  9%|▉         | 115/1250 [00:00<00:01, 572.00it/s]"
     ]
    },
    {
     "name": "stdout",
     "output_type": "stream",
     "text": [
      "epoch_loss/batch_ct=0.05955750004403175\n",
      "tensor(0.1176, device='cuda:0', grad_fn=<SmoothL1LossBackward0>)\n"
     ]
    },
    {
     "name": "stderr",
     "output_type": "stream",
     "text": [
      "100%|██████████| 1250/1250 [00:02<00:00, 572.35it/s]\n",
      "  0%|          | 1/293 [00:00<00:45,  6.49it/s]"
     ]
    },
    {
     "name": "stdout",
     "output_type": "stream",
     "text": [
      "accuray: 0.2689\n"
     ]
    },
    {
     "name": "stderr",
     "output_type": "stream",
     "text": [
      "100%|██████████| 293/293 [00:36<00:00,  7.98it/s]\n",
      "  4%|▎         | 45/1250 [00:00<00:02, 440.78it/s]"
     ]
    },
    {
     "name": "stdout",
     "output_type": "stream",
     "text": [
      "epoch_loss/batch_ct=0.05955915061372613\n",
      "tensor(0.1170, device='cuda:0', grad_fn=<SmoothL1LossBackward0>)\n"
     ]
    },
    {
     "name": "stderr",
     "output_type": "stream",
     "text": [
      "100%|██████████| 1250/1250 [00:02<00:00, 554.46it/s]\n",
      "  0%|          | 1/293 [00:00<00:37,  7.69it/s]"
     ]
    },
    {
     "name": "stdout",
     "output_type": "stream",
     "text": [
      "accuray: 0.2683\n"
     ]
    },
    {
     "name": "stderr",
     "output_type": "stream",
     "text": [
      "100%|██████████| 293/293 [00:32<00:00,  8.89it/s] \n",
      "  9%|▉         | 114/1250 [00:00<00:02, 560.58it/s]"
     ]
    },
    {
     "name": "stdout",
     "output_type": "stream",
     "text": [
      "epoch_loss/batch_ct=0.05959391001138895\n",
      "tensor(0.1171, device='cuda:0', grad_fn=<SmoothL1LossBackward0>)\n"
     ]
    },
    {
     "name": "stderr",
     "output_type": "stream",
     "text": [
      "100%|██████████| 1250/1250 [00:02<00:00, 542.76it/s]\n",
      "  0%|          | 1/293 [00:00<00:45,  6.40it/s]"
     ]
    },
    {
     "name": "stdout",
     "output_type": "stream",
     "text": [
      "accuray: 0.2703\n"
     ]
    },
    {
     "name": "stderr",
     "output_type": "stream",
     "text": [
      "100%|██████████| 293/293 [00:34<00:00,  8.52it/s]\n",
      "  7%|▋         | 85/1250 [00:00<00:02, 424.79it/s]"
     ]
    },
    {
     "name": "stdout",
     "output_type": "stream",
     "text": [
      "epoch_loss/batch_ct=0.05964730974168531\n",
      "tensor(0.1160, device='cuda:0', grad_fn=<SmoothL1LossBackward0>)\n"
     ]
    },
    {
     "name": "stderr",
     "output_type": "stream",
     "text": [
      "100%|██████████| 1250/1250 [00:02<00:00, 543.69it/s]\n",
      "  0%|          | 1/293 [00:00<00:45,  6.36it/s]"
     ]
    },
    {
     "name": "stdout",
     "output_type": "stream",
     "text": [
      "accuray: 0.268\n"
     ]
    },
    {
     "name": "stderr",
     "output_type": "stream",
     "text": [
      "100%|██████████| 293/293 [00:35<00:00,  8.20it/s] \n",
      "  4%|▎         | 44/1250 [00:00<00:02, 439.60it/s]"
     ]
    },
    {
     "name": "stdout",
     "output_type": "stream",
     "text": [
      "epoch_loss/batch_ct=0.059532614557870796\n",
      "tensor(0.1164, device='cuda:0', grad_fn=<SmoothL1LossBackward0>)\n"
     ]
    },
    {
     "name": "stderr",
     "output_type": "stream",
     "text": [
      "100%|██████████| 1250/1250 [00:02<00:00, 477.18it/s]\n",
      "  0%|          | 1/293 [00:00<00:38,  7.57it/s]"
     ]
    },
    {
     "name": "stdout",
     "output_type": "stream",
     "text": [
      "accuray: 0.2655\n"
     ]
    },
    {
     "name": "stderr",
     "output_type": "stream",
     "text": [
      "100%|██████████| 293/293 [00:31<00:00,  9.24it/s] \n",
      "  0%|          | 0/1250 [00:00<?, ?it/s]"
     ]
    },
    {
     "name": "stdout",
     "output_type": "stream",
     "text": [
      "epoch_loss/batch_ct=0.05963428325891968\n",
      "tensor(0.1154, device='cuda:0', grad_fn=<SmoothL1LossBackward0>)\n"
     ]
    },
    {
     "name": "stderr",
     "output_type": "stream",
     "text": [
      "100%|██████████| 1250/1250 [00:01<00:00, 651.47it/s]\n",
      "  0%|          | 1/293 [00:00<00:39,  7.37it/s]"
     ]
    },
    {
     "name": "stdout",
     "output_type": "stream",
     "text": [
      "accuray: 0.2683\n"
     ]
    },
    {
     "name": "stderr",
     "output_type": "stream",
     "text": [
      "100%|██████████| 293/293 [00:30<00:00,  9.53it/s]\n",
      "  5%|▍         | 57/1250 [00:00<00:02, 569.48it/s]"
     ]
    },
    {
     "name": "stdout",
     "output_type": "stream",
     "text": [
      "epoch_loss/batch_ct=0.0595829106482958\n",
      "tensor(0.1184, device='cuda:0', grad_fn=<SmoothL1LossBackward0>)\n"
     ]
    },
    {
     "name": "stderr",
     "output_type": "stream",
     "text": [
      "100%|██████████| 1250/1250 [00:02<00:00, 597.54it/s]\n",
      "  0%|          | 1/293 [00:00<00:35,  8.26it/s]"
     ]
    },
    {
     "name": "stdout",
     "output_type": "stream",
     "text": [
      "accuray: 0.2676\n"
     ]
    },
    {
     "name": "stderr",
     "output_type": "stream",
     "text": [
      "100%|██████████| 293/293 [00:32<00:00,  8.88it/s] \n",
      "  4%|▍         | 56/1250 [00:00<00:02, 553.95it/s]"
     ]
    },
    {
     "name": "stdout",
     "output_type": "stream",
     "text": [
      "epoch_loss/batch_ct=0.05957718974068051\n",
      "tensor(0.1184, device='cuda:0', grad_fn=<SmoothL1LossBackward0>)\n"
     ]
    },
    {
     "name": "stderr",
     "output_type": "stream",
     "text": [
      "100%|██████████| 1250/1250 [00:02<00:00, 606.54it/s]\n",
      "  0%|          | 1/293 [00:00<00:36,  7.99it/s]"
     ]
    },
    {
     "name": "stdout",
     "output_type": "stream",
     "text": [
      "accuray: 0.267\n"
     ]
    },
    {
     "name": "stderr",
     "output_type": "stream",
     "text": [
      "100%|██████████| 293/293 [00:31<00:00,  9.31it/s] \n",
      "  9%|▊         | 107/1250 [00:00<00:02, 540.69it/s]"
     ]
    },
    {
     "name": "stdout",
     "output_type": "stream",
     "text": [
      "epoch_loss/batch_ct=0.05963029752352408\n",
      "tensor(0.1181, device='cuda:0', grad_fn=<SmoothL1LossBackward0>)\n"
     ]
    },
    {
     "name": "stderr",
     "output_type": "stream",
     "text": [
      "100%|██████████| 1250/1250 [00:02<00:00, 567.41it/s]\n",
      "  0%|          | 1/293 [00:00<00:36,  7.99it/s]"
     ]
    },
    {
     "name": "stdout",
     "output_type": "stream",
     "text": [
      "accuray: 0.2671\n"
     ]
    },
    {
     "name": "stderr",
     "output_type": "stream",
     "text": [
      "100%|██████████| 293/293 [00:34<00:00,  8.52it/s]\n",
      "  4%|▍         | 53/1250 [00:00<00:02, 529.52it/s]"
     ]
    },
    {
     "name": "stdout",
     "output_type": "stream",
     "text": [
      "epoch_loss/batch_ct=0.05963114823495585\n",
      "tensor(0.1167, device='cuda:0', grad_fn=<SmoothL1LossBackward0>)\n"
     ]
    },
    {
     "name": "stderr",
     "output_type": "stream",
     "text": [
      "100%|██████████| 1250/1250 [00:02<00:00, 586.32it/s]\n",
      "  0%|          | 1/293 [00:00<00:40,  7.29it/s]"
     ]
    },
    {
     "name": "stdout",
     "output_type": "stream",
     "text": [
      "accuray: 0.268\n"
     ]
    },
    {
     "name": "stderr",
     "output_type": "stream",
     "text": [
      "100%|██████████| 293/293 [00:33<00:00,  8.73it/s] \n",
      " 10%|▉         | 122/1250 [00:00<00:01, 602.36it/s]"
     ]
    },
    {
     "name": "stdout",
     "output_type": "stream",
     "text": [
      "epoch_loss/batch_ct=0.059488209807092234\n",
      "tensor(0.1173, device='cuda:0', grad_fn=<SmoothL1LossBackward0>)\n"
     ]
    },
    {
     "name": "stderr",
     "output_type": "stream",
     "text": [
      "100%|██████████| 1250/1250 [00:01<00:00, 663.58it/s]\n",
      "  0%|          | 1/293 [00:00<00:37,  7.69it/s]"
     ]
    },
    {
     "name": "stdout",
     "output_type": "stream",
     "text": [
      "accuray: 0.2645\n"
     ]
    },
    {
     "name": "stderr",
     "output_type": "stream",
     "text": [
      "100%|██████████| 293/293 [00:31<00:00,  9.42it/s] \n",
      "  5%|▍         | 57/1250 [00:00<00:02, 569.48it/s]"
     ]
    },
    {
     "name": "stdout",
     "output_type": "stream",
     "text": [
      "epoch_loss/batch_ct=0.059520614836069324\n",
      "tensor(0.1168, device='cuda:0', grad_fn=<SmoothL1LossBackward0>)\n"
     ]
    },
    {
     "name": "stderr",
     "output_type": "stream",
     "text": [
      "100%|██████████| 1250/1250 [00:02<00:00, 600.13it/s]\n",
      "  0%|          | 1/293 [00:00<00:34,  8.47it/s]"
     ]
    },
    {
     "name": "stdout",
     "output_type": "stream",
     "text": [
      "accuray: 0.2643\n"
     ]
    },
    {
     "name": "stderr",
     "output_type": "stream",
     "text": [
      "100%|██████████| 293/293 [00:31<00:00,  9.43it/s] \n",
      "  9%|▉         | 110/1250 [00:00<00:02, 546.59it/s]"
     ]
    },
    {
     "name": "stdout",
     "output_type": "stream",
     "text": [
      "epoch_loss/batch_ct=0.05960118241371617\n",
      "tensor(0.1184, device='cuda:0', grad_fn=<SmoothL1LossBackward0>)\n"
     ]
    },
    {
     "name": "stderr",
     "output_type": "stream",
     "text": [
      "100%|██████████| 1250/1250 [00:02<00:00, 589.36it/s]\n",
      "  0%|          | 1/293 [00:00<00:34,  8.47it/s]"
     ]
    },
    {
     "name": "stdout",
     "output_type": "stream",
     "text": [
      "accuray: 0.2616\n"
     ]
    },
    {
     "name": "stderr",
     "output_type": "stream",
     "text": [
      "100%|██████████| 293/293 [00:30<00:00,  9.47it/s] \n",
      "  4%|▍         | 56/1250 [00:00<00:02, 559.49it/s]"
     ]
    },
    {
     "name": "stdout",
     "output_type": "stream",
     "text": [
      "epoch_loss/batch_ct=0.059544696901289246\n",
      "tensor(0.1169, device='cuda:0', grad_fn=<SmoothL1LossBackward0>)\n"
     ]
    },
    {
     "name": "stderr",
     "output_type": "stream",
     "text": [
      "100%|██████████| 1250/1250 [00:02<00:00, 595.55it/s]\n",
      "  0%|          | 0/293 [00:00<?, ?it/s]"
     ]
    },
    {
     "name": "stdout",
     "output_type": "stream",
     "text": [
      "accuray: 0.2623\n"
     ]
    },
    {
     "name": "stderr",
     "output_type": "stream",
     "text": [
      "100%|██████████| 293/293 [00:31<00:00,  9.16it/s]\n",
      " 11%|█         | 140/1250 [00:00<00:01, 657.95it/s]"
     ]
    },
    {
     "name": "stdout",
     "output_type": "stream",
     "text": [
      "epoch_loss/batch_ct=0.05954720474602211\n",
      "tensor(0.1175, device='cuda:0', grad_fn=<SmoothL1LossBackward0>)\n"
     ]
    },
    {
     "name": "stderr",
     "output_type": "stream",
     "text": [
      "100%|██████████| 1250/1250 [00:02<00:00, 610.09it/s]\n",
      "  0%|          | 1/293 [00:00<00:33,  8.61it/s]"
     ]
    },
    {
     "name": "stdout",
     "output_type": "stream",
     "text": [
      "accuray: 0.2665\n"
     ]
    },
    {
     "name": "stderr",
     "output_type": "stream",
     "text": [
      "100%|██████████| 293/293 [00:32<00:00,  9.12it/s] \n",
      "  4%|▍         | 54/1250 [00:00<00:02, 539.51it/s]"
     ]
    },
    {
     "name": "stdout",
     "output_type": "stream",
     "text": [
      "epoch_loss/batch_ct=0.05957237400469326\n",
      "tensor(0.1168, device='cuda:0', grad_fn=<SmoothL1LossBackward0>)\n"
     ]
    },
    {
     "name": "stderr",
     "output_type": "stream",
     "text": [
      "100%|██████████| 1250/1250 [00:02<00:00, 583.58it/s]\n",
      "  0%|          | 1/293 [00:00<00:35,  8.26it/s]"
     ]
    },
    {
     "name": "stdout",
     "output_type": "stream",
     "text": [
      "accuray: 0.268\n"
     ]
    },
    {
     "name": "stderr",
     "output_type": "stream",
     "text": [
      "100%|██████████| 293/293 [00:31<00:00,  9.24it/s] \n",
      "  5%|▌         | 65/1250 [00:00<00:03, 324.13it/s]"
     ]
    },
    {
     "name": "stdout",
     "output_type": "stream",
     "text": [
      "epoch_loss/batch_ct=0.05957996729938757\n",
      "tensor(0.1171, device='cuda:0', grad_fn=<SmoothL1LossBackward0>)\n"
     ]
    },
    {
     "name": "stderr",
     "output_type": "stream",
     "text": [
      "100%|██████████| 1250/1250 [00:02<00:00, 491.85it/s]\n",
      "  0%|          | 1/293 [00:00<00:39,  7.35it/s]"
     ]
    },
    {
     "name": "stdout",
     "output_type": "stream",
     "text": [
      "accuray: 0.2675\n"
     ]
    },
    {
     "name": "stderr",
     "output_type": "stream",
     "text": [
      "100%|██████████| 293/293 [00:34<00:00,  8.54it/s] \n",
      " 11%|█         | 140/1250 [00:00<00:01, 695.28it/s]"
     ]
    },
    {
     "name": "stdout",
     "output_type": "stream",
     "text": [
      "epoch_loss/batch_ct=0.05954284421981327\n",
      "tensor(0.1170, device='cuda:0', grad_fn=<SmoothL1LossBackward0>)\n"
     ]
    },
    {
     "name": "stderr",
     "output_type": "stream",
     "text": [
      "100%|██████████| 1250/1250 [00:01<00:00, 659.38it/s]\n",
      "  0%|          | 1/293 [00:00<00:33,  8.61it/s]"
     ]
    },
    {
     "name": "stdout",
     "output_type": "stream",
     "text": [
      "accuray: 0.2642\n"
     ]
    },
    {
     "name": "stderr",
     "output_type": "stream",
     "text": [
      "100%|██████████| 293/293 [00:32<00:00,  9.15it/s] \n",
      "  9%|▊         | 109/1250 [00:00<00:02, 540.93it/s]"
     ]
    },
    {
     "name": "stdout",
     "output_type": "stream",
     "text": [
      "epoch_loss/batch_ct=0.05950169657017031\n",
      "tensor(0.1168, device='cuda:0', grad_fn=<SmoothL1LossBackward0>)\n"
     ]
    },
    {
     "name": "stderr",
     "output_type": "stream",
     "text": [
      "100%|██████████| 1250/1250 [00:02<00:00, 565.86it/s]\n",
      "  0%|          | 1/293 [00:00<00:35,  8.19it/s]"
     ]
    },
    {
     "name": "stdout",
     "output_type": "stream",
     "text": [
      "accuray: 0.2663\n"
     ]
    },
    {
     "name": "stderr",
     "output_type": "stream",
     "text": [
      "100%|██████████| 293/293 [00:31<00:00,  9.26it/s] \n",
      "  5%|▌         | 65/1250 [00:00<00:01, 642.98it/s]"
     ]
    },
    {
     "name": "stdout",
     "output_type": "stream",
     "text": [
      "epoch_loss/batch_ct=0.059580136755747456\n",
      "tensor(0.1197, device='cuda:0', grad_fn=<SmoothL1LossBackward0>)\n"
     ]
    },
    {
     "name": "stderr",
     "output_type": "stream",
     "text": [
      "100%|██████████| 1250/1250 [00:02<00:00, 624.74it/s]\n",
      "  0%|          | 1/293 [00:00<00:34,  8.40it/s]"
     ]
    },
    {
     "name": "stdout",
     "output_type": "stream",
     "text": [
      "accuray: 0.2696\n"
     ]
    },
    {
     "name": "stderr",
     "output_type": "stream",
     "text": [
      "100%|██████████| 293/293 [00:32<00:00,  8.91it/s] \n",
      " 10%|█         | 131/1250 [00:00<00:01, 651.45it/s]"
     ]
    },
    {
     "name": "stdout",
     "output_type": "stream",
     "text": [
      "epoch_loss/batch_ct=0.05960282508934301\n",
      "tensor(0.1169, device='cuda:0', grad_fn=<SmoothL1LossBackward0>)\n"
     ]
    },
    {
     "name": "stderr",
     "output_type": "stream",
     "text": [
      "100%|██████████| 1250/1250 [00:01<00:00, 647.08it/s]\n",
      "  0%|          | 1/293 [00:00<00:34,  8.47it/s]"
     ]
    },
    {
     "name": "stdout",
     "output_type": "stream",
     "text": [
      "accuray: 0.2681\n"
     ]
    },
    {
     "name": "stderr",
     "output_type": "stream",
     "text": [
      "100%|██████████| 293/293 [00:31<00:00,  9.45it/s] \n",
      "  9%|▉         | 114/1250 [00:00<00:02, 566.15it/s]"
     ]
    },
    {
     "name": "stdout",
     "output_type": "stream",
     "text": [
      "epoch_loss/batch_ct=0.05961823405786639\n",
      "tensor(0.1171, device='cuda:0', grad_fn=<SmoothL1LossBackward0>)\n"
     ]
    },
    {
     "name": "stderr",
     "output_type": "stream",
     "text": [
      "100%|██████████| 1250/1250 [00:02<00:00, 606.72it/s]\n",
      "  0%|          | 1/293 [00:00<00:36,  8.06it/s]"
     ]
    },
    {
     "name": "stdout",
     "output_type": "stream",
     "text": [
      "accuray: 0.2665\n"
     ]
    },
    {
     "name": "stderr",
     "output_type": "stream",
     "text": [
      "100%|██████████| 293/293 [00:30<00:00,  9.48it/s] \n",
      "  5%|▍         | 58/1250 [00:00<00:02, 579.47it/s]"
     ]
    },
    {
     "name": "stdout",
     "output_type": "stream",
     "text": [
      "epoch_loss/batch_ct=0.0595963310952934\n",
      "tensor(0.1180, device='cuda:0', grad_fn=<SmoothL1LossBackward0>)\n"
     ]
    },
    {
     "name": "stderr",
     "output_type": "stream",
     "text": [
      "100%|██████████| 1250/1250 [00:01<00:00, 641.30it/s]\n",
      "  0%|          | 1/293 [00:00<00:33,  8.69it/s]"
     ]
    },
    {
     "name": "stdout",
     "output_type": "stream",
     "text": [
      "accuray: 0.268\n"
     ]
    },
    {
     "name": "stderr",
     "output_type": "stream",
     "text": [
      "100%|██████████| 293/293 [00:32<00:00,  8.92it/s] \n",
      "  5%|▍         | 57/1250 [00:00<00:02, 563.85it/s]"
     ]
    },
    {
     "name": "stdout",
     "output_type": "stream",
     "text": [
      "epoch_loss/batch_ct=0.05956077257851287\n",
      "tensor(0.1188, device='cuda:0', grad_fn=<SmoothL1LossBackward0>)\n"
     ]
    },
    {
     "name": "stderr",
     "output_type": "stream",
     "text": [
      "100%|██████████| 1250/1250 [00:02<00:00, 560.99it/s]\n",
      "  0%|          | 1/293 [00:00<00:33,  8.76it/s]"
     ]
    },
    {
     "name": "stdout",
     "output_type": "stream",
     "text": [
      "accuray: 0.268\n"
     ]
    },
    {
     "name": "stderr",
     "output_type": "stream",
     "text": [
      "100%|██████████| 293/293 [00:30<00:00,  9.54it/s] \n",
      "  4%|▍         | 52/1250 [00:00<00:02, 514.38it/s]"
     ]
    },
    {
     "name": "stdout",
     "output_type": "stream",
     "text": [
      "epoch_loss/batch_ct=0.059550511813352976\n",
      "tensor(0.1168, device='cuda:0', grad_fn=<SmoothL1LossBackward0>)\n"
     ]
    },
    {
     "name": "stderr",
     "output_type": "stream",
     "text": [
      "100%|██████████| 1250/1250 [00:02<00:00, 610.39it/s]\n",
      "  0%|          | 1/293 [00:00<00:35,  8.19it/s]"
     ]
    },
    {
     "name": "stdout",
     "output_type": "stream",
     "text": [
      "accuray: 0.264\n"
     ]
    },
    {
     "name": "stderr",
     "output_type": "stream",
     "text": [
      "100%|██████████| 293/293 [00:30<00:00,  9.59it/s] \n",
      "  5%|▍         | 57/1250 [00:00<00:02, 569.48it/s]"
     ]
    },
    {
     "name": "stdout",
     "output_type": "stream",
     "text": [
      "epoch_loss/batch_ct=0.059550387518746514\n",
      "tensor(0.1179, device='cuda:0', grad_fn=<SmoothL1LossBackward0>)\n"
     ]
    },
    {
     "name": "stderr",
     "output_type": "stream",
     "text": [
      "100%|██████████| 1250/1250 [00:02<00:00, 567.12it/s]\n",
      "  0%|          | 1/293 [00:00<00:37,  7.69it/s]"
     ]
    },
    {
     "name": "stdout",
     "output_type": "stream",
     "text": [
      "accuray: 0.267\n"
     ]
    },
    {
     "name": "stderr",
     "output_type": "stream",
     "text": [
      "100%|██████████| 293/293 [00:32<00:00,  8.90it/s] \n",
      "  9%|▉         | 114/1250 [00:00<00:02, 567.91it/s]"
     ]
    },
    {
     "name": "stdout",
     "output_type": "stream",
     "text": [
      "epoch_loss/batch_ct=0.05956170060450122\n",
      "tensor(0.1168, device='cuda:0', grad_fn=<SmoothL1LossBackward0>)\n"
     ]
    },
    {
     "name": "stderr",
     "output_type": "stream",
     "text": [
      "100%|██████████| 1250/1250 [00:02<00:00, 601.28it/s]\n",
      "  0%|          | 1/293 [00:00<00:34,  8.40it/s]"
     ]
    },
    {
     "name": "stdout",
     "output_type": "stream",
     "text": [
      "accuray: 0.2708\n"
     ]
    },
    {
     "name": "stderr",
     "output_type": "stream",
     "text": [
      "100%|██████████| 293/293 [00:30<00:00,  9.46it/s] \n",
      "  9%|▉         | 117/1250 [00:00<00:01, 579.55it/s]"
     ]
    },
    {
     "name": "stdout",
     "output_type": "stream",
     "text": [
      "epoch_loss/batch_ct=0.05961680110721361\n",
      "tensor(0.1204, device='cuda:0', grad_fn=<SmoothL1LossBackward0>)\n"
     ]
    },
    {
     "name": "stderr",
     "output_type": "stream",
     "text": [
      "100%|██████████| 1250/1250 [00:02<00:00, 603.61it/s]\n",
      "  0%|          | 1/293 [00:00<00:35,  8.12it/s]"
     ]
    },
    {
     "name": "stdout",
     "output_type": "stream",
     "text": [
      "accuray: 0.2651\n"
     ]
    },
    {
     "name": "stderr",
     "output_type": "stream",
     "text": [
      "100%|██████████| 293/293 [00:30<00:00,  9.47it/s] \n",
      "  9%|▉         | 112/1250 [00:00<00:02, 561.25it/s]"
     ]
    },
    {
     "name": "stdout",
     "output_type": "stream",
     "text": [
      "epoch_loss/batch_ct=0.05968391698681646\n",
      "tensor(0.1189, device='cuda:0', grad_fn=<SmoothL1LossBackward0>)\n"
     ]
    },
    {
     "name": "stderr",
     "output_type": "stream",
     "text": [
      "100%|██████████| 1250/1250 [00:02<00:00, 600.42it/s]\n",
      "  0%|          | 1/293 [00:00<00:35,  8.26it/s]"
     ]
    },
    {
     "name": "stdout",
     "output_type": "stream",
     "text": [
      "accuray: 0.2645\n"
     ]
    },
    {
     "name": "stderr",
     "output_type": "stream",
     "text": [
      "100%|██████████| 293/293 [00:30<00:00,  9.46it/s] \n",
      "  5%|▍         | 57/1250 [00:00<00:02, 569.48it/s]"
     ]
    },
    {
     "name": "stdout",
     "output_type": "stream",
     "text": [
      "epoch_loss/batch_ct=0.05965372940732373\n",
      "tensor(0.1161, device='cuda:0', grad_fn=<SmoothL1LossBackward0>)\n"
     ]
    },
    {
     "name": "stderr",
     "output_type": "stream",
     "text": [
      "100%|██████████| 1250/1250 [00:02<00:00, 602.25it/s]\n",
      "  0%|          | 1/293 [00:00<00:34,  8.40it/s]"
     ]
    },
    {
     "name": "stdout",
     "output_type": "stream",
     "text": [
      "accuray: 0.2678\n"
     ]
    },
    {
     "name": "stderr",
     "output_type": "stream",
     "text": [
      "100%|██████████| 293/293 [00:30<00:00,  9.47it/s] \n",
      "  5%|▍         | 57/1250 [00:00<00:02, 569.48it/s]"
     ]
    },
    {
     "name": "stdout",
     "output_type": "stream",
     "text": [
      "epoch_loss/batch_ct=0.05953770496010307\n",
      "tensor(0.1186, device='cuda:0', grad_fn=<SmoothL1LossBackward0>)\n"
     ]
    },
    {
     "name": "stderr",
     "output_type": "stream",
     "text": [
      "100%|██████████| 1250/1250 [00:02<00:00, 600.70it/s]\n",
      "  0%|          | 1/293 [00:00<00:35,  8.33it/s]"
     ]
    },
    {
     "name": "stdout",
     "output_type": "stream",
     "text": [
      "accuray: 0.2639\n"
     ]
    },
    {
     "name": "stderr",
     "output_type": "stream",
     "text": [
      "100%|██████████| 293/293 [00:30<00:00,  9.47it/s] \n",
      "  9%|▉         | 114/1250 [00:00<00:02, 567.15it/s]"
     ]
    },
    {
     "name": "stdout",
     "output_type": "stream",
     "text": [
      "epoch_loss/batch_ct=0.059563935749114505\n",
      "tensor(0.1181, device='cuda:0', grad_fn=<SmoothL1LossBackward0>)\n"
     ]
    },
    {
     "name": "stderr",
     "output_type": "stream",
     "text": [
      "100%|██████████| 1250/1250 [00:02<00:00, 600.13it/s]\n",
      "  0%|          | 1/293 [00:00<00:35,  8.33it/s]"
     ]
    },
    {
     "name": "stdout",
     "output_type": "stream",
     "text": [
      "accuray: 0.2688\n"
     ]
    },
    {
     "name": "stderr",
     "output_type": "stream",
     "text": [
      "100%|██████████| 293/293 [00:30<00:00,  9.48it/s] \n",
      "  5%|▍         | 57/1250 [00:00<00:02, 563.85it/s]"
     ]
    },
    {
     "name": "stdout",
     "output_type": "stream",
     "text": [
      "epoch_loss/batch_ct=0.059582115890133\n",
      "tensor(0.1178, device='cuda:0', grad_fn=<SmoothL1LossBackward0>)\n"
     ]
    },
    {
     "name": "stderr",
     "output_type": "stream",
     "text": [
      "100%|██████████| 1250/1250 [00:02<00:00, 605.66it/s]\n",
      "  0%|          | 1/293 [00:00<00:35,  8.19it/s]"
     ]
    },
    {
     "name": "stdout",
     "output_type": "stream",
     "text": [
      "accuray: 0.2688\n"
     ]
    },
    {
     "name": "stderr",
     "output_type": "stream",
     "text": [
      "100%|██████████| 293/293 [00:32<00:00,  8.91it/s] \n",
      "  9%|▉         | 115/1250 [00:00<00:02, 559.24it/s]"
     ]
    },
    {
     "name": "stdout",
     "output_type": "stream",
     "text": [
      "epoch_loss/batch_ct=0.059641387949268966\n",
      "tensor(0.1172, device='cuda:0', grad_fn=<SmoothL1LossBackward0>)\n"
     ]
    },
    {
     "name": "stderr",
     "output_type": "stream",
     "text": [
      "100%|██████████| 1250/1250 [00:02<00:00, 602.63it/s]\n",
      "  0%|          | 1/293 [00:00<00:35,  8.33it/s]"
     ]
    },
    {
     "name": "stdout",
     "output_type": "stream",
     "text": [
      "accuray: 0.2662\n"
     ]
    },
    {
     "name": "stderr",
     "output_type": "stream",
     "text": [
      "100%|██████████| 293/293 [00:30<00:00,  9.48it/s] \n",
      "  5%|▍         | 57/1250 [00:00<00:02, 569.48it/s]"
     ]
    },
    {
     "name": "stdout",
     "output_type": "stream",
     "text": [
      "epoch_loss/batch_ct=0.05966191768409714\n",
      "tensor(0.1187, device='cuda:0', grad_fn=<SmoothL1LossBackward0>)\n"
     ]
    },
    {
     "name": "stderr",
     "output_type": "stream",
     "text": [
      "100%|██████████| 1250/1250 [00:02<00:00, 601.63it/s]\n",
      "  0%|          | 1/293 [00:00<00:33,  8.69it/s]"
     ]
    },
    {
     "name": "stdout",
     "output_type": "stream",
     "text": [
      "accuray: 0.2656\n"
     ]
    },
    {
     "name": "stderr",
     "output_type": "stream",
     "text": [
      "100%|██████████| 293/293 [00:30<00:00,  9.47it/s] \n",
      "  4%|▍         | 55/1250 [00:00<00:02, 549.50it/s]"
     ]
    },
    {
     "name": "stdout",
     "output_type": "stream",
     "text": [
      "epoch_loss/batch_ct=0.059515604764104835\n",
      "tensor(0.1188, device='cuda:0', grad_fn=<SmoothL1LossBackward0>)\n"
     ]
    },
    {
     "name": "stderr",
     "output_type": "stream",
     "text": [
      "100%|██████████| 1250/1250 [00:02<00:00, 599.55it/s]\n",
      "  0%|          | 1/293 [00:00<00:34,  8.40it/s]"
     ]
    },
    {
     "name": "stdout",
     "output_type": "stream",
     "text": [
      "accuray: 0.2682\n"
     ]
    },
    {
     "name": "stderr",
     "output_type": "stream",
     "text": [
      "100%|██████████| 293/293 [00:33<00:00,  8.81it/s] \n",
      "  8%|▊         | 94/1250 [00:00<00:02, 472.09it/s]"
     ]
    },
    {
     "name": "stdout",
     "output_type": "stream",
     "text": [
      "epoch_loss/batch_ct=0.05954804463637254\n",
      "tensor(0.1167, device='cuda:0', grad_fn=<SmoothL1LossBackward0>)\n"
     ]
    },
    {
     "name": "stderr",
     "output_type": "stream",
     "text": [
      "100%|██████████| 1250/1250 [00:02<00:00, 605.36it/s]\n",
      "  0%|          | 1/293 [00:00<00:34,  8.54it/s]"
     ]
    },
    {
     "name": "stdout",
     "output_type": "stream",
     "text": [
      "accuray: 0.2633\n"
     ]
    },
    {
     "name": "stderr",
     "output_type": "stream",
     "text": [
      "100%|██████████| 293/293 [00:31<00:00,  9.41it/s] \n",
      "  8%|▊         | 101/1250 [00:00<00:02, 505.42it/s]"
     ]
    },
    {
     "name": "stdout",
     "output_type": "stream",
     "text": [
      "epoch_loss/batch_ct=0.059479074759615794\n",
      "tensor(0.1186, device='cuda:0', grad_fn=<SmoothL1LossBackward0>)\n"
     ]
    },
    {
     "name": "stderr",
     "output_type": "stream",
     "text": [
      "100%|██████████| 1250/1250 [00:02<00:00, 597.26it/s]\n",
      "  0%|          | 1/293 [00:00<00:35,  8.33it/s]"
     ]
    },
    {
     "name": "stdout",
     "output_type": "stream",
     "text": [
      "accuray: 0.2652\n"
     ]
    },
    {
     "name": "stderr",
     "output_type": "stream",
     "text": [
      "100%|██████████| 293/293 [00:31<00:00,  9.34it/s]\n",
      "  8%|▊         | 102/1250 [00:00<00:02, 508.31it/s]"
     ]
    },
    {
     "name": "stdout",
     "output_type": "stream",
     "text": [
      "epoch_loss/batch_ct=0.05955310443800593\n",
      "tensor(0.1170, device='cuda:0', grad_fn=<SmoothL1LossBackward0>)\n"
     ]
    },
    {
     "name": "stderr",
     "output_type": "stream",
     "text": [
      "100%|██████████| 1250/1250 [00:02<00:00, 591.32it/s]\n",
      "  0%|          | 1/293 [00:00<00:38,  7.57it/s]"
     ]
    },
    {
     "name": "stdout",
     "output_type": "stream",
     "text": [
      "accuray: 0.2693\n"
     ]
    },
    {
     "name": "stderr",
     "output_type": "stream",
     "text": [
      "100%|██████████| 293/293 [00:30<00:00,  9.48it/s] \n",
      "  4%|▍         | 55/1250 [00:00<00:02, 533.49it/s]"
     ]
    },
    {
     "name": "stdout",
     "output_type": "stream",
     "text": [
      "epoch_loss/batch_ct=0.059533359039397465\n",
      "tensor(0.1176, device='cuda:0', grad_fn=<SmoothL1LossBackward0>)\n"
     ]
    },
    {
     "name": "stderr",
     "output_type": "stream",
     "text": [
      "100%|██████████| 1250/1250 [00:02<00:00, 572.07it/s]\n",
      "  0%|          | 1/293 [00:00<00:34,  8.40it/s]"
     ]
    },
    {
     "name": "stdout",
     "output_type": "stream",
     "text": [
      "accuray: 0.2693\n"
     ]
    },
    {
     "name": "stderr",
     "output_type": "stream",
     "text": [
      "100%|██████████| 293/293 [00:32<00:00,  8.98it/s] \n",
      "  6%|▌         | 69/1250 [00:00<00:01, 689.38it/s]"
     ]
    },
    {
     "name": "stdout",
     "output_type": "stream",
     "text": [
      "epoch_loss/batch_ct=0.05952524583018015\n",
      "tensor(0.1167, device='cuda:0', grad_fn=<SmoothL1LossBackward0>)\n"
     ]
    },
    {
     "name": "stderr",
     "output_type": "stream",
     "text": [
      "100%|██████████| 1250/1250 [00:01<00:00, 672.96it/s]\n",
      "  0%|          | 1/293 [00:00<00:33,  8.69it/s]"
     ]
    },
    {
     "name": "stdout",
     "output_type": "stream",
     "text": [
      "accuray: 0.2657\n"
     ]
    },
    {
     "name": "stderr",
     "output_type": "stream",
     "text": [
      "100%|██████████| 293/293 [00:31<00:00,  9.42it/s] \n",
      " 11%|█         | 136/1250 [00:00<00:01, 677.16it/s]"
     ]
    },
    {
     "name": "stdout",
     "output_type": "stream",
     "text": [
      "epoch_loss/batch_ct=0.05945343472477463\n",
      "tensor(0.1165, device='cuda:0', grad_fn=<SmoothL1LossBackward0>)\n"
     ]
    },
    {
     "name": "stderr",
     "output_type": "stream",
     "text": [
      "100%|██████████| 1250/1250 [00:01<00:00, 668.56it/s]\n",
      "  0%|          | 1/293 [00:00<00:39,  7.46it/s]"
     ]
    },
    {
     "name": "stdout",
     "output_type": "stream",
     "text": [
      "accuray: 0.2653\n"
     ]
    },
    {
     "name": "stderr",
     "output_type": "stream",
     "text": [
      "100%|██████████| 293/293 [00:31<00:00,  9.26it/s] \n",
      "  5%|▍         | 58/1250 [00:00<00:02, 573.74it/s]"
     ]
    },
    {
     "name": "stdout",
     "output_type": "stream",
     "text": [
      "epoch_loss/batch_ct=0.059577357866579576\n",
      "tensor(0.1156, device='cuda:0', grad_fn=<SmoothL1LossBackward0>)\n"
     ]
    },
    {
     "name": "stderr",
     "output_type": "stream",
     "text": [
      "100%|██████████| 1250/1250 [00:02<00:00, 598.92it/s]\n",
      "  0%|          | 1/293 [00:00<00:34,  8.40it/s]"
     ]
    },
    {
     "name": "stdout",
     "output_type": "stream",
     "text": [
      "accuray: 0.2662\n"
     ]
    },
    {
     "name": "stderr",
     "output_type": "stream",
     "text": [
      "100%|██████████| 293/293 [00:34<00:00,  8.54it/s] \n",
      "  7%|▋         | 90/1250 [00:00<00:02, 442.09it/s]"
     ]
    },
    {
     "name": "stdout",
     "output_type": "stream",
     "text": [
      "epoch_loss/batch_ct=0.059468836597506965\n",
      "tensor(0.1168, device='cuda:0', grad_fn=<SmoothL1LossBackward0>)\n"
     ]
    },
    {
     "name": "stderr",
     "output_type": "stream",
     "text": [
      "100%|██████████| 1250/1250 [00:02<00:00, 548.66it/s]\n",
      "  0%|          | 1/293 [00:00<00:33,  8.79it/s]"
     ]
    },
    {
     "name": "stdout",
     "output_type": "stream",
     "text": [
      "accuray: 0.2673\n"
     ]
    },
    {
     "name": "stderr",
     "output_type": "stream",
     "text": [
      "100%|██████████| 293/293 [00:31<00:00,  9.43it/s] \n",
      " 10%|█         | 128/1250 [00:00<00:01, 639.42it/s]"
     ]
    },
    {
     "name": "stdout",
     "output_type": "stream",
     "text": [
      "epoch_loss/batch_ct=0.05946624491895948\n",
      "tensor(0.1185, device='cuda:0', grad_fn=<SmoothL1LossBackward0>)\n"
     ]
    },
    {
     "name": "stderr",
     "output_type": "stream",
     "text": [
      "100%|██████████| 1250/1250 [00:01<00:00, 656.61it/s]\n",
      "  0%|          | 1/293 [00:00<00:34,  8.40it/s]"
     ]
    },
    {
     "name": "stdout",
     "output_type": "stream",
     "text": [
      "accuray: 0.2677\n"
     ]
    },
    {
     "name": "stderr",
     "output_type": "stream",
     "text": [
      "100%|██████████| 293/293 [00:31<00:00,  9.26it/s] \n",
      "  4%|▍         | 56/1250 [00:00<00:02, 559.49it/s]"
     ]
    },
    {
     "name": "stdout",
     "output_type": "stream",
     "text": [
      "epoch_loss/batch_ct=0.059442456974278364\n",
      "tensor(0.1169, device='cuda:0', grad_fn=<SmoothL1LossBackward0>)\n"
     ]
    },
    {
     "name": "stderr",
     "output_type": "stream",
     "text": [
      "100%|██████████| 1250/1250 [00:02<00:00, 575.55it/s]\n",
      "  0%|          | 1/293 [00:00<00:33,  8.76it/s]"
     ]
    },
    {
     "name": "stdout",
     "output_type": "stream",
     "text": [
      "accuray: 0.2649\n"
     ]
    },
    {
     "name": "stderr",
     "output_type": "stream",
     "text": [
      "100%|██████████| 293/293 [00:31<00:00,  9.43it/s] \n",
      "  4%|▍         | 55/1250 [00:00<00:02, 544.06it/s]"
     ]
    },
    {
     "name": "stdout",
     "output_type": "stream",
     "text": [
      "epoch_loss/batch_ct=0.0594978520114507\n",
      "tensor(0.1165, device='cuda:0', grad_fn=<SmoothL1LossBackward0>)\n"
     ]
    },
    {
     "name": "stderr",
     "output_type": "stream",
     "text": [
      "100%|██████████| 1250/1250 [00:01<00:00, 626.31it/s]\n",
      "  0%|          | 1/293 [00:00<00:35,  8.33it/s]"
     ]
    },
    {
     "name": "stdout",
     "output_type": "stream",
     "text": [
      "accuray: 0.2668\n"
     ]
    },
    {
     "name": "stderr",
     "output_type": "stream",
     "text": [
      "100%|██████████| 293/293 [00:30<00:00,  9.48it/s] \n",
      "  4%|▍         | 55/1250 [00:00<00:02, 549.50it/s]"
     ]
    },
    {
     "name": "stdout",
     "output_type": "stream",
     "text": [
      "epoch_loss/batch_ct=0.05963146405678893\n",
      "tensor(0.1162, device='cuda:0', grad_fn=<SmoothL1LossBackward0>)\n"
     ]
    },
    {
     "name": "stderr",
     "output_type": "stream",
     "text": [
      "100%|██████████| 1250/1250 [00:02<00:00, 608.90it/s]\n",
      "  0%|          | 1/293 [00:00<00:34,  8.47it/s]"
     ]
    },
    {
     "name": "stdout",
     "output_type": "stream",
     "text": [
      "accuray: 0.2695\n"
     ]
    },
    {
     "name": "stderr",
     "output_type": "stream",
     "text": [
      "100%|██████████| 293/293 [00:30<00:00,  9.48it/s] \n",
      "  9%|▉         | 112/1250 [00:00<00:02, 557.20it/s]"
     ]
    },
    {
     "name": "stdout",
     "output_type": "stream",
     "text": [
      "epoch_loss/batch_ct=0.05950428023638706\n",
      "tensor(0.1178, device='cuda:0', grad_fn=<SmoothL1LossBackward0>)\n"
     ]
    },
    {
     "name": "stderr",
     "output_type": "stream",
     "text": [
      "100%|██████████| 1250/1250 [00:02<00:00, 603.19it/s]\n",
      "  0%|          | 1/293 [00:00<00:35,  8.19it/s]"
     ]
    },
    {
     "name": "stdout",
     "output_type": "stream",
     "text": [
      "accuray: 0.2695\n"
     ]
    },
    {
     "name": "stderr",
     "output_type": "stream",
     "text": [
      "100%|██████████| 293/293 [00:30<00:00,  9.53it/s] \n",
      "  8%|▊         | 106/1250 [00:00<00:02, 534.72it/s]"
     ]
    },
    {
     "name": "stdout",
     "output_type": "stream",
     "text": [
      "epoch_loss/batch_ct=0.05946195260104206\n",
      "tensor(0.1151, device='cuda:0', grad_fn=<SmoothL1LossBackward0>)\n"
     ]
    },
    {
     "name": "stderr",
     "output_type": "stream",
     "text": [
      "100%|██████████| 1250/1250 [00:02<00:00, 605.35it/s]\n",
      "  0%|          | 1/293 [00:00<00:34,  8.40it/s]"
     ]
    },
    {
     "name": "stdout",
     "output_type": "stream",
     "text": [
      "accuray: 0.2682\n"
     ]
    },
    {
     "name": "stderr",
     "output_type": "stream",
     "text": [
      "100%|██████████| 293/293 [00:32<00:00,  8.91it/s] \n",
      "  4%|▍         | 53/1250 [00:00<00:02, 529.52it/s]"
     ]
    },
    {
     "name": "stdout",
     "output_type": "stream",
     "text": [
      "epoch_loss/batch_ct=0.05951204975800855\n",
      "tensor(0.1179, device='cuda:0', grad_fn=<SmoothL1LossBackward0>)\n"
     ]
    },
    {
     "name": "stderr",
     "output_type": "stream",
     "text": [
      "100%|██████████| 1250/1250 [00:02<00:00, 608.02it/s]\n",
      "  0%|          | 1/293 [00:00<00:35,  8.26it/s]"
     ]
    },
    {
     "name": "stdout",
     "output_type": "stream",
     "text": [
      "accuray: 0.2652\n"
     ]
    },
    {
     "name": "stderr",
     "output_type": "stream",
     "text": [
      "100%|██████████| 293/293 [00:30<00:00,  9.47it/s] \n",
      "  9%|▉         | 115/1250 [00:00<00:01, 570.42it/s]"
     ]
    },
    {
     "name": "stdout",
     "output_type": "stream",
     "text": [
      "epoch_loss/batch_ct=0.05948617999693231\n",
      "tensor(0.1171, device='cuda:0', grad_fn=<SmoothL1LossBackward0>)\n"
     ]
    },
    {
     "name": "stderr",
     "output_type": "stream",
     "text": [
      "100%|██████████| 1250/1250 [00:02<00:00, 602.94it/s]\n",
      "  0%|          | 1/293 [00:00<00:34,  8.47it/s]"
     ]
    },
    {
     "name": "stdout",
     "output_type": "stream",
     "text": [
      "accuray: 0.2677\n"
     ]
    },
    {
     "name": "stderr",
     "output_type": "stream",
     "text": [
      "100%|██████████| 293/293 [00:30<00:00,  9.46it/s] \n",
      "  5%|▍         | 58/1250 [00:00<00:02, 579.47it/s]"
     ]
    },
    {
     "name": "stdout",
     "output_type": "stream",
     "text": [
      "epoch_loss/batch_ct=0.05954260674733964\n",
      "tensor(0.1172, device='cuda:0', grad_fn=<SmoothL1LossBackward0>)\n"
     ]
    },
    {
     "name": "stderr",
     "output_type": "stream",
     "text": [
      "100%|██████████| 1250/1250 [00:02<00:00, 609.20it/s]\n",
      "  0%|          | 1/293 [00:00<00:35,  8.33it/s]"
     ]
    },
    {
     "name": "stdout",
     "output_type": "stream",
     "text": [
      "accuray: 0.2649\n"
     ]
    },
    {
     "name": "stderr",
     "output_type": "stream",
     "text": [
      "100%|██████████| 293/293 [00:30<00:00,  9.46it/s] \n",
      "  4%|▍         | 56/1250 [00:00<00:02, 553.95it/s]"
     ]
    },
    {
     "name": "stdout",
     "output_type": "stream",
     "text": [
      "epoch_loss/batch_ct=0.059523907120502186\n",
      "tensor(0.1164, device='cuda:0', grad_fn=<SmoothL1LossBackward0>)\n"
     ]
    },
    {
     "name": "stderr",
     "output_type": "stream",
     "text": [
      "100%|██████████| 1250/1250 [00:02<00:00, 608.61it/s]\n",
      "  0%|          | 1/293 [00:00<00:33,  8.76it/s]"
     ]
    },
    {
     "name": "stdout",
     "output_type": "stream",
     "text": [
      "accuray: 0.2671\n"
     ]
    },
    {
     "name": "stderr",
     "output_type": "stream",
     "text": [
      "100%|██████████| 293/293 [00:32<00:00,  8.98it/s]\n",
      "  9%|▊         | 107/1250 [00:00<00:02, 537.52it/s]"
     ]
    },
    {
     "name": "stdout",
     "output_type": "stream",
     "text": [
      "epoch_loss/batch_ct=0.05941750159457562\n",
      "tensor(0.1173, device='cuda:0', grad_fn=<SmoothL1LossBackward0>)\n"
     ]
    },
    {
     "name": "stderr",
     "output_type": "stream",
     "text": [
      "100%|██████████| 1250/1250 [00:01<00:00, 631.38it/s]\n",
      "  0%|          | 1/293 [00:00<00:34,  8.54it/s]"
     ]
    },
    {
     "name": "stdout",
     "output_type": "stream",
     "text": [
      "accuray: 0.2687\n"
     ]
    },
    {
     "name": "stderr",
     "output_type": "stream",
     "text": [
      "100%|██████████| 293/293 [00:30<00:00,  9.46it/s] \n",
      "  4%|▍         | 50/1250 [00:00<00:02, 499.55it/s]"
     ]
    },
    {
     "name": "stdout",
     "output_type": "stream",
     "text": [
      "epoch_loss/batch_ct=0.05948399248281642\n",
      "tensor(0.1185, device='cuda:0', grad_fn=<SmoothL1LossBackward0>)\n"
     ]
    },
    {
     "name": "stderr",
     "output_type": "stream",
     "text": [
      "100%|██████████| 1250/1250 [00:02<00:00, 592.36it/s]\n",
      "  0%|          | 1/293 [00:00<00:35,  8.19it/s]"
     ]
    },
    {
     "name": "stdout",
     "output_type": "stream",
     "text": [
      "accuray: 0.2678\n"
     ]
    },
    {
     "name": "stderr",
     "output_type": "stream",
     "text": [
      "100%|██████████| 293/293 [00:31<00:00,  9.40it/s] \n",
      "  3%|▎         | 43/1250 [00:00<00:02, 429.61it/s]"
     ]
    },
    {
     "name": "stdout",
     "output_type": "stream",
     "text": [
      "epoch_loss/batch_ct=0.05948136667055743\n",
      "tensor(0.1146, device='cuda:0', grad_fn=<SmoothL1LossBackward0>)\n"
     ]
    },
    {
     "name": "stderr",
     "output_type": "stream",
     "text": [
      "100%|██████████| 1250/1250 [00:02<00:00, 596.47it/s]\n",
      "  0%|          | 1/293 [00:00<00:36,  8.06it/s]"
     ]
    },
    {
     "name": "stdout",
     "output_type": "stream",
     "text": [
      "accuray: 0.2695\n"
     ]
    },
    {
     "name": "stderr",
     "output_type": "stream",
     "text": [
      "100%|██████████| 293/293 [00:32<00:00,  8.88it/s] \n",
      "  3%|▎         | 40/1250 [00:00<00:03, 399.64it/s]"
     ]
    },
    {
     "name": "stdout",
     "output_type": "stream",
     "text": [
      "epoch_loss/batch_ct=0.059521690188419255\n",
      "tensor(0.1183, device='cuda:0', grad_fn=<SmoothL1LossBackward0>)\n"
     ]
    },
    {
     "name": "stderr",
     "output_type": "stream",
     "text": [
      "100%|██████████| 1250/1250 [00:02<00:00, 615.20it/s]\n",
      "  0%|          | 1/293 [00:00<00:36,  7.93it/s]"
     ]
    },
    {
     "name": "stdout",
     "output_type": "stream",
     "text": [
      "accuray: 0.2623\n"
     ]
    },
    {
     "name": "stderr",
     "output_type": "stream",
     "text": [
      "100%|██████████| 293/293 [00:31<00:00,  9.34it/s] \n",
      "  3%|▎         | 39/1250 [00:00<00:03, 389.65it/s]"
     ]
    },
    {
     "name": "stdout",
     "output_type": "stream",
     "text": [
      "epoch_loss/batch_ct=0.05950599593953008\n",
      "tensor(0.1158, device='cuda:0', grad_fn=<SmoothL1LossBackward0>)\n"
     ]
    },
    {
     "name": "stderr",
     "output_type": "stream",
     "text": [
      "100%|██████████| 1250/1250 [00:02<00:00, 579.98it/s]\n",
      "  0%|          | 1/293 [00:00<00:35,  8.12it/s]"
     ]
    },
    {
     "name": "stdout",
     "output_type": "stream",
     "text": [
      "accuray: 0.2657\n"
     ]
    },
    {
     "name": "stderr",
     "output_type": "stream",
     "text": [
      "100%|██████████| 293/293 [00:31<00:00,  9.24it/s] \n",
      "  4%|▎         | 45/1250 [00:00<00:02, 445.14it/s]"
     ]
    },
    {
     "name": "stdout",
     "output_type": "stream",
     "text": [
      "epoch_loss/batch_ct=0.05941458076002106\n",
      "tensor(0.1162, device='cuda:0', grad_fn=<SmoothL1LossBackward0>)\n"
     ]
    },
    {
     "name": "stderr",
     "output_type": "stream",
     "text": [
      "100%|██████████| 1250/1250 [00:02<00:00, 607.42it/s]\n",
      "  0%|          | 1/293 [00:00<00:33,  8.61it/s]"
     ]
    },
    {
     "name": "stdout",
     "output_type": "stream",
     "text": [
      "accuray: 0.2679\n"
     ]
    },
    {
     "name": "stderr",
     "output_type": "stream",
     "text": [
      "100%|██████████| 293/293 [00:30<00:00,  9.65it/s] \n",
      "  9%|▉         | 115/1250 [00:00<00:01, 575.36it/s]"
     ]
    },
    {
     "name": "stdout",
     "output_type": "stream",
     "text": [
      "epoch_loss/batch_ct=0.05951002071655932\n",
      "tensor(0.1149, device='cuda:0', grad_fn=<SmoothL1LossBackward0>)\n"
     ]
    },
    {
     "name": "stderr",
     "output_type": "stream",
     "text": [
      "100%|██████████| 1250/1250 [00:02<00:00, 586.05it/s]\n",
      "  0%|          | 1/293 [00:00<00:43,  6.66it/s]"
     ]
    },
    {
     "name": "stdout",
     "output_type": "stream",
     "text": [
      "accuray: 0.2653\n"
     ]
    },
    {
     "name": "stderr",
     "output_type": "stream",
     "text": [
      "100%|██████████| 293/293 [00:30<00:00,  9.58it/s] \n",
      "  5%|▌         | 68/1250 [00:00<00:01, 679.38it/s]"
     ]
    },
    {
     "name": "stdout",
     "output_type": "stream",
     "text": [
      "epoch_loss/batch_ct=0.05950094404674712\n",
      "tensor(0.1154, device='cuda:0', grad_fn=<SmoothL1LossBackward0>)\n"
     ]
    },
    {
     "name": "stderr",
     "output_type": "stream",
     "text": [
      "100%|██████████| 1250/1250 [00:01<00:00, 691.51it/s]\n",
      "  0%|          | 1/293 [00:00<00:34,  8.47it/s]"
     ]
    },
    {
     "name": "stdout",
     "output_type": "stream",
     "text": [
      "accuray: 0.2681\n"
     ]
    },
    {
     "name": "stderr",
     "output_type": "stream",
     "text": [
      "100%|██████████| 293/293 [00:31<00:00,  9.41it/s] \n",
      " 10%|█         | 126/1250 [00:00<00:01, 622.25it/s]"
     ]
    },
    {
     "name": "stdout",
     "output_type": "stream",
     "text": [
      "epoch_loss/batch_ct=0.059481688420332614\n",
      "tensor(0.1168, device='cuda:0', grad_fn=<SmoothL1LossBackward0>)\n"
     ]
    },
    {
     "name": "stderr",
     "output_type": "stream",
     "text": [
      "100%|██████████| 1250/1250 [00:01<00:00, 633.00it/s]\n",
      "  0%|          | 1/293 [00:00<00:35,  8.26it/s]"
     ]
    },
    {
     "name": "stdout",
     "output_type": "stream",
     "text": [
      "accuray: 0.27\n"
     ]
    },
    {
     "name": "stderr",
     "output_type": "stream",
     "text": [
      "100%|██████████| 293/293 [00:30<00:00,  9.47it/s] \n",
      "  7%|▋         | 91/1250 [00:00<00:02, 457.11it/s]"
     ]
    },
    {
     "name": "stdout",
     "output_type": "stream",
     "text": [
      "epoch_loss/batch_ct=0.059496861468586654\n",
      "tensor(0.1173, device='cuda:0', grad_fn=<SmoothL1LossBackward0>)\n"
     ]
    },
    {
     "name": "stderr",
     "output_type": "stream",
     "text": [
      "100%|██████████| 1250/1250 [00:02<00:00, 569.22it/s]\n",
      "  0%|          | 0/293 [00:00<?, ?it/s]"
     ]
    },
    {
     "name": "stdout",
     "output_type": "stream",
     "text": [
      "accuray: 0.2632\n"
     ]
    },
    {
     "name": "stderr",
     "output_type": "stream",
     "text": [
      "100%|██████████| 293/293 [00:33<00:00,  8.75it/s]\n",
      "  9%|▊         | 108/1250 [00:00<00:02, 530.16it/s]"
     ]
    },
    {
     "name": "stdout",
     "output_type": "stream",
     "text": [
      "epoch_loss/batch_ct=0.05937712456262301\n",
      "tensor(0.1154, device='cuda:0', grad_fn=<SmoothL1LossBackward0>)\n"
     ]
    },
    {
     "name": "stderr",
     "output_type": "stream",
     "text": [
      "100%|██████████| 1250/1250 [00:02<00:00, 601.57it/s]\n",
      "  0%|          | 1/293 [00:00<00:40,  7.14it/s]"
     ]
    },
    {
     "name": "stdout",
     "output_type": "stream",
     "text": [
      "accuray: 0.269\n"
     ]
    },
    {
     "name": "stderr",
     "output_type": "stream",
     "text": [
      "100%|██████████| 293/293 [00:30<00:00,  9.72it/s] \n",
      "  4%|▍         | 53/1250 [00:00<00:02, 529.52it/s]"
     ]
    },
    {
     "name": "stdout",
     "output_type": "stream",
     "text": [
      "epoch_loss/batch_ct=0.059425460854693066\n",
      "tensor(0.1164, device='cuda:0', grad_fn=<SmoothL1LossBackward0>)\n"
     ]
    },
    {
     "name": "stderr",
     "output_type": "stream",
     "text": [
      "100%|██████████| 1250/1250 [00:02<00:00, 601.57it/s]\n",
      "  0%|          | 1/293 [00:00<00:35,  8.33it/s]"
     ]
    },
    {
     "name": "stdout",
     "output_type": "stream",
     "text": [
      "accuray: 0.2649\n"
     ]
    },
    {
     "name": "stderr",
     "output_type": "stream",
     "text": [
      "100%|██████████| 293/293 [00:31<00:00,  9.44it/s] \n",
      "  8%|▊         | 102/1250 [00:00<00:02, 513.06it/s]"
     ]
    },
    {
     "name": "stdout",
     "output_type": "stream",
     "text": [
      "epoch_loss/batch_ct=0.059454774617084434\n",
      "tensor(0.1164, device='cuda:0', grad_fn=<SmoothL1LossBackward0>)\n"
     ]
    },
    {
     "name": "stderr",
     "output_type": "stream",
     "text": [
      "100%|██████████| 1250/1250 [00:02<00:00, 603.28it/s]\n",
      "  0%|          | 1/293 [00:00<00:35,  8.26it/s]"
     ]
    },
    {
     "name": "stdout",
     "output_type": "stream",
     "text": [
      "accuray: 0.2688\n"
     ]
    },
    {
     "name": "stderr",
     "output_type": "stream",
     "text": [
      "100%|██████████| 293/293 [00:33<00:00,  8.79it/s] \n",
      "  4%|▍         | 47/1250 [00:00<00:02, 455.90it/s]"
     ]
    },
    {
     "name": "stdout",
     "output_type": "stream",
     "text": [
      "epoch_loss/batch_ct=0.05951294020587017\n",
      "tensor(0.1180, device='cuda:0', grad_fn=<SmoothL1LossBackward0>)\n"
     ]
    },
    {
     "name": "stderr",
     "output_type": "stream",
     "text": [
      "100%|██████████| 1250/1250 [00:02<00:00, 612.79it/s]\n",
      "  0%|          | 1/293 [00:00<00:33,  8.61it/s]"
     ]
    },
    {
     "name": "stdout",
     "output_type": "stream",
     "text": [
      "accuray: 0.2678\n"
     ]
    },
    {
     "name": "stderr",
     "output_type": "stream",
     "text": [
      "100%|██████████| 293/293 [00:30<00:00,  9.59it/s] \n",
      "  7%|▋         | 86/1250 [00:00<00:02, 431.37it/s]"
     ]
    },
    {
     "name": "stdout",
     "output_type": "stream",
     "text": [
      "epoch_loss/batch_ct=0.05949675220818747\n",
      "tensor(0.1167, device='cuda:0', grad_fn=<SmoothL1LossBackward0>)\n"
     ]
    },
    {
     "name": "stderr",
     "output_type": "stream",
     "text": [
      "100%|██████████| 1250/1250 [00:02<00:00, 594.70it/s]\n",
      "  0%|          | 1/293 [00:00<00:34,  8.54it/s]"
     ]
    },
    {
     "name": "stdout",
     "output_type": "stream",
     "text": [
      "accuray: 0.2674\n"
     ]
    },
    {
     "name": "stderr",
     "output_type": "stream",
     "text": [
      "100%|██████████| 293/293 [00:31<00:00,  9.33it/s] \n",
      "  8%|▊         | 101/1250 [00:00<00:02, 505.97it/s]"
     ]
    },
    {
     "name": "stdout",
     "output_type": "stream",
     "text": [
      "epoch_loss/batch_ct=0.0594091158921993\n",
      "tensor(0.1167, device='cuda:0', grad_fn=<SmoothL1LossBackward0>)\n"
     ]
    },
    {
     "name": "stderr",
     "output_type": "stream",
     "text": [
      "100%|██████████| 1250/1250 [00:02<00:00, 608.31it/s]\n",
      "  0%|          | 1/293 [00:00<00:35,  8.33it/s]"
     ]
    },
    {
     "name": "stdout",
     "output_type": "stream",
     "text": [
      "accuray: 0.2634\n"
     ]
    },
    {
     "name": "stderr",
     "output_type": "stream",
     "text": [
      "100%|██████████| 293/293 [00:31<00:00,  9.42it/s] \n",
      "  8%|▊         | 104/1250 [00:00<00:02, 520.00it/s]"
     ]
    },
    {
     "name": "stdout",
     "output_type": "stream",
     "text": [
      "epoch_loss/batch_ct=0.059494154838224254\n",
      "tensor(0.1165, device='cuda:0', grad_fn=<SmoothL1LossBackward0>)\n"
     ]
    },
    {
     "name": "stderr",
     "output_type": "stream",
     "text": [
      "100%|██████████| 1250/1250 [00:02<00:00, 617.94it/s]\n",
      "  0%|          | 1/293 [00:00<00:35,  8.12it/s]"
     ]
    },
    {
     "name": "stdout",
     "output_type": "stream",
     "text": [
      "accuray: 0.2669\n"
     ]
    },
    {
     "name": "stderr",
     "output_type": "stream",
     "text": [
      "100%|██████████| 293/293 [00:33<00:00,  8.71it/s] \n",
      "  6%|▌         | 75/1250 [00:00<00:03, 380.94it/s]"
     ]
    },
    {
     "name": "stdout",
     "output_type": "stream",
     "text": [
      "epoch_loss/batch_ct=0.05948409923012295\n",
      "tensor(0.1177, device='cuda:0', grad_fn=<SmoothL1LossBackward0>)\n"
     ]
    },
    {
     "name": "stderr",
     "output_type": "stream",
     "text": [
      "100%|██████████| 1250/1250 [00:02<00:00, 580.12it/s]\n",
      "  0%|          | 1/293 [00:00<00:42,  6.80it/s]"
     ]
    },
    {
     "name": "stdout",
     "output_type": "stream",
     "text": [
      "accuray: 0.2683\n"
     ]
    },
    {
     "name": "stderr",
     "output_type": "stream",
     "text": [
      "100%|██████████| 293/293 [00:32<00:00,  9.14it/s] \n",
      "  9%|▉         | 116/1250 [00:00<00:01, 570.41it/s]"
     ]
    },
    {
     "name": "stdout",
     "output_type": "stream",
     "text": [
      "epoch_loss/batch_ct=0.05945342312019969\n",
      "tensor(0.1143, device='cuda:0', grad_fn=<SmoothL1LossBackward0>)\n"
     ]
    },
    {
     "name": "stderr",
     "output_type": "stream",
     "text": [
      "100%|██████████| 1250/1250 [00:02<00:00, 571.82it/s]\n",
      "  0%|          | 1/293 [00:00<00:34,  8.47it/s]"
     ]
    },
    {
     "name": "stdout",
     "output_type": "stream",
     "text": [
      "accuray: 0.2679\n"
     ]
    },
    {
     "name": "stderr",
     "output_type": "stream",
     "text": [
      "100%|██████████| 293/293 [00:31<00:00,  9.27it/s] \n",
      "  4%|▍         | 49/1250 [00:00<00:02, 489.55it/s]"
     ]
    },
    {
     "name": "stdout",
     "output_type": "stream",
     "text": [
      "epoch_loss/batch_ct=0.059406713878233285\n",
      "tensor(0.1197, device='cuda:0', grad_fn=<SmoothL1LossBackward0>)\n"
     ]
    },
    {
     "name": "stderr",
     "output_type": "stream",
     "text": [
      "100%|██████████| 1250/1250 [00:02<00:00, 615.81it/s]\n",
      "  0%|          | 1/293 [00:00<00:34,  8.47it/s]"
     ]
    },
    {
     "name": "stdout",
     "output_type": "stream",
     "text": [
      "accuray: 0.2619\n"
     ]
    },
    {
     "name": "stderr",
     "output_type": "stream",
     "text": [
      "100%|██████████| 293/293 [00:32<00:00,  8.88it/s] \n",
      "  8%|▊         | 98/1250 [00:00<00:02, 488.45it/s]"
     ]
    },
    {
     "name": "stdout",
     "output_type": "stream",
     "text": [
      "epoch_loss/batch_ct=0.059489842223387865\n",
      "tensor(0.1161, device='cuda:0', grad_fn=<SmoothL1LossBackward0>)\n"
     ]
    },
    {
     "name": "stderr",
     "output_type": "stream",
     "text": [
      "100%|██████████| 1250/1250 [00:02<00:00, 616.42it/s]\n",
      "  0%|          | 1/293 [00:00<00:35,  8.33it/s]"
     ]
    },
    {
     "name": "stdout",
     "output_type": "stream",
     "text": [
      "accuray: 0.2659\n"
     ]
    },
    {
     "name": "stderr",
     "output_type": "stream",
     "text": [
      "100%|██████████| 293/293 [00:30<00:00,  9.49it/s] \n",
      "  4%|▍         | 49/1250 [00:00<00:02, 484.71it/s]"
     ]
    },
    {
     "name": "stdout",
     "output_type": "stream",
     "text": [
      "epoch_loss/batch_ct=0.05947680596912664\n",
      "tensor(0.1158, device='cuda:0', grad_fn=<SmoothL1LossBackward0>)\n"
     ]
    },
    {
     "name": "stderr",
     "output_type": "stream",
     "text": [
      "100%|██████████| 1250/1250 [00:02<00:00, 615.51it/s]\n",
      "  0%|          | 1/293 [00:00<00:34,  8.47it/s]"
     ]
    },
    {
     "name": "stdout",
     "output_type": "stream",
     "text": [
      "accuray: 0.262\n"
     ]
    },
    {
     "name": "stderr",
     "output_type": "stream",
     "text": [
      "100%|██████████| 293/293 [00:31<00:00,  9.40it/s] \n",
      "  8%|▊         | 99/1250 [00:00<00:02, 490.53it/s]"
     ]
    },
    {
     "name": "stdout",
     "output_type": "stream",
     "text": [
      "epoch_loss/batch_ct=0.05947047013730284\n",
      "tensor(0.1175, device='cuda:0', grad_fn=<SmoothL1LossBackward0>)\n"
     ]
    },
    {
     "name": "stderr",
     "output_type": "stream",
     "text": [
      "100%|██████████| 1250/1250 [00:02<00:00, 605.36it/s]\n",
      "  0%|          | 1/293 [00:00<00:35,  8.12it/s]"
     ]
    },
    {
     "name": "stdout",
     "output_type": "stream",
     "text": [
      "accuray: 0.2662\n"
     ]
    },
    {
     "name": "stderr",
     "output_type": "stream",
     "text": [
      "100%|██████████| 293/293 [00:31<00:00,  9.31it/s] \n",
      "  3%|▎         | 43/1250 [00:00<00:02, 429.61it/s]"
     ]
    },
    {
     "name": "stdout",
     "output_type": "stream",
     "text": [
      "epoch_loss/batch_ct=0.0595002675074197\n",
      "tensor(0.1154, device='cuda:0', grad_fn=<SmoothL1LossBackward0>)\n"
     ]
    },
    {
     "name": "stderr",
     "output_type": "stream",
     "text": [
      "100%|██████████| 1250/1250 [00:02<00:00, 598.98it/s]\n",
      "  0%|          | 1/293 [00:00<00:35,  8.33it/s]"
     ]
    },
    {
     "name": "stdout",
     "output_type": "stream",
     "text": [
      "accuray: 0.2667\n"
     ]
    },
    {
     "name": "stderr",
     "output_type": "stream",
     "text": [
      "100%|██████████| 293/293 [00:33<00:00,  8.73it/s] \n",
      "  9%|▉         | 118/1250 [00:00<00:01, 591.23it/s]"
     ]
    },
    {
     "name": "stdout",
     "output_type": "stream",
     "text": [
      "epoch_loss/batch_ct=0.059419161758370816\n",
      "tensor(0.1155, device='cuda:0', grad_fn=<SmoothL1LossBackward0>)\n"
     ]
    },
    {
     "name": "stderr",
     "output_type": "stream",
     "text": [
      "100%|██████████| 1250/1250 [00:02<00:00, 615.51it/s]\n",
      "  0%|          | 1/293 [00:00<00:35,  8.26it/s]"
     ]
    },
    {
     "name": "stdout",
     "output_type": "stream",
     "text": [
      "accuray: 0.27\n"
     ]
    },
    {
     "name": "stderr",
     "output_type": "stream",
     "text": [
      "100%|██████████| 293/293 [00:31<00:00,  9.24it/s] \n",
      " 10%|█         | 126/1250 [00:00<00:01, 626.84it/s]"
     ]
    },
    {
     "name": "stdout",
     "output_type": "stream",
     "text": [
      "epoch_loss/batch_ct=0.05948964099858015\n",
      "tensor(0.1162, device='cuda:0', grad_fn=<SmoothL1LossBackward0>)\n"
     ]
    },
    {
     "name": "stderr",
     "output_type": "stream",
     "text": [
      "100%|██████████| 1250/1250 [00:01<00:00, 639.46it/s]\n",
      "  0%|          | 1/293 [00:00<00:38,  7.57it/s]"
     ]
    },
    {
     "name": "stdout",
     "output_type": "stream",
     "text": [
      "accuray: 0.2662\n"
     ]
    },
    {
     "name": "stderr",
     "output_type": "stream",
     "text": [
      "100%|██████████| 293/293 [00:32<00:00,  8.90it/s] \n",
      "  8%|▊         | 94/1250 [00:00<00:02, 466.82it/s]"
     ]
    },
    {
     "name": "stdout",
     "output_type": "stream",
     "text": [
      "epoch_loss/batch_ct=0.059433369025114986\n",
      "tensor(0.1161, device='cuda:0', grad_fn=<SmoothL1LossBackward0>)\n"
     ]
    },
    {
     "name": "stderr",
     "output_type": "stream",
     "text": [
      "100%|██████████| 1250/1250 [00:02<00:00, 566.63it/s]\n",
      "  0%|          | 1/293 [00:00<00:38,  7.51it/s]"
     ]
    },
    {
     "name": "stdout",
     "output_type": "stream",
     "text": [
      "accuray: 0.2627\n"
     ]
    },
    {
     "name": "stderr",
     "output_type": "stream",
     "text": [
      "100%|██████████| 293/293 [00:33<00:00,  8.65it/s] \n",
      "  5%|▍         | 57/1250 [00:00<00:02, 569.48it/s]"
     ]
    },
    {
     "name": "stdout",
     "output_type": "stream",
     "text": [
      "epoch_loss/batch_ct=0.05955643391621018\n",
      "tensor(0.1167, device='cuda:0', grad_fn=<SmoothL1LossBackward0>)\n"
     ]
    },
    {
     "name": "stderr",
     "output_type": "stream",
     "text": [
      "100%|██████████| 1250/1250 [00:02<00:00, 603.32it/s]\n",
      "  0%|          | 1/293 [00:00<00:35,  8.12it/s]"
     ]
    },
    {
     "name": "stdout",
     "output_type": "stream",
     "text": [
      "accuray: 0.267\n"
     ]
    },
    {
     "name": "stderr",
     "output_type": "stream",
     "text": [
      "100%|██████████| 293/293 [00:31<00:00,  9.21it/s] \n",
      "  4%|▍         | 55/1250 [00:00<00:02, 549.50it/s]"
     ]
    },
    {
     "name": "stdout",
     "output_type": "stream",
     "text": [
      "epoch_loss/batch_ct=0.05945777108094522\n",
      "tensor(0.1171, device='cuda:0', grad_fn=<SmoothL1LossBackward0>)\n"
     ]
    },
    {
     "name": "stderr",
     "output_type": "stream",
     "text": [
      "100%|██████████| 1250/1250 [00:02<00:00, 593.47it/s]\n",
      "  0%|          | 1/293 [00:00<00:35,  8.12it/s]"
     ]
    },
    {
     "name": "stdout",
     "output_type": "stream",
     "text": [
      "accuray: 0.2664\n"
     ]
    },
    {
     "name": "stderr",
     "output_type": "stream",
     "text": [
      "100%|██████████| 293/293 [00:31<00:00,  9.18it/s] \n",
      " 10%|█         | 130/1250 [00:00<00:01, 645.61it/s]"
     ]
    },
    {
     "name": "stdout",
     "output_type": "stream",
     "text": [
      "epoch_loss/batch_ct=0.059461738470764386\n",
      "tensor(0.1156, device='cuda:0', grad_fn=<SmoothL1LossBackward0>)\n"
     ]
    },
    {
     "name": "stderr",
     "output_type": "stream",
     "text": [
      "100%|██████████| 1250/1250 [00:01<00:00, 652.83it/s]\n",
      "  0%|          | 1/293 [00:00<00:34,  8.40it/s]"
     ]
    },
    {
     "name": "stdout",
     "output_type": "stream",
     "text": [
      "accuray: 0.2685\n"
     ]
    },
    {
     "name": "stderr",
     "output_type": "stream",
     "text": [
      "100%|██████████| 293/293 [00:32<00:00,  8.93it/s]\n",
      " 10%|█         | 129/1250 [00:00<00:01, 642.65it/s]"
     ]
    },
    {
     "name": "stdout",
     "output_type": "stream",
     "text": [
      "epoch_loss/batch_ct=0.05948940231390889\n",
      "tensor(0.1165, device='cuda:0', grad_fn=<SmoothL1LossBackward0>)\n"
     ]
    },
    {
     "name": "stderr",
     "output_type": "stream",
     "text": [
      "100%|██████████| 1250/1250 [00:02<00:00, 613.64it/s]\n",
      "  0%|          | 1/293 [00:00<00:35,  8.26it/s]"
     ]
    },
    {
     "name": "stdout",
     "output_type": "stream",
     "text": [
      "accuray: 0.2712\n"
     ]
    },
    {
     "name": "stderr",
     "output_type": "stream",
     "text": [
      "100%|██████████| 293/293 [00:36<00:00,  8.13it/s] \n",
      "  3%|▎         | 43/1250 [00:00<00:02, 419.66it/s]"
     ]
    },
    {
     "name": "stdout",
     "output_type": "stream",
     "text": [
      "epoch_loss/batch_ct=0.0594713268505912\n",
      "tensor(0.1164, device='cuda:0', grad_fn=<SmoothL1LossBackward0>)\n"
     ]
    },
    {
     "name": "stderr",
     "output_type": "stream",
     "text": [
      "100%|██████████| 1250/1250 [00:02<00:00, 535.78it/s]\n",
      "  0%|          | 1/293 [00:00<00:41,  7.05it/s]"
     ]
    },
    {
     "name": "stdout",
     "output_type": "stream",
     "text": [
      "accuray: 0.2649\n"
     ]
    },
    {
     "name": "stderr",
     "output_type": "stream",
     "text": [
      "100%|██████████| 293/293 [00:34<00:00,  8.59it/s]\n",
      "  4%|▎         | 46/1250 [00:00<00:02, 454.50it/s]"
     ]
    },
    {
     "name": "stdout",
     "output_type": "stream",
     "text": [
      "epoch_loss/batch_ct=0.05945544715024649\n",
      "tensor(0.1190, device='cuda:0', grad_fn=<SmoothL1LossBackward0>)\n"
     ]
    },
    {
     "name": "stderr",
     "output_type": "stream",
     "text": [
      "100%|██████████| 1250/1250 [00:02<00:00, 562.31it/s]\n",
      "  0%|          | 1/293 [00:00<00:34,  8.40it/s]"
     ]
    },
    {
     "name": "stdout",
     "output_type": "stream",
     "text": [
      "accuray: 0.2698\n"
     ]
    },
    {
     "name": "stderr",
     "output_type": "stream",
     "text": [
      "100%|██████████| 293/293 [00:32<00:00,  9.15it/s] \n",
      "  5%|▍         | 60/1250 [00:00<00:02, 593.52it/s]"
     ]
    },
    {
     "name": "stdout",
     "output_type": "stream",
     "text": [
      "epoch_loss/batch_ct=0.059462450947316864\n",
      "tensor(0.1179, device='cuda:0', grad_fn=<SmoothL1LossBackward0>)\n"
     ]
    },
    {
     "name": "stderr",
     "output_type": "stream",
     "text": [
      "100%|██████████| 1250/1250 [00:02<00:00, 617.81it/s]\n",
      "  0%|          | 1/293 [00:00<00:35,  8.12it/s]"
     ]
    },
    {
     "name": "stdout",
     "output_type": "stream",
     "text": [
      "accuray: 0.2704\n"
     ]
    },
    {
     "name": "stderr",
     "output_type": "stream",
     "text": [
      "100%|██████████| 293/293 [00:33<00:00,  8.77it/s] \n",
      "  5%|▍         | 62/1250 [00:00<00:01, 614.79it/s]"
     ]
    },
    {
     "name": "stdout",
     "output_type": "stream",
     "text": [
      "epoch_loss/batch_ct=0.059333677048839274\n",
      "tensor(0.1165, device='cuda:0', grad_fn=<SmoothL1LossBackward0>)\n"
     ]
    },
    {
     "name": "stderr",
     "output_type": "stream",
     "text": [
      "100%|██████████| 1250/1250 [00:02<00:00, 610.33it/s]\n",
      "  0%|          | 1/293 [00:00<00:33,  8.61it/s]"
     ]
    },
    {
     "name": "stdout",
     "output_type": "stream",
     "text": [
      "accuray: 0.2687\n"
     ]
    },
    {
     "name": "stderr",
     "output_type": "stream",
     "text": [
      "100%|██████████| 293/293 [00:31<00:00,  9.30it/s] \n",
      "  5%|▍         | 62/1250 [00:00<00:01, 604.76it/s]"
     ]
    },
    {
     "name": "stdout",
     "output_type": "stream",
     "text": [
      "epoch_loss/batch_ct=0.059446243569254875\n",
      "tensor(0.1184, device='cuda:0', grad_fn=<SmoothL1LossBackward0>)\n"
     ]
    },
    {
     "name": "stderr",
     "output_type": "stream",
     "text": [
      "100%|██████████| 1250/1250 [00:01<00:00, 640.25it/s]\n",
      "  0%|          | 1/293 [00:00<00:35,  8.12it/s]"
     ]
    },
    {
     "name": "stdout",
     "output_type": "stream",
     "text": [
      "accuray: 0.2714\n"
     ]
    },
    {
     "name": "stderr",
     "output_type": "stream",
     "text": [
      "100%|██████████| 293/293 [00:32<00:00,  9.02it/s] \n",
      "  3%|▎         | 35/1250 [00:00<00:03, 338.71it/s]"
     ]
    },
    {
     "name": "stdout",
     "output_type": "stream",
     "text": [
      "epoch_loss/batch_ct=0.05946352501355466\n",
      "tensor(0.1167, device='cuda:0', grad_fn=<SmoothL1LossBackward0>)\n"
     ]
    },
    {
     "name": "stderr",
     "output_type": "stream",
     "text": [
      "100%|██████████| 1250/1250 [00:02<00:00, 558.00it/s]\n",
      "  0%|          | 1/293 [00:00<00:35,  8.33it/s]"
     ]
    },
    {
     "name": "stdout",
     "output_type": "stream",
     "text": [
      "accuray: 0.2621\n"
     ]
    },
    {
     "name": "stderr",
     "output_type": "stream",
     "text": [
      "100%|██████████| 293/293 [00:32<00:00,  9.11it/s] \n",
      "  4%|▍         | 55/1250 [00:00<00:02, 541.36it/s]"
     ]
    },
    {
     "name": "stdout",
     "output_type": "stream",
     "text": [
      "epoch_loss/batch_ct=0.05948326506075405\n",
      "tensor(0.1149, device='cuda:0', grad_fn=<SmoothL1LossBackward0>)\n"
     ]
    },
    {
     "name": "stderr",
     "output_type": "stream",
     "text": [
      "100%|██████████| 1250/1250 [00:02<00:00, 543.10it/s]\n",
      "  0%|          | 1/293 [00:00<00:39,  7.35it/s]"
     ]
    },
    {
     "name": "stdout",
     "output_type": "stream",
     "text": [
      "accuray: 0.2667\n"
     ]
    },
    {
     "name": "stderr",
     "output_type": "stream",
     "text": [
      "100%|██████████| 293/293 [00:31<00:00,  9.19it/s]\n",
      "  9%|▊         | 107/1250 [00:00<00:02, 542.53it/s]"
     ]
    },
    {
     "name": "stdout",
     "output_type": "stream",
     "text": [
      "epoch_loss/batch_ct=0.059535714502017646\n",
      "tensor(0.1155, device='cuda:0', grad_fn=<SmoothL1LossBackward0>)\n"
     ]
    },
    {
     "name": "stderr",
     "output_type": "stream",
     "text": [
      "100%|██████████| 1250/1250 [00:02<00:00, 473.97it/s]\n",
      "  0%|          | 1/293 [00:00<00:37,  7.87it/s]"
     ]
    },
    {
     "name": "stdout",
     "output_type": "stream",
     "text": [
      "accuray: 0.2647\n"
     ]
    },
    {
     "name": "stderr",
     "output_type": "stream",
     "text": [
      "100%|██████████| 293/293 [00:32<00:00,  8.97it/s] \n",
      "  5%|▍         | 58/1250 [00:00<00:02, 578.86it/s]"
     ]
    },
    {
     "name": "stdout",
     "output_type": "stream",
     "text": [
      "epoch_loss/batch_ct=0.05957989119702861\n",
      "tensor(0.1135, device='cuda:0', grad_fn=<SmoothL1LossBackward0>)\n"
     ]
    },
    {
     "name": "stderr",
     "output_type": "stream",
     "text": [
      "100%|██████████| 1250/1250 [00:02<00:00, 513.36it/s]\n",
      "  0%|          | 1/293 [00:00<00:35,  8.16it/s]"
     ]
    },
    {
     "name": "stdout",
     "output_type": "stream",
     "text": [
      "accuray: 0.2645\n"
     ]
    },
    {
     "name": "stderr",
     "output_type": "stream",
     "text": [
      "100%|██████████| 293/293 [00:32<00:00,  9.16it/s] \n",
      "  2%|▏         | 29/1250 [00:00<00:04, 279.47it/s]"
     ]
    },
    {
     "name": "stdout",
     "output_type": "stream",
     "text": [
      "epoch_loss/batch_ct=0.05959751099229805\n",
      "tensor(0.1167, device='cuda:0', grad_fn=<SmoothL1LossBackward0>)\n"
     ]
    },
    {
     "name": "stderr",
     "output_type": "stream",
     "text": [
      "100%|██████████| 1250/1250 [00:02<00:00, 519.15it/s]\n",
      "  0%|          | 1/293 [00:00<00:33,  8.61it/s]"
     ]
    },
    {
     "name": "stdout",
     "output_type": "stream",
     "text": [
      "accuray: 0.2664\n"
     ]
    },
    {
     "name": "stderr",
     "output_type": "stream",
     "text": [
      "100%|██████████| 293/293 [00:34<00:00,  8.55it/s] \n",
      "  3%|▎         | 37/1250 [00:00<00:03, 357.86it/s]"
     ]
    },
    {
     "name": "stdout",
     "output_type": "stream",
     "text": [
      "epoch_loss/batch_ct=0.059526315698074914\n",
      "tensor(0.1165, device='cuda:0', grad_fn=<SmoothL1LossBackward0>)\n"
     ]
    },
    {
     "name": "stderr",
     "output_type": "stream",
     "text": [
      "100%|██████████| 1250/1250 [00:02<00:00, 532.24it/s]\n",
      "  0%|          | 1/293 [00:00<00:35,  8.33it/s]"
     ]
    },
    {
     "name": "stdout",
     "output_type": "stream",
     "text": [
      "accuray: 0.2657\n"
     ]
    },
    {
     "name": "stderr",
     "output_type": "stream",
     "text": [
      "100%|██████████| 293/293 [00:32<00:00,  9.05it/s] \n",
      " 11%|█         | 133/1250 [00:00<00:01, 667.04it/s]"
     ]
    },
    {
     "name": "stdout",
     "output_type": "stream",
     "text": [
      "epoch_loss/batch_ct=0.0595215702399848\n",
      "tensor(0.1156, device='cuda:0', grad_fn=<SmoothL1LossBackward0>)\n"
     ]
    },
    {
     "name": "stderr",
     "output_type": "stream",
     "text": [
      "100%|██████████| 1250/1250 [00:02<00:00, 614.69it/s]\n",
      "  0%|          | 1/293 [00:00<00:34,  8.47it/s]"
     ]
    },
    {
     "name": "stdout",
     "output_type": "stream",
     "text": [
      "accuray: 0.2652\n"
     ]
    },
    {
     "name": "stderr",
     "output_type": "stream",
     "text": [
      "100%|██████████| 293/293 [00:31<00:00,  9.31it/s] \n",
      "  4%|▍         | 50/1250 [00:00<00:02, 499.54it/s]"
     ]
    },
    {
     "name": "stdout",
     "output_type": "stream",
     "text": [
      "epoch_loss/batch_ct=0.05945192346911109\n",
      "tensor(0.1172, device='cuda:0', grad_fn=<SmoothL1LossBackward0>)\n"
     ]
    },
    {
     "name": "stderr",
     "output_type": "stream",
     "text": [
      "100%|██████████| 1250/1250 [00:02<00:00, 593.85it/s]\n",
      "  0%|          | 1/293 [00:00<00:34,  8.47it/s]"
     ]
    },
    {
     "name": "stdout",
     "output_type": "stream",
     "text": [
      "accuray: 0.2641\n"
     ]
    },
    {
     "name": "stderr",
     "output_type": "stream",
     "text": [
      "100%|██████████| 293/293 [00:31<00:00,  9.40it/s] \n",
      "  5%|▍         | 57/1250 [00:00<00:02, 563.84it/s]"
     ]
    },
    {
     "name": "stdout",
     "output_type": "stream",
     "text": [
      "epoch_loss/batch_ct=0.05946821824366611\n",
      "tensor(0.1174, device='cuda:0', grad_fn=<SmoothL1LossBackward0>)\n"
     ]
    },
    {
     "name": "stderr",
     "output_type": "stream",
     "text": [
      "100%|██████████| 1250/1250 [00:02<00:00, 597.83it/s]\n",
      "  0%|          | 1/293 [00:00<00:35,  8.19it/s]"
     ]
    },
    {
     "name": "stdout",
     "output_type": "stream",
     "text": [
      "accuray: 0.2631\n"
     ]
    },
    {
     "name": "stderr",
     "output_type": "stream",
     "text": [
      "100%|██████████| 293/293 [00:31<00:00,  9.36it/s] \n",
      "  4%|▍         | 52/1250 [00:00<00:02, 519.53it/s]"
     ]
    },
    {
     "name": "stdout",
     "output_type": "stream",
     "text": [
      "epoch_loss/batch_ct=0.05940971186473256\n",
      "tensor(0.1186, device='cuda:0', grad_fn=<SmoothL1LossBackward0>)\n"
     ]
    },
    {
     "name": "stderr",
     "output_type": "stream",
     "text": [
      "100%|██████████| 1250/1250 [00:02<00:00, 589.78it/s]\n",
      "  0%|          | 1/293 [00:00<00:35,  8.26it/s]"
     ]
    },
    {
     "name": "stdout",
     "output_type": "stream",
     "text": [
      "accuray: 0.2684\n"
     ]
    },
    {
     "name": "stderr",
     "output_type": "stream",
     "text": [
      "100%|██████████| 293/293 [00:31<00:00,  9.27it/s]\n",
      "  4%|▍         | 50/1250 [00:00<00:02, 494.60it/s]"
     ]
    },
    {
     "name": "stdout",
     "output_type": "stream",
     "text": [
      "epoch_loss/batch_ct=0.05944382606281175\n",
      "tensor(0.1192, device='cuda:0', grad_fn=<SmoothL1LossBackward0>)\n"
     ]
    },
    {
     "name": "stderr",
     "output_type": "stream",
     "text": [
      "100%|██████████| 1250/1250 [00:02<00:00, 601.28it/s]\n",
      "  0%|          | 1/293 [00:00<00:34,  8.40it/s]"
     ]
    },
    {
     "name": "stdout",
     "output_type": "stream",
     "text": [
      "accuray: 0.2697\n"
     ]
    },
    {
     "name": "stderr",
     "output_type": "stream",
     "text": [
      "100%|██████████| 293/293 [00:31<00:00,  9.16it/s] \n",
      "  1%|▏         | 16/1250 [00:00<00:08, 144.77it/s]"
     ]
    },
    {
     "name": "stdout",
     "output_type": "stream",
     "text": [
      "epoch_loss/batch_ct=0.05950650773824207\n",
      "tensor(0.1170, device='cuda:0', grad_fn=<SmoothL1LossBackward0>)\n"
     ]
    },
    {
     "name": "stderr",
     "output_type": "stream",
     "text": [
      "100%|██████████| 1250/1250 [00:02<00:00, 586.57it/s]\n",
      "  0%|          | 1/293 [00:00<00:35,  8.19it/s]"
     ]
    },
    {
     "name": "stdout",
     "output_type": "stream",
     "text": [
      "accuray: 0.2671\n"
     ]
    },
    {
     "name": "stderr",
     "output_type": "stream",
     "text": [
      "100%|██████████| 293/293 [00:33<00:00,  8.77it/s]\n",
      "  4%|▍         | 52/1250 [00:00<00:02, 514.38it/s]"
     ]
    },
    {
     "name": "stdout",
     "output_type": "stream",
     "text": [
      "epoch_loss/batch_ct=0.05942339631950572\n",
      "tensor(0.1161, device='cuda:0', grad_fn=<SmoothL1LossBackward0>)\n"
     ]
    },
    {
     "name": "stderr",
     "output_type": "stream",
     "text": [
      "100%|██████████| 1250/1250 [00:01<00:00, 625.16it/s]\n",
      "  0%|          | 1/293 [00:00<00:34,  8.54it/s]"
     ]
    },
    {
     "name": "stdout",
     "output_type": "stream",
     "text": [
      "accuray: 0.2687\n"
     ]
    },
    {
     "name": "stderr",
     "output_type": "stream",
     "text": [
      "100%|██████████| 293/293 [00:30<00:00,  9.45it/s] \n",
      "  4%|▍         | 56/1250 [00:00<00:02, 559.49it/s]"
     ]
    },
    {
     "name": "stdout",
     "output_type": "stream",
     "text": [
      "epoch_loss/batch_ct=0.059378760083327216\n",
      "tensor(0.1186, device='cuda:0', grad_fn=<SmoothL1LossBackward0>)\n"
     ]
    },
    {
     "name": "stderr",
     "output_type": "stream",
     "text": [
      "100%|██████████| 1250/1250 [00:02<00:00, 612.83it/s]\n",
      "  0%|          | 1/293 [00:00<00:34,  8.54it/s]"
     ]
    },
    {
     "name": "stdout",
     "output_type": "stream",
     "text": [
      "accuray: 0.2669\n"
     ]
    },
    {
     "name": "stderr",
     "output_type": "stream",
     "text": [
      "100%|██████████| 293/293 [00:31<00:00,  9.41it/s] \n",
      "  9%|▉         | 114/1250 [00:00<00:02, 559.61it/s]"
     ]
    },
    {
     "name": "stdout",
     "output_type": "stream",
     "text": [
      "epoch_loss/batch_ct=0.05927900829544616\n",
      "tensor(0.1165, device='cuda:0', grad_fn=<SmoothL1LossBackward0>)\n"
     ]
    },
    {
     "name": "stderr",
     "output_type": "stream",
     "text": [
      "100%|██████████| 1250/1250 [00:02<00:00, 605.36it/s]\n",
      "  0%|          | 1/293 [00:00<00:35,  8.19it/s]"
     ]
    },
    {
     "name": "stdout",
     "output_type": "stream",
     "text": [
      "accuray: 0.2699\n"
     ]
    },
    {
     "name": "stderr",
     "output_type": "stream",
     "text": [
      "100%|██████████| 293/293 [00:31<00:00,  9.33it/s] \n",
      "  9%|▉         | 111/1250 [00:00<00:02, 553.37it/s]"
     ]
    },
    {
     "name": "stdout",
     "output_type": "stream",
     "text": [
      "epoch_loss/batch_ct=0.05941616242662782\n",
      "tensor(0.1175, device='cuda:0', grad_fn=<SmoothL1LossBackward0>)\n"
     ]
    },
    {
     "name": "stderr",
     "output_type": "stream",
     "text": [
      "100%|██████████| 1250/1250 [00:02<00:00, 598.40it/s]\n",
      "  0%|          | 1/293 [00:00<00:35,  8.33it/s]"
     ]
    },
    {
     "name": "stdout",
     "output_type": "stream",
     "text": [
      "accuray: 0.2627\n"
     ]
    },
    {
     "name": "stderr",
     "output_type": "stream",
     "text": [
      "100%|██████████| 293/293 [00:33<00:00,  8.68it/s] \n",
      " 10%|▉         | 120/1250 [00:00<00:01, 594.73it/s]"
     ]
    },
    {
     "name": "stdout",
     "output_type": "stream",
     "text": [
      "epoch_loss/batch_ct=0.05944662109490425\n",
      "tensor(0.1167, device='cuda:0', grad_fn=<SmoothL1LossBackward0>)\n"
     ]
    },
    {
     "name": "stderr",
     "output_type": "stream",
     "text": [
      "100%|██████████| 1250/1250 [00:02<00:00, 576.16it/s]\n",
      "  0%|          | 1/293 [00:00<00:34,  8.40it/s]"
     ]
    },
    {
     "name": "stdout",
     "output_type": "stream",
     "text": [
      "accuray: 0.2655\n"
     ]
    },
    {
     "name": "stderr",
     "output_type": "stream",
     "text": [
      "100%|██████████| 293/293 [00:31<00:00,  9.39it/s] \n",
      "  5%|▍         | 61/1250 [00:00<00:01, 609.45it/s]"
     ]
    },
    {
     "name": "stdout",
     "output_type": "stream",
     "text": [
      "epoch_loss/batch_ct=0.05944078511721085\n",
      "tensor(0.1182, device='cuda:0', grad_fn=<SmoothL1LossBackward0>)\n"
     ]
    },
    {
     "name": "stderr",
     "output_type": "stream",
     "text": [
      "100%|██████████| 1250/1250 [00:01<00:00, 625.89it/s]\n",
      "  0%|          | 1/293 [00:00<00:35,  8.12it/s]"
     ]
    },
    {
     "name": "stdout",
     "output_type": "stream",
     "text": [
      "accuray: 0.2713\n"
     ]
    },
    {
     "name": "stderr",
     "output_type": "stream",
     "text": [
      "100%|██████████| 293/293 [00:31<00:00,  9.16it/s]\n",
      " 10%|▉         | 121/1250 [00:00<00:01, 601.38it/s]"
     ]
    },
    {
     "name": "stdout",
     "output_type": "stream",
     "text": [
      "epoch_loss/batch_ct=0.05944402226143413\n",
      "tensor(0.1171, device='cuda:0', grad_fn=<SmoothL1LossBackward0>)\n"
     ]
    },
    {
     "name": "stderr",
     "output_type": "stream",
     "text": [
      "100%|██████████| 1250/1250 [00:02<00:00, 561.39it/s]\n",
      "  0%|          | 1/293 [00:00<00:34,  8.40it/s]"
     ]
    },
    {
     "name": "stdout",
     "output_type": "stream",
     "text": [
      "accuray: 0.2666\n"
     ]
    },
    {
     "name": "stderr",
     "output_type": "stream",
     "text": [
      "100%|██████████| 293/293 [00:33<00:00,  8.77it/s] \n",
      "  5%|▍         | 57/1250 [00:00<00:02, 563.85it/s]"
     ]
    },
    {
     "name": "stdout",
     "output_type": "stream",
     "text": [
      "epoch_loss/batch_ct=0.05954537379540621\n",
      "tensor(0.1173, device='cuda:0', grad_fn=<SmoothL1LossBackward0>)\n"
     ]
    },
    {
     "name": "stderr",
     "output_type": "stream",
     "text": [
      "100%|██████████| 1250/1250 [00:02<00:00, 610.91it/s]\n",
      "  0%|          | 1/293 [00:00<00:35,  8.33it/s]"
     ]
    },
    {
     "name": "stdout",
     "output_type": "stream",
     "text": [
      "accuray: 0.2689\n"
     ]
    },
    {
     "name": "stderr",
     "output_type": "stream",
     "text": [
      "100%|██████████| 293/293 [00:31<00:00,  9.28it/s] \n",
      "  5%|▍         | 58/1250 [00:00<00:02, 573.74it/s]"
     ]
    },
    {
     "name": "stdout",
     "output_type": "stream",
     "text": [
      "epoch_loss/batch_ct=0.05945789565642675\n",
      "tensor(0.1175, device='cuda:0', grad_fn=<SmoothL1LossBackward0>)\n"
     ]
    },
    {
     "name": "stderr",
     "output_type": "stream",
     "text": [
      "100%|██████████| 1250/1250 [00:02<00:00, 583.88it/s]\n",
      "  0%|          | 1/293 [00:00<00:34,  8.40it/s]"
     ]
    },
    {
     "name": "stdout",
     "output_type": "stream",
     "text": [
      "accuray: 0.2662\n"
     ]
    },
    {
     "name": "stderr",
     "output_type": "stream",
     "text": [
      "100%|██████████| 293/293 [00:31<00:00,  9.37it/s] \n",
      "  8%|▊         | 104/1250 [00:00<00:02, 523.05it/s]"
     ]
    },
    {
     "name": "stdout",
     "output_type": "stream",
     "text": [
      "epoch_loss/batch_ct=0.05950408186467867\n",
      "tensor(0.1176, device='cuda:0', grad_fn=<SmoothL1LossBackward0>)\n"
     ]
    },
    {
     "name": "stderr",
     "output_type": "stream",
     "text": [
      "100%|██████████| 1250/1250 [00:02<00:00, 572.62it/s]\n",
      "  0%|          | 1/293 [00:00<00:35,  8.26it/s]"
     ]
    },
    {
     "name": "stdout",
     "output_type": "stream",
     "text": [
      "accuray: 0.2626\n"
     ]
    },
    {
     "name": "stderr",
     "output_type": "stream",
     "text": [
      "100%|██████████| 293/293 [00:31<00:00,  9.17it/s] \n",
      "  8%|▊         | 98/1250 [00:00<00:02, 493.70it/s]"
     ]
    },
    {
     "name": "stdout",
     "output_type": "stream",
     "text": [
      "epoch_loss/batch_ct=0.0595255269713345\n",
      "tensor(0.1176, device='cuda:0', grad_fn=<SmoothL1LossBackward0>)\n"
     ]
    },
    {
     "name": "stderr",
     "output_type": "stream",
     "text": [
      "100%|██████████| 1250/1250 [00:02<00:00, 490.35it/s]\n",
      "  0%|          | 1/293 [00:00<00:39,  7.35it/s]"
     ]
    },
    {
     "name": "stdout",
     "output_type": "stream",
     "text": [
      "accuray: 0.2676\n"
     ]
    },
    {
     "name": "stderr",
     "output_type": "stream",
     "text": [
      "100%|██████████| 293/293 [00:35<00:00,  8.26it/s]\n",
      "  8%|▊         | 94/1250 [00:00<00:02, 468.58it/s]"
     ]
    },
    {
     "name": "stdout",
     "output_type": "stream",
     "text": [
      "epoch_loss/batch_ct=0.05953073204450664\n",
      "tensor(0.1176, device='cuda:0', grad_fn=<SmoothL1LossBackward0>)\n"
     ]
    },
    {
     "name": "stderr",
     "output_type": "stream",
     "text": [
      "100%|██████████| 1250/1250 [00:02<00:00, 512.04it/s]\n",
      "  0%|          | 0/293 [00:00<?, ?it/s]"
     ]
    },
    {
     "name": "stdout",
     "output_type": "stream",
     "text": [
      "accuray: 0.2663\n"
     ]
    },
    {
     "name": "stderr",
     "output_type": "stream",
     "text": [
      "100%|██████████| 293/293 [00:32<00:00,  8.92it/s] \n",
      "  7%|▋         | 88/1250 [00:00<00:02, 436.99it/s]"
     ]
    },
    {
     "name": "stdout",
     "output_type": "stream",
     "text": [
      "epoch_loss/batch_ct=0.05951068371475216\n",
      "tensor(0.1182, device='cuda:0', grad_fn=<SmoothL1LossBackward0>)\n"
     ]
    },
    {
     "name": "stderr",
     "output_type": "stream",
     "text": [
      "100%|██████████| 1250/1250 [00:02<00:00, 527.39it/s]\n",
      "  0%|          | 1/293 [00:00<00:45,  6.41it/s]"
     ]
    },
    {
     "name": "stdout",
     "output_type": "stream",
     "text": [
      "accuray: 0.268\n"
     ]
    },
    {
     "name": "stderr",
     "output_type": "stream",
     "text": [
      "100%|██████████| 293/293 [00:33<00:00,  8.86it/s] \n",
      "  4%|▎         | 44/1250 [00:00<00:02, 439.60it/s]"
     ]
    },
    {
     "name": "stdout",
     "output_type": "stream",
     "text": [
      "epoch_loss/batch_ct=0.059649100955871365\n",
      "tensor(0.1182, device='cuda:0', grad_fn=<SmoothL1LossBackward0>)\n"
     ]
    },
    {
     "name": "stderr",
     "output_type": "stream",
     "text": [
      "100%|██████████| 1250/1250 [00:02<00:00, 496.37it/s]\n",
      "  0%|          | 1/293 [00:00<00:49,  5.91it/s]"
     ]
    },
    {
     "name": "stdout",
     "output_type": "stream",
     "text": [
      "accuray: 0.2665\n"
     ]
    },
    {
     "name": "stderr",
     "output_type": "stream",
     "text": [
      "100%|██████████| 293/293 [00:32<00:00,  8.89it/s] \n",
      "  4%|▍         | 47/1250 [00:00<00:02, 469.58it/s]"
     ]
    },
    {
     "name": "stdout",
     "output_type": "stream",
     "text": [
      "epoch_loss/batch_ct=0.05947602346598629\n",
      "tensor(0.1158, device='cuda:0', grad_fn=<SmoothL1LossBackward0>)\n"
     ]
    },
    {
     "name": "stderr",
     "output_type": "stream",
     "text": [
      "100%|██████████| 1250/1250 [00:02<00:00, 509.32it/s]\n",
      "  0%|          | 1/293 [00:00<00:45,  6.40it/s]"
     ]
    },
    {
     "name": "stdout",
     "output_type": "stream",
     "text": [
      "accuray: 0.2649\n"
     ]
    },
    {
     "name": "stderr",
     "output_type": "stream",
     "text": [
      "100%|██████████| 293/293 [00:35<00:00,  8.22it/s] \n",
      "  4%|▎         | 45/1250 [00:00<00:02, 445.14it/s]"
     ]
    },
    {
     "name": "stdout",
     "output_type": "stream",
     "text": [
      "epoch_loss/batch_ct=0.05939471662517578\n",
      "tensor(0.1191, device='cuda:0', grad_fn=<SmoothL1LossBackward0>)\n"
     ]
    },
    {
     "name": "stderr",
     "output_type": "stream",
     "text": [
      "100%|██████████| 1250/1250 [00:02<00:00, 540.63it/s]\n",
      "  0%|          | 1/293 [00:00<00:40,  7.24it/s]"
     ]
    },
    {
     "name": "stdout",
     "output_type": "stream",
     "text": [
      "accuray: 0.2653\n"
     ]
    },
    {
     "name": "stderr",
     "output_type": "stream",
     "text": [
      "100%|██████████| 293/293 [00:34<00:00,  8.55it/s]\n",
      " 10%|▉         | 122/1250 [00:00<00:01, 610.46it/s]"
     ]
    },
    {
     "name": "stdout",
     "output_type": "stream",
     "text": [
      "epoch_loss/batch_ct=0.05952023182596479\n",
      "tensor(0.1170, device='cuda:0', grad_fn=<SmoothL1LossBackward0>)\n"
     ]
    },
    {
     "name": "stderr",
     "output_type": "stream",
     "text": [
      "100%|██████████| 1250/1250 [00:02<00:00, 598.98it/s]\n",
      "  0%|          | 1/293 [00:00<00:36,  7.99it/s]"
     ]
    },
    {
     "name": "stdout",
     "output_type": "stream",
     "text": [
      "accuray: 0.2673\n"
     ]
    },
    {
     "name": "stderr",
     "output_type": "stream",
     "text": [
      "100%|██████████| 293/293 [00:33<00:00,  8.84it/s] \n",
      "  4%|▍         | 47/1250 [00:00<00:02, 469.35it/s]"
     ]
    },
    {
     "name": "stdout",
     "output_type": "stream",
     "text": [
      "epoch_loss/batch_ct=0.0594354894987884\n",
      "tensor(0.1146, device='cuda:0', grad_fn=<SmoothL1LossBackward0>)\n"
     ]
    },
    {
     "name": "stderr",
     "output_type": "stream",
     "text": [
      "100%|██████████| 1250/1250 [00:03<00:00, 396.95it/s]\n",
      "  0%|          | 1/293 [00:00<00:43,  6.67it/s]"
     ]
    },
    {
     "name": "stdout",
     "output_type": "stream",
     "text": [
      "accuray: 0.2657\n"
     ]
    },
    {
     "name": "stderr",
     "output_type": "stream",
     "text": [
      "100%|██████████| 293/293 [00:36<00:00,  8.03it/s]\n",
      "  4%|▎         | 44/1250 [00:00<00:02, 438.56it/s]"
     ]
    },
    {
     "name": "stdout",
     "output_type": "stream",
     "text": [
      "epoch_loss/batch_ct=0.059373611170384616\n",
      "tensor(0.1171, device='cuda:0', grad_fn=<SmoothL1LossBackward0>)\n"
     ]
    },
    {
     "name": "stderr",
     "output_type": "stream",
     "text": [
      "100%|██████████| 1250/1250 [00:02<00:00, 509.52it/s]\n",
      "  0%|          | 1/293 [00:00<00:41,  7.09it/s]"
     ]
    },
    {
     "name": "stdout",
     "output_type": "stream",
     "text": [
      "accuray: 0.2669\n"
     ]
    },
    {
     "name": "stderr",
     "output_type": "stream",
     "text": [
      "100%|██████████| 293/293 [00:33<00:00,  8.78it/s]\n",
      "  7%|▋         | 89/1250 [00:00<00:02, 438.35it/s]"
     ]
    },
    {
     "name": "stdout",
     "output_type": "stream",
     "text": [
      "epoch_loss/batch_ct=0.05943970231428033\n",
      "tensor(0.1179, device='cuda:0', grad_fn=<SmoothL1LossBackward0>)\n"
     ]
    },
    {
     "name": "stderr",
     "output_type": "stream",
     "text": [
      "100%|██████████| 1250/1250 [00:02<00:00, 539.01it/s]\n",
      "  0%|          | 0/293 [00:00<?, ?it/s]"
     ]
    },
    {
     "name": "stdout",
     "output_type": "stream",
     "text": [
      "accuray: 0.2665\n"
     ]
    },
    {
     "name": "stderr",
     "output_type": "stream",
     "text": [
      "100%|██████████| 293/293 [00:34<00:00,  8.40it/s]\n",
      "  3%|▎         | 43/1250 [00:00<00:02, 427.35it/s]"
     ]
    },
    {
     "name": "stdout",
     "output_type": "stream",
     "text": [
      "epoch_loss/batch_ct=0.05931713491205185\n",
      "tensor(0.1194, device='cuda:0', grad_fn=<SmoothL1LossBackward0>)\n"
     ]
    },
    {
     "name": "stderr",
     "output_type": "stream",
     "text": [
      "100%|██████████| 1250/1250 [00:02<00:00, 461.34it/s]\n",
      "  0%|          | 1/293 [00:00<00:37,  7.80it/s]"
     ]
    },
    {
     "name": "stdout",
     "output_type": "stream",
     "text": [
      "accuray: 0.2656\n"
     ]
    },
    {
     "name": "stderr",
     "output_type": "stream",
     "text": [
      "100%|██████████| 293/293 [00:34<00:00,  8.60it/s]\n",
      "  3%|▎         | 39/1250 [00:00<00:03, 388.77it/s]"
     ]
    },
    {
     "name": "stdout",
     "output_type": "stream",
     "text": [
      "epoch_loss/batch_ct=0.059420848427902136\n",
      "tensor(0.1157, device='cuda:0', grad_fn=<SmoothL1LossBackward0>)\n"
     ]
    },
    {
     "name": "stderr",
     "output_type": "stream",
     "text": [
      "100%|██████████| 1250/1250 [00:02<00:00, 509.73it/s]\n",
      "  0%|          | 1/293 [00:00<00:38,  7.66it/s]"
     ]
    },
    {
     "name": "stdout",
     "output_type": "stream",
     "text": [
      "accuray: 0.2685\n"
     ]
    },
    {
     "name": "stderr",
     "output_type": "stream",
     "text": [
      "100%|██████████| 293/293 [00:37<00:00,  7.89it/s] \n",
      "  4%|▍         | 49/1250 [00:00<00:02, 486.63it/s]"
     ]
    },
    {
     "name": "stdout",
     "output_type": "stream",
     "text": [
      "epoch_loss/batch_ct=0.05946408117574359\n",
      "tensor(0.1178, device='cuda:0', grad_fn=<SmoothL1LossBackward0>)\n"
     ]
    },
    {
     "name": "stderr",
     "output_type": "stream",
     "text": [
      "100%|██████████| 1250/1250 [00:02<00:00, 550.54it/s]\n",
      "  0%|          | 1/293 [00:00<00:40,  7.15it/s]"
     ]
    },
    {
     "name": "stdout",
     "output_type": "stream",
     "text": [
      "accuray: 0.2693\n"
     ]
    },
    {
     "name": "stderr",
     "output_type": "stream",
     "text": [
      "100%|██████████| 293/293 [00:34<00:00,  8.60it/s]\n",
      "  4%|▍         | 48/1250 [00:00<00:02, 472.86it/s]"
     ]
    },
    {
     "name": "stdout",
     "output_type": "stream",
     "text": [
      "epoch_loss/batch_ct=0.05945091259976228\n",
      "tensor(0.1167, device='cuda:0', grad_fn=<SmoothL1LossBackward0>)\n"
     ]
    },
    {
     "name": "stderr",
     "output_type": "stream",
     "text": [
      "100%|██████████| 1250/1250 [00:02<00:00, 524.67it/s]\n",
      "  0%|          | 1/293 [00:00<00:41,  7.02it/s]"
     ]
    },
    {
     "name": "stdout",
     "output_type": "stream",
     "text": [
      "accuray: 0.2666\n"
     ]
    },
    {
     "name": "stderr",
     "output_type": "stream",
     "text": [
      "100%|██████████| 293/293 [00:34<00:00,  8.40it/s] \n",
      "  3%|▎         | 36/1250 [00:00<00:03, 350.96it/s]"
     ]
    },
    {
     "name": "stdout",
     "output_type": "stream",
     "text": [
      "epoch_loss/batch_ct=0.059397255351382586\n",
      "tensor(0.1183, device='cuda:0', grad_fn=<SmoothL1LossBackward0>)\n"
     ]
    },
    {
     "name": "stderr",
     "output_type": "stream",
     "text": [
      "100%|██████████| 1250/1250 [00:02<00:00, 448.86it/s]\n",
      "  0%|          | 1/293 [00:00<00:48,  6.06it/s]"
     ]
    },
    {
     "name": "stdout",
     "output_type": "stream",
     "text": [
      "accuray: 0.2634\n"
     ]
    },
    {
     "name": "stderr",
     "output_type": "stream",
     "text": [
      "100%|██████████| 293/293 [00:38<00:00,  7.69it/s]\n",
      "  4%|▍         | 48/1250 [00:00<00:02, 469.28it/s]"
     ]
    },
    {
     "name": "stdout",
     "output_type": "stream",
     "text": [
      "epoch_loss/batch_ct=0.059326355907297325\n",
      "tensor(0.1178, device='cuda:0', grad_fn=<SmoothL1LossBackward0>)\n"
     ]
    },
    {
     "name": "stderr",
     "output_type": "stream",
     "text": [
      "100%|██████████| 1250/1250 [00:02<00:00, 505.49it/s]\n",
      "  0%|          | 1/293 [00:00<00:41,  7.09it/s]"
     ]
    },
    {
     "name": "stdout",
     "output_type": "stream",
     "text": [
      "accuray: 0.2654\n"
     ]
    },
    {
     "name": "stderr",
     "output_type": "stream",
     "text": [
      "100%|██████████| 293/293 [00:35<00:00,  8.36it/s]\n",
      "  3%|▎         | 42/1250 [00:00<00:02, 415.05it/s]"
     ]
    },
    {
     "name": "stdout",
     "output_type": "stream",
     "text": [
      "epoch_loss/batch_ct=0.05942007330142789\n",
      "tensor(0.1191, device='cuda:0', grad_fn=<SmoothL1LossBackward0>)\n"
     ]
    },
    {
     "name": "stderr",
     "output_type": "stream",
     "text": [
      "100%|██████████| 1250/1250 [00:02<00:00, 477.49it/s]\n",
      "  0%|          | 0/293 [00:00<?, ?it/s]"
     ]
    },
    {
     "name": "stdout",
     "output_type": "stream",
     "text": [
      "accuray: 0.2665\n"
     ]
    },
    {
     "name": "stderr",
     "output_type": "stream",
     "text": [
      "100%|██████████| 293/293 [00:34<00:00,  8.42it/s] \n",
      "  6%|▌         | 78/1250 [00:00<00:03, 365.19it/s]"
     ]
    },
    {
     "name": "stdout",
     "output_type": "stream",
     "text": [
      "epoch_loss/batch_ct=0.05945438485119551\n",
      "tensor(0.1174, device='cuda:0', grad_fn=<SmoothL1LossBackward0>)\n"
     ]
    },
    {
     "name": "stderr",
     "output_type": "stream",
     "text": [
      "100%|██████████| 1250/1250 [00:02<00:00, 478.25it/s]\n",
      "  0%|          | 1/293 [00:00<00:42,  6.84it/s]"
     ]
    },
    {
     "name": "stdout",
     "output_type": "stream",
     "text": [
      "accuray: 0.2668\n"
     ]
    },
    {
     "name": "stderr",
     "output_type": "stream",
     "text": [
      "100%|██████████| 293/293 [00:38<00:00,  7.66it/s]\n",
      "  8%|▊         | 94/1250 [00:00<00:02, 463.95it/s]"
     ]
    },
    {
     "name": "stdout",
     "output_type": "stream",
     "text": [
      "epoch_loss/batch_ct=0.059402357875591234\n",
      "tensor(0.1163, device='cuda:0', grad_fn=<SmoothL1LossBackward0>)\n"
     ]
    },
    {
     "name": "stderr",
     "output_type": "stream",
     "text": [
      "100%|██████████| 1250/1250 [00:02<00:00, 482.18it/s]\n",
      "  0%|          | 1/293 [00:00<00:38,  7.51it/s]"
     ]
    },
    {
     "name": "stdout",
     "output_type": "stream",
     "text": [
      "accuray: 0.2653\n"
     ]
    },
    {
     "name": "stderr",
     "output_type": "stream",
     "text": [
      "100%|██████████| 293/293 [00:38<00:00,  7.70it/s] \n",
      "  9%|▊         | 108/1250 [00:00<00:02, 521.69it/s]"
     ]
    },
    {
     "name": "stdout",
     "output_type": "stream",
     "text": [
      "epoch_loss/batch_ct=0.05938929229206036\n",
      "tensor(0.1176, device='cuda:0', grad_fn=<SmoothL1LossBackward0>)\n"
     ]
    },
    {
     "name": "stderr",
     "output_type": "stream",
     "text": [
      "100%|██████████| 1250/1250 [00:02<00:00, 487.52it/s]\n",
      "  0%|          | 1/293 [00:00<00:40,  7.27it/s]"
     ]
    },
    {
     "name": "stdout",
     "output_type": "stream",
     "text": [
      "accuray: 0.2682\n"
     ]
    },
    {
     "name": "stderr",
     "output_type": "stream",
     "text": [
      "100%|██████████| 293/293 [00:33<00:00,  8.68it/s]\n",
      "  3%|▎         | 43/1250 [00:00<00:02, 429.37it/s]"
     ]
    },
    {
     "name": "stdout",
     "output_type": "stream",
     "text": [
      "epoch_loss/batch_ct=0.05937555152922869\n",
      "tensor(0.1156, device='cuda:0', grad_fn=<SmoothL1LossBackward0>)\n"
     ]
    },
    {
     "name": "stderr",
     "output_type": "stream",
     "text": [
      "100%|██████████| 1250/1250 [00:02<00:00, 511.55it/s]\n",
      "  0%|          | 1/293 [00:00<00:43,  6.64it/s]"
     ]
    },
    {
     "name": "stdout",
     "output_type": "stream",
     "text": [
      "accuray: 0.2671\n"
     ]
    },
    {
     "name": "stderr",
     "output_type": "stream",
     "text": [
      "100%|██████████| 293/293 [00:33<00:00,  8.79it/s]\n",
      "  4%|▍         | 50/1250 [00:00<00:02, 495.89it/s]"
     ]
    },
    {
     "name": "stdout",
     "output_type": "stream",
     "text": [
      "epoch_loss/batch_ct=0.05944880532721678\n",
      "tensor(0.1163, device='cuda:0', grad_fn=<SmoothL1LossBackward0>)\n"
     ]
    },
    {
     "name": "stderr",
     "output_type": "stream",
     "text": [
      "100%|██████████| 1250/1250 [00:02<00:00, 534.43it/s]\n",
      "  0%|          | 1/293 [00:00<00:45,  6.45it/s]"
     ]
    },
    {
     "name": "stdout",
     "output_type": "stream",
     "text": [
      "accuray: 0.2663\n"
     ]
    },
    {
     "name": "stderr",
     "output_type": "stream",
     "text": [
      "100%|██████████| 293/293 [00:36<00:00,  8.08it/s]\n",
      "  4%|▎         | 45/1250 [00:00<00:02, 446.70it/s]"
     ]
    },
    {
     "name": "stdout",
     "output_type": "stream",
     "text": [
      "epoch_loss/batch_ct=0.059457996032304235\n",
      "tensor(0.1149, device='cuda:0', grad_fn=<SmoothL1LossBackward0>)\n"
     ]
    },
    {
     "name": "stderr",
     "output_type": "stream",
     "text": [
      "100%|██████████| 1250/1250 [00:02<00:00, 488.65it/s]\n",
      "  0%|          | 1/293 [00:00<00:41,  7.00it/s]"
     ]
    },
    {
     "name": "stdout",
     "output_type": "stream",
     "text": [
      "accuray: 0.264\n"
     ]
    },
    {
     "name": "stderr",
     "output_type": "stream",
     "text": [
      "100%|██████████| 293/293 [00:33<00:00,  8.68it/s]\n",
      "  4%|▎         | 46/1250 [00:00<00:02, 459.86it/s]"
     ]
    },
    {
     "name": "stdout",
     "output_type": "stream",
     "text": [
      "epoch_loss/batch_ct=0.05938712837144969\n",
      "tensor(0.1181, device='cuda:0', grad_fn=<SmoothL1LossBackward0>)\n"
     ]
    },
    {
     "name": "stderr",
     "output_type": "stream",
     "text": [
      "100%|██████████| 1250/1250 [00:02<00:00, 487.33it/s]\n",
      "  0%|          | 1/293 [00:00<00:35,  8.15it/s]"
     ]
    },
    {
     "name": "stdout",
     "output_type": "stream",
     "text": [
      "accuray: 0.2682\n"
     ]
    },
    {
     "name": "stderr",
     "output_type": "stream",
     "text": [
      "100%|██████████| 293/293 [00:33<00:00,  8.70it/s]\n",
      "  4%|▍         | 55/1250 [00:00<00:02, 548.10it/s]"
     ]
    },
    {
     "name": "stdout",
     "output_type": "stream",
     "text": [
      "epoch_loss/batch_ct=0.05936939325479288\n",
      "tensor(0.1157, device='cuda:0', grad_fn=<SmoothL1LossBackward0>)\n"
     ]
    },
    {
     "name": "stderr",
     "output_type": "stream",
     "text": [
      "100%|██████████| 1250/1250 [00:02<00:00, 534.24it/s]\n",
      "  0%|          | 0/293 [00:00<?, ?it/s]"
     ]
    },
    {
     "name": "stdout",
     "output_type": "stream",
     "text": [
      "accuray: 0.2643\n"
     ]
    },
    {
     "name": "stderr",
     "output_type": "stream",
     "text": [
      "100%|██████████| 293/293 [00:33<00:00,  8.73it/s]\n",
      "  4%|▍         | 51/1250 [00:00<00:02, 505.06it/s]"
     ]
    },
    {
     "name": "stdout",
     "output_type": "stream",
     "text": [
      "epoch_loss/batch_ct=0.05938731237418122\n",
      "tensor(0.1175, device='cuda:0', grad_fn=<SmoothL1LossBackward0>)\n"
     ]
    },
    {
     "name": "stderr",
     "output_type": "stream",
     "text": [
      "100%|██████████| 1250/1250 [00:02<00:00, 518.89it/s]\n",
      "  0%|          | 0/293 [00:00<?, ?it/s]"
     ]
    },
    {
     "name": "stdout",
     "output_type": "stream",
     "text": [
      "accuray: 0.2661\n"
     ]
    },
    {
     "name": "stderr",
     "output_type": "stream",
     "text": [
      "100%|██████████| 293/293 [00:36<00:00,  8.10it/s]\n",
      "  4%|▍         | 52/1250 [00:00<00:02, 519.39it/s]"
     ]
    },
    {
     "name": "stdout",
     "output_type": "stream",
     "text": [
      "epoch_loss/batch_ct=0.0594102560084254\n",
      "tensor(0.1168, device='cuda:0', grad_fn=<SmoothL1LossBackward0>)\n"
     ]
    },
    {
     "name": "stderr",
     "output_type": "stream",
     "text": [
      "100%|██████████| 1250/1250 [00:02<00:00, 480.32it/s]\n",
      "  0%|          | 1/293 [00:00<00:36,  7.97it/s]"
     ]
    },
    {
     "name": "stdout",
     "output_type": "stream",
     "text": [
      "accuray: 0.267\n"
     ]
    },
    {
     "name": "stderr",
     "output_type": "stream",
     "text": [
      "100%|██████████| 293/293 [00:35<00:00,  8.20it/s]\n",
      "  2%|▏         | 24/1250 [00:00<00:05, 230.74it/s]"
     ]
    },
    {
     "name": "stdout",
     "output_type": "stream",
     "text": [
      "epoch_loss/batch_ct=0.05934556873722209\n",
      "tensor(0.1178, device='cuda:0', grad_fn=<SmoothL1LossBackward0>)\n"
     ]
    },
    {
     "name": "stderr",
     "output_type": "stream",
     "text": [
      "100%|██████████| 1250/1250 [00:03<00:00, 366.31it/s]\n",
      "  0%|          | 1/293 [00:00<00:43,  6.65it/s]"
     ]
    },
    {
     "name": "stdout",
     "output_type": "stream",
     "text": [
      "accuray: 0.2636\n"
     ]
    },
    {
     "name": "stderr",
     "output_type": "stream",
     "text": [
      "100%|██████████| 293/293 [00:35<00:00,  8.27it/s]\n",
      "  3%|▎         | 39/1250 [00:00<00:03, 388.79it/s]"
     ]
    },
    {
     "name": "stdout",
     "output_type": "stream",
     "text": [
      "epoch_loss/batch_ct=0.059356788232449505\n",
      "tensor(0.1173, device='cuda:0', grad_fn=<SmoothL1LossBackward0>)\n"
     ]
    },
    {
     "name": "stderr",
     "output_type": "stream",
     "text": [
      "100%|██████████| 1250/1250 [00:02<00:00, 500.21it/s]\n",
      "  0%|          | 1/293 [00:00<00:39,  7.35it/s]"
     ]
    },
    {
     "name": "stdout",
     "output_type": "stream",
     "text": [
      "accuray: 0.2674\n"
     ]
    },
    {
     "name": "stderr",
     "output_type": "stream",
     "text": [
      "100%|██████████| 293/293 [00:32<00:00,  8.93it/s] \n",
      "  3%|▎         | 40/1250 [00:00<00:03, 399.17it/s]"
     ]
    },
    {
     "name": "stdout",
     "output_type": "stream",
     "text": [
      "epoch_loss/batch_ct=0.05936877401397815\n",
      "tensor(0.1179, device='cuda:0', grad_fn=<SmoothL1LossBackward0>)\n"
     ]
    },
    {
     "name": "stderr",
     "output_type": "stream",
     "text": [
      "100%|██████████| 1250/1250 [00:02<00:00, 522.57it/s]\n",
      "  0%|          | 0/293 [00:00<?, ?it/s]"
     ]
    },
    {
     "name": "stdout",
     "output_type": "stream",
     "text": [
      "accuray: 0.2657\n"
     ]
    },
    {
     "name": "stderr",
     "output_type": "stream",
     "text": [
      "100%|██████████| 293/293 [00:35<00:00,  8.16it/s]\n",
      "  5%|▍         | 59/1250 [00:00<00:02, 579.96it/s]"
     ]
    },
    {
     "name": "stdout",
     "output_type": "stream",
     "text": [
      "epoch_loss/batch_ct=0.05940313439165789\n",
      "tensor(0.1161, device='cuda:0', grad_fn=<SmoothL1LossBackward0>)\n"
     ]
    },
    {
     "name": "stderr",
     "output_type": "stream",
     "text": [
      "100%|██████████| 1250/1250 [00:02<00:00, 556.69it/s]\n",
      "  0%|          | 1/293 [00:00<00:37,  7.71it/s]"
     ]
    },
    {
     "name": "stdout",
     "output_type": "stream",
     "text": [
      "accuray: 0.2647\n"
     ]
    },
    {
     "name": "stderr",
     "output_type": "stream",
     "text": [
      "100%|██████████| 293/293 [00:32<00:00,  8.92it/s] \n",
      "  7%|▋         | 85/1250 [00:00<00:02, 417.40it/s]"
     ]
    },
    {
     "name": "stdout",
     "output_type": "stream",
     "text": [
      "epoch_loss/batch_ct=0.059382430292547694\n",
      "tensor(0.1168, device='cuda:0', grad_fn=<SmoothL1LossBackward0>)\n"
     ]
    },
    {
     "name": "stderr",
     "output_type": "stream",
     "text": [
      "100%|██████████| 1250/1250 [00:02<00:00, 481.45it/s]\n",
      "  0%|          | 1/293 [00:00<00:42,  6.90it/s]"
     ]
    },
    {
     "name": "stdout",
     "output_type": "stream",
     "text": [
      "accuray: 0.2689\n"
     ]
    },
    {
     "name": "stderr",
     "output_type": "stream",
     "text": [
      "100%|██████████| 293/293 [00:32<00:00,  9.02it/s] \n",
      "  5%|▍         | 58/1250 [00:00<00:02, 578.73it/s]"
     ]
    },
    {
     "name": "stdout",
     "output_type": "stream",
     "text": [
      "epoch_loss/batch_ct=0.05950077052509028\n",
      "tensor(0.1175, device='cuda:0', grad_fn=<SmoothL1LossBackward0>)\n"
     ]
    },
    {
     "name": "stderr",
     "output_type": "stream",
     "text": [
      "100%|██████████| 1250/1250 [00:02<00:00, 557.57it/s]\n",
      "  0%|          | 1/293 [00:00<01:02,  4.69it/s]"
     ]
    },
    {
     "name": "stdout",
     "output_type": "stream",
     "text": [
      "accuray: 0.2628\n"
     ]
    },
    {
     "name": "stderr",
     "output_type": "stream",
     "text": [
      "100%|██████████| 293/293 [00:35<00:00,  8.28it/s] \n",
      "  3%|▎         | 41/1250 [00:00<00:02, 404.26it/s]"
     ]
    },
    {
     "name": "stdout",
     "output_type": "stream",
     "text": [
      "epoch_loss/batch_ct=0.05945834731830964\n",
      "tensor(0.1196, device='cuda:0', grad_fn=<SmoothL1LossBackward0>)\n"
     ]
    },
    {
     "name": "stderr",
     "output_type": "stream",
     "text": [
      "100%|██████████| 1250/1250 [00:02<00:00, 496.07it/s]\n",
      "  0%|          | 0/293 [00:00<?, ?it/s]"
     ]
    },
    {
     "name": "stdout",
     "output_type": "stream",
     "text": [
      "accuray: 0.2647\n"
     ]
    },
    {
     "name": "stderr",
     "output_type": "stream",
     "text": [
      "100%|██████████| 293/293 [00:34<00:00,  8.60it/s] \n",
      "  3%|▎         | 43/1250 [00:00<00:02, 426.52it/s]"
     ]
    },
    {
     "name": "stdout",
     "output_type": "stream",
     "text": [
      "epoch_loss/batch_ct=0.05947353305029018\n",
      "tensor(0.1170, device='cuda:0', grad_fn=<SmoothL1LossBackward0>)\n"
     ]
    },
    {
     "name": "stderr",
     "output_type": "stream",
     "text": [
      "100%|██████████| 1250/1250 [00:02<00:00, 484.71it/s]\n",
      "  0%|          | 1/293 [00:00<00:42,  6.88it/s]"
     ]
    },
    {
     "name": "stdout",
     "output_type": "stream",
     "text": [
      "accuray: 0.2619\n"
     ]
    },
    {
     "name": "stderr",
     "output_type": "stream",
     "text": [
      "100%|██████████| 293/293 [00:32<00:00,  8.94it/s]\n",
      "  9%|▊         | 108/1250 [00:00<00:02, 539.05it/s]"
     ]
    },
    {
     "name": "stdout",
     "output_type": "stream",
     "text": [
      "epoch_loss/batch_ct=0.0596008924619546\n",
      "tensor(0.1149, device='cuda:0', grad_fn=<SmoothL1LossBackward0>)\n"
     ]
    },
    {
     "name": "stderr",
     "output_type": "stream",
     "text": [
      "100%|██████████| 1250/1250 [00:02<00:00, 611.89it/s]\n",
      "  0%|          | 1/293 [00:00<00:47,  6.20it/s]"
     ]
    },
    {
     "name": "stdout",
     "output_type": "stream",
     "text": [
      "accuray: 0.265\n"
     ]
    },
    {
     "name": "stderr",
     "output_type": "stream",
     "text": [
      "100%|██████████| 293/293 [00:33<00:00,  8.78it/s] \n",
      "  4%|▍         | 51/1250 [00:00<00:02, 505.69it/s]"
     ]
    },
    {
     "name": "stdout",
     "output_type": "stream",
     "text": [
      "epoch_loss/batch_ct=0.05938243497872636\n",
      "tensor(0.1156, device='cuda:0', grad_fn=<SmoothL1LossBackward0>)\n"
     ]
    },
    {
     "name": "stderr",
     "output_type": "stream",
     "text": [
      "100%|██████████| 1250/1250 [00:02<00:00, 440.64it/s]\n",
      "  0%|          | 1/293 [00:00<00:43,  6.75it/s]"
     ]
    },
    {
     "name": "stdout",
     "output_type": "stream",
     "text": [
      "accuray: 0.2663\n"
     ]
    },
    {
     "name": "stderr",
     "output_type": "stream",
     "text": [
      "100%|██████████| 293/293 [00:37<00:00,  7.87it/s] \n",
      "  7%|▋         | 82/1250 [00:00<00:02, 410.09it/s]"
     ]
    },
    {
     "name": "stdout",
     "output_type": "stream",
     "text": [
      "epoch_loss/batch_ct=0.05948513602867486\n",
      "tensor(0.1160, device='cuda:0', grad_fn=<SmoothL1LossBackward0>)\n"
     ]
    },
    {
     "name": "stderr",
     "output_type": "stream",
     "text": [
      "100%|██████████| 1250/1250 [00:02<00:00, 461.01it/s]\n",
      "  0%|          | 1/293 [00:00<00:37,  7.74it/s]"
     ]
    },
    {
     "name": "stdout",
     "output_type": "stream",
     "text": [
      "accuray: 0.2643\n"
     ]
    },
    {
     "name": "stderr",
     "output_type": "stream",
     "text": [
      "100%|██████████| 293/293 [00:35<00:00,  8.26it/s]\n",
      "  4%|▍         | 52/1250 [00:00<00:02, 504.40it/s]"
     ]
    },
    {
     "name": "stdout",
     "output_type": "stream",
     "text": [
      "epoch_loss/batch_ct=0.059426547560308664\n",
      "tensor(0.1181, device='cuda:0', grad_fn=<SmoothL1LossBackward0>)\n"
     ]
    },
    {
     "name": "stderr",
     "output_type": "stream",
     "text": [
      "100%|██████████| 1250/1250 [00:02<00:00, 521.42it/s]\n",
      "  0%|          | 1/293 [00:00<00:34,  8.47it/s]"
     ]
    },
    {
     "name": "stdout",
     "output_type": "stream",
     "text": [
      "accuray: 0.263\n"
     ]
    },
    {
     "name": "stderr",
     "output_type": "stream",
     "text": [
      "100%|██████████| 293/293 [00:32<00:00,  8.88it/s]\n",
      "  4%|▍         | 50/1250 [00:00<00:02, 489.75it/s]"
     ]
    },
    {
     "name": "stdout",
     "output_type": "stream",
     "text": [
      "epoch_loss/batch_ct=0.059357415544726545\n",
      "tensor(0.1176, device='cuda:0', grad_fn=<SmoothL1LossBackward0>)\n"
     ]
    },
    {
     "name": "stderr",
     "output_type": "stream",
     "text": [
      "100%|██████████| 1250/1250 [00:02<00:00, 463.40it/s]\n",
      "  0%|          | 1/293 [00:00<00:43,  6.66it/s]"
     ]
    },
    {
     "name": "stdout",
     "output_type": "stream",
     "text": [
      "accuray: 0.269\n"
     ]
    },
    {
     "name": "stderr",
     "output_type": "stream",
     "text": [
      "100%|██████████| 293/293 [00:38<00:00,  7.54it/s]\n",
      "  6%|▌         | 70/1250 [00:00<00:03, 349.68it/s]"
     ]
    },
    {
     "name": "stdout",
     "output_type": "stream",
     "text": [
      "epoch_loss/batch_ct=0.05929797326052\n",
      "tensor(0.1157, device='cuda:0', grad_fn=<SmoothL1LossBackward0>)\n"
     ]
    },
    {
     "name": "stderr",
     "output_type": "stream",
     "text": [
      "100%|██████████| 1250/1250 [00:03<00:00, 388.57it/s]\n",
      "  0%|          | 0/293 [00:00<?, ?it/s]"
     ]
    },
    {
     "name": "stdout",
     "output_type": "stream",
     "text": [
      "accuray: 0.2674\n"
     ]
    },
    {
     "name": "stderr",
     "output_type": "stream",
     "text": [
      "100%|██████████| 293/293 [00:40<00:00,  7.20it/s]\n",
      "  2%|▏         | 30/1250 [00:00<00:04, 296.76it/s]"
     ]
    },
    {
     "name": "stdout",
     "output_type": "stream",
     "text": [
      "epoch_loss/batch_ct=0.05938325667132934\n",
      "tensor(0.1165, device='cuda:0', grad_fn=<SmoothL1LossBackward0>)\n"
     ]
    },
    {
     "name": "stderr",
     "output_type": "stream",
     "text": [
      "100%|██████████| 1250/1250 [00:04<00:00, 295.03it/s]\n",
      "  0%|          | 0/293 [00:00<?, ?it/s]"
     ]
    },
    {
     "name": "stdout",
     "output_type": "stream",
     "text": [
      "accuray: 0.2669\n"
     ]
    },
    {
     "name": "stderr",
     "output_type": "stream",
     "text": [
      "100%|██████████| 293/293 [00:39<00:00,  7.50it/s]\n",
      "  6%|▌         | 74/1250 [00:00<00:03, 365.62it/s]"
     ]
    },
    {
     "name": "stdout",
     "output_type": "stream",
     "text": [
      "epoch_loss/batch_ct=0.05938169649905629\n",
      "tensor(0.1179, device='cuda:0', grad_fn=<SmoothL1LossBackward0>)\n"
     ]
    },
    {
     "name": "stderr",
     "output_type": "stream",
     "text": [
      "100%|██████████| 1250/1250 [00:03<00:00, 398.62it/s]\n",
      "  0%|          | 1/293 [00:00<00:46,  6.24it/s]"
     ]
    },
    {
     "name": "stdout",
     "output_type": "stream",
     "text": [
      "accuray: 0.2692\n"
     ]
    },
    {
     "name": "stderr",
     "output_type": "stream",
     "text": [
      "100%|██████████| 293/293 [00:37<00:00,  7.72it/s]\n",
      "  3%|▎         | 36/1250 [00:00<00:03, 345.84it/s]"
     ]
    },
    {
     "name": "stdout",
     "output_type": "stream",
     "text": [
      "epoch_loss/batch_ct=0.059383259243553595\n",
      "tensor(0.1163, device='cuda:0', grad_fn=<SmoothL1LossBackward0>)\n"
     ]
    },
    {
     "name": "stderr",
     "output_type": "stream",
     "text": [
      "100%|██████████| 1250/1250 [00:03<00:00, 397.73it/s]\n",
      "  0%|          | 1/293 [00:00<00:59,  4.90it/s]"
     ]
    },
    {
     "name": "stdout",
     "output_type": "stream",
     "text": [
      "accuray: 0.2708\n"
     ]
    },
    {
     "name": "stderr",
     "output_type": "stream",
     "text": [
      "100%|██████████| 293/293 [00:39<00:00,  7.47it/s]\n",
      "  6%|▌         | 71/1250 [00:00<00:03, 359.09it/s]"
     ]
    },
    {
     "name": "stdout",
     "output_type": "stream",
     "text": [
      "epoch_loss/batch_ct=0.059332660547206324\n",
      "tensor(0.1165, device='cuda:0', grad_fn=<SmoothL1LossBackward0>)\n"
     ]
    },
    {
     "name": "stderr",
     "output_type": "stream",
     "text": [
      "100%|██████████| 1250/1250 [00:03<00:00, 378.58it/s]\n",
      "  0%|          | 1/293 [00:00<00:44,  6.62it/s]"
     ]
    },
    {
     "name": "stdout",
     "output_type": "stream",
     "text": [
      "accuray: 0.2653\n"
     ]
    },
    {
     "name": "stderr",
     "output_type": "stream",
     "text": [
      "100%|██████████| 293/293 [00:36<00:00,  8.02it/s]\n",
      "  3%|▎         | 38/1250 [00:00<00:03, 372.21it/s]"
     ]
    },
    {
     "name": "stdout",
     "output_type": "stream",
     "text": [
      "epoch_loss/batch_ct=0.05942123100930263\n",
      "tensor(0.1139, device='cuda:0', grad_fn=<SmoothL1LossBackward0>)\n"
     ]
    },
    {
     "name": "stderr",
     "output_type": "stream",
     "text": [
      "100%|██████████| 1250/1250 [00:02<00:00, 474.92it/s]\n",
      "  0%|          | 1/293 [00:00<00:37,  7.81it/s]"
     ]
    },
    {
     "name": "stdout",
     "output_type": "stream",
     "text": [
      "accuray: 0.2677\n"
     ]
    },
    {
     "name": "stderr",
     "output_type": "stream",
     "text": [
      "100%|██████████| 293/293 [00:38<00:00,  7.59it/s]\n",
      "  4%|▍         | 47/1250 [00:00<00:02, 469.57it/s]"
     ]
    },
    {
     "name": "stdout",
     "output_type": "stream",
     "text": [
      "epoch_loss/batch_ct=0.05938548807586942\n",
      "tensor(0.1163, device='cuda:0', grad_fn=<SmoothL1LossBackward0>)\n"
     ]
    },
    {
     "name": "stderr",
     "output_type": "stream",
     "text": [
      "100%|██████████| 1250/1250 [00:02<00:00, 442.28it/s]\n",
      "  0%|          | 1/293 [00:00<00:37,  7.87it/s]"
     ]
    },
    {
     "name": "stdout",
     "output_type": "stream",
     "text": [
      "accuray: 0.2676\n"
     ]
    },
    {
     "name": "stderr",
     "output_type": "stream",
     "text": [
      "100%|██████████| 293/293 [00:35<00:00,  8.37it/s] \n",
      "  3%|▎         | 33/1250 [00:00<00:03, 328.34it/s]"
     ]
    },
    {
     "name": "stdout",
     "output_type": "stream",
     "text": [
      "epoch_loss/batch_ct=0.05941620408483441\n",
      "tensor(0.1192, device='cuda:0', grad_fn=<SmoothL1LossBackward0>)\n"
     ]
    },
    {
     "name": "stderr",
     "output_type": "stream",
     "text": [
      "100%|██████████| 1250/1250 [00:03<00:00, 352.45it/s]\n",
      "  0%|          | 1/293 [00:00<00:40,  7.24it/s]"
     ]
    },
    {
     "name": "stdout",
     "output_type": "stream",
     "text": [
      "accuray: 0.2674\n"
     ]
    },
    {
     "name": "stderr",
     "output_type": "stream",
     "text": [
      "100%|██████████| 293/293 [00:35<00:00,  8.23it/s]\n",
      "  3%|▎         | 41/1250 [00:00<00:03, 397.87it/s]"
     ]
    },
    {
     "name": "stdout",
     "output_type": "stream",
     "text": [
      "epoch_loss/batch_ct=0.05945364857417724\n",
      "tensor(0.1158, device='cuda:0', grad_fn=<SmoothL1LossBackward0>)\n"
     ]
    },
    {
     "name": "stderr",
     "output_type": "stream",
     "text": [
      "100%|██████████| 1250/1250 [00:02<00:00, 495.47it/s]\n",
      "  0%|          | 1/293 [00:00<00:42,  6.91it/s]"
     ]
    },
    {
     "name": "stdout",
     "output_type": "stream",
     "text": [
      "accuray: 0.2658\n"
     ]
    },
    {
     "name": "stderr",
     "output_type": "stream",
     "text": [
      "100%|██████████| 293/293 [00:31<00:00,  9.16it/s] \n",
      " 10%|█         | 127/1250 [00:00<00:01, 629.01it/s]"
     ]
    },
    {
     "name": "stdout",
     "output_type": "stream",
     "text": [
      "epoch_loss/batch_ct=0.05942396044967666\n",
      "tensor(0.1166, device='cuda:0', grad_fn=<SmoothL1LossBackward0>)\n"
     ]
    },
    {
     "name": "stderr",
     "output_type": "stream",
     "text": [
      "100%|██████████| 1250/1250 [00:01<00:00, 640.77it/s]\n",
      "  0%|          | 1/293 [00:00<00:33,  8.61it/s]"
     ]
    },
    {
     "name": "stdout",
     "output_type": "stream",
     "text": [
      "accuray: 0.2668\n"
     ]
    },
    {
     "name": "stderr",
     "output_type": "stream",
     "text": [
      "100%|██████████| 293/293 [00:32<00:00,  8.98it/s] \n",
      "  4%|▎         | 46/1250 [00:00<00:02, 450.57it/s]"
     ]
    },
    {
     "name": "stdout",
     "output_type": "stream",
     "text": [
      "epoch_loss/batch_ct=0.05933825027138468\n",
      "tensor(0.1167, device='cuda:0', grad_fn=<SmoothL1LossBackward0>)\n"
     ]
    },
    {
     "name": "stderr",
     "output_type": "stream",
     "text": [
      "100%|██████████| 1250/1250 [00:02<00:00, 494.40it/s]\n"
     ]
    }
   ],
   "source": [
    "(model,dataset) = model_pipeline(raceDB,config=wandb_config_static)"
   ]
  },
  {
   "cell_type": "code",
   "execution_count": null,
   "metadata": {},
   "outputs": [],
   "source": [
    "pause\n",
    "dataset.create_hidden_states_dict()"
   ]
  },
  {
   "cell_type": "code",
   "execution_count": null,
   "metadata": {},
   "outputs": [],
   "source": [
    "predDB.fill_hidden_states_from_dict(hidden_dict=dataset.hidden_states_dict)"
   ]
  },
  {
   "cell_type": "code",
   "execution_count": null,
   "metadata": {},
   "outputs": [],
   "source": [
    "sweep_id = wandb.sweep(sweep_config, project=\"LSTM_sweeps\")\n",
    "CUDA_LAUNCH_BLOCKING=1\n",
    "wandb.agent(sweep_id, function=model_pipeline, count=100)"
   ]
  }
 ],
 "metadata": {
  "kernelspec": {
   "display_name": "Python 3.9.12 ('pytorch')",
   "language": "python",
   "name": "python3"
  },
  "language_info": {
   "codemirror_mode": {
    "name": "ipython",
    "version": 3
   },
   "file_extension": ".py",
   "mimetype": "text/x-python",
   "name": "python",
   "nbconvert_exporter": "python",
   "pygments_lexer": "ipython3",
   "version": "3.9.12"
  },
  "orig_nbformat": 4,
  "vscode": {
   "interpreter": {
    "hash": "43115443075634c02a7c247a87b0dd9d74842892e56d473b9e19f544f3149aff"
   }
  }
 },
 "nbformat": 4,
 "nbformat_minor": 2
}
