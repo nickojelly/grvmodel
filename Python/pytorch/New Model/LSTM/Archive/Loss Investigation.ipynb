{
 "cells": [
  {
   "cell_type": "code",
   "execution_count": 1,
   "metadata": {},
   "outputs": [],
   "source": [
    "import pickle\n",
    "import pandas as pd\n",
    "import os\n",
    "import torch\n",
    "import numpy as np\n",
    "import torch.nn as nn\n",
    "import torch.nn.functional as F"
   ]
  },
  {
   "cell_type": "code",
   "execution_count": 3,
   "metadata": {},
   "outputs": [],
   "source": [
    "os.getcwd()\n",
    "os.chdir(r\"C:\\Users\\Nick\\Documents\\GitHub\\grvmodel\\Python\\DATA\")\n",
    "dog_df = pd.DataFrame(pickle.load(open( 'dog_stats_df_FASTTRACK new margins.npy', 'rb')))\n",
    "dog_df['box'] = dog_df['stats'].apply(lambda x: x[0])\n",
    "dog_df = dog_df[dog_df['track_name'].str.contains(\"NZ\")]\n"
   ]
  },
  {
   "cell_type": "code",
   "execution_count": 37,
   "metadata": {},
   "outputs": [
    {
     "data": {
      "text/html": [
       "<div>\n",
       "<style scoped>\n",
       "    .dataframe tbody tr th:only-of-type {\n",
       "        vertical-align: middle;\n",
       "    }\n",
       "\n",
       "    .dataframe tbody tr th {\n",
       "        vertical-align: top;\n",
       "    }\n",
       "\n",
       "    .dataframe thead th {\n",
       "        text-align: right;\n",
       "    }\n",
       "</style>\n",
       "<table border=\"1\" class=\"dataframe\">\n",
       "  <thead>\n",
       "    <tr style=\"text-align: right;\">\n",
       "      <th></th>\n",
       "      <th>dogid</th>\n",
       "      <th>dog_name</th>\n",
       "      <th>raceid</th>\n",
       "      <th>race_grade</th>\n",
       "      <th>date</th>\n",
       "      <th>trackOHE</th>\n",
       "      <th>track_name</th>\n",
       "      <th>dist</th>\n",
       "      <th>stats</th>\n",
       "      <th>place</th>\n",
       "      <th>startprice</th>\n",
       "      <th>margin</th>\n",
       "      <th>bfSP</th>\n",
       "      <th>runtime</th>\n",
       "      <th>box</th>\n",
       "    </tr>\n",
       "  </thead>\n",
       "  <tbody>\n",
       "    <tr>\n",
       "      <th>997</th>\n",
       "      <td>253386773</td>\n",
       "      <td>HAPPY MEDIUM</td>\n",
       "      <td>500543142</td>\n",
       "      <td>Class 1</td>\n",
       "      <td>2019-12-01</td>\n",
       "      <td>[0, 0, 1, 0, 0, 0, 0, 0, 0, 0, 0, 0, 0, 0, 0, ...</td>\n",
       "      <td>Auckland (NZ)</td>\n",
       "      <td>527.0</td>\n",
       "      <td>[8, -1, -1, -1, -1, -1, -1, -1, -1, -1, 0, 0, ...</td>\n",
       "      <td>1.0</td>\n",
       "      <td>NaN</td>\n",
       "      <td>0.00</td>\n",
       "      <td>NaN</td>\n",
       "      <td>30.88</td>\n",
       "      <td>8</td>\n",
       "    </tr>\n",
       "    <tr>\n",
       "      <th>1007</th>\n",
       "      <td>2105690062</td>\n",
       "      <td>PAT TAMA</td>\n",
       "      <td>500543143</td>\n",
       "      <td>Class 4 Final</td>\n",
       "      <td>2019-12-01</td>\n",
       "      <td>[0, 0, 1, 0, 0, 0, 0, 0, 0, 0, 0, 0, 0, 0, 0, ...</td>\n",
       "      <td>Auckland (NZ)</td>\n",
       "      <td>318.0</td>\n",
       "      <td>[5, -1, -1, -1, -1, -1, -1, -1, -1, -1, 0, 0, ...</td>\n",
       "      <td>4.0</td>\n",
       "      <td>NaN</td>\n",
       "      <td>6.44</td>\n",
       "      <td>NaN</td>\n",
       "      <td>18.99</td>\n",
       "      <td>5</td>\n",
       "    </tr>\n",
       "    <tr>\n",
       "      <th>1008</th>\n",
       "      <td>1116480038</td>\n",
       "      <td>ALEX ATTACK</td>\n",
       "      <td>500543143</td>\n",
       "      <td>Class 4 Final</td>\n",
       "      <td>2019-12-01</td>\n",
       "      <td>[0, 0, 1, 0, 0, 0, 0, 0, 0, 0, 0, 0, 0, 0, 0, ...</td>\n",
       "      <td>Auckland (NZ)</td>\n",
       "      <td>318.0</td>\n",
       "      <td>[2, -1, -1, -1, -1, -1, -1, -1, -1, -1, 0, 0, ...</td>\n",
       "      <td>3.0</td>\n",
       "      <td>NaN</td>\n",
       "      <td>4.23</td>\n",
       "      <td>NaN</td>\n",
       "      <td>18.85</td>\n",
       "      <td>2</td>\n",
       "    </tr>\n",
       "    <tr>\n",
       "      <th>1009</th>\n",
       "      <td>141326625</td>\n",
       "      <td>DOES HE EXIST</td>\n",
       "      <td>500543143</td>\n",
       "      <td>Class 4 Final</td>\n",
       "      <td>2019-12-01</td>\n",
       "      <td>[0, 0, 1, 0, 0, 0, 0, 0, 0, 0, 0, 0, 0, 0, 0, ...</td>\n",
       "      <td>Auckland (NZ)</td>\n",
       "      <td>318.0</td>\n",
       "      <td>[1, -1, -1, -1, -1, -1, -1, -1, -1, -1, 0, 0, ...</td>\n",
       "      <td>1.0</td>\n",
       "      <td>NaN</td>\n",
       "      <td>0.00</td>\n",
       "      <td>NaN</td>\n",
       "      <td>18.58</td>\n",
       "      <td>1</td>\n",
       "    </tr>\n",
       "    <tr>\n",
       "      <th>1010</th>\n",
       "      <td>128650300</td>\n",
       "      <td>GO ALL LIN</td>\n",
       "      <td>500543143</td>\n",
       "      <td>Class 4 Final</td>\n",
       "      <td>2019-12-01</td>\n",
       "      <td>[0, 0, 1, 0, 0, 0, 0, 0, 0, 0, 0, 0, 0, 0, 0, ...</td>\n",
       "      <td>Auckland (NZ)</td>\n",
       "      <td>318.0</td>\n",
       "      <td>[3, -1, -1, -1, -1, -1, -1, -1, -1, -1, 0, 0, ...</td>\n",
       "      <td>2.0</td>\n",
       "      <td>NaN</td>\n",
       "      <td>4.21</td>\n",
       "      <td>NaN</td>\n",
       "      <td>18.85</td>\n",
       "      <td>3</td>\n",
       "    </tr>\n",
       "    <tr>\n",
       "      <th>...</th>\n",
       "      <td>...</td>\n",
       "      <td>...</td>\n",
       "      <td>...</td>\n",
       "      <td>...</td>\n",
       "      <td>...</td>\n",
       "      <td>...</td>\n",
       "      <td>...</td>\n",
       "      <td>...</td>\n",
       "      <td>...</td>\n",
       "      <td>...</td>\n",
       "      <td>...</td>\n",
       "      <td>...</td>\n",
       "      <td>...</td>\n",
       "      <td>...</td>\n",
       "      <td>...</td>\n",
       "    </tr>\n",
       "    <tr>\n",
       "      <th>1012585</th>\n",
       "      <td>471074793</td>\n",
       "      <td>DEMBE</td>\n",
       "      <td>846606735</td>\n",
       "      <td>Class 4</td>\n",
       "      <td>2022-12-01</td>\n",
       "      <td>[0, 0, 0, 0, 0, 0, 0, 0, 0, 0, 0, 0, 0, 1, 0, ...</td>\n",
       "      <td>Christchurch (NZ)</td>\n",
       "      <td>520.0</td>\n",
       "      <td>[6, 0.058408909082496435, 0.000635080027850219...</td>\n",
       "      <td>5.0</td>\n",
       "      <td>11.1</td>\n",
       "      <td>6.30</td>\n",
       "      <td>10.500000</td>\n",
       "      <td>18.20</td>\n",
       "      <td>6</td>\n",
       "    </tr>\n",
       "    <tr>\n",
       "      <th>1012586</th>\n",
       "      <td>576143086</td>\n",
       "      <td>CALCULATED RISK</td>\n",
       "      <td>846606735</td>\n",
       "      <td>Class 4</td>\n",
       "      <td>2022-12-01</td>\n",
       "      <td>[0, 0, 0, 0, 0, 0, 0, 0, 0, 0, 0, 0, 0, 1, 0, ...</td>\n",
       "      <td>Christchurch (NZ)</td>\n",
       "      <td>520.0</td>\n",
       "      <td>[2, 0.05874895962279309, 0.0007828353140396463...</td>\n",
       "      <td>1.0</td>\n",
       "      <td>9.7</td>\n",
       "      <td>0.00</td>\n",
       "      <td>10.000000</td>\n",
       "      <td>17.80</td>\n",
       "      <td>2</td>\n",
       "    </tr>\n",
       "    <tr>\n",
       "      <th>1012587</th>\n",
       "      <td>634935932</td>\n",
       "      <td>MRS. CHINN</td>\n",
       "      <td>846606735</td>\n",
       "      <td>Class 4</td>\n",
       "      <td>2022-12-01</td>\n",
       "      <td>[0, 0, 0, 0, 0, 0, 0, 0, 0, 0, 0, 0, 0, 1, 0, ...</td>\n",
       "      <td>Christchurch (NZ)</td>\n",
       "      <td>520.0</td>\n",
       "      <td>[1, 0.05890329287375239, 0.0005332365673547307...</td>\n",
       "      <td>3.0</td>\n",
       "      <td>6.1</td>\n",
       "      <td>2.60</td>\n",
       "      <td>NaN</td>\n",
       "      <td>17.96</td>\n",
       "      <td>1</td>\n",
       "    </tr>\n",
       "    <tr>\n",
       "      <th>1012613</th>\n",
       "      <td>537992860</td>\n",
       "      <td>HOMEBUSH SPARKLE</td>\n",
       "      <td>846606738</td>\n",
       "      <td>Class 3</td>\n",
       "      <td>2022-12-01</td>\n",
       "      <td>[0, 0, 0, 0, 0, 0, 0, 0, 0, 0, 0, 0, 0, 1, 0, ...</td>\n",
       "      <td>Christchurch (NZ)</td>\n",
       "      <td>295.0</td>\n",
       "      <td>[8, 0.05998590318052621, 0.0008156097652865078...</td>\n",
       "      <td>8.0</td>\n",
       "      <td>26.5</td>\n",
       "      <td>16.10</td>\n",
       "      <td>66.799726</td>\n",
       "      <td>18.24</td>\n",
       "      <td>8</td>\n",
       "    </tr>\n",
       "    <tr>\n",
       "      <th>1016988</th>\n",
       "      <td>515901781</td>\n",
       "      <td>OPAWA ALBERT</td>\n",
       "      <td>846624197</td>\n",
       "      <td>Mixed grade 4/5</td>\n",
       "      <td>2022-12-01</td>\n",
       "      <td>[0, 0, 0, 0, 0, 0, 0, 0, 0, 0, 0, 0, 0, 0, 0, ...</td>\n",
       "      <td>Waikato (NZ)</td>\n",
       "      <td>457.0</td>\n",
       "      <td>[7, 0.05851138576385914, 0.0009579770498617694...</td>\n",
       "      <td>8.0</td>\n",
       "      <td>27.0</td>\n",
       "      <td>19.60</td>\n",
       "      <td>29.000000</td>\n",
       "      <td>26.78</td>\n",
       "      <td>7</td>\n",
       "    </tr>\n",
       "  </tbody>\n",
       "</table>\n",
       "<p>111378 rows × 15 columns</p>\n",
       "</div>"
      ],
      "text/plain": [
       "              dogid          dog_name     raceid       race_grade       date  \\\n",
       "997       253386773      HAPPY MEDIUM  500543142          Class 1 2019-12-01   \n",
       "1007     2105690062          PAT TAMA  500543143    Class 4 Final 2019-12-01   \n",
       "1008     1116480038       ALEX ATTACK  500543143    Class 4 Final 2019-12-01   \n",
       "1009      141326625     DOES HE EXIST  500543143    Class 4 Final 2019-12-01   \n",
       "1010      128650300        GO ALL LIN  500543143    Class 4 Final 2019-12-01   \n",
       "...             ...               ...        ...              ...        ...   \n",
       "1012585   471074793             DEMBE  846606735          Class 4 2022-12-01   \n",
       "1012586   576143086   CALCULATED RISK  846606735          Class 4 2022-12-01   \n",
       "1012587   634935932        MRS. CHINN  846606735          Class 4 2022-12-01   \n",
       "1012613   537992860  HOMEBUSH SPARKLE  846606738          Class 3 2022-12-01   \n",
       "1016988   515901781      OPAWA ALBERT  846624197  Mixed grade 4/5 2022-12-01   \n",
       "\n",
       "                                                  trackOHE         track_name  \\\n",
       "997      [0, 0, 1, 0, 0, 0, 0, 0, 0, 0, 0, 0, 0, 0, 0, ...      Auckland (NZ)   \n",
       "1007     [0, 0, 1, 0, 0, 0, 0, 0, 0, 0, 0, 0, 0, 0, 0, ...      Auckland (NZ)   \n",
       "1008     [0, 0, 1, 0, 0, 0, 0, 0, 0, 0, 0, 0, 0, 0, 0, ...      Auckland (NZ)   \n",
       "1009     [0, 0, 1, 0, 0, 0, 0, 0, 0, 0, 0, 0, 0, 0, 0, ...      Auckland (NZ)   \n",
       "1010     [0, 0, 1, 0, 0, 0, 0, 0, 0, 0, 0, 0, 0, 0, 0, ...      Auckland (NZ)   \n",
       "...                                                    ...                ...   \n",
       "1012585  [0, 0, 0, 0, 0, 0, 0, 0, 0, 0, 0, 0, 0, 1, 0, ...  Christchurch (NZ)   \n",
       "1012586  [0, 0, 0, 0, 0, 0, 0, 0, 0, 0, 0, 0, 0, 1, 0, ...  Christchurch (NZ)   \n",
       "1012587  [0, 0, 0, 0, 0, 0, 0, 0, 0, 0, 0, 0, 0, 1, 0, ...  Christchurch (NZ)   \n",
       "1012613  [0, 0, 0, 0, 0, 0, 0, 0, 0, 0, 0, 0, 0, 1, 0, ...  Christchurch (NZ)   \n",
       "1016988  [0, 0, 0, 0, 0, 0, 0, 0, 0, 0, 0, 0, 0, 0, 0, ...       Waikato (NZ)   \n",
       "\n",
       "          dist                                              stats  place  \\\n",
       "997      527.0  [8, -1, -1, -1, -1, -1, -1, -1, -1, -1, 0, 0, ...    1.0   \n",
       "1007     318.0  [5, -1, -1, -1, -1, -1, -1, -1, -1, -1, 0, 0, ...    4.0   \n",
       "1008     318.0  [2, -1, -1, -1, -1, -1, -1, -1, -1, -1, 0, 0, ...    3.0   \n",
       "1009     318.0  [1, -1, -1, -1, -1, -1, -1, -1, -1, -1, 0, 0, ...    1.0   \n",
       "1010     318.0  [3, -1, -1, -1, -1, -1, -1, -1, -1, -1, 0, 0, ...    2.0   \n",
       "...        ...                                                ...    ...   \n",
       "1012585  520.0  [6, 0.058408909082496435, 0.000635080027850219...    5.0   \n",
       "1012586  520.0  [2, 0.05874895962279309, 0.0007828353140396463...    1.0   \n",
       "1012587  520.0  [1, 0.05890329287375239, 0.0005332365673547307...    3.0   \n",
       "1012613  295.0  [8, 0.05998590318052621, 0.0008156097652865078...    8.0   \n",
       "1016988  457.0  [7, 0.05851138576385914, 0.0009579770498617694...    8.0   \n",
       "\n",
       "         startprice  margin       bfSP runtime  box  \n",
       "997             NaN    0.00        NaN   30.88    8  \n",
       "1007            NaN    6.44        NaN   18.99    5  \n",
       "1008            NaN    4.23        NaN   18.85    2  \n",
       "1009            NaN    0.00        NaN   18.58    1  \n",
       "1010            NaN    4.21        NaN   18.85    3  \n",
       "...             ...     ...        ...     ...  ...  \n",
       "1012585        11.1    6.30  10.500000   18.20    6  \n",
       "1012586         9.7    0.00  10.000000   17.80    2  \n",
       "1012587         6.1    2.60        NaN   17.96    1  \n",
       "1012613        26.5   16.10  66.799726   18.24    8  \n",
       "1016988        27.0   19.60  29.000000   26.78    7  \n",
       "\n",
       "[111378 rows x 15 columns]"
      ]
     },
     "execution_count": 37,
     "metadata": {},
     "output_type": "execute_result"
    }
   ],
   "source": [
    "dog_df.sort_values('date')"
   ]
  },
  {
   "cell_type": "code",
   "execution_count": 4,
   "metadata": {},
   "outputs": [],
   "source": [
    "os.getcwd()\n",
    "os.chdir(r\"C:\\Users\\Nick\\Documents\\GitHub\\grvmodel\\Python\\DATA\")\n",
    "dog_df_pred = pd.DataFrame(pickle.load(open( r'C:\\Users\\Nick\\Documents\\GitHub\\grvmodel\\Python\\DATA\\prediction validation 2023-01.npy', 'rb')))\n",
    "dog_df_pred['box'] = dog_df_pred['stats'].apply(lambda x: x[0])\n",
    "dog_df_pred = dog_df_pred[dog_df_pred['track_name'].str.contains(\"NZ\")]\n"
   ]
  },
  {
   "cell_type": "code",
   "execution_count": 26,
   "metadata": {},
   "outputs": [
    {
     "data": {
      "text/html": [
       "<div>\n",
       "<style scoped>\n",
       "    .dataframe tbody tr th:only-of-type {\n",
       "        vertical-align: middle;\n",
       "    }\n",
       "\n",
       "    .dataframe tbody tr th {\n",
       "        vertical-align: top;\n",
       "    }\n",
       "\n",
       "    .dataframe thead th {\n",
       "        text-align: right;\n",
       "    }\n",
       "</style>\n",
       "<table border=\"1\" class=\"dataframe\">\n",
       "  <thead>\n",
       "    <tr style=\"text-align: right;\">\n",
       "      <th></th>\n",
       "      <th>dogid</th>\n",
       "      <th>dog_name</th>\n",
       "      <th>raceid</th>\n",
       "      <th>race_grade</th>\n",
       "      <th>date</th>\n",
       "      <th>trackOHE</th>\n",
       "      <th>track_name</th>\n",
       "      <th>dist</th>\n",
       "      <th>stats</th>\n",
       "      <th>place</th>\n",
       "      <th>startprice</th>\n",
       "      <th>margin</th>\n",
       "      <th>bfSP</th>\n",
       "      <th>runtime</th>\n",
       "      <th>prev_race</th>\n",
       "      <th>box</th>\n",
       "    </tr>\n",
       "  </thead>\n",
       "  <tbody>\n",
       "    <tr>\n",
       "      <th>368</th>\n",
       "      <td>451768424</td>\n",
       "      <td>GOLDSTAR LINDA</td>\n",
       "      <td>853983172</td>\n",
       "      <td>Class 3</td>\n",
       "      <td>2022-12-15</td>\n",
       "      <td>[0, 0, 0, 0, 0, 0, 0, 0, 0, 0, 0, 0, 0, 1, 0, ...</td>\n",
       "      <td>Christchurch (NZ)</td>\n",
       "      <td>295.0</td>\n",
       "      <td>[1, 0.0581798035141873, 0.007221768971605164, ...</td>\n",
       "      <td>1.0</td>\n",
       "      <td>1.9</td>\n",
       "      <td>3.0</td>\n",
       "      <td>2.451261</td>\n",
       "      <td>17.28</td>\n",
       "      <td>614246495</td>\n",
       "      <td>1</td>\n",
       "    </tr>\n",
       "    <tr>\n",
       "      <th>369</th>\n",
       "      <td>410839595</td>\n",
       "      <td>HOMEBUSH GLITCH</td>\n",
       "      <td>853983172</td>\n",
       "      <td>Class 3</td>\n",
       "      <td>2022-12-15</td>\n",
       "      <td>[0, 0, 0, 0, 0, 0, 0, 0, 0, 0, 0, 0, 0, 1, 0, ...</td>\n",
       "      <td>Christchurch (NZ)</td>\n",
       "      <td>295.0</td>\n",
       "      <td>[6, 0.05982413443430391, 0.001214426250067608,...</td>\n",
       "      <td>2.0</td>\n",
       "      <td>7.2</td>\n",
       "      <td>3.0</td>\n",
       "      <td>7.000000</td>\n",
       "      <td>17.47</td>\n",
       "      <td>557036045</td>\n",
       "      <td>6</td>\n",
       "    </tr>\n",
       "    <tr>\n",
       "      <th>370</th>\n",
       "      <td>550411338</td>\n",
       "      <td>SAPPORO BALE</td>\n",
       "      <td>853983172</td>\n",
       "      <td>Class 3</td>\n",
       "      <td>2022-12-15</td>\n",
       "      <td>[0, 0, 0, 0, 0, 0, 0, 0, 0, 0, 0, 0, 0, 1, 0, ...</td>\n",
       "      <td>Christchurch (NZ)</td>\n",
       "      <td>295.0</td>\n",
       "      <td>[4, 0.060308019842910295, 0.000976294641085533...</td>\n",
       "      <td>3.0</td>\n",
       "      <td>18.3</td>\n",
       "      <td>4.3</td>\n",
       "      <td>43.432970</td>\n",
       "      <td>17.55</td>\n",
       "      <td>725645897</td>\n",
       "      <td>4</td>\n",
       "    </tr>\n",
       "    <tr>\n",
       "      <th>371</th>\n",
       "      <td>638803598</td>\n",
       "      <td>HOMEBUSH BENTLEY</td>\n",
       "      <td>853983172</td>\n",
       "      <td>Class 3</td>\n",
       "      <td>2022-12-15</td>\n",
       "      <td>[0, 0, 0, 0, 0, 0, 0, 0, 0, 0, 0, 0, 0, 1, 0, ...</td>\n",
       "      <td>Christchurch (NZ)</td>\n",
       "      <td>295.0</td>\n",
       "      <td>[8, 0.0599098810793726, 0.000711141215879643, ...</td>\n",
       "      <td>4.0</td>\n",
       "      <td>39.8</td>\n",
       "      <td>5.8</td>\n",
       "      <td>70.000000</td>\n",
       "      <td>17.65</td>\n",
       "      <td>798984985</td>\n",
       "      <td>8</td>\n",
       "    </tr>\n",
       "    <tr>\n",
       "      <th>372</th>\n",
       "      <td>351419010</td>\n",
       "      <td>TAIERI TAYLEE</td>\n",
       "      <td>853983172</td>\n",
       "      <td>Class 3</td>\n",
       "      <td>2022-12-15</td>\n",
       "      <td>[0, 0, 0, 0, 0, 0, 0, 0, 0, 0, 0, 0, 0, 1, 0, ...</td>\n",
       "      <td>Christchurch (NZ)</td>\n",
       "      <td>295.0</td>\n",
       "      <td>[7, 0.05943857272670832, 0.000765692858808701,...</td>\n",
       "      <td>5.0</td>\n",
       "      <td>5.1</td>\n",
       "      <td>6.0</td>\n",
       "      <td>5.700000</td>\n",
       "      <td>17.66</td>\n",
       "      <td>550362250</td>\n",
       "      <td>7</td>\n",
       "    </tr>\n",
       "    <tr>\n",
       "      <th>373</th>\n",
       "      <td>379018103</td>\n",
       "      <td>TIGGERLONG DEMON</td>\n",
       "      <td>853983172</td>\n",
       "      <td>Class 3</td>\n",
       "      <td>2022-12-15</td>\n",
       "      <td>[0, 0, 0, 0, 0, 0, 0, 0, 0, 0, 0, 0, 0, 1, 0, ...</td>\n",
       "      <td>Christchurch (NZ)</td>\n",
       "      <td>295.0</td>\n",
       "      <td>[2, 0.05942425114924862, 0.0007297383630911877...</td>\n",
       "      <td>6.0</td>\n",
       "      <td>12.5</td>\n",
       "      <td>9.3</td>\n",
       "      <td>15.000000</td>\n",
       "      <td>17.87</td>\n",
       "      <td>576079505</td>\n",
       "      <td>2</td>\n",
       "    </tr>\n",
       "    <tr>\n",
       "      <th>374</th>\n",
       "      <td>634935922</td>\n",
       "      <td>GOLDSTAR GLENYS</td>\n",
       "      <td>853983172</td>\n",
       "      <td>Class 3</td>\n",
       "      <td>2022-12-15</td>\n",
       "      <td>[0, 0, 0, 0, 0, 0, 0, 0, 0, 0, 0, 0, 0, 1, 0, ...</td>\n",
       "      <td>Christchurch (NZ)</td>\n",
       "      <td>295.0</td>\n",
       "      <td>[5, 0.06023582050418863, 0.0007683513138660465...</td>\n",
       "      <td>7.0</td>\n",
       "      <td>7.9</td>\n",
       "      <td>9.8</td>\n",
       "      <td>7.800000</td>\n",
       "      <td>17.90</td>\n",
       "      <td>795411906</td>\n",
       "      <td>5</td>\n",
       "    </tr>\n",
       "    <tr>\n",
       "      <th>375</th>\n",
       "      <td>523685851</td>\n",
       "      <td>FREE FOR ALL</td>\n",
       "      <td>853983172</td>\n",
       "      <td>Class 3</td>\n",
       "      <td>2022-12-15</td>\n",
       "      <td>[0, 0, 0, 0, 0, 0, 0, 0, 0, 0, 0, 0, 0, 1, 0, ...</td>\n",
       "      <td>Christchurch (NZ)</td>\n",
       "      <td>295.0</td>\n",
       "      <td>[3, 0.05893631227529532, 0.007390136149442979,...</td>\n",
       "      <td>8.0</td>\n",
       "      <td>17.6</td>\n",
       "      <td>10.3</td>\n",
       "      <td>23.467063</td>\n",
       "      <td>17.93</td>\n",
       "      <td>669981821</td>\n",
       "      <td>3</td>\n",
       "    </tr>\n",
       "    <tr>\n",
       "      <th>376</th>\n",
       "      <td>534921216</td>\n",
       "      <td>ORISHA BALE</td>\n",
       "      <td>853983173</td>\n",
       "      <td>Mixed 3/4</td>\n",
       "      <td>2022-12-15</td>\n",
       "      <td>[0, 0, 0, 0, 0, 0, 0, 0, 0, 0, 0, 0, 0, 1, 0, ...</td>\n",
       "      <td>Christchurch (NZ)</td>\n",
       "      <td>295.0</td>\n",
       "      <td>[1, 0.059505392912172585, 0.000650842336786174...</td>\n",
       "      <td>1.0</td>\n",
       "      <td>3.5</td>\n",
       "      <td>4.0</td>\n",
       "      <td>3.820570</td>\n",
       "      <td>17.29</td>\n",
       "      <td>792243401</td>\n",
       "      <td>1</td>\n",
       "    </tr>\n",
       "    <tr>\n",
       "      <th>377</th>\n",
       "      <td>476754639</td>\n",
       "      <td>ADOBE DERULO</td>\n",
       "      <td>853983173</td>\n",
       "      <td>Mixed 3/4</td>\n",
       "      <td>2022-12-15</td>\n",
       "      <td>[0, 0, 0, 0, 0, 0, 0, 0, 0, 0, 0, 0, 0, 1, 0, ...</td>\n",
       "      <td>Christchurch (NZ)</td>\n",
       "      <td>295.0</td>\n",
       "      <td>[5, 0.05924232089850652, 0.0008352444679453078...</td>\n",
       "      <td>2.0</td>\n",
       "      <td>10.5</td>\n",
       "      <td>4.0</td>\n",
       "      <td>9.600000</td>\n",
       "      <td>17.54</td>\n",
       "      <td>656365850</td>\n",
       "      <td>5</td>\n",
       "    </tr>\n",
       "    <tr>\n",
       "      <th>378</th>\n",
       "      <td>445020535</td>\n",
       "      <td>MUSTANG MEGAN</td>\n",
       "      <td>853983173</td>\n",
       "      <td>Mixed 3/4</td>\n",
       "      <td>2022-12-15</td>\n",
       "      <td>[0, 0, 0, 0, 0, 0, 0, 0, 0, 0, 0, 0, 0, 1, 0, ...</td>\n",
       "      <td>Christchurch (NZ)</td>\n",
       "      <td>295.0</td>\n",
       "      <td>[2, 0.05959723461195359, 0.0007592204755582947...</td>\n",
       "      <td>3.0</td>\n",
       "      <td>12.9</td>\n",
       "      <td>5.3</td>\n",
       "      <td>13.500000</td>\n",
       "      <td>17.62</td>\n",
       "      <td>576096680</td>\n",
       "      <td>2</td>\n",
       "    </tr>\n",
       "    <tr>\n",
       "      <th>379</th>\n",
       "      <td>638803656</td>\n",
       "      <td>SMASH WAVE</td>\n",
       "      <td>853983173</td>\n",
       "      <td>Mixed 3/4</td>\n",
       "      <td>2022-12-15</td>\n",
       "      <td>[0, 0, 0, 0, 0, 0, 0, 0, 0, 0, 0, 0, 0, 1, 0, ...</td>\n",
       "      <td>Christchurch (NZ)</td>\n",
       "      <td>295.0</td>\n",
       "      <td>[8, 0.05980338983050847, 0.0010763293343808659...</td>\n",
       "      <td>4.0</td>\n",
       "      <td>2.2</td>\n",
       "      <td>5.5</td>\n",
       "      <td>2.800000</td>\n",
       "      <td>17.64</td>\n",
       "      <td>798906627</td>\n",
       "      <td>8</td>\n",
       "    </tr>\n",
       "    <tr>\n",
       "      <th>380</th>\n",
       "      <td>779220879</td>\n",
       "      <td>DIAMOND CHIPPER</td>\n",
       "      <td>853983173</td>\n",
       "      <td>Mixed 3/4</td>\n",
       "      <td>2022-12-15</td>\n",
       "      <td>[0, 0, 0, 0, 0, 0, 0, 0, 0, 0, 0, 0, 0, 1, 0, ...</td>\n",
       "      <td>Christchurch (NZ)</td>\n",
       "      <td>295.0</td>\n",
       "      <td>[7, 0.06023172669491525, 0.0006745950047849696...</td>\n",
       "      <td>5.0</td>\n",
       "      <td>11.1</td>\n",
       "      <td>6.2</td>\n",
       "      <td>15.205160</td>\n",
       "      <td>17.68</td>\n",
       "      <td>807631337</td>\n",
       "      <td>7</td>\n",
       "    </tr>\n",
       "    <tr>\n",
       "      <th>381</th>\n",
       "      <td>775589129</td>\n",
       "      <td>MAXIMA</td>\n",
       "      <td>853983173</td>\n",
       "      <td>Mixed 3/4</td>\n",
       "      <td>2022-12-15</td>\n",
       "      <td>[0, 0, 0, 0, 0, 0, 0, 0, 0, 0, 0, 0, 0, 1, 0, ...</td>\n",
       "      <td>Christchurch (NZ)</td>\n",
       "      <td>295.0</td>\n",
       "      <td>[3, 0.059726392251815974, 0.000937105921985721...</td>\n",
       "      <td>6.0</td>\n",
       "      <td>9.5</td>\n",
       "      <td>7.2</td>\n",
       "      <td>9.245880</td>\n",
       "      <td>17.74</td>\n",
       "      <td>792203747</td>\n",
       "      <td>3</td>\n",
       "    </tr>\n",
       "    <tr>\n",
       "      <th>382</th>\n",
       "      <td>570627038</td>\n",
       "      <td>OHOKA TOREY</td>\n",
       "      <td>853983173</td>\n",
       "      <td>Mixed 3/4</td>\n",
       "      <td>2022-12-15</td>\n",
       "      <td>[0, 0, 0, 0, 0, 0, 0, 0, 0, 0, 0, 0, 0, 1, 0, ...</td>\n",
       "      <td>Christchurch (NZ)</td>\n",
       "      <td>295.0</td>\n",
       "      <td>[6, 0.060035636679704484, 0.000670067671465727...</td>\n",
       "      <td>7.0</td>\n",
       "      <td>31.6</td>\n",
       "      <td>7.7</td>\n",
       "      <td>130.000000</td>\n",
       "      <td>17.78</td>\n",
       "      <td>714824523</td>\n",
       "      <td>6</td>\n",
       "    </tr>\n",
       "    <tr>\n",
       "      <th>383</th>\n",
       "      <td>549372575</td>\n",
       "      <td>HOMEBUSH HONEY</td>\n",
       "      <td>853983173</td>\n",
       "      <td>Mixed 3/4</td>\n",
       "      <td>2022-12-15</td>\n",
       "      <td>[0, 0, 0, 0, 0, 0, 0, 0, 0, 0, 0, 0, 0, 1, 0, ...</td>\n",
       "      <td>Christchurch (NZ)</td>\n",
       "      <td>295.0</td>\n",
       "      <td>[4, 0.05966859485241619, 0.00088453499270112, ...</td>\n",
       "      <td>8.0</td>\n",
       "      <td>19.1</td>\n",
       "      <td>8.7</td>\n",
       "      <td>34.000000</td>\n",
       "      <td>17.84</td>\n",
       "      <td>714932012</td>\n",
       "      <td>4</td>\n",
       "    </tr>\n",
       "    <tr>\n",
       "      <th>384</th>\n",
       "      <td>549372555</td>\n",
       "      <td>IT'S BETTER</td>\n",
       "      <td>853983174</td>\n",
       "      <td>Class 5</td>\n",
       "      <td>2022-12-15</td>\n",
       "      <td>[0, 0, 0, 0, 0, 0, 0, 0, 0, 0, 0, 0, 0, 1, 0, ...</td>\n",
       "      <td>Christchurch (NZ)</td>\n",
       "      <td>295.0</td>\n",
       "      <td>[5, 0.05921658559899783, 0.0008147899025836451...</td>\n",
       "      <td>1.0</td>\n",
       "      <td>18.5</td>\n",
       "      <td>3.5</td>\n",
       "      <td>NaN</td>\n",
       "      <td>17.12</td>\n",
       "      <td>740281866</td>\n",
       "      <td>5</td>\n",
       "    </tr>\n",
       "    <tr>\n",
       "      <th>385</th>\n",
       "      <td>525211348</td>\n",
       "      <td>ALTERNATE SHOT</td>\n",
       "      <td>853983174</td>\n",
       "      <td>Class 5</td>\n",
       "      <td>2022-12-15</td>\n",
       "      <td>[0, 0, 0, 0, 0, 0, 0, 0, 0, 0, 0, 0, 0, 1, 0, ...</td>\n",
       "      <td>Christchurch (NZ)</td>\n",
       "      <td>295.0</td>\n",
       "      <td>[6, 0.0594549509366637, 0.0012385614988584498,...</td>\n",
       "      <td>2.0</td>\n",
       "      <td>2.0</td>\n",
       "      <td>3.5</td>\n",
       "      <td>2.213768</td>\n",
       "      <td>17.34</td>\n",
       "      <td>680665346</td>\n",
       "      <td>6</td>\n",
       "    </tr>\n",
       "    <tr>\n",
       "      <th>386</th>\n",
       "      <td>638803648</td>\n",
       "      <td>SHANE BAXTER</td>\n",
       "      <td>853983174</td>\n",
       "      <td>Class 5</td>\n",
       "      <td>2022-12-15</td>\n",
       "      <td>[0, 0, 0, 0, 0, 0, 0, 0, 0, 0, 0, 0, 0, 1, 0, ...</td>\n",
       "      <td>Christchurch (NZ)</td>\n",
       "      <td>295.0</td>\n",
       "      <td>[2, 0.05977664300545656, 0.0009567480697366995...</td>\n",
       "      <td>3.0</td>\n",
       "      <td>23.3</td>\n",
       "      <td>3.7</td>\n",
       "      <td>20.486238</td>\n",
       "      <td>17.35</td>\n",
       "      <td>792243664</td>\n",
       "      <td>2</td>\n",
       "    </tr>\n",
       "    <tr>\n",
       "      <th>387</th>\n",
       "      <td>550411349</td>\n",
       "      <td>SMASH READY</td>\n",
       "      <td>853983174</td>\n",
       "      <td>Class 5</td>\n",
       "      <td>2022-12-15</td>\n",
       "      <td>[0, 0, 0, 0, 0, 0, 0, 0, 0, 0, 0, 0, 0, 1, 0, ...</td>\n",
       "      <td>Christchurch (NZ)</td>\n",
       "      <td>295.0</td>\n",
       "      <td>[8, 0.05933782920469361, 0.0007509483495092773...</td>\n",
       "      <td>4.0</td>\n",
       "      <td>18.3</td>\n",
       "      <td>5.7</td>\n",
       "      <td>25.000000</td>\n",
       "      <td>17.48</td>\n",
       "      <td>714932218</td>\n",
       "      <td>8</td>\n",
       "    </tr>\n",
       "    <tr>\n",
       "      <th>388</th>\n",
       "      <td>596382398</td>\n",
       "      <td>OPAWA BARNS</td>\n",
       "      <td>853983174</td>\n",
       "      <td>Class 5</td>\n",
       "      <td>2022-12-15</td>\n",
       "      <td>[0, 0, 0, 0, 0, 0, 0, 0, 0, 0, 0, 0, 0, 1, 0, ...</td>\n",
       "      <td>Christchurch (NZ)</td>\n",
       "      <td>295.0</td>\n",
       "      <td>[3, 0.059127889060092455, 0.001045546798277417...</td>\n",
       "      <td>5.0</td>\n",
       "      <td>2.3</td>\n",
       "      <td>5.8</td>\n",
       "      <td>2.894123</td>\n",
       "      <td>17.49</td>\n",
       "      <td>775474994</td>\n",
       "      <td>3</td>\n",
       "    </tr>\n",
       "    <tr>\n",
       "      <th>389</th>\n",
       "      <td>525210837</td>\n",
       "      <td>BARBER CUBED</td>\n",
       "      <td>853983174</td>\n",
       "      <td>Class 5</td>\n",
       "      <td>2022-12-15</td>\n",
       "      <td>[0, 0, 0, 0, 0, 0, 0, 0, 0, 0, 0, 0, 0, 1, 0, ...</td>\n",
       "      <td>Christchurch (NZ)</td>\n",
       "      <td>295.0</td>\n",
       "      <td>[7, 0.059444734173547724, 0.000942820244799713...</td>\n",
       "      <td>6.0</td>\n",
       "      <td>25.2</td>\n",
       "      <td>8.3</td>\n",
       "      <td>44.000000</td>\n",
       "      <td>17.64</td>\n",
       "      <td>707237837</td>\n",
       "      <td>7</td>\n",
       "    </tr>\n",
       "    <tr>\n",
       "      <th>390</th>\n",
       "      <td>504048112</td>\n",
       "      <td>GOLDSTAR LARSON</td>\n",
       "      <td>853983174</td>\n",
       "      <td>Class 5</td>\n",
       "      <td>2022-12-15</td>\n",
       "      <td>[0, 0, 0, 0, 0, 0, 0, 0, 0, 0, 0, 0, 0, 1, 0, ...</td>\n",
       "      <td>Christchurch (NZ)</td>\n",
       "      <td>295.0</td>\n",
       "      <td>[1, 0.059455802140216285, 0.000899128921118858...</td>\n",
       "      <td>7.0</td>\n",
       "      <td>12.7</td>\n",
       "      <td>11.8</td>\n",
       "      <td>18.500000</td>\n",
       "      <td>17.86</td>\n",
       "      <td>677734289</td>\n",
       "      <td>1</td>\n",
       "    </tr>\n",
       "    <tr>\n",
       "      <th>391</th>\n",
       "      <td>549390088</td>\n",
       "      <td>CHATTY MAVIS</td>\n",
       "      <td>853983175</td>\n",
       "      <td>Class 3</td>\n",
       "      <td>2022-12-15</td>\n",
       "      <td>[0, 0, 0, 0, 0, 0, 0, 0, 0, 0, 0, 0, 0, 1, 0, ...</td>\n",
       "      <td>Christchurch (NZ)</td>\n",
       "      <td>295.0</td>\n",
       "      <td>[1, 0.05852697186681952, 0.0006877405959568688...</td>\n",
       "      <td>1.0</td>\n",
       "      <td>1.5</td>\n",
       "      <td>7.3</td>\n",
       "      <td>1.555405</td>\n",
       "      <td>17.46</td>\n",
       "      <td>725765134</td>\n",
       "      <td>1</td>\n",
       "    </tr>\n",
       "    <tr>\n",
       "      <th>392</th>\n",
       "      <td>540582251</td>\n",
       "      <td>SOZIN'S QUEEN</td>\n",
       "      <td>853983175</td>\n",
       "      <td>Class 3</td>\n",
       "      <td>2022-12-15</td>\n",
       "      <td>[0, 0, 0, 0, 0, 0, 0, 0, 0, 0, 0, 0, 0, 1, 0, ...</td>\n",
       "      <td>Christchurch (NZ)</td>\n",
       "      <td>295.0</td>\n",
       "      <td>[2, 0.06002939562984021, 0.0007152437708083766...</td>\n",
       "      <td>2.0</td>\n",
       "      <td>23.8</td>\n",
       "      <td>7.3</td>\n",
       "      <td>NaN</td>\n",
       "      <td>17.92</td>\n",
       "      <td>694780427</td>\n",
       "      <td>2</td>\n",
       "    </tr>\n",
       "  </tbody>\n",
       "</table>\n",
       "</div>"
      ],
      "text/plain": [
       "         dogid          dog_name     raceid race_grade       date  \\\n",
       "368  451768424    GOLDSTAR LINDA  853983172    Class 3 2022-12-15   \n",
       "369  410839595   HOMEBUSH GLITCH  853983172    Class 3 2022-12-15   \n",
       "370  550411338      SAPPORO BALE  853983172    Class 3 2022-12-15   \n",
       "371  638803598  HOMEBUSH BENTLEY  853983172    Class 3 2022-12-15   \n",
       "372  351419010     TAIERI TAYLEE  853983172    Class 3 2022-12-15   \n",
       "373  379018103  TIGGERLONG DEMON  853983172    Class 3 2022-12-15   \n",
       "374  634935922   GOLDSTAR GLENYS  853983172    Class 3 2022-12-15   \n",
       "375  523685851      FREE FOR ALL  853983172    Class 3 2022-12-15   \n",
       "376  534921216       ORISHA BALE  853983173  Mixed 3/4 2022-12-15   \n",
       "377  476754639      ADOBE DERULO  853983173  Mixed 3/4 2022-12-15   \n",
       "378  445020535     MUSTANG MEGAN  853983173  Mixed 3/4 2022-12-15   \n",
       "379  638803656        SMASH WAVE  853983173  Mixed 3/4 2022-12-15   \n",
       "380  779220879   DIAMOND CHIPPER  853983173  Mixed 3/4 2022-12-15   \n",
       "381  775589129            MAXIMA  853983173  Mixed 3/4 2022-12-15   \n",
       "382  570627038       OHOKA TOREY  853983173  Mixed 3/4 2022-12-15   \n",
       "383  549372575    HOMEBUSH HONEY  853983173  Mixed 3/4 2022-12-15   \n",
       "384  549372555       IT'S BETTER  853983174    Class 5 2022-12-15   \n",
       "385  525211348    ALTERNATE SHOT  853983174    Class 5 2022-12-15   \n",
       "386  638803648      SHANE BAXTER  853983174    Class 5 2022-12-15   \n",
       "387  550411349       SMASH READY  853983174    Class 5 2022-12-15   \n",
       "388  596382398       OPAWA BARNS  853983174    Class 5 2022-12-15   \n",
       "389  525210837      BARBER CUBED  853983174    Class 5 2022-12-15   \n",
       "390  504048112   GOLDSTAR LARSON  853983174    Class 5 2022-12-15   \n",
       "391  549390088      CHATTY MAVIS  853983175    Class 3 2022-12-15   \n",
       "392  540582251     SOZIN'S QUEEN  853983175    Class 3 2022-12-15   \n",
       "\n",
       "                                              trackOHE         track_name  \\\n",
       "368  [0, 0, 0, 0, 0, 0, 0, 0, 0, 0, 0, 0, 0, 1, 0, ...  Christchurch (NZ)   \n",
       "369  [0, 0, 0, 0, 0, 0, 0, 0, 0, 0, 0, 0, 0, 1, 0, ...  Christchurch (NZ)   \n",
       "370  [0, 0, 0, 0, 0, 0, 0, 0, 0, 0, 0, 0, 0, 1, 0, ...  Christchurch (NZ)   \n",
       "371  [0, 0, 0, 0, 0, 0, 0, 0, 0, 0, 0, 0, 0, 1, 0, ...  Christchurch (NZ)   \n",
       "372  [0, 0, 0, 0, 0, 0, 0, 0, 0, 0, 0, 0, 0, 1, 0, ...  Christchurch (NZ)   \n",
       "373  [0, 0, 0, 0, 0, 0, 0, 0, 0, 0, 0, 0, 0, 1, 0, ...  Christchurch (NZ)   \n",
       "374  [0, 0, 0, 0, 0, 0, 0, 0, 0, 0, 0, 0, 0, 1, 0, ...  Christchurch (NZ)   \n",
       "375  [0, 0, 0, 0, 0, 0, 0, 0, 0, 0, 0, 0, 0, 1, 0, ...  Christchurch (NZ)   \n",
       "376  [0, 0, 0, 0, 0, 0, 0, 0, 0, 0, 0, 0, 0, 1, 0, ...  Christchurch (NZ)   \n",
       "377  [0, 0, 0, 0, 0, 0, 0, 0, 0, 0, 0, 0, 0, 1, 0, ...  Christchurch (NZ)   \n",
       "378  [0, 0, 0, 0, 0, 0, 0, 0, 0, 0, 0, 0, 0, 1, 0, ...  Christchurch (NZ)   \n",
       "379  [0, 0, 0, 0, 0, 0, 0, 0, 0, 0, 0, 0, 0, 1, 0, ...  Christchurch (NZ)   \n",
       "380  [0, 0, 0, 0, 0, 0, 0, 0, 0, 0, 0, 0, 0, 1, 0, ...  Christchurch (NZ)   \n",
       "381  [0, 0, 0, 0, 0, 0, 0, 0, 0, 0, 0, 0, 0, 1, 0, ...  Christchurch (NZ)   \n",
       "382  [0, 0, 0, 0, 0, 0, 0, 0, 0, 0, 0, 0, 0, 1, 0, ...  Christchurch (NZ)   \n",
       "383  [0, 0, 0, 0, 0, 0, 0, 0, 0, 0, 0, 0, 0, 1, 0, ...  Christchurch (NZ)   \n",
       "384  [0, 0, 0, 0, 0, 0, 0, 0, 0, 0, 0, 0, 0, 1, 0, ...  Christchurch (NZ)   \n",
       "385  [0, 0, 0, 0, 0, 0, 0, 0, 0, 0, 0, 0, 0, 1, 0, ...  Christchurch (NZ)   \n",
       "386  [0, 0, 0, 0, 0, 0, 0, 0, 0, 0, 0, 0, 0, 1, 0, ...  Christchurch (NZ)   \n",
       "387  [0, 0, 0, 0, 0, 0, 0, 0, 0, 0, 0, 0, 0, 1, 0, ...  Christchurch (NZ)   \n",
       "388  [0, 0, 0, 0, 0, 0, 0, 0, 0, 0, 0, 0, 0, 1, 0, ...  Christchurch (NZ)   \n",
       "389  [0, 0, 0, 0, 0, 0, 0, 0, 0, 0, 0, 0, 0, 1, 0, ...  Christchurch (NZ)   \n",
       "390  [0, 0, 0, 0, 0, 0, 0, 0, 0, 0, 0, 0, 0, 1, 0, ...  Christchurch (NZ)   \n",
       "391  [0, 0, 0, 0, 0, 0, 0, 0, 0, 0, 0, 0, 0, 1, 0, ...  Christchurch (NZ)   \n",
       "392  [0, 0, 0, 0, 0, 0, 0, 0, 0, 0, 0, 0, 0, 1, 0, ...  Christchurch (NZ)   \n",
       "\n",
       "      dist                                              stats  place  \\\n",
       "368  295.0  [1, 0.0581798035141873, 0.007221768971605164, ...    1.0   \n",
       "369  295.0  [6, 0.05982413443430391, 0.001214426250067608,...    2.0   \n",
       "370  295.0  [4, 0.060308019842910295, 0.000976294641085533...    3.0   \n",
       "371  295.0  [8, 0.0599098810793726, 0.000711141215879643, ...    4.0   \n",
       "372  295.0  [7, 0.05943857272670832, 0.000765692858808701,...    5.0   \n",
       "373  295.0  [2, 0.05942425114924862, 0.0007297383630911877...    6.0   \n",
       "374  295.0  [5, 0.06023582050418863, 0.0007683513138660465...    7.0   \n",
       "375  295.0  [3, 0.05893631227529532, 0.007390136149442979,...    8.0   \n",
       "376  295.0  [1, 0.059505392912172585, 0.000650842336786174...    1.0   \n",
       "377  295.0  [5, 0.05924232089850652, 0.0008352444679453078...    2.0   \n",
       "378  295.0  [2, 0.05959723461195359, 0.0007592204755582947...    3.0   \n",
       "379  295.0  [8, 0.05980338983050847, 0.0010763293343808659...    4.0   \n",
       "380  295.0  [7, 0.06023172669491525, 0.0006745950047849696...    5.0   \n",
       "381  295.0  [3, 0.059726392251815974, 0.000937105921985721...    6.0   \n",
       "382  295.0  [6, 0.060035636679704484, 0.000670067671465727...    7.0   \n",
       "383  295.0  [4, 0.05966859485241619, 0.00088453499270112, ...    8.0   \n",
       "384  295.0  [5, 0.05921658559899783, 0.0008147899025836451...    1.0   \n",
       "385  295.0  [6, 0.0594549509366637, 0.0012385614988584498,...    2.0   \n",
       "386  295.0  [2, 0.05977664300545656, 0.0009567480697366995...    3.0   \n",
       "387  295.0  [8, 0.05933782920469361, 0.0007509483495092773...    4.0   \n",
       "388  295.0  [3, 0.059127889060092455, 0.001045546798277417...    5.0   \n",
       "389  295.0  [7, 0.059444734173547724, 0.000942820244799713...    6.0   \n",
       "390  295.0  [1, 0.059455802140216285, 0.000899128921118858...    7.0   \n",
       "391  295.0  [1, 0.05852697186681952, 0.0006877405959568688...    1.0   \n",
       "392  295.0  [2, 0.06002939562984021, 0.0007152437708083766...    2.0   \n",
       "\n",
       "     startprice  margin        bfSP runtime  prev_race  box  \n",
       "368         1.9     3.0    2.451261   17.28  614246495    1  \n",
       "369         7.2     3.0    7.000000   17.47  557036045    6  \n",
       "370        18.3     4.3   43.432970   17.55  725645897    4  \n",
       "371        39.8     5.8   70.000000   17.65  798984985    8  \n",
       "372         5.1     6.0    5.700000   17.66  550362250    7  \n",
       "373        12.5     9.3   15.000000   17.87  576079505    2  \n",
       "374         7.9     9.8    7.800000   17.90  795411906    5  \n",
       "375        17.6    10.3   23.467063   17.93  669981821    3  \n",
       "376         3.5     4.0    3.820570   17.29  792243401    1  \n",
       "377        10.5     4.0    9.600000   17.54  656365850    5  \n",
       "378        12.9     5.3   13.500000   17.62  576096680    2  \n",
       "379         2.2     5.5    2.800000   17.64  798906627    8  \n",
       "380        11.1     6.2   15.205160   17.68  807631337    7  \n",
       "381         9.5     7.2    9.245880   17.74  792203747    3  \n",
       "382        31.6     7.7  130.000000   17.78  714824523    6  \n",
       "383        19.1     8.7   34.000000   17.84  714932012    4  \n",
       "384        18.5     3.5         NaN   17.12  740281866    5  \n",
       "385         2.0     3.5    2.213768   17.34  680665346    6  \n",
       "386        23.3     3.7   20.486238   17.35  792243664    2  \n",
       "387        18.3     5.7   25.000000   17.48  714932218    8  \n",
       "388         2.3     5.8    2.894123   17.49  775474994    3  \n",
       "389        25.2     8.3   44.000000   17.64  707237837    7  \n",
       "390        12.7    11.8   18.500000   17.86  677734289    1  \n",
       "391         1.5     7.3    1.555405   17.46  725765134    1  \n",
       "392        23.8     7.3         NaN   17.92  694780427    2  "
      ]
     },
     "execution_count": 26,
     "metadata": {},
     "output_type": "execute_result"
    }
   ],
   "source": [
    "dog_df_pred.head(25)"
   ]
  },
  {
   "cell_type": "code",
   "execution_count": 23,
   "metadata": {},
   "outputs": [
    {
     "data": {
      "text/plain": [
       "3    229\n",
       "2    220\n",
       "1    189\n",
       "4    150\n",
       "5     21\n",
       "6      2\n",
       "Name: dogid, dtype: int64"
      ]
     },
     "execution_count": 23,
     "metadata": {},
     "output_type": "execute_result"
    }
   ],
   "source": [
    "dog_df_pred.dogid.value_counts().value_counts()"
   ]
  },
  {
   "cell_type": "code",
   "execution_count": 17,
   "metadata": {},
   "outputs": [
    {
     "data": {
      "text/plain": [
       "(2033, 16)"
      ]
     },
     "execution_count": 17,
     "metadata": {},
     "output_type": "execute_result"
    }
   ],
   "source": [
    "dog_df_pred.shape"
   ]
  },
  {
   "cell_type": "code",
   "execution_count": 15,
   "metadata": {},
   "outputs": [
    {
     "data": {
      "text/plain": [
       "(280,)"
      ]
     },
     "execution_count": 15,
     "metadata": {},
     "output_type": "execute_result"
    }
   ],
   "source": [
    "dog_df_pred.raceid.value_counts().shape"
   ]
  },
  {
   "cell_type": "code",
   "execution_count": 27,
   "metadata": {},
   "outputs": [],
   "source": [
    "save_path = r\"C:\\Users\\Nick\\Documents\\GitHub\\grvmodel\\Python\\pytorch\\New Model\\savedmodel\\test NZ GRU saver\\test NZ GRU saver_450.pt\"\n",
    "saved_dict = torch.load(save_path)"
   ]
  },
  {
   "cell_type": "code",
   "execution_count": 30,
   "metadata": {},
   "outputs": [
    {
     "name": "stdout",
     "output_type": "stream",
     "text": [
      "gru1.weight_ih \t torch.Size([192, 203])\n",
      "gru1.weight_hh \t torch.Size([192, 64])\n",
      "gru1.bias_ih \t torch.Size([192])\n",
      "gru1.bias_hh \t torch.Size([192])\n",
      "gru2.weight_ih \t torch.Size([192, 203])\n",
      "gru2.weight_hh \t torch.Size([192, 64])\n",
      "gru2.bias_ih \t torch.Size([192])\n",
      "gru2.bias_hh \t torch.Size([192])\n",
      "gru3.weight_ih \t torch.Size([192, 203])\n",
      "gru3.weight_hh \t torch.Size([192, 64])\n",
      "gru3.bias_ih \t torch.Size([192])\n",
      "gru3.bias_hh \t torch.Size([192])\n",
      "gru4.weight_ih \t torch.Size([192, 203])\n",
      "gru4.weight_hh \t torch.Size([192, 64])\n",
      "gru4.bias_ih \t torch.Size([192])\n",
      "gru4.bias_hh \t torch.Size([192])\n",
      "gru5.weight_ih \t torch.Size([192, 203])\n",
      "gru5.weight_hh \t torch.Size([192, 64])\n",
      "gru5.bias_ih \t torch.Size([192])\n",
      "gru5.bias_hh \t torch.Size([192])\n",
      "gru6.weight_ih \t torch.Size([192, 203])\n",
      "gru6.weight_hh \t torch.Size([192, 64])\n",
      "gru6.bias_ih \t torch.Size([192])\n",
      "gru6.bias_hh \t torch.Size([192])\n",
      "gru7.weight_ih \t torch.Size([192, 203])\n",
      "gru7.weight_hh \t torch.Size([192, 64])\n",
      "gru7.bias_ih \t torch.Size([192])\n",
      "gru7.bias_hh \t torch.Size([192])\n",
      "gru8.weight_ih \t torch.Size([192, 203])\n",
      "gru8.weight_hh \t torch.Size([192, 64])\n",
      "gru8.bias_ih \t torch.Size([192])\n",
      "gru8.bias_hh \t torch.Size([192])\n",
      "fc2.weight \t torch.Size([64, 512])\n",
      "fc2.bias \t torch.Size([64])\n",
      "fc3.weight \t torch.Size([8, 64])\n",
      "fc3.bias \t torch.Size([8])\n"
     ]
    }
   ],
   "source": [
    "# saved_dict['model_state_dict']\n",
    "\n",
    "for param_tensor in saved_dict['model_state_dict']:\n",
    "    print(param_tensor, \"\\t\", saved_dict['model_state_dict'][param_tensor].size())"
   ]
  },
  {
   "cell_type": "code",
   "execution_count": 35,
   "metadata": {},
   "outputs": [
    {
     "data": {
      "text/plain": [
       "203"
      ]
     },
     "execution_count": 35,
     "metadata": {},
     "output_type": "execute_result"
    }
   ],
   "source": [
    "saved_dict['model_state_dict']['gru1.weight_ih'].shape[1]"
   ]
  },
  {
   "cell_type": "code",
   "execution_count": null,
   "metadata": {},
   "outputs": [
    {
     "name": "stdout",
     "output_type": "stream",
     "text": [
      "74 74\n",
      "16 16\n"
     ]
    }
   ],
   "source": [
    "print(len(dog_df.trackOHE.iloc[0]),len(dog_df_pred.trackOHE.iloc[0]))\n",
    "print(len(dog_df.stats.iloc[0]),len(dog_df_pred.stats.iloc[0]))"
   ]
  },
  {
   "cell_type": "code",
   "execution_count": null,
   "metadata": {},
   "outputs": [],
   "source": [
    "dog_groups = dog_df.groupby('dogid').apply(lambda x: x.date.diff().fillna(pd.Timedelta(seconds=0))).mean()\n",
    "\n",
    "\n",
    "# for i,j in dog_groups:\n",
    "#     print(j.date.diff().fillna(pd.Timedelta(seconds=0)).mean())\n"
   ]
  },
  {
   "cell_type": "code",
   "execution_count": null,
   "metadata": {},
   "outputs": [],
   "source": [
    "lossdf = pd.read_csv('logDFtest.csv')"
   ]
  },
  {
   "cell_type": "code",
   "execution_count": null,
   "metadata": {},
   "outputs": [],
   "source": [
    "lossdf['count'] = 1"
   ]
  },
  {
   "cell_type": "code",
   "execution_count": null,
   "metadata": {},
   "outputs": [
    {
     "data": {
      "text/html": [
       "<div>\n",
       "<style scoped>\n",
       "    .dataframe tbody tr th:only-of-type {\n",
       "        vertical-align: middle;\n",
       "    }\n",
       "\n",
       "    .dataframe tbody tr th {\n",
       "        vertical-align: top;\n",
       "    }\n",
       "\n",
       "    .dataframe thead th {\n",
       "        text-align: right;\n",
       "    }\n",
       "</style>\n",
       "<table border=\"1\" class=\"dataframe\">\n",
       "  <thead>\n",
       "    <tr style=\"text-align: right;\">\n",
       "      <th></th>\n",
       "      <th>Unnamed: 0</th>\n",
       "      <th>actuals</th>\n",
       "      <th>preds</th>\n",
       "      <th>conf</th>\n",
       "      <th>grade</th>\n",
       "      <th>track</th>\n",
       "      <th>bfsps</th>\n",
       "      <th>profit</th>\n",
       "      <th>count</th>\n",
       "    </tr>\n",
       "  </thead>\n",
       "  <tbody>\n",
       "    <tr>\n",
       "      <th>0</th>\n",
       "      <td>0</td>\n",
       "      <td>3</td>\n",
       "      <td>0</td>\n",
       "      <td>-1.892037</td>\n",
       "      <td>Class 1</td>\n",
       "      <td>Palmerston Nth (NZ)</td>\n",
       "      <td>-1.0</td>\n",
       "      <td>0.0</td>\n",
       "      <td>1</td>\n",
       "    </tr>\n",
       "    <tr>\n",
       "      <th>1</th>\n",
       "      <td>1</td>\n",
       "      <td>0</td>\n",
       "      <td>0</td>\n",
       "      <td>-1.858021</td>\n",
       "      <td>Class 4 Final</td>\n",
       "      <td>Auckland (NZ)</td>\n",
       "      <td>-1.0</td>\n",
       "      <td>0.0</td>\n",
       "      <td>1</td>\n",
       "    </tr>\n",
       "    <tr>\n",
       "      <th>2</th>\n",
       "      <td>2</td>\n",
       "      <td>0</td>\n",
       "      <td>1</td>\n",
       "      <td>-1.935275</td>\n",
       "      <td>Maiden</td>\n",
       "      <td>Wanganui (NZ)</td>\n",
       "      <td>-1.0</td>\n",
       "      <td>0.0</td>\n",
       "      <td>1</td>\n",
       "    </tr>\n",
       "    <tr>\n",
       "      <th>3</th>\n",
       "      <td>3</td>\n",
       "      <td>0</td>\n",
       "      <td>1</td>\n",
       "      <td>-1.956976</td>\n",
       "      <td>Class 1</td>\n",
       "      <td>Wanganui (NZ)</td>\n",
       "      <td>-1.0</td>\n",
       "      <td>0.0</td>\n",
       "      <td>1</td>\n",
       "    </tr>\n",
       "    <tr>\n",
       "      <th>4</th>\n",
       "      <td>4</td>\n",
       "      <td>3</td>\n",
       "      <td>1</td>\n",
       "      <td>-1.929416</td>\n",
       "      <td>Class 2</td>\n",
       "      <td>Palmerston Nth (NZ)</td>\n",
       "      <td>-1.0</td>\n",
       "      <td>0.0</td>\n",
       "      <td>1</td>\n",
       "    </tr>\n",
       "    <tr>\n",
       "      <th>...</th>\n",
       "      <td>...</td>\n",
       "      <td>...</td>\n",
       "      <td>...</td>\n",
       "      <td>...</td>\n",
       "      <td>...</td>\n",
       "      <td>...</td>\n",
       "      <td>...</td>\n",
       "      <td>...</td>\n",
       "      <td>...</td>\n",
       "    </tr>\n",
       "    <tr>\n",
       "      <th>1395</th>\n",
       "      <td>1395</td>\n",
       "      <td>3</td>\n",
       "      <td>1</td>\n",
       "      <td>-1.973121</td>\n",
       "      <td>Class 2</td>\n",
       "      <td>Christchurch (NZ)</td>\n",
       "      <td>-1.0</td>\n",
       "      <td>0.0</td>\n",
       "      <td>1</td>\n",
       "    </tr>\n",
       "    <tr>\n",
       "      <th>1396</th>\n",
       "      <td>1396</td>\n",
       "      <td>7</td>\n",
       "      <td>6</td>\n",
       "      <td>-1.972819</td>\n",
       "      <td>Class 1</td>\n",
       "      <td>Christchurch (NZ)</td>\n",
       "      <td>-1.0</td>\n",
       "      <td>0.0</td>\n",
       "      <td>1</td>\n",
       "    </tr>\n",
       "    <tr>\n",
       "      <th>1397</th>\n",
       "      <td>1397</td>\n",
       "      <td>4</td>\n",
       "      <td>0</td>\n",
       "      <td>-1.970201</td>\n",
       "      <td>Class 4</td>\n",
       "      <td>Christchurch (NZ)</td>\n",
       "      <td>-1.0</td>\n",
       "      <td>0.0</td>\n",
       "      <td>1</td>\n",
       "    </tr>\n",
       "    <tr>\n",
       "      <th>1398</th>\n",
       "      <td>1398</td>\n",
       "      <td>2</td>\n",
       "      <td>0</td>\n",
       "      <td>-1.954375</td>\n",
       "      <td>Mixed Grade 1/2</td>\n",
       "      <td>Palmerston Nth (NZ)</td>\n",
       "      <td>-1.0</td>\n",
       "      <td>0.0</td>\n",
       "      <td>1</td>\n",
       "    </tr>\n",
       "    <tr>\n",
       "      <th>1399</th>\n",
       "      <td>1399</td>\n",
       "      <td>2</td>\n",
       "      <td>1</td>\n",
       "      <td>-1.883651</td>\n",
       "      <td>Maiden</td>\n",
       "      <td>Christchurch (NZ)</td>\n",
       "      <td>-1.0</td>\n",
       "      <td>0.0</td>\n",
       "      <td>1</td>\n",
       "    </tr>\n",
       "  </tbody>\n",
       "</table>\n",
       "<p>1400 rows × 9 columns</p>\n",
       "</div>"
      ],
      "text/plain": [
       "      Unnamed: 0  actuals  preds      conf            grade  \\\n",
       "0              0        3      0 -1.892037          Class 1   \n",
       "1              1        0      0 -1.858021    Class 4 Final   \n",
       "2              2        0      1 -1.935275           Maiden   \n",
       "3              3        0      1 -1.956976          Class 1   \n",
       "4              4        3      1 -1.929416          Class 2   \n",
       "...          ...      ...    ...       ...              ...   \n",
       "1395        1395        3      1 -1.973121          Class 2   \n",
       "1396        1396        7      6 -1.972819          Class 1   \n",
       "1397        1397        4      0 -1.970201          Class 4   \n",
       "1398        1398        2      0 -1.954375  Mixed Grade 1/2   \n",
       "1399        1399        2      1 -1.883651           Maiden   \n",
       "\n",
       "                    track  bfsps  profit  count  \n",
       "0     Palmerston Nth (NZ)   -1.0     0.0      1  \n",
       "1           Auckland (NZ)   -1.0     0.0      1  \n",
       "2           Wanganui (NZ)   -1.0     0.0      1  \n",
       "3           Wanganui (NZ)   -1.0     0.0      1  \n",
       "4     Palmerston Nth (NZ)   -1.0     0.0      1  \n",
       "...                   ...    ...     ...    ...  \n",
       "1395    Christchurch (NZ)   -1.0     0.0      1  \n",
       "1396    Christchurch (NZ)   -1.0     0.0      1  \n",
       "1397    Christchurch (NZ)   -1.0     0.0      1  \n",
       "1398  Palmerston Nth (NZ)   -1.0     0.0      1  \n",
       "1399    Christchurch (NZ)   -1.0     0.0      1  \n",
       "\n",
       "[1400 rows x 9 columns]"
      ]
     },
     "execution_count": 14,
     "metadata": {},
     "output_type": "execute_result"
    }
   ],
   "source": [
    "lossdf"
   ]
  },
  {
   "cell_type": "code",
   "execution_count": null,
   "metadata": {},
   "outputs": [],
   "source": [
    "lossdf['correct'] = lossdf.apply(lambda x: 1 if x['actuals']==x['preds'] else 0 , axis=1)"
   ]
  },
  {
   "cell_type": "code",
   "execution_count": null,
   "metadata": {},
   "outputs": [
    {
     "data": {
      "text/html": [
       "<div>\n",
       "<style scoped>\n",
       "    .dataframe tbody tr th:only-of-type {\n",
       "        vertical-align: middle;\n",
       "    }\n",
       "\n",
       "    .dataframe tbody tr th {\n",
       "        vertical-align: top;\n",
       "    }\n",
       "\n",
       "    .dataframe thead th {\n",
       "        text-align: right;\n",
       "    }\n",
       "</style>\n",
       "<table border=\"1\" class=\"dataframe\">\n",
       "  <thead>\n",
       "    <tr style=\"text-align: right;\">\n",
       "      <th></th>\n",
       "      <th>Unnamed: 0</th>\n",
       "      <th>actuals</th>\n",
       "      <th>preds</th>\n",
       "      <th>conf</th>\n",
       "      <th>grade</th>\n",
       "      <th>track</th>\n",
       "      <th>bfsps</th>\n",
       "      <th>profit</th>\n",
       "      <th>count</th>\n",
       "      <th>correct</th>\n",
       "    </tr>\n",
       "  </thead>\n",
       "  <tbody>\n",
       "    <tr>\n",
       "      <th>0</th>\n",
       "      <td>0</td>\n",
       "      <td>3</td>\n",
       "      <td>0</td>\n",
       "      <td>-1.892037</td>\n",
       "      <td>Class 1</td>\n",
       "      <td>Palmerston Nth (NZ)</td>\n",
       "      <td>-1.0</td>\n",
       "      <td>0.0</td>\n",
       "      <td>1</td>\n",
       "      <td>0</td>\n",
       "    </tr>\n",
       "    <tr>\n",
       "      <th>1</th>\n",
       "      <td>1</td>\n",
       "      <td>0</td>\n",
       "      <td>0</td>\n",
       "      <td>-1.858021</td>\n",
       "      <td>Class 4 Final</td>\n",
       "      <td>Auckland (NZ)</td>\n",
       "      <td>-1.0</td>\n",
       "      <td>0.0</td>\n",
       "      <td>1</td>\n",
       "      <td>1</td>\n",
       "    </tr>\n",
       "    <tr>\n",
       "      <th>2</th>\n",
       "      <td>2</td>\n",
       "      <td>0</td>\n",
       "      <td>1</td>\n",
       "      <td>-1.935275</td>\n",
       "      <td>Maiden</td>\n",
       "      <td>Wanganui (NZ)</td>\n",
       "      <td>-1.0</td>\n",
       "      <td>0.0</td>\n",
       "      <td>1</td>\n",
       "      <td>0</td>\n",
       "    </tr>\n",
       "    <tr>\n",
       "      <th>3</th>\n",
       "      <td>3</td>\n",
       "      <td>0</td>\n",
       "      <td>1</td>\n",
       "      <td>-1.956976</td>\n",
       "      <td>Class 1</td>\n",
       "      <td>Wanganui (NZ)</td>\n",
       "      <td>-1.0</td>\n",
       "      <td>0.0</td>\n",
       "      <td>1</td>\n",
       "      <td>0</td>\n",
       "    </tr>\n",
       "    <tr>\n",
       "      <th>4</th>\n",
       "      <td>4</td>\n",
       "      <td>3</td>\n",
       "      <td>1</td>\n",
       "      <td>-1.929416</td>\n",
       "      <td>Class 2</td>\n",
       "      <td>Palmerston Nth (NZ)</td>\n",
       "      <td>-1.0</td>\n",
       "      <td>0.0</td>\n",
       "      <td>1</td>\n",
       "      <td>0</td>\n",
       "    </tr>\n",
       "    <tr>\n",
       "      <th>...</th>\n",
       "      <td>...</td>\n",
       "      <td>...</td>\n",
       "      <td>...</td>\n",
       "      <td>...</td>\n",
       "      <td>...</td>\n",
       "      <td>...</td>\n",
       "      <td>...</td>\n",
       "      <td>...</td>\n",
       "      <td>...</td>\n",
       "      <td>...</td>\n",
       "    </tr>\n",
       "    <tr>\n",
       "      <th>1395</th>\n",
       "      <td>1395</td>\n",
       "      <td>3</td>\n",
       "      <td>1</td>\n",
       "      <td>-1.973121</td>\n",
       "      <td>Class 2</td>\n",
       "      <td>Christchurch (NZ)</td>\n",
       "      <td>-1.0</td>\n",
       "      <td>0.0</td>\n",
       "      <td>1</td>\n",
       "      <td>0</td>\n",
       "    </tr>\n",
       "    <tr>\n",
       "      <th>1396</th>\n",
       "      <td>1396</td>\n",
       "      <td>7</td>\n",
       "      <td>6</td>\n",
       "      <td>-1.972819</td>\n",
       "      <td>Class 1</td>\n",
       "      <td>Christchurch (NZ)</td>\n",
       "      <td>-1.0</td>\n",
       "      <td>0.0</td>\n",
       "      <td>1</td>\n",
       "      <td>0</td>\n",
       "    </tr>\n",
       "    <tr>\n",
       "      <th>1397</th>\n",
       "      <td>1397</td>\n",
       "      <td>4</td>\n",
       "      <td>0</td>\n",
       "      <td>-1.970201</td>\n",
       "      <td>Class 4</td>\n",
       "      <td>Christchurch (NZ)</td>\n",
       "      <td>-1.0</td>\n",
       "      <td>0.0</td>\n",
       "      <td>1</td>\n",
       "      <td>0</td>\n",
       "    </tr>\n",
       "    <tr>\n",
       "      <th>1398</th>\n",
       "      <td>1398</td>\n",
       "      <td>2</td>\n",
       "      <td>0</td>\n",
       "      <td>-1.954375</td>\n",
       "      <td>Mixed Grade 1/2</td>\n",
       "      <td>Palmerston Nth (NZ)</td>\n",
       "      <td>-1.0</td>\n",
       "      <td>0.0</td>\n",
       "      <td>1</td>\n",
       "      <td>0</td>\n",
       "    </tr>\n",
       "    <tr>\n",
       "      <th>1399</th>\n",
       "      <td>1399</td>\n",
       "      <td>2</td>\n",
       "      <td>1</td>\n",
       "      <td>-1.883651</td>\n",
       "      <td>Maiden</td>\n",
       "      <td>Christchurch (NZ)</td>\n",
       "      <td>-1.0</td>\n",
       "      <td>0.0</td>\n",
       "      <td>1</td>\n",
       "      <td>0</td>\n",
       "    </tr>\n",
       "  </tbody>\n",
       "</table>\n",
       "<p>1400 rows × 10 columns</p>\n",
       "</div>"
      ],
      "text/plain": [
       "      Unnamed: 0  actuals  preds      conf            grade  \\\n",
       "0              0        3      0 -1.892037          Class 1   \n",
       "1              1        0      0 -1.858021    Class 4 Final   \n",
       "2              2        0      1 -1.935275           Maiden   \n",
       "3              3        0      1 -1.956976          Class 1   \n",
       "4              4        3      1 -1.929416          Class 2   \n",
       "...          ...      ...    ...       ...              ...   \n",
       "1395        1395        3      1 -1.973121          Class 2   \n",
       "1396        1396        7      6 -1.972819          Class 1   \n",
       "1397        1397        4      0 -1.970201          Class 4   \n",
       "1398        1398        2      0 -1.954375  Mixed Grade 1/2   \n",
       "1399        1399        2      1 -1.883651           Maiden   \n",
       "\n",
       "                    track  bfsps  profit  count  correct  \n",
       "0     Palmerston Nth (NZ)   -1.0     0.0      1        0  \n",
       "1           Auckland (NZ)   -1.0     0.0      1        1  \n",
       "2           Wanganui (NZ)   -1.0     0.0      1        0  \n",
       "3           Wanganui (NZ)   -1.0     0.0      1        0  \n",
       "4     Palmerston Nth (NZ)   -1.0     0.0      1        0  \n",
       "...                   ...    ...     ...    ...      ...  \n",
       "1395    Christchurch (NZ)   -1.0     0.0      1        0  \n",
       "1396    Christchurch (NZ)   -1.0     0.0      1        0  \n",
       "1397    Christchurch (NZ)   -1.0     0.0      1        0  \n",
       "1398  Palmerston Nth (NZ)   -1.0     0.0      1        0  \n",
       "1399    Christchurch (NZ)   -1.0     0.0      1        0  \n",
       "\n",
       "[1400 rows x 10 columns]"
      ]
     },
     "execution_count": 21,
     "metadata": {},
     "output_type": "execute_result"
    }
   ],
   "source": [
    "lossdf"
   ]
  },
  {
   "cell_type": "code",
   "execution_count": null,
   "metadata": {},
   "outputs": [],
   "source": [
    "lossdf['profit'] = lossdf.apply(lambda x: 0 if x['bfsps']<1 else x['bfsps']-1  if x['correct'] else -1, axis=1)"
   ]
  },
  {
   "cell_type": "code",
   "execution_count": null,
   "metadata": {},
   "outputs": [],
   "source": [
    "lossdf.head(50)"
   ]
  },
  {
   "cell_type": "code",
   "execution_count": null,
   "metadata": {},
   "outputs": [
    {
     "data": {
      "text/html": [
       "<div>\n",
       "<style scoped>\n",
       "    .dataframe tbody tr th:only-of-type {\n",
       "        vertical-align: middle;\n",
       "    }\n",
       "\n",
       "    .dataframe tbody tr th {\n",
       "        vertical-align: top;\n",
       "    }\n",
       "\n",
       "    .dataframe thead th {\n",
       "        text-align: right;\n",
       "    }\n",
       "</style>\n",
       "<table border=\"1\" class=\"dataframe\">\n",
       "  <thead>\n",
       "    <tr style=\"text-align: right;\">\n",
       "      <th></th>\n",
       "      <th>track</th>\n",
       "      <th>Unnamed: 0</th>\n",
       "      <th>actuals</th>\n",
       "      <th>preds</th>\n",
       "      <th>conf</th>\n",
       "      <th>bfsps</th>\n",
       "      <th>profit</th>\n",
       "      <th>count</th>\n",
       "      <th>correct</th>\n",
       "      <th>return</th>\n",
       "    </tr>\n",
       "  </thead>\n",
       "  <tbody>\n",
       "    <tr>\n",
       "      <th>0</th>\n",
       "      <td>Auckland (NZ)</td>\n",
       "      <td>108462</td>\n",
       "      <td>504</td>\n",
       "      <td>356</td>\n",
       "      <td>-313.361808</td>\n",
       "      <td>406.665742</td>\n",
       "      <td>433.665742</td>\n",
       "      <td>161</td>\n",
       "      <td>18</td>\n",
       "      <td>-52.240323</td>\n",
       "    </tr>\n",
       "    <tr>\n",
       "      <th>1</th>\n",
       "      <td>Christchurch (NZ)</td>\n",
       "      <td>424615</td>\n",
       "      <td>1691</td>\n",
       "      <td>1344</td>\n",
       "      <td>-1134.011454</td>\n",
       "      <td>2170.192935</td>\n",
       "      <td>2206.192935</td>\n",
       "      <td>582</td>\n",
       "      <td>79</td>\n",
       "      <td>-160.848007</td>\n",
       "    </tr>\n",
       "    <tr>\n",
       "      <th>2</th>\n",
       "      <td>Otago (NZ)</td>\n",
       "      <td>2655</td>\n",
       "      <td>11</td>\n",
       "      <td>6</td>\n",
       "      <td>-3.921843</td>\n",
       "      <td>6.587735</td>\n",
       "      <td>6.587735</td>\n",
       "      <td>2</td>\n",
       "      <td>0</td>\n",
       "      <td>-1.000000</td>\n",
       "    </tr>\n",
       "    <tr>\n",
       "      <th>3</th>\n",
       "      <td>Palmerston Nth (NZ)</td>\n",
       "      <td>163765</td>\n",
       "      <td>707</td>\n",
       "      <td>527</td>\n",
       "      <td>-395.297850</td>\n",
       "      <td>707.991879</td>\n",
       "      <td>674.991879</td>\n",
       "      <td>203</td>\n",
       "      <td>15</td>\n",
       "      <td>-58.529187</td>\n",
       "    </tr>\n",
       "    <tr>\n",
       "      <th>4</th>\n",
       "      <td>Southland (NZ)</td>\n",
       "      <td>57152</td>\n",
       "      <td>277</td>\n",
       "      <td>210</td>\n",
       "      <td>-159.392282</td>\n",
       "      <td>280.675819</td>\n",
       "      <td>290.675819</td>\n",
       "      <td>82</td>\n",
       "      <td>12</td>\n",
       "      <td>-11.952603</td>\n",
       "    </tr>\n",
       "    <tr>\n",
       "      <th>5</th>\n",
       "      <td>Taranaki (NZ)</td>\n",
       "      <td>511</td>\n",
       "      <td>3</td>\n",
       "      <td>7</td>\n",
       "      <td>-3.884429</td>\n",
       "      <td>-2.000000</td>\n",
       "      <td>0.000000</td>\n",
       "      <td>2</td>\n",
       "      <td>1</td>\n",
       "      <td>0.000000</td>\n",
       "    </tr>\n",
       "    <tr>\n",
       "      <th>6</th>\n",
       "      <td>Tokoroa (NZ)</td>\n",
       "      <td>264</td>\n",
       "      <td>6</td>\n",
       "      <td>1</td>\n",
       "      <td>-1.907290</td>\n",
       "      <td>-1.000000</td>\n",
       "      <td>0.000000</td>\n",
       "      <td>1</td>\n",
       "      <td>0</td>\n",
       "      <td>0.000000</td>\n",
       "    </tr>\n",
       "    <tr>\n",
       "      <th>7</th>\n",
       "      <td>Waikato (NZ)</td>\n",
       "      <td>110829</td>\n",
       "      <td>498</td>\n",
       "      <td>322</td>\n",
       "      <td>-294.086931</td>\n",
       "      <td>505.410668</td>\n",
       "      <td>498.410668</td>\n",
       "      <td>151</td>\n",
       "      <td>25</td>\n",
       "      <td>-2.420617</td>\n",
       "    </tr>\n",
       "    <tr>\n",
       "      <th>8</th>\n",
       "      <td>Wanganui (NZ)</td>\n",
       "      <td>111047</td>\n",
       "      <td>701</td>\n",
       "      <td>500</td>\n",
       "      <td>-419.132124</td>\n",
       "      <td>575.837195</td>\n",
       "      <td>607.837195</td>\n",
       "      <td>216</td>\n",
       "      <td>34</td>\n",
       "      <td>4.400872</td>\n",
       "    </tr>\n",
       "  </tbody>\n",
       "</table>\n",
       "</div>"
      ],
      "text/plain": [
       "                 track  Unnamed: 0  actuals  preds         conf        bfsps  \\\n",
       "0        Auckland (NZ)      108462      504    356  -313.361808   406.665742   \n",
       "1    Christchurch (NZ)      424615     1691   1344 -1134.011454  2170.192935   \n",
       "2           Otago (NZ)        2655       11      6    -3.921843     6.587735   \n",
       "3  Palmerston Nth (NZ)      163765      707    527  -395.297850   707.991879   \n",
       "4       Southland (NZ)       57152      277    210  -159.392282   280.675819   \n",
       "5        Taranaki (NZ)         511        3      7    -3.884429    -2.000000   \n",
       "6         Tokoroa (NZ)         264        6      1    -1.907290    -1.000000   \n",
       "7         Waikato (NZ)      110829      498    322  -294.086931   505.410668   \n",
       "8        Wanganui (NZ)      111047      701    500  -419.132124   575.837195   \n",
       "\n",
       "        profit  count  correct      return  \n",
       "0   433.665742    161       18  -52.240323  \n",
       "1  2206.192935    582       79 -160.848007  \n",
       "2     6.587735      2        0   -1.000000  \n",
       "3   674.991879    203       15  -58.529187  \n",
       "4   290.675819     82       12  -11.952603  \n",
       "5     0.000000      2        1    0.000000  \n",
       "6     0.000000      1        0    0.000000  \n",
       "7   498.410668    151       25   -2.420617  \n",
       "8   607.837195    216       34    4.400872  "
      ]
     },
     "execution_count": 29,
     "metadata": {},
     "output_type": "execute_result"
    }
   ],
   "source": [
    "track_df = lossdf.groupby('track', as_index='False').sum()\n",
    "track_df.reset_index()"
   ]
  },
  {
   "cell_type": "code",
   "execution_count": null,
   "metadata": {},
   "outputs": [
    {
     "ename": "ValueError",
     "evalue": "Index contains duplicate entries, cannot reshape",
     "output_type": "error",
     "traceback": [
      "\u001b[1;31m---------------------------------------------------------------------------\u001b[0m",
      "\u001b[1;31mValueError\u001b[0m                                Traceback (most recent call last)",
      "\u001b[1;32mc:\\Users\\Nick\\Documents\\GitHub\\grvmodel\\Python\\pytorch\\New Model\\LSTM\\Loss Investigation.ipynb Cell 4\u001b[0m in \u001b[0;36m<cell line: 1>\u001b[1;34m()\u001b[0m\n\u001b[1;32m----> <a href='vscode-notebook-cell:/c%3A/Users/Nick/Documents/GitHub/grvmodel/Python/pytorch/New%20Model/LSTM/Loss%20Investigation.ipynb#W3sZmlsZQ%3D%3D?line=0'>1</a>\u001b[0m df_pivot \u001b[39m=\u001b[39m dog_df\u001b[39m.\u001b[39;49mpivot(index\u001b[39m=\u001b[39;49m\u001b[39m'\u001b[39;49m\u001b[39mraceid\u001b[39;49m\u001b[39m'\u001b[39;49m,columns\u001b[39m=\u001b[39;49m[\u001b[39m'\u001b[39;49m\u001b[39mplace\u001b[39;49m\u001b[39m'\u001b[39;49m], values\u001b[39m=\u001b[39;49m\u001b[39m'\u001b[39;49m\u001b[39mmargin\u001b[39;49m\u001b[39m'\u001b[39;49m)\u001b[39m.\u001b[39mfillna(\u001b[39m15\u001b[39m)\n\u001b[0;32m      <a href='vscode-notebook-cell:/c%3A/Users/Nick/Documents/GitHub/grvmodel/Python/pytorch/New%20Model/LSTM/Loss%20Investigation.ipynb#W3sZmlsZQ%3D%3D?line=1'>2</a>\u001b[0m df_pivot\n",
      "File \u001b[1;32mc:\\Users\\Nick\\.conda\\envs\\pytorch\\lib\\site-packages\\pandas\\core\\frame.py:6879\u001b[0m, in \u001b[0;36mDataFrame.pivot\u001b[1;34m(self, index, columns, values)\u001b[0m\n\u001b[0;32m   6874\u001b[0m \u001b[39m@Substitution\u001b[39m(\u001b[39m\"\u001b[39m\u001b[39m\"\u001b[39m)\n\u001b[0;32m   6875\u001b[0m \u001b[39m@Appender\u001b[39m(_shared_docs[\u001b[39m\"\u001b[39m\u001b[39mpivot\u001b[39m\u001b[39m\"\u001b[39m])\n\u001b[0;32m   6876\u001b[0m \u001b[39mdef\u001b[39;00m \u001b[39mpivot\u001b[39m(\u001b[39mself\u001b[39m, index\u001b[39m=\u001b[39m\u001b[39mNone\u001b[39;00m, columns\u001b[39m=\u001b[39m\u001b[39mNone\u001b[39;00m, values\u001b[39m=\u001b[39m\u001b[39mNone\u001b[39;00m) \u001b[39m-\u001b[39m\u001b[39m>\u001b[39m DataFrame:\n\u001b[0;32m   6877\u001b[0m     \u001b[39mfrom\u001b[39;00m \u001b[39mpandas\u001b[39;00m\u001b[39m.\u001b[39;00m\u001b[39mcore\u001b[39;00m\u001b[39m.\u001b[39;00m\u001b[39mreshape\u001b[39;00m\u001b[39m.\u001b[39;00m\u001b[39mpivot\u001b[39;00m \u001b[39mimport\u001b[39;00m pivot\n\u001b[1;32m-> 6879\u001b[0m     \u001b[39mreturn\u001b[39;00m pivot(\u001b[39mself\u001b[39;49m, index\u001b[39m=\u001b[39;49mindex, columns\u001b[39m=\u001b[39;49mcolumns, values\u001b[39m=\u001b[39;49mvalues)\n",
      "File \u001b[1;32mc:\\Users\\Nick\\.conda\\envs\\pytorch\\lib\\site-packages\\pandas\\core\\reshape\\pivot.py:461\u001b[0m, in \u001b[0;36mpivot\u001b[1;34m(data, index, columns, values)\u001b[0m\n\u001b[0;32m    459\u001b[0m     \u001b[39melse\u001b[39;00m:\n\u001b[0;32m    460\u001b[0m         indexed \u001b[39m=\u001b[39m data\u001b[39m.\u001b[39m_constructor_sliced(data[values]\u001b[39m.\u001b[39m_values, index\u001b[39m=\u001b[39mindex)\n\u001b[1;32m--> 461\u001b[0m \u001b[39mreturn\u001b[39;00m indexed\u001b[39m.\u001b[39;49munstack(columns)\n",
      "File \u001b[1;32mc:\\Users\\Nick\\.conda\\envs\\pytorch\\lib\\site-packages\\pandas\\core\\series.py:3829\u001b[0m, in \u001b[0;36mSeries.unstack\u001b[1;34m(self, level, fill_value)\u001b[0m\n\u001b[0;32m   3790\u001b[0m \u001b[39m\"\"\"\u001b[39;00m\n\u001b[0;32m   3791\u001b[0m \u001b[39mUnstack, also known as pivot, Series with MultiIndex to produce DataFrame.\u001b[39;00m\n\u001b[0;32m   3792\u001b[0m \n\u001b[1;32m   (...)\u001b[0m\n\u001b[0;32m   3825\u001b[0m \u001b[39mb    2    4\u001b[39;00m\n\u001b[0;32m   3826\u001b[0m \u001b[39m\"\"\"\u001b[39;00m\n\u001b[0;32m   3827\u001b[0m \u001b[39mfrom\u001b[39;00m \u001b[39mpandas\u001b[39;00m\u001b[39m.\u001b[39;00m\u001b[39mcore\u001b[39;00m\u001b[39m.\u001b[39;00m\u001b[39mreshape\u001b[39;00m\u001b[39m.\u001b[39;00m\u001b[39mreshape\u001b[39;00m \u001b[39mimport\u001b[39;00m unstack\n\u001b[1;32m-> 3829\u001b[0m \u001b[39mreturn\u001b[39;00m unstack(\u001b[39mself\u001b[39;49m, level, fill_value)\n",
      "File \u001b[1;32mc:\\Users\\Nick\\.conda\\envs\\pytorch\\lib\\site-packages\\pandas\\core\\reshape\\reshape.py:430\u001b[0m, in \u001b[0;36munstack\u001b[1;34m(obj, level, fill_value)\u001b[0m\n\u001b[0;32m    428\u001b[0m \u001b[39mif\u001b[39;00m is_extension_array_dtype(obj\u001b[39m.\u001b[39mdtype):\n\u001b[0;32m    429\u001b[0m     \u001b[39mreturn\u001b[39;00m _unstack_extension_series(obj, level, fill_value)\n\u001b[1;32m--> 430\u001b[0m unstacker \u001b[39m=\u001b[39m _Unstacker(\n\u001b[0;32m    431\u001b[0m     obj\u001b[39m.\u001b[39;49mindex, level\u001b[39m=\u001b[39;49mlevel, constructor\u001b[39m=\u001b[39;49mobj\u001b[39m.\u001b[39;49m_constructor_expanddim\n\u001b[0;32m    432\u001b[0m )\n\u001b[0;32m    433\u001b[0m \u001b[39mreturn\u001b[39;00m unstacker\u001b[39m.\u001b[39mget_result(\n\u001b[0;32m    434\u001b[0m     obj\u001b[39m.\u001b[39mvalues, value_columns\u001b[39m=\u001b[39m\u001b[39mNone\u001b[39;00m, fill_value\u001b[39m=\u001b[39mfill_value\n\u001b[0;32m    435\u001b[0m )\n",
      "File \u001b[1;32mc:\\Users\\Nick\\.conda\\envs\\pytorch\\lib\\site-packages\\pandas\\core\\reshape\\reshape.py:118\u001b[0m, in \u001b[0;36m_Unstacker.__init__\u001b[1;34m(self, index, level, constructor)\u001b[0m\n\u001b[0;32m    115\u001b[0m \u001b[39mif\u001b[39;00m num_rows \u001b[39m>\u001b[39m \u001b[39m0\u001b[39m \u001b[39mand\u001b[39;00m num_columns \u001b[39m>\u001b[39m \u001b[39m0\u001b[39m \u001b[39mand\u001b[39;00m num_cells \u001b[39m<\u001b[39m\u001b[39m=\u001b[39m \u001b[39m0\u001b[39m:\n\u001b[0;32m    116\u001b[0m     \u001b[39mraise\u001b[39;00m \u001b[39mValueError\u001b[39;00m(\u001b[39m\"\u001b[39m\u001b[39mUnstacked DataFrame is too big, causing int32 overflow\u001b[39m\u001b[39m\"\u001b[39m)\n\u001b[1;32m--> 118\u001b[0m \u001b[39mself\u001b[39;49m\u001b[39m.\u001b[39;49m_make_selectors()\n",
      "File \u001b[1;32mc:\\Users\\Nick\\.conda\\envs\\pytorch\\lib\\site-packages\\pandas\\core\\reshape\\reshape.py:167\u001b[0m, in \u001b[0;36m_Unstacker._make_selectors\u001b[1;34m(self)\u001b[0m\n\u001b[0;32m    164\u001b[0m mask\u001b[39m.\u001b[39mput(selector, \u001b[39mTrue\u001b[39;00m)\n\u001b[0;32m    166\u001b[0m \u001b[39mif\u001b[39;00m mask\u001b[39m.\u001b[39msum() \u001b[39m<\u001b[39m \u001b[39mlen\u001b[39m(\u001b[39mself\u001b[39m\u001b[39m.\u001b[39mindex):\n\u001b[1;32m--> 167\u001b[0m     \u001b[39mraise\u001b[39;00m \u001b[39mValueError\u001b[39;00m(\u001b[39m\"\u001b[39m\u001b[39mIndex contains duplicate entries, cannot reshape\u001b[39m\u001b[39m\"\u001b[39m)\n\u001b[0;32m    169\u001b[0m \u001b[39mself\u001b[39m\u001b[39m.\u001b[39mgroup_index \u001b[39m=\u001b[39m comp_index\n\u001b[0;32m    170\u001b[0m \u001b[39mself\u001b[39m\u001b[39m.\u001b[39mmask \u001b[39m=\u001b[39m mask\n",
      "\u001b[1;31mValueError\u001b[0m: Index contains duplicate entries, cannot reshape"
     ]
    }
   ],
   "source": [
    "df_pivot = dog_df.pivot(index='raceid',columns=['place'], values='margin').fillna(15)\n",
    "df_pivot"
   ]
  },
  {
   "cell_type": "code",
   "execution_count": null,
   "metadata": {},
   "outputs": [
    {
     "ename": "NameError",
     "evalue": "name 'df_pivot' is not defined",
     "output_type": "error",
     "traceback": [
      "\u001b[1;31m---------------------------------------------------------------------------\u001b[0m",
      "\u001b[1;31mNameError\u001b[0m                                 Traceback (most recent call last)",
      "\u001b[1;32mc:\\Users\\Nick\\Documents\\GitHub\\grvmodel\\Python\\pytorch\\New Model\\LSTM\\Loss Investigation.ipynb Cell 5\u001b[0m in \u001b[0;36m<cell line: 1>\u001b[1;34m()\u001b[0m\n\u001b[1;32m----> <a href='vscode-notebook-cell:/c%3A/Users/Nick/Documents/GitHub/grvmodel/Python/pytorch/New%20Model/LSTM/Loss%20Investigation.ipynb#W4sZmlsZQ%3D%3D?line=0'>1</a>\u001b[0m r \u001b[39m=\u001b[39m torch\u001b[39m.\u001b[39mtensor((df_pivot\u001b[39m.\u001b[39miloc[\u001b[39m0\u001b[39m]\u001b[39m+\u001b[39m\u001b[39m1\u001b[39m)\u001b[39m.\u001b[39mto_list())\n\u001b[0;32m      <a href='vscode-notebook-cell:/c%3A/Users/Nick/Documents/GitHub/grvmodel/Python/pytorch/New%20Model/LSTM/Loss%20Investigation.ipynb#W4sZmlsZQ%3D%3D?line=1'>2</a>\u001b[0m r\n",
      "\u001b[1;31mNameError\u001b[0m: name 'df_pivot' is not defined"
     ]
    }
   ],
   "source": [
    "r = torch.tensor((df_pivot.iloc[0]+1).to_list())\n",
    "r"
   ]
  },
  {
   "cell_type": "code",
   "execution_count": null,
   "metadata": {},
   "outputs": [],
   "source": [
    "r = torch.rand(8,10)"
   ]
  },
  {
   "cell_type": "code",
   "execution_count": null,
   "metadata": {},
   "outputs": [
    {
     "data": {
      "text/plain": [
       "tensor([[-2.6411e-01, -1.3407e+00, -2.1215e+00, -1.1763e+00, -5.9946e-02,\n",
       "         -1.3260e-02, -1.0272e+00, -7.4249e-01, -1.1751e-01, -2.4894e-02],\n",
       "        [-1.2517e-01, -2.4667e+00, -1.0967e+00, -1.5563e+00, -1.6151e+00,\n",
       "         -6.8829e-01, -4.1824e-01, -5.9266e-02, -7.7859e-02, -2.5674e-03],\n",
       "        [-1.8856e-01, -6.3539e-01, -4.4113e-01, -2.4985e+00, -9.2067e-02,\n",
       "         -1.4291e+00, -8.0059e-01, -5.2869e-01, -2.2559e+00, -1.2493e+00],\n",
       "        [-4.5311e-01, -1.1033e+00, -4.4594e-01, -2.3675e+00, -3.7190e-01,\n",
       "         -1.4691e+00, -1.0371e-01, -2.1470e+00, -1.0817e+00, -4.6440e-01],\n",
       "        [-1.4361e+00, -1.1950e+00, -2.5175e-01, -9.9199e-01, -3.5735e+00,\n",
       "         -5.9473e-01, -2.4475e+00, -1.4807e-04, -2.4683e-01, -2.6513e-02],\n",
       "        [-2.0391e+00, -3.2843e+00, -3.9994e-01, -1.6954e-01, -4.3448e-01,\n",
       "         -1.6209e+00, -5.7406e-01, -8.5910e-01, -1.6669e+00, -4.2585e-01],\n",
       "        [-7.7427e-01, -3.4101e-01, -2.3569e+00, -2.4588e-02, -1.3418e+00,\n",
       "         -3.8236e-01, -4.3757e-01, -1.3581e+00, -6.4681e-01, -1.1324e-01],\n",
       "        [-5.0170e-01, -8.8066e-02, -8.8620e-01, -2.1374e-01, -1.3483e+00,\n",
       "         -4.4583e-01, -1.2055e+00, -2.1784e+00, -1.4570e+00, -3.2550e-01]])"
      ]
     },
     "execution_count": 7,
     "metadata": {},
     "output_type": "execute_result"
    }
   ],
   "source": [
    "r = r.log()\n",
    "r"
   ]
  },
  {
   "cell_type": "code",
   "execution_count": null,
   "metadata": {},
   "outputs": [],
   "source": [
    "sftmax = nn.Softmax(dim=0)\n",
    "tahn = nn.Tanh()"
   ]
  },
  {
   "cell_type": "code",
   "execution_count": null,
   "metadata": {},
   "outputs": [
    {
     "data": {
      "text/plain": [
       "tensor([0.0000, 0.5626, 0.7913, 0.8012, 0.8987, 0.9120, 0.9569, 0.9922])"
      ]
     },
     "execution_count": 175,
     "metadata": {},
     "output_type": "execute_result"
    }
   ],
   "source": [
    "tr = tahn(r)\n",
    "tr"
   ]
  },
  {
   "cell_type": "code",
   "execution_count": null,
   "metadata": {},
   "outputs": [
    {
     "data": {
      "text/plain": [
       "tensor([0.5000, 0.6540, 0.7455, 0.7506, 0.8124, 0.8233, 0.8708, 0.9412])"
      ]
     },
     "execution_count": 150,
     "metadata": {},
     "output_type": "execute_result"
    }
   ],
   "source": [
    "rs = torch.sigmoid(r)\n",
    "rs"
   ]
  },
  {
   "cell_type": "code",
   "execution_count": null,
   "metadata": {},
   "outputs": [
    {
     "data": {
      "text/plain": [
       "tensor([0.1842, 0.1408, 0.1235, 0.1227, 0.1134, 0.1119, 0.1058, 0.0978])"
      ]
     },
     "execution_count": 151,
     "metadata": {},
     "output_type": "execute_result"
    }
   ],
   "source": [
    "ls = nn.LogSigmoid()\n",
    "ls(r)\n",
    "sftmax(-ls(r))"
   ]
  },
  {
   "cell_type": "code",
   "execution_count": null,
   "metadata": {},
   "outputs": [
    {
     "data": {
      "text/plain": [
       "tensor([0.1611, 0.1381, 0.1260, 0.1254, 0.1179, 0.1166, 0.1112, 0.1036])"
      ]
     },
     "execution_count": 152,
     "metadata": {},
     "output_type": "execute_result"
    }
   ],
   "source": [
    "sftmax(-rs)"
   ]
  },
  {
   "cell_type": "code",
   "execution_count": null,
   "metadata": {},
   "outputs": [
    {
     "data": {
      "text/plain": [
       "tensor(1.2866)"
      ]
     },
     "execution_count": 189,
     "metadata": {},
     "output_type": "execute_result"
    }
   ],
   "source": [
    "sftmax(-r)[0].sum()"
   ]
  },
  {
   "cell_type": "code",
   "execution_count": null,
   "metadata": {},
   "outputs": [],
   "source": [
    "x = torch.rand(5,8)\n",
    "y = torch.rand(5,8)"
   ]
  },
  {
   "cell_type": "code",
   "execution_count": null,
   "metadata": {},
   "outputs": [],
   "source": [
    "cel = nn.CrossEntropyLoss(reduction='none')\n",
    "kl = nn.KLDivLoss(reduction='batchmean')"
   ]
  },
  {
   "cell_type": "code",
   "execution_count": null,
   "metadata": {},
   "outputs": [
    {
     "data": {
      "text/plain": [
       "tensor([11.8266,  8.3206,  6.3329,  8.2975,  9.4265])"
      ]
     },
     "execution_count": 236,
     "metadata": {},
     "output_type": "execute_result"
    }
   ],
   "source": [
    "cel(x,y)"
   ]
  },
  {
   "cell_type": "code",
   "execution_count": null,
   "metadata": {},
   "outputs": [
    {
     "data": {
      "text/plain": [
       "tensor([[0.1014, 0.8791, 0.9317, 0.3059, 0.0780, 0.7030, 0.3185, 0.6284],\n",
       "        [0.4854, 0.1267, 0.7048, 0.7489, 0.0646, 0.7840, 0.4067, 0.8106],\n",
       "        [0.7976, 0.3691, 0.3165, 0.3107, 0.6457, 0.6709, 0.9489, 0.7234],\n",
       "        [0.8811, 0.5617, 0.7810, 0.6660, 0.6791, 0.7831, 0.8993, 0.1111],\n",
       "        [0.9399, 0.9951, 0.8575, 0.8524, 0.5587, 0.1212, 0.7746, 0.7384]])"
      ]
     },
     "execution_count": 25,
     "metadata": {},
     "output_type": "execute_result"
    }
   ],
   "source": [
    "x\n"
   ]
  },
  {
   "cell_type": "code",
   "execution_count": null,
   "metadata": {},
   "outputs": [
    {
     "name": "stderr",
     "output_type": "stream",
     "text": [
      "C:\\Users\\Nick\\AppData\\Local\\Temp\\ipykernel_9188\\393186831.py:1: UserWarning: Implicit dimension choice for softmax has been deprecated. Change the call to include dim=X as an argument.\n",
      "  F.softmax(y)\n"
     ]
    },
    {
     "data": {
      "text/plain": [
       "tensor([[0.1429, 0.1112, 0.1002, 0.1097, 0.1696, 0.0995, 0.0945, 0.1724],\n",
       "        [0.1079, 0.0840, 0.0814, 0.1747, 0.1592, 0.0775, 0.1444, 0.1708],\n",
       "        [0.0815, 0.1318, 0.1901, 0.1068, 0.1092, 0.0899, 0.1981, 0.0926],\n",
       "        [0.0909, 0.1511, 0.0941, 0.1926, 0.0840, 0.0999, 0.0827, 0.2046],\n",
       "        [0.1440, 0.1322, 0.1013, 0.1525, 0.0803, 0.1262, 0.1211, 0.1424]])"
      ]
     },
     "execution_count": 28,
     "metadata": {},
     "output_type": "execute_result"
    }
   ],
   "source": [
    "F.softmax(y)"
   ]
  },
  {
   "cell_type": "code",
   "execution_count": null,
   "metadata": {},
   "outputs": [
    {
     "name": "stderr",
     "output_type": "stream",
     "text": [
      "C:\\Users\\Nick\\AppData\\Local\\Temp\\ipykernel_9188\\3956170655.py:1: UserWarning: Implicit dimension choice for log_softmax has been deprecated. Change the call to include dim=X as an argument.\n",
      "  kl(F.log_softmax(x),F.softmax( y))\n",
      "C:\\Users\\Nick\\AppData\\Local\\Temp\\ipykernel_9188\\3956170655.py:1: UserWarning: Implicit dimension choice for softmax has been deprecated. Change the call to include dim=X as an argument.\n",
      "  kl(F.log_softmax(x),F.softmax( y))\n"
     ]
    },
    {
     "data": {
      "text/plain": [
       "tensor(0.0949)"
      ]
     },
     "execution_count": 27,
     "metadata": {},
     "output_type": "execute_result"
    }
   ],
   "source": [
    "kl(F.log_softmax(x),F.softmax( y))"
   ]
  },
  {
   "cell_type": "code",
   "execution_count": null,
   "metadata": {},
   "outputs": [
    {
     "data": {
      "text/plain": [
       "tensor([11.8266,  8.3206,  6.3329,  8.2975,  9.4265])"
      ]
     },
     "execution_count": 259,
     "metadata": {},
     "output_type": "execute_result"
    }
   ],
   "source": [
    "torch.sum(-torch.log(torch.exp(x)/torch.sum(torch.exp(x), dim=-1, keepdim=True))*y, dim=-1)"
   ]
  },
  {
   "cell_type": "code",
   "execution_count": null,
   "metadata": {},
   "outputs": [],
   "source": [
    "t = torch.tensor(0.07)"
   ]
  },
  {
   "cell_type": "code",
   "execution_count": null,
   "metadata": {},
   "outputs": [
    {
     "data": {
      "text/plain": [
       "tensor(1.0725)"
      ]
     },
     "execution_count": 264,
     "metadata": {},
     "output_type": "execute_result"
    }
   ],
   "source": [
    "torch.exp(t)"
   ]
  },
  {
   "cell_type": "code",
   "execution_count": null,
   "metadata": {},
   "outputs": [
    {
     "data": {
      "text/plain": [
       "tensor([[1.7389, 1.7403, 1.6914, 1.6189, 1.7836, 1.6530, 1.7834, 1.6938],\n",
       "        [1.7370, 1.6225, 1.6138, 1.6427, 1.7614, 1.6542, 1.7384, 1.7578],\n",
       "        [1.6402, 1.7398, 1.6300, 1.7324, 1.6566, 1.6789, 1.6379, 1.7221],\n",
       "        [1.7093, 1.7366, 1.7679, 1.7428, 1.7883, 1.6988, 1.6959, 1.7411],\n",
       "        [1.6652, 1.7027, 1.6596, 1.7636, 1.6534, 1.7665, 1.7050, 1.7326]])"
      ]
     },
     "execution_count": 283,
     "metadata": {},
     "output_type": "execute_result"
    }
   ],
   "source": [
    "torch.log(x+5)\n"
   ]
  },
  {
   "cell_type": "code",
   "execution_count": null,
   "metadata": {},
   "outputs": [
    {
     "data": {
      "text/plain": [
       "tensor([[-0.7779, -2.9942, -1.4254, -2.2101, -1.9628],\n",
       "        [-3.9102, -4.3711, -0.1411, -3.6142, -2.6310],\n",
       "        [-1.0453, -1.1885, -2.4780, -1.5419, -3.0825]],\n",
       "       grad_fn=<LogSoftmaxBackward0>)"
      ]
     },
     "execution_count": 296,
     "metadata": {},
     "output_type": "execute_result"
    }
   ],
   "source": [
    "input = nn.functional.log_softmax(torch.randn(3, 5, requires_grad=True), dim=-1)\n",
    "input"
   ]
  },
  {
   "cell_type": "code",
   "execution_count": null,
   "metadata": {},
   "outputs": [
    {
     "data": {
      "text/plain": [
       "tensor([0.1014, 0.8791, 0.9317, 0.3059, 0.0780, 0.7030, 0.3185, 0.6284])"
      ]
     },
     "execution_count": 11,
     "metadata": {},
     "output_type": "execute_result"
    }
   ],
   "source": [
    "x[0]"
   ]
  },
  {
   "cell_type": "code",
   "execution_count": null,
   "metadata": {},
   "outputs": [
    {
     "data": {
      "text/plain": [
       "tensor([-2.5205, -1.7429, -1.6903, -2.3161, -2.5440, -1.9190, -2.3035, -1.9935])"
      ]
     },
     "execution_count": 17,
     "metadata": {},
     "output_type": "execute_result"
    }
   ],
   "source": [
    "torch.log_softmax(x[0], dim=0)"
   ]
  },
  {
   "cell_type": "code",
   "execution_count": null,
   "metadata": {},
   "outputs": [
    {
     "data": {
      "text/plain": [
       "tensor([[0.4627, 0.9202, 0.4189, 0.7473, 0.7095, 0.8639, 0.4372, 0.4554],\n",
       "        [0.5263, 0.9596, 0.7170, 0.5140, 0.5301, 0.4924, 0.4472, 0.6444],\n",
       "        [0.3809, 0.7245, 0.9455, 0.6103, 0.9006, 0.7482, 0.9558, 0.3914],\n",
       "        [0.9874, 0.5705, 0.4264, 0.9137, 0.5124, 0.9505, 0.6632, 0.3955],\n",
       "        [0.6160, 0.7393, 0.4593, 0.8633, 0.3841, 0.9868, 0.5052, 0.6354]])"
      ]
     },
     "execution_count": 217,
     "metadata": {},
     "output_type": "execute_result"
    }
   ],
   "source": [
    "torch.exp(x)/torch.logsumexp(x, dim=-1, keepdim=True)"
   ]
  },
  {
   "cell_type": "code",
   "execution_count": null,
   "metadata": {},
   "outputs": [
    {
     "data": {
      "text/plain": [
       "tensor([[0.5153, 0.9484, 1.4135, 2.5238, 1.0821, 1.8794, 1.6698, 1.7941],\n",
       "        [1.7757, 0.1372, 1.2408, 0.6135, 1.5152, 1.3158, 0.7770, 0.9455],\n",
       "        [1.0113, 0.1004, 1.2988, 0.3481, 0.6725, 0.8174, 1.3157, 0.7687],\n",
       "        [0.4393, 1.1434, 1.1529, 0.2367, 1.7411, 1.5715, 1.8007, 0.2119],\n",
       "        [1.2393, 1.8508, 1.3630, 1.4480, 1.8165, 0.5832, 1.0275, 0.0983]])"
      ]
     },
     "execution_count": 230,
     "metadata": {},
     "output_type": "execute_result"
    }
   ],
   "source": [
    "-(y*x-torch.logsumexp(x, dim=-1, keepdim=True)*y)"
   ]
  },
  {
   "cell_type": "code",
   "execution_count": null,
   "metadata": {},
   "outputs": [
    {
     "data": {
      "text/plain": [
       "tensor([1.4783, 1.0401, 0.7916, 1.0372, 1.1783])"
      ]
     },
     "execution_count": 239,
     "metadata": {},
     "output_type": "execute_result"
    }
   ],
   "source": [
    "torch.mean(-(y*x-torch.logsumexp(x, dim=-1, keepdim=True)*y), dim=-1)"
   ]
  },
  {
   "cell_type": "code",
   "execution_count": null,
   "metadata": {},
   "outputs": [],
   "source": [
    "yhat = torch.tensor([0.39761635661125183,\n",
    "-0.12077497690916061,\n",
    "-0.0892978310585022,\n",
    "-0.031148605048656464,\n",
    "-0.1088312640786171,\n",
    "-0.1108488067984581,\n",
    "-0.09906280040740967,\n",
    "-0.048837367445230484\n",
    "])"
   ]
  },
  {
   "cell_type": "code",
   "execution_count": null,
   "metadata": {},
   "outputs": [
    {
     "data": {
      "text/plain": [
       "tensor([ 0.3976, -0.1208, -0.0893, -0.0311, -0.1088, -0.1108, -0.0991, -0.0488])"
      ]
     },
     "execution_count": 270,
     "metadata": {},
     "output_type": "execute_result"
    }
   ],
   "source": [
    "yhat"
   ]
  },
  {
   "cell_type": "code",
   "execution_count": null,
   "metadata": {},
   "outputs": [
    {
     "data": {
      "text/plain": [
       "tensor([1.4883, 0.8862, 0.9146, 0.9693, 0.8969, 0.8951, 0.9057, 0.9523])"
      ]
     },
     "execution_count": 276,
     "metadata": {},
     "output_type": "execute_result"
    }
   ],
   "source": [
    "torch.exp(yhat)"
   ]
  },
  {
   "cell_type": "code",
   "execution_count": null,
   "metadata": {},
   "outputs": [
    {
     "data": {
      "text/plain": [
       "tensor(-0.6547)"
      ]
     },
     "execution_count": 273,
     "metadata": {},
     "output_type": "execute_result"
    }
   ],
   "source": [
    "cel(yhat,yhat)"
   ]
  },
  {
   "cell_type": "code",
   "execution_count": null,
   "metadata": {},
   "outputs": [
    {
     "data": {
      "text/plain": [
       "tensor([0.2018, 0.1105, 0.1137, 0.1201, 0.1117, 0.1115, 0.1127, 0.1181])"
      ]
     },
     "execution_count": 272,
     "metadata": {},
     "output_type": "execute_result"
    }
   ],
   "source": [
    "sftmax(torch.exp(yhat))"
   ]
  },
  {
   "cell_type": "code",
   "execution_count": null,
   "metadata": {},
   "outputs": [
    {
     "ename": "TypeError",
     "evalue": "can't multiply sequence by non-int of type 'list'",
     "output_type": "error",
     "traceback": [
      "\u001b[1;31m---------------------------------------------------------------------------\u001b[0m",
      "\u001b[1;31mTypeError\u001b[0m                                 Traceback (most recent call last)",
      "\u001b[1;32mc:\\Users\\Nick\\Documents\\GitHub\\grvmodel\\Python\\pytorch\\New Model\\LSTM\\Loss Investigation.ipynb Cell 32\u001b[0m in \u001b[0;36m<cell line: 1>\u001b[1;34m()\u001b[0m\n\u001b[1;32m----> <a href='vscode-notebook-cell:/c%3A/Users/Nick/Documents/GitHub/grvmodel/Python/pytorch/New%20Model/LSTM/Loss%20Investigation.ipynb#X52sZmlsZQ%3D%3D?line=0'>1</a>\u001b[0m [\u001b[39m0.2018\u001b[39;49m, \u001b[39m0.1105\u001b[39;49m, \u001b[39m0.1137\u001b[39;49m, \u001b[39m0.1201\u001b[39;49m, \u001b[39m0.1117\u001b[39;49m, \u001b[39m0.1115\u001b[39;49m, \u001b[39m0.1127\u001b[39;49m, \u001b[39m0.1181\u001b[39;49m]\u001b[39m*\u001b[39;49m[\u001b[39m-\u001b[39;49m\u001b[39m1\u001b[39;49m]\n",
      "\u001b[1;31mTypeError\u001b[0m: can't multiply sequence by non-int of type 'list'"
     ]
    }
   ],
   "source": [
    "[0.2018, 0.1105, 0.1137, 0.1201, 0.1117, 0.1115, 0.1127, 0.1181]*[-1]"
   ]
  }
 ],
 "metadata": {
  "kernelspec": {
   "display_name": "Python 3.9.12 ('pytorch')",
   "language": "python",
   "name": "python3"
  },
  "language_info": {
   "codemirror_mode": {
    "name": "ipython",
    "version": 3
   },
   "file_extension": ".py",
   "mimetype": "text/x-python",
   "name": "python",
   "nbconvert_exporter": "python",
   "pygments_lexer": "ipython3",
   "version": "3.9.12"
  },
  "orig_nbformat": 4,
  "vscode": {
   "interpreter": {
    "hash": "43115443075634c02a7c247a87b0dd9d74842892e56d473b9e19f544f3149aff"
   }
  }
 },
 "nbformat": 4,
 "nbformat_minor": 2
}
