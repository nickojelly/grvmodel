{
 "cells": [
  {
   "cell_type": "code",
   "execution_count": 1,
   "metadata": {},
   "outputs": [
    {
     "name": "stderr",
     "output_type": "stream",
     "text": [
      "<frozen importlib._bootstrap>:228: RuntimeWarning: scipy._lib.messagestream.MessageStream size changed, may indicate binary incompatibility. Expected 56 from C header, got 64 from PyObject\n"
     ]
    },
    {
     "name": "stdout",
     "output_type": "stream",
     "text": [
      "c:\\Users\\Nick\\Documents\\GitHub\\grvmodel\\Python\\pytorch\\New Model\\LSTM\n"
     ]
    }
   ],
   "source": [
    "import pickle\n",
    "import pandas as pd\n",
    "import os\n",
    "\n",
    "import torch\n",
    "import numpy as np\n",
    "import torch.nn as nn\n",
    "import torch.nn.functional as F\n",
    "import torch.optim as optim\n",
    "from tqdm.notebook import tqdm, trange\n",
    "import torch.optim as optim\n",
    "from torch.utils.data import TensorDataset, DataLoader\n",
    "import wandb\n",
    "from torch.utils.data.sampler import SubsetRandomSampler\n",
    "import pprint\n",
    "import matplotlib.pyplot as plt\n",
    "import torch\n",
    "\n",
    "from sklearn.preprocessing import MinMaxScaler\n",
    "import math\n",
    "from torch.profiler import profile, record_function, ProfilerActivity\n",
    "\n",
    "from operator import itemgetter\n",
    "import operator\n",
    "from random import randint\n",
    "# from rnn_classes import Dog, DogInput, Race, Races, GRUNet, smallGRUNet, smalll_lin_GRUNet, smalll_prelin_GRUNet\n",
    "import rnn_classes\n",
    "from raceDB import build_dataset, build_pred_dataset\n",
    "import importlib\n",
    "import datetime\n",
    "from training_testing import validate_model, train_regular\n",
    "from model_saver import model_saver, model_saver_wandb\n",
    "import training_testing_gru\n",
    "from torch.nn.utils.rnn import pack_padded_sequence, pack_sequence, pad_packed_sequence,pad_sequence, unpack_sequence, unpad_sequence"
   ]
  },
  {
   "cell_type": "code",
   "execution_count": 2,
   "metadata": {},
   "outputs": [
    {
     "name": "stdout",
     "output_type": "stream",
     "text": [
      "Running on the GPU\n"
     ]
    }
   ],
   "source": [
    "if torch.cuda.is_available():\n",
    "    device = torch.device(\"cuda:0\")  # you can continue going on here, like cuda:1 cuda:2....etc.\n",
    "    print(\"Running on the GPU\")\n",
    "else:\n",
    "    device = torch.device(\"cpu\")\n",
    "    print(\"Running on the CPU\")"
   ]
  },
  {
   "cell_type": "code",
   "execution_count": 3,
   "metadata": {},
   "outputs": [],
   "source": [
    "torch.set_default_tensor_type(torch.FloatTensor)"
   ]
  },
  {
   "cell_type": "code",
   "execution_count": 4,
   "metadata": {},
   "outputs": [],
   "source": [
    "def custom_l2(output, target):\n",
    "    loss = torch.mean(abs(output-target), dim=1)\n",
    "    return loss"
   ]
  },
  {
   "cell_type": "code",
   "execution_count": 5,
   "metadata": {},
   "outputs": [],
   "source": [
    "def validation_CLE(x,y):\n",
    "    loss_t = -torch.log(torch.exp(x)/torch.sum(torch.exp(x), dim=-1, keepdim=True))*y\n",
    "    return loss_t"
   ]
  },
  {
   "cell_type": "code",
   "execution_count": 6,
   "metadata": {},
   "outputs": [
    {
     "name": "stdout",
     "output_type": "stream",
     "text": [
      "['dist_last__1', 'box_last__1', 'speed_avg_1', 'split_speed_avg_1', 'split_margin_avg_1', 'margin_avg_1', 'first_out_avg_1', 'post_change_avg_1', 'races_1', 'wins_1', 'weight_', 'min_time_', 'min_split_time_', 'last_start_price']\n",
      "(1202877, 22)\n",
      "20\n",
      "(657203, 24)\n",
      "Latest date = 2023-04-11 00:00:00\n",
      "num_features_per_dog=20\n"
     ]
    },
    {
     "data": {
      "application/vnd.jupyter.widget-view+json": {
       "model_id": "37083a6abe224d9ea1967cdcffb6b61a",
       "version_major": 2,
       "version_minor": 0
      },
      "text/plain": [
       "  0%|          | 0/27391 [00:00<?, ?it/s]"
      ]
     },
     "metadata": {},
     "output_type": "display_data"
    },
    {
     "name": "stderr",
     "output_type": "stream",
     "text": [
      "c:\\Users\\Nick\\.conda\\envs\\PYTORCH\\lib\\site-packages\\tqdm\\std.py:1195: FutureWarning: In a future version of pandas, a length 1 tuple will be returned when iterating over a groupby with a grouper equal to a list of length 1. Don't supply a list with a single grouper to avoid this warning.\n",
      "  for obj in iterable:\n"
     ]
    },
    {
     "data": {
      "application/vnd.jupyter.widget-view+json": {
       "model_id": "7b35591b8a7041c7a2b21b697cb67a26",
       "version_major": 2,
       "version_minor": 0
      },
      "text/plain": [
       "  0%|          | 0/92063 [00:00<?, ?it/s]"
      ]
     },
     "metadata": {},
     "output_type": "display_data"
    },
    {
     "name": "stderr",
     "output_type": "stream",
     "text": [
      "c:\\Users\\Nick\\.conda\\envs\\PYTORCH\\lib\\site-packages\\tqdm\\std.py:1195: FutureWarning: In a future version of pandas, a length 1 tuple will be returned when iterating over a groupby with a grouper equal to a list of length 1. Don't supply a list with a single grouper to avoid this warning.\n",
      "  for obj in iterable:\n"
     ]
    },
    {
     "name": "stdout",
     "output_type": "stream",
     "text": [
      "number of races = 92063, number of unique dogs = 27392\n",
      "0         (Healesville, 350.0)\n",
      "1               (Dubbo, 318.0)\n",
      "2        (Sandown Park, 515.0)\n",
      "3        (Sandown Park, 515.0)\n",
      "4        (Sandown Park, 515.0)\n",
      "                 ...          \n",
      "92058          (Temora, 457.0)\n",
      "92059          (Temora, 330.0)\n",
      "92060          (Temora, 330.0)\n",
      "92061          (Temora, 457.0)\n",
      "92062          (Temora, 330.0)\n",
      "Length: 92063, dtype: object\n"
     ]
    }
   ],
   "source": [
    "os.getcwd()\n",
    "os.chdir(r\"C:\\Users\\Nick\\Documents\\GitHub\\grvmodel\\Python\\DATA\")\n",
    "date = datetime.datetime.strptime(\"2022-08-01\", \"%Y-%m-%d\").date()\n",
    "hidden_size = 32\n",
    "states = [\"NSW\", \"VIC\"]\n",
    "raceDB = build_dataset('gru_inputs_new_simple_new.npy', hidden_size ,state_filter=states, margin_type='boosted_sftmin',v6=True)\n",
    "raceDB.create_new_weights_v2()\n",
    "#raceDB.adjust_weights({\"Dapto\":10, \"Gunnedah\":10})"
   ]
  },
  {
   "cell_type": "code",
   "execution_count": 7,
   "metadata": {},
   "outputs": [
    {
     "name": "stdout",
     "output_type": "stream",
     "text": [
      "Train examples 72375, Test examples 19688\n"
     ]
    }
   ],
   "source": [
    "date = datetime.datetime.strptime(\"2022-08-01\", \"%Y-%m-%d\").date()\n",
    "raceDB.create_test_split_date(date)"
   ]
  },
  {
   "cell_type": "code",
   "execution_count": 8,
   "metadata": {},
   "outputs": [
    {
     "name": "stdout",
     "output_type": "stream",
     "text": [
      "start_date=datetime.date(2019, 12, 1)\n",
      "period=datetime.date(2020, 11, 30)\n",
      "start_date=datetime.date(2020, 11, 30)\n",
      "period=datetime.date(2021, 11, 30)\n",
      "start_date=datetime.date(2021, 11, 30)\n",
      "period=datetime.date(2022, 7, 31)\n",
      "[(datetime.date(2019, 12, 1), datetime.date(2020, 11, 30)), (datetime.date(2020, 11, 30), datetime.date(2021, 11, 30)), (datetime.date(2021, 11, 30), datetime.date(2022, 7, 31))]\n"
     ]
    }
   ],
   "source": [
    "start_date = datetime.datetime.strptime(\"2019-12-01\", \"%Y-%m-%d\").date()\n",
    "end_date = datetime.datetime.strptime(\"2022-08-01\", \"%Y-%m-%d\").date()-datetime.timedelta(1)\n",
    "period = start_date\n",
    "batches = []\n",
    "while start_date<end_date:\n",
    "   \n",
    "    print(f\"{start_date=}\")\n",
    "    period = min(start_date+datetime.timedelta(365), end_date)\n",
    "    print(f\"{period=}\")\n",
    "    batches.append((start_date,period))\n",
    "    start_date=period\n",
    "    #batches.append((start_date,end_date))\n",
    "# batches.append((period,end_date))\n",
    "print(batches)"
   ]
  },
  {
   "cell_type": "code",
   "execution_count": 9,
   "metadata": {},
   "outputs": [
    {
     "name": "stdout",
     "output_type": "stream",
     "text": [
      "2020-11-30\n",
      "2021-11-30\n",
      "2022-07-31\n",
      "Train examples [26024, 27707, 18561]\n"
     ]
    }
   ],
   "source": [
    "batch_races_ids = [] # list of race_ids\n",
    "j = 0\n",
    "current_batch = []\n",
    "for i,r in enumerate(raceDB.raceIDs):   \n",
    "    _,end_date = batches[j]\n",
    "    race_date = raceDB.racesDict[r].race_date\n",
    "    if race_date>end_date:\n",
    "        print(end_date)\n",
    "\n",
    "        batch_races_ids.append(current_batch)\n",
    "        current_batch = []\n",
    "        j += 1\n",
    "        if j>len(batches)-1:\n",
    "            break\n",
    "    else:\n",
    "        current_batch.append(r)\n",
    "print(f\"Train examples {[len(x) for x in batch_races_ids]}\")"
   ]
  },
  {
   "cell_type": "code",
   "execution_count": 10,
   "metadata": {},
   "outputs": [
    {
     "data": {
      "application/vnd.jupyter.widget-view+json": {
       "model_id": "a730cc5a7b624f969a574c0b40ab9e40",
       "version_major": 2,
       "version_minor": 0
      },
      "text/plain": [
       "  0%|          | 0/3 [00:00<?, ?it/s]"
      ]
     },
     "metadata": {},
     "output_type": "display_data"
    },
    {
     "data": {
      "application/vnd.jupyter.widget-view+json": {
       "model_id": "e3373001f2ce4a038e90545d7bab9f59",
       "version_major": 2,
       "version_minor": 0
      },
      "text/plain": [
       "  0%|          | 0/27391 [00:00<?, ?it/s]"
      ]
     },
     "metadata": {},
     "output_type": "display_data"
    },
    {
     "data": {
      "application/vnd.jupyter.widget-view+json": {
       "model_id": "6df4c207139642849a3ab4b5e697b9ab",
       "version_major": 2,
       "version_minor": 0
      },
      "text/plain": [
       "  0%|          | 0/27391 [00:00<?, ?it/s]"
      ]
     },
     "metadata": {},
     "output_type": "display_data"
    },
    {
     "data": {
      "application/vnd.jupyter.widget-view+json": {
       "model_id": "e9b4a4d190804828a64df8d79cd80c15",
       "version_major": 2,
       "version_minor": 0
      },
      "text/plain": [
       "  0%|          | 0/27391 [00:00<?, ?it/s]"
      ]
     },
     "metadata": {},
     "output_type": "display_data"
    }
   ],
   "source": [
    "train_dogs = []\n",
    "train_dog_input = []\n",
    "for bi, batch in enumerate(tqdm(batch_races_ids)):\n",
    "    # print(bi)\n",
    "    # print(batch)\n",
    "    batch_dogs = []\n",
    "    batch_dog_input = []\n",
    "    for i in tqdm(raceDB.dog_ids):\n",
    "        dog = raceDB.dogsDict[i]\n",
    "        train = [dog.races[x] for x in batch if x in dog.races.keys()]\n",
    "        if train:\n",
    "            batch_dogs.append(dog)\n",
    "            batch_dog_input.append(train)\n",
    "    train_dogs.append(batch_dogs)\n",
    "    train_dog_input.append(batch_dog_input)"
   ]
  },
  {
   "cell_type": "code",
   "execution_count": 11,
   "metadata": {},
   "outputs": [],
   "source": [
    "batch_races = [[raceDB.racesDict[r] for r in inner] for inner in batch_races_ids]"
   ]
  },
  {
   "cell_type": "code",
   "execution_count": 12,
   "metadata": {},
   "outputs": [
    {
     "name": "stdout",
     "output_type": "stream",
     "text": [
      "Train examples [12883, 13300, 11410]\n",
      "Train examples [12883, 13300, 11410]\n",
      "Train examples [26024, 27707, 18561]\n",
      "Train examples [26024, 27707, 18561]\n"
     ]
    }
   ],
   "source": [
    "print(f\"Train examples {[len(x) for x in train_dogs]}\")\n",
    "print(f\"Train examples {[len(x) for x in train_dog_input]}\")\n",
    "print(f\"Train examples {[len(x) for x in batch_races]}\")\n",
    "print(f\"Train examples {[len(x) for x in batch_races_ids]}\")"
   ]
  },
  {
   "cell_type": "code",
   "execution_count": 13,
   "metadata": {},
   "outputs": [
    {
     "data": {
      "application/vnd.jupyter.widget-view+json": {
       "model_id": "795f5333b2314c2586b9a886b10f16f5",
       "version_major": 2,
       "version_minor": 0
      },
      "text/plain": [
       "  0%|          | 0/27391 [00:00<?, ?it/s]"
      ]
     },
     "metadata": {},
     "output_type": "display_data"
    }
   ],
   "source": [
    "raceDB.create_dogs_test_split_date()"
   ]
  },
  {
   "cell_type": "code",
   "execution_count": 14,
   "metadata": {},
   "outputs": [
    {
     "data": {
      "application/vnd.jupyter.widget-view+json": {
       "model_id": "4d9a7b57eb2c41d8b83be4795da7a2ea",
       "version_major": 2,
       "version_minor": 0
      },
      "text/plain": [
       "  0%|          | 0/27392 [00:00<?, ?it/s]"
      ]
     },
     "metadata": {},
     "output_type": "display_data"
    }
   ],
   "source": [
    "raceDB.attach_races_to_dog_inputv2()"
   ]
  },
  {
   "cell_type": "code",
   "execution_count": 15,
   "metadata": {},
   "outputs": [],
   "source": [
    "test_idx = range(0,len(raceDB.test_dog_ids))\n",
    "packed_x = \"\"#[pack_sequence([torch.stack(n,0) for n in [[z.full_input for z in inner] for inner in x]], enforce_sorted=False).to('cuda:0') for x in train_dog_input]\n",
    "packed_x_basic = [pack_sequence([torch.stack(n,0) for n in [[z.stats for z in inner] for inner in x]], enforce_sorted=False).to('cuda:0') for x in train_dog_input]\n",
    "packed_y = \"\"#pack_sequence([torch.stack(n,0) for n in [[z.full_input.to('cuda:0') for z in inner] for inner in [x for x in raceDB.get_dog_test(test_idx)]]], enforce_sorted=False)\n",
    "packed_y_basic = pack_sequence([torch.stack(n,0) for n in [[z.stats.to('cuda:0') for z in inner] for inner in [x for x in raceDB.get_dog_test(test_idx)]]], enforce_sorted=False)"
   ]
  },
  {
   "cell_type": "code",
   "execution_count": 16,
   "metadata": {},
   "outputs": [
    {
     "ename": "KeyboardInterrupt",
     "evalue": "",
     "output_type": "error",
     "traceback": [
      "\u001b[1;31m---------------------------------------------------------------------------\u001b[0m",
      "\u001b[1;31mKeyboardInterrupt\u001b[0m                         Traceback (most recent call last)",
      "Cell \u001b[1;32mIn[16], line 1\u001b[0m\n\u001b[1;32m----> 1\u001b[0m train_dog_input_stacked \u001b[39m=\u001b[39m [[torch\u001b[39m.\u001b[39mstack(n,\u001b[39m0\u001b[39m) \u001b[39mfor\u001b[39;00m n \u001b[39min\u001b[39;00m [[z\u001b[39m.\u001b[39mfull_input\u001b[39m.\u001b[39mto(\u001b[39m'\u001b[39m\u001b[39mcpu\u001b[39m\u001b[39m'\u001b[39m) \u001b[39mfor\u001b[39;00m z \u001b[39min\u001b[39;00m inner] \u001b[39mfor\u001b[39;00m inner \u001b[39min\u001b[39;00m x]] \u001b[39mfor\u001b[39;00m x \u001b[39min\u001b[39;00m train_dog_input]\n",
      "Cell \u001b[1;32mIn[16], line 1\u001b[0m, in \u001b[0;36m<listcomp>\u001b[1;34m(.0)\u001b[0m\n\u001b[1;32m----> 1\u001b[0m train_dog_input_stacked \u001b[39m=\u001b[39m [[torch\u001b[39m.\u001b[39mstack(n,\u001b[39m0\u001b[39m) \u001b[39mfor\u001b[39;00m n \u001b[39min\u001b[39;00m [[z\u001b[39m.\u001b[39mfull_input\u001b[39m.\u001b[39mto(\u001b[39m'\u001b[39m\u001b[39mcpu\u001b[39m\u001b[39m'\u001b[39m) \u001b[39mfor\u001b[39;00m z \u001b[39min\u001b[39;00m inner] \u001b[39mfor\u001b[39;00m inner \u001b[39min\u001b[39;00m x]] \u001b[39mfor\u001b[39;00m x \u001b[39min\u001b[39;00m train_dog_input]\n",
      "Cell \u001b[1;32mIn[16], line 1\u001b[0m, in \u001b[0;36m<listcomp>\u001b[1;34m(.0)\u001b[0m\n\u001b[1;32m----> 1\u001b[0m train_dog_input_stacked \u001b[39m=\u001b[39m [[torch\u001b[39m.\u001b[39mstack(n,\u001b[39m0\u001b[39m) \u001b[39mfor\u001b[39;00m n \u001b[39min\u001b[39;00m [[z\u001b[39m.\u001b[39mfull_input\u001b[39m.\u001b[39mto(\u001b[39m'\u001b[39m\u001b[39mcpu\u001b[39m\u001b[39m'\u001b[39m) \u001b[39mfor\u001b[39;00m z \u001b[39min\u001b[39;00m inner] \u001b[39mfor\u001b[39;00m inner \u001b[39min\u001b[39;00m x]] \u001b[39mfor\u001b[39;00m x \u001b[39min\u001b[39;00m train_dog_input]\n",
      "Cell \u001b[1;32mIn[16], line 1\u001b[0m, in \u001b[0;36m<listcomp>\u001b[1;34m(.0)\u001b[0m\n\u001b[1;32m----> 1\u001b[0m train_dog_input_stacked \u001b[39m=\u001b[39m [[torch\u001b[39m.\u001b[39mstack(n,\u001b[39m0\u001b[39m) \u001b[39mfor\u001b[39;00m n \u001b[39min\u001b[39;00m [[z\u001b[39m.\u001b[39;49mfull_input\u001b[39m.\u001b[39;49mto(\u001b[39m'\u001b[39;49m\u001b[39mcpu\u001b[39;49m\u001b[39m'\u001b[39;49m) \u001b[39mfor\u001b[39;00m z \u001b[39min\u001b[39;00m inner] \u001b[39mfor\u001b[39;00m inner \u001b[39min\u001b[39;00m x]] \u001b[39mfor\u001b[39;00m x \u001b[39min\u001b[39;00m train_dog_input]\n",
      "\u001b[1;31mKeyboardInterrupt\u001b[0m: "
     ]
    }
   ],
   "source": [
    "# train_dog_input_stacked = [[torch.stack(n,0) for n in [[z.full_input.to('cpu') for z in inner] for inner in x]] for x in train_dog_input]"
   ]
  },
  {
   "cell_type": "code",
   "execution_count": null,
   "metadata": {},
   "outputs": [
    {
     "data": {
      "text/plain": [
       "[14.391678956764729, 14.86654135338346, 11.550657318141981]"
      ]
     },
     "execution_count": 17,
     "metadata": {},
     "output_type": "execute_result"
    }
   ],
   "source": [
    "# [sum([len(x) for x in n])/len([len(x) for x in n]) for n in train_dog_input_stacked]"
   ]
  },
  {
   "cell_type": "code",
   "execution_count": 17,
   "metadata": {},
   "outputs": [],
   "source": [
    "raceDB.batches = {'num_batches':len(train_dogs),\n",
    "                  'dogs':train_dogs,\n",
    "                  'train_dog_input':train_dog_input,\n",
    "                  'batch_races':batch_races,\n",
    "                  'batch_races_ids':batch_races_ids,\n",
    "                  'packed_x':packed_x,\n",
    "                  'packed_x_basic':packed_x_basic,\n",
    "                  'packed_y_basic':packed_y_basic, \n",
    "                  'packed_y':packed_y}\n",
    "\n",
    "# raceDB.batches = {'num_batches':len(train_dogs),\n",
    "#                     'dogs':train_dogs,\n",
    "#                     'train_dog_input':train_dog_input,\n",
    "#                     'batch_races':batch_races,\n",
    "#                     'batch_races_ids':batch_races_ids,\n",
    "#                     'packed_x':packed_x,\n",
    "#                     'packed_y':packed_y}"
   ]
  },
  {
   "cell_type": "code",
   "execution_count": 18,
   "metadata": {},
   "outputs": [],
   "source": [
    "def closure(optimizer, criterion, outs, classes):\n",
    "    optimizer.zero_grad()\n",
    "    loss = nn.functional.mse_loss(outs, classes)\n",
    "    loss.backward()\n",
    "    return loss\n",
    "\n",
    "def model_pipeline(my_dataset=raceDB,config=None,prev_model=None, sweep=True, model_state_dict=None, prev_model_file=None):\n",
    "    if my_dataset:\n",
    "      dataset = my_dataset    \n",
    "    else:\n",
    "      dataset = raceDB\n",
    "    # tell wandb to get started\n",
    "    with wandb.init(project=\"NEW GRU\", config=config):\n",
    "      #  access all HPs through wandb.config, so logging matches execution!\n",
    "      wandb.define_metric(\"loss\", summary=\"min\")\n",
    "      wandb.define_metric(\"test_accuracy\", summary=\"max\")\n",
    "      wandb.define_metric(\"bfprofit\", summary=\"max\")\n",
    "      wandb.define_metric(\"multibet profit\", summary=\"max\")\n",
    "      \n",
    "      config = wandb.config\n",
    "      pprint.pprint(config)\n",
    "      pprint.pprint(config.epochs)\n",
    "      print(config)\n",
    "      # input_size = raceDB.get_race_input([0,1])[0].full_input.shape[0] #create fix so messy\n",
    "      print(config.input_type)\n",
    "      if config.input_type == 'full':\n",
    "        print('here1')\n",
    "        input_size = raceDB.batches['packed_x'][0].data[0].shape[0]\n",
    "      elif config.input_type == 'basic':\n",
    "        print('here')\n",
    "        raceDB.batches['packed_x'] = raceDB.batches['packed_x_basic']\n",
    "        raceDB.batches['packed_y'] = raceDB.batches['packed_y_basic']\n",
    "        input_size = raceDB.batches['packed_x'][0].data[0].shape[0]\n",
    "\n",
    "      print(f\"{input_size=}\")\n",
    "\n",
    "\n",
    "      raceDB.reset_hidden(num_layers=config['num_layers'], hidden_size=config['hidden_size'])\n",
    "      model = rnn_classes.GRUNetv2(input_size,config['hidden_size'], num_layers=config['num_layers'])\n",
    "\n",
    "      if model_state_dict:\n",
    "        model.load_state_dict(model_state_dict)\n",
    "      if prev_model_file!=None:\n",
    "        model_name = prev_model_file\n",
    "        model_loc = f\"C:/Users/Nick/Documents/GitHub/grvmodel/Python/pytorch/New Model/savedmodel/{model_name}/{model_name}_450.pt\"\n",
    "        model_data = torch.load(model_loc,map_location=torch.device('cuda:0'))\n",
    "        model.load_state_dict(model_data['model_state_dict'])\n",
    "        config['parent model'] = prev_model_file\n",
    "\n",
    "      raceDB.to_cuda()\n",
    "\n",
    "      # criterion = nn.SmoothL1Loss(reduction='mean', beta=5)\n",
    "      criterion = nn.CrossEntropyLoss(reduction='none')\n",
    "      optimizer = optim.AdamW(model.parameters(), lr=config['learning_rate'])\n",
    "      # optimizer = optim.Adadelta(model.parameters())\n",
    "      # optimizer = optim.RMSprop(model.parameters(), lr=config['learning_rate'])\n",
    "\n",
    "      model = model.to(device)\n",
    "\n",
    "      # optimizer = optimizer.to(device)\n",
    "      print(model)\n",
    "\n",
    "      # and use them to train the model\n",
    "      try:\n",
    "        # train_double_loss_regular(model, dataset, criterion, optimizer, scheduler, config, crit2=custom_l2)\n",
    "        training_testing_gru.train_regular_v3(model, dataset, criterion, optimizer, 'na', config)\n",
    "      except (KeyboardInterrupt) as error:\n",
    "        print(error)\n",
    "        print(\"finished Early\")\n",
    "        \n",
    "      dataset.create_hidden_states_dict()\n",
    "      raceDB.create_hidden_states_dict_v2()\n",
    "      model_saver_wandb(model, optimizer, 450, 0.1, raceDB.hidden_states_dict_gru_v6,raceDB.train_hidden_dict , model_name=\"long nsw new  22000 RUN\")\n",
    "      if sweep:\n",
    "        raceDB.reset_all_lstm_states\n",
    "        raceDB.reset_hidden()\n",
    "    \n",
    "\n",
    "\n",
    "    # and test its final performance\n",
    "    #test(model, test_loader)\n",
    "\n",
    "    return (model,dataset, optimizer)"
   ]
  },
  {
   "cell_type": "code",
   "execution_count": 19,
   "metadata": {},
   "outputs": [],
   "source": [
    "len(raceDB.raceIDs)\n",
    "wandb_config_static = {'hidden_size':128,'stats':raceDB.stats_cols,'input_type':'basic', 'num_layers':2,'batch_size': 750, 'dropout': 0.3, 'epochs': 10_000, 'learning_rate': 0.001, 'optimizer': 'adamW', }"
   ]
  },
  {
   "cell_type": "code",
   "execution_count": 20,
   "metadata": {},
   "outputs": [
    {
     "name": "stdout",
     "output_type": "stream",
     "text": [
      "C:\\Users\\Nick\\Documents\\GitHub\\grvmodel\\Python\\DATA\n"
     ]
    },
    {
     "data": {
      "text/plain": [
       "<module 'rnn_classes' from 'c:\\\\Users\\\\Nick\\\\Documents\\\\GitHub\\\\grvmodel\\\\Python\\\\pytorch\\\\New Model\\\\LSTM\\\\rnn_classes.py'>"
      ]
     },
     "execution_count": 20,
     "metadata": {},
     "output_type": "execute_result"
    }
   ],
   "source": [
    "importlib.reload(training_testing_gru)\n",
    "importlib.reload(rnn_classes)"
   ]
  },
  {
   "cell_type": "code",
   "execution_count": 21,
   "metadata": {},
   "outputs": [],
   "source": [
    "raceDB.reset_hidden(num_layers=wandb_config_static['num_layers'], hidden_size=wandb_config_static['hidden_size'])"
   ]
  },
  {
   "cell_type": "code",
   "execution_count": 22,
   "metadata": {},
   "outputs": [],
   "source": [
    "torch.cuda.empty_cache()"
   ]
  },
  {
   "cell_type": "code",
   "execution_count": 23,
   "metadata": {},
   "outputs": [
    {
     "name": "stderr",
     "output_type": "stream",
     "text": [
      "Failed to detect the name of this notebook, you can set it manually with the WANDB_NOTEBOOK_NAME environment variable to enable code saving.\n",
      "\u001b[34m\u001b[1mwandb\u001b[0m: Currently logged in as: \u001b[33mnickojelly\u001b[0m (use `wandb login --relogin` to force relogin)\n"
     ]
    },
    {
     "data": {
      "text/html": [
       "wandb version 0.14.2 is available!  To upgrade, please run:\n",
       " $ pip install wandb --upgrade"
      ],
      "text/plain": [
       "<IPython.core.display.HTML object>"
      ]
     },
     "metadata": {},
     "output_type": "display_data"
    },
    {
     "data": {
      "text/html": [
       "Tracking run with wandb version 0.12.14"
      ],
      "text/plain": [
       "<IPython.core.display.HTML object>"
      ]
     },
     "metadata": {},
     "output_type": "display_data"
    },
    {
     "data": {
      "text/html": [
       "Run data is saved locally in <code>C:\\Users\\Nick\\Documents\\GitHub\\grvmodel\\Python\\DATA\\wandb\\run-20230417_164948-1kkxxn7r</code>"
      ],
      "text/plain": [
       "<IPython.core.display.HTML object>"
      ]
     },
     "metadata": {},
     "output_type": "display_data"
    },
    {
     "data": {
      "text/html": [
       "Syncing run <strong><a href=\"https://wandb.ai/nickojelly/NEW%20GRU/runs/1kkxxn7r\" target=\"_blank\">denim-breeze-454</a></strong> to <a href=\"https://wandb.ai/nickojelly/NEW%20GRU\" target=\"_blank\">Weights & Biases</a> (<a href=\"https://wandb.me/run\" target=\"_blank\">docs</a>)<br/>"
      ],
      "text/plain": [
       "<IPython.core.display.HTML object>"
      ]
     },
     "metadata": {},
     "output_type": "display_data"
    },
    {
     "name": "stdout",
     "output_type": "stream",
     "text": [
      "{'hidden_size': 128, 'stats': ['dist_last__1', 'box_last__1', 'speed_avg_1', 'split_speed_avg_1', 'split_margin_avg_1', 'margin_avg_1', 'first_out_avg_1', 'post_change_avg_1', 'races_1', 'wins_1', 'weight_', 'min_time_', 'min_split_time_', 'last_start_price'], 'input_type': 'basic', 'num_layers': 2, 'batch_size': 750, 'dropout': 0.3, 'epochs': 10000, 'learning_rate': 0.001, 'optimizer': 'adamW'}\n",
      "10000\n",
      "{'hidden_size': 128, 'stats': ['dist_last__1', 'box_last__1', 'speed_avg_1', 'split_speed_avg_1', 'split_margin_avg_1', 'margin_avg_1', 'first_out_avg_1', 'post_change_avg_1', 'races_1', 'wins_1', 'weight_', 'min_time_', 'min_split_time_', 'last_start_price'], 'input_type': 'basic', 'num_layers': 2, 'batch_size': 750, 'dropout': 0.3, 'epochs': 10000, 'learning_rate': 0.001, 'optimizer': 'adamW'}\n",
      "basic\n",
      "here\n",
      "input_size=20\n",
      "GRUNetv2(\n",
      "  (gru): GRU(20, 128, num_layers=2, dropout=0.3)\n",
      "  (batchnorm): BatchNorm1d(1094, eps=1e-05, momentum=0.1, affine=True, track_running_stats=True)\n",
      "  (relu0): ReLU()\n",
      "  (fc0): Linear(in_features=128, out_features=1, bias=True)\n",
      "  (rl1): ReLU()\n",
      "  (drop1): Dropout(p=0.3, inplace=False)\n",
      "  (fc1): Linear(in_features=1094, out_features=256, bias=True)\n",
      "  (rl2): ReLU()\n",
      "  (drop2): Dropout(p=0.3, inplace=False)\n",
      "  (fc2): Linear(in_features=256, out_features=64, bias=True)\n",
      "  (rl3): ReLU()\n",
      "  (drop3): Dropout(p=0.3, inplace=False)\n",
      "  (fc3): Linear(in_features=64, out_features=8, bias=True)\n",
      "  (output_fn): Identity()\n",
      ")\n"
     ]
    },
    {
     "data": {
      "application/vnd.jupyter.widget-view+json": {
       "model_id": "61b9875a6af4467ca8bb74e489f2ee2a",
       "version_major": 2,
       "version_minor": 0
      },
      "text/plain": [
       "  0%|          | 0/10000 [00:00<?, ?it/s]"
      ]
     },
     "metadata": {},
     "output_type": "display_data"
    },
    {
     "name": "stdout",
     "output_type": "stream",
     "text": [
      "created path\n",
      "\n",
      "finished Early\n",
      "\n"
     ]
    },
    {
     "data": {
      "text/html": [
       "Waiting for W&B process to finish... <strong style=\"color:green\">(success).</strong>"
      ],
      "text/plain": [
       "<IPython.core.display.HTML object>"
      ]
     },
     "metadata": {},
     "output_type": "display_data"
    },
    {
     "data": {
      "application/vnd.jupyter.widget-view+json": {
       "model_id": "e6c7d3d15bc14b86a89801338b0cadb4",
       "version_major": 2,
       "version_minor": 0
      },
      "text/plain": [
       "VBox(children=(Label(value='614.026 MB of 617.147 MB uploaded (0.000 MB deduped)\\r'), FloatProgress(value=0.99…"
      ]
     },
     "metadata": {},
     "output_type": "display_data"
    },
    {
     "data": {
      "text/html": [
       "<style>\n",
       "    table.wandb td:nth-child(1) { padding: 0 10px; text-align: right }\n",
       "    .wandb-row { display: flex; flex-direction: row; flex-wrap: wrap; width: 100% }\n",
       "    .wandb-col { display: flex; flex-direction: column; flex-basis: 100%; flex: 1; padding: 10px; }\n",
       "    </style>\n",
       "<div class=\"wandb-row\"><div class=\"wandb-col\"><h3>Run history:</h3><br/><table class=\"wandb\"><tr><td>ROI < 30</td><td>▃█▁▄▄▅▆▆▇▅▇▆▇▆▅▆▄▆▄▄▆▅▅▄▃▃▅▄▄▄▄▅</td></tr><tr><td>ROI < 30 2</td><td>▂█▁▄▅▅▅▅▆▅▆▅▅▅▅▆▄▅▄▄▅▅▄▄▄▄▄▄▄▄▄▅</td></tr><tr><td>accuracy</td><td>▁▃▇▇████████████████████████████</td></tr><tr><td>epoch</td><td>▁▁▁▂▂▂▂▂▂▃▃▃▃▃▄▄▄▄▄▄▅▅▅▅▅▅▆▆▆▆▆▇▇▇▇▇▇███</td></tr><tr><td>flat_simple</td><td>▁█▃▇▇▆▅▇▇▆█▇▅▇▇▇▇▆▅▆▅▆▇▇▅▆▆▇▅▅▆▆</td></tr><tr><td>loss_1</td><td>█▇▅▄▃▃▃▃▃▃▂▂▂▂▂▂▂▂▂▂▂▂▂▂▂▂▂▂▁▁▁▁▁▁▁▁▁▁▁▁</td></tr><tr><td>loss_val</td><td>█▇▃▂▂▂▂▁▁▁▁▁▁▁▁▁▁▁▁▁▁▁▁▁▁▁▁▁▁▁▁▁</td></tr><tr><td>multibet outlay < 30</td><td>▃▁▄▅▅▅▅▅▅▆▆▆▆▆▆▆▇▆▆▇▆▇▆▇▇█▇▇▇▇▇█</td></tr><tr><td>multibet profit</td><td>▁▂▃▅▆▆▆▇▇▇▇▇▇▇▇▇▇▇▇▇▇▇█▇▇▇█▇█▇█▇</td></tr><tr><td>multibet profit < 30</td><td>▃█▁▄▄▄▆▇▇▅▇▆▇▆▅▆▄▆▄▃▆▅▅▄▂▂▄▄▃▃▄▄</td></tr><tr><td>multibet profit < 30 sd</td><td>█▁▃▃▃▄▄▄▄▅▅▄▅▄▅▅▅▅▅▆▅▅▅▆▆▆▅▇▅▆██</td></tr></table><br/></div><div class=\"wandb-col\"><h3>Run summary:</h3><br/><table class=\"wandb\"><tr><td>ROI < 30</td><td>-0.00913</td></tr><tr><td>ROI < 30 2</td><td>-0.02374</td></tr><tr><td>accuracy</td><td>0.32802</td></tr><tr><td>epoch</td><td>630</td></tr><tr><td>flat_simple</td><td>-1032.48449</td></tr><tr><td>loss_1</td><td>1.47623</td></tr><tr><td>loss_val</td><td>1.71363</td></tr><tr><td>multibet outlay < 30</td><td>288762.54476</td></tr><tr><td>multibet profit < 30</td><td>-2637.51698</td></tr><tr><td>multibet profit < 30 sd</td><td>16.44804</td></tr></table><br/></div></div>"
      ],
      "text/plain": [
       "<IPython.core.display.HTML object>"
      ]
     },
     "metadata": {},
     "output_type": "display_data"
    },
    {
     "data": {
      "text/html": [
       "Synced <strong style=\"color:#cdcd00\">denim-breeze-454</strong>: <a href=\"https://wandb.ai/nickojelly/NEW%20GRU/runs/1kkxxn7r\" target=\"_blank\">https://wandb.ai/nickojelly/NEW%20GRU/runs/1kkxxn7r</a><br/>Synced 5 W&B file(s), 46 media file(s), 46 artifact file(s) and 0 other file(s)"
      ],
      "text/plain": [
       "<IPython.core.display.HTML object>"
      ]
     },
     "metadata": {},
     "output_type": "display_data"
    },
    {
     "data": {
      "text/html": [
       "Find logs at: <code>.\\wandb\\run-20230417_164948-1kkxxn7r\\logs</code>"
      ],
      "text/plain": [
       "<IPython.core.display.HTML object>"
      ]
     },
     "metadata": {},
     "output_type": "display_data"
    }
   ],
   "source": [
    "(model,dataset, optimizer) = model_pipeline(raceDB,config=wandb_config_static,sweep=False)"
   ]
  },
  {
   "cell_type": "code",
   "execution_count": 26,
   "metadata": {},
   "outputs": [
    {
     "data": {
      "text/plain": [
       "(tensor([[-8.9795e-01,  9.9562e-01,  1.0000e+00, -1.0000e+00, -1.0000e+00,\n",
       "          -1.0000e+00,  1.0000e+00, -9.9148e-01,  1.0000e+00,  1.0000e+00,\n",
       "           1.0000e+00, -9.9997e-01, -4.4165e-01, -1.0000e+00,  9.9524e-01,\n",
       "          -1.0000e+00,  1.0000e+00, -1.0000e+00, -1.0000e+00, -1.0000e+00,\n",
       "           1.0000e+00,  1.0000e+00,  1.0000e+00, -1.0000e+00, -1.0000e+00,\n",
       "          -1.2476e-01, -1.0000e+00,  1.0000e+00, -1.2256e-01, -1.0000e+00,\n",
       "          -1.0000e+00,  9.8393e-01, -9.9970e-01, -1.0000e+00, -9.9992e-01,\n",
       "           4.5197e-02,  1.0000e+00,  9.9931e-01, -9.9929e-01,  1.0000e+00,\n",
       "           1.0000e+00, -1.0000e+00,  3.5620e-01,  8.2227e-01,  6.2695e-01,\n",
       "           9.6001e-01, -1.0000e+00, -7.2951e-01,  9.6449e-01,  1.0000e+00,\n",
       "           1.0000e+00,  1.0000e+00,  1.0000e+00,  1.0000e+00,  1.0000e+00,\n",
       "           9.0258e-01,  5.7466e-01, -9.9603e-01,  1.0000e+00,  8.1689e-01,\n",
       "          -9.5777e-01, -1.0000e+00,  1.0000e+00, -9.9989e-01,  5.2100e-01,\n",
       "          -1.1578e-01,  7.6904e-02, -9.5949e-01, -1.0000e+00, -7.5684e-01,\n",
       "          -1.0000e+00,  7.2402e-01, -9.9953e-01, -1.0000e+00, -8.4473e-01,\n",
       "          -1.0000e+00, -1.0000e+00, -9.1211e-01, -1.0000e+00, -1.0000e+00,\n",
       "           1.0000e+00,  1.0000e+00,  1.0000e+00,  1.0000e+00,  1.0000e+00,\n",
       "           6.9558e-01,  5.1910e-02, -1.0000e+00,  1.0000e+00, -1.0000e+00,\n",
       "          -6.6733e-04, -1.1464e-01,  1.0000e+00,  8.4619e-01, -2.1582e-01,\n",
       "          -1.0000e+00, -1.0000e+00,  9.8244e-01, -3.6475e-01, -1.0000e+00,\n",
       "          -1.0000e+00,  1.0000e+00, -9.9999e-01, -4.5288e-01, -7.0850e-01,\n",
       "           5.0244e-01,  1.0000e+00,  1.0000e+00,  1.9608e-03, -7.6243e-01,\n",
       "          -9.9899e-01, -1.0000e+00,  9.5609e-01,  1.0000e+00, -5.9228e-01,\n",
       "           1.0000e+00, -1.0000e+00, -1.0000e+00,  1.8037e-02, -1.0000e+00,\n",
       "           1.0000e+00, -9.9991e-01, -1.0000e+00, -8.7354e-01,  9.9998e-01,\n",
       "          -7.6392e-01, -7.3555e-01, -1.0000e+00],\n",
       "         [ 9.8867e-01,  4.9024e-01, -9.5254e-01,  2.7344e-01,  2.7992e-01,\n",
       "           9.5965e-01, -1.1585e-01, -9.1389e-01,  3.9640e-01,  6.0596e-01,\n",
       "          -3.6722e-01, -3.8779e-01, -2.3294e-01, -2.2869e-01,  1.4087e-01,\n",
       "          -9.1348e-01, -4.8543e-01,  8.7260e-01,  5.2205e-01, -8.8308e-01,\n",
       "          -2.7224e-01,  4.1541e-01, -8.7449e-01, -5.4002e-01, -6.7234e-01,\n",
       "           1.9538e-02,  9.4417e-01, -7.1561e-01, -1.1076e-01, -2.9903e-01,\n",
       "           8.2167e-01,  6.4278e-01, -7.2304e-01,  3.8043e-01,  2.8079e-01,\n",
       "          -9.4113e-01, -2.8325e-01,  6.8429e-01, -4.2361e-01, -7.4901e-01,\n",
       "           2.7565e-01,  5.2154e-01,  5.1051e-02,  7.4688e-01,  4.2422e-01,\n",
       "          -3.7303e-01, -5.6438e-01, -4.4411e-02, -2.6591e-01, -4.0538e-01,\n",
       "           6.2933e-01,  9.1432e-02,  8.5349e-01, -2.3435e-01, -1.4635e-01,\n",
       "           2.6262e-01,  3.8652e-01,  5.9623e-01,  4.8408e-01,  6.0472e-01,\n",
       "           8.8728e-01,  2.6812e-01,  9.9125e-01, -2.0108e-01,  7.0771e-01,\n",
       "          -7.9990e-01, -2.9575e-02, -2.6049e-01,  8.0495e-01, -7.1062e-01,\n",
       "          -5.6024e-01, -7.9923e-01, -6.7692e-01, -7.7597e-01, -1.5184e-03,\n",
       "          -5.8367e-01,  4.1175e-01, -8.8121e-01,  5.6174e-01,  5.9347e-01,\n",
       "           1.7294e-01,  6.7893e-01,  5.4056e-01, -8.0191e-01,  9.6974e-01,\n",
       "           3.8863e-01,  3.8745e-03, -4.3006e-01,  7.7670e-01,  1.0378e-01,\n",
       "          -4.0386e-01,  2.5439e-01,  1.9295e-02,  8.9809e-01,  4.5649e-01,\n",
       "          -8.5551e-01,  8.1813e-02,  7.1498e-01,  4.1358e-01,  9.3382e-01,\n",
       "           2.4332e-01,  4.0228e-02,  9.4423e-01, -7.8896e-01,  9.6451e-01,\n",
       "          -4.1089e-01,  8.9851e-01, -2.2448e-01, -5.5338e-01, -4.7522e-01,\n",
       "          -8.4816e-02,  4.2613e-01,  3.9151e-01,  9.7374e-01, -1.1227e-01,\n",
       "          -7.3353e-01, -7.0920e-01, -2.7438e-01, -9.0701e-01, -7.2121e-01,\n",
       "          -5.9768e-01, -2.7075e-01,  6.8591e-01,  8.0228e-01, -5.4810e-01,\n",
       "          -8.8409e-01,  8.7215e-01,  8.5882e-02]], device='cuda:0'),\n",
       " datetime.date(2022, 8, 23))"
      ]
     },
     "execution_count": 26,
     "metadata": {},
     "output_type": "execute_result"
    }
   ],
   "source": [
    "raceDB.hidden_states_dict_gru_v6['279335076']"
   ]
  },
  {
   "cell_type": "code",
   "execution_count": null,
   "metadata": {},
   "outputs": [],
   "source": []
  },
  {
   "cell_type": "code",
   "execution_count": 28,
   "metadata": {},
   "outputs": [
    {
     "data": {
      "text/plain": [
       "'311426112'"
      ]
     },
     "execution_count": 28,
     "metadata": {},
     "output_type": "execute_result"
    }
   ],
   "source": [
    "raceDB.dog_ids[0]"
   ]
  },
  {
   "cell_type": "code",
   "execution_count": 27,
   "metadata": {},
   "outputs": [],
   "source": [
    "dog = raceDB.dogsDict['279335076']"
   ]
  },
  {
   "cell_type": "code",
   "execution_count": 29,
   "metadata": {},
   "outputs": [
    {
     "data": {
      "text/plain": [
       "[<rnn_classes.DogInput at 0x21cba14b910>,\n",
       " <rnn_classes.DogInput at 0x21cba14b520>,\n",
       " <rnn_classes.DogInput at 0x21cba14b7f0>,\n",
       " <rnn_classes.DogInput at 0x21cba14b6a0>,\n",
       " <rnn_classes.DogInput at 0x21cba14b820>,\n",
       " <rnn_classes.DogInput at 0x21cba14b850>,\n",
       " <rnn_classes.DogInput at 0x21cba14b610>,\n",
       " <rnn_classes.DogInput at 0x21cba14b7c0>,\n",
       " <rnn_classes.DogInput at 0x21cba14bb50>,\n",
       " <rnn_classes.DogInput at 0x21cba14bb80>,\n",
       " <rnn_classes.DogInput at 0x21cba14b4f0>,\n",
       " <rnn_classes.DogInput at 0x21cba14b9a0>,\n",
       " <rnn_classes.DogInput at 0x21cba14b8b0>,\n",
       " <rnn_classes.DogInput at 0x21cba14bbb0>,\n",
       " <rnn_classes.DogInput at 0x21cba14ba90>,\n",
       " <rnn_classes.DogInput at 0x21cba14ba30>,\n",
       " <rnn_classes.DogInput at 0x21cba14bc10>,\n",
       " <rnn_classes.DogInput at 0x21cba14bc40>,\n",
       " <rnn_classes.DogInput at 0x21cba14bc70>,\n",
       " <rnn_classes.DogInput at 0x21cba14bca0>,\n",
       " <rnn_classes.DogInput at 0x21cba14bcd0>,\n",
       " <rnn_classes.DogInput at 0x21cba14bd00>,\n",
       " <rnn_classes.DogInput at 0x21cba14bd30>,\n",
       " <rnn_classes.DogInput at 0x21cba14bd60>,\n",
       " <rnn_classes.DogInput at 0x21cba14bd90>,\n",
       " <rnn_classes.DogInput at 0x21cba14bdc0>,\n",
       " <rnn_classes.DogInput at 0x21cba14bdf0>,\n",
       " <rnn_classes.DogInput at 0x21cba14be20>,\n",
       " <rnn_classes.DogInput at 0x21cba14be50>,\n",
       " <rnn_classes.DogInput at 0x21cba14be80>,\n",
       " <rnn_classes.DogInput at 0x21cba14beb0>,\n",
       " <rnn_classes.DogInput at 0x21cba14bee0>,\n",
       " <rnn_classes.DogInput at 0x21cba14bf10>,\n",
       " <rnn_classes.DogInput at 0x21cba14bf40>,\n",
       " <rnn_classes.DogInput at 0x21cba14bf70>,\n",
       " <rnn_classes.DogInput at 0x21cba14bfa0>,\n",
       " <rnn_classes.DogInput at 0x21cba14bfd0>,\n",
       " <rnn_classes.DogInput at 0x21cba12d040>,\n",
       " <rnn_classes.DogInput at 0x21cba12d070>,\n",
       " <rnn_classes.DogInput at 0x21cba12d0a0>,\n",
       " <rnn_classes.DogInput at 0x21cba12d0d0>,\n",
       " <rnn_classes.DogInput at 0x21cba12d100>,\n",
       " <rnn_classes.DogInput at 0x21cba12d130>,\n",
       " <rnn_classes.DogInput at 0x21cba12d160>,\n",
       " <rnn_classes.DogInput at 0x21cba12d190>,\n",
       " <rnn_classes.DogInput at 0x21cba12d1c0>,\n",
       " <rnn_classes.DogInput at 0x21cba12d1f0>,\n",
       " <rnn_classes.DogInput at 0x21cba12d220>,\n",
       " <rnn_classes.DogInput at 0x21cba12d250>,\n",
       " <rnn_classes.DogInput at 0x21cba12d280>,\n",
       " <rnn_classes.DogInput at 0x21cba12d2b0>,\n",
       " <rnn_classes.DogInput at 0x21cba12d2e0>,\n",
       " <rnn_classes.DogInput at 0x21cba12d310>,\n",
       " <rnn_classes.DogInput at 0x21cba12d340>,\n",
       " <rnn_classes.DogInput at 0x21cba12d370>,\n",
       " <rnn_classes.DogInput at 0x21cba12d3a0>,\n",
       " <rnn_classes.DogInput at 0x21cba12d3d0>,\n",
       " <rnn_classes.DogInput at 0x21cba12d400>,\n",
       " <rnn_classes.DogInput at 0x21cba12d430>,\n",
       " <rnn_classes.DogInput at 0x21cba12d460>,\n",
       " <rnn_classes.DogInput at 0x21cba12d490>,\n",
       " <rnn_classes.DogInput at 0x21cba12d4c0>,\n",
       " <rnn_classes.DogInput at 0x21cba12d4f0>,\n",
       " <rnn_classes.DogInput at 0x21cba12d520>,\n",
       " <rnn_classes.DogInput at 0x21cba12d550>,\n",
       " <rnn_classes.DogInput at 0x21cba12d580>,\n",
       " <rnn_classes.DogInput at 0x21cba12d5b0>,\n",
       " <rnn_classes.DogInput at 0x21cba12d5e0>,\n",
       " <rnn_classes.DogInput at 0x21cba12d610>,\n",
       " <rnn_classes.DogInput at 0x21cba12d640>,\n",
       " <rnn_classes.DogInput at 0x21cba12d670>,\n",
       " <rnn_classes.DogInput at 0x21cba12d6a0>,\n",
       " <rnn_classes.DogInput at 0x21cba12d6d0>,\n",
       " <rnn_classes.DogInput at 0x21cba12d700>,\n",
       " <rnn_classes.DogInput at 0x21cba12d730>,\n",
       " <rnn_classes.DogInput at 0x21cba12d760>,\n",
       " <rnn_classes.DogInput at 0x21cba12d790>,\n",
       " <rnn_classes.DogInput at 0x21cba12d7c0>,\n",
       " <rnn_classes.DogInput at 0x21cba12d7f0>,\n",
       " <rnn_classes.DogInput at 0x21cba12d820>,\n",
       " <rnn_classes.DogInput at 0x21cba12d850>,\n",
       " <rnn_classes.DogInput at 0x21cba12d880>,\n",
       " <rnn_classes.DogInput at 0x21cba12d8b0>,\n",
       " <rnn_classes.DogInput at 0x21cba12d8e0>,\n",
       " <rnn_classes.DogInput at 0x21cba12d910>,\n",
       " <rnn_classes.DogInput at 0x21cba12d940>,\n",
       " <rnn_classes.DogInput at 0x21cba12d970>,\n",
       " <rnn_classes.DogInput at 0x21cba12d9a0>,\n",
       " <rnn_classes.DogInput at 0x21cba12d9d0>,\n",
       " <rnn_classes.DogInput at 0x21cba12da00>,\n",
       " <rnn_classes.DogInput at 0x21cba12da30>,\n",
       " <rnn_classes.DogInput at 0x21cba12da60>,\n",
       " <rnn_classes.DogInput at 0x21cba12da90>,\n",
       " <rnn_classes.DogInput at 0x21cba12dac0>,\n",
       " <rnn_classes.DogInput at 0x21cba12daf0>,\n",
       " <rnn_classes.DogInput at 0x21cba12db20>,\n",
       " <rnn_classes.DogInput at 0x21cba12db50>,\n",
       " <rnn_classes.DogInput at 0x21cba12db80>,\n",
       " <rnn_classes.DogInput at 0x21cba12dbb0>,\n",
       " <rnn_classes.DogInput at 0x21cba12dbe0>,\n",
       " <rnn_classes.DogInput at 0x21cba12dc10>,\n",
       " <rnn_classes.DogInput at 0x21cba12dc40>,\n",
       " <rnn_classes.DogInput at 0x21cba12dc70>,\n",
       " <rnn_classes.DogInput at 0x21cba12dca0>,\n",
       " <rnn_classes.DogInput at 0x21cba12dcd0>,\n",
       " <rnn_classes.DogInput at 0x21cba12dd00>,\n",
       " <rnn_classes.DogInput at 0x21cba12dd30>,\n",
       " <rnn_classes.DogInput at 0x21cba12dd60>,\n",
       " <rnn_classes.DogInput at 0x21cba12dd90>,\n",
       " <rnn_classes.DogInput at 0x21cba12ddc0>,\n",
       " <rnn_classes.DogInput at 0x21cba12ddf0>,\n",
       " <rnn_classes.DogInput at 0x21cba12de20>,\n",
       " <rnn_classes.DogInput at 0x21cba12de50>,\n",
       " <rnn_classes.DogInput at 0x21cba12de80>,\n",
       " <rnn_classes.DogInput at 0x21cba12deb0>,\n",
       " <rnn_classes.DogInput at 0x21cba12dee0>,\n",
       " <rnn_classes.DogInput at 0x21cba12df10>,\n",
       " <rnn_classes.DogInput at 0x21cba12df40>,\n",
       " <rnn_classes.DogInput at 0x21cba12df70>,\n",
       " <rnn_classes.DogInput at 0x21cba12dfa0>,\n",
       " <rnn_classes.DogInput at 0x21cba12dfd0>,\n",
       " <rnn_classes.DogInput at 0x21cba123040>,\n",
       " <rnn_classes.DogInput at 0x21cba123070>,\n",
       " <rnn_classes.DogInput at 0x21cba1230a0>,\n",
       " <rnn_classes.DogInput at 0x21cba1230d0>,\n",
       " <rnn_classes.DogInput at 0x21cba123100>]"
      ]
     },
     "execution_count": 29,
     "metadata": {},
     "output_type": "execute_result"
    }
   ],
   "source": [
    "dog.train"
   ]
  },
  {
   "cell_type": "code",
   "execution_count": 30,
   "metadata": {},
   "outputs": [
    {
     "data": {
      "text/plain": [
       "datetime.date(2022, 7, 25)"
      ]
     },
     "execution_count": 30,
     "metadata": {},
     "output_type": "execute_result"
    }
   ],
   "source": [
    "dog.train[-1].race.race_date"
   ]
  },
  {
   "cell_type": "code",
   "execution_count": 33,
   "metadata": {},
   "outputs": [
    {
     "data": {
      "text/plain": [
       "[datetime.date(2022, 8, 11),\n",
       " datetime.date(2022, 8, 15),\n",
       " datetime.date(2022, 8, 23)]"
      ]
     },
     "execution_count": 33,
     "metadata": {},
     "output_type": "execute_result"
    }
   ],
   "source": [
    "[r.race.race_date for r in dog.test]"
   ]
  },
  {
   "cell_type": "code",
   "execution_count": 32,
   "metadata": {},
   "outputs": [
    {
     "data": {
      "text/plain": [
       "<rnn_classes.DogInput at 0x21cba123190>"
      ]
     },
     "execution_count": 32,
     "metadata": {},
     "output_type": "execute_result"
    }
   ],
   "source": [
    "dog.test[-1]"
   ]
  },
  {
   "cell_type": "code",
   "execution_count": null,
   "metadata": {},
   "outputs": [],
   "source": [
    "raceDB.reset_hidden(num_layers=wandb_config_static['num_layers'], hidden_size=wandb_config_static['hidden_size'])"
   ]
  },
  {
   "cell_type": "code",
   "execution_count": 44,
   "metadata": {},
   "outputs": [
    {
     "data": {
      "text/plain": [
       "[<rnn_classes.DogInput at 0x251b3cb6f70>,\n",
       " <rnn_classes.DogInput at 0x251b9c6e760>,\n",
       " <rnn_classes.DogInput at 0x251b3cb6f70>,\n",
       " <rnn_classes.DogInput at 0x251b3cb6f70>,\n",
       " <rnn_classes.DogInput at 0x251ba6013d0>,\n",
       " <rnn_classes.DogInput at 0x251b9f76760>,\n",
       " <rnn_classes.DogInput at 0x251ba3d8b50>,\n",
       " <rnn_classes.DogInput at 0x251b9c6eee0>]"
      ]
     },
     "execution_count": 44,
     "metadata": {},
     "output_type": "execute_result"
    }
   ],
   "source": [
    "race = raceDB.batches['batch_races'][0][2]\n",
    "[d for d in race.dogs]"
   ]
  },
  {
   "cell_type": "code",
   "execution_count": 18,
   "metadata": {},
   "outputs": [
    {
     "name": "stdout",
     "output_type": "stream",
     "text": [
      "{'method': 'random',\n",
      " 'metric': {'goal': 'maximize', 'name': 'ROI < 30'},\n",
      " 'parameters': {'batch_before_backwards': {'values': [7]},\n",
      "                'batch_size': {'values': [7]},\n",
      "                'dropout': {'values': [0.3]},\n",
      "                'epochs': {'values': [500]},\n",
      "                'f1_layer_size': {'values': [256]},\n",
      "                'f2_layer_size': {'values': [64]},\n",
      "                'hidden_size': {'values': [32, 64, 128]},\n",
      "                'input_type': {'values': ['full', 'basic']},\n",
      "                'l1_beta': {'value': 0.1},\n",
      "                'learning_rate': {'distribution': 'uniform',\n",
      "                                  'max': 0.002,\n",
      "                                  'min': 1e-05},\n",
      "                'len_data': {'value': 92063},\n",
      "                'loss': {'values': ['CEL']},\n",
      "                'num_layers': {'values': [2, 3, 4]},\n",
      "                'optimizer': {'value': 'adamW'},\n",
      "                'validation_split': {'value': 0.1}}}\n"
     ]
    },
    {
     "data": {
      "text/plain": [
       "{'method': 'random',\n",
       " 'metric': {'name': 'ROI < 30', 'goal': 'maximize'},\n",
       " 'parameters': {'optimizer': {'value': 'adamW'},\n",
       "  'f1_layer_size': {'values': [256]},\n",
       "  'f2_layer_size': {'values': [64]},\n",
       "  'dropout': {'values': [0.3]},\n",
       "  'input_type': {'values': ['full', 'basic']},\n",
       "  'num_layers': {'values': [2, 3, 4]},\n",
       "  'hidden_size': {'values': [32, 64, 128]},\n",
       "  'len_data': {'value': 92063},\n",
       "  'epochs': {'values': [500]},\n",
       "  'validation_split': {'value': 0.1},\n",
       "  'loss': {'values': ['CEL']},\n",
       "  'learning_rate': {'distribution': 'uniform', 'min': 1e-05, 'max': 0.002},\n",
       "  'l1_beta': {'value': 0.1},\n",
       "  'batch_size': {'values': [7]},\n",
       "  'batch_before_backwards': {'values': [7]}}}"
      ]
     },
     "execution_count": 18,
     "metadata": {},
     "output_type": "execute_result"
    }
   ],
   "source": [
    "sweep_config = {\"method\": \"random\"}\n",
    "\n",
    "metric = {\"name\": \"ROI < 30\", \"goal\": \"maximize\"}\n",
    "\n",
    "sweep_config[\"metric\"] = metric\n",
    "\n",
    "\n",
    "parameters_dict = {\n",
    "    \"optimizer\": {\"value\": \"adamW\"},\n",
    "    \"f1_layer_size\": {\"values\": [256]},\n",
    "    \"f2_layer_size\": {\"values\": [64]},\n",
    "    \"dropout\": {\"values\": [0.3]},\n",
    "    \"input_type\": {\"values\": ['full','basic']},\n",
    "    \"num_layers\": {\"values\": [2,3,4]},\n",
    "    'hidden_size':{'values':[32,64,128]},\n",
    "    \"len_data\": {\"value\": len(raceDB.raceIDs)},\n",
    "    # \"hidden_size\": {\"value\":hidden_size}\n",
    "}\n",
    "\n",
    "sweep_config[\"parameters\"] = parameters_dict\n",
    "\n",
    "parameters_dict.update(\n",
    "    {\n",
    "        \"epochs\": {\"values\": [500]},\n",
    "        \"validation_split\": {\"value\": 0.1},\n",
    "        \"loss\": {\n",
    "            \"values\": [ \"CEL\"],\n",
    "            # \"values\": [\"Huber\", \"MSE\", \"L1\", \"BCE\", \"Custom\", \"KL\"]\n",
    "            # 'value': 'l1_custom'\n",
    "        },\n",
    "        # \"num_layers\": {\"values\": [2]},\n",
    "    }\n",
    ")\n",
    "\n",
    "parameters_dict.update(\n",
    "    {\n",
    "        \"learning_rate\": {\n",
    "            # a flat distribution between 0 and 0.1\n",
    "            \"distribution\": \"uniform\",\n",
    "            \"min\": 0.00001,\n",
    "            \"max\": 0.002,\n",
    "        },\n",
    "        \"l1_beta\": {\"value\": 0.1\n",
    "        },\n",
    "        \"batch_size\": {\n",
    "            'values': [7]\n",
    "        },\n",
    "        \"batch_before_backwards\": {\n",
    "            'values': [7]\n",
    "        }\n",
    "    }\n",
    ")\n",
    "\n",
    "import pprint\n",
    "\n",
    "pprint.pprint(sweep_config)\n",
    "\n",
    "\n",
    "sweep_config"
   ]
  },
  {
   "cell_type": "code",
   "execution_count": 19,
   "metadata": {},
   "outputs": [
    {
     "name": "stderr",
     "output_type": "stream",
     "text": [
      "Failed to detect the name of this notebook, you can set it manually with the WANDB_NOTEBOOK_NAME environment variable to enable code saving.\n"
     ]
    },
    {
     "name": "stdout",
     "output_type": "stream",
     "text": [
      "Create sweep with ID: 18jdrdus\n",
      "Sweep URL: https://wandb.ai/nickojelly/NEW%20GRU-sweeps/sweeps/18jdrdus\n"
     ]
    },
    {
     "name": "stderr",
     "output_type": "stream",
     "text": [
      "\u001b[34m\u001b[1mwandb\u001b[0m: Agent Starting Run: 8hme8e5i with config:\n",
      "\u001b[34m\u001b[1mwandb\u001b[0m: \tbatch_before_backwards: 7\n",
      "\u001b[34m\u001b[1mwandb\u001b[0m: \tbatch_size: 7\n",
      "\u001b[34m\u001b[1mwandb\u001b[0m: \tdropout: 0.3\n",
      "\u001b[34m\u001b[1mwandb\u001b[0m: \tepochs: 500\n",
      "\u001b[34m\u001b[1mwandb\u001b[0m: \tf1_layer_size: 256\n",
      "\u001b[34m\u001b[1mwandb\u001b[0m: \tf2_layer_size: 64\n",
      "\u001b[34m\u001b[1mwandb\u001b[0m: \thidden_size: 64\n",
      "\u001b[34m\u001b[1mwandb\u001b[0m: \tinput_type: basic\n",
      "\u001b[34m\u001b[1mwandb\u001b[0m: \tl1_beta: 0.1\n",
      "\u001b[34m\u001b[1mwandb\u001b[0m: \tlearning_rate: 0.0008253742335329684\n",
      "\u001b[34m\u001b[1mwandb\u001b[0m: \tlen_data: 92063\n",
      "\u001b[34m\u001b[1mwandb\u001b[0m: \tloss: CEL\n",
      "\u001b[34m\u001b[1mwandb\u001b[0m: \tnum_layers: 2\n",
      "\u001b[34m\u001b[1mwandb\u001b[0m: \toptimizer: adamW\n",
      "\u001b[34m\u001b[1mwandb\u001b[0m: \tvalidation_split: 0.1\n",
      "Failed to detect the name of this notebook, you can set it manually with the WANDB_NOTEBOOK_NAME environment variable to enable code saving.\n",
      "\u001b[34m\u001b[1mwandb\u001b[0m: Currently logged in as: \u001b[33mnickojelly\u001b[0m (use `wandb login --relogin` to force relogin)\n",
      "\u001b[34m\u001b[1mwandb\u001b[0m: \u001b[33mWARNING\u001b[0m Ignored wandb.init() arg project when running a sweep.\n"
     ]
    },
    {
     "data": {
      "text/html": [
       "wandb version 0.14.2 is available!  To upgrade, please run:\n",
       " $ pip install wandb --upgrade"
      ],
      "text/plain": [
       "<IPython.core.display.HTML object>"
      ]
     },
     "metadata": {},
     "output_type": "display_data"
    },
    {
     "data": {
      "text/html": [
       "Tracking run with wandb version 0.12.14"
      ],
      "text/plain": [
       "<IPython.core.display.HTML object>"
      ]
     },
     "metadata": {},
     "output_type": "display_data"
    },
    {
     "data": {
      "text/html": [
       "Run data is saved locally in <code>C:\\Users\\Nick\\Documents\\GitHub\\grvmodel\\Python\\DATA\\wandb\\run-20230413_223933-8hme8e5i</code>"
      ],
      "text/plain": [
       "<IPython.core.display.HTML object>"
      ]
     },
     "metadata": {},
     "output_type": "display_data"
    },
    {
     "data": {
      "text/html": [
       "Syncing run <strong><a href=\"https://wandb.ai/nickojelly/NEW%20GRU-sweeps/runs/8hme8e5i\" target=\"_blank\">grateful-sweep-1</a></strong> to <a href=\"https://wandb.ai/nickojelly/NEW%20GRU-sweeps\" target=\"_blank\">Weights & Biases</a> (<a href=\"https://wandb.me/run\" target=\"_blank\">docs</a>)<br/>Sweep page:  <a href=\"https://wandb.ai/nickojelly/NEW%20GRU-sweeps/sweeps/18jdrdus\" target=\"_blank\">https://wandb.ai/nickojelly/NEW%20GRU-sweeps/sweeps/18jdrdus</a>"
      ],
      "text/plain": [
       "<IPython.core.display.HTML object>"
      ]
     },
     "metadata": {},
     "output_type": "display_data"
    },
    {
     "name": "stdout",
     "output_type": "stream",
     "text": [
      "{'batch_before_backwards': 7, 'batch_size': 7, 'dropout': 0.3, 'epochs': 500, 'f1_layer_size': 256, 'f2_layer_size': 64, 'hidden_size': 64, 'input_type': 'basic', 'l1_beta': 0.1, 'learning_rate': 0.0008253742335329684, 'len_data': 92063, 'loss': 'CEL', 'num_layers': 2, 'optimizer': 'adamW', 'validation_split': 0.1}\n",
      "500\n",
      "{'batch_before_backwards': 7, 'batch_size': 7, 'dropout': 0.3, 'epochs': 500, 'f1_layer_size': 256, 'f2_layer_size': 64, 'hidden_size': 64, 'input_type': 'basic', 'l1_beta': 0.1, 'learning_rate': 0.0008253742335329684, 'len_data': 92063, 'loss': 'CEL', 'num_layers': 2, 'optimizer': 'adamW', 'validation_split': 0.1}\n",
      "basic\n",
      "here\n",
      "input_size=20\n",
      "GRUNetv2(\n",
      "  (gru): GRU(20, 64, num_layers=2, dropout=0.3)\n",
      "  (batchnorm): BatchNorm1d(582, eps=1e-05, momentum=0.1, affine=True, track_running_stats=True)\n",
      "  (relu0): ReLU()\n",
      "  (fc0): Linear(in_features=64, out_features=1, bias=True)\n",
      "  (rl1): ReLU()\n",
      "  (drop1): Dropout(p=0.3, inplace=False)\n",
      "  (fc1): Linear(in_features=582, out_features=64, bias=True)\n",
      "  (rl2): ReLU()\n",
      "  (drop2): Dropout(p=0.3, inplace=False)\n",
      "  (fc2): Linear(in_features=64, out_features=8, bias=True)\n",
      "  (output_fn): Identity()\n",
      ")\n"
     ]
    },
    {
     "data": {
      "application/vnd.jupyter.widget-view+json": {
       "model_id": "a7ddb935f23e415199d4d7e2392e4cbf",
       "version_major": 2,
       "version_minor": 0
      },
      "text/plain": [
       "  0%|          | 0/500 [00:00<?, ?it/s]"
      ]
     },
     "metadata": {},
     "output_type": "display_data"
    },
    {
     "name": "stdout",
     "output_type": "stream",
     "text": [
      "\n"
     ]
    },
    {
     "data": {
      "text/html": [
       "Waiting for W&B process to finish... <strong style=\"color:green\">(success).</strong>"
      ],
      "text/plain": [
       "<IPython.core.display.HTML object>"
      ]
     },
     "metadata": {},
     "output_type": "display_data"
    },
    {
     "data": {
      "application/vnd.jupyter.widget-view+json": {
       "model_id": "0f4755bcb4874c7fa114aed58c83ab81",
       "version_major": 2,
       "version_minor": 0
      },
      "text/plain": [
       "VBox(children=(Label(value='441.242 MB of 441.242 MB uploaded (0.000 MB deduped)\\r'), FloatProgress(value=1.0,…"
      ]
     },
     "metadata": {},
     "output_type": "display_data"
    },
    {
     "data": {
      "text/html": [
       "<style>\n",
       "    table.wandb td:nth-child(1) { padding: 0 10px; text-align: right }\n",
       "    .wandb-row { display: flex; flex-direction: row; flex-wrap: wrap; width: 100% }\n",
       "    .wandb-col { display: flex; flex-direction: column; flex-basis: 100%; flex: 1; padding: 10px; }\n",
       "    </style>\n",
       "<div class=\"wandb-row\"><div class=\"wandb-col\"><h3>Run history:</h3><br/><table class=\"wandb\"><tr><td>ROI < 30</td><td>▁▆█▆▅▅▂▄▃▆▅▇▆█▅▅▅▄▃▅▄▄▆▄▆</td></tr><tr><td>ROI < 30 2</td><td>▆▇█▅▃▃▁▃▃▅▄▅▅▇▃▂▄▂▁▃▂▂▃▃▃</td></tr><tr><td>accuracy</td><td>▁▁▃▅▆▇▇▇▇████████████████</td></tr><tr><td>epoch</td><td>▁▁▁▂▂▂▂▂▂▃▃▃▃▃▄▄▄▄▄▄▅▅▅▅▅▅▆▆▆▆▆▇▇▇▇▇▇███</td></tr><tr><td>flat_simple</td><td>█▃▄▃▄▂▂▃▁▃▁▂▂▂▂▂▃▂▂▃▃▃▃▂▂</td></tr><tr><td>loss_1</td><td>█▃▃▂▂▂▂▂▂▂▁▂▁▁▁▁▁▁▁▁▁▁▁▁▁▁▁▁▁▁▁▁▁▁▁▁▁▁▁▁</td></tr><tr><td>loss_val</td><td>█▄▃▃▂▂▂▂▂▁▁▁▁▁▁▁▁▁▁▁▁▁▁▁▁</td></tr><tr><td>multibet outlay < 30</td><td>█▁▂▂▂▂▃▂▃▃▃▃▃▃▃▃▃▃▃▄▄▃▄▄▄</td></tr><tr><td>multibet profit</td><td>▁▁▁▂▃▃▄▄▅▆▆▆▇▇▇▇▇▇▇▇███▇█</td></tr><tr><td>multibet profit < 30</td><td>▁▇█▆▆▆▃▅▄▆▅▇▇█▅▅▆▅▄▅▅▅▆▅▆</td></tr><tr><td>multibet profit < 30 sd</td><td>█▁▂▂▁▁▁▁▁▁▁▁▁▂▁▁▁▁▁▁▁▁▂▂▂</td></tr></table><br/></div><div class=\"wandb-col\"><h3>Run summary:</h3><br/><table class=\"wandb\"><tr><td>ROI < 30</td><td>-0.00276</td></tr><tr><td>ROI < 30 2</td><td>-0.02037</td></tr><tr><td>accuracy</td><td>0.32126</td></tr><tr><td>epoch</td><td>499</td></tr><tr><td>flat_simple</td><td>-997.69656</td></tr><tr><td>loss_1</td><td>1.52975</td></tr><tr><td>loss_val</td><td>1.74542</td></tr><tr><td>multibet outlay < 30</td><td>264656.45464</td></tr><tr><td>multibet profit < 30</td><td>-729.78554</td></tr><tr><td>multibet profit < 30 sd</td><td>15.74439</td></tr></table><br/></div></div>"
      ],
      "text/plain": [
       "<IPython.core.display.HTML object>"
      ]
     },
     "metadata": {},
     "output_type": "display_data"
    },
    {
     "data": {
      "text/html": [
       "Synced <strong style=\"color:#cdcd00\">grateful-sweep-1</strong>: <a href=\"https://wandb.ai/nickojelly/NEW%20GRU-sweeps/runs/8hme8e5i\" target=\"_blank\">https://wandb.ai/nickojelly/NEW%20GRU-sweeps/runs/8hme8e5i</a><br/>Synced 5 W&B file(s), 35 media file(s), 35 artifact file(s) and 0 other file(s)"
      ],
      "text/plain": [
       "<IPython.core.display.HTML object>"
      ]
     },
     "metadata": {},
     "output_type": "display_data"
    },
    {
     "data": {
      "text/html": [
       "Find logs at: <code>.\\wandb\\run-20230413_223933-8hme8e5i\\logs</code>"
      ],
      "text/plain": [
       "<IPython.core.display.HTML object>"
      ]
     },
     "metadata": {},
     "output_type": "display_data"
    },
    {
     "name": "stderr",
     "output_type": "stream",
     "text": [
      "\u001b[34m\u001b[1mwandb\u001b[0m: Sweep Agent: Waiting for job.\n",
      "\u001b[34m\u001b[1mwandb\u001b[0m: Job received.\n",
      "\u001b[34m\u001b[1mwandb\u001b[0m: Agent Starting Run: z242xzyn with config:\n",
      "\u001b[34m\u001b[1mwandb\u001b[0m: \tbatch_before_backwards: 7\n",
      "\u001b[34m\u001b[1mwandb\u001b[0m: \tbatch_size: 7\n",
      "\u001b[34m\u001b[1mwandb\u001b[0m: \tdropout: 0.3\n",
      "\u001b[34m\u001b[1mwandb\u001b[0m: \tepochs: 500\n",
      "\u001b[34m\u001b[1mwandb\u001b[0m: \tf1_layer_size: 256\n",
      "\u001b[34m\u001b[1mwandb\u001b[0m: \tf2_layer_size: 64\n",
      "\u001b[34m\u001b[1mwandb\u001b[0m: \thidden_size: 128\n",
      "\u001b[34m\u001b[1mwandb\u001b[0m: \tinput_type: full\n",
      "\u001b[34m\u001b[1mwandb\u001b[0m: \tl1_beta: 0.1\n",
      "\u001b[34m\u001b[1mwandb\u001b[0m: \tlearning_rate: 0.0013218880735522335\n",
      "\u001b[34m\u001b[1mwandb\u001b[0m: \tlen_data: 92063\n",
      "\u001b[34m\u001b[1mwandb\u001b[0m: \tloss: CEL\n",
      "\u001b[34m\u001b[1mwandb\u001b[0m: \tnum_layers: 3\n",
      "\u001b[34m\u001b[1mwandb\u001b[0m: \toptimizer: adamW\n",
      "\u001b[34m\u001b[1mwandb\u001b[0m: \tvalidation_split: 0.1\n",
      "Failed to detect the name of this notebook, you can set it manually with the WANDB_NOTEBOOK_NAME environment variable to enable code saving.\n",
      "\u001b[34m\u001b[1mwandb\u001b[0m: \u001b[33mWARNING\u001b[0m Ignored wandb.init() arg project when running a sweep.\n"
     ]
    },
    {
     "data": {
      "text/html": [
       "wandb version 0.14.2 is available!  To upgrade, please run:\n",
       " $ pip install wandb --upgrade"
      ],
      "text/plain": [
       "<IPython.core.display.HTML object>"
      ]
     },
     "metadata": {},
     "output_type": "display_data"
    },
    {
     "data": {
      "text/html": [
       "Tracking run with wandb version 0.12.14"
      ],
      "text/plain": [
       "<IPython.core.display.HTML object>"
      ]
     },
     "metadata": {},
     "output_type": "display_data"
    },
    {
     "data": {
      "text/html": [
       "Run data is saved locally in <code>C:\\Users\\Nick\\Documents\\GitHub\\grvmodel\\Python\\DATA\\wandb\\run-20230414_023736-z242xzyn</code>"
      ],
      "text/plain": [
       "<IPython.core.display.HTML object>"
      ]
     },
     "metadata": {},
     "output_type": "display_data"
    },
    {
     "data": {
      "text/html": [
       "Syncing run <strong><a href=\"https://wandb.ai/nickojelly/NEW%20GRU-sweeps/runs/z242xzyn\" target=\"_blank\">lemon-sweep-2</a></strong> to <a href=\"https://wandb.ai/nickojelly/NEW%20GRU-sweeps\" target=\"_blank\">Weights & Biases</a> (<a href=\"https://wandb.me/run\" target=\"_blank\">docs</a>)<br/>Sweep page:  <a href=\"https://wandb.ai/nickojelly/NEW%20GRU-sweeps/sweeps/18jdrdus\" target=\"_blank\">https://wandb.ai/nickojelly/NEW%20GRU-sweeps/sweeps/18jdrdus</a>"
      ],
      "text/plain": [
       "<IPython.core.display.HTML object>"
      ]
     },
     "metadata": {},
     "output_type": "display_data"
    },
    {
     "name": "stdout",
     "output_type": "stream",
     "text": [
      "{'batch_before_backwards': 7, 'batch_size': 7, 'dropout': 0.3, 'epochs': 500, 'f1_layer_size': 256, 'f2_layer_size': 64, 'hidden_size': 128, 'input_type': 'full', 'l1_beta': 0.1, 'learning_rate': 0.0013218880735522335, 'len_data': 92063, 'loss': 'CEL', 'num_layers': 3, 'optimizer': 'adamW', 'validation_split': 0.1}\n",
      "500\n",
      "{'batch_before_backwards': 7, 'batch_size': 7, 'dropout': 0.3, 'epochs': 500, 'f1_layer_size': 256, 'f2_layer_size': 64, 'hidden_size': 128, 'input_type': 'full', 'l1_beta': 0.1, 'learning_rate': 0.0013218880735522335, 'len_data': 92063, 'loss': 'CEL', 'num_layers': 3, 'optimizer': 'adamW', 'validation_split': 0.1}\n",
      "full\n",
      "here1\n",
      "input_size=20\n",
      "GRUNetv2(\n",
      "  (gru): GRU(20, 128, num_layers=3, dropout=0.3)\n",
      "  (batchnorm): BatchNorm1d(1094, eps=1e-05, momentum=0.1, affine=True, track_running_stats=True)\n",
      "  (relu0): ReLU()\n",
      "  (fc0): Linear(in_features=128, out_features=1, bias=True)\n",
      "  (rl1): ReLU()\n",
      "  (drop1): Dropout(p=0.3, inplace=False)\n",
      "  (fc1): Linear(in_features=1094, out_features=64, bias=True)\n",
      "  (rl2): ReLU()\n",
      "  (drop2): Dropout(p=0.3, inplace=False)\n",
      "  (fc2): Linear(in_features=64, out_features=8, bias=True)\n",
      "  (output_fn): Identity()\n",
      ")\n"
     ]
    },
    {
     "data": {
      "application/vnd.jupyter.widget-view+json": {
       "model_id": "31031ed4f5834e8a801b4bacb00fa896",
       "version_major": 2,
       "version_minor": 0
      },
      "text/plain": [
       "  0%|          | 0/500 [00:00<?, ?it/s]"
      ]
     },
     "metadata": {},
     "output_type": "display_data"
    },
    {
     "name": "stdout",
     "output_type": "stream",
     "text": [
      "created path\n",
      "\n"
     ]
    },
    {
     "data": {
      "text/html": [
       "Waiting for W&B process to finish... <strong style=\"color:green\">(success).</strong>"
      ],
      "text/plain": [
       "<IPython.core.display.HTML object>"
      ]
     },
     "metadata": {},
     "output_type": "display_data"
    },
    {
     "data": {
      "application/vnd.jupyter.widget-view+json": {
       "model_id": "cce5aa831205464aaa1d520a02b634ea",
       "version_major": 2,
       "version_minor": 0
      },
      "text/plain": [
       "VBox(children=(Label(value='229.530 MB of 229.530 MB uploaded (0.000 MB deduped)\\r'), FloatProgress(value=1.0,…"
      ]
     },
     "metadata": {},
     "output_type": "display_data"
    },
    {
     "data": {
      "text/html": [
       "<style>\n",
       "    table.wandb td:nth-child(1) { padding: 0 10px; text-align: right }\n",
       "    .wandb-row { display: flex; flex-direction: row; flex-wrap: wrap; width: 100% }\n",
       "    .wandb-col { display: flex; flex-direction: column; flex-basis: 100%; flex: 1; padding: 10px; }\n",
       "    </style>\n",
       "<div class=\"wandb-row\"><div class=\"wandb-col\"><h3>Run history:</h3><br/><table class=\"wandb\"><tr><td>ROI < 30</td><td>▄▇▇▇█▅▄▂▁▃▃▂▃▄▃▄▃▄▅▄▃▄▄▃▃</td></tr><tr><td>ROI < 30 2</td><td>▅█▇▇█▅▃▁▁▃▃▂▂▃▃▃▃▄▅▄▃▄▅▄▃</td></tr><tr><td>accuracy</td><td>▁▃▃▃▃▅▇▇▇█▇██████████████</td></tr><tr><td>epoch</td><td>▁▁▁▂▂▂▂▂▂▃▃▃▃▃▄▄▄▄▄▄▅▅▅▅▅▅▆▆▆▆▆▇▇▇▇▇▇███</td></tr><tr><td>flat_simple</td><td>▁▅▅▆▅█▆▃▄▆▆▆▄▅▃▅▆▇▅▆▆▇▆▆▇</td></tr><tr><td>loss_1</td><td>█▄▄▃▃▃▃▃▃▂▂▂▂▂▂▁▂▂▂▁▁▁▂▂▁▁▁▁▁▁▁▁▁▁▁▁▁▁▁▁</td></tr><tr><td>loss_val</td><td>█▃▃▃▃▂▂▁▁▁▁▁▁▁▁▁▁▁▁▁▁▁▁▁▁</td></tr><tr><td>multibet outlay < 30</td><td>█▁▂▂▂▃▃▃▂▃▃▃▃▃▃▃▃▃▃▃▃▃▃▃▃</td></tr><tr><td>multibet profit</td><td>▁▃▃▃▄▅▅▆▆▆▆▆▇▇▇▇▇▇▇█▇████</td></tr><tr><td>multibet profit < 30</td><td>▃▇▇▇█▅▄▁▁▃▃▂▃▄▃▄▃▄▅▄▃▄▄▃▃</td></tr><tr><td>multibet profit < 30 sd</td><td>█▁▁▂▂▂▁▁▁▁▁▁▁▁▁▁▁▁▁▁▁▁▁▁▁</td></tr></table><br/></div><div class=\"wandb-col\"><h3>Run summary:</h3><br/><table class=\"wandb\"><tr><td>ROI < 30</td><td>-0.00407</td></tr><tr><td>ROI < 30 2</td><td>-0.01649</td></tr><tr><td>accuracy</td><td>0.32639</td></tr><tr><td>epoch</td><td>499</td></tr><tr><td>flat_simple</td><td>-602.50619</td></tr><tr><td>loss_1</td><td>1.52437</td></tr><tr><td>loss_val</td><td>1.72369</td></tr><tr><td>multibet outlay < 30</td><td>274428.67347</td></tr><tr><td>multibet profit < 30</td><td>-1116.20765</td></tr><tr><td>multibet profit < 30 sd</td><td>15.94466</td></tr></table><br/></div></div>"
      ],
      "text/plain": [
       "<IPython.core.display.HTML object>"
      ]
     },
     "metadata": {},
     "output_type": "display_data"
    },
    {
     "data": {
      "text/html": [
       "Synced <strong style=\"color:#cdcd00\">lemon-sweep-2</strong>: <a href=\"https://wandb.ai/nickojelly/NEW%20GRU-sweeps/runs/z242xzyn\" target=\"_blank\">https://wandb.ai/nickojelly/NEW%20GRU-sweeps/runs/z242xzyn</a><br/>Synced 5 W&B file(s), 4 media file(s), 27 artifact file(s) and 0 other file(s)"
      ],
      "text/plain": [
       "<IPython.core.display.HTML object>"
      ]
     },
     "metadata": {},
     "output_type": "display_data"
    },
    {
     "data": {
      "text/html": [
       "Find logs at: <code>.\\wandb\\run-20230414_023736-z242xzyn\\logs</code>"
      ],
      "text/plain": [
       "<IPython.core.display.HTML object>"
      ]
     },
     "metadata": {},
     "output_type": "display_data"
    },
    {
     "name": "stderr",
     "output_type": "stream",
     "text": [
      "\u001b[34m\u001b[1mwandb\u001b[0m: Agent Starting Run: 4tnhmp0g with config:\n",
      "\u001b[34m\u001b[1mwandb\u001b[0m: \tbatch_before_backwards: 7\n",
      "\u001b[34m\u001b[1mwandb\u001b[0m: \tbatch_size: 7\n",
      "\u001b[34m\u001b[1mwandb\u001b[0m: \tdropout: 0.3\n",
      "\u001b[34m\u001b[1mwandb\u001b[0m: \tepochs: 500\n",
      "\u001b[34m\u001b[1mwandb\u001b[0m: \tf1_layer_size: 256\n",
      "\u001b[34m\u001b[1mwandb\u001b[0m: \tf2_layer_size: 64\n",
      "\u001b[34m\u001b[1mwandb\u001b[0m: \thidden_size: 32\n",
      "\u001b[34m\u001b[1mwandb\u001b[0m: \tinput_type: full\n",
      "\u001b[34m\u001b[1mwandb\u001b[0m: \tl1_beta: 0.1\n",
      "\u001b[34m\u001b[1mwandb\u001b[0m: \tlearning_rate: 0.00013781561113104617\n",
      "\u001b[34m\u001b[1mwandb\u001b[0m: \tlen_data: 92063\n",
      "\u001b[34m\u001b[1mwandb\u001b[0m: \tloss: CEL\n",
      "\u001b[34m\u001b[1mwandb\u001b[0m: \tnum_layers: 4\n",
      "\u001b[34m\u001b[1mwandb\u001b[0m: \toptimizer: adamW\n",
      "\u001b[34m\u001b[1mwandb\u001b[0m: \tvalidation_split: 0.1\n",
      "Failed to detect the name of this notebook, you can set it manually with the WANDB_NOTEBOOK_NAME environment variable to enable code saving.\n",
      "\u001b[34m\u001b[1mwandb\u001b[0m: \u001b[33mWARNING\u001b[0m Ignored wandb.init() arg project when running a sweep.\n"
     ]
    },
    {
     "data": {
      "text/html": [
       "wandb version 0.14.2 is available!  To upgrade, please run:\n",
       " $ pip install wandb --upgrade"
      ],
      "text/plain": [
       "<IPython.core.display.HTML object>"
      ]
     },
     "metadata": {},
     "output_type": "display_data"
    },
    {
     "data": {
      "text/html": [
       "Tracking run with wandb version 0.12.14"
      ],
      "text/plain": [
       "<IPython.core.display.HTML object>"
      ]
     },
     "metadata": {},
     "output_type": "display_data"
    },
    {
     "data": {
      "text/html": [
       "Run data is saved locally in <code>C:\\Users\\Nick\\Documents\\GitHub\\grvmodel\\Python\\DATA\\wandb\\run-20230414_121804-4tnhmp0g</code>"
      ],
      "text/plain": [
       "<IPython.core.display.HTML object>"
      ]
     },
     "metadata": {},
     "output_type": "display_data"
    },
    {
     "data": {
      "text/html": [
       "Syncing run <strong><a href=\"https://wandb.ai/nickojelly/NEW%20GRU-sweeps/runs/4tnhmp0g\" target=\"_blank\">comic-sweep-3</a></strong> to <a href=\"https://wandb.ai/nickojelly/NEW%20GRU-sweeps\" target=\"_blank\">Weights & Biases</a> (<a href=\"https://wandb.me/run\" target=\"_blank\">docs</a>)<br/>Sweep page:  <a href=\"https://wandb.ai/nickojelly/NEW%20GRU-sweeps/sweeps/18jdrdus\" target=\"_blank\">https://wandb.ai/nickojelly/NEW%20GRU-sweeps/sweeps/18jdrdus</a>"
      ],
      "text/plain": [
       "<IPython.core.display.HTML object>"
      ]
     },
     "metadata": {},
     "output_type": "display_data"
    },
    {
     "name": "stdout",
     "output_type": "stream",
     "text": [
      "{'batch_before_backwards': 7, 'batch_size': 7, 'dropout': 0.3, 'epochs': 500, 'f1_layer_size': 256, 'f2_layer_size': 64, 'hidden_size': 32, 'input_type': 'full', 'l1_beta': 0.1, 'learning_rate': 0.00013781561113104617, 'len_data': 92063, 'loss': 'CEL', 'num_layers': 4, 'optimizer': 'adamW', 'validation_split': 0.1}\n",
      "500\n",
      "{'batch_before_backwards': 7, 'batch_size': 7, 'dropout': 0.3, 'epochs': 500, 'f1_layer_size': 256, 'f2_layer_size': 64, 'hidden_size': 32, 'input_type': 'full', 'l1_beta': 0.1, 'learning_rate': 0.00013781561113104617, 'len_data': 92063, 'loss': 'CEL', 'num_layers': 4, 'optimizer': 'adamW', 'validation_split': 0.1}\n",
      "full\n",
      "here1\n",
      "input_size=20\n",
      "GRUNetv2(\n",
      "  (gru): GRU(20, 32, num_layers=4, dropout=0.3)\n",
      "  (batchnorm): BatchNorm1d(326, eps=1e-05, momentum=0.1, affine=True, track_running_stats=True)\n",
      "  (relu0): ReLU()\n",
      "  (fc0): Linear(in_features=32, out_features=1, bias=True)\n",
      "  (rl1): ReLU()\n",
      "  (drop1): Dropout(p=0.3, inplace=False)\n",
      "  (fc1): Linear(in_features=326, out_features=64, bias=True)\n",
      "  (rl2): ReLU()\n",
      "  (drop2): Dropout(p=0.3, inplace=False)\n",
      "  (fc2): Linear(in_features=64, out_features=8, bias=True)\n",
      "  (output_fn): Identity()\n",
      ")\n"
     ]
    },
    {
     "data": {
      "application/vnd.jupyter.widget-view+json": {
       "model_id": "581752916d3c4ee9982e60ca0b111199",
       "version_major": 2,
       "version_minor": 0
      },
      "text/plain": [
       "  0%|          | 0/500 [00:00<?, ?it/s]"
      ]
     },
     "metadata": {},
     "output_type": "display_data"
    },
    {
     "name": "stdout",
     "output_type": "stream",
     "text": [
      "created path\n",
      "\n"
     ]
    },
    {
     "data": {
      "text/html": [
       "Waiting for W&B process to finish... <strong style=\"color:green\">(success).</strong>"
      ],
      "text/plain": [
       "<IPython.core.display.HTML object>"
      ]
     },
     "metadata": {},
     "output_type": "display_data"
    },
    {
     "data": {
      "application/vnd.jupyter.widget-view+json": {
       "model_id": "36f6d7fac39544dab9d825b1a4652bd5",
       "version_major": 2,
       "version_minor": 0
      },
      "text/plain": [
       "VBox(children=(Label(value='172.010 MB of 172.010 MB uploaded (0.000 MB deduped)\\r'), FloatProgress(value=1.0,…"
      ]
     },
     "metadata": {},
     "output_type": "display_data"
    },
    {
     "data": {
      "text/html": [
       "<style>\n",
       "    table.wandb td:nth-child(1) { padding: 0 10px; text-align: right }\n",
       "    .wandb-row { display: flex; flex-direction: row; flex-wrap: wrap; width: 100% }\n",
       "    .wandb-col { display: flex; flex-direction: column; flex-basis: 100%; flex: 1; padding: 10px; }\n",
       "    </style>\n",
       "<div class=\"wandb-row\"><div class=\"wandb-col\"><h3>Run history:</h3><br/><table class=\"wandb\"><tr><td>ROI < 30</td><td>▁▄▇▇▇▇▇██████▇▇██████████</td></tr><tr><td>ROI < 30 2</td><td>▁▂▆▆▇▇▇██████▇▇▇▇████████</td></tr><tr><td>accuracy</td><td>▁▁▆▄▄▄▃▂▂▂▂▂▃▄▅▆▇████████</td></tr><tr><td>epoch</td><td>▁▁▁▂▂▂▂▂▂▃▃▃▃▃▄▄▄▄▄▄▅▅▅▅▅▅▆▆▆▆▆▇▇▇▇▇▇███</td></tr><tr><td>flat_simple</td><td>▂▁▆▆▄▄▂▁▁▄▂▁▁▇▅▆██▇▇█▇▇▇█</td></tr><tr><td>loss_1</td><td>█▅▄▃▂▂▁▁▁▁▁▁▁▁▁▁▁▁▁▁▁▁▁▁▁▁▁▁▁▁▁▁▁▁▁▁▁▁▁▁</td></tr><tr><td>loss_val</td><td>█▂▁▁▁▁▁▁▁▁▁▁▁▁▁▁▁▁▁▁▁▁▁▁▁</td></tr><tr><td>multibet outlay < 30</td><td>█▃▁▁▁▁▁▁▁▁▁▁▁▁▁▁▁▁▁▁▁▁▁▁▁</td></tr><tr><td>multibet profit</td><td>▁▆█▇█████████████████████</td></tr><tr><td>multibet profit < 30</td><td>▁▆███████████████████████</td></tr><tr><td>multibet profit < 30 sd</td><td>█▂▁▁▁▁▁▁▁▁▁▁▁▁▁▁▁▁▁▁▁▁▁▁▁</td></tr></table><br/></div><div class=\"wandb-col\"><h3>Run summary:</h3><br/><table class=\"wandb\"><tr><td>ROI < 30</td><td>0.01459</td></tr><tr><td>ROI < 30 2</td><td>0.01728</td></tr><tr><td>accuracy</td><td>0.18554</td></tr><tr><td>epoch</td><td>499</td></tr><tr><td>flat_simple</td><td>-856.39276</td></tr><tr><td>loss_1</td><td>1.73937</td></tr><tr><td>loss_val</td><td>2.00911</td></tr><tr><td>multibet outlay < 30</td><td>246763.90229</td></tr><tr><td>multibet profit < 30</td><td>3600.36789</td></tr><tr><td>multibet profit < 30 sd</td><td>16.42294</td></tr></table><br/></div></div>"
      ],
      "text/plain": [
       "<IPython.core.display.HTML object>"
      ]
     },
     "metadata": {},
     "output_type": "display_data"
    },
    {
     "data": {
      "text/html": [
       "Synced <strong style=\"color:#cdcd00\">comic-sweep-3</strong>: <a href=\"https://wandb.ai/nickojelly/NEW%20GRU-sweeps/runs/4tnhmp0g\" target=\"_blank\">https://wandb.ai/nickojelly/NEW%20GRU-sweeps/runs/4tnhmp0g</a><br/>Synced 5 W&B file(s), 0 media file(s), 25 artifact file(s) and 0 other file(s)"
      ],
      "text/plain": [
       "<IPython.core.display.HTML object>"
      ]
     },
     "metadata": {},
     "output_type": "display_data"
    },
    {
     "data": {
      "text/html": [
       "Find logs at: <code>.\\wandb\\run-20230414_121804-4tnhmp0g\\logs</code>"
      ],
      "text/plain": [
       "<IPython.core.display.HTML object>"
      ]
     },
     "metadata": {},
     "output_type": "display_data"
    },
    {
     "name": "stderr",
     "output_type": "stream",
     "text": [
      "\u001b[34m\u001b[1mwandb\u001b[0m: Agent Starting Run: qrzvbj9b with config:\n",
      "\u001b[34m\u001b[1mwandb\u001b[0m: \tbatch_before_backwards: 7\n",
      "\u001b[34m\u001b[1mwandb\u001b[0m: \tbatch_size: 7\n",
      "\u001b[34m\u001b[1mwandb\u001b[0m: \tdropout: 0.3\n",
      "\u001b[34m\u001b[1mwandb\u001b[0m: \tepochs: 500\n",
      "\u001b[34m\u001b[1mwandb\u001b[0m: \tf1_layer_size: 256\n",
      "\u001b[34m\u001b[1mwandb\u001b[0m: \tf2_layer_size: 64\n",
      "\u001b[34m\u001b[1mwandb\u001b[0m: \thidden_size: 32\n",
      "\u001b[34m\u001b[1mwandb\u001b[0m: \tinput_type: basic\n",
      "\u001b[34m\u001b[1mwandb\u001b[0m: \tl1_beta: 0.1\n",
      "\u001b[34m\u001b[1mwandb\u001b[0m: \tlearning_rate: 0.0010220735532982083\n",
      "\u001b[34m\u001b[1mwandb\u001b[0m: \tlen_data: 92063\n",
      "\u001b[34m\u001b[1mwandb\u001b[0m: \tloss: CEL\n",
      "\u001b[34m\u001b[1mwandb\u001b[0m: \tnum_layers: 2\n",
      "\u001b[34m\u001b[1mwandb\u001b[0m: \toptimizer: adamW\n",
      "\u001b[34m\u001b[1mwandb\u001b[0m: \tvalidation_split: 0.1\n",
      "Failed to detect the name of this notebook, you can set it manually with the WANDB_NOTEBOOK_NAME environment variable to enable code saving.\n",
      "\u001b[34m\u001b[1mwandb\u001b[0m: \u001b[33mWARNING\u001b[0m Ignored wandb.init() arg project when running a sweep.\n"
     ]
    },
    {
     "data": {
      "text/html": [
       "wandb version 0.14.2 is available!  To upgrade, please run:\n",
       " $ pip install wandb --upgrade"
      ],
      "text/plain": [
       "<IPython.core.display.HTML object>"
      ]
     },
     "metadata": {},
     "output_type": "display_data"
    },
    {
     "data": {
      "text/html": [
       "Tracking run with wandb version 0.12.14"
      ],
      "text/plain": [
       "<IPython.core.display.HTML object>"
      ]
     },
     "metadata": {},
     "output_type": "display_data"
    },
    {
     "data": {
      "text/html": [
       "Run data is saved locally in <code>C:\\Users\\Nick\\Documents\\GitHub\\grvmodel\\Python\\DATA\\wandb\\run-20230414_163623-qrzvbj9b</code>"
      ],
      "text/plain": [
       "<IPython.core.display.HTML object>"
      ]
     },
     "metadata": {},
     "output_type": "display_data"
    },
    {
     "data": {
      "text/html": [
       "Syncing run <strong><a href=\"https://wandb.ai/nickojelly/NEW%20GRU-sweeps/runs/qrzvbj9b\" target=\"_blank\">wise-sweep-4</a></strong> to <a href=\"https://wandb.ai/nickojelly/NEW%20GRU-sweeps\" target=\"_blank\">Weights & Biases</a> (<a href=\"https://wandb.me/run\" target=\"_blank\">docs</a>)<br/>Sweep page:  <a href=\"https://wandb.ai/nickojelly/NEW%20GRU-sweeps/sweeps/18jdrdus\" target=\"_blank\">https://wandb.ai/nickojelly/NEW%20GRU-sweeps/sweeps/18jdrdus</a>"
      ],
      "text/plain": [
       "<IPython.core.display.HTML object>"
      ]
     },
     "metadata": {},
     "output_type": "display_data"
    },
    {
     "name": "stdout",
     "output_type": "stream",
     "text": [
      "{'batch_before_backwards': 7, 'batch_size': 7, 'dropout': 0.3, 'epochs': 500, 'f1_layer_size': 256, 'f2_layer_size': 64, 'hidden_size': 32, 'input_type': 'basic', 'l1_beta': 0.1, 'learning_rate': 0.0010220735532982083, 'len_data': 92063, 'loss': 'CEL', 'num_layers': 2, 'optimizer': 'adamW', 'validation_split': 0.1}\n",
      "500\n",
      "{'batch_before_backwards': 7, 'batch_size': 7, 'dropout': 0.3, 'epochs': 500, 'f1_layer_size': 256, 'f2_layer_size': 64, 'hidden_size': 32, 'input_type': 'basic', 'l1_beta': 0.1, 'learning_rate': 0.0010220735532982083, 'len_data': 92063, 'loss': 'CEL', 'num_layers': 2, 'optimizer': 'adamW', 'validation_split': 0.1}\n",
      "basic\n",
      "here\n",
      "input_size=20\n",
      "GRUNetv2(\n",
      "  (gru): GRU(20, 32, num_layers=2, dropout=0.3)\n",
      "  (batchnorm): BatchNorm1d(326, eps=1e-05, momentum=0.1, affine=True, track_running_stats=True)\n",
      "  (relu0): ReLU()\n",
      "  (fc0): Linear(in_features=32, out_features=1, bias=True)\n",
      "  (rl1): ReLU()\n",
      "  (drop1): Dropout(p=0.3, inplace=False)\n",
      "  (fc1): Linear(in_features=326, out_features=64, bias=True)\n",
      "  (rl2): ReLU()\n",
      "  (drop2): Dropout(p=0.3, inplace=False)\n",
      "  (fc2): Linear(in_features=64, out_features=8, bias=True)\n",
      "  (output_fn): Identity()\n",
      ")\n"
     ]
    },
    {
     "data": {
      "application/vnd.jupyter.widget-view+json": {
       "model_id": "3a07f1b16656427a8b2da7ccb68c2e66",
       "version_major": 2,
       "version_minor": 0
      },
      "text/plain": [
       "  0%|          | 0/500 [00:00<?, ?it/s]"
      ]
     },
     "metadata": {},
     "output_type": "display_data"
    },
    {
     "name": "stdout",
     "output_type": "stream",
     "text": [
      "created path\n",
      "\n"
     ]
    },
    {
     "data": {
      "text/html": [
       "Waiting for W&B process to finish... <strong style=\"color:green\">(success).</strong>"
      ],
      "text/plain": [
       "<IPython.core.display.HTML object>"
      ]
     },
     "metadata": {},
     "output_type": "display_data"
    },
    {
     "data": {
      "application/vnd.jupyter.widget-view+json": {
       "model_id": "07008ebce5984a1c8d0fed2f4fdd0dad",
       "version_major": 2,
       "version_minor": 0
      },
      "text/plain": [
       "VBox(children=(Label(value='174.747 MB of 174.747 MB uploaded (0.000 MB deduped)\\r'), FloatProgress(value=1.0,…"
      ]
     },
     "metadata": {},
     "output_type": "display_data"
    },
    {
     "data": {
      "text/html": [
       "<style>\n",
       "    table.wandb td:nth-child(1) { padding: 0 10px; text-align: right }\n",
       "    .wandb-row { display: flex; flex-direction: row; flex-wrap: wrap; width: 100% }\n",
       "    .wandb-col { display: flex; flex-direction: column; flex-basis: 100%; flex: 1; padding: 10px; }\n",
       "    </style>\n",
       "<div class=\"wandb-row\"><div class=\"wandb-col\"><h3>Run history:</h3><br/><table class=\"wandb\"><tr><td>ROI < 30</td><td>█▂▄▄▄▄▃▃▂▂▂▁▁▁▁▁▂▂▂▂▂▂▂▂▂</td></tr><tr><td>ROI < 30 2</td><td>█▃▅▄▅▅▄▃▂▂▂▁▁▁▁▁▁▁▂▂▂▂▂▂▂</td></tr><tr><td>accuracy</td><td>▁▃▄▄▄▄▄▅▆▆▇▇▇▇███████████</td></tr><tr><td>epoch</td><td>▁▁▁▂▂▂▂▂▂▃▃▃▃▃▄▄▄▄▄▄▅▅▅▅▅▅▆▆▆▆▆▇▇▇▇▇▇███</td></tr><tr><td>flat_simple</td><td>▇▁█▇▇▇█▇▇▆▇▆▆▆▇▆█▇█▇███▇▇</td></tr><tr><td>loss_1</td><td>█▂▁▁▁▁▁▁▁▁▁▁▁▁▁▁▁▁▁▁▁▁▁▁▁▁▁▁▁▁▁▁▁▁▁▁▁▁▁▁</td></tr><tr><td>loss_val</td><td>█▁▁▁▁▁▁▁▁▁▁▁▁▁▁▁▁▁▁▁▁▁▁▁▁</td></tr><tr><td>multibet outlay < 30</td><td>█▁▁▁▁▂▂▂▂▂▂▂▂▂▂▂▂▂▂▂▂▂▂▂▂</td></tr><tr><td>multibet profit</td><td>▁▆▆▆▆▆▆▆▆▆▆▇▇▇▇▇▇▇▇▇█████</td></tr><tr><td>multibet profit < 30</td><td>█▂▂▂▂▂▂▂▂▂▁▁▁▁▁▁▁▁▁▁▁▂▁▁▁</td></tr><tr><td>multibet profit < 30 sd</td><td>█▁▁▁▁▁▁▁▁▁▁▁▁▁▁▁▁▁▁▁▁▁▁▁▁</td></tr></table><br/></div><div class=\"wandb-col\"><h3>Run summary:</h3><br/><table class=\"wandb\"><tr><td>ROI < 30</td><td>-0.00447</td></tr><tr><td>ROI < 30 2</td><td>-0.0193</td></tr><tr><td>accuracy</td><td>0.31263</td></tr><tr><td>epoch</td><td>499</td></tr><tr><td>flat_simple</td><td>-848.44694</td></tr><tr><td>loss_1</td><td>1.5934</td></tr><tr><td>loss_val</td><td>1.79137</td></tr><tr><td>multibet outlay < 30</td><td>254082.12478</td></tr><tr><td>multibet profit < 30</td><td>-1134.49219</td></tr><tr><td>multibet profit < 30 sd</td><td>15.48409</td></tr></table><br/></div></div>"
      ],
      "text/plain": [
       "<IPython.core.display.HTML object>"
      ]
     },
     "metadata": {},
     "output_type": "display_data"
    },
    {
     "data": {
      "text/html": [
       "Synced <strong style=\"color:#cdcd00\">wise-sweep-4</strong>: <a href=\"https://wandb.ai/nickojelly/NEW%20GRU-sweeps/runs/qrzvbj9b\" target=\"_blank\">https://wandb.ai/nickojelly/NEW%20GRU-sweeps/runs/qrzvbj9b</a><br/>Synced 5 W&B file(s), 0 media file(s), 25 artifact file(s) and 0 other file(s)"
      ],
      "text/plain": [
       "<IPython.core.display.HTML object>"
      ]
     },
     "metadata": {},
     "output_type": "display_data"
    },
    {
     "data": {
      "text/html": [
       "Find logs at: <code>.\\wandb\\run-20230414_163623-qrzvbj9b\\logs</code>"
      ],
      "text/plain": [
       "<IPython.core.display.HTML object>"
      ]
     },
     "metadata": {},
     "output_type": "display_data"
    },
    {
     "name": "stderr",
     "output_type": "stream",
     "text": [
      "\u001b[34m\u001b[1mwandb\u001b[0m: Agent Starting Run: nugpibqk with config:\n",
      "\u001b[34m\u001b[1mwandb\u001b[0m: \tbatch_before_backwards: 7\n",
      "\u001b[34m\u001b[1mwandb\u001b[0m: \tbatch_size: 7\n",
      "\u001b[34m\u001b[1mwandb\u001b[0m: \tdropout: 0.3\n",
      "\u001b[34m\u001b[1mwandb\u001b[0m: \tepochs: 500\n",
      "\u001b[34m\u001b[1mwandb\u001b[0m: \tf1_layer_size: 256\n",
      "\u001b[34m\u001b[1mwandb\u001b[0m: \tf2_layer_size: 64\n",
      "\u001b[34m\u001b[1mwandb\u001b[0m: \thidden_size: 32\n",
      "\u001b[34m\u001b[1mwandb\u001b[0m: \tinput_type: basic\n",
      "\u001b[34m\u001b[1mwandb\u001b[0m: \tl1_beta: 0.1\n",
      "\u001b[34m\u001b[1mwandb\u001b[0m: \tlearning_rate: 0.0012893378270166667\n",
      "\u001b[34m\u001b[1mwandb\u001b[0m: \tlen_data: 92063\n",
      "\u001b[34m\u001b[1mwandb\u001b[0m: \tloss: CEL\n",
      "\u001b[34m\u001b[1mwandb\u001b[0m: \tnum_layers: 2\n",
      "\u001b[34m\u001b[1mwandb\u001b[0m: \toptimizer: adamW\n",
      "\u001b[34m\u001b[1mwandb\u001b[0m: \tvalidation_split: 0.1\n",
      "Failed to detect the name of this notebook, you can set it manually with the WANDB_NOTEBOOK_NAME environment variable to enable code saving.\n",
      "\u001b[34m\u001b[1mwandb\u001b[0m: \u001b[33mWARNING\u001b[0m Ignored wandb.init() arg project when running a sweep.\n"
     ]
    },
    {
     "data": {
      "text/html": [
       "wandb version 0.14.2 is available!  To upgrade, please run:\n",
       " $ pip install wandb --upgrade"
      ],
      "text/plain": [
       "<IPython.core.display.HTML object>"
      ]
     },
     "metadata": {},
     "output_type": "display_data"
    },
    {
     "data": {
      "text/html": [
       "Tracking run with wandb version 0.12.14"
      ],
      "text/plain": [
       "<IPython.core.display.HTML object>"
      ]
     },
     "metadata": {},
     "output_type": "display_data"
    },
    {
     "data": {
      "text/html": [
       "Run data is saved locally in <code>C:\\Users\\Nick\\Documents\\GitHub\\grvmodel\\Python\\DATA\\wandb\\run-20230414_204223-nugpibqk</code>"
      ],
      "text/plain": [
       "<IPython.core.display.HTML object>"
      ]
     },
     "metadata": {},
     "output_type": "display_data"
    },
    {
     "data": {
      "text/html": [
       "Syncing run <strong><a href=\"https://wandb.ai/nickojelly/NEW%20GRU-sweeps/runs/nugpibqk\" target=\"_blank\">happy-sweep-5</a></strong> to <a href=\"https://wandb.ai/nickojelly/NEW%20GRU-sweeps\" target=\"_blank\">Weights & Biases</a> (<a href=\"https://wandb.me/run\" target=\"_blank\">docs</a>)<br/>Sweep page:  <a href=\"https://wandb.ai/nickojelly/NEW%20GRU-sweeps/sweeps/18jdrdus\" target=\"_blank\">https://wandb.ai/nickojelly/NEW%20GRU-sweeps/sweeps/18jdrdus</a>"
      ],
      "text/plain": [
       "<IPython.core.display.HTML object>"
      ]
     },
     "metadata": {},
     "output_type": "display_data"
    },
    {
     "name": "stdout",
     "output_type": "stream",
     "text": [
      "{'batch_before_backwards': 7, 'batch_size': 7, 'dropout': 0.3, 'epochs': 500, 'f1_layer_size': 256, 'f2_layer_size': 64, 'hidden_size': 32, 'input_type': 'basic', 'l1_beta': 0.1, 'learning_rate': 0.0012893378270166667, 'len_data': 92063, 'loss': 'CEL', 'num_layers': 2, 'optimizer': 'adamW', 'validation_split': 0.1}\n",
      "500\n",
      "{'batch_before_backwards': 7, 'batch_size': 7, 'dropout': 0.3, 'epochs': 500, 'f1_layer_size': 256, 'f2_layer_size': 64, 'hidden_size': 32, 'input_type': 'basic', 'l1_beta': 0.1, 'learning_rate': 0.0012893378270166667, 'len_data': 92063, 'loss': 'CEL', 'num_layers': 2, 'optimizer': 'adamW', 'validation_split': 0.1}\n",
      "basic\n",
      "here\n",
      "input_size=20\n",
      "GRUNetv2(\n",
      "  (gru): GRU(20, 32, num_layers=2, dropout=0.3)\n",
      "  (batchnorm): BatchNorm1d(326, eps=1e-05, momentum=0.1, affine=True, track_running_stats=True)\n",
      "  (relu0): ReLU()\n",
      "  (fc0): Linear(in_features=32, out_features=1, bias=True)\n",
      "  (rl1): ReLU()\n",
      "  (drop1): Dropout(p=0.3, inplace=False)\n",
      "  (fc1): Linear(in_features=326, out_features=64, bias=True)\n",
      "  (rl2): ReLU()\n",
      "  (drop2): Dropout(p=0.3, inplace=False)\n",
      "  (fc2): Linear(in_features=64, out_features=8, bias=True)\n",
      "  (output_fn): Identity()\n",
      ")\n"
     ]
    },
    {
     "data": {
      "application/vnd.jupyter.widget-view+json": {
       "model_id": "d33b177547504081b48e4e5a2af577c6",
       "version_major": 2,
       "version_minor": 0
      },
      "text/plain": [
       "  0%|          | 0/500 [00:00<?, ?it/s]"
      ]
     },
     "metadata": {},
     "output_type": "display_data"
    },
    {
     "name": "stdout",
     "output_type": "stream",
     "text": [
      "\n"
     ]
    },
    {
     "data": {
      "text/html": [
       "Waiting for W&B process to finish... <strong style=\"color:green\">(success).</strong>"
      ],
      "text/plain": [
       "<IPython.core.display.HTML object>"
      ]
     },
     "metadata": {},
     "output_type": "display_data"
    },
    {
     "data": {
      "application/vnd.jupyter.widget-view+json": {
       "model_id": "3df316af14f54a9daf3f8e0631f262a7",
       "version_major": 2,
       "version_minor": 0
      },
      "text/plain": [
       "VBox(children=(Label(value='178.447 MB of 178.447 MB uploaded (0.000 MB deduped)\\r'), FloatProgress(value=1.0,…"
      ]
     },
     "metadata": {},
     "output_type": "display_data"
    },
    {
     "data": {
      "text/html": [
       "<style>\n",
       "    table.wandb td:nth-child(1) { padding: 0 10px; text-align: right }\n",
       "    .wandb-row { display: flex; flex-direction: row; flex-wrap: wrap; width: 100% }\n",
       "    .wandb-col { display: flex; flex-direction: column; flex-basis: 100%; flex: 1; padding: 10px; }\n",
       "    </style>\n",
       "<div class=\"wandb-row\"><div class=\"wandb-col\"><h3>Run history:</h3><br/><table class=\"wandb\"><tr><td>ROI < 30</td><td>▃▅▇██▇█▇▆▄▃▃▃▂▁▃▃▂▁▃▃▃▃▃▄</td></tr><tr><td>ROI < 30 2</td><td>▄▅▇██▇█▇▆▄▃▃▃▂▁▂▂▂▂▃▃▃▃▃▃</td></tr><tr><td>accuracy</td><td>▂▁▂▂▂▃▄▅▆▆▇▇▇▇█▇█████████</td></tr><tr><td>epoch</td><td>▁▁▁▂▂▂▂▂▂▃▃▃▃▃▄▄▄▄▄▄▅▅▅▅▅▅▆▆▆▆▆▇▇▇▇▇▇███</td></tr><tr><td>flat_simple</td><td>▅█▄▄▄▃▂▅▇▃▁▅▅▃▂▂▃▃▁▃▃▂▃▃▅</td></tr><tr><td>loss_1</td><td>█▂▂▂▂▂▂▂▂▁▁▁▁▁▁▁▁▁▁▁▁▁▁▁▁▁▁▁▁▁▁▁▁▁▁▁▁▁▁▁</td></tr><tr><td>loss_val</td><td>█▃▃▃▂▂▂▂▂▂▂▁▁▁▁▁▁▁▁▁▁▁▁▁▁</td></tr><tr><td>multibet outlay < 30</td><td>█▁▂▂▂▃▃▃▃▃▃▃▃▃▃▃▃▃▃▃▃▃▃▃▃</td></tr><tr><td>multibet profit</td><td>▅▁▁▁▁▃▃▃▃▄▃▄▄▄▅▅▆▆▆▇▇▇▇██</td></tr><tr><td>multibet profit < 30</td><td>▂▅▇██▇█▇▆▄▃▃▃▂▁▃▃▂▁▃▃▃▃▃▄</td></tr><tr><td>multibet profit < 30 sd</td><td>█▁▂▂▂▂▂▂▂▂▂▂▁▁▁▁▁▁▁▁▁▁▁▁▁</td></tr></table><br/></div><div class=\"wandb-col\"><h3>Run summary:</h3><br/><table class=\"wandb\"><tr><td>ROI < 30</td><td>-0.00614</td></tr><tr><td>ROI < 30 2</td><td>-0.01711</td></tr><tr><td>accuracy</td><td>0.31964</td></tr><tr><td>epoch</td><td>499</td></tr><tr><td>flat_simple</td><td>-712.99414</td></tr><tr><td>loss_1</td><td>1.56872</td></tr><tr><td>loss_val</td><td>1.7705</td></tr><tr><td>multibet outlay < 30</td><td>261867.76243</td></tr><tr><td>multibet profit < 30</td><td>-1608.10445</td></tr><tr><td>multibet profit < 30 sd</td><td>15.71223</td></tr></table><br/></div></div>"
      ],
      "text/plain": [
       "<IPython.core.display.HTML object>"
      ]
     },
     "metadata": {},
     "output_type": "display_data"
    },
    {
     "data": {
      "text/html": [
       "Synced <strong style=\"color:#cdcd00\">happy-sweep-5</strong>: <a href=\"https://wandb.ai/nickojelly/NEW%20GRU-sweeps/runs/nugpibqk\" target=\"_blank\">https://wandb.ai/nickojelly/NEW%20GRU-sweeps/runs/nugpibqk</a><br/>Synced 5 W&B file(s), 0 media file(s), 25 artifact file(s) and 0 other file(s)"
      ],
      "text/plain": [
       "<IPython.core.display.HTML object>"
      ]
     },
     "metadata": {},
     "output_type": "display_data"
    },
    {
     "data": {
      "text/html": [
       "Find logs at: <code>.\\wandb\\run-20230414_204223-nugpibqk\\logs</code>"
      ],
      "text/plain": [
       "<IPython.core.display.HTML object>"
      ]
     },
     "metadata": {},
     "output_type": "display_data"
    },
    {
     "name": "stderr",
     "output_type": "stream",
     "text": [
      "\u001b[34m\u001b[1mwandb\u001b[0m: Agent Starting Run: 5gj7q18k with config:\n",
      "\u001b[34m\u001b[1mwandb\u001b[0m: \tbatch_before_backwards: 7\n",
      "\u001b[34m\u001b[1mwandb\u001b[0m: \tbatch_size: 7\n",
      "\u001b[34m\u001b[1mwandb\u001b[0m: \tdropout: 0.3\n",
      "\u001b[34m\u001b[1mwandb\u001b[0m: \tepochs: 500\n",
      "\u001b[34m\u001b[1mwandb\u001b[0m: \tf1_layer_size: 256\n",
      "\u001b[34m\u001b[1mwandb\u001b[0m: \tf2_layer_size: 64\n",
      "\u001b[34m\u001b[1mwandb\u001b[0m: \thidden_size: 32\n",
      "\u001b[34m\u001b[1mwandb\u001b[0m: \tinput_type: basic\n",
      "\u001b[34m\u001b[1mwandb\u001b[0m: \tl1_beta: 0.1\n",
      "\u001b[34m\u001b[1mwandb\u001b[0m: \tlearning_rate: 0.0016040413755859045\n",
      "\u001b[34m\u001b[1mwandb\u001b[0m: \tlen_data: 92063\n",
      "\u001b[34m\u001b[1mwandb\u001b[0m: \tloss: CEL\n",
      "\u001b[34m\u001b[1mwandb\u001b[0m: \tnum_layers: 3\n",
      "\u001b[34m\u001b[1mwandb\u001b[0m: \toptimizer: adamW\n",
      "\u001b[34m\u001b[1mwandb\u001b[0m: \tvalidation_split: 0.1\n",
      "Failed to detect the name of this notebook, you can set it manually with the WANDB_NOTEBOOK_NAME environment variable to enable code saving.\n",
      "\u001b[34m\u001b[1mwandb\u001b[0m: \u001b[33mWARNING\u001b[0m Ignored wandb.init() arg project when running a sweep.\n"
     ]
    },
    {
     "data": {
      "text/html": [
       "wandb version 0.14.2 is available!  To upgrade, please run:\n",
       " $ pip install wandb --upgrade"
      ],
      "text/plain": [
       "<IPython.core.display.HTML object>"
      ]
     },
     "metadata": {},
     "output_type": "display_data"
    },
    {
     "data": {
      "text/html": [
       "Tracking run with wandb version 0.12.14"
      ],
      "text/plain": [
       "<IPython.core.display.HTML object>"
      ]
     },
     "metadata": {},
     "output_type": "display_data"
    },
    {
     "data": {
      "text/html": [
       "Run data is saved locally in <code>C:\\Users\\Nick\\Documents\\GitHub\\grvmodel\\Python\\DATA\\wandb\\run-20230415_003443-5gj7q18k</code>"
      ],
      "text/plain": [
       "<IPython.core.display.HTML object>"
      ]
     },
     "metadata": {},
     "output_type": "display_data"
    },
    {
     "data": {
      "text/html": [
       "Syncing run <strong><a href=\"https://wandb.ai/nickojelly/NEW%20GRU-sweeps/runs/5gj7q18k\" target=\"_blank\">neat-sweep-6</a></strong> to <a href=\"https://wandb.ai/nickojelly/NEW%20GRU-sweeps\" target=\"_blank\">Weights & Biases</a> (<a href=\"https://wandb.me/run\" target=\"_blank\">docs</a>)<br/>Sweep page:  <a href=\"https://wandb.ai/nickojelly/NEW%20GRU-sweeps/sweeps/18jdrdus\" target=\"_blank\">https://wandb.ai/nickojelly/NEW%20GRU-sweeps/sweeps/18jdrdus</a>"
      ],
      "text/plain": [
       "<IPython.core.display.HTML object>"
      ]
     },
     "metadata": {},
     "output_type": "display_data"
    },
    {
     "name": "stdout",
     "output_type": "stream",
     "text": [
      "{'batch_before_backwards': 7, 'batch_size': 7, 'dropout': 0.3, 'epochs': 500, 'f1_layer_size': 256, 'f2_layer_size': 64, 'hidden_size': 32, 'input_type': 'basic', 'l1_beta': 0.1, 'learning_rate': 0.0016040413755859045, 'len_data': 92063, 'loss': 'CEL', 'num_layers': 3, 'optimizer': 'adamW', 'validation_split': 0.1}\n",
      "500\n",
      "{'batch_before_backwards': 7, 'batch_size': 7, 'dropout': 0.3, 'epochs': 500, 'f1_layer_size': 256, 'f2_layer_size': 64, 'hidden_size': 32, 'input_type': 'basic', 'l1_beta': 0.1, 'learning_rate': 0.0016040413755859045, 'len_data': 92063, 'loss': 'CEL', 'num_layers': 3, 'optimizer': 'adamW', 'validation_split': 0.1}\n",
      "basic\n",
      "here\n",
      "input_size=20\n",
      "GRUNetv2(\n",
      "  (gru): GRU(20, 32, num_layers=3, dropout=0.3)\n",
      "  (batchnorm): BatchNorm1d(326, eps=1e-05, momentum=0.1, affine=True, track_running_stats=True)\n",
      "  (relu0): ReLU()\n",
      "  (fc0): Linear(in_features=32, out_features=1, bias=True)\n",
      "  (rl1): ReLU()\n",
      "  (drop1): Dropout(p=0.3, inplace=False)\n",
      "  (fc1): Linear(in_features=326, out_features=64, bias=True)\n",
      "  (rl2): ReLU()\n",
      "  (drop2): Dropout(p=0.3, inplace=False)\n",
      "  (fc2): Linear(in_features=64, out_features=8, bias=True)\n",
      "  (output_fn): Identity()\n",
      ")\n"
     ]
    },
    {
     "data": {
      "application/vnd.jupyter.widget-view+json": {
       "model_id": "b196217a1b134b9f84c3de72756f8476",
       "version_major": 2,
       "version_minor": 0
      },
      "text/plain": [
       "  0%|          | 0/500 [00:00<?, ?it/s]"
      ]
     },
     "metadata": {},
     "output_type": "display_data"
    },
    {
     "name": "stdout",
     "output_type": "stream",
     "text": [
      "\n"
     ]
    },
    {
     "data": {
      "text/html": [
       "Waiting for W&B process to finish... <strong style=\"color:green\">(success).</strong>"
      ],
      "text/plain": [
       "<IPython.core.display.HTML object>"
      ]
     },
     "metadata": {},
     "output_type": "display_data"
    },
    {
     "data": {
      "application/vnd.jupyter.widget-view+json": {
       "model_id": "0b6e83e1d5974b02924026ecbf5c5853",
       "version_major": 2,
       "version_minor": 0
      },
      "text/plain": [
       "VBox(children=(Label(value='177.284 MB of 177.284 MB uploaded (0.000 MB deduped)\\r'), FloatProgress(value=1.0,…"
      ]
     },
     "metadata": {},
     "output_type": "display_data"
    },
    {
     "data": {
      "text/html": [
       "<style>\n",
       "    table.wandb td:nth-child(1) { padding: 0 10px; text-align: right }\n",
       "    .wandb-row { display: flex; flex-direction: row; flex-wrap: wrap; width: 100% }\n",
       "    .wandb-col { display: flex; flex-direction: column; flex-basis: 100%; flex: 1; padding: 10px; }\n",
       "    </style>\n",
       "<div class=\"wandb-row\"><div class=\"wandb-col\"><h3>Run history:</h3><br/><table class=\"wandb\"><tr><td>ROI < 30</td><td>▁▇███▇▇▆▆▅▅▄▅▅▆▅▆▆▆▅▆▅▆▆▆</td></tr><tr><td>ROI < 30 2</td><td>▁▆██▇▆▄▃▂▂▁▁▃▂▄▃▅▅▄▃▅▄▄▄▄</td></tr><tr><td>accuracy</td><td>▁▁▁▁▁▃▅▆▇▇▇▇▇▇███████████</td></tr><tr><td>epoch</td><td>▁▁▁▂▂▂▂▂▂▃▃▃▃▃▄▄▄▄▄▄▅▅▅▅▅▅▆▆▆▆▆▇▇▇▇▇▇███</td></tr><tr><td>flat_simple</td><td>▅▅▅▅▅▁▂▁▁▃▂▃▂▁▃▅▅▅▅▄▆▃█▇▄</td></tr><tr><td>loss_1</td><td>█▂▂▂▂▂▂▂▂▂▂▂▁▁▁▁▁▁▁▁▁▁▁▁▁▁▁▁▁▁▁▁▁▁▁▁▁▁▁▁</td></tr><tr><td>loss_val</td><td>█▃▃▃▂▂▂▂▂▁▁▁▁▁▁▁▁▁▁▁▁▁▁▁▁</td></tr><tr><td>multibet outlay < 30</td><td>█▁▁▂▂▂▂▂▂▂▂▂▂▂▂▂▂▂▂▂▂▂▂▂▂</td></tr><tr><td>multibet profit</td><td>▁▂▂▂▂▂▄▅▆▆▆▆▆▆▇▇▇██████▇█</td></tr><tr><td>multibet profit < 30</td><td>▁▇████▇▆▆▆▆▆▆▆▇▆▇▇▆▆▇▆▇▆▇</td></tr><tr><td>multibet profit < 30 sd</td><td>█▁▁▂▂▁▁▁▁▁▁▁▁▁▁▁▁▁▁▁▁▁▁▁▁</td></tr></table><br/></div><div class=\"wandb-col\"><h3>Run summary:</h3><br/><table class=\"wandb\"><tr><td>ROI < 30</td><td>0.0</td></tr><tr><td>ROI < 30 2</td><td>-0.01026</td></tr><tr><td>accuracy</td><td>0.30999</td></tr><tr><td>epoch</td><td>499</td></tr><tr><td>flat_simple</td><td>-925.1161</td></tr><tr><td>loss_1</td><td>1.57021</td></tr><tr><td>loss_val</td><td>1.77653</td></tr><tr><td>multibet outlay < 30</td><td>262949.27087</td></tr><tr><td>multibet profit < 30</td><td>1.00289</td></tr><tr><td>multibet profit < 30 sd</td><td>15.96184</td></tr></table><br/></div></div>"
      ],
      "text/plain": [
       "<IPython.core.display.HTML object>"
      ]
     },
     "metadata": {},
     "output_type": "display_data"
    },
    {
     "data": {
      "text/html": [
       "Synced <strong style=\"color:#cdcd00\">neat-sweep-6</strong>: <a href=\"https://wandb.ai/nickojelly/NEW%20GRU-sweeps/runs/5gj7q18k\" target=\"_blank\">https://wandb.ai/nickojelly/NEW%20GRU-sweeps/runs/5gj7q18k</a><br/>Synced 5 W&B file(s), 0 media file(s), 25 artifact file(s) and 0 other file(s)"
      ],
      "text/plain": [
       "<IPython.core.display.HTML object>"
      ]
     },
     "metadata": {},
     "output_type": "display_data"
    },
    {
     "data": {
      "text/html": [
       "Find logs at: <code>.\\wandb\\run-20230415_003443-5gj7q18k\\logs</code>"
      ],
      "text/plain": [
       "<IPython.core.display.HTML object>"
      ]
     },
     "metadata": {},
     "output_type": "display_data"
    },
    {
     "name": "stderr",
     "output_type": "stream",
     "text": [
      "\u001b[34m\u001b[1mwandb\u001b[0m: Agent Starting Run: 8uq267x4 with config:\n",
      "\u001b[34m\u001b[1mwandb\u001b[0m: \tbatch_before_backwards: 7\n",
      "\u001b[34m\u001b[1mwandb\u001b[0m: \tbatch_size: 7\n",
      "\u001b[34m\u001b[1mwandb\u001b[0m: \tdropout: 0.3\n",
      "\u001b[34m\u001b[1mwandb\u001b[0m: \tepochs: 500\n",
      "\u001b[34m\u001b[1mwandb\u001b[0m: \tf1_layer_size: 256\n",
      "\u001b[34m\u001b[1mwandb\u001b[0m: \tf2_layer_size: 64\n",
      "\u001b[34m\u001b[1mwandb\u001b[0m: \thidden_size: 128\n",
      "\u001b[34m\u001b[1mwandb\u001b[0m: \tinput_type: basic\n",
      "\u001b[34m\u001b[1mwandb\u001b[0m: \tl1_beta: 0.1\n",
      "\u001b[34m\u001b[1mwandb\u001b[0m: \tlearning_rate: 0.0009624248204383384\n",
      "\u001b[34m\u001b[1mwandb\u001b[0m: \tlen_data: 92063\n",
      "\u001b[34m\u001b[1mwandb\u001b[0m: \tloss: CEL\n",
      "\u001b[34m\u001b[1mwandb\u001b[0m: \tnum_layers: 3\n",
      "\u001b[34m\u001b[1mwandb\u001b[0m: \toptimizer: adamW\n",
      "\u001b[34m\u001b[1mwandb\u001b[0m: \tvalidation_split: 0.1\n",
      "Failed to detect the name of this notebook, you can set it manually with the WANDB_NOTEBOOK_NAME environment variable to enable code saving.\n",
      "\u001b[34m\u001b[1mwandb\u001b[0m: \u001b[33mWARNING\u001b[0m Ignored wandb.init() arg project when running a sweep.\n"
     ]
    },
    {
     "data": {
      "text/html": [
       "wandb version 0.14.2 is available!  To upgrade, please run:\n",
       " $ pip install wandb --upgrade"
      ],
      "text/plain": [
       "<IPython.core.display.HTML object>"
      ]
     },
     "metadata": {},
     "output_type": "display_data"
    },
    {
     "data": {
      "text/html": [
       "Tracking run with wandb version 0.12.14"
      ],
      "text/plain": [
       "<IPython.core.display.HTML object>"
      ]
     },
     "metadata": {},
     "output_type": "display_data"
    },
    {
     "data": {
      "text/html": [
       "Run data is saved locally in <code>C:\\Users\\Nick\\Documents\\GitHub\\grvmodel\\Python\\DATA\\wandb\\run-20230415_044022-8uq267x4</code>"
      ],
      "text/plain": [
       "<IPython.core.display.HTML object>"
      ]
     },
     "metadata": {},
     "output_type": "display_data"
    },
    {
     "data": {
      "text/html": [
       "Syncing run <strong><a href=\"https://wandb.ai/nickojelly/NEW%20GRU-sweeps/runs/8uq267x4\" target=\"_blank\">dazzling-sweep-7</a></strong> to <a href=\"https://wandb.ai/nickojelly/NEW%20GRU-sweeps\" target=\"_blank\">Weights & Biases</a> (<a href=\"https://wandb.me/run\" target=\"_blank\">docs</a>)<br/>Sweep page:  <a href=\"https://wandb.ai/nickojelly/NEW%20GRU-sweeps/sweeps/18jdrdus\" target=\"_blank\">https://wandb.ai/nickojelly/NEW%20GRU-sweeps/sweeps/18jdrdus</a>"
      ],
      "text/plain": [
       "<IPython.core.display.HTML object>"
      ]
     },
     "metadata": {},
     "output_type": "display_data"
    },
    {
     "name": "stdout",
     "output_type": "stream",
     "text": [
      "{'batch_before_backwards': 7, 'batch_size': 7, 'dropout': 0.3, 'epochs': 500, 'f1_layer_size': 256, 'f2_layer_size': 64, 'hidden_size': 128, 'input_type': 'basic', 'l1_beta': 0.1, 'learning_rate': 0.0009624248204383384, 'len_data': 92063, 'loss': 'CEL', 'num_layers': 3, 'optimizer': 'adamW', 'validation_split': 0.1}\n",
      "500\n",
      "{'batch_before_backwards': 7, 'batch_size': 7, 'dropout': 0.3, 'epochs': 500, 'f1_layer_size': 256, 'f2_layer_size': 64, 'hidden_size': 128, 'input_type': 'basic', 'l1_beta': 0.1, 'learning_rate': 0.0009624248204383384, 'len_data': 92063, 'loss': 'CEL', 'num_layers': 3, 'optimizer': 'adamW', 'validation_split': 0.1}\n",
      "basic\n",
      "here\n",
      "input_size=20\n",
      "GRUNetv2(\n",
      "  (gru): GRU(20, 128, num_layers=3, dropout=0.3)\n",
      "  (batchnorm): BatchNorm1d(1094, eps=1e-05, momentum=0.1, affine=True, track_running_stats=True)\n",
      "  (relu0): ReLU()\n",
      "  (fc0): Linear(in_features=128, out_features=1, bias=True)\n",
      "  (rl1): ReLU()\n",
      "  (drop1): Dropout(p=0.3, inplace=False)\n",
      "  (fc1): Linear(in_features=1094, out_features=64, bias=True)\n",
      "  (rl2): ReLU()\n",
      "  (drop2): Dropout(p=0.3, inplace=False)\n",
      "  (fc2): Linear(in_features=64, out_features=8, bias=True)\n",
      "  (output_fn): Identity()\n",
      ")\n"
     ]
    },
    {
     "data": {
      "application/vnd.jupyter.widget-view+json": {
       "model_id": "c92c66c6edad425b96826e09faf07083",
       "version_major": 2,
       "version_minor": 0
      },
      "text/plain": [
       "  0%|          | 0/500 [00:00<?, ?it/s]"
      ]
     },
     "metadata": {},
     "output_type": "display_data"
    },
    {
     "name": "stdout",
     "output_type": "stream",
     "text": [
      "created path\n",
      "\n"
     ]
    },
    {
     "data": {
      "text/html": [
       "Waiting for W&B process to finish... <strong style=\"color:red\">(failed 1).</strong> Press Ctrl-C to abort syncing."
      ],
      "text/plain": [
       "<IPython.core.display.HTML object>"
      ]
     },
     "metadata": {},
     "output_type": "display_data"
    },
    {
     "data": {
      "application/vnd.jupyter.widget-view+json": {
       "model_id": "5b9d5473b2de4ac780827c99fc3abb11",
       "version_major": 2,
       "version_minor": 0
      },
      "text/plain": [
       "VBox(children=(Label(value='68.985 MB of 68.985 MB uploaded (0.000 MB deduped)\\r'), FloatProgress(value=1.0, m…"
      ]
     },
     "metadata": {},
     "output_type": "display_data"
    },
    {
     "data": {
      "text/html": [
       "<style>\n",
       "    table.wandb td:nth-child(1) { padding: 0 10px; text-align: right }\n",
       "    .wandb-row { display: flex; flex-direction: row; flex-wrap: wrap; width: 100% }\n",
       "    .wandb-col { display: flex; flex-direction: column; flex-basis: 100%; flex: 1; padding: 10px; }\n",
       "    </style>\n",
       "<div class=\"wandb-row\"><div class=\"wandb-col\"><h3>Run history:</h3><br/><table class=\"wandb\"><tr><td>ROI < 30</td><td>▃▇██▂▁</td></tr><tr><td>ROI < 30 2</td><td>▄▇█▇▁▁</td></tr><tr><td>accuracy</td><td>▁▂▄▅██</td></tr><tr><td>epoch</td><td>▁▁▁▁▂▂▂▂▂▃▃▃▃▃▃▄▄▄▄▄▅▅▅▅▅▆▆▆▆▆▆▇▇▇▇▇▇███</td></tr><tr><td>flat_simple</td><td>▂▃▄█▁▁</td></tr><tr><td>loss_1</td><td>█▄▃▂▂▁▁▁▁▁▁▁▁▁▁▁▁▁▁▁▁▁▁▁▁▁▁▁▁▁▁▁▁▁▁▁▁▁▁▁</td></tr><tr><td>loss_val</td><td>█▂▂▂▁▁</td></tr><tr><td>multibet outlay < 30</td><td>█▁▁▂▁▂</td></tr><tr><td>multibet profit</td><td>▁▅▆▇▇█</td></tr><tr><td>multibet profit < 30</td><td>▂▇██▂▁</td></tr><tr><td>multibet profit < 30 sd</td><td>█▁▁▂▁▁</td></tr></table><br/></div><div class=\"wandb-col\"><h3>Run summary:</h3><br/><table class=\"wandb\"><tr><td>ROI < 30</td><td>-0.01349</td></tr><tr><td>ROI < 30 2</td><td>-0.02639</td></tr><tr><td>accuracy</td><td>0.30267</td></tr><tr><td>epoch</td><td>119</td></tr><tr><td>flat_simple</td><td>-1329.95794</td></tr><tr><td>loss_1</td><td>1.59141</td></tr><tr><td>loss_val</td><td>1.8071</td></tr><tr><td>multibet outlay < 30</td><td>256684.524</td></tr><tr><td>multibet profit < 30</td><td>-3461.93841</td></tr><tr><td>multibet profit < 30 sd</td><td>15.74565</td></tr></table><br/></div></div>"
      ],
      "text/plain": [
       "<IPython.core.display.HTML object>"
      ]
     },
     "metadata": {},
     "output_type": "display_data"
    },
    {
     "data": {
      "text/html": [
       "Synced <strong style=\"color:#cdcd00\">dazzling-sweep-7</strong>: <a href=\"https://wandb.ai/nickojelly/NEW%20GRU-sweeps/runs/8uq267x4\" target=\"_blank\">https://wandb.ai/nickojelly/NEW%20GRU-sweeps/runs/8uq267x4</a><br/>Synced 5 W&B file(s), 0 media file(s), 6 artifact file(s) and 0 other file(s)"
      ],
      "text/plain": [
       "<IPython.core.display.HTML object>"
      ]
     },
     "metadata": {},
     "output_type": "display_data"
    },
    {
     "data": {
      "text/html": [
       "Find logs at: <code>.\\wandb\\run-20230415_044022-8uq267x4\\logs</code>"
      ],
      "text/plain": [
       "<IPython.core.display.HTML object>"
      ]
     },
     "metadata": {},
     "output_type": "display_data"
    }
   ],
   "source": [
    "sweep_id = wandb.sweep(sweep_config, project=\"NEW GRU-sweeps\")\n",
    "CUDA_LAUNCH_BLOCKING=1\n",
    "wandb.agent(sweep_id, function=model_pipeline, count=100)"
   ]
  }
 ],
 "metadata": {
  "kernelspec": {
   "display_name": "PYTORCH",
   "language": "python",
   "name": "python3"
  },
  "language_info": {
   "codemirror_mode": {
    "name": "ipython",
    "version": 3
   },
   "file_extension": ".py",
   "mimetype": "text/x-python",
   "name": "python",
   "nbconvert_exporter": "python",
   "pygments_lexer": "ipython3",
   "version": "3.9.16"
  },
  "orig_nbformat": 4,
  "vscode": {
   "interpreter": {
    "hash": "8a48ca33c5a1168302a4f8eae355aad1c03b1396f568d40bc174a6e6aabe725d"
   }
  }
 },
 "nbformat": 4,
 "nbformat_minor": 2
}
