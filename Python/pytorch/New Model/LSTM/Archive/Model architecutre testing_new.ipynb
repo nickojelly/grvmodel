{
 "cells": [
  {
   "cell_type": "code",
   "execution_count": 1,
   "metadata": {},
   "outputs": [
    {
     "name": "stderr",
     "output_type": "stream",
     "text": [
      "<frozen importlib._bootstrap>:228: RuntimeWarning: scipy._lib.messagestream.MessageStream size changed, may indicate binary incompatibility. Expected 56 from C header, got 64 from PyObject\n"
     ]
    }
   ],
   "source": [
    "import pickle\n",
    "import pandas as pd\n",
    "import os\n",
    "import torch\n",
    "import numpy as np\n",
    "import torch.nn as nn\n",
    "import torch.nn.functional as F\n",
    "import torch.optim as optim\n",
    "from tqdm import tqdm\n",
    "import torch.optim as optim\n",
    "from torch.utils.data import TensorDataset, DataLoader\n",
    "import wandb\n",
    "from torch.utils.data.sampler import SubsetRandomSampler\n",
    "import pprint\n",
    "import matplotlib.pyplot as plt\n",
    "import torch\n",
    "with torch.profiler.profile() as profiler:\n",
    "        pass\n",
    "from sklearn.preprocessing import MinMaxScaler"
   ]
  },
  {
   "cell_type": "code",
   "execution_count": 2,
   "metadata": {},
   "outputs": [],
   "source": [
    "def build_network(f1_layer_size, f2_layer_size, dropout, num_layers=2):\n",
    "\n",
    "\n",
    "    network = nn.Sequential(  # fully-connected, dual hidden layer\n",
    "        nn.Linear(128, f1_layer_size),\n",
    "        nn.ReLU(),\n",
    "        nn.Dropout(dropout),\n",
    "        nn.Linear(f1_layer_size, f2_layer_size),\n",
    "        nn.ReLU(),\n",
    "        nn.Dropout(dropout),\n",
    "        nn.Linear(f2_layer_size, 8),\n",
    "        nn.Softmax(dim=1),\n",
    "    )\n",
    "\n",
    "    return network\n"
   ]
  },
  {
   "cell_type": "code",
   "execution_count": 4,
   "metadata": {},
   "outputs": [],
   "source": [
    "rnn = nn.LSTMCell(10, 20)\n",
    "input = torch.randn(2, 10)\n",
    "h0 = torch.randn(2, 20)\n",
    "c0 = torch.randn(2, 20)\n",
    "output, (hn, cn) = rnn(input, (h0, c0))\n",
    "hnt, cnt = hn,cn"
   ]
  },
  {
   "cell_type": "code",
   "execution_count": 5,
   "metadata": {},
   "outputs": [
    {
     "name": "stdout",
     "output_type": "stream",
     "text": [
      "rnn=LSTMCell(10, 20)\n",
      ",input=tensor([[ 0.4143, -2.2494,  0.4302, -0.6370, -0.2114,  0.8064, -1.6593, -0.3196,\n",
      "          0.6626,  0.1947],\n",
      "        [-0.1220, -1.1670, -0.1471, -0.6254, -0.4964, -0.9966,  0.1192,  1.0988,\n",
      "          1.1638,  1.0839]]),h0=tensor([[-1.3160,  0.3458, -0.9221,  0.4392,  1.3843, -0.5240, -1.3394,  0.6273,\n",
      "          2.1268, -0.3708, -0.8993, -1.0195, -0.7579, -0.2196, -0.6876, -0.6964,\n",
      "         -0.6332, -1.7035, -1.1092, -2.5167],\n",
      "        [ 0.7712, -0.7139, -0.3756,  0.6501,  1.6746,  0.2886, -2.3869, -0.3599,\n",
      "          0.8924,  2.2568, -0.1269, -0.4855,  0.5185,  0.9146, -0.2467, -0.2268,\n",
      "          1.3405, -0.0111,  1.3997, -1.3217]]),c0=tensor([[ 1.6252,  1.1010,  1.1989, -0.6024,  0.1357, -1.1412, -0.7005, -3.3551,\n",
      "          0.1322, -1.1232,  0.2013,  0.5477,  0.6711,  0.7415,  0.5746, -0.2466,\n",
      "          2.7686, -0.6592, -0.0422,  0.4848],\n",
      "        [ 1.4166, -0.9735,  0.7672,  1.6384,  1.1774,  0.2098, -0.9295,  0.0250,\n",
      "         -0.7137, -1.0848, -0.8239, -0.6657, -0.4348,  1.1479,  0.7481,  2.4891,\n",
      "          0.7280, -0.7714,  0.7148,  1.4686]])\n",
      ",output=tensor([[ 0.3997,  0.2088,  0.3205, -0.2910,  0.0345, -0.1871, -0.1498, -0.5593,\n",
      "          0.0939, -0.3584,  0.2122,  0.1262, -0.0641, -0.0456,  0.0102, -0.0439,\n",
      "          0.2448, -0.3215,  0.1001,  0.0072],\n",
      "        [ 0.1688, -0.1483,  0.3073, -0.1204,  0.0807,  0.0050, -0.3146, -0.1048,\n",
      "         -0.1719, -0.4873, -0.2354, -0.1630, -0.3972,  0.2819,  0.1624,  0.2313,\n",
      "          0.2353, -0.1533,  0.1301,  0.5211]], grad_fn=<MulBackward0>),hn=tensor([ 0.6753,  0.4300,  0.5313, -0.4334,  0.1284, -0.9542, -0.2872, -2.0071,\n",
      "         0.1819, -0.5083,  0.5235,  0.6032, -0.1155, -0.1182,  0.0276, -0.4599,\n",
      "         1.4414, -0.6346,  0.2487,  0.0145], grad_fn=<UnbindBackward0>)\n",
      ",cn=tensor([ 0.7704, -0.8733,  0.4806, -0.2416,  0.2149,  0.0119, -0.4538, -0.1883,\n",
      "        -0.2177, -0.9740, -0.3039, -0.3981, -0.7220,  0.5214,  0.2129,  0.7089,\n",
      "         0.3697, -0.3152,  0.7438,  1.2288], grad_fn=<UnbindBackward0>)\n"
     ]
    }
   ],
   "source": [
    "print(f\"{rnn=}\\n,{input=},{h0=},{c0=}\\n,{output=},{hn=}\\n,{cn=}\")"
   ]
  },
  {
   "cell_type": "code",
   "execution_count": 6,
   "metadata": {},
   "outputs": [
    {
     "name": "stdout",
     "output_type": "stream",
     "text": [
      "((<AddBackward0 object at 0x0000028BD87BAEE0>, 0),)\n",
      "((<AddBackward0 object at 0x0000028BD87BA8B0>, 0),)\n"
     ]
    }
   ],
   "source": [
    "print(cnt.grad_fn.next_functions)\n",
    "print(cn.grad_fn.next_functions)"
   ]
  },
  {
   "cell_type": "code",
   "execution_count": 43,
   "metadata": {},
   "outputs": [
    {
     "ename": "SyntaxError",
     "evalue": "invalid syntax (2967570734.py, line 8)",
     "output_type": "error",
     "traceback": [
      "\u001b[1;36m  Input \u001b[1;32mIn [43]\u001b[1;36m\u001b[0m\n\u001b[1;33m    def lstm_i(self, lstmInput:):\u001b[0m\n\u001b[1;37m                               ^\u001b[0m\n\u001b[1;31mSyntaxError\u001b[0m\u001b[1;31m:\u001b[0m invalid syntax\n"
     ]
    }
   ],
   "source": [
    "class DogInput:\n",
    "    def __init__(self, dogid, raceid,stats, dog) -> None:\n",
    "        self.dogid= dogid\n",
    "        self.raceid = raceid\n",
    "        self.stats = stats\n",
    "        self.dog = dog\n",
    "        \n",
    "    def lstm_i(self, lstmInput):\n",
    "        self.lstmCell = lstmInput\n",
    "\n",
    "    def nextrace(self, raceid):\n",
    "        self.nextrace_id = raceid\n",
    "\n",
    "    def lstm_o(self, lstm_o):\n",
    "        self.dog.races[self.nextrace_id].lstm_i(lstm_o)\n"
   ]
  },
  {
   "cell_type": "code",
   "execution_count": 36,
   "metadata": {},
   "outputs": [],
   "source": [
    "class Dog:\n",
    "    def __init__(self, dogid, hidden_size, layers) -> None:\n",
    "        self.dogid = dogid\n",
    "        # self.raceids = raceids #possible dictionary of race id keys dog stat outs\n",
    "        self.lstmcell = torch.randn(layers, hidden_size) \n",
    "        self.races = {}\n",
    "\n",
    "    def add_races(self, raceid, racedate, stats,nextraceid):\n",
    "        self.races[raceid] = DogInput(self.dogid, raceid, stats, self)\n",
    "        self.races[raceid].nextrace(nextraceid)"
   ]
  },
  {
   "cell_type": "code",
   "execution_count": 37,
   "metadata": {},
   "outputs": [],
   "source": [
    "class Race:\n",
    "    def __init__(self, raceid,trackOHE, dist):\n",
    "        self.raceid = raceid\n",
    "        self.race_dist = dist\n",
    "        self.race_track = trackOHE\n",
    "        self.dogs = {}\n",
    "\n",
    "    def add_dog(self, dogid, dog):\n",
    "        self.dogs[dogid] = dog\n",
    "\n",
    "    def nn_input(self):\n",
    "        input = torch.cat([x.stats for x in self.dogs.values()], dim = 0)\n",
    "        full_input = torch.cat((self.race_dist,self.race_track, input), dim=0)\n",
    "        return full_input\n",
    "\n",
    "    def lstm_input(self):\n",
    "        l_input = [x.lstmCell for x in self.dogs.values()]\n",
    "        return l_input\n",
    "\n",
    "    def list_dogs(self):\n",
    "        dogs_l = [x for x in self.dogs.values()]\n",
    "        return dogs_l"
   ]
  },
  {
   "cell_type": "code",
   "execution_count": 66,
   "metadata": {},
   "outputs": [
    {
     "ename": "SyntaxError",
     "evalue": "invalid syntax (344025084.py, line 17)",
     "output_type": "error",
     "traceback": [
      "\u001b[1;36m  Input \u001b[1;32mIn [66]\u001b[1;36m\u001b[0m\n\u001b[1;33m    lstms = race.\u001b[0m\n\u001b[1;37m                 ^\u001b[0m\n\u001b[1;31mSyntaxError\u001b[0m\u001b[1;31m:\u001b[0m invalid syntax\n"
     ]
    }
   ],
   "source": [
    "class Net(nn.Module):\n",
    "    def __init__(self):\n",
    "      super(Net, self).__init__()\n",
    "      self.lstm1 = nn.LSTMCell(128,64)\n",
    "      self.lstm2 = nn.LSTMCell(128,64)\n",
    "      self.lstm3 = nn.LSTMCell(128,64)\n",
    "      self.lstm4 = nn.LSTMCell(128,64)\n",
    "      self.lstm5 = nn.LSTMCell(128,64)\n",
    "      self.lstm6 = nn.LSTMCell(128,64)\n",
    "      self.lstm7 = nn.LSTMCell(128,64)\n",
    "      self.lstm8 = nn.LSTMCell(128,64)\n",
    "      self.fc2 = nn.Linear(128, 10)\n",
    "\n",
    "    # x represents our data\n",
    "    def forward(self, race:Race):\n",
    "      x = race.nn_input()\n",
    "      lstms = race.lstm_input()\n",
    "      [n1,n2,n3,n4,n5,n6,n7,n8] = lstms\n",
    "\n",
    "      # Obtain data from classes\n",
    "      x1, (h1, c1) = self.lstm1(x, (x.dog1.LSTM))\n",
    "      x2, (h2, c2) = self.lstm2(x, (x.dog2.LSTM))\n",
    "      x3, (h3, c3) = self.lstm3(x, (x.dog3.LSTM))\n",
    "      x4, (h4, c4) = self.lstm4(x, (x.dog4.LSTM))\n",
    "\n",
    "      # Pass data through conv1\n",
    "      xn1,(hn1,cn1) = self.lstm1(x, (h1, c1))\n",
    "      xn2,(hn2,cn2) = self.lstm1(x, (h2, c2))\n",
    "      xn3,(hn3,cn3) = self.lstm1(x, (h3, c3))\n",
    "      xn4,(hn4,cn4) = self.lstm1(x, (h4, c4))\n",
    "\n",
    "      # Apply softmax to x\n",
    "      output = F.log_softmax(x, dim=1)\n",
    "      return output"
   ]
  },
  {
   "cell_type": "code",
   "execution_count": 64,
   "metadata": {},
   "outputs": [],
   "source": [
    "class Races:\n",
    "    def __init__(self, hidden_size, layers) -> None:\n",
    "        self.racesDict = {}\n",
    "        self.dogsDict = {}\n",
    "        self.raceIDs = []\n",
    "        self.hidden_size = hidden_size\n",
    "        self.layers = layers\n",
    "\n",
    "    def add_race(self,raceid:str, trackOHE, dist):\n",
    "        self.racesDict[raceid] = Race(raceid, trackOHE, dist)\n",
    "        self.raceIDs.append(raceid)\n",
    "\n",
    "    def add_dog(self,dogid):\n",
    "        if dogid not in self.dogsDict.keys():\n",
    "            self.dogsDict[dogid] = Dog(dogid, self.hidden_size, self.layers)\n",
    "        else:\n",
    "            self.dogsDict[dogid] = self.dogsDict[dogid]\n",
    "\n",
    "    def get_race_input(self, idx):\n",
    "        raceidx = self.raceIDs[idx]\n",
    "        input = torch.cat([x.stats for x in self.racesDict[raceidx].dogs.values()], dim = 0)\n",
    "        full_input = torch.cat((self.racesDict[raceidx].race_dist,self.racesDict[raceidx].race_track, input), dim=0 )\n",
    "        dogs = [x for x in self.racesDict[raceidx].dogs.values()]\n",
    "        return (full_input, dogs)\n"
   ]
  },
  {
   "cell_type": "code",
   "execution_count": 39,
   "metadata": {},
   "outputs": [
    {
     "ename": "TypeError",
     "evalue": "__init__() missing 1 required positional argument: 'dog'",
     "output_type": "error",
     "traceback": [
      "\u001b[1;31m---------------------------------------------------------------------------\u001b[0m",
      "\u001b[1;31mTypeError\u001b[0m                                 Traceback (most recent call last)",
      "\u001b[1;32mc:\\Users\\Nick\\Documents\\GitHub\\grvmodel\\Python\\pytorch\\New Model\\LSTM\\Model architecutre testing_new.ipynb Cell 11\u001b[0m in \u001b[0;36m<cell line: 1>\u001b[1;34m()\u001b[0m\n\u001b[1;32m----> <a href='vscode-notebook-cell:/c%3A/Users/Nick/Documents/GitHub/grvmodel/Python/pytorch/New%20Model/LSTM/Model%20architecutre%20testing_new.ipynb#X13sZmlsZQ%3D%3D?line=0'>1</a>\u001b[0m dog \u001b[39m=\u001b[39m DogInput(\u001b[39m1233\u001b[39;49m,\u001b[39m1000\u001b[39;49m, \u001b[39m1\u001b[39;49m)\n\u001b[0;32m      <a href='vscode-notebook-cell:/c%3A/Users/Nick/Documents/GitHub/grvmodel/Python/pytorch/New%20Model/LSTM/Model%20architecutre%20testing_new.ipynb#X13sZmlsZQ%3D%3D?line=1'>2</a>\u001b[0m dog\u001b[39m.\u001b[39mstats\n\u001b[0;32m      <a href='vscode-notebook-cell:/c%3A/Users/Nick/Documents/GitHub/grvmodel/Python/pytorch/New%20Model/LSTM/Model%20architecutre%20testing_new.ipynb#X13sZmlsZQ%3D%3D?line=3'>4</a>\u001b[0m dog\u001b[39m.\u001b[39mlstm(\u001b[39m1\u001b[39m)\n",
      "\u001b[1;31mTypeError\u001b[0m: __init__() missing 1 required positional argument: 'dog'"
     ]
    }
   ],
   "source": [
    "dog = DogInput(1233,1000, 1)\n",
    "dog.stats\n",
    "\n",
    "dog.lstm(1)\n",
    "dog.lstmCell"
   ]
  },
  {
   "cell_type": "code",
   "execution_count": null,
   "metadata": {},
   "outputs": [],
   "source": [
    "os.getcwd()\n",
    "os.chdir(r\"C:\\Users\\Nick\\Documents\\GitHub\\grvmodel\\Python\\DATA\")\n",
    "dog_stats_file = open( 'dog_stats_df.npy', 'rb')\n",
    "resultsdf = pickle.load(dog_stats_file)\n",
    "dog_stats_df = pd.DataFrame(resultsdf)"
   ]
  },
  {
   "cell_type": "code",
   "execution_count": 46,
   "metadata": {},
   "outputs": [
    {
     "data": {
      "text/html": [
       "<div>\n",
       "<style scoped>\n",
       "    .dataframe tbody tr th:only-of-type {\n",
       "        vertical-align: middle;\n",
       "    }\n",
       "\n",
       "    .dataframe tbody tr th {\n",
       "        vertical-align: top;\n",
       "    }\n",
       "\n",
       "    .dataframe thead th {\n",
       "        text-align: right;\n",
       "    }\n",
       "</style>\n",
       "<table border=\"1\" class=\"dataframe\">\n",
       "  <thead>\n",
       "    <tr style=\"text-align: right;\">\n",
       "      <th></th>\n",
       "      <th>dogid</th>\n",
       "      <th>raceid</th>\n",
       "      <th>date</th>\n",
       "      <th>trackOHE</th>\n",
       "      <th>dist</th>\n",
       "      <th>stats</th>\n",
       "      <th>place</th>\n",
       "      <th>startprice</th>\n",
       "      <th>margin</th>\n",
       "      <th>bfSP</th>\n",
       "    </tr>\n",
       "  </thead>\n",
       "  <tbody>\n",
       "    <tr>\n",
       "      <th>2524</th>\n",
       "      <td>-159632</td>\n",
       "      <td>132951399</td>\n",
       "      <td>2016-07-11</td>\n",
       "      <td>[1, 0, 0, 0, 0, 0, 0, 0, 0, 0, 0, 0, 0, 0, 0]</td>\n",
       "      <td>450.0</td>\n",
       "      <td>[6, 0.059524999999999995, nan, 0.0595249999999...</td>\n",
       "      <td>7.0</td>\n",
       "      <td>17.0</td>\n",
       "      <td>9.00</td>\n",
       "      <td>25.000000</td>\n",
       "    </tr>\n",
       "    <tr>\n",
       "      <th>8743</th>\n",
       "      <td>-159632</td>\n",
       "      <td>139325114</td>\n",
       "      <td>2016-08-02</td>\n",
       "      <td>[0, 0, 0, 1, 0, 0, 0, 0, 0, 0, 0, 0, 0, 0, 0]</td>\n",
       "      <td>400.0</td>\n",
       "      <td>[8, 0.05930694444444444, 0.0003083771240174653...</td>\n",
       "      <td>6.0</td>\n",
       "      <td>11.2</td>\n",
       "      <td>6.70</td>\n",
       "      <td>18.766242</td>\n",
       "    </tr>\n",
       "    <tr>\n",
       "      <th>20697</th>\n",
       "      <td>-159632</td>\n",
       "      <td>151780470</td>\n",
       "      <td>2016-09-13</td>\n",
       "      <td>[0, 0, 0, 1, 0, 0, 0, 0, 0, 0, 0, 0, 0, 0, 0]</td>\n",
       "      <td>460.0</td>\n",
       "      <td>[1, 0.05887962962962962, 0.0007715841355220415...</td>\n",
       "      <td>5.0</td>\n",
       "      <td>19.3</td>\n",
       "      <td>5.96</td>\n",
       "      <td>16.990319</td>\n",
       "    </tr>\n",
       "    <tr>\n",
       "      <th>44437</th>\n",
       "      <td>-159632</td>\n",
       "      <td>177083976</td>\n",
       "      <td>2016-12-05</td>\n",
       "      <td>[1, 0, 0, 0, 0, 0, 0, 0, 0, 0, 0, 0, 0, 0, 0]</td>\n",
       "      <td>450.0</td>\n",
       "      <td>[3, 0.058605374396135265, 0.000835319370773274...</td>\n",
       "      <td>8.0</td>\n",
       "      <td>19.0</td>\n",
       "      <td>10.10</td>\n",
       "      <td>37.180216</td>\n",
       "    </tr>\n",
       "    <tr>\n",
       "      <th>71516</th>\n",
       "      <td>-159632</td>\n",
       "      <td>1967920009</td>\n",
       "      <td>2016-01-26</td>\n",
       "      <td>[0, 0, 0, 1, 0, 0, 0, 0, 0, 0, 0, 0, 0, 0, 0]</td>\n",
       "      <td>400.0</td>\n",
       "      <td>[8, nan, nan, nan, nan, nan, nan, nan, nan, na...</td>\n",
       "      <td>5.0</td>\n",
       "      <td>3.8</td>\n",
       "      <td>14.33</td>\n",
       "      <td>NaN</td>\n",
       "    </tr>\n",
       "  </tbody>\n",
       "</table>\n",
       "</div>"
      ],
      "text/plain": [
       "         dogid      raceid       date  \\\n",
       "2524   -159632   132951399 2016-07-11   \n",
       "8743   -159632   139325114 2016-08-02   \n",
       "20697  -159632   151780470 2016-09-13   \n",
       "44437  -159632   177083976 2016-12-05   \n",
       "71516  -159632  1967920009 2016-01-26   \n",
       "\n",
       "                                            trackOHE   dist  \\\n",
       "2524   [1, 0, 0, 0, 0, 0, 0, 0, 0, 0, 0, 0, 0, 0, 0]  450.0   \n",
       "8743   [0, 0, 0, 1, 0, 0, 0, 0, 0, 0, 0, 0, 0, 0, 0]  400.0   \n",
       "20697  [0, 0, 0, 1, 0, 0, 0, 0, 0, 0, 0, 0, 0, 0, 0]  460.0   \n",
       "44437  [1, 0, 0, 0, 0, 0, 0, 0, 0, 0, 0, 0, 0, 0, 0]  450.0   \n",
       "71516  [0, 0, 0, 1, 0, 0, 0, 0, 0, 0, 0, 0, 0, 0, 0]  400.0   \n",
       "\n",
       "                                                   stats  place  startprice  \\\n",
       "2524   [6, 0.059524999999999995, nan, 0.0595249999999...    7.0        17.0   \n",
       "8743   [8, 0.05930694444444444, 0.0003083771240174653...    6.0        11.2   \n",
       "20697  [1, 0.05887962962962962, 0.0007715841355220415...    5.0        19.3   \n",
       "44437  [3, 0.058605374396135265, 0.000835319370773274...    8.0        19.0   \n",
       "71516  [8, nan, nan, nan, nan, nan, nan, nan, nan, na...    5.0         3.8   \n",
       "\n",
       "       margin       bfSP  \n",
       "2524     9.00  25.000000  \n",
       "8743     6.70  18.766242  \n",
       "20697    5.96  16.990319  \n",
       "44437   10.10  37.180216  \n",
       "71516   14.33        NaN  "
      ]
     },
     "execution_count": 46,
     "metadata": {},
     "output_type": "execute_result"
    }
   ],
   "source": [
    "dog_stats_df[dog_stats_df['dogid']==\"-159632\"]"
   ]
  },
  {
   "cell_type": "code",
   "execution_count": 40,
   "metadata": {},
   "outputs": [
    {
     "name": "stderr",
     "output_type": "stream",
     "text": [
      "  0%|          | 0/25187 [00:00<?, ?it/s]"
     ]
    },
    {
     "name": "stdout",
     "output_type": "stream",
     "text": [
      "<__main__.Races object at 0x0000028BE1845280>\n"
     ]
    },
    {
     "name": "stderr",
     "output_type": "stream",
     "text": [
      "100%|██████████| 25187/25187 [00:45<00:00, 551.47it/s]\n"
     ]
    }
   ],
   "source": [
    "dog_stats_group = dog_stats_df.groupby([\"dogid\"])\n",
    "raceDB = Races(64,1)\n",
    "print(raceDB)\n",
    "for i,j in tqdm(dog_stats_group):\n",
    "    #print(f\"dog id = {i}\\nlist = {j}\")\n",
    "    #tqdm.write(f\"{i}\")\n",
    "\n",
    "    #creates next race column\n",
    "    j[\"next_race\"] = j[\"raceid\"].shift(-1)\n",
    "    raceDB.add_dog(i)\n",
    "    \n",
    "    j.apply(lambda x: raceDB.dogsDict[i].add_races(x['raceid'], x['date'], torch.Tensor(x['stats']),x['next_race']), axis=1)\n",
    "    \n",
    "\n"
   ]
  },
  {
   "cell_type": "code",
   "execution_count": 41,
   "metadata": {},
   "outputs": [
    {
     "name": "stderr",
     "output_type": "stream",
     "text": [
      "100%|██████████| 72073/72073 [00:57<00:00, 1243.15it/s]\n"
     ]
    }
   ],
   "source": [
    "races_group = dog_stats_df.groupby(['raceid'])\n",
    "\n",
    "for i,j in tqdm(races_group):\n",
    "    dist = torch.tensor([j.dist.iloc[0]])\n",
    "    trackOHE = torch.tensor(j.trackOHE.iloc[0])\n",
    "    raceDB.add_race(i,trackOHE,dist)\n",
    "    j.apply(lambda x: raceDB.racesDict[i].add_dog(x['dogid'], raceDB.dogsDict[x['dogid']].races[i]), axis=1)"
   ]
  },
  {
   "cell_type": "code",
   "execution_count": 63,
   "metadata": {},
   "outputs": [
    {
     "data": {
      "text/plain": [
       "<__main__.Dog at 0x28be1e43ee0>"
      ]
     },
     "execution_count": 63,
     "metadata": {},
     "output_type": "execute_result"
    }
   ],
   "source": [
    "raceDB.dogsDict[\"-159632\"].races[\"132951399\"].dog"
   ]
  },
  {
   "cell_type": "code",
   "execution_count": null,
   "metadata": {},
   "outputs": [
    {
     "ename": "AttributeError",
     "evalue": "'DogInput' object has no attribute 'lstmCell'",
     "output_type": "error",
     "traceback": [
      "\u001b[1;31m---------------------------------------------------------------------------\u001b[0m",
      "\u001b[1;31mAttributeError\u001b[0m                            Traceback (most recent call last)",
      "\u001b[1;32mc:\\Users\\Nick\\Documents\\GitHub\\grvmodel\\Python\\pytorch\\New Model\\LSTM\\Model architecutre testing_new.ipynb Cell 16\u001b[0m in \u001b[0;36m<cell line: 1>\u001b[1;34m()\u001b[0m\n\u001b[1;32m----> <a href='vscode-notebook-cell:/c%3A/Users/Nick/Documents/GitHub/grvmodel/Python/pytorch/New%20Model/LSTM/Model%20architecutre%20testing_new.ipynb#X21sZmlsZQ%3D%3D?line=0'>1</a>\u001b[0m x \u001b[39m=\u001b[39m raceDB\u001b[39m.\u001b[39;49mget_race_input(\u001b[39m5\u001b[39;49m)\n\u001b[0;32m      <a href='vscode-notebook-cell:/c%3A/Users/Nick/Documents/GitHub/grvmodel/Python/pytorch/New%20Model/LSTM/Model%20architecutre%20testing_new.ipynb#X21sZmlsZQ%3D%3D?line=1'>2</a>\u001b[0m x\u001b[39m.\u001b[39mshape\n",
      "\u001b[1;32mc:\\Users\\Nick\\Documents\\GitHub\\grvmodel\\Python\\pytorch\\New Model\\LSTM\\Model architecutre testing_new.ipynb Cell 16\u001b[0m in \u001b[0;36mRaces.get_race_input\u001b[1;34m(self, idx)\u001b[0m\n\u001b[0;32m     <a href='vscode-notebook-cell:/c%3A/Users/Nick/Documents/GitHub/grvmodel/Python/pytorch/New%20Model/LSTM/Model%20architecutre%20testing_new.ipynb#X21sZmlsZQ%3D%3D?line=20'>21</a>\u001b[0m \u001b[39minput\u001b[39m \u001b[39m=\u001b[39m torch\u001b[39m.\u001b[39mcat([x\u001b[39m.\u001b[39mstats \u001b[39mfor\u001b[39;00m x \u001b[39min\u001b[39;00m \u001b[39mself\u001b[39m\u001b[39m.\u001b[39mracesDict[raceidx]\u001b[39m.\u001b[39mdogs\u001b[39m.\u001b[39mvalues()], dim \u001b[39m=\u001b[39m \u001b[39m0\u001b[39m)\n\u001b[0;32m     <a href='vscode-notebook-cell:/c%3A/Users/Nick/Documents/GitHub/grvmodel/Python/pytorch/New%20Model/LSTM/Model%20architecutre%20testing_new.ipynb#X21sZmlsZQ%3D%3D?line=21'>22</a>\u001b[0m full_input \u001b[39m=\u001b[39m torch\u001b[39m.\u001b[39mcat((\u001b[39mself\u001b[39m\u001b[39m.\u001b[39mracesDict[raceidx]\u001b[39m.\u001b[39mrace_dist,\u001b[39mself\u001b[39m\u001b[39m.\u001b[39mracesDict[raceidx]\u001b[39m.\u001b[39mrace_track, \u001b[39minput\u001b[39m), dim\u001b[39m=\u001b[39m\u001b[39m0\u001b[39m )\n\u001b[1;32m---> <a href='vscode-notebook-cell:/c%3A/Users/Nick/Documents/GitHub/grvmodel/Python/pytorch/New%20Model/LSTM/Model%20architecutre%20testing_new.ipynb#X21sZmlsZQ%3D%3D?line=22'>23</a>\u001b[0m lstm_cells \u001b[39m=\u001b[39m [x\u001b[39m.\u001b[39mlstmCell \u001b[39mfor\u001b[39;00m x \u001b[39min\u001b[39;00m \u001b[39mself\u001b[39m\u001b[39m.\u001b[39mracesDict[raceidx]\u001b[39m.\u001b[39mdogs\u001b[39m.\u001b[39mvalues()]\n\u001b[0;32m     <a href='vscode-notebook-cell:/c%3A/Users/Nick/Documents/GitHub/grvmodel/Python/pytorch/New%20Model/LSTM/Model%20architecutre%20testing_new.ipynb#X21sZmlsZQ%3D%3D?line=23'>24</a>\u001b[0m \u001b[39mreturn\u001b[39;00m (full_input, lstm_cells)\n",
      "\u001b[1;32mc:\\Users\\Nick\\Documents\\GitHub\\grvmodel\\Python\\pytorch\\New Model\\LSTM\\Model architecutre testing_new.ipynb Cell 16\u001b[0m in \u001b[0;36m<listcomp>\u001b[1;34m(.0)\u001b[0m\n\u001b[0;32m     <a href='vscode-notebook-cell:/c%3A/Users/Nick/Documents/GitHub/grvmodel/Python/pytorch/New%20Model/LSTM/Model%20architecutre%20testing_new.ipynb#X21sZmlsZQ%3D%3D?line=20'>21</a>\u001b[0m \u001b[39minput\u001b[39m \u001b[39m=\u001b[39m torch\u001b[39m.\u001b[39mcat([x\u001b[39m.\u001b[39mstats \u001b[39mfor\u001b[39;00m x \u001b[39min\u001b[39;00m \u001b[39mself\u001b[39m\u001b[39m.\u001b[39mracesDict[raceidx]\u001b[39m.\u001b[39mdogs\u001b[39m.\u001b[39mvalues()], dim \u001b[39m=\u001b[39m \u001b[39m0\u001b[39m)\n\u001b[0;32m     <a href='vscode-notebook-cell:/c%3A/Users/Nick/Documents/GitHub/grvmodel/Python/pytorch/New%20Model/LSTM/Model%20architecutre%20testing_new.ipynb#X21sZmlsZQ%3D%3D?line=21'>22</a>\u001b[0m full_input \u001b[39m=\u001b[39m torch\u001b[39m.\u001b[39mcat((\u001b[39mself\u001b[39m\u001b[39m.\u001b[39mracesDict[raceidx]\u001b[39m.\u001b[39mrace_dist,\u001b[39mself\u001b[39m\u001b[39m.\u001b[39mracesDict[raceidx]\u001b[39m.\u001b[39mrace_track, \u001b[39minput\u001b[39m), dim\u001b[39m=\u001b[39m\u001b[39m0\u001b[39m )\n\u001b[1;32m---> <a href='vscode-notebook-cell:/c%3A/Users/Nick/Documents/GitHub/grvmodel/Python/pytorch/New%20Model/LSTM/Model%20architecutre%20testing_new.ipynb#X21sZmlsZQ%3D%3D?line=22'>23</a>\u001b[0m lstm_cells \u001b[39m=\u001b[39m [x\u001b[39m.\u001b[39;49mlstmCell \u001b[39mfor\u001b[39;00m x \u001b[39min\u001b[39;00m \u001b[39mself\u001b[39m\u001b[39m.\u001b[39mracesDict[raceidx]\u001b[39m.\u001b[39mdogs\u001b[39m.\u001b[39mvalues()]\n\u001b[0;32m     <a href='vscode-notebook-cell:/c%3A/Users/Nick/Documents/GitHub/grvmodel/Python/pytorch/New%20Model/LSTM/Model%20architecutre%20testing_new.ipynb#X21sZmlsZQ%3D%3D?line=23'>24</a>\u001b[0m \u001b[39mreturn\u001b[39;00m (full_input, lstm_cells)\n",
      "\u001b[1;31mAttributeError\u001b[0m: 'DogInput' object has no attribute 'lstmCell'"
     ]
    }
   ],
   "source": [
    "x = raceDB.get_race_input(5)\n",
    "x.shape"
   ]
  },
  {
   "cell_type": "code",
   "execution_count": 67,
   "metadata": {},
   "outputs": [],
   "source": [
    "[l1,l2,l3,l4,l5,l6,l7,l8] = [1,2,3,4,5,6,7,8]"
   ]
  }
 ],
 "metadata": {
  "kernelspec": {
   "display_name": "Python 3.9.12 ('pytorch')",
   "language": "python",
   "name": "python3"
  },
  "language_info": {
   "codemirror_mode": {
    "name": "ipython",
    "version": 3
   },
   "file_extension": ".py",
   "mimetype": "text/x-python",
   "name": "python",
   "nbconvert_exporter": "python",
   "pygments_lexer": "ipython3",
   "version": "3.9.12"
  },
  "orig_nbformat": 4,
  "vscode": {
   "interpreter": {
    "hash": "43115443075634c02a7c247a87b0dd9d74842892e56d473b9e19f544f3149aff"
   }
  }
 },
 "nbformat": 4,
 "nbformat_minor": 2
}
