{
 "cells": [
  {
   "cell_type": "code",
   "execution_count": 1,
   "metadata": {},
   "outputs": [
    {
     "name": "stderr",
     "output_type": "stream",
     "text": [
      "<frozen importlib._bootstrap>:228: RuntimeWarning: scipy._lib.messagestream.MessageStream size changed, may indicate binary incompatibility. Expected 56 from C header, got 64 from PyObject\n"
     ]
    }
   ],
   "source": [
    "import pickle\n",
    "import pandas as pd\n",
    "import os\n",
    "\n",
    "\n",
    "import torch\n",
    "import numpy as np\n",
    "import torch.nn as nn\n",
    "import torch.nn.functional as F\n",
    "import torch.optim as optim\n",
    "from tqdm import tqdm, trange\n",
    "import torch.optim as optim\n",
    "from torch.utils.data import TensorDataset, DataLoader\n",
    "import wandb\n",
    "from torch.utils.data.sampler import SubsetRandomSampler\n",
    "import pprint\n",
    "import matplotlib.pyplot as plt\n",
    "import torch\n",
    "\n",
    "from sklearn.preprocessing import MinMaxScaler\n",
    "import math\n",
    "from torch.profiler import profile, record_function, ProfilerActivity\n",
    "\n",
    "from operator import itemgetter\n",
    "import operator"
   ]
  },
  {
   "cell_type": "code",
   "execution_count": 2,
   "metadata": {},
   "outputs": [
    {
     "name": "stdout",
     "output_type": "stream",
     "text": [
      "Running on the GPU\n"
     ]
    }
   ],
   "source": [
    "if torch.cuda.is_available():\n",
    "    device = torch.device(\"cuda:0\")  # you can continue going on here, like cuda:1 cuda:2....etc.\n",
    "    print(\"Running on the GPU\")\n",
    "else:\n",
    "    device = torch.device(\"cpu\")\n",
    "    print(\"Running on the CPU\")"
   ]
  },
  {
   "cell_type": "code",
   "execution_count": 3,
   "metadata": {},
   "outputs": [],
   "source": [
    "torch.set_default_tensor_type(torch.FloatTensor)"
   ]
  },
  {
   "cell_type": "code",
   "execution_count": 4,
   "metadata": {},
   "outputs": [
    {
     "data": {
      "text/plain": [
       "'1.12.1'"
      ]
     },
     "execution_count": 4,
     "metadata": {},
     "output_type": "execute_result"
    }
   ],
   "source": [
    "torch.__version__"
   ]
  },
  {
   "cell_type": "code",
   "execution_count": 5,
   "metadata": {},
   "outputs": [],
   "source": [
    "class DogInput:\n",
    "    def __init__(self, dogid, raceid,stats, dog,dog_box, hidden_state, bfsp, sp) -> None:\n",
    "        self.dogid= dogid\n",
    "        self.raceid = raceid\n",
    "        self.stats = stats.to('cuda:0')\n",
    "        self.dog = dog\n",
    "        self.gru_cell = hidden_state.float().to('cuda:0')\n",
    "        self.visited = 0\n",
    "        self.bfsp = bfsp\n",
    "        self.gru_cell_out = None\n",
    "\n",
    "        \n",
    "        \n",
    "    def lstm_i(self, hidden_state):\n",
    "        self.gru_cell = hidden_state\n",
    "        # self.lstmCellh=self.lstmCellh.to(device)\n",
    "        # self.lstmCellc=self.lstmCellc.to(device)\n",
    "        self.visited = self.visited + 1\n",
    "        # if self.visited>1:\n",
    "        #     print(\"FOUND LEAK\")\n",
    "        #     sasdfasd\n",
    "\n",
    "    def nextrace(self, raceid):\n",
    "        self.nextrace_id = raceid\n",
    "\n",
    "    def prevrace(self, raceid):\n",
    "        self.prevrace_id = raceid\n",
    "\n",
    "    def lstm_o(self, lstm_o):\n",
    "        # print(lstm_o[0]._version)\n",
    "        hidden_state = lstm_o\n",
    "        self.gru_cell_out = lstm_o\n",
    "        if self.nextrace_id==-1:\n",
    "            pass\n",
    "        else:\n",
    "            self.dog.races[self.nextrace_id].lstm_i(hidden_state) #((lh.detach(), lc.detach())) #DETACH\n",
    "\n",
    "    def detach_state(self):\n",
    "        self.gru_cell = self.gru_cell.detach()\n",
    "            \n"
   ]
  },
  {
   "cell_type": "code",
   "execution_count": 6,
   "metadata": {},
   "outputs": [],
   "source": [
    "class Dog:\n",
    "    def __init__(self, dogid,dog_name, hidden_size, layers) -> None:\n",
    "        self.dogid = dogid\n",
    "        self.dog_name = dog_name\n",
    "        # self.raceids = raceids #possible dictionary of race id keys dog stat outs\n",
    "        self.lstmcell = 0\n",
    "        self.layers = layers\n",
    "        self.hidden_size = hidden_size\n",
    "        self.l_debug = None\n",
    "        self.races = {}\n",
    "\n",
    "    def add_races(self, raceid, racedate, stats,nextraceid, prevraceid, box, bfsp=None, sp=None):\n",
    "        self.races[raceid] = DogInput(self.dogid, raceid, stats, self, box, torch.randn(self.hidden_size), bfsp, sp) #this is the change\n",
    "        self.races[raceid].nextrace(nextraceid)\n",
    "        self.races[raceid].prevrace(prevraceid)"
   ]
  },
  {
   "cell_type": "code",
   "execution_count": 7,
   "metadata": {},
   "outputs": [],
   "source": [
    "class Race:\n",
    "    def __init__(self, raceid,trackOHE, dist, classes=None):\n",
    "        self.raceid = raceid\n",
    "        self.race_dist = dist.to('cuda:0')\n",
    "        self.race_track = trackOHE.to('cuda:0')\n",
    "        self.track_name = None\n",
    "        if classes!=None:\n",
    "            self.classes =  classes.to('cuda:0')\n",
    "\n",
    "    def add_dogs(self, dogs_list:DogInput):\n",
    "        self.dog1 = dogs_list[0]\n",
    "        self.dog2 = dogs_list[1]\n",
    "        self.dog3 = dogs_list[2]\n",
    "        self.dog4 = dogs_list[3]\n",
    "        self.dog5 = dogs_list[4]\n",
    "        self.dog6 = dogs_list[5]\n",
    "        self.dog7 = dogs_list[6]\n",
    "        self.dog8 = dogs_list[7]\n",
    "        self.dogs = dogs_list\n",
    "\n",
    "    def add_track_name(self, track_name):\n",
    "        self.track_name = track_name\n",
    "\n",
    "\n",
    "    def nn_input(self):\n",
    "        input = torch.cat([x.stats for x in self.dogs], dim = 0)\n",
    "        full_input = torch.cat((self.race_dist,self.race_track, input), dim=0).to(device='cuda:0')\n",
    "        self.full_input = full_input\n",
    "        return full_input\n",
    "\n",
    "    def lstm_input(self, pred=False):\n",
    "        if pred:\n",
    "            print('pred')\n",
    "        else:\n",
    "            l_input = [x.gru_cell for x in self.dogs]\n",
    "        return l_input\n",
    "\n",
    "    def lstm_detach(self):\n",
    "        [x.detach_state for x in self.dogs]\n",
    "\n",
    "    def list_dogs(self):\n",
    "        dogs_l = [x for x in self.dogs]\n",
    "        return dogs_l\n",
    "\n",
    "    def pass_gru_output(self, hidden_states):\n",
    "        for i,dog in enumerate(self.dogs):\n",
    "            hs = hidden_states[i]\n",
    "            #hs = hs.detach()\n",
    "            dog.lstm_o(hs) #.clone())"
   ]
  },
  {
   "cell_type": "code",
   "execution_count": 8,
   "metadata": {},
   "outputs": [],
   "source": [
    "class Races:\n",
    "    def __init__(self, hidden_size, layers, batch_size = 100) -> None:\n",
    "        self.racesDict = {}\n",
    "        self.dogsDict = {}\n",
    "        self.raceIDs = []\n",
    "        self.hidden_size = hidden_size\n",
    "        self.layers = layers\n",
    "        self.getter = operator.itemgetter(*range(batch_size))\n",
    "\n",
    "    def add_race(self,raceid:str, trackOHE, dist, classes=None):\n",
    "        self.racesDict[raceid] = Race(raceid, trackOHE, dist, classes)\n",
    "        self.raceIDs.append(raceid)\n",
    "\n",
    "    def add_dog(self,dogid, dog_name):\n",
    "        if dogid not in self.dogsDict.keys():\n",
    "            self.dogsDict[dogid] = Dog(dogid,dog_name, self.hidden_size, self.layers)\n",
    "        # else:\n",
    "        #     self.dogsDict[dogid] = self.dogsDict[dogid]\n",
    "\n",
    "    def get_race_input(self, idx) -> Race:\n",
    "        if len(idx)==1:\n",
    "            race = self.racesDict[self.raceIDs[idx]]\n",
    "            print(f\"returing race {race}\")\n",
    "            return race\n",
    "        else:\n",
    "            raceidx = operator.itemgetter(*idx)\n",
    "            race_batch_id = raceidx(self.raceIDs)\n",
    "            races = [self.racesDict[x] for x in race_batch_id] #Returns list of class Race\n",
    "        \n",
    "        return races #self.racesDict[raceidx]\n",
    "\n",
    "    def get_race_classes(self, idx):\n",
    "        raceidx = self.raceIDs[idx]\n",
    "        classes = [x for x in self.raceDict[raceidx].classes]\n",
    "        return classes\n",
    "\n",
    "    def get_race_weights(self, races):\n",
    "        print(\"weights\")\n",
    "\n",
    "    def reset_all_lstm_states(self):\n",
    "        for race in self.racesDict.values:\n",
    "            for dog in race.dogs:\n",
    "                dog.lstmCellc = torch.rand(self.hidden_size)\n",
    "                dog.lstmCellh = torch.rand(self.hidden_size)\n",
    "                dog.gru_cell = torch.rand(self.hidden_size)\n",
    "\n",
    "    def detach_all_hidden_states(self):\n",
    "        for race in self.racesDict.values():\n",
    "            for dog in race.dogs:\n",
    "                dog.gru_cell = dog.gru_cell.detach()\n",
    "\n",
    "    def detach_given_hidden_states(self, races):\n",
    "        for race in races:\n",
    "            for dog in race.dogs:\n",
    "                dog.gru_cell = dog.gru_cell.detach()\n",
    "\n",
    "    def create_hidden_states_dict(self):\n",
    "        self.hidden_states_dict = {}\n",
    "        for race in self.racesDict.values():\n",
    "            race_id = race.raceid\n",
    "            for dog in race.dogs:\n",
    "                dog_id = dog.dogid\n",
    "                key = race_id+'_'+dog_id\n",
    "                val = dog.gru_cell_out\n",
    "                self.hidden_states_dict[key] = val\n",
    "\n",
    "    def fill_hidden_states_from_dict(self, hidden_dict):\n",
    "        for race in self.racesDict.values():\n",
    "            race_id = race.raceid\n",
    "            for dog in race.dogs:\n",
    "                dog_id = dog.dogid\n",
    "                dog_prev_race_id = dog.prevrace_id\n",
    "                key = str(dog_prev_race_id)+'_'+dog_id\n",
    "                try:\n",
    "                    val = hidden_dict[key]\n",
    "                    if val != None:\n",
    "                        dog.gru_cell = val\n",
    "                    else:\n",
    "                        dog.gru_cell = torch.rand(self.hidden_size)\n",
    "                except KeyError as e:\n",
    "                    print(f'Key error {e}')\n",
    "                    val = torch.rand(self.hidden_size)\n",
    "                    dog.gru_cell = val\n",
    "                    print(f\"race in = {dog.gru_cell}\")\n",
    "                print(key,val)\n",
    "\n",
    "    def to_cuda(self):\n",
    "        for race in self.racesDict.values():\n",
    "            race_id = race.raceid\n",
    "            for dog in race.dogs:\n",
    "                dog.gru_cell = dog.gru_cell.to(device)\n"
   ]
  },
  {
   "cell_type": "code",
   "execution_count": 9,
   "metadata": {},
   "outputs": [],
   "source": [
    "class GRUNet(nn.Module):\n",
    "    def __init__(self, input_size, hidden_size, dropout=0.3):\n",
    "        super(GRUNet, self).__init__()\n",
    "        self.gru1 = nn.GRUCell(input_size, hidden_size)\n",
    "        self.gru2 = nn.GRUCell(input_size, hidden_size)\n",
    "        self.gru3 = nn.GRUCell(input_size, hidden_size)\n",
    "        self.gru4 = nn.GRUCell(input_size, hidden_size)\n",
    "        self.gru5 = nn.GRUCell(input_size, hidden_size)\n",
    "        self.gru6 = nn.GRUCell(input_size, hidden_size)\n",
    "        self.gru7 = nn.GRUCell(input_size, hidden_size)\n",
    "        self.gru8 = nn.GRUCell(input_size, hidden_size)\n",
    "        self.rl1 = nn.ReLU()\n",
    "        self.drop1 = nn.Dropout(dropout)\n",
    "        self.fc2 = nn.Linear(hidden_size * 8, 64)\n",
    "        self.drop2 = nn.Dropout(dropout)\n",
    "        self.rl2 = nn.ReLU()\n",
    "        self.fc3 = nn.Linear(64, 8)\n",
    "        self.hidden_size = hidden_size\n",
    "\n",
    "    # x represents our data\n",
    "    def forward(self, race: Race):\n",
    "        x = torch.stack([r.full_input.float() for r in race])#.detach()\n",
    "\n",
    "        # creates list of LSTM data\n",
    "        hidden_state_in = [list(i) for i in zip(*[r.lstm_input() for r in race])]\n",
    "\n",
    "        # creates list of tensors for lstm Cells\n",
    "        hCell = [torch.stack([x for x in y]) for y in hidden_state_in]\n",
    "        # print(f\"{hCell=}\")\n",
    "        # for h in hCell:\n",
    "        #     print(h._version)\n",
    "        #     if h.grad_fn != None:\n",
    "        #         print(h.grad_fn._saved_self)\n",
    "        #         print(h.grad_fn._saved_other)\n",
    "        # for h in hCell:\n",
    "        #     print(h)\n",
    "\n",
    "        h1 = self.gru1(x, hCell[0])\n",
    "        h2 = self.gru2(x, hCell[1])\n",
    "        h3 = self.gru3(x, hCell[2])\n",
    "        h4 = self.gru4(x, hCell[3])\n",
    "        h5 = self.gru5(x, hCell[4])\n",
    "        h6 = self.gru6(x, hCell[5])\n",
    "        h7 = self.gru7(x, hCell[6])\n",
    "        h8 = self.gru8(x, hCell[7])\n",
    "\n",
    "        lstm_list = [\n",
    "            h1,\n",
    "            h2,\n",
    "            h3,\n",
    "            h4,\n",
    "            h5,\n",
    "            h6,\n",
    "            h7,\n",
    "            h8,\n",
    "        ]\n",
    "\n",
    "        hCello = [i for i in zip(*[x for x in lstm_list])]\n",
    "        # cCello = [i for i in zip(*[x[1] for x in lstm_list])]\n",
    "\n",
    "        for i, r in enumerate(race):\n",
    "            r.pass_gru_output(hCello[i])\n",
    "            # r.lstm_detach()\n",
    "        xhh = torch.cat((h1, h2, h3, h4, h5, h6, h7, h8), dim=1)\n",
    "        xr1 = self.rl1(xhh)\n",
    "        xd1 = self.drop1(xr1)\n",
    "        xh = self.fc2(xd1)\n",
    "        xd2 = self.drop2(xh)\n",
    "        xr2 = self.rl2(xd2)\n",
    "        xf = self.fc3(xr2)\n",
    "\n",
    "        #output = F.softmax(xf, dim=1)\n",
    "        #output = nn.LogSoftmax(xf)\n",
    "        output = xf\n",
    "        return output\n"
   ]
  },
  {
   "cell_type": "code",
   "execution_count": 10,
   "metadata": {},
   "outputs": [],
   "source": [
    "def build_pred_dataset(data, hidden_size):\n",
    "\n",
    "    #Load in pickeled dataframe\n",
    "    resultsdf = pickle.load(data)\n",
    "    dog_stats_df = pd.DataFrame(resultsdf)\n",
    "    dog_stats_df = dog_stats_df.fillna(-1).drop_duplicates(subset=['dogid', 'raceid'])\n",
    "    dog_stats_df['stats_cuda'] = dog_stats_df.apply(lambda x: torch.tensor(x['stats']), axis =1)\n",
    "    dog_stats_df['box'] = dog_stats_df['stats'].apply(lambda x: x[0])\n",
    "\n",
    "    #Created RaceDB\n",
    "    raceDB = Races(hidden_size, 1)\n",
    "\n",
    "    #Fill in dog portion:\n",
    "\n",
    "    dog_stats_group = dog_stats_df.sort_values(['date']).groupby([\"dogid\"])\n",
    "\n",
    "    for i,j in tqdm(dog_stats_group):\n",
    "        raceDB.add_dog(i, j.dog_name.iloc[0])\n",
    "        j.apply(lambda x: raceDB.dogsDict[i].add_races(x['raceid'], x['date'], torch.Tensor(x['stats']),-1, x['prev_race'], x['box']), axis=1)\n",
    "\n",
    "    #Fill in races portion\n",
    "    softmin = nn.Softmin(dim=0)\n",
    "    races_group = dog_stats_df.groupby(['raceid'])\n",
    "\n",
    "    null_dog = Dog(\"nullDog\", \"no_name\", raceDB.hidden_size, raceDB.layers)\n",
    "    null_dog_i = DogInput(\"nullDog\", \"-1\", torch.zeros(16), null_dog,0, torch.zeros(raceDB.hidden_size),0,0)\n",
    "    null_dog_i.nextrace(-1)\n",
    "    null_dog_i.prevrace(-1)\n",
    "\n",
    "    null_dog_list = [null_dog] * 8\n",
    "    #TO FIX LATER PROPER BOX PLACEMENT #FIXED\n",
    "\n",
    "    races_group = dog_stats_df.groupby(['raceid'])\n",
    "    for i,j in tqdm(races_group):\n",
    "    #Track info tensors\n",
    "        dist = torch.tensor([j.dist.iloc[0]]) \n",
    "        trackOHE = torch.tensor(j.trackOHE.iloc[0])\n",
    "\n",
    "        empty_dog_list = [null_dog_i]*8\n",
    "        boxes_list = [x for x in j['box']]      \n",
    "        dog_list = [raceDB.dogsDict[x].races[i] for x in j[\"dogid\"]]\n",
    "\n",
    "        for n,x in enumerate(boxes_list):\n",
    "            empty_dog_list[x-1] = dog_list[n]\n",
    "        \n",
    "        raceDB.add_race(i,trackOHE,dist)\n",
    "        \n",
    "        # List of Dog Input??\n",
    "        raceDB.racesDict[i].add_dogs(empty_dog_list)\n",
    "        raceDB.racesDict[i].nn_input()\n",
    "        raceDB.racesDict[i].add_track_name(j.track_name.iloc[0])\n",
    "        raceDB.racesDict[i].track_name = j.track_name.iloc[0]\n",
    "        raceDB.racesDict[i].grade = j.race_grade.iloc[0]\n",
    "\n",
    "    print(f\"number of races = {len(raceDB.racesDict)}, number of unique dogs = {len(raceDB.dogsDict)}\")\n",
    "    return raceDB\n",
    "\n"
   ]
  },
  {
   "cell_type": "code",
   "execution_count": 11,
   "metadata": {},
   "outputs": [],
   "source": [
    "def build_dataset(data, hidden_size):\n",
    "\n",
    "    #Load in pickeled dataframe\n",
    "    resultsdf = pickle.load(data)\n",
    "    dog_stats_df = pd.DataFrame(resultsdf)\n",
    "    dog_stats_df = dog_stats_df.fillna(-1).drop_duplicates(subset=['dogid', 'raceid'])\n",
    "    dog_stats_df['stats_cuda'] = dog_stats_df.apply(lambda x: torch.tensor(x['stats']), axis =1)\n",
    "    dog_stats_df['box'] = dog_stats_df['stats'].apply(lambda x: x[0])\n",
    "\n",
    "    #Created RaceDB\n",
    "    raceDB = Races(hidden_size, 1)\n",
    "\n",
    "    num_features_per_dog = len(dog_stats_df['stats'][0])\n",
    "    print(f\"{num_features_per_dog=}\")\n",
    "\n",
    "    #Fill in dog portion:\n",
    "\n",
    "    dog_stats_group = dog_stats_df.sort_values(['date']).groupby([\"dogid\"]) \n",
    "\n",
    "    for i,j in tqdm(dog_stats_group):\n",
    "        j[\"next_race\"] = j[\"raceid\"].shift(-1).fillna(-1)\n",
    "        j[\"prev_race\"] = j[\"raceid\"].shift(1).fillna(-1)\n",
    "        raceDB.add_dog(i, j.dog_name.iloc[0])\n",
    "        j.apply(lambda x: raceDB.dogsDict[i].add_races(x['raceid'], x['date'], torch.Tensor(x['stats']),x['next_race'], x['prev_race'], x['box'], x['bfSP'], x['startprice']), axis=1)\n",
    "\n",
    "    #Fill in races portion\n",
    "    softmin = nn.Softmin(dim=0)\n",
    "    races_group = dog_stats_df.groupby(['raceid'])\n",
    "\n",
    "    null_dog = Dog(\"nullDog\", \"no_name\", raceDB.hidden_size, raceDB.layers)\n",
    "    null_dog_i = DogInput(\"nullDog\", \"-1\", torch.zeros(num_features_per_dog), null_dog,0, torch.zeros(raceDB.hidden_size),0,0)\n",
    "    null_dog_i.nextrace(-1)\n",
    "    null_dog_i.prevrace(-1)\n",
    "\n",
    "    null_dog_list = [null_dog] * 8\n",
    "    #TO FIX LATER PROPER BOX PLACEMENT #FIXED\n",
    "    dog_stats_df = dog_stats_df.sort_values('date')\n",
    "    races_group = dog_stats_df.groupby(['raceid'])\n",
    "    for i,j in tqdm(races_group):\n",
    "    #Track info tensors\n",
    "        dist = torch.tensor([j.dist.iloc[0]]) \n",
    "        trackOHE = torch.tensor(j.trackOHE.iloc[0])\n",
    "        #margins\n",
    "        empty_dog_list = [null_dog_i]*8\n",
    "        empty_margin_list = [20]*8\n",
    "        empty_place_list = [8]*8\n",
    "\n",
    "        places_list = [x for x in j[\"place\"]]\n",
    "        boxes_list = [x for x in j['box']]\n",
    "        margin_list = [x for x in j[\"margin\"]]\n",
    "        \n",
    "        dog_list = [raceDB.dogsDict[x].races[i] for x in j[\"dogid\"]]\n",
    "\n",
    "        #adjustedMargin = [margin_list[x-1] for x in boxes_list]\n",
    "        for n,x in enumerate(boxes_list):\n",
    "            empty_margin_list[x-1] = margin_list[n]\n",
    "            empty_dog_list[x-1] = dog_list[n]\n",
    "            empty_place_list[x-1] = places_list[n]\n",
    "        adjustedMargin = softmin(torch.tensor(empty_margin_list)).to('cuda:0')\n",
    "        # adjustedMargin = softmin(torch.tensor(empty_place_list)).to('cuda:0')\n",
    "        # adjustedMargin = torch.tensor(empty_place_list).to('cuda:0')\n",
    "        #adjusted_dog_list = [dog_list[x-1] for x in boxes_list]\n",
    "        \n",
    "        raceDB.add_race(i,trackOHE,dist, adjustedMargin)\n",
    "        \n",
    "        \n",
    "        # List of Dog Input??\n",
    "        raceDB.racesDict[i].add_dogs(empty_dog_list)\n",
    "        raceDB.racesDict[i].nn_input()\n",
    "        raceDB.racesDict[i].track_name = j.track_name.iloc[0]\n",
    "        raceDB.racesDict[i].grade = j.race_grade.iloc[0]\n",
    "\n",
    "    print(f\"number of races = {len(raceDB.racesDict)}, number of unique dogs = {len(raceDB.dogsDict)}\")\n",
    "    return raceDB\n"
   ]
  },
  {
   "cell_type": "code",
   "execution_count": 12,
   "metadata": {},
   "outputs": [],
   "source": [
    "def model_saver(model, optimizer, epoch, loss, hidden_state_dict):\n",
    "    \n",
    "    pathtofolder = \"C:/Users/Nick/Documents/GitHub/grvmodel/Python/pytorch/New Model\"\n",
    "    model_name = wandb.run.name\n",
    "    isExist = os.path.exists(\n",
    "        f\"C:/Users/Nick/Documents/GitHub/grvmodel/Python/pytorch/New Model/savedmodel/{model_name}/\"\n",
    "    )\n",
    "    if isExist:\n",
    "        torch.save(\n",
    "            {\n",
    "                \"epoch\": epoch,\n",
    "                \"model_state_dict\": model.state_dict(),\n",
    "                \"optimizer_state_dict\": optimizer.state_dict(),\n",
    "                \"loss\": loss,\n",
    "                \"db\":hidden_state_dict,\n",
    "            },\n",
    "            f\"C:/Users/Nick/Documents/GitHub/grvmodel/Python/pytorch/New Model/savedmodel/{model_name}/{model_name}_{epoch}.pt\",\n",
    "        )\n",
    "    else:\n",
    "        print(\"created path\")\n",
    "        os.makedirs(\n",
    "            f\"C:/Users/Nick/Documents/GitHub/grvmodel/Python/pytorch/New Model/savedmodel/{model_name}/\"\n",
    "        )\n",
    "        torch.save(\n",
    "            {\n",
    "                \"epoch\": epoch,\n",
    "                \"model_state_dict\": model.state_dict(),\n",
    "                \"optimizer_state_dict\": optimizer.state_dict(),\n",
    "                \"loss\": loss,\n",
    "                \"db\":hidden_state_dict,\n",
    "            },\n",
    "            f\"C:/Users/Nick/Documents/GitHub/grvmodel/Python/pytorch/New Model/savedmodel/{model_name}/{model_name}_{epoch}.pt\",\n",
    "        )"
   ]
  },
  {
   "cell_type": "code",
   "execution_count": 13,
   "metadata": {},
   "outputs": [],
   "source": [
    "#Testing\n",
    "def validate_model(model,raceDB,criterion, batch_size, example_ct, epoch_loss, batch_ct):\n",
    "    torch.autograd.set_detect_anomaly(True)\n",
    "    batch_size=100\n",
    "    list_t = [] \n",
    "    last = 0\n",
    "    loss_val = 0 \n",
    "    correct = 0\n",
    "    total = 0\n",
    "    model.eval()\n",
    "    actuals = []\n",
    "    preds = []\n",
    "    grades = []\n",
    "    tracks = []\n",
    "    pred_confs = []\n",
    "    bfsps = []\n",
    "    start_prices = []\n",
    "    with torch.no_grad():\n",
    "        for i in trange(0,123_000,batch_size):\n",
    "            if ((i+1)%10_000<8000):\n",
    "                continue\n",
    "            races_idx = range(last,last+batch_size)\n",
    "            last = i\n",
    "            race = raceDB.get_race_input(races_idx)\n",
    "            #tracks.extend([r.track for r in race])\n",
    "            X = race\n",
    "            y = torch.stack([x.classes for x in race])\n",
    "            output = model(X)\n",
    "            #print(y)\n",
    "\n",
    "            _, actual = torch.max(y.data, 1)\n",
    "            conf, predicted = torch.max(output.data, 1)\n",
    "            correct += (predicted == actual).sum().item()\n",
    "            \n",
    "            total += batch_size\n",
    "            actuals.extend(actual.tolist())\n",
    "            preds.extend(predicted.tolist())\n",
    "            pred_confs.extend(conf.tolist())\n",
    "            tracks.extend([r.track_name for r in race])\n",
    "            grades.extend([r.grade for r in race])\n",
    "            for i,dog_idx in enumerate(actual.tolist()):\n",
    "                bfsps.append(race[i].dogs[dog_idx].bfsp)\n",
    "                #start_prices.append(race[i].dogs[dog_idx].sp)\n",
    "\n",
    "            \n",
    "            loss = criterion(output, y)\n",
    "            loss_val += loss\n",
    "        \n",
    "\n",
    "    race_ids_l = []\n",
    "    tracks_l = []\n",
    "    dogname_l = []\n",
    "    place_l = []\n",
    "    margin_l = []\n",
    "    runtime_l = []\n",
    "    box_l = []\n",
    "    loss_l =[]\n",
    "\n",
    "    with torch.no_grad:\n",
    "        for i in trange(0,123_000,batch_size):\n",
    "            if ((i+1)%10_000<8000):\n",
    "                continue\n",
    "            races_idx = range(last,last+batch_size)\n",
    "            last = i\n",
    "            race = raceDB.get_race_input(races_idx)\n",
    "            X = race\n",
    "            y = torch.stack([x.classes for x in race])\n",
    "            output = model(X)\n",
    "            \n",
    "\n",
    "    logdf = pd.DataFrame(data = {\"actuals\":actuals, \"preds\":preds,\"conf\":pred_confs, \"grade\":grades, \"track\":tracks, \"bfsps\":bfsps})#, \"sp\":start_prices })\n",
    "\n",
    "    table = wandb.Table(dataframe=logdf)\n",
    "    try:\n",
    "        wandb.log({\"table_key\": table})\n",
    "    except Exception as e:\n",
    "        print(\"e\")\n",
    "    print(f\"accuray: {correct/total}\")\n",
    "    wandb.log({\"accuracy\": correct/total, \"loss_val\": loss_val/(50_000/batch_size), \"correct\": correct,\"epoch_loss\": epoch_loss/batch_ct})\n",
    "\n",
    "    return correct/total"
   ]
  },
  {
   "cell_type": "code",
   "execution_count": 14,
   "metadata": {},
   "outputs": [],
   "source": [
    "def train_log(loss, example_ct, epoch):\n",
    "    # Where the magic happens\n",
    "    wandb.log({\"epoch\": epoch, \"loss\": loss}, step=example_ct)"
   ]
  },
  {
   "cell_type": "code",
   "execution_count": 15,
   "metadata": {},
   "outputs": [],
   "source": [
    "def train(model, raceDB:Races, criterion, optimizer,scheduler, config=None):\n",
    "    torch.autograd.set_detect_anomaly(True)\n",
    "    criterion_unreduced = nn.CrossEntropyLoss(reduction='none')\n",
    "\n",
    "    last = 0\n",
    "    batch_size = 8\n",
    "    example_ct = 0  # number of examples seen\n",
    "    batch_ct = 0\n",
    "    m = nn.LogSoftmax(dim=1)\n",
    "\n",
    "    losses = []\n",
    "    for epoch in range(2_000):\n",
    "        model.train()\n",
    "        #epoch_loss = torch.Tensor(0).to(device).requires_grad_(True)\n",
    "        batch_ct = 0\n",
    "\n",
    "        setup_loss = 1\n",
    "        \n",
    "        for i in trange(0,123_000,batch_size):\n",
    "            if last>123_000:\n",
    "                break\n",
    "            if ((last+1)%10_000>=8000):\n",
    "                #print(i)\n",
    "                #print(f\"final epoch before loss = {epoch_loss}\")\n",
    "                optimizer.zero_grad()\n",
    "                epoch_loss.backward()\n",
    "                optimizer.step()\n",
    "                model.zero_grad()\n",
    "                #losses.append(epoch_loss.item())\n",
    "                raceDB.detach_all_hidden_states()\n",
    "                setup_loss = 1\n",
    "                wandb.log({\"loss\": epoch_loss}, step = example_ct)\n",
    "                last = i+2000\n",
    "\n",
    "                # print(\"in validation area\")\n",
    "                # print(f\"{i=}\")\n",
    "                continue\n",
    "            batch_ct += 1\n",
    "            \n",
    "            races_idx = range(last,last+batch_size)\n",
    "            last = i\n",
    "            race = raceDB.get_race_input(races_idx)\n",
    "            #race = [raceDB.racesDict[r],raceDB.racesDict[r]]\n",
    "            X = race\n",
    "            # print(f\"race id = {X[0].raceid}\")\n",
    "\n",
    "            y = torch.stack([x.classes for x in race])\n",
    "            _, actual = torch.max(y.data, 1)\n",
    "            output = model(X)\n",
    "\n",
    "            \n",
    "            #print(output,y)\n",
    "            example_ct +=  batch_size\n",
    "\n",
    "            loss = criterion(output, y)# *weights\n",
    "            if setup_loss:\n",
    "                epoch_loss = loss\n",
    "                setup_loss=0\n",
    "            #oss = criterion(m(output), torch.flatten(actual))\n",
    "            \n",
    "            #loss.backward(retain_graph=True)  \n",
    "            #loss.backward()\n",
    "            #optimizer.step()\n",
    "            if ((batch_ct + 1) % 25) == 0:                    \n",
    "                    train_log(loss, example_ct, epoch)\n",
    "\n",
    "            epoch_loss = epoch_loss + loss\n",
    "            #output = model(X)\n",
    "\n",
    "            if ((batch_ct + 1) % 10) == 0:\n",
    "                continue\n",
    "                print(f\"final epoch before loss = {epoch_loss}\")\n",
    "                optimizer.zero_grad()\n",
    "                epoch_loss.backward()\n",
    "                optimizer.step()\n",
    "                model.zero_grad()\n",
    "                losses.append(epoch_loss)\n",
    "                raceDB.detach_all_hidden_states()\n",
    "                setup_loss = 1\n",
    "                wandb.log({\"loss\": epoch_loss}, step = example_ct)\n",
    "\n",
    "\n",
    "\n",
    "            #[r.lstm_detach for r in race]\n",
    "        wandb.log({\"epoch_loss\": epoch_loss/batch_ct}, step = example_ct)\n",
    "        acc = validate_model(model,raceDB,criterion, 8, example_ct, epoch_loss, batch_ct)\n",
    "        print(acc)\n",
    "        scheduler.step(acc)\n",
    "    print(losses)\n",
    "    return model\n",
    "\n"
   ]
  },
  {
   "cell_type": "code",
   "execution_count": 16,
   "metadata": {},
   "outputs": [
    {
     "name": "stdout",
     "output_type": "stream",
     "text": [
      "num_features_per_dog=16\n"
     ]
    },
    {
     "name": "stderr",
     "output_type": "stream",
     "text": [
      "100%|██████████| 38032/38032 [05:13<00:00, 121.32it/s]\n",
      "100%|██████████| 143100/143100 [02:14<00:00, 1062.20it/s]"
     ]
    },
    {
     "name": "stdout",
     "output_type": "stream",
     "text": [
      "number of races = 143100, number of unique dogs = 38032\n"
     ]
    },
    {
     "name": "stderr",
     "output_type": "stream",
     "text": [
      "\n"
     ]
    }
   ],
   "source": [
    "os.getcwd()\n",
    "os.chdir(r\"C:\\Users\\Nick\\Documents\\GitHub\\grvmodel\\Python\\DATA\")\n",
    "dog_stats_file = open( 'dog_stats_df_FASTTRACK new margins.npy', 'rb')\n",
    "hidden_size = 64\n",
    "raceDB = build_dataset(dog_stats_file, hidden_size)"
   ]
  },
  {
   "cell_type": "code",
   "execution_count": 17,
   "metadata": {},
   "outputs": [
    {
     "name": "stderr",
     "output_type": "stream",
     "text": [
      "100%|██████████| 363/363 [00:00<00:00, 1051.22it/s]\n",
      "100%|██████████| 48/48 [00:00<00:00, 1712.75it/s]"
     ]
    },
    {
     "name": "stdout",
     "output_type": "stream",
     "text": [
      "number of races = 48, number of unique dogs = 363\n"
     ]
    },
    {
     "name": "stderr",
     "output_type": "stream",
     "text": [
      "\n"
     ]
    }
   ],
   "source": [
    "os.getcwd()\n",
    "#os.chdir(r\"C:\\Users\\Nick\\Documents\\GitHub\\grvmodel\\Python\\DATA\")\n",
    "dog_stats_file = open( r'C:\\Users\\Nick\\Documents\\GitHub\\grvmodel\\Python\\DATA\\forms\\prediction_inputs_gru.npy', 'rb')\n",
    "hidden_size = 64\n",
    "predDB = build_pred_dataset(dog_stats_file, hidden_size)"
   ]
  },
  {
   "cell_type": "code",
   "execution_count": 18,
   "metadata": {},
   "outputs": [],
   "source": [
    "# raceDB.create_hidden_states_dict()\n",
    "# predDB.fill_hidden_states_from_dict(hidden_dict=dataset.hidden_states_dict)\n",
    "# len(raceDB.hidden_states_dict)\n",
    "# predDB.to_cuda()"
   ]
  },
  {
   "cell_type": "code",
   "execution_count": 19,
   "metadata": {},
   "outputs": [],
   "source": [
    "#Testing\n",
    "def predict_model(model,predDB):\n",
    "    torch.autograd.set_detect_anomaly(True)\n",
    "    list_t = [] \n",
    "    last = 0\n",
    "    loss_val = 0 \n",
    "    correct = 0\n",
    "    total = 0\n",
    "    model.eval()\n",
    "    with torch.no_grad():\n",
    "\n",
    "        races_idx = range(0,len(predDB.raceIDs)-1)\n",
    "        race = predDB.get_race_input(races_idx)\n",
    "        X = race\n",
    "        # for i,r in enumerate(race):\n",
    "        #     print(r.raceid, r.track_name)\n",
    "        #     #print(i,r.lstm_input())\n",
    "\n",
    "        output = model(X)\n",
    "        \n",
    "        print(output)\n",
    "\n",
    "        _, predicted = torch.max(output.data, 1)\n",
    "\n",
    "        for i,r in enumerate(race):\n",
    "            print(r.raceid, r.track_name, r.dogs[predicted[i].item()])\n",
    "\n",
    "        print(predicted)\n",
    "\n"
   ]
  },
  {
   "cell_type": "code",
   "execution_count": 20,
   "metadata": {},
   "outputs": [
    {
     "data": {
      "text/plain": [
       "[<__main__.Race at 0x1613aca4790>,\n",
       " <__main__.Race at 0x1613ac8efa0>,\n",
       " <__main__.Race at 0x1613aca4160>]"
      ]
     },
     "execution_count": 20,
     "metadata": {},
     "output_type": "execute_result"
    }
   ],
   "source": [
    "predDB.get_race_input([1,2,3])"
   ]
  },
  {
   "cell_type": "code",
   "execution_count": 2,
   "metadata": {},
   "outputs": [
    {
     "data": {
      "text/html": [
       "<div>\n",
       "<style scoped>\n",
       "    .dataframe tbody tr th:only-of-type {\n",
       "        vertical-align: middle;\n",
       "    }\n",
       "\n",
       "    .dataframe tbody tr th {\n",
       "        vertical-align: top;\n",
       "    }\n",
       "\n",
       "    .dataframe thead th {\n",
       "        text-align: right;\n",
       "    }\n",
       "</style>\n",
       "<table border=\"1\" class=\"dataframe\">\n",
       "  <thead>\n",
       "    <tr style=\"text-align: right;\">\n",
       "      <th></th>\n",
       "      <th>dogid</th>\n",
       "      <th>dog_name</th>\n",
       "      <th>raceid</th>\n",
       "      <th>race_grade</th>\n",
       "      <th>date</th>\n",
       "      <th>trackOHE</th>\n",
       "      <th>track_name</th>\n",
       "      <th>dist</th>\n",
       "      <th>stats</th>\n",
       "      <th>place</th>\n",
       "      <th>startprice</th>\n",
       "      <th>margin</th>\n",
       "      <th>bfSP</th>\n",
       "      <th>box</th>\n",
       "    </tr>\n",
       "  </thead>\n",
       "  <tbody>\n",
       "    <tr>\n",
       "      <th>0</th>\n",
       "      <td>214382420</td>\n",
       "      <td>SUPERIOR POWER</td>\n",
       "      <td>498695480</td>\n",
       "      <td>Mixed 6/7 Final</td>\n",
       "      <td>2019-12-01</td>\n",
       "      <td>[0, 0, 0, 0, 0, 0, 0, 0, 0, 0, 0, 0, 0, 0, 0, ...</td>\n",
       "      <td>Healesville</td>\n",
       "      <td>350.0</td>\n",
       "      <td>[4, -1, -1, -1, -1, -1, -1, -1, -1, -1, 0, 0, ...</td>\n",
       "      <td>8.0</td>\n",
       "      <td>1.9</td>\n",
       "      <td>6.87</td>\n",
       "      <td>2.28</td>\n",
       "      <td>4</td>\n",
       "    </tr>\n",
       "    <tr>\n",
       "      <th>1128</th>\n",
       "      <td>251075222</td>\n",
       "      <td>IRONDALE VAIRE</td>\n",
       "      <td>500543172</td>\n",
       "      <td>Grade 5</td>\n",
       "      <td>2019-12-01</td>\n",
       "      <td>[0, 0, 0, 0, 0, 0, 0, 0, 0, 0, 0, 0, 0, 0, 0, ...</td>\n",
       "      <td>Dubbo</td>\n",
       "      <td>318.0</td>\n",
       "      <td>[5, -1, -1, -1, -1, -1, -1, -1, -1, -1, 0, 0, ...</td>\n",
       "      <td>4.0</td>\n",
       "      <td>10.0</td>\n",
       "      <td>6.25</td>\n",
       "      <td>NaN</td>\n",
       "      <td>5</td>\n",
       "    </tr>\n",
       "    <tr>\n",
       "      <th>1127</th>\n",
       "      <td>120725478</td>\n",
       "      <td>MY LADY MOSEL</td>\n",
       "      <td>500543172</td>\n",
       "      <td>Grade 5</td>\n",
       "      <td>2019-12-01</td>\n",
       "      <td>[0, 0, 0, 0, 0, 0, 0, 0, 0, 0, 0, 0, 0, 0, 0, ...</td>\n",
       "      <td>Dubbo</td>\n",
       "      <td>318.0</td>\n",
       "      <td>[4, -1, -1, -1, -1, -1, -1, -1, -1, -1, 0, 0, ...</td>\n",
       "      <td>6.0</td>\n",
       "      <td>48.7</td>\n",
       "      <td>9.25</td>\n",
       "      <td>NaN</td>\n",
       "      <td>4</td>\n",
       "    </tr>\n",
       "    <tr>\n",
       "      <th>1126</th>\n",
       "      <td>120321663</td>\n",
       "      <td>BILLY BOOM BOOM</td>\n",
       "      <td>500543172</td>\n",
       "      <td>Grade 5</td>\n",
       "      <td>2019-12-01</td>\n",
       "      <td>[0, 0, 0, 0, 0, 0, 0, 0, 0, 0, 0, 0, 0, 0, 0, ...</td>\n",
       "      <td>Dubbo</td>\n",
       "      <td>318.0</td>\n",
       "      <td>[8, -1, -1, -1, -1, -1, -1, -1, -1, -1, 0, 0, ...</td>\n",
       "      <td>7.0</td>\n",
       "      <td>12.6</td>\n",
       "      <td>12.25</td>\n",
       "      <td>NaN</td>\n",
       "      <td>8</td>\n",
       "    </tr>\n",
       "    <tr>\n",
       "      <th>1125</th>\n",
       "      <td>257638376</td>\n",
       "      <td>TUPELO</td>\n",
       "      <td>500543172</td>\n",
       "      <td>Grade 5</td>\n",
       "      <td>2019-12-01</td>\n",
       "      <td>[0, 0, 0, 0, 0, 0, 0, 0, 0, 0, 0, 0, 0, 0, 0, ...</td>\n",
       "      <td>Dubbo</td>\n",
       "      <td>318.0</td>\n",
       "      <td>[6, -1, -1, -1, -1, -1, -1, -1, -1, -1, 0, 0, ...</td>\n",
       "      <td>8.0</td>\n",
       "      <td>58.0</td>\n",
       "      <td>12.75</td>\n",
       "      <td>NaN</td>\n",
       "      <td>6</td>\n",
       "    </tr>\n",
       "    <tr>\n",
       "      <th>...</th>\n",
       "      <td>...</td>\n",
       "      <td>...</td>\n",
       "      <td>...</td>\n",
       "      <td>...</td>\n",
       "      <td>...</td>\n",
       "      <td>...</td>\n",
       "      <td>...</td>\n",
       "      <td>...</td>\n",
       "      <td>...</td>\n",
       "      <td>...</td>\n",
       "      <td>...</td>\n",
       "      <td>...</td>\n",
       "      <td>...</td>\n",
       "      <td>...</td>\n",
       "    </tr>\n",
       "    <tr>\n",
       "      <th>1012266</th>\n",
       "      <td>374435883</td>\n",
       "      <td>BIG LEIGH</td>\n",
       "      <td>846606719</td>\n",
       "      <td>Restricted Win</td>\n",
       "      <td>2022-12-01</td>\n",
       "      <td>[0, 0, 0, 0, 0, 0, 0, 0, 0, 0, 0, 0, 0, 0, 0, ...</td>\n",
       "      <td>Mount Gambier</td>\n",
       "      <td>512.0</td>\n",
       "      <td>[5, 0.059861103060332356, 0.001177721031598112...</td>\n",
       "      <td>8.0</td>\n",
       "      <td>41.0</td>\n",
       "      <td>14.00</td>\n",
       "      <td>NaN</td>\n",
       "      <td>5</td>\n",
       "    </tr>\n",
       "    <tr>\n",
       "      <th>1012265</th>\n",
       "      <td>653466830</td>\n",
       "      <td>ZING ZANG PARIS</td>\n",
       "      <td>846606719</td>\n",
       "      <td>Restricted Win</td>\n",
       "      <td>2022-12-01</td>\n",
       "      <td>[0, 0, 0, 0, 0, 0, 0, 0, 0, 0, 0, 0, 0, 0, 0, ...</td>\n",
       "      <td>Mount Gambier</td>\n",
       "      <td>512.0</td>\n",
       "      <td>[7, 0.059157582438801405, 0.000990221013483566...</td>\n",
       "      <td>7.0</td>\n",
       "      <td>15.0</td>\n",
       "      <td>13.25</td>\n",
       "      <td>NaN</td>\n",
       "      <td>7</td>\n",
       "    </tr>\n",
       "    <tr>\n",
       "      <th>1012264</th>\n",
       "      <td>587948676</td>\n",
       "      <td>WHO KNOWS CHLOE</td>\n",
       "      <td>846606719</td>\n",
       "      <td>Restricted Win</td>\n",
       "      <td>2022-12-01</td>\n",
       "      <td>[0, 0, 0, 0, 0, 0, 0, 0, 0, 0, 0, 0, 0, 0, 0, ...</td>\n",
       "      <td>Mount Gambier</td>\n",
       "      <td>512.0</td>\n",
       "      <td>[6, 0.05941864814027886, 0.0008248952559170212...</td>\n",
       "      <td>4.0</td>\n",
       "      <td>34.0</td>\n",
       "      <td>9.25</td>\n",
       "      <td>NaN</td>\n",
       "      <td>6</td>\n",
       "    </tr>\n",
       "    <tr>\n",
       "      <th>1012272</th>\n",
       "      <td>530037960</td>\n",
       "      <td>MYOLA RED BOY</td>\n",
       "      <td>846606720</td>\n",
       "      <td>Restricted Win</td>\n",
       "      <td>2022-12-01</td>\n",
       "      <td>[0, 0, 0, 0, 0, 0, 0, 0, 0, 0, 0, 0, 0, 0, 0, ...</td>\n",
       "      <td>Mount Gambier</td>\n",
       "      <td>512.0</td>\n",
       "      <td>[8, 0.059489962715796776, 0.001022862473588566...</td>\n",
       "      <td>7.0</td>\n",
       "      <td>51.0</td>\n",
       "      <td>3.75</td>\n",
       "      <td>NaN</td>\n",
       "      <td>8</td>\n",
       "    </tr>\n",
       "    <tr>\n",
       "      <th>1020156</th>\n",
       "      <td>558491864</td>\n",
       "      <td>LUCKY FERNANDO</td>\n",
       "      <td>849837292</td>\n",
       "      <td>Mixed 4/5</td>\n",
       "      <td>2022-12-01</td>\n",
       "      <td>[0, 0, 0, 1, 0, 0, 0, 0, 0, 0, 0, 0, 0, 0, 0, ...</td>\n",
       "      <td>Ballarat</td>\n",
       "      <td>545.0</td>\n",
       "      <td>[7, 0.05877809032191902, 0.0010284355573413903...</td>\n",
       "      <td>7.0</td>\n",
       "      <td>10.9</td>\n",
       "      <td>14.14</td>\n",
       "      <td>NaN</td>\n",
       "      <td>7</td>\n",
       "    </tr>\n",
       "  </tbody>\n",
       "</table>\n",
       "<p>1020157 rows × 14 columns</p>\n",
       "</div>"
      ],
      "text/plain": [
       "             dogid         dog_name     raceid       race_grade       date  \\\n",
       "0        214382420   SUPERIOR POWER  498695480  Mixed 6/7 Final 2019-12-01   \n",
       "1128     251075222   IRONDALE VAIRE  500543172          Grade 5 2019-12-01   \n",
       "1127     120725478    MY LADY MOSEL  500543172          Grade 5 2019-12-01   \n",
       "1126     120321663  BILLY BOOM BOOM  500543172          Grade 5 2019-12-01   \n",
       "1125     257638376           TUPELO  500543172          Grade 5 2019-12-01   \n",
       "...            ...              ...        ...              ...        ...   \n",
       "1012266  374435883        BIG LEIGH  846606719   Restricted Win 2022-12-01   \n",
       "1012265  653466830  ZING ZANG PARIS  846606719   Restricted Win 2022-12-01   \n",
       "1012264  587948676  WHO KNOWS CHLOE  846606719   Restricted Win 2022-12-01   \n",
       "1012272  530037960    MYOLA RED BOY  846606720   Restricted Win 2022-12-01   \n",
       "1020156  558491864   LUCKY FERNANDO  849837292        Mixed 4/5 2022-12-01   \n",
       "\n",
       "                                                  trackOHE     track_name  \\\n",
       "0        [0, 0, 0, 0, 0, 0, 0, 0, 0, 0, 0, 0, 0, 0, 0, ...    Healesville   \n",
       "1128     [0, 0, 0, 0, 0, 0, 0, 0, 0, 0, 0, 0, 0, 0, 0, ...          Dubbo   \n",
       "1127     [0, 0, 0, 0, 0, 0, 0, 0, 0, 0, 0, 0, 0, 0, 0, ...          Dubbo   \n",
       "1126     [0, 0, 0, 0, 0, 0, 0, 0, 0, 0, 0, 0, 0, 0, 0, ...          Dubbo   \n",
       "1125     [0, 0, 0, 0, 0, 0, 0, 0, 0, 0, 0, 0, 0, 0, 0, ...          Dubbo   \n",
       "...                                                    ...            ...   \n",
       "1012266  [0, 0, 0, 0, 0, 0, 0, 0, 0, 0, 0, 0, 0, 0, 0, ...  Mount Gambier   \n",
       "1012265  [0, 0, 0, 0, 0, 0, 0, 0, 0, 0, 0, 0, 0, 0, 0, ...  Mount Gambier   \n",
       "1012264  [0, 0, 0, 0, 0, 0, 0, 0, 0, 0, 0, 0, 0, 0, 0, ...  Mount Gambier   \n",
       "1012272  [0, 0, 0, 0, 0, 0, 0, 0, 0, 0, 0, 0, 0, 0, 0, ...  Mount Gambier   \n",
       "1020156  [0, 0, 0, 1, 0, 0, 0, 0, 0, 0, 0, 0, 0, 0, 0, ...       Ballarat   \n",
       "\n",
       "          dist                                              stats  place  \\\n",
       "0        350.0  [4, -1, -1, -1, -1, -1, -1, -1, -1, -1, 0, 0, ...    8.0   \n",
       "1128     318.0  [5, -1, -1, -1, -1, -1, -1, -1, -1, -1, 0, 0, ...    4.0   \n",
       "1127     318.0  [4, -1, -1, -1, -1, -1, -1, -1, -1, -1, 0, 0, ...    6.0   \n",
       "1126     318.0  [8, -1, -1, -1, -1, -1, -1, -1, -1, -1, 0, 0, ...    7.0   \n",
       "1125     318.0  [6, -1, -1, -1, -1, -1, -1, -1, -1, -1, 0, 0, ...    8.0   \n",
       "...        ...                                                ...    ...   \n",
       "1012266  512.0  [5, 0.059861103060332356, 0.001177721031598112...    8.0   \n",
       "1012265  512.0  [7, 0.059157582438801405, 0.000990221013483566...    7.0   \n",
       "1012264  512.0  [6, 0.05941864814027886, 0.0008248952559170212...    4.0   \n",
       "1012272  512.0  [8, 0.059489962715796776, 0.001022862473588566...    7.0   \n",
       "1020156  545.0  [7, 0.05877809032191902, 0.0010284355573413903...    7.0   \n",
       "\n",
       "         startprice  margin  bfSP  box  \n",
       "0               1.9    6.87  2.28    4  \n",
       "1128           10.0    6.25   NaN    5  \n",
       "1127           48.7    9.25   NaN    4  \n",
       "1126           12.6   12.25   NaN    8  \n",
       "1125           58.0   12.75   NaN    6  \n",
       "...             ...     ...   ...  ...  \n",
       "1012266        41.0   14.00   NaN    5  \n",
       "1012265        15.0   13.25   NaN    7  \n",
       "1012264        34.0    9.25   NaN    6  \n",
       "1012272        51.0    3.75   NaN    8  \n",
       "1020156        10.9   14.14   NaN    7  \n",
       "\n",
       "[1020157 rows x 14 columns]"
      ]
     },
     "execution_count": 2,
     "metadata": {},
     "output_type": "execute_result"
    }
   ],
   "source": [
    "os.getcwd()\n",
    "#os.chdir(r\"C:\\Users\\Nick\\Documents\\GitHub\\grvmodel\\Python\\DATA\")\n",
    "dog_stats_file = open( r\"C:\\Users\\Nick\\Documents\\GitHub\\grvmodel\\Python\\DATA\\dog_stats_df_FASTTRACK.npy\", 'rb')\n",
    "resultsdf = pickle.load(dog_stats_file)\n",
    "dog_stats_df = pd.DataFrame(resultsdf)\n",
    "dog_stats_df = dog_stats_df.sort_values('date')\n",
    "dog_stats_df['box'] = dog_stats_df['stats'].apply(lambda x: x[0])\n",
    "dog_stats_df"
   ]
  },
  {
   "cell_type": "code",
   "execution_count": 22,
   "metadata": {},
   "outputs": [
    {
     "data": {
      "text/plain": [
       "tensor([0.8147, 0.8505, 0.8917, 0.8739, 0.9021, 0.9038, 0.8891, 0.8743],\n",
       "       device='cuda:0')"
      ]
     },
     "execution_count": 22,
     "metadata": {},
     "output_type": "execute_result"
    }
   ],
   "source": [
    "weights = (1-(dog_stats_df[dog_stats_df['place']==1]['box'].value_counts(sort=False)/len(dog_stats_df[dog_stats_df['place']==1]))).tolist()\n",
    "weights = torch.tensor(weights).to(device)\n",
    "weights"
   ]
  },
  {
   "cell_type": "code",
   "execution_count": 11,
   "metadata": {},
   "outputs": [
    {
     "name": "stdout",
     "output_type": "stream",
     "text": [
      "Albion Park\n",
      "[0.8742533794404275, 0.9009745363093367, 0.7992769569317825, 0.9089908833700094, 0.8439170072304307, 0.9023891857906319, 0.8781829613329142, 0.8920150895944672]\n",
      "Angle Park\n",
      "[0.8312101910828026, 0.8576678098971092, 0.9463498285154336, 0.876531112199902, 0.77437530622244, 0.9448799608035277, 0.8789808917197452, 0.8900048995590397]\n",
      "Auckland (NZ)\n",
      "[0.8484299516908212, 0.857487922705314, 0.9027777777777778, 0.8496376811594203, 0.8731884057971014, 0.9027777777777778, 0.8900966183574879, 0.8756038647342995]\n",
      "Ballarat\n",
      "[0.8790931989924433, 0.8729104648500114, 0.8273414243187542, 0.9093198992443325, 0.8573391344172201, 0.8889397755896497, 0.8742844057705519, 0.8907716968170368]\n",
      "Bathurst\n",
      "[0.8032691185055458, 0.8622300058377116, 0.87215411558669, 0.8750729713952131, 0.8955049620548745, 0.9176882661996497, 0.9030939871570345, 0.8709865732632808]\n",
      "Bendigo\n",
      "[0.8554514060187469, 0.8875185002466699, 0.8966452886038481, 0.865811544153922, 0.8073507646768624, 0.8865318204242724, 0.9166255550074001, 0.8840651208682783]\n",
      "Broken Hill\n",
      "[0.7702702702702703, 0.8108108108108107, 0.8513513513513513, 0.8513513513513513, 0.9864864864864865, 0.8918918918918919, 0.9459459459459459, 0.8918918918918919]\n",
      "Bulli\n",
      "[0.8410725964682799, 0.8397645519947678, 0.8907782864617397, 0.8652714192282538, 0.894702419882276, 0.9045127534336167, 0.8796599084368868, 0.8842380640941792]\n",
      "Bundaberg\n",
      "[0.8253477588871716, 0.8516228748068007, 0.8863987635239567, 0.8547140649149922, 0.8902627511591963, 0.9049459041731066, 0.9003091190108192, 0.8863987635239567]\n",
      "Cannington\n",
      "[0.8648391697036919, 0.881001426081445, 0.8149263191253368, 0.8898748217398194, 0.8600855648867057, 0.9039771826968784, 0.8909839961971161, 0.8943115195690065]\n",
      "Casino\n",
      "[0.8049972840847366, 0.870722433460076, 0.8832156436719174, 0.8995111352525801, 0.9098316132536665, 0.8957088538837589, 0.8712656165127648, 0.8647474198804997]\n",
      "Christchurch (NZ)\n",
      "[0.8840417000801924, 0.8946271050521251, 0.8032076984763432, 0.8981555733761026, 0.8522854851643945, 0.896551724137931, 0.8604651162790697, 0.9106655974338412]\n",
      "Cranbourne\n",
      "[0.838019801980198, 0.8637623762376238, 0.9053465346534654, 0.8835643564356436, 0.8150495049504951, 0.9112871287128713, 0.9120792079207921, 0.8708910891089109]\n",
      "Dapto\n",
      "[0.810625, 0.840625, 0.895625, 0.880625, 0.899375, 0.90375, 0.895625, 0.87375]\n",
      "Darwin\n",
      "[0.834920634920635, 0.8380952380952381, 0.9116402116402116, 0.873015873015873, 0.9195767195767196, 0.8857142857142857, 0.8957671957671958, 0.8412698412698413]\n",
      "Devonport\n",
      "[0.8290972830850132, 0.8501314636283961, 0.8886941279579317, 0.8843120070113935, 0.8957055214723927, 0.8921998247151621, 0.9079754601226994, 0.8518843120070114]\n",
      "Dubbo\n",
      "[0.7798223350253807, 0.8642131979695431, 0.8972081218274112, 0.8686548223350254, 0.8972081218274112, 0.9105329949238579, 0.8908629441624365, 0.891497461928934]\n",
      "Gawler\n",
      "[0.8277969705022589, 0.8514483125166091, 0.9487111347329259, 0.8671272920542121, 0.7935158118522455, 0.9625298963592878, 0.8793515811852246, 0.8695190007972362]\n",
      "Geelong\n",
      "[0.8610402855685875, 0.8689444161142275, 0.8806731259561448, 0.8495665476797553, 0.8465068842427332, 0.8946965833758287, 0.9199388067312596, 0.8786333503314635]\n",
      "Gosford\n",
      "[0.8205701509223029, 0.8585802124091672, 0.8619340413638904, 0.8854108440469536, 0.9116825041922862, 0.9055338177752934, 0.8781442146450531, 0.8781442146450531]\n",
      "Goulburn\n",
      "[0.8159383033419023, 0.8503856041131106, 0.8889460154241645, 0.8683804627249357, 0.9115681233933162, 0.9048843187660669, 0.8838046272493574, 0.8760925449871465]\n",
      "Grafton\n",
      "[0.8306784660766962, 0.8513274336283185, 0.8949852507374632, 0.8914454277286136, 0.9014749262536873, 0.9038348082595871, 0.8625368731563422, 0.863716814159292]\n",
      "Gunnedah\n",
      "[0.8124507486209613, 0.8668242710795903, 0.8928289992119779, 0.8928289992119779, 0.900709219858156, 0.8904649330181245, 0.8747044917257684, 0.8691883372734437]\n",
      "Healesville\n",
      "[0.8620689655172413, 0.8579995716427501, 0.8507174983936603, 0.9027629042621547, 0.8599271792675092, 0.887127864639109, 0.9023345470122082, 0.8770614692653673]\n",
      "Hobart\n",
      "[0.8442513368983957, 0.8536096256684492, 0.8903743315508021, 0.8495989304812834, 0.8883689839572193, 0.8977272727272727, 0.8917112299465241, 0.8843582887700535]\n",
      "Horsham\n",
      "[0.8534558180227472, 0.8709536307961505, 0.8941382327209099, 0.8713910761154855, 0.7970253718285214, 0.8937007874015748, 0.915573053368329, 0.9037620297462817]\n",
      "Ipswich\n",
      "[0.8900317935290817, 0.8836730877127361, 0.7793155040209463, 0.9113521600897699, 0.847204039648401, 0.9154666167944642, 0.8745090705068262, 0.8984477276977745]\n",
      "Launceston\n",
      "[0.7938356164383562, 0.845890410958904, 0.8643835616438356, 0.8856164383561644, 0.8965753424657534, 0.9061643835616439, 0.9006849315068494, 0.9068493150684931]\n",
      "Lismore\n",
      "[0.8290909090909091, 0.8824242424242424, 0.9139393939393939, 0.8654545454545455, 0.9030303030303031, 0.8993939393939394, 0.8618181818181818, 0.8448484848484848]\n",
      "Maitland\n",
      "[0.8191409193669932, 0.8598342125094197, 0.8877166541070083, 0.8771665410700829, 0.9208741522230596, 0.9103240391861341, 0.8696307460437076, 0.8553127354935945]\n",
      "Mandurah\n",
      "[0.8666775191274622, 0.8800260459059092, 0.8153996418687938, 0.8889793260621845, 0.8668403060393944, 0.8912583428292365, 0.8894676867979814, 0.9013511313690379]\n",
      "Meadows (MEP)\n",
      "[0.7922228670922808, 0.83633197910621, 0.914103308183401, 0.849100406268137, 0.9210679048171794, 0.9193267556587348, 0.897852582704585, 0.8699941961694718]\n",
      "Mount Gambier\n",
      "[0.8328246863343507, 0.8643608002712784, 0.9403187521193624, 0.8579179382841642, 0.7782299084435402, 0.9501525940996948, 0.8860630722278738, 0.8901322482197355]\n",
      "Murray Bridge (MBR)\n",
      "[0.8260869565217391, 0.8293075684380032, 0.9538378958668814, 0.8582930756843801, 0.8894256575415995, 0.9269994632313473, 0.8872785829307568, 0.8287707997852926]\n",
      "Murray Bridge (MBS)\n",
      "[0.8299008390541571, 0.8291380625476735, 0.9588100686498856, 0.8543096872616324, 0.8886346300533944, 0.9267734553775744, 0.8787185354691076, 0.8337147215865751]\n",
      "Northam\n",
      "[0.7674418604651163, 0.8372093023255813, 0.8914728682170543, 0.8992248062015504, 0.9224806201550387, 0.9147286821705426, 0.875968992248062, 0.8914728682170543]\n",
      "Nowra\n",
      "[0.8153511947863867, 0.8283852280955829, 0.8870383779869659, 0.88848660391021, 0.9116582186821144, 0.9073135409123824, 0.8776249094858798, 0.8841419261404779]\n",
      "Otago (NZ)\n",
      "[0.7916666666666666, 0.7916666666666666, 0.9166666666666666, 0.8333333333333334, 0.9583333333333334, 0.875, 0.8333333333333334]\n",
      "\n",
      "\n",
      "\n",
      " here \n",
      "\n",
      "\n",
      "\n",
      "Palmerston Nth (NZ)\n",
      "[0.8543944031482291, 0.8723218189768256, 0.9038041101880192, 0.8745080891998251, 0.844774814167031, 0.8828159160472234, 0.8819414079580237, 0.8854394403148229]\n",
      "Richmond\n",
      "[0.8738664468260511, 0.8849958779884584, 0.8062654575432812, 0.8965375103050288, 0.8516075845012366, 0.9212695795548227, 0.8699505358615004, 0.8955070074196207]\n",
      "Richmond (RIS)\n",
      "[0.8524203069657615, 0.8571428571428572, 0.8713105076741441, 0.884297520661157, 0.9126328217237308, 0.8890200708382526, 0.8736717827626919, 0.859504132231405]\n",
      "Rockhampton\n",
      "[0.7848769050410317, 0.8487690504103165, 0.861664712778429, 0.8751465416178195, 0.9185228604923799, 0.9144196951934349, 0.8991793669402111, 0.8974208675263775]\n",
      "Sale\n",
      "[0.8656504785537044, 0.8847926267281105, 0.8964906061680256, 0.8465083303792982, 0.825593761077632, 0.8894009216589862, 0.9205955334987593, 0.8709677419354839]\n",
      "Sandown (SAP)\n",
      "[0.7803946530872056, 0.8026734563971992, 0.9013367281985996, 0.8765117759388924, 0.9331635900700191, 0.8975175047740293, 0.9096117122851687, 0.8987905792488861]\n",
      "Sandown Park\n",
      "[0.8206429780033841, 0.8099266779469825, 0.8612521150592216, 0.8776085730400451, 0.904117315284828, 0.9007332205301748, 0.9137055837563451, 0.9120135363790186]\n",
      "Shepparton\n",
      "[0.8676789587852495, 0.8503253796095445, 0.8375512171607616, 0.9146782357194505, 0.861412388527356, 0.9052783803326103, 0.8814172089660159, 0.8816582308990119]\n",
      "Southland (NZ)\n",
      "[0.8304347826086956, 0.8434782608695652, 0.8858695652173914, 0.8934782608695653, 0.8793478260869565, 0.9032608695652173, 0.8934782608695653, 0.8706521739130435]\n",
      "Taranaki (NZ)\n",
      "[0.9333333333333333, 0.8, 0.7333333333333334, 0.8, 0.9333333333333333, 0.9333333333333333, 0.9333333333333333, 0.9333333333333333]\n",
      "Taree\n",
      "[0.804159445407279, 0.8474870017331022, 0.8717504332755632, 0.8977469670710572, 0.878682842287695, 0.9098786828422877, 0.8804159445407279, 0.9098786828422877]\n",
      "Temora\n",
      "[0.8475177304964538, 0.8652482269503546, 0.8971631205673759, 0.9113475177304965, 0.9024822695035462, 0.8865248226950355, 0.8652482269503546, 0.824468085106383]\n",
      "The Gardens\n",
      "[0.8401253918495297, 0.8806165099268548, 0.8970741901776385, 0.8905433646812957, 0.8090386624869383, 0.8756530825496343, 0.9075235109717869, 0.8994252873563219]\n",
      "The Meadows\n",
      "[0.8009331259720063, 0.8320373250388803, 0.8906168999481596, 0.8600311041990669, 0.9009849663037843, 0.9103162260238465, 0.904613789528253, 0.9004665629860031]\n",
      "Tokoroa (NZ)\n",
      "[0.8333333333333334, 0.75, 0.75, 0.9166666666666666, 0.9166666666666666, 0.9166666666666666, 0.9166666666666666]\n",
      "\n",
      "\n",
      "\n",
      " here \n",
      "\n",
      "\n",
      "\n",
      "Townsville\n",
      "[0.8583050847457627, 0.8701694915254237, 0.8945762711864407, 0.8772881355932204, 0.8372881355932204, 0.8820338983050847, 0.8993220338983051, 0.8810169491525424]\n",
      "Traralgon\n",
      "[0.8353658536585366, 0.8318815331010453, 0.8789198606271778, 0.89198606271777, 0.9242160278745645, 0.8928571428571429, 0.863240418118467, 0.8815331010452961]\n",
      "Wagga\n",
      "[0.8180439727065959, 0.8749052312357847, 0.8711144806671721, 0.8976497346474602, 0.9059893858984078, 0.9067475360121304, 0.8915845337376801, 0.8339651250947688]\n",
      "Waikato (NZ)\n",
      "[0.8241619228336496, 0.8488298545224542, 0.8861480075901328, 0.8709677419354839, 0.8874130297280203, 0.9133459835547122, 0.8867805186590765, 0.8823529411764706]\n",
      "Wanganui (NZ)\n",
      "[0.8221892025755324, 0.8598315998018822, 0.8796433878157504, 0.866765725606736, 0.8930163447251115, 0.892025755324418, 0.9068845963348192, 0.8796433878157504]\n",
      "Warragul\n",
      "[0.885893011216566, 0.8645383951682485, 0.8315358067299397, 0.9083261432269197, 0.8589301121656601, 0.8891285591026747, 0.885030198446937, 0.8766177739430544]\n",
      "Warrnambool\n",
      "[0.8589540412044374, 0.8795562599049128, 0.8748019017432647, 0.8684627575277337, 0.8304278922345483, 0.9058637083993661, 0.8950871632329636, 0.8868462757527734]\n",
      "Wentworth Park\n",
      "[0.854499274310595, 0.8875181422351234, 0.9009433962264151, 0.8704644412191582, 0.803701015965167, 0.8925979680696662, 0.9100145137880987, 0.8802612481857764]\n",
      "Young\n",
      "[0.8947368421052632, 0.8421052631578947, 0.8947368421052632, 0.736842105263158, 0.8947368421052632, 0.8421052631578947, 0.8947368421052632]\n",
      "\n",
      "\n",
      "\n",
      " here \n",
      "\n",
      "\n",
      "\n"
     ]
    }
   ],
   "source": [
    "grouped = dog_stats_df.groupby('track_name')\n",
    "track_weights = {}\n",
    "\n",
    "for i,j in grouped:\n",
    "    print(i)\n",
    "    weights = (1-(j[j['place']==1]['box'].value_counts(sort=False)/len(j[j['place']==1]))).tolist()\n",
    "    print(weights)\n",
    "    track_weights[i] = weights\n",
    "    if len(weights)!= 8:\n",
    "        print(\"\\n\\n\\n here \\n\\n\\n\")\n"
   ]
  },
  {
   "cell_type": "code",
   "execution_count": 10,
   "metadata": {},
   "outputs": [
    {
     "data": {
      "text/plain": [
       "{'Albion Park': [0.8742533794404275,\n",
       "  0.9009745363093367,\n",
       "  0.7992769569317825,\n",
       "  0.9089908833700094,\n",
       "  0.8439170072304307,\n",
       "  0.9023891857906319,\n",
       "  0.8781829613329142,\n",
       "  0.8920150895944672],\n",
       " 'Angle Park': [0.8312101910828026,\n",
       "  0.8576678098971092,\n",
       "  0.9463498285154336,\n",
       "  0.876531112199902,\n",
       "  0.77437530622244,\n",
       "  0.9448799608035277,\n",
       "  0.8789808917197452,\n",
       "  0.8900048995590397],\n",
       " 'Auckland (NZ)': [0.8484299516908212,\n",
       "  0.857487922705314,\n",
       "  0.9027777777777778,\n",
       "  0.8496376811594203,\n",
       "  0.8731884057971014,\n",
       "  0.9027777777777778,\n",
       "  0.8900966183574879,\n",
       "  0.8756038647342995],\n",
       " 'Ballarat': [0.8790931989924433,\n",
       "  0.8729104648500114,\n",
       "  0.8273414243187542,\n",
       "  0.9093198992443325,\n",
       "  0.8573391344172201,\n",
       "  0.8889397755896497,\n",
       "  0.8742844057705519,\n",
       "  0.8907716968170368],\n",
       " 'Bathurst': [0.8032691185055458,\n",
       "  0.8622300058377116,\n",
       "  0.87215411558669,\n",
       "  0.8750729713952131,\n",
       "  0.8955049620548745,\n",
       "  0.9176882661996497,\n",
       "  0.9030939871570345,\n",
       "  0.8709865732632808],\n",
       " 'Bendigo': [0.8554514060187469,\n",
       "  0.8875185002466699,\n",
       "  0.8966452886038481,\n",
       "  0.865811544153922,\n",
       "  0.8073507646768624,\n",
       "  0.8865318204242724,\n",
       "  0.9166255550074001,\n",
       "  0.8840651208682783],\n",
       " 'Broken Hill': [0.7702702702702703,\n",
       "  0.8108108108108107,\n",
       "  0.8513513513513513,\n",
       "  0.8513513513513513,\n",
       "  0.9864864864864865,\n",
       "  0.8918918918918919,\n",
       "  0.9459459459459459,\n",
       "  0.8918918918918919],\n",
       " 'Bulli': [0.8410725964682799,\n",
       "  0.8397645519947678,\n",
       "  0.8907782864617397,\n",
       "  0.8652714192282538,\n",
       "  0.894702419882276,\n",
       "  0.9045127534336167,\n",
       "  0.8796599084368868,\n",
       "  0.8842380640941792],\n",
       " 'Bundaberg': [0.8253477588871716,\n",
       "  0.8516228748068007,\n",
       "  0.8863987635239567,\n",
       "  0.8547140649149922,\n",
       "  0.8902627511591963,\n",
       "  0.9049459041731066,\n",
       "  0.9003091190108192,\n",
       "  0.8863987635239567],\n",
       " 'Cannington': [0.8648391697036919,\n",
       "  0.881001426081445,\n",
       "  0.8149263191253368,\n",
       "  0.8898748217398194,\n",
       "  0.8600855648867057,\n",
       "  0.9039771826968784,\n",
       "  0.8909839961971161,\n",
       "  0.8943115195690065],\n",
       " 'Casino': [0.8049972840847366,\n",
       "  0.870722433460076,\n",
       "  0.8832156436719174,\n",
       "  0.8995111352525801,\n",
       "  0.9098316132536665,\n",
       "  0.8957088538837589,\n",
       "  0.8712656165127648,\n",
       "  0.8647474198804997],\n",
       " 'Christchurch (NZ)': [0.8840417000801924,\n",
       "  0.8946271050521251,\n",
       "  0.8032076984763432,\n",
       "  0.8981555733761026,\n",
       "  0.8522854851643945,\n",
       "  0.896551724137931,\n",
       "  0.8604651162790697,\n",
       "  0.9106655974338412],\n",
       " 'Cranbourne': [0.838019801980198,\n",
       "  0.8637623762376238,\n",
       "  0.9053465346534654,\n",
       "  0.8835643564356436,\n",
       "  0.8150495049504951,\n",
       "  0.9112871287128713,\n",
       "  0.9120792079207921,\n",
       "  0.8708910891089109],\n",
       " 'Dapto': [0.810625,\n",
       "  0.840625,\n",
       "  0.895625,\n",
       "  0.880625,\n",
       "  0.899375,\n",
       "  0.90375,\n",
       "  0.895625,\n",
       "  0.87375],\n",
       " 'Darwin': [0.834920634920635,\n",
       "  0.8380952380952381,\n",
       "  0.9116402116402116,\n",
       "  0.873015873015873,\n",
       "  0.9195767195767196,\n",
       "  0.8857142857142857,\n",
       "  0.8957671957671958,\n",
       "  0.8412698412698413],\n",
       " 'Devonport': [0.8290972830850132,\n",
       "  0.8501314636283961,\n",
       "  0.8886941279579317,\n",
       "  0.8843120070113935,\n",
       "  0.8957055214723927,\n",
       "  0.8921998247151621,\n",
       "  0.9079754601226994,\n",
       "  0.8518843120070114],\n",
       " 'Dubbo': [0.7798223350253807,\n",
       "  0.8642131979695431,\n",
       "  0.8972081218274112,\n",
       "  0.8686548223350254,\n",
       "  0.8972081218274112,\n",
       "  0.9105329949238579,\n",
       "  0.8908629441624365,\n",
       "  0.891497461928934],\n",
       " 'Gawler': [0.8277969705022589,\n",
       "  0.8514483125166091,\n",
       "  0.9487111347329259,\n",
       "  0.8671272920542121,\n",
       "  0.7935158118522455,\n",
       "  0.9625298963592878,\n",
       "  0.8793515811852246,\n",
       "  0.8695190007972362],\n",
       " 'Geelong': [0.8610402855685875,\n",
       "  0.8689444161142275,\n",
       "  0.8806731259561448,\n",
       "  0.8495665476797553,\n",
       "  0.8465068842427332,\n",
       "  0.8946965833758287,\n",
       "  0.9199388067312596,\n",
       "  0.8786333503314635],\n",
       " 'Gosford': [0.8205701509223029,\n",
       "  0.8585802124091672,\n",
       "  0.8619340413638904,\n",
       "  0.8854108440469536,\n",
       "  0.9116825041922862,\n",
       "  0.9055338177752934,\n",
       "  0.8781442146450531,\n",
       "  0.8781442146450531],\n",
       " 'Goulburn': [0.8159383033419023,\n",
       "  0.8503856041131106,\n",
       "  0.8889460154241645,\n",
       "  0.8683804627249357,\n",
       "  0.9115681233933162,\n",
       "  0.9048843187660669,\n",
       "  0.8838046272493574,\n",
       "  0.8760925449871465],\n",
       " 'Grafton': [0.8306784660766962,\n",
       "  0.8513274336283185,\n",
       "  0.8949852507374632,\n",
       "  0.8914454277286136,\n",
       "  0.9014749262536873,\n",
       "  0.9038348082595871,\n",
       "  0.8625368731563422,\n",
       "  0.863716814159292],\n",
       " 'Gunnedah': [0.8124507486209613,\n",
       "  0.8668242710795903,\n",
       "  0.8928289992119779,\n",
       "  0.8928289992119779,\n",
       "  0.900709219858156,\n",
       "  0.8904649330181245,\n",
       "  0.8747044917257684,\n",
       "  0.8691883372734437],\n",
       " 'Healesville': [0.8620689655172413,\n",
       "  0.8579995716427501,\n",
       "  0.8507174983936603,\n",
       "  0.9027629042621547,\n",
       "  0.8599271792675092,\n",
       "  0.887127864639109,\n",
       "  0.9023345470122082,\n",
       "  0.8770614692653673],\n",
       " 'Hobart': [0.8442513368983957,\n",
       "  0.8536096256684492,\n",
       "  0.8903743315508021,\n",
       "  0.8495989304812834,\n",
       "  0.8883689839572193,\n",
       "  0.8977272727272727,\n",
       "  0.8917112299465241,\n",
       "  0.8843582887700535],\n",
       " 'Horsham': [0.8534558180227472,\n",
       "  0.8709536307961505,\n",
       "  0.8941382327209099,\n",
       "  0.8713910761154855,\n",
       "  0.7970253718285214,\n",
       "  0.8937007874015748,\n",
       "  0.915573053368329,\n",
       "  0.9037620297462817],\n",
       " 'Ipswich': [0.8900317935290817,\n",
       "  0.8836730877127361,\n",
       "  0.7793155040209463,\n",
       "  0.9113521600897699,\n",
       "  0.847204039648401,\n",
       "  0.9154666167944642,\n",
       "  0.8745090705068262,\n",
       "  0.8984477276977745],\n",
       " 'Launceston': [0.7938356164383562,\n",
       "  0.845890410958904,\n",
       "  0.8643835616438356,\n",
       "  0.8856164383561644,\n",
       "  0.8965753424657534,\n",
       "  0.9061643835616439,\n",
       "  0.9006849315068494,\n",
       "  0.9068493150684931],\n",
       " 'Lismore': [0.8290909090909091,\n",
       "  0.8824242424242424,\n",
       "  0.9139393939393939,\n",
       "  0.8654545454545455,\n",
       "  0.9030303030303031,\n",
       "  0.8993939393939394,\n",
       "  0.8618181818181818,\n",
       "  0.8448484848484848],\n",
       " 'Maitland': [0.8191409193669932,\n",
       "  0.8598342125094197,\n",
       "  0.8877166541070083,\n",
       "  0.8771665410700829,\n",
       "  0.9208741522230596,\n",
       "  0.9103240391861341,\n",
       "  0.8696307460437076,\n",
       "  0.8553127354935945],\n",
       " 'Mandurah': [0.8666775191274622,\n",
       "  0.8800260459059092,\n",
       "  0.8153996418687938,\n",
       "  0.8889793260621845,\n",
       "  0.8668403060393944,\n",
       "  0.8912583428292365,\n",
       "  0.8894676867979814,\n",
       "  0.9013511313690379],\n",
       " 'Meadows (MEP)': [0.7922228670922808,\n",
       "  0.83633197910621,\n",
       "  0.914103308183401,\n",
       "  0.849100406268137,\n",
       "  0.9210679048171794,\n",
       "  0.9193267556587348,\n",
       "  0.897852582704585,\n",
       "  0.8699941961694718],\n",
       " 'Mount Gambier': [0.8328246863343507,\n",
       "  0.8643608002712784,\n",
       "  0.9403187521193624,\n",
       "  0.8579179382841642,\n",
       "  0.7782299084435402,\n",
       "  0.9501525940996948,\n",
       "  0.8860630722278738,\n",
       "  0.8901322482197355],\n",
       " 'Murray Bridge (MBR)': [0.8260869565217391,\n",
       "  0.8293075684380032,\n",
       "  0.9538378958668814,\n",
       "  0.8582930756843801,\n",
       "  0.8894256575415995,\n",
       "  0.9269994632313473,\n",
       "  0.8872785829307568,\n",
       "  0.8287707997852926],\n",
       " 'Murray Bridge (MBS)': [0.8299008390541571,\n",
       "  0.8291380625476735,\n",
       "  0.9588100686498856,\n",
       "  0.8543096872616324,\n",
       "  0.8886346300533944,\n",
       "  0.9267734553775744,\n",
       "  0.8787185354691076,\n",
       "  0.8337147215865751],\n",
       " 'Northam': [0.7674418604651163,\n",
       "  0.8372093023255813,\n",
       "  0.8914728682170543,\n",
       "  0.8992248062015504,\n",
       "  0.9224806201550387,\n",
       "  0.9147286821705426,\n",
       "  0.875968992248062,\n",
       "  0.8914728682170543],\n",
       " 'Nowra': [0.8153511947863867,\n",
       "  0.8283852280955829,\n",
       "  0.8870383779869659,\n",
       "  0.88848660391021,\n",
       "  0.9116582186821144,\n",
       "  0.9073135409123824,\n",
       "  0.8776249094858798,\n",
       "  0.8841419261404779],\n",
       " 'Otago (NZ)': [0.7916666666666666,\n",
       "  0.7916666666666666,\n",
       "  0.9166666666666666,\n",
       "  0.8333333333333334,\n",
       "  0.9583333333333334,\n",
       "  0.875,\n",
       "  0.8333333333333334],\n",
       " 'Palmerston Nth (NZ)': [0.8543944031482291,\n",
       "  0.8723218189768256,\n",
       "  0.9038041101880192,\n",
       "  0.8745080891998251,\n",
       "  0.844774814167031,\n",
       "  0.8828159160472234,\n",
       "  0.8819414079580237,\n",
       "  0.8854394403148229],\n",
       " 'Richmond': [0.8738664468260511,\n",
       "  0.8849958779884584,\n",
       "  0.8062654575432812,\n",
       "  0.8965375103050288,\n",
       "  0.8516075845012366,\n",
       "  0.9212695795548227,\n",
       "  0.8699505358615004,\n",
       "  0.8955070074196207],\n",
       " 'Richmond (RIS)': [0.8524203069657615,\n",
       "  0.8571428571428572,\n",
       "  0.8713105076741441,\n",
       "  0.884297520661157,\n",
       "  0.9126328217237308,\n",
       "  0.8890200708382526,\n",
       "  0.8736717827626919,\n",
       "  0.859504132231405],\n",
       " 'Rockhampton': [0.7848769050410317,\n",
       "  0.8487690504103165,\n",
       "  0.861664712778429,\n",
       "  0.8751465416178195,\n",
       "  0.9185228604923799,\n",
       "  0.9144196951934349,\n",
       "  0.8991793669402111,\n",
       "  0.8974208675263775],\n",
       " 'Sale': [0.8656504785537044,\n",
       "  0.8847926267281105,\n",
       "  0.8964906061680256,\n",
       "  0.8465083303792982,\n",
       "  0.825593761077632,\n",
       "  0.8894009216589862,\n",
       "  0.9205955334987593,\n",
       "  0.8709677419354839],\n",
       " 'Sandown (SAP)': [0.7803946530872056,\n",
       "  0.8026734563971992,\n",
       "  0.9013367281985996,\n",
       "  0.8765117759388924,\n",
       "  0.9331635900700191,\n",
       "  0.8975175047740293,\n",
       "  0.9096117122851687,\n",
       "  0.8987905792488861],\n",
       " 'Sandown Park': [0.8206429780033841,\n",
       "  0.8099266779469825,\n",
       "  0.8612521150592216,\n",
       "  0.8776085730400451,\n",
       "  0.904117315284828,\n",
       "  0.9007332205301748,\n",
       "  0.9137055837563451,\n",
       "  0.9120135363790186],\n",
       " 'Shepparton': [0.8676789587852495,\n",
       "  0.8503253796095445,\n",
       "  0.8375512171607616,\n",
       "  0.9146782357194505,\n",
       "  0.861412388527356,\n",
       "  0.9052783803326103,\n",
       "  0.8814172089660159,\n",
       "  0.8816582308990119],\n",
       " 'Southland (NZ)': [0.8304347826086956,\n",
       "  0.8434782608695652,\n",
       "  0.8858695652173914,\n",
       "  0.8934782608695653,\n",
       "  0.8793478260869565,\n",
       "  0.9032608695652173,\n",
       "  0.8934782608695653,\n",
       "  0.8706521739130435],\n",
       " 'Taranaki (NZ)': [0.9333333333333333,\n",
       "  0.8,\n",
       "  0.7333333333333334,\n",
       "  0.8,\n",
       "  0.9333333333333333,\n",
       "  0.9333333333333333,\n",
       "  0.9333333333333333,\n",
       "  0.9333333333333333],\n",
       " 'Taree': [0.804159445407279,\n",
       "  0.8474870017331022,\n",
       "  0.8717504332755632,\n",
       "  0.8977469670710572,\n",
       "  0.878682842287695,\n",
       "  0.9098786828422877,\n",
       "  0.8804159445407279,\n",
       "  0.9098786828422877],\n",
       " 'Temora': [0.8475177304964538,\n",
       "  0.8652482269503546,\n",
       "  0.8971631205673759,\n",
       "  0.9113475177304965,\n",
       "  0.9024822695035462,\n",
       "  0.8865248226950355,\n",
       "  0.8652482269503546,\n",
       "  0.824468085106383],\n",
       " 'The Gardens': [0.8401253918495297,\n",
       "  0.8806165099268548,\n",
       "  0.8970741901776385,\n",
       "  0.8905433646812957,\n",
       "  0.8090386624869383,\n",
       "  0.8756530825496343,\n",
       "  0.9075235109717869,\n",
       "  0.8994252873563219],\n",
       " 'The Meadows': [0.8009331259720063,\n",
       "  0.8320373250388803,\n",
       "  0.8906168999481596,\n",
       "  0.8600311041990669,\n",
       "  0.9009849663037843,\n",
       "  0.9103162260238465,\n",
       "  0.904613789528253,\n",
       "  0.9004665629860031],\n",
       " 'Tokoroa (NZ)': [0.8333333333333334,\n",
       "  0.75,\n",
       "  0.75,\n",
       "  0.9166666666666666,\n",
       "  0.9166666666666666,\n",
       "  0.9166666666666666,\n",
       "  0.9166666666666666],\n",
       " 'Townsville': [0.8583050847457627,\n",
       "  0.8701694915254237,\n",
       "  0.8945762711864407,\n",
       "  0.8772881355932204,\n",
       "  0.8372881355932204,\n",
       "  0.8820338983050847,\n",
       "  0.8993220338983051,\n",
       "  0.8810169491525424],\n",
       " 'Traralgon': [0.8353658536585366,\n",
       "  0.8318815331010453,\n",
       "  0.8789198606271778,\n",
       "  0.89198606271777,\n",
       "  0.9242160278745645,\n",
       "  0.8928571428571429,\n",
       "  0.863240418118467,\n",
       "  0.8815331010452961],\n",
       " 'Wagga': [0.8180439727065959,\n",
       "  0.8749052312357847,\n",
       "  0.8711144806671721,\n",
       "  0.8976497346474602,\n",
       "  0.9059893858984078,\n",
       "  0.9067475360121304,\n",
       "  0.8915845337376801,\n",
       "  0.8339651250947688],\n",
       " 'Waikato (NZ)': [0.8241619228336496,\n",
       "  0.8488298545224542,\n",
       "  0.8861480075901328,\n",
       "  0.8709677419354839,\n",
       "  0.8874130297280203,\n",
       "  0.9133459835547122,\n",
       "  0.8867805186590765,\n",
       "  0.8823529411764706],\n",
       " 'Wanganui (NZ)': [0.8221892025755324,\n",
       "  0.8598315998018822,\n",
       "  0.8796433878157504,\n",
       "  0.866765725606736,\n",
       "  0.8930163447251115,\n",
       "  0.892025755324418,\n",
       "  0.9068845963348192,\n",
       "  0.8796433878157504],\n",
       " 'Warragul': [0.885893011216566,\n",
       "  0.8645383951682485,\n",
       "  0.8315358067299397,\n",
       "  0.9083261432269197,\n",
       "  0.8589301121656601,\n",
       "  0.8891285591026747,\n",
       "  0.885030198446937,\n",
       "  0.8766177739430544],\n",
       " 'Warrnambool': [0.8589540412044374,\n",
       "  0.8795562599049128,\n",
       "  0.8748019017432647,\n",
       "  0.8684627575277337,\n",
       "  0.8304278922345483,\n",
       "  0.9058637083993661,\n",
       "  0.8950871632329636,\n",
       "  0.8868462757527734],\n",
       " 'Wentworth Park': [0.854499274310595,\n",
       "  0.8875181422351234,\n",
       "  0.9009433962264151,\n",
       "  0.8704644412191582,\n",
       "  0.803701015965167,\n",
       "  0.8925979680696662,\n",
       "  0.9100145137880987,\n",
       "  0.8802612481857764],\n",
       " 'Young': [0.8947368421052632,\n",
       "  0.8421052631578947,\n",
       "  0.8947368421052632,\n",
       "  0.736842105263158,\n",
       "  0.8947368421052632,\n",
       "  0.8421052631578947,\n",
       "  0.8947368421052632]}"
      ]
     },
     "execution_count": 10,
     "metadata": {},
     "output_type": "execute_result"
    }
   ],
   "source": [
    "track_weights"
   ]
  },
  {
   "cell_type": "code",
   "execution_count": 7,
   "metadata": {},
   "outputs": [
    {
     "data": {
      "text/plain": [
       "track_name\n",
       "Albion Park       4.474724\n",
       "Angle Park        4.460372\n",
       "Auckland (NZ)     4.489668\n",
       "Ballarat          4.479100\n",
       "Bathurst          4.471078\n",
       "                    ...   \n",
       "Wanganui (NZ)     4.485100\n",
       "Warragul          4.472298\n",
       "Warrnambool       4.479095\n",
       "Wentworth Park    4.470391\n",
       "Young             4.396694\n",
       "Name: box, Length: 62, dtype: float64"
      ]
     },
     "execution_count": 7,
     "metadata": {},
     "output_type": "execute_result"
    }
   ],
   "source": []
  },
  {
   "cell_type": "code",
   "execution_count": 23,
   "metadata": {},
   "outputs": [
    {
     "data": {
      "text/plain": [
       "[0.1853216783216783,\n",
       " 0.1495174825174825,\n",
       " 0.10832867132867133,\n",
       " 0.12611888111888112,\n",
       " 0.09788811188811189,\n",
       " 0.09621678321678322,\n",
       " 0.11093706293706293,\n",
       " 0.12567132867132866]"
      ]
     },
     "execution_count": 23,
     "metadata": {},
     "output_type": "execute_result"
    }
   ],
   "source": [
    "(dog_stats_df[dog_stats_df['place']==1]['box'].value_counts(sort=False)/len(dog_stats_df[dog_stats_df['place']==1])).tolist()"
   ]
  },
  {
   "cell_type": "code",
   "execution_count": 24,
   "metadata": {},
   "outputs": [],
   "source": [
    "def weighted_mse_loss(input, target, weight):\n",
    "        return (weight * (input - target) ** 2).sum() / weight.sum()"
   ]
  },
  {
   "cell_type": "code",
   "execution_count": 25,
   "metadata": {},
   "outputs": [],
   "source": [
    "def closure(optimizer, criterion, outs, classes):\n",
    "    optimizer.zero_grad()\n",
    "    loss = nn.functional.mse_loss(outs, classes)\n",
    "    loss.backward()\n",
    "    return loss\n",
    "\n",
    "def model_pipeline(my_dataset=raceDB,config=None,prev_model=None, sweep=True):\n",
    "    if my_dataset:\n",
    "      dataset = my_dataset    \n",
    "    else:\n",
    "      dataset = raceDB\n",
    "    # tell wandb to get started\n",
    "    with wandb.init(project=\"debug\", config=config):\n",
    "      #  access all HPs through wandb.config, so logging matches execution!\n",
    "      wandb.define_metric(\"loss\", summary=\"min\")\n",
    "      wandb.define_metric(\"test_accuracy\", summary=\"max\")\n",
    "      wandb.define_metric(\"bfprofit\", summary=\"max\")\n",
    "      config = wandb.config\n",
    "      pprint.pprint(config)\n",
    "      pprint.pprint(config.epochs)\n",
    "      print(config)\n",
    "\n",
    "      model = GRUNet(203,config['hidden_size'])\n",
    "      # criterion = nn.HuberLoss()\n",
    "      # criterion = nn.BCEWithLogitsLoss()\n",
    "      #optimizer = optim.SGD(model.parameters(), lr=0.1)\n",
    "      #criterion = nn.NLLLoss()\n",
    "      criterion = nn.CrossEntropyLoss(weight=weights)\n",
    "      # criterion = nn.SmoothL1Loss(reduction='mean', beta=0.1)\n",
    "\n",
    "      # optimizer = optim.RMSprop(model.parameters())\n",
    "      # optimizer = optim.AdamW(model.parameters(), lr=0.001)\n",
    "      optimizer = optim.Adam(model.parameters(), lr=config['learning_rate'])\n",
    "\n",
    "      scheduler = optim.lr_scheduler.ReduceLROnPlateau(optimizer, 'max',threshold=0.001, patience=100, verbose=True, factor=0.5)\n",
    "      # optimizer = optim.LBFGS(model.parameters(), lr=0.001)\n",
    "      model = model.to(device)\n",
    "      # optimizer = optimizer.to(device)\n",
    "      print(model)\n",
    "\n",
    "      # and use them to train the model\n",
    "      train(model, dataset, criterion, optimizer, scheduler, config)\n",
    "      dataset.create_hidden_states_dict()\n",
    "      # if sweep:\n",
    "    #   raceDB.reset_all_lstm_states\n",
    "    \n",
    "\n",
    "\n",
    "    # and test its final performance\n",
    "    #test(model, test_loader)\n",
    "\n",
    "    return (model,dataset)"
   ]
  },
  {
   "cell_type": "code",
   "execution_count": 26,
   "metadata": {},
   "outputs": [],
   "source": [
    "test_race = raceDB.get_race_input([100,101])[0]"
   ]
  },
  {
   "cell_type": "code",
   "execution_count": 27,
   "metadata": {},
   "outputs": [
    {
     "data": {
      "text/plain": [
       "143100"
      ]
     },
     "execution_count": 27,
     "metadata": {},
     "output_type": "execute_result"
    }
   ],
   "source": [
    "len(raceDB.raceIDs)"
   ]
  },
  {
   "cell_type": "code",
   "execution_count": 33,
   "metadata": {},
   "outputs": [
    {
     "data": {
      "text/plain": [
       "tensor([[ 0.5567,  0.0479, -0.3112,  0.4781,  0.1493, -0.0227,  0.0017, -0.0569],\n",
       "        [ 0.2376,  0.1458,  0.0276,  0.7527,  0.4324,  0.0735,  0.2758, -0.0635],\n",
       "        [ 0.2261, -0.1213, -0.1364,  0.3857,  0.0811, -0.0322,  0.0134, -0.1154],\n",
       "        [ 0.4396,  0.1585, -0.2124,  0.1816,  0.0874,  0.0418, -0.1468,  0.1121],\n",
       "        [ 0.2519, -0.0278, -0.1791,  0.0706,  0.1485, -0.0751,  0.0228,  0.1259],\n",
       "        [-0.0067,  0.2188, -0.3918,  0.2777,  0.0839,  0.1087,  0.1562,  0.0268],\n",
       "        [ 0.1037,  0.0011, -0.2675,  0.1095,  0.1874,  0.0773,  0.1637,  0.1329],\n",
       "        [ 0.3622,  0.0896, -0.1326,  0.5027,  0.4375,  0.0981,  0.0757, -0.0388],\n",
       "        [ 0.3554,  0.0342, -0.2227,  0.4325,  0.3787, -0.1259,  0.2424,  0.1469],\n",
       "        [ 0.0185,  0.1129, -0.0571,  0.0712,  0.1030,  0.0813, -0.1814,  0.0167]],\n",
       "       device='cuda:0', grad_fn=<AddmmBackward0>)"
      ]
     },
     "execution_count": 33,
     "metadata": {},
     "output_type": "execute_result"
    }
   ],
   "source": [
    "race = raceDB.get_race_input(range(10))\n",
    "model = GRUNet(203,64).to(device)\n",
    "model(race)"
   ]
  },
  {
   "cell_type": "code",
   "execution_count": 34,
   "metadata": {},
   "outputs": [],
   "source": [
    "y = torch.stack([x.classes for x in race])"
   ]
  },
  {
   "cell_type": "code",
   "execution_count": 35,
   "metadata": {},
   "outputs": [
    {
     "data": {
      "text/plain": [
       "tensor([[7.6322e-02, 2.3392e-01, 1.8312e-03, 5.9153e-04, 5.6962e-01, 1.4658e-02,\n",
       "         2.0388e-02, 8.2679e-02],\n",
       "        [9.7734e-01, 1.4996e-07, 2.2371e-07, 3.4814e-04, 5.1171e-06, 2.6126e-09,\n",
       "         1.6690e-02, 5.6116e-03],\n",
       "        [2.7781e-02, 3.4285e-06, 6.9220e-07, 4.1552e-03, 1.8816e-06, 1.2451e-01,\n",
       "         6.1669e-01, 2.2687e-01],\n",
       "        [1.3375e-03, 1.6294e-02, 1.6252e-01, 8.0499e-01, 2.9767e-03, 8.0916e-03,\n",
       "         2.6935e-03, 1.0951e-03],\n",
       "        [5.3021e-02, 7.1941e-04, 6.5095e-04, 8.7869e-04, 3.9177e-01, 6.4760e-02,\n",
       "         9.6860e-03, 4.7851e-01],\n",
       "        [5.6464e-01, 1.0342e-02, 4.1829e-01, 1.1638e-09, 2.8184e-03, 3.4425e-03,\n",
       "         1.1638e-09, 4.6589e-04],\n",
       "        [5.2074e-04, 2.3398e-04, 1.0459e-02, 2.8431e-02, 2.1226e-05, 1.4119e-02,\n",
       "         4.6997e-03, 9.4152e-01],\n",
       "        [1.8924e-03, 1.1478e-03, 8.5473e-06, 7.6346e-01, 2.2995e-01, 2.5545e-03,\n",
       "         5.6999e-04, 4.2226e-04],\n",
       "        [2.5401e-01, 3.8091e-03, 3.7993e-02, 3.1106e-02, 1.8964e-04, 6.2477e-01,\n",
       "         1.7115e-03, 4.6404e-02],\n",
       "        [2.8116e-01, 6.9155e-01, 8.4904e-03, 2.8409e-05, 1.7098e-02, 3.4609e-04,\n",
       "         1.2699e-03, 5.1764e-05]], device='cuda:0')"
      ]
     },
     "execution_count": 35,
     "metadata": {},
     "output_type": "execute_result"
    }
   ],
   "source": [
    "y"
   ]
  },
  {
   "cell_type": "code",
   "execution_count": 40,
   "metadata": {},
   "outputs": [
    {
     "name": "stdout",
     "output_type": "stream",
     "text": [
      "0\n",
      "tensor(0.0763, device='cuda:0')\n",
      "tensor(0.2339, device='cuda:0')\n",
      "tensor(0.0018, device='cuda:0')\n",
      "tensor(0.0006, device='cuda:0')\n",
      "tensor(0.5696, device='cuda:0')\n",
      "tensor(0.0147, device='cuda:0')\n",
      "tensor(0.0204, device='cuda:0')\n",
      "tensor(0.0827, device='cuda:0')\n",
      "1\n",
      "tensor(0.9773, device='cuda:0')\n",
      "tensor(1.4996e-07, device='cuda:0')\n",
      "tensor(2.2371e-07, device='cuda:0')\n",
      "tensor(0.0003, device='cuda:0')\n",
      "tensor(5.1171e-06, device='cuda:0')\n",
      "tensor(2.6126e-09, device='cuda:0')\n",
      "tensor(0.0167, device='cuda:0')\n",
      "tensor(0.0056, device='cuda:0')\n",
      "2\n",
      "tensor(0.0278, device='cuda:0')\n",
      "tensor(3.4285e-06, device='cuda:0')\n",
      "tensor(6.9220e-07, device='cuda:0')\n",
      "tensor(0.0042, device='cuda:0')\n",
      "tensor(1.8816e-06, device='cuda:0')\n",
      "tensor(0.1245, device='cuda:0')\n",
      "tensor(0.6167, device='cuda:0')\n",
      "tensor(0.2269, device='cuda:0')\n",
      "3\n",
      "tensor(0.0013, device='cuda:0')\n",
      "tensor(0.0163, device='cuda:0')\n",
      "tensor(0.1625, device='cuda:0')\n",
      "tensor(0.8050, device='cuda:0')\n",
      "tensor(0.0030, device='cuda:0')\n",
      "tensor(0.0081, device='cuda:0')\n",
      "tensor(0.0027, device='cuda:0')\n",
      "tensor(0.0011, device='cuda:0')\n",
      "4\n",
      "tensor(0.0530, device='cuda:0')\n",
      "tensor(0.0007, device='cuda:0')\n",
      "tensor(0.0007, device='cuda:0')\n",
      "tensor(0.0009, device='cuda:0')\n",
      "tensor(0.3918, device='cuda:0')\n",
      "tensor(0.0648, device='cuda:0')\n",
      "tensor(0.0097, device='cuda:0')\n",
      "tensor(0.4785, device='cuda:0')\n",
      "5\n",
      "tensor(0.5646, device='cuda:0')\n",
      "tensor(0.0103, device='cuda:0')\n",
      "tensor(0.4183, device='cuda:0')\n",
      "tensor(1.1638e-09, device='cuda:0')\n",
      "tensor(0.0028, device='cuda:0')\n",
      "tensor(0.0034, device='cuda:0')\n",
      "tensor(1.1638e-09, device='cuda:0')\n",
      "tensor(0.0005, device='cuda:0')\n",
      "6\n",
      "tensor(0.0005, device='cuda:0')\n",
      "tensor(0.0002, device='cuda:0')\n",
      "tensor(0.0105, device='cuda:0')\n",
      "tensor(0.0284, device='cuda:0')\n",
      "tensor(2.1226e-05, device='cuda:0')\n",
      "tensor(0.0141, device='cuda:0')\n",
      "tensor(0.0047, device='cuda:0')\n",
      "tensor(0.9415, device='cuda:0')\n",
      "7\n",
      "tensor(0.0019, device='cuda:0')\n",
      "tensor(0.0011, device='cuda:0')\n",
      "tensor(8.5473e-06, device='cuda:0')\n",
      "tensor(0.7635, device='cuda:0')\n",
      "tensor(0.2299, device='cuda:0')\n",
      "tensor(0.0026, device='cuda:0')\n",
      "tensor(0.0006, device='cuda:0')\n",
      "tensor(0.0004, device='cuda:0')\n",
      "8\n",
      "tensor(0.2540, device='cuda:0')\n",
      "tensor(0.0038, device='cuda:0')\n",
      "tensor(0.0380, device='cuda:0')\n",
      "tensor(0.0311, device='cuda:0')\n",
      "tensor(0.0002, device='cuda:0')\n",
      "tensor(0.6248, device='cuda:0')\n",
      "tensor(0.0017, device='cuda:0')\n",
      "tensor(0.0464, device='cuda:0')\n",
      "9\n",
      "tensor(0.2812, device='cuda:0')\n",
      "tensor(0.6916, device='cuda:0')\n",
      "tensor(0.0085, device='cuda:0')\n",
      "tensor(2.8409e-05, device='cuda:0')\n",
      "tensor(0.0171, device='cuda:0')\n",
      "tensor(0.0003, device='cuda:0')\n",
      "tensor(0.0013, device='cuda:0')\n",
      "tensor(5.1764e-05, device='cuda:0')\n"
     ]
    }
   ],
   "source": [
    "for i,n in enumerate(y):\n",
    "    print(i)\n",
    "    for j,k in enumerate(n):\n",
    "        print(k)"
   ]
  },
  {
   "cell_type": "code",
   "execution_count": null,
   "metadata": {},
   "outputs": [],
   "source": [
    "\n",
    "wandb_config_static = {'hidden_size':hidden_size,'batch_size': 500, 'dropout': 0.3, 'epochs': 1000, 'f1_layer_size': 256, 'f2_layer_size': 64 , 'learning_rate': 0.0001, 'loss': 'L1', 'l1_beta':0.1,  'num_layers': 2, 'optimizer': 'adamW', 'validation_split': 0.1}"
   ]
  },
  {
   "cell_type": "code",
   "execution_count": null,
   "metadata": {},
   "outputs": [],
   "source": [
    "raceDB.detach_all_hidden_states()"
   ]
  },
  {
   "cell_type": "code",
   "execution_count": null,
   "metadata": {},
   "outputs": [
    {
     "name": "stdout",
     "output_type": "stream",
     "text": [
      "{'method': 'random',\n",
      " 'metric': {'goal': 'maximize', 'name': 'profit'},\n",
      " 'parameters': {'batch_size': {'values': [500, 1000, 5000]},\n",
      "                'dropout': {'values': [0.3]},\n",
      "                'epochs': {'values': [250]},\n",
      "                'f1_layer_size': {'values': [256]},\n",
      "                'f2_layer_size': {'values': [64]},\n",
      "                'hidden_size': {'value': 16},\n",
      "                'l1_beta': {'value': 0.1},\n",
      "                'learning_rate': {'distribution': 'uniform',\n",
      "                                  'max': 0.001,\n",
      "                                  'min': 0.00011},\n",
      "                'len_data': {'value': 70000},\n",
      "                'loss': {'values': ['L1']},\n",
      "                'num_layers': {'values': [2]},\n",
      "                'optimizer': {'value': 'adamW'},\n",
      "                'validation_split': {'value': 0.1}}}\n"
     ]
    },
    {
     "data": {
      "text/plain": [
       "{'method': 'random',\n",
       " 'metric': {'name': 'profit', 'goal': 'maximize'},\n",
       " 'parameters': {'optimizer': {'value': 'adamW'},\n",
       "  'f1_layer_size': {'values': [256]},\n",
       "  'f2_layer_size': {'values': [64]},\n",
       "  'dropout': {'values': [0.3]},\n",
       "  'len_data': {'value': 70000},\n",
       "  'hidden_size': {'value': 16},\n",
       "  'epochs': {'values': [250]},\n",
       "  'validation_split': {'value': 0.1},\n",
       "  'loss': {'values': ['L1']},\n",
       "  'num_layers': {'values': [2]},\n",
       "  'learning_rate': {'distribution': 'uniform', 'min': 0.00011, 'max': 0.001},\n",
       "  'l1_beta': {'value': 0.1},\n",
       "  'batch_size': {'values': [500, 1000, 5000]}}}"
      ]
     },
     "execution_count": 93,
     "metadata": {},
     "output_type": "execute_result"
    }
   ],
   "source": [
    "sweep_config = {\"method\": \"random\"}\n",
    "\n",
    "metric = {\"name\": \"profit\", \"goal\": \"maximize\"}\n",
    "\n",
    "sweep_config[\"metric\"] = metric\n",
    "\n",
    "\n",
    "parameters_dict = {\n",
    "    \"optimizer\": {\"value\": \"adamW\"},\n",
    "    \"f1_layer_size\": {\"values\": [256]},\n",
    "    \"f2_layer_size\": {\"values\": [64]},\n",
    "    \"dropout\": {\"values\": [0.3]},\n",
    "    \"len_data\": {\"value\": 70000},\n",
    "    \"hidden_size\": {\"value\":16}\n",
    "}\n",
    "\n",
    "sweep_config[\"parameters\"] = parameters_dict\n",
    "\n",
    "parameters_dict.update(\n",
    "    {\n",
    "        \"epochs\": {\"values\": [250]},\n",
    "        \"validation_split\": {\"value\": 0.1},\n",
    "        \"loss\": {\n",
    "            \"values\": [ \"L1\"],\n",
    "            # \"values\": [\"Huber\", \"MSE\", \"L1\", \"BCE\", \"Custom\", \"KL\"]\n",
    "            # 'value': 'l1_custom'\n",
    "        },\n",
    "        \"num_layers\": {\"values\": [2]},\n",
    "    }\n",
    ")\n",
    "\n",
    "parameters_dict.update(\n",
    "    {\n",
    "        \"learning_rate\": {\n",
    "            # a flat distribution between 0 and 0.1\n",
    "            \"distribution\": \"uniform\",\n",
    "            \"min\": 0.00011,\n",
    "            \"max\": 0.001,\n",
    "        },\n",
    "        \"l1_beta\": {\"value\": 0.1\n",
    "        },\n",
    "        \"batch_size\": {\n",
    "            'values': [500,1000,5000]\n",
    "            # \"values\": [32, 64, 128, 360, 720]\n",
    "            # 'values':[4,8,16,32,64,128,360]\n",
    "        },\n",
    "    }\n",
    ")\n",
    "\n",
    "import pprint\n",
    "\n",
    "pprint.pprint(sweep_config)\n",
    "\n",
    "\n",
    "sweep_config\n"
   ]
  },
  {
   "cell_type": "code",
   "execution_count": null,
   "metadata": {},
   "outputs": [
    {
     "data": {
      "text/html": [
       "wandb version 0.13.6 is available!  To upgrade, please run:\n",
       " $ pip install wandb --upgrade"
      ],
      "text/plain": [
       "<IPython.core.display.HTML object>"
      ]
     },
     "metadata": {},
     "output_type": "display_data"
    },
    {
     "data": {
      "text/html": [
       "Tracking run with wandb version 0.12.14"
      ],
      "text/plain": [
       "<IPython.core.display.HTML object>"
      ]
     },
     "metadata": {},
     "output_type": "display_data"
    },
    {
     "data": {
      "text/html": [
       "Run data is saved locally in <code>C:\\Users\\Nick\\Documents\\GitHub\\grvmodel\\Python\\DATA\\wandb\\run-20221214_152231-3g7dbmu2</code>"
      ],
      "text/plain": [
       "<IPython.core.display.HTML object>"
      ]
     },
     "metadata": {},
     "output_type": "display_data"
    },
    {
     "data": {
      "text/html": [
       "Syncing run <strong><a href=\"https://wandb.ai/nickojelly/debug/runs/3g7dbmu2\" target=\"_blank\">serene-paper-206</a></strong> to <a href=\"https://wandb.ai/nickojelly/debug\" target=\"_blank\">Weights & Biases</a> (<a href=\"https://wandb.me/run\" target=\"_blank\">docs</a>)<br/>"
      ],
      "text/plain": [
       "<IPython.core.display.HTML object>"
      ]
     },
     "metadata": {},
     "output_type": "display_data"
    },
    {
     "name": "stderr",
     "output_type": "stream",
     "text": [
      "  1%|          | 2/246 [00:00<00:20, 12.04it/s]"
     ]
    },
    {
     "name": "stdout",
     "output_type": "stream",
     "text": [
      "{'hidden_size': 64, 'batch_size': 500, 'dropout': 0.3, 'epochs': 1000, 'f1_layer_size': 256, 'f2_layer_size': 64, 'learning_rate': 0.0001, 'loss': 'L1', 'l1_beta': 0.1, 'num_layers': 2, 'optimizer': 'adamW', 'validation_split': 0.1}\n",
      "1000\n",
      "{'hidden_size': 64, 'batch_size': 500, 'dropout': 0.3, 'epochs': 1000, 'f1_layer_size': 256, 'f2_layer_size': 64, 'learning_rate': 0.0001, 'loss': 'L1', 'l1_beta': 0.1, 'num_layers': 2, 'optimizer': 'adamW', 'validation_split': 0.1}\n",
      "GRUNet(\n",
      "  (gru1): GRUCell(203, 64)\n",
      "  (gru2): GRUCell(203, 64)\n",
      "  (gru3): GRUCell(203, 64)\n",
      "  (gru4): GRUCell(203, 64)\n",
      "  (gru5): GRUCell(203, 64)\n",
      "  (gru6): GRUCell(203, 64)\n",
      "  (gru7): GRUCell(203, 64)\n",
      "  (gru8): GRUCell(203, 64)\n",
      "  (rl1): ReLU()\n",
      "  (drop1): Dropout(p=0.3, inplace=False)\n",
      "  (fc2): Linear(in_features=512, out_features=64, bias=True)\n",
      "  (drop2): Dropout(p=0.3, inplace=False)\n",
      "  (rl2): ReLU()\n",
      "  (fc3): Linear(in_features=64, out_features=8, bias=True)\n",
      ")\n"
     ]
    },
    {
     "name": "stderr",
     "output_type": "stream",
     "text": [
      "100%|██████████| 246/246 [02:51<00:00,  1.43it/s]\n",
      "100%|██████████| 1230/1230 [00:01<00:00, 767.09it/s]\n",
      "  1%|          | 2/246 [00:00<00:16, 14.38it/s]"
     ]
    },
    {
     "name": "stdout",
     "output_type": "stream",
     "text": [
      "accuray: 0.18095833333333333\n",
      "0.18095833333333333\n"
     ]
    },
    {
     "name": "stderr",
     "output_type": "stream",
     "text": [
      "100%|██████████| 246/246 [02:51<00:00,  1.44it/s]\n",
      "100%|██████████| 1230/1230 [00:01<00:00, 780.24it/s]\n",
      "  1%|          | 2/246 [00:00<00:16, 14.48it/s]"
     ]
    },
    {
     "name": "stdout",
     "output_type": "stream",
     "text": [
      "accuray: 0.184875\n",
      "0.184875\n"
     ]
    },
    {
     "name": "stderr",
     "output_type": "stream",
     "text": [
      "100%|██████████| 246/246 [02:57<00:00,  1.39it/s]\n",
      "100%|██████████| 1230/1230 [00:01<00:00, 775.39it/s]\n",
      "  1%|          | 2/246 [00:00<00:16, 14.38it/s]"
     ]
    },
    {
     "name": "stdout",
     "output_type": "stream",
     "text": [
      "accuray: 0.18629166666666666\n",
      "0.18629166666666666\n"
     ]
    },
    {
     "name": "stderr",
     "output_type": "stream",
     "text": [
      "100%|██████████| 246/246 [03:14<00:00,  1.27it/s]\n",
      "100%|██████████| 1230/1230 [00:01<00:00, 652.73it/s]\n",
      "  1%|          | 2/246 [00:00<00:17, 13.69it/s]"
     ]
    },
    {
     "name": "stdout",
     "output_type": "stream",
     "text": [
      "accuray: 0.18733333333333332\n",
      "0.18733333333333332\n"
     ]
    },
    {
     "name": "stderr",
     "output_type": "stream",
     "text": [
      "100%|██████████| 246/246 [03:20<00:00,  1.23it/s]\n",
      "100%|██████████| 1230/1230 [00:01<00:00, 651.53it/s]\n",
      "  1%|          | 2/246 [00:00<00:21, 11.23it/s]"
     ]
    },
    {
     "name": "stdout",
     "output_type": "stream",
     "text": [
      "accuray: 0.18720833333333334\n",
      "0.18720833333333334\n"
     ]
    },
    {
     "name": "stderr",
     "output_type": "stream",
     "text": [
      "100%|██████████| 246/246 [03:18<00:00,  1.24it/s]\n",
      "100%|██████████| 1230/1230 [00:01<00:00, 634.62it/s]\n",
      "  1%|          | 2/246 [00:00<00:16, 14.38it/s]"
     ]
    },
    {
     "name": "stdout",
     "output_type": "stream",
     "text": [
      "accuray: 0.187\n",
      "0.187\n"
     ]
    },
    {
     "name": "stderr",
     "output_type": "stream",
     "text": [
      "100%|██████████| 246/246 [02:58<00:00,  1.38it/s]\n",
      "100%|██████████| 1230/1230 [00:01<00:00, 759.04it/s]\n",
      "  1%|          | 2/246 [00:00<00:16, 14.38it/s]"
     ]
    },
    {
     "name": "stdout",
     "output_type": "stream",
     "text": [
      "accuray: 0.18770833333333334\n",
      "0.18770833333333334\n"
     ]
    },
    {
     "name": "stderr",
     "output_type": "stream",
     "text": [
      "100%|██████████| 246/246 [02:58<00:00,  1.37it/s]\n",
      "100%|██████████| 1230/1230 [00:01<00:00, 815.99it/s]\n",
      "  1%|          | 2/246 [00:00<00:17, 14.17it/s]"
     ]
    },
    {
     "name": "stdout",
     "output_type": "stream",
     "text": [
      "accuray: 0.18829166666666666\n",
      "0.18829166666666666\n"
     ]
    },
    {
     "name": "stderr",
     "output_type": "stream",
     "text": [
      "100%|██████████| 246/246 [03:06<00:00,  1.32it/s]\n",
      "100%|██████████| 1230/1230 [00:01<00:00, 650.21it/s]\n",
      "  1%|          | 2/246 [00:00<00:18, 12.89it/s]"
     ]
    },
    {
     "name": "stdout",
     "output_type": "stream",
     "text": [
      "accuray: 0.18870833333333334\n",
      "0.18870833333333334\n"
     ]
    },
    {
     "name": "stderr",
     "output_type": "stream",
     "text": [
      "100%|██████████| 246/246 [03:03<00:00,  1.34it/s]\n",
      "100%|██████████| 1230/1230 [00:01<00:00, 784.63it/s]\n",
      "  1%|          | 2/246 [00:00<00:17, 14.28it/s]"
     ]
    },
    {
     "name": "stdout",
     "output_type": "stream",
     "text": [
      "accuray: 0.18941666666666668\n",
      "0.18941666666666668\n"
     ]
    },
    {
     "name": "stderr",
     "output_type": "stream",
     "text": [
      "100%|██████████| 246/246 [02:59<00:00,  1.37it/s]\n",
      "100%|██████████| 1230/1230 [00:01<00:00, 824.41it/s]\n",
      "  1%|          | 2/246 [00:00<00:17, 13.97it/s]"
     ]
    },
    {
     "name": "stdout",
     "output_type": "stream",
     "text": [
      "accuray: 0.19025\n",
      "0.19025\n"
     ]
    },
    {
     "name": "stderr",
     "output_type": "stream",
     "text": [
      "100%|██████████| 246/246 [03:06<00:00,  1.32it/s]\n",
      "100%|██████████| 1230/1230 [00:01<00:00, 803.72it/s]\n",
      "  1%|          | 2/246 [00:00<00:16, 14.69it/s]"
     ]
    },
    {
     "name": "stdout",
     "output_type": "stream",
     "text": [
      "accuray: 0.191625\n",
      "0.191625\n"
     ]
    },
    {
     "name": "stderr",
     "output_type": "stream",
     "text": [
      "100%|██████████| 246/246 [03:05<00:00,  1.33it/s]\n",
      "100%|██████████| 1230/1230 [00:01<00:00, 724.58it/s]\n",
      "  1%|          | 2/246 [00:00<00:17, 14.17it/s]"
     ]
    },
    {
     "name": "stdout",
     "output_type": "stream",
     "text": [
      "accuray: 0.1915\n",
      "0.1915\n"
     ]
    },
    {
     "name": "stderr",
     "output_type": "stream",
     "text": [
      "100%|██████████| 246/246 [03:10<00:00,  1.29it/s]\n",
      "100%|██████████| 1230/1230 [00:01<00:00, 851.56it/s]\n",
      "  1%|          | 2/246 [00:00<00:16, 15.02it/s]"
     ]
    },
    {
     "name": "stdout",
     "output_type": "stream",
     "text": [
      "accuray: 0.19345833333333334\n",
      "0.19345833333333334\n"
     ]
    },
    {
     "name": "stderr",
     "output_type": "stream",
     "text": [
      "100%|██████████| 246/246 [03:17<00:00,  1.24it/s]\n",
      "100%|██████████| 1230/1230 [00:01<00:00, 623.03it/s]\n",
      "  1%|          | 2/246 [00:00<00:19, 12.73it/s]"
     ]
    },
    {
     "name": "stdout",
     "output_type": "stream",
     "text": [
      "accuray: 0.19408333333333333\n",
      "0.19408333333333333\n"
     ]
    },
    {
     "name": "stderr",
     "output_type": "stream",
     "text": [
      "100%|██████████| 246/246 [03:23<00:00,  1.21it/s]\n",
      "100%|██████████| 1230/1230 [00:01<00:00, 697.24it/s]\n",
      "  1%|          | 2/246 [00:00<00:19, 12.72it/s]"
     ]
    },
    {
     "name": "stdout",
     "output_type": "stream",
     "text": [
      "accuray: 0.19529166666666667\n",
      "0.19529166666666667\n"
     ]
    },
    {
     "name": "stderr",
     "output_type": "stream",
     "text": [
      "100%|██████████| 246/246 [03:20<00:00,  1.23it/s]\n",
      "100%|██████████| 1230/1230 [00:01<00:00, 661.85it/s]\n",
      "  1%|          | 2/246 [00:00<00:18, 13.06it/s]"
     ]
    },
    {
     "name": "stdout",
     "output_type": "stream",
     "text": [
      "accuray: 0.19633333333333333\n",
      "0.19633333333333333\n"
     ]
    },
    {
     "name": "stderr",
     "output_type": "stream",
     "text": [
      "100%|██████████| 246/246 [03:21<00:00,  1.22it/s]\n",
      "100%|██████████| 1230/1230 [00:01<00:00, 684.66it/s]\n",
      "  1%|          | 2/246 [00:00<00:19, 12.49it/s]"
     ]
    },
    {
     "name": "stdout",
     "output_type": "stream",
     "text": [
      "accuray: 0.1975\n",
      "0.1975\n"
     ]
    },
    {
     "name": "stderr",
     "output_type": "stream",
     "text": [
      "100%|██████████| 246/246 [03:19<00:00,  1.23it/s]\n",
      "100%|██████████| 1230/1230 [00:01<00:00, 692.33it/s]\n",
      "  1%|          | 2/246 [00:00<00:19, 12.41it/s]"
     ]
    },
    {
     "name": "stdout",
     "output_type": "stream",
     "text": [
      "accuray: 0.199\n",
      "0.199\n"
     ]
    },
    {
     "name": "stderr",
     "output_type": "stream",
     "text": [
      "100%|██████████| 246/246 [03:19<00:00,  1.23it/s]\n",
      "100%|██████████| 1230/1230 [00:01<00:00, 676.57it/s]\n",
      "  1%|          | 2/246 [00:00<00:18, 12.89it/s]"
     ]
    },
    {
     "name": "stdout",
     "output_type": "stream",
     "text": [
      "accuray: 0.20033333333333334\n",
      "0.20033333333333334\n"
     ]
    },
    {
     "name": "stderr",
     "output_type": "stream",
     "text": [
      "100%|██████████| 246/246 [03:23<00:00,  1.21it/s]\n",
      "100%|██████████| 1230/1230 [00:01<00:00, 691.31it/s]\n",
      "  1%|          | 2/246 [00:00<00:17, 13.59it/s]"
     ]
    },
    {
     "name": "stdout",
     "output_type": "stream",
     "text": [
      "accuray: 0.20120833333333332\n",
      "0.20120833333333332\n"
     ]
    },
    {
     "name": "stderr",
     "output_type": "stream",
     "text": [
      "100%|██████████| 246/246 [03:18<00:00,  1.24it/s]\n",
      "100%|██████████| 1230/1230 [00:01<00:00, 746.13it/s]\n",
      "  1%|          | 2/246 [00:00<00:17, 13.97it/s]"
     ]
    },
    {
     "name": "stdout",
     "output_type": "stream",
     "text": [
      "accuray: 0.205375\n",
      "0.205375\n"
     ]
    },
    {
     "name": "stderr",
     "output_type": "stream",
     "text": [
      "100%|██████████| 246/246 [03:11<00:00,  1.29it/s]\n",
      "100%|██████████| 1230/1230 [00:01<00:00, 833.71it/s]\n",
      "  1%|          | 2/246 [00:00<00:16, 14.59it/s]"
     ]
    },
    {
     "name": "stdout",
     "output_type": "stream",
     "text": [
      "accuray: 0.20708333333333334\n",
      "0.20708333333333334\n"
     ]
    },
    {
     "name": "stderr",
     "output_type": "stream",
     "text": [
      "100%|██████████| 246/246 [03:10<00:00,  1.29it/s]\n",
      "100%|██████████| 1230/1230 [00:01<00:00, 803.72it/s]\n",
      "  1%|          | 2/246 [00:00<00:16, 14.59it/s]"
     ]
    },
    {
     "name": "stdout",
     "output_type": "stream",
     "text": [
      "accuray: 0.20916666666666667\n",
      "0.20916666666666667\n"
     ]
    },
    {
     "name": "stderr",
     "output_type": "stream",
     "text": [
      "100%|██████████| 246/246 [03:09<00:00,  1.30it/s]\n",
      "100%|██████████| 1230/1230 [00:01<00:00, 812.75it/s]\n",
      "  1%|          | 2/246 [00:00<00:16, 14.91it/s]"
     ]
    },
    {
     "name": "stdout",
     "output_type": "stream",
     "text": [
      "accuray: 0.21091666666666667\n",
      "0.21091666666666667\n"
     ]
    },
    {
     "name": "stderr",
     "output_type": "stream",
     "text": [
      "100%|██████████| 246/246 [03:10<00:00,  1.29it/s]\n",
      "100%|██████████| 1230/1230 [00:01<00:00, 800.05it/s]\n",
      "  1%|          | 2/246 [00:00<00:16, 14.80it/s]"
     ]
    },
    {
     "name": "stdout",
     "output_type": "stream",
     "text": [
      "accuray: 0.21225\n",
      "0.21225\n"
     ]
    },
    {
     "name": "stderr",
     "output_type": "stream",
     "text": [
      "100%|██████████| 246/246 [03:10<00:00,  1.29it/s]\n",
      "100%|██████████| 1230/1230 [00:01<00:00, 778.48it/s]\n",
      "  1%|          | 2/246 [00:00<00:17, 14.27it/s]"
     ]
    },
    {
     "name": "stdout",
     "output_type": "stream",
     "text": [
      "accuray: 0.21458333333333332\n",
      "0.21458333333333332\n"
     ]
    },
    {
     "name": "stderr",
     "output_type": "stream",
     "text": [
      "100%|██████████| 246/246 [03:10<00:00,  1.29it/s]\n",
      "100%|██████████| 1230/1230 [00:01<00:00, 866.63it/s]\n",
      "  1%|          | 2/246 [00:00<00:16, 14.69it/s]"
     ]
    },
    {
     "name": "stdout",
     "output_type": "stream",
     "text": [
      "accuray: 0.21720833333333334\n",
      "0.21720833333333334\n"
     ]
    },
    {
     "name": "stderr",
     "output_type": "stream",
     "text": [
      "100%|██████████| 246/246 [03:10<00:00,  1.29it/s]\n",
      "100%|██████████| 1230/1230 [00:01<00:00, 806.88it/s]\n",
      "  1%|          | 2/246 [00:00<00:16, 14.69it/s]"
     ]
    },
    {
     "name": "stdout",
     "output_type": "stream",
     "text": [
      "accuray: 0.218625\n",
      "0.218625\n"
     ]
    },
    {
     "name": "stderr",
     "output_type": "stream",
     "text": [
      "100%|██████████| 246/246 [03:04<00:00,  1.34it/s]\n",
      "100%|██████████| 1230/1230 [00:01<00:00, 780.74it/s]\n",
      "  1%|          | 2/246 [00:00<00:16, 14.48it/s]"
     ]
    },
    {
     "name": "stdout",
     "output_type": "stream",
     "text": [
      "accuray: 0.2195\n",
      "0.2195\n"
     ]
    },
    {
     "name": "stderr",
     "output_type": "stream",
     "text": [
      "100%|██████████| 246/246 [03:09<00:00,  1.30it/s]\n",
      "100%|██████████| 1230/1230 [00:01<00:00, 798.50it/s]\n",
      "  1%|          | 2/246 [00:00<00:16, 14.38it/s]"
     ]
    },
    {
     "name": "stdout",
     "output_type": "stream",
     "text": [
      "accuray: 0.22320833333333334\n",
      "0.22320833333333334\n"
     ]
    },
    {
     "name": "stderr",
     "output_type": "stream",
     "text": [
      "100%|██████████| 246/246 [03:10<00:00,  1.29it/s]\n",
      "100%|██████████| 1230/1230 [00:01<00:00, 797.46it/s]\n",
      "  1%|          | 2/246 [00:00<00:16, 14.80it/s]"
     ]
    },
    {
     "name": "stdout",
     "output_type": "stream",
     "text": [
      "accuray: 0.225\n",
      "0.225\n"
     ]
    },
    {
     "name": "stderr",
     "output_type": "stream",
     "text": [
      "100%|██████████| 246/246 [03:03<00:00,  1.34it/s]\n",
      "100%|██████████| 1230/1230 [00:01<00:00, 813.33it/s]\n",
      "  1%|          | 2/246 [00:00<00:16, 14.59it/s]"
     ]
    },
    {
     "name": "stdout",
     "output_type": "stream",
     "text": [
      "accuray: 0.22579166666666667\n",
      "0.22579166666666667\n"
     ]
    },
    {
     "name": "stderr",
     "output_type": "stream",
     "text": [
      "100%|██████████| 246/246 [03:09<00:00,  1.30it/s]\n",
      "100%|██████████| 1230/1230 [00:01<00:00, 810.07it/s]\n",
      "  1%|          | 2/246 [00:00<00:16, 14.80it/s]"
     ]
    },
    {
     "name": "stdout",
     "output_type": "stream",
     "text": [
      "accuray: 0.22829166666666667\n",
      "0.22829166666666667\n"
     ]
    },
    {
     "name": "stderr",
     "output_type": "stream",
     "text": [
      "100%|██████████| 246/246 [03:09<00:00,  1.30it/s]\n",
      "100%|██████████| 1230/1230 [00:01<00:00, 773.86it/s]\n",
      "  1%|          | 2/246 [00:00<00:16, 14.48it/s]"
     ]
    },
    {
     "name": "stdout",
     "output_type": "stream",
     "text": [
      "accuray: 0.23004166666666667\n",
      "0.23004166666666667\n"
     ]
    },
    {
     "name": "stderr",
     "output_type": "stream",
     "text": [
      "100%|██████████| 246/246 [03:09<00:00,  1.30it/s]\n",
      "100%|██████████| 1230/1230 [00:01<00:00, 800.05it/s]\n",
      "  1%|          | 2/246 [00:00<00:16, 14.91it/s]"
     ]
    },
    {
     "name": "stdout",
     "output_type": "stream",
     "text": [
      "accuray: 0.231\n",
      "0.231\n"
     ]
    },
    {
     "name": "stderr",
     "output_type": "stream",
     "text": [
      "100%|██████████| 246/246 [03:10<00:00,  1.29it/s]\n",
      "100%|██████████| 1230/1230 [00:01<00:00, 807.28it/s]\n",
      "  1%|          | 2/246 [00:00<00:16, 14.80it/s]"
     ]
    },
    {
     "name": "stdout",
     "output_type": "stream",
     "text": [
      "accuray: 0.23129166666666667\n",
      "0.23129166666666667\n"
     ]
    },
    {
     "name": "stderr",
     "output_type": "stream",
     "text": [
      "100%|██████████| 246/246 [03:10<00:00,  1.29it/s]\n",
      "100%|██████████| 1230/1230 [00:01<00:00, 802.67it/s]\n",
      "  1%|          | 2/246 [00:00<00:16, 15.02it/s]"
     ]
    },
    {
     "name": "stdout",
     "output_type": "stream",
     "text": [
      "accuray: 0.23275\n",
      "0.23275\n"
     ]
    },
    {
     "name": "stderr",
     "output_type": "stream",
     "text": [
      "100%|██████████| 246/246 [03:10<00:00,  1.29it/s]\n",
      "100%|██████████| 1230/1230 [00:02<00:00, 571.04it/s]\n",
      "  1%|          | 2/246 [00:00<00:17, 14.17it/s]"
     ]
    },
    {
     "name": "stdout",
     "output_type": "stream",
     "text": [
      "accuray: 0.2355\n",
      "0.2355\n"
     ]
    },
    {
     "name": "stderr",
     "output_type": "stream",
     "text": [
      "100%|██████████| 246/246 [03:08<00:00,  1.30it/s]\n",
      "100%|██████████| 1230/1230 [00:01<00:00, 785.44it/s]\n",
      "  1%|          | 2/246 [00:00<00:16, 14.54it/s]"
     ]
    },
    {
     "name": "stdout",
     "output_type": "stream",
     "text": [
      "accuray: 0.23770833333333333\n",
      "0.23770833333333333\n"
     ]
    },
    {
     "name": "stderr",
     "output_type": "stream",
     "text": [
      "100%|██████████| 246/246 [03:09<00:00,  1.30it/s]\n",
      "100%|██████████| 1230/1230 [00:01<00:00, 851.03it/s]\n",
      "  1%|          | 2/246 [00:00<00:16, 14.91it/s]"
     ]
    },
    {
     "name": "stdout",
     "output_type": "stream",
     "text": [
      "accuray: 0.240125\n",
      "0.240125\n"
     ]
    },
    {
     "name": "stderr",
     "output_type": "stream",
     "text": [
      "100%|██████████| 246/246 [03:10<00:00,  1.29it/s]\n",
      "100%|██████████| 1230/1230 [00:01<00:00, 800.58it/s]\n",
      "  1%|          | 2/246 [00:00<00:16, 14.69it/s]"
     ]
    },
    {
     "name": "stdout",
     "output_type": "stream",
     "text": [
      "accuray: 0.242375\n",
      "0.242375\n"
     ]
    },
    {
     "name": "stderr",
     "output_type": "stream",
     "text": [
      "100%|██████████| 246/246 [03:11<00:00,  1.28it/s]\n",
      "100%|██████████| 1230/1230 [00:01<00:00, 803.72it/s]\n",
      "  1%|          | 2/246 [00:00<00:17, 14.17it/s]"
     ]
    },
    {
     "name": "stdout",
     "output_type": "stream",
     "text": [
      "accuray: 0.24329166666666666\n",
      "0.24329166666666666\n"
     ]
    },
    {
     "name": "stderr",
     "output_type": "stream",
     "text": [
      "100%|██████████| 246/246 [03:09<00:00,  1.30it/s]\n",
      "100%|██████████| 1230/1230 [00:01<00:00, 792.32it/s]\n",
      "  1%|          | 2/246 [00:00<00:16, 14.91it/s]"
     ]
    },
    {
     "name": "stdout",
     "output_type": "stream",
     "text": [
      "accuray: 0.24329166666666666\n",
      "0.24329166666666666\n"
     ]
    },
    {
     "name": "stderr",
     "output_type": "stream",
     "text": [
      "100%|██████████| 246/246 [03:09<00:00,  1.30it/s]\n",
      "100%|██████████| 1230/1230 [00:01<00:00, 822.55it/s]\n",
      "  1%|          | 2/246 [00:00<00:16, 14.91it/s]"
     ]
    },
    {
     "name": "stdout",
     "output_type": "stream",
     "text": [
      "accuray: 0.24525\n",
      "0.24525\n"
     ]
    },
    {
     "name": "stderr",
     "output_type": "stream",
     "text": [
      "100%|██████████| 246/246 [03:11<00:00,  1.29it/s]\n",
      "100%|██████████| 1230/1230 [00:01<00:00, 810.07it/s]\n",
      "  1%|          | 2/246 [00:00<00:17, 14.07it/s]"
     ]
    },
    {
     "name": "stdout",
     "output_type": "stream",
     "text": [
      "accuray: 0.246125\n",
      "0.246125\n"
     ]
    },
    {
     "name": "stderr",
     "output_type": "stream",
     "text": [
      "100%|██████████| 246/246 [03:11<00:00,  1.28it/s]\n",
      "100%|██████████| 1230/1230 [00:01<00:00, 848.09it/s]\n",
      "  1%|          | 2/246 [00:00<00:16, 14.69it/s]"
     ]
    },
    {
     "name": "stdout",
     "output_type": "stream",
     "text": [
      "accuray: 0.24945833333333334\n",
      "0.24945833333333334\n"
     ]
    },
    {
     "name": "stderr",
     "output_type": "stream",
     "text": [
      "100%|██████████| 246/246 [03:13<00:00,  1.27it/s]\n",
      "100%|██████████| 1230/1230 [00:01<00:00, 842.86it/s]\n",
      "  1%|          | 2/246 [00:00<00:16, 14.48it/s]"
     ]
    },
    {
     "name": "stdout",
     "output_type": "stream",
     "text": [
      "accuray: 0.2495\n",
      "0.2495\n"
     ]
    },
    {
     "name": "stderr",
     "output_type": "stream",
     "text": [
      "100%|██████████| 246/246 [02:56<00:00,  1.40it/s]\n",
      "100%|██████████| 1230/1230 [00:01<00:00, 795.39it/s]\n",
      "  1%|          | 2/246 [00:00<00:16, 14.48it/s]"
     ]
    },
    {
     "name": "stdout",
     "output_type": "stream",
     "text": [
      "accuray: 0.2505833333333333\n",
      "0.2505833333333333\n"
     ]
    },
    {
     "name": "stderr",
     "output_type": "stream",
     "text": [
      "100%|██████████| 246/246 [03:00<00:00,  1.36it/s]\n",
      "100%|██████████| 1230/1230 [00:01<00:00, 794.36it/s]\n",
      "  1%|          | 2/246 [00:00<00:16, 14.38it/s]"
     ]
    },
    {
     "name": "stdout",
     "output_type": "stream",
     "text": [
      "accuray: 0.25266666666666665\n",
      "0.25266666666666665\n"
     ]
    },
    {
     "name": "stderr",
     "output_type": "stream",
     "text": [
      "100%|██████████| 246/246 [02:58<00:00,  1.38it/s]\n",
      "100%|██████████| 1230/1230 [00:01<00:00, 802.67it/s]\n",
      "  1%|          | 2/246 [00:00<00:16, 14.80it/s]"
     ]
    },
    {
     "name": "stdout",
     "output_type": "stream",
     "text": [
      "accuray: 0.252625\n",
      "0.252625\n"
     ]
    },
    {
     "name": "stderr",
     "output_type": "stream",
     "text": [
      "100%|██████████| 246/246 [03:03<00:00,  1.34it/s]\n",
      "100%|██████████| 1230/1230 [00:01<00:00, 846.92it/s]\n",
      "  1%|          | 2/246 [00:00<00:16, 14.59it/s]"
     ]
    },
    {
     "name": "stdout",
     "output_type": "stream",
     "text": [
      "accuray: 0.2535833333333333\n",
      "0.2535833333333333\n"
     ]
    },
    {
     "name": "stderr",
     "output_type": "stream",
     "text": [
      "100%|██████████| 246/246 [02:55<00:00,  1.40it/s]\n",
      "100%|██████████| 1230/1230 [00:01<00:00, 778.27it/s]\n",
      "  1%|          | 2/246 [00:00<00:16, 14.59it/s]"
     ]
    },
    {
     "name": "stdout",
     "output_type": "stream",
     "text": [
      "accuray: 0.256125\n",
      "0.256125\n"
     ]
    },
    {
     "name": "stderr",
     "output_type": "stream",
     "text": [
      "100%|██████████| 246/246 [02:58<00:00,  1.38it/s]\n",
      "100%|██████████| 1230/1230 [00:01<00:00, 732.79it/s]\n",
      "  1%|          | 2/246 [00:00<00:16, 14.69it/s]"
     ]
    },
    {
     "name": "stdout",
     "output_type": "stream",
     "text": [
      "accuray: 0.25745833333333334\n",
      "0.25745833333333334\n"
     ]
    },
    {
     "name": "stderr",
     "output_type": "stream",
     "text": [
      "100%|██████████| 246/246 [02:55<00:00,  1.40it/s]\n",
      "100%|██████████| 1230/1230 [00:01<00:00, 854.58it/s]\n",
      "  1%|          | 2/246 [00:00<00:16, 14.80it/s]"
     ]
    },
    {
     "name": "stdout",
     "output_type": "stream",
     "text": [
      "accuray: 0.256875\n",
      "0.256875\n"
     ]
    },
    {
     "name": "stderr",
     "output_type": "stream",
     "text": [
      "100%|██████████| 246/246 [02:59<00:00,  1.37it/s]\n",
      "100%|██████████| 1230/1230 [00:01<00:00, 846.92it/s]\n",
      "  1%|          | 2/246 [00:00<00:16, 14.80it/s]"
     ]
    },
    {
     "name": "stdout",
     "output_type": "stream",
     "text": [
      "accuray: 0.25804166666666667\n",
      "0.25804166666666667\n"
     ]
    },
    {
     "name": "stderr",
     "output_type": "stream",
     "text": [
      "100%|██████████| 246/246 [03:00<00:00,  1.36it/s]\n",
      "100%|██████████| 1230/1230 [00:01<00:00, 851.03it/s]\n",
      "  1%|          | 2/246 [00:00<00:16, 14.91it/s]"
     ]
    },
    {
     "name": "stdout",
     "output_type": "stream",
     "text": [
      "accuray: 0.25866666666666666\n",
      "0.25866666666666666\n"
     ]
    },
    {
     "name": "stderr",
     "output_type": "stream",
     "text": [
      "100%|██████████| 246/246 [02:57<00:00,  1.38it/s]\n",
      "100%|██████████| 1230/1230 [00:01<00:00, 784.73it/s]\n",
      "  1%|          | 2/246 [00:00<00:16, 14.80it/s]"
     ]
    },
    {
     "name": "stdout",
     "output_type": "stream",
     "text": [
      "accuray: 0.260625\n",
      "0.260625\n"
     ]
    },
    {
     "name": "stderr",
     "output_type": "stream",
     "text": [
      "100%|██████████| 246/246 [02:55<00:00,  1.40it/s]\n",
      "100%|██████████| 1230/1230 [00:01<00:00, 852.80it/s]\n",
      "  1%|          | 2/246 [00:00<00:16, 15.02it/s]"
     ]
    },
    {
     "name": "stdout",
     "output_type": "stream",
     "text": [
      "accuray: 0.25879166666666664\n",
      "0.25879166666666664\n"
     ]
    },
    {
     "name": "stderr",
     "output_type": "stream",
     "text": [
      "100%|██████████| 246/246 [02:59<00:00,  1.37it/s]\n",
      "100%|██████████| 1230/1230 [00:01<00:00, 710.75it/s]\n",
      "  1%|          | 2/246 [00:00<00:16, 14.48it/s]"
     ]
    },
    {
     "name": "stdout",
     "output_type": "stream",
     "text": [
      "accuray: 0.2605\n",
      "0.2605\n"
     ]
    },
    {
     "name": "stderr",
     "output_type": "stream",
     "text": [
      "100%|██████████| 246/246 [02:54<00:00,  1.41it/s]\n",
      "100%|██████████| 1230/1230 [00:01<00:00, 824.75it/s]\n",
      "  1%|          | 2/246 [00:00<00:17, 14.07it/s]"
     ]
    },
    {
     "name": "stdout",
     "output_type": "stream",
     "text": [
      "accuray: 0.258875\n",
      "0.258875\n"
     ]
    },
    {
     "name": "stderr",
     "output_type": "stream",
     "text": [
      "100%|██████████| 246/246 [02:55<00:00,  1.40it/s]\n",
      "100%|██████████| 1230/1230 [00:01<00:00, 731.04it/s]\n",
      "  1%|          | 2/246 [00:00<00:16, 14.38it/s]"
     ]
    },
    {
     "name": "stdout",
     "output_type": "stream",
     "text": [
      "accuray: 0.261\n",
      "0.261\n"
     ]
    },
    {
     "name": "stderr",
     "output_type": "stream",
     "text": [
      "100%|██████████| 246/246 [02:56<00:00,  1.39it/s]\n",
      "100%|██████████| 1230/1230 [00:01<00:00, 751.49it/s]\n",
      "  1%|          | 2/246 [00:00<00:19, 12.73it/s]"
     ]
    },
    {
     "name": "stdout",
     "output_type": "stream",
     "text": [
      "accuray: 0.26316666666666666\n",
      "0.26316666666666666\n"
     ]
    },
    {
     "name": "stderr",
     "output_type": "stream",
     "text": [
      "100%|██████████| 246/246 [02:54<00:00,  1.41it/s]\n",
      "100%|██████████| 1230/1230 [00:01<00:00, 811.68it/s]\n",
      "  1%|          | 2/246 [00:00<00:17, 13.88it/s]"
     ]
    },
    {
     "name": "stdout",
     "output_type": "stream",
     "text": [
      "accuray: 0.2635416666666667\n",
      "0.2635416666666667\n"
     ]
    },
    {
     "name": "stderr",
     "output_type": "stream",
     "text": [
      "100%|██████████| 246/246 [02:48<00:00,  1.46it/s]\n",
      "100%|██████████| 1230/1230 [00:01<00:00, 824.20it/s]\n",
      "  1%|          | 2/246 [00:00<00:17, 14.17it/s]"
     ]
    },
    {
     "name": "stdout",
     "output_type": "stream",
     "text": [
      "accuray: 0.262625\n",
      "0.262625\n"
     ]
    },
    {
     "name": "stderr",
     "output_type": "stream",
     "text": [
      "100%|██████████| 246/246 [02:56<00:00,  1.39it/s]\n",
      "100%|██████████| 1230/1230 [00:01<00:00, 705.85it/s]\n",
      "  1%|          | 2/246 [00:00<00:16, 14.59it/s]"
     ]
    },
    {
     "name": "stdout",
     "output_type": "stream",
     "text": [
      "accuray: 0.26379166666666665\n",
      "0.26379166666666665\n"
     ]
    },
    {
     "name": "stderr",
     "output_type": "stream",
     "text": [
      "100%|██████████| 246/246 [02:59<00:00,  1.37it/s]\n",
      "100%|██████████| 1230/1230 [00:01<00:00, 760.92it/s]\n",
      "  1%|          | 2/246 [00:00<00:16, 14.38it/s]"
     ]
    },
    {
     "name": "stdout",
     "output_type": "stream",
     "text": [
      "accuray: 0.2649166666666667\n",
      "0.2649166666666667\n"
     ]
    },
    {
     "name": "stderr",
     "output_type": "stream",
     "text": [
      "100%|██████████| 246/246 [02:59<00:00,  1.37it/s]\n",
      "100%|██████████| 1230/1230 [00:01<00:00, 768.53it/s]\n",
      "  1%|          | 2/246 [00:00<00:16, 14.59it/s]"
     ]
    },
    {
     "name": "stdout",
     "output_type": "stream",
     "text": [
      "accuray: 0.26575\n",
      "0.26575\n"
     ]
    },
    {
     "name": "stderr",
     "output_type": "stream",
     "text": [
      "100%|██████████| 246/246 [02:54<00:00,  1.41it/s]\n",
      "100%|██████████| 1230/1230 [00:01<00:00, 818.71it/s]\n",
      "  1%|          | 2/246 [00:00<00:16, 14.80it/s]"
     ]
    },
    {
     "name": "stdout",
     "output_type": "stream",
     "text": [
      "accuray: 0.2655416666666667\n",
      "0.2655416666666667\n"
     ]
    },
    {
     "name": "stderr",
     "output_type": "stream",
     "text": [
      "100%|██████████| 246/246 [02:57<00:00,  1.38it/s]\n",
      "100%|██████████| 1230/1230 [00:01<00:00, 796.42it/s]\n",
      "  1%|          | 2/246 [00:00<00:16, 14.80it/s]"
     ]
    },
    {
     "name": "stdout",
     "output_type": "stream",
     "text": [
      "accuray: 0.2655\n",
      "0.2655\n"
     ]
    },
    {
     "name": "stderr",
     "output_type": "stream",
     "text": [
      "100%|██████████| 246/246 [02:55<00:00,  1.40it/s]\n",
      "100%|██████████| 1230/1230 [00:01<00:00, 738.96it/s]\n",
      "  1%|          | 2/246 [00:00<00:17, 14.27it/s]"
     ]
    },
    {
     "name": "stdout",
     "output_type": "stream",
     "text": [
      "accuray: 0.26679166666666665\n",
      "0.26679166666666665\n"
     ]
    },
    {
     "name": "stderr",
     "output_type": "stream",
     "text": [
      "100%|██████████| 246/246 [02:50<00:00,  1.44it/s]\n",
      "100%|██████████| 1230/1230 [00:07<00:00, 166.13it/s]\n",
      "  1%|          | 2/246 [00:00<00:16, 14.38it/s]"
     ]
    },
    {
     "name": "stdout",
     "output_type": "stream",
     "text": [
      "accuray: 0.2668333333333333\n",
      "0.2668333333333333\n"
     ]
    },
    {
     "name": "stderr",
     "output_type": "stream",
     "text": [
      "100%|██████████| 246/246 [02:54<00:00,  1.41it/s]\n",
      "100%|██████████| 1230/1230 [00:07<00:00, 167.67it/s]\n",
      "  1%|          | 2/246 [00:00<00:16, 14.48it/s]"
     ]
    },
    {
     "name": "stdout",
     "output_type": "stream",
     "text": [
      "accuray: 0.2685\n",
      "0.2685\n"
     ]
    },
    {
     "name": "stderr",
     "output_type": "stream",
     "text": [
      "100%|██████████| 246/246 [02:50<00:00,  1.44it/s]\n",
      "100%|██████████| 1230/1230 [00:01<00:00, 744.33it/s]\n",
      "\u001b[34m\u001b[1mwandb\u001b[0m: \u001b[33mWARNING\u001b[0m A graphql request initiated by the public wandb API timed out (timeout=9 sec). Create a new API with an integer timeout larger than 9, e.g., `api = wandb.Api(timeout=19)` to increase the graphql timeout.\n",
      "  1%|          | 2/246 [00:00<00:16, 14.59it/s]"
     ]
    },
    {
     "name": "stdout",
     "output_type": "stream",
     "text": [
      "accuray: 0.2684166666666667\n",
      "0.2684166666666667\n"
     ]
    },
    {
     "name": "stderr",
     "output_type": "stream",
     "text": [
      "100%|██████████| 246/246 [02:56<00:00,  1.40it/s]\n",
      "100%|██████████| 1230/1230 [00:01<00:00, 826.97it/s]\n",
      "  1%|          | 2/246 [00:00<00:16, 14.48it/s]"
     ]
    },
    {
     "name": "stdout",
     "output_type": "stream",
     "text": [
      "accuray: 0.26879166666666665\n",
      "0.26879166666666665\n"
     ]
    },
    {
     "name": "stderr",
     "output_type": "stream",
     "text": [
      "100%|██████████| 246/246 [02:58<00:00,  1.38it/s]\n",
      "100%|██████████| 1230/1230 [00:01<00:00, 818.16it/s]\n",
      "  1%|          | 2/246 [00:00<00:16, 14.48it/s]"
     ]
    },
    {
     "name": "stdout",
     "output_type": "stream",
     "text": [
      "accuray: 0.27045833333333336\n",
      "0.27045833333333336\n"
     ]
    },
    {
     "name": "stderr",
     "output_type": "stream",
     "text": [
      "100%|██████████| 246/246 [02:47<00:00,  1.47it/s]\n",
      "100%|██████████| 1230/1230 [00:01<00:00, 735.86it/s]\n",
      "  1%|          | 2/246 [00:00<00:16, 14.69it/s]"
     ]
    },
    {
     "name": "stdout",
     "output_type": "stream",
     "text": [
      "accuray: 0.27016666666666667\n",
      "0.27016666666666667\n"
     ]
    },
    {
     "name": "stderr",
     "output_type": "stream",
     "text": [
      "100%|██████████| 246/246 [02:58<00:00,  1.38it/s]\n",
      "100%|██████████| 1230/1230 [00:01<00:00, 726.29it/s]\n",
      "  1%|          | 2/246 [00:00<00:17, 14.17it/s]"
     ]
    },
    {
     "name": "stdout",
     "output_type": "stream",
     "text": [
      "accuray: 0.27091666666666664\n",
      "0.27091666666666664\n"
     ]
    },
    {
     "name": "stderr",
     "output_type": "stream",
     "text": [
      "100%|██████████| 246/246 [02:52<00:00,  1.43it/s]\n",
      "100%|██████████| 1230/1230 [00:01<00:00, 838.26it/s]\n",
      "  1%|          | 2/246 [00:00<00:16, 14.38it/s]"
     ]
    },
    {
     "name": "stdout",
     "output_type": "stream",
     "text": [
      "accuray: 0.271125\n",
      "0.271125\n"
     ]
    },
    {
     "name": "stderr",
     "output_type": "stream",
     "text": [
      "100%|██████████| 246/246 [02:59<00:00,  1.37it/s]\n",
      "100%|██████████| 1230/1230 [00:01<00:00, 707.88it/s]\n",
      "  1%|          | 2/246 [00:00<00:17, 13.97it/s]"
     ]
    },
    {
     "name": "stdout",
     "output_type": "stream",
     "text": [
      "accuray: 0.27116666666666667\n",
      "0.27116666666666667\n"
     ]
    },
    {
     "name": "stderr",
     "output_type": "stream",
     "text": [
      "100%|██████████| 246/246 [02:54<00:00,  1.41it/s]\n",
      "100%|██████████| 1230/1230 [00:01<00:00, 819.26it/s]\n",
      "  1%|          | 2/246 [00:00<00:16, 14.64it/s]"
     ]
    },
    {
     "name": "stdout",
     "output_type": "stream",
     "text": [
      "accuray: 0.2715\n",
      "0.2715\n"
     ]
    },
    {
     "name": "stderr",
     "output_type": "stream",
     "text": [
      "100%|██████████| 246/246 [02:58<00:00,  1.38it/s]\n",
      "100%|██████████| 1230/1230 [00:01<00:00, 767.57it/s]\n",
      "  1%|          | 2/246 [00:00<00:16, 14.59it/s]"
     ]
    },
    {
     "name": "stdout",
     "output_type": "stream",
     "text": [
      "accuray: 0.27145833333333336\n",
      "0.27145833333333336\n"
     ]
    },
    {
     "name": "stderr",
     "output_type": "stream",
     "text": [
      "100%|██████████| 246/246 [02:51<00:00,  1.43it/s]\n",
      "100%|██████████| 1230/1230 [00:07<00:00, 164.69it/s]\n",
      "  1%|          | 2/246 [00:00<00:17, 14.33it/s]"
     ]
    },
    {
     "name": "stdout",
     "output_type": "stream",
     "text": [
      "accuray: 0.27058333333333334\n",
      "0.27058333333333334\n"
     ]
    },
    {
     "name": "stderr",
     "output_type": "stream",
     "text": [
      "100%|██████████| 246/246 [02:55<00:00,  1.40it/s]\n",
      "100%|██████████| 1230/1230 [00:01<00:00, 780.24it/s]\n",
      "  1%|          | 2/246 [00:00<00:16, 14.48it/s]"
     ]
    },
    {
     "name": "stdout",
     "output_type": "stream",
     "text": [
      "accuray: 0.27195833333333336\n",
      "0.27195833333333336\n"
     ]
    },
    {
     "name": "stderr",
     "output_type": "stream",
     "text": [
      "100%|██████████| 246/246 [02:57<00:00,  1.38it/s]\n",
      "100%|██████████| 1230/1230 [00:01<00:00, 846.92it/s]\n",
      "  1%|          | 2/246 [00:00<00:16, 14.59it/s]"
     ]
    },
    {
     "name": "stdout",
     "output_type": "stream",
     "text": [
      "accuray: 0.27195833333333336\n",
      "0.27195833333333336\n"
     ]
    },
    {
     "name": "stderr",
     "output_type": "stream",
     "text": [
      "100%|██████████| 246/246 [02:50<00:00,  1.45it/s]\n",
      "100%|██████████| 1230/1230 [00:01<00:00, 856.36it/s]\n",
      "  1%|          | 2/246 [00:00<00:16, 14.80it/s]"
     ]
    },
    {
     "name": "stdout",
     "output_type": "stream",
     "text": [
      "accuray: 0.27241666666666664\n",
      "0.27241666666666664\n"
     ]
    },
    {
     "name": "stderr",
     "output_type": "stream",
     "text": [
      "100%|██████████| 246/246 [02:57<00:00,  1.39it/s]\n",
      "100%|██████████| 1230/1230 [00:01<00:00, 716.13it/s]\n",
      "  1%|          | 2/246 [00:00<00:16, 14.69it/s]"
     ]
    },
    {
     "name": "stdout",
     "output_type": "stream",
     "text": [
      "accuray: 0.27279166666666665\n",
      "0.27279166666666665\n"
     ]
    },
    {
     "name": "stderr",
     "output_type": "stream",
     "text": [
      "100%|██████████| 246/246 [02:49<00:00,  1.45it/s]\n",
      "100%|██████████| 1230/1230 [00:01<00:00, 754.38it/s]\n",
      "  1%|          | 2/246 [00:00<00:16, 14.69it/s]"
     ]
    },
    {
     "name": "stdout",
     "output_type": "stream",
     "text": [
      "accuray: 0.27329166666666665\n",
      "0.27329166666666665\n"
     ]
    },
    {
     "name": "stderr",
     "output_type": "stream",
     "text": [
      "100%|██████████| 246/246 [02:58<00:00,  1.38it/s]\n",
      "100%|██████████| 1230/1230 [00:01<00:00, 644.07it/s]\n",
      "  1%|          | 2/246 [00:00<00:16, 14.48it/s]"
     ]
    },
    {
     "name": "stdout",
     "output_type": "stream",
     "text": [
      "accuray: 0.273125\n",
      "0.273125\n"
     ]
    },
    {
     "name": "stderr",
     "output_type": "stream",
     "text": [
      "100%|██████████| 246/246 [02:48<00:00,  1.46it/s]\n",
      "100%|██████████| 1230/1230 [00:01<00:00, 774.34it/s]\n",
      "  1%|          | 2/246 [00:00<00:16, 14.38it/s]"
     ]
    },
    {
     "name": "stdout",
     "output_type": "stream",
     "text": [
      "accuray: 0.27395833333333336\n",
      "0.27395833333333336\n"
     ]
    },
    {
     "name": "stderr",
     "output_type": "stream",
     "text": [
      "100%|██████████| 246/246 [02:53<00:00,  1.42it/s]\n",
      "100%|██████████| 1230/1230 [00:01<00:00, 849.85it/s]\n",
      "  1%|          | 2/246 [00:00<00:16, 14.91it/s]"
     ]
    },
    {
     "name": "stdout",
     "output_type": "stream",
     "text": [
      "accuray: 0.27391666666666664\n",
      "0.27391666666666664\n"
     ]
    },
    {
     "name": "stderr",
     "output_type": "stream",
     "text": [
      "100%|██████████| 246/246 [02:52<00:00,  1.42it/s]\n",
      "100%|██████████| 1230/1230 [00:01<00:00, 792.83it/s]\n",
      "  1%|          | 2/246 [00:00<00:20, 12.18it/s]"
     ]
    },
    {
     "name": "stdout",
     "output_type": "stream",
     "text": [
      "accuray: 0.27516666666666667\n",
      "0.27516666666666667\n"
     ]
    },
    {
     "name": "stderr",
     "output_type": "stream",
     "text": [
      "100%|██████████| 246/246 [02:57<00:00,  1.39it/s]\n",
      "100%|██████████| 1230/1230 [00:01<00:00, 793.28it/s]\n",
      "  1%|          | 2/246 [00:00<00:16, 14.48it/s]"
     ]
    },
    {
     "name": "stdout",
     "output_type": "stream",
     "text": [
      "accuray: 0.27445833333333336\n",
      "0.27445833333333336\n"
     ]
    },
    {
     "name": "stderr",
     "output_type": "stream",
     "text": [
      "100%|██████████| 246/246 [02:50<00:00,  1.44it/s]\n",
      "100%|██████████| 1230/1230 [00:01<00:00, 852.21it/s]\n",
      "  1%|          | 2/246 [00:00<00:16, 14.69it/s]"
     ]
    },
    {
     "name": "stdout",
     "output_type": "stream",
     "text": [
      "accuray: 0.27616666666666667\n",
      "0.27616666666666667\n"
     ]
    },
    {
     "name": "stderr",
     "output_type": "stream",
     "text": [
      "100%|██████████| 246/246 [02:55<00:00,  1.40it/s]\n",
      "100%|██████████| 1230/1230 [00:01<00:00, 851.62it/s]\n",
      "  1%|          | 2/246 [00:00<00:16, 14.59it/s]"
     ]
    },
    {
     "name": "stdout",
     "output_type": "stream",
     "text": [
      "accuray: 0.2748333333333333\n",
      "0.2748333333333333\n"
     ]
    },
    {
     "name": "stderr",
     "output_type": "stream",
     "text": [
      "100%|██████████| 246/246 [02:49<00:00,  1.45it/s]\n",
      "100%|██████████| 1230/1230 [00:01<00:00, 806.74it/s]\n",
      "  1%|          | 2/246 [00:00<00:16, 14.80it/s]"
     ]
    },
    {
     "name": "stdout",
     "output_type": "stream",
     "text": [
      "accuray: 0.27470833333333333\n",
      "0.27470833333333333\n"
     ]
    },
    {
     "name": "stderr",
     "output_type": "stream",
     "text": [
      "100%|██████████| 246/246 [02:51<00:00,  1.44it/s]\n",
      "100%|██████████| 1230/1230 [00:01<00:00, 848.09it/s]\n",
      "  1%|          | 2/246 [00:00<00:16, 14.59it/s]"
     ]
    },
    {
     "name": "stdout",
     "output_type": "stream",
     "text": [
      "accuray: 0.27579166666666666\n",
      "0.27579166666666666\n"
     ]
    },
    {
     "name": "stderr",
     "output_type": "stream",
     "text": [
      "100%|██████████| 246/246 [02:51<00:00,  1.43it/s]\n",
      "100%|██████████| 1230/1230 [00:01<00:00, 846.34it/s]\n",
      "  1%|          | 2/246 [00:00<00:16, 14.59it/s]"
     ]
    },
    {
     "name": "stdout",
     "output_type": "stream",
     "text": [
      "accuray: 0.276625\n",
      "0.276625\n"
     ]
    },
    {
     "name": "stderr",
     "output_type": "stream",
     "text": [
      "100%|██████████| 246/246 [02:53<00:00,  1.42it/s]\n",
      "100%|██████████| 1230/1230 [00:01<00:00, 850.44it/s]\n",
      "  1%|          | 2/246 [00:00<00:16, 14.48it/s]"
     ]
    },
    {
     "name": "stdout",
     "output_type": "stream",
     "text": [
      "accuray: 0.27725\n",
      "0.27725\n"
     ]
    },
    {
     "name": "stderr",
     "output_type": "stream",
     "text": [
      "100%|██████████| 246/246 [02:51<00:00,  1.43it/s]\n",
      "100%|██████████| 1230/1230 [00:01<00:00, 853.98it/s]\n",
      "  1%|          | 2/246 [00:00<00:16, 14.38it/s]"
     ]
    },
    {
     "name": "stdout",
     "output_type": "stream",
     "text": [
      "accuray: 0.27658333333333335\n",
      "0.27658333333333335\n"
     ]
    },
    {
     "name": "stderr",
     "output_type": "stream",
     "text": [
      "100%|██████████| 246/246 [02:49<00:00,  1.45it/s]\n",
      "100%|██████████| 1230/1230 [00:01<00:00, 841.12it/s]\n",
      "  1%|          | 2/246 [00:00<00:17, 13.88it/s]"
     ]
    },
    {
     "name": "stdout",
     "output_type": "stream",
     "text": [
      "accuray: 0.27479166666666666\n",
      "0.27479166666666666\n"
     ]
    },
    {
     "name": "stderr",
     "output_type": "stream",
     "text": [
      "100%|██████████| 246/246 [02:56<00:00,  1.40it/s]\n",
      "100%|██████████| 1230/1230 [00:01<00:00, 846.92it/s]\n",
      "  1%|          | 2/246 [00:00<00:16, 14.91it/s]"
     ]
    },
    {
     "name": "stdout",
     "output_type": "stream",
     "text": [
      "accuray: 0.2769583333333333\n",
      "0.2769583333333333\n"
     ]
    },
    {
     "name": "stderr",
     "output_type": "stream",
     "text": [
      "100%|██████████| 246/246 [02:50<00:00,  1.44it/s]\n",
      "100%|██████████| 1230/1230 [00:01<00:00, 843.43it/s]\n",
      "  1%|          | 2/246 [00:00<00:17, 13.97it/s]"
     ]
    },
    {
     "name": "stdout",
     "output_type": "stream",
     "text": [
      "accuray: 0.27591666666666664\n",
      "0.27591666666666664\n"
     ]
    },
    {
     "name": "stderr",
     "output_type": "stream",
     "text": [
      "100%|██████████| 246/246 [02:49<00:00,  1.45it/s]\n",
      "100%|██████████| 1230/1230 [00:01<00:00, 839.97it/s]\n",
      "  1%|          | 2/246 [00:00<00:16, 14.38it/s]"
     ]
    },
    {
     "name": "stdout",
     "output_type": "stream",
     "text": [
      "accuray: 0.27675\n",
      "0.27675\n"
     ]
    },
    {
     "name": "stderr",
     "output_type": "stream",
     "text": [
      "100%|██████████| 246/246 [02:53<00:00,  1.42it/s]\n",
      "100%|██████████| 1230/1230 [00:01<00:00, 856.36it/s]\n",
      "  1%|          | 2/246 [00:00<00:16, 14.48it/s]"
     ]
    },
    {
     "name": "stdout",
     "output_type": "stream",
     "text": [
      "accuray: 0.276875\n",
      "0.276875\n"
     ]
    },
    {
     "name": "stderr",
     "output_type": "stream",
     "text": [
      "100%|██████████| 246/246 [02:48<00:00,  1.46it/s]\n",
      "100%|██████████| 1230/1230 [00:01<00:00, 849.26it/s]\n",
      "  1%|          | 2/246 [00:00<00:17, 14.27it/s]"
     ]
    },
    {
     "name": "stdout",
     "output_type": "stream",
     "text": [
      "accuray: 0.2775\n",
      "0.2775\n"
     ]
    },
    {
     "name": "stderr",
     "output_type": "stream",
     "text": [
      "100%|██████████| 246/246 [02:50<00:00,  1.44it/s]\n",
      "100%|██████████| 1230/1230 [00:01<00:00, 841.12it/s]\n",
      "  1%|          | 2/246 [00:00<00:16, 14.48it/s]"
     ]
    },
    {
     "name": "stdout",
     "output_type": "stream",
     "text": [
      "accuray: 0.2755416666666667\n",
      "0.2755416666666667\n"
     ]
    },
    {
     "name": "stderr",
     "output_type": "stream",
     "text": [
      "100%|██████████| 246/246 [02:50<00:00,  1.44it/s]\n",
      "100%|██████████| 1230/1230 [00:01<00:00, 746.59it/s]\n",
      "  1%|          | 2/246 [00:00<00:16, 14.80it/s]"
     ]
    },
    {
     "name": "stdout",
     "output_type": "stream",
     "text": [
      "accuray: 0.27808333333333335\n",
      "0.27808333333333335\n"
     ]
    },
    {
     "name": "stderr",
     "output_type": "stream",
     "text": [
      "100%|██████████| 246/246 [02:49<00:00,  1.45it/s]\n",
      "100%|██████████| 1230/1230 [00:01<00:00, 853.39it/s]\n",
      "  1%|          | 2/246 [00:00<00:16, 14.59it/s]"
     ]
    },
    {
     "name": "stdout",
     "output_type": "stream",
     "text": [
      "accuray: 0.277875\n",
      "0.277875\n"
     ]
    },
    {
     "name": "stderr",
     "output_type": "stream",
     "text": [
      "100%|██████████| 246/246 [02:48<00:00,  1.46it/s]\n",
      "100%|██████████| 1230/1230 [00:01<00:00, 846.34it/s]\n",
      "  1%|          | 2/246 [00:00<00:16, 14.80it/s]"
     ]
    },
    {
     "name": "stdout",
     "output_type": "stream",
     "text": [
      "accuray: 0.2775416666666667\n",
      "0.2775416666666667\n"
     ]
    },
    {
     "name": "stderr",
     "output_type": "stream",
     "text": [
      "100%|██████████| 246/246 [02:51<00:00,  1.44it/s]\n",
      "100%|██████████| 1230/1230 [00:01<00:00, 851.62it/s]\n",
      "  1%|          | 2/246 [00:00<00:16, 14.59it/s]"
     ]
    },
    {
     "name": "stdout",
     "output_type": "stream",
     "text": [
      "accuray: 0.277875\n",
      "0.277875\n"
     ]
    },
    {
     "name": "stderr",
     "output_type": "stream",
     "text": [
      "100%|██████████| 246/246 [02:49<00:00,  1.45it/s]\n",
      "100%|██████████| 1230/1230 [00:01<00:00, 844.01it/s]\n",
      "  1%|          | 2/246 [00:00<00:16, 14.69it/s]"
     ]
    },
    {
     "name": "stdout",
     "output_type": "stream",
     "text": [
      "accuray: 0.2795416666666667\n",
      "0.2795416666666667\n"
     ]
    },
    {
     "name": "stderr",
     "output_type": "stream",
     "text": [
      "100%|██████████| 246/246 [02:50<00:00,  1.44it/s]\n",
      "100%|██████████| 1230/1230 [00:01<00:00, 852.21it/s]\n",
      "  1%|          | 2/246 [00:00<00:16, 14.59it/s]"
     ]
    },
    {
     "name": "stdout",
     "output_type": "stream",
     "text": [
      "accuray: 0.27779166666666666\n",
      "0.27779166666666666\n"
     ]
    },
    {
     "name": "stderr",
     "output_type": "stream",
     "text": [
      "100%|██████████| 246/246 [02:50<00:00,  1.44it/s]\n",
      "100%|██████████| 1230/1230 [00:01<00:00, 856.36it/s]\n",
      "  1%|          | 2/246 [00:00<00:16, 14.69it/s]"
     ]
    },
    {
     "name": "stdout",
     "output_type": "stream",
     "text": [
      "accuray: 0.2776666666666667\n",
      "0.2776666666666667\n"
     ]
    },
    {
     "name": "stderr",
     "output_type": "stream",
     "text": [
      "100%|██████████| 246/246 [02:49<00:00,  1.45it/s]\n",
      "100%|██████████| 1230/1230 [00:01<00:00, 772.88it/s]\n",
      "  1%|          | 2/246 [00:00<00:16, 14.38it/s]"
     ]
    },
    {
     "name": "stdout",
     "output_type": "stream",
     "text": [
      "accuray: 0.27741666666666664\n",
      "0.27741666666666664\n"
     ]
    },
    {
     "name": "stderr",
     "output_type": "stream",
     "text": [
      "100%|██████████| 246/246 [02:49<00:00,  1.45it/s]\n",
      "100%|██████████| 1230/1230 [00:01<00:00, 837.68it/s]\n",
      "  1%|          | 2/246 [00:00<00:16, 14.69it/s]"
     ]
    },
    {
     "name": "stdout",
     "output_type": "stream",
     "text": [
      "accuray: 0.27858333333333335\n",
      "0.27858333333333335\n"
     ]
    },
    {
     "name": "stderr",
     "output_type": "stream",
     "text": [
      "100%|██████████| 246/246 [02:50<00:00,  1.44it/s]\n",
      "100%|██████████| 1230/1230 [00:01<00:00, 838.26it/s]\n",
      "  1%|          | 2/246 [00:00<00:17, 14.17it/s]"
     ]
    },
    {
     "name": "stdout",
     "output_type": "stream",
     "text": [
      "accuray: 0.278375\n",
      "0.278375\n"
     ]
    },
    {
     "name": "stderr",
     "output_type": "stream",
     "text": [
      "100%|██████████| 246/246 [02:48<00:00,  1.46it/s]\n",
      "100%|██████████| 1230/1230 [00:01<00:00, 855.17it/s]\n",
      "  1%|          | 2/246 [00:00<00:16, 14.59it/s]"
     ]
    },
    {
     "name": "stdout",
     "output_type": "stream",
     "text": [
      "accuray: 0.2778333333333333\n",
      "0.2778333333333333\n"
     ]
    },
    {
     "name": "stderr",
     "output_type": "stream",
     "text": [
      "100%|██████████| 246/246 [02:55<00:00,  1.41it/s]\n",
      "100%|██████████| 1230/1230 [00:01<00:00, 810.61it/s]\n",
      "  1%|          | 2/246 [00:00<00:16, 14.48it/s]"
     ]
    },
    {
     "name": "stdout",
     "output_type": "stream",
     "text": [
      "accuray: 0.2785\n",
      "0.2785\n"
     ]
    },
    {
     "name": "stderr",
     "output_type": "stream",
     "text": [
      "100%|██████████| 246/246 [02:50<00:00,  1.44it/s]\n",
      "100%|██████████| 1230/1230 [00:01<00:00, 848.68it/s]\n",
      "  1%|          | 2/246 [00:00<00:16, 14.69it/s]"
     ]
    },
    {
     "name": "stdout",
     "output_type": "stream",
     "text": [
      "accuray: 0.279375\n",
      "0.279375\n"
     ]
    },
    {
     "name": "stderr",
     "output_type": "stream",
     "text": [
      "100%|██████████| 246/246 [02:51<00:00,  1.43it/s]\n",
      "100%|██████████| 1230/1230 [00:01<00:00, 773.37it/s]\n",
      "  1%|          | 2/246 [00:00<00:16, 14.69it/s]"
     ]
    },
    {
     "name": "stdout",
     "output_type": "stream",
     "text": [
      "accuray: 0.279375\n",
      "0.279375\n"
     ]
    },
    {
     "name": "stderr",
     "output_type": "stream",
     "text": [
      "100%|██████████| 246/246 [02:48<00:00,  1.46it/s]\n",
      "100%|██████████| 1230/1230 [00:01<00:00, 856.96it/s]\n",
      "  1%|          | 2/246 [00:00<00:16, 14.69it/s]"
     ]
    },
    {
     "name": "stdout",
     "output_type": "stream",
     "text": [
      "accuray: 0.2785\n",
      "0.2785\n"
     ]
    },
    {
     "name": "stderr",
     "output_type": "stream",
     "text": [
      "100%|██████████| 246/246 [02:49<00:00,  1.45it/s]\n",
      "100%|██████████| 1230/1230 [00:01<00:00, 844.01it/s]\n",
      "  1%|          | 2/246 [00:00<00:16, 14.59it/s]"
     ]
    },
    {
     "name": "stdout",
     "output_type": "stream",
     "text": [
      "accuray: 0.2795416666666667\n",
      "0.2795416666666667\n"
     ]
    },
    {
     "name": "stderr",
     "output_type": "stream",
     "text": [
      "100%|██████████| 246/246 [02:53<00:00,  1.42it/s]\n",
      "100%|██████████| 1230/1230 [00:01<00:00, 847.51it/s]\n",
      "  1%|          | 2/246 [00:00<00:16, 14.69it/s]"
     ]
    },
    {
     "name": "stdout",
     "output_type": "stream",
     "text": [
      "accuray: 0.28029166666666666\n",
      "0.28029166666666666\n"
     ]
    },
    {
     "name": "stderr",
     "output_type": "stream",
     "text": [
      "100%|██████████| 246/246 [02:55<00:00,  1.40it/s]\n",
      "100%|██████████| 1230/1230 [00:01<00:00, 847.51it/s]\n",
      "  1%|          | 2/246 [00:00<00:16, 14.69it/s]"
     ]
    },
    {
     "name": "stdout",
     "output_type": "stream",
     "text": [
      "accuray: 0.2798333333333333\n",
      "0.2798333333333333\n"
     ]
    },
    {
     "name": "stderr",
     "output_type": "stream",
     "text": [
      "100%|██████████| 246/246 [02:51<00:00,  1.43it/s]\n",
      "100%|██████████| 1230/1230 [00:01<00:00, 765.18it/s]\n",
      "  1%|          | 2/246 [00:00<00:16, 14.69it/s]"
     ]
    },
    {
     "name": "stdout",
     "output_type": "stream",
     "text": [
      "accuray: 0.28025\n",
      "0.28025\n"
     ]
    },
    {
     "name": "stderr",
     "output_type": "stream",
     "text": [
      "100%|██████████| 246/246 [02:47<00:00,  1.47it/s]\n",
      "100%|██████████| 1230/1230 [00:01<00:00, 853.39it/s]\n",
      "  1%|          | 2/246 [00:00<00:16, 14.69it/s]"
     ]
    },
    {
     "name": "stdout",
     "output_type": "stream",
     "text": [
      "accuray: 0.279625\n",
      "0.279625\n"
     ]
    },
    {
     "name": "stderr",
     "output_type": "stream",
     "text": [
      "100%|██████████| 246/246 [02:51<00:00,  1.44it/s]\n",
      "100%|██████████| 1230/1230 [00:01<00:00, 846.34it/s]\n",
      "  1%|          | 2/246 [00:00<00:16, 14.80it/s]"
     ]
    },
    {
     "name": "stdout",
     "output_type": "stream",
     "text": [
      "accuray: 0.27975\n",
      "0.27975\n"
     ]
    },
    {
     "name": "stderr",
     "output_type": "stream",
     "text": [
      "100%|██████████| 246/246 [02:51<00:00,  1.43it/s]\n",
      "100%|██████████| 1230/1230 [00:01<00:00, 856.36it/s]\n",
      "  1%|          | 2/246 [00:00<00:16, 14.69it/s]"
     ]
    },
    {
     "name": "stdout",
     "output_type": "stream",
     "text": [
      "accuray: 0.2798333333333333\n",
      "0.2798333333333333\n"
     ]
    },
    {
     "name": "stderr",
     "output_type": "stream",
     "text": [
      "100%|██████████| 246/246 [02:50<00:00,  1.44it/s]\n",
      "100%|██████████| 1230/1230 [00:01<00:00, 852.80it/s]\n",
      "  1%|          | 2/246 [00:00<00:16, 14.48it/s]"
     ]
    },
    {
     "name": "stdout",
     "output_type": "stream",
     "text": [
      "accuray: 0.27979166666666666\n",
      "0.27979166666666666\n"
     ]
    },
    {
     "name": "stderr",
     "output_type": "stream",
     "text": [
      "100%|██████████| 246/246 [02:49<00:00,  1.45it/s]\n",
      "100%|██████████| 1230/1230 [00:01<00:00, 760.92it/s]\n",
      "  1%|          | 2/246 [00:00<00:17, 14.17it/s]"
     ]
    },
    {
     "name": "stdout",
     "output_type": "stream",
     "text": [
      "accuray: 0.28008333333333335\n",
      "0.28008333333333335\n"
     ]
    },
    {
     "name": "stderr",
     "output_type": "stream",
     "text": [
      "100%|██████████| 246/246 [02:48<00:00,  1.46it/s]\n",
      "100%|██████████| 1230/1230 [00:01<00:00, 855.17it/s]\n",
      "  1%|          | 2/246 [00:00<00:16, 14.69it/s]"
     ]
    },
    {
     "name": "stdout",
     "output_type": "stream",
     "text": [
      "accuray: 0.2806666666666667\n",
      "0.2806666666666667\n"
     ]
    },
    {
     "name": "stderr",
     "output_type": "stream",
     "text": [
      "100%|██████████| 246/246 [02:47<00:00,  1.47it/s]\n",
      "100%|██████████| 1230/1230 [00:01<00:00, 815.99it/s]\n",
      "  1%|          | 2/246 [00:00<00:17, 14.27it/s]"
     ]
    },
    {
     "name": "stdout",
     "output_type": "stream",
     "text": [
      "accuray: 0.28125\n",
      "0.28125\n"
     ]
    },
    {
     "name": "stderr",
     "output_type": "stream",
     "text": [
      "100%|██████████| 246/246 [02:52<00:00,  1.43it/s]\n",
      "100%|██████████| 1230/1230 [00:01<00:00, 849.26it/s]\n",
      "  1%|          | 2/246 [00:00<00:16, 14.38it/s]"
     ]
    },
    {
     "name": "stdout",
     "output_type": "stream",
     "text": [
      "accuray: 0.2809583333333333\n",
      "0.2809583333333333\n"
     ]
    },
    {
     "name": "stderr",
     "output_type": "stream",
     "text": [
      "100%|██████████| 246/246 [02:49<00:00,  1.45it/s]\n",
      "100%|██████████| 1230/1230 [00:01<00:00, 848.68it/s]\n",
      "  1%|          | 2/246 [00:00<00:16, 14.69it/s]"
     ]
    },
    {
     "name": "stdout",
     "output_type": "stream",
     "text": [
      "accuray: 0.2808333333333333\n",
      "0.2808333333333333\n"
     ]
    },
    {
     "name": "stderr",
     "output_type": "stream",
     "text": [
      "100%|██████████| 246/246 [02:49<00:00,  1.45it/s]\n",
      "100%|██████████| 1230/1230 [00:01<00:00, 745.68it/s]\n",
      "  1%|          | 2/246 [00:00<00:16, 14.59it/s]"
     ]
    },
    {
     "name": "stdout",
     "output_type": "stream",
     "text": [
      "accuray: 0.28070833333333334\n",
      "0.28070833333333334\n"
     ]
    },
    {
     "name": "stderr",
     "output_type": "stream",
     "text": [
      "100%|██████████| 246/246 [02:50<00:00,  1.44it/s]\n",
      "100%|██████████| 1230/1230 [00:01<00:00, 854.58it/s]\n",
      "  1%|          | 2/246 [00:00<00:16, 14.80it/s]"
     ]
    },
    {
     "name": "stdout",
     "output_type": "stream",
     "text": [
      "accuray: 0.28258333333333335\n",
      "0.28258333333333335\n"
     ]
    },
    {
     "name": "stderr",
     "output_type": "stream",
     "text": [
      "100%|██████████| 246/246 [02:49<00:00,  1.45it/s]\n",
      "100%|██████████| 1230/1230 [00:01<00:00, 856.36it/s]\n",
      "  1%|          | 2/246 [00:00<00:16, 14.69it/s]"
     ]
    },
    {
     "name": "stdout",
     "output_type": "stream",
     "text": [
      "accuray: 0.28208333333333335\n",
      "0.28208333333333335\n"
     ]
    },
    {
     "name": "stderr",
     "output_type": "stream",
     "text": [
      "100%|██████████| 246/246 [02:52<00:00,  1.43it/s]\n",
      "100%|██████████| 1230/1230 [00:01<00:00, 845.76it/s]\n",
      "  1%|          | 2/246 [00:00<00:16, 14.69it/s]"
     ]
    },
    {
     "name": "stdout",
     "output_type": "stream",
     "text": [
      "accuray: 0.2820416666666667\n",
      "0.2820416666666667\n"
     ]
    },
    {
     "name": "stderr",
     "output_type": "stream",
     "text": [
      "100%|██████████| 246/246 [02:51<00:00,  1.43it/s]\n",
      "100%|██████████| 1230/1230 [00:01<00:00, 851.62it/s]\n",
      "  1%|          | 2/246 [00:00<00:16, 14.59it/s]"
     ]
    },
    {
     "name": "stdout",
     "output_type": "stream",
     "text": [
      "accuray: 0.282625\n",
      "0.282625\n"
     ]
    },
    {
     "name": "stderr",
     "output_type": "stream",
     "text": [
      "100%|██████████| 246/246 [02:49<00:00,  1.45it/s]\n",
      "100%|██████████| 1230/1230 [00:01<00:00, 760.02it/s]\n",
      "  1%|          | 2/246 [00:00<00:16, 14.69it/s]"
     ]
    },
    {
     "name": "stdout",
     "output_type": "stream",
     "text": [
      "accuray: 0.2821666666666667\n",
      "0.2821666666666667\n"
     ]
    },
    {
     "name": "stderr",
     "output_type": "stream",
     "text": [
      "100%|██████████| 246/246 [02:47<00:00,  1.47it/s]\n",
      "100%|██████████| 1230/1230 [00:01<00:00, 847.50it/s]\n",
      "  1%|          | 2/246 [00:00<00:16, 14.69it/s]"
     ]
    },
    {
     "name": "stdout",
     "output_type": "stream",
     "text": [
      "accuray: 0.28225\n",
      "0.28225\n"
     ]
    },
    {
     "name": "stderr",
     "output_type": "stream",
     "text": [
      "100%|██████████| 246/246 [02:46<00:00,  1.48it/s]\n",
      "100%|██████████| 1230/1230 [00:01<00:00, 830.89it/s]\n",
      "  1%|          | 2/246 [00:00<00:16, 14.91it/s]"
     ]
    },
    {
     "name": "stdout",
     "output_type": "stream",
     "text": [
      "accuray: 0.28220833333333334\n",
      "0.28220833333333334\n"
     ]
    },
    {
     "name": "stderr",
     "output_type": "stream",
     "text": [
      "100%|██████████| 246/246 [02:50<00:00,  1.44it/s]\n",
      "100%|██████████| 1230/1230 [00:01<00:00, 765.18it/s]\n",
      "  1%|          | 2/246 [00:00<00:16, 14.48it/s]"
     ]
    },
    {
     "name": "stdout",
     "output_type": "stream",
     "text": [
      "accuray: 0.283625\n",
      "0.283625\n"
     ]
    },
    {
     "name": "stderr",
     "output_type": "stream",
     "text": [
      "100%|██████████| 246/246 [02:55<00:00,  1.40it/s]\n",
      "100%|██████████| 1230/1230 [00:01<00:00, 833.71it/s]\n",
      "  1%|          | 2/246 [00:00<00:16, 14.59it/s]"
     ]
    },
    {
     "name": "stdout",
     "output_type": "stream",
     "text": [
      "accuray: 0.28370833333333334\n",
      "0.28370833333333334\n"
     ]
    },
    {
     "name": "stderr",
     "output_type": "stream",
     "text": [
      "100%|██████████| 246/246 [02:42<00:00,  1.51it/s]\n",
      "100%|██████████| 1230/1230 [00:01<00:00, 834.84it/s]\n",
      "  1%|          | 2/246 [00:00<00:16, 14.69it/s]"
     ]
    },
    {
     "name": "stdout",
     "output_type": "stream",
     "text": [
      "accuray: 0.2826666666666667\n",
      "0.2826666666666667\n"
     ]
    },
    {
     "name": "stderr",
     "output_type": "stream",
     "text": [
      "100%|██████████| 246/246 [02:48<00:00,  1.46it/s]\n",
      "100%|██████████| 1230/1230 [00:01<00:00, 856.96it/s]\n",
      "  1%|          | 2/246 [00:00<00:16, 14.69it/s]"
     ]
    },
    {
     "name": "stdout",
     "output_type": "stream",
     "text": [
      "accuray: 0.28191666666666665\n",
      "0.28191666666666665\n"
     ]
    },
    {
     "name": "stderr",
     "output_type": "stream",
     "text": [
      "100%|██████████| 246/246 [02:54<00:00,  1.41it/s]\n",
      "100%|██████████| 1230/1230 [00:01<00:00, 855.17it/s]\n",
      "  1%|          | 2/246 [00:00<00:16, 14.59it/s]"
     ]
    },
    {
     "name": "stdout",
     "output_type": "stream",
     "text": [
      "accuray: 0.28320833333333334\n",
      "0.28320833333333334\n"
     ]
    },
    {
     "name": "stderr",
     "output_type": "stream",
     "text": [
      "100%|██████████| 246/246 [02:52<00:00,  1.43it/s]\n",
      "100%|██████████| 1230/1230 [00:01<00:00, 634.43it/s]\n",
      "  1%|          | 2/246 [00:00<00:16, 14.69it/s]"
     ]
    },
    {
     "name": "stdout",
     "output_type": "stream",
     "text": [
      "accuray: 0.28320833333333334\n",
      "0.28320833333333334\n"
     ]
    },
    {
     "name": "stderr",
     "output_type": "stream",
     "text": [
      "100%|██████████| 246/246 [02:48<00:00,  1.46it/s]\n",
      "100%|██████████| 1230/1230 [00:01<00:00, 851.62it/s]\n",
      "  1%|          | 2/246 [00:00<00:16, 14.69it/s]"
     ]
    },
    {
     "name": "stdout",
     "output_type": "stream",
     "text": [
      "accuray: 0.28325\n",
      "0.28325\n"
     ]
    },
    {
     "name": "stderr",
     "output_type": "stream",
     "text": [
      "100%|██████████| 246/246 [02:50<00:00,  1.45it/s]\n",
      "100%|██████████| 1230/1230 [00:01<00:00, 856.36it/s]\n",
      "  1%|          | 2/246 [00:00<00:16, 14.69it/s]"
     ]
    },
    {
     "name": "stdout",
     "output_type": "stream",
     "text": [
      "accuray: 0.283125\n",
      "0.283125\n"
     ]
    },
    {
     "name": "stderr",
     "output_type": "stream",
     "text": [
      "100%|██████████| 246/246 [02:49<00:00,  1.45it/s]\n",
      "100%|██████████| 1230/1230 [00:01<00:00, 855.17it/s]\n",
      "  1%|          | 2/246 [00:00<00:16, 14.69it/s]"
     ]
    },
    {
     "name": "stdout",
     "output_type": "stream",
     "text": [
      "accuray: 0.28329166666666666\n",
      "0.28329166666666666\n"
     ]
    },
    {
     "name": "stderr",
     "output_type": "stream",
     "text": [
      "100%|██████████| 246/246 [02:52<00:00,  1.42it/s]\n",
      "100%|██████████| 1230/1230 [00:01<00:00, 853.98it/s]\n",
      "  1%|          | 2/246 [00:00<00:16, 14.69it/s]"
     ]
    },
    {
     "name": "stdout",
     "output_type": "stream",
     "text": [
      "accuray: 0.2843333333333333\n",
      "0.2843333333333333\n"
     ]
    },
    {
     "name": "stderr",
     "output_type": "stream",
     "text": [
      "100%|██████████| 246/246 [02:51<00:00,  1.44it/s]\n",
      "100%|██████████| 1230/1230 [00:01<00:00, 829.77it/s]\n",
      "  1%|          | 2/246 [00:00<00:16, 14.80it/s]"
     ]
    },
    {
     "name": "stdout",
     "output_type": "stream",
     "text": [
      "accuray: 0.28420833333333334\n",
      "0.28420833333333334\n"
     ]
    },
    {
     "name": "stderr",
     "output_type": "stream",
     "text": [
      "100%|██████████| 246/246 [02:51<00:00,  1.43it/s]\n",
      "100%|██████████| 1230/1230 [00:01<00:00, 848.68it/s]\n",
      "  1%|          | 2/246 [00:00<00:16, 14.80it/s]"
     ]
    },
    {
     "name": "stdout",
     "output_type": "stream",
     "text": [
      "accuray: 0.2844583333333333\n",
      "0.2844583333333333\n"
     ]
    },
    {
     "name": "stderr",
     "output_type": "stream",
     "text": [
      "100%|██████████| 246/246 [02:51<00:00,  1.44it/s]\n",
      "100%|██████████| 1230/1230 [00:01<00:00, 784.23it/s]\n",
      "  1%|          | 2/246 [00:00<00:17, 13.88it/s]"
     ]
    },
    {
     "name": "stdout",
     "output_type": "stream",
     "text": [
      "accuray: 0.284375\n",
      "0.284375\n"
     ]
    },
    {
     "name": "stderr",
     "output_type": "stream",
     "text": [
      "100%|██████████| 246/246 [02:52<00:00,  1.42it/s]\n",
      "100%|██████████| 1230/1230 [00:01<00:00, 769.98it/s]\n",
      "  1%|          | 2/246 [00:00<00:16, 14.59it/s]"
     ]
    },
    {
     "name": "stdout",
     "output_type": "stream",
     "text": [
      "accuray: 0.2848333333333333\n",
      "0.2848333333333333\n"
     ]
    },
    {
     "name": "stderr",
     "output_type": "stream",
     "text": [
      "100%|██████████| 246/246 [02:52<00:00,  1.43it/s]\n",
      "100%|██████████| 1230/1230 [00:01<00:00, 850.44it/s]\n",
      "  1%|          | 2/246 [00:00<00:16, 14.59it/s]"
     ]
    },
    {
     "name": "stdout",
     "output_type": "stream",
     "text": [
      "accuray: 0.2841666666666667\n",
      "0.2841666666666667\n"
     ]
    },
    {
     "name": "stderr",
     "output_type": "stream",
     "text": [
      "100%|██████████| 246/246 [02:52<00:00,  1.42it/s]\n",
      "100%|██████████| 1230/1230 [00:01<00:00, 771.43it/s]\n",
      "  1%|          | 2/246 [00:00<00:16, 14.80it/s]"
     ]
    },
    {
     "name": "stdout",
     "output_type": "stream",
     "text": [
      "accuray: 0.28579166666666667\n",
      "0.28579166666666667\n"
     ]
    },
    {
     "name": "stderr",
     "output_type": "stream",
     "text": [
      "100%|██████████| 246/246 [02:44<00:00,  1.50it/s]\n",
      "100%|██████████| 1230/1230 [00:01<00:00, 844.01it/s]\n",
      "  1%|          | 2/246 [00:00<00:16, 14.38it/s]"
     ]
    },
    {
     "name": "stdout",
     "output_type": "stream",
     "text": [
      "accuray: 0.2859583333333333\n",
      "0.2859583333333333\n"
     ]
    },
    {
     "name": "stderr",
     "output_type": "stream",
     "text": [
      "100%|██████████| 246/246 [02:53<00:00,  1.41it/s]\n",
      "100%|██████████| 1230/1230 [00:01<00:00, 797.46it/s]\n",
      "  1%|          | 2/246 [00:00<00:16, 14.38it/s]"
     ]
    },
    {
     "name": "stdout",
     "output_type": "stream",
     "text": [
      "accuray: 0.2846666666666667\n",
      "0.2846666666666667\n"
     ]
    },
    {
     "name": "stderr",
     "output_type": "stream",
     "text": [
      "100%|██████████| 246/246 [02:49<00:00,  1.45it/s]\n",
      "100%|██████████| 1230/1230 [00:01<00:00, 855.77it/s]\n",
      "  1%|          | 2/246 [00:00<00:16, 14.80it/s]"
     ]
    },
    {
     "name": "stdout",
     "output_type": "stream",
     "text": [
      "accuray: 0.28470833333333334\n",
      "0.28470833333333334\n"
     ]
    },
    {
     "name": "stderr",
     "output_type": "stream",
     "text": [
      "100%|██████████| 246/246 [02:51<00:00,  1.44it/s]\n",
      "100%|██████████| 1230/1230 [00:01<00:00, 848.09it/s]\n",
      "  1%|          | 2/246 [00:00<00:16, 14.69it/s]"
     ]
    },
    {
     "name": "stdout",
     "output_type": "stream",
     "text": [
      "accuray: 0.2850416666666667\n",
      "0.2850416666666667\n"
     ]
    },
    {
     "name": "stderr",
     "output_type": "stream",
     "text": [
      "100%|██████████| 246/246 [02:53<00:00,  1.41it/s]\n",
      "100%|██████████| 1230/1230 [00:01<00:00, 847.51it/s]\n",
      "  1%|          | 2/246 [00:00<00:16, 14.69it/s]"
     ]
    },
    {
     "name": "stdout",
     "output_type": "stream",
     "text": [
      "accuray: 0.2851666666666667\n",
      "0.2851666666666667\n"
     ]
    },
    {
     "name": "stderr",
     "output_type": "stream",
     "text": [
      "100%|██████████| 246/246 [02:51<00:00,  1.43it/s]\n",
      "100%|██████████| 1230/1230 [00:01<00:00, 851.62it/s]\n",
      "  1%|          | 2/246 [00:00<00:16, 14.91it/s]"
     ]
    },
    {
     "name": "stdout",
     "output_type": "stream",
     "text": [
      "accuray: 0.28441666666666665\n",
      "0.28441666666666665\n"
     ]
    },
    {
     "name": "stderr",
     "output_type": "stream",
     "text": [
      "100%|██████████| 246/246 [02:45<00:00,  1.49it/s]\n",
      "100%|██████████| 1230/1230 [00:01<00:00, 851.62it/s]\n",
      "  1%|          | 2/246 [00:00<00:16, 14.38it/s]"
     ]
    },
    {
     "name": "stdout",
     "output_type": "stream",
     "text": [
      "accuray: 0.285125\n",
      "0.285125\n"
     ]
    },
    {
     "name": "stderr",
     "output_type": "stream",
     "text": [
      "100%|██████████| 246/246 [02:49<00:00,  1.45it/s]\n",
      "100%|██████████| 1230/1230 [00:01<00:00, 853.39it/s]\n",
      "  1%|          | 2/246 [00:00<00:17, 14.17it/s]"
     ]
    },
    {
     "name": "stdout",
     "output_type": "stream",
     "text": [
      "accuray: 0.2865\n",
      "0.2865\n"
     ]
    },
    {
     "name": "stderr",
     "output_type": "stream",
     "text": [
      "100%|██████████| 246/246 [02:49<00:00,  1.45it/s]\n",
      "100%|██████████| 1230/1230 [00:01<00:00, 730.61it/s]\n",
      "  1%|          | 2/246 [00:00<00:16, 14.69it/s]"
     ]
    },
    {
     "name": "stdout",
     "output_type": "stream",
     "text": [
      "accuray: 0.284375\n",
      "0.284375\n"
     ]
    },
    {
     "name": "stderr",
     "output_type": "stream",
     "text": [
      "100%|██████████| 246/246 [02:51<00:00,  1.44it/s]\n",
      "100%|██████████| 1230/1230 [00:01<00:00, 812.75it/s]\n",
      "  1%|          | 2/246 [00:00<00:17, 14.27it/s]"
     ]
    },
    {
     "name": "stdout",
     "output_type": "stream",
     "text": [
      "accuray: 0.28520833333333334\n",
      "0.28520833333333334\n"
     ]
    },
    {
     "name": "stderr",
     "output_type": "stream",
     "text": [
      "100%|██████████| 246/246 [02:50<00:00,  1.44it/s]\n",
      "100%|██████████| 1230/1230 [00:01<00:00, 849.85it/s]\n",
      "  1%|          | 2/246 [00:00<00:16, 14.69it/s]"
     ]
    },
    {
     "name": "stdout",
     "output_type": "stream",
     "text": [
      "accuray: 0.28654166666666664\n",
      "0.28654166666666664\n"
     ]
    },
    {
     "name": "stderr",
     "output_type": "stream",
     "text": [
      "100%|██████████| 246/246 [02:50<00:00,  1.44it/s]\n",
      "100%|██████████| 1230/1230 [00:01<00:00, 852.80it/s]\n",
      "  1%|          | 2/246 [00:00<00:16, 14.69it/s]"
     ]
    },
    {
     "name": "stdout",
     "output_type": "stream",
     "text": [
      "accuray: 0.285875\n",
      "0.285875\n"
     ]
    },
    {
     "name": "stderr",
     "output_type": "stream",
     "text": [
      "100%|██████████| 246/246 [02:50<00:00,  1.44it/s]\n",
      "100%|██████████| 1230/1230 [00:01<00:00, 848.09it/s]\n",
      "  1%|          | 2/246 [00:00<00:17, 14.17it/s]"
     ]
    },
    {
     "name": "stdout",
     "output_type": "stream",
     "text": [
      "accuray: 0.286\n",
      "0.286\n"
     ]
    },
    {
     "name": "stderr",
     "output_type": "stream",
     "text": [
      "100%|██████████| 246/246 [02:52<00:00,  1.43it/s]\n",
      "100%|██████████| 1230/1230 [00:01<00:00, 763.76it/s]\n",
      "  1%|          | 2/246 [00:00<00:16, 14.38it/s]"
     ]
    },
    {
     "name": "stdout",
     "output_type": "stream",
     "text": [
      "accuray: 0.28641666666666665\n",
      "0.28641666666666665\n"
     ]
    },
    {
     "name": "stderr",
     "output_type": "stream",
     "text": [
      "100%|██████████| 246/246 [02:47<00:00,  1.47it/s]\n",
      "100%|██████████| 1230/1230 [00:01<00:00, 846.92it/s]\n",
      "  1%|          | 2/246 [00:00<00:16, 14.69it/s]"
     ]
    },
    {
     "name": "stdout",
     "output_type": "stream",
     "text": [
      "accuray: 0.28633333333333333\n",
      "0.28633333333333333\n"
     ]
    },
    {
     "name": "stderr",
     "output_type": "stream",
     "text": [
      "100%|██████████| 246/246 [02:48<00:00,  1.46it/s]\n",
      "100%|██████████| 1230/1230 [00:01<00:00, 851.62it/s]\n",
      "  1%|          | 2/246 [00:00<00:16, 14.80it/s]"
     ]
    },
    {
     "name": "stdout",
     "output_type": "stream",
     "text": [
      "accuray: 0.28725\n",
      "0.28725\n"
     ]
    },
    {
     "name": "stderr",
     "output_type": "stream",
     "text": [
      "100%|██████████| 246/246 [02:50<00:00,  1.44it/s]\n",
      "100%|██████████| 1230/1230 [00:01<00:00, 852.21it/s]\n",
      "  1%|          | 2/246 [00:00<00:16, 14.69it/s]"
     ]
    },
    {
     "name": "stdout",
     "output_type": "stream",
     "text": [
      "accuray: 0.28679166666666667\n",
      "0.28679166666666667\n"
     ]
    },
    {
     "name": "stderr",
     "output_type": "stream",
     "text": [
      "100%|██████████| 246/246 [02:49<00:00,  1.46it/s]\n",
      "100%|██████████| 1230/1230 [00:01<00:00, 847.51it/s]\n",
      "  1%|          | 2/246 [00:00<00:16, 14.38it/s]"
     ]
    },
    {
     "name": "stdout",
     "output_type": "stream",
     "text": [
      "accuray: 0.286375\n",
      "0.286375\n"
     ]
    },
    {
     "name": "stderr",
     "output_type": "stream",
     "text": [
      "100%|██████████| 246/246 [02:44<00:00,  1.50it/s]\n",
      "100%|██████████| 1230/1230 [00:01<00:00, 845.76it/s]\n",
      "  1%|          | 2/246 [00:00<00:16, 14.59it/s]"
     ]
    },
    {
     "name": "stdout",
     "output_type": "stream",
     "text": [
      "accuray: 0.28670833333333334\n",
      "0.28670833333333334\n"
     ]
    },
    {
     "name": "stderr",
     "output_type": "stream",
     "text": [
      "100%|██████████| 246/246 [02:52<00:00,  1.43it/s]\n",
      "100%|██████████| 1230/1230 [00:01<00:00, 855.77it/s]\n",
      "  1%|          | 2/246 [00:00<00:16, 14.59it/s]"
     ]
    },
    {
     "name": "stdout",
     "output_type": "stream",
     "text": [
      "accuray: 0.28591666666666665\n",
      "0.28591666666666665\n"
     ]
    },
    {
     "name": "stderr",
     "output_type": "stream",
     "text": [
      "100%|██████████| 246/246 [02:51<00:00,  1.44it/s]\n",
      "100%|██████████| 1230/1230 [00:01<00:00, 842.85it/s]\n",
      "  1%|          | 2/246 [00:00<00:16, 14.69it/s]"
     ]
    },
    {
     "name": "stdout",
     "output_type": "stream",
     "text": [
      "accuray: 0.28679166666666667\n",
      "0.28679166666666667\n"
     ]
    },
    {
     "name": "stderr",
     "output_type": "stream",
     "text": [
      "100%|██████████| 246/246 [02:50<00:00,  1.44it/s]\n",
      "100%|██████████| 1230/1230 [00:01<00:00, 855.77it/s]\n",
      "  1%|          | 2/246 [00:00<00:16, 14.80it/s]"
     ]
    },
    {
     "name": "stdout",
     "output_type": "stream",
     "text": [
      "accuray: 0.287\n",
      "0.287\n"
     ]
    },
    {
     "name": "stderr",
     "output_type": "stream",
     "text": [
      "100%|██████████| 246/246 [02:52<00:00,  1.42it/s]\n",
      "100%|██████████| 1230/1230 [00:01<00:00, 846.92it/s]\n",
      "  1%|          | 2/246 [00:00<00:16, 14.48it/s]"
     ]
    },
    {
     "name": "stdout",
     "output_type": "stream",
     "text": [
      "accuray: 0.28833333333333333\n",
      "0.28833333333333333\n"
     ]
    },
    {
     "name": "stderr",
     "output_type": "stream",
     "text": [
      "100%|██████████| 246/246 [02:53<00:00,  1.42it/s]\n",
      "100%|██████████| 1230/1230 [00:01<00:00, 851.03it/s]\n",
      "  1%|          | 2/246 [00:00<00:16, 14.69it/s]"
     ]
    },
    {
     "name": "stdout",
     "output_type": "stream",
     "text": [
      "accuray: 0.28725\n",
      "0.28725\n"
     ]
    },
    {
     "name": "stderr",
     "output_type": "stream",
     "text": [
      "100%|██████████| 246/246 [02:51<00:00,  1.43it/s]\n",
      "100%|██████████| 1230/1230 [00:01<00:00, 825.86it/s]\n",
      "  1%|          | 2/246 [00:00<00:16, 14.59it/s]"
     ]
    },
    {
     "name": "stdout",
     "output_type": "stream",
     "text": [
      "accuray: 0.28675\n",
      "0.28675\n"
     ]
    },
    {
     "name": "stderr",
     "output_type": "stream",
     "text": [
      "100%|██████████| 246/246 [02:44<00:00,  1.50it/s]\n",
      "100%|██████████| 1230/1230 [00:01<00:00, 849.26it/s]\n",
      "  1%|          | 2/246 [00:00<00:16, 14.69it/s]"
     ]
    },
    {
     "name": "stdout",
     "output_type": "stream",
     "text": [
      "accuray: 0.287375\n",
      "0.287375\n"
     ]
    },
    {
     "name": "stderr",
     "output_type": "stream",
     "text": [
      "100%|██████████| 246/246 [02:53<00:00,  1.42it/s]\n",
      "100%|██████████| 1230/1230 [00:01<00:00, 846.34it/s]\n",
      "  1%|          | 2/246 [00:00<00:16, 14.69it/s]"
     ]
    },
    {
     "name": "stdout",
     "output_type": "stream",
     "text": [
      "accuray: 0.286625\n",
      "0.286625\n"
     ]
    },
    {
     "name": "stderr",
     "output_type": "stream",
     "text": [
      "100%|██████████| 246/246 [02:50<00:00,  1.44it/s]\n",
      "100%|██████████| 1230/1230 [00:01<00:00, 851.62it/s]\n",
      "  1%|          | 2/246 [00:00<00:16, 14.80it/s]"
     ]
    },
    {
     "name": "stdout",
     "output_type": "stream",
     "text": [
      "accuray: 0.288375\n",
      "0.288375\n"
     ]
    },
    {
     "name": "stderr",
     "output_type": "stream",
     "text": [
      "100%|██████████| 246/246 [02:48<00:00,  1.46it/s]\n",
      "100%|██████████| 1230/1230 [00:01<00:00, 837.11it/s]\n",
      "  1%|          | 2/246 [00:00<00:16, 14.69it/s]"
     ]
    },
    {
     "name": "stdout",
     "output_type": "stream",
     "text": [
      "accuray: 0.287625\n",
      "0.287625\n"
     ]
    },
    {
     "name": "stderr",
     "output_type": "stream",
     "text": [
      "100%|██████████| 246/246 [02:55<00:00,  1.40it/s]\n",
      "100%|██████████| 1230/1230 [00:01<00:00, 772.88it/s]\n",
      "  1%|          | 2/246 [00:00<00:16, 14.80it/s]"
     ]
    },
    {
     "name": "stdout",
     "output_type": "stream",
     "text": [
      "accuray: 0.287125\n",
      "0.287125\n"
     ]
    },
    {
     "name": "stderr",
     "output_type": "stream",
     "text": [
      "100%|██████████| 246/246 [02:50<00:00,  1.44it/s]\n",
      "100%|██████████| 1230/1230 [00:01<00:00, 770.94it/s]\n",
      "  1%|          | 2/246 [00:00<00:16, 14.48it/s]"
     ]
    },
    {
     "name": "stdout",
     "output_type": "stream",
     "text": [
      "accuray: 0.28804166666666664\n",
      "0.28804166666666664\n"
     ]
    },
    {
     "name": "stderr",
     "output_type": "stream",
     "text": [
      "100%|██████████| 246/246 [02:46<00:00,  1.48it/s]\n",
      "100%|██████████| 1230/1230 [00:01<00:00, 842.86it/s]\n",
      "  1%|          | 2/246 [00:00<00:16, 14.69it/s]"
     ]
    },
    {
     "name": "stdout",
     "output_type": "stream",
     "text": [
      "accuray: 0.289\n",
      "0.289\n"
     ]
    },
    {
     "name": "stderr",
     "output_type": "stream",
     "text": [
      "100%|██████████| 246/246 [02:51<00:00,  1.44it/s]\n",
      "100%|██████████| 1230/1230 [00:01<00:00, 824.20it/s]\n",
      "  1%|          | 2/246 [00:00<00:16, 14.48it/s]"
     ]
    },
    {
     "name": "stdout",
     "output_type": "stream",
     "text": [
      "accuray: 0.2869583333333333\n",
      "0.2869583333333333\n"
     ]
    },
    {
     "name": "stderr",
     "output_type": "stream",
     "text": [
      "100%|██████████| 246/246 [02:53<00:00,  1.42it/s]\n",
      "100%|██████████| 1230/1230 [00:01<00:00, 851.03it/s]\n",
      "  1%|          | 2/246 [00:00<00:16, 14.69it/s]"
     ]
    },
    {
     "name": "stdout",
     "output_type": "stream",
     "text": [
      "accuray: 0.287375\n",
      "0.287375\n"
     ]
    },
    {
     "name": "stderr",
     "output_type": "stream",
     "text": [
      "100%|██████████| 246/246 [02:49<00:00,  1.45it/s]\n",
      "100%|██████████| 1230/1230 [00:01<00:00, 848.68it/s]\n",
      "  1%|          | 2/246 [00:00<00:16, 14.69it/s]"
     ]
    },
    {
     "name": "stdout",
     "output_type": "stream",
     "text": [
      "accuray: 0.28775\n",
      "0.28775\n"
     ]
    },
    {
     "name": "stderr",
     "output_type": "stream",
     "text": [
      "100%|██████████| 246/246 [02:52<00:00,  1.43it/s]\n",
      "100%|██████████| 1230/1230 [00:01<00:00, 846.92it/s]\n",
      "  1%|          | 2/246 [00:00<00:16, 14.80it/s]"
     ]
    },
    {
     "name": "stdout",
     "output_type": "stream",
     "text": [
      "accuray: 0.28875\n",
      "0.28875\n"
     ]
    },
    {
     "name": "stderr",
     "output_type": "stream",
     "text": [
      "100%|██████████| 246/246 [02:50<00:00,  1.44it/s]\n",
      "100%|██████████| 1230/1230 [00:01<00:00, 846.92it/s]\n",
      "  1%|          | 2/246 [00:00<00:17, 14.27it/s]"
     ]
    },
    {
     "name": "stdout",
     "output_type": "stream",
     "text": [
      "accuray: 0.28854166666666664\n",
      "0.28854166666666664\n"
     ]
    },
    {
     "name": "stderr",
     "output_type": "stream",
     "text": [
      "100%|██████████| 246/246 [02:45<00:00,  1.49it/s]\n",
      "100%|██████████| 1230/1230 [00:01<00:00, 845.76it/s]\n",
      "  1%|          | 2/246 [00:00<00:16, 14.69it/s]"
     ]
    },
    {
     "name": "stdout",
     "output_type": "stream",
     "text": [
      "accuray: 0.28741666666666665\n",
      "0.28741666666666665\n"
     ]
    },
    {
     "name": "stderr",
     "output_type": "stream",
     "text": [
      "100%|██████████| 246/246 [02:51<00:00,  1.43it/s]\n",
      "100%|██████████| 1230/1230 [00:01<00:00, 854.58it/s]\n",
      "  1%|          | 2/246 [00:00<00:16, 14.59it/s]"
     ]
    },
    {
     "name": "stdout",
     "output_type": "stream",
     "text": [
      "accuray: 0.28804166666666664\n",
      "0.28804166666666664\n"
     ]
    },
    {
     "name": "stderr",
     "output_type": "stream",
     "text": [
      "100%|██████████| 246/246 [02:51<00:00,  1.43it/s]\n",
      "100%|██████████| 1230/1230 [00:01<00:00, 851.62it/s]\n",
      "  1%|          | 2/246 [00:00<00:16, 14.80it/s]"
     ]
    },
    {
     "name": "stdout",
     "output_type": "stream",
     "text": [
      "accuray: 0.28825\n",
      "0.28825\n"
     ]
    },
    {
     "name": "stderr",
     "output_type": "stream",
     "text": [
      "100%|██████████| 246/246 [02:50<00:00,  1.44it/s]\n",
      "100%|██████████| 1230/1230 [00:01<00:00, 855.17it/s]\n",
      "  1%|          | 2/246 [00:00<00:16, 14.48it/s]"
     ]
    },
    {
     "name": "stdout",
     "output_type": "stream",
     "text": [
      "accuray: 0.28970833333333335\n",
      "0.28970833333333335\n"
     ]
    },
    {
     "name": "stderr",
     "output_type": "stream",
     "text": [
      "100%|██████████| 246/246 [02:44<00:00,  1.50it/s]\n",
      "100%|██████████| 1230/1230 [00:01<00:00, 848.09it/s]\n",
      "  1%|          | 2/246 [00:00<00:16, 14.91it/s]"
     ]
    },
    {
     "name": "stdout",
     "output_type": "stream",
     "text": [
      "accuray: 0.28808333333333336\n",
      "0.28808333333333336\n"
     ]
    },
    {
     "name": "stderr",
     "output_type": "stream",
     "text": [
      "100%|██████████| 246/246 [02:52<00:00,  1.43it/s]\n",
      "100%|██████████| 1230/1230 [00:01<00:00, 847.51it/s]\n",
      "  1%|          | 2/246 [00:00<00:16, 14.69it/s]"
     ]
    },
    {
     "name": "stdout",
     "output_type": "stream",
     "text": [
      "accuray: 0.28733333333333333\n",
      "0.28733333333333333\n"
     ]
    },
    {
     "name": "stderr",
     "output_type": "stream",
     "text": [
      "100%|██████████| 246/246 [02:50<00:00,  1.44it/s]\n",
      "100%|██████████| 1230/1230 [00:01<00:00, 847.51it/s]\n",
      "  1%|          | 2/246 [00:00<00:16, 14.48it/s]"
     ]
    },
    {
     "name": "stdout",
     "output_type": "stream",
     "text": [
      "accuray: 0.28875\n",
      "0.28875\n"
     ]
    },
    {
     "name": "stderr",
     "output_type": "stream",
     "text": [
      "100%|██████████| 246/246 [02:46<00:00,  1.48it/s]\n",
      "100%|██████████| 1230/1230 [00:01<00:00, 852.21it/s]\n",
      "  1%|          | 2/246 [00:00<00:16, 14.69it/s]"
     ]
    },
    {
     "name": "stdout",
     "output_type": "stream",
     "text": [
      "accuray: 0.290125\n",
      "0.290125\n"
     ]
    },
    {
     "name": "stderr",
     "output_type": "stream",
     "text": [
      "100%|██████████| 246/246 [02:51<00:00,  1.43it/s]\n",
      "100%|██████████| 1230/1230 [00:01<00:00, 776.79it/s]\n",
      "  1%|          | 2/246 [00:00<00:16, 14.48it/s]"
     ]
    },
    {
     "name": "stdout",
     "output_type": "stream",
     "text": [
      "accuray: 0.2891666666666667\n",
      "0.2891666666666667\n"
     ]
    },
    {
     "name": "stderr",
     "output_type": "stream",
     "text": [
      "100%|██████████| 246/246 [02:43<00:00,  1.51it/s]\n",
      "100%|██████████| 1230/1230 [00:01<00:00, 846.92it/s]\n",
      "  1%|          | 2/246 [00:00<00:16, 14.80it/s]"
     ]
    },
    {
     "name": "stdout",
     "output_type": "stream",
     "text": [
      "accuray: 0.28725\n",
      "0.28725\n"
     ]
    },
    {
     "name": "stderr",
     "output_type": "stream",
     "text": [
      "100%|██████████| 246/246 [02:48<00:00,  1.46it/s]\n",
      "100%|██████████| 1230/1230 [00:01<00:00, 844.01it/s]\n",
      "  1%|          | 2/246 [00:00<00:16, 14.69it/s]"
     ]
    },
    {
     "name": "stdout",
     "output_type": "stream",
     "text": [
      "accuray: 0.28733333333333333\n",
      "0.28733333333333333\n"
     ]
    },
    {
     "name": "stderr",
     "output_type": "stream",
     "text": [
      "100%|██████████| 246/246 [02:51<00:00,  1.44it/s]\n",
      "100%|██████████| 1230/1230 [00:01<00:00, 841.70it/s]\n",
      "  1%|          | 2/246 [00:00<00:16, 14.80it/s]"
     ]
    },
    {
     "name": "stdout",
     "output_type": "stream",
     "text": [
      "accuray: 0.2879583333333333\n",
      "0.2879583333333333\n"
     ]
    },
    {
     "name": "stderr",
     "output_type": "stream",
     "text": [
      "100%|██████████| 246/246 [02:44<00:00,  1.49it/s]\n",
      "100%|██████████| 1230/1230 [00:01<00:00, 846.92it/s]\n",
      "  1%|          | 2/246 [00:00<00:16, 14.69it/s]"
     ]
    },
    {
     "name": "stdout",
     "output_type": "stream",
     "text": [
      "accuray: 0.289375\n",
      "0.289375\n"
     ]
    },
    {
     "name": "stderr",
     "output_type": "stream",
     "text": [
      "100%|██████████| 246/246 [02:50<00:00,  1.44it/s]\n",
      "100%|██████████| 1230/1230 [00:01<00:00, 845.76it/s]\n",
      "  1%|          | 2/246 [00:00<00:16, 14.48it/s]"
     ]
    },
    {
     "name": "stdout",
     "output_type": "stream",
     "text": [
      "accuray: 0.288625\n",
      "0.288625\n"
     ]
    },
    {
     "name": "stderr",
     "output_type": "stream",
     "text": [
      "100%|██████████| 246/246 [02:45<00:00,  1.49it/s]\n",
      "100%|██████████| 1230/1230 [00:01<00:00, 851.62it/s]\n",
      "  1%|          | 2/246 [00:00<00:16, 14.80it/s]"
     ]
    },
    {
     "name": "stdout",
     "output_type": "stream",
     "text": [
      "accuray: 0.288125\n",
      "0.288125\n"
     ]
    },
    {
     "name": "stderr",
     "output_type": "stream",
     "text": [
      "100%|██████████| 246/246 [02:52<00:00,  1.42it/s]\n",
      "100%|██████████| 1230/1230 [00:01<00:00, 849.85it/s]\n",
      "  1%|          | 2/246 [00:00<00:16, 14.91it/s]"
     ]
    },
    {
     "name": "stdout",
     "output_type": "stream",
     "text": [
      "accuray: 0.28908333333333336\n",
      "0.28908333333333336\n"
     ]
    },
    {
     "name": "stderr",
     "output_type": "stream",
     "text": [
      "100%|██████████| 246/246 [02:55<00:00,  1.40it/s]\n",
      "100%|██████████| 1230/1230 [00:01<00:00, 778.27it/s]\n",
      "  1%|          | 2/246 [00:00<00:16, 14.59it/s]"
     ]
    },
    {
     "name": "stdout",
     "output_type": "stream",
     "text": [
      "accuray: 0.28891666666666665\n",
      "0.28891666666666665\n"
     ]
    },
    {
     "name": "stderr",
     "output_type": "stream",
     "text": [
      "100%|██████████| 246/246 [02:43<00:00,  1.50it/s]\n",
      "100%|██████████| 1230/1230 [00:01<00:00, 852.80it/s]\n",
      "  1%|          | 2/246 [00:00<00:16, 14.59it/s]"
     ]
    },
    {
     "name": "stdout",
     "output_type": "stream",
     "text": [
      "accuray: 0.288125\n",
      "0.288125\n"
     ]
    },
    {
     "name": "stderr",
     "output_type": "stream",
     "text": [
      "100%|██████████| 246/246 [02:50<00:00,  1.44it/s]\n",
      "100%|██████████| 1230/1230 [00:01<00:00, 775.32it/s]\n",
      "  1%|          | 2/246 [00:00<00:16, 14.91it/s]"
     ]
    },
    {
     "name": "stdout",
     "output_type": "stream",
     "text": [
      "accuray: 0.2894583333333333\n",
      "0.2894583333333333\n"
     ]
    },
    {
     "name": "stderr",
     "output_type": "stream",
     "text": [
      "100%|██████████| 246/246 [02:43<00:00,  1.50it/s]\n",
      "100%|██████████| 1230/1230 [00:01<00:00, 845.17it/s]\n",
      "  1%|          | 2/246 [00:00<00:17, 14.27it/s]"
     ]
    },
    {
     "name": "stdout",
     "output_type": "stream",
     "text": [
      "accuray: 0.28954166666666664\n",
      "0.28954166666666664\n"
     ]
    },
    {
     "name": "stderr",
     "output_type": "stream",
     "text": [
      "100%|██████████| 246/246 [02:51<00:00,  1.43it/s]\n",
      "100%|██████████| 1230/1230 [00:01<00:00, 849.85it/s]\n",
      "  1%|          | 2/246 [00:00<00:16, 14.59it/s]"
     ]
    },
    {
     "name": "stdout",
     "output_type": "stream",
     "text": [
      "accuray: 0.2889583333333333\n",
      "0.2889583333333333\n"
     ]
    },
    {
     "name": "stderr",
     "output_type": "stream",
     "text": [
      "100%|██████████| 246/246 [02:47<00:00,  1.47it/s]\n",
      "100%|██████████| 1230/1230 [00:01<00:00, 846.92it/s]\n",
      "  1%|          | 2/246 [00:00<00:16, 14.80it/s]"
     ]
    },
    {
     "name": "stdout",
     "output_type": "stream",
     "text": [
      "accuray: 0.28858333333333336\n",
      "0.28858333333333336\n"
     ]
    },
    {
     "name": "stderr",
     "output_type": "stream",
     "text": [
      "100%|██████████| 246/246 [02:52<00:00,  1.43it/s]\n",
      "100%|██████████| 1230/1230 [00:01<00:00, 855.77it/s]\n",
      "  1%|          | 2/246 [00:00<00:16, 14.59it/s]"
     ]
    },
    {
     "name": "stdout",
     "output_type": "stream",
     "text": [
      "accuray: 0.28858333333333336\n",
      "0.28858333333333336\n"
     ]
    },
    {
     "name": "stderr",
     "output_type": "stream",
     "text": [
      "100%|██████████| 246/246 [02:52<00:00,  1.43it/s]\n",
      "100%|██████████| 1230/1230 [00:01<00:00, 781.73it/s]\n",
      "  1%|          | 2/246 [00:00<00:16, 14.80it/s]"
     ]
    },
    {
     "name": "stdout",
     "output_type": "stream",
     "text": [
      "accuray: 0.28854166666666664\n",
      "0.28854166666666664\n"
     ]
    },
    {
     "name": "stderr",
     "output_type": "stream",
     "text": [
      "100%|██████████| 246/246 [02:44<00:00,  1.49it/s]\n",
      "100%|██████████| 1230/1230 [00:01<00:00, 853.98it/s]\n",
      "  1%|          | 2/246 [00:00<00:16, 14.59it/s]"
     ]
    },
    {
     "name": "stdout",
     "output_type": "stream",
     "text": [
      "accuray: 0.29008333333333336\n",
      "0.29008333333333336\n"
     ]
    },
    {
     "name": "stderr",
     "output_type": "stream",
     "text": [
      "100%|██████████| 246/246 [02:51<00:00,  1.44it/s]\n",
      "100%|██████████| 1230/1230 [00:01<00:00, 855.77it/s]\n",
      "  1%|          | 2/246 [00:00<00:16, 14.59it/s]"
     ]
    },
    {
     "name": "stdout",
     "output_type": "stream",
     "text": [
      "accuray: 0.2895\n",
      "0.2895\n"
     ]
    },
    {
     "name": "stderr",
     "output_type": "stream",
     "text": [
      "100%|██████████| 246/246 [02:50<00:00,  1.44it/s]\n",
      "100%|██████████| 1230/1230 [00:01<00:00, 845.76it/s]\n",
      "  1%|          | 2/246 [00:00<00:16, 14.59it/s]"
     ]
    },
    {
     "name": "stdout",
     "output_type": "stream",
     "text": [
      "accuray: 0.2891666666666667\n",
      "0.2891666666666667\n"
     ]
    },
    {
     "name": "stderr",
     "output_type": "stream",
     "text": [
      "100%|██████████| 246/246 [02:46<00:00,  1.47it/s]\n",
      "100%|██████████| 1230/1230 [00:01<00:00, 776.30it/s]\n",
      "  1%|          | 2/246 [00:00<00:16, 14.59it/s]"
     ]
    },
    {
     "name": "stdout",
     "output_type": "stream",
     "text": [
      "accuray: 0.2889583333333333\n",
      "0.2889583333333333\n"
     ]
    },
    {
     "name": "stderr",
     "output_type": "stream",
     "text": [
      "100%|██████████| 246/246 [02:53<00:00,  1.42it/s]\n",
      "100%|██████████| 1230/1230 [00:01<00:00, 793.85it/s]\n",
      "  1%|          | 2/246 [00:00<00:16, 14.48it/s]"
     ]
    },
    {
     "name": "stdout",
     "output_type": "stream",
     "text": [
      "accuray: 0.28841666666666665\n",
      "0.28841666666666665\n"
     ]
    },
    {
     "name": "stderr",
     "output_type": "stream",
     "text": [
      "100%|██████████| 246/246 [02:51<00:00,  1.44it/s]\n",
      "100%|██████████| 1230/1230 [00:01<00:00, 772.40it/s]\n",
      "  1%|          | 2/246 [00:00<00:16, 14.69it/s]"
     ]
    },
    {
     "name": "stdout",
     "output_type": "stream",
     "text": [
      "accuray: 0.28925\n",
      "0.28925\n"
     ]
    },
    {
     "name": "stderr",
     "output_type": "stream",
     "text": [
      "100%|██████████| 246/246 [02:48<00:00,  1.46it/s]\n",
      "100%|██████████| 1230/1230 [00:01<00:00, 844.59it/s]\n",
      "  1%|          | 2/246 [00:00<00:17, 14.17it/s]"
     ]
    },
    {
     "name": "stdout",
     "output_type": "stream",
     "text": [
      "accuray: 0.2894583333333333\n",
      "0.2894583333333333\n"
     ]
    },
    {
     "name": "stderr",
     "output_type": "stream",
     "text": [
      "100%|██████████| 246/246 [02:53<00:00,  1.41it/s]\n",
      "100%|██████████| 1230/1230 [00:01<00:00, 847.51it/s]\n",
      "  1%|          | 2/246 [00:00<00:16, 14.38it/s]"
     ]
    },
    {
     "name": "stdout",
     "output_type": "stream",
     "text": [
      "accuray: 0.28883333333333333\n",
      "0.28883333333333333\n"
     ]
    },
    {
     "name": "stderr",
     "output_type": "stream",
     "text": [
      "100%|██████████| 246/246 [02:51<00:00,  1.43it/s]\n",
      "100%|██████████| 1230/1230 [00:01<00:00, 849.26it/s]\n",
      "  1%|          | 2/246 [00:00<00:16, 14.69it/s]"
     ]
    },
    {
     "name": "stdout",
     "output_type": "stream",
     "text": [
      "accuray: 0.28891666666666665\n",
      "0.28891666666666665\n"
     ]
    },
    {
     "name": "stderr",
     "output_type": "stream",
     "text": [
      "100%|██████████| 246/246 [02:45<00:00,  1.49it/s]\n",
      "100%|██████████| 1230/1230 [00:01<00:00, 776.30it/s]\n",
      "  1%|          | 2/246 [00:00<00:16, 14.48it/s]"
     ]
    },
    {
     "name": "stdout",
     "output_type": "stream",
     "text": [
      "accuray: 0.2895\n",
      "0.2895\n"
     ]
    },
    {
     "name": "stderr",
     "output_type": "stream",
     "text": [
      "100%|██████████| 246/246 [02:52<00:00,  1.43it/s]\n",
      "100%|██████████| 1230/1230 [00:01<00:00, 850.44it/s]\n",
      "  1%|          | 2/246 [00:00<00:16, 14.59it/s]"
     ]
    },
    {
     "name": "stdout",
     "output_type": "stream",
     "text": [
      "accuray: 0.28954166666666664\n",
      "0.28954166666666664\n"
     ]
    },
    {
     "name": "stderr",
     "output_type": "stream",
     "text": [
      "100%|██████████| 246/246 [02:52<00:00,  1.42it/s]\n",
      "100%|██████████| 1230/1230 [00:01<00:00, 855.17it/s]\n",
      "  1%|          | 2/246 [00:00<00:16, 14.80it/s]"
     ]
    },
    {
     "name": "stdout",
     "output_type": "stream",
     "text": [
      "accuray: 0.28904166666666664\n",
      "0.28904166666666664\n"
     ]
    },
    {
     "name": "stderr",
     "output_type": "stream",
     "text": [
      "100%|██████████| 246/246 [02:48<00:00,  1.46it/s]\n",
      "100%|██████████| 1230/1230 [00:01<00:00, 800.05it/s]\n",
      "  1%|          | 2/246 [00:00<00:16, 14.48it/s]"
     ]
    },
    {
     "name": "stdout",
     "output_type": "stream",
     "text": [
      "accuray: 0.28833333333333333\n",
      "0.28833333333333333\n"
     ]
    },
    {
     "name": "stderr",
     "output_type": "stream",
     "text": [
      "100%|██████████| 246/246 [02:45<00:00,  1.49it/s]\n",
      "100%|██████████| 1230/1230 [00:01<00:00, 844.01it/s]\n",
      "  1%|          | 2/246 [00:00<00:16, 14.69it/s]"
     ]
    },
    {
     "name": "stdout",
     "output_type": "stream",
     "text": [
      "accuray: 0.28925\n",
      "0.28925\n"
     ]
    },
    {
     "name": "stderr",
     "output_type": "stream",
     "text": [
      "100%|██████████| 246/246 [02:50<00:00,  1.44it/s]\n",
      "100%|██████████| 1230/1230 [00:01<00:00, 849.26it/s]\n",
      "  1%|          | 2/246 [00:00<00:16, 14.80it/s]"
     ]
    },
    {
     "name": "stdout",
     "output_type": "stream",
     "text": [
      "accuray: 0.2901666666666667\n",
      "0.2901666666666667\n"
     ]
    },
    {
     "name": "stderr",
     "output_type": "stream",
     "text": [
      "100%|██████████| 246/246 [02:46<00:00,  1.48it/s]\n",
      "100%|██████████| 1230/1230 [00:01<00:00, 844.01it/s]\n",
      "  1%|          | 2/246 [00:00<00:17, 14.17it/s]"
     ]
    },
    {
     "name": "stdout",
     "output_type": "stream",
     "text": [
      "accuray: 0.29054166666666664\n",
      "0.29054166666666664\n"
     ]
    },
    {
     "name": "stderr",
     "output_type": "stream",
     "text": [
      "100%|██████████| 246/246 [02:50<00:00,  1.44it/s]\n",
      "100%|██████████| 1230/1230 [00:01<00:00, 852.80it/s]\n",
      "  1%|          | 2/246 [00:00<00:16, 14.69it/s]"
     ]
    },
    {
     "name": "stdout",
     "output_type": "stream",
     "text": [
      "accuray: 0.28991666666666666\n",
      "0.28991666666666666\n"
     ]
    },
    {
     "name": "stderr",
     "output_type": "stream",
     "text": [
      "100%|██████████| 246/246 [02:44<00:00,  1.49it/s]\n",
      "100%|██████████| 1230/1230 [00:01<00:00, 773.86it/s]\n",
      "  1%|          | 2/246 [00:00<00:16, 14.58it/s]"
     ]
    },
    {
     "name": "stdout",
     "output_type": "stream",
     "text": [
      "accuray: 0.29083333333333333\n",
      "0.29083333333333333\n"
     ]
    },
    {
     "name": "stderr",
     "output_type": "stream",
     "text": [
      "100%|██████████| 246/246 [02:49<00:00,  1.45it/s]\n",
      "100%|██████████| 1230/1230 [00:01<00:00, 761.39it/s]\n",
      "  1%|          | 2/246 [00:00<00:16, 14.48it/s]"
     ]
    },
    {
     "name": "stdout",
     "output_type": "stream",
     "text": [
      "accuray: 0.289625\n",
      "0.289625\n"
     ]
    },
    {
     "name": "stderr",
     "output_type": "stream",
     "text": [
      "100%|██████████| 246/246 [02:45<00:00,  1.49it/s]\n",
      "100%|██████████| 1230/1230 [00:01<00:00, 848.09it/s]\n",
      "  1%|          | 2/246 [00:00<00:16, 14.59it/s]"
     ]
    },
    {
     "name": "stdout",
     "output_type": "stream",
     "text": [
      "accuray: 0.2899583333333333\n",
      "0.2899583333333333\n"
     ]
    },
    {
     "name": "stderr",
     "output_type": "stream",
     "text": [
      "100%|██████████| 246/246 [02:53<00:00,  1.42it/s]\n",
      "100%|██████████| 1230/1230 [00:01<00:00, 825.86it/s]\n",
      "  1%|          | 2/246 [00:00<00:16, 14.80it/s]"
     ]
    },
    {
     "name": "stdout",
     "output_type": "stream",
     "text": [
      "accuray: 0.289875\n",
      "0.289875\n"
     ]
    },
    {
     "name": "stderr",
     "output_type": "stream",
     "text": [
      "100%|██████████| 246/246 [02:44<00:00,  1.50it/s]\n",
      "100%|██████████| 1230/1230 [00:01<00:00, 849.26it/s]\n",
      "  1%|          | 2/246 [00:00<00:16, 14.48it/s]"
     ]
    },
    {
     "name": "stdout",
     "output_type": "stream",
     "text": [
      "accuray: 0.289375\n",
      "0.289375\n"
     ]
    },
    {
     "name": "stderr",
     "output_type": "stream",
     "text": [
      "100%|██████████| 246/246 [02:46<00:00,  1.48it/s]\n",
      "100%|██████████| 1230/1230 [00:01<00:00, 855.77it/s]\n",
      "  1%|          | 2/246 [00:00<00:16, 14.59it/s]"
     ]
    },
    {
     "name": "stdout",
     "output_type": "stream",
     "text": [
      "accuray: 0.2899583333333333\n",
      "0.2899583333333333\n"
     ]
    },
    {
     "name": "stderr",
     "output_type": "stream",
     "text": [
      "100%|██████████| 246/246 [02:54<00:00,  1.41it/s]\n",
      "100%|██████████| 1230/1230 [00:01<00:00, 850.44it/s]\n",
      "  1%|          | 2/246 [00:00<00:16, 14.69it/s]"
     ]
    },
    {
     "name": "stdout",
     "output_type": "stream",
     "text": [
      "accuray: 0.29029166666666667\n",
      "0.29029166666666667\n"
     ]
    },
    {
     "name": "stderr",
     "output_type": "stream",
     "text": [
      "100%|██████████| 246/246 [02:42<00:00,  1.52it/s]\n",
      "100%|██████████| 1230/1230 [00:01<00:00, 769.01it/s]\n",
      "  1%|          | 2/246 [00:00<00:16, 14.48it/s]"
     ]
    },
    {
     "name": "stdout",
     "output_type": "stream",
     "text": [
      "accuray: 0.28908333333333336\n",
      "0.28908333333333336\n"
     ]
    },
    {
     "name": "stderr",
     "output_type": "stream",
     "text": [
      "100%|██████████| 246/246 [02:53<00:00,  1.42it/s]\n",
      "100%|██████████| 1230/1230 [00:01<00:00, 849.26it/s]\n",
      "  1%|          | 2/246 [00:00<00:16, 14.69it/s]"
     ]
    },
    {
     "name": "stdout",
     "output_type": "stream",
     "text": [
      "accuray: 0.28820833333333334\n",
      "0.28820833333333334\n"
     ]
    },
    {
     "name": "stderr",
     "output_type": "stream",
     "text": [
      "100%|██████████| 246/246 [02:46<00:00,  1.48it/s]\n",
      "100%|██████████| 1230/1230 [00:01<00:00, 850.44it/s]\n",
      "  1%|          | 2/246 [00:00<00:16, 14.59it/s]"
     ]
    },
    {
     "name": "stdout",
     "output_type": "stream",
     "text": [
      "accuray: 0.288875\n",
      "0.288875\n"
     ]
    },
    {
     "name": "stderr",
     "output_type": "stream",
     "text": [
      "100%|██████████| 246/246 [02:46<00:00,  1.48it/s]\n",
      "100%|██████████| 1230/1230 [00:08<00:00, 152.15it/s]\n",
      "  1%|          | 2/246 [00:00<00:17, 13.97it/s]"
     ]
    },
    {
     "name": "stdout",
     "output_type": "stream",
     "text": [
      "accuray: 0.2895\n",
      "0.2895\n"
     ]
    },
    {
     "name": "stderr",
     "output_type": "stream",
     "text": [
      "100%|██████████| 246/246 [02:46<00:00,  1.48it/s]\n",
      "100%|██████████| 1230/1230 [00:01<00:00, 849.85it/s]\n",
      "  1%|          | 2/246 [00:00<00:16, 14.80it/s]"
     ]
    },
    {
     "name": "stdout",
     "output_type": "stream",
     "text": [
      "accuray: 0.289125\n",
      "0.289125\n"
     ]
    },
    {
     "name": "stderr",
     "output_type": "stream",
     "text": [
      "100%|██████████| 246/246 [02:46<00:00,  1.47it/s]\n",
      "100%|██████████| 1230/1230 [00:01<00:00, 807.94it/s]\n",
      "  1%|          | 2/246 [00:00<00:16, 14.69it/s]"
     ]
    },
    {
     "name": "stdout",
     "output_type": "stream",
     "text": [
      "accuray: 0.29004166666666664\n",
      "0.29004166666666664\n"
     ]
    },
    {
     "name": "stderr",
     "output_type": "stream",
     "text": [
      "100%|██████████| 246/246 [02:53<00:00,  1.42it/s]\n",
      "100%|██████████| 1230/1230 [00:01<00:00, 848.09it/s]\n",
      "  1%|          | 2/246 [00:00<00:16, 14.38it/s]"
     ]
    },
    {
     "name": "stdout",
     "output_type": "stream",
     "text": [
      "accuray: 0.29108333333333336\n",
      "0.29108333333333336\n"
     ]
    },
    {
     "name": "stderr",
     "output_type": "stream",
     "text": [
      "100%|██████████| 246/246 [02:46<00:00,  1.48it/s]\n",
      "100%|██████████| 1230/1230 [00:01<00:00, 846.92it/s]\n",
      "  1%|          | 2/246 [00:00<00:16, 14.38it/s]"
     ]
    },
    {
     "name": "stdout",
     "output_type": "stream",
     "text": [
      "accuray: 0.2899583333333333\n",
      "0.2899583333333333\n"
     ]
    },
    {
     "name": "stderr",
     "output_type": "stream",
     "text": [
      "100%|██████████| 246/246 [02:52<00:00,  1.43it/s]\n",
      "100%|██████████| 1230/1230 [00:01<00:00, 818.71it/s]\n",
      "  1%|          | 2/246 [00:00<00:16, 14.48it/s]"
     ]
    },
    {
     "name": "stdout",
     "output_type": "stream",
     "text": [
      "accuray: 0.28983333333333333\n",
      "0.28983333333333333\n"
     ]
    },
    {
     "name": "stderr",
     "output_type": "stream",
     "text": [
      "100%|██████████| 246/246 [02:46<00:00,  1.48it/s]\n",
      "100%|██████████| 1230/1230 [00:01<00:00, 834.84it/s]\n",
      "  1%|          | 2/246 [00:00<00:16, 14.48it/s]"
     ]
    },
    {
     "name": "stdout",
     "output_type": "stream",
     "text": [
      "accuray: 0.28991666666666666\n",
      "0.28991666666666666\n"
     ]
    },
    {
     "name": "stderr",
     "output_type": "stream",
     "text": [
      "100%|██████████| 246/246 [02:46<00:00,  1.47it/s]\n",
      "100%|██████████| 1230/1230 [00:01<00:00, 848.09it/s]\n",
      "  1%|          | 2/246 [00:00<00:16, 14.69it/s]"
     ]
    },
    {
     "name": "stdout",
     "output_type": "stream",
     "text": [
      "accuray: 0.290375\n",
      "0.290375\n"
     ]
    },
    {
     "name": "stderr",
     "output_type": "stream",
     "text": [
      "100%|██████████| 246/246 [02:50<00:00,  1.44it/s]\n",
      "100%|██████████| 1230/1230 [00:01<00:00, 846.92it/s]\n",
      "  1%|          | 2/246 [00:00<00:17, 13.97it/s]"
     ]
    },
    {
     "name": "stdout",
     "output_type": "stream",
     "text": [
      "accuray: 0.2899583333333333\n",
      "0.2899583333333333\n"
     ]
    },
    {
     "name": "stderr",
     "output_type": "stream",
     "text": [
      "100%|██████████| 246/246 [02:45<00:00,  1.49it/s]\n",
      "100%|██████████| 1230/1230 [00:01<00:00, 847.51it/s]\n",
      "  1%|          | 2/246 [00:00<00:17, 14.17it/s]"
     ]
    },
    {
     "name": "stdout",
     "output_type": "stream",
     "text": [
      "accuray: 0.289875\n",
      "0.289875\n"
     ]
    },
    {
     "name": "stderr",
     "output_type": "stream",
     "text": [
      "100%|██████████| 246/246 [02:48<00:00,  1.46it/s]\n",
      "100%|██████████| 1230/1230 [00:01<00:00, 760.92it/s]\n",
      "  1%|          | 2/246 [00:00<00:16, 14.80it/s]"
     ]
    },
    {
     "name": "stdout",
     "output_type": "stream",
     "text": [
      "accuray: 0.291125\n",
      "0.291125\n"
     ]
    },
    {
     "name": "stderr",
     "output_type": "stream",
     "text": [
      "100%|██████████| 246/246 [02:50<00:00,  1.44it/s]\n",
      "100%|██████████| 1230/1230 [00:01<00:00, 852.21it/s]\n",
      "  1%|          | 2/246 [00:00<00:16, 14.69it/s]"
     ]
    },
    {
     "name": "stdout",
     "output_type": "stream",
     "text": [
      "accuray: 0.291\n",
      "0.291\n"
     ]
    },
    {
     "name": "stderr",
     "output_type": "stream",
     "text": [
      "100%|██████████| 246/246 [02:47<00:00,  1.47it/s]\n",
      "100%|██████████| 1230/1230 [00:01<00:00, 839.97it/s]\n",
      "  1%|          | 2/246 [00:00<00:17, 14.27it/s]"
     ]
    },
    {
     "name": "stdout",
     "output_type": "stream",
     "text": [
      "accuray: 0.29054166666666664\n",
      "0.29054166666666664\n"
     ]
    },
    {
     "name": "stderr",
     "output_type": "stream",
     "text": [
      "100%|██████████| 246/246 [02:48<00:00,  1.46it/s]\n",
      "100%|██████████| 1230/1230 [00:01<00:00, 848.09it/s]\n",
      "  1%|          | 2/246 [00:00<00:16, 14.80it/s]"
     ]
    },
    {
     "name": "stdout",
     "output_type": "stream",
     "text": [
      "accuray: 0.29079166666666667\n",
      "0.29079166666666667\n"
     ]
    },
    {
     "name": "stderr",
     "output_type": "stream",
     "text": [
      "100%|██████████| 246/246 [02:53<00:00,  1.42it/s]\n",
      "100%|██████████| 1230/1230 [00:01<00:00, 852.21it/s]\n",
      "  1%|          | 2/246 [00:00<00:16, 14.80it/s]"
     ]
    },
    {
     "name": "stdout",
     "output_type": "stream",
     "text": [
      "accuray: 0.29025\n",
      "0.29025\n"
     ]
    },
    {
     "name": "stderr",
     "output_type": "stream",
     "text": [
      "100%|██████████| 246/246 [02:49<00:00,  1.45it/s]\n",
      "100%|██████████| 1230/1230 [00:01<00:00, 851.03it/s]\n",
      "  1%|          | 2/246 [00:00<00:16, 14.59it/s]"
     ]
    },
    {
     "name": "stdout",
     "output_type": "stream",
     "text": [
      "accuray: 0.29079166666666667\n",
      "0.29079166666666667\n"
     ]
    },
    {
     "name": "stderr",
     "output_type": "stream",
     "text": [
      "100%|██████████| 246/246 [02:53<00:00,  1.41it/s]\n",
      "100%|██████████| 1230/1230 [00:01<00:00, 845.17it/s]\n",
      "  1%|          | 2/246 [00:00<00:16, 14.48it/s]"
     ]
    },
    {
     "name": "stdout",
     "output_type": "stream",
     "text": [
      "accuray: 0.290875\n",
      "0.290875\n"
     ]
    },
    {
     "name": "stderr",
     "output_type": "stream",
     "text": [
      "100%|██████████| 246/246 [02:45<00:00,  1.48it/s]\n",
      "100%|██████████| 1230/1230 [00:01<00:00, 844.59it/s]\n",
      "  1%|          | 2/246 [00:00<00:16, 14.80it/s]"
     ]
    },
    {
     "name": "stdout",
     "output_type": "stream",
     "text": [
      "accuray: 0.29020833333333335\n",
      "0.29020833333333335\n"
     ]
    },
    {
     "name": "stderr",
     "output_type": "stream",
     "text": [
      "100%|██████████| 246/246 [02:46<00:00,  1.47it/s]\n",
      "100%|██████████| 1230/1230 [00:01<00:00, 842.85it/s]\n",
      "  1%|          | 2/246 [00:00<00:16, 14.48it/s]"
     ]
    },
    {
     "name": "stdout",
     "output_type": "stream",
     "text": [
      "accuray: 0.291\n",
      "0.291\n"
     ]
    },
    {
     "name": "stderr",
     "output_type": "stream",
     "text": [
      "100%|██████████| 246/246 [02:54<00:00,  1.41it/s]\n",
      "100%|██████████| 1230/1230 [00:01<00:00, 846.92it/s]\n",
      "  1%|          | 2/246 [00:00<00:17, 14.17it/s]"
     ]
    },
    {
     "name": "stdout",
     "output_type": "stream",
     "text": [
      "accuray: 0.29141666666666666\n",
      "0.29141666666666666\n"
     ]
    },
    {
     "name": "stderr",
     "output_type": "stream",
     "text": [
      "100%|██████████| 246/246 [02:47<00:00,  1.47it/s]\n",
      "100%|██████████| 1230/1230 [00:01<00:00, 822.54it/s]\n",
      "  1%|          | 2/246 [00:00<00:16, 14.80it/s]"
     ]
    },
    {
     "name": "stdout",
     "output_type": "stream",
     "text": [
      "accuray: 0.2895\n",
      "0.2895\n"
     ]
    },
    {
     "name": "stderr",
     "output_type": "stream",
     "text": [
      "100%|██████████| 246/246 [02:51<00:00,  1.43it/s]\n",
      "100%|██████████| 1230/1230 [00:01<00:00, 842.86it/s]\n",
      "  1%|          | 2/246 [00:00<00:16, 14.69it/s]"
     ]
    },
    {
     "name": "stdout",
     "output_type": "stream",
     "text": [
      "accuray: 0.28908333333333336\n",
      "0.28908333333333336\n"
     ]
    },
    {
     "name": "stderr",
     "output_type": "stream",
     "text": [
      "100%|██████████| 246/246 [02:46<00:00,  1.48it/s]\n",
      "100%|██████████| 1230/1230 [00:01<00:00, 836.54it/s]\n",
      "  1%|          | 2/246 [00:00<00:16, 14.80it/s]"
     ]
    },
    {
     "name": "stdout",
     "output_type": "stream",
     "text": [
      "accuray: 0.29183333333333333\n",
      "0.29183333333333333\n"
     ]
    },
    {
     "name": "stderr",
     "output_type": "stream",
     "text": [
      "100%|██████████| 246/246 [02:46<00:00,  1.48it/s]\n",
      "100%|██████████| 1230/1230 [00:01<00:00, 842.28it/s]\n",
      "  1%|          | 2/246 [00:00<00:16, 14.59it/s]"
     ]
    },
    {
     "name": "stdout",
     "output_type": "stream",
     "text": [
      "accuray: 0.290875\n",
      "0.290875\n"
     ]
    },
    {
     "name": "stderr",
     "output_type": "stream",
     "text": [
      "100%|██████████| 246/246 [02:55<00:00,  1.40it/s]\n",
      "100%|██████████| 1230/1230 [00:01<00:00, 844.01it/s]\n",
      "  1%|          | 2/246 [00:00<00:16, 14.69it/s]"
     ]
    },
    {
     "name": "stdout",
     "output_type": "stream",
     "text": [
      "accuray: 0.29054166666666664\n",
      "0.29054166666666664\n"
     ]
    },
    {
     "name": "stderr",
     "output_type": "stream",
     "text": [
      "100%|██████████| 246/246 [02:48<00:00,  1.46it/s]\n",
      "100%|██████████| 1230/1230 [00:01<00:00, 781.23it/s]\n",
      "  1%|          | 2/246 [00:00<00:16, 14.80it/s]"
     ]
    },
    {
     "name": "stdout",
     "output_type": "stream",
     "text": [
      "accuray: 0.2896666666666667\n",
      "0.2896666666666667\n"
     ]
    },
    {
     "name": "stderr",
     "output_type": "stream",
     "text": [
      "100%|██████████| 246/246 [02:47<00:00,  1.47it/s]\n",
      "100%|██████████| 1230/1230 [00:01<00:00, 834.27it/s]\n",
      "  1%|          | 2/246 [00:00<00:16, 14.59it/s]"
     ]
    },
    {
     "name": "stdout",
     "output_type": "stream",
     "text": [
      "accuray: 0.2905\n",
      "0.2905\n"
     ]
    },
    {
     "name": "stderr",
     "output_type": "stream",
     "text": [
      "100%|██████████| 246/246 [02:52<00:00,  1.42it/s]\n",
      "100%|██████████| 1230/1230 [00:01<00:00, 842.86it/s]\n",
      "  1%|          | 2/246 [00:00<00:16, 14.69it/s]"
     ]
    },
    {
     "name": "stdout",
     "output_type": "stream",
     "text": [
      "accuray: 0.2896666666666667\n",
      "0.2896666666666667\n"
     ]
    },
    {
     "name": "stderr",
     "output_type": "stream",
     "text": [
      "100%|██████████| 246/246 [02:49<00:00,  1.45it/s]\n",
      "100%|██████████| 1230/1230 [00:01<00:00, 836.72it/s]\n",
      "  1%|          | 2/246 [00:00<00:16, 14.80it/s]"
     ]
    },
    {
     "name": "stdout",
     "output_type": "stream",
     "text": [
      "accuray: 0.28983333333333333\n",
      "0.28983333333333333\n"
     ]
    },
    {
     "name": "stderr",
     "output_type": "stream",
     "text": [
      "100%|██████████| 246/246 [02:45<00:00,  1.49it/s]\n",
      "100%|██████████| 1230/1230 [00:01<00:00, 800.57it/s]\n",
      "  1%|          | 2/246 [00:00<00:16, 14.48it/s]"
     ]
    },
    {
     "name": "stdout",
     "output_type": "stream",
     "text": [
      "accuray: 0.29120833333333335\n",
      "0.29120833333333335\n"
     ]
    },
    {
     "name": "stderr",
     "output_type": "stream",
     "text": [
      "100%|██████████| 246/246 [02:54<00:00,  1.41it/s]\n",
      "100%|██████████| 1230/1230 [00:01<00:00, 835.98it/s]\n",
      "  1%|          | 2/246 [00:00<00:17, 14.17it/s]"
     ]
    },
    {
     "name": "stdout",
     "output_type": "stream",
     "text": [
      "accuray: 0.29025\n",
      "0.29025\n"
     ]
    },
    {
     "name": "stderr",
     "output_type": "stream",
     "text": [
      "100%|██████████| 246/246 [02:51<00:00,  1.44it/s]\n",
      "100%|██████████| 1230/1230 [00:01<00:00, 846.34it/s]\n",
      "  1%|          | 2/246 [00:00<00:16, 14.48it/s]"
     ]
    },
    {
     "name": "stdout",
     "output_type": "stream",
     "text": [
      "accuray: 0.28933333333333333\n",
      "0.28933333333333333\n"
     ]
    },
    {
     "name": "stderr",
     "output_type": "stream",
     "text": [
      "100%|██████████| 246/246 [02:45<00:00,  1.49it/s]\n",
      "100%|██████████| 1230/1230 [00:01<00:00, 749.32it/s]\n",
      "  1%|          | 2/246 [00:00<00:16, 14.69it/s]"
     ]
    },
    {
     "name": "stdout",
     "output_type": "stream",
     "text": [
      "accuray: 0.29083333333333333\n",
      "0.29083333333333333\n"
     ]
    },
    {
     "name": "stderr",
     "output_type": "stream",
     "text": [
      "100%|██████████| 246/246 [02:56<00:00,  1.39it/s]\n",
      "100%|██████████| 1230/1230 [00:01<00:00, 843.43it/s]\n",
      "  1%|          | 2/246 [00:00<00:16, 14.59it/s]"
     ]
    },
    {
     "name": "stdout",
     "output_type": "stream",
     "text": [
      "accuray: 0.29070833333333335\n",
      "0.29070833333333335\n"
     ]
    },
    {
     "name": "stderr",
     "output_type": "stream",
     "text": [
      "100%|██████████| 246/246 [02:44<00:00,  1.50it/s]\n",
      "100%|██████████| 1230/1230 [00:01<00:00, 837.11it/s]\n",
      "  1%|          | 2/246 [00:00<00:16, 14.59it/s]"
     ]
    },
    {
     "name": "stdout",
     "output_type": "stream",
     "text": [
      "accuray: 0.2915\n",
      "0.2915\n"
     ]
    },
    {
     "name": "stderr",
     "output_type": "stream",
     "text": [
      "100%|██████████| 246/246 [02:47<00:00,  1.47it/s]\n",
      "100%|██████████| 1230/1230 [00:01<00:00, 844.59it/s]\n",
      "  1%|          | 2/246 [00:00<00:16, 14.59it/s]"
     ]
    },
    {
     "name": "stdout",
     "output_type": "stream",
     "text": [
      "accuray: 0.28929166666666667\n",
      "0.28929166666666667\n"
     ]
    },
    {
     "name": "stderr",
     "output_type": "stream",
     "text": [
      "100%|██████████| 246/246 [02:47<00:00,  1.47it/s]\n",
      "100%|██████████| 1230/1230 [00:01<00:00, 847.51it/s]\n",
      "  1%|          | 2/246 [00:00<00:17, 13.88it/s]"
     ]
    },
    {
     "name": "stdout",
     "output_type": "stream",
     "text": [
      "accuray: 0.28970833333333335\n",
      "0.28970833333333335\n"
     ]
    },
    {
     "name": "stderr",
     "output_type": "stream",
     "text": [
      "100%|██████████| 246/246 [02:43<00:00,  1.51it/s]\n",
      "100%|██████████| 1230/1230 [00:01<00:00, 844.01it/s]\n",
      "  1%|          | 2/246 [00:00<00:16, 14.91it/s]"
     ]
    },
    {
     "name": "stdout",
     "output_type": "stream",
     "text": [
      "accuray: 0.290375\n",
      "0.290375\n"
     ]
    },
    {
     "name": "stderr",
     "output_type": "stream",
     "text": [
      "100%|██████████| 246/246 [02:53<00:00,  1.42it/s]\n",
      "100%|██████████| 1230/1230 [00:01<00:00, 848.68it/s]\n",
      "  1%|          | 2/246 [00:00<00:16, 14.59it/s]"
     ]
    },
    {
     "name": "stdout",
     "output_type": "stream",
     "text": [
      "accuray: 0.29083333333333333\n",
      "0.29083333333333333\n"
     ]
    },
    {
     "name": "stderr",
     "output_type": "stream",
     "text": [
      "100%|██████████| 246/246 [02:46<00:00,  1.48it/s]\n",
      "100%|██████████| 1230/1230 [00:01<00:00, 844.01it/s]\n",
      "  1%|          | 2/246 [00:00<00:16, 14.59it/s]"
     ]
    },
    {
     "name": "stdout",
     "output_type": "stream",
     "text": [
      "accuray: 0.29029166666666667\n",
      "0.29029166666666667\n"
     ]
    },
    {
     "name": "stderr",
     "output_type": "stream",
     "text": [
      "100%|██████████| 246/246 [02:46<00:00,  1.48it/s]\n",
      "100%|██████████| 1230/1230 [00:01<00:00, 844.59it/s]\n",
      "  1%|          | 2/246 [00:00<00:16, 14.59it/s]"
     ]
    },
    {
     "name": "stdout",
     "output_type": "stream",
     "text": [
      "accuray: 0.29058333333333336\n",
      "0.29058333333333336\n"
     ]
    },
    {
     "name": "stderr",
     "output_type": "stream",
     "text": [
      "100%|██████████| 246/246 [02:47<00:00,  1.47it/s]\n",
      "100%|██████████| 1230/1230 [00:01<00:00, 780.74it/s]\n",
      "  1%|          | 2/246 [00:00<00:16, 14.59it/s]"
     ]
    },
    {
     "name": "stdout",
     "output_type": "stream",
     "text": [
      "accuray: 0.290875\n",
      "0.290875\n"
     ]
    },
    {
     "name": "stderr",
     "output_type": "stream",
     "text": [
      "100%|██████████| 246/246 [02:56<00:00,  1.40it/s]\n",
      "100%|██████████| 1230/1230 [00:01<00:00, 846.92it/s]\n",
      "  1%|          | 2/246 [00:00<00:16, 14.80it/s]"
     ]
    },
    {
     "name": "stdout",
     "output_type": "stream",
     "text": [
      "accuray: 0.29108333333333336\n",
      "0.29108333333333336\n"
     ]
    },
    {
     "name": "stderr",
     "output_type": "stream",
     "text": [
      "100%|██████████| 246/246 [02:43<00:00,  1.50it/s]\n",
      "100%|██████████| 1230/1230 [00:01<00:00, 793.85it/s]\n",
      "  1%|          | 2/246 [00:00<00:16, 14.59it/s]"
     ]
    },
    {
     "name": "stdout",
     "output_type": "stream",
     "text": [
      "accuray: 0.289625\n",
      "0.289625\n"
     ]
    },
    {
     "name": "stderr",
     "output_type": "stream",
     "text": [
      "100%|██████████| 246/246 [02:50<00:00,  1.45it/s]\n",
      "100%|██████████| 1230/1230 [00:01<00:00, 769.98it/s]\n",
      "  1%|          | 2/246 [00:00<00:16, 14.59it/s]"
     ]
    },
    {
     "name": "stdout",
     "output_type": "stream",
     "text": [
      "accuray: 0.28983333333333333\n",
      "0.28983333333333333\n"
     ]
    },
    {
     "name": "stderr",
     "output_type": "stream",
     "text": [
      "100%|██████████| 246/246 [02:46<00:00,  1.48it/s]\n",
      "100%|██████████| 1230/1230 [00:01<00:00, 836.54it/s]\n",
      "  1%|          | 2/246 [00:00<00:16, 14.80it/s]"
     ]
    },
    {
     "name": "stdout",
     "output_type": "stream",
     "text": [
      "accuray: 0.29008333333333336\n",
      "0.29008333333333336\n"
     ]
    },
    {
     "name": "stderr",
     "output_type": "stream",
     "text": [
      "100%|██████████| 246/246 [02:48<00:00,  1.46it/s]\n",
      "100%|██████████| 1230/1230 [00:01<00:00, 843.43it/s]\n",
      "  1%|          | 2/246 [00:00<00:17, 14.17it/s]"
     ]
    },
    {
     "name": "stdout",
     "output_type": "stream",
     "text": [
      "accuray: 0.2911666666666667\n",
      "0.2911666666666667\n"
     ]
    },
    {
     "name": "stderr",
     "output_type": "stream",
     "text": [
      "100%|██████████| 246/246 [02:57<00:00,  1.39it/s]\n",
      "100%|██████████| 1230/1230 [00:01<00:00, 846.92it/s]\n",
      "  1%|          | 2/246 [00:00<00:16, 14.59it/s]"
     ]
    },
    {
     "name": "stdout",
     "output_type": "stream",
     "text": [
      "accuray: 0.29075\n",
      "0.29075\n"
     ]
    },
    {
     "name": "stderr",
     "output_type": "stream",
     "text": [
      "100%|██████████| 246/246 [02:44<00:00,  1.49it/s]\n",
      "100%|██████████| 1230/1230 [00:01<00:00, 771.91it/s]\n",
      "  1%|          | 2/246 [00:00<00:16, 14.59it/s]"
     ]
    },
    {
     "name": "stdout",
     "output_type": "stream",
     "text": [
      "accuray: 0.28970833333333335\n",
      "0.28970833333333335\n"
     ]
    },
    {
     "name": "stderr",
     "output_type": "stream",
     "text": [
      "100%|██████████| 246/246 [02:44<00:00,  1.50it/s]\n",
      "100%|██████████| 1230/1230 [00:01<00:00, 777.28it/s]\n",
      "  1%|          | 2/246 [00:00<00:16, 14.80it/s]"
     ]
    },
    {
     "name": "stdout",
     "output_type": "stream",
     "text": [
      "accuray: 0.2891666666666667\n",
      "0.2891666666666667\n"
     ]
    },
    {
     "name": "stderr",
     "output_type": "stream",
     "text": [
      "100%|██████████| 246/246 [02:46<00:00,  1.48it/s]\n",
      "100%|██████████| 1230/1230 [00:01<00:00, 844.59it/s]\n",
      "  1%|          | 2/246 [00:00<00:16, 14.69it/s]"
     ]
    },
    {
     "name": "stdout",
     "output_type": "stream",
     "text": [
      "accuray: 0.28979166666666667\n",
      "0.28979166666666667\n"
     ]
    },
    {
     "name": "stderr",
     "output_type": "stream",
     "text": [
      "100%|██████████| 246/246 [02:48<00:00,  1.46it/s]\n",
      "100%|██████████| 1230/1230 [00:01<00:00, 844.01it/s]\n",
      "  1%|          | 2/246 [00:00<00:16, 14.59it/s]"
     ]
    },
    {
     "name": "stdout",
     "output_type": "stream",
     "text": [
      "accuray: 0.29075\n",
      "0.29075\n"
     ]
    },
    {
     "name": "stderr",
     "output_type": "stream",
     "text": [
      "100%|██████████| 246/246 [02:47<00:00,  1.46it/s]\n",
      "100%|██████████| 1230/1230 [00:01<00:00, 843.43it/s]\n",
      "  1%|          | 2/246 [00:00<00:16, 14.69it/s]"
     ]
    },
    {
     "name": "stdout",
     "output_type": "stream",
     "text": [
      "accuray: 0.2899583333333333\n",
      "0.2899583333333333\n"
     ]
    },
    {
     "name": "stderr",
     "output_type": "stream",
     "text": [
      "100%|██████████| 246/246 [02:55<00:00,  1.40it/s]\n",
      "100%|██████████| 1230/1230 [00:01<00:00, 822.55it/s]\n",
      "  1%|          | 2/246 [00:00<00:16, 14.48it/s]"
     ]
    },
    {
     "name": "stdout",
     "output_type": "stream",
     "text": [
      "accuray: 0.28941666666666666\n",
      "0.28941666666666666\n"
     ]
    },
    {
     "name": "stderr",
     "output_type": "stream",
     "text": [
      "100%|██████████| 246/246 [02:47<00:00,  1.47it/s]\n",
      "100%|██████████| 1230/1230 [00:01<00:00, 839.97it/s]\n",
      "  1%|          | 2/246 [00:00<00:16, 14.48it/s]"
     ]
    },
    {
     "name": "stdout",
     "output_type": "stream",
     "text": [
      "accuray: 0.291375\n",
      "0.291375\n"
     ]
    },
    {
     "name": "stderr",
     "output_type": "stream",
     "text": [
      "100%|██████████| 246/246 [02:46<00:00,  1.48it/s]\n",
      "100%|██████████| 1230/1230 [00:01<00:00, 766.15it/s]\n",
      "  1%|          | 2/246 [00:00<00:16, 14.69it/s]"
     ]
    },
    {
     "name": "stdout",
     "output_type": "stream",
     "text": [
      "accuray: 0.29079166666666667\n",
      "0.29079166666666667\n"
     ]
    },
    {
     "name": "stderr",
     "output_type": "stream",
     "text": [
      "100%|██████████| 246/246 [02:47<00:00,  1.47it/s]\n",
      "100%|██████████| 1230/1230 [00:01<00:00, 775.32it/s]\n",
      "  1%|          | 2/246 [00:00<00:16, 14.69it/s]"
     ]
    },
    {
     "name": "stdout",
     "output_type": "stream",
     "text": [
      "accuray: 0.29179166666666667\n",
      "0.29179166666666667\n"
     ]
    },
    {
     "name": "stderr",
     "output_type": "stream",
     "text": [
      "100%|██████████| 246/246 [02:48<00:00,  1.46it/s]\n",
      "100%|██████████| 1230/1230 [00:01<00:00, 849.26it/s]\n",
      "  1%|          | 2/246 [00:00<00:16, 14.80it/s]"
     ]
    },
    {
     "name": "stdout",
     "output_type": "stream",
     "text": [
      "accuray: 0.291\n",
      "0.291\n"
     ]
    },
    {
     "name": "stderr",
     "output_type": "stream",
     "text": [
      "100%|██████████| 246/246 [02:48<00:00,  1.46it/s]\n",
      "100%|██████████| 1230/1230 [00:01<00:00, 843.43it/s]\n",
      "  1%|          | 2/246 [00:00<00:16, 14.69it/s]"
     ]
    },
    {
     "name": "stdout",
     "output_type": "stream",
     "text": [
      "accuray: 0.290125\n",
      "0.290125\n"
     ]
    },
    {
     "name": "stderr",
     "output_type": "stream",
     "text": [
      "100%|██████████| 246/246 [02:46<00:00,  1.48it/s]\n",
      "100%|██████████| 1230/1230 [00:01<00:00, 845.17it/s]\n",
      "  1%|          | 2/246 [00:00<00:16, 14.80it/s]"
     ]
    },
    {
     "name": "stdout",
     "output_type": "stream",
     "text": [
      "accuray: 0.29054166666666664\n",
      "0.29054166666666664\n"
     ]
    },
    {
     "name": "stderr",
     "output_type": "stream",
     "text": [
      "100%|██████████| 246/246 [02:52<00:00,  1.42it/s]\n",
      "100%|██████████| 1230/1230 [00:01<00:00, 773.86it/s]\n",
      "  1%|          | 2/246 [00:00<00:16, 14.69it/s]"
     ]
    },
    {
     "name": "stdout",
     "output_type": "stream",
     "text": [
      "accuray: 0.290625\n",
      "0.290625\n"
     ]
    },
    {
     "name": "stderr",
     "output_type": "stream",
     "text": [
      "100%|██████████| 246/246 [02:46<00:00,  1.48it/s]\n",
      "100%|██████████| 1230/1230 [00:01<00:00, 842.28it/s]\n",
      "  1%|          | 2/246 [00:00<00:16, 14.48it/s]"
     ]
    },
    {
     "name": "stdout",
     "output_type": "stream",
     "text": [
      "accuray: 0.29041666666666666\n",
      "0.29041666666666666\n"
     ]
    },
    {
     "name": "stderr",
     "output_type": "stream",
     "text": [
      "100%|██████████| 246/246 [02:47<00:00,  1.47it/s]\n",
      "100%|██████████| 1230/1230 [00:01<00:00, 837.68it/s]\n",
      "  1%|          | 2/246 [00:00<00:16, 14.59it/s]"
     ]
    },
    {
     "name": "stdout",
     "output_type": "stream",
     "text": [
      "accuray: 0.29070833333333335\n",
      "0.29070833333333335\n"
     ]
    },
    {
     "name": "stderr",
     "output_type": "stream",
     "text": [
      "100%|██████████| 246/246 [02:48<00:00,  1.46it/s]\n",
      "100%|██████████| 1230/1230 [00:01<00:00, 848.09it/s]\n",
      "  1%|          | 2/246 [00:00<00:16, 14.91it/s]"
     ]
    },
    {
     "name": "stdout",
     "output_type": "stream",
     "text": [
      "accuray: 0.29025\n",
      "0.29025\n"
     ]
    },
    {
     "name": "stderr",
     "output_type": "stream",
     "text": [
      "100%|██████████| 246/246 [02:47<00:00,  1.47it/s]\n",
      "100%|██████████| 1230/1230 [00:01<00:00, 843.43it/s]\n",
      "  1%|          | 2/246 [00:00<00:16, 14.48it/s]"
     ]
    },
    {
     "name": "stdout",
     "output_type": "stream",
     "text": [
      "accuray: 0.29008333333333336\n",
      "0.29008333333333336\n"
     ]
    },
    {
     "name": "stderr",
     "output_type": "stream",
     "text": [
      "100%|██████████| 246/246 [02:48<00:00,  1.46it/s]\n",
      "100%|██████████| 1230/1230 [00:01<00:00, 766.14it/s]\n",
      "  1%|          | 2/246 [00:00<00:16, 14.59it/s]"
     ]
    },
    {
     "name": "stdout",
     "output_type": "stream",
     "text": [
      "accuray: 0.2905\n",
      "0.2905\n"
     ]
    },
    {
     "name": "stderr",
     "output_type": "stream",
     "text": [
      "100%|██████████| 246/246 [02:45<00:00,  1.49it/s]\n",
      "100%|██████████| 1230/1230 [00:01<00:00, 837.11it/s]\n",
      "  1%|          | 2/246 [00:00<00:16, 14.59it/s]"
     ]
    },
    {
     "name": "stdout",
     "output_type": "stream",
     "text": [
      "accuray: 0.29108333333333336\n",
      "0.29108333333333336\n"
     ]
    },
    {
     "name": "stderr",
     "output_type": "stream",
     "text": [
      "100%|██████████| 246/246 [02:55<00:00,  1.40it/s]\n",
      "100%|██████████| 1230/1230 [00:01<00:00, 821.99it/s]\n",
      "  1%|          | 2/246 [00:00<00:17, 14.27it/s]"
     ]
    },
    {
     "name": "stdout",
     "output_type": "stream",
     "text": [
      "accuray: 0.290625\n",
      "0.290625\n"
     ]
    },
    {
     "name": "stderr",
     "output_type": "stream",
     "text": [
      "100%|██████████| 246/246 [02:47<00:00,  1.47it/s]\n",
      "100%|██████████| 1230/1230 [00:01<00:00, 847.50it/s]\n",
      "  1%|          | 2/246 [00:00<00:16, 14.38it/s]"
     ]
    },
    {
     "name": "stdout",
     "output_type": "stream",
     "text": [
      "accuray: 0.2916666666666667\n",
      "0.2916666666666667\n"
     ]
    },
    {
     "name": "stderr",
     "output_type": "stream",
     "text": [
      "100%|██████████| 246/246 [02:46<00:00,  1.48it/s]\n",
      "100%|██████████| 1230/1230 [00:01<00:00, 844.59it/s]\n",
      "  1%|          | 2/246 [00:00<00:16, 14.48it/s]"
     ]
    },
    {
     "name": "stdout",
     "output_type": "stream",
     "text": [
      "accuray: 0.29083333333333333\n",
      "0.29083333333333333\n"
     ]
    },
    {
     "name": "stderr",
     "output_type": "stream",
     "text": [
      "100%|██████████| 246/246 [02:46<00:00,  1.48it/s]\n",
      "100%|██████████| 1230/1230 [00:01<00:00, 846.34it/s]\n",
      "  1%|          | 2/246 [00:00<00:16, 14.69it/s]"
     ]
    },
    {
     "name": "stdout",
     "output_type": "stream",
     "text": [
      "accuray: 0.29020833333333335\n",
      "0.29020833333333335\n"
     ]
    },
    {
     "name": "stderr",
     "output_type": "stream",
     "text": [
      "100%|██████████| 246/246 [02:46<00:00,  1.48it/s]\n",
      "100%|██████████| 1230/1230 [00:01<00:00, 837.68it/s]\n",
      "  1%|          | 2/246 [00:00<00:16, 14.59it/s]"
     ]
    },
    {
     "name": "stdout",
     "output_type": "stream",
     "text": [
      "accuray: 0.290875\n",
      "0.290875\n"
     ]
    },
    {
     "name": "stderr",
     "output_type": "stream",
     "text": [
      "100%|██████████| 246/246 [02:49<00:00,  1.45it/s]\n",
      "100%|██████████| 1230/1230 [00:01<00:00, 845.76it/s]\n",
      "  1%|          | 2/246 [00:00<00:16, 14.59it/s]"
     ]
    },
    {
     "name": "stdout",
     "output_type": "stream",
     "text": [
      "accuray: 0.29070833333333335\n",
      "0.29070833333333335\n"
     ]
    },
    {
     "name": "stderr",
     "output_type": "stream",
     "text": [
      "100%|██████████| 246/246 [02:48<00:00,  1.46it/s]\n",
      "100%|██████████| 1230/1230 [00:01<00:00, 844.59it/s]\n",
      "  1%|          | 2/246 [00:00<00:16, 14.69it/s]"
     ]
    },
    {
     "name": "stdout",
     "output_type": "stream",
     "text": [
      "accuray: 0.29083333333333333\n",
      "0.29083333333333333\n"
     ]
    },
    {
     "name": "stderr",
     "output_type": "stream",
     "text": [
      "100%|██████████| 246/246 [02:46<00:00,  1.48it/s]\n",
      "100%|██████████| 1230/1230 [00:01<00:00, 792.32it/s]\n",
      "  1%|          | 2/246 [00:00<00:16, 14.80it/s]"
     ]
    },
    {
     "name": "stdout",
     "output_type": "stream",
     "text": [
      "accuray: 0.29041666666666666\n",
      "0.29041666666666666\n"
     ]
    },
    {
     "name": "stderr",
     "output_type": "stream",
     "text": [
      "100%|██████████| 246/246 [02:53<00:00,  1.42it/s]\n",
      "100%|██████████| 1230/1230 [00:01<00:00, 839.40it/s]\n",
      "  1%|          | 2/246 [00:00<00:16, 14.48it/s]"
     ]
    },
    {
     "name": "stdout",
     "output_type": "stream",
     "text": [
      "accuray: 0.29079166666666667\n",
      "0.29079166666666667\n"
     ]
    },
    {
     "name": "stderr",
     "output_type": "stream",
     "text": [
      "100%|██████████| 246/246 [02:46<00:00,  1.48it/s]\n",
      "100%|██████████| 1230/1230 [00:01<00:00, 838.83it/s]\n",
      "  1%|          | 2/246 [00:00<00:16, 14.80it/s]"
     ]
    },
    {
     "name": "stdout",
     "output_type": "stream",
     "text": [
      "accuray: 0.289375\n",
      "0.289375\n"
     ]
    },
    {
     "name": "stderr",
     "output_type": "stream",
     "text": [
      "100%|██████████| 246/246 [02:49<00:00,  1.45it/s]\n",
      "100%|██████████| 1230/1230 [00:01<00:00, 769.01it/s]\n",
      "  1%|          | 2/246 [00:00<00:16, 14.48it/s]"
     ]
    },
    {
     "name": "stdout",
     "output_type": "stream",
     "text": [
      "accuray: 0.2909583333333333\n",
      "0.2909583333333333\n"
     ]
    },
    {
     "name": "stderr",
     "output_type": "stream",
     "text": [
      "100%|██████████| 246/246 [02:49<00:00,  1.45it/s]\n",
      "100%|██████████| 1230/1230 [00:01<00:00, 845.76it/s]\n",
      "  1%|          | 2/246 [00:00<00:16, 14.69it/s]"
     ]
    },
    {
     "name": "stdout",
     "output_type": "stream",
     "text": [
      "accuray: 0.29020833333333335\n",
      "0.29020833333333335\n"
     ]
    },
    {
     "name": "stderr",
     "output_type": "stream",
     "text": [
      "100%|██████████| 246/246 [02:47<00:00,  1.47it/s]\n",
      "100%|██████████| 1230/1230 [00:01<00:00, 788.76it/s]\n",
      "  1%|          | 2/246 [00:00<00:16, 14.59it/s]"
     ]
    },
    {
     "name": "stdout",
     "output_type": "stream",
     "text": [
      "accuray: 0.291375\n",
      "0.291375\n"
     ]
    },
    {
     "name": "stderr",
     "output_type": "stream",
     "text": [
      "100%|██████████| 246/246 [02:43<00:00,  1.50it/s]\n",
      "100%|██████████| 1230/1230 [00:01<00:00, 750.69it/s]\n",
      "  1%|          | 2/246 [00:00<00:16, 14.38it/s]"
     ]
    },
    {
     "name": "stdout",
     "output_type": "stream",
     "text": [
      "accuray: 0.2906666666666667\n",
      "0.2906666666666667\n"
     ]
    },
    {
     "name": "stderr",
     "output_type": "stream",
     "text": [
      "100%|██████████| 246/246 [02:47<00:00,  1.47it/s]\n",
      "100%|██████████| 1230/1230 [00:01<00:00, 840.55it/s]\n",
      "  1%|          | 2/246 [00:00<00:16, 14.69it/s]"
     ]
    },
    {
     "name": "stdout",
     "output_type": "stream",
     "text": [
      "accuray: 0.29025\n",
      "0.29025\n"
     ]
    },
    {
     "name": "stderr",
     "output_type": "stream",
     "text": [
      "100%|██████████| 246/246 [02:47<00:00,  1.47it/s]\n",
      "100%|██████████| 1230/1230 [00:01<00:00, 840.55it/s]\n",
      "\u001b[34m\u001b[1mwandb\u001b[0m: \u001b[33mWARNING\u001b[0m A graphql request initiated by the public wandb API timed out (timeout=9 sec). Create a new API with an integer timeout larger than 9, e.g., `api = wandb.Api(timeout=19)` to increase the graphql timeout.\n",
      "  1%|          | 2/246 [00:00<00:17, 14.27it/s]"
     ]
    },
    {
     "name": "stdout",
     "output_type": "stream",
     "text": [
      "accuray: 0.291125\n",
      "0.291125\n"
     ]
    },
    {
     "name": "stderr",
     "output_type": "stream",
     "text": [
      "100%|██████████| 246/246 [02:46<00:00,  1.48it/s]\n",
      "100%|██████████| 1230/1230 [00:01<00:00, 794.37it/s]\n",
      "  1%|          | 2/246 [00:00<00:17, 14.27it/s]"
     ]
    },
    {
     "name": "stdout",
     "output_type": "stream",
     "text": [
      "accuray: 0.291\n",
      "0.291\n"
     ]
    },
    {
     "name": "stderr",
     "output_type": "stream",
     "text": [
      "100%|██████████| 246/246 [02:47<00:00,  1.46it/s]\n",
      "100%|██████████| 1230/1230 [00:01<00:00, 839.97it/s]\n",
      "  1%|          | 2/246 [00:00<00:16, 14.69it/s]"
     ]
    },
    {
     "name": "stdout",
     "output_type": "stream",
     "text": [
      "accuray: 0.2904583333333333\n",
      "0.2904583333333333\n"
     ]
    },
    {
     "name": "stderr",
     "output_type": "stream",
     "text": [
      "100%|██████████| 246/246 [02:47<00:00,  1.47it/s]\n",
      "100%|██████████| 1230/1230 [00:01<00:00, 843.43it/s]\n",
      "  1%|          | 2/246 [00:00<00:16, 14.59it/s]"
     ]
    },
    {
     "name": "stdout",
     "output_type": "stream",
     "text": [
      "accuray: 0.29041666666666666\n",
      "0.29041666666666666\n"
     ]
    },
    {
     "name": "stderr",
     "output_type": "stream",
     "text": [
      "100%|██████████| 246/246 [02:56<00:00,  1.40it/s]\n",
      "100%|██████████| 1230/1230 [00:01<00:00, 839.40it/s]\n",
      "  1%|          | 2/246 [00:00<00:17, 14.17it/s]"
     ]
    },
    {
     "name": "stdout",
     "output_type": "stream",
     "text": [
      "accuray: 0.29070833333333335\n",
      "0.29070833333333335\n"
     ]
    },
    {
     "name": "stderr",
     "output_type": "stream",
     "text": [
      "100%|██████████| 246/246 [02:51<00:00,  1.44it/s]\n",
      "100%|██████████| 1230/1230 [00:01<00:00, 841.70it/s]\n",
      "  1%|          | 2/246 [00:00<00:16, 14.38it/s]"
     ]
    },
    {
     "name": "stdout",
     "output_type": "stream",
     "text": [
      "accuray: 0.29091666666666666\n",
      "0.29091666666666666\n"
     ]
    },
    {
     "name": "stderr",
     "output_type": "stream",
     "text": [
      "100%|██████████| 246/246 [02:49<00:00,  1.45it/s]\n",
      "100%|██████████| 1230/1230 [00:01<00:00, 842.28it/s]\n",
      "  1%|          | 2/246 [00:00<00:16, 14.59it/s]"
     ]
    },
    {
     "name": "stdout",
     "output_type": "stream",
     "text": [
      "accuray: 0.2915\n",
      "0.2915\n"
     ]
    },
    {
     "name": "stderr",
     "output_type": "stream",
     "text": [
      "100%|██████████| 246/246 [02:46<00:00,  1.47it/s]\n",
      "100%|██████████| 1230/1230 [00:01<00:00, 844.01it/s]\n",
      "  1%|          | 2/246 [00:00<00:17, 14.27it/s]"
     ]
    },
    {
     "name": "stdout",
     "output_type": "stream",
     "text": [
      "accuray: 0.291625\n",
      "0.291625\n"
     ]
    },
    {
     "name": "stderr",
     "output_type": "stream",
     "text": [
      "100%|██████████| 246/246 [02:50<00:00,  1.45it/s]\n",
      "100%|██████████| 1230/1230 [00:01<00:00, 742.08it/s]\n",
      "  1%|          | 2/246 [00:00<00:16, 14.69it/s]"
     ]
    },
    {
     "name": "stdout",
     "output_type": "stream",
     "text": [
      "accuray: 0.29008333333333336\n",
      "0.29008333333333336\n"
     ]
    },
    {
     "name": "stderr",
     "output_type": "stream",
     "text": [
      "100%|██████████| 246/246 [02:53<00:00,  1.42it/s]\n",
      "100%|██████████| 1230/1230 [00:01<00:00, 751.82it/s]\n",
      "  1%|          | 2/246 [00:00<00:17, 13.69it/s]"
     ]
    },
    {
     "name": "stdout",
     "output_type": "stream",
     "text": [
      "accuray: 0.292\n",
      "0.292\n"
     ]
    },
    {
     "name": "stderr",
     "output_type": "stream",
     "text": [
      "100%|██████████| 246/246 [03:11<00:00,  1.28it/s]\n",
      "100%|██████████| 1230/1230 [00:01<00:00, 778.76it/s]\n",
      "  1%|          | 2/246 [00:00<00:17, 13.94it/s]"
     ]
    },
    {
     "name": "stdout",
     "output_type": "stream",
     "text": [
      "accuray: 0.29075\n",
      "0.29075\n"
     ]
    },
    {
     "name": "stderr",
     "output_type": "stream",
     "text": [
      "100%|██████████| 246/246 [02:54<00:00,  1.41it/s]\n",
      "100%|██████████| 1230/1230 [00:01<00:00, 791.30it/s]\n",
      "  1%|          | 2/246 [00:00<00:16, 14.59it/s]"
     ]
    },
    {
     "name": "stdout",
     "output_type": "stream",
     "text": [
      "accuray: 0.290125\n",
      "0.290125\n"
     ]
    },
    {
     "name": "stderr",
     "output_type": "stream",
     "text": [
      "100%|██████████| 246/246 [02:47<00:00,  1.47it/s]\n",
      "100%|██████████| 1230/1230 [00:01<00:00, 821.45it/s]\n",
      "  1%|          | 2/246 [00:00<00:17, 14.07it/s]"
     ]
    },
    {
     "name": "stdout",
     "output_type": "stream",
     "text": [
      "accuray: 0.29033333333333333\n",
      "0.29033333333333333\n"
     ]
    },
    {
     "name": "stderr",
     "output_type": "stream",
     "text": [
      "100%|██████████| 246/246 [02:50<00:00,  1.44it/s]\n",
      "100%|██████████| 1230/1230 [00:01<00:00, 768.53it/s]\n",
      "  1%|          | 2/246 [00:00<00:16, 14.48it/s]"
     ]
    },
    {
     "name": "stdout",
     "output_type": "stream",
     "text": [
      "accuray: 0.291125\n",
      "0.291125\n"
     ]
    },
    {
     "name": "stderr",
     "output_type": "stream",
     "text": [
      "100%|██████████| 246/246 [02:46<00:00,  1.47it/s]\n",
      "100%|██████████| 1230/1230 [00:01<00:00, 803.19it/s]\n",
      "  1%|          | 2/246 [00:00<00:16, 14.38it/s]"
     ]
    },
    {
     "name": "stdout",
     "output_type": "stream",
     "text": [
      "accuray: 0.29104166666666664\n",
      "0.29104166666666664\n"
     ]
    },
    {
     "name": "stderr",
     "output_type": "stream",
     "text": [
      "100%|██████████| 246/246 [02:48<00:00,  1.46it/s]\n",
      "100%|██████████| 1230/1230 [00:01<00:00, 738.96it/s]\n",
      "  1%|          | 2/246 [00:00<00:17, 14.17it/s]"
     ]
    },
    {
     "name": "stdout",
     "output_type": "stream",
     "text": [
      "accuray: 0.29079166666666667\n",
      "0.29079166666666667\n"
     ]
    },
    {
     "name": "stderr",
     "output_type": "stream",
     "text": [
      "100%|██████████| 246/246 [02:49<00:00,  1.45it/s]\n",
      "100%|██████████| 1230/1230 [00:01<00:00, 824.75it/s]\n",
      "  1%|          | 2/246 [00:00<00:17, 13.88it/s]"
     ]
    },
    {
     "name": "stdout",
     "output_type": "stream",
     "text": [
      "accuray: 0.291125\n",
      "0.291125\n"
     ]
    },
    {
     "name": "stderr",
     "output_type": "stream",
     "text": [
      "100%|██████████| 246/246 [02:49<00:00,  1.45it/s]\n",
      "100%|██████████| 1230/1230 [00:01<00:00, 790.28it/s]\n",
      "  1%|          | 2/246 [00:00<00:16, 14.48it/s]"
     ]
    },
    {
     "name": "stdout",
     "output_type": "stream",
     "text": [
      "accuray: 0.29079166666666667\n",
      "0.29079166666666667\n"
     ]
    },
    {
     "name": "stderr",
     "output_type": "stream",
     "text": [
      "100%|██████████| 246/246 [02:50<00:00,  1.44it/s]\n",
      "100%|██████████| 1230/1230 [00:01<00:00, 812.22it/s]\n",
      "  1%|          | 2/246 [00:00<00:17, 14.27it/s]"
     ]
    },
    {
     "name": "stdout",
     "output_type": "stream",
     "text": [
      "accuray: 0.29158333333333336\n",
      "0.29158333333333336\n"
     ]
    },
    {
     "name": "stderr",
     "output_type": "stream",
     "text": [
      "100%|██████████| 246/246 [02:49<00:00,  1.45it/s]\n",
      "100%|██████████| 1230/1230 [00:01<00:00, 843.43it/s]\n",
      "  1%|          | 2/246 [00:00<00:16, 14.69it/s]"
     ]
    },
    {
     "name": "stdout",
     "output_type": "stream",
     "text": [
      "accuray: 0.2920833333333333\n",
      "0.2920833333333333\n"
     ]
    },
    {
     "name": "stderr",
     "output_type": "stream",
     "text": [
      "100%|██████████| 246/246 [02:46<00:00,  1.48it/s]\n",
      "100%|██████████| 1230/1230 [00:01<00:00, 839.40it/s]\n",
      "  1%|          | 2/246 [00:00<00:16, 14.38it/s]"
     ]
    },
    {
     "name": "stdout",
     "output_type": "stream",
     "text": [
      "accuray: 0.29175\n",
      "0.29175\n"
     ]
    },
    {
     "name": "stderr",
     "output_type": "stream",
     "text": [
      "100%|██████████| 246/246 [02:46<00:00,  1.48it/s]\n",
      "100%|██████████| 1230/1230 [00:01<00:00, 748.86it/s]\n",
      "  1%|          | 2/246 [00:00<00:16, 14.69it/s]"
     ]
    },
    {
     "name": "stdout",
     "output_type": "stream",
     "text": [
      "accuray: 0.29170833333333335\n",
      "0.29170833333333335\n"
     ]
    },
    {
     "name": "stderr",
     "output_type": "stream",
     "text": [
      "100%|██████████| 246/246 [02:46<00:00,  1.48it/s]\n",
      "100%|██████████| 1230/1230 [00:01<00:00, 846.92it/s]\n",
      "  1%|          | 2/246 [00:00<00:16, 14.59it/s]"
     ]
    },
    {
     "name": "stdout",
     "output_type": "stream",
     "text": [
      "accuray: 0.2905\n",
      "0.2905\n"
     ]
    },
    {
     "name": "stderr",
     "output_type": "stream",
     "text": [
      "100%|██████████| 246/246 [02:47<00:00,  1.47it/s]\n",
      "100%|██████████| 1230/1230 [00:01<00:00, 846.34it/s]\n",
      "  1%|          | 2/246 [00:00<00:16, 14.69it/s]"
     ]
    },
    {
     "name": "stdout",
     "output_type": "stream",
     "text": [
      "accuray: 0.290875\n",
      "0.290875\n"
     ]
    },
    {
     "name": "stderr",
     "output_type": "stream",
     "text": [
      "100%|██████████| 246/246 [02:47<00:00,  1.47it/s]\n",
      "100%|██████████| 1230/1230 [00:01<00:00, 848.68it/s]\n",
      "  1%|          | 2/246 [00:00<00:16, 14.69it/s]"
     ]
    },
    {
     "name": "stdout",
     "output_type": "stream",
     "text": [
      "accuray: 0.290875\n",
      "0.290875\n"
     ]
    },
    {
     "name": "stderr",
     "output_type": "stream",
     "text": [
      "100%|██████████| 246/246 [02:49<00:00,  1.45it/s]\n",
      "100%|██████████| 1230/1230 [00:01<00:00, 772.88it/s]\n",
      "  1%|          | 2/246 [00:00<00:17, 14.27it/s]"
     ]
    },
    {
     "name": "stdout",
     "output_type": "stream",
     "text": [
      "accuray: 0.29075\n",
      "0.29075\n"
     ]
    },
    {
     "name": "stderr",
     "output_type": "stream",
     "text": [
      "100%|██████████| 246/246 [02:48<00:00,  1.46it/s]\n",
      "100%|██████████| 1230/1230 [00:01<00:00, 849.26it/s]\n",
      "  1%|          | 2/246 [00:00<00:17, 14.27it/s]"
     ]
    },
    {
     "name": "stdout",
     "output_type": "stream",
     "text": [
      "accuray: 0.29191666666666666\n",
      "0.29191666666666666\n"
     ]
    },
    {
     "name": "stderr",
     "output_type": "stream",
     "text": [
      "100%|██████████| 246/246 [02:49<00:00,  1.45it/s]\n",
      "100%|██████████| 1230/1230 [00:01<00:00, 774.83it/s]\n",
      "  1%|          | 2/246 [00:00<00:16, 14.48it/s]"
     ]
    },
    {
     "name": "stdout",
     "output_type": "stream",
     "text": [
      "accuray: 0.2901666666666667\n",
      "0.2901666666666667\n"
     ]
    },
    {
     "name": "stderr",
     "output_type": "stream",
     "text": [
      "100%|██████████| 246/246 [02:47<00:00,  1.47it/s]\n",
      "100%|██████████| 1230/1230 [00:01<00:00, 847.51it/s]\n",
      "  1%|          | 2/246 [00:00<00:17, 14.27it/s]"
     ]
    },
    {
     "name": "stdout",
     "output_type": "stream",
     "text": [
      "accuray: 0.29083333333333333\n",
      "0.29083333333333333\n"
     ]
    },
    {
     "name": "stderr",
     "output_type": "stream",
     "text": [
      "100%|██████████| 246/246 [02:48<00:00,  1.46it/s]\n",
      "100%|██████████| 1230/1230 [00:01<00:00, 838.83it/s]\n",
      "  1%|          | 2/246 [00:00<00:17, 14.27it/s]"
     ]
    },
    {
     "name": "stdout",
     "output_type": "stream",
     "text": [
      "accuray: 0.2915\n",
      "0.2915\n"
     ]
    },
    {
     "name": "stderr",
     "output_type": "stream",
     "text": [
      "100%|██████████| 246/246 [02:47<00:00,  1.47it/s]\n",
      "100%|██████████| 1230/1230 [00:01<00:00, 774.34it/s]\n",
      "  1%|          | 2/246 [00:00<00:17, 14.17it/s]"
     ]
    },
    {
     "name": "stdout",
     "output_type": "stream",
     "text": [
      "accuray: 0.2906666666666667\n",
      "0.2906666666666667\n"
     ]
    },
    {
     "name": "stderr",
     "output_type": "stream",
     "text": [
      "100%|██████████| 246/246 [02:48<00:00,  1.46it/s]\n",
      "100%|██████████| 1230/1230 [00:01<00:00, 843.43it/s]\n",
      "  1%|          | 2/246 [00:00<00:16, 14.38it/s]"
     ]
    },
    {
     "name": "stdout",
     "output_type": "stream",
     "text": [
      "accuray: 0.29025\n",
      "0.29025\n"
     ]
    },
    {
     "name": "stderr",
     "output_type": "stream",
     "text": [
      "100%|██████████| 246/246 [02:49<00:00,  1.45it/s]\n",
      "100%|██████████| 1230/1230 [00:01<00:00, 824.20it/s]\n",
      "  1%|          | 2/246 [00:00<00:16, 14.80it/s]"
     ]
    },
    {
     "name": "stdout",
     "output_type": "stream",
     "text": [
      "accuray: 0.29141666666666666\n",
      "0.29141666666666666\n"
     ]
    },
    {
     "name": "stderr",
     "output_type": "stream",
     "text": [
      "100%|██████████| 246/246 [02:49<00:00,  1.45it/s]\n",
      "100%|██████████| 1230/1230 [00:01<00:00, 785.23it/s]\n",
      "  1%|          | 2/246 [00:00<00:16, 14.59it/s]"
     ]
    },
    {
     "name": "stdout",
     "output_type": "stream",
     "text": [
      "accuray: 0.29158333333333336\n",
      "0.29158333333333336\n"
     ]
    },
    {
     "name": "stderr",
     "output_type": "stream",
     "text": [
      "100%|██████████| 246/246 [02:46<00:00,  1.48it/s]\n",
      "100%|██████████| 1230/1230 [00:01<00:00, 849.85it/s]\n",
      "  1%|          | 2/246 [00:00<00:16, 14.69it/s]"
     ]
    },
    {
     "name": "stdout",
     "output_type": "stream",
     "text": [
      "accuray: 0.29054166666666664\n",
      "0.29054166666666664\n"
     ]
    },
    {
     "name": "stderr",
     "output_type": "stream",
     "text": [
      "100%|██████████| 246/246 [02:46<00:00,  1.48it/s]\n",
      "100%|██████████| 1230/1230 [00:01<00:00, 848.68it/s]\n",
      "  1%|          | 2/246 [00:00<00:16, 14.80it/s]"
     ]
    },
    {
     "name": "stdout",
     "output_type": "stream",
     "text": [
      "accuray: 0.29154166666666664\n",
      "0.29154166666666664\n"
     ]
    },
    {
     "name": "stderr",
     "output_type": "stream",
     "text": [
      "100%|██████████| 246/246 [02:49<00:00,  1.45it/s]\n",
      "100%|██████████| 1230/1230 [00:01<00:00, 782.23it/s]\n",
      "  1%|          | 2/246 [00:00<00:16, 14.57it/s]"
     ]
    },
    {
     "name": "stdout",
     "output_type": "stream",
     "text": [
      "accuray: 0.29170833333333335\n",
      "0.29170833333333335\n"
     ]
    },
    {
     "name": "stderr",
     "output_type": "stream",
     "text": [
      "100%|██████████| 246/246 [02:48<00:00,  1.46it/s]\n",
      "100%|██████████| 1230/1230 [00:01<00:00, 846.34it/s]\n",
      "  1%|          | 2/246 [00:00<00:16, 14.69it/s]"
     ]
    },
    {
     "name": "stdout",
     "output_type": "stream",
     "text": [
      "accuray: 0.2916666666666667\n",
      "0.2916666666666667\n"
     ]
    },
    {
     "name": "stderr",
     "output_type": "stream",
     "text": [
      "100%|██████████| 246/246 [02:46<00:00,  1.48it/s]\n",
      "100%|██████████| 1230/1230 [00:01<00:00, 848.09it/s]\n",
      "  1%|          | 2/246 [00:00<00:16, 14.69it/s]"
     ]
    },
    {
     "name": "stdout",
     "output_type": "stream",
     "text": [
      "accuray: 0.29129166666666667\n",
      "0.29129166666666667\n"
     ]
    },
    {
     "name": "stderr",
     "output_type": "stream",
     "text": [
      "100%|██████████| 246/246 [02:49<00:00,  1.45it/s]\n",
      "100%|██████████| 1230/1230 [00:01<00:00, 844.01it/s]\n",
      "  1%|          | 2/246 [00:00<00:16, 14.80it/s]"
     ]
    },
    {
     "name": "stdout",
     "output_type": "stream",
     "text": [
      "accuray: 0.2906666666666667\n",
      "0.2906666666666667\n"
     ]
    },
    {
     "name": "stderr",
     "output_type": "stream",
     "text": [
      "100%|██████████| 246/246 [02:54<00:00,  1.41it/s]\n",
      "100%|██████████| 1230/1230 [00:01<00:00, 796.94it/s]\n",
      "  1%|          | 2/246 [00:00<00:17, 14.27it/s]"
     ]
    },
    {
     "name": "stdout",
     "output_type": "stream",
     "text": [
      "accuray: 0.29133333333333333\n",
      "0.29133333333333333\n"
     ]
    },
    {
     "name": "stderr",
     "output_type": "stream",
     "text": [
      "100%|██████████| 246/246 [02:49<00:00,  1.45it/s]\n",
      "100%|██████████| 1230/1230 [00:01<00:00, 791.81it/s]\n",
      "  1%|          | 2/246 [00:00<00:16, 14.38it/s]"
     ]
    },
    {
     "name": "stdout",
     "output_type": "stream",
     "text": [
      "accuray: 0.29020833333333335\n",
      "0.29020833333333335\n",
      "Epoch 00371: reducing learning rate of group 0 to 5.0000e-05.\n"
     ]
    },
    {
     "name": "stderr",
     "output_type": "stream",
     "text": [
      "100%|██████████| 246/246 [02:50<00:00,  1.44it/s]\n",
      "100%|██████████| 1230/1230 [00:01<00:00, 828.65it/s]\n",
      "  1%|          | 2/246 [00:00<00:17, 14.27it/s]"
     ]
    },
    {
     "name": "stdout",
     "output_type": "stream",
     "text": [
      "accuray: 0.2914583333333333\n",
      "0.2914583333333333\n"
     ]
    },
    {
     "name": "stderr",
     "output_type": "stream",
     "text": [
      "100%|██████████| 246/246 [02:49<00:00,  1.45it/s]\n",
      "100%|██████████| 1230/1230 [00:01<00:00, 833.71it/s]\n",
      "  1%|          | 2/246 [00:00<00:16, 14.59it/s]"
     ]
    },
    {
     "name": "stdout",
     "output_type": "stream",
     "text": [
      "accuray: 0.29108333333333336\n",
      "0.29108333333333336\n"
     ]
    },
    {
     "name": "stderr",
     "output_type": "stream",
     "text": [
      "100%|██████████| 246/246 [02:49<00:00,  1.45it/s]\n",
      "100%|██████████| 1230/1230 [00:01<00:00, 782.23it/s]\n",
      "  1%|          | 2/246 [00:00<00:16, 14.48it/s]"
     ]
    },
    {
     "name": "stdout",
     "output_type": "stream",
     "text": [
      "accuray: 0.291375\n",
      "0.291375\n"
     ]
    },
    {
     "name": "stderr",
     "output_type": "stream",
     "text": [
      "100%|██████████| 246/246 [02:50<00:00,  1.44it/s]\n",
      "100%|██████████| 1230/1230 [00:01<00:00, 835.97it/s]\n",
      "  1%|          | 2/246 [00:00<00:16, 14.38it/s]"
     ]
    },
    {
     "name": "stdout",
     "output_type": "stream",
     "text": [
      "accuray: 0.29191666666666666\n",
      "0.29191666666666666\n"
     ]
    },
    {
     "name": "stderr",
     "output_type": "stream",
     "text": [
      "100%|██████████| 246/246 [02:50<00:00,  1.45it/s]\n",
      "100%|██████████| 1230/1230 [00:01<00:00, 834.84it/s]\n",
      "  1%|          | 2/246 [00:00<00:16, 14.48it/s]"
     ]
    },
    {
     "name": "stdout",
     "output_type": "stream",
     "text": [
      "accuray: 0.29179166666666667\n",
      "0.29179166666666667\n"
     ]
    },
    {
     "name": "stderr",
     "output_type": "stream",
     "text": [
      "100%|██████████| 246/246 [02:48<00:00,  1.46it/s]\n",
      "100%|██████████| 1230/1230 [00:01<00:00, 832.58it/s]\n",
      "  1%|          | 2/246 [00:00<00:16, 14.48it/s]"
     ]
    },
    {
     "name": "stdout",
     "output_type": "stream",
     "text": [
      "accuray: 0.29108333333333336\n",
      "0.29108333333333336\n"
     ]
    },
    {
     "name": "stderr",
     "output_type": "stream",
     "text": [
      "100%|██████████| 246/246 [02:51<00:00,  1.43it/s]\n",
      "100%|██████████| 1230/1230 [00:01<00:00, 747.95it/s]\n",
      "  1%|          | 2/246 [00:00<00:17, 14.07it/s]"
     ]
    },
    {
     "name": "stdout",
     "output_type": "stream",
     "text": [
      "accuray: 0.29091666666666666\n",
      "0.29091666666666666\n"
     ]
    },
    {
     "name": "stderr",
     "output_type": "stream",
     "text": [
      "100%|██████████| 246/246 [02:49<00:00,  1.45it/s]\n",
      "100%|██████████| 1230/1230 [00:01<00:00, 812.75it/s]\n",
      "  1%|          | 2/246 [00:00<00:17, 14.17it/s]"
     ]
    },
    {
     "name": "stdout",
     "output_type": "stream",
     "text": [
      "accuray: 0.29091666666666666\n",
      "0.29091666666666666\n"
     ]
    },
    {
     "name": "stderr",
     "output_type": "stream",
     "text": [
      "100%|██████████| 246/246 [02:48<00:00,  1.46it/s]\n",
      "100%|██████████| 1230/1230 [00:01<00:00, 754.84it/s]\n",
      "  1%|          | 2/246 [00:00<00:16, 14.38it/s]"
     ]
    },
    {
     "name": "stdout",
     "output_type": "stream",
     "text": [
      "accuray: 0.29225\n",
      "0.29225\n"
     ]
    },
    {
     "name": "stderr",
     "output_type": "stream",
     "text": [
      "100%|██████████| 246/246 [02:45<00:00,  1.48it/s]\n",
      "100%|██████████| 1230/1230 [00:01<00:00, 835.41it/s]\n",
      "  1%|          | 2/246 [00:00<00:17, 14.17it/s]"
     ]
    },
    {
     "name": "stdout",
     "output_type": "stream",
     "text": [
      "accuray: 0.291625\n",
      "0.291625\n"
     ]
    },
    {
     "name": "stderr",
     "output_type": "stream",
     "text": [
      "100%|██████████| 246/246 [02:52<00:00,  1.43it/s]\n",
      "100%|██████████| 1230/1230 [00:01<00:00, 825.31it/s]\n",
      "  1%|          | 2/246 [00:00<00:16, 14.48it/s]"
     ]
    },
    {
     "name": "stdout",
     "output_type": "stream",
     "text": [
      "accuray: 0.29054166666666664\n",
      "0.29054166666666664\n"
     ]
    },
    {
     "name": "stderr",
     "output_type": "stream",
     "text": [
      "100%|██████████| 246/246 [02:59<00:00,  1.37it/s]\n",
      "100%|██████████| 1230/1230 [00:01<00:00, 818.16it/s]\n",
      "  1%|          | 2/246 [00:00<00:16, 14.59it/s]"
     ]
    },
    {
     "name": "stdout",
     "output_type": "stream",
     "text": [
      "accuray: 0.29191666666666666\n",
      "0.29191666666666666\n"
     ]
    },
    {
     "name": "stderr",
     "output_type": "stream",
     "text": [
      "100%|██████████| 246/246 [02:50<00:00,  1.44it/s]\n",
      "100%|██████████| 1230/1230 [00:01<00:00, 701.42it/s]\n",
      "  1%|          | 2/246 [00:00<00:16, 14.59it/s]"
     ]
    },
    {
     "name": "stdout",
     "output_type": "stream",
     "text": [
      "accuray: 0.2914583333333333\n",
      "0.2914583333333333\n"
     ]
    },
    {
     "name": "stderr",
     "output_type": "stream",
     "text": [
      "100%|██████████| 246/246 [02:40<00:00,  1.53it/s]\n",
      "100%|██████████| 1230/1230 [00:01<00:00, 824.20it/s]\n",
      "  1%|          | 2/246 [00:00<00:16, 14.59it/s]"
     ]
    },
    {
     "name": "stdout",
     "output_type": "stream",
     "text": [
      "accuray: 0.292125\n",
      "0.292125\n"
     ]
    },
    {
     "name": "stderr",
     "output_type": "stream",
     "text": [
      "100%|██████████| 246/246 [02:49<00:00,  1.45it/s]\n",
      "100%|██████████| 1230/1230 [00:01<00:00, 830.89it/s]\n",
      "  1%|          | 2/246 [00:00<00:17, 13.97it/s]"
     ]
    },
    {
     "name": "stdout",
     "output_type": "stream",
     "text": [
      "accuray: 0.29104166666666664\n",
      "0.29104166666666664\n"
     ]
    },
    {
     "name": "stderr",
     "output_type": "stream",
     "text": [
      "100%|██████████| 246/246 [02:52<00:00,  1.42it/s]\n",
      "100%|██████████| 1230/1230 [00:08<00:00, 137.93it/s]\n",
      "  1%|          | 2/246 [00:00<00:17, 14.27it/s]"
     ]
    },
    {
     "name": "stdout",
     "output_type": "stream",
     "text": [
      "accuray: 0.2916666666666667\n",
      "0.2916666666666667\n"
     ]
    },
    {
     "name": "stderr",
     "output_type": "stream",
     "text": [
      "100%|██████████| 246/246 [02:41<00:00,  1.53it/s]\n",
      "100%|██████████| 1230/1230 [00:01<00:00, 829.21it/s]\n",
      "  1%|          | 2/246 [00:00<00:16, 14.69it/s]"
     ]
    },
    {
     "name": "stdout",
     "output_type": "stream",
     "text": [
      "accuray: 0.291625\n",
      "0.291625\n"
     ]
    },
    {
     "name": "stderr",
     "output_type": "stream",
     "text": [
      "100%|██████████| 246/246 [02:52<00:00,  1.43it/s]\n",
      "100%|██████████| 1230/1230 [00:01<00:00, 772.40it/s]\n",
      "  1%|          | 2/246 [00:00<00:16, 14.38it/s]"
     ]
    },
    {
     "name": "stdout",
     "output_type": "stream",
     "text": [
      "accuray: 0.2911666666666667\n",
      "0.2911666666666667\n"
     ]
    },
    {
     "name": "stderr",
     "output_type": "stream",
     "text": [
      "100%|██████████| 246/246 [02:51<00:00,  1.44it/s]\n",
      "100%|██████████| 1230/1230 [00:01<00:00, 835.41it/s]\n",
      "  1%|          | 2/246 [00:00<00:16, 14.59it/s]"
     ]
    },
    {
     "name": "stdout",
     "output_type": "stream",
     "text": [
      "accuray: 0.29129166666666667\n",
      "0.29129166666666667\n"
     ]
    },
    {
     "name": "stderr",
     "output_type": "stream",
     "text": [
      "100%|██████████| 246/246 [02:48<00:00,  1.46it/s]\n",
      "100%|██████████| 1230/1230 [00:01<00:00, 761.39it/s]\n",
      "  1%|          | 2/246 [00:00<00:16, 14.59it/s]"
     ]
    },
    {
     "name": "stdout",
     "output_type": "stream",
     "text": [
      "accuray: 0.2909583333333333\n",
      "0.2909583333333333\n"
     ]
    },
    {
     "name": "stderr",
     "output_type": "stream",
     "text": [
      "100%|██████████| 246/246 [02:49<00:00,  1.45it/s]\n",
      "100%|██████████| 1230/1230 [00:01<00:00, 827.53it/s]\n",
      "  1%|          | 2/246 [00:00<00:17, 13.97it/s]"
     ]
    },
    {
     "name": "stdout",
     "output_type": "stream",
     "text": [
      "accuray: 0.291625\n",
      "0.291625\n"
     ]
    },
    {
     "name": "stderr",
     "output_type": "stream",
     "text": [
      "100%|██████████| 246/246 [02:51<00:00,  1.44it/s]\n",
      "100%|██████████| 1230/1230 [00:01<00:00, 830.89it/s]\n",
      "  1%|          | 2/246 [00:00<00:16, 14.48it/s]"
     ]
    },
    {
     "name": "stdout",
     "output_type": "stream",
     "text": [
      "accuray: 0.2914583333333333\n",
      "0.2914583333333333\n"
     ]
    },
    {
     "name": "stderr",
     "output_type": "stream",
     "text": [
      "100%|██████████| 246/246 [02:49<00:00,  1.45it/s]\n",
      "100%|██████████| 1230/1230 [00:01<00:00, 835.41it/s]\n",
      "  1%|          | 2/246 [00:00<00:17, 14.07it/s]"
     ]
    },
    {
     "name": "stdout",
     "output_type": "stream",
     "text": [
      "accuray: 0.29075\n",
      "0.29075\n"
     ]
    },
    {
     "name": "stderr",
     "output_type": "stream",
     "text": [
      "100%|██████████| 246/246 [02:56<00:00,  1.39it/s]\n",
      "100%|██████████| 1230/1230 [00:01<00:00, 829.21it/s]\n",
      "  1%|          | 2/246 [00:00<00:17, 14.27it/s]"
     ]
    },
    {
     "name": "stdout",
     "output_type": "stream",
     "text": [
      "accuray: 0.291375\n",
      "0.291375\n"
     ]
    },
    {
     "name": "stderr",
     "output_type": "stream",
     "text": [
      "100%|██████████| 246/246 [02:53<00:00,  1.42it/s]\n",
      "100%|██████████| 1230/1230 [00:01<00:00, 757.63it/s]\n",
      "  1%|          | 2/246 [00:00<00:17, 14.17it/s]"
     ]
    },
    {
     "name": "stdout",
     "output_type": "stream",
     "text": [
      "accuray: 0.291625\n",
      "0.291625\n"
     ]
    },
    {
     "name": "stderr",
     "output_type": "stream",
     "text": [
      "100%|██████████| 246/246 [02:48<00:00,  1.46it/s]\n",
      "100%|██████████| 1230/1230 [00:01<00:00, 807.41it/s]\n",
      "  1%|          | 2/246 [00:00<00:18, 13.06it/s]"
     ]
    },
    {
     "name": "stdout",
     "output_type": "stream",
     "text": [
      "accuray: 0.29120833333333335\n",
      "0.29120833333333335\n"
     ]
    },
    {
     "name": "stderr",
     "output_type": "stream",
     "text": [
      "100%|██████████| 246/246 [02:50<00:00,  1.44it/s]\n",
      "100%|██████████| 1230/1230 [00:01<00:00, 834.27it/s]\n",
      "  1%|          | 2/246 [00:00<00:16, 14.48it/s]"
     ]
    },
    {
     "name": "stdout",
     "output_type": "stream",
     "text": [
      "accuray: 0.29170833333333335\n",
      "0.29170833333333335\n"
     ]
    },
    {
     "name": "stderr",
     "output_type": "stream",
     "text": [
      "100%|██████████| 246/246 [02:52<00:00,  1.42it/s]\n",
      "100%|██████████| 1230/1230 [00:01<00:00, 759.04it/s]\n",
      "  1%|          | 2/246 [00:00<00:17, 13.97it/s]"
     ]
    },
    {
     "name": "stdout",
     "output_type": "stream",
     "text": [
      "accuray: 0.291\n",
      "0.291\n"
     ]
    },
    {
     "name": "stderr",
     "output_type": "stream",
     "text": [
      "100%|██████████| 246/246 [02:48<00:00,  1.46it/s]\n",
      "100%|██████████| 1230/1230 [00:01<00:00, 837.68it/s]\n",
      "  1%|          | 2/246 [00:00<00:16, 14.48it/s]"
     ]
    },
    {
     "name": "stdout",
     "output_type": "stream",
     "text": [
      "accuray: 0.291875\n",
      "0.291875\n"
     ]
    },
    {
     "name": "stderr",
     "output_type": "stream",
     "text": [
      "100%|██████████| 246/246 [02:52<00:00,  1.43it/s]\n",
      "100%|██████████| 1230/1230 [00:01<00:00, 830.33it/s]\n",
      "  1%|          | 2/246 [00:00<00:16, 14.48it/s]"
     ]
    },
    {
     "name": "stdout",
     "output_type": "stream",
     "text": [
      "accuray: 0.2925833333333333\n",
      "0.2925833333333333\n"
     ]
    },
    {
     "name": "stderr",
     "output_type": "stream",
     "text": [
      "100%|██████████| 246/246 [02:54<00:00,  1.41it/s]\n",
      "100%|██████████| 1230/1230 [00:01<00:00, 834.27it/s]\n",
      "  1%|          | 2/246 [00:00<00:16, 14.59it/s]"
     ]
    },
    {
     "name": "stdout",
     "output_type": "stream",
     "text": [
      "accuray: 0.29183333333333333\n",
      "0.29183333333333333\n"
     ]
    },
    {
     "name": "stderr",
     "output_type": "stream",
     "text": [
      "100%|██████████| 246/246 [02:52<00:00,  1.43it/s]\n",
      "100%|██████████| 1230/1230 [00:01<00:00, 788.25it/s]\n",
      "  1%|          | 2/246 [00:00<00:17, 14.07it/s]"
     ]
    },
    {
     "name": "stdout",
     "output_type": "stream",
     "text": [
      "accuray: 0.29108333333333336\n",
      "0.29108333333333336\n"
     ]
    },
    {
     "name": "stderr",
     "output_type": "stream",
     "text": [
      "100%|██████████| 246/246 [02:49<00:00,  1.45it/s]\n",
      "100%|██████████| 1230/1230 [00:01<00:00, 832.58it/s]\n",
      "  1%|          | 2/246 [00:00<00:17, 14.07it/s]"
     ]
    },
    {
     "name": "stdout",
     "output_type": "stream",
     "text": [
      "accuray: 0.2921666666666667\n",
      "0.2921666666666667\n"
     ]
    },
    {
     "name": "stderr",
     "output_type": "stream",
     "text": [
      "100%|██████████| 246/246 [02:51<00:00,  1.44it/s]\n",
      "100%|██████████| 1230/1230 [00:01<00:00, 791.46it/s]\n",
      "  1%|          | 2/246 [00:00<00:16, 14.39it/s]"
     ]
    },
    {
     "name": "stdout",
     "output_type": "stream",
     "text": [
      "accuray: 0.29141666666666666\n",
      "0.29141666666666666\n"
     ]
    },
    {
     "name": "stderr",
     "output_type": "stream",
     "text": [
      "100%|██████████| 246/246 [02:52<00:00,  1.42it/s]\n",
      "100%|██████████| 1230/1230 [00:01<00:00, 774.83it/s]\n",
      "  1%|          | 2/246 [00:00<00:16, 14.38it/s]"
     ]
    },
    {
     "name": "stdout",
     "output_type": "stream",
     "text": [
      "accuray: 0.2916666666666667\n",
      "0.2916666666666667\n"
     ]
    },
    {
     "name": "stderr",
     "output_type": "stream",
     "text": [
      "100%|██████████| 246/246 [02:51<00:00,  1.43it/s]\n",
      "100%|██████████| 1230/1230 [00:01<00:00, 825.86it/s]\n",
      "  1%|          | 2/246 [00:00<00:16, 14.48it/s]"
     ]
    },
    {
     "name": "stdout",
     "output_type": "stream",
     "text": [
      "accuray: 0.290625\n",
      "0.290625\n"
     ]
    },
    {
     "name": "stderr",
     "output_type": "stream",
     "text": [
      "100%|██████████| 246/246 [02:51<00:00,  1.43it/s]\n",
      "100%|██████████| 1230/1230 [00:01<00:00, 774.83it/s]\n",
      "  1%|          | 2/246 [00:00<00:16, 14.38it/s]"
     ]
    },
    {
     "name": "stdout",
     "output_type": "stream",
     "text": [
      "accuray: 0.2909583333333333\n",
      "0.2909583333333333\n"
     ]
    },
    {
     "name": "stderr",
     "output_type": "stream",
     "text": [
      "100%|██████████| 246/246 [02:50<00:00,  1.44it/s]\n",
      "100%|██████████| 1230/1230 [00:01<00:00, 809.54it/s]\n",
      "  1%|          | 2/246 [00:00<00:17, 13.97it/s]"
     ]
    },
    {
     "name": "stdout",
     "output_type": "stream",
     "text": [
      "accuray: 0.29041666666666666\n",
      "0.29041666666666666\n"
     ]
    },
    {
     "name": "stderr",
     "output_type": "stream",
     "text": [
      "100%|██████████| 246/246 [02:52<00:00,  1.42it/s]\n",
      "100%|██████████| 1230/1230 [00:01<00:00, 819.26it/s]\n",
      "  1%|          | 2/246 [00:00<00:16, 14.59it/s]"
     ]
    },
    {
     "name": "stdout",
     "output_type": "stream",
     "text": [
      "accuray: 0.291\n",
      "0.291\n"
     ]
    },
    {
     "name": "stderr",
     "output_type": "stream",
     "text": [
      "100%|██████████| 246/246 [02:51<00:00,  1.44it/s]\n",
      "100%|██████████| 1230/1230 [00:01<00:00, 803.19it/s]\n",
      "  1%|          | 2/246 [00:00<00:17, 13.97it/s]"
     ]
    },
    {
     "name": "stdout",
     "output_type": "stream",
     "text": [
      "accuray: 0.29154166666666664\n",
      "0.29154166666666664\n"
     ]
    },
    {
     "name": "stderr",
     "output_type": "stream",
     "text": [
      "100%|██████████| 246/246 [02:51<00:00,  1.43it/s]\n",
      "100%|██████████| 1230/1230 [00:01<00:00, 829.21it/s]\n",
      "  1%|          | 2/246 [00:00<00:17, 14.27it/s]"
     ]
    },
    {
     "name": "stdout",
     "output_type": "stream",
     "text": [
      "accuray: 0.2915\n",
      "0.2915\n"
     ]
    },
    {
     "name": "stderr",
     "output_type": "stream",
     "text": [
      "100%|██████████| 246/246 [02:51<00:00,  1.43it/s]\n",
      "100%|██████████| 1230/1230 [00:01<00:00, 817.08it/s]\n",
      "  1%|          | 2/246 [00:00<00:17, 14.07it/s]"
     ]
    },
    {
     "name": "stdout",
     "output_type": "stream",
     "text": [
      "accuray: 0.29175\n",
      "0.29175\n"
     ]
    },
    {
     "name": "stderr",
     "output_type": "stream",
     "text": [
      "100%|██████████| 246/246 [02:52<00:00,  1.43it/s]\n",
      "100%|██████████| 1230/1230 [00:01<00:00, 821.45it/s]\n",
      "  1%|          | 2/246 [00:00<00:16, 14.59it/s]"
     ]
    },
    {
     "name": "stdout",
     "output_type": "stream",
     "text": [
      "accuray: 0.29233333333333333\n",
      "0.29233333333333333\n"
     ]
    },
    {
     "name": "stderr",
     "output_type": "stream",
     "text": [
      "100%|██████████| 246/246 [02:51<00:00,  1.43it/s]\n",
      "100%|██████████| 1230/1230 [00:01<00:00, 803.19it/s]\n",
      "  1%|          | 2/246 [00:00<00:17, 13.78it/s]"
     ]
    },
    {
     "name": "stdout",
     "output_type": "stream",
     "text": [
      "accuray: 0.29254166666666664\n",
      "0.29254166666666664\n"
     ]
    },
    {
     "name": "stderr",
     "output_type": "stream",
     "text": [
      "100%|██████████| 246/246 [02:51<00:00,  1.43it/s]\n",
      "100%|██████████| 1230/1230 [00:01<00:00, 807.94it/s]\n",
      "  1%|          | 2/246 [00:00<00:17, 14.07it/s]"
     ]
    },
    {
     "name": "stdout",
     "output_type": "stream",
     "text": [
      "accuray: 0.292\n",
      "0.292\n"
     ]
    },
    {
     "name": "stderr",
     "output_type": "stream",
     "text": [
      "100%|██████████| 246/246 [02:49<00:00,  1.45it/s]\n",
      "100%|██████████| 1230/1230 [00:01<00:00, 699.02it/s]\n",
      "  1%|          | 2/246 [00:00<00:17, 13.78it/s]"
     ]
    },
    {
     "name": "stdout",
     "output_type": "stream",
     "text": [
      "accuray: 0.2920833333333333\n",
      "0.2920833333333333\n"
     ]
    },
    {
     "name": "stderr",
     "output_type": "stream",
     "text": [
      "100%|██████████| 246/246 [02:42<00:00,  1.52it/s]\n",
      "100%|██████████| 1230/1230 [00:01<00:00, 821.45it/s]\n",
      "  1%|          | 2/246 [00:00<00:16, 14.38it/s]"
     ]
    },
    {
     "name": "stdout",
     "output_type": "stream",
     "text": [
      "accuray: 0.29179166666666667\n",
      "0.29179166666666667\n"
     ]
    },
    {
     "name": "stderr",
     "output_type": "stream",
     "text": [
      "100%|██████████| 246/246 [02:52<00:00,  1.43it/s]\n",
      "100%|██████████| 1230/1230 [00:01<00:00, 816.53it/s]\n",
      "  1%|          | 2/246 [00:00<00:17, 13.78it/s]"
     ]
    },
    {
     "name": "stdout",
     "output_type": "stream",
     "text": [
      "accuray: 0.29183333333333333\n",
      "0.29183333333333333\n"
     ]
    },
    {
     "name": "stderr",
     "output_type": "stream",
     "text": [
      "100%|██████████| 246/246 [02:49<00:00,  1.45it/s]\n",
      "100%|██████████| 1230/1230 [00:01<00:00, 802.67it/s]\n",
      "  1%|          | 2/246 [00:00<00:17, 14.17it/s]"
     ]
    },
    {
     "name": "stdout",
     "output_type": "stream",
     "text": [
      "accuray: 0.29183333333333333\n",
      "0.29183333333333333\n"
     ]
    },
    {
     "name": "stderr",
     "output_type": "stream",
     "text": [
      "100%|██████████| 246/246 [02:50<00:00,  1.44it/s]\n",
      "100%|██████████| 1230/1230 [00:01<00:00, 820.90it/s]\n",
      "  1%|          | 2/246 [00:00<00:17, 13.88it/s]"
     ]
    },
    {
     "name": "stdout",
     "output_type": "stream",
     "text": [
      "accuray: 0.29158333333333336\n",
      "0.29158333333333336\n"
     ]
    },
    {
     "name": "stderr",
     "output_type": "stream",
     "text": [
      "100%|██████████| 246/246 [02:43<00:00,  1.51it/s]\n",
      "100%|██████████| 1230/1230 [00:01<00:00, 824.75it/s]\n",
      "  1%|          | 2/246 [00:00<00:16, 14.48it/s]"
     ]
    },
    {
     "name": "stdout",
     "output_type": "stream",
     "text": [
      "accuray: 0.291125\n",
      "0.291125\n"
     ]
    },
    {
     "name": "stderr",
     "output_type": "stream",
     "text": [
      "100%|██████████| 246/246 [02:57<00:00,  1.39it/s]\n",
      "100%|██████████| 1230/1230 [00:01<00:00, 746.35it/s]\n",
      "  1%|          | 2/246 [00:00<00:16, 14.66it/s]"
     ]
    },
    {
     "name": "stdout",
     "output_type": "stream",
     "text": [
      "accuray: 0.29204166666666664\n",
      "0.29204166666666664\n"
     ]
    },
    {
     "name": "stderr",
     "output_type": "stream",
     "text": [
      "  9%|▊         | 21/246 [00:20<03:43,  1.01it/s]\n"
     ]
    },
    {
     "name": "stdout",
     "output_type": "stream",
     "text": [
      "\n"
     ]
    },
    {
     "data": {
      "text/html": [
       "Waiting for W&B process to finish... <strong style=\"color:red\">(failed 1).</strong> Press Ctrl-C to abort syncing."
      ],
      "text/plain": [
       "<IPython.core.display.HTML object>"
      ]
     },
     "metadata": {},
     "output_type": "display_data"
    },
    {
     "data": {
      "application/vnd.jupyter.widget-view+json": {
       "model_id": "0fb5c7c4e88e485bb5fe3eb49b896a56",
       "version_major": 2,
       "version_minor": 0
      },
      "text/plain": [
       "VBox(children=(Label(value='929.072 MB of 929.072 MB uploaded (0.000 MB deduped)\\r'), FloatProgress(value=1.0,…"
      ]
     },
     "metadata": {},
     "output_type": "display_data"
    }
   ],
   "source": [
    "(model,dataset) = model_pipeline(raceDB,config=wandb_config_static)"
   ]
  },
  {
   "cell_type": "code",
   "execution_count": null,
   "metadata": {},
   "outputs": [],
   "source": [
    "pause\n",
    "dataset.create_hidden_states_dict()"
   ]
  },
  {
   "cell_type": "code",
   "execution_count": null,
   "metadata": {},
   "outputs": [],
   "source": [
    "predDB.fill_hidden_states_from_dict(hidden_dict=dataset.hidden_states_dict)"
   ]
  },
  {
   "cell_type": "code",
   "execution_count": null,
   "metadata": {},
   "outputs": [],
   "source": [
    "sweep_id = wandb.sweep(sweep_config, project=\"LSTM_sweeps\")\n",
    "CUDA_LAUNCH_BLOCKING=1\n",
    "wandb.agent(sweep_id, function=model_pipeline, count=100)"
   ]
  }
 ],
 "metadata": {
  "kernelspec": {
   "display_name": "Python 3.9.12 ('pytorch')",
   "language": "python",
   "name": "python3"
  },
  "language_info": {
   "codemirror_mode": {
    "name": "ipython",
    "version": 3
   },
   "file_extension": ".py",
   "mimetype": "text/x-python",
   "name": "python",
   "nbconvert_exporter": "python",
   "pygments_lexer": "ipython3",
   "version": "3.9.12"
  },
  "orig_nbformat": 4,
  "vscode": {
   "interpreter": {
    "hash": "43115443075634c02a7c247a87b0dd9d74842892e56d473b9e19f544f3149aff"
   }
  }
 },
 "nbformat": 4,
 "nbformat_minor": 2
}
