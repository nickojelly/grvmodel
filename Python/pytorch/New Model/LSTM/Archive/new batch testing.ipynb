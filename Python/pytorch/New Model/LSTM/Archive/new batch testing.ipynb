{
 "cells": [
  {
   "cell_type": "code",
   "execution_count": 1,
   "metadata": {},
   "outputs": [],
   "source": [
    "import math"
   ]
  },
  {
   "cell_type": "code",
   "execution_count": 2,
   "metadata": {},
   "outputs": [],
   "source": [
    "len_ds = 1450\n",
    "batch_size = 25\n",
    "group_size = 10"
   ]
  },
  {
   "cell_type": "code",
   "execution_count": 3,
   "metadata": {},
   "outputs": [
    {
     "data": {
      "text/plain": [
       "200"
      ]
     },
     "execution_count": 3,
     "metadata": {},
     "output_type": "execute_result"
    }
   ],
   "source": [
    "len_ds%(batch_size*group_size)"
   ]
  },
  {
   "cell_type": "code",
   "execution_count": 4,
   "metadata": {},
   "outputs": [
    {
     "data": {
      "text/plain": [
       "58.0"
      ]
     },
     "execution_count": 4,
     "metadata": {},
     "output_type": "execute_result"
    }
   ],
   "source": [
    "len_ds/batch_size"
   ]
  },
  {
   "cell_type": "code",
   "execution_count": 5,
   "metadata": {},
   "outputs": [],
   "source": [
    "def batch_indexer(group_len, dataset_len):\n",
    "    num_batches = group_len\n",
    "    group_size = batch_size*group_len\n",
    "    all_batches = []\n",
    "    for n in range(num_batches):\n",
    "        batch = []\n",
    "        \n",
    "        for i in range(dataset_len):\n",
    "            if batch_size*(n)<i%group_size<batch_size*(n+1):\n",
    "                batch.append(i)\n",
    "        \n",
    "        all_batches.append(batch)\n",
    "    return all_batches"
   ]
  },
  {
   "cell_type": "code",
   "execution_count": null,
   "metadata": {},
   "outputs": [],
   "source": [
    "def batch_sizer(groups, dataset_len):\n",
    "    "
   ]
  },
  {
   "cell_type": "code",
   "execution_count": 9,
   "metadata": {},
   "outputs": [],
   "source": [
    "def batch_sizer(groups, dataset_len):\n",
    "    minibatch_size = dataset_len/groups\n",
    "    all_batches = []\n",
    "    for n in range(minibatch_size):\n",
    "        batch = []\n",
    "        for i in range(dataset_len):\n",
    "            if batch_size*(n)<i%group_size<batch_size*(n+1):\n",
    "                batch.append(i)\n",
    "        \n",
    "        all_batches.append(batch)\n",
    "    return all_batches"
   ]
  },
  {
   "cell_type": "code",
   "execution_count": 7,
   "metadata": {},
   "outputs": [
    {
     "data": {
      "text/plain": [
       "[144, 144, 144, 144, 144, 144, 144, 144, 120, 120]"
      ]
     },
     "execution_count": 7,
     "metadata": {},
     "output_type": "execute_result"
    }
   ],
   "source": [
    "[len(x) for x in batch_indexer(10,len_ds)]"
   ]
  },
  {
   "cell_type": "code",
   "execution_count": 10,
   "metadata": {},
   "outputs": [
    {
     "ename": "TypeError",
     "evalue": "'float' object cannot be interpreted as an integer",
     "output_type": "error",
     "traceback": [
      "\u001b[1;31m---------------------------------------------------------------------------\u001b[0m",
      "\u001b[1;31mTypeError\u001b[0m                                 Traceback (most recent call last)",
      "Cell \u001b[1;32mIn[10], line 1\u001b[0m\n\u001b[1;32m----> 1\u001b[0m batch_sizer(\u001b[39m4\u001b[39;49m,\u001b[39m12000\u001b[39;49m)\n",
      "Cell \u001b[1;32mIn[9], line 4\u001b[0m, in \u001b[0;36mbatch_sizer\u001b[1;34m(groups, dataset_len)\u001b[0m\n\u001b[0;32m      2\u001b[0m minibatch_size \u001b[39m=\u001b[39m dataset_len\u001b[39m/\u001b[39mgroups\n\u001b[0;32m      3\u001b[0m all_batches \u001b[39m=\u001b[39m []\n\u001b[1;32m----> 4\u001b[0m \u001b[39mfor\u001b[39;00m n \u001b[39min\u001b[39;00m \u001b[39mrange\u001b[39;49m(minibatch_size):\n\u001b[0;32m      5\u001b[0m     batch \u001b[39m=\u001b[39m []\n\u001b[0;32m      6\u001b[0m     \u001b[39mfor\u001b[39;00m i \u001b[39min\u001b[39;00m \u001b[39mrange\u001b[39m(dataset_len):\n",
      "\u001b[1;31mTypeError\u001b[0m: 'float' object cannot be interpreted as an integer"
     ]
    }
   ],
   "source": [
    "batch_sizer(4,12000)"
   ]
  }
 ],
 "metadata": {
  "kernelspec": {
   "display_name": "pytorch",
   "language": "python",
   "name": "python3"
  },
  "language_info": {
   "codemirror_mode": {
    "name": "ipython",
    "version": 3
   },
   "file_extension": ".py",
   "mimetype": "text/x-python",
   "name": "python",
   "nbconvert_exporter": "python",
   "pygments_lexer": "ipython3",
   "version": "3.9.15"
  },
  "orig_nbformat": 4,
  "vscode": {
   "interpreter": {
    "hash": "43115443075634c02a7c247a87b0dd9d74842892e56d473b9e19f544f3149aff"
   }
  }
 },
 "nbformat": 4,
 "nbformat_minor": 2
}
