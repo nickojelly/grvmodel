{
 "cells": [
  {
   "cell_type": "code",
   "execution_count": 1,
   "metadata": {},
   "outputs": [
    {
     "name": "stderr",
     "output_type": "stream",
     "text": [
      "<frozen importlib._bootstrap>:228: RuntimeWarning: scipy._lib.messagestream.MessageStream size changed, may indicate binary incompatibility. Expected 56 from C header, got 64 from PyObject\n"
     ]
    }
   ],
   "source": [
    "import pickle\n",
    "import pandas as pd\n",
    "import os\n",
    "\n",
    "import torch\n",
    "import numpy as np\n",
    "import torch.nn as nn\n",
    "import torch.nn.functional as F\n",
    "import torch.optim as optim\n",
    "from tqdm.notebook import tqdm, trange\n",
    "import torch.optim as optim\n",
    "from torch.utils.data import TensorDataset, DataLoader\n",
    "import wandb\n",
    "from torch.utils.data.sampler import SubsetRandomSampler\n",
    "import pprint\n",
    "import matplotlib.pyplot as plt\n",
    "import torch\n",
    "\n",
    "from sklearn.preprocessing import MinMaxScaler\n",
    "import math\n",
    "from torch.profiler import profile, record_function, ProfilerActivity\n",
    "\n",
    "from operator import itemgetter\n",
    "import operator\n",
    "from random import randint\n",
    "from rnn_classes import Dog, DogInput, Race, Races, GRUNet\n",
    "from raceDB import build_dataset, build_pred_dataset\n",
    "import importlib\n",
    "import datetime\n",
    "import model_predictions\n",
    "from rnn_classes import smalll_lin_GRUNet"
   ]
  },
  {
   "cell_type": "code",
   "execution_count": 2,
   "metadata": {},
   "outputs": [
    {
     "ename": "KeyboardInterrupt",
     "evalue": "",
     "output_type": "error",
     "traceback": [
      "\u001b[1;31m---------------------------------------------------------------------------\u001b[0m",
      "\u001b[1;31mKeyboardInterrupt\u001b[0m                         Traceback (most recent call last)",
      "Cell \u001b[1;32mIn[2], line 5\u001b[0m\n\u001b[0;32m      3\u001b[0m \u001b[39m#dog_stats_file = open( 'new gru input 2023-01.npy', 'rb')\u001b[39;00m\n\u001b[0;32m      4\u001b[0m hidden_size \u001b[39m=\u001b[39m \u001b[39m64\u001b[39m\n\u001b[1;32m----> 5\u001b[0m raceDB \u001b[39m=\u001b[39m build_dataset(\u001b[39mr\u001b[39;49m\u001b[39m'\u001b[39;49m\u001b[39mC:\u001b[39;49m\u001b[39m\\\u001b[39;49m\u001b[39mUsers\u001b[39;49m\u001b[39m\\\u001b[39;49m\u001b[39mNick\u001b[39;49m\u001b[39m\\\u001b[39;49m\u001b[39mDocuments\u001b[39;49m\u001b[39m\\\u001b[39;49m\u001b[39mGitHub\u001b[39;49m\u001b[39m\\\u001b[39;49m\u001b[39mgrvmodel\u001b[39;49m\u001b[39m\\\u001b[39;49m\u001b[39mPython\u001b[39;49m\u001b[39m\\\u001b[39;49m\u001b[39mDatabase Updater\u001b[39;49m\u001b[39m\\\u001b[39;49m\u001b[39mDATA\u001b[39;49m\u001b[39m\\\u001b[39;49m\u001b[39mnew_windows_gru_REAL.npy\u001b[39;49m\u001b[39m'\u001b[39;49m, hidden_size ,state_filter\u001b[39m=\u001b[39;49m\u001b[39m\"\u001b[39;49m\u001b[39mNSW\u001b[39;49m\u001b[39m\"\u001b[39;49m)\n",
      "File \u001b[1;32mc:\\Users\\Nick\\Documents\\GitHub\\grvmodel\\Python\\pytorch\\New Model\\LSTM\\raceDB.py:76\u001b[0m, in \u001b[0;36mbuild_dataset\u001b[1;34m(data, hidden_size, state_filter, margin_type)\u001b[0m\n\u001b[0;32m     73\u001b[0m scaler \u001b[39m=\u001b[39m MinMaxScaler()\n\u001b[0;32m     74\u001b[0m \u001b[39m#Load in pickeled dataframe\u001b[39;00m\n\u001b[0;32m     75\u001b[0m \u001b[39m#resultsdf = pickle.load(data)\u001b[39;00m\n\u001b[1;32m---> 76\u001b[0m dog_stats_df \u001b[39m=\u001b[39m pd\u001b[39m.\u001b[39;49mread_pickle(data)\n\u001b[0;32m     77\u001b[0m \u001b[39mprint\u001b[39m(dog_stats_df\u001b[39m.\u001b[39mshape)\n\u001b[0;32m     78\u001b[0m dog_stats_df \u001b[39m=\u001b[39m dog_stats_df\u001b[39m.\u001b[39mfillna(\u001b[39m-\u001b[39m\u001b[39m1\u001b[39m)\u001b[39m.\u001b[39mdrop_duplicates(subset\u001b[39m=\u001b[39m[\u001b[39m'\u001b[39m\u001b[39mdogid\u001b[39m\u001b[39m'\u001b[39m, \u001b[39m'\u001b[39m\u001b[39mraceid\u001b[39m\u001b[39m'\u001b[39m])\n",
      "File \u001b[1;32mc:\\Users\\Nick\\.conda\\envs\\PYTORCH\\lib\\site-packages\\pandas\\io\\pickle.py:208\u001b[0m, in \u001b[0;36mread_pickle\u001b[1;34m(filepath_or_buffer, compression, storage_options)\u001b[0m\n\u001b[0;32m    205\u001b[0m     \u001b[39mwith\u001b[39;00m warnings\u001b[39m.\u001b[39mcatch_warnings(record\u001b[39m=\u001b[39m\u001b[39mTrue\u001b[39;00m):\n\u001b[0;32m    206\u001b[0m         \u001b[39m# We want to silence any warnings about, e.g. moved modules.\u001b[39;00m\n\u001b[0;32m    207\u001b[0m         warnings\u001b[39m.\u001b[39msimplefilter(\u001b[39m\"\u001b[39m\u001b[39mignore\u001b[39m\u001b[39m\"\u001b[39m, \u001b[39mWarning\u001b[39;00m)\n\u001b[1;32m--> 208\u001b[0m         \u001b[39mreturn\u001b[39;00m pickle\u001b[39m.\u001b[39;49mload(handles\u001b[39m.\u001b[39;49mhandle)\n\u001b[0;32m    209\u001b[0m \u001b[39mexcept\u001b[39;00m excs_to_catch:\n\u001b[0;32m    210\u001b[0m     \u001b[39m# e.g.\u001b[39;00m\n\u001b[0;32m    211\u001b[0m     \u001b[39m#  \"No module named 'pandas.core.sparse.series'\"\u001b[39;00m\n\u001b[0;32m    212\u001b[0m     \u001b[39m#  \"Can't get attribute '__nat_unpickle' on <module 'pandas._libs.tslib\"\u001b[39;00m\n\u001b[0;32m    213\u001b[0m     \u001b[39mreturn\u001b[39;00m pc\u001b[39m.\u001b[39mload(handles\u001b[39m.\u001b[39mhandle, encoding\u001b[39m=\u001b[39m\u001b[39mNone\u001b[39;00m)\n",
      "File \u001b[1;32mc:\\Users\\Nick\\.conda\\envs\\PYTORCH\\lib\\site-packages\\numpy\\core\\numeric.py:1861\u001b[0m, in \u001b[0;36m_frombuffer\u001b[1;34m(buf, dtype, shape, order)\u001b[0m\n\u001b[0;32m   1853\u001b[0m     \u001b[39mreturn\u001b[39;00m function(\u001b[39m*\u001b[39margs, \u001b[39m*\u001b[39m\u001b[39m*\u001b[39mkwargs)\n\u001b[0;32m   1856\u001b[0m _fromfunction_with_like \u001b[39m=\u001b[39m array_function_dispatch(\n\u001b[0;32m   1857\u001b[0m     _fromfunction_dispatcher\n\u001b[0;32m   1858\u001b[0m )(fromfunction)\n\u001b[1;32m-> 1861\u001b[0m \u001b[39mdef\u001b[39;00m \u001b[39m_frombuffer\u001b[39m(buf, dtype, shape, order):\n\u001b[0;32m   1862\u001b[0m     \u001b[39mreturn\u001b[39;00m frombuffer(buf, dtype\u001b[39m=\u001b[39mdtype)\u001b[39m.\u001b[39mreshape(shape, order\u001b[39m=\u001b[39morder)\n\u001b[0;32m   1865\u001b[0m \u001b[39m@set_module\u001b[39m(\u001b[39m'\u001b[39m\u001b[39mnumpy\u001b[39m\u001b[39m'\u001b[39m)\n\u001b[0;32m   1866\u001b[0m \u001b[39mdef\u001b[39;00m \u001b[39misscalar\u001b[39m(element):\n",
      "\u001b[1;31mKeyboardInterrupt\u001b[0m: "
     ]
    }
   ],
   "source": [
    "os.getcwd()\n",
    "os.chdir(r\"C:\\Users\\Nick\\Documents\\GitHub\\grvmodel\\Python\\DATA\")\n",
    "#dog_stats_file = open( 'new gru input 2023-01.npy', 'rb')\n",
    "hidden_size = 64\n",
    "raceDB = build_dataset(r'C:\\Users\\Nick\\Documents\\GitHub\\grvmodel\\Python\\Database Updater\\DATA\\new_windows_gru_REAL.npy', hidden_size ,state_filter=\"NSW\")"
   ]
  },
  {
   "cell_type": "code",
   "execution_count": null,
   "metadata": {},
   "outputs": [],
   "source": [
    "nsw_model_loaded = torch.load(r\"C:\\Users\\Nick\\Documents\\GitHub\\grvmodel\\Python\\pytorch\\New Model\\savedmodel\\pleasant-sweep-3\\pleasant-sweep-3_450.pt\",map_location=torch.device('cuda:0'))\n",
    "raceDB.fill_hidden_states_from_dict(hidden_dict=nsw_model_loaded['db'])\n",
    "input_size = raceDB.get_race_input([0,1])[0].full_input.shape[0]\n",
    "raceDB.to_cuda()\n",
    "nsw_model_full = smalll_lin_GRUNet(input_size=input_size,hidden_size=64).to('cuda:0')\n",
    "nsw_model_full.load_state_dict(nsw_model_loaded['model_state_dict'])\n",
    "nsw_model_full.eval()\n",
    "outs_full = nsw_model_full(raceDB.racesDict.values())"
   ]
  },
  {
   "cell_type": "code",
   "execution_count": null,
   "metadata": {},
   "outputs": [],
   "source": [
    "raceDB.create_hidden_states_dict()\n",
    "new_rdb = raceDB.hidden_states_dict\n"
   ]
  },
  {
   "cell_type": "code",
   "execution_count": 2,
   "metadata": {},
   "outputs": [
    {
     "data": {
      "application/vnd.jupyter.widget-view+json": {
       "model_id": "565f4564070044b1a23d842e094c9d1e",
       "version_major": 2,
       "version_minor": 0
      },
      "text/plain": [
       "  0%|          | 0/255 [00:00<?, ?it/s]"
      ]
     },
     "metadata": {},
     "output_type": "display_data"
    },
    {
     "name": "stderr",
     "output_type": "stream",
     "text": [
      "c:\\Users\\Nick\\.conda\\envs\\PYTORCH\\lib\\site-packages\\tqdm\\std.py:1195: FutureWarning: In a future version of pandas, a length 1 tuple will be returned when iterating over a groupby with a grouper equal to a list of length 1. Don't supply a list with a single grouper to avoid this warning.\n",
      "  for obj in iterable:\n"
     ]
    },
    {
     "data": {
      "application/vnd.jupyter.widget-view+json": {
       "model_id": "42a8ba97e0584e94abf5fa046a521cca",
       "version_major": 2,
       "version_minor": 0
      },
      "text/plain": [
       "  0%|          | 0/34 [00:00<?, ?it/s]"
      ]
     },
     "metadata": {},
     "output_type": "display_data"
    },
    {
     "name": "stderr",
     "output_type": "stream",
     "text": [
      "c:\\Users\\Nick\\.conda\\envs\\PYTORCH\\lib\\site-packages\\tqdm\\std.py:1195: FutureWarning: In a future version of pandas, a length 1 tuple will be returned when iterating over a groupby with a grouper equal to a list of length 1. Don't supply a list with a single grouper to avoid this warning.\n",
      "  for obj in iterable:\n"
     ]
    },
    {
     "name": "stdout",
     "output_type": "stream",
     "text": [
      "number of races = 34, number of unique dogs = 255\n"
     ]
    }
   ],
   "source": [
    "os.chdir(r\"C:\\Users\\Nick\\Documents\\GitHub\\grvmodel\\Python\\DATA\")\n",
    "pred_df = pd.read_pickle(r'C:\\Users\\Nick\\Documents\\GitHub\\grvmodel\\Python\\Database Updater\\testing new outs 2023-02-08.npy')\n",
    "pred_df\n",
    "state = 'NSW'\n",
    "pred_df_nsw = pred_df[pred_df['state'].str.contains(state, na=False)]\n",
    "hidden_size = 64\n",
    "predDB_nsw = build_pred_dataset(pred_df_nsw, hidden_size)"
   ]
  },
  {
   "cell_type": "code",
   "execution_count": null,
   "metadata": {},
   "outputs": [],
   "source": []
  },
  {
   "cell_type": "code",
   "execution_count": 3,
   "metadata": {},
   "outputs": [
    {
     "data": {
      "application/vnd.jupyter.widget-view+json": {
       "model_id": "0829de8ff42b4313a393d357b2c0d95a",
       "version_major": 2,
       "version_minor": 0
      },
      "text/plain": [
       "  0%|          | 0/85 [00:00<?, ?it/s]"
      ]
     },
     "metadata": {},
     "output_type": "display_data"
    },
    {
     "name": "stderr",
     "output_type": "stream",
     "text": [
      "c:\\Users\\Nick\\.conda\\envs\\PYTORCH\\lib\\site-packages\\tqdm\\std.py:1195: FutureWarning: In a future version of pandas, a length 1 tuple will be returned when iterating over a groupby with a grouper equal to a list of length 1. Don't supply a list with a single grouper to avoid this warning.\n",
      "  for obj in iterable:\n"
     ]
    },
    {
     "data": {
      "application/vnd.jupyter.widget-view+json": {
       "model_id": "764fb55467ce47cbae3dc16310a5c68e",
       "version_major": 2,
       "version_minor": 0
      },
      "text/plain": [
       "  0%|          | 0/12 [00:00<?, ?it/s]"
      ]
     },
     "metadata": {},
     "output_type": "display_data"
    },
    {
     "name": "stdout",
     "output_type": "stream",
     "text": [
      "number of races = 12, number of unique dogs = 85\n"
     ]
    },
    {
     "name": "stderr",
     "output_type": "stream",
     "text": [
      "c:\\Users\\Nick\\.conda\\envs\\PYTORCH\\lib\\site-packages\\tqdm\\std.py:1195: FutureWarning: In a future version of pandas, a length 1 tuple will be returned when iterating over a groupby with a grouper equal to a list of length 1. Don't supply a list with a single grouper to avoid this warning.\n",
      "  for obj in iterable:\n"
     ]
    }
   ],
   "source": [
    "state = \"NZ\"\n",
    "pred_df_nz = pred_df[pred_df['state'].str.contains(state, na=False)]\n",
    "hidden_size = 64\n",
    "predDB_nz = build_pred_dataset(pred_df_nz, hidden_size)"
   ]
  },
  {
   "cell_type": "code",
   "execution_count": 27,
   "metadata": {},
   "outputs": [
    {
     "data": {
      "text/plain": [
       "11"
      ]
     },
     "execution_count": 27,
     "metadata": {},
     "output_type": "execute_result"
    }
   ],
   "source": [
    "(pred_df_nsw['prev_race']==-1).sum()"
   ]
  },
  {
   "cell_type": "code",
   "execution_count": 4,
   "metadata": {},
   "outputs": [],
   "source": [
    "nsw_model =  r\"C:\\Users\\Nick\\Documents\\GitHub\\grvmodel\\Python\\pytorch\\New Model\\savedmodel\\pleasant-sweep-3\\pleasant-sweep-3_450.pt\"\n",
    "nz_model = r\"C:\\Users\\Nick\\Documents\\GitHub\\grvmodel\\Python\\pytorch\\New Model\\savedmodel\\very long run RUN NZ\\very long run RUN NZ_450.pt\""
   ]
  },
  {
   "cell_type": "code",
   "execution_count": 17,
   "metadata": {},
   "outputs": [],
   "source": [
    "all_data = r'C:\\Users\\Nick\\Documents\\GitHub\\grvmodel\\Python\\Database Updater\\DATA\\new_windows_gru_REAL.npy'"
   ]
  },
  {
   "cell_type": "code",
   "execution_count": 5,
   "metadata": {},
   "outputs": [
    {
     "data": {
      "text/plain": [
       "<module 'model_predictions' from 'c:\\\\Users\\\\Nick\\\\Documents\\\\GitHub\\\\grvmodel\\\\Python\\\\pytorch\\\\New Model\\\\LSTM\\\\model_predictions.py'>"
      ]
     },
     "execution_count": 5,
     "metadata": {},
     "output_type": "execute_result"
    }
   ],
   "source": [
    "importlib.reload(model_predictions)"
   ]
  },
  {
   "cell_type": "code",
   "execution_count": 5,
   "metadata": {},
   "outputs": [],
   "source": [
    "test_R = predDB_nsw.get_race_input([1,2])[0]"
   ]
  },
  {
   "cell_type": "code",
   "execution_count": 6,
   "metadata": {},
   "outputs": [
    {
     "data": {
      "text/plain": [
       "71"
      ]
     },
     "execution_count": 6,
     "metadata": {},
     "output_type": "execute_result"
    }
   ],
   "source": [
    "len(test_R.race_track)"
   ]
  },
  {
   "cell_type": "code",
   "execution_count": 6,
   "metadata": {},
   "outputs": [
    {
     "data": {
      "application/vnd.jupyter.widget-view+json": {
       "model_id": "3639dce8c1334ac98d1133d3576ae9f8",
       "version_major": 2,
       "version_minor": 0
      },
      "text/plain": [
       "  0%|          | 0/34 [00:00<?, ?it/s]"
      ]
     },
     "metadata": {},
     "output_type": "display_data"
    },
    {
     "name": "stdout",
     "output_type": "stream",
     "text": [
      "filled =223\n",
      "empty  =49\n",
      "0.8198529411764706null_dog=0\n"
     ]
    }
   ],
   "source": [
    "outs_nsw = model_predictions.model_predictions(predDB_nsw, nsw_model, net_size='small_lin')\n",
    "#outs_nz =  model_predictions.model_predictions(predDB_nz , nz_model)"
   ]
  },
  {
   "cell_type": "code",
   "execution_count": null,
   "metadata": {},
   "outputs": [],
   "source": [
    "outs = pd.concat([outs_nsw,outs_nz])"
   ]
  },
  {
   "cell_type": "code",
   "execution_count": 8,
   "metadata": {},
   "outputs": [],
   "source": [
    "outs = outs_nsw"
   ]
  },
  {
   "cell_type": "code",
   "execution_count": 9,
   "metadata": {},
   "outputs": [
    {
     "ename": "",
     "evalue": "",
     "output_type": "error",
     "traceback": [
      "\u001b[1;31mThe Kernel crashed while executing code in the the current cell or a previous cell. Please review the code in the cell(s) to identify a possible cause of the failure. Click <a href='https://aka.ms/vscodeJupyterKernelCrash'>here</a> for more info. View Jupyter <a href='command:jupyter.viewOutput'>log</a> for further details."
     ]
    }
   ],
   "source": [
    "today = datetime.datetime.today().strftime('%Y-%m-%d')\n",
    "outs.to_pickle(f'output {today}.npy')\n",
    "outs.to_csv(f'output {state }-{today}.csv')\n"
   ]
  },
  {
   "cell_type": "code",
   "execution_count": null,
   "metadata": {},
   "outputs": [
    {
     "data": {
      "text/plain": [
       "Mandurah         95\n",
       "Shepparton       95\n",
       "Sandown Park     94\n",
       "Gunnedah         94\n",
       "Christchurch     92\n",
       "Casino           92\n",
       "Traralgon        90\n",
       "Warrnambool      89\n",
       "Albion Park      84\n",
       "Waikato          83\n",
       "Hobart           80\n",
       "Angle Park       77\n",
       "Dapto            75\n",
       "Mount Gambier    74\n",
       "Name: track_name, dtype: int64"
      ]
     },
     "execution_count": 8,
     "metadata": {},
     "output_type": "execute_result"
    }
   ],
   "source": [
    "pred_df = pd.read_pickle(r'C:\\Users\\Nick\\Documents\\GitHub\\grvmodel\\Python\\Database Updater\\prediction_input 2023-01-26.npy')\n",
    "pred_df.track_name.value_counts()"
   ]
  },
  {
   "cell_type": "code",
   "execution_count": null,
   "metadata": {},
   "outputs": [
    {
     "data": {
      "text/plain": [
       "71"
      ]
     },
     "execution_count": 5,
     "metadata": {},
     "output_type": "execute_result"
    }
   ],
   "source": [
    "len(pred_df.trackOHE.iloc[0])"
   ]
  },
  {
   "cell_type": "code",
   "execution_count": null,
   "metadata": {},
   "outputs": [],
   "source": [
    "x = predDB.racesDict.values()"
   ]
  },
  {
   "cell_type": "code",
   "execution_count": null,
   "metadata": {},
   "outputs": [],
   "source": [
    "torch_saved_dict = torch.load(r\"C:\\Users\\Nick\\Documents\\GitHub\\grvmodel\\Python\\pytorch\\New Model\\savedmodel\\long nsw 2000 RUN\\long nsw 2000 RUN_450.pt\",map_location=torch.device('cpu'))"
   ]
  },
  {
   "cell_type": "code",
   "execution_count": null,
   "metadata": {},
   "outputs": [],
   "source": [
    "# model_state_dict = torch_saved_dict['model_state_dict']"
   ]
  },
  {
   "cell_type": "code",
   "execution_count": null,
   "metadata": {},
   "outputs": [],
   "source": [
    "predDB.to_cpu()"
   ]
  },
  {
   "cell_type": "code",
   "execution_count": null,
   "metadata": {},
   "outputs": [
    {
     "data": {
      "application/vnd.jupyter.widget-view+json": {
       "model_id": "c22468238e53443faf19486616eeb976",
       "version_major": 2,
       "version_minor": 0
      },
      "text/plain": [
       "  0%|          | 0/34 [00:00<?, ?it/s]"
      ]
     },
     "metadata": {},
     "output_type": "display_data"
    },
    {
     "name": "stdout",
     "output_type": "stream",
     "text": [
      "filled =218\n",
      "empty  =54\n",
      "0.8014705882352942\n"
     ]
    }
   ],
   "source": [
    "predDB.fill_hidden_states_from_dict(hidden_dict=torch_saved_dict['db'])"
   ]
  },
  {
   "cell_type": "code",
   "execution_count": null,
   "metadata": {},
   "outputs": [
    {
     "data": {
      "text/plain": [
       "dict_values([<rnn_classes.Race object at 0x000001C2B9ABD310>, <rnn_classes.Race object at 0x000001C2B9ABDD00>, <rnn_classes.Race object at 0x000001C2B9ABD6D0>, <rnn_classes.Race object at 0x000001C2B9ABD280>, <rnn_classes.Race object at 0x000001C2B9A80370>, <rnn_classes.Race object at 0x000001C2B9ABD790>, <rnn_classes.Race object at 0x000001C2B9ABDC70>, <rnn_classes.Race object at 0x000001C2B9A806D0>, <rnn_classes.Race object at 0x000001C2B981BF70>, <rnn_classes.Race object at 0x000001C2B9ABD9D0>, <rnn_classes.Race object at 0x000001C2B9ABDE20>, <rnn_classes.Race object at 0x000001C2B9A80490>, <rnn_classes.Race object at 0x000001C2B9A9B4F0>, <rnn_classes.Race object at 0x000001C2B9ABDE50>, <rnn_classes.Race object at 0x000001C2B9ABDE80>, <rnn_classes.Race object at 0x000001C2B9A807C0>, <rnn_classes.Race object at 0x000001C2B9AB8F70>, <rnn_classes.Race object at 0x000001C2B9ABD820>, <rnn_classes.Race object at 0x000001C2B9ABD700>, <rnn_classes.Race object at 0x000001C2B9A80940>, <rnn_classes.Race object at 0x000001C2B9A80790>, <rnn_classes.Race object at 0x000001C2B9ABD220>, <rnn_classes.Race object at 0x000001C2B9ABDC40>, <rnn_classes.Race object at 0x000001C2B9AC6670>, <rnn_classes.Race object at 0x000001C2B9A809A0>, <rnn_classes.Race object at 0x000001C2B9ABD4C0>, <rnn_classes.Race object at 0x000001C2B9ABD4F0>, <rnn_classes.Race object at 0x000001C2B9A9FF10>, <rnn_classes.Race object at 0x000001C2B9A9B040>, <rnn_classes.Race object at 0x000001C2B9ABD670>, <rnn_classes.Race object at 0x000001C2B9ABDDC0>, <rnn_classes.Race object at 0x000001C2B9A9FD00>, <rnn_classes.Race object at 0x000001C2B9ABDB20>, <rnn_classes.Race object at 0x000001C2B9ABD940>])"
      ]
     },
     "execution_count": 11,
     "metadata": {},
     "output_type": "execute_result"
    }
   ],
   "source": [
    "predDB.racesDict.values()"
   ]
  },
  {
   "cell_type": "code",
   "execution_count": null,
   "metadata": {},
   "outputs": [
    {
     "name": "stdout",
     "output_type": "stream",
     "text": [
      "232\n",
      "232\n",
      "232\n",
      "232\n",
      "232\n",
      "232\n",
      "232\n",
      "232\n",
      "232\n",
      "232\n",
      "232\n",
      "232\n",
      "232\n",
      "232\n",
      "232\n",
      "232\n",
      "232\n",
      "232\n",
      "232\n",
      "232\n",
      "232\n",
      "232\n",
      "232\n",
      "232\n",
      "232\n",
      "232\n",
      "232\n",
      "232\n",
      "232\n",
      "232\n",
      "232\n",
      "232\n",
      "232\n",
      "232\n"
     ]
    }
   ],
   "source": [
    "for r in predDB.racesDict.values():\n",
    "    print(len(r.full_input))"
   ]
  },
  {
   "cell_type": "code",
   "execution_count": null,
   "metadata": {},
   "outputs": [
    {
     "data": {
      "text/plain": [
       "<All keys matched successfully>"
      ]
     },
     "execution_count": 13,
     "metadata": {},
     "output_type": "execute_result"
    }
   ],
   "source": [
    "input_size = predDB.get_race_input([0,1])[0].full_input.shape[0]\n",
    "model = GRUNet(input_size,64, output='softmax')\n",
    "model.load_state_dict(torch_saved_dict['model_state_dict'])"
   ]
  },
  {
   "cell_type": "code",
   "execution_count": null,
   "metadata": {},
   "outputs": [],
   "source": [
    "model.eval()\n",
    "outs = model(predDB.racesDict.values()).to('cpu')\n",
    "predDB.to_cpu()\n",
    "outs_list = [item for sublist in outs.tolist() for item in sublist]"
   ]
  },
  {
   "cell_type": "code",
   "execution_count": null,
   "metadata": {},
   "outputs": [],
   "source": [
    "dogs = [dog.dog.dog_name for sublist in [r.dogs for r in x] for dog in sublist]\n",
    "box = [r for s in [[1,2,3,4,5,6,7,8] for r in x] for r in s]\n",
    "dogId = [dog.dog.dogid for sublist in [r.dogs for r in x] for dog in sublist]\n",
    "times = [r for s in [[r.race_time]*8 for r in x] for r in s]\n",
    "rid = [r for s in [[r.raceid]*8 for r in x] for r in s]\n",
    "track = [r for s in [[r.track_name]*8 for r in x] for r in s]\n",
    "rnum = [r for s in [[int(r.race_num)]*8 for r in x] for r in s]"
   ]
  },
  {
   "cell_type": "code",
   "execution_count": null,
   "metadata": {},
   "outputs": [],
   "source": [
    "outs = pd.DataFrame(data = {\"raceid\":rid, \"track\":track, \"racetime\":times,\"box\":box, \"dogs\":dogs, \"dogid\":dogId, \"conf\":outs_list,\"race_num\":rnum })"
   ]
  },
  {
   "cell_type": "code",
   "execution_count": null,
   "metadata": {},
   "outputs": [],
   "source": [
    "outs['pred_price'] = outs['conf'].apply(lambda x: 1/(x))"
   ]
  },
  {
   "cell_type": "code",
   "execution_count": null,
   "metadata": {},
   "outputs": [],
   "source": [
    "outs = outs.sort_values(['track','race_num','box'])"
   ]
  },
  {
   "cell_type": "code",
   "execution_count": null,
   "metadata": {},
   "outputs": [
    {
     "data": {
      "text/html": [
       "<div>\n",
       "<style scoped>\n",
       "    .dataframe tbody tr th:only-of-type {\n",
       "        vertical-align: middle;\n",
       "    }\n",
       "\n",
       "    .dataframe tbody tr th {\n",
       "        vertical-align: top;\n",
       "    }\n",
       "\n",
       "    .dataframe thead th {\n",
       "        text-align: right;\n",
       "    }\n",
       "</style>\n",
       "<table border=\"1\" class=\"dataframe\">\n",
       "  <thead>\n",
       "    <tr style=\"text-align: right;\">\n",
       "      <th></th>\n",
       "      <th>raceid</th>\n",
       "      <th>track</th>\n",
       "      <th>racetime</th>\n",
       "      <th>box</th>\n",
       "      <th>dogs</th>\n",
       "      <th>dogid</th>\n",
       "      <th>conf</th>\n",
       "      <th>race_num</th>\n",
       "      <th>pred_price</th>\n",
       "    </tr>\n",
       "  </thead>\n",
       "  <tbody>\n",
       "    <tr>\n",
       "      <th>0</th>\n",
       "      <td>865597968</td>\n",
       "      <td>Casino</td>\n",
       "      <td>10:36AM</td>\n",
       "      <td>1</td>\n",
       "      <td>CUTTIN' GRASS</td>\n",
       "      <td>672317468</td>\n",
       "      <td>0.088841</td>\n",
       "      <td>1</td>\n",
       "      <td>11.256009</td>\n",
       "    </tr>\n",
       "    <tr>\n",
       "      <th>1</th>\n",
       "      <td>865597968</td>\n",
       "      <td>Casino</td>\n",
       "      <td>10:36AM</td>\n",
       "      <td>2</td>\n",
       "      <td>CURIOUS CAZA</td>\n",
       "      <td>714918126</td>\n",
       "      <td>0.112474</td>\n",
       "      <td>1</td>\n",
       "      <td>8.890962</td>\n",
       "    </tr>\n",
       "    <tr>\n",
       "      <th>2</th>\n",
       "      <td>865597968</td>\n",
       "      <td>Casino</td>\n",
       "      <td>10:36AM</td>\n",
       "      <td>3</td>\n",
       "      <td>SEVEN SINNERS</td>\n",
       "      <td>669960288</td>\n",
       "      <td>0.206793</td>\n",
       "      <td>1</td>\n",
       "      <td>4.835751</td>\n",
       "    </tr>\n",
       "    <tr>\n",
       "      <th>3</th>\n",
       "      <td>865597968</td>\n",
       "      <td>Casino</td>\n",
       "      <td>10:36AM</td>\n",
       "      <td>4</td>\n",
       "      <td>SPRITELY GLENNIS</td>\n",
       "      <td>587949066</td>\n",
       "      <td>0.079609</td>\n",
       "      <td>1</td>\n",
       "      <td>12.561409</td>\n",
       "    </tr>\n",
       "    <tr>\n",
       "      <th>4</th>\n",
       "      <td>865597968</td>\n",
       "      <td>Casino</td>\n",
       "      <td>10:36AM</td>\n",
       "      <td>5</td>\n",
       "      <td>AMARTEY PARTY</td>\n",
       "      <td>654230428</td>\n",
       "      <td>0.000446</td>\n",
       "      <td>1</td>\n",
       "      <td>2244.363565</td>\n",
       "    </tr>\n",
       "    <tr>\n",
       "      <th>5</th>\n",
       "      <td>865597968</td>\n",
       "      <td>Casino</td>\n",
       "      <td>10:36AM</td>\n",
       "      <td>6</td>\n",
       "      <td>CLOVER JULIET</td>\n",
       "      <td>556974388</td>\n",
       "      <td>0.225925</td>\n",
       "      <td>1</td>\n",
       "      <td>4.426243</td>\n",
       "    </tr>\n",
       "    <tr>\n",
       "      <th>6</th>\n",
       "      <td>865597968</td>\n",
       "      <td>Casino</td>\n",
       "      <td>10:36AM</td>\n",
       "      <td>7</td>\n",
       "      <td>MR FRESH</td>\n",
       "      <td>714917101</td>\n",
       "      <td>0.117305</td>\n",
       "      <td>1</td>\n",
       "      <td>8.524808</td>\n",
       "    </tr>\n",
       "    <tr>\n",
       "      <th>7</th>\n",
       "      <td>865597968</td>\n",
       "      <td>Casino</td>\n",
       "      <td>10:36AM</td>\n",
       "      <td>8</td>\n",
       "      <td>INTEGRITY SON</td>\n",
       "      <td>555068999</td>\n",
       "      <td>0.168607</td>\n",
       "      <td>1</td>\n",
       "      <td>5.930941</td>\n",
       "    </tr>\n",
       "    <tr>\n",
       "      <th>8</th>\n",
       "      <td>865597969</td>\n",
       "      <td>Casino</td>\n",
       "      <td>10:56AM</td>\n",
       "      <td>1</td>\n",
       "      <td>ALL THUNDER</td>\n",
       "      <td>592709649</td>\n",
       "      <td>0.168463</td>\n",
       "      <td>2</td>\n",
       "      <td>5.936028</td>\n",
       "    </tr>\n",
       "    <tr>\n",
       "      <th>9</th>\n",
       "      <td>865597969</td>\n",
       "      <td>Casino</td>\n",
       "      <td>10:56AM</td>\n",
       "      <td>2</td>\n",
       "      <td>IN THE THIRTIES</td>\n",
       "      <td>471933615</td>\n",
       "      <td>0.000509</td>\n",
       "      <td>2</td>\n",
       "      <td>1964.320351</td>\n",
       "    </tr>\n",
       "    <tr>\n",
       "      <th>10</th>\n",
       "      <td>865597969</td>\n",
       "      <td>Casino</td>\n",
       "      <td>10:56AM</td>\n",
       "      <td>3</td>\n",
       "      <td>ARTURO</td>\n",
       "      <td>614056788</td>\n",
       "      <td>0.100223</td>\n",
       "      <td>2</td>\n",
       "      <td>9.977775</td>\n",
       "    </tr>\n",
       "    <tr>\n",
       "      <th>11</th>\n",
       "      <td>865597969</td>\n",
       "      <td>Casino</td>\n",
       "      <td>10:56AM</td>\n",
       "      <td>4</td>\n",
       "      <td>BOOK BOOK</td>\n",
       "      <td>654230427</td>\n",
       "      <td>0.070188</td>\n",
       "      <td>2</td>\n",
       "      <td>14.247456</td>\n",
       "    </tr>\n",
       "    <tr>\n",
       "      <th>12</th>\n",
       "      <td>865597969</td>\n",
       "      <td>Casino</td>\n",
       "      <td>10:56AM</td>\n",
       "      <td>5</td>\n",
       "      <td>OLSEN GANG</td>\n",
       "      <td>629792118</td>\n",
       "      <td>0.000438</td>\n",
       "      <td>2</td>\n",
       "      <td>2284.624365</td>\n",
       "    </tr>\n",
       "    <tr>\n",
       "      <th>13</th>\n",
       "      <td>865597969</td>\n",
       "      <td>Casino</td>\n",
       "      <td>10:56AM</td>\n",
       "      <td>6</td>\n",
       "      <td>MCLINTOCK</td>\n",
       "      <td>675307103</td>\n",
       "      <td>0.147737</td>\n",
       "      <td>2</td>\n",
       "      <td>6.768790</td>\n",
       "    </tr>\n",
       "    <tr>\n",
       "      <th>14</th>\n",
       "      <td>865597969</td>\n",
       "      <td>Casino</td>\n",
       "      <td>10:56AM</td>\n",
       "      <td>7</td>\n",
       "      <td>BUNDY ROSE</td>\n",
       "      <td>654230904</td>\n",
       "      <td>0.036443</td>\n",
       "      <td>2</td>\n",
       "      <td>27.440163</td>\n",
       "    </tr>\n",
       "    <tr>\n",
       "      <th>15</th>\n",
       "      <td>865597969</td>\n",
       "      <td>Casino</td>\n",
       "      <td>10:56AM</td>\n",
       "      <td>8</td>\n",
       "      <td>TOO TOUGH TERRY</td>\n",
       "      <td>705700708</td>\n",
       "      <td>0.476000</td>\n",
       "      <td>2</td>\n",
       "      <td>2.100841</td>\n",
       "    </tr>\n",
       "    <tr>\n",
       "      <th>16</th>\n",
       "      <td>865597970</td>\n",
       "      <td>Casino</td>\n",
       "      <td>11:13AM</td>\n",
       "      <td>1</td>\n",
       "      <td>CHOOSE WELL</td>\n",
       "      <td>580794298</td>\n",
       "      <td>0.443885</td>\n",
       "      <td>3</td>\n",
       "      <td>2.252838</td>\n",
       "    </tr>\n",
       "    <tr>\n",
       "      <th>17</th>\n",
       "      <td>865597970</td>\n",
       "      <td>Casino</td>\n",
       "      <td>11:13AM</td>\n",
       "      <td>2</td>\n",
       "      <td>BOKARM DONNA</td>\n",
       "      <td>433000359</td>\n",
       "      <td>0.020545</td>\n",
       "      <td>3</td>\n",
       "      <td>48.674477</td>\n",
       "    </tr>\n",
       "    <tr>\n",
       "      <th>18</th>\n",
       "      <td>865597970</td>\n",
       "      <td>Casino</td>\n",
       "      <td>11:13AM</td>\n",
       "      <td>3</td>\n",
       "      <td>KINGSBRAE DEMON</td>\n",
       "      <td>656363295</td>\n",
       "      <td>0.416989</td>\n",
       "      <td>3</td>\n",
       "      <td>2.398144</td>\n",
       "    </tr>\n",
       "    <tr>\n",
       "      <th>19</th>\n",
       "      <td>865597970</td>\n",
       "      <td>Casino</td>\n",
       "      <td>11:13AM</td>\n",
       "      <td>4</td>\n",
       "      <td>SEDUCTIVE ZARA</td>\n",
       "      <td>623992997</td>\n",
       "      <td>0.057709</td>\n",
       "      <td>3</td>\n",
       "      <td>17.328445</td>\n",
       "    </tr>\n",
       "    <tr>\n",
       "      <th>20</th>\n",
       "      <td>865597970</td>\n",
       "      <td>Casino</td>\n",
       "      <td>11:13AM</td>\n",
       "      <td>5</td>\n",
       "      <td>THREE PUTT PAR</td>\n",
       "      <td>654231425</td>\n",
       "      <td>0.026003</td>\n",
       "      <td>3</td>\n",
       "      <td>38.456752</td>\n",
       "    </tr>\n",
       "    <tr>\n",
       "      <th>21</th>\n",
       "      <td>865597970</td>\n",
       "      <td>Casino</td>\n",
       "      <td>11:13AM</td>\n",
       "      <td>6</td>\n",
       "      <td>EDEN FLYER</td>\n",
       "      <td>461066295</td>\n",
       "      <td>0.020727</td>\n",
       "      <td>3</td>\n",
       "      <td>48.246203</td>\n",
       "    </tr>\n",
       "    <tr>\n",
       "      <th>22</th>\n",
       "      <td>865597970</td>\n",
       "      <td>Casino</td>\n",
       "      <td>11:13AM</td>\n",
       "      <td>7</td>\n",
       "      <td>GLENREAGH BURNER</td>\n",
       "      <td>629791608</td>\n",
       "      <td>0.002086</td>\n",
       "      <td>3</td>\n",
       "      <td>479.457709</td>\n",
       "    </tr>\n",
       "    <tr>\n",
       "      <th>23</th>\n",
       "      <td>865597970</td>\n",
       "      <td>Casino</td>\n",
       "      <td>11:13AM</td>\n",
       "      <td>8</td>\n",
       "      <td>BLAZING BONUS</td>\n",
       "      <td>517862182</td>\n",
       "      <td>0.012057</td>\n",
       "      <td>3</td>\n",
       "      <td>82.938943</td>\n",
       "    </tr>\n",
       "    <tr>\n",
       "      <th>24</th>\n",
       "      <td>865597971</td>\n",
       "      <td>Casino</td>\n",
       "      <td>11:33AM</td>\n",
       "      <td>1</td>\n",
       "      <td>WHO ROUX DUDE</td>\n",
       "      <td>644469397</td>\n",
       "      <td>0.055809</td>\n",
       "      <td>4</td>\n",
       "      <td>17.918108</td>\n",
       "    </tr>\n",
       "    <tr>\n",
       "      <th>25</th>\n",
       "      <td>865597971</td>\n",
       "      <td>Casino</td>\n",
       "      <td>11:33AM</td>\n",
       "      <td>2</td>\n",
       "      <td>EVE AND JAN</td>\n",
       "      <td>587948061</td>\n",
       "      <td>0.031644</td>\n",
       "      <td>4</td>\n",
       "      <td>31.601644</td>\n",
       "    </tr>\n",
       "    <tr>\n",
       "      <th>26</th>\n",
       "      <td>865597971</td>\n",
       "      <td>Casino</td>\n",
       "      <td>11:33AM</td>\n",
       "      <td>3</td>\n",
       "      <td>DOUBLE CHARMING</td>\n",
       "      <td>680209719</td>\n",
       "      <td>0.141911</td>\n",
       "      <td>4</td>\n",
       "      <td>7.046695</td>\n",
       "    </tr>\n",
       "    <tr>\n",
       "      <th>27</th>\n",
       "      <td>865597971</td>\n",
       "      <td>Casino</td>\n",
       "      <td>11:33AM</td>\n",
       "      <td>4</td>\n",
       "      <td>COCO BUNDOCK</td>\n",
       "      <td>656364287</td>\n",
       "      <td>0.372971</td>\n",
       "      <td>4</td>\n",
       "      <td>2.681171</td>\n",
       "    </tr>\n",
       "    <tr>\n",
       "      <th>28</th>\n",
       "      <td>865597971</td>\n",
       "      <td>Casino</td>\n",
       "      <td>11:33AM</td>\n",
       "      <td>5</td>\n",
       "      <td>RIPPLE LANE</td>\n",
       "      <td>614056753</td>\n",
       "      <td>0.000955</td>\n",
       "      <td>4</td>\n",
       "      <td>1047.618858</td>\n",
       "    </tr>\n",
       "    <tr>\n",
       "      <th>29</th>\n",
       "      <td>865597971</td>\n",
       "      <td>Casino</td>\n",
       "      <td>11:33AM</td>\n",
       "      <td>6</td>\n",
       "      <td>SECRET GIFT</td>\n",
       "      <td>638803592</td>\n",
       "      <td>0.013778</td>\n",
       "      <td>4</td>\n",
       "      <td>72.580327</td>\n",
       "    </tr>\n",
       "    <tr>\n",
       "      <th>30</th>\n",
       "      <td>865597971</td>\n",
       "      <td>Casino</td>\n",
       "      <td>11:33AM</td>\n",
       "      <td>7</td>\n",
       "      <td>GODDESS OF WAR</td>\n",
       "      <td>638802691</td>\n",
       "      <td>0.116801</td>\n",
       "      <td>4</td>\n",
       "      <td>8.561597</td>\n",
       "    </tr>\n",
       "    <tr>\n",
       "      <th>31</th>\n",
       "      <td>865597971</td>\n",
       "      <td>Casino</td>\n",
       "      <td>11:33AM</td>\n",
       "      <td>8</td>\n",
       "      <td>FAN COOL UNIT</td>\n",
       "      <td>448841575</td>\n",
       "      <td>0.266132</td>\n",
       "      <td>4</td>\n",
       "      <td>3.757537</td>\n",
       "    </tr>\n",
       "    <tr>\n",
       "      <th>32</th>\n",
       "      <td>865597972</td>\n",
       "      <td>Casino</td>\n",
       "      <td>11:50AM</td>\n",
       "      <td>1</td>\n",
       "      <td>KINGSBRAE ANNA</td>\n",
       "      <td>451768846</td>\n",
       "      <td>0.077705</td>\n",
       "      <td>5</td>\n",
       "      <td>12.869222</td>\n",
       "    </tr>\n",
       "    <tr>\n",
       "      <th>33</th>\n",
       "      <td>865597972</td>\n",
       "      <td>Casino</td>\n",
       "      <td>11:50AM</td>\n",
       "      <td>2</td>\n",
       "      <td>SUDDEN COMFORT</td>\n",
       "      <td>430849531</td>\n",
       "      <td>0.030771</td>\n",
       "      <td>5</td>\n",
       "      <td>32.498340</td>\n",
       "    </tr>\n",
       "    <tr>\n",
       "      <th>34</th>\n",
       "      <td>865597972</td>\n",
       "      <td>Casino</td>\n",
       "      <td>11:50AM</td>\n",
       "      <td>3</td>\n",
       "      <td>FAST LIAR</td>\n",
       "      <td>556974867</td>\n",
       "      <td>0.172627</td>\n",
       "      <td>5</td>\n",
       "      <td>5.792823</td>\n",
       "    </tr>\n",
       "    <tr>\n",
       "      <th>35</th>\n",
       "      <td>865597972</td>\n",
       "      <td>Casino</td>\n",
       "      <td>11:50AM</td>\n",
       "      <td>4</td>\n",
       "      <td>HAAS</td>\n",
       "      <td>360995108</td>\n",
       "      <td>0.065815</td>\n",
       "      <td>5</td>\n",
       "      <td>15.194209</td>\n",
       "    </tr>\n",
       "    <tr>\n",
       "      <th>36</th>\n",
       "      <td>865597972</td>\n",
       "      <td>Casino</td>\n",
       "      <td>11:50AM</td>\n",
       "      <td>5</td>\n",
       "      <td>no_name</td>\n",
       "      <td>nullDog</td>\n",
       "      <td>0.170010</td>\n",
       "      <td>5</td>\n",
       "      <td>5.882005</td>\n",
       "    </tr>\n",
       "    <tr>\n",
       "      <th>37</th>\n",
       "      <td>865597972</td>\n",
       "      <td>Casino</td>\n",
       "      <td>11:50AM</td>\n",
       "      <td>6</td>\n",
       "      <td>CARRAMAR DRIVE</td>\n",
       "      <td>576143056</td>\n",
       "      <td>0.108203</td>\n",
       "      <td>5</td>\n",
       "      <td>9.241878</td>\n",
       "    </tr>\n",
       "    <tr>\n",
       "      <th>38</th>\n",
       "      <td>865597972</td>\n",
       "      <td>Casino</td>\n",
       "      <td>11:50AM</td>\n",
       "      <td>7</td>\n",
       "      <td>STACKED DECK</td>\n",
       "      <td>498735482</td>\n",
       "      <td>0.072486</td>\n",
       "      <td>5</td>\n",
       "      <td>13.795819</td>\n",
       "    </tr>\n",
       "    <tr>\n",
       "      <th>39</th>\n",
       "      <td>865597972</td>\n",
       "      <td>Casino</td>\n",
       "      <td>11:50AM</td>\n",
       "      <td>8</td>\n",
       "      <td>KNOW ALL JAMIE</td>\n",
       "      <td>530412273</td>\n",
       "      <td>0.302384</td>\n",
       "      <td>5</td>\n",
       "      <td>3.307058</td>\n",
       "    </tr>\n",
       "    <tr>\n",
       "      <th>40</th>\n",
       "      <td>865597973</td>\n",
       "      <td>Casino</td>\n",
       "      <td>12:11PM</td>\n",
       "      <td>1</td>\n",
       "      <td>SHE'S A SULLY</td>\n",
       "      <td>603189477</td>\n",
       "      <td>0.118957</td>\n",
       "      <td>6</td>\n",
       "      <td>8.406431</td>\n",
       "    </tr>\n",
       "    <tr>\n",
       "      <th>41</th>\n",
       "      <td>865597973</td>\n",
       "      <td>Casino</td>\n",
       "      <td>12:11PM</td>\n",
       "      <td>2</td>\n",
       "      <td>WILGUNYA SCOTT</td>\n",
       "      <td>530412799</td>\n",
       "      <td>0.003813</td>\n",
       "      <td>6</td>\n",
       "      <td>262.268171</td>\n",
       "    </tr>\n",
       "    <tr>\n",
       "      <th>42</th>\n",
       "      <td>865597973</td>\n",
       "      <td>Casino</td>\n",
       "      <td>12:11PM</td>\n",
       "      <td>3</td>\n",
       "      <td>GYPSY JOKER</td>\n",
       "      <td>629791132</td>\n",
       "      <td>0.195873</td>\n",
       "      <td>6</td>\n",
       "      <td>5.105359</td>\n",
       "    </tr>\n",
       "    <tr>\n",
       "      <th>43</th>\n",
       "      <td>865597973</td>\n",
       "      <td>Casino</td>\n",
       "      <td>12:11PM</td>\n",
       "      <td>4</td>\n",
       "      <td>NANGAR CANDY</td>\n",
       "      <td>549391148</td>\n",
       "      <td>0.159947</td>\n",
       "      <td>6</td>\n",
       "      <td>6.252056</td>\n",
       "    </tr>\n",
       "    <tr>\n",
       "      <th>44</th>\n",
       "      <td>865597973</td>\n",
       "      <td>Casino</td>\n",
       "      <td>12:11PM</td>\n",
       "      <td>5</td>\n",
       "      <td>CLOVER ATHENA</td>\n",
       "      <td>445020324</td>\n",
       "      <td>0.000243</td>\n",
       "      <td>6</td>\n",
       "      <td>4116.705459</td>\n",
       "    </tr>\n",
       "    <tr>\n",
       "      <th>45</th>\n",
       "      <td>865597973</td>\n",
       "      <td>Casino</td>\n",
       "      <td>12:11PM</td>\n",
       "      <td>6</td>\n",
       "      <td>MISS DUDETTE</td>\n",
       "      <td>644469393</td>\n",
       "      <td>0.069804</td>\n",
       "      <td>6</td>\n",
       "      <td>14.325729</td>\n",
       "    </tr>\n",
       "    <tr>\n",
       "      <th>46</th>\n",
       "      <td>865597973</td>\n",
       "      <td>Casino</td>\n",
       "      <td>12:11PM</td>\n",
       "      <td>7</td>\n",
       "      <td>HERE'S CAZA</td>\n",
       "      <td>540582234</td>\n",
       "      <td>0.026431</td>\n",
       "      <td>6</td>\n",
       "      <td>37.834796</td>\n",
       "    </tr>\n",
       "    <tr>\n",
       "      <th>47</th>\n",
       "      <td>865597973</td>\n",
       "      <td>Casino</td>\n",
       "      <td>12:11PM</td>\n",
       "      <td>8</td>\n",
       "      <td>KINGSBRAE BEAR</td>\n",
       "      <td>638802676</td>\n",
       "      <td>0.424932</td>\n",
       "      <td>6</td>\n",
       "      <td>2.353315</td>\n",
       "    </tr>\n",
       "    <tr>\n",
       "      <th>48</th>\n",
       "      <td>865597974</td>\n",
       "      <td>Casino</td>\n",
       "      <td>12:27PM</td>\n",
       "      <td>1</td>\n",
       "      <td>JUST ASK JAMIE</td>\n",
       "      <td>540632109</td>\n",
       "      <td>0.312997</td>\n",
       "      <td>7</td>\n",
       "      <td>3.194915</td>\n",
       "    </tr>\n",
       "    <tr>\n",
       "      <th>49</th>\n",
       "      <td>865597974</td>\n",
       "      <td>Casino</td>\n",
       "      <td>12:27PM</td>\n",
       "      <td>2</td>\n",
       "      <td>CONSORT</td>\n",
       "      <td>576142093</td>\n",
       "      <td>0.045352</td>\n",
       "      <td>7</td>\n",
       "      <td>22.049947</td>\n",
       "    </tr>\n",
       "  </tbody>\n",
       "</table>\n",
       "</div>"
      ],
      "text/plain": [
       "       raceid   track racetime  box              dogs      dogid      conf  \\\n",
       "0   865597968  Casino  10:36AM    1     CUTTIN' GRASS  672317468  0.088841   \n",
       "1   865597968  Casino  10:36AM    2      CURIOUS CAZA  714918126  0.112474   \n",
       "2   865597968  Casino  10:36AM    3     SEVEN SINNERS  669960288  0.206793   \n",
       "3   865597968  Casino  10:36AM    4  SPRITELY GLENNIS  587949066  0.079609   \n",
       "4   865597968  Casino  10:36AM    5     AMARTEY PARTY  654230428  0.000446   \n",
       "5   865597968  Casino  10:36AM    6     CLOVER JULIET  556974388  0.225925   \n",
       "6   865597968  Casino  10:36AM    7          MR FRESH  714917101  0.117305   \n",
       "7   865597968  Casino  10:36AM    8     INTEGRITY SON  555068999  0.168607   \n",
       "8   865597969  Casino  10:56AM    1       ALL THUNDER  592709649  0.168463   \n",
       "9   865597969  Casino  10:56AM    2   IN THE THIRTIES  471933615  0.000509   \n",
       "10  865597969  Casino  10:56AM    3            ARTURO  614056788  0.100223   \n",
       "11  865597969  Casino  10:56AM    4         BOOK BOOK  654230427  0.070188   \n",
       "12  865597969  Casino  10:56AM    5        OLSEN GANG  629792118  0.000438   \n",
       "13  865597969  Casino  10:56AM    6         MCLINTOCK  675307103  0.147737   \n",
       "14  865597969  Casino  10:56AM    7        BUNDY ROSE  654230904  0.036443   \n",
       "15  865597969  Casino  10:56AM    8   TOO TOUGH TERRY  705700708  0.476000   \n",
       "16  865597970  Casino  11:13AM    1       CHOOSE WELL  580794298  0.443885   \n",
       "17  865597970  Casino  11:13AM    2      BOKARM DONNA  433000359  0.020545   \n",
       "18  865597970  Casino  11:13AM    3   KINGSBRAE DEMON  656363295  0.416989   \n",
       "19  865597970  Casino  11:13AM    4    SEDUCTIVE ZARA  623992997  0.057709   \n",
       "20  865597970  Casino  11:13AM    5    THREE PUTT PAR  654231425  0.026003   \n",
       "21  865597970  Casino  11:13AM    6        EDEN FLYER  461066295  0.020727   \n",
       "22  865597970  Casino  11:13AM    7  GLENREAGH BURNER  629791608  0.002086   \n",
       "23  865597970  Casino  11:13AM    8     BLAZING BONUS  517862182  0.012057   \n",
       "24  865597971  Casino  11:33AM    1     WHO ROUX DUDE  644469397  0.055809   \n",
       "25  865597971  Casino  11:33AM    2       EVE AND JAN  587948061  0.031644   \n",
       "26  865597971  Casino  11:33AM    3   DOUBLE CHARMING  680209719  0.141911   \n",
       "27  865597971  Casino  11:33AM    4      COCO BUNDOCK  656364287  0.372971   \n",
       "28  865597971  Casino  11:33AM    5       RIPPLE LANE  614056753  0.000955   \n",
       "29  865597971  Casino  11:33AM    6       SECRET GIFT  638803592  0.013778   \n",
       "30  865597971  Casino  11:33AM    7    GODDESS OF WAR  638802691  0.116801   \n",
       "31  865597971  Casino  11:33AM    8     FAN COOL UNIT  448841575  0.266132   \n",
       "32  865597972  Casino  11:50AM    1    KINGSBRAE ANNA  451768846  0.077705   \n",
       "33  865597972  Casino  11:50AM    2    SUDDEN COMFORT  430849531  0.030771   \n",
       "34  865597972  Casino  11:50AM    3         FAST LIAR  556974867  0.172627   \n",
       "35  865597972  Casino  11:50AM    4              HAAS  360995108  0.065815   \n",
       "36  865597972  Casino  11:50AM    5           no_name    nullDog  0.170010   \n",
       "37  865597972  Casino  11:50AM    6    CARRAMAR DRIVE  576143056  0.108203   \n",
       "38  865597972  Casino  11:50AM    7      STACKED DECK  498735482  0.072486   \n",
       "39  865597972  Casino  11:50AM    8    KNOW ALL JAMIE  530412273  0.302384   \n",
       "40  865597973  Casino  12:11PM    1     SHE'S A SULLY  603189477  0.118957   \n",
       "41  865597973  Casino  12:11PM    2    WILGUNYA SCOTT  530412799  0.003813   \n",
       "42  865597973  Casino  12:11PM    3       GYPSY JOKER  629791132  0.195873   \n",
       "43  865597973  Casino  12:11PM    4      NANGAR CANDY  549391148  0.159947   \n",
       "44  865597973  Casino  12:11PM    5     CLOVER ATHENA  445020324  0.000243   \n",
       "45  865597973  Casino  12:11PM    6      MISS DUDETTE  644469393  0.069804   \n",
       "46  865597973  Casino  12:11PM    7       HERE'S CAZA  540582234  0.026431   \n",
       "47  865597973  Casino  12:11PM    8    KINGSBRAE BEAR  638802676  0.424932   \n",
       "48  865597974  Casino  12:27PM    1    JUST ASK JAMIE  540632109  0.312997   \n",
       "49  865597974  Casino  12:27PM    2           CONSORT  576142093  0.045352   \n",
       "\n",
       "    race_num   pred_price  \n",
       "0          1    11.256009  \n",
       "1          1     8.890962  \n",
       "2          1     4.835751  \n",
       "3          1    12.561409  \n",
       "4          1  2244.363565  \n",
       "5          1     4.426243  \n",
       "6          1     8.524808  \n",
       "7          1     5.930941  \n",
       "8          2     5.936028  \n",
       "9          2  1964.320351  \n",
       "10         2     9.977775  \n",
       "11         2    14.247456  \n",
       "12         2  2284.624365  \n",
       "13         2     6.768790  \n",
       "14         2    27.440163  \n",
       "15         2     2.100841  \n",
       "16         3     2.252838  \n",
       "17         3    48.674477  \n",
       "18         3     2.398144  \n",
       "19         3    17.328445  \n",
       "20         3    38.456752  \n",
       "21         3    48.246203  \n",
       "22         3   479.457709  \n",
       "23         3    82.938943  \n",
       "24         4    17.918108  \n",
       "25         4    31.601644  \n",
       "26         4     7.046695  \n",
       "27         4     2.681171  \n",
       "28         4  1047.618858  \n",
       "29         4    72.580327  \n",
       "30         4     8.561597  \n",
       "31         4     3.757537  \n",
       "32         5    12.869222  \n",
       "33         5    32.498340  \n",
       "34         5     5.792823  \n",
       "35         5    15.194209  \n",
       "36         5     5.882005  \n",
       "37         5     9.241878  \n",
       "38         5    13.795819  \n",
       "39         5     3.307058  \n",
       "40         6     8.406431  \n",
       "41         6   262.268171  \n",
       "42         6     5.105359  \n",
       "43         6     6.252056  \n",
       "44         6  4116.705459  \n",
       "45         6    14.325729  \n",
       "46         6    37.834796  \n",
       "47         6     2.353315  \n",
       "48         7     3.194915  \n",
       "49         7    22.049947  "
      ]
     },
     "execution_count": 19,
     "metadata": {},
     "output_type": "execute_result"
    }
   ],
   "source": [
    "outs.head(50)"
   ]
  },
  {
   "cell_type": "code",
   "execution_count": null,
   "metadata": {},
   "outputs": [
    {
     "data": {
      "text/plain": [
       "Casino      96\n",
       "Gunnedah    96\n",
       "Dapto       80\n",
       "Name: track, dtype: int64"
      ]
     },
     "execution_count": 20,
     "metadata": {},
     "output_type": "execute_result"
    }
   ],
   "source": [
    "outs.track.value_counts()"
   ]
  },
  {
   "cell_type": "code",
   "execution_count": null,
   "metadata": {},
   "outputs": [
    {
     "data": {
      "text/plain": [
       "71"
      ]
     },
     "execution_count": 21,
     "metadata": {},
     "output_type": "execute_result"
    }
   ],
   "source": [
    "len(pred_df.trackOHE.iloc[0])"
   ]
  },
  {
   "cell_type": "code",
   "execution_count": null,
   "metadata": {},
   "outputs": [],
   "source": [
    "today = datetime.datetime.today().strftime('%Y-%m-%d')\n",
    "outs.to_csv(f'output {state }{today}.csv')"
   ]
  },
  {
   "cell_type": "code",
   "execution_count": null,
   "metadata": {},
   "outputs": [],
   "source": [
    "outs.to_pickle('output 2023-01-24.npy')"
   ]
  },
  {
   "cell_type": "code",
   "execution_count": null,
   "metadata": {},
   "outputs": [
    {
     "data": {
      "text/plain": [
       "0       1\n",
       "1       1\n",
       "2       1\n",
       "3       1\n",
       "4       1\n",
       "       ..\n",
       "187    12\n",
       "188    12\n",
       "189    12\n",
       "190    12\n",
       "191    12\n",
       "Name: race_num, Length: 272, dtype: int64"
      ]
     },
     "execution_count": 24,
     "metadata": {},
     "output_type": "execute_result"
    }
   ],
   "source": [
    "outs.race_num"
   ]
  },
  {
   "cell_type": "code",
   "execution_count": null,
   "metadata": {},
   "outputs": [
    {
     "data": {
      "text/plain": [
       "'C:\\\\Users\\\\Nick\\\\Documents\\\\GitHub\\\\grvmodel\\\\Python\\\\DATA'"
      ]
     },
     "execution_count": 25,
     "metadata": {},
     "output_type": "execute_result"
    }
   ],
   "source": [
    "os.getcwd()"
   ]
  },
  {
   "cell_type": "code",
   "execution_count": null,
   "metadata": {},
   "outputs": [],
   "source": [
    "betfair_df = pd.read_pickle(r'.\\betfair races\\betfair races 2023-01-24.npy')"
   ]
  },
  {
   "cell_type": "code",
   "execution_count": null,
   "metadata": {},
   "outputs": [
    {
     "data": {
      "text/html": [
       "<div>\n",
       "<style scoped>\n",
       "    .dataframe tbody tr th:only-of-type {\n",
       "        vertical-align: middle;\n",
       "    }\n",
       "\n",
       "    .dataframe tbody tr th {\n",
       "        vertical-align: top;\n",
       "    }\n",
       "\n",
       "    .dataframe thead th {\n",
       "        text-align: right;\n",
       "    }\n",
       "</style>\n",
       "<table border=\"1\" class=\"dataframe\">\n",
       "  <thead>\n",
       "    <tr style=\"text-align: right;\">\n",
       "      <th></th>\n",
       "      <th>market_id</th>\n",
       "      <th>track</th>\n",
       "      <th>dist</th>\n",
       "      <th>race_num</th>\n",
       "      <th>runner_id</th>\n",
       "      <th>runnner_name</th>\n",
       "    </tr>\n",
       "  </thead>\n",
       "  <tbody>\n",
       "    <tr>\n",
       "      <th>0</th>\n",
       "      <td>1.209048130</td>\n",
       "      <td>Temora</td>\n",
       "      <td>R2</td>\n",
       "      <td>2</td>\n",
       "      <td>51312709</td>\n",
       "      <td>STRIVE POLDA</td>\n",
       "    </tr>\n",
       "    <tr>\n",
       "      <th>1</th>\n",
       "      <td>1.209048130</td>\n",
       "      <td>Temora</td>\n",
       "      <td>R2</td>\n",
       "      <td>2</td>\n",
       "      <td>41385415</td>\n",
       "      <td>TAYLEN BALE</td>\n",
       "    </tr>\n",
       "    <tr>\n",
       "      <th>2</th>\n",
       "      <td>1.209048130</td>\n",
       "      <td>Temora</td>\n",
       "      <td>R2</td>\n",
       "      <td>2</td>\n",
       "      <td>51918883</td>\n",
       "      <td>DOUBLE DIPPIN</td>\n",
       "    </tr>\n",
       "    <tr>\n",
       "      <th>3</th>\n",
       "      <td>1.209048130</td>\n",
       "      <td>Temora</td>\n",
       "      <td>R2</td>\n",
       "      <td>2</td>\n",
       "      <td>51129843</td>\n",
       "      <td>TAMMY TURBO</td>\n",
       "    </tr>\n",
       "    <tr>\n",
       "      <th>4</th>\n",
       "      <td>1.209048130</td>\n",
       "      <td>Temora</td>\n",
       "      <td>R2</td>\n",
       "      <td>2</td>\n",
       "      <td>51918884</td>\n",
       "      <td>QUEST FOR STARS</td>\n",
       "    </tr>\n",
       "    <tr>\n",
       "      <th>...</th>\n",
       "      <td>...</td>\n",
       "      <td>...</td>\n",
       "      <td>...</td>\n",
       "      <td>...</td>\n",
       "      <td>...</td>\n",
       "      <td>...</td>\n",
       "    </tr>\n",
       "    <tr>\n",
       "      <th>719</th>\n",
       "      <td>1.209048284</td>\n",
       "      <td>Gosford</td>\n",
       "      <td>R6</td>\n",
       "      <td>6</td>\n",
       "      <td>39791347</td>\n",
       "      <td>SOUND OF SILENCE</td>\n",
       "    </tr>\n",
       "    <tr>\n",
       "      <th>720</th>\n",
       "      <td>1.209048284</td>\n",
       "      <td>Gosford</td>\n",
       "      <td>R6</td>\n",
       "      <td>6</td>\n",
       "      <td>51918814</td>\n",
       "      <td>WE BACK</td>\n",
       "    </tr>\n",
       "    <tr>\n",
       "      <th>721</th>\n",
       "      <td>1.209048284</td>\n",
       "      <td>Gosford</td>\n",
       "      <td>R6</td>\n",
       "      <td>6</td>\n",
       "      <td>39979942</td>\n",
       "      <td>ZIPPING ALABAMA</td>\n",
       "    </tr>\n",
       "    <tr>\n",
       "      <th>722</th>\n",
       "      <td>1.209048284</td>\n",
       "      <td>Gosford</td>\n",
       "      <td>R6</td>\n",
       "      <td>6</td>\n",
       "      <td>41962222</td>\n",
       "      <td>NOT A SHAME</td>\n",
       "    </tr>\n",
       "    <tr>\n",
       "      <th>723</th>\n",
       "      <td>1.209048284</td>\n",
       "      <td>Gosford</td>\n",
       "      <td>R6</td>\n",
       "      <td>6</td>\n",
       "      <td>47692548</td>\n",
       "      <td>GRIM MADARA</td>\n",
       "    </tr>\n",
       "  </tbody>\n",
       "</table>\n",
       "<p>724 rows × 6 columns</p>\n",
       "</div>"
      ],
      "text/plain": [
       "       market_id    track dist  race_num  runner_id      runnner_name\n",
       "0    1.209048130   Temora   R2         2   51312709      STRIVE POLDA\n",
       "1    1.209048130   Temora   R2         2   41385415       TAYLEN BALE\n",
       "2    1.209048130   Temora   R2         2   51918883     DOUBLE DIPPIN\n",
       "3    1.209048130   Temora   R2         2   51129843       TAMMY TURBO\n",
       "4    1.209048130   Temora   R2         2   51918884   QUEST FOR STARS\n",
       "..           ...      ...  ...       ...        ...               ...\n",
       "719  1.209048284  Gosford   R6         6   39791347  SOUND OF SILENCE\n",
       "720  1.209048284  Gosford   R6         6   51918814           WE BACK\n",
       "721  1.209048284  Gosford   R6         6   39979942   ZIPPING ALABAMA\n",
       "722  1.209048284  Gosford   R6         6   41962222       NOT A SHAME\n",
       "723  1.209048284  Gosford   R6         6   47692548       GRIM MADARA\n",
       "\n",
       "[724 rows x 6 columns]"
      ]
     },
     "execution_count": 27,
     "metadata": {},
     "output_type": "execute_result"
    }
   ],
   "source": [
    "betfair_df"
   ]
  },
  {
   "cell_type": "code",
   "execution_count": null,
   "metadata": {},
   "outputs": [
    {
     "data": {
      "text/plain": [
       "Temora           86\n",
       "Murray Bridge    86\n",
       "Geelong          86\n",
       "Ipswich          83\n",
       "Richmond         80\n",
       "Launceston       76\n",
       "Horsham          70\n",
       "Warragul         45\n",
       "Grafton          44\n",
       "Gosford          44\n",
       "Townsville       24\n",
       "Name: track, dtype: int64"
      ]
     },
     "execution_count": 28,
     "metadata": {},
     "output_type": "execute_result"
    }
   ],
   "source": [
    "betfair_df.track.value_counts()"
   ]
  },
  {
   "cell_type": "code",
   "execution_count": null,
   "metadata": {},
   "outputs": [],
   "source": [
    "outs.race_num = pd.to_numeric(outs.race_num)"
   ]
  },
  {
   "cell_type": "code",
   "execution_count": null,
   "metadata": {},
   "outputs": [],
   "source": [
    "merged = pd.merge(outs, betfair_df, how='left', left_on=['race_num', 'dogs'], right_on=['race_num', 'runnner_name'])"
   ]
  },
  {
   "cell_type": "code",
   "execution_count": null,
   "metadata": {},
   "outputs": [],
   "source": [
    "# betfair_df_9 = betfair_df[betfair_df['race_num']==7]\n",
    "# outs = outs[outs['race_num']==7]\n",
    "# merged = pd.merge(outs, betfair_df_9, how='left', left_on=['dogs'], right_on=['runnner_name'])"
   ]
  },
  {
   "cell_type": "code",
   "execution_count": null,
   "metadata": {},
   "outputs": [
    {
     "data": {
      "text/plain": [
       "Casino      96\n",
       "Gunnedah    96\n",
       "Dapto       80\n",
       "Name: track_x, dtype: int64"
      ]
     },
     "execution_count": 32,
     "metadata": {},
     "output_type": "execute_result"
    }
   ],
   "source": [
    "merged.track_x.value_counts()"
   ]
  },
  {
   "cell_type": "code",
   "execution_count": null,
   "metadata": {},
   "outputs": [
    {
     "data": {
      "text/plain": [
       "Series([], Name: track_y, dtype: int64)"
      ]
     },
     "execution_count": 33,
     "metadata": {},
     "output_type": "execute_result"
    }
   ],
   "source": [
    "merged.track_y.value_counts()"
   ]
  },
  {
   "cell_type": "code",
   "execution_count": null,
   "metadata": {},
   "outputs": [
    {
     "data": {
      "text/plain": [
       "array([nan], dtype=object)"
      ]
     },
     "execution_count": 34,
     "metadata": {},
     "output_type": "execute_result"
    }
   ],
   "source": [
    "merged.market_id.unique()"
   ]
  }
 ],
 "metadata": {
  "kernelspec": {
   "display_name": "PYTORCH",
   "language": "python",
   "name": "python3"
  },
  "language_info": {
   "codemirror_mode": {
    "name": "ipython",
    "version": 3
   },
   "file_extension": ".py",
   "mimetype": "text/x-python",
   "name": "python",
   "nbconvert_exporter": "python",
   "pygments_lexer": "ipython3",
   "version": "3.9.15"
  },
  "orig_nbformat": 4,
  "vscode": {
   "interpreter": {
    "hash": "8a48ca33c5a1168302a4f8eae355aad1c03b1396f568d40bc174a6e6aabe725d"
   }
  }
 },
 "nbformat": 4,
 "nbformat_minor": 2
}
