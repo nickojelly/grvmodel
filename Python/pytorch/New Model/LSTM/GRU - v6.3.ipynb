{
 "cells": [
  {
   "cell_type": "code",
   "execution_count": 1,
   "metadata": {},
   "outputs": [
    {
     "name": "stderr",
     "output_type": "stream",
     "text": [
      "<frozen importlib._bootstrap>:228: RuntimeWarning: scipy._lib.messagestream.MessageStream size changed, may indicate binary incompatibility. Expected 56 from C header, got 64 from PyObject\n"
     ]
    },
    {
     "name": "stdout",
     "output_type": "stream",
     "text": [
      "c:\\Users\\Nick\\Documents\\GitHub\\grvmodel\\Python\\pytorch\\New Model\\LSTM\n"
     ]
    }
   ],
   "source": [
    "import pickle\n",
    "import pandas as pd\n",
    "import os\n",
    "\n",
    "import torch\n",
    "import numpy as np\n",
    "import torch.nn as nn\n",
    "import torch.nn.functional as F\n",
    "import torch.optim as optim\n",
    "from tqdm.notebook import tqdm, trange\n",
    "import torch.optim as optim\n",
    "from torch.utils.data import TensorDataset, DataLoader\n",
    "import wandb\n",
    "from torch.utils.data.sampler import SubsetRandomSampler\n",
    "import pprint\n",
    "import matplotlib.pyplot as plt\n",
    "import torch\n",
    "\n",
    "from sklearn.preprocessing import MinMaxScaler\n",
    "import math\n",
    "from torch.profiler import profile, record_function, ProfilerActivity\n",
    "\n",
    "from operator import itemgetter\n",
    "import operator\n",
    "from random import randint\n",
    "# from rnn_classes import Dog, DogInput, Race, Races, GRUNet, smallGRUNet, smalll_lin_GRUNet, smalll_prelin_GRUNet\n",
    "import rnn_classes\n",
    "from raceDB import build_dataset, build_pred_dataset\n",
    "import importlib\n",
    "import datetime\n",
    "from model_saver import model_saver, model_saver_wandb\n",
    "import training_testing_gru\n",
    "from torch.nn.utils.rnn import pack_padded_sequence, pack_sequence, pad_packed_sequence,pad_sequence, unpack_sequence, unpad_sequence"
   ]
  },
  {
   "cell_type": "code",
   "execution_count": 2,
   "metadata": {},
   "outputs": [
    {
     "name": "stdout",
     "output_type": "stream",
     "text": [
      "Running on the GPU\n"
     ]
    }
   ],
   "source": [
    "if torch.cuda.is_available():\n",
    "    device = torch.device(\"cuda:0\")  # you can continue going on here, like cuda:1 cuda:2....etc.\n",
    "    print(\"Running on the GPU\")\n",
    "else:\n",
    "    device = torch.device(\"cpu\")\n",
    "    print(\"Running on the CPU\")"
   ]
  },
  {
   "cell_type": "code",
   "execution_count": 3,
   "metadata": {},
   "outputs": [],
   "source": [
    "torch.set_default_tensor_type(torch.FloatTensor)"
   ]
  },
  {
   "cell_type": "code",
   "execution_count": 4,
   "metadata": {},
   "outputs": [
    {
     "data": {
      "text/plain": [
       "'1.12.1'"
      ]
     },
     "execution_count": 4,
     "metadata": {},
     "output_type": "execute_result"
    }
   ],
   "source": [
    "torch.__version__"
   ]
  },
  {
   "cell_type": "code",
   "execution_count": null,
   "metadata": {},
   "outputs": [],
   "source": [
    "['dist_last__1', 'box_last__1', 'speed_avg_1', 'split_speed_v1_1', 'split_speed_avg_1', 'split_margin_avg_1', 'margin_avg_1', 'margin_time_avg_1', 'RunHomeTime_1', 'run_home_speed_1', 'run_home_speed_v1_1', 'first_out_avg_1', 'pos_out_avg_1', 'post_change_avg_1', 'races_1', 'wins_1', 'wins_last_1', 'weight_', 'min_time_', 'min_split_time_', 'min_split_time_v1', 'last_start_price', 'last_start_prob']"
   ]
  },
  {
   "cell_type": "code",
   "execution_count": 5,
   "metadata": {},
   "outputs": [],
   "source": [
    "def custom_l2(output, target):\n",
    "    loss = torch.mean(abs(output-target), dim=1)\n",
    "    return loss"
   ]
  },
  {
   "cell_type": "code",
   "execution_count": 6,
   "metadata": {},
   "outputs": [],
   "source": [
    "def validation_CLE(x,y):\n",
    "    loss_t = -torch.log(torch.exp(x)/torch.sum(torch.exp(x), dim=-1, keepdim=True))*y\n",
    "    return loss_t"
   ]
  },
  {
   "cell_type": "code",
   "execution_count": 7,
   "metadata": {},
   "outputs": [],
   "source": [
    "tracks = ['Sandown Park',\n",
    " 'The Meadows',\n",
    " 'Warragul',\n",
    " 'Geelong',\n",
    " 'Sale',\n",
    " 'Ballarat',\n",
    " 'Bendigo',\n",
    " 'Cranbourne']"
   ]
  },
  {
   "cell_type": "code",
   "execution_count": 8,
   "metadata": {},
   "outputs": [
    {
     "name": "stdout",
     "output_type": "stream",
     "text": [
      "[['dist_last__1', 'box_last__1', 'speed_avg_1', 'split_speed_v1_1', 'split_speed_avg_1', 'split_margin_avg_1', 'margin_avg_1', 'margin_time_avg_1', 'RunHomeTime_1', 'run_home_speed_1', 'run_home_speed_v1_1', 'first_out_avg_1', 'pos_out_avg_1', 'post_change_avg_1', 'races_1', 'wins_1', 'wins_last_1', 'weight_', 'min_time_', 'min_split_time_', 'min_split_time_v1', 'last_start_price', 'last_start_prob']]\n",
      "(1377299, 24)\n",
      "26\n",
      "Latest date = 2023-09-19 00:00:00\n",
      "size after state filter (144207, 26)\n",
      "(144207, 26)\n",
      "Latest date = 2023-09-17 00:00:00\n",
      "num_features_per_dog=26\n"
     ]
    },
    {
     "data": {
      "application/vnd.jupyter.widget-view+json": {
       "model_id": "26955771fd5b4744a3141fa796aaebc7",
       "version_major": 2,
       "version_minor": 0
      },
      "text/plain": [
       "  0%|          | 0/3841 [00:00<?, ?it/s]"
      ]
     },
     "metadata": {},
     "output_type": "display_data"
    },
    {
     "data": {
      "application/vnd.jupyter.widget-view+json": {
       "model_id": "bac5b578726b4d86ae9b1ad37ce9f144",
       "version_major": 2,
       "version_minor": 0
      },
      "text/plain": [
       "  0%|          | 0/19151 [00:00<?, ?it/s]"
      ]
     },
     "metadata": {},
     "output_type": "display_data"
    },
    {
     "name": "stdout",
     "output_type": "stream",
     "text": [
      "number of races = 19151, number of unique dogs = 3842\n",
      "0        (Auckland, 318.0)\n",
      "1        (Auckland, 318.0)\n",
      "2        (Auckland, 527.0)\n",
      "3        (Auckland, 318.0)\n",
      "4        (Auckland, 318.0)\n",
      "               ...        \n",
      "19146    (Auckland, 318.0)\n",
      "19147    (Auckland, 318.0)\n",
      "19148    (Auckland, 318.0)\n",
      "19149    (Auckland, 527.0)\n",
      "19150    (Auckland, 318.0)\n",
      "Length: 19151, dtype: object\n"
     ]
    }
   ],
   "source": [
    "os.getcwd()\n",
    "os.chdir(r\"C:\\Users\\Nick\\Documents\\GitHub\\grvmodel\\Python\\DATA\")\n",
    "date = datetime.datetime.strptime(\"2022-08-01\", \"%Y-%m-%d\").date()\n",
    "hidden_size = 32\n",
    "states = [\"NZ\"]\n",
    "data_file = 'gru_inputs_simple_kitchen_sink.fth'\n",
    "raceDB = build_dataset(data_file, hidden_size ,state_filter=states, margin_type='boosted_sftmin',v6=True)\n",
    "raceDB.create_new_weights_v2()"
   ]
  },
  {
   "cell_type": "code",
   "execution_count": 9,
   "metadata": {},
   "outputs": [],
   "source": [
    "def closure(optimizer, criterion, outs, classes):\n",
    "    optimizer.zero_grad()\n",
    "    loss = nn.functional.mse_loss(outs, classes)\n",
    "    loss.backward()\n",
    "    return loss\n",
    "\n",
    "def model_pipeline(my_dataset=raceDB,config=None,prev_model=None, sweep=True, model_state_dict=None, prev_model_file=None, prev_model_version='450'):\n",
    "    if my_dataset:\n",
    "      dataset = my_dataset    \n",
    "    else:\n",
    "      dataset = raceDB\n",
    "    # tell wandb to get started\n",
    "    with wandb.init(project=\"NEW GRU V7\", config=config, save_code=True):\n",
    "      #  access all HPs through wandb.config, so logging matches execution!\n",
    "      wandb.define_metric(\"loss_val\", summary=\"min\")\n",
    "      wandb.define_metric(\"accuracy\", summary=\"max\")\n",
    "      wandb.define_metric(\"ROI < 30\", summary=\"max\")\n",
    "      wandb.define_metric(\"relu roi\", summary=\"max\")\n",
    "      \n",
    "      config = wandb.config\n",
    "      pprint.pprint(config)\n",
    "      pprint.pprint(config.epochs)\n",
    "      print(config)\n",
    "      # input_size = raceDB.get_race_input([0,1])[0].full_input.shape[0] #create fix so messy\n",
    "      print(config.input_type)\n",
    "      \n",
    "      if 'batch_days' in config.keys():\n",
    "        raceDB.create_test_split_date(config['training_date_end'])\n",
    "        raceDB.create_dogs_test_split_date()\n",
    "        raceDB.attach_races_to_dog_inputv2() \n",
    "        raceDB.reset_hidden()\n",
    "        raceDB.create_batches(batch_days=config['batch_days'], end_date = config['training_date_end'])\n",
    "\n",
    "      if config['input_type'] == 'basic':\n",
    "          print('here')\n",
    "          raceDB.batches['packed_x'] = raceDB.batches['packed_x_basic']\n",
    "          raceDB.batches['packed_y'] = raceDB.batches['packed_y_basic']\n",
    "          raceDB.batches['packed_v'] = raceDB.batches['packed_v_basic']\n",
    "          input_size = raceDB.batches['packed_x'][0].data[0].shape[0]\n",
    "\n",
    "\n",
    "      print(f\"{input_size=}\")\n",
    "\n",
    "      \n",
    "\n",
    "\n",
    "      raceDB.reset_hidden(num_layers=config['num_layers'], hidden_size=config['hidden_size'])\n",
    "      model = rnn_classes.GRUNetv3_BN(input_size,config['hidden_size'], num_layers=config['num_layers'],fc0_size=config['f0_layer_size'], fc1_size=config['f1_layer_size'])\n",
    "\n",
    "      if model_state_dict:\n",
    "        model.load_state_dict(model_state_dict)\n",
    "      if prev_model_file!=None:\n",
    "        model_name = prev_model_file\n",
    "        model_loc = f\"C:/Users/Nick/Documents/GitHub/grvmodel/Python/pytorch/New Model/savedmodel/{model_name}/{model_name}_{prev_model_version}.pt\"\n",
    "        model_data = torch.load(model_loc,map_location=torch.device('cuda:0'))\n",
    "        print(model_data['model_state_dict'].keys())\n",
    "        del_keys = ['gru.weight_ih_l0', 'gru.weight_hh_l0', 'gru.bias_ih_l0', 'gru.bias_hh_l0','layer_norm.weight', 'layer_norm.bias']\n",
    "        [model_data['model_state_dict'].pop(k) for k in del_keys]\n",
    "\n",
    "\n",
    "        model.load_state_dict(model_data['model_state_dict'], strict=False)\n",
    "        config['parent model'] = prev_model_file\n",
    "        model = model.to(device)\n",
    "        optimizer = optim.Adam(model.parameters(), lr=config['learning_rate'])\n",
    "        # optimizer.load_state_dict(model_data['optim'])\n",
    "        # optimizer.to(device)\n",
    "      else:\n",
    "        optimizer = optim.Adam(model.parameters(), lr=config['learning_rate'])\n",
    "\n",
    "      raceDB.to_cuda()\n",
    "\n",
    "      criterion = nn.CrossEntropyLoss(reduction='none')\n",
    "\n",
    "      model = model.to(device)\n",
    "      print(model)\n",
    "\n",
    "      # and use them to train the model\n",
    "      try:\n",
    "        # train_double_loss_regular(model, dataset, criterion, optimizer, scheduler, config, crit2=custom_l2)\n",
    "        training_testing_gru.train_regular_v3(model, dataset, criterion, optimizer, 'na', config)\n",
    "      except (KeyboardInterrupt) as error:\n",
    "        print(error)\n",
    "        print(\"finished Early\")\n",
    "        \n",
    "      # dataset.create_hidden_states_dict()\n",
    "      raceDB.create_hidden_states_dict_v2()\n",
    "      model_saver_wandb(model, optimizer, 450, 0.1, raceDB.hidden_states_dict_gru_v6,raceDB.train_hidden_dict , model_name=\"long nsw new  22000 RUN\")\n",
    "      if sweep:\n",
    "        # raceDB.reset_all_lstm_states\n",
    "        raceDB.reset_hidden()\n",
    "    \n",
    "\n",
    "\n",
    "    # and test its final performance\n",
    "    #test(model, test_loader)\n",
    "\n",
    "    return (model,dataset, optimizer)"
   ]
  },
  {
   "cell_type": "code",
   "execution_count": 10,
   "metadata": {},
   "outputs": [],
   "source": [
    "len(raceDB.raceIDs)\n",
    "wandb_config_static = {'hidden_size':128,\n",
    "                        'stats':raceDB.stats_cols,\n",
    "                        'races':states,\n",
    "                        'datafile':data_file,\n",
    "                        'latest_date':raceDB.latest_date,\n",
    "                        'input_type':'basic',\n",
    "                        'num_layers':2,\n",
    "                        'batch_size': 750,\n",
    "                        'dropout': 0.3,\n",
    "                        'epochs': 500,\n",
    "                        'learning_rate': 0.0001,\n",
    "                        'optimizer': 'adamW',\n",
    "                        'f0_layer_size':128,\n",
    "                        'f1_layer_size':64,\n",
    "                        'training_date_end':'2023-04-30',\n",
    "                        'batch_days':365}"
   ]
  },
  {
   "cell_type": "code",
   "execution_count": 11,
   "metadata": {},
   "outputs": [
    {
     "name": "stdout",
     "output_type": "stream",
     "text": [
      "C:\\Users\\Nick\\Documents\\GitHub\\grvmodel\\Python\\DATA\n"
     ]
    },
    {
     "data": {
      "text/plain": [
       "<module 'rnn_classes' from 'c:\\\\Users\\\\Nick\\\\Documents\\\\GitHub\\\\grvmodel\\\\Python\\\\pytorch\\\\New Model\\\\LSTM\\\\rnn_classes.py'>"
      ]
     },
     "execution_count": 11,
     "metadata": {},
     "output_type": "execute_result"
    }
   ],
   "source": [
    "importlib.reload(training_testing_gru)\n",
    "importlib.reload(rnn_classes)"
   ]
  },
  {
   "cell_type": "code",
   "execution_count": 12,
   "metadata": {},
   "outputs": [],
   "source": [
    "raceDB.reset_hidden(num_layers=wandb_config_static['num_layers'], hidden_size=wandb_config_static['hidden_size'])"
   ]
  },
  {
   "cell_type": "code",
   "execution_count": 13,
   "metadata": {},
   "outputs": [],
   "source": [
    "torch.cuda.empty_cache()"
   ]
  },
  {
   "cell_type": "code",
   "execution_count": 14,
   "metadata": {},
   "outputs": [],
   "source": [
    "# for race in raceDB.racesDict.values():\n",
    "#     for dog in race.dogs:\n",
    "#         try:\n",
    "#             del dog.stats\n",
    "#         except:\n",
    "#             pass\n",
    "\n",
    "# torch.cuda.empty_cache()"
   ]
  },
  {
   "cell_type": "code",
   "execution_count": 15,
   "metadata": {},
   "outputs": [
    {
     "name": "stderr",
     "output_type": "stream",
     "text": [
      "Failed to detect the name of this notebook, you can set it manually with the WANDB_NOTEBOOK_NAME environment variable to enable code saving.\n",
      "\u001b[34m\u001b[1mwandb\u001b[0m: Currently logged in as: \u001b[33mnickojelly\u001b[0m. Use \u001b[1m`wandb login --relogin`\u001b[0m to force relogin\n"
     ]
    },
    {
     "data": {
      "application/vnd.jupyter.widget-view+json": {
       "model_id": "dbf5618fc3ef4f23bcd5e6f3db0e46ee",
       "version_major": 2,
       "version_minor": 0
      },
      "text/plain": [
       "VBox(children=(Label(value='Waiting for wandb.init()...\\r'), FloatProgress(value=0.011111111111111112, max=1.0…"
      ]
     },
     "metadata": {},
     "output_type": "display_data"
    },
    {
     "data": {
      "text/html": [
       "Tracking run with wandb version 0.15.10"
      ],
      "text/plain": [
       "<IPython.core.display.HTML object>"
      ]
     },
     "metadata": {},
     "output_type": "display_data"
    },
    {
     "data": {
      "text/html": [
       "Run data is saved locally in <code>C:\\Users\\Nick\\Documents\\GitHub\\grvmodel\\Python\\DATA\\wandb\\run-20230919_173233-odyhq89b</code>"
      ],
      "text/plain": [
       "<IPython.core.display.HTML object>"
      ]
     },
     "metadata": {},
     "output_type": "display_data"
    },
    {
     "data": {
      "text/html": [
       "Syncing run <strong><a href='https://wandb.ai/nickojelly/NEW%20GRU%20V7/runs/odyhq89b' target=\"_blank\">different-surf-5</a></strong> to <a href='https://wandb.ai/nickojelly/NEW%20GRU%20V7' target=\"_blank\">Weights & Biases</a> (<a href='https://wandb.me/run' target=\"_blank\">docs</a>)<br/>"
      ],
      "text/plain": [
       "<IPython.core.display.HTML object>"
      ]
     },
     "metadata": {},
     "output_type": "display_data"
    },
    {
     "data": {
      "text/html": [
       " View project at <a href='https://wandb.ai/nickojelly/NEW%20GRU%20V7' target=\"_blank\">https://wandb.ai/nickojelly/NEW%20GRU%20V7</a>"
      ],
      "text/plain": [
       "<IPython.core.display.HTML object>"
      ]
     },
     "metadata": {},
     "output_type": "display_data"
    },
    {
     "data": {
      "text/html": [
       " View run at <a href='https://wandb.ai/nickojelly/NEW%20GRU%20V7/runs/odyhq89b' target=\"_blank\">https://wandb.ai/nickojelly/NEW%20GRU%20V7/runs/odyhq89b</a>"
      ],
      "text/plain": [
       "<IPython.core.display.HTML object>"
      ]
     },
     "metadata": {},
     "output_type": "display_data"
    },
    {
     "name": "stdout",
     "output_type": "stream",
     "text": [
      "{'hidden_size': 128, 'stats': \"[['dist_last__1', 'box_last__1', 'speed_avg_1', 'split_speed_v1_1', 'split_speed_avg_1', 'split_margin_avg_1', 'margin_avg_1', 'margin_time_avg_1', 'RunHomeTime_1', 'run_home_speed_1', 'run_home_speed_v1_1', 'first_out_avg_1', 'pos_out_avg_1', 'post_change_avg_1', 'races_1', 'wins_1', 'wins_last_1', 'weight_', 'min_time_', 'min_split_time_', 'min_split_time_v1', 'last_start_price', 'last_start_prob']]\", 'races': ['NZ'], 'datafile': 'gru_inputs_simple_kitchen_sink.fth', 'latest_date': '2023-09-17T00:00:00', 'input_type': 'basic', 'num_layers': 2, 'batch_size': 750, 'dropout': 0.3, 'epochs': 500, 'learning_rate': 0.0001, 'optimizer': 'adamW', 'f0_layer_size': 128, 'f1_layer_size': 64, 'training_date_end': '2023-04-30', 'batch_days': 365}\n",
      "500\n",
      "{'hidden_size': 128, 'stats': \"[['dist_last__1', 'box_last__1', 'speed_avg_1', 'split_speed_v1_1', 'split_speed_avg_1', 'split_margin_avg_1', 'margin_avg_1', 'margin_time_avg_1', 'RunHomeTime_1', 'run_home_speed_1', 'run_home_speed_v1_1', 'first_out_avg_1', 'pos_out_avg_1', 'post_change_avg_1', 'races_1', 'wins_1', 'wins_last_1', 'weight_', 'min_time_', 'min_split_time_', 'min_split_time_v1', 'last_start_price', 'last_start_prob']]\", 'races': ['NZ'], 'datafile': 'gru_inputs_simple_kitchen_sink.fth', 'latest_date': '2023-09-17T00:00:00', 'input_type': 'basic', 'num_layers': 2, 'batch_size': 750, 'dropout': 0.3, 'epochs': 500, 'learning_rate': 0.0001, 'optimizer': 'adamW', 'f0_layer_size': 128, 'f1_layer_size': 64, 'training_date_end': '2023-04-30', 'batch_days': 365}\n",
      "basic\n",
      "Train examples 17160, Test examples 856, Val examples 1135\n"
     ]
    },
    {
     "data": {
      "application/vnd.jupyter.widget-view+json": {
       "model_id": "631534c27f9d44f39973503f5252046d",
       "version_major": 2,
       "version_minor": 0
      },
      "text/plain": [
       "  0%|          | 0/3841 [00:00<?, ?it/s]"
      ]
     },
     "metadata": {},
     "output_type": "display_data"
    },
    {
     "data": {
      "application/vnd.jupyter.widget-view+json": {
       "model_id": "261355cb2c6d4886bd1c16cc9e8bec2e",
       "version_major": 2,
       "version_minor": 0
      },
      "text/plain": [
       "  0%|          | 0/3842 [00:00<?, ?it/s]"
      ]
     },
     "metadata": {},
     "output_type": "display_data"
    },
    {
     "name": "stdout",
     "output_type": "stream",
     "text": [
      "[(datetime.date(2019, 12, 1), datetime.date(2020, 11, 30)), (datetime.date(2020, 11, 30), datetime.date(2021, 11, 30)), (datetime.date(2021, 11, 30), datetime.date(2022, 11, 30)), (datetime.date(2022, 11, 30), datetime.date(2023, 4, 29))]\n",
      "2020-11-30\n",
      "2021-11-30\n",
      "2022-11-30\n",
      "2023-04-29\n",
      "Train examples [5094, 5162, 4887, 2012]\n"
     ]
    },
    {
     "data": {
      "application/vnd.jupyter.widget-view+json": {
       "model_id": "1e1686d9895f4ef2b59365616e0c2c9b",
       "version_major": 2,
       "version_minor": 0
      },
      "text/plain": [
       "  0%|          | 0/4 [00:00<?, ?it/s]"
      ]
     },
     "metadata": {},
     "output_type": "display_data"
    },
    {
     "data": {
      "application/vnd.jupyter.widget-view+json": {
       "model_id": "a4ddef14b20246a087c639baecee24fb",
       "version_major": 2,
       "version_minor": 0
      },
      "text/plain": [
       "  0%|          | 0/3841 [00:00<?, ?it/s]"
      ]
     },
     "metadata": {},
     "output_type": "display_data"
    },
    {
     "data": {
      "application/vnd.jupyter.widget-view+json": {
       "model_id": "6ca8169a7989415c851e86ac1112c0b4",
       "version_major": 2,
       "version_minor": 0
      },
      "text/plain": [
       "  0%|          | 0/3841 [00:00<?, ?it/s]"
      ]
     },
     "metadata": {},
     "output_type": "display_data"
    },
    {
     "data": {
      "application/vnd.jupyter.widget-view+json": {
       "model_id": "d2946bda1d5e4d3a94aedf367c56ac9e",
       "version_major": 2,
       "version_minor": 0
      },
      "text/plain": [
       "  0%|          | 0/3841 [00:00<?, ?it/s]"
      ]
     },
     "metadata": {},
     "output_type": "display_data"
    },
    {
     "data": {
      "application/vnd.jupyter.widget-view+json": {
       "model_id": "ecf713739d944f349413968b8ddc1afb",
       "version_major": 2,
       "version_minor": 0
      },
      "text/plain": [
       "  0%|          | 0/3841 [00:00<?, ?it/s]"
      ]
     },
     "metadata": {},
     "output_type": "display_data"
    },
    {
     "name": "stdout",
     "output_type": "stream",
     "text": [
      "Train examples [1947, 1877, 1794, 1277]\n",
      "Train examples [1947, 1877, 1794, 1277]\n",
      "Train examples [5094, 5162, 4887, 2012]\n",
      "Train examples [5094, 5162, 4887, 2012]\n",
      "here\n",
      "input_size=26\n",
      "GRUNetv3_BN(\n",
      "  (gru): GRU(26, 128, num_layers=2, dropout=0.3)\n",
      "  (relu0): ReLU()\n",
      "  (fc0): Linear(in_features=1094, out_features=1094, bias=True)\n",
      "  (layer_norm): BatchNorm1d(26, eps=1e-05, momentum=0.1, affine=True, track_running_stats=True)\n",
      "  (rl1): ReLU()\n",
      "  (drop1): Dropout(p=0.3, inplace=False)\n",
      "  (fc1): Linear(in_features=1094, out_features=128, bias=True)\n",
      "  (rl2): ReLU()\n",
      "  (drop2): Dropout(p=0.3, inplace=False)\n",
      "  (fc2): Linear(in_features=128, out_features=64, bias=True)\n",
      "  (rl3): ReLU()\n",
      "  (drop3): Dropout(p=0.3, inplace=False)\n",
      "  (fc3): Linear(in_features=64, out_features=8, bias=True)\n",
      "  (output_fn): Identity()\n",
      ")\n"
     ]
    },
    {
     "data": {
      "application/vnd.jupyter.widget-view+json": {
       "model_id": "60894b149108444b8ee0feedac331141",
       "version_major": 2,
       "version_minor": 0
      },
      "text/plain": [
       "  0%|          | 0/500 [00:00<?, ?it/s]"
      ]
     },
     "metadata": {},
     "output_type": "display_data"
    },
    {
     "name": "stdout",
     "output_type": "stream",
     "text": [
      "val_idx=range(0, 1175), len_test=1175\n",
      "{'val_accuracy': 0.15914893617021278, 'val_multibet profit': -10006.443408757155, 'val_multibet profit < 30': -1128.4373179365577, 'val_multibet profit < 30 sd': 16.321617371823212, 'val_multibet outlay < 30': 18127.033674010538, 'val_ROI < 30': -0.06225162584402566, 'val_ROI < 30 2': -0.14246116192491637, 'val_loss_val': 2.08699369430542, 'val_flat_simple': -353.5350774526596, 'val_profit_relu': -3372.9687188905764, 'val_relu roi': -0.29926954425044605, 'val_epoch': 0}\n",
      "created path\n",
      "val_idx=range(0, 1175), len_test=1175\n",
      "{'val_accuracy': 0.15914893617021278, 'val_multibet profit': -9305.738460129254, 'val_multibet profit < 30': -166.10376426264452, 'val_multibet profit < 30 sd': 15.906645466010298, 'val_multibet outlay < 30': 17318.59943525242, 'val_ROI < 30': -0.009591062192046336, 'val_ROI < 30 2': -0.04199993503831297, 'val_loss_val': 2.068150043487549, 'val_flat_simple': -353.5350774526596, 'val_profit_relu': -637.5442940235923, 'val_relu roi': -0.2863501649795971, 'val_epoch': 20}\n",
      "val_idx=range(0, 1175), len_test=1175\n",
      "{'val_accuracy': 0.18808510638297873, 'val_multibet profit': -8164.097748578937, 'val_multibet profit < 30': 90.92047047515501, 'val_multibet profit < 30 sd': 15.801419658334163, 'val_multibet outlay < 30': 16960.777456243555, 'val_ROI < 30': 0.005360631062444937, 'val_ROI < 30 2': -0.03607211282790933, 'val_loss_val': 2.0210723876953125, 'val_flat_simple': -241.08955228328705, 'val_profit_relu': -910.5174256200776, 'val_relu roi': -0.2609684526679395, 'val_epoch': 40}\n",
      "val_idx=range(0, 1175), len_test=1175\n",
      "{'val_accuracy': 0.27404255319148935, 'val_multibet profit': -6590.837220816817, 'val_multibet profit < 30': -298.4152151843263, 'val_multibet profit < 30 sd': 14.761153626178817, 'val_multibet outlay < 30': 16243.673125703292, 'val_ROI < 30': -0.018371165984134886, 'val_ROI < 30 2': -0.06538951661877075, 'val_loss_val': 1.9273674488067627, 'val_flat_simple': -128.20859229564667, 'val_profit_relu': -1445.6577723480882, 'val_relu roi': -0.2482714470033414, 'val_epoch': 60}\n",
      "val_idx=range(0, 1175), len_test=1175\n",
      "{'val_accuracy': 0.3097872340425532, 'val_multibet profit': -5002.152371024515, 'val_multibet profit < 30': -645.0080562149429, 'val_multibet profit < 30 sd': 13.66068457013459, 'val_multibet outlay < 30': 15912.761259009083, 'val_ROI < 30': -0.04053401202445419, 'val_ROI < 30 2': -0.04516566857436209, 'val_loss_val': 1.841271162033081, 'val_flat_simple': -113.00513136386871, 'val_profit_relu': -1543.2495694186516, 'val_relu roi': -0.2055287665123264, 'val_epoch': 80}\n",
      "val_idx=range(0, 1175), len_test=1175\n",
      "{'val_accuracy': 0.3251063829787234, 'val_multibet profit': -4135.795894563269, 'val_multibet profit < 30': -395.3992241487552, 'val_multibet profit < 30 sd': 13.414938792766131, 'val_multibet outlay < 30': 15919.103654773635, 'val_ROI < 30': -0.024838033140778468, 'val_ROI < 30 2': 0.004532858290692564, 'val_loss_val': 1.7997711896896362, 'val_flat_simple': -43.45573854446411, 'val_profit_relu': -1501.6097169749596, 'val_relu roi': -0.17756109388787097, 'val_epoch': 100}\n",
      "val_idx=range(0, 1175), len_test=1175\n",
      "{'val_accuracy': 0.33702127659574466, 'val_multibet profit': -3645.503302088935, 'val_multibet profit < 30': -153.33232270766678, 'val_multibet profit < 30 sd': 13.82661898867073, 'val_multibet outlay < 30': 16195.053264682245, 'val_ROI < 30': -0.009467849237770026, 'val_ROI < 30 2': 0.023357012724681832, 'val_loss_val': 1.780945897102356, 'val_flat_simple': -8.024951577186584, 'val_profit_relu': -1381.652776060923, 'val_relu roi': -0.15435839863184342, 'val_epoch': 120}\n",
      "val_idx=range(0, 1175), len_test=1175\n",
      "{'val_accuracy': 0.33702127659574466, 'val_multibet profit': -3263.732903167926, 'val_multibet profit < 30': -55.690278285500426, 'val_multibet profit < 30 sd': 14.050609409581561, 'val_multibet outlay < 30': 16377.600091915036, 'val_ROI < 30': -0.0034003930962383483, 'val_ROI < 30 2': 0.022668533147167838, 'val_loss_val': 1.7695220708847046, 'val_flat_simple': -38.266910791397095, 'val_profit_relu': -1246.5056045372517, 'val_relu roi': -0.1346117790808318, 'val_epoch': 140}\n",
      "val_idx=range(0, 1175), len_test=1175\n",
      "{'val_accuracy': 0.33361702127659576, 'val_multibet profit': -3093.601604939495, 'val_multibet profit < 30': -62.69818259048145, 'val_multibet profit < 30 sd': 14.22944803882293, 'val_multibet outlay < 30': 16575.5800244323, 'val_ROI < 30': -0.0037825634154620667, 'val_ROI < 30 2': 0.019679703212701585, 'val_loss_val': 1.7618563175201416, 'val_flat_simple': -49.28391480445862, 'val_profit_relu': -1202.077522317624, 'val_relu roi': -0.12507364138447338, 'val_epoch': 160}\n",
      "val_idx=range(0, 1175), len_test=1175\n",
      "{'val_accuracy': 0.3276595744680851, 'val_multibet profit': -2746.6170731747325, 'val_multibet profit < 30': 92.4428380662302, 'val_multibet profit < 30 sd': 14.417269170917873, 'val_multibet outlay < 30': 16682.825449705648, 'val_ROI < 30': 0.005541197943053541, 'val_ROI < 30 2': 0.014031389704428876, 'val_loss_val': 1.7589786052703857, 'val_flat_simple': -58.19202518463135, 'val_profit_relu': -1041.4835570679124, 'val_relu roi': -0.10757975419024282, 'val_epoch': 180}\n",
      "val_idx=range(0, 1175), len_test=1175\n",
      "{'val_accuracy': 0.32340425531914896, 'val_multibet profit': -2479.377865542421, 'val_multibet profit < 30': 240.5493863914566, 'val_multibet profit < 30 sd': 14.798706337009005, 'val_multibet outlay < 30': 16940.349479814722, 'val_ROI < 30': 0.014199788893262403, 'val_ROI < 30 2': 0.015558208455887441, 'val_loss_val': 1.7551213502883911, 'val_flat_simple': -83.00743281841278, 'val_profit_relu': -923.075660345694, 'val_relu roi': -0.09299550458888745, 'val_epoch': 200}\n",
      "val_idx=range(0, 1175), len_test=1175\n",
      "{'val_accuracy': 0.3276595744680851, 'val_multibet profit': -2120.0394800312642, 'val_multibet profit < 30': 317.03540108023094, 'val_multibet profit < 30 sd': 15.148528700362466, 'val_multibet outlay < 30': 17265.36837434685, 'val_ROI < 30': 0.018362504303776513, 'val_ROI < 30 2': 0.010789134619532122, 'val_loss_val': 1.7529326677322388, 'val_flat_simple': -72.43439614772797, 'val_profit_relu': -761.3012525817837, 'val_relu roi': -0.07426771890109786, 'val_epoch': 220}\n",
      "val_idx=range(0, 1175), len_test=1175\n",
      "{'val_accuracy': 0.3174468085106383, 'val_multibet profit': -2128.6409386807645, 'val_multibet profit < 30': 339.9808745692627, 'val_multibet profit < 30 sd': 15.30371376857241, 'val_multibet outlay < 30': 17296.65389429874, 'val_ROI < 30': 0.019655875445442426, 'val_ROI < 30 2': 0.009480857302527682, 'val_loss_val': 1.7518290281295776, 'val_flat_simple': -106.8248096704483, 'val_profit_relu': -728.4732051381247, 'val_relu roi': -0.0718026435417508, 'val_epoch': 240}\n",
      "val_idx=range(0, 1175), len_test=1175\n",
      "{'val_accuracy': 0.31063829787234043, 'val_multibet profit': -1902.4472073503687, 'val_multibet profit < 30': 352.6262112153956, 'val_multibet profit < 30 sd': 15.791817882622874, 'val_multibet outlay < 30': 17806.017732925822, 'val_ROI < 30': 0.01980376614830279, 'val_ROI < 30 2': 0.004210215569156638, 'val_loss_val': 1.7533701658248901, 'val_flat_simple': -126.7824159860611, 'val_profit_relu': -656.966064189672, 'val_relu roi': -0.06204502731404542, 'val_epoch': 260}\n",
      "val_idx=range(0, 1175), len_test=1175\n",
      "{'val_accuracy': 0.3191489361702128, 'val_multibet profit': -1699.7576375044273, 'val_multibet profit < 30': 532.5326931946366, 'val_multibet profit < 30 sd': 16.082151531972695, 'val_multibet outlay < 30': 18052.795073077068, 'val_ROI < 30': 0.02949862838629494, 'val_ROI < 30 2': 0.021079282785915227, 'val_loss_val': 1.7528961896896362, 'val_flat_simple': -71.26668798923492, 'val_profit_relu': -489.3732470745831, 'val_relu roi': -0.04567638699403365, 'val_epoch': 280}\n",
      "val_idx=range(0, 1175), len_test=1175\n",
      "{'val_accuracy': 0.3225531914893617, 'val_multibet profit': -1808.2018997396635, 'val_multibet profit < 30': 310.0909298529714, 'val_multibet profit < 30 sd': 16.217742161177714, 'val_multibet outlay < 30': 18359.873727659455, 'val_ROI < 30': 0.016889600356336562, 'val_ROI < 30 2': 0.019075600705131788, 'val_loss_val': 1.7546820640563965, 'val_flat_simple': -53.03562355041504, 'val_profit_relu': -585.349782267037, 'val_relu roi': -0.05340525696990121, 'val_epoch': 300}\n",
      "val_idx=range(0, 1175), len_test=1175\n",
      "{'val_accuracy': 0.33361702127659576, 'val_multibet profit': -1848.3740007731951, 'val_multibet profit < 30': 252.95566831585109, 'val_multibet profit < 30 sd': 16.50242623054487, 'val_multibet outlay < 30': 18761.57238973384, 'val_ROI < 30': 0.013482647566057208, 'val_ROI < 30 2': 0.027645062734521535, 'val_loss_val': 1.7584701776504517, 'val_flat_simple': -4.870548725128174, 'val_profit_relu': -646.0284773004884, 'val_relu roi': -0.0573727898904173, 'val_epoch': 320}\n",
      "val_idx=range(0, 1175), len_test=1175\n",
      "{'val_accuracy': 0.33787234042553194, 'val_multibet profit': -1598.3554108383141, 'val_multibet profit < 30': 457.84641757856207, 'val_multibet profit < 30 sd': 16.7349376991472, 'val_multibet outlay < 30': 19082.59838647484, 'val_ROI < 30': 0.02399287603846809, 'val_ROI < 30 2': 0.03850395780084224, 'val_loss_val': 1.7609461545944214, 'val_flat_simple': 28.438068509101868, 'val_profit_relu': -502.13742789070477, 'val_relu roi': -0.04400203913214319, 'val_epoch': 340}\n",
      "val_idx=range(0, 1175), len_test=1175\n",
      "{'val_accuracy': 0.3353191489361702, 'val_multibet profit': -1550.195969015334, 'val_multibet profit < 30': 450.47519488103694, 'val_multibet profit < 30 sd': 17.18095003810912, 'val_multibet outlay < 30': 19637.330532503005, 'val_ROI < 30': 0.022939736851474112, 'val_ROI < 30 2': 0.04405703412572164, 'val_loss_val': 1.7634716033935547, 'val_flat_simple': 23.629689931869507, 'val_profit_relu': -516.7637738357178, 'val_relu roi': -0.04350768314598355, 'val_epoch': 360}\n",
      "val_idx=range(0, 1175), len_test=1175\n",
      "{'val_accuracy': 0.3302127659574468, 'val_multibet profit': -1502.2141205081084, 'val_multibet profit < 30': 467.85408776279326, 'val_multibet profit < 30 sd': 17.44432755391007, 'val_multibet outlay < 30': 19980.882649861676, 'val_ROI < 30': 0.02341508610812206, 'val_ROI < 30 2': 0.03806650956198048, 'val_loss_val': 1.7697067260742188, 'val_flat_simple': 11.030300974845886, 'val_profit_relu': -505.3068062566079, 'val_relu roi': -0.04189233387878034, 'val_epoch': 380}\n",
      "val_idx=range(0, 1175), len_test=1175\n",
      "{'val_accuracy': 0.33702127659574466, 'val_multibet profit': -1410.5473447651643, 'val_multibet profit < 30': 502.1913538810401, 'val_multibet profit < 30 sd': 17.58273763599367, 'val_multibet outlay < 30': 20319.451176780633, 'val_ROI < 30': 0.024714808953841347, 'val_ROI < 30 2': 0.04449473000936285, 'val_loss_val': 1.7727882862091064, 'val_flat_simple': 24.62780225276947, 'val_profit_relu': -447.10872536756403, 'val_relu roi': -0.03634844496093312, 'val_epoch': 400}\n",
      "val_idx=range(0, 1175), len_test=1175\n",
      "{'val_accuracy': 0.32595744680851063, 'val_multibet profit': -1266.403772935063, 'val_multibet profit < 30': 598.897043671642, 'val_multibet profit < 30 sd': 18.036440612866446, 'val_multibet outlay < 30': 20756.77487612307, 'val_ROI < 30': 0.028853087594092722, 'val_ROI < 30 2': 0.0428820751978333, 'val_loss_val': 1.7792083024978638, 'val_flat_simple': -4.063189148902893, 'val_profit_relu': -331.2343279585345, 'val_relu roi': -0.026269742504234195, 'val_epoch': 420}\n",
      "val_idx=range(0, 1175), len_test=1175\n",
      "{'val_accuracy': 0.32340425531914896, 'val_multibet profit': -1407.9052867408222, 'val_multibet profit < 30': 452.8289072750308, 'val_multibet profit < 30 sd': 18.19411960562282, 'val_multibet outlay < 30': 21447.651230846903, 'val_ROI < 30': 0.021113216659535822, 'val_ROI < 30 2': 0.034371424556495285, 'val_loss_val': 1.788364291191101, 'val_flat_simple': -42.15177285671234, 'val_profit_relu': -408.78100931649226, 'val_relu roi': -0.03123074287646612, 'val_epoch': 440}\n",
      "val_idx=range(0, 1175), len_test=1175\n",
      "{'val_accuracy': 0.32340425531914896, 'val_multibet profit': -1396.9353093046539, 'val_multibet profit < 30': 423.793114224561, 'val_multibet profit < 30 sd': 18.634443722313772, 'val_multibet outlay < 30': 22107.20152095369, 'val_ROI < 30': 0.01916991229409478, 'val_ROI < 30 2': 0.024210061773744226, 'val_loss_val': 1.7994115352630615, 'val_flat_simple': -11.69074010848999, 'val_profit_relu': -407.31613324746235, 'val_relu roi': -0.030032421308153458, 'val_epoch': 460}\n",
      "val_idx=range(0, 1175), len_test=1175\n",
      "{'val_accuracy': 0.3191489361702128, 'val_multibet profit': -1162.8916592463888, 'val_multibet profit < 30': 689.1867539012185, 'val_multibet profit < 30 sd': 19.248714820233438, 'val_multibet outlay < 30': 22642.79780948026, 'val_ROI < 30': 0.03043734964645864, 'val_ROI < 30 2': 0.03780449182638848, 'val_loss_val': 1.8054457902908325, 'val_flat_simple': -32.079073786735535, 'val_profit_relu': -176.14384159832417, 'val_relu roi': -0.01269033427979447, 'val_epoch': 480}\n"
     ]
    },
    {
     "data": {
      "text/html": [
       "Waiting for W&B process to finish... <strong style=\"color:green\">(success).</strong>"
      ],
      "text/plain": [
       "<IPython.core.display.HTML object>"
      ]
     },
     "metadata": {},
     "output_type": "display_data"
    },
    {
     "data": {
      "text/html": [
       "<style>\n",
       "    table.wandb td:nth-child(1) { padding: 0 10px; text-align: left ; width: auto;} td:nth-child(2) {text-align: left ; width: 100%}\n",
       "    .wandb-row { display: flex; flex-direction: row; flex-wrap: wrap; justify-content: flex-start; width: 100% }\n",
       "    .wandb-col { display: flex; flex-direction: column; flex-basis: 100%; flex: 1; padding: 10px; }\n",
       "    </style>\n",
       "<div class=\"wandb-row\"><div class=\"wandb-col\"><h3>Run history:</h3><br/><table class=\"wandb\"><tr><td>ROI < 30</td><td>▄▄▆▆▅▇▇▃▅▅██▇▇▇▅▃▃▃▃▃▄▄▄▂▂▃▃▃▂▂▁▂▂▂▂▂▂▂▃</td></tr><tr><td>ROI < 30 2</td><td>▂▂▅▅▄██▆▇▇▆▆▅▄▄▃▁▁▁▁▁▂▂▂▂▂▂▂▂▁▁▂▂▂▂▂▂▃▃▃</td></tr><tr><td>accuracy</td><td>▁▁▁▁▂▇▇████████▇██▇▇▇▇▇▇██████████▇▇███▇</td></tr><tr><td>accuracy2</td><td>▁▁▁▁▂▆▆▇▇█▇████▇▇▇▇█▇▇▇▇▇▇▇██▇█▇▇█▇█▇█▇▇</td></tr><tr><td>epoch</td><td>▁▁▁▁▂▂▂▂▂▃▃▃▃▃▃▄▄▄▄▄▅▅▅▅▅▅▆▆▆▆▆▇▇▇▇▇▇███</td></tr><tr><td>flat_simple</td><td>▃▃▃▃▁▇▇▆▆▆▅▅▅▇▇▅▅▅▄▄▅▅▅▅▅▅▆▆▆▅▅▆▆▆▅▅▇██▆</td></tr><tr><td>loss_1</td><td>███▇▇▆▆▆▅▅▅▅▅▅▄▄▄▄▄▄▄▄▄▃▃▃▃▃▃▃▃▂▂▂▂▂▂▁▁▁</td></tr><tr><td>loss_val</td><td>████▇▅▅▃▂▂▂▂▂▁▁▁▁▁▁▁▁▁▁▁▁▁▁▁▁▁▁▁▁▁▁▁▂▂▂▂</td></tr><tr><td>multibet outlay < 30</td><td>▄▄▃▃▃▁▁▁▁▁▁▁▁▂▂▂▂▂▂▂▂▃▃▃▃▃▄▄▄▅▅▅▆▆▆▆▇▇▇█</td></tr><tr><td>multibet profit</td><td>▁▁▁▁▂▃▃▄▅▅▇▇▇▇▇▆▆▆▆▆▆▇▇▇▇▇▇▇▇▇▇▇████████</td></tr><tr><td>multibet profit < 30</td><td>▅▅▆▆▅▇▇▃▅▅███▇▇▆▄▄▃▃▃▄▄▄▂▂▃▃▃▂▂▁▃▃▂▂▂▂▂▃</td></tr><tr><td>multibet profit < 30 sd</td><td>██▆▆▅▃▃▁▁▁▁▁▁▁▁▁▁▁▁▁▁▂▂▂▂▂▃▃▃▃▃▃▄▄▄▄▅▆▆▇</td></tr><tr><td>profit_relu</td><td>▁▁██▆▆▆▄▄▄▆▆▆▆▆▆▆▆▆▆▆▆▆▇▆▆▇▇▇▇▇▇▇▇██████</td></tr><tr><td>relu roi</td><td>▂▂▂▂▁▃▃▃▃▃▅▅▅▆▆▅▅▅▆▆▅▆▆▆▆▆▇▇▇▇▇▇▇▇██████</td></tr><tr><td>val_ROI < 30</td><td>▁▁▅▅▆▄▄▃▄▄▅▅▅▅▅▆▇▇▇▇▇▇▇█▇▇▇▇█▇▇▇████▇▇▇█</td></tr><tr><td>val_ROI < 30 2</td><td>▁▁▅▅▅▄▄▅▇▇▇▇▇▇▇▇▇▇▇▇▇▆▆▇▇▇▇▇█████████▇▇█</td></tr><tr><td>val_accuracy</td><td>▁▁▁▁▂▆▆▇████████▇▇██▇▇▇▇▇▇██████████▇▇▇▇</td></tr><tr><td>val_epoch</td><td>▁▁▁▁▂▂▂▂▂▂▃▃▃▃▃▄▄▄▄▄▅▅▅▅▅▅▆▆▆▆▆▇▇▇▇▇▇███</td></tr><tr><td>val_flat_simple</td><td>▁▁▁▁▃▅▅▅▇▇▇▇▇▇▇▆▆▆▆▆▆▅▅▆▇▇▇▇██████▇▇▇▇▇▇</td></tr><tr><td>val_loss_val</td><td>████▇▅▅▃▂▂▂▂▁▁▁▁▁▁▁▁▁▁▁▁▁▁▁▁▁▁▁▁▁▁▂▂▂▂▂▂</td></tr><tr><td>val_multibet outlay < 30</td><td>▃▃▂▂▂▁▁▁▁▁▁▁▁▂▂▂▂▂▂▂▂▃▃▃▄▄▄▄▄▅▅▅▆▆▆▆▇▇▇█</td></tr><tr><td>val_multibet profit</td><td>▁▁▂▂▂▄▄▅▆▆▆▆▆▆▆▇▇▇▇▇▇▇▇█▇▇▇▇████████████</td></tr><tr><td>val_multibet profit < 30</td><td>▁▁▅▅▆▄▄▃▄▄▅▅▅▅▅▆▆▆▇▇▇▇▇▇▇▇▆▆▇▇▇▇▇▇██▇▇▇█</td></tr><tr><td>val_multibet profit < 30 sd</td><td>▄▄▄▄▄▃▃▁▁▁▁▁▂▂▂▂▃▃▃▃▃▄▄▄▄▄▅▅▅▆▆▆▆▆▇▇▇▇▇█</td></tr><tr><td>val_profit_relu</td><td>▁▁▇▇▆▅▅▅▅▅▅▅▆▆▆▆▆▆▇▇▇▇▇▇▇▇▇▇▇▇▇▇▇▇██▇▇▇█</td></tr><tr><td>val_relu roi</td><td>▁▁▁▁▂▂▂▃▄▄▅▅▅▅▅▆▆▆▆▆▇▇▇▇▇▇▇▇▇▇▇▇▇▇██████</td></tr></table><br/></div><div class=\"wandb-col\"><h3>Run summary:</h3><br/><table class=\"wandb\"><tr><td>ROI < 30 2</td><td>0.0008</td></tr><tr><td>accuracy2</td><td>0.31915</td></tr><tr><td>epoch</td><td>499</td></tr><tr><td>flat_simple</td><td>10.10855</td></tr><tr><td>loss_1</td><td>1.13613</td></tr><tr><td>multibet outlay < 30</td><td>16832.00349</td></tr><tr><td>multibet profit</td><td>-1016.92998</td></tr><tr><td>multibet profit < 30</td><td>-29.4291</td></tr><tr><td>multibet profit < 30 sd</td><td>16.81742</td></tr><tr><td>profit_relu</td><td>-288.57189</td></tr><tr><td>val_ROI < 30</td><td>0.03044</td></tr><tr><td>val_ROI < 30 2</td><td>0.0378</td></tr><tr><td>val_accuracy</td><td>0.31915</td></tr><tr><td>val_epoch</td><td>480</td></tr><tr><td>val_flat_simple</td><td>-32.07907</td></tr><tr><td>val_loss_val</td><td>1.80545</td></tr><tr><td>val_multibet outlay < 30</td><td>22642.79781</td></tr><tr><td>val_multibet profit</td><td>-1162.89166</td></tr><tr><td>val_multibet profit < 30</td><td>689.18675</td></tr><tr><td>val_multibet profit < 30 sd</td><td>19.24871</td></tr><tr><td>val_profit_relu</td><td>-176.14384</td></tr><tr><td>val_relu roi</td><td>-0.01269</td></tr></table><br/></div></div>"
      ],
      "text/plain": [
       "<IPython.core.display.HTML object>"
      ]
     },
     "metadata": {},
     "output_type": "display_data"
    },
    {
     "data": {
      "text/html": [
       " View run <strong style=\"color:#cdcd00\">different-surf-5</strong> at: <a href='https://wandb.ai/nickojelly/NEW%20GRU%20V7/runs/odyhq89b' target=\"_blank\">https://wandb.ai/nickojelly/NEW%20GRU%20V7/runs/odyhq89b</a><br/>Synced 6 W&B file(s), 150 media file(s), 150 artifact file(s) and 1 other file(s)"
      ],
      "text/plain": [
       "<IPython.core.display.HTML object>"
      ]
     },
     "metadata": {},
     "output_type": "display_data"
    },
    {
     "data": {
      "text/html": [
       "Find logs at: <code>.\\wandb\\run-20230919_173233-odyhq89b\\logs</code>"
      ],
      "text/plain": [
       "<IPython.core.display.HTML object>"
      ]
     },
     "metadata": {},
     "output_type": "display_data"
    }
   ],
   "source": [
    "(model,dataset, optimizer) = model_pipeline(raceDB,config=wandb_config_static,sweep=False)"
   ]
  },
  {
   "cell_type": "code",
   "execution_count": 24,
   "metadata": {},
   "outputs": [
    {
     "name": "stdout",
     "output_type": "stream",
     "text": [
      "{'method': 'grid',\n",
      " 'metric': {'goal': 'maximize', 'name': 'ROI < 30'},\n",
      " 'parameters': {'batch_days': {'values': [90, 180, 365, 550, 10000]},\n",
      "                'batch_size': {'value': 10},\n",
      "                'dropout': {'values': [0.3]},\n",
      "                'epochs': {'values': [500]},\n",
      "                'f0_layer_size': {'values': [128]},\n",
      "                'f1_layer_size': {'values': [64]},\n",
      "                'hidden_size': {'values': [128]},\n",
      "                'input_type': {'values': ['basic']},\n",
      "                'label_smoothing': {'values': [0.01, 0.0]},\n",
      "                'learning_rate': {'values': [0.0001, 0.008, 0.02]},\n",
      "                'len_data': {'value': 43651},\n",
      "                'loss': {'values': ['CEL']},\n",
      "                'num_layers': {'values': [2]},\n",
      "                'optimizer': {'value': 'adamW'},\n",
      "                'races': {'value': ['NSW']},\n",
      "                'stats': {'value': \"[['dist_last__1', 'box_last__1', \"\n",
      "                                   \"'speed_avg_1', 'split_speed_v1_1', \"\n",
      "                                   \"'split_speed_avg_1', 'split_margin_avg_1', \"\n",
      "                                   \"'margin_avg_1', 'RunHomeTime_1', \"\n",
      "                                   \"'run_home_speed_1', 'run_home_speed_v1_1', \"\n",
      "                                   \"'first_out_avg_1', 'pos_out_avg_1', \"\n",
      "                                   \"'post_change_avg_1', 'races_1', 'wins_1', \"\n",
      "                                   \"'wins_last_1', 'weight_', 'min_time_', \"\n",
      "                                   \"'min_split_time_', 'min_split_time_v1', \"\n",
      "                                   \"'last_start_price', 'last_start_prob']]\"},\n",
      "                'validation_split': {'value': 0.1}}}\n"
     ]
    },
    {
     "data": {
      "text/plain": [
       "{'method': 'grid',\n",
       " 'metric': {'name': 'ROI < 30', 'goal': 'maximize'},\n",
       " 'parameters': {'optimizer': {'value': 'adamW'},\n",
       "  'batch_days': {'values': [90, 180, 365, 550, 10000]},\n",
       "  'f0_layer_size': {'values': [128]},\n",
       "  'f1_layer_size': {'values': [64]},\n",
       "  'dropout': {'values': [0.3]},\n",
       "  'input_type': {'values': ['basic']},\n",
       "  'num_layers': {'values': [2]},\n",
       "  'hidden_size': {'values': [128]},\n",
       "  'len_data': {'value': 43651},\n",
       "  'stats': {'value': \"[['dist_last__1', 'box_last__1', 'speed_avg_1', 'split_speed_v1_1', 'split_speed_avg_1', 'split_margin_avg_1', 'margin_avg_1', 'RunHomeTime_1', 'run_home_speed_1', 'run_home_speed_v1_1', 'first_out_avg_1', 'pos_out_avg_1', 'post_change_avg_1', 'races_1', 'wins_1', 'wins_last_1', 'weight_', 'min_time_', 'min_split_time_', 'min_split_time_v1', 'last_start_price', 'last_start_prob']]\"},\n",
       "  'races': {'value': ['NSW']},\n",
       "  'batch_size': {'value': 10},\n",
       "  'epochs': {'values': [500]},\n",
       "  'validation_split': {'value': 0.1},\n",
       "  'learning_rate': {'values': [0.0001, 0.008, 0.02]},\n",
       "  'label_smoothing': {'values': [0.01, 0.0]},\n",
       "  'loss': {'values': ['CEL']}}}"
      ]
     },
     "execution_count": 24,
     "metadata": {},
     "output_type": "execute_result"
    }
   ],
   "source": [
    "sweep_config = {\"method\": \"grid\"}\n",
    "\n",
    "metric = {\"name\": \"ROI < 30\", \"goal\": \"maximize\"}\n",
    "\n",
    "sweep_config[\"metric\"] = metric\n",
    "\n",
    "\n",
    "parameters_dict = {\n",
    "    \"optimizer\": {\"value\": \"adamW\"},\n",
    "    \"batch_days\": {\"values\": [90,180,365,550,10000]},\n",
    "    \"f0_layer_size\": {\"values\": [128]},\n",
    "    \"f1_layer_size\": {\"values\": [64]},\n",
    "    \"dropout\": {\"values\": [0.3]},\n",
    "    \"input_type\": {\"values\": ['basic']},\n",
    "    \"num_layers\": {\"values\": [2]},\n",
    "    'hidden_size':{'values':[128]},\n",
    "    \"len_data\": {\"value\": len(raceDB.raceIDs)},\n",
    "    \"stats\":{\"value\": raceDB.stats_cols},\n",
    "    \"races\":{\"value\": states},\n",
    "    \"batch_size\":{\"value\": 10},\n",
    "}\n",
    "\n",
    "sweep_config[\"parameters\"] = parameters_dict\n",
    "\n",
    "parameters_dict.update(\n",
    "    {\n",
    "        \"epochs\": {\"values\": [500]},\n",
    "        \"validation_split\": {\"value\": 0.1},\n",
    "        \"training_date_end\": {\"values\": \n",
    "                                [\n",
    "                                '2023-04-30',\n",
    "                                '2023-02-28',\n",
    "                                '2022-11-30',\n",
    "                                '2021-11-30'\n",
    "                                ]},\n",
    "        \"learning_rate\": {\"values\": [0.0003, 0.0001]},\n",
    "        \"label_smoothing\": {\"values\": [0.01,0.0]},\n",
    "        \"loss\": {\n",
    "            \"values\": [ \"CEL\"],\n",
    "        },\n",
    "    }\n",
    ")\n",
    "# )\n",
    "\n",
    "import pprint\n",
    "\n",
    "pprint.pprint(sweep_config)\n",
    "\n",
    "\n",
    "sweep_config"
   ]
  },
  {
   "cell_type": "code",
   "execution_count": 22,
   "metadata": {},
   "outputs": [
    {
     "name": "stderr",
     "output_type": "stream",
     "text": [
      "\u001b[34m\u001b[1mwandb\u001b[0m: Agent Starting Run: xsj0dnt1 with config:\n",
      "\u001b[34m\u001b[1mwandb\u001b[0m: \tbatch_days: 365\n",
      "\u001b[34m\u001b[1mwandb\u001b[0m: \tbatch_size: 10\n",
      "\u001b[34m\u001b[1mwandb\u001b[0m: \tdropout: 0.3\n",
      "\u001b[34m\u001b[1mwandb\u001b[0m: \tepochs: 500\n",
      "\u001b[34m\u001b[1mwandb\u001b[0m: \tf0_layer_size: 128\n",
      "\u001b[34m\u001b[1mwandb\u001b[0m: \tf1_layer_size: 64\n",
      "\u001b[34m\u001b[1mwandb\u001b[0m: \thidden_size: 128\n",
      "\u001b[34m\u001b[1mwandb\u001b[0m: \tinput_type: basic\n",
      "\u001b[34m\u001b[1mwandb\u001b[0m: \tlabel_smoothing: 0\n",
      "\u001b[34m\u001b[1mwandb\u001b[0m: \tlearning_rate: 0.0003\n",
      "\u001b[34m\u001b[1mwandb\u001b[0m: \tlen_data: 52237\n",
      "\u001b[34m\u001b[1mwandb\u001b[0m: \tloss: CEL\n",
      "\u001b[34m\u001b[1mwandb\u001b[0m: \tnum_layers: 2\n",
      "\u001b[34m\u001b[1mwandb\u001b[0m: \toptimizer: adamW\n",
      "\u001b[34m\u001b[1mwandb\u001b[0m: \traces: ['VIC']\n",
      "\u001b[34m\u001b[1mwandb\u001b[0m: \tstats: [['dist_last__1', 'box_last__1', 'speed_avg_1', 'split_speed_v1_1', 'split_speed_avg_1', 'split_margin_avg_1', 'margin_avg_1', 'RunHomeTime_1', 'run_home_speed_1', 'run_home_speed_v1_1', 'first_out_avg_1', 'pos_out_avg_1', 'post_change_avg_1', 'races_1', 'wins_1', 'wins_last_1', 'weight_', 'min_time_', 'min_split_time_', 'min_split_time_v1', 'last_start_price', 'last_start_prob']]\n",
      "\u001b[34m\u001b[1mwandb\u001b[0m: \tvalidation_split: 0.1\n",
      "Failed to detect the name of this notebook, you can set it manually with the WANDB_NOTEBOOK_NAME environment variable to enable code saving.\n",
      "\u001b[34m\u001b[1mwandb\u001b[0m: \u001b[33mWARNING\u001b[0m Ignored wandb.init() arg project when running a sweep.\n"
     ]
    },
    {
     "data": {
      "application/vnd.jupyter.widget-view+json": {
       "model_id": "b924443e39944a78804f2d83f9d72c6c",
       "version_major": 2,
       "version_minor": 0
      },
      "text/plain": [
       "VBox(children=(Label(value='Waiting for wandb.init()...\\r'), FloatProgress(value=0.016916666666899498, max=1.0…"
      ]
     },
     "metadata": {},
     "output_type": "display_data"
    },
    {
     "data": {
      "text/html": [
       "wandb version 0.15.3 is available!  To upgrade, please run:\n",
       " $ pip install wandb --upgrade"
      ],
      "text/plain": [
       "<IPython.core.display.HTML object>"
      ]
     },
     "metadata": {},
     "output_type": "display_data"
    },
    {
     "data": {
      "text/html": [
       "Tracking run with wandb version 0.15.0"
      ],
      "text/plain": [
       "<IPython.core.display.HTML object>"
      ]
     },
     "metadata": {},
     "output_type": "display_data"
    },
    {
     "data": {
      "text/html": [
       "Run data is saved locally in <code>C:\\Users\\Nick\\Documents\\GitHub\\grvmodel\\Python\\DATA\\wandb\\run-20230602_055507-xsj0dnt1</code>"
      ],
      "text/plain": [
       "<IPython.core.display.HTML object>"
      ]
     },
     "metadata": {},
     "output_type": "display_data"
    },
    {
     "data": {
      "text/html": [
       "Syncing run <strong><a href='https://wandb.ai/nickojelly/NEW%20GRU-sweeps/runs/xsj0dnt1' target=\"_blank\">firm-sweep-16</a></strong> to <a href='https://wandb.ai/nickojelly/NEW%20GRU-sweeps' target=\"_blank\">Weights & Biases</a> (<a href='https://wandb.me/run' target=\"_blank\">docs</a>)<br/>Sweep page: <a href='https://wandb.ai/nickojelly/NEW%20GRU-sweeps/sweeps/x9mz21wl' target=\"_blank\">https://wandb.ai/nickojelly/NEW%20GRU-sweeps/sweeps/x9mz21wl</a>"
      ],
      "text/plain": [
       "<IPython.core.display.HTML object>"
      ]
     },
     "metadata": {},
     "output_type": "display_data"
    },
    {
     "data": {
      "text/html": [
       " View project at <a href='https://wandb.ai/nickojelly/NEW%20GRU-sweeps' target=\"_blank\">https://wandb.ai/nickojelly/NEW%20GRU-sweeps</a>"
      ],
      "text/plain": [
       "<IPython.core.display.HTML object>"
      ]
     },
     "metadata": {},
     "output_type": "display_data"
    },
    {
     "data": {
      "text/html": [
       " View sweep at <a href='https://wandb.ai/nickojelly/NEW%20GRU-sweeps/sweeps/x9mz21wl' target=\"_blank\">https://wandb.ai/nickojelly/NEW%20GRU-sweeps/sweeps/x9mz21wl</a>"
      ],
      "text/plain": [
       "<IPython.core.display.HTML object>"
      ]
     },
     "metadata": {},
     "output_type": "display_data"
    },
    {
     "data": {
      "text/html": [
       " View run at <a href='https://wandb.ai/nickojelly/NEW%20GRU-sweeps/runs/xsj0dnt1' target=\"_blank\">https://wandb.ai/nickojelly/NEW%20GRU-sweeps/runs/xsj0dnt1</a>"
      ],
      "text/plain": [
       "<IPython.core.display.HTML object>"
      ]
     },
     "metadata": {},
     "output_type": "display_data"
    },
    {
     "name": "stdout",
     "output_type": "stream",
     "text": [
      "{'batch_days': 365, 'batch_size': 10, 'dropout': 0.3, 'epochs': 500, 'f0_layer_size': 128, 'f1_layer_size': 64, 'hidden_size': 128, 'input_type': 'basic', 'label_smoothing': 0, 'learning_rate': 0.0003, 'len_data': 52237, 'loss': 'CEL', 'num_layers': 2, 'optimizer': 'adamW', 'races': ['VIC'], 'stats': \"[['dist_last__1', 'box_last__1', 'speed_avg_1', 'split_speed_v1_1', 'split_speed_avg_1', 'split_margin_avg_1', 'margin_avg_1', 'RunHomeTime_1', 'run_home_speed_1', 'run_home_speed_v1_1', 'first_out_avg_1', 'pos_out_avg_1', 'post_change_avg_1', 'races_1', 'wins_1', 'wins_last_1', 'weight_', 'min_time_', 'min_split_time_', 'min_split_time_v1', 'last_start_price', 'last_start_prob']]\", 'validation_split': 0.1}\n",
      "500\n",
      "{'batch_days': 365, 'batch_size': 10, 'dropout': 0.3, 'epochs': 500, 'f0_layer_size': 128, 'f1_layer_size': 64, 'hidden_size': 128, 'input_type': 'basic', 'label_smoothing': 0, 'learning_rate': 0.0003, 'len_data': 52237, 'loss': 'CEL', 'num_layers': 2, 'optimizer': 'adamW', 'races': ['VIC'], 'stats': \"[['dist_last__1', 'box_last__1', 'speed_avg_1', 'split_speed_v1_1', 'split_speed_avg_1', 'split_margin_avg_1', 'margin_avg_1', 'RunHomeTime_1', 'run_home_speed_1', 'run_home_speed_v1_1', 'first_out_avg_1', 'pos_out_avg_1', 'post_change_avg_1', 'races_1', 'wins_1', 'wins_last_1', 'weight_', 'min_time_', 'min_split_time_', 'min_split_time_v1', 'last_start_price', 'last_start_prob']]\", 'validation_split': 0.1}\n",
      "basic\n",
      "here\n",
      "input_size=28\n",
      "GRUNetv3(\n",
      "  (gru): GRU(28, 128, num_layers=2, dropout=0.3)\n",
      "  (relu0): ReLU()\n",
      "  (fc0): Linear(in_features=128, out_features=1, bias=True)\n",
      "  (rl1): ReLU()\n",
      "  (drop1): Dropout(p=0.3, inplace=False)\n",
      "  (fc1): Linear(in_features=1094, out_features=128, bias=True)\n",
      "  (rl2): ReLU()\n",
      "  (drop2): Dropout(p=0.3, inplace=False)\n",
      "  (fc2): Linear(in_features=128, out_features=64, bias=True)\n",
      "  (rl3): ReLU()\n",
      "  (drop3): Dropout(p=0.3, inplace=False)\n",
      "  (fc3): Linear(in_features=64, out_features=8, bias=True)\n",
      "  (output_fn): Identity()\n",
      ")\n"
     ]
    },
    {
     "name": "stderr",
     "output_type": "stream",
     "text": [
      "  0%|          | 0/500 [00:00<?, ?it/s]"
     ]
    },
    {
     "name": "stdout",
     "output_type": "stream",
     "text": [
      "[Errno 2] No such file or directory: 'C:\\\\Users\\\\Nick\\\\AppData\\\\Local\\\\Temp\\\\tmp6jhpx56zwandb-media\\\\slpu6963.table.json'\n",
      "created path\n"
     ]
    },
    {
     "name": "stderr",
     "output_type": "stream",
     "text": [
      "  4%|▍         | 20/500 [07:52<3:08:54, 23.61s/it]"
     ]
    },
    {
     "name": "stdout",
     "output_type": "stream",
     "text": [
      "[Errno 2] No such file or directory: 'C:\\\\Users\\\\Nick\\\\AppData\\\\Local\\\\Temp\\\\tmp6jhpx56zwandb-media\\\\7e75wm39.table.json'\n"
     ]
    },
    {
     "name": "stderr",
     "output_type": "stream",
     "text": [
      "  8%|▊         | 40/500 [15:22<2:54:03, 22.70s/it]"
     ]
    },
    {
     "name": "stdout",
     "output_type": "stream",
     "text": [
      "[Errno 2] No such file or directory: 'C:\\\\Users\\\\Nick\\\\AppData\\\\Local\\\\Temp\\\\tmp6jhpx56zwandb-media\\\\jvoa12rx.table.json'\n"
     ]
    },
    {
     "name": "stderr",
     "output_type": "stream",
     "text": [
      " 12%|█▏        | 60/500 [23:07<2:46:04, 22.65s/it]"
     ]
    },
    {
     "name": "stdout",
     "output_type": "stream",
     "text": [
      "[Errno 2] No such file or directory: 'C:\\\\Users\\\\Nick\\\\AppData\\\\Local\\\\Temp\\\\tmp6jhpx56zwandb-media\\\\o3mpeirb.table.json'\n"
     ]
    },
    {
     "name": "stderr",
     "output_type": "stream",
     "text": [
      " 16%|█▌        | 80/500 [30:54<2:38:10, 22.60s/it]"
     ]
    },
    {
     "name": "stdout",
     "output_type": "stream",
     "text": [
      "[Errno 2] No such file or directory: 'C:\\\\Users\\\\Nick\\\\AppData\\\\Local\\\\Temp\\\\tmp6jhpx56zwandb-media\\\\smfvlk23.table.json'\n"
     ]
    },
    {
     "name": "stderr",
     "output_type": "stream",
     "text": [
      " 20%|██        | 100/500 [38:43<2:33:11, 22.98s/it]"
     ]
    },
    {
     "name": "stdout",
     "output_type": "stream",
     "text": [
      "[Errno 2] No such file or directory: 'C:\\\\Users\\\\Nick\\\\AppData\\\\Local\\\\Temp\\\\tmp6jhpx56zwandb-media\\\\su4umuhn.table.json'\n"
     ]
    },
    {
     "name": "stderr",
     "output_type": "stream",
     "text": [
      " 24%|██▍       | 120/500 [46:26<2:22:46, 22.54s/it]"
     ]
    },
    {
     "name": "stdout",
     "output_type": "stream",
     "text": [
      "[Errno 2] No such file or directory: 'C:\\\\Users\\\\Nick\\\\AppData\\\\Local\\\\Temp\\\\tmp6jhpx56zwandb-media\\\\h9an64vu.table.json'\n"
     ]
    },
    {
     "name": "stderr",
     "output_type": "stream",
     "text": [
      " 28%|██▊       | 140/500 [54:03<2:01:06, 20.19s/it]"
     ]
    },
    {
     "name": "stdout",
     "output_type": "stream",
     "text": [
      "[Errno 2] No such file or directory: 'C:\\\\Users\\\\Nick\\\\AppData\\\\Local\\\\Temp\\\\tmp6jhpx56zwandb-media\\\\c50t6qzc.table.json'\n"
     ]
    },
    {
     "name": "stderr",
     "output_type": "stream",
     "text": [
      " 32%|███▏      | 160/500 [1:01:45<2:08:06, 22.61s/it]"
     ]
    },
    {
     "name": "stdout",
     "output_type": "stream",
     "text": [
      "[Errno 2] No such file or directory: 'C:\\\\Users\\\\Nick\\\\AppData\\\\Local\\\\Temp\\\\tmp6jhpx56zwandb-media\\\\0e3xfu1w.table.json'\n"
     ]
    },
    {
     "name": "stderr",
     "output_type": "stream",
     "text": [
      " 36%|███▌      | 180/500 [1:09:28<2:03:00, 23.06s/it]"
     ]
    },
    {
     "name": "stdout",
     "output_type": "stream",
     "text": [
      "[Errno 2] No such file or directory: 'C:\\\\Users\\\\Nick\\\\AppData\\\\Local\\\\Temp\\\\tmp6jhpx56zwandb-media\\\\lfbboqif.table.json'\n"
     ]
    },
    {
     "name": "stderr",
     "output_type": "stream",
     "text": [
      " 40%|████      | 200/500 [1:17:16<1:54:58, 22.99s/it]"
     ]
    },
    {
     "name": "stdout",
     "output_type": "stream",
     "text": [
      "[Errno 2] No such file or directory: 'C:\\\\Users\\\\Nick\\\\AppData\\\\Local\\\\Temp\\\\tmp6jhpx56zwandb-media\\\\3tnnpv2f.table.json'\n"
     ]
    },
    {
     "name": "stderr",
     "output_type": "stream",
     "text": [
      " 44%|████▍     | 220/500 [1:24:50<1:44:00, 22.29s/it]"
     ]
    },
    {
     "name": "stdout",
     "output_type": "stream",
     "text": [
      "[Errno 2] No such file or directory: 'C:\\\\Users\\\\Nick\\\\AppData\\\\Local\\\\Temp\\\\tmp6jhpx56zwandb-media\\\\tmbfdddf.table.json'\n"
     ]
    },
    {
     "name": "stderr",
     "output_type": "stream",
     "text": [
      " 48%|████▊     | 240/500 [1:32:32<1:38:26, 22.72s/it]"
     ]
    },
    {
     "name": "stdout",
     "output_type": "stream",
     "text": [
      "[Errno 2] No such file or directory: 'C:\\\\Users\\\\Nick\\\\AppData\\\\Local\\\\Temp\\\\tmp6jhpx56zwandb-media\\\\yyqsm81b.table.json'\n"
     ]
    },
    {
     "name": "stderr",
     "output_type": "stream",
     "text": [
      " 52%|█████▏    | 260/500 [1:40:27<1:31:51, 22.96s/it]"
     ]
    },
    {
     "name": "stdout",
     "output_type": "stream",
     "text": [
      "[Errno 2] No such file or directory: 'C:\\\\Users\\\\Nick\\\\AppData\\\\Local\\\\Temp\\\\tmp6jhpx56zwandb-media\\\\uy9j1nv6.table.json'\n"
     ]
    },
    {
     "name": "stderr",
     "output_type": "stream",
     "text": [
      " 56%|█████▌    | 280/500 [1:48:35<1:27:03, 23.74s/it]"
     ]
    },
    {
     "name": "stdout",
     "output_type": "stream",
     "text": [
      "[Errno 2] No such file or directory: 'C:\\\\Users\\\\Nick\\\\AppData\\\\Local\\\\Temp\\\\tmp6jhpx56zwandb-media\\\\1hgyla4r.table.json'\n"
     ]
    },
    {
     "name": "stderr",
     "output_type": "stream",
     "text": [
      " 60%|██████    | 300/500 [1:56:27<1:16:33, 22.97s/it]"
     ]
    },
    {
     "name": "stdout",
     "output_type": "stream",
     "text": [
      "[Errno 2] No such file or directory: 'C:\\\\Users\\\\Nick\\\\AppData\\\\Local\\\\Temp\\\\tmp6jhpx56zwandb-media\\\\tkqfufbv.table.json'\n"
     ]
    },
    {
     "name": "stderr",
     "output_type": "stream",
     "text": [
      " 64%|██████▍   | 320/500 [2:04:30<1:11:34, 23.86s/it]"
     ]
    },
    {
     "name": "stdout",
     "output_type": "stream",
     "text": [
      "[Errno 2] No such file or directory: 'C:\\\\Users\\\\Nick\\\\AppData\\\\Local\\\\Temp\\\\tmp6jhpx56zwandb-media\\\\q3xfs9ow.table.json'\n"
     ]
    },
    {
     "name": "stderr",
     "output_type": "stream",
     "text": [
      " 68%|██████▊   | 340/500 [2:12:11<1:00:16, 22.61s/it]"
     ]
    },
    {
     "name": "stdout",
     "output_type": "stream",
     "text": [
      "[Errno 2] No such file or directory: 'C:\\\\Users\\\\Nick\\\\AppData\\\\Local\\\\Temp\\\\tmp6jhpx56zwandb-media\\\\mfcrd4w2.table.json'\n"
     ]
    },
    {
     "name": "stderr",
     "output_type": "stream",
     "text": [
      " 72%|███████▏  | 360/500 [2:19:54<53:20, 22.86s/it]  "
     ]
    },
    {
     "name": "stdout",
     "output_type": "stream",
     "text": [
      "[Errno 2] No such file or directory: 'C:\\\\Users\\\\Nick\\\\AppData\\\\Local\\\\Temp\\\\tmp6jhpx56zwandb-media\\\\2thssnnc.table.json'\n"
     ]
    },
    {
     "name": "stderr",
     "output_type": "stream",
     "text": [
      " 76%|███████▌  | 380/500 [2:27:24<45:32, 22.77s/it]  "
     ]
    },
    {
     "name": "stdout",
     "output_type": "stream",
     "text": [
      "[Errno 2] No such file or directory: 'C:\\\\Users\\\\Nick\\\\AppData\\\\Local\\\\Temp\\\\tmp6jhpx56zwandb-media\\\\w8basoel.table.json'\n"
     ]
    },
    {
     "name": "stderr",
     "output_type": "stream",
     "text": [
      " 80%|████████  | 400/500 [2:35:19<39:00, 23.41s/it]"
     ]
    },
    {
     "name": "stdout",
     "output_type": "stream",
     "text": [
      "[Errno 2] No such file or directory: 'C:\\\\Users\\\\Nick\\\\AppData\\\\Local\\\\Temp\\\\tmp6jhpx56zwandb-media\\\\fngbpllx.table.json'\n"
     ]
    },
    {
     "name": "stderr",
     "output_type": "stream",
     "text": [
      " 84%|████████▍ | 420/500 [2:43:24<31:47, 23.85s/it]"
     ]
    },
    {
     "name": "stdout",
     "output_type": "stream",
     "text": [
      "[Errno 2] No such file or directory: 'C:\\\\Users\\\\Nick\\\\AppData\\\\Local\\\\Temp\\\\tmp6jhpx56zwandb-media\\\\m2l8j9z3.table.json'\n"
     ]
    },
    {
     "name": "stderr",
     "output_type": "stream",
     "text": [
      " 88%|████████▊ | 440/500 [2:51:19<23:16, 23.27s/it]"
     ]
    },
    {
     "name": "stdout",
     "output_type": "stream",
     "text": [
      "[Errno 2] No such file or directory: 'C:\\\\Users\\\\Nick\\\\AppData\\\\Local\\\\Temp\\\\tmp6jhpx56zwandb-media\\\\1kloe1kd.table.json'\n"
     ]
    },
    {
     "name": "stderr",
     "output_type": "stream",
     "text": [
      " 91%|█████████ | 456/500 [2:57:47<17:10, 23.41s/it]"
     ]
    }
   ],
   "source": [
    "wandb.agent('x9mz21wl', function=model_pipeline, count=100, project='NEW GRU-sweeps')"
   ]
  },
  {
   "attachments": {},
   "cell_type": "markdown",
   "metadata": {},
   "source": []
  },
  {
   "cell_type": "code",
   "execution_count": 25,
   "metadata": {},
   "outputs": [
    {
     "name": "stderr",
     "output_type": "stream",
     "text": [
      "Failed to detect the name of this notebook, you can set it manually with the WANDB_NOTEBOOK_NAME environment variable to enable code saving.\n"
     ]
    },
    {
     "name": "stdout",
     "output_type": "stream",
     "text": [
      "Create sweep with ID: ohses7v7\n",
      "Sweep URL: https://wandb.ai/nickojelly/NEW%20GRU-sweeps/sweeps/ohses7v7\n"
     ]
    },
    {
     "name": "stderr",
     "output_type": "stream",
     "text": [
      "\u001b[34m\u001b[1mwandb\u001b[0m: Agent Starting Run: ek2pxt8u with config:\n",
      "\u001b[34m\u001b[1mwandb\u001b[0m: \tbatch_days: 90\n",
      "\u001b[34m\u001b[1mwandb\u001b[0m: \tbatch_size: 10\n",
      "\u001b[34m\u001b[1mwandb\u001b[0m: \tdropout: 0.3\n",
      "\u001b[34m\u001b[1mwandb\u001b[0m: \tepochs: 500\n",
      "\u001b[34m\u001b[1mwandb\u001b[0m: \tf0_layer_size: 128\n",
      "\u001b[34m\u001b[1mwandb\u001b[0m: \tf1_layer_size: 64\n",
      "\u001b[34m\u001b[1mwandb\u001b[0m: \thidden_size: 128\n",
      "\u001b[34m\u001b[1mwandb\u001b[0m: \tinput_type: basic\n",
      "\u001b[34m\u001b[1mwandb\u001b[0m: \tlabel_smoothing: 0.01\n",
      "\u001b[34m\u001b[1mwandb\u001b[0m: \tlearning_rate: 0.0001\n",
      "\u001b[34m\u001b[1mwandb\u001b[0m: \tlen_data: 43651\n",
      "\u001b[34m\u001b[1mwandb\u001b[0m: \tloss: CEL\n",
      "\u001b[34m\u001b[1mwandb\u001b[0m: \tnum_layers: 2\n",
      "\u001b[34m\u001b[1mwandb\u001b[0m: \toptimizer: adamW\n",
      "\u001b[34m\u001b[1mwandb\u001b[0m: \traces: ['NSW']\n",
      "\u001b[34m\u001b[1mwandb\u001b[0m: \tstats: [['dist_last__1', 'box_last__1', 'speed_avg_1', 'split_speed_v1_1', 'split_speed_avg_1', 'split_margin_avg_1', 'margin_avg_1', 'RunHomeTime_1', 'run_home_speed_1', 'run_home_speed_v1_1', 'first_out_avg_1', 'pos_out_avg_1', 'post_change_avg_1', 'races_1', 'wins_1', 'wins_last_1', 'weight_', 'min_time_', 'min_split_time_', 'min_split_time_v1', 'last_start_price', 'last_start_prob']]\n",
      "\u001b[34m\u001b[1mwandb\u001b[0m: \tvalidation_split: 0.1\n",
      "Failed to detect the name of this notebook, you can set it manually with the WANDB_NOTEBOOK_NAME environment variable to enable code saving.\n",
      "\u001b[34m\u001b[1mwandb\u001b[0m: Currently logged in as: \u001b[33mnickojelly\u001b[0m. Use \u001b[1m`wandb login --relogin`\u001b[0m to force relogin\n",
      "\u001b[34m\u001b[1mwandb\u001b[0m: \u001b[33mWARNING\u001b[0m Ignored wandb.init() arg project when running a sweep.\n"
     ]
    },
    {
     "data": {
      "text/html": [
       "wandb version 0.15.4 is available!  To upgrade, please run:\n",
       " $ pip install wandb --upgrade"
      ],
      "text/plain": [
       "<IPython.core.display.HTML object>"
      ]
     },
     "metadata": {},
     "output_type": "display_data"
    },
    {
     "data": {
      "text/html": [
       "Tracking run with wandb version 0.15.0"
      ],
      "text/plain": [
       "<IPython.core.display.HTML object>"
      ]
     },
     "metadata": {},
     "output_type": "display_data"
    },
    {
     "data": {
      "text/html": [
       "Run data is saved locally in <code>C:\\Users\\Nick\\Documents\\GitHub\\grvmodel\\Python\\DATA\\wandb\\run-20230614_100810-ek2pxt8u</code>"
      ],
      "text/plain": [
       "<IPython.core.display.HTML object>"
      ]
     },
     "metadata": {},
     "output_type": "display_data"
    },
    {
     "data": {
      "text/html": [
       "Syncing run <strong><a href='https://wandb.ai/nickojelly/NEW%20GRU-sweeps/runs/ek2pxt8u' target=\"_blank\">driven-sweep-1</a></strong> to <a href='https://wandb.ai/nickojelly/NEW%20GRU-sweeps' target=\"_blank\">Weights & Biases</a> (<a href='https://wandb.me/run' target=\"_blank\">docs</a>)<br/>Sweep page: <a href='https://wandb.ai/nickojelly/NEW%20GRU-sweeps/sweeps/ohses7v7' target=\"_blank\">https://wandb.ai/nickojelly/NEW%20GRU-sweeps/sweeps/ohses7v7</a>"
      ],
      "text/plain": [
       "<IPython.core.display.HTML object>"
      ]
     },
     "metadata": {},
     "output_type": "display_data"
    },
    {
     "data": {
      "text/html": [
       " View project at <a href='https://wandb.ai/nickojelly/NEW%20GRU-sweeps' target=\"_blank\">https://wandb.ai/nickojelly/NEW%20GRU-sweeps</a>"
      ],
      "text/plain": [
       "<IPython.core.display.HTML object>"
      ]
     },
     "metadata": {},
     "output_type": "display_data"
    },
    {
     "data": {
      "text/html": [
       " View sweep at <a href='https://wandb.ai/nickojelly/NEW%20GRU-sweeps/sweeps/ohses7v7' target=\"_blank\">https://wandb.ai/nickojelly/NEW%20GRU-sweeps/sweeps/ohses7v7</a>"
      ],
      "text/plain": [
       "<IPython.core.display.HTML object>"
      ]
     },
     "metadata": {},
     "output_type": "display_data"
    },
    {
     "data": {
      "text/html": [
       " View run at <a href='https://wandb.ai/nickojelly/NEW%20GRU-sweeps/runs/ek2pxt8u' target=\"_blank\">https://wandb.ai/nickojelly/NEW%20GRU-sweeps/runs/ek2pxt8u</a>"
      ],
      "text/plain": [
       "<IPython.core.display.HTML object>"
      ]
     },
     "metadata": {},
     "output_type": "display_data"
    },
    {
     "name": "stdout",
     "output_type": "stream",
     "text": [
      "{'batch_days': 90, 'batch_size': 10, 'dropout': 0.3, 'epochs': 500, 'f0_layer_size': 128, 'f1_layer_size': 64, 'hidden_size': 128, 'input_type': 'basic', 'label_smoothing': 0.01, 'learning_rate': 0.0001, 'len_data': 43651, 'loss': 'CEL', 'num_layers': 2, 'optimizer': 'adamW', 'races': ['NSW'], 'stats': \"[['dist_last__1', 'box_last__1', 'speed_avg_1', 'split_speed_v1_1', 'split_speed_avg_1', 'split_margin_avg_1', 'margin_avg_1', 'RunHomeTime_1', 'run_home_speed_1', 'run_home_speed_v1_1', 'first_out_avg_1', 'pos_out_avg_1', 'post_change_avg_1', 'races_1', 'wins_1', 'wins_last_1', 'weight_', 'min_time_', 'min_split_time_', 'min_split_time_v1', 'last_start_price', 'last_start_prob']]\", 'validation_split': 0.1}\n",
      "500\n",
      "{'batch_days': 90, 'batch_size': 10, 'dropout': 0.3, 'epochs': 500, 'f0_layer_size': 128, 'f1_layer_size': 64, 'hidden_size': 128, 'input_type': 'basic', 'label_smoothing': 0.01, 'learning_rate': 0.0001, 'len_data': 43651, 'loss': 'CEL', 'num_layers': 2, 'optimizer': 'adamW', 'races': ['NSW'], 'stats': \"[['dist_last__1', 'box_last__1', 'speed_avg_1', 'split_speed_v1_1', 'split_speed_avg_1', 'split_margin_avg_1', 'margin_avg_1', 'RunHomeTime_1', 'run_home_speed_1', 'run_home_speed_v1_1', 'first_out_avg_1', 'pos_out_avg_1', 'post_change_avg_1', 'races_1', 'wins_1', 'wins_last_1', 'weight_', 'min_time_', 'min_split_time_', 'min_split_time_v1', 'last_start_price', 'last_start_prob']]\", 'validation_split': 0.1}\n",
      "basic\n",
      "here\n",
      "input_size=28\n",
      "GRUNetv3_BN(\n",
      "  (gru): GRU(28, 128, num_layers=2, dropout=0.3)\n",
      "  (relu0): ReLU()\n",
      "  (fc0): Linear(in_features=1094, out_features=1094, bias=True)\n",
      "  (layer_norm): BatchNorm1d(28, eps=1e-05, momentum=0.1, affine=True, track_running_stats=True)\n",
      "  (rl1): ReLU()\n",
      "  (drop1): Dropout(p=0.3, inplace=False)\n",
      "  (fc1): Linear(in_features=1094, out_features=128, bias=True)\n",
      "  (rl2): ReLU()\n",
      "  (drop2): Dropout(p=0.3, inplace=False)\n",
      "  (fc2): Linear(in_features=128, out_features=64, bias=True)\n",
      "  (rl3): ReLU()\n",
      "  (drop3): Dropout(p=0.3, inplace=False)\n",
      "  (fc3): Linear(in_features=64, out_features=8, bias=True)\n",
      "  (output_fn): Identity()\n",
      ")\n"
     ]
    },
    {
     "name": "stderr",
     "output_type": "stream",
     "text": [
      "  0%|          | 0/500 [00:00<?, ?it/s]"
     ]
    },
    {
     "name": "stdout",
     "output_type": "stream",
     "text": [
      "created path\n"
     ]
    },
    {
     "name": "stderr",
     "output_type": "stream",
     "text": [
      "100%|██████████| 500/500 [2:58:54<00:00, 21.47s/it]  \n"
     ]
    },
    {
     "data": {
      "text/html": [
       "Waiting for W&B process to finish... <strong style=\"color:green\">(success).</strong>"
      ],
      "text/plain": [
       "<IPython.core.display.HTML object>"
      ]
     },
     "metadata": {},
     "output_type": "display_data"
    },
    {
     "data": {
      "text/html": [
       "<style>\n",
       "    table.wandb td:nth-child(1) { padding: 0 10px; text-align: left ; width: auto;} td:nth-child(2) {text-align: left ; width: 100%}\n",
       "    .wandb-row { display: flex; flex-direction: row; flex-wrap: wrap; justify-content: flex-start; width: 100% }\n",
       "    .wandb-col { display: flex; flex-direction: column; flex-basis: 100%; flex: 1; padding: 10px; }\n",
       "    </style>\n",
       "<div class=\"wandb-row\"><div class=\"wandb-col\"><h3>Run history:</h3><br/><table class=\"wandb\"><tr><td>ROI < 30</td><td>▇▇██▇▄▄▄▃▃▁▁▂▂▂▁▂▂▂▂▂▂▂▂▂▂▂▂▂▂▂▁▃▃▄▄▃▄▄▄</td></tr><tr><td>ROI < 30 2</td><td>▇▇██▅▃▃▃▃▃▂▂▂▂▂▁▁▁▁▁▁▁▁▁▂▂▁▁▂▂▂▂▂▂▃▃▃▄▄▄</td></tr><tr><td>accuracy</td><td>▁▁▁▁▅▇▇█████████████████████████████▇▇▇▇</td></tr><tr><td>accuracy2</td><td>▁▁▅▇██████████████████▇▇▇</td></tr><tr><td>epoch</td><td>▁▁▁▂▂▂▂▂▂▃▃▃▃▃▃▄▄▄▄▄▅▅▅▅▅▅▆▆▆▆▆▇▇▇▇▇▇███</td></tr><tr><td>flat_simple</td><td>▂▂▂▂▅▅▅█▇▇▄▄▃▄▄▃▂▂▂▂▂▃▃▂▂▂▂▂▁▂▂▂▂▂▄▄▄▅▅▅</td></tr><tr><td>loss_1</td><td>███▇▆▆▅▅▅▅▅▅▅▅▅▄▅▅▄▄▄▄▄▄▃▄▄▄▄▃▄▄▄▂▂▄▃▃▁▁</td></tr><tr><td>loss_val</td><td>████▅▃▃▂▂▂▁▁▁▁▁▁▁▁▁▁▁▁▁▁▁▁▁▁▁▁▁▁▁▁▁▁▂▂▂▂</td></tr><tr><td>multibet outlay < 30</td><td>▁▁▁▁▂▂▂▂▂▂▂▂▂▃▃▃▃▃▃▃▃▃▃▄▄▄▄▄▅▅▅▅▆▆▆▆▇▇▇█</td></tr><tr><td>multibet profit</td><td>▁▁▁▁▄▆▆▇▇▇▇▇▇▇▇▇▇▇▇▇▇▇▇█████████████████</td></tr><tr><td>multibet profit < 30</td><td>▇▇██▇▄▄▄▃▃▁▁▂▃▃▂▂▂▂▂▂▂▂▂▂▂▂▂▂▂▂▁▃▃▄▄▄▅▅▅</td></tr><tr><td>multibet profit < 30 sd</td><td>▃▃▃▃▃▂▂▁▁▁▁▁▁▁▁▁▁▁▁▁▂▂▂▂▂▂▃▃▃▃▃▄▅▅▅▅▆▇▇█</td></tr><tr><td>profit_relu</td><td>▁▁▅▅▅▄▄▅▅▅▅▅▅▆▆▆▆▆▆▆▇▇▇▇▇▇▇▇▇▇▇▇████████</td></tr><tr><td>relu roi</td><td>▁▁▂▂▅▅▅▆▆▆▆▆▆▇▇▇▇▇▇▇▇▇▇█▇▇▇▇███▇████████</td></tr></table><br/></div><div class=\"wandb-col\"><h3>Run summary:</h3><br/><table class=\"wandb\"><tr><td>ROI < 30 2</td><td>-0.02118</td></tr><tr><td>accuracy2</td><td>0.33601</td></tr><tr><td>epoch</td><td>499</td></tr><tr><td>flat_simple</td><td>-474.32293</td></tr><tr><td>loss_1</td><td>1.17633</td></tr><tr><td>multibet outlay < 30</td><td>185765.64897</td></tr><tr><td>multibet profit</td><td>-2827.56689</td></tr><tr><td>multibet profit < 30</td><td>1272.32258</td></tr><tr><td>multibet profit < 30 sd</td><td>17.78687</td></tr><tr><td>profit_relu</td><td>217.8588</td></tr></table><br/></div></div>"
      ],
      "text/plain": [
       "<IPython.core.display.HTML object>"
      ]
     },
     "metadata": {},
     "output_type": "display_data"
    },
    {
     "data": {
      "text/html": [
       " View run <strong style=\"color:#cdcd00\">driven-sweep-1</strong> at: <a href='https://wandb.ai/nickojelly/NEW%20GRU-sweeps/runs/ek2pxt8u' target=\"_blank\">https://wandb.ai/nickojelly/NEW%20GRU-sweeps/runs/ek2pxt8u</a><br/>Synced 6 W&B file(s), 75 media file(s), 75 artifact file(s) and 1 other file(s)"
      ],
      "text/plain": [
       "<IPython.core.display.HTML object>"
      ]
     },
     "metadata": {},
     "output_type": "display_data"
    },
    {
     "data": {
      "text/html": [
       "Find logs at: <code>.\\wandb\\run-20230614_100810-ek2pxt8u\\logs</code>"
      ],
      "text/plain": [
       "<IPython.core.display.HTML object>"
      ]
     },
     "metadata": {},
     "output_type": "display_data"
    },
    {
     "name": "stderr",
     "output_type": "stream",
     "text": [
      "\u001b[34m\u001b[1mwandb\u001b[0m: Sweep Agent: Waiting for job.\n",
      "\u001b[34m\u001b[1mwandb\u001b[0m: Job received.\n",
      "\u001b[34m\u001b[1mwandb\u001b[0m: Agent Starting Run: bpdd0zua with config:\n",
      "\u001b[34m\u001b[1mwandb\u001b[0m: \tbatch_days: 90\n",
      "\u001b[34m\u001b[1mwandb\u001b[0m: \tbatch_size: 10\n",
      "\u001b[34m\u001b[1mwandb\u001b[0m: \tdropout: 0.3\n",
      "\u001b[34m\u001b[1mwandb\u001b[0m: \tepochs: 500\n",
      "\u001b[34m\u001b[1mwandb\u001b[0m: \tf0_layer_size: 128\n",
      "\u001b[34m\u001b[1mwandb\u001b[0m: \tf1_layer_size: 64\n",
      "\u001b[34m\u001b[1mwandb\u001b[0m: \thidden_size: 128\n",
      "\u001b[34m\u001b[1mwandb\u001b[0m: \tinput_type: basic\n",
      "\u001b[34m\u001b[1mwandb\u001b[0m: \tlabel_smoothing: 0.01\n",
      "\u001b[34m\u001b[1mwandb\u001b[0m: \tlearning_rate: 0.008\n",
      "\u001b[34m\u001b[1mwandb\u001b[0m: \tlen_data: 43651\n",
      "\u001b[34m\u001b[1mwandb\u001b[0m: \tloss: CEL\n",
      "\u001b[34m\u001b[1mwandb\u001b[0m: \tnum_layers: 2\n",
      "\u001b[34m\u001b[1mwandb\u001b[0m: \toptimizer: adamW\n",
      "\u001b[34m\u001b[1mwandb\u001b[0m: \traces: ['NSW']\n",
      "\u001b[34m\u001b[1mwandb\u001b[0m: \tstats: [['dist_last__1', 'box_last__1', 'speed_avg_1', 'split_speed_v1_1', 'split_speed_avg_1', 'split_margin_avg_1', 'margin_avg_1', 'RunHomeTime_1', 'run_home_speed_1', 'run_home_speed_v1_1', 'first_out_avg_1', 'pos_out_avg_1', 'post_change_avg_1', 'races_1', 'wins_1', 'wins_last_1', 'weight_', 'min_time_', 'min_split_time_', 'min_split_time_v1', 'last_start_price', 'last_start_prob']]\n",
      "\u001b[34m\u001b[1mwandb\u001b[0m: \tvalidation_split: 0.1\n",
      "Failed to detect the name of this notebook, you can set it manually with the WANDB_NOTEBOOK_NAME environment variable to enable code saving.\n",
      "\u001b[34m\u001b[1mwandb\u001b[0m: \u001b[33mWARNING\u001b[0m Ignored wandb.init() arg project when running a sweep.\n"
     ]
    },
    {
     "data": {
      "text/html": [
       "wandb version 0.15.4 is available!  To upgrade, please run:\n",
       " $ pip install wandb --upgrade"
      ],
      "text/plain": [
       "<IPython.core.display.HTML object>"
      ]
     },
     "metadata": {},
     "output_type": "display_data"
    },
    {
     "data": {
      "text/html": [
       "Tracking run with wandb version 0.15.0"
      ],
      "text/plain": [
       "<IPython.core.display.HTML object>"
      ]
     },
     "metadata": {},
     "output_type": "display_data"
    },
    {
     "data": {
      "text/html": [
       "Run data is saved locally in <code>C:\\Users\\Nick\\Documents\\GitHub\\grvmodel\\Python\\DATA\\wandb\\run-20230614_130738-bpdd0zua</code>"
      ],
      "text/plain": [
       "<IPython.core.display.HTML object>"
      ]
     },
     "metadata": {},
     "output_type": "display_data"
    },
    {
     "data": {
      "text/html": [
       "Syncing run <strong><a href='https://wandb.ai/nickojelly/NEW%20GRU-sweeps/runs/bpdd0zua' target=\"_blank\">balmy-sweep-2</a></strong> to <a href='https://wandb.ai/nickojelly/NEW%20GRU-sweeps' target=\"_blank\">Weights & Biases</a> (<a href='https://wandb.me/run' target=\"_blank\">docs</a>)<br/>Sweep page: <a href='https://wandb.ai/nickojelly/NEW%20GRU-sweeps/sweeps/ohses7v7' target=\"_blank\">https://wandb.ai/nickojelly/NEW%20GRU-sweeps/sweeps/ohses7v7</a>"
      ],
      "text/plain": [
       "<IPython.core.display.HTML object>"
      ]
     },
     "metadata": {},
     "output_type": "display_data"
    },
    {
     "data": {
      "text/html": [
       " View project at <a href='https://wandb.ai/nickojelly/NEW%20GRU-sweeps' target=\"_blank\">https://wandb.ai/nickojelly/NEW%20GRU-sweeps</a>"
      ],
      "text/plain": [
       "<IPython.core.display.HTML object>"
      ]
     },
     "metadata": {},
     "output_type": "display_data"
    },
    {
     "data": {
      "text/html": [
       " View sweep at <a href='https://wandb.ai/nickojelly/NEW%20GRU-sweeps/sweeps/ohses7v7' target=\"_blank\">https://wandb.ai/nickojelly/NEW%20GRU-sweeps/sweeps/ohses7v7</a>"
      ],
      "text/plain": [
       "<IPython.core.display.HTML object>"
      ]
     },
     "metadata": {},
     "output_type": "display_data"
    },
    {
     "data": {
      "text/html": [
       " View run at <a href='https://wandb.ai/nickojelly/NEW%20GRU-sweeps/runs/bpdd0zua' target=\"_blank\">https://wandb.ai/nickojelly/NEW%20GRU-sweeps/runs/bpdd0zua</a>"
      ],
      "text/plain": [
       "<IPython.core.display.HTML object>"
      ]
     },
     "metadata": {},
     "output_type": "display_data"
    },
    {
     "name": "stdout",
     "output_type": "stream",
     "text": [
      "{'batch_days': 90, 'batch_size': 10, 'dropout': 0.3, 'epochs': 500, 'f0_layer_size': 128, 'f1_layer_size': 64, 'hidden_size': 128, 'input_type': 'basic', 'label_smoothing': 0.01, 'learning_rate': 0.008, 'len_data': 43651, 'loss': 'CEL', 'num_layers': 2, 'optimizer': 'adamW', 'races': ['NSW'], 'stats': \"[['dist_last__1', 'box_last__1', 'speed_avg_1', 'split_speed_v1_1', 'split_speed_avg_1', 'split_margin_avg_1', 'margin_avg_1', 'RunHomeTime_1', 'run_home_speed_1', 'run_home_speed_v1_1', 'first_out_avg_1', 'pos_out_avg_1', 'post_change_avg_1', 'races_1', 'wins_1', 'wins_last_1', 'weight_', 'min_time_', 'min_split_time_', 'min_split_time_v1', 'last_start_price', 'last_start_prob']]\", 'validation_split': 0.1}\n",
      "500\n",
      "{'batch_days': 90, 'batch_size': 10, 'dropout': 0.3, 'epochs': 500, 'f0_layer_size': 128, 'f1_layer_size': 64, 'hidden_size': 128, 'input_type': 'basic', 'label_smoothing': 0.01, 'learning_rate': 0.008, 'len_data': 43651, 'loss': 'CEL', 'num_layers': 2, 'optimizer': 'adamW', 'races': ['NSW'], 'stats': \"[['dist_last__1', 'box_last__1', 'speed_avg_1', 'split_speed_v1_1', 'split_speed_avg_1', 'split_margin_avg_1', 'margin_avg_1', 'RunHomeTime_1', 'run_home_speed_1', 'run_home_speed_v1_1', 'first_out_avg_1', 'pos_out_avg_1', 'post_change_avg_1', 'races_1', 'wins_1', 'wins_last_1', 'weight_', 'min_time_', 'min_split_time_', 'min_split_time_v1', 'last_start_price', 'last_start_prob']]\", 'validation_split': 0.1}\n",
      "basic\n",
      "here\n",
      "input_size=28\n",
      "GRUNetv3_BN(\n",
      "  (gru): GRU(28, 128, num_layers=2, dropout=0.3)\n",
      "  (relu0): ReLU()\n",
      "  (fc0): Linear(in_features=1094, out_features=1094, bias=True)\n",
      "  (layer_norm): BatchNorm1d(28, eps=1e-05, momentum=0.1, affine=True, track_running_stats=True)\n",
      "  (rl1): ReLU()\n",
      "  (drop1): Dropout(p=0.3, inplace=False)\n",
      "  (fc1): Linear(in_features=1094, out_features=128, bias=True)\n",
      "  (rl2): ReLU()\n",
      "  (drop2): Dropout(p=0.3, inplace=False)\n",
      "  (fc2): Linear(in_features=128, out_features=64, bias=True)\n",
      "  (rl3): ReLU()\n",
      "  (drop3): Dropout(p=0.3, inplace=False)\n",
      "  (fc3): Linear(in_features=64, out_features=8, bias=True)\n",
      "  (output_fn): Identity()\n",
      ")\n"
     ]
    },
    {
     "name": "stderr",
     "output_type": "stream",
     "text": [
      "100%|██████████| 500/500 [2:58:17<00:00, 21.40s/it]  \n"
     ]
    },
    {
     "data": {
      "text/html": [
       "Waiting for W&B process to finish... <strong style=\"color:green\">(success).</strong>"
      ],
      "text/plain": [
       "<IPython.core.display.HTML object>"
      ]
     },
     "metadata": {},
     "output_type": "display_data"
    },
    {
     "data": {
      "text/html": [
       "<style>\n",
       "    table.wandb td:nth-child(1) { padding: 0 10px; text-align: left ; width: auto;} td:nth-child(2) {text-align: left ; width: 100%}\n",
       "    .wandb-row { display: flex; flex-direction: row; flex-wrap: wrap; justify-content: flex-start; width: 100% }\n",
       "    .wandb-col { display: flex; flex-direction: column; flex-basis: 100%; flex: 1; padding: 10px; }\n",
       "    </style>\n",
       "<div class=\"wandb-row\"><div class=\"wandb-col\"><h3>Run history:</h3><br/><table class=\"wandb\"><tr><td>ROI < 30</td><td>▄▄▃▃▅▂▂▃▃▃▇▇▃▃▃█▅▅▆▆▅▇▇▄▂▂▁▁▁▃▃▁▄▄▃▃▃▆▆▅</td></tr><tr><td>ROI < 30 2</td><td>▇▇▄▄▅▃▃▃▃▃▅▅▃▁▁█▄▄▆▆▆▇▇▃▃▃▁▁▁▂▂▁▄▄▃▃▄▆▆▄</td></tr><tr><td>accuracy</td><td>▁▁▆▆████▇▇▇▇▇▇▇████████████████▇▇▇▇▇█▇▇▇</td></tr><tr><td>accuracy2</td><td>▁▆███▇▇▇▇██████████▇▇▇█▇▇</td></tr><tr><td>epoch</td><td>▁▁▁▂▂▂▂▂▂▃▃▃▃▃▃▄▄▄▄▄▅▅▅▅▅▅▆▆▆▆▆▇▇▇▇▇▇███</td></tr><tr><td>flat_simple</td><td>▄▄▅▅▄▄▄▅▃▃▄▄▄▃▃▅▄▄▆▆███▆▆▆▅▅▅▄▄▄▆▆▁▁▅▆▆▆</td></tr><tr><td>loss_1</td><td>█▆▆▅▄▂▂▄▃▃▁▃▃▃▃▂▄▄▃▂▂▄▄▄▂▄▄▄▅▄▅▅▅▄▄▅▅▅▄▄</td></tr><tr><td>loss_val</td><td>██▄▄▁▁▁▁▂▂▂▂▂▂▂▁▁▁▁▁▁▁▁▁▁▁▁▁▁▁▁▁▁▁▁▁▁▁▁▁</td></tr><tr><td>multibet outlay < 30</td><td>▁▁▃▃▂▄▄▆██▇▇▇▆▆▇▆▆▆▆▄▅▅▅▅▅▅▅▄▄▄▄▅▅▅▅▄▄▄▅</td></tr><tr><td>multibet profit</td><td>▁▁▃▃▆▅▅▆▇▇▆▆▆▇▇█▇▇▆▆▇▇▇▆▅▅▆▆▅▆▆▅▅▅▅▅▅▆▆▅</td></tr><tr><td>multibet profit < 30</td><td>▃▃▃▃▄▂▂▃▃▃▇▇▃▃▃█▅▅▆▆▄▆▆▄▂▂▁▁▁▃▃▁▄▄▃▃▃▅▅▄</td></tr><tr><td>multibet profit < 30 sd</td><td>▁▁▄▄▁▃▃▅▇▇██▆▆▆▇▅▅▅▅▃▄▄▄▄▄▄▄▂▃▃▄▄▄▄▄▄▄▄▅</td></tr><tr><td>profit_relu</td><td>▇▇▅▅▆▅▅▅▆▆▆▆▅▇▇█▇▇▅▅▆▆▆▅▂▂▃▃▁▄▄▂▃▃▄▄▁▅▅▃</td></tr><tr><td>relu roi</td><td>▁▁▄▄▆▆▆▆▇▇▇▇▆███▇▇▆▆▇▇▇▆▅▅▆▆▄▆▆▅▆▆▆▆▅▇▇▆</td></tr></table><br/></div><div class=\"wandb-col\"><h3>Run summary:</h3><br/><table class=\"wandb\"><tr><td>ROI < 30 2</td><td>0.01046</td></tr><tr><td>accuracy2</td><td>0.31476</td></tr><tr><td>epoch</td><td>499</td></tr><tr><td>flat_simple</td><td>-192.26299</td></tr><tr><td>loss_1</td><td>1.56069</td></tr><tr><td>multibet outlay < 30</td><td>148209.79053</td></tr><tr><td>multibet profit</td><td>-17767.51672</td></tr><tr><td>multibet profit < 30</td><td>5724.6644</td></tr><tr><td>multibet profit < 30 sd</td><td>16.54724</td></tr><tr><td>profit_relu</td><td>-5125.12776</td></tr></table><br/></div></div>"
      ],
      "text/plain": [
       "<IPython.core.display.HTML object>"
      ]
     },
     "metadata": {},
     "output_type": "display_data"
    },
    {
     "data": {
      "text/html": [
       " View run <strong style=\"color:#cdcd00\">balmy-sweep-2</strong> at: <a href='https://wandb.ai/nickojelly/NEW%20GRU-sweeps/runs/bpdd0zua' target=\"_blank\">https://wandb.ai/nickojelly/NEW%20GRU-sweeps/runs/bpdd0zua</a><br/>Synced 6 W&B file(s), 75 media file(s), 75 artifact file(s) and 1 other file(s)"
      ],
      "text/plain": [
       "<IPython.core.display.HTML object>"
      ]
     },
     "metadata": {},
     "output_type": "display_data"
    },
    {
     "data": {
      "text/html": [
       "Find logs at: <code>.\\wandb\\run-20230614_130738-bpdd0zua\\logs</code>"
      ],
      "text/plain": [
       "<IPython.core.display.HTML object>"
      ]
     },
     "metadata": {},
     "output_type": "display_data"
    },
    {
     "name": "stderr",
     "output_type": "stream",
     "text": [
      "\u001b[34m\u001b[1mwandb\u001b[0m: Sweep Agent: Waiting for job.\n",
      "\u001b[34m\u001b[1mwandb\u001b[0m: Job received.\n",
      "\u001b[34m\u001b[1mwandb\u001b[0m: Agent Starting Run: z07prs40 with config:\n",
      "\u001b[34m\u001b[1mwandb\u001b[0m: \tbatch_days: 90\n",
      "\u001b[34m\u001b[1mwandb\u001b[0m: \tbatch_size: 10\n",
      "\u001b[34m\u001b[1mwandb\u001b[0m: \tdropout: 0.3\n",
      "\u001b[34m\u001b[1mwandb\u001b[0m: \tepochs: 500\n",
      "\u001b[34m\u001b[1mwandb\u001b[0m: \tf0_layer_size: 128\n",
      "\u001b[34m\u001b[1mwandb\u001b[0m: \tf1_layer_size: 64\n",
      "\u001b[34m\u001b[1mwandb\u001b[0m: \thidden_size: 128\n",
      "\u001b[34m\u001b[1mwandb\u001b[0m: \tinput_type: basic\n",
      "\u001b[34m\u001b[1mwandb\u001b[0m: \tlabel_smoothing: 0.01\n",
      "\u001b[34m\u001b[1mwandb\u001b[0m: \tlearning_rate: 0.02\n",
      "\u001b[34m\u001b[1mwandb\u001b[0m: \tlen_data: 43651\n",
      "\u001b[34m\u001b[1mwandb\u001b[0m: \tloss: CEL\n",
      "\u001b[34m\u001b[1mwandb\u001b[0m: \tnum_layers: 2\n",
      "\u001b[34m\u001b[1mwandb\u001b[0m: \toptimizer: adamW\n",
      "\u001b[34m\u001b[1mwandb\u001b[0m: \traces: ['NSW']\n",
      "\u001b[34m\u001b[1mwandb\u001b[0m: \tstats: [['dist_last__1', 'box_last__1', 'speed_avg_1', 'split_speed_v1_1', 'split_speed_avg_1', 'split_margin_avg_1', 'margin_avg_1', 'RunHomeTime_1', 'run_home_speed_1', 'run_home_speed_v1_1', 'first_out_avg_1', 'pos_out_avg_1', 'post_change_avg_1', 'races_1', 'wins_1', 'wins_last_1', 'weight_', 'min_time_', 'min_split_time_', 'min_split_time_v1', 'last_start_price', 'last_start_prob']]\n",
      "\u001b[34m\u001b[1mwandb\u001b[0m: \tvalidation_split: 0.1\n",
      "Failed to detect the name of this notebook, you can set it manually with the WANDB_NOTEBOOK_NAME environment variable to enable code saving.\n",
      "\u001b[34m\u001b[1mwandb\u001b[0m: \u001b[33mWARNING\u001b[0m Ignored wandb.init() arg project when running a sweep.\n"
     ]
    },
    {
     "data": {
      "text/html": [
       "wandb version 0.15.4 is available!  To upgrade, please run:\n",
       " $ pip install wandb --upgrade"
      ],
      "text/plain": [
       "<IPython.core.display.HTML object>"
      ]
     },
     "metadata": {},
     "output_type": "display_data"
    },
    {
     "data": {
      "text/html": [
       "Tracking run with wandb version 0.15.0"
      ],
      "text/plain": [
       "<IPython.core.display.HTML object>"
      ]
     },
     "metadata": {},
     "output_type": "display_data"
    },
    {
     "data": {
      "text/html": [
       "Run data is saved locally in <code>C:\\Users\\Nick\\Documents\\GitHub\\grvmodel\\Python\\DATA\\wandb\\run-20230614_160627-z07prs40</code>"
      ],
      "text/plain": [
       "<IPython.core.display.HTML object>"
      ]
     },
     "metadata": {},
     "output_type": "display_data"
    },
    {
     "data": {
      "text/html": [
       "Syncing run <strong><a href='https://wandb.ai/nickojelly/NEW%20GRU-sweeps/runs/z07prs40' target=\"_blank\">likely-sweep-3</a></strong> to <a href='https://wandb.ai/nickojelly/NEW%20GRU-sweeps' target=\"_blank\">Weights & Biases</a> (<a href='https://wandb.me/run' target=\"_blank\">docs</a>)<br/>Sweep page: <a href='https://wandb.ai/nickojelly/NEW%20GRU-sweeps/sweeps/ohses7v7' target=\"_blank\">https://wandb.ai/nickojelly/NEW%20GRU-sweeps/sweeps/ohses7v7</a>"
      ],
      "text/plain": [
       "<IPython.core.display.HTML object>"
      ]
     },
     "metadata": {},
     "output_type": "display_data"
    },
    {
     "data": {
      "text/html": [
       " View project at <a href='https://wandb.ai/nickojelly/NEW%20GRU-sweeps' target=\"_blank\">https://wandb.ai/nickojelly/NEW%20GRU-sweeps</a>"
      ],
      "text/plain": [
       "<IPython.core.display.HTML object>"
      ]
     },
     "metadata": {},
     "output_type": "display_data"
    },
    {
     "data": {
      "text/html": [
       " View sweep at <a href='https://wandb.ai/nickojelly/NEW%20GRU-sweeps/sweeps/ohses7v7' target=\"_blank\">https://wandb.ai/nickojelly/NEW%20GRU-sweeps/sweeps/ohses7v7</a>"
      ],
      "text/plain": [
       "<IPython.core.display.HTML object>"
      ]
     },
     "metadata": {},
     "output_type": "display_data"
    },
    {
     "data": {
      "text/html": [
       " View run at <a href='https://wandb.ai/nickojelly/NEW%20GRU-sweeps/runs/z07prs40' target=\"_blank\">https://wandb.ai/nickojelly/NEW%20GRU-sweeps/runs/z07prs40</a>"
      ],
      "text/plain": [
       "<IPython.core.display.HTML object>"
      ]
     },
     "metadata": {},
     "output_type": "display_data"
    },
    {
     "name": "stdout",
     "output_type": "stream",
     "text": [
      "{'batch_days': 90, 'batch_size': 10, 'dropout': 0.3, 'epochs': 500, 'f0_layer_size': 128, 'f1_layer_size': 64, 'hidden_size': 128, 'input_type': 'basic', 'label_smoothing': 0.01, 'learning_rate': 0.02, 'len_data': 43651, 'loss': 'CEL', 'num_layers': 2, 'optimizer': 'adamW', 'races': ['NSW'], 'stats': \"[['dist_last__1', 'box_last__1', 'speed_avg_1', 'split_speed_v1_1', 'split_speed_avg_1', 'split_margin_avg_1', 'margin_avg_1', 'RunHomeTime_1', 'run_home_speed_1', 'run_home_speed_v1_1', 'first_out_avg_1', 'pos_out_avg_1', 'post_change_avg_1', 'races_1', 'wins_1', 'wins_last_1', 'weight_', 'min_time_', 'min_split_time_', 'min_split_time_v1', 'last_start_price', 'last_start_prob']]\", 'validation_split': 0.1}\n",
      "500\n",
      "{'batch_days': 90, 'batch_size': 10, 'dropout': 0.3, 'epochs': 500, 'f0_layer_size': 128, 'f1_layer_size': 64, 'hidden_size': 128, 'input_type': 'basic', 'label_smoothing': 0.01, 'learning_rate': 0.02, 'len_data': 43651, 'loss': 'CEL', 'num_layers': 2, 'optimizer': 'adamW', 'races': ['NSW'], 'stats': \"[['dist_last__1', 'box_last__1', 'speed_avg_1', 'split_speed_v1_1', 'split_speed_avg_1', 'split_margin_avg_1', 'margin_avg_1', 'RunHomeTime_1', 'run_home_speed_1', 'run_home_speed_v1_1', 'first_out_avg_1', 'pos_out_avg_1', 'post_change_avg_1', 'races_1', 'wins_1', 'wins_last_1', 'weight_', 'min_time_', 'min_split_time_', 'min_split_time_v1', 'last_start_price', 'last_start_prob']]\", 'validation_split': 0.1}\n",
      "basic\n",
      "here\n",
      "input_size=28\n",
      "GRUNetv3_BN(\n",
      "  (gru): GRU(28, 128, num_layers=2, dropout=0.3)\n",
      "  (relu0): ReLU()\n",
      "  (fc0): Linear(in_features=1094, out_features=1094, bias=True)\n",
      "  (layer_norm): BatchNorm1d(28, eps=1e-05, momentum=0.1, affine=True, track_running_stats=True)\n",
      "  (rl1): ReLU()\n",
      "  (drop1): Dropout(p=0.3, inplace=False)\n",
      "  (fc1): Linear(in_features=1094, out_features=128, bias=True)\n",
      "  (rl2): ReLU()\n",
      "  (drop2): Dropout(p=0.3, inplace=False)\n",
      "  (fc2): Linear(in_features=128, out_features=64, bias=True)\n",
      "  (rl3): ReLU()\n",
      "  (drop3): Dropout(p=0.3, inplace=False)\n",
      "  (fc3): Linear(in_features=64, out_features=8, bias=True)\n",
      "  (output_fn): Identity()\n",
      ")\n"
     ]
    },
    {
     "name": "stderr",
     "output_type": "stream",
     "text": [
      "  0%|          | 0/500 [00:00<?, ?it/s]"
     ]
    },
    {
     "name": "stdout",
     "output_type": "stream",
     "text": [
      "created path\n"
     ]
    },
    {
     "name": "stderr",
     "output_type": "stream",
     "text": [
      "100%|██████████| 500/500 [2:58:06<00:00, 21.37s/it]  \n"
     ]
    },
    {
     "data": {
      "text/html": [
       "Waiting for W&B process to finish... <strong style=\"color:green\">(success).</strong>"
      ],
      "text/plain": [
       "<IPython.core.display.HTML object>"
      ]
     },
     "metadata": {},
     "output_type": "display_data"
    },
    {
     "data": {
      "text/html": [
       "<style>\n",
       "    table.wandb td:nth-child(1) { padding: 0 10px; text-align: left ; width: auto;} td:nth-child(2) {text-align: left ; width: 100%}\n",
       "    .wandb-row { display: flex; flex-direction: row; flex-wrap: wrap; justify-content: flex-start; width: 100% }\n",
       "    .wandb-col { display: flex; flex-direction: column; flex-basis: 100%; flex: 1; padding: 10px; }\n",
       "    </style>\n",
       "<div class=\"wandb-row\"><div class=\"wandb-col\"><h3>Run history:</h3><br/><table class=\"wandb\"><tr><td>ROI < 30</td><td>██▄▄▃▁▁▂▄▄▄▄▃▃▃▁▅▅▅▅▅▆▆▅██▆▆▄▄▄▅▂▂▄▄▃▁▁▃</td></tr><tr><td>ROI < 30 2</td><td>██▄▄▂▂▂▁▂▂▃▃▁▂▂▂▄▄▃▃▃▄▄▃▅▅▄▄▃▃▃▃▂▂▃▃▂▁▁▂</td></tr><tr><td>accuracy</td><td>▁▁▆▆▇▇▇████████▆▆▆▆▆▆▆▆▆▆▆▆▆▆▆▆██████▆▆█</td></tr><tr><td>accuracy2</td><td>▁▆▇▇█████▆▆▆▆▆▆▆▆▆▆████▆█</td></tr><tr><td>epoch</td><td>▁▁▁▂▂▂▂▂▂▃▃▃▃▃▃▄▄▄▄▄▅▅▅▅▅▅▆▆▆▆▆▇▇▇▇▇▇███</td></tr><tr><td>flat_simple</td><td>▇▇▇▇▃▄▄▁▃▃▁▁▂▆▆▇▇▇▇▇▇▇▇▇▇▇▇▇▇▇▇█▁▁▂▂▂▆▆▅</td></tr><tr><td>loss_1</td><td>█▆▇▃▂▁▂▃▃▃▂▃▄▃▆▅▆▅▄▄▄▅▄▄▄▄▅▄▄▃▅▄▃▃▃▅▃▃▃▃</td></tr><tr><td>loss_val</td><td>▇▇▃▃▁▁▁▁▁▁▁▁▁▁▁█▃▃▂▂▂▂▂▂▁▁▁▁▁▁▁▁▁▁▁▁▁▁▁▁</td></tr><tr><td>multibet outlay < 30</td><td>▁▁▃▃▆▇▇▆▅▅▆▆▆▆▆█▅▅▄▄▅▆▆▅▆▆▅▅▆▆▆▅▆▆▆▆▆▆▆▆</td></tr><tr><td>multibet profit</td><td>▅▅██▇▆▆▄▅▅▄▄▄▄▄▃▆▆▆▆▅▆▆▄▅▅▄▄▄▃▃▄▅▅▅▅▄▁▁▄</td></tr><tr><td>multibet profit < 30</td><td>▇▇▄▄▃▁▁▂▄▄▄▄▃▃▃▂▅▅▄▄▅▆▆▅██▆▆▄▄▄▅▂▂▄▄▃▁▁▃</td></tr><tr><td>multibet profit < 30 sd</td><td>▁▁▃▃▄▅▅▅▄▄▄▄▅▅▅█▄▄▄▄▅▅▅▅▅▅▅▅▅▅▅▄▄▄▅▅▅▅▅▄</td></tr><tr><td>profit_relu</td><td>████▇▅▅▅▇▇▆▆▇▆▆▁█████▇▇▇██▇▇███▇▇▇██▅▆▆▆</td></tr><tr><td>relu roi</td><td>▁▁▄▄▅▂▂▂▄▄▃▃▆▄▄▂▅▅▇▇█▇▇▆▇▇▇▇▇▇▇▆▆▆▇▇▃▆▆▄</td></tr></table><br/></div><div class=\"wandb-col\"><h3>Run summary:</h3><br/><table class=\"wandb\"><tr><td>ROI < 30 2</td><td>-0.00464</td></tr><tr><td>accuracy2</td><td>0.20216</td></tr><tr><td>epoch</td><td>499</td></tr><tr><td>flat_simple</td><td>-816.83798</td></tr><tr><td>loss_1</td><td>1.75826</td></tr><tr><td>multibet outlay < 30</td><td>141307.71434</td></tr><tr><td>multibet profit</td><td>-39165.9484</td></tr><tr><td>multibet profit < 30</td><td>2875.51317</td></tr><tr><td>multibet profit < 30 sd</td><td>16.41868</td></tr><tr><td>profit_relu</td><td>-1290.23384</td></tr></table><br/></div></div>"
      ],
      "text/plain": [
       "<IPython.core.display.HTML object>"
      ]
     },
     "metadata": {},
     "output_type": "display_data"
    },
    {
     "data": {
      "text/html": [
       " View run <strong style=\"color:#cdcd00\">likely-sweep-3</strong> at: <a href='https://wandb.ai/nickojelly/NEW%20GRU-sweeps/runs/z07prs40' target=\"_blank\">https://wandb.ai/nickojelly/NEW%20GRU-sweeps/runs/z07prs40</a><br/>Synced 6 W&B file(s), 75 media file(s), 75 artifact file(s) and 1 other file(s)"
      ],
      "text/plain": [
       "<IPython.core.display.HTML object>"
      ]
     },
     "metadata": {},
     "output_type": "display_data"
    },
    {
     "data": {
      "text/html": [
       "Find logs at: <code>.\\wandb\\run-20230614_160627-z07prs40\\logs</code>"
      ],
      "text/plain": [
       "<IPython.core.display.HTML object>"
      ]
     },
     "metadata": {},
     "output_type": "display_data"
    },
    {
     "name": "stderr",
     "output_type": "stream",
     "text": [
      "\u001b[34m\u001b[1mwandb\u001b[0m: Agent Starting Run: a58t4set with config:\n",
      "\u001b[34m\u001b[1mwandb\u001b[0m: \tbatch_days: 90\n",
      "\u001b[34m\u001b[1mwandb\u001b[0m: \tbatch_size: 10\n",
      "\u001b[34m\u001b[1mwandb\u001b[0m: \tdropout: 0.3\n",
      "\u001b[34m\u001b[1mwandb\u001b[0m: \tepochs: 500\n",
      "\u001b[34m\u001b[1mwandb\u001b[0m: \tf0_layer_size: 128\n",
      "\u001b[34m\u001b[1mwandb\u001b[0m: \tf1_layer_size: 64\n",
      "\u001b[34m\u001b[1mwandb\u001b[0m: \thidden_size: 128\n",
      "\u001b[34m\u001b[1mwandb\u001b[0m: \tinput_type: basic\n",
      "\u001b[34m\u001b[1mwandb\u001b[0m: \tlabel_smoothing: 0\n",
      "\u001b[34m\u001b[1mwandb\u001b[0m: \tlearning_rate: 0.0001\n",
      "\u001b[34m\u001b[1mwandb\u001b[0m: \tlen_data: 43651\n",
      "\u001b[34m\u001b[1mwandb\u001b[0m: \tloss: CEL\n",
      "\u001b[34m\u001b[1mwandb\u001b[0m: \tnum_layers: 2\n",
      "\u001b[34m\u001b[1mwandb\u001b[0m: \toptimizer: adamW\n",
      "\u001b[34m\u001b[1mwandb\u001b[0m: \traces: ['NSW']\n",
      "\u001b[34m\u001b[1mwandb\u001b[0m: \tstats: [['dist_last__1', 'box_last__1', 'speed_avg_1', 'split_speed_v1_1', 'split_speed_avg_1', 'split_margin_avg_1', 'margin_avg_1', 'RunHomeTime_1', 'run_home_speed_1', 'run_home_speed_v1_1', 'first_out_avg_1', 'pos_out_avg_1', 'post_change_avg_1', 'races_1', 'wins_1', 'wins_last_1', 'weight_', 'min_time_', 'min_split_time_', 'min_split_time_v1', 'last_start_price', 'last_start_prob']]\n",
      "\u001b[34m\u001b[1mwandb\u001b[0m: \tvalidation_split: 0.1\n",
      "Failed to detect the name of this notebook, you can set it manually with the WANDB_NOTEBOOK_NAME environment variable to enable code saving.\n",
      "\u001b[34m\u001b[1mwandb\u001b[0m: \u001b[33mWARNING\u001b[0m Ignored wandb.init() arg project when running a sweep.\n"
     ]
    },
    {
     "data": {
      "text/html": [
       "wandb version 0.15.4 is available!  To upgrade, please run:\n",
       " $ pip install wandb --upgrade"
      ],
      "text/plain": [
       "<IPython.core.display.HTML object>"
      ]
     },
     "metadata": {},
     "output_type": "display_data"
    },
    {
     "data": {
      "text/html": [
       "Tracking run with wandb version 0.15.0"
      ],
      "text/plain": [
       "<IPython.core.display.HTML object>"
      ]
     },
     "metadata": {},
     "output_type": "display_data"
    },
    {
     "data": {
      "text/html": [
       "Run data is saved locally in <code>C:\\Users\\Nick\\Documents\\GitHub\\grvmodel\\Python\\DATA\\wandb\\run-20230614_190456-a58t4set</code>"
      ],
      "text/plain": [
       "<IPython.core.display.HTML object>"
      ]
     },
     "metadata": {},
     "output_type": "display_data"
    },
    {
     "data": {
      "text/html": [
       "Syncing run <strong><a href='https://wandb.ai/nickojelly/NEW%20GRU-sweeps/runs/a58t4set' target=\"_blank\">eternal-sweep-4</a></strong> to <a href='https://wandb.ai/nickojelly/NEW%20GRU-sweeps' target=\"_blank\">Weights & Biases</a> (<a href='https://wandb.me/run' target=\"_blank\">docs</a>)<br/>Sweep page: <a href='https://wandb.ai/nickojelly/NEW%20GRU-sweeps/sweeps/ohses7v7' target=\"_blank\">https://wandb.ai/nickojelly/NEW%20GRU-sweeps/sweeps/ohses7v7</a>"
      ],
      "text/plain": [
       "<IPython.core.display.HTML object>"
      ]
     },
     "metadata": {},
     "output_type": "display_data"
    },
    {
     "data": {
      "text/html": [
       " View project at <a href='https://wandb.ai/nickojelly/NEW%20GRU-sweeps' target=\"_blank\">https://wandb.ai/nickojelly/NEW%20GRU-sweeps</a>"
      ],
      "text/plain": [
       "<IPython.core.display.HTML object>"
      ]
     },
     "metadata": {},
     "output_type": "display_data"
    },
    {
     "data": {
      "text/html": [
       " View sweep at <a href='https://wandb.ai/nickojelly/NEW%20GRU-sweeps/sweeps/ohses7v7' target=\"_blank\">https://wandb.ai/nickojelly/NEW%20GRU-sweeps/sweeps/ohses7v7</a>"
      ],
      "text/plain": [
       "<IPython.core.display.HTML object>"
      ]
     },
     "metadata": {},
     "output_type": "display_data"
    },
    {
     "data": {
      "text/html": [
       " View run at <a href='https://wandb.ai/nickojelly/NEW%20GRU-sweeps/runs/a58t4set' target=\"_blank\">https://wandb.ai/nickojelly/NEW%20GRU-sweeps/runs/a58t4set</a>"
      ],
      "text/plain": [
       "<IPython.core.display.HTML object>"
      ]
     },
     "metadata": {},
     "output_type": "display_data"
    },
    {
     "name": "stdout",
     "output_type": "stream",
     "text": [
      "{'batch_days': 90, 'batch_size': 10, 'dropout': 0.3, 'epochs': 500, 'f0_layer_size': 128, 'f1_layer_size': 64, 'hidden_size': 128, 'input_type': 'basic', 'label_smoothing': 0, 'learning_rate': 0.0001, 'len_data': 43651, 'loss': 'CEL', 'num_layers': 2, 'optimizer': 'adamW', 'races': ['NSW'], 'stats': \"[['dist_last__1', 'box_last__1', 'speed_avg_1', 'split_speed_v1_1', 'split_speed_avg_1', 'split_margin_avg_1', 'margin_avg_1', 'RunHomeTime_1', 'run_home_speed_1', 'run_home_speed_v1_1', 'first_out_avg_1', 'pos_out_avg_1', 'post_change_avg_1', 'races_1', 'wins_1', 'wins_last_1', 'weight_', 'min_time_', 'min_split_time_', 'min_split_time_v1', 'last_start_price', 'last_start_prob']]\", 'validation_split': 0.1}\n",
      "500\n",
      "{'batch_days': 90, 'batch_size': 10, 'dropout': 0.3, 'epochs': 500, 'f0_layer_size': 128, 'f1_layer_size': 64, 'hidden_size': 128, 'input_type': 'basic', 'label_smoothing': 0, 'learning_rate': 0.0001, 'len_data': 43651, 'loss': 'CEL', 'num_layers': 2, 'optimizer': 'adamW', 'races': ['NSW'], 'stats': \"[['dist_last__1', 'box_last__1', 'speed_avg_1', 'split_speed_v1_1', 'split_speed_avg_1', 'split_margin_avg_1', 'margin_avg_1', 'RunHomeTime_1', 'run_home_speed_1', 'run_home_speed_v1_1', 'first_out_avg_1', 'pos_out_avg_1', 'post_change_avg_1', 'races_1', 'wins_1', 'wins_last_1', 'weight_', 'min_time_', 'min_split_time_', 'min_split_time_v1', 'last_start_price', 'last_start_prob']]\", 'validation_split': 0.1}\n",
      "basic\n",
      "here\n",
      "input_size=28\n",
      "GRUNetv3_BN(\n",
      "  (gru): GRU(28, 128, num_layers=2, dropout=0.3)\n",
      "  (relu0): ReLU()\n",
      "  (fc0): Linear(in_features=1094, out_features=1094, bias=True)\n",
      "  (layer_norm): BatchNorm1d(28, eps=1e-05, momentum=0.1, affine=True, track_running_stats=True)\n",
      "  (rl1): ReLU()\n",
      "  (drop1): Dropout(p=0.3, inplace=False)\n",
      "  (fc1): Linear(in_features=1094, out_features=128, bias=True)\n",
      "  (rl2): ReLU()\n",
      "  (drop2): Dropout(p=0.3, inplace=False)\n",
      "  (fc2): Linear(in_features=128, out_features=64, bias=True)\n",
      "  (rl3): ReLU()\n",
      "  (drop3): Dropout(p=0.3, inplace=False)\n",
      "  (fc3): Linear(in_features=64, out_features=8, bias=True)\n",
      "  (output_fn): Identity()\n",
      ")\n"
     ]
    },
    {
     "name": "stderr",
     "output_type": "stream",
     "text": [
      "  0%|          | 0/500 [00:00<?, ?it/s]"
     ]
    },
    {
     "name": "stdout",
     "output_type": "stream",
     "text": [
      "created path\n"
     ]
    },
    {
     "name": "stderr",
     "output_type": "stream",
     "text": [
      " 45%|████▌     | 226/500 [1:12:05<1:05:55, 14.44s/it]"
     ]
    }
   ],
   "source": [
    "sweep_id = wandb.sweep(sweep_config, project=\"NEW GRU-sweeps\")\n",
    "CUDA_LAUNCH_BLOCKING=1\n",
    "wandb.agent(sweep_id, function=model_pipeline, count=100)"
   ]
  }
 ],
 "metadata": {
  "kernelspec": {
   "display_name": "PYTORCH",
   "language": "python",
   "name": "python3"
  },
  "language_info": {
   "codemirror_mode": {
    "name": "ipython",
    "version": 3
   },
   "file_extension": ".py",
   "mimetype": "text/x-python",
   "name": "python",
   "nbconvert_exporter": "python",
   "pygments_lexer": "ipython3",
   "version": "3.9.16"
  },
  "orig_nbformat": 4,
  "vscode": {
   "interpreter": {
    "hash": "8a48ca33c5a1168302a4f8eae355aad1c03b1396f568d40bc174a6e6aabe725d"
   }
  }
 },
 "nbformat": 4,
 "nbformat_minor": 2
}
