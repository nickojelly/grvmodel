{
 "cells": [
  {
   "cell_type": "code",
   "execution_count": 2,
   "metadata": {},
   "outputs": [],
   "source": [
    "# Import libraries for logging in\n",
    "import betfairlightweight\n",
    "from flumine import Flumine, clients\n",
    "from flumine import BaseStrategy \n",
    "from flumine.order.trade import Trade\n",
    "from flumine.order.order import LimitOrder, OrderStatus\n",
    "from flumine.markets.market import Market\n",
    "from betfairlightweight.filters import streaming_market_filter\n",
    "from betfairlightweight.resources import MarketBook\n",
    "import logging \n",
    "\n",
    "# Credentials to login and logging in \n",
    "trading = betfairlightweight.APIClient('nickbarlow@live.com.au','76ff98a6',app_key='JFWqJHqB4Akfi5hK')\n",
    "client = clients.BetfairClient(trading, interactive_login=True)\n",
    "\n",
    "# Login\n",
    "framework = Flumine(client=client)\n",
    "\n",
    "\n",
    "logging.basicConfig(filename = 'how_to_automate_1.log', level=logging.INFO, format='%(asctime)s:%(levelname)s:%(message)s')\n",
    "# Code to login when using security certificates\n",
    "# trading = betfairlightweight.APIClient('username','password',app_key='appkey', certs=r'C:\\Users\\zhoui\\openssl_certs')\n",
    "# client = clients.BetfairClient(trading)\n",
    "\n",
    "# framework = Flumine(client=client)"
   ]
  },
  {
   "cell_type": "code",
   "execution_count": 3,
   "metadata": {},
   "outputs": [],
   "source": [
    "# Import necessary libraries\n",
    "from flumine import BaseStrategy \n",
    "from flumine.order.trade import Trade\n",
    "from flumine.order.order import LimitOrder, OrderStatus\n",
    "from flumine.markets.market import Market\n",
    "from betfairlightweight.filters import streaming_market_filter\n",
    "from betfairlightweight.resources import MarketBook\n",
    "\n",
    "# Create a new strategy as a new class called LayStrategy, this in turn will allow us to create a new Python object later\n",
    "    # LayStrategy is a child class inheriting from a class in Flumine we imported above called BaseStrategy\n",
    "class LayStrategy(BaseStrategy):\n",
    "    # Defines what happens when we start our strategy i.e. this method will run once when we first start running our strategy\n",
    "    def start(self) -> None:\n",
    "        print(\"starting strategy 'LayStrategy'\")\n",
    "\n",
    "    # Prevent looking at markets that are closed\n",
    "    def check_market_book(self, market: Market, market_book: MarketBook) -> bool:\n",
    "        # process_market_book only executed if this returns True\n",
    "        if market_book.status != \"CLOSED\":\n",
    "            return True\n",
    "\n",
    "    # If check_market_book returns true i.e. the market is open and not closed then we will run process_market_book once initially\n",
    "    #  After the first initial time, process_market_book runs every single time someone places, updates or cancels a bet\n",
    "    def process_market_book(self, market: Market, market_book: MarketBook) -> None:\n",
    "        for runner in market_book.runners: # Loops through each of the runners in the race\n",
    "            if runner.status == \"ACTIVE\": # If the runner is active (hasen't been scratched)\n",
    "                print(runner)\n",
    "                # Place a lay bet at a price of 1.01 with $5 volume\n",
    "                # trade = Trade(\n",
    "                #     market_id=market_book.market_id, # The market_id for the specific market\n",
    "                #     selection_id=runner.selection_id, # The selection_id of the horse/dog/team\n",
    "                #     handicap=runner.handicap, # The handicap of the horse/dog/team\n",
    "                #     strategy=self, # Strategy this bet is part of: itself (LayStrategy)\n",
    "                # )\n",
    "                # order = trade.create_order(\n",
    "                #     side=\"LAY\", order_type=LimitOrder(price=1.01, size=5.00) # Lay bet, Limit order price of 1.01 size = $5\n",
    "                # )\n",
    "                # market.place_order(order) # Place the order"
   ]
  },
  {
   "cell_type": "code",
   "execution_count": 5,
   "metadata": {},
   "outputs": [
    {
     "ename": "RuntimeError",
     "evalue": "threads can only be started once",
     "output_type": "error",
     "traceback": [
      "\u001b[1;31m---------------------------------------------------------------------------\u001b[0m",
      "\u001b[1;31mRuntimeError\u001b[0m                              Traceback (most recent call last)",
      "\u001b[1;32mc:\\Users\\Nick\\Documents\\GitHub\\grvmodel\\Python\\Betfair\\Flumine.ipynb Cell 3\u001b[0m in \u001b[0;36m<cell line: 9>\u001b[1;34m()\u001b[0m\n\u001b[0;32m      <a href='vscode-notebook-cell:/c%3A/Users/Nick/Documents/GitHub/grvmodel/Python/Betfair/Flumine.ipynb#W2sZmlsZQ%3D%3D?line=0'>1</a>\u001b[0m strategy \u001b[39m=\u001b[39m LayStrategy(\n\u001b[0;32m      <a href='vscode-notebook-cell:/c%3A/Users/Nick/Documents/GitHub/grvmodel/Python/Betfair/Flumine.ipynb#W2sZmlsZQ%3D%3D?line=1'>2</a>\u001b[0m     market_filter\u001b[39m=\u001b[39mstreaming_market_filter(\n\u001b[0;32m      <a href='vscode-notebook-cell:/c%3A/Users/Nick/Documents/GitHub/grvmodel/Python/Betfair/Flumine.ipynb#W2sZmlsZQ%3D%3D?line=2'>3</a>\u001b[0m         event_type_ids\u001b[39m=\u001b[39m[\u001b[39m\"\u001b[39m\u001b[39m4339\u001b[39m\u001b[39m\"\u001b[39m], \u001b[39m# Greyhounds\u001b[39;00m\n\u001b[1;32m   (...)\u001b[0m\n\u001b[0;32m      <a href='vscode-notebook-cell:/c%3A/Users/Nick/Documents/GitHub/grvmodel/Python/Betfair/Flumine.ipynb#W2sZmlsZQ%3D%3D?line=5'>6</a>\u001b[0m     )\n\u001b[0;32m      <a href='vscode-notebook-cell:/c%3A/Users/Nick/Documents/GitHub/grvmodel/Python/Betfair/Flumine.ipynb#W2sZmlsZQ%3D%3D?line=6'>7</a>\u001b[0m )\n\u001b[0;32m      <a href='vscode-notebook-cell:/c%3A/Users/Nick/Documents/GitHub/grvmodel/Python/Betfair/Flumine.ipynb#W2sZmlsZQ%3D%3D?line=7'>8</a>\u001b[0m framework\u001b[39m.\u001b[39madd_strategy(strategy)\n\u001b[1;32m----> <a href='vscode-notebook-cell:/c%3A/Users/Nick/Documents/GitHub/grvmodel/Python/Betfair/Flumine.ipynb#W2sZmlsZQ%3D%3D?line=8'>9</a>\u001b[0m framework\u001b[39m.\u001b[39;49mrun()\n",
      "File \u001b[1;32mc:\\Users\\Nick\\.conda\\envs\\pytorch\\lib\\site-packages\\flumine\\flumine.py:27\u001b[0m, in \u001b[0;36mFlumine.run\u001b[1;34m(self)\u001b[0m\n\u001b[0;32m     23\u001b[0m \u001b[39m\"\"\"\u001b[39;00m\n\u001b[0;32m     24\u001b[0m \u001b[39mMain run thread\u001b[39;00m\n\u001b[0;32m     25\u001b[0m \u001b[39m\"\"\"\u001b[39;00m\n\u001b[0;32m     26\u001b[0m handler_queue_get \u001b[39m=\u001b[39m \u001b[39mself\u001b[39m\u001b[39m.\u001b[39mhandler_queue\u001b[39m.\u001b[39mget\n\u001b[1;32m---> 27\u001b[0m \u001b[39mwith\u001b[39;00m \u001b[39mself\u001b[39m:\n\u001b[0;32m     28\u001b[0m     \u001b[39mwhile\u001b[39;00m \u001b[39mTrue\u001b[39;00m:\n\u001b[0;32m     29\u001b[0m         event \u001b[39m=\u001b[39m handler_queue_get()\n",
      "File \u001b[1;32mc:\\Users\\Nick\\.conda\\envs\\pytorch\\lib\\site-packages\\flumine\\baseflumine.py:417\u001b[0m, in \u001b[0;36mBaseFlumine.__enter__\u001b[1;34m(self)\u001b[0m\n\u001b[0;32m    415\u001b[0m \u001b[39mself\u001b[39m\u001b[39m.\u001b[39m_add_default_workers()\n\u001b[0;32m    416\u001b[0m \u001b[39mfor\u001b[39;00m w \u001b[39min\u001b[39;00m \u001b[39mself\u001b[39m\u001b[39m.\u001b[39m_workers:\n\u001b[1;32m--> 417\u001b[0m     w\u001b[39m.\u001b[39;49mstart()\n\u001b[0;32m    418\u001b[0m \u001b[39m# start logging controls\u001b[39;00m\n\u001b[0;32m    419\u001b[0m \u001b[39mfor\u001b[39;00m c \u001b[39min\u001b[39;00m \u001b[39mself\u001b[39m\u001b[39m.\u001b[39m_logging_controls:\n",
      "File \u001b[1;32mc:\\Users\\Nick\\.conda\\envs\\pytorch\\lib\\threading.py:887\u001b[0m, in \u001b[0;36mThread.start\u001b[1;34m(self)\u001b[0m\n\u001b[0;32m    884\u001b[0m     \u001b[39mraise\u001b[39;00m \u001b[39mRuntimeError\u001b[39;00m(\u001b[39m\"\u001b[39m\u001b[39mthread.__init__() not called\u001b[39m\u001b[39m\"\u001b[39m)\n\u001b[0;32m    886\u001b[0m \u001b[39mif\u001b[39;00m \u001b[39mself\u001b[39m\u001b[39m.\u001b[39m_started\u001b[39m.\u001b[39mis_set():\n\u001b[1;32m--> 887\u001b[0m     \u001b[39mraise\u001b[39;00m \u001b[39mRuntimeError\u001b[39;00m(\u001b[39m\"\u001b[39m\u001b[39mthreads can only be started once\u001b[39m\u001b[39m\"\u001b[39m)\n\u001b[0;32m    889\u001b[0m \u001b[39mwith\u001b[39;00m _active_limbo_lock:\n\u001b[0;32m    890\u001b[0m     _limbo[\u001b[39mself\u001b[39m] \u001b[39m=\u001b[39m \u001b[39mself\u001b[39m\n",
      "\u001b[1;31mRuntimeError\u001b[0m: threads can only be started once"
     ]
    }
   ],
   "source": [
    "strategy = LayStrategy(\n",
    "    market_filter=streaming_market_filter(\n",
    "        event_type_ids=[\"4339\"], # Greyhounds\n",
    "        country_codes=[\"AU\"], # Australia\n",
    "        market_types=[\"WIN\"], # Win Markets\n",
    "    )\n",
    ")\n",
    "framework.add_strategy(strategy)\n",
    "framework.run()"
   ]
  }
 ],
 "metadata": {
  "kernelspec": {
   "display_name": "Python 3.9.12 ('pytorch')",
   "language": "python",
   "name": "python3"
  },
  "language_info": {
   "codemirror_mode": {
    "name": "ipython",
    "version": 3
   },
   "file_extension": ".py",
   "mimetype": "text/x-python",
   "name": "python",
   "nbconvert_exporter": "python",
   "pygments_lexer": "ipython3",
   "version": "3.9.12"
  },
  "orig_nbformat": 4,
  "vscode": {
   "interpreter": {
    "hash": "43115443075634c02a7c247a87b0dd9d74842892e56d473b9e19f544f3149aff"
   }
  }
 },
 "nbformat": 4,
 "nbformat_minor": 2
}
