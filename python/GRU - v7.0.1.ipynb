{
 "cells": [
  {
   "cell_type": "code",
   "execution_count": 1,
   "metadata": {},
   "outputs": [
    {
     "name": "stdout",
     "output_type": "stream",
     "text": [
      "c:\\Users\\Nick\\Documents\\GitHub\\grvmodel\\python\n"
     ]
    }
   ],
   "source": [
    "import pickle\n",
    "import pandas as pd\n",
    "import os\n",
    "import setup\n",
    "\n",
    "import torch\n",
    "import numpy as np\n",
    "import torch.nn as nn\n",
    "import torch.nn.functional as F\n",
    "import torch.optim as optim\n",
    "from tqdm.notebook import tqdm, trange\n",
    "import torch.optim as optim\n",
    "from torch.utils.data import TensorDataset, DataLoader\n",
    "import wandb\n",
    "from torch.utils.data.sampler import SubsetRandomSampler\n",
    "import pprint\n",
    "import matplotlib.pyplot as plt\n",
    "import torch\n",
    "\n",
    "from sklearn.preprocessing import MinMaxScaler\n",
    "import math\n",
    "from torch.profiler import profile, record_function, ProfilerActivity\n",
    "\n",
    "from operator import itemgetter\n",
    "import operator\n",
    "from random import randint\n",
    "# from rnn_classes import Dog, DogInput, Race, Races, GRUNet, smallGRUNet, smalll_lin_GRUNet, smalll_prelin_GRUNet\n",
    "import rnn_tools.rnn_classes as rnn_classes\n",
    "from rnn_tools.raceDB import build_dataset\n",
    "import importlib\n",
    "import datetime\n",
    "from rnn_tools.model_saver import model_saver, model_saver_wandb\n",
    "import rnn_tools.training_testing_gru as training_testing_gru\n",
    "from torch.nn.utils.rnn import pack_padded_sequence, pack_sequence, pad_packed_sequence,pad_sequence, unpack_sequence, unpad_sequence\n",
    "import rnn_tools.training_testing_gru_double as training_testing_gru_double\n",
    "import rnn_tools.training_testing_lstm as training_testing_lstm\n",
    "from goto_conversion import goto_conversion\n",
    "\n",
    "import rnn_tools.training_testing_gru_extra_data as training_testing_gru_extra_data\n",
    "import rnn_tools.training_testing_gru_ensemble as training_testing_gru_ensemble"
   ]
  },
  {
   "cell_type": "code",
   "execution_count": 2,
   "metadata": {},
   "outputs": [
    {
     "name": "stdout",
     "output_type": "stream",
     "text": [
      "Running on the GPU\n"
     ]
    }
   ],
   "source": [
    "if torch.cuda.is_available():\n",
    "    device = torch.device(\"cuda:0\")  # you can continue going on here, like cuda:1 cuda:2....etc.\n",
    "    print(\"Running on the GPU\")\n",
    "else:\n",
    "    device = torch.device(\"cpu\")\n",
    "    print(\"Running on the CPU\")"
   ]
  },
  {
   "cell_type": "code",
   "execution_count": 3,
   "metadata": {},
   "outputs": [
    {
     "name": "stderr",
     "output_type": "stream",
     "text": [
      "c:\\Users\\Nick\\.conda\\envs\\python311\\Lib\\site-packages\\torch\\__init__.py:614: UserWarning: torch.set_default_tensor_type() is deprecated as of PyTorch 2.1, please use torch.set_default_dtype() and torch.set_default_device() as alternatives. (Triggered internally at C:\\cb\\pytorch_1000000000000\\work\\torch\\csrc\\tensor\\python_tensor.cpp:453.)\n",
      "  _C._set_default_tensor_type(t)\n"
     ]
    }
   ],
   "source": [
    "torch.set_default_tensor_type(torch.FloatTensor)"
   ]
  },
  {
   "cell_type": "code",
   "execution_count": 4,
   "metadata": {},
   "outputs": [
    {
     "data": {
      "text/plain": [
       "'2.1.1'"
      ]
     },
     "execution_count": 4,
     "metadata": {},
     "output_type": "execute_result"
    }
   ],
   "source": [
    "torch.__version__"
   ]
  },
  {
   "cell_type": "code",
   "execution_count": 5,
   "metadata": {},
   "outputs": [
    {
     "data": {
      "text/plain": [
       "['dist_last__1',\n",
       " 'box_last__1',\n",
       " 'speed_avg_1',\n",
       " 'split_speed_v1_1',\n",
       " 'split_speed_avg_1',\n",
       " 'split_margin_avg_1',\n",
       " 'margin_avg_1',\n",
       " 'margin_time_avg_1',\n",
       " 'RunHomeTime_1',\n",
       " 'run_home_speed_1',\n",
       " 'run_home_speed_v1_1',\n",
       " 'first_out_avg_1',\n",
       " 'pos_out_avg_1',\n",
       " 'post_change_avg_1',\n",
       " 'races_1',\n",
       " 'wins_1',\n",
       " 'wins_last_1',\n",
       " 'weight_',\n",
       " 'min_time_',\n",
       " 'min_split_time_',\n",
       " 'min_split_time_v1',\n",
       " 'last_start_price',\n",
       " 'last_start_prob']"
      ]
     },
     "execution_count": 5,
     "metadata": {},
     "output_type": "execute_result"
    }
   ],
   "source": [
    "['dist_last__1', 'box_last__1', 'speed_avg_1', 'split_speed_v1_1', 'split_speed_avg_1', 'split_margin_avg_1', 'margin_avg_1', 'margin_time_avg_1', 'RunHomeTime_1', 'run_home_speed_1', 'run_home_speed_v1_1', 'first_out_avg_1', 'pos_out_avg_1', 'post_change_avg_1', 'races_1', 'wins_1', 'wins_last_1', 'weight_', 'min_time_', 'min_split_time_', 'min_split_time_v1', 'last_start_price', 'last_start_prob']"
   ]
  },
  {
   "cell_type": "code",
   "execution_count": 6,
   "metadata": {},
   "outputs": [],
   "source": [
    "def custom_l2(output, target):\n",
    "    loss = torch.mean(abs(output-target), dim=1)\n",
    "    return loss"
   ]
  },
  {
   "cell_type": "code",
   "execution_count": 7,
   "metadata": {},
   "outputs": [],
   "source": [
    "def validation_CLE(x,y):\n",
    "    loss_t = -torch.log(torch.exp(x)/torch.sum(torch.exp(x), dim=-1, keepdim=True))*y\n",
    "    return loss_t"
   ]
  },
  {
   "cell_type": "code",
   "execution_count": 8,
   "metadata": {},
   "outputs": [],
   "source": [
    "tracks = ['Sandown Park',\n",
    " 'The Meadows',\n",
    " 'Warragul',\n",
    " 'Geelong',\n",
    " 'Sale',\n",
    " 'Ballarat',\n",
    " 'Bendigo',\n",
    " 'Cranbourne']"
   ]
  },
  {
   "cell_type": "code",
   "execution_count": 9,
   "metadata": {},
   "outputs": [
    {
     "name": "stdout",
     "output_type": "stream",
     "text": [
      "c:\\Users\\Nick\\Documents\\GitHub\\grvmodel\\python\n"
     ]
    },
    {
     "name": "stdout",
     "output_type": "stream",
     "text": [
      "[['inside', 'midfield', 'wide', 'weight', 'DogGrade', '_dist_last__1', '_box_last__1', '_speed_avg_1', '_split_speed_avg_1', '_split_margin_avg_1', '_margin_avg_1', '_margin_time_avg_1', '_RunHomeTime_1', '_run_home_speed_1', '_first_out_avg_1', '_pos_out_avg_1', '_post_change_avg_1', '_races_1', '_wins_1', '_wins_last_1', '_weight_', '_min_time_', '_min_split_time_', '_last_start_price', '_last_start_prob', 'dist_dist_last__10', 'dist_box_last__10', 'dist_speed_avg_10', 'dist_split_speed_avg_10', 'dist_split_margin_avg_10', 'dist_margin_avg_10', 'dist_margin_time_avg_10', 'dist_RunHomeTime_10', 'dist_run_home_speed_10', 'dist_first_out_avg_10', 'dist_pos_out_avg_10', 'dist_post_change_avg_10', 'dist_races_10', 'dist_wins_10', 'dist_wins_last_10', 'dist_weight_', 'dist_min_time_', 'dist_min_split_time_', 'dist_last_start_price', 'dist_last_start_prob', 'box_dist_last__10', 'box_box_last__10', 'box_speed_avg_10', 'box_split_speed_avg_10', 'box_split_margin_avg_10', 'box_margin_avg_10', 'box_margin_time_avg_10', 'box_RunHomeTime_10', 'box_run_home_speed_10', 'box_first_out_avg_10', 'box_pos_out_avg_10', 'box_post_change_avg_10', 'box_races_10', 'box_wins_10', 'box_wins_last_10', 'box_weight_', 'box_min_time_', 'box_min_split_time_', 'box_last_start_price', 'box_last_start_prob', 'track_box_dist_last__10', 'track_box_box_last__10', 'track_box_speed_avg_10', 'track_box_split_speed_avg_10', 'track_box_split_margin_avg_10', 'track_box_margin_avg_10', 'track_box_margin_time_avg_10', 'track_box_RunHomeTime_10', 'track_box_run_home_speed_10', 'track_box_first_out_avg_10', 'track_box_pos_out_avg_10', 'track_box_post_change_avg_10', 'track_box_races_10', 'track_box_wins_10', 'track_box_wins_last_10', 'track_box_weight_', 'track_box_min_time_', 'track_box_min_split_time_', 'track_box_last_start_price', 'track_box_last_start_prob', 'track_dist_dist_last__10', 'track_dist_box_last__10', 'track_dist_speed_avg_10', 'track_dist_split_speed_avg_10', 'track_dist_split_margin_avg_10', 'track_dist_margin_avg_10', 'track_dist_margin_time_avg_10', 'track_dist_RunHomeTime_10', 'track_dist_run_home_speed_10', 'track_dist_first_out_avg_10', 'track_dist_pos_out_avg_10', 'track_dist_post_change_avg_10', 'track_dist_races_10', 'track_dist_wins_10', 'track_dist_wins_last_10', 'track_dist_weight_', 'track_dist_min_time_', 'track_dist_min_split_time_', 'track_dist_last_start_price', 'track_dist_last_start_prob']]\n",
      "(1517094, 25)\n",
      "106\n",
      "Latest date = 2024-01-31 00:00:00\n",
      "size after state filter (156607, 27)\n",
      "(156607, 27)\n",
      "Latest date = 2024-01-31 00:00:00\n",
      "num_features_per_dog=106\n",
      "___Processing 3963 unique dogs___\n"
     ]
    },
    {
     "name": "stderr",
     "output_type": "stream",
     "text": [
      "100%|██████████| 25/25 [00:00<?, ?it/s]\n",
      "c:\\Users\\Nick\\Documents\\GitHub\\grvmodel\\python\\rnn_tools\\rnn_classes.py:389: UserWarning: To copy construct from a tensor, it is recommended to use sourceTensor.clone().detach() or sourceTensor.clone().detach().requires_grad_(True), rather than torch.tensor(sourceTensor).\n",
      "  r.prob = torch.tensor((1/(torch.tensor(r.start_prices)+0.0001))/((1/torch.tensor(r.start_prices)).sum()+0.0001),device=self.device)\n"
     ]
    },
    {
     "name": "stdout",
     "output_type": "stream",
     "text": [
      "number of races = 20360, number of unique dogs = 3964\n",
      "0        (Palmerston North, 410.0)\n",
      "1            (Christchurch, 295.0)\n",
      "2            (Christchurch, 295.0)\n",
      "3            (Christchurch, 520.0)\n",
      "4                (Auckland, 318.0)\n",
      "                   ...            \n",
      "20355             (Waikato, 375.0)\n",
      "20356        (Christchurch, 295.0)\n",
      "20357             (Waikato, 375.0)\n",
      "20358             (Waikato, 375.0)\n",
      "20359             (Waikato, 375.0)\n",
      "Length: 20360, dtype: object\n"
     ]
    }
   ],
   "source": [
    "os.getcwd()\n",
    "import rnn_tools.raceDB\n",
    "importlib.reload(rnn_tools.raceDB)\n",
    "# os.chdir(r\"C:\\Users\\Nick\\Documents\\GitHub\\grvmodel\\Python\\DATA\")                                                                                                                                                                                                                                                                                                                             \n",
    "date = datetime.datetime.strptime(\"2020-01-01\", \"%Y-%m-%d\").date()\n",
    "hidden_size = 32\n",
    "states = [\"NZ\"]\n",
    "data_file = './data/gru_inputs_kitchen_sink_new_not_simple.fth'\n",
    "raceDB = rnn_tools.raceDB.build_dataset(data_file, hidden_size,date_filter=date,state_filter=states, margin_type='boosted_sftmin',v6=True)\n",
    "raceDB.create_new_weights_v2()"
   ]
  },
  {
   "cell_type": "code",
   "execution_count": 10,
   "metadata": {},
   "outputs": [],
   "source": [
    "data = pd.read_feather(data_file)"
   ]
  },
  {
   "cell_type": "code",
   "execution_count": 11,
   "metadata": {},
   "outputs": [
    {
     "data": {
      "text/plain": [
       "(106,)"
      ]
     },
     "execution_count": 11,
     "metadata": {},
     "output_type": "execute_result"
    }
   ],
   "source": [
    "data.stats.iloc[0].shape"
   ]
  },
  {
   "cell_type": "code",
   "execution_count": 12,
   "metadata": {},
   "outputs": [],
   "source": [
    "raceDB.stats_cols = eval(raceDB.stats_cols)[0]"
   ]
  },
  {
   "cell_type": "code",
   "execution_count": 13,
   "metadata": {},
   "outputs": [],
   "source": [
    "# raceDB.stats_cols = ['box']+raceDB.stats_cols"
   ]
  },
  {
   "cell_type": "code",
   "execution_count": 14,
   "metadata": {},
   "outputs": [
    {
     "name": "stdout",
     "output_type": "stream",
     "text": [
      "0 inside\n",
      "1 midfield\n",
      "2 wide\n",
      "3 weight\n",
      "4 DogGrade\n",
      "5 _dist_last__1\n",
      "6 _box_last__1\n",
      "7 _speed_avg_1\n",
      "8 _split_speed_avg_1\n",
      "9 _split_margin_avg_1\n",
      "10 _margin_avg_1\n",
      "11 _margin_time_avg_1\n",
      "12 _RunHomeTime_1\n",
      "13 _run_home_speed_1\n",
      "14 _first_out_avg_1\n",
      "15 _pos_out_avg_1\n",
      "16 _post_change_avg_1\n",
      "17 _races_1\n",
      "18 _wins_1\n",
      "19 _wins_last_1\n",
      "20 _weight_\n",
      "21 _min_time_\n",
      "22 _min_split_time_\n",
      "23 _last_start_price\n",
      "24 _last_start_prob\n",
      "25 dist_dist_last__10\n",
      "26 dist_box_last__10\n",
      "27 dist_speed_avg_10\n",
      "28 dist_split_speed_avg_10\n",
      "29 dist_split_margin_avg_10\n",
      "30 dist_margin_avg_10\n",
      "31 dist_margin_time_avg_10\n",
      "32 dist_RunHomeTime_10\n",
      "33 dist_run_home_speed_10\n",
      "34 dist_first_out_avg_10\n",
      "35 dist_pos_out_avg_10\n",
      "36 dist_post_change_avg_10\n",
      "37 dist_races_10\n",
      "38 dist_wins_10\n",
      "39 dist_wins_last_10\n",
      "40 dist_weight_\n",
      "41 dist_min_time_\n",
      "42 dist_min_split_time_\n",
      "43 dist_last_start_price\n",
      "44 dist_last_start_prob\n",
      "45 box_dist_last__10\n",
      "46 box_box_last__10\n",
      "47 box_speed_avg_10\n",
      "48 box_split_speed_avg_10\n",
      "49 box_split_margin_avg_10\n",
      "50 box_margin_avg_10\n",
      "51 box_margin_time_avg_10\n",
      "52 box_RunHomeTime_10\n",
      "53 box_run_home_speed_10\n",
      "54 box_first_out_avg_10\n",
      "55 box_pos_out_avg_10\n",
      "56 box_post_change_avg_10\n",
      "57 box_races_10\n",
      "58 box_wins_10\n",
      "59 box_wins_last_10\n",
      "60 box_weight_\n",
      "61 box_min_time_\n",
      "62 box_min_split_time_\n",
      "63 box_last_start_price\n",
      "64 box_last_start_prob\n",
      "65 track_box_dist_last__10\n",
      "66 track_box_box_last__10\n",
      "67 track_box_speed_avg_10\n",
      "68 track_box_split_speed_avg_10\n",
      "69 track_box_split_margin_avg_10\n",
      "70 track_box_margin_avg_10\n",
      "71 track_box_margin_time_avg_10\n",
      "72 track_box_RunHomeTime_10\n",
      "73 track_box_run_home_speed_10\n",
      "74 track_box_first_out_avg_10\n",
      "75 track_box_pos_out_avg_10\n",
      "76 track_box_post_change_avg_10\n",
      "77 track_box_races_10\n",
      "78 track_box_wins_10\n",
      "79 track_box_wins_last_10\n",
      "80 track_box_weight_\n",
      "81 track_box_min_time_\n",
      "82 track_box_min_split_time_\n",
      "83 track_box_last_start_price\n",
      "84 track_box_last_start_prob\n",
      "85 track_dist_dist_last__10\n",
      "86 track_dist_box_last__10\n",
      "87 track_dist_speed_avg_10\n",
      "88 track_dist_split_speed_avg_10\n",
      "89 track_dist_split_margin_avg_10\n",
      "90 track_dist_margin_avg_10\n",
      "91 track_dist_margin_time_avg_10\n",
      "92 track_dist_RunHomeTime_10\n",
      "93 track_dist_run_home_speed_10\n",
      "94 track_dist_first_out_avg_10\n",
      "95 track_dist_pos_out_avg_10\n",
      "96 track_dist_post_change_avg_10\n",
      "97 track_dist_races_10\n",
      "98 track_dist_wins_10\n",
      "99 track_dist_wins_last_10\n",
      "100 track_dist_weight_\n",
      "101 track_dist_min_time_\n",
      "102 track_dist_min_split_time_\n",
      "103 track_dist_last_start_price\n",
      "104 track_dist_last_start_prob\n"
     ]
    }
   ],
   "source": [
    "for i,s in enumerate(raceDB.stats_cols):\n",
    "    print(i,s)"
   ]
  },
  {
   "cell_type": "code",
   "execution_count": 15,
   "metadata": {},
   "outputs": [],
   "source": [
    "from rnn_tools.rnn_classes import Races,Dog, DogInput, Race"
   ]
  },
  {
   "cell_type": "code",
   "execution_count": 16,
   "metadata": {},
   "outputs": [],
   "source": [
    "import rnn_tools.raceDB"
   ]
  },
  {
   "cell_type": "code",
   "execution_count": 17,
   "metadata": {},
   "outputs": [
    {
     "data": {
      "text/plain": [
       "[datetime.date(2020, 3, 4),\n",
       " datetime.date(2020, 3, 4),\n",
       " datetime.date(2020, 3, 4),\n",
       " datetime.date(2020, 3, 4),\n",
       " datetime.date(2020, 3, 4),\n",
       " datetime.date(2020, 3, 4),\n",
       " datetime.date(2020, 3, 4),\n",
       " datetime.date(2020, 3, 4),\n",
       " datetime.date(2020, 3, 4),\n",
       " datetime.date(2020, 3, 5),\n",
       " datetime.date(2020, 3, 5),\n",
       " datetime.date(2020, 3, 5),\n",
       " datetime.date(2020, 3, 5),\n",
       " datetime.date(2020, 3, 5),\n",
       " datetime.date(2020, 3, 5),\n",
       " datetime.date(2020, 3, 5),\n",
       " datetime.date(2020, 3, 5),\n",
       " datetime.date(2020, 3, 5),\n",
       " datetime.date(2020, 3, 5),\n",
       " datetime.date(2020, 3, 5),\n",
       " datetime.date(2020, 3, 5),\n",
       " datetime.date(2020, 3, 5),\n",
       " datetime.date(2020, 3, 5),\n",
       " datetime.date(2020, 3, 5),\n",
       " datetime.date(2020, 3, 5),\n",
       " datetime.date(2020, 3, 5),\n",
       " datetime.date(2020, 3, 5),\n",
       " datetime.date(2020, 3, 5),\n",
       " datetime.date(2020, 3, 5),\n",
       " datetime.date(2020, 3, 5),\n",
       " datetime.date(2020, 3, 5),\n",
       " datetime.date(2020, 3, 5),\n",
       " datetime.date(2020, 3, 6),\n",
       " datetime.date(2020, 3, 6),\n",
       " datetime.date(2020, 3, 6),\n",
       " datetime.date(2020, 3, 6),\n",
       " datetime.date(2020, 3, 6),\n",
       " datetime.date(2020, 3, 6),\n",
       " datetime.date(2020, 3, 6),\n",
       " datetime.date(2020, 3, 6),\n",
       " datetime.date(2020, 3, 6),\n",
       " datetime.date(2020, 3, 6),\n",
       " datetime.date(2020, 3, 6),\n",
       " datetime.date(2020, 3, 6),\n",
       " datetime.date(2020, 3, 6),\n",
       " datetime.date(2020, 3, 6),\n",
       " datetime.date(2020, 3, 6),\n",
       " datetime.date(2020, 3, 6),\n",
       " datetime.date(2020, 3, 6),\n",
       " datetime.date(2020, 3, 6),\n",
       " datetime.date(2020, 3, 6),\n",
       " datetime.date(2020, 3, 6),\n",
       " datetime.date(2020, 3, 6),\n",
       " datetime.date(2020, 3, 6),\n",
       " datetime.date(2020, 3, 6),\n",
       " datetime.date(2020, 3, 6),\n",
       " datetime.date(2020, 3, 8),\n",
       " datetime.date(2020, 3, 8),\n",
       " datetime.date(2020, 3, 8),\n",
       " datetime.date(2020, 3, 8),\n",
       " datetime.date(2020, 3, 8),\n",
       " datetime.date(2020, 3, 8),\n",
       " datetime.date(2020, 3, 8),\n",
       " datetime.date(2020, 3, 8),\n",
       " datetime.date(2020, 3, 8),\n",
       " datetime.date(2020, 3, 8),\n",
       " datetime.date(2020, 3, 8),\n",
       " datetime.date(2020, 3, 8),\n",
       " datetime.date(2020, 3, 9),\n",
       " datetime.date(2020, 3, 9),\n",
       " datetime.date(2020, 3, 9),\n",
       " datetime.date(2020, 3, 9),\n",
       " datetime.date(2020, 3, 9),\n",
       " datetime.date(2020, 3, 9),\n",
       " datetime.date(2020, 3, 9),\n",
       " datetime.date(2020, 3, 9),\n",
       " datetime.date(2020, 3, 9),\n",
       " datetime.date(2020, 3, 9),\n",
       " datetime.date(2020, 3, 9),\n",
       " datetime.date(2020, 3, 9),\n",
       " datetime.date(2020, 3, 9),\n",
       " datetime.date(2020, 3, 9),\n",
       " datetime.date(2020, 3, 9),\n",
       " datetime.date(2020, 3, 9),\n",
       " datetime.date(2020, 3, 9),\n",
       " datetime.date(2020, 3, 9),\n",
       " datetime.date(2020, 3, 9),\n",
       " datetime.date(2020, 3, 9),\n",
       " datetime.date(2020, 3, 9),\n",
       " datetime.date(2020, 3, 9),\n",
       " datetime.date(2020, 3, 9),\n",
       " datetime.date(2020, 3, 9),\n",
       " datetime.date(2020, 3, 9),\n",
       " datetime.date(2020, 3, 9),\n",
       " datetime.date(2020, 3, 9),\n",
       " datetime.date(2020, 3, 9),\n",
       " datetime.date(2020, 3, 9),\n",
       " datetime.date(2020, 3, 10),\n",
       " datetime.date(2020, 3, 10),\n",
       " datetime.date(2020, 3, 10)]"
      ]
     },
     "execution_count": 17,
     "metadata": {},
     "output_type": "execute_result"
    }
   ],
   "source": [
    "races = raceDB.get_race_input(range(1000,1100))\n",
    "[r.race_date for r in races]"
   ]
  },
  {
   "cell_type": "code",
   "execution_count": 18,
   "metadata": {},
   "outputs": [],
   "source": [
    "stat_list = ['dist_last__1', 'box_last__1', 'speed_avg_1', 'split_speed_v1_1', 'split_speed_avg_1', 'split_margin_avg_1', 'margin_avg_1', 'margin_time_avg_1', 'RunHomeTime_1', 'run_home_speed_1', 'run_home_speed_v1_1', 'first_out_avg_1', 'pos_out_avg_1', 'post_change_avg_1', 'races_1', 'wins_1', 'wins_last_1', 'weight_', 'min_time_', 'min_split_time_', 'min_split_time_v1', 'last_start_price', 'last_start_prob']\n"
   ]
  },
  {
   "cell_type": "code",
   "execution_count": 19,
   "metadata": {},
   "outputs": [],
   "source": [
    "def closure(optimizer, criterion, outs, classes):\n",
    "    optimizer.zero_grad()\n",
    "    loss = nn.functional.mse_loss(outs, classes)\n",
    "    loss.backward()\n",
    "    return loss\n",
    "\n",
    "def model_pipeline(my_dataset=raceDB,config=None,prev_model=None, sweep=True, model_state_dict=None, prev_model_file=None, prev_model_version='450'):\n",
    "    if my_dataset:\n",
    "      dataset = my_dataset    \n",
    "    else:\n",
    "      dataset = raceDB\n",
    "    # tell wandb to get started\n",
    "    with wandb.init(project=\"NEW GRU V7 Reporting\", config=config,save_code=False):\n",
    "      #  access all HPs through wandb.config, so logging matches execution!\n",
    "      wandb.define_metric(\"loss_val\", summary=\"min\")\n",
    "      wandb.define_metric(\"accuracy\", summary=\"max\")\n",
    "      wandb.define_metric(\"ROI < 30\", summary=\"max\")\n",
    "      wandb.define_metric(\"relu roi\", summary=\"max\")\n",
    "      \n",
    "      config = wandb.config\n",
    "      pprint.pprint(config)\n",
    "      pprint.pprint(config.epochs)\n",
    "      print(config)\n",
    "      wandb.run.log_code('rnn_tools/')\n",
    "      # input_size = raceDB.get_race_input([0,1])[0].full_input.shape[0] #create fix so messy\n",
    "      print(config.input_type)\n",
    "\n",
    "      for i in config.stat_list_dict.values():\n",
    "        print(i)\n",
    "\n",
    "      reg_stat_mask = []\n",
    "      for stat,flag in config.stat_list_dict.items():\n",
    "          stat_flag = flag\n",
    "          reg_stat_mask = reg_stat_mask+[stat_flag]\n",
    "\n",
    "      print(reg_stat_mask)\n",
    "      stat_mask = [1]*6+reg_stat_mask+[0]*80\n",
    "      data_mask = [0]*26+[1]*20+[1]*20+[1]*20+[1]*20 # Reg, Dist, Box, T_box, T_dist\n",
    "      data_mask = [1]*6+reg_stat_mask+[0]*20+[0]*20+[0]*20+[0]*20 # Reg, Dist, Box, T_box, T_dist\n",
    "      data_mask_size = sum(data_mask)\n",
    "      print(f\"{data_mask_size=}\")\n",
    "      stat_mask = torch.tensor(stat_mask).type(torch.bool).to(device)\n",
    "      data_mask = torch.tensor(data_mask).type(torch.bool).to(device)\n",
    "      # stat_mask = torch.ones_like(stat_mask).type(torch.bool).to(device)\n",
    "\n",
    "      print(stat_mask)\n",
    "      print(stat_mask.shape)\n",
    "\n",
    "      if 'batch_days' in config.keys():\n",
    "        pass\n",
    "        raceDB.create_test_split_date(config['training_date_end'],val_date='2023-07-01')\n",
    "        raceDB.create_dogs_test_split_date()\n",
    "        raceDB.attach_races_to_dog_inputv2() \n",
    "        raceDB.reset_hidden()\n",
    "        raceDB.create_batches(batch_days=config['batch_days'], end_date = config['training_date_end'], stat_mask=stat_mask,data_mask=data_mask)\n",
    "\n",
    "      if config['input_type'] == 'basic':\n",
    "          print('here')\n",
    "          raceDB.batches['packed_x'] = raceDB.batches['packed_x_basic']\n",
    "          raceDB.batches['packed_y'] = raceDB.batches['packed_y_basic']\n",
    "          raceDB.batches['packed_v'] = raceDB.batches['packed_v_basic']\n",
    "          input_size = raceDB.batches['packed_x'][0].data[0].shape[0]\n",
    "\n",
    "      # for race in raceDB.racesDict.values():\n",
    "      #     for dog_input in race.dogs:\n",
    "      #       dog_input.stats_masked = dog_input.stats.masked_select(stat_mask) \n",
    "\n",
    "\n",
    "      print(f\"{input_size=}\")\n",
    "      config['stat_mask_tensor'] = torch.tensor(stat_mask, dtype=torch.uint8).to(device)     \n",
    "      raceDB.reset_hidden(num_layers=config['num_layers'], hidden_size=config['hidden_size'])\n",
    "      model = rnn_classes.GRUNetv3_extra(input_size,config['hidden_size'], num_layers=config['num_layers'],fc0_size=config['f0_layer_size'], fc1_size=config['f1_layer_size'],data_mask_size=data_mask_size)\n",
    "      optimizer = optim.AdamW(model.parameters(), lr=config['learning_rate'])\n",
    "      \n",
    "      if model_state_dict:\n",
    "        model.load_state_dict(model_state_dict)\n",
    "      if prev_model_file!=None:\n",
    "        print(f\"Loading model {prev_model_file}, version {prev_model_version}\")\n",
    "        model_name = prev_model_file\n",
    "        model_loc = f\"C:/Users/Nick/Documents/GitHub/grvmodel/Python/pytorch/New Model/savedmodel/{model_name}/{model_name}_{prev_model_version}.pt\"\n",
    "        model_data = torch.load(model_loc,map_location=torch.device('cuda:0'))\n",
    "        print(model_data['model_state_dict'].keys())\n",
    "        model.load_state_dict(model_data['model_state_dict'], strict=True)\n",
    "        config['parent model'] = prev_model_file\n",
    "        model = model.to(device)\n",
    "        \n",
    "        optimizer = optim.Adam(model.parameters(), lr=config['learning_rate'])\n",
    "        # optimizer.load_state_dict(model_data['optim'])\n",
    "        # optimizer.to(device)\n",
    "      else:\n",
    "        optimizer = optim.RAdam(model.parameters(), lr=config['learning_rate'])\n",
    "\n",
    "      raceDB.to_cuda()\n",
    "      criterion = nn.CrossEntropyLoss(reduction='none')\n",
    "\n",
    "      model = model.to(device)\n",
    "      print(model)\n",
    "\n",
    "      # and use them to train the model\n",
    "      # wandb.watch(model, log='all')\n",
    "      try:\n",
    "        # train_double_loss_regular(model, dataset, criterion, optimizer, scheduler, config, crit2=custom_l2)\n",
    "        training_testing_gru_extra_data.train_double_v3(model, dataset, criterion, optimizer, 'na', config)\n",
    "      except (KeyboardInterrupt) as error:\n",
    "        print(error)\n",
    "        print(\"finished Early\")\n",
    "        \n",
    "      # dataset.create_hidden_states_dict()\n",
    "      raceDB.create_hidden_states_dict_v2()\n",
    "      model_saver_wandb(model, optimizer, 450, 0.1, raceDB.hidden_states_dict_gru_v6,raceDB.train_hidden_dict , model_name=\"long nsw new  22000 RUN\")\n",
    "      if sweep:\n",
    "        # raceDB.reset_all_lstm_states\n",
    "        raceDB.reset_hidden()\n",
    "    \n",
    "\n",
    "\n",
    "    # and test its final performance\n",
    "    #test(model, test_loader)\n",
    "\n",
    "    return (model,dataset, optimizer)"
   ]
  },
  {
   "cell_type": "code",
   "execution_count": 20,
   "metadata": {},
   "outputs": [],
   "source": [
    "stat_list_dict = {'_dist_last__1':1,\n",
    "    '_box_last__1':1,\n",
    "    '_speed_avg_1':1,\n",
    "    '_split_speed_avg_1':1,\n",
    "    '_split_margin_avg_1':1,\n",
    "    '_margin_avg_1':1,\n",
    "    '_margin_time_avg_1':1,\n",
    "    '_RunHomeTime_1':1,\n",
    "    '_run_home_speed_1':1,\n",
    "    '_first_out_avg_1':1,\n",
    "    '_pos_out_avg_1':1,\n",
    "    '_post_change_avg_1':1,\n",
    "    '_races_1':1,\n",
    "    '_wins_1':1,\n",
    "    '_wins_last_1':1,\n",
    "    '_weight_':1,\n",
    "    '_min_time_':1,\n",
    "    '_min_split_time_':1,\n",
    "    '_last_start_price':1,\n",
    "    '_last_start_prob':1,\n",
    "}\n",
    "\n",
    "wandb_config_static = {\n",
    "    'hidden_size': 256,\n",
    "    'stats': raceDB.stats_cols,\n",
    "    'races': states,\n",
    "    'datafile': data_file,\n",
    "    'latest_date': raceDB.latest_date,\n",
    "    'input_type': 'basic',\n",
    "    'num_layers': 2,\n",
    "    'batch_size': 750,\n",
    "    'dropout': 0.3,\n",
    "    'epochs': 250,\n",
    "    'learning_rate': 0.001,\n",
    "    'optimizer': 'adamW',\n",
    "    'f0_layer_size': 128,\n",
    "    'f1_layer_size': 64,\n",
    "    'training_date_end': '2023-01-01',\n",
    "    'notes':'GRU, with basic add on data looped in',\n",
    "    'batch_days': 600,\n",
    "    'stat_list_dict': stat_list_dict,\n",
    "}"
   ]
  },
  {
   "cell_type": "code",
   "execution_count": 21,
   "metadata": {},
   "outputs": [],
   "source": [
    "raceDB.reset_hidden(num_layers=wandb_config_static['num_layers'], hidden_size=wandb_config_static['hidden_size'])"
   ]
  },
  {
   "cell_type": "code",
   "execution_count": 22,
   "metadata": {},
   "outputs": [],
   "source": [
    "torch.cuda.empty_cache()"
   ]
  },
  {
   "cell_type": "code",
   "execution_count": 23,
   "metadata": {},
   "outputs": [
    {
     "name": "stderr",
     "output_type": "stream",
     "text": [
      "c:\\Users\\Nick\\Documents\\GitHub\\grvmodel\\python\\rnn_tools\\rnn_classes.py:389: UserWarning: To copy construct from a tensor, it is recommended to use sourceTensor.clone().detach() or sourceTensor.clone().detach().requires_grad_(True), rather than torch.tensor(sourceTensor).\n",
      "  r.prob = torch.tensor((1/(torch.tensor(r.start_prices)+0.0001))/((1/torch.tensor(r.start_prices)).sum()+0.0001),device=self.device)\n"
     ]
    }
   ],
   "source": [
    "raceDB.race_prices_to_prob()"
   ]
  },
  {
   "cell_type": "code",
   "execution_count": 24,
   "metadata": {},
   "outputs": [
    {
     "data": {
      "text/plain": [
       "Timestamp('2024-01-31 00:00:00')"
      ]
     },
     "execution_count": 24,
     "metadata": {},
     "output_type": "execute_result"
    }
   ],
   "source": [
    "raceDB.latest_date"
   ]
  },
  {
   "cell_type": "code",
   "execution_count": 25,
   "metadata": {},
   "outputs": [],
   "source": [
    "# for i in raceDB.racesDict.values():\n",
    "#     if i.win_price_weightv2.isnan():\n",
    "#         # print(i)\n",
    "#         i.win_price_weightv2 = torch.tensor(0.5).to('cuda:0')"
   ]
  },
  {
   "cell_type": "code",
   "execution_count": 26,
   "metadata": {},
   "outputs": [],
   "source": [
    "# [[(d.hidden_out.shape, d.dog.dogid) for d in race.dogs] for race in raceDB.batches['batch_races'][0]]"
   ]
  },
  {
   "cell_type": "code",
   "execution_count": 27,
   "metadata": {},
   "outputs": [
    {
     "name": "stderr",
     "output_type": "stream",
     "text": [
      "Failed to detect the name of this notebook, you can set it manually with the WANDB_NOTEBOOK_NAME environment variable to enable code saving.\n",
      "\u001b[34m\u001b[1mwandb\u001b[0m: Currently logged in as: \u001b[33mnickojelly\u001b[0m. Use \u001b[1m`wandb login --relogin`\u001b[0m to force relogin\n"
     ]
    },
    {
     "data": {
      "text/html": [
       "wandb version 0.16.3 is available!  To upgrade, please run:\n",
       " $ pip install wandb --upgrade"
      ],
      "text/plain": [
       "<IPython.core.display.HTML object>"
      ]
     },
     "metadata": {},
     "output_type": "display_data"
    },
    {
     "data": {
      "text/html": [
       "Tracking run with wandb version 0.16.2"
      ],
      "text/plain": [
       "<IPython.core.display.HTML object>"
      ]
     },
     "metadata": {},
     "output_type": "display_data"
    },
    {
     "data": {
      "text/html": [
       "Run data is saved locally in <code>c:\\Users\\Nick\\Documents\\GitHub\\grvmodel\\python\\wandb\\run-20240208_160915-o8fwmhjc</code>"
      ],
      "text/plain": [
       "<IPython.core.display.HTML object>"
      ]
     },
     "metadata": {},
     "output_type": "display_data"
    },
    {
     "data": {
      "text/html": [
       "Syncing run <strong><a href='https://wandb.ai/nickojelly/NEW%20GRU%20V7%20Reporting/runs/o8fwmhjc' target=\"_blank\">fragrant-wave-40</a></strong> to <a href='https://wandb.ai/nickojelly/NEW%20GRU%20V7%20Reporting' target=\"_blank\">Weights & Biases</a> (<a href='https://wandb.me/run' target=\"_blank\">docs</a>)<br/>"
      ],
      "text/plain": [
       "<IPython.core.display.HTML object>"
      ]
     },
     "metadata": {},
     "output_type": "display_data"
    },
    {
     "data": {
      "text/html": [
       " View project at <a href='https://wandb.ai/nickojelly/NEW%20GRU%20V7%20Reporting' target=\"_blank\">https://wandb.ai/nickojelly/NEW%20GRU%20V7%20Reporting</a>"
      ],
      "text/plain": [
       "<IPython.core.display.HTML object>"
      ]
     },
     "metadata": {},
     "output_type": "display_data"
    },
    {
     "data": {
      "text/html": [
       " View run at <a href='https://wandb.ai/nickojelly/NEW%20GRU%20V7%20Reporting/runs/o8fwmhjc' target=\"_blank\">https://wandb.ai/nickojelly/NEW%20GRU%20V7%20Reporting/runs/o8fwmhjc</a>"
      ],
      "text/plain": [
       "<IPython.core.display.HTML object>"
      ]
     },
     "metadata": {},
     "output_type": "display_data"
    },
    {
     "name": "stdout",
     "output_type": "stream",
     "text": [
      "{'hidden_size': 256, 'stats': ['inside', 'midfield', 'wide', 'weight', 'DogGrade', '_dist_last__1', '_box_last__1', '_speed_avg_1', '_split_speed_avg_1', '_split_margin_avg_1', '_margin_avg_1', '_margin_time_avg_1', '_RunHomeTime_1', '_run_home_speed_1', '_first_out_avg_1', '_pos_out_avg_1', '_post_change_avg_1', '_races_1', '_wins_1', '_wins_last_1', '_weight_', '_min_time_', '_min_split_time_', '_last_start_price', '_last_start_prob', 'dist_dist_last__10', 'dist_box_last__10', 'dist_speed_avg_10', 'dist_split_speed_avg_10', 'dist_split_margin_avg_10', 'dist_margin_avg_10', 'dist_margin_time_avg_10', 'dist_RunHomeTime_10', 'dist_run_home_speed_10', 'dist_first_out_avg_10', 'dist_pos_out_avg_10', 'dist_post_change_avg_10', 'dist_races_10', 'dist_wins_10', 'dist_wins_last_10', 'dist_weight_', 'dist_min_time_', 'dist_min_split_time_', 'dist_last_start_price', 'dist_last_start_prob', 'box_dist_last__10', 'box_box_last__10', 'box_speed_avg_10', 'box_split_speed_avg_10', 'box_split_margin_avg_10', 'box_margin_avg_10', 'box_margin_time_avg_10', 'box_RunHomeTime_10', 'box_run_home_speed_10', 'box_first_out_avg_10', 'box_pos_out_avg_10', 'box_post_change_avg_10', 'box_races_10', 'box_wins_10', 'box_wins_last_10', 'box_weight_', 'box_min_time_', 'box_min_split_time_', 'box_last_start_price', 'box_last_start_prob', 'track_box_dist_last__10', 'track_box_box_last__10', 'track_box_speed_avg_10', 'track_box_split_speed_avg_10', 'track_box_split_margin_avg_10', 'track_box_margin_avg_10', 'track_box_margin_time_avg_10', 'track_box_RunHomeTime_10', 'track_box_run_home_speed_10', 'track_box_first_out_avg_10', 'track_box_pos_out_avg_10', 'track_box_post_change_avg_10', 'track_box_races_10', 'track_box_wins_10', 'track_box_wins_last_10', 'track_box_weight_', 'track_box_min_time_', 'track_box_min_split_time_', 'track_box_last_start_price', 'track_box_last_start_prob', 'track_dist_dist_last__10', 'track_dist_box_last__10', 'track_dist_speed_avg_10', 'track_dist_split_speed_avg_10', 'track_dist_split_margin_avg_10', 'track_dist_margin_avg_10', 'track_dist_margin_time_avg_10', 'track_dist_RunHomeTime_10', 'track_dist_run_home_speed_10', 'track_dist_first_out_avg_10', 'track_dist_pos_out_avg_10', 'track_dist_post_change_avg_10', 'track_dist_races_10', 'track_dist_wins_10', 'track_dist_wins_last_10', 'track_dist_weight_', 'track_dist_min_time_', 'track_dist_min_split_time_', 'track_dist_last_start_price', 'track_dist_last_start_prob'], 'races': ['NZ'], 'datafile': './data/gru_inputs_kitchen_sink_new_not_simple.fth', 'latest_date': '2024-01-31T00:00:00', 'input_type': 'basic', 'num_layers': 2, 'batch_size': 750, 'dropout': 0.3, 'epochs': 250, 'learning_rate': 0.001, 'optimizer': 'adamW', 'f0_layer_size': 128, 'f1_layer_size': 64, 'training_date_end': '2023-01-01', 'notes': 'GRU, with basic add on data looped in', 'batch_days': 600, 'stat_list_dict': {'_dist_last__1': 1, '_box_last__1': 1, '_speed_avg_1': 1, '_split_speed_avg_1': 1, '_split_margin_avg_1': 1, '_margin_avg_1': 1, '_margin_time_avg_1': 1, '_RunHomeTime_1': 1, '_run_home_speed_1': 1, '_first_out_avg_1': 1, '_pos_out_avg_1': 1, '_post_change_avg_1': 1, '_races_1': 1, '_wins_1': 1, '_wins_last_1': 1, '_weight_': 1, '_min_time_': 1, '_min_split_time_': 1, '_last_start_price': 1, '_last_start_prob': 1}}\n",
      "250\n",
      "{'hidden_size': 256, 'stats': ['inside', 'midfield', 'wide', 'weight', 'DogGrade', '_dist_last__1', '_box_last__1', '_speed_avg_1', '_split_speed_avg_1', '_split_margin_avg_1', '_margin_avg_1', '_margin_time_avg_1', '_RunHomeTime_1', '_run_home_speed_1', '_first_out_avg_1', '_pos_out_avg_1', '_post_change_avg_1', '_races_1', '_wins_1', '_wins_last_1', '_weight_', '_min_time_', '_min_split_time_', '_last_start_price', '_last_start_prob', 'dist_dist_last__10', 'dist_box_last__10', 'dist_speed_avg_10', 'dist_split_speed_avg_10', 'dist_split_margin_avg_10', 'dist_margin_avg_10', 'dist_margin_time_avg_10', 'dist_RunHomeTime_10', 'dist_run_home_speed_10', 'dist_first_out_avg_10', 'dist_pos_out_avg_10', 'dist_post_change_avg_10', 'dist_races_10', 'dist_wins_10', 'dist_wins_last_10', 'dist_weight_', 'dist_min_time_', 'dist_min_split_time_', 'dist_last_start_price', 'dist_last_start_prob', 'box_dist_last__10', 'box_box_last__10', 'box_speed_avg_10', 'box_split_speed_avg_10', 'box_split_margin_avg_10', 'box_margin_avg_10', 'box_margin_time_avg_10', 'box_RunHomeTime_10', 'box_run_home_speed_10', 'box_first_out_avg_10', 'box_pos_out_avg_10', 'box_post_change_avg_10', 'box_races_10', 'box_wins_10', 'box_wins_last_10', 'box_weight_', 'box_min_time_', 'box_min_split_time_', 'box_last_start_price', 'box_last_start_prob', 'track_box_dist_last__10', 'track_box_box_last__10', 'track_box_speed_avg_10', 'track_box_split_speed_avg_10', 'track_box_split_margin_avg_10', 'track_box_margin_avg_10', 'track_box_margin_time_avg_10', 'track_box_RunHomeTime_10', 'track_box_run_home_speed_10', 'track_box_first_out_avg_10', 'track_box_pos_out_avg_10', 'track_box_post_change_avg_10', 'track_box_races_10', 'track_box_wins_10', 'track_box_wins_last_10', 'track_box_weight_', 'track_box_min_time_', 'track_box_min_split_time_', 'track_box_last_start_price', 'track_box_last_start_prob', 'track_dist_dist_last__10', 'track_dist_box_last__10', 'track_dist_speed_avg_10', 'track_dist_split_speed_avg_10', 'track_dist_split_margin_avg_10', 'track_dist_margin_avg_10', 'track_dist_margin_time_avg_10', 'track_dist_RunHomeTime_10', 'track_dist_run_home_speed_10', 'track_dist_first_out_avg_10', 'track_dist_pos_out_avg_10', 'track_dist_post_change_avg_10', 'track_dist_races_10', 'track_dist_wins_10', 'track_dist_wins_last_10', 'track_dist_weight_', 'track_dist_min_time_', 'track_dist_min_split_time_', 'track_dist_last_start_price', 'track_dist_last_start_prob'], 'races': ['NZ'], 'datafile': './data/gru_inputs_kitchen_sink_new_not_simple.fth', 'latest_date': '2024-01-31T00:00:00', 'input_type': 'basic', 'num_layers': 2, 'batch_size': 750, 'dropout': 0.3, 'epochs': 250, 'learning_rate': 0.001, 'optimizer': 'adamW', 'f0_layer_size': 128, 'f1_layer_size': 64, 'training_date_end': '2023-01-01', 'notes': 'GRU, with basic add on data looped in', 'batch_days': 600, 'stat_list_dict': {'_dist_last__1': 1, '_box_last__1': 1, '_speed_avg_1': 1, '_split_speed_avg_1': 1, '_split_margin_avg_1': 1, '_margin_avg_1': 1, '_margin_time_avg_1': 1, '_RunHomeTime_1': 1, '_run_home_speed_1': 1, '_first_out_avg_1': 1, '_pos_out_avg_1': 1, '_post_change_avg_1': 1, '_races_1': 1, '_wins_1': 1, '_wins_last_1': 1, '_weight_': 1, '_min_time_': 1, '_min_split_time_': 1, '_last_start_price': 1, '_last_start_prob': 1}}\n",
      "basic\n",
      "1\n",
      "1\n",
      "1\n",
      "1\n",
      "1\n",
      "1\n",
      "1\n",
      "1\n",
      "1\n",
      "1\n",
      "1\n",
      "1\n",
      "1\n",
      "1\n",
      "1\n",
      "1\n",
      "1\n",
      "1\n",
      "1\n",
      "1\n",
      "[1, 1, 1, 1, 1, 1, 1, 1, 1, 1, 1, 1, 1, 1, 1, 1, 1, 1, 1, 1]\n",
      "data_mask_size=26\n",
      "tensor([ True,  True,  True,  True,  True,  True,  True,  True,  True,  True,\n",
      "         True,  True,  True,  True,  True,  True,  True,  True,  True,  True,\n",
      "         True,  True,  True,  True,  True,  True, False, False, False, False,\n",
      "        False, False, False, False, False, False, False, False, False, False,\n",
      "        False, False, False, False, False, False, False, False, False, False,\n",
      "        False, False, False, False, False, False, False, False, False, False,\n",
      "        False, False, False, False, False, False, False, False, False, False,\n",
      "        False, False, False, False, False, False, False, False, False, False,\n",
      "        False, False, False, False, False, False, False, False, False, False,\n",
      "        False, False, False, False, False, False, False, False, False, False,\n",
      "        False, False, False, False, False, False], device='cuda:0')\n",
      "torch.Size([106])\n",
      "Train examples 4909, Test examples 2423, Val examples 2833\n"
     ]
    },
    {
     "name": "stderr",
     "output_type": "stream",
     "text": [
      "100%|██████████| 2425/2425 [00:00<00:00, 55118.83it/s]\n",
      "100%|██████████| 2426/2426 [00:01<00:00, 1378.41it/s]\n"
     ]
    },
    {
     "name": "stdout",
     "output_type": "stream",
     "text": [
      "[(datetime.date(2019, 12, 1), datetime.date(2021, 7, 23)), (datetime.date(2021, 7, 23), datetime.date(2022, 12, 31))]\n",
      "2021-07-23\n",
      "2022-12-31\n",
      "Train examples [4908]\n"
     ]
    },
    {
     "name": "stderr",
     "output_type": "stream",
     "text": [
      "100%|██████████| 2425/2425 [00:01<00:00, 2000.83it/s]\n",
      "100%|██████████| 1/1 [00:01<00:00,  1.22s/it]\n"
     ]
    },
    {
     "name": "stdout",
     "output_type": "stream",
     "text": [
      "Train examples [1771]\n",
      "Train examples [1771]\n",
      "Train examples [4908]\n",
      "Train examples [4908]\n",
      "here\n",
      "input_size=26\n"
     ]
    },
    {
     "name": "stderr",
     "output_type": "stream",
     "text": [
      "C:\\Users\\Nick\\AppData\\Local\\Temp\\ipykernel_16600\\3542074422.py:70: UserWarning: To copy construct from a tensor, it is recommended to use sourceTensor.clone().detach() or sourceTensor.clone().detach().requires_grad_(True), rather than torch.tensor(sourceTensor).\n",
      "  config['stat_mask_tensor'] = torch.tensor(stat_mask, dtype=torch.uint8).to(device)\n",
      "c:\\Users\\Nick\\.conda\\envs\\python311\\Lib\\site-packages\\torch\\nn\\modules\\lazy.py:180: UserWarning: Lazy modules are a new feature under heavy development so changes to the API or functionality can happen at any moment.\n",
      "  warnings.warn('Lazy modules are a new feature under heavy development '\n"
     ]
    },
    {
     "name": "stdout",
     "output_type": "stream",
     "text": [
      "GRUNetv3_extra(\n",
      "  (gru): GRU(26, 256, num_layers=2, dropout=0.3)\n",
      "  (relu): ReLU()\n",
      "  (fc0): Linear(in_features=2630, out_features=2048, bias=True)\n",
      "  (batch_norm): BatchNorm1d(26, eps=1e-05, momentum=0.1, affine=True, track_running_stats=True)\n",
      "  (batch_norm_data): BatchNorm1d(26, eps=1e-05, momentum=0.1, affine=True, track_running_stats=True)\n",
      "  (extra_1): GRUNetv3_simple_extra_data(\n",
      "    (batch_norm): LazyBatchNorm1d(0, eps=1e-05, momentum=0.1, affine=True, track_running_stats=True)\n",
      "    (relu): ReLU()\n",
      "    (fc0_p1): LazyLinear(in_features=0, out_features=128, bias=True)\n",
      "    (fc0_p1_drop): Dropout(p=0.3, inplace=False)\n",
      "    (fc0_p2): Linear(in_features=128, out_features=64, bias=True)\n",
      "    (fc0_p2_drop): Dropout(p=0.3, inplace=False)\n",
      "    (fc0_p3): Linear(in_features=64, out_features=64, bias=True)\n",
      "    (fc0_p3_drop): Dropout(p=0.3, inplace=False)\n",
      "  )\n",
      "  (fc0_p1): Linear(in_features=512, out_features=256, bias=True)\n",
      "  (fc0_p1_drop): Dropout(p=0.3, inplace=False)\n",
      "  (fc0_p2): Linear(in_features=256, out_features=256, bias=True)\n",
      "  (fc0_p2_drop): Dropout(p=0.3, inplace=False)\n",
      "  (fc0_p3): Linear(in_features=256, out_features=256, bias=True)\n",
      "  (fc0_p3_drop): Dropout(p=0.3, inplace=False)\n",
      "  (relu0): ReLU()\n",
      "  (drop1): Dropout(p=0.3, inplace=False)\n",
      "  (fc1): Linear(in_features=2048, out_features=1024, bias=True)\n",
      "  (drop2): Dropout(p=0.3, inplace=False)\n",
      "  (fc2): Linear(in_features=1024, out_features=64, bias=True)\n",
      "  (drop3): Dropout(p=0.3, inplace=False)\n",
      "  (fc3): Linear(in_features=64, out_features=8, bias=True)\n",
      "  (output_fn): Identity()\n",
      ")\n"
     ]
    },
    {
     "name": "stderr",
     "output_type": "stream",
     "text": [
      "  0%|          | 0/250 [00:00<?, ?it/s]"
     ]
    },
    {
     "name": "stdout",
     "output_type": "stream",
     "text": [
      "output.shape=torch.Size([2423, 8])\n",
      "output.shape=torch.Size([2833, 8])\n",
      "created path\n"
     ]
    },
    {
     "name": "stderr",
     "output_type": "stream",
     "text": [
      "  1%|          | 3/250 [00:39<41:18, 10.03s/it]  "
     ]
    },
    {
     "name": "stdout",
     "output_type": "stream",
     "text": [
      "output.shape=torch.Size([2423, 8])\n",
      "output.shape=torch.Size([2833, 8])\n"
     ]
    },
    {
     "name": "stderr",
     "output_type": "stream",
     "text": [
      "  2%|▏         | 6/250 [01:25<45:31, 11.20s/it]  "
     ]
    },
    {
     "name": "stdout",
     "output_type": "stream",
     "text": [
      "output.shape=torch.Size([2423, 8])\n",
      "output.shape=torch.Size([2833, 8])\n"
     ]
    },
    {
     "name": "stderr",
     "output_type": "stream",
     "text": [
      "  4%|▎         | 9/250 [02:11<45:55, 11.44s/it]  "
     ]
    },
    {
     "name": "stdout",
     "output_type": "stream",
     "text": [
      "output.shape=torch.Size([2423, 8])\n",
      "output.shape=torch.Size([2833, 8])\n"
     ]
    },
    {
     "name": "stderr",
     "output_type": "stream",
     "text": [
      "  5%|▍         | 12/250 [03:02<48:52, 12.32s/it]  "
     ]
    },
    {
     "name": "stdout",
     "output_type": "stream",
     "text": [
      "output.shape=torch.Size([2423, 8])\n",
      "output.shape=torch.Size([2833, 8])\n"
     ]
    },
    {
     "name": "stderr",
     "output_type": "stream",
     "text": [
      "  6%|▌         | 15/250 [03:52<48:15, 12.32s/it]  "
     ]
    },
    {
     "name": "stdout",
     "output_type": "stream",
     "text": [
      "output.shape=torch.Size([2423, 8])\n",
      "output.shape=torch.Size([2833, 8])\n"
     ]
    },
    {
     "name": "stderr",
     "output_type": "stream",
     "text": [
      "  7%|▋         | 18/250 [04:38<45:14, 11.70s/it]  "
     ]
    },
    {
     "name": "stdout",
     "output_type": "stream",
     "text": [
      "output.shape=torch.Size([2423, 8])\n",
      "output.shape=torch.Size([2833, 8])\n"
     ]
    },
    {
     "name": "stderr",
     "output_type": "stream",
     "text": [
      "  8%|▊         | 21/250 [05:24<43:39, 11.44s/it]  "
     ]
    },
    {
     "name": "stdout",
     "output_type": "stream",
     "text": [
      "output.shape=torch.Size([2423, 8])\n",
      "output.shape=torch.Size([2833, 8])\n"
     ]
    },
    {
     "name": "stderr",
     "output_type": "stream",
     "text": [
      " 10%|▉         | 24/250 [06:08<42:04, 11.17s/it]  "
     ]
    },
    {
     "name": "stdout",
     "output_type": "stream",
     "text": [
      "output.shape=torch.Size([2423, 8])\n",
      "output.shape=torch.Size([2833, 8])\n"
     ]
    },
    {
     "name": "stderr",
     "output_type": "stream",
     "text": [
      " 11%|█         | 27/250 [06:54<42:00, 11.30s/it]  "
     ]
    },
    {
     "name": "stdout",
     "output_type": "stream",
     "text": [
      "output.shape=torch.Size([2423, 8])\n",
      "output.shape=torch.Size([2833, 8])\n"
     ]
    },
    {
     "name": "stderr",
     "output_type": "stream",
     "text": [
      " 12%|█▏        | 30/250 [07:40<41:29, 11.32s/it]  "
     ]
    },
    {
     "name": "stdout",
     "output_type": "stream",
     "text": [
      "output.shape=torch.Size([2423, 8])\n",
      "output.shape=torch.Size([2833, 8])\n"
     ]
    },
    {
     "name": "stderr",
     "output_type": "stream",
     "text": [
      " 13%|█▎        | 33/250 [09:16<1:08:05, 18.83s/it]"
     ]
    },
    {
     "name": "stdout",
     "output_type": "stream",
     "text": [
      "output.shape=torch.Size([2423, 8])\n",
      "output.shape=torch.Size([2833, 8])\n"
     ]
    },
    {
     "name": "stderr",
     "output_type": "stream",
     "text": [
      " 14%|█▍        | 36/250 [10:09<53:58, 15.13s/it]  "
     ]
    },
    {
     "name": "stdout",
     "output_type": "stream",
     "text": [
      "output.shape=torch.Size([2423, 8])\n",
      "output.shape=torch.Size([2833, 8])\n"
     ]
    },
    {
     "name": "stderr",
     "output_type": "stream",
     "text": [
      " 16%|█▌        | 39/250 [10:51<42:38, 12.12s/it]  "
     ]
    },
    {
     "name": "stdout",
     "output_type": "stream",
     "text": [
      "output.shape=torch.Size([2423, 8])\n",
      "output.shape=torch.Size([2833, 8])\n"
     ]
    },
    {
     "name": "stderr",
     "output_type": "stream",
     "text": [
      " 17%|█▋        | 42/250 [11:29<36:11, 10.44s/it]  "
     ]
    },
    {
     "name": "stdout",
     "output_type": "stream",
     "text": [
      "output.shape=torch.Size([2423, 8])\n",
      "output.shape=torch.Size([2833, 8])\n"
     ]
    },
    {
     "name": "stderr",
     "output_type": "stream",
     "text": [
      " 18%|█▊        | 45/250 [12:07<34:17, 10.04s/it]"
     ]
    },
    {
     "name": "stdout",
     "output_type": "stream",
     "text": [
      "output.shape=torch.Size([2423, 8])\n",
      "output.shape=torch.Size([2833, 8])\n"
     ]
    },
    {
     "name": "stderr",
     "output_type": "stream",
     "text": [
      " 19%|█▉        | 48/250 [12:44<32:32,  9.67s/it]"
     ]
    },
    {
     "name": "stdout",
     "output_type": "stream",
     "text": [
      "output.shape=torch.Size([2423, 8])\n",
      "output.shape=torch.Size([2833, 8])\n"
     ]
    },
    {
     "name": "stderr",
     "output_type": "stream",
     "text": [
      " 20%|██        | 51/250 [13:21<31:42,  9.56s/it]"
     ]
    },
    {
     "name": "stdout",
     "output_type": "stream",
     "text": [
      "output.shape=torch.Size([2423, 8])\n",
      "output.shape=torch.Size([2833, 8])\n"
     ]
    },
    {
     "name": "stderr",
     "output_type": "stream",
     "text": [
      " 22%|██▏       | 54/250 [13:59<31:13,  9.56s/it]"
     ]
    },
    {
     "name": "stdout",
     "output_type": "stream",
     "text": [
      "output.shape=torch.Size([2423, 8])\n",
      "output.shape=torch.Size([2833, 8])\n"
     ]
    },
    {
     "name": "stderr",
     "output_type": "stream",
     "text": [
      " 23%|██▎       | 57/250 [14:36<30:38,  9.53s/it]"
     ]
    },
    {
     "name": "stdout",
     "output_type": "stream",
     "text": [
      "output.shape=torch.Size([2423, 8])\n",
      "output.shape=torch.Size([2833, 8])\n"
     ]
    },
    {
     "name": "stderr",
     "output_type": "stream",
     "text": [
      " 24%|██▍       | 60/250 [15:13<29:52,  9.43s/it]"
     ]
    },
    {
     "name": "stdout",
     "output_type": "stream",
     "text": [
      "output.shape=torch.Size([2423, 8])\n",
      "output.shape=torch.Size([2833, 8])\n"
     ]
    },
    {
     "name": "stderr",
     "output_type": "stream",
     "text": [
      " 25%|██▌       | 63/250 [15:55<31:59, 10.26s/it]"
     ]
    },
    {
     "name": "stdout",
     "output_type": "stream",
     "text": [
      "output.shape=torch.Size([2423, 8])\n",
      "output.shape=torch.Size([2833, 8])\n"
     ]
    },
    {
     "name": "stderr",
     "output_type": "stream",
     "text": [
      " 26%|██▋       | 66/250 [16:33<29:49,  9.72s/it]"
     ]
    },
    {
     "name": "stdout",
     "output_type": "stream",
     "text": [
      "output.shape=torch.Size([2423, 8])\n",
      "output.shape=torch.Size([2833, 8])\n"
     ]
    },
    {
     "name": "stderr",
     "output_type": "stream",
     "text": [
      " 28%|██▊       | 69/250 [17:10<29:05,  9.64s/it]"
     ]
    },
    {
     "name": "stdout",
     "output_type": "stream",
     "text": [
      "output.shape=torch.Size([2423, 8])\n",
      "output.shape=torch.Size([2833, 8])\n"
     ]
    },
    {
     "name": "stderr",
     "output_type": "stream",
     "text": [
      " 29%|██▉       | 72/250 [17:52<30:21, 10.23s/it]"
     ]
    },
    {
     "name": "stdout",
     "output_type": "stream",
     "text": [
      "output.shape=torch.Size([2423, 8])\n",
      "output.shape=torch.Size([2833, 8])\n"
     ]
    },
    {
     "name": "stderr",
     "output_type": "stream",
     "text": [
      " 30%|███       | 75/250 [18:32<29:25, 10.09s/it]"
     ]
    },
    {
     "name": "stdout",
     "output_type": "stream",
     "text": [
      "output.shape=torch.Size([2423, 8])\n",
      "output.shape=torch.Size([2833, 8])\n"
     ]
    },
    {
     "name": "stderr",
     "output_type": "stream",
     "text": [
      " 31%|███       | 78/250 [19:13<29:39, 10.35s/it]"
     ]
    },
    {
     "name": "stdout",
     "output_type": "stream",
     "text": [
      "output.shape=torch.Size([2423, 8])\n",
      "[Errno 2] No such file or directory: 'C:\\\\Users\\\\Nick\\\\AppData\\\\Local\\\\Temp\\\\tmpf95yszgpwandb-media\\\\daoc5bd4.table.json'\n",
      "output.shape=torch.Size([2833, 8])\n",
      "[Errno 2] No such file or directory: 'C:\\\\Users\\\\Nick\\\\AppData\\\\Local\\\\Temp\\\\tmpf95yszgpwandb-media\\\\zeaaqi2e.table.json'\n"
     ]
    },
    {
     "name": "stderr",
     "output_type": "stream",
     "text": [
      " 32%|███▏      | 81/250 [19:52<28:28, 10.11s/it]"
     ]
    },
    {
     "name": "stdout",
     "output_type": "stream",
     "text": [
      "output.shape=torch.Size([2423, 8])\n",
      "[Errno 2] No such file or directory: 'C:\\\\Users\\\\Nick\\\\AppData\\\\Local\\\\Temp\\\\tmpf95yszgpwandb-media\\\\ee8bjd9b.table.json'\n",
      "output.shape=torch.Size([2833, 8])\n",
      "[Errno 2] No such file or directory: 'C:\\\\Users\\\\Nick\\\\AppData\\\\Local\\\\Temp\\\\tmpf95yszgpwandb-media\\\\aw691ejw.table.json'\n"
     ]
    },
    {
     "name": "stderr",
     "output_type": "stream",
     "text": [
      " 34%|███▎      | 84/250 [20:27<25:49,  9.33s/it]"
     ]
    },
    {
     "name": "stdout",
     "output_type": "stream",
     "text": [
      "output.shape=torch.Size([2423, 8])\n",
      "[Errno 2] No such file or directory: 'C:\\\\Users\\\\Nick\\\\AppData\\\\Local\\\\Temp\\\\tmpf95yszgpwandb-media\\\\h9qf2p4b.table.json'\n",
      "output.shape=torch.Size([2833, 8])\n",
      "[Errno 2] No such file or directory: 'C:\\\\Users\\\\Nick\\\\AppData\\\\Local\\\\Temp\\\\tmpf95yszgpwandb-media\\\\9m7rxhul.table.json'\n"
     ]
    },
    {
     "name": "stderr",
     "output_type": "stream",
     "text": [
      " 35%|███▍      | 87/250 [21:01<24:11,  8.90s/it]"
     ]
    },
    {
     "name": "stdout",
     "output_type": "stream",
     "text": [
      "output.shape=torch.Size([2423, 8])\n",
      "[Errno 2] No such file or directory: 'C:\\\\Users\\\\Nick\\\\AppData\\\\Local\\\\Temp\\\\tmpf95yszgpwandb-media\\\\4tl1mdol.table.json'\n",
      "output.shape=torch.Size([2833, 8])\n",
      "[Errno 2] No such file or directory: 'C:\\\\Users\\\\Nick\\\\AppData\\\\Local\\\\Temp\\\\tmpf95yszgpwandb-media\\\\5i9jlwae.table.json'\n"
     ]
    },
    {
     "name": "stderr",
     "output_type": "stream",
     "text": [
      " 36%|███▌      | 90/250 [21:34<23:15,  8.72s/it]"
     ]
    },
    {
     "name": "stdout",
     "output_type": "stream",
     "text": [
      "output.shape=torch.Size([2423, 8])\n",
      "[Errno 2] No such file or directory: 'C:\\\\Users\\\\Nick\\\\AppData\\\\Local\\\\Temp\\\\tmpf95yszgpwandb-media\\\\ytz9h6sl.table.json'\n",
      "output.shape=torch.Size([2833, 8])\n",
      "[Errno 2] No such file or directory: 'C:\\\\Users\\\\Nick\\\\AppData\\\\Local\\\\Temp\\\\tmpf95yszgpwandb-media\\\\7vo961fc.table.json'\n"
     ]
    },
    {
     "name": "stderr",
     "output_type": "stream",
     "text": [
      " 37%|███▋      | 93/250 [22:08<22:50,  8.73s/it]"
     ]
    },
    {
     "name": "stdout",
     "output_type": "stream",
     "text": [
      "output.shape=torch.Size([2423, 8])\n",
      "[Errno 2] No such file or directory: 'C:\\\\Users\\\\Nick\\\\AppData\\\\Local\\\\Temp\\\\tmpf95yszgpwandb-media\\\\gvv85x4v.table.json'\n",
      "output.shape=torch.Size([2833, 8])\n",
      "[Errno 2] No such file or directory: 'C:\\\\Users\\\\Nick\\\\AppData\\\\Local\\\\Temp\\\\tmpf95yszgpwandb-media\\\\jtip35wb.table.json'\n"
     ]
    },
    {
     "name": "stderr",
     "output_type": "stream",
     "text": [
      " 38%|███▊      | 96/250 [22:41<21:55,  8.54s/it]"
     ]
    },
    {
     "name": "stdout",
     "output_type": "stream",
     "text": [
      "output.shape=torch.Size([2423, 8])\n",
      "[Errno 2] No such file or directory: 'C:\\\\Users\\\\Nick\\\\AppData\\\\Local\\\\Temp\\\\tmpf95yszgpwandb-media\\\\z5csd31p.table.json'\n",
      "output.shape=torch.Size([2833, 8])\n",
      "[Errno 2] No such file or directory: 'C:\\\\Users\\\\Nick\\\\AppData\\\\Local\\\\Temp\\\\tmpf95yszgpwandb-media\\\\chc66keh.table.json'\n"
     ]
    },
    {
     "name": "stderr",
     "output_type": "stream",
     "text": [
      " 40%|███▉      | 99/250 [23:18<23:57,  9.52s/it]"
     ]
    },
    {
     "name": "stdout",
     "output_type": "stream",
     "text": [
      "output.shape=torch.Size([2423, 8])\n",
      "[Errno 2] No such file or directory: 'C:\\\\Users\\\\Nick\\\\AppData\\\\Local\\\\Temp\\\\tmpf95yszgpwandb-media\\\\70ifr63e.table.json'\n",
      "output.shape=torch.Size([2833, 8])\n",
      "[Errno 2] No such file or directory: 'C:\\\\Users\\\\Nick\\\\AppData\\\\Local\\\\Temp\\\\tmpf95yszgpwandb-media\\\\aavxsd6v.table.json'\n"
     ]
    },
    {
     "name": "stderr",
     "output_type": "stream",
     "text": [
      " 41%|████      | 102/250 [23:57<24:03,  9.75s/it]"
     ]
    },
    {
     "name": "stdout",
     "output_type": "stream",
     "text": [
      "output.shape=torch.Size([2423, 8])\n",
      "[Errno 2] No such file or directory: 'C:\\\\Users\\\\Nick\\\\AppData\\\\Local\\\\Temp\\\\tmpf95yszgpwandb-media\\\\uitwnxtw.table.json'\n",
      "output.shape=torch.Size([2833, 8])\n",
      "[Errno 2] No such file or directory: 'C:\\\\Users\\\\Nick\\\\AppData\\\\Local\\\\Temp\\\\tmpf95yszgpwandb-media\\\\36rlx3f5.table.json'\n"
     ]
    },
    {
     "name": "stderr",
     "output_type": "stream",
     "text": [
      " 42%|████▏     | 105/250 [24:33<22:51,  9.46s/it]"
     ]
    },
    {
     "name": "stdout",
     "output_type": "stream",
     "text": [
      "output.shape=torch.Size([2423, 8])\n",
      "[Errno 2] No such file or directory: 'C:\\\\Users\\\\Nick\\\\AppData\\\\Local\\\\Temp\\\\tmpf95yszgpwandb-media\\\\netx08kb.table.json'\n",
      "output.shape=torch.Size([2833, 8])\n",
      "[Errno 2] No such file or directory: 'C:\\\\Users\\\\Nick\\\\AppData\\\\Local\\\\Temp\\\\tmpf95yszgpwandb-media\\\\i67hf78d.table.json'\n"
     ]
    },
    {
     "name": "stderr",
     "output_type": "stream",
     "text": [
      " 43%|████▎     | 108/250 [25:10<23:00,  9.72s/it]"
     ]
    },
    {
     "name": "stdout",
     "output_type": "stream",
     "text": [
      "output.shape=torch.Size([2423, 8])\n",
      "[Errno 2] No such file or directory: 'C:\\\\Users\\\\Nick\\\\AppData\\\\Local\\\\Temp\\\\tmpf95yszgpwandb-media\\\\e7ex36w4.table.json'\n",
      "output.shape=torch.Size([2833, 8])\n",
      "[Errno 2] No such file or directory: 'C:\\\\Users\\\\Nick\\\\AppData\\\\Local\\\\Temp\\\\tmpf95yszgpwandb-media\\\\gaaanhqd.table.json'\n"
     ]
    },
    {
     "name": "stderr",
     "output_type": "stream",
     "text": [
      " 44%|████▍     | 111/250 [25:45<21:12,  9.15s/it]"
     ]
    },
    {
     "name": "stdout",
     "output_type": "stream",
     "text": [
      "output.shape=torch.Size([2423, 8])\n",
      "[Errno 2] No such file or directory: 'C:\\\\Users\\\\Nick\\\\AppData\\\\Local\\\\Temp\\\\tmpf95yszgpwandb-media\\\\1i9q7e09.table.json'\n",
      "output.shape=torch.Size([2833, 8])\n",
      "[Errno 2] No such file or directory: 'C:\\\\Users\\\\Nick\\\\AppData\\\\Local\\\\Temp\\\\tmpf95yszgpwandb-media\\\\ocohd5ec.table.json'\n"
     ]
    },
    {
     "name": "stderr",
     "output_type": "stream",
     "text": [
      " 46%|████▌     | 114/250 [26:20<20:27,  9.02s/it]"
     ]
    },
    {
     "name": "stdout",
     "output_type": "stream",
     "text": [
      "output.shape=torch.Size([2423, 8])\n",
      "[Errno 2] No such file or directory: 'C:\\\\Users\\\\Nick\\\\AppData\\\\Local\\\\Temp\\\\tmpf95yszgpwandb-media\\\\4nnrzqrg.table.json'\n",
      "output.shape=torch.Size([2833, 8])\n",
      "[Errno 2] No such file or directory: 'C:\\\\Users\\\\Nick\\\\AppData\\\\Local\\\\Temp\\\\tmpf95yszgpwandb-media\\\\5fxixp4b.table.json'\n"
     ]
    },
    {
     "name": "stderr",
     "output_type": "stream",
     "text": [
      " 47%|████▋     | 117/250 [26:53<19:20,  8.72s/it]"
     ]
    },
    {
     "name": "stdout",
     "output_type": "stream",
     "text": [
      "output.shape=torch.Size([2423, 8])\n",
      "[Errno 2] No such file or directory: 'C:\\\\Users\\\\Nick\\\\AppData\\\\Local\\\\Temp\\\\tmpf95yszgpwandb-media\\\\we43i0d9.table.json'\n",
      "output.shape=torch.Size([2833, 8])\n",
      "[Errno 2] No such file or directory: 'C:\\\\Users\\\\Nick\\\\AppData\\\\Local\\\\Temp\\\\tmpf95yszgpwandb-media\\\\9scahnpk.table.json'\n"
     ]
    },
    {
     "name": "stderr",
     "output_type": "stream",
     "text": [
      " 48%|████▊     | 120/250 [27:27<19:07,  8.83s/it]"
     ]
    },
    {
     "name": "stdout",
     "output_type": "stream",
     "text": [
      "output.shape=torch.Size([2423, 8])\n",
      "[Errno 2] No such file or directory: 'C:\\\\Users\\\\Nick\\\\AppData\\\\Local\\\\Temp\\\\tmpf95yszgpwandb-media\\\\34ll0c3i.table.json'\n",
      "output.shape=torch.Size([2833, 8])\n",
      "[Errno 2] No such file or directory: 'C:\\\\Users\\\\Nick\\\\AppData\\\\Local\\\\Temp\\\\tmpf95yszgpwandb-media\\\\qdzuar6q.table.json'\n"
     ]
    },
    {
     "name": "stderr",
     "output_type": "stream",
     "text": [
      " 49%|████▉     | 123/250 [28:03<19:10,  9.06s/it]"
     ]
    },
    {
     "name": "stdout",
     "output_type": "stream",
     "text": [
      "output.shape=torch.Size([2423, 8])\n",
      "[Errno 2] No such file or directory: 'C:\\\\Users\\\\Nick\\\\AppData\\\\Local\\\\Temp\\\\tmpf95yszgpwandb-media\\\\20ncktg4.table.json'\n",
      "output.shape=torch.Size([2833, 8])\n",
      "[Errno 2] No such file or directory: 'C:\\\\Users\\\\Nick\\\\AppData\\\\Local\\\\Temp\\\\tmpf95yszgpwandb-media\\\\qlucvga8.table.json'\n"
     ]
    },
    {
     "name": "stderr",
     "output_type": "stream",
     "text": [
      " 50%|█████     | 126/250 [28:38<18:51,  9.13s/it]"
     ]
    },
    {
     "name": "stdout",
     "output_type": "stream",
     "text": [
      "output.shape=torch.Size([2423, 8])\n",
      "[Errno 2] No such file or directory: 'C:\\\\Users\\\\Nick\\\\AppData\\\\Local\\\\Temp\\\\tmpf95yszgpwandb-media\\\\dg030sko.table.json'\n",
      "output.shape=torch.Size([2833, 8])\n",
      "[Errno 2] No such file or directory: 'C:\\\\Users\\\\Nick\\\\AppData\\\\Local\\\\Temp\\\\tmpf95yszgpwandb-media\\\\3l9t6ptf.table.json'\n"
     ]
    },
    {
     "name": "stderr",
     "output_type": "stream",
     "text": [
      " 52%|█████▏    | 129/250 [29:14<18:44,  9.30s/it]"
     ]
    },
    {
     "name": "stdout",
     "output_type": "stream",
     "text": [
      "output.shape=torch.Size([2423, 8])\n",
      "[Errno 2] No such file or directory: 'C:\\\\Users\\\\Nick\\\\AppData\\\\Local\\\\Temp\\\\tmpf95yszgpwandb-media\\\\9ztjvar4.table.json'\n",
      "output.shape=torch.Size([2833, 8])\n",
      "[Errno 2] No such file or directory: 'C:\\\\Users\\\\Nick\\\\AppData\\\\Local\\\\Temp\\\\tmpf95yszgpwandb-media\\\\cedpmprk.table.json'\n"
     ]
    },
    {
     "name": "stderr",
     "output_type": "stream",
     "text": [
      " 53%|█████▎    | 132/250 [29:52<18:47,  9.56s/it]"
     ]
    },
    {
     "name": "stdout",
     "output_type": "stream",
     "text": [
      "output.shape=torch.Size([2423, 8])\n",
      "[Errno 2] No such file or directory: 'C:\\\\Users\\\\Nick\\\\AppData\\\\Local\\\\Temp\\\\tmpf95yszgpwandb-media\\\\vqohp3oh.table.json'\n",
      "output.shape=torch.Size([2833, 8])\n",
      "[Errno 2] No such file or directory: 'C:\\\\Users\\\\Nick\\\\AppData\\\\Local\\\\Temp\\\\tmpf95yszgpwandb-media\\\\0c7824qs.table.json'\n"
     ]
    },
    {
     "name": "stderr",
     "output_type": "stream",
     "text": [
      " 54%|█████▍    | 135/250 [30:28<18:02,  9.42s/it]"
     ]
    },
    {
     "name": "stdout",
     "output_type": "stream",
     "text": [
      "output.shape=torch.Size([2423, 8])\n",
      "[Errno 2] No such file or directory: 'C:\\\\Users\\\\Nick\\\\AppData\\\\Local\\\\Temp\\\\tmpf95yszgpwandb-media\\\\ti4spxv9.table.json'\n",
      "output.shape=torch.Size([2833, 8])\n",
      "[Errno 2] No such file or directory: 'C:\\\\Users\\\\Nick\\\\AppData\\\\Local\\\\Temp\\\\tmpf95yszgpwandb-media\\\\g4xeq748.table.json'\n"
     ]
    },
    {
     "name": "stderr",
     "output_type": "stream",
     "text": [
      " 55%|█████▌    | 138/250 [31:03<17:05,  9.16s/it]"
     ]
    },
    {
     "name": "stdout",
     "output_type": "stream",
     "text": [
      "output.shape=torch.Size([2423, 8])\n",
      "[Errno 2] No such file or directory: 'C:\\\\Users\\\\Nick\\\\AppData\\\\Local\\\\Temp\\\\tmpf95yszgpwandb-media\\\\xdz4ymd7.table.json'\n",
      "output.shape=torch.Size([2833, 8])\n",
      "[Errno 2] No such file or directory: 'C:\\\\Users\\\\Nick\\\\AppData\\\\Local\\\\Temp\\\\tmpf95yszgpwandb-media\\\\yru1hce4.table.json'\n"
     ]
    },
    {
     "name": "stderr",
     "output_type": "stream",
     "text": [
      " 56%|█████▋    | 141/250 [31:40<17:08,  9.44s/it]"
     ]
    },
    {
     "name": "stdout",
     "output_type": "stream",
     "text": [
      "output.shape=torch.Size([2423, 8])\n",
      "[Errno 2] No such file or directory: 'C:\\\\Users\\\\Nick\\\\AppData\\\\Local\\\\Temp\\\\tmpf95yszgpwandb-media\\\\07zfytnz.table.json'\n",
      "output.shape=torch.Size([2833, 8])\n",
      "[Errno 2] No such file or directory: 'C:\\\\Users\\\\Nick\\\\AppData\\\\Local\\\\Temp\\\\tmpf95yszgpwandb-media\\\\pep568i4.table.json'\n"
     ]
    },
    {
     "name": "stderr",
     "output_type": "stream",
     "text": [
      " 58%|█████▊    | 144/250 [32:14<16:06,  9.12s/it]"
     ]
    },
    {
     "name": "stdout",
     "output_type": "stream",
     "text": [
      "output.shape=torch.Size([2423, 8])\n",
      "[Errno 2] No such file or directory: 'C:\\\\Users\\\\Nick\\\\AppData\\\\Local\\\\Temp\\\\tmpf95yszgpwandb-media\\\\m8a1dnp2.table.json'\n",
      "output.shape=torch.Size([2833, 8])\n",
      "[Errno 2] No such file or directory: 'C:\\\\Users\\\\Nick\\\\AppData\\\\Local\\\\Temp\\\\tmpf95yszgpwandb-media\\\\hjnsb4q9.table.json'\n"
     ]
    },
    {
     "name": "stderr",
     "output_type": "stream",
     "text": [
      " 59%|█████▉    | 147/250 [32:47<14:59,  8.74s/it]"
     ]
    },
    {
     "name": "stdout",
     "output_type": "stream",
     "text": [
      "output.shape=torch.Size([2423, 8])\n",
      "[Errno 2] No such file or directory: 'C:\\\\Users\\\\Nick\\\\AppData\\\\Local\\\\Temp\\\\tmpf95yszgpwandb-media\\\\njppgy45.table.json'\n",
      "output.shape=torch.Size([2833, 8])\n",
      "[Errno 2] No such file or directory: 'C:\\\\Users\\\\Nick\\\\AppData\\\\Local\\\\Temp\\\\tmpf95yszgpwandb-media\\\\p2txhxgz.table.json'\n"
     ]
    },
    {
     "name": "stderr",
     "output_type": "stream",
     "text": [
      " 60%|██████    | 150/250 [33:22<15:02,  9.03s/it]"
     ]
    },
    {
     "name": "stdout",
     "output_type": "stream",
     "text": [
      "output.shape=torch.Size([2423, 8])\n",
      "[Errno 2] No such file or directory: 'C:\\\\Users\\\\Nick\\\\AppData\\\\Local\\\\Temp\\\\tmpf95yszgpwandb-media\\\\w6dyd9af.table.json'\n",
      "output.shape=torch.Size([2833, 8])\n",
      "[Errno 2] No such file or directory: 'C:\\\\Users\\\\Nick\\\\AppData\\\\Local\\\\Temp\\\\tmpf95yszgpwandb-media\\\\zwm4upgk.table.json'\n"
     ]
    },
    {
     "name": "stderr",
     "output_type": "stream",
     "text": [
      " 61%|██████    | 153/250 [33:57<14:26,  8.94s/it]"
     ]
    },
    {
     "name": "stdout",
     "output_type": "stream",
     "text": [
      "output.shape=torch.Size([2423, 8])\n",
      "[Errno 2] No such file or directory: 'C:\\\\Users\\\\Nick\\\\AppData\\\\Local\\\\Temp\\\\tmpf95yszgpwandb-media\\\\pmsd8bmj.table.json'\n",
      "output.shape=torch.Size([2833, 8])\n",
      "[Errno 2] No such file or directory: 'C:\\\\Users\\\\Nick\\\\AppData\\\\Local\\\\Temp\\\\tmpf95yszgpwandb-media\\\\a2hfuzbt.table.json'\n"
     ]
    },
    {
     "name": "stderr",
     "output_type": "stream",
     "text": [
      " 62%|██████▏   | 156/250 [34:34<14:41,  9.38s/it]"
     ]
    },
    {
     "name": "stdout",
     "output_type": "stream",
     "text": [
      "output.shape=torch.Size([2423, 8])\n",
      "[Errno 2] No such file or directory: 'C:\\\\Users\\\\Nick\\\\AppData\\\\Local\\\\Temp\\\\tmpf95yszgpwandb-media\\\\wb6slnd2.table.json'\n",
      "output.shape=torch.Size([2833, 8])\n",
      "[Errno 2] No such file or directory: 'C:\\\\Users\\\\Nick\\\\AppData\\\\Local\\\\Temp\\\\tmpf95yszgpwandb-media\\\\uqtnlrdi.table.json'\n"
     ]
    },
    {
     "name": "stderr",
     "output_type": "stream",
     "text": [
      " 64%|██████▎   | 159/250 [35:10<13:59,  9.22s/it]"
     ]
    },
    {
     "name": "stdout",
     "output_type": "stream",
     "text": [
      "output.shape=torch.Size([2423, 8])\n",
      "[Errno 2] No such file or directory: 'C:\\\\Users\\\\Nick\\\\AppData\\\\Local\\\\Temp\\\\tmpf95yszgpwandb-media\\\\mjlkvhx9.table.json'\n",
      "output.shape=torch.Size([2833, 8])\n",
      "[Errno 2] No such file or directory: 'C:\\\\Users\\\\Nick\\\\AppData\\\\Local\\\\Temp\\\\tmpf95yszgpwandb-media\\\\0od5vwf6.table.json'\n"
     ]
    },
    {
     "name": "stderr",
     "output_type": "stream",
     "text": [
      " 65%|██████▍   | 162/250 [35:44<13:13,  9.01s/it]"
     ]
    },
    {
     "name": "stdout",
     "output_type": "stream",
     "text": [
      "output.shape=torch.Size([2423, 8])\n",
      "[Errno 2] No such file or directory: 'C:\\\\Users\\\\Nick\\\\AppData\\\\Local\\\\Temp\\\\tmpf95yszgpwandb-media\\\\nleyogfo.table.json'\n",
      "output.shape=torch.Size([2833, 8])\n",
      "[Errno 2] No such file or directory: 'C:\\\\Users\\\\Nick\\\\AppData\\\\Local\\\\Temp\\\\tmpf95yszgpwandb-media\\\\eypexgqc.table.json'\n"
     ]
    },
    {
     "name": "stderr",
     "output_type": "stream",
     "text": [
      " 66%|██████▌   | 165/250 [36:21<13:02,  9.21s/it]"
     ]
    },
    {
     "name": "stdout",
     "output_type": "stream",
     "text": [
      "output.shape=torch.Size([2423, 8])\n",
      "[Errno 2] No such file or directory: 'C:\\\\Users\\\\Nick\\\\AppData\\\\Local\\\\Temp\\\\tmpf95yszgpwandb-media\\\\7157y12t.table.json'\n",
      "output.shape=torch.Size([2833, 8])\n",
      "[Errno 2] No such file or directory: 'C:\\\\Users\\\\Nick\\\\AppData\\\\Local\\\\Temp\\\\tmpf95yszgpwandb-media\\\\uuhr37ic.table.json'\n"
     ]
    },
    {
     "name": "stderr",
     "output_type": "stream",
     "text": [
      " 67%|██████▋   | 168/250 [36:54<11:55,  8.73s/it]"
     ]
    },
    {
     "name": "stdout",
     "output_type": "stream",
     "text": [
      "output.shape=torch.Size([2423, 8])\n",
      "[Errno 2] No such file or directory: 'C:\\\\Users\\\\Nick\\\\AppData\\\\Local\\\\Temp\\\\tmpf95yszgpwandb-media\\\\d1vjhsen.table.json'\n",
      "output.shape=torch.Size([2833, 8])\n",
      "[Errno 2] No such file or directory: 'C:\\\\Users\\\\Nick\\\\AppData\\\\Local\\\\Temp\\\\tmpf95yszgpwandb-media\\\\x5mhty5f.table.json'\n"
     ]
    },
    {
     "name": "stderr",
     "output_type": "stream",
     "text": [
      " 68%|██████▊   | 171/250 [37:28<11:35,  8.80s/it]"
     ]
    },
    {
     "name": "stdout",
     "output_type": "stream",
     "text": [
      "output.shape=torch.Size([2423, 8])\n",
      "[Errno 2] No such file or directory: 'C:\\\\Users\\\\Nick\\\\AppData\\\\Local\\\\Temp\\\\tmpf95yszgpwandb-media\\\\2pmsxttr.table.json'\n",
      "output.shape=torch.Size([2833, 8])\n",
      "[Errno 2] No such file or directory: 'C:\\\\Users\\\\Nick\\\\AppData\\\\Local\\\\Temp\\\\tmpf95yszgpwandb-media\\\\9quasz2w.table.json'\n"
     ]
    },
    {
     "name": "stderr",
     "output_type": "stream",
     "text": [
      " 70%|██████▉   | 174/250 [38:02<11:04,  8.75s/it]"
     ]
    },
    {
     "name": "stdout",
     "output_type": "stream",
     "text": [
      "output.shape=torch.Size([2423, 8])\n",
      "[Errno 2] No such file or directory: 'C:\\\\Users\\\\Nick\\\\AppData\\\\Local\\\\Temp\\\\tmpf95yszgpwandb-media\\\\d6u07c8m.table.json'\n",
      "output.shape=torch.Size([2833, 8])\n",
      "[Errno 2] No such file or directory: 'C:\\\\Users\\\\Nick\\\\AppData\\\\Local\\\\Temp\\\\tmpf95yszgpwandb-media\\\\vrvpnwfe.table.json'\n"
     ]
    },
    {
     "name": "stderr",
     "output_type": "stream",
     "text": [
      " 71%|███████   | 177/250 [38:35<10:26,  8.58s/it]"
     ]
    },
    {
     "name": "stdout",
     "output_type": "stream",
     "text": [
      "output.shape=torch.Size([2423, 8])\n",
      "[Errno 2] No such file or directory: 'C:\\\\Users\\\\Nick\\\\AppData\\\\Local\\\\Temp\\\\tmpf95yszgpwandb-media\\\\2l3nxb67.table.json'\n",
      "output.shape=torch.Size([2833, 8])\n",
      "[Errno 2] No such file or directory: 'C:\\\\Users\\\\Nick\\\\AppData\\\\Local\\\\Temp\\\\tmpf95yszgpwandb-media\\\\zdvw6qu9.table.json'\n"
     ]
    },
    {
     "name": "stderr",
     "output_type": "stream",
     "text": [
      " 72%|███████▏  | 180/250 [39:08<10:01,  8.59s/it]"
     ]
    },
    {
     "name": "stdout",
     "output_type": "stream",
     "text": [
      "output.shape=torch.Size([2423, 8])\n",
      "[Errno 2] No such file or directory: 'C:\\\\Users\\\\Nick\\\\AppData\\\\Local\\\\Temp\\\\tmpf95yszgpwandb-media\\\\hjp3d8tm.table.json'\n",
      "output.shape=torch.Size([2833, 8])\n",
      "[Errno 2] No such file or directory: 'C:\\\\Users\\\\Nick\\\\AppData\\\\Local\\\\Temp\\\\tmpf95yszgpwandb-media\\\\ggu4afpz.table.json'\n"
     ]
    },
    {
     "name": "stderr",
     "output_type": "stream",
     "text": [
      " 73%|███████▎  | 183/250 [39:42<09:39,  8.65s/it]"
     ]
    },
    {
     "name": "stdout",
     "output_type": "stream",
     "text": [
      "output.shape=torch.Size([2423, 8])\n",
      "[Errno 2] No such file or directory: 'C:\\\\Users\\\\Nick\\\\AppData\\\\Local\\\\Temp\\\\tmpf95yszgpwandb-media\\\\gtfxffs3.table.json'\n",
      "output.shape=torch.Size([2833, 8])\n",
      "[Errno 2] No such file or directory: 'C:\\\\Users\\\\Nick\\\\AppData\\\\Local\\\\Temp\\\\tmpf95yszgpwandb-media\\\\8weeoyyr.table.json'\n"
     ]
    },
    {
     "name": "stderr",
     "output_type": "stream",
     "text": [
      " 74%|███████▍  | 186/250 [40:20<09:59,  9.37s/it]"
     ]
    },
    {
     "name": "stdout",
     "output_type": "stream",
     "text": [
      "output.shape=torch.Size([2423, 8])\n",
      "[Errno 2] No such file or directory: 'C:\\\\Users\\\\Nick\\\\AppData\\\\Local\\\\Temp\\\\tmpf95yszgpwandb-media\\\\ejx00iq9.table.json'\n",
      "output.shape=torch.Size([2833, 8])\n",
      "[Errno 2] No such file or directory: 'C:\\\\Users\\\\Nick\\\\AppData\\\\Local\\\\Temp\\\\tmpf95yszgpwandb-media\\\\jr0awwmh.table.json'\n"
     ]
    },
    {
     "name": "stderr",
     "output_type": "stream",
     "text": [
      " 76%|███████▌  | 189/250 [40:53<09:02,  8.90s/it]"
     ]
    },
    {
     "name": "stdout",
     "output_type": "stream",
     "text": [
      "output.shape=torch.Size([2423, 8])\n",
      "[Errno 2] No such file or directory: 'C:\\\\Users\\\\Nick\\\\AppData\\\\Local\\\\Temp\\\\tmpf95yszgpwandb-media\\\\q3k92dut.table.json'\n",
      "output.shape=torch.Size([2833, 8])\n",
      "[Errno 2] No such file or directory: 'C:\\\\Users\\\\Nick\\\\AppData\\\\Local\\\\Temp\\\\tmpf95yszgpwandb-media\\\\utj3mmzc.table.json'\n"
     ]
    },
    {
     "name": "stderr",
     "output_type": "stream",
     "text": [
      " 77%|███████▋  | 192/250 [41:27<08:24,  8.69s/it]"
     ]
    },
    {
     "name": "stdout",
     "output_type": "stream",
     "text": [
      "output.shape=torch.Size([2423, 8])\n",
      "[Errno 2] No such file or directory: 'C:\\\\Users\\\\Nick\\\\AppData\\\\Local\\\\Temp\\\\tmpf95yszgpwandb-media\\\\6pc62zdv.table.json'\n",
      "output.shape=torch.Size([2833, 8])\n",
      "[Errno 2] No such file or directory: 'C:\\\\Users\\\\Nick\\\\AppData\\\\Local\\\\Temp\\\\tmpf95yszgpwandb-media\\\\ppqy8arb.table.json'\n"
     ]
    },
    {
     "name": "stderr",
     "output_type": "stream",
     "text": [
      " 78%|███████▊  | 195/250 [42:00<07:50,  8.56s/it]"
     ]
    },
    {
     "name": "stdout",
     "output_type": "stream",
     "text": [
      "output.shape=torch.Size([2423, 8])\n",
      "[Errno 2] No such file or directory: 'C:\\\\Users\\\\Nick\\\\AppData\\\\Local\\\\Temp\\\\tmpf95yszgpwandb-media\\\\bokgpaoo.table.json'\n",
      "output.shape=torch.Size([2833, 8])\n",
      "[Errno 2] No such file or directory: 'C:\\\\Users\\\\Nick\\\\AppData\\\\Local\\\\Temp\\\\tmpf95yszgpwandb-media\\\\thu664n9.table.json'\n"
     ]
    },
    {
     "name": "stderr",
     "output_type": "stream",
     "text": [
      " 79%|███████▉  | 198/250 [42:34<07:37,  8.79s/it]"
     ]
    },
    {
     "name": "stdout",
     "output_type": "stream",
     "text": [
      "output.shape=torch.Size([2423, 8])\n",
      "[Errno 2] No such file or directory: 'C:\\\\Users\\\\Nick\\\\AppData\\\\Local\\\\Temp\\\\tmpf95yszgpwandb-media\\\\1rvold6c.table.json'\n",
      "output.shape=torch.Size([2833, 8])\n",
      "[Errno 2] No such file or directory: 'C:\\\\Users\\\\Nick\\\\AppData\\\\Local\\\\Temp\\\\tmpf95yszgpwandb-media\\\\kc3remyi.table.json'\n"
     ]
    },
    {
     "name": "stderr",
     "output_type": "stream",
     "text": [
      " 80%|████████  | 201/250 [43:10<07:28,  9.15s/it]"
     ]
    },
    {
     "name": "stdout",
     "output_type": "stream",
     "text": [
      "output.shape=torch.Size([2423, 8])\n",
      "[Errno 2] No such file or directory: 'C:\\\\Users\\\\Nick\\\\AppData\\\\Local\\\\Temp\\\\tmpf95yszgpwandb-media\\\\e2xptfun.table.json'\n",
      "output.shape=torch.Size([2833, 8])\n",
      "[Errno 2] No such file or directory: 'C:\\\\Users\\\\Nick\\\\AppData\\\\Local\\\\Temp\\\\tmpf95yszgpwandb-media\\\\ira3yevy.table.json'\n"
     ]
    },
    {
     "name": "stderr",
     "output_type": "stream",
     "text": [
      " 82%|████████▏ | 204/250 [43:46<07:02,  9.18s/it]"
     ]
    },
    {
     "name": "stdout",
     "output_type": "stream",
     "text": [
      "output.shape=torch.Size([2423, 8])\n",
      "[Errno 2] No such file or directory: 'C:\\\\Users\\\\Nick\\\\AppData\\\\Local\\\\Temp\\\\tmpf95yszgpwandb-media\\\\k0nux6yu.table.json'\n",
      "output.shape=torch.Size([2833, 8])\n",
      "[Errno 2] No such file or directory: 'C:\\\\Users\\\\Nick\\\\AppData\\\\Local\\\\Temp\\\\tmpf95yszgpwandb-media\\\\bufbpxqx.table.json'\n"
     ]
    },
    {
     "name": "stderr",
     "output_type": "stream",
     "text": [
      " 83%|████████▎ | 207/250 [44:25<06:54,  9.65s/it]"
     ]
    },
    {
     "name": "stdout",
     "output_type": "stream",
     "text": [
      "output.shape=torch.Size([2423, 8])\n",
      "[Errno 2] No such file or directory: 'C:\\\\Users\\\\Nick\\\\AppData\\\\Local\\\\Temp\\\\tmpf95yszgpwandb-media\\\\890eo1mf.table.json'\n",
      "output.shape=torch.Size([2833, 8])\n",
      "[Errno 2] No such file or directory: 'C:\\\\Users\\\\Nick\\\\AppData\\\\Local\\\\Temp\\\\tmpf95yszgpwandb-media\\\\lwx9qjwx.table.json'\n"
     ]
    },
    {
     "name": "stderr",
     "output_type": "stream",
     "text": [
      " 84%|████████▍ | 210/250 [45:01<06:15,  9.40s/it]"
     ]
    },
    {
     "name": "stdout",
     "output_type": "stream",
     "text": [
      "output.shape=torch.Size([2423, 8])\n",
      "[Errno 2] No such file or directory: 'C:\\\\Users\\\\Nick\\\\AppData\\\\Local\\\\Temp\\\\tmpf95yszgpwandb-media\\\\lzp73yyw.table.json'\n",
      "output.shape=torch.Size([2833, 8])\n",
      "[Errno 2] No such file or directory: 'C:\\\\Users\\\\Nick\\\\AppData\\\\Local\\\\Temp\\\\tmpf95yszgpwandb-media\\\\06rvgirv.table.json'\n"
     ]
    },
    {
     "name": "stderr",
     "output_type": "stream",
     "text": [
      " 85%|████████▌ | 213/250 [45:37<05:45,  9.35s/it]"
     ]
    },
    {
     "name": "stdout",
     "output_type": "stream",
     "text": [
      "output.shape=torch.Size([2423, 8])\n",
      "[Errno 2] No such file or directory: 'C:\\\\Users\\\\Nick\\\\AppData\\\\Local\\\\Temp\\\\tmpf95yszgpwandb-media\\\\izx5s3rg.table.json'\n",
      "output.shape=torch.Size([2833, 8])\n",
      "[Errno 2] No such file or directory: 'C:\\\\Users\\\\Nick\\\\AppData\\\\Local\\\\Temp\\\\tmpf95yszgpwandb-media\\\\6qe895m9.table.json'\n"
     ]
    },
    {
     "name": "stderr",
     "output_type": "stream",
     "text": [
      " 86%|████████▋ | 216/250 [46:12<05:09,  9.10s/it]"
     ]
    },
    {
     "name": "stdout",
     "output_type": "stream",
     "text": [
      "output.shape=torch.Size([2423, 8])\n",
      "[Errno 2] No such file or directory: 'C:\\\\Users\\\\Nick\\\\AppData\\\\Local\\\\Temp\\\\tmpf95yszgpwandb-media\\\\qdazaaxf.table.json'\n",
      "output.shape=torch.Size([2833, 8])\n",
      "[Errno 2] No such file or directory: 'C:\\\\Users\\\\Nick\\\\AppData\\\\Local\\\\Temp\\\\tmpf95yszgpwandb-media\\\\ogwxwwhp.table.json'\n"
     ]
    },
    {
     "name": "stderr",
     "output_type": "stream",
     "text": [
      " 88%|████████▊ | 219/250 [46:46<04:34,  8.84s/it]"
     ]
    },
    {
     "name": "stdout",
     "output_type": "stream",
     "text": [
      "output.shape=torch.Size([2423, 8])\n",
      "[Errno 2] No such file or directory: 'C:\\\\Users\\\\Nick\\\\AppData\\\\Local\\\\Temp\\\\tmpf95yszgpwandb-media\\\\xtw01v7a.table.json'\n",
      "output.shape=torch.Size([2833, 8])\n",
      "[Errno 2] No such file or directory: 'C:\\\\Users\\\\Nick\\\\AppData\\\\Local\\\\Temp\\\\tmpf95yszgpwandb-media\\\\tl9ra7zt.table.json'\n"
     ]
    },
    {
     "name": "stderr",
     "output_type": "stream",
     "text": [
      " 89%|████████▉ | 222/250 [47:20<04:07,  8.83s/it]"
     ]
    },
    {
     "name": "stdout",
     "output_type": "stream",
     "text": [
      "output.shape=torch.Size([2423, 8])\n",
      "[Errno 2] No such file or directory: 'C:\\\\Users\\\\Nick\\\\AppData\\\\Local\\\\Temp\\\\tmpf95yszgpwandb-media\\\\czhser82.table.json'\n",
      "output.shape=torch.Size([2833, 8])\n",
      "[Errno 2] No such file or directory: 'C:\\\\Users\\\\Nick\\\\AppData\\\\Local\\\\Temp\\\\tmpf95yszgpwandb-media\\\\ormnl4gt.table.json'\n"
     ]
    },
    {
     "name": "stderr",
     "output_type": "stream",
     "text": [
      " 90%|█████████ | 225/250 [47:56<03:47,  9.11s/it]"
     ]
    },
    {
     "name": "stdout",
     "output_type": "stream",
     "text": [
      "output.shape=torch.Size([2423, 8])\n",
      "[Errno 2] No such file or directory: 'C:\\\\Users\\\\Nick\\\\AppData\\\\Local\\\\Temp\\\\tmpf95yszgpwandb-media\\\\pweqqc85.table.json'\n",
      "output.shape=torch.Size([2833, 8])\n",
      "[Errno 2] No such file or directory: 'C:\\\\Users\\\\Nick\\\\AppData\\\\Local\\\\Temp\\\\tmpf95yszgpwandb-media\\\\qc5o72qe.table.json'\n"
     ]
    },
    {
     "name": "stderr",
     "output_type": "stream",
     "text": [
      " 91%|█████████ | 228/250 [48:30<03:16,  8.94s/it]"
     ]
    },
    {
     "name": "stdout",
     "output_type": "stream",
     "text": [
      "output.shape=torch.Size([2423, 8])\n",
      "[Errno 2] No such file or directory: 'C:\\\\Users\\\\Nick\\\\AppData\\\\Local\\\\Temp\\\\tmpf95yszgpwandb-media\\\\dct5mhkb.table.json'\n",
      "output.shape=torch.Size([2833, 8])\n",
      "[Errno 2] No such file or directory: 'C:\\\\Users\\\\Nick\\\\AppData\\\\Local\\\\Temp\\\\tmpf95yszgpwandb-media\\\\yf2znioy.table.json'\n"
     ]
    },
    {
     "name": "stderr",
     "output_type": "stream",
     "text": [
      " 92%|█████████▏| 231/250 [49:03<02:44,  8.64s/it]"
     ]
    },
    {
     "name": "stdout",
     "output_type": "stream",
     "text": [
      "output.shape=torch.Size([2423, 8])\n",
      "[Errno 2] No such file or directory: 'C:\\\\Users\\\\Nick\\\\AppData\\\\Local\\\\Temp\\\\tmpf95yszgpwandb-media\\\\hfryyrx7.table.json'\n",
      "output.shape=torch.Size([2833, 8])\n",
      "[Errno 2] No such file or directory: 'C:\\\\Users\\\\Nick\\\\AppData\\\\Local\\\\Temp\\\\tmpf95yszgpwandb-media\\\\65319ou1.table.json'\n"
     ]
    },
    {
     "name": "stderr",
     "output_type": "stream",
     "text": [
      " 94%|█████████▎| 234/250 [49:37<02:19,  8.74s/it]"
     ]
    },
    {
     "name": "stdout",
     "output_type": "stream",
     "text": [
      "output.shape=torch.Size([2423, 8])\n",
      "[Errno 2] No such file or directory: 'C:\\\\Users\\\\Nick\\\\AppData\\\\Local\\\\Temp\\\\tmpf95yszgpwandb-media\\\\fcumyf8e.table.json'\n",
      "output.shape=torch.Size([2833, 8])\n",
      "[Errno 2] No such file or directory: 'C:\\\\Users\\\\Nick\\\\AppData\\\\Local\\\\Temp\\\\tmpf95yszgpwandb-media\\\\ob7s9l56.table.json'\n"
     ]
    },
    {
     "name": "stderr",
     "output_type": "stream",
     "text": [
      " 95%|█████████▍| 237/250 [50:11<01:52,  8.69s/it]"
     ]
    },
    {
     "name": "stdout",
     "output_type": "stream",
     "text": [
      "output.shape=torch.Size([2423, 8])\n",
      "[Errno 2] No such file or directory: 'C:\\\\Users\\\\Nick\\\\AppData\\\\Local\\\\Temp\\\\tmpf95yszgpwandb-media\\\\mhcacfzb.table.json'\n",
      "output.shape=torch.Size([2833, 8])\n",
      "[Errno 2] No such file or directory: 'C:\\\\Users\\\\Nick\\\\AppData\\\\Local\\\\Temp\\\\tmpf95yszgpwandb-media\\\\acxi7vgi.table.json'\n"
     ]
    },
    {
     "name": "stderr",
     "output_type": "stream",
     "text": [
      " 96%|█████████▌| 240/250 [50:44<01:25,  8.55s/it]"
     ]
    },
    {
     "name": "stdout",
     "output_type": "stream",
     "text": [
      "output.shape=torch.Size([2423, 8])\n",
      "[Errno 2] No such file or directory: 'C:\\\\Users\\\\Nick\\\\AppData\\\\Local\\\\Temp\\\\tmpf95yszgpwandb-media\\\\rxcm6i5a.table.json'\n",
      "output.shape=torch.Size([2833, 8])\n",
      "[Errno 2] No such file or directory: 'C:\\\\Users\\\\Nick\\\\AppData\\\\Local\\\\Temp\\\\tmpf95yszgpwandb-media\\\\sunmvxx1.table.json'\n"
     ]
    },
    {
     "name": "stderr",
     "output_type": "stream",
     "text": [
      " 97%|█████████▋| 243/250 [51:22<01:04,  9.28s/it]"
     ]
    },
    {
     "name": "stdout",
     "output_type": "stream",
     "text": [
      "output.shape=torch.Size([2423, 8])\n",
      "[Errno 2] No such file or directory: 'C:\\\\Users\\\\Nick\\\\AppData\\\\Local\\\\Temp\\\\tmpf95yszgpwandb-media\\\\abjocefq.table.json'\n",
      "output.shape=torch.Size([2833, 8])\n",
      "[Errno 2] No such file or directory: 'C:\\\\Users\\\\Nick\\\\AppData\\\\Local\\\\Temp\\\\tmpf95yszgpwandb-media\\\\z2ycgiy4.table.json'\n"
     ]
    },
    {
     "name": "stderr",
     "output_type": "stream",
     "text": [
      " 98%|█████████▊| 246/250 [51:56<00:35,  8.94s/it]"
     ]
    },
    {
     "name": "stdout",
     "output_type": "stream",
     "text": [
      "output.shape=torch.Size([2423, 8])\n",
      "[Errno 2] No such file or directory: 'C:\\\\Users\\\\Nick\\\\AppData\\\\Local\\\\Temp\\\\tmpf95yszgpwandb-media\\\\px1eenyk.table.json'\n",
      "output.shape=torch.Size([2833, 8])\n",
      "[Errno 2] No such file or directory: 'C:\\\\Users\\\\Nick\\\\AppData\\\\Local\\\\Temp\\\\tmpf95yszgpwandb-media\\\\h2wsxa7t.table.json'\n"
     ]
    },
    {
     "name": "stderr",
     "output_type": "stream",
     "text": [
      "100%|█████████▉| 249/250 [52:30<00:08,  8.70s/it]"
     ]
    },
    {
     "name": "stdout",
     "output_type": "stream",
     "text": [
      "output.shape=torch.Size([2423, 8])\n",
      "[Errno 2] No such file or directory: 'C:\\\\Users\\\\Nick\\\\AppData\\\\Local\\\\Temp\\\\tmpf95yszgpwandb-media\\\\528jzm2o.table.json'\n",
      "output.shape=torch.Size([2833, 8])\n",
      "[Errno 2] No such file or directory: 'C:\\\\Users\\\\Nick\\\\AppData\\\\Local\\\\Temp\\\\tmpf95yszgpwandb-media\\\\8svkr97l.table.json'\n"
     ]
    },
    {
     "name": "stderr",
     "output_type": "stream",
     "text": [
      "100%|██████████| 250/250 [52:56<00:00, 12.71s/it]\n"
     ]
    },
    {
     "data": {
      "application/vnd.jupyter.widget-view+json": {
       "model_id": "d8a124df927e46f88f08a357d4d0a8ff",
       "version_major": 2,
       "version_minor": 0
      },
      "text/plain": [
       "VBox(children=(Label(value='52.812 MB of 52.812 MB uploaded (0.450 MB deduped)\\r'), FloatProgress(value=1.0, m…"
      ]
     },
     "metadata": {},
     "output_type": "display_data"
    },
    {
     "data": {
      "text/html": [
       "<style>\n",
       "    table.wandb td:nth-child(1) { padding: 0 10px; text-align: left ; width: auto;} td:nth-child(2) {text-align: left ; width: 100%}\n",
       "    .wandb-row { display: flex; flex-direction: row; flex-wrap: wrap; justify-content: flex-start; width: 100% }\n",
       "    .wandb-col { display: flex; flex-direction: column; flex-basis: 100%; flex: 1; padding: 10px; }\n",
       "    </style>\n",
       "<div class=\"wandb-row\"><div class=\"wandb-col\"><h3>Run history:</h3><br/><table class=\"wandb\"><tr><td>ROI < 30</td><td>▅▅▅▄▅▄▄▅▄▅▄▄▃▂▂▁▂▄▄▄▄▄▆▅▅▆▆▆█▇▆▇▅▅▇▅▄▆▇▅</td></tr><tr><td>ROI < 30 2</td><td>█▇▇▆▆▅▆▆▅▇▅▅▄▂▃▁▃▆▆▅▅▄▅▃▃▄▄▄▆▄▃▄▄▃▅▅▂▄▅▃</td></tr><tr><td>accuracy</td><td>▁▂▂▂▂▂▂▂▂▃▄▄▆▇▇███████████████████▇█▇▇▇▇</td></tr><tr><td>accuracy2</td><td>▁▂▂▂▂▂▂▂▂▃▄▄▆▇▇▇███████████████████▇▇▇▇▇</td></tr><tr><td>epoch</td><td>▁▁▁▁▂▂▂▂▂▂▃▃▃▃▃▃▄▄▄▄▄▅▅▅▅▅▆▆▆▆▆▆▇▇▇▇▇███</td></tr><tr><td>favorite_accuracy</td><td>▁▁▁▁▁▁▁▁▁▁▁▁▁▁▁▁▁▁▁▁▁▁▁▁▁▁▁▁▁▁▁▁▁▁▁▁▁▁▁▁</td></tr><tr><td>flat_simple</td><td>█▂▂▂▂▂▂▂▂▄▃▁▃▁▂▃▃▃▂▂▂▃▃▂▁▂▂▁▂▁▁▁▂▂▂▂▂▁▃▂</td></tr><tr><td>kelly roi</td><td>▆▂▃▃▃▃▃▄▄▆▆▇▇▇▅▄▄▅▆▅▅▆██▇▇▆▇██▆█▅▃▅▄▁▃▄▃</td></tr><tr><td>loss_1</td><td>██▇▇▇▇▇▇▇▇▇▇▇▆▆▆▆▅▅▅▅▅▅▅▄▄▄▄▄▄▃▃▃▃▂▂▂▂▁▁</td></tr><tr><td>loss_bfsp</td><td>▁▁▁▁▁▁▁▁▁▁▁▁▁▁▁▁▁▁▁▁▁▁▁▁▁▁▁▁▁▁▁▁▁▁▁▁▁▁▁▁</td></tr><tr><td>loss_p</td><td>████████▇▇▆▆▅▄▄▃▂▂▂▂▂▂▂▁▁▁▁▁▁▁▁▁▁▁▁▁▂▂▂▂</td></tr><tr><td>loss_val</td><td>████████▇▇▆▆▅▄▄▃▃▂▂▂▂▂▁▁▁▁▁▁▁▁▁▁▁▁▁▁▂▂▂▂</td></tr><tr><td>multibet outlay < 30</td><td>▄▃▃▃▃▃▃▃▃▃▃▃▂▂▂▁▁▁▁▁▁▁▁▂▂▂▂▂▃▃▃▄▄▅▅▆▆▇▇█</td></tr><tr><td>multibet profit</td><td>█▄▄▅▅▄▅▅▅▆▆▇▆▆▄▃▃▃▄▃▃▄▅▅▄▄▄▄▄▅▄▅▃▂▃▂▁▂▃▂</td></tr><tr><td>multibet profit < 30</td><td>▅▅▅▄▄▄▄▄▄▅▄▄▃▂▂▁▂▃▃▃▃▄▄▄▄▅▅▆▇▇▆▆▆▅▇▆▅▇█▆</td></tr><tr><td>multibet profit < 30 sd</td><td>█▅▅▅▅▅▅▅▅▅▅▅▄▃▂▁▁▁▁▁▁▁▁▁▁▁▂▂▃▃▃▃▄▄▄▆▆▆▇█</td></tr><tr><td>mutual_info</td><td>▅▂▁▁▁▁▁▁▁▁▂▂▂▃▄▄▄▄▄▄▄▄▄▄▄▄▄▄▅▅▅▅▆▆▆▆▇▇▇█</td></tr><tr><td>profit_relu</td><td>▂▂▆▅▆▅▆▆▇█▄▆▄▂▂▂▂▁▂▁▂▂▂▂▂▂▂▁▁▁▁▁▁▁▁▁▁▁▁▁</td></tr><tr><td>relu roi</td><td>▅▂▂▂▃▂▃▂▄▇▃█▇▅▄▃▄▃▅▄▄▅▅▆▆▅▄▄▄▄▄▅▄▂▄▂▁▂▃▂</td></tr><tr><td>val_ROI < 30</td><td>▇▇▇▆▇▆▇▆▅▆▆▅▄▄▄▅▆▄▅▅▅▆▇▅▇▆▇▆██▆▇▇▄▄▂▃▃▁▃</td></tr><tr><td>val_ROI < 30 2</td><td>▄▄▅▂▅▄▄▃▂▂▃▂▁▁▃▃▇▆▆▆▅▆▇▆▇▆▇▆▇█▇▇▇▅▅▄▄▄▃▄</td></tr><tr><td>val_accuracy</td><td>▁▂▂▂▂▂▂▂▂▃▄▄▆▇▇▇███████████████████▇▇▇▇▇</td></tr><tr><td>val_flat_simple</td><td>▆▁▁▁▁▁▁▁▁▂▄▅▅▅▇▇▇▇██▇▇▆▆▇▇▇▇▇▇▇██▆▇▆▆▅▆▆</td></tr><tr><td>val_kelly roi</td><td>▂▂▃▂▂▂▂▂▂▁▁▁▁▂▂▂▃▃▄▄▄▅▆▅▇▆▇▇██▇██▇▇▆▆▆▆▇</td></tr><tr><td>val_loss_bfsp</td><td>▁▁▁▁▁▁▁▁▁▁▁▁▁▁▁▁▁▁▁▁▁▁▁▁▁▁▁▁▁▁▁▁▁▁▁▁▁▁▁▁</td></tr><tr><td>val_loss_p</td><td>████████▇▇▆▆▅▄▄▃▂▂▂▂▂▁▁▁▁▁▁▁▁▁▁▁▁▁▁▂▂▂▂▂</td></tr><tr><td>val_loss_val</td><td>████████▇▇▆▆▅▄▄▃▃▂▂▂▂▂▂▁▁▁▁▁▁▁▁▁▁▁▁▂▂▂▂▂</td></tr><tr><td>val_multibet outlay < 30</td><td>▃▃▃▃▃▃▃▃▃▃▃▃▂▂▂▁▁▁▁▁▁▁▁▂▂▂▂▃▃▃▃▄▄▅▅▆▆▇▇█</td></tr><tr><td>val_multibet profit</td><td>▁▂▂▁▂▁▂▁▁▁▂▂▂▃▄▄▅▅▅▆▆▆▇▆▇▇▇▇█████▇▇▇▆▆▆▇</td></tr><tr><td>val_multibet profit < 30</td><td>▇▇▇▆▇▇▇▇▆▆▇▆▅▅▆▆▇▆▆▆▆▇▇▆▇▇▇▇██▇▇▇▄▅▃▃▃▁▂</td></tr><tr><td>val_multibet profit < 30 sd</td><td>▆▄▅▄▅▄▅▄▄▄▄▄▃▂▂▁▁▁▁▁▁▁▁▁▂▂▂▂▃▃▃▄▅▄▅▅▆▆▇█</td></tr><tr><td>val_mutual_info</td><td>▅▂▁▁▁▁▁▁▁▁▂▂▂▃▃▄▄▄▄▄▄▄▄▄▄▄▄▄▅▅▅▅▆▆▆▆▇▇▇█</td></tr><tr><td>val_profit_relu</td><td>▇▆▁▂▂▂▂▂▃▄▄▅▆▇▇▇████████████████████████</td></tr><tr><td>val_relu roi</td><td>▃▃▃▃▃▃▃▃▃▂▁▃▃▃▃▃▄▄▄▄▄▅▅▄▅▅▅▆▆▆▆▇▇▆▇▇▇▇▇█</td></tr><tr><td>valfavorite_accuracy</td><td>▁▁▁▁▁▁▁▁▁▁▁▁▁▁▁▁▁▁▁▁▁▁▁▁▁▁▁▁▁▁▁▁▁▁▁▁▁▁▁▁</td></tr></table><br/></div><div class=\"wandb-col\"><h3>Run summary:</h3><br/><table class=\"wandb\"><tr><td>ROI < 30 2</td><td>0.02544</td></tr><tr><td>accuracy2</td><td>0.30604</td></tr><tr><td>epoch</td><td>249</td></tr><tr><td>favorite_accuracy</td><td>0.38562</td></tr><tr><td>flat_simple</td><td>-36.21841</td></tr><tr><td>kelly roi</td><td>0.07217</td></tr><tr><td>loss_1</td><td>1.63278</td></tr><tr><td>loss_bfsp</td><td>1.945</td></tr><tr><td>loss_p</td><td>1.7927</td></tr><tr><td>multibet outlay < 30</td><td>43862.14265</td></tr><tr><td>multibet profit</td><td>3572.60655</td></tr><tr><td>multibet profit < 30</td><td>2745.3867</td></tr><tr><td>multibet profit < 30 sd</td><td>18.55724</td></tr><tr><td>mutual_info</td><td>0.07178</td></tr><tr><td>profit_relu</td><td>36726.70866</td></tr><tr><td>val_ROI < 30</td><td>-0.07419</td></tr><tr><td>val_ROI < 30 2</td><td>-0.06157</td></tr><tr><td>val_accuracy</td><td>0.30604</td></tr><tr><td>val_flat_simple</td><td>-175.72114</td></tr><tr><td>val_kelly roi</td><td>-0.12904</td></tr><tr><td>val_loss_bfsp</td><td>1.94131</td></tr><tr><td>val_loss_p</td><td>1.79</td></tr><tr><td>val_loss_val</td><td>1.8345</td></tr><tr><td>val_multibet outlay < 30</td><td>42887.98995</td></tr><tr><td>val_multibet profit</td><td>-6851.46573</td></tr><tr><td>val_multibet profit < 30</td><td>-3181.86108</td></tr><tr><td>val_multibet profit < 30 sd</td><td>18.27727</td></tr><tr><td>val_mutual_info</td><td>0.07184</td></tr><tr><td>val_profit_relu</td><td>-87632.29595</td></tr><tr><td>val_relu roi</td><td>-0.11439</td></tr><tr><td>valfavorite_accuracy</td><td>0.39215</td></tr></table><br/></div></div>"
      ],
      "text/plain": [
       "<IPython.core.display.HTML object>"
      ]
     },
     "metadata": {},
     "output_type": "display_data"
    },
    {
     "data": {
      "text/html": [
       " View run <strong style=\"color:#cdcd00\">fragrant-wave-40</strong> at: <a href='https://wandb.ai/nickojelly/NEW%20GRU%20V7%20Reporting/runs/o8fwmhjc' target=\"_blank\">https://wandb.ai/nickojelly/NEW%20GRU%20V7%20Reporting/runs/o8fwmhjc</a><br/>Synced 5 W&B file(s), 234 media file(s), 372 artifact file(s) and 0 other file(s)"
      ],
      "text/plain": [
       "<IPython.core.display.HTML object>"
      ]
     },
     "metadata": {},
     "output_type": "display_data"
    },
    {
     "data": {
      "text/html": [
       "Find logs at: <code>.\\wandb\\run-20240208_160915-o8fwmhjc\\logs</code>"
      ],
      "text/plain": [
       "<IPython.core.display.HTML object>"
      ]
     },
     "metadata": {},
     "output_type": "display_data"
    }
   ],
   "source": [
    "importlib.reload(rnn_tools.rnn_classes)\n",
    "importlib.reload(rnn_classes)\n",
    "importlib.reload(training_testing_gru_extra_data)\n",
    "(model,dataset, optimizer) = model_pipeline(raceDB,config=wandb_config_static,sweep=False)\n",
    "# all_price_df = model_pipeline(raceDB,config=wandb_config_static,sweep=False)\n"
   ]
  },
  {
   "cell_type": "code",
   "execution_count": 27,
   "metadata": {},
   "outputs": [
    {
     "name": "stderr",
     "output_type": "stream",
     "text": [
      "Failed to detect the name of this notebook, you can set it manually with the WANDB_NOTEBOOK_NAME environment variable to enable code saving.\n",
      "\u001b[34m\u001b[1mwandb\u001b[0m: Currently logged in as: \u001b[33mnickojelly\u001b[0m. Use \u001b[1m`wandb login --relogin`\u001b[0m to force relogin\n"
     ]
    },
    {
     "data": {
      "text/html": [
       "wandb version 0.16.3 is available!  To upgrade, please run:\n",
       " $ pip install wandb --upgrade"
      ],
      "text/plain": [
       "<IPython.core.display.HTML object>"
      ]
     },
     "metadata": {},
     "output_type": "display_data"
    },
    {
     "data": {
      "text/html": [
       "Tracking run with wandb version 0.16.2"
      ],
      "text/plain": [
       "<IPython.core.display.HTML object>"
      ]
     },
     "metadata": {},
     "output_type": "display_data"
    },
    {
     "data": {
      "text/html": [
       "Run data is saved locally in <code>c:\\Users\\Nick\\Documents\\GitHub\\grvmodel\\python\\wandb\\run-20240208_211300-l6r914yq</code>"
      ],
      "text/plain": [
       "<IPython.core.display.HTML object>"
      ]
     },
     "metadata": {},
     "output_type": "display_data"
    },
    {
     "data": {
      "text/html": [
       "Syncing run <strong><a href='https://wandb.ai/nickojelly/NEW%20GRU%20V7%20Reporting/runs/l6r914yq' target=\"_blank\">stellar-pine-41</a></strong> to <a href='https://wandb.ai/nickojelly/NEW%20GRU%20V7%20Reporting' target=\"_blank\">Weights & Biases</a> (<a href='https://wandb.me/run' target=\"_blank\">docs</a>)<br/>"
      ],
      "text/plain": [
       "<IPython.core.display.HTML object>"
      ]
     },
     "metadata": {},
     "output_type": "display_data"
    },
    {
     "data": {
      "text/html": [
       " View project at <a href='https://wandb.ai/nickojelly/NEW%20GRU%20V7%20Reporting' target=\"_blank\">https://wandb.ai/nickojelly/NEW%20GRU%20V7%20Reporting</a>"
      ],
      "text/plain": [
       "<IPython.core.display.HTML object>"
      ]
     },
     "metadata": {},
     "output_type": "display_data"
    },
    {
     "data": {
      "text/html": [
       " View run at <a href='https://wandb.ai/nickojelly/NEW%20GRU%20V7%20Reporting/runs/l6r914yq' target=\"_blank\">https://wandb.ai/nickojelly/NEW%20GRU%20V7%20Reporting/runs/l6r914yq</a>"
      ],
      "text/plain": [
       "<IPython.core.display.HTML object>"
      ]
     },
     "metadata": {},
     "output_type": "display_data"
    },
    {
     "name": "stdout",
     "output_type": "stream",
     "text": [
      "{'hidden_size': 256, 'stats': ['inside', 'midfield', 'wide', 'weight', 'DogGrade', '_dist_last__1', '_box_last__1', '_speed_avg_1', '_split_speed_avg_1', '_split_margin_avg_1', '_margin_avg_1', '_margin_time_avg_1', '_RunHomeTime_1', '_run_home_speed_1', '_first_out_avg_1', '_pos_out_avg_1', '_post_change_avg_1', '_races_1', '_wins_1', '_wins_last_1', '_weight_', '_min_time_', '_min_split_time_', '_last_start_price', '_last_start_prob', 'dist_dist_last__10', 'dist_box_last__10', 'dist_speed_avg_10', 'dist_split_speed_avg_10', 'dist_split_margin_avg_10', 'dist_margin_avg_10', 'dist_margin_time_avg_10', 'dist_RunHomeTime_10', 'dist_run_home_speed_10', 'dist_first_out_avg_10', 'dist_pos_out_avg_10', 'dist_post_change_avg_10', 'dist_races_10', 'dist_wins_10', 'dist_wins_last_10', 'dist_weight_', 'dist_min_time_', 'dist_min_split_time_', 'dist_last_start_price', 'dist_last_start_prob', 'box_dist_last__10', 'box_box_last__10', 'box_speed_avg_10', 'box_split_speed_avg_10', 'box_split_margin_avg_10', 'box_margin_avg_10', 'box_margin_time_avg_10', 'box_RunHomeTime_10', 'box_run_home_speed_10', 'box_first_out_avg_10', 'box_pos_out_avg_10', 'box_post_change_avg_10', 'box_races_10', 'box_wins_10', 'box_wins_last_10', 'box_weight_', 'box_min_time_', 'box_min_split_time_', 'box_last_start_price', 'box_last_start_prob', 'track_box_dist_last__10', 'track_box_box_last__10', 'track_box_speed_avg_10', 'track_box_split_speed_avg_10', 'track_box_split_margin_avg_10', 'track_box_margin_avg_10', 'track_box_margin_time_avg_10', 'track_box_RunHomeTime_10', 'track_box_run_home_speed_10', 'track_box_first_out_avg_10', 'track_box_pos_out_avg_10', 'track_box_post_change_avg_10', 'track_box_races_10', 'track_box_wins_10', 'track_box_wins_last_10', 'track_box_weight_', 'track_box_min_time_', 'track_box_min_split_time_', 'track_box_last_start_price', 'track_box_last_start_prob', 'track_dist_dist_last__10', 'track_dist_box_last__10', 'track_dist_speed_avg_10', 'track_dist_split_speed_avg_10', 'track_dist_split_margin_avg_10', 'track_dist_margin_avg_10', 'track_dist_margin_time_avg_10', 'track_dist_RunHomeTime_10', 'track_dist_run_home_speed_10', 'track_dist_first_out_avg_10', 'track_dist_pos_out_avg_10', 'track_dist_post_change_avg_10', 'track_dist_races_10', 'track_dist_wins_10', 'track_dist_wins_last_10', 'track_dist_weight_', 'track_dist_min_time_', 'track_dist_min_split_time_', 'track_dist_last_start_price', 'track_dist_last_start_prob'], 'races': ['NZ'], 'datafile': './data/gru_inputs_kitchen_sink_new_not_simple.fth', 'latest_date': '2024-01-31T00:00:00', 'input_type': 'basic', 'num_layers': 2, 'batch_size': 750, 'dropout': 0.3, 'epochs': 250, 'learning_rate': 0.001, 'optimizer': 'adamW', 'f0_layer_size': 128, 'f1_layer_size': 64, 'training_date_end': '2023-01-01', 'notes': 'GRU, with basic add on data looped in', 'batch_days': 600, 'stat_list_dict': {'_dist_last__1': 1, '_box_last__1': 1, '_speed_avg_1': 1, '_split_speed_avg_1': 1, '_split_margin_avg_1': 1, '_margin_avg_1': 1, '_margin_time_avg_1': 1, '_RunHomeTime_1': 1, '_run_home_speed_1': 1, '_first_out_avg_1': 1, '_pos_out_avg_1': 1, '_post_change_avg_1': 1, '_races_1': 1, '_wins_1': 1, '_wins_last_1': 1, '_weight_': 1, '_min_time_': 1, '_min_split_time_': 1, '_last_start_price': 1, '_last_start_prob': 1}}\n",
      "250\n",
      "{'hidden_size': 256, 'stats': ['inside', 'midfield', 'wide', 'weight', 'DogGrade', '_dist_last__1', '_box_last__1', '_speed_avg_1', '_split_speed_avg_1', '_split_margin_avg_1', '_margin_avg_1', '_margin_time_avg_1', '_RunHomeTime_1', '_run_home_speed_1', '_first_out_avg_1', '_pos_out_avg_1', '_post_change_avg_1', '_races_1', '_wins_1', '_wins_last_1', '_weight_', '_min_time_', '_min_split_time_', '_last_start_price', '_last_start_prob', 'dist_dist_last__10', 'dist_box_last__10', 'dist_speed_avg_10', 'dist_split_speed_avg_10', 'dist_split_margin_avg_10', 'dist_margin_avg_10', 'dist_margin_time_avg_10', 'dist_RunHomeTime_10', 'dist_run_home_speed_10', 'dist_first_out_avg_10', 'dist_pos_out_avg_10', 'dist_post_change_avg_10', 'dist_races_10', 'dist_wins_10', 'dist_wins_last_10', 'dist_weight_', 'dist_min_time_', 'dist_min_split_time_', 'dist_last_start_price', 'dist_last_start_prob', 'box_dist_last__10', 'box_box_last__10', 'box_speed_avg_10', 'box_split_speed_avg_10', 'box_split_margin_avg_10', 'box_margin_avg_10', 'box_margin_time_avg_10', 'box_RunHomeTime_10', 'box_run_home_speed_10', 'box_first_out_avg_10', 'box_pos_out_avg_10', 'box_post_change_avg_10', 'box_races_10', 'box_wins_10', 'box_wins_last_10', 'box_weight_', 'box_min_time_', 'box_min_split_time_', 'box_last_start_price', 'box_last_start_prob', 'track_box_dist_last__10', 'track_box_box_last__10', 'track_box_speed_avg_10', 'track_box_split_speed_avg_10', 'track_box_split_margin_avg_10', 'track_box_margin_avg_10', 'track_box_margin_time_avg_10', 'track_box_RunHomeTime_10', 'track_box_run_home_speed_10', 'track_box_first_out_avg_10', 'track_box_pos_out_avg_10', 'track_box_post_change_avg_10', 'track_box_races_10', 'track_box_wins_10', 'track_box_wins_last_10', 'track_box_weight_', 'track_box_min_time_', 'track_box_min_split_time_', 'track_box_last_start_price', 'track_box_last_start_prob', 'track_dist_dist_last__10', 'track_dist_box_last__10', 'track_dist_speed_avg_10', 'track_dist_split_speed_avg_10', 'track_dist_split_margin_avg_10', 'track_dist_margin_avg_10', 'track_dist_margin_time_avg_10', 'track_dist_RunHomeTime_10', 'track_dist_run_home_speed_10', 'track_dist_first_out_avg_10', 'track_dist_pos_out_avg_10', 'track_dist_post_change_avg_10', 'track_dist_races_10', 'track_dist_wins_10', 'track_dist_wins_last_10', 'track_dist_weight_', 'track_dist_min_time_', 'track_dist_min_split_time_', 'track_dist_last_start_price', 'track_dist_last_start_prob'], 'races': ['NZ'], 'datafile': './data/gru_inputs_kitchen_sink_new_not_simple.fth', 'latest_date': '2024-01-31T00:00:00', 'input_type': 'basic', 'num_layers': 2, 'batch_size': 750, 'dropout': 0.3, 'epochs': 250, 'learning_rate': 0.001, 'optimizer': 'adamW', 'f0_layer_size': 128, 'f1_layer_size': 64, 'training_date_end': '2023-01-01', 'notes': 'GRU, with basic add on data looped in', 'batch_days': 600, 'stat_list_dict': {'_dist_last__1': 1, '_box_last__1': 1, '_speed_avg_1': 1, '_split_speed_avg_1': 1, '_split_margin_avg_1': 1, '_margin_avg_1': 1, '_margin_time_avg_1': 1, '_RunHomeTime_1': 1, '_run_home_speed_1': 1, '_first_out_avg_1': 1, '_pos_out_avg_1': 1, '_post_change_avg_1': 1, '_races_1': 1, '_wins_1': 1, '_wins_last_1': 1, '_weight_': 1, '_min_time_': 1, '_min_split_time_': 1, '_last_start_price': 1, '_last_start_prob': 1}}\n",
      "basic\n",
      "1\n",
      "1\n",
      "1\n",
      "1\n",
      "1\n",
      "1\n",
      "1\n",
      "1\n",
      "1\n",
      "1\n",
      "1\n",
      "1\n",
      "1\n",
      "1\n",
      "1\n",
      "1\n",
      "1\n",
      "1\n",
      "1\n",
      "1\n",
      "[1, 1, 1, 1, 1, 1, 1, 1, 1, 1, 1, 1, 1, 1, 1, 1, 1, 1, 1, 1]\n",
      "data_mask_size=26\n",
      "tensor([ True,  True,  True,  True,  True,  True,  True,  True,  True,  True,\n",
      "         True,  True,  True,  True,  True,  True,  True,  True,  True,  True,\n",
      "         True,  True,  True,  True,  True,  True, False, False, False, False,\n",
      "        False, False, False, False, False, False, False, False, False, False,\n",
      "        False, False, False, False, False, False, False, False, False, False,\n",
      "        False, False, False, False, False, False, False, False, False, False,\n",
      "        False, False, False, False, False, False, False, False, False, False,\n",
      "        False, False, False, False, False, False, False, False, False, False,\n",
      "        False, False, False, False, False, False, False, False, False, False,\n",
      "        False, False, False, False, False, False, False, False, False, False,\n",
      "        False, False, False, False, False, False], device='cuda:0')\n",
      "torch.Size([106])\n",
      "Train examples 15104, Test examples 2423, Val examples 2833\n"
     ]
    },
    {
     "name": "stderr",
     "output_type": "stream",
     "text": [
      "100%|██████████| 3963/3963 [00:00<00:00, 73726.26it/s]\n",
      "100%|██████████| 3964/3964 [00:02<00:00, 1819.78it/s]\n"
     ]
    },
    {
     "name": "stdout",
     "output_type": "stream",
     "text": [
      "[(datetime.date(2019, 12, 1), datetime.date(2021, 7, 23)), (datetime.date(2021, 7, 23), datetime.date(2022, 12, 31))]\n",
      "2021-07-23\n",
      "2022-12-31\n",
      "Train examples [8100, 7003]\n"
     ]
    },
    {
     "name": "stderr",
     "output_type": "stream",
     "text": [
      "100%|██████████| 3963/3963 [00:02<00:00, 1325.80it/s]\n",
      "100%|██████████| 3963/3963 [00:02<00:00, 1541.61it/s]\n",
      "100%|██████████| 2/2 [00:05<00:00,  2.79s/it]\n"
     ]
    },
    {
     "name": "stdout",
     "output_type": "stream",
     "text": [
      "Train examples [2319, 2111]\n",
      "Train examples [2319, 2111]\n",
      "Train examples [8100, 7003]\n",
      "Train examples [8100, 7003]\n",
      "here\n",
      "input_size=26\n"
     ]
    },
    {
     "name": "stderr",
     "output_type": "stream",
     "text": [
      "C:\\Users\\Nick\\AppData\\Local\\Temp\\ipykernel_8176\\3542074422.py:70: UserWarning: To copy construct from a tensor, it is recommended to use sourceTensor.clone().detach() or sourceTensor.clone().detach().requires_grad_(True), rather than torch.tensor(sourceTensor).\n",
      "  config['stat_mask_tensor'] = torch.tensor(stat_mask, dtype=torch.uint8).to(device)\n",
      "c:\\Users\\Nick\\.conda\\envs\\python311\\Lib\\site-packages\\torch\\nn\\modules\\lazy.py:180: UserWarning: Lazy modules are a new feature under heavy development so changes to the API or functionality can happen at any moment.\n",
      "  warnings.warn('Lazy modules are a new feature under heavy development '\n"
     ]
    },
    {
     "name": "stdout",
     "output_type": "stream",
     "text": [
      "GRUNetv3_extra(\n",
      "  (gru): GRU(26, 256, num_layers=2, dropout=0.3)\n",
      "  (relu): ReLU()\n",
      "  (fc0): Linear(in_features=2630, out_features=2048, bias=True)\n",
      "  (batch_norm): BatchNorm1d(26, eps=1e-05, momentum=0.1, affine=True, track_running_stats=True)\n",
      "  (batch_norm_data): BatchNorm1d(26, eps=1e-05, momentum=0.1, affine=True, track_running_stats=True)\n",
      "  (extra_1): GRUNetv3_simple_extra_data(\n",
      "    (batch_norm): LazyBatchNorm1d(0, eps=1e-05, momentum=0.1, affine=True, track_running_stats=True)\n",
      "    (relu): ReLU()\n",
      "    (fc0_p1): LazyLinear(in_features=0, out_features=128, bias=True)\n",
      "    (fc0_p1_drop): Dropout(p=0.3, inplace=False)\n",
      "    (fc0_p2): Linear(in_features=128, out_features=64, bias=True)\n",
      "    (fc0_p2_drop): Dropout(p=0.3, inplace=False)\n",
      "    (fc0_p3): Linear(in_features=64, out_features=64, bias=True)\n",
      "    (fc0_p3_drop): Dropout(p=0.3, inplace=False)\n",
      "  )\n",
      "  (fc0_p1): Linear(in_features=512, out_features=256, bias=True)\n",
      "  (fc0_p1_drop): Dropout(p=0.3, inplace=False)\n",
      "  (fc0_p2): Linear(in_features=256, out_features=256, bias=True)\n",
      "  (fc0_p2_drop): Dropout(p=0.3, inplace=False)\n",
      "  (fc0_p3): Linear(in_features=256, out_features=256, bias=True)\n",
      "  (fc0_p3_drop): Dropout(p=0.3, inplace=False)\n",
      "  (relu0): ReLU()\n",
      "  (drop1): Dropout(p=0.3, inplace=False)\n",
      "  (fc1): Linear(in_features=2048, out_features=1024, bias=True)\n",
      "  (drop2): Dropout(p=0.3, inplace=False)\n",
      "  (fc2): Linear(in_features=1024, out_features=64, bias=True)\n",
      "  (drop3): Dropout(p=0.3, inplace=False)\n",
      "  (fc3): Linear(in_features=64, out_features=8, bias=True)\n",
      "  (output_fn): Identity()\n",
      ")\n"
     ]
    },
    {
     "name": "stderr",
     "output_type": "stream",
     "text": [
      "  0%|          | 0/250 [00:00<?, ?it/s]"
     ]
    },
    {
     "name": "stdout",
     "output_type": "stream",
     "text": [
      "output.shape=torch.Size([2423, 8])\n",
      "output.shape=torch.Size([2833, 8])\n",
      "created path\n"
     ]
    },
    {
     "name": "stderr",
     "output_type": "stream",
     "text": [
      "  1%|          | 3/250 [00:58<1:06:07, 16.06s/it]"
     ]
    },
    {
     "name": "stdout",
     "output_type": "stream",
     "text": [
      "output.shape=torch.Size([2423, 8])\n",
      "output.shape=torch.Size([2833, 8])\n"
     ]
    },
    {
     "name": "stderr",
     "output_type": "stream",
     "text": [
      "  2%|▏         | 6/250 [01:56<1:05:40, 16.15s/it]"
     ]
    },
    {
     "name": "stdout",
     "output_type": "stream",
     "text": [
      "output.shape=torch.Size([2423, 8])\n",
      "output.shape=torch.Size([2833, 8])\n"
     ]
    },
    {
     "name": "stderr",
     "output_type": "stream",
     "text": [
      "  4%|▎         | 9/250 [02:49<1:00:38, 15.10s/it]"
     ]
    },
    {
     "name": "stdout",
     "output_type": "stream",
     "text": [
      "output.shape=torch.Size([2423, 8])\n",
      "output.shape=torch.Size([2833, 8])\n"
     ]
    },
    {
     "name": "stderr",
     "output_type": "stream",
     "text": [
      "  5%|▍         | 12/250 [03:43<59:41, 15.05s/it]  "
     ]
    },
    {
     "name": "stdout",
     "output_type": "stream",
     "text": [
      "output.shape=torch.Size([2423, 8])\n",
      "output.shape=torch.Size([2833, 8])\n"
     ]
    },
    {
     "name": "stderr",
     "output_type": "stream",
     "text": [
      "  6%|▌         | 15/250 [04:37<59:24, 15.17s/it]  "
     ]
    },
    {
     "name": "stdout",
     "output_type": "stream",
     "text": [
      "output.shape=torch.Size([2423, 8])\n",
      "output.shape=torch.Size([2833, 8])\n"
     ]
    },
    {
     "name": "stderr",
     "output_type": "stream",
     "text": [
      "  7%|▋         | 18/250 [05:30<57:24, 14.85s/it]  "
     ]
    },
    {
     "name": "stdout",
     "output_type": "stream",
     "text": [
      "output.shape=torch.Size([2423, 8])\n",
      "output.shape=torch.Size([2833, 8])\n"
     ]
    },
    {
     "name": "stderr",
     "output_type": "stream",
     "text": [
      "  8%|▊         | 21/250 [06:23<57:04, 14.95s/it]  "
     ]
    },
    {
     "name": "stdout",
     "output_type": "stream",
     "text": [
      "output.shape=torch.Size([2423, 8])\n",
      "output.shape=torch.Size([2833, 8])\n"
     ]
    },
    {
     "name": "stderr",
     "output_type": "stream",
     "text": [
      " 10%|▉         | 24/250 [07:16<55:38, 14.77s/it]  "
     ]
    },
    {
     "name": "stdout",
     "output_type": "stream",
     "text": [
      "output.shape=torch.Size([2423, 8])\n",
      "output.shape=torch.Size([2833, 8])\n"
     ]
    },
    {
     "name": "stderr",
     "output_type": "stream",
     "text": [
      " 11%|█         | 27/250 [08:11<56:05, 15.09s/it]  "
     ]
    },
    {
     "name": "stdout",
     "output_type": "stream",
     "text": [
      "output.shape=torch.Size([2423, 8])\n",
      "output.shape=torch.Size([2833, 8])\n"
     ]
    },
    {
     "name": "stderr",
     "output_type": "stream",
     "text": [
      " 12%|█▏        | 30/250 [09:04<54:34, 14.88s/it]  "
     ]
    },
    {
     "name": "stdout",
     "output_type": "stream",
     "text": [
      "output.shape=torch.Size([2423, 8])\n",
      "output.shape=torch.Size([2833, 8])\n"
     ]
    },
    {
     "name": "stderr",
     "output_type": "stream",
     "text": [
      " 13%|█▎        | 33/250 [09:57<53:44, 14.86s/it]  "
     ]
    },
    {
     "name": "stdout",
     "output_type": "stream",
     "text": [
      "output.shape=torch.Size([2423, 8])\n",
      "output.shape=torch.Size([2833, 8])\n"
     ]
    },
    {
     "name": "stderr",
     "output_type": "stream",
     "text": [
      " 14%|█▍        | 36/250 [10:51<52:58, 14.85s/it]  "
     ]
    },
    {
     "name": "stdout",
     "output_type": "stream",
     "text": [
      "output.shape=torch.Size([2423, 8])\n",
      "output.shape=torch.Size([2833, 8])\n"
     ]
    },
    {
     "name": "stderr",
     "output_type": "stream",
     "text": [
      " 16%|█▌        | 39/250 [11:45<52:22, 14.89s/it]  "
     ]
    },
    {
     "name": "stdout",
     "output_type": "stream",
     "text": [
      "output.shape=torch.Size([2423, 8])\n",
      "output.shape=torch.Size([2833, 8])\n"
     ]
    },
    {
     "name": "stderr",
     "output_type": "stream",
     "text": [
      " 17%|█▋        | 42/250 [12:40<52:45, 15.22s/it]  "
     ]
    },
    {
     "name": "stdout",
     "output_type": "stream",
     "text": [
      "output.shape=torch.Size([2423, 8])\n",
      "output.shape=torch.Size([2833, 8])\n"
     ]
    },
    {
     "name": "stderr",
     "output_type": "stream",
     "text": [
      " 18%|█▊        | 45/250 [13:33<51:14, 15.00s/it]  "
     ]
    },
    {
     "name": "stdout",
     "output_type": "stream",
     "text": [
      "output.shape=torch.Size([2423, 8])\n",
      "output.shape=torch.Size([2833, 8])\n"
     ]
    },
    {
     "name": "stderr",
     "output_type": "stream",
     "text": [
      " 19%|█▉        | 48/250 [14:26<49:35, 14.73s/it]  "
     ]
    },
    {
     "name": "stdout",
     "output_type": "stream",
     "text": [
      "output.shape=torch.Size([2423, 8])\n",
      "output.shape=torch.Size([2833, 8])\n"
     ]
    },
    {
     "name": "stderr",
     "output_type": "stream",
     "text": [
      " 20%|██        | 51/250 [15:20<50:15, 15.15s/it]  "
     ]
    },
    {
     "name": "stdout",
     "output_type": "stream",
     "text": [
      "output.shape=torch.Size([2423, 8])\n",
      "output.shape=torch.Size([2833, 8])\n"
     ]
    },
    {
     "name": "stderr",
     "output_type": "stream",
     "text": [
      " 22%|██▏       | 54/250 [16:14<48:58, 14.99s/it]  "
     ]
    },
    {
     "name": "stdout",
     "output_type": "stream",
     "text": [
      "output.shape=torch.Size([2423, 8])\n",
      "output.shape=torch.Size([2833, 8])\n"
     ]
    },
    {
     "name": "stderr",
     "output_type": "stream",
     "text": [
      " 23%|██▎       | 57/250 [17:08<48:29, 15.08s/it]  "
     ]
    },
    {
     "name": "stdout",
     "output_type": "stream",
     "text": [
      "output.shape=torch.Size([2423, 8])\n",
      "output.shape=torch.Size([2833, 8])\n"
     ]
    },
    {
     "name": "stderr",
     "output_type": "stream",
     "text": [
      " 24%|██▍       | 60/250 [18:01<47:24, 14.97s/it]  "
     ]
    },
    {
     "name": "stdout",
     "output_type": "stream",
     "text": [
      "output.shape=torch.Size([2423, 8])\n",
      "output.shape=torch.Size([2833, 8])\n"
     ]
    },
    {
     "name": "stderr",
     "output_type": "stream",
     "text": [
      " 25%|██▌       | 63/250 [18:55<46:17, 14.85s/it]  "
     ]
    },
    {
     "name": "stdout",
     "output_type": "stream",
     "text": [
      "output.shape=torch.Size([2423, 8])\n",
      "output.shape=torch.Size([2833, 8])\n"
     ]
    },
    {
     "name": "stderr",
     "output_type": "stream",
     "text": [
      " 26%|██▋       | 66/250 [19:49<46:35, 15.19s/it]  "
     ]
    },
    {
     "name": "stdout",
     "output_type": "stream",
     "text": [
      "output.shape=torch.Size([2423, 8])\n",
      "output.shape=torch.Size([2833, 8])\n"
     ]
    },
    {
     "name": "stderr",
     "output_type": "stream",
     "text": [
      " 28%|██▊       | 69/250 [20:43<45:23, 15.05s/it]  "
     ]
    },
    {
     "name": "stdout",
     "output_type": "stream",
     "text": [
      "output.shape=torch.Size([2423, 8])\n",
      "output.shape=torch.Size([2833, 8])\n"
     ]
    },
    {
     "name": "stderr",
     "output_type": "stream",
     "text": [
      " 29%|██▉       | 72/250 [21:37<45:05, 15.20s/it]  "
     ]
    },
    {
     "name": "stdout",
     "output_type": "stream",
     "text": [
      "output.shape=torch.Size([2423, 8])\n",
      "output.shape=torch.Size([2833, 8])\n"
     ]
    },
    {
     "name": "stderr",
     "output_type": "stream",
     "text": [
      " 30%|███       | 75/250 [22:31<44:06, 15.13s/it]  "
     ]
    },
    {
     "name": "stdout",
     "output_type": "stream",
     "text": [
      "output.shape=torch.Size([2423, 8])\n",
      "output.shape=torch.Size([2833, 8])\n"
     ]
    },
    {
     "name": "stderr",
     "output_type": "stream",
     "text": [
      " 31%|███       | 78/250 [23:25<42:48, 14.94s/it]  "
     ]
    },
    {
     "name": "stdout",
     "output_type": "stream",
     "text": [
      "output.shape=torch.Size([2423, 8])\n",
      "output.shape=torch.Size([2833, 8])\n"
     ]
    },
    {
     "name": "stderr",
     "output_type": "stream",
     "text": [
      " 32%|███▏      | 81/250 [24:20<43:20, 15.39s/it]  "
     ]
    },
    {
     "name": "stdout",
     "output_type": "stream",
     "text": [
      "output.shape=torch.Size([2423, 8])\n",
      "output.shape=torch.Size([2833, 8])\n"
     ]
    },
    {
     "name": "stderr",
     "output_type": "stream",
     "text": [
      " 34%|███▎      | 84/250 [25:14<41:55, 15.15s/it]"
     ]
    },
    {
     "name": "stdout",
     "output_type": "stream",
     "text": [
      "output.shape=torch.Size([2423, 8])\n",
      "output.shape=torch.Size([2833, 8])\n"
     ]
    },
    {
     "name": "stderr",
     "output_type": "stream",
     "text": [
      " 35%|███▍      | 87/250 [26:08<40:45, 15.01s/it]"
     ]
    },
    {
     "name": "stdout",
     "output_type": "stream",
     "text": [
      "output.shape=torch.Size([2423, 8])\n",
      "output.shape=torch.Size([2833, 8])\n"
     ]
    },
    {
     "name": "stderr",
     "output_type": "stream",
     "text": [
      " 36%|███▌      | 90/250 [27:02<39:53, 14.96s/it]"
     ]
    },
    {
     "name": "stdout",
     "output_type": "stream",
     "text": [
      "output.shape=torch.Size([2423, 8])\n",
      "output.shape=torch.Size([2833, 8])\n"
     ]
    },
    {
     "name": "stderr",
     "output_type": "stream",
     "text": [
      " 37%|███▋      | 93/250 [27:57<39:30, 15.10s/it]"
     ]
    },
    {
     "name": "stdout",
     "output_type": "stream",
     "text": [
      "output.shape=torch.Size([2423, 8])\n",
      "output.shape=torch.Size([2833, 8])\n"
     ]
    },
    {
     "name": "stderr",
     "output_type": "stream",
     "text": [
      " 38%|███▊      | 96/250 [28:51<38:35, 15.04s/it]"
     ]
    },
    {
     "name": "stdout",
     "output_type": "stream",
     "text": [
      "output.shape=torch.Size([2423, 8])\n",
      "output.shape=torch.Size([2833, 8])\n"
     ]
    },
    {
     "name": "stderr",
     "output_type": "stream",
     "text": [
      " 40%|███▉      | 99/250 [29:45<37:36, 14.95s/it]"
     ]
    },
    {
     "name": "stdout",
     "output_type": "stream",
     "text": [
      "output.shape=torch.Size([2423, 8])\n",
      "output.shape=torch.Size([2833, 8])\n"
     ]
    },
    {
     "name": "stderr",
     "output_type": "stream",
     "text": [
      " 41%|████      | 102/250 [30:39<36:57, 14.98s/it]"
     ]
    },
    {
     "name": "stdout",
     "output_type": "stream",
     "text": [
      "output.shape=torch.Size([2423, 8])\n",
      "output.shape=torch.Size([2833, 8])\n"
     ]
    },
    {
     "name": "stderr",
     "output_type": "stream",
     "text": [
      " 42%|████▏     | 105/250 [31:33<36:13, 14.99s/it]"
     ]
    },
    {
     "name": "stdout",
     "output_type": "stream",
     "text": [
      "output.shape=torch.Size([2423, 8])\n",
      "output.shape=torch.Size([2833, 8])\n"
     ]
    },
    {
     "name": "stderr",
     "output_type": "stream",
     "text": [
      " 43%|████▎     | 108/250 [32:28<35:47, 15.12s/it]"
     ]
    },
    {
     "name": "stdout",
     "output_type": "stream",
     "text": [
      "output.shape=torch.Size([2423, 8])\n",
      "output.shape=torch.Size([2833, 8])\n"
     ]
    },
    {
     "name": "stderr",
     "output_type": "stream",
     "text": [
      " 44%|████▍     | 111/250 [33:22<34:44, 14.99s/it]"
     ]
    },
    {
     "name": "stdout",
     "output_type": "stream",
     "text": [
      "output.shape=torch.Size([2423, 8])\n",
      "output.shape=torch.Size([2833, 8])\n"
     ]
    },
    {
     "name": "stderr",
     "output_type": "stream",
     "text": [
      " 46%|████▌     | 114/250 [34:16<33:52, 14.95s/it]"
     ]
    },
    {
     "name": "stdout",
     "output_type": "stream",
     "text": [
      "output.shape=torch.Size([2423, 8])\n",
      "output.shape=torch.Size([2833, 8])\n"
     ]
    },
    {
     "name": "stderr",
     "output_type": "stream",
     "text": [
      " 47%|████▋     | 117/250 [35:10<33:16, 15.01s/it]"
     ]
    },
    {
     "name": "stdout",
     "output_type": "stream",
     "text": [
      "output.shape=torch.Size([2423, 8])\n",
      "output.shape=torch.Size([2833, 8])\n"
     ]
    },
    {
     "name": "stderr",
     "output_type": "stream",
     "text": [
      " 48%|████▊     | 120/250 [36:05<32:40, 15.08s/it]"
     ]
    },
    {
     "name": "stdout",
     "output_type": "stream",
     "text": [
      "output.shape=torch.Size([2423, 8])\n",
      "output.shape=torch.Size([2833, 8])\n"
     ]
    },
    {
     "name": "stderr",
     "output_type": "stream",
     "text": [
      " 49%|████▉     | 123/250 [36:59<31:54, 15.07s/it]"
     ]
    },
    {
     "name": "stdout",
     "output_type": "stream",
     "text": [
      "output.shape=torch.Size([2423, 8])\n",
      "output.shape=torch.Size([2833, 8])\n"
     ]
    },
    {
     "name": "stderr",
     "output_type": "stream",
     "text": [
      " 50%|█████     | 126/250 [37:53<31:03, 15.03s/it]"
     ]
    },
    {
     "name": "stdout",
     "output_type": "stream",
     "text": [
      "output.shape=torch.Size([2423, 8])\n",
      "output.shape=torch.Size([2833, 8])\n"
     ]
    },
    {
     "name": "stderr",
     "output_type": "stream",
     "text": [
      " 52%|█████▏    | 129/250 [38:48<30:21, 15.06s/it]"
     ]
    },
    {
     "name": "stdout",
     "output_type": "stream",
     "text": [
      "output.shape=torch.Size([2423, 8])\n",
      "output.shape=torch.Size([2833, 8])\n"
     ]
    },
    {
     "name": "stderr",
     "output_type": "stream",
     "text": [
      " 53%|█████▎    | 132/250 [39:42<29:33, 15.03s/it]"
     ]
    },
    {
     "name": "stdout",
     "output_type": "stream",
     "text": [
      "output.shape=torch.Size([2423, 8])\n",
      "output.shape=torch.Size([2833, 8])\n"
     ]
    },
    {
     "name": "stderr",
     "output_type": "stream",
     "text": [
      " 54%|█████▍    | 135/250 [40:36<28:47, 15.02s/it]"
     ]
    },
    {
     "name": "stdout",
     "output_type": "stream",
     "text": [
      "output.shape=torch.Size([2423, 8])\n",
      "output.shape=torch.Size([2833, 8])\n"
     ]
    },
    {
     "name": "stderr",
     "output_type": "stream",
     "text": [
      " 55%|█████▌    | 138/250 [41:30<28:02, 15.03s/it]"
     ]
    },
    {
     "name": "stdout",
     "output_type": "stream",
     "text": [
      "output.shape=torch.Size([2423, 8])\n",
      "output.shape=torch.Size([2833, 8])\n"
     ]
    },
    {
     "name": "stderr",
     "output_type": "stream",
     "text": [
      " 56%|█████▋    | 141/250 [42:25<27:19, 15.04s/it]"
     ]
    },
    {
     "name": "stdout",
     "output_type": "stream",
     "text": [
      "output.shape=torch.Size([2423, 8])\n",
      "output.shape=torch.Size([2833, 8])\n"
     ]
    },
    {
     "name": "stderr",
     "output_type": "stream",
     "text": [
      " 58%|█████▊    | 144/250 [43:19<26:35, 15.05s/it]"
     ]
    },
    {
     "name": "stdout",
     "output_type": "stream",
     "text": [
      "output.shape=torch.Size([2423, 8])\n",
      "output.shape=torch.Size([2833, 8])\n"
     ]
    },
    {
     "name": "stderr",
     "output_type": "stream",
     "text": [
      " 59%|█████▉    | 147/250 [44:13<25:44, 15.00s/it]"
     ]
    },
    {
     "name": "stdout",
     "output_type": "stream",
     "text": [
      "output.shape=torch.Size([2423, 8])\n",
      "output.shape=torch.Size([2833, 8])\n"
     ]
    },
    {
     "name": "stderr",
     "output_type": "stream",
     "text": [
      " 60%|██████    | 150/250 [45:08<25:06, 15.06s/it]"
     ]
    },
    {
     "name": "stdout",
     "output_type": "stream",
     "text": [
      "output.shape=torch.Size([2423, 8])\n",
      "output.shape=torch.Size([2833, 8])\n"
     ]
    },
    {
     "name": "stderr",
     "output_type": "stream",
     "text": [
      " 61%|██████    | 153/250 [46:01<24:13, 14.98s/it]"
     ]
    },
    {
     "name": "stdout",
     "output_type": "stream",
     "text": [
      "output.shape=torch.Size([2423, 8])\n",
      "output.shape=torch.Size([2833, 8])\n"
     ]
    },
    {
     "name": "stderr",
     "output_type": "stream",
     "text": [
      " 62%|██████▏   | 156/250 [46:58<24:08, 15.41s/it]"
     ]
    },
    {
     "name": "stdout",
     "output_type": "stream",
     "text": [
      "output.shape=torch.Size([2423, 8])\n",
      "output.shape=torch.Size([2833, 8])\n"
     ]
    },
    {
     "name": "stderr",
     "output_type": "stream",
     "text": [
      " 64%|██████▎   | 159/250 [47:53<23:01, 15.18s/it]"
     ]
    },
    {
     "name": "stdout",
     "output_type": "stream",
     "text": [
      "output.shape=torch.Size([2423, 8])\n",
      "output.shape=torch.Size([2833, 8])\n"
     ]
    },
    {
     "name": "stderr",
     "output_type": "stream",
     "text": [
      " 65%|██████▍   | 162/250 [48:47<22:07, 15.08s/it]"
     ]
    },
    {
     "name": "stdout",
     "output_type": "stream",
     "text": [
      "output.shape=torch.Size([2423, 8])\n",
      "output.shape=torch.Size([2833, 8])\n"
     ]
    },
    {
     "name": "stderr",
     "output_type": "stream",
     "text": [
      " 66%|██████▌   | 165/250 [49:42<21:49, 15.41s/it]"
     ]
    },
    {
     "name": "stdout",
     "output_type": "stream",
     "text": [
      "output.shape=torch.Size([2423, 8])\n",
      "output.shape=torch.Size([2833, 8])\n"
     ]
    },
    {
     "name": "stderr",
     "output_type": "stream",
     "text": [
      " 67%|██████▋   | 168/250 [50:37<20:48, 15.22s/it]"
     ]
    },
    {
     "name": "stdout",
     "output_type": "stream",
     "text": [
      "output.shape=torch.Size([2423, 8])\n",
      "output.shape=torch.Size([2833, 8])\n"
     ]
    },
    {
     "name": "stderr",
     "output_type": "stream",
     "text": [
      " 68%|██████▊   | 171/250 [51:30<19:47, 15.03s/it]"
     ]
    },
    {
     "name": "stdout",
     "output_type": "stream",
     "text": [
      "output.shape=torch.Size([2423, 8])\n",
      "output.shape=torch.Size([2833, 8])\n"
     ]
    },
    {
     "name": "stderr",
     "output_type": "stream",
     "text": [
      " 70%|██████▉   | 174/250 [52:26<19:25, 15.33s/it]"
     ]
    },
    {
     "name": "stdout",
     "output_type": "stream",
     "text": [
      "output.shape=torch.Size([2423, 8])\n",
      "output.shape=torch.Size([2833, 8])\n"
     ]
    },
    {
     "name": "stderr",
     "output_type": "stream",
     "text": [
      " 71%|███████   | 177/250 [53:20<18:23, 15.12s/it]"
     ]
    },
    {
     "name": "stdout",
     "output_type": "stream",
     "text": [
      "output.shape=torch.Size([2423, 8])\n",
      "output.shape=torch.Size([2833, 8])\n"
     ]
    },
    {
     "name": "stderr",
     "output_type": "stream",
     "text": [
      " 72%|███████▏  | 180/250 [54:14<17:42, 15.18s/it]"
     ]
    },
    {
     "name": "stdout",
     "output_type": "stream",
     "text": [
      "output.shape=torch.Size([2423, 8])\n",
      "output.shape=torch.Size([2833, 8])\n"
     ]
    },
    {
     "name": "stderr",
     "output_type": "stream",
     "text": [
      " 73%|███████▎  | 183/250 [55:09<16:50, 15.08s/it]"
     ]
    },
    {
     "name": "stdout",
     "output_type": "stream",
     "text": [
      "output.shape=torch.Size([2423, 8])\n",
      "output.shape=torch.Size([2833, 8])\n"
     ]
    },
    {
     "name": "stderr",
     "output_type": "stream",
     "text": [
      " 74%|███████▍  | 186/250 [56:02<15:58, 14.98s/it]"
     ]
    },
    {
     "name": "stdout",
     "output_type": "stream",
     "text": [
      "output.shape=torch.Size([2423, 8])\n",
      "output.shape=torch.Size([2833, 8])\n"
     ]
    },
    {
     "name": "stderr",
     "output_type": "stream",
     "text": [
      " 76%|███████▌  | 189/250 [56:58<15:36, 15.35s/it]"
     ]
    },
    {
     "name": "stdout",
     "output_type": "stream",
     "text": [
      "output.shape=torch.Size([2423, 8])\n",
      "output.shape=torch.Size([2833, 8])\n"
     ]
    },
    {
     "name": "stderr",
     "output_type": "stream",
     "text": [
      " 77%|███████▋  | 192/250 [57:52<14:40, 15.19s/it]"
     ]
    },
    {
     "name": "stdout",
     "output_type": "stream",
     "text": [
      "output.shape=torch.Size([2423, 8])\n",
      "output.shape=torch.Size([2833, 8])\n"
     ]
    },
    {
     "name": "stderr",
     "output_type": "stream",
     "text": [
      " 78%|███████▊  | 195/250 [58:46<13:57, 15.23s/it]"
     ]
    },
    {
     "name": "stdout",
     "output_type": "stream",
     "text": [
      "output.shape=torch.Size([2423, 8])\n",
      "output.shape=torch.Size([2833, 8])\n"
     ]
    },
    {
     "name": "stderr",
     "output_type": "stream",
     "text": [
      " 79%|███████▉  | 198/250 [59:41<13:10, 15.20s/it]"
     ]
    },
    {
     "name": "stdout",
     "output_type": "stream",
     "text": [
      "output.shape=torch.Size([2423, 8])\n",
      "output.shape=torch.Size([2833, 8])\n"
     ]
    },
    {
     "name": "stderr",
     "output_type": "stream",
     "text": [
      " 80%|████████  | 201/250 [1:00:35<12:21, 15.13s/it]"
     ]
    },
    {
     "name": "stdout",
     "output_type": "stream",
     "text": [
      "output.shape=torch.Size([2423, 8])\n",
      "output.shape=torch.Size([2833, 8])\n"
     ]
    },
    {
     "name": "stderr",
     "output_type": "stream",
     "text": [
      " 82%|████████▏ | 204/250 [1:01:29<11:32, 15.06s/it]"
     ]
    },
    {
     "name": "stdout",
     "output_type": "stream",
     "text": [
      "output.shape=torch.Size([2423, 8])\n",
      "output.shape=torch.Size([2833, 8])\n"
     ]
    },
    {
     "name": "stderr",
     "output_type": "stream",
     "text": [
      " 83%|████████▎ | 207/250 [1:02:27<11:09, 15.57s/it]"
     ]
    },
    {
     "name": "stdout",
     "output_type": "stream",
     "text": [
      "output.shape=torch.Size([2423, 8])\n",
      "output.shape=torch.Size([2833, 8])\n"
     ]
    },
    {
     "name": "stderr",
     "output_type": "stream",
     "text": [
      " 84%|████████▍ | 210/250 [1:03:21<10:09, 15.23s/it]"
     ]
    },
    {
     "name": "stdout",
     "output_type": "stream",
     "text": [
      "output.shape=torch.Size([2423, 8])\n",
      "output.shape=torch.Size([2833, 8])\n"
     ]
    },
    {
     "name": "stderr",
     "output_type": "stream",
     "text": [
      " 85%|████████▌ | 213/250 [1:04:15<09:17, 15.06s/it]"
     ]
    },
    {
     "name": "stdout",
     "output_type": "stream",
     "text": [
      "output.shape=torch.Size([2423, 8])\n",
      "output.shape=torch.Size([2833, 8])\n"
     ]
    },
    {
     "name": "stderr",
     "output_type": "stream",
     "text": [
      " 86%|████████▋ | 216/250 [1:05:10<08:30, 15.01s/it]"
     ]
    },
    {
     "name": "stdout",
     "output_type": "stream",
     "text": [
      "output.shape=torch.Size([2423, 8])\n",
      "output.shape=torch.Size([2833, 8])\n"
     ]
    },
    {
     "name": "stderr",
     "output_type": "stream",
     "text": [
      " 88%|████████▊ | 219/250 [1:06:04<07:46, 15.06s/it]"
     ]
    },
    {
     "name": "stdout",
     "output_type": "stream",
     "text": [
      "output.shape=torch.Size([2423, 8])\n",
      "output.shape=torch.Size([2833, 8])\n"
     ]
    },
    {
     "name": "stderr",
     "output_type": "stream",
     "text": [
      " 89%|████████▉ | 222/250 [1:07:00<07:12, 15.44s/it]"
     ]
    },
    {
     "name": "stdout",
     "output_type": "stream",
     "text": [
      "output.shape=torch.Size([2423, 8])\n",
      "output.shape=torch.Size([2833, 8])\n"
     ]
    },
    {
     "name": "stderr",
     "output_type": "stream",
     "text": [
      " 90%|█████████ | 225/250 [1:07:54<06:23, 15.32s/it]"
     ]
    },
    {
     "name": "stdout",
     "output_type": "stream",
     "text": [
      "output.shape=torch.Size([2423, 8])\n",
      "output.shape=torch.Size([2833, 8])\n"
     ]
    },
    {
     "name": "stderr",
     "output_type": "stream",
     "text": [
      " 91%|█████████ | 228/250 [1:08:52<05:42, 15.58s/it]"
     ]
    },
    {
     "name": "stdout",
     "output_type": "stream",
     "text": [
      "output.shape=torch.Size([2423, 8])\n",
      "output.shape=torch.Size([2833, 8])\n"
     ]
    },
    {
     "name": "stderr",
     "output_type": "stream",
     "text": [
      " 92%|█████████▏| 231/250 [1:09:46<04:48, 15.18s/it]"
     ]
    },
    {
     "name": "stdout",
     "output_type": "stream",
     "text": [
      "output.shape=torch.Size([2423, 8])\n",
      "output.shape=torch.Size([2833, 8])\n"
     ]
    },
    {
     "name": "stderr",
     "output_type": "stream",
     "text": [
      " 94%|█████████▎| 234/250 [1:10:41<04:05, 15.37s/it]"
     ]
    },
    {
     "name": "stdout",
     "output_type": "stream",
     "text": [
      "output.shape=torch.Size([2423, 8])\n",
      "output.shape=torch.Size([2833, 8])\n"
     ]
    },
    {
     "name": "stderr",
     "output_type": "stream",
     "text": [
      " 95%|█████████▍| 237/250 [1:11:35<03:18, 15.23s/it]"
     ]
    },
    {
     "name": "stdout",
     "output_type": "stream",
     "text": [
      "output.shape=torch.Size([2423, 8])\n",
      "output.shape=torch.Size([2833, 8])\n"
     ]
    },
    {
     "name": "stderr",
     "output_type": "stream",
     "text": [
      " 96%|█████████▌| 240/250 [1:12:29<02:30, 15.07s/it]"
     ]
    },
    {
     "name": "stdout",
     "output_type": "stream",
     "text": [
      "output.shape=torch.Size([2423, 8])\n",
      "output.shape=torch.Size([2833, 8])\n"
     ]
    },
    {
     "name": "stderr",
     "output_type": "stream",
     "text": [
      " 97%|█████████▋| 243/250 [1:13:25<01:47, 15.41s/it]"
     ]
    },
    {
     "name": "stdout",
     "output_type": "stream",
     "text": [
      "output.shape=torch.Size([2423, 8])\n",
      "output.shape=torch.Size([2833, 8])\n"
     ]
    },
    {
     "name": "stderr",
     "output_type": "stream",
     "text": [
      " 98%|█████████▊| 246/250 [1:14:23<01:03, 15.87s/it]"
     ]
    },
    {
     "name": "stdout",
     "output_type": "stream",
     "text": [
      "output.shape=torch.Size([2423, 8])\n",
      "output.shape=torch.Size([2833, 8])\n"
     ]
    },
    {
     "name": "stderr",
     "output_type": "stream",
     "text": [
      "100%|█████████▉| 249/250 [1:15:17<00:15, 15.33s/it]"
     ]
    },
    {
     "name": "stdout",
     "output_type": "stream",
     "text": [
      "output.shape=torch.Size([2423, 8])\n",
      "output.shape=torch.Size([2833, 8])\n"
     ]
    },
    {
     "name": "stderr",
     "output_type": "stream",
     "text": [
      "100%|██████████| 250/250 [1:15:54<00:00, 18.22s/it]\n"
     ]
    },
    {
     "data": {
      "application/vnd.jupyter.widget-view+json": {
       "model_id": "a69eea78e5a143298bbe91f7655f24ff",
       "version_major": 2,
       "version_minor": 0
      },
      "text/plain": [
       "VBox(children=(Label(value='164.873 MB of 164.873 MB uploaded\\r'), FloatProgress(value=1.0, max=1.0)))"
      ]
     },
     "metadata": {},
     "output_type": "display_data"
    },
    {
     "data": {
      "text/html": [
       "<style>\n",
       "    table.wandb td:nth-child(1) { padding: 0 10px; text-align: left ; width: auto;} td:nth-child(2) {text-align: left ; width: 100%}\n",
       "    .wandb-row { display: flex; flex-direction: row; flex-wrap: wrap; justify-content: flex-start; width: 100% }\n",
       "    .wandb-col { display: flex; flex-direction: column; flex-basis: 100%; flex: 1; padding: 10px; }\n",
       "    </style>\n",
       "<div class=\"wandb-row\"><div class=\"wandb-col\"><h3>Run history:</h3><br/><table class=\"wandb\"><tr><td>ROI < 30</td><td>▆▆▆▆▆█▇▆▅▃▄▆▇▆▅▆▆▇▆▇▆▇▇▆▆▇▅▅▄▆█▂▄▂▄▂▃▄▂▁</td></tr><tr><td>ROI < 30 2</td><td>▆▆▆▆▆█▇▄▅▃▄▅▄▄▃▄▅▆▅▆▅▅▅▄▃▅▄▃▄▄▆▂▄▂▂▂▂▃▁▁</td></tr><tr><td>accuracy</td><td>▁▁▃▃▃▃▄▆▇██████████████████▇█▇▇▇▇▇▇▇▇▇▇▇</td></tr><tr><td>accuracy2</td><td>▁▁▃▃▃▃▄▆██████████████████▇▇▇▇▇▇▇▇▇▇▇▇▇▇</td></tr><tr><td>epoch</td><td>▁▁▁▁▂▂▂▂▂▃▃▃▃▃▃▄▄▄▄▄▅▅▅▅▅▅▆▆▆▆▆▆▇▇▇▇▇███</td></tr><tr><td>favorite_accuracy</td><td>▁▁▁▁▁▁▁▁▁▁▁▁▁▁▁▁▁▁▁▁▁▁▁▁▁▁▁▁▁▁▁▁▁▁▁▁▁▁▁▁</td></tr><tr><td>flat_simple</td><td>▁▂▆▆▆▄▅▃█▆▇▅▅▅▆▄▆▇▄▅▅▄▆▆▆▅▇▄▆▇▇▄▅▅▄▄▃▃▃▄</td></tr><tr><td>kelly roi</td><td>▄▄▄▄▅▅▆▇▃▃▃▄▅▅▄▅▅▆▅█▆█▇▇▆█▆▅▅▇█▃▄▁▄▃▃▅▂▂</td></tr><tr><td>loss_1</td><td>█████▇▇▇▆▆▆▆▆▆▆▅▅▅▅▅▅▄▄▄▄▃▃▃▃▂▂▂▂▂▂▁▁▁▁▁</td></tr><tr><td>loss_bfsp</td><td>▁▁▁▁▁▁▁▁▁▁▁▁▁▁▁▁▁▁▁▁▁▁▁▁▁▁▁▁▁▁▁▁▁▁▁▁▁▁▁▁</td></tr><tr><td>loss_p</td><td>███▇▇▆▆▅▃▂▂▂▂▂▁▁▁▁▁▁▁▁▁▁▁▁▁▂▂▂▂▂▂▂▂▂▂▂▂▂</td></tr><tr><td>loss_val</td><td>████▇▇▆▅▃▃▂▂▂▂▂▁▁▁▁▁▁▁▁▁▁▁▂▂▂▂▂▂▂▃▃▃▃▂▃▃</td></tr><tr><td>multibet outlay < 30</td><td>▃▃▃▃▃▃▂▂▁▁▁▁▁▁▁▁▁▂▂▂▂▃▃▃▄▅▅▅▆▆▆▇▇█▇██▇██</td></tr><tr><td>multibet profit</td><td>▆▆▆▆▆▇██▃▂▂▃▄▄▃▄▃▄▄▆▄▆▅▅▅▇▅▄▄▆█▃▄▁▅▃▃▅▂▂</td></tr><tr><td>multibet profit < 30</td><td>▅▅▅▅▅▆▆▄▄▃▃▄▅▅▄▄▄▅▄▅▅▆▅▅▅▆▅▄▄▆█▃▄▂▄▂▃▅▂▁</td></tr><tr><td>multibet profit < 30 sd</td><td>▆▅▅▅▅▆▅▄▃▂▁▂▁▁▁▁▁▂▂▂▂▃▃▃▄▅▅▅▆▆█▆▇▇███▇▇▇</td></tr><tr><td>mutual_info</td><td>▂▁▁▁▁▁▂▃▃▃▃▃▃▃▃▃▄▄▄▄▄▅▅▅▅▆▆▆▇▇▇▇████████</td></tr><tr><td>profit_relu</td><td>▂▄▅▅▇█▅▃▁▁▁▁▁▁▁▁▁▂▁▂▂▂▁▂▁▂▁▁▁▁▂▁▁▁▁▁▁▁▁▁</td></tr><tr><td>relu roi</td><td>▂▂▂▂▄▅▅▆▂▂▁▂▃▂▁▂▂▄▃▅▅▆▄▆▅█▆▅▆▇█▃▄▃▅▅▄▅▃▄</td></tr><tr><td>val_ROI < 30</td><td>▇▅▅▅▄▅▃▁▃▃▄▄▄▄▄▃▄▅▄▅▅▆▅▅▅▃▇▇▅▄▁▇▇▄▄██▆▅▃</td></tr><tr><td>val_ROI < 30 2</td><td>█▆▅▅▄▄▃▁▆▅▇▅▆▄▅▄▄▅▄▆▅▆▅▆▆▄▇█▄▄▂▇▆▄▄▆▆▅▅▄</td></tr><tr><td>val_accuracy</td><td>▁▁▃▃▃▃▄▆██████████████████▇▇▇▇▇▇▇▇▇▇▇▇▇▇</td></tr><tr><td>val_flat_simple</td><td>▃▆▁▁▁▂▂▅▇▇▇▇▆▇▇▆▆▆▆▆▆▆▇▇█▆▇█▆▇▆█▇▆▅▆▆▆▆▇</td></tr><tr><td>val_kelly roi</td><td>▂▂▂▂▂▂▁▁▃▃▄▄▄▄▄▄▄▅▅▅▅▅▆▆▆▅▆▆▆▆▆▇▇▆▆██▇▇▆</td></tr><tr><td>val_loss_bfsp</td><td>▁▁▁▁▁▁▁▁▁▁▁▁▁▁▁▁▁▁▁▁▁▁▁▁▁▁▁▁▁▁▁▁▁▁▁▁▁▁▁▁</td></tr><tr><td>val_loss_p</td><td>████▇▇▆▅▃▂▂▂▂▂▁▁▁▁▁▁▁▁▁▁▁▁▂▂▂▂▂▂▂▂▂▂▂▂▂▂</td></tr><tr><td>val_loss_val</td><td>████▇▇▆▅▃▃▂▂▂▂▁▁▁▁▁▁▁▁▁▁▁▂▂▂▂▂▂▂▂▃▃▃▃▂▃▃</td></tr><tr><td>val_multibet outlay < 30</td><td>▃▂▂▂▂▂▂▂▁▁▁▁▁▁▁▁▁▂▂▂▂▂▃▃▄▅▅▅▆▆▆▇▇█▇██▇██</td></tr><tr><td>val_multibet profit</td><td>▂▁▁▁▁▁▁▁▄▄▅▅▅▅▅▅▅▆▆▆▆▆▆▆▆▆▇▇▆▆▆▇▇▆▆██▇▇▆</td></tr><tr><td>val_multibet profit < 30</td><td>▇▆▅▅▅▅▄▂▄▄▅▅▅▄▅▄▅▅▄▆▅▆▅▆▅▃▇▆▄▄▁▇▇▄▄██▆▅▃</td></tr><tr><td>val_multibet profit < 30 sd</td><td>▄▄▄▄▃▄▃▂▂▁▂▁▁▁▁▁▁▂▁▂▂▂▃▃▃▄▅▅▅▅▅▆▇▆▆██▇▇▇</td></tr><tr><td>val_mutual_info</td><td>▂▁▁▁▁▁▂▂▃▃▃▃▃▃▃▃▄▄▄▄▄▅▅▅▅▆▆▆▇▇▇▇████████</td></tr><tr><td>val_profit_relu</td><td>▆▃▁▂▂▃▅▆▇▇▇▇▇▇▇▇▇▇▇█████████████████████</td></tr><tr><td>val_relu roi</td><td>▂▁▁▁▁▂▃▁▂▂▂▃▂▂▂▂▃▃▃▄▄▄▅▄▅▄▆▆▅▅▅▇▇▆▆█▇▇▇▆</td></tr><tr><td>valfavorite_accuracy</td><td>▁▁▁▁▁▁▁▁▁▁▁▁▁▁▁▁▁▁▁▁▁▁▁▁▁▁▁▁▁▁▁▁▁▁▁▁▁▁▁▁</td></tr></table><br/></div><div class=\"wandb-col\"><h3>Run summary:</h3><br/><table class=\"wandb\"><tr><td>ROI < 30 2</td><td>-0.01229</td></tr><tr><td>accuracy2</td><td>0.30745</td></tr><tr><td>epoch</td><td>249</td></tr><tr><td>favorite_accuracy</td><td>0.38562</td></tr><tr><td>flat_simple</td><td>-70.4483</td></tr><tr><td>kelly roi</td><td>0.04527</td></tr><tr><td>loss_1</td><td>1.02262</td></tr><tr><td>loss_bfsp</td><td>1.945</td></tr><tr><td>loss_p</td><td>1.79497</td></tr><tr><td>multibet outlay < 30</td><td>46980.8809</td></tr><tr><td>multibet profit</td><td>2516.15304</td></tr><tr><td>multibet profit < 30</td><td>88.4078</td></tr><tr><td>multibet profit < 30 sd</td><td>18.31601</td></tr><tr><td>mutual_info</td><td>0.07792</td></tr><tr><td>profit_relu</td><td>44540.93589</td></tr><tr><td>val_ROI < 30</td><td>-0.04849</td></tr><tr><td>val_ROI < 30 2</td><td>-0.05461</td></tr><tr><td>val_accuracy</td><td>0.30745</td></tr><tr><td>val_flat_simple</td><td>-74.84358</td></tr><tr><td>val_kelly roi</td><td>-0.07969</td></tr><tr><td>val_loss_bfsp</td><td>1.94131</td></tr><tr><td>val_loss_p</td><td>1.78304</td></tr><tr><td>val_loss_val</td><td>1.83172</td></tr><tr><td>val_multibet outlay < 30</td><td>44440.88244</td></tr><tr><td>val_multibet profit</td><td>-4196.77145</td></tr><tr><td>val_multibet profit < 30</td><td>-2155.11313</td></tr><tr><td>val_multibet profit < 30 sd</td><td>19.95149</td></tr><tr><td>val_mutual_info</td><td>0.07816</td></tr><tr><td>val_profit_relu</td><td>-63794.95265</td></tr><tr><td>val_relu roi</td><td>-0.09351</td></tr><tr><td>valfavorite_accuracy</td><td>0.39215</td></tr></table><br/></div></div>"
      ],
      "text/plain": [
       "<IPython.core.display.HTML object>"
      ]
     },
     "metadata": {},
     "output_type": "display_data"
    },
    {
     "data": {
      "text/html": [
       " View run <strong style=\"color:#cdcd00\">stellar-pine-41</strong> at: <a href='https://wandb.ai/nickojelly/NEW%20GRU%20V7%20Reporting/runs/l6r914yq' target=\"_blank\">https://wandb.ai/nickojelly/NEW%20GRU%20V7%20Reporting/runs/l6r914yq</a><br/>Synced 5 W&B file(s), 756 media file(s), 756 artifact file(s) and 0 other file(s)"
      ],
      "text/plain": [
       "<IPython.core.display.HTML object>"
      ]
     },
     "metadata": {},
     "output_type": "display_data"
    },
    {
     "data": {
      "text/html": [
       "Find logs at: <code>.\\wandb\\run-20240208_211300-l6r914yq\\logs</code>"
      ],
      "text/plain": [
       "<IPython.core.display.HTML object>"
      ]
     },
     "metadata": {},
     "output_type": "display_data"
    },
    {
     "data": {
      "application/vnd.jupyter.widget-view+json": {
       "model_id": "6b61568f43e34fb29a533a98bb6c3b36",
       "version_major": 2,
       "version_minor": 0
      },
      "text/plain": [
       "VBox(children=(Label(value='Waiting for wandb.init()...\\r'), FloatProgress(value=0.011111111111111112, max=1.0…"
      ]
     },
     "metadata": {},
     "output_type": "display_data"
    },
    {
     "data": {
      "text/html": [
       "wandb version 0.16.3 is available!  To upgrade, please run:\n",
       " $ pip install wandb --upgrade"
      ],
      "text/plain": [
       "<IPython.core.display.HTML object>"
      ]
     },
     "metadata": {},
     "output_type": "display_data"
    },
    {
     "data": {
      "text/html": [
       "Tracking run with wandb version 0.16.2"
      ],
      "text/plain": [
       "<IPython.core.display.HTML object>"
      ]
     },
     "metadata": {},
     "output_type": "display_data"
    },
    {
     "data": {
      "text/html": [
       "Run data is saved locally in <code>c:\\Users\\Nick\\Documents\\GitHub\\grvmodel\\python\\wandb\\run-20240208_222947-po3ets79</code>"
      ],
      "text/plain": [
       "<IPython.core.display.HTML object>"
      ]
     },
     "metadata": {},
     "output_type": "display_data"
    },
    {
     "data": {
      "text/html": [
       "Syncing run <strong><a href='https://wandb.ai/nickojelly/NEW%20GRU%20V7%20Reporting/runs/po3ets79' target=\"_blank\">dulcet-feather-42</a></strong> to <a href='https://wandb.ai/nickojelly/NEW%20GRU%20V7%20Reporting' target=\"_blank\">Weights & Biases</a> (<a href='https://wandb.me/run' target=\"_blank\">docs</a>)<br/>"
      ],
      "text/plain": [
       "<IPython.core.display.HTML object>"
      ]
     },
     "metadata": {},
     "output_type": "display_data"
    },
    {
     "data": {
      "text/html": [
       " View project at <a href='https://wandb.ai/nickojelly/NEW%20GRU%20V7%20Reporting' target=\"_blank\">https://wandb.ai/nickojelly/NEW%20GRU%20V7%20Reporting</a>"
      ],
      "text/plain": [
       "<IPython.core.display.HTML object>"
      ]
     },
     "metadata": {},
     "output_type": "display_data"
    },
    {
     "data": {
      "text/html": [
       " View run at <a href='https://wandb.ai/nickojelly/NEW%20GRU%20V7%20Reporting/runs/po3ets79' target=\"_blank\">https://wandb.ai/nickojelly/NEW%20GRU%20V7%20Reporting/runs/po3ets79</a>"
      ],
      "text/plain": [
       "<IPython.core.display.HTML object>"
      ]
     },
     "metadata": {},
     "output_type": "display_data"
    },
    {
     "name": "stdout",
     "output_type": "stream",
     "text": [
      "{'hidden_size': 256, 'stats': ['inside', 'midfield', 'wide', 'weight', 'DogGrade', '_dist_last__1', '_box_last__1', '_speed_avg_1', '_split_speed_avg_1', '_split_margin_avg_1', '_margin_avg_1', '_margin_time_avg_1', '_RunHomeTime_1', '_run_home_speed_1', '_first_out_avg_1', '_pos_out_avg_1', '_post_change_avg_1', '_races_1', '_wins_1', '_wins_last_1', '_weight_', '_min_time_', '_min_split_time_', '_last_start_price', '_last_start_prob', 'dist_dist_last__10', 'dist_box_last__10', 'dist_speed_avg_10', 'dist_split_speed_avg_10', 'dist_split_margin_avg_10', 'dist_margin_avg_10', 'dist_margin_time_avg_10', 'dist_RunHomeTime_10', 'dist_run_home_speed_10', 'dist_first_out_avg_10', 'dist_pos_out_avg_10', 'dist_post_change_avg_10', 'dist_races_10', 'dist_wins_10', 'dist_wins_last_10', 'dist_weight_', 'dist_min_time_', 'dist_min_split_time_', 'dist_last_start_price', 'dist_last_start_prob', 'box_dist_last__10', 'box_box_last__10', 'box_speed_avg_10', 'box_split_speed_avg_10', 'box_split_margin_avg_10', 'box_margin_avg_10', 'box_margin_time_avg_10', 'box_RunHomeTime_10', 'box_run_home_speed_10', 'box_first_out_avg_10', 'box_pos_out_avg_10', 'box_post_change_avg_10', 'box_races_10', 'box_wins_10', 'box_wins_last_10', 'box_weight_', 'box_min_time_', 'box_min_split_time_', 'box_last_start_price', 'box_last_start_prob', 'track_box_dist_last__10', 'track_box_box_last__10', 'track_box_speed_avg_10', 'track_box_split_speed_avg_10', 'track_box_split_margin_avg_10', 'track_box_margin_avg_10', 'track_box_margin_time_avg_10', 'track_box_RunHomeTime_10', 'track_box_run_home_speed_10', 'track_box_first_out_avg_10', 'track_box_pos_out_avg_10', 'track_box_post_change_avg_10', 'track_box_races_10', 'track_box_wins_10', 'track_box_wins_last_10', 'track_box_weight_', 'track_box_min_time_', 'track_box_min_split_time_', 'track_box_last_start_price', 'track_box_last_start_prob', 'track_dist_dist_last__10', 'track_dist_box_last__10', 'track_dist_speed_avg_10', 'track_dist_split_speed_avg_10', 'track_dist_split_margin_avg_10', 'track_dist_margin_avg_10', 'track_dist_margin_time_avg_10', 'track_dist_RunHomeTime_10', 'track_dist_run_home_speed_10', 'track_dist_first_out_avg_10', 'track_dist_pos_out_avg_10', 'track_dist_post_change_avg_10', 'track_dist_races_10', 'track_dist_wins_10', 'track_dist_wins_last_10', 'track_dist_weight_', 'track_dist_min_time_', 'track_dist_min_split_time_', 'track_dist_last_start_price', 'track_dist_last_start_prob'], 'races': ['NZ'], 'datafile': './data/gru_inputs_kitchen_sink_new_not_simple.fth', 'latest_date': '2024-01-31T00:00:00', 'input_type': 'basic', 'num_layers': 2, 'batch_size': 750, 'dropout': 0.3, 'epochs': 250, 'learning_rate': 0.001, 'optimizer': 'adamW', 'f0_layer_size': 128, 'f1_layer_size': 64, 'training_date_end': '2023-01-01', 'notes': 'GRU, with basic add on data looped in', 'batch_days': 365, 'stat_list_dict': {'_dist_last__1': 1, '_box_last__1': 1, '_speed_avg_1': 1, '_split_speed_avg_1': 1, '_split_margin_avg_1': 1, '_margin_avg_1': 1, '_margin_time_avg_1': 1, '_RunHomeTime_1': 1, '_run_home_speed_1': 1, '_first_out_avg_1': 1, '_pos_out_avg_1': 1, '_post_change_avg_1': 1, '_races_1': 1, '_wins_1': 1, '_wins_last_1': 1, '_weight_': 1, '_min_time_': 1, '_min_split_time_': 1, '_last_start_price': 1, '_last_start_prob': 1}}\n",
      "250\n",
      "{'hidden_size': 256, 'stats': ['inside', 'midfield', 'wide', 'weight', 'DogGrade', '_dist_last__1', '_box_last__1', '_speed_avg_1', '_split_speed_avg_1', '_split_margin_avg_1', '_margin_avg_1', '_margin_time_avg_1', '_RunHomeTime_1', '_run_home_speed_1', '_first_out_avg_1', '_pos_out_avg_1', '_post_change_avg_1', '_races_1', '_wins_1', '_wins_last_1', '_weight_', '_min_time_', '_min_split_time_', '_last_start_price', '_last_start_prob', 'dist_dist_last__10', 'dist_box_last__10', 'dist_speed_avg_10', 'dist_split_speed_avg_10', 'dist_split_margin_avg_10', 'dist_margin_avg_10', 'dist_margin_time_avg_10', 'dist_RunHomeTime_10', 'dist_run_home_speed_10', 'dist_first_out_avg_10', 'dist_pos_out_avg_10', 'dist_post_change_avg_10', 'dist_races_10', 'dist_wins_10', 'dist_wins_last_10', 'dist_weight_', 'dist_min_time_', 'dist_min_split_time_', 'dist_last_start_price', 'dist_last_start_prob', 'box_dist_last__10', 'box_box_last__10', 'box_speed_avg_10', 'box_split_speed_avg_10', 'box_split_margin_avg_10', 'box_margin_avg_10', 'box_margin_time_avg_10', 'box_RunHomeTime_10', 'box_run_home_speed_10', 'box_first_out_avg_10', 'box_pos_out_avg_10', 'box_post_change_avg_10', 'box_races_10', 'box_wins_10', 'box_wins_last_10', 'box_weight_', 'box_min_time_', 'box_min_split_time_', 'box_last_start_price', 'box_last_start_prob', 'track_box_dist_last__10', 'track_box_box_last__10', 'track_box_speed_avg_10', 'track_box_split_speed_avg_10', 'track_box_split_margin_avg_10', 'track_box_margin_avg_10', 'track_box_margin_time_avg_10', 'track_box_RunHomeTime_10', 'track_box_run_home_speed_10', 'track_box_first_out_avg_10', 'track_box_pos_out_avg_10', 'track_box_post_change_avg_10', 'track_box_races_10', 'track_box_wins_10', 'track_box_wins_last_10', 'track_box_weight_', 'track_box_min_time_', 'track_box_min_split_time_', 'track_box_last_start_price', 'track_box_last_start_prob', 'track_dist_dist_last__10', 'track_dist_box_last__10', 'track_dist_speed_avg_10', 'track_dist_split_speed_avg_10', 'track_dist_split_margin_avg_10', 'track_dist_margin_avg_10', 'track_dist_margin_time_avg_10', 'track_dist_RunHomeTime_10', 'track_dist_run_home_speed_10', 'track_dist_first_out_avg_10', 'track_dist_pos_out_avg_10', 'track_dist_post_change_avg_10', 'track_dist_races_10', 'track_dist_wins_10', 'track_dist_wins_last_10', 'track_dist_weight_', 'track_dist_min_time_', 'track_dist_min_split_time_', 'track_dist_last_start_price', 'track_dist_last_start_prob'], 'races': ['NZ'], 'datafile': './data/gru_inputs_kitchen_sink_new_not_simple.fth', 'latest_date': '2024-01-31T00:00:00', 'input_type': 'basic', 'num_layers': 2, 'batch_size': 750, 'dropout': 0.3, 'epochs': 250, 'learning_rate': 0.001, 'optimizer': 'adamW', 'f0_layer_size': 128, 'f1_layer_size': 64, 'training_date_end': '2023-01-01', 'notes': 'GRU, with basic add on data looped in', 'batch_days': 365, 'stat_list_dict': {'_dist_last__1': 1, '_box_last__1': 1, '_speed_avg_1': 1, '_split_speed_avg_1': 1, '_split_margin_avg_1': 1, '_margin_avg_1': 1, '_margin_time_avg_1': 1, '_RunHomeTime_1': 1, '_run_home_speed_1': 1, '_first_out_avg_1': 1, '_pos_out_avg_1': 1, '_post_change_avg_1': 1, '_races_1': 1, '_wins_1': 1, '_wins_last_1': 1, '_weight_': 1, '_min_time_': 1, '_min_split_time_': 1, '_last_start_price': 1, '_last_start_prob': 1}}\n",
      "basic\n",
      "1\n",
      "1\n",
      "1\n",
      "1\n",
      "1\n",
      "1\n",
      "1\n",
      "1\n",
      "1\n",
      "1\n",
      "1\n",
      "1\n",
      "1\n",
      "1\n",
      "1\n",
      "1\n",
      "1\n",
      "1\n",
      "1\n",
      "1\n",
      "[1, 1, 1, 1, 1, 1, 1, 1, 1, 1, 1, 1, 1, 1, 1, 1, 1, 1, 1, 1]\n",
      "data_mask_size=26\n",
      "tensor([ True,  True,  True,  True,  True,  True,  True,  True,  True,  True,\n",
      "         True,  True,  True,  True,  True,  True,  True,  True,  True,  True,\n",
      "         True,  True,  True,  True,  True,  True, False, False, False, False,\n",
      "        False, False, False, False, False, False, False, False, False, False,\n",
      "        False, False, False, False, False, False, False, False, False, False,\n",
      "        False, False, False, False, False, False, False, False, False, False,\n",
      "        False, False, False, False, False, False, False, False, False, False,\n",
      "        False, False, False, False, False, False, False, False, False, False,\n",
      "        False, False, False, False, False, False, False, False, False, False,\n",
      "        False, False, False, False, False, False, False, False, False, False,\n",
      "        False, False, False, False, False, False], device='cuda:0')\n",
      "torch.Size([106])\n",
      "Train examples 15104, Test examples 2423, Val examples 2833\n"
     ]
    },
    {
     "name": "stderr",
     "output_type": "stream",
     "text": [
      "100%|██████████| 3963/3963 [00:00<00:00, 90937.09it/s]\n",
      "100%|██████████| 3964/3964 [00:02<00:00, 1949.82it/s]\n"
     ]
    },
    {
     "name": "stdout",
     "output_type": "stream",
     "text": [
      "[(datetime.date(2019, 12, 1), datetime.date(2020, 11, 30)), (datetime.date(2020, 11, 30), datetime.date(2021, 11, 30)), (datetime.date(2021, 11, 30), datetime.date(2022, 11, 30)), (datetime.date(2022, 11, 30), datetime.date(2022, 12, 31))]\n",
      "2020-11-30\n",
      "2021-11-30\n",
      "2022-11-30\n",
      "2022-12-31\n",
      "Train examples [4605, 5162, 4887, 447]\n"
     ]
    },
    {
     "name": "stderr",
     "output_type": "stream",
     "text": [
      "100%|██████████| 3963/3963 [00:01<00:00, 2277.13it/s]\n",
      "100%|██████████| 3963/3963 [00:01<00:00, 2054.48it/s]\n",
      "100%|██████████| 3963/3963 [00:01<00:00, 2169.55it/s]\n",
      "100%|██████████| 3963/3963 [00:00<00:00, 23205.01it/s]\n",
      "100%|██████████| 4/4 [00:05<00:00,  1.42s/it]\n"
     ]
    },
    {
     "name": "stdout",
     "output_type": "stream",
     "text": [
      "Train examples [1882, 1877, 1794, 941]\n",
      "Train examples [1882, 1877, 1794, 941]\n",
      "Train examples [4605, 5162, 4887, 447]\n",
      "Train examples [4605, 5162, 4887, 447]\n",
      "here\n",
      "input_size=26\n"
     ]
    },
    {
     "name": "stderr",
     "output_type": "stream",
     "text": [
      "C:\\Users\\Nick\\AppData\\Local\\Temp\\ipykernel_8176\\3542074422.py:70: UserWarning: To copy construct from a tensor, it is recommended to use sourceTensor.clone().detach() or sourceTensor.clone().detach().requires_grad_(True), rather than torch.tensor(sourceTensor).\n",
      "  config['stat_mask_tensor'] = torch.tensor(stat_mask, dtype=torch.uint8).to(device)\n",
      "c:\\Users\\Nick\\.conda\\envs\\python311\\Lib\\site-packages\\torch\\nn\\modules\\lazy.py:180: UserWarning: Lazy modules are a new feature under heavy development so changes to the API or functionality can happen at any moment.\n",
      "  warnings.warn('Lazy modules are a new feature under heavy development '\n"
     ]
    },
    {
     "name": "stdout",
     "output_type": "stream",
     "text": [
      "GRUNetv3_extra(\n",
      "  (gru): GRU(26, 256, num_layers=2, dropout=0.3)\n",
      "  (relu): ReLU()\n",
      "  (fc0): Linear(in_features=2630, out_features=2048, bias=True)\n",
      "  (batch_norm): BatchNorm1d(26, eps=1e-05, momentum=0.1, affine=True, track_running_stats=True)\n",
      "  (batch_norm_data): BatchNorm1d(26, eps=1e-05, momentum=0.1, affine=True, track_running_stats=True)\n",
      "  (extra_1): GRUNetv3_simple_extra_data(\n",
      "    (batch_norm): LazyBatchNorm1d(0, eps=1e-05, momentum=0.1, affine=True, track_running_stats=True)\n",
      "    (relu): ReLU()\n",
      "    (fc0_p1): LazyLinear(in_features=0, out_features=128, bias=True)\n",
      "    (fc0_p1_drop): Dropout(p=0.3, inplace=False)\n",
      "    (fc0_p2): Linear(in_features=128, out_features=64, bias=True)\n",
      "    (fc0_p2_drop): Dropout(p=0.3, inplace=False)\n",
      "    (fc0_p3): Linear(in_features=64, out_features=64, bias=True)\n",
      "    (fc0_p3_drop): Dropout(p=0.3, inplace=False)\n",
      "  )\n",
      "  (fc0_p1): Linear(in_features=512, out_features=256, bias=True)\n",
      "  (fc0_p1_drop): Dropout(p=0.3, inplace=False)\n",
      "  (fc0_p2): Linear(in_features=256, out_features=256, bias=True)\n",
      "  (fc0_p2_drop): Dropout(p=0.3, inplace=False)\n",
      "  (fc0_p3): Linear(in_features=256, out_features=256, bias=True)\n",
      "  (fc0_p3_drop): Dropout(p=0.3, inplace=False)\n",
      "  (relu0): ReLU()\n",
      "  (drop1): Dropout(p=0.3, inplace=False)\n",
      "  (fc1): Linear(in_features=2048, out_features=1024, bias=True)\n",
      "  (drop2): Dropout(p=0.3, inplace=False)\n",
      "  (fc2): Linear(in_features=1024, out_features=64, bias=True)\n",
      "  (drop3): Dropout(p=0.3, inplace=False)\n",
      "  (fc3): Linear(in_features=64, out_features=8, bias=True)\n",
      "  (output_fn): Identity()\n",
      ")\n"
     ]
    },
    {
     "name": "stderr",
     "output_type": "stream",
     "text": [
      "  0%|          | 0/250 [00:00<?, ?it/s]"
     ]
    },
    {
     "name": "stdout",
     "output_type": "stream",
     "text": [
      "output.shape=torch.Size([2423, 8])\n",
      "output.shape=torch.Size([2833, 8])\n",
      "created path\n"
     ]
    },
    {
     "name": "stderr",
     "output_type": "stream",
     "text": [
      "  1%|          | 3/250 [01:01<1:11:27, 17.36s/it]"
     ]
    },
    {
     "name": "stdout",
     "output_type": "stream",
     "text": [
      "output.shape=torch.Size([2423, 8])\n",
      "output.shape=torch.Size([2833, 8])\n"
     ]
    },
    {
     "name": "stderr",
     "output_type": "stream",
     "text": [
      "  2%|▏         | 6/250 [02:03<1:11:51, 17.67s/it]"
     ]
    },
    {
     "name": "stdout",
     "output_type": "stream",
     "text": [
      "output.shape=torch.Size([2423, 8])\n",
      "output.shape=torch.Size([2833, 8])\n"
     ]
    },
    {
     "name": "stderr",
     "output_type": "stream",
     "text": [
      "  4%|▎         | 9/250 [03:07<1:12:09, 17.96s/it]"
     ]
    },
    {
     "name": "stdout",
     "output_type": "stream",
     "text": [
      "output.shape=torch.Size([2423, 8])\n",
      "output.shape=torch.Size([2833, 8])\n"
     ]
    },
    {
     "name": "stderr",
     "output_type": "stream",
     "text": [
      "  5%|▍         | 12/250 [04:14<1:12:45, 18.34s/it]"
     ]
    },
    {
     "name": "stdout",
     "output_type": "stream",
     "text": [
      "output.shape=torch.Size([2423, 8])\n",
      "[Errno 2] No such file or directory: 'C:\\\\Users\\\\Nick\\\\AppData\\\\Local\\\\Temp\\\\tmpelzujctgwandb-media\\\\cdx48i9s.table.json'\n",
      "output.shape=torch.Size([2833, 8])\n",
      "[Errno 2] No such file or directory: 'C:\\\\Users\\\\Nick\\\\AppData\\\\Local\\\\Temp\\\\tmpelzujctgwandb-media\\\\zhke8xzw.table.json'\n"
     ]
    },
    {
     "name": "stderr",
     "output_type": "stream",
     "text": [
      "  6%|▌         | 15/250 [05:11<1:06:51, 17.07s/it]"
     ]
    },
    {
     "name": "stdout",
     "output_type": "stream",
     "text": [
      "output.shape=torch.Size([2423, 8])\n",
      "[Errno 2] No such file or directory: 'C:\\\\Users\\\\Nick\\\\AppData\\\\Local\\\\Temp\\\\tmpelzujctgwandb-media\\\\9y6jm44s.table.json'\n",
      "output.shape=torch.Size([2833, 8])\n",
      "[Errno 2] No such file or directory: 'C:\\\\Users\\\\Nick\\\\AppData\\\\Local\\\\Temp\\\\tmpelzujctgwandb-media\\\\lkog6pbi.table.json'\n"
     ]
    },
    {
     "name": "stderr",
     "output_type": "stream",
     "text": [
      "  7%|▋         | 18/250 [06:12<1:07:17, 17.40s/it]"
     ]
    },
    {
     "name": "stdout",
     "output_type": "stream",
     "text": [
      "output.shape=torch.Size([2423, 8])\n",
      "[Errno 2] No such file or directory: 'C:\\\\Users\\\\Nick\\\\AppData\\\\Local\\\\Temp\\\\tmpelzujctgwandb-media\\\\bsr3qlvh.table.json'\n",
      "output.shape=torch.Size([2833, 8])\n",
      "[Errno 2] No such file or directory: 'C:\\\\Users\\\\Nick\\\\AppData\\\\Local\\\\Temp\\\\tmpelzujctgwandb-media\\\\96h93zyk.table.json'\n"
     ]
    },
    {
     "name": "stderr",
     "output_type": "stream",
     "text": [
      "  8%|▊         | 21/250 [07:09<1:03:59, 16.77s/it]"
     ]
    },
    {
     "name": "stdout",
     "output_type": "stream",
     "text": [
      "output.shape=torch.Size([2423, 8])\n",
      "[Errno 2] No such file or directory: 'C:\\\\Users\\\\Nick\\\\AppData\\\\Local\\\\Temp\\\\tmpelzujctgwandb-media\\\\gasuku1t.table.json'\n",
      "output.shape=torch.Size([2833, 8])\n",
      "[Errno 2] No such file or directory: 'C:\\\\Users\\\\Nick\\\\AppData\\\\Local\\\\Temp\\\\tmpelzujctgwandb-media\\\\r7wyc2nj.table.json'\n"
     ]
    },
    {
     "name": "stderr",
     "output_type": "stream",
     "text": [
      " 10%|▉         | 24/250 [08:07<1:03:10, 16.77s/it]"
     ]
    },
    {
     "name": "stdout",
     "output_type": "stream",
     "text": [
      "output.shape=torch.Size([2423, 8])\n",
      "[Errno 2] No such file or directory: 'C:\\\\Users\\\\Nick\\\\AppData\\\\Local\\\\Temp\\\\tmpelzujctgwandb-media\\\\9dwryhaa.table.json'\n",
      "output.shape=torch.Size([2833, 8])\n",
      "[Errno 2] No such file or directory: 'C:\\\\Users\\\\Nick\\\\AppData\\\\Local\\\\Temp\\\\tmpelzujctgwandb-media\\\\ckh2l0gs.table.json'\n"
     ]
    },
    {
     "name": "stderr",
     "output_type": "stream",
     "text": [
      " 11%|█         | 27/250 [09:04<1:01:25, 16.53s/it]"
     ]
    },
    {
     "name": "stdout",
     "output_type": "stream",
     "text": [
      "output.shape=torch.Size([2423, 8])\n",
      "[Errno 2] No such file or directory: 'C:\\\\Users\\\\Nick\\\\AppData\\\\Local\\\\Temp\\\\tmpelzujctgwandb-media\\\\la8xjow5.table.json'\n",
      "output.shape=torch.Size([2833, 8])\n",
      "[Errno 2] No such file or directory: 'C:\\\\Users\\\\Nick\\\\AppData\\\\Local\\\\Temp\\\\tmpelzujctgwandb-media\\\\up10efpg.table.json'\n"
     ]
    },
    {
     "name": "stderr",
     "output_type": "stream",
     "text": [
      " 12%|█▏        | 30/250 [10:02<1:01:09, 16.68s/it]"
     ]
    },
    {
     "name": "stdout",
     "output_type": "stream",
     "text": [
      "output.shape=torch.Size([2423, 8])\n",
      "[Errno 2] No such file or directory: 'C:\\\\Users\\\\Nick\\\\AppData\\\\Local\\\\Temp\\\\tmpelzujctgwandb-media\\\\46tl94kv.table.json'\n",
      "output.shape=torch.Size([2833, 8])\n",
      "[Errno 2] No such file or directory: 'C:\\\\Users\\\\Nick\\\\AppData\\\\Local\\\\Temp\\\\tmpelzujctgwandb-media\\\\9gkuifzx.table.json'\n"
     ]
    },
    {
     "name": "stderr",
     "output_type": "stream",
     "text": [
      " 13%|█▎        | 33/250 [10:59<59:31, 16.46s/it]  "
     ]
    },
    {
     "name": "stdout",
     "output_type": "stream",
     "text": [
      "output.shape=torch.Size([2423, 8])\n",
      "[Errno 2] No such file or directory: 'C:\\\\Users\\\\Nick\\\\AppData\\\\Local\\\\Temp\\\\tmpelzujctgwandb-media\\\\ci6fd2lt.table.json'\n",
      "output.shape=torch.Size([2833, 8])\n",
      "[Errno 2] No such file or directory: 'C:\\\\Users\\\\Nick\\\\AppData\\\\Local\\\\Temp\\\\tmpelzujctgwandb-media\\\\u58o0ymc.table.json'\n"
     ]
    },
    {
     "name": "stderr",
     "output_type": "stream",
     "text": [
      " 14%|█▍        | 36/250 [11:57<59:44, 16.75s/it]  "
     ]
    },
    {
     "name": "stdout",
     "output_type": "stream",
     "text": [
      "output.shape=torch.Size([2423, 8])\n",
      "[Errno 2] No such file or directory: 'C:\\\\Users\\\\Nick\\\\AppData\\\\Local\\\\Temp\\\\tmpelzujctgwandb-media\\\\su18zbjh.table.json'\n",
      "output.shape=torch.Size([2833, 8])\n",
      "[Errno 2] No such file or directory: 'C:\\\\Users\\\\Nick\\\\AppData\\\\Local\\\\Temp\\\\tmpelzujctgwandb-media\\\\7og4blij.table.json'\n"
     ]
    },
    {
     "name": "stderr",
     "output_type": "stream",
     "text": [
      " 16%|█▌        | 39/250 [12:53<57:56, 16.48s/it]  "
     ]
    },
    {
     "name": "stdout",
     "output_type": "stream",
     "text": [
      "output.shape=torch.Size([2423, 8])\n",
      "[Errno 2] No such file or directory: 'C:\\\\Users\\\\Nick\\\\AppData\\\\Local\\\\Temp\\\\tmpelzujctgwandb-media\\\\73fymwdz.table.json'\n",
      "output.shape=torch.Size([2833, 8])\n",
      "[Errno 2] No such file or directory: 'C:\\\\Users\\\\Nick\\\\AppData\\\\Local\\\\Temp\\\\tmpelzujctgwandb-media\\\\01m4di30.table.json'\n"
     ]
    },
    {
     "name": "stderr",
     "output_type": "stream",
     "text": [
      " 17%|█▋        | 42/250 [13:50<57:12, 16.50s/it]  "
     ]
    },
    {
     "name": "stdout",
     "output_type": "stream",
     "text": [
      "output.shape=torch.Size([2423, 8])\n",
      "[Errno 2] No such file or directory: 'C:\\\\Users\\\\Nick\\\\AppData\\\\Local\\\\Temp\\\\tmpelzujctgwandb-media\\\\klhw8ic2.table.json'\n",
      "output.shape=torch.Size([2833, 8])\n",
      "[Errno 2] No such file or directory: 'C:\\\\Users\\\\Nick\\\\AppData\\\\Local\\\\Temp\\\\tmpelzujctgwandb-media\\\\u0h10ad0.table.json'\n"
     ]
    },
    {
     "name": "stderr",
     "output_type": "stream",
     "text": [
      " 18%|█▊        | 45/250 [14:47<56:06, 16.42s/it]  "
     ]
    },
    {
     "name": "stdout",
     "output_type": "stream",
     "text": [
      "output.shape=torch.Size([2423, 8])\n",
      "[Errno 2] No such file or directory: 'C:\\\\Users\\\\Nick\\\\AppData\\\\Local\\\\Temp\\\\tmpelzujctgwandb-media\\\\6uo30gsn.table.json'\n",
      "output.shape=torch.Size([2833, 8])\n",
      "[Errno 2] No such file or directory: 'C:\\\\Users\\\\Nick\\\\AppData\\\\Local\\\\Temp\\\\tmpelzujctgwandb-media\\\\fojnhbbj.table.json'\n"
     ]
    },
    {
     "name": "stderr",
     "output_type": "stream",
     "text": [
      " 19%|█▉        | 48/250 [15:45<56:17, 16.72s/it]  "
     ]
    },
    {
     "name": "stdout",
     "output_type": "stream",
     "text": [
      "output.shape=torch.Size([2423, 8])\n",
      "[Errno 2] No such file or directory: 'C:\\\\Users\\\\Nick\\\\AppData\\\\Local\\\\Temp\\\\tmpelzujctgwandb-media\\\\4mw1poov.table.json'\n",
      "output.shape=torch.Size([2833, 8])\n",
      "[Errno 2] No such file or directory: 'C:\\\\Users\\\\Nick\\\\AppData\\\\Local\\\\Temp\\\\tmpelzujctgwandb-media\\\\pfqmr4ms.table.json'\n"
     ]
    },
    {
     "name": "stderr",
     "output_type": "stream",
     "text": [
      " 20%|██        | 51/250 [16:42<54:43, 16.50s/it]  "
     ]
    },
    {
     "name": "stdout",
     "output_type": "stream",
     "text": [
      "output.shape=torch.Size([2423, 8])\n",
      "[Errno 2] No such file or directory: 'C:\\\\Users\\\\Nick\\\\AppData\\\\Local\\\\Temp\\\\tmpelzujctgwandb-media\\\\i467xxoz.table.json'\n",
      "output.shape=torch.Size([2833, 8])\n",
      "[Errno 2] No such file or directory: 'C:\\\\Users\\\\Nick\\\\AppData\\\\Local\\\\Temp\\\\tmpelzujctgwandb-media\\\\idg5eohf.table.json'\n"
     ]
    },
    {
     "name": "stderr",
     "output_type": "stream",
     "text": [
      " 22%|██▏       | 54/250 [17:39<53:42, 16.44s/it]  "
     ]
    },
    {
     "name": "stdout",
     "output_type": "stream",
     "text": [
      "output.shape=torch.Size([2423, 8])\n",
      "[Errno 2] No such file or directory: 'C:\\\\Users\\\\Nick\\\\AppData\\\\Local\\\\Temp\\\\tmpelzujctgwandb-media\\\\vfmddrvu.table.json'\n",
      "output.shape=torch.Size([2833, 8])\n",
      "[Errno 2] No such file or directory: 'C:\\\\Users\\\\Nick\\\\AppData\\\\Local\\\\Temp\\\\tmpelzujctgwandb-media\\\\zx9dwb2b.table.json'\n"
     ]
    },
    {
     "name": "stderr",
     "output_type": "stream",
     "text": [
      " 23%|██▎       | 57/250 [18:37<53:50, 16.74s/it]  "
     ]
    },
    {
     "name": "stdout",
     "output_type": "stream",
     "text": [
      "output.shape=torch.Size([2423, 8])\n",
      "[Errno 2] No such file or directory: 'C:\\\\Users\\\\Nick\\\\AppData\\\\Local\\\\Temp\\\\tmpelzujctgwandb-media\\\\lrcoduxd.table.json'\n",
      "output.shape=torch.Size([2833, 8])\n",
      "[Errno 2] No such file or directory: 'C:\\\\Users\\\\Nick\\\\AppData\\\\Local\\\\Temp\\\\tmpelzujctgwandb-media\\\\g6dd7zlw.table.json'\n"
     ]
    },
    {
     "name": "stderr",
     "output_type": "stream",
     "text": [
      " 24%|██▍       | 60/250 [19:34<52:10, 16.48s/it]  "
     ]
    },
    {
     "name": "stdout",
     "output_type": "stream",
     "text": [
      "output.shape=torch.Size([2423, 8])\n",
      "[Errno 2] No such file or directory: 'C:\\\\Users\\\\Nick\\\\AppData\\\\Local\\\\Temp\\\\tmpelzujctgwandb-media\\\\0pesockv.table.json'\n",
      "output.shape=torch.Size([2833, 8])\n",
      "[Errno 2] No such file or directory: 'C:\\\\Users\\\\Nick\\\\AppData\\\\Local\\\\Temp\\\\tmpelzujctgwandb-media\\\\f756uphr.table.json'\n"
     ]
    },
    {
     "name": "stderr",
     "output_type": "stream",
     "text": [
      " 25%|██▌       | 63/250 [20:32<51:59, 16.68s/it]  "
     ]
    },
    {
     "name": "stdout",
     "output_type": "stream",
     "text": [
      "output.shape=torch.Size([2423, 8])\n",
      "[Errno 2] No such file or directory: 'C:\\\\Users\\\\Nick\\\\AppData\\\\Local\\\\Temp\\\\tmpelzujctgwandb-media\\\\nv7v3qou.table.json'\n",
      "output.shape=torch.Size([2833, 8])\n",
      "[Errno 2] No such file or directory: 'C:\\\\Users\\\\Nick\\\\AppData\\\\Local\\\\Temp\\\\tmpelzujctgwandb-media\\\\faebdocf.table.json'\n"
     ]
    },
    {
     "name": "stderr",
     "output_type": "stream",
     "text": [
      " 26%|██▋       | 66/250 [21:29<50:34, 16.49s/it]  "
     ]
    },
    {
     "name": "stdout",
     "output_type": "stream",
     "text": [
      "output.shape=torch.Size([2423, 8])\n",
      "[Errno 2] No such file or directory: 'C:\\\\Users\\\\Nick\\\\AppData\\\\Local\\\\Temp\\\\tmpelzujctgwandb-media\\\\4n6no83b.table.json'\n",
      "output.shape=torch.Size([2833, 8])\n",
      "[Errno 2] No such file or directory: 'C:\\\\Users\\\\Nick\\\\AppData\\\\Local\\\\Temp\\\\tmpelzujctgwandb-media\\\\ifr6hxyf.table.json'\n"
     ]
    },
    {
     "name": "stderr",
     "output_type": "stream",
     "text": [
      " 28%|██▊       | 69/250 [22:26<50:32, 16.75s/it]  "
     ]
    },
    {
     "name": "stdout",
     "output_type": "stream",
     "text": [
      "output.shape=torch.Size([2423, 8])\n",
      "[Errno 2] No such file or directory: 'C:\\\\Users\\\\Nick\\\\AppData\\\\Local\\\\Temp\\\\tmpelzujctgwandb-media\\\\nxmoiopo.table.json'\n",
      "output.shape=torch.Size([2833, 8])\n",
      "[Errno 2] No such file or directory: 'C:\\\\Users\\\\Nick\\\\AppData\\\\Local\\\\Temp\\\\tmpelzujctgwandb-media\\\\u6x6gg4u.table.json'\n"
     ]
    },
    {
     "name": "stderr",
     "output_type": "stream",
     "text": [
      " 29%|██▉       | 72/250 [23:23<48:57, 16.50s/it]  "
     ]
    },
    {
     "name": "stdout",
     "output_type": "stream",
     "text": [
      "output.shape=torch.Size([2423, 8])\n",
      "[Errno 2] No such file or directory: 'C:\\\\Users\\\\Nick\\\\AppData\\\\Local\\\\Temp\\\\tmpelzujctgwandb-media\\\\7gt1cici.table.json'\n",
      "output.shape=torch.Size([2833, 8])\n",
      "[Errno 2] No such file or directory: 'C:\\\\Users\\\\Nick\\\\AppData\\\\Local\\\\Temp\\\\tmpelzujctgwandb-media\\\\g4cgg7zp.table.json'\n"
     ]
    },
    {
     "name": "stderr",
     "output_type": "stream",
     "text": [
      " 30%|███       | 75/250 [24:20<47:58, 16.45s/it]  "
     ]
    },
    {
     "name": "stdout",
     "output_type": "stream",
     "text": [
      "output.shape=torch.Size([2423, 8])\n",
      "[Errno 2] No such file or directory: 'C:\\\\Users\\\\Nick\\\\AppData\\\\Local\\\\Temp\\\\tmpelzujctgwandb-media\\\\izkhyq66.table.json'\n",
      "output.shape=torch.Size([2833, 8])\n",
      "[Errno 2] No such file or directory: 'C:\\\\Users\\\\Nick\\\\AppData\\\\Local\\\\Temp\\\\tmpelzujctgwandb-media\\\\hv2yela4.table.json'\n"
     ]
    },
    {
     "name": "stderr",
     "output_type": "stream",
     "text": [
      " 31%|███       | 78/250 [25:18<47:46, 16.66s/it]  "
     ]
    },
    {
     "name": "stdout",
     "output_type": "stream",
     "text": [
      "output.shape=torch.Size([2423, 8])\n",
      "[Errno 2] No such file or directory: 'C:\\\\Users\\\\Nick\\\\AppData\\\\Local\\\\Temp\\\\tmpelzujctgwandb-media\\\\zg5mwvb9.table.json'\n",
      "output.shape=torch.Size([2833, 8])\n",
      "[Errno 2] No such file or directory: 'C:\\\\Users\\\\Nick\\\\AppData\\\\Local\\\\Temp\\\\tmpelzujctgwandb-media\\\\ar8sx94q.table.json'\n"
     ]
    },
    {
     "name": "stderr",
     "output_type": "stream",
     "text": [
      " 32%|███▏      | 81/250 [26:15<46:27, 16.49s/it]  "
     ]
    },
    {
     "name": "stdout",
     "output_type": "stream",
     "text": [
      "output.shape=torch.Size([2423, 8])\n",
      "[Errno 2] No such file or directory: 'C:\\\\Users\\\\Nick\\\\AppData\\\\Local\\\\Temp\\\\tmpelzujctgwandb-media\\\\coywlzv5.table.json'\n",
      "output.shape=torch.Size([2833, 8])\n",
      "[Errno 2] No such file or directory: 'C:\\\\Users\\\\Nick\\\\AppData\\\\Local\\\\Temp\\\\tmpelzujctgwandb-media\\\\kkhv0n0b.table.json'\n"
     ]
    },
    {
     "name": "stderr",
     "output_type": "stream",
     "text": [
      " 34%|███▎      | 84/250 [27:13<46:04, 16.65s/it]  "
     ]
    },
    {
     "name": "stdout",
     "output_type": "stream",
     "text": [
      "output.shape=torch.Size([2423, 8])\n",
      "[Errno 2] No such file or directory: 'C:\\\\Users\\\\Nick\\\\AppData\\\\Local\\\\Temp\\\\tmpelzujctgwandb-media\\\\bdxmk1hs.table.json'\n",
      "output.shape=torch.Size([2833, 8])\n",
      "[Errno 2] No such file or directory: 'C:\\\\Users\\\\Nick\\\\AppData\\\\Local\\\\Temp\\\\tmpelzujctgwandb-media\\\\z7r1wa75.table.json'\n"
     ]
    },
    {
     "name": "stderr",
     "output_type": "stream",
     "text": [
      " 35%|███▍      | 87/250 [28:10<44:44, 16.47s/it]  "
     ]
    },
    {
     "name": "stdout",
     "output_type": "stream",
     "text": [
      "output.shape=torch.Size([2423, 8])\n",
      "[Errno 2] No such file or directory: 'C:\\\\Users\\\\Nick\\\\AppData\\\\Local\\\\Temp\\\\tmpelzujctgwandb-media\\\\76rjrfwf.table.json'\n",
      "output.shape=torch.Size([2833, 8])\n",
      "[Errno 2] No such file or directory: 'C:\\\\Users\\\\Nick\\\\AppData\\\\Local\\\\Temp\\\\tmpelzujctgwandb-media\\\\ckflurp8.table.json'\n"
     ]
    },
    {
     "name": "stderr",
     "output_type": "stream",
     "text": [
      " 36%|███▌      | 90/250 [29:09<44:59, 16.87s/it]  "
     ]
    },
    {
     "name": "stdout",
     "output_type": "stream",
     "text": [
      "output.shape=torch.Size([2423, 8])\n",
      "[Errno 2] No such file or directory: 'C:\\\\Users\\\\Nick\\\\AppData\\\\Local\\\\Temp\\\\tmpelzujctgwandb-media\\\\8eu7d845.table.json'\n",
      "output.shape=torch.Size([2833, 8])\n",
      "[Errno 2] No such file or directory: 'C:\\\\Users\\\\Nick\\\\AppData\\\\Local\\\\Temp\\\\tmpelzujctgwandb-media\\\\28jyh6sm.table.json'\n"
     ]
    },
    {
     "name": "stderr",
     "output_type": "stream",
     "text": [
      " 37%|███▋      | 93/250 [30:07<43:50, 16.75s/it]"
     ]
    },
    {
     "name": "stdout",
     "output_type": "stream",
     "text": [
      "output.shape=torch.Size([2423, 8])\n",
      "[Errno 2] No such file or directory: 'C:\\\\Users\\\\Nick\\\\AppData\\\\Local\\\\Temp\\\\tmpelzujctgwandb-media\\\\yj0k3qvf.table.json'\n",
      "output.shape=torch.Size([2833, 8])\n",
      "[Errno 2] No such file or directory: 'C:\\\\Users\\\\Nick\\\\AppData\\\\Local\\\\Temp\\\\tmpelzujctgwandb-media\\\\p6jfl6v5.table.json'\n"
     ]
    },
    {
     "name": "stderr",
     "output_type": "stream",
     "text": [
      " 38%|███▊      | 96/250 [31:08<43:55, 17.11s/it]  "
     ]
    },
    {
     "name": "stdout",
     "output_type": "stream",
     "text": [
      "output.shape=torch.Size([2423, 8])\n",
      "[Errno 2] No such file or directory: 'C:\\\\Users\\\\Nick\\\\AppData\\\\Local\\\\Temp\\\\tmpelzujctgwandb-media\\\\zf5jofl6.table.json'\n",
      "output.shape=torch.Size([2833, 8])\n",
      "[Errno 2] No such file or directory: 'C:\\\\Users\\\\Nick\\\\AppData\\\\Local\\\\Temp\\\\tmpelzujctgwandb-media\\\\i5br3tfy.table.json'\n"
     ]
    },
    {
     "name": "stderr",
     "output_type": "stream",
     "text": [
      " 40%|███▉      | 99/250 [32:06<42:25, 16.86s/it]"
     ]
    },
    {
     "name": "stdout",
     "output_type": "stream",
     "text": [
      "output.shape=torch.Size([2423, 8])\n",
      "[Errno 2] No such file or directory: 'C:\\\\Users\\\\Nick\\\\AppData\\\\Local\\\\Temp\\\\tmpelzujctgwandb-media\\\\yomcq914.table.json'\n",
      "output.shape=torch.Size([2833, 8])\n",
      "[Errno 2] No such file or directory: 'C:\\\\Users\\\\Nick\\\\AppData\\\\Local\\\\Temp\\\\tmpelzujctgwandb-media\\\\s2v8y56k.table.json'\n"
     ]
    },
    {
     "name": "stderr",
     "output_type": "stream",
     "text": [
      " 41%|████      | 102/250 [33:04<41:42, 16.91s/it]"
     ]
    },
    {
     "name": "stdout",
     "output_type": "stream",
     "text": [
      "output.shape=torch.Size([2423, 8])\n",
      "[Errno 2] No such file or directory: 'C:\\\\Users\\\\Nick\\\\AppData\\\\Local\\\\Temp\\\\tmpelzujctgwandb-media\\\\3btncekn.table.json'\n",
      "output.shape=torch.Size([2833, 8])\n",
      "[Errno 2] No such file or directory: 'C:\\\\Users\\\\Nick\\\\AppData\\\\Local\\\\Temp\\\\tmpelzujctgwandb-media\\\\j1wrnyrw.table.json'\n"
     ]
    },
    {
     "name": "stderr",
     "output_type": "stream",
     "text": [
      " 42%|████▏     | 105/250 [34:01<40:02, 16.57s/it]"
     ]
    },
    {
     "name": "stdout",
     "output_type": "stream",
     "text": [
      "output.shape=torch.Size([2423, 8])\n",
      "[Errno 2] No such file or directory: 'C:\\\\Users\\\\Nick\\\\AppData\\\\Local\\\\Temp\\\\tmpelzujctgwandb-media\\\\6hh97t1m.table.json'\n",
      "output.shape=torch.Size([2833, 8])\n",
      "[Errno 2] No such file or directory: 'C:\\\\Users\\\\Nick\\\\AppData\\\\Local\\\\Temp\\\\tmpelzujctgwandb-media\\\\z3v72137.table.json'\n"
     ]
    },
    {
     "name": "stderr",
     "output_type": "stream",
     "text": [
      " 43%|████▎     | 108/250 [34:59<39:32, 16.71s/it]"
     ]
    },
    {
     "name": "stdout",
     "output_type": "stream",
     "text": [
      "output.shape=torch.Size([2423, 8])\n",
      "[Errno 2] No such file or directory: 'C:\\\\Users\\\\Nick\\\\AppData\\\\Local\\\\Temp\\\\tmpelzujctgwandb-media\\\\asg7ltk6.table.json'\n",
      "output.shape=torch.Size([2833, 8])\n",
      "[Errno 2] No such file or directory: 'C:\\\\Users\\\\Nick\\\\AppData\\\\Local\\\\Temp\\\\tmpelzujctgwandb-media\\\\thzeksvm.table.json'\n"
     ]
    },
    {
     "name": "stderr",
     "output_type": "stream",
     "text": [
      " 44%|████▍     | 111/250 [35:56<38:37, 16.67s/it]"
     ]
    },
    {
     "name": "stdout",
     "output_type": "stream",
     "text": [
      "output.shape=torch.Size([2423, 8])\n",
      "[Errno 2] No such file or directory: 'C:\\\\Users\\\\Nick\\\\AppData\\\\Local\\\\Temp\\\\tmpelzujctgwandb-media\\\\ubqvwne2.table.json'\n",
      "output.shape=torch.Size([2833, 8])\n",
      "[Errno 2] No such file or directory: 'C:\\\\Users\\\\Nick\\\\AppData\\\\Local\\\\Temp\\\\tmpelzujctgwandb-media\\\\tqysilfy.table.json'\n"
     ]
    },
    {
     "name": "stderr",
     "output_type": "stream",
     "text": [
      " 46%|████▌     | 114/250 [36:54<38:01, 16.78s/it]"
     ]
    },
    {
     "name": "stdout",
     "output_type": "stream",
     "text": [
      "output.shape=torch.Size([2423, 8])\n",
      "[Errno 2] No such file or directory: 'C:\\\\Users\\\\Nick\\\\AppData\\\\Local\\\\Temp\\\\tmpelzujctgwandb-media\\\\vp8mjf4r.table.json'\n",
      "output.shape=torch.Size([2833, 8])\n",
      "[Errno 2] No such file or directory: 'C:\\\\Users\\\\Nick\\\\AppData\\\\Local\\\\Temp\\\\tmpelzujctgwandb-media\\\\6job789f.table.json'\n"
     ]
    },
    {
     "name": "stderr",
     "output_type": "stream",
     "text": [
      " 47%|████▋     | 117/250 [37:51<36:33, 16.49s/it]"
     ]
    },
    {
     "name": "stdout",
     "output_type": "stream",
     "text": [
      "output.shape=torch.Size([2423, 8])\n",
      "[Errno 2] No such file or directory: 'C:\\\\Users\\\\Nick\\\\AppData\\\\Local\\\\Temp\\\\tmpelzujctgwandb-media\\\\7gljykn5.table.json'\n",
      "output.shape=torch.Size([2833, 8])\n",
      "[Errno 2] No such file or directory: 'C:\\\\Users\\\\Nick\\\\AppData\\\\Local\\\\Temp\\\\tmpelzujctgwandb-media\\\\bem7rjm6.table.json'\n"
     ]
    },
    {
     "name": "stderr",
     "output_type": "stream",
     "text": [
      " 48%|████▊     | 120/250 [38:47<35:32, 16.40s/it]"
     ]
    },
    {
     "name": "stdout",
     "output_type": "stream",
     "text": [
      "output.shape=torch.Size([2423, 8])\n",
      "[Errno 2] No such file or directory: 'C:\\\\Users\\\\Nick\\\\AppData\\\\Local\\\\Temp\\\\tmpelzujctgwandb-media\\\\yahbz68t.table.json'\n",
      "output.shape=torch.Size([2833, 8])\n",
      "[Errno 2] No such file or directory: 'C:\\\\Users\\\\Nick\\\\AppData\\\\Local\\\\Temp\\\\tmpelzujctgwandb-media\\\\sc9m2rkn.table.json'\n"
     ]
    },
    {
     "name": "stderr",
     "output_type": "stream",
     "text": [
      " 49%|████▉     | 123/250 [39:44<34:44, 16.42s/it]"
     ]
    },
    {
     "name": "stdout",
     "output_type": "stream",
     "text": [
      "output.shape=torch.Size([2423, 8])\n",
      "[Errno 2] No such file or directory: 'C:\\\\Users\\\\Nick\\\\AppData\\\\Local\\\\Temp\\\\tmpelzujctgwandb-media\\\\pqgwn0kt.table.json'\n",
      "output.shape=torch.Size([2833, 8])\n",
      "[Errno 2] No such file or directory: 'C:\\\\Users\\\\Nick\\\\AppData\\\\Local\\\\Temp\\\\tmpelzujctgwandb-media\\\\nqjfwtlh.table.json'\n"
     ]
    },
    {
     "name": "stderr",
     "output_type": "stream",
     "text": [
      " 50%|█████     | 126/250 [40:42<34:30, 16.70s/it]"
     ]
    },
    {
     "name": "stdout",
     "output_type": "stream",
     "text": [
      "output.shape=torch.Size([2423, 8])\n",
      "[Errno 2] No such file or directory: 'C:\\\\Users\\\\Nick\\\\AppData\\\\Local\\\\Temp\\\\tmpelzujctgwandb-media\\\\7qck8udk.table.json'\n",
      "output.shape=torch.Size([2833, 8])\n",
      "[Errno 2] No such file or directory: 'C:\\\\Users\\\\Nick\\\\AppData\\\\Local\\\\Temp\\\\tmpelzujctgwandb-media\\\\sbw9pebq.table.json'\n"
     ]
    },
    {
     "name": "stderr",
     "output_type": "stream",
     "text": [
      " 52%|█████▏    | 129/250 [41:40<33:49, 16.78s/it]"
     ]
    },
    {
     "name": "stdout",
     "output_type": "stream",
     "text": [
      "output.shape=torch.Size([2423, 8])\n",
      "[Errno 2] No such file or directory: 'C:\\\\Users\\\\Nick\\\\AppData\\\\Local\\\\Temp\\\\tmpelzujctgwandb-media\\\\2o57ac10.table.json'\n",
      "output.shape=torch.Size([2833, 8])\n",
      "[Errno 2] No such file or directory: 'C:\\\\Users\\\\Nick\\\\AppData\\\\Local\\\\Temp\\\\tmpelzujctgwandb-media\\\\ogzx2ihs.table.json'\n"
     ]
    },
    {
     "name": "stderr",
     "output_type": "stream",
     "text": [
      " 53%|█████▎    | 132/250 [42:36<32:23, 16.47s/it]"
     ]
    },
    {
     "name": "stdout",
     "output_type": "stream",
     "text": [
      "output.shape=torch.Size([2423, 8])\n",
      "[Errno 2] No such file or directory: 'C:\\\\Users\\\\Nick\\\\AppData\\\\Local\\\\Temp\\\\tmpelzujctgwandb-media\\\\winodoio.table.json'\n",
      "output.shape=torch.Size([2833, 8])\n",
      "[Errno 2] No such file or directory: 'C:\\\\Users\\\\Nick\\\\AppData\\\\Local\\\\Temp\\\\tmpelzujctgwandb-media\\\\axh9m594.table.json'\n"
     ]
    },
    {
     "name": "stderr",
     "output_type": "stream",
     "text": [
      " 54%|█████▍    | 135/250 [43:39<33:26, 17.45s/it]"
     ]
    },
    {
     "name": "stdout",
     "output_type": "stream",
     "text": [
      "output.shape=torch.Size([2423, 8])\n",
      "[Errno 2] No such file or directory: 'C:\\\\Users\\\\Nick\\\\AppData\\\\Local\\\\Temp\\\\tmpelzujctgwandb-media\\\\f2bnozgh.table.json'\n",
      "output.shape=torch.Size([2833, 8])\n",
      "[Errno 2] No such file or directory: 'C:\\\\Users\\\\Nick\\\\AppData\\\\Local\\\\Temp\\\\tmpelzujctgwandb-media\\\\xy385uqw.table.json'\n"
     ]
    },
    {
     "name": "stderr",
     "output_type": "stream",
     "text": [
      " 55%|█████▌    | 138/250 [44:36<31:12, 16.72s/it]"
     ]
    },
    {
     "name": "stdout",
     "output_type": "stream",
     "text": [
      "output.shape=torch.Size([2423, 8])\n",
      "[Errno 2] No such file or directory: 'C:\\\\Users\\\\Nick\\\\AppData\\\\Local\\\\Temp\\\\tmpelzujctgwandb-media\\\\yak6t2ec.table.json'\n",
      "output.shape=torch.Size([2833, 8])\n",
      "[Errno 2] No such file or directory: 'C:\\\\Users\\\\Nick\\\\AppData\\\\Local\\\\Temp\\\\tmpelzujctgwandb-media\\\\b6o8dgwx.table.json'\n"
     ]
    },
    {
     "name": "stderr",
     "output_type": "stream",
     "text": [
      " 56%|█████▋    | 141/250 [45:37<31:14, 17.19s/it]"
     ]
    },
    {
     "name": "stdout",
     "output_type": "stream",
     "text": [
      "output.shape=torch.Size([2423, 8])\n",
      "[Errno 2] No such file or directory: 'C:\\\\Users\\\\Nick\\\\AppData\\\\Local\\\\Temp\\\\tmpelzujctgwandb-media\\\\27pkvbqa.table.json'\n",
      "output.shape=torch.Size([2833, 8])\n",
      "[Errno 2] No such file or directory: 'C:\\\\Users\\\\Nick\\\\AppData\\\\Local\\\\Temp\\\\tmpelzujctgwandb-media\\\\8qr1lp7c.table.json'\n"
     ]
    },
    {
     "name": "stderr",
     "output_type": "stream",
     "text": [
      " 58%|█████▊    | 144/250 [46:34<29:25, 16.66s/it]"
     ]
    },
    {
     "name": "stdout",
     "output_type": "stream",
     "text": [
      "output.shape=torch.Size([2423, 8])\n",
      "[Errno 2] No such file or directory: 'C:\\\\Users\\\\Nick\\\\AppData\\\\Local\\\\Temp\\\\tmpelzujctgwandb-media\\\\qzz8aayy.table.json'\n",
      "output.shape=torch.Size([2833, 8])\n",
      "[Errno 2] No such file or directory: 'C:\\\\Users\\\\Nick\\\\AppData\\\\Local\\\\Temp\\\\tmpelzujctgwandb-media\\\\tvzsjtwm.table.json'\n"
     ]
    },
    {
     "name": "stderr",
     "output_type": "stream",
     "text": [
      " 59%|█████▉    | 147/250 [47:32<28:41, 16.71s/it]"
     ]
    },
    {
     "name": "stdout",
     "output_type": "stream",
     "text": [
      "output.shape=torch.Size([2423, 8])\n",
      "[Errno 2] No such file or directory: 'C:\\\\Users\\\\Nick\\\\AppData\\\\Local\\\\Temp\\\\tmpelzujctgwandb-media\\\\entwv6a3.table.json'\n",
      "output.shape=torch.Size([2833, 8])\n",
      "[Errno 2] No such file or directory: 'C:\\\\Users\\\\Nick\\\\AppData\\\\Local\\\\Temp\\\\tmpelzujctgwandb-media\\\\ax5i8f95.table.json'\n"
     ]
    },
    {
     "name": "stderr",
     "output_type": "stream",
     "text": [
      " 60%|██████    | 150/250 [48:29<27:57, 16.77s/it]"
     ]
    },
    {
     "name": "stdout",
     "output_type": "stream",
     "text": [
      "output.shape=torch.Size([2423, 8])\n",
      "[Errno 2] No such file or directory: 'C:\\\\Users\\\\Nick\\\\AppData\\\\Local\\\\Temp\\\\tmpelzujctgwandb-media\\\\ko1j4km8.table.json'\n",
      "output.shape=torch.Size([2833, 8])\n",
      "[Errno 2] No such file or directory: 'C:\\\\Users\\\\Nick\\\\AppData\\\\Local\\\\Temp\\\\tmpelzujctgwandb-media\\\\obrd3z2n.table.json'\n"
     ]
    },
    {
     "name": "stderr",
     "output_type": "stream",
     "text": [
      " 61%|██████    | 153/250 [49:27<27:07, 16.78s/it]"
     ]
    },
    {
     "name": "stdout",
     "output_type": "stream",
     "text": [
      "output.shape=torch.Size([2423, 8])\n",
      "[Errno 2] No such file or directory: 'C:\\\\Users\\\\Nick\\\\AppData\\\\Local\\\\Temp\\\\tmpelzujctgwandb-media\\\\rvo87k23.table.json'\n",
      "output.shape=torch.Size([2833, 8])\n",
      "[Errno 2] No such file or directory: 'C:\\\\Users\\\\Nick\\\\AppData\\\\Local\\\\Temp\\\\tmpelzujctgwandb-media\\\\ysqtcpc9.table.json'\n"
     ]
    },
    {
     "name": "stderr",
     "output_type": "stream",
     "text": [
      " 62%|██████▏   | 156/250 [50:24<25:50, 16.49s/it]"
     ]
    },
    {
     "name": "stdout",
     "output_type": "stream",
     "text": [
      "output.shape=torch.Size([2423, 8])\n",
      "[Errno 2] No such file or directory: 'C:\\\\Users\\\\Nick\\\\AppData\\\\Local\\\\Temp\\\\tmpelzujctgwandb-media\\\\kt79agsz.table.json'\n",
      "output.shape=torch.Size([2833, 8])\n",
      "[Errno 2] No such file or directory: 'C:\\\\Users\\\\Nick\\\\AppData\\\\Local\\\\Temp\\\\tmpelzujctgwandb-media\\\\lvq7gnd3.table.json'\n"
     ]
    },
    {
     "name": "stderr",
     "output_type": "stream",
     "text": [
      " 64%|██████▎   | 159/250 [51:21<25:12, 16.62s/it]"
     ]
    },
    {
     "name": "stdout",
     "output_type": "stream",
     "text": [
      "output.shape=torch.Size([2423, 8])\n",
      "[Errno 2] No such file or directory: 'C:\\\\Users\\\\Nick\\\\AppData\\\\Local\\\\Temp\\\\tmpelzujctgwandb-media\\\\oqzess8g.table.json'\n",
      "output.shape=torch.Size([2833, 8])\n",
      "[Errno 2] No such file or directory: 'C:\\\\Users\\\\Nick\\\\AppData\\\\Local\\\\Temp\\\\tmpelzujctgwandb-media\\\\m9zu4j9j.table.json'\n"
     ]
    },
    {
     "name": "stderr",
     "output_type": "stream",
     "text": [
      " 65%|██████▍   | 162/250 [52:19<24:30, 16.72s/it]"
     ]
    },
    {
     "name": "stdout",
     "output_type": "stream",
     "text": [
      "output.shape=torch.Size([2423, 8])\n",
      "[Errno 2] No such file or directory: 'C:\\\\Users\\\\Nick\\\\AppData\\\\Local\\\\Temp\\\\tmpelzujctgwandb-media\\\\t4a3i7t0.table.json'\n",
      "output.shape=torch.Size([2833, 8])\n",
      "[Errno 2] No such file or directory: 'C:\\\\Users\\\\Nick\\\\AppData\\\\Local\\\\Temp\\\\tmpelzujctgwandb-media\\\\ogzgsq78.table.json'\n"
     ]
    },
    {
     "name": "stderr",
     "output_type": "stream",
     "text": [
      " 66%|██████▌   | 165/250 [53:17<23:41, 16.72s/it]"
     ]
    },
    {
     "name": "stdout",
     "output_type": "stream",
     "text": [
      "output.shape=torch.Size([2423, 8])\n",
      "[Errno 2] No such file or directory: 'C:\\\\Users\\\\Nick\\\\AppData\\\\Local\\\\Temp\\\\tmpelzujctgwandb-media\\\\oe7oo31e.table.json'\n",
      "output.shape=torch.Size([2833, 8])\n",
      "[Errno 2] No such file or directory: 'C:\\\\Users\\\\Nick\\\\AppData\\\\Local\\\\Temp\\\\tmpelzujctgwandb-media\\\\nltdoml1.table.json'\n"
     ]
    },
    {
     "name": "stderr",
     "output_type": "stream",
     "text": [
      " 67%|██████▋   | 168/250 [54:15<22:51, 16.72s/it]"
     ]
    },
    {
     "name": "stdout",
     "output_type": "stream",
     "text": [
      "output.shape=torch.Size([2423, 8])\n",
      "[Errno 2] No such file or directory: 'C:\\\\Users\\\\Nick\\\\AppData\\\\Local\\\\Temp\\\\tmpelzujctgwandb-media\\\\c3bgm1dy.table.json'\n",
      "output.shape=torch.Size([2833, 8])\n",
      "[Errno 2] No such file or directory: 'C:\\\\Users\\\\Nick\\\\AppData\\\\Local\\\\Temp\\\\tmpelzujctgwandb-media\\\\b40p5cto.table.json'\n"
     ]
    },
    {
     "name": "stderr",
     "output_type": "stream",
     "text": [
      " 68%|██████▊   | 171/250 [55:13<21:58, 16.69s/it]"
     ]
    },
    {
     "name": "stdout",
     "output_type": "stream",
     "text": [
      "output.shape=torch.Size([2423, 8])\n",
      "[Errno 2] No such file or directory: 'C:\\\\Users\\\\Nick\\\\AppData\\\\Local\\\\Temp\\\\tmpelzujctgwandb-media\\\\yqr15lpd.table.json'\n",
      "output.shape=torch.Size([2833, 8])\n",
      "[Errno 2] No such file or directory: 'C:\\\\Users\\\\Nick\\\\AppData\\\\Local\\\\Temp\\\\tmpelzujctgwandb-media\\\\xgj0pbgn.table.json'\n"
     ]
    },
    {
     "name": "stderr",
     "output_type": "stream",
     "text": [
      " 70%|██████▉   | 174/250 [56:10<21:09, 16.71s/it]"
     ]
    },
    {
     "name": "stdout",
     "output_type": "stream",
     "text": [
      "output.shape=torch.Size([2423, 8])\n",
      "[Errno 2] No such file or directory: 'C:\\\\Users\\\\Nick\\\\AppData\\\\Local\\\\Temp\\\\tmpelzujctgwandb-media\\\\1541d7qa.table.json'\n",
      "output.shape=torch.Size([2833, 8])\n",
      "[Errno 2] No such file or directory: 'C:\\\\Users\\\\Nick\\\\AppData\\\\Local\\\\Temp\\\\tmpelzujctgwandb-media\\\\51i9pgjx.table.json'\n"
     ]
    },
    {
     "name": "stderr",
     "output_type": "stream",
     "text": [
      " 71%|███████   | 177/250 [57:10<20:37, 16.95s/it]"
     ]
    },
    {
     "name": "stdout",
     "output_type": "stream",
     "text": [
      "output.shape=torch.Size([2423, 8])\n",
      "[Errno 2] No such file or directory: 'C:\\\\Users\\\\Nick\\\\AppData\\\\Local\\\\Temp\\\\tmpelzujctgwandb-media\\\\rkktsjb7.table.json'\n",
      "output.shape=torch.Size([2833, 8])\n",
      "[Errno 2] No such file or directory: 'C:\\\\Users\\\\Nick\\\\AppData\\\\Local\\\\Temp\\\\tmpelzujctgwandb-media\\\\hsg1va39.table.json'\n"
     ]
    },
    {
     "name": "stderr",
     "output_type": "stream",
     "text": [
      " 72%|███████▏  | 180/250 [58:10<20:00, 17.15s/it]"
     ]
    },
    {
     "name": "stdout",
     "output_type": "stream",
     "text": [
      "output.shape=torch.Size([2423, 8])\n",
      "[Errno 2] No such file or directory: 'C:\\\\Users\\\\Nick\\\\AppData\\\\Local\\\\Temp\\\\tmpelzujctgwandb-media\\\\ucc6tgin.table.json'\n",
      "output.shape=torch.Size([2833, 8])\n",
      "[Errno 2] No such file or directory: 'C:\\\\Users\\\\Nick\\\\AppData\\\\Local\\\\Temp\\\\tmpelzujctgwandb-media\\\\bilros24.table.json'\n"
     ]
    },
    {
     "name": "stderr",
     "output_type": "stream",
     "text": [
      " 73%|███████▎  | 183/250 [59:10<19:12, 17.20s/it]"
     ]
    },
    {
     "name": "stdout",
     "output_type": "stream",
     "text": [
      "output.shape=torch.Size([2423, 8])\n",
      "[Errno 2] No such file or directory: 'C:\\\\Users\\\\Nick\\\\AppData\\\\Local\\\\Temp\\\\tmpelzujctgwandb-media\\\\ywh9k6fh.table.json'\n",
      "output.shape=torch.Size([2833, 8])\n",
      "[Errno 2] No such file or directory: 'C:\\\\Users\\\\Nick\\\\AppData\\\\Local\\\\Temp\\\\tmpelzujctgwandb-media\\\\6sfhazot.table.json'\n"
     ]
    },
    {
     "name": "stderr",
     "output_type": "stream",
     "text": [
      " 74%|███████▍  | 186/250 [1:00:10<18:22, 17.23s/it]"
     ]
    },
    {
     "name": "stdout",
     "output_type": "stream",
     "text": [
      "output.shape=torch.Size([2423, 8])\n",
      "[Errno 2] No such file or directory: 'C:\\\\Users\\\\Nick\\\\AppData\\\\Local\\\\Temp\\\\tmpelzujctgwandb-media\\\\q6u9ivg7.table.json'\n",
      "output.shape=torch.Size([2833, 8])\n",
      "[Errno 2] No such file or directory: 'C:\\\\Users\\\\Nick\\\\AppData\\\\Local\\\\Temp\\\\tmpelzujctgwandb-media\\\\l0d3g5f3.table.json'\n"
     ]
    },
    {
     "name": "stderr",
     "output_type": "stream",
     "text": [
      " 76%|███████▌  | 189/250 [1:01:08<17:16, 16.99s/it]"
     ]
    },
    {
     "name": "stdout",
     "output_type": "stream",
     "text": [
      "output.shape=torch.Size([2423, 8])\n",
      "[Errno 2] No such file or directory: 'C:\\\\Users\\\\Nick\\\\AppData\\\\Local\\\\Temp\\\\tmpelzujctgwandb-media\\\\lccpihwh.table.json'\n",
      "output.shape=torch.Size([2833, 8])\n",
      "[Errno 2] No such file or directory: 'C:\\\\Users\\\\Nick\\\\AppData\\\\Local\\\\Temp\\\\tmpelzujctgwandb-media\\\\2hekf235.table.json'\n"
     ]
    },
    {
     "name": "stderr",
     "output_type": "stream",
     "text": [
      " 77%|███████▋  | 192/250 [1:02:09<16:44, 17.31s/it]"
     ]
    },
    {
     "name": "stdout",
     "output_type": "stream",
     "text": [
      "output.shape=torch.Size([2423, 8])\n",
      "[Errno 2] No such file or directory: 'C:\\\\Users\\\\Nick\\\\AppData\\\\Local\\\\Temp\\\\tmpelzujctgwandb-media\\\\ewvkyot4.table.json'\n",
      "output.shape=torch.Size([2833, 8])\n",
      "[Errno 2] No such file or directory: 'C:\\\\Users\\\\Nick\\\\AppData\\\\Local\\\\Temp\\\\tmpelzujctgwandb-media\\\\dkenhigh.table.json'\n"
     ]
    },
    {
     "name": "stderr",
     "output_type": "stream",
     "text": [
      " 78%|███████▊  | 195/250 [1:03:07<15:29, 16.89s/it]"
     ]
    },
    {
     "name": "stdout",
     "output_type": "stream",
     "text": [
      "output.shape=torch.Size([2423, 8])\n",
      "[Errno 2] No such file or directory: 'C:\\\\Users\\\\Nick\\\\AppData\\\\Local\\\\Temp\\\\tmpelzujctgwandb-media\\\\quwptd0b.table.json'\n",
      "output.shape=torch.Size([2833, 8])\n",
      "[Errno 2] No such file or directory: 'C:\\\\Users\\\\Nick\\\\AppData\\\\Local\\\\Temp\\\\tmpelzujctgwandb-media\\\\rcw08ltk.table.json'\n"
     ]
    },
    {
     "name": "stderr",
     "output_type": "stream",
     "text": [
      " 79%|███████▉  | 198/250 [1:04:07<14:55, 17.21s/it]"
     ]
    },
    {
     "name": "stdout",
     "output_type": "stream",
     "text": [
      "output.shape=torch.Size([2423, 8])\n",
      "[Errno 2] No such file or directory: 'C:\\\\Users\\\\Nick\\\\AppData\\\\Local\\\\Temp\\\\tmpelzujctgwandb-media\\\\4amd4jsx.table.json'\n",
      "output.shape=torch.Size([2833, 8])\n",
      "[Errno 2] No such file or directory: 'C:\\\\Users\\\\Nick\\\\AppData\\\\Local\\\\Temp\\\\tmpelzujctgwandb-media\\\\qo7mswxa.table.json'\n"
     ]
    },
    {
     "name": "stderr",
     "output_type": "stream",
     "text": [
      " 80%|████████  | 201/250 [1:05:05<13:54, 17.02s/it]"
     ]
    },
    {
     "name": "stdout",
     "output_type": "stream",
     "text": [
      "output.shape=torch.Size([2423, 8])\n",
      "[Errno 2] No such file or directory: 'C:\\\\Users\\\\Nick\\\\AppData\\\\Local\\\\Temp\\\\tmpelzujctgwandb-media\\\\hlxv7jhh.table.json'\n",
      "output.shape=torch.Size([2833, 8])\n",
      "[Errno 2] No such file or directory: 'C:\\\\Users\\\\Nick\\\\AppData\\\\Local\\\\Temp\\\\tmpelzujctgwandb-media\\\\i1kv2q6z.table.json'\n"
     ]
    },
    {
     "name": "stderr",
     "output_type": "stream",
     "text": [
      " 82%|████████▏ | 204/250 [1:06:02<12:56, 16.89s/it]"
     ]
    },
    {
     "name": "stdout",
     "output_type": "stream",
     "text": [
      "output.shape=torch.Size([2423, 8])\n",
      "[Errno 2] No such file or directory: 'C:\\\\Users\\\\Nick\\\\AppData\\\\Local\\\\Temp\\\\tmpelzujctgwandb-media\\\\ukr5zijp.table.json'\n",
      "output.shape=torch.Size([2833, 8])\n",
      "[Errno 2] No such file or directory: 'C:\\\\Users\\\\Nick\\\\AppData\\\\Local\\\\Temp\\\\tmpelzujctgwandb-media\\\\gft8z7md.table.json'\n"
     ]
    },
    {
     "name": "stderr",
     "output_type": "stream",
     "text": [
      " 83%|████████▎ | 207/250 [1:06:59<11:50, 16.52s/it]"
     ]
    },
    {
     "name": "stdout",
     "output_type": "stream",
     "text": [
      "output.shape=torch.Size([2423, 8])\n",
      "[Errno 2] No such file or directory: 'C:\\\\Users\\\\Nick\\\\AppData\\\\Local\\\\Temp\\\\tmpelzujctgwandb-media\\\\g2347xy4.table.json'\n",
      "output.shape=torch.Size([2833, 8])\n",
      "[Errno 2] No such file or directory: 'C:\\\\Users\\\\Nick\\\\AppData\\\\Local\\\\Temp\\\\tmpelzujctgwandb-media\\\\dek30i12.table.json'\n"
     ]
    },
    {
     "name": "stderr",
     "output_type": "stream",
     "text": [
      " 84%|████████▍ | 210/250 [1:07:57<11:11, 16.78s/it]"
     ]
    },
    {
     "name": "stdout",
     "output_type": "stream",
     "text": [
      "output.shape=torch.Size([2423, 8])\n",
      "[Errno 2] No such file or directory: 'C:\\\\Users\\\\Nick\\\\AppData\\\\Local\\\\Temp\\\\tmpelzujctgwandb-media\\\\idb32awe.table.json'\n",
      "output.shape=torch.Size([2833, 8])\n",
      "[Errno 2] No such file or directory: 'C:\\\\Users\\\\Nick\\\\AppData\\\\Local\\\\Temp\\\\tmpelzujctgwandb-media\\\\4p6qlo7e.table.json'\n"
     ]
    },
    {
     "name": "stderr",
     "output_type": "stream",
     "text": [
      " 85%|████████▌ | 213/250 [1:08:54<10:10, 16.49s/it]"
     ]
    },
    {
     "name": "stdout",
     "output_type": "stream",
     "text": [
      "output.shape=torch.Size([2423, 8])\n",
      "[Errno 2] No such file or directory: 'C:\\\\Users\\\\Nick\\\\AppData\\\\Local\\\\Temp\\\\tmpelzujctgwandb-media\\\\ipj9ol6q.table.json'\n",
      "output.shape=torch.Size([2833, 8])\n",
      "[Errno 2] No such file or directory: 'C:\\\\Users\\\\Nick\\\\AppData\\\\Local\\\\Temp\\\\tmpelzujctgwandb-media\\\\b51b64aj.table.json'\n"
     ]
    },
    {
     "name": "stderr",
     "output_type": "stream",
     "text": [
      " 86%|████████▋ | 216/250 [1:09:52<09:29, 16.76s/it]"
     ]
    },
    {
     "name": "stdout",
     "output_type": "stream",
     "text": [
      "output.shape=torch.Size([2423, 8])\n",
      "[Errno 2] No such file or directory: 'C:\\\\Users\\\\Nick\\\\AppData\\\\Local\\\\Temp\\\\tmpelzujctgwandb-media\\\\fy8doce8.table.json'\n",
      "output.shape=torch.Size([2833, 8])\n",
      "[Errno 2] No such file or directory: 'C:\\\\Users\\\\Nick\\\\AppData\\\\Local\\\\Temp\\\\tmpelzujctgwandb-media\\\\8cw2s5sl.table.json'\n"
     ]
    },
    {
     "name": "stderr",
     "output_type": "stream",
     "text": [
      " 88%|████████▊ | 219/250 [1:10:49<08:40, 16.78s/it]"
     ]
    },
    {
     "name": "stdout",
     "output_type": "stream",
     "text": [
      "output.shape=torch.Size([2423, 8])\n",
      "[Errno 2] No such file or directory: 'C:\\\\Users\\\\Nick\\\\AppData\\\\Local\\\\Temp\\\\tmpelzujctgwandb-media\\\\dpf8nuda.table.json'\n",
      "output.shape=torch.Size([2833, 8])\n",
      "[Errno 2] No such file or directory: 'C:\\\\Users\\\\Nick\\\\AppData\\\\Local\\\\Temp\\\\tmpelzujctgwandb-media\\\\8ie8nir7.table.json'\n"
     ]
    },
    {
     "name": "stderr",
     "output_type": "stream",
     "text": [
      " 89%|████████▉ | 222/250 [1:11:46<07:42, 16.52s/it]"
     ]
    },
    {
     "name": "stdout",
     "output_type": "stream",
     "text": [
      "output.shape=torch.Size([2423, 8])\n",
      "[Errno 2] No such file or directory: 'C:\\\\Users\\\\Nick\\\\AppData\\\\Local\\\\Temp\\\\tmpelzujctgwandb-media\\\\o71z21fy.table.json'\n",
      "output.shape=torch.Size([2833, 8])\n",
      "[Errno 2] No such file or directory: 'C:\\\\Users\\\\Nick\\\\AppData\\\\Local\\\\Temp\\\\tmpelzujctgwandb-media\\\\p5083af2.table.json'\n"
     ]
    },
    {
     "name": "stderr",
     "output_type": "stream",
     "text": [
      " 90%|█████████ | 225/250 [1:12:44<06:58, 16.75s/it]"
     ]
    },
    {
     "name": "stdout",
     "output_type": "stream",
     "text": [
      "output.shape=torch.Size([2423, 8])\n",
      "[Errno 2] No such file or directory: 'C:\\\\Users\\\\Nick\\\\AppData\\\\Local\\\\Temp\\\\tmpelzujctgwandb-media\\\\moll52fr.table.json'\n",
      "output.shape=torch.Size([2833, 8])\n",
      "[Errno 2] No such file or directory: 'C:\\\\Users\\\\Nick\\\\AppData\\\\Local\\\\Temp\\\\tmpelzujctgwandb-media\\\\bluvnyps.table.json'\n"
     ]
    },
    {
     "name": "stderr",
     "output_type": "stream",
     "text": [
      " 91%|█████████ | 228/250 [1:13:41<06:09, 16.81s/it]"
     ]
    },
    {
     "name": "stdout",
     "output_type": "stream",
     "text": [
      "output.shape=torch.Size([2423, 8])\n",
      "[Errno 2] No such file or directory: 'C:\\\\Users\\\\Nick\\\\AppData\\\\Local\\\\Temp\\\\tmpelzujctgwandb-media\\\\pan69clr.table.json'\n",
      "output.shape=torch.Size([2833, 8])\n",
      "[Errno 2] No such file or directory: 'C:\\\\Users\\\\Nick\\\\AppData\\\\Local\\\\Temp\\\\tmpelzujctgwandb-media\\\\ce265gn3.table.json'\n"
     ]
    },
    {
     "name": "stderr",
     "output_type": "stream",
     "text": [
      " 92%|█████████▏| 231/250 [1:14:38<05:13, 16.51s/it]"
     ]
    },
    {
     "name": "stdout",
     "output_type": "stream",
     "text": [
      "output.shape=torch.Size([2423, 8])\n",
      "[Errno 2] No such file or directory: 'C:\\\\Users\\\\Nick\\\\AppData\\\\Local\\\\Temp\\\\tmpelzujctgwandb-media\\\\5bdrhpcs.table.json'\n",
      "output.shape=torch.Size([2833, 8])\n",
      "[Errno 2] No such file or directory: 'C:\\\\Users\\\\Nick\\\\AppData\\\\Local\\\\Temp\\\\tmpelzujctgwandb-media\\\\200rlbma.table.json'\n"
     ]
    },
    {
     "name": "stderr",
     "output_type": "stream",
     "text": [
      " 94%|█████████▎| 234/250 [1:15:35<04:22, 16.44s/it]"
     ]
    },
    {
     "name": "stdout",
     "output_type": "stream",
     "text": [
      "output.shape=torch.Size([2423, 8])\n",
      "[Errno 2] No such file or directory: 'C:\\\\Users\\\\Nick\\\\AppData\\\\Local\\\\Temp\\\\tmpelzujctgwandb-media\\\\yamjrcam.table.json'\n",
      "output.shape=torch.Size([2833, 8])\n",
      "[Errno 2] No such file or directory: 'C:\\\\Users\\\\Nick\\\\AppData\\\\Local\\\\Temp\\\\tmpelzujctgwandb-media\\\\7flf85x7.table.json'\n"
     ]
    },
    {
     "name": "stderr",
     "output_type": "stream",
     "text": [
      " 95%|█████████▍| 237/250 [1:16:33<03:35, 16.56s/it]"
     ]
    },
    {
     "name": "stdout",
     "output_type": "stream",
     "text": [
      "output.shape=torch.Size([2423, 8])\n",
      "[Errno 2] No such file or directory: 'C:\\\\Users\\\\Nick\\\\AppData\\\\Local\\\\Temp\\\\tmpelzujctgwandb-media\\\\hkk0eldh.table.json'\n",
      "output.shape=torch.Size([2833, 8])\n",
      "[Errno 2] No such file or directory: 'C:\\\\Users\\\\Nick\\\\AppData\\\\Local\\\\Temp\\\\tmpelzujctgwandb-media\\\\gibobb41.table.json'\n"
     ]
    },
    {
     "name": "stderr",
     "output_type": "stream",
     "text": [
      " 96%|█████████▌| 240/250 [1:17:30<02:44, 16.44s/it]"
     ]
    },
    {
     "name": "stdout",
     "output_type": "stream",
     "text": [
      "output.shape=torch.Size([2423, 8])\n",
      "[Errno 2] No such file or directory: 'C:\\\\Users\\\\Nick\\\\AppData\\\\Local\\\\Temp\\\\tmpelzujctgwandb-media\\\\n32vycz5.table.json'\n",
      "output.shape=torch.Size([2833, 8])\n",
      "[Errno 2] No such file or directory: 'C:\\\\Users\\\\Nick\\\\AppData\\\\Local\\\\Temp\\\\tmpelzujctgwandb-media\\\\2v4ko9is.table.json'\n"
     ]
    },
    {
     "name": "stderr",
     "output_type": "stream",
     "text": [
      " 97%|█████████▋| 243/250 [1:18:28<01:56, 16.68s/it]"
     ]
    },
    {
     "name": "stdout",
     "output_type": "stream",
     "text": [
      "output.shape=torch.Size([2423, 8])\n",
      "[Errno 2] No such file or directory: 'C:\\\\Users\\\\Nick\\\\AppData\\\\Local\\\\Temp\\\\tmpelzujctgwandb-media\\\\8j5ih1fk.table.json'\n",
      "output.shape=torch.Size([2833, 8])\n",
      "[Errno 2] No such file or directory: 'C:\\\\Users\\\\Nick\\\\AppData\\\\Local\\\\Temp\\\\tmpelzujctgwandb-media\\\\1hvx68nk.table.json'\n"
     ]
    },
    {
     "name": "stderr",
     "output_type": "stream",
     "text": [
      " 98%|█████████▊| 246/250 [1:19:26<01:07, 16.81s/it]"
     ]
    },
    {
     "name": "stdout",
     "output_type": "stream",
     "text": [
      "output.shape=torch.Size([2423, 8])\n",
      "[Errno 2] No such file or directory: 'C:\\\\Users\\\\Nick\\\\AppData\\\\Local\\\\Temp\\\\tmpelzujctgwandb-media\\\\2djw2p8y.table.json'\n",
      "output.shape=torch.Size([2833, 8])\n",
      "[Errno 2] No such file or directory: 'C:\\\\Users\\\\Nick\\\\AppData\\\\Local\\\\Temp\\\\tmpelzujctgwandb-media\\\\rjh44o67.table.json'\n"
     ]
    },
    {
     "name": "stderr",
     "output_type": "stream",
     "text": [
      "100%|█████████▉| 249/250 [1:20:23<00:16, 16.75s/it]"
     ]
    },
    {
     "name": "stdout",
     "output_type": "stream",
     "text": [
      "output.shape=torch.Size([2423, 8])\n",
      "[Errno 2] No such file or directory: 'C:\\\\Users\\\\Nick\\\\AppData\\\\Local\\\\Temp\\\\tmpelzujctgwandb-media\\\\1r5c7fev.table.json'\n",
      "output.shape=torch.Size([2833, 8])\n",
      "[Errno 2] No such file or directory: 'C:\\\\Users\\\\Nick\\\\AppData\\\\Local\\\\Temp\\\\tmpelzujctgwandb-media\\\\eaih2x52.table.json'\n"
     ]
    },
    {
     "name": "stderr",
     "output_type": "stream",
     "text": [
      "100%|██████████| 250/250 [1:20:57<00:00, 19.43s/it]\n"
     ]
    },
    {
     "data": {
      "application/vnd.jupyter.widget-view+json": {
       "model_id": "b77f6274cb9b4f0e82cc07fe440f5819",
       "version_major": 2,
       "version_minor": 0
      },
      "text/plain": [
       "VBox(children=(Label(value='9.430 MB of 9.430 MB uploaded\\r'), FloatProgress(value=1.0, max=1.0)))"
      ]
     },
     "metadata": {},
     "output_type": "display_data"
    },
    {
     "data": {
      "text/html": [
       "<style>\n",
       "    table.wandb td:nth-child(1) { padding: 0 10px; text-align: left ; width: auto;} td:nth-child(2) {text-align: left ; width: 100%}\n",
       "    .wandb-row { display: flex; flex-direction: row; flex-wrap: wrap; justify-content: flex-start; width: 100% }\n",
       "    .wandb-col { display: flex; flex-direction: column; flex-basis: 100%; flex: 1; padding: 10px; }\n",
       "    </style>\n",
       "<div class=\"wandb-row\"><div class=\"wandb-col\"><h3>Run history:</h3><br/><table class=\"wandb\"><tr><td>ROI < 30</td><td>▄▄▄▃▁▃▄▄▄▄▄▄▅▅▅▅▅▆▇▅▅▆▇▆█▆▅▇▄▆▅▆▅▇▆▅▇▆▅▆</td></tr><tr><td>ROI < 30 2</td><td>▄▆▆▃▁▅▅▅▅▅▅▆▆▆▅▅▅▆▇▆▅▆▇▆█▇▅▇▄▆▆▇▅▆▆▆▇▆▆▇</td></tr><tr><td>accuracy</td><td>▁▁▁▂▄▇███████████████▇▇▇▇▇▇▇▇▇█▇▇▇▇▇▇▇▇█</td></tr><tr><td>accuracy2</td><td>▁▁▁▂▅▇▇███████████▇██▇▇▇▇▇▇▇▇▇▇▇▇▇▇▇▇▇▇▇</td></tr><tr><td>epoch</td><td>▁▁▁▁▂▂▂▂▂▃▃▃▃▃▃▄▄▄▄▄▅▅▅▅▅▅▆▆▆▆▆▇▇▇▇▇▇███</td></tr><tr><td>favorite_accuracy</td><td>▁▁▁▁▁▁▁▁▁▁▁▁▁▁▁▁▁▁▁▁▁▁▁▁▁▁▁▁▁▁▁▁▁▁▁▁▁▁▁▁</td></tr><tr><td>flat_simple</td><td>▃█▇▃▁▄▄▄▃▃▂▄▃▃▂▄▂▄▄▄▃▃▄▄▆▄▃▄▃▅▅▃▄▄▄▄▅▄▅▆</td></tr><tr><td>kelly roi</td><td>▁▂▂▁▁▁▂▃▄▄▄▄▆▆▆▆▆▆▆▅▅▆▅▅█▅▃▆▂▄▄▆▆▆▄▄▇▆▅▆</td></tr><tr><td>loss_1</td><td>████▇▆▆▆▅▅▄▄▃▃▃▃▂▂▂▂▁▁▁▁▁▁▁▁▁▁▁▁▁▁▁▁▁▁▁▁</td></tr><tr><td>loss_bfsp</td><td>▁▁▁▁▁▁▁▁▁▁▁▁▁▁▁▁▁▁▁▁▁▁▁▁▁▁▁▁▁▁▁▁▁▁▁▁▁▁▁▁</td></tr><tr><td>loss_p</td><td>███▇▅▃▃▂▂▁▂▂▁▁▁▁▁▁▂▁▂▂▂▂▂▂▂▂▂▂▂▂▂▂▂▂▂▂▂▂</td></tr><tr><td>loss_val</td><td>███▇▅▃▃▂▂▁▁▂▁▁▁▁▁▁▁▁▂▂▂▂▂▂▂▂▃▃▂▂▂▂▂▂▂▂▂▂</td></tr><tr><td>multibet outlay < 30</td><td>▃▃▃▃▂▁▁▁▁▁▂▂▂▂▃▃▃▄▅▆▆▆▆▆▇▆▇███▇▇▇█▇█▇▇█▇</td></tr><tr><td>multibet profit</td><td>▃▃▃▂▁▁▁▂▃▃▃▃▄▄▄▄▄▄▅▄▄▅▄▅█▅▃▆▂▄▄▆▅▅▄▄▇▆▅▆</td></tr><tr><td>multibet profit < 30</td><td>▃▄▄▃▁▂▃▃▃▃▃▃▄▄▄▄▄▅▆▅▅▆▆▆█▆▅▇▄▆▆▆▆▇▆▆▇▆▆▆</td></tr><tr><td>multibet profit < 30 sd</td><td>▄▄▄▄▃▂▁▁▁▁▁▂▂▂▃▃▃▄▅▅▅▆▆▆█▆▇█▇█▇▇▆▇▆▇▆▆▇▆</td></tr><tr><td>mutual_info</td><td>▂▁▁▂▃▄▄▄▄▄▄▄▄▅▅▆▅▆▇▇▇▇▇▇▇▇████▇███▇█▇▇▇▇</td></tr><tr><td>profit_relu</td><td>▂██▃▁▁▁▁▁▁▁▁▁▁▁▁▁▁▁▁▁▁▁▁▁▁▁▁▁▁▁▁▁▁▁▁▁▁▁▁</td></tr><tr><td>relu roi</td><td>▃▃▃▄▁▃▃▃▃▄▃▃▅▅▅▆▅▅▅▅▅▆▅▆█▆▄▆▃▆▅▆▆▆▅▅█▇▆▆</td></tr><tr><td>val_ROI < 30</td><td>▂▃▃▂▁▂▂▂▂▂▂▃▂▃▂▂▃▄▅▃▄▆▄▄▃▇█▆▆▅▅▃▄▄▅▆▃▄▄▄</td></tr><tr><td>val_ROI < 30 2</td><td>▂▄▄▂▁▃▄▃▄▄▃▃▃▄▃▄▄▅▆▅▅▆▄▄▃▆█▆▆▅▄▃▄▄▄▆▄▅▄▄</td></tr><tr><td>val_accuracy</td><td>▁▁▁▂▅▇▇███████████▇██▇▇▇▇▇▇▇▇▇▇▇▇▇▇▇▇▇▇▇</td></tr><tr><td>val_flat_simple</td><td>▁▄▅▂▃▆▆▆▅▅▆▅▆▆▆▆▆▇▆▇▇▇▆▇▅▇█▆▇▇▆▆▆▆▆▇▆▆▆▆</td></tr><tr><td>val_kelly roi</td><td>▁▂▂▁▁▂▂▃▃▄▄▄▄▅▄▅▅▆▇▆▆▇▆▅▅▇█▇▇▇▆▅▆▆▆▇▆▆▆▆</td></tr><tr><td>val_loss_bfsp</td><td>▁▁▁▁▁▁▁▁▁▁▁▁▁▁▁▁▁▁▁▁▁▁▁▁▁▁▁▁▁▁▁▁▁▁▁▁▁▁▁▁</td></tr><tr><td>val_loss_p</td><td>███▇▅▃▃▂▂▁▂▂▁▁▁▁▁▁▂▂▂▂▂▂▂▂▃▃▃▃▂▂▂▃▂▂▂▂▂▂</td></tr><tr><td>val_loss_val</td><td>███▇▆▄▃▂▂▂▂▂▁▁▁▁▁▁▁▂▂▂▂▂▂▂▂▃▂▃▂▃▂▃▂▂▂▂▃▂</td></tr><tr><td>val_multibet outlay < 30</td><td>▃▃▃▂▂▁▁▁▁▁▁▂▂▂▃▄▃▄▆▆▆▆▆▆▇▆▇█████▇█▇█▇▇█▇</td></tr><tr><td>val_multibet profit</td><td>▁▂▂▂▂▃▄▄▅▅▅▅▅▅▅▆▆▆▇▆▆▇▆▆▆▇█▇▇▇▆▆▆▆▆▇▆▆▆▆</td></tr><tr><td>val_multibet profit < 30</td><td>▂▃▃▂▁▂▂▂▂▂▂▂▂▃▁▂▂▄▄▃▃▅▄▄▃▆█▅▆▅▄▂▃▃▄▆▃▄▃▃</td></tr><tr><td>val_multibet profit < 30 sd</td><td>▃▃▃▃▂▁▁▁▁▁▁▁▁▂▂▂▂▄▅▄▄▆▆▅▆▆███▇▆▆▇▆▆▇▅▆▆▅</td></tr><tr><td>val_mutual_info</td><td>▂▁▁▂▃▄▄▄▄▄▄▄▄▅▅▆▅▆▇▇▇▇▇▇▇▇████▇███▇█▇▇▇▇</td></tr><tr><td>val_profit_relu</td><td>▇▁▁▆▇███████████████████████████████████</td></tr><tr><td>val_relu roi</td><td>▁▂▁▂▂▂▂▂▂▂▂▂▃▃▃▄▄▅▆▅▅▆▆▅▅▇█▇▇▇▆▅▅▅▆▇▅▆▅▅</td></tr><tr><td>valfavorite_accuracy</td><td>▁▁▁▁▁▁▁▁▁▁▁▁▁▁▁▁▁▁▁▁▁▁▁▁▁▁▁▁▁▁▁▁▁▁▁▁▁▁▁▁</td></tr></table><br/></div><div class=\"wandb-col\"><h3>Run summary:</h3><br/><table class=\"wandb\"><tr><td>ROI < 30 2</td><td>0.08545</td></tr><tr><td>accuracy2</td><td>0.31839</td></tr><tr><td>epoch</td><td>249</td></tr><tr><td>favorite_accuracy</td><td>0.38562</td></tr><tr><td>flat_simple</td><td>130.06986</td></tr><tr><td>kelly roi</td><td>0.1314</td></tr><tr><td>loss_1</td><td>0.63887</td></tr><tr><td>loss_bfsp</td><td>1.945</td></tr><tr><td>loss_p</td><td>1.78717</td></tr><tr><td>multibet outlay < 30</td><td>45179.09439</td></tr><tr><td>multibet profit</td><td>6677.98365</td></tr><tr><td>multibet profit < 30</td><td>4502.66685</td></tr><tr><td>multibet profit < 30 sd</td><td>19.11989</td></tr><tr><td>mutual_info</td><td>0.06471</td></tr><tr><td>profit_relu</td><td>113459.28403</td></tr><tr><td>val_ROI < 30</td><td>-0.01113</td></tr><tr><td>val_ROI < 30 2</td><td>-0.02735</td></tr><tr><td>val_accuracy</td><td>0.31839</td></tr><tr><td>val_flat_simple</td><td>-125.91117</td></tr><tr><td>val_kelly roi</td><td>-0.07751</td></tr><tr><td>val_loss_bfsp</td><td>1.94131</td></tr><tr><td>val_loss_p</td><td>1.77675</td></tr><tr><td>val_loss_val</td><td>1.81457</td></tr><tr><td>val_multibet outlay < 30</td><td>42876.65124</td></tr><tr><td>val_multibet profit</td><td>-4116.29637</td></tr><tr><td>val_multibet profit < 30</td><td>-477.25125</td></tr><tr><td>val_multibet profit < 30 sd</td><td>18.48038</td></tr><tr><td>val_mutual_info</td><td>0.0648</td></tr><tr><td>val_profit_relu</td><td>-64476.2976</td></tr><tr><td>val_relu roi</td><td>-0.08063</td></tr><tr><td>valfavorite_accuracy</td><td>0.39215</td></tr></table><br/></div></div>"
      ],
      "text/plain": [
       "<IPython.core.display.HTML object>"
      ]
     },
     "metadata": {},
     "output_type": "display_data"
    },
    {
     "data": {
      "text/html": [
       " View run <strong style=\"color:#cdcd00\">dulcet-feather-42</strong> at: <a href='https://wandb.ai/nickojelly/NEW%20GRU%20V7%20Reporting/runs/po3ets79' target=\"_blank\">https://wandb.ai/nickojelly/NEW%20GRU%20V7%20Reporting/runs/po3ets79</a><br/>Synced 5 W&B file(s), 36 media file(s), 196 artifact file(s) and 0 other file(s)"
      ],
      "text/plain": [
       "<IPython.core.display.HTML object>"
      ]
     },
     "metadata": {},
     "output_type": "display_data"
    },
    {
     "data": {
      "text/html": [
       "Find logs at: <code>.\\wandb\\run-20240208_222947-po3ets79\\logs</code>"
      ],
      "text/plain": [
       "<IPython.core.display.HTML object>"
      ]
     },
     "metadata": {},
     "output_type": "display_data"
    },
    {
     "data": {
      "application/vnd.jupyter.widget-view+json": {
       "model_id": "e3b65c0897f94ec498f57ec0769d7e8b",
       "version_major": 2,
       "version_minor": 0
      },
      "text/plain": [
       "VBox(children=(Label(value='Waiting for wandb.init()...\\r'), FloatProgress(value=0.011288888888925108, max=1.0…"
      ]
     },
     "metadata": {},
     "output_type": "display_data"
    },
    {
     "data": {
      "text/html": [
       "wandb version 0.16.3 is available!  To upgrade, please run:\n",
       " $ pip install wandb --upgrade"
      ],
      "text/plain": [
       "<IPython.core.display.HTML object>"
      ]
     },
     "metadata": {},
     "output_type": "display_data"
    },
    {
     "data": {
      "text/html": [
       "Tracking run with wandb version 0.16.2"
      ],
      "text/plain": [
       "<IPython.core.display.HTML object>"
      ]
     },
     "metadata": {},
     "output_type": "display_data"
    },
    {
     "data": {
      "text/html": [
       "Run data is saved locally in <code>c:\\Users\\Nick\\Documents\\GitHub\\grvmodel\\python\\wandb\\run-20240208_235140-m6juem0y</code>"
      ],
      "text/plain": [
       "<IPython.core.display.HTML object>"
      ]
     },
     "metadata": {},
     "output_type": "display_data"
    },
    {
     "data": {
      "text/html": [
       "Syncing run <strong><a href='https://wandb.ai/nickojelly/NEW%20GRU%20V7%20Reporting/runs/m6juem0y' target=\"_blank\">autumn-blaze-43</a></strong> to <a href='https://wandb.ai/nickojelly/NEW%20GRU%20V7%20Reporting' target=\"_blank\">Weights & Biases</a> (<a href='https://wandb.me/run' target=\"_blank\">docs</a>)<br/>"
      ],
      "text/plain": [
       "<IPython.core.display.HTML object>"
      ]
     },
     "metadata": {},
     "output_type": "display_data"
    },
    {
     "data": {
      "text/html": [
       " View project at <a href='https://wandb.ai/nickojelly/NEW%20GRU%20V7%20Reporting' target=\"_blank\">https://wandb.ai/nickojelly/NEW%20GRU%20V7%20Reporting</a>"
      ],
      "text/plain": [
       "<IPython.core.display.HTML object>"
      ]
     },
     "metadata": {},
     "output_type": "display_data"
    },
    {
     "data": {
      "text/html": [
       " View run at <a href='https://wandb.ai/nickojelly/NEW%20GRU%20V7%20Reporting/runs/m6juem0y' target=\"_blank\">https://wandb.ai/nickojelly/NEW%20GRU%20V7%20Reporting/runs/m6juem0y</a>"
      ],
      "text/plain": [
       "<IPython.core.display.HTML object>"
      ]
     },
     "metadata": {},
     "output_type": "display_data"
    },
    {
     "name": "stdout",
     "output_type": "stream",
     "text": [
      "{'hidden_size': 256, 'stats': ['inside', 'midfield', 'wide', 'weight', 'DogGrade', '_dist_last__1', '_box_last__1', '_speed_avg_1', '_split_speed_avg_1', '_split_margin_avg_1', '_margin_avg_1', '_margin_time_avg_1', '_RunHomeTime_1', '_run_home_speed_1', '_first_out_avg_1', '_pos_out_avg_1', '_post_change_avg_1', '_races_1', '_wins_1', '_wins_last_1', '_weight_', '_min_time_', '_min_split_time_', '_last_start_price', '_last_start_prob', 'dist_dist_last__10', 'dist_box_last__10', 'dist_speed_avg_10', 'dist_split_speed_avg_10', 'dist_split_margin_avg_10', 'dist_margin_avg_10', 'dist_margin_time_avg_10', 'dist_RunHomeTime_10', 'dist_run_home_speed_10', 'dist_first_out_avg_10', 'dist_pos_out_avg_10', 'dist_post_change_avg_10', 'dist_races_10', 'dist_wins_10', 'dist_wins_last_10', 'dist_weight_', 'dist_min_time_', 'dist_min_split_time_', 'dist_last_start_price', 'dist_last_start_prob', 'box_dist_last__10', 'box_box_last__10', 'box_speed_avg_10', 'box_split_speed_avg_10', 'box_split_margin_avg_10', 'box_margin_avg_10', 'box_margin_time_avg_10', 'box_RunHomeTime_10', 'box_run_home_speed_10', 'box_first_out_avg_10', 'box_pos_out_avg_10', 'box_post_change_avg_10', 'box_races_10', 'box_wins_10', 'box_wins_last_10', 'box_weight_', 'box_min_time_', 'box_min_split_time_', 'box_last_start_price', 'box_last_start_prob', 'track_box_dist_last__10', 'track_box_box_last__10', 'track_box_speed_avg_10', 'track_box_split_speed_avg_10', 'track_box_split_margin_avg_10', 'track_box_margin_avg_10', 'track_box_margin_time_avg_10', 'track_box_RunHomeTime_10', 'track_box_run_home_speed_10', 'track_box_first_out_avg_10', 'track_box_pos_out_avg_10', 'track_box_post_change_avg_10', 'track_box_races_10', 'track_box_wins_10', 'track_box_wins_last_10', 'track_box_weight_', 'track_box_min_time_', 'track_box_min_split_time_', 'track_box_last_start_price', 'track_box_last_start_prob', 'track_dist_dist_last__10', 'track_dist_box_last__10', 'track_dist_speed_avg_10', 'track_dist_split_speed_avg_10', 'track_dist_split_margin_avg_10', 'track_dist_margin_avg_10', 'track_dist_margin_time_avg_10', 'track_dist_RunHomeTime_10', 'track_dist_run_home_speed_10', 'track_dist_first_out_avg_10', 'track_dist_pos_out_avg_10', 'track_dist_post_change_avg_10', 'track_dist_races_10', 'track_dist_wins_10', 'track_dist_wins_last_10', 'track_dist_weight_', 'track_dist_min_time_', 'track_dist_min_split_time_', 'track_dist_last_start_price', 'track_dist_last_start_prob'], 'races': ['NZ'], 'datafile': './data/gru_inputs_kitchen_sink_new_not_simple.fth', 'latest_date': '2024-01-31T00:00:00', 'input_type': 'basic', 'num_layers': 2, 'batch_size': 750, 'dropout': 0.3, 'epochs': 250, 'learning_rate': 0.001, 'optimizer': 'adamW', 'f0_layer_size': 128, 'f1_layer_size': 64, 'training_date_end': '2023-01-01', 'notes': 'GRU, with basic add on data looped in', 'batch_days': 180, 'stat_list_dict': {'_dist_last__1': 1, '_box_last__1': 1, '_speed_avg_1': 1, '_split_speed_avg_1': 1, '_split_margin_avg_1': 1, '_margin_avg_1': 1, '_margin_time_avg_1': 1, '_RunHomeTime_1': 1, '_run_home_speed_1': 1, '_first_out_avg_1': 1, '_pos_out_avg_1': 1, '_post_change_avg_1': 1, '_races_1': 1, '_wins_1': 1, '_wins_last_1': 1, '_weight_': 1, '_min_time_': 1, '_min_split_time_': 1, '_last_start_price': 1, '_last_start_prob': 1}}\n",
      "250\n",
      "{'hidden_size': 256, 'stats': ['inside', 'midfield', 'wide', 'weight', 'DogGrade', '_dist_last__1', '_box_last__1', '_speed_avg_1', '_split_speed_avg_1', '_split_margin_avg_1', '_margin_avg_1', '_margin_time_avg_1', '_RunHomeTime_1', '_run_home_speed_1', '_first_out_avg_1', '_pos_out_avg_1', '_post_change_avg_1', '_races_1', '_wins_1', '_wins_last_1', '_weight_', '_min_time_', '_min_split_time_', '_last_start_price', '_last_start_prob', 'dist_dist_last__10', 'dist_box_last__10', 'dist_speed_avg_10', 'dist_split_speed_avg_10', 'dist_split_margin_avg_10', 'dist_margin_avg_10', 'dist_margin_time_avg_10', 'dist_RunHomeTime_10', 'dist_run_home_speed_10', 'dist_first_out_avg_10', 'dist_pos_out_avg_10', 'dist_post_change_avg_10', 'dist_races_10', 'dist_wins_10', 'dist_wins_last_10', 'dist_weight_', 'dist_min_time_', 'dist_min_split_time_', 'dist_last_start_price', 'dist_last_start_prob', 'box_dist_last__10', 'box_box_last__10', 'box_speed_avg_10', 'box_split_speed_avg_10', 'box_split_margin_avg_10', 'box_margin_avg_10', 'box_margin_time_avg_10', 'box_RunHomeTime_10', 'box_run_home_speed_10', 'box_first_out_avg_10', 'box_pos_out_avg_10', 'box_post_change_avg_10', 'box_races_10', 'box_wins_10', 'box_wins_last_10', 'box_weight_', 'box_min_time_', 'box_min_split_time_', 'box_last_start_price', 'box_last_start_prob', 'track_box_dist_last__10', 'track_box_box_last__10', 'track_box_speed_avg_10', 'track_box_split_speed_avg_10', 'track_box_split_margin_avg_10', 'track_box_margin_avg_10', 'track_box_margin_time_avg_10', 'track_box_RunHomeTime_10', 'track_box_run_home_speed_10', 'track_box_first_out_avg_10', 'track_box_pos_out_avg_10', 'track_box_post_change_avg_10', 'track_box_races_10', 'track_box_wins_10', 'track_box_wins_last_10', 'track_box_weight_', 'track_box_min_time_', 'track_box_min_split_time_', 'track_box_last_start_price', 'track_box_last_start_prob', 'track_dist_dist_last__10', 'track_dist_box_last__10', 'track_dist_speed_avg_10', 'track_dist_split_speed_avg_10', 'track_dist_split_margin_avg_10', 'track_dist_margin_avg_10', 'track_dist_margin_time_avg_10', 'track_dist_RunHomeTime_10', 'track_dist_run_home_speed_10', 'track_dist_first_out_avg_10', 'track_dist_pos_out_avg_10', 'track_dist_post_change_avg_10', 'track_dist_races_10', 'track_dist_wins_10', 'track_dist_wins_last_10', 'track_dist_weight_', 'track_dist_min_time_', 'track_dist_min_split_time_', 'track_dist_last_start_price', 'track_dist_last_start_prob'], 'races': ['NZ'], 'datafile': './data/gru_inputs_kitchen_sink_new_not_simple.fth', 'latest_date': '2024-01-31T00:00:00', 'input_type': 'basic', 'num_layers': 2, 'batch_size': 750, 'dropout': 0.3, 'epochs': 250, 'learning_rate': 0.001, 'optimizer': 'adamW', 'f0_layer_size': 128, 'f1_layer_size': 64, 'training_date_end': '2023-01-01', 'notes': 'GRU, with basic add on data looped in', 'batch_days': 180, 'stat_list_dict': {'_dist_last__1': 1, '_box_last__1': 1, '_speed_avg_1': 1, '_split_speed_avg_1': 1, '_split_margin_avg_1': 1, '_margin_avg_1': 1, '_margin_time_avg_1': 1, '_RunHomeTime_1': 1, '_run_home_speed_1': 1, '_first_out_avg_1': 1, '_pos_out_avg_1': 1, '_post_change_avg_1': 1, '_races_1': 1, '_wins_1': 1, '_wins_last_1': 1, '_weight_': 1, '_min_time_': 1, '_min_split_time_': 1, '_last_start_price': 1, '_last_start_prob': 1}}\n",
      "basic\n",
      "1\n",
      "1\n",
      "1\n",
      "1\n",
      "1\n",
      "1\n",
      "1\n",
      "1\n",
      "1\n",
      "1\n",
      "1\n",
      "1\n",
      "1\n",
      "1\n",
      "1\n",
      "1\n",
      "1\n",
      "1\n",
      "1\n",
      "1\n",
      "[1, 1, 1, 1, 1, 1, 1, 1, 1, 1, 1, 1, 1, 1, 1, 1, 1, 1, 1, 1]\n",
      "data_mask_size=26\n",
      "tensor([ True,  True,  True,  True,  True,  True,  True,  True,  True,  True,\n",
      "         True,  True,  True,  True,  True,  True,  True,  True,  True,  True,\n",
      "         True,  True,  True,  True,  True,  True, False, False, False, False,\n",
      "        False, False, False, False, False, False, False, False, False, False,\n",
      "        False, False, False, False, False, False, False, False, False, False,\n",
      "        False, False, False, False, False, False, False, False, False, False,\n",
      "        False, False, False, False, False, False, False, False, False, False,\n",
      "        False, False, False, False, False, False, False, False, False, False,\n",
      "        False, False, False, False, False, False, False, False, False, False,\n",
      "        False, False, False, False, False, False, False, False, False, False,\n",
      "        False, False, False, False, False, False], device='cuda:0')\n",
      "torch.Size([106])\n",
      "Train examples 15104, Test examples 2423, Val examples 2833\n"
     ]
    },
    {
     "name": "stderr",
     "output_type": "stream",
     "text": [
      "100%|██████████| 3963/3963 [00:00<00:00, 63844.93it/s]\n",
      "100%|██████████| 3964/3964 [00:01<00:00, 1987.28it/s]\n"
     ]
    },
    {
     "name": "stdout",
     "output_type": "stream",
     "text": [
      "[(datetime.date(2019, 12, 1), datetime.date(2020, 5, 29)), (datetime.date(2020, 5, 29), datetime.date(2020, 11, 25)), (datetime.date(2020, 11, 25), datetime.date(2021, 5, 24)), (datetime.date(2021, 5, 24), datetime.date(2021, 11, 20)), (datetime.date(2021, 11, 20), datetime.date(2022, 5, 19)), (datetime.date(2022, 5, 19), datetime.date(2022, 11, 15)), (datetime.date(2022, 11, 15), datetime.date(2022, 12, 31))]\n",
      "2020-05-29\n",
      "2020-11-25\n",
      "2021-05-24\n",
      "2021-11-20\n",
      "2022-05-19\n",
      "2022-11-15\n",
      "2022-12-31\n",
      "Train examples [1712, 2826, 2680, 2396, 2444, 2391, 649]\n"
     ]
    },
    {
     "name": "stderr",
     "output_type": "stream",
     "text": [
      "100%|██████████| 3963/3963 [00:00<00:00, 6115.38it/s]\n",
      "100%|██████████| 3963/3963 [00:01<00:00, 3771.40it/s]\n",
      "100%|██████████| 3963/3963 [00:01<00:00, 3885.45it/s]\n",
      "100%|██████████| 3963/3963 [00:00<00:00, 4406.25it/s]\n",
      "100%|██████████| 3963/3963 [00:00<00:00, 4329.39it/s]\n",
      "100%|██████████| 3963/3963 [00:00<00:00, 4419.88it/s]\n",
      "100%|██████████| 3963/3963 [00:00<00:00, 15741.20it/s]\n",
      "100%|██████████| 7/7 [00:05<00:00,  1.22it/s]\n"
     ]
    },
    {
     "name": "stdout",
     "output_type": "stream",
     "text": [
      "Train examples [1480, 1594, 1489, 1492, 1400, 1357, 1005]\n",
      "Train examples [1480, 1594, 1489, 1492, 1400, 1357, 1005]\n",
      "Train examples [1712, 2826, 2680, 2396, 2444, 2391, 649]\n",
      "Train examples [1712, 2826, 2680, 2396, 2444, 2391, 649]\n",
      "here\n",
      "input_size=26\n"
     ]
    },
    {
     "name": "stderr",
     "output_type": "stream",
     "text": [
      "C:\\Users\\Nick\\AppData\\Local\\Temp\\ipykernel_8176\\3542074422.py:70: UserWarning: To copy construct from a tensor, it is recommended to use sourceTensor.clone().detach() or sourceTensor.clone().detach().requires_grad_(True), rather than torch.tensor(sourceTensor).\n",
      "  config['stat_mask_tensor'] = torch.tensor(stat_mask, dtype=torch.uint8).to(device)\n",
      "c:\\Users\\Nick\\.conda\\envs\\python311\\Lib\\site-packages\\torch\\nn\\modules\\lazy.py:180: UserWarning: Lazy modules are a new feature under heavy development so changes to the API or functionality can happen at any moment.\n",
      "  warnings.warn('Lazy modules are a new feature under heavy development '\n"
     ]
    },
    {
     "name": "stdout",
     "output_type": "stream",
     "text": [
      "GRUNetv3_extra(\n",
      "  (gru): GRU(26, 256, num_layers=2, dropout=0.3)\n",
      "  (relu): ReLU()\n",
      "  (fc0): Linear(in_features=2630, out_features=2048, bias=True)\n",
      "  (batch_norm): BatchNorm1d(26, eps=1e-05, momentum=0.1, affine=True, track_running_stats=True)\n",
      "  (batch_norm_data): BatchNorm1d(26, eps=1e-05, momentum=0.1, affine=True, track_running_stats=True)\n",
      "  (extra_1): GRUNetv3_simple_extra_data(\n",
      "    (batch_norm): LazyBatchNorm1d(0, eps=1e-05, momentum=0.1, affine=True, track_running_stats=True)\n",
      "    (relu): ReLU()\n",
      "    (fc0_p1): LazyLinear(in_features=0, out_features=128, bias=True)\n",
      "    (fc0_p1_drop): Dropout(p=0.3, inplace=False)\n",
      "    (fc0_p2): Linear(in_features=128, out_features=64, bias=True)\n",
      "    (fc0_p2_drop): Dropout(p=0.3, inplace=False)\n",
      "    (fc0_p3): Linear(in_features=64, out_features=64, bias=True)\n",
      "    (fc0_p3_drop): Dropout(p=0.3, inplace=False)\n",
      "  )\n",
      "  (fc0_p1): Linear(in_features=512, out_features=256, bias=True)\n",
      "  (fc0_p1_drop): Dropout(p=0.3, inplace=False)\n",
      "  (fc0_p2): Linear(in_features=256, out_features=256, bias=True)\n",
      "  (fc0_p2_drop): Dropout(p=0.3, inplace=False)\n",
      "  (fc0_p3): Linear(in_features=256, out_features=256, bias=True)\n",
      "  (fc0_p3_drop): Dropout(p=0.3, inplace=False)\n",
      "  (relu0): ReLU()\n",
      "  (drop1): Dropout(p=0.3, inplace=False)\n",
      "  (fc1): Linear(in_features=2048, out_features=1024, bias=True)\n",
      "  (drop2): Dropout(p=0.3, inplace=False)\n",
      "  (fc2): Linear(in_features=1024, out_features=64, bias=True)\n",
      "  (drop3): Dropout(p=0.3, inplace=False)\n",
      "  (fc3): Linear(in_features=64, out_features=8, bias=True)\n",
      "  (output_fn): Identity()\n",
      ")\n"
     ]
    },
    {
     "name": "stderr",
     "output_type": "stream",
     "text": [
      "  0%|          | 0/250 [00:00<?, ?it/s]"
     ]
    },
    {
     "name": "stdout",
     "output_type": "stream",
     "text": [
      "output.shape=torch.Size([2423, 8])\n",
      "[Errno 2] No such file or directory: 'C:\\\\Users\\\\Nick\\\\AppData\\\\Local\\\\Temp\\\\tmpelzujctgwandb-media\\\\fvrvu4kl.table.json'\n",
      "output.shape=torch.Size([2833, 8])\n",
      "[Errno 2] No such file or directory: 'C:\\\\Users\\\\Nick\\\\AppData\\\\Local\\\\Temp\\\\tmpelzujctgwandb-media\\\\ljaezgbt.table.json'\n",
      "created path\n"
     ]
    },
    {
     "name": "stderr",
     "output_type": "stream",
     "text": [
      "  1%|          | 3/250 [01:09<1:24:40, 20.57s/it]"
     ]
    },
    {
     "name": "stdout",
     "output_type": "stream",
     "text": [
      "output.shape=torch.Size([2423, 8])\n",
      "[Errno 2] No such file or directory: 'C:\\\\Users\\\\Nick\\\\AppData\\\\Local\\\\Temp\\\\tmpelzujctgwandb-media\\\\c9w4k4h4.table.json'\n",
      "output.shape=torch.Size([2833, 8])\n",
      "[Errno 2] No such file or directory: 'C:\\\\Users\\\\Nick\\\\AppData\\\\Local\\\\Temp\\\\tmpelzujctgwandb-media\\\\1mc7bvnf.table.json'\n"
     ]
    },
    {
     "name": "stderr",
     "output_type": "stream",
     "text": [
      "  2%|▏         | 6/250 [02:18<1:23:11, 20.45s/it]"
     ]
    },
    {
     "name": "stdout",
     "output_type": "stream",
     "text": [
      "output.shape=torch.Size([2423, 8])\n",
      "[Errno 2] No such file or directory: 'C:\\\\Users\\\\Nick\\\\AppData\\\\Local\\\\Temp\\\\tmpelzujctgwandb-media\\\\aqtqbveh.table.json'\n",
      "output.shape=torch.Size([2833, 8])\n",
      "[Errno 2] No such file or directory: 'C:\\\\Users\\\\Nick\\\\AppData\\\\Local\\\\Temp\\\\tmpelzujctgwandb-media\\\\xzji8z9v.table.json'\n"
     ]
    },
    {
     "name": "stderr",
     "output_type": "stream",
     "text": [
      "  4%|▎         | 9/250 [03:27<1:22:54, 20.64s/it]"
     ]
    },
    {
     "name": "stdout",
     "output_type": "stream",
     "text": [
      "output.shape=torch.Size([2423, 8])\n",
      "[Errno 2] No such file or directory: 'C:\\\\Users\\\\Nick\\\\AppData\\\\Local\\\\Temp\\\\tmpelzujctgwandb-media\\\\w89bcg9q.table.json'\n",
      "output.shape=torch.Size([2833, 8])\n",
      "[Errno 2] No such file or directory: 'C:\\\\Users\\\\Nick\\\\AppData\\\\Local\\\\Temp\\\\tmpelzujctgwandb-media\\\\7kmgd8l5.table.json'\n"
     ]
    },
    {
     "name": "stderr",
     "output_type": "stream",
     "text": [
      "  5%|▍         | 12/250 [04:37<1:22:00, 20.67s/it]"
     ]
    },
    {
     "name": "stdout",
     "output_type": "stream",
     "text": [
      "output.shape=torch.Size([2423, 8])\n",
      "[Errno 2] No such file or directory: 'C:\\\\Users\\\\Nick\\\\AppData\\\\Local\\\\Temp\\\\tmpelzujctgwandb-media\\\\e1uz9lgi.table.json'\n",
      "output.shape=torch.Size([2833, 8])\n",
      "[Errno 2] No such file or directory: 'C:\\\\Users\\\\Nick\\\\AppData\\\\Local\\\\Temp\\\\tmpelzujctgwandb-media\\\\kfcn1e85.table.json'\n"
     ]
    },
    {
     "name": "stderr",
     "output_type": "stream",
     "text": [
      "  6%|▌         | 15/250 [05:45<1:19:41, 20.34s/it]"
     ]
    },
    {
     "name": "stdout",
     "output_type": "stream",
     "text": [
      "output.shape=torch.Size([2423, 8])\n",
      "[Errno 2] No such file or directory: 'C:\\\\Users\\\\Nick\\\\AppData\\\\Local\\\\Temp\\\\tmpelzujctgwandb-media\\\\jpkplyml.table.json'\n",
      "output.shape=torch.Size([2833, 8])\n",
      "[Errno 2] No such file or directory: 'C:\\\\Users\\\\Nick\\\\AppData\\\\Local\\\\Temp\\\\tmpelzujctgwandb-media\\\\69z70i54.table.json'\n"
     ]
    },
    {
     "name": "stderr",
     "output_type": "stream",
     "text": [
      "  7%|▋         | 18/250 [06:54<1:18:55, 20.41s/it]"
     ]
    },
    {
     "name": "stdout",
     "output_type": "stream",
     "text": [
      "output.shape=torch.Size([2423, 8])\n",
      "[Errno 2] No such file or directory: 'C:\\\\Users\\\\Nick\\\\AppData\\\\Local\\\\Temp\\\\tmpelzujctgwandb-media\\\\uocq84bb.table.json'\n",
      "output.shape=torch.Size([2833, 8])\n",
      "[Errno 2] No such file or directory: 'C:\\\\Users\\\\Nick\\\\AppData\\\\Local\\\\Temp\\\\tmpelzujctgwandb-media\\\\8804zvl8.table.json'\n"
     ]
    },
    {
     "name": "stderr",
     "output_type": "stream",
     "text": [
      "  8%|▊         | 21/250 [08:04<1:18:23, 20.54s/it]"
     ]
    },
    {
     "name": "stdout",
     "output_type": "stream",
     "text": [
      "output.shape=torch.Size([2423, 8])\n",
      "[Errno 2] No such file or directory: 'C:\\\\Users\\\\Nick\\\\AppData\\\\Local\\\\Temp\\\\tmpelzujctgwandb-media\\\\x0lk0h4o.table.json'\n",
      "output.shape=torch.Size([2833, 8])\n",
      "[Errno 2] No such file or directory: 'C:\\\\Users\\\\Nick\\\\AppData\\\\Local\\\\Temp\\\\tmpelzujctgwandb-media\\\\ahgwlq5s.table.json'\n"
     ]
    },
    {
     "name": "stderr",
     "output_type": "stream",
     "text": [
      " 10%|▉         | 24/250 [09:13<1:17:02, 20.45s/it]"
     ]
    },
    {
     "name": "stdout",
     "output_type": "stream",
     "text": [
      "output.shape=torch.Size([2423, 8])\n",
      "[Errno 2] No such file or directory: 'C:\\\\Users\\\\Nick\\\\AppData\\\\Local\\\\Temp\\\\tmpelzujctgwandb-media\\\\vtlph6xg.table.json'\n",
      "output.shape=torch.Size([2833, 8])\n",
      "[Errno 2] No such file or directory: 'C:\\\\Users\\\\Nick\\\\AppData\\\\Local\\\\Temp\\\\tmpelzujctgwandb-media\\\\oqcr1y9b.table.json'\n"
     ]
    },
    {
     "name": "stderr",
     "output_type": "stream",
     "text": [
      " 11%|█         | 27/250 [10:22<1:16:40, 20.63s/it]"
     ]
    },
    {
     "name": "stdout",
     "output_type": "stream",
     "text": [
      "output.shape=torch.Size([2423, 8])\n",
      "[Errno 2] No such file or directory: 'C:\\\\Users\\\\Nick\\\\AppData\\\\Local\\\\Temp\\\\tmpelzujctgwandb-media\\\\y3i1w4zj.table.json'\n",
      "output.shape=torch.Size([2833, 8])\n",
      "[Errno 2] No such file or directory: 'C:\\\\Users\\\\Nick\\\\AppData\\\\Local\\\\Temp\\\\tmpelzujctgwandb-media\\\\577z1ldl.table.json'\n"
     ]
    },
    {
     "name": "stderr",
     "output_type": "stream",
     "text": [
      " 12%|█▏        | 30/250 [11:31<1:14:43, 20.38s/it]"
     ]
    },
    {
     "name": "stdout",
     "output_type": "stream",
     "text": [
      "output.shape=torch.Size([2423, 8])\n",
      "[Errno 2] No such file or directory: 'C:\\\\Users\\\\Nick\\\\AppData\\\\Local\\\\Temp\\\\tmpelzujctgwandb-media\\\\544h8rsw.table.json'\n",
      "output.shape=torch.Size([2833, 8])\n",
      "[Errno 2] No such file or directory: 'C:\\\\Users\\\\Nick\\\\AppData\\\\Local\\\\Temp\\\\tmpelzujctgwandb-media\\\\kxv7gqvf.table.json'\n"
     ]
    },
    {
     "name": "stderr",
     "output_type": "stream",
     "text": [
      " 13%|█▎        | 33/250 [12:40<1:13:50, 20.42s/it]"
     ]
    },
    {
     "name": "stdout",
     "output_type": "stream",
     "text": [
      "output.shape=torch.Size([2423, 8])\n",
      "[Errno 2] No such file or directory: 'C:\\\\Users\\\\Nick\\\\AppData\\\\Local\\\\Temp\\\\tmpelzujctgwandb-media\\\\i8ovmnlc.table.json'\n",
      "output.shape=torch.Size([2833, 8])\n",
      "[Errno 2] No such file or directory: 'C:\\\\Users\\\\Nick\\\\AppData\\\\Local\\\\Temp\\\\tmpelzujctgwandb-media\\\\pguk7kvn.table.json'\n"
     ]
    },
    {
     "name": "stderr",
     "output_type": "stream",
     "text": [
      " 14%|█▍        | 36/250 [13:49<1:13:10, 20.52s/it]"
     ]
    },
    {
     "name": "stdout",
     "output_type": "stream",
     "text": [
      "output.shape=torch.Size([2423, 8])\n",
      "[Errno 2] No such file or directory: 'C:\\\\Users\\\\Nick\\\\AppData\\\\Local\\\\Temp\\\\tmpelzujctgwandb-media\\\\c43fjfzw.table.json'\n",
      "output.shape=torch.Size([2833, 8])\n",
      "[Errno 2] No such file or directory: 'C:\\\\Users\\\\Nick\\\\AppData\\\\Local\\\\Temp\\\\tmpelzujctgwandb-media\\\\1cymxs58.table.json'\n"
     ]
    },
    {
     "name": "stderr",
     "output_type": "stream",
     "text": [
      " 16%|█▌        | 39/250 [14:58<1:11:54, 20.45s/it]"
     ]
    },
    {
     "name": "stdout",
     "output_type": "stream",
     "text": [
      "output.shape=torch.Size([2423, 8])\n",
      "[Errno 2] No such file or directory: 'C:\\\\Users\\\\Nick\\\\AppData\\\\Local\\\\Temp\\\\tmpelzujctgwandb-media\\\\sc0lrt68.table.json'\n",
      "output.shape=torch.Size([2833, 8])\n",
      "[Errno 2] No such file or directory: 'C:\\\\Users\\\\Nick\\\\AppData\\\\Local\\\\Temp\\\\tmpelzujctgwandb-media\\\\qvx8cqxr.table.json'\n"
     ]
    },
    {
     "name": "stderr",
     "output_type": "stream",
     "text": [
      " 17%|█▋        | 42/250 [16:08<1:11:36, 20.66s/it]"
     ]
    },
    {
     "name": "stdout",
     "output_type": "stream",
     "text": [
      "output.shape=torch.Size([2423, 8])\n",
      "[Errno 2] No such file or directory: 'C:\\\\Users\\\\Nick\\\\AppData\\\\Local\\\\Temp\\\\tmpelzujctgwandb-media\\\\0ump1g4q.table.json'\n",
      "output.shape=torch.Size([2833, 8])\n",
      "[Errno 2] No such file or directory: 'C:\\\\Users\\\\Nick\\\\AppData\\\\Local\\\\Temp\\\\tmpelzujctgwandb-media\\\\5jtl0wt6.table.json'\n"
     ]
    },
    {
     "name": "stderr",
     "output_type": "stream",
     "text": [
      " 18%|█▊        | 45/250 [17:21<1:12:26, 21.20s/it]"
     ]
    },
    {
     "name": "stdout",
     "output_type": "stream",
     "text": [
      "output.shape=torch.Size([2423, 8])\n",
      "[Errno 2] No such file or directory: 'C:\\\\Users\\\\Nick\\\\AppData\\\\Local\\\\Temp\\\\tmpelzujctgwandb-media\\\\6qa201iw.table.json'\n",
      "output.shape=torch.Size([2833, 8])\n",
      "[Errno 2] No such file or directory: 'C:\\\\Users\\\\Nick\\\\AppData\\\\Local\\\\Temp\\\\tmpelzujctgwandb-media\\\\czjta1b0.table.json'\n"
     ]
    },
    {
     "name": "stderr",
     "output_type": "stream",
     "text": [
      " 19%|█▉        | 48/250 [18:30<1:09:53, 20.76s/it]"
     ]
    },
    {
     "name": "stdout",
     "output_type": "stream",
     "text": [
      "output.shape=torch.Size([2423, 8])\n",
      "[Errno 2] No such file or directory: 'C:\\\\Users\\\\Nick\\\\AppData\\\\Local\\\\Temp\\\\tmpelzujctgwandb-media\\\\dhde1rew.table.json'\n",
      "output.shape=torch.Size([2833, 8])\n",
      "[Errno 2] No such file or directory: 'C:\\\\Users\\\\Nick\\\\AppData\\\\Local\\\\Temp\\\\tmpelzujctgwandb-media\\\\q7cxfu62.table.json'\n"
     ]
    },
    {
     "name": "stderr",
     "output_type": "stream",
     "text": [
      " 20%|██        | 51/250 [19:40<1:09:16, 20.89s/it]"
     ]
    },
    {
     "name": "stdout",
     "output_type": "stream",
     "text": [
      "output.shape=torch.Size([2423, 8])\n",
      "[Errno 2] No such file or directory: 'C:\\\\Users\\\\Nick\\\\AppData\\\\Local\\\\Temp\\\\tmpelzujctgwandb-media\\\\vqmte0cs.table.json'\n",
      "output.shape=torch.Size([2833, 8])\n",
      "[Errno 2] No such file or directory: 'C:\\\\Users\\\\Nick\\\\AppData\\\\Local\\\\Temp\\\\tmpelzujctgwandb-media\\\\19as4j4w.table.json'\n"
     ]
    },
    {
     "name": "stderr",
     "output_type": "stream",
     "text": [
      " 22%|██▏       | 54/250 [20:48<1:06:37, 20.40s/it]"
     ]
    },
    {
     "name": "stdout",
     "output_type": "stream",
     "text": [
      "output.shape=torch.Size([2423, 8])\n",
      "[Errno 2] No such file or directory: 'C:\\\\Users\\\\Nick\\\\AppData\\\\Local\\\\Temp\\\\tmpelzujctgwandb-media\\\\3v4lr9sn.table.json'\n",
      "output.shape=torch.Size([2833, 8])\n",
      "[Errno 2] No such file or directory: 'C:\\\\Users\\\\Nick\\\\AppData\\\\Local\\\\Temp\\\\tmpelzujctgwandb-media\\\\l6y60sqt.table.json'\n"
     ]
    },
    {
     "name": "stderr",
     "output_type": "stream",
     "text": [
      " 23%|██▎       | 57/250 [21:58<1:05:49, 20.46s/it]"
     ]
    },
    {
     "name": "stdout",
     "output_type": "stream",
     "text": [
      "output.shape=torch.Size([2423, 8])\n",
      "[Errno 2] No such file or directory: 'C:\\\\Users\\\\Nick\\\\AppData\\\\Local\\\\Temp\\\\tmpelzujctgwandb-media\\\\me1cob9k.table.json'\n",
      "output.shape=torch.Size([2833, 8])\n",
      "[Errno 2] No such file or directory: 'C:\\\\Users\\\\Nick\\\\AppData\\\\Local\\\\Temp\\\\tmpelzujctgwandb-media\\\\dg0tndj1.table.json'\n"
     ]
    },
    {
     "name": "stderr",
     "output_type": "stream",
     "text": [
      " 24%|██▍       | 60/250 [23:07<1:04:54, 20.50s/it]"
     ]
    },
    {
     "name": "stdout",
     "output_type": "stream",
     "text": [
      "output.shape=torch.Size([2423, 8])\n",
      "[Errno 2] No such file or directory: 'C:\\\\Users\\\\Nick\\\\AppData\\\\Local\\\\Temp\\\\tmpelzujctgwandb-media\\\\m5m61jj6.table.json'\n",
      "output.shape=torch.Size([2833, 8])\n",
      "[Errno 2] No such file or directory: 'C:\\\\Users\\\\Nick\\\\AppData\\\\Local\\\\Temp\\\\tmpelzujctgwandb-media\\\\8juaqyw0.table.json'\n"
     ]
    },
    {
     "name": "stderr",
     "output_type": "stream",
     "text": [
      " 25%|██▌       | 63/250 [24:17<1:03:51, 20.49s/it]"
     ]
    },
    {
     "name": "stdout",
     "output_type": "stream",
     "text": [
      "output.shape=torch.Size([2423, 8])\n",
      "[Errno 2] No such file or directory: 'C:\\\\Users\\\\Nick\\\\AppData\\\\Local\\\\Temp\\\\tmpelzujctgwandb-media\\\\r3hqo9ee.table.json'\n",
      "output.shape=torch.Size([2833, 8])\n",
      "[Errno 2] No such file or directory: 'C:\\\\Users\\\\Nick\\\\AppData\\\\Local\\\\Temp\\\\tmpelzujctgwandb-media\\\\tb7he77q.table.json'\n"
     ]
    },
    {
     "name": "stderr",
     "output_type": "stream",
     "text": [
      " 26%|██▋       | 66/250 [25:27<1:03:42, 20.77s/it]"
     ]
    },
    {
     "name": "stdout",
     "output_type": "stream",
     "text": [
      "output.shape=torch.Size([2423, 8])\n",
      "[Errno 2] No such file or directory: 'C:\\\\Users\\\\Nick\\\\AppData\\\\Local\\\\Temp\\\\tmpelzujctgwandb-media\\\\dugkpqu6.table.json'\n",
      "output.shape=torch.Size([2833, 8])\n",
      "[Errno 2] No such file or directory: 'C:\\\\Users\\\\Nick\\\\AppData\\\\Local\\\\Temp\\\\tmpelzujctgwandb-media\\\\6ixybwvl.table.json'\n"
     ]
    },
    {
     "name": "stderr",
     "output_type": "stream",
     "text": [
      " 28%|██▊       | 69/250 [26:35<1:01:40, 20.45s/it]"
     ]
    },
    {
     "name": "stdout",
     "output_type": "stream",
     "text": [
      "output.shape=torch.Size([2423, 8])\n",
      "[Errno 2] No such file or directory: 'C:\\\\Users\\\\Nick\\\\AppData\\\\Local\\\\Temp\\\\tmpelzujctgwandb-media\\\\pa4h5p96.table.json'\n",
      "output.shape=torch.Size([2833, 8])\n",
      "[Errno 2] No such file or directory: 'C:\\\\Users\\\\Nick\\\\AppData\\\\Local\\\\Temp\\\\tmpelzujctgwandb-media\\\\d3qa1px8.table.json'\n"
     ]
    },
    {
     "name": "stderr",
     "output_type": "stream",
     "text": [
      " 29%|██▉       | 72/250 [27:44<1:00:41, 20.46s/it]"
     ]
    },
    {
     "name": "stdout",
     "output_type": "stream",
     "text": [
      "output.shape=torch.Size([2423, 8])\n",
      "[Errno 2] No such file or directory: 'C:\\\\Users\\\\Nick\\\\AppData\\\\Local\\\\Temp\\\\tmpelzujctgwandb-media\\\\w64nvhns.table.json'\n",
      "output.shape=torch.Size([2833, 8])\n",
      "[Errno 2] No such file or directory: 'C:\\\\Users\\\\Nick\\\\AppData\\\\Local\\\\Temp\\\\tmpelzujctgwandb-media\\\\tj6ablhe.table.json'\n"
     ]
    },
    {
     "name": "stderr",
     "output_type": "stream",
     "text": [
      " 30%|███       | 75/250 [28:53<59:15, 20.32s/it]  "
     ]
    },
    {
     "name": "stdout",
     "output_type": "stream",
     "text": [
      "output.shape=torch.Size([2423, 8])\n",
      "[Errno 2] No such file or directory: 'C:\\\\Users\\\\Nick\\\\AppData\\\\Local\\\\Temp\\\\tmpelzujctgwandb-media\\\\09e069ao.table.json'\n",
      "output.shape=torch.Size([2833, 8])\n",
      "[Errno 2] No such file or directory: 'C:\\\\Users\\\\Nick\\\\AppData\\\\Local\\\\Temp\\\\tmpelzujctgwandb-media\\\\u3m9qgeb.table.json'\n"
     ]
    },
    {
     "name": "stderr",
     "output_type": "stream",
     "text": [
      " 31%|███       | 78/250 [30:02<58:25, 20.38s/it]  "
     ]
    },
    {
     "name": "stdout",
     "output_type": "stream",
     "text": [
      "output.shape=torch.Size([2423, 8])\n",
      "[Errno 2] No such file or directory: 'C:\\\\Users\\\\Nick\\\\AppData\\\\Local\\\\Temp\\\\tmpelzujctgwandb-media\\\\t76ftvrp.table.json'\n",
      "output.shape=torch.Size([2833, 8])\n",
      "[Errno 2] No such file or directory: 'C:\\\\Users\\\\Nick\\\\AppData\\\\Local\\\\Temp\\\\tmpelzujctgwandb-media\\\\yym0g6bu.table.json'\n"
     ]
    },
    {
     "name": "stderr",
     "output_type": "stream",
     "text": [
      " 32%|███▏      | 81/250 [31:12<57:54, 20.56s/it]  "
     ]
    },
    {
     "name": "stdout",
     "output_type": "stream",
     "text": [
      "output.shape=torch.Size([2423, 8])\n",
      "[Errno 2] No such file or directory: 'C:\\\\Users\\\\Nick\\\\AppData\\\\Local\\\\Temp\\\\tmpelzujctgwandb-media\\\\itw1z7t5.table.json'\n",
      "output.shape=torch.Size([2833, 8])\n",
      "[Errno 2] No such file or directory: 'C:\\\\Users\\\\Nick\\\\AppData\\\\Local\\\\Temp\\\\tmpelzujctgwandb-media\\\\yx8hiwue.table.json'\n"
     ]
    },
    {
     "name": "stderr",
     "output_type": "stream",
     "text": [
      " 34%|███▎      | 84/250 [32:21<56:53, 20.56s/it]  "
     ]
    },
    {
     "name": "stdout",
     "output_type": "stream",
     "text": [
      "output.shape=torch.Size([2423, 8])\n",
      "[Errno 2] No such file or directory: 'C:\\\\Users\\\\Nick\\\\AppData\\\\Local\\\\Temp\\\\tmpelzujctgwandb-media\\\\9267hddl.table.json'\n",
      "output.shape=torch.Size([2833, 8])\n",
      "[Errno 2] No such file or directory: 'C:\\\\Users\\\\Nick\\\\AppData\\\\Local\\\\Temp\\\\tmpelzujctgwandb-media\\\\0ucbx7pq.table.json'\n"
     ]
    },
    {
     "name": "stderr",
     "output_type": "stream",
     "text": [
      " 35%|███▍      | 87/250 [33:31<56:09, 20.67s/it]  "
     ]
    },
    {
     "name": "stdout",
     "output_type": "stream",
     "text": [
      "output.shape=torch.Size([2423, 8])\n",
      "[Errno 2] No such file or directory: 'C:\\\\Users\\\\Nick\\\\AppData\\\\Local\\\\Temp\\\\tmpelzujctgwandb-media\\\\7ka8i1y0.table.json'\n",
      "output.shape=torch.Size([2833, 8])\n",
      "[Errno 2] No such file or directory: 'C:\\\\Users\\\\Nick\\\\AppData\\\\Local\\\\Temp\\\\tmpelzujctgwandb-media\\\\b6in0qzg.table.json'\n"
     ]
    },
    {
     "name": "stderr",
     "output_type": "stream",
     "text": [
      " 36%|███▌      | 90/250 [34:39<54:18, 20.36s/it]  "
     ]
    },
    {
     "name": "stdout",
     "output_type": "stream",
     "text": [
      "output.shape=torch.Size([2423, 8])\n",
      "[Errno 2] No such file or directory: 'C:\\\\Users\\\\Nick\\\\AppData\\\\Local\\\\Temp\\\\tmpelzujctgwandb-media\\\\wt5bzsnt.table.json'\n",
      "output.shape=torch.Size([2833, 8])\n",
      "[Errno 2] No such file or directory: 'C:\\\\Users\\\\Nick\\\\AppData\\\\Local\\\\Temp\\\\tmpelzujctgwandb-media\\\\gonbv2a1.table.json'\n"
     ]
    },
    {
     "name": "stderr",
     "output_type": "stream",
     "text": [
      " 37%|███▋      | 93/250 [35:51<54:15, 20.74s/it]  "
     ]
    },
    {
     "name": "stdout",
     "output_type": "stream",
     "text": [
      "output.shape=torch.Size([2423, 8])\n",
      "[Errno 2] No such file or directory: 'C:\\\\Users\\\\Nick\\\\AppData\\\\Local\\\\Temp\\\\tmpelzujctgwandb-media\\\\yb4eajlf.table.json'\n",
      "output.shape=torch.Size([2833, 8])\n",
      "[Errno 2] No such file or directory: 'C:\\\\Users\\\\Nick\\\\AppData\\\\Local\\\\Temp\\\\tmpelzujctgwandb-media\\\\7e9cavom.table.json'\n"
     ]
    },
    {
     "name": "stderr",
     "output_type": "stream",
     "text": [
      " 38%|███▊      | 96/250 [37:01<53:36, 20.89s/it]  "
     ]
    },
    {
     "name": "stdout",
     "output_type": "stream",
     "text": [
      "output.shape=torch.Size([2423, 8])\n",
      "[Errno 2] No such file or directory: 'C:\\\\Users\\\\Nick\\\\AppData\\\\Local\\\\Temp\\\\tmpelzujctgwandb-media\\\\47wra7zx.table.json'\n",
      "output.shape=torch.Size([2833, 8])\n",
      "[Errno 2] No such file or directory: 'C:\\\\Users\\\\Nick\\\\AppData\\\\Local\\\\Temp\\\\tmpelzujctgwandb-media\\\\3yw6j11v.table.json'\n"
     ]
    },
    {
     "name": "stderr",
     "output_type": "stream",
     "text": [
      " 40%|███▉      | 99/250 [38:09<51:22, 20.41s/it]  "
     ]
    },
    {
     "name": "stdout",
     "output_type": "stream",
     "text": [
      "output.shape=torch.Size([2423, 8])\n",
      "[Errno 2] No such file or directory: 'C:\\\\Users\\\\Nick\\\\AppData\\\\Local\\\\Temp\\\\tmpelzujctgwandb-media\\\\1b351q4i.table.json'\n",
      "output.shape=torch.Size([2833, 8])\n",
      "[Errno 2] No such file or directory: 'C:\\\\Users\\\\Nick\\\\AppData\\\\Local\\\\Temp\\\\tmpelzujctgwandb-media\\\\eekkb19l.table.json'\n"
     ]
    },
    {
     "name": "stderr",
     "output_type": "stream",
     "text": [
      " 41%|████      | 102/250 [39:22<52:20, 21.22s/it]  "
     ]
    },
    {
     "name": "stdout",
     "output_type": "stream",
     "text": [
      "output.shape=torch.Size([2423, 8])\n",
      "[Errno 2] No such file or directory: 'C:\\\\Users\\\\Nick\\\\AppData\\\\Local\\\\Temp\\\\tmpelzujctgwandb-media\\\\rbl55smv.table.json'\n",
      "output.shape=torch.Size([2833, 8])\n",
      "[Errno 2] No such file or directory: 'C:\\\\Users\\\\Nick\\\\AppData\\\\Local\\\\Temp\\\\tmpelzujctgwandb-media\\\\vas2za5c.table.json'\n"
     ]
    },
    {
     "name": "stderr",
     "output_type": "stream",
     "text": [
      " 42%|████▏     | 105/250 [40:30<49:34, 20.51s/it]  "
     ]
    },
    {
     "name": "stdout",
     "output_type": "stream",
     "text": [
      "output.shape=torch.Size([2423, 8])\n",
      "[Errno 2] No such file or directory: 'C:\\\\Users\\\\Nick\\\\AppData\\\\Local\\\\Temp\\\\tmpelzujctgwandb-media\\\\6tirfpk8.table.json'\n",
      "output.shape=torch.Size([2833, 8])\n",
      "[Errno 2] No such file or directory: 'C:\\\\Users\\\\Nick\\\\AppData\\\\Local\\\\Temp\\\\tmpelzujctgwandb-media\\\\ogm8noc5.table.json'\n"
     ]
    },
    {
     "name": "stderr",
     "output_type": "stream",
     "text": [
      " 43%|████▎     | 108/250 [41:40<49:09, 20.77s/it]  "
     ]
    },
    {
     "name": "stdout",
     "output_type": "stream",
     "text": [
      "output.shape=torch.Size([2423, 8])\n",
      "[Errno 2] No such file or directory: 'C:\\\\Users\\\\Nick\\\\AppData\\\\Local\\\\Temp\\\\tmpelzujctgwandb-media\\\\soqgsmny.table.json'\n",
      "output.shape=torch.Size([2833, 8])\n",
      "[Errno 2] No such file or directory: 'C:\\\\Users\\\\Nick\\\\AppData\\\\Local\\\\Temp\\\\tmpelzujctgwandb-media\\\\6vojbwgv.table.json'\n"
     ]
    },
    {
     "name": "stderr",
     "output_type": "stream",
     "text": [
      " 44%|████▍     | 111/250 [42:50<47:51, 20.66s/it]  "
     ]
    },
    {
     "name": "stdout",
     "output_type": "stream",
     "text": [
      "output.shape=torch.Size([2423, 8])\n",
      "[Errno 2] No such file or directory: 'C:\\\\Users\\\\Nick\\\\AppData\\\\Local\\\\Temp\\\\tmpelzujctgwandb-media\\\\c74jvtuu.table.json'\n",
      "output.shape=torch.Size([2833, 8])\n",
      "[Errno 2] No such file or directory: 'C:\\\\Users\\\\Nick\\\\AppData\\\\Local\\\\Temp\\\\tmpelzujctgwandb-media\\\\zrnbbw0v.table.json'\n"
     ]
    },
    {
     "name": "stderr",
     "output_type": "stream",
     "text": [
      " 46%|████▌     | 114/250 [43:59<46:40, 20.59s/it]"
     ]
    },
    {
     "name": "stdout",
     "output_type": "stream",
     "text": [
      "output.shape=torch.Size([2423, 8])\n",
      "[Errno 2] No such file or directory: 'C:\\\\Users\\\\Nick\\\\AppData\\\\Local\\\\Temp\\\\tmpelzujctgwandb-media\\\\5lm9p25z.table.json'\n",
      "output.shape=torch.Size([2833, 8])\n",
      "[Errno 2] No such file or directory: 'C:\\\\Users\\\\Nick\\\\AppData\\\\Local\\\\Temp\\\\tmpelzujctgwandb-media\\\\crf2um3x.table.json'\n"
     ]
    },
    {
     "name": "stderr",
     "output_type": "stream",
     "text": [
      " 47%|████▋     | 117/250 [45:09<45:26, 20.50s/it]"
     ]
    },
    {
     "name": "stdout",
     "output_type": "stream",
     "text": [
      "output.shape=torch.Size([2423, 8])\n",
      "[Errno 2] No such file or directory: 'C:\\\\Users\\\\Nick\\\\AppData\\\\Local\\\\Temp\\\\tmpelzujctgwandb-media\\\\vp1581bt.table.json'\n",
      "output.shape=torch.Size([2833, 8])\n",
      "[Errno 2] No such file or directory: 'C:\\\\Users\\\\Nick\\\\AppData\\\\Local\\\\Temp\\\\tmpelzujctgwandb-media\\\\jm7bt03t.table.json'\n"
     ]
    },
    {
     "name": "stderr",
     "output_type": "stream",
     "text": [
      " 48%|████▊     | 120/250 [46:18<44:27, 20.52s/it]"
     ]
    },
    {
     "name": "stdout",
     "output_type": "stream",
     "text": [
      "output.shape=torch.Size([2423, 8])\n",
      "[Errno 2] No such file or directory: 'C:\\\\Users\\\\Nick\\\\AppData\\\\Local\\\\Temp\\\\tmpelzujctgwandb-media\\\\cw6jep7k.table.json'\n",
      "output.shape=torch.Size([2833, 8])\n",
      "[Errno 2] No such file or directory: 'C:\\\\Users\\\\Nick\\\\AppData\\\\Local\\\\Temp\\\\tmpelzujctgwandb-media\\\\4xcpvvrd.table.json'\n"
     ]
    },
    {
     "name": "stderr",
     "output_type": "stream",
     "text": [
      " 49%|████▉     | 123/250 [47:27<43:24, 20.51s/it]"
     ]
    },
    {
     "name": "stdout",
     "output_type": "stream",
     "text": [
      "output.shape=torch.Size([2423, 8])\n",
      "[Errno 2] No such file or directory: 'C:\\\\Users\\\\Nick\\\\AppData\\\\Local\\\\Temp\\\\tmpelzujctgwandb-media\\\\awjc7yag.table.json'\n",
      "output.shape=torch.Size([2833, 8])\n",
      "[Errno 2] No such file or directory: 'C:\\\\Users\\\\Nick\\\\AppData\\\\Local\\\\Temp\\\\tmpelzujctgwandb-media\\\\sqek8e7p.table.json'\n"
     ]
    },
    {
     "name": "stderr",
     "output_type": "stream",
     "text": [
      " 50%|█████     | 126/250 [48:37<42:39, 20.65s/it]"
     ]
    },
    {
     "name": "stdout",
     "output_type": "stream",
     "text": [
      "output.shape=torch.Size([2423, 8])\n",
      "[Errno 2] No such file or directory: 'C:\\\\Users\\\\Nick\\\\AppData\\\\Local\\\\Temp\\\\tmpelzujctgwandb-media\\\\5wx5rkgp.table.json'\n",
      "output.shape=torch.Size([2833, 8])\n",
      "[Errno 2] No such file or directory: 'C:\\\\Users\\\\Nick\\\\AppData\\\\Local\\\\Temp\\\\tmpelzujctgwandb-media\\\\23xdsgll.table.json'\n"
     ]
    },
    {
     "name": "stderr",
     "output_type": "stream",
     "text": [
      " 52%|█████▏    | 129/250 [49:46<41:40, 20.67s/it]"
     ]
    },
    {
     "name": "stdout",
     "output_type": "stream",
     "text": [
      "output.shape=torch.Size([2423, 8])\n",
      "[Errno 2] No such file or directory: 'C:\\\\Users\\\\Nick\\\\AppData\\\\Local\\\\Temp\\\\tmpelzujctgwandb-media\\\\y7xqin4e.table.json'\n",
      "output.shape=torch.Size([2833, 8])\n",
      "[Errno 2] No such file or directory: 'C:\\\\Users\\\\Nick\\\\AppData\\\\Local\\\\Temp\\\\tmpelzujctgwandb-media\\\\3kc2r4q3.table.json'\n"
     ]
    },
    {
     "name": "stderr",
     "output_type": "stream",
     "text": [
      " 53%|█████▎    | 132/250 [50:55<40:35, 20.64s/it]"
     ]
    },
    {
     "name": "stdout",
     "output_type": "stream",
     "text": [
      "output.shape=torch.Size([2423, 8])\n",
      "[Errno 2] No such file or directory: 'C:\\\\Users\\\\Nick\\\\AppData\\\\Local\\\\Temp\\\\tmpelzujctgwandb-media\\\\85m83lip.table.json'\n",
      "output.shape=torch.Size([2833, 8])\n",
      "[Errno 2] No such file or directory: 'C:\\\\Users\\\\Nick\\\\AppData\\\\Local\\\\Temp\\\\tmpelzujctgwandb-media\\\\rhozbmbo.table.json'\n"
     ]
    },
    {
     "name": "stderr",
     "output_type": "stream",
     "text": [
      " 54%|█████▍    | 135/250 [52:05<39:38, 20.69s/it]"
     ]
    },
    {
     "name": "stdout",
     "output_type": "stream",
     "text": [
      "output.shape=torch.Size([2423, 8])\n",
      "[Errno 2] No such file or directory: 'C:\\\\Users\\\\Nick\\\\AppData\\\\Local\\\\Temp\\\\tmpelzujctgwandb-media\\\\qtkvokdd.table.json'\n",
      "output.shape=torch.Size([2833, 8])\n",
      "[Errno 2] No such file or directory: 'C:\\\\Users\\\\Nick\\\\AppData\\\\Local\\\\Temp\\\\tmpelzujctgwandb-media\\\\i13ilw5p.table.json'\n"
     ]
    },
    {
     "name": "stderr",
     "output_type": "stream",
     "text": [
      " 55%|█████▌    | 138/250 [53:14<38:39, 20.71s/it]"
     ]
    },
    {
     "name": "stdout",
     "output_type": "stream",
     "text": [
      "output.shape=torch.Size([2423, 8])\n",
      "[Errno 2] No such file or directory: 'C:\\\\Users\\\\Nick\\\\AppData\\\\Local\\\\Temp\\\\tmpelzujctgwandb-media\\\\01lhuiwx.table.json'\n",
      "output.shape=torch.Size([2833, 8])\n",
      "[Errno 2] No such file or directory: 'C:\\\\Users\\\\Nick\\\\AppData\\\\Local\\\\Temp\\\\tmpelzujctgwandb-media\\\\8x9carci.table.json'\n"
     ]
    },
    {
     "name": "stderr",
     "output_type": "stream",
     "text": [
      " 56%|█████▋    | 141/250 [54:24<37:49, 20.82s/it]"
     ]
    },
    {
     "name": "stdout",
     "output_type": "stream",
     "text": [
      "output.shape=torch.Size([2423, 8])\n",
      "[Errno 2] No such file or directory: 'C:\\\\Users\\\\Nick\\\\AppData\\\\Local\\\\Temp\\\\tmpelzujctgwandb-media\\\\zp5a8uj1.table.json'\n",
      "output.shape=torch.Size([2833, 8])\n",
      "[Errno 2] No such file or directory: 'C:\\\\Users\\\\Nick\\\\AppData\\\\Local\\\\Temp\\\\tmpelzujctgwandb-media\\\\4ntbzgr5.table.json'\n"
     ]
    },
    {
     "name": "stderr",
     "output_type": "stream",
     "text": [
      " 58%|█████▊    | 144/250 [55:33<36:28, 20.65s/it]"
     ]
    },
    {
     "name": "stdout",
     "output_type": "stream",
     "text": [
      "output.shape=torch.Size([2423, 8])\n",
      "[Errno 2] No such file or directory: 'C:\\\\Users\\\\Nick\\\\AppData\\\\Local\\\\Temp\\\\tmpelzujctgwandb-media\\\\v5cpwr33.table.json'\n",
      "output.shape=torch.Size([2833, 8])\n",
      "[Errno 2] No such file or directory: 'C:\\\\Users\\\\Nick\\\\AppData\\\\Local\\\\Temp\\\\tmpelzujctgwandb-media\\\\non7pa0x.table.json'\n"
     ]
    },
    {
     "name": "stderr",
     "output_type": "stream",
     "text": [
      " 59%|█████▉    | 147/250 [56:42<35:25, 20.63s/it]"
     ]
    },
    {
     "name": "stdout",
     "output_type": "stream",
     "text": [
      "output.shape=torch.Size([2423, 8])\n",
      "[Errno 2] No such file or directory: 'C:\\\\Users\\\\Nick\\\\AppData\\\\Local\\\\Temp\\\\tmpelzujctgwandb-media\\\\h7kt76ya.table.json'\n",
      "output.shape=torch.Size([2833, 8])\n",
      "[Errno 2] No such file or directory: 'C:\\\\Users\\\\Nick\\\\AppData\\\\Local\\\\Temp\\\\tmpelzujctgwandb-media\\\\cft66y95.table.json'\n"
     ]
    },
    {
     "name": "stderr",
     "output_type": "stream",
     "text": [
      " 60%|██████    | 150/250 [57:51<34:14, 20.55s/it]"
     ]
    },
    {
     "name": "stdout",
     "output_type": "stream",
     "text": [
      "output.shape=torch.Size([2423, 8])\n",
      "[Errno 2] No such file or directory: 'C:\\\\Users\\\\Nick\\\\AppData\\\\Local\\\\Temp\\\\tmpelzujctgwandb-media\\\\7nnot4le.table.json'\n",
      "output.shape=torch.Size([2833, 8])\n",
      "[Errno 2] No such file or directory: 'C:\\\\Users\\\\Nick\\\\AppData\\\\Local\\\\Temp\\\\tmpelzujctgwandb-media\\\\e3q3rrsy.table.json'\n"
     ]
    },
    {
     "name": "stderr",
     "output_type": "stream",
     "text": [
      " 61%|██████    | 153/250 [59:00<33:00, 20.42s/it]"
     ]
    },
    {
     "name": "stdout",
     "output_type": "stream",
     "text": [
      "output.shape=torch.Size([2423, 8])\n",
      "[Errno 2] No such file or directory: 'C:\\\\Users\\\\Nick\\\\AppData\\\\Local\\\\Temp\\\\tmpelzujctgwandb-media\\\\4httjty5.table.json'\n",
      "output.shape=torch.Size([2833, 8])\n",
      "[Errno 2] No such file or directory: 'C:\\\\Users\\\\Nick\\\\AppData\\\\Local\\\\Temp\\\\tmpelzujctgwandb-media\\\\a86xfvrc.table.json'\n"
     ]
    },
    {
     "name": "stderr",
     "output_type": "stream",
     "text": [
      " 62%|██████▏   | 156/250 [1:00:09<32:11, 20.55s/it]"
     ]
    },
    {
     "name": "stdout",
     "output_type": "stream",
     "text": [
      "output.shape=torch.Size([2423, 8])\n",
      "[Errno 2] No such file or directory: 'C:\\\\Users\\\\Nick\\\\AppData\\\\Local\\\\Temp\\\\tmpelzujctgwandb-media\\\\9ycf0yva.table.json'\n",
      "output.shape=torch.Size([2833, 8])\n",
      "[Errno 2] No such file or directory: 'C:\\\\Users\\\\Nick\\\\AppData\\\\Local\\\\Temp\\\\tmpelzujctgwandb-media\\\\rvfsefyg.table.json'\n"
     ]
    },
    {
     "name": "stderr",
     "output_type": "stream",
     "text": [
      " 64%|██████▎   | 159/250 [1:01:18<31:17, 20.64s/it]"
     ]
    },
    {
     "name": "stdout",
     "output_type": "stream",
     "text": [
      "output.shape=torch.Size([2423, 8])\n",
      "[Errno 2] No such file or directory: 'C:\\\\Users\\\\Nick\\\\AppData\\\\Local\\\\Temp\\\\tmpelzujctgwandb-media\\\\lkjdkxsc.table.json'\n",
      "output.shape=torch.Size([2833, 8])\n",
      "[Errno 2] No such file or directory: 'C:\\\\Users\\\\Nick\\\\AppData\\\\Local\\\\Temp\\\\tmpelzujctgwandb-media\\\\snltdzhm.table.json'\n"
     ]
    },
    {
     "name": "stderr",
     "output_type": "stream",
     "text": [
      " 65%|██████▍   | 162/250 [1:02:28<30:21, 20.70s/it]"
     ]
    },
    {
     "name": "stdout",
     "output_type": "stream",
     "text": [
      "output.shape=torch.Size([2423, 8])\n",
      "[Errno 2] No such file or directory: 'C:\\\\Users\\\\Nick\\\\AppData\\\\Local\\\\Temp\\\\tmpelzujctgwandb-media\\\\81kp2yib.table.json'\n",
      "output.shape=torch.Size([2833, 8])\n",
      "[Errno 2] No such file or directory: 'C:\\\\Users\\\\Nick\\\\AppData\\\\Local\\\\Temp\\\\tmpelzujctgwandb-media\\\\kxw5qk2q.table.json'\n"
     ]
    },
    {
     "name": "stderr",
     "output_type": "stream",
     "text": [
      " 66%|██████▌   | 165/250 [1:03:36<28:48, 20.34s/it]"
     ]
    },
    {
     "name": "stdout",
     "output_type": "stream",
     "text": [
      "output.shape=torch.Size([2423, 8])\n",
      "[Errno 2] No such file or directory: 'C:\\\\Users\\\\Nick\\\\AppData\\\\Local\\\\Temp\\\\tmpelzujctgwandb-media\\\\0mgpm57x.table.json'\n",
      "output.shape=torch.Size([2833, 8])\n",
      "[Errno 2] No such file or directory: 'C:\\\\Users\\\\Nick\\\\AppData\\\\Local\\\\Temp\\\\tmpelzujctgwandb-media\\\\s4hgixof.table.json'\n"
     ]
    },
    {
     "name": "stderr",
     "output_type": "stream",
     "text": [
      " 67%|██████▋   | 168/250 [1:04:45<27:51, 20.39s/it]"
     ]
    },
    {
     "name": "stdout",
     "output_type": "stream",
     "text": [
      "output.shape=torch.Size([2423, 8])\n",
      "[Errno 2] No such file or directory: 'C:\\\\Users\\\\Nick\\\\AppData\\\\Local\\\\Temp\\\\tmpelzujctgwandb-media\\\\t1ukekaw.table.json'\n",
      "output.shape=torch.Size([2833, 8])\n",
      "[Errno 2] No such file or directory: 'C:\\\\Users\\\\Nick\\\\AppData\\\\Local\\\\Temp\\\\tmpelzujctgwandb-media\\\\nexnzoaf.table.json'\n"
     ]
    },
    {
     "name": "stderr",
     "output_type": "stream",
     "text": [
      " 68%|██████▊   | 171/250 [1:05:53<26:39, 20.25s/it]"
     ]
    },
    {
     "name": "stdout",
     "output_type": "stream",
     "text": [
      "output.shape=torch.Size([2423, 8])\n",
      "[Errno 2] No such file or directory: 'C:\\\\Users\\\\Nick\\\\AppData\\\\Local\\\\Temp\\\\tmpelzujctgwandb-media\\\\cyplw7p7.table.json'\n",
      "output.shape=torch.Size([2833, 8])\n",
      "[Errno 2] No such file or directory: 'C:\\\\Users\\\\Nick\\\\AppData\\\\Local\\\\Temp\\\\tmpelzujctgwandb-media\\\\p0ldm1l3.table.json'\n"
     ]
    },
    {
     "name": "stderr",
     "output_type": "stream",
     "text": [
      " 70%|██████▉   | 174/250 [1:07:02<25:45, 20.34s/it]"
     ]
    },
    {
     "name": "stdout",
     "output_type": "stream",
     "text": [
      "output.shape=torch.Size([2423, 8])\n",
      "[Errno 2] No such file or directory: 'C:\\\\Users\\\\Nick\\\\AppData\\\\Local\\\\Temp\\\\tmpelzujctgwandb-media\\\\os6eman8.table.json'\n",
      "output.shape=torch.Size([2833, 8])\n",
      "[Errno 2] No such file or directory: 'C:\\\\Users\\\\Nick\\\\AppData\\\\Local\\\\Temp\\\\tmpelzujctgwandb-media\\\\wezla2do.table.json'\n"
     ]
    },
    {
     "name": "stderr",
     "output_type": "stream",
     "text": [
      " 71%|███████   | 177/250 [1:08:12<25:16, 20.78s/it]"
     ]
    },
    {
     "name": "stdout",
     "output_type": "stream",
     "text": [
      "output.shape=torch.Size([2423, 8])\n",
      "[Errno 2] No such file or directory: 'C:\\\\Users\\\\Nick\\\\AppData\\\\Local\\\\Temp\\\\tmpelzujctgwandb-media\\\\ind49abe.table.json'\n",
      "output.shape=torch.Size([2833, 8])\n",
      "[Errno 2] No such file or directory: 'C:\\\\Users\\\\Nick\\\\AppData\\\\Local\\\\Temp\\\\tmpelzujctgwandb-media\\\\sq1e4e6p.table.json'\n"
     ]
    },
    {
     "name": "stderr",
     "output_type": "stream",
     "text": [
      " 72%|███████▏  | 180/250 [1:09:21<23:49, 20.42s/it]"
     ]
    },
    {
     "name": "stdout",
     "output_type": "stream",
     "text": [
      "output.shape=torch.Size([2423, 8])\n",
      "[Errno 2] No such file or directory: 'C:\\\\Users\\\\Nick\\\\AppData\\\\Local\\\\Temp\\\\tmpelzujctgwandb-media\\\\wx5v83xk.table.json'\n",
      "output.shape=torch.Size([2833, 8])\n",
      "[Errno 2] No such file or directory: 'C:\\\\Users\\\\Nick\\\\AppData\\\\Local\\\\Temp\\\\tmpelzujctgwandb-media\\\\sr7gfb0z.table.json'\n"
     ]
    },
    {
     "name": "stderr",
     "output_type": "stream",
     "text": [
      " 73%|███████▎  | 183/250 [1:10:31<23:12, 20.78s/it]"
     ]
    },
    {
     "name": "stdout",
     "output_type": "stream",
     "text": [
      "output.shape=torch.Size([2423, 8])\n",
      "[Errno 2] No such file or directory: 'C:\\\\Users\\\\Nick\\\\AppData\\\\Local\\\\Temp\\\\tmpelzujctgwandb-media\\\\fhpi15jj.table.json'\n",
      "output.shape=torch.Size([2833, 8])\n",
      "[Errno 2] No such file or directory: 'C:\\\\Users\\\\Nick\\\\AppData\\\\Local\\\\Temp\\\\tmpelzujctgwandb-media\\\\n0p5y8rr.table.json'\n"
     ]
    },
    {
     "name": "stderr",
     "output_type": "stream",
     "text": [
      " 74%|███████▍  | 186/250 [1:11:40<22:03, 20.67s/it]"
     ]
    },
    {
     "name": "stdout",
     "output_type": "stream",
     "text": [
      "output.shape=torch.Size([2423, 8])\n",
      "[Errno 2] No such file or directory: 'C:\\\\Users\\\\Nick\\\\AppData\\\\Local\\\\Temp\\\\tmpelzujctgwandb-media\\\\j37jk7ga.table.json'\n",
      "output.shape=torch.Size([2833, 8])\n",
      "[Errno 2] No such file or directory: 'C:\\\\Users\\\\Nick\\\\AppData\\\\Local\\\\Temp\\\\tmpelzujctgwandb-media\\\\k8bmr8zp.table.json'\n"
     ]
    },
    {
     "name": "stderr",
     "output_type": "stream",
     "text": [
      " 76%|███████▌  | 189/250 [1:12:51<21:14, 20.90s/it]"
     ]
    },
    {
     "name": "stdout",
     "output_type": "stream",
     "text": [
      "output.shape=torch.Size([2423, 8])\n",
      "[Errno 2] No such file or directory: 'C:\\\\Users\\\\Nick\\\\AppData\\\\Local\\\\Temp\\\\tmpelzujctgwandb-media\\\\wdeyrasm.table.json'\n",
      "output.shape=torch.Size([2833, 8])\n",
      "[Errno 2] No such file or directory: 'C:\\\\Users\\\\Nick\\\\AppData\\\\Local\\\\Temp\\\\tmpelzujctgwandb-media\\\\ec1wulrh.table.json'\n"
     ]
    },
    {
     "name": "stderr",
     "output_type": "stream",
     "text": [
      " 77%|███████▋  | 192/250 [1:14:00<20:03, 20.76s/it]"
     ]
    },
    {
     "name": "stdout",
     "output_type": "stream",
     "text": [
      "output.shape=torch.Size([2423, 8])\n",
      "[Errno 2] No such file or directory: 'C:\\\\Users\\\\Nick\\\\AppData\\\\Local\\\\Temp\\\\tmpelzujctgwandb-media\\\\4iatcm4d.table.json'\n",
      "output.shape=torch.Size([2833, 8])\n",
      "[Errno 2] No such file or directory: 'C:\\\\Users\\\\Nick\\\\AppData\\\\Local\\\\Temp\\\\tmpelzujctgwandb-media\\\\6v5l1f2q.table.json'\n"
     ]
    },
    {
     "name": "stderr",
     "output_type": "stream",
     "text": [
      " 78%|███████▊  | 195/250 [1:15:09<18:49, 20.54s/it]"
     ]
    },
    {
     "name": "stdout",
     "output_type": "stream",
     "text": [
      "output.shape=torch.Size([2423, 8])\n",
      "[Errno 2] No such file or directory: 'C:\\\\Users\\\\Nick\\\\AppData\\\\Local\\\\Temp\\\\tmpelzujctgwandb-media\\\\he1fk10n.table.json'\n",
      "output.shape=torch.Size([2833, 8])\n",
      "[Errno 2] No such file or directory: 'C:\\\\Users\\\\Nick\\\\AppData\\\\Local\\\\Temp\\\\tmpelzujctgwandb-media\\\\bxuc9vcc.table.json'\n"
     ]
    },
    {
     "name": "stderr",
     "output_type": "stream",
     "text": [
      " 79%|███████▉  | 198/250 [1:16:18<17:45, 20.49s/it]"
     ]
    },
    {
     "name": "stdout",
     "output_type": "stream",
     "text": [
      "output.shape=torch.Size([2423, 8])\n",
      "[Errno 2] No such file or directory: 'C:\\\\Users\\\\Nick\\\\AppData\\\\Local\\\\Temp\\\\tmpelzujctgwandb-media\\\\sl2dkug3.table.json'\n",
      "output.shape=torch.Size([2833, 8])\n",
      "[Errno 2] No such file or directory: 'C:\\\\Users\\\\Nick\\\\AppData\\\\Local\\\\Temp\\\\tmpelzujctgwandb-media\\\\pnzc8msp.table.json'\n"
     ]
    },
    {
     "name": "stderr",
     "output_type": "stream",
     "text": [
      " 80%|████████  | 201/250 [1:17:27<16:42, 20.45s/it]"
     ]
    },
    {
     "name": "stdout",
     "output_type": "stream",
     "text": [
      "output.shape=torch.Size([2423, 8])\n",
      "[Errno 2] No such file or directory: 'C:\\\\Users\\\\Nick\\\\AppData\\\\Local\\\\Temp\\\\tmpelzujctgwandb-media\\\\364g75p4.table.json'\n",
      "output.shape=torch.Size([2833, 8])\n",
      "[Errno 2] No such file or directory: 'C:\\\\Users\\\\Nick\\\\AppData\\\\Local\\\\Temp\\\\tmpelzujctgwandb-media\\\\5huhja76.table.json'\n"
     ]
    },
    {
     "name": "stderr",
     "output_type": "stream",
     "text": [
      " 82%|████████▏ | 204/250 [1:18:36<15:42, 20.49s/it]"
     ]
    },
    {
     "name": "stdout",
     "output_type": "stream",
     "text": [
      "output.shape=torch.Size([2423, 8])\n",
      "[Errno 2] No such file or directory: 'C:\\\\Users\\\\Nick\\\\AppData\\\\Local\\\\Temp\\\\tmpelzujctgwandb-media\\\\0pom5igv.table.json'\n",
      "output.shape=torch.Size([2833, 8])\n",
      "[Errno 2] No such file or directory: 'C:\\\\Users\\\\Nick\\\\AppData\\\\Local\\\\Temp\\\\tmpelzujctgwandb-media\\\\cgqqsomp.table.json'\n"
     ]
    },
    {
     "name": "stderr",
     "output_type": "stream",
     "text": [
      " 83%|████████▎ | 207/250 [1:19:45<14:36, 20.39s/it]"
     ]
    },
    {
     "name": "stdout",
     "output_type": "stream",
     "text": [
      "output.shape=torch.Size([2423, 8])\n",
      "[Errno 2] No such file or directory: 'C:\\\\Users\\\\Nick\\\\AppData\\\\Local\\\\Temp\\\\tmpelzujctgwandb-media\\\\ttikredk.table.json'\n",
      "output.shape=torch.Size([2833, 8])\n",
      "[Errno 2] No such file or directory: 'C:\\\\Users\\\\Nick\\\\AppData\\\\Local\\\\Temp\\\\tmpelzujctgwandb-media\\\\cgz8xvzu.table.json'\n"
     ]
    },
    {
     "name": "stderr",
     "output_type": "stream",
     "text": [
      " 84%|████████▍ | 210/250 [1:20:54<13:39, 20.49s/it]"
     ]
    },
    {
     "name": "stdout",
     "output_type": "stream",
     "text": [
      "output.shape=torch.Size([2423, 8])\n",
      "[Errno 2] No such file or directory: 'C:\\\\Users\\\\Nick\\\\AppData\\\\Local\\\\Temp\\\\tmpelzujctgwandb-media\\\\jqgl2k5y.table.json'\n",
      "output.shape=torch.Size([2833, 8])\n",
      "[Errno 2] No such file or directory: 'C:\\\\Users\\\\Nick\\\\AppData\\\\Local\\\\Temp\\\\tmpelzujctgwandb-media\\\\q69ujwtv.table.json'\n"
     ]
    },
    {
     "name": "stderr",
     "output_type": "stream",
     "text": [
      " 85%|████████▌ | 213/250 [1:22:03<12:38, 20.51s/it]"
     ]
    },
    {
     "name": "stdout",
     "output_type": "stream",
     "text": [
      "output.shape=torch.Size([2423, 8])\n",
      "[Errno 2] No such file or directory: 'C:\\\\Users\\\\Nick\\\\AppData\\\\Local\\\\Temp\\\\tmpelzujctgwandb-media\\\\baxvbner.table.json'\n",
      "output.shape=torch.Size([2833, 8])\n",
      "[Errno 2] No such file or directory: 'C:\\\\Users\\\\Nick\\\\AppData\\\\Local\\\\Temp\\\\tmpelzujctgwandb-media\\\\rr22w7qd.table.json'\n"
     ]
    },
    {
     "name": "stderr",
     "output_type": "stream",
     "text": [
      " 86%|████████▋ | 216/250 [1:23:13<11:34, 20.43s/it]"
     ]
    },
    {
     "name": "stdout",
     "output_type": "stream",
     "text": [
      "output.shape=torch.Size([2423, 8])\n",
      "[Errno 2] No such file or directory: 'C:\\\\Users\\\\Nick\\\\AppData\\\\Local\\\\Temp\\\\tmpelzujctgwandb-media\\\\2e8h78y7.table.json'\n",
      "output.shape=torch.Size([2833, 8])\n",
      "[Errno 2] No such file or directory: 'C:\\\\Users\\\\Nick\\\\AppData\\\\Local\\\\Temp\\\\tmpelzujctgwandb-media\\\\hnzwn1bc.table.json'\n"
     ]
    },
    {
     "name": "stderr",
     "output_type": "stream",
     "text": [
      " 88%|████████▊ | 219/250 [1:24:25<10:53, 21.09s/it]"
     ]
    },
    {
     "name": "stdout",
     "output_type": "stream",
     "text": [
      "output.shape=torch.Size([2423, 8])\n",
      "[Errno 2] No such file or directory: 'C:\\\\Users\\\\Nick\\\\AppData\\\\Local\\\\Temp\\\\tmpelzujctgwandb-media\\\\b149jiuu.table.json'\n",
      "output.shape=torch.Size([2833, 8])\n",
      "[Errno 2] No such file or directory: 'C:\\\\Users\\\\Nick\\\\AppData\\\\Local\\\\Temp\\\\tmpelzujctgwandb-media\\\\6zatswyk.table.json'\n"
     ]
    },
    {
     "name": "stderr",
     "output_type": "stream",
     "text": [
      " 89%|████████▉ | 222/250 [1:25:33<09:33, 20.48s/it]"
     ]
    },
    {
     "name": "stdout",
     "output_type": "stream",
     "text": [
      "output.shape=torch.Size([2423, 8])\n",
      "[Errno 2] No such file or directory: 'C:\\\\Users\\\\Nick\\\\AppData\\\\Local\\\\Temp\\\\tmpelzujctgwandb-media\\\\l0a1s2sq.table.json'\n",
      "output.shape=torch.Size([2833, 8])\n",
      "[Errno 2] No such file or directory: 'C:\\\\Users\\\\Nick\\\\AppData\\\\Local\\\\Temp\\\\tmpelzujctgwandb-media\\\\520hre2q.table.json'\n"
     ]
    },
    {
     "name": "stderr",
     "output_type": "stream",
     "text": [
      " 90%|█████████ | 225/250 [1:26:43<08:32, 20.50s/it]"
     ]
    },
    {
     "name": "stdout",
     "output_type": "stream",
     "text": [
      "output.shape=torch.Size([2423, 8])\n",
      "[Errno 2] No such file or directory: 'C:\\\\Users\\\\Nick\\\\AppData\\\\Local\\\\Temp\\\\tmpelzujctgwandb-media\\\\j41rhpxf.table.json'\n",
      "output.shape=torch.Size([2833, 8])\n",
      "[Errno 2] No such file or directory: 'C:\\\\Users\\\\Nick\\\\AppData\\\\Local\\\\Temp\\\\tmpelzujctgwandb-media\\\\qyj7olry.table.json'\n"
     ]
    },
    {
     "name": "stderr",
     "output_type": "stream",
     "text": [
      " 91%|█████████ | 228/250 [1:27:54<07:40, 20.92s/it]"
     ]
    },
    {
     "name": "stdout",
     "output_type": "stream",
     "text": [
      "output.shape=torch.Size([2423, 8])\n",
      "[Errno 2] No such file or directory: 'C:\\\\Users\\\\Nick\\\\AppData\\\\Local\\\\Temp\\\\tmpelzujctgwandb-media\\\\9wr2guwm.table.json'\n",
      "output.shape=torch.Size([2833, 8])\n",
      "[Errno 2] No such file or directory: 'C:\\\\Users\\\\Nick\\\\AppData\\\\Local\\\\Temp\\\\tmpelzujctgwandb-media\\\\r2n6w3lt.table.json'\n"
     ]
    },
    {
     "name": "stderr",
     "output_type": "stream",
     "text": [
      " 92%|█████████▏| 231/250 [1:29:04<06:37, 20.93s/it]"
     ]
    },
    {
     "name": "stdout",
     "output_type": "stream",
     "text": [
      "output.shape=torch.Size([2423, 8])\n",
      "[Errno 2] No such file or directory: 'C:\\\\Users\\\\Nick\\\\AppData\\\\Local\\\\Temp\\\\tmpelzujctgwandb-media\\\\eq7vdkfg.table.json'\n",
      "output.shape=torch.Size([2833, 8])\n",
      "[Errno 2] No such file or directory: 'C:\\\\Users\\\\Nick\\\\AppData\\\\Local\\\\Temp\\\\tmpelzujctgwandb-media\\\\03fgzv2r.table.json'\n"
     ]
    },
    {
     "name": "stderr",
     "output_type": "stream",
     "text": [
      " 94%|█████████▎| 234/250 [1:30:13<05:32, 20.77s/it]"
     ]
    },
    {
     "name": "stdout",
     "output_type": "stream",
     "text": [
      "output.shape=torch.Size([2423, 8])\n",
      "[Errno 2] No such file or directory: 'C:\\\\Users\\\\Nick\\\\AppData\\\\Local\\\\Temp\\\\tmpelzujctgwandb-media\\\\6kjvjl6g.table.json'\n",
      "output.shape=torch.Size([2833, 8])\n",
      "[Errno 2] No such file or directory: 'C:\\\\Users\\\\Nick\\\\AppData\\\\Local\\\\Temp\\\\tmpelzujctgwandb-media\\\\cqo4th47.table.json'\n"
     ]
    },
    {
     "name": "stderr",
     "output_type": "stream",
     "text": [
      " 95%|█████████▍| 237/250 [1:31:21<04:24, 20.38s/it]"
     ]
    },
    {
     "name": "stdout",
     "output_type": "stream",
     "text": [
      "output.shape=torch.Size([2423, 8])\n",
      "[Errno 2] No such file or directory: 'C:\\\\Users\\\\Nick\\\\AppData\\\\Local\\\\Temp\\\\tmpelzujctgwandb-media\\\\kdbu2z05.table.json'\n",
      "output.shape=torch.Size([2833, 8])\n",
      "[Errno 2] No such file or directory: 'C:\\\\Users\\\\Nick\\\\AppData\\\\Local\\\\Temp\\\\tmpelzujctgwandb-media\\\\zxec2iqp.table.json'\n"
     ]
    },
    {
     "name": "stderr",
     "output_type": "stream",
     "text": [
      " 96%|█████████▌| 240/250 [1:32:31<03:24, 20.45s/it]"
     ]
    },
    {
     "name": "stdout",
     "output_type": "stream",
     "text": [
      "output.shape=torch.Size([2423, 8])\n",
      "[Errno 2] No such file or directory: 'C:\\\\Users\\\\Nick\\\\AppData\\\\Local\\\\Temp\\\\tmpelzujctgwandb-media\\\\dh2bs4u7.table.json'\n",
      "output.shape=torch.Size([2833, 8])\n",
      "[Errno 2] No such file or directory: 'C:\\\\Users\\\\Nick\\\\AppData\\\\Local\\\\Temp\\\\tmpelzujctgwandb-media\\\\y3emhs5l.table.json'\n"
     ]
    },
    {
     "name": "stderr",
     "output_type": "stream",
     "text": [
      " 97%|█████████▋| 243/250 [1:33:40<02:24, 20.66s/it]"
     ]
    },
    {
     "name": "stdout",
     "output_type": "stream",
     "text": [
      "output.shape=torch.Size([2423, 8])\n",
      "[Errno 2] No such file or directory: 'C:\\\\Users\\\\Nick\\\\AppData\\\\Local\\\\Temp\\\\tmpelzujctgwandb-media\\\\m9lza79m.table.json'\n",
      "output.shape=torch.Size([2833, 8])\n",
      "[Errno 2] No such file or directory: 'C:\\\\Users\\\\Nick\\\\AppData\\\\Local\\\\Temp\\\\tmpelzujctgwandb-media\\\\jqtkyoay.table.json'\n"
     ]
    },
    {
     "name": "stderr",
     "output_type": "stream",
     "text": [
      " 98%|█████████▊| 246/250 [1:34:51<01:23, 20.82s/it]"
     ]
    },
    {
     "name": "stdout",
     "output_type": "stream",
     "text": [
      "output.shape=torch.Size([2423, 8])\n",
      "[Errno 2] No such file or directory: 'C:\\\\Users\\\\Nick\\\\AppData\\\\Local\\\\Temp\\\\tmpelzujctgwandb-media\\\\mvj3cg5s.table.json'\n",
      "output.shape=torch.Size([2833, 8])\n",
      "[Errno 2] No such file or directory: 'C:\\\\Users\\\\Nick\\\\AppData\\\\Local\\\\Temp\\\\tmpelzujctgwandb-media\\\\gb41sx3s.table.json'\n"
     ]
    },
    {
     "name": "stderr",
     "output_type": "stream",
     "text": [
      "100%|█████████▉| 249/250 [1:36:00<00:20, 20.63s/it]"
     ]
    },
    {
     "name": "stdout",
     "output_type": "stream",
     "text": [
      "output.shape=torch.Size([2423, 8])\n",
      "[Errno 2] No such file or directory: 'C:\\\\Users\\\\Nick\\\\AppData\\\\Local\\\\Temp\\\\tmpelzujctgwandb-media\\\\4ffknjio.table.json'\n",
      "output.shape=torch.Size([2833, 8])\n",
      "[Errno 2] No such file or directory: 'C:\\\\Users\\\\Nick\\\\AppData\\\\Local\\\\Temp\\\\tmpelzujctgwandb-media\\\\9qz3ub2k.table.json'\n"
     ]
    },
    {
     "name": "stderr",
     "output_type": "stream",
     "text": [
      "100%|██████████| 250/250 [1:36:39<00:00, 23.20s/it]\n"
     ]
    },
    {
     "data": {
      "application/vnd.jupyter.widget-view+json": {
       "model_id": "967628c2665849d5a728a269a0fb895b",
       "version_major": 2,
       "version_minor": 0
      },
      "text/plain": [
       "VBox(children=(Label(value='1.653 MB of 1.653 MB uploaded\\r'), FloatProgress(value=1.0, max=1.0)))"
      ]
     },
     "metadata": {},
     "output_type": "display_data"
    },
    {
     "data": {
      "text/html": [
       "<style>\n",
       "    table.wandb td:nth-child(1) { padding: 0 10px; text-align: left ; width: auto;} td:nth-child(2) {text-align: left ; width: 100%}\n",
       "    .wandb-row { display: flex; flex-direction: row; flex-wrap: wrap; justify-content: flex-start; width: 100% }\n",
       "    .wandb-col { display: flex; flex-direction: column; flex-basis: 100%; flex: 1; padding: 10px; }\n",
       "    </style>\n",
       "<div class=\"wandb-row\"><div class=\"wandb-col\"><h3>Run history:</h3><br/><table class=\"wandb\"><tr><td>ROI < 30</td><td>▅▅▄▆▅▃▄▅▄▅▅▅▅▅▅▁▃▆▅▄█▄█▃▃▃▅▆▅▂▄▂▄▆▅▄▄▄▆▃</td></tr><tr><td>ROI < 30 2</td><td>▄▅▂▅▃▁▂▄▃▃▅▄▅▄▄▁▃▄▅▅▇▃█▃▃▄▅▅▄▂▃▁▃▅▄▃▄▄▆▂</td></tr><tr><td>accuracy</td><td>▁▃▅▇██████████▇▇▇▇▇▇▇▇▇▇▇▇▇▇▇▇▇▇▇▇▇▇▇▇▇▇</td></tr><tr><td>accuracy2</td><td>▁▃▅████████▇▇▇▇▇▇▇▆▇▇▇▆▇▇▇▇▇▇▇▇▇▇▇█▇▇▇▇▇</td></tr><tr><td>epoch</td><td>▁▁▁▂▂▂▂▂▂▃▃▃▃▃▄▄▄▄▄▄▅▅▅▅▅▅▆▆▆▆▆▇▇▇▇▇▇███</td></tr><tr><td>favorite_accuracy</td><td>▁▁▁▁▁▁▁▁▁▁▁▁▁▁▁▁▁▁▁▁▁▁▁▁▁▁▁▁▁▁▁▁▁▁▁▁▁▁▁▁</td></tr><tr><td>flat_simple</td><td>▁▆▁▄▄▃▃▅▃▄▄▄▅▄▅▃▄▅▄▄█▄▅▅▃▄▄▅▄▇▇▃▅▄▅▄▄▄▆▃</td></tr><tr><td>kelly roi</td><td>▁▂▄▃▃▂▂▄▂▄▆▅▆▅▄▁▄▆▅▅█▅█▂▄▅▇▇▆▆▇▄▄▅▄▄▄▆▆▄</td></tr><tr><td>loss_1</td><td>██▇▇▇▅▆▆▆▆▄▅▅▄▄▂▃▃▃▂▁▂▃▃▂▁▂▂▂▂▁▁▂▂▁▁▁▁▁▁</td></tr><tr><td>loss_bfsp</td><td>▁▁▁▁▁▁▁▁▁▁▁▁▁▁▁▁▁▁▁▁▁▁▁▁▁▁▁▁▁▁▁▁▁▁▁▁▁▁▁▁</td></tr><tr><td>loss_p</td><td>██▆▃▂▂▂▁▁▁▁▂▂▂▂▂▃▂▃▂▂▂▃▃▃▃▃▂▂▂▂▂▂▂▂▂▂▂▂▂</td></tr><tr><td>loss_val</td><td>██▆▃▂▂▂▁▁▁▁▂▁▂▂▂▃▃▃▃▂▂▃▃▃▃▃▂▃▃▂▂▂▂▂▂▂▂▂▂</td></tr><tr><td>multibet outlay < 30</td><td>▃▃▂▁▁▁▁▂▂▃▃▃▄▄▅▆█▇█▇▆▆▆▇▇▇▇▆▇▇▆▇▇▇▆▆▆▆▆▆</td></tr><tr><td>multibet profit</td><td>▂▃▄▃▂▁▁▃▂▃▄▄▅▄▃▁▅▆▅▅█▅█▂▄▆▇▇▇▆▆▄▄▅▄▄▄▅▅▄</td></tr><tr><td>multibet profit < 30</td><td>▄▄▃▄▃▂▃▃▃▄▄▄▄▄▅▁▄▆▆▄█▄█▄▃▃▅▆▅▂▄▂▄▆▄▄▄▄▆▃</td></tr><tr><td>multibet profit < 30 sd</td><td>▄▄▃▂▁▁▁▂▂▂▃▄▄▄▅▅▇▆█▆▇▆█▇▆▇█▇▆▆▅▅▆▆▆▅▅▅▆▅</td></tr><tr><td>mutual_info</td><td>▁▁▂▃▃▃▃▃▄▄▄▄▄▅▆▇██▇▇▆▆▆▇▇▇▇▇▇▇▇▇▇▇▆▆▆▆▆▆</td></tr><tr><td>profit_relu</td><td>▃▇█▂▁▂▁▁▁▂▃▂▂▂▂▁▁▁▁▂▂▁▂▁▁▁▁▂▂▂▂▁▁▁▁▁▁▁▂▁</td></tr><tr><td>relu roi</td><td>▁▂▅▃▂▂▁▂▂▅▅▆▆▇▅▄▆▇▆▇█▄▇▄▅▅▆▇▆▆▇▄▅▅▄▄▅▆▆▄</td></tr><tr><td>val_ROI < 30</td><td>▆▅▄▅▄▅▅▅▅▅▅▅▄▆█▅▆▆▆▅▅▆▄▄▆▁▄▃▃▃▃▂▁▄▃▂▃▂▃▄</td></tr><tr><td>val_ROI < 30 2</td><td>▆▆▃▆▅▅▆▅▆▆▅▅▄▅█▄▅▇▆▅▆▇▅▅▆▁▄▄▄▃▃▁▁▄▄▂▂▂▃▄</td></tr><tr><td>val_accuracy</td><td>▁▃▅████████▇▇▇▇▇▇▇▆▇▇▇▆▇▇▇▇▇▇▇▇▇▇▇█▇▇▇▇▇</td></tr><tr><td>val_flat_simple</td><td>▅▁▂▅▅▅▇▄▇▆▄▄▅▄█▄▅█▅▆██▅▆▇▄▅▅▆▅▅▄▅▅▅▄▄▄▅▄</td></tr><tr><td>val_kelly roi</td><td>▂▂▁▂▃▄▄▄▄▅▅▄▅▆█▇█▇▇▇▇▇▆▆▆▃▆▆▆▅▆▄▄▇▅▅▅▄▆▆</td></tr><tr><td>val_loss_bfsp</td><td>▁▁▁▁▁▁▁▁▁▁▁▁▁▁▁▁▁▁▁▁▁▁▁▁▁▁▁▁▁▁▁▁▁▁▁▁▁▁▁▁</td></tr><tr><td>val_loss_p</td><td>██▆▃▂▂▂▁▁▁▁▂▂▂▂▂▃▃▃▃▃▃▃▃▃▃▃▂▃▂▂▂▂▂▂▂▂▂▂▂</td></tr><tr><td>val_loss_val</td><td>██▆▃▂▂▁▁▁▁▁▁▂▂▂▂▃▃▃▃▃▃▃▃▃▃▃▃▃▃▂▃▃▃▂▂▂▂▂▂</td></tr><tr><td>val_multibet outlay < 30</td><td>▂▂▂▁▁▁▁▂▂▂▃▃▄▄▅▆█▇█▇▆▆▆▇▇▇▇▆▇▇▆▇▇▇▆▆▆▆▆▇</td></tr><tr><td>val_multibet profit</td><td>▁▁▁▃▄▅▅▅▆▆▆▅▆▇█▇██▇▇▇▇▆▆▆▃▆▆▆▆▆▄▄▇▆▅▆▅▆▆</td></tr><tr><td>val_multibet profit < 30</td><td>▆▆▅▅▅▅▆▅▅▆▆▅▅▆█▅▆▆▆▅▅▆▅▄▆▁▄▄▃▃▄▂▁▄▃▃▃▂▄▄</td></tr><tr><td>val_multibet profit < 30 sd</td><td>▃▃▂▁▁▁▁▁▃▃▃▄▄▅▇▆███▇█▇▇██▅▆▅▆▇▆▅▅▇▆▅▆▅▆▆</td></tr><tr><td>val_mutual_info</td><td>▁▁▁▃▃▃▃▃▄▄▄▄▄▅▅▆█▇▇▇▆▆▆▇▇▇▇▇▇▇▇▇▇▇▇▆▆▆▆▆</td></tr><tr><td>val_profit_relu</td><td>▃▁▄▇▇▇▇▇▇▇▇▇████████████████████████████</td></tr><tr><td>val_relu roi</td><td>▁▁▁▁▁▂▁▁▂▃▃▃▄▆█▆█▇▆▇▇▇▆▆▆▂▅▅▅▅▆▃▄▆▅▄▅▄▅▆</td></tr><tr><td>valfavorite_accuracy</td><td>▁▁▁▁▁▁▁▁▁▁▁▁▁▁▁▁▁▁▁▁▁▁▁▁▁▁▁▁▁▁▁▁▁▁▁▁▁▁▁▁</td></tr></table><br/></div><div class=\"wandb-col\"><h3>Run summary:</h3><br/><table class=\"wandb\"><tr><td>ROI < 30 2</td><td>0.01994</td></tr><tr><td>accuracy2</td><td>0.31592</td></tr><tr><td>epoch</td><td>249</td></tr><tr><td>favorite_accuracy</td><td>0.38562</td></tr><tr><td>flat_simple</td><td>-43.49233</td></tr><tr><td>kelly roi</td><td>0.09854</td></tr><tr><td>loss_1</td><td>0.64295</td></tr><tr><td>loss_bfsp</td><td>1.945</td></tr><tr><td>loss_p</td><td>1.78297</td></tr><tr><td>multibet outlay < 30</td><td>45784.18166</td></tr><tr><td>multibet profit</td><td>5152.75567</td></tr><tr><td>multibet profit < 30</td><td>1865.51455</td></tr><tr><td>multibet profit < 30 sd</td><td>18.44431</td></tr><tr><td>mutual_info</td><td>0.06736</td></tr><tr><td>profit_relu</td><td>72920.75368</td></tr><tr><td>val_ROI < 30</td><td>-0.05896</td></tr><tr><td>val_ROI < 30 2</td><td>-0.07846</td></tr><tr><td>val_accuracy</td><td>0.31592</td></tr><tr><td>val_flat_simple</td><td>-207.70743</td></tr><tr><td>val_kelly roi</td><td>-0.08813</td></tr><tr><td>val_loss_bfsp</td><td>1.94131</td></tr><tr><td>val_loss_p</td><td>1.77331</td></tr><tr><td>val_loss_val</td><td>1.81803</td></tr><tr><td>val_multibet outlay < 30</td><td>43517.04036</td></tr><tr><td>val_multibet profit</td><td>-4603.40738</td></tr><tr><td>val_multibet profit < 30</td><td>-2565.62961</td></tr><tr><td>val_multibet profit < 30 sd</td><td>19.27714</td></tr><tr><td>val_mutual_info</td><td>0.06796</td></tr><tr><td>val_profit_relu</td><td>-76371.57586</td></tr><tr><td>val_relu roi</td><td>-0.09981</td></tr><tr><td>valfavorite_accuracy</td><td>0.39215</td></tr></table><br/></div></div>"
      ],
      "text/plain": [
       "<IPython.core.display.HTML object>"
      ]
     },
     "metadata": {},
     "output_type": "display_data"
    },
    {
     "data": {
      "text/html": [
       " View run <strong style=\"color:#cdcd00\">autumn-blaze-43</strong> at: <a href='https://wandb.ai/nickojelly/NEW%20GRU%20V7%20Reporting/runs/m6juem0y' target=\"_blank\">https://wandb.ai/nickojelly/NEW%20GRU%20V7%20Reporting/runs/m6juem0y</a><br/>Synced 5 W&B file(s), 0 media file(s), 168 artifact file(s) and 0 other file(s)"
      ],
      "text/plain": [
       "<IPython.core.display.HTML object>"
      ]
     },
     "metadata": {},
     "output_type": "display_data"
    },
    {
     "data": {
      "text/html": [
       "Find logs at: <code>.\\wandb\\run-20240208_235140-m6juem0y\\logs</code>"
      ],
      "text/plain": [
       "<IPython.core.display.HTML object>"
      ]
     },
     "metadata": {},
     "output_type": "display_data"
    },
    {
     "data": {
      "text/html": [
       "wandb version 0.16.3 is available!  To upgrade, please run:\n",
       " $ pip install wandb --upgrade"
      ],
      "text/plain": [
       "<IPython.core.display.HTML object>"
      ]
     },
     "metadata": {},
     "output_type": "display_data"
    },
    {
     "data": {
      "text/html": [
       "Tracking run with wandb version 0.16.2"
      ],
      "text/plain": [
       "<IPython.core.display.HTML object>"
      ]
     },
     "metadata": {},
     "output_type": "display_data"
    },
    {
     "data": {
      "text/html": [
       "Run data is saved locally in <code>c:\\Users\\Nick\\Documents\\GitHub\\grvmodel\\python\\wandb\\run-20240209_012915-n2zz26vl</code>"
      ],
      "text/plain": [
       "<IPython.core.display.HTML object>"
      ]
     },
     "metadata": {},
     "output_type": "display_data"
    },
    {
     "data": {
      "text/html": [
       "Syncing run <strong><a href='https://wandb.ai/nickojelly/NEW%20GRU%20V7%20Reporting/runs/n2zz26vl' target=\"_blank\">desert-gorge-44</a></strong> to <a href='https://wandb.ai/nickojelly/NEW%20GRU%20V7%20Reporting' target=\"_blank\">Weights & Biases</a> (<a href='https://wandb.me/run' target=\"_blank\">docs</a>)<br/>"
      ],
      "text/plain": [
       "<IPython.core.display.HTML object>"
      ]
     },
     "metadata": {},
     "output_type": "display_data"
    },
    {
     "data": {
      "text/html": [
       " View project at <a href='https://wandb.ai/nickojelly/NEW%20GRU%20V7%20Reporting' target=\"_blank\">https://wandb.ai/nickojelly/NEW%20GRU%20V7%20Reporting</a>"
      ],
      "text/plain": [
       "<IPython.core.display.HTML object>"
      ]
     },
     "metadata": {},
     "output_type": "display_data"
    },
    {
     "data": {
      "text/html": [
       " View run at <a href='https://wandb.ai/nickojelly/NEW%20GRU%20V7%20Reporting/runs/n2zz26vl' target=\"_blank\">https://wandb.ai/nickojelly/NEW%20GRU%20V7%20Reporting/runs/n2zz26vl</a>"
      ],
      "text/plain": [
       "<IPython.core.display.HTML object>"
      ]
     },
     "metadata": {},
     "output_type": "display_data"
    },
    {
     "name": "stdout",
     "output_type": "stream",
     "text": [
      "{'hidden_size': 256, 'stats': ['inside', 'midfield', 'wide', 'weight', 'DogGrade', '_dist_last__1', '_box_last__1', '_speed_avg_1', '_split_speed_avg_1', '_split_margin_avg_1', '_margin_avg_1', '_margin_time_avg_1', '_RunHomeTime_1', '_run_home_speed_1', '_first_out_avg_1', '_pos_out_avg_1', '_post_change_avg_1', '_races_1', '_wins_1', '_wins_last_1', '_weight_', '_min_time_', '_min_split_time_', '_last_start_price', '_last_start_prob', 'dist_dist_last__10', 'dist_box_last__10', 'dist_speed_avg_10', 'dist_split_speed_avg_10', 'dist_split_margin_avg_10', 'dist_margin_avg_10', 'dist_margin_time_avg_10', 'dist_RunHomeTime_10', 'dist_run_home_speed_10', 'dist_first_out_avg_10', 'dist_pos_out_avg_10', 'dist_post_change_avg_10', 'dist_races_10', 'dist_wins_10', 'dist_wins_last_10', 'dist_weight_', 'dist_min_time_', 'dist_min_split_time_', 'dist_last_start_price', 'dist_last_start_prob', 'box_dist_last__10', 'box_box_last__10', 'box_speed_avg_10', 'box_split_speed_avg_10', 'box_split_margin_avg_10', 'box_margin_avg_10', 'box_margin_time_avg_10', 'box_RunHomeTime_10', 'box_run_home_speed_10', 'box_first_out_avg_10', 'box_pos_out_avg_10', 'box_post_change_avg_10', 'box_races_10', 'box_wins_10', 'box_wins_last_10', 'box_weight_', 'box_min_time_', 'box_min_split_time_', 'box_last_start_price', 'box_last_start_prob', 'track_box_dist_last__10', 'track_box_box_last__10', 'track_box_speed_avg_10', 'track_box_split_speed_avg_10', 'track_box_split_margin_avg_10', 'track_box_margin_avg_10', 'track_box_margin_time_avg_10', 'track_box_RunHomeTime_10', 'track_box_run_home_speed_10', 'track_box_first_out_avg_10', 'track_box_pos_out_avg_10', 'track_box_post_change_avg_10', 'track_box_races_10', 'track_box_wins_10', 'track_box_wins_last_10', 'track_box_weight_', 'track_box_min_time_', 'track_box_min_split_time_', 'track_box_last_start_price', 'track_box_last_start_prob', 'track_dist_dist_last__10', 'track_dist_box_last__10', 'track_dist_speed_avg_10', 'track_dist_split_speed_avg_10', 'track_dist_split_margin_avg_10', 'track_dist_margin_avg_10', 'track_dist_margin_time_avg_10', 'track_dist_RunHomeTime_10', 'track_dist_run_home_speed_10', 'track_dist_first_out_avg_10', 'track_dist_pos_out_avg_10', 'track_dist_post_change_avg_10', 'track_dist_races_10', 'track_dist_wins_10', 'track_dist_wins_last_10', 'track_dist_weight_', 'track_dist_min_time_', 'track_dist_min_split_time_', 'track_dist_last_start_price', 'track_dist_last_start_prob'], 'races': ['NZ'], 'datafile': './data/gru_inputs_kitchen_sink_new_not_simple.fth', 'latest_date': '2024-01-31T00:00:00', 'input_type': 'basic', 'num_layers': 2, 'batch_size': 750, 'dropout': 0.3, 'epochs': 250, 'learning_rate': 0.001, 'optimizer': 'adamW', 'f0_layer_size': 128, 'f1_layer_size': 64, 'training_date_end': '2023-01-01', 'notes': 'GRU, with basic add on data looped in', 'batch_days': 90, 'stat_list_dict': {'_dist_last__1': 1, '_box_last__1': 1, '_speed_avg_1': 1, '_split_speed_avg_1': 1, '_split_margin_avg_1': 1, '_margin_avg_1': 1, '_margin_time_avg_1': 1, '_RunHomeTime_1': 1, '_run_home_speed_1': 1, '_first_out_avg_1': 1, '_pos_out_avg_1': 1, '_post_change_avg_1': 1, '_races_1': 1, '_wins_1': 1, '_wins_last_1': 1, '_weight_': 1, '_min_time_': 1, '_min_split_time_': 1, '_last_start_price': 1, '_last_start_prob': 1}}\n",
      "250\n",
      "{'hidden_size': 256, 'stats': ['inside', 'midfield', 'wide', 'weight', 'DogGrade', '_dist_last__1', '_box_last__1', '_speed_avg_1', '_split_speed_avg_1', '_split_margin_avg_1', '_margin_avg_1', '_margin_time_avg_1', '_RunHomeTime_1', '_run_home_speed_1', '_first_out_avg_1', '_pos_out_avg_1', '_post_change_avg_1', '_races_1', '_wins_1', '_wins_last_1', '_weight_', '_min_time_', '_min_split_time_', '_last_start_price', '_last_start_prob', 'dist_dist_last__10', 'dist_box_last__10', 'dist_speed_avg_10', 'dist_split_speed_avg_10', 'dist_split_margin_avg_10', 'dist_margin_avg_10', 'dist_margin_time_avg_10', 'dist_RunHomeTime_10', 'dist_run_home_speed_10', 'dist_first_out_avg_10', 'dist_pos_out_avg_10', 'dist_post_change_avg_10', 'dist_races_10', 'dist_wins_10', 'dist_wins_last_10', 'dist_weight_', 'dist_min_time_', 'dist_min_split_time_', 'dist_last_start_price', 'dist_last_start_prob', 'box_dist_last__10', 'box_box_last__10', 'box_speed_avg_10', 'box_split_speed_avg_10', 'box_split_margin_avg_10', 'box_margin_avg_10', 'box_margin_time_avg_10', 'box_RunHomeTime_10', 'box_run_home_speed_10', 'box_first_out_avg_10', 'box_pos_out_avg_10', 'box_post_change_avg_10', 'box_races_10', 'box_wins_10', 'box_wins_last_10', 'box_weight_', 'box_min_time_', 'box_min_split_time_', 'box_last_start_price', 'box_last_start_prob', 'track_box_dist_last__10', 'track_box_box_last__10', 'track_box_speed_avg_10', 'track_box_split_speed_avg_10', 'track_box_split_margin_avg_10', 'track_box_margin_avg_10', 'track_box_margin_time_avg_10', 'track_box_RunHomeTime_10', 'track_box_run_home_speed_10', 'track_box_first_out_avg_10', 'track_box_pos_out_avg_10', 'track_box_post_change_avg_10', 'track_box_races_10', 'track_box_wins_10', 'track_box_wins_last_10', 'track_box_weight_', 'track_box_min_time_', 'track_box_min_split_time_', 'track_box_last_start_price', 'track_box_last_start_prob', 'track_dist_dist_last__10', 'track_dist_box_last__10', 'track_dist_speed_avg_10', 'track_dist_split_speed_avg_10', 'track_dist_split_margin_avg_10', 'track_dist_margin_avg_10', 'track_dist_margin_time_avg_10', 'track_dist_RunHomeTime_10', 'track_dist_run_home_speed_10', 'track_dist_first_out_avg_10', 'track_dist_pos_out_avg_10', 'track_dist_post_change_avg_10', 'track_dist_races_10', 'track_dist_wins_10', 'track_dist_wins_last_10', 'track_dist_weight_', 'track_dist_min_time_', 'track_dist_min_split_time_', 'track_dist_last_start_price', 'track_dist_last_start_prob'], 'races': ['NZ'], 'datafile': './data/gru_inputs_kitchen_sink_new_not_simple.fth', 'latest_date': '2024-01-31T00:00:00', 'input_type': 'basic', 'num_layers': 2, 'batch_size': 750, 'dropout': 0.3, 'epochs': 250, 'learning_rate': 0.001, 'optimizer': 'adamW', 'f0_layer_size': 128, 'f1_layer_size': 64, 'training_date_end': '2023-01-01', 'notes': 'GRU, with basic add on data looped in', 'batch_days': 90, 'stat_list_dict': {'_dist_last__1': 1, '_box_last__1': 1, '_speed_avg_1': 1, '_split_speed_avg_1': 1, '_split_margin_avg_1': 1, '_margin_avg_1': 1, '_margin_time_avg_1': 1, '_RunHomeTime_1': 1, '_run_home_speed_1': 1, '_first_out_avg_1': 1, '_pos_out_avg_1': 1, '_post_change_avg_1': 1, '_races_1': 1, '_wins_1': 1, '_wins_last_1': 1, '_weight_': 1, '_min_time_': 1, '_min_split_time_': 1, '_last_start_price': 1, '_last_start_prob': 1}}\n",
      "basic\n",
      "1\n",
      "1\n",
      "1\n",
      "1\n",
      "1\n",
      "1\n",
      "1\n",
      "1\n",
      "1\n",
      "1\n",
      "1\n",
      "1\n",
      "1\n",
      "1\n",
      "1\n",
      "1\n",
      "1\n",
      "1\n",
      "1\n",
      "1\n",
      "[1, 1, 1, 1, 1, 1, 1, 1, 1, 1, 1, 1, 1, 1, 1, 1, 1, 1, 1, 1]\n",
      "data_mask_size=26\n",
      "tensor([ True,  True,  True,  True,  True,  True,  True,  True,  True,  True,\n",
      "         True,  True,  True,  True,  True,  True,  True,  True,  True,  True,\n",
      "         True,  True,  True,  True,  True,  True, False, False, False, False,\n",
      "        False, False, False, False, False, False, False, False, False, False,\n",
      "        False, False, False, False, False, False, False, False, False, False,\n",
      "        False, False, False, False, False, False, False, False, False, False,\n",
      "        False, False, False, False, False, False, False, False, False, False,\n",
      "        False, False, False, False, False, False, False, False, False, False,\n",
      "        False, False, False, False, False, False, False, False, False, False,\n",
      "        False, False, False, False, False, False, False, False, False, False,\n",
      "        False, False, False, False, False, False], device='cuda:0')\n",
      "torch.Size([106])\n",
      "Train examples 15104, Test examples 2423, Val examples 2833\n"
     ]
    },
    {
     "name": "stderr",
     "output_type": "stream",
     "text": [
      "100%|██████████| 3963/3963 [00:00<00:00, 84532.82it/s]\n",
      "100%|██████████| 3964/3964 [00:02<00:00, 1976.38it/s]\n"
     ]
    },
    {
     "name": "stdout",
     "output_type": "stream",
     "text": [
      "[(datetime.date(2019, 12, 1), datetime.date(2020, 2, 29)), (datetime.date(2020, 2, 29), datetime.date(2020, 5, 29)), (datetime.date(2020, 5, 29), datetime.date(2020, 8, 27)), (datetime.date(2020, 8, 27), datetime.date(2020, 11, 25)), (datetime.date(2020, 11, 25), datetime.date(2021, 2, 23)), (datetime.date(2021, 2, 23), datetime.date(2021, 5, 24)), (datetime.date(2021, 5, 24), datetime.date(2021, 8, 22)), (datetime.date(2021, 8, 22), datetime.date(2021, 11, 20)), (datetime.date(2021, 11, 20), datetime.date(2022, 2, 18)), (datetime.date(2022, 2, 18), datetime.date(2022, 5, 19)), (datetime.date(2022, 5, 19), datetime.date(2022, 8, 17)), (datetime.date(2022, 8, 17), datetime.date(2022, 11, 15)), (datetime.date(2022, 11, 15), datetime.date(2022, 12, 31))]\n",
      "2020-02-29\n",
      "2020-05-29\n",
      "2020-08-27\n",
      "2020-11-25\n",
      "2021-02-23\n",
      "2021-05-24\n",
      "2021-08-22\n",
      "2021-11-20\n",
      "2022-02-18\n",
      "2022-05-19\n",
      "2022-08-17\n",
      "2022-11-15\n",
      "2022-12-31\n",
      "Train examples [942, 769, 1453, 1372, 1331, 1348, 1242, 1153, 1230, 1213, 1238, 1152, 649]\n"
     ]
    },
    {
     "name": "stderr",
     "output_type": "stream",
     "text": [
      "100%|██████████| 3963/3963 [00:00<00:00, 11015.26it/s]\n",
      "100%|██████████| 3963/3963 [00:00<00:00, 13167.21it/s]\n",
      "100%|██████████| 3963/3963 [00:00<00:00, 7191.99it/s]\n",
      "100%|██████████| 3963/3963 [00:00<00:00, 7541.45it/s]\n",
      "100%|██████████| 3963/3963 [00:00<00:00, 8028.64it/s]\n",
      "100%|██████████| 3963/3963 [00:00<00:00, 7779.13it/s]\n",
      "100%|██████████| 3963/3963 [00:00<00:00, 8294.59it/s]\n",
      "100%|██████████| 3963/3963 [00:00<00:00, 8975.76it/s]\n",
      "100%|██████████| 3963/3963 [00:00<00:00, 8615.36it/s]\n",
      "100%|██████████| 3963/3963 [00:00<00:00, 8621.18it/s]\n",
      "100%|██████████| 3963/3963 [00:00<00:00, 8602.68it/s]\n",
      "100%|██████████| 3963/3963 [00:00<00:00, 8934.91it/s]\n",
      "100%|██████████| 3963/3963 [00:00<00:00, 15974.93it/s]\n",
      "100%|██████████| 13/13 [00:05<00:00,  2.24it/s]\n"
     ]
    },
    {
     "name": "stdout",
     "output_type": "stream",
     "text": [
      "Train examples [1273, 1295, 1405, 1321, 1309, 1270, 1270, 1243, 1205, 1143, 1167, 1108, 1005]\n",
      "Train examples [1273, 1295, 1405, 1321, 1309, 1270, 1270, 1243, 1205, 1143, 1167, 1108, 1005]\n",
      "Train examples [942, 769, 1453, 1372, 1331, 1348, 1242, 1153, 1230, 1213, 1238, 1152, 649]\n",
      "Train examples [942, 769, 1453, 1372, 1331, 1348, 1242, 1153, 1230, 1213, 1238, 1152, 649]\n",
      "here\n",
      "input_size=26\n"
     ]
    },
    {
     "name": "stderr",
     "output_type": "stream",
     "text": [
      "C:\\Users\\Nick\\AppData\\Local\\Temp\\ipykernel_8176\\3542074422.py:70: UserWarning: To copy construct from a tensor, it is recommended to use sourceTensor.clone().detach() or sourceTensor.clone().detach().requires_grad_(True), rather than torch.tensor(sourceTensor).\n",
      "  config['stat_mask_tensor'] = torch.tensor(stat_mask, dtype=torch.uint8).to(device)\n",
      "c:\\Users\\Nick\\.conda\\envs\\python311\\Lib\\site-packages\\torch\\nn\\modules\\lazy.py:180: UserWarning: Lazy modules are a new feature under heavy development so changes to the API or functionality can happen at any moment.\n",
      "  warnings.warn('Lazy modules are a new feature under heavy development '\n"
     ]
    },
    {
     "name": "stdout",
     "output_type": "stream",
     "text": [
      "GRUNetv3_extra(\n",
      "  (gru): GRU(26, 256, num_layers=2, dropout=0.3)\n",
      "  (relu): ReLU()\n",
      "  (fc0): Linear(in_features=2630, out_features=2048, bias=True)\n",
      "  (batch_norm): BatchNorm1d(26, eps=1e-05, momentum=0.1, affine=True, track_running_stats=True)\n",
      "  (batch_norm_data): BatchNorm1d(26, eps=1e-05, momentum=0.1, affine=True, track_running_stats=True)\n",
      "  (extra_1): GRUNetv3_simple_extra_data(\n",
      "    (batch_norm): LazyBatchNorm1d(0, eps=1e-05, momentum=0.1, affine=True, track_running_stats=True)\n",
      "    (relu): ReLU()\n",
      "    (fc0_p1): LazyLinear(in_features=0, out_features=128, bias=True)\n",
      "    (fc0_p1_drop): Dropout(p=0.3, inplace=False)\n",
      "    (fc0_p2): Linear(in_features=128, out_features=64, bias=True)\n",
      "    (fc0_p2_drop): Dropout(p=0.3, inplace=False)\n",
      "    (fc0_p3): Linear(in_features=64, out_features=64, bias=True)\n",
      "    (fc0_p3_drop): Dropout(p=0.3, inplace=False)\n",
      "  )\n",
      "  (fc0_p1): Linear(in_features=512, out_features=256, bias=True)\n",
      "  (fc0_p1_drop): Dropout(p=0.3, inplace=False)\n",
      "  (fc0_p2): Linear(in_features=256, out_features=256, bias=True)\n",
      "  (fc0_p2_drop): Dropout(p=0.3, inplace=False)\n",
      "  (fc0_p3): Linear(in_features=256, out_features=256, bias=True)\n",
      "  (fc0_p3_drop): Dropout(p=0.3, inplace=False)\n",
      "  (relu0): ReLU()\n",
      "  (drop1): Dropout(p=0.3, inplace=False)\n",
      "  (fc1): Linear(in_features=2048, out_features=1024, bias=True)\n",
      "  (drop2): Dropout(p=0.3, inplace=False)\n",
      "  (fc2): Linear(in_features=1024, out_features=64, bias=True)\n",
      "  (drop3): Dropout(p=0.3, inplace=False)\n",
      "  (fc3): Linear(in_features=64, out_features=8, bias=True)\n",
      "  (output_fn): Identity()\n",
      ")\n"
     ]
    },
    {
     "name": "stderr",
     "output_type": "stream",
     "text": [
      "  0%|          | 0/250 [00:00<?, ?it/s]"
     ]
    },
    {
     "name": "stdout",
     "output_type": "stream",
     "text": [
      "output.shape=torch.Size([2423, 8])\n",
      "[Errno 2] No such file or directory: 'C:\\\\Users\\\\Nick\\\\AppData\\\\Local\\\\Temp\\\\tmpelzujctgwandb-media\\\\e44v59bm.table.json'\n",
      "output.shape=torch.Size([2833, 8])\n",
      "[Errno 2] No such file or directory: 'C:\\\\Users\\\\Nick\\\\AppData\\\\Local\\\\Temp\\\\tmpelzujctgwandb-media\\\\9onfk0nb.table.json'\n",
      "created path\n"
     ]
    },
    {
     "name": "stderr",
     "output_type": "stream",
     "text": [
      "  1%|          | 3/250 [01:33<1:57:29, 28.54s/it]"
     ]
    },
    {
     "name": "stdout",
     "output_type": "stream",
     "text": [
      "output.shape=torch.Size([2423, 8])\n",
      "[Errno 2] No such file or directory: 'C:\\\\Users\\\\Nick\\\\AppData\\\\Local\\\\Temp\\\\tmpelzujctgwandb-media\\\\mwqpcd71.table.json'\n",
      "output.shape=torch.Size([2833, 8])\n",
      "[Errno 2] No such file or directory: 'C:\\\\Users\\\\Nick\\\\AppData\\\\Local\\\\Temp\\\\tmpelzujctgwandb-media\\\\dxavt951.table.json'\n"
     ]
    },
    {
     "name": "stderr",
     "output_type": "stream",
     "text": [
      "  2%|▏         | 6/250 [03:06<1:56:29, 28.64s/it]"
     ]
    },
    {
     "name": "stdout",
     "output_type": "stream",
     "text": [
      "output.shape=torch.Size([2423, 8])\n",
      "[Errno 2] No such file or directory: 'C:\\\\Users\\\\Nick\\\\AppData\\\\Local\\\\Temp\\\\tmpelzujctgwandb-media\\\\990nga7t.table.json'\n",
      "output.shape=torch.Size([2833, 8])\n",
      "[Errno 2] No such file or directory: 'C:\\\\Users\\\\Nick\\\\AppData\\\\Local\\\\Temp\\\\tmpelzujctgwandb-media\\\\6zq3mghf.table.json'\n"
     ]
    },
    {
     "name": "stderr",
     "output_type": "stream",
     "text": [
      "  4%|▎         | 9/250 [04:39<1:54:23, 28.48s/it]"
     ]
    },
    {
     "name": "stdout",
     "output_type": "stream",
     "text": [
      "output.shape=torch.Size([2423, 8])\n",
      "[Errno 2] No such file or directory: 'C:\\\\Users\\\\Nick\\\\AppData\\\\Local\\\\Temp\\\\tmpelzujctgwandb-media\\\\bzls8auw.table.json'\n",
      "output.shape=torch.Size([2833, 8])\n",
      "[Errno 2] No such file or directory: 'C:\\\\Users\\\\Nick\\\\AppData\\\\Local\\\\Temp\\\\tmpelzujctgwandb-media\\\\d6vtvnc3.table.json'\n"
     ]
    },
    {
     "name": "stderr",
     "output_type": "stream",
     "text": [
      "  5%|▍         | 12/250 [06:11<1:52:41, 28.41s/it]"
     ]
    },
    {
     "name": "stdout",
     "output_type": "stream",
     "text": [
      "output.shape=torch.Size([2423, 8])\n",
      "[Errno 2] No such file or directory: 'C:\\\\Users\\\\Nick\\\\AppData\\\\Local\\\\Temp\\\\tmpelzujctgwandb-media\\\\1zihvnvn.table.json'\n",
      "output.shape=torch.Size([2833, 8])\n",
      "[Errno 2] No such file or directory: 'C:\\\\Users\\\\Nick\\\\AppData\\\\Local\\\\Temp\\\\tmpelzujctgwandb-media\\\\imgx7qh8.table.json'\n"
     ]
    },
    {
     "name": "stderr",
     "output_type": "stream",
     "text": [
      "  6%|▌         | 15/250 [07:44<1:51:15, 28.41s/it]"
     ]
    },
    {
     "name": "stdout",
     "output_type": "stream",
     "text": [
      "output.shape=torch.Size([2423, 8])\n",
      "[Errno 2] No such file or directory: 'C:\\\\Users\\\\Nick\\\\AppData\\\\Local\\\\Temp\\\\tmpelzujctgwandb-media\\\\ugk2ar22.table.json'\n",
      "output.shape=torch.Size([2833, 8])\n",
      "[Errno 2] No such file or directory: 'C:\\\\Users\\\\Nick\\\\AppData\\\\Local\\\\Temp\\\\tmpelzujctgwandb-media\\\\622oh28r.table.json'\n"
     ]
    },
    {
     "name": "stderr",
     "output_type": "stream",
     "text": [
      "  7%|▋         | 18/250 [09:16<1:49:32, 28.33s/it]"
     ]
    },
    {
     "name": "stdout",
     "output_type": "stream",
     "text": [
      "output.shape=torch.Size([2423, 8])\n",
      "[Errno 2] No such file or directory: 'C:\\\\Users\\\\Nick\\\\AppData\\\\Local\\\\Temp\\\\tmpelzujctgwandb-media\\\\7wlv0gq8.table.json'\n",
      "output.shape=torch.Size([2833, 8])\n",
      "[Errno 2] No such file or directory: 'C:\\\\Users\\\\Nick\\\\AppData\\\\Local\\\\Temp\\\\tmpelzujctgwandb-media\\\\9jelszn0.table.json'\n"
     ]
    },
    {
     "name": "stderr",
     "output_type": "stream",
     "text": [
      "  8%|▊         | 21/250 [10:48<1:47:16, 28.11s/it]"
     ]
    },
    {
     "name": "stdout",
     "output_type": "stream",
     "text": [
      "output.shape=torch.Size([2423, 8])\n",
      "[Errno 2] No such file or directory: 'C:\\\\Users\\\\Nick\\\\AppData\\\\Local\\\\Temp\\\\tmpelzujctgwandb-media\\\\okupnp05.table.json'\n",
      "output.shape=torch.Size([2833, 8])\n",
      "[Errno 2] No such file or directory: 'C:\\\\Users\\\\Nick\\\\AppData\\\\Local\\\\Temp\\\\tmpelzujctgwandb-media\\\\gpl90jm9.table.json'\n"
     ]
    },
    {
     "name": "stderr",
     "output_type": "stream",
     "text": [
      " 10%|▉         | 24/250 [12:20<1:46:24, 28.25s/it]"
     ]
    },
    {
     "name": "stdout",
     "output_type": "stream",
     "text": [
      "output.shape=torch.Size([2423, 8])\n",
      "[Errno 2] No such file or directory: 'C:\\\\Users\\\\Nick\\\\AppData\\\\Local\\\\Temp\\\\tmpelzujctgwandb-media\\\\5yvh9bel.table.json'\n",
      "output.shape=torch.Size([2833, 8])\n",
      "[Errno 2] No such file or directory: 'C:\\\\Users\\\\Nick\\\\AppData\\\\Local\\\\Temp\\\\tmpelzujctgwandb-media\\\\9bq27ibl.table.json'\n"
     ]
    },
    {
     "name": "stderr",
     "output_type": "stream",
     "text": [
      " 11%|█         | 27/250 [13:53<1:45:28, 28.38s/it]"
     ]
    },
    {
     "name": "stdout",
     "output_type": "stream",
     "text": [
      "output.shape=torch.Size([2423, 8])\n",
      "[Errno 2] No such file or directory: 'C:\\\\Users\\\\Nick\\\\AppData\\\\Local\\\\Temp\\\\tmpelzujctgwandb-media\\\\g49qq4te.table.json'\n",
      "output.shape=torch.Size([2833, 8])\n",
      "[Errno 2] No such file or directory: 'C:\\\\Users\\\\Nick\\\\AppData\\\\Local\\\\Temp\\\\tmpelzujctgwandb-media\\\\n6bwzved.table.json'\n"
     ]
    },
    {
     "name": "stderr",
     "output_type": "stream",
     "text": [
      " 12%|█▏        | 30/250 [15:26<1:44:30, 28.50s/it]"
     ]
    },
    {
     "name": "stdout",
     "output_type": "stream",
     "text": [
      "output.shape=torch.Size([2423, 8])\n",
      "[Errno 2] No such file or directory: 'C:\\\\Users\\\\Nick\\\\AppData\\\\Local\\\\Temp\\\\tmpelzujctgwandb-media\\\\n4vqex8f.table.json'\n",
      "output.shape=torch.Size([2833, 8])\n",
      "[Errno 2] No such file or directory: 'C:\\\\Users\\\\Nick\\\\AppData\\\\Local\\\\Temp\\\\tmpelzujctgwandb-media\\\\55jbkxgn.table.json'\n"
     ]
    },
    {
     "name": "stderr",
     "output_type": "stream",
     "text": [
      " 13%|█▎        | 33/250 [16:58<1:42:47, 28.42s/it]"
     ]
    },
    {
     "name": "stdout",
     "output_type": "stream",
     "text": [
      "output.shape=torch.Size([2423, 8])\n",
      "[Errno 2] No such file or directory: 'C:\\\\Users\\\\Nick\\\\AppData\\\\Local\\\\Temp\\\\tmpelzujctgwandb-media\\\\c9u639ek.table.json'\n",
      "output.shape=torch.Size([2833, 8])\n",
      "[Errno 2] No such file or directory: 'C:\\\\Users\\\\Nick\\\\AppData\\\\Local\\\\Temp\\\\tmpelzujctgwandb-media\\\\10ea74is.table.json'\n"
     ]
    },
    {
     "name": "stderr",
     "output_type": "stream",
     "text": [
      " 14%|█▍        | 36/250 [18:34<1:43:21, 28.98s/it]"
     ]
    },
    {
     "name": "stdout",
     "output_type": "stream",
     "text": [
      "output.shape=torch.Size([2423, 8])\n",
      "[Errno 2] No such file or directory: 'C:\\\\Users\\\\Nick\\\\AppData\\\\Local\\\\Temp\\\\tmpelzujctgwandb-media\\\\f0tbnkha.table.json'\n",
      "output.shape=torch.Size([2833, 8])\n",
      "[Errno 2] No such file or directory: 'C:\\\\Users\\\\Nick\\\\AppData\\\\Local\\\\Temp\\\\tmpelzujctgwandb-media\\\\zp80oy5d.table.json'\n"
     ]
    },
    {
     "name": "stderr",
     "output_type": "stream",
     "text": [
      " 16%|█▌        | 39/250 [20:09<1:42:00, 29.00s/it]"
     ]
    },
    {
     "name": "stdout",
     "output_type": "stream",
     "text": [
      "output.shape=torch.Size([2423, 8])\n",
      "[Errno 2] No such file or directory: 'C:\\\\Users\\\\Nick\\\\AppData\\\\Local\\\\Temp\\\\tmpelzujctgwandb-media\\\\08hphzpv.table.json'\n",
      "output.shape=torch.Size([2833, 8])\n",
      "[Errno 2] No such file or directory: 'C:\\\\Users\\\\Nick\\\\AppData\\\\Local\\\\Temp\\\\tmpelzujctgwandb-media\\\\atmslylz.table.json'\n"
     ]
    },
    {
     "name": "stderr",
     "output_type": "stream",
     "text": [
      " 17%|█▋        | 42/250 [21:41<1:38:33, 28.43s/it]"
     ]
    },
    {
     "name": "stdout",
     "output_type": "stream",
     "text": [
      "output.shape=torch.Size([2423, 8])\n",
      "[Errno 2] No such file or directory: 'C:\\\\Users\\\\Nick\\\\AppData\\\\Local\\\\Temp\\\\tmpelzujctgwandb-media\\\\x18bjbgp.table.json'\n",
      "output.shape=torch.Size([2833, 8])\n",
      "[Errno 2] No such file or directory: 'C:\\\\Users\\\\Nick\\\\AppData\\\\Local\\\\Temp\\\\tmpelzujctgwandb-media\\\\30bfm6cq.table.json'\n"
     ]
    },
    {
     "name": "stderr",
     "output_type": "stream",
     "text": [
      " 18%|█▊        | 45/250 [23:14<1:37:11, 28.45s/it]"
     ]
    },
    {
     "name": "stdout",
     "output_type": "stream",
     "text": [
      "output.shape=torch.Size([2423, 8])\n",
      "[Errno 2] No such file or directory: 'C:\\\\Users\\\\Nick\\\\AppData\\\\Local\\\\Temp\\\\tmpelzujctgwandb-media\\\\mtb8um3z.table.json'\n",
      "output.shape=torch.Size([2833, 8])\n",
      "[Errno 2] No such file or directory: 'C:\\\\Users\\\\Nick\\\\AppData\\\\Local\\\\Temp\\\\tmpelzujctgwandb-media\\\\gjav337t.table.json'\n"
     ]
    },
    {
     "name": "stderr",
     "output_type": "stream",
     "text": [
      " 19%|█▉        | 48/250 [24:46<1:35:34, 28.39s/it]"
     ]
    },
    {
     "name": "stdout",
     "output_type": "stream",
     "text": [
      "output.shape=torch.Size([2423, 8])\n",
      "[Errno 2] No such file or directory: 'C:\\\\Users\\\\Nick\\\\AppData\\\\Local\\\\Temp\\\\tmpelzujctgwandb-media\\\\jwdd456a.table.json'\n",
      "output.shape=torch.Size([2833, 8])\n",
      "[Errno 2] No such file or directory: 'C:\\\\Users\\\\Nick\\\\AppData\\\\Local\\\\Temp\\\\tmpelzujctgwandb-media\\\\1ujw1jir.table.json'\n"
     ]
    },
    {
     "name": "stderr",
     "output_type": "stream",
     "text": [
      " 20%|██        | 51/250 [26:19<1:34:19, 28.44s/it]"
     ]
    },
    {
     "name": "stdout",
     "output_type": "stream",
     "text": [
      "output.shape=torch.Size([2423, 8])\n",
      "[Errno 2] No such file or directory: 'C:\\\\Users\\\\Nick\\\\AppData\\\\Local\\\\Temp\\\\tmpelzujctgwandb-media\\\\egz8y4xm.table.json'\n",
      "output.shape=torch.Size([2833, 8])\n",
      "[Errno 2] No such file or directory: 'C:\\\\Users\\\\Nick\\\\AppData\\\\Local\\\\Temp\\\\tmpelzujctgwandb-media\\\\b6j36yrq.table.json'\n"
     ]
    },
    {
     "name": "stderr",
     "output_type": "stream",
     "text": [
      " 22%|██▏       | 54/250 [27:50<1:31:50, 28.11s/it]"
     ]
    },
    {
     "name": "stdout",
     "output_type": "stream",
     "text": [
      "output.shape=torch.Size([2423, 8])\n",
      "[Errno 2] No such file or directory: 'C:\\\\Users\\\\Nick\\\\AppData\\\\Local\\\\Temp\\\\tmpelzujctgwandb-media\\\\rswfkrbr.table.json'\n",
      "output.shape=torch.Size([2833, 8])\n",
      "[Errno 2] No such file or directory: 'C:\\\\Users\\\\Nick\\\\AppData\\\\Local\\\\Temp\\\\tmpelzujctgwandb-media\\\\f2zaajsb.table.json'\n"
     ]
    },
    {
     "name": "stderr",
     "output_type": "stream",
     "text": [
      " 23%|██▎       | 57/250 [29:23<1:30:53, 28.25s/it]"
     ]
    },
    {
     "name": "stdout",
     "output_type": "stream",
     "text": [
      "output.shape=torch.Size([2423, 8])\n",
      "[Errno 2] No such file or directory: 'C:\\\\Users\\\\Nick\\\\AppData\\\\Local\\\\Temp\\\\tmpelzujctgwandb-media\\\\iq06w1bo.table.json'\n",
      "output.shape=torch.Size([2833, 8])\n",
      "[Errno 2] No such file or directory: 'C:\\\\Users\\\\Nick\\\\AppData\\\\Local\\\\Temp\\\\tmpelzujctgwandb-media\\\\jlkv2zds.table.json'\n"
     ]
    },
    {
     "name": "stderr",
     "output_type": "stream",
     "text": [
      " 24%|██▍       | 60/250 [30:55<1:29:49, 28.37s/it]"
     ]
    },
    {
     "name": "stdout",
     "output_type": "stream",
     "text": [
      "output.shape=torch.Size([2423, 8])\n",
      "[Errno 2] No such file or directory: 'C:\\\\Users\\\\Nick\\\\AppData\\\\Local\\\\Temp\\\\tmpelzujctgwandb-media\\\\5g3l15c7.table.json'\n",
      "output.shape=torch.Size([2833, 8])\n",
      "[Errno 2] No such file or directory: 'C:\\\\Users\\\\Nick\\\\AppData\\\\Local\\\\Temp\\\\tmpelzujctgwandb-media\\\\217j3zyt.table.json'\n"
     ]
    },
    {
     "name": "stderr",
     "output_type": "stream",
     "text": [
      " 25%|██▌       | 63/250 [32:28<1:28:33, 28.41s/it]"
     ]
    },
    {
     "name": "stdout",
     "output_type": "stream",
     "text": [
      "output.shape=torch.Size([2423, 8])\n",
      "[Errno 2] No such file or directory: 'C:\\\\Users\\\\Nick\\\\AppData\\\\Local\\\\Temp\\\\tmpelzujctgwandb-media\\\\hoj38skx.table.json'\n",
      "output.shape=torch.Size([2833, 8])\n",
      "[Errno 2] No such file or directory: 'C:\\\\Users\\\\Nick\\\\AppData\\\\Local\\\\Temp\\\\tmpelzujctgwandb-media\\\\o85rdosv.table.json'\n"
     ]
    },
    {
     "name": "stderr",
     "output_type": "stream",
     "text": [
      " 26%|██▋       | 66/250 [34:04<1:28:47, 28.95s/it]"
     ]
    },
    {
     "name": "stdout",
     "output_type": "stream",
     "text": [
      "output.shape=torch.Size([2423, 8])\n",
      "[Errno 2] No such file or directory: 'C:\\\\Users\\\\Nick\\\\AppData\\\\Local\\\\Temp\\\\tmpelzujctgwandb-media\\\\5m88z68u.table.json'\n",
      "output.shape=torch.Size([2833, 8])\n",
      "[Errno 2] No such file or directory: 'C:\\\\Users\\\\Nick\\\\AppData\\\\Local\\\\Temp\\\\tmpelzujctgwandb-media\\\\3ovl9d2v.table.json'\n"
     ]
    },
    {
     "name": "stderr",
     "output_type": "stream",
     "text": [
      " 28%|██▊       | 69/250 [35:38<1:26:46, 28.77s/it]"
     ]
    },
    {
     "name": "stdout",
     "output_type": "stream",
     "text": [
      "output.shape=torch.Size([2423, 8])\n",
      "[Errno 2] No such file or directory: 'C:\\\\Users\\\\Nick\\\\AppData\\\\Local\\\\Temp\\\\tmpelzujctgwandb-media\\\\1hsxkprt.table.json'\n",
      "output.shape=torch.Size([2833, 8])\n",
      "[Errno 2] No such file or directory: 'C:\\\\Users\\\\Nick\\\\AppData\\\\Local\\\\Temp\\\\tmpelzujctgwandb-media\\\\ws3cpp7h.table.json'\n"
     ]
    },
    {
     "name": "stderr",
     "output_type": "stream",
     "text": [
      " 29%|██▉       | 72/250 [37:10<1:24:30, 28.48s/it]"
     ]
    },
    {
     "name": "stdout",
     "output_type": "stream",
     "text": [
      "output.shape=torch.Size([2423, 8])\n",
      "[Errno 2] No such file or directory: 'C:\\\\Users\\\\Nick\\\\AppData\\\\Local\\\\Temp\\\\tmpelzujctgwandb-media\\\\8lmocr82.table.json'\n",
      "output.shape=torch.Size([2833, 8])\n",
      "[Errno 2] No such file or directory: 'C:\\\\Users\\\\Nick\\\\AppData\\\\Local\\\\Temp\\\\tmpelzujctgwandb-media\\\\gq7a41b3.table.json'\n"
     ]
    },
    {
     "name": "stderr",
     "output_type": "stream",
     "text": [
      " 30%|███       | 75/250 [38:42<1:22:58, 28.45s/it]"
     ]
    },
    {
     "name": "stdout",
     "output_type": "stream",
     "text": [
      "output.shape=torch.Size([2423, 8])\n",
      "[Errno 2] No such file or directory: 'C:\\\\Users\\\\Nick\\\\AppData\\\\Local\\\\Temp\\\\tmpelzujctgwandb-media\\\\sk2iykbf.table.json'\n",
      "output.shape=torch.Size([2833, 8])\n",
      "[Errno 2] No such file or directory: 'C:\\\\Users\\\\Nick\\\\AppData\\\\Local\\\\Temp\\\\tmpelzujctgwandb-media\\\\beh9ghe4.table.json'\n"
     ]
    },
    {
     "name": "stderr",
     "output_type": "stream",
     "text": [
      " 31%|███       | 78/250 [40:14<1:20:37, 28.12s/it]"
     ]
    },
    {
     "name": "stdout",
     "output_type": "stream",
     "text": [
      "output.shape=torch.Size([2423, 8])\n",
      "[Errno 2] No such file or directory: 'C:\\\\Users\\\\Nick\\\\AppData\\\\Local\\\\Temp\\\\tmpelzujctgwandb-media\\\\ltkrzl5i.table.json'\n",
      "output.shape=torch.Size([2833, 8])\n",
      "[Errno 2] No such file or directory: 'C:\\\\Users\\\\Nick\\\\AppData\\\\Local\\\\Temp\\\\tmpelzujctgwandb-media\\\\lpgzfc3p.table.json'\n"
     ]
    },
    {
     "name": "stderr",
     "output_type": "stream",
     "text": [
      " 32%|███▏      | 81/250 [41:47<1:19:52, 28.36s/it]"
     ]
    },
    {
     "name": "stdout",
     "output_type": "stream",
     "text": [
      "output.shape=torch.Size([2423, 8])\n",
      "[Errno 2] No such file or directory: 'C:\\\\Users\\\\Nick\\\\AppData\\\\Local\\\\Temp\\\\tmpelzujctgwandb-media\\\\hrt7kw7j.table.json'\n",
      "output.shape=torch.Size([2833, 8])\n",
      "[Errno 2] No such file or directory: 'C:\\\\Users\\\\Nick\\\\AppData\\\\Local\\\\Temp\\\\tmpelzujctgwandb-media\\\\g8bhbdza.table.json'\n"
     ]
    },
    {
     "name": "stderr",
     "output_type": "stream",
     "text": [
      " 34%|███▎      | 84/250 [43:19<1:17:50, 28.14s/it]"
     ]
    },
    {
     "name": "stdout",
     "output_type": "stream",
     "text": [
      "output.shape=torch.Size([2423, 8])\n",
      "[Errno 2] No such file or directory: 'C:\\\\Users\\\\Nick\\\\AppData\\\\Local\\\\Temp\\\\tmpelzujctgwandb-media\\\\i4lx667e.table.json'\n",
      "output.shape=torch.Size([2833, 8])\n",
      "[Errno 2] No such file or directory: 'C:\\\\Users\\\\Nick\\\\AppData\\\\Local\\\\Temp\\\\tmpelzujctgwandb-media\\\\r4eh4wtw.table.json'\n"
     ]
    },
    {
     "name": "stderr",
     "output_type": "stream",
     "text": [
      " 35%|███▍      | 87/250 [44:51<1:16:35, 28.20s/it]"
     ]
    },
    {
     "name": "stdout",
     "output_type": "stream",
     "text": [
      "output.shape=torch.Size([2423, 8])\n",
      "[Errno 2] No such file or directory: 'C:\\\\Users\\\\Nick\\\\AppData\\\\Local\\\\Temp\\\\tmpelzujctgwandb-media\\\\1jq7p7qv.table.json'\n",
      "output.shape=torch.Size([2833, 8])\n",
      "[Errno 2] No such file or directory: 'C:\\\\Users\\\\Nick\\\\AppData\\\\Local\\\\Temp\\\\tmpelzujctgwandb-media\\\\y8z6rytm.table.json'\n"
     ]
    },
    {
     "name": "stderr",
     "output_type": "stream",
     "text": [
      " 36%|███▌      | 90/250 [46:23<1:15:29, 28.31s/it]"
     ]
    },
    {
     "name": "stdout",
     "output_type": "stream",
     "text": [
      "output.shape=torch.Size([2423, 8])\n",
      "[Errno 2] No such file or directory: 'C:\\\\Users\\\\Nick\\\\AppData\\\\Local\\\\Temp\\\\tmpelzujctgwandb-media\\\\48bly55x.table.json'\n",
      "output.shape=torch.Size([2833, 8])\n",
      "[Errno 2] No such file or directory: 'C:\\\\Users\\\\Nick\\\\AppData\\\\Local\\\\Temp\\\\tmpelzujctgwandb-media\\\\pjaa5ac7.table.json'\n"
     ]
    },
    {
     "name": "stderr",
     "output_type": "stream",
     "text": [
      " 37%|███▋      | 93/250 [47:56<1:14:15, 28.38s/it]"
     ]
    },
    {
     "name": "stdout",
     "output_type": "stream",
     "text": [
      "output.shape=torch.Size([2423, 8])\n",
      "[Errno 2] No such file or directory: 'C:\\\\Users\\\\Nick\\\\AppData\\\\Local\\\\Temp\\\\tmpelzujctgwandb-media\\\\5xuuqt62.table.json'\n",
      "output.shape=torch.Size([2833, 8])\n",
      "[Errno 2] No such file or directory: 'C:\\\\Users\\\\Nick\\\\AppData\\\\Local\\\\Temp\\\\tmpelzujctgwandb-media\\\\a7suv6kv.table.json'\n"
     ]
    },
    {
     "name": "stderr",
     "output_type": "stream",
     "text": [
      " 38%|███▊      | 96/250 [49:28<1:12:16, 28.16s/it]"
     ]
    },
    {
     "name": "stdout",
     "output_type": "stream",
     "text": [
      "output.shape=torch.Size([2423, 8])\n",
      "[Errno 2] No such file or directory: 'C:\\\\Users\\\\Nick\\\\AppData\\\\Local\\\\Temp\\\\tmpelzujctgwandb-media\\\\s0jd0gdh.table.json'\n",
      "output.shape=torch.Size([2833, 8])\n",
      "[Errno 2] No such file or directory: 'C:\\\\Users\\\\Nick\\\\AppData\\\\Local\\\\Temp\\\\tmpelzujctgwandb-media\\\\2ux54kib.table.json'\n"
     ]
    },
    {
     "name": "stderr",
     "output_type": "stream",
     "text": [
      " 40%|███▉      | 99/250 [51:00<1:11:14, 28.31s/it]"
     ]
    },
    {
     "name": "stdout",
     "output_type": "stream",
     "text": [
      "output.shape=torch.Size([2423, 8])\n",
      "[Errno 2] No such file or directory: 'C:\\\\Users\\\\Nick\\\\AppData\\\\Local\\\\Temp\\\\tmpelzujctgwandb-media\\\\ic7nyowf.table.json'\n",
      "output.shape=torch.Size([2833, 8])\n",
      "[Errno 2] No such file or directory: 'C:\\\\Users\\\\Nick\\\\AppData\\\\Local\\\\Temp\\\\tmpelzujctgwandb-media\\\\5xu0z4vf.table.json'\n"
     ]
    },
    {
     "name": "stderr",
     "output_type": "stream",
     "text": [
      " 41%|████      | 102/250 [52:32<1:09:31, 28.19s/it]"
     ]
    },
    {
     "name": "stdout",
     "output_type": "stream",
     "text": [
      "output.shape=torch.Size([2423, 8])\n",
      "[Errno 2] No such file or directory: 'C:\\\\Users\\\\Nick\\\\AppData\\\\Local\\\\Temp\\\\tmpelzujctgwandb-media\\\\34xkyffv.table.json'\n",
      "output.shape=torch.Size([2833, 8])\n",
      "[Errno 2] No such file or directory: 'C:\\\\Users\\\\Nick\\\\AppData\\\\Local\\\\Temp\\\\tmpelzujctgwandb-media\\\\634p9gkb.table.json'\n"
     ]
    },
    {
     "name": "stderr",
     "output_type": "stream",
     "text": [
      " 42%|████▏     | 105/250 [54:05<1:08:29, 28.34s/it]"
     ]
    },
    {
     "name": "stdout",
     "output_type": "stream",
     "text": [
      "output.shape=torch.Size([2423, 8])\n",
      "[Errno 2] No such file or directory: 'C:\\\\Users\\\\Nick\\\\AppData\\\\Local\\\\Temp\\\\tmpelzujctgwandb-media\\\\g7ajx7k3.table.json'\n",
      "output.shape=torch.Size([2833, 8])\n",
      "[Errno 2] No such file or directory: 'C:\\\\Users\\\\Nick\\\\AppData\\\\Local\\\\Temp\\\\tmpelzujctgwandb-media\\\\qy5spxf7.table.json'\n"
     ]
    },
    {
     "name": "stderr",
     "output_type": "stream",
     "text": [
      " 43%|████▎     | 108/250 [55:37<1:06:28, 28.09s/it]"
     ]
    },
    {
     "name": "stdout",
     "output_type": "stream",
     "text": [
      "output.shape=torch.Size([2423, 8])\n",
      "[Errno 2] No such file or directory: 'C:\\\\Users\\\\Nick\\\\AppData\\\\Local\\\\Temp\\\\tmpelzujctgwandb-media\\\\7hgv6i3n.table.json'\n",
      "output.shape=torch.Size([2833, 8])\n",
      "[Errno 2] No such file or directory: 'C:\\\\Users\\\\Nick\\\\AppData\\\\Local\\\\Temp\\\\tmpelzujctgwandb-media\\\\zw4haisv.table.json'\n"
     ]
    },
    {
     "name": "stderr",
     "output_type": "stream",
     "text": [
      " 44%|████▍     | 111/250 [57:10<1:05:22, 28.22s/it]"
     ]
    },
    {
     "name": "stdout",
     "output_type": "stream",
     "text": [
      "output.shape=torch.Size([2423, 8])\n",
      "[Errno 2] No such file or directory: 'C:\\\\Users\\\\Nick\\\\AppData\\\\Local\\\\Temp\\\\tmpelzujctgwandb-media\\\\zuqkrzew.table.json'\n",
      "output.shape=torch.Size([2833, 8])\n",
      "[Errno 2] No such file or directory: 'C:\\\\Users\\\\Nick\\\\AppData\\\\Local\\\\Temp\\\\tmpelzujctgwandb-media\\\\alb8if0x.table.json'\n"
     ]
    },
    {
     "name": "stderr",
     "output_type": "stream",
     "text": [
      " 46%|████▌     | 114/250 [58:42<1:04:17, 28.36s/it]"
     ]
    },
    {
     "name": "stdout",
     "output_type": "stream",
     "text": [
      "output.shape=torch.Size([2423, 8])\n",
      "[Errno 2] No such file or directory: 'C:\\\\Users\\\\Nick\\\\AppData\\\\Local\\\\Temp\\\\tmpelzujctgwandb-media\\\\3jdfhiad.table.json'\n",
      "output.shape=torch.Size([2833, 8])\n",
      "[Errno 2] No such file or directory: 'C:\\\\Users\\\\Nick\\\\AppData\\\\Local\\\\Temp\\\\tmpelzujctgwandb-media\\\\vzpfw90y.table.json'\n"
     ]
    },
    {
     "name": "stderr",
     "output_type": "stream",
     "text": [
      " 47%|████▋     | 117/250 [1:00:14<1:02:16, 28.09s/it]"
     ]
    },
    {
     "name": "stdout",
     "output_type": "stream",
     "text": [
      "output.shape=torch.Size([2423, 8])\n",
      "[Errno 2] No such file or directory: 'C:\\\\Users\\\\Nick\\\\AppData\\\\Local\\\\Temp\\\\tmpelzujctgwandb-media\\\\f622sb7p.table.json'\n",
      "output.shape=torch.Size([2833, 8])\n",
      "[Errno 2] No such file or directory: 'C:\\\\Users\\\\Nick\\\\AppData\\\\Local\\\\Temp\\\\tmpelzujctgwandb-media\\\\hellkyo5.table.json'\n"
     ]
    },
    {
     "name": "stderr",
     "output_type": "stream",
     "text": [
      " 48%|████▊     | 120/250 [1:01:47<1:01:18, 28.29s/it]"
     ]
    },
    {
     "name": "stdout",
     "output_type": "stream",
     "text": [
      "output.shape=torch.Size([2423, 8])\n",
      "[Errno 2] No such file or directory: 'C:\\\\Users\\\\Nick\\\\AppData\\\\Local\\\\Temp\\\\tmpelzujctgwandb-media\\\\ltinmgy5.table.json'\n",
      "output.shape=torch.Size([2833, 8])\n",
      "[Errno 2] No such file or directory: 'C:\\\\Users\\\\Nick\\\\AppData\\\\Local\\\\Temp\\\\tmpelzujctgwandb-media\\\\i6vpvtcc.table.json'\n"
     ]
    },
    {
     "name": "stderr",
     "output_type": "stream",
     "text": [
      " 49%|████▉     | 123/250 [1:03:19<59:34, 28.15s/it]  "
     ]
    },
    {
     "name": "stdout",
     "output_type": "stream",
     "text": [
      "output.shape=torch.Size([2423, 8])\n",
      "[Errno 2] No such file or directory: 'C:\\\\Users\\\\Nick\\\\AppData\\\\Local\\\\Temp\\\\tmpelzujctgwandb-media\\\\tpxe4gq5.table.json'\n",
      "output.shape=torch.Size([2833, 8])\n",
      "[Errno 2] No such file or directory: 'C:\\\\Users\\\\Nick\\\\AppData\\\\Local\\\\Temp\\\\tmpelzujctgwandb-media\\\\ez6mbbxv.table.json'\n"
     ]
    },
    {
     "name": "stderr",
     "output_type": "stream",
     "text": [
      " 50%|█████     | 126/250 [1:04:52<58:36, 28.36s/it]  "
     ]
    },
    {
     "name": "stdout",
     "output_type": "stream",
     "text": [
      "output.shape=torch.Size([2423, 8])\n",
      "[Errno 2] No such file or directory: 'C:\\\\Users\\\\Nick\\\\AppData\\\\Local\\\\Temp\\\\tmpelzujctgwandb-media\\\\5l3wcdq6.table.json'\n",
      "output.shape=torch.Size([2833, 8])\n",
      "[Errno 2] No such file or directory: 'C:\\\\Users\\\\Nick\\\\AppData\\\\Local\\\\Temp\\\\tmpelzujctgwandb-media\\\\lmgbcp8p.table.json'\n"
     ]
    },
    {
     "name": "stderr",
     "output_type": "stream",
     "text": [
      " 52%|█████▏    | 129/250 [1:06:23<56:58, 28.25s/it]  "
     ]
    },
    {
     "name": "stdout",
     "output_type": "stream",
     "text": [
      "output.shape=torch.Size([2423, 8])\n",
      "[Errno 2] No such file or directory: 'C:\\\\Users\\\\Nick\\\\AppData\\\\Local\\\\Temp\\\\tmpelzujctgwandb-media\\\\wur8y8z4.table.json'\n",
      "output.shape=torch.Size([2833, 8])\n",
      "[Errno 2] No such file or directory: 'C:\\\\Users\\\\Nick\\\\AppData\\\\Local\\\\Temp\\\\tmpelzujctgwandb-media\\\\qc4h52vf.table.json'\n"
     ]
    },
    {
     "name": "stderr",
     "output_type": "stream",
     "text": [
      " 53%|█████▎    | 132/250 [1:07:56<55:50, 28.39s/it]  "
     ]
    },
    {
     "name": "stdout",
     "output_type": "stream",
     "text": [
      "output.shape=torch.Size([2423, 8])\n",
      "[Errno 2] No such file or directory: 'C:\\\\Users\\\\Nick\\\\AppData\\\\Local\\\\Temp\\\\tmpelzujctgwandb-media\\\\jkq8fgcj.table.json'\n",
      "output.shape=torch.Size([2833, 8])\n",
      "[Errno 2] No such file or directory: 'C:\\\\Users\\\\Nick\\\\AppData\\\\Local\\\\Temp\\\\tmpelzujctgwandb-media\\\\fnn2k70z.table.json'\n"
     ]
    },
    {
     "name": "stderr",
     "output_type": "stream",
     "text": [
      " 54%|█████▍    | 135/250 [1:09:28<54:04, 28.21s/it]  "
     ]
    },
    {
     "name": "stdout",
     "output_type": "stream",
     "text": [
      "output.shape=torch.Size([2423, 8])\n",
      "[Errno 2] No such file or directory: 'C:\\\\Users\\\\Nick\\\\AppData\\\\Local\\\\Temp\\\\tmpelzujctgwandb-media\\\\tq2087tj.table.json'\n",
      "output.shape=torch.Size([2833, 8])\n",
      "[Errno 2] No such file or directory: 'C:\\\\Users\\\\Nick\\\\AppData\\\\Local\\\\Temp\\\\tmpelzujctgwandb-media\\\\lm2b3ec8.table.json'\n"
     ]
    },
    {
     "name": "stderr",
     "output_type": "stream",
     "text": [
      " 55%|█████▌    | 138/250 [1:11:09<55:02, 29.48s/it]  "
     ]
    },
    {
     "name": "stdout",
     "output_type": "stream",
     "text": [
      "output.shape=torch.Size([2423, 8])\n",
      "[Errno 2] No such file or directory: 'C:\\\\Users\\\\Nick\\\\AppData\\\\Local\\\\Temp\\\\tmpelzujctgwandb-media\\\\acy7dkz1.table.json'\n",
      "output.shape=torch.Size([2833, 8])\n",
      "[Errno 2] No such file or directory: 'C:\\\\Users\\\\Nick\\\\AppData\\\\Local\\\\Temp\\\\tmpelzujctgwandb-media\\\\19tmtim3.table.json'\n"
     ]
    },
    {
     "name": "stderr",
     "output_type": "stream",
     "text": [
      " 56%|█████▋    | 141/250 [1:12:40<52:00, 28.63s/it]  "
     ]
    },
    {
     "name": "stdout",
     "output_type": "stream",
     "text": [
      "output.shape=torch.Size([2423, 8])\n",
      "[Errno 2] No such file or directory: 'C:\\\\Users\\\\Nick\\\\AppData\\\\Local\\\\Temp\\\\tmpelzujctgwandb-media\\\\jtuvzyz2.table.json'\n",
      "output.shape=torch.Size([2833, 8])\n",
      "[Errno 2] No such file or directory: 'C:\\\\Users\\\\Nick\\\\AppData\\\\Local\\\\Temp\\\\tmpelzujctgwandb-media\\\\e1jgkj33.table.json'\n"
     ]
    },
    {
     "name": "stderr",
     "output_type": "stream",
     "text": [
      " 58%|█████▊    | 144/250 [1:14:13<50:15, 28.45s/it]  "
     ]
    },
    {
     "name": "stdout",
     "output_type": "stream",
     "text": [
      "output.shape=torch.Size([2423, 8])\n",
      "[Errno 2] No such file or directory: 'C:\\\\Users\\\\Nick\\\\AppData\\\\Local\\\\Temp\\\\tmpelzujctgwandb-media\\\\yhxztn5x.table.json'\n",
      "output.shape=torch.Size([2833, 8])\n",
      "[Errno 2] No such file or directory: 'C:\\\\Users\\\\Nick\\\\AppData\\\\Local\\\\Temp\\\\tmpelzujctgwandb-media\\\\u8x8s8te.table.json'\n"
     ]
    },
    {
     "name": "stderr",
     "output_type": "stream",
     "text": [
      " 59%|█████▉    | 147/250 [1:15:44<48:27, 28.23s/it]"
     ]
    },
    {
     "name": "stdout",
     "output_type": "stream",
     "text": [
      "output.shape=torch.Size([2423, 8])\n",
      "[Errno 2] No such file or directory: 'C:\\\\Users\\\\Nick\\\\AppData\\\\Local\\\\Temp\\\\tmpelzujctgwandb-media\\\\97h83nw0.table.json'\n",
      "output.shape=torch.Size([2833, 8])\n",
      "[Errno 2] No such file or directory: 'C:\\\\Users\\\\Nick\\\\AppData\\\\Local\\\\Temp\\\\tmpelzujctgwandb-media\\\\qca9vcpq.table.json'\n"
     ]
    },
    {
     "name": "stderr",
     "output_type": "stream",
     "text": [
      " 60%|██████    | 150/250 [1:17:16<46:38, 27.99s/it]"
     ]
    },
    {
     "name": "stdout",
     "output_type": "stream",
     "text": [
      "output.shape=torch.Size([2423, 8])\n",
      "[Errno 2] No such file or directory: 'C:\\\\Users\\\\Nick\\\\AppData\\\\Local\\\\Temp\\\\tmpelzujctgwandb-media\\\\3crbqczz.table.json'\n",
      "output.shape=torch.Size([2833, 8])\n",
      "[Errno 2] No such file or directory: 'C:\\\\Users\\\\Nick\\\\AppData\\\\Local\\\\Temp\\\\tmpelzujctgwandb-media\\\\tbf6zn5t.table.json'\n"
     ]
    },
    {
     "name": "stderr",
     "output_type": "stream",
     "text": [
      " 61%|██████    | 153/250 [1:18:49<45:48, 28.33s/it]"
     ]
    },
    {
     "name": "stdout",
     "output_type": "stream",
     "text": [
      "output.shape=torch.Size([2423, 8])\n",
      "[Errno 2] No such file or directory: 'C:\\\\Users\\\\Nick\\\\AppData\\\\Local\\\\Temp\\\\tmpelzujctgwandb-media\\\\n01dhamb.table.json'\n",
      "output.shape=torch.Size([2833, 8])\n",
      "[Errno 2] No such file or directory: 'C:\\\\Users\\\\Nick\\\\AppData\\\\Local\\\\Temp\\\\tmpelzujctgwandb-media\\\\y2a353nn.table.json'\n"
     ]
    },
    {
     "name": "stderr",
     "output_type": "stream",
     "text": [
      " 62%|██████▏   | 156/250 [1:20:20<43:58, 28.07s/it]"
     ]
    },
    {
     "name": "stdout",
     "output_type": "stream",
     "text": [
      "output.shape=torch.Size([2423, 8])\n",
      "[Errno 2] No such file or directory: 'C:\\\\Users\\\\Nick\\\\AppData\\\\Local\\\\Temp\\\\tmpelzujctgwandb-media\\\\rgml3tdx.table.json'\n",
      "output.shape=torch.Size([2833, 8])\n",
      "[Errno 2] No such file or directory: 'C:\\\\Users\\\\Nick\\\\AppData\\\\Local\\\\Temp\\\\tmpelzujctgwandb-media\\\\sktj1d1q.table.json'\n"
     ]
    },
    {
     "name": "stderr",
     "output_type": "stream",
     "text": [
      " 64%|██████▎   | 159/250 [1:21:53<42:54, 28.29s/it]"
     ]
    },
    {
     "name": "stdout",
     "output_type": "stream",
     "text": [
      "output.shape=torch.Size([2423, 8])\n",
      "[Errno 2] No such file or directory: 'C:\\\\Users\\\\Nick\\\\AppData\\\\Local\\\\Temp\\\\tmpelzujctgwandb-media\\\\emuwqhse.table.json'\n",
      "output.shape=torch.Size([2833, 8])\n",
      "[Errno 2] No such file or directory: 'C:\\\\Users\\\\Nick\\\\AppData\\\\Local\\\\Temp\\\\tmpelzujctgwandb-media\\\\8sgs3lgu.table.json'\n"
     ]
    },
    {
     "name": "stderr",
     "output_type": "stream",
     "text": [
      " 65%|██████▍   | 162/250 [1:23:26<41:58, 28.61s/it]"
     ]
    },
    {
     "name": "stdout",
     "output_type": "stream",
     "text": [
      "output.shape=torch.Size([2423, 8])\n",
      "[Errno 2] No such file or directory: 'C:\\\\Users\\\\Nick\\\\AppData\\\\Local\\\\Temp\\\\tmpelzujctgwandb-media\\\\d0705gce.table.json'\n",
      "output.shape=torch.Size([2833, 8])\n",
      "[Errno 2] No such file or directory: 'C:\\\\Users\\\\Nick\\\\AppData\\\\Local\\\\Temp\\\\tmpelzujctgwandb-media\\\\6aosiqjj.table.json'\n"
     ]
    },
    {
     "name": "stderr",
     "output_type": "stream",
     "text": [
      " 66%|██████▌   | 165/250 [1:25:00<40:40, 28.71s/it]"
     ]
    },
    {
     "name": "stdout",
     "output_type": "stream",
     "text": [
      "output.shape=torch.Size([2423, 8])\n",
      "[Errno 2] No such file or directory: 'C:\\\\Users\\\\Nick\\\\AppData\\\\Local\\\\Temp\\\\tmpelzujctgwandb-media\\\\v8uihqxv.table.json'\n",
      "output.shape=torch.Size([2833, 8])\n",
      "[Errno 2] No such file or directory: 'C:\\\\Users\\\\Nick\\\\AppData\\\\Local\\\\Temp\\\\tmpelzujctgwandb-media\\\\tqwsu74q.table.json'\n"
     ]
    },
    {
     "name": "stderr",
     "output_type": "stream",
     "text": [
      " 67%|██████▋   | 168/250 [1:26:36<39:44, 29.07s/it]"
     ]
    },
    {
     "name": "stdout",
     "output_type": "stream",
     "text": [
      "output.shape=torch.Size([2423, 8])\n",
      "[Errno 2] No such file or directory: 'C:\\\\Users\\\\Nick\\\\AppData\\\\Local\\\\Temp\\\\tmpelzujctgwandb-media\\\\1jo404bt.table.json'\n",
      "output.shape=torch.Size([2833, 8])\n",
      "[Errno 2] No such file or directory: 'C:\\\\Users\\\\Nick\\\\AppData\\\\Local\\\\Temp\\\\tmpelzujctgwandb-media\\\\1ko4efzl.table.json'\n"
     ]
    },
    {
     "name": "stderr",
     "output_type": "stream",
     "text": [
      " 68%|██████▊   | 171/250 [1:28:10<38:10, 28.99s/it]"
     ]
    },
    {
     "name": "stdout",
     "output_type": "stream",
     "text": [
      "output.shape=torch.Size([2423, 8])\n",
      "[Errno 2] No such file or directory: 'C:\\\\Users\\\\Nick\\\\AppData\\\\Local\\\\Temp\\\\tmpelzujctgwandb-media\\\\rvdk2p0q.table.json'\n",
      "output.shape=torch.Size([2833, 8])\n",
      "[Errno 2] No such file or directory: 'C:\\\\Users\\\\Nick\\\\AppData\\\\Local\\\\Temp\\\\tmpelzujctgwandb-media\\\\m8pl89yx.table.json'\n"
     ]
    },
    {
     "name": "stderr",
     "output_type": "stream",
     "text": [
      " 70%|██████▉   | 174/250 [1:29:43<36:18, 28.66s/it]"
     ]
    },
    {
     "name": "stdout",
     "output_type": "stream",
     "text": [
      "output.shape=torch.Size([2423, 8])\n",
      "[Errno 2] No such file or directory: 'C:\\\\Users\\\\Nick\\\\AppData\\\\Local\\\\Temp\\\\tmpelzujctgwandb-media\\\\f81a4768.table.json'\n",
      "output.shape=torch.Size([2833, 8])\n",
      "[Errno 2] No such file or directory: 'C:\\\\Users\\\\Nick\\\\AppData\\\\Local\\\\Temp\\\\tmpelzujctgwandb-media\\\\wz328lbb.table.json'\n"
     ]
    },
    {
     "name": "stderr",
     "output_type": "stream",
     "text": [
      " 71%|███████   | 177/250 [1:31:17<34:56, 28.72s/it]"
     ]
    },
    {
     "name": "stdout",
     "output_type": "stream",
     "text": [
      "output.shape=torch.Size([2423, 8])\n",
      "[Errno 2] No such file or directory: 'C:\\\\Users\\\\Nick\\\\AppData\\\\Local\\\\Temp\\\\tmpelzujctgwandb-media\\\\pj98qke0.table.json'\n",
      "output.shape=torch.Size([2833, 8])\n",
      "[Errno 2] No such file or directory: 'C:\\\\Users\\\\Nick\\\\AppData\\\\Local\\\\Temp\\\\tmpelzujctgwandb-media\\\\4n0b95dn.table.json'\n"
     ]
    },
    {
     "name": "stderr",
     "output_type": "stream",
     "text": [
      " 72%|███████▏  | 180/250 [1:32:50<33:15, 28.50s/it]"
     ]
    },
    {
     "name": "stdout",
     "output_type": "stream",
     "text": [
      "output.shape=torch.Size([2423, 8])\n",
      "[Errno 2] No such file or directory: 'C:\\\\Users\\\\Nick\\\\AppData\\\\Local\\\\Temp\\\\tmpelzujctgwandb-media\\\\owt6ps40.table.json'\n",
      "output.shape=torch.Size([2833, 8])\n",
      "[Errno 2] No such file or directory: 'C:\\\\Users\\\\Nick\\\\AppData\\\\Local\\\\Temp\\\\tmpelzujctgwandb-media\\\\g63gidyl.table.json'\n"
     ]
    },
    {
     "name": "stderr",
     "output_type": "stream",
     "text": [
      " 73%|███████▎  | 183/250 [1:34:24<31:54, 28.57s/it]"
     ]
    },
    {
     "name": "stdout",
     "output_type": "stream",
     "text": [
      "output.shape=torch.Size([2423, 8])\n",
      "[Errno 2] No such file or directory: 'C:\\\\Users\\\\Nick\\\\AppData\\\\Local\\\\Temp\\\\tmpelzujctgwandb-media\\\\vboomawa.table.json'\n",
      "output.shape=torch.Size([2833, 8])\n",
      "[Errno 2] No such file or directory: 'C:\\\\Users\\\\Nick\\\\AppData\\\\Local\\\\Temp\\\\tmpelzujctgwandb-media\\\\yyptf23r.table.json'\n"
     ]
    },
    {
     "name": "stderr",
     "output_type": "stream",
     "text": [
      " 74%|███████▍  | 186/250 [1:35:58<30:38, 28.72s/it]"
     ]
    },
    {
     "name": "stdout",
     "output_type": "stream",
     "text": [
      "output.shape=torch.Size([2423, 8])\n",
      "[Errno 2] No such file or directory: 'C:\\\\Users\\\\Nick\\\\AppData\\\\Local\\\\Temp\\\\tmpelzujctgwandb-media\\\\hgk7tksh.table.json'\n",
      "output.shape=torch.Size([2833, 8])\n",
      "[Errno 2] No such file or directory: 'C:\\\\Users\\\\Nick\\\\AppData\\\\Local\\\\Temp\\\\tmpelzujctgwandb-media\\\\hs2458xk.table.json'\n"
     ]
    },
    {
     "name": "stderr",
     "output_type": "stream",
     "text": [
      " 76%|███████▌  | 189/250 [1:37:31<29:17, 28.81s/it]"
     ]
    },
    {
     "name": "stdout",
     "output_type": "stream",
     "text": [
      "output.shape=torch.Size([2423, 8])\n",
      "[Errno 2] No such file or directory: 'C:\\\\Users\\\\Nick\\\\AppData\\\\Local\\\\Temp\\\\tmpelzujctgwandb-media\\\\uhtsdq1d.table.json'\n",
      "output.shape=torch.Size([2833, 8])\n",
      "[Errno 2] No such file or directory: 'C:\\\\Users\\\\Nick\\\\AppData\\\\Local\\\\Temp\\\\tmpelzujctgwandb-media\\\\ucvb8tk5.table.json'\n"
     ]
    },
    {
     "name": "stderr",
     "output_type": "stream",
     "text": [
      " 77%|███████▋  | 192/250 [1:39:06<27:58, 28.94s/it]"
     ]
    },
    {
     "name": "stdout",
     "output_type": "stream",
     "text": [
      "output.shape=torch.Size([2423, 8])\n",
      "[Errno 2] No such file or directory: 'C:\\\\Users\\\\Nick\\\\AppData\\\\Local\\\\Temp\\\\tmpelzujctgwandb-media\\\\ffa67h37.table.json'\n",
      "output.shape=torch.Size([2833, 8])\n",
      "[Errno 2] No such file or directory: 'C:\\\\Users\\\\Nick\\\\AppData\\\\Local\\\\Temp\\\\tmpelzujctgwandb-media\\\\ejquosko.table.json'\n"
     ]
    },
    {
     "name": "stderr",
     "output_type": "stream",
     "text": [
      " 78%|███████▊  | 195/250 [1:40:39<26:23, 28.79s/it]"
     ]
    },
    {
     "name": "stdout",
     "output_type": "stream",
     "text": [
      "output.shape=torch.Size([2423, 8])\n",
      "[Errno 2] No such file or directory: 'C:\\\\Users\\\\Nick\\\\AppData\\\\Local\\\\Temp\\\\tmpelzujctgwandb-media\\\\oe2mwmho.table.json'\n",
      "output.shape=torch.Size([2833, 8])\n",
      "[Errno 2] No such file or directory: 'C:\\\\Users\\\\Nick\\\\AppData\\\\Local\\\\Temp\\\\tmpelzujctgwandb-media\\\\4itvkynq.table.json'\n"
     ]
    },
    {
     "name": "stderr",
     "output_type": "stream",
     "text": [
      " 79%|███████▉  | 198/250 [1:42:13<25:00, 28.86s/it]"
     ]
    },
    {
     "name": "stdout",
     "output_type": "stream",
     "text": [
      "output.shape=torch.Size([2423, 8])\n",
      "[Errno 2] No such file or directory: 'C:\\\\Users\\\\Nick\\\\AppData\\\\Local\\\\Temp\\\\tmpelzujctgwandb-media\\\\ejl4f3bc.table.json'\n",
      "output.shape=torch.Size([2833, 8])\n",
      "[Errno 2] No such file or directory: 'C:\\\\Users\\\\Nick\\\\AppData\\\\Local\\\\Temp\\\\tmpelzujctgwandb-media\\\\9i6kjw7g.table.json'\n"
     ]
    },
    {
     "name": "stderr",
     "output_type": "stream",
     "text": [
      " 80%|████████  | 201/250 [1:43:46<23:22, 28.61s/it]"
     ]
    },
    {
     "name": "stdout",
     "output_type": "stream",
     "text": [
      "output.shape=torch.Size([2423, 8])\n",
      "[Errno 2] No such file or directory: 'C:\\\\Users\\\\Nick\\\\AppData\\\\Local\\\\Temp\\\\tmpelzujctgwandb-media\\\\ntlh5izm.table.json'\n",
      "output.shape=torch.Size([2833, 8])\n",
      "[Errno 2] No such file or directory: 'C:\\\\Users\\\\Nick\\\\AppData\\\\Local\\\\Temp\\\\tmpelzujctgwandb-media\\\\ugvl85ua.table.json'\n"
     ]
    },
    {
     "name": "stderr",
     "output_type": "stream",
     "text": [
      " 82%|████████▏ | 204/250 [1:45:20<21:59, 28.70s/it]"
     ]
    },
    {
     "name": "stdout",
     "output_type": "stream",
     "text": [
      "output.shape=torch.Size([2423, 8])\n",
      "[Errno 2] No such file or directory: 'C:\\\\Users\\\\Nick\\\\AppData\\\\Local\\\\Temp\\\\tmpelzujctgwandb-media\\\\g78fx4dc.table.json'\n",
      "output.shape=torch.Size([2833, 8])\n",
      "[Errno 2] No such file or directory: 'C:\\\\Users\\\\Nick\\\\AppData\\\\Local\\\\Temp\\\\tmpelzujctgwandb-media\\\\i90d9u14.table.json'\n"
     ]
    },
    {
     "name": "stderr",
     "output_type": "stream",
     "text": [
      " 83%|████████▎ | 207/250 [1:46:54<20:38, 28.80s/it]"
     ]
    },
    {
     "name": "stdout",
     "output_type": "stream",
     "text": [
      "output.shape=torch.Size([2423, 8])\n",
      "[Errno 2] No such file or directory: 'C:\\\\Users\\\\Nick\\\\AppData\\\\Local\\\\Temp\\\\tmpelzujctgwandb-media\\\\xdf1q65i.table.json'\n",
      "output.shape=torch.Size([2833, 8])\n",
      "[Errno 2] No such file or directory: 'C:\\\\Users\\\\Nick\\\\AppData\\\\Local\\\\Temp\\\\tmpelzujctgwandb-media\\\\xzbmsraw.table.json'\n"
     ]
    },
    {
     "name": "stderr",
     "output_type": "stream",
     "text": [
      " 84%|████████▍ | 210/250 [1:48:28<19:14, 28.86s/it]"
     ]
    },
    {
     "name": "stdout",
     "output_type": "stream",
     "text": [
      "output.shape=torch.Size([2423, 8])\n",
      "[Errno 2] No such file or directory: 'C:\\\\Users\\\\Nick\\\\AppData\\\\Local\\\\Temp\\\\tmpelzujctgwandb-media\\\\atft2v9j.table.json'\n",
      "output.shape=torch.Size([2833, 8])\n",
      "[Errno 2] No such file or directory: 'C:\\\\Users\\\\Nick\\\\AppData\\\\Local\\\\Temp\\\\tmpelzujctgwandb-media\\\\kcg5edpp.table.json'\n"
     ]
    },
    {
     "name": "stderr",
     "output_type": "stream",
     "text": [
      " 85%|████████▌ | 213/250 [1:50:01<17:38, 28.61s/it]"
     ]
    },
    {
     "name": "stdout",
     "output_type": "stream",
     "text": [
      "output.shape=torch.Size([2423, 8])\n",
      "[Errno 2] No such file or directory: 'C:\\\\Users\\\\Nick\\\\AppData\\\\Local\\\\Temp\\\\tmpelzujctgwandb-media\\\\e625g8wy.table.json'\n",
      "output.shape=torch.Size([2833, 8])\n",
      "[Errno 2] No such file or directory: 'C:\\\\Users\\\\Nick\\\\AppData\\\\Local\\\\Temp\\\\tmpelzujctgwandb-media\\\\1cwf9c8o.table.json'\n"
     ]
    },
    {
     "name": "stderr",
     "output_type": "stream",
     "text": [
      " 86%|████████▋ | 216/250 [1:51:35<16:17, 28.74s/it]"
     ]
    },
    {
     "name": "stdout",
     "output_type": "stream",
     "text": [
      "output.shape=torch.Size([2423, 8])\n",
      "[Errno 2] No such file or directory: 'C:\\\\Users\\\\Nick\\\\AppData\\\\Local\\\\Temp\\\\tmpelzujctgwandb-media\\\\06pl6on3.table.json'\n",
      "output.shape=torch.Size([2833, 8])\n",
      "[Errno 2] No such file or directory: 'C:\\\\Users\\\\Nick\\\\AppData\\\\Local\\\\Temp\\\\tmpelzujctgwandb-media\\\\xidwns9l.table.json'\n"
     ]
    },
    {
     "name": "stderr",
     "output_type": "stream",
     "text": [
      " 88%|████████▊ | 219/250 [1:53:08<14:49, 28.70s/it]"
     ]
    },
    {
     "name": "stdout",
     "output_type": "stream",
     "text": [
      "output.shape=torch.Size([2423, 8])\n",
      "[Errno 2] No such file or directory: 'C:\\\\Users\\\\Nick\\\\AppData\\\\Local\\\\Temp\\\\tmpelzujctgwandb-media\\\\0pmmssfz.table.json'\n",
      "output.shape=torch.Size([2833, 8])\n",
      "[Errno 2] No such file or directory: 'C:\\\\Users\\\\Nick\\\\AppData\\\\Local\\\\Temp\\\\tmpelzujctgwandb-media\\\\g9s1w8a6.table.json'\n"
     ]
    },
    {
     "name": "stderr",
     "output_type": "stream",
     "text": [
      " 89%|████████▉ | 222/250 [1:54:42<13:26, 28.79s/it]"
     ]
    },
    {
     "name": "stdout",
     "output_type": "stream",
     "text": [
      "output.shape=torch.Size([2423, 8])\n",
      "[Errno 2] No such file or directory: 'C:\\\\Users\\\\Nick\\\\AppData\\\\Local\\\\Temp\\\\tmpelzujctgwandb-media\\\\sp0vf6ge.table.json'\n",
      "output.shape=torch.Size([2833, 8])\n",
      "[Errno 2] No such file or directory: 'C:\\\\Users\\\\Nick\\\\AppData\\\\Local\\\\Temp\\\\tmpelzujctgwandb-media\\\\22snkgh7.table.json'\n"
     ]
    },
    {
     "name": "stderr",
     "output_type": "stream",
     "text": [
      " 90%|█████████ | 225/250 [1:56:15<11:57, 28.72s/it]"
     ]
    },
    {
     "name": "stdout",
     "output_type": "stream",
     "text": [
      "output.shape=torch.Size([2423, 8])\n",
      "[Errno 2] No such file or directory: 'C:\\\\Users\\\\Nick\\\\AppData\\\\Local\\\\Temp\\\\tmpelzujctgwandb-media\\\\8bxn7nt5.table.json'\n",
      "output.shape=torch.Size([2833, 8])\n",
      "[Errno 2] No such file or directory: 'C:\\\\Users\\\\Nick\\\\AppData\\\\Local\\\\Temp\\\\tmpelzujctgwandb-media\\\\pmzxf5zd.table.json'\n"
     ]
    },
    {
     "name": "stderr",
     "output_type": "stream",
     "text": [
      " 91%|█████████ | 228/250 [1:57:49<10:31, 28.72s/it]"
     ]
    },
    {
     "name": "stdout",
     "output_type": "stream",
     "text": [
      "output.shape=torch.Size([2423, 8])\n",
      "[Errno 2] No such file or directory: 'C:\\\\Users\\\\Nick\\\\AppData\\\\Local\\\\Temp\\\\tmpelzujctgwandb-media\\\\r6xbiiuu.table.json'\n",
      "output.shape=torch.Size([2833, 8])\n",
      "[Errno 2] No such file or directory: 'C:\\\\Users\\\\Nick\\\\AppData\\\\Local\\\\Temp\\\\tmpelzujctgwandb-media\\\\k0kc3msb.table.json'\n"
     ]
    },
    {
     "name": "stderr",
     "output_type": "stream",
     "text": [
      " 92%|█████████▏| 231/250 [1:59:22<09:03, 28.58s/it]"
     ]
    },
    {
     "name": "stdout",
     "output_type": "stream",
     "text": [
      "output.shape=torch.Size([2423, 8])\n",
      "[Errno 2] No such file or directory: 'C:\\\\Users\\\\Nick\\\\AppData\\\\Local\\\\Temp\\\\tmpelzujctgwandb-media\\\\bbupjq8v.table.json'\n",
      "output.shape=torch.Size([2833, 8])\n",
      "[Errno 2] No such file or directory: 'C:\\\\Users\\\\Nick\\\\AppData\\\\Local\\\\Temp\\\\tmpelzujctgwandb-media\\\\7cf9c0ff.table.json'\n"
     ]
    },
    {
     "name": "stderr",
     "output_type": "stream",
     "text": [
      " 94%|█████████▎| 234/250 [2:00:56<07:40, 28.79s/it]"
     ]
    },
    {
     "name": "stdout",
     "output_type": "stream",
     "text": [
      "output.shape=torch.Size([2423, 8])\n",
      "[Errno 2] No such file or directory: 'C:\\\\Users\\\\Nick\\\\AppData\\\\Local\\\\Temp\\\\tmpelzujctgwandb-media\\\\9llo3m8s.table.json'\n",
      "output.shape=torch.Size([2833, 8])\n",
      "[Errno 2] No such file or directory: 'C:\\\\Users\\\\Nick\\\\AppData\\\\Local\\\\Temp\\\\tmpelzujctgwandb-media\\\\0i8w1njn.table.json'\n"
     ]
    },
    {
     "name": "stderr",
     "output_type": "stream",
     "text": [
      " 95%|█████████▍| 237/250 [2:02:29<06:10, 28.51s/it]"
     ]
    },
    {
     "name": "stdout",
     "output_type": "stream",
     "text": [
      "output.shape=torch.Size([2423, 8])\n",
      "[Errno 2] No such file or directory: 'C:\\\\Users\\\\Nick\\\\AppData\\\\Local\\\\Temp\\\\tmpelzujctgwandb-media\\\\3tg92ytb.table.json'\n",
      "output.shape=torch.Size([2833, 8])\n",
      "[Errno 2] No such file or directory: 'C:\\\\Users\\\\Nick\\\\AppData\\\\Local\\\\Temp\\\\tmpelzujctgwandb-media\\\\nt8derph.table.json'\n"
     ]
    },
    {
     "name": "stderr",
     "output_type": "stream",
     "text": [
      " 96%|█████████▌| 240/250 [2:04:10<05:02, 30.26s/it]"
     ]
    },
    {
     "name": "stdout",
     "output_type": "stream",
     "text": [
      "output.shape=torch.Size([2423, 8])\n",
      "[Errno 2] No such file or directory: 'C:\\\\Users\\\\Nick\\\\AppData\\\\Local\\\\Temp\\\\tmpelzujctgwandb-media\\\\3kjb6ttc.table.json'\n",
      "output.shape=torch.Size([2833, 8])\n",
      "[Errno 2] No such file or directory: 'C:\\\\Users\\\\Nick\\\\AppData\\\\Local\\\\Temp\\\\tmpelzujctgwandb-media\\\\drhfe9kd.table.json'\n"
     ]
    },
    {
     "name": "stderr",
     "output_type": "stream",
     "text": [
      " 97%|█████████▋| 243/250 [2:05:44<03:25, 29.39s/it]"
     ]
    },
    {
     "name": "stdout",
     "output_type": "stream",
     "text": [
      "output.shape=torch.Size([2423, 8])\n",
      "[Errno 2] No such file or directory: 'C:\\\\Users\\\\Nick\\\\AppData\\\\Local\\\\Temp\\\\tmpelzujctgwandb-media\\\\jue55fyh.table.json'\n",
      "output.shape=torch.Size([2833, 8])\n",
      "[Errno 2] No such file or directory: 'C:\\\\Users\\\\Nick\\\\AppData\\\\Local\\\\Temp\\\\tmpelzujctgwandb-media\\\\51xfdw8u.table.json'\n"
     ]
    },
    {
     "name": "stderr",
     "output_type": "stream",
     "text": [
      " 98%|█████████▊| 246/250 [2:07:18<01:55, 28.98s/it]"
     ]
    },
    {
     "name": "stdout",
     "output_type": "stream",
     "text": [
      "output.shape=torch.Size([2423, 8])\n",
      "[Errno 2] No such file or directory: 'C:\\\\Users\\\\Nick\\\\AppData\\\\Local\\\\Temp\\\\tmpelzujctgwandb-media\\\\sxfwnjqy.table.json'\n",
      "output.shape=torch.Size([2833, 8])\n",
      "[Errno 2] No such file or directory: 'C:\\\\Users\\\\Nick\\\\AppData\\\\Local\\\\Temp\\\\tmpelzujctgwandb-media\\\\ha753491.table.json'\n"
     ]
    },
    {
     "name": "stderr",
     "output_type": "stream",
     "text": [
      "100%|█████████▉| 249/250 [2:08:51<00:28, 28.85s/it]"
     ]
    },
    {
     "name": "stdout",
     "output_type": "stream",
     "text": [
      "output.shape=torch.Size([2423, 8])\n",
      "[Errno 2] No such file or directory: 'C:\\\\Users\\\\Nick\\\\AppData\\\\Local\\\\Temp\\\\tmpelzujctgwandb-media\\\\kjfyswha.table.json'\n",
      "output.shape=torch.Size([2833, 8])\n",
      "[Errno 2] No such file or directory: 'C:\\\\Users\\\\Nick\\\\AppData\\\\Local\\\\Temp\\\\tmpelzujctgwandb-media\\\\3nzw09n9.table.json'\n"
     ]
    },
    {
     "name": "stderr",
     "output_type": "stream",
     "text": [
      "100%|██████████| 250/250 [2:09:38<00:00, 31.11s/it]\n"
     ]
    },
    {
     "data": {
      "application/vnd.jupyter.widget-view+json": {
       "model_id": "2f473a5e5a4d4d0fbc25f472b383bbf1",
       "version_major": 2,
       "version_minor": 0
      },
      "text/plain": [
       "VBox(children=(Label(value='1.653 MB of 1.694 MB uploaded\\r'), FloatProgress(value=0.9758197538064521, max=1.0…"
      ]
     },
     "metadata": {},
     "output_type": "display_data"
    },
    {
     "data": {
      "text/html": [
       "<style>\n",
       "    table.wandb td:nth-child(1) { padding: 0 10px; text-align: left ; width: auto;} td:nth-child(2) {text-align: left ; width: 100%}\n",
       "    .wandb-row { display: flex; flex-direction: row; flex-wrap: wrap; justify-content: flex-start; width: 100% }\n",
       "    .wandb-col { display: flex; flex-direction: column; flex-basis: 100%; flex: 1; padding: 10px; }\n",
       "    </style>\n",
       "<div class=\"wandb-row\"><div class=\"wandb-col\"><h3>Run history:</h3><br/><table class=\"wandb\"><tr><td>ROI < 30</td><td>▆▇▄▅▄▃▄▄▅▇▅▄▅▅▃▄▇▆▄▇█▇███▅▆▆▆▇▇▇▅▃▁▁▁▇▄▅</td></tr><tr><td>ROI < 30 2</td><td>▇▆▃▃▁▁▃▄▆▇▆▄▆▅▄▆█▆▅▇█▆▇██▇▇▇▆▆▆█▆▅▂▃▂█▄▆</td></tr><tr><td>accuracy</td><td>▁▁▇█████▇▇▇▇▇▇▇▇▇▇▇▇▇▇▇▇▇▇▇▇▇▇▇▇▇▇▇▇▇▇▇▇</td></tr><tr><td>accuracy2</td><td>▁▁▇████▇▇▇▇▇▇▇▇▇▇▇▇▇▇▇▇▇▇▇▆▇▇▇▇▇▇▇▇▇▇▇▆▇</td></tr><tr><td>epoch</td><td>▁▁▁▂▂▂▂▂▂▃▃▃▃▃▃▄▄▄▄▄▅▅▅▅▅▅▆▆▆▆▆▆▇▇▇▇▇███</td></tr><tr><td>favorite_accuracy</td><td>▁▁▁▁▁▁▁▁▁▁▁▁▁▁▁▁▁▁▁▁▁▁▁▁▁▁▁▁▁▁▁▁▁▁▁▁▁▁▁▁</td></tr><tr><td>flat_simple</td><td>▃▄▂▄▃▄▂▄▆▇▆▄▃▅▇▆█▄▃▅▅▅▆█▄██▆▃▄▄▅▅▃▃▁▁▆▃▅</td></tr><tr><td>kelly roi</td><td>▆█▅▇▆▅▅▆▇██▃▅▆▃▃▆▅▃▆▆▅▆██▆▆▅▆▇▆▆▅▄▁▁▁▇▄▅</td></tr><tr><td>loss_1</td><td>██▇▆▇▅▆▅▄▄▂▃▃▂▂▁▂▂▁▁▁▁▁▂▁▁▁▁▂▁▁▁▁▁▁▁▁▁▁▁</td></tr><tr><td>loss_bfsp</td><td>▁▁▁▁▁▁▁▁▁▁▁▁▁▁▁▁▁▁▁▁▁▁▁▁▁▁▁▁▁▁▁▁▁▁▁▁▁▁▁▁</td></tr><tr><td>loss_p</td><td>█▇▂▂▁▁▁▁▂▂▃▃▃▃▂▂▂▂▂▂▂▂▂▂▂▂▂▂▂▂▂▂▂▂▂▂▂▂▂▂</td></tr><tr><td>loss_val</td><td>█▇▂▂▁▁▁▁▂▂▃▃▃▃▂▂▂▂▃▂▂▂▃▃▂▂▃▃▂▂▂▂▂▃▃▃▂▂▂▂</td></tr><tr><td>multibet outlay < 30</td><td>▂▂▁▁▁▂▂▃▅▆▇███▆▅▇▆▇▇▇▇▇▇▇▇▇▇█▇▇▇▆▇█▇▇▆▇▇</td></tr><tr><td>multibet profit</td><td>▇█▄▆▅▄▄▅▆▆▇▃▄▅▃▂▅▅▃▅▅▅▅▇▇▅▅▄▅▆▆▅▄▄▁▁▁▆▃▄</td></tr><tr><td>multibet profit < 30</td><td>▅▆▄▄▃▃▄▄▅▆▆▄▅▅▃▄▇▆▄▇█▇███▅▆▆▆▇▇▇▅▃▁▁▁▇▄▅</td></tr><tr><td>multibet profit < 30 sd</td><td>▄▄▁▁▁▁▂▃▅▅▆▇▆▆▅▅▇▆▆▆▇▇██▇▆▆▇▇▇▆▆▆▆▆▅▄▆▆▆</td></tr><tr><td>mutual_info</td><td>▁▁▃▃▃▃▄▅▆▆▇███▇▆▇▇▇▇▇▇▇▇█▇▇██▇█▇▇▇▇▇▇▇▇█</td></tr><tr><td>profit_relu</td><td>▃█▁▁▁▁▁▁▁▁▁▁▁▁▁▁▁▁▁▁▁▁▁▁▁▁▁▁▁▁▁▁▁▁▁▁▁▁▁▁</td></tr><tr><td>relu roi</td><td>▃█▂▂▂▂▂▂▄▄▄▂▃▃▂▂▃▃▂▃▃▃▃▄▄▃▃▃▄▄▄▄▃▃▂▁▁▄▂▂</td></tr><tr><td>val_ROI < 30</td><td>▃▂▁▂▂▃▃▃▄▅▅▄▅▆▅▄▅▄▄▃▅▄▄▅▄▅▃▃▅▅▅▆▅▆▄▇█▆▄▄</td></tr><tr><td>val_ROI < 30 2</td><td>▃▁▂▂▂▃▃▃▅▅▅▄▅▆▅▄▆▄▄▄▅▅▅▆▅▆▃▄▆▅▅▆▅▆▅▅█▇▄▅</td></tr><tr><td>val_accuracy</td><td>▁▁▇████▇▇▇▇▇▇▇▇▇▇▇▇▇▇▇▇▇▇▇▆▇▇▇▇▇▇▇▇▇▇▇▆▇</td></tr><tr><td>val_flat_simple</td><td>▁▁▆▆▅▆▅▅▇▆▆▆▆▇▇▅▇▆▆▆▆▆▆█▇▇▅▆▆▆▆▆▆▆▇▇██▆▆</td></tr><tr><td>val_kelly roi</td><td>▂▁▂▃▃▃▄▄▅▅▆▆▆▇▅▅▆▅▅▅▆▆▆▇▆▆▅▅▆▆▇▇▆▇▆▇█▇▅▆</td></tr><tr><td>val_loss_bfsp</td><td>▁▁▁▁▁▁▁▁▁▁▁▁▁▁▁▁▁▁▁▁▁▁▁▁▁▁▁▁▁▁▁▁▁▁▁▁▁▁▁▁</td></tr><tr><td>val_loss_p</td><td>█▇▂▂▁▁▁▁▂▂▃▃▃▃▂▂▂▂▂▂▂▂▃▂▂▂▂▂▂▂▂▂▂▂▂▂▂▂▂▂</td></tr><tr><td>val_loss_val</td><td>█▇▂▂▁▁▁▁▂▂▃▃▃▃▃▂▂▂▂▂▂▂▃▃▃▃▃▃▃▃▂▂▂▂▃▃▂▂▃▃</td></tr><tr><td>val_multibet outlay < 30</td><td>▂▂▁▁▁▂▂▃▅▅▇███▆▅▇▆▆▇▇▇▇▇▇▇▆▇▇▇▇▆▆▇▇▇▇▆▇▇</td></tr><tr><td>val_multibet profit</td><td>▁▁▃▄▄▅▅▅▅▆▆▆▆▇▅▅▆▆▆▆▆▆▆▇▆▆▅▅▇▆▇▇▆▇▇▇█▇▆▆</td></tr><tr><td>val_multibet profit < 30</td><td>▃▂▁▂▂▂▃▂▄▄▄▃▄▆▄▃▅▃▃▂▄▃▃▅▃▅▂▂▅▅▅▆▄▆▄▆█▆▃▄</td></tr><tr><td>val_multibet profit < 30 sd</td><td>▃▃▁▁▁▂▂▃▅▅▆▆▆▇▆▅▆▅▆▆▆▆▇▇▆▇▅▆▇▆▆▇▅▇▆██▇▇▇</td></tr><tr><td>val_mutual_info</td><td>▁▁▃▃▃▃▄▄▆▆▇███▇▆▇▇▇▇▇▇▇▇██▇████▇▇▇██▇███</td></tr><tr><td>val_profit_relu</td><td>▁▂▇▇▇▇██████████████████████████████████</td></tr><tr><td>val_relu roi</td><td>▃▁▃▃▃▃▄▄▅▅▆▆▆▆▅▅▆▅▆▅▆▆▆▆▆▆▅▅▇▆▇▇▆▇▇▇█▇▆▆</td></tr><tr><td>valfavorite_accuracy</td><td>▁▁▁▁▁▁▁▁▁▁▁▁▁▁▁▁▁▁▁▁▁▁▁▁▁▁▁▁▁▁▁▁▁▁▁▁▁▁▁▁</td></tr></table><br/></div><div class=\"wandb-col\"><h3>Run summary:</h3><br/><table class=\"wandb\"><tr><td>ROI < 30 2</td><td>0.04222</td></tr><tr><td>accuracy2</td><td>0.30745</td></tr><tr><td>epoch</td><td>249</td></tr><tr><td>favorite_accuracy</td><td>0.38562</td></tr><tr><td>flat_simple</td><td>32.11986</td></tr><tr><td>kelly roi</td><td>0.04062</td></tr><tr><td>loss_1</td><td>0.61279</td></tr><tr><td>loss_bfsp</td><td>1.945</td></tr><tr><td>loss_p</td><td>1.806</td></tr><tr><td>multibet outlay < 30</td><td>47756.04817</td></tr><tr><td>multibet profit</td><td>1866.16475</td></tr><tr><td>multibet profit < 30</td><td>1941.74152</td></tr><tr><td>multibet profit < 30 sd</td><td>19.22961</td></tr><tr><td>mutual_info</td><td>0.08167</td></tr><tr><td>profit_relu</td><td>26546.45795</td></tr><tr><td>val_ROI < 30</td><td>-0.00256</td></tr><tr><td>val_ROI < 30 2</td><td>0.01691</td></tr><tr><td>val_accuracy</td><td>0.30745</td></tr><tr><td>val_flat_simple</td><td>-40.95693</td></tr><tr><td>val_kelly roi</td><td>-0.06801</td></tr><tr><td>val_loss_bfsp</td><td>1.94131</td></tr><tr><td>val_loss_p</td><td>1.79876</td></tr><tr><td>val_loss_val</td><td>1.84341</td></tr><tr><td>val_multibet outlay < 30</td><td>45057.55824</td></tr><tr><td>val_multibet profit</td><td>-3849.67064</td></tr><tr><td>val_multibet profit < 30</td><td>-115.30263</td></tr><tr><td>val_multibet profit < 30 sd</td><td>21.39651</td></tr><tr><td>val_mutual_info</td><td>0.08328</td></tr><tr><td>val_profit_relu</td><td>-59925.54353</td></tr><tr><td>val_relu roi</td><td>-0.08984</td></tr><tr><td>valfavorite_accuracy</td><td>0.39215</td></tr></table><br/></div></div>"
      ],
      "text/plain": [
       "<IPython.core.display.HTML object>"
      ]
     },
     "metadata": {},
     "output_type": "display_data"
    },
    {
     "data": {
      "text/html": [
       " View run <strong style=\"color:#cdcd00\">desert-gorge-44</strong> at: <a href='https://wandb.ai/nickojelly/NEW%20GRU%20V7%20Reporting/runs/n2zz26vl' target=\"_blank\">https://wandb.ai/nickojelly/NEW%20GRU%20V7%20Reporting/runs/n2zz26vl</a><br/>Synced 5 W&B file(s), 0 media file(s), 168 artifact file(s) and 0 other file(s)"
      ],
      "text/plain": [
       "<IPython.core.display.HTML object>"
      ]
     },
     "metadata": {},
     "output_type": "display_data"
    },
    {
     "data": {
      "text/html": [
       "Find logs at: <code>.\\wandb\\run-20240209_012915-n2zz26vl\\logs</code>"
      ],
      "text/plain": [
       "<IPython.core.display.HTML object>"
      ]
     },
     "metadata": {},
     "output_type": "display_data"
    },
    {
     "data": {
      "application/vnd.jupyter.widget-view+json": {
       "model_id": "4fcb43089ead47b387a95e538055c911",
       "version_major": 2,
       "version_minor": 0
      },
      "text/plain": [
       "VBox(children=(Label(value='Waiting for wandb.init()...\\r'), FloatProgress(value=0.011111111111111112, max=1.0…"
      ]
     },
     "metadata": {},
     "output_type": "display_data"
    },
    {
     "data": {
      "text/html": [
       "wandb version 0.16.3 is available!  To upgrade, please run:\n",
       " $ pip install wandb --upgrade"
      ],
      "text/plain": [
       "<IPython.core.display.HTML object>"
      ]
     },
     "metadata": {},
     "output_type": "display_data"
    },
    {
     "data": {
      "text/html": [
       "Tracking run with wandb version 0.16.2"
      ],
      "text/plain": [
       "<IPython.core.display.HTML object>"
      ]
     },
     "metadata": {},
     "output_type": "display_data"
    },
    {
     "data": {
      "text/html": [
       "Run data is saved locally in <code>c:\\Users\\Nick\\Documents\\GitHub\\grvmodel\\python\\wandb\\run-20240209_033947-nkx1o3u2</code>"
      ],
      "text/plain": [
       "<IPython.core.display.HTML object>"
      ]
     },
     "metadata": {},
     "output_type": "display_data"
    },
    {
     "data": {
      "text/html": [
       "Syncing run <strong><a href='https://wandb.ai/nickojelly/NEW%20GRU%20V7%20Reporting/runs/nkx1o3u2' target=\"_blank\">exalted-paper-45</a></strong> to <a href='https://wandb.ai/nickojelly/NEW%20GRU%20V7%20Reporting' target=\"_blank\">Weights & Biases</a> (<a href='https://wandb.me/run' target=\"_blank\">docs</a>)<br/>"
      ],
      "text/plain": [
       "<IPython.core.display.HTML object>"
      ]
     },
     "metadata": {},
     "output_type": "display_data"
    },
    {
     "data": {
      "text/html": [
       " View project at <a href='https://wandb.ai/nickojelly/NEW%20GRU%20V7%20Reporting' target=\"_blank\">https://wandb.ai/nickojelly/NEW%20GRU%20V7%20Reporting</a>"
      ],
      "text/plain": [
       "<IPython.core.display.HTML object>"
      ]
     },
     "metadata": {},
     "output_type": "display_data"
    },
    {
     "data": {
      "text/html": [
       " View run at <a href='https://wandb.ai/nickojelly/NEW%20GRU%20V7%20Reporting/runs/nkx1o3u2' target=\"_blank\">https://wandb.ai/nickojelly/NEW%20GRU%20V7%20Reporting/runs/nkx1o3u2</a>"
      ],
      "text/plain": [
       "<IPython.core.display.HTML object>"
      ]
     },
     "metadata": {},
     "output_type": "display_data"
    },
    {
     "name": "stdout",
     "output_type": "stream",
     "text": [
      "{'hidden_size': 256, 'stats': ['inside', 'midfield', 'wide', 'weight', 'DogGrade', '_dist_last__1', '_box_last__1', '_speed_avg_1', '_split_speed_avg_1', '_split_margin_avg_1', '_margin_avg_1', '_margin_time_avg_1', '_RunHomeTime_1', '_run_home_speed_1', '_first_out_avg_1', '_pos_out_avg_1', '_post_change_avg_1', '_races_1', '_wins_1', '_wins_last_1', '_weight_', '_min_time_', '_min_split_time_', '_last_start_price', '_last_start_prob', 'dist_dist_last__10', 'dist_box_last__10', 'dist_speed_avg_10', 'dist_split_speed_avg_10', 'dist_split_margin_avg_10', 'dist_margin_avg_10', 'dist_margin_time_avg_10', 'dist_RunHomeTime_10', 'dist_run_home_speed_10', 'dist_first_out_avg_10', 'dist_pos_out_avg_10', 'dist_post_change_avg_10', 'dist_races_10', 'dist_wins_10', 'dist_wins_last_10', 'dist_weight_', 'dist_min_time_', 'dist_min_split_time_', 'dist_last_start_price', 'dist_last_start_prob', 'box_dist_last__10', 'box_box_last__10', 'box_speed_avg_10', 'box_split_speed_avg_10', 'box_split_margin_avg_10', 'box_margin_avg_10', 'box_margin_time_avg_10', 'box_RunHomeTime_10', 'box_run_home_speed_10', 'box_first_out_avg_10', 'box_pos_out_avg_10', 'box_post_change_avg_10', 'box_races_10', 'box_wins_10', 'box_wins_last_10', 'box_weight_', 'box_min_time_', 'box_min_split_time_', 'box_last_start_price', 'box_last_start_prob', 'track_box_dist_last__10', 'track_box_box_last__10', 'track_box_speed_avg_10', 'track_box_split_speed_avg_10', 'track_box_split_margin_avg_10', 'track_box_margin_avg_10', 'track_box_margin_time_avg_10', 'track_box_RunHomeTime_10', 'track_box_run_home_speed_10', 'track_box_first_out_avg_10', 'track_box_pos_out_avg_10', 'track_box_post_change_avg_10', 'track_box_races_10', 'track_box_wins_10', 'track_box_wins_last_10', 'track_box_weight_', 'track_box_min_time_', 'track_box_min_split_time_', 'track_box_last_start_price', 'track_box_last_start_prob', 'track_dist_dist_last__10', 'track_dist_box_last__10', 'track_dist_speed_avg_10', 'track_dist_split_speed_avg_10', 'track_dist_split_margin_avg_10', 'track_dist_margin_avg_10', 'track_dist_margin_time_avg_10', 'track_dist_RunHomeTime_10', 'track_dist_run_home_speed_10', 'track_dist_first_out_avg_10', 'track_dist_pos_out_avg_10', 'track_dist_post_change_avg_10', 'track_dist_races_10', 'track_dist_wins_10', 'track_dist_wins_last_10', 'track_dist_weight_', 'track_dist_min_time_', 'track_dist_min_split_time_', 'track_dist_last_start_price', 'track_dist_last_start_prob'], 'races': ['NZ'], 'datafile': './data/gru_inputs_kitchen_sink_new_not_simple.fth', 'latest_date': '2024-01-31T00:00:00', 'input_type': 'basic', 'num_layers': 2, 'batch_size': 750, 'dropout': 0.3, 'epochs': 250, 'learning_rate': 0.001, 'optimizer': 'adamW', 'f0_layer_size': 128, 'f1_layer_size': 64, 'training_date_end': '2023-01-01', 'notes': 'GRU, with basic add on data looped in', 'batch_days': 60, 'stat_list_dict': {'_dist_last__1': 1, '_box_last__1': 1, '_speed_avg_1': 1, '_split_speed_avg_1': 1, '_split_margin_avg_1': 1, '_margin_avg_1': 1, '_margin_time_avg_1': 1, '_RunHomeTime_1': 1, '_run_home_speed_1': 1, '_first_out_avg_1': 1, '_pos_out_avg_1': 1, '_post_change_avg_1': 1, '_races_1': 1, '_wins_1': 1, '_wins_last_1': 1, '_weight_': 1, '_min_time_': 1, '_min_split_time_': 1, '_last_start_price': 1, '_last_start_prob': 1}}\n",
      "250\n",
      "{'hidden_size': 256, 'stats': ['inside', 'midfield', 'wide', 'weight', 'DogGrade', '_dist_last__1', '_box_last__1', '_speed_avg_1', '_split_speed_avg_1', '_split_margin_avg_1', '_margin_avg_1', '_margin_time_avg_1', '_RunHomeTime_1', '_run_home_speed_1', '_first_out_avg_1', '_pos_out_avg_1', '_post_change_avg_1', '_races_1', '_wins_1', '_wins_last_1', '_weight_', '_min_time_', '_min_split_time_', '_last_start_price', '_last_start_prob', 'dist_dist_last__10', 'dist_box_last__10', 'dist_speed_avg_10', 'dist_split_speed_avg_10', 'dist_split_margin_avg_10', 'dist_margin_avg_10', 'dist_margin_time_avg_10', 'dist_RunHomeTime_10', 'dist_run_home_speed_10', 'dist_first_out_avg_10', 'dist_pos_out_avg_10', 'dist_post_change_avg_10', 'dist_races_10', 'dist_wins_10', 'dist_wins_last_10', 'dist_weight_', 'dist_min_time_', 'dist_min_split_time_', 'dist_last_start_price', 'dist_last_start_prob', 'box_dist_last__10', 'box_box_last__10', 'box_speed_avg_10', 'box_split_speed_avg_10', 'box_split_margin_avg_10', 'box_margin_avg_10', 'box_margin_time_avg_10', 'box_RunHomeTime_10', 'box_run_home_speed_10', 'box_first_out_avg_10', 'box_pos_out_avg_10', 'box_post_change_avg_10', 'box_races_10', 'box_wins_10', 'box_wins_last_10', 'box_weight_', 'box_min_time_', 'box_min_split_time_', 'box_last_start_price', 'box_last_start_prob', 'track_box_dist_last__10', 'track_box_box_last__10', 'track_box_speed_avg_10', 'track_box_split_speed_avg_10', 'track_box_split_margin_avg_10', 'track_box_margin_avg_10', 'track_box_margin_time_avg_10', 'track_box_RunHomeTime_10', 'track_box_run_home_speed_10', 'track_box_first_out_avg_10', 'track_box_pos_out_avg_10', 'track_box_post_change_avg_10', 'track_box_races_10', 'track_box_wins_10', 'track_box_wins_last_10', 'track_box_weight_', 'track_box_min_time_', 'track_box_min_split_time_', 'track_box_last_start_price', 'track_box_last_start_prob', 'track_dist_dist_last__10', 'track_dist_box_last__10', 'track_dist_speed_avg_10', 'track_dist_split_speed_avg_10', 'track_dist_split_margin_avg_10', 'track_dist_margin_avg_10', 'track_dist_margin_time_avg_10', 'track_dist_RunHomeTime_10', 'track_dist_run_home_speed_10', 'track_dist_first_out_avg_10', 'track_dist_pos_out_avg_10', 'track_dist_post_change_avg_10', 'track_dist_races_10', 'track_dist_wins_10', 'track_dist_wins_last_10', 'track_dist_weight_', 'track_dist_min_time_', 'track_dist_min_split_time_', 'track_dist_last_start_price', 'track_dist_last_start_prob'], 'races': ['NZ'], 'datafile': './data/gru_inputs_kitchen_sink_new_not_simple.fth', 'latest_date': '2024-01-31T00:00:00', 'input_type': 'basic', 'num_layers': 2, 'batch_size': 750, 'dropout': 0.3, 'epochs': 250, 'learning_rate': 0.001, 'optimizer': 'adamW', 'f0_layer_size': 128, 'f1_layer_size': 64, 'training_date_end': '2023-01-01', 'notes': 'GRU, with basic add on data looped in', 'batch_days': 60, 'stat_list_dict': {'_dist_last__1': 1, '_box_last__1': 1, '_speed_avg_1': 1, '_split_speed_avg_1': 1, '_split_margin_avg_1': 1, '_margin_avg_1': 1, '_margin_time_avg_1': 1, '_RunHomeTime_1': 1, '_run_home_speed_1': 1, '_first_out_avg_1': 1, '_pos_out_avg_1': 1, '_post_change_avg_1': 1, '_races_1': 1, '_wins_1': 1, '_wins_last_1': 1, '_weight_': 1, '_min_time_': 1, '_min_split_time_': 1, '_last_start_price': 1, '_last_start_prob': 1}}\n",
      "basic\n",
      "1\n",
      "1\n",
      "1\n",
      "1\n",
      "1\n",
      "1\n",
      "1\n",
      "1\n",
      "1\n",
      "1\n",
      "1\n",
      "1\n",
      "1\n",
      "1\n",
      "1\n",
      "1\n",
      "1\n",
      "1\n",
      "1\n",
      "1\n",
      "[1, 1, 1, 1, 1, 1, 1, 1, 1, 1, 1, 1, 1, 1, 1, 1, 1, 1, 1, 1]\n",
      "data_mask_size=26\n",
      "tensor([ True,  True,  True,  True,  True,  True,  True,  True,  True,  True,\n",
      "         True,  True,  True,  True,  True,  True,  True,  True,  True,  True,\n",
      "         True,  True,  True,  True,  True,  True, False, False, False, False,\n",
      "        False, False, False, False, False, False, False, False, False, False,\n",
      "        False, False, False, False, False, False, False, False, False, False,\n",
      "        False, False, False, False, False, False, False, False, False, False,\n",
      "        False, False, False, False, False, False, False, False, False, False,\n",
      "        False, False, False, False, False, False, False, False, False, False,\n",
      "        False, False, False, False, False, False, False, False, False, False,\n",
      "        False, False, False, False, False, False, False, False, False, False,\n",
      "        False, False, False, False, False, False], device='cuda:0')\n",
      "torch.Size([106])\n",
      "Train examples 15104, Test examples 2423, Val examples 2833\n"
     ]
    },
    {
     "name": "stderr",
     "output_type": "stream",
     "text": [
      "100%|██████████| 3963/3963 [00:00<00:00, 84526.37it/s]\n",
      "100%|██████████| 3964/3964 [00:01<00:00, 1986.34it/s]\n"
     ]
    },
    {
     "name": "stdout",
     "output_type": "stream",
     "text": [
      "[(datetime.date(2019, 12, 1), datetime.date(2020, 1, 30)), (datetime.date(2020, 1, 30), datetime.date(2020, 3, 30)), (datetime.date(2020, 3, 30), datetime.date(2020, 5, 29)), (datetime.date(2020, 5, 29), datetime.date(2020, 7, 28)), (datetime.date(2020, 7, 28), datetime.date(2020, 9, 26)), (datetime.date(2020, 9, 26), datetime.date(2020, 11, 25)), (datetime.date(2020, 11, 25), datetime.date(2021, 1, 24)), (datetime.date(2021, 1, 24), datetime.date(2021, 3, 25)), (datetime.date(2021, 3, 25), datetime.date(2021, 5, 24)), (datetime.date(2021, 5, 24), datetime.date(2021, 7, 23)), (datetime.date(2021, 7, 23), datetime.date(2021, 9, 21)), (datetime.date(2021, 9, 21), datetime.date(2021, 11, 20)), (datetime.date(2021, 11, 20), datetime.date(2022, 1, 19)), (datetime.date(2022, 1, 19), datetime.date(2022, 3, 20)), (datetime.date(2022, 3, 20), datetime.date(2022, 5, 19)), (datetime.date(2022, 5, 19), datetime.date(2022, 7, 18)), (datetime.date(2022, 7, 18), datetime.date(2022, 9, 16)), (datetime.date(2022, 9, 16), datetime.date(2022, 11, 15)), (datetime.date(2022, 11, 15), datetime.date(2022, 12, 31))]\n",
      "2020-01-30\n",
      "2020-03-30\n",
      "2020-05-29\n",
      "2020-07-28\n",
      "2020-09-26\n",
      "2020-11-25\n",
      "2021-01-24\n",
      "2021-03-25\n",
      "2021-05-24\n",
      "2021-07-23\n",
      "2021-09-21\n",
      "2021-11-20\n",
      "2022-01-19\n",
      "2022-03-20\n",
      "2022-05-19\n",
      "2022-07-18\n",
      "2022-09-16\n",
      "2022-11-15\n",
      "2022-12-31\n",
      "Train examples [484, 826, 400, 964, 964, 896, 832, 978, 868, 879, 693, 822, 818, 805, 819, 819, 843, 727, 649]\n"
     ]
    },
    {
     "name": "stderr",
     "output_type": "stream",
     "text": [
      "100%|██████████| 3963/3963 [00:00<00:00, 20630.95it/s]\n",
      "100%|██████████| 3963/3963 [00:00<00:00, 12365.70it/s]\n",
      "100%|██████████| 3963/3963 [00:00<00:00, 24671.17it/s]\n",
      "100%|██████████| 3963/3963 [00:00<00:00, 10676.98it/s]\n",
      "100%|██████████| 3963/3963 [00:00<00:00, 10994.56it/s]\n",
      "100%|██████████| 3963/3963 [00:00<00:00, 11623.45it/s]\n",
      "100%|██████████| 3963/3963 [00:00<00:00, 12406.57it/s]\n",
      "100%|██████████| 3963/3963 [00:00<00:00, 10617.32it/s]\n",
      "100%|██████████| 3963/3963 [00:00<00:00, 11606.34it/s]\n",
      "100%|██████████| 3963/3963 [00:00<00:00, 11309.22it/s]\n",
      "100%|██████████| 3963/3963 [00:00<00:00, 14980.86it/s]\n",
      "100%|██████████| 3963/3963 [00:00<00:00, 12307.87it/s]\n",
      "100%|██████████| 3963/3963 [00:00<00:00, 12977.39it/s]\n",
      "100%|██████████| 3963/3963 [00:00<00:00, 13418.99it/s]\n",
      "100%|██████████| 3963/3963 [00:00<00:00, 13122.86it/s]\n",
      "100%|██████████| 3963/3963 [00:00<00:00, 12796.53it/s]\n",
      "100%|██████████| 3963/3963 [00:00<00:00, 12118.17it/s]\n",
      "100%|██████████| 3963/3963 [00:00<00:00, 13848.30it/s]\n",
      "100%|██████████| 3963/3963 [00:00<00:00, 15240.39it/s]\n",
      "100%|██████████| 19/19 [00:05<00:00,  3.23it/s]\n"
     ]
    },
    {
     "name": "stdout",
     "output_type": "stream",
     "text": [
      "Train examples [1101, 1223, 1113, 1283, 1255, 1198, 1186, 1192, 1169, 1169, 1134, 1135, 1111, 1017, 1050, 1048, 1075, 1010, 1005]\n",
      "Train examples [1101, 1223, 1113, 1283, 1255, 1198, 1186, 1192, 1169, 1169, 1134, 1135, 1111, 1017, 1050, 1048, 1075, 1010, 1005]\n",
      "Train examples [484, 826, 400, 964, 964, 896, 832, 978, 868, 879, 693, 822, 818, 805, 819, 819, 843, 727, 649]\n",
      "Train examples [484, 826, 400, 964, 964, 896, 832, 978, 868, 879, 693, 822, 818, 805, 819, 819, 843, 727, 649]\n",
      "here\n",
      "input_size=26\n"
     ]
    },
    {
     "name": "stderr",
     "output_type": "stream",
     "text": [
      "C:\\Users\\Nick\\AppData\\Local\\Temp\\ipykernel_8176\\3542074422.py:70: UserWarning: To copy construct from a tensor, it is recommended to use sourceTensor.clone().detach() or sourceTensor.clone().detach().requires_grad_(True), rather than torch.tensor(sourceTensor).\n",
      "  config['stat_mask_tensor'] = torch.tensor(stat_mask, dtype=torch.uint8).to(device)\n",
      "c:\\Users\\Nick\\.conda\\envs\\python311\\Lib\\site-packages\\torch\\nn\\modules\\lazy.py:180: UserWarning: Lazy modules are a new feature under heavy development so changes to the API or functionality can happen at any moment.\n",
      "  warnings.warn('Lazy modules are a new feature under heavy development '\n"
     ]
    },
    {
     "name": "stdout",
     "output_type": "stream",
     "text": [
      "GRUNetv3_extra(\n",
      "  (gru): GRU(26, 256, num_layers=2, dropout=0.3)\n",
      "  (relu): ReLU()\n",
      "  (fc0): Linear(in_features=2630, out_features=2048, bias=True)\n",
      "  (batch_norm): BatchNorm1d(26, eps=1e-05, momentum=0.1, affine=True, track_running_stats=True)\n",
      "  (batch_norm_data): BatchNorm1d(26, eps=1e-05, momentum=0.1, affine=True, track_running_stats=True)\n",
      "  (extra_1): GRUNetv3_simple_extra_data(\n",
      "    (batch_norm): LazyBatchNorm1d(0, eps=1e-05, momentum=0.1, affine=True, track_running_stats=True)\n",
      "    (relu): ReLU()\n",
      "    (fc0_p1): LazyLinear(in_features=0, out_features=128, bias=True)\n",
      "    (fc0_p1_drop): Dropout(p=0.3, inplace=False)\n",
      "    (fc0_p2): Linear(in_features=128, out_features=64, bias=True)\n",
      "    (fc0_p2_drop): Dropout(p=0.3, inplace=False)\n",
      "    (fc0_p3): Linear(in_features=64, out_features=64, bias=True)\n",
      "    (fc0_p3_drop): Dropout(p=0.3, inplace=False)\n",
      "  )\n",
      "  (fc0_p1): Linear(in_features=512, out_features=256, bias=True)\n",
      "  (fc0_p1_drop): Dropout(p=0.3, inplace=False)\n",
      "  (fc0_p2): Linear(in_features=256, out_features=256, bias=True)\n",
      "  (fc0_p2_drop): Dropout(p=0.3, inplace=False)\n",
      "  (fc0_p3): Linear(in_features=256, out_features=256, bias=True)\n",
      "  (fc0_p3_drop): Dropout(p=0.3, inplace=False)\n",
      "  (relu0): ReLU()\n",
      "  (drop1): Dropout(p=0.3, inplace=False)\n",
      "  (fc1): Linear(in_features=2048, out_features=1024, bias=True)\n",
      "  (drop2): Dropout(p=0.3, inplace=False)\n",
      "  (fc2): Linear(in_features=1024, out_features=64, bias=True)\n",
      "  (drop3): Dropout(p=0.3, inplace=False)\n",
      "  (fc3): Linear(in_features=64, out_features=8, bias=True)\n",
      "  (output_fn): Identity()\n",
      ")\n"
     ]
    },
    {
     "name": "stderr",
     "output_type": "stream",
     "text": [
      "  0%|          | 0/250 [00:00<?, ?it/s]"
     ]
    },
    {
     "name": "stdout",
     "output_type": "stream",
     "text": [
      "output.shape=torch.Size([2423, 8])\n",
      "[Errno 2] No such file or directory: 'C:\\\\Users\\\\Nick\\\\AppData\\\\Local\\\\Temp\\\\tmpelzujctgwandb-media\\\\a779t5kx.table.json'\n",
      "output.shape=torch.Size([2833, 8])\n",
      "[Errno 2] No such file or directory: 'C:\\\\Users\\\\Nick\\\\AppData\\\\Local\\\\Temp\\\\tmpelzujctgwandb-media\\\\xouh6xel.table.json'\n",
      "created path\n"
     ]
    },
    {
     "name": "stderr",
     "output_type": "stream",
     "text": [
      "  1%|          | 3/250 [01:54<2:26:41, 35.63s/it]"
     ]
    },
    {
     "name": "stdout",
     "output_type": "stream",
     "text": [
      "output.shape=torch.Size([2423, 8])\n",
      "[Errno 2] No such file or directory: 'C:\\\\Users\\\\Nick\\\\AppData\\\\Local\\\\Temp\\\\tmpelzujctgwandb-media\\\\dq360z2e.table.json'\n",
      "output.shape=torch.Size([2833, 8])\n",
      "[Errno 2] No such file or directory: 'C:\\\\Users\\\\Nick\\\\AppData\\\\Local\\\\Temp\\\\tmpelzujctgwandb-media\\\\dvfmlxdp.table.json'\n"
     ]
    },
    {
     "name": "stderr",
     "output_type": "stream",
     "text": [
      "  2%|▏         | 6/250 [03:51<2:27:11, 36.19s/it]"
     ]
    },
    {
     "name": "stdout",
     "output_type": "stream",
     "text": [
      "output.shape=torch.Size([2423, 8])\n",
      "[Errno 2] No such file or directory: 'C:\\\\Users\\\\Nick\\\\AppData\\\\Local\\\\Temp\\\\tmpelzujctgwandb-media\\\\g8g91rbv.table.json'\n",
      "output.shape=torch.Size([2833, 8])\n",
      "[Errno 2] No such file or directory: 'C:\\\\Users\\\\Nick\\\\AppData\\\\Local\\\\Temp\\\\tmpelzujctgwandb-media\\\\5jhd50u9.table.json'\n"
     ]
    },
    {
     "name": "stderr",
     "output_type": "stream",
     "text": [
      "  4%|▎         | 9/250 [05:46<2:24:19, 35.93s/it]"
     ]
    },
    {
     "name": "stdout",
     "output_type": "stream",
     "text": [
      "output.shape=torch.Size([2423, 8])\n",
      "[Errno 2] No such file or directory: 'C:\\\\Users\\\\Nick\\\\AppData\\\\Local\\\\Temp\\\\tmpelzujctgwandb-media\\\\bhvbakil.table.json'\n",
      "output.shape=torch.Size([2833, 8])\n",
      "[Errno 2] No such file or directory: 'C:\\\\Users\\\\Nick\\\\AppData\\\\Local\\\\Temp\\\\tmpelzujctgwandb-media\\\\c1cz4v5b.table.json'\n"
     ]
    },
    {
     "name": "stderr",
     "output_type": "stream",
     "text": [
      "  5%|▍         | 12/250 [07:41<2:22:15, 35.86s/it]"
     ]
    },
    {
     "name": "stdout",
     "output_type": "stream",
     "text": [
      "output.shape=torch.Size([2423, 8])\n",
      "[Errno 2] No such file or directory: 'C:\\\\Users\\\\Nick\\\\AppData\\\\Local\\\\Temp\\\\tmpelzujctgwandb-media\\\\jy5u76n3.table.json'\n",
      "output.shape=torch.Size([2833, 8])\n",
      "[Errno 2] No such file or directory: 'C:\\\\Users\\\\Nick\\\\AppData\\\\Local\\\\Temp\\\\tmpelzujctgwandb-media\\\\v1nv3rrn.table.json'\n"
     ]
    },
    {
     "name": "stderr",
     "output_type": "stream",
     "text": [
      "  6%|▌         | 15/250 [09:36<2:20:25, 35.85s/it]"
     ]
    },
    {
     "name": "stdout",
     "output_type": "stream",
     "text": [
      "output.shape=torch.Size([2423, 8])\n",
      "[Errno 2] No such file or directory: 'C:\\\\Users\\\\Nick\\\\AppData\\\\Local\\\\Temp\\\\tmpelzujctgwandb-media\\\\jusvix97.table.json'\n",
      "output.shape=torch.Size([2833, 8])\n",
      "[Errno 2] No such file or directory: 'C:\\\\Users\\\\Nick\\\\AppData\\\\Local\\\\Temp\\\\tmpelzujctgwandb-media\\\\xpiswxif.table.json'\n"
     ]
    },
    {
     "name": "stderr",
     "output_type": "stream",
     "text": [
      "  7%|▋         | 18/250 [11:30<2:17:20, 35.52s/it]"
     ]
    },
    {
     "name": "stdout",
     "output_type": "stream",
     "text": [
      "output.shape=torch.Size([2423, 8])\n",
      "[Errno 2] No such file or directory: 'C:\\\\Users\\\\Nick\\\\AppData\\\\Local\\\\Temp\\\\tmpelzujctgwandb-media\\\\kns5d4sy.table.json'\n",
      "output.shape=torch.Size([2833, 8])\n",
      "[Errno 2] No such file or directory: 'C:\\\\Users\\\\Nick\\\\AppData\\\\Local\\\\Temp\\\\tmpelzujctgwandb-media\\\\07pnxzu2.table.json'\n"
     ]
    },
    {
     "name": "stderr",
     "output_type": "stream",
     "text": [
      "  8%|▊         | 21/250 [13:26<2:17:36, 36.06s/it]"
     ]
    },
    {
     "name": "stdout",
     "output_type": "stream",
     "text": [
      "output.shape=torch.Size([2423, 8])\n",
      "[Errno 2] No such file or directory: 'C:\\\\Users\\\\Nick\\\\AppData\\\\Local\\\\Temp\\\\tmpelzujctgwandb-media\\\\8t7jo6pc.table.json'\n",
      "output.shape=torch.Size([2833, 8])\n",
      "[Errno 2] No such file or directory: 'C:\\\\Users\\\\Nick\\\\AppData\\\\Local\\\\Temp\\\\tmpelzujctgwandb-media\\\\xopemf9q.table.json'\n"
     ]
    },
    {
     "name": "stderr",
     "output_type": "stream",
     "text": [
      " 10%|▉         | 24/250 [15:21<2:14:04, 35.59s/it]"
     ]
    },
    {
     "name": "stdout",
     "output_type": "stream",
     "text": [
      "output.shape=torch.Size([2423, 8])\n",
      "[Errno 2] No such file or directory: 'C:\\\\Users\\\\Nick\\\\AppData\\\\Local\\\\Temp\\\\tmpelzujctgwandb-media\\\\2x7rbj0g.table.json'\n",
      "output.shape=torch.Size([2833, 8])\n",
      "[Errno 2] No such file or directory: 'C:\\\\Users\\\\Nick\\\\AppData\\\\Local\\\\Temp\\\\tmpelzujctgwandb-media\\\\9d8y99dv.table.json'\n"
     ]
    },
    {
     "name": "stderr",
     "output_type": "stream",
     "text": [
      " 11%|█         | 27/250 [17:16<2:13:22, 35.88s/it]"
     ]
    },
    {
     "name": "stdout",
     "output_type": "stream",
     "text": [
      "output.shape=torch.Size([2423, 8])\n",
      "[Errno 2] No such file or directory: 'C:\\\\Users\\\\Nick\\\\AppData\\\\Local\\\\Temp\\\\tmpelzujctgwandb-media\\\\c582ozu8.table.json'\n",
      "output.shape=torch.Size([2833, 8])\n",
      "[Errno 2] No such file or directory: 'C:\\\\Users\\\\Nick\\\\AppData\\\\Local\\\\Temp\\\\tmpelzujctgwandb-media\\\\og4n8vjt.table.json'\n"
     ]
    },
    {
     "name": "stderr",
     "output_type": "stream",
     "text": [
      " 12%|█▏        | 30/250 [19:12<2:11:42, 35.92s/it]"
     ]
    },
    {
     "name": "stdout",
     "output_type": "stream",
     "text": [
      "output.shape=torch.Size([2423, 8])\n",
      "[Errno 2] No such file or directory: 'C:\\\\Users\\\\Nick\\\\AppData\\\\Local\\\\Temp\\\\tmpelzujctgwandb-media\\\\fmnh3myb.table.json'\n",
      "output.shape=torch.Size([2833, 8])\n",
      "[Errno 2] No such file or directory: 'C:\\\\Users\\\\Nick\\\\AppData\\\\Local\\\\Temp\\\\tmpelzujctgwandb-media\\\\zw9lql1f.table.json'\n"
     ]
    },
    {
     "name": "stderr",
     "output_type": "stream",
     "text": [
      " 13%|█▎        | 33/250 [21:07<2:09:42, 35.86s/it]"
     ]
    },
    {
     "name": "stdout",
     "output_type": "stream",
     "text": [
      "output.shape=torch.Size([2423, 8])\n",
      "[Errno 2] No such file or directory: 'C:\\\\Users\\\\Nick\\\\AppData\\\\Local\\\\Temp\\\\tmpelzujctgwandb-media\\\\99p5eonp.table.json'\n",
      "output.shape=torch.Size([2833, 8])\n",
      "[Errno 2] No such file or directory: 'C:\\\\Users\\\\Nick\\\\AppData\\\\Local\\\\Temp\\\\tmpelzujctgwandb-media\\\\8vtum41w.table.json'\n"
     ]
    },
    {
     "name": "stderr",
     "output_type": "stream",
     "text": [
      " 14%|█▍        | 36/250 [23:03<2:08:58, 36.16s/it]"
     ]
    },
    {
     "name": "stdout",
     "output_type": "stream",
     "text": [
      "output.shape=torch.Size([2423, 8])\n",
      "[Errno 2] No such file or directory: 'C:\\\\Users\\\\Nick\\\\AppData\\\\Local\\\\Temp\\\\tmpelzujctgwandb-media\\\\3u95ahrf.table.json'\n",
      "output.shape=torch.Size([2833, 8])\n",
      "[Errno 2] No such file or directory: 'C:\\\\Users\\\\Nick\\\\AppData\\\\Local\\\\Temp\\\\tmpelzujctgwandb-media\\\\uzjg9jct.table.json'\n"
     ]
    },
    {
     "name": "stderr",
     "output_type": "stream",
     "text": [
      " 16%|█▌        | 39/250 [24:58<2:06:24, 35.94s/it]"
     ]
    },
    {
     "name": "stdout",
     "output_type": "stream",
     "text": [
      "output.shape=torch.Size([2423, 8])\n",
      "[Errno 2] No such file or directory: 'C:\\\\Users\\\\Nick\\\\AppData\\\\Local\\\\Temp\\\\tmpelzujctgwandb-media\\\\t8ee5yvb.table.json'\n",
      "output.shape=torch.Size([2833, 8])\n",
      "[Errno 2] No such file or directory: 'C:\\\\Users\\\\Nick\\\\AppData\\\\Local\\\\Temp\\\\tmpelzujctgwandb-media\\\\bnpm9hxv.table.json'\n"
     ]
    },
    {
     "name": "stderr",
     "output_type": "stream",
     "text": [
      " 17%|█▋        | 42/250 [26:53<2:04:27, 35.90s/it]"
     ]
    },
    {
     "name": "stdout",
     "output_type": "stream",
     "text": [
      "output.shape=torch.Size([2423, 8])\n",
      "[Errno 2] No such file or directory: 'C:\\\\Users\\\\Nick\\\\AppData\\\\Local\\\\Temp\\\\tmpelzujctgwandb-media\\\\jy0ds6sl.table.json'\n",
      "output.shape=torch.Size([2833, 8])\n",
      "[Errno 2] No such file or directory: 'C:\\\\Users\\\\Nick\\\\AppData\\\\Local\\\\Temp\\\\tmpelzujctgwandb-media\\\\dhhs7f2e.table.json'\n"
     ]
    },
    {
     "name": "stderr",
     "output_type": "stream",
     "text": [
      " 18%|█▊        | 45/250 [28:49<2:03:16, 36.08s/it]"
     ]
    },
    {
     "name": "stdout",
     "output_type": "stream",
     "text": [
      "output.shape=torch.Size([2423, 8])\n",
      "[Errno 2] No such file or directory: 'C:\\\\Users\\\\Nick\\\\AppData\\\\Local\\\\Temp\\\\tmpelzujctgwandb-media\\\\d5f274dj.table.json'\n",
      "output.shape=torch.Size([2833, 8])\n",
      "[Errno 2] No such file or directory: 'C:\\\\Users\\\\Nick\\\\AppData\\\\Local\\\\Temp\\\\tmpelzujctgwandb-media\\\\31kdoonm.table.json'\n"
     ]
    },
    {
     "name": "stderr",
     "output_type": "stream",
     "text": [
      " 19%|█▉        | 48/250 [30:44<2:00:52, 35.90s/it]"
     ]
    },
    {
     "name": "stdout",
     "output_type": "stream",
     "text": [
      "output.shape=torch.Size([2423, 8])\n",
      "[Errno 2] No such file or directory: 'C:\\\\Users\\\\Nick\\\\AppData\\\\Local\\\\Temp\\\\tmpelzujctgwandb-media\\\\zftwoe16.table.json'\n",
      "output.shape=torch.Size([2833, 8])\n",
      "[Errno 2] No such file or directory: 'C:\\\\Users\\\\Nick\\\\AppData\\\\Local\\\\Temp\\\\tmpelzujctgwandb-media\\\\sc58hzdm.table.json'\n"
     ]
    },
    {
     "name": "stderr",
     "output_type": "stream",
     "text": [
      " 20%|██        | 51/250 [32:39<1:58:47, 35.82s/it]"
     ]
    },
    {
     "name": "stdout",
     "output_type": "stream",
     "text": [
      "output.shape=torch.Size([2423, 8])\n",
      "[Errno 2] No such file or directory: 'C:\\\\Users\\\\Nick\\\\AppData\\\\Local\\\\Temp\\\\tmpelzujctgwandb-media\\\\m7iy4syp.table.json'\n",
      "output.shape=torch.Size([2833, 8])\n",
      "[Errno 2] No such file or directory: 'C:\\\\Users\\\\Nick\\\\AppData\\\\Local\\\\Temp\\\\tmpelzujctgwandb-media\\\\rmiz35oc.table.json'\n"
     ]
    },
    {
     "name": "stderr",
     "output_type": "stream",
     "text": [
      " 22%|██▏       | 54/250 [34:34<1:57:08, 35.86s/it]"
     ]
    },
    {
     "name": "stdout",
     "output_type": "stream",
     "text": [
      "output.shape=torch.Size([2423, 8])\n",
      "[Errno 2] No such file or directory: 'C:\\\\Users\\\\Nick\\\\AppData\\\\Local\\\\Temp\\\\tmpelzujctgwandb-media\\\\ttesx6sf.table.json'\n",
      "output.shape=torch.Size([2833, 8])\n",
      "[Errno 2] No such file or directory: 'C:\\\\Users\\\\Nick\\\\AppData\\\\Local\\\\Temp\\\\tmpelzujctgwandb-media\\\\kjhn1pwz.table.json'\n"
     ]
    },
    {
     "name": "stderr",
     "output_type": "stream",
     "text": [
      " 23%|██▎       | 57/250 [36:29<1:55:23, 35.87s/it]"
     ]
    },
    {
     "name": "stdout",
     "output_type": "stream",
     "text": [
      "output.shape=torch.Size([2423, 8])\n",
      "[Errno 2] No such file or directory: 'C:\\\\Users\\\\Nick\\\\AppData\\\\Local\\\\Temp\\\\tmpelzujctgwandb-media\\\\hn3g0530.table.json'\n",
      "output.shape=torch.Size([2833, 8])\n",
      "[Errno 2] No such file or directory: 'C:\\\\Users\\\\Nick\\\\AppData\\\\Local\\\\Temp\\\\tmpelzujctgwandb-media\\\\xjxj0ux0.table.json'\n"
     ]
    },
    {
     "name": "stderr",
     "output_type": "stream",
     "text": [
      " 24%|██▍       | 60/250 [38:25<1:54:05, 36.03s/it]"
     ]
    },
    {
     "name": "stdout",
     "output_type": "stream",
     "text": [
      "output.shape=torch.Size([2423, 8])\n",
      "[Errno 2] No such file or directory: 'C:\\\\Users\\\\Nick\\\\AppData\\\\Local\\\\Temp\\\\tmpelzujctgwandb-media\\\\to91h0oh.table.json'\n",
      "output.shape=torch.Size([2833, 8])\n",
      "[Errno 2] No such file or directory: 'C:\\\\Users\\\\Nick\\\\AppData\\\\Local\\\\Temp\\\\tmpelzujctgwandb-media\\\\uzhhq8bg.table.json'\n"
     ]
    },
    {
     "name": "stderr",
     "output_type": "stream",
     "text": [
      " 25%|██▌       | 63/250 [40:20<1:52:20, 36.05s/it]"
     ]
    },
    {
     "name": "stdout",
     "output_type": "stream",
     "text": [
      "output.shape=torch.Size([2423, 8])\n",
      "[Errno 2] No such file or directory: 'C:\\\\Users\\\\Nick\\\\AppData\\\\Local\\\\Temp\\\\tmpelzujctgwandb-media\\\\u9vdxm6x.table.json'\n",
      "output.shape=torch.Size([2833, 8])\n",
      "[Errno 2] No such file or directory: 'C:\\\\Users\\\\Nick\\\\AppData\\\\Local\\\\Temp\\\\tmpelzujctgwandb-media\\\\0rj5wrfv.table.json'\n"
     ]
    },
    {
     "name": "stderr",
     "output_type": "stream",
     "text": [
      " 26%|██▋       | 66/250 [42:16<1:50:20, 35.98s/it]"
     ]
    },
    {
     "name": "stdout",
     "output_type": "stream",
     "text": [
      "output.shape=torch.Size([2423, 8])\n",
      "[Errno 2] No such file or directory: 'C:\\\\Users\\\\Nick\\\\AppData\\\\Local\\\\Temp\\\\tmpelzujctgwandb-media\\\\s15aok26.table.json'\n",
      "output.shape=torch.Size([2833, 8])\n",
      "[Errno 2] No such file or directory: 'C:\\\\Users\\\\Nick\\\\AppData\\\\Local\\\\Temp\\\\tmpelzujctgwandb-media\\\\c5awa6ur.table.json'\n"
     ]
    },
    {
     "name": "stderr",
     "output_type": "stream",
     "text": [
      " 28%|██▊       | 69/250 [44:11<1:48:26, 35.95s/it]"
     ]
    },
    {
     "name": "stdout",
     "output_type": "stream",
     "text": [
      "output.shape=torch.Size([2423, 8])\n",
      "[Errno 2] No such file or directory: 'C:\\\\Users\\\\Nick\\\\AppData\\\\Local\\\\Temp\\\\tmpelzujctgwandb-media\\\\9mpm83ve.table.json'\n",
      "output.shape=torch.Size([2833, 8])\n",
      "[Errno 2] No such file or directory: 'C:\\\\Users\\\\Nick\\\\AppData\\\\Local\\\\Temp\\\\tmpelzujctgwandb-media\\\\6ge6qpob.table.json'\n"
     ]
    },
    {
     "name": "stderr",
     "output_type": "stream",
     "text": [
      " 29%|██▉       | 72/250 [46:06<1:46:24, 35.87s/it]"
     ]
    },
    {
     "name": "stdout",
     "output_type": "stream",
     "text": [
      "output.shape=torch.Size([2423, 8])\n",
      "[Errno 2] No such file or directory: 'C:\\\\Users\\\\Nick\\\\AppData\\\\Local\\\\Temp\\\\tmpelzujctgwandb-media\\\\gzxh200n.table.json'\n",
      "output.shape=torch.Size([2833, 8])\n",
      "[Errno 2] No such file or directory: 'C:\\\\Users\\\\Nick\\\\AppData\\\\Local\\\\Temp\\\\tmpelzujctgwandb-media\\\\zoeftcun.table.json'\n"
     ]
    },
    {
     "name": "stderr",
     "output_type": "stream",
     "text": [
      " 30%|███       | 75/250 [48:01<1:44:44, 35.91s/it]"
     ]
    },
    {
     "name": "stdout",
     "output_type": "stream",
     "text": [
      "output.shape=torch.Size([2423, 8])\n",
      "[Errno 2] No such file or directory: 'C:\\\\Users\\\\Nick\\\\AppData\\\\Local\\\\Temp\\\\tmpelzujctgwandb-media\\\\2a19w75a.table.json'\n",
      "output.shape=torch.Size([2833, 8])\n",
      "[Errno 2] No such file or directory: 'C:\\\\Users\\\\Nick\\\\AppData\\\\Local\\\\Temp\\\\tmpelzujctgwandb-media\\\\y9vaodya.table.json'\n"
     ]
    },
    {
     "name": "stderr",
     "output_type": "stream",
     "text": [
      " 31%|███       | 78/250 [49:57<1:43:13, 36.01s/it]"
     ]
    },
    {
     "name": "stdout",
     "output_type": "stream",
     "text": [
      "output.shape=torch.Size([2423, 8])\n",
      "[Errno 2] No such file or directory: 'C:\\\\Users\\\\Nick\\\\AppData\\\\Local\\\\Temp\\\\tmpelzujctgwandb-media\\\\f6sfl7a0.table.json'\n",
      "output.shape=torch.Size([2833, 8])\n",
      "[Errno 2] No such file or directory: 'C:\\\\Users\\\\Nick\\\\AppData\\\\Local\\\\Temp\\\\tmpelzujctgwandb-media\\\\1h2mj0jc.table.json'\n"
     ]
    },
    {
     "name": "stderr",
     "output_type": "stream",
     "text": [
      " 32%|███▏      | 81/250 [51:52<1:41:21, 35.99s/it]"
     ]
    },
    {
     "name": "stdout",
     "output_type": "stream",
     "text": [
      "output.shape=torch.Size([2423, 8])\n",
      "[Errno 2] No such file or directory: 'C:\\\\Users\\\\Nick\\\\AppData\\\\Local\\\\Temp\\\\tmpelzujctgwandb-media\\\\6wdsqs9b.table.json'\n",
      "output.shape=torch.Size([2833, 8])\n",
      "[Errno 2] No such file or directory: 'C:\\\\Users\\\\Nick\\\\AppData\\\\Local\\\\Temp\\\\tmpelzujctgwandb-media\\\\sld71esi.table.json'\n"
     ]
    },
    {
     "name": "stderr",
     "output_type": "stream",
     "text": [
      " 34%|███▎      | 84/250 [53:48<1:39:26, 35.95s/it]"
     ]
    },
    {
     "name": "stdout",
     "output_type": "stream",
     "text": [
      "output.shape=torch.Size([2423, 8])\n",
      "[Errno 2] No such file or directory: 'C:\\\\Users\\\\Nick\\\\AppData\\\\Local\\\\Temp\\\\tmpelzujctgwandb-media\\\\tnhkl9mu.table.json'\n",
      "output.shape=torch.Size([2833, 8])\n",
      "[Errno 2] No such file or directory: 'C:\\\\Users\\\\Nick\\\\AppData\\\\Local\\\\Temp\\\\tmpelzujctgwandb-media\\\\vmez3w3j.table.json'\n"
     ]
    },
    {
     "name": "stderr",
     "output_type": "stream",
     "text": [
      " 35%|███▍      | 87/250 [55:42<1:37:29, 35.89s/it]"
     ]
    },
    {
     "name": "stdout",
     "output_type": "stream",
     "text": [
      "output.shape=torch.Size([2423, 8])\n",
      "[Errno 2] No such file or directory: 'C:\\\\Users\\\\Nick\\\\AppData\\\\Local\\\\Temp\\\\tmpelzujctgwandb-media\\\\fb1p6gab.table.json'\n",
      "output.shape=torch.Size([2833, 8])\n",
      "[Errno 2] No such file or directory: 'C:\\\\Users\\\\Nick\\\\AppData\\\\Local\\\\Temp\\\\tmpelzujctgwandb-media\\\\4cov7xmy.table.json'\n"
     ]
    },
    {
     "name": "stderr",
     "output_type": "stream",
     "text": [
      " 36%|███▌      | 90/250 [57:38<1:35:41, 35.89s/it]"
     ]
    },
    {
     "name": "stdout",
     "output_type": "stream",
     "text": [
      "output.shape=torch.Size([2423, 8])\n",
      "[Errno 2] No such file or directory: 'C:\\\\Users\\\\Nick\\\\AppData\\\\Local\\\\Temp\\\\tmpelzujctgwandb-media\\\\a4stxrs4.table.json'\n",
      "output.shape=torch.Size([2833, 8])\n",
      "[Errno 2] No such file or directory: 'C:\\\\Users\\\\Nick\\\\AppData\\\\Local\\\\Temp\\\\tmpelzujctgwandb-media\\\\y8rxp71i.table.json'\n"
     ]
    },
    {
     "name": "stderr",
     "output_type": "stream",
     "text": [
      " 37%|███▋      | 93/250 [59:32<1:33:48, 35.85s/it]"
     ]
    },
    {
     "name": "stdout",
     "output_type": "stream",
     "text": [
      "output.shape=torch.Size([2423, 8])\n",
      "[Errno 2] No such file or directory: 'C:\\\\Users\\\\Nick\\\\AppData\\\\Local\\\\Temp\\\\tmpelzujctgwandb-media\\\\h2t5j8kg.table.json'\n",
      "output.shape=torch.Size([2833, 8])\n",
      "[Errno 2] No such file or directory: 'C:\\\\Users\\\\Nick\\\\AppData\\\\Local\\\\Temp\\\\tmpelzujctgwandb-media\\\\mk3k3fr7.table.json'\n"
     ]
    },
    {
     "name": "stderr",
     "output_type": "stream",
     "text": [
      " 38%|███▊      | 96/250 [1:01:27<1:31:55, 35.82s/it]"
     ]
    },
    {
     "name": "stdout",
     "output_type": "stream",
     "text": [
      "output.shape=torch.Size([2423, 8])\n",
      "[Errno 2] No such file or directory: 'C:\\\\Users\\\\Nick\\\\AppData\\\\Local\\\\Temp\\\\tmpelzujctgwandb-media\\\\7yg6ubh4.table.json'\n",
      "output.shape=torch.Size([2833, 8])\n",
      "[Errno 2] No such file or directory: 'C:\\\\Users\\\\Nick\\\\AppData\\\\Local\\\\Temp\\\\tmpelzujctgwandb-media\\\\6do59u1o.table.json'\n"
     ]
    },
    {
     "name": "stderr",
     "output_type": "stream",
     "text": [
      " 40%|███▉      | 99/250 [1:03:23<1:30:18, 35.89s/it]"
     ]
    },
    {
     "name": "stdout",
     "output_type": "stream",
     "text": [
      "output.shape=torch.Size([2423, 8])\n",
      "[Errno 2] No such file or directory: 'C:\\\\Users\\\\Nick\\\\AppData\\\\Local\\\\Temp\\\\tmpelzujctgwandb-media\\\\pokz3pax.table.json'\n",
      "output.shape=torch.Size([2833, 8])\n",
      "[Errno 2] No such file or directory: 'C:\\\\Users\\\\Nick\\\\AppData\\\\Local\\\\Temp\\\\tmpelzujctgwandb-media\\\\y8vnrk5f.table.json'\n"
     ]
    },
    {
     "name": "stderr",
     "output_type": "stream",
     "text": [
      " 41%|████      | 102/250 [1:05:18<1:28:56, 36.06s/it]"
     ]
    },
    {
     "name": "stdout",
     "output_type": "stream",
     "text": [
      "output.shape=torch.Size([2423, 8])\n",
      "[Errno 2] No such file or directory: 'C:\\\\Users\\\\Nick\\\\AppData\\\\Local\\\\Temp\\\\tmpelzujctgwandb-media\\\\em80aksl.table.json'\n",
      "output.shape=torch.Size([2833, 8])\n",
      "[Errno 2] No such file or directory: 'C:\\\\Users\\\\Nick\\\\AppData\\\\Local\\\\Temp\\\\tmpelzujctgwandb-media\\\\vdp58k4b.table.json'\n"
     ]
    },
    {
     "name": "stderr",
     "output_type": "stream",
     "text": [
      " 42%|████▏     | 105/250 [1:07:14<1:26:57, 35.99s/it]"
     ]
    },
    {
     "name": "stdout",
     "output_type": "stream",
     "text": [
      "output.shape=torch.Size([2423, 8])\n",
      "[Errno 2] No such file or directory: 'C:\\\\Users\\\\Nick\\\\AppData\\\\Local\\\\Temp\\\\tmpelzujctgwandb-media\\\\ts41voim.table.json'\n",
      "output.shape=torch.Size([2833, 8])\n",
      "[Errno 2] No such file or directory: 'C:\\\\Users\\\\Nick\\\\AppData\\\\Local\\\\Temp\\\\tmpelzujctgwandb-media\\\\093uogow.table.json'\n"
     ]
    },
    {
     "name": "stderr",
     "output_type": "stream",
     "text": [
      " 43%|████▎     | 108/250 [1:09:09<1:25:02, 35.94s/it]"
     ]
    },
    {
     "name": "stdout",
     "output_type": "stream",
     "text": [
      "output.shape=torch.Size([2423, 8])\n",
      "[Errno 2] No such file or directory: 'C:\\\\Users\\\\Nick\\\\AppData\\\\Local\\\\Temp\\\\tmpelzujctgwandb-media\\\\5pnxwuo4.table.json'\n",
      "output.shape=torch.Size([2833, 8])\n",
      "[Errno 2] No such file or directory: 'C:\\\\Users\\\\Nick\\\\AppData\\\\Local\\\\Temp\\\\tmpelzujctgwandb-media\\\\o4lcn2xd.table.json'\n"
     ]
    },
    {
     "name": "stderr",
     "output_type": "stream",
     "text": [
      " 44%|████▍     | 111/250 [1:11:04<1:23:12, 35.92s/it]"
     ]
    },
    {
     "name": "stdout",
     "output_type": "stream",
     "text": [
      "output.shape=torch.Size([2423, 8])\n",
      "[Errno 2] No such file or directory: 'C:\\\\Users\\\\Nick\\\\AppData\\\\Local\\\\Temp\\\\tmpelzujctgwandb-media\\\\rcdv9vfm.table.json'\n",
      "output.shape=torch.Size([2833, 8])\n",
      "[Errno 2] No such file or directory: 'C:\\\\Users\\\\Nick\\\\AppData\\\\Local\\\\Temp\\\\tmpelzujctgwandb-media\\\\e4wrbtor.table.json'\n"
     ]
    },
    {
     "name": "stderr",
     "output_type": "stream",
     "text": [
      " 46%|████▌     | 114/250 [1:13:00<1:21:40, 36.04s/it]"
     ]
    },
    {
     "name": "stdout",
     "output_type": "stream",
     "text": [
      "output.shape=torch.Size([2423, 8])\n",
      "[Errno 2] No such file or directory: 'C:\\\\Users\\\\Nick\\\\AppData\\\\Local\\\\Temp\\\\tmpelzujctgwandb-media\\\\a1xmmd5q.table.json'\n",
      "output.shape=torch.Size([2833, 8])\n",
      "[Errno 2] No such file or directory: 'C:\\\\Users\\\\Nick\\\\AppData\\\\Local\\\\Temp\\\\tmpelzujctgwandb-media\\\\kjckman3.table.json'\n"
     ]
    },
    {
     "name": "stderr",
     "output_type": "stream",
     "text": [
      " 47%|████▋     | 117/250 [1:14:55<1:19:34, 35.90s/it]"
     ]
    },
    {
     "name": "stdout",
     "output_type": "stream",
     "text": [
      "output.shape=torch.Size([2423, 8])\n",
      "[Errno 2] No such file or directory: 'C:\\\\Users\\\\Nick\\\\AppData\\\\Local\\\\Temp\\\\tmpelzujctgwandb-media\\\\iiutqydy.table.json'\n",
      "output.shape=torch.Size([2833, 8])\n",
      "[Errno 2] No such file or directory: 'C:\\\\Users\\\\Nick\\\\AppData\\\\Local\\\\Temp\\\\tmpelzujctgwandb-media\\\\tlmfdork.table.json'\n"
     ]
    },
    {
     "name": "stderr",
     "output_type": "stream",
     "text": [
      " 48%|████▊     | 120/250 [1:16:49<1:16:57, 35.52s/it]"
     ]
    },
    {
     "name": "stdout",
     "output_type": "stream",
     "text": [
      "output.shape=torch.Size([2423, 8])\n",
      "[Errno 2] No such file or directory: 'C:\\\\Users\\\\Nick\\\\AppData\\\\Local\\\\Temp\\\\tmpelzujctgwandb-media\\\\byuhty3a.table.json'\n",
      "output.shape=torch.Size([2833, 8])\n",
      "[Errno 2] No such file or directory: 'C:\\\\Users\\\\Nick\\\\AppData\\\\Local\\\\Temp\\\\tmpelzujctgwandb-media\\\\64zcu6cd.table.json'\n"
     ]
    },
    {
     "name": "stderr",
     "output_type": "stream",
     "text": [
      " 49%|████▉     | 123/250 [1:18:48<1:17:00, 36.38s/it]"
     ]
    },
    {
     "name": "stdout",
     "output_type": "stream",
     "text": [
      "output.shape=torch.Size([2423, 8])\n",
      "[Errno 2] No such file or directory: 'C:\\\\Users\\\\Nick\\\\AppData\\\\Local\\\\Temp\\\\tmpelzujctgwandb-media\\\\va6n25pr.table.json'\n",
      "output.shape=torch.Size([2833, 8])\n",
      "[Errno 2] No such file or directory: 'C:\\\\Users\\\\Nick\\\\AppData\\\\Local\\\\Temp\\\\tmpelzujctgwandb-media\\\\suk7p1ds.table.json'\n"
     ]
    },
    {
     "name": "stderr",
     "output_type": "stream",
     "text": [
      " 50%|█████     | 126/250 [1:20:43<1:14:38, 36.11s/it]"
     ]
    },
    {
     "name": "stdout",
     "output_type": "stream",
     "text": [
      "output.shape=torch.Size([2423, 8])\n",
      "[Errno 2] No such file or directory: 'C:\\\\Users\\\\Nick\\\\AppData\\\\Local\\\\Temp\\\\tmpelzujctgwandb-media\\\\7x7euql1.table.json'\n",
      "output.shape=torch.Size([2833, 8])\n",
      "[Errno 2] No such file or directory: 'C:\\\\Users\\\\Nick\\\\AppData\\\\Local\\\\Temp\\\\tmpelzujctgwandb-media\\\\sudxfg6v.table.json'\n"
     ]
    },
    {
     "name": "stderr",
     "output_type": "stream",
     "text": [
      " 52%|█████▏    | 129/250 [1:22:38<1:12:33, 35.98s/it]"
     ]
    },
    {
     "name": "stdout",
     "output_type": "stream",
     "text": [
      "output.shape=torch.Size([2423, 8])\n",
      "[Errno 2] No such file or directory: 'C:\\\\Users\\\\Nick\\\\AppData\\\\Local\\\\Temp\\\\tmpelzujctgwandb-media\\\\smw1v8jg.table.json'\n",
      "output.shape=torch.Size([2833, 8])\n",
      "[Errno 2] No such file or directory: 'C:\\\\Users\\\\Nick\\\\AppData\\\\Local\\\\Temp\\\\tmpelzujctgwandb-media\\\\g1le7d57.table.json'\n"
     ]
    },
    {
     "name": "stderr",
     "output_type": "stream",
     "text": [
      " 53%|█████▎    | 132/250 [1:24:33<1:10:37, 35.91s/it]"
     ]
    },
    {
     "name": "stdout",
     "output_type": "stream",
     "text": [
      "output.shape=torch.Size([2423, 8])\n",
      "[Errno 2] No such file or directory: 'C:\\\\Users\\\\Nick\\\\AppData\\\\Local\\\\Temp\\\\tmpelzujctgwandb-media\\\\g8tn0783.table.json'\n",
      "output.shape=torch.Size([2833, 8])\n",
      "[Errno 2] No such file or directory: 'C:\\\\Users\\\\Nick\\\\AppData\\\\Local\\\\Temp\\\\tmpelzujctgwandb-media\\\\oamygpmg.table.json'\n"
     ]
    },
    {
     "name": "stderr",
     "output_type": "stream",
     "text": [
      " 54%|█████▍    | 135/250 [1:26:28<1:08:45, 35.87s/it]"
     ]
    },
    {
     "name": "stdout",
     "output_type": "stream",
     "text": [
      "output.shape=torch.Size([2423, 8])\n",
      "[Errno 2] No such file or directory: 'C:\\\\Users\\\\Nick\\\\AppData\\\\Local\\\\Temp\\\\tmpelzujctgwandb-media\\\\rtnbsykr.table.json'\n",
      "output.shape=torch.Size([2833, 8])\n",
      "[Errno 2] No such file or directory: 'C:\\\\Users\\\\Nick\\\\AppData\\\\Local\\\\Temp\\\\tmpelzujctgwandb-media\\\\ezbe0g9a.table.json'\n"
     ]
    },
    {
     "name": "stderr",
     "output_type": "stream",
     "text": [
      " 55%|█████▌    | 138/250 [1:28:23<1:06:58, 35.88s/it]"
     ]
    },
    {
     "name": "stdout",
     "output_type": "stream",
     "text": [
      "output.shape=torch.Size([2423, 8])\n",
      "[Errno 2] No such file or directory: 'C:\\\\Users\\\\Nick\\\\AppData\\\\Local\\\\Temp\\\\tmpelzujctgwandb-media\\\\wp2gjgu7.table.json'\n",
      "output.shape=torch.Size([2833, 8])\n",
      "[Errno 2] No such file or directory: 'C:\\\\Users\\\\Nick\\\\AppData\\\\Local\\\\Temp\\\\tmpelzujctgwandb-media\\\\feciltty.table.json'\n"
     ]
    },
    {
     "name": "stderr",
     "output_type": "stream",
     "text": [
      " 56%|█████▋    | 141/250 [1:30:19<1:05:46, 36.20s/it]"
     ]
    },
    {
     "name": "stdout",
     "output_type": "stream",
     "text": [
      "output.shape=torch.Size([2423, 8])\n",
      "[Errno 2] No such file or directory: 'C:\\\\Users\\\\Nick\\\\AppData\\\\Local\\\\Temp\\\\tmpelzujctgwandb-media\\\\e768ap0f.table.json'\n",
      "output.shape=torch.Size([2833, 8])\n",
      "[Errno 2] No such file or directory: 'C:\\\\Users\\\\Nick\\\\AppData\\\\Local\\\\Temp\\\\tmpelzujctgwandb-media\\\\6l17i80q.table.json'\n"
     ]
    },
    {
     "name": "stderr",
     "output_type": "stream",
     "text": [
      " 58%|█████▊    | 144/250 [1:32:15<1:03:42, 36.06s/it]"
     ]
    },
    {
     "name": "stdout",
     "output_type": "stream",
     "text": [
      "output.shape=torch.Size([2423, 8])\n",
      "[Errno 2] No such file or directory: 'C:\\\\Users\\\\Nick\\\\AppData\\\\Local\\\\Temp\\\\tmpelzujctgwandb-media\\\\4lu3d775.table.json'\n",
      "output.shape=torch.Size([2833, 8])\n",
      "[Errno 2] No such file or directory: 'C:\\\\Users\\\\Nick\\\\AppData\\\\Local\\\\Temp\\\\tmpelzujctgwandb-media\\\\goulcsqt.table.json'\n"
     ]
    },
    {
     "name": "stderr",
     "output_type": "stream",
     "text": [
      " 59%|█████▉    | 147/250 [1:34:10<1:01:42, 35.94s/it]"
     ]
    },
    {
     "name": "stdout",
     "output_type": "stream",
     "text": [
      "output.shape=torch.Size([2423, 8])\n",
      "[Errno 2] No such file or directory: 'C:\\\\Users\\\\Nick\\\\AppData\\\\Local\\\\Temp\\\\tmpelzujctgwandb-media\\\\bnsf6nr9.table.json'\n",
      "output.shape=torch.Size([2833, 8])\n",
      "[Errno 2] No such file or directory: 'C:\\\\Users\\\\Nick\\\\AppData\\\\Local\\\\Temp\\\\tmpelzujctgwandb-media\\\\tiici4v9.table.json'\n"
     ]
    },
    {
     "name": "stderr",
     "output_type": "stream",
     "text": [
      " 60%|██████    | 150/250 [1:36:05<59:52, 35.92s/it]  "
     ]
    },
    {
     "name": "stdout",
     "output_type": "stream",
     "text": [
      "output.shape=torch.Size([2423, 8])\n",
      "[Errno 2] No such file or directory: 'C:\\\\Users\\\\Nick\\\\AppData\\\\Local\\\\Temp\\\\tmpelzujctgwandb-media\\\\l3qmlkn2.table.json'\n",
      "output.shape=torch.Size([2833, 8])\n",
      "[Errno 2] No such file or directory: 'C:\\\\Users\\\\Nick\\\\AppData\\\\Local\\\\Temp\\\\tmpelzujctgwandb-media\\\\wr5afthl.table.json'\n"
     ]
    },
    {
     "name": "stderr",
     "output_type": "stream",
     "text": [
      " 61%|██████    | 153/250 [1:38:01<58:08, 35.96s/it]  "
     ]
    },
    {
     "name": "stdout",
     "output_type": "stream",
     "text": [
      "output.shape=torch.Size([2423, 8])\n",
      "[Errno 2] No such file or directory: 'C:\\\\Users\\\\Nick\\\\AppData\\\\Local\\\\Temp\\\\tmpelzujctgwandb-media\\\\nv46zjq0.table.json'\n",
      "output.shape=torch.Size([2833, 8])\n",
      "[Errno 2] No such file or directory: 'C:\\\\Users\\\\Nick\\\\AppData\\\\Local\\\\Temp\\\\tmpelzujctgwandb-media\\\\4kkwotjm.table.json'\n"
     ]
    },
    {
     "name": "stderr",
     "output_type": "stream",
     "text": [
      " 62%|██████▏   | 156/250 [1:39:55<56:11, 35.87s/it]  "
     ]
    },
    {
     "name": "stdout",
     "output_type": "stream",
     "text": [
      "output.shape=torch.Size([2423, 8])\n",
      "[Errno 2] No such file or directory: 'C:\\\\Users\\\\Nick\\\\AppData\\\\Local\\\\Temp\\\\tmpelzujctgwandb-media\\\\z98kl1gj.table.json'\n",
      "output.shape=torch.Size([2833, 8])\n",
      "[Errno 2] No such file or directory: 'C:\\\\Users\\\\Nick\\\\AppData\\\\Local\\\\Temp\\\\tmpelzujctgwandb-media\\\\qjk5v4e3.table.json'\n"
     ]
    },
    {
     "name": "stderr",
     "output_type": "stream",
     "text": [
      " 64%|██████▎   | 159/250 [1:41:51<54:24, 35.88s/it]  "
     ]
    },
    {
     "name": "stdout",
     "output_type": "stream",
     "text": [
      "output.shape=torch.Size([2423, 8])\n",
      "[Errno 2] No such file or directory: 'C:\\\\Users\\\\Nick\\\\AppData\\\\Local\\\\Temp\\\\tmpelzujctgwandb-media\\\\k1hkkcg6.table.json'\n",
      "output.shape=torch.Size([2833, 8])\n",
      "[Errno 2] No such file or directory: 'C:\\\\Users\\\\Nick\\\\AppData\\\\Local\\\\Temp\\\\tmpelzujctgwandb-media\\\\848xcjvt.table.json'\n"
     ]
    },
    {
     "name": "stderr",
     "output_type": "stream",
     "text": [
      " 65%|██████▍   | 162/250 [1:43:48<53:08, 36.23s/it]  "
     ]
    },
    {
     "name": "stdout",
     "output_type": "stream",
     "text": [
      "output.shape=torch.Size([2423, 8])\n",
      "[Errno 2] No such file or directory: 'C:\\\\Users\\\\Nick\\\\AppData\\\\Local\\\\Temp\\\\tmpelzujctgwandb-media\\\\meppdpok.table.json'\n",
      "output.shape=torch.Size([2833, 8])\n",
      "[Errno 2] No such file or directory: 'C:\\\\Users\\\\Nick\\\\AppData\\\\Local\\\\Temp\\\\tmpelzujctgwandb-media\\\\wdiu9m89.table.json'\n"
     ]
    },
    {
     "name": "stderr",
     "output_type": "stream",
     "text": [
      " 66%|██████▌   | 165/250 [1:45:47<51:47, 36.56s/it]  "
     ]
    },
    {
     "name": "stdout",
     "output_type": "stream",
     "text": [
      "output.shape=torch.Size([2423, 8])\n",
      "[Errno 2] No such file or directory: 'C:\\\\Users\\\\Nick\\\\AppData\\\\Local\\\\Temp\\\\tmpelzujctgwandb-media\\\\xorj1c9a.table.json'\n",
      "output.shape=torch.Size([2833, 8])\n",
      "[Errno 2] No such file or directory: 'C:\\\\Users\\\\Nick\\\\AppData\\\\Local\\\\Temp\\\\tmpelzujctgwandb-media\\\\38jbx0h4.table.json'\n"
     ]
    },
    {
     "name": "stderr",
     "output_type": "stream",
     "text": [
      " 67%|██████▋   | 168/250 [1:47:42<49:20, 36.10s/it]"
     ]
    },
    {
     "name": "stdout",
     "output_type": "stream",
     "text": [
      "output.shape=torch.Size([2423, 8])\n",
      "[Errno 2] No such file or directory: 'C:\\\\Users\\\\Nick\\\\AppData\\\\Local\\\\Temp\\\\tmpelzujctgwandb-media\\\\h064lvoy.table.json'\n",
      "output.shape=torch.Size([2833, 8])\n",
      "[Errno 2] No such file or directory: 'C:\\\\Users\\\\Nick\\\\AppData\\\\Local\\\\Temp\\\\tmpelzujctgwandb-media\\\\5jx8lpt1.table.json'\n"
     ]
    },
    {
     "name": "stderr",
     "output_type": "stream",
     "text": [
      " 68%|██████▊   | 171/250 [1:49:37<47:20, 35.95s/it]"
     ]
    },
    {
     "name": "stdout",
     "output_type": "stream",
     "text": [
      "output.shape=torch.Size([2423, 8])\n",
      "[Errno 2] No such file or directory: 'C:\\\\Users\\\\Nick\\\\AppData\\\\Local\\\\Temp\\\\tmpelzujctgwandb-media\\\\ifi28b6w.table.json'\n",
      "output.shape=torch.Size([2833, 8])\n",
      "[Errno 2] No such file or directory: 'C:\\\\Users\\\\Nick\\\\AppData\\\\Local\\\\Temp\\\\tmpelzujctgwandb-media\\\\asb0r1wx.table.json'\n"
     ]
    },
    {
     "name": "stderr",
     "output_type": "stream",
     "text": [
      " 70%|██████▉   | 174/250 [1:51:32<45:32, 35.95s/it]"
     ]
    },
    {
     "name": "stdout",
     "output_type": "stream",
     "text": [
      "output.shape=torch.Size([2423, 8])\n",
      "[Errno 2] No such file or directory: 'C:\\\\Users\\\\Nick\\\\AppData\\\\Local\\\\Temp\\\\tmpelzujctgwandb-media\\\\cju5es30.table.json'\n",
      "output.shape=torch.Size([2833, 8])\n",
      "[Errno 2] No such file or directory: 'C:\\\\Users\\\\Nick\\\\AppData\\\\Local\\\\Temp\\\\tmpelzujctgwandb-media\\\\b9nulxfg.table.json'\n"
     ]
    },
    {
     "name": "stderr",
     "output_type": "stream",
     "text": [
      " 71%|███████   | 177/250 [1:53:28<43:52, 36.06s/it]"
     ]
    },
    {
     "name": "stdout",
     "output_type": "stream",
     "text": [
      "output.shape=torch.Size([2423, 8])\n",
      "[Errno 2] No such file or directory: 'C:\\\\Users\\\\Nick\\\\AppData\\\\Local\\\\Temp\\\\tmpelzujctgwandb-media\\\\pfb6a1ao.table.json'\n",
      "output.shape=torch.Size([2833, 8])\n",
      "[Errno 2] No such file or directory: 'C:\\\\Users\\\\Nick\\\\AppData\\\\Local\\\\Temp\\\\tmpelzujctgwandb-media\\\\0683x9es.table.json'\n"
     ]
    },
    {
     "name": "stderr",
     "output_type": "stream",
     "text": [
      " 72%|███████▏  | 180/250 [1:55:23<41:56, 35.95s/it]"
     ]
    },
    {
     "name": "stdout",
     "output_type": "stream",
     "text": [
      "output.shape=torch.Size([2423, 8])\n",
      "[Errno 2] No such file or directory: 'C:\\\\Users\\\\Nick\\\\AppData\\\\Local\\\\Temp\\\\tmpelzujctgwandb-media\\\\vtv0ki19.table.json'\n",
      "output.shape=torch.Size([2833, 8])\n",
      "[Errno 2] No such file or directory: 'C:\\\\Users\\\\Nick\\\\AppData\\\\Local\\\\Temp\\\\tmpelzujctgwandb-media\\\\jrlfy8k1.table.json'\n"
     ]
    },
    {
     "name": "stderr",
     "output_type": "stream",
     "text": [
      " 73%|███████▎  | 183/250 [1:57:18<40:09, 35.96s/it]"
     ]
    },
    {
     "name": "stdout",
     "output_type": "stream",
     "text": [
      "output.shape=torch.Size([2423, 8])\n",
      "[Errno 2] No such file or directory: 'C:\\\\Users\\\\Nick\\\\AppData\\\\Local\\\\Temp\\\\tmpelzujctgwandb-media\\\\9i11s95j.table.json'\n",
      "output.shape=torch.Size([2833, 8])\n",
      "[Errno 2] No such file or directory: 'C:\\\\Users\\\\Nick\\\\AppData\\\\Local\\\\Temp\\\\tmpelzujctgwandb-media\\\\14uk44yt.table.json'\n"
     ]
    },
    {
     "name": "stderr",
     "output_type": "stream",
     "text": [
      " 74%|███████▍  | 186/250 [1:59:14<38:18, 35.92s/it]"
     ]
    },
    {
     "name": "stdout",
     "output_type": "stream",
     "text": [
      "output.shape=torch.Size([2423, 8])\n",
      "[Errno 2] No such file or directory: 'C:\\\\Users\\\\Nick\\\\AppData\\\\Local\\\\Temp\\\\tmpelzujctgwandb-media\\\\syyz7llm.table.json'\n",
      "output.shape=torch.Size([2833, 8])\n",
      "[Errno 2] No such file or directory: 'C:\\\\Users\\\\Nick\\\\AppData\\\\Local\\\\Temp\\\\tmpelzujctgwandb-media\\\\2pfl7l6b.table.json'\n"
     ]
    },
    {
     "name": "stderr",
     "output_type": "stream",
     "text": [
      " 76%|███████▌  | 189/250 [2:01:09<36:31, 35.92s/it]"
     ]
    },
    {
     "name": "stdout",
     "output_type": "stream",
     "text": [
      "output.shape=torch.Size([2423, 8])\n",
      "[Errno 2] No such file or directory: 'C:\\\\Users\\\\Nick\\\\AppData\\\\Local\\\\Temp\\\\tmpelzujctgwandb-media\\\\3d4b3xgz.table.json'\n",
      "output.shape=torch.Size([2833, 8])\n",
      "[Errno 2] No such file or directory: 'C:\\\\Users\\\\Nick\\\\AppData\\\\Local\\\\Temp\\\\tmpelzujctgwandb-media\\\\eqngk0yc.table.json'\n"
     ]
    },
    {
     "name": "stderr",
     "output_type": "stream",
     "text": [
      " 77%|███████▋  | 192/250 [2:03:04<34:37, 35.83s/it]"
     ]
    },
    {
     "name": "stdout",
     "output_type": "stream",
     "text": [
      "output.shape=torch.Size([2423, 8])\n",
      "[Errno 2] No such file or directory: 'C:\\\\Users\\\\Nick\\\\AppData\\\\Local\\\\Temp\\\\tmpelzujctgwandb-media\\\\m989prnj.table.json'\n",
      "output.shape=torch.Size([2833, 8])\n",
      "[Errno 2] No such file or directory: 'C:\\\\Users\\\\Nick\\\\AppData\\\\Local\\\\Temp\\\\tmpelzujctgwandb-media\\\\kjul6cmt.table.json'\n"
     ]
    },
    {
     "name": "stderr",
     "output_type": "stream",
     "text": [
      " 78%|███████▊  | 195/250 [2:04:59<32:51, 35.84s/it]"
     ]
    },
    {
     "name": "stdout",
     "output_type": "stream",
     "text": [
      "output.shape=torch.Size([2423, 8])\n",
      "[Errno 2] No such file or directory: 'C:\\\\Users\\\\Nick\\\\AppData\\\\Local\\\\Temp\\\\tmpelzujctgwandb-media\\\\sbu5wz17.table.json'\n",
      "output.shape=torch.Size([2833, 8])\n",
      "[Errno 2] No such file or directory: 'C:\\\\Users\\\\Nick\\\\AppData\\\\Local\\\\Temp\\\\tmpelzujctgwandb-media\\\\q8285k65.table.json'\n"
     ]
    },
    {
     "name": "stderr",
     "output_type": "stream",
     "text": [
      " 79%|███████▉  | 198/250 [2:06:54<31:06, 35.90s/it]"
     ]
    },
    {
     "name": "stdout",
     "output_type": "stream",
     "text": [
      "output.shape=torch.Size([2423, 8])\n",
      "[Errno 2] No such file or directory: 'C:\\\\Users\\\\Nick\\\\AppData\\\\Local\\\\Temp\\\\tmpelzujctgwandb-media\\\\sf48g5jk.table.json'\n",
      "output.shape=torch.Size([2833, 8])\n",
      "[Errno 2] No such file or directory: 'C:\\\\Users\\\\Nick\\\\AppData\\\\Local\\\\Temp\\\\tmpelzujctgwandb-media\\\\qolog0pi.table.json'\n"
     ]
    },
    {
     "name": "stderr",
     "output_type": "stream",
     "text": [
      " 80%|████████  | 201/250 [2:08:48<29:04, 35.61s/it]"
     ]
    },
    {
     "name": "stdout",
     "output_type": "stream",
     "text": [
      "output.shape=torch.Size([2423, 8])\n",
      "[Errno 2] No such file or directory: 'C:\\\\Users\\\\Nick\\\\AppData\\\\Local\\\\Temp\\\\tmpelzujctgwandb-media\\\\bd5kg47m.table.json'\n",
      "output.shape=torch.Size([2833, 8])\n",
      "[Errno 2] No such file or directory: 'C:\\\\Users\\\\Nick\\\\AppData\\\\Local\\\\Temp\\\\tmpelzujctgwandb-media\\\\8sq9ftmf.table.json'\n"
     ]
    },
    {
     "name": "stderr",
     "output_type": "stream",
     "text": [
      " 82%|████████▏ | 204/250 [2:10:44<27:33, 35.94s/it]"
     ]
    },
    {
     "name": "stdout",
     "output_type": "stream",
     "text": [
      "output.shape=torch.Size([2423, 8])\n",
      "[Errno 2] No such file or directory: 'C:\\\\Users\\\\Nick\\\\AppData\\\\Local\\\\Temp\\\\tmpelzujctgwandb-media\\\\22lam7y2.table.json'\n",
      "output.shape=torch.Size([2833, 8])\n",
      "[Errno 2] No such file or directory: 'C:\\\\Users\\\\Nick\\\\AppData\\\\Local\\\\Temp\\\\tmpelzujctgwandb-media\\\\zls09b6t.table.json'\n"
     ]
    },
    {
     "name": "stderr",
     "output_type": "stream",
     "text": [
      " 83%|████████▎ | 207/250 [2:12:40<25:44, 35.91s/it]"
     ]
    },
    {
     "name": "stdout",
     "output_type": "stream",
     "text": [
      "output.shape=torch.Size([2423, 8])\n",
      "[Errno 2] No such file or directory: 'C:\\\\Users\\\\Nick\\\\AppData\\\\Local\\\\Temp\\\\tmpelzujctgwandb-media\\\\tg06ho0u.table.json'\n",
      "output.shape=torch.Size([2833, 8])\n",
      "[Errno 2] No such file or directory: 'C:\\\\Users\\\\Nick\\\\AppData\\\\Local\\\\Temp\\\\tmpelzujctgwandb-media\\\\3ezv1w08.table.json'\n"
     ]
    },
    {
     "name": "stderr",
     "output_type": "stream",
     "text": [
      " 84%|████████▍ | 210/250 [2:14:35<23:55, 35.88s/it]"
     ]
    },
    {
     "name": "stdout",
     "output_type": "stream",
     "text": [
      "output.shape=torch.Size([2423, 8])\n",
      "[Errno 2] No such file or directory: 'C:\\\\Users\\\\Nick\\\\AppData\\\\Local\\\\Temp\\\\tmpelzujctgwandb-media\\\\dcirm3n5.table.json'\n",
      "output.shape=torch.Size([2833, 8])\n",
      "[Errno 2] No such file or directory: 'C:\\\\Users\\\\Nick\\\\AppData\\\\Local\\\\Temp\\\\tmpelzujctgwandb-media\\\\73o4s8jf.table.json'\n"
     ]
    },
    {
     "name": "stderr",
     "output_type": "stream",
     "text": [
      " 85%|████████▌ | 213/250 [2:16:29<22:06, 35.84s/it]"
     ]
    },
    {
     "name": "stdout",
     "output_type": "stream",
     "text": [
      "output.shape=torch.Size([2423, 8])\n",
      "[Errno 2] No such file or directory: 'C:\\\\Users\\\\Nick\\\\AppData\\\\Local\\\\Temp\\\\tmpelzujctgwandb-media\\\\o9xn6167.table.json'\n",
      "output.shape=torch.Size([2833, 8])\n",
      "[Errno 2] No such file or directory: 'C:\\\\Users\\\\Nick\\\\AppData\\\\Local\\\\Temp\\\\tmpelzujctgwandb-media\\\\5cfslrfr.table.json'\n"
     ]
    },
    {
     "name": "stderr",
     "output_type": "stream",
     "text": [
      " 86%|████████▋ | 216/250 [2:18:25<20:19, 35.86s/it]"
     ]
    },
    {
     "name": "stdout",
     "output_type": "stream",
     "text": [
      "output.shape=torch.Size([2423, 8])\n",
      "[Errno 2] No such file or directory: 'C:\\\\Users\\\\Nick\\\\AppData\\\\Local\\\\Temp\\\\tmpelzujctgwandb-media\\\\gk26bg8y.table.json'\n",
      "output.shape=torch.Size([2833, 8])\n",
      "[Errno 2] No such file or directory: 'C:\\\\Users\\\\Nick\\\\AppData\\\\Local\\\\Temp\\\\tmpelzujctgwandb-media\\\\6nvsw9rn.table.json'\n"
     ]
    },
    {
     "name": "stderr",
     "output_type": "stream",
     "text": [
      " 88%|████████▊ | 219/250 [2:20:19<18:30, 35.82s/it]"
     ]
    },
    {
     "name": "stdout",
     "output_type": "stream",
     "text": [
      "output.shape=torch.Size([2423, 8])\n",
      "[Errno 2] No such file or directory: 'C:\\\\Users\\\\Nick\\\\AppData\\\\Local\\\\Temp\\\\tmpelzujctgwandb-media\\\\erkack36.table.json'\n",
      "output.shape=torch.Size([2833, 8])\n",
      "[Errno 2] No such file or directory: 'C:\\\\Users\\\\Nick\\\\AppData\\\\Local\\\\Temp\\\\tmpelzujctgwandb-media\\\\rh6b82vf.table.json'\n"
     ]
    },
    {
     "name": "stderr",
     "output_type": "stream",
     "text": [
      " 89%|████████▉ | 222/250 [2:22:15<16:45, 35.90s/it]"
     ]
    },
    {
     "name": "stdout",
     "output_type": "stream",
     "text": [
      "output.shape=torch.Size([2423, 8])\n",
      "[Errno 2] No such file or directory: 'C:\\\\Users\\\\Nick\\\\AppData\\\\Local\\\\Temp\\\\tmpelzujctgwandb-media\\\\x9k9wtxi.table.json'\n",
      "output.shape=torch.Size([2833, 8])\n",
      "[Errno 2] No such file or directory: 'C:\\\\Users\\\\Nick\\\\AppData\\\\Local\\\\Temp\\\\tmpelzujctgwandb-media\\\\zx9grmwa.table.json'\n"
     ]
    },
    {
     "name": "stderr",
     "output_type": "stream",
     "text": [
      " 90%|█████████ | 225/250 [2:24:10<14:57, 35.89s/it]"
     ]
    },
    {
     "name": "stdout",
     "output_type": "stream",
     "text": [
      "output.shape=torch.Size([2423, 8])\n",
      "[Errno 2] No such file or directory: 'C:\\\\Users\\\\Nick\\\\AppData\\\\Local\\\\Temp\\\\tmpelzujctgwandb-media\\\\xeig07ub.table.json'\n",
      "output.shape=torch.Size([2833, 8])\n",
      "[Errno 2] No such file or directory: 'C:\\\\Users\\\\Nick\\\\AppData\\\\Local\\\\Temp\\\\tmpelzujctgwandb-media\\\\c4vtsuhv.table.json'\n"
     ]
    },
    {
     "name": "stderr",
     "output_type": "stream",
     "text": [
      " 91%|█████████ | 228/250 [2:26:05<13:08, 35.85s/it]"
     ]
    },
    {
     "name": "stdout",
     "output_type": "stream",
     "text": [
      "output.shape=torch.Size([2423, 8])\n",
      "[Errno 2] No such file or directory: 'C:\\\\Users\\\\Nick\\\\AppData\\\\Local\\\\Temp\\\\tmpelzujctgwandb-media\\\\zysfsqz1.table.json'\n",
      "output.shape=torch.Size([2833, 8])\n",
      "[Errno 2] No such file or directory: 'C:\\\\Users\\\\Nick\\\\AppData\\\\Local\\\\Temp\\\\tmpelzujctgwandb-media\\\\gy30ntm8.table.json'\n"
     ]
    },
    {
     "name": "stderr",
     "output_type": "stream",
     "text": [
      " 92%|█████████▏| 231/250 [2:28:00<11:23, 35.95s/it]"
     ]
    },
    {
     "name": "stdout",
     "output_type": "stream",
     "text": [
      "output.shape=torch.Size([2423, 8])\n",
      "[Errno 2] No such file or directory: 'C:\\\\Users\\\\Nick\\\\AppData\\\\Local\\\\Temp\\\\tmpelzujctgwandb-media\\\\dn8lusie.table.json'\n",
      "output.shape=torch.Size([2833, 8])\n",
      "[Errno 2] No such file or directory: 'C:\\\\Users\\\\Nick\\\\AppData\\\\Local\\\\Temp\\\\tmpelzujctgwandb-media\\\\twmi91zi.table.json'\n"
     ]
    },
    {
     "name": "stderr",
     "output_type": "stream",
     "text": [
      " 94%|█████████▎| 234/250 [2:29:55<09:34, 35.89s/it]"
     ]
    },
    {
     "name": "stdout",
     "output_type": "stream",
     "text": [
      "output.shape=torch.Size([2423, 8])\n",
      "[Errno 2] No such file or directory: 'C:\\\\Users\\\\Nick\\\\AppData\\\\Local\\\\Temp\\\\tmpelzujctgwandb-media\\\\t1qb9urh.table.json'\n",
      "output.shape=torch.Size([2833, 8])\n",
      "[Errno 2] No such file or directory: 'C:\\\\Users\\\\Nick\\\\AppData\\\\Local\\\\Temp\\\\tmpelzujctgwandb-media\\\\ce5rk566.table.json'\n"
     ]
    },
    {
     "name": "stderr",
     "output_type": "stream",
     "text": [
      " 95%|█████████▍| 237/250 [2:31:51<07:46, 35.86s/it]"
     ]
    },
    {
     "name": "stdout",
     "output_type": "stream",
     "text": [
      "output.shape=torch.Size([2423, 8])\n",
      "[Errno 2] No such file or directory: 'C:\\\\Users\\\\Nick\\\\AppData\\\\Local\\\\Temp\\\\tmpelzujctgwandb-media\\\\0oppuyyu.table.json'\n",
      "output.shape=torch.Size([2833, 8])\n",
      "[Errno 2] No such file or directory: 'C:\\\\Users\\\\Nick\\\\AppData\\\\Local\\\\Temp\\\\tmpelzujctgwandb-media\\\\7yu5ccfh.table.json'\n"
     ]
    },
    {
     "name": "stderr",
     "output_type": "stream",
     "text": [
      " 96%|█████████▌| 240/250 [2:33:47<06:01, 36.13s/it]"
     ]
    },
    {
     "name": "stdout",
     "output_type": "stream",
     "text": [
      "output.shape=torch.Size([2423, 8])\n",
      "[Errno 2] No such file or directory: 'C:\\\\Users\\\\Nick\\\\AppData\\\\Local\\\\Temp\\\\tmpelzujctgwandb-media\\\\lcja6ul4.table.json'\n",
      "output.shape=torch.Size([2833, 8])\n",
      "[Errno 2] No such file or directory: 'C:\\\\Users\\\\Nick\\\\AppData\\\\Local\\\\Temp\\\\tmpelzujctgwandb-media\\\\wlh0slqa.table.json'\n"
     ]
    },
    {
     "name": "stderr",
     "output_type": "stream",
     "text": [
      " 97%|█████████▋| 243/250 [2:35:45<04:14, 36.38s/it]"
     ]
    },
    {
     "name": "stdout",
     "output_type": "stream",
     "text": [
      "output.shape=torch.Size([2423, 8])\n",
      "[Errno 2] No such file or directory: 'C:\\\\Users\\\\Nick\\\\AppData\\\\Local\\\\Temp\\\\tmpelzujctgwandb-media\\\\greiot6i.table.json'\n",
      "output.shape=torch.Size([2833, 8])\n",
      "[Errno 2] No such file or directory: 'C:\\\\Users\\\\Nick\\\\AppData\\\\Local\\\\Temp\\\\tmpelzujctgwandb-media\\\\7m1n5p3m.table.json'\n"
     ]
    },
    {
     "name": "stderr",
     "output_type": "stream",
     "text": [
      " 98%|█████████▊| 246/250 [2:37:41<02:24, 36.10s/it]"
     ]
    },
    {
     "name": "stdout",
     "output_type": "stream",
     "text": [
      "output.shape=torch.Size([2423, 8])\n",
      "[Errno 2] No such file or directory: 'C:\\\\Users\\\\Nick\\\\AppData\\\\Local\\\\Temp\\\\tmpelzujctgwandb-media\\\\0mqn8kqb.table.json'\n",
      "output.shape=torch.Size([2833, 8])\n",
      "[Errno 2] No such file or directory: 'C:\\\\Users\\\\Nick\\\\AppData\\\\Local\\\\Temp\\\\tmpelzujctgwandb-media\\\\gyhqopr3.table.json'\n"
     ]
    },
    {
     "name": "stderr",
     "output_type": "stream",
     "text": [
      "100%|█████████▉| 249/250 [2:39:35<00:35, 35.64s/it]"
     ]
    },
    {
     "name": "stdout",
     "output_type": "stream",
     "text": [
      "output.shape=torch.Size([2423, 8])\n",
      "[Errno 2] No such file or directory: 'C:\\\\Users\\\\Nick\\\\AppData\\\\Local\\\\Temp\\\\tmpelzujctgwandb-media\\\\0th8vzb5.table.json'\n",
      "output.shape=torch.Size([2833, 8])\n",
      "[Errno 2] No such file or directory: 'C:\\\\Users\\\\Nick\\\\AppData\\\\Local\\\\Temp\\\\tmpelzujctgwandb-media\\\\vpg3id9z.table.json'\n"
     ]
    },
    {
     "name": "stderr",
     "output_type": "stream",
     "text": [
      "100%|██████████| 250/250 [2:40:29<00:00, 38.52s/it]\n"
     ]
    },
    {
     "data": {
      "application/vnd.jupyter.widget-view+json": {
       "model_id": "650bf64a000b49f097b9bd671faa281c",
       "version_major": 2,
       "version_minor": 0
      },
      "text/plain": [
       "VBox(children=(Label(value='1.653 MB of 1.653 MB uploaded\\r'), FloatProgress(value=1.0, max=1.0)))"
      ]
     },
     "metadata": {},
     "output_type": "display_data"
    },
    {
     "data": {
      "text/html": [
       "<style>\n",
       "    table.wandb td:nth-child(1) { padding: 0 10px; text-align: left ; width: auto;} td:nth-child(2) {text-align: left ; width: 100%}\n",
       "    .wandb-row { display: flex; flex-direction: row; flex-wrap: wrap; justify-content: flex-start; width: 100% }\n",
       "    .wandb-col { display: flex; flex-direction: column; flex-basis: 100%; flex: 1; padding: 10px; }\n",
       "    </style>\n",
       "<div class=\"wandb-row\"><div class=\"wandb-col\"><h3>Run history:</h3><br/><table class=\"wandb\"><tr><td>ROI < 30</td><td>▅▄▃▃▅▅█▇▇▇▅▃▁█▆▄▅▄▆▃▄▃▆▂▄▄▁▃▂▂▂▂▆▃▆▅▂█▃▄</td></tr><tr><td>ROI < 30 2</td><td>▅▁▁▂▄▅█▇▇▇▃▃▃█▇▅▄▄▆▂▄▃▆▄▄▄▂▄▄▃▃▄▅▃▇▄▃▇▃▃</td></tr><tr><td>accuracy</td><td>▁▆████▇█▇▇▇▇▇▇▇▆▆▆▇▇▇▇▇▇▇▇▇▇▇▇▇▇▇▇▇▇▇▇▇▇</td></tr><tr><td>accuracy2</td><td>▁▇▇███▇▇▇▇▇▇▇▆▆▆▇▇▇▇▇▇▇▇▇▇▇▇▇▇▇▇▇▇▇▇▇▇▇▇</td></tr><tr><td>epoch</td><td>▁▁▁▁▂▂▂▂▂▃▃▃▃▃▃▄▄▄▄▄▅▅▅▅▅▅▆▆▆▆▆▇▇▇▇▇▇███</td></tr><tr><td>favorite_accuracy</td><td>▁▁▁▁▁▁▁▁▁▁▁▁▁▁▁▁▁▁▁▁▁▁▁▁▁▁▁▁▁▁▁▁▁▁▁▁▁▁▁▁</td></tr><tr><td>flat_simple</td><td>▅▂▂▂▄▄▅█▄▇▃▄▃▆▇▃▂▂▆▃▅▄▆▄▃▂▃▃▄▅▅▅▅▄▆▄▅▆▅▁</td></tr><tr><td>kelly roi</td><td>▄▅▃▄▄▅▆▇█▇▄▄▂▆▄▃▄▃▄▂▃▃▄▁▄▃▁▂▂▂▁▂▅▃▄▄▂▅▂▂</td></tr><tr><td>loss_1</td><td>█▇▇▆▅▅▅▃▄▄▂▂▂▂▂▂▂▂▁▂▁▁▁▁▁▁▁▁▁▁▁▁▁▁▁▁▁▁▁▁</td></tr><tr><td>loss_bfsp</td><td>▁▁▁▁▁▁▁▁▁▁▁▁▁▁▁▁▁▁▁▁▁▁▁▁▁▁▁▁▁▁▁▁▁▁▁▁▁▁▁▁</td></tr><tr><td>loss_p</td><td>█▄▂▁▁▁▁▁▂▂▂▂▂▂▃▂▂▂▂▂▂▂▂▂▂▂▂▂▂▂▂▂▂▂▂▂▂▂▂▂</td></tr><tr><td>loss_val</td><td>█▄▂▁▁▁▁▁▂▂▂▃▃▃▃▃▃▃▃▃▃▂▂▂▂▂▂▂▂▂▃▂▂▃▃▃▂▂▂▂</td></tr><tr><td>multibet outlay < 30</td><td>▂▁▁▁▂▂▃▅▅▆▆█▇▇█▇▇▇▇▇▇▇▇▇▇▆▇▇▇▇▇▇▇▇▇▇▇▇▇▇</td></tr><tr><td>multibet profit</td><td>▅▅▃▄▄▅▆▆█▇▄▄▂▆▅▃▄▃▄▂▃▃▄▂▃▃▁▂▂▁▁▂▅▃▄▄▂▅▂▂</td></tr><tr><td>multibet profit < 30</td><td>▄▃▃▃▄▄▆▆▇▆▄▃▁█▇▄▅▄▅▂▄▃▆▂▄▄▁▃▂▂▂▂▆▃▆▅▂█▃▄</td></tr><tr><td>multibet profit < 30 sd</td><td>▃▂▁▁▂▂▃▄▅▅▅▅▄▇█▆▅▅▅▄▅▄▅▄▅▅▅▅▅▄▅▅▅▅▆▅▄▅▄▅</td></tr><tr><td>mutual_info</td><td>▁▃▃▃▃▃▄▅▆▇▇▇▇█▇██▇▇▇▇▇▇▇▇▇▇▇▇▇▇▇▇███████</td></tr><tr><td>profit_relu</td><td>█▃▂▂▁▃▄▃▄▂▂▂▁▂▂▁▂▂▂▁▂▂▂▁▂▂▁▂▁▁▁▂▂▂▂▂▁▂▁▁</td></tr><tr><td>relu roi</td><td>▂▄▂▂▁▄▅▅█▅▃▃▁▅▄▂▄▃▃▂▃▃▄▂▃▃▁▃▂▁▁▃▄▃▄▄▂▅▁▁</td></tr><tr><td>val_ROI < 30</td><td>▁▁▁▂▃▂▄▅▆▅▆▆▅▃▂▄█▇▅▃▄▅▆▆▆▃▄▃▄▄▇▄▅▅▇▅▁▃▄▄</td></tr><tr><td>val_ROI < 30 2</td><td>▁▃▂▃▃▂▄▄▇▄▅▅▅▃▂▄█▆▄▅▄▅▆▇▆▄▄▃▄▅█▄▆▆█▆▃▄▅▄</td></tr><tr><td>val_accuracy</td><td>▁▇▇███▇▇▇▇▇▇▇▆▆▆▇▇▇▇▇▇▇▇▇▇▇▇▇▇▇▇▇▇▇▇▇▇▇▇</td></tr><tr><td>val_flat_simple</td><td>▁▆▅▆▆▆▅▆█▆▇▇▆▆▅▆█▇▆▆▆▇▇▇▇▆▆▆▇▇▇▆▇▇▇▇▆▆▇▆</td></tr><tr><td>val_kelly roi</td><td>▁▂▃▄▄▄▅▆▆▆▇▇▇▆▆▆██▇▆▆▆▇▇▇▆▆▆▆▆█▆▇▇█▇▅▆▆▆</td></tr><tr><td>val_loss_bfsp</td><td>▁▁▁▁▁▁▁▁▁▁▁▁▁▁▁▁▁▁▁▁▁▁▁▁▁▁▁▁▁▁▁▁▁▁▁▁▁▁▁▁</td></tr><tr><td>val_loss_p</td><td>█▃▂▁▁▁▁▁▂▂▂▃▂▂▃▂▂▂▂▂▂▂▂▂▂▂▂▂▂▂▂▂▂▂▂▂▂▂▂▂</td></tr><tr><td>val_loss_val</td><td>█▄▂▁▁▁▁▁▂▂▂▃▂▃▃▃▂▂▂▃▃▂▂▂▂▂▂▂▂▂▂▂▂▂▃▂▂▂▂▂</td></tr><tr><td>val_multibet outlay < 30</td><td>▂▁▁▁▂▂▃▅▆▆▇█▇██▇▇▇▇▇▇▇▇▇▇▇▇▇▆▇▇▇▇▇█▇▇▇▇▇</td></tr><tr><td>val_multibet profit</td><td>▁▃▄▅▅▅▆▆▇▇▇▇▇▆▆▆██▇▆▆▇▇▇▇▆▆▆▆▇█▇▇▇█▇▅▆▇▆</td></tr><tr><td>val_multibet profit < 30</td><td>▁▂▂▂▃▂▄▄▆▅▅▆▅▄▂▄█▇▄▃▄▅▆▆▆▃▄▃▄▄▇▄▅▅▇▅▁▃▄▄</td></tr><tr><td>val_multibet profit < 30 sd</td><td>▂▂▁▁▂▂▃▄▆▅▆▇▆▆▇█▇▇▆▇▆▆█▇▇▆▅▅▆▆▇▆▆▇█▇▅█▆▆</td></tr><tr><td>val_mutual_info</td><td>▁▃▃▃▃▃▄▅▆▇▇▇▇█▇█▇▇▇▇▇▇▇▇▇▇▇▇▇▇▇▇▇███████</td></tr><tr><td>val_profit_relu</td><td>▁▇▇▇▇▇██████████████████████████████████</td></tr><tr><td>val_relu roi</td><td>▁▃▂▂▃▂▄▆▇▆▇▇▇▅▅▆██▇▅▆▇▇▆▇▅▆▆▆▇▇▆▇▇█▇▅▆▇▇</td></tr><tr><td>valfavorite_accuracy</td><td>▁▁▁▁▁▁▁▁▁▁▁▁▁▁▁▁▁▁▁▁▁▁▁▁▁▁▁▁▁▁▁▁▁▁▁▁▁▁▁▁</td></tr></table><br/></div><div class=\"wandb-col\"><h3>Run summary:</h3><br/><table class=\"wandb\"><tr><td>ROI < 30 2</td><td>-0.00313</td></tr><tr><td>accuracy2</td><td>0.31521</td></tr><tr><td>epoch</td><td>249</td></tr><tr><td>favorite_accuracy</td><td>0.38562</td></tr><tr><td>flat_simple</td><td>-173.63334</td></tr><tr><td>kelly roi</td><td>0.02302</td></tr><tr><td>loss_1</td><td>0.63268</td></tr><tr><td>loss_bfsp</td><td>1.945</td></tr><tr><td>loss_p</td><td>1.79032</td></tr><tr><td>multibet outlay < 30</td><td>46318.14088</td></tr><tr><td>multibet profit</td><td>948.95385</td></tr><tr><td>multibet profit < 30</td><td>1252.28929</td></tr><tr><td>multibet profit < 30 sd</td><td>19.17097</td></tr><tr><td>mutual_info</td><td>0.07901</td></tr><tr><td>profit_relu</td><td>12464.87446</td></tr><tr><td>val_ROI < 30</td><td>0.03436</td></tr><tr><td>val_ROI < 30 2</td><td>0.01772</td></tr><tr><td>val_accuracy</td><td>0.31521</td></tr><tr><td>val_flat_simple</td><td>-48.40587</td></tr><tr><td>val_kelly roi</td><td>-0.03656</td></tr><tr><td>val_loss_bfsp</td><td>1.94131</td></tr><tr><td>val_loss_p</td><td>1.77511</td></tr><tr><td>val_loss_val</td><td>1.80775</td></tr><tr><td>val_multibet outlay < 30</td><td>43335.2585</td></tr><tr><td>val_multibet profit</td><td>-2043.82788</td></tr><tr><td>val_multibet profit < 30</td><td>1488.8359</td></tr><tr><td>val_multibet profit < 30 sd</td><td>21.96914</td></tr><tr><td>val_mutual_info</td><td>0.07949</td></tr><tr><td>val_profit_relu</td><td>-2706.54571</td></tr><tr><td>val_relu roi</td><td>-0.00406</td></tr><tr><td>valfavorite_accuracy</td><td>0.39215</td></tr></table><br/></div></div>"
      ],
      "text/plain": [
       "<IPython.core.display.HTML object>"
      ]
     },
     "metadata": {},
     "output_type": "display_data"
    },
    {
     "data": {
      "text/html": [
       " View run <strong style=\"color:#cdcd00\">exalted-paper-45</strong> at: <a href='https://wandb.ai/nickojelly/NEW%20GRU%20V7%20Reporting/runs/nkx1o3u2' target=\"_blank\">https://wandb.ai/nickojelly/NEW%20GRU%20V7%20Reporting/runs/nkx1o3u2</a><br/>Synced 5 W&B file(s), 0 media file(s), 168 artifact file(s) and 0 other file(s)"
      ],
      "text/plain": [
       "<IPython.core.display.HTML object>"
      ]
     },
     "metadata": {},
     "output_type": "display_data"
    },
    {
     "data": {
      "text/html": [
       "Find logs at: <code>.\\wandb\\run-20240209_033947-nkx1o3u2\\logs</code>"
      ],
      "text/plain": [
       "<IPython.core.display.HTML object>"
      ]
     },
     "metadata": {},
     "output_type": "display_data"
    },
    {
     "data": {
      "text/html": [
       "wandb version 0.16.3 is available!  To upgrade, please run:\n",
       " $ pip install wandb --upgrade"
      ],
      "text/plain": [
       "<IPython.core.display.HTML object>"
      ]
     },
     "metadata": {},
     "output_type": "display_data"
    },
    {
     "data": {
      "text/html": [
       "Tracking run with wandb version 0.16.2"
      ],
      "text/plain": [
       "<IPython.core.display.HTML object>"
      ]
     },
     "metadata": {},
     "output_type": "display_data"
    },
    {
     "data": {
      "text/html": [
       "Run data is saved locally in <code>c:\\Users\\Nick\\Documents\\GitHub\\grvmodel\\python\\wandb\\run-20240209_062115-vcblq0uy</code>"
      ],
      "text/plain": [
       "<IPython.core.display.HTML object>"
      ]
     },
     "metadata": {},
     "output_type": "display_data"
    },
    {
     "data": {
      "text/html": [
       "Syncing run <strong><a href='https://wandb.ai/nickojelly/NEW%20GRU%20V7%20Reporting/runs/vcblq0uy' target=\"_blank\">sweet-resonance-46</a></strong> to <a href='https://wandb.ai/nickojelly/NEW%20GRU%20V7%20Reporting' target=\"_blank\">Weights & Biases</a> (<a href='https://wandb.me/run' target=\"_blank\">docs</a>)<br/>"
      ],
      "text/plain": [
       "<IPython.core.display.HTML object>"
      ]
     },
     "metadata": {},
     "output_type": "display_data"
    },
    {
     "data": {
      "text/html": [
       " View project at <a href='https://wandb.ai/nickojelly/NEW%20GRU%20V7%20Reporting' target=\"_blank\">https://wandb.ai/nickojelly/NEW%20GRU%20V7%20Reporting</a>"
      ],
      "text/plain": [
       "<IPython.core.display.HTML object>"
      ]
     },
     "metadata": {},
     "output_type": "display_data"
    },
    {
     "data": {
      "text/html": [
       " View run at <a href='https://wandb.ai/nickojelly/NEW%20GRU%20V7%20Reporting/runs/vcblq0uy' target=\"_blank\">https://wandb.ai/nickojelly/NEW%20GRU%20V7%20Reporting/runs/vcblq0uy</a>"
      ],
      "text/plain": [
       "<IPython.core.display.HTML object>"
      ]
     },
     "metadata": {},
     "output_type": "display_data"
    },
    {
     "name": "stdout",
     "output_type": "stream",
     "text": [
      "{'hidden_size': 256, 'stats': ['inside', 'midfield', 'wide', 'weight', 'DogGrade', '_dist_last__1', '_box_last__1', '_speed_avg_1', '_split_speed_avg_1', '_split_margin_avg_1', '_margin_avg_1', '_margin_time_avg_1', '_RunHomeTime_1', '_run_home_speed_1', '_first_out_avg_1', '_pos_out_avg_1', '_post_change_avg_1', '_races_1', '_wins_1', '_wins_last_1', '_weight_', '_min_time_', '_min_split_time_', '_last_start_price', '_last_start_prob', 'dist_dist_last__10', 'dist_box_last__10', 'dist_speed_avg_10', 'dist_split_speed_avg_10', 'dist_split_margin_avg_10', 'dist_margin_avg_10', 'dist_margin_time_avg_10', 'dist_RunHomeTime_10', 'dist_run_home_speed_10', 'dist_first_out_avg_10', 'dist_pos_out_avg_10', 'dist_post_change_avg_10', 'dist_races_10', 'dist_wins_10', 'dist_wins_last_10', 'dist_weight_', 'dist_min_time_', 'dist_min_split_time_', 'dist_last_start_price', 'dist_last_start_prob', 'box_dist_last__10', 'box_box_last__10', 'box_speed_avg_10', 'box_split_speed_avg_10', 'box_split_margin_avg_10', 'box_margin_avg_10', 'box_margin_time_avg_10', 'box_RunHomeTime_10', 'box_run_home_speed_10', 'box_first_out_avg_10', 'box_pos_out_avg_10', 'box_post_change_avg_10', 'box_races_10', 'box_wins_10', 'box_wins_last_10', 'box_weight_', 'box_min_time_', 'box_min_split_time_', 'box_last_start_price', 'box_last_start_prob', 'track_box_dist_last__10', 'track_box_box_last__10', 'track_box_speed_avg_10', 'track_box_split_speed_avg_10', 'track_box_split_margin_avg_10', 'track_box_margin_avg_10', 'track_box_margin_time_avg_10', 'track_box_RunHomeTime_10', 'track_box_run_home_speed_10', 'track_box_first_out_avg_10', 'track_box_pos_out_avg_10', 'track_box_post_change_avg_10', 'track_box_races_10', 'track_box_wins_10', 'track_box_wins_last_10', 'track_box_weight_', 'track_box_min_time_', 'track_box_min_split_time_', 'track_box_last_start_price', 'track_box_last_start_prob', 'track_dist_dist_last__10', 'track_dist_box_last__10', 'track_dist_speed_avg_10', 'track_dist_split_speed_avg_10', 'track_dist_split_margin_avg_10', 'track_dist_margin_avg_10', 'track_dist_margin_time_avg_10', 'track_dist_RunHomeTime_10', 'track_dist_run_home_speed_10', 'track_dist_first_out_avg_10', 'track_dist_pos_out_avg_10', 'track_dist_post_change_avg_10', 'track_dist_races_10', 'track_dist_wins_10', 'track_dist_wins_last_10', 'track_dist_weight_', 'track_dist_min_time_', 'track_dist_min_split_time_', 'track_dist_last_start_price', 'track_dist_last_start_prob'], 'races': ['NZ'], 'datafile': './data/gru_inputs_kitchen_sink_new_not_simple.fth', 'latest_date': '2024-01-31T00:00:00', 'input_type': 'basic', 'num_layers': 2, 'batch_size': 750, 'dropout': 0.3, 'epochs': 250, 'learning_rate': 0.001, 'optimizer': 'adamW', 'f0_layer_size': 128, 'f1_layer_size': 64, 'training_date_end': '2023-01-01', 'notes': 'GRU, with basic add on data looped in', 'batch_days': 30, 'stat_list_dict': {'_dist_last__1': 1, '_box_last__1': 1, '_speed_avg_1': 1, '_split_speed_avg_1': 1, '_split_margin_avg_1': 1, '_margin_avg_1': 1, '_margin_time_avg_1': 1, '_RunHomeTime_1': 1, '_run_home_speed_1': 1, '_first_out_avg_1': 1, '_pos_out_avg_1': 1, '_post_change_avg_1': 1, '_races_1': 1, '_wins_1': 1, '_wins_last_1': 1, '_weight_': 1, '_min_time_': 1, '_min_split_time_': 1, '_last_start_price': 1, '_last_start_prob': 1}}\n",
      "250\n",
      "{'hidden_size': 256, 'stats': ['inside', 'midfield', 'wide', 'weight', 'DogGrade', '_dist_last__1', '_box_last__1', '_speed_avg_1', '_split_speed_avg_1', '_split_margin_avg_1', '_margin_avg_1', '_margin_time_avg_1', '_RunHomeTime_1', '_run_home_speed_1', '_first_out_avg_1', '_pos_out_avg_1', '_post_change_avg_1', '_races_1', '_wins_1', '_wins_last_1', '_weight_', '_min_time_', '_min_split_time_', '_last_start_price', '_last_start_prob', 'dist_dist_last__10', 'dist_box_last__10', 'dist_speed_avg_10', 'dist_split_speed_avg_10', 'dist_split_margin_avg_10', 'dist_margin_avg_10', 'dist_margin_time_avg_10', 'dist_RunHomeTime_10', 'dist_run_home_speed_10', 'dist_first_out_avg_10', 'dist_pos_out_avg_10', 'dist_post_change_avg_10', 'dist_races_10', 'dist_wins_10', 'dist_wins_last_10', 'dist_weight_', 'dist_min_time_', 'dist_min_split_time_', 'dist_last_start_price', 'dist_last_start_prob', 'box_dist_last__10', 'box_box_last__10', 'box_speed_avg_10', 'box_split_speed_avg_10', 'box_split_margin_avg_10', 'box_margin_avg_10', 'box_margin_time_avg_10', 'box_RunHomeTime_10', 'box_run_home_speed_10', 'box_first_out_avg_10', 'box_pos_out_avg_10', 'box_post_change_avg_10', 'box_races_10', 'box_wins_10', 'box_wins_last_10', 'box_weight_', 'box_min_time_', 'box_min_split_time_', 'box_last_start_price', 'box_last_start_prob', 'track_box_dist_last__10', 'track_box_box_last__10', 'track_box_speed_avg_10', 'track_box_split_speed_avg_10', 'track_box_split_margin_avg_10', 'track_box_margin_avg_10', 'track_box_margin_time_avg_10', 'track_box_RunHomeTime_10', 'track_box_run_home_speed_10', 'track_box_first_out_avg_10', 'track_box_pos_out_avg_10', 'track_box_post_change_avg_10', 'track_box_races_10', 'track_box_wins_10', 'track_box_wins_last_10', 'track_box_weight_', 'track_box_min_time_', 'track_box_min_split_time_', 'track_box_last_start_price', 'track_box_last_start_prob', 'track_dist_dist_last__10', 'track_dist_box_last__10', 'track_dist_speed_avg_10', 'track_dist_split_speed_avg_10', 'track_dist_split_margin_avg_10', 'track_dist_margin_avg_10', 'track_dist_margin_time_avg_10', 'track_dist_RunHomeTime_10', 'track_dist_run_home_speed_10', 'track_dist_first_out_avg_10', 'track_dist_pos_out_avg_10', 'track_dist_post_change_avg_10', 'track_dist_races_10', 'track_dist_wins_10', 'track_dist_wins_last_10', 'track_dist_weight_', 'track_dist_min_time_', 'track_dist_min_split_time_', 'track_dist_last_start_price', 'track_dist_last_start_prob'], 'races': ['NZ'], 'datafile': './data/gru_inputs_kitchen_sink_new_not_simple.fth', 'latest_date': '2024-01-31T00:00:00', 'input_type': 'basic', 'num_layers': 2, 'batch_size': 750, 'dropout': 0.3, 'epochs': 250, 'learning_rate': 0.001, 'optimizer': 'adamW', 'f0_layer_size': 128, 'f1_layer_size': 64, 'training_date_end': '2023-01-01', 'notes': 'GRU, with basic add on data looped in', 'batch_days': 30, 'stat_list_dict': {'_dist_last__1': 1, '_box_last__1': 1, '_speed_avg_1': 1, '_split_speed_avg_1': 1, '_split_margin_avg_1': 1, '_margin_avg_1': 1, '_margin_time_avg_1': 1, '_RunHomeTime_1': 1, '_run_home_speed_1': 1, '_first_out_avg_1': 1, '_pos_out_avg_1': 1, '_post_change_avg_1': 1, '_races_1': 1, '_wins_1': 1, '_wins_last_1': 1, '_weight_': 1, '_min_time_': 1, '_min_split_time_': 1, '_last_start_price': 1, '_last_start_prob': 1}}\n",
      "basic\n",
      "1\n",
      "1\n",
      "1\n",
      "1\n",
      "1\n",
      "1\n",
      "1\n",
      "1\n",
      "1\n",
      "1\n",
      "1\n",
      "1\n",
      "1\n",
      "1\n",
      "1\n",
      "1\n",
      "1\n",
      "1\n",
      "1\n",
      "1\n",
      "[1, 1, 1, 1, 1, 1, 1, 1, 1, 1, 1, 1, 1, 1, 1, 1, 1, 1, 1, 1]\n",
      "data_mask_size=26\n",
      "tensor([ True,  True,  True,  True,  True,  True,  True,  True,  True,  True,\n",
      "         True,  True,  True,  True,  True,  True,  True,  True,  True,  True,\n",
      "         True,  True,  True,  True,  True,  True, False, False, False, False,\n",
      "        False, False, False, False, False, False, False, False, False, False,\n",
      "        False, False, False, False, False, False, False, False, False, False,\n",
      "        False, False, False, False, False, False, False, False, False, False,\n",
      "        False, False, False, False, False, False, False, False, False, False,\n",
      "        False, False, False, False, False, False, False, False, False, False,\n",
      "        False, False, False, False, False, False, False, False, False, False,\n",
      "        False, False, False, False, False, False, False, False, False, False,\n",
      "        False, False, False, False, False, False], device='cuda:0')\n",
      "torch.Size([106])\n",
      "Train examples 15104, Test examples 2423, Val examples 2833\n"
     ]
    },
    {
     "name": "stderr",
     "output_type": "stream",
     "text": [
      "100%|██████████| 3963/3963 [00:00<00:00, 80478.49it/s]\n",
      "100%|██████████| 3964/3964 [00:02<00:00, 1971.34it/s]\n"
     ]
    },
    {
     "name": "stdout",
     "output_type": "stream",
     "text": [
      "[(datetime.date(2019, 12, 1), datetime.date(2019, 12, 31)), (datetime.date(2019, 12, 31), datetime.date(2020, 1, 30)), (datetime.date(2020, 1, 30), datetime.date(2020, 2, 29)), (datetime.date(2020, 2, 29), datetime.date(2020, 3, 30)), (datetime.date(2020, 3, 30), datetime.date(2020, 4, 29)), (datetime.date(2020, 4, 29), datetime.date(2020, 5, 29)), (datetime.date(2020, 5, 29), datetime.date(2020, 6, 28)), (datetime.date(2020, 6, 28), datetime.date(2020, 7, 28)), (datetime.date(2020, 7, 28), datetime.date(2020, 8, 27)), (datetime.date(2020, 8, 27), datetime.date(2020, 9, 26)), (datetime.date(2020, 9, 26), datetime.date(2020, 10, 26)), (datetime.date(2020, 10, 26), datetime.date(2020, 11, 25)), (datetime.date(2020, 11, 25), datetime.date(2020, 12, 25)), (datetime.date(2020, 12, 25), datetime.date(2021, 1, 24)), (datetime.date(2021, 1, 24), datetime.date(2021, 2, 23)), (datetime.date(2021, 2, 23), datetime.date(2021, 3, 25)), (datetime.date(2021, 3, 25), datetime.date(2021, 4, 24)), (datetime.date(2021, 4, 24), datetime.date(2021, 5, 24)), (datetime.date(2021, 5, 24), datetime.date(2021, 6, 23)), (datetime.date(2021, 6, 23), datetime.date(2021, 7, 23)), (datetime.date(2021, 7, 23), datetime.date(2021, 8, 22)), (datetime.date(2021, 8, 22), datetime.date(2021, 9, 21)), (datetime.date(2021, 9, 21), datetime.date(2021, 10, 21)), (datetime.date(2021, 10, 21), datetime.date(2021, 11, 20)), (datetime.date(2021, 11, 20), datetime.date(2021, 12, 20)), (datetime.date(2021, 12, 20), datetime.date(2022, 1, 19)), (datetime.date(2022, 1, 19), datetime.date(2022, 2, 18)), (datetime.date(2022, 2, 18), datetime.date(2022, 3, 20)), (datetime.date(2022, 3, 20), datetime.date(2022, 4, 19)), (datetime.date(2022, 4, 19), datetime.date(2022, 5, 19)), (datetime.date(2022, 5, 19), datetime.date(2022, 6, 18)), (datetime.date(2022, 6, 18), datetime.date(2022, 7, 18)), (datetime.date(2022, 7, 18), datetime.date(2022, 8, 17)), (datetime.date(2022, 8, 17), datetime.date(2022, 9, 16)), (datetime.date(2022, 9, 16), datetime.date(2022, 10, 16)), (datetime.date(2022, 10, 16), datetime.date(2022, 11, 15)), (datetime.date(2022, 11, 15), datetime.date(2022, 12, 15)), (datetime.date(2022, 12, 15), datetime.date(2022, 12, 31))]\n",
      "2019-12-31\n",
      "2020-01-30\n",
      "2020-02-29\n",
      "2020-03-30\n",
      "2020-04-29\n",
      "2020-05-29\n",
      "2020-06-28\n",
      "2020-07-28\n",
      "2020-08-27\n",
      "2020-09-26\n",
      "2020-10-26\n",
      "2020-11-25\n",
      "2020-12-25\n",
      "2021-01-24\n",
      "2021-02-23\n",
      "2021-03-25\n",
      "2021-04-24\n",
      "2021-05-24\n",
      "2021-06-23\n",
      "2021-07-23\n",
      "2021-08-22\n",
      "2021-09-21\n",
      "2021-10-21\n",
      "2021-11-20\n",
      "2021-12-20\n",
      "2022-01-19\n",
      "2022-02-18\n",
      "2022-03-20\n",
      "2022-04-19\n",
      "2022-05-19\n",
      "2022-06-18\n",
      "2022-07-18\n",
      "2022-08-17\n",
      "2022-09-16\n",
      "2022-10-16\n",
      "2022-11-15\n",
      "2022-12-15\n",
      "2022-12-31\n",
      "Train examples [483, 457, 368, 399, 464, 499, 488, 475, 459, 436, 423, 408, 498, 479, 391, 476, 464, 414, 362, 330, 436, 385, 444, 373, 411, 393, 405, 413, 418, 400, 418, 424, 390, 336, 439, 209]\n"
     ]
    },
    {
     "name": "stderr",
     "output_type": "stream",
     "text": [
      "100%|██████████| 3963/3963 [00:00<00:00, 21650.48it/s]\n",
      "100%|██████████| 3963/3963 [00:00<00:00, 20720.53it/s]\n",
      "100%|██████████| 3963/3963 [00:00<00:00, 25939.78it/s]\n",
      "100%|██████████| 3963/3963 [00:00<00:00, 24467.83it/s]\n",
      "100%|██████████| 3963/3963 [00:00<00:00, 21053.92it/s]\n",
      "100%|██████████| 3963/3963 [00:00<00:00, 20683.53it/s]\n",
      "100%|██████████| 3963/3963 [00:00<00:00, 20153.09it/s]\n",
      "100%|██████████| 3963/3963 [00:00<00:00, 22488.79it/s]\n",
      "100%|██████████| 3963/3963 [00:00<00:00, 21564.84it/s]\n",
      "100%|██████████| 3963/3963 [00:00<00:00, 22660.72it/s]\n",
      "100%|██████████| 3963/3963 [00:00<00:00, 24466.79it/s]\n",
      "100%|██████████| 3963/3963 [00:00<00:00, 25006.21it/s]\n",
      "100%|██████████| 3963/3963 [00:00<00:00, 20069.12it/s]\n",
      "100%|██████████| 3963/3963 [00:00<00:00, 22146.46it/s]\n",
      "100%|██████████| 3963/3963 [00:00<00:00, 27769.79it/s]\n",
      "100%|██████████| 3963/3963 [00:00<00:00, 22268.43it/s]\n",
      "100%|██████████| 3963/3963 [00:00<00:00, 22271.18it/s]\n",
      "100%|██████████| 3963/3963 [00:00<00:00, 24940.55it/s]\n",
      "100%|██████████| 3963/3963 [00:00<00:00, 26497.82it/s]\n",
      "100%|██████████| 3963/3963 [00:00<00:00, 31115.74it/s]\n",
      "100%|██████████| 3963/3963 [00:00<00:00, 24984.15it/s]\n",
      "100%|██████████| 3963/3963 [00:00<00:00, 28748.13it/s]\n",
      "100%|██████████| 3963/3963 [00:00<00:00, 22437.67it/s]\n",
      "100%|██████████| 3963/3963 [00:00<00:00, 27762.60it/s]\n",
      "100%|██████████| 3963/3963 [00:00<00:00, 26152.00it/s]\n",
      "100%|██████████| 3963/3963 [00:00<00:00, 25495.00it/s]\n",
      "100%|██████████| 3963/3963 [00:00<00:00, 24984.11it/s]\n",
      "100%|██████████| 3963/3963 [00:00<00:00, 23133.86it/s]\n",
      "100%|██████████| 3963/3963 [00:00<00:00, 24544.21it/s]\n",
      "100%|██████████| 3963/3963 [00:00<00:00, 25017.88it/s]\n",
      "100%|██████████| 3963/3963 [00:00<00:00, 26322.33it/s]\n",
      "100%|██████████| 3963/3963 [00:00<00:00, 23546.12it/s]\n",
      "100%|██████████| 3963/3963 [00:00<00:00, 25019.98it/s]\n",
      "100%|██████████| 3963/3963 [00:00<00:00, 27914.60it/s]\n",
      "100%|██████████| 3963/3963 [00:00<00:00, 22287.60it/s]\n",
      "100%|██████████| 3963/3963 [00:00<00:00, 49501.99it/s]\n",
      "100%|██████████| 36/36 [00:06<00:00,  5.91it/s]\n"
     ]
    },
    {
     "name": "stdout",
     "output_type": "stream",
     "text": [
      "Train examples [1101, 1067, 1035, 1113, 1146, 1112, 1115, 1071, 1067, 1024, 1013, 958, 1047, 1036, 962, 1035, 1033, 998, 988, 919, 973, 983, 977, 911, 894, 845, 875, 918, 881, 906, 933, 877, 844, 850, 906, 773]\n",
      "Train examples [1101, 1067, 1035, 1113, 1146, 1112, 1115, 1071, 1067, 1024, 1013, 958, 1047, 1036, 962, 1035, 1033, 998, 988, 919, 973, 983, 977, 911, 894, 845, 875, 918, 881, 906, 933, 877, 844, 850, 906, 773]\n",
      "Train examples [483, 457, 368, 399, 464, 499, 488, 475, 459, 436, 423, 408, 498, 479, 391, 476, 464, 414, 362, 330, 436, 385, 444, 373, 411, 393, 405, 413, 418, 400, 418, 424, 390, 336, 439, 209]\n",
      "Train examples [483, 457, 368, 399, 464, 499, 488, 475, 459, 436, 423, 408, 498, 479, 391, 476, 464, 414, 362, 330, 436, 385, 444, 373, 411, 393, 405, 413, 418, 400, 418, 424, 390, 336, 439, 209]\n",
      "here\n",
      "input_size=26\n"
     ]
    },
    {
     "name": "stderr",
     "output_type": "stream",
     "text": [
      "C:\\Users\\Nick\\AppData\\Local\\Temp\\ipykernel_8176\\3542074422.py:70: UserWarning: To copy construct from a tensor, it is recommended to use sourceTensor.clone().detach() or sourceTensor.clone().detach().requires_grad_(True), rather than torch.tensor(sourceTensor).\n",
      "  config['stat_mask_tensor'] = torch.tensor(stat_mask, dtype=torch.uint8).to(device)\n",
      "c:\\Users\\Nick\\.conda\\envs\\python311\\Lib\\site-packages\\torch\\nn\\modules\\lazy.py:180: UserWarning: Lazy modules are a new feature under heavy development so changes to the API or functionality can happen at any moment.\n",
      "  warnings.warn('Lazy modules are a new feature under heavy development '\n"
     ]
    },
    {
     "name": "stdout",
     "output_type": "stream",
     "text": [
      "GRUNetv3_extra(\n",
      "  (gru): GRU(26, 256, num_layers=2, dropout=0.3)\n",
      "  (relu): ReLU()\n",
      "  (fc0): Linear(in_features=2630, out_features=2048, bias=True)\n",
      "  (batch_norm): BatchNorm1d(26, eps=1e-05, momentum=0.1, affine=True, track_running_stats=True)\n",
      "  (batch_norm_data): BatchNorm1d(26, eps=1e-05, momentum=0.1, affine=True, track_running_stats=True)\n",
      "  (extra_1): GRUNetv3_simple_extra_data(\n",
      "    (batch_norm): LazyBatchNorm1d(0, eps=1e-05, momentum=0.1, affine=True, track_running_stats=True)\n",
      "    (relu): ReLU()\n",
      "    (fc0_p1): LazyLinear(in_features=0, out_features=128, bias=True)\n",
      "    (fc0_p1_drop): Dropout(p=0.3, inplace=False)\n",
      "    (fc0_p2): Linear(in_features=128, out_features=64, bias=True)\n",
      "    (fc0_p2_drop): Dropout(p=0.3, inplace=False)\n",
      "    (fc0_p3): Linear(in_features=64, out_features=64, bias=True)\n",
      "    (fc0_p3_drop): Dropout(p=0.3, inplace=False)\n",
      "  )\n",
      "  (fc0_p1): Linear(in_features=512, out_features=256, bias=True)\n",
      "  (fc0_p1_drop): Dropout(p=0.3, inplace=False)\n",
      "  (fc0_p2): Linear(in_features=256, out_features=256, bias=True)\n",
      "  (fc0_p2_drop): Dropout(p=0.3, inplace=False)\n",
      "  (fc0_p3): Linear(in_features=256, out_features=256, bias=True)\n",
      "  (fc0_p3_drop): Dropout(p=0.3, inplace=False)\n",
      "  (relu0): ReLU()\n",
      "  (drop1): Dropout(p=0.3, inplace=False)\n",
      "  (fc1): Linear(in_features=2048, out_features=1024, bias=True)\n",
      "  (drop2): Dropout(p=0.3, inplace=False)\n",
      "  (fc2): Linear(in_features=1024, out_features=64, bias=True)\n",
      "  (drop3): Dropout(p=0.3, inplace=False)\n",
      "  (fc3): Linear(in_features=64, out_features=8, bias=True)\n",
      "  (output_fn): Identity()\n",
      ")\n"
     ]
    },
    {
     "name": "stderr",
     "output_type": "stream",
     "text": [
      "  0%|          | 0/250 [00:00<?, ?it/s]"
     ]
    },
    {
     "name": "stdout",
     "output_type": "stream",
     "text": [
      "output.shape=torch.Size([2423, 8])\n",
      "[Errno 2] No such file or directory: 'C:\\\\Users\\\\Nick\\\\AppData\\\\Local\\\\Temp\\\\tmpelzujctgwandb-media\\\\qph409mf.table.json'\n",
      "output.shape=torch.Size([2833, 8])\n",
      "[Errno 2] No such file or directory: 'C:\\\\Users\\\\Nick\\\\AppData\\\\Local\\\\Temp\\\\tmpelzujctgwandb-media\\\\811ffucn.table.json'\n",
      "created path\n"
     ]
    },
    {
     "name": "stderr",
     "output_type": "stream",
     "text": [
      "  1%|          | 3/250 [02:48<3:40:32, 53.57s/it]"
     ]
    },
    {
     "name": "stdout",
     "output_type": "stream",
     "text": [
      "output.shape=torch.Size([2423, 8])\n",
      "[Errno 2] No such file or directory: 'C:\\\\Users\\\\Nick\\\\AppData\\\\Local\\\\Temp\\\\tmpelzujctgwandb-media\\\\oq1hk9z6.table.json'\n",
      "output.shape=torch.Size([2833, 8])\n",
      "[Errno 2] No such file or directory: 'C:\\\\Users\\\\Nick\\\\AppData\\\\Local\\\\Temp\\\\tmpelzujctgwandb-media\\\\rrzeh854.table.json'\n"
     ]
    },
    {
     "name": "stderr",
     "output_type": "stream",
     "text": [
      "  2%|▏         | 6/250 [05:36<3:37:13, 53.41s/it]"
     ]
    },
    {
     "name": "stdout",
     "output_type": "stream",
     "text": [
      "output.shape=torch.Size([2423, 8])\n",
      "[Errno 2] No such file or directory: 'C:\\\\Users\\\\Nick\\\\AppData\\\\Local\\\\Temp\\\\tmpelzujctgwandb-media\\\\kec5zhp9.table.json'\n",
      "output.shape=torch.Size([2833, 8])\n",
      "[Errno 2] No such file or directory: 'C:\\\\Users\\\\Nick\\\\AppData\\\\Local\\\\Temp\\\\tmpelzujctgwandb-media\\\\kl35xdfa.table.json'\n"
     ]
    },
    {
     "name": "stderr",
     "output_type": "stream",
     "text": [
      "  4%|▎         | 9/250 [08:22<3:33:30, 53.16s/it]"
     ]
    },
    {
     "name": "stdout",
     "output_type": "stream",
     "text": [
      "output.shape=torch.Size([2423, 8])\n",
      "[Errno 2] No such file or directory: 'C:\\\\Users\\\\Nick\\\\AppData\\\\Local\\\\Temp\\\\tmpelzujctgwandb-media\\\\867ifzxu.table.json'\n",
      "output.shape=torch.Size([2833, 8])\n",
      "[Errno 2] No such file or directory: 'C:\\\\Users\\\\Nick\\\\AppData\\\\Local\\\\Temp\\\\tmpelzujctgwandb-media\\\\qur8gqhg.table.json'\n"
     ]
    },
    {
     "name": "stderr",
     "output_type": "stream",
     "text": [
      "  5%|▍         | 12/250 [11:08<3:30:12, 52.99s/it]"
     ]
    },
    {
     "name": "stdout",
     "output_type": "stream",
     "text": [
      "output.shape=torch.Size([2423, 8])\n",
      "[Errno 2] No such file or directory: 'C:\\\\Users\\\\Nick\\\\AppData\\\\Local\\\\Temp\\\\tmpelzujctgwandb-media\\\\dzxicybr.table.json'\n",
      "output.shape=torch.Size([2833, 8])\n",
      "[Errno 2] No such file or directory: 'C:\\\\Users\\\\Nick\\\\AppData\\\\Local\\\\Temp\\\\tmpelzujctgwandb-media\\\\axnuwar5.table.json'\n"
     ]
    },
    {
     "name": "stderr",
     "output_type": "stream",
     "text": [
      "  6%|▌         | 15/250 [13:57<3:28:49, 53.32s/it]"
     ]
    },
    {
     "name": "stdout",
     "output_type": "stream",
     "text": [
      "output.shape=torch.Size([2423, 8])\n",
      "[Errno 2] No such file or directory: 'C:\\\\Users\\\\Nick\\\\AppData\\\\Local\\\\Temp\\\\tmpelzujctgwandb-media\\\\r3myeqwy.table.json'\n",
      "output.shape=torch.Size([2833, 8])\n",
      "[Errno 2] No such file or directory: 'C:\\\\Users\\\\Nick\\\\AppData\\\\Local\\\\Temp\\\\tmpelzujctgwandb-media\\\\bryxsqem.table.json'\n"
     ]
    },
    {
     "name": "stderr",
     "output_type": "stream",
     "text": [
      "  7%|▋         | 18/250 [16:45<3:26:50, 53.49s/it]"
     ]
    },
    {
     "name": "stdout",
     "output_type": "stream",
     "text": [
      "output.shape=torch.Size([2423, 8])\n",
      "[Errno 2] No such file or directory: 'C:\\\\Users\\\\Nick\\\\AppData\\\\Local\\\\Temp\\\\tmpelzujctgwandb-media\\\\spv6291u.table.json'\n",
      "output.shape=torch.Size([2833, 8])\n",
      "[Errno 2] No such file or directory: 'C:\\\\Users\\\\Nick\\\\AppData\\\\Local\\\\Temp\\\\tmpelzujctgwandb-media\\\\aegs7ct2.table.json'\n"
     ]
    },
    {
     "name": "stderr",
     "output_type": "stream",
     "text": [
      "  8%|▊         | 21/250 [19:32<3:23:58, 53.45s/it]"
     ]
    },
    {
     "name": "stdout",
     "output_type": "stream",
     "text": [
      "output.shape=torch.Size([2423, 8])\n",
      "[Errno 2] No such file or directory: 'C:\\\\Users\\\\Nick\\\\AppData\\\\Local\\\\Temp\\\\tmpelzujctgwandb-media\\\\wrzlms8b.table.json'\n",
      "output.shape=torch.Size([2833, 8])\n",
      "[Errno 2] No such file or directory: 'C:\\\\Users\\\\Nick\\\\AppData\\\\Local\\\\Temp\\\\tmpelzujctgwandb-media\\\\0mkd9g55.table.json'\n"
     ]
    },
    {
     "name": "stderr",
     "output_type": "stream",
     "text": [
      " 10%|▉         | 24/250 [22:22<3:22:13, 53.69s/it]"
     ]
    },
    {
     "name": "stdout",
     "output_type": "stream",
     "text": [
      "output.shape=torch.Size([2423, 8])\n",
      "[Errno 2] No such file or directory: 'C:\\\\Users\\\\Nick\\\\AppData\\\\Local\\\\Temp\\\\tmpelzujctgwandb-media\\\\5qd5zskb.table.json'\n",
      "output.shape=torch.Size([2833, 8])\n",
      "[Errno 2] No such file or directory: 'C:\\\\Users\\\\Nick\\\\AppData\\\\Local\\\\Temp\\\\tmpelzujctgwandb-media\\\\n8nbvobs.table.json'\n"
     ]
    },
    {
     "name": "stderr",
     "output_type": "stream",
     "text": [
      " 11%|█         | 27/250 [25:08<3:16:45, 52.94s/it]"
     ]
    },
    {
     "name": "stdout",
     "output_type": "stream",
     "text": [
      "output.shape=torch.Size([2423, 8])\n",
      "[Errno 2] No such file or directory: 'C:\\\\Users\\\\Nick\\\\AppData\\\\Local\\\\Temp\\\\tmpelzujctgwandb-media\\\\psncbf6r.table.json'\n",
      "output.shape=torch.Size([2833, 8])\n",
      "[Errno 2] No such file or directory: 'C:\\\\Users\\\\Nick\\\\AppData\\\\Local\\\\Temp\\\\tmpelzujctgwandb-media\\\\8jf5cp7x.table.json'\n"
     ]
    },
    {
     "name": "stderr",
     "output_type": "stream",
     "text": [
      " 12%|█▏        | 30/250 [27:55<3:14:30, 53.05s/it]"
     ]
    },
    {
     "name": "stdout",
     "output_type": "stream",
     "text": [
      "output.shape=torch.Size([2423, 8])\n",
      "[Errno 2] No such file or directory: 'C:\\\\Users\\\\Nick\\\\AppData\\\\Local\\\\Temp\\\\tmpelzujctgwandb-media\\\\imbvagj7.table.json'\n",
      "output.shape=torch.Size([2833, 8])\n",
      "[Errno 2] No such file or directory: 'C:\\\\Users\\\\Nick\\\\AppData\\\\Local\\\\Temp\\\\tmpelzujctgwandb-media\\\\5rc1ho03.table.json'\n"
     ]
    },
    {
     "name": "stderr",
     "output_type": "stream",
     "text": [
      " 13%|█▎        | 33/250 [30:42<3:12:02, 53.10s/it]"
     ]
    },
    {
     "name": "stdout",
     "output_type": "stream",
     "text": [
      "output.shape=torch.Size([2423, 8])\n",
      "[Errno 2] No such file or directory: 'C:\\\\Users\\\\Nick\\\\AppData\\\\Local\\\\Temp\\\\tmpelzujctgwandb-media\\\\k2ytex3k.table.json'\n",
      "output.shape=torch.Size([2833, 8])\n",
      "[Errno 2] No such file or directory: 'C:\\\\Users\\\\Nick\\\\AppData\\\\Local\\\\Temp\\\\tmpelzujctgwandb-media\\\\bma765g2.table.json'\n"
     ]
    },
    {
     "name": "stderr",
     "output_type": "stream",
     "text": [
      " 14%|█▍        | 36/250 [33:29<3:10:00, 53.27s/it]"
     ]
    },
    {
     "name": "stdout",
     "output_type": "stream",
     "text": [
      "output.shape=torch.Size([2423, 8])\n",
      "[Errno 2] No such file or directory: 'C:\\\\Users\\\\Nick\\\\AppData\\\\Local\\\\Temp\\\\tmpelzujctgwandb-media\\\\5riaxdnx.table.json'\n",
      "output.shape=torch.Size([2833, 8])\n",
      "[Errno 2] No such file or directory: 'C:\\\\Users\\\\Nick\\\\AppData\\\\Local\\\\Temp\\\\tmpelzujctgwandb-media\\\\wwfnumu6.table.json'\n"
     ]
    },
    {
     "name": "stderr",
     "output_type": "stream",
     "text": [
      " 16%|█▌        | 39/250 [36:16<3:06:26, 53.02s/it]"
     ]
    },
    {
     "name": "stdout",
     "output_type": "stream",
     "text": [
      "output.shape=torch.Size([2423, 8])\n",
      "[Errno 2] No such file or directory: 'C:\\\\Users\\\\Nick\\\\AppData\\\\Local\\\\Temp\\\\tmpelzujctgwandb-media\\\\oq4k9whk.table.json'\n",
      "output.shape=torch.Size([2833, 8])\n",
      "[Errno 2] No such file or directory: 'C:\\\\Users\\\\Nick\\\\AppData\\\\Local\\\\Temp\\\\tmpelzujctgwandb-media\\\\4ak2iypp.table.json'\n"
     ]
    },
    {
     "name": "stderr",
     "output_type": "stream",
     "text": [
      " 17%|█▋        | 42/250 [39:03<3:04:47, 53.31s/it]"
     ]
    },
    {
     "name": "stdout",
     "output_type": "stream",
     "text": [
      "output.shape=torch.Size([2423, 8])\n",
      "[Errno 2] No such file or directory: 'C:\\\\Users\\\\Nick\\\\AppData\\\\Local\\\\Temp\\\\tmpelzujctgwandb-media\\\\naivxs8t.table.json'\n",
      "output.shape=torch.Size([2833, 8])\n",
      "[Errno 2] No such file or directory: 'C:\\\\Users\\\\Nick\\\\AppData\\\\Local\\\\Temp\\\\tmpelzujctgwandb-media\\\\f4azjc18.table.json'\n"
     ]
    },
    {
     "name": "stderr",
     "output_type": "stream",
     "text": [
      " 18%|█▊        | 45/250 [41:50<3:01:58, 53.26s/it]"
     ]
    },
    {
     "name": "stdout",
     "output_type": "stream",
     "text": [
      "output.shape=torch.Size([2423, 8])\n",
      "[Errno 2] No such file or directory: 'C:\\\\Users\\\\Nick\\\\AppData\\\\Local\\\\Temp\\\\tmpelzujctgwandb-media\\\\wl3fcj7q.table.json'\n",
      "output.shape=torch.Size([2833, 8])\n",
      "[Errno 2] No such file or directory: 'C:\\\\Users\\\\Nick\\\\AppData\\\\Local\\\\Temp\\\\tmpelzujctgwandb-media\\\\407n7i7e.table.json'\n"
     ]
    },
    {
     "name": "stderr",
     "output_type": "stream",
     "text": [
      " 19%|█▉        | 48/250 [44:37<2:59:17, 53.25s/it]"
     ]
    },
    {
     "name": "stdout",
     "output_type": "stream",
     "text": [
      "output.shape=torch.Size([2423, 8])\n",
      "[Errno 2] No such file or directory: 'C:\\\\Users\\\\Nick\\\\AppData\\\\Local\\\\Temp\\\\tmpelzujctgwandb-media\\\\3a0yf2wy.table.json'\n",
      "output.shape=torch.Size([2833, 8])\n",
      "[Errno 2] No such file or directory: 'C:\\\\Users\\\\Nick\\\\AppData\\\\Local\\\\Temp\\\\tmpelzujctgwandb-media\\\\d33t8aeq.table.json'\n"
     ]
    },
    {
     "name": "stderr",
     "output_type": "stream",
     "text": [
      " 20%|██        | 51/250 [47:23<2:55:37, 52.95s/it]"
     ]
    },
    {
     "name": "stdout",
     "output_type": "stream",
     "text": [
      "output.shape=torch.Size([2423, 8])\n",
      "[Errno 2] No such file or directory: 'C:\\\\Users\\\\Nick\\\\AppData\\\\Local\\\\Temp\\\\tmpelzujctgwandb-media\\\\hqwh9pmo.table.json'\n",
      "output.shape=torch.Size([2833, 8])\n",
      "[Errno 2] No such file or directory: 'C:\\\\Users\\\\Nick\\\\AppData\\\\Local\\\\Temp\\\\tmpelzujctgwandb-media\\\\kchrtku7.table.json'\n"
     ]
    },
    {
     "name": "stderr",
     "output_type": "stream",
     "text": [
      " 22%|██▏       | 54/250 [50:11<2:53:35, 53.14s/it]"
     ]
    },
    {
     "name": "stdout",
     "output_type": "stream",
     "text": [
      "output.shape=torch.Size([2423, 8])\n",
      "[Errno 2] No such file or directory: 'C:\\\\Users\\\\Nick\\\\AppData\\\\Local\\\\Temp\\\\tmpelzujctgwandb-media\\\\tmhljsna.table.json'\n",
      "output.shape=torch.Size([2833, 8])\n",
      "[Errno 2] No such file or directory: 'C:\\\\Users\\\\Nick\\\\AppData\\\\Local\\\\Temp\\\\tmpelzujctgwandb-media\\\\1h0whagy.table.json'\n"
     ]
    },
    {
     "name": "stderr",
     "output_type": "stream",
     "text": [
      " 23%|██▎       | 57/250 [52:58<2:50:53, 53.13s/it]"
     ]
    },
    {
     "name": "stdout",
     "output_type": "stream",
     "text": [
      "output.shape=torch.Size([2423, 8])\n",
      "[Errno 2] No such file or directory: 'C:\\\\Users\\\\Nick\\\\AppData\\\\Local\\\\Temp\\\\tmpelzujctgwandb-media\\\\ij3fvp6x.table.json'\n",
      "output.shape=torch.Size([2833, 8])\n",
      "[Errno 2] No such file or directory: 'C:\\\\Users\\\\Nick\\\\AppData\\\\Local\\\\Temp\\\\tmpelzujctgwandb-media\\\\6hwg4e50.table.json'\n"
     ]
    },
    {
     "name": "stderr",
     "output_type": "stream",
     "text": [
      " 24%|██▍       | 60/250 [55:45<2:48:57, 53.35s/it]"
     ]
    },
    {
     "name": "stdout",
     "output_type": "stream",
     "text": [
      "output.shape=torch.Size([2423, 8])\n",
      "[Errno 2] No such file or directory: 'C:\\\\Users\\\\Nick\\\\AppData\\\\Local\\\\Temp\\\\tmpelzujctgwandb-media\\\\e98fejhr.table.json'\n",
      "output.shape=torch.Size([2833, 8])\n",
      "[Errno 2] No such file or directory: 'C:\\\\Users\\\\Nick\\\\AppData\\\\Local\\\\Temp\\\\tmpelzujctgwandb-media\\\\hgj2xd3v.table.json'\n"
     ]
    },
    {
     "name": "stderr",
     "output_type": "stream",
     "text": [
      " 25%|██▌       | 63/250 [58:33<2:45:59, 53.26s/it]"
     ]
    },
    {
     "name": "stdout",
     "output_type": "stream",
     "text": [
      "output.shape=torch.Size([2423, 8])\n",
      "[Errno 2] No such file or directory: 'C:\\\\Users\\\\Nick\\\\AppData\\\\Local\\\\Temp\\\\tmpelzujctgwandb-media\\\\39ou8deb.table.json'\n",
      "output.shape=torch.Size([2833, 8])\n",
      "[Errno 2] No such file or directory: 'C:\\\\Users\\\\Nick\\\\AppData\\\\Local\\\\Temp\\\\tmpelzujctgwandb-media\\\\niirublw.table.json'\n"
     ]
    },
    {
     "name": "stderr",
     "output_type": "stream",
     "text": [
      " 26%|██▋       | 66/250 [1:01:22<2:44:09, 53.53s/it]"
     ]
    },
    {
     "name": "stdout",
     "output_type": "stream",
     "text": [
      "output.shape=torch.Size([2423, 8])\n",
      "[Errno 2] No such file or directory: 'C:\\\\Users\\\\Nick\\\\AppData\\\\Local\\\\Temp\\\\tmpelzujctgwandb-media\\\\f8kkehy3.table.json'\n",
      "output.shape=torch.Size([2833, 8])\n",
      "[Errno 2] No such file or directory: 'C:\\\\Users\\\\Nick\\\\AppData\\\\Local\\\\Temp\\\\tmpelzujctgwandb-media\\\\3ic9tkge.table.json'\n"
     ]
    },
    {
     "name": "stderr",
     "output_type": "stream",
     "text": [
      " 28%|██▊       | 69/250 [1:04:09<2:40:53, 53.34s/it]"
     ]
    },
    {
     "name": "stdout",
     "output_type": "stream",
     "text": [
      "output.shape=torch.Size([2423, 8])\n",
      "[Errno 2] No such file or directory: 'C:\\\\Users\\\\Nick\\\\AppData\\\\Local\\\\Temp\\\\tmpelzujctgwandb-media\\\\20maoh00.table.json'\n",
      "output.shape=torch.Size([2833, 8])\n",
      "[Errno 2] No such file or directory: 'C:\\\\Users\\\\Nick\\\\AppData\\\\Local\\\\Temp\\\\tmpelzujctgwandb-media\\\\o9m51y8k.table.json'\n"
     ]
    },
    {
     "name": "stderr",
     "output_type": "stream",
     "text": [
      " 29%|██▉       | 72/250 [1:06:56<2:37:34, 53.11s/it]"
     ]
    },
    {
     "name": "stdout",
     "output_type": "stream",
     "text": [
      "output.shape=torch.Size([2423, 8])\n",
      "[Errno 2] No such file or directory: 'C:\\\\Users\\\\Nick\\\\AppData\\\\Local\\\\Temp\\\\tmpelzujctgwandb-media\\\\vj68h7rt.table.json'\n",
      "output.shape=torch.Size([2833, 8])\n",
      "[Errno 2] No such file or directory: 'C:\\\\Users\\\\Nick\\\\AppData\\\\Local\\\\Temp\\\\tmpelzujctgwandb-media\\\\716v6zoe.table.json'\n"
     ]
    },
    {
     "name": "stderr",
     "output_type": "stream",
     "text": [
      " 30%|███       | 75/250 [1:09:43<2:35:13, 53.22s/it]"
     ]
    },
    {
     "name": "stdout",
     "output_type": "stream",
     "text": [
      "output.shape=torch.Size([2423, 8])\n",
      "[Errno 2] No such file or directory: 'C:\\\\Users\\\\Nick\\\\AppData\\\\Local\\\\Temp\\\\tmpelzujctgwandb-media\\\\h1lcnb0r.table.json'\n",
      "output.shape=torch.Size([2833, 8])\n",
      "[Errno 2] No such file or directory: 'C:\\\\Users\\\\Nick\\\\AppData\\\\Local\\\\Temp\\\\tmpelzujctgwandb-media\\\\342i72u6.table.json'\n"
     ]
    },
    {
     "name": "stderr",
     "output_type": "stream",
     "text": [
      " 31%|███       | 78/250 [1:12:31<2:33:15, 53.46s/it]"
     ]
    },
    {
     "name": "stdout",
     "output_type": "stream",
     "text": [
      "output.shape=torch.Size([2423, 8])\n",
      "[Errno 2] No such file or directory: 'C:\\\\Users\\\\Nick\\\\AppData\\\\Local\\\\Temp\\\\tmpelzujctgwandb-media\\\\8l4mp5mq.table.json'\n",
      "output.shape=torch.Size([2833, 8])\n",
      "[Errno 2] No such file or directory: 'C:\\\\Users\\\\Nick\\\\AppData\\\\Local\\\\Temp\\\\tmpelzujctgwandb-media\\\\o2lqq030.table.json'\n"
     ]
    },
    {
     "name": "stderr",
     "output_type": "stream",
     "text": [
      " 32%|███▏      | 81/250 [1:15:17<2:29:16, 53.00s/it]"
     ]
    },
    {
     "name": "stdout",
     "output_type": "stream",
     "text": [
      "output.shape=torch.Size([2423, 8])\n",
      "[Errno 2] No such file or directory: 'C:\\\\Users\\\\Nick\\\\AppData\\\\Local\\\\Temp\\\\tmpelzujctgwandb-media\\\\3gm6zjw9.table.json'\n",
      "output.shape=torch.Size([2833, 8])\n",
      "[Errno 2] No such file or directory: 'C:\\\\Users\\\\Nick\\\\AppData\\\\Local\\\\Temp\\\\tmpelzujctgwandb-media\\\\msiz9odz.table.json'\n"
     ]
    },
    {
     "name": "stderr",
     "output_type": "stream",
     "text": [
      " 34%|███▎      | 84/250 [1:18:05<2:27:11, 53.20s/it]"
     ]
    },
    {
     "name": "stdout",
     "output_type": "stream",
     "text": [
      "output.shape=torch.Size([2423, 8])\n",
      "[Errno 2] No such file or directory: 'C:\\\\Users\\\\Nick\\\\AppData\\\\Local\\\\Temp\\\\tmpelzujctgwandb-media\\\\bxhaeczt.table.json'\n",
      "output.shape=torch.Size([2833, 8])\n",
      "[Errno 2] No such file or directory: 'C:\\\\Users\\\\Nick\\\\AppData\\\\Local\\\\Temp\\\\tmpelzujctgwandb-media\\\\uazdorxa.table.json'\n"
     ]
    },
    {
     "name": "stderr",
     "output_type": "stream",
     "text": [
      " 35%|███▍      | 87/250 [1:20:56<2:26:05, 53.78s/it]"
     ]
    },
    {
     "name": "stdout",
     "output_type": "stream",
     "text": [
      "output.shape=torch.Size([2423, 8])\n",
      "[Errno 2] No such file or directory: 'C:\\\\Users\\\\Nick\\\\AppData\\\\Local\\\\Temp\\\\tmpelzujctgwandb-media\\\\x77iycxq.table.json'\n",
      "output.shape=torch.Size([2833, 8])\n",
      "[Errno 2] No such file or directory: 'C:\\\\Users\\\\Nick\\\\AppData\\\\Local\\\\Temp\\\\tmpelzujctgwandb-media\\\\8229ohaa.table.json'\n"
     ]
    },
    {
     "name": "stderr",
     "output_type": "stream",
     "text": [
      " 36%|███▌      | 90/250 [1:23:43<2:22:29, 53.43s/it]"
     ]
    },
    {
     "name": "stdout",
     "output_type": "stream",
     "text": [
      "output.shape=torch.Size([2423, 8])\n",
      "[Errno 2] No such file or directory: 'C:\\\\Users\\\\Nick\\\\AppData\\\\Local\\\\Temp\\\\tmpelzujctgwandb-media\\\\g1hwul34.table.json'\n",
      "output.shape=torch.Size([2833, 8])\n",
      "[Errno 2] No such file or directory: 'C:\\\\Users\\\\Nick\\\\AppData\\\\Local\\\\Temp\\\\tmpelzujctgwandb-media\\\\swj6uefw.table.json'\n"
     ]
    },
    {
     "name": "stderr",
     "output_type": "stream",
     "text": [
      " 37%|███▋      | 93/250 [1:26:29<2:18:57, 53.11s/it]"
     ]
    },
    {
     "name": "stdout",
     "output_type": "stream",
     "text": [
      "output.shape=torch.Size([2423, 8])\n",
      "[Errno 2] No such file or directory: 'C:\\\\Users\\\\Nick\\\\AppData\\\\Local\\\\Temp\\\\tmpelzujctgwandb-media\\\\gxqbsj26.table.json'\n",
      "output.shape=torch.Size([2833, 8])\n",
      "[Errno 2] No such file or directory: 'C:\\\\Users\\\\Nick\\\\AppData\\\\Local\\\\Temp\\\\tmpelzujctgwandb-media\\\\5mrergos.table.json'\n"
     ]
    },
    {
     "name": "stderr",
     "output_type": "stream",
     "text": [
      " 38%|███▊      | 96/250 [1:29:16<2:16:12, 53.07s/it]"
     ]
    },
    {
     "name": "stdout",
     "output_type": "stream",
     "text": [
      "output.shape=torch.Size([2423, 8])\n",
      "[Errno 2] No such file or directory: 'C:\\\\Users\\\\Nick\\\\AppData\\\\Local\\\\Temp\\\\tmpelzujctgwandb-media\\\\yk2b5hn9.table.json'\n",
      "output.shape=torch.Size([2833, 8])\n",
      "[Errno 2] No such file or directory: 'C:\\\\Users\\\\Nick\\\\AppData\\\\Local\\\\Temp\\\\tmpelzujctgwandb-media\\\\mmo86znp.table.json'\n"
     ]
    },
    {
     "name": "stderr",
     "output_type": "stream",
     "text": [
      " 40%|███▉      | 99/250 [1:32:03<2:13:25, 53.01s/it]"
     ]
    },
    {
     "name": "stdout",
     "output_type": "stream",
     "text": [
      "output.shape=torch.Size([2423, 8])\n",
      "[Errno 2] No such file or directory: 'C:\\\\Users\\\\Nick\\\\AppData\\\\Local\\\\Temp\\\\tmpelzujctgwandb-media\\\\a9z8hv36.table.json'\n",
      "output.shape=torch.Size([2833, 8])\n",
      "[Errno 2] No such file or directory: 'C:\\\\Users\\\\Nick\\\\AppData\\\\Local\\\\Temp\\\\tmpelzujctgwandb-media\\\\rqg9cyie.table.json'\n"
     ]
    },
    {
     "name": "stderr",
     "output_type": "stream",
     "text": [
      " 41%|████      | 102/250 [1:34:53<2:12:25, 53.69s/it]"
     ]
    },
    {
     "name": "stdout",
     "output_type": "stream",
     "text": [
      "output.shape=torch.Size([2423, 8])\n",
      "[Errno 2] No such file or directory: 'C:\\\\Users\\\\Nick\\\\AppData\\\\Local\\\\Temp\\\\tmpelzujctgwandb-media\\\\mbijtghe.table.json'\n",
      "output.shape=torch.Size([2833, 8])\n",
      "[Errno 2] No such file or directory: 'C:\\\\Users\\\\Nick\\\\AppData\\\\Local\\\\Temp\\\\tmpelzujctgwandb-media\\\\t8sma841.table.json'\n"
     ]
    },
    {
     "name": "stderr",
     "output_type": "stream",
     "text": [
      " 42%|████▏     | 105/250 [1:37:40<2:09:06, 53.43s/it]"
     ]
    },
    {
     "name": "stdout",
     "output_type": "stream",
     "text": [
      "output.shape=torch.Size([2423, 8])\n",
      "[Errno 2] No such file or directory: 'C:\\\\Users\\\\Nick\\\\AppData\\\\Local\\\\Temp\\\\tmpelzujctgwandb-media\\\\t5a0diq3.table.json'\n",
      "output.shape=torch.Size([2833, 8])\n",
      "[Errno 2] No such file or directory: 'C:\\\\Users\\\\Nick\\\\AppData\\\\Local\\\\Temp\\\\tmpelzujctgwandb-media\\\\44z2mm4d.table.json'\n"
     ]
    },
    {
     "name": "stderr",
     "output_type": "stream",
     "text": [
      " 43%|████▎     | 108/250 [1:40:27<2:06:09, 53.30s/it]"
     ]
    },
    {
     "name": "stdout",
     "output_type": "stream",
     "text": [
      "output.shape=torch.Size([2423, 8])\n",
      "[Errno 2] No such file or directory: 'C:\\\\Users\\\\Nick\\\\AppData\\\\Local\\\\Temp\\\\tmpelzujctgwandb-media\\\\hx8s4y9t.table.json'\n",
      "output.shape=torch.Size([2833, 8])\n",
      "[Errno 2] No such file or directory: 'C:\\\\Users\\\\Nick\\\\AppData\\\\Local\\\\Temp\\\\tmpelzujctgwandb-media\\\\9bkm369j.table.json'\n"
     ]
    },
    {
     "name": "stderr",
     "output_type": "stream",
     "text": [
      " 44%|████▍     | 111/250 [1:43:13<2:02:21, 52.81s/it]"
     ]
    },
    {
     "name": "stdout",
     "output_type": "stream",
     "text": [
      "output.shape=torch.Size([2423, 8])\n",
      "[Errno 2] No such file or directory: 'C:\\\\Users\\\\Nick\\\\AppData\\\\Local\\\\Temp\\\\tmpelzujctgwandb-media\\\\huaf8swv.table.json'\n",
      "output.shape=torch.Size([2833, 8])\n",
      "[Errno 2] No such file or directory: 'C:\\\\Users\\\\Nick\\\\AppData\\\\Local\\\\Temp\\\\tmpelzujctgwandb-media\\\\npweierk.table.json'\n"
     ]
    },
    {
     "name": "stderr",
     "output_type": "stream",
     "text": [
      " 46%|████▌     | 114/250 [1:46:00<2:00:32, 53.18s/it]"
     ]
    },
    {
     "name": "stdout",
     "output_type": "stream",
     "text": [
      "output.shape=torch.Size([2423, 8])\n",
      "[Errno 2] No such file or directory: 'C:\\\\Users\\\\Nick\\\\AppData\\\\Local\\\\Temp\\\\tmpelzujctgwandb-media\\\\94qvkzh6.table.json'\n",
      "output.shape=torch.Size([2833, 8])\n",
      "[Errno 2] No such file or directory: 'C:\\\\Users\\\\Nick\\\\AppData\\\\Local\\\\Temp\\\\tmpelzujctgwandb-media\\\\suxocu4q.table.json'\n"
     ]
    },
    {
     "name": "stderr",
     "output_type": "stream",
     "text": [
      " 47%|████▋     | 117/250 [1:48:47<1:57:38, 53.07s/it]"
     ]
    },
    {
     "name": "stdout",
     "output_type": "stream",
     "text": [
      "output.shape=torch.Size([2423, 8])\n",
      "[Errno 2] No such file or directory: 'C:\\\\Users\\\\Nick\\\\AppData\\\\Local\\\\Temp\\\\tmpelzujctgwandb-media\\\\r5hcrezc.table.json'\n",
      "output.shape=torch.Size([2833, 8])\n",
      "[Errno 2] No such file or directory: 'C:\\\\Users\\\\Nick\\\\AppData\\\\Local\\\\Temp\\\\tmpelzujctgwandb-media\\\\l1z16l22.table.json'\n"
     ]
    },
    {
     "name": "stderr",
     "output_type": "stream",
     "text": [
      " 48%|████▊     | 120/250 [1:51:34<1:55:18, 53.22s/it]"
     ]
    },
    {
     "name": "stdout",
     "output_type": "stream",
     "text": [
      "output.shape=torch.Size([2423, 8])\n",
      "[Errno 2] No such file or directory: 'C:\\\\Users\\\\Nick\\\\AppData\\\\Local\\\\Temp\\\\tmpelzujctgwandb-media\\\\pi8k9sd8.table.json'\n",
      "output.shape=torch.Size([2833, 8])\n",
      "[Errno 2] No such file or directory: 'C:\\\\Users\\\\Nick\\\\AppData\\\\Local\\\\Temp\\\\tmpelzujctgwandb-media\\\\2hwvlr31.table.json'\n"
     ]
    },
    {
     "name": "stderr",
     "output_type": "stream",
     "text": [
      " 49%|████▉     | 123/250 [1:54:22<1:52:46, 53.28s/it]"
     ]
    },
    {
     "name": "stdout",
     "output_type": "stream",
     "text": [
      "output.shape=torch.Size([2423, 8])\n",
      "[Errno 2] No such file or directory: 'C:\\\\Users\\\\Nick\\\\AppData\\\\Local\\\\Temp\\\\tmpelzujctgwandb-media\\\\ov2hhlp9.table.json'\n",
      "output.shape=torch.Size([2833, 8])\n",
      "[Errno 2] No such file or directory: 'C:\\\\Users\\\\Nick\\\\AppData\\\\Local\\\\Temp\\\\tmpelzujctgwandb-media\\\\r5k36889.table.json'\n"
     ]
    },
    {
     "name": "stderr",
     "output_type": "stream",
     "text": [
      " 50%|█████     | 126/250 [1:57:10<1:50:18, 53.38s/it]"
     ]
    },
    {
     "name": "stdout",
     "output_type": "stream",
     "text": [
      "output.shape=torch.Size([2423, 8])\n",
      "[Errno 2] No such file or directory: 'C:\\\\Users\\\\Nick\\\\AppData\\\\Local\\\\Temp\\\\tmpelzujctgwandb-media\\\\nrshokd5.table.json'\n",
      "output.shape=torch.Size([2833, 8])\n",
      "[Errno 2] No such file or directory: 'C:\\\\Users\\\\Nick\\\\AppData\\\\Local\\\\Temp\\\\tmpelzujctgwandb-media\\\\72x02b0z.table.json'\n"
     ]
    },
    {
     "name": "stderr",
     "output_type": "stream",
     "text": [
      " 52%|█████▏    | 129/250 [1:59:56<1:47:09, 53.13s/it]"
     ]
    },
    {
     "name": "stdout",
     "output_type": "stream",
     "text": [
      "output.shape=torch.Size([2423, 8])\n",
      "[Errno 2] No such file or directory: 'C:\\\\Users\\\\Nick\\\\AppData\\\\Local\\\\Temp\\\\tmpelzujctgwandb-media\\\\t5jggua5.table.json'\n",
      "output.shape=torch.Size([2833, 8])\n",
      "[Errno 2] No such file or directory: 'C:\\\\Users\\\\Nick\\\\AppData\\\\Local\\\\Temp\\\\tmpelzujctgwandb-media\\\\h6935xxe.table.json'\n"
     ]
    },
    {
     "name": "stderr",
     "output_type": "stream",
     "text": [
      " 53%|█████▎    | 132/250 [2:02:46<1:45:48, 53.80s/it]"
     ]
    },
    {
     "name": "stdout",
     "output_type": "stream",
     "text": [
      "output.shape=torch.Size([2423, 8])\n",
      "[Errno 2] No such file or directory: 'C:\\\\Users\\\\Nick\\\\AppData\\\\Local\\\\Temp\\\\tmpelzujctgwandb-media\\\\nuisulr2.table.json'\n",
      "output.shape=torch.Size([2833, 8])\n",
      "[Errno 2] No such file or directory: 'C:\\\\Users\\\\Nick\\\\AppData\\\\Local\\\\Temp\\\\tmpelzujctgwandb-media\\\\00mzad2e.table.json'\n"
     ]
    },
    {
     "name": "stderr",
     "output_type": "stream",
     "text": [
      " 54%|█████▍    | 135/250 [2:05:36<1:43:07, 53.80s/it]"
     ]
    },
    {
     "name": "stdout",
     "output_type": "stream",
     "text": [
      "output.shape=torch.Size([2423, 8])\n",
      "[Errno 2] No such file or directory: 'C:\\\\Users\\\\Nick\\\\AppData\\\\Local\\\\Temp\\\\tmpelzujctgwandb-media\\\\5lgrwnga.table.json'\n",
      "output.shape=torch.Size([2833, 8])\n",
      "[Errno 2] No such file or directory: 'C:\\\\Users\\\\Nick\\\\AppData\\\\Local\\\\Temp\\\\tmpelzujctgwandb-media\\\\27rlsx2o.table.json'\n"
     ]
    },
    {
     "name": "stderr",
     "output_type": "stream",
     "text": [
      " 55%|█████▌    | 138/250 [2:08:23<1:39:56, 53.54s/it]"
     ]
    },
    {
     "name": "stdout",
     "output_type": "stream",
     "text": [
      "output.shape=torch.Size([2423, 8])\n",
      "[Errno 2] No such file or directory: 'C:\\\\Users\\\\Nick\\\\AppData\\\\Local\\\\Temp\\\\tmpelzujctgwandb-media\\\\tw5wbzvs.table.json'\n",
      "output.shape=torch.Size([2833, 8])\n",
      "[Errno 2] No such file or directory: 'C:\\\\Users\\\\Nick\\\\AppData\\\\Local\\\\Temp\\\\tmpelzujctgwandb-media\\\\0yc3jxa8.table.json'\n"
     ]
    },
    {
     "name": "stderr",
     "output_type": "stream",
     "text": [
      " 56%|█████▋    | 141/250 [2:11:10<1:36:38, 53.19s/it]"
     ]
    },
    {
     "name": "stdout",
     "output_type": "stream",
     "text": [
      "output.shape=torch.Size([2423, 8])\n",
      "[Errno 2] No such file or directory: 'C:\\\\Users\\\\Nick\\\\AppData\\\\Local\\\\Temp\\\\tmpelzujctgwandb-media\\\\99ayt7pk.table.json'\n",
      "output.shape=torch.Size([2833, 8])\n",
      "[Errno 2] No such file or directory: 'C:\\\\Users\\\\Nick\\\\AppData\\\\Local\\\\Temp\\\\tmpelzujctgwandb-media\\\\rcqjudyq.table.json'\n"
     ]
    },
    {
     "name": "stderr",
     "output_type": "stream",
     "text": [
      " 58%|█████▊    | 144/250 [2:13:57<1:33:51, 53.13s/it]"
     ]
    },
    {
     "name": "stdout",
     "output_type": "stream",
     "text": [
      "output.shape=torch.Size([2423, 8])\n",
      "[Errno 2] No such file or directory: 'C:\\\\Users\\\\Nick\\\\AppData\\\\Local\\\\Temp\\\\tmpelzujctgwandb-media\\\\9q92zx28.table.json'\n",
      "output.shape=torch.Size([2833, 8])\n",
      "[Errno 2] No such file or directory: 'C:\\\\Users\\\\Nick\\\\AppData\\\\Local\\\\Temp\\\\tmpelzujctgwandb-media\\\\26qk5gv2.table.json'\n"
     ]
    },
    {
     "name": "stderr",
     "output_type": "stream",
     "text": [
      " 59%|█████▉    | 147/250 [2:16:44<1:31:09, 53.10s/it]"
     ]
    },
    {
     "name": "stdout",
     "output_type": "stream",
     "text": [
      "output.shape=torch.Size([2423, 8])\n",
      "[Errno 2] No such file or directory: 'C:\\\\Users\\\\Nick\\\\AppData\\\\Local\\\\Temp\\\\tmpelzujctgwandb-media\\\\wy2fjodj.table.json'\n",
      "output.shape=torch.Size([2833, 8])\n",
      "[Errno 2] No such file or directory: 'C:\\\\Users\\\\Nick\\\\AppData\\\\Local\\\\Temp\\\\tmpelzujctgwandb-media\\\\v4sidkqq.table.json'\n"
     ]
    },
    {
     "name": "stderr",
     "output_type": "stream",
     "text": [
      " 60%|██████    | 150/250 [2:19:30<1:28:34, 53.15s/it]"
     ]
    },
    {
     "name": "stdout",
     "output_type": "stream",
     "text": [
      "output.shape=torch.Size([2423, 8])\n",
      "[Errno 2] No such file or directory: 'C:\\\\Users\\\\Nick\\\\AppData\\\\Local\\\\Temp\\\\tmpelzujctgwandb-media\\\\1zx5wgok.table.json'\n",
      "output.shape=torch.Size([2833, 8])\n",
      "[Errno 2] No such file or directory: 'C:\\\\Users\\\\Nick\\\\AppData\\\\Local\\\\Temp\\\\tmpelzujctgwandb-media\\\\r1sebvmz.table.json'\n"
     ]
    },
    {
     "name": "stderr",
     "output_type": "stream",
     "text": [
      " 61%|██████    | 153/250 [2:22:22<1:26:58, 53.80s/it]"
     ]
    },
    {
     "name": "stdout",
     "output_type": "stream",
     "text": [
      "output.shape=torch.Size([2423, 8])\n",
      "[Errno 2] No such file or directory: 'C:\\\\Users\\\\Nick\\\\AppData\\\\Local\\\\Temp\\\\tmpelzujctgwandb-media\\\\9vj1mmp5.table.json'\n",
      "output.shape=torch.Size([2833, 8])\n",
      "[Errno 2] No such file or directory: 'C:\\\\Users\\\\Nick\\\\AppData\\\\Local\\\\Temp\\\\tmpelzujctgwandb-media\\\\jua0fd67.table.json'\n"
     ]
    },
    {
     "name": "stderr",
     "output_type": "stream",
     "text": [
      " 62%|██████▏   | 156/250 [2:25:09<1:23:31, 53.31s/it]"
     ]
    },
    {
     "name": "stdout",
     "output_type": "stream",
     "text": [
      "output.shape=torch.Size([2423, 8])\n",
      "[Errno 2] No such file or directory: 'C:\\\\Users\\\\Nick\\\\AppData\\\\Local\\\\Temp\\\\tmpelzujctgwandb-media\\\\dlu09oed.table.json'\n",
      "output.shape=torch.Size([2833, 8])\n",
      "[Errno 2] No such file or directory: 'C:\\\\Users\\\\Nick\\\\AppData\\\\Local\\\\Temp\\\\tmpelzujctgwandb-media\\\\mq9urar2.table.json'\n"
     ]
    },
    {
     "name": "stderr",
     "output_type": "stream",
     "text": [
      " 64%|██████▎   | 159/250 [2:27:57<1:20:48, 53.28s/it]"
     ]
    },
    {
     "name": "stdout",
     "output_type": "stream",
     "text": [
      "output.shape=torch.Size([2423, 8])\n",
      "[Errno 2] No such file or directory: 'C:\\\\Users\\\\Nick\\\\AppData\\\\Local\\\\Temp\\\\tmpelzujctgwandb-media\\\\35dfub7l.table.json'\n",
      "output.shape=torch.Size([2833, 8])\n",
      "[Errno 2] No such file or directory: 'C:\\\\Users\\\\Nick\\\\AppData\\\\Local\\\\Temp\\\\tmpelzujctgwandb-media\\\\sy5b4toc.table.json'\n"
     ]
    },
    {
     "name": "stderr",
     "output_type": "stream",
     "text": [
      " 65%|██████▍   | 162/250 [2:30:44<1:18:06, 53.25s/it]"
     ]
    },
    {
     "name": "stdout",
     "output_type": "stream",
     "text": [
      "output.shape=torch.Size([2423, 8])\n",
      "[Errno 2] No such file or directory: 'C:\\\\Users\\\\Nick\\\\AppData\\\\Local\\\\Temp\\\\tmpelzujctgwandb-media\\\\jdu7fcqq.table.json'\n",
      "output.shape=torch.Size([2833, 8])\n",
      "[Errno 2] No such file or directory: 'C:\\\\Users\\\\Nick\\\\AppData\\\\Local\\\\Temp\\\\tmpelzujctgwandb-media\\\\7mnv17h5.table.json'\n"
     ]
    },
    {
     "name": "stderr",
     "output_type": "stream",
     "text": [
      " 66%|██████▌   | 165/250 [2:33:32<1:15:33, 53.33s/it]"
     ]
    },
    {
     "name": "stdout",
     "output_type": "stream",
     "text": [
      "output.shape=torch.Size([2423, 8])\n",
      "[Errno 2] No such file or directory: 'C:\\\\Users\\\\Nick\\\\AppData\\\\Local\\\\Temp\\\\tmpelzujctgwandb-media\\\\imliyvvh.table.json'\n",
      "output.shape=torch.Size([2833, 8])\n",
      "[Errno 2] No such file or directory: 'C:\\\\Users\\\\Nick\\\\AppData\\\\Local\\\\Temp\\\\tmpelzujctgwandb-media\\\\45a44w50.table.json'\n"
     ]
    },
    {
     "name": "stderr",
     "output_type": "stream",
     "text": [
      " 67%|██████▋   | 168/250 [2:36:22<1:13:32, 53.81s/it]"
     ]
    },
    {
     "name": "stdout",
     "output_type": "stream",
     "text": [
      "output.shape=torch.Size([2423, 8])\n",
      "[Errno 2] No such file or directory: 'C:\\\\Users\\\\Nick\\\\AppData\\\\Local\\\\Temp\\\\tmpelzujctgwandb-media\\\\063k33qp.table.json'\n",
      "output.shape=torch.Size([2833, 8])\n",
      "[Errno 2] No such file or directory: 'C:\\\\Users\\\\Nick\\\\AppData\\\\Local\\\\Temp\\\\tmpelzujctgwandb-media\\\\02lfci1z.table.json'\n"
     ]
    },
    {
     "name": "stderr",
     "output_type": "stream",
     "text": [
      " 68%|██████▊   | 171/250 [2:39:09<1:10:06, 53.25s/it]"
     ]
    },
    {
     "name": "stdout",
     "output_type": "stream",
     "text": [
      "output.shape=torch.Size([2423, 8])\n",
      "[Errno 2] No such file or directory: 'C:\\\\Users\\\\Nick\\\\AppData\\\\Local\\\\Temp\\\\tmpelzujctgwandb-media\\\\h7px9v01.table.json'\n",
      "output.shape=torch.Size([2833, 8])\n",
      "[Errno 2] No such file or directory: 'C:\\\\Users\\\\Nick\\\\AppData\\\\Local\\\\Temp\\\\tmpelzujctgwandb-media\\\\zx5lrguj.table.json'\n"
     ]
    },
    {
     "name": "stderr",
     "output_type": "stream",
     "text": [
      " 70%|██████▉   | 174/250 [2:41:57<1:07:35, 53.36s/it]"
     ]
    },
    {
     "name": "stdout",
     "output_type": "stream",
     "text": [
      "output.shape=torch.Size([2423, 8])\n",
      "[Errno 2] No such file or directory: 'C:\\\\Users\\\\Nick\\\\AppData\\\\Local\\\\Temp\\\\tmpelzujctgwandb-media\\\\7z310bw5.table.json'\n",
      "output.shape=torch.Size([2833, 8])\n",
      "[Errno 2] No such file or directory: 'C:\\\\Users\\\\Nick\\\\AppData\\\\Local\\\\Temp\\\\tmpelzujctgwandb-media\\\\zit9j3ci.table.json'\n"
     ]
    },
    {
     "name": "stderr",
     "output_type": "stream",
     "text": [
      " 71%|███████   | 177/250 [2:44:43<1:04:41, 53.17s/it]"
     ]
    },
    {
     "name": "stdout",
     "output_type": "stream",
     "text": [
      "output.shape=torch.Size([2423, 8])\n",
      "[Errno 2] No such file or directory: 'C:\\\\Users\\\\Nick\\\\AppData\\\\Local\\\\Temp\\\\tmpelzujctgwandb-media\\\\qzrbb488.table.json'\n",
      "output.shape=torch.Size([2833, 8])\n",
      "[Errno 2] No such file or directory: 'C:\\\\Users\\\\Nick\\\\AppData\\\\Local\\\\Temp\\\\tmpelzujctgwandb-media\\\\mh78jw0f.table.json'\n"
     ]
    },
    {
     "name": "stderr",
     "output_type": "stream",
     "text": [
      " 72%|███████▏  | 180/250 [2:47:31<1:02:10, 53.30s/it]"
     ]
    },
    {
     "name": "stdout",
     "output_type": "stream",
     "text": [
      "output.shape=torch.Size([2423, 8])\n",
      "[Errno 2] No such file or directory: 'C:\\\\Users\\\\Nick\\\\AppData\\\\Local\\\\Temp\\\\tmpelzujctgwandb-media\\\\mbwkj5k4.table.json'\n",
      "output.shape=torch.Size([2833, 8])\n",
      "[Errno 2] No such file or directory: 'C:\\\\Users\\\\Nick\\\\AppData\\\\Local\\\\Temp\\\\tmpelzujctgwandb-media\\\\y1sa18nh.table.json'\n"
     ]
    },
    {
     "name": "stderr",
     "output_type": "stream",
     "text": [
      " 73%|███████▎  | 183/250 [2:50:18<59:31, 53.31s/it]  "
     ]
    },
    {
     "name": "stdout",
     "output_type": "stream",
     "text": [
      "output.shape=torch.Size([2423, 8])\n",
      "[Errno 2] No such file or directory: 'C:\\\\Users\\\\Nick\\\\AppData\\\\Local\\\\Temp\\\\tmpelzujctgwandb-media\\\\enk0dmav.table.json'\n",
      "output.shape=torch.Size([2833, 8])\n",
      "[Errno 2] No such file or directory: 'C:\\\\Users\\\\Nick\\\\AppData\\\\Local\\\\Temp\\\\tmpelzujctgwandb-media\\\\pq4hq2p5.table.json'\n"
     ]
    },
    {
     "name": "stderr",
     "output_type": "stream",
     "text": [
      " 74%|███████▍  | 186/250 [2:53:04<56:21, 52.83s/it]  "
     ]
    },
    {
     "name": "stdout",
     "output_type": "stream",
     "text": [
      "output.shape=torch.Size([2423, 8])\n",
      "[Errno 2] No such file or directory: 'C:\\\\Users\\\\Nick\\\\AppData\\\\Local\\\\Temp\\\\tmpelzujctgwandb-media\\\\2xnrdth9.table.json'\n",
      "output.shape=torch.Size([2833, 8])\n",
      "[Errno 2] No such file or directory: 'C:\\\\Users\\\\Nick\\\\AppData\\\\Local\\\\Temp\\\\tmpelzujctgwandb-media\\\\ubjtur8p.table.json'\n"
     ]
    },
    {
     "name": "stderr",
     "output_type": "stream",
     "text": [
      " 76%|███████▌  | 189/250 [2:55:55<54:31, 53.62s/it]  "
     ]
    },
    {
     "name": "stdout",
     "output_type": "stream",
     "text": [
      "output.shape=torch.Size([2423, 8])\n",
      "[Errno 2] No such file or directory: 'C:\\\\Users\\\\Nick\\\\AppData\\\\Local\\\\Temp\\\\tmpelzujctgwandb-media\\\\oivb08u9.table.json'\n",
      "output.shape=torch.Size([2833, 8])\n",
      "[Errno 2] No such file or directory: 'C:\\\\Users\\\\Nick\\\\AppData\\\\Local\\\\Temp\\\\tmpelzujctgwandb-media\\\\hr6glkmj.table.json'\n"
     ]
    },
    {
     "name": "stderr",
     "output_type": "stream",
     "text": [
      " 77%|███████▋  | 192/250 [2:58:43<51:41, 53.48s/it]"
     ]
    },
    {
     "name": "stdout",
     "output_type": "stream",
     "text": [
      "output.shape=torch.Size([2423, 8])\n",
      "[Errno 2] No such file or directory: 'C:\\\\Users\\\\Nick\\\\AppData\\\\Local\\\\Temp\\\\tmpelzujctgwandb-media\\\\7tvuvldl.table.json'\n",
      "output.shape=torch.Size([2833, 8])\n",
      "[Errno 2] No such file or directory: 'C:\\\\Users\\\\Nick\\\\AppData\\\\Local\\\\Temp\\\\tmpelzujctgwandb-media\\\\c05vxxyo.table.json'\n"
     ]
    },
    {
     "name": "stderr",
     "output_type": "stream",
     "text": [
      " 78%|███████▊  | 195/250 [3:01:30<49:01, 53.48s/it]"
     ]
    },
    {
     "name": "stdout",
     "output_type": "stream",
     "text": [
      "output.shape=torch.Size([2423, 8])\n",
      "[Errno 2] No such file or directory: 'C:\\\\Users\\\\Nick\\\\AppData\\\\Local\\\\Temp\\\\tmpelzujctgwandb-media\\\\6u683il1.table.json'\n",
      "output.shape=torch.Size([2833, 8])\n",
      "[Errno 2] No such file or directory: 'C:\\\\Users\\\\Nick\\\\AppData\\\\Local\\\\Temp\\\\tmpelzujctgwandb-media\\\\q41yqf4y.table.json'\n"
     ]
    },
    {
     "name": "stderr",
     "output_type": "stream",
     "text": [
      " 79%|███████▉  | 198/250 [3:04:16<45:58, 53.05s/it]"
     ]
    },
    {
     "name": "stdout",
     "output_type": "stream",
     "text": [
      "output.shape=torch.Size([2423, 8])\n",
      "[Errno 2] No such file or directory: 'C:\\\\Users\\\\Nick\\\\AppData\\\\Local\\\\Temp\\\\tmpelzujctgwandb-media\\\\stcaviht.table.json'\n",
      "output.shape=torch.Size([2833, 8])\n",
      "[Errno 2] No such file or directory: 'C:\\\\Users\\\\Nick\\\\AppData\\\\Local\\\\Temp\\\\tmpelzujctgwandb-media\\\\tl1du9yv.table.json'\n"
     ]
    },
    {
     "name": "stderr",
     "output_type": "stream",
     "text": [
      " 80%|████████  | 201/250 [3:07:03<43:23, 53.13s/it]"
     ]
    },
    {
     "name": "stdout",
     "output_type": "stream",
     "text": [
      "output.shape=torch.Size([2423, 8])\n",
      "[Errno 2] No such file or directory: 'C:\\\\Users\\\\Nick\\\\AppData\\\\Local\\\\Temp\\\\tmpelzujctgwandb-media\\\\vzp9s3q3.table.json'\n",
      "output.shape=torch.Size([2833, 8])\n",
      "[Errno 2] No such file or directory: 'C:\\\\Users\\\\Nick\\\\AppData\\\\Local\\\\Temp\\\\tmpelzujctgwandb-media\\\\goiejerp.table.json'\n"
     ]
    },
    {
     "name": "stderr",
     "output_type": "stream",
     "text": [
      " 82%|████████▏ | 204/250 [3:09:53<41:05, 53.61s/it]"
     ]
    },
    {
     "name": "stdout",
     "output_type": "stream",
     "text": [
      "output.shape=torch.Size([2423, 8])\n",
      "[Errno 2] No such file or directory: 'C:\\\\Users\\\\Nick\\\\AppData\\\\Local\\\\Temp\\\\tmpelzujctgwandb-media\\\\dorh475o.table.json'\n",
      "output.shape=torch.Size([2833, 8])\n",
      "[Errno 2] No such file or directory: 'C:\\\\Users\\\\Nick\\\\AppData\\\\Local\\\\Temp\\\\tmpelzujctgwandb-media\\\\3miwzds6.table.json'\n"
     ]
    },
    {
     "name": "stderr",
     "output_type": "stream",
     "text": [
      " 83%|████████▎ | 207/250 [3:12:41<38:18, 53.47s/it]"
     ]
    },
    {
     "name": "stdout",
     "output_type": "stream",
     "text": [
      "output.shape=torch.Size([2423, 8])\n",
      "[Errno 2] No such file or directory: 'C:\\\\Users\\\\Nick\\\\AppData\\\\Local\\\\Temp\\\\tmpelzujctgwandb-media\\\\6hnp3xgf.table.json'\n",
      "output.shape=torch.Size([2833, 8])\n",
      "[Errno 2] No such file or directory: 'C:\\\\Users\\\\Nick\\\\AppData\\\\Local\\\\Temp\\\\tmpelzujctgwandb-media\\\\4p5gmv10.table.json'\n"
     ]
    },
    {
     "name": "stderr",
     "output_type": "stream",
     "text": [
      " 84%|████████▍ | 210/250 [3:15:28<35:30, 53.26s/it]"
     ]
    },
    {
     "name": "stdout",
     "output_type": "stream",
     "text": [
      "output.shape=torch.Size([2423, 8])\n",
      "[Errno 2] No such file or directory: 'C:\\\\Users\\\\Nick\\\\AppData\\\\Local\\\\Temp\\\\tmpelzujctgwandb-media\\\\6jvoe59r.table.json'\n",
      "output.shape=torch.Size([2833, 8])\n",
      "[Errno 2] No such file or directory: 'C:\\\\Users\\\\Nick\\\\AppData\\\\Local\\\\Temp\\\\tmpelzujctgwandb-media\\\\cavmatzn.table.json'\n"
     ]
    },
    {
     "name": "stderr",
     "output_type": "stream",
     "text": [
      " 85%|████████▌ | 213/250 [3:18:16<32:54, 53.36s/it]"
     ]
    },
    {
     "name": "stdout",
     "output_type": "stream",
     "text": [
      "output.shape=torch.Size([2423, 8])\n",
      "[Errno 2] No such file or directory: 'C:\\\\Users\\\\Nick\\\\AppData\\\\Local\\\\Temp\\\\tmpelzujctgwandb-media\\\\5cq68u2v.table.json'\n",
      "output.shape=torch.Size([2833, 8])\n",
      "[Errno 2] No such file or directory: 'C:\\\\Users\\\\Nick\\\\AppData\\\\Local\\\\Temp\\\\tmpelzujctgwandb-media\\\\wg1kdiw3.table.json'\n"
     ]
    },
    {
     "name": "stderr",
     "output_type": "stream",
     "text": [
      " 86%|████████▋ | 216/250 [3:21:03<30:08, 53.20s/it]"
     ]
    },
    {
     "name": "stdout",
     "output_type": "stream",
     "text": [
      "output.shape=torch.Size([2423, 8])\n",
      "[Errno 2] No such file or directory: 'C:\\\\Users\\\\Nick\\\\AppData\\\\Local\\\\Temp\\\\tmpelzujctgwandb-media\\\\tcscbgi1.table.json'\n",
      "output.shape=torch.Size([2833, 8])\n",
      "[Errno 2] No such file or directory: 'C:\\\\Users\\\\Nick\\\\AppData\\\\Local\\\\Temp\\\\tmpelzujctgwandb-media\\\\wfok1bro.table.json'\n"
     ]
    },
    {
     "name": "stderr",
     "output_type": "stream",
     "text": [
      " 88%|████████▊ | 219/250 [3:23:53<27:44, 53.69s/it]"
     ]
    },
    {
     "name": "stdout",
     "output_type": "stream",
     "text": [
      "output.shape=torch.Size([2423, 8])\n",
      "[Errno 2] No such file or directory: 'C:\\\\Users\\\\Nick\\\\AppData\\\\Local\\\\Temp\\\\tmpelzujctgwandb-media\\\\eur01ket.table.json'\n",
      "output.shape=torch.Size([2833, 8])\n",
      "[Errno 2] No such file or directory: 'C:\\\\Users\\\\Nick\\\\AppData\\\\Local\\\\Temp\\\\tmpelzujctgwandb-media\\\\4vf3j4yk.table.json'\n"
     ]
    },
    {
     "name": "stderr",
     "output_type": "stream",
     "text": [
      " 89%|████████▉ | 222/250 [3:26:41<24:57, 53.47s/it]"
     ]
    },
    {
     "name": "stdout",
     "output_type": "stream",
     "text": [
      "output.shape=torch.Size([2423, 8])\n",
      "[Errno 2] No such file or directory: 'C:\\\\Users\\\\Nick\\\\AppData\\\\Local\\\\Temp\\\\tmpelzujctgwandb-media\\\\3ro3p4oc.table.json'\n",
      "output.shape=torch.Size([2833, 8])\n",
      "[Errno 2] No such file or directory: 'C:\\\\Users\\\\Nick\\\\AppData\\\\Local\\\\Temp\\\\tmpelzujctgwandb-media\\\\3fkzkmby.table.json'\n"
     ]
    },
    {
     "name": "stderr",
     "output_type": "stream",
     "text": [
      " 90%|█████████ | 225/250 [3:29:28<22:11, 53.25s/it]"
     ]
    },
    {
     "name": "stdout",
     "output_type": "stream",
     "text": [
      "output.shape=torch.Size([2423, 8])\n",
      "[Errno 2] No such file or directory: 'C:\\\\Users\\\\Nick\\\\AppData\\\\Local\\\\Temp\\\\tmpelzujctgwandb-media\\\\3cyr2oxu.table.json'\n",
      "output.shape=torch.Size([2833, 8])\n",
      "[Errno 2] No such file or directory: 'C:\\\\Users\\\\Nick\\\\AppData\\\\Local\\\\Temp\\\\tmpelzujctgwandb-media\\\\2v2vivcp.table.json'\n"
     ]
    },
    {
     "name": "stderr",
     "output_type": "stream",
     "text": [
      " 91%|█████████ | 228/250 [3:32:16<19:34, 53.38s/it]"
     ]
    },
    {
     "name": "stdout",
     "output_type": "stream",
     "text": [
      "output.shape=torch.Size([2423, 8])\n",
      "[Errno 2] No such file or directory: 'C:\\\\Users\\\\Nick\\\\AppData\\\\Local\\\\Temp\\\\tmpelzujctgwandb-media\\\\s1ae1csi.table.json'\n",
      "output.shape=torch.Size([2833, 8])\n",
      "[Errno 2] No such file or directory: 'C:\\\\Users\\\\Nick\\\\AppData\\\\Local\\\\Temp\\\\tmpelzujctgwandb-media\\\\1v7w8ub8.table.json'\n"
     ]
    },
    {
     "name": "stderr",
     "output_type": "stream",
     "text": [
      " 92%|█████████▏| 231/250 [3:35:01<16:47, 53.00s/it]"
     ]
    },
    {
     "name": "stdout",
     "output_type": "stream",
     "text": [
      "output.shape=torch.Size([2423, 8])\n",
      "[Errno 2] No such file or directory: 'C:\\\\Users\\\\Nick\\\\AppData\\\\Local\\\\Temp\\\\tmpelzujctgwandb-media\\\\2fu0bs9q.table.json'\n",
      "output.shape=torch.Size([2833, 8])\n",
      "[Errno 2] No such file or directory: 'C:\\\\Users\\\\Nick\\\\AppData\\\\Local\\\\Temp\\\\tmpelzujctgwandb-media\\\\if5zd9db.table.json'\n"
     ]
    },
    {
     "name": "stderr",
     "output_type": "stream",
     "text": [
      " 94%|█████████▎| 234/250 [3:37:53<14:20, 53.76s/it]"
     ]
    },
    {
     "name": "stdout",
     "output_type": "stream",
     "text": [
      "output.shape=torch.Size([2423, 8])\n",
      "[Errno 2] No such file or directory: 'C:\\\\Users\\\\Nick\\\\AppData\\\\Local\\\\Temp\\\\tmpelzujctgwandb-media\\\\lbdit3bd.table.json'\n",
      "output.shape=torch.Size([2833, 8])\n",
      "[Errno 2] No such file or directory: 'C:\\\\Users\\\\Nick\\\\AppData\\\\Local\\\\Temp\\\\tmpelzujctgwandb-media\\\\13f0n0vt.table.json'\n"
     ]
    },
    {
     "name": "stderr",
     "output_type": "stream",
     "text": [
      " 95%|█████████▍| 237/250 [3:40:40<11:33, 53.37s/it]"
     ]
    },
    {
     "name": "stdout",
     "output_type": "stream",
     "text": [
      "output.shape=torch.Size([2423, 8])\n",
      "[Errno 2] No such file or directory: 'C:\\\\Users\\\\Nick\\\\AppData\\\\Local\\\\Temp\\\\tmpelzujctgwandb-media\\\\8sm9zfqu.table.json'\n",
      "output.shape=torch.Size([2833, 8])\n",
      "[Errno 2] No such file or directory: 'C:\\\\Users\\\\Nick\\\\AppData\\\\Local\\\\Temp\\\\tmpelzujctgwandb-media\\\\hk9xy8g7.table.json'\n"
     ]
    },
    {
     "name": "stderr",
     "output_type": "stream",
     "text": [
      " 96%|█████████▌| 240/250 [3:43:27<08:52, 53.21s/it]"
     ]
    },
    {
     "name": "stdout",
     "output_type": "stream",
     "text": [
      "output.shape=torch.Size([2423, 8])\n",
      "[Errno 2] No such file or directory: 'C:\\\\Users\\\\Nick\\\\AppData\\\\Local\\\\Temp\\\\tmpelzujctgwandb-media\\\\70h6gfxv.table.json'\n",
      "output.shape=torch.Size([2833, 8])\n",
      "[Errno 2] No such file or directory: 'C:\\\\Users\\\\Nick\\\\AppData\\\\Local\\\\Temp\\\\tmpelzujctgwandb-media\\\\eeqt0qy4.table.json'\n"
     ]
    },
    {
     "name": "stderr",
     "output_type": "stream",
     "text": [
      " 97%|█████████▋| 243/250 [3:46:15<06:12, 53.23s/it]"
     ]
    },
    {
     "name": "stdout",
     "output_type": "stream",
     "text": [
      "output.shape=torch.Size([2423, 8])\n",
      "[Errno 2] No such file or directory: 'C:\\\\Users\\\\Nick\\\\AppData\\\\Local\\\\Temp\\\\tmpelzujctgwandb-media\\\\d8yseafm.table.json'\n",
      "output.shape=torch.Size([2833, 8])\n",
      "[Errno 2] No such file or directory: 'C:\\\\Users\\\\Nick\\\\AppData\\\\Local\\\\Temp\\\\tmpelzujctgwandb-media\\\\tjxc4vbp.table.json'\n"
     ]
    },
    {
     "name": "stderr",
     "output_type": "stream",
     "text": [
      " 98%|█████████▊| 246/250 [3:49:02<03:32, 53.19s/it]"
     ]
    },
    {
     "name": "stdout",
     "output_type": "stream",
     "text": [
      "output.shape=torch.Size([2423, 8])\n",
      "[Errno 2] No such file or directory: 'C:\\\\Users\\\\Nick\\\\AppData\\\\Local\\\\Temp\\\\tmpelzujctgwandb-media\\\\le7j378n.table.json'\n",
      "output.shape=torch.Size([2833, 8])\n",
      "[Errno 2] No such file or directory: 'C:\\\\Users\\\\Nick\\\\AppData\\\\Local\\\\Temp\\\\tmpelzujctgwandb-media\\\\y3v84ij7.table.json'\n"
     ]
    },
    {
     "name": "stderr",
     "output_type": "stream",
     "text": [
      "100%|█████████▉| 249/250 [3:51:53<00:53, 53.81s/it]"
     ]
    },
    {
     "name": "stdout",
     "output_type": "stream",
     "text": [
      "output.shape=torch.Size([2423, 8])\n",
      "[Errno 2] No such file or directory: 'C:\\\\Users\\\\Nick\\\\AppData\\\\Local\\\\Temp\\\\tmpelzujctgwandb-media\\\\8w5q017s.table.json'\n",
      "output.shape=torch.Size([2833, 8])\n",
      "[Errno 2] No such file or directory: 'C:\\\\Users\\\\Nick\\\\AppData\\\\Local\\\\Temp\\\\tmpelzujctgwandb-media\\\\qrmaoqfm.table.json'\n"
     ]
    },
    {
     "name": "stderr",
     "output_type": "stream",
     "text": [
      "100%|██████████| 250/250 [3:53:04<00:00, 55.94s/it]\n"
     ]
    },
    {
     "data": {
      "application/vnd.jupyter.widget-view+json": {
       "model_id": "8f9ec52153a144268365192bef55d67e",
       "version_major": 2,
       "version_minor": 0
      },
      "text/plain": [
       "VBox(children=(Label(value='1.653 MB of 1.653 MB uploaded\\r'), FloatProgress(value=1.0, max=1.0)))"
      ]
     },
     "metadata": {},
     "output_type": "display_data"
    },
    {
     "data": {
      "text/html": [
       "<style>\n",
       "    table.wandb td:nth-child(1) { padding: 0 10px; text-align: left ; width: auto;} td:nth-child(2) {text-align: left ; width: 100%}\n",
       "    .wandb-row { display: flex; flex-direction: row; flex-wrap: wrap; justify-content: flex-start; width: 100% }\n",
       "    .wandb-col { display: flex; flex-direction: column; flex-basis: 100%; flex: 1; padding: 10px; }\n",
       "    </style>\n",
       "<div class=\"wandb-row\"><div class=\"wandb-col\"><h3>Run history:</h3><br/><table class=\"wandb\"><tr><td>ROI < 30</td><td>▇▅▄▇▆▆▄▆▅▅▅█▅▁▄▄▅▄▄▄▅█▅▆▇▁▅▄▅▆▅▇▇▇▅▃▇▃▃▃</td></tr><tr><td>ROI < 30 2</td><td>▇▃▂▄▃▆▂▃▄▂▆█▆▁▄▄▅▄▃▅▄█▄█▇▁▄▅▆▇▆▆▆▇▅▄▇▃▄▄</td></tr><tr><td>accuracy</td><td>▁█████▇▇▆▆▇▇▇▇▇▇▇▇▇▇▇▇▇▇▇▇▇▇▇▇▇▇▇▇▇▇▇▇▇▇</td></tr><tr><td>accuracy2</td><td>▁▇███▇▇▆▆▆▆▇▇▇▇▇▇▇▇▇▇▇▇▆▇▇▇▇▆▇▇▇▇▆▆▇▇▇▇▇</td></tr><tr><td>epoch</td><td>▁▁▁▁▂▂▂▂▂▃▃▃▃▃▃▄▄▄▄▄▅▅▅▅▅▅▆▆▆▆▆▇▇▇▇▇▇███</td></tr><tr><td>favorite_accuracy</td><td>▁▁▁▁▁▁▁▁▁▁▁▁▁▁▁▁▁▁▁▁▁▁▁▁▁▁▁▁▁▁▁▁▁▁▁▁▁▁▁▁</td></tr><tr><td>flat_simple</td><td>▅▄▃▄▃▆▄▅▃▁▅▆▆▁▅▅▄▄▄▅▆▅▅▇▆▄▄▆▅▆▅▅▃▆▆▅█▃▅▄</td></tr><tr><td>kelly roi</td><td>▇▅▅▇▆▆▃▃▁▃▂▅▄▂▄▃▅▃▄▄▅█▆▇▇▂▅▅▅▆▅▆▃▇▄▂▆▅▃▃</td></tr><tr><td>loss_1</td><td>█▇▇▆▆▄▄▃▃▂▁▂▂▂▂▁▁▁▁▁▁▁▁▁▁▁▁▁▁▁▁▁▁▁▁▁▁▁▁▁</td></tr><tr><td>loss_bfsp</td><td>▁▁▁▁▁▁▁▁▁▁▁▁▁▁▁▁▁▁▁▁▁▁▁▁▁▁▁▁▁▁▁▁▁▁▁▁▁▁▁▁</td></tr><tr><td>loss_p</td><td>█▂▁▁▁▂▂▂▃▃▃▂▂▂▂▂▂▂▂▂▂▂▂▂▂▂▂▂▂▂▂▂▂▂▂▂▂▂▂▃</td></tr><tr><td>loss_val</td><td>█▂▁▁▁▂▂▃▃▃▃▃▃▃▃▃▂▂▃▃▃▃▂▃▂▃▂▂▂▂▂▂▂▂▂▂▃▃▃▃</td></tr><tr><td>multibet outlay < 30</td><td>▂▁▂▂▃▅▆▆▇▇▇▇▇▇█▇▇▇████▇█▇█▇▇█▇▇▇▇▇▇▇▇▇██</td></tr><tr><td>multibet profit</td><td>█▅▅▆▆▆▄▃▁▃▃▅▄▂▄▃▅▃▄▄▅█▆▇▇▂▅▅▅▆▅▆▃▆▄▂▆▆▂▃</td></tr><tr><td>multibet profit < 30</td><td>▆▄▄▆▅▆▄▆▄▅▅█▅▁▄▄▅▄▄▄▅█▅▆▇▁▅▄▅▆▅▇▇▇▅▃▇▃▃▃</td></tr><tr><td>multibet profit < 30 sd</td><td>▄▁▁▂▃▄▅▆▇███▇▆▇▆▆▆▆▇▇█▇█▆▅▇▆▇▇▆▆▇▇▇▆▇▆▇█</td></tr><tr><td>mutual_info</td><td>▁▃▄▄▄▅▆▇▇▇▇▇▇▇▇▇▇▇▇▇▇█▇█▇███████████████</td></tr><tr><td>profit_relu</td><td>█▁▁▁▁▁▁▁▁▁▁▁▁▁▁▁▁▁▁▁▁▂▁▁▁▁▁▁▁▁▁▁▁▁▁▁▁▁▁▁</td></tr><tr><td>relu roi</td><td>▅▃▂▄▃▄▃▂▁▂▂▄▄▁▄▃▄▄▅▄▅█▇▇▇▁▅▆▅▆▅▅▃▆▃▂▆▆▂▃</td></tr><tr><td>val_ROI < 30</td><td>▂▁▁▂▂▃▅▃▄▂▆▂▃▂▂▂▂▂▁▃▁▂▄▂▃▃▅▁▄▄▄▄▃▄▅▆█▆▄▂</td></tr><tr><td>val_ROI < 30 2</td><td>▂▄▃▄▃▄▄▃▄▁▆▃▃▄▃▃▃▃▂▄▂▄▅▃▄▄▄▃▅▅▅▅▄▅▅▆█▆▅▃</td></tr><tr><td>val_accuracy</td><td>▁▇███▇▇▆▆▆▆▇▇▇▇▇▇▇▇▇▇▇▇▆▇▇▇▇▆▇▇▇▇▆▆▇▇▇▇▇</td></tr><tr><td>val_flat_simple</td><td>▁▅▆▆▆▆▅▅▅▅▆▆▅▆▆▆▆▅▅▇▅▆▇▅▇▆▆▆▇▇▇▇▆▆▅▆█▇▆▆</td></tr><tr><td>val_kelly roi</td><td>▁▂▃▄▄▅▆▅▆▅▇▅▆▅▅▅▅▅▅▆▅▆▆▅▆▆▆▅▇▇▇▆▅▆▆▇█▇▆▅</td></tr><tr><td>val_loss_bfsp</td><td>▁▁▁▁▁▁▁▁▁▁▁▁▁▁▁▁▁▁▁▁▁▁▁▁▁▁▁▁▁▁▁▁▁▁▁▁▁▁▁▁</td></tr><tr><td>val_loss_p</td><td>█▂▁▁▁▂▂▃▃▃▃▃▃▂▂▂▂▂▂▂▂▂▂▂▂▂▂▂▂▂▂▂▂▂▂▂▂▂▂▃</td></tr><tr><td>val_loss_val</td><td>█▂▁▁▁▁▃▃▃▃▃▃▃▃▃▂▃▃▃▃▃▃▃▃▂▃▂▂▃▂▂▂▂▂▂▂▂▂▂▃</td></tr><tr><td>val_multibet outlay < 30</td><td>▂▁▂▂▃▅▆▇▇▇█▇███▇█▇██████▇█▇▇▇▇▇▇▇▇▇▇▇▇██</td></tr><tr><td>val_multibet profit</td><td>▁▄▄▅▅▆▆▆▆▅▇▅▆▆▅▆▆▅▅▆▅▆▆▆▆▆▇▅▇▇▇▇▆▆▇▇█▇▆▅</td></tr><tr><td>val_multibet profit < 30</td><td>▂▂▂▂▂▃▅▃▄▂▆▂▃▂▂▂▂▂▁▃▁▂▄▂▃▃▅▁▄▄▄▄▃▄▅▆█▆▄▂</td></tr><tr><td>val_multibet profit < 30 sd</td><td>▃▁▁▂▃▄▆▅▆▆█▅▆▅▅▅▆▆▆▆▆▆▆▅▆▆▆▅▆▆▅▆▆▆▆▆▇▇▆▆</td></tr><tr><td>val_mutual_info</td><td>▁▃▃▄▄▅▆▇▇▇▇▇▇▇▇▇▇▇▇▇▇█▇█▇███████████████</td></tr><tr><td>val_profit_relu</td><td>▁▇▇█████████████████████████████████████</td></tr><tr><td>val_relu roi</td><td>▁▂▂▂▃▅▆▅▅▄▆▅▅▅▄▅▅▄▅▆▄▅▅▅▅▆▆▄▆▆▆▆▅▅▆▆█▇▆▄</td></tr><tr><td>valfavorite_accuracy</td><td>▁▁▁▁▁▁▁▁▁▁▁▁▁▁▁▁▁▁▁▁▁▁▁▁▁▁▁▁▁▁▁▁▁▁▁▁▁▁▁▁</td></tr></table><br/></div><div class=\"wandb-col\"><h3>Run summary:</h3><br/><table class=\"wandb\"><tr><td>ROI < 30 2</td><td>0.0151</td></tr><tr><td>accuracy2</td><td>0.30639</td></tr><tr><td>epoch</td><td>249</td></tr><tr><td>favorite_accuracy</td><td>0.38562</td></tr><tr><td>flat_simple</td><td>-44.3437</td></tr><tr><td>kelly roi</td><td>0.024</td></tr><tr><td>loss_1</td><td>0.63369</td></tr><tr><td>loss_bfsp</td><td>1.945</td></tr><tr><td>loss_p</td><td>1.81647</td></tr><tr><td>multibet outlay < 30</td><td>47532.03809</td></tr><tr><td>multibet profit</td><td>1062.15241</td></tr><tr><td>multibet profit < 30</td><td>661.79467</td></tr><tr><td>multibet profit < 30 sd</td><td>20.85539</td></tr><tr><td>mutual_info</td><td>0.08432</td></tr><tr><td>profit_relu</td><td>13361.11385</td></tr><tr><td>val_ROI < 30</td><td>-0.01646</td></tr><tr><td>val_ROI < 30 2</td><td>-0.02566</td></tr><tr><td>val_accuracy</td><td>0.30639</td></tr><tr><td>val_flat_simple</td><td>-78.49756</td></tr><tr><td>val_kelly roi</td><td>-0.0902</td></tr><tr><td>val_loss_bfsp</td><td>1.94131</td></tr><tr><td>val_loss_p</td><td>1.80275</td></tr><tr><td>val_loss_val</td><td>1.83911</td></tr><tr><td>val_multibet outlay < 30</td><td>45175.9456</td></tr><tr><td>val_multibet profit</td><td>-5231.91943</td></tr><tr><td>val_multibet profit < 30</td><td>-743.81517</td></tr><tr><td>val_multibet profit < 30 sd</td><td>21.49138</td></tr><tr><td>val_mutual_info</td><td>0.08528</td></tr><tr><td>val_profit_relu</td><td>-61537.86992</td></tr><tr><td>val_relu roi</td><td>-0.0929</td></tr><tr><td>valfavorite_accuracy</td><td>0.39215</td></tr></table><br/></div></div>"
      ],
      "text/plain": [
       "<IPython.core.display.HTML object>"
      ]
     },
     "metadata": {},
     "output_type": "display_data"
    },
    {
     "data": {
      "text/html": [
       " View run <strong style=\"color:#cdcd00\">sweet-resonance-46</strong> at: <a href='https://wandb.ai/nickojelly/NEW%20GRU%20V7%20Reporting/runs/vcblq0uy' target=\"_blank\">https://wandb.ai/nickojelly/NEW%20GRU%20V7%20Reporting/runs/vcblq0uy</a><br/>Synced 5 W&B file(s), 0 media file(s), 168 artifact file(s) and 0 other file(s)"
      ],
      "text/plain": [
       "<IPython.core.display.HTML object>"
      ]
     },
     "metadata": {},
     "output_type": "display_data"
    },
    {
     "data": {
      "text/html": [
       "Find logs at: <code>.\\wandb\\run-20240209_062115-vcblq0uy\\logs</code>"
      ],
      "text/plain": [
       "<IPython.core.display.HTML object>"
      ]
     },
     "metadata": {},
     "output_type": "display_data"
    }
   ],
   "source": [
    "wandb_config_static['batch_days'] = 600\n",
    "(model,dataset, optimizer) = model_pipeline(raceDB,config=wandb_config_static,sweep=False)\n",
    "wandb_config_static['batch_days'] = 365\n",
    "(model,dataset, optimizer) = model_pipeline(raceDB,config=wandb_config_static,sweep=False)\n",
    "wandb_config_static['batch_days'] = 180\n",
    "(model,dataset, optimizer) = model_pipeline(raceDB,config=wandb_config_static,sweep=False)\n",
    "wandb_config_static['batch_days'] = 90\n",
    "(model,dataset, optimizer) = model_pipeline(raceDB,config=wandb_config_static,sweep=False)\n",
    "wandb_config_static['batch_days'] = 60\n",
    "(model,dataset, optimizer) = model_pipeline(raceDB,config=wandb_config_static,sweep=False)\n",
    "wandb_config_static['batch_days'] = 30\n",
    "(model,dataset, optimizer) = model_pipeline(raceDB,config=wandb_config_static,sweep=False)\n"
   ]
  },
  {
   "cell_type": "code",
   "execution_count": null,
   "metadata": {},
   "outputs": [],
   "source": [
    "model"
   ]
  },
  {
   "cell_type": "code",
   "execution_count": null,
   "metadata": {},
   "outputs": [],
   "source": [
    "importlib.reload(training_testing_gru_extra_data)\n",
    "training_testing_gru_extra_data.validate_model_v3(model,raceDB,config=wandb_config_static)"
   ]
  },
  {
   "cell_type": "code",
   "execution_count": null,
   "metadata": {},
   "outputs": [],
   "source": [
    "config = wandb_config_static"
   ]
  },
  {
   "cell_type": "code",
   "execution_count": null,
   "metadata": {},
   "outputs": [],
   "source": [
    "model = rnn_classes.LSTMNetv3_BN_double(22,config['hidden_size'], num_layers=config['num_layers'],fc0_size=config['f0_layer_size'], fc1_size=config['f1_layer_size'])"
   ]
  },
  {
   "cell_type": "code",
   "execution_count": null,
   "metadata": {},
   "outputs": [],
   "source": [
    "model = model.to('cuda:0')"
   ]
  },
  {
   "cell_type": "code",
   "execution_count": null,
   "metadata": {},
   "outputs": [],
   "source": [
    "sweep_config = {\"method\": \"grid\"}\n",
    "\n",
    "metric = {\"name\": \"ROI < 30\", \"goal\": \"maximize\"}\n",
    "\n",
    "sweep_config[\"metric\"] = metric\n",
    "\n",
    "\n",
    "parameters_dict = {\n",
    "    \"optimizer\": {\"value\": \"adamW\"},\n",
    "    \"batch_days\": {\"values\": [90,180,365,550,10000]},\n",
    "    \"f0_layer_size\": {\"values\": [128]},\n",
    "    \"f1_layer_size\": {\"values\": [64]},\n",
    "    \"dropout\": {\"values\": [0.3]},\n",
    "    \"input_type\": {\"values\": ['basic']},\n",
    "    \"num_layers\": {\"values\": [2]},\n",
    "    'hidden_size':{'values':[128]},\n",
    "    \"len_data\": {\"value\": len(raceDB.raceIDs)},\n",
    "    \"stats\":{\"value\": raceDB.stats_cols},\n",
    "    \"races\":{\"value\": states},\n",
    "    \"batch_size\":{\"value\": 10},\n",
    "}\n",
    "\n",
    "sweep_config[\"parameters\"] = parameters_dict\n",
    "\n",
    "parameters_dict.update(\n",
    "    {\n",
    "        \"epochs\": {\"values\": [1000]},\n",
    "        \"validation_split\": {\"value\": 0.1},\n",
    "        \"training_date_end\": {\"values\": \n",
    "                                [\n",
    "                                '2023-04-30',\n",
    "                                '2023-02-28',\n",
    "                                '2022-11-30',\n",
    "                                '2021-11-30'\n",
    "                                ]},\n",
    "        \"learning_rate\": {\"values\": [0.0003, 0.0001]},\n",
    "        \"label_smoothing\": {\"values\": [0.01,0.0]},\n",
    "        \"loss\": {\n",
    "            \"values\": [ \"CEL\"],\n",
    "        },\n",
    "    'dist_last__1': {'values': [0, 1]},\n",
    "    'box_last__1': {'values': [0, 1]},\n",
    "    'speed_avg_1': {'values': [0, 1]},\n",
    "    'split_speed_v1_1': {'values': [0, 1]},\n",
    "    'split_speed_avg_1': {'values': [0, 1]},\n",
    "    'split_margin_avg_1': {'values': [0, 1]},\n",
    "    'margin_avg_1': {'values': [0, 1]},\n",
    "    'margin_time_avg_1': {'values': [0, 1]},\n",
    "    'RunHomeTime_1': {'values': [0, 1]},\n",
    "    'run_home_speed_1': {'values': [0, 1]},\n",
    "    'run_home_speed_v1_1': {'values': [0, 1]},\n",
    "    'first_out_avg_1': {'values': [0, 1]},\n",
    "    'pos_out_avg_1': {'values': [0, 1]},\n",
    "    'post_change_avg_1': {'values': [0, 1]},\n",
    "    'races_1': {'values': [0, 1]},\n",
    "    'wins_1': {'values': [0, 1]},\n",
    "    'wins_last_1': {'values': [0, 1]},\n",
    "    'weight_': {'values': [0, 1]},\n",
    "    'min_time_': {'values': [0, 1]},\n",
    "    'min_split_time_': {'values': [0, 1]},\n",
    "    'min_split_time_v1': {'values': [0, 1]},\n",
    "    'last_start_price': {'values': [0, 1]},\n",
    "    'last_start_prob': {'values': [0, 1]}\n",
    "}\n",
    ")\n",
    "\n",
    "import pprint\n",
    "\n",
    "pprint.pprint(sweep_config)\n",
    "\n",
    "\n",
    "sweep_config"
   ]
  },
  {
   "cell_type": "code",
   "execution_count": null,
   "metadata": {},
   "outputs": [],
   "source": [
    "# wandb.agent('x9mz21wl', function=model_pipeline, count=100, project='NEW GRU-sweeps')"
   ]
  },
  {
   "attachments": {},
   "cell_type": "markdown",
   "metadata": {},
   "source": []
  },
  {
   "cell_type": "code",
   "execution_count": null,
   "metadata": {},
   "outputs": [],
   "source": []
  },
  {
   "cell_type": "code",
   "execution_count": null,
   "metadata": {},
   "outputs": [],
   "source": [
    "sweep_id = wandb.sweep(sweep_config, project=\"Variable Sweeps\")\n",
    "# CUDA_LAUNCH_BLOCKING=1\n",
    "wandb.agent(sweep_id, function=model_pipeline, count=1)"
   ]
  }
 ],
 "metadata": {
  "kernelspec": {
   "display_name": "PYTORCH",
   "language": "python",
   "name": "python3"
  },
  "language_info": {
   "codemirror_mode": {
    "name": "ipython",
    "version": 3
   },
   "file_extension": ".py",
   "mimetype": "text/x-python",
   "name": "python",
   "nbconvert_exporter": "python",
   "pygments_lexer": "ipython3",
   "version": "3.11.5"
  },
  "orig_nbformat": 4,
  "vscode": {
   "interpreter": {
    "hash": "8a48ca33c5a1168302a4f8eae355aad1c03b1396f568d40bc174a6e6aabe725d"
   }
  }
 },
 "nbformat": 4,
 "nbformat_minor": 2
}
