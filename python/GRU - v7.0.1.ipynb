{
 "cells": [
  {
   "cell_type": "code",
   "execution_count": 1,
   "metadata": {},
   "outputs": [
    {
     "name": "stdout",
     "output_type": "stream",
     "text": [
      "c:\\Users\\Nick\\Documents\\GitHub\\grvmodel\\python\n"
     ]
    }
   ],
   "source": [
    "import pickle\n",
    "import pandas as pd\n",
    "import os\n",
    "import setup\n",
    "\n",
    "import torch\n",
    "import numpy as np\n",
    "import torch.nn as nn\n",
    "import torch.nn.functional as F\n",
    "import torch.optim as optim\n",
    "from tqdm.notebook import tqdm, trange\n",
    "import torch.optim as optim\n",
    "from torch.utils.data import TensorDataset, DataLoader\n",
    "import wandb\n",
    "from torch.utils.data.sampler import SubsetRandomSampler\n",
    "import pprint\n",
    "import matplotlib.pyplot as plt\n",
    "import torch\n",
    "\n",
    "from sklearn.preprocessing import MinMaxScaler\n",
    "import math\n",
    "from torch.profiler import profile, record_function, ProfilerActivity\n",
    "\n",
    "from operator import itemgetter\n",
    "import operator\n",
    "from random import randint\n",
    "# from rnn_classes import Dog, DogInput, Race, Races, GRUNet, smallGRUNet, smalll_lin_GRUNet, smalll_prelin_GRUNet\n",
    "import rnn_tools.rnn_classes as rnn_classes\n",
    "from rnn_tools.raceDB import build_dataset\n",
    "import importlib\n",
    "import datetime\n",
    "from rnn_tools.model_saver import model_saver, model_saver_wandb\n",
    "import rnn_tools.training_testing_gru as training_testing_gru\n",
    "from torch.nn.utils.rnn import pack_padded_sequence, pack_sequence, pad_packed_sequence,pad_sequence, unpack_sequence, unpad_sequence\n",
    "import rnn_tools.training_testing_gru_double as training_testing_gru_double\n",
    "import rnn_tools.training_testing_lstm as training_testing_lstm\n",
    "from goto_conversion import goto_conversion\n",
    "\n",
    "import rnn_tools.training_testing_gru_extra_data as training_testing_gru_extra_data\n",
    "import rnn_tools.training_testing_gru_ensemble as training_testing_gru_ensemble"
   ]
  },
  {
   "cell_type": "code",
   "execution_count": 2,
   "metadata": {},
   "outputs": [
    {
     "name": "stdout",
     "output_type": "stream",
     "text": [
      "Running on the GPU\n"
     ]
    }
   ],
   "source": [
    "if torch.cuda.is_available():\n",
    "    device = torch.device(\"cuda:0\")  # you can continue going on here, like cuda:1 cuda:2....etc.\n",
    "    print(\"Running on the GPU\")\n",
    "else:\n",
    "    device = torch.device(\"cpu\")\n",
    "    print(\"Running on the CPU\")"
   ]
  },
  {
   "cell_type": "code",
   "execution_count": 3,
   "metadata": {},
   "outputs": [
    {
     "name": "stderr",
     "output_type": "stream",
     "text": [
      "c:\\Users\\Nick\\.conda\\envs\\python311\\Lib\\site-packages\\torch\\__init__.py:614: UserWarning: torch.set_default_tensor_type() is deprecated as of PyTorch 2.1, please use torch.set_default_dtype() and torch.set_default_device() as alternatives. (Triggered internally at C:\\cb\\pytorch_1000000000000\\work\\torch\\csrc\\tensor\\python_tensor.cpp:453.)\n",
      "  _C._set_default_tensor_type(t)\n"
     ]
    }
   ],
   "source": [
    "torch.set_default_tensor_type(torch.FloatTensor)"
   ]
  },
  {
   "cell_type": "code",
   "execution_count": 4,
   "metadata": {},
   "outputs": [
    {
     "data": {
      "text/plain": [
       "'2.1.1'"
      ]
     },
     "execution_count": 4,
     "metadata": {},
     "output_type": "execute_result"
    }
   ],
   "source": [
    "torch.__version__"
   ]
  },
  {
   "cell_type": "code",
   "execution_count": 5,
   "metadata": {},
   "outputs": [
    {
     "data": {
      "text/plain": [
       "['dist_last__1',\n",
       " 'box_last__1',\n",
       " 'speed_avg_1',\n",
       " 'split_speed_v1_1',\n",
       " 'split_speed_avg_1',\n",
       " 'split_margin_avg_1',\n",
       " 'margin_avg_1',\n",
       " 'margin_time_avg_1',\n",
       " 'RunHomeTime_1',\n",
       " 'run_home_speed_1',\n",
       " 'run_home_speed_v1_1',\n",
       " 'first_out_avg_1',\n",
       " 'pos_out_avg_1',\n",
       " 'post_change_avg_1',\n",
       " 'races_1',\n",
       " 'wins_1',\n",
       " 'wins_last_1',\n",
       " 'weight_',\n",
       " 'min_time_',\n",
       " 'min_split_time_',\n",
       " 'min_split_time_v1',\n",
       " 'last_start_price',\n",
       " 'last_start_prob']"
      ]
     },
     "execution_count": 5,
     "metadata": {},
     "output_type": "execute_result"
    }
   ],
   "source": [
    "['dist_last__1', 'box_last__1', 'speed_avg_1', 'split_speed_v1_1', 'split_speed_avg_1', 'split_margin_avg_1', 'margin_avg_1', 'margin_time_avg_1', 'RunHomeTime_1', 'run_home_speed_1', 'run_home_speed_v1_1', 'first_out_avg_1', 'pos_out_avg_1', 'post_change_avg_1', 'races_1', 'wins_1', 'wins_last_1', 'weight_', 'min_time_', 'min_split_time_', 'min_split_time_v1', 'last_start_price', 'last_start_prob']"
   ]
  },
  {
   "cell_type": "code",
   "execution_count": 6,
   "metadata": {},
   "outputs": [],
   "source": [
    "def custom_l2(output, target):\n",
    "    loss = torch.mean(abs(output-target), dim=1)\n",
    "    return loss"
   ]
  },
  {
   "cell_type": "code",
   "execution_count": 7,
   "metadata": {},
   "outputs": [],
   "source": [
    "def validation_CLE(x,y):\n",
    "    loss_t = -torch.log(torch.exp(x)/torch.sum(torch.exp(x), dim=-1, keepdim=True))*y\n",
    "    return loss_t"
   ]
  },
  {
   "cell_type": "code",
   "execution_count": 8,
   "metadata": {},
   "outputs": [],
   "source": [
    "tracks = ['Sandown Park',\n",
    " 'The Meadows',\n",
    " 'Warragul',\n",
    " 'Geelong',\n",
    " 'Sale',\n",
    " 'Ballarat',\n",
    " 'Bendigo',\n",
    " 'Cranbourne']"
   ]
  },
  {
   "cell_type": "code",
   "execution_count": 9,
   "metadata": {},
   "outputs": [
    {
     "name": "stdout",
     "output_type": "stream",
     "text": [
      "c:\\Users\\Nick\\Documents\\GitHub\\grvmodel\\python\n"
     ]
    },
    {
     "name": "stdout",
     "output_type": "stream",
     "text": [
      "[['inside', 'midfield', 'wide', 'weight', 'DogGrade', '_dist_last__1', '_box_last__1', '_speed_avg_1', '_split_speed_avg_1', '_split_margin_avg_1', '_margin_avg_1', '_margin_time_avg_1', '_RunHomeTime_1', '_run_home_speed_1', '_first_out_avg_1', '_pos_out_avg_1', '_post_change_avg_1', '_races_1', '_wins_1', '_wins_last_1', '_weight_', '_min_time_', '_min_split_time_', '_last_start_price', '_last_start_prob', 'dist_dist_last__10', 'dist_box_last__10', 'dist_speed_avg_10', 'dist_split_speed_avg_10', 'dist_split_margin_avg_10', 'dist_margin_avg_10', 'dist_margin_time_avg_10', 'dist_RunHomeTime_10', 'dist_run_home_speed_10', 'dist_first_out_avg_10', 'dist_pos_out_avg_10', 'dist_post_change_avg_10', 'dist_races_10', 'dist_wins_10', 'dist_wins_last_10', 'dist_weight_', 'dist_min_time_', 'dist_min_split_time_', 'dist_last_start_price', 'dist_last_start_prob', 'box_dist_last__10', 'box_box_last__10', 'box_speed_avg_10', 'box_split_speed_avg_10', 'box_split_margin_avg_10', 'box_margin_avg_10', 'box_margin_time_avg_10', 'box_RunHomeTime_10', 'box_run_home_speed_10', 'box_first_out_avg_10', 'box_pos_out_avg_10', 'box_post_change_avg_10', 'box_races_10', 'box_wins_10', 'box_wins_last_10', 'box_weight_', 'box_min_time_', 'box_min_split_time_', 'box_last_start_price', 'box_last_start_prob', 'track_box_dist_last__10', 'track_box_box_last__10', 'track_box_speed_avg_10', 'track_box_split_speed_avg_10', 'track_box_split_margin_avg_10', 'track_box_margin_avg_10', 'track_box_margin_time_avg_10', 'track_box_RunHomeTime_10', 'track_box_run_home_speed_10', 'track_box_first_out_avg_10', 'track_box_pos_out_avg_10', 'track_box_post_change_avg_10', 'track_box_races_10', 'track_box_wins_10', 'track_box_wins_last_10', 'track_box_weight_', 'track_box_min_time_', 'track_box_min_split_time_', 'track_box_last_start_price', 'track_box_last_start_prob', 'track_dist_dist_last__10', 'track_dist_box_last__10', 'track_dist_speed_avg_10', 'track_dist_split_speed_avg_10', 'track_dist_split_margin_avg_10', 'track_dist_margin_avg_10', 'track_dist_margin_time_avg_10', 'track_dist_RunHomeTime_10', 'track_dist_run_home_speed_10', 'track_dist_first_out_avg_10', 'track_dist_pos_out_avg_10', 'track_dist_post_change_avg_10', 'track_dist_races_10', 'track_dist_wins_10', 'track_dist_wins_last_10', 'track_dist_weight_', 'track_dist_min_time_', 'track_dist_min_split_time_', 'track_dist_last_start_price', 'track_dist_last_start_prob']]\n",
      "(1517094, 25)\n",
      "106\n",
      "Latest date = 2024-01-31 00:00:00\n",
      "size after state filter (380562, 27)\n",
      "(380562, 27)\n",
      "Latest date = 2024-01-31 00:00:00\n",
      "num_features_per_dog=106\n",
      "___Processing 11639 unique dogs___\n"
     ]
    },
    {
     "name": "stderr",
     "output_type": "stream",
     "text": [
      "100%|██████████| 25/25 [00:00<?, ?it/s]\n",
      "c:\\Users\\Nick\\Documents\\GitHub\\grvmodel\\python\\rnn_tools\\rnn_classes.py:389: UserWarning: To copy construct from a tensor, it is recommended to use sourceTensor.clone().detach() or sourceTensor.clone().detach().requires_grad_(True), rather than torch.tensor(sourceTensor).\n",
      "  r.prob = torch.tensor((1/(torch.tensor(r.start_prices)+0.0001))/((1/torch.tensor(r.start_prices)).sum()+0.0001),device=self.device)\n"
     ]
    },
    {
     "name": "stdout",
     "output_type": "stream",
     "text": [
      "number of races = 28200, number of unique dogs = 11640\n",
      "0              (Bulli, 472.0)\n",
      "1             (Casino, 484.0)\n",
      "2        (The Gardens, 515.0)\n",
      "3           (Richmond, 400.0)\n",
      "4           (Richmond, 330.0)\n",
      "                 ...         \n",
      "28195          (Dubbo, 318.0)\n",
      "28196       (Richmond, 622.0)\n",
      "28197          (Dubbo, 318.0)\n",
      "28198          (Dubbo, 400.0)\n",
      "28199          (Dubbo, 318.0)\n",
      "Length: 28200, dtype: object\n"
     ]
    }
   ],
   "source": [
    "os.getcwd()\n",
    "import rnn_tools.raceDB\n",
    "importlib.reload(rnn_tools.raceDB)\n",
    "# os.chdir(r\"C:\\Users\\Nick\\Documents\\GitHub\\grvmodel\\Python\\DATA\")                                                                                                                                                                                                                                                                                                                \n",
    "date = datetime.datetime.strptime(\"2022-01-01\", \"%Y-%m-%d\").date()\n",
    "hidden_size = 32\n",
    "states = [\"NSW\"]\n",
    "data_file = './data/gru_inputs_kitchen_sink_new_not_simple.fth'\n",
    "raceDB = rnn_tools.raceDB.build_dataset(data_file, hidden_size,date_filter=date,state_filter=states, margin_type='boosted_sftmin',v6=True)\n",
    "raceDB.create_new_weights_v2()"
   ]
  },
  {
   "cell_type": "code",
   "execution_count": 10,
   "metadata": {},
   "outputs": [],
   "source": [
    "data = pd.read_feather(data_file)"
   ]
  },
  {
   "cell_type": "code",
   "execution_count": 11,
   "metadata": {},
   "outputs": [
    {
     "data": {
      "text/plain": [
       "(106,)"
      ]
     },
     "execution_count": 11,
     "metadata": {},
     "output_type": "execute_result"
    }
   ],
   "source": [
    "data.stats.iloc[0].shape"
   ]
  },
  {
   "cell_type": "code",
   "execution_count": 12,
   "metadata": {},
   "outputs": [],
   "source": [
    "raceDB.stats_cols = eval(raceDB.stats_cols)[0]"
   ]
  },
  {
   "cell_type": "code",
   "execution_count": 13,
   "metadata": {},
   "outputs": [],
   "source": [
    "# raceDB.stats_cols = ['box']+raceDB.stats_cols"
   ]
  },
  {
   "cell_type": "code",
   "execution_count": 14,
   "metadata": {},
   "outputs": [
    {
     "name": "stdout",
     "output_type": "stream",
     "text": [
      "0 inside\n",
      "1 midfield\n",
      "2 wide\n",
      "3 weight\n",
      "4 DogGrade\n",
      "5 _dist_last__1\n",
      "6 _box_last__1\n",
      "7 _speed_avg_1\n",
      "8 _split_speed_avg_1\n",
      "9 _split_margin_avg_1\n",
      "10 _margin_avg_1\n",
      "11 _margin_time_avg_1\n",
      "12 _RunHomeTime_1\n",
      "13 _run_home_speed_1\n",
      "14 _first_out_avg_1\n",
      "15 _pos_out_avg_1\n",
      "16 _post_change_avg_1\n",
      "17 _races_1\n",
      "18 _wins_1\n",
      "19 _wins_last_1\n",
      "20 _weight_\n",
      "21 _min_time_\n",
      "22 _min_split_time_\n",
      "23 _last_start_price\n",
      "24 _last_start_prob\n",
      "25 dist_dist_last__10\n",
      "26 dist_box_last__10\n",
      "27 dist_speed_avg_10\n",
      "28 dist_split_speed_avg_10\n",
      "29 dist_split_margin_avg_10\n",
      "30 dist_margin_avg_10\n",
      "31 dist_margin_time_avg_10\n",
      "32 dist_RunHomeTime_10\n",
      "33 dist_run_home_speed_10\n",
      "34 dist_first_out_avg_10\n",
      "35 dist_pos_out_avg_10\n",
      "36 dist_post_change_avg_10\n",
      "37 dist_races_10\n",
      "38 dist_wins_10\n",
      "39 dist_wins_last_10\n",
      "40 dist_weight_\n",
      "41 dist_min_time_\n",
      "42 dist_min_split_time_\n",
      "43 dist_last_start_price\n",
      "44 dist_last_start_prob\n",
      "45 box_dist_last__10\n",
      "46 box_box_last__10\n",
      "47 box_speed_avg_10\n",
      "48 box_split_speed_avg_10\n",
      "49 box_split_margin_avg_10\n",
      "50 box_margin_avg_10\n",
      "51 box_margin_time_avg_10\n",
      "52 box_RunHomeTime_10\n",
      "53 box_run_home_speed_10\n",
      "54 box_first_out_avg_10\n",
      "55 box_pos_out_avg_10\n",
      "56 box_post_change_avg_10\n",
      "57 box_races_10\n",
      "58 box_wins_10\n",
      "59 box_wins_last_10\n",
      "60 box_weight_\n",
      "61 box_min_time_\n",
      "62 box_min_split_time_\n",
      "63 box_last_start_price\n",
      "64 box_last_start_prob\n",
      "65 track_box_dist_last__10\n",
      "66 track_box_box_last__10\n",
      "67 track_box_speed_avg_10\n",
      "68 track_box_split_speed_avg_10\n",
      "69 track_box_split_margin_avg_10\n",
      "70 track_box_margin_avg_10\n",
      "71 track_box_margin_time_avg_10\n",
      "72 track_box_RunHomeTime_10\n",
      "73 track_box_run_home_speed_10\n",
      "74 track_box_first_out_avg_10\n",
      "75 track_box_pos_out_avg_10\n",
      "76 track_box_post_change_avg_10\n",
      "77 track_box_races_10\n",
      "78 track_box_wins_10\n",
      "79 track_box_wins_last_10\n",
      "80 track_box_weight_\n",
      "81 track_box_min_time_\n",
      "82 track_box_min_split_time_\n",
      "83 track_box_last_start_price\n",
      "84 track_box_last_start_prob\n",
      "85 track_dist_dist_last__10\n",
      "86 track_dist_box_last__10\n",
      "87 track_dist_speed_avg_10\n",
      "88 track_dist_split_speed_avg_10\n",
      "89 track_dist_split_margin_avg_10\n",
      "90 track_dist_margin_avg_10\n",
      "91 track_dist_margin_time_avg_10\n",
      "92 track_dist_RunHomeTime_10\n",
      "93 track_dist_run_home_speed_10\n",
      "94 track_dist_first_out_avg_10\n",
      "95 track_dist_pos_out_avg_10\n",
      "96 track_dist_post_change_avg_10\n",
      "97 track_dist_races_10\n",
      "98 track_dist_wins_10\n",
      "99 track_dist_wins_last_10\n",
      "100 track_dist_weight_\n",
      "101 track_dist_min_time_\n",
      "102 track_dist_min_split_time_\n",
      "103 track_dist_last_start_price\n",
      "104 track_dist_last_start_prob\n"
     ]
    }
   ],
   "source": [
    "for i,s in enumerate(raceDB.stats_cols):\n",
    "    print(i,s)"
   ]
  },
  {
   "cell_type": "code",
   "execution_count": 15,
   "metadata": {},
   "outputs": [],
   "source": [
    "from rnn_tools.rnn_classes import Races,Dog, DogInput, Race"
   ]
  },
  {
   "cell_type": "code",
   "execution_count": 16,
   "metadata": {},
   "outputs": [],
   "source": [
    "import rnn_tools.raceDB"
   ]
  },
  {
   "cell_type": "code",
   "execution_count": 17,
   "metadata": {},
   "outputs": [
    {
     "data": {
      "text/plain": [
       "[datetime.date(2022, 1, 30),\n",
       " datetime.date(2022, 1, 30),\n",
       " datetime.date(2022, 1, 30),\n",
       " datetime.date(2022, 1, 30),\n",
       " datetime.date(2022, 1, 30),\n",
       " datetime.date(2022, 1, 30),\n",
       " datetime.date(2022, 1, 30),\n",
       " datetime.date(2022, 1, 30),\n",
       " datetime.date(2022, 1, 30),\n",
       " datetime.date(2022, 1, 30),\n",
       " datetime.date(2022, 1, 30),\n",
       " datetime.date(2022, 1, 30),\n",
       " datetime.date(2022, 1, 30),\n",
       " datetime.date(2022, 1, 30),\n",
       " datetime.date(2022, 1, 30),\n",
       " datetime.date(2022, 1, 30),\n",
       " datetime.date(2022, 1, 30),\n",
       " datetime.date(2022, 1, 30),\n",
       " datetime.date(2022, 1, 30),\n",
       " datetime.date(2022, 1, 30),\n",
       " datetime.date(2022, 1, 30),\n",
       " datetime.date(2022, 1, 30),\n",
       " datetime.date(2022, 1, 30),\n",
       " datetime.date(2022, 1, 30),\n",
       " datetime.date(2022, 1, 30),\n",
       " datetime.date(2022, 1, 30),\n",
       " datetime.date(2022, 1, 30),\n",
       " datetime.date(2022, 1, 31),\n",
       " datetime.date(2022, 1, 31),\n",
       " datetime.date(2022, 1, 31),\n",
       " datetime.date(2022, 1, 31),\n",
       " datetime.date(2022, 1, 31),\n",
       " datetime.date(2022, 1, 31),\n",
       " datetime.date(2022, 1, 31),\n",
       " datetime.date(2022, 1, 31),\n",
       " datetime.date(2022, 1, 31),\n",
       " datetime.date(2022, 1, 31),\n",
       " datetime.date(2022, 1, 31),\n",
       " datetime.date(2022, 1, 31),\n",
       " datetime.date(2022, 1, 31),\n",
       " datetime.date(2022, 1, 31),\n",
       " datetime.date(2022, 1, 31),\n",
       " datetime.date(2022, 1, 31),\n",
       " datetime.date(2022, 1, 31),\n",
       " datetime.date(2022, 1, 31),\n",
       " datetime.date(2022, 1, 31),\n",
       " datetime.date(2022, 1, 31),\n",
       " datetime.date(2022, 1, 31),\n",
       " datetime.date(2022, 1, 31),\n",
       " datetime.date(2022, 1, 31),\n",
       " datetime.date(2022, 1, 31),\n",
       " datetime.date(2022, 1, 31),\n",
       " datetime.date(2022, 1, 31),\n",
       " datetime.date(2022, 1, 31),\n",
       " datetime.date(2022, 1, 31),\n",
       " datetime.date(2022, 2, 1),\n",
       " datetime.date(2022, 2, 1),\n",
       " datetime.date(2022, 2, 1),\n",
       " datetime.date(2022, 2, 1),\n",
       " datetime.date(2022, 2, 1),\n",
       " datetime.date(2022, 2, 1),\n",
       " datetime.date(2022, 2, 1),\n",
       " datetime.date(2022, 2, 1),\n",
       " datetime.date(2022, 2, 1),\n",
       " datetime.date(2022, 2, 1),\n",
       " datetime.date(2022, 2, 1),\n",
       " datetime.date(2022, 2, 1),\n",
       " datetime.date(2022, 2, 1),\n",
       " datetime.date(2022, 2, 1),\n",
       " datetime.date(2022, 2, 1),\n",
       " datetime.date(2022, 2, 1),\n",
       " datetime.date(2022, 2, 1),\n",
       " datetime.date(2022, 2, 1),\n",
       " datetime.date(2022, 2, 1),\n",
       " datetime.date(2022, 2, 1),\n",
       " datetime.date(2022, 2, 1),\n",
       " datetime.date(2022, 2, 1),\n",
       " datetime.date(2022, 2, 1),\n",
       " datetime.date(2022, 2, 1),\n",
       " datetime.date(2022, 2, 1),\n",
       " datetime.date(2022, 2, 1),\n",
       " datetime.date(2022, 2, 1),\n",
       " datetime.date(2022, 2, 1),\n",
       " datetime.date(2022, 2, 1),\n",
       " datetime.date(2022, 2, 1),\n",
       " datetime.date(2022, 2, 2),\n",
       " datetime.date(2022, 2, 2),\n",
       " datetime.date(2022, 2, 2),\n",
       " datetime.date(2022, 2, 2),\n",
       " datetime.date(2022, 2, 2),\n",
       " datetime.date(2022, 2, 2),\n",
       " datetime.date(2022, 2, 2),\n",
       " datetime.date(2022, 2, 2),\n",
       " datetime.date(2022, 2, 2),\n",
       " datetime.date(2022, 2, 2),\n",
       " datetime.date(2022, 2, 2),\n",
       " datetime.date(2022, 2, 2),\n",
       " datetime.date(2022, 2, 2),\n",
       " datetime.date(2022, 2, 2),\n",
       " datetime.date(2022, 2, 2)]"
      ]
     },
     "execution_count": 17,
     "metadata": {},
     "output_type": "execute_result"
    }
   ],
   "source": [
    "races = raceDB.get_race_input(range(1000,1100))\n",
    "[r.race_date for r in races]"
   ]
  },
  {
   "cell_type": "code",
   "execution_count": 18,
   "metadata": {},
   "outputs": [],
   "source": [
    "stat_list = ['dist_last__1', 'box_last__1', 'speed_avg_1', 'split_speed_v1_1', 'split_speed_avg_1', 'split_margin_avg_1', 'margin_avg_1', 'margin_time_avg_1', 'RunHomeTime_1', 'run_home_speed_1', 'run_home_speed_v1_1', 'first_out_avg_1', 'pos_out_avg_1', 'post_change_avg_1', 'races_1', 'wins_1', 'wins_last_1', 'weight_', 'min_time_', 'min_split_time_', 'min_split_time_v1', 'last_start_price', 'last_start_prob']\n"
   ]
  },
  {
   "cell_type": "code",
   "execution_count": 27,
   "metadata": {},
   "outputs": [],
   "source": [
    "def closure(optimizer, criterion, outs, classes):\n",
    "    optimizer.zero_grad()\n",
    "    loss = nn.functional.mse_loss(outs, classes)\n",
    "    loss.backward()\n",
    "    return loss\n",
    "\n",
    "def model_pipeline(my_dataset=raceDB,config=None,prev_model=None, sweep=True, model_state_dict=None, prev_model_file=None, prev_model_version='450'):\n",
    "    if my_dataset:\n",
    "      dataset = my_dataset    \n",
    "    else:\n",
    "      dataset = raceDB\n",
    "    # tell wandb to get started\n",
    "    with wandb.init(project=\"NEW GRU V7 Reporting\", config=config,save_code=False):\n",
    "      #  access all HPs through wandb.config, so logging matches execution!\n",
    "      wandb.define_metric(\"loss_val\", summary=\"min\")\n",
    "      wandb.define_metric(\"accuracy\", summary=\"max\")\n",
    "      wandb.define_metric(\"ROI < 30\", summary=\"max\")\n",
    "      wandb.define_metric(\"val_ROI < 30\", summary=\"max\")\n",
    "      wandb.define_metric(\"relu roi\", summary=\"max\")\n",
    "      \n",
    "      config = wandb.config\n",
    "      pprint.pprint(config)\n",
    "      pprint.pprint(config.epochs)\n",
    "      print(config)\n",
    "      wandb.run.log_code('rnn_tools/')\n",
    "      # input_size = raceDB.get_race_input([0,1])[0].full_input.shape[0] #create fix so messy\n",
    "      print(config.input_type)\n",
    "\n",
    "      for i in config.stat_list_dict.values():\n",
    "        print(i)\n",
    "\n",
    "      reg_stat_mask = []\n",
    "      for stat,flag in config.stat_list_dict.items():\n",
    "          stat_flag = flag\n",
    "          reg_stat_mask = reg_stat_mask+[stat_flag]\n",
    "\n",
    "      print(reg_stat_mask)\n",
    "      stat_mask = [1]*6+reg_stat_mask+[0]*80\n",
    "      data_mask = [0]*26+[1]*20+[1]*20+[1]*20+[1]*20 # Reg, Dist, Box, T_box, T_dist\n",
    "      data_mask = [1]*6+reg_stat_mask+[0]*20+[0]*20+[0]*20+[0]*20 # Reg, Dist, Box, T_box, T_dist\n",
    "      data_mask_size = sum(data_mask)\n",
    "      print(f\"{data_mask_size=}\")\n",
    "      stat_mask = torch.tensor(stat_mask).type(torch.bool).to(device)\n",
    "      data_mask = torch.tensor(data_mask).type(torch.bool).to(device)\n",
    "      # stat_mask = torch.ones_like(stat_mask).type(torch.bool).to(device)\n",
    "\n",
    "      print(stat_mask)\n",
    "      print(stat_mask.shape)\n",
    "\n",
    "      if 'batch_days' in config.keys():\n",
    "        pass\n",
    "        raceDB.create_test_split_date(config['training_date_end'],val_date='2023-07-01')\n",
    "        raceDB.create_dogs_test_split_date()\n",
    "        raceDB.attach_races_to_dog_inputv2() \n",
    "        raceDB.reset_hidden()\n",
    "        raceDB.create_batches(batch_days=config['batch_days'], end_date = config['training_date_end'], stat_mask=stat_mask,data_mask=data_mask)\n",
    "\n",
    "      if config['input_type'] == 'basic':\n",
    "          print('here')\n",
    "          raceDB.batches['packed_x'] = raceDB.batches['packed_x_basic']\n",
    "          raceDB.batches['packed_y'] = raceDB.batches['packed_y_basic']\n",
    "          raceDB.batches['packed_v'] = raceDB.batches['packed_v_basic']\n",
    "          input_size = raceDB.batches['packed_x'][0].data[0].shape[0]\n",
    "\n",
    "      # for race in raceDB.racesDict.values():\n",
    "      #     for dog_input in race.dogs:\n",
    "      #       dog_input.stats_masked = dog_input.stats.masked_select(stat_mask) \n",
    "\n",
    "\n",
    "      print(f\"{input_size=}\")\n",
    "      config['stat_mask_tensor'] = torch.tensor(stat_mask, dtype=torch.uint8).to(device)     \n",
    "      raceDB.reset_hidden(num_layers=config['num_layers'], hidden_size=config['hidden_size'])\n",
    "      model = rnn_classes.GRUNetv3_extra(input_size,config['hidden_size'], num_layers=config['num_layers'],fc0_size=config['f0_layer_size'], fc1_size=config['f1_layer_size'],data_mask_size=data_mask_size)\n",
    "      optimizer = optim.AdamW(model.parameters(), lr=config['learning_rate'])\n",
    "      \n",
    "      if model_state_dict:\n",
    "        model.load_state_dict(model_state_dict)\n",
    "      if prev_model_file!=None:\n",
    "        print(f\"Loading model {prev_model_file}, version {prev_model_version}\")\n",
    "        model_name = prev_model_file\n",
    "        model_loc = f\"C:/Users/Nick/Documents/GitHub/grvmodel/Python/pytorch/New Model/savedmodel/{model_name}/{model_name}_{prev_model_version}.pt\"\n",
    "        model_data = torch.load(model_loc,map_location=torch.device('cuda:0'))\n",
    "        print(model_data['model_state_dict'].keys())\n",
    "        model.load_state_dict(model_data['model_state_dict'], strict=True)\n",
    "        config['parent model'] = prev_model_file\n",
    "        raceDB.fill_hidden_states_dict_v2(model_data['db_train'])\n",
    "        model = model.to(device)\n",
    "        \n",
    "        optimizer = optim.Adam(model.parameters(), lr=config['learning_rate'])\n",
    "        # optimizer.load_state_dict(model_data['optim'])\n",
    "        # optimizer.to(device)\n",
    "      else:\n",
    "        optimizer = optim.RAdam(model.parameters(), lr=config['learning_rate'])\n",
    "\n",
    "      raceDB.to_cuda()\n",
    "      criterion = nn.CrossEntropyLoss(reduction='none')\n",
    "\n",
    "      model = model.to(device)\n",
    "      print(model)\n",
    "\n",
    "      # and use them to train the model\n",
    "      # wandb.watch(model, log='all')\n",
    "      try:\n",
    "        # train_double_loss_regular(model, dataset, criterion, optimizer, scheduler, config, crit2=custom_l2)\n",
    "        training_testing_gru_extra_data.train_double_v3(model, dataset, criterion, optimizer, 'na', config)\n",
    "        # hidden_state_init = model.h0\n",
    "        # raceDB.reset_hidden_w_param(hidden_state_init,num_layers=2, hidden_size=config['hidden_size'])\n",
    "        # raceDB.dogsDict['nullDog'].input.hidden_out = (-torch.ones(256+64)).to('cuda:0')\n",
    "        \n",
    "        # training_testing_gru_extra_data.test_model_v3(model, dataset, criterion=criterion,config=config)\n",
    "        # raceDB.reset_hidden_w_param(hidden_state_init,num_layers=2, hidden_size=config['hidden_size'])\n",
    "        # raceDB.dogsDict['nullDog'].input.hidden_out = (-torch.ones(256+64)).to('cuda:0')\n",
    "        # training_testing_gru_extra_data.validate_model_v3(model, dataset, criterion=criterion,config=config)\n",
    "      except (KeyboardInterrupt) as error:\n",
    "        print(error)\n",
    "        print(\"finished Early\")\n",
    "        \n",
    "      # dataset.create_hidden_states_dict()\n",
    "      raceDB.create_hidden_states_dict_v2()\n",
    "      model_saver_wandb(model, optimizer, 450, 0.1, raceDB.hidden_states_dict_gru_v6,raceDB.train_hidden_dict , model_name=\"long nsw new  22000 RUN\")\n",
    "      if sweep:\n",
    "        # raceDB.reset_all_lstm_states\n",
    "        raceDB.reset_hidden()\n",
    "    \n",
    "\n",
    "\n",
    "    # and test its final performance\n",
    "    #test(model, test_loader)\n",
    "\n",
    "    return (model,dataset, optimizer)"
   ]
  },
  {
   "cell_type": "code",
   "execution_count": 20,
   "metadata": {},
   "outputs": [],
   "source": [
    "stat_list_dict = {'_dist_last__1':1,\n",
    "    '_box_last__1':1,\n",
    "    '_speed_avg_1':1,\n",
    "    '_split_speed_avg_1':1,\n",
    "    '_split_margin_avg_1':1,\n",
    "    '_margin_avg_1':1,\n",
    "    '_margin_time_avg_1':1,\n",
    "    '_RunHomeTime_1':1,\n",
    "    '_run_home_speed_1':1,\n",
    "    '_first_out_avg_1':1,\n",
    "    '_pos_out_avg_1':1,\n",
    "    '_post_change_avg_1':1,\n",
    "    '_races_1':1,\n",
    "    '_wins_1':1,\n",
    "    '_wins_last_1':1,\n",
    "    '_weight_':1,\n",
    "    '_min_time_':1,\n",
    "    '_min_split_time_':1,\n",
    "    '_last_start_price':1,\n",
    "    '_last_start_prob':1,\n",
    "}\n",
    "\n",
    "wandb_config_static = {\n",
    "    'hidden_size': 256,\n",
    "    'stats': raceDB.stats_cols,\n",
    "    'races': states,\n",
    "    'datafile': data_file,\n",
    "    'latest_date': raceDB.latest_date,\n",
    "    'input_type': 'basic',\n",
    "    'num_layers': 2,\n",
    "    'batch_size': 750,\n",
    "    'dropout': 0.3,\n",
    "    'epochs': 250,\n",
    "    'learning_rate': 0.001,\n",
    "    'optimizer': 'adamW',\n",
    "    'f0_layer_size': 128,\n",
    "    'f1_layer_size': 64,\n",
    "    'training_date_end': '2023-01-01',\n",
    "    'notes':'GRU, with basic add on data looped in',\n",
    "    'batch_days': 365,\n",
    "    'stat_list_dict': stat_list_dict,\n",
    "}"
   ]
  },
  {
   "cell_type": "code",
   "execution_count": 21,
   "metadata": {},
   "outputs": [],
   "source": [
    "raceDB.reset_hidden(num_layers=wandb_config_static['num_layers'], hidden_size=wandb_config_static['hidden_size'])"
   ]
  },
  {
   "cell_type": "code",
   "execution_count": 22,
   "metadata": {},
   "outputs": [],
   "source": [
    "torch.cuda.empty_cache()"
   ]
  },
  {
   "cell_type": "code",
   "execution_count": 23,
   "metadata": {},
   "outputs": [
    {
     "name": "stderr",
     "output_type": "stream",
     "text": [
      "c:\\Users\\Nick\\Documents\\GitHub\\grvmodel\\python\\rnn_tools\\rnn_classes.py:389: UserWarning: To copy construct from a tensor, it is recommended to use sourceTensor.clone().detach() or sourceTensor.clone().detach().requires_grad_(True), rather than torch.tensor(sourceTensor).\n",
      "  r.prob = torch.tensor((1/(torch.tensor(r.start_prices)+0.0001))/((1/torch.tensor(r.start_prices)).sum()+0.0001),device=self.device)\n"
     ]
    }
   ],
   "source": [
    "raceDB.race_prices_to_prob()"
   ]
  },
  {
   "cell_type": "code",
   "execution_count": 24,
   "metadata": {},
   "outputs": [
    {
     "data": {
      "text/plain": [
       "Timestamp('2024-01-31 00:00:00')"
      ]
     },
     "execution_count": 24,
     "metadata": {},
     "output_type": "execute_result"
    }
   ],
   "source": [
    "raceDB.latest_date"
   ]
  },
  {
   "cell_type": "code",
   "execution_count": 25,
   "metadata": {},
   "outputs": [],
   "source": [
    "# [[(d.hidden_out.shape, d.dog.dogid) for d in race.dogs] for race in raceDB.batches['batch_races'][0]]"
   ]
  },
  {
   "cell_type": "code",
   "execution_count": 28,
   "metadata": {},
   "outputs": [
    {
     "data": {
      "text/html": [
       "wandb version 0.16.3 is available!  To upgrade, please run:\n",
       " $ pip install wandb --upgrade"
      ],
      "text/plain": [
       "<IPython.core.display.HTML object>"
      ]
     },
     "metadata": {},
     "output_type": "display_data"
    },
    {
     "data": {
      "text/html": [
       "Tracking run with wandb version 0.16.2"
      ],
      "text/plain": [
       "<IPython.core.display.HTML object>"
      ]
     },
     "metadata": {},
     "output_type": "display_data"
    },
    {
     "data": {
      "text/html": [
       "Run data is saved locally in <code>c:\\Users\\Nick\\Documents\\GitHub\\grvmodel\\python\\wandb\\run-20240215_084834-rk98dfks</code>"
      ],
      "text/plain": [
       "<IPython.core.display.HTML object>"
      ]
     },
     "metadata": {},
     "output_type": "display_data"
    },
    {
     "data": {
      "text/html": [
       "Syncing run <strong><a href='https://wandb.ai/nickojelly/NEW%20GRU%20V7%20Reporting/runs/rk98dfks' target=\"_blank\">resolute-carnation-72</a></strong> to <a href='https://wandb.ai/nickojelly/NEW%20GRU%20V7%20Reporting' target=\"_blank\">Weights & Biases</a> (<a href='https://wandb.me/run' target=\"_blank\">docs</a>)<br/>"
      ],
      "text/plain": [
       "<IPython.core.display.HTML object>"
      ]
     },
     "metadata": {},
     "output_type": "display_data"
    },
    {
     "data": {
      "text/html": [
       " View project at <a href='https://wandb.ai/nickojelly/NEW%20GRU%20V7%20Reporting' target=\"_blank\">https://wandb.ai/nickojelly/NEW%20GRU%20V7%20Reporting</a>"
      ],
      "text/plain": [
       "<IPython.core.display.HTML object>"
      ]
     },
     "metadata": {},
     "output_type": "display_data"
    },
    {
     "data": {
      "text/html": [
       " View run at <a href='https://wandb.ai/nickojelly/NEW%20GRU%20V7%20Reporting/runs/rk98dfks' target=\"_blank\">https://wandb.ai/nickojelly/NEW%20GRU%20V7%20Reporting/runs/rk98dfks</a>"
      ],
      "text/plain": [
       "<IPython.core.display.HTML object>"
      ]
     },
     "metadata": {},
     "output_type": "display_data"
    },
    {
     "name": "stdout",
     "output_type": "stream",
     "text": [
      "{'hidden_size': 256, 'stats': ['inside', 'midfield', 'wide', 'weight', 'DogGrade', '_dist_last__1', '_box_last__1', '_speed_avg_1', '_split_speed_avg_1', '_split_margin_avg_1', '_margin_avg_1', '_margin_time_avg_1', '_RunHomeTime_1', '_run_home_speed_1', '_first_out_avg_1', '_pos_out_avg_1', '_post_change_avg_1', '_races_1', '_wins_1', '_wins_last_1', '_weight_', '_min_time_', '_min_split_time_', '_last_start_price', '_last_start_prob', 'dist_dist_last__10', 'dist_box_last__10', 'dist_speed_avg_10', 'dist_split_speed_avg_10', 'dist_split_margin_avg_10', 'dist_margin_avg_10', 'dist_margin_time_avg_10', 'dist_RunHomeTime_10', 'dist_run_home_speed_10', 'dist_first_out_avg_10', 'dist_pos_out_avg_10', 'dist_post_change_avg_10', 'dist_races_10', 'dist_wins_10', 'dist_wins_last_10', 'dist_weight_', 'dist_min_time_', 'dist_min_split_time_', 'dist_last_start_price', 'dist_last_start_prob', 'box_dist_last__10', 'box_box_last__10', 'box_speed_avg_10', 'box_split_speed_avg_10', 'box_split_margin_avg_10', 'box_margin_avg_10', 'box_margin_time_avg_10', 'box_RunHomeTime_10', 'box_run_home_speed_10', 'box_first_out_avg_10', 'box_pos_out_avg_10', 'box_post_change_avg_10', 'box_races_10', 'box_wins_10', 'box_wins_last_10', 'box_weight_', 'box_min_time_', 'box_min_split_time_', 'box_last_start_price', 'box_last_start_prob', 'track_box_dist_last__10', 'track_box_box_last__10', 'track_box_speed_avg_10', 'track_box_split_speed_avg_10', 'track_box_split_margin_avg_10', 'track_box_margin_avg_10', 'track_box_margin_time_avg_10', 'track_box_RunHomeTime_10', 'track_box_run_home_speed_10', 'track_box_first_out_avg_10', 'track_box_pos_out_avg_10', 'track_box_post_change_avg_10', 'track_box_races_10', 'track_box_wins_10', 'track_box_wins_last_10', 'track_box_weight_', 'track_box_min_time_', 'track_box_min_split_time_', 'track_box_last_start_price', 'track_box_last_start_prob', 'track_dist_dist_last__10', 'track_dist_box_last__10', 'track_dist_speed_avg_10', 'track_dist_split_speed_avg_10', 'track_dist_split_margin_avg_10', 'track_dist_margin_avg_10', 'track_dist_margin_time_avg_10', 'track_dist_RunHomeTime_10', 'track_dist_run_home_speed_10', 'track_dist_first_out_avg_10', 'track_dist_pos_out_avg_10', 'track_dist_post_change_avg_10', 'track_dist_races_10', 'track_dist_wins_10', 'track_dist_wins_last_10', 'track_dist_weight_', 'track_dist_min_time_', 'track_dist_min_split_time_', 'track_dist_last_start_price', 'track_dist_last_start_prob'], 'races': ['NSW'], 'datafile': './data/gru_inputs_kitchen_sink_new_not_simple.fth', 'latest_date': '2024-01-31T00:00:00', 'input_type': 'basic', 'num_layers': 2, 'batch_size': 750, 'dropout': 0.3, 'epochs': 250, 'learning_rate': 0.001, 'optimizer': 'adamW', 'f0_layer_size': 128, 'f1_layer_size': 64, 'training_date_end': '2023-01-01', 'notes': 'GRU, with basic add on data looped in', 'batch_days': 365, 'stat_list_dict': {'_dist_last__1': 1, '_box_last__1': 1, '_speed_avg_1': 1, '_split_speed_avg_1': 1, '_split_margin_avg_1': 1, '_margin_avg_1': 1, '_margin_time_avg_1': 1, '_RunHomeTime_1': 1, '_run_home_speed_1': 1, '_first_out_avg_1': 1, '_pos_out_avg_1': 1, '_post_change_avg_1': 1, '_races_1': 1, '_wins_1': 1, '_wins_last_1': 1, '_weight_': 1, '_min_time_': 1, '_min_split_time_': 1, '_last_start_price': 1, '_last_start_prob': 1}}\n",
      "250\n",
      "{'hidden_size': 256, 'stats': ['inside', 'midfield', 'wide', 'weight', 'DogGrade', '_dist_last__1', '_box_last__1', '_speed_avg_1', '_split_speed_avg_1', '_split_margin_avg_1', '_margin_avg_1', '_margin_time_avg_1', '_RunHomeTime_1', '_run_home_speed_1', '_first_out_avg_1', '_pos_out_avg_1', '_post_change_avg_1', '_races_1', '_wins_1', '_wins_last_1', '_weight_', '_min_time_', '_min_split_time_', '_last_start_price', '_last_start_prob', 'dist_dist_last__10', 'dist_box_last__10', 'dist_speed_avg_10', 'dist_split_speed_avg_10', 'dist_split_margin_avg_10', 'dist_margin_avg_10', 'dist_margin_time_avg_10', 'dist_RunHomeTime_10', 'dist_run_home_speed_10', 'dist_first_out_avg_10', 'dist_pos_out_avg_10', 'dist_post_change_avg_10', 'dist_races_10', 'dist_wins_10', 'dist_wins_last_10', 'dist_weight_', 'dist_min_time_', 'dist_min_split_time_', 'dist_last_start_price', 'dist_last_start_prob', 'box_dist_last__10', 'box_box_last__10', 'box_speed_avg_10', 'box_split_speed_avg_10', 'box_split_margin_avg_10', 'box_margin_avg_10', 'box_margin_time_avg_10', 'box_RunHomeTime_10', 'box_run_home_speed_10', 'box_first_out_avg_10', 'box_pos_out_avg_10', 'box_post_change_avg_10', 'box_races_10', 'box_wins_10', 'box_wins_last_10', 'box_weight_', 'box_min_time_', 'box_min_split_time_', 'box_last_start_price', 'box_last_start_prob', 'track_box_dist_last__10', 'track_box_box_last__10', 'track_box_speed_avg_10', 'track_box_split_speed_avg_10', 'track_box_split_margin_avg_10', 'track_box_margin_avg_10', 'track_box_margin_time_avg_10', 'track_box_RunHomeTime_10', 'track_box_run_home_speed_10', 'track_box_first_out_avg_10', 'track_box_pos_out_avg_10', 'track_box_post_change_avg_10', 'track_box_races_10', 'track_box_wins_10', 'track_box_wins_last_10', 'track_box_weight_', 'track_box_min_time_', 'track_box_min_split_time_', 'track_box_last_start_price', 'track_box_last_start_prob', 'track_dist_dist_last__10', 'track_dist_box_last__10', 'track_dist_speed_avg_10', 'track_dist_split_speed_avg_10', 'track_dist_split_margin_avg_10', 'track_dist_margin_avg_10', 'track_dist_margin_time_avg_10', 'track_dist_RunHomeTime_10', 'track_dist_run_home_speed_10', 'track_dist_first_out_avg_10', 'track_dist_pos_out_avg_10', 'track_dist_post_change_avg_10', 'track_dist_races_10', 'track_dist_wins_10', 'track_dist_wins_last_10', 'track_dist_weight_', 'track_dist_min_time_', 'track_dist_min_split_time_', 'track_dist_last_start_price', 'track_dist_last_start_prob'], 'races': ['NSW'], 'datafile': './data/gru_inputs_kitchen_sink_new_not_simple.fth', 'latest_date': '2024-01-31T00:00:00', 'input_type': 'basic', 'num_layers': 2, 'batch_size': 750, 'dropout': 0.3, 'epochs': 250, 'learning_rate': 0.001, 'optimizer': 'adamW', 'f0_layer_size': 128, 'f1_layer_size': 64, 'training_date_end': '2023-01-01', 'notes': 'GRU, with basic add on data looped in', 'batch_days': 365, 'stat_list_dict': {'_dist_last__1': 1, '_box_last__1': 1, '_speed_avg_1': 1, '_split_speed_avg_1': 1, '_split_margin_avg_1': 1, '_margin_avg_1': 1, '_margin_time_avg_1': 1, '_RunHomeTime_1': 1, '_run_home_speed_1': 1, '_first_out_avg_1': 1, '_pos_out_avg_1': 1, '_post_change_avg_1': 1, '_races_1': 1, '_wins_1': 1, '_wins_last_1': 1, '_weight_': 1, '_min_time_': 1, '_min_split_time_': 1, '_last_start_price': 1, '_last_start_prob': 1}}\n",
      "basic\n",
      "1\n",
      "1\n",
      "1\n",
      "1\n",
      "1\n",
      "1\n",
      "1\n",
      "1\n",
      "1\n",
      "1\n",
      "1\n",
      "1\n",
      "1\n",
      "1\n",
      "1\n",
      "1\n",
      "1\n",
      "1\n",
      "1\n",
      "1\n",
      "[1, 1, 1, 1, 1, 1, 1, 1, 1, 1, 1, 1, 1, 1, 1, 1, 1, 1, 1, 1]\n",
      "data_mask_size=26\n",
      "tensor([ True,  True,  True,  True,  True,  True,  True,  True,  True,  True,\n",
      "         True,  True,  True,  True,  True,  True,  True,  True,  True,  True,\n",
      "         True,  True,  True,  True,  True,  True, False, False, False, False,\n",
      "        False, False, False, False, False, False, False, False, False, False,\n",
      "        False, False, False, False, False, False, False, False, False, False,\n",
      "        False, False, False, False, False, False, False, False, False, False,\n",
      "        False, False, False, False, False, False, False, False, False, False,\n",
      "        False, False, False, False, False, False, False, False, False, False,\n",
      "        False, False, False, False, False, False, False, False, False, False,\n",
      "        False, False, False, False, False, False, False, False, False, False,\n",
      "        False, False, False, False, False, False], device='cuda:0')\n",
      "torch.Size([106])\n",
      "Train examples 13146, Test examples 6877, Val examples 8177\n"
     ]
    },
    {
     "name": "stderr",
     "output_type": "stream",
     "text": [
      "100%|██████████| 11639/11639 [00:00<00:00, 152840.32it/s]\n",
      "100%|██████████| 11640/11640 [00:02<00:00, 4176.06it/s]\n"
     ]
    },
    {
     "name": "stdout",
     "output_type": "stream",
     "text": [
      "[(datetime.date(2019, 12, 1), datetime.date(2020, 11, 30)), (datetime.date(2020, 11, 30), datetime.date(2021, 11, 30)), (datetime.date(2021, 11, 30), datetime.date(2022, 11, 30)), (datetime.date(2022, 11, 30), datetime.date(2022, 12, 31))]\n",
      "2020-11-30\n",
      "2021-11-30\n",
      "2022-11-30\n",
      "2022-12-31\n",
      "Train examples [11920, 1202]\n"
     ]
    },
    {
     "name": "stderr",
     "output_type": "stream",
     "text": [
      "100%|██████████| 11639/11639 [00:12<00:00, 917.94it/s]\n",
      "100%|██████████| 11639/11639 [00:01<00:00, 8882.39it/s]\n",
      "100%|██████████| 2/2 [00:13<00:00,  7.00s/it]\n"
     ]
    },
    {
     "name": "stdout",
     "output_type": "stream",
     "text": [
      "Train examples [7168, 3130]\n",
      "Train examples [7168, 3130]\n",
      "Train examples [11920, 1202]\n",
      "Train examples [11920, 1202]\n",
      "here\n",
      "input_size=26\n"
     ]
    },
    {
     "name": "stderr",
     "output_type": "stream",
     "text": [
      "C:\\Users\\Nick\\AppData\\Local\\Temp\\ipykernel_18768\\2363816233.py:70: UserWarning: To copy construct from a tensor, it is recommended to use sourceTensor.clone().detach() or sourceTensor.clone().detach().requires_grad_(True), rather than torch.tensor(sourceTensor).\n",
      "  config['stat_mask_tensor'] = torch.tensor(stat_mask, dtype=torch.uint8).to(device)\n",
      "c:\\Users\\Nick\\.conda\\envs\\python311\\Lib\\site-packages\\torch\\nn\\modules\\lazy.py:180: UserWarning: Lazy modules are a new feature under heavy development so changes to the API or functionality can happen at any moment.\n",
      "  warnings.warn('Lazy modules are a new feature under heavy development '\n"
     ]
    },
    {
     "name": "stdout",
     "output_type": "stream",
     "text": [
      "Loading model twinkling-paper-66, version 56\n",
      "odict_keys(['h0', 'gru.weight_ih_l0', 'gru.weight_hh_l0', 'gru.bias_ih_l0', 'gru.bias_hh_l0', 'gru.weight_ih_l1', 'gru.weight_hh_l1', 'gru.bias_ih_l1', 'gru.bias_hh_l1', 'fc0.weight', 'fc0.bias', 'batch_norm.weight', 'batch_norm.bias', 'batch_norm.running_mean', 'batch_norm.running_var', 'batch_norm.num_batches_tracked', 'batch_norm_data.weight', 'batch_norm_data.bias', 'batch_norm_data.running_mean', 'batch_norm_data.running_var', 'batch_norm_data.num_batches_tracked', 'extra_1.batch_norm.weight', 'extra_1.batch_norm.bias', 'extra_1.batch_norm.running_mean', 'extra_1.batch_norm.running_var', 'extra_1.batch_norm.num_batches_tracked', 'extra_1.fc0_p1.weight', 'extra_1.fc0_p1.bias', 'extra_1.fc0_p2.weight', 'extra_1.fc0_p2.bias', 'extra_1.fc0_p3.weight', 'extra_1.fc0_p3.bias', 'fc0_p1.weight', 'fc0_p1.bias', 'fc0_p2.weight', 'fc0_p2.bias', 'fc0_p3.weight', 'fc0_p3.bias', 'fc1.weight', 'fc1.bias', 'fc2.weight', 'fc2.bias', 'fc3.weight', 'fc3.bias'])\n"
     ]
    },
    {
     "name": "stderr",
     "output_type": "stream",
     "text": [
      "100%|██████████| 11640/11640 [00:00<00:00, 895416.67it/s]"
     ]
    },
    {
     "name": "stdout",
     "output_type": "stream",
     "text": [
      "filled =17\n",
      "empty  =11623\n",
      "0.0014604810996563574null_dog=0\n"
     ]
    },
    {
     "name": "stderr",
     "output_type": "stream",
     "text": [
      "\n"
     ]
    },
    {
     "name": "stdout",
     "output_type": "stream",
     "text": [
      "GRUNetv3_extra(\n",
      "  (gru): GRU(26, 256, num_layers=2, dropout=0.3)\n",
      "  (relu): ReLU()\n",
      "  (fc0): Linear(in_features=2630, out_features=2048, bias=True)\n",
      "  (batch_norm): BatchNorm1d(26, eps=1e-05, momentum=0.1, affine=True, track_running_stats=True)\n",
      "  (batch_norm_data): BatchNorm1d(26, eps=1e-05, momentum=0.1, affine=True, track_running_stats=True)\n",
      "  (extra_1): GRUNetv3_simple_extra_data(\n",
      "    (batch_norm): LazyBatchNorm1d(0, eps=1e-05, momentum=0.1, affine=True, track_running_stats=True)\n",
      "    (relu): ReLU()\n",
      "    (fc0_p1): LazyLinear(in_features=0, out_features=128, bias=True)\n",
      "    (fc0_p1_drop): Dropout(p=0.3, inplace=False)\n",
      "    (fc0_p2): Linear(in_features=128, out_features=64, bias=True)\n",
      "    (fc0_p2_drop): Dropout(p=0.3, inplace=False)\n",
      "    (fc0_p3): Linear(in_features=64, out_features=64, bias=True)\n",
      "    (fc0_p3_drop): Dropout(p=0.3, inplace=False)\n",
      "  )\n",
      "  (fc0_p1): Linear(in_features=512, out_features=256, bias=True)\n",
      "  (fc0_p1_drop): Dropout(p=0.3, inplace=False)\n",
      "  (fc0_p2): Linear(in_features=256, out_features=256, bias=True)\n",
      "  (fc0_p2_drop): Dropout(p=0.3, inplace=False)\n",
      "  (fc0_p3): Linear(in_features=256, out_features=256, bias=True)\n",
      "  (fc0_p3_drop): Dropout(p=0.3, inplace=False)\n",
      "  (relu0): ReLU()\n",
      "  (drop1): Dropout(p=0.3, inplace=False)\n",
      "  (fc1): Linear(in_features=2048, out_features=1024, bias=True)\n",
      "  (drop2): Dropout(p=0.3, inplace=False)\n",
      "  (fc2): Linear(in_features=1024, out_features=64, bias=True)\n",
      "  (drop3): Dropout(p=0.3, inplace=False)\n",
      "  (fc3): Linear(in_features=64, out_features=8, bias=True)\n",
      "  (output_fn): Identity()\n",
      ")\n"
     ]
    },
    {
     "name": "stderr",
     "output_type": "stream",
     "text": [
      "  0%|          | 0/250 [00:00<?, ?it/s]"
     ]
    },
    {
     "name": "stdout",
     "output_type": "stream",
     "text": [
      "[Errno 2] No such file or directory: 'C:\\\\Users\\\\Nick\\\\AppData\\\\Local\\\\Temp\\\\tmp_es6cfi7wandb-media\\\\9hu8vhw9.table.json'\n",
      "[Errno 2] No such file or directory: 'C:\\\\Users\\\\Nick\\\\AppData\\\\Local\\\\Temp\\\\tmp_es6cfi7wandb-media\\\\5avjhvw5.table.json'\n",
      "New Max ROI: -0.06431117134271294 - -0.10378563581350851\n",
      "created path\n"
     ]
    },
    {
     "name": "stderr",
     "output_type": "stream",
     "text": [
      "  0%|          | 1/250 [01:18<5:27:33, 78.93s/it]"
     ]
    },
    {
     "name": "stdout",
     "output_type": "stream",
     "text": [
      "[Errno 2] No such file or directory: 'C:\\\\Users\\\\Nick\\\\AppData\\\\Local\\\\Temp\\\\tmp_es6cfi7wandb-media\\\\wszns9zh.table.json'\n",
      "[Errno 2] No such file or directory: 'C:\\\\Users\\\\Nick\\\\AppData\\\\Local\\\\Temp\\\\tmp_es6cfi7wandb-media\\\\ulri1u0s.table.json'\n",
      "New Max ROI: -0.06431117134271294 - -0.005026851747591592\n"
     ]
    },
    {
     "name": "stderr",
     "output_type": "stream",
     "text": [
      "  1%|          | 2/250 [02:38<5:28:33, 79.49s/it]"
     ]
    },
    {
     "name": "stdout",
     "output_type": "stream",
     "text": [
      "[Errno 2] No such file or directory: 'C:\\\\Users\\\\Nick\\\\AppData\\\\Local\\\\Temp\\\\tmp_es6cfi7wandb-media\\\\n4tifq0u.table.json'\n",
      "[Errno 2] No such file or directory: 'C:\\\\Users\\\\Nick\\\\AppData\\\\Local\\\\Temp\\\\tmp_es6cfi7wandb-media\\\\dkt1hpgn.table.json'\n"
     ]
    },
    {
     "name": "stderr",
     "output_type": "stream",
     "text": [
      "  1%|          | 3/250 [03:56<5:23:50, 78.67s/it]"
     ]
    },
    {
     "name": "stdout",
     "output_type": "stream",
     "text": [
      "[Errno 2] No such file or directory: 'C:\\\\Users\\\\Nick\\\\AppData\\\\Local\\\\Temp\\\\tmp_es6cfi7wandb-media\\\\xlwt60h8.table.json'\n",
      "[Errno 2] No such file or directory: 'C:\\\\Users\\\\Nick\\\\AppData\\\\Local\\\\Temp\\\\tmp_es6cfi7wandb-media\\\\fdhudi6r.table.json'\n",
      "New Max ROI: -0.052060341060400785 - -0.005026851747591592\n"
     ]
    },
    {
     "name": "stderr",
     "output_type": "stream",
     "text": [
      "  2%|▏         | 4/250 [05:13<5:20:09, 78.09s/it]"
     ]
    },
    {
     "name": "stdout",
     "output_type": "stream",
     "text": [
      "[Errno 2] No such file or directory: 'C:\\\\Users\\\\Nick\\\\AppData\\\\Local\\\\Temp\\\\tmp_es6cfi7wandb-media\\\\ow78r8ik.table.json'\n",
      "[Errno 2] No such file or directory: 'C:\\\\Users\\\\Nick\\\\AppData\\\\Local\\\\Temp\\\\tmp_es6cfi7wandb-media\\\\hg8j7w64.table.json'\n",
      "New Max ROI: -0.023713247271079423 - -0.005026851747591592\n"
     ]
    },
    {
     "name": "stderr",
     "output_type": "stream",
     "text": [
      "  2%|▏         | 5/250 [06:33<5:21:36, 78.76s/it]"
     ]
    },
    {
     "name": "stdout",
     "output_type": "stream",
     "text": [
      "[Errno 2] No such file or directory: 'C:\\\\Users\\\\Nick\\\\AppData\\\\Local\\\\Temp\\\\tmp_es6cfi7wandb-media\\\\r9nc1j7t.table.json'\n",
      "[Errno 2] No such file or directory: 'C:\\\\Users\\\\Nick\\\\AppData\\\\Local\\\\Temp\\\\tmp_es6cfi7wandb-media\\\\pqv6m637.table.json'\n",
      "New Max ROI: -0.005360970741054037 - -0.005026851747591592\n"
     ]
    },
    {
     "name": "stderr",
     "output_type": "stream",
     "text": [
      "  2%|▏         | 6/250 [07:52<5:21:02, 78.94s/it]"
     ]
    },
    {
     "name": "stdout",
     "output_type": "stream",
     "text": [
      "[Errno 2] No such file or directory: 'C:\\\\Users\\\\Nick\\\\AppData\\\\Local\\\\Temp\\\\tmp_es6cfi7wandb-media\\\\ack52kkv.table.json'\n",
      "[Errno 2] No such file or directory: 'C:\\\\Users\\\\Nick\\\\AppData\\\\Local\\\\Temp\\\\tmp_es6cfi7wandb-media\\\\6epme62h.table.json'\n",
      "New Max ROI: -0.0017144183110378566 - -0.005026851747591592\n"
     ]
    },
    {
     "name": "stderr",
     "output_type": "stream",
     "text": [
      "  3%|▎         | 7/250 [09:12<5:20:00, 79.01s/it]"
     ]
    },
    {
     "name": "stdout",
     "output_type": "stream",
     "text": [
      "[Errno 2] No such file or directory: 'C:\\\\Users\\\\Nick\\\\AppData\\\\Local\\\\Temp\\\\tmp_es6cfi7wandb-media\\\\8my06izc.table.json'\n",
      "[Errno 2] No such file or directory: 'C:\\\\Users\\\\Nick\\\\AppData\\\\Local\\\\Temp\\\\tmp_es6cfi7wandb-media\\\\vyuioevx.table.json'\n"
     ]
    },
    {
     "name": "stderr",
     "output_type": "stream",
     "text": [
      "  3%|▎         | 8/250 [10:28<5:15:49, 78.30s/it]"
     ]
    },
    {
     "name": "stdout",
     "output_type": "stream",
     "text": [
      "[Errno 2] No such file or directory: 'C:\\\\Users\\\\Nick\\\\AppData\\\\Local\\\\Temp\\\\tmp_es6cfi7wandb-media\\\\t9u5rovt.table.json'\n",
      "[Errno 2] No such file or directory: 'C:\\\\Users\\\\Nick\\\\AppData\\\\Local\\\\Temp\\\\tmp_es6cfi7wandb-media\\\\6t169juf.table.json'\n"
     ]
    },
    {
     "name": "stderr",
     "output_type": "stream",
     "text": [
      "  4%|▎         | 9/250 [11:49<5:17:41, 79.09s/it]"
     ]
    },
    {
     "name": "stdout",
     "output_type": "stream",
     "text": [
      "[Errno 2] No such file or directory: 'C:\\\\Users\\\\Nick\\\\AppData\\\\Local\\\\Temp\\\\tmp_es6cfi7wandb-media\\\\yn7dxqqj.table.json'\n",
      "[Errno 2] No such file or directory: 'C:\\\\Users\\\\Nick\\\\AppData\\\\Local\\\\Temp\\\\tmp_es6cfi7wandb-media\\\\nn7t25jy.table.json'\n"
     ]
    },
    {
     "name": "stderr",
     "output_type": "stream",
     "text": [
      "  4%|▍         | 10/250 [13:06<5:13:46, 78.45s/it]"
     ]
    },
    {
     "name": "stdout",
     "output_type": "stream",
     "text": [
      "[Errno 2] No such file or directory: 'C:\\\\Users\\\\Nick\\\\AppData\\\\Local\\\\Temp\\\\tmp_es6cfi7wandb-media\\\\9qoucimr.table.json'\n",
      "[Errno 2] No such file or directory: 'C:\\\\Users\\\\Nick\\\\AppData\\\\Local\\\\Temp\\\\tmp_es6cfi7wandb-media\\\\f02epywl.table.json'\n"
     ]
    },
    {
     "name": "stderr",
     "output_type": "stream",
     "text": [
      "  4%|▍         | 11/250 [14:26<5:13:56, 78.81s/it]"
     ]
    },
    {
     "name": "stdout",
     "output_type": "stream",
     "text": [
      "[Errno 2] No such file or directory: 'C:\\\\Users\\\\Nick\\\\AppData\\\\Local\\\\Temp\\\\tmp_es6cfi7wandb-media\\\\pbr2iiex.table.json'\n",
      "[Errno 2] No such file or directory: 'C:\\\\Users\\\\Nick\\\\AppData\\\\Local\\\\Temp\\\\tmp_es6cfi7wandb-media\\\\bawjhqql.table.json'\n"
     ]
    },
    {
     "name": "stderr",
     "output_type": "stream",
     "text": [
      "  5%|▍         | 12/250 [15:46<5:14:11, 79.21s/it]"
     ]
    },
    {
     "name": "stdout",
     "output_type": "stream",
     "text": [
      "[Errno 2] No such file or directory: 'C:\\\\Users\\\\Nick\\\\AppData\\\\Local\\\\Temp\\\\tmp_es6cfi7wandb-media\\\\rwwqfo5w.table.json'\n",
      "[Errno 2] No such file or directory: 'C:\\\\Users\\\\Nick\\\\AppData\\\\Local\\\\Temp\\\\tmp_es6cfi7wandb-media\\\\w3vq55aw.table.json'\n"
     ]
    },
    {
     "name": "stderr",
     "output_type": "stream",
     "text": [
      "  5%|▌         | 13/250 [17:03<5:10:38, 78.64s/it]"
     ]
    },
    {
     "name": "stdout",
     "output_type": "stream",
     "text": [
      "[Errno 2] No such file or directory: 'C:\\\\Users\\\\Nick\\\\AppData\\\\Local\\\\Temp\\\\tmp_es6cfi7wandb-media\\\\26yf9mk0.table.json'\n",
      "[Errno 2] No such file or directory: 'C:\\\\Users\\\\Nick\\\\AppData\\\\Local\\\\Temp\\\\tmp_es6cfi7wandb-media\\\\svxjodjz.table.json'\n",
      "New Max ROI: 0.012054898713455662 - -0.005026851747591592\n"
     ]
    },
    {
     "name": "stderr",
     "output_type": "stream",
     "text": [
      "  6%|▌         | 14/250 [18:22<5:09:46, 78.76s/it]"
     ]
    },
    {
     "name": "stdout",
     "output_type": "stream",
     "text": [
      "[Errno 2] No such file or directory: 'C:\\\\Users\\\\Nick\\\\AppData\\\\Local\\\\Temp\\\\tmp_es6cfi7wandb-media\\\\yomaya82.table.json'\n",
      "[Errno 2] No such file or directory: 'C:\\\\Users\\\\Nick\\\\AppData\\\\Local\\\\Temp\\\\tmp_es6cfi7wandb-media\\\\1lhzscnl.table.json'\n"
     ]
    },
    {
     "name": "stderr",
     "output_type": "stream",
     "text": [
      "  6%|▌         | 15/250 [19:42<5:09:42, 79.07s/it]"
     ]
    },
    {
     "name": "stdout",
     "output_type": "stream",
     "text": [
      "[Errno 2] No such file or directory: 'C:\\\\Users\\\\Nick\\\\AppData\\\\Local\\\\Temp\\\\tmp_es6cfi7wandb-media\\\\cv7wf76o.table.json'\n",
      "[Errno 2] No such file or directory: 'C:\\\\Users\\\\Nick\\\\AppData\\\\Local\\\\Temp\\\\tmp_es6cfi7wandb-media\\\\yzkfwww6.table.json'\n"
     ]
    },
    {
     "name": "stderr",
     "output_type": "stream",
     "text": [
      "  6%|▋         | 16/250 [21:02<5:09:30, 79.36s/it]"
     ]
    },
    {
     "name": "stdout",
     "output_type": "stream",
     "text": [
      "[Errno 2] No such file or directory: 'C:\\\\Users\\\\Nick\\\\AppData\\\\Local\\\\Temp\\\\tmp_es6cfi7wandb-media\\\\gpw14y0k.table.json'\n",
      "[Errno 2] No such file or directory: 'C:\\\\Users\\\\Nick\\\\AppData\\\\Local\\\\Temp\\\\tmp_es6cfi7wandb-media\\\\t563onuz.table.json'\n"
     ]
    },
    {
     "name": "stderr",
     "output_type": "stream",
     "text": [
      "  7%|▋         | 17/250 [22:21<5:08:03, 79.33s/it]"
     ]
    },
    {
     "name": "stdout",
     "output_type": "stream",
     "text": [
      "[Errno 2] No such file or directory: 'C:\\\\Users\\\\Nick\\\\AppData\\\\Local\\\\Temp\\\\tmp_es6cfi7wandb-media\\\\eni7rwb2.table.json'\n",
      "[Errno 2] No such file or directory: 'C:\\\\Users\\\\Nick\\\\AppData\\\\Local\\\\Temp\\\\tmp_es6cfi7wandb-media\\\\qjdlgaga.table.json'\n"
     ]
    },
    {
     "name": "stderr",
     "output_type": "stream",
     "text": [
      "  7%|▋         | 18/250 [23:41<5:07:09, 79.44s/it]"
     ]
    },
    {
     "name": "stdout",
     "output_type": "stream",
     "text": [
      "[Errno 2] No such file or directory: 'C:\\\\Users\\\\Nick\\\\AppData\\\\Local\\\\Temp\\\\tmp_es6cfi7wandb-media\\\\sp5rkzq2.table.json'\n",
      "[Errno 2] No such file or directory: 'C:\\\\Users\\\\Nick\\\\AppData\\\\Local\\\\Temp\\\\tmp_es6cfi7wandb-media\\\\imlgw8iu.table.json'\n"
     ]
    },
    {
     "name": "stderr",
     "output_type": "stream",
     "text": [
      "  8%|▊         | 19/250 [25:00<5:04:53, 79.19s/it]"
     ]
    },
    {
     "name": "stdout",
     "output_type": "stream",
     "text": [
      "[Errno 2] No such file or directory: 'C:\\\\Users\\\\Nick\\\\AppData\\\\Local\\\\Temp\\\\tmp_es6cfi7wandb-media\\\\vun28zo2.table.json'\n",
      "[Errno 2] No such file or directory: 'C:\\\\Users\\\\Nick\\\\AppData\\\\Local\\\\Temp\\\\tmp_es6cfi7wandb-media\\\\nszlmkh6.table.json'\n"
     ]
    },
    {
     "name": "stderr",
     "output_type": "stream",
     "text": [
      "  8%|▊         | 20/250 [26:20<5:04:18, 79.38s/it]"
     ]
    },
    {
     "name": "stdout",
     "output_type": "stream",
     "text": [
      "[Errno 2] No such file or directory: 'C:\\\\Users\\\\Nick\\\\AppData\\\\Local\\\\Temp\\\\tmp_es6cfi7wandb-media\\\\vikrhkbg.table.json'\n",
      "[Errno 2] No such file or directory: 'C:\\\\Users\\\\Nick\\\\AppData\\\\Local\\\\Temp\\\\tmp_es6cfi7wandb-media\\\\disp7uhp.table.json'\n"
     ]
    },
    {
     "name": "stderr",
     "output_type": "stream",
     "text": [
      "  8%|▊         | 21/250 [27:41<5:05:29, 80.04s/it]"
     ]
    },
    {
     "name": "stdout",
     "output_type": "stream",
     "text": [
      "[Errno 2] No such file or directory: 'C:\\\\Users\\\\Nick\\\\AppData\\\\Local\\\\Temp\\\\tmp_es6cfi7wandb-media\\\\are48jsn.table.json'\n",
      "[Errno 2] No such file or directory: 'C:\\\\Users\\\\Nick\\\\AppData\\\\Local\\\\Temp\\\\tmp_es6cfi7wandb-media\\\\p121kmmk.table.json'\n"
     ]
    },
    {
     "name": "stderr",
     "output_type": "stream",
     "text": [
      "  9%|▉         | 22/250 [28:58<5:01:01, 79.22s/it]"
     ]
    },
    {
     "name": "stdout",
     "output_type": "stream",
     "text": [
      "[Errno 2] No such file or directory: 'C:\\\\Users\\\\Nick\\\\AppData\\\\Local\\\\Temp\\\\tmp_es6cfi7wandb-media\\\\4d8lk9lj.table.json'\n",
      "[Errno 2] No such file or directory: 'C:\\\\Users\\\\Nick\\\\AppData\\\\Local\\\\Temp\\\\tmp_es6cfi7wandb-media\\\\sudnm55j.table.json'\n"
     ]
    },
    {
     "name": "stderr",
     "output_type": "stream",
     "text": [
      "  9%|▉         | 23/250 [30:20<5:02:42, 80.01s/it]"
     ]
    },
    {
     "name": "stdout",
     "output_type": "stream",
     "text": [
      "[Errno 2] No such file or directory: 'C:\\\\Users\\\\Nick\\\\AppData\\\\Local\\\\Temp\\\\tmp_es6cfi7wandb-media\\\\pis7ecaa.table.json'\n",
      "[Errno 2] No such file or directory: 'C:\\\\Users\\\\Nick\\\\AppData\\\\Local\\\\Temp\\\\tmp_es6cfi7wandb-media\\\\1mps2n07.table.json'\n"
     ]
    },
    {
     "name": "stderr",
     "output_type": "stream",
     "text": [
      " 10%|▉         | 24/250 [31:37<4:57:09, 78.89s/it]"
     ]
    },
    {
     "name": "stdout",
     "output_type": "stream",
     "text": [
      "[Errno 2] No such file or directory: 'C:\\\\Users\\\\Nick\\\\AppData\\\\Local\\\\Temp\\\\tmp_es6cfi7wandb-media\\\\izrx3fl2.table.json'\n",
      "[Errno 2] No such file or directory: 'C:\\\\Users\\\\Nick\\\\AppData\\\\Local\\\\Temp\\\\tmp_es6cfi7wandb-media\\\\y819bf1b.table.json'\n"
     ]
    },
    {
     "name": "stderr",
     "output_type": "stream",
     "text": [
      " 10%|█         | 25/250 [32:55<4:55:48, 78.88s/it]"
     ]
    },
    {
     "name": "stdout",
     "output_type": "stream",
     "text": [
      "[Errno 2] No such file or directory: 'C:\\\\Users\\\\Nick\\\\AppData\\\\Local\\\\Temp\\\\tmp_es6cfi7wandb-media\\\\5unybsir.table.json'\n",
      "[Errno 2] No such file or directory: 'C:\\\\Users\\\\Nick\\\\AppData\\\\Local\\\\Temp\\\\tmp_es6cfi7wandb-media\\\\kpif14ri.table.json'\n",
      "New Max ROI: 0.01389147947324172 - -0.005026851747591592\n"
     ]
    },
    {
     "name": "stderr",
     "output_type": "stream",
     "text": [
      " 10%|█         | 26/250 [34:12<4:51:47, 78.16s/it]"
     ]
    },
    {
     "name": "stdout",
     "output_type": "stream",
     "text": [
      "[Errno 2] No such file or directory: 'C:\\\\Users\\\\Nick\\\\AppData\\\\Local\\\\Temp\\\\tmp_es6cfi7wandb-media\\\\0a0wsiqp.table.json'\n",
      "[Errno 2] No such file or directory: 'C:\\\\Users\\\\Nick\\\\AppData\\\\Local\\\\Temp\\\\tmp_es6cfi7wandb-media\\\\5vumxpn8.table.json'\n"
     ]
    },
    {
     "name": "stderr",
     "output_type": "stream",
     "text": [
      " 11%|█         | 27/250 [35:30<4:50:51, 78.26s/it]"
     ]
    },
    {
     "name": "stdout",
     "output_type": "stream",
     "text": [
      "[Errno 2] No such file or directory: 'C:\\\\Users\\\\Nick\\\\AppData\\\\Local\\\\Temp\\\\tmp_es6cfi7wandb-media\\\\7dd5hmpu.table.json'\n",
      "[Errno 2] No such file or directory: 'C:\\\\Users\\\\Nick\\\\AppData\\\\Local\\\\Temp\\\\tmp_es6cfi7wandb-media\\\\0sguq82t.table.json'\n"
     ]
    },
    {
     "name": "stderr",
     "output_type": "stream",
     "text": [
      " 11%|█         | 28/250 [36:50<4:51:18, 78.73s/it]"
     ]
    },
    {
     "name": "stdout",
     "output_type": "stream",
     "text": [
      "[Errno 2] No such file or directory: 'C:\\\\Users\\\\Nick\\\\AppData\\\\Local\\\\Temp\\\\tmp_es6cfi7wandb-media\\\\9ojp2zlq.table.json'\n",
      "[Errno 2] No such file or directory: 'C:\\\\Users\\\\Nick\\\\AppData\\\\Local\\\\Temp\\\\tmp_es6cfi7wandb-media\\\\1b5nqb72.table.json'\n"
     ]
    },
    {
     "name": "stderr",
     "output_type": "stream",
     "text": [
      " 12%|█▏        | 29/250 [38:06<4:47:15, 77.99s/it]"
     ]
    },
    {
     "name": "stdout",
     "output_type": "stream",
     "text": [
      "[Errno 2] No such file or directory: 'C:\\\\Users\\\\Nick\\\\AppData\\\\Local\\\\Temp\\\\tmp_es6cfi7wandb-media\\\\jilv5oxk.table.json'\n",
      "[Errno 2] No such file or directory: 'C:\\\\Users\\\\Nick\\\\AppData\\\\Local\\\\Temp\\\\tmp_es6cfi7wandb-media\\\\96px7rj7.table.json'\n"
     ]
    },
    {
     "name": "stderr",
     "output_type": "stream",
     "text": [
      " 12%|█▏        | 30/250 [39:29<4:51:25, 79.48s/it]"
     ]
    },
    {
     "name": "stdout",
     "output_type": "stream",
     "text": [
      "[Errno 2] No such file or directory: 'C:\\\\Users\\\\Nick\\\\AppData\\\\Local\\\\Temp\\\\tmp_es6cfi7wandb-media\\\\f8q481ry.table.json'\n",
      "[Errno 2] No such file or directory: 'C:\\\\Users\\\\Nick\\\\AppData\\\\Local\\\\Temp\\\\tmp_es6cfi7wandb-media\\\\bq8tcdti.table.json'\n"
     ]
    },
    {
     "name": "stderr",
     "output_type": "stream",
     "text": [
      " 12%|█▏        | 31/250 [40:49<4:49:42, 79.37s/it]"
     ]
    },
    {
     "name": "stdout",
     "output_type": "stream",
     "text": [
      "[Errno 2] No such file or directory: 'C:\\\\Users\\\\Nick\\\\AppData\\\\Local\\\\Temp\\\\tmp_es6cfi7wandb-media\\\\px204mn0.table.json'\n",
      "[Errno 2] No such file or directory: 'C:\\\\Users\\\\Nick\\\\AppData\\\\Local\\\\Temp\\\\tmp_es6cfi7wandb-media\\\\prd6cjg6.table.json'\n"
     ]
    },
    {
     "name": "stderr",
     "output_type": "stream",
     "text": [
      " 13%|█▎        | 32/250 [42:09<4:49:08, 79.58s/it]"
     ]
    },
    {
     "name": "stdout",
     "output_type": "stream",
     "text": [
      "[Errno 2] No such file or directory: 'C:\\\\Users\\\\Nick\\\\AppData\\\\Local\\\\Temp\\\\tmp_es6cfi7wandb-media\\\\mc9693pd.table.json'\n",
      "[Errno 2] No such file or directory: 'C:\\\\Users\\\\Nick\\\\AppData\\\\Local\\\\Temp\\\\tmp_es6cfi7wandb-media\\\\mlw0zj0x.table.json'\n"
     ]
    },
    {
     "name": "stderr",
     "output_type": "stream",
     "text": [
      " 13%|█▎        | 33/250 [43:26<4:45:30, 78.94s/it]"
     ]
    },
    {
     "name": "stdout",
     "output_type": "stream",
     "text": [
      "[Errno 2] No such file or directory: 'C:\\\\Users\\\\Nick\\\\AppData\\\\Local\\\\Temp\\\\tmp_es6cfi7wandb-media\\\\od3vokvb.table.json'\n",
      "[Errno 2] No such file or directory: 'C:\\\\Users\\\\Nick\\\\AppData\\\\Local\\\\Temp\\\\tmp_es6cfi7wandb-media\\\\6gdj0pz3.table.json'\n"
     ]
    },
    {
     "name": "stderr",
     "output_type": "stream",
     "text": [
      " 14%|█▎        | 34/250 [44:45<4:43:57, 78.88s/it]"
     ]
    },
    {
     "name": "stdout",
     "output_type": "stream",
     "text": [
      "[Errno 2] No such file or directory: 'C:\\\\Users\\\\Nick\\\\AppData\\\\Local\\\\Temp\\\\tmp_es6cfi7wandb-media\\\\s0n8u1a8.table.json'\n",
      "[Errno 2] No such file or directory: 'C:\\\\Users\\\\Nick\\\\AppData\\\\Local\\\\Temp\\\\tmp_es6cfi7wandb-media\\\\860zs55v.table.json'\n"
     ]
    },
    {
     "name": "stderr",
     "output_type": "stream",
     "text": [
      " 14%|█▍        | 35/250 [46:02<4:41:17, 78.50s/it]"
     ]
    },
    {
     "name": "stdout",
     "output_type": "stream",
     "text": [
      "[Errno 2] No such file or directory: 'C:\\\\Users\\\\Nick\\\\AppData\\\\Local\\\\Temp\\\\tmp_es6cfi7wandb-media\\\\35miqfjx.table.json'\n",
      "[Errno 2] No such file or directory: 'C:\\\\Users\\\\Nick\\\\AppData\\\\Local\\\\Temp\\\\tmp_es6cfi7wandb-media\\\\hddo0mhv.table.json'\n"
     ]
    },
    {
     "name": "stderr",
     "output_type": "stream",
     "text": [
      " 14%|█▍        | 36/250 [47:22<4:40:47, 78.73s/it]"
     ]
    },
    {
     "name": "stdout",
     "output_type": "stream",
     "text": [
      "[Errno 2] No such file or directory: 'C:\\\\Users\\\\Nick\\\\AppData\\\\Local\\\\Temp\\\\tmp_es6cfi7wandb-media\\\\kitv2ea9.table.json'\n",
      "[Errno 2] No such file or directory: 'C:\\\\Users\\\\Nick\\\\AppData\\\\Local\\\\Temp\\\\tmp_es6cfi7wandb-media\\\\ayginw3m.table.json'\n"
     ]
    },
    {
     "name": "stderr",
     "output_type": "stream",
     "text": [
      " 15%|█▍        | 37/250 [48:40<4:38:36, 78.48s/it]"
     ]
    },
    {
     "name": "stdout",
     "output_type": "stream",
     "text": [
      "[Errno 2] No such file or directory: 'C:\\\\Users\\\\Nick\\\\AppData\\\\Local\\\\Temp\\\\tmp_es6cfi7wandb-media\\\\0u7qu08k.table.json'\n",
      "[Errno 2] No such file or directory: 'C:\\\\Users\\\\Nick\\\\AppData\\\\Local\\\\Temp\\\\tmp_es6cfi7wandb-media\\\\wulx36rh.table.json'\n"
     ]
    },
    {
     "name": "stderr",
     "output_type": "stream",
     "text": [
      " 15%|█▌        | 38/250 [50:00<4:39:03, 78.98s/it]"
     ]
    },
    {
     "name": "stdout",
     "output_type": "stream",
     "text": [
      "[Errno 2] No such file or directory: 'C:\\\\Users\\\\Nick\\\\AppData\\\\Local\\\\Temp\\\\tmp_es6cfi7wandb-media\\\\0cswg3z0.table.json'\n",
      "[Errno 2] No such file or directory: 'C:\\\\Users\\\\Nick\\\\AppData\\\\Local\\\\Temp\\\\tmp_es6cfi7wandb-media\\\\t23rfl68.table.json'\n"
     ]
    },
    {
     "name": "stderr",
     "output_type": "stream",
     "text": [
      " 16%|█▌        | 39/250 [51:18<4:37:08, 78.81s/it]"
     ]
    },
    {
     "name": "stdout",
     "output_type": "stream",
     "text": [
      "[Errno 2] No such file or directory: 'C:\\\\Users\\\\Nick\\\\AppData\\\\Local\\\\Temp\\\\tmp_es6cfi7wandb-media\\\\28z74zb7.table.json'\n",
      "[Errno 2] No such file or directory: 'C:\\\\Users\\\\Nick\\\\AppData\\\\Local\\\\Temp\\\\tmp_es6cfi7wandb-media\\\\l4o5phz3.table.json'\n"
     ]
    },
    {
     "name": "stderr",
     "output_type": "stream",
     "text": [
      " 16%|█▌        | 40/250 [52:40<4:38:52, 79.68s/it]"
     ]
    },
    {
     "name": "stdout",
     "output_type": "stream",
     "text": [
      "[Errno 2] No such file or directory: 'C:\\\\Users\\\\Nick\\\\AppData\\\\Local\\\\Temp\\\\tmp_es6cfi7wandb-media\\\\h9mkql9b.table.json'\n",
      "[Errno 2] No such file or directory: 'C:\\\\Users\\\\Nick\\\\AppData\\\\Local\\\\Temp\\\\tmp_es6cfi7wandb-media\\\\6lnh66e6.table.json'\n"
     ]
    },
    {
     "name": "stderr",
     "output_type": "stream",
     "text": [
      " 16%|█▋        | 41/250 [54:00<4:38:10, 79.86s/it]"
     ]
    },
    {
     "name": "stdout",
     "output_type": "stream",
     "text": [
      "[Errno 2] No such file or directory: 'C:\\\\Users\\\\Nick\\\\AppData\\\\Local\\\\Temp\\\\tmp_es6cfi7wandb-media\\\\x6p9n1fi.table.json'\n",
      "[Errno 2] No such file or directory: 'C:\\\\Users\\\\Nick\\\\AppData\\\\Local\\\\Temp\\\\tmp_es6cfi7wandb-media\\\\260oaoqf.table.json'\n"
     ]
    },
    {
     "name": "stderr",
     "output_type": "stream",
     "text": [
      " 17%|█▋        | 42/250 [55:22<4:38:30, 80.34s/it]"
     ]
    },
    {
     "name": "stdout",
     "output_type": "stream",
     "text": [
      "[Errno 2] No such file or directory: 'C:\\\\Users\\\\Nick\\\\AppData\\\\Local\\\\Temp\\\\tmp_es6cfi7wandb-media\\\\rvywdgyg.table.json'\n",
      "[Errno 2] No such file or directory: 'C:\\\\Users\\\\Nick\\\\AppData\\\\Local\\\\Temp\\\\tmp_es6cfi7wandb-media\\\\3iptd908.table.json'\n"
     ]
    },
    {
     "name": "stderr",
     "output_type": "stream",
     "text": [
      " 17%|█▋        | 43/250 [56:39<4:34:08, 79.46s/it]"
     ]
    },
    {
     "name": "stdout",
     "output_type": "stream",
     "text": [
      "[Errno 2] No such file or directory: 'C:\\\\Users\\\\Nick\\\\AppData\\\\Local\\\\Temp\\\\tmp_es6cfi7wandb-media\\\\nw8kdydu.table.json'\n",
      "[Errno 2] No such file or directory: 'C:\\\\Users\\\\Nick\\\\AppData\\\\Local\\\\Temp\\\\tmp_es6cfi7wandb-media\\\\r78a8o9n.table.json'\n"
     ]
    },
    {
     "name": "stderr",
     "output_type": "stream",
     "text": [
      " 18%|█▊        | 44/250 [57:58<4:32:18, 79.31s/it]"
     ]
    },
    {
     "name": "stdout",
     "output_type": "stream",
     "text": [
      "[Errno 2] No such file or directory: 'C:\\\\Users\\\\Nick\\\\AppData\\\\Local\\\\Temp\\\\tmp_es6cfi7wandb-media\\\\cgd83ym1.table.json'\n",
      "[Errno 2] No such file or directory: 'C:\\\\Users\\\\Nick\\\\AppData\\\\Local\\\\Temp\\\\tmp_es6cfi7wandb-media\\\\oyk5qpaf.table.json'\n"
     ]
    },
    {
     "name": "stderr",
     "output_type": "stream",
     "text": [
      " 18%|█▊        | 45/250 [59:17<4:30:41, 79.23s/it]"
     ]
    },
    {
     "name": "stdout",
     "output_type": "stream",
     "text": [
      "[Errno 2] No such file or directory: 'C:\\\\Users\\\\Nick\\\\AppData\\\\Local\\\\Temp\\\\tmp_es6cfi7wandb-media\\\\d55zrd5t.table.json'\n",
      "[Errno 2] No such file or directory: 'C:\\\\Users\\\\Nick\\\\AppData\\\\Local\\\\Temp\\\\tmp_es6cfi7wandb-media\\\\bos732go.table.json'\n"
     ]
    },
    {
     "name": "stderr",
     "output_type": "stream",
     "text": [
      " 18%|█▊        | 46/250 [1:00:37<4:30:18, 79.50s/it]"
     ]
    },
    {
     "name": "stdout",
     "output_type": "stream",
     "text": [
      "[Errno 2] No such file or directory: 'C:\\\\Users\\\\Nick\\\\AppData\\\\Local\\\\Temp\\\\tmp_es6cfi7wandb-media\\\\v3jun7u3.table.json'\n",
      "[Errno 2] No such file or directory: 'C:\\\\Users\\\\Nick\\\\AppData\\\\Local\\\\Temp\\\\tmp_es6cfi7wandb-media\\\\1zokocze.table.json'\n"
     ]
    },
    {
     "name": "stderr",
     "output_type": "stream",
     "text": [
      " 19%|█▉        | 47/250 [1:01:57<4:29:26, 79.64s/it]"
     ]
    },
    {
     "name": "stdout",
     "output_type": "stream",
     "text": [
      "[Errno 2] No such file or directory: 'C:\\\\Users\\\\Nick\\\\AppData\\\\Local\\\\Temp\\\\tmp_es6cfi7wandb-media\\\\csqn9tsh.table.json'\n",
      "[Errno 2] No such file or directory: 'C:\\\\Users\\\\Nick\\\\AppData\\\\Local\\\\Temp\\\\tmp_es6cfi7wandb-media\\\\84236qsr.table.json'\n"
     ]
    },
    {
     "name": "stderr",
     "output_type": "stream",
     "text": [
      " 19%|█▉        | 48/250 [1:03:19<4:30:02, 80.21s/it]"
     ]
    },
    {
     "name": "stdout",
     "output_type": "stream",
     "text": [
      "[Errno 2] No such file or directory: 'C:\\\\Users\\\\Nick\\\\AppData\\\\Local\\\\Temp\\\\tmp_es6cfi7wandb-media\\\\flps60k5.table.json'\n",
      "[Errno 2] No such file or directory: 'C:\\\\Users\\\\Nick\\\\AppData\\\\Local\\\\Temp\\\\tmp_es6cfi7wandb-media\\\\g4l20953.table.json'\n"
     ]
    },
    {
     "name": "stderr",
     "output_type": "stream",
     "text": [
      " 20%|█▉        | 49/250 [1:04:37<4:26:50, 79.65s/it]"
     ]
    },
    {
     "name": "stdout",
     "output_type": "stream",
     "text": [
      "[Errno 2] No such file or directory: 'C:\\\\Users\\\\Nick\\\\AppData\\\\Local\\\\Temp\\\\tmp_es6cfi7wandb-media\\\\zwua32ia.table.json'\n",
      "[Errno 2] No such file or directory: 'C:\\\\Users\\\\Nick\\\\AppData\\\\Local\\\\Temp\\\\tmp_es6cfi7wandb-media\\\\fad5elvx.table.json'\n"
     ]
    },
    {
     "name": "stderr",
     "output_type": "stream",
     "text": [
      " 20%|██        | 50/250 [1:06:00<4:29:06, 80.73s/it]"
     ]
    },
    {
     "name": "stdout",
     "output_type": "stream",
     "text": [
      "[Errno 2] No such file or directory: 'C:\\\\Users\\\\Nick\\\\AppData\\\\Local\\\\Temp\\\\tmp_es6cfi7wandb-media\\\\ds3m0pen.table.json'\n",
      "[Errno 2] No such file or directory: 'C:\\\\Users\\\\Nick\\\\AppData\\\\Local\\\\Temp\\\\tmp_es6cfi7wandb-media\\\\d82x67j8.table.json'\n"
     ]
    },
    {
     "name": "stderr",
     "output_type": "stream",
     "text": [
      " 20%|██        | 51/250 [1:07:21<4:27:18, 80.59s/it]"
     ]
    },
    {
     "name": "stdout",
     "output_type": "stream",
     "text": [
      "[Errno 2] No such file or directory: 'C:\\\\Users\\\\Nick\\\\AppData\\\\Local\\\\Temp\\\\tmp_es6cfi7wandb-media\\\\v41hu7aj.table.json'\n",
      "[Errno 2] No such file or directory: 'C:\\\\Users\\\\Nick\\\\AppData\\\\Local\\\\Temp\\\\tmp_es6cfi7wandb-media\\\\opccj88n.table.json'\n"
     ]
    },
    {
     "name": "stderr",
     "output_type": "stream",
     "text": [
      " 21%|██        | 52/250 [1:08:41<4:25:43, 80.52s/it]"
     ]
    },
    {
     "name": "stdout",
     "output_type": "stream",
     "text": [
      "[Errno 2] No such file or directory: 'C:\\\\Users\\\\Nick\\\\AppData\\\\Local\\\\Temp\\\\tmp_es6cfi7wandb-media\\\\l099t349.table.json'\n",
      "[Errno 2] No such file or directory: 'C:\\\\Users\\\\Nick\\\\AppData\\\\Local\\\\Temp\\\\tmp_es6cfi7wandb-media\\\\7kucu2y2.table.json'\n"
     ]
    },
    {
     "name": "stderr",
     "output_type": "stream",
     "text": [
      " 21%|██        | 53/250 [1:10:01<4:24:23, 80.52s/it]"
     ]
    },
    {
     "name": "stdout",
     "output_type": "stream",
     "text": [
      "[Errno 2] No such file or directory: 'C:\\\\Users\\\\Nick\\\\AppData\\\\Local\\\\Temp\\\\tmp_es6cfi7wandb-media\\\\euzhz5hf.table.json'\n",
      "[Errno 2] No such file or directory: 'C:\\\\Users\\\\Nick\\\\AppData\\\\Local\\\\Temp\\\\tmp_es6cfi7wandb-media\\\\nr8l7rtd.table.json'\n"
     ]
    },
    {
     "name": "stderr",
     "output_type": "stream",
     "text": [
      " 22%|██▏       | 54/250 [1:11:21<4:21:54, 80.18s/it]"
     ]
    },
    {
     "name": "stdout",
     "output_type": "stream",
     "text": [
      "[Errno 2] No such file or directory: 'C:\\\\Users\\\\Nick\\\\AppData\\\\Local\\\\Temp\\\\tmp_es6cfi7wandb-media\\\\r7b4ctdw.table.json'\n",
      "[Errno 2] No such file or directory: 'C:\\\\Users\\\\Nick\\\\AppData\\\\Local\\\\Temp\\\\tmp_es6cfi7wandb-media\\\\8nql1sdf.table.json'\n"
     ]
    },
    {
     "name": "stderr",
     "output_type": "stream",
     "text": [
      " 22%|██▏       | 55/250 [1:12:42<4:21:07, 80.34s/it]"
     ]
    },
    {
     "name": "stdout",
     "output_type": "stream",
     "text": [
      "[Errno 2] No such file or directory: 'C:\\\\Users\\\\Nick\\\\AppData\\\\Local\\\\Temp\\\\tmp_es6cfi7wandb-media\\\\qdccw3ai.table.json'\n",
      "[Errno 2] No such file or directory: 'C:\\\\Users\\\\Nick\\\\AppData\\\\Local\\\\Temp\\\\tmp_es6cfi7wandb-media\\\\ws34ubbk.table.json'\n"
     ]
    },
    {
     "name": "stderr",
     "output_type": "stream",
     "text": [
      " 22%|██▏       | 56/250 [1:13:59<4:17:15, 79.56s/it]"
     ]
    },
    {
     "name": "stdout",
     "output_type": "stream",
     "text": [
      "[Errno 2] No such file or directory: 'C:\\\\Users\\\\Nick\\\\AppData\\\\Local\\\\Temp\\\\tmp_es6cfi7wandb-media\\\\s9daiqv1.table.json'\n",
      "[Errno 2] No such file or directory: 'C:\\\\Users\\\\Nick\\\\AppData\\\\Local\\\\Temp\\\\tmp_es6cfi7wandb-media\\\\mrs9q7q1.table.json'\n"
     ]
    },
    {
     "name": "stderr",
     "output_type": "stream",
     "text": [
      " 23%|██▎       | 57/250 [1:15:21<4:17:50, 80.16s/it]"
     ]
    },
    {
     "name": "stdout",
     "output_type": "stream",
     "text": [
      "[Errno 2] No such file or directory: 'C:\\\\Users\\\\Nick\\\\AppData\\\\Local\\\\Temp\\\\tmp_es6cfi7wandb-media\\\\f9t5im1s.table.json'\n",
      "[Errno 2] No such file or directory: 'C:\\\\Users\\\\Nick\\\\AppData\\\\Local\\\\Temp\\\\tmp_es6cfi7wandb-media\\\\ptc7bwjq.table.json'\n"
     ]
    },
    {
     "name": "stderr",
     "output_type": "stream",
     "text": [
      " 23%|██▎       | 58/250 [1:16:41<4:16:16, 80.08s/it]"
     ]
    },
    {
     "name": "stdout",
     "output_type": "stream",
     "text": [
      "[Errno 2] No such file or directory: 'C:\\\\Users\\\\Nick\\\\AppData\\\\Local\\\\Temp\\\\tmp_es6cfi7wandb-media\\\\j1q9dhtp.table.json'\n",
      "[Errno 2] No such file or directory: 'C:\\\\Users\\\\Nick\\\\AppData\\\\Local\\\\Temp\\\\tmp_es6cfi7wandb-media\\\\iilx6zvk.table.json'\n"
     ]
    },
    {
     "name": "stderr",
     "output_type": "stream",
     "text": [
      " 24%|██▎       | 59/250 [1:18:01<4:15:08, 80.15s/it]"
     ]
    },
    {
     "name": "stdout",
     "output_type": "stream",
     "text": [
      "[Errno 2] No such file or directory: 'C:\\\\Users\\\\Nick\\\\AppData\\\\Local\\\\Temp\\\\tmp_es6cfi7wandb-media\\\\7ksmuv3y.table.json'\n",
      "[Errno 2] No such file or directory: 'C:\\\\Users\\\\Nick\\\\AppData\\\\Local\\\\Temp\\\\tmp_es6cfi7wandb-media\\\\y72wrnft.table.json'\n"
     ]
    },
    {
     "name": "stderr",
     "output_type": "stream",
     "text": [
      " 24%|██▍       | 60/250 [1:19:20<4:12:28, 79.73s/it]"
     ]
    },
    {
     "name": "stdout",
     "output_type": "stream",
     "text": [
      "[Errno 2] No such file or directory: 'C:\\\\Users\\\\Nick\\\\AppData\\\\Local\\\\Temp\\\\tmp_es6cfi7wandb-media\\\\k7zt4jww.table.json'\n",
      "[Errno 2] No such file or directory: 'C:\\\\Users\\\\Nick\\\\AppData\\\\Local\\\\Temp\\\\tmp_es6cfi7wandb-media\\\\vjdgu58i.table.json'\n"
     ]
    },
    {
     "name": "stderr",
     "output_type": "stream",
     "text": [
      " 24%|██▍       | 61/250 [1:20:39<4:10:35, 79.55s/it]"
     ]
    },
    {
     "name": "stdout",
     "output_type": "stream",
     "text": [
      "[Errno 2] No such file or directory: 'C:\\\\Users\\\\Nick\\\\AppData\\\\Local\\\\Temp\\\\tmp_es6cfi7wandb-media\\\\53p5uli7.table.json'\n",
      "[Errno 2] No such file or directory: 'C:\\\\Users\\\\Nick\\\\AppData\\\\Local\\\\Temp\\\\tmp_es6cfi7wandb-media\\\\xgpehx7t.table.json'\n"
     ]
    },
    {
     "name": "stderr",
     "output_type": "stream",
     "text": [
      " 25%|██▍       | 62/250 [1:22:01<4:11:23, 80.23s/it]"
     ]
    },
    {
     "name": "stdout",
     "output_type": "stream",
     "text": [
      "[Errno 2] No such file or directory: 'C:\\\\Users\\\\Nick\\\\AppData\\\\Local\\\\Temp\\\\tmp_es6cfi7wandb-media\\\\fa7nndam.table.json'\n",
      "[Errno 2] No such file or directory: 'C:\\\\Users\\\\Nick\\\\AppData\\\\Local\\\\Temp\\\\tmp_es6cfi7wandb-media\\\\x4t0rw5b.table.json'\n"
     ]
    },
    {
     "name": "stderr",
     "output_type": "stream",
     "text": [
      " 25%|██▌       | 63/250 [1:23:20<4:09:07, 79.93s/it]"
     ]
    },
    {
     "name": "stdout",
     "output_type": "stream",
     "text": [
      "[Errno 2] No such file or directory: 'C:\\\\Users\\\\Nick\\\\AppData\\\\Local\\\\Temp\\\\tmp_es6cfi7wandb-media\\\\pc3j99wt.table.json'\n",
      "[Errno 2] No such file or directory: 'C:\\\\Users\\\\Nick\\\\AppData\\\\Local\\\\Temp\\\\tmp_es6cfi7wandb-media\\\\nqs9pwao.table.json'\n"
     ]
    },
    {
     "name": "stderr",
     "output_type": "stream",
     "text": [
      " 26%|██▌       | 64/250 [1:24:38<4:05:45, 79.28s/it]"
     ]
    },
    {
     "name": "stdout",
     "output_type": "stream",
     "text": [
      "[Errno 2] No such file or directory: 'C:\\\\Users\\\\Nick\\\\AppData\\\\Local\\\\Temp\\\\tmp_es6cfi7wandb-media\\\\nk49qek9.table.json'\n",
      "[Errno 2] No such file or directory: 'C:\\\\Users\\\\Nick\\\\AppData\\\\Local\\\\Temp\\\\tmp_es6cfi7wandb-media\\\\23rdv6bh.table.json'\n"
     ]
    },
    {
     "name": "stderr",
     "output_type": "stream",
     "text": [
      " 26%|██▌       | 65/250 [1:26:00<4:07:24, 80.24s/it]"
     ]
    },
    {
     "name": "stdout",
     "output_type": "stream",
     "text": [
      "[Errno 2] No such file or directory: 'C:\\\\Users\\\\Nick\\\\AppData\\\\Local\\\\Temp\\\\tmp_es6cfi7wandb-media\\\\gklcf5bc.table.json'\n",
      "[Errno 2] No such file or directory: 'C:\\\\Users\\\\Nick\\\\AppData\\\\Local\\\\Temp\\\\tmp_es6cfi7wandb-media\\\\ccl3i8pu.table.json'\n"
     ]
    },
    {
     "name": "stderr",
     "output_type": "stream",
     "text": [
      " 26%|██▋       | 66/250 [1:27:19<4:04:49, 79.84s/it]"
     ]
    },
    {
     "name": "stdout",
     "output_type": "stream",
     "text": [
      "[Errno 2] No such file or directory: 'C:\\\\Users\\\\Nick\\\\AppData\\\\Local\\\\Temp\\\\tmp_es6cfi7wandb-media\\\\9xgsbxsa.table.json'\n",
      "[Errno 2] No such file or directory: 'C:\\\\Users\\\\Nick\\\\AppData\\\\Local\\\\Temp\\\\tmp_es6cfi7wandb-media\\\\5t645rqk.table.json'\n"
     ]
    },
    {
     "name": "stderr",
     "output_type": "stream",
     "text": [
      " 27%|██▋       | 67/250 [1:28:37<4:01:49, 79.29s/it]"
     ]
    },
    {
     "name": "stdout",
     "output_type": "stream",
     "text": [
      "[Errno 2] No such file or directory: 'C:\\\\Users\\\\Nick\\\\AppData\\\\Local\\\\Temp\\\\tmp_es6cfi7wandb-media\\\\t4s8sm7z.table.json'\n",
      "[Errno 2] No such file or directory: 'C:\\\\Users\\\\Nick\\\\AppData\\\\Local\\\\Temp\\\\tmp_es6cfi7wandb-media\\\\hzgwwzp6.table.json'\n"
     ]
    },
    {
     "name": "stderr",
     "output_type": "stream",
     "text": [
      " 27%|██▋       | 68/250 [1:29:58<4:01:35, 79.64s/it]"
     ]
    },
    {
     "name": "stdout",
     "output_type": "stream",
     "text": [
      "[Errno 2] No such file or directory: 'C:\\\\Users\\\\Nick\\\\AppData\\\\Local\\\\Temp\\\\tmp_es6cfi7wandb-media\\\\wis1lnwr.table.json'\n",
      "[Errno 2] No such file or directory: 'C:\\\\Users\\\\Nick\\\\AppData\\\\Local\\\\Temp\\\\tmp_es6cfi7wandb-media\\\\x5gxq57c.table.json'\n"
     ]
    },
    {
     "name": "stderr",
     "output_type": "stream",
     "text": [
      " 28%|██▊       | 69/250 [1:31:15<3:58:06, 78.93s/it]"
     ]
    },
    {
     "name": "stdout",
     "output_type": "stream",
     "text": [
      "[Errno 2] No such file or directory: 'C:\\\\Users\\\\Nick\\\\AppData\\\\Local\\\\Temp\\\\tmp_es6cfi7wandb-media\\\\ltgpte30.table.json'\n",
      "[Errno 2] No such file or directory: 'C:\\\\Users\\\\Nick\\\\AppData\\\\Local\\\\Temp\\\\tmp_es6cfi7wandb-media\\\\itbpiksk.table.json'\n"
     ]
    },
    {
     "name": "stderr",
     "output_type": "stream",
     "text": [
      " 28%|██▊       | 70/250 [1:32:34<3:57:26, 79.15s/it]"
     ]
    },
    {
     "name": "stdout",
     "output_type": "stream",
     "text": [
      "[Errno 2] No such file or directory: 'C:\\\\Users\\\\Nick\\\\AppData\\\\Local\\\\Temp\\\\tmp_es6cfi7wandb-media\\\\vaao26oj.table.json'\n",
      "[Errno 2] No such file or directory: 'C:\\\\Users\\\\Nick\\\\AppData\\\\Local\\\\Temp\\\\tmp_es6cfi7wandb-media\\\\sfqqckb0.table.json'\n"
     ]
    },
    {
     "name": "stderr",
     "output_type": "stream",
     "text": [
      " 28%|██▊       | 71/250 [1:34:00<4:01:48, 81.05s/it]"
     ]
    },
    {
     "name": "stdout",
     "output_type": "stream",
     "text": [
      "[Errno 2] No such file or directory: 'C:\\\\Users\\\\Nick\\\\AppData\\\\Local\\\\Temp\\\\tmp_es6cfi7wandb-media\\\\y97ouysc.table.json'\n",
      "[Errno 2] No such file or directory: 'C:\\\\Users\\\\Nick\\\\AppData\\\\Local\\\\Temp\\\\tmp_es6cfi7wandb-media\\\\4l9gypzu.table.json'\n"
     ]
    },
    {
     "name": "stderr",
     "output_type": "stream",
     "text": [
      " 29%|██▉       | 72/250 [1:35:20<3:59:09, 80.62s/it]"
     ]
    },
    {
     "name": "stdout",
     "output_type": "stream",
     "text": [
      "[Errno 2] No such file or directory: 'C:\\\\Users\\\\Nick\\\\AppData\\\\Local\\\\Temp\\\\tmp_es6cfi7wandb-media\\\\0xz610py.table.json'\n",
      "[Errno 2] No such file or directory: 'C:\\\\Users\\\\Nick\\\\AppData\\\\Local\\\\Temp\\\\tmp_es6cfi7wandb-media\\\\ykfppjoe.table.json'\n"
     ]
    },
    {
     "name": "stderr",
     "output_type": "stream",
     "text": [
      " 29%|██▉       | 73/250 [1:36:41<3:58:46, 80.94s/it]"
     ]
    },
    {
     "name": "stdout",
     "output_type": "stream",
     "text": [
      "[Errno 2] No such file or directory: 'C:\\\\Users\\\\Nick\\\\AppData\\\\Local\\\\Temp\\\\tmp_es6cfi7wandb-media\\\\0zanv8ug.table.json'\n",
      "[Errno 2] No such file or directory: 'C:\\\\Users\\\\Nick\\\\AppData\\\\Local\\\\Temp\\\\tmp_es6cfi7wandb-media\\\\ooqyrgqk.table.json'\n"
     ]
    },
    {
     "name": "stderr",
     "output_type": "stream",
     "text": [
      " 30%|██▉       | 74/250 [1:37:59<3:54:11, 79.84s/it]"
     ]
    },
    {
     "name": "stdout",
     "output_type": "stream",
     "text": [
      "[Errno 2] No such file or directory: 'C:\\\\Users\\\\Nick\\\\AppData\\\\Local\\\\Temp\\\\tmp_es6cfi7wandb-media\\\\x4ahd6f0.table.json'\n",
      "[Errno 2] No such file or directory: 'C:\\\\Users\\\\Nick\\\\AppData\\\\Local\\\\Temp\\\\tmp_es6cfi7wandb-media\\\\aax2tjpr.table.json'\n"
     ]
    },
    {
     "name": "stderr",
     "output_type": "stream",
     "text": [
      " 30%|███       | 75/250 [1:39:20<3:54:17, 80.33s/it]"
     ]
    },
    {
     "name": "stdout",
     "output_type": "stream",
     "text": [
      "[Errno 2] No such file or directory: 'C:\\\\Users\\\\Nick\\\\AppData\\\\Local\\\\Temp\\\\tmp_es6cfi7wandb-media\\\\n84gicup.table.json'\n",
      "[Errno 2] No such file or directory: 'C:\\\\Users\\\\Nick\\\\AppData\\\\Local\\\\Temp\\\\tmp_es6cfi7wandb-media\\\\n0occc4e.table.json'\n"
     ]
    },
    {
     "name": "stderr",
     "output_type": "stream",
     "text": [
      " 30%|███       | 76/250 [1:40:38<3:51:00, 79.66s/it]"
     ]
    },
    {
     "name": "stdout",
     "output_type": "stream",
     "text": [
      "[Errno 2] No such file or directory: 'C:\\\\Users\\\\Nick\\\\AppData\\\\Local\\\\Temp\\\\tmp_es6cfi7wandb-media\\\\9kyb3lmh.table.json'\n",
      "[Errno 2] No such file or directory: 'C:\\\\Users\\\\Nick\\\\AppData\\\\Local\\\\Temp\\\\tmp_es6cfi7wandb-media\\\\ox5xik6m.table.json'\n"
     ]
    },
    {
     "name": "stderr",
     "output_type": "stream",
     "text": [
      " 31%|███       | 77/250 [1:42:00<3:51:47, 80.39s/it]"
     ]
    },
    {
     "name": "stdout",
     "output_type": "stream",
     "text": [
      "[Errno 2] No such file or directory: 'C:\\\\Users\\\\Nick\\\\AppData\\\\Local\\\\Temp\\\\tmp_es6cfi7wandb-media\\\\yu2z228n.table.json'\n",
      "[Errno 2] No such file or directory: 'C:\\\\Users\\\\Nick\\\\AppData\\\\Local\\\\Temp\\\\tmp_es6cfi7wandb-media\\\\wbla2vq5.table.json'\n"
     ]
    },
    {
     "name": "stderr",
     "output_type": "stream",
     "text": [
      " 31%|███       | 78/250 [1:43:18<3:47:56, 79.51s/it]"
     ]
    },
    {
     "name": "stdout",
     "output_type": "stream",
     "text": [
      "[Errno 2] No such file or directory: 'C:\\\\Users\\\\Nick\\\\AppData\\\\Local\\\\Temp\\\\tmp_es6cfi7wandb-media\\\\4s8afeyk.table.json'\n",
      "[Errno 2] No such file or directory: 'C:\\\\Users\\\\Nick\\\\AppData\\\\Local\\\\Temp\\\\tmp_es6cfi7wandb-media\\\\c576n9ez.table.json'\n"
     ]
    },
    {
     "name": "stderr",
     "output_type": "stream",
     "text": [
      " 32%|███▏      | 79/250 [1:44:38<3:47:07, 79.69s/it]"
     ]
    },
    {
     "name": "stdout",
     "output_type": "stream",
     "text": [
      "[Errno 2] No such file or directory: 'C:\\\\Users\\\\Nick\\\\AppData\\\\Local\\\\Temp\\\\tmp_es6cfi7wandb-media\\\\xym2pkjm.table.json'\n",
      "[Errno 2] No such file or directory: 'C:\\\\Users\\\\Nick\\\\AppData\\\\Local\\\\Temp\\\\tmp_es6cfi7wandb-media\\\\zqdnwmlh.table.json'\n",
      "New Max ROI: 0.01389147947324172 - -0.004057613723805922\n"
     ]
    },
    {
     "name": "stderr",
     "output_type": "stream",
     "text": [
      " 32%|███▏      | 80/250 [1:45:59<3:46:40, 80.01s/it]"
     ]
    },
    {
     "name": "stdout",
     "output_type": "stream",
     "text": [
      "[Errno 2] No such file or directory: 'C:\\\\Users\\\\Nick\\\\AppData\\\\Local\\\\Temp\\\\tmp_es6cfi7wandb-media\\\\zdam49s4.table.json'\n",
      "[Errno 2] No such file or directory: 'C:\\\\Users\\\\Nick\\\\AppData\\\\Local\\\\Temp\\\\tmp_es6cfi7wandb-media\\\\uei14gna.table.json'\n"
     ]
    },
    {
     "name": "stderr",
     "output_type": "stream",
     "text": [
      " 32%|███▏      | 81/250 [1:47:20<3:46:23, 80.37s/it]"
     ]
    },
    {
     "name": "stdout",
     "output_type": "stream",
     "text": [
      "[Errno 2] No such file or directory: 'C:\\\\Users\\\\Nick\\\\AppData\\\\Local\\\\Temp\\\\tmp_es6cfi7wandb-media\\\\8z2qaqsg.table.json'\n",
      "[Errno 2] No such file or directory: 'C:\\\\Users\\\\Nick\\\\AppData\\\\Local\\\\Temp\\\\tmp_es6cfi7wandb-media\\\\pmfpz9g1.table.json'\n",
      "New Max ROI: 0.01389147947324172 - 0.008642529505992109\n"
     ]
    },
    {
     "name": "stderr",
     "output_type": "stream",
     "text": [
      " 33%|███▎      | 82/250 [1:48:42<3:46:32, 80.91s/it]"
     ]
    },
    {
     "name": "stdout",
     "output_type": "stream",
     "text": [
      "[Errno 2] No such file or directory: 'C:\\\\Users\\\\Nick\\\\AppData\\\\Local\\\\Temp\\\\tmp_es6cfi7wandb-media\\\\ykd40io8.table.json'\n",
      "[Errno 2] No such file or directory: 'C:\\\\Users\\\\Nick\\\\AppData\\\\Local\\\\Temp\\\\tmp_es6cfi7wandb-media\\\\mbe5ngtx.table.json'\n"
     ]
    },
    {
     "name": "stderr",
     "output_type": "stream",
     "text": [
      " 33%|███▎      | 83/250 [1:50:01<3:43:53, 80.44s/it]"
     ]
    },
    {
     "name": "stdout",
     "output_type": "stream",
     "text": [
      "[Errno 2] No such file or directory: 'C:\\\\Users\\\\Nick\\\\AppData\\\\Local\\\\Temp\\\\tmp_es6cfi7wandb-media\\\\nsyfaf64.table.json'\n",
      "[Errno 2] No such file or directory: 'C:\\\\Users\\\\Nick\\\\AppData\\\\Local\\\\Temp\\\\tmp_es6cfi7wandb-media\\\\rh5flm26.table.json'\n"
     ]
    },
    {
     "name": "stderr",
     "output_type": "stream",
     "text": [
      " 34%|███▎      | 84/250 [1:51:19<3:40:17, 79.62s/it]"
     ]
    },
    {
     "name": "stdout",
     "output_type": "stream",
     "text": [
      "[Errno 2] No such file or directory: 'C:\\\\Users\\\\Nick\\\\AppData\\\\Local\\\\Temp\\\\tmp_es6cfi7wandb-media\\\\pswmgccz.table.json'\n",
      "[Errno 2] No such file or directory: 'C:\\\\Users\\\\Nick\\\\AppData\\\\Local\\\\Temp\\\\tmp_es6cfi7wandb-media\\\\zaga0sck.table.json'\n"
     ]
    },
    {
     "name": "stderr",
     "output_type": "stream",
     "text": [
      " 34%|███▍      | 85/250 [1:52:39<3:39:04, 79.67s/it]"
     ]
    },
    {
     "name": "stdout",
     "output_type": "stream",
     "text": [
      "[Errno 2] No such file or directory: 'C:\\\\Users\\\\Nick\\\\AppData\\\\Local\\\\Temp\\\\tmp_es6cfi7wandb-media\\\\3kn97i3j.table.json'\n",
      "[Errno 2] No such file or directory: 'C:\\\\Users\\\\Nick\\\\AppData\\\\Local\\\\Temp\\\\tmp_es6cfi7wandb-media\\\\1epohaty.table.json'\n"
     ]
    },
    {
     "name": "stderr",
     "output_type": "stream",
     "text": [
      " 34%|███▍      | 86/250 [1:54:00<3:39:16, 80.22s/it]"
     ]
    },
    {
     "name": "stdout",
     "output_type": "stream",
     "text": [
      "[Errno 2] No such file or directory: 'C:\\\\Users\\\\Nick\\\\AppData\\\\Local\\\\Temp\\\\tmp_es6cfi7wandb-media\\\\0hehpfet.table.json'\n",
      "[Errno 2] No such file or directory: 'C:\\\\Users\\\\Nick\\\\AppData\\\\Local\\\\Temp\\\\tmp_es6cfi7wandb-media\\\\3kclq2oo.table.json'\n"
     ]
    },
    {
     "name": "stderr",
     "output_type": "stream",
     "text": [
      " 35%|███▍      | 87/250 [1:55:19<3:36:36, 79.73s/it]"
     ]
    },
    {
     "name": "stdout",
     "output_type": "stream",
     "text": [
      "[Errno 2] No such file or directory: 'C:\\\\Users\\\\Nick\\\\AppData\\\\Local\\\\Temp\\\\tmp_es6cfi7wandb-media\\\\0fytz0rx.table.json'\n",
      "[Errno 2] No such file or directory: 'C:\\\\Users\\\\Nick\\\\AppData\\\\Local\\\\Temp\\\\tmp_es6cfi7wandb-media\\\\qu8fa1wb.table.json'\n"
     ]
    },
    {
     "name": "stderr",
     "output_type": "stream",
     "text": [
      " 35%|███▌      | 88/250 [1:56:40<3:36:36, 80.22s/it]"
     ]
    },
    {
     "name": "stdout",
     "output_type": "stream",
     "text": [
      "[Errno 2] No such file or directory: 'C:\\\\Users\\\\Nick\\\\AppData\\\\Local\\\\Temp\\\\tmp_es6cfi7wandb-media\\\\ptubhxgr.table.json'\n",
      "[Errno 2] No such file or directory: 'C:\\\\Users\\\\Nick\\\\AppData\\\\Local\\\\Temp\\\\tmp_es6cfi7wandb-media\\\\3srsf9co.table.json'\n"
     ]
    },
    {
     "name": "stderr",
     "output_type": "stream",
     "text": [
      " 36%|███▌      | 89/250 [1:58:00<3:35:16, 80.23s/it]"
     ]
    },
    {
     "name": "stdout",
     "output_type": "stream",
     "text": [
      "[Errno 2] No such file or directory: 'C:\\\\Users\\\\Nick\\\\AppData\\\\Local\\\\Temp\\\\tmp_es6cfi7wandb-media\\\\5nbbxujz.table.json'\n",
      "[Errno 2] No such file or directory: 'C:\\\\Users\\\\Nick\\\\AppData\\\\Local\\\\Temp\\\\tmp_es6cfi7wandb-media\\\\311b9hf4.table.json'\n"
     ]
    },
    {
     "name": "stderr",
     "output_type": "stream",
     "text": [
      " 36%|███▌      | 90/250 [1:59:21<3:33:58, 80.24s/it]"
     ]
    },
    {
     "name": "stdout",
     "output_type": "stream",
     "text": [
      "[Errno 2] No such file or directory: 'C:\\\\Users\\\\Nick\\\\AppData\\\\Local\\\\Temp\\\\tmp_es6cfi7wandb-media\\\\0sljq8i3.table.json'\n",
      "[Errno 2] No such file or directory: 'C:\\\\Users\\\\Nick\\\\AppData\\\\Local\\\\Temp\\\\tmp_es6cfi7wandb-media\\\\fv7rfdke.table.json'\n"
     ]
    },
    {
     "name": "stderr",
     "output_type": "stream",
     "text": [
      " 36%|███▋      | 91/250 [2:00:41<3:32:33, 80.21s/it]"
     ]
    },
    {
     "name": "stdout",
     "output_type": "stream",
     "text": [
      "[Errno 2] No such file or directory: 'C:\\\\Users\\\\Nick\\\\AppData\\\\Local\\\\Temp\\\\tmp_es6cfi7wandb-media\\\\si5s48rg.table.json'\n",
      "[Errno 2] No such file or directory: 'C:\\\\Users\\\\Nick\\\\AppData\\\\Local\\\\Temp\\\\tmp_es6cfi7wandb-media\\\\d315anre.table.json'\n"
     ]
    },
    {
     "name": "stderr",
     "output_type": "stream",
     "text": [
      " 37%|███▋      | 92/250 [2:02:00<3:30:42, 80.02s/it]"
     ]
    },
    {
     "name": "stdout",
     "output_type": "stream",
     "text": [
      "[Errno 2] No such file or directory: 'C:\\\\Users\\\\Nick\\\\AppData\\\\Local\\\\Temp\\\\tmp_es6cfi7wandb-media\\\\w452vfb1.table.json'\n",
      "[Errno 2] No such file or directory: 'C:\\\\Users\\\\Nick\\\\AppData\\\\Local\\\\Temp\\\\tmp_es6cfi7wandb-media\\\\19det9g1.table.json'\n"
     ]
    },
    {
     "name": "stderr",
     "output_type": "stream",
     "text": [
      " 37%|███▋      | 93/250 [2:03:20<3:29:17, 79.98s/it]"
     ]
    },
    {
     "name": "stdout",
     "output_type": "stream",
     "text": [
      "[Errno 2] No such file or directory: 'C:\\\\Users\\\\Nick\\\\AppData\\\\Local\\\\Temp\\\\tmp_es6cfi7wandb-media\\\\v9u1xnj2.table.json'\n",
      "[Errno 2] No such file or directory: 'C:\\\\Users\\\\Nick\\\\AppData\\\\Local\\\\Temp\\\\tmp_es6cfi7wandb-media\\\\17k51yx1.table.json'\n"
     ]
    },
    {
     "name": "stderr",
     "output_type": "stream",
     "text": [
      " 38%|███▊      | 94/250 [2:04:40<3:27:52, 79.95s/it]"
     ]
    },
    {
     "name": "stdout",
     "output_type": "stream",
     "text": [
      "[Errno 2] No such file or directory: 'C:\\\\Users\\\\Nick\\\\AppData\\\\Local\\\\Temp\\\\tmp_es6cfi7wandb-media\\\\gjxaz9xz.table.json'\n",
      "[Errno 2] No such file or directory: 'C:\\\\Users\\\\Nick\\\\AppData\\\\Local\\\\Temp\\\\tmp_es6cfi7wandb-media\\\\f4adtwlt.table.json'\n"
     ]
    },
    {
     "name": "stderr",
     "output_type": "stream",
     "text": [
      " 38%|███▊      | 95/250 [2:06:01<3:26:59, 80.13s/it]"
     ]
    },
    {
     "name": "stdout",
     "output_type": "stream",
     "text": [
      "[Errno 2] No such file or directory: 'C:\\\\Users\\\\Nick\\\\AppData\\\\Local\\\\Temp\\\\tmp_es6cfi7wandb-media\\\\7zcyknvq.table.json'\n",
      "[Errno 2] No such file or directory: 'C:\\\\Users\\\\Nick\\\\AppData\\\\Local\\\\Temp\\\\tmp_es6cfi7wandb-media\\\\ba9deuch.table.json'\n"
     ]
    },
    {
     "name": "stderr",
     "output_type": "stream",
     "text": [
      " 38%|███▊      | 96/250 [2:07:22<3:26:19, 80.39s/it]"
     ]
    },
    {
     "name": "stdout",
     "output_type": "stream",
     "text": [
      "[Errno 2] No such file or directory: 'C:\\\\Users\\\\Nick\\\\AppData\\\\Local\\\\Temp\\\\tmp_es6cfi7wandb-media\\\\rwksc25t.table.json'\n",
      "[Errno 2] No such file or directory: 'C:\\\\Users\\\\Nick\\\\AppData\\\\Local\\\\Temp\\\\tmp_es6cfi7wandb-media\\\\ivni5dlc.table.json'\n"
     ]
    },
    {
     "name": "stderr",
     "output_type": "stream",
     "text": [
      " 39%|███▉      | 97/250 [2:08:39<3:22:44, 79.51s/it]"
     ]
    },
    {
     "name": "stdout",
     "output_type": "stream",
     "text": [
      "[Errno 2] No such file or directory: 'C:\\\\Users\\\\Nick\\\\AppData\\\\Local\\\\Temp\\\\tmp_es6cfi7wandb-media\\\\agb9duy0.table.json'\n",
      "[Errno 2] No such file or directory: 'C:\\\\Users\\\\Nick\\\\AppData\\\\Local\\\\Temp\\\\tmp_es6cfi7wandb-media\\\\6uixjm1y.table.json'\n"
     ]
    },
    {
     "name": "stderr",
     "output_type": "stream",
     "text": [
      " 39%|███▉      | 98/250 [2:10:01<3:23:03, 80.16s/it]"
     ]
    },
    {
     "name": "stdout",
     "output_type": "stream",
     "text": [
      "[Errno 2] No such file or directory: 'C:\\\\Users\\\\Nick\\\\AppData\\\\Local\\\\Temp\\\\tmp_es6cfi7wandb-media\\\\u6a2ouqc.table.json'\n",
      "[Errno 2] No such file or directory: 'C:\\\\Users\\\\Nick\\\\AppData\\\\Local\\\\Temp\\\\tmp_es6cfi7wandb-media\\\\7jzfesln.table.json'\n"
     ]
    },
    {
     "name": "stderr",
     "output_type": "stream",
     "text": [
      " 40%|███▉      | 99/250 [2:11:20<3:21:14, 79.96s/it]"
     ]
    },
    {
     "name": "stdout",
     "output_type": "stream",
     "text": [
      "[Errno 2] No such file or directory: 'C:\\\\Users\\\\Nick\\\\AppData\\\\Local\\\\Temp\\\\tmp_es6cfi7wandb-media\\\\hyqtkwe9.table.json'\n",
      "[Errno 2] No such file or directory: 'C:\\\\Users\\\\Nick\\\\AppData\\\\Local\\\\Temp\\\\tmp_es6cfi7wandb-media\\\\6tq8xvmi.table.json'\n"
     ]
    },
    {
     "name": "stderr",
     "output_type": "stream",
     "text": [
      " 40%|████      | 100/250 [2:12:39<3:18:42, 79.48s/it]"
     ]
    },
    {
     "name": "stdout",
     "output_type": "stream",
     "text": [
      "[Errno 2] No such file or directory: 'C:\\\\Users\\\\Nick\\\\AppData\\\\Local\\\\Temp\\\\tmp_es6cfi7wandb-media\\\\71vgiu6i.table.json'\n",
      "[Errno 2] No such file or directory: 'C:\\\\Users\\\\Nick\\\\AppData\\\\Local\\\\Temp\\\\tmp_es6cfi7wandb-media\\\\0zic6hsr.table.json'\n"
     ]
    },
    {
     "name": "stderr",
     "output_type": "stream",
     "text": [
      " 40%|████      | 101/250 [2:14:01<3:19:07, 80.19s/it]"
     ]
    },
    {
     "name": "stdout",
     "output_type": "stream",
     "text": [
      "[Errno 2] No such file or directory: 'C:\\\\Users\\\\Nick\\\\AppData\\\\Local\\\\Temp\\\\tmp_es6cfi7wandb-media\\\\grmbnabz.table.json'\n",
      "[Errno 2] No such file or directory: 'C:\\\\Users\\\\Nick\\\\AppData\\\\Local\\\\Temp\\\\tmp_es6cfi7wandb-media\\\\upq5d0ip.table.json'\n"
     ]
    },
    {
     "name": "stderr",
     "output_type": "stream",
     "text": [
      " 41%|████      | 102/250 [2:15:19<3:16:44, 79.76s/it]"
     ]
    },
    {
     "name": "stdout",
     "output_type": "stream",
     "text": [
      "[Errno 2] No such file or directory: 'C:\\\\Users\\\\Nick\\\\AppData\\\\Local\\\\Temp\\\\tmp_es6cfi7wandb-media\\\\jn58ednt.table.json'\n",
      "[Errno 2] No such file or directory: 'C:\\\\Users\\\\Nick\\\\AppData\\\\Local\\\\Temp\\\\tmp_es6cfi7wandb-media\\\\syfy60yo.table.json'\n"
     ]
    },
    {
     "name": "stderr",
     "output_type": "stream",
     "text": [
      " 41%|████      | 103/250 [2:16:37<3:14:10, 79.26s/it]"
     ]
    },
    {
     "name": "stdout",
     "output_type": "stream",
     "text": [
      "[Errno 2] No such file or directory: 'C:\\\\Users\\\\Nick\\\\AppData\\\\Local\\\\Temp\\\\tmp_es6cfi7wandb-media\\\\0u4xpaet.table.json'\n",
      "[Errno 2] No such file or directory: 'C:\\\\Users\\\\Nick\\\\AppData\\\\Local\\\\Temp\\\\tmp_es6cfi7wandb-media\\\\2jqo447o.table.json'\n"
     ]
    }
   ],
   "source": [
    "importlib.reload(rnn_tools.rnn_classes)\n",
    "importlib.reload(rnn_classes)\n",
    "importlib.reload(training_testing_gru_extra_data)\n",
    "# (model,dataset, optimizer) = model_pipeline(raceDB,config=wandb_config_static,sweep=False)\n",
    "(model,dataset, optimizer) = model_pipeline(raceDB,config=wandb_config_static,sweep=False,prev_model_file='twinkling-paper-66',prev_model_version=56)\n",
    "# all_price_df = model_pipeline(raceDB,config=wandb_config_static,sweep=False)\n"
   ]
  },
  {
   "cell_type": "code",
   "execution_count": 28,
   "metadata": {},
   "outputs": [
    {
     "data": {
      "application/vnd.jupyter.widget-view+json": {
       "model_id": "1a82e38929c34326ad809a70f588c88f",
       "version_major": 2,
       "version_minor": 0
      },
      "text/plain": [
       "VBox(children=(Label(value='Waiting for wandb.init()...\\r'), FloatProgress(value=0.011277777777286247, max=1.0…"
      ]
     },
     "metadata": {},
     "output_type": "display_data"
    },
    {
     "data": {
      "text/html": [
       "wandb version 0.16.3 is available!  To upgrade, please run:\n",
       " $ pip install wandb --upgrade"
      ],
      "text/plain": [
       "<IPython.core.display.HTML object>"
      ]
     },
     "metadata": {},
     "output_type": "display_data"
    },
    {
     "data": {
      "text/html": [
       "Tracking run with wandb version 0.16.2"
      ],
      "text/plain": [
       "<IPython.core.display.HTML object>"
      ]
     },
     "metadata": {},
     "output_type": "display_data"
    },
    {
     "data": {
      "text/html": [
       "Run data is saved locally in <code>c:\\Users\\Nick\\Documents\\GitHub\\grvmodel\\python\\wandb\\run-20240211_235607-arrla66f</code>"
      ],
      "text/plain": [
       "<IPython.core.display.HTML object>"
      ]
     },
     "metadata": {},
     "output_type": "display_data"
    },
    {
     "data": {
      "text/html": [
       "Syncing run <strong><a href='https://wandb.ai/nickojelly/NEW%20GRU%20V7%20Reporting/runs/arrla66f' target=\"_blank\">fortuitous-festival-55</a></strong> to <a href='https://wandb.ai/nickojelly/NEW%20GRU%20V7%20Reporting' target=\"_blank\">Weights & Biases</a> (<a href='https://wandb.me/run' target=\"_blank\">docs</a>)<br/>"
      ],
      "text/plain": [
       "<IPython.core.display.HTML object>"
      ]
     },
     "metadata": {},
     "output_type": "display_data"
    },
    {
     "data": {
      "text/html": [
       " View project at <a href='https://wandb.ai/nickojelly/NEW%20GRU%20V7%20Reporting' target=\"_blank\">https://wandb.ai/nickojelly/NEW%20GRU%20V7%20Reporting</a>"
      ],
      "text/plain": [
       "<IPython.core.display.HTML object>"
      ]
     },
     "metadata": {},
     "output_type": "display_data"
    },
    {
     "data": {
      "text/html": [
       " View run at <a href='https://wandb.ai/nickojelly/NEW%20GRU%20V7%20Reporting/runs/arrla66f' target=\"_blank\">https://wandb.ai/nickojelly/NEW%20GRU%20V7%20Reporting/runs/arrla66f</a>"
      ],
      "text/plain": [
       "<IPython.core.display.HTML object>"
      ]
     },
     "metadata": {},
     "output_type": "display_data"
    },
    {
     "name": "stdout",
     "output_type": "stream",
     "text": [
      "{'hidden_size': 256, 'stats': ['inside', 'midfield', 'wide', 'weight', 'DogGrade', '_dist_last__1', '_box_last__1', '_speed_avg_1', '_split_speed_avg_1', '_split_margin_avg_1', '_margin_avg_1', '_margin_time_avg_1', '_RunHomeTime_1', '_run_home_speed_1', '_first_out_avg_1', '_pos_out_avg_1', '_post_change_avg_1', '_races_1', '_wins_1', '_wins_last_1', '_weight_', '_min_time_', '_min_split_time_', '_last_start_price', '_last_start_prob', 'dist_dist_last__10', 'dist_box_last__10', 'dist_speed_avg_10', 'dist_split_speed_avg_10', 'dist_split_margin_avg_10', 'dist_margin_avg_10', 'dist_margin_time_avg_10', 'dist_RunHomeTime_10', 'dist_run_home_speed_10', 'dist_first_out_avg_10', 'dist_pos_out_avg_10', 'dist_post_change_avg_10', 'dist_races_10', 'dist_wins_10', 'dist_wins_last_10', 'dist_weight_', 'dist_min_time_', 'dist_min_split_time_', 'dist_last_start_price', 'dist_last_start_prob', 'box_dist_last__10', 'box_box_last__10', 'box_speed_avg_10', 'box_split_speed_avg_10', 'box_split_margin_avg_10', 'box_margin_avg_10', 'box_margin_time_avg_10', 'box_RunHomeTime_10', 'box_run_home_speed_10', 'box_first_out_avg_10', 'box_pos_out_avg_10', 'box_post_change_avg_10', 'box_races_10', 'box_wins_10', 'box_wins_last_10', 'box_weight_', 'box_min_time_', 'box_min_split_time_', 'box_last_start_price', 'box_last_start_prob', 'track_box_dist_last__10', 'track_box_box_last__10', 'track_box_speed_avg_10', 'track_box_split_speed_avg_10', 'track_box_split_margin_avg_10', 'track_box_margin_avg_10', 'track_box_margin_time_avg_10', 'track_box_RunHomeTime_10', 'track_box_run_home_speed_10', 'track_box_first_out_avg_10', 'track_box_pos_out_avg_10', 'track_box_post_change_avg_10', 'track_box_races_10', 'track_box_wins_10', 'track_box_wins_last_10', 'track_box_weight_', 'track_box_min_time_', 'track_box_min_split_time_', 'track_box_last_start_price', 'track_box_last_start_prob', 'track_dist_dist_last__10', 'track_dist_box_last__10', 'track_dist_speed_avg_10', 'track_dist_split_speed_avg_10', 'track_dist_split_margin_avg_10', 'track_dist_margin_avg_10', 'track_dist_margin_time_avg_10', 'track_dist_RunHomeTime_10', 'track_dist_run_home_speed_10', 'track_dist_first_out_avg_10', 'track_dist_pos_out_avg_10', 'track_dist_post_change_avg_10', 'track_dist_races_10', 'track_dist_wins_10', 'track_dist_wins_last_10', 'track_dist_weight_', 'track_dist_min_time_', 'track_dist_min_split_time_', 'track_dist_last_start_price', 'track_dist_last_start_prob'], 'races': ['NZ'], 'datafile': './data/gru_inputs_kitchen_sink_new_not_simple.fth', 'latest_date': '2024-01-31T00:00:00', 'input_type': 'basic', 'num_layers': 2, 'batch_size': 750, 'dropout': 0.3, 'epochs': 250, 'learning_rate': 0.001, 'optimizer': 'adamW', 'f0_layer_size': 128, 'f1_layer_size': 64, 'training_date_end': '2023-01-01', 'notes': 'GRU, with basic add on data looped in', 'batch_days': 600, 'stat_list_dict': {'_dist_last__1': 1, '_box_last__1': 1, '_speed_avg_1': 1, '_split_speed_avg_1': 1, '_split_margin_avg_1': 1, '_margin_avg_1': 1, '_margin_time_avg_1': 1, '_RunHomeTime_1': 1, '_run_home_speed_1': 1, '_first_out_avg_1': 1, '_pos_out_avg_1': 1, '_post_change_avg_1': 1, '_races_1': 1, '_wins_1': 1, '_wins_last_1': 1, '_weight_': 1, '_min_time_': 1, '_min_split_time_': 1, '_last_start_price': 1, '_last_start_prob': 1}}\n",
      "250\n",
      "{'hidden_size': 256, 'stats': ['inside', 'midfield', 'wide', 'weight', 'DogGrade', '_dist_last__1', '_box_last__1', '_speed_avg_1', '_split_speed_avg_1', '_split_margin_avg_1', '_margin_avg_1', '_margin_time_avg_1', '_RunHomeTime_1', '_run_home_speed_1', '_first_out_avg_1', '_pos_out_avg_1', '_post_change_avg_1', '_races_1', '_wins_1', '_wins_last_1', '_weight_', '_min_time_', '_min_split_time_', '_last_start_price', '_last_start_prob', 'dist_dist_last__10', 'dist_box_last__10', 'dist_speed_avg_10', 'dist_split_speed_avg_10', 'dist_split_margin_avg_10', 'dist_margin_avg_10', 'dist_margin_time_avg_10', 'dist_RunHomeTime_10', 'dist_run_home_speed_10', 'dist_first_out_avg_10', 'dist_pos_out_avg_10', 'dist_post_change_avg_10', 'dist_races_10', 'dist_wins_10', 'dist_wins_last_10', 'dist_weight_', 'dist_min_time_', 'dist_min_split_time_', 'dist_last_start_price', 'dist_last_start_prob', 'box_dist_last__10', 'box_box_last__10', 'box_speed_avg_10', 'box_split_speed_avg_10', 'box_split_margin_avg_10', 'box_margin_avg_10', 'box_margin_time_avg_10', 'box_RunHomeTime_10', 'box_run_home_speed_10', 'box_first_out_avg_10', 'box_pos_out_avg_10', 'box_post_change_avg_10', 'box_races_10', 'box_wins_10', 'box_wins_last_10', 'box_weight_', 'box_min_time_', 'box_min_split_time_', 'box_last_start_price', 'box_last_start_prob', 'track_box_dist_last__10', 'track_box_box_last__10', 'track_box_speed_avg_10', 'track_box_split_speed_avg_10', 'track_box_split_margin_avg_10', 'track_box_margin_avg_10', 'track_box_margin_time_avg_10', 'track_box_RunHomeTime_10', 'track_box_run_home_speed_10', 'track_box_first_out_avg_10', 'track_box_pos_out_avg_10', 'track_box_post_change_avg_10', 'track_box_races_10', 'track_box_wins_10', 'track_box_wins_last_10', 'track_box_weight_', 'track_box_min_time_', 'track_box_min_split_time_', 'track_box_last_start_price', 'track_box_last_start_prob', 'track_dist_dist_last__10', 'track_dist_box_last__10', 'track_dist_speed_avg_10', 'track_dist_split_speed_avg_10', 'track_dist_split_margin_avg_10', 'track_dist_margin_avg_10', 'track_dist_margin_time_avg_10', 'track_dist_RunHomeTime_10', 'track_dist_run_home_speed_10', 'track_dist_first_out_avg_10', 'track_dist_pos_out_avg_10', 'track_dist_post_change_avg_10', 'track_dist_races_10', 'track_dist_wins_10', 'track_dist_wins_last_10', 'track_dist_weight_', 'track_dist_min_time_', 'track_dist_min_split_time_', 'track_dist_last_start_price', 'track_dist_last_start_prob'], 'races': ['NZ'], 'datafile': './data/gru_inputs_kitchen_sink_new_not_simple.fth', 'latest_date': '2024-01-31T00:00:00', 'input_type': 'basic', 'num_layers': 2, 'batch_size': 750, 'dropout': 0.3, 'epochs': 250, 'learning_rate': 0.001, 'optimizer': 'adamW', 'f0_layer_size': 128, 'f1_layer_size': 64, 'training_date_end': '2023-01-01', 'notes': 'GRU, with basic add on data looped in', 'batch_days': 600, 'stat_list_dict': {'_dist_last__1': 1, '_box_last__1': 1, '_speed_avg_1': 1, '_split_speed_avg_1': 1, '_split_margin_avg_1': 1, '_margin_avg_1': 1, '_margin_time_avg_1': 1, '_RunHomeTime_1': 1, '_run_home_speed_1': 1, '_first_out_avg_1': 1, '_pos_out_avg_1': 1, '_post_change_avg_1': 1, '_races_1': 1, '_wins_1': 1, '_wins_last_1': 1, '_weight_': 1, '_min_time_': 1, '_min_split_time_': 1, '_last_start_price': 1, '_last_start_prob': 1}}\n",
      "basic\n",
      "1\n",
      "1\n",
      "1\n",
      "1\n",
      "1\n",
      "1\n",
      "1\n",
      "1\n",
      "1\n",
      "1\n",
      "1\n",
      "1\n",
      "1\n",
      "1\n",
      "1\n",
      "1\n",
      "1\n",
      "1\n",
      "1\n",
      "1\n",
      "[1, 1, 1, 1, 1, 1, 1, 1, 1, 1, 1, 1, 1, 1, 1, 1, 1, 1, 1, 1]\n",
      "data_mask_size=26\n",
      "tensor([ True,  True,  True,  True,  True,  True,  True,  True,  True,  True,\n",
      "         True,  True,  True,  True,  True,  True,  True,  True,  True,  True,\n",
      "         True,  True,  True,  True,  True,  True, False, False, False, False,\n",
      "        False, False, False, False, False, False, False, False, False, False,\n",
      "        False, False, False, False, False, False, False, False, False, False,\n",
      "        False, False, False, False, False, False, False, False, False, False,\n",
      "        False, False, False, False, False, False, False, False, False, False,\n",
      "        False, False, False, False, False, False, False, False, False, False,\n",
      "        False, False, False, False, False, False, False, False, False, False,\n",
      "        False, False, False, False, False, False, False, False, False, False,\n",
      "        False, False, False, False, False, False], device='cuda:0')\n",
      "torch.Size([106])\n",
      "Train examples 15593, Test examples 2423, Val examples 2833\n"
     ]
    },
    {
     "name": "stderr",
     "output_type": "stream",
     "text": [
      "100%|██████████| 4028/4028 [00:00<00:00, 85930.67it/s]\n",
      "100%|██████████| 4029/4029 [00:02<00:00, 1862.96it/s]\n"
     ]
    },
    {
     "name": "stdout",
     "output_type": "stream",
     "text": [
      "[(datetime.date(2019, 12, 1), datetime.date(2021, 7, 23)), (datetime.date(2021, 7, 23), datetime.date(2022, 12, 31))]\n",
      "2021-07-23\n",
      "2022-12-31\n",
      "Train examples [8589, 7003]\n"
     ]
    },
    {
     "name": "stderr",
     "output_type": "stream",
     "text": [
      "100%|██████████| 4028/4028 [00:03<00:00, 1243.52it/s]\n",
      "100%|██████████| 4028/4028 [00:02<00:00, 1522.44it/s]\n",
      "100%|██████████| 2/2 [00:05<00:00,  2.95s/it]\n"
     ]
    },
    {
     "name": "stdout",
     "output_type": "stream",
     "text": [
      "Train examples [2384, 2111]\n",
      "Train examples [2384, 2111]\n",
      "Train examples [8589, 7003]\n",
      "Train examples [8589, 7003]\n",
      "here\n",
      "input_size=26\n"
     ]
    },
    {
     "name": "stderr",
     "output_type": "stream",
     "text": [
      "C:\\Users\\Nick\\AppData\\Local\\Temp\\ipykernel_14848\\3542074422.py:70: UserWarning: To copy construct from a tensor, it is recommended to use sourceTensor.clone().detach() or sourceTensor.clone().detach().requires_grad_(True), rather than torch.tensor(sourceTensor).\n",
      "  config['stat_mask_tensor'] = torch.tensor(stat_mask, dtype=torch.uint8).to(device)\n",
      "c:\\Users\\Nick\\.conda\\envs\\python311\\Lib\\site-packages\\torch\\nn\\modules\\lazy.py:180: UserWarning: Lazy modules are a new feature under heavy development so changes to the API or functionality can happen at any moment.\n",
      "  warnings.warn('Lazy modules are a new feature under heavy development '\n"
     ]
    },
    {
     "name": "stdout",
     "output_type": "stream",
     "text": [
      "GRUNetv3_extra(\n",
      "  (gru): GRU(26, 256, num_layers=2, dropout=0.3)\n",
      "  (relu): ReLU()\n",
      "  (fc0): Linear(in_features=2630, out_features=2048, bias=True)\n",
      "  (batch_norm): BatchNorm1d(26, eps=1e-05, momentum=0.1, affine=True, track_running_stats=True)\n",
      "  (batch_norm_data): BatchNorm1d(26, eps=1e-05, momentum=0.1, affine=True, track_running_stats=True)\n",
      "  (extra_1): GRUNetv3_simple_extra_data(\n",
      "    (batch_norm): LazyBatchNorm1d(0, eps=1e-05, momentum=0.1, affine=True, track_running_stats=True)\n",
      "    (relu): ReLU()\n",
      "    (fc0_p1): LazyLinear(in_features=0, out_features=128, bias=True)\n",
      "    (fc0_p1_drop): Dropout(p=0.3, inplace=False)\n",
      "    (fc0_p2): Linear(in_features=128, out_features=64, bias=True)\n",
      "    (fc0_p2_drop): Dropout(p=0.3, inplace=False)\n",
      "    (fc0_p3): Linear(in_features=64, out_features=64, bias=True)\n",
      "    (fc0_p3_drop): Dropout(p=0.3, inplace=False)\n",
      "  )\n",
      "  (fc0_p1): Linear(in_features=512, out_features=256, bias=True)\n",
      "  (fc0_p1_drop): Dropout(p=0.3, inplace=False)\n",
      "  (fc0_p2): Linear(in_features=256, out_features=256, bias=True)\n",
      "  (fc0_p2_drop): Dropout(p=0.3, inplace=False)\n",
      "  (fc0_p3): Linear(in_features=256, out_features=256, bias=True)\n",
      "  (fc0_p3_drop): Dropout(p=0.3, inplace=False)\n",
      "  (relu0): ReLU()\n",
      "  (drop1): Dropout(p=0.3, inplace=False)\n",
      "  (fc1): Linear(in_features=2048, out_features=1024, bias=True)\n",
      "  (drop2): Dropout(p=0.3, inplace=False)\n",
      "  (fc2): Linear(in_features=1024, out_features=64, bias=True)\n",
      "  (drop3): Dropout(p=0.3, inplace=False)\n",
      "  (fc3): Linear(in_features=64, out_features=8, bias=True)\n",
      "  (output_fn): Identity()\n",
      ")\n"
     ]
    },
    {
     "name": "stderr",
     "output_type": "stream",
     "text": [
      "  0%|          | 0/250 [00:00<?, ?it/s]"
     ]
    },
    {
     "name": "stdout",
     "output_type": "stream",
     "text": [
      "output.shape=torch.Size([2423, 8])\n",
      "output.shape=torch.Size([2833, 8])\n",
      "created path\n"
     ]
    },
    {
     "name": "stderr",
     "output_type": "stream",
     "text": [
      "  1%|          | 3/250 [00:56<1:04:42, 15.72s/it]"
     ]
    },
    {
     "name": "stdout",
     "output_type": "stream",
     "text": [
      "output.shape=torch.Size([2423, 8])\n",
      "output.shape=torch.Size([2833, 8])\n"
     ]
    },
    {
     "name": "stderr",
     "output_type": "stream",
     "text": [
      "  2%|▏         | 6/250 [01:52<1:04:29, 15.86s/it]"
     ]
    },
    {
     "name": "stdout",
     "output_type": "stream",
     "text": [
      "output.shape=torch.Size([2423, 8])\n",
      "output.shape=torch.Size([2833, 8])\n"
     ]
    },
    {
     "name": "stderr",
     "output_type": "stream",
     "text": [
      "  4%|▎         | 9/250 [02:48<1:03:11, 15.73s/it]"
     ]
    },
    {
     "name": "stdout",
     "output_type": "stream",
     "text": [
      "output.shape=torch.Size([2423, 8])\n",
      "output.shape=torch.Size([2833, 8])\n"
     ]
    },
    {
     "name": "stderr",
     "output_type": "stream",
     "text": [
      "  5%|▍         | 12/250 [03:43<1:01:50, 15.59s/it]"
     ]
    },
    {
     "name": "stdout",
     "output_type": "stream",
     "text": [
      "output.shape=torch.Size([2423, 8])\n",
      "output.shape=torch.Size([2833, 8])\n"
     ]
    },
    {
     "name": "stderr",
     "output_type": "stream",
     "text": [
      "  6%|▌         | 15/250 [04:40<1:01:14, 15.64s/it]"
     ]
    },
    {
     "name": "stdout",
     "output_type": "stream",
     "text": [
      "output.shape=torch.Size([2423, 8])\n",
      "output.shape=torch.Size([2833, 8])\n"
     ]
    },
    {
     "name": "stderr",
     "output_type": "stream",
     "text": [
      "  7%|▋         | 18/250 [05:35<1:00:17, 15.59s/it]"
     ]
    },
    {
     "name": "stdout",
     "output_type": "stream",
     "text": [
      "output.shape=torch.Size([2423, 8])\n",
      "output.shape=torch.Size([2833, 8])\n"
     ]
    },
    {
     "name": "stderr",
     "output_type": "stream",
     "text": [
      "  8%|▊         | 21/250 [06:32<1:00:27, 15.84s/it]"
     ]
    },
    {
     "name": "stdout",
     "output_type": "stream",
     "text": [
      "output.shape=torch.Size([2423, 8])\n",
      "output.shape=torch.Size([2833, 8])\n"
     ]
    },
    {
     "name": "stderr",
     "output_type": "stream",
     "text": [
      " 10%|▉         | 24/250 [07:28<59:09, 15.71s/it]  "
     ]
    },
    {
     "name": "stdout",
     "output_type": "stream",
     "text": [
      "output.shape=torch.Size([2423, 8])\n",
      "output.shape=torch.Size([2833, 8])\n"
     ]
    },
    {
     "name": "stderr",
     "output_type": "stream",
     "text": [
      " 11%|█         | 27/250 [08:23<58:37, 15.77s/it]  "
     ]
    },
    {
     "name": "stdout",
     "output_type": "stream",
     "text": [
      "output.shape=torch.Size([2423, 8])\n",
      "output.shape=torch.Size([2833, 8])\n"
     ]
    },
    {
     "name": "stderr",
     "output_type": "stream",
     "text": [
      " 12%|█▏        | 30/250 [09:20<57:40, 15.73s/it]  "
     ]
    },
    {
     "name": "stdout",
     "output_type": "stream",
     "text": [
      "output.shape=torch.Size([2423, 8])\n",
      "output.shape=torch.Size([2833, 8])\n"
     ]
    },
    {
     "name": "stderr",
     "output_type": "stream",
     "text": [
      " 13%|█▎        | 33/250 [10:16<56:44, 15.69s/it]  "
     ]
    },
    {
     "name": "stdout",
     "output_type": "stream",
     "text": [
      "output.shape=torch.Size([2423, 8])\n",
      "output.shape=torch.Size([2833, 8])\n"
     ]
    },
    {
     "name": "stderr",
     "output_type": "stream",
     "text": [
      " 14%|█▍        | 36/250 [11:12<56:04, 15.72s/it]  "
     ]
    },
    {
     "name": "stdout",
     "output_type": "stream",
     "text": [
      "output.shape=torch.Size([2423, 8])\n",
      "output.shape=torch.Size([2833, 8])\n"
     ]
    },
    {
     "name": "stderr",
     "output_type": "stream",
     "text": [
      " 16%|█▌        | 39/250 [12:09<56:07, 15.96s/it]  "
     ]
    },
    {
     "name": "stdout",
     "output_type": "stream",
     "text": [
      "output.shape=torch.Size([2423, 8])\n",
      "output.shape=torch.Size([2833, 8])\n"
     ]
    },
    {
     "name": "stderr",
     "output_type": "stream",
     "text": [
      " 17%|█▋        | 42/250 [13:05<54:50, 15.82s/it]  "
     ]
    },
    {
     "name": "stdout",
     "output_type": "stream",
     "text": [
      "output.shape=torch.Size([2423, 8])\n",
      "output.shape=torch.Size([2833, 8])\n"
     ]
    },
    {
     "name": "stderr",
     "output_type": "stream",
     "text": [
      " 18%|█▊        | 45/250 [14:00<53:14, 15.58s/it]  "
     ]
    },
    {
     "name": "stdout",
     "output_type": "stream",
     "text": [
      "output.shape=torch.Size([2423, 8])\n",
      "output.shape=torch.Size([2833, 8])\n"
     ]
    },
    {
     "name": "stderr",
     "output_type": "stream",
     "text": [
      " 19%|█▉        | 48/250 [14:57<53:21, 15.85s/it]  "
     ]
    },
    {
     "name": "stdout",
     "output_type": "stream",
     "text": [
      "output.shape=torch.Size([2423, 8])\n",
      "output.shape=torch.Size([2833, 8])\n"
     ]
    },
    {
     "name": "stderr",
     "output_type": "stream",
     "text": [
      " 20%|██        | 51/250 [15:52<52:01, 15.69s/it]  "
     ]
    },
    {
     "name": "stdout",
     "output_type": "stream",
     "text": [
      "output.shape=torch.Size([2423, 8])\n",
      "output.shape=torch.Size([2833, 8])\n"
     ]
    },
    {
     "name": "stderr",
     "output_type": "stream",
     "text": [
      " 22%|██▏       | 54/250 [16:48<51:03, 15.63s/it]  "
     ]
    },
    {
     "name": "stdout",
     "output_type": "stream",
     "text": [
      "output.shape=torch.Size([2423, 8])\n",
      "output.shape=torch.Size([2833, 8])\n"
     ]
    },
    {
     "name": "stderr",
     "output_type": "stream",
     "text": [
      " 23%|██▎       | 57/250 [17:46<51:04, 15.88s/it]  "
     ]
    },
    {
     "name": "stdout",
     "output_type": "stream",
     "text": [
      "output.shape=torch.Size([2423, 8])\n",
      "output.shape=torch.Size([2833, 8])\n"
     ]
    },
    {
     "name": "stderr",
     "output_type": "stream",
     "text": [
      " 24%|██▍       | 60/250 [18:42<49:44, 15.71s/it]  "
     ]
    },
    {
     "name": "stdout",
     "output_type": "stream",
     "text": [
      "output.shape=torch.Size([2423, 8])\n",
      "output.shape=torch.Size([2833, 8])\n"
     ]
    },
    {
     "name": "stderr",
     "output_type": "stream",
     "text": [
      " 25%|██▌       | 63/250 [19:38<49:04, 15.75s/it]  "
     ]
    },
    {
     "name": "stdout",
     "output_type": "stream",
     "text": [
      "output.shape=torch.Size([2423, 8])\n",
      "output.shape=torch.Size([2833, 8])\n"
     ]
    },
    {
     "name": "stderr",
     "output_type": "stream",
     "text": [
      " 26%|██▋       | 66/250 [20:34<48:04, 15.68s/it]  "
     ]
    },
    {
     "name": "stdout",
     "output_type": "stream",
     "text": [
      "output.shape=torch.Size([2423, 8])\n",
      "output.shape=torch.Size([2833, 8])\n"
     ]
    },
    {
     "name": "stderr",
     "output_type": "stream",
     "text": [
      " 28%|██▊       | 69/250 [21:30<47:10, 15.64s/it]  "
     ]
    },
    {
     "name": "stdout",
     "output_type": "stream",
     "text": [
      "output.shape=torch.Size([2423, 8])\n",
      "output.shape=torch.Size([2833, 8])\n"
     ]
    },
    {
     "name": "stderr",
     "output_type": "stream",
     "text": [
      " 29%|██▉       | 72/250 [22:26<46:21, 15.62s/it]  "
     ]
    },
    {
     "name": "stdout",
     "output_type": "stream",
     "text": [
      "output.shape=torch.Size([2423, 8])\n",
      "output.shape=torch.Size([2833, 8])\n"
     ]
    },
    {
     "name": "stderr",
     "output_type": "stream",
     "text": [
      " 30%|███       | 75/250 [23:22<46:05, 15.81s/it]  "
     ]
    },
    {
     "name": "stdout",
     "output_type": "stream",
     "text": [
      "output.shape=torch.Size([2423, 8])\n",
      "output.shape=torch.Size([2833, 8])\n"
     ]
    },
    {
     "name": "stderr",
     "output_type": "stream",
     "text": [
      " 31%|███       | 78/250 [24:18<44:48, 15.63s/it]  "
     ]
    },
    {
     "name": "stdout",
     "output_type": "stream",
     "text": [
      "output.shape=torch.Size([2423, 8])\n",
      "output.shape=torch.Size([2833, 8])\n"
     ]
    },
    {
     "name": "stderr",
     "output_type": "stream",
     "text": [
      " 32%|███▏      | 81/250 [25:14<44:08, 15.67s/it]  "
     ]
    },
    {
     "name": "stdout",
     "output_type": "stream",
     "text": [
      "output.shape=torch.Size([2423, 8])\n",
      "output.shape=torch.Size([2833, 8])\n"
     ]
    },
    {
     "name": "stderr",
     "output_type": "stream",
     "text": [
      " 34%|███▎      | 84/250 [26:11<43:54, 15.87s/it]  "
     ]
    },
    {
     "name": "stdout",
     "output_type": "stream",
     "text": [
      "output.shape=torch.Size([2423, 8])\n",
      "output.shape=torch.Size([2833, 8])\n"
     ]
    },
    {
     "name": "stderr",
     "output_type": "stream",
     "text": [
      " 35%|███▍      | 87/250 [27:09<43:56, 16.17s/it]  "
     ]
    },
    {
     "name": "stdout",
     "output_type": "stream",
     "text": [
      "output.shape=torch.Size([2423, 8])\n",
      "output.shape=torch.Size([2833, 8])\n"
     ]
    },
    {
     "name": "stderr",
     "output_type": "stream",
     "text": [
      " 36%|███▌      | 90/250 [28:06<42:35, 15.97s/it]"
     ]
    },
    {
     "name": "stdout",
     "output_type": "stream",
     "text": [
      "output.shape=torch.Size([2423, 8])\n",
      "output.shape=torch.Size([2833, 8])\n"
     ]
    },
    {
     "name": "stderr",
     "output_type": "stream",
     "text": [
      " 37%|███▋      | 93/250 [29:01<41:07, 15.72s/it]"
     ]
    },
    {
     "name": "stdout",
     "output_type": "stream",
     "text": [
      "output.shape=torch.Size([2423, 8])\n",
      "output.shape=torch.Size([2833, 8])\n"
     ]
    },
    {
     "name": "stderr",
     "output_type": "stream",
     "text": [
      " 38%|███▊      | 96/250 [29:57<40:05, 15.62s/it]"
     ]
    },
    {
     "name": "stdout",
     "output_type": "stream",
     "text": [
      "output.shape=torch.Size([2423, 8])\n",
      "output.shape=torch.Size([2833, 8])\n"
     ]
    },
    {
     "name": "stderr",
     "output_type": "stream",
     "text": [
      " 40%|███▉      | 99/250 [30:53<39:20, 15.63s/it]"
     ]
    },
    {
     "name": "stdout",
     "output_type": "stream",
     "text": [
      "output.shape=torch.Size([2423, 8])\n",
      "output.shape=torch.Size([2833, 8])\n"
     ]
    },
    {
     "name": "stderr",
     "output_type": "stream",
     "text": [
      " 41%|████      | 102/250 [31:49<38:45, 15.71s/it]"
     ]
    },
    {
     "name": "stdout",
     "output_type": "stream",
     "text": [
      "output.shape=torch.Size([2423, 8])\n",
      "output.shape=torch.Size([2833, 8])\n"
     ]
    },
    {
     "name": "stderr",
     "output_type": "stream",
     "text": [
      " 42%|████▏     | 105/250 [32:47<38:23, 15.89s/it]"
     ]
    },
    {
     "name": "stdout",
     "output_type": "stream",
     "text": [
      "output.shape=torch.Size([2423, 8])\n",
      "output.shape=torch.Size([2833, 8])\n"
     ]
    },
    {
     "name": "stderr",
     "output_type": "stream",
     "text": [
      " 43%|████▎     | 108/250 [33:47<39:08, 16.54s/it]"
     ]
    },
    {
     "name": "stdout",
     "output_type": "stream",
     "text": [
      "output.shape=torch.Size([2423, 8])\n",
      "output.shape=torch.Size([2833, 8])\n"
     ]
    },
    {
     "name": "stderr",
     "output_type": "stream",
     "text": [
      " 44%|████▍     | 111/250 [34:43<37:05, 16.01s/it]"
     ]
    },
    {
     "name": "stdout",
     "output_type": "stream",
     "text": [
      "output.shape=torch.Size([2423, 8])\n",
      "output.shape=torch.Size([2833, 8])\n"
     ]
    },
    {
     "name": "stderr",
     "output_type": "stream",
     "text": [
      " 46%|████▌     | 114/250 [35:41<36:18, 16.02s/it]"
     ]
    },
    {
     "name": "stdout",
     "output_type": "stream",
     "text": [
      "output.shape=torch.Size([2423, 8])\n",
      "output.shape=torch.Size([2833, 8])\n"
     ]
    },
    {
     "name": "stderr",
     "output_type": "stream",
     "text": [
      " 47%|████▋     | 117/250 [36:37<34:51, 15.72s/it]"
     ]
    },
    {
     "name": "stdout",
     "output_type": "stream",
     "text": [
      "output.shape=torch.Size([2423, 8])\n",
      "output.shape=torch.Size([2833, 8])\n"
     ]
    },
    {
     "name": "stderr",
     "output_type": "stream",
     "text": [
      " 48%|████▊     | 120/250 [37:33<34:08, 15.76s/it]"
     ]
    },
    {
     "name": "stdout",
     "output_type": "stream",
     "text": [
      "output.shape=torch.Size([2423, 8])\n",
      "[Errno 2] No such file or directory: 'C:\\\\Users\\\\Nick\\\\AppData\\\\Local\\\\Temp\\\\tmpgv2hxcazwandb-media\\\\7xq7wm3h.table.json'\n",
      "output.shape=torch.Size([2833, 8])\n",
      "[Errno 2] No such file or directory: 'C:\\\\Users\\\\Nick\\\\AppData\\\\Local\\\\Temp\\\\tmpgv2hxcazwandb-media\\\\fnc3519k.table.json'\n"
     ]
    },
    {
     "name": "stderr",
     "output_type": "stream",
     "text": [
      " 49%|████▉     | 123/250 [38:25<32:12, 15.22s/it]"
     ]
    },
    {
     "name": "stdout",
     "output_type": "stream",
     "text": [
      "output.shape=torch.Size([2423, 8])\n",
      "[Errno 2] No such file or directory: 'C:\\\\Users\\\\Nick\\\\AppData\\\\Local\\\\Temp\\\\tmpgv2hxcazwandb-media\\\\m2jz73xg.table.json'\n",
      "output.shape=torch.Size([2833, 8])\n",
      "[Errno 2] No such file or directory: 'C:\\\\Users\\\\Nick\\\\AppData\\\\Local\\\\Temp\\\\tmpgv2hxcazwandb-media\\\\9nx23yrh.table.json'\n"
     ]
    },
    {
     "name": "stderr",
     "output_type": "stream",
     "text": [
      " 50%|█████     | 126/250 [39:16<30:33, 14.79s/it]"
     ]
    },
    {
     "name": "stdout",
     "output_type": "stream",
     "text": [
      "output.shape=torch.Size([2423, 8])\n",
      "[Errno 2] No such file or directory: 'C:\\\\Users\\\\Nick\\\\AppData\\\\Local\\\\Temp\\\\tmpgv2hxcazwandb-media\\\\otjk2l61.table.json'\n",
      "output.shape=torch.Size([2833, 8])\n",
      "[Errno 2] No such file or directory: 'C:\\\\Users\\\\Nick\\\\AppData\\\\Local\\\\Temp\\\\tmpgv2hxcazwandb-media\\\\fxyj25yj.table.json'\n"
     ]
    },
    {
     "name": "stderr",
     "output_type": "stream",
     "text": [
      " 52%|█████▏    | 129/250 [40:08<30:02, 14.90s/it]"
     ]
    },
    {
     "name": "stdout",
     "output_type": "stream",
     "text": [
      "output.shape=torch.Size([2423, 8])\n",
      "[Errno 2] No such file or directory: 'C:\\\\Users\\\\Nick\\\\AppData\\\\Local\\\\Temp\\\\tmpgv2hxcazwandb-media\\\\prikjrs1.table.json'\n",
      "output.shape=torch.Size([2833, 8])\n",
      "[Errno 2] No such file or directory: 'C:\\\\Users\\\\Nick\\\\AppData\\\\Local\\\\Temp\\\\tmpgv2hxcazwandb-media\\\\hk79he7u.table.json'\n"
     ]
    },
    {
     "name": "stderr",
     "output_type": "stream",
     "text": [
      " 53%|█████▎    | 132/250 [40:59<28:56, 14.72s/it]"
     ]
    },
    {
     "name": "stdout",
     "output_type": "stream",
     "text": [
      "output.shape=torch.Size([2423, 8])\n",
      "[Errno 2] No such file or directory: 'C:\\\\Users\\\\Nick\\\\AppData\\\\Local\\\\Temp\\\\tmpgv2hxcazwandb-media\\\\kj6102oj.table.json'\n",
      "output.shape=torch.Size([2833, 8])\n",
      "[Errno 2] No such file or directory: 'C:\\\\Users\\\\Nick\\\\AppData\\\\Local\\\\Temp\\\\tmpgv2hxcazwandb-media\\\\ialh4cfp.table.json'\n"
     ]
    },
    {
     "name": "stderr",
     "output_type": "stream",
     "text": [
      " 54%|█████▍    | 135/250 [41:51<28:33, 14.90s/it]"
     ]
    },
    {
     "name": "stdout",
     "output_type": "stream",
     "text": [
      "output.shape=torch.Size([2423, 8])\n",
      "[Errno 2] No such file or directory: 'C:\\\\Users\\\\Nick\\\\AppData\\\\Local\\\\Temp\\\\tmpgv2hxcazwandb-media\\\\h36l6p2v.table.json'\n",
      "output.shape=torch.Size([2833, 8])\n",
      "[Errno 2] No such file or directory: 'C:\\\\Users\\\\Nick\\\\AppData\\\\Local\\\\Temp\\\\tmpgv2hxcazwandb-media\\\\ib0dse7z.table.json'\n"
     ]
    },
    {
     "name": "stderr",
     "output_type": "stream",
     "text": [
      " 55%|█████▌    | 138/250 [42:44<27:59, 15.00s/it]"
     ]
    },
    {
     "name": "stdout",
     "output_type": "stream",
     "text": [
      "output.shape=torch.Size([2423, 8])\n",
      "[Errno 2] No such file or directory: 'C:\\\\Users\\\\Nick\\\\AppData\\\\Local\\\\Temp\\\\tmpgv2hxcazwandb-media\\\\6tssg5d5.table.json'\n",
      "output.shape=torch.Size([2833, 8])\n",
      "[Errno 2] No such file or directory: 'C:\\\\Users\\\\Nick\\\\AppData\\\\Local\\\\Temp\\\\tmpgv2hxcazwandb-media\\\\fxq82l5c.table.json'\n"
     ]
    },
    {
     "name": "stderr",
     "output_type": "stream",
     "text": [
      " 56%|█████▋    | 141/250 [43:36<26:53, 14.80s/it]"
     ]
    },
    {
     "name": "stdout",
     "output_type": "stream",
     "text": [
      "output.shape=torch.Size([2423, 8])\n",
      "[Errno 2] No such file or directory: 'C:\\\\Users\\\\Nick\\\\AppData\\\\Local\\\\Temp\\\\tmpgv2hxcazwandb-media\\\\0274y66h.table.json'\n",
      "output.shape=torch.Size([2833, 8])\n",
      "[Errno 2] No such file or directory: 'C:\\\\Users\\\\Nick\\\\AppData\\\\Local\\\\Temp\\\\tmpgv2hxcazwandb-media\\\\8k0texpn.table.json'\n"
     ]
    },
    {
     "name": "stderr",
     "output_type": "stream",
     "text": [
      " 58%|█████▊    | 144/250 [44:28<25:57, 14.70s/it]"
     ]
    },
    {
     "name": "stdout",
     "output_type": "stream",
     "text": [
      "output.shape=torch.Size([2423, 8])\n",
      "[Errno 2] No such file or directory: 'C:\\\\Users\\\\Nick\\\\AppData\\\\Local\\\\Temp\\\\tmpgv2hxcazwandb-media\\\\0d0cjzne.table.json'\n",
      "output.shape=torch.Size([2833, 8])\n",
      "[Errno 2] No such file or directory: 'C:\\\\Users\\\\Nick\\\\AppData\\\\Local\\\\Temp\\\\tmpgv2hxcazwandb-media\\\\34u86ooq.table.json'\n"
     ]
    },
    {
     "name": "stderr",
     "output_type": "stream",
     "text": [
      " 59%|█████▉    | 147/250 [45:19<25:05, 14.62s/it]"
     ]
    },
    {
     "name": "stdout",
     "output_type": "stream",
     "text": [
      "output.shape=torch.Size([2423, 8])\n",
      "[Errno 2] No such file or directory: 'C:\\\\Users\\\\Nick\\\\AppData\\\\Local\\\\Temp\\\\tmpgv2hxcazwandb-media\\\\ih9ezqfm.table.json'\n",
      "output.shape=torch.Size([2833, 8])\n",
      "[Errno 2] No such file or directory: 'C:\\\\Users\\\\Nick\\\\AppData\\\\Local\\\\Temp\\\\tmpgv2hxcazwandb-media\\\\24nkdmjn.table.json'\n"
     ]
    },
    {
     "name": "stderr",
     "output_type": "stream",
     "text": [
      " 60%|██████    | 150/250 [46:11<24:29, 14.70s/it]"
     ]
    },
    {
     "name": "stdout",
     "output_type": "stream",
     "text": [
      "output.shape=torch.Size([2423, 8])\n",
      "[Errno 2] No such file or directory: 'C:\\\\Users\\\\Nick\\\\AppData\\\\Local\\\\Temp\\\\tmpgv2hxcazwandb-media\\\\e4gyfd1j.table.json'\n",
      "output.shape=torch.Size([2833, 8])\n",
      "[Errno 2] No such file or directory: 'C:\\\\Users\\\\Nick\\\\AppData\\\\Local\\\\Temp\\\\tmpgv2hxcazwandb-media\\\\jdm973b0.table.json'\n"
     ]
    },
    {
     "name": "stderr",
     "output_type": "stream",
     "text": [
      " 61%|██████    | 153/250 [47:03<24:01, 14.86s/it]"
     ]
    },
    {
     "name": "stdout",
     "output_type": "stream",
     "text": [
      "output.shape=torch.Size([2423, 8])\n",
      "[Errno 2] No such file or directory: 'C:\\\\Users\\\\Nick\\\\AppData\\\\Local\\\\Temp\\\\tmpgv2hxcazwandb-media\\\\14hebulr.table.json'\n",
      "output.shape=torch.Size([2833, 8])\n",
      "[Errno 2] No such file or directory: 'C:\\\\Users\\\\Nick\\\\AppData\\\\Local\\\\Temp\\\\tmpgv2hxcazwandb-media\\\\kfb879cg.table.json'\n"
     ]
    },
    {
     "name": "stderr",
     "output_type": "stream",
     "text": [
      " 62%|██████▏   | 156/250 [47:54<23:05, 14.73s/it]"
     ]
    },
    {
     "name": "stdout",
     "output_type": "stream",
     "text": [
      "output.shape=torch.Size([2423, 8])\n",
      "[Errno 2] No such file or directory: 'C:\\\\Users\\\\Nick\\\\AppData\\\\Local\\\\Temp\\\\tmpgv2hxcazwandb-media\\\\e3t60wf3.table.json'\n",
      "output.shape=torch.Size([2833, 8])\n",
      "[Errno 2] No such file or directory: 'C:\\\\Users\\\\Nick\\\\AppData\\\\Local\\\\Temp\\\\tmpgv2hxcazwandb-media\\\\jan6vx7a.table.json'\n"
     ]
    },
    {
     "name": "stderr",
     "output_type": "stream",
     "text": [
      " 64%|██████▎   | 159/250 [48:45<22:10, 14.62s/it]"
     ]
    },
    {
     "name": "stdout",
     "output_type": "stream",
     "text": [
      "output.shape=torch.Size([2423, 8])\n",
      "[Errno 2] No such file or directory: 'C:\\\\Users\\\\Nick\\\\AppData\\\\Local\\\\Temp\\\\tmpgv2hxcazwandb-media\\\\57skzma3.table.json'\n",
      "output.shape=torch.Size([2833, 8])\n",
      "[Errno 2] No such file or directory: 'C:\\\\Users\\\\Nick\\\\AppData\\\\Local\\\\Temp\\\\tmpgv2hxcazwandb-media\\\\eymyrwvz.table.json'\n"
     ]
    },
    {
     "name": "stderr",
     "output_type": "stream",
     "text": [
      " 65%|██████▍   | 162/250 [49:38<22:02, 15.03s/it]"
     ]
    },
    {
     "name": "stdout",
     "output_type": "stream",
     "text": [
      "output.shape=torch.Size([2423, 8])\n",
      "[Errno 2] No such file or directory: 'C:\\\\Users\\\\Nick\\\\AppData\\\\Local\\\\Temp\\\\tmpgv2hxcazwandb-media\\\\0rbr0101.table.json'\n",
      "output.shape=torch.Size([2833, 8])\n",
      "[Errno 2] No such file or directory: 'C:\\\\Users\\\\Nick\\\\AppData\\\\Local\\\\Temp\\\\tmpgv2hxcazwandb-media\\\\qqa7vxwi.table.json'\n"
     ]
    },
    {
     "name": "stderr",
     "output_type": "stream",
     "text": [
      " 66%|██████▌   | 165/250 [50:30<21:08, 14.92s/it]"
     ]
    },
    {
     "name": "stdout",
     "output_type": "stream",
     "text": [
      "output.shape=torch.Size([2423, 8])\n",
      "[Errno 2] No such file or directory: 'C:\\\\Users\\\\Nick\\\\AppData\\\\Local\\\\Temp\\\\tmpgv2hxcazwandb-media\\\\r1e7uv25.table.json'\n",
      "output.shape=torch.Size([2833, 8])\n",
      "[Errno 2] No such file or directory: 'C:\\\\Users\\\\Nick\\\\AppData\\\\Local\\\\Temp\\\\tmpgv2hxcazwandb-media\\\\b89v949x.table.json'\n"
     ]
    },
    {
     "name": "stderr",
     "output_type": "stream",
     "text": [
      " 67%|██████▋   | 168/250 [51:21<20:06, 14.72s/it]"
     ]
    },
    {
     "name": "stdout",
     "output_type": "stream",
     "text": [
      "output.shape=torch.Size([2423, 8])\n",
      "[Errno 2] No such file or directory: 'C:\\\\Users\\\\Nick\\\\AppData\\\\Local\\\\Temp\\\\tmpgv2hxcazwandb-media\\\\hrwwk5da.table.json'\n",
      "output.shape=torch.Size([2833, 8])\n",
      "[Errno 2] No such file or directory: 'C:\\\\Users\\\\Nick\\\\AppData\\\\Local\\\\Temp\\\\tmpgv2hxcazwandb-media\\\\maylk4yv.table.json'\n"
     ]
    },
    {
     "name": "stderr",
     "output_type": "stream",
     "text": [
      " 68%|██████▊   | 171/250 [52:13<19:15, 14.63s/it]"
     ]
    },
    {
     "name": "stdout",
     "output_type": "stream",
     "text": [
      "output.shape=torch.Size([2423, 8])\n",
      "[Errno 2] No such file or directory: 'C:\\\\Users\\\\Nick\\\\AppData\\\\Local\\\\Temp\\\\tmpgv2hxcazwandb-media\\\\kudx6m3y.table.json'\n",
      "output.shape=torch.Size([2833, 8])\n",
      "[Errno 2] No such file or directory: 'C:\\\\Users\\\\Nick\\\\AppData\\\\Local\\\\Temp\\\\tmpgv2hxcazwandb-media\\\\yanf9fwg.table.json'\n"
     ]
    },
    {
     "name": "stderr",
     "output_type": "stream",
     "text": [
      " 70%|██████▉   | 174/250 [53:04<18:35, 14.68s/it]"
     ]
    },
    {
     "name": "stdout",
     "output_type": "stream",
     "text": [
      "output.shape=torch.Size([2423, 8])\n",
      "[Errno 2] No such file or directory: 'C:\\\\Users\\\\Nick\\\\AppData\\\\Local\\\\Temp\\\\tmpgv2hxcazwandb-media\\\\j3qki66y.table.json'\n",
      "output.shape=torch.Size([2833, 8])\n",
      "[Errno 2] No such file or directory: 'C:\\\\Users\\\\Nick\\\\AppData\\\\Local\\\\Temp\\\\tmpgv2hxcazwandb-media\\\\bz66nirl.table.json'\n"
     ]
    },
    {
     "name": "stderr",
     "output_type": "stream",
     "text": [
      " 71%|███████   | 177/250 [53:56<17:46, 14.61s/it]"
     ]
    },
    {
     "name": "stdout",
     "output_type": "stream",
     "text": [
      "output.shape=torch.Size([2423, 8])\n",
      "[Errno 2] No such file or directory: 'C:\\\\Users\\\\Nick\\\\AppData\\\\Local\\\\Temp\\\\tmpgv2hxcazwandb-media\\\\v7v6foze.table.json'\n",
      "output.shape=torch.Size([2833, 8])\n",
      "[Errno 2] No such file or directory: 'C:\\\\Users\\\\Nick\\\\AppData\\\\Local\\\\Temp\\\\tmpgv2hxcazwandb-media\\\\9j62n49q.table.json'\n"
     ]
    },
    {
     "name": "stderr",
     "output_type": "stream",
     "text": [
      " 72%|███████▏  | 180/250 [54:48<17:28, 14.98s/it]"
     ]
    },
    {
     "name": "stdout",
     "output_type": "stream",
     "text": [
      "output.shape=torch.Size([2423, 8])\n",
      "[Errno 2] No such file or directory: 'C:\\\\Users\\\\Nick\\\\AppData\\\\Local\\\\Temp\\\\tmpgv2hxcazwandb-media\\\\8u13o24c.table.json'\n",
      "output.shape=torch.Size([2833, 8])\n",
      "[Errno 2] No such file or directory: 'C:\\\\Users\\\\Nick\\\\AppData\\\\Local\\\\Temp\\\\tmpgv2hxcazwandb-media\\\\402xif3u.table.json'\n"
     ]
    },
    {
     "name": "stderr",
     "output_type": "stream",
     "text": [
      " 73%|███████▎  | 183/250 [55:44<17:17, 15.48s/it]"
     ]
    },
    {
     "name": "stdout",
     "output_type": "stream",
     "text": [
      "output.shape=torch.Size([2423, 8])\n",
      "[Errno 2] No such file or directory: 'C:\\\\Users\\\\Nick\\\\AppData\\\\Local\\\\Temp\\\\tmpgv2hxcazwandb-media\\\\u3ox3zkb.table.json'\n",
      "output.shape=torch.Size([2833, 8])\n",
      "[Errno 2] No such file or directory: 'C:\\\\Users\\\\Nick\\\\AppData\\\\Local\\\\Temp\\\\tmpgv2hxcazwandb-media\\\\oqftdr8u.table.json'\n"
     ]
    },
    {
     "name": "stderr",
     "output_type": "stream",
     "text": [
      " 74%|███████▍  | 186/250 [56:37<16:15, 15.24s/it]"
     ]
    },
    {
     "name": "stdout",
     "output_type": "stream",
     "text": [
      "output.shape=torch.Size([2423, 8])\n",
      "[Errno 2] No such file or directory: 'C:\\\\Users\\\\Nick\\\\AppData\\\\Local\\\\Temp\\\\tmpgv2hxcazwandb-media\\\\v2xlonlk.table.json'\n",
      "output.shape=torch.Size([2833, 8])\n",
      "[Errno 2] No such file or directory: 'C:\\\\Users\\\\Nick\\\\AppData\\\\Local\\\\Temp\\\\tmpgv2hxcazwandb-media\\\\w2mtvdiv.table.json'\n"
     ]
    },
    {
     "name": "stderr",
     "output_type": "stream",
     "text": [
      " 76%|███████▌  | 189/250 [57:28<15:02, 14.79s/it]"
     ]
    },
    {
     "name": "stdout",
     "output_type": "stream",
     "text": [
      "output.shape=torch.Size([2423, 8])\n",
      "[Errno 2] No such file or directory: 'C:\\\\Users\\\\Nick\\\\AppData\\\\Local\\\\Temp\\\\tmpgv2hxcazwandb-media\\\\6n2euium.table.json'\n",
      "output.shape=torch.Size([2833, 8])\n",
      "[Errno 2] No such file or directory: 'C:\\\\Users\\\\Nick\\\\AppData\\\\Local\\\\Temp\\\\tmpgv2hxcazwandb-media\\\\lyr3nbtg.table.json'\n"
     ]
    },
    {
     "name": "stderr",
     "output_type": "stream",
     "text": [
      " 77%|███████▋  | 192/250 [58:20<14:16, 14.77s/it]"
     ]
    },
    {
     "name": "stdout",
     "output_type": "stream",
     "text": [
      "output.shape=torch.Size([2423, 8])\n",
      "[Errno 2] No such file or directory: 'C:\\\\Users\\\\Nick\\\\AppData\\\\Local\\\\Temp\\\\tmpgv2hxcazwandb-media\\\\e3l1v03e.table.json'\n",
      "output.shape=torch.Size([2833, 8])\n",
      "[Errno 2] No such file or directory: 'C:\\\\Users\\\\Nick\\\\AppData\\\\Local\\\\Temp\\\\tmpgv2hxcazwandb-media\\\\lcfsbj5f.table.json'\n"
     ]
    },
    {
     "name": "stderr",
     "output_type": "stream",
     "text": [
      " 78%|███████▊  | 195/250 [59:11<13:26, 14.67s/it]"
     ]
    },
    {
     "name": "stdout",
     "output_type": "stream",
     "text": [
      "output.shape=torch.Size([2423, 8])\n",
      "[Errno 2] No such file or directory: 'C:\\\\Users\\\\Nick\\\\AppData\\\\Local\\\\Temp\\\\tmpgv2hxcazwandb-media\\\\aa1ftfjp.table.json'\n",
      "output.shape=torch.Size([2833, 8])\n",
      "[Errno 2] No such file or directory: 'C:\\\\Users\\\\Nick\\\\AppData\\\\Local\\\\Temp\\\\tmpgv2hxcazwandb-media\\\\6dqhgtbk.table.json'\n"
     ]
    },
    {
     "name": "stderr",
     "output_type": "stream",
     "text": [
      " 79%|███████▉  | 198/250 [1:00:04<12:58, 14.97s/it]"
     ]
    },
    {
     "name": "stdout",
     "output_type": "stream",
     "text": [
      "output.shape=torch.Size([2423, 8])\n",
      "[Errno 2] No such file or directory: 'C:\\\\Users\\\\Nick\\\\AppData\\\\Local\\\\Temp\\\\tmpgv2hxcazwandb-media\\\\9f2dg8ll.table.json'\n",
      "output.shape=torch.Size([2833, 8])\n",
      "[Errno 2] No such file or directory: 'C:\\\\Users\\\\Nick\\\\AppData\\\\Local\\\\Temp\\\\tmpgv2hxcazwandb-media\\\\9z1i0kja.table.json'\n"
     ]
    },
    {
     "name": "stderr",
     "output_type": "stream",
     "text": [
      " 80%|████████  | 201/250 [1:00:56<12:05, 14.81s/it]"
     ]
    },
    {
     "name": "stdout",
     "output_type": "stream",
     "text": [
      "output.shape=torch.Size([2423, 8])\n",
      "[Errno 2] No such file or directory: 'C:\\\\Users\\\\Nick\\\\AppData\\\\Local\\\\Temp\\\\tmpgv2hxcazwandb-media\\\\v6615o96.table.json'\n",
      "output.shape=torch.Size([2833, 8])\n",
      "[Errno 2] No such file or directory: 'C:\\\\Users\\\\Nick\\\\AppData\\\\Local\\\\Temp\\\\tmpgv2hxcazwandb-media\\\\5n756odb.table.json'\n"
     ]
    },
    {
     "name": "stderr",
     "output_type": "stream",
     "text": [
      " 82%|████████▏ | 204/250 [1:01:47<11:17, 14.73s/it]"
     ]
    },
    {
     "name": "stdout",
     "output_type": "stream",
     "text": [
      "output.shape=torch.Size([2423, 8])\n",
      "[Errno 2] No such file or directory: 'C:\\\\Users\\\\Nick\\\\AppData\\\\Local\\\\Temp\\\\tmpgv2hxcazwandb-media\\\\jpa5rw1q.table.json'\n",
      "output.shape=torch.Size([2833, 8])\n",
      "[Errno 2] No such file or directory: 'C:\\\\Users\\\\Nick\\\\AppData\\\\Local\\\\Temp\\\\tmpgv2hxcazwandb-media\\\\i0gznpxn.table.json'\n"
     ]
    },
    {
     "name": "stderr",
     "output_type": "stream",
     "text": [
      " 83%|████████▎ | 207/250 [1:02:42<10:55, 15.25s/it]"
     ]
    },
    {
     "name": "stdout",
     "output_type": "stream",
     "text": [
      "output.shape=torch.Size([2423, 8])\n",
      "[Errno 2] No such file or directory: 'C:\\\\Users\\\\Nick\\\\AppData\\\\Local\\\\Temp\\\\tmpgv2hxcazwandb-media\\\\5g0wj87m.table.json'\n",
      "output.shape=torch.Size([2833, 8])\n",
      "[Errno 2] No such file or directory: 'C:\\\\Users\\\\Nick\\\\AppData\\\\Local\\\\Temp\\\\tmpgv2hxcazwandb-media\\\\gwacyge7.table.json'\n"
     ]
    },
    {
     "name": "stderr",
     "output_type": "stream",
     "text": [
      " 84%|████████▍ | 210/250 [1:03:33<09:54, 14.86s/it]"
     ]
    },
    {
     "name": "stdout",
     "output_type": "stream",
     "text": [
      "output.shape=torch.Size([2423, 8])\n",
      "[Errno 2] No such file or directory: 'C:\\\\Users\\\\Nick\\\\AppData\\\\Local\\\\Temp\\\\tmpgv2hxcazwandb-media\\\\wdaindeo.table.json'\n",
      "output.shape=torch.Size([2833, 8])\n",
      "[Errno 2] No such file or directory: 'C:\\\\Users\\\\Nick\\\\AppData\\\\Local\\\\Temp\\\\tmpgv2hxcazwandb-media\\\\cqpmy7fi.table.json'\n"
     ]
    },
    {
     "name": "stderr",
     "output_type": "stream",
     "text": [
      " 85%|████████▌ | 213/250 [1:04:25<09:04, 14.71s/it]"
     ]
    },
    {
     "name": "stdout",
     "output_type": "stream",
     "text": [
      "output.shape=torch.Size([2423, 8])\n",
      "[Errno 2] No such file or directory: 'C:\\\\Users\\\\Nick\\\\AppData\\\\Local\\\\Temp\\\\tmpgv2hxcazwandb-media\\\\polx5kkt.table.json'\n",
      "output.shape=torch.Size([2833, 8])\n",
      "[Errno 2] No such file or directory: 'C:\\\\Users\\\\Nick\\\\AppData\\\\Local\\\\Temp\\\\tmpgv2hxcazwandb-media\\\\x5jq8lc5.table.json'\n"
     ]
    },
    {
     "name": "stderr",
     "output_type": "stream",
     "text": [
      " 86%|████████▋ | 216/250 [1:05:18<08:30, 15.01s/it]"
     ]
    },
    {
     "name": "stdout",
     "output_type": "stream",
     "text": [
      "output.shape=torch.Size([2423, 8])\n",
      "[Errno 2] No such file or directory: 'C:\\\\Users\\\\Nick\\\\AppData\\\\Local\\\\Temp\\\\tmpgv2hxcazwandb-media\\\\4qvlb89c.table.json'\n",
      "output.shape=torch.Size([2833, 8])\n",
      "[Errno 2] No such file or directory: 'C:\\\\Users\\\\Nick\\\\AppData\\\\Local\\\\Temp\\\\tmpgv2hxcazwandb-media\\\\ao6jd36d.table.json'\n"
     ]
    },
    {
     "name": "stderr",
     "output_type": "stream",
     "text": [
      " 88%|████████▊ | 219/250 [1:06:09<07:35, 14.70s/it]"
     ]
    },
    {
     "name": "stdout",
     "output_type": "stream",
     "text": [
      "output.shape=torch.Size([2423, 8])\n",
      "[Errno 2] No such file or directory: 'C:\\\\Users\\\\Nick\\\\AppData\\\\Local\\\\Temp\\\\tmpgv2hxcazwandb-media\\\\rfeh2r57.table.json'\n",
      "output.shape=torch.Size([2833, 8])\n",
      "[Errno 2] No such file or directory: 'C:\\\\Users\\\\Nick\\\\AppData\\\\Local\\\\Temp\\\\tmpgv2hxcazwandb-media\\\\7iyw01dz.table.json'\n"
     ]
    },
    {
     "name": "stderr",
     "output_type": "stream",
     "text": [
      " 89%|████████▉ | 222/250 [1:07:01<06:53, 14.79s/it]"
     ]
    },
    {
     "name": "stdout",
     "output_type": "stream",
     "text": [
      "output.shape=torch.Size([2423, 8])\n",
      "[Errno 2] No such file or directory: 'C:\\\\Users\\\\Nick\\\\AppData\\\\Local\\\\Temp\\\\tmpgv2hxcazwandb-media\\\\qa82e8ob.table.json'\n",
      "output.shape=torch.Size([2833, 8])\n",
      "[Errno 2] No such file or directory: 'C:\\\\Users\\\\Nick\\\\AppData\\\\Local\\\\Temp\\\\tmpgv2hxcazwandb-media\\\\x3td4m0m.table.json'\n"
     ]
    },
    {
     "name": "stderr",
     "output_type": "stream",
     "text": [
      " 90%|█████████ | 225/250 [1:07:52<06:06, 14.67s/it]"
     ]
    },
    {
     "name": "stdout",
     "output_type": "stream",
     "text": [
      "output.shape=torch.Size([2423, 8])\n",
      "[Errno 2] No such file or directory: 'C:\\\\Users\\\\Nick\\\\AppData\\\\Local\\\\Temp\\\\tmpgv2hxcazwandb-media\\\\tvzxuno2.table.json'\n",
      "output.shape=torch.Size([2833, 8])\n",
      "[Errno 2] No such file or directory: 'C:\\\\Users\\\\Nick\\\\AppData\\\\Local\\\\Temp\\\\tmpgv2hxcazwandb-media\\\\y60n37rw.table.json'\n"
     ]
    },
    {
     "name": "stderr",
     "output_type": "stream",
     "text": [
      " 91%|█████████ | 228/250 [1:08:45<05:26, 14.84s/it]"
     ]
    },
    {
     "name": "stdout",
     "output_type": "stream",
     "text": [
      "output.shape=torch.Size([2423, 8])\n",
      "[Errno 2] No such file or directory: 'C:\\\\Users\\\\Nick\\\\AppData\\\\Local\\\\Temp\\\\tmpgv2hxcazwandb-media\\\\5gtklc4n.table.json'\n",
      "output.shape=torch.Size([2833, 8])\n",
      "[Errno 2] No such file or directory: 'C:\\\\Users\\\\Nick\\\\AppData\\\\Local\\\\Temp\\\\tmpgv2hxcazwandb-media\\\\icmsz9h8.table.json'\n"
     ]
    },
    {
     "name": "stderr",
     "output_type": "stream",
     "text": [
      " 92%|█████████▏| 231/250 [1:09:36<04:38, 14.68s/it]"
     ]
    },
    {
     "name": "stdout",
     "output_type": "stream",
     "text": [
      "output.shape=torch.Size([2423, 8])\n",
      "[Errno 2] No such file or directory: 'C:\\\\Users\\\\Nick\\\\AppData\\\\Local\\\\Temp\\\\tmpgv2hxcazwandb-media\\\\ehlovkj5.table.json'\n",
      "output.shape=torch.Size([2833, 8])\n",
      "[Errno 2] No such file or directory: 'C:\\\\Users\\\\Nick\\\\AppData\\\\Local\\\\Temp\\\\tmpgv2hxcazwandb-media\\\\3apzki49.table.json'\n"
     ]
    },
    {
     "name": "stderr",
     "output_type": "stream",
     "text": [
      " 94%|█████████▎| 234/250 [1:10:29<04:00, 15.00s/it]"
     ]
    },
    {
     "name": "stdout",
     "output_type": "stream",
     "text": [
      "output.shape=torch.Size([2423, 8])\n",
      "[Errno 2] No such file or directory: 'C:\\\\Users\\\\Nick\\\\AppData\\\\Local\\\\Temp\\\\tmpgv2hxcazwandb-media\\\\ohpr02it.table.json'\n",
      "output.shape=torch.Size([2833, 8])\n",
      "[Errno 2] No such file or directory: 'C:\\\\Users\\\\Nick\\\\AppData\\\\Local\\\\Temp\\\\tmpgv2hxcazwandb-media\\\\zxw76chp.table.json'\n"
     ]
    },
    {
     "name": "stderr",
     "output_type": "stream",
     "text": [
      " 95%|█████████▍| 237/250 [1:11:20<03:12, 14.79s/it]"
     ]
    },
    {
     "name": "stdout",
     "output_type": "stream",
     "text": [
      "output.shape=torch.Size([2423, 8])\n",
      "[Errno 2] No such file or directory: 'C:\\\\Users\\\\Nick\\\\AppData\\\\Local\\\\Temp\\\\tmpgv2hxcazwandb-media\\\\zcq7jby3.table.json'\n",
      "output.shape=torch.Size([2833, 8])\n",
      "[Errno 2] No such file or directory: 'C:\\\\Users\\\\Nick\\\\AppData\\\\Local\\\\Temp\\\\tmpgv2hxcazwandb-media\\\\i18u2jq8.table.json'\n"
     ]
    },
    {
     "name": "stderr",
     "output_type": "stream",
     "text": [
      " 96%|█████████▌| 240/250 [1:12:13<02:30, 15.03s/it]"
     ]
    },
    {
     "name": "stdout",
     "output_type": "stream",
     "text": [
      "output.shape=torch.Size([2423, 8])\n",
      "[Errno 2] No such file or directory: 'C:\\\\Users\\\\Nick\\\\AppData\\\\Local\\\\Temp\\\\tmpgv2hxcazwandb-media\\\\wrhmrqn8.table.json'\n",
      "output.shape=torch.Size([2833, 8])\n",
      "[Errno 2] No such file or directory: 'C:\\\\Users\\\\Nick\\\\AppData\\\\Local\\\\Temp\\\\tmpgv2hxcazwandb-media\\\\lss0jd06.table.json'\n"
     ]
    },
    {
     "name": "stderr",
     "output_type": "stream",
     "text": [
      " 97%|█████████▋| 243/250 [1:13:05<01:43, 14.74s/it]"
     ]
    },
    {
     "name": "stdout",
     "output_type": "stream",
     "text": [
      "output.shape=torch.Size([2423, 8])\n",
      "[Errno 2] No such file or directory: 'C:\\\\Users\\\\Nick\\\\AppData\\\\Local\\\\Temp\\\\tmpgv2hxcazwandb-media\\\\li09hw0k.table.json'\n",
      "output.shape=torch.Size([2833, 8])\n",
      "[Errno 2] No such file or directory: 'C:\\\\Users\\\\Nick\\\\AppData\\\\Local\\\\Temp\\\\tmpgv2hxcazwandb-media\\\\xkt5dfr0.table.json'\n"
     ]
    },
    {
     "name": "stderr",
     "output_type": "stream",
     "text": [
      " 98%|█████████▊| 246/250 [1:13:56<00:58, 14.63s/it]"
     ]
    },
    {
     "name": "stdout",
     "output_type": "stream",
     "text": [
      "output.shape=torch.Size([2423, 8])\n",
      "[Errno 2] No such file or directory: 'C:\\\\Users\\\\Nick\\\\AppData\\\\Local\\\\Temp\\\\tmpgv2hxcazwandb-media\\\\1d6s5b75.table.json'\n",
      "output.shape=torch.Size([2833, 8])\n",
      "[Errno 2] No such file or directory: 'C:\\\\Users\\\\Nick\\\\AppData\\\\Local\\\\Temp\\\\tmpgv2hxcazwandb-media\\\\1g73jmyn.table.json'\n"
     ]
    },
    {
     "name": "stderr",
     "output_type": "stream",
     "text": [
      "100%|█████████▉| 249/250 [1:14:47<00:14, 14.63s/it]"
     ]
    },
    {
     "name": "stdout",
     "output_type": "stream",
     "text": [
      "output.shape=torch.Size([2423, 8])\n",
      "[Errno 2] No such file or directory: 'C:\\\\Users\\\\Nick\\\\AppData\\\\Local\\\\Temp\\\\tmpgv2hxcazwandb-media\\\\me69fkzh.table.json'\n",
      "output.shape=torch.Size([2833, 8])\n",
      "[Errno 2] No such file or directory: 'C:\\\\Users\\\\Nick\\\\AppData\\\\Local\\\\Temp\\\\tmpgv2hxcazwandb-media\\\\64229yth.table.json'\n"
     ]
    },
    {
     "name": "stderr",
     "output_type": "stream",
     "text": [
      "100%|██████████| 250/250 [1:15:19<00:00, 18.08s/it]\n"
     ]
    },
    {
     "data": {
      "application/vnd.jupyter.widget-view+json": {
       "model_id": "0766950eaaaf4c9bafac16584dedbd08",
       "version_major": 2,
       "version_minor": 0
      },
      "text/plain": [
       "VBox(children=(Label(value='79.520 MB of 79.520 MB uploaded\\r'), FloatProgress(value=1.0, max=1.0)))"
      ]
     },
     "metadata": {},
     "output_type": "display_data"
    },
    {
     "data": {
      "text/html": [
       "<style>\n",
       "    table.wandb td:nth-child(1) { padding: 0 10px; text-align: left ; width: auto;} td:nth-child(2) {text-align: left ; width: 100%}\n",
       "    .wandb-row { display: flex; flex-direction: row; flex-wrap: wrap; justify-content: flex-start; width: 100% }\n",
       "    .wandb-col { display: flex; flex-direction: column; flex-basis: 100%; flex: 1; padding: 10px; }\n",
       "    </style>\n",
       "<div class=\"wandb-row\"><div class=\"wandb-col\"><h3>Run history:</h3><br/><table class=\"wandb\"><tr><td>ROI < 30</td><td>▁▄▄▄▄▄▅▅▂▄▃▃▄▄▄▄▄▅▅▅▅▆█▇▇█▇▆▆▆▇▆▇▅▅▆▅▅▇▃</td></tr><tr><td>ROI < 30 2</td><td>▁▆▆▆▆▅█▇▂▅▃▄▅▅▅▅▅▅▅▄▃▅▇▅▆▇▆▅▆▆▇▆▆▅▅▅▅▄▇▃</td></tr><tr><td>accuracy</td><td>▁▁▁▁▁▂▄▆▇▇█████████▇▇▇▇▇▇▇▇▇▇▇▇▇▇▇▇▇▇▇▇▇</td></tr><tr><td>accuracy2</td><td>▁▁▁▁▁▂▄▆▇████████████████▇███▇▇██▇▇▇█▇▇▇</td></tr><tr><td>epoch</td><td>▁▁▁▁▂▂▂▂▂▂▃▃▃▃▃▄▄▄▄▄▄▅▅▅▅▅▆▆▆▆▆▆▇▇▇▇▇███</td></tr><tr><td>favorite_accuracy</td><td>▁▁▁▁▁▁▁▁▁▁▁▁▁▁▁▁▁▁▁▁▁▁▁▁▁▁▁▁▁▁▁▁▁▁▁▁▁▁▁▁</td></tr><tr><td>flat_simple</td><td>▇▇▇▇▇▁▃▅▄▅▅▆▅▅▃▄▅▄▅▄▃▆▅▆▄▆▆▇▆▇█▆▇▅▅▄▆▅▇▄</td></tr><tr><td>kelly roi</td><td>▁▂▂▂▃▄▇█▄▄▃▃▄▃▃▃▃▄▃▄▃▄▇▅▆▆▅▆▆▅▇▆▆▄▃▆▅▄▆▂</td></tr><tr><td>loss_1</td><td>██████▇▇▇▆▆▆▆▆▆▅▅▅▅▅▅▄▄▄▄▃▃▃▃▂▂▂▂▂▂▂▁▁▁▁</td></tr><tr><td>loss_bfsp</td><td>▁▁▁▁▁▁▁▁▁▁▁▁▁▁▁▁▁▁▁▁▁▁▁▁▁▁▁▁▁▁▁▁▁▁▁▁▁▁▁▁</td></tr><tr><td>loss_p</td><td>█████▇▆▅▃▃▂▂▂▁▁▁▁▁▁▁▁▁▁▁▁▂▂▂▂▂▂▂▂▂▃▂▂▃▂▃</td></tr><tr><td>loss_val</td><td>█████▇▆▅▃▃▂▂▂▁▁▁▁▁▁▁▁▁▁▁▂▂▂▂▂▂▂▃▃▃▃▃▃▃▃▃</td></tr><tr><td>multibet outlay < 30</td><td>▃▂▂▂▂▂▂▂▁▁▁▁▁▁▂▂▂▂▃▃▃▄▄▄▅▅▅▆▆▆▆▇▇▇█▇▇█▇█</td></tr><tr><td>multibet profit</td><td>▁▃▂▃▃▅██▂▂▁▁▂▂▁▁▁▂▂▂▂▃▅▄▄▅▄▅▅▅▆▆▆▄▃▆▅▅▆▂</td></tr><tr><td>multibet profit < 30</td><td>▁▃▃▃▃▃▄▄▂▃▂▂▃▃▃▃▃▄▄▄▄▆▇▆▇█▇▇▇▇█▇█▆▆▇▆▆█▄</td></tr><tr><td>multibet profit < 30 sd</td><td>▃▃▃▃▃▃▃▂▁▁▁▁▁▁▂▂▃▃▃▃▄▅▅▅▅▆▆▆▆▇▇▇█▇██████</td></tr><tr><td>mutual_info</td><td>▃▁▁▁▁▁▁▂▃▃▃▃▃▄▄▄▄▄▄▄▅▅▅▅▆▆▆▆▆▇▇▇▇▇█▇████</td></tr><tr><td>profit_relu</td><td>▁▃▂▄▄▅█▃▁▁▁▁▁▁▁▁▁▁▁▁▁▁▁▁▁▁▁▁▁▁▁▁▁▁▁▁▁▁▁▁</td></tr><tr><td>relu roi</td><td>▂▂▁▃▂▄█▅▃▃▂▂▃▂▁▁▁▂▁▂▁▂▃▂▂▄▃▃▃▃▃▃▄▃▂▃▃▃▄▂</td></tr><tr><td>val_ROI < 30</td><td>▃▃▃▃▃▂▂▃▁▂▂▂▂▁▁▂▂▃▃▃▃▅▆▄▃▄▄▆▆█▇█▆█▅▆▇▆▇▅</td></tr><tr><td>val_ROI < 30 2</td><td>▂▃▃▃▃▂▃▄▃▅▅▄▃▂▁▂▁▂▂▂▂▃▅▄▄▄▄▆▆▇▆█▆█▅▆▇▇▇▅</td></tr><tr><td>val_accuracy</td><td>▁▁▁▁▁▂▄▆▇████████████████▇███▇▇██▇▇▇█▇▇▇</td></tr><tr><td>val_flat_simple</td><td>▁▁▁▁▁▃▅▆▇█▇▇▇▆▆▆▆▆▆▆▅▆▆▇▆▆▆▇▇▇▆█▇██████▇</td></tr><tr><td>val_kelly roi</td><td>▁▂▁▁▁▁▂▂▂▂▂▃▃▃▃▄▄▄▅▅▅▆▆▆▆▆▆▇▇███▇█▇▇███▇</td></tr><tr><td>val_loss_bfsp</td><td>▁▁▁▁▁▁▁▁▁▁▁▁▁▁▁▁▁▁▁▁▁▁▁▁▁▁▁▁▁▁▁▁▁▁▁▁▁▁▁▁</td></tr><tr><td>val_loss_p</td><td>█████▇▆▅▃▃▂▂▂▁▁▁▁▁▁▁▁▁▁▁▁▂▂▂▂▂▂▂▂▂▃▂▃▃▂▃</td></tr><tr><td>val_loss_val</td><td>█████▇▆▅▄▃▂▂▂▂▁▁▁▁▁▁▁▁▁▁▁▂▂▂▂▂▂▂▂▂▃▃▃▃▃▃</td></tr><tr><td>val_multibet outlay < 30</td><td>▂▂▂▂▂▂▂▁▁▁▁▁▁▂▂▂▃▃▃▃▃▄▄▄▅▅▅▆▆▆▆▇▇▇█▇▇█▇█</td></tr><tr><td>val_multibet profit</td><td>▁▂▁▁▁▂▂▃▃▄▄▅▅▅▅▅▆▆▆▆▆▆▇▆▆▆▇▇▇█████▇▇███▇</td></tr><tr><td>val_multibet profit < 30</td><td>▂▃▃▃▃▂▂▃▁▂▂▂▂▁▁▂▂▂▂▂▂▄▅▃▃▃▄▅▆█▇█▆█▄▅▆▆▆▄</td></tr><tr><td>val_multibet profit < 30 sd</td><td>▃▃▃▃▂▂▂▂▁▁▁▁▁▁▁▂▂▂▂▂▃▃▃▄▄▅▄▅▆▆▆▇▇▇▇▇▇█▇█</td></tr><tr><td>val_mutual_info</td><td>▃▁▁▁▁▁▁▂▃▃▃▃▃▄▄▄▄▄▄▄▄▅▅▅▆▆▆▆▆▆▆▇▇▇█▇████</td></tr><tr><td>val_profit_relu</td><td>▇▁▁▂▂▄▄▆▇▇▇▇▇▇▇▇█▇██████████████████████</td></tr><tr><td>val_relu roi</td><td>▁▂▂▁▂▂▂▂▂▂▂▂▁▁▁▂▃▃▃▄▄▅▅▅▆▆▅▇▇▇█████▇████</td></tr><tr><td>valfavorite_accuracy</td><td>▁▁▁▁▁▁▁▁▁▁▁▁▁▁▁▁▁▁▁▁▁▁▁▁▁▁▁▁▁▁▁▁▁▁▁▁▁▁▁▁</td></tr></table><br/></div><div class=\"wandb-col\"><h3>Run summary:</h3><br/><table class=\"wandb\"><tr><td>ROI < 30 2</td><td>0.00744</td></tr><tr><td>accuracy2</td><td>0.30921</td></tr><tr><td>epoch</td><td>249</td></tr><tr><td>favorite_accuracy</td><td>0.38562</td></tr><tr><td>flat_simple</td><td>-92.68371</td></tr><tr><td>kelly roi</td><td>0.06086</td></tr><tr><td>loss_1</td><td>1.04018</td></tr><tr><td>loss_bfsp</td><td>1.945</td></tr><tr><td>loss_p</td><td>1.84354</td></tr><tr><td>multibet outlay < 30</td><td>50737.00984</td></tr><tr><td>multibet profit</td><td>3731.6196</td></tr><tr><td>multibet profit < 30</td><td>2741.89782</td></tr><tr><td>multibet profit < 30 sd</td><td>21.6788</td></tr><tr><td>mutual_info</td><td>0.07433</td></tr><tr><td>profit_relu</td><td>32476.11912</td></tr><tr><td>val_ROI < 30</td><td>-0.0195</td></tr><tr><td>val_ROI < 30 2</td><td>-0.02846</td></tr><tr><td>val_accuracy</td><td>0.30921</td></tr><tr><td>val_flat_simple</td><td>-76.54625</td></tr><tr><td>val_kelly roi</td><td>-0.05929</td></tr><tr><td>val_loss_bfsp</td><td>1.94131</td></tr><tr><td>val_loss_p</td><td>1.82333</td></tr><tr><td>val_loss_val</td><td>1.85543</td></tr><tr><td>val_multibet outlay < 30</td><td>47801.4872</td></tr><tr><td>val_multibet profit</td><td>-3620.6307</td></tr><tr><td>val_multibet profit < 30</td><td>-932.15775</td></tr><tr><td>val_multibet profit < 30 sd</td><td>22.55302</td></tr><tr><td>val_mutual_info</td><td>0.07466</td></tr><tr><td>val_profit_relu</td><td>-70709.22929</td></tr><tr><td>val_relu roi</td><td>-0.08631</td></tr><tr><td>valfavorite_accuracy</td><td>0.39215</td></tr></table><br/></div></div>"
      ],
      "text/plain": [
       "<IPython.core.display.HTML object>"
      ]
     },
     "metadata": {},
     "output_type": "display_data"
    },
    {
     "data": {
      "text/html": [
       " View run <strong style=\"color:#cdcd00\">fortuitous-festival-55</strong> at: <a href='https://wandb.ai/nickojelly/NEW%20GRU%20V7%20Reporting/runs/arrla66f' target=\"_blank\">https://wandb.ai/nickojelly/NEW%20GRU%20V7%20Reporting/runs/arrla66f</a><br/>Synced 5 W&B file(s), 360 media file(s), 448 artifact file(s) and 0 other file(s)"
      ],
      "text/plain": [
       "<IPython.core.display.HTML object>"
      ]
     },
     "metadata": {},
     "output_type": "display_data"
    },
    {
     "data": {
      "text/html": [
       "Find logs at: <code>.\\wandb\\run-20240211_235607-arrla66f\\logs</code>"
      ],
      "text/plain": [
       "<IPython.core.display.HTML object>"
      ]
     },
     "metadata": {},
     "output_type": "display_data"
    },
    {
     "data": {
      "text/html": [
       "wandb version 0.16.3 is available!  To upgrade, please run:\n",
       " $ pip install wandb --upgrade"
      ],
      "text/plain": [
       "<IPython.core.display.HTML object>"
      ]
     },
     "metadata": {},
     "output_type": "display_data"
    },
    {
     "data": {
      "text/html": [
       "Tracking run with wandb version 0.16.2"
      ],
      "text/plain": [
       "<IPython.core.display.HTML object>"
      ]
     },
     "metadata": {},
     "output_type": "display_data"
    },
    {
     "data": {
      "text/html": [
       "Run data is saved locally in <code>c:\\Users\\Nick\\Documents\\GitHub\\grvmodel\\python\\wandb\\run-20240212_011224-80id903l</code>"
      ],
      "text/plain": [
       "<IPython.core.display.HTML object>"
      ]
     },
     "metadata": {},
     "output_type": "display_data"
    },
    {
     "data": {
      "text/html": [
       "Syncing run <strong><a href='https://wandb.ai/nickojelly/NEW%20GRU%20V7%20Reporting/runs/80id903l' target=\"_blank\">auspicious-dragon-56</a></strong> to <a href='https://wandb.ai/nickojelly/NEW%20GRU%20V7%20Reporting' target=\"_blank\">Weights & Biases</a> (<a href='https://wandb.me/run' target=\"_blank\">docs</a>)<br/>"
      ],
      "text/plain": [
       "<IPython.core.display.HTML object>"
      ]
     },
     "metadata": {},
     "output_type": "display_data"
    },
    {
     "data": {
      "text/html": [
       " View project at <a href='https://wandb.ai/nickojelly/NEW%20GRU%20V7%20Reporting' target=\"_blank\">https://wandb.ai/nickojelly/NEW%20GRU%20V7%20Reporting</a>"
      ],
      "text/plain": [
       "<IPython.core.display.HTML object>"
      ]
     },
     "metadata": {},
     "output_type": "display_data"
    },
    {
     "data": {
      "text/html": [
       " View run at <a href='https://wandb.ai/nickojelly/NEW%20GRU%20V7%20Reporting/runs/80id903l' target=\"_blank\">https://wandb.ai/nickojelly/NEW%20GRU%20V7%20Reporting/runs/80id903l</a>"
      ],
      "text/plain": [
       "<IPython.core.display.HTML object>"
      ]
     },
     "metadata": {},
     "output_type": "display_data"
    },
    {
     "name": "stdout",
     "output_type": "stream",
     "text": [
      "{'hidden_size': 256, 'stats': ['inside', 'midfield', 'wide', 'weight', 'DogGrade', '_dist_last__1', '_box_last__1', '_speed_avg_1', '_split_speed_avg_1', '_split_margin_avg_1', '_margin_avg_1', '_margin_time_avg_1', '_RunHomeTime_1', '_run_home_speed_1', '_first_out_avg_1', '_pos_out_avg_1', '_post_change_avg_1', '_races_1', '_wins_1', '_wins_last_1', '_weight_', '_min_time_', '_min_split_time_', '_last_start_price', '_last_start_prob', 'dist_dist_last__10', 'dist_box_last__10', 'dist_speed_avg_10', 'dist_split_speed_avg_10', 'dist_split_margin_avg_10', 'dist_margin_avg_10', 'dist_margin_time_avg_10', 'dist_RunHomeTime_10', 'dist_run_home_speed_10', 'dist_first_out_avg_10', 'dist_pos_out_avg_10', 'dist_post_change_avg_10', 'dist_races_10', 'dist_wins_10', 'dist_wins_last_10', 'dist_weight_', 'dist_min_time_', 'dist_min_split_time_', 'dist_last_start_price', 'dist_last_start_prob', 'box_dist_last__10', 'box_box_last__10', 'box_speed_avg_10', 'box_split_speed_avg_10', 'box_split_margin_avg_10', 'box_margin_avg_10', 'box_margin_time_avg_10', 'box_RunHomeTime_10', 'box_run_home_speed_10', 'box_first_out_avg_10', 'box_pos_out_avg_10', 'box_post_change_avg_10', 'box_races_10', 'box_wins_10', 'box_wins_last_10', 'box_weight_', 'box_min_time_', 'box_min_split_time_', 'box_last_start_price', 'box_last_start_prob', 'track_box_dist_last__10', 'track_box_box_last__10', 'track_box_speed_avg_10', 'track_box_split_speed_avg_10', 'track_box_split_margin_avg_10', 'track_box_margin_avg_10', 'track_box_margin_time_avg_10', 'track_box_RunHomeTime_10', 'track_box_run_home_speed_10', 'track_box_first_out_avg_10', 'track_box_pos_out_avg_10', 'track_box_post_change_avg_10', 'track_box_races_10', 'track_box_wins_10', 'track_box_wins_last_10', 'track_box_weight_', 'track_box_min_time_', 'track_box_min_split_time_', 'track_box_last_start_price', 'track_box_last_start_prob', 'track_dist_dist_last__10', 'track_dist_box_last__10', 'track_dist_speed_avg_10', 'track_dist_split_speed_avg_10', 'track_dist_split_margin_avg_10', 'track_dist_margin_avg_10', 'track_dist_margin_time_avg_10', 'track_dist_RunHomeTime_10', 'track_dist_run_home_speed_10', 'track_dist_first_out_avg_10', 'track_dist_pos_out_avg_10', 'track_dist_post_change_avg_10', 'track_dist_races_10', 'track_dist_wins_10', 'track_dist_wins_last_10', 'track_dist_weight_', 'track_dist_min_time_', 'track_dist_min_split_time_', 'track_dist_last_start_price', 'track_dist_last_start_prob'], 'races': ['NZ'], 'datafile': './data/gru_inputs_kitchen_sink_new_not_simple.fth', 'latest_date': '2024-01-31T00:00:00', 'input_type': 'basic', 'num_layers': 2, 'batch_size': 750, 'dropout': 0.3, 'epochs': 250, 'learning_rate': 0.001, 'optimizer': 'adamW', 'f0_layer_size': 128, 'f1_layer_size': 64, 'training_date_end': '2023-01-01', 'notes': 'GRU, with basic add on data looped in', 'batch_days': 365, 'stat_list_dict': {'_dist_last__1': 1, '_box_last__1': 1, '_speed_avg_1': 1, '_split_speed_avg_1': 1, '_split_margin_avg_1': 1, '_margin_avg_1': 1, '_margin_time_avg_1': 1, '_RunHomeTime_1': 1, '_run_home_speed_1': 1, '_first_out_avg_1': 1, '_pos_out_avg_1': 1, '_post_change_avg_1': 1, '_races_1': 1, '_wins_1': 1, '_wins_last_1': 1, '_weight_': 1, '_min_time_': 1, '_min_split_time_': 1, '_last_start_price': 1, '_last_start_prob': 1}}\n",
      "250\n",
      "{'hidden_size': 256, 'stats': ['inside', 'midfield', 'wide', 'weight', 'DogGrade', '_dist_last__1', '_box_last__1', '_speed_avg_1', '_split_speed_avg_1', '_split_margin_avg_1', '_margin_avg_1', '_margin_time_avg_1', '_RunHomeTime_1', '_run_home_speed_1', '_first_out_avg_1', '_pos_out_avg_1', '_post_change_avg_1', '_races_1', '_wins_1', '_wins_last_1', '_weight_', '_min_time_', '_min_split_time_', '_last_start_price', '_last_start_prob', 'dist_dist_last__10', 'dist_box_last__10', 'dist_speed_avg_10', 'dist_split_speed_avg_10', 'dist_split_margin_avg_10', 'dist_margin_avg_10', 'dist_margin_time_avg_10', 'dist_RunHomeTime_10', 'dist_run_home_speed_10', 'dist_first_out_avg_10', 'dist_pos_out_avg_10', 'dist_post_change_avg_10', 'dist_races_10', 'dist_wins_10', 'dist_wins_last_10', 'dist_weight_', 'dist_min_time_', 'dist_min_split_time_', 'dist_last_start_price', 'dist_last_start_prob', 'box_dist_last__10', 'box_box_last__10', 'box_speed_avg_10', 'box_split_speed_avg_10', 'box_split_margin_avg_10', 'box_margin_avg_10', 'box_margin_time_avg_10', 'box_RunHomeTime_10', 'box_run_home_speed_10', 'box_first_out_avg_10', 'box_pos_out_avg_10', 'box_post_change_avg_10', 'box_races_10', 'box_wins_10', 'box_wins_last_10', 'box_weight_', 'box_min_time_', 'box_min_split_time_', 'box_last_start_price', 'box_last_start_prob', 'track_box_dist_last__10', 'track_box_box_last__10', 'track_box_speed_avg_10', 'track_box_split_speed_avg_10', 'track_box_split_margin_avg_10', 'track_box_margin_avg_10', 'track_box_margin_time_avg_10', 'track_box_RunHomeTime_10', 'track_box_run_home_speed_10', 'track_box_first_out_avg_10', 'track_box_pos_out_avg_10', 'track_box_post_change_avg_10', 'track_box_races_10', 'track_box_wins_10', 'track_box_wins_last_10', 'track_box_weight_', 'track_box_min_time_', 'track_box_min_split_time_', 'track_box_last_start_price', 'track_box_last_start_prob', 'track_dist_dist_last__10', 'track_dist_box_last__10', 'track_dist_speed_avg_10', 'track_dist_split_speed_avg_10', 'track_dist_split_margin_avg_10', 'track_dist_margin_avg_10', 'track_dist_margin_time_avg_10', 'track_dist_RunHomeTime_10', 'track_dist_run_home_speed_10', 'track_dist_first_out_avg_10', 'track_dist_pos_out_avg_10', 'track_dist_post_change_avg_10', 'track_dist_races_10', 'track_dist_wins_10', 'track_dist_wins_last_10', 'track_dist_weight_', 'track_dist_min_time_', 'track_dist_min_split_time_', 'track_dist_last_start_price', 'track_dist_last_start_prob'], 'races': ['NZ'], 'datafile': './data/gru_inputs_kitchen_sink_new_not_simple.fth', 'latest_date': '2024-01-31T00:00:00', 'input_type': 'basic', 'num_layers': 2, 'batch_size': 750, 'dropout': 0.3, 'epochs': 250, 'learning_rate': 0.001, 'optimizer': 'adamW', 'f0_layer_size': 128, 'f1_layer_size': 64, 'training_date_end': '2023-01-01', 'notes': 'GRU, with basic add on data looped in', 'batch_days': 365, 'stat_list_dict': {'_dist_last__1': 1, '_box_last__1': 1, '_speed_avg_1': 1, '_split_speed_avg_1': 1, '_split_margin_avg_1': 1, '_margin_avg_1': 1, '_margin_time_avg_1': 1, '_RunHomeTime_1': 1, '_run_home_speed_1': 1, '_first_out_avg_1': 1, '_pos_out_avg_1': 1, '_post_change_avg_1': 1, '_races_1': 1, '_wins_1': 1, '_wins_last_1': 1, '_weight_': 1, '_min_time_': 1, '_min_split_time_': 1, '_last_start_price': 1, '_last_start_prob': 1}}\n",
      "basic\n",
      "1\n",
      "1\n",
      "1\n",
      "1\n",
      "1\n",
      "1\n",
      "1\n",
      "1\n",
      "1\n",
      "1\n",
      "1\n",
      "1\n",
      "1\n",
      "1\n",
      "1\n",
      "1\n",
      "1\n",
      "1\n",
      "1\n",
      "1\n",
      "[1, 1, 1, 1, 1, 1, 1, 1, 1, 1, 1, 1, 1, 1, 1, 1, 1, 1, 1, 1]\n",
      "data_mask_size=26\n",
      "tensor([ True,  True,  True,  True,  True,  True,  True,  True,  True,  True,\n",
      "         True,  True,  True,  True,  True,  True,  True,  True,  True,  True,\n",
      "         True,  True,  True,  True,  True,  True, False, False, False, False,\n",
      "        False, False, False, False, False, False, False, False, False, False,\n",
      "        False, False, False, False, False, False, False, False, False, False,\n",
      "        False, False, False, False, False, False, False, False, False, False,\n",
      "        False, False, False, False, False, False, False, False, False, False,\n",
      "        False, False, False, False, False, False, False, False, False, False,\n",
      "        False, False, False, False, False, False, False, False, False, False,\n",
      "        False, False, False, False, False, False, False, False, False, False,\n",
      "        False, False, False, False, False, False], device='cuda:0')\n",
      "torch.Size([106])\n",
      "Train examples 15593, Test examples 2423, Val examples 2833\n"
     ]
    },
    {
     "name": "stderr",
     "output_type": "stream",
     "text": [
      "100%|██████████| 4028/4028 [00:00<00:00, 85928.48it/s]\n",
      "100%|██████████| 4029/4029 [00:02<00:00, 1831.72it/s]\n"
     ]
    },
    {
     "name": "stdout",
     "output_type": "stream",
     "text": [
      "[(datetime.date(2019, 12, 1), datetime.date(2020, 11, 30)), (datetime.date(2020, 11, 30), datetime.date(2021, 11, 30)), (datetime.date(2021, 11, 30), datetime.date(2022, 11, 30)), (datetime.date(2022, 11, 30), datetime.date(2022, 12, 31))]\n",
      "2020-11-30\n",
      "2021-11-30\n",
      "2022-11-30\n",
      "2022-12-31\n",
      "Train examples [5094, 5162, 4887, 447]\n"
     ]
    },
    {
     "name": "stderr",
     "output_type": "stream",
     "text": [
      "100%|██████████| 4028/4028 [00:01<00:00, 2095.38it/s]\n",
      "100%|██████████| 4028/4028 [00:01<00:00, 2045.45it/s]\n",
      "100%|██████████| 4028/4028 [00:01<00:00, 2198.01it/s]\n",
      "100%|██████████| 4028/4028 [00:00<00:00, 21889.57it/s]\n",
      "100%|██████████| 4/4 [00:05<00:00,  1.48s/it]\n"
     ]
    },
    {
     "name": "stdout",
     "output_type": "stream",
     "text": [
      "Train examples [1947, 1877, 1793, 941]\n",
      "Train examples [1947, 1877, 1793, 941]\n",
      "Train examples [5094, 5162, 4887, 447]\n",
      "Train examples [5094, 5162, 4887, 447]\n",
      "here\n",
      "input_size=26\n"
     ]
    },
    {
     "name": "stderr",
     "output_type": "stream",
     "text": [
      "C:\\Users\\Nick\\AppData\\Local\\Temp\\ipykernel_14848\\3542074422.py:70: UserWarning: To copy construct from a tensor, it is recommended to use sourceTensor.clone().detach() or sourceTensor.clone().detach().requires_grad_(True), rather than torch.tensor(sourceTensor).\n",
      "  config['stat_mask_tensor'] = torch.tensor(stat_mask, dtype=torch.uint8).to(device)\n",
      "c:\\Users\\Nick\\.conda\\envs\\python311\\Lib\\site-packages\\torch\\nn\\modules\\lazy.py:180: UserWarning: Lazy modules are a new feature under heavy development so changes to the API or functionality can happen at any moment.\n",
      "  warnings.warn('Lazy modules are a new feature under heavy development '\n"
     ]
    },
    {
     "name": "stdout",
     "output_type": "stream",
     "text": [
      "GRUNetv3_extra(\n",
      "  (gru): GRU(26, 256, num_layers=2, dropout=0.3)\n",
      "  (relu): ReLU()\n",
      "  (fc0): Linear(in_features=2630, out_features=2048, bias=True)\n",
      "  (batch_norm): BatchNorm1d(26, eps=1e-05, momentum=0.1, affine=True, track_running_stats=True)\n",
      "  (batch_norm_data): BatchNorm1d(26, eps=1e-05, momentum=0.1, affine=True, track_running_stats=True)\n",
      "  (extra_1): GRUNetv3_simple_extra_data(\n",
      "    (batch_norm): LazyBatchNorm1d(0, eps=1e-05, momentum=0.1, affine=True, track_running_stats=True)\n",
      "    (relu): ReLU()\n",
      "    (fc0_p1): LazyLinear(in_features=0, out_features=128, bias=True)\n",
      "    (fc0_p1_drop): Dropout(p=0.3, inplace=False)\n",
      "    (fc0_p2): Linear(in_features=128, out_features=64, bias=True)\n",
      "    (fc0_p2_drop): Dropout(p=0.3, inplace=False)\n",
      "    (fc0_p3): Linear(in_features=64, out_features=64, bias=True)\n",
      "    (fc0_p3_drop): Dropout(p=0.3, inplace=False)\n",
      "  )\n",
      "  (fc0_p1): Linear(in_features=512, out_features=256, bias=True)\n",
      "  (fc0_p1_drop): Dropout(p=0.3, inplace=False)\n",
      "  (fc0_p2): Linear(in_features=256, out_features=256, bias=True)\n",
      "  (fc0_p2_drop): Dropout(p=0.3, inplace=False)\n",
      "  (fc0_p3): Linear(in_features=256, out_features=256, bias=True)\n",
      "  (fc0_p3_drop): Dropout(p=0.3, inplace=False)\n",
      "  (relu0): ReLU()\n",
      "  (drop1): Dropout(p=0.3, inplace=False)\n",
      "  (fc1): Linear(in_features=2048, out_features=1024, bias=True)\n",
      "  (drop2): Dropout(p=0.3, inplace=False)\n",
      "  (fc2): Linear(in_features=1024, out_features=64, bias=True)\n",
      "  (drop3): Dropout(p=0.3, inplace=False)\n",
      "  (fc3): Linear(in_features=64, out_features=8, bias=True)\n",
      "  (output_fn): Identity()\n",
      ")\n"
     ]
    },
    {
     "name": "stderr",
     "output_type": "stream",
     "text": [
      "  0%|          | 0/250 [00:00<?, ?it/s]"
     ]
    },
    {
     "name": "stdout",
     "output_type": "stream",
     "text": [
      "output.shape=torch.Size([2423, 8])\n",
      "[Errno 2] No such file or directory: 'C:\\\\Users\\\\Nick\\\\AppData\\\\Local\\\\Temp\\\\tmpgv2hxcazwandb-media\\\\n3iox1zj.table.json'\n",
      "output.shape=torch.Size([2833, 8])\n",
      "[Errno 2] No such file or directory: 'C:\\\\Users\\\\Nick\\\\AppData\\\\Local\\\\Temp\\\\tmpgv2hxcazwandb-media\\\\k95x2a3n.table.json'\n",
      "created path\n"
     ]
    },
    {
     "name": "stderr",
     "output_type": "stream",
     "text": [
      "  1%|          | 3/250 [01:00<1:12:17, 17.56s/it]"
     ]
    },
    {
     "name": "stdout",
     "output_type": "stream",
     "text": [
      "output.shape=torch.Size([2423, 8])\n",
      "[Errno 2] No such file or directory: 'C:\\\\Users\\\\Nick\\\\AppData\\\\Local\\\\Temp\\\\tmpgv2hxcazwandb-media\\\\zfvtgh5n.table.json'\n",
      "output.shape=torch.Size([2833, 8])\n",
      "[Errno 2] No such file or directory: 'C:\\\\Users\\\\Nick\\\\AppData\\\\Local\\\\Temp\\\\tmpgv2hxcazwandb-media\\\\x7mcraa9.table.json'\n"
     ]
    },
    {
     "name": "stderr",
     "output_type": "stream",
     "text": [
      "  2%|▏         | 6/250 [02:03<1:13:23, 18.05s/it]"
     ]
    },
    {
     "name": "stdout",
     "output_type": "stream",
     "text": [
      "output.shape=torch.Size([2423, 8])\n",
      "[Errno 2] No such file or directory: 'C:\\\\Users\\\\Nick\\\\AppData\\\\Local\\\\Temp\\\\tmpgv2hxcazwandb-media\\\\gt4b4oyv.table.json'\n",
      "output.shape=torch.Size([2833, 8])\n",
      "[Errno 2] No such file or directory: 'C:\\\\Users\\\\Nick\\\\AppData\\\\Local\\\\Temp\\\\tmpgv2hxcazwandb-media\\\\u24s0l1d.table.json'\n"
     ]
    },
    {
     "name": "stderr",
     "output_type": "stream",
     "text": [
      "  4%|▎         | 9/250 [03:04<1:11:18, 17.75s/it]"
     ]
    },
    {
     "name": "stdout",
     "output_type": "stream",
     "text": [
      "output.shape=torch.Size([2423, 8])\n",
      "[Errno 2] No such file or directory: 'C:\\\\Users\\\\Nick\\\\AppData\\\\Local\\\\Temp\\\\tmpgv2hxcazwandb-media\\\\ro4blzb3.table.json'\n",
      "output.shape=torch.Size([2833, 8])\n",
      "[Errno 2] No such file or directory: 'C:\\\\Users\\\\Nick\\\\AppData\\\\Local\\\\Temp\\\\tmpgv2hxcazwandb-media\\\\62qihpmt.table.json'\n"
     ]
    },
    {
     "name": "stderr",
     "output_type": "stream",
     "text": [
      "  5%|▍         | 12/250 [04:04<1:09:53, 17.62s/it]"
     ]
    },
    {
     "name": "stdout",
     "output_type": "stream",
     "text": [
      "output.shape=torch.Size([2423, 8])\n",
      "[Errno 2] No such file or directory: 'C:\\\\Users\\\\Nick\\\\AppData\\\\Local\\\\Temp\\\\tmpgv2hxcazwandb-media\\\\fq9cyrl6.table.json'\n",
      "output.shape=torch.Size([2833, 8])\n",
      "[Errno 2] No such file or directory: 'C:\\\\Users\\\\Nick\\\\AppData\\\\Local\\\\Temp\\\\tmpgv2hxcazwandb-media\\\\jtse0il9.table.json'\n"
     ]
    },
    {
     "name": "stderr",
     "output_type": "stream",
     "text": [
      "  6%|▌         | 15/250 [05:04<1:08:40, 17.54s/it]"
     ]
    },
    {
     "name": "stdout",
     "output_type": "stream",
     "text": [
      "output.shape=torch.Size([2423, 8])\n",
      "[Errno 2] No such file or directory: 'C:\\\\Users\\\\Nick\\\\AppData\\\\Local\\\\Temp\\\\tmpgv2hxcazwandb-media\\\\e0pr1b71.table.json'\n",
      "output.shape=torch.Size([2833, 8])\n",
      "[Errno 2] No such file or directory: 'C:\\\\Users\\\\Nick\\\\AppData\\\\Local\\\\Temp\\\\tmpgv2hxcazwandb-media\\\\9am72k6w.table.json'\n"
     ]
    },
    {
     "name": "stderr",
     "output_type": "stream",
     "text": [
      "  7%|▋         | 18/250 [06:05<1:07:56, 17.57s/it]"
     ]
    },
    {
     "name": "stdout",
     "output_type": "stream",
     "text": [
      "output.shape=torch.Size([2423, 8])\n",
      "[Errno 2] No such file or directory: 'C:\\\\Users\\\\Nick\\\\AppData\\\\Local\\\\Temp\\\\tmpgv2hxcazwandb-media\\\\1vdh38yb.table.json'\n",
      "output.shape=torch.Size([2833, 8])\n",
      "[Errno 2] No such file or directory: 'C:\\\\Users\\\\Nick\\\\AppData\\\\Local\\\\Temp\\\\tmpgv2hxcazwandb-media\\\\1wjoegaf.table.json'\n"
     ]
    },
    {
     "name": "stderr",
     "output_type": "stream",
     "text": [
      "  8%|▊         | 21/250 [07:06<1:07:26, 17.67s/it]"
     ]
    },
    {
     "name": "stdout",
     "output_type": "stream",
     "text": [
      "output.shape=torch.Size([2423, 8])\n",
      "[Errno 2] No such file or directory: 'C:\\\\Users\\\\Nick\\\\AppData\\\\Local\\\\Temp\\\\tmpgv2hxcazwandb-media\\\\q3clo16g.table.json'\n",
      "output.shape=torch.Size([2833, 8])\n",
      "[Errno 2] No such file or directory: 'C:\\\\Users\\\\Nick\\\\AppData\\\\Local\\\\Temp\\\\tmpgv2hxcazwandb-media\\\\ntigmned.table.json'\n"
     ]
    },
    {
     "name": "stderr",
     "output_type": "stream",
     "text": [
      " 10%|▉         | 24/250 [08:06<1:06:03, 17.54s/it]"
     ]
    },
    {
     "name": "stdout",
     "output_type": "stream",
     "text": [
      "output.shape=torch.Size([2423, 8])\n",
      "[Errno 2] No such file or directory: 'C:\\\\Users\\\\Nick\\\\AppData\\\\Local\\\\Temp\\\\tmpgv2hxcazwandb-media\\\\6vuzeqwi.table.json'\n",
      "output.shape=torch.Size([2833, 8])\n",
      "[Errno 2] No such file or directory: 'C:\\\\Users\\\\Nick\\\\AppData\\\\Local\\\\Temp\\\\tmpgv2hxcazwandb-media\\\\i6lk66rr.table.json'\n"
     ]
    },
    {
     "name": "stderr",
     "output_type": "stream",
     "text": [
      " 11%|█         | 27/250 [09:06<1:05:05, 17.51s/it]"
     ]
    },
    {
     "name": "stdout",
     "output_type": "stream",
     "text": [
      "output.shape=torch.Size([2423, 8])\n",
      "[Errno 2] No such file or directory: 'C:\\\\Users\\\\Nick\\\\AppData\\\\Local\\\\Temp\\\\tmpgv2hxcazwandb-media\\\\gvz5hipo.table.json'\n",
      "output.shape=torch.Size([2833, 8])\n",
      "[Errno 2] No such file or directory: 'C:\\\\Users\\\\Nick\\\\AppData\\\\Local\\\\Temp\\\\tmpgv2hxcazwandb-media\\\\x4c9as2o.table.json'\n"
     ]
    },
    {
     "name": "stderr",
     "output_type": "stream",
     "text": [
      " 12%|█▏        | 30/250 [10:06<1:04:12, 17.51s/it]"
     ]
    },
    {
     "name": "stdout",
     "output_type": "stream",
     "text": [
      "output.shape=torch.Size([2423, 8])\n",
      "[Errno 2] No such file or directory: 'C:\\\\Users\\\\Nick\\\\AppData\\\\Local\\\\Temp\\\\tmpgv2hxcazwandb-media\\\\qpl8lno8.table.json'\n",
      "output.shape=torch.Size([2833, 8])\n",
      "[Errno 2] No such file or directory: 'C:\\\\Users\\\\Nick\\\\AppData\\\\Local\\\\Temp\\\\tmpgv2hxcazwandb-media\\\\95q59m70.table.json'\n"
     ]
    },
    {
     "name": "stderr",
     "output_type": "stream",
     "text": [
      " 13%|█▎        | 33/250 [11:06<1:03:27, 17.55s/it]"
     ]
    },
    {
     "name": "stdout",
     "output_type": "stream",
     "text": [
      "output.shape=torch.Size([2423, 8])\n",
      "[Errno 2] No such file or directory: 'C:\\\\Users\\\\Nick\\\\AppData\\\\Local\\\\Temp\\\\tmpgv2hxcazwandb-media\\\\q2cpg207.table.json'\n",
      "output.shape=torch.Size([2833, 8])\n",
      "[Errno 2] No such file or directory: 'C:\\\\Users\\\\Nick\\\\AppData\\\\Local\\\\Temp\\\\tmpgv2hxcazwandb-media\\\\ppazq0pn.table.json'\n"
     ]
    },
    {
     "name": "stderr",
     "output_type": "stream",
     "text": [
      " 14%|█▍        | 36/250 [12:07<1:02:35, 17.55s/it]"
     ]
    },
    {
     "name": "stdout",
     "output_type": "stream",
     "text": [
      "output.shape=torch.Size([2423, 8])\n",
      "[Errno 2] No such file or directory: 'C:\\\\Users\\\\Nick\\\\AppData\\\\Local\\\\Temp\\\\tmpgv2hxcazwandb-media\\\\5opd0m4l.table.json'\n",
      "output.shape=torch.Size([2833, 8])\n",
      "[Errno 2] No such file or directory: 'C:\\\\Users\\\\Nick\\\\AppData\\\\Local\\\\Temp\\\\tmpgv2hxcazwandb-media\\\\icyyxvv0.table.json'\n"
     ]
    },
    {
     "name": "stderr",
     "output_type": "stream",
     "text": [
      " 16%|█▌        | 39/250 [13:07<1:01:42, 17.55s/it]"
     ]
    },
    {
     "name": "stdout",
     "output_type": "stream",
     "text": [
      "output.shape=torch.Size([2423, 8])\n",
      "[Errno 2] No such file or directory: 'C:\\\\Users\\\\Nick\\\\AppData\\\\Local\\\\Temp\\\\tmpgv2hxcazwandb-media\\\\9f6py08k.table.json'\n",
      "output.shape=torch.Size([2833, 8])\n",
      "[Errno 2] No such file or directory: 'C:\\\\Users\\\\Nick\\\\AppData\\\\Local\\\\Temp\\\\tmpgv2hxcazwandb-media\\\\9jsrc017.table.json'\n"
     ]
    },
    {
     "name": "stderr",
     "output_type": "stream",
     "text": [
      " 17%|█▋        | 42/250 [14:08<1:00:48, 17.54s/it]"
     ]
    },
    {
     "name": "stdout",
     "output_type": "stream",
     "text": [
      "output.shape=torch.Size([2423, 8])\n",
      "[Errno 2] No such file or directory: 'C:\\\\Users\\\\Nick\\\\AppData\\\\Local\\\\Temp\\\\tmpgv2hxcazwandb-media\\\\ymdm6j7b.table.json'\n",
      "output.shape=torch.Size([2833, 8])\n",
      "[Errno 2] No such file or directory: 'C:\\\\Users\\\\Nick\\\\AppData\\\\Local\\\\Temp\\\\tmpgv2hxcazwandb-media\\\\l45e4hn1.table.json'\n"
     ]
    },
    {
     "name": "stderr",
     "output_type": "stream",
     "text": [
      " 18%|█▊        | 45/250 [15:08<59:46, 17.49s/it]  "
     ]
    },
    {
     "name": "stdout",
     "output_type": "stream",
     "text": [
      "output.shape=torch.Size([2423, 8])\n",
      "[Errno 2] No such file or directory: 'C:\\\\Users\\\\Nick\\\\AppData\\\\Local\\\\Temp\\\\tmpgv2hxcazwandb-media\\\\1ql8m1ay.table.json'\n",
      "output.shape=torch.Size([2833, 8])\n",
      "[Errno 2] No such file or directory: 'C:\\\\Users\\\\Nick\\\\AppData\\\\Local\\\\Temp\\\\tmpgv2hxcazwandb-media\\\\laqb4hw4.table.json'\n"
     ]
    },
    {
     "name": "stderr",
     "output_type": "stream",
     "text": [
      " 19%|█▉        | 48/250 [16:08<59:06, 17.56s/it]  "
     ]
    },
    {
     "name": "stdout",
     "output_type": "stream",
     "text": [
      "output.shape=torch.Size([2423, 8])\n",
      "[Errno 2] No such file or directory: 'C:\\\\Users\\\\Nick\\\\AppData\\\\Local\\\\Temp\\\\tmpgv2hxcazwandb-media\\\\9h8nfcxu.table.json'\n",
      "output.shape=torch.Size([2833, 8])\n",
      "[Errno 2] No such file or directory: 'C:\\\\Users\\\\Nick\\\\AppData\\\\Local\\\\Temp\\\\tmpgv2hxcazwandb-media\\\\eu45mvk1.table.json'\n"
     ]
    },
    {
     "name": "stderr",
     "output_type": "stream",
     "text": [
      " 20%|██        | 51/250 [17:08<58:12, 17.55s/it]  "
     ]
    },
    {
     "name": "stdout",
     "output_type": "stream",
     "text": [
      "output.shape=torch.Size([2423, 8])\n",
      "[Errno 2] No such file or directory: 'C:\\\\Users\\\\Nick\\\\AppData\\\\Local\\\\Temp\\\\tmpgv2hxcazwandb-media\\\\3agynl90.table.json'\n",
      "output.shape=torch.Size([2833, 8])\n",
      "[Errno 2] No such file or directory: 'C:\\\\Users\\\\Nick\\\\AppData\\\\Local\\\\Temp\\\\tmpgv2hxcazwandb-media\\\\aodlieen.table.json'\n"
     ]
    },
    {
     "name": "stderr",
     "output_type": "stream",
     "text": [
      " 22%|██▏       | 54/250 [18:09<57:11, 17.51s/it]  "
     ]
    },
    {
     "name": "stdout",
     "output_type": "stream",
     "text": [
      "output.shape=torch.Size([2423, 8])\n",
      "[Errno 2] No such file or directory: 'C:\\\\Users\\\\Nick\\\\AppData\\\\Local\\\\Temp\\\\tmpgv2hxcazwandb-media\\\\n66rc7lb.table.json'\n",
      "output.shape=torch.Size([2833, 8])\n",
      "[Errno 2] No such file or directory: 'C:\\\\Users\\\\Nick\\\\AppData\\\\Local\\\\Temp\\\\tmpgv2hxcazwandb-media\\\\uaq7q9hr.table.json'\n"
     ]
    },
    {
     "name": "stderr",
     "output_type": "stream",
     "text": [
      " 23%|██▎       | 57/250 [19:09<56:28, 17.56s/it]  "
     ]
    },
    {
     "name": "stdout",
     "output_type": "stream",
     "text": [
      "output.shape=torch.Size([2423, 8])\n",
      "[Errno 2] No such file or directory: 'C:\\\\Users\\\\Nick\\\\AppData\\\\Local\\\\Temp\\\\tmpgv2hxcazwandb-media\\\\4qk7beju.table.json'\n",
      "output.shape=torch.Size([2833, 8])\n",
      "[Errno 2] No such file or directory: 'C:\\\\Users\\\\Nick\\\\AppData\\\\Local\\\\Temp\\\\tmpgv2hxcazwandb-media\\\\zw35tq7k.table.json'\n"
     ]
    },
    {
     "name": "stderr",
     "output_type": "stream",
     "text": [
      " 24%|██▍       | 60/250 [20:09<55:30, 17.53s/it]  "
     ]
    },
    {
     "name": "stdout",
     "output_type": "stream",
     "text": [
      "output.shape=torch.Size([2423, 8])\n",
      "[Errno 2] No such file or directory: 'C:\\\\Users\\\\Nick\\\\AppData\\\\Local\\\\Temp\\\\tmpgv2hxcazwandb-media\\\\wrviqesq.table.json'\n",
      "output.shape=torch.Size([2833, 8])\n",
      "[Errno 2] No such file or directory: 'C:\\\\Users\\\\Nick\\\\AppData\\\\Local\\\\Temp\\\\tmpgv2hxcazwandb-media\\\\nkojamf4.table.json'\n"
     ]
    },
    {
     "name": "stderr",
     "output_type": "stream",
     "text": [
      " 25%|██▌       | 63/250 [21:10<55:11, 17.71s/it]  "
     ]
    },
    {
     "name": "stdout",
     "output_type": "stream",
     "text": [
      "output.shape=torch.Size([2423, 8])\n",
      "[Errno 2] No such file or directory: 'C:\\\\Users\\\\Nick\\\\AppData\\\\Local\\\\Temp\\\\tmpgv2hxcazwandb-media\\\\ltge73ia.table.json'\n",
      "output.shape=torch.Size([2833, 8])\n",
      "[Errno 2] No such file or directory: 'C:\\\\Users\\\\Nick\\\\AppData\\\\Local\\\\Temp\\\\tmpgv2hxcazwandb-media\\\\m88pyj1n.table.json'\n"
     ]
    },
    {
     "name": "stderr",
     "output_type": "stream",
     "text": [
      " 26%|██▋       | 66/250 [22:11<54:02, 17.62s/it]  "
     ]
    },
    {
     "name": "stdout",
     "output_type": "stream",
     "text": [
      "output.shape=torch.Size([2423, 8])\n",
      "[Errno 2] No such file or directory: 'C:\\\\Users\\\\Nick\\\\AppData\\\\Local\\\\Temp\\\\tmpgv2hxcazwandb-media\\\\z7a1l1z9.table.json'\n",
      "output.shape=torch.Size([2833, 8])\n",
      "[Errno 2] No such file or directory: 'C:\\\\Users\\\\Nick\\\\AppData\\\\Local\\\\Temp\\\\tmpgv2hxcazwandb-media\\\\hhdxbtju.table.json'\n"
     ]
    },
    {
     "name": "stderr",
     "output_type": "stream",
     "text": [
      " 28%|██▊       | 69/250 [23:11<53:06, 17.60s/it]  "
     ]
    },
    {
     "name": "stdout",
     "output_type": "stream",
     "text": [
      "output.shape=torch.Size([2423, 8])\n",
      "[Errno 2] No such file or directory: 'C:\\\\Users\\\\Nick\\\\AppData\\\\Local\\\\Temp\\\\tmpgv2hxcazwandb-media\\\\ea5j2mw3.table.json'\n",
      "output.shape=torch.Size([2833, 8])\n",
      "[Errno 2] No such file or directory: 'C:\\\\Users\\\\Nick\\\\AppData\\\\Local\\\\Temp\\\\tmpgv2hxcazwandb-media\\\\2fddpmf4.table.json'\n"
     ]
    },
    {
     "name": "stderr",
     "output_type": "stream",
     "text": [
      " 29%|██▉       | 72/250 [24:12<52:06, 17.57s/it]  "
     ]
    },
    {
     "name": "stdout",
     "output_type": "stream",
     "text": [
      "output.shape=torch.Size([2423, 8])\n",
      "[Errno 2] No such file or directory: 'C:\\\\Users\\\\Nick\\\\AppData\\\\Local\\\\Temp\\\\tmpgv2hxcazwandb-media\\\\kq067gxn.table.json'\n",
      "output.shape=torch.Size([2833, 8])\n",
      "[Errno 2] No such file or directory: 'C:\\\\Users\\\\Nick\\\\AppData\\\\Local\\\\Temp\\\\tmpgv2hxcazwandb-media\\\\cv3x5zde.table.json'\n"
     ]
    },
    {
     "name": "stderr",
     "output_type": "stream",
     "text": [
      " 30%|███       | 75/250 [25:12<51:05, 17.52s/it]  "
     ]
    },
    {
     "name": "stdout",
     "output_type": "stream",
     "text": [
      "output.shape=torch.Size([2423, 8])\n",
      "[Errno 2] No such file or directory: 'C:\\\\Users\\\\Nick\\\\AppData\\\\Local\\\\Temp\\\\tmpgv2hxcazwandb-media\\\\u57quzql.table.json'\n",
      "output.shape=torch.Size([2833, 8])\n",
      "[Errno 2] No such file or directory: 'C:\\\\Users\\\\Nick\\\\AppData\\\\Local\\\\Temp\\\\tmpgv2hxcazwandb-media\\\\u9j7x5mp.table.json'\n"
     ]
    },
    {
     "name": "stderr",
     "output_type": "stream",
     "text": [
      " 31%|███       | 78/250 [26:12<50:06, 17.48s/it]  "
     ]
    },
    {
     "name": "stdout",
     "output_type": "stream",
     "text": [
      "output.shape=torch.Size([2423, 8])\n",
      "[Errno 2] No such file or directory: 'C:\\\\Users\\\\Nick\\\\AppData\\\\Local\\\\Temp\\\\tmpgv2hxcazwandb-media\\\\hmlflcp0.table.json'\n",
      "output.shape=torch.Size([2833, 8])\n",
      "[Errno 2] No such file or directory: 'C:\\\\Users\\\\Nick\\\\AppData\\\\Local\\\\Temp\\\\tmpgv2hxcazwandb-media\\\\x0csjpjr.table.json'\n"
     ]
    },
    {
     "name": "stderr",
     "output_type": "stream",
     "text": [
      " 32%|███▏      | 81/250 [27:13<49:39, 17.63s/it]  "
     ]
    },
    {
     "name": "stdout",
     "output_type": "stream",
     "text": [
      "output.shape=torch.Size([2423, 8])\n",
      "[Errno 2] No such file or directory: 'C:\\\\Users\\\\Nick\\\\AppData\\\\Local\\\\Temp\\\\tmpgv2hxcazwandb-media\\\\i5c4k2n9.table.json'\n",
      "output.shape=torch.Size([2833, 8])\n",
      "[Errno 2] No such file or directory: 'C:\\\\Users\\\\Nick\\\\AppData\\\\Local\\\\Temp\\\\tmpgv2hxcazwandb-media\\\\zysw1by9.table.json'\n"
     ]
    },
    {
     "name": "stderr",
     "output_type": "stream",
     "text": [
      " 34%|███▎      | 84/250 [28:13<48:41, 17.60s/it]  "
     ]
    },
    {
     "name": "stdout",
     "output_type": "stream",
     "text": [
      "output.shape=torch.Size([2423, 8])\n",
      "[Errno 2] No such file or directory: 'C:\\\\Users\\\\Nick\\\\AppData\\\\Local\\\\Temp\\\\tmpgv2hxcazwandb-media\\\\42n0hyaa.table.json'\n",
      "output.shape=torch.Size([2833, 8])\n",
      "[Errno 2] No such file or directory: 'C:\\\\Users\\\\Nick\\\\AppData\\\\Local\\\\Temp\\\\tmpgv2hxcazwandb-media\\\\yvn9puly.table.json'\n"
     ]
    },
    {
     "name": "stderr",
     "output_type": "stream",
     "text": [
      " 35%|███▍      | 87/250 [29:14<48:00, 17.67s/it]  "
     ]
    },
    {
     "name": "stdout",
     "output_type": "stream",
     "text": [
      "output.shape=torch.Size([2423, 8])\n",
      "[Errno 2] No such file or directory: 'C:\\\\Users\\\\Nick\\\\AppData\\\\Local\\\\Temp\\\\tmpgv2hxcazwandb-media\\\\45qhnfwz.table.json'\n",
      "output.shape=torch.Size([2833, 8])\n",
      "[Errno 2] No such file or directory: 'C:\\\\Users\\\\Nick\\\\AppData\\\\Local\\\\Temp\\\\tmpgv2hxcazwandb-media\\\\2a3sh8jm.table.json'\n"
     ]
    },
    {
     "name": "stderr",
     "output_type": "stream",
     "text": [
      " 36%|███▌      | 90/250 [30:14<46:55, 17.60s/it]  "
     ]
    },
    {
     "name": "stdout",
     "output_type": "stream",
     "text": [
      "output.shape=torch.Size([2423, 8])\n",
      "[Errno 2] No such file or directory: 'C:\\\\Users\\\\Nick\\\\AppData\\\\Local\\\\Temp\\\\tmpgv2hxcazwandb-media\\\\84ryy9y3.table.json'\n",
      "output.shape=torch.Size([2833, 8])\n",
      "[Errno 2] No such file or directory: 'C:\\\\Users\\\\Nick\\\\AppData\\\\Local\\\\Temp\\\\tmpgv2hxcazwandb-media\\\\75eaoetg.table.json'\n"
     ]
    },
    {
     "name": "stderr",
     "output_type": "stream",
     "text": [
      " 37%|███▋      | 93/250 [31:15<45:53, 17.54s/it]  "
     ]
    },
    {
     "name": "stdout",
     "output_type": "stream",
     "text": [
      "output.shape=torch.Size([2423, 8])\n",
      "[Errno 2] No such file or directory: 'C:\\\\Users\\\\Nick\\\\AppData\\\\Local\\\\Temp\\\\tmpgv2hxcazwandb-media\\\\bnkobv0b.table.json'\n",
      "output.shape=torch.Size([2833, 8])\n",
      "[Errno 2] No such file or directory: 'C:\\\\Users\\\\Nick\\\\AppData\\\\Local\\\\Temp\\\\tmpgv2hxcazwandb-media\\\\w3t45vyo.table.json'\n"
     ]
    },
    {
     "name": "stderr",
     "output_type": "stream",
     "text": [
      " 38%|███▊      | 96/250 [32:15<44:59, 17.53s/it]"
     ]
    },
    {
     "name": "stdout",
     "output_type": "stream",
     "text": [
      "output.shape=torch.Size([2423, 8])\n",
      "[Errno 2] No such file or directory: 'C:\\\\Users\\\\Nick\\\\AppData\\\\Local\\\\Temp\\\\tmpgv2hxcazwandb-media\\\\zned58ud.table.json'\n",
      "output.shape=torch.Size([2833, 8])\n",
      "[Errno 2] No such file or directory: 'C:\\\\Users\\\\Nick\\\\AppData\\\\Local\\\\Temp\\\\tmpgv2hxcazwandb-media\\\\wzs3tqia.table.json'\n"
     ]
    },
    {
     "name": "stderr",
     "output_type": "stream",
     "text": [
      " 40%|███▉      | 99/250 [33:15<44:06, 17.53s/it]"
     ]
    },
    {
     "name": "stdout",
     "output_type": "stream",
     "text": [
      "output.shape=torch.Size([2423, 8])\n",
      "[Errno 2] No such file or directory: 'C:\\\\Users\\\\Nick\\\\AppData\\\\Local\\\\Temp\\\\tmpgv2hxcazwandb-media\\\\6jatvvdy.table.json'\n",
      "output.shape=torch.Size([2833, 8])\n",
      "[Errno 2] No such file or directory: 'C:\\\\Users\\\\Nick\\\\AppData\\\\Local\\\\Temp\\\\tmpgv2hxcazwandb-media\\\\7fiewd2m.table.json'\n"
     ]
    },
    {
     "name": "stderr",
     "output_type": "stream",
     "text": [
      " 41%|████      | 102/250 [34:16<43:25, 17.61s/it]"
     ]
    },
    {
     "name": "stdout",
     "output_type": "stream",
     "text": [
      "output.shape=torch.Size([2423, 8])\n",
      "[Errno 2] No such file or directory: 'C:\\\\Users\\\\Nick\\\\AppData\\\\Local\\\\Temp\\\\tmpgv2hxcazwandb-media\\\\0tzvaswj.table.json'\n",
      "output.shape=torch.Size([2833, 8])\n",
      "[Errno 2] No such file or directory: 'C:\\\\Users\\\\Nick\\\\AppData\\\\Local\\\\Temp\\\\tmpgv2hxcazwandb-media\\\\fb8rjiv8.table.json'\n"
     ]
    },
    {
     "name": "stderr",
     "output_type": "stream",
     "text": [
      " 42%|████▏     | 105/250 [35:16<42:35, 17.62s/it]"
     ]
    },
    {
     "name": "stdout",
     "output_type": "stream",
     "text": [
      "output.shape=torch.Size([2423, 8])\n",
      "[Errno 2] No such file or directory: 'C:\\\\Users\\\\Nick\\\\AppData\\\\Local\\\\Temp\\\\tmpgv2hxcazwandb-media\\\\xz8ae9wz.table.json'\n",
      "output.shape=torch.Size([2833, 8])\n",
      "[Errno 2] No such file or directory: 'C:\\\\Users\\\\Nick\\\\AppData\\\\Local\\\\Temp\\\\tmpgv2hxcazwandb-media\\\\zvlv4mdg.table.json'\n"
     ]
    },
    {
     "name": "stderr",
     "output_type": "stream",
     "text": [
      " 43%|████▎     | 108/250 [36:17<41:38, 17.59s/it]"
     ]
    },
    {
     "name": "stdout",
     "output_type": "stream",
     "text": [
      "output.shape=torch.Size([2423, 8])\n",
      "[Errno 2] No such file or directory: 'C:\\\\Users\\\\Nick\\\\AppData\\\\Local\\\\Temp\\\\tmpgv2hxcazwandb-media\\\\1w80zvxa.table.json'\n",
      "output.shape=torch.Size([2833, 8])\n",
      "[Errno 2] No such file or directory: 'C:\\\\Users\\\\Nick\\\\AppData\\\\Local\\\\Temp\\\\tmpgv2hxcazwandb-media\\\\yvv4yqtc.table.json'\n"
     ]
    },
    {
     "name": "stderr",
     "output_type": "stream",
     "text": [
      " 44%|████▍     | 111/250 [37:17<40:38, 17.55s/it]"
     ]
    },
    {
     "name": "stdout",
     "output_type": "stream",
     "text": [
      "output.shape=torch.Size([2423, 8])\n",
      "[Errno 2] No such file or directory: 'C:\\\\Users\\\\Nick\\\\AppData\\\\Local\\\\Temp\\\\tmpgv2hxcazwandb-media\\\\5tsw6sw0.table.json'\n",
      "output.shape=torch.Size([2833, 8])\n",
      "[Errno 2] No such file or directory: 'C:\\\\Users\\\\Nick\\\\AppData\\\\Local\\\\Temp\\\\tmpgv2hxcazwandb-media\\\\ylflboec.table.json'\n"
     ]
    },
    {
     "name": "stderr",
     "output_type": "stream",
     "text": [
      " 46%|████▌     | 114/250 [38:18<39:54, 17.61s/it]"
     ]
    },
    {
     "name": "stdout",
     "output_type": "stream",
     "text": [
      "output.shape=torch.Size([2423, 8])\n",
      "[Errno 2] No such file or directory: 'C:\\\\Users\\\\Nick\\\\AppData\\\\Local\\\\Temp\\\\tmpgv2hxcazwandb-media\\\\s8g60bsq.table.json'\n",
      "output.shape=torch.Size([2833, 8])\n",
      "[Errno 2] No such file or directory: 'C:\\\\Users\\\\Nick\\\\AppData\\\\Local\\\\Temp\\\\tmpgv2hxcazwandb-media\\\\7d9uos62.table.json'\n"
     ]
    },
    {
     "name": "stderr",
     "output_type": "stream",
     "text": [
      " 47%|████▋     | 117/250 [39:18<38:51, 17.53s/it]"
     ]
    },
    {
     "name": "stdout",
     "output_type": "stream",
     "text": [
      "output.shape=torch.Size([2423, 8])\n",
      "[Errno 2] No such file or directory: 'C:\\\\Users\\\\Nick\\\\AppData\\\\Local\\\\Temp\\\\tmpgv2hxcazwandb-media\\\\b9qp0r87.table.json'\n",
      "output.shape=torch.Size([2833, 8])\n",
      "[Errno 2] No such file or directory: 'C:\\\\Users\\\\Nick\\\\AppData\\\\Local\\\\Temp\\\\tmpgv2hxcazwandb-media\\\\0qafc2pe.table.json'\n"
     ]
    },
    {
     "name": "stderr",
     "output_type": "stream",
     "text": [
      " 48%|████▊     | 120/250 [40:18<37:56, 17.51s/it]"
     ]
    },
    {
     "name": "stdout",
     "output_type": "stream",
     "text": [
      "output.shape=torch.Size([2423, 8])\n",
      "[Errno 2] No such file or directory: 'C:\\\\Users\\\\Nick\\\\AppData\\\\Local\\\\Temp\\\\tmpgv2hxcazwandb-media\\\\55692s33.table.json'\n",
      "output.shape=torch.Size([2833, 8])\n",
      "[Errno 2] No such file or directory: 'C:\\\\Users\\\\Nick\\\\AppData\\\\Local\\\\Temp\\\\tmpgv2hxcazwandb-media\\\\udiuqzyc.table.json'\n"
     ]
    },
    {
     "name": "stderr",
     "output_type": "stream",
     "text": [
      " 49%|████▉     | 123/250 [41:19<37:25, 17.68s/it]"
     ]
    },
    {
     "name": "stdout",
     "output_type": "stream",
     "text": [
      "output.shape=torch.Size([2423, 8])\n",
      "[Errno 2] No such file or directory: 'C:\\\\Users\\\\Nick\\\\AppData\\\\Local\\\\Temp\\\\tmpgv2hxcazwandb-media\\\\5268vnzj.table.json'\n",
      "output.shape=torch.Size([2833, 8])\n",
      "[Errno 2] No such file or directory: 'C:\\\\Users\\\\Nick\\\\AppData\\\\Local\\\\Temp\\\\tmpgv2hxcazwandb-media\\\\md90tdu5.table.json'\n"
     ]
    },
    {
     "name": "stderr",
     "output_type": "stream",
     "text": [
      " 50%|█████     | 126/250 [42:20<36:17, 17.56s/it]"
     ]
    },
    {
     "name": "stdout",
     "output_type": "stream",
     "text": [
      "output.shape=torch.Size([2423, 8])\n",
      "[Errno 2] No such file or directory: 'C:\\\\Users\\\\Nick\\\\AppData\\\\Local\\\\Temp\\\\tmpgv2hxcazwandb-media\\\\r74b0350.table.json'\n",
      "output.shape=torch.Size([2833, 8])\n",
      "[Errno 2] No such file or directory: 'C:\\\\Users\\\\Nick\\\\AppData\\\\Local\\\\Temp\\\\tmpgv2hxcazwandb-media\\\\dl0w01rh.table.json'\n"
     ]
    },
    {
     "name": "stderr",
     "output_type": "stream",
     "text": [
      " 52%|█████▏    | 129/250 [43:20<35:25, 17.56s/it]"
     ]
    },
    {
     "name": "stdout",
     "output_type": "stream",
     "text": [
      "output.shape=torch.Size([2423, 8])\n",
      "[Errno 2] No such file or directory: 'C:\\\\Users\\\\Nick\\\\AppData\\\\Local\\\\Temp\\\\tmpgv2hxcazwandb-media\\\\113pvnj0.table.json'\n",
      "output.shape=torch.Size([2833, 8])\n",
      "[Errno 2] No such file or directory: 'C:\\\\Users\\\\Nick\\\\AppData\\\\Local\\\\Temp\\\\tmpgv2hxcazwandb-media\\\\jaocrgo3.table.json'\n"
     ]
    },
    {
     "name": "stderr",
     "output_type": "stream",
     "text": [
      " 53%|█████▎    | 132/250 [44:20<34:35, 17.59s/it]"
     ]
    },
    {
     "name": "stdout",
     "output_type": "stream",
     "text": [
      "output.shape=torch.Size([2423, 8])\n",
      "[Errno 2] No such file or directory: 'C:\\\\Users\\\\Nick\\\\AppData\\\\Local\\\\Temp\\\\tmpgv2hxcazwandb-media\\\\2tg7mtih.table.json'\n",
      "output.shape=torch.Size([2833, 8])\n",
      "[Errno 2] No such file or directory: 'C:\\\\Users\\\\Nick\\\\AppData\\\\Local\\\\Temp\\\\tmpgv2hxcazwandb-media\\\\9z210bpz.table.json'\n"
     ]
    },
    {
     "name": "stderr",
     "output_type": "stream",
     "text": [
      " 54%|█████▍    | 135/250 [45:21<33:46, 17.62s/it]"
     ]
    },
    {
     "name": "stdout",
     "output_type": "stream",
     "text": [
      "output.shape=torch.Size([2423, 8])\n",
      "[Errno 2] No such file or directory: 'C:\\\\Users\\\\Nick\\\\AppData\\\\Local\\\\Temp\\\\tmpgv2hxcazwandb-media\\\\5vgfqqw0.table.json'\n",
      "output.shape=torch.Size([2833, 8])\n",
      "[Errno 2] No such file or directory: 'C:\\\\Users\\\\Nick\\\\AppData\\\\Local\\\\Temp\\\\tmpgv2hxcazwandb-media\\\\tsi6pc90.table.json'\n"
     ]
    },
    {
     "name": "stderr",
     "output_type": "stream",
     "text": [
      " 55%|█████▌    | 138/250 [46:21<32:39, 17.49s/it]"
     ]
    },
    {
     "name": "stdout",
     "output_type": "stream",
     "text": [
      "output.shape=torch.Size([2423, 8])\n",
      "[Errno 2] No such file or directory: 'C:\\\\Users\\\\Nick\\\\AppData\\\\Local\\\\Temp\\\\tmpgv2hxcazwandb-media\\\\5rswml33.table.json'\n",
      "output.shape=torch.Size([2833, 8])\n",
      "[Errno 2] No such file or directory: 'C:\\\\Users\\\\Nick\\\\AppData\\\\Local\\\\Temp\\\\tmpgv2hxcazwandb-media\\\\md150mvm.table.json'\n"
     ]
    },
    {
     "name": "stderr",
     "output_type": "stream",
     "text": [
      " 56%|█████▋    | 141/250 [47:22<31:59, 17.61s/it]"
     ]
    },
    {
     "name": "stdout",
     "output_type": "stream",
     "text": [
      "output.shape=torch.Size([2423, 8])\n",
      "[Errno 2] No such file or directory: 'C:\\\\Users\\\\Nick\\\\AppData\\\\Local\\\\Temp\\\\tmpgv2hxcazwandb-media\\\\1lze8sex.table.json'\n",
      "output.shape=torch.Size([2833, 8])\n",
      "[Errno 2] No such file or directory: 'C:\\\\Users\\\\Nick\\\\AppData\\\\Local\\\\Temp\\\\tmpgv2hxcazwandb-media\\\\p7veb0va.table.json'\n"
     ]
    },
    {
     "name": "stderr",
     "output_type": "stream",
     "text": [
      " 58%|█████▊    | 144/250 [48:22<31:07, 17.62s/it]"
     ]
    },
    {
     "name": "stdout",
     "output_type": "stream",
     "text": [
      "output.shape=torch.Size([2423, 8])\n",
      "[Errno 2] No such file or directory: 'C:\\\\Users\\\\Nick\\\\AppData\\\\Local\\\\Temp\\\\tmpgv2hxcazwandb-media\\\\q7fmm7rl.table.json'\n",
      "output.shape=torch.Size([2833, 8])\n",
      "[Errno 2] No such file or directory: 'C:\\\\Users\\\\Nick\\\\AppData\\\\Local\\\\Temp\\\\tmpgv2hxcazwandb-media\\\\dbw5em05.table.json'\n"
     ]
    },
    {
     "name": "stderr",
     "output_type": "stream",
     "text": [
      " 59%|█████▉    | 147/250 [49:23<30:11, 17.59s/it]"
     ]
    },
    {
     "name": "stdout",
     "output_type": "stream",
     "text": [
      "output.shape=torch.Size([2423, 8])\n",
      "[Errno 2] No such file or directory: 'C:\\\\Users\\\\Nick\\\\AppData\\\\Local\\\\Temp\\\\tmpgv2hxcazwandb-media\\\\4nz7b4m2.table.json'\n",
      "output.shape=torch.Size([2833, 8])\n",
      "[Errno 2] No such file or directory: 'C:\\\\Users\\\\Nick\\\\AppData\\\\Local\\\\Temp\\\\tmpgv2hxcazwandb-media\\\\gh4sse9p.table.json'\n"
     ]
    },
    {
     "name": "stderr",
     "output_type": "stream",
     "text": [
      " 60%|██████    | 150/250 [50:23<29:25, 17.65s/it]"
     ]
    },
    {
     "name": "stdout",
     "output_type": "stream",
     "text": [
      "output.shape=torch.Size([2423, 8])\n",
      "[Errno 2] No such file or directory: 'C:\\\\Users\\\\Nick\\\\AppData\\\\Local\\\\Temp\\\\tmpgv2hxcazwandb-media\\\\loze81pq.table.json'\n",
      "output.shape=torch.Size([2833, 8])\n",
      "[Errno 2] No such file or directory: 'C:\\\\Users\\\\Nick\\\\AppData\\\\Local\\\\Temp\\\\tmpgv2hxcazwandb-media\\\\28pnb0jq.table.json'\n"
     ]
    },
    {
     "name": "stderr",
     "output_type": "stream",
     "text": [
      " 61%|██████    | 153/250 [51:24<28:26, 17.59s/it]"
     ]
    },
    {
     "name": "stdout",
     "output_type": "stream",
     "text": [
      "output.shape=torch.Size([2423, 8])\n",
      "[Errno 2] No such file or directory: 'C:\\\\Users\\\\Nick\\\\AppData\\\\Local\\\\Temp\\\\tmpgv2hxcazwandb-media\\\\2jy2ze6g.table.json'\n",
      "output.shape=torch.Size([2833, 8])\n",
      "[Errno 2] No such file or directory: 'C:\\\\Users\\\\Nick\\\\AppData\\\\Local\\\\Temp\\\\tmpgv2hxcazwandb-media\\\\ikoaphyw.table.json'\n"
     ]
    },
    {
     "name": "stderr",
     "output_type": "stream",
     "text": [
      " 62%|██████▏   | 156/250 [52:24<27:36, 17.62s/it]"
     ]
    },
    {
     "name": "stdout",
     "output_type": "stream",
     "text": [
      "output.shape=torch.Size([2423, 8])\n",
      "[Errno 2] No such file or directory: 'C:\\\\Users\\\\Nick\\\\AppData\\\\Local\\\\Temp\\\\tmpgv2hxcazwandb-media\\\\wr69njra.table.json'\n",
      "output.shape=torch.Size([2833, 8])\n",
      "[Errno 2] No such file or directory: 'C:\\\\Users\\\\Nick\\\\AppData\\\\Local\\\\Temp\\\\tmpgv2hxcazwandb-media\\\\vyskiula.table.json'\n"
     ]
    },
    {
     "name": "stderr",
     "output_type": "stream",
     "text": [
      " 64%|██████▎   | 159/250 [53:25<26:39, 17.58s/it]"
     ]
    },
    {
     "name": "stdout",
     "output_type": "stream",
     "text": [
      "output.shape=torch.Size([2423, 8])\n",
      "[Errno 2] No such file or directory: 'C:\\\\Users\\\\Nick\\\\AppData\\\\Local\\\\Temp\\\\tmpgv2hxcazwandb-media\\\\7bka9z3s.table.json'\n",
      "output.shape=torch.Size([2833, 8])\n",
      "[Errno 2] No such file or directory: 'C:\\\\Users\\\\Nick\\\\AppData\\\\Local\\\\Temp\\\\tmpgv2hxcazwandb-media\\\\1qal9rrd.table.json'\n"
     ]
    },
    {
     "name": "stderr",
     "output_type": "stream",
     "text": [
      " 65%|██████▍   | 162/250 [54:25<25:50, 17.62s/it]"
     ]
    },
    {
     "name": "stdout",
     "output_type": "stream",
     "text": [
      "output.shape=torch.Size([2423, 8])\n",
      "[Errno 2] No such file or directory: 'C:\\\\Users\\\\Nick\\\\AppData\\\\Local\\\\Temp\\\\tmpgv2hxcazwandb-media\\\\jiqieefq.table.json'\n",
      "output.shape=torch.Size([2833, 8])\n",
      "[Errno 2] No such file or directory: 'C:\\\\Users\\\\Nick\\\\AppData\\\\Local\\\\Temp\\\\tmpgv2hxcazwandb-media\\\\alel2efs.table.json'\n"
     ]
    },
    {
     "name": "stderr",
     "output_type": "stream",
     "text": [
      " 66%|██████▌   | 165/250 [55:26<24:58, 17.63s/it]"
     ]
    },
    {
     "name": "stdout",
     "output_type": "stream",
     "text": [
      "output.shape=torch.Size([2423, 8])\n",
      "[Errno 2] No such file or directory: 'C:\\\\Users\\\\Nick\\\\AppData\\\\Local\\\\Temp\\\\tmpgv2hxcazwandb-media\\\\yawevknv.table.json'\n",
      "output.shape=torch.Size([2833, 8])\n",
      "[Errno 2] No such file or directory: 'C:\\\\Users\\\\Nick\\\\AppData\\\\Local\\\\Temp\\\\tmpgv2hxcazwandb-media\\\\4b5t6g62.table.json'\n"
     ]
    },
    {
     "name": "stderr",
     "output_type": "stream",
     "text": [
      " 67%|██████▋   | 168/250 [56:26<24:00, 17.56s/it]"
     ]
    },
    {
     "name": "stdout",
     "output_type": "stream",
     "text": [
      "output.shape=torch.Size([2423, 8])\n",
      "[Errno 2] No such file or directory: 'C:\\\\Users\\\\Nick\\\\AppData\\\\Local\\\\Temp\\\\tmpgv2hxcazwandb-media\\\\g9l403qz.table.json'\n",
      "output.shape=torch.Size([2833, 8])\n",
      "[Errno 2] No such file or directory: 'C:\\\\Users\\\\Nick\\\\AppData\\\\Local\\\\Temp\\\\tmpgv2hxcazwandb-media\\\\joi57d5n.table.json'\n"
     ]
    },
    {
     "name": "stderr",
     "output_type": "stream",
     "text": [
      " 68%|██████▊   | 171/250 [57:27<23:10, 17.61s/it]"
     ]
    },
    {
     "name": "stdout",
     "output_type": "stream",
     "text": [
      "output.shape=torch.Size([2423, 8])\n",
      "[Errno 2] No such file or directory: 'C:\\\\Users\\\\Nick\\\\AppData\\\\Local\\\\Temp\\\\tmpgv2hxcazwandb-media\\\\bpxdmetk.table.json'\n",
      "output.shape=torch.Size([2833, 8])\n",
      "[Errno 2] No such file or directory: 'C:\\\\Users\\\\Nick\\\\AppData\\\\Local\\\\Temp\\\\tmpgv2hxcazwandb-media\\\\wy94zq0i.table.json'\n"
     ]
    },
    {
     "name": "stderr",
     "output_type": "stream",
     "text": [
      " 70%|██████▉   | 174/250 [58:27<22:10, 17.51s/it]"
     ]
    },
    {
     "name": "stdout",
     "output_type": "stream",
     "text": [
      "output.shape=torch.Size([2423, 8])\n",
      "[Errno 2] No such file or directory: 'C:\\\\Users\\\\Nick\\\\AppData\\\\Local\\\\Temp\\\\tmpgv2hxcazwandb-media\\\\18r2xo3z.table.json'\n",
      "output.shape=torch.Size([2833, 8])\n",
      "[Errno 2] No such file or directory: 'C:\\\\Users\\\\Nick\\\\AppData\\\\Local\\\\Temp\\\\tmpgv2hxcazwandb-media\\\\grdal3ro.table.json'\n"
     ]
    },
    {
     "name": "stderr",
     "output_type": "stream",
     "text": [
      " 71%|███████   | 177/250 [59:27<21:18, 17.51s/it]"
     ]
    },
    {
     "name": "stdout",
     "output_type": "stream",
     "text": [
      "output.shape=torch.Size([2423, 8])\n",
      "[Errno 2] No such file or directory: 'C:\\\\Users\\\\Nick\\\\AppData\\\\Local\\\\Temp\\\\tmpgv2hxcazwandb-media\\\\pt0kybfa.table.json'\n",
      "output.shape=torch.Size([2833, 8])\n",
      "[Errno 2] No such file or directory: 'C:\\\\Users\\\\Nick\\\\AppData\\\\Local\\\\Temp\\\\tmpgv2hxcazwandb-media\\\\hiwkijzn.table.json'\n"
     ]
    },
    {
     "name": "stderr",
     "output_type": "stream",
     "text": [
      " 72%|███████▏  | 180/250 [1:00:27<20:31, 17.59s/it]"
     ]
    },
    {
     "name": "stdout",
     "output_type": "stream",
     "text": [
      "output.shape=torch.Size([2423, 8])\n",
      "[Errno 2] No such file or directory: 'C:\\\\Users\\\\Nick\\\\AppData\\\\Local\\\\Temp\\\\tmpgv2hxcazwandb-media\\\\wgq4utf3.table.json'\n",
      "output.shape=torch.Size([2833, 8])\n",
      "[Errno 2] No such file or directory: 'C:\\\\Users\\\\Nick\\\\AppData\\\\Local\\\\Temp\\\\tmpgv2hxcazwandb-media\\\\z3o3txq3.table.json'\n"
     ]
    },
    {
     "name": "stderr",
     "output_type": "stream",
     "text": [
      " 73%|███████▎  | 183/250 [1:01:28<19:38, 17.59s/it]"
     ]
    },
    {
     "name": "stdout",
     "output_type": "stream",
     "text": [
      "output.shape=torch.Size([2423, 8])\n",
      "[Errno 2] No such file or directory: 'C:\\\\Users\\\\Nick\\\\AppData\\\\Local\\\\Temp\\\\tmpgv2hxcazwandb-media\\\\fjdwknuj.table.json'\n",
      "output.shape=torch.Size([2833, 8])\n",
      "[Errno 2] No such file or directory: 'C:\\\\Users\\\\Nick\\\\AppData\\\\Local\\\\Temp\\\\tmpgv2hxcazwandb-media\\\\0tp7muvf.table.json'\n"
     ]
    },
    {
     "name": "stderr",
     "output_type": "stream",
     "text": [
      " 74%|███████▍  | 186/250 [1:02:30<19:01, 17.83s/it]"
     ]
    },
    {
     "name": "stdout",
     "output_type": "stream",
     "text": [
      "output.shape=torch.Size([2423, 8])\n",
      "[Errno 2] No such file or directory: 'C:\\\\Users\\\\Nick\\\\AppData\\\\Local\\\\Temp\\\\tmpgv2hxcazwandb-media\\\\hjph34t5.table.json'\n",
      "output.shape=torch.Size([2833, 8])\n",
      "[Errno 2] No such file or directory: 'C:\\\\Users\\\\Nick\\\\AppData\\\\Local\\\\Temp\\\\tmpgv2hxcazwandb-media\\\\aq78hal6.table.json'\n"
     ]
    },
    {
     "name": "stderr",
     "output_type": "stream",
     "text": [
      " 76%|███████▌  | 189/250 [1:03:33<18:19, 18.03s/it]"
     ]
    },
    {
     "name": "stdout",
     "output_type": "stream",
     "text": [
      "output.shape=torch.Size([2423, 8])\n",
      "[Errno 2] No such file or directory: 'C:\\\\Users\\\\Nick\\\\AppData\\\\Local\\\\Temp\\\\tmpgv2hxcazwandb-media\\\\nqmo2mml.table.json'\n",
      "output.shape=torch.Size([2833, 8])\n",
      "[Errno 2] No such file or directory: 'C:\\\\Users\\\\Nick\\\\AppData\\\\Local\\\\Temp\\\\tmpgv2hxcazwandb-media\\\\y68ycsh5.table.json'\n"
     ]
    },
    {
     "name": "stderr",
     "output_type": "stream",
     "text": [
      " 77%|███████▋  | 192/250 [1:04:33<17:10, 17.76s/it]"
     ]
    },
    {
     "name": "stdout",
     "output_type": "stream",
     "text": [
      "output.shape=torch.Size([2423, 8])\n",
      "[Errno 2] No such file or directory: 'C:\\\\Users\\\\Nick\\\\AppData\\\\Local\\\\Temp\\\\tmpgv2hxcazwandb-media\\\\1m14jrfr.table.json'\n",
      "output.shape=torch.Size([2833, 8])\n",
      "[Errno 2] No such file or directory: 'C:\\\\Users\\\\Nick\\\\AppData\\\\Local\\\\Temp\\\\tmpgv2hxcazwandb-media\\\\hmh9lxex.table.json'\n"
     ]
    },
    {
     "name": "stderr",
     "output_type": "stream",
     "text": [
      " 78%|███████▊  | 195/250 [1:05:34<16:11, 17.66s/it]"
     ]
    },
    {
     "name": "stdout",
     "output_type": "stream",
     "text": [
      "output.shape=torch.Size([2423, 8])\n",
      "[Errno 2] No such file or directory: 'C:\\\\Users\\\\Nick\\\\AppData\\\\Local\\\\Temp\\\\tmpgv2hxcazwandb-media\\\\b2rfbl2q.table.json'\n",
      "output.shape=torch.Size([2833, 8])\n",
      "[Errno 2] No such file or directory: 'C:\\\\Users\\\\Nick\\\\AppData\\\\Local\\\\Temp\\\\tmpgv2hxcazwandb-media\\\\ms0amhyn.table.json'\n"
     ]
    },
    {
     "name": "stderr",
     "output_type": "stream",
     "text": [
      " 79%|███████▉  | 198/250 [1:06:34<15:14, 17.58s/it]"
     ]
    },
    {
     "name": "stdout",
     "output_type": "stream",
     "text": [
      "output.shape=torch.Size([2423, 8])\n",
      "[Errno 2] No such file or directory: 'C:\\\\Users\\\\Nick\\\\AppData\\\\Local\\\\Temp\\\\tmpgv2hxcazwandb-media\\\\p0yb5ibx.table.json'\n",
      "output.shape=torch.Size([2833, 8])\n",
      "[Errno 2] No such file or directory: 'C:\\\\Users\\\\Nick\\\\AppData\\\\Local\\\\Temp\\\\tmpgv2hxcazwandb-media\\\\naq8vwgv.table.json'\n"
     ]
    },
    {
     "name": "stderr",
     "output_type": "stream",
     "text": [
      " 80%|████████  | 200/250 [1:07:35<16:53, 20.28s/it]\n",
      "Traceback (most recent call last):\n",
      "  File \"c:\\Users\\Nick\\.conda\\envs\\python311\\Lib\\site-packages\\torch\\serialization.py\", line 619, in save\n",
      "    _save(obj, opened_zipfile, pickle_module, pickle_protocol, _disable_byteorder_record)\n",
      "  File \"c:\\Users\\Nick\\.conda\\envs\\python311\\Lib\\site-packages\\torch\\serialization.py\", line 853, in _save\n",
      "    zip_file.write_record(name, storage.data_ptr(), num_bytes)\n",
      "RuntimeError: [enforce fail at inline_container.cc:593] . PytorchStreamWriter failed writing file data/61: file write failed\n",
      "\n",
      "During handling of the above exception, another exception occurred:\n",
      "\n",
      "Traceback (most recent call last):\n",
      "  File \"C:\\Users\\Nick\\AppData\\Local\\Temp\\ipykernel_14848\\3542074422.py\", line 103, in model_pipeline\n",
      "    training_testing_gru_extra_data.train_double_v3(model, dataset, criterion, optimizer, 'na', config)\n",
      "  File \"c:\\Users\\Nick\\Documents\\GitHub\\grvmodel\\python\\rnn_tools\\training_testing_gru_extra_data.py\", line 240, in train_double_v3\n",
      "    model_saver_wandb(model, optimizer, epoch, 0.1, raceDB.hidden_states_dict_gru_v6, raceDB.train_hidden_dict, model_name=\"long nsw new  22000 RUN\")\n",
      "  File \"c:\\Users\\Nick\\Documents\\GitHub\\grvmodel\\python\\rnn_tools\\model_saver.py\", line 92, in model_saver_wandb\n",
      "    torch.save(\n",
      "  File \"c:\\Users\\Nick\\.conda\\envs\\python311\\Lib\\site-packages\\torch\\serialization.py\", line 618, in save\n",
      "    with _open_zipfile_writer(f) as opened_zipfile:\n",
      "  File \"c:\\Users\\Nick\\.conda\\envs\\python311\\Lib\\site-packages\\torch\\serialization.py\", line 466, in __exit__\n",
      "    self.file_like.write_end_of_file()\n",
      "RuntimeError: [enforce fail at inline_container.cc:424] . unexpected pos 44138048 vs 44137940\n"
     ]
    },
    {
     "data": {
      "application/vnd.jupyter.widget-view+json": {
       "model_id": "2b640d49be97416b843e7d04a8658a3c",
       "version_major": 2,
       "version_minor": 0
      },
      "text/plain": [
       "VBox(children=(Label(value='1.319 MB of 1.319 MB uploaded\\r'), FloatProgress(value=1.0, max=1.0)))"
      ]
     },
     "metadata": {},
     "output_type": "display_data"
    },
    {
     "data": {
      "text/html": [
       "<style>\n",
       "    table.wandb td:nth-child(1) { padding: 0 10px; text-align: left ; width: auto;} td:nth-child(2) {text-align: left ; width: 100%}\n",
       "    .wandb-row { display: flex; flex-direction: row; flex-wrap: wrap; justify-content: flex-start; width: 100% }\n",
       "    .wandb-col { display: flex; flex-direction: column; flex-basis: 100%; flex: 1; padding: 10px; }\n",
       "    </style>\n",
       "<div class=\"wandb-row\"><div class=\"wandb-col\"><h3>Run history:</h3><br/><table class=\"wandb\"><tr><td>ROI < 30</td><td>▃▃▃▃▃▃▃▃▂▃▄▄▃▄▆▄▄▄▅▅███▆▁▄▄▅█▄▁▄▅▃▇▇▃▂▂▄</td></tr><tr><td>ROI < 30 2</td><td>▄▅▅▄▄▅▄▆▄▄▅▆▅▆▇▅▅▆▆▆██▇▆▂▄▅▄▆▄▁▄▆▃▆▄▄▃▃▄</td></tr><tr><td>accuracy</td><td>▁▁▁▁▃▇████████████▇██▇██▇▇▇█▇▇▇█▇▇▇▇█▇▇▇</td></tr><tr><td>accuracy2</td><td>▁▁▁▂▂▆████▇████▇██▇█▇▇▇▇▇▇▇▆▇▇▆▇▇▇▇▇▇▇▇▇</td></tr><tr><td>epoch</td><td>▁▁▁▁▂▂▂▂▂▃▃▃▃▃▃▄▄▄▄▄▅▅▅▅▅▅▆▆▆▆▆▇▇▇▇▇▇███</td></tr><tr><td>favorite_accuracy</td><td>▁▁▁▁▁▁▁▁▁▁▁▁▁▁▁▁▁▁▁▁▁▁▁▁▁▁▁▁▁▁▁▁▁▁▁▁▁▁▁▁</td></tr><tr><td>flat_simple</td><td>▄▄▄▁▄▆▇▇▆▆▇▇▅▄▆▇▅█▇█▅▅▆▅▅▄▅▆█▄▃█▆▇▅▆▅▇▅▅</td></tr><tr><td>kelly roi</td><td>▁▂▂▂▃▆▄▄▅▅▄▅▃▃▅▂▁▂▄▄▇▇▇▅▂▅▅▅▇▆▂▄▆▃█▆▃▄▃▄</td></tr><tr><td>loss_1</td><td>████▇▇▆▆▅▅▅▄▄▄▃▃▃▃▂▂▂▂▂▂▂▁▁▁▁▁▁▁▁▁▁▁▁▁▁▁</td></tr><tr><td>loss_bfsp</td><td>▁▁▁▁▁▁▁▁▁▁▁▁▁▁▁▁▁▁▁▁▁▁▁▁▁▁▁▁▁▁▁▁▁▁▁▁▁▁▁▁</td></tr><tr><td>loss_p</td><td>███▇▇▄▂▂▂▁▁▁▁▁▁▁▁▁▁▂▁▁▂▂▂▂▂▂▂▂▃▃▃▂▂▂▃▃▃▃</td></tr><tr><td>loss_val</td><td>███▇▇▄▂▂▁▁▁▁▁▁▁▂▁▁▂▂▁▁▂▂▃▃▃▂▂▃▃▃▄▃▂▂▄▄▄▄</td></tr><tr><td>multibet outlay < 30</td><td>▂▂▂▂▂▁▁▁▁▁▁▂▂▃▃▄▄▄▅▅▃▄▄▆▆▆▆▅▆▆▆▇█▆▆▆████</td></tr><tr><td>multibet profit</td><td>▃▃▄▄▄▆▄▃▄▄▃▄▃▂▄▂▁▂▄▄▆▆▆▆▂▅▅▅█▆▃▅▇▄█▆▄▆▄▅</td></tr><tr><td>multibet profit < 30</td><td>▂▂▂▂▂▂▁▁▁▁▂▂▂▃▄▄▃▄▅▅▇▇▇▆▁▄▄▅█▅▁▄▇▃█▇▃▃▂▅</td></tr><tr><td>multibet profit < 30 sd</td><td>▂▂▂▂▂▂▁▁▁▁▂▂▂▃▃▅▄▄▅▆▄▅▆▆▆▇▇▆▇▆▆▇█▆▆▆▇█▇█</td></tr><tr><td>mutual_info</td><td>▂▁▁▁▁▃▃▃▄▄▄▄▄▅▄▆▆▅▆▆▅▅▅▆▆▆▇▆▆▇▇▇█▇▇▇█▇██</td></tr><tr><td>profit_relu</td><td>▂▄▃█▇▃▂▂▂▂▂▁▁▁▁▁▁▁▁▁▂▂▂▂▁▁▁▁▂▁▁▂▂▁▂▂▁▁▁▁</td></tr><tr><td>relu roi</td><td>▃▃▂▇▇▇▄▅▆▅▄▃▃▂▃▃▂▁▄▄▅▅▇▆▄▆▅▅█▅▄▆█▅█▆▅▆▆▆</td></tr><tr><td>val_ROI < 30</td><td>▄▅▅▃▁▂▃▃▃▂▃▃▃▃▄▂▃▃▃▄▄▅▆▅▄▂▅▂▆▃▅▇▇█▆█▄▅▅▅</td></tr><tr><td>val_ROI < 30 2</td><td>▅▆▆▃▁▃▅▅▅▅▅▅▅▅▆▅▅▅▆▇▅▆▇▇▅▄▆▄▆▄▆▇▇█▇▇▆▅▇▇</td></tr><tr><td>val_accuracy</td><td>▁▁▁▂▂▆████▇████▇██▇█▇▇▇▇▇▇▇▆▇▇▆▇▇▇▇▇▇▇▇▇</td></tr><tr><td>val_flat_simple</td><td>▁▁▁▁▃▅▆▇▇▇▆▆▆▆▆▆▆▇▆▆▆▆▇▆▆▅▆▅▆▆▅█▇▆▇▆▇▆▆▇</td></tr><tr><td>val_kelly roi</td><td>▂▂▂▁▁▂▂▃▃▃▃▄▄▅▅▅▆▆▆▇▆▆▇▇▇▆▇▆▇▆▇███▇█▇▇▇▇</td></tr><tr><td>val_loss_bfsp</td><td>▁▁▁▁▁▁▁▁▁▁▁▁▁▁▁▁▁▁▁▁▁▁▁▁▁▁▁▁▁▁▁▁▁▁▁▁▁▁▁▁</td></tr><tr><td>val_loss_p</td><td>███▇▇▄▃▂▂▁▂▁▁▁▁▁▁▁▁▂▁▂▂▂▂▂▂▂▂▂▃▃▃▂▂▂▃▃▃▃</td></tr><tr><td>val_loss_val</td><td>███▇▇▄▃▂▂▁▁▁▁▁▁▁▁▁▁▂▁▁▁▂▂▂▂▂▂▂▃▃▃▂▂▂▄▃▃▃</td></tr><tr><td>val_multibet outlay < 30</td><td>▂▂▂▂▂▁▁▁▁▁▁▂▂▃▃▄▄▄▅▅▄▄▅▆▆▆▆▆▆▆▇▇█▆▆▆████</td></tr><tr><td>val_multibet profit</td><td>▁▁▁▁▁▃▄▄▅▅▅▅▆▆▆▆▆▆▆▇▆▇▇▇▇▆▇▆▇▆▇███▇█▇▇▇▇</td></tr><tr><td>val_multibet profit < 30</td><td>▄▅▅▃▂▃▄▄▄▃▄▄▃▃▄▂▃▃▃▄▄▅▆▄▃▁▅▂▆▃▅▇▇█▆▇▃▄▅▄</td></tr><tr><td>val_multibet profit < 30 sd</td><td>▃▃▃▂▂▂▁▁▁▁▁▂▂▂▃▄▃▄▄▅▃▄▄▅▆▆▇▅▆▆▇▇█▇▆▇████</td></tr><tr><td>val_mutual_info</td><td>▂▁▁▁▁▃▃▃▄▄▄▄▄▅▄▆▅▅▆▆▄▅▅▆▆▆▇▆▆▆▇▇█▆▆▇█▇██</td></tr><tr><td>val_profit_relu</td><td>▅▁▁▁▂▆▇▇▇▇▇▇▇▇▇█████▇███████████████████</td></tr><tr><td>val_relu roi</td><td>▂▂▂▁▁▁▁▂▂▂▂▂▂▃▃▄▄▅▅▆▄▆▆▆▇▅▇▅▇▆▇███▇▇▇▇▇▇</td></tr><tr><td>valfavorite_accuracy</td><td>▁▁▁▁▁▁▁▁▁▁▁▁▁▁▁▁▁▁▁▁▁▁▁▁▁▁▁▁▁▁▁▁▁▁▁▁▁▁▁▁</td></tr></table><br/></div><div class=\"wandb-col\"><h3>Run summary:</h3><br/><table class=\"wandb\"><tr><td>ROI < 30 2</td><td>0.04837</td></tr><tr><td>accuracy2</td><td>0.30674</td></tr><tr><td>epoch</td><td>200</td></tr><tr><td>favorite_accuracy</td><td>0.38562</td></tr><tr><td>flat_simple</td><td>11.59196</td></tr><tr><td>kelly roi</td><td>0.0928</td></tr><tr><td>loss_1</td><td>0.58779</td></tr><tr><td>loss_bfsp</td><td>1.945</td></tr><tr><td>loss_p</td><td>1.86674</td></tr><tr><td>multibet outlay < 30</td><td>52692.18947</td></tr><tr><td>multibet profit</td><td>5413.07973</td></tr><tr><td>multibet profit < 30</td><td>3646.36364</td></tr><tr><td>multibet profit < 30 sd</td><td>23.3126</td></tr><tr><td>mutual_info</td><td>0.06846</td></tr><tr><td>profit_relu</td><td>74836.16807</td></tr><tr><td>val_ROI < 30</td><td>-0.0267</td></tr><tr><td>val_ROI < 30 2</td><td>-0.03121</td></tr><tr><td>val_accuracy</td><td>0.30674</td></tr><tr><td>val_flat_simple</td><td>-52.76447</td></tr><tr><td>val_kelly roi</td><td>-0.09078</td></tr><tr><td>val_loss_bfsp</td><td>1.94131</td></tr><tr><td>val_loss_p</td><td>1.84618</td></tr><tr><td>val_loss_val</td><td>1.88483</td></tr><tr><td>val_multibet outlay < 30</td><td>50293.20991</td></tr><tr><td>val_multibet profit</td><td>-5278.05751</td></tr><tr><td>val_multibet profit < 30</td><td>-1342.86901</td></tr><tr><td>val_multibet profit < 30 sd</td><td>23.44691</td></tr><tr><td>val_mutual_info</td><td>0.06882</td></tr><tr><td>val_profit_relu</td><td>-79353.33257</td></tr><tr><td>val_relu roi</td><td>-0.08806</td></tr><tr><td>valfavorite_accuracy</td><td>0.39215</td></tr></table><br/></div></div>"
      ],
      "text/plain": [
       "<IPython.core.display.HTML object>"
      ]
     },
     "metadata": {},
     "output_type": "display_data"
    },
    {
     "data": {
      "text/html": [
       " View run <strong style=\"color:#cdcd00\">auspicious-dragon-56</strong> at: <a href='https://wandb.ai/nickojelly/NEW%20GRU%20V7%20Reporting/runs/80id903l' target=\"_blank\">https://wandb.ai/nickojelly/NEW%20GRU%20V7%20Reporting/runs/80id903l</a><br/>Synced 5 W&B file(s), 0 media file(s), 134 artifact file(s) and 0 other file(s)"
      ],
      "text/plain": [
       "<IPython.core.display.HTML object>"
      ]
     },
     "metadata": {},
     "output_type": "display_data"
    },
    {
     "data": {
      "text/html": [
       "Find logs at: <code>.\\wandb\\run-20240212_011224-80id903l\\logs</code>"
      ],
      "text/plain": [
       "<IPython.core.display.HTML object>"
      ]
     },
     "metadata": {},
     "output_type": "display_data"
    },
    {
     "ename": "RuntimeError",
     "evalue": "[enforce fail at inline_container.cc:424] . unexpected pos 44138048 vs 44137940",
     "output_type": "error",
     "traceback": [
      "\u001b[1;31m---------------------------------------------------------------------------\u001b[0m",
      "\u001b[1;31mRuntimeError\u001b[0m                              Traceback (most recent call last)",
      "File \u001b[1;32mc:\\Users\\Nick\\.conda\\envs\\python311\\Lib\\site-packages\\torch\\serialization.py:619\u001b[0m, in \u001b[0;36msave\u001b[1;34m(obj, f, pickle_module, pickle_protocol, _use_new_zipfile_serialization, _disable_byteorder_record)\u001b[0m\n\u001b[0;32m    618\u001b[0m \u001b[38;5;28;01mwith\u001b[39;00m _open_zipfile_writer(f) \u001b[38;5;28;01mas\u001b[39;00m opened_zipfile:\n\u001b[1;32m--> 619\u001b[0m     \u001b[43m_save\u001b[49m\u001b[43m(\u001b[49m\u001b[43mobj\u001b[49m\u001b[43m,\u001b[49m\u001b[43m \u001b[49m\u001b[43mopened_zipfile\u001b[49m\u001b[43m,\u001b[49m\u001b[43m \u001b[49m\u001b[43mpickle_module\u001b[49m\u001b[43m,\u001b[49m\u001b[43m \u001b[49m\u001b[43mpickle_protocol\u001b[49m\u001b[43m,\u001b[49m\u001b[43m \u001b[49m\u001b[43m_disable_byteorder_record\u001b[49m\u001b[43m)\u001b[49m\n\u001b[0;32m    620\u001b[0m     \u001b[38;5;28;01mreturn\u001b[39;00m\n",
      "File \u001b[1;32mc:\\Users\\Nick\\.conda\\envs\\python311\\Lib\\site-packages\\torch\\serialization.py:853\u001b[0m, in \u001b[0;36m_save\u001b[1;34m(obj, zip_file, pickle_module, pickle_protocol, _disable_byteorder_record)\u001b[0m\n\u001b[0;32m    852\u001b[0m num_bytes \u001b[38;5;241m=\u001b[39m storage\u001b[38;5;241m.\u001b[39mnbytes()\n\u001b[1;32m--> 853\u001b[0m \u001b[43mzip_file\u001b[49m\u001b[38;5;241;43m.\u001b[39;49m\u001b[43mwrite_record\u001b[49m\u001b[43m(\u001b[49m\u001b[43mname\u001b[49m\u001b[43m,\u001b[49m\u001b[43m \u001b[49m\u001b[43mstorage\u001b[49m\u001b[38;5;241;43m.\u001b[39;49m\u001b[43mdata_ptr\u001b[49m\u001b[43m(\u001b[49m\u001b[43m)\u001b[49m\u001b[43m,\u001b[49m\u001b[43m \u001b[49m\u001b[43mnum_bytes\u001b[49m\u001b[43m)\u001b[49m\n",
      "\u001b[1;31mRuntimeError\u001b[0m: [enforce fail at inline_container.cc:593] . PytorchStreamWriter failed writing file data/61: file write failed",
      "\nDuring handling of the above exception, another exception occurred:\n",
      "\u001b[1;31mRuntimeError\u001b[0m                              Traceback (most recent call last)",
      "Cell \u001b[1;32mIn[28], line 4\u001b[0m\n\u001b[0;32m      2\u001b[0m (model,dataset, optimizer) \u001b[38;5;241m=\u001b[39m model_pipeline(raceDB,config\u001b[38;5;241m=\u001b[39mwandb_config_static,sweep\u001b[38;5;241m=\u001b[39m\u001b[38;5;28;01mFalse\u001b[39;00m)\n\u001b[0;32m      3\u001b[0m wandb_config_static[\u001b[38;5;124m'\u001b[39m\u001b[38;5;124mbatch_days\u001b[39m\u001b[38;5;124m'\u001b[39m] \u001b[38;5;241m=\u001b[39m \u001b[38;5;241m365\u001b[39m\n\u001b[1;32m----> 4\u001b[0m (model,dataset, optimizer) \u001b[38;5;241m=\u001b[39m \u001b[43mmodel_pipeline\u001b[49m\u001b[43m(\u001b[49m\u001b[43mraceDB\u001b[49m\u001b[43m,\u001b[49m\u001b[43mconfig\u001b[49m\u001b[38;5;241;43m=\u001b[39;49m\u001b[43mwandb_config_static\u001b[49m\u001b[43m,\u001b[49m\u001b[43msweep\u001b[49m\u001b[38;5;241;43m=\u001b[39;49m\u001b[38;5;28;43;01mFalse\u001b[39;49;00m\u001b[43m)\u001b[49m\n\u001b[0;32m      5\u001b[0m wandb_config_static[\u001b[38;5;124m'\u001b[39m\u001b[38;5;124mbatch_days\u001b[39m\u001b[38;5;124m'\u001b[39m] \u001b[38;5;241m=\u001b[39m \u001b[38;5;241m180\u001b[39m\n\u001b[0;32m      6\u001b[0m (model,dataset, optimizer) \u001b[38;5;241m=\u001b[39m model_pipeline(raceDB,config\u001b[38;5;241m=\u001b[39mwandb_config_static,sweep\u001b[38;5;241m=\u001b[39m\u001b[38;5;28;01mFalse\u001b[39;00m)\n",
      "Cell \u001b[1;32mIn[19], line 103\u001b[0m, in \u001b[0;36mmodel_pipeline\u001b[1;34m(my_dataset, config, prev_model, sweep, model_state_dict, prev_model_file, prev_model_version)\u001b[0m\n\u001b[0;32m     99\u001b[0m \u001b[38;5;66;03m# and use them to train the model\u001b[39;00m\n\u001b[0;32m    100\u001b[0m \u001b[38;5;66;03m# wandb.watch(model, log='all')\u001b[39;00m\n\u001b[0;32m    101\u001b[0m \u001b[38;5;28;01mtry\u001b[39;00m:\n\u001b[0;32m    102\u001b[0m   \u001b[38;5;66;03m# train_double_loss_regular(model, dataset, criterion, optimizer, scheduler, config, crit2=custom_l2)\u001b[39;00m\n\u001b[1;32m--> 103\u001b[0m   \u001b[43mtraining_testing_gru_extra_data\u001b[49m\u001b[38;5;241;43m.\u001b[39;49m\u001b[43mtrain_double_v3\u001b[49m\u001b[43m(\u001b[49m\u001b[43mmodel\u001b[49m\u001b[43m,\u001b[49m\u001b[43m \u001b[49m\u001b[43mdataset\u001b[49m\u001b[43m,\u001b[49m\u001b[43m \u001b[49m\u001b[43mcriterion\u001b[49m\u001b[43m,\u001b[49m\u001b[43m \u001b[49m\u001b[43moptimizer\u001b[49m\u001b[43m,\u001b[49m\u001b[43m \u001b[49m\u001b[38;5;124;43m'\u001b[39;49m\u001b[38;5;124;43mna\u001b[39;49m\u001b[38;5;124;43m'\u001b[39;49m\u001b[43m,\u001b[49m\u001b[43m \u001b[49m\u001b[43mconfig\u001b[49m\u001b[43m)\u001b[49m\n\u001b[0;32m    104\u001b[0m \u001b[38;5;28;01mexcept\u001b[39;00m (\u001b[38;5;167;01mKeyboardInterrupt\u001b[39;00m) \u001b[38;5;28;01mas\u001b[39;00m error:\n\u001b[0;32m    105\u001b[0m   \u001b[38;5;28mprint\u001b[39m(error)\n",
      "File \u001b[1;32mc:\\Users\\Nick\\Documents\\GitHub\\grvmodel\\python\\rnn_tools\\training_testing_gru_extra_data.py:240\u001b[0m, in \u001b[0;36mtrain_double_v3\u001b[1;34m(model, raceDB, criterion, optimizer, scheduler, config, update)\u001b[0m\n\u001b[0;32m    238\u001b[0m \u001b[38;5;28;01mif\u001b[39;00m (epoch)\u001b[38;5;241m%\u001b[39m\u001b[38;5;241m20\u001b[39m\u001b[38;5;241m==\u001b[39m\u001b[38;5;241m0\u001b[39m:\n\u001b[0;32m    239\u001b[0m     raceDB\u001b[38;5;241m.\u001b[39mcreate_hidden_states_dict_v2()\n\u001b[1;32m--> 240\u001b[0m     \u001b[43mmodel_saver_wandb\u001b[49m\u001b[43m(\u001b[49m\u001b[43mmodel\u001b[49m\u001b[43m,\u001b[49m\u001b[43m \u001b[49m\u001b[43moptimizer\u001b[49m\u001b[43m,\u001b[49m\u001b[43m \u001b[49m\u001b[43mepoch\u001b[49m\u001b[43m,\u001b[49m\u001b[43m \u001b[49m\u001b[38;5;241;43m0.1\u001b[39;49m\u001b[43m,\u001b[49m\u001b[43m \u001b[49m\u001b[43mraceDB\u001b[49m\u001b[38;5;241;43m.\u001b[39;49m\u001b[43mhidden_states_dict_gru_v6\u001b[49m\u001b[43m,\u001b[49m\u001b[43m \u001b[49m\u001b[43mraceDB\u001b[49m\u001b[38;5;241;43m.\u001b[39;49m\u001b[43mtrain_hidden_dict\u001b[49m\u001b[43m,\u001b[49m\u001b[43m \u001b[49m\u001b[43mmodel_name\u001b[49m\u001b[38;5;241;43m=\u001b[39;49m\u001b[38;5;124;43m\"\u001b[39;49m\u001b[38;5;124;43mlong nsw new  22000 RUN\u001b[39;49m\u001b[38;5;124;43m\"\u001b[39;49m\u001b[43m)\u001b[49m\n\u001b[0;32m    241\u001b[0m     \u001b[38;5;28;01mif\u001b[39;00m update:\n\u001b[0;32m    242\u001b[0m         \u001b[38;5;28;01mbreak\u001b[39;00m\n",
      "File \u001b[1;32mc:\\Users\\Nick\\Documents\\GitHub\\grvmodel\\python\\rnn_tools\\model_saver.py:92\u001b[0m, in \u001b[0;36mmodel_saver_wandb\u001b[1;34m(model, optimizer, epoch, loss, hidden_state_dict, train_state_dict, model_name)\u001b[0m\n\u001b[0;32m     88\u001b[0m isExist \u001b[38;5;241m=\u001b[39m os\u001b[38;5;241m.\u001b[39mpath\u001b[38;5;241m.\u001b[39mexists(\n\u001b[0;32m     89\u001b[0m     \u001b[38;5;124mf\u001b[39m\u001b[38;5;124m\"\u001b[39m\u001b[38;5;124mC:/Users/Nick/Documents/GitHub/grvmodel/Python/pytorch/New Model/savedmodel/\u001b[39m\u001b[38;5;132;01m{\u001b[39;00mmodel_name\u001b[38;5;132;01m}\u001b[39;00m\u001b[38;5;124m/\u001b[39m\u001b[38;5;124m\"\u001b[39m\n\u001b[0;32m     90\u001b[0m )\n\u001b[0;32m     91\u001b[0m \u001b[38;5;28;01mif\u001b[39;00m isExist:\n\u001b[1;32m---> 92\u001b[0m     \u001b[43mtorch\u001b[49m\u001b[38;5;241;43m.\u001b[39;49m\u001b[43msave\u001b[49m\u001b[43m(\u001b[49m\n\u001b[0;32m     93\u001b[0m \u001b[43m        \u001b[49m\u001b[43m{\u001b[49m\n\u001b[0;32m     94\u001b[0m \u001b[43m            \u001b[49m\u001b[38;5;124;43m\"\u001b[39;49m\u001b[38;5;124;43mepoch\u001b[39;49m\u001b[38;5;124;43m\"\u001b[39;49m\u001b[43m:\u001b[49m\u001b[43m \u001b[49m\u001b[43mepoch\u001b[49m\u001b[43m,\u001b[49m\n\u001b[0;32m     95\u001b[0m \u001b[43m            \u001b[49m\u001b[38;5;124;43m\"\u001b[39;49m\u001b[38;5;124;43mmodel_state_dict\u001b[39;49m\u001b[38;5;124;43m\"\u001b[39;49m\u001b[43m:\u001b[49m\u001b[43m \u001b[49m\u001b[43mmodel\u001b[49m\u001b[38;5;241;43m.\u001b[39;49m\u001b[43mstate_dict\u001b[49m\u001b[43m(\u001b[49m\u001b[43m)\u001b[49m\u001b[43m,\u001b[49m\n\u001b[0;32m     96\u001b[0m \u001b[43m            \u001b[49m\u001b[38;5;124;43m\"\u001b[39;49m\u001b[38;5;124;43moptim\u001b[39;49m\u001b[38;5;124;43m\"\u001b[39;49m\u001b[43m:\u001b[49m\u001b[43m \u001b[49m\u001b[43moptimizer\u001b[49m\u001b[38;5;241;43m.\u001b[39;49m\u001b[43mstate_dict\u001b[49m\u001b[43m(\u001b[49m\u001b[43m)\u001b[49m\u001b[43m,\u001b[49m\n\u001b[0;32m     97\u001b[0m \u001b[43m            \u001b[49m\u001b[38;5;124;43m\"\u001b[39;49m\u001b[38;5;124;43mloss\u001b[39;49m\u001b[38;5;124;43m\"\u001b[39;49m\u001b[43m:\u001b[49m\u001b[43m \u001b[49m\u001b[43mloss\u001b[49m\u001b[43m,\u001b[49m\n\u001b[0;32m     98\u001b[0m \u001b[43m            \u001b[49m\u001b[38;5;124;43m\"\u001b[39;49m\u001b[38;5;124;43mdb\u001b[39;49m\u001b[38;5;124;43m\"\u001b[39;49m\u001b[43m:\u001b[49m\u001b[43mhidden_state_dict\u001b[49m\u001b[43m,\u001b[49m\n\u001b[0;32m     99\u001b[0m \u001b[43m            \u001b[49m\u001b[38;5;124;43m\"\u001b[39;49m\u001b[38;5;124;43mdb_train\u001b[39;49m\u001b[38;5;124;43m\"\u001b[39;49m\u001b[43m:\u001b[49m\u001b[43mtrain_state_dict\u001b[49m\u001b[43m,\u001b[49m\n\u001b[0;32m    100\u001b[0m \u001b[43m        \u001b[49m\u001b[43m}\u001b[49m\u001b[43m,\u001b[49m\n\u001b[0;32m    101\u001b[0m \u001b[43m        \u001b[49m\u001b[38;5;124;43mf\u001b[39;49m\u001b[38;5;124;43m\"\u001b[39;49m\u001b[38;5;124;43mC:/Users/Nick/Documents/GitHub/grvmodel/Python/pytorch/New Model/savedmodel/\u001b[39;49m\u001b[38;5;132;43;01m{\u001b[39;49;00m\u001b[43mmodel_name\u001b[49m\u001b[38;5;132;43;01m}\u001b[39;49;00m\u001b[38;5;124;43m/\u001b[39;49m\u001b[38;5;132;43;01m{\u001b[39;49;00m\u001b[43mmodel_name\u001b[49m\u001b[38;5;132;43;01m}\u001b[39;49;00m\u001b[38;5;124;43m_\u001b[39;49m\u001b[38;5;132;43;01m{\u001b[39;49;00m\u001b[43mepoch\u001b[49m\u001b[38;5;132;43;01m}\u001b[39;49;00m\u001b[38;5;124;43m.pt\u001b[39;49m\u001b[38;5;124;43m\"\u001b[39;49m\u001b[43m,\u001b[49m\n\u001b[0;32m    102\u001b[0m \u001b[43m    \u001b[49m\u001b[43m)\u001b[49m\n\u001b[0;32m    103\u001b[0m \u001b[38;5;28;01melse\u001b[39;00m:\n\u001b[0;32m    104\u001b[0m     \u001b[38;5;28mprint\u001b[39m(\u001b[38;5;124m\"\u001b[39m\u001b[38;5;124mcreated path\u001b[39m\u001b[38;5;124m\"\u001b[39m)\n",
      "File \u001b[1;32mc:\\Users\\Nick\\.conda\\envs\\python311\\Lib\\site-packages\\torch\\serialization.py:618\u001b[0m, in \u001b[0;36msave\u001b[1;34m(obj, f, pickle_module, pickle_protocol, _use_new_zipfile_serialization, _disable_byteorder_record)\u001b[0m\n\u001b[0;32m    615\u001b[0m _check_save_filelike(f)\n\u001b[0;32m    617\u001b[0m \u001b[38;5;28;01mif\u001b[39;00m _use_new_zipfile_serialization:\n\u001b[1;32m--> 618\u001b[0m \u001b[43m    \u001b[49m\u001b[38;5;28;43;01mwith\u001b[39;49;00m\u001b[43m \u001b[49m\u001b[43m_open_zipfile_writer\u001b[49m\u001b[43m(\u001b[49m\u001b[43mf\u001b[49m\u001b[43m)\u001b[49m\u001b[43m \u001b[49m\u001b[38;5;28;43;01mas\u001b[39;49;00m\u001b[43m \u001b[49m\u001b[43mopened_zipfile\u001b[49m\u001b[43m:\u001b[49m\n\u001b[0;32m    619\u001b[0m \u001b[43m        \u001b[49m\u001b[43m_save\u001b[49m\u001b[43m(\u001b[49m\u001b[43mobj\u001b[49m\u001b[43m,\u001b[49m\u001b[43m \u001b[49m\u001b[43mopened_zipfile\u001b[49m\u001b[43m,\u001b[49m\u001b[43m \u001b[49m\u001b[43mpickle_module\u001b[49m\u001b[43m,\u001b[49m\u001b[43m \u001b[49m\u001b[43mpickle_protocol\u001b[49m\u001b[43m,\u001b[49m\u001b[43m \u001b[49m\u001b[43m_disable_byteorder_record\u001b[49m\u001b[43m)\u001b[49m\n\u001b[0;32m    620\u001b[0m \u001b[43m        \u001b[49m\u001b[38;5;28;43;01mreturn\u001b[39;49;00m\n",
      "File \u001b[1;32mc:\\Users\\Nick\\.conda\\envs\\python311\\Lib\\site-packages\\torch\\serialization.py:466\u001b[0m, in \u001b[0;36m_open_zipfile_writer_file.__exit__\u001b[1;34m(self, *args)\u001b[0m\n\u001b[0;32m    465\u001b[0m \u001b[38;5;28;01mdef\u001b[39;00m \u001b[38;5;21m__exit__\u001b[39m(\u001b[38;5;28mself\u001b[39m, \u001b[38;5;241m*\u001b[39margs) \u001b[38;5;241m-\u001b[39m\u001b[38;5;241m>\u001b[39m \u001b[38;5;28;01mNone\u001b[39;00m:\n\u001b[1;32m--> 466\u001b[0m     \u001b[38;5;28;43mself\u001b[39;49m\u001b[38;5;241;43m.\u001b[39;49m\u001b[43mfile_like\u001b[49m\u001b[38;5;241;43m.\u001b[39;49m\u001b[43mwrite_end_of_file\u001b[49m\u001b[43m(\u001b[49m\u001b[43m)\u001b[49m\n\u001b[0;32m    467\u001b[0m     \u001b[38;5;28;01mif\u001b[39;00m \u001b[38;5;28mself\u001b[39m\u001b[38;5;241m.\u001b[39mfile_stream \u001b[38;5;129;01mis\u001b[39;00m \u001b[38;5;129;01mnot\u001b[39;00m \u001b[38;5;28;01mNone\u001b[39;00m:\n\u001b[0;32m    468\u001b[0m         \u001b[38;5;28mself\u001b[39m\u001b[38;5;241m.\u001b[39mfile_stream\u001b[38;5;241m.\u001b[39mclose()\n",
      "\u001b[1;31mRuntimeError\u001b[0m: [enforce fail at inline_container.cc:424] . unexpected pos 44138048 vs 44137940"
     ]
    }
   ],
   "source": [
    "wandb_config_static['batch_days'] = 600\n",
    "(model,dataset, optimizer) = model_pipeline(raceDB,config=wandb_config_static,sweep=False)\n",
    "wandb_config_static['batch_days'] = 365\n",
    "(model,dataset, optimizer) = model_pipeline(raceDB,config=wandb_config_static,sweep=False)\n",
    "wandb_config_static['batch_days'] = 180\n",
    "(model,dataset, optimizer) = model_pipeline(raceDB,config=wandb_config_static,sweep=False)\n",
    "wandb_config_static['batch_days'] = 90\n",
    "(model,dataset, optimizer) = model_pipeline(raceDB,config=wandb_config_static,sweep=False)\n",
    "wandb_config_static['batch_days'] = 60\n",
    "(model,dataset, optimizer) = model_pipeline(raceDB,config=wandb_config_static,sweep=False)\n",
    "wandb_config_static['batch_days'] = 30\n",
    "(model,dataset, optimizer) = model_pipeline(raceDB,config=wandb_config_static,sweep=False)\n"
   ]
  },
  {
   "cell_type": "code",
   "execution_count": null,
   "metadata": {},
   "outputs": [],
   "source": [
    "model"
   ]
  },
  {
   "cell_type": "code",
   "execution_count": null,
   "metadata": {},
   "outputs": [],
   "source": [
    "importlib.reload(training_testing_gru_extra_data)\n",
    "training_testing_gru_extra_data.validate_model_v3(model,raceDB,config=wandb_config_static)"
   ]
  },
  {
   "cell_type": "code",
   "execution_count": null,
   "metadata": {},
   "outputs": [],
   "source": [
    "config = wandb_config_static"
   ]
  },
  {
   "cell_type": "code",
   "execution_count": null,
   "metadata": {},
   "outputs": [],
   "source": [
    "model = rnn_classes.LSTMNetv3_BN_double(22,config['hidden_size'], num_layers=config['num_layers'],fc0_size=config['f0_layer_size'], fc1_size=config['f1_layer_size'])"
   ]
  },
  {
   "cell_type": "code",
   "execution_count": null,
   "metadata": {},
   "outputs": [],
   "source": [
    "model = model.to('cuda:0')"
   ]
  },
  {
   "cell_type": "code",
   "execution_count": null,
   "metadata": {},
   "outputs": [],
   "source": [
    "sweep_config = {\"method\": \"grid\"}\n",
    "\n",
    "metric = {\"name\": \"ROI < 30\", \"goal\": \"maximize\"}\n",
    "\n",
    "sweep_config[\"metric\"] = metric\n",
    "\n",
    "\n",
    "parameters_dict = {\n",
    "    \"optimizer\": {\"value\": \"adamW\"},\n",
    "    \"batch_days\": {\"values\": [90,180,365,550,10000]},\n",
    "    \"f0_layer_size\": {\"values\": [128]},\n",
    "    \"f1_layer_size\": {\"values\": [64]},\n",
    "    \"dropout\": {\"values\": [0.3]},\n",
    "    \"input_type\": {\"values\": ['basic']},\n",
    "    \"num_layers\": {\"values\": [2]},\n",
    "    'hidden_size':{'values':[128]},\n",
    "    \"len_data\": {\"value\": len(raceDB.raceIDs)},\n",
    "    \"stats\":{\"value\": raceDB.stats_cols},\n",
    "    \"races\":{\"value\": states},\n",
    "    \"batch_size\":{\"value\": 10},\n",
    "}\n",
    "\n",
    "sweep_config[\"parameters\"] = parameters_dict\n",
    "\n",
    "parameters_dict.update(\n",
    "    {\n",
    "        \"epochs\": {\"values\": [1000]},\n",
    "        \"validation_split\": {\"value\": 0.1},\n",
    "        \"training_date_end\": {\"values\": \n",
    "                                [\n",
    "                                '2023-04-30',\n",
    "                                '2023-02-28',\n",
    "                                '2022-11-30',\n",
    "                                '2021-11-30'\n",
    "                                ]},\n",
    "        \"learning_rate\": {\"values\": [0.0003, 0.0001]},\n",
    "        \"label_smoothing\": {\"values\": [0.01,0.0]},\n",
    "        \"loss\": {\n",
    "            \"values\": [ \"CEL\"],\n",
    "        },\n",
    "    'dist_last__1': {'values': [0, 1]},\n",
    "    'box_last__1': {'values': [0, 1]},\n",
    "    'speed_avg_1': {'values': [0, 1]},\n",
    "    'split_speed_v1_1': {'values': [0, 1]},\n",
    "    'split_speed_avg_1': {'values': [0, 1]},\n",
    "    'split_margin_avg_1': {'values': [0, 1]},\n",
    "    'margin_avg_1': {'values': [0, 1]},\n",
    "    'margin_time_avg_1': {'values': [0, 1]},\n",
    "    'RunHomeTime_1': {'values': [0, 1]},\n",
    "    'run_home_speed_1': {'values': [0, 1]},\n",
    "    'run_home_speed_v1_1': {'values': [0, 1]},\n",
    "    'first_out_avg_1': {'values': [0, 1]},\n",
    "    'pos_out_avg_1': {'values': [0, 1]},\n",
    "    'post_change_avg_1': {'values': [0, 1]},\n",
    "    'races_1': {'values': [0, 1]},\n",
    "    'wins_1': {'values': [0, 1]},\n",
    "    'wins_last_1': {'values': [0, 1]},\n",
    "    'weight_': {'values': [0, 1]},\n",
    "    'min_time_': {'values': [0, 1]},\n",
    "    'min_split_time_': {'values': [0, 1]},\n",
    "    'min_split_time_v1': {'values': [0, 1]},\n",
    "    'last_start_price': {'values': [0, 1]},\n",
    "    'last_start_prob': {'values': [0, 1]}\n",
    "}\n",
    ")\n",
    "\n",
    "import pprint\n",
    "\n",
    "pprint.pprint(sweep_config)\n",
    "\n",
    "\n",
    "sweep_config"
   ]
  },
  {
   "cell_type": "code",
   "execution_count": null,
   "metadata": {},
   "outputs": [],
   "source": [
    "# wandb.agent('x9mz21wl', function=model_pipeline, count=100, project='NEW GRU-sweeps')"
   ]
  },
  {
   "attachments": {},
   "cell_type": "markdown",
   "metadata": {},
   "source": []
  },
  {
   "cell_type": "code",
   "execution_count": null,
   "metadata": {},
   "outputs": [],
   "source": []
  },
  {
   "cell_type": "code",
   "execution_count": null,
   "metadata": {},
   "outputs": [],
   "source": [
    "sweep_id = wandb.sweep(sweep_config, project=\"Variable Sweeps\")\n",
    "# CUDA_LAUNCH_BLOCKING=1\n",
    "wandb.agent(sweep_id, function=model_pipeline, count=1)"
   ]
  }
 ],
 "metadata": {
  "kernelspec": {
   "display_name": "PYTORCH",
   "language": "python",
   "name": "python3"
  },
  "language_info": {
   "codemirror_mode": {
    "name": "ipython",
    "version": 3
   },
   "file_extension": ".py",
   "mimetype": "text/x-python",
   "name": "python",
   "nbconvert_exporter": "python",
   "pygments_lexer": "ipython3",
   "version": "3.11.5"
  },
  "orig_nbformat": 4,
  "vscode": {
   "interpreter": {
    "hash": "8a48ca33c5a1168302a4f8eae355aad1c03b1396f568d40bc174a6e6aabe725d"
   }
  }
 },
 "nbformat": 4,
 "nbformat_minor": 2
}
