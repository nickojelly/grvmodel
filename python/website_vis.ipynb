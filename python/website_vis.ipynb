{
 "cells": [
  {
   "cell_type": "code",
   "execution_count": 1,
   "metadata": {},
   "outputs": [],
   "source": [
    "import pandas as pd\n",
    "from tqdm.notebook import tqdm\n",
    "import time\n",
    "from datetime import datetime, timedelta\n",
    "from topaz import TopazAPI\n",
    "from sklearn.preprocessing import MinMaxScaler, StandardScaler\n",
    "import numpy as np\n",
    "import requests\n",
    "import os\n",
    "import concurrent.futures\n",
    "import math\n",
    "# import mapping\n",
    "import torch\n",
    "import torch.nn as nn\n",
    "import torch.nn.functional as F"
   ]
  },
  {
   "cell_type": "code",
   "execution_count": 41,
   "metadata": {},
   "outputs": [],
   "source": [
    "data = pd.read_feather('./data/topaz_data_w_bsp_new6_nz.fth')\n",
    "single_race = data.query('raceId == 914184484')"
   ]
  },
  {
   "cell_type": "code",
   "execution_count": 3,
   "metadata": {},
   "outputs": [
    {
     "data": {
      "text/plain": [
       "Timestamp('2023-07-03 00:00:00+0000', tz='UTC')"
      ]
     },
     "execution_count": 3,
     "metadata": {},
     "output_type": "execute_result"
    }
   ],
   "source": [
    "date = single_race.meetingDate.iloc[0]\n",
    "date"
   ]
  },
  {
   "cell_type": "code",
   "execution_count": 4,
   "metadata": {},
   "outputs": [
    {
     "data": {
      "text/html": [
       "<div>\n",
       "<style scoped>\n",
       "    .dataframe tbody tr th:only-of-type {\n",
       "        vertical-align: middle;\n",
       "    }\n",
       "\n",
       "    .dataframe tbody tr th {\n",
       "        vertical-align: top;\n",
       "    }\n",
       "\n",
       "    .dataframe thead th {\n",
       "        text-align: right;\n",
       "    }\n",
       "</style>\n",
       "<table border=\"1\" class=\"dataframe\">\n",
       "  <thead>\n",
       "    <tr style=\"text-align: right;\">\n",
       "      <th></th>\n",
       "      <th>meetingDate</th>\n",
       "      <th>state</th>\n",
       "      <th>track</th>\n",
       "      <th>distance</th>\n",
       "      <th>raceId</th>\n",
       "      <th>raceTypeCode</th>\n",
       "      <th>raceNumber</th>\n",
       "      <th>boxNumber</th>\n",
       "      <th>rugNumber</th>\n",
       "      <th>runId</th>\n",
       "      <th>...</th>\n",
       "      <th>prev_race_track</th>\n",
       "      <th>prev_race_state</th>\n",
       "      <th>next_race</th>\n",
       "      <th>prev_BSP_price</th>\n",
       "      <th>prev_start_price</th>\n",
       "      <th>stats_topaz</th>\n",
       "      <th>dogid</th>\n",
       "      <th>raceid</th>\n",
       "      <th>stats_cols</th>\n",
       "      <th>track_hash</th>\n",
       "    </tr>\n",
       "  </thead>\n",
       "  <tbody>\n",
       "    <tr>\n",
       "      <th>301162</th>\n",
       "      <td>2023-07-03 00:00:00+00:00</td>\n",
       "      <td>NZ</td>\n",
       "      <td>Addington</td>\n",
       "      <td>295</td>\n",
       "      <td>914184479</td>\n",
       "      <td>C1</td>\n",
       "      <td>1</td>\n",
       "      <td>1.0</td>\n",
       "      <td>1</td>\n",
       "      <td>915839614</td>\n",
       "      <td>...</td>\n",
       "      <td>Addington</td>\n",
       "      <td>NZ</td>\n",
       "      <td>918532419.0</td>\n",
       "      <td>55.000000</td>\n",
       "      <td>38.1</td>\n",
       "      <td>[0.5339285731315613, 1.0, 1.0, 1.0, 0.0, 0.0, ...</td>\n",
       "      <td>549391123</td>\n",
       "      <td>914184479</td>\n",
       "      <td>['dogAgeScaled', 'boxNumber', 'incomingGrade_v...</td>\n",
       "      <td>465</td>\n",
       "    </tr>\n",
       "    <tr>\n",
       "      <th>301163</th>\n",
       "      <td>2023-07-03 00:00:00+00:00</td>\n",
       "      <td>NZ</td>\n",
       "      <td>Addington</td>\n",
       "      <td>295</td>\n",
       "      <td>914184479</td>\n",
       "      <td>C1</td>\n",
       "      <td>1</td>\n",
       "      <td>2.0</td>\n",
       "      <td>2</td>\n",
       "      <td>915839615</td>\n",
       "      <td>...</td>\n",
       "      <td>Addington</td>\n",
       "      <td>NZ</td>\n",
       "      <td>920247464.0</td>\n",
       "      <td>14.500000</td>\n",
       "      <td>11.8</td>\n",
       "      <td>[1.0, 2.0, 1.0, 0.0, 0.0, 0.0, 0.1560566574335...</td>\n",
       "      <td>491585837</td>\n",
       "      <td>914184479</td>\n",
       "      <td>['dogAgeScaled', 'boxNumber', 'incomingGrade_v...</td>\n",
       "      <td>465</td>\n",
       "    </tr>\n",
       "    <tr>\n",
       "      <th>301164</th>\n",
       "      <td>2023-07-03 00:00:00+00:00</td>\n",
       "      <td>NZ</td>\n",
       "      <td>Addington</td>\n",
       "      <td>295</td>\n",
       "      <td>914184479</td>\n",
       "      <td>C1</td>\n",
       "      <td>1</td>\n",
       "      <td>3.0</td>\n",
       "      <td>3</td>\n",
       "      <td>915839616</td>\n",
       "      <td>...</td>\n",
       "      <td>Addington</td>\n",
       "      <td>NZ</td>\n",
       "      <td>914237106.0</td>\n",
       "      <td>34.995636</td>\n",
       "      <td>21.9</td>\n",
       "      <td>[0.7160714268684387, 3.0, 6.0, 0.0462962947785...</td>\n",
       "      <td>525211021</td>\n",
       "      <td>914184479</td>\n",
       "      <td>['dogAgeScaled', 'boxNumber', 'incomingGrade_v...</td>\n",
       "      <td>465</td>\n",
       "    </tr>\n",
       "    <tr>\n",
       "      <th>301165</th>\n",
       "      <td>2023-07-03 00:00:00+00:00</td>\n",
       "      <td>NZ</td>\n",
       "      <td>Addington</td>\n",
       "      <td>295</td>\n",
       "      <td>914184479</td>\n",
       "      <td>C1</td>\n",
       "      <td>1</td>\n",
       "      <td>4.0</td>\n",
       "      <td>4</td>\n",
       "      <td>915839617</td>\n",
       "      <td>...</td>\n",
       "      <td>Addington</td>\n",
       "      <td>NZ</td>\n",
       "      <td>914237107.0</td>\n",
       "      <td>18.000000</td>\n",
       "      <td>13.8</td>\n",
       "      <td>[0.02500000037252903, 4.0, 1.0, 0.027777777984...</td>\n",
       "      <td>638803603</td>\n",
       "      <td>914184479</td>\n",
       "      <td>['dogAgeScaled', 'boxNumber', 'incomingGrade_v...</td>\n",
       "      <td>465</td>\n",
       "    </tr>\n",
       "    <tr>\n",
       "      <th>301166</th>\n",
       "      <td>2023-07-03 00:00:00+00:00</td>\n",
       "      <td>NZ</td>\n",
       "      <td>Addington</td>\n",
       "      <td>295</td>\n",
       "      <td>914184479</td>\n",
       "      <td>C1</td>\n",
       "      <td>1</td>\n",
       "      <td>6.0</td>\n",
       "      <td>6</td>\n",
       "      <td>915839619</td>\n",
       "      <td>...</td>\n",
       "      <td>Addington</td>\n",
       "      <td>NZ</td>\n",
       "      <td>918532429.0</td>\n",
       "      <td>17.000000</td>\n",
       "      <td>12.4</td>\n",
       "      <td>[0.13214285671710968, 6.0, 7.0, 0.333333343267...</td>\n",
       "      <td>614057168</td>\n",
       "      <td>914184479</td>\n",
       "      <td>['dogAgeScaled', 'boxNumber', 'incomingGrade_v...</td>\n",
       "      <td>465</td>\n",
       "    </tr>\n",
       "    <tr>\n",
       "      <th>...</th>\n",
       "      <td>...</td>\n",
       "      <td>...</td>\n",
       "      <td>...</td>\n",
       "      <td>...</td>\n",
       "      <td>...</td>\n",
       "      <td>...</td>\n",
       "      <td>...</td>\n",
       "      <td>...</td>\n",
       "      <td>...</td>\n",
       "      <td>...</td>\n",
       "      <td>...</td>\n",
       "      <td>...</td>\n",
       "      <td>...</td>\n",
       "      <td>...</td>\n",
       "      <td>...</td>\n",
       "      <td>...</td>\n",
       "      <td>...</td>\n",
       "      <td>...</td>\n",
       "      <td>...</td>\n",
       "      <td>...</td>\n",
       "      <td>...</td>\n",
       "    </tr>\n",
       "    <tr>\n",
       "      <th>301250</th>\n",
       "      <td>2023-07-03 00:00:00+00:00</td>\n",
       "      <td>NZ</td>\n",
       "      <td>Addington</td>\n",
       "      <td>295</td>\n",
       "      <td>914184490</td>\n",
       "      <td>C1</td>\n",
       "      <td>12</td>\n",
       "      <td>3.0</td>\n",
       "      <td>3</td>\n",
       "      <td>915839704</td>\n",
       "      <td>...</td>\n",
       "      <td>Addington</td>\n",
       "      <td>NZ</td>\n",
       "      <td>914186722.0</td>\n",
       "      <td>15.409545</td>\n",
       "      <td>11.1</td>\n",
       "      <td>[0.1130952388048172, 3.0, 6.0, 1.0, 0.0, 0.0, ...</td>\n",
       "      <td>638803595</td>\n",
       "      <td>914184490</td>\n",
       "      <td>['dogAgeScaled', 'boxNumber', 'incomingGrade_v...</td>\n",
       "      <td>465</td>\n",
       "    </tr>\n",
       "    <tr>\n",
       "      <th>301251</th>\n",
       "      <td>2023-07-03 00:00:00+00:00</td>\n",
       "      <td>NZ</td>\n",
       "      <td>Addington</td>\n",
       "      <td>295</td>\n",
       "      <td>914184490</td>\n",
       "      <td>C1</td>\n",
       "      <td>12</td>\n",
       "      <td>4.0</td>\n",
       "      <td>4</td>\n",
       "      <td>915839705</td>\n",
       "      <td>...</td>\n",
       "      <td>Addington</td>\n",
       "      <td>NZ</td>\n",
       "      <td>918532419.0</td>\n",
       "      <td>65.000000</td>\n",
       "      <td>29.4</td>\n",
       "      <td>[0.5773809552192688, 4.0, 1.0, 0.8863636255264...</td>\n",
       "      <td>525210989</td>\n",
       "      <td>914184490</td>\n",
       "      <td>['dogAgeScaled', 'boxNumber', 'incomingGrade_v...</td>\n",
       "      <td>465</td>\n",
       "    </tr>\n",
       "    <tr>\n",
       "      <th>301252</th>\n",
       "      <td>2023-07-03 00:00:00+00:00</td>\n",
       "      <td>NZ</td>\n",
       "      <td>Addington</td>\n",
       "      <td>295</td>\n",
       "      <td>914184490</td>\n",
       "      <td>C1</td>\n",
       "      <td>12</td>\n",
       "      <td>6.0</td>\n",
       "      <td>6</td>\n",
       "      <td>915839706</td>\n",
       "      <td>...</td>\n",
       "      <td>Addington</td>\n",
       "      <td>NZ</td>\n",
       "      <td>914237107.0</td>\n",
       "      <td>18.500000</td>\n",
       "      <td>12.4</td>\n",
       "      <td>[0.2916666567325592, 6.0, 1.0, 0.2159090936183...</td>\n",
       "      <td>592709125</td>\n",
       "      <td>914184490</td>\n",
       "      <td>['dogAgeScaled', 'boxNumber', 'incomingGrade_v...</td>\n",
       "      <td>465</td>\n",
       "    </tr>\n",
       "    <tr>\n",
       "      <th>301253</th>\n",
       "      <td>2023-07-03 00:00:00+00:00</td>\n",
       "      <td>NZ</td>\n",
       "      <td>Addington</td>\n",
       "      <td>295</td>\n",
       "      <td>914184490</td>\n",
       "      <td>C1</td>\n",
       "      <td>12</td>\n",
       "      <td>7.0</td>\n",
       "      <td>7</td>\n",
       "      <td>915839707</td>\n",
       "      <td>...</td>\n",
       "      <td>Ascot Park</td>\n",
       "      <td>NZ</td>\n",
       "      <td>914186229.0</td>\n",
       "      <td>11.500000</td>\n",
       "      <td>13.3</td>\n",
       "      <td>[0.5297619104385376, 7.0, 1.0, 0.0, 0.0, 0.0, ...</td>\n",
       "      <td>556974762</td>\n",
       "      <td>914184490</td>\n",
       "      <td>['dogAgeScaled', 'boxNumber', 'incomingGrade_v...</td>\n",
       "      <td>465</td>\n",
       "    </tr>\n",
       "    <tr>\n",
       "      <th>301254</th>\n",
       "      <td>2023-07-03 00:00:00+00:00</td>\n",
       "      <td>NZ</td>\n",
       "      <td>Addington</td>\n",
       "      <td>295</td>\n",
       "      <td>914184490</td>\n",
       "      <td>C1</td>\n",
       "      <td>12</td>\n",
       "      <td>8.0</td>\n",
       "      <td>8</td>\n",
       "      <td>915839708</td>\n",
       "      <td>...</td>\n",
       "      <td>Addington</td>\n",
       "      <td>NZ</td>\n",
       "      <td>918532418.0</td>\n",
       "      <td>220.000000</td>\n",
       "      <td>34.4</td>\n",
       "      <td>[0.8404762148857117, 8.0, 6.0, 0.1704545468091...</td>\n",
       "      <td>448840970</td>\n",
       "      <td>914184490</td>\n",
       "      <td>['dogAgeScaled', 'boxNumber', 'incomingGrade_v...</td>\n",
       "      <td>465</td>\n",
       "    </tr>\n",
       "  </tbody>\n",
       "</table>\n",
       "<p>93 rows × 155 columns</p>\n",
       "</div>"
      ],
      "text/plain": [
       "                     meetingDate state      track  distance     raceId  \\\n",
       "301162 2023-07-03 00:00:00+00:00    NZ  Addington       295  914184479   \n",
       "301163 2023-07-03 00:00:00+00:00    NZ  Addington       295  914184479   \n",
       "301164 2023-07-03 00:00:00+00:00    NZ  Addington       295  914184479   \n",
       "301165 2023-07-03 00:00:00+00:00    NZ  Addington       295  914184479   \n",
       "301166 2023-07-03 00:00:00+00:00    NZ  Addington       295  914184479   \n",
       "...                          ...   ...        ...       ...        ...   \n",
       "301250 2023-07-03 00:00:00+00:00    NZ  Addington       295  914184490   \n",
       "301251 2023-07-03 00:00:00+00:00    NZ  Addington       295  914184490   \n",
       "301252 2023-07-03 00:00:00+00:00    NZ  Addington       295  914184490   \n",
       "301253 2023-07-03 00:00:00+00:00    NZ  Addington       295  914184490   \n",
       "301254 2023-07-03 00:00:00+00:00    NZ  Addington       295  914184490   \n",
       "\n",
       "       raceTypeCode  raceNumber  boxNumber  rugNumber      runId  ...  \\\n",
       "301162           C1           1        1.0          1  915839614  ...   \n",
       "301163           C1           1        2.0          2  915839615  ...   \n",
       "301164           C1           1        3.0          3  915839616  ...   \n",
       "301165           C1           1        4.0          4  915839617  ...   \n",
       "301166           C1           1        6.0          6  915839619  ...   \n",
       "...             ...         ...        ...        ...        ...  ...   \n",
       "301250           C1          12        3.0          3  915839704  ...   \n",
       "301251           C1          12        4.0          4  915839705  ...   \n",
       "301252           C1          12        6.0          6  915839706  ...   \n",
       "301253           C1          12        7.0          7  915839707  ...   \n",
       "301254           C1          12        8.0          8  915839708  ...   \n",
       "\n",
       "        prev_race_track prev_race_state    next_race prev_BSP_price  \\\n",
       "301162        Addington              NZ  918532419.0      55.000000   \n",
       "301163        Addington              NZ  920247464.0      14.500000   \n",
       "301164        Addington              NZ  914237106.0      34.995636   \n",
       "301165        Addington              NZ  914237107.0      18.000000   \n",
       "301166        Addington              NZ  918532429.0      17.000000   \n",
       "...                 ...             ...          ...            ...   \n",
       "301250        Addington              NZ  914186722.0      15.409545   \n",
       "301251        Addington              NZ  918532419.0      65.000000   \n",
       "301252        Addington              NZ  914237107.0      18.500000   \n",
       "301253       Ascot Park              NZ  914186229.0      11.500000   \n",
       "301254        Addington              NZ  918532418.0     220.000000   \n",
       "\n",
       "        prev_start_price                                        stats_topaz  \\\n",
       "301162              38.1  [0.5339285731315613, 1.0, 1.0, 1.0, 0.0, 0.0, ...   \n",
       "301163              11.8  [1.0, 2.0, 1.0, 0.0, 0.0, 0.0, 0.1560566574335...   \n",
       "301164              21.9  [0.7160714268684387, 3.0, 6.0, 0.0462962947785...   \n",
       "301165              13.8  [0.02500000037252903, 4.0, 1.0, 0.027777777984...   \n",
       "301166              12.4  [0.13214285671710968, 6.0, 7.0, 0.333333343267...   \n",
       "...                  ...                                                ...   \n",
       "301250              11.1  [0.1130952388048172, 3.0, 6.0, 1.0, 0.0, 0.0, ...   \n",
       "301251              29.4  [0.5773809552192688, 4.0, 1.0, 0.8863636255264...   \n",
       "301252              12.4  [0.2916666567325592, 6.0, 1.0, 0.2159090936183...   \n",
       "301253              13.3  [0.5297619104385376, 7.0, 1.0, 0.0, 0.0, 0.0, ...   \n",
       "301254              34.4  [0.8404762148857117, 8.0, 6.0, 0.1704545468091...   \n",
       "\n",
       "            dogid     raceid  \\\n",
       "301162  549391123  914184479   \n",
       "301163  491585837  914184479   \n",
       "301164  525211021  914184479   \n",
       "301165  638803603  914184479   \n",
       "301166  614057168  914184479   \n",
       "...           ...        ...   \n",
       "301250  638803595  914184490   \n",
       "301251  525210989  914184490   \n",
       "301252  592709125  914184490   \n",
       "301253  556974762  914184490   \n",
       "301254  448840970  914184490   \n",
       "\n",
       "                                               stats_cols track_hash  \n",
       "301162  ['dogAgeScaled', 'boxNumber', 'incomingGrade_v...        465  \n",
       "301163  ['dogAgeScaled', 'boxNumber', 'incomingGrade_v...        465  \n",
       "301164  ['dogAgeScaled', 'boxNumber', 'incomingGrade_v...        465  \n",
       "301165  ['dogAgeScaled', 'boxNumber', 'incomingGrade_v...        465  \n",
       "301166  ['dogAgeScaled', 'boxNumber', 'incomingGrade_v...        465  \n",
       "...                                                   ...        ...  \n",
       "301250  ['dogAgeScaled', 'boxNumber', 'incomingGrade_v...        465  \n",
       "301251  ['dogAgeScaled', 'boxNumber', 'incomingGrade_v...        465  \n",
       "301252  ['dogAgeScaled', 'boxNumber', 'incomingGrade_v...        465  \n",
       "301253  ['dogAgeScaled', 'boxNumber', 'incomingGrade_v...        465  \n",
       "301254  ['dogAgeScaled', 'boxNumber', 'incomingGrade_v...        465  \n",
       "\n",
       "[93 rows x 155 columns]"
      ]
     },
     "execution_count": 4,
     "metadata": {},
     "output_type": "execute_result"
    }
   ],
   "source": [
    "single_day = data.query('meetingDate == @date')\n",
    "single_day"
   ]
  },
  {
   "cell_type": "code",
   "execution_count": 5,
   "metadata": {},
   "outputs": [],
   "source": [
    "def add_classes(df):\n",
    "    df_g = df.groupby('raceId')\n",
    "    df_out = df.copy()\n",
    "    for raceid,data in df_g:\n",
    "        print(raceid,data.shape)\n",
    "        place = torch.tensor(data['place'].values)\n",
    "        place_inv = 1/place\n",
    "        margin = torch.tensor(data['resultMargin'].values)\n",
    "        onehot = torch.tensor(data['win'].values)\n",
    "        bsp = torch.tensor(data['BSP'].values)\n",
    "\n",
    "        place_sft = F.softmin(place, dim=0)\n",
    "        margin_sft = F.softmin(margin, dim=0)\n",
    "        bosted_sft = F.softmin(margin.float()**2, dim=0)\n",
    "        bsp_prob = 1/bsp\n",
    "        df_out.loc[data.index, 'place_sft'] = place_sft.tolist()\n",
    "        df_out.loc[data.index, 'margin_sft'] = margin_sft.tolist()\n",
    "        df_out.loc[data.index, 'bosted_sft'] = bosted_sft.tolist()\n",
    "        df_out.loc[data.index, 'bsp_prob'] = bsp_prob.tolist()\n",
    "        print(place_sft, margin_sft, bosted_sft, bsp_prob)\n",
    "    return df_out\n"
   ]
  },
  {
   "cell_type": "code",
   "execution_count": 6,
   "metadata": {},
   "outputs": [
    {
     "name": "stdout",
     "output_type": "stream",
     "text": [
      "914184479 (7, 155)\n",
      "tensor([0.0116, 0.6327, 0.0043, 0.0016, 0.0856, 0.0315, 0.2328],\n",
      "       dtype=torch.float64) tensor([1.1038e-03, 9.4267e-01, 4.0605e-04, 9.0601e-05, 4.9467e-03, 3.8525e-03,\n",
      "        4.6933e-02], dtype=torch.float64) tensor([1.6308e-20, 9.9988e-01, 8.2250e-27, 6.9283e-38, 1.0708e-12, 7.2868e-14,\n",
      "        1.2339e-04]) tensor([0.0533, 0.3558, 0.0526, 0.2083, 0.0909, 0.0932, 0.1220],\n",
      "       dtype=torch.float64)\n",
      "914184480 (8, 155)\n",
      "tensor([4.2606e-03, 1.1582e-02, 1.5674e-03, 2.3262e-01, 6.3233e-01, 3.1482e-02,\n",
      "        5.7661e-04, 8.5577e-02], dtype=torch.float64) tensor([7.7438e-05, 1.2113e-03, 3.6579e-05, 1.7978e-01, 8.0571e-01, 4.2280e-03,\n",
      "        8.1619e-06, 8.9506e-03], dtype=torch.float64) tensor([6.2684e-38, 4.0508e-19, 3.3631e-44, 9.5349e-02, 9.0465e-01, 9.6881e-13,\n",
      "        0.0000e+00, 1.4522e-09]) tensor([0.2474, 0.0436, 0.0344, 0.1887, 0.0615, 0.2420, 0.0111, 0.1471],\n",
      "       dtype=torch.float64)\n",
      "914184481 (8, 155)\n",
      "tensor([6.3233e-01, 3.1482e-02, 2.3262e-01, 8.5577e-02, 4.2606e-03, 5.7661e-04,\n",
      "        1.5674e-03, 1.1582e-02], dtype=torch.float64) tensor([8.1185e-01, 7.0239e-03, 1.0987e-01, 6.6641e-02, 2.1210e-04, 8.2242e-06,\n",
      "        1.2865e-04, 4.2602e-03], dtype=torch.float64) tensor([9.8016e-01, 1.5579e-10, 1.7952e-02, 1.8921e-03, 2.7047e-30, 0.0000e+00,\n",
      "        5.5033e-34, 1.0497e-12]) tensor([0.1613, 0.2273, 0.2282, 0.0464, 0.1165, 0.0037, 0.0691, 0.1429],\n",
      "       dtype=torch.float64)\n",
      "914184482 (7, 155)\n",
      "tensor([0.0315, 0.0016, 0.0116, 0.2328, 0.6327, 0.0043, 0.0856],\n",
      "       dtype=torch.float64) tensor([3.9594e-03, 5.6478e-05, 3.0836e-03, 1.3820e-02, 9.6883e-01, 1.8703e-03,\n",
      "        8.3820e-03], dtype=torch.float64) tensor([7.2877e-14, 5.1862e-42, 4.3766e-15, 1.4307e-08, 1.0000e+00, 1.0849e-17,\n",
      "        1.5894e-10]) tensor([0.2661, 0.0050, 0.1567, 0.0312, 0.3643, 0.0312, 0.1471],\n",
      "       dtype=torch.float64)\n",
      "914184483 (8, 155)\n",
      "tensor([3.1482e-02, 5.7661e-04, 8.5577e-02, 1.5674e-03, 6.3233e-01, 4.2606e-03,\n",
      "        2.3262e-01, 1.1582e-02], dtype=torch.float64) tensor([5.8249e-03, 5.3116e-06, 5.5265e-02, 1.1245e-05, 8.6449e-01, 1.2997e-03,\n",
      "        7.0962e-02, 2.1429e-03], dtype=torch.float64) tensor([1.3854e-11, 0.0000e+00, 5.1830e-04, 0.0000e+00, 9.9756e-01, 4.4668e-19,\n",
      "        1.9257e-03, 2.3139e-16]) tensor([0.0357, 0.0037, 0.1000, 0.0086, 0.3717, 0.3676, 0.0476, 0.0576],\n",
      "       dtype=torch.float64)\n",
      "914184484 (8, 155)\n",
      "tensor([8.5577e-02, 3.1482e-02, 6.3233e-01, 2.3262e-01, 5.7661e-04, 1.5674e-03,\n",
      "        4.2606e-03, 1.1582e-02], dtype=torch.float64) tensor([1.3824e-01, 3.2512e-03, 4.8252e-01, 3.7579e-01, 8.0589e-06, 2.8128e-05,\n",
      "        5.9548e-05, 9.8178e-05], dtype=torch.float64) tensor([9.7538e-02, 6.4624e-12, 4.6533e-01, 4.3713e-01, 0.0000e+00, 2.4130e-42,\n",
      "        3.0896e-36, 1.9498e-32]) tensor([0.0850, 0.1384, 0.1551, 0.1948, 0.0278, 0.3276, 0.0263, 0.0435],\n",
      "       dtype=torch.float64)\n",
      "914184485 (8, 155)\n",
      "tensor([1.1582e-02, 1.5674e-03, 5.7661e-04, 2.3262e-01, 3.1482e-02, 4.2606e-03,\n",
      "        6.3233e-01, 8.5577e-02], dtype=torch.float64) tensor([4.5939e-06, 8.4140e-08, 7.2796e-10, 2.1421e-01, 8.7544e-04, 8.4140e-08,\n",
      "        7.4768e-01, 3.7225e-02], dtype=torch.float64) tensor([0.0000e+00, 0.0000e+00, 0.0000e+00, 1.7327e-01, 1.3482e-20, 0.0000e+00,\n",
      "        8.2663e-01, 1.0201e-04]) tensor([0.0133, 0.1389, 0.1598, 0.2740, 0.0656, 0.0056, 0.1518, 0.1770],\n",
      "       dtype=torch.float64)\n",
      "914184486 (8, 155)\n",
      "tensor([4.2606e-03, 6.3233e-01, 1.1582e-02, 1.5674e-03, 8.5577e-02, 5.7661e-04,\n",
      "        2.3262e-01, 3.1482e-02], dtype=torch.float64) tensor([2.9698e-04, 8.8527e-01, 9.8345e-03, 1.8012e-04, 4.4075e-02, 5.1607e-05,\n",
      "        4.4075e-02, 1.6214e-02], dtype=torch.float64) tensor([1.6034e-28, 9.9975e-01, 1.6048e-09, 4.1891e-32, 1.2338e-04, 5.1848e-42,\n",
      "        1.2338e-04, 1.1251e-07]) tensor([0.2059, 0.2532, 0.1544, 0.0250, 0.1431, 0.0813, 0.0278, 0.1087],\n",
      "       dtype=torch.float64)\n",
      "914184487 (8, 155)\n",
      "tensor([6.3233e-01, 1.5674e-03, 3.1482e-02, 4.2606e-03, 1.1582e-02, 8.5577e-02,\n",
      "        5.7661e-04, 2.3262e-01], dtype=torch.float64) tensor([5.5636e-01, 1.3084e-02, 7.5295e-02, 1.3084e-02, 5.8640e-02, 1.2414e-01,\n",
      "        2.0733e-06, 1.5940e-01], dtype=torch.float64) tensor([7.4646e-01, 5.8310e-07, 1.3672e-02, 5.8310e-07, 4.7249e-03, 7.8676e-02,\n",
      "        0.0000e+00, 1.5647e-01]) tensor([0.2017, 0.0645, 0.0476, 0.1145, 0.0800, 0.2414, 0.1389, 0.1190],\n",
      "       dtype=torch.float64)\n",
      "914184488 (8, 155)\n",
      "tensor([8.5577e-02, 6.3233e-01, 3.1482e-02, 4.2606e-03, 5.7661e-04, 1.1582e-02,\n",
      "        2.3262e-01, 1.5674e-03], dtype=torch.float64) tensor([6.4924e-03, 9.6356e-01, 4.1505e-04, 9.2609e-05, 1.6962e-06, 3.2324e-04,\n",
      "        2.9097e-02, 2.0664e-05], dtype=torch.float64) tensor([1.3888e-11, 1.0000e+00, 8.2259e-27, 6.9291e-38, 0.0000e+00, 1.6038e-28,\n",
      "        4.7851e-06, 0.0000e+00]) tensor([0.2678, 0.3356, 0.0056, 0.0476, 0.2351, 0.0278, 0.0714, 0.0118],\n",
      "       dtype=torch.float64)\n",
      "914184489 (8, 155)\n",
      "tensor([8.5577e-02, 1.5674e-03, 5.7661e-04, 4.2606e-03, 3.1482e-02, 1.1582e-02,\n",
      "        2.3262e-01, 6.3233e-01], dtype=torch.float64) tensor([4.9032e-03, 2.7119e-06, 2.8583e-07, 7.3716e-06, 6.6357e-04, 3.1345e-04,\n",
      "        5.9733e-02, 9.3438e-01], dtype=torch.float64) tensor([1.0704e-12, 0.0000e+00, 0.0000e+00, 0.0000e+00, 1.4865e-23, 1.6030e-28,\n",
      "        5.1930e-04, 9.9948e-01]) tensor([0.0987, 0.1187, 0.0476, 0.0081, 0.4676, 0.0625, 0.0227, 0.1806],\n",
      "       dtype=torch.float64)\n",
      "914184490 (7, 155)\n",
      "tensor([0.0116, 0.0856, 0.6327, 0.2328, 0.0043, 0.0315, 0.0016],\n",
      "       dtype=torch.float64) tensor([5.5372e-04, 3.8819e-02, 7.7970e-01, 1.7397e-01, 2.0370e-04, 6.7457e-03,\n",
      "        4.7906e-06], dtype=torch.float64) tensor([1.3453e-23, 1.1163e-04, 9.0455e-01, 9.5339e-02, 2.4961e-30, 1.4377e-10,\n",
      "        0.0000e+00]) tensor([0.1277, 0.1663, 0.2817, 0.0455, 0.0690, 0.3125, 0.0077],\n",
      "       dtype=torch.float64)\n"
     ]
    }
   ],
   "source": [
    "single_day.loc[single_day['place']==1, 'resultMargin']=0\n",
    "test_df = add_classes(single_day)"
   ]
  },
  {
   "cell_type": "code",
   "execution_count": 7,
   "metadata": {},
   "outputs": [
    {
     "data": {
      "text/html": [
       "<div>\n",
       "<style scoped>\n",
       "    .dataframe tbody tr th:only-of-type {\n",
       "        vertical-align: middle;\n",
       "    }\n",
       "\n",
       "    .dataframe tbody tr th {\n",
       "        vertical-align: top;\n",
       "    }\n",
       "\n",
       "    .dataframe thead th {\n",
       "        text-align: right;\n",
       "    }\n",
       "</style>\n",
       "<table border=\"1\" class=\"dataframe\">\n",
       "  <thead>\n",
       "    <tr style=\"text-align: right;\">\n",
       "      <th></th>\n",
       "      <th>meetingDate</th>\n",
       "      <th>state</th>\n",
       "      <th>track</th>\n",
       "      <th>distance</th>\n",
       "      <th>raceId</th>\n",
       "      <th>raceTypeCode</th>\n",
       "      <th>raceNumber</th>\n",
       "      <th>boxNumber</th>\n",
       "      <th>rugNumber</th>\n",
       "      <th>runId</th>\n",
       "      <th>...</th>\n",
       "      <th>prev_start_price</th>\n",
       "      <th>stats_topaz</th>\n",
       "      <th>dogid</th>\n",
       "      <th>raceid</th>\n",
       "      <th>stats_cols</th>\n",
       "      <th>track_hash</th>\n",
       "      <th>place_sft</th>\n",
       "      <th>margin_sft</th>\n",
       "      <th>bosted_sft</th>\n",
       "      <th>bsp_prob</th>\n",
       "    </tr>\n",
       "  </thead>\n",
       "  <tbody>\n",
       "    <tr>\n",
       "      <th>301162</th>\n",
       "      <td>2023-07-03 00:00:00+00:00</td>\n",
       "      <td>NZ</td>\n",
       "      <td>Addington</td>\n",
       "      <td>295</td>\n",
       "      <td>914184479</td>\n",
       "      <td>C1</td>\n",
       "      <td>1</td>\n",
       "      <td>1.0</td>\n",
       "      <td>1</td>\n",
       "      <td>915839614</td>\n",
       "      <td>...</td>\n",
       "      <td>38.1</td>\n",
       "      <td>[0.5339285731315613, 1.0, 1.0, 1.0, 0.0, 0.0, ...</td>\n",
       "      <td>549391123</td>\n",
       "      <td>914184479</td>\n",
       "      <td>['dogAgeScaled', 'boxNumber', 'incomingGrade_v...</td>\n",
       "      <td>465</td>\n",
       "      <td>0.011588</td>\n",
       "      <td>0.001104</td>\n",
       "      <td>1.630813e-20</td>\n",
       "      <td>0.053331</td>\n",
       "    </tr>\n",
       "    <tr>\n",
       "      <th>301163</th>\n",
       "      <td>2023-07-03 00:00:00+00:00</td>\n",
       "      <td>NZ</td>\n",
       "      <td>Addington</td>\n",
       "      <td>295</td>\n",
       "      <td>914184479</td>\n",
       "      <td>C1</td>\n",
       "      <td>1</td>\n",
       "      <td>2.0</td>\n",
       "      <td>2</td>\n",
       "      <td>915839615</td>\n",
       "      <td>...</td>\n",
       "      <td>11.8</td>\n",
       "      <td>[1.0, 2.0, 1.0, 0.0, 0.0, 0.0, 0.1560566574335...</td>\n",
       "      <td>491585837</td>\n",
       "      <td>914184479</td>\n",
       "      <td>['dogAgeScaled', 'boxNumber', 'incomingGrade_v...</td>\n",
       "      <td>465</td>\n",
       "      <td>0.632698</td>\n",
       "      <td>0.942668</td>\n",
       "      <td>9.998766e-01</td>\n",
       "      <td>0.355826</td>\n",
       "    </tr>\n",
       "    <tr>\n",
       "      <th>301164</th>\n",
       "      <td>2023-07-03 00:00:00+00:00</td>\n",
       "      <td>NZ</td>\n",
       "      <td>Addington</td>\n",
       "      <td>295</td>\n",
       "      <td>914184479</td>\n",
       "      <td>C1</td>\n",
       "      <td>1</td>\n",
       "      <td>3.0</td>\n",
       "      <td>3</td>\n",
       "      <td>915839616</td>\n",
       "      <td>...</td>\n",
       "      <td>21.9</td>\n",
       "      <td>[0.7160714268684387, 3.0, 6.0, 0.0462962947785...</td>\n",
       "      <td>525211021</td>\n",
       "      <td>914184479</td>\n",
       "      <td>['dogAgeScaled', 'boxNumber', 'incomingGrade_v...</td>\n",
       "      <td>465</td>\n",
       "      <td>0.004263</td>\n",
       "      <td>0.000406</td>\n",
       "      <td>8.224966e-27</td>\n",
       "      <td>0.052632</td>\n",
       "    </tr>\n",
       "    <tr>\n",
       "      <th>301165</th>\n",
       "      <td>2023-07-03 00:00:00+00:00</td>\n",
       "      <td>NZ</td>\n",
       "      <td>Addington</td>\n",
       "      <td>295</td>\n",
       "      <td>914184479</td>\n",
       "      <td>C1</td>\n",
       "      <td>1</td>\n",
       "      <td>4.0</td>\n",
       "      <td>4</td>\n",
       "      <td>915839617</td>\n",
       "      <td>...</td>\n",
       "      <td>13.8</td>\n",
       "      <td>[0.02500000037252903, 4.0, 1.0, 0.027777777984...</td>\n",
       "      <td>638803603</td>\n",
       "      <td>914184479</td>\n",
       "      <td>['dogAgeScaled', 'boxNumber', 'incomingGrade_v...</td>\n",
       "      <td>465</td>\n",
       "      <td>0.001568</td>\n",
       "      <td>0.000091</td>\n",
       "      <td>6.928270e-38</td>\n",
       "      <td>0.208333</td>\n",
       "    </tr>\n",
       "    <tr>\n",
       "      <th>301166</th>\n",
       "      <td>2023-07-03 00:00:00+00:00</td>\n",
       "      <td>NZ</td>\n",
       "      <td>Addington</td>\n",
       "      <td>295</td>\n",
       "      <td>914184479</td>\n",
       "      <td>C1</td>\n",
       "      <td>1</td>\n",
       "      <td>6.0</td>\n",
       "      <td>6</td>\n",
       "      <td>915839619</td>\n",
       "      <td>...</td>\n",
       "      <td>12.4</td>\n",
       "      <td>[0.13214285671710968, 6.0, 7.0, 0.333333343267...</td>\n",
       "      <td>614057168</td>\n",
       "      <td>914184479</td>\n",
       "      <td>['dogAgeScaled', 'boxNumber', 'incomingGrade_v...</td>\n",
       "      <td>465</td>\n",
       "      <td>0.085626</td>\n",
       "      <td>0.004947</td>\n",
       "      <td>1.070791e-12</td>\n",
       "      <td>0.090909</td>\n",
       "    </tr>\n",
       "    <tr>\n",
       "      <th>...</th>\n",
       "      <td>...</td>\n",
       "      <td>...</td>\n",
       "      <td>...</td>\n",
       "      <td>...</td>\n",
       "      <td>...</td>\n",
       "      <td>...</td>\n",
       "      <td>...</td>\n",
       "      <td>...</td>\n",
       "      <td>...</td>\n",
       "      <td>...</td>\n",
       "      <td>...</td>\n",
       "      <td>...</td>\n",
       "      <td>...</td>\n",
       "      <td>...</td>\n",
       "      <td>...</td>\n",
       "      <td>...</td>\n",
       "      <td>...</td>\n",
       "      <td>...</td>\n",
       "      <td>...</td>\n",
       "      <td>...</td>\n",
       "      <td>...</td>\n",
       "    </tr>\n",
       "    <tr>\n",
       "      <th>301250</th>\n",
       "      <td>2023-07-03 00:00:00+00:00</td>\n",
       "      <td>NZ</td>\n",
       "      <td>Addington</td>\n",
       "      <td>295</td>\n",
       "      <td>914184490</td>\n",
       "      <td>C1</td>\n",
       "      <td>12</td>\n",
       "      <td>3.0</td>\n",
       "      <td>3</td>\n",
       "      <td>915839704</td>\n",
       "      <td>...</td>\n",
       "      <td>11.1</td>\n",
       "      <td>[0.1130952388048172, 3.0, 6.0, 1.0, 0.0, 0.0, ...</td>\n",
       "      <td>638803595</td>\n",
       "      <td>914184490</td>\n",
       "      <td>['dogAgeScaled', 'boxNumber', 'incomingGrade_v...</td>\n",
       "      <td>465</td>\n",
       "      <td>0.632698</td>\n",
       "      <td>0.779699</td>\n",
       "      <td>9.045495e-01</td>\n",
       "      <td>0.281690</td>\n",
       "    </tr>\n",
       "    <tr>\n",
       "      <th>301251</th>\n",
       "      <td>2023-07-03 00:00:00+00:00</td>\n",
       "      <td>NZ</td>\n",
       "      <td>Addington</td>\n",
       "      <td>295</td>\n",
       "      <td>914184490</td>\n",
       "      <td>C1</td>\n",
       "      <td>12</td>\n",
       "      <td>4.0</td>\n",
       "      <td>4</td>\n",
       "      <td>915839705</td>\n",
       "      <td>...</td>\n",
       "      <td>29.4</td>\n",
       "      <td>[0.5773809552192688, 4.0, 1.0, 0.8863636255264...</td>\n",
       "      <td>525210989</td>\n",
       "      <td>914184490</td>\n",
       "      <td>['dogAgeScaled', 'boxNumber', 'incomingGrade_v...</td>\n",
       "      <td>465</td>\n",
       "      <td>0.232756</td>\n",
       "      <td>0.173974</td>\n",
       "      <td>9.533881e-02</td>\n",
       "      <td>0.045455</td>\n",
       "    </tr>\n",
       "    <tr>\n",
       "      <th>301252</th>\n",
       "      <td>2023-07-03 00:00:00+00:00</td>\n",
       "      <td>NZ</td>\n",
       "      <td>Addington</td>\n",
       "      <td>295</td>\n",
       "      <td>914184490</td>\n",
       "      <td>C1</td>\n",
       "      <td>12</td>\n",
       "      <td>6.0</td>\n",
       "      <td>6</td>\n",
       "      <td>915839706</td>\n",
       "      <td>...</td>\n",
       "      <td>12.4</td>\n",
       "      <td>[0.2916666567325592, 6.0, 1.0, 0.2159090936183...</td>\n",
       "      <td>592709125</td>\n",
       "      <td>914184490</td>\n",
       "      <td>['dogAgeScaled', 'boxNumber', 'incomingGrade_v...</td>\n",
       "      <td>465</td>\n",
       "      <td>0.004263</td>\n",
       "      <td>0.000204</td>\n",
       "      <td>2.496113e-30</td>\n",
       "      <td>0.068966</td>\n",
       "    </tr>\n",
       "    <tr>\n",
       "      <th>301253</th>\n",
       "      <td>2023-07-03 00:00:00+00:00</td>\n",
       "      <td>NZ</td>\n",
       "      <td>Addington</td>\n",
       "      <td>295</td>\n",
       "      <td>914184490</td>\n",
       "      <td>C1</td>\n",
       "      <td>12</td>\n",
       "      <td>7.0</td>\n",
       "      <td>7</td>\n",
       "      <td>915839707</td>\n",
       "      <td>...</td>\n",
       "      <td>13.3</td>\n",
       "      <td>[0.5297619104385376, 7.0, 1.0, 0.0, 0.0, 0.0, ...</td>\n",
       "      <td>556974762</td>\n",
       "      <td>914184490</td>\n",
       "      <td>['dogAgeScaled', 'boxNumber', 'incomingGrade_v...</td>\n",
       "      <td>465</td>\n",
       "      <td>0.031500</td>\n",
       "      <td>0.006746</td>\n",
       "      <td>1.437683e-10</td>\n",
       "      <td>0.312500</td>\n",
       "    </tr>\n",
       "    <tr>\n",
       "      <th>301254</th>\n",
       "      <td>2023-07-03 00:00:00+00:00</td>\n",
       "      <td>NZ</td>\n",
       "      <td>Addington</td>\n",
       "      <td>295</td>\n",
       "      <td>914184490</td>\n",
       "      <td>C1</td>\n",
       "      <td>12</td>\n",
       "      <td>8.0</td>\n",
       "      <td>8</td>\n",
       "      <td>915839708</td>\n",
       "      <td>...</td>\n",
       "      <td>34.4</td>\n",
       "      <td>[0.8404762148857117, 8.0, 6.0, 0.1704545468091...</td>\n",
       "      <td>448840970</td>\n",
       "      <td>914184490</td>\n",
       "      <td>['dogAgeScaled', 'boxNumber', 'incomingGrade_v...</td>\n",
       "      <td>465</td>\n",
       "      <td>0.001568</td>\n",
       "      <td>0.000005</td>\n",
       "      <td>0.000000e+00</td>\n",
       "      <td>0.007692</td>\n",
       "    </tr>\n",
       "  </tbody>\n",
       "</table>\n",
       "<p>93 rows × 159 columns</p>\n",
       "</div>"
      ],
      "text/plain": [
       "                     meetingDate state      track  distance     raceId  \\\n",
       "301162 2023-07-03 00:00:00+00:00    NZ  Addington       295  914184479   \n",
       "301163 2023-07-03 00:00:00+00:00    NZ  Addington       295  914184479   \n",
       "301164 2023-07-03 00:00:00+00:00    NZ  Addington       295  914184479   \n",
       "301165 2023-07-03 00:00:00+00:00    NZ  Addington       295  914184479   \n",
       "301166 2023-07-03 00:00:00+00:00    NZ  Addington       295  914184479   \n",
       "...                          ...   ...        ...       ...        ...   \n",
       "301250 2023-07-03 00:00:00+00:00    NZ  Addington       295  914184490   \n",
       "301251 2023-07-03 00:00:00+00:00    NZ  Addington       295  914184490   \n",
       "301252 2023-07-03 00:00:00+00:00    NZ  Addington       295  914184490   \n",
       "301253 2023-07-03 00:00:00+00:00    NZ  Addington       295  914184490   \n",
       "301254 2023-07-03 00:00:00+00:00    NZ  Addington       295  914184490   \n",
       "\n",
       "       raceTypeCode  raceNumber  boxNumber  rugNumber      runId  ...  \\\n",
       "301162           C1           1        1.0          1  915839614  ...   \n",
       "301163           C1           1        2.0          2  915839615  ...   \n",
       "301164           C1           1        3.0          3  915839616  ...   \n",
       "301165           C1           1        4.0          4  915839617  ...   \n",
       "301166           C1           1        6.0          6  915839619  ...   \n",
       "...             ...         ...        ...        ...        ...  ...   \n",
       "301250           C1          12        3.0          3  915839704  ...   \n",
       "301251           C1          12        4.0          4  915839705  ...   \n",
       "301252           C1          12        6.0          6  915839706  ...   \n",
       "301253           C1          12        7.0          7  915839707  ...   \n",
       "301254           C1          12        8.0          8  915839708  ...   \n",
       "\n",
       "        prev_start_price                                        stats_topaz  \\\n",
       "301162              38.1  [0.5339285731315613, 1.0, 1.0, 1.0, 0.0, 0.0, ...   \n",
       "301163              11.8  [1.0, 2.0, 1.0, 0.0, 0.0, 0.0, 0.1560566574335...   \n",
       "301164              21.9  [0.7160714268684387, 3.0, 6.0, 0.0462962947785...   \n",
       "301165              13.8  [0.02500000037252903, 4.0, 1.0, 0.027777777984...   \n",
       "301166              12.4  [0.13214285671710968, 6.0, 7.0, 0.333333343267...   \n",
       "...                  ...                                                ...   \n",
       "301250              11.1  [0.1130952388048172, 3.0, 6.0, 1.0, 0.0, 0.0, ...   \n",
       "301251              29.4  [0.5773809552192688, 4.0, 1.0, 0.8863636255264...   \n",
       "301252              12.4  [0.2916666567325592, 6.0, 1.0, 0.2159090936183...   \n",
       "301253              13.3  [0.5297619104385376, 7.0, 1.0, 0.0, 0.0, 0.0, ...   \n",
       "301254              34.4  [0.8404762148857117, 8.0, 6.0, 0.1704545468091...   \n",
       "\n",
       "            dogid     raceid  \\\n",
       "301162  549391123  914184479   \n",
       "301163  491585837  914184479   \n",
       "301164  525211021  914184479   \n",
       "301165  638803603  914184479   \n",
       "301166  614057168  914184479   \n",
       "...           ...        ...   \n",
       "301250  638803595  914184490   \n",
       "301251  525210989  914184490   \n",
       "301252  592709125  914184490   \n",
       "301253  556974762  914184490   \n",
       "301254  448840970  914184490   \n",
       "\n",
       "                                               stats_cols track_hash  \\\n",
       "301162  ['dogAgeScaled', 'boxNumber', 'incomingGrade_v...        465   \n",
       "301163  ['dogAgeScaled', 'boxNumber', 'incomingGrade_v...        465   \n",
       "301164  ['dogAgeScaled', 'boxNumber', 'incomingGrade_v...        465   \n",
       "301165  ['dogAgeScaled', 'boxNumber', 'incomingGrade_v...        465   \n",
       "301166  ['dogAgeScaled', 'boxNumber', 'incomingGrade_v...        465   \n",
       "...                                                   ...        ...   \n",
       "301250  ['dogAgeScaled', 'boxNumber', 'incomingGrade_v...        465   \n",
       "301251  ['dogAgeScaled', 'boxNumber', 'incomingGrade_v...        465   \n",
       "301252  ['dogAgeScaled', 'boxNumber', 'incomingGrade_v...        465   \n",
       "301253  ['dogAgeScaled', 'boxNumber', 'incomingGrade_v...        465   \n",
       "301254  ['dogAgeScaled', 'boxNumber', 'incomingGrade_v...        465   \n",
       "\n",
       "        place_sft margin_sft    bosted_sft  bsp_prob  \n",
       "301162   0.011588   0.001104  1.630813e-20  0.053331  \n",
       "301163   0.632698   0.942668  9.998766e-01  0.355826  \n",
       "301164   0.004263   0.000406  8.224966e-27  0.052632  \n",
       "301165   0.001568   0.000091  6.928270e-38  0.208333  \n",
       "301166   0.085626   0.004947  1.070791e-12  0.090909  \n",
       "...           ...        ...           ...       ...  \n",
       "301250   0.632698   0.779699  9.045495e-01  0.281690  \n",
       "301251   0.232756   0.173974  9.533881e-02  0.045455  \n",
       "301252   0.004263   0.000204  2.496113e-30  0.068966  \n",
       "301253   0.031500   0.006746  1.437683e-10  0.312500  \n",
       "301254   0.001568   0.000005  0.000000e+00  0.007692  \n",
       "\n",
       "[93 rows x 159 columns]"
      ]
     },
     "execution_count": 7,
     "metadata": {},
     "output_type": "execute_result"
    }
   ],
   "source": [
    "test_df"
   ]
  },
  {
   "cell_type": "code",
   "execution_count": 51,
   "metadata": {},
   "outputs": [],
   "source": [
    "single_race.loc[single_race['place']==1, 'resultMargin']=0"
   ]
  },
  {
   "cell_type": "code",
   "execution_count": 9,
   "metadata": {},
   "outputs": [
    {
     "data": {
      "text/plain": [
       "Index(['meetingDate', 'state', 'track', 'distance', 'raceId', 'raceTypeCode',\n",
       "       'raceNumber', 'boxNumber', 'rugNumber', 'runId',\n",
       "       ...\n",
       "       'prev_race_track', 'prev_race_state', 'next_race', 'prev_BSP_price',\n",
       "       'prev_start_price', 'stats_topaz', 'dogid', 'raceid', 'stats_cols',\n",
       "       'track_hash'],\n",
       "      dtype='object', length=155)"
      ]
     },
     "execution_count": 9,
     "metadata": {},
     "output_type": "execute_result"
    }
   ],
   "source": [
    "single_race.columns"
   ]
  },
  {
   "cell_type": "code",
   "execution_count": 10,
   "metadata": {},
   "outputs": [
    {
     "data": {
      "text/plain": [
       "301200    11.770853\n",
       "301201     7.227368\n",
       "301202     6.449292\n",
       "301203     5.134301\n",
       "301204    36.000000\n",
       "301205     3.052785\n",
       "301206    38.000000\n",
       "301207    23.000000\n",
       "Name: BSP, dtype: float64"
      ]
     },
     "execution_count": 10,
     "metadata": {},
     "output_type": "execute_result"
    }
   ],
   "source": [
    "single_race.BSP"
   ]
  },
  {
   "cell_type": "code",
   "execution_count": 53,
   "metadata": {},
   "outputs": [],
   "source": [
    "place = torch.tensor(single_race['place'].values)\n",
    "place_inv = 1/place\n",
    "margin = torch.tensor(single_race['resultMargin'].values)\n",
    "onehot = torch.tensor(single_race['win'].values)\n",
    "bsp = torch.tensor(single_race['BSP'].values)"
   ]
  },
  {
   "cell_type": "code",
   "execution_count": null,
   "metadata": {},
   "outputs": [],
   "source": []
  },
  {
   "cell_type": "code",
   "execution_count": 43,
   "metadata": {},
   "outputs": [
    {
     "data": {
      "text/plain": [
       "tensor([ 1.2500,  5.0000,  0.2500,  0.2500, 11.0000,  9.7500,  9.0000,  8.5000],\n",
       "       dtype=torch.float64)"
      ]
     },
     "execution_count": 43,
     "metadata": {},
     "output_type": "execute_result"
    }
   ],
   "source": [
    "margin"
   ]
  },
  {
   "cell_type": "code",
   "execution_count": 54,
   "metadata": {},
   "outputs": [],
   "source": [
    "place_sft = F.softmin(place, dim=0)\n",
    "margin_sft = F.softmin(margin, dim=0)\n",
    "bosted_sft = F.softmin(margin.float()**2, dim=0)\n",
    "bsp_prob = 1/bsp"
   ]
  },
  {
   "cell_type": "code",
   "execution_count": 45,
   "metadata": {},
   "outputs": [
    {
     "data": {
      "text/plain": [
       "tensor([0.0850, 0.1384, 0.1551, 0.1948, 0.0278, 0.3276, 0.0263, 0.0435],\n",
       "       dtype=torch.float64)"
      ]
     },
     "execution_count": 45,
     "metadata": {},
     "output_type": "execute_result"
    }
   ],
   "source": [
    "bsp_prob"
   ]
  },
  {
   "cell_type": "code",
   "execution_count": null,
   "metadata": {},
   "outputs": [],
   "source": []
  },
  {
   "cell_type": "code",
   "execution_count": 46,
   "metadata": {},
   "outputs": [
    {
     "data": {
      "text/html": [
       "<div>\n",
       "<style scoped>\n",
       "    .dataframe tbody tr th:only-of-type {\n",
       "        vertical-align: middle;\n",
       "    }\n",
       "\n",
       "    .dataframe tbody tr th {\n",
       "        vertical-align: top;\n",
       "    }\n",
       "\n",
       "    .dataframe thead th {\n",
       "        text-align: right;\n",
       "    }\n",
       "</style>\n",
       "<table border=\"1\" class=\"dataframe\">\n",
       "  <thead>\n",
       "    <tr style=\"text-align: right;\">\n",
       "      <th></th>\n",
       "      <th>boxNumber</th>\n",
       "      <th>win</th>\n",
       "      <th>resultMargin</th>\n",
       "      <th>place</th>\n",
       "      <th>resultTime</th>\n",
       "      <th>BSP</th>\n",
       "    </tr>\n",
       "  </thead>\n",
       "  <tbody>\n",
       "    <tr>\n",
       "      <th>301200</th>\n",
       "      <td>1.0</td>\n",
       "      <td>0</td>\n",
       "      <td>1.25</td>\n",
       "      <td>3.0</td>\n",
       "      <td>17.8593</td>\n",
       "      <td>11.770853</td>\n",
       "    </tr>\n",
       "    <tr>\n",
       "      <th>301201</th>\n",
       "      <td>2.0</td>\n",
       "      <td>0</td>\n",
       "      <td>5.00</td>\n",
       "      <td>4.0</td>\n",
       "      <td>18.0798</td>\n",
       "      <td>7.227368</td>\n",
       "    </tr>\n",
       "    <tr>\n",
       "      <th>301202</th>\n",
       "      <td>3.0</td>\n",
       "      <td>1</td>\n",
       "      <td>0.25</td>\n",
       "      <td>1.0</td>\n",
       "      <td>17.7900</td>\n",
       "      <td>6.449292</td>\n",
       "    </tr>\n",
       "    <tr>\n",
       "      <th>301203</th>\n",
       "      <td>4.0</td>\n",
       "      <td>0</td>\n",
       "      <td>0.25</td>\n",
       "      <td>2.0</td>\n",
       "      <td>17.7963</td>\n",
       "      <td>5.134301</td>\n",
       "    </tr>\n",
       "    <tr>\n",
       "      <th>301204</th>\n",
       "      <td>5.0</td>\n",
       "      <td>0</td>\n",
       "      <td>11.00</td>\n",
       "      <td>8.0</td>\n",
       "      <td>18.4452</td>\n",
       "      <td>36.000000</td>\n",
       "    </tr>\n",
       "    <tr>\n",
       "      <th>301205</th>\n",
       "      <td>6.0</td>\n",
       "      <td>0</td>\n",
       "      <td>9.75</td>\n",
       "      <td>7.0</td>\n",
       "      <td>18.3633</td>\n",
       "      <td>3.052785</td>\n",
       "    </tr>\n",
       "    <tr>\n",
       "      <th>301206</th>\n",
       "      <td>7.0</td>\n",
       "      <td>0</td>\n",
       "      <td>9.00</td>\n",
       "      <td>6.0</td>\n",
       "      <td>18.3318</td>\n",
       "      <td>38.000000</td>\n",
       "    </tr>\n",
       "    <tr>\n",
       "      <th>301207</th>\n",
       "      <td>8.0</td>\n",
       "      <td>0</td>\n",
       "      <td>8.50</td>\n",
       "      <td>5.0</td>\n",
       "      <td>18.2877</td>\n",
       "      <td>23.000000</td>\n",
       "    </tr>\n",
       "  </tbody>\n",
       "</table>\n",
       "</div>"
      ],
      "text/plain": [
       "        boxNumber  win  resultMargin  place  resultTime        BSP\n",
       "301200        1.0    0          1.25    3.0     17.8593  11.770853\n",
       "301201        2.0    0          5.00    4.0     18.0798   7.227368\n",
       "301202        3.0    1          0.25    1.0     17.7900   6.449292\n",
       "301203        4.0    0          0.25    2.0     17.7963   5.134301\n",
       "301204        5.0    0         11.00    8.0     18.4452  36.000000\n",
       "301205        6.0    0          9.75    7.0     18.3633   3.052785\n",
       "301206        7.0    0          9.00    6.0     18.3318  38.000000\n",
       "301207        8.0    0          8.50    5.0     18.2877  23.000000"
      ]
     },
     "execution_count": 46,
     "metadata": {},
     "output_type": "execute_result"
    }
   ],
   "source": [
    "single_race[['boxNumber','win','resultMargin','place','resultTime','BSP']]"
   ]
  },
  {
   "cell_type": "code",
   "execution_count": 47,
   "metadata": {},
   "outputs": [
    {
     "data": {
      "text/html": [
       "<div>\n",
       "<style scoped>\n",
       "    .dataframe tbody tr th:only-of-type {\n",
       "        vertical-align: middle;\n",
       "    }\n",
       "\n",
       "    .dataframe tbody tr th {\n",
       "        vertical-align: top;\n",
       "    }\n",
       "\n",
       "    .dataframe thead th {\n",
       "        text-align: right;\n",
       "    }\n",
       "</style>\n",
       "<table border=\"1\" class=\"dataframe\">\n",
       "  <thead>\n",
       "    <tr style=\"text-align: right;\">\n",
       "      <th></th>\n",
       "      <th>meetingDate</th>\n",
       "      <th>state</th>\n",
       "      <th>track</th>\n",
       "      <th>distance</th>\n",
       "      <th>raceId</th>\n",
       "      <th>raceTypeCode</th>\n",
       "      <th>raceNumber</th>\n",
       "      <th>boxNumber</th>\n",
       "      <th>rugNumber</th>\n",
       "      <th>runId</th>\n",
       "      <th>...</th>\n",
       "      <th>prev_race_track</th>\n",
       "      <th>prev_race_state</th>\n",
       "      <th>next_race</th>\n",
       "      <th>prev_BSP_price</th>\n",
       "      <th>prev_start_price</th>\n",
       "      <th>stats_topaz</th>\n",
       "      <th>dogid</th>\n",
       "      <th>raceid</th>\n",
       "      <th>stats_cols</th>\n",
       "      <th>track_hash</th>\n",
       "    </tr>\n",
       "  </thead>\n",
       "  <tbody>\n",
       "    <tr>\n",
       "      <th>0</th>\n",
       "      <td>2016-04-11 00:00:00+00:00</td>\n",
       "      <td>NZ</td>\n",
       "      <td>Manawatu</td>\n",
       "      <td>375</td>\n",
       "      <td>-2146657275</td>\n",
       "      <td>C1</td>\n",
       "      <td>1</td>\n",
       "      <td>1.0</td>\n",
       "      <td>1</td>\n",
       "      <td>-2146637110</td>\n",
       "      <td>...</td>\n",
       "      <td>-1</td>\n",
       "      <td>-1</td>\n",
       "      <td>109488051.0</td>\n",
       "      <td>-1.0</td>\n",
       "      <td>-1.0</td>\n",
       "      <td>[0.2956989109516144, 1.0, 7.0, 0.6204379796981...</td>\n",
       "      <td>724410181</td>\n",
       "      <td>-2146657275</td>\n",
       "      <td>['dogAgeScaled', 'boxNumber', 'incomingGrade_v...</td>\n",
       "      <td>150</td>\n",
       "    </tr>\n",
       "    <tr>\n",
       "      <th>1</th>\n",
       "      <td>2016-04-11 00:00:00+00:00</td>\n",
       "      <td>NZ</td>\n",
       "      <td>Manawatu</td>\n",
       "      <td>375</td>\n",
       "      <td>-2146657275</td>\n",
       "      <td>C1</td>\n",
       "      <td>1</td>\n",
       "      <td>2.0</td>\n",
       "      <td>2</td>\n",
       "      <td>-2146637109</td>\n",
       "      <td>...</td>\n",
       "      <td>-1</td>\n",
       "      <td>-1</td>\n",
       "      <td>1656860001.0</td>\n",
       "      <td>-1.0</td>\n",
       "      <td>-1.0</td>\n",
       "      <td>[0.2548387050628662, 2.0, 7.0, 0.0145985400304...</td>\n",
       "      <td>638670008</td>\n",
       "      <td>-2146657275</td>\n",
       "      <td>['dogAgeScaled', 'boxNumber', 'incomingGrade_v...</td>\n",
       "      <td>150</td>\n",
       "    </tr>\n",
       "    <tr>\n",
       "      <th>2</th>\n",
       "      <td>2016-04-11 00:00:00+00:00</td>\n",
       "      <td>NZ</td>\n",
       "      <td>Manawatu</td>\n",
       "      <td>375</td>\n",
       "      <td>-2146657275</td>\n",
       "      <td>C1</td>\n",
       "      <td>1</td>\n",
       "      <td>3.0</td>\n",
       "      <td>3</td>\n",
       "      <td>-2146637108</td>\n",
       "      <td>...</td>\n",
       "      <td>-1</td>\n",
       "      <td>-1</td>\n",
       "      <td>107841311.0</td>\n",
       "      <td>-1.0</td>\n",
       "      <td>-1.0</td>\n",
       "      <td>[0.6043010950088501, 3.0, 1.0, 0.0583941601216...</td>\n",
       "      <td>219770075</td>\n",
       "      <td>-2146657275</td>\n",
       "      <td>['dogAgeScaled', 'boxNumber', 'incomingGrade_v...</td>\n",
       "      <td>150</td>\n",
       "    </tr>\n",
       "    <tr>\n",
       "      <th>3</th>\n",
       "      <td>2016-04-11 00:00:00+00:00</td>\n",
       "      <td>NZ</td>\n",
       "      <td>Manawatu</td>\n",
       "      <td>375</td>\n",
       "      <td>-2146657275</td>\n",
       "      <td>C1</td>\n",
       "      <td>1</td>\n",
       "      <td>4.0</td>\n",
       "      <td>9</td>\n",
       "      <td>-2146637102</td>\n",
       "      <td>...</td>\n",
       "      <td>-1</td>\n",
       "      <td>-1</td>\n",
       "      <td>107841312.0</td>\n",
       "      <td>-1.0</td>\n",
       "      <td>-1.0</td>\n",
       "      <td>[1.0, 4.0, 1.0, 0.0, 0.0, 0.0, 0.1240273863077...</td>\n",
       "      <td>-738619</td>\n",
       "      <td>-2146657275</td>\n",
       "      <td>['dogAgeScaled', 'boxNumber', 'incomingGrade_v...</td>\n",
       "      <td>150</td>\n",
       "    </tr>\n",
       "    <tr>\n",
       "      <th>4</th>\n",
       "      <td>2016-04-11 00:00:00+00:00</td>\n",
       "      <td>NZ</td>\n",
       "      <td>Manawatu</td>\n",
       "      <td>375</td>\n",
       "      <td>-2146657275</td>\n",
       "      <td>C1</td>\n",
       "      <td>1</td>\n",
       "      <td>5.0</td>\n",
       "      <td>5</td>\n",
       "      <td>-2146637106</td>\n",
       "      <td>...</td>\n",
       "      <td>-1</td>\n",
       "      <td>-1</td>\n",
       "      <td>108121424.0</td>\n",
       "      <td>-1.0</td>\n",
       "      <td>-1.0</td>\n",
       "      <td>[0.7462365627288818, 5.0, 1.0, 0.6277372241020...</td>\n",
       "      <td>95840103</td>\n",
       "      <td>-2146657275</td>\n",
       "      <td>['dogAgeScaled', 'boxNumber', 'incomingGrade_v...</td>\n",
       "      <td>150</td>\n",
       "    </tr>\n",
       "    <tr>\n",
       "      <th>...</th>\n",
       "      <td>...</td>\n",
       "      <td>...</td>\n",
       "      <td>...</td>\n",
       "      <td>...</td>\n",
       "      <td>...</td>\n",
       "      <td>...</td>\n",
       "      <td>...</td>\n",
       "      <td>...</td>\n",
       "      <td>...</td>\n",
       "      <td>...</td>\n",
       "      <td>...</td>\n",
       "      <td>...</td>\n",
       "      <td>...</td>\n",
       "      <td>...</td>\n",
       "      <td>...</td>\n",
       "      <td>...</td>\n",
       "      <td>...</td>\n",
       "      <td>...</td>\n",
       "      <td>...</td>\n",
       "      <td>...</td>\n",
       "      <td>...</td>\n",
       "    </tr>\n",
       "    <tr>\n",
       "      <th>392954</th>\n",
       "      <td>2016-04-08 00:00:00+00:00</td>\n",
       "      <td>NZ</td>\n",
       "      <td>Hatrick</td>\n",
       "      <td>305</td>\n",
       "      <td>2140960086</td>\n",
       "      <td>C45</td>\n",
       "      <td>12</td>\n",
       "      <td>4.0</td>\n",
       "      <td>4</td>\n",
       "      <td>2140980795</td>\n",
       "      <td>...</td>\n",
       "      <td>Hatrick</td>\n",
       "      <td>NZ</td>\n",
       "      <td>-1</td>\n",
       "      <td>-1.0</td>\n",
       "      <td>10.8</td>\n",
       "      <td>[0.0, 4.0, 5.0, 0.738095223903656, 0.0, 0.0, 0...</td>\n",
       "      <td>463550039</td>\n",
       "      <td>2140960086</td>\n",
       "      <td>['dogAgeScaled', 'boxNumber', 'incomingGrade_v...</td>\n",
       "      <td>784</td>\n",
       "    </tr>\n",
       "    <tr>\n",
       "      <th>392955</th>\n",
       "      <td>2016-04-08 00:00:00+00:00</td>\n",
       "      <td>NZ</td>\n",
       "      <td>Hatrick</td>\n",
       "      <td>305</td>\n",
       "      <td>2140960086</td>\n",
       "      <td>C45</td>\n",
       "      <td>12</td>\n",
       "      <td>5.0</td>\n",
       "      <td>5</td>\n",
       "      <td>2140980796</td>\n",
       "      <td>...</td>\n",
       "      <td>Manawatu</td>\n",
       "      <td>NZ</td>\n",
       "      <td>-1</td>\n",
       "      <td>-1.0</td>\n",
       "      <td>18.5</td>\n",
       "      <td>[0.6374045610427856, 5.0, 5.0, 0.5476190447807...</td>\n",
       "      <td>66970113</td>\n",
       "      <td>2140960086</td>\n",
       "      <td>['dogAgeScaled', 'boxNumber', 'incomingGrade_v...</td>\n",
       "      <td>784</td>\n",
       "    </tr>\n",
       "    <tr>\n",
       "      <th>392956</th>\n",
       "      <td>2016-04-08 00:00:00+00:00</td>\n",
       "      <td>NZ</td>\n",
       "      <td>Hatrick</td>\n",
       "      <td>305</td>\n",
       "      <td>2140960086</td>\n",
       "      <td>C45</td>\n",
       "      <td>12</td>\n",
       "      <td>6.0</td>\n",
       "      <td>6</td>\n",
       "      <td>2140980797</td>\n",
       "      <td>...</td>\n",
       "      <td>Hatrick</td>\n",
       "      <td>NZ</td>\n",
       "      <td>-1</td>\n",
       "      <td>-1.0</td>\n",
       "      <td>6.7</td>\n",
       "      <td>[0.5019084215164185, 6.0, 4.0, 0.0, 0.0, 0.0, ...</td>\n",
       "      <td>98640632</td>\n",
       "      <td>2140960086</td>\n",
       "      <td>['dogAgeScaled', 'boxNumber', 'incomingGrade_v...</td>\n",
       "      <td>784</td>\n",
       "    </tr>\n",
       "    <tr>\n",
       "      <th>392957</th>\n",
       "      <td>2016-04-08 00:00:00+00:00</td>\n",
       "      <td>NZ</td>\n",
       "      <td>Hatrick</td>\n",
       "      <td>305</td>\n",
       "      <td>2140960086</td>\n",
       "      <td>C45</td>\n",
       "      <td>12</td>\n",
       "      <td>7.0</td>\n",
       "      <td>7</td>\n",
       "      <td>2140980798</td>\n",
       "      <td>...</td>\n",
       "      <td>Hatrick</td>\n",
       "      <td>NZ</td>\n",
       "      <td>-1</td>\n",
       "      <td>-1.0</td>\n",
       "      <td>12.3</td>\n",
       "      <td>[0.0, 7.0, 4.0, 0.3452380895614624, 0.0, 0.0, ...</td>\n",
       "      <td>463560038</td>\n",
       "      <td>2140960086</td>\n",
       "      <td>['dogAgeScaled', 'boxNumber', 'incomingGrade_v...</td>\n",
       "      <td>784</td>\n",
       "    </tr>\n",
       "    <tr>\n",
       "      <th>392958</th>\n",
       "      <td>2016-04-08 00:00:00+00:00</td>\n",
       "      <td>NZ</td>\n",
       "      <td>Hatrick</td>\n",
       "      <td>305</td>\n",
       "      <td>2140960086</td>\n",
       "      <td>C45</td>\n",
       "      <td>12</td>\n",
       "      <td>8.0</td>\n",
       "      <td>8</td>\n",
       "      <td>2140980799</td>\n",
       "      <td>...</td>\n",
       "      <td>Manawatu</td>\n",
       "      <td>NZ</td>\n",
       "      <td>-1</td>\n",
       "      <td>-1.0</td>\n",
       "      <td>10.9</td>\n",
       "      <td>[0.19465649127960205, 8.0, 4.0, 0.357142865657...</td>\n",
       "      <td>416200006</td>\n",
       "      <td>2140960086</td>\n",
       "      <td>['dogAgeScaled', 'boxNumber', 'incomingGrade_v...</td>\n",
       "      <td>784</td>\n",
       "    </tr>\n",
       "  </tbody>\n",
       "</table>\n",
       "<p>392959 rows × 155 columns</p>\n",
       "</div>"
      ],
      "text/plain": [
       "                     meetingDate state     track  distance      raceId  \\\n",
       "0      2016-04-11 00:00:00+00:00    NZ  Manawatu       375 -2146657275   \n",
       "1      2016-04-11 00:00:00+00:00    NZ  Manawatu       375 -2146657275   \n",
       "2      2016-04-11 00:00:00+00:00    NZ  Manawatu       375 -2146657275   \n",
       "3      2016-04-11 00:00:00+00:00    NZ  Manawatu       375 -2146657275   \n",
       "4      2016-04-11 00:00:00+00:00    NZ  Manawatu       375 -2146657275   \n",
       "...                          ...   ...       ...       ...         ...   \n",
       "392954 2016-04-08 00:00:00+00:00    NZ   Hatrick       305  2140960086   \n",
       "392955 2016-04-08 00:00:00+00:00    NZ   Hatrick       305  2140960086   \n",
       "392956 2016-04-08 00:00:00+00:00    NZ   Hatrick       305  2140960086   \n",
       "392957 2016-04-08 00:00:00+00:00    NZ   Hatrick       305  2140960086   \n",
       "392958 2016-04-08 00:00:00+00:00    NZ   Hatrick       305  2140960086   \n",
       "\n",
       "       raceTypeCode  raceNumber  boxNumber  rugNumber       runId  ...  \\\n",
       "0                C1           1        1.0          1 -2146637110  ...   \n",
       "1                C1           1        2.0          2 -2146637109  ...   \n",
       "2                C1           1        3.0          3 -2146637108  ...   \n",
       "3                C1           1        4.0          9 -2146637102  ...   \n",
       "4                C1           1        5.0          5 -2146637106  ...   \n",
       "...             ...         ...        ...        ...         ...  ...   \n",
       "392954          C45          12        4.0          4  2140980795  ...   \n",
       "392955          C45          12        5.0          5  2140980796  ...   \n",
       "392956          C45          12        6.0          6  2140980797  ...   \n",
       "392957          C45          12        7.0          7  2140980798  ...   \n",
       "392958          C45          12        8.0          8  2140980799  ...   \n",
       "\n",
       "        prev_race_track prev_race_state     next_race prev_BSP_price  \\\n",
       "0                    -1              -1   109488051.0           -1.0   \n",
       "1                    -1              -1  1656860001.0           -1.0   \n",
       "2                    -1              -1   107841311.0           -1.0   \n",
       "3                    -1              -1   107841312.0           -1.0   \n",
       "4                    -1              -1   108121424.0           -1.0   \n",
       "...                 ...             ...           ...            ...   \n",
       "392954          Hatrick              NZ            -1           -1.0   \n",
       "392955         Manawatu              NZ            -1           -1.0   \n",
       "392956          Hatrick              NZ            -1           -1.0   \n",
       "392957          Hatrick              NZ            -1           -1.0   \n",
       "392958         Manawatu              NZ            -1           -1.0   \n",
       "\n",
       "        prev_start_price                                        stats_topaz  \\\n",
       "0                   -1.0  [0.2956989109516144, 1.0, 7.0, 0.6204379796981...   \n",
       "1                   -1.0  [0.2548387050628662, 2.0, 7.0, 0.0145985400304...   \n",
       "2                   -1.0  [0.6043010950088501, 3.0, 1.0, 0.0583941601216...   \n",
       "3                   -1.0  [1.0, 4.0, 1.0, 0.0, 0.0, 0.0, 0.1240273863077...   \n",
       "4                   -1.0  [0.7462365627288818, 5.0, 1.0, 0.6277372241020...   \n",
       "...                  ...                                                ...   \n",
       "392954              10.8  [0.0, 4.0, 5.0, 0.738095223903656, 0.0, 0.0, 0...   \n",
       "392955              18.5  [0.6374045610427856, 5.0, 5.0, 0.5476190447807...   \n",
       "392956               6.7  [0.5019084215164185, 6.0, 4.0, 0.0, 0.0, 0.0, ...   \n",
       "392957              12.3  [0.0, 7.0, 4.0, 0.3452380895614624, 0.0, 0.0, ...   \n",
       "392958              10.9  [0.19465649127960205, 8.0, 4.0, 0.357142865657...   \n",
       "\n",
       "            dogid       raceid  \\\n",
       "0       724410181  -2146657275   \n",
       "1       638670008  -2146657275   \n",
       "2       219770075  -2146657275   \n",
       "3         -738619  -2146657275   \n",
       "4        95840103  -2146657275   \n",
       "...           ...          ...   \n",
       "392954  463550039   2140960086   \n",
       "392955   66970113   2140960086   \n",
       "392956   98640632   2140960086   \n",
       "392957  463560038   2140960086   \n",
       "392958  416200006   2140960086   \n",
       "\n",
       "                                               stats_cols track_hash  \n",
       "0       ['dogAgeScaled', 'boxNumber', 'incomingGrade_v...        150  \n",
       "1       ['dogAgeScaled', 'boxNumber', 'incomingGrade_v...        150  \n",
       "2       ['dogAgeScaled', 'boxNumber', 'incomingGrade_v...        150  \n",
       "3       ['dogAgeScaled', 'boxNumber', 'incomingGrade_v...        150  \n",
       "4       ['dogAgeScaled', 'boxNumber', 'incomingGrade_v...        150  \n",
       "...                                                   ...        ...  \n",
       "392954  ['dogAgeScaled', 'boxNumber', 'incomingGrade_v...        784  \n",
       "392955  ['dogAgeScaled', 'boxNumber', 'incomingGrade_v...        784  \n",
       "392956  ['dogAgeScaled', 'boxNumber', 'incomingGrade_v...        784  \n",
       "392957  ['dogAgeScaled', 'boxNumber', 'incomingGrade_v...        784  \n",
       "392958  ['dogAgeScaled', 'boxNumber', 'incomingGrade_v...        784  \n",
       "\n",
       "[392959 rows x 155 columns]"
      ]
     },
     "execution_count": 47,
     "metadata": {},
     "output_type": "execute_result"
    }
   ],
   "source": [
    "data"
   ]
  },
  {
   "cell_type": "code",
   "execution_count": 48,
   "metadata": {},
   "outputs": [
    {
     "data": {
      "application/vnd.plotly.v1+json": {
       "config": {
        "plotlyServerURL": "https://plot.ly"
       },
       "data": [
        {
         "colorscale": [
          [
           0,
           "white"
          ],
          [
           1,
           "blue"
          ]
         ],
         "hoverinfo": "text",
         "showscale": false,
         "text": [
          [
           "0.0",
           "0.0",
           "1.0",
           "0.0",
           "0.0",
           "0.0",
           "0.0",
           "0.0"
          ],
          [
           "0.086",
           "0.031",
           "0.632",
           "0.233",
           "0.001",
           "0.002",
           "0.004",
           "0.012"
          ],
          [
           "0.155",
           "0.004",
           "0.421",
           "0.421",
           "0.0",
           "0.0",
           "0.0",
           "0.0"
          ],
          [
           "0.085",
           "0.138",
           "0.155",
           "0.195",
           "0.028",
           "0.328",
           "0.026",
           "0.043"
          ],
          [
           "0.1",
           "0.0",
           "0.45",
           "0.45",
           "0.0",
           "0.0",
           "0.0",
           "0.0"
          ]
         ],
         "textfont": {
          "size": 12
         },
         "texttemplate": "%{text}",
         "type": "heatmap",
         "x": [
          "Dog1",
          "Dog2",
          "Dog3",
          "Dog4",
          "Dog5",
          "Dog6",
          "Dog7",
          "Dog8"
         ],
         "y": [
          "OneHot",
          "place_sft",
          "margin_sft",
          "bsp_prob",
          "boosted"
         ],
         "z": [
          [
           0,
           0,
           1,
           0,
           0,
           0,
           0,
           0
          ],
          [
           0.08557692272813495,
           0.03148199051039798,
           0.6323326828120425,
           0.23262219398733308,
           0.0005766127696870058,
           0.0015673960138976283,
           0.004260624102577064,
           0.011581577075929859
          ],
          [
           0.154763207212998,
           0.0036396817750961627,
           0.4206900138811343,
           0.4206900138811343,
           0.00000902186912239249,
           0.00003148941735448507,
           0.00006666309706256833,
           0.00010990886609780364
          ],
          [
           0.08495561142364941,
           0.13836296300317022,
           0.15505577159183329,
           0.19476847247444007,
           0.027777777777777776,
           0.32756978339477555,
           0.02631578947368421,
           0.043478260869565216
          ],
          [
           0.10036756098270416,
           6.649920631512929e-12,
           0.44981619715690613,
           0.44981619715690613,
           0,
           2.483100878783576e-42,
           3.179255552620346e-36,
           2.006329202942871e-32
          ]
         ]
        }
       ],
       "layout": {
        "template": {
         "data": {
          "bar": [
           {
            "error_x": {
             "color": "#2a3f5f"
            },
            "error_y": {
             "color": "#2a3f5f"
            },
            "marker": {
             "line": {
              "color": "#E5ECF6",
              "width": 0.5
             },
             "pattern": {
              "fillmode": "overlay",
              "size": 10,
              "solidity": 0.2
             }
            },
            "type": "bar"
           }
          ],
          "barpolar": [
           {
            "marker": {
             "line": {
              "color": "#E5ECF6",
              "width": 0.5
             },
             "pattern": {
              "fillmode": "overlay",
              "size": 10,
              "solidity": 0.2
             }
            },
            "type": "barpolar"
           }
          ],
          "carpet": [
           {
            "aaxis": {
             "endlinecolor": "#2a3f5f",
             "gridcolor": "white",
             "linecolor": "white",
             "minorgridcolor": "white",
             "startlinecolor": "#2a3f5f"
            },
            "baxis": {
             "endlinecolor": "#2a3f5f",
             "gridcolor": "white",
             "linecolor": "white",
             "minorgridcolor": "white",
             "startlinecolor": "#2a3f5f"
            },
            "type": "carpet"
           }
          ],
          "choropleth": [
           {
            "colorbar": {
             "outlinewidth": 0,
             "ticks": ""
            },
            "type": "choropleth"
           }
          ],
          "contour": [
           {
            "colorbar": {
             "outlinewidth": 0,
             "ticks": ""
            },
            "colorscale": [
             [
              0,
              "#0d0887"
             ],
             [
              0.1111111111111111,
              "#46039f"
             ],
             [
              0.2222222222222222,
              "#7201a8"
             ],
             [
              0.3333333333333333,
              "#9c179e"
             ],
             [
              0.4444444444444444,
              "#bd3786"
             ],
             [
              0.5555555555555556,
              "#d8576b"
             ],
             [
              0.6666666666666666,
              "#ed7953"
             ],
             [
              0.7777777777777778,
              "#fb9f3a"
             ],
             [
              0.8888888888888888,
              "#fdca26"
             ],
             [
              1,
              "#f0f921"
             ]
            ],
            "type": "contour"
           }
          ],
          "contourcarpet": [
           {
            "colorbar": {
             "outlinewidth": 0,
             "ticks": ""
            },
            "type": "contourcarpet"
           }
          ],
          "heatmap": [
           {
            "colorbar": {
             "outlinewidth": 0,
             "ticks": ""
            },
            "colorscale": [
             [
              0,
              "#0d0887"
             ],
             [
              0.1111111111111111,
              "#46039f"
             ],
             [
              0.2222222222222222,
              "#7201a8"
             ],
             [
              0.3333333333333333,
              "#9c179e"
             ],
             [
              0.4444444444444444,
              "#bd3786"
             ],
             [
              0.5555555555555556,
              "#d8576b"
             ],
             [
              0.6666666666666666,
              "#ed7953"
             ],
             [
              0.7777777777777778,
              "#fb9f3a"
             ],
             [
              0.8888888888888888,
              "#fdca26"
             ],
             [
              1,
              "#f0f921"
             ]
            ],
            "type": "heatmap"
           }
          ],
          "heatmapgl": [
           {
            "colorbar": {
             "outlinewidth": 0,
             "ticks": ""
            },
            "colorscale": [
             [
              0,
              "#0d0887"
             ],
             [
              0.1111111111111111,
              "#46039f"
             ],
             [
              0.2222222222222222,
              "#7201a8"
             ],
             [
              0.3333333333333333,
              "#9c179e"
             ],
             [
              0.4444444444444444,
              "#bd3786"
             ],
             [
              0.5555555555555556,
              "#d8576b"
             ],
             [
              0.6666666666666666,
              "#ed7953"
             ],
             [
              0.7777777777777778,
              "#fb9f3a"
             ],
             [
              0.8888888888888888,
              "#fdca26"
             ],
             [
              1,
              "#f0f921"
             ]
            ],
            "type": "heatmapgl"
           }
          ],
          "histogram": [
           {
            "marker": {
             "pattern": {
              "fillmode": "overlay",
              "size": 10,
              "solidity": 0.2
             }
            },
            "type": "histogram"
           }
          ],
          "histogram2d": [
           {
            "colorbar": {
             "outlinewidth": 0,
             "ticks": ""
            },
            "colorscale": [
             [
              0,
              "#0d0887"
             ],
             [
              0.1111111111111111,
              "#46039f"
             ],
             [
              0.2222222222222222,
              "#7201a8"
             ],
             [
              0.3333333333333333,
              "#9c179e"
             ],
             [
              0.4444444444444444,
              "#bd3786"
             ],
             [
              0.5555555555555556,
              "#d8576b"
             ],
             [
              0.6666666666666666,
              "#ed7953"
             ],
             [
              0.7777777777777778,
              "#fb9f3a"
             ],
             [
              0.8888888888888888,
              "#fdca26"
             ],
             [
              1,
              "#f0f921"
             ]
            ],
            "type": "histogram2d"
           }
          ],
          "histogram2dcontour": [
           {
            "colorbar": {
             "outlinewidth": 0,
             "ticks": ""
            },
            "colorscale": [
             [
              0,
              "#0d0887"
             ],
             [
              0.1111111111111111,
              "#46039f"
             ],
             [
              0.2222222222222222,
              "#7201a8"
             ],
             [
              0.3333333333333333,
              "#9c179e"
             ],
             [
              0.4444444444444444,
              "#bd3786"
             ],
             [
              0.5555555555555556,
              "#d8576b"
             ],
             [
              0.6666666666666666,
              "#ed7953"
             ],
             [
              0.7777777777777778,
              "#fb9f3a"
             ],
             [
              0.8888888888888888,
              "#fdca26"
             ],
             [
              1,
              "#f0f921"
             ]
            ],
            "type": "histogram2dcontour"
           }
          ],
          "mesh3d": [
           {
            "colorbar": {
             "outlinewidth": 0,
             "ticks": ""
            },
            "type": "mesh3d"
           }
          ],
          "parcoords": [
           {
            "line": {
             "colorbar": {
              "outlinewidth": 0,
              "ticks": ""
             }
            },
            "type": "parcoords"
           }
          ],
          "pie": [
           {
            "automargin": true,
            "type": "pie"
           }
          ],
          "scatter": [
           {
            "fillpattern": {
             "fillmode": "overlay",
             "size": 10,
             "solidity": 0.2
            },
            "type": "scatter"
           }
          ],
          "scatter3d": [
           {
            "line": {
             "colorbar": {
              "outlinewidth": 0,
              "ticks": ""
             }
            },
            "marker": {
             "colorbar": {
              "outlinewidth": 0,
              "ticks": ""
             }
            },
            "type": "scatter3d"
           }
          ],
          "scattercarpet": [
           {
            "marker": {
             "colorbar": {
              "outlinewidth": 0,
              "ticks": ""
             }
            },
            "type": "scattercarpet"
           }
          ],
          "scattergeo": [
           {
            "marker": {
             "colorbar": {
              "outlinewidth": 0,
              "ticks": ""
             }
            },
            "type": "scattergeo"
           }
          ],
          "scattergl": [
           {
            "marker": {
             "colorbar": {
              "outlinewidth": 0,
              "ticks": ""
             }
            },
            "type": "scattergl"
           }
          ],
          "scattermapbox": [
           {
            "marker": {
             "colorbar": {
              "outlinewidth": 0,
              "ticks": ""
             }
            },
            "type": "scattermapbox"
           }
          ],
          "scatterpolar": [
           {
            "marker": {
             "colorbar": {
              "outlinewidth": 0,
              "ticks": ""
             }
            },
            "type": "scatterpolar"
           }
          ],
          "scatterpolargl": [
           {
            "marker": {
             "colorbar": {
              "outlinewidth": 0,
              "ticks": ""
             }
            },
            "type": "scatterpolargl"
           }
          ],
          "scatterternary": [
           {
            "marker": {
             "colorbar": {
              "outlinewidth": 0,
              "ticks": ""
             }
            },
            "type": "scatterternary"
           }
          ],
          "surface": [
           {
            "colorbar": {
             "outlinewidth": 0,
             "ticks": ""
            },
            "colorscale": [
             [
              0,
              "#0d0887"
             ],
             [
              0.1111111111111111,
              "#46039f"
             ],
             [
              0.2222222222222222,
              "#7201a8"
             ],
             [
              0.3333333333333333,
              "#9c179e"
             ],
             [
              0.4444444444444444,
              "#bd3786"
             ],
             [
              0.5555555555555556,
              "#d8576b"
             ],
             [
              0.6666666666666666,
              "#ed7953"
             ],
             [
              0.7777777777777778,
              "#fb9f3a"
             ],
             [
              0.8888888888888888,
              "#fdca26"
             ],
             [
              1,
              "#f0f921"
             ]
            ],
            "type": "surface"
           }
          ],
          "table": [
           {
            "cells": {
             "fill": {
              "color": "#EBF0F8"
             },
             "line": {
              "color": "white"
             }
            },
            "header": {
             "fill": {
              "color": "#C8D4E3"
             },
             "line": {
              "color": "white"
             }
            },
            "type": "table"
           }
          ]
         },
         "layout": {
          "annotationdefaults": {
           "arrowcolor": "#2a3f5f",
           "arrowhead": 0,
           "arrowwidth": 1
          },
          "autotypenumbers": "strict",
          "coloraxis": {
           "colorbar": {
            "outlinewidth": 0,
            "ticks": ""
           }
          },
          "colorscale": {
           "diverging": [
            [
             0,
             "#8e0152"
            ],
            [
             0.1,
             "#c51b7d"
            ],
            [
             0.2,
             "#de77ae"
            ],
            [
             0.3,
             "#f1b6da"
            ],
            [
             0.4,
             "#fde0ef"
            ],
            [
             0.5,
             "#f7f7f7"
            ],
            [
             0.6,
             "#e6f5d0"
            ],
            [
             0.7,
             "#b8e186"
            ],
            [
             0.8,
             "#7fbc41"
            ],
            [
             0.9,
             "#4d9221"
            ],
            [
             1,
             "#276419"
            ]
           ],
           "sequential": [
            [
             0,
             "#0d0887"
            ],
            [
             0.1111111111111111,
             "#46039f"
            ],
            [
             0.2222222222222222,
             "#7201a8"
            ],
            [
             0.3333333333333333,
             "#9c179e"
            ],
            [
             0.4444444444444444,
             "#bd3786"
            ],
            [
             0.5555555555555556,
             "#d8576b"
            ],
            [
             0.6666666666666666,
             "#ed7953"
            ],
            [
             0.7777777777777778,
             "#fb9f3a"
            ],
            [
             0.8888888888888888,
             "#fdca26"
            ],
            [
             1,
             "#f0f921"
            ]
           ],
           "sequentialminus": [
            [
             0,
             "#0d0887"
            ],
            [
             0.1111111111111111,
             "#46039f"
            ],
            [
             0.2222222222222222,
             "#7201a8"
            ],
            [
             0.3333333333333333,
             "#9c179e"
            ],
            [
             0.4444444444444444,
             "#bd3786"
            ],
            [
             0.5555555555555556,
             "#d8576b"
            ],
            [
             0.6666666666666666,
             "#ed7953"
            ],
            [
             0.7777777777777778,
             "#fb9f3a"
            ],
            [
             0.8888888888888888,
             "#fdca26"
            ],
            [
             1,
             "#f0f921"
            ]
           ]
          },
          "colorway": [
           "#636efa",
           "#EF553B",
           "#00cc96",
           "#ab63fa",
           "#FFA15A",
           "#19d3f3",
           "#FF6692",
           "#B6E880",
           "#FF97FF",
           "#FECB52"
          ],
          "font": {
           "color": "#2a3f5f"
          },
          "geo": {
           "bgcolor": "white",
           "lakecolor": "white",
           "landcolor": "#E5ECF6",
           "showlakes": true,
           "showland": true,
           "subunitcolor": "white"
          },
          "hoverlabel": {
           "align": "left"
          },
          "hovermode": "closest",
          "mapbox": {
           "style": "light"
          },
          "paper_bgcolor": "white",
          "plot_bgcolor": "#E5ECF6",
          "polar": {
           "angularaxis": {
            "gridcolor": "white",
            "linecolor": "white",
            "ticks": ""
           },
           "bgcolor": "#E5ECF6",
           "radialaxis": {
            "gridcolor": "white",
            "linecolor": "white",
            "ticks": ""
           }
          },
          "scene": {
           "xaxis": {
            "backgroundcolor": "#E5ECF6",
            "gridcolor": "white",
            "gridwidth": 2,
            "linecolor": "white",
            "showbackground": true,
            "ticks": "",
            "zerolinecolor": "white"
           },
           "yaxis": {
            "backgroundcolor": "#E5ECF6",
            "gridcolor": "white",
            "gridwidth": 2,
            "linecolor": "white",
            "showbackground": true,
            "ticks": "",
            "zerolinecolor": "white"
           },
           "zaxis": {
            "backgroundcolor": "#E5ECF6",
            "gridcolor": "white",
            "gridwidth": 2,
            "linecolor": "white",
            "showbackground": true,
            "ticks": "",
            "zerolinecolor": "white"
           }
          },
          "shapedefaults": {
           "line": {
            "color": "#2a3f5f"
           }
          },
          "ternary": {
           "aaxis": {
            "gridcolor": "white",
            "linecolor": "white",
            "ticks": ""
           },
           "baxis": {
            "gridcolor": "white",
            "linecolor": "white",
            "ticks": ""
           },
           "bgcolor": "#E5ECF6",
           "caxis": {
            "gridcolor": "white",
            "linecolor": "white",
            "ticks": ""
           }
          },
          "title": {
           "x": 0.05
          },
          "xaxis": {
           "automargin": true,
           "gridcolor": "white",
           "linecolor": "white",
           "ticks": "",
           "title": {
            "standoff": 15
           },
           "zerolinecolor": "white",
           "zerolinewidth": 2
          },
          "yaxis": {
           "automargin": true,
           "gridcolor": "white",
           "linecolor": "white",
           "ticks": "",
           "title": {
            "standoff": 15
           },
           "zerolinecolor": "white",
           "zerolinewidth": 2
          }
         }
        }
       }
      }
     },
     "metadata": {},
     "output_type": "display_data"
    }
   ],
   "source": [
    "import plotly.graph_objects as go\n",
    "\n",
    "# Assuming you have your data in the following format\n",
    "dogs = ['Dog1', 'Dog2', 'Dog3', 'Dog4', 'Dog5', 'Dog6', 'Dog7', 'Dog8']\n",
    "target_types = ['OneHot', 'place_sft', 'margin_sft', 'bsp_prob','boosted']\n",
    "\n",
    "# Random data for demonstration\n",
    "data = torch.stack([onehot,place_sft, margin_sft, bsp_prob,bosted_sft], dim=0)\n",
    "\n",
    "# Create a 2D array of text\n",
    "text = data.numpy().round(3).astype(str)\n",
    "\n",
    "# Create a heatmap\n",
    "fig = go.Figure(data=go.Heatmap(\n",
    "                   z=data,\n",
    "                   x=dogs,\n",
    "                   y=target_types,\n",
    "                   text=text,\n",
    "                   hoverinfo='text',\n",
    "                   texttemplate=\"%{text}\",\n",
    "                    textfont={\"size\":12},\n",
    "                   colorscale=[[0, 'white'], [1, 'blue']],\n",
    "                   showscale=False))\n",
    "\n",
    "# fig.update_layout(height=800, width=800, title_text=\"Target Types for Each Dog\")\n",
    "\n",
    "fig.show(text_auto=True,)"
   ]
  },
  {
   "cell_type": "code",
   "execution_count": 49,
   "metadata": {},
   "outputs": [
    {
     "data": {
      "text/html": [
       "<div>\n",
       "<style scoped>\n",
       "    .dataframe tbody tr th:only-of-type {\n",
       "        vertical-align: middle;\n",
       "    }\n",
       "\n",
       "    .dataframe tbody tr th {\n",
       "        vertical-align: top;\n",
       "    }\n",
       "\n",
       "    .dataframe thead th {\n",
       "        text-align: right;\n",
       "    }\n",
       "</style>\n",
       "<table border=\"1\" class=\"dataframe\">\n",
       "  <thead>\n",
       "    <tr style=\"text-align: right;\">\n",
       "      <th></th>\n",
       "      <th>meetingDate</th>\n",
       "      <th>state</th>\n",
       "      <th>track</th>\n",
       "      <th>distance</th>\n",
       "      <th>raceId</th>\n",
       "      <th>raceTypeCode</th>\n",
       "      <th>raceNumber</th>\n",
       "      <th>boxNumber</th>\n",
       "      <th>rugNumber</th>\n",
       "      <th>runId</th>\n",
       "      <th>...</th>\n",
       "      <th>prev_race_track</th>\n",
       "      <th>prev_race_state</th>\n",
       "      <th>next_race</th>\n",
       "      <th>prev_BSP_price</th>\n",
       "      <th>prev_start_price</th>\n",
       "      <th>stats_topaz</th>\n",
       "      <th>dogid</th>\n",
       "      <th>raceid</th>\n",
       "      <th>stats_cols</th>\n",
       "      <th>track_hash</th>\n",
       "    </tr>\n",
       "  </thead>\n",
       "  <tbody>\n",
       "    <tr>\n",
       "      <th>301162</th>\n",
       "      <td>2023-07-03 00:00:00+00:00</td>\n",
       "      <td>NZ</td>\n",
       "      <td>Addington</td>\n",
       "      <td>295</td>\n",
       "      <td>914184479</td>\n",
       "      <td>C1</td>\n",
       "      <td>1</td>\n",
       "      <td>1.0</td>\n",
       "      <td>1</td>\n",
       "      <td>915839614</td>\n",
       "      <td>...</td>\n",
       "      <td>Addington</td>\n",
       "      <td>NZ</td>\n",
       "      <td>918532419.0</td>\n",
       "      <td>55.000000</td>\n",
       "      <td>38.1</td>\n",
       "      <td>[0.5339285731315613, 1.0, 1.0, 1.0, 0.0, 0.0, ...</td>\n",
       "      <td>549391123</td>\n",
       "      <td>914184479</td>\n",
       "      <td>['dogAgeScaled', 'boxNumber', 'incomingGrade_v...</td>\n",
       "      <td>465</td>\n",
       "    </tr>\n",
       "    <tr>\n",
       "      <th>301163</th>\n",
       "      <td>2023-07-03 00:00:00+00:00</td>\n",
       "      <td>NZ</td>\n",
       "      <td>Addington</td>\n",
       "      <td>295</td>\n",
       "      <td>914184479</td>\n",
       "      <td>C1</td>\n",
       "      <td>1</td>\n",
       "      <td>2.0</td>\n",
       "      <td>2</td>\n",
       "      <td>915839615</td>\n",
       "      <td>...</td>\n",
       "      <td>Addington</td>\n",
       "      <td>NZ</td>\n",
       "      <td>920247464.0</td>\n",
       "      <td>14.500000</td>\n",
       "      <td>11.8</td>\n",
       "      <td>[1.0, 2.0, 1.0, 0.0, 0.0, 0.0, 0.1560566574335...</td>\n",
       "      <td>491585837</td>\n",
       "      <td>914184479</td>\n",
       "      <td>['dogAgeScaled', 'boxNumber', 'incomingGrade_v...</td>\n",
       "      <td>465</td>\n",
       "    </tr>\n",
       "    <tr>\n",
       "      <th>301164</th>\n",
       "      <td>2023-07-03 00:00:00+00:00</td>\n",
       "      <td>NZ</td>\n",
       "      <td>Addington</td>\n",
       "      <td>295</td>\n",
       "      <td>914184479</td>\n",
       "      <td>C1</td>\n",
       "      <td>1</td>\n",
       "      <td>3.0</td>\n",
       "      <td>3</td>\n",
       "      <td>915839616</td>\n",
       "      <td>...</td>\n",
       "      <td>Addington</td>\n",
       "      <td>NZ</td>\n",
       "      <td>914237106.0</td>\n",
       "      <td>34.995636</td>\n",
       "      <td>21.9</td>\n",
       "      <td>[0.7160714268684387, 3.0, 6.0, 0.0462962947785...</td>\n",
       "      <td>525211021</td>\n",
       "      <td>914184479</td>\n",
       "      <td>['dogAgeScaled', 'boxNumber', 'incomingGrade_v...</td>\n",
       "      <td>465</td>\n",
       "    </tr>\n",
       "    <tr>\n",
       "      <th>301165</th>\n",
       "      <td>2023-07-03 00:00:00+00:00</td>\n",
       "      <td>NZ</td>\n",
       "      <td>Addington</td>\n",
       "      <td>295</td>\n",
       "      <td>914184479</td>\n",
       "      <td>C1</td>\n",
       "      <td>1</td>\n",
       "      <td>4.0</td>\n",
       "      <td>4</td>\n",
       "      <td>915839617</td>\n",
       "      <td>...</td>\n",
       "      <td>Addington</td>\n",
       "      <td>NZ</td>\n",
       "      <td>914237107.0</td>\n",
       "      <td>18.000000</td>\n",
       "      <td>13.8</td>\n",
       "      <td>[0.02500000037252903, 4.0, 1.0, 0.027777777984...</td>\n",
       "      <td>638803603</td>\n",
       "      <td>914184479</td>\n",
       "      <td>['dogAgeScaled', 'boxNumber', 'incomingGrade_v...</td>\n",
       "      <td>465</td>\n",
       "    </tr>\n",
       "    <tr>\n",
       "      <th>301166</th>\n",
       "      <td>2023-07-03 00:00:00+00:00</td>\n",
       "      <td>NZ</td>\n",
       "      <td>Addington</td>\n",
       "      <td>295</td>\n",
       "      <td>914184479</td>\n",
       "      <td>C1</td>\n",
       "      <td>1</td>\n",
       "      <td>6.0</td>\n",
       "      <td>6</td>\n",
       "      <td>915839619</td>\n",
       "      <td>...</td>\n",
       "      <td>Addington</td>\n",
       "      <td>NZ</td>\n",
       "      <td>918532429.0</td>\n",
       "      <td>17.000000</td>\n",
       "      <td>12.4</td>\n",
       "      <td>[0.13214285671710968, 6.0, 7.0, 0.333333343267...</td>\n",
       "      <td>614057168</td>\n",
       "      <td>914184479</td>\n",
       "      <td>['dogAgeScaled', 'boxNumber', 'incomingGrade_v...</td>\n",
       "      <td>465</td>\n",
       "    </tr>\n",
       "    <tr>\n",
       "      <th>...</th>\n",
       "      <td>...</td>\n",
       "      <td>...</td>\n",
       "      <td>...</td>\n",
       "      <td>...</td>\n",
       "      <td>...</td>\n",
       "      <td>...</td>\n",
       "      <td>...</td>\n",
       "      <td>...</td>\n",
       "      <td>...</td>\n",
       "      <td>...</td>\n",
       "      <td>...</td>\n",
       "      <td>...</td>\n",
       "      <td>...</td>\n",
       "      <td>...</td>\n",
       "      <td>...</td>\n",
       "      <td>...</td>\n",
       "      <td>...</td>\n",
       "      <td>...</td>\n",
       "      <td>...</td>\n",
       "      <td>...</td>\n",
       "      <td>...</td>\n",
       "    </tr>\n",
       "    <tr>\n",
       "      <th>301250</th>\n",
       "      <td>2023-07-03 00:00:00+00:00</td>\n",
       "      <td>NZ</td>\n",
       "      <td>Addington</td>\n",
       "      <td>295</td>\n",
       "      <td>914184490</td>\n",
       "      <td>C1</td>\n",
       "      <td>12</td>\n",
       "      <td>3.0</td>\n",
       "      <td>3</td>\n",
       "      <td>915839704</td>\n",
       "      <td>...</td>\n",
       "      <td>Addington</td>\n",
       "      <td>NZ</td>\n",
       "      <td>914186722.0</td>\n",
       "      <td>15.409545</td>\n",
       "      <td>11.1</td>\n",
       "      <td>[0.1130952388048172, 3.0, 6.0, 1.0, 0.0, 0.0, ...</td>\n",
       "      <td>638803595</td>\n",
       "      <td>914184490</td>\n",
       "      <td>['dogAgeScaled', 'boxNumber', 'incomingGrade_v...</td>\n",
       "      <td>465</td>\n",
       "    </tr>\n",
       "    <tr>\n",
       "      <th>301251</th>\n",
       "      <td>2023-07-03 00:00:00+00:00</td>\n",
       "      <td>NZ</td>\n",
       "      <td>Addington</td>\n",
       "      <td>295</td>\n",
       "      <td>914184490</td>\n",
       "      <td>C1</td>\n",
       "      <td>12</td>\n",
       "      <td>4.0</td>\n",
       "      <td>4</td>\n",
       "      <td>915839705</td>\n",
       "      <td>...</td>\n",
       "      <td>Addington</td>\n",
       "      <td>NZ</td>\n",
       "      <td>918532419.0</td>\n",
       "      <td>65.000000</td>\n",
       "      <td>29.4</td>\n",
       "      <td>[0.5773809552192688, 4.0, 1.0, 0.8863636255264...</td>\n",
       "      <td>525210989</td>\n",
       "      <td>914184490</td>\n",
       "      <td>['dogAgeScaled', 'boxNumber', 'incomingGrade_v...</td>\n",
       "      <td>465</td>\n",
       "    </tr>\n",
       "    <tr>\n",
       "      <th>301252</th>\n",
       "      <td>2023-07-03 00:00:00+00:00</td>\n",
       "      <td>NZ</td>\n",
       "      <td>Addington</td>\n",
       "      <td>295</td>\n",
       "      <td>914184490</td>\n",
       "      <td>C1</td>\n",
       "      <td>12</td>\n",
       "      <td>6.0</td>\n",
       "      <td>6</td>\n",
       "      <td>915839706</td>\n",
       "      <td>...</td>\n",
       "      <td>Addington</td>\n",
       "      <td>NZ</td>\n",
       "      <td>914237107.0</td>\n",
       "      <td>18.500000</td>\n",
       "      <td>12.4</td>\n",
       "      <td>[0.2916666567325592, 6.0, 1.0, 0.2159090936183...</td>\n",
       "      <td>592709125</td>\n",
       "      <td>914184490</td>\n",
       "      <td>['dogAgeScaled', 'boxNumber', 'incomingGrade_v...</td>\n",
       "      <td>465</td>\n",
       "    </tr>\n",
       "    <tr>\n",
       "      <th>301253</th>\n",
       "      <td>2023-07-03 00:00:00+00:00</td>\n",
       "      <td>NZ</td>\n",
       "      <td>Addington</td>\n",
       "      <td>295</td>\n",
       "      <td>914184490</td>\n",
       "      <td>C1</td>\n",
       "      <td>12</td>\n",
       "      <td>7.0</td>\n",
       "      <td>7</td>\n",
       "      <td>915839707</td>\n",
       "      <td>...</td>\n",
       "      <td>Ascot Park</td>\n",
       "      <td>NZ</td>\n",
       "      <td>914186229.0</td>\n",
       "      <td>11.500000</td>\n",
       "      <td>13.3</td>\n",
       "      <td>[0.5297619104385376, 7.0, 1.0, 0.0, 0.0, 0.0, ...</td>\n",
       "      <td>556974762</td>\n",
       "      <td>914184490</td>\n",
       "      <td>['dogAgeScaled', 'boxNumber', 'incomingGrade_v...</td>\n",
       "      <td>465</td>\n",
       "    </tr>\n",
       "    <tr>\n",
       "      <th>301254</th>\n",
       "      <td>2023-07-03 00:00:00+00:00</td>\n",
       "      <td>NZ</td>\n",
       "      <td>Addington</td>\n",
       "      <td>295</td>\n",
       "      <td>914184490</td>\n",
       "      <td>C1</td>\n",
       "      <td>12</td>\n",
       "      <td>8.0</td>\n",
       "      <td>8</td>\n",
       "      <td>915839708</td>\n",
       "      <td>...</td>\n",
       "      <td>Addington</td>\n",
       "      <td>NZ</td>\n",
       "      <td>918532418.0</td>\n",
       "      <td>220.000000</td>\n",
       "      <td>34.4</td>\n",
       "      <td>[0.8404762148857117, 8.0, 6.0, 0.1704545468091...</td>\n",
       "      <td>448840970</td>\n",
       "      <td>914184490</td>\n",
       "      <td>['dogAgeScaled', 'boxNumber', 'incomingGrade_v...</td>\n",
       "      <td>465</td>\n",
       "    </tr>\n",
       "  </tbody>\n",
       "</table>\n",
       "<p>93 rows × 155 columns</p>\n",
       "</div>"
      ],
      "text/plain": [
       "                     meetingDate state      track  distance     raceId  \\\n",
       "301162 2023-07-03 00:00:00+00:00    NZ  Addington       295  914184479   \n",
       "301163 2023-07-03 00:00:00+00:00    NZ  Addington       295  914184479   \n",
       "301164 2023-07-03 00:00:00+00:00    NZ  Addington       295  914184479   \n",
       "301165 2023-07-03 00:00:00+00:00    NZ  Addington       295  914184479   \n",
       "301166 2023-07-03 00:00:00+00:00    NZ  Addington       295  914184479   \n",
       "...                          ...   ...        ...       ...        ...   \n",
       "301250 2023-07-03 00:00:00+00:00    NZ  Addington       295  914184490   \n",
       "301251 2023-07-03 00:00:00+00:00    NZ  Addington       295  914184490   \n",
       "301252 2023-07-03 00:00:00+00:00    NZ  Addington       295  914184490   \n",
       "301253 2023-07-03 00:00:00+00:00    NZ  Addington       295  914184490   \n",
       "301254 2023-07-03 00:00:00+00:00    NZ  Addington       295  914184490   \n",
       "\n",
       "       raceTypeCode  raceNumber  boxNumber  rugNumber      runId  ...  \\\n",
       "301162           C1           1        1.0          1  915839614  ...   \n",
       "301163           C1           1        2.0          2  915839615  ...   \n",
       "301164           C1           1        3.0          3  915839616  ...   \n",
       "301165           C1           1        4.0          4  915839617  ...   \n",
       "301166           C1           1        6.0          6  915839619  ...   \n",
       "...             ...         ...        ...        ...        ...  ...   \n",
       "301250           C1          12        3.0          3  915839704  ...   \n",
       "301251           C1          12        4.0          4  915839705  ...   \n",
       "301252           C1          12        6.0          6  915839706  ...   \n",
       "301253           C1          12        7.0          7  915839707  ...   \n",
       "301254           C1          12        8.0          8  915839708  ...   \n",
       "\n",
       "        prev_race_track prev_race_state    next_race prev_BSP_price  \\\n",
       "301162        Addington              NZ  918532419.0      55.000000   \n",
       "301163        Addington              NZ  920247464.0      14.500000   \n",
       "301164        Addington              NZ  914237106.0      34.995636   \n",
       "301165        Addington              NZ  914237107.0      18.000000   \n",
       "301166        Addington              NZ  918532429.0      17.000000   \n",
       "...                 ...             ...          ...            ...   \n",
       "301250        Addington              NZ  914186722.0      15.409545   \n",
       "301251        Addington              NZ  918532419.0      65.000000   \n",
       "301252        Addington              NZ  914237107.0      18.500000   \n",
       "301253       Ascot Park              NZ  914186229.0      11.500000   \n",
       "301254        Addington              NZ  918532418.0     220.000000   \n",
       "\n",
       "        prev_start_price                                        stats_topaz  \\\n",
       "301162              38.1  [0.5339285731315613, 1.0, 1.0, 1.0, 0.0, 0.0, ...   \n",
       "301163              11.8  [1.0, 2.0, 1.0, 0.0, 0.0, 0.0, 0.1560566574335...   \n",
       "301164              21.9  [0.7160714268684387, 3.0, 6.0, 0.0462962947785...   \n",
       "301165              13.8  [0.02500000037252903, 4.0, 1.0, 0.027777777984...   \n",
       "301166              12.4  [0.13214285671710968, 6.0, 7.0, 0.333333343267...   \n",
       "...                  ...                                                ...   \n",
       "301250              11.1  [0.1130952388048172, 3.0, 6.0, 1.0, 0.0, 0.0, ...   \n",
       "301251              29.4  [0.5773809552192688, 4.0, 1.0, 0.8863636255264...   \n",
       "301252              12.4  [0.2916666567325592, 6.0, 1.0, 0.2159090936183...   \n",
       "301253              13.3  [0.5297619104385376, 7.0, 1.0, 0.0, 0.0, 0.0, ...   \n",
       "301254              34.4  [0.8404762148857117, 8.0, 6.0, 0.1704545468091...   \n",
       "\n",
       "            dogid     raceid  \\\n",
       "301162  549391123  914184479   \n",
       "301163  491585837  914184479   \n",
       "301164  525211021  914184479   \n",
       "301165  638803603  914184479   \n",
       "301166  614057168  914184479   \n",
       "...           ...        ...   \n",
       "301250  638803595  914184490   \n",
       "301251  525210989  914184490   \n",
       "301252  592709125  914184490   \n",
       "301253  556974762  914184490   \n",
       "301254  448840970  914184490   \n",
       "\n",
       "                                               stats_cols track_hash  \n",
       "301162  ['dogAgeScaled', 'boxNumber', 'incomingGrade_v...        465  \n",
       "301163  ['dogAgeScaled', 'boxNumber', 'incomingGrade_v...        465  \n",
       "301164  ['dogAgeScaled', 'boxNumber', 'incomingGrade_v...        465  \n",
       "301165  ['dogAgeScaled', 'boxNumber', 'incomingGrade_v...        465  \n",
       "301166  ['dogAgeScaled', 'boxNumber', 'incomingGrade_v...        465  \n",
       "...                                                   ...        ...  \n",
       "301250  ['dogAgeScaled', 'boxNumber', 'incomingGrade_v...        465  \n",
       "301251  ['dogAgeScaled', 'boxNumber', 'incomingGrade_v...        465  \n",
       "301252  ['dogAgeScaled', 'boxNumber', 'incomingGrade_v...        465  \n",
       "301253  ['dogAgeScaled', 'boxNumber', 'incomingGrade_v...        465  \n",
       "301254  ['dogAgeScaled', 'boxNumber', 'incomingGrade_v...        465  \n",
       "\n",
       "[93 rows x 155 columns]"
      ]
     },
     "execution_count": 49,
     "metadata": {},
     "output_type": "execute_result"
    }
   ],
   "source": [
    "single_day"
   ]
  },
  {
   "cell_type": "code",
   "execution_count": 27,
   "metadata": {},
   "outputs": [],
   "source": [
    "test_df.to_csv('single_day_for_viz.csv')"
   ]
  },
  {
   "cell_type": "code",
   "execution_count": 29,
   "metadata": {},
   "outputs": [],
   "source": [
    "import dashtools"
   ]
  },
  {
   "cell_type": "code",
   "execution_count": 26,
   "metadata": {},
   "outputs": [
    {
     "data": {
      "text/html": [
       "\n",
       "        <iframe\n",
       "            width=\"100%\"\n",
       "            height=\"650\"\n",
       "            src=\"http://127.0.0.1:8050/\"\n",
       "            frameborder=\"0\"\n",
       "            allowfullscreen\n",
       "            \n",
       "        ></iframe>\n",
       "        "
      ],
      "text/plain": [
       "<IPython.lib.display.IFrame at 0x15d401ebf90>"
      ]
     },
     "metadata": {},
     "output_type": "display_data"
    }
   ],
   "source": [
    "import dash\n",
    "import dash_core_components as dcc\n",
    "import dash_html_components as html\n",
    "import dash_table\n",
    "import plotly.graph_objects as go\n",
    "from dash.dependencies import Input, Output\n",
    "\n",
    "# Assuming you have your data in the following format\n",
    "dogs = ['Dog1', 'Dog2', 'Dog3', 'Dog4', 'Dog5', 'Dog6', 'Dog7', 'Dog8']\n",
    "target_types = ['OneHot', 'place_sft', 'margin_sft', 'bsp_prob']\n",
    "\n",
    "# Random data for demonstration\n",
    "df = test_df\n",
    "race_ids = df['raceId'].unique()\n",
    "data = torch.stack([onehot,place_sft, margin_sft, bsp_prob], dim=0)\n",
    "result_time = torch.tensor(single_race['resultMargin'].values)\n",
    "\n",
    "# Create a 2D array of text\n",
    "text = data.numpy().astype(str)\n",
    "\n",
    "app = dash.Dash(__name__)\n",
    "\n",
    "app.layout = html.Div([\n",
    "    dcc.Dropdown(\n",
    "        id='race-selector',\n",
    "        options=[{'label': f'Race {i+1}', 'value': i} for i in race_ids],  # replace 10 with the number of races\n",
    "        value=0\n",
    "    ),\n",
    "    dash_table.DataTable(id='table'),\n",
    "    dcc.Graph(id='column-chart'),\n",
    "    dcc.Graph(id='heatmap')\n",
    "])\n",
    "\n",
    "@app.callback(\n",
    "    [Output('table', 'columns'), Output('table', 'data'), Output('column-chart', 'figure'), Output('heatmap', 'figure')],\n",
    "    [Input('race-selector', 'value')]\n",
    ")\n",
    "\n",
    "\n",
    "def update_content(race_index):\n",
    "    # Get data for the selected race\n",
    "    single_race = df[df['raceId'] == race_index]\n",
    "\n",
    "    # Ensure we have data for all 8 dogs\n",
    "    dogs = [f'Dog{i+1}' for i in range(8)]\n",
    "    \n",
    "    # Prepare data for heatmap\n",
    "    data_cols = ['place_sft', 'margin_sft', 'bosted_sft', 'bsp_prob']\n",
    "    data = np.zeros((len(data_cols), 8))  # Initialize with zeros for 8 dogs\n",
    "    \n",
    "    for i, row in single_race.iterrows():\n",
    "        dog_index = int(row['boxNumber']) - 1  # Assuming boxNumber starts from 1\n",
    "        data[:, dog_index] = row[data_cols]\n",
    "\n",
    "    # Prepare data for bar chart\n",
    "    result_time = single_race['resultMargin'].values\n",
    "    \n",
    "    return (\n",
    "        [{\"name\": i, \"id\": i} for i in single_race[['boxNumber','win','resultMargin','place','resultTime','BSP']].columns],\n",
    "        single_race[['boxNumber','win','resultMargin','place','resultTime','BSP']].round(3).to_dict('records'),\n",
    "        {\n",
    "            'data': [\n",
    "                go.Bar(\n",
    "                    x=result_time,\n",
    "                    y=dogs,\n",
    "                    orientation='h',\n",
    "                )\n",
    "            ]\n",
    "        },\n",
    "        {\n",
    "            'data': [\n",
    "                go.Heatmap(\n",
    "                    z=data,\n",
    "                    x=dogs,\n",
    "                    y=data_cols,\n",
    "                    text=data.round(3),\n",
    "                    hoverinfo='text',\n",
    "                    colorscale=[[0, 'white'], [1, 'blue']],\n",
    "                    showscale=False\n",
    "                )\n",
    "            ]\n",
    "        }\n",
    "    )\n",
    "\n",
    "# Use the 'jupyterlab' mode when running in Jupyter\n",
    "app."
   ]
  },
  {
   "cell_type": "code",
   "execution_count": 39,
   "metadata": {},
   "outputs": [
    {
     "data": {
      "text/html": [
       "\n",
       "        <iframe\n",
       "            width=\"100%\"\n",
       "            height=\"650\"\n",
       "            src=\"http://127.0.0.1:8050/\"\n",
       "            frameborder=\"0\"\n",
       "            allowfullscreen\n",
       "            \n",
       "        ></iframe>\n",
       "        "
      ],
      "text/plain": [
       "<IPython.lib.display.IFrame at 0x15d4046ac90>"
      ]
     },
     "metadata": {},
     "output_type": "display_data"
    }
   ],
   "source": [
    "import dash\n",
    "import dash_core_components as dcc\n",
    "import dash_html_components as html\n",
    "import dash_table\n",
    "import plotly.graph_objects as go\n",
    "from dash.dependencies import Input, Output\n",
    "\n",
    "# Assuming you have your data in the following format\n",
    "dogs = ['Dog1', 'Dog2', 'Dog3', 'Dog4', 'Dog5', 'Dog6', 'Dog7', 'Dog8']\n",
    "target_types = ['OneHot', 'place_sft', 'margin_sft', 'bsp_prob']\n",
    "\n",
    "# Random data for demonstration\n",
    "data = torch.stack([onehot,place_sft, margin_sft, bsp_prob], dim=0)\n",
    "result_time = torch.tensor(single_race['resultMargin'].values)\n",
    "\n",
    "# Create a 2D array of text\n",
    "text = data.numpy().astype(str)\n",
    "\n",
    "app = dash.Dash(__name__)\n",
    "\n",
    "app.layout = html.Div([\n",
    "    dash_table.DataTable(\n",
    "        id='table',\n",
    "        columns=[{\"name\": i, \"id\": i} for i in single_race[['boxNumber','win','resultMargin','place','resultTime','BSP']].columns],\n",
    "        data=single_race[['boxNumber','win','resultMargin','place','resultTime','BSP']].round(3).to_dict('records'),\n",
    "    ),\n",
    "    dcc.Dropdown(\n",
    "        id='dropdown',\n",
    "        options=[{'label': i, 'value': i} for i in single_race[['win','resultMargin','place','resultTime','BSP']].columns],\n",
    "        value='resultMargin'\n",
    "    ),\n",
    "    dcc.Graph(id='column-chart'),\n",
    "    dcc.Graph(\n",
    "        id='heatmap',\n",
    "        figure={\n",
    "            'data': [\n",
    "                go.Heatmap(\n",
    "                    z=data,\n",
    "                    x=dogs,\n",
    "                    y=target_types,\n",
    "                    text=text,\n",
    "                    hoverinfo='text',\n",
    "                    texttemplate=\"%{text:.3f}\",\n",
    "                    textfont={\"size\":12},\n",
    "                    colorscale=[[0, 'white'], [1, 'blue']],\n",
    "                    showscale=False\n",
    "                )\n",
    "            ]\n",
    "        }\n",
    "    )\n",
    "])\n",
    "\n",
    "@app.callback(\n",
    "    Output('column-chart', 'figure'),\n",
    "    [Input('dropdown', 'value')]\n",
    ")\n",
    "def update_column_chart(selected_value):\n",
    "    return {\n",
    "        'data': [\n",
    "            go.Bar(\n",
    "                x=single_race[selected_value],\n",
    "                y=dogs,\n",
    "                orientation='h',\n",
    "            )\n",
    "        ]\n",
    "    }\n",
    "\n",
    "# Use the 'jupyterlab' mode when running in Jupyter\n",
    "app.run_server(mode='jupyterlab')"
   ]
  },
  {
   "cell_type": "code",
   "execution_count": 60,
   "metadata": {},
   "outputs": [
    {
     "name": "stdout",
     "output_type": "stream",
     "text": [
      "HTML file 'dog_race_analysis.html' has been created.\n"
     ]
    },
    {
     "data": {
      "application/vnd.plotly.v1+json": {
       "config": {
        "plotlyServerURL": "https://plot.ly"
       },
       "data": [
        {
         "cells": {
          "align": "left",
          "fill": {
           "color": [
            "#f0f0f0",
            "white"
           ]
          },
          "values": [
           [
            1,
            2,
            3,
            4,
            5,
            6,
            7,
            8
           ],
           [
            0,
            0,
            1,
            0,
            0,
            0,
            0,
            0
           ],
           [
            1.25,
            5,
            0,
            0.25,
            11,
            9.75,
            9,
            8.5
           ],
           [
            3,
            4,
            1,
            2,
            8,
            7,
            6,
            5
           ],
           [
            17.859,
            18.08,
            17.79,
            17.796,
            18.445,
            18.363,
            18.332,
            18.288
           ],
           [
            11.771,
            7.227,
            6.449,
            5.134,
            36,
            3.053,
            38,
            23
           ]
          ]
         },
         "domain": {
          "x": [
           0,
           0.475
          ],
          "y": [
           0.64,
           1
          ]
         },
         "header": {
          "align": "left",
          "fill": {
           "color": "#1f77b4"
          },
          "font": {
           "color": "white"
          },
          "values": [
           "<b>boxNumber</b>",
           "<b>win</b>",
           "<b>resultMargin</b>",
           "<b>place</b>",
           "<b>resultTime</b>",
           "<b>BSP</b>"
          ]
         },
         "type": "table"
        },
        {
         "hoverinfo": "text+y",
         "hovertemplate": "<b>%{y}</b><br>Result Margin: %{x:.3f}<extra></extra>",
         "marker": {
          "color": "#1f77b4"
         },
         "orientation": "h",
         "text": [
          1.25,
          5,
          0,
          0.25,
          11,
          9.75,
          9,
          8.5
         ],
         "textposition": "outside",
         "type": "bar",
         "x": [
          1.25,
          5,
          0,
          0.25,
          11,
          9.75,
          9,
          8.5
         ],
         "xaxis": "x",
         "y": [
          "Dog1",
          "Dog2",
          "Dog3",
          "Dog4",
          "Dog5",
          "Dog6",
          "Dog7",
          "Dog8"
         ],
         "yaxis": "y"
        },
        {
         "colorbar": {
          "len": 0.6,
          "thickness": 20,
          "y": 0.3
         },
         "colorscale": [
          [
           0,
           "#440154"
          ],
          [
           0.1111111111111111,
           "#482878"
          ],
          [
           0.2222222222222222,
           "#3e4989"
          ],
          [
           0.3333333333333333,
           "#31688e"
          ],
          [
           0.4444444444444444,
           "#26828e"
          ],
          [
           0.5555555555555556,
           "#1f9e89"
          ],
          [
           0.6666666666666666,
           "#35b779"
          ],
          [
           0.7777777777777778,
           "#6ece58"
          ],
          [
           0.8888888888888888,
           "#b5de2b"
          ],
          [
           1,
           "#fde725"
          ]
         ],
         "hoverinfo": "text+x+y",
         "showscale": true,
         "text": [
          [
           "0.0",
           "0.0",
           "1.0",
           "0.0",
           "0.0",
           "0.0",
           "0.0",
           "0.0"
          ],
          [
           "0.08557692272813495",
           "0.03148199051039798",
           "0.6323326828120425",
           "0.23262219398733308",
           "0.0005766127696870058",
           "0.0015673960138976283",
           "0.004260624102577064",
           "0.011581577075929859"
          ],
          [
           "0.13824479846716606",
           "0.0032512060362660093",
           "0.48252175873560466",
           "0.3757883235522804",
           "8.058934039185174e-06",
           "2.8128443668319483e-05",
           "5.954791571312103e-05",
           "9.817791526208103e-05"
          ],
          [
           "0.08495561142364941",
           "0.13836296300317022",
           "0.15505577159183329",
           "0.19476847247444007",
           "0.027777777777777776",
           "0.32756978339477555",
           "0.02631578947368421",
           "0.043478260869565216"
          ]
         ],
         "textfont": {
          "size": 10
         },
         "texttemplate": "%{text:.3f}",
         "type": "heatmap",
         "x": [
          "Dog1",
          "Dog2",
          "Dog3",
          "Dog4",
          "Dog5",
          "Dog6",
          "Dog7",
          "Dog8"
         ],
         "xaxis": "x2",
         "y": [
          "OneHot",
          "place_sft",
          "margin_sft",
          "bsp_prob"
         ],
         "yaxis": "y2",
         "z": [
          [
           0,
           0,
           1,
           0,
           0,
           0,
           0,
           0
          ],
          [
           0.08557692272813495,
           0.03148199051039798,
           0.6323326828120425,
           0.23262219398733308,
           0.0005766127696870058,
           0.0015673960138976283,
           0.004260624102577064,
           0.011581577075929859
          ],
          [
           0.13824479846716606,
           0.0032512060362660093,
           0.48252175873560466,
           0.3757883235522804,
           0.000008058934039185174,
           0.000028128443668319483,
           0.00005954791571312103,
           0.00009817791526208103
          ],
          [
           0.08495561142364941,
           0.13836296300317022,
           0.15505577159183329,
           0.19476847247444007,
           0.027777777777777776,
           0.32756978339477555,
           0.02631578947368421,
           0.043478260869565216
          ]
         ]
        }
       ],
       "layout": {
        "annotations": [
         {
          "font": {
           "size": 16
          },
          "showarrow": false,
          "text": "<b>Race Data</b>",
          "x": 0.2375,
          "xanchor": "center",
          "xref": "paper",
          "y": 1,
          "yanchor": "bottom",
          "yref": "paper"
         },
         {
          "font": {
           "size": 16
          },
          "showarrow": false,
          "text": "<b>Result Margin</b>",
          "x": 0.7625,
          "xanchor": "center",
          "xref": "paper",
          "y": 1,
          "yanchor": "bottom",
          "yref": "paper"
         },
         {
          "font": {
           "size": 16
          },
          "showarrow": false,
          "text": "<b>Target Type Heatmap</b>",
          "x": 0.5,
          "xanchor": "center",
          "xref": "paper",
          "y": 0.54,
          "yanchor": "bottom",
          "yref": "paper"
         }
        ],
        "font": {
         "family": "Arial, sans-serif"
        },
        "height": 1000,
        "paper_bgcolor": "white",
        "plot_bgcolor": "white",
        "showlegend": false,
        "template": {
         "data": {
          "bar": [
           {
            "error_x": {
             "color": "#2a3f5f"
            },
            "error_y": {
             "color": "#2a3f5f"
            },
            "marker": {
             "line": {
              "color": "#E5ECF6",
              "width": 0.5
             },
             "pattern": {
              "fillmode": "overlay",
              "size": 10,
              "solidity": 0.2
             }
            },
            "type": "bar"
           }
          ],
          "barpolar": [
           {
            "marker": {
             "line": {
              "color": "#E5ECF6",
              "width": 0.5
             },
             "pattern": {
              "fillmode": "overlay",
              "size": 10,
              "solidity": 0.2
             }
            },
            "type": "barpolar"
           }
          ],
          "carpet": [
           {
            "aaxis": {
             "endlinecolor": "#2a3f5f",
             "gridcolor": "white",
             "linecolor": "white",
             "minorgridcolor": "white",
             "startlinecolor": "#2a3f5f"
            },
            "baxis": {
             "endlinecolor": "#2a3f5f",
             "gridcolor": "white",
             "linecolor": "white",
             "minorgridcolor": "white",
             "startlinecolor": "#2a3f5f"
            },
            "type": "carpet"
           }
          ],
          "choropleth": [
           {
            "colorbar": {
             "outlinewidth": 0,
             "ticks": ""
            },
            "type": "choropleth"
           }
          ],
          "contour": [
           {
            "colorbar": {
             "outlinewidth": 0,
             "ticks": ""
            },
            "colorscale": [
             [
              0,
              "#0d0887"
             ],
             [
              0.1111111111111111,
              "#46039f"
             ],
             [
              0.2222222222222222,
              "#7201a8"
             ],
             [
              0.3333333333333333,
              "#9c179e"
             ],
             [
              0.4444444444444444,
              "#bd3786"
             ],
             [
              0.5555555555555556,
              "#d8576b"
             ],
             [
              0.6666666666666666,
              "#ed7953"
             ],
             [
              0.7777777777777778,
              "#fb9f3a"
             ],
             [
              0.8888888888888888,
              "#fdca26"
             ],
             [
              1,
              "#f0f921"
             ]
            ],
            "type": "contour"
           }
          ],
          "contourcarpet": [
           {
            "colorbar": {
             "outlinewidth": 0,
             "ticks": ""
            },
            "type": "contourcarpet"
           }
          ],
          "heatmap": [
           {
            "colorbar": {
             "outlinewidth": 0,
             "ticks": ""
            },
            "colorscale": [
             [
              0,
              "#0d0887"
             ],
             [
              0.1111111111111111,
              "#46039f"
             ],
             [
              0.2222222222222222,
              "#7201a8"
             ],
             [
              0.3333333333333333,
              "#9c179e"
             ],
             [
              0.4444444444444444,
              "#bd3786"
             ],
             [
              0.5555555555555556,
              "#d8576b"
             ],
             [
              0.6666666666666666,
              "#ed7953"
             ],
             [
              0.7777777777777778,
              "#fb9f3a"
             ],
             [
              0.8888888888888888,
              "#fdca26"
             ],
             [
              1,
              "#f0f921"
             ]
            ],
            "type": "heatmap"
           }
          ],
          "heatmapgl": [
           {
            "colorbar": {
             "outlinewidth": 0,
             "ticks": ""
            },
            "colorscale": [
             [
              0,
              "#0d0887"
             ],
             [
              0.1111111111111111,
              "#46039f"
             ],
             [
              0.2222222222222222,
              "#7201a8"
             ],
             [
              0.3333333333333333,
              "#9c179e"
             ],
             [
              0.4444444444444444,
              "#bd3786"
             ],
             [
              0.5555555555555556,
              "#d8576b"
             ],
             [
              0.6666666666666666,
              "#ed7953"
             ],
             [
              0.7777777777777778,
              "#fb9f3a"
             ],
             [
              0.8888888888888888,
              "#fdca26"
             ],
             [
              1,
              "#f0f921"
             ]
            ],
            "type": "heatmapgl"
           }
          ],
          "histogram": [
           {
            "marker": {
             "pattern": {
              "fillmode": "overlay",
              "size": 10,
              "solidity": 0.2
             }
            },
            "type": "histogram"
           }
          ],
          "histogram2d": [
           {
            "colorbar": {
             "outlinewidth": 0,
             "ticks": ""
            },
            "colorscale": [
             [
              0,
              "#0d0887"
             ],
             [
              0.1111111111111111,
              "#46039f"
             ],
             [
              0.2222222222222222,
              "#7201a8"
             ],
             [
              0.3333333333333333,
              "#9c179e"
             ],
             [
              0.4444444444444444,
              "#bd3786"
             ],
             [
              0.5555555555555556,
              "#d8576b"
             ],
             [
              0.6666666666666666,
              "#ed7953"
             ],
             [
              0.7777777777777778,
              "#fb9f3a"
             ],
             [
              0.8888888888888888,
              "#fdca26"
             ],
             [
              1,
              "#f0f921"
             ]
            ],
            "type": "histogram2d"
           }
          ],
          "histogram2dcontour": [
           {
            "colorbar": {
             "outlinewidth": 0,
             "ticks": ""
            },
            "colorscale": [
             [
              0,
              "#0d0887"
             ],
             [
              0.1111111111111111,
              "#46039f"
             ],
             [
              0.2222222222222222,
              "#7201a8"
             ],
             [
              0.3333333333333333,
              "#9c179e"
             ],
             [
              0.4444444444444444,
              "#bd3786"
             ],
             [
              0.5555555555555556,
              "#d8576b"
             ],
             [
              0.6666666666666666,
              "#ed7953"
             ],
             [
              0.7777777777777778,
              "#fb9f3a"
             ],
             [
              0.8888888888888888,
              "#fdca26"
             ],
             [
              1,
              "#f0f921"
             ]
            ],
            "type": "histogram2dcontour"
           }
          ],
          "mesh3d": [
           {
            "colorbar": {
             "outlinewidth": 0,
             "ticks": ""
            },
            "type": "mesh3d"
           }
          ],
          "parcoords": [
           {
            "line": {
             "colorbar": {
              "outlinewidth": 0,
              "ticks": ""
             }
            },
            "type": "parcoords"
           }
          ],
          "pie": [
           {
            "automargin": true,
            "type": "pie"
           }
          ],
          "scatter": [
           {
            "fillpattern": {
             "fillmode": "overlay",
             "size": 10,
             "solidity": 0.2
            },
            "type": "scatter"
           }
          ],
          "scatter3d": [
           {
            "line": {
             "colorbar": {
              "outlinewidth": 0,
              "ticks": ""
             }
            },
            "marker": {
             "colorbar": {
              "outlinewidth": 0,
              "ticks": ""
             }
            },
            "type": "scatter3d"
           }
          ],
          "scattercarpet": [
           {
            "marker": {
             "colorbar": {
              "outlinewidth": 0,
              "ticks": ""
             }
            },
            "type": "scattercarpet"
           }
          ],
          "scattergeo": [
           {
            "marker": {
             "colorbar": {
              "outlinewidth": 0,
              "ticks": ""
             }
            },
            "type": "scattergeo"
           }
          ],
          "scattergl": [
           {
            "marker": {
             "colorbar": {
              "outlinewidth": 0,
              "ticks": ""
             }
            },
            "type": "scattergl"
           }
          ],
          "scattermapbox": [
           {
            "marker": {
             "colorbar": {
              "outlinewidth": 0,
              "ticks": ""
             }
            },
            "type": "scattermapbox"
           }
          ],
          "scatterpolar": [
           {
            "marker": {
             "colorbar": {
              "outlinewidth": 0,
              "ticks": ""
             }
            },
            "type": "scatterpolar"
           }
          ],
          "scatterpolargl": [
           {
            "marker": {
             "colorbar": {
              "outlinewidth": 0,
              "ticks": ""
             }
            },
            "type": "scatterpolargl"
           }
          ],
          "scatterternary": [
           {
            "marker": {
             "colorbar": {
              "outlinewidth": 0,
              "ticks": ""
             }
            },
            "type": "scatterternary"
           }
          ],
          "surface": [
           {
            "colorbar": {
             "outlinewidth": 0,
             "ticks": ""
            },
            "colorscale": [
             [
              0,
              "#0d0887"
             ],
             [
              0.1111111111111111,
              "#46039f"
             ],
             [
              0.2222222222222222,
              "#7201a8"
             ],
             [
              0.3333333333333333,
              "#9c179e"
             ],
             [
              0.4444444444444444,
              "#bd3786"
             ],
             [
              0.5555555555555556,
              "#d8576b"
             ],
             [
              0.6666666666666666,
              "#ed7953"
             ],
             [
              0.7777777777777778,
              "#fb9f3a"
             ],
             [
              0.8888888888888888,
              "#fdca26"
             ],
             [
              1,
              "#f0f921"
             ]
            ],
            "type": "surface"
           }
          ],
          "table": [
           {
            "cells": {
             "fill": {
              "color": "#EBF0F8"
             },
             "line": {
              "color": "white"
             }
            },
            "header": {
             "fill": {
              "color": "#C8D4E3"
             },
             "line": {
              "color": "white"
             }
            },
            "type": "table"
           }
          ]
         },
         "layout": {
          "annotationdefaults": {
           "arrowcolor": "#2a3f5f",
           "arrowhead": 0,
           "arrowwidth": 1
          },
          "autotypenumbers": "strict",
          "coloraxis": {
           "colorbar": {
            "outlinewidth": 0,
            "ticks": ""
           }
          },
          "colorscale": {
           "diverging": [
            [
             0,
             "#8e0152"
            ],
            [
             0.1,
             "#c51b7d"
            ],
            [
             0.2,
             "#de77ae"
            ],
            [
             0.3,
             "#f1b6da"
            ],
            [
             0.4,
             "#fde0ef"
            ],
            [
             0.5,
             "#f7f7f7"
            ],
            [
             0.6,
             "#e6f5d0"
            ],
            [
             0.7,
             "#b8e186"
            ],
            [
             0.8,
             "#7fbc41"
            ],
            [
             0.9,
             "#4d9221"
            ],
            [
             1,
             "#276419"
            ]
           ],
           "sequential": [
            [
             0,
             "#0d0887"
            ],
            [
             0.1111111111111111,
             "#46039f"
            ],
            [
             0.2222222222222222,
             "#7201a8"
            ],
            [
             0.3333333333333333,
             "#9c179e"
            ],
            [
             0.4444444444444444,
             "#bd3786"
            ],
            [
             0.5555555555555556,
             "#d8576b"
            ],
            [
             0.6666666666666666,
             "#ed7953"
            ],
            [
             0.7777777777777778,
             "#fb9f3a"
            ],
            [
             0.8888888888888888,
             "#fdca26"
            ],
            [
             1,
             "#f0f921"
            ]
           ],
           "sequentialminus": [
            [
             0,
             "#0d0887"
            ],
            [
             0.1111111111111111,
             "#46039f"
            ],
            [
             0.2222222222222222,
             "#7201a8"
            ],
            [
             0.3333333333333333,
             "#9c179e"
            ],
            [
             0.4444444444444444,
             "#bd3786"
            ],
            [
             0.5555555555555556,
             "#d8576b"
            ],
            [
             0.6666666666666666,
             "#ed7953"
            ],
            [
             0.7777777777777778,
             "#fb9f3a"
            ],
            [
             0.8888888888888888,
             "#fdca26"
            ],
            [
             1,
             "#f0f921"
            ]
           ]
          },
          "colorway": [
           "#636efa",
           "#EF553B",
           "#00cc96",
           "#ab63fa",
           "#FFA15A",
           "#19d3f3",
           "#FF6692",
           "#B6E880",
           "#FF97FF",
           "#FECB52"
          ],
          "font": {
           "color": "#2a3f5f"
          },
          "geo": {
           "bgcolor": "white",
           "lakecolor": "white",
           "landcolor": "#E5ECF6",
           "showlakes": true,
           "showland": true,
           "subunitcolor": "white"
          },
          "hoverlabel": {
           "align": "left"
          },
          "hovermode": "closest",
          "mapbox": {
           "style": "light"
          },
          "paper_bgcolor": "white",
          "plot_bgcolor": "#E5ECF6",
          "polar": {
           "angularaxis": {
            "gridcolor": "white",
            "linecolor": "white",
            "ticks": ""
           },
           "bgcolor": "#E5ECF6",
           "radialaxis": {
            "gridcolor": "white",
            "linecolor": "white",
            "ticks": ""
           }
          },
          "scene": {
           "xaxis": {
            "backgroundcolor": "#E5ECF6",
            "gridcolor": "white",
            "gridwidth": 2,
            "linecolor": "white",
            "showbackground": true,
            "ticks": "",
            "zerolinecolor": "white"
           },
           "yaxis": {
            "backgroundcolor": "#E5ECF6",
            "gridcolor": "white",
            "gridwidth": 2,
            "linecolor": "white",
            "showbackground": true,
            "ticks": "",
            "zerolinecolor": "white"
           },
           "zaxis": {
            "backgroundcolor": "#E5ECF6",
            "gridcolor": "white",
            "gridwidth": 2,
            "linecolor": "white",
            "showbackground": true,
            "ticks": "",
            "zerolinecolor": "white"
           }
          },
          "shapedefaults": {
           "line": {
            "color": "#2a3f5f"
           }
          },
          "ternary": {
           "aaxis": {
            "gridcolor": "white",
            "linecolor": "white",
            "ticks": ""
           },
           "baxis": {
            "gridcolor": "white",
            "linecolor": "white",
            "ticks": ""
           },
           "bgcolor": "#E5ECF6",
           "caxis": {
            "gridcolor": "white",
            "linecolor": "white",
            "ticks": ""
           }
          },
          "title": {
           "x": 0.05
          },
          "xaxis": {
           "automargin": true,
           "gridcolor": "white",
           "linecolor": "white",
           "ticks": "",
           "title": {
            "standoff": 15
           },
           "zerolinecolor": "white",
           "zerolinewidth": 2
          },
          "yaxis": {
           "automargin": true,
           "gridcolor": "white",
           "linecolor": "white",
           "ticks": "",
           "title": {
            "standoff": 15
           },
           "zerolinecolor": "white",
           "zerolinewidth": 2
          }
         }
        },
        "title": {
         "font": {
          "size": 24
         },
         "text": "<b>Dog Race Analysis</b>"
        },
        "width": 1400,
        "xaxis": {
         "anchor": "y",
         "domain": [
          0.525,
          1
         ],
         "gridcolor": "lightgrey",
         "showgrid": true,
         "title": {
          "text": "<b>Result Margin</b>"
         }
        },
        "xaxis2": {
         "anchor": "y2",
         "domain": [
          0,
          1
         ],
         "title": {
          "text": "<b>Dogs</b>"
         }
        },
        "yaxis": {
         "anchor": "x",
         "domain": [
          0.64,
          1
         ],
         "showgrid": false,
         "showticklabels": false,
         "title": {
          "text": ""
         }
        },
        "yaxis2": {
         "anchor": "x2",
         "domain": [
          0,
          0.54
         ],
         "title": {
          "text": "<b>Target Types</b>"
         }
        }
       }
      }
     },
     "metadata": {},
     "output_type": "display_data"
    }
   ],
   "source": [
    "import plotly.graph_objects as go\n",
    "from plotly.subplots import make_subplots\n",
    "import pandas as pd\n",
    "import torch\n",
    "\n",
    "# Assuming you have your data in the following format\n",
    "dogs = ['Dog1', 'Dog2', 'Dog3', 'Dog4', 'Dog5', 'Dog6', 'Dog7', 'Dog8']\n",
    "target_types = ['OneHot', 'place_sft', 'margin_sft', 'bsp_prob']\n",
    "\n",
    "# Assuming these variables are defined elsewhere in your code\n",
    "# onehot, place_sft, margin_sft, bsp_prob\n",
    "\n",
    "# Stack the data\n",
    "data = torch.stack([onehot, place_sft, margin_sft, bsp_prob], dim=0)\n",
    "\n",
    "# Assuming single_race DataFrame is already defined\n",
    "\n",
    "# Create a 2D array of text\n",
    "text = data.numpy().astype(str)\n",
    "\n",
    "# Create subplots: 2 rows, 2 columns\n",
    "fig = make_subplots(rows=2, cols=2, \n",
    "                    subplot_titles=(\"<b>Race Data</b>\", \"<b>Result Margin</b>\", \"<b>Target Type Heatmap</b>\", \"\"),\n",
    "                    specs=[[{\"type\": \"table\"}, {\"type\": \"bar\"}],\n",
    "                           [{\"type\": \"heatmap\", \"colspan\": 2}, None]],\n",
    "                    vertical_spacing=0.1,\n",
    "                    horizontal_spacing=0.05,\n",
    "                    row_heights=[0.4, 0.6])\n",
    "\n",
    "# Add table\n",
    "fig.add_trace(\n",
    "    go.Table(\n",
    "        header=dict(values=[f\"<b>{col}</b>\" for col in single_race[['boxNumber','win','resultMargin','place','resultTime','BSP']].columns],\n",
    "                    fill_color='#1f77b4',\n",
    "                    font=dict(color='white'),\n",
    "                    align='left'),\n",
    "        cells=dict(values=[single_race[col].round(3) for col in single_race[['boxNumber','win','resultMargin','place','resultTime','BSP']].columns],\n",
    "                   fill_color=['#f0f0f0', 'white'],\n",
    "                   align='left')\n",
    "    ),\n",
    "    row=1, col=1\n",
    ")\n",
    "\n",
    "# Add column chart (using 'resultMargin' as default)\n",
    "fig.add_trace(\n",
    "    go.Bar(\n",
    "        x=single_race['resultMargin'],\n",
    "        y=dogs,\n",
    "        orientation='h',\n",
    "        text=single_race['resultMargin'].round(3),\n",
    "        textposition='outside',\n",
    "        marker_color='#1f77b4',\n",
    "        hoverinfo='text+y'\n",
    "    ),\n",
    "    row=1, col=2\n",
    ")\n",
    "\n",
    "# Add heatmap\n",
    "fig.add_trace(\n",
    "    go.Heatmap(\n",
    "        z=data.numpy(),\n",
    "        x=dogs,\n",
    "        y=target_types,\n",
    "        text=text,\n",
    "        hoverinfo='text+x+y',\n",
    "        texttemplate=\"%{text:.3f}\",\n",
    "        textfont={\"size\":10},\n",
    "        colorscale='Viridis',\n",
    "        showscale=True,\n",
    "        colorbar=dict(len=0.6, y=0.3, thickness=20)\n",
    "    ),\n",
    "    row=2, col=1\n",
    ")\n",
    "\n",
    "# Update layout\n",
    "fig.update_layout(\n",
    "    height=1000, \n",
    "    width=1400, \n",
    "    title_text=\"<b>Dog Race Analysis</b>\",\n",
    "    font=dict(family=\"Arial, sans-serif\"),\n",
    "    plot_bgcolor='white',\n",
    "    paper_bgcolor='white',\n",
    "    title_font_size=24,\n",
    "    showlegend=False\n",
    ")\n",
    "\n",
    "# Update axes\n",
    "fig.update_xaxes(title_text=\"<b>Result Margin</b>\", row=1, col=2, showgrid=True, gridcolor='lightgrey')\n",
    "fig.update_yaxes(title_text=\"\", row=1, col=2, showticklabels=False, showgrid=False)  # Remove y-axis\n",
    "fig.update_xaxes(title_text=\"<b>Dogs</b>\", row=2, col=1)\n",
    "fig.update_yaxes(title_text=\"<b>Target Types</b>\", row=2, col=1)\n",
    "\n",
    "# Add hover templates\n",
    "fig.update_traces(\n",
    "    hovertemplate=\"<b>%{y}</b><br>Result Margin: %{x:.3f}<extra></extra>\",\n",
    "    selector=dict(type=\"bar\")\n",
    ")\n",
    "\n",
    "# Generate HTML with some custom CSS for a modern look\n",
    "html_string = f\"\"\"\n",
    "<html>\n",
    "    <head>\n",
    "        <meta charset=\"utf-8\" />\n",
    "        <script src=\"https://cdn.plot.ly/plotly-latest.min.js\"></script>\n",
    "        <style>\n",
    "            body {{\n",
    "                font-family: Arial, sans-serif;\n",
    "                margin: 0;\n",
    "                padding: 20px;\n",
    "                background-color: #f0f0f0;\n",
    "            }}\n",
    "            .chart-container {{\n",
    "                background-color: white;\n",
    "                border-radius: 8px;\n",
    "                box-shadow: 0 4px 6px rgba(0, 0, 0, 0.1);\n",
    "                padding: 20px;\n",
    "                margin-bottom: 20px;\n",
    "                max-width: 1400px;\n",
    "                margin-left: auto;\n",
    "                margin-right: auto;\n",
    "            }}\n",
    "        </style>\n",
    "    </head>\n",
    "    <body>\n",
    "        <div class=\"chart-container\">\n",
    "            {fig.to_html(full_html=False, include_plotlyjs=False)}\n",
    "        </div>\n",
    "    </body>\n",
    "</html>\n",
    "\"\"\"\n",
    "\n",
    "# Write to file\n",
    "with open('dog_race_analysis.html', 'w') as f:\n",
    "    f.write(html_string)\n",
    "\n",
    "print(\"HTML file 'dog_race_analysis.html' has been created.\")\n",
    "\n",
    "\n",
    "fig.show()"
   ]
  }
 ],
 "metadata": {
  "kernelspec": {
   "display_name": "python311",
   "language": "python",
   "name": "python3"
  },
  "language_info": {
   "codemirror_mode": {
    "name": "ipython",
    "version": 3
   },
   "file_extension": ".py",
   "mimetype": "text/x-python",
   "name": "python",
   "nbconvert_exporter": "python",
   "pygments_lexer": "ipython3",
   "version": "3.11.5"
  }
 },
 "nbformat": 4,
 "nbformat_minor": 2
}
