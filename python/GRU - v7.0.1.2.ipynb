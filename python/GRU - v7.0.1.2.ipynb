{
 "cells": [
  {
   "cell_type": "code",
   "execution_count": 42,
   "metadata": {},
   "outputs": [],
   "source": [
    "import pickle\n",
    "import pandas as pd\n",
    "import os\n",
    "import setup\n",
    "\n",
    "import torch\n",
    "import numpy as np\n",
    "import torch.nn as nn\n",
    "import torch.nn.functional as F\n",
    "import torch.optim as optim\n",
    "from tqdm.notebook import tqdm, trange\n",
    "import torch.optim as optim\n",
    "from torch.utils.data import TensorDataset, DataLoader\n",
    "import wandb\n",
    "from torch.utils.data.sampler import SubsetRandomSampler\n",
    "import pprint\n",
    "import matplotlib.pyplot as plt\n",
    "import torch\n",
    "\n",
    "from sklearn.preprocessing import MinMaxScaler\n",
    "import math\n",
    "from torch.profiler import profile, record_function, ProfilerActivity\n",
    "\n",
    "from operator import itemgetter\n",
    "import operator\n",
    "from random import randint\n",
    "# from rnn_classes import Dog, DogInput, Race, Races, GRUNet, smallGRUNet, smalll_lin_GRUNet, smalll_prelin_GRUNet\n",
    "import rnn_tools.rnn_classes as rnn_classes\n",
    "from rnn_tools.raceDB import build_dataset\n",
    "import importlib\n",
    "import datetime\n",
    "from rnn_tools.model_saver import model_saver, model_saver_wandb\n",
    "import rnn_tools.training_testing_gru as training_testing_gru\n",
    "from torch.nn.utils.rnn import pack_padded_sequence, pack_sequence, pad_packed_sequence,pad_sequence, unpack_sequence, unpad_sequence\n",
    "import rnn_tools.training_testing_gru_double as training_testing_gru_double\n",
    "import rnn_tools.training_testing_lstm as training_testing_lstm\n",
    "from goto_conversion import goto_conversion\n",
    "\n",
    "import rnn_tools.training_testing_gru_extra_data as training_testing_gru_extra_data\n",
    "import rnn_tools.training_testing_stacking as training_testing_stacking\n",
    "from torch.utils.data import Dataset, DataLoader"
   ]
  },
  {
   "cell_type": "code",
   "execution_count": 43,
   "metadata": {},
   "outputs": [
    {
     "name": "stdout",
     "output_type": "stream",
     "text": [
      "Running on the GPU\n"
     ]
    }
   ],
   "source": [
    "if torch.cuda.is_available():\n",
    "    device = torch.device(\"cuda:0\")  # you can continue going on here, like cuda:1 cuda:2....etc.\n",
    "    print(\"Running on the GPU\")\n",
    "else:\n",
    "    device = torch.device(\"cpu\")\n",
    "    print(\"Running on the CPU\")"
   ]
  },
  {
   "cell_type": "code",
   "execution_count": 44,
   "metadata": {},
   "outputs": [],
   "source": [
    "torch.set_default_tensor_type(torch.FloatTensor)"
   ]
  },
  {
   "cell_type": "code",
   "execution_count": 45,
   "metadata": {},
   "outputs": [
    {
     "data": {
      "text/plain": [
       "'2.1.1'"
      ]
     },
     "execution_count": 45,
     "metadata": {},
     "output_type": "execute_result"
    }
   ],
   "source": [
    "torch.__version__"
   ]
  },
  {
   "cell_type": "code",
   "execution_count": 46,
   "metadata": {},
   "outputs": [
    {
     "data": {
      "text/plain": [
       "['dist_last__1',\n",
       " 'box_last__1',\n",
       " 'speed_avg_1',\n",
       " 'split_speed_v1_1',\n",
       " 'split_speed_avg_1',\n",
       " 'split_margin_avg_1',\n",
       " 'margin_avg_1',\n",
       " 'margin_time_avg_1',\n",
       " 'RunHomeTime_1',\n",
       " 'run_home_speed_1',\n",
       " 'run_home_speed_v1_1',\n",
       " 'first_out_avg_1',\n",
       " 'pos_out_avg_1',\n",
       " 'post_change_avg_1',\n",
       " 'races_1',\n",
       " 'wins_1',\n",
       " 'wins_last_1',\n",
       " 'weight_',\n",
       " 'min_time_',\n",
       " 'min_split_time_',\n",
       " 'min_split_time_v1',\n",
       " 'last_start_price',\n",
       " 'last_start_prob']"
      ]
     },
     "execution_count": 46,
     "metadata": {},
     "output_type": "execute_result"
    }
   ],
   "source": [
    "['dist_last__1', 'box_last__1', 'speed_avg_1', 'split_speed_v1_1', 'split_speed_avg_1', 'split_margin_avg_1', 'margin_avg_1', 'margin_time_avg_1', 'RunHomeTime_1', 'run_home_speed_1', 'run_home_speed_v1_1', 'first_out_avg_1', 'pos_out_avg_1', 'post_change_avg_1', 'races_1', 'wins_1', 'wins_last_1', 'weight_', 'min_time_', 'min_split_time_', 'min_split_time_v1', 'last_start_price', 'last_start_prob']"
   ]
  },
  {
   "cell_type": "code",
   "execution_count": 47,
   "metadata": {},
   "outputs": [],
   "source": [
    "def custom_l2(output, target):\n",
    "    loss = torch.mean(abs(output-target), dim=1)\n",
    "    return loss"
   ]
  },
  {
   "cell_type": "code",
   "execution_count": 48,
   "metadata": {},
   "outputs": [],
   "source": [
    "def validation_CLE(x,y):\n",
    "    loss_t = -torch.log(torch.exp(x)/torch.sum(torch.exp(x), dim=-1, keepdim=True))*y\n",
    "    return loss_t"
   ]
  },
  {
   "cell_type": "code",
   "execution_count": 49,
   "metadata": {},
   "outputs": [],
   "source": [
    "tracks = ['Sandown Park',\n",
    " 'The Meadows',\n",
    " 'Warragul',\n",
    " 'Geelong',\n",
    " 'Sale',\n",
    " 'Ballarat',\n",
    " 'Bendigo',\n",
    " 'Cranbourne']"
   ]
  },
  {
   "cell_type": "code",
   "execution_count": 50,
   "metadata": {},
   "outputs": [
    {
     "name": "stdout",
     "output_type": "stream",
     "text": [
      "c:\\Users\\Nick\\Documents\\GitHub\\grvmodel\\python\n"
     ]
    }
   ],
   "source": [
    "os.getcwd()\n",
    "import rnn_tools.raceDB\n",
    "importlib.reload(rnn_tools.raceDB)\n",
    "# os.chdir(r\"C:\\Users\\Nick\\Documents\\GitHub\\grvmodel\\Python\\DATA\")                                                                                                                                                                                                                                                                                                                             \n",
    "date = datetime.datetime.strptime(\"2022-08-01\", \"%Y-%m-%d\").date()\n",
    "hidden_size = 32\n",
    "states = [\"NZ\"]\n",
    "data_file = './data/gru_inputs_kitchen_sink_new_not_simple.fth'\n",
    "raceDB = rnn_tools.raceDB.build_dataset(data_file, hidden_size ,state_filter=states, margin_type='boosted_sftmin',v6=True)\n",
    "raceDB.create_new_weights_v2()"
   ]
  },
  {
   "cell_type": "code",
   "execution_count": null,
   "metadata": {},
   "outputs": [],
   "source": [
    "raceDB.stats_cols = eval(raceDB.stats_cols)[0]"
   ]
  },
  {
   "cell_type": "code",
   "execution_count": null,
   "metadata": {},
   "outputs": [],
   "source": [
    "# raceDB.stats_cols = ['box']+raceDB.stats_cols"
   ]
  },
  {
   "cell_type": "code",
   "execution_count": null,
   "metadata": {},
   "outputs": [
    {
     "name": "stdout",
     "output_type": "stream",
     "text": [
      "0 inside\n",
      "1 midfield\n",
      "2 wide\n",
      "3 weight\n",
      "4 DogGrade\n",
      "5 _dist_last__1\n",
      "6 _box_last__1\n",
      "7 _speed_avg_1\n",
      "8 _split_speed_avg_1\n",
      "9 _split_margin_avg_1\n",
      "10 _margin_avg_1\n",
      "11 _margin_time_avg_1\n",
      "12 _RunHomeTime_1\n",
      "13 _run_home_speed_1\n",
      "14 _first_out_avg_1\n",
      "15 _pos_out_avg_1\n",
      "16 _post_change_avg_1\n",
      "17 _races_1\n",
      "18 _wins_1\n",
      "19 _wins_last_1\n",
      "20 _weight_\n",
      "21 _min_time_\n",
      "22 _min_split_time_\n",
      "23 _last_start_price\n",
      "24 _last_start_prob\n",
      "25 dist_dist_last__10\n",
      "26 dist_box_last__10\n",
      "27 dist_speed_avg_10\n",
      "28 dist_split_speed_avg_10\n",
      "29 dist_split_margin_avg_10\n",
      "30 dist_margin_avg_10\n",
      "31 dist_margin_time_avg_10\n",
      "32 dist_RunHomeTime_10\n",
      "33 dist_run_home_speed_10\n",
      "34 dist_first_out_avg_10\n",
      "35 dist_pos_out_avg_10\n",
      "36 dist_post_change_avg_10\n",
      "37 dist_races_10\n",
      "38 dist_wins_10\n",
      "39 dist_wins_last_10\n",
      "40 dist_weight_\n",
      "41 dist_min_time_\n",
      "42 dist_min_split_time_\n",
      "43 dist_last_start_price\n",
      "44 dist_last_start_prob\n",
      "45 box_dist_last__10\n",
      "46 box_box_last__10\n",
      "47 box_speed_avg_10\n",
      "48 box_split_speed_avg_10\n",
      "49 box_split_margin_avg_10\n",
      "50 box_margin_avg_10\n",
      "51 box_margin_time_avg_10\n",
      "52 box_RunHomeTime_10\n",
      "53 box_run_home_speed_10\n",
      "54 box_first_out_avg_10\n",
      "55 box_pos_out_avg_10\n",
      "56 box_post_change_avg_10\n",
      "57 box_races_10\n",
      "58 box_wins_10\n",
      "59 box_wins_last_10\n",
      "60 box_weight_\n",
      "61 box_min_time_\n",
      "62 box_min_split_time_\n",
      "63 box_last_start_price\n",
      "64 box_last_start_prob\n",
      "65 track_box_dist_last__10\n",
      "66 track_box_box_last__10\n",
      "67 track_box_speed_avg_10\n",
      "68 track_box_split_speed_avg_10\n",
      "69 track_box_split_margin_avg_10\n",
      "70 track_box_margin_avg_10\n",
      "71 track_box_margin_time_avg_10\n",
      "72 track_box_RunHomeTime_10\n",
      "73 track_box_run_home_speed_10\n",
      "74 track_box_first_out_avg_10\n",
      "75 track_box_pos_out_avg_10\n",
      "76 track_box_post_change_avg_10\n",
      "77 track_box_races_10\n",
      "78 track_box_wins_10\n",
      "79 track_box_wins_last_10\n",
      "80 track_box_weight_\n",
      "81 track_box_min_time_\n",
      "82 track_box_min_split_time_\n",
      "83 track_box_last_start_price\n",
      "84 track_box_last_start_prob\n",
      "85 track_dist_dist_last__10\n",
      "86 track_dist_box_last__10\n",
      "87 track_dist_speed_avg_10\n",
      "88 track_dist_split_speed_avg_10\n",
      "89 track_dist_split_margin_avg_10\n",
      "90 track_dist_margin_avg_10\n",
      "91 track_dist_margin_time_avg_10\n",
      "92 track_dist_RunHomeTime_10\n",
      "93 track_dist_run_home_speed_10\n",
      "94 track_dist_first_out_avg_10\n",
      "95 track_dist_pos_out_avg_10\n",
      "96 track_dist_post_change_avg_10\n",
      "97 track_dist_races_10\n",
      "98 track_dist_wins_10\n",
      "99 track_dist_wins_last_10\n",
      "100 track_dist_weight_\n",
      "101 track_dist_min_time_\n",
      "102 track_dist_min_split_time_\n",
      "103 track_dist_last_start_price\n",
      "104 track_dist_last_start_prob\n"
     ]
    }
   ],
   "source": [
    "for i,s in enumerate(raceDB.stats_cols):\n",
    "    print(i,s)"
   ]
  },
  {
   "cell_type": "code",
   "execution_count": null,
   "metadata": {},
   "outputs": [],
   "source": [
    "from rnn_tools.rnn_classes import Races,Dog, DogInput, Race"
   ]
  },
  {
   "cell_type": "code",
   "execution_count": null,
   "metadata": {},
   "outputs": [],
   "source": [
    "import rnn_tools.raceDB"
   ]
  },
  {
   "cell_type": "code",
   "execution_count": null,
   "metadata": {},
   "outputs": [],
   "source": [
    "stat_list = ['dist_last__1', 'box_last__1', 'speed_avg_1', 'split_speed_v1_1', 'split_speed_avg_1', 'split_margin_avg_1', 'margin_avg_1', 'margin_time_avg_1', 'RunHomeTime_1', 'run_home_speed_1', 'run_home_speed_v1_1', 'first_out_avg_1', 'pos_out_avg_1', 'post_change_avg_1', 'races_1', 'wins_1', 'wins_last_1', 'weight_', 'min_time_', 'min_split_time_', 'min_split_time_v1', 'last_start_price', 'last_start_prob']\n"
   ]
  },
  {
   "cell_type": "code",
   "execution_count": null,
   "metadata": {},
   "outputs": [
    {
     "name": "stdout",
     "output_type": "stream",
     "text": [
      "Train examples 15593, Test examples 2423, Val examples 2833\n"
     ]
    },
    {
     "name": "stderr",
     "output_type": "stream",
     "text": [
      "100%|██████████| 4028/4028 [00:00<00:00, 38581.08it/s]\n"
     ]
    }
   ],
   "source": [
    "raceDB.create_test_split_date('2023-01-01',val_date='2023-07-01')\n",
    "raceDB.create_dogs_test_split_date()"
   ]
  },
  {
   "cell_type": "code",
   "execution_count": null,
   "metadata": {},
   "outputs": [],
   "source": [
    "class BaggingDataset(Dataset):\n",
    "    def __init__(self, race_ids, num_samples):\n",
    "        self.data = race_ids\n",
    "        self.num_samples = num_samples\n",
    "\n",
    "    def __getitem__(self, index):\n",
    "        # Sample a random index\n",
    "        random_index = torch.randint(high=len(self.data), size=(1,)).item()\n",
    "        return self.data[random_index]\n",
    "\n",
    "    def __len__(self):\n",
    "        return self.num_samples"
   ]
  },
  {
   "cell_type": "code",
   "execution_count": null,
   "metadata": {},
   "outputs": [],
   "source": [
    "bagging_dataset = BaggingDataset(raceDB.train_race_ids, num_samples=1000)"
   ]
  },
  {
   "cell_type": "markdown",
   "metadata": {},
   "source": []
  },
  {
   "cell_type": "code",
   "execution_count": null,
   "metadata": {},
   "outputs": [],
   "source": [
    "bagging_dataloader = DataLoader(bagging_dataset, batch_size=32)"
   ]
  },
  {
   "cell_type": "code",
   "execution_count": null,
   "metadata": {},
   "outputs": [
    {
     "data": {
      "text/plain": [
       "['833066767',\n",
       " '768664847',\n",
       " '775513240',\n",
       " '716432184',\n",
       " '782154885',\n",
       " '620477980',\n",
       " '824847182',\n",
       " '570159712',\n",
       " '764579691',\n",
       " '509346729',\n",
       " '811481424',\n",
       " '665489991',\n",
       " '750654415',\n",
       " '504087612',\n",
       " '509334761',\n",
       " '579422602',\n",
       " '530406142',\n",
       " '707343118',\n",
       " '824820440',\n",
       " '550362205',\n",
       " '601881407',\n",
       " '775475296',\n",
       " '572604973',\n",
       " '605957520',\n",
       " '572605004',\n",
       " '546267409',\n",
       " '798946266',\n",
       " '827795858',\n",
       " '634917829',\n",
       " '504087178',\n",
       " '857139152',\n",
       " '580904662']"
      ]
     },
     "execution_count": 20,
     "metadata": {},
     "output_type": "execute_result"
    }
   ],
   "source": [
    "bagging_dataloader.__iter__().__next__()"
   ]
  },
  {
   "cell_type": "code",
   "execution_count": null,
   "metadata": {},
   "outputs": [],
   "source": [
    "def closure(optimizer, criterion, outs, classes):\n",
    "    optimizer.zero_grad()\n",
    "    loss = nn.functional.mse_loss(outs, classes)\n",
    "    loss.backward()\n",
    "    return loss\n",
    "\n",
    "def model_pipeline(my_dataset=raceDB,config=None,prev_model=None, sweep=True, model_state_dict=None, prev_model_file=None, prev_model_version='450'):\n",
    "    if my_dataset:\n",
    "      dataset = my_dataset    \n",
    "    else:\n",
    "      dataset = raceDB\n",
    "    # tell wandb to get started\n",
    "    with wandb.init(project=\"NEW GRU V7_stacking\", config=config,save_code=False):\n",
    "      #  access all HPs through wandb.config, so logging matches execution!\n",
    "      wandb.define_metric(\"loss_val\", summary=\"min\")\n",
    "      wandb.define_metric(\"accuracy\", summary=\"max\")\n",
    "      wandb.define_metric(\"ROI < 30\", summary=\"max\")\n",
    "      wandb.define_metric(\"relu roi\", summary=\"max\")\n",
    "      \n",
    "      config = wandb.config\n",
    "      pprint.pprint(config)\n",
    "      pprint.pprint(config.epochs)\n",
    "      print(config)\n",
    "      wandb.run.log_code('rnn_tools/')\n",
    "      # input_size = raceDB.get_race_input([0,1])[0].full_input.shape[0] #create fix so messy\n",
    "      print(config.input_type)\n",
    "\n",
    "      if 'batch_days' in config.keys():\n",
    "        pass\n",
    "        # raceDB.create_test_split_date(config['training_date_end'],val_date='2023-07-01')\n",
    "        # raceDB.create_dogs_test_split_date()\n",
    "        # raceDB.attach_races_to_dog_inputv2() \n",
    "        # raceDB.reset_hidden()\n",
    "\n",
    "\n",
    "      for race in raceDB.racesDict.values():\n",
    "        race.nn_input()\n",
    "\n",
    "      input_size = raceDB.racesDict[raceDB.raceIDs[0]].full_input.shape\n",
    "      print(f\"input size: {input_size}\")\n",
    "\n",
    "      num_models = 20\n",
    "\n",
    "      model = rnn_classes.AdvNet_stacking(input_size,num_models=num_models,fc0_size=config['f0_layer_size'], fc1_size=config['f1_layer_size'])\n",
    "      bagging_dataset = BaggingDataset(raceDB.train_race_ids, num_samples=512)\n",
    "      raceDB.dataloaders = []\n",
    "      for i in range(num_models):\n",
    "        raceDB.dataloaders.append(DataLoader(bagging_dataset, batch_size=128))\n",
    "\n",
    "      optimizer = optim.AdamW(model.parameters(), lr=config['learning_rate'])\n",
    "      raceDB.to_cuda()\n",
    "      criterion = nn.CrossEntropyLoss(reduction='none')\n",
    "\n",
    "      model = model.to(device)\n",
    "      # print(model)\n",
    "      \n",
    "      try:\n",
    "        training_testing_stacking.train_double_v3(model, dataset, criterion, optimizer, 'na', config)\n",
    "      except (KeyboardInterrupt) as error:\n",
    "        print(error)\n",
    "        print(\"finished Early\")\n",
    "        \n",
    "      # dataset.create_hidden_states_dict()\n",
    "      raceDB.create_hidden_states_dict_v2()\n",
    "      model_saver_wandb(model, optimizer, 450, 0.1, raceDB.hidden_states_dict_gru_v6,raceDB.train_hidden_dict , model_name=\"long nsw new  22000 RUN\")\n",
    "      if sweep:\n",
    "        # raceDB.reset_all_lstm_states\n",
    "        raceDB.reset_hidden()\n",
    "    \n",
    "\n",
    "\n",
    "    # and test its final performance\n",
    "    #test(model, test_loader)\n",
    "\n",
    "    return (model,dataset, optimizer)"
   ]
  },
  {
   "cell_type": "code",
   "execution_count": null,
   "metadata": {},
   "outputs": [],
   "source": [
    "wandb_config_static = {\n",
    "    'hidden_size': 256,\n",
    "    'stats': raceDB.stats_cols,\n",
    "    'races': states,\n",
    "    'datafile': data_file,\n",
    "    'latest_date': raceDB.latest_date,\n",
    "    'input_type': 'basic',\n",
    "    'num_layers': 2,\n",
    "    'batch_size': 750,\n",
    "    'dropout': 0.3,\n",
    "    'epochs': 5000,\n",
    "    'learning_rate': 0.0001,\n",
    "    'optimizer': 'adamW',\n",
    "    'f0_layer_size': 128,\n",
    "    'f1_layer_size': 64,\n",
    "    'training_date_end': '2023-01-01',\n",
    "    'notes':'Testing for low loss NZ Model, only TD extra',\n",
    "    'batch_days': 365,\n",
    "    'dist_last__1': 1,  #\n",
    "    'box_last__1': 1,  #\n",
    "    'speed_avg_1': 1,  #\n",
    "    'split_speed_v1_1': 0,  #\n",
    "    'split_speed_avg_1': 0,  #\n",
    "    'split_margin_avg_1': 1,\n",
    "    'margin_avg_1': 1,  #\n",
    "    'margin_time_avg_1': 1,  #\n",
    "    'RunHomeTime_1': 1,\n",
    "    'run_home_speed_1': 1,\n",
    "    'run_home_speed_v1_1': 0,\n",
    "    'first_out_avg_1': 1,  #\n",
    "    'pos_out_avg_1': 1,  #\n",
    "    'post_change_avg_1': 1,  #\n",
    "    'races_1': 0,\n",
    "    'wins_1': 0,\n",
    "    'wins_last_1': 1,\n",
    "    'weight_': 1,  #\n",
    "    'min_time_': 1,  #\n",
    "    'min_split_time_': 1,\n",
    "    'min_split_time_v1': 0,  #\n",
    "    'last_start_price': 0,  #\n",
    "    'last_start_prob': 1,\n",
    "}"
   ]
  },
  {
   "cell_type": "code",
   "execution_count": null,
   "metadata": {},
   "outputs": [],
   "source": [
    "raceDB.reset_hidden(num_layers=wandb_config_static['num_layers'], hidden_size=wandb_config_static['hidden_size'])"
   ]
  },
  {
   "cell_type": "code",
   "execution_count": null,
   "metadata": {},
   "outputs": [],
   "source": [
    "torch.cuda.empty_cache()"
   ]
  },
  {
   "cell_type": "code",
   "execution_count": null,
   "metadata": {},
   "outputs": [],
   "source": [
    "raceDB.race_prices_to_prob()"
   ]
  },
  {
   "cell_type": "code",
   "execution_count": null,
   "metadata": {},
   "outputs": [
    {
     "data": {
      "text/plain": [
       "Timestamp('2024-01-31 00:00:00')"
      ]
     },
     "execution_count": 26,
     "metadata": {},
     "output_type": "execute_result"
    }
   ],
   "source": [
    "raceDB.latest_date"
   ]
  },
  {
   "cell_type": "code",
   "execution_count": 41,
   "metadata": {},
   "outputs": [
    {
     "data": {
      "text/html": [
       "wandb version 0.16.3 is available!  To upgrade, please run:\n",
       " $ pip install wandb --upgrade"
      ],
      "text/plain": [
       "<IPython.core.display.HTML object>"
      ]
     },
     "metadata": {},
     "output_type": "display_data"
    },
    {
     "data": {
      "text/html": [
       "Tracking run with wandb version 0.16.2"
      ],
      "text/plain": [
       "<IPython.core.display.HTML object>"
      ]
     },
     "metadata": {},
     "output_type": "display_data"
    },
    {
     "data": {
      "text/html": [
       "Run data is saved locally in <code>c:\\Users\\Nick\\Documents\\GitHub\\grvmodel\\python\\wandb\\run-20240206_192455-wuooq6dr</code>"
      ],
      "text/plain": [
       "<IPython.core.display.HTML object>"
      ]
     },
     "metadata": {},
     "output_type": "display_data"
    },
    {
     "data": {
      "text/html": [
       "Syncing run <strong><a href='https://wandb.ai/nickojelly/NEW%20GRU%20V7_stacking/runs/wuooq6dr' target=\"_blank\">worldly-pond-59</a></strong> to <a href='https://wandb.ai/nickojelly/NEW%20GRU%20V7_stacking' target=\"_blank\">Weights & Biases</a> (<a href='https://wandb.me/run' target=\"_blank\">docs</a>)<br/>"
      ],
      "text/plain": [
       "<IPython.core.display.HTML object>"
      ]
     },
     "metadata": {},
     "output_type": "display_data"
    },
    {
     "data": {
      "text/html": [
       " View project at <a href='https://wandb.ai/nickojelly/NEW%20GRU%20V7_stacking' target=\"_blank\">https://wandb.ai/nickojelly/NEW%20GRU%20V7_stacking</a>"
      ],
      "text/plain": [
       "<IPython.core.display.HTML object>"
      ]
     },
     "metadata": {},
     "output_type": "display_data"
    },
    {
     "data": {
      "text/html": [
       " View run at <a href='https://wandb.ai/nickojelly/NEW%20GRU%20V7_stacking/runs/wuooq6dr' target=\"_blank\">https://wandb.ai/nickojelly/NEW%20GRU%20V7_stacking/runs/wuooq6dr</a>"
      ],
      "text/plain": [
       "<IPython.core.display.HTML object>"
      ]
     },
     "metadata": {},
     "output_type": "display_data"
    },
    {
     "name": "stdout",
     "output_type": "stream",
     "text": [
      "{'hidden_size': 256, 'stats': ['inside', 'midfield', 'wide', 'weight', 'DogGrade', '_dist_last__1', '_box_last__1', '_speed_avg_1', '_split_speed_avg_1', '_split_margin_avg_1', '_margin_avg_1', '_margin_time_avg_1', '_RunHomeTime_1', '_run_home_speed_1', '_first_out_avg_1', '_pos_out_avg_1', '_post_change_avg_1', '_races_1', '_wins_1', '_wins_last_1', '_weight_', '_min_time_', '_min_split_time_', '_last_start_price', '_last_start_prob', 'dist_dist_last__10', 'dist_box_last__10', 'dist_speed_avg_10', 'dist_split_speed_avg_10', 'dist_split_margin_avg_10', 'dist_margin_avg_10', 'dist_margin_time_avg_10', 'dist_RunHomeTime_10', 'dist_run_home_speed_10', 'dist_first_out_avg_10', 'dist_pos_out_avg_10', 'dist_post_change_avg_10', 'dist_races_10', 'dist_wins_10', 'dist_wins_last_10', 'dist_weight_', 'dist_min_time_', 'dist_min_split_time_', 'dist_last_start_price', 'dist_last_start_prob', 'box_dist_last__10', 'box_box_last__10', 'box_speed_avg_10', 'box_split_speed_avg_10', 'box_split_margin_avg_10', 'box_margin_avg_10', 'box_margin_time_avg_10', 'box_RunHomeTime_10', 'box_run_home_speed_10', 'box_first_out_avg_10', 'box_pos_out_avg_10', 'box_post_change_avg_10', 'box_races_10', 'box_wins_10', 'box_wins_last_10', 'box_weight_', 'box_min_time_', 'box_min_split_time_', 'box_last_start_price', 'box_last_start_prob', 'track_box_dist_last__10', 'track_box_box_last__10', 'track_box_speed_avg_10', 'track_box_split_speed_avg_10', 'track_box_split_margin_avg_10', 'track_box_margin_avg_10', 'track_box_margin_time_avg_10', 'track_box_RunHomeTime_10', 'track_box_run_home_speed_10', 'track_box_first_out_avg_10', 'track_box_pos_out_avg_10', 'track_box_post_change_avg_10', 'track_box_races_10', 'track_box_wins_10', 'track_box_wins_last_10', 'track_box_weight_', 'track_box_min_time_', 'track_box_min_split_time_', 'track_box_last_start_price', 'track_box_last_start_prob', 'track_dist_dist_last__10', 'track_dist_box_last__10', 'track_dist_speed_avg_10', 'track_dist_split_speed_avg_10', 'track_dist_split_margin_avg_10', 'track_dist_margin_avg_10', 'track_dist_margin_time_avg_10', 'track_dist_RunHomeTime_10', 'track_dist_run_home_speed_10', 'track_dist_first_out_avg_10', 'track_dist_pos_out_avg_10', 'track_dist_post_change_avg_10', 'track_dist_races_10', 'track_dist_wins_10', 'track_dist_wins_last_10', 'track_dist_weight_', 'track_dist_min_time_', 'track_dist_min_split_time_', 'track_dist_last_start_price', 'track_dist_last_start_prob'], 'races': ['NZ'], 'datafile': './data/gru_inputs_kitchen_sink_new_not_simple.fth', 'latest_date': '2024-01-31T00:00:00', 'input_type': 'basic', 'num_layers': 2, 'batch_size': 750, 'dropout': 0.3, 'epochs': 5000, 'learning_rate': 0.0001, 'optimizer': 'adamW', 'f0_layer_size': 128, 'f1_layer_size': 64, 'training_date_end': '2023-01-01', 'notes': 'Testing for low loss NZ Model, only TD extra', 'batch_days': 365, 'dist_last__1': 1, 'box_last__1': 1, 'speed_avg_1': 1, 'split_speed_v1_1': 0, 'split_speed_avg_1': 0, 'split_margin_avg_1': 1, 'margin_avg_1': 1, 'margin_time_avg_1': 1, 'RunHomeTime_1': 1, 'run_home_speed_1': 1, 'run_home_speed_v1_1': 0, 'first_out_avg_1': 1, 'pos_out_avg_1': 1, 'post_change_avg_1': 1, 'races_1': 0, 'wins_1': 0, 'wins_last_1': 1, 'weight_': 1, 'min_time_': 1, 'min_split_time_': 1, 'min_split_time_v1': 0, 'last_start_price': 0, 'last_start_prob': 1}\n",
      "5000\n",
      "{'hidden_size': 256, 'stats': ['inside', 'midfield', 'wide', 'weight', 'DogGrade', '_dist_last__1', '_box_last__1', '_speed_avg_1', '_split_speed_avg_1', '_split_margin_avg_1', '_margin_avg_1', '_margin_time_avg_1', '_RunHomeTime_1', '_run_home_speed_1', '_first_out_avg_1', '_pos_out_avg_1', '_post_change_avg_1', '_races_1', '_wins_1', '_wins_last_1', '_weight_', '_min_time_', '_min_split_time_', '_last_start_price', '_last_start_prob', 'dist_dist_last__10', 'dist_box_last__10', 'dist_speed_avg_10', 'dist_split_speed_avg_10', 'dist_split_margin_avg_10', 'dist_margin_avg_10', 'dist_margin_time_avg_10', 'dist_RunHomeTime_10', 'dist_run_home_speed_10', 'dist_first_out_avg_10', 'dist_pos_out_avg_10', 'dist_post_change_avg_10', 'dist_races_10', 'dist_wins_10', 'dist_wins_last_10', 'dist_weight_', 'dist_min_time_', 'dist_min_split_time_', 'dist_last_start_price', 'dist_last_start_prob', 'box_dist_last__10', 'box_box_last__10', 'box_speed_avg_10', 'box_split_speed_avg_10', 'box_split_margin_avg_10', 'box_margin_avg_10', 'box_margin_time_avg_10', 'box_RunHomeTime_10', 'box_run_home_speed_10', 'box_first_out_avg_10', 'box_pos_out_avg_10', 'box_post_change_avg_10', 'box_races_10', 'box_wins_10', 'box_wins_last_10', 'box_weight_', 'box_min_time_', 'box_min_split_time_', 'box_last_start_price', 'box_last_start_prob', 'track_box_dist_last__10', 'track_box_box_last__10', 'track_box_speed_avg_10', 'track_box_split_speed_avg_10', 'track_box_split_margin_avg_10', 'track_box_margin_avg_10', 'track_box_margin_time_avg_10', 'track_box_RunHomeTime_10', 'track_box_run_home_speed_10', 'track_box_first_out_avg_10', 'track_box_pos_out_avg_10', 'track_box_post_change_avg_10', 'track_box_races_10', 'track_box_wins_10', 'track_box_wins_last_10', 'track_box_weight_', 'track_box_min_time_', 'track_box_min_split_time_', 'track_box_last_start_price', 'track_box_last_start_prob', 'track_dist_dist_last__10', 'track_dist_box_last__10', 'track_dist_speed_avg_10', 'track_dist_split_speed_avg_10', 'track_dist_split_margin_avg_10', 'track_dist_margin_avg_10', 'track_dist_margin_time_avg_10', 'track_dist_RunHomeTime_10', 'track_dist_run_home_speed_10', 'track_dist_first_out_avg_10', 'track_dist_pos_out_avg_10', 'track_dist_post_change_avg_10', 'track_dist_races_10', 'track_dist_wins_10', 'track_dist_wins_last_10', 'track_dist_weight_', 'track_dist_min_time_', 'track_dist_min_split_time_', 'track_dist_last_start_price', 'track_dist_last_start_prob'], 'races': ['NZ'], 'datafile': './data/gru_inputs_kitchen_sink_new_not_simple.fth', 'latest_date': '2024-01-31T00:00:00', 'input_type': 'basic', 'num_layers': 2, 'batch_size': 750, 'dropout': 0.3, 'epochs': 5000, 'learning_rate': 0.0001, 'optimizer': 'adamW', 'f0_layer_size': 128, 'f1_layer_size': 64, 'training_date_end': '2023-01-01', 'notes': 'Testing for low loss NZ Model, only TD extra', 'batch_days': 365, 'dist_last__1': 1, 'box_last__1': 1, 'speed_avg_1': 1, 'split_speed_v1_1': 0, 'split_speed_avg_1': 0, 'split_margin_avg_1': 1, 'margin_avg_1': 1, 'margin_time_avg_1': 1, 'RunHomeTime_1': 1, 'run_home_speed_1': 1, 'run_home_speed_v1_1': 0, 'first_out_avg_1': 1, 'pos_out_avg_1': 1, 'post_change_avg_1': 1, 'races_1': 0, 'wins_1': 0, 'wins_last_1': 1, 'weight_': 1, 'min_time_': 1, 'min_split_time_': 1, 'min_split_time_v1': 0, 'last_start_price': 0, 'last_start_prob': 1}\n",
      "basic\n",
      "input size: torch.Size([918])\n",
      "num_batches=4\n"
     ]
    },
    {
     "name": "stderr",
     "output_type": "stream",
     "text": [
      "  0%|          | 1/5000 [00:01<2:01:55,  1.46s/it]"
     ]
    },
    {
     "name": "stdout",
     "output_type": "stream",
     "text": [
      "output.shape=torch.Size([20, 2423, 8])\n",
      "targets.shape=torch.Size([20, 2423, 8])\n",
      "torch.Size([48460]) torch.Size([48460])\n",
      "5952\n",
      "stacked output.shape=torch.Size([48460, 8])\n",
      "targets.shape=torch.Size([48460, 8])\n",
      "6480\n"
     ]
    },
    {
     "name": "stderr",
     "output_type": "stream",
     "text": [
      "  0%|          | 4/5000 [00:05<1:49:51,  1.32s/it]"
     ]
    },
    {
     "name": "stdout",
     "output_type": "stream",
     "text": [
      "output.shape=torch.Size([20, 2423, 8])\n",
      "targets.shape=torch.Size([20, 2423, 8])\n",
      "torch.Size([48460]) torch.Size([48460])\n",
      "6151\n",
      "stacked output.shape=torch.Size([48460, 8])\n",
      "targets.shape=torch.Size([48460, 8])\n",
      "6480\n"
     ]
    },
    {
     "name": "stderr",
     "output_type": "stream",
     "text": [
      "  0%|          | 7/5000 [00:09<1:48:59,  1.31s/it]"
     ]
    },
    {
     "name": "stdout",
     "output_type": "stream",
     "text": [
      "output.shape=torch.Size([20, 2423, 8])\n",
      "targets.shape=torch.Size([20, 2423, 8])\n",
      "torch.Size([48460]) torch.Size([48460])\n",
      "6426\n",
      "stacked output.shape=torch.Size([48460, 8])\n",
      "targets.shape=torch.Size([48460, 8])\n",
      "8360\n"
     ]
    },
    {
     "name": "stderr",
     "output_type": "stream",
     "text": [
      "  0%|          | 10/5000 [00:12<1:47:56,  1.30s/it]"
     ]
    },
    {
     "name": "stdout",
     "output_type": "stream",
     "text": [
      "output.shape=torch.Size([20, 2423, 8])\n",
      "targets.shape=torch.Size([20, 2423, 8])\n",
      "torch.Size([48460]) torch.Size([48460])\n",
      "6842\n",
      "stacked output.shape=torch.Size([48460, 8])\n",
      "targets.shape=torch.Size([48460, 8])\n",
      "8360\n"
     ]
    },
    {
     "name": "stderr",
     "output_type": "stream",
     "text": [
      "  0%|          | 13/5000 [00:16<1:47:24,  1.29s/it]"
     ]
    },
    {
     "name": "stdout",
     "output_type": "stream",
     "text": [
      "output.shape=torch.Size([20, 2423, 8])\n",
      "targets.shape=torch.Size([20, 2423, 8])\n",
      "torch.Size([48460]) torch.Size([48460])\n",
      "7198\n",
      "stacked output.shape=torch.Size([48460, 8])\n",
      "targets.shape=torch.Size([48460, 8])\n",
      "8360\n"
     ]
    },
    {
     "name": "stderr",
     "output_type": "stream",
     "text": [
      "  0%|          | 16/5000 [00:20<1:47:04,  1.29s/it]"
     ]
    },
    {
     "name": "stdout",
     "output_type": "stream",
     "text": [
      "output.shape=torch.Size([20, 2423, 8])\n",
      "targets.shape=torch.Size([20, 2423, 8])\n",
      "torch.Size([48460]) torch.Size([48460])\n",
      "7454\n",
      "stacked output.shape=torch.Size([48460, 8])\n",
      "targets.shape=torch.Size([48460, 8])\n",
      "8360\n"
     ]
    },
    {
     "name": "stderr",
     "output_type": "stream",
     "text": [
      "  0%|          | 19/5000 [00:24<1:47:27,  1.29s/it]"
     ]
    },
    {
     "name": "stdout",
     "output_type": "stream",
     "text": [
      "output.shape=torch.Size([20, 2423, 8])\n",
      "targets.shape=torch.Size([20, 2423, 8])\n",
      "torch.Size([48460]) torch.Size([48460])\n",
      "7712\n",
      "stacked output.shape=torch.Size([48460, 8])\n",
      "targets.shape=torch.Size([48460, 8])\n",
      "8360\n"
     ]
    },
    {
     "name": "stderr",
     "output_type": "stream",
     "text": [
      "  0%|          | 22/5000 [00:28<1:47:06,  1.29s/it]"
     ]
    },
    {
     "name": "stdout",
     "output_type": "stream",
     "text": [
      "output.shape=torch.Size([20, 2423, 8])\n",
      "targets.shape=torch.Size([20, 2423, 8])\n",
      "torch.Size([48460]) torch.Size([48460])\n",
      "7886\n",
      "stacked output.shape=torch.Size([48460, 8])\n",
      "targets.shape=torch.Size([48460, 8])\n",
      "8360\n"
     ]
    },
    {
     "name": "stderr",
     "output_type": "stream",
     "text": [
      "  0%|          | 25/5000 [00:31<1:47:08,  1.29s/it]"
     ]
    },
    {
     "name": "stdout",
     "output_type": "stream",
     "text": [
      "output.shape=torch.Size([20, 2423, 8])\n",
      "targets.shape=torch.Size([20, 2423, 8])\n",
      "torch.Size([48460]) torch.Size([48460])\n",
      "8078\n",
      "stacked output.shape=torch.Size([48460, 8])\n",
      "targets.shape=torch.Size([48460, 8])\n",
      "8380\n"
     ]
    },
    {
     "name": "stderr",
     "output_type": "stream",
     "text": [
      "  1%|          | 28/5000 [00:35<1:46:43,  1.29s/it]"
     ]
    },
    {
     "name": "stdout",
     "output_type": "stream",
     "text": [
      "output.shape=torch.Size([20, 2423, 8])\n",
      "targets.shape=torch.Size([20, 2423, 8])\n",
      "torch.Size([48460]) torch.Size([48460])\n",
      "8232\n",
      "stacked output.shape=torch.Size([48460, 8])\n",
      "targets.shape=torch.Size([48460, 8])\n",
      "8360\n"
     ]
    },
    {
     "name": "stderr",
     "output_type": "stream",
     "text": [
      "  1%|          | 31/5000 [00:39<1:46:21,  1.28s/it]"
     ]
    },
    {
     "name": "stdout",
     "output_type": "stream",
     "text": [
      "output.shape=torch.Size([20, 2423, 8])\n",
      "targets.shape=torch.Size([20, 2423, 8])\n",
      "torch.Size([48460]) torch.Size([48460])\n",
      "8294\n",
      "stacked output.shape=torch.Size([48460, 8])\n",
      "targets.shape=torch.Size([48460, 8])\n",
      "8460\n"
     ]
    },
    {
     "name": "stderr",
     "output_type": "stream",
     "text": [
      "  1%|          | 34/5000 [00:43<1:47:51,  1.30s/it]"
     ]
    },
    {
     "name": "stdout",
     "output_type": "stream",
     "text": [
      "output.shape=torch.Size([20, 2423, 8])\n",
      "targets.shape=torch.Size([20, 2423, 8])\n",
      "torch.Size([48460]) torch.Size([48460])\n",
      "8376\n",
      "stacked output.shape=torch.Size([48460, 8])\n",
      "targets.shape=torch.Size([48460, 8])\n",
      "8580\n"
     ]
    },
    {
     "name": "stderr",
     "output_type": "stream",
     "text": [
      "  1%|          | 37/5000 [00:47<1:46:54,  1.29s/it]"
     ]
    },
    {
     "name": "stdout",
     "output_type": "stream",
     "text": [
      "output.shape=torch.Size([20, 2423, 8])\n",
      "targets.shape=torch.Size([20, 2423, 8])\n",
      "torch.Size([48460]) torch.Size([48460])\n",
      "8475\n",
      "stacked output.shape=torch.Size([48460, 8])\n",
      "targets.shape=torch.Size([48460, 8])\n",
      "8460\n"
     ]
    },
    {
     "name": "stderr",
     "output_type": "stream",
     "text": [
      "  1%|          | 40/5000 [00:50<1:46:22,  1.29s/it]"
     ]
    },
    {
     "name": "stdout",
     "output_type": "stream",
     "text": [
      "output.shape=torch.Size([20, 2423, 8])\n",
      "targets.shape=torch.Size([20, 2423, 8])\n",
      "torch.Size([48460]) torch.Size([48460])\n",
      "8483\n",
      "stacked output.shape=torch.Size([48460, 8])\n",
      "targets.shape=torch.Size([48460, 8])\n",
      "8480\n"
     ]
    },
    {
     "name": "stderr",
     "output_type": "stream",
     "text": [
      "  1%|          | 43/5000 [00:54<1:46:04,  1.28s/it]"
     ]
    },
    {
     "name": "stdout",
     "output_type": "stream",
     "text": [
      "output.shape=torch.Size([20, 2423, 8])\n",
      "targets.shape=torch.Size([20, 2423, 8])\n",
      "torch.Size([48460]) torch.Size([48460])\n",
      "8503\n",
      "stacked output.shape=torch.Size([48460, 8])\n",
      "targets.shape=torch.Size([48460, 8])\n",
      "8540\n"
     ]
    },
    {
     "name": "stderr",
     "output_type": "stream",
     "text": [
      "  1%|          | 46/5000 [00:58<1:46:11,  1.29s/it]"
     ]
    },
    {
     "name": "stdout",
     "output_type": "stream",
     "text": [
      "output.shape=torch.Size([20, 2423, 8])\n",
      "targets.shape=torch.Size([20, 2423, 8])\n",
      "torch.Size([48460]) torch.Size([48460])\n",
      "8559\n",
      "stacked output.shape=torch.Size([48460, 8])\n",
      "targets.shape=torch.Size([48460, 8])\n",
      "8600\n"
     ]
    },
    {
     "name": "stderr",
     "output_type": "stream",
     "text": [
      "  1%|          | 49/5000 [01:02<1:45:56,  1.28s/it]"
     ]
    },
    {
     "name": "stdout",
     "output_type": "stream",
     "text": [
      "output.shape=torch.Size([20, 2423, 8])\n",
      "targets.shape=torch.Size([20, 2423, 8])\n",
      "torch.Size([48460]) torch.Size([48460])\n",
      "8583\n",
      "stacked output.shape=torch.Size([48460, 8])\n",
      "targets.shape=torch.Size([48460, 8])\n",
      "8560\n"
     ]
    },
    {
     "name": "stderr",
     "output_type": "stream",
     "text": [
      "  1%|          | 52/5000 [01:05<1:45:40,  1.28s/it]"
     ]
    },
    {
     "name": "stdout",
     "output_type": "stream",
     "text": [
      "output.shape=torch.Size([20, 2423, 8])\n",
      "targets.shape=torch.Size([20, 2423, 8])\n",
      "torch.Size([48460]) torch.Size([48460])\n",
      "8599\n",
      "stacked output.shape=torch.Size([48460, 8])\n",
      "targets.shape=torch.Size([48460, 8])\n",
      "8600\n"
     ]
    },
    {
     "name": "stderr",
     "output_type": "stream",
     "text": [
      "  1%|          | 55/5000 [01:09<1:46:04,  1.29s/it]"
     ]
    },
    {
     "name": "stdout",
     "output_type": "stream",
     "text": [
      "output.shape=torch.Size([20, 2423, 8])\n",
      "targets.shape=torch.Size([20, 2423, 8])\n",
      "torch.Size([48460]) torch.Size([48460])\n",
      "8638\n",
      "stacked output.shape=torch.Size([48460, 8])\n",
      "targets.shape=torch.Size([48460, 8])\n",
      "8580\n"
     ]
    },
    {
     "name": "stderr",
     "output_type": "stream",
     "text": [
      "  1%|          | 58/5000 [01:13<1:46:08,  1.29s/it]"
     ]
    },
    {
     "name": "stdout",
     "output_type": "stream",
     "text": [
      "output.shape=torch.Size([20, 2423, 8])\n",
      "targets.shape=torch.Size([20, 2423, 8])\n",
      "torch.Size([48460]) torch.Size([48460])\n",
      "8636\n",
      "stacked output.shape=torch.Size([48460, 8])\n",
      "targets.shape=torch.Size([48460, 8])\n",
      "8580\n"
     ]
    },
    {
     "name": "stderr",
     "output_type": "stream",
     "text": [
      "  1%|          | 61/5000 [01:17<1:45:56,  1.29s/it]"
     ]
    },
    {
     "name": "stdout",
     "output_type": "stream",
     "text": [
      "output.shape=torch.Size([20, 2423, 8])\n",
      "targets.shape=torch.Size([20, 2423, 8])\n",
      "torch.Size([48460]) torch.Size([48460])\n",
      "8665\n",
      "stacked output.shape=torch.Size([48460, 8])\n",
      "targets.shape=torch.Size([48460, 8])\n",
      "8700\n"
     ]
    },
    {
     "name": "stderr",
     "output_type": "stream",
     "text": [
      "  1%|▏         | 64/5000 [01:21<1:56:17,  1.41s/it]"
     ]
    },
    {
     "name": "stdout",
     "output_type": "stream",
     "text": [
      "output.shape=torch.Size([20, 2423, 8])\n",
      "targets.shape=torch.Size([20, 2423, 8])\n",
      "torch.Size([48460]) torch.Size([48460])\n",
      "8655\n",
      "stacked output.shape=torch.Size([48460, 8])\n",
      "targets.shape=torch.Size([48460, 8])\n",
      "8680\n"
     ]
    },
    {
     "name": "stderr",
     "output_type": "stream",
     "text": [
      "  1%|▏         | 67/5000 [01:25<1:49:28,  1.33s/it]"
     ]
    },
    {
     "name": "stdout",
     "output_type": "stream",
     "text": [
      "output.shape=torch.Size([20, 2423, 8])\n",
      "targets.shape=torch.Size([20, 2423, 8])\n",
      "torch.Size([48460]) torch.Size([48460])\n",
      "8667\n",
      "stacked output.shape=torch.Size([48460, 8])\n",
      "targets.shape=torch.Size([48460, 8])\n",
      "8720\n"
     ]
    },
    {
     "name": "stderr",
     "output_type": "stream",
     "text": [
      "  1%|▏         | 70/5000 [01:29<1:47:03,  1.30s/it]"
     ]
    },
    {
     "name": "stdout",
     "output_type": "stream",
     "text": [
      "output.shape=torch.Size([20, 2423, 8])\n",
      "targets.shape=torch.Size([20, 2423, 8])\n",
      "torch.Size([48460]) torch.Size([48460])\n",
      "8674\n",
      "stacked output.shape=torch.Size([48460, 8])\n",
      "targets.shape=torch.Size([48460, 8])\n",
      "8680\n"
     ]
    },
    {
     "name": "stderr",
     "output_type": "stream",
     "text": [
      "  1%|▏         | 73/5000 [01:33<1:46:11,  1.29s/it]"
     ]
    },
    {
     "name": "stdout",
     "output_type": "stream",
     "text": [
      "output.shape=torch.Size([20, 2423, 8])\n",
      "targets.shape=torch.Size([20, 2423, 8])\n",
      "torch.Size([48460]) torch.Size([48460])\n",
      "8623\n",
      "stacked output.shape=torch.Size([48460, 8])\n",
      "targets.shape=torch.Size([48460, 8])\n",
      "8660\n"
     ]
    },
    {
     "name": "stderr",
     "output_type": "stream",
     "text": [
      "  2%|▏         | 76/5000 [01:36<1:45:44,  1.29s/it]"
     ]
    },
    {
     "name": "stdout",
     "output_type": "stream",
     "text": [
      "output.shape=torch.Size([20, 2423, 8])\n",
      "targets.shape=torch.Size([20, 2423, 8])\n",
      "torch.Size([48460]) torch.Size([48460])\n",
      "8640\n",
      "stacked output.shape=torch.Size([48460, 8])\n",
      "targets.shape=torch.Size([48460, 8])\n",
      "8680\n"
     ]
    },
    {
     "name": "stderr",
     "output_type": "stream",
     "text": [
      "  2%|▏         | 79/5000 [01:40<1:45:29,  1.29s/it]"
     ]
    },
    {
     "name": "stdout",
     "output_type": "stream",
     "text": [
      "output.shape=torch.Size([20, 2423, 8])\n",
      "targets.shape=torch.Size([20, 2423, 8])\n",
      "torch.Size([48460]) torch.Size([48460])\n",
      "8690\n",
      "stacked output.shape=torch.Size([48460, 8])\n",
      "targets.shape=torch.Size([48460, 8])\n",
      "9040\n"
     ]
    },
    {
     "name": "stderr",
     "output_type": "stream",
     "text": [
      "  2%|▏         | 82/5000 [01:44<1:46:00,  1.29s/it]"
     ]
    },
    {
     "name": "stdout",
     "output_type": "stream",
     "text": [
      "output.shape=torch.Size([20, 2423, 8])\n",
      "targets.shape=torch.Size([20, 2423, 8])\n",
      "torch.Size([48460]) torch.Size([48460])\n",
      "8788\n",
      "stacked output.shape=torch.Size([48460, 8])\n",
      "targets.shape=torch.Size([48460, 8])\n",
      "9580\n"
     ]
    },
    {
     "name": "stderr",
     "output_type": "stream",
     "text": [
      "  2%|▏         | 85/5000 [01:48<1:45:50,  1.29s/it]"
     ]
    },
    {
     "name": "stdout",
     "output_type": "stream",
     "text": [
      "output.shape=torch.Size([20, 2423, 8])\n",
      "targets.shape=torch.Size([20, 2423, 8])\n",
      "torch.Size([48460]) torch.Size([48460])\n",
      "8780\n",
      "stacked output.shape=torch.Size([48460, 8])\n",
      "targets.shape=torch.Size([48460, 8])\n",
      "9880\n"
     ]
    },
    {
     "name": "stderr",
     "output_type": "stream",
     "text": [
      "  2%|▏         | 88/5000 [01:52<1:45:25,  1.29s/it]"
     ]
    },
    {
     "name": "stdout",
     "output_type": "stream",
     "text": [
      "output.shape=torch.Size([20, 2423, 8])\n",
      "targets.shape=torch.Size([20, 2423, 8])\n",
      "torch.Size([48460]) torch.Size([48460])\n",
      "8812\n",
      "stacked output.shape=torch.Size([48460, 8])\n",
      "targets.shape=torch.Size([48460, 8])\n",
      "10000\n"
     ]
    },
    {
     "name": "stderr",
     "output_type": "stream",
     "text": [
      "  2%|▏         | 91/5000 [01:55<1:45:01,  1.28s/it]"
     ]
    },
    {
     "name": "stdout",
     "output_type": "stream",
     "text": [
      "output.shape=torch.Size([20, 2423, 8])\n",
      "targets.shape=torch.Size([20, 2423, 8])\n",
      "torch.Size([48460]) torch.Size([48460])\n",
      "8812\n",
      "stacked output.shape=torch.Size([48460, 8])\n",
      "targets.shape=torch.Size([48460, 8])\n",
      "10180\n"
     ]
    },
    {
     "name": "stderr",
     "output_type": "stream",
     "text": [
      "  2%|▏         | 94/5000 [01:59<1:45:10,  1.29s/it]"
     ]
    },
    {
     "name": "stdout",
     "output_type": "stream",
     "text": [
      "output.shape=torch.Size([20, 2423, 8])\n",
      "targets.shape=torch.Size([20, 2423, 8])\n",
      "torch.Size([48460]) torch.Size([48460])\n",
      "8827\n",
      "stacked output.shape=torch.Size([48460, 8])\n",
      "targets.shape=torch.Size([48460, 8])\n",
      "10580\n"
     ]
    },
    {
     "name": "stderr",
     "output_type": "stream",
     "text": [
      "  2%|▏         | 97/5000 [02:03<1:45:18,  1.29s/it]"
     ]
    },
    {
     "name": "stdout",
     "output_type": "stream",
     "text": [
      "output.shape=torch.Size([20, 2423, 8])\n",
      "targets.shape=torch.Size([20, 2423, 8])\n",
      "torch.Size([48460]) torch.Size([48460])\n",
      "8897\n",
      "stacked output.shape=torch.Size([48460, 8])\n",
      "targets.shape=torch.Size([48460, 8])\n",
      "10860\n"
     ]
    },
    {
     "name": "stderr",
     "output_type": "stream",
     "text": [
      "  2%|▏         | 100/5000 [02:07<1:45:02,  1.29s/it]"
     ]
    },
    {
     "name": "stdout",
     "output_type": "stream",
     "text": [
      "output.shape=torch.Size([20, 2423, 8])\n",
      "targets.shape=torch.Size([20, 2423, 8])\n",
      "torch.Size([48460]) torch.Size([48460])\n",
      "8925\n",
      "stacked output.shape=torch.Size([48460, 8])\n",
      "targets.shape=torch.Size([48460, 8])\n",
      "10880\n"
     ]
    },
    {
     "name": "stderr",
     "output_type": "stream",
     "text": [
      "  2%|▏         | 103/5000 [02:10<1:44:53,  1.29s/it]"
     ]
    },
    {
     "name": "stdout",
     "output_type": "stream",
     "text": [
      "output.shape=torch.Size([20, 2423, 8])\n",
      "targets.shape=torch.Size([20, 2423, 8])\n",
      "torch.Size([48460]) torch.Size([48460])\n",
      "8958\n",
      "stacked output.shape=torch.Size([48460, 8])\n",
      "targets.shape=torch.Size([48460, 8])\n",
      "10960\n"
     ]
    },
    {
     "name": "stderr",
     "output_type": "stream",
     "text": [
      "  2%|▏         | 106/5000 [02:14<1:46:00,  1.30s/it]"
     ]
    },
    {
     "name": "stdout",
     "output_type": "stream",
     "text": [
      "output.shape=torch.Size([20, 2423, 8])\n",
      "targets.shape=torch.Size([20, 2423, 8])\n",
      "torch.Size([48460]) torch.Size([48460])\n",
      "9036\n",
      "stacked output.shape=torch.Size([48460, 8])\n",
      "targets.shape=torch.Size([48460, 8])\n",
      "11080\n"
     ]
    },
    {
     "name": "stderr",
     "output_type": "stream",
     "text": [
      "  2%|▏         | 109/5000 [02:18<1:45:03,  1.29s/it]"
     ]
    },
    {
     "name": "stdout",
     "output_type": "stream",
     "text": [
      "output.shape=torch.Size([20, 2423, 8])\n",
      "targets.shape=torch.Size([20, 2423, 8])\n",
      "torch.Size([48460]) torch.Size([48460])\n",
      "9082\n",
      "stacked output.shape=torch.Size([48460, 8])\n",
      "targets.shape=torch.Size([48460, 8])\n",
      "11540\n"
     ]
    },
    {
     "name": "stderr",
     "output_type": "stream",
     "text": [
      "  2%|▏         | 112/5000 [02:22<1:44:52,  1.29s/it]"
     ]
    },
    {
     "name": "stdout",
     "output_type": "stream",
     "text": [
      "output.shape=torch.Size([20, 2423, 8])\n",
      "targets.shape=torch.Size([20, 2423, 8])\n",
      "torch.Size([48460]) torch.Size([48460])\n",
      "9152\n",
      "stacked output.shape=torch.Size([48460, 8])\n",
      "targets.shape=torch.Size([48460, 8])\n",
      "12060\n"
     ]
    },
    {
     "name": "stderr",
     "output_type": "stream",
     "text": [
      "  2%|▏         | 115/5000 [02:26<1:44:36,  1.28s/it]"
     ]
    },
    {
     "name": "stdout",
     "output_type": "stream",
     "text": [
      "output.shape=torch.Size([20, 2423, 8])\n",
      "targets.shape=torch.Size([20, 2423, 8])\n",
      "torch.Size([48460]) torch.Size([48460])\n",
      "9197\n",
      "stacked output.shape=torch.Size([48460, 8])\n",
      "targets.shape=torch.Size([48460, 8])\n",
      "12140\n"
     ]
    },
    {
     "name": "stderr",
     "output_type": "stream",
     "text": [
      "  2%|▏         | 118/5000 [02:29<1:44:33,  1.29s/it]"
     ]
    },
    {
     "name": "stdout",
     "output_type": "stream",
     "text": [
      "output.shape=torch.Size([20, 2423, 8])\n",
      "targets.shape=torch.Size([20, 2423, 8])\n",
      "torch.Size([48460]) torch.Size([48460])\n",
      "9236\n",
      "stacked output.shape=torch.Size([48460, 8])\n",
      "targets.shape=torch.Size([48460, 8])\n",
      "12320\n"
     ]
    },
    {
     "name": "stderr",
     "output_type": "stream",
     "text": [
      "  2%|▏         | 121/5000 [02:33<1:44:55,  1.29s/it]"
     ]
    },
    {
     "name": "stdout",
     "output_type": "stream",
     "text": [
      "output.shape=torch.Size([20, 2423, 8])\n",
      "targets.shape=torch.Size([20, 2423, 8])\n",
      "torch.Size([48460]) torch.Size([48460])\n",
      "9340\n",
      "stacked output.shape=torch.Size([48460, 8])\n",
      "targets.shape=torch.Size([48460, 8])\n",
      "12700\n"
     ]
    },
    {
     "name": "stderr",
     "output_type": "stream",
     "text": [
      "  2%|▏         | 124/5000 [02:37<1:44:17,  1.28s/it]"
     ]
    },
    {
     "name": "stdout",
     "output_type": "stream",
     "text": [
      "output.shape=torch.Size([20, 2423, 8])\n",
      "targets.shape=torch.Size([20, 2423, 8])\n",
      "torch.Size([48460]) torch.Size([48460])\n",
      "9359\n",
      "stacked output.shape=torch.Size([48460, 8])\n",
      "targets.shape=torch.Size([48460, 8])\n",
      "12300\n"
     ]
    },
    {
     "name": "stderr",
     "output_type": "stream",
     "text": [
      "  3%|▎         | 127/5000 [02:41<1:44:10,  1.28s/it]"
     ]
    },
    {
     "name": "stdout",
     "output_type": "stream",
     "text": [
      "output.shape=torch.Size([20, 2423, 8])\n",
      "targets.shape=torch.Size([20, 2423, 8])\n",
      "torch.Size([48460]) torch.Size([48460])\n",
      "9395\n",
      "stacked output.shape=torch.Size([48460, 8])\n",
      "targets.shape=torch.Size([48460, 8])\n",
      "12660\n"
     ]
    },
    {
     "name": "stderr",
     "output_type": "stream",
     "text": [
      "  3%|▎         | 130/5000 [02:44<1:44:46,  1.29s/it]"
     ]
    },
    {
     "name": "stdout",
     "output_type": "stream",
     "text": [
      "output.shape=torch.Size([20, 2423, 8])\n",
      "targets.shape=torch.Size([20, 2423, 8])\n",
      "torch.Size([48460]) torch.Size([48460])\n",
      "9447\n",
      "stacked output.shape=torch.Size([48460, 8])\n",
      "targets.shape=torch.Size([48460, 8])\n",
      "12880\n"
     ]
    },
    {
     "name": "stderr",
     "output_type": "stream",
     "text": [
      "  3%|▎         | 133/5000 [02:48<1:44:19,  1.29s/it]"
     ]
    },
    {
     "name": "stdout",
     "output_type": "stream",
     "text": [
      "output.shape=torch.Size([20, 2423, 8])\n",
      "targets.shape=torch.Size([20, 2423, 8])\n",
      "torch.Size([48460]) torch.Size([48460])\n",
      "9522\n",
      "stacked output.shape=torch.Size([48460, 8])\n",
      "targets.shape=torch.Size([48460, 8])\n",
      "13320\n"
     ]
    },
    {
     "name": "stderr",
     "output_type": "stream",
     "text": [
      "  3%|▎         | 136/5000 [02:52<1:43:57,  1.28s/it]"
     ]
    },
    {
     "name": "stdout",
     "output_type": "stream",
     "text": [
      "output.shape=torch.Size([20, 2423, 8])\n",
      "targets.shape=torch.Size([20, 2423, 8])\n",
      "torch.Size([48460]) torch.Size([48460])\n",
      "9546\n",
      "stacked output.shape=torch.Size([48460, 8])\n",
      "targets.shape=torch.Size([48460, 8])\n",
      "13060\n"
     ]
    },
    {
     "name": "stderr",
     "output_type": "stream",
     "text": [
      "  3%|▎         | 139/5000 [02:56<1:43:53,  1.28s/it]"
     ]
    },
    {
     "name": "stdout",
     "output_type": "stream",
     "text": [
      "output.shape=torch.Size([20, 2423, 8])\n",
      "targets.shape=torch.Size([20, 2423, 8])\n",
      "torch.Size([48460]) torch.Size([48460])\n",
      "9591\n",
      "stacked output.shape=torch.Size([48460, 8])\n",
      "targets.shape=torch.Size([48460, 8])\n",
      "13300\n"
     ]
    },
    {
     "name": "stderr",
     "output_type": "stream",
     "text": [
      "  3%|▎         | 142/5000 [03:00<1:44:22,  1.29s/it]"
     ]
    },
    {
     "name": "stdout",
     "output_type": "stream",
     "text": [
      "output.shape=torch.Size([20, 2423, 8])\n",
      "targets.shape=torch.Size([20, 2423, 8])\n",
      "torch.Size([48460]) torch.Size([48460])\n",
      "9695\n",
      "stacked output.shape=torch.Size([48460, 8])\n",
      "targets.shape=torch.Size([48460, 8])\n",
      "13220\n"
     ]
    },
    {
     "name": "stderr",
     "output_type": "stream",
     "text": [
      "  3%|▎         | 145/5000 [03:03<1:44:03,  1.29s/it]"
     ]
    },
    {
     "name": "stdout",
     "output_type": "stream",
     "text": [
      "output.shape=torch.Size([20, 2423, 8])\n",
      "targets.shape=torch.Size([20, 2423, 8])\n",
      "torch.Size([48460]) torch.Size([48460])\n",
      "9745\n",
      "stacked output.shape=torch.Size([48460, 8])\n",
      "targets.shape=torch.Size([48460, 8])\n",
      "13860\n"
     ]
    },
    {
     "name": "stderr",
     "output_type": "stream",
     "text": [
      "  3%|▎         | 148/5000 [03:07<1:43:58,  1.29s/it]"
     ]
    },
    {
     "name": "stdout",
     "output_type": "stream",
     "text": [
      "output.shape=torch.Size([20, 2423, 8])\n",
      "targets.shape=torch.Size([20, 2423, 8])\n",
      "torch.Size([48460]) torch.Size([48460])\n",
      "9798\n",
      "stacked output.shape=torch.Size([48460, 8])\n",
      "targets.shape=torch.Size([48460, 8])\n",
      "13420\n"
     ]
    },
    {
     "name": "stderr",
     "output_type": "stream",
     "text": [
      "  3%|▎         | 151/5000 [03:11<1:43:25,  1.28s/it]"
     ]
    },
    {
     "name": "stdout",
     "output_type": "stream",
     "text": [
      "output.shape=torch.Size([20, 2423, 8])\n",
      "targets.shape=torch.Size([20, 2423, 8])\n",
      "torch.Size([48460]) torch.Size([48460])\n",
      "9759\n",
      "stacked output.shape=torch.Size([48460, 8])\n",
      "targets.shape=torch.Size([48460, 8])\n",
      "13580\n"
     ]
    },
    {
     "name": "stderr",
     "output_type": "stream",
     "text": [
      "  3%|▎         | 154/5000 [03:15<1:43:41,  1.28s/it]"
     ]
    },
    {
     "name": "stdout",
     "output_type": "stream",
     "text": [
      "output.shape=torch.Size([20, 2423, 8])\n",
      "targets.shape=torch.Size([20, 2423, 8])\n",
      "torch.Size([48460]) torch.Size([48460])\n",
      "9802\n",
      "stacked output.shape=torch.Size([48460, 8])\n",
      "targets.shape=torch.Size([48460, 8])\n",
      "13340\n"
     ]
    },
    {
     "name": "stderr",
     "output_type": "stream",
     "text": [
      "  3%|▎         | 157/5000 [03:18<1:43:47,  1.29s/it]"
     ]
    },
    {
     "name": "stdout",
     "output_type": "stream",
     "text": [
      "output.shape=torch.Size([20, 2423, 8])\n",
      "targets.shape=torch.Size([20, 2423, 8])\n",
      "torch.Size([48460]) torch.Size([48460])\n",
      "9871\n",
      "stacked output.shape=torch.Size([48460, 8])\n",
      "targets.shape=torch.Size([48460, 8])\n",
      "14000\n"
     ]
    },
    {
     "name": "stderr",
     "output_type": "stream",
     "text": [
      "  3%|▎         | 160/5000 [03:22<1:43:17,  1.28s/it]"
     ]
    },
    {
     "name": "stdout",
     "output_type": "stream",
     "text": [
      "output.shape=torch.Size([20, 2423, 8])\n",
      "targets.shape=torch.Size([20, 2423, 8])\n",
      "torch.Size([48460]) torch.Size([48460])\n",
      "9853\n",
      "stacked output.shape=torch.Size([48460, 8])\n",
      "targets.shape=torch.Size([48460, 8])\n",
      "13520\n"
     ]
    },
    {
     "name": "stderr",
     "output_type": "stream",
     "text": [
      "  3%|▎         | 163/5000 [03:26<1:43:31,  1.28s/it]"
     ]
    },
    {
     "name": "stdout",
     "output_type": "stream",
     "text": [
      "output.shape=torch.Size([20, 2423, 8])\n",
      "targets.shape=torch.Size([20, 2423, 8])\n",
      "torch.Size([48460]) torch.Size([48460])\n",
      "9904\n",
      "stacked output.shape=torch.Size([48460, 8])\n",
      "targets.shape=torch.Size([48460, 8])\n",
      "14020\n"
     ]
    },
    {
     "name": "stderr",
     "output_type": "stream",
     "text": [
      "  3%|▎         | 166/5000 [03:30<1:43:36,  1.29s/it]"
     ]
    },
    {
     "name": "stdout",
     "output_type": "stream",
     "text": [
      "output.shape=torch.Size([20, 2423, 8])\n",
      "targets.shape=torch.Size([20, 2423, 8])\n",
      "torch.Size([48460]) torch.Size([48460])\n",
      "9959\n",
      "stacked output.shape=torch.Size([48460, 8])\n",
      "targets.shape=torch.Size([48460, 8])\n",
      "14340\n"
     ]
    },
    {
     "name": "stderr",
     "output_type": "stream",
     "text": [
      "  3%|▎         | 169/5000 [03:33<1:43:10,  1.28s/it]"
     ]
    },
    {
     "name": "stdout",
     "output_type": "stream",
     "text": [
      "output.shape=torch.Size([20, 2423, 8])\n",
      "targets.shape=torch.Size([20, 2423, 8])\n",
      "torch.Size([48460]) torch.Size([48460])\n",
      "9960\n",
      "stacked output.shape=torch.Size([48460, 8])\n",
      "targets.shape=torch.Size([48460, 8])\n",
      "14300\n"
     ]
    },
    {
     "name": "stderr",
     "output_type": "stream",
     "text": [
      "  3%|▎         | 172/5000 [03:37<1:42:59,  1.28s/it]"
     ]
    },
    {
     "name": "stdout",
     "output_type": "stream",
     "text": [
      "output.shape=torch.Size([20, 2423, 8])\n",
      "targets.shape=torch.Size([20, 2423, 8])\n",
      "torch.Size([48460]) torch.Size([48460])\n",
      "10056\n",
      "stacked output.shape=torch.Size([48460, 8])\n",
      "targets.shape=torch.Size([48460, 8])\n",
      "13860\n"
     ]
    },
    {
     "name": "stderr",
     "output_type": "stream",
     "text": [
      "  4%|▎         | 175/5000 [03:41<1:43:49,  1.29s/it]"
     ]
    },
    {
     "name": "stdout",
     "output_type": "stream",
     "text": [
      "output.shape=torch.Size([20, 2423, 8])\n",
      "targets.shape=torch.Size([20, 2423, 8])\n",
      "torch.Size([48460]) torch.Size([48460])\n",
      "10064\n",
      "stacked output.shape=torch.Size([48460, 8])\n",
      "targets.shape=torch.Size([48460, 8])\n",
      "13660\n"
     ]
    },
    {
     "name": "stderr",
     "output_type": "stream",
     "text": [
      "  4%|▎         | 178/5000 [03:45<1:44:09,  1.30s/it]"
     ]
    },
    {
     "name": "stdout",
     "output_type": "stream",
     "text": [
      "output.shape=torch.Size([20, 2423, 8])\n",
      "targets.shape=torch.Size([20, 2423, 8])\n",
      "torch.Size([48460]) torch.Size([48460])\n",
      "10134\n",
      "stacked output.shape=torch.Size([48460, 8])\n",
      "targets.shape=torch.Size([48460, 8])\n",
      "14040\n"
     ]
    },
    {
     "name": "stderr",
     "output_type": "stream",
     "text": [
      "  4%|▎         | 181/5000 [03:49<1:43:21,  1.29s/it]"
     ]
    },
    {
     "name": "stdout",
     "output_type": "stream",
     "text": [
      "output.shape=torch.Size([20, 2423, 8])\n",
      "targets.shape=torch.Size([20, 2423, 8])\n",
      "torch.Size([48460]) torch.Size([48460])\n",
      "10171\n",
      "stacked output.shape=torch.Size([48460, 8])\n",
      "targets.shape=torch.Size([48460, 8])\n",
      "14220\n"
     ]
    },
    {
     "name": "stderr",
     "output_type": "stream",
     "text": [
      "  4%|▎         | 184/5000 [03:52<1:43:07,  1.28s/it]"
     ]
    },
    {
     "name": "stdout",
     "output_type": "stream",
     "text": [
      "output.shape=torch.Size([20, 2423, 8])\n",
      "targets.shape=torch.Size([20, 2423, 8])\n",
      "torch.Size([48460]) torch.Size([48460])\n",
      "10167\n",
      "stacked output.shape=torch.Size([48460, 8])\n",
      "targets.shape=torch.Size([48460, 8])\n",
      "13700\n"
     ]
    },
    {
     "name": "stderr",
     "output_type": "stream",
     "text": [
      "  4%|▎         | 187/5000 [03:56<1:42:56,  1.28s/it]"
     ]
    },
    {
     "name": "stdout",
     "output_type": "stream",
     "text": [
      "output.shape=torch.Size([20, 2423, 8])\n",
      "targets.shape=torch.Size([20, 2423, 8])\n",
      "torch.Size([48460]) torch.Size([48460])\n",
      "10218\n",
      "stacked output.shape=torch.Size([48460, 8])\n",
      "targets.shape=torch.Size([48460, 8])\n",
      "13840\n"
     ]
    },
    {
     "name": "stderr",
     "output_type": "stream",
     "text": [
      "  4%|▍         | 190/5000 [04:00<1:43:02,  1.29s/it]"
     ]
    },
    {
     "name": "stdout",
     "output_type": "stream",
     "text": [
      "output.shape=torch.Size([20, 2423, 8])\n",
      "targets.shape=torch.Size([20, 2423, 8])\n",
      "torch.Size([48460]) torch.Size([48460])\n",
      "10260\n",
      "stacked output.shape=torch.Size([48460, 8])\n",
      "targets.shape=torch.Size([48460, 8])\n",
      "13920\n"
     ]
    },
    {
     "name": "stderr",
     "output_type": "stream",
     "text": [
      "  4%|▍         | 193/5000 [04:04<1:43:03,  1.29s/it]"
     ]
    },
    {
     "name": "stdout",
     "output_type": "stream",
     "text": [
      "output.shape=torch.Size([20, 2423, 8])\n",
      "targets.shape=torch.Size([20, 2423, 8])\n",
      "torch.Size([48460]) torch.Size([48460])\n",
      "10256\n",
      "stacked output.shape=torch.Size([48460, 8])\n",
      "targets.shape=torch.Size([48460, 8])\n",
      "13960\n"
     ]
    },
    {
     "name": "stderr",
     "output_type": "stream",
     "text": [
      "  4%|▍         | 196/5000 [04:07<1:44:16,  1.30s/it]"
     ]
    },
    {
     "name": "stdout",
     "output_type": "stream",
     "text": [
      "output.shape=torch.Size([20, 2423, 8])\n",
      "targets.shape=torch.Size([20, 2423, 8])\n",
      "torch.Size([48460]) torch.Size([48460])\n",
      "10340\n",
      "stacked output.shape=torch.Size([48460, 8])\n",
      "targets.shape=torch.Size([48460, 8])\n",
      "14280\n"
     ]
    },
    {
     "name": "stderr",
     "output_type": "stream",
     "text": [
      "  4%|▍         | 199/5000 [04:11<1:43:14,  1.29s/it]"
     ]
    },
    {
     "name": "stdout",
     "output_type": "stream",
     "text": [
      "output.shape=torch.Size([20, 2423, 8])\n",
      "targets.shape=torch.Size([20, 2423, 8])\n",
      "torch.Size([48460]) torch.Size([48460])\n",
      "10300\n",
      "stacked output.shape=torch.Size([48460, 8])\n",
      "targets.shape=torch.Size([48460, 8])\n",
      "13860\n"
     ]
    },
    {
     "name": "stderr",
     "output_type": "stream",
     "text": [
      "  4%|▍         | 202/5000 [04:15<1:42:57,  1.29s/it]"
     ]
    },
    {
     "name": "stdout",
     "output_type": "stream",
     "text": [
      "output.shape=torch.Size([20, 2423, 8])\n",
      "targets.shape=torch.Size([20, 2423, 8])\n",
      "torch.Size([48460]) torch.Size([48460])\n",
      "10377\n",
      "stacked output.shape=torch.Size([48460, 8])\n",
      "targets.shape=torch.Size([48460, 8])\n",
      "14180\n"
     ]
    },
    {
     "name": "stderr",
     "output_type": "stream",
     "text": [
      "  4%|▍         | 205/5000 [04:19<1:42:31,  1.28s/it]"
     ]
    },
    {
     "name": "stdout",
     "output_type": "stream",
     "text": [
      "output.shape=torch.Size([20, 2423, 8])\n",
      "targets.shape=torch.Size([20, 2423, 8])\n",
      "torch.Size([48460]) torch.Size([48460])\n",
      "10379\n",
      "stacked output.shape=torch.Size([48460, 8])\n",
      "targets.shape=torch.Size([48460, 8])\n",
      "14000\n"
     ]
    },
    {
     "name": "stderr",
     "output_type": "stream",
     "text": [
      "  4%|▍         | 208/5000 [04:23<1:42:26,  1.28s/it]"
     ]
    },
    {
     "name": "stdout",
     "output_type": "stream",
     "text": [
      "output.shape=torch.Size([20, 2423, 8])\n",
      "targets.shape=torch.Size([20, 2423, 8])\n",
      "torch.Size([48460]) torch.Size([48460])\n",
      "10424\n",
      "stacked output.shape=torch.Size([48460, 8])\n",
      "targets.shape=torch.Size([48460, 8])\n",
      "14060\n"
     ]
    },
    {
     "name": "stderr",
     "output_type": "stream",
     "text": [
      "  4%|▍         | 211/5000 [04:26<1:42:06,  1.28s/it]"
     ]
    },
    {
     "name": "stdout",
     "output_type": "stream",
     "text": [
      "output.shape=torch.Size([20, 2423, 8])\n",
      "targets.shape=torch.Size([20, 2423, 8])\n",
      "torch.Size([48460]) torch.Size([48460])\n",
      "10415\n",
      "stacked output.shape=torch.Size([48460, 8])\n",
      "targets.shape=torch.Size([48460, 8])\n",
      "13700\n"
     ]
    },
    {
     "name": "stderr",
     "output_type": "stream",
     "text": [
      "  4%|▍         | 214/5000 [04:30<1:42:18,  1.28s/it]"
     ]
    },
    {
     "name": "stdout",
     "output_type": "stream",
     "text": [
      "output.shape=torch.Size([20, 2423, 8])\n",
      "targets.shape=torch.Size([20, 2423, 8])\n",
      "torch.Size([48460]) torch.Size([48460])\n",
      "10430\n",
      "stacked output.shape=torch.Size([48460, 8])\n",
      "targets.shape=torch.Size([48460, 8])\n",
      "13800\n"
     ]
    },
    {
     "name": "stderr",
     "output_type": "stream",
     "text": [
      "  4%|▍         | 217/5000 [04:34<1:42:34,  1.29s/it]"
     ]
    },
    {
     "name": "stdout",
     "output_type": "stream",
     "text": [
      "output.shape=torch.Size([20, 2423, 8])\n",
      "targets.shape=torch.Size([20, 2423, 8])\n",
      "torch.Size([48460]) torch.Size([48460])\n",
      "10425\n",
      "stacked output.shape=torch.Size([48460, 8])\n",
      "targets.shape=torch.Size([48460, 8])\n",
      "13840\n"
     ]
    },
    {
     "name": "stderr",
     "output_type": "stream",
     "text": [
      "  4%|▍         | 220/5000 [04:38<1:41:54,  1.28s/it]"
     ]
    },
    {
     "name": "stdout",
     "output_type": "stream",
     "text": [
      "output.shape=torch.Size([20, 2423, 8])\n",
      "targets.shape=torch.Size([20, 2423, 8])\n",
      "torch.Size([48460]) torch.Size([48460])\n",
      "10517\n",
      "stacked output.shape=torch.Size([48460, 8])\n",
      "targets.shape=torch.Size([48460, 8])\n",
      "14020\n"
     ]
    },
    {
     "name": "stderr",
     "output_type": "stream",
     "text": [
      "  4%|▍         | 223/5000 [04:41<1:41:40,  1.28s/it]"
     ]
    },
    {
     "name": "stdout",
     "output_type": "stream",
     "text": [
      "output.shape=torch.Size([20, 2423, 8])\n",
      "targets.shape=torch.Size([20, 2423, 8])\n",
      "torch.Size([48460]) torch.Size([48460])\n",
      "10498\n",
      "stacked output.shape=torch.Size([48460, 8])\n",
      "targets.shape=torch.Size([48460, 8])\n",
      "13820\n"
     ]
    },
    {
     "name": "stderr",
     "output_type": "stream",
     "text": [
      "  5%|▍         | 226/5000 [04:45<1:43:05,  1.30s/it]"
     ]
    },
    {
     "name": "stdout",
     "output_type": "stream",
     "text": [
      "output.shape=torch.Size([20, 2423, 8])\n",
      "targets.shape=torch.Size([20, 2423, 8])\n",
      "torch.Size([48460]) torch.Size([48460])\n",
      "10591\n",
      "stacked output.shape=torch.Size([48460, 8])\n",
      "targets.shape=torch.Size([48460, 8])\n",
      "14100\n"
     ]
    },
    {
     "name": "stderr",
     "output_type": "stream",
     "text": [
      "  5%|▍         | 229/5000 [04:49<1:41:56,  1.28s/it]"
     ]
    },
    {
     "name": "stdout",
     "output_type": "stream",
     "text": [
      "output.shape=torch.Size([20, 2423, 8])\n",
      "targets.shape=torch.Size([20, 2423, 8])\n",
      "torch.Size([48460]) torch.Size([48460])\n",
      "10578\n",
      "stacked output.shape=torch.Size([48460, 8])\n",
      "targets.shape=torch.Size([48460, 8])\n",
      "14080\n"
     ]
    },
    {
     "name": "stderr",
     "output_type": "stream",
     "text": [
      "  5%|▍         | 232/5000 [04:53<1:41:37,  1.28s/it]"
     ]
    },
    {
     "name": "stdout",
     "output_type": "stream",
     "text": [
      "output.shape=torch.Size([20, 2423, 8])\n",
      "targets.shape=torch.Size([20, 2423, 8])\n",
      "torch.Size([48460]) torch.Size([48460])\n",
      "10562\n",
      "stacked output.shape=torch.Size([48460, 8])\n",
      "targets.shape=torch.Size([48460, 8])\n",
      "13940\n"
     ]
    },
    {
     "name": "stderr",
     "output_type": "stream",
     "text": [
      "  5%|▍         | 235/5000 [04:56<1:41:46,  1.28s/it]"
     ]
    },
    {
     "name": "stdout",
     "output_type": "stream",
     "text": [
      "output.shape=torch.Size([20, 2423, 8])\n",
      "targets.shape=torch.Size([20, 2423, 8])\n",
      "torch.Size([48460]) torch.Size([48460])\n",
      "10639\n",
      "stacked output.shape=torch.Size([48460, 8])\n",
      "targets.shape=torch.Size([48460, 8])\n",
      "14360\n"
     ]
    },
    {
     "name": "stderr",
     "output_type": "stream",
     "text": [
      "  5%|▍         | 238/5000 [05:00<1:43:54,  1.31s/it]"
     ]
    },
    {
     "name": "stdout",
     "output_type": "stream",
     "text": [
      "output.shape=torch.Size([20, 2423, 8])\n",
      "targets.shape=torch.Size([20, 2423, 8])\n",
      "torch.Size([48460]) torch.Size([48460])\n",
      "10646\n",
      "stacked output.shape=torch.Size([48460, 8])\n",
      "targets.shape=torch.Size([48460, 8])\n",
      "14320\n"
     ]
    },
    {
     "name": "stderr",
     "output_type": "stream",
     "text": [
      "  5%|▍         | 241/5000 [05:04<1:45:12,  1.33s/it]"
     ]
    },
    {
     "name": "stdout",
     "output_type": "stream",
     "text": [
      "output.shape=torch.Size([20, 2423, 8])\n",
      "targets.shape=torch.Size([20, 2423, 8])\n",
      "torch.Size([48460]) torch.Size([48460])\n",
      "10664\n",
      "stacked output.shape=torch.Size([48460, 8])\n",
      "targets.shape=torch.Size([48460, 8])\n",
      "14080\n"
     ]
    },
    {
     "name": "stderr",
     "output_type": "stream",
     "text": [
      "  5%|▍         | 244/5000 [05:08<1:43:57,  1.31s/it]"
     ]
    },
    {
     "name": "stdout",
     "output_type": "stream",
     "text": [
      "output.shape=torch.Size([20, 2423, 8])\n",
      "targets.shape=torch.Size([20, 2423, 8])\n",
      "torch.Size([48460]) torch.Size([48460])\n",
      "10650\n",
      "stacked output.shape=torch.Size([48460, 8])\n",
      "targets.shape=torch.Size([48460, 8])\n",
      "13880\n"
     ]
    },
    {
     "name": "stderr",
     "output_type": "stream",
     "text": [
      "  5%|▍         | 247/5000 [05:12<1:42:38,  1.30s/it]"
     ]
    },
    {
     "name": "stdout",
     "output_type": "stream",
     "text": [
      "output.shape=torch.Size([20, 2423, 8])\n",
      "targets.shape=torch.Size([20, 2423, 8])\n",
      "torch.Size([48460]) torch.Size([48460])\n",
      "10714\n",
      "stacked output.shape=torch.Size([48460, 8])\n",
      "targets.shape=torch.Size([48460, 8])\n",
      "14120\n"
     ]
    },
    {
     "name": "stderr",
     "output_type": "stream",
     "text": [
      "  5%|▌         | 250/5000 [05:16<1:42:25,  1.29s/it]"
     ]
    },
    {
     "name": "stdout",
     "output_type": "stream",
     "text": [
      "output.shape=torch.Size([20, 2423, 8])\n",
      "targets.shape=torch.Size([20, 2423, 8])\n",
      "torch.Size([48460]) torch.Size([48460])\n",
      "10752\n",
      "stacked output.shape=torch.Size([48460, 8])\n",
      "targets.shape=torch.Size([48460, 8])\n",
      "14340\n"
     ]
    },
    {
     "name": "stderr",
     "output_type": "stream",
     "text": [
      "  5%|▌         | 253/5000 [05:20<1:42:46,  1.30s/it]"
     ]
    },
    {
     "name": "stdout",
     "output_type": "stream",
     "text": [
      "output.shape=torch.Size([20, 2423, 8])\n",
      "targets.shape=torch.Size([20, 2423, 8])\n",
      "torch.Size([48460]) torch.Size([48460])\n",
      "10759\n",
      "stacked output.shape=torch.Size([48460, 8])\n",
      "targets.shape=torch.Size([48460, 8])\n",
      "14220\n"
     ]
    },
    {
     "name": "stderr",
     "output_type": "stream",
     "text": [
      "  5%|▌         | 256/5000 [05:23<1:42:57,  1.30s/it]"
     ]
    },
    {
     "name": "stdout",
     "output_type": "stream",
     "text": [
      "output.shape=torch.Size([20, 2423, 8])\n",
      "targets.shape=torch.Size([20, 2423, 8])\n",
      "torch.Size([48460]) torch.Size([48460])\n",
      "10808\n",
      "stacked output.shape=torch.Size([48460, 8])\n",
      "targets.shape=torch.Size([48460, 8])\n",
      "14260\n"
     ]
    },
    {
     "name": "stderr",
     "output_type": "stream",
     "text": [
      "  5%|▌         | 259/5000 [05:27<1:42:08,  1.29s/it]"
     ]
    },
    {
     "name": "stdout",
     "output_type": "stream",
     "text": [
      "output.shape=torch.Size([20, 2423, 8])\n",
      "targets.shape=torch.Size([20, 2423, 8])\n",
      "torch.Size([48460]) torch.Size([48460])\n",
      "10870\n",
      "stacked output.shape=torch.Size([48460, 8])\n",
      "targets.shape=torch.Size([48460, 8])\n",
      "14200\n"
     ]
    },
    {
     "name": "stderr",
     "output_type": "stream",
     "text": [
      "  5%|▌         | 262/5000 [05:31<1:43:32,  1.31s/it]"
     ]
    },
    {
     "name": "stdout",
     "output_type": "stream",
     "text": [
      "output.shape=torch.Size([20, 2423, 8])\n",
      "targets.shape=torch.Size([20, 2423, 8])\n",
      "torch.Size([48460]) torch.Size([48460])\n",
      "10870\n",
      "stacked output.shape=torch.Size([48460, 8])\n",
      "targets.shape=torch.Size([48460, 8])\n",
      "13920\n"
     ]
    },
    {
     "name": "stderr",
     "output_type": "stream",
     "text": [
      "  5%|▌         | 265/5000 [05:35<1:44:33,  1.32s/it]"
     ]
    },
    {
     "name": "stdout",
     "output_type": "stream",
     "text": [
      "output.shape=torch.Size([20, 2423, 8])\n",
      "targets.shape=torch.Size([20, 2423, 8])\n",
      "torch.Size([48460]) torch.Size([48460])\n",
      "10891\n",
      "stacked output.shape=torch.Size([48460, 8])\n",
      "targets.shape=torch.Size([48460, 8])\n",
      "14340\n"
     ]
    },
    {
     "name": "stderr",
     "output_type": "stream",
     "text": [
      "  5%|▌         | 268/5000 [05:39<1:44:15,  1.32s/it]"
     ]
    },
    {
     "name": "stdout",
     "output_type": "stream",
     "text": [
      "output.shape=torch.Size([20, 2423, 8])\n",
      "targets.shape=torch.Size([20, 2423, 8])\n",
      "torch.Size([48460]) torch.Size([48460])\n",
      "10884\n",
      "stacked output.shape=torch.Size([48460, 8])\n",
      "targets.shape=torch.Size([48460, 8])\n",
      "14200\n"
     ]
    },
    {
     "name": "stderr",
     "output_type": "stream",
     "text": [
      "  5%|▌         | 271/5000 [05:43<1:46:13,  1.35s/it]"
     ]
    },
    {
     "name": "stdout",
     "output_type": "stream",
     "text": [
      "output.shape=torch.Size([20, 2423, 8])\n",
      "targets.shape=torch.Size([20, 2423, 8])\n",
      "torch.Size([48460]) torch.Size([48460])\n",
      "10901\n",
      "stacked output.shape=torch.Size([48460, 8])\n",
      "targets.shape=torch.Size([48460, 8])\n",
      "14340\n"
     ]
    },
    {
     "name": "stderr",
     "output_type": "stream",
     "text": [
      "  5%|▌         | 274/5000 [05:47<1:48:11,  1.37s/it]"
     ]
    },
    {
     "name": "stdout",
     "output_type": "stream",
     "text": [
      "output.shape=torch.Size([20, 2423, 8])\n",
      "targets.shape=torch.Size([20, 2423, 8])\n",
      "torch.Size([48460]) torch.Size([48460])\n",
      "10873\n",
      "stacked output.shape=torch.Size([48460, 8])\n",
      "targets.shape=torch.Size([48460, 8])\n",
      "14020\n"
     ]
    },
    {
     "name": "stderr",
     "output_type": "stream",
     "text": [
      "  6%|▌         | 277/5000 [05:51<1:52:23,  1.43s/it]"
     ]
    },
    {
     "name": "stdout",
     "output_type": "stream",
     "text": [
      "output.shape=torch.Size([20, 2423, 8])\n",
      "targets.shape=torch.Size([20, 2423, 8])\n",
      "torch.Size([48460]) torch.Size([48460])\n",
      "11001\n",
      "stacked output.shape=torch.Size([48460, 8])\n",
      "targets.shape=torch.Size([48460, 8])\n",
      "14440\n"
     ]
    },
    {
     "name": "stderr",
     "output_type": "stream",
     "text": [
      "  6%|▌         | 280/5000 [05:55<1:53:32,  1.44s/it]"
     ]
    },
    {
     "name": "stdout",
     "output_type": "stream",
     "text": [
      "output.shape=torch.Size([20, 2423, 8])\n",
      "targets.shape=torch.Size([20, 2423, 8])\n",
      "torch.Size([48460]) torch.Size([48460])\n",
      "11038\n",
      "stacked output.shape=torch.Size([48460, 8])\n",
      "targets.shape=torch.Size([48460, 8])\n",
      "14320\n"
     ]
    },
    {
     "name": "stderr",
     "output_type": "stream",
     "text": [
      "  6%|▌         | 283/5000 [05:59<1:50:11,  1.40s/it]"
     ]
    },
    {
     "name": "stdout",
     "output_type": "stream",
     "text": [
      "output.shape=torch.Size([20, 2423, 8])\n",
      "targets.shape=torch.Size([20, 2423, 8])\n",
      "torch.Size([48460]) torch.Size([48460])\n",
      "11052\n",
      "stacked output.shape=torch.Size([48460, 8])\n",
      "targets.shape=torch.Size([48460, 8])\n",
      "14220\n"
     ]
    },
    {
     "name": "stderr",
     "output_type": "stream",
     "text": [
      "  6%|▌         | 286/5000 [06:04<1:49:09,  1.39s/it]"
     ]
    },
    {
     "name": "stdout",
     "output_type": "stream",
     "text": [
      "output.shape=torch.Size([20, 2423, 8])\n",
      "targets.shape=torch.Size([20, 2423, 8])\n",
      "torch.Size([48460]) torch.Size([48460])\n",
      "11128\n",
      "stacked output.shape=torch.Size([48460, 8])\n",
      "targets.shape=torch.Size([48460, 8])\n",
      "14220\n"
     ]
    },
    {
     "name": "stderr",
     "output_type": "stream",
     "text": [
      "  6%|▌         | 289/5000 [06:08<2:02:05,  1.55s/it]"
     ]
    },
    {
     "name": "stdout",
     "output_type": "stream",
     "text": [
      "output.shape=torch.Size([20, 2423, 8])\n",
      "targets.shape=torch.Size([20, 2423, 8])\n",
      "torch.Size([48460]) torch.Size([48460])\n",
      "11089\n",
      "stacked output.shape=torch.Size([48460, 8])\n",
      "targets.shape=torch.Size([48460, 8])\n",
      "14440\n"
     ]
    },
    {
     "name": "stderr",
     "output_type": "stream",
     "text": [
      "  6%|▌         | 292/5000 [06:13<2:02:56,  1.57s/it]"
     ]
    },
    {
     "name": "stdout",
     "output_type": "stream",
     "text": [
      "output.shape=torch.Size([20, 2423, 8])\n",
      "targets.shape=torch.Size([20, 2423, 8])\n",
      "torch.Size([48460]) torch.Size([48460])\n",
      "11101\n",
      "stacked output.shape=torch.Size([48460, 8])\n",
      "targets.shape=torch.Size([48460, 8])\n",
      "14300\n"
     ]
    },
    {
     "name": "stderr",
     "output_type": "stream",
     "text": [
      "  6%|▌         | 295/5000 [06:17<1:53:06,  1.44s/it]"
     ]
    },
    {
     "name": "stdout",
     "output_type": "stream",
     "text": [
      "output.shape=torch.Size([20, 2423, 8])\n",
      "targets.shape=torch.Size([20, 2423, 8])\n",
      "torch.Size([48460]) torch.Size([48460])\n",
      "11152\n",
      "stacked output.shape=torch.Size([48460, 8])\n",
      "targets.shape=torch.Size([48460, 8])\n",
      "14240\n"
     ]
    },
    {
     "name": "stderr",
     "output_type": "stream",
     "text": [
      "  6%|▌         | 298/5000 [06:21<1:50:18,  1.41s/it]"
     ]
    },
    {
     "name": "stdout",
     "output_type": "stream",
     "text": [
      "output.shape=torch.Size([20, 2423, 8])\n",
      "targets.shape=torch.Size([20, 2423, 8])\n",
      "torch.Size([48460]) torch.Size([48460])\n",
      "11179\n",
      "stacked output.shape=torch.Size([48460, 8])\n",
      "targets.shape=torch.Size([48460, 8])\n",
      "14480\n"
     ]
    },
    {
     "name": "stderr",
     "output_type": "stream",
     "text": [
      "  6%|▌         | 301/5000 [06:25<1:52:25,  1.44s/it]"
     ]
    },
    {
     "name": "stdout",
     "output_type": "stream",
     "text": [
      "output.shape=torch.Size([20, 2423, 8])\n",
      "targets.shape=torch.Size([20, 2423, 8])\n",
      "torch.Size([48460]) torch.Size([48460])\n",
      "11248\n",
      "stacked output.shape=torch.Size([48460, 8])\n",
      "targets.shape=torch.Size([48460, 8])\n",
      "14340\n"
     ]
    },
    {
     "name": "stderr",
     "output_type": "stream",
     "text": [
      "  6%|▌         | 304/5000 [06:29<1:51:25,  1.42s/it]"
     ]
    },
    {
     "name": "stdout",
     "output_type": "stream",
     "text": [
      "output.shape=torch.Size([20, 2423, 8])\n",
      "targets.shape=torch.Size([20, 2423, 8])\n",
      "torch.Size([48460]) torch.Size([48460])\n",
      "11215\n",
      "stacked output.shape=torch.Size([48460, 8])\n",
      "targets.shape=torch.Size([48460, 8])\n",
      "14440\n"
     ]
    },
    {
     "name": "stderr",
     "output_type": "stream",
     "text": [
      "  6%|▌         | 307/5000 [06:34<1:56:46,  1.49s/it]"
     ]
    },
    {
     "name": "stdout",
     "output_type": "stream",
     "text": [
      "output.shape=torch.Size([20, 2423, 8])\n",
      "targets.shape=torch.Size([20, 2423, 8])\n",
      "torch.Size([48460]) torch.Size([48460])\n",
      "11270\n",
      "stacked output.shape=torch.Size([48460, 8])\n",
      "targets.shape=torch.Size([48460, 8])\n",
      "14320\n"
     ]
    },
    {
     "name": "stderr",
     "output_type": "stream",
     "text": [
      "  6%|▌         | 310/5000 [06:38<2:03:41,  1.58s/it]"
     ]
    },
    {
     "name": "stdout",
     "output_type": "stream",
     "text": [
      "output.shape=torch.Size([20, 2423, 8])\n",
      "targets.shape=torch.Size([20, 2423, 8])\n",
      "torch.Size([48460]) torch.Size([48460])\n",
      "11280\n",
      "stacked output.shape=torch.Size([48460, 8])\n",
      "targets.shape=torch.Size([48460, 8])\n",
      "14440\n"
     ]
    },
    {
     "name": "stderr",
     "output_type": "stream",
     "text": [
      "  6%|▋         | 313/5000 [06:44<2:16:58,  1.75s/it]"
     ]
    },
    {
     "name": "stdout",
     "output_type": "stream",
     "text": [
      "output.shape=torch.Size([20, 2423, 8])\n",
      "targets.shape=torch.Size([20, 2423, 8])\n",
      "torch.Size([48460]) torch.Size([48460])\n",
      "11317\n",
      "stacked output.shape=torch.Size([48460, 8])\n",
      "targets.shape=torch.Size([48460, 8])\n",
      "14480\n"
     ]
    },
    {
     "name": "stderr",
     "output_type": "stream",
     "text": [
      "  6%|▋         | 316/5000 [06:49<2:22:27,  1.82s/it]"
     ]
    },
    {
     "name": "stdout",
     "output_type": "stream",
     "text": [
      "output.shape=torch.Size([20, 2423, 8])\n",
      "targets.shape=torch.Size([20, 2423, 8])\n",
      "torch.Size([48460]) torch.Size([48460])\n",
      "11306\n",
      "stacked output.shape=torch.Size([48460, 8])\n",
      "targets.shape=torch.Size([48460, 8])\n",
      "14280\n"
     ]
    },
    {
     "name": "stderr",
     "output_type": "stream",
     "text": [
      "  6%|▋         | 319/5000 [06:54<2:19:02,  1.78s/it]"
     ]
    },
    {
     "name": "stdout",
     "output_type": "stream",
     "text": [
      "output.shape=torch.Size([20, 2423, 8])\n",
      "targets.shape=torch.Size([20, 2423, 8])\n",
      "torch.Size([48460]) torch.Size([48460])\n",
      "11331\n",
      "stacked output.shape=torch.Size([48460, 8])\n",
      "targets.shape=torch.Size([48460, 8])\n",
      "14360\n"
     ]
    },
    {
     "name": "stderr",
     "output_type": "stream",
     "text": [
      "  6%|▋         | 322/5000 [07:00<2:16:55,  1.76s/it]"
     ]
    },
    {
     "name": "stdout",
     "output_type": "stream",
     "text": [
      "output.shape=torch.Size([20, 2423, 8])\n",
      "targets.shape=torch.Size([20, 2423, 8])\n",
      "torch.Size([48460]) torch.Size([48460])\n",
      "11391\n",
      "stacked output.shape=torch.Size([48460, 8])\n",
      "targets.shape=torch.Size([48460, 8])\n",
      "14160\n"
     ]
    },
    {
     "name": "stderr",
     "output_type": "stream",
     "text": [
      "  6%|▋         | 325/5000 [07:04<2:12:12,  1.70s/it]"
     ]
    },
    {
     "name": "stdout",
     "output_type": "stream",
     "text": [
      "output.shape=torch.Size([20, 2423, 8])\n",
      "targets.shape=torch.Size([20, 2423, 8])\n",
      "torch.Size([48460]) torch.Size([48460])\n",
      "11413\n",
      "stacked output.shape=torch.Size([48460, 8])\n",
      "targets.shape=torch.Size([48460, 8])\n",
      "14220\n"
     ]
    },
    {
     "name": "stderr",
     "output_type": "stream",
     "text": [
      "  7%|▋         | 328/5000 [07:09<1:56:21,  1.49s/it]"
     ]
    },
    {
     "name": "stdout",
     "output_type": "stream",
     "text": [
      "output.shape=torch.Size([20, 2423, 8])\n",
      "targets.shape=torch.Size([20, 2423, 8])\n",
      "torch.Size([48460]) torch.Size([48460])\n",
      "11484\n",
      "stacked output.shape=torch.Size([48460, 8])\n",
      "targets.shape=torch.Size([48460, 8])\n",
      "14280\n"
     ]
    },
    {
     "name": "stderr",
     "output_type": "stream",
     "text": [
      "  7%|▋         | 331/5000 [07:13<1:49:41,  1.41s/it]"
     ]
    },
    {
     "name": "stdout",
     "output_type": "stream",
     "text": [
      "output.shape=torch.Size([20, 2423, 8])\n",
      "targets.shape=torch.Size([20, 2423, 8])\n",
      "torch.Size([48460]) torch.Size([48460])\n",
      "11471\n",
      "stacked output.shape=torch.Size([48460, 8])\n",
      "targets.shape=torch.Size([48460, 8])\n",
      "14320\n"
     ]
    },
    {
     "name": "stderr",
     "output_type": "stream",
     "text": [
      "  7%|▋         | 334/5000 [07:17<1:48:25,  1.39s/it]"
     ]
    },
    {
     "name": "stdout",
     "output_type": "stream",
     "text": [
      "output.shape=torch.Size([20, 2423, 8])\n",
      "targets.shape=torch.Size([20, 2423, 8])\n",
      "torch.Size([48460]) torch.Size([48460])\n",
      "11488\n",
      "stacked output.shape=torch.Size([48460, 8])\n",
      "targets.shape=torch.Size([48460, 8])\n",
      "14480\n"
     ]
    },
    {
     "name": "stderr",
     "output_type": "stream",
     "text": [
      "  7%|▋         | 337/5000 [07:21<1:48:00,  1.39s/it]"
     ]
    },
    {
     "name": "stdout",
     "output_type": "stream",
     "text": [
      "output.shape=torch.Size([20, 2423, 8])\n",
      "targets.shape=torch.Size([20, 2423, 8])\n",
      "torch.Size([48460]) torch.Size([48460])\n",
      "11506\n",
      "stacked output.shape=torch.Size([48460, 8])\n",
      "targets.shape=torch.Size([48460, 8])\n",
      "14320\n"
     ]
    },
    {
     "name": "stderr",
     "output_type": "stream",
     "text": [
      "  7%|▋         | 340/5000 [07:25<1:47:43,  1.39s/it]"
     ]
    },
    {
     "name": "stdout",
     "output_type": "stream",
     "text": [
      "output.shape=torch.Size([20, 2423, 8])\n",
      "targets.shape=torch.Size([20, 2423, 8])\n",
      "torch.Size([48460]) torch.Size([48460])\n",
      "11548\n",
      "stacked output.shape=torch.Size([48460, 8])\n",
      "targets.shape=torch.Size([48460, 8])\n",
      "14340\n"
     ]
    },
    {
     "name": "stderr",
     "output_type": "stream",
     "text": [
      "  7%|▋         | 343/5000 [07:29<1:48:15,  1.39s/it]"
     ]
    },
    {
     "name": "stdout",
     "output_type": "stream",
     "text": [
      "output.shape=torch.Size([20, 2423, 8])\n",
      "targets.shape=torch.Size([20, 2423, 8])\n",
      "torch.Size([48460]) torch.Size([48460])\n",
      "11563\n",
      "stacked output.shape=torch.Size([48460, 8])\n",
      "targets.shape=torch.Size([48460, 8])\n",
      "14360\n"
     ]
    },
    {
     "name": "stderr",
     "output_type": "stream",
     "text": [
      "  7%|▋         | 346/5000 [07:33<1:46:41,  1.38s/it]"
     ]
    },
    {
     "name": "stdout",
     "output_type": "stream",
     "text": [
      "output.shape=torch.Size([20, 2423, 8])\n",
      "targets.shape=torch.Size([20, 2423, 8])\n",
      "torch.Size([48460]) torch.Size([48460])\n",
      "11560\n",
      "stacked output.shape=torch.Size([48460, 8])\n",
      "targets.shape=torch.Size([48460, 8])\n",
      "13900\n"
     ]
    },
    {
     "name": "stderr",
     "output_type": "stream",
     "text": [
      "  7%|▋         | 349/5000 [07:37<1:46:13,  1.37s/it]"
     ]
    },
    {
     "name": "stdout",
     "output_type": "stream",
     "text": [
      "output.shape=torch.Size([20, 2423, 8])\n",
      "targets.shape=torch.Size([20, 2423, 8])\n",
      "torch.Size([48460]) torch.Size([48460])\n",
      "11674\n",
      "stacked output.shape=torch.Size([48460, 8])\n",
      "targets.shape=torch.Size([48460, 8])\n",
      "14340\n"
     ]
    },
    {
     "name": "stderr",
     "output_type": "stream",
     "text": [
      "  7%|▋         | 352/5000 [07:41<1:46:47,  1.38s/it]"
     ]
    },
    {
     "name": "stdout",
     "output_type": "stream",
     "text": [
      "output.shape=torch.Size([20, 2423, 8])\n",
      "targets.shape=torch.Size([20, 2423, 8])\n",
      "torch.Size([48460]) torch.Size([48460])\n",
      "11631\n",
      "stacked output.shape=torch.Size([48460, 8])\n",
      "targets.shape=torch.Size([48460, 8])\n",
      "14220\n"
     ]
    },
    {
     "name": "stderr",
     "output_type": "stream",
     "text": [
      "  7%|▋         | 355/5000 [07:45<1:47:14,  1.39s/it]"
     ]
    },
    {
     "name": "stdout",
     "output_type": "stream",
     "text": [
      "output.shape=torch.Size([20, 2423, 8])\n",
      "targets.shape=torch.Size([20, 2423, 8])\n",
      "torch.Size([48460]) torch.Size([48460])\n",
      "11658\n",
      "stacked output.shape=torch.Size([48460, 8])\n",
      "targets.shape=torch.Size([48460, 8])\n",
      "14320\n"
     ]
    },
    {
     "name": "stderr",
     "output_type": "stream",
     "text": [
      "  7%|▋         | 358/5000 [07:49<1:46:13,  1.37s/it]"
     ]
    },
    {
     "name": "stdout",
     "output_type": "stream",
     "text": [
      "output.shape=torch.Size([20, 2423, 8])\n",
      "targets.shape=torch.Size([20, 2423, 8])\n",
      "torch.Size([48460]) torch.Size([48460])\n",
      "11670\n",
      "stacked output.shape=torch.Size([48460, 8])\n",
      "targets.shape=torch.Size([48460, 8])\n",
      "14540\n"
     ]
    },
    {
     "name": "stderr",
     "output_type": "stream",
     "text": [
      "  7%|▋         | 361/5000 [07:53<1:45:54,  1.37s/it]"
     ]
    },
    {
     "name": "stdout",
     "output_type": "stream",
     "text": [
      "output.shape=torch.Size([20, 2423, 8])\n",
      "targets.shape=torch.Size([20, 2423, 8])\n",
      "torch.Size([48460]) torch.Size([48460])\n",
      "11743\n",
      "stacked output.shape=torch.Size([48460, 8])\n",
      "targets.shape=torch.Size([48460, 8])\n",
      "14420\n"
     ]
    },
    {
     "name": "stderr",
     "output_type": "stream",
     "text": [
      "  7%|▋         | 364/5000 [07:57<1:43:40,  1.34s/it]"
     ]
    },
    {
     "name": "stdout",
     "output_type": "stream",
     "text": [
      "output.shape=torch.Size([20, 2423, 8])\n",
      "targets.shape=torch.Size([20, 2423, 8])\n",
      "torch.Size([48460]) torch.Size([48460])\n",
      "11759\n",
      "stacked output.shape=torch.Size([48460, 8])\n",
      "targets.shape=torch.Size([48460, 8])\n",
      "14220\n"
     ]
    },
    {
     "name": "stderr",
     "output_type": "stream",
     "text": [
      "  7%|▋         | 367/5000 [08:01<1:41:47,  1.32s/it]"
     ]
    },
    {
     "name": "stdout",
     "output_type": "stream",
     "text": [
      "output.shape=torch.Size([20, 2423, 8])\n",
      "targets.shape=torch.Size([20, 2423, 8])\n",
      "torch.Size([48460]) torch.Size([48460])\n",
      "11764\n",
      "stacked output.shape=torch.Size([48460, 8])\n",
      "targets.shape=torch.Size([48460, 8])\n",
      "14080\n"
     ]
    },
    {
     "name": "stderr",
     "output_type": "stream",
     "text": [
      "  7%|▋         | 370/5000 [08:05<1:40:55,  1.31s/it]"
     ]
    },
    {
     "name": "stdout",
     "output_type": "stream",
     "text": [
      "output.shape=torch.Size([20, 2423, 8])\n",
      "targets.shape=torch.Size([20, 2423, 8])\n",
      "torch.Size([48460]) torch.Size([48460])\n",
      "11743\n",
      "stacked output.shape=torch.Size([48460, 8])\n",
      "targets.shape=torch.Size([48460, 8])\n",
      "14400\n"
     ]
    },
    {
     "name": "stderr",
     "output_type": "stream",
     "text": [
      "  7%|▋         | 373/5000 [08:09<1:40:08,  1.30s/it]"
     ]
    },
    {
     "name": "stdout",
     "output_type": "stream",
     "text": [
      "output.shape=torch.Size([20, 2423, 8])\n",
      "targets.shape=torch.Size([20, 2423, 8])\n",
      "torch.Size([48460]) torch.Size([48460])\n",
      "11844\n",
      "stacked output.shape=torch.Size([48460, 8])\n",
      "targets.shape=torch.Size([48460, 8])\n",
      "14580\n"
     ]
    },
    {
     "name": "stderr",
     "output_type": "stream",
     "text": [
      "  8%|▊         | 376/5000 [08:12<1:41:44,  1.32s/it]"
     ]
    },
    {
     "name": "stdout",
     "output_type": "stream",
     "text": [
      "output.shape=torch.Size([20, 2423, 8])\n",
      "targets.shape=torch.Size([20, 2423, 8])\n",
      "torch.Size([48460]) torch.Size([48460])\n",
      "11751\n",
      "stacked output.shape=torch.Size([48460, 8])\n",
      "targets.shape=torch.Size([48460, 8])\n",
      "14480\n"
     ]
    },
    {
     "name": "stderr",
     "output_type": "stream",
     "text": [
      "  8%|▊         | 379/5000 [08:16<1:41:12,  1.31s/it]"
     ]
    },
    {
     "name": "stdout",
     "output_type": "stream",
     "text": [
      "output.shape=torch.Size([20, 2423, 8])\n",
      "targets.shape=torch.Size([20, 2423, 8])\n",
      "torch.Size([48460]) torch.Size([48460])\n",
      "11806\n",
      "stacked output.shape=torch.Size([48460, 8])\n",
      "targets.shape=torch.Size([48460, 8])\n",
      "14620\n"
     ]
    },
    {
     "name": "stderr",
     "output_type": "stream",
     "text": [
      "  8%|▊         | 382/5000 [08:20<1:40:53,  1.31s/it]"
     ]
    },
    {
     "name": "stdout",
     "output_type": "stream",
     "text": [
      "output.shape=torch.Size([20, 2423, 8])\n",
      "targets.shape=torch.Size([20, 2423, 8])\n",
      "torch.Size([48460]) torch.Size([48460])\n",
      "11813\n",
      "stacked output.shape=torch.Size([48460, 8])\n",
      "targets.shape=torch.Size([48460, 8])\n",
      "14200\n"
     ]
    },
    {
     "name": "stderr",
     "output_type": "stream",
     "text": [
      "  8%|▊         | 385/5000 [08:24<1:40:22,  1.30s/it]"
     ]
    },
    {
     "name": "stdout",
     "output_type": "stream",
     "text": [
      "output.shape=torch.Size([20, 2423, 8])\n",
      "targets.shape=torch.Size([20, 2423, 8])\n",
      "torch.Size([48460]) torch.Size([48460])\n",
      "11793\n",
      "stacked output.shape=torch.Size([48460, 8])\n",
      "targets.shape=torch.Size([48460, 8])\n",
      "14440\n"
     ]
    },
    {
     "name": "stderr",
     "output_type": "stream",
     "text": [
      "  8%|▊         | 388/5000 [08:28<1:44:05,  1.35s/it]"
     ]
    },
    {
     "name": "stdout",
     "output_type": "stream",
     "text": [
      "output.shape=torch.Size([20, 2423, 8])\n",
      "targets.shape=torch.Size([20, 2423, 8])\n",
      "torch.Size([48460]) torch.Size([48460])\n",
      "11821\n",
      "stacked output.shape=torch.Size([48460, 8])\n",
      "targets.shape=torch.Size([48460, 8])\n",
      "14400\n"
     ]
    },
    {
     "name": "stderr",
     "output_type": "stream",
     "text": [
      "  8%|▊         | 391/5000 [08:32<1:43:33,  1.35s/it]"
     ]
    },
    {
     "name": "stdout",
     "output_type": "stream",
     "text": [
      "output.shape=torch.Size([20, 2423, 8])\n",
      "targets.shape=torch.Size([20, 2423, 8])\n",
      "torch.Size([48460]) torch.Size([48460])\n",
      "11870\n",
      "stacked output.shape=torch.Size([48460, 8])\n",
      "targets.shape=torch.Size([48460, 8])\n",
      "14380\n"
     ]
    },
    {
     "name": "stderr",
     "output_type": "stream",
     "text": [
      "  8%|▊         | 394/5000 [08:36<1:42:58,  1.34s/it]"
     ]
    },
    {
     "name": "stdout",
     "output_type": "stream",
     "text": [
      "output.shape=torch.Size([20, 2423, 8])\n",
      "targets.shape=torch.Size([20, 2423, 8])\n",
      "torch.Size([48460]) torch.Size([48460])\n",
      "11932\n",
      "stacked output.shape=torch.Size([48460, 8])\n",
      "targets.shape=torch.Size([48460, 8])\n",
      "14220\n"
     ]
    },
    {
     "name": "stderr",
     "output_type": "stream",
     "text": [
      "  8%|▊         | 397/5000 [08:40<1:42:29,  1.34s/it]"
     ]
    },
    {
     "name": "stdout",
     "output_type": "stream",
     "text": [
      "output.shape=torch.Size([20, 2423, 8])\n",
      "targets.shape=torch.Size([20, 2423, 8])\n",
      "torch.Size([48460]) torch.Size([48460])\n",
      "11904\n",
      "stacked output.shape=torch.Size([48460, 8])\n",
      "targets.shape=torch.Size([48460, 8])\n",
      "14480\n"
     ]
    },
    {
     "name": "stderr",
     "output_type": "stream",
     "text": [
      "  8%|▊         | 400/5000 [08:44<1:44:39,  1.37s/it]"
     ]
    },
    {
     "name": "stdout",
     "output_type": "stream",
     "text": [
      "output.shape=torch.Size([20, 2423, 8])\n",
      "targets.shape=torch.Size([20, 2423, 8])\n",
      "torch.Size([48460]) torch.Size([48460])\n",
      "11971\n",
      "stacked output.shape=torch.Size([48460, 8])\n",
      "targets.shape=torch.Size([48460, 8])\n",
      "14540\n"
     ]
    },
    {
     "name": "stderr",
     "output_type": "stream",
     "text": [
      "  8%|▊         | 403/5000 [08:48<1:40:39,  1.31s/it]"
     ]
    },
    {
     "name": "stdout",
     "output_type": "stream",
     "text": [
      "output.shape=torch.Size([20, 2423, 8])\n",
      "targets.shape=torch.Size([20, 2423, 8])\n",
      "torch.Size([48460]) torch.Size([48460])\n",
      "11958\n",
      "stacked output.shape=torch.Size([48460, 8])\n",
      "targets.shape=torch.Size([48460, 8])\n",
      "14640\n"
     ]
    },
    {
     "name": "stderr",
     "output_type": "stream",
     "text": [
      "  8%|▊         | 406/5000 [08:51<1:39:01,  1.29s/it]"
     ]
    },
    {
     "name": "stdout",
     "output_type": "stream",
     "text": [
      "output.shape=torch.Size([20, 2423, 8])\n",
      "targets.shape=torch.Size([20, 2423, 8])\n",
      "torch.Size([48460]) torch.Size([48460])\n",
      "12006\n",
      "stacked output.shape=torch.Size([48460, 8])\n",
      "targets.shape=torch.Size([48460, 8])\n",
      "14280\n"
     ]
    },
    {
     "name": "stderr",
     "output_type": "stream",
     "text": [
      "  8%|▊         | 409/5000 [08:55<1:38:29,  1.29s/it]"
     ]
    },
    {
     "name": "stdout",
     "output_type": "stream",
     "text": [
      "output.shape=torch.Size([20, 2423, 8])\n",
      "targets.shape=torch.Size([20, 2423, 8])\n",
      "torch.Size([48460]) torch.Size([48460])\n",
      "11956\n",
      "stacked output.shape=torch.Size([48460, 8])\n",
      "targets.shape=torch.Size([48460, 8])\n",
      "14460\n"
     ]
    },
    {
     "name": "stderr",
     "output_type": "stream",
     "text": [
      "  8%|▊         | 412/5000 [08:59<1:38:36,  1.29s/it]"
     ]
    },
    {
     "name": "stdout",
     "output_type": "stream",
     "text": [
      "output.shape=torch.Size([20, 2423, 8])\n",
      "targets.shape=torch.Size([20, 2423, 8])\n",
      "torch.Size([48460]) torch.Size([48460])\n",
      "11975\n",
      "stacked output.shape=torch.Size([48460, 8])\n",
      "targets.shape=torch.Size([48460, 8])\n",
      "14360\n"
     ]
    },
    {
     "name": "stderr",
     "output_type": "stream",
     "text": [
      "  8%|▊         | 415/5000 [09:03<1:37:34,  1.28s/it]"
     ]
    },
    {
     "name": "stdout",
     "output_type": "stream",
     "text": [
      "output.shape=torch.Size([20, 2423, 8])\n",
      "targets.shape=torch.Size([20, 2423, 8])\n",
      "torch.Size([48460]) torch.Size([48460])\n",
      "12038\n",
      "stacked output.shape=torch.Size([48460, 8])\n",
      "targets.shape=torch.Size([48460, 8])\n",
      "14500\n"
     ]
    },
    {
     "name": "stderr",
     "output_type": "stream",
     "text": [
      "  8%|▊         | 418/5000 [09:06<1:38:06,  1.28s/it]"
     ]
    },
    {
     "name": "stdout",
     "output_type": "stream",
     "text": [
      "output.shape=torch.Size([20, 2423, 8])\n",
      "targets.shape=torch.Size([20, 2423, 8])\n",
      "torch.Size([48460]) torch.Size([48460])\n",
      "12026\n",
      "stacked output.shape=torch.Size([48460, 8])\n",
      "targets.shape=torch.Size([48460, 8])\n",
      "14440\n"
     ]
    },
    {
     "name": "stderr",
     "output_type": "stream",
     "text": [
      "  8%|▊         | 421/5000 [09:10<1:37:56,  1.28s/it]"
     ]
    },
    {
     "name": "stdout",
     "output_type": "stream",
     "text": [
      "output.shape=torch.Size([20, 2423, 8])\n",
      "targets.shape=torch.Size([20, 2423, 8])\n",
      "torch.Size([48460]) torch.Size([48460])\n",
      "11993\n",
      "stacked output.shape=torch.Size([48460, 8])\n",
      "targets.shape=torch.Size([48460, 8])\n",
      "14220\n"
     ]
    },
    {
     "name": "stderr",
     "output_type": "stream",
     "text": [
      "  8%|▊         | 424/5000 [09:14<1:37:54,  1.28s/it]"
     ]
    },
    {
     "name": "stdout",
     "output_type": "stream",
     "text": [
      "output.shape=torch.Size([20, 2423, 8])\n",
      "targets.shape=torch.Size([20, 2423, 8])\n",
      "torch.Size([48460]) torch.Size([48460])\n",
      "12052\n",
      "stacked output.shape=torch.Size([48460, 8])\n",
      "targets.shape=torch.Size([48460, 8])\n",
      "14680\n"
     ]
    },
    {
     "name": "stderr",
     "output_type": "stream",
     "text": [
      "  9%|▊         | 427/5000 [09:18<1:38:01,  1.29s/it]"
     ]
    },
    {
     "name": "stdout",
     "output_type": "stream",
     "text": [
      "output.shape=torch.Size([20, 2423, 8])\n",
      "targets.shape=torch.Size([20, 2423, 8])\n",
      "torch.Size([48460]) torch.Size([48460])\n",
      "12060\n",
      "stacked output.shape=torch.Size([48460, 8])\n",
      "targets.shape=torch.Size([48460, 8])\n",
      "14460\n"
     ]
    },
    {
     "name": "stderr",
     "output_type": "stream",
     "text": [
      "  9%|▊         | 430/5000 [09:21<1:37:29,  1.28s/it]"
     ]
    },
    {
     "name": "stdout",
     "output_type": "stream",
     "text": [
      "output.shape=torch.Size([20, 2423, 8])\n",
      "targets.shape=torch.Size([20, 2423, 8])\n",
      "torch.Size([48460]) torch.Size([48460])\n",
      "12125\n",
      "stacked output.shape=torch.Size([48460, 8])\n",
      "targets.shape=torch.Size([48460, 8])\n",
      "14620\n"
     ]
    },
    {
     "name": "stderr",
     "output_type": "stream",
     "text": [
      "  9%|▊         | 433/5000 [09:25<1:37:55,  1.29s/it]"
     ]
    },
    {
     "name": "stdout",
     "output_type": "stream",
     "text": [
      "output.shape=torch.Size([20, 2423, 8])\n",
      "targets.shape=torch.Size([20, 2423, 8])\n",
      "torch.Size([48460]) torch.Size([48460])\n",
      "12115\n",
      "stacked output.shape=torch.Size([48460, 8])\n",
      "targets.shape=torch.Size([48460, 8])\n",
      "14600\n"
     ]
    },
    {
     "name": "stderr",
     "output_type": "stream",
     "text": [
      "  9%|▊         | 436/5000 [09:29<1:39:04,  1.30s/it]"
     ]
    },
    {
     "name": "stdout",
     "output_type": "stream",
     "text": [
      "output.shape=torch.Size([20, 2423, 8])\n",
      "targets.shape=torch.Size([20, 2423, 8])\n",
      "torch.Size([48460]) torch.Size([48460])\n",
      "12146\n",
      "stacked output.shape=torch.Size([48460, 8])\n",
      "targets.shape=torch.Size([48460, 8])\n",
      "14680\n"
     ]
    },
    {
     "name": "stderr",
     "output_type": "stream",
     "text": [
      "  9%|▉         | 439/5000 [09:33<1:42:36,  1.35s/it]"
     ]
    },
    {
     "name": "stdout",
     "output_type": "stream",
     "text": [
      "output.shape=torch.Size([20, 2423, 8])\n",
      "targets.shape=torch.Size([20, 2423, 8])\n",
      "torch.Size([48460]) torch.Size([48460])\n",
      "12152\n",
      "stacked output.shape=torch.Size([48460, 8])\n",
      "targets.shape=torch.Size([48460, 8])\n",
      "14480\n"
     ]
    },
    {
     "name": "stderr",
     "output_type": "stream",
     "text": [
      "  9%|▉         | 442/5000 [09:37<1:43:18,  1.36s/it]"
     ]
    },
    {
     "name": "stdout",
     "output_type": "stream",
     "text": [
      "output.shape=torch.Size([20, 2423, 8])\n",
      "targets.shape=torch.Size([20, 2423, 8])\n",
      "torch.Size([48460]) torch.Size([48460])\n",
      "12130\n",
      "stacked output.shape=torch.Size([48460, 8])\n",
      "targets.shape=torch.Size([48460, 8])\n",
      "14500\n"
     ]
    },
    {
     "name": "stderr",
     "output_type": "stream",
     "text": [
      "  9%|▉         | 445/5000 [09:41<1:48:46,  1.43s/it]"
     ]
    },
    {
     "name": "stdout",
     "output_type": "stream",
     "text": [
      "output.shape=torch.Size([20, 2423, 8])\n",
      "targets.shape=torch.Size([20, 2423, 8])\n",
      "torch.Size([48460]) torch.Size([48460])\n",
      "12193\n",
      "stacked output.shape=torch.Size([48460, 8])\n",
      "targets.shape=torch.Size([48460, 8])\n",
      "14700\n"
     ]
    },
    {
     "name": "stderr",
     "output_type": "stream",
     "text": [
      "  9%|▉         | 448/5000 [09:45<1:45:05,  1.39s/it]"
     ]
    },
    {
     "name": "stdout",
     "output_type": "stream",
     "text": [
      "output.shape=torch.Size([20, 2423, 8])\n",
      "targets.shape=torch.Size([20, 2423, 8])\n",
      "torch.Size([48460]) torch.Size([48460])\n",
      "12139\n",
      "stacked output.shape=torch.Size([48460, 8])\n",
      "targets.shape=torch.Size([48460, 8])\n",
      "14640\n"
     ]
    },
    {
     "name": "stderr",
     "output_type": "stream",
     "text": [
      "  9%|▉         | 451/5000 [09:49<1:43:56,  1.37s/it]"
     ]
    },
    {
     "name": "stdout",
     "output_type": "stream",
     "text": [
      "output.shape=torch.Size([20, 2423, 8])\n",
      "targets.shape=torch.Size([20, 2423, 8])\n",
      "torch.Size([48460]) torch.Size([48460])\n",
      "12187\n",
      "stacked output.shape=torch.Size([48460, 8])\n",
      "targets.shape=torch.Size([48460, 8])\n",
      "14600\n"
     ]
    },
    {
     "name": "stderr",
     "output_type": "stream",
     "text": [
      "  9%|▉         | 454/5000 [09:53<1:40:55,  1.33s/it]"
     ]
    },
    {
     "name": "stdout",
     "output_type": "stream",
     "text": [
      "output.shape=torch.Size([20, 2423, 8])\n",
      "targets.shape=torch.Size([20, 2423, 8])\n",
      "torch.Size([48460]) torch.Size([48460])\n",
      "12247\n",
      "stacked output.shape=torch.Size([48460, 8])\n",
      "targets.shape=torch.Size([48460, 8])\n",
      "14200\n"
     ]
    },
    {
     "name": "stderr",
     "output_type": "stream",
     "text": [
      "  9%|▉         | 457/5000 [09:57<1:41:05,  1.34s/it]"
     ]
    },
    {
     "name": "stdout",
     "output_type": "stream",
     "text": [
      "output.shape=torch.Size([20, 2423, 8])\n",
      "targets.shape=torch.Size([20, 2423, 8])\n",
      "torch.Size([48460]) torch.Size([48460])\n",
      "12274\n",
      "stacked output.shape=torch.Size([48460, 8])\n",
      "targets.shape=torch.Size([48460, 8])\n",
      "14420\n"
     ]
    },
    {
     "name": "stderr",
     "output_type": "stream",
     "text": [
      "  9%|▉         | 460/5000 [10:01<1:41:14,  1.34s/it]"
     ]
    },
    {
     "name": "stdout",
     "output_type": "stream",
     "text": [
      "output.shape=torch.Size([20, 2423, 8])\n",
      "targets.shape=torch.Size([20, 2423, 8])\n",
      "torch.Size([48460]) torch.Size([48460])\n",
      "12266\n",
      "stacked output.shape=torch.Size([48460, 8])\n",
      "targets.shape=torch.Size([48460, 8])\n",
      "14320\n"
     ]
    },
    {
     "name": "stderr",
     "output_type": "stream",
     "text": [
      "  9%|▉         | 463/5000 [10:05<1:40:04,  1.32s/it]"
     ]
    },
    {
     "name": "stdout",
     "output_type": "stream",
     "text": [
      "output.shape=torch.Size([20, 2423, 8])\n",
      "targets.shape=torch.Size([20, 2423, 8])\n",
      "torch.Size([48460]) torch.Size([48460])\n",
      "12329\n",
      "stacked output.shape=torch.Size([48460, 8])\n",
      "targets.shape=torch.Size([48460, 8])\n",
      "14280\n"
     ]
    },
    {
     "name": "stderr",
     "output_type": "stream",
     "text": [
      "  9%|▉         | 466/5000 [10:09<1:40:11,  1.33s/it]"
     ]
    },
    {
     "name": "stdout",
     "output_type": "stream",
     "text": [
      "output.shape=torch.Size([20, 2423, 8])\n",
      "targets.shape=torch.Size([20, 2423, 8])\n",
      "torch.Size([48460]) torch.Size([48460])\n",
      "12242\n",
      "stacked output.shape=torch.Size([48460, 8])\n",
      "targets.shape=torch.Size([48460, 8])\n",
      "14420\n"
     ]
    },
    {
     "name": "stderr",
     "output_type": "stream",
     "text": [
      "  9%|▉         | 469/5000 [10:13<1:38:57,  1.31s/it]"
     ]
    },
    {
     "name": "stdout",
     "output_type": "stream",
     "text": [
      "output.shape=torch.Size([20, 2423, 8])\n",
      "targets.shape=torch.Size([20, 2423, 8])\n",
      "torch.Size([48460]) torch.Size([48460])\n",
      "12269\n",
      "stacked output.shape=torch.Size([48460, 8])\n",
      "targets.shape=torch.Size([48460, 8])\n",
      "14460\n"
     ]
    },
    {
     "name": "stderr",
     "output_type": "stream",
     "text": [
      "  9%|▉         | 472/5000 [10:17<1:39:04,  1.31s/it]"
     ]
    },
    {
     "name": "stdout",
     "output_type": "stream",
     "text": [
      "output.shape=torch.Size([20, 2423, 8])\n",
      "targets.shape=torch.Size([20, 2423, 8])\n",
      "torch.Size([48460]) torch.Size([48460])\n",
      "12311\n",
      "stacked output.shape=torch.Size([48460, 8])\n",
      "targets.shape=torch.Size([48460, 8])\n",
      "14480\n"
     ]
    },
    {
     "name": "stderr",
     "output_type": "stream",
     "text": [
      " 10%|▉         | 475/5000 [10:20<1:38:24,  1.30s/it]"
     ]
    },
    {
     "name": "stdout",
     "output_type": "stream",
     "text": [
      "output.shape=torch.Size([20, 2423, 8])\n",
      "targets.shape=torch.Size([20, 2423, 8])\n",
      "torch.Size([48460]) torch.Size([48460])\n",
      "12292\n",
      "stacked output.shape=torch.Size([48460, 8])\n",
      "targets.shape=torch.Size([48460, 8])\n",
      "14440\n"
     ]
    },
    {
     "name": "stderr",
     "output_type": "stream",
     "text": [
      " 10%|▉         | 478/5000 [10:24<1:38:53,  1.31s/it]"
     ]
    },
    {
     "name": "stdout",
     "output_type": "stream",
     "text": [
      "output.shape=torch.Size([20, 2423, 8])\n",
      "targets.shape=torch.Size([20, 2423, 8])\n",
      "torch.Size([48460]) torch.Size([48460])\n",
      "12320\n",
      "stacked output.shape=torch.Size([48460, 8])\n",
      "targets.shape=torch.Size([48460, 8])\n",
      "14300\n"
     ]
    },
    {
     "name": "stderr",
     "output_type": "stream",
     "text": [
      " 10%|▉         | 481/5000 [10:28<1:37:49,  1.30s/it]"
     ]
    },
    {
     "name": "stdout",
     "output_type": "stream",
     "text": [
      "output.shape=torch.Size([20, 2423, 8])\n",
      "targets.shape=torch.Size([20, 2423, 8])\n",
      "torch.Size([48460]) torch.Size([48460])\n",
      "12330\n",
      "stacked output.shape=torch.Size([48460, 8])\n",
      "targets.shape=torch.Size([48460, 8])\n",
      "14200\n"
     ]
    },
    {
     "name": "stderr",
     "output_type": "stream",
     "text": [
      " 10%|▉         | 484/5000 [10:32<1:38:33,  1.31s/it]"
     ]
    },
    {
     "name": "stdout",
     "output_type": "stream",
     "text": [
      "output.shape=torch.Size([20, 2423, 8])\n",
      "targets.shape=torch.Size([20, 2423, 8])\n",
      "torch.Size([48460]) torch.Size([48460])\n",
      "12289\n",
      "stacked output.shape=torch.Size([48460, 8])\n",
      "targets.shape=torch.Size([48460, 8])\n",
      "14520\n"
     ]
    },
    {
     "name": "stderr",
     "output_type": "stream",
     "text": [
      " 10%|▉         | 487/5000 [10:36<1:38:41,  1.31s/it]"
     ]
    },
    {
     "name": "stdout",
     "output_type": "stream",
     "text": [
      "output.shape=torch.Size([20, 2423, 8])\n",
      "targets.shape=torch.Size([20, 2423, 8])\n",
      "torch.Size([48460]) torch.Size([48460])\n",
      "12337\n",
      "stacked output.shape=torch.Size([48460, 8])\n",
      "targets.shape=torch.Size([48460, 8])\n",
      "14560\n"
     ]
    },
    {
     "name": "stderr",
     "output_type": "stream",
     "text": [
      " 10%|▉         | 490/5000 [10:40<1:37:48,  1.30s/it]"
     ]
    },
    {
     "name": "stdout",
     "output_type": "stream",
     "text": [
      "output.shape=torch.Size([20, 2423, 8])\n",
      "targets.shape=torch.Size([20, 2423, 8])\n",
      "torch.Size([48460]) torch.Size([48460])\n",
      "12323\n",
      "stacked output.shape=torch.Size([48460, 8])\n",
      "targets.shape=torch.Size([48460, 8])\n",
      "14140\n"
     ]
    },
    {
     "name": "stderr",
     "output_type": "stream",
     "text": [
      " 10%|▉         | 493/5000 [10:44<1:39:50,  1.33s/it]"
     ]
    },
    {
     "name": "stdout",
     "output_type": "stream",
     "text": [
      "output.shape=torch.Size([20, 2423, 8])\n",
      "targets.shape=torch.Size([20, 2423, 8])\n",
      "torch.Size([48460]) torch.Size([48460])\n",
      "12411\n",
      "stacked output.shape=torch.Size([48460, 8])\n",
      "targets.shape=torch.Size([48460, 8])\n",
      "14180\n"
     ]
    },
    {
     "name": "stderr",
     "output_type": "stream",
     "text": [
      " 10%|▉         | 496/5000 [10:47<1:38:30,  1.31s/it]"
     ]
    },
    {
     "name": "stdout",
     "output_type": "stream",
     "text": [
      "output.shape=torch.Size([20, 2423, 8])\n",
      "targets.shape=torch.Size([20, 2423, 8])\n",
      "torch.Size([48460]) torch.Size([48460])\n",
      "12384\n",
      "stacked output.shape=torch.Size([48460, 8])\n",
      "targets.shape=torch.Size([48460, 8])\n",
      "14080\n"
     ]
    },
    {
     "name": "stderr",
     "output_type": "stream",
     "text": [
      " 10%|▉         | 499/5000 [10:51<1:38:27,  1.31s/it]"
     ]
    },
    {
     "name": "stdout",
     "output_type": "stream",
     "text": [
      "output.shape=torch.Size([20, 2423, 8])\n",
      "targets.shape=torch.Size([20, 2423, 8])\n",
      "torch.Size([48460]) torch.Size([48460])\n",
      "12370\n",
      "stacked output.shape=torch.Size([48460, 8])\n",
      "targets.shape=torch.Size([48460, 8])\n",
      "14240\n"
     ]
    },
    {
     "name": "stderr",
     "output_type": "stream",
     "text": [
      " 10%|█         | 502/5000 [10:55<1:37:45,  1.30s/it]"
     ]
    },
    {
     "name": "stdout",
     "output_type": "stream",
     "text": [
      "output.shape=torch.Size([20, 2423, 8])\n",
      "targets.shape=torch.Size([20, 2423, 8])\n",
      "torch.Size([48460]) torch.Size([48460])\n",
      "12398\n",
      "stacked output.shape=torch.Size([48460, 8])\n",
      "targets.shape=torch.Size([48460, 8])\n",
      "14420\n"
     ]
    },
    {
     "name": "stderr",
     "output_type": "stream",
     "text": [
      " 10%|█         | 505/5000 [10:59<1:37:39,  1.30s/it]"
     ]
    },
    {
     "name": "stdout",
     "output_type": "stream",
     "text": [
      "output.shape=torch.Size([20, 2423, 8])\n",
      "targets.shape=torch.Size([20, 2423, 8])\n",
      "torch.Size([48460]) torch.Size([48460])\n",
      "12433\n",
      "stacked output.shape=torch.Size([48460, 8])\n",
      "targets.shape=torch.Size([48460, 8])\n",
      "14220\n"
     ]
    },
    {
     "name": "stderr",
     "output_type": "stream",
     "text": [
      " 10%|█         | 508/5000 [11:03<1:37:46,  1.31s/it]"
     ]
    },
    {
     "name": "stdout",
     "output_type": "stream",
     "text": [
      "output.shape=torch.Size([20, 2423, 8])\n",
      "targets.shape=torch.Size([20, 2423, 8])\n",
      "torch.Size([48460]) torch.Size([48460])\n",
      "12443\n",
      "stacked output.shape=torch.Size([48460, 8])\n",
      "targets.shape=torch.Size([48460, 8])\n",
      "14240\n"
     ]
    },
    {
     "name": "stderr",
     "output_type": "stream",
     "text": [
      " 10%|█         | 511/5000 [11:07<1:38:31,  1.32s/it]"
     ]
    },
    {
     "name": "stdout",
     "output_type": "stream",
     "text": [
      "output.shape=torch.Size([20, 2423, 8])\n",
      "targets.shape=torch.Size([20, 2423, 8])\n",
      "torch.Size([48460]) torch.Size([48460])\n",
      "12462\n",
      "stacked output.shape=torch.Size([48460, 8])\n",
      "targets.shape=torch.Size([48460, 8])\n",
      "14140\n"
     ]
    },
    {
     "name": "stderr",
     "output_type": "stream",
     "text": [
      " 10%|█         | 514/5000 [11:10<1:36:43,  1.29s/it]"
     ]
    },
    {
     "name": "stdout",
     "output_type": "stream",
     "text": [
      "output.shape=torch.Size([20, 2423, 8])\n",
      "targets.shape=torch.Size([20, 2423, 8])\n",
      "torch.Size([48460]) torch.Size([48460])\n",
      "12437\n",
      "stacked output.shape=torch.Size([48460, 8])\n",
      "targets.shape=torch.Size([48460, 8])\n",
      "14340\n"
     ]
    },
    {
     "name": "stderr",
     "output_type": "stream",
     "text": [
      " 10%|█         | 517/5000 [11:14<1:38:17,  1.32s/it]"
     ]
    },
    {
     "name": "stdout",
     "output_type": "stream",
     "text": [
      "output.shape=torch.Size([20, 2423, 8])\n",
      "targets.shape=torch.Size([20, 2423, 8])\n",
      "torch.Size([48460]) torch.Size([48460])\n",
      "12476\n",
      "stacked output.shape=torch.Size([48460, 8])\n",
      "targets.shape=torch.Size([48460, 8])\n",
      "14300\n"
     ]
    },
    {
     "name": "stderr",
     "output_type": "stream",
     "text": [
      " 10%|█         | 520/5000 [11:18<1:37:01,  1.30s/it]"
     ]
    },
    {
     "name": "stdout",
     "output_type": "stream",
     "text": [
      "output.shape=torch.Size([20, 2423, 8])\n",
      "targets.shape=torch.Size([20, 2423, 8])\n",
      "torch.Size([48460]) torch.Size([48460])\n",
      "12392\n",
      "stacked output.shape=torch.Size([48460, 8])\n",
      "targets.shape=torch.Size([48460, 8])\n",
      "14280\n"
     ]
    },
    {
     "name": "stderr",
     "output_type": "stream",
     "text": [
      " 10%|█         | 523/5000 [11:22<1:36:19,  1.29s/it]"
     ]
    },
    {
     "name": "stdout",
     "output_type": "stream",
     "text": [
      "output.shape=torch.Size([20, 2423, 8])\n",
      "targets.shape=torch.Size([20, 2423, 8])\n",
      "torch.Size([48460]) torch.Size([48460])\n",
      "12513\n",
      "stacked output.shape=torch.Size([48460, 8])\n",
      "targets.shape=torch.Size([48460, 8])\n",
      "14380\n"
     ]
    },
    {
     "name": "stderr",
     "output_type": "stream",
     "text": [
      " 11%|█         | 526/5000 [11:26<1:36:16,  1.29s/it]"
     ]
    },
    {
     "name": "stdout",
     "output_type": "stream",
     "text": [
      "output.shape=torch.Size([20, 2423, 8])\n",
      "targets.shape=torch.Size([20, 2423, 8])\n",
      "torch.Size([48460]) torch.Size([48460])\n",
      "12448\n",
      "stacked output.shape=torch.Size([48460, 8])\n",
      "targets.shape=torch.Size([48460, 8])\n",
      "14260\n"
     ]
    },
    {
     "name": "stderr",
     "output_type": "stream",
     "text": [
      " 11%|█         | 529/5000 [11:29<1:35:37,  1.28s/it]"
     ]
    },
    {
     "name": "stdout",
     "output_type": "stream",
     "text": [
      "output.shape=torch.Size([20, 2423, 8])\n",
      "targets.shape=torch.Size([20, 2423, 8])\n",
      "torch.Size([48460]) torch.Size([48460])\n",
      "12485\n",
      "stacked output.shape=torch.Size([48460, 8])\n",
      "targets.shape=torch.Size([48460, 8])\n",
      "14140\n"
     ]
    },
    {
     "name": "stderr",
     "output_type": "stream",
     "text": [
      " 11%|█         | 532/5000 [11:33<1:34:55,  1.27s/it]"
     ]
    },
    {
     "name": "stdout",
     "output_type": "stream",
     "text": [
      "output.shape=torch.Size([20, 2423, 8])\n",
      "targets.shape=torch.Size([20, 2423, 8])\n",
      "torch.Size([48460]) torch.Size([48460])\n",
      "12454\n",
      "stacked output.shape=torch.Size([48460, 8])\n",
      "targets.shape=torch.Size([48460, 8])\n",
      "14120\n"
     ]
    },
    {
     "name": "stderr",
     "output_type": "stream",
     "text": [
      " 11%|█         | 535/5000 [11:37<1:34:53,  1.28s/it]"
     ]
    },
    {
     "name": "stdout",
     "output_type": "stream",
     "text": [
      "output.shape=torch.Size([20, 2423, 8])\n",
      "targets.shape=torch.Size([20, 2423, 8])\n",
      "torch.Size([48460]) torch.Size([48460])\n",
      "12500\n",
      "stacked output.shape=torch.Size([48460, 8])\n",
      "targets.shape=torch.Size([48460, 8])\n",
      "14360\n"
     ]
    },
    {
     "name": "stderr",
     "output_type": "stream",
     "text": [
      " 11%|█         | 538/5000 [11:40<1:34:50,  1.28s/it]"
     ]
    },
    {
     "name": "stdout",
     "output_type": "stream",
     "text": [
      "output.shape=torch.Size([20, 2423, 8])\n",
      "targets.shape=torch.Size([20, 2423, 8])\n",
      "torch.Size([48460]) torch.Size([48460])\n",
      "12507\n",
      "stacked output.shape=torch.Size([48460, 8])\n",
      "targets.shape=torch.Size([48460, 8])\n",
      "14040\n"
     ]
    },
    {
     "name": "stderr",
     "output_type": "stream",
     "text": [
      " 11%|█         | 541/5000 [11:44<1:34:54,  1.28s/it]"
     ]
    },
    {
     "name": "stdout",
     "output_type": "stream",
     "text": [
      "output.shape=torch.Size([20, 2423, 8])\n",
      "targets.shape=torch.Size([20, 2423, 8])\n",
      "torch.Size([48460]) torch.Size([48460])\n",
      "12508\n",
      "stacked output.shape=torch.Size([48460, 8])\n",
      "targets.shape=torch.Size([48460, 8])\n",
      "14040\n"
     ]
    },
    {
     "name": "stderr",
     "output_type": "stream",
     "text": [
      " 11%|█         | 544/5000 [11:48<1:34:34,  1.27s/it]"
     ]
    },
    {
     "name": "stdout",
     "output_type": "stream",
     "text": [
      "output.shape=torch.Size([20, 2423, 8])\n",
      "targets.shape=torch.Size([20, 2423, 8])\n",
      "torch.Size([48460]) torch.Size([48460])\n",
      "12542\n",
      "stacked output.shape=torch.Size([48460, 8])\n",
      "targets.shape=torch.Size([48460, 8])\n",
      "13960\n"
     ]
    },
    {
     "name": "stderr",
     "output_type": "stream",
     "text": [
      " 11%|█         | 547/5000 [11:52<1:34:47,  1.28s/it]"
     ]
    },
    {
     "name": "stdout",
     "output_type": "stream",
     "text": [
      "output.shape=torch.Size([20, 2423, 8])\n",
      "targets.shape=torch.Size([20, 2423, 8])\n",
      "torch.Size([48460]) torch.Size([48460])\n",
      "12492\n",
      "stacked output.shape=torch.Size([48460, 8])\n",
      "targets.shape=torch.Size([48460, 8])\n",
      "14180\n"
     ]
    },
    {
     "name": "stderr",
     "output_type": "stream",
     "text": [
      " 11%|█         | 550/5000 [11:55<1:34:35,  1.28s/it]"
     ]
    },
    {
     "name": "stdout",
     "output_type": "stream",
     "text": [
      "output.shape=torch.Size([20, 2423, 8])\n",
      "targets.shape=torch.Size([20, 2423, 8])\n",
      "torch.Size([48460]) torch.Size([48460])\n",
      "12544\n",
      "stacked output.shape=torch.Size([48460, 8])\n",
      "targets.shape=torch.Size([48460, 8])\n",
      "13980\n"
     ]
    },
    {
     "name": "stderr",
     "output_type": "stream",
     "text": [
      " 11%|█         | 553/5000 [11:59<1:34:53,  1.28s/it]"
     ]
    },
    {
     "name": "stdout",
     "output_type": "stream",
     "text": [
      "output.shape=torch.Size([20, 2423, 8])\n",
      "targets.shape=torch.Size([20, 2423, 8])\n",
      "torch.Size([48460]) torch.Size([48460])\n",
      "12565\n",
      "stacked output.shape=torch.Size([48460, 8])\n",
      "targets.shape=torch.Size([48460, 8])\n",
      "14080\n"
     ]
    },
    {
     "name": "stderr",
     "output_type": "stream",
     "text": [
      " 11%|█         | 556/5000 [12:03<1:33:44,  1.27s/it]"
     ]
    },
    {
     "name": "stdout",
     "output_type": "stream",
     "text": [
      "output.shape=torch.Size([20, 2423, 8])\n",
      "targets.shape=torch.Size([20, 2423, 8])\n",
      "torch.Size([48460]) torch.Size([48460])\n",
      "12575\n",
      "stacked output.shape=torch.Size([48460, 8])\n",
      "targets.shape=torch.Size([48460, 8])\n",
      "14280\n"
     ]
    },
    {
     "name": "stderr",
     "output_type": "stream",
     "text": [
      " 11%|█         | 559/5000 [12:07<1:34:09,  1.27s/it]"
     ]
    },
    {
     "name": "stdout",
     "output_type": "stream",
     "text": [
      "output.shape=torch.Size([20, 2423, 8])\n",
      "targets.shape=torch.Size([20, 2423, 8])\n",
      "torch.Size([48460]) torch.Size([48460])\n",
      "12621\n",
      "stacked output.shape=torch.Size([48460, 8])\n",
      "targets.shape=torch.Size([48460, 8])\n",
      "14300\n"
     ]
    },
    {
     "name": "stderr",
     "output_type": "stream",
     "text": [
      " 11%|█         | 562/5000 [12:10<1:34:33,  1.28s/it]"
     ]
    },
    {
     "name": "stdout",
     "output_type": "stream",
     "text": [
      "output.shape=torch.Size([20, 2423, 8])\n",
      "targets.shape=torch.Size([20, 2423, 8])\n",
      "torch.Size([48460]) torch.Size([48460])\n",
      "12581\n",
      "stacked output.shape=torch.Size([48460, 8])\n",
      "targets.shape=torch.Size([48460, 8])\n",
      "14120\n"
     ]
    },
    {
     "name": "stderr",
     "output_type": "stream",
     "text": [
      " 11%|█▏        | 565/5000 [12:14<1:33:51,  1.27s/it]"
     ]
    },
    {
     "name": "stdout",
     "output_type": "stream",
     "text": [
      "output.shape=torch.Size([20, 2423, 8])\n",
      "targets.shape=torch.Size([20, 2423, 8])\n",
      "torch.Size([48460]) torch.Size([48460])\n",
      "12547\n",
      "stacked output.shape=torch.Size([48460, 8])\n",
      "targets.shape=torch.Size([48460, 8])\n",
      "14080\n"
     ]
    },
    {
     "name": "stderr",
     "output_type": "stream",
     "text": [
      " 11%|█▏        | 568/5000 [12:18<1:34:32,  1.28s/it]"
     ]
    },
    {
     "name": "stdout",
     "output_type": "stream",
     "text": [
      "output.shape=torch.Size([20, 2423, 8])\n",
      "targets.shape=torch.Size([20, 2423, 8])\n",
      "torch.Size([48460]) torch.Size([48460])\n",
      "12580\n",
      "stacked output.shape=torch.Size([48460, 8])\n",
      "targets.shape=torch.Size([48460, 8])\n",
      "14120\n"
     ]
    },
    {
     "name": "stderr",
     "output_type": "stream",
     "text": [
      " 11%|█▏        | 571/5000 [12:21<1:34:22,  1.28s/it]"
     ]
    },
    {
     "name": "stdout",
     "output_type": "stream",
     "text": [
      "output.shape=torch.Size([20, 2423, 8])\n",
      "targets.shape=torch.Size([20, 2423, 8])\n",
      "torch.Size([48460]) torch.Size([48460])\n",
      "12583\n",
      "stacked output.shape=torch.Size([48460, 8])\n",
      "targets.shape=torch.Size([48460, 8])\n",
      "14140\n"
     ]
    },
    {
     "name": "stderr",
     "output_type": "stream",
     "text": [
      " 11%|█▏        | 574/5000 [12:25<1:34:44,  1.28s/it]"
     ]
    },
    {
     "name": "stdout",
     "output_type": "stream",
     "text": [
      "output.shape=torch.Size([20, 2423, 8])\n",
      "targets.shape=torch.Size([20, 2423, 8])\n",
      "torch.Size([48460]) torch.Size([48460])\n",
      "12622\n",
      "stacked output.shape=torch.Size([48460, 8])\n",
      "targets.shape=torch.Size([48460, 8])\n",
      "13960\n"
     ]
    },
    {
     "name": "stderr",
     "output_type": "stream",
     "text": [
      " 12%|█▏        | 577/5000 [12:29<1:34:17,  1.28s/it]"
     ]
    },
    {
     "name": "stdout",
     "output_type": "stream",
     "text": [
      "output.shape=torch.Size([20, 2423, 8])\n",
      "targets.shape=torch.Size([20, 2423, 8])\n",
      "torch.Size([48460]) torch.Size([48460])\n",
      "12565\n",
      "stacked output.shape=torch.Size([48460, 8])\n",
      "targets.shape=torch.Size([48460, 8])\n",
      "13900\n"
     ]
    },
    {
     "name": "stderr",
     "output_type": "stream",
     "text": [
      " 12%|█▏        | 580/5000 [12:33<1:34:13,  1.28s/it]"
     ]
    },
    {
     "name": "stdout",
     "output_type": "stream",
     "text": [
      "output.shape=torch.Size([20, 2423, 8])\n",
      "targets.shape=torch.Size([20, 2423, 8])\n",
      "torch.Size([48460]) torch.Size([48460])\n",
      "12632\n",
      "stacked output.shape=torch.Size([48460, 8])\n",
      "targets.shape=torch.Size([48460, 8])\n",
      "14140\n"
     ]
    },
    {
     "name": "stderr",
     "output_type": "stream",
     "text": [
      " 12%|█▏        | 583/5000 [12:37<1:34:28,  1.28s/it]"
     ]
    },
    {
     "name": "stdout",
     "output_type": "stream",
     "text": [
      "output.shape=torch.Size([20, 2423, 8])\n",
      "targets.shape=torch.Size([20, 2423, 8])\n",
      "torch.Size([48460]) torch.Size([48460])\n",
      "12669\n",
      "stacked output.shape=torch.Size([48460, 8])\n",
      "targets.shape=torch.Size([48460, 8])\n",
      "14220\n"
     ]
    },
    {
     "name": "stderr",
     "output_type": "stream",
     "text": [
      " 12%|█▏        | 586/5000 [12:40<1:33:32,  1.27s/it]"
     ]
    },
    {
     "name": "stdout",
     "output_type": "stream",
     "text": [
      "output.shape=torch.Size([20, 2423, 8])\n",
      "targets.shape=torch.Size([20, 2423, 8])\n",
      "torch.Size([48460]) torch.Size([48460])\n",
      "12683\n",
      "stacked output.shape=torch.Size([48460, 8])\n",
      "targets.shape=torch.Size([48460, 8])\n",
      "13960\n"
     ]
    },
    {
     "name": "stderr",
     "output_type": "stream",
     "text": [
      " 12%|█▏        | 589/5000 [12:44<1:34:36,  1.29s/it]"
     ]
    },
    {
     "name": "stdout",
     "output_type": "stream",
     "text": [
      "output.shape=torch.Size([20, 2423, 8])\n",
      "targets.shape=torch.Size([20, 2423, 8])\n",
      "torch.Size([48460]) torch.Size([48460])\n",
      "12679\n",
      "stacked output.shape=torch.Size([48460, 8])\n",
      "targets.shape=torch.Size([48460, 8])\n",
      "13940\n"
     ]
    },
    {
     "name": "stderr",
     "output_type": "stream",
     "text": [
      " 12%|█▏        | 592/5000 [12:48<1:34:08,  1.28s/it]"
     ]
    },
    {
     "name": "stdout",
     "output_type": "stream",
     "text": [
      "output.shape=torch.Size([20, 2423, 8])\n",
      "targets.shape=torch.Size([20, 2423, 8])\n",
      "torch.Size([48460]) torch.Size([48460])\n",
      "12609\n",
      "stacked output.shape=torch.Size([48460, 8])\n",
      "targets.shape=torch.Size([48460, 8])\n",
      "14140\n"
     ]
    },
    {
     "name": "stderr",
     "output_type": "stream",
     "text": [
      " 12%|█▏        | 595/5000 [12:52<1:34:23,  1.29s/it]"
     ]
    },
    {
     "name": "stdout",
     "output_type": "stream",
     "text": [
      "output.shape=torch.Size([20, 2423, 8])\n",
      "targets.shape=torch.Size([20, 2423, 8])\n",
      "torch.Size([48460]) torch.Size([48460])\n",
      "12632\n",
      "stacked output.shape=torch.Size([48460, 8])\n",
      "targets.shape=torch.Size([48460, 8])\n",
      "13960\n"
     ]
    },
    {
     "name": "stderr",
     "output_type": "stream",
     "text": [
      " 12%|█▏        | 598/5000 [12:55<1:33:10,  1.27s/it]"
     ]
    },
    {
     "name": "stdout",
     "output_type": "stream",
     "text": [
      "output.shape=torch.Size([20, 2423, 8])\n",
      "targets.shape=torch.Size([20, 2423, 8])\n",
      "torch.Size([48460]) torch.Size([48460])\n",
      "12686\n",
      "stacked output.shape=torch.Size([48460, 8])\n",
      "targets.shape=torch.Size([48460, 8])\n",
      "14040\n"
     ]
    },
    {
     "name": "stderr",
     "output_type": "stream",
     "text": [
      " 12%|█▏        | 601/5000 [12:59<1:34:15,  1.29s/it]"
     ]
    },
    {
     "name": "stdout",
     "output_type": "stream",
     "text": [
      "output.shape=torch.Size([20, 2423, 8])\n",
      "targets.shape=torch.Size([20, 2423, 8])\n",
      "torch.Size([48460]) torch.Size([48460])\n",
      "12643\n",
      "stacked output.shape=torch.Size([48460, 8])\n",
      "targets.shape=torch.Size([48460, 8])\n",
      "13940\n"
     ]
    },
    {
     "name": "stderr",
     "output_type": "stream",
     "text": [
      " 12%|█▏        | 604/5000 [13:03<1:33:53,  1.28s/it]"
     ]
    },
    {
     "name": "stdout",
     "output_type": "stream",
     "text": [
      "output.shape=torch.Size([20, 2423, 8])\n",
      "targets.shape=torch.Size([20, 2423, 8])\n",
      "torch.Size([48460]) torch.Size([48460])\n",
      "12666\n",
      "stacked output.shape=torch.Size([48460, 8])\n",
      "targets.shape=torch.Size([48460, 8])\n",
      "13740\n"
     ]
    },
    {
     "name": "stderr",
     "output_type": "stream",
     "text": [
      " 12%|█▏        | 607/5000 [13:06<1:33:35,  1.28s/it]"
     ]
    },
    {
     "name": "stdout",
     "output_type": "stream",
     "text": [
      "output.shape=torch.Size([20, 2423, 8])\n",
      "targets.shape=torch.Size([20, 2423, 8])\n",
      "torch.Size([48460]) torch.Size([48460])\n",
      "12698\n",
      "stacked output.shape=torch.Size([48460, 8])\n",
      "targets.shape=torch.Size([48460, 8])\n",
      "14060\n"
     ]
    },
    {
     "name": "stderr",
     "output_type": "stream",
     "text": [
      " 12%|█▏        | 610/5000 [13:10<1:33:17,  1.28s/it]"
     ]
    },
    {
     "name": "stdout",
     "output_type": "stream",
     "text": [
      "output.shape=torch.Size([20, 2423, 8])\n",
      "targets.shape=torch.Size([20, 2423, 8])\n",
      "torch.Size([48460]) torch.Size([48460])\n",
      "12657\n",
      "stacked output.shape=torch.Size([48460, 8])\n",
      "targets.shape=torch.Size([48460, 8])\n",
      "13760\n"
     ]
    },
    {
     "name": "stderr",
     "output_type": "stream",
     "text": [
      " 12%|█▏        | 613/5000 [13:14<1:33:31,  1.28s/it]"
     ]
    },
    {
     "name": "stdout",
     "output_type": "stream",
     "text": [
      "output.shape=torch.Size([20, 2423, 8])\n",
      "targets.shape=torch.Size([20, 2423, 8])\n",
      "torch.Size([48460]) torch.Size([48460])\n",
      "12600\n",
      "stacked output.shape=torch.Size([48460, 8])\n",
      "targets.shape=torch.Size([48460, 8])\n",
      "13820\n"
     ]
    },
    {
     "name": "stderr",
     "output_type": "stream",
     "text": [
      " 12%|█▏        | 616/5000 [13:18<1:33:41,  1.28s/it]"
     ]
    },
    {
     "name": "stdout",
     "output_type": "stream",
     "text": [
      "output.shape=torch.Size([20, 2423, 8])\n",
      "targets.shape=torch.Size([20, 2423, 8])\n",
      "torch.Size([48460]) torch.Size([48460])\n",
      "12654\n",
      "stacked output.shape=torch.Size([48460, 8])\n",
      "targets.shape=torch.Size([48460, 8])\n",
      "13600\n"
     ]
    },
    {
     "name": "stderr",
     "output_type": "stream",
     "text": [
      " 12%|█▏        | 619/5000 [13:21<1:32:55,  1.27s/it]"
     ]
    },
    {
     "name": "stdout",
     "output_type": "stream",
     "text": [
      "output.shape=torch.Size([20, 2423, 8])\n",
      "targets.shape=torch.Size([20, 2423, 8])\n",
      "torch.Size([48460]) torch.Size([48460])\n",
      "12658\n",
      "stacked output.shape=torch.Size([48460, 8])\n",
      "targets.shape=torch.Size([48460, 8])\n",
      "13660\n"
     ]
    },
    {
     "name": "stderr",
     "output_type": "stream",
     "text": [
      " 12%|█▏        | 622/5000 [13:25<1:33:24,  1.28s/it]"
     ]
    },
    {
     "name": "stdout",
     "output_type": "stream",
     "text": [
      "output.shape=torch.Size([20, 2423, 8])\n",
      "targets.shape=torch.Size([20, 2423, 8])\n",
      "torch.Size([48460]) torch.Size([48460])\n",
      "12695\n",
      "stacked output.shape=torch.Size([48460, 8])\n",
      "targets.shape=torch.Size([48460, 8])\n",
      "14000\n"
     ]
    },
    {
     "name": "stderr",
     "output_type": "stream",
     "text": [
      " 12%|█▎        | 625/5000 [13:29<1:33:30,  1.28s/it]"
     ]
    },
    {
     "name": "stdout",
     "output_type": "stream",
     "text": [
      "output.shape=torch.Size([20, 2423, 8])\n",
      "targets.shape=torch.Size([20, 2423, 8])\n",
      "torch.Size([48460]) torch.Size([48460])\n",
      "12693\n",
      "stacked output.shape=torch.Size([48460, 8])\n",
      "targets.shape=torch.Size([48460, 8])\n",
      "13600\n"
     ]
    },
    {
     "name": "stderr",
     "output_type": "stream",
     "text": [
      " 13%|█▎        | 628/5000 [13:33<1:32:37,  1.27s/it]"
     ]
    },
    {
     "name": "stdout",
     "output_type": "stream",
     "text": [
      "output.shape=torch.Size([20, 2423, 8])\n",
      "targets.shape=torch.Size([20, 2423, 8])\n",
      "torch.Size([48460]) torch.Size([48460])\n",
      "12694\n",
      "stacked output.shape=torch.Size([48460, 8])\n",
      "targets.shape=torch.Size([48460, 8])\n",
      "13760\n"
     ]
    },
    {
     "name": "stderr",
     "output_type": "stream",
     "text": [
      " 13%|█▎        | 631/5000 [13:36<1:32:59,  1.28s/it]"
     ]
    },
    {
     "name": "stdout",
     "output_type": "stream",
     "text": [
      "output.shape=torch.Size([20, 2423, 8])\n",
      "targets.shape=torch.Size([20, 2423, 8])\n",
      "torch.Size([48460]) torch.Size([48460])\n",
      "12652\n",
      "stacked output.shape=torch.Size([48460, 8])\n",
      "targets.shape=torch.Size([48460, 8])\n",
      "13520\n"
     ]
    },
    {
     "name": "stderr",
     "output_type": "stream",
     "text": [
      " 13%|█▎        | 634/5000 [13:40<1:33:20,  1.28s/it]"
     ]
    },
    {
     "name": "stdout",
     "output_type": "stream",
     "text": [
      "output.shape=torch.Size([20, 2423, 8])\n",
      "targets.shape=torch.Size([20, 2423, 8])\n",
      "torch.Size([48460]) torch.Size([48460])\n",
      "12663\n",
      "stacked output.shape=torch.Size([48460, 8])\n",
      "targets.shape=torch.Size([48460, 8])\n",
      "13820\n"
     ]
    },
    {
     "name": "stderr",
     "output_type": "stream",
     "text": [
      " 13%|█▎        | 637/5000 [13:44<1:33:42,  1.29s/it]"
     ]
    },
    {
     "name": "stdout",
     "output_type": "stream",
     "text": [
      "output.shape=torch.Size([20, 2423, 8])\n",
      "targets.shape=torch.Size([20, 2423, 8])\n",
      "torch.Size([48460]) torch.Size([48460])\n",
      "12653\n",
      "stacked output.shape=torch.Size([48460, 8])\n",
      "targets.shape=torch.Size([48460, 8])\n",
      "13800\n"
     ]
    },
    {
     "name": "stderr",
     "output_type": "stream",
     "text": [
      " 13%|█▎        | 640/5000 [13:48<1:32:41,  1.28s/it]"
     ]
    },
    {
     "name": "stdout",
     "output_type": "stream",
     "text": [
      "output.shape=torch.Size([20, 2423, 8])\n",
      "targets.shape=torch.Size([20, 2423, 8])\n",
      "torch.Size([48460]) torch.Size([48460])\n",
      "12734\n",
      "stacked output.shape=torch.Size([48460, 8])\n",
      "targets.shape=torch.Size([48460, 8])\n",
      "13720\n"
     ]
    },
    {
     "name": "stderr",
     "output_type": "stream",
     "text": [
      " 13%|█▎        | 643/5000 [13:51<1:32:39,  1.28s/it]"
     ]
    },
    {
     "name": "stdout",
     "output_type": "stream",
     "text": [
      "output.shape=torch.Size([20, 2423, 8])\n",
      "targets.shape=torch.Size([20, 2423, 8])\n",
      "torch.Size([48460]) torch.Size([48460])\n",
      "12652\n",
      "stacked output.shape=torch.Size([48460, 8])\n",
      "targets.shape=torch.Size([48460, 8])\n",
      "13760\n"
     ]
    },
    {
     "name": "stderr",
     "output_type": "stream",
     "text": [
      " 13%|█▎        | 646/5000 [13:55<1:32:36,  1.28s/it]"
     ]
    },
    {
     "name": "stdout",
     "output_type": "stream",
     "text": [
      "output.shape=torch.Size([20, 2423, 8])\n",
      "targets.shape=torch.Size([20, 2423, 8])\n",
      "torch.Size([48460]) torch.Size([48460])\n",
      "12692\n",
      "stacked output.shape=torch.Size([48460, 8])\n",
      "targets.shape=torch.Size([48460, 8])\n",
      "13760\n"
     ]
    },
    {
     "name": "stderr",
     "output_type": "stream",
     "text": [
      " 13%|█▎        | 649/5000 [13:59<1:32:17,  1.27s/it]"
     ]
    },
    {
     "name": "stdout",
     "output_type": "stream",
     "text": [
      "output.shape=torch.Size([20, 2423, 8])\n",
      "targets.shape=torch.Size([20, 2423, 8])\n",
      "torch.Size([48460]) torch.Size([48460])\n",
      "12735\n",
      "stacked output.shape=torch.Size([48460, 8])\n",
      "targets.shape=torch.Size([48460, 8])\n",
      "13880\n"
     ]
    },
    {
     "name": "stderr",
     "output_type": "stream",
     "text": [
      " 13%|█▎        | 652/5000 [14:03<1:32:29,  1.28s/it]"
     ]
    },
    {
     "name": "stdout",
     "output_type": "stream",
     "text": [
      "output.shape=torch.Size([20, 2423, 8])\n",
      "targets.shape=torch.Size([20, 2423, 8])\n",
      "torch.Size([48460]) torch.Size([48460])\n",
      "12671\n",
      "stacked output.shape=torch.Size([48460, 8])\n",
      "targets.shape=torch.Size([48460, 8])\n",
      "13560\n"
     ]
    },
    {
     "name": "stderr",
     "output_type": "stream",
     "text": [
      " 13%|█▎        | 655/5000 [14:06<1:32:35,  1.28s/it]"
     ]
    },
    {
     "name": "stdout",
     "output_type": "stream",
     "text": [
      "output.shape=torch.Size([20, 2423, 8])\n",
      "targets.shape=torch.Size([20, 2423, 8])\n",
      "torch.Size([48460]) torch.Size([48460])\n",
      "12740\n",
      "stacked output.shape=torch.Size([48460, 8])\n",
      "targets.shape=torch.Size([48460, 8])\n",
      "13780\n"
     ]
    },
    {
     "name": "stderr",
     "output_type": "stream",
     "text": [
      " 13%|█▎        | 658/5000 [14:10<1:32:02,  1.27s/it]"
     ]
    },
    {
     "name": "stdout",
     "output_type": "stream",
     "text": [
      "output.shape=torch.Size([20, 2423, 8])\n",
      "targets.shape=torch.Size([20, 2423, 8])\n",
      "torch.Size([48460]) torch.Size([48460])\n",
      "12697\n",
      "stacked output.shape=torch.Size([48460, 8])\n",
      "targets.shape=torch.Size([48460, 8])\n",
      "13520\n"
     ]
    },
    {
     "name": "stderr",
     "output_type": "stream",
     "text": [
      " 13%|█▎        | 661/5000 [14:14<1:32:37,  1.28s/it]"
     ]
    },
    {
     "name": "stdout",
     "output_type": "stream",
     "text": [
      "output.shape=torch.Size([20, 2423, 8])\n",
      "targets.shape=torch.Size([20, 2423, 8])\n",
      "torch.Size([48460]) torch.Size([48460])\n",
      "12720\n",
      "stacked output.shape=torch.Size([48460, 8])\n",
      "targets.shape=torch.Size([48460, 8])\n",
      "13500\n"
     ]
    },
    {
     "name": "stderr",
     "output_type": "stream",
     "text": [
      " 13%|█▎        | 664/5000 [14:17<1:32:28,  1.28s/it]"
     ]
    },
    {
     "name": "stdout",
     "output_type": "stream",
     "text": [
      "output.shape=torch.Size([20, 2423, 8])\n",
      "targets.shape=torch.Size([20, 2423, 8])\n",
      "torch.Size([48460]) torch.Size([48460])\n",
      "12688\n",
      "stacked output.shape=torch.Size([48460, 8])\n",
      "targets.shape=torch.Size([48460, 8])\n",
      "13880\n"
     ]
    },
    {
     "name": "stderr",
     "output_type": "stream",
     "text": [
      " 13%|█▎        | 667/5000 [14:21<1:32:38,  1.28s/it]"
     ]
    },
    {
     "name": "stdout",
     "output_type": "stream",
     "text": [
      "output.shape=torch.Size([20, 2423, 8])\n",
      "targets.shape=torch.Size([20, 2423, 8])\n",
      "torch.Size([48460]) torch.Size([48460])\n",
      "12686\n",
      "stacked output.shape=torch.Size([48460, 8])\n",
      "targets.shape=torch.Size([48460, 8])\n",
      "13820\n"
     ]
    },
    {
     "name": "stderr",
     "output_type": "stream",
     "text": [
      " 13%|█▎        | 670/5000 [14:25<1:32:21,  1.28s/it]"
     ]
    },
    {
     "name": "stdout",
     "output_type": "stream",
     "text": [
      "output.shape=torch.Size([20, 2423, 8])\n",
      "targets.shape=torch.Size([20, 2423, 8])\n",
      "torch.Size([48460]) torch.Size([48460])\n",
      "12701\n",
      "stacked output.shape=torch.Size([48460, 8])\n",
      "targets.shape=torch.Size([48460, 8])\n",
      "13640\n"
     ]
    },
    {
     "name": "stderr",
     "output_type": "stream",
     "text": [
      " 13%|█▎        | 673/5000 [14:29<1:32:10,  1.28s/it]"
     ]
    },
    {
     "name": "stdout",
     "output_type": "stream",
     "text": [
      "output.shape=torch.Size([20, 2423, 8])\n",
      "targets.shape=torch.Size([20, 2423, 8])\n",
      "torch.Size([48460]) torch.Size([48460])\n",
      "12752\n",
      "stacked output.shape=torch.Size([48460, 8])\n",
      "targets.shape=torch.Size([48460, 8])\n",
      "13780\n"
     ]
    },
    {
     "name": "stderr",
     "output_type": "stream",
     "text": [
      " 14%|█▎        | 676/5000 [14:32<1:32:29,  1.28s/it]"
     ]
    },
    {
     "name": "stdout",
     "output_type": "stream",
     "text": [
      "output.shape=torch.Size([20, 2423, 8])\n",
      "targets.shape=torch.Size([20, 2423, 8])\n",
      "torch.Size([48460]) torch.Size([48460])\n",
      "12734\n",
      "stacked output.shape=torch.Size([48460, 8])\n",
      "targets.shape=torch.Size([48460, 8])\n",
      "13660\n"
     ]
    },
    {
     "name": "stderr",
     "output_type": "stream",
     "text": [
      " 14%|█▎        | 679/5000 [14:36<1:33:18,  1.30s/it]"
     ]
    },
    {
     "name": "stdout",
     "output_type": "stream",
     "text": [
      "output.shape=torch.Size([20, 2423, 8])\n",
      "targets.shape=torch.Size([20, 2423, 8])\n",
      "torch.Size([48460]) torch.Size([48460])\n",
      "12748\n",
      "stacked output.shape=torch.Size([48460, 8])\n",
      "targets.shape=torch.Size([48460, 8])\n",
      "13960\n"
     ]
    },
    {
     "name": "stderr",
     "output_type": "stream",
     "text": [
      " 14%|█▎        | 682/5000 [14:40<1:34:12,  1.31s/it]"
     ]
    },
    {
     "name": "stdout",
     "output_type": "stream",
     "text": [
      "output.shape=torch.Size([20, 2423, 8])\n",
      "targets.shape=torch.Size([20, 2423, 8])\n",
      "torch.Size([48460]) torch.Size([48460])\n",
      "12789\n",
      "stacked output.shape=torch.Size([48460, 8])\n",
      "targets.shape=torch.Size([48460, 8])\n",
      "14040\n"
     ]
    },
    {
     "name": "stderr",
     "output_type": "stream",
     "text": [
      " 14%|█▎        | 685/5000 [14:44<1:34:34,  1.32s/it]"
     ]
    },
    {
     "name": "stdout",
     "output_type": "stream",
     "text": [
      "output.shape=torch.Size([20, 2423, 8])\n",
      "targets.shape=torch.Size([20, 2423, 8])\n",
      "torch.Size([48460]) torch.Size([48460])\n",
      "12744\n",
      "stacked output.shape=torch.Size([48460, 8])\n",
      "targets.shape=torch.Size([48460, 8])\n",
      "13840\n"
     ]
    },
    {
     "name": "stderr",
     "output_type": "stream",
     "text": [
      " 14%|█▎        | 687/5000 [14:46<1:29:37,  1.25s/it]"
     ]
    },
    {
     "name": "stdout",
     "output_type": "stream",
     "text": [
      "output.shape=torch.Size([20, 2423, 8])\n",
      "targets.shape=torch.Size([20, 2423, 8])\n",
      "torch.Size([48460]) torch.Size([48460])\n",
      "12775\n",
      "stacked output.shape=torch.Size([48460, 8])\n",
      "targets.shape=torch.Size([48460, 8])\n",
      "13800\n"
     ]
    },
    {
     "name": "stderr",
     "output_type": "stream",
     "text": [
      " 14%|█▍        | 691/5000 [14:52<1:41:10,  1.41s/it]"
     ]
    },
    {
     "name": "stdout",
     "output_type": "stream",
     "text": [
      "output.shape=torch.Size([20, 2423, 8])\n",
      "targets.shape=torch.Size([20, 2423, 8])\n",
      "torch.Size([48460]) torch.Size([48460])\n",
      "12767\n",
      "stacked output.shape=torch.Size([48460, 8])\n",
      "targets.shape=torch.Size([48460, 8])\n",
      "13700\n"
     ]
    },
    {
     "name": "stderr",
     "output_type": "stream",
     "text": [
      " 14%|█▍        | 694/5000 [14:56<1:40:13,  1.40s/it]"
     ]
    },
    {
     "name": "stdout",
     "output_type": "stream",
     "text": [
      "output.shape=torch.Size([20, 2423, 8])\n",
      "targets.shape=torch.Size([20, 2423, 8])\n",
      "torch.Size([48460]) torch.Size([48460])\n",
      "12735\n",
      "stacked output.shape=torch.Size([48460, 8])\n",
      "targets.shape=torch.Size([48460, 8])\n",
      "13800\n"
     ]
    },
    {
     "name": "stderr",
     "output_type": "stream",
     "text": [
      " 14%|█▍        | 697/5000 [15:00<1:40:22,  1.40s/it]"
     ]
    },
    {
     "name": "stdout",
     "output_type": "stream",
     "text": [
      "output.shape=torch.Size([20, 2423, 8])\n",
      "targets.shape=torch.Size([20, 2423, 8])\n",
      "torch.Size([48460]) torch.Size([48460])\n",
      "12708\n",
      "stacked output.shape=torch.Size([48460, 8])\n",
      "targets.shape=torch.Size([48460, 8])\n",
      "13420\n"
     ]
    },
    {
     "name": "stderr",
     "output_type": "stream",
     "text": [
      " 14%|█▍        | 700/5000 [15:04<1:37:51,  1.37s/it]"
     ]
    },
    {
     "name": "stdout",
     "output_type": "stream",
     "text": [
      "output.shape=torch.Size([20, 2423, 8])\n",
      "targets.shape=torch.Size([20, 2423, 8])\n",
      "torch.Size([48460]) torch.Size([48460])\n",
      "12695\n",
      "stacked output.shape=torch.Size([48460, 8])\n",
      "targets.shape=torch.Size([48460, 8])\n",
      "13640\n"
     ]
    },
    {
     "name": "stderr",
     "output_type": "stream",
     "text": [
      " 14%|█▍        | 703/5000 [15:08<1:37:21,  1.36s/it]"
     ]
    },
    {
     "name": "stdout",
     "output_type": "stream",
     "text": [
      "output.shape=torch.Size([20, 2423, 8])\n",
      "targets.shape=torch.Size([20, 2423, 8])\n",
      "torch.Size([48460]) torch.Size([48460])\n",
      "12725\n",
      "stacked output.shape=torch.Size([48460, 8])\n",
      "targets.shape=torch.Size([48460, 8])\n",
      "13720\n"
     ]
    },
    {
     "name": "stderr",
     "output_type": "stream",
     "text": [
      " 14%|█▍        | 706/5000 [15:12<1:36:46,  1.35s/it]"
     ]
    },
    {
     "name": "stdout",
     "output_type": "stream",
     "text": [
      "output.shape=torch.Size([20, 2423, 8])\n",
      "targets.shape=torch.Size([20, 2423, 8])\n",
      "torch.Size([48460]) torch.Size([48460])\n",
      "12693\n",
      "stacked output.shape=torch.Size([48460, 8])\n",
      "targets.shape=torch.Size([48460, 8])\n",
      "13660\n"
     ]
    },
    {
     "name": "stderr",
     "output_type": "stream",
     "text": [
      " 14%|█▍        | 709/5000 [15:16<1:35:28,  1.34s/it]"
     ]
    },
    {
     "name": "stdout",
     "output_type": "stream",
     "text": [
      "output.shape=torch.Size([20, 2423, 8])\n",
      "targets.shape=torch.Size([20, 2423, 8])\n",
      "torch.Size([48460]) torch.Size([48460])\n",
      "12707\n",
      "stacked output.shape=torch.Size([48460, 8])\n",
      "targets.shape=torch.Size([48460, 8])\n",
      "13720\n"
     ]
    },
    {
     "name": "stderr",
     "output_type": "stream",
     "text": [
      " 14%|█▍        | 712/5000 [15:20<1:37:14,  1.36s/it]"
     ]
    },
    {
     "name": "stdout",
     "output_type": "stream",
     "text": [
      "output.shape=torch.Size([20, 2423, 8])\n",
      "targets.shape=torch.Size([20, 2423, 8])\n",
      "torch.Size([48460]) torch.Size([48460])\n",
      "12740\n",
      "stacked output.shape=torch.Size([48460, 8])\n",
      "targets.shape=torch.Size([48460, 8])\n",
      "13680\n"
     ]
    },
    {
     "name": "stderr",
     "output_type": "stream",
     "text": [
      " 14%|█▍        | 715/5000 [15:24<1:34:41,  1.33s/it]"
     ]
    },
    {
     "name": "stdout",
     "output_type": "stream",
     "text": [
      "output.shape=torch.Size([20, 2423, 8])\n",
      "targets.shape=torch.Size([20, 2423, 8])\n",
      "torch.Size([48460]) torch.Size([48460])\n",
      "12669\n",
      "stacked output.shape=torch.Size([48460, 8])\n",
      "targets.shape=torch.Size([48460, 8])\n",
      "13400\n"
     ]
    },
    {
     "name": "stderr",
     "output_type": "stream",
     "text": [
      " 14%|█▍        | 718/5000 [15:28<1:34:15,  1.32s/it]"
     ]
    },
    {
     "name": "stdout",
     "output_type": "stream",
     "text": [
      "output.shape=torch.Size([20, 2423, 8])\n",
      "targets.shape=torch.Size([20, 2423, 8])\n",
      "torch.Size([48460]) torch.Size([48460])\n",
      "12730\n",
      "stacked output.shape=torch.Size([48460, 8])\n",
      "targets.shape=torch.Size([48460, 8])\n",
      "13700\n"
     ]
    },
    {
     "name": "stderr",
     "output_type": "stream",
     "text": [
      " 14%|█▍        | 721/5000 [15:32<1:34:22,  1.32s/it]"
     ]
    },
    {
     "name": "stdout",
     "output_type": "stream",
     "text": [
      "output.shape=torch.Size([20, 2423, 8])\n",
      "targets.shape=torch.Size([20, 2423, 8])\n",
      "torch.Size([48460]) torch.Size([48460])\n",
      "12749\n",
      "stacked output.shape=torch.Size([48460, 8])\n",
      "targets.shape=torch.Size([48460, 8])\n",
      "13520\n"
     ]
    },
    {
     "name": "stderr",
     "output_type": "stream",
     "text": [
      " 14%|█▍        | 724/5000 [15:36<1:33:24,  1.31s/it]"
     ]
    },
    {
     "name": "stdout",
     "output_type": "stream",
     "text": [
      "output.shape=torch.Size([20, 2423, 8])\n",
      "targets.shape=torch.Size([20, 2423, 8])\n",
      "torch.Size([48460]) torch.Size([48460])\n",
      "12774\n",
      "stacked output.shape=torch.Size([48460, 8])\n",
      "targets.shape=torch.Size([48460, 8])\n",
      "13400\n"
     ]
    },
    {
     "name": "stderr",
     "output_type": "stream",
     "text": [
      " 15%|█▍        | 727/5000 [15:40<1:33:53,  1.32s/it]"
     ]
    },
    {
     "name": "stdout",
     "output_type": "stream",
     "text": [
      "output.shape=torch.Size([20, 2423, 8])\n",
      "targets.shape=torch.Size([20, 2423, 8])\n",
      "torch.Size([48460]) torch.Size([48460])\n",
      "12749\n",
      "stacked output.shape=torch.Size([48460, 8])\n",
      "targets.shape=torch.Size([48460, 8])\n",
      "13480\n"
     ]
    },
    {
     "name": "stderr",
     "output_type": "stream",
     "text": [
      " 15%|█▍        | 730/5000 [15:43<1:34:17,  1.32s/it]"
     ]
    },
    {
     "name": "stdout",
     "output_type": "stream",
     "text": [
      "output.shape=torch.Size([20, 2423, 8])\n",
      "targets.shape=torch.Size([20, 2423, 8])\n",
      "torch.Size([48460]) torch.Size([48460])\n",
      "12726\n",
      "stacked output.shape=torch.Size([48460, 8])\n",
      "targets.shape=torch.Size([48460, 8])\n",
      "13540\n"
     ]
    },
    {
     "name": "stderr",
     "output_type": "stream",
     "text": [
      " 15%|█▍        | 733/5000 [15:47<1:34:04,  1.32s/it]"
     ]
    },
    {
     "name": "stdout",
     "output_type": "stream",
     "text": [
      "output.shape=torch.Size([20, 2423, 8])\n",
      "targets.shape=torch.Size([20, 2423, 8])\n",
      "torch.Size([48460]) torch.Size([48460])\n",
      "12678\n",
      "stacked output.shape=torch.Size([48460, 8])\n",
      "targets.shape=torch.Size([48460, 8])\n",
      "13410\n"
     ]
    },
    {
     "name": "stderr",
     "output_type": "stream",
     "text": [
      " 15%|█▍        | 736/5000 [15:51<1:34:11,  1.33s/it]"
     ]
    },
    {
     "name": "stdout",
     "output_type": "stream",
     "text": [
      "output.shape=torch.Size([20, 2423, 8])\n",
      "targets.shape=torch.Size([20, 2423, 8])\n",
      "torch.Size([48460]) torch.Size([48460])\n",
      "12702\n",
      "stacked output.shape=torch.Size([48460, 8])\n",
      "targets.shape=torch.Size([48460, 8])\n",
      "13520\n"
     ]
    },
    {
     "name": "stderr",
     "output_type": "stream",
     "text": [
      " 15%|█▍        | 739/5000 [15:55<1:33:32,  1.32s/it]"
     ]
    },
    {
     "name": "stdout",
     "output_type": "stream",
     "text": [
      "output.shape=torch.Size([20, 2423, 8])\n",
      "targets.shape=torch.Size([20, 2423, 8])\n",
      "torch.Size([48460]) torch.Size([48460])\n",
      "12735\n",
      "stacked output.shape=torch.Size([48460, 8])\n",
      "targets.shape=torch.Size([48460, 8])\n",
      "13280\n"
     ]
    },
    {
     "name": "stderr",
     "output_type": "stream",
     "text": [
      " 15%|█▍        | 742/5000 [15:59<1:33:42,  1.32s/it]"
     ]
    },
    {
     "name": "stdout",
     "output_type": "stream",
     "text": [
      "output.shape=torch.Size([20, 2423, 8])\n",
      "targets.shape=torch.Size([20, 2423, 8])\n",
      "torch.Size([48460]) torch.Size([48460])\n",
      "12768\n",
      "stacked output.shape=torch.Size([48460, 8])\n",
      "targets.shape=torch.Size([48460, 8])\n",
      "13500\n"
     ]
    },
    {
     "name": "stderr",
     "output_type": "stream",
     "text": [
      " 15%|█▍        | 745/5000 [16:03<1:32:37,  1.31s/it]"
     ]
    },
    {
     "name": "stdout",
     "output_type": "stream",
     "text": [
      "output.shape=torch.Size([20, 2423, 8])\n",
      "targets.shape=torch.Size([20, 2423, 8])\n",
      "torch.Size([48460]) torch.Size([48460])\n",
      "12695\n",
      "stacked output.shape=torch.Size([48460, 8])\n",
      "targets.shape=torch.Size([48460, 8])\n",
      "13780\n"
     ]
    },
    {
     "name": "stderr",
     "output_type": "stream",
     "text": [
      " 15%|█▍        | 748/5000 [16:07<1:32:58,  1.31s/it]"
     ]
    },
    {
     "name": "stdout",
     "output_type": "stream",
     "text": [
      "output.shape=torch.Size([20, 2423, 8])\n",
      "targets.shape=torch.Size([20, 2423, 8])\n",
      "torch.Size([48460]) torch.Size([48460])\n",
      "12728\n",
      "stacked output.shape=torch.Size([48460, 8])\n",
      "targets.shape=torch.Size([48460, 8])\n",
      "13520\n"
     ]
    },
    {
     "name": "stderr",
     "output_type": "stream",
     "text": [
      " 15%|█▌        | 751/5000 [16:10<1:33:27,  1.32s/it]"
     ]
    },
    {
     "name": "stdout",
     "output_type": "stream",
     "text": [
      "output.shape=torch.Size([20, 2423, 8])\n",
      "targets.shape=torch.Size([20, 2423, 8])\n",
      "torch.Size([48460]) torch.Size([48460])\n",
      "12717\n",
      "stacked output.shape=torch.Size([48460, 8])\n",
      "targets.shape=torch.Size([48460, 8])\n",
      "13540\n"
     ]
    },
    {
     "name": "stderr",
     "output_type": "stream",
     "text": [
      " 15%|█▌        | 754/5000 [16:14<1:32:24,  1.31s/it]"
     ]
    },
    {
     "name": "stdout",
     "output_type": "stream",
     "text": [
      "output.shape=torch.Size([20, 2423, 8])\n",
      "targets.shape=torch.Size([20, 2423, 8])\n",
      "torch.Size([48460]) torch.Size([48460])\n",
      "12762\n",
      "stacked output.shape=torch.Size([48460, 8])\n",
      "targets.shape=torch.Size([48460, 8])\n",
      "13480\n"
     ]
    },
    {
     "name": "stderr",
     "output_type": "stream",
     "text": [
      " 15%|█▌        | 757/5000 [16:18<1:32:38,  1.31s/it]"
     ]
    },
    {
     "name": "stdout",
     "output_type": "stream",
     "text": [
      "output.shape=torch.Size([20, 2423, 8])\n",
      "targets.shape=torch.Size([20, 2423, 8])\n",
      "torch.Size([48460]) torch.Size([48460])\n",
      "12716\n",
      "stacked output.shape=torch.Size([48460, 8])\n",
      "targets.shape=torch.Size([48460, 8])\n",
      "13580\n"
     ]
    },
    {
     "name": "stderr",
     "output_type": "stream",
     "text": [
      " 15%|█▌        | 760/5000 [16:22<1:32:58,  1.32s/it]"
     ]
    },
    {
     "name": "stdout",
     "output_type": "stream",
     "text": [
      "output.shape=torch.Size([20, 2423, 8])\n",
      "targets.shape=torch.Size([20, 2423, 8])\n",
      "torch.Size([48460]) torch.Size([48460])\n",
      "12783\n",
      "stacked output.shape=torch.Size([48460, 8])\n",
      "targets.shape=torch.Size([48460, 8])\n",
      "13600\n"
     ]
    },
    {
     "name": "stderr",
     "output_type": "stream",
     "text": [
      " 15%|█▌        | 763/5000 [16:26<1:34:22,  1.34s/it]"
     ]
    },
    {
     "name": "stdout",
     "output_type": "stream",
     "text": [
      "output.shape=torch.Size([20, 2423, 8])\n",
      "targets.shape=torch.Size([20, 2423, 8])\n",
      "torch.Size([48460]) torch.Size([48460])\n",
      "12737\n",
      "stacked output.shape=torch.Size([48460, 8])\n",
      "targets.shape=torch.Size([48460, 8])\n",
      "13560\n"
     ]
    },
    {
     "name": "stderr",
     "output_type": "stream",
     "text": [
      " 15%|█▌        | 766/5000 [16:30<1:34:16,  1.34s/it]"
     ]
    },
    {
     "name": "stdout",
     "output_type": "stream",
     "text": [
      "output.shape=torch.Size([20, 2423, 8])\n",
      "targets.shape=torch.Size([20, 2423, 8])\n",
      "torch.Size([48460]) torch.Size([48460])\n",
      "12718\n",
      "stacked output.shape=torch.Size([48460, 8])\n",
      "targets.shape=torch.Size([48460, 8])\n",
      "13500\n"
     ]
    },
    {
     "name": "stderr",
     "output_type": "stream",
     "text": [
      " 15%|█▌        | 769/5000 [16:34<1:33:53,  1.33s/it]"
     ]
    },
    {
     "name": "stdout",
     "output_type": "stream",
     "text": [
      "output.shape=torch.Size([20, 2423, 8])\n",
      "targets.shape=torch.Size([20, 2423, 8])\n",
      "torch.Size([48460]) torch.Size([48460])\n",
      "12754\n",
      "stacked output.shape=torch.Size([48460, 8])\n",
      "targets.shape=torch.Size([48460, 8])\n",
      "13660\n"
     ]
    },
    {
     "name": "stderr",
     "output_type": "stream",
     "text": [
      " 15%|█▌        | 772/5000 [16:38<1:34:05,  1.34s/it]"
     ]
    },
    {
     "name": "stdout",
     "output_type": "stream",
     "text": [
      "output.shape=torch.Size([20, 2423, 8])\n",
      "targets.shape=torch.Size([20, 2423, 8])\n",
      "torch.Size([48460]) torch.Size([48460])\n",
      "12651\n",
      "stacked output.shape=torch.Size([48460, 8])\n",
      "targets.shape=torch.Size([48460, 8])\n",
      "13420\n"
     ]
    },
    {
     "name": "stderr",
     "output_type": "stream",
     "text": [
      " 16%|█▌        | 775/5000 [16:42<1:33:05,  1.32s/it]"
     ]
    },
    {
     "name": "stdout",
     "output_type": "stream",
     "text": [
      "output.shape=torch.Size([20, 2423, 8])\n",
      "targets.shape=torch.Size([20, 2423, 8])\n",
      "torch.Size([48460]) torch.Size([48460])\n",
      "12682\n",
      "stacked output.shape=torch.Size([48460, 8])\n",
      "targets.shape=torch.Size([48460, 8])\n",
      "13600\n"
     ]
    },
    {
     "name": "stderr",
     "output_type": "stream",
     "text": [
      " 16%|█▌        | 778/5000 [16:45<1:33:10,  1.32s/it]"
     ]
    },
    {
     "name": "stdout",
     "output_type": "stream",
     "text": [
      "output.shape=torch.Size([20, 2423, 8])\n",
      "targets.shape=torch.Size([20, 2423, 8])\n",
      "torch.Size([48460]) torch.Size([48460])\n",
      "12712\n",
      "stacked output.shape=torch.Size([48460, 8])\n",
      "targets.shape=torch.Size([48460, 8])\n",
      "13580\n"
     ]
    },
    {
     "name": "stderr",
     "output_type": "stream",
     "text": [
      " 16%|█▌        | 781/5000 [16:49<1:33:30,  1.33s/it]"
     ]
    },
    {
     "name": "stdout",
     "output_type": "stream",
     "text": [
      "output.shape=torch.Size([20, 2423, 8])\n",
      "targets.shape=torch.Size([20, 2423, 8])\n",
      "torch.Size([48460]) torch.Size([48460])\n",
      "12680\n",
      "stacked output.shape=torch.Size([48460, 8])\n",
      "targets.shape=torch.Size([48460, 8])\n",
      "13460\n"
     ]
    },
    {
     "name": "stderr",
     "output_type": "stream",
     "text": [
      " 16%|█▌        | 784/5000 [16:53<1:32:46,  1.32s/it]"
     ]
    },
    {
     "name": "stdout",
     "output_type": "stream",
     "text": [
      "output.shape=torch.Size([20, 2423, 8])\n",
      "targets.shape=torch.Size([20, 2423, 8])\n",
      "torch.Size([48460]) torch.Size([48460])\n",
      "12657\n",
      "stacked output.shape=torch.Size([48460, 8])\n",
      "targets.shape=torch.Size([48460, 8])\n",
      "13460\n"
     ]
    },
    {
     "name": "stderr",
     "output_type": "stream",
     "text": [
      " 16%|█▌        | 787/5000 [16:57<1:32:47,  1.32s/it]"
     ]
    },
    {
     "name": "stdout",
     "output_type": "stream",
     "text": [
      "output.shape=torch.Size([20, 2423, 8])\n",
      "targets.shape=torch.Size([20, 2423, 8])\n",
      "torch.Size([48460]) torch.Size([48460])\n",
      "12658\n",
      "stacked output.shape=torch.Size([48460, 8])\n",
      "targets.shape=torch.Size([48460, 8])\n",
      "13340\n"
     ]
    },
    {
     "name": "stderr",
     "output_type": "stream",
     "text": [
      " 16%|█▌        | 790/5000 [17:01<1:32:44,  1.32s/it]"
     ]
    },
    {
     "name": "stdout",
     "output_type": "stream",
     "text": [
      "output.shape=torch.Size([20, 2423, 8])\n",
      "targets.shape=torch.Size([20, 2423, 8])\n",
      "torch.Size([48460]) torch.Size([48460])\n",
      "12722\n",
      "stacked output.shape=torch.Size([48460, 8])\n",
      "targets.shape=torch.Size([48460, 8])\n",
      "13500\n"
     ]
    },
    {
     "name": "stderr",
     "output_type": "stream",
     "text": [
      " 16%|█▌        | 793/5000 [17:05<1:33:17,  1.33s/it]"
     ]
    },
    {
     "name": "stdout",
     "output_type": "stream",
     "text": [
      "output.shape=torch.Size([20, 2423, 8])\n",
      "targets.shape=torch.Size([20, 2423, 8])\n",
      "torch.Size([48460]) torch.Size([48460])\n",
      "12665\n",
      "stacked output.shape=torch.Size([48460, 8])\n",
      "targets.shape=torch.Size([48460, 8])\n",
      "13240\n"
     ]
    },
    {
     "name": "stderr",
     "output_type": "stream",
     "text": [
      " 16%|█▌        | 796/5000 [17:09<1:31:43,  1.31s/it]"
     ]
    },
    {
     "name": "stdout",
     "output_type": "stream",
     "text": [
      "output.shape=torch.Size([20, 2423, 8])\n",
      "targets.shape=torch.Size([20, 2423, 8])\n",
      "torch.Size([48460]) torch.Size([48460])\n",
      "12675\n",
      "stacked output.shape=torch.Size([48460, 8])\n",
      "targets.shape=torch.Size([48460, 8])\n",
      "13380\n"
     ]
    },
    {
     "name": "stderr",
     "output_type": "stream",
     "text": [
      " 16%|█▌        | 799/5000 [17:13<1:32:43,  1.32s/it]"
     ]
    },
    {
     "name": "stdout",
     "output_type": "stream",
     "text": [
      "output.shape=torch.Size([20, 2423, 8])\n",
      "targets.shape=torch.Size([20, 2423, 8])\n",
      "torch.Size([48460]) torch.Size([48460])\n",
      "12707\n",
      "stacked output.shape=torch.Size([48460, 8])\n",
      "targets.shape=torch.Size([48460, 8])\n",
      "13220\n"
     ]
    },
    {
     "name": "stderr",
     "output_type": "stream",
     "text": [
      " 16%|█▌        | 802/5000 [17:17<1:36:52,  1.38s/it]"
     ]
    },
    {
     "name": "stdout",
     "output_type": "stream",
     "text": [
      "output.shape=torch.Size([20, 2423, 8])\n",
      "targets.shape=torch.Size([20, 2423, 8])\n",
      "torch.Size([48460]) torch.Size([48460])\n",
      "12653\n",
      "stacked output.shape=torch.Size([48460, 8])\n",
      "targets.shape=torch.Size([48460, 8])\n",
      "13440\n"
     ]
    },
    {
     "name": "stderr",
     "output_type": "stream",
     "text": [
      " 16%|█▌        | 805/5000 [17:21<1:35:11,  1.36s/it]"
     ]
    },
    {
     "name": "stdout",
     "output_type": "stream",
     "text": [
      "output.shape=torch.Size([20, 2423, 8])\n",
      "targets.shape=torch.Size([20, 2423, 8])\n",
      "torch.Size([48460]) torch.Size([48460])\n",
      "12657\n",
      "stacked output.shape=torch.Size([48460, 8])\n",
      "targets.shape=torch.Size([48460, 8])\n",
      "13460\n"
     ]
    },
    {
     "name": "stderr",
     "output_type": "stream",
     "text": [
      " 16%|█▌        | 808/5000 [17:25<1:33:51,  1.34s/it]"
     ]
    },
    {
     "name": "stdout",
     "output_type": "stream",
     "text": [
      "output.shape=torch.Size([20, 2423, 8])\n",
      "targets.shape=torch.Size([20, 2423, 8])\n",
      "torch.Size([48460]) torch.Size([48460])\n",
      "12749\n",
      "stacked output.shape=torch.Size([48460, 8])\n",
      "targets.shape=torch.Size([48460, 8])\n",
      "13420\n"
     ]
    },
    {
     "name": "stderr",
     "output_type": "stream",
     "text": [
      " 16%|█▌        | 811/5000 [17:28<1:33:13,  1.34s/it]"
     ]
    },
    {
     "name": "stdout",
     "output_type": "stream",
     "text": [
      "output.shape=torch.Size([20, 2423, 8])\n",
      "targets.shape=torch.Size([20, 2423, 8])\n",
      "torch.Size([48460]) torch.Size([48460])\n",
      "12717\n",
      "stacked output.shape=torch.Size([48460, 8])\n",
      "targets.shape=torch.Size([48460, 8])\n",
      "13100\n"
     ]
    },
    {
     "name": "stderr",
     "output_type": "stream",
     "text": [
      " 16%|█▋        | 814/5000 [17:32<1:34:19,  1.35s/it]"
     ]
    },
    {
     "name": "stdout",
     "output_type": "stream",
     "text": [
      "output.shape=torch.Size([20, 2423, 8])\n",
      "targets.shape=torch.Size([20, 2423, 8])\n",
      "torch.Size([48460]) torch.Size([48460])\n",
      "12715\n",
      "stacked output.shape=torch.Size([48460, 8])\n",
      "targets.shape=torch.Size([48460, 8])\n",
      "13200\n"
     ]
    },
    {
     "name": "stderr",
     "output_type": "stream",
     "text": [
      " 16%|█▋        | 817/5000 [17:36<1:33:35,  1.34s/it]"
     ]
    },
    {
     "name": "stdout",
     "output_type": "stream",
     "text": [
      "output.shape=torch.Size([20, 2423, 8])\n",
      "targets.shape=torch.Size([20, 2423, 8])\n",
      "torch.Size([48460]) torch.Size([48460])\n",
      "12673\n",
      "stacked output.shape=torch.Size([48460, 8])\n",
      "targets.shape=torch.Size([48460, 8])\n",
      "13240\n"
     ]
    },
    {
     "name": "stderr",
     "output_type": "stream",
     "text": [
      " 16%|█▋        | 820/5000 [17:40<1:32:21,  1.33s/it]"
     ]
    },
    {
     "name": "stdout",
     "output_type": "stream",
     "text": [
      "output.shape=torch.Size([20, 2423, 8])\n",
      "targets.shape=torch.Size([20, 2423, 8])\n",
      "torch.Size([48460]) torch.Size([48460])\n",
      "12673\n",
      "stacked output.shape=torch.Size([48460, 8])\n",
      "targets.shape=torch.Size([48460, 8])\n",
      "13480\n"
     ]
    },
    {
     "name": "stderr",
     "output_type": "stream",
     "text": [
      " 16%|█▋        | 823/5000 [17:44<1:33:14,  1.34s/it]"
     ]
    },
    {
     "name": "stdout",
     "output_type": "stream",
     "text": [
      "output.shape=torch.Size([20, 2423, 8])\n",
      "targets.shape=torch.Size([20, 2423, 8])\n",
      "torch.Size([48460]) torch.Size([48460])\n",
      "12657\n",
      "stacked output.shape=torch.Size([48460, 8])\n",
      "targets.shape=torch.Size([48460, 8])\n",
      "13280\n"
     ]
    },
    {
     "name": "stderr",
     "output_type": "stream",
     "text": [
      " 17%|█▋        | 826/5000 [17:48<1:32:11,  1.33s/it]"
     ]
    },
    {
     "name": "stdout",
     "output_type": "stream",
     "text": [
      "output.shape=torch.Size([20, 2423, 8])\n",
      "targets.shape=torch.Size([20, 2423, 8])\n",
      "torch.Size([48460]) torch.Size([48460])\n",
      "12637\n",
      "stacked output.shape=torch.Size([48460, 8])\n",
      "targets.shape=torch.Size([48460, 8])\n",
      "13280\n"
     ]
    },
    {
     "name": "stderr",
     "output_type": "stream",
     "text": [
      " 17%|█▋        | 829/5000 [17:52<1:31:42,  1.32s/it]"
     ]
    },
    {
     "name": "stdout",
     "output_type": "stream",
     "text": [
      "output.shape=torch.Size([20, 2423, 8])\n",
      "targets.shape=torch.Size([20, 2423, 8])\n",
      "torch.Size([48460]) torch.Size([48460])\n",
      "12715\n",
      "stacked output.shape=torch.Size([48460, 8])\n",
      "targets.shape=torch.Size([48460, 8])\n",
      "13220\n"
     ]
    },
    {
     "name": "stderr",
     "output_type": "stream",
     "text": [
      " 17%|█▋        | 832/5000 [17:56<1:31:13,  1.31s/it]"
     ]
    },
    {
     "name": "stdout",
     "output_type": "stream",
     "text": [
      "output.shape=torch.Size([20, 2423, 8])\n",
      "targets.shape=torch.Size([20, 2423, 8])\n",
      "torch.Size([48460]) torch.Size([48460])\n",
      "12705\n",
      "stacked output.shape=torch.Size([48460, 8])\n",
      "targets.shape=torch.Size([48460, 8])\n",
      "13460\n"
     ]
    },
    {
     "name": "stderr",
     "output_type": "stream",
     "text": [
      " 17%|█▋        | 835/5000 [18:00<1:31:11,  1.31s/it]"
     ]
    },
    {
     "name": "stdout",
     "output_type": "stream",
     "text": [
      "output.shape=torch.Size([20, 2423, 8])\n",
      "targets.shape=torch.Size([20, 2423, 8])\n",
      "torch.Size([48460]) torch.Size([48460])\n",
      "12659\n",
      "stacked output.shape=torch.Size([48460, 8])\n",
      "targets.shape=torch.Size([48460, 8])\n",
      "13280\n"
     ]
    },
    {
     "name": "stderr",
     "output_type": "stream",
     "text": [
      " 17%|█▋        | 838/5000 [18:03<1:31:25,  1.32s/it]"
     ]
    },
    {
     "name": "stdout",
     "output_type": "stream",
     "text": [
      "output.shape=torch.Size([20, 2423, 8])\n",
      "targets.shape=torch.Size([20, 2423, 8])\n",
      "torch.Size([48460]) torch.Size([48460])\n",
      "12700\n",
      "stacked output.shape=torch.Size([48460, 8])\n",
      "targets.shape=torch.Size([48460, 8])\n",
      "13340\n"
     ]
    },
    {
     "name": "stderr",
     "output_type": "stream",
     "text": [
      " 17%|█▋        | 841/5000 [18:07<1:32:20,  1.33s/it]"
     ]
    },
    {
     "name": "stdout",
     "output_type": "stream",
     "text": [
      "output.shape=torch.Size([20, 2423, 8])\n",
      "targets.shape=torch.Size([20, 2423, 8])\n",
      "torch.Size([48460]) torch.Size([48460])\n",
      "12624\n",
      "stacked output.shape=torch.Size([48460, 8])\n",
      "targets.shape=torch.Size([48460, 8])\n",
      "13420\n"
     ]
    },
    {
     "name": "stderr",
     "output_type": "stream",
     "text": [
      " 17%|█▋        | 844/5000 [18:11<1:31:13,  1.32s/it]"
     ]
    },
    {
     "name": "stdout",
     "output_type": "stream",
     "text": [
      "output.shape=torch.Size([20, 2423, 8])\n",
      "targets.shape=torch.Size([20, 2423, 8])\n",
      "torch.Size([48460]) torch.Size([48460])\n",
      "12688\n",
      "stacked output.shape=torch.Size([48460, 8])\n",
      "targets.shape=torch.Size([48460, 8])\n",
      "13400\n"
     ]
    },
    {
     "name": "stderr",
     "output_type": "stream",
     "text": [
      " 17%|█▋        | 847/5000 [18:15<1:31:24,  1.32s/it]"
     ]
    },
    {
     "name": "stdout",
     "output_type": "stream",
     "text": [
      "output.shape=torch.Size([20, 2423, 8])\n",
      "targets.shape=torch.Size([20, 2423, 8])\n",
      "torch.Size([48460]) torch.Size([48460])\n",
      "12618\n",
      "stacked output.shape=torch.Size([48460, 8])\n",
      "targets.shape=torch.Size([48460, 8])\n",
      "13140\n"
     ]
    },
    {
     "name": "stderr",
     "output_type": "stream",
     "text": [
      " 17%|█▋        | 850/5000 [18:19<1:31:00,  1.32s/it]"
     ]
    },
    {
     "name": "stdout",
     "output_type": "stream",
     "text": [
      "output.shape=torch.Size([20, 2423, 8])\n",
      "targets.shape=torch.Size([20, 2423, 8])\n",
      "torch.Size([48460]) torch.Size([48460])\n",
      "12683\n",
      "stacked output.shape=torch.Size([48460, 8])\n",
      "targets.shape=torch.Size([48460, 8])\n",
      "13200\n"
     ]
    },
    {
     "name": "stderr",
     "output_type": "stream",
     "text": [
      " 17%|█▋        | 853/5000 [18:23<1:32:18,  1.34s/it]"
     ]
    },
    {
     "name": "stdout",
     "output_type": "stream",
     "text": [
      "output.shape=torch.Size([20, 2423, 8])\n",
      "targets.shape=torch.Size([20, 2423, 8])\n",
      "torch.Size([48460]) torch.Size([48460])\n",
      "12635\n",
      "stacked output.shape=torch.Size([48460, 8])\n",
      "targets.shape=torch.Size([48460, 8])\n",
      "13440\n"
     ]
    },
    {
     "name": "stderr",
     "output_type": "stream",
     "text": [
      " 17%|█▋        | 856/5000 [18:27<1:30:38,  1.31s/it]"
     ]
    },
    {
     "name": "stdout",
     "output_type": "stream",
     "text": [
      "output.shape=torch.Size([20, 2423, 8])\n",
      "targets.shape=torch.Size([20, 2423, 8])\n",
      "torch.Size([48460]) torch.Size([48460])\n",
      "12682\n",
      "stacked output.shape=torch.Size([48460, 8])\n",
      "targets.shape=torch.Size([48460, 8])\n",
      "13300\n"
     ]
    },
    {
     "name": "stderr",
     "output_type": "stream",
     "text": [
      " 17%|█▋        | 859/5000 [18:31<1:30:43,  1.31s/it]"
     ]
    },
    {
     "name": "stdout",
     "output_type": "stream",
     "text": [
      "output.shape=torch.Size([20, 2423, 8])\n",
      "targets.shape=torch.Size([20, 2423, 8])\n",
      "torch.Size([48460]) torch.Size([48460])\n",
      "12656\n",
      "stacked output.shape=torch.Size([48460, 8])\n",
      "targets.shape=torch.Size([48460, 8])\n",
      "12940\n"
     ]
    },
    {
     "name": "stderr",
     "output_type": "stream",
     "text": [
      " 17%|█▋        | 862/5000 [18:34<1:31:01,  1.32s/it]"
     ]
    },
    {
     "name": "stdout",
     "output_type": "stream",
     "text": [
      "output.shape=torch.Size([20, 2423, 8])\n",
      "targets.shape=torch.Size([20, 2423, 8])\n",
      "torch.Size([48460]) torch.Size([48460])\n",
      "12688\n",
      "stacked output.shape=torch.Size([48460, 8])\n",
      "targets.shape=torch.Size([48460, 8])\n",
      "13180\n"
     ]
    },
    {
     "name": "stderr",
     "output_type": "stream",
     "text": [
      " 17%|█▋        | 865/5000 [18:38<1:30:45,  1.32s/it]"
     ]
    },
    {
     "name": "stdout",
     "output_type": "stream",
     "text": [
      "output.shape=torch.Size([20, 2423, 8])\n",
      "targets.shape=torch.Size([20, 2423, 8])\n",
      "torch.Size([48460]) torch.Size([48460])\n",
      "12671\n",
      "stacked output.shape=torch.Size([48460, 8])\n",
      "targets.shape=torch.Size([48460, 8])\n",
      "13200\n"
     ]
    },
    {
     "name": "stderr",
     "output_type": "stream",
     "text": [
      " 17%|█▋        | 868/5000 [18:42<1:31:03,  1.32s/it]"
     ]
    },
    {
     "name": "stdout",
     "output_type": "stream",
     "text": [
      "output.shape=torch.Size([20, 2423, 8])\n",
      "targets.shape=torch.Size([20, 2423, 8])\n",
      "torch.Size([48460]) torch.Size([48460])\n",
      "12624\n",
      "stacked output.shape=torch.Size([48460, 8])\n",
      "targets.shape=torch.Size([48460, 8])\n",
      "13180\n"
     ]
    },
    {
     "name": "stderr",
     "output_type": "stream",
     "text": [
      " 17%|█▋        | 871/5000 [18:46<1:30:17,  1.31s/it]"
     ]
    },
    {
     "name": "stdout",
     "output_type": "stream",
     "text": [
      "output.shape=torch.Size([20, 2423, 8])\n",
      "targets.shape=torch.Size([20, 2423, 8])\n",
      "torch.Size([48460]) torch.Size([48460])\n",
      "12655\n",
      "stacked output.shape=torch.Size([48460, 8])\n",
      "targets.shape=torch.Size([48460, 8])\n",
      "13100\n"
     ]
    },
    {
     "name": "stderr",
     "output_type": "stream",
     "text": [
      " 17%|█▋        | 874/5000 [18:50<1:30:12,  1.31s/it]"
     ]
    },
    {
     "name": "stdout",
     "output_type": "stream",
     "text": [
      "output.shape=torch.Size([20, 2423, 8])\n",
      "targets.shape=torch.Size([20, 2423, 8])\n",
      "torch.Size([48460]) torch.Size([48460])\n",
      "12595\n",
      "stacked output.shape=torch.Size([48460, 8])\n",
      "targets.shape=torch.Size([48460, 8])\n",
      "13060\n"
     ]
    },
    {
     "name": "stderr",
     "output_type": "stream",
     "text": [
      " 18%|█▊        | 877/5000 [18:54<1:31:18,  1.33s/it]"
     ]
    },
    {
     "name": "stdout",
     "output_type": "stream",
     "text": [
      "output.shape=torch.Size([20, 2423, 8])\n",
      "targets.shape=torch.Size([20, 2423, 8])\n",
      "torch.Size([48460]) torch.Size([48460])\n",
      "12615\n",
      "stacked output.shape=torch.Size([48460, 8])\n",
      "targets.shape=torch.Size([48460, 8])\n",
      "13120\n"
     ]
    },
    {
     "name": "stderr",
     "output_type": "stream",
     "text": [
      " 18%|█▊        | 880/5000 [18:58<1:32:05,  1.34s/it]"
     ]
    },
    {
     "name": "stdout",
     "output_type": "stream",
     "text": [
      "output.shape=torch.Size([20, 2423, 8])\n",
      "targets.shape=torch.Size([20, 2423, 8])\n",
      "torch.Size([48460]) torch.Size([48460])\n",
      "12587\n",
      "stacked output.shape=torch.Size([48460, 8])\n",
      "targets.shape=torch.Size([48460, 8])\n",
      "13040\n"
     ]
    },
    {
     "name": "stderr",
     "output_type": "stream",
     "text": [
      " 18%|█▊        | 883/5000 [19:02<1:30:37,  1.32s/it]"
     ]
    },
    {
     "name": "stdout",
     "output_type": "stream",
     "text": [
      "output.shape=torch.Size([20, 2423, 8])\n",
      "targets.shape=torch.Size([20, 2423, 8])\n",
      "torch.Size([48460]) torch.Size([48460])\n",
      "12601\n",
      "stacked output.shape=torch.Size([48460, 8])\n",
      "targets.shape=torch.Size([48460, 8])\n",
      "13180\n"
     ]
    },
    {
     "name": "stderr",
     "output_type": "stream",
     "text": [
      " 18%|█▊        | 886/5000 [19:05<1:30:12,  1.32s/it]"
     ]
    },
    {
     "name": "stdout",
     "output_type": "stream",
     "text": [
      "output.shape=torch.Size([20, 2423, 8])\n",
      "targets.shape=torch.Size([20, 2423, 8])\n",
      "torch.Size([48460]) torch.Size([48460])\n",
      "12617\n",
      "stacked output.shape=torch.Size([48460, 8])\n",
      "targets.shape=torch.Size([48460, 8])\n",
      "13240\n"
     ]
    },
    {
     "name": "stderr",
     "output_type": "stream",
     "text": [
      " 18%|█▊        | 889/5000 [19:09<1:29:54,  1.31s/it]"
     ]
    },
    {
     "name": "stdout",
     "output_type": "stream",
     "text": [
      "output.shape=torch.Size([20, 2423, 8])\n",
      "targets.shape=torch.Size([20, 2423, 8])\n",
      "torch.Size([48460]) torch.Size([48460])\n",
      "12605\n",
      "stacked output.shape=torch.Size([48460, 8])\n",
      "targets.shape=torch.Size([48460, 8])\n",
      "13060\n"
     ]
    },
    {
     "name": "stderr",
     "output_type": "stream",
     "text": [
      " 18%|█▊        | 892/5000 [19:13<1:30:59,  1.33s/it]"
     ]
    },
    {
     "name": "stdout",
     "output_type": "stream",
     "text": [
      "output.shape=torch.Size([20, 2423, 8])\n",
      "targets.shape=torch.Size([20, 2423, 8])\n",
      "torch.Size([48460]) torch.Size([48460])\n",
      "12623\n",
      "stacked output.shape=torch.Size([48460, 8])\n",
      "targets.shape=torch.Size([48460, 8])\n",
      "13160\n"
     ]
    },
    {
     "name": "stderr",
     "output_type": "stream",
     "text": [
      " 18%|█▊        | 895/5000 [19:17<1:29:33,  1.31s/it]"
     ]
    },
    {
     "name": "stdout",
     "output_type": "stream",
     "text": [
      "output.shape=torch.Size([20, 2423, 8])\n",
      "targets.shape=torch.Size([20, 2423, 8])\n",
      "torch.Size([48460]) torch.Size([48460])\n",
      "12587\n",
      "stacked output.shape=torch.Size([48460, 8])\n",
      "targets.shape=torch.Size([48460, 8])\n",
      "12980\n"
     ]
    },
    {
     "name": "stderr",
     "output_type": "stream",
     "text": [
      " 18%|█▊        | 898/5000 [19:21<1:30:06,  1.32s/it]"
     ]
    },
    {
     "name": "stdout",
     "output_type": "stream",
     "text": [
      "output.shape=torch.Size([20, 2423, 8])\n",
      "targets.shape=torch.Size([20, 2423, 8])\n",
      "torch.Size([48460]) torch.Size([48460])\n",
      "12604\n",
      "stacked output.shape=torch.Size([48460, 8])\n",
      "targets.shape=torch.Size([48460, 8])\n",
      "13000\n"
     ]
    },
    {
     "name": "stderr",
     "output_type": "stream",
     "text": [
      " 18%|█▊        | 901/5000 [19:25<1:29:42,  1.31s/it]"
     ]
    },
    {
     "name": "stdout",
     "output_type": "stream",
     "text": [
      "output.shape=torch.Size([20, 2423, 8])\n",
      "targets.shape=torch.Size([20, 2423, 8])\n",
      "torch.Size([48460]) torch.Size([48460])\n",
      "12634\n",
      "stacked output.shape=torch.Size([48460, 8])\n",
      "targets.shape=torch.Size([48460, 8])\n",
      "13240\n"
     ]
    },
    {
     "name": "stderr",
     "output_type": "stream",
     "text": [
      " 18%|█▊        | 904/5000 [19:29<1:29:28,  1.31s/it]"
     ]
    },
    {
     "name": "stdout",
     "output_type": "stream",
     "text": [
      "output.shape=torch.Size([20, 2423, 8])\n",
      "targets.shape=torch.Size([20, 2423, 8])\n",
      "torch.Size([48460]) torch.Size([48460])\n",
      "12604\n",
      "stacked output.shape=torch.Size([48460, 8])\n",
      "targets.shape=torch.Size([48460, 8])\n",
      "13160\n"
     ]
    },
    {
     "name": "stderr",
     "output_type": "stream",
     "text": [
      " 18%|█▊        | 907/5000 [19:32<1:29:23,  1.31s/it]"
     ]
    },
    {
     "name": "stdout",
     "output_type": "stream",
     "text": [
      "output.shape=torch.Size([20, 2423, 8])\n",
      "targets.shape=torch.Size([20, 2423, 8])\n",
      "torch.Size([48460]) torch.Size([48460])\n",
      "12615\n",
      "stacked output.shape=torch.Size([48460, 8])\n",
      "targets.shape=torch.Size([48460, 8])\n",
      "13040\n"
     ]
    },
    {
     "name": "stderr",
     "output_type": "stream",
     "text": [
      " 18%|█▊        | 910/5000 [19:36<1:29:35,  1.31s/it]"
     ]
    },
    {
     "name": "stdout",
     "output_type": "stream",
     "text": [
      "output.shape=torch.Size([20, 2423, 8])\n",
      "targets.shape=torch.Size([20, 2423, 8])\n",
      "torch.Size([48460]) torch.Size([48460])\n",
      "12620\n",
      "stacked output.shape=torch.Size([48460, 8])\n",
      "targets.shape=torch.Size([48460, 8])\n",
      "12880\n"
     ]
    },
    {
     "name": "stderr",
     "output_type": "stream",
     "text": [
      " 18%|█▊        | 913/5000 [19:40<1:30:12,  1.32s/it]"
     ]
    },
    {
     "name": "stdout",
     "output_type": "stream",
     "text": [
      "output.shape=torch.Size([20, 2423, 8])\n",
      "targets.shape=torch.Size([20, 2423, 8])\n",
      "torch.Size([48460]) torch.Size([48460])\n",
      "12593\n",
      "stacked output.shape=torch.Size([48460, 8])\n",
      "targets.shape=torch.Size([48460, 8])\n",
      "12980\n"
     ]
    },
    {
     "name": "stderr",
     "output_type": "stream",
     "text": [
      " 18%|█▊        | 916/5000 [19:44<1:31:11,  1.34s/it]"
     ]
    },
    {
     "name": "stdout",
     "output_type": "stream",
     "text": [
      "output.shape=torch.Size([20, 2423, 8])\n",
      "targets.shape=torch.Size([20, 2423, 8])\n",
      "torch.Size([48460]) torch.Size([48460])\n",
      "12598\n",
      "stacked output.shape=torch.Size([48460, 8])\n",
      "targets.shape=torch.Size([48460, 8])\n",
      "12860\n"
     ]
    },
    {
     "name": "stderr",
     "output_type": "stream",
     "text": [
      " 18%|█▊        | 919/5000 [19:48<1:30:02,  1.32s/it]"
     ]
    },
    {
     "name": "stdout",
     "output_type": "stream",
     "text": [
      "output.shape=torch.Size([20, 2423, 8])\n",
      "targets.shape=torch.Size([20, 2423, 8])\n",
      "torch.Size([48460]) torch.Size([48460])\n",
      "12670\n",
      "stacked output.shape=torch.Size([48460, 8])\n",
      "targets.shape=torch.Size([48460, 8])\n",
      "13060\n"
     ]
    },
    {
     "name": "stderr",
     "output_type": "stream",
     "text": [
      " 18%|█▊        | 922/5000 [19:52<1:29:46,  1.32s/it]"
     ]
    },
    {
     "name": "stdout",
     "output_type": "stream",
     "text": [
      "output.shape=torch.Size([20, 2423, 8])\n",
      "targets.shape=torch.Size([20, 2423, 8])\n",
      "torch.Size([48460]) torch.Size([48460])\n",
      "12681\n",
      "stacked output.shape=torch.Size([48460, 8])\n",
      "targets.shape=torch.Size([48460, 8])\n",
      "13140\n"
     ]
    },
    {
     "name": "stderr",
     "output_type": "stream",
     "text": [
      " 18%|█▊        | 925/5000 [19:56<1:29:03,  1.31s/it]"
     ]
    },
    {
     "name": "stdout",
     "output_type": "stream",
     "text": [
      "output.shape=torch.Size([20, 2423, 8])\n",
      "targets.shape=torch.Size([20, 2423, 8])\n",
      "torch.Size([48460]) torch.Size([48460])\n",
      "12619\n",
      "stacked output.shape=torch.Size([48460, 8])\n",
      "targets.shape=torch.Size([48460, 8])\n",
      "13100\n"
     ]
    },
    {
     "name": "stderr",
     "output_type": "stream",
     "text": [
      " 19%|█▊        | 928/5000 [20:00<1:29:52,  1.32s/it]"
     ]
    },
    {
     "name": "stdout",
     "output_type": "stream",
     "text": [
      "output.shape=torch.Size([20, 2423, 8])\n",
      "targets.shape=torch.Size([20, 2423, 8])\n",
      "torch.Size([48460]) torch.Size([48460])\n",
      "12646\n",
      "stacked output.shape=torch.Size([48460, 8])\n",
      "targets.shape=torch.Size([48460, 8])\n",
      "12900\n"
     ]
    },
    {
     "name": "stderr",
     "output_type": "stream",
     "text": [
      " 19%|█▊        | 931/5000 [20:04<1:29:53,  1.33s/it]"
     ]
    },
    {
     "name": "stdout",
     "output_type": "stream",
     "text": [
      "output.shape=torch.Size([20, 2423, 8])\n",
      "targets.shape=torch.Size([20, 2423, 8])\n",
      "torch.Size([48460]) torch.Size([48460])\n",
      "12696\n",
      "stacked output.shape=torch.Size([48460, 8])\n",
      "targets.shape=torch.Size([48460, 8])\n",
      "12960\n"
     ]
    },
    {
     "name": "stderr",
     "output_type": "stream",
     "text": [
      " 19%|█▊        | 934/5000 [20:07<1:29:32,  1.32s/it]"
     ]
    },
    {
     "name": "stdout",
     "output_type": "stream",
     "text": [
      "output.shape=torch.Size([20, 2423, 8])\n",
      "targets.shape=torch.Size([20, 2423, 8])\n",
      "torch.Size([48460]) torch.Size([48460])\n",
      "12625\n",
      "stacked output.shape=torch.Size([48460, 8])\n",
      "targets.shape=torch.Size([48460, 8])\n",
      "13200\n"
     ]
    },
    {
     "name": "stderr",
     "output_type": "stream",
     "text": [
      " 19%|█▊        | 937/5000 [20:11<1:33:03,  1.37s/it]"
     ]
    },
    {
     "name": "stdout",
     "output_type": "stream",
     "text": [
      "output.shape=torch.Size([20, 2423, 8])\n",
      "targets.shape=torch.Size([20, 2423, 8])\n",
      "torch.Size([48460]) torch.Size([48460])\n",
      "12627\n",
      "stacked output.shape=torch.Size([48460, 8])\n",
      "targets.shape=torch.Size([48460, 8])\n",
      "13260\n"
     ]
    },
    {
     "name": "stderr",
     "output_type": "stream",
     "text": [
      " 19%|█▉        | 940/5000 [20:15<1:31:04,  1.35s/it]"
     ]
    },
    {
     "name": "stdout",
     "output_type": "stream",
     "text": [
      "output.shape=torch.Size([20, 2423, 8])\n",
      "targets.shape=torch.Size([20, 2423, 8])\n",
      "torch.Size([48460]) torch.Size([48460])\n",
      "12633\n",
      "stacked output.shape=torch.Size([48460, 8])\n",
      "targets.shape=torch.Size([48460, 8])\n",
      "12960\n"
     ]
    },
    {
     "name": "stderr",
     "output_type": "stream",
     "text": [
      " 19%|█▉        | 943/5000 [20:19<1:30:36,  1.34s/it]"
     ]
    },
    {
     "name": "stdout",
     "output_type": "stream",
     "text": [
      "output.shape=torch.Size([20, 2423, 8])\n",
      "targets.shape=torch.Size([20, 2423, 8])\n",
      "torch.Size([48460]) torch.Size([48460])\n",
      "12631\n",
      "stacked output.shape=torch.Size([48460, 8])\n",
      "targets.shape=torch.Size([48460, 8])\n",
      "13080\n"
     ]
    },
    {
     "name": "stderr",
     "output_type": "stream",
     "text": [
      " 19%|█▉        | 946/5000 [20:23<1:30:23,  1.34s/it]"
     ]
    },
    {
     "name": "stdout",
     "output_type": "stream",
     "text": [
      "output.shape=torch.Size([20, 2423, 8])\n",
      "targets.shape=torch.Size([20, 2423, 8])\n",
      "torch.Size([48460]) torch.Size([48460])\n",
      "12597\n",
      "stacked output.shape=torch.Size([48460, 8])\n",
      "targets.shape=torch.Size([48460, 8])\n",
      "12800\n"
     ]
    },
    {
     "name": "stderr",
     "output_type": "stream",
     "text": [
      " 19%|█▉        | 949/5000 [20:27<1:29:27,  1.32s/it]"
     ]
    },
    {
     "name": "stdout",
     "output_type": "stream",
     "text": [
      "output.shape=torch.Size([20, 2423, 8])\n",
      "targets.shape=torch.Size([20, 2423, 8])\n",
      "torch.Size([48460]) torch.Size([48460])\n",
      "12576\n",
      "stacked output.shape=torch.Size([48460, 8])\n",
      "targets.shape=torch.Size([48460, 8])\n",
      "12680\n"
     ]
    },
    {
     "name": "stderr",
     "output_type": "stream",
     "text": [
      " 19%|█▉        | 952/5000 [20:31<1:31:24,  1.35s/it]"
     ]
    },
    {
     "name": "stdout",
     "output_type": "stream",
     "text": [
      "output.shape=torch.Size([20, 2423, 8])\n",
      "targets.shape=torch.Size([20, 2423, 8])\n",
      "torch.Size([48460]) torch.Size([48460])\n",
      "12613\n",
      "stacked output.shape=torch.Size([48460, 8])\n",
      "targets.shape=torch.Size([48460, 8])\n",
      "13020\n"
     ]
    },
    {
     "name": "stderr",
     "output_type": "stream",
     "text": [
      " 19%|█▉        | 955/5000 [20:35<1:30:10,  1.34s/it]"
     ]
    },
    {
     "name": "stdout",
     "output_type": "stream",
     "text": [
      "output.shape=torch.Size([20, 2423, 8])\n",
      "targets.shape=torch.Size([20, 2423, 8])\n",
      "torch.Size([48460]) torch.Size([48460])\n",
      "12596\n",
      "stacked output.shape=torch.Size([48460, 8])\n",
      "targets.shape=torch.Size([48460, 8])\n",
      "13020\n"
     ]
    },
    {
     "name": "stderr",
     "output_type": "stream",
     "text": [
      " 19%|█▉        | 958/5000 [20:39<1:30:01,  1.34s/it]"
     ]
    },
    {
     "name": "stdout",
     "output_type": "stream",
     "text": [
      "output.shape=torch.Size([20, 2423, 8])\n",
      "targets.shape=torch.Size([20, 2423, 8])\n",
      "torch.Size([48460]) torch.Size([48460])\n",
      "12593\n",
      "stacked output.shape=torch.Size([48460, 8])\n",
      "targets.shape=torch.Size([48460, 8])\n",
      "12920\n"
     ]
    },
    {
     "name": "stderr",
     "output_type": "stream",
     "text": [
      " 19%|█▉        | 961/5000 [20:43<1:30:12,  1.34s/it]"
     ]
    },
    {
     "name": "stdout",
     "output_type": "stream",
     "text": [
      "output.shape=torch.Size([20, 2423, 8])\n",
      "targets.shape=torch.Size([20, 2423, 8])\n",
      "torch.Size([48460]) torch.Size([48460])\n",
      "12595\n",
      "stacked output.shape=torch.Size([48460, 8])\n",
      "targets.shape=torch.Size([48460, 8])\n",
      "12760\n"
     ]
    },
    {
     "name": "stderr",
     "output_type": "stream",
     "text": [
      " 19%|█▉        | 964/5000 [20:47<1:29:39,  1.33s/it]"
     ]
    },
    {
     "name": "stdout",
     "output_type": "stream",
     "text": [
      "output.shape=torch.Size([20, 2423, 8])\n",
      "targets.shape=torch.Size([20, 2423, 8])\n",
      "torch.Size([48460]) torch.Size([48460])\n",
      "12596\n",
      "stacked output.shape=torch.Size([48460, 8])\n",
      "targets.shape=torch.Size([48460, 8])\n",
      "12600\n"
     ]
    },
    {
     "name": "stderr",
     "output_type": "stream",
     "text": [
      " 19%|█▉        | 967/5000 [20:51<1:28:03,  1.31s/it]"
     ]
    },
    {
     "name": "stdout",
     "output_type": "stream",
     "text": [
      "output.shape=torch.Size([20, 2423, 8])\n",
      "targets.shape=torch.Size([20, 2423, 8])\n",
      "torch.Size([48460]) torch.Size([48460])\n",
      "12529\n",
      "stacked output.shape=torch.Size([48460, 8])\n",
      "targets.shape=torch.Size([48460, 8])\n",
      "12760\n"
     ]
    },
    {
     "name": "stderr",
     "output_type": "stream",
     "text": [
      " 19%|█▉        | 970/5000 [20:54<1:28:46,  1.32s/it]"
     ]
    },
    {
     "name": "stdout",
     "output_type": "stream",
     "text": [
      "output.shape=torch.Size([20, 2423, 8])\n",
      "targets.shape=torch.Size([20, 2423, 8])\n",
      "torch.Size([48460]) torch.Size([48460])\n",
      "12579\n",
      "stacked output.shape=torch.Size([48460, 8])\n",
      "targets.shape=torch.Size([48460, 8])\n",
      "13100\n"
     ]
    },
    {
     "name": "stderr",
     "output_type": "stream",
     "text": [
      " 19%|█▉        | 973/5000 [20:58<1:27:46,  1.31s/it]"
     ]
    },
    {
     "name": "stdout",
     "output_type": "stream",
     "text": [
      "output.shape=torch.Size([20, 2423, 8])\n",
      "targets.shape=torch.Size([20, 2423, 8])\n",
      "torch.Size([48460]) torch.Size([48460])\n",
      "12575\n",
      "stacked output.shape=torch.Size([48460, 8])\n",
      "targets.shape=torch.Size([48460, 8])\n",
      "12880\n"
     ]
    },
    {
     "name": "stderr",
     "output_type": "stream",
     "text": [
      " 20%|█▉        | 976/5000 [21:02<1:27:59,  1.31s/it]"
     ]
    },
    {
     "name": "stdout",
     "output_type": "stream",
     "text": [
      "output.shape=torch.Size([20, 2423, 8])\n",
      "targets.shape=torch.Size([20, 2423, 8])\n",
      "torch.Size([48460]) torch.Size([48460])\n",
      "12587\n",
      "stacked output.shape=torch.Size([48460, 8])\n",
      "targets.shape=torch.Size([48460, 8])\n",
      "12960\n"
     ]
    },
    {
     "name": "stderr",
     "output_type": "stream",
     "text": [
      " 20%|█▉        | 979/5000 [21:06<1:28:01,  1.31s/it]"
     ]
    },
    {
     "name": "stdout",
     "output_type": "stream",
     "text": [
      "output.shape=torch.Size([20, 2423, 8])\n",
      "targets.shape=torch.Size([20, 2423, 8])\n",
      "torch.Size([48460]) torch.Size([48460])\n",
      "12572\n",
      "stacked output.shape=torch.Size([48460, 8])\n",
      "targets.shape=torch.Size([48460, 8])\n",
      "13100\n"
     ]
    },
    {
     "name": "stderr",
     "output_type": "stream",
     "text": [
      " 20%|█▉        | 982/5000 [21:10<1:27:42,  1.31s/it]"
     ]
    },
    {
     "name": "stdout",
     "output_type": "stream",
     "text": [
      "output.shape=torch.Size([20, 2423, 8])\n",
      "targets.shape=torch.Size([20, 2423, 8])\n",
      "torch.Size([48460]) torch.Size([48460])\n",
      "12581\n",
      "stacked output.shape=torch.Size([48460, 8])\n",
      "targets.shape=torch.Size([48460, 8])\n",
      "12980\n"
     ]
    },
    {
     "name": "stderr",
     "output_type": "stream",
     "text": [
      " 20%|█▉        | 985/5000 [21:14<1:28:51,  1.33s/it]"
     ]
    },
    {
     "name": "stdout",
     "output_type": "stream",
     "text": [
      "output.shape=torch.Size([20, 2423, 8])\n",
      "targets.shape=torch.Size([20, 2423, 8])\n",
      "torch.Size([48460]) torch.Size([48460])\n",
      "12548\n",
      "stacked output.shape=torch.Size([48460, 8])\n",
      "targets.shape=torch.Size([48460, 8])\n",
      "12740\n"
     ]
    },
    {
     "name": "stderr",
     "output_type": "stream",
     "text": [
      " 20%|█▉        | 988/5000 [21:18<1:28:59,  1.33s/it]"
     ]
    },
    {
     "name": "stdout",
     "output_type": "stream",
     "text": [
      "output.shape=torch.Size([20, 2423, 8])\n",
      "targets.shape=torch.Size([20, 2423, 8])\n",
      "torch.Size([48460]) torch.Size([48460])\n",
      "12541\n",
      "stacked output.shape=torch.Size([48460, 8])\n",
      "targets.shape=torch.Size([48460, 8])\n",
      "12720\n"
     ]
    },
    {
     "name": "stderr",
     "output_type": "stream",
     "text": [
      " 20%|█▉        | 991/5000 [21:21<1:27:39,  1.31s/it]"
     ]
    },
    {
     "name": "stdout",
     "output_type": "stream",
     "text": [
      "output.shape=torch.Size([20, 2423, 8])\n",
      "targets.shape=torch.Size([20, 2423, 8])\n",
      "torch.Size([48460]) torch.Size([48460])\n",
      "12564\n",
      "stacked output.shape=torch.Size([48460, 8])\n",
      "targets.shape=torch.Size([48460, 8])\n",
      "12900\n"
     ]
    },
    {
     "name": "stderr",
     "output_type": "stream",
     "text": [
      " 20%|█▉        | 994/5000 [21:25<1:29:41,  1.34s/it]"
     ]
    },
    {
     "name": "stdout",
     "output_type": "stream",
     "text": [
      "output.shape=torch.Size([20, 2423, 8])\n",
      "targets.shape=torch.Size([20, 2423, 8])\n",
      "torch.Size([48460]) torch.Size([48460])\n",
      "12521\n",
      "stacked output.shape=torch.Size([48460, 8])\n",
      "targets.shape=torch.Size([48460, 8])\n",
      "12600\n"
     ]
    },
    {
     "name": "stderr",
     "output_type": "stream",
     "text": [
      " 20%|█▉        | 997/5000 [21:29<1:28:41,  1.33s/it]"
     ]
    },
    {
     "name": "stdout",
     "output_type": "stream",
     "text": [
      "output.shape=torch.Size([20, 2423, 8])\n",
      "targets.shape=torch.Size([20, 2423, 8])\n",
      "torch.Size([48460]) torch.Size([48460])\n",
      "12562\n",
      "stacked output.shape=torch.Size([48460, 8])\n",
      "targets.shape=torch.Size([48460, 8])\n",
      "12820\n"
     ]
    },
    {
     "name": "stderr",
     "output_type": "stream",
     "text": [
      " 20%|██        | 1000/5000 [21:33<1:29:23,  1.34s/it]"
     ]
    },
    {
     "name": "stdout",
     "output_type": "stream",
     "text": [
      "output.shape=torch.Size([20, 2423, 8])\n",
      "targets.shape=torch.Size([20, 2423, 8])\n",
      "torch.Size([48460]) torch.Size([48460])\n",
      "12551\n",
      "stacked output.shape=torch.Size([48460, 8])\n",
      "targets.shape=torch.Size([48460, 8])\n",
      "12940\n"
     ]
    },
    {
     "name": "stderr",
     "output_type": "stream",
     "text": [
      " 20%|██        | 1003/5000 [21:37<1:28:18,  1.33s/it]"
     ]
    },
    {
     "name": "stdout",
     "output_type": "stream",
     "text": [
      "output.shape=torch.Size([20, 2423, 8])\n",
      "targets.shape=torch.Size([20, 2423, 8])\n",
      "torch.Size([48460]) torch.Size([48460])\n",
      "12513\n",
      "stacked output.shape=torch.Size([48460, 8])\n",
      "targets.shape=torch.Size([48460, 8])\n",
      "12960\n"
     ]
    },
    {
     "name": "stderr",
     "output_type": "stream",
     "text": [
      " 20%|██        | 1006/5000 [21:41<1:28:28,  1.33s/it]"
     ]
    },
    {
     "name": "stdout",
     "output_type": "stream",
     "text": [
      "output.shape=torch.Size([20, 2423, 8])\n",
      "targets.shape=torch.Size([20, 2423, 8])\n",
      "torch.Size([48460]) torch.Size([48460])\n",
      "12516\n",
      "stacked output.shape=torch.Size([48460, 8])\n",
      "targets.shape=torch.Size([48460, 8])\n",
      "12760\n"
     ]
    },
    {
     "name": "stderr",
     "output_type": "stream",
     "text": [
      " 20%|██        | 1009/5000 [21:45<1:28:35,  1.33s/it]"
     ]
    },
    {
     "name": "stdout",
     "output_type": "stream",
     "text": [
      "output.shape=torch.Size([20, 2423, 8])\n",
      "targets.shape=torch.Size([20, 2423, 8])\n",
      "torch.Size([48460]) torch.Size([48460])\n",
      "12524\n",
      "stacked output.shape=torch.Size([48460, 8])\n",
      "targets.shape=torch.Size([48460, 8])\n",
      "12720\n"
     ]
    },
    {
     "name": "stderr",
     "output_type": "stream",
     "text": [
      " 20%|██        | 1012/5000 [21:49<1:27:41,  1.32s/it]"
     ]
    },
    {
     "name": "stdout",
     "output_type": "stream",
     "text": [
      "output.shape=torch.Size([20, 2423, 8])\n",
      "targets.shape=torch.Size([20, 2423, 8])\n",
      "torch.Size([48460]) torch.Size([48460])\n",
      "12528\n",
      "stacked output.shape=torch.Size([48460, 8])\n",
      "targets.shape=torch.Size([48460, 8])\n",
      "12960\n"
     ]
    },
    {
     "name": "stderr",
     "output_type": "stream",
     "text": [
      " 20%|██        | 1015/5000 [21:53<1:27:38,  1.32s/it]"
     ]
    },
    {
     "name": "stdout",
     "output_type": "stream",
     "text": [
      "output.shape=torch.Size([20, 2423, 8])\n",
      "targets.shape=torch.Size([20, 2423, 8])\n",
      "torch.Size([48460]) torch.Size([48460])\n",
      "12548\n",
      "stacked output.shape=torch.Size([48460, 8])\n",
      "targets.shape=torch.Size([48460, 8])\n",
      "12780\n"
     ]
    },
    {
     "name": "stderr",
     "output_type": "stream",
     "text": [
      " 20%|██        | 1018/5000 [21:57<1:28:21,  1.33s/it]"
     ]
    },
    {
     "name": "stdout",
     "output_type": "stream",
     "text": [
      "output.shape=torch.Size([20, 2423, 8])\n",
      "targets.shape=torch.Size([20, 2423, 8])\n",
      "torch.Size([48460]) torch.Size([48460])\n",
      "12473\n",
      "stacked output.shape=torch.Size([48460, 8])\n",
      "targets.shape=torch.Size([48460, 8])\n",
      "12860\n"
     ]
    },
    {
     "name": "stderr",
     "output_type": "stream",
     "text": [
      " 20%|██        | 1021/5000 [22:00<1:27:41,  1.32s/it]"
     ]
    },
    {
     "name": "stdout",
     "output_type": "stream",
     "text": [
      "output.shape=torch.Size([20, 2423, 8])\n",
      "targets.shape=torch.Size([20, 2423, 8])\n",
      "torch.Size([48460]) torch.Size([48460])\n",
      "12484\n",
      "stacked output.shape=torch.Size([48460, 8])\n",
      "targets.shape=torch.Size([48460, 8])\n",
      "12740\n"
     ]
    },
    {
     "name": "stderr",
     "output_type": "stream",
     "text": [
      " 20%|██        | 1024/5000 [22:04<1:27:26,  1.32s/it]"
     ]
    },
    {
     "name": "stdout",
     "output_type": "stream",
     "text": [
      "output.shape=torch.Size([20, 2423, 8])\n",
      "targets.shape=torch.Size([20, 2423, 8])\n",
      "torch.Size([48460]) torch.Size([48460])\n",
      "12566\n",
      "stacked output.shape=torch.Size([48460, 8])\n",
      "targets.shape=torch.Size([48460, 8])\n",
      "12700\n"
     ]
    },
    {
     "name": "stderr",
     "output_type": "stream",
     "text": [
      " 21%|██        | 1027/5000 [22:08<1:26:41,  1.31s/it]"
     ]
    },
    {
     "name": "stdout",
     "output_type": "stream",
     "text": [
      "output.shape=torch.Size([20, 2423, 8])\n",
      "targets.shape=torch.Size([20, 2423, 8])\n",
      "torch.Size([48460]) torch.Size([48460])\n",
      "12497\n",
      "stacked output.shape=torch.Size([48460, 8])\n",
      "targets.shape=torch.Size([48460, 8])\n",
      "12440\n"
     ]
    },
    {
     "name": "stderr",
     "output_type": "stream",
     "text": [
      " 21%|██        | 1030/5000 [22:12<1:26:27,  1.31s/it]"
     ]
    },
    {
     "name": "stdout",
     "output_type": "stream",
     "text": [
      "output.shape=torch.Size([20, 2423, 8])\n",
      "targets.shape=torch.Size([20, 2423, 8])\n",
      "torch.Size([48460]) torch.Size([48460])\n",
      "12497\n",
      "stacked output.shape=torch.Size([48460, 8])\n",
      "targets.shape=torch.Size([48460, 8])\n",
      "12700\n"
     ]
    },
    {
     "name": "stderr",
     "output_type": "stream",
     "text": [
      " 21%|██        | 1033/5000 [22:16<1:30:43,  1.37s/it]"
     ]
    },
    {
     "name": "stdout",
     "output_type": "stream",
     "text": [
      "output.shape=torch.Size([20, 2423, 8])\n",
      "targets.shape=torch.Size([20, 2423, 8])\n",
      "torch.Size([48460]) torch.Size([48460])\n",
      "12524\n",
      "stacked output.shape=torch.Size([48460, 8])\n",
      "targets.shape=torch.Size([48460, 8])\n",
      "12540\n"
     ]
    },
    {
     "name": "stderr",
     "output_type": "stream",
     "text": [
      " 21%|██        | 1036/5000 [22:20<1:35:06,  1.44s/it]"
     ]
    },
    {
     "name": "stdout",
     "output_type": "stream",
     "text": [
      "output.shape=torch.Size([20, 2423, 8])\n",
      "targets.shape=torch.Size([20, 2423, 8])\n",
      "torch.Size([48460]) torch.Size([48460])\n",
      "12442\n",
      "stacked output.shape=torch.Size([48460, 8])\n",
      "targets.shape=torch.Size([48460, 8])\n",
      "12700\n"
     ]
    },
    {
     "name": "stderr",
     "output_type": "stream",
     "text": [
      " 21%|██        | 1039/5000 [22:25<1:33:19,  1.41s/it]"
     ]
    },
    {
     "name": "stdout",
     "output_type": "stream",
     "text": [
      "output.shape=torch.Size([20, 2423, 8])\n",
      "targets.shape=torch.Size([20, 2423, 8])\n",
      "torch.Size([48460]) torch.Size([48460])\n",
      "12388\n",
      "stacked output.shape=torch.Size([48460, 8])\n",
      "targets.shape=torch.Size([48460, 8])\n",
      "12660\n"
     ]
    },
    {
     "name": "stderr",
     "output_type": "stream",
     "text": [
      " 21%|██        | 1042/5000 [22:28<1:29:57,  1.36s/it]"
     ]
    },
    {
     "name": "stdout",
     "output_type": "stream",
     "text": [
      "output.shape=torch.Size([20, 2423, 8])\n",
      "targets.shape=torch.Size([20, 2423, 8])\n",
      "torch.Size([48460]) torch.Size([48460])\n",
      "12422\n",
      "stacked output.shape=torch.Size([48460, 8])\n",
      "targets.shape=torch.Size([48460, 8])\n",
      "12800\n"
     ]
    },
    {
     "name": "stderr",
     "output_type": "stream",
     "text": [
      " 21%|██        | 1045/5000 [22:32<1:28:21,  1.34s/it]"
     ]
    },
    {
     "name": "stdout",
     "output_type": "stream",
     "text": [
      "output.shape=torch.Size([20, 2423, 8])\n",
      "targets.shape=torch.Size([20, 2423, 8])\n",
      "torch.Size([48460]) torch.Size([48460])\n",
      "12448\n",
      "stacked output.shape=torch.Size([48460, 8])\n",
      "targets.shape=torch.Size([48460, 8])\n",
      "12540\n"
     ]
    },
    {
     "name": "stderr",
     "output_type": "stream",
     "text": [
      " 21%|██        | 1048/5000 [22:36<1:27:19,  1.33s/it]"
     ]
    },
    {
     "name": "stdout",
     "output_type": "stream",
     "text": [
      "output.shape=torch.Size([20, 2423, 8])\n",
      "targets.shape=torch.Size([20, 2423, 8])\n",
      "torch.Size([48460]) torch.Size([48460])\n",
      "12455\n",
      "stacked output.shape=torch.Size([48460, 8])\n",
      "targets.shape=torch.Size([48460, 8])\n",
      "12440\n"
     ]
    },
    {
     "name": "stderr",
     "output_type": "stream",
     "text": [
      " 21%|██        | 1051/5000 [22:40<1:26:52,  1.32s/it]"
     ]
    },
    {
     "name": "stdout",
     "output_type": "stream",
     "text": [
      "output.shape=torch.Size([20, 2423, 8])\n",
      "targets.shape=torch.Size([20, 2423, 8])\n",
      "torch.Size([48460]) torch.Size([48460])\n",
      "12423\n",
      "stacked output.shape=torch.Size([48460, 8])\n",
      "targets.shape=torch.Size([48460, 8])\n",
      "12400\n"
     ]
    },
    {
     "name": "stderr",
     "output_type": "stream",
     "text": [
      " 21%|██        | 1054/5000 [22:44<1:27:41,  1.33s/it]"
     ]
    },
    {
     "name": "stdout",
     "output_type": "stream",
     "text": [
      "output.shape=torch.Size([20, 2423, 8])\n",
      "targets.shape=torch.Size([20, 2423, 8])\n",
      "torch.Size([48460]) torch.Size([48460])\n",
      "12500\n",
      "stacked output.shape=torch.Size([48460, 8])\n",
      "targets.shape=torch.Size([48460, 8])\n",
      "12720\n"
     ]
    },
    {
     "name": "stderr",
     "output_type": "stream",
     "text": [
      " 21%|██        | 1057/5000 [22:48<1:28:44,  1.35s/it]"
     ]
    },
    {
     "name": "stdout",
     "output_type": "stream",
     "text": [
      "output.shape=torch.Size([20, 2423, 8])\n",
      "targets.shape=torch.Size([20, 2423, 8])\n",
      "torch.Size([48460]) torch.Size([48460])\n",
      "12437\n",
      "stacked output.shape=torch.Size([48460, 8])\n",
      "targets.shape=torch.Size([48460, 8])\n",
      "12620\n"
     ]
    },
    {
     "name": "stderr",
     "output_type": "stream",
     "text": [
      " 21%|██        | 1060/5000 [22:52<1:27:43,  1.34s/it]"
     ]
    },
    {
     "name": "stdout",
     "output_type": "stream",
     "text": [
      "output.shape=torch.Size([20, 2423, 8])\n",
      "targets.shape=torch.Size([20, 2423, 8])\n",
      "torch.Size([48460]) torch.Size([48460])\n",
      "12478\n",
      "stacked output.shape=torch.Size([48460, 8])\n",
      "targets.shape=torch.Size([48460, 8])\n",
      "12760\n"
     ]
    },
    {
     "name": "stderr",
     "output_type": "stream",
     "text": [
      " 21%|██▏       | 1063/5000 [22:56<1:30:08,  1.37s/it]"
     ]
    },
    {
     "name": "stdout",
     "output_type": "stream",
     "text": [
      "output.shape=torch.Size([20, 2423, 8])\n",
      "targets.shape=torch.Size([20, 2423, 8])\n",
      "torch.Size([48460]) torch.Size([48460])\n",
      "12477\n",
      "stacked output.shape=torch.Size([48460, 8])\n",
      "targets.shape=torch.Size([48460, 8])\n",
      "12560\n"
     ]
    },
    {
     "name": "stderr",
     "output_type": "stream",
     "text": [
      " 21%|██▏       | 1066/5000 [23:00<1:29:22,  1.36s/it]"
     ]
    },
    {
     "name": "stdout",
     "output_type": "stream",
     "text": [
      "output.shape=torch.Size([20, 2423, 8])\n",
      "targets.shape=torch.Size([20, 2423, 8])\n",
      "torch.Size([48460]) torch.Size([48460])\n",
      "12515\n",
      "stacked output.shape=torch.Size([48460, 8])\n",
      "targets.shape=torch.Size([48460, 8])\n",
      "12680\n"
     ]
    },
    {
     "name": "stderr",
     "output_type": "stream",
     "text": [
      " 21%|██▏       | 1069/5000 [23:04<1:29:00,  1.36s/it]"
     ]
    },
    {
     "name": "stdout",
     "output_type": "stream",
     "text": [
      "output.shape=torch.Size([20, 2423, 8])\n",
      "targets.shape=torch.Size([20, 2423, 8])\n",
      "torch.Size([48460]) torch.Size([48460])\n",
      "12505\n",
      "stacked output.shape=torch.Size([48460, 8])\n",
      "targets.shape=torch.Size([48460, 8])\n",
      "12740\n"
     ]
    },
    {
     "name": "stderr",
     "output_type": "stream",
     "text": [
      " 21%|██▏       | 1072/5000 [23:08<1:28:58,  1.36s/it]"
     ]
    },
    {
     "name": "stdout",
     "output_type": "stream",
     "text": [
      "output.shape=torch.Size([20, 2423, 8])\n",
      "targets.shape=torch.Size([20, 2423, 8])\n",
      "torch.Size([48460]) torch.Size([48460])\n",
      "12420\n",
      "stacked output.shape=torch.Size([48460, 8])\n",
      "targets.shape=torch.Size([48460, 8])\n",
      "12600\n"
     ]
    },
    {
     "name": "stderr",
     "output_type": "stream",
     "text": [
      " 22%|██▏       | 1075/5000 [23:12<1:28:05,  1.35s/it]"
     ]
    },
    {
     "name": "stdout",
     "output_type": "stream",
     "text": [
      "output.shape=torch.Size([20, 2423, 8])\n",
      "targets.shape=torch.Size([20, 2423, 8])\n",
      "torch.Size([48460]) torch.Size([48460])\n",
      "12450\n",
      "stacked output.shape=torch.Size([48460, 8])\n",
      "targets.shape=torch.Size([48460, 8])\n",
      "12660\n"
     ]
    },
    {
     "name": "stderr",
     "output_type": "stream",
     "text": [
      " 22%|██▏       | 1078/5000 [23:16<1:27:32,  1.34s/it]"
     ]
    },
    {
     "name": "stdout",
     "output_type": "stream",
     "text": [
      "output.shape=torch.Size([20, 2423, 8])\n",
      "targets.shape=torch.Size([20, 2423, 8])\n",
      "torch.Size([48460]) torch.Size([48460])\n",
      "12514\n",
      "stacked output.shape=torch.Size([48460, 8])\n",
      "targets.shape=torch.Size([48460, 8])\n",
      "13000\n"
     ]
    },
    {
     "name": "stderr",
     "output_type": "stream",
     "text": [
      " 22%|██▏       | 1081/5000 [23:20<1:28:02,  1.35s/it]"
     ]
    },
    {
     "name": "stdout",
     "output_type": "stream",
     "text": [
      "output.shape=torch.Size([20, 2423, 8])\n",
      "targets.shape=torch.Size([20, 2423, 8])\n",
      "torch.Size([48460]) torch.Size([48460])\n",
      "12424\n",
      "stacked output.shape=torch.Size([48460, 8])\n",
      "targets.shape=torch.Size([48460, 8])\n",
      "12240\n"
     ]
    },
    {
     "name": "stderr",
     "output_type": "stream",
     "text": [
      " 22%|██▏       | 1084/5000 [23:24<1:28:34,  1.36s/it]"
     ]
    },
    {
     "name": "stdout",
     "output_type": "stream",
     "text": [
      "output.shape=torch.Size([20, 2423, 8])\n",
      "targets.shape=torch.Size([20, 2423, 8])\n",
      "torch.Size([48460]) torch.Size([48460])\n",
      "12474\n",
      "stacked output.shape=torch.Size([48460, 8])\n",
      "targets.shape=torch.Size([48460, 8])\n",
      "12680\n"
     ]
    },
    {
     "name": "stderr",
     "output_type": "stream",
     "text": [
      " 22%|██▏       | 1087/5000 [23:28<1:27:47,  1.35s/it]"
     ]
    },
    {
     "name": "stdout",
     "output_type": "stream",
     "text": [
      "output.shape=torch.Size([20, 2423, 8])\n",
      "targets.shape=torch.Size([20, 2423, 8])\n",
      "torch.Size([48460]) torch.Size([48460])\n",
      "12458\n",
      "stacked output.shape=torch.Size([48460, 8])\n",
      "targets.shape=torch.Size([48460, 8])\n",
      "12620\n"
     ]
    },
    {
     "name": "stderr",
     "output_type": "stream",
     "text": [
      " 22%|██▏       | 1090/5000 [23:32<1:27:18,  1.34s/it]"
     ]
    },
    {
     "name": "stdout",
     "output_type": "stream",
     "text": [
      "output.shape=torch.Size([20, 2423, 8])\n",
      "targets.shape=torch.Size([20, 2423, 8])\n",
      "torch.Size([48460]) torch.Size([48460])\n",
      "12482\n",
      "stacked output.shape=torch.Size([48460, 8])\n",
      "targets.shape=torch.Size([48460, 8])\n",
      "12720\n"
     ]
    },
    {
     "name": "stderr",
     "output_type": "stream",
     "text": [
      " 22%|██▏       | 1093/5000 [23:35<1:26:34,  1.33s/it]"
     ]
    },
    {
     "name": "stdout",
     "output_type": "stream",
     "text": [
      "output.shape=torch.Size([20, 2423, 8])\n",
      "targets.shape=torch.Size([20, 2423, 8])\n",
      "torch.Size([48460]) torch.Size([48460])\n",
      "12430\n",
      "stacked output.shape=torch.Size([48460, 8])\n",
      "targets.shape=torch.Size([48460, 8])\n",
      "12660\n"
     ]
    },
    {
     "name": "stderr",
     "output_type": "stream",
     "text": [
      " 22%|██▏       | 1096/5000 [23:39<1:26:46,  1.33s/it]"
     ]
    },
    {
     "name": "stdout",
     "output_type": "stream",
     "text": [
      "output.shape=torch.Size([20, 2423, 8])\n",
      "targets.shape=torch.Size([20, 2423, 8])\n",
      "torch.Size([48460]) torch.Size([48460])\n",
      "12391\n",
      "stacked output.shape=torch.Size([48460, 8])\n",
      "targets.shape=torch.Size([48460, 8])\n",
      "12660\n"
     ]
    },
    {
     "name": "stderr",
     "output_type": "stream",
     "text": [
      " 22%|██▏       | 1099/5000 [23:43<1:28:08,  1.36s/it]"
     ]
    },
    {
     "name": "stdout",
     "output_type": "stream",
     "text": [
      "output.shape=torch.Size([20, 2423, 8])\n",
      "targets.shape=torch.Size([20, 2423, 8])\n",
      "torch.Size([48460]) torch.Size([48460])\n",
      "12477\n",
      "stacked output.shape=torch.Size([48460, 8])\n",
      "targets.shape=torch.Size([48460, 8])\n",
      "12800\n"
     ]
    },
    {
     "name": "stderr",
     "output_type": "stream",
     "text": [
      " 22%|██▏       | 1102/5000 [23:47<1:27:05,  1.34s/it]"
     ]
    },
    {
     "name": "stdout",
     "output_type": "stream",
     "text": [
      "output.shape=torch.Size([20, 2423, 8])\n",
      "targets.shape=torch.Size([20, 2423, 8])\n",
      "torch.Size([48460]) torch.Size([48460])\n",
      "12452\n",
      "stacked output.shape=torch.Size([48460, 8])\n",
      "targets.shape=torch.Size([48460, 8])\n",
      "12440\n"
     ]
    },
    {
     "name": "stderr",
     "output_type": "stream",
     "text": [
      " 22%|██▏       | 1105/5000 [23:51<1:25:52,  1.32s/it]"
     ]
    },
    {
     "name": "stdout",
     "output_type": "stream",
     "text": [
      "output.shape=torch.Size([20, 2423, 8])\n",
      "targets.shape=torch.Size([20, 2423, 8])\n",
      "torch.Size([48460]) torch.Size([48460])\n",
      "12491\n",
      "stacked output.shape=torch.Size([48460, 8])\n",
      "targets.shape=torch.Size([48460, 8])\n",
      "12640\n"
     ]
    },
    {
     "name": "stderr",
     "output_type": "stream",
     "text": [
      " 22%|██▏       | 1108/5000 [23:55<1:26:57,  1.34s/it]"
     ]
    },
    {
     "name": "stdout",
     "output_type": "stream",
     "text": [
      "output.shape=torch.Size([20, 2423, 8])\n",
      "targets.shape=torch.Size([20, 2423, 8])\n",
      "torch.Size([48460]) torch.Size([48460])\n",
      "12485\n",
      "stacked output.shape=torch.Size([48460, 8])\n",
      "targets.shape=torch.Size([48460, 8])\n",
      "12840\n"
     ]
    },
    {
     "name": "stderr",
     "output_type": "stream",
     "text": [
      " 22%|██▏       | 1111/5000 [23:59<1:26:08,  1.33s/it]"
     ]
    },
    {
     "name": "stdout",
     "output_type": "stream",
     "text": [
      "output.shape=torch.Size([20, 2423, 8])\n",
      "targets.shape=torch.Size([20, 2423, 8])\n",
      "torch.Size([48460]) torch.Size([48460])\n",
      "12409\n",
      "stacked output.shape=torch.Size([48460, 8])\n",
      "targets.shape=torch.Size([48460, 8])\n",
      "12560\n"
     ]
    },
    {
     "name": "stderr",
     "output_type": "stream",
     "text": [
      " 22%|██▏       | 1114/5000 [24:03<1:26:09,  1.33s/it]"
     ]
    },
    {
     "name": "stdout",
     "output_type": "stream",
     "text": [
      "output.shape=torch.Size([20, 2423, 8])\n",
      "targets.shape=torch.Size([20, 2423, 8])\n",
      "torch.Size([48460]) torch.Size([48460])\n",
      "12412\n",
      "stacked output.shape=torch.Size([48460, 8])\n",
      "targets.shape=torch.Size([48460, 8])\n",
      "12380\n"
     ]
    },
    {
     "name": "stderr",
     "output_type": "stream",
     "text": [
      " 22%|██▏       | 1117/5000 [24:07<1:24:43,  1.31s/it]"
     ]
    },
    {
     "name": "stdout",
     "output_type": "stream",
     "text": [
      "output.shape=torch.Size([20, 2423, 8])\n",
      "targets.shape=torch.Size([20, 2423, 8])\n",
      "torch.Size([48460]) torch.Size([48460])\n",
      "12428\n",
      "stacked output.shape=torch.Size([48460, 8])\n",
      "targets.shape=torch.Size([48460, 8])\n",
      "12600\n"
     ]
    },
    {
     "name": "stderr",
     "output_type": "stream",
     "text": [
      " 22%|██▏       | 1120/5000 [24:11<1:26:12,  1.33s/it]"
     ]
    },
    {
     "name": "stdout",
     "output_type": "stream",
     "text": [
      "output.shape=torch.Size([20, 2423, 8])\n",
      "targets.shape=torch.Size([20, 2423, 8])\n",
      "torch.Size([48460]) torch.Size([48460])\n",
      "12470\n",
      "stacked output.shape=torch.Size([48460, 8])\n",
      "targets.shape=torch.Size([48460, 8])\n",
      "12780\n"
     ]
    },
    {
     "name": "stderr",
     "output_type": "stream",
     "text": [
      " 22%|██▏       | 1123/5000 [24:15<1:26:37,  1.34s/it]"
     ]
    },
    {
     "name": "stdout",
     "output_type": "stream",
     "text": [
      "output.shape=torch.Size([20, 2423, 8])\n",
      "targets.shape=torch.Size([20, 2423, 8])\n",
      "torch.Size([48460]) torch.Size([48460])\n",
      "12470\n",
      "stacked output.shape=torch.Size([48460, 8])\n",
      "targets.shape=torch.Size([48460, 8])\n",
      "12640\n"
     ]
    },
    {
     "name": "stderr",
     "output_type": "stream",
     "text": [
      " 23%|██▎       | 1126/5000 [24:18<1:25:44,  1.33s/it]"
     ]
    },
    {
     "name": "stdout",
     "output_type": "stream",
     "text": [
      "output.shape=torch.Size([20, 2423, 8])\n",
      "targets.shape=torch.Size([20, 2423, 8])\n",
      "torch.Size([48460]) torch.Size([48460])\n",
      "12511\n",
      "stacked output.shape=torch.Size([48460, 8])\n",
      "targets.shape=torch.Size([48460, 8])\n",
      "12560\n"
     ]
    },
    {
     "name": "stderr",
     "output_type": "stream",
     "text": [
      " 23%|██▎       | 1129/5000 [24:22<1:25:20,  1.32s/it]"
     ]
    },
    {
     "name": "stdout",
     "output_type": "stream",
     "text": [
      "output.shape=torch.Size([20, 2423, 8])\n",
      "targets.shape=torch.Size([20, 2423, 8])\n",
      "torch.Size([48460]) torch.Size([48460])\n",
      "12429\n",
      "stacked output.shape=torch.Size([48460, 8])\n",
      "targets.shape=torch.Size([48460, 8])\n",
      "12640\n"
     ]
    },
    {
     "name": "stderr",
     "output_type": "stream",
     "text": [
      " 23%|██▎       | 1132/5000 [24:26<1:25:13,  1.32s/it]"
     ]
    },
    {
     "name": "stdout",
     "output_type": "stream",
     "text": [
      "output.shape=torch.Size([20, 2423, 8])\n",
      "targets.shape=torch.Size([20, 2423, 8])\n",
      "torch.Size([48460]) torch.Size([48460])\n",
      "12497\n",
      "stacked output.shape=torch.Size([48460, 8])\n",
      "targets.shape=torch.Size([48460, 8])\n",
      "12660\n"
     ]
    },
    {
     "name": "stderr",
     "output_type": "stream",
     "text": [
      " 23%|██▎       | 1135/5000 [24:30<1:25:54,  1.33s/it]"
     ]
    },
    {
     "name": "stdout",
     "output_type": "stream",
     "text": [
      "output.shape=torch.Size([20, 2423, 8])\n",
      "targets.shape=torch.Size([20, 2423, 8])\n",
      "torch.Size([48460]) torch.Size([48460])\n",
      "12441\n",
      "stacked output.shape=torch.Size([48460, 8])\n",
      "targets.shape=torch.Size([48460, 8])\n",
      "12600\n"
     ]
    },
    {
     "name": "stderr",
     "output_type": "stream",
     "text": [
      " 23%|██▎       | 1138/5000 [24:35<1:39:44,  1.55s/it]"
     ]
    },
    {
     "name": "stdout",
     "output_type": "stream",
     "text": [
      "output.shape=torch.Size([20, 2423, 8])\n",
      "targets.shape=torch.Size([20, 2423, 8])\n",
      "torch.Size([48460]) torch.Size([48460])\n",
      "12428\n",
      "stacked output.shape=torch.Size([48460, 8])\n",
      "targets.shape=torch.Size([48460, 8])\n",
      "12520\n"
     ]
    },
    {
     "name": "stderr",
     "output_type": "stream",
     "text": [
      " 23%|██▎       | 1141/5000 [24:39<1:31:52,  1.43s/it]"
     ]
    },
    {
     "name": "stdout",
     "output_type": "stream",
     "text": [
      "output.shape=torch.Size([20, 2423, 8])\n",
      "targets.shape=torch.Size([20, 2423, 8])\n",
      "torch.Size([48460]) torch.Size([48460])\n",
      "12472\n",
      "stacked output.shape=torch.Size([48460, 8])\n",
      "targets.shape=torch.Size([48460, 8])\n",
      "12620\n"
     ]
    },
    {
     "name": "stderr",
     "output_type": "stream",
     "text": [
      " 23%|██▎       | 1144/5000 [24:43<1:30:44,  1.41s/it]"
     ]
    },
    {
     "name": "stdout",
     "output_type": "stream",
     "text": [
      "output.shape=torch.Size([20, 2423, 8])\n",
      "targets.shape=torch.Size([20, 2423, 8])\n",
      "torch.Size([48460]) torch.Size([48460])\n",
      "12434\n",
      "stacked output.shape=torch.Size([48460, 8])\n",
      "targets.shape=torch.Size([48460, 8])\n",
      "12660\n"
     ]
    },
    {
     "name": "stderr",
     "output_type": "stream",
     "text": [
      " 23%|██▎       | 1147/5000 [24:48<1:39:41,  1.55s/it]"
     ]
    },
    {
     "name": "stdout",
     "output_type": "stream",
     "text": [
      "output.shape=torch.Size([20, 2423, 8])\n",
      "targets.shape=torch.Size([20, 2423, 8])\n",
      "torch.Size([48460]) torch.Size([48460])\n",
      "12442\n",
      "stacked output.shape=torch.Size([48460, 8])\n",
      "targets.shape=torch.Size([48460, 8])\n",
      "12440\n"
     ]
    },
    {
     "name": "stderr",
     "output_type": "stream",
     "text": [
      " 23%|██▎       | 1150/5000 [24:52<1:34:42,  1.48s/it]"
     ]
    },
    {
     "name": "stdout",
     "output_type": "stream",
     "text": [
      "output.shape=torch.Size([20, 2423, 8])\n",
      "targets.shape=torch.Size([20, 2423, 8])\n",
      "torch.Size([48460]) torch.Size([48460])\n",
      "12440\n",
      "stacked output.shape=torch.Size([48460, 8])\n",
      "targets.shape=torch.Size([48460, 8])\n",
      "12580\n"
     ]
    },
    {
     "name": "stderr",
     "output_type": "stream",
     "text": [
      " 23%|██▎       | 1153/5000 [24:57<1:37:31,  1.52s/it]"
     ]
    },
    {
     "name": "stdout",
     "output_type": "stream",
     "text": [
      "output.shape=torch.Size([20, 2423, 8])\n",
      "targets.shape=torch.Size([20, 2423, 8])\n",
      "torch.Size([48460]) torch.Size([48460])\n",
      "12440\n",
      "stacked output.shape=torch.Size([48460, 8])\n",
      "targets.shape=torch.Size([48460, 8])\n",
      "12400\n"
     ]
    },
    {
     "name": "stderr",
     "output_type": "stream",
     "text": [
      " 23%|██▎       | 1156/5000 [25:02<1:45:58,  1.65s/it]"
     ]
    },
    {
     "name": "stdout",
     "output_type": "stream",
     "text": [
      "output.shape=torch.Size([20, 2423, 8])\n",
      "targets.shape=torch.Size([20, 2423, 8])\n",
      "torch.Size([48460]) torch.Size([48460])\n",
      "12464\n",
      "stacked output.shape=torch.Size([48460, 8])\n",
      "targets.shape=torch.Size([48460, 8])\n",
      "12420\n"
     ]
    },
    {
     "name": "stderr",
     "output_type": "stream",
     "text": [
      " 23%|██▎       | 1159/5000 [25:06<1:43:33,  1.62s/it]"
     ]
    },
    {
     "name": "stdout",
     "output_type": "stream",
     "text": [
      "output.shape=torch.Size([20, 2423, 8])\n",
      "targets.shape=torch.Size([20, 2423, 8])\n",
      "torch.Size([48460]) torch.Size([48460])\n",
      "12508\n",
      "stacked output.shape=torch.Size([48460, 8])\n",
      "targets.shape=torch.Size([48460, 8])\n",
      "12520\n"
     ]
    },
    {
     "name": "stderr",
     "output_type": "stream",
     "text": [
      " 23%|██▎       | 1162/5000 [25:11<1:36:35,  1.51s/it]"
     ]
    },
    {
     "name": "stdout",
     "output_type": "stream",
     "text": [
      "output.shape=torch.Size([20, 2423, 8])\n",
      "targets.shape=torch.Size([20, 2423, 8])\n",
      "torch.Size([48460]) torch.Size([48460])\n",
      "12457\n",
      "stacked output.shape=torch.Size([48460, 8])\n",
      "targets.shape=torch.Size([48460, 8])\n",
      "12640\n"
     ]
    },
    {
     "name": "stderr",
     "output_type": "stream",
     "text": [
      " 23%|██▎       | 1165/5000 [25:15<1:31:29,  1.43s/it]"
     ]
    },
    {
     "name": "stdout",
     "output_type": "stream",
     "text": [
      "output.shape=torch.Size([20, 2423, 8])\n",
      "targets.shape=torch.Size([20, 2423, 8])\n",
      "torch.Size([48460]) torch.Size([48460])\n",
      "12452\n",
      "stacked output.shape=torch.Size([48460, 8])\n",
      "targets.shape=torch.Size([48460, 8])\n",
      "12580\n"
     ]
    },
    {
     "name": "stderr",
     "output_type": "stream",
     "text": [
      " 23%|██▎       | 1168/5000 [25:19<1:31:14,  1.43s/it]"
     ]
    },
    {
     "name": "stdout",
     "output_type": "stream",
     "text": [
      "output.shape=torch.Size([20, 2423, 8])\n",
      "targets.shape=torch.Size([20, 2423, 8])\n",
      "torch.Size([48460]) torch.Size([48460])\n",
      "12432\n",
      "stacked output.shape=torch.Size([48460, 8])\n",
      "targets.shape=torch.Size([48460, 8])\n",
      "12340\n"
     ]
    },
    {
     "name": "stderr",
     "output_type": "stream",
     "text": [
      " 23%|██▎       | 1171/5000 [25:23<1:26:52,  1.36s/it]"
     ]
    },
    {
     "name": "stdout",
     "output_type": "stream",
     "text": [
      "output.shape=torch.Size([20, 2423, 8])\n",
      "targets.shape=torch.Size([20, 2423, 8])\n",
      "torch.Size([48460]) torch.Size([48460])\n",
      "12400\n",
      "stacked output.shape=torch.Size([48460, 8])\n",
      "targets.shape=torch.Size([48460, 8])\n",
      "12560\n"
     ]
    },
    {
     "name": "stderr",
     "output_type": "stream",
     "text": [
      " 23%|██▎       | 1174/5000 [25:27<1:26:29,  1.36s/it]"
     ]
    },
    {
     "name": "stdout",
     "output_type": "stream",
     "text": [
      "output.shape=torch.Size([20, 2423, 8])\n",
      "targets.shape=torch.Size([20, 2423, 8])\n",
      "torch.Size([48460]) torch.Size([48460])\n",
      "12442\n",
      "stacked output.shape=torch.Size([48460, 8])\n",
      "targets.shape=torch.Size([48460, 8])\n",
      "12320\n"
     ]
    },
    {
     "name": "stderr",
     "output_type": "stream",
     "text": [
      " 24%|██▎       | 1177/5000 [25:31<1:25:58,  1.35s/it]"
     ]
    },
    {
     "name": "stdout",
     "output_type": "stream",
     "text": [
      "output.shape=torch.Size([20, 2423, 8])\n",
      "targets.shape=torch.Size([20, 2423, 8])\n",
      "torch.Size([48460]) torch.Size([48460])\n",
      "12392\n",
      "stacked output.shape=torch.Size([48460, 8])\n",
      "targets.shape=torch.Size([48460, 8])\n",
      "12600\n"
     ]
    },
    {
     "name": "stderr",
     "output_type": "stream",
     "text": [
      " 24%|██▎       | 1180/5000 [25:35<1:28:58,  1.40s/it]"
     ]
    },
    {
     "name": "stdout",
     "output_type": "stream",
     "text": [
      "output.shape=torch.Size([20, 2423, 8])\n",
      "targets.shape=torch.Size([20, 2423, 8])\n",
      "torch.Size([48460]) torch.Size([48460])\n",
      "12381\n",
      "stacked output.shape=torch.Size([48460, 8])\n",
      "targets.shape=torch.Size([48460, 8])\n",
      "12480\n"
     ]
    },
    {
     "name": "stderr",
     "output_type": "stream",
     "text": [
      " 24%|██▎       | 1183/5000 [25:39<1:28:26,  1.39s/it]"
     ]
    },
    {
     "name": "stdout",
     "output_type": "stream",
     "text": [
      "output.shape=torch.Size([20, 2423, 8])\n",
      "targets.shape=torch.Size([20, 2423, 8])\n",
      "torch.Size([48460]) torch.Size([48460])\n",
      "12414\n",
      "stacked output.shape=torch.Size([48460, 8])\n",
      "targets.shape=torch.Size([48460, 8])\n",
      "12560\n"
     ]
    },
    {
     "name": "stderr",
     "output_type": "stream",
     "text": [
      " 24%|██▎       | 1186/5000 [25:43<1:27:39,  1.38s/it]"
     ]
    },
    {
     "name": "stdout",
     "output_type": "stream",
     "text": [
      "output.shape=torch.Size([20, 2423, 8])\n",
      "targets.shape=torch.Size([20, 2423, 8])\n",
      "torch.Size([48460]) torch.Size([48460])\n",
      "12448\n",
      "stacked output.shape=torch.Size([48460, 8])\n",
      "targets.shape=torch.Size([48460, 8])\n",
      "12560\n"
     ]
    },
    {
     "name": "stderr",
     "output_type": "stream",
     "text": [
      " 24%|██▍       | 1189/5000 [25:47<1:26:08,  1.36s/it]"
     ]
    },
    {
     "name": "stdout",
     "output_type": "stream",
     "text": [
      "output.shape=torch.Size([20, 2423, 8])\n",
      "targets.shape=torch.Size([20, 2423, 8])\n",
      "torch.Size([48460]) torch.Size([48460])\n",
      "12432\n",
      "stacked output.shape=torch.Size([48460, 8])\n",
      "targets.shape=torch.Size([48460, 8])\n",
      "12460\n"
     ]
    },
    {
     "name": "stderr",
     "output_type": "stream",
     "text": [
      " 24%|██▍       | 1192/5000 [25:51<1:25:58,  1.35s/it]"
     ]
    },
    {
     "name": "stdout",
     "output_type": "stream",
     "text": [
      "output.shape=torch.Size([20, 2423, 8])\n",
      "targets.shape=torch.Size([20, 2423, 8])\n",
      "torch.Size([48460]) torch.Size([48460])\n",
      "12366\n",
      "stacked output.shape=torch.Size([48460, 8])\n",
      "targets.shape=torch.Size([48460, 8])\n",
      "12280\n"
     ]
    },
    {
     "name": "stderr",
     "output_type": "stream",
     "text": [
      " 24%|██▍       | 1195/5000 [25:55<1:25:43,  1.35s/it]"
     ]
    },
    {
     "name": "stdout",
     "output_type": "stream",
     "text": [
      "output.shape=torch.Size([20, 2423, 8])\n",
      "targets.shape=torch.Size([20, 2423, 8])\n",
      "torch.Size([48460]) torch.Size([48460])\n",
      "12387\n",
      "stacked output.shape=torch.Size([48460, 8])\n",
      "targets.shape=torch.Size([48460, 8])\n",
      "12460\n"
     ]
    },
    {
     "name": "stderr",
     "output_type": "stream",
     "text": [
      " 24%|██▍       | 1198/5000 [25:59<1:25:47,  1.35s/it]"
     ]
    },
    {
     "name": "stdout",
     "output_type": "stream",
     "text": [
      "output.shape=torch.Size([20, 2423, 8])\n",
      "targets.shape=torch.Size([20, 2423, 8])\n",
      "torch.Size([48460]) torch.Size([48460])\n",
      "12381\n",
      "stacked output.shape=torch.Size([48460, 8])\n",
      "targets.shape=torch.Size([48460, 8])\n",
      "12500\n"
     ]
    },
    {
     "name": "stderr",
     "output_type": "stream",
     "text": [
      " 24%|██▍       | 1201/5000 [26:03<1:25:57,  1.36s/it]"
     ]
    },
    {
     "name": "stdout",
     "output_type": "stream",
     "text": [
      "output.shape=torch.Size([20, 2423, 8])\n",
      "targets.shape=torch.Size([20, 2423, 8])\n",
      "torch.Size([48460]) torch.Size([48460])\n",
      "12375\n",
      "stacked output.shape=torch.Size([48460, 8])\n",
      "targets.shape=torch.Size([48460, 8])\n",
      "12160\n"
     ]
    },
    {
     "name": "stderr",
     "output_type": "stream",
     "text": [
      " 24%|██▍       | 1204/5000 [26:07<1:25:30,  1.35s/it]"
     ]
    },
    {
     "name": "stdout",
     "output_type": "stream",
     "text": [
      "output.shape=torch.Size([20, 2423, 8])\n",
      "targets.shape=torch.Size([20, 2423, 8])\n",
      "torch.Size([48460]) torch.Size([48460])\n",
      "12431\n",
      "stacked output.shape=torch.Size([48460, 8])\n",
      "targets.shape=torch.Size([48460, 8])\n",
      "12240\n"
     ]
    },
    {
     "name": "stderr",
     "output_type": "stream",
     "text": [
      " 24%|██▍       | 1207/5000 [26:11<1:24:06,  1.33s/it]"
     ]
    },
    {
     "name": "stdout",
     "output_type": "stream",
     "text": [
      "output.shape=torch.Size([20, 2423, 8])\n",
      "targets.shape=torch.Size([20, 2423, 8])\n",
      "torch.Size([48460]) torch.Size([48460])\n",
      "12414\n",
      "stacked output.shape=torch.Size([48460, 8])\n",
      "targets.shape=torch.Size([48460, 8])\n",
      "12760\n"
     ]
    },
    {
     "name": "stderr",
     "output_type": "stream",
     "text": [
      " 24%|██▍       | 1210/5000 [26:15<1:23:37,  1.32s/it]"
     ]
    },
    {
     "name": "stdout",
     "output_type": "stream",
     "text": [
      "output.shape=torch.Size([20, 2423, 8])\n",
      "targets.shape=torch.Size([20, 2423, 8])\n",
      "torch.Size([48460]) torch.Size([48460])\n",
      "12410\n",
      "stacked output.shape=torch.Size([48460, 8])\n",
      "targets.shape=torch.Size([48460, 8])\n",
      "12260\n"
     ]
    },
    {
     "name": "stderr",
     "output_type": "stream",
     "text": [
      " 24%|██▍       | 1213/5000 [26:19<1:23:30,  1.32s/it]"
     ]
    },
    {
     "name": "stdout",
     "output_type": "stream",
     "text": [
      "output.shape=torch.Size([20, 2423, 8])\n",
      "targets.shape=torch.Size([20, 2423, 8])\n",
      "torch.Size([48460]) torch.Size([48460])\n",
      "12413\n",
      "stacked output.shape=torch.Size([48460, 8])\n",
      "targets.shape=torch.Size([48460, 8])\n",
      "12300\n"
     ]
    },
    {
     "name": "stderr",
     "output_type": "stream",
     "text": [
      " 24%|██▍       | 1216/5000 [26:22<1:22:57,  1.32s/it]"
     ]
    },
    {
     "name": "stdout",
     "output_type": "stream",
     "text": [
      "output.shape=torch.Size([20, 2423, 8])\n",
      "targets.shape=torch.Size([20, 2423, 8])\n",
      "torch.Size([48460]) torch.Size([48460])\n",
      "12469\n",
      "stacked output.shape=torch.Size([48460, 8])\n",
      "targets.shape=torch.Size([48460, 8])\n",
      "12660\n"
     ]
    },
    {
     "name": "stderr",
     "output_type": "stream",
     "text": [
      " 24%|██▍       | 1219/5000 [26:26<1:25:48,  1.36s/it]"
     ]
    },
    {
     "name": "stdout",
     "output_type": "stream",
     "text": [
      "output.shape=torch.Size([20, 2423, 8])\n",
      "targets.shape=torch.Size([20, 2423, 8])\n",
      "torch.Size([48460]) torch.Size([48460])\n",
      "12395\n",
      "stacked output.shape=torch.Size([48460, 8])\n",
      "targets.shape=torch.Size([48460, 8])\n",
      "12320\n"
     ]
    },
    {
     "name": "stderr",
     "output_type": "stream",
     "text": [
      " 24%|██▍       | 1222/5000 [26:30<1:26:18,  1.37s/it]"
     ]
    },
    {
     "name": "stdout",
     "output_type": "stream",
     "text": [
      "output.shape=torch.Size([20, 2423, 8])\n",
      "targets.shape=torch.Size([20, 2423, 8])\n",
      "torch.Size([48460]) torch.Size([48460])\n",
      "12463\n",
      "stacked output.shape=torch.Size([48460, 8])\n",
      "targets.shape=torch.Size([48460, 8])\n",
      "12620\n"
     ]
    },
    {
     "name": "stderr",
     "output_type": "stream",
     "text": [
      " 24%|██▍       | 1225/5000 [26:34<1:23:54,  1.33s/it]"
     ]
    },
    {
     "name": "stdout",
     "output_type": "stream",
     "text": [
      "output.shape=torch.Size([20, 2423, 8])\n",
      "targets.shape=torch.Size([20, 2423, 8])\n",
      "torch.Size([48460]) torch.Size([48460])\n",
      "12387\n",
      "stacked output.shape=torch.Size([48460, 8])\n",
      "targets.shape=torch.Size([48460, 8])\n",
      "12300\n"
     ]
    },
    {
     "name": "stderr",
     "output_type": "stream",
     "text": [
      " 25%|██▍       | 1228/5000 [26:38<1:22:35,  1.31s/it]"
     ]
    },
    {
     "name": "stdout",
     "output_type": "stream",
     "text": [
      "output.shape=torch.Size([20, 2423, 8])\n",
      "targets.shape=torch.Size([20, 2423, 8])\n",
      "torch.Size([48460]) torch.Size([48460])\n",
      "12417\n",
      "stacked output.shape=torch.Size([48460, 8])\n",
      "targets.shape=torch.Size([48460, 8])\n",
      "12420\n"
     ]
    },
    {
     "name": "stderr",
     "output_type": "stream",
     "text": [
      " 25%|██▍       | 1231/5000 [26:42<1:23:41,  1.33s/it]"
     ]
    },
    {
     "name": "stdout",
     "output_type": "stream",
     "text": [
      "output.shape=torch.Size([20, 2423, 8])\n",
      "targets.shape=torch.Size([20, 2423, 8])\n",
      "torch.Size([48460]) torch.Size([48460])\n",
      "12358\n",
      "stacked output.shape=torch.Size([48460, 8])\n",
      "targets.shape=torch.Size([48460, 8])\n",
      "12380\n"
     ]
    },
    {
     "name": "stderr",
     "output_type": "stream",
     "text": [
      " 25%|██▍       | 1234/5000 [26:46<1:22:58,  1.32s/it]"
     ]
    },
    {
     "name": "stdout",
     "output_type": "stream",
     "text": [
      "output.shape=torch.Size([20, 2423, 8])\n",
      "targets.shape=torch.Size([20, 2423, 8])\n",
      "torch.Size([48460]) torch.Size([48460])\n",
      "12366\n",
      "stacked output.shape=torch.Size([48460, 8])\n",
      "targets.shape=torch.Size([48460, 8])\n",
      "12220\n"
     ]
    },
    {
     "name": "stderr",
     "output_type": "stream",
     "text": [
      " 25%|██▍       | 1237/5000 [26:50<1:23:05,  1.32s/it]"
     ]
    },
    {
     "name": "stdout",
     "output_type": "stream",
     "text": [
      "output.shape=torch.Size([20, 2423, 8])\n",
      "targets.shape=torch.Size([20, 2423, 8])\n",
      "torch.Size([48460]) torch.Size([48460])\n",
      "12412\n",
      "stacked output.shape=torch.Size([48460, 8])\n",
      "targets.shape=torch.Size([48460, 8])\n",
      "12640\n"
     ]
    },
    {
     "name": "stderr",
     "output_type": "stream",
     "text": [
      " 25%|██▍       | 1240/5000 [26:54<1:22:03,  1.31s/it]"
     ]
    },
    {
     "name": "stdout",
     "output_type": "stream",
     "text": [
      "output.shape=torch.Size([20, 2423, 8])\n",
      "targets.shape=torch.Size([20, 2423, 8])\n",
      "torch.Size([48460]) torch.Size([48460])\n",
      "12376\n",
      "stacked output.shape=torch.Size([48460, 8])\n",
      "targets.shape=torch.Size([48460, 8])\n",
      "12640\n"
     ]
    },
    {
     "name": "stderr",
     "output_type": "stream",
     "text": [
      " 25%|██▍       | 1243/5000 [26:58<1:22:17,  1.31s/it]"
     ]
    },
    {
     "name": "stdout",
     "output_type": "stream",
     "text": [
      "output.shape=torch.Size([20, 2423, 8])\n",
      "targets.shape=torch.Size([20, 2423, 8])\n",
      "torch.Size([48460]) torch.Size([48460])\n",
      "12419\n",
      "stacked output.shape=torch.Size([48460, 8])\n",
      "targets.shape=torch.Size([48460, 8])\n",
      "12320\n"
     ]
    },
    {
     "name": "stderr",
     "output_type": "stream",
     "text": [
      " 25%|██▍       | 1246/5000 [27:02<1:22:46,  1.32s/it]"
     ]
    },
    {
     "name": "stdout",
     "output_type": "stream",
     "text": [
      "output.shape=torch.Size([20, 2423, 8])\n",
      "targets.shape=torch.Size([20, 2423, 8])\n",
      "torch.Size([48460]) torch.Size([48460])\n",
      "12397\n",
      "stacked output.shape=torch.Size([48460, 8])\n",
      "targets.shape=torch.Size([48460, 8])\n",
      "12660\n"
     ]
    },
    {
     "name": "stderr",
     "output_type": "stream",
     "text": [
      " 25%|██▍       | 1249/5000 [27:05<1:22:08,  1.31s/it]"
     ]
    },
    {
     "name": "stdout",
     "output_type": "stream",
     "text": [
      "output.shape=torch.Size([20, 2423, 8])\n",
      "targets.shape=torch.Size([20, 2423, 8])\n",
      "torch.Size([48460]) torch.Size([48460])\n",
      "12381\n",
      "stacked output.shape=torch.Size([48460, 8])\n",
      "targets.shape=torch.Size([48460, 8])\n",
      "12180\n"
     ]
    },
    {
     "name": "stderr",
     "output_type": "stream",
     "text": [
      " 25%|██▌       | 1252/5000 [27:09<1:22:26,  1.32s/it]"
     ]
    },
    {
     "name": "stdout",
     "output_type": "stream",
     "text": [
      "output.shape=torch.Size([20, 2423, 8])\n",
      "targets.shape=torch.Size([20, 2423, 8])\n",
      "torch.Size([48460]) torch.Size([48460])\n",
      "12389\n",
      "stacked output.shape=torch.Size([48460, 8])\n",
      "targets.shape=torch.Size([48460, 8])\n",
      "12600\n"
     ]
    },
    {
     "name": "stderr",
     "output_type": "stream",
     "text": [
      " 25%|██▌       | 1255/5000 [27:13<1:21:57,  1.31s/it]"
     ]
    },
    {
     "name": "stdout",
     "output_type": "stream",
     "text": [
      "output.shape=torch.Size([20, 2423, 8])\n",
      "targets.shape=torch.Size([20, 2423, 8])\n",
      "torch.Size([48460]) torch.Size([48460])\n",
      "12425\n",
      "stacked output.shape=torch.Size([48460, 8])\n",
      "targets.shape=torch.Size([48460, 8])\n",
      "12420\n"
     ]
    },
    {
     "name": "stderr",
     "output_type": "stream",
     "text": [
      " 25%|██▌       | 1258/5000 [27:17<1:22:17,  1.32s/it]"
     ]
    },
    {
     "name": "stdout",
     "output_type": "stream",
     "text": [
      "output.shape=torch.Size([20, 2423, 8])\n",
      "targets.shape=torch.Size([20, 2423, 8])\n",
      "torch.Size([48460]) torch.Size([48460])\n",
      "12323\n",
      "stacked output.shape=torch.Size([48460, 8])\n",
      "targets.shape=torch.Size([48460, 8])\n",
      "12160\n"
     ]
    },
    {
     "name": "stderr",
     "output_type": "stream",
     "text": [
      " 25%|██▌       | 1261/5000 [27:21<1:22:07,  1.32s/it]"
     ]
    },
    {
     "name": "stdout",
     "output_type": "stream",
     "text": [
      "output.shape=torch.Size([20, 2423, 8])\n",
      "targets.shape=torch.Size([20, 2423, 8])\n",
      "torch.Size([48460]) torch.Size([48460])\n",
      "12352\n",
      "stacked output.shape=torch.Size([48460, 8])\n",
      "targets.shape=torch.Size([48460, 8])\n",
      "12420\n"
     ]
    },
    {
     "name": "stderr",
     "output_type": "stream",
     "text": [
      " 25%|██▌       | 1264/5000 [27:25<1:22:28,  1.32s/it]"
     ]
    },
    {
     "name": "stdout",
     "output_type": "stream",
     "text": [
      "output.shape=torch.Size([20, 2423, 8])\n",
      "targets.shape=torch.Size([20, 2423, 8])\n",
      "torch.Size([48460]) torch.Size([48460])\n",
      "12296\n",
      "stacked output.shape=torch.Size([48460, 8])\n",
      "targets.shape=torch.Size([48460, 8])\n",
      "12540\n"
     ]
    },
    {
     "name": "stderr",
     "output_type": "stream",
     "text": [
      " 25%|██▌       | 1267/5000 [27:29<1:21:56,  1.32s/it]"
     ]
    },
    {
     "name": "stdout",
     "output_type": "stream",
     "text": [
      "output.shape=torch.Size([20, 2423, 8])\n",
      "targets.shape=torch.Size([20, 2423, 8])\n",
      "torch.Size([48460]) torch.Size([48460])\n",
      "12297\n",
      "stacked output.shape=torch.Size([48460, 8])\n",
      "targets.shape=torch.Size([48460, 8])\n",
      "12320\n"
     ]
    },
    {
     "name": "stderr",
     "output_type": "stream",
     "text": [
      " 25%|██▌       | 1270/5000 [27:32<1:21:54,  1.32s/it]"
     ]
    },
    {
     "name": "stdout",
     "output_type": "stream",
     "text": [
      "output.shape=torch.Size([20, 2423, 8])\n",
      "targets.shape=torch.Size([20, 2423, 8])\n",
      "torch.Size([48460]) torch.Size([48460])\n",
      "12286\n",
      "stacked output.shape=torch.Size([48460, 8])\n",
      "targets.shape=torch.Size([48460, 8])\n",
      "12400\n"
     ]
    },
    {
     "name": "stderr",
     "output_type": "stream",
     "text": [
      " 25%|██▌       | 1273/5000 [27:36<1:23:34,  1.35s/it]"
     ]
    },
    {
     "name": "stdout",
     "output_type": "stream",
     "text": [
      "output.shape=torch.Size([20, 2423, 8])\n",
      "targets.shape=torch.Size([20, 2423, 8])\n",
      "torch.Size([48460]) torch.Size([48460])\n",
      "12342\n",
      "stacked output.shape=torch.Size([48460, 8])\n",
      "targets.shape=torch.Size([48460, 8])\n",
      "12340\n"
     ]
    },
    {
     "name": "stderr",
     "output_type": "stream",
     "text": [
      " 26%|██▌       | 1276/5000 [27:40<1:22:42,  1.33s/it]"
     ]
    },
    {
     "name": "stdout",
     "output_type": "stream",
     "text": [
      "output.shape=torch.Size([20, 2423, 8])\n",
      "targets.shape=torch.Size([20, 2423, 8])\n",
      "torch.Size([48460]) torch.Size([48460])\n",
      "12309\n",
      "stacked output.shape=torch.Size([48460, 8])\n",
      "targets.shape=torch.Size([48460, 8])\n",
      "12160\n"
     ]
    },
    {
     "name": "stderr",
     "output_type": "stream",
     "text": [
      " 26%|██▌       | 1279/5000 [27:44<1:23:30,  1.35s/it]"
     ]
    },
    {
     "name": "stdout",
     "output_type": "stream",
     "text": [
      "output.shape=torch.Size([20, 2423, 8])\n",
      "targets.shape=torch.Size([20, 2423, 8])\n",
      "torch.Size([48460]) torch.Size([48460])\n",
      "12295\n",
      "stacked output.shape=torch.Size([48460, 8])\n",
      "targets.shape=torch.Size([48460, 8])\n",
      "12380\n"
     ]
    },
    {
     "name": "stderr",
     "output_type": "stream",
     "text": [
      " 26%|██▌       | 1282/5000 [27:48<1:22:11,  1.33s/it]"
     ]
    },
    {
     "name": "stdout",
     "output_type": "stream",
     "text": [
      "output.shape=torch.Size([20, 2423, 8])\n",
      "targets.shape=torch.Size([20, 2423, 8])\n",
      "torch.Size([48460]) torch.Size([48460])\n",
      "12316\n",
      "stacked output.shape=torch.Size([48460, 8])\n",
      "targets.shape=torch.Size([48460, 8])\n",
      "12260\n"
     ]
    },
    {
     "name": "stderr",
     "output_type": "stream",
     "text": [
      " 26%|██▌       | 1285/5000 [27:52<1:21:48,  1.32s/it]"
     ]
    },
    {
     "name": "stdout",
     "output_type": "stream",
     "text": [
      "output.shape=torch.Size([20, 2423, 8])\n",
      "targets.shape=torch.Size([20, 2423, 8])\n",
      "torch.Size([48460]) torch.Size([48460])\n",
      "12325\n",
      "stacked output.shape=torch.Size([48460, 8])\n",
      "targets.shape=torch.Size([48460, 8])\n",
      "12440\n"
     ]
    },
    {
     "name": "stderr",
     "output_type": "stream",
     "text": [
      " 26%|██▌       | 1288/5000 [27:56<1:20:59,  1.31s/it]"
     ]
    },
    {
     "name": "stdout",
     "output_type": "stream",
     "text": [
      "output.shape=torch.Size([20, 2423, 8])\n",
      "targets.shape=torch.Size([20, 2423, 8])\n",
      "torch.Size([48460]) torch.Size([48460])\n",
      "12359\n",
      "stacked output.shape=torch.Size([48460, 8])\n",
      "targets.shape=torch.Size([48460, 8])\n",
      "12620\n"
     ]
    },
    {
     "name": "stderr",
     "output_type": "stream",
     "text": [
      " 26%|██▌       | 1291/5000 [28:00<1:21:45,  1.32s/it]"
     ]
    },
    {
     "name": "stdout",
     "output_type": "stream",
     "text": [
      "output.shape=torch.Size([20, 2423, 8])\n",
      "targets.shape=torch.Size([20, 2423, 8])\n",
      "torch.Size([48460]) torch.Size([48460])\n",
      "12329\n",
      "stacked output.shape=torch.Size([48460, 8])\n",
      "targets.shape=torch.Size([48460, 8])\n",
      "12300\n"
     ]
    },
    {
     "name": "stderr",
     "output_type": "stream",
     "text": [
      " 26%|██▌       | 1294/5000 [28:04<1:20:50,  1.31s/it]"
     ]
    },
    {
     "name": "stdout",
     "output_type": "stream",
     "text": [
      "output.shape=torch.Size([20, 2423, 8])\n",
      "targets.shape=torch.Size([20, 2423, 8])\n",
      "torch.Size([48460]) torch.Size([48460])\n",
      "12350\n",
      "stacked output.shape=torch.Size([48460, 8])\n",
      "targets.shape=torch.Size([48460, 8])\n",
      "12700\n"
     ]
    },
    {
     "name": "stderr",
     "output_type": "stream",
     "text": [
      " 26%|██▌       | 1297/5000 [28:07<1:21:43,  1.32s/it]"
     ]
    },
    {
     "name": "stdout",
     "output_type": "stream",
     "text": [
      "output.shape=torch.Size([20, 2423, 8])\n",
      "targets.shape=torch.Size([20, 2423, 8])\n",
      "torch.Size([48460]) torch.Size([48460])\n",
      "12356\n",
      "stacked output.shape=torch.Size([48460, 8])\n",
      "targets.shape=torch.Size([48460, 8])\n",
      "12560\n"
     ]
    },
    {
     "name": "stderr",
     "output_type": "stream",
     "text": [
      " 26%|██▌       | 1300/5000 [28:11<1:21:18,  1.32s/it]"
     ]
    },
    {
     "name": "stdout",
     "output_type": "stream",
     "text": [
      "output.shape=torch.Size([20, 2423, 8])\n",
      "targets.shape=torch.Size([20, 2423, 8])\n",
      "torch.Size([48460]) torch.Size([48460])\n",
      "12359\n",
      "stacked output.shape=torch.Size([48460, 8])\n",
      "targets.shape=torch.Size([48460, 8])\n",
      "12420\n"
     ]
    },
    {
     "name": "stderr",
     "output_type": "stream",
     "text": [
      " 26%|██▌       | 1303/5000 [28:15<1:21:39,  1.33s/it]"
     ]
    },
    {
     "name": "stdout",
     "output_type": "stream",
     "text": [
      "output.shape=torch.Size([20, 2423, 8])\n",
      "targets.shape=torch.Size([20, 2423, 8])\n",
      "torch.Size([48460]) torch.Size([48460])\n",
      "12324\n",
      "stacked output.shape=torch.Size([48460, 8])\n",
      "targets.shape=torch.Size([48460, 8])\n",
      "12520\n"
     ]
    },
    {
     "name": "stderr",
     "output_type": "stream",
     "text": [
      " 26%|██▌       | 1306/5000 [28:19<1:21:15,  1.32s/it]"
     ]
    },
    {
     "name": "stdout",
     "output_type": "stream",
     "text": [
      "output.shape=torch.Size([20, 2423, 8])\n",
      "targets.shape=torch.Size([20, 2423, 8])\n",
      "torch.Size([48460]) torch.Size([48460])\n",
      "12326\n",
      "stacked output.shape=torch.Size([48460, 8])\n",
      "targets.shape=torch.Size([48460, 8])\n",
      "12480\n"
     ]
    },
    {
     "name": "stderr",
     "output_type": "stream",
     "text": [
      " 26%|██▌       | 1309/5000 [28:23<1:20:58,  1.32s/it]"
     ]
    },
    {
     "name": "stdout",
     "output_type": "stream",
     "text": [
      "output.shape=torch.Size([20, 2423, 8])\n",
      "targets.shape=torch.Size([20, 2423, 8])\n",
      "torch.Size([48460]) torch.Size([48460])\n",
      "12324\n",
      "stacked output.shape=torch.Size([48460, 8])\n",
      "targets.shape=torch.Size([48460, 8])\n",
      "12320\n"
     ]
    },
    {
     "name": "stderr",
     "output_type": "stream",
     "text": [
      " 26%|██▌       | 1312/5000 [28:27<1:20:43,  1.31s/it]"
     ]
    },
    {
     "name": "stdout",
     "output_type": "stream",
     "text": [
      "output.shape=torch.Size([20, 2423, 8])\n",
      "targets.shape=torch.Size([20, 2423, 8])\n",
      "torch.Size([48460]) torch.Size([48460])\n",
      "12347\n",
      "stacked output.shape=torch.Size([48460, 8])\n",
      "targets.shape=torch.Size([48460, 8])\n",
      "12200\n"
     ]
    },
    {
     "name": "stderr",
     "output_type": "stream",
     "text": [
      " 26%|██▋       | 1315/5000 [28:31<1:21:34,  1.33s/it]"
     ]
    },
    {
     "name": "stdout",
     "output_type": "stream",
     "text": [
      "output.shape=torch.Size([20, 2423, 8])\n",
      "targets.shape=torch.Size([20, 2423, 8])\n",
      "torch.Size([48460]) torch.Size([48460])\n",
      "12318\n",
      "stacked output.shape=torch.Size([48460, 8])\n",
      "targets.shape=torch.Size([48460, 8])\n",
      "12300\n"
     ]
    },
    {
     "name": "stderr",
     "output_type": "stream",
     "text": [
      " 26%|██▋       | 1318/5000 [28:35<1:21:23,  1.33s/it]"
     ]
    },
    {
     "name": "stdout",
     "output_type": "stream",
     "text": [
      "output.shape=torch.Size([20, 2423, 8])\n",
      "targets.shape=torch.Size([20, 2423, 8])\n",
      "torch.Size([48460]) torch.Size([48460])\n",
      "12301\n",
      "stacked output.shape=torch.Size([48460, 8])\n",
      "targets.shape=torch.Size([48460, 8])\n",
      "12420\n"
     ]
    },
    {
     "name": "stderr",
     "output_type": "stream",
     "text": [
      " 26%|██▋       | 1321/5000 [28:39<1:22:13,  1.34s/it]"
     ]
    },
    {
     "name": "stdout",
     "output_type": "stream",
     "text": [
      "output.shape=torch.Size([20, 2423, 8])\n",
      "targets.shape=torch.Size([20, 2423, 8])\n",
      "torch.Size([48460]) torch.Size([48460])\n",
      "12316\n",
      "stacked output.shape=torch.Size([48460, 8])\n",
      "targets.shape=torch.Size([48460, 8])\n",
      "12560\n"
     ]
    },
    {
     "name": "stderr",
     "output_type": "stream",
     "text": [
      " 26%|██▋       | 1324/5000 [28:42<1:22:26,  1.35s/it]"
     ]
    },
    {
     "name": "stdout",
     "output_type": "stream",
     "text": [
      "output.shape=torch.Size([20, 2423, 8])\n",
      "targets.shape=torch.Size([20, 2423, 8])\n",
      "torch.Size([48460]) torch.Size([48460])\n",
      "12227\n",
      "stacked output.shape=torch.Size([48460, 8])\n",
      "targets.shape=torch.Size([48460, 8])\n",
      "12200\n"
     ]
    },
    {
     "name": "stderr",
     "output_type": "stream",
     "text": [
      " 27%|██▋       | 1327/5000 [28:47<1:23:03,  1.36s/it]"
     ]
    },
    {
     "name": "stdout",
     "output_type": "stream",
     "text": [
      "output.shape=torch.Size([20, 2423, 8])\n",
      "targets.shape=torch.Size([20, 2423, 8])\n",
      "torch.Size([48460]) torch.Size([48460])\n",
      "12313\n",
      "stacked output.shape=torch.Size([48460, 8])\n",
      "targets.shape=torch.Size([48460, 8])\n",
      "12140\n"
     ]
    },
    {
     "name": "stderr",
     "output_type": "stream",
     "text": [
      " 27%|██▋       | 1330/5000 [28:50<1:23:21,  1.36s/it]"
     ]
    },
    {
     "name": "stdout",
     "output_type": "stream",
     "text": [
      "output.shape=torch.Size([20, 2423, 8])\n",
      "targets.shape=torch.Size([20, 2423, 8])\n",
      "torch.Size([48460]) torch.Size([48460])\n",
      "12292\n",
      "stacked output.shape=torch.Size([48460, 8])\n",
      "targets.shape=torch.Size([48460, 8])\n",
      "12400\n"
     ]
    },
    {
     "name": "stderr",
     "output_type": "stream",
     "text": [
      " 27%|██▋       | 1333/5000 [28:54<1:22:49,  1.36s/it]"
     ]
    },
    {
     "name": "stdout",
     "output_type": "stream",
     "text": [
      "output.shape=torch.Size([20, 2423, 8])\n",
      "targets.shape=torch.Size([20, 2423, 8])\n",
      "torch.Size([48460]) torch.Size([48460])\n",
      "12276\n",
      "stacked output.shape=torch.Size([48460, 8])\n",
      "targets.shape=torch.Size([48460, 8])\n",
      "12160\n"
     ]
    },
    {
     "name": "stderr",
     "output_type": "stream",
     "text": [
      " 27%|██▋       | 1336/5000 [28:58<1:22:37,  1.35s/it]"
     ]
    },
    {
     "name": "stdout",
     "output_type": "stream",
     "text": [
      "output.shape=torch.Size([20, 2423, 8])\n",
      "targets.shape=torch.Size([20, 2423, 8])\n",
      "torch.Size([48460]) torch.Size([48460])\n",
      "12245\n",
      "stacked output.shape=torch.Size([48460, 8])\n",
      "targets.shape=torch.Size([48460, 8])\n",
      "12100\n"
     ]
    },
    {
     "name": "stderr",
     "output_type": "stream",
     "text": [
      " 27%|██▋       | 1339/5000 [29:02<1:21:06,  1.33s/it]"
     ]
    },
    {
     "name": "stdout",
     "output_type": "stream",
     "text": [
      "output.shape=torch.Size([20, 2423, 8])\n",
      "targets.shape=torch.Size([20, 2423, 8])\n",
      "torch.Size([48460]) torch.Size([48460])\n",
      "12305\n",
      "stacked output.shape=torch.Size([48460, 8])\n",
      "targets.shape=torch.Size([48460, 8])\n",
      "12520\n"
     ]
    },
    {
     "name": "stderr",
     "output_type": "stream",
     "text": [
      " 27%|██▋       | 1342/5000 [29:06<1:21:05,  1.33s/it]"
     ]
    },
    {
     "name": "stdout",
     "output_type": "stream",
     "text": [
      "output.shape=torch.Size([20, 2423, 8])\n",
      "targets.shape=torch.Size([20, 2423, 8])\n",
      "torch.Size([48460]) torch.Size([48460])\n",
      "12303\n",
      "stacked output.shape=torch.Size([48460, 8])\n",
      "targets.shape=torch.Size([48460, 8])\n",
      "12160\n"
     ]
    },
    {
     "name": "stderr",
     "output_type": "stream",
     "text": [
      " 27%|██▋       | 1345/5000 [29:10<1:20:18,  1.32s/it]"
     ]
    },
    {
     "name": "stdout",
     "output_type": "stream",
     "text": [
      "output.shape=torch.Size([20, 2423, 8])\n",
      "targets.shape=torch.Size([20, 2423, 8])\n",
      "torch.Size([48460]) torch.Size([48460])\n",
      "12266\n",
      "stacked output.shape=torch.Size([48460, 8])\n",
      "targets.shape=torch.Size([48460, 8])\n",
      "12180\n"
     ]
    },
    {
     "name": "stderr",
     "output_type": "stream",
     "text": [
      " 27%|██▋       | 1348/5000 [29:14<1:20:09,  1.32s/it]"
     ]
    },
    {
     "name": "stdout",
     "output_type": "stream",
     "text": [
      "output.shape=torch.Size([20, 2423, 8])\n",
      "targets.shape=torch.Size([20, 2423, 8])\n",
      "torch.Size([48460]) torch.Size([48460])\n",
      "12276\n",
      "stacked output.shape=torch.Size([48460, 8])\n",
      "targets.shape=torch.Size([48460, 8])\n",
      "11920\n"
     ]
    },
    {
     "name": "stderr",
     "output_type": "stream",
     "text": [
      " 27%|██▋       | 1351/5000 [29:18<1:21:48,  1.35s/it]"
     ]
    },
    {
     "name": "stdout",
     "output_type": "stream",
     "text": [
      "output.shape=torch.Size([20, 2423, 8])\n",
      "targets.shape=torch.Size([20, 2423, 8])\n",
      "torch.Size([48460]) torch.Size([48460])\n",
      "12278\n",
      "stacked output.shape=torch.Size([48460, 8])\n",
      "targets.shape=torch.Size([48460, 8])\n",
      "12040\n"
     ]
    },
    {
     "name": "stderr",
     "output_type": "stream",
     "text": [
      " 27%|██▋       | 1354/5000 [29:22<1:19:41,  1.31s/it]"
     ]
    },
    {
     "name": "stdout",
     "output_type": "stream",
     "text": [
      "output.shape=torch.Size([20, 2423, 8])\n",
      "targets.shape=torch.Size([20, 2423, 8])\n",
      "torch.Size([48460]) torch.Size([48460])\n",
      "12347\n",
      "stacked output.shape=torch.Size([48460, 8])\n",
      "targets.shape=torch.Size([48460, 8])\n",
      "12060\n"
     ]
    },
    {
     "name": "stderr",
     "output_type": "stream",
     "text": [
      " 27%|██▋       | 1357/5000 [29:26<1:20:28,  1.33s/it]"
     ]
    },
    {
     "name": "stdout",
     "output_type": "stream",
     "text": [
      "output.shape=torch.Size([20, 2423, 8])\n",
      "targets.shape=torch.Size([20, 2423, 8])\n",
      "torch.Size([48460]) torch.Size([48460])\n",
      "12271\n",
      "stacked output.shape=torch.Size([48460, 8])\n",
      "targets.shape=torch.Size([48460, 8])\n",
      "12000\n"
     ]
    },
    {
     "name": "stderr",
     "output_type": "stream",
     "text": [
      " 27%|██▋       | 1360/5000 [29:30<1:21:01,  1.34s/it]"
     ]
    },
    {
     "name": "stdout",
     "output_type": "stream",
     "text": [
      "output.shape=torch.Size([20, 2423, 8])\n",
      "targets.shape=torch.Size([20, 2423, 8])\n",
      "torch.Size([48460]) torch.Size([48460])\n",
      "12327\n",
      "stacked output.shape=torch.Size([48460, 8])\n",
      "targets.shape=torch.Size([48460, 8])\n",
      "12300\n"
     ]
    },
    {
     "name": "stderr",
     "output_type": "stream",
     "text": [
      " 27%|██▋       | 1363/5000 [29:33<1:20:25,  1.33s/it]"
     ]
    },
    {
     "name": "stdout",
     "output_type": "stream",
     "text": [
      "output.shape=torch.Size([20, 2423, 8])\n",
      "targets.shape=torch.Size([20, 2423, 8])\n",
      "torch.Size([48460]) torch.Size([48460])\n",
      "12329\n",
      "stacked output.shape=torch.Size([48460, 8])\n",
      "targets.shape=torch.Size([48460, 8])\n",
      "12280\n"
     ]
    },
    {
     "name": "stderr",
     "output_type": "stream",
     "text": [
      " 27%|██▋       | 1366/5000 [29:37<1:19:42,  1.32s/it]"
     ]
    },
    {
     "name": "stdout",
     "output_type": "stream",
     "text": [
      "output.shape=torch.Size([20, 2423, 8])\n",
      "targets.shape=torch.Size([20, 2423, 8])\n",
      "torch.Size([48460]) torch.Size([48460])\n",
      "12308\n",
      "stacked output.shape=torch.Size([48460, 8])\n",
      "targets.shape=torch.Size([48460, 8])\n",
      "12500\n"
     ]
    },
    {
     "name": "stderr",
     "output_type": "stream",
     "text": [
      " 27%|██▋       | 1369/5000 [29:41<1:20:14,  1.33s/it]"
     ]
    },
    {
     "name": "stdout",
     "output_type": "stream",
     "text": [
      "output.shape=torch.Size([20, 2423, 8])\n",
      "targets.shape=torch.Size([20, 2423, 8])\n",
      "torch.Size([48460]) torch.Size([48460])\n",
      "12320\n",
      "stacked output.shape=torch.Size([48460, 8])\n",
      "targets.shape=torch.Size([48460, 8])\n",
      "12220\n"
     ]
    },
    {
     "name": "stderr",
     "output_type": "stream",
     "text": [
      " 27%|██▋       | 1372/5000 [29:45<1:20:11,  1.33s/it]"
     ]
    },
    {
     "name": "stdout",
     "output_type": "stream",
     "text": [
      "output.shape=torch.Size([20, 2423, 8])\n",
      "targets.shape=torch.Size([20, 2423, 8])\n",
      "torch.Size([48460]) torch.Size([48460])\n",
      "12341\n",
      "stacked output.shape=torch.Size([48460, 8])\n",
      "targets.shape=torch.Size([48460, 8])\n",
      "12100\n"
     ]
    },
    {
     "name": "stderr",
     "output_type": "stream",
     "text": [
      " 28%|██▊       | 1375/5000 [29:49<1:19:41,  1.32s/it]"
     ]
    },
    {
     "name": "stdout",
     "output_type": "stream",
     "text": [
      "output.shape=torch.Size([20, 2423, 8])\n",
      "targets.shape=torch.Size([20, 2423, 8])\n",
      "torch.Size([48460]) torch.Size([48460])\n",
      "12235\n",
      "stacked output.shape=torch.Size([48460, 8])\n",
      "targets.shape=torch.Size([48460, 8])\n",
      "12240\n"
     ]
    },
    {
     "name": "stderr",
     "output_type": "stream",
     "text": [
      " 28%|██▊       | 1378/5000 [29:53<1:19:34,  1.32s/it]"
     ]
    },
    {
     "name": "stdout",
     "output_type": "stream",
     "text": [
      "output.shape=torch.Size([20, 2423, 8])\n",
      "targets.shape=torch.Size([20, 2423, 8])\n",
      "torch.Size([48460]) torch.Size([48460])\n",
      "12256\n",
      "stacked output.shape=torch.Size([48460, 8])\n",
      "targets.shape=torch.Size([48460, 8])\n",
      "12200\n"
     ]
    },
    {
     "name": "stderr",
     "output_type": "stream",
     "text": [
      " 28%|██▊       | 1381/5000 [29:57<1:20:03,  1.33s/it]"
     ]
    },
    {
     "name": "stdout",
     "output_type": "stream",
     "text": [
      "output.shape=torch.Size([20, 2423, 8])\n",
      "targets.shape=torch.Size([20, 2423, 8])\n",
      "torch.Size([48460]) torch.Size([48460])\n",
      "12291\n",
      "stacked output.shape=torch.Size([48460, 8])\n",
      "targets.shape=torch.Size([48460, 8])\n",
      "12240\n"
     ]
    },
    {
     "name": "stderr",
     "output_type": "stream",
     "text": [
      " 28%|██▊       | 1384/5000 [30:01<1:20:25,  1.33s/it]"
     ]
    },
    {
     "name": "stdout",
     "output_type": "stream",
     "text": [
      "output.shape=torch.Size([20, 2423, 8])\n",
      "targets.shape=torch.Size([20, 2423, 8])\n",
      "torch.Size([48460]) torch.Size([48460])\n",
      "12266\n",
      "stacked output.shape=torch.Size([48460, 8])\n",
      "targets.shape=torch.Size([48460, 8])\n",
      "12220\n"
     ]
    },
    {
     "name": "stderr",
     "output_type": "stream",
     "text": [
      " 28%|██▊       | 1387/5000 [30:04<1:19:22,  1.32s/it]"
     ]
    },
    {
     "name": "stdout",
     "output_type": "stream",
     "text": [
      "output.shape=torch.Size([20, 2423, 8])\n",
      "targets.shape=torch.Size([20, 2423, 8])\n",
      "torch.Size([48460]) torch.Size([48460])\n",
      "12217\n",
      "stacked output.shape=torch.Size([48460, 8])\n",
      "targets.shape=torch.Size([48460, 8])\n",
      "12120\n"
     ]
    },
    {
     "name": "stderr",
     "output_type": "stream",
     "text": [
      " 28%|██▊       | 1390/5000 [30:08<1:19:34,  1.32s/it]"
     ]
    },
    {
     "name": "stdout",
     "output_type": "stream",
     "text": [
      "output.shape=torch.Size([20, 2423, 8])\n",
      "targets.shape=torch.Size([20, 2423, 8])\n",
      "torch.Size([48460]) torch.Size([48460])\n",
      "12247\n",
      "stacked output.shape=torch.Size([48460, 8])\n",
      "targets.shape=torch.Size([48460, 8])\n",
      "12380\n"
     ]
    },
    {
     "name": "stderr",
     "output_type": "stream",
     "text": [
      " 28%|██▊       | 1393/5000 [30:12<1:18:45,  1.31s/it]"
     ]
    },
    {
     "name": "stdout",
     "output_type": "stream",
     "text": [
      "output.shape=torch.Size([20, 2423, 8])\n",
      "targets.shape=torch.Size([20, 2423, 8])\n",
      "torch.Size([48460]) torch.Size([48460])\n",
      "12219\n",
      "stacked output.shape=torch.Size([48460, 8])\n",
      "targets.shape=torch.Size([48460, 8])\n",
      "12280\n"
     ]
    },
    {
     "name": "stderr",
     "output_type": "stream",
     "text": [
      " 28%|██▊       | 1396/5000 [30:16<1:19:17,  1.32s/it]"
     ]
    },
    {
     "name": "stdout",
     "output_type": "stream",
     "text": [
      "output.shape=torch.Size([20, 2423, 8])\n",
      "targets.shape=torch.Size([20, 2423, 8])\n",
      "torch.Size([48460]) torch.Size([48460])\n",
      "12228\n",
      "stacked output.shape=torch.Size([48460, 8])\n",
      "targets.shape=torch.Size([48460, 8])\n",
      "12300\n"
     ]
    },
    {
     "name": "stderr",
     "output_type": "stream",
     "text": [
      " 28%|██▊       | 1399/5000 [30:20<1:19:32,  1.33s/it]"
     ]
    },
    {
     "name": "stdout",
     "output_type": "stream",
     "text": [
      "output.shape=torch.Size([20, 2423, 8])\n",
      "targets.shape=torch.Size([20, 2423, 8])\n",
      "torch.Size([48460]) torch.Size([48460])\n",
      "12280\n",
      "stacked output.shape=torch.Size([48460, 8])\n",
      "targets.shape=torch.Size([48460, 8])\n",
      "12380\n"
     ]
    },
    {
     "name": "stderr",
     "output_type": "stream",
     "text": [
      " 28%|██▊       | 1402/5000 [30:24<1:19:04,  1.32s/it]"
     ]
    },
    {
     "name": "stdout",
     "output_type": "stream",
     "text": [
      "output.shape=torch.Size([20, 2423, 8])\n",
      "targets.shape=torch.Size([20, 2423, 8])\n",
      "torch.Size([48460]) torch.Size([48460])\n",
      "12279\n",
      "stacked output.shape=torch.Size([48460, 8])\n",
      "targets.shape=torch.Size([48460, 8])\n",
      "12120\n"
     ]
    },
    {
     "name": "stderr",
     "output_type": "stream",
     "text": [
      " 28%|██▊       | 1405/5000 [30:28<1:18:39,  1.31s/it]"
     ]
    },
    {
     "name": "stdout",
     "output_type": "stream",
     "text": [
      "output.shape=torch.Size([20, 2423, 8])\n",
      "targets.shape=torch.Size([20, 2423, 8])\n",
      "torch.Size([48460]) torch.Size([48460])\n",
      "12255\n",
      "stacked output.shape=torch.Size([48460, 8])\n",
      "targets.shape=torch.Size([48460, 8])\n",
      "12240\n"
     ]
    },
    {
     "name": "stderr",
     "output_type": "stream",
     "text": [
      " 28%|██▊       | 1408/5000 [30:32<1:19:09,  1.32s/it]"
     ]
    },
    {
     "name": "stdout",
     "output_type": "stream",
     "text": [
      "output.shape=torch.Size([20, 2423, 8])\n",
      "targets.shape=torch.Size([20, 2423, 8])\n",
      "torch.Size([48460]) torch.Size([48460])\n",
      "12249\n",
      "stacked output.shape=torch.Size([48460, 8])\n",
      "targets.shape=torch.Size([48460, 8])\n",
      "12460\n"
     ]
    },
    {
     "name": "stderr",
     "output_type": "stream",
     "text": [
      " 28%|██▊       | 1411/5000 [30:36<1:20:31,  1.35s/it]"
     ]
    },
    {
     "name": "stdout",
     "output_type": "stream",
     "text": [
      "output.shape=torch.Size([20, 2423, 8])\n",
      "targets.shape=torch.Size([20, 2423, 8])\n",
      "torch.Size([48460]) torch.Size([48460])\n",
      "12274\n",
      "stacked output.shape=torch.Size([48460, 8])\n",
      "targets.shape=torch.Size([48460, 8])\n",
      "12060\n"
     ]
    },
    {
     "name": "stderr",
     "output_type": "stream",
     "text": [
      " 28%|██▊       | 1414/5000 [30:39<1:19:10,  1.32s/it]"
     ]
    },
    {
     "name": "stdout",
     "output_type": "stream",
     "text": [
      "output.shape=torch.Size([20, 2423, 8])\n",
      "targets.shape=torch.Size([20, 2423, 8])\n",
      "torch.Size([48460]) torch.Size([48460])\n",
      "12276\n",
      "stacked output.shape=torch.Size([48460, 8])\n",
      "targets.shape=torch.Size([48460, 8])\n",
      "12220\n"
     ]
    },
    {
     "name": "stderr",
     "output_type": "stream",
     "text": [
      " 28%|██▊       | 1417/5000 [30:43<1:19:46,  1.34s/it]"
     ]
    },
    {
     "name": "stdout",
     "output_type": "stream",
     "text": [
      "output.shape=torch.Size([20, 2423, 8])\n",
      "targets.shape=torch.Size([20, 2423, 8])\n",
      "torch.Size([48460]) torch.Size([48460])\n",
      "12272\n",
      "stacked output.shape=torch.Size([48460, 8])\n",
      "targets.shape=torch.Size([48460, 8])\n",
      "12360\n"
     ]
    },
    {
     "name": "stderr",
     "output_type": "stream",
     "text": [
      " 28%|██▊       | 1420/5000 [30:47<1:18:59,  1.32s/it]"
     ]
    },
    {
     "name": "stdout",
     "output_type": "stream",
     "text": [
      "output.shape=torch.Size([20, 2423, 8])\n",
      "targets.shape=torch.Size([20, 2423, 8])\n",
      "torch.Size([48460]) torch.Size([48460])\n",
      "12239\n",
      "stacked output.shape=torch.Size([48460, 8])\n",
      "targets.shape=torch.Size([48460, 8])\n",
      "12120\n"
     ]
    },
    {
     "name": "stderr",
     "output_type": "stream",
     "text": [
      " 28%|██▊       | 1423/5000 [30:51<1:18:50,  1.32s/it]"
     ]
    },
    {
     "name": "stdout",
     "output_type": "stream",
     "text": [
      "output.shape=torch.Size([20, 2423, 8])\n",
      "targets.shape=torch.Size([20, 2423, 8])\n",
      "torch.Size([48460]) torch.Size([48460])\n",
      "12191\n",
      "stacked output.shape=torch.Size([48460, 8])\n",
      "targets.shape=torch.Size([48460, 8])\n",
      "12100\n"
     ]
    },
    {
     "name": "stderr",
     "output_type": "stream",
     "text": [
      " 29%|██▊       | 1426/5000 [30:55<1:17:52,  1.31s/it]"
     ]
    },
    {
     "name": "stdout",
     "output_type": "stream",
     "text": [
      "output.shape=torch.Size([20, 2423, 8])\n",
      "targets.shape=torch.Size([20, 2423, 8])\n",
      "torch.Size([48460]) torch.Size([48460])\n",
      "12206\n",
      "stacked output.shape=torch.Size([48460, 8])\n",
      "targets.shape=torch.Size([48460, 8])\n",
      "12200\n"
     ]
    },
    {
     "name": "stderr",
     "output_type": "stream",
     "text": [
      " 29%|██▊       | 1429/5000 [30:59<1:17:44,  1.31s/it]"
     ]
    },
    {
     "name": "stdout",
     "output_type": "stream",
     "text": [
      "output.shape=torch.Size([20, 2423, 8])\n",
      "targets.shape=torch.Size([20, 2423, 8])\n",
      "torch.Size([48460]) torch.Size([48460])\n",
      "12247\n",
      "stacked output.shape=torch.Size([48460, 8])\n",
      "targets.shape=torch.Size([48460, 8])\n",
      "12080\n"
     ]
    },
    {
     "name": "stderr",
     "output_type": "stream",
     "text": [
      " 29%|██▊       | 1432/5000 [31:03<1:18:22,  1.32s/it]"
     ]
    },
    {
     "name": "stdout",
     "output_type": "stream",
     "text": [
      "output.shape=torch.Size([20, 2423, 8])\n",
      "targets.shape=torch.Size([20, 2423, 8])\n",
      "torch.Size([48460]) torch.Size([48460])\n",
      "12212\n",
      "stacked output.shape=torch.Size([48460, 8])\n",
      "targets.shape=torch.Size([48460, 8])\n",
      "12200\n"
     ]
    },
    {
     "name": "stderr",
     "output_type": "stream",
     "text": [
      " 29%|██▊       | 1435/5000 [31:07<1:18:49,  1.33s/it]"
     ]
    },
    {
     "name": "stdout",
     "output_type": "stream",
     "text": [
      "output.shape=torch.Size([20, 2423, 8])\n",
      "targets.shape=torch.Size([20, 2423, 8])\n",
      "torch.Size([48460]) torch.Size([48460])\n",
      "12144\n",
      "stacked output.shape=torch.Size([48460, 8])\n",
      "targets.shape=torch.Size([48460, 8])\n",
      "12120\n"
     ]
    },
    {
     "name": "stderr",
     "output_type": "stream",
     "text": [
      " 29%|██▉       | 1438/5000 [31:10<1:18:30,  1.32s/it]"
     ]
    },
    {
     "name": "stdout",
     "output_type": "stream",
     "text": [
      "output.shape=torch.Size([20, 2423, 8])\n",
      "targets.shape=torch.Size([20, 2423, 8])\n",
      "torch.Size([48460]) torch.Size([48460])\n",
      "12185\n",
      "stacked output.shape=torch.Size([48460, 8])\n",
      "targets.shape=torch.Size([48460, 8])\n",
      "12040\n"
     ]
    },
    {
     "name": "stderr",
     "output_type": "stream",
     "text": [
      " 29%|██▉       | 1441/5000 [31:14<1:18:39,  1.33s/it]"
     ]
    },
    {
     "name": "stdout",
     "output_type": "stream",
     "text": [
      "output.shape=torch.Size([20, 2423, 8])\n",
      "targets.shape=torch.Size([20, 2423, 8])\n",
      "torch.Size([48460]) torch.Size([48460])\n",
      "12149\n",
      "stacked output.shape=torch.Size([48460, 8])\n",
      "targets.shape=torch.Size([48460, 8])\n",
      "12340\n"
     ]
    },
    {
     "name": "stderr",
     "output_type": "stream",
     "text": [
      " 29%|██▉       | 1444/5000 [31:18<1:18:09,  1.32s/it]"
     ]
    },
    {
     "name": "stdout",
     "output_type": "stream",
     "text": [
      "output.shape=torch.Size([20, 2423, 8])\n",
      "targets.shape=torch.Size([20, 2423, 8])\n",
      "torch.Size([48460]) torch.Size([48460])\n",
      "12197\n",
      "stacked output.shape=torch.Size([48460, 8])\n",
      "targets.shape=torch.Size([48460, 8])\n",
      "12320\n"
     ]
    },
    {
     "name": "stderr",
     "output_type": "stream",
     "text": [
      " 29%|██▉       | 1447/5000 [31:22<1:18:27,  1.32s/it]"
     ]
    },
    {
     "name": "stdout",
     "output_type": "stream",
     "text": [
      "output.shape=torch.Size([20, 2423, 8])\n",
      "targets.shape=torch.Size([20, 2423, 8])\n",
      "torch.Size([48460]) torch.Size([48460])\n",
      "12165\n",
      "stacked output.shape=torch.Size([48460, 8])\n",
      "targets.shape=torch.Size([48460, 8])\n",
      "12340\n"
     ]
    },
    {
     "name": "stderr",
     "output_type": "stream",
     "text": [
      " 29%|██▉       | 1450/5000 [31:26<1:18:51,  1.33s/it]"
     ]
    },
    {
     "name": "stdout",
     "output_type": "stream",
     "text": [
      "output.shape=torch.Size([20, 2423, 8])\n",
      "targets.shape=torch.Size([20, 2423, 8])\n",
      "torch.Size([48460]) torch.Size([48460])\n",
      "12183\n",
      "stacked output.shape=torch.Size([48460, 8])\n",
      "targets.shape=torch.Size([48460, 8])\n",
      "12140\n"
     ]
    },
    {
     "name": "stderr",
     "output_type": "stream",
     "text": [
      " 29%|██▉       | 1453/5000 [31:30<1:19:17,  1.34s/it]"
     ]
    },
    {
     "name": "stdout",
     "output_type": "stream",
     "text": [
      "output.shape=torch.Size([20, 2423, 8])\n",
      "targets.shape=torch.Size([20, 2423, 8])\n",
      "torch.Size([48460]) torch.Size([48460])\n",
      "12180\n",
      "stacked output.shape=torch.Size([48460, 8])\n",
      "targets.shape=torch.Size([48460, 8])\n",
      "12140\n"
     ]
    },
    {
     "name": "stderr",
     "output_type": "stream",
     "text": [
      " 29%|██▉       | 1456/5000 [31:34<1:20:10,  1.36s/it]"
     ]
    },
    {
     "name": "stdout",
     "output_type": "stream",
     "text": [
      "output.shape=torch.Size([20, 2423, 8])\n",
      "targets.shape=torch.Size([20, 2423, 8])\n",
      "torch.Size([48460]) torch.Size([48460])\n",
      "12179\n",
      "stacked output.shape=torch.Size([48460, 8])\n",
      "targets.shape=torch.Size([48460, 8])\n",
      "12300\n"
     ]
    },
    {
     "name": "stderr",
     "output_type": "stream",
     "text": [
      " 29%|██▉       | 1459/5000 [31:38<1:19:21,  1.34s/it]"
     ]
    },
    {
     "name": "stdout",
     "output_type": "stream",
     "text": [
      "output.shape=torch.Size([20, 2423, 8])\n",
      "targets.shape=torch.Size([20, 2423, 8])\n",
      "torch.Size([48460]) torch.Size([48460])\n",
      "12227\n",
      "stacked output.shape=torch.Size([48460, 8])\n",
      "targets.shape=torch.Size([48460, 8])\n",
      "12120\n"
     ]
    },
    {
     "name": "stderr",
     "output_type": "stream",
     "text": [
      " 29%|██▉       | 1462/5000 [31:42<1:19:09,  1.34s/it]"
     ]
    },
    {
     "name": "stdout",
     "output_type": "stream",
     "text": [
      "output.shape=torch.Size([20, 2423, 8])\n",
      "targets.shape=torch.Size([20, 2423, 8])\n",
      "torch.Size([48460]) torch.Size([48460])\n",
      "12244\n",
      "stacked output.shape=torch.Size([48460, 8])\n",
      "targets.shape=torch.Size([48460, 8])\n",
      "12020\n"
     ]
    },
    {
     "name": "stderr",
     "output_type": "stream",
     "text": [
      " 29%|██▉       | 1465/5000 [31:46<1:19:31,  1.35s/it]"
     ]
    },
    {
     "name": "stdout",
     "output_type": "stream",
     "text": [
      "output.shape=torch.Size([20, 2423, 8])\n",
      "targets.shape=torch.Size([20, 2423, 8])\n",
      "torch.Size([48460]) torch.Size([48460])\n",
      "12199\n",
      "stacked output.shape=torch.Size([48460, 8])\n",
      "targets.shape=torch.Size([48460, 8])\n",
      "12240\n"
     ]
    },
    {
     "name": "stderr",
     "output_type": "stream",
     "text": [
      " 29%|██▉       | 1468/5000 [31:50<1:19:21,  1.35s/it]"
     ]
    },
    {
     "name": "stdout",
     "output_type": "stream",
     "text": [
      "output.shape=torch.Size([20, 2423, 8])\n",
      "targets.shape=torch.Size([20, 2423, 8])\n",
      "torch.Size([48460]) torch.Size([48460])\n",
      "12176\n",
      "stacked output.shape=torch.Size([48460, 8])\n",
      "targets.shape=torch.Size([48460, 8])\n",
      "12400\n"
     ]
    },
    {
     "name": "stderr",
     "output_type": "stream",
     "text": [
      " 29%|██▉       | 1471/5000 [31:54<1:17:58,  1.33s/it]"
     ]
    },
    {
     "name": "stdout",
     "output_type": "stream",
     "text": [
      "output.shape=torch.Size([20, 2423, 8])\n",
      "targets.shape=torch.Size([20, 2423, 8])\n",
      "torch.Size([48460]) torch.Size([48460])\n",
      "12220\n",
      "stacked output.shape=torch.Size([48460, 8])\n",
      "targets.shape=torch.Size([48460, 8])\n",
      "12160\n"
     ]
    },
    {
     "name": "stderr",
     "output_type": "stream",
     "text": [
      " 29%|██▉       | 1474/5000 [31:57<1:17:17,  1.32s/it]"
     ]
    },
    {
     "name": "stdout",
     "output_type": "stream",
     "text": [
      "output.shape=torch.Size([20, 2423, 8])\n",
      "targets.shape=torch.Size([20, 2423, 8])\n",
      "torch.Size([48460]) torch.Size([48460])\n",
      "12202\n",
      "stacked output.shape=torch.Size([48460, 8])\n",
      "targets.shape=torch.Size([48460, 8])\n",
      "11980\n"
     ]
    },
    {
     "name": "stderr",
     "output_type": "stream",
     "text": [
      " 30%|██▉       | 1477/5000 [32:01<1:19:01,  1.35s/it]"
     ]
    },
    {
     "name": "stdout",
     "output_type": "stream",
     "text": [
      "output.shape=torch.Size([20, 2423, 8])\n",
      "targets.shape=torch.Size([20, 2423, 8])\n",
      "torch.Size([48460]) torch.Size([48460])\n",
      "12190\n",
      "stacked output.shape=torch.Size([48460, 8])\n",
      "targets.shape=torch.Size([48460, 8])\n",
      "12220\n"
     ]
    },
    {
     "name": "stderr",
     "output_type": "stream",
     "text": [
      " 30%|██▉       | 1480/5000 [32:05<1:17:57,  1.33s/it]"
     ]
    },
    {
     "name": "stdout",
     "output_type": "stream",
     "text": [
      "output.shape=torch.Size([20, 2423, 8])\n",
      "targets.shape=torch.Size([20, 2423, 8])\n",
      "torch.Size([48460]) torch.Size([48460])\n",
      "12204\n",
      "stacked output.shape=torch.Size([48460, 8])\n",
      "targets.shape=torch.Size([48460, 8])\n",
      "12180\n"
     ]
    },
    {
     "name": "stderr",
     "output_type": "stream",
     "text": [
      " 30%|██▉       | 1483/5000 [32:09<1:17:11,  1.32s/it]"
     ]
    },
    {
     "name": "stdout",
     "output_type": "stream",
     "text": [
      "output.shape=torch.Size([20, 2423, 8])\n",
      "targets.shape=torch.Size([20, 2423, 8])\n",
      "torch.Size([48460]) torch.Size([48460])\n",
      "12165\n",
      "stacked output.shape=torch.Size([48460, 8])\n",
      "targets.shape=torch.Size([48460, 8])\n",
      "12080\n"
     ]
    },
    {
     "name": "stderr",
     "output_type": "stream",
     "text": [
      " 30%|██▉       | 1486/5000 [32:13<1:16:17,  1.30s/it]"
     ]
    },
    {
     "name": "stdout",
     "output_type": "stream",
     "text": [
      "output.shape=torch.Size([20, 2423, 8])\n",
      "targets.shape=torch.Size([20, 2423, 8])\n",
      "torch.Size([48460]) torch.Size([48460])\n",
      "12217\n",
      "stacked output.shape=torch.Size([48460, 8])\n",
      "targets.shape=torch.Size([48460, 8])\n",
      "12340\n"
     ]
    },
    {
     "name": "stderr",
     "output_type": "stream",
     "text": [
      " 30%|██▉       | 1489/5000 [32:17<1:16:59,  1.32s/it]"
     ]
    },
    {
     "name": "stdout",
     "output_type": "stream",
     "text": [
      "output.shape=torch.Size([20, 2423, 8])\n",
      "targets.shape=torch.Size([20, 2423, 8])\n",
      "torch.Size([48460]) torch.Size([48460])\n",
      "12190\n",
      "stacked output.shape=torch.Size([48460, 8])\n",
      "targets.shape=torch.Size([48460, 8])\n",
      "12160\n"
     ]
    },
    {
     "name": "stderr",
     "output_type": "stream",
     "text": [
      " 30%|██▉       | 1492/5000 [32:21<1:16:57,  1.32s/it]"
     ]
    },
    {
     "name": "stdout",
     "output_type": "stream",
     "text": [
      "output.shape=torch.Size([20, 2423, 8])\n",
      "targets.shape=torch.Size([20, 2423, 8])\n",
      "torch.Size([48460]) torch.Size([48460])\n",
      "12197\n",
      "stacked output.shape=torch.Size([48460, 8])\n",
      "targets.shape=torch.Size([48460, 8])\n",
      "11760\n"
     ]
    },
    {
     "name": "stderr",
     "output_type": "stream",
     "text": [
      " 30%|██▉       | 1495/5000 [32:25<1:17:09,  1.32s/it]"
     ]
    },
    {
     "name": "stdout",
     "output_type": "stream",
     "text": [
      "output.shape=torch.Size([20, 2423, 8])\n",
      "targets.shape=torch.Size([20, 2423, 8])\n",
      "torch.Size([48460]) torch.Size([48460])\n",
      "12191\n",
      "stacked output.shape=torch.Size([48460, 8])\n",
      "targets.shape=torch.Size([48460, 8])\n",
      "12080\n"
     ]
    },
    {
     "name": "stderr",
     "output_type": "stream",
     "text": [
      " 30%|██▉       | 1498/5000 [32:29<1:17:45,  1.33s/it]"
     ]
    },
    {
     "name": "stdout",
     "output_type": "stream",
     "text": [
      "output.shape=torch.Size([20, 2423, 8])\n",
      "targets.shape=torch.Size([20, 2423, 8])\n",
      "torch.Size([48460]) torch.Size([48460])\n",
      "12196\n",
      "stacked output.shape=torch.Size([48460, 8])\n",
      "targets.shape=torch.Size([48460, 8])\n",
      "12280\n"
     ]
    },
    {
     "name": "stderr",
     "output_type": "stream",
     "text": [
      " 30%|███       | 1501/5000 [32:32<1:18:02,  1.34s/it]"
     ]
    },
    {
     "name": "stdout",
     "output_type": "stream",
     "text": [
      "output.shape=torch.Size([20, 2423, 8])\n",
      "targets.shape=torch.Size([20, 2423, 8])\n",
      "torch.Size([48460]) torch.Size([48460])\n",
      "12177\n",
      "stacked output.shape=torch.Size([48460, 8])\n",
      "targets.shape=torch.Size([48460, 8])\n",
      "12080\n"
     ]
    },
    {
     "name": "stderr",
     "output_type": "stream",
     "text": [
      " 30%|███       | 1504/5000 [32:36<1:17:16,  1.33s/it]"
     ]
    },
    {
     "name": "stdout",
     "output_type": "stream",
     "text": [
      "output.shape=torch.Size([20, 2423, 8])\n",
      "targets.shape=torch.Size([20, 2423, 8])\n",
      "torch.Size([48460]) torch.Size([48460])\n",
      "12158\n",
      "stacked output.shape=torch.Size([48460, 8])\n",
      "targets.shape=torch.Size([48460, 8])\n",
      "12100\n"
     ]
    },
    {
     "name": "stderr",
     "output_type": "stream",
     "text": [
      " 30%|███       | 1507/5000 [32:40<1:17:12,  1.33s/it]"
     ]
    },
    {
     "name": "stdout",
     "output_type": "stream",
     "text": [
      "output.shape=torch.Size([20, 2423, 8])\n",
      "targets.shape=torch.Size([20, 2423, 8])\n",
      "torch.Size([48460]) torch.Size([48460])\n",
      "12168\n",
      "stacked output.shape=torch.Size([48460, 8])\n",
      "targets.shape=torch.Size([48460, 8])\n",
      "12320\n"
     ]
    },
    {
     "name": "stderr",
     "output_type": "stream",
     "text": [
      " 30%|███       | 1510/5000 [32:44<1:16:46,  1.32s/it]"
     ]
    },
    {
     "name": "stdout",
     "output_type": "stream",
     "text": [
      "output.shape=torch.Size([20, 2423, 8])\n",
      "targets.shape=torch.Size([20, 2423, 8])\n",
      "torch.Size([48460]) torch.Size([48460])\n",
      "12211\n",
      "stacked output.shape=torch.Size([48460, 8])\n",
      "targets.shape=torch.Size([48460, 8])\n",
      "12220\n"
     ]
    },
    {
     "name": "stderr",
     "output_type": "stream",
     "text": [
      " 30%|███       | 1513/5000 [32:48<1:17:01,  1.33s/it]"
     ]
    },
    {
     "name": "stdout",
     "output_type": "stream",
     "text": [
      "output.shape=torch.Size([20, 2423, 8])\n",
      "targets.shape=torch.Size([20, 2423, 8])\n",
      "torch.Size([48460]) torch.Size([48460])\n",
      "12201\n",
      "stacked output.shape=torch.Size([48460, 8])\n",
      "targets.shape=torch.Size([48460, 8])\n",
      "12120\n"
     ]
    },
    {
     "name": "stderr",
     "output_type": "stream",
     "text": [
      " 30%|███       | 1516/5000 [32:52<1:16:21,  1.31s/it]"
     ]
    },
    {
     "name": "stdout",
     "output_type": "stream",
     "text": [
      "output.shape=torch.Size([20, 2423, 8])\n",
      "targets.shape=torch.Size([20, 2423, 8])\n",
      "torch.Size([48460]) torch.Size([48460])\n",
      "12122\n",
      "stacked output.shape=torch.Size([48460, 8])\n",
      "targets.shape=torch.Size([48460, 8])\n",
      "11980\n"
     ]
    },
    {
     "name": "stderr",
     "output_type": "stream",
     "text": [
      " 30%|███       | 1519/5000 [32:56<1:16:40,  1.32s/it]"
     ]
    },
    {
     "name": "stdout",
     "output_type": "stream",
     "text": [
      "output.shape=torch.Size([20, 2423, 8])\n",
      "targets.shape=torch.Size([20, 2423, 8])\n",
      "torch.Size([48460]) torch.Size([48460])\n",
      "12147\n",
      "stacked output.shape=torch.Size([48460, 8])\n",
      "targets.shape=torch.Size([48460, 8])\n",
      "12420\n"
     ]
    },
    {
     "name": "stderr",
     "output_type": "stream",
     "text": [
      " 30%|███       | 1522/5000 [33:00<1:16:49,  1.33s/it]"
     ]
    },
    {
     "name": "stdout",
     "output_type": "stream",
     "text": [
      "output.shape=torch.Size([20, 2423, 8])\n",
      "targets.shape=torch.Size([20, 2423, 8])\n",
      "torch.Size([48460]) torch.Size([48460])\n",
      "12053\n",
      "stacked output.shape=torch.Size([48460, 8])\n",
      "targets.shape=torch.Size([48460, 8])\n",
      "12420\n"
     ]
    },
    {
     "name": "stderr",
     "output_type": "stream",
     "text": [
      " 30%|███       | 1525/5000 [33:04<1:16:32,  1.32s/it]"
     ]
    },
    {
     "name": "stdout",
     "output_type": "stream",
     "text": [
      "output.shape=torch.Size([20, 2423, 8])\n",
      "targets.shape=torch.Size([20, 2423, 8])\n",
      "torch.Size([48460]) torch.Size([48460])\n",
      "12135\n",
      "stacked output.shape=torch.Size([48460, 8])\n",
      "targets.shape=torch.Size([48460, 8])\n",
      "12220\n"
     ]
    },
    {
     "name": "stderr",
     "output_type": "stream",
     "text": [
      " 31%|███       | 1528/5000 [33:07<1:16:22,  1.32s/it]"
     ]
    },
    {
     "name": "stdout",
     "output_type": "stream",
     "text": [
      "output.shape=torch.Size([20, 2423, 8])\n",
      "targets.shape=torch.Size([20, 2423, 8])\n",
      "torch.Size([48460]) torch.Size([48460])\n",
      "12190\n",
      "stacked output.shape=torch.Size([48460, 8])\n",
      "targets.shape=torch.Size([48460, 8])\n",
      "12200\n"
     ]
    },
    {
     "name": "stderr",
     "output_type": "stream",
     "text": [
      " 31%|███       | 1531/5000 [33:11<1:16:19,  1.32s/it]"
     ]
    },
    {
     "name": "stdout",
     "output_type": "stream",
     "text": [
      "output.shape=torch.Size([20, 2423, 8])\n",
      "targets.shape=torch.Size([20, 2423, 8])\n",
      "torch.Size([48460]) torch.Size([48460])\n",
      "12148\n",
      "stacked output.shape=torch.Size([48460, 8])\n",
      "targets.shape=torch.Size([48460, 8])\n",
      "12280\n"
     ]
    },
    {
     "name": "stderr",
     "output_type": "stream",
     "text": [
      " 31%|███       | 1534/5000 [33:15<1:16:08,  1.32s/it]"
     ]
    },
    {
     "name": "stdout",
     "output_type": "stream",
     "text": [
      "output.shape=torch.Size([20, 2423, 8])\n",
      "targets.shape=torch.Size([20, 2423, 8])\n",
      "torch.Size([48460]) torch.Size([48460])\n",
      "12186\n",
      "stacked output.shape=torch.Size([48460, 8])\n",
      "targets.shape=torch.Size([48460, 8])\n",
      "12320\n"
     ]
    },
    {
     "name": "stderr",
     "output_type": "stream",
     "text": [
      " 31%|███       | 1537/5000 [33:19<1:16:28,  1.33s/it]"
     ]
    },
    {
     "name": "stdout",
     "output_type": "stream",
     "text": [
      "output.shape=torch.Size([20, 2423, 8])\n",
      "targets.shape=torch.Size([20, 2423, 8])\n",
      "torch.Size([48460]) torch.Size([48460])\n",
      "12216\n",
      "stacked output.shape=torch.Size([48460, 8])\n",
      "targets.shape=torch.Size([48460, 8])\n",
      "12200\n"
     ]
    },
    {
     "name": "stderr",
     "output_type": "stream",
     "text": [
      " 31%|███       | 1540/5000 [33:23<1:15:50,  1.32s/it]"
     ]
    },
    {
     "name": "stdout",
     "output_type": "stream",
     "text": [
      "output.shape=torch.Size([20, 2423, 8])\n",
      "targets.shape=torch.Size([20, 2423, 8])\n",
      "torch.Size([48460]) torch.Size([48460])\n",
      "12169\n",
      "stacked output.shape=torch.Size([48460, 8])\n",
      "targets.shape=torch.Size([48460, 8])\n",
      "12100\n"
     ]
    },
    {
     "name": "stderr",
     "output_type": "stream",
     "text": [
      " 31%|███       | 1543/5000 [33:27<1:15:57,  1.32s/it]"
     ]
    },
    {
     "name": "stdout",
     "output_type": "stream",
     "text": [
      "output.shape=torch.Size([20, 2423, 8])\n",
      "targets.shape=torch.Size([20, 2423, 8])\n",
      "torch.Size([48460]) torch.Size([48460])\n",
      "12143\n",
      "stacked output.shape=torch.Size([48460, 8])\n",
      "targets.shape=torch.Size([48460, 8])\n",
      "12380\n"
     ]
    },
    {
     "name": "stderr",
     "output_type": "stream",
     "text": [
      " 31%|███       | 1546/5000 [33:31<1:15:48,  1.32s/it]"
     ]
    },
    {
     "name": "stdout",
     "output_type": "stream",
     "text": [
      "output.shape=torch.Size([20, 2423, 8])\n",
      "targets.shape=torch.Size([20, 2423, 8])\n",
      "torch.Size([48460]) torch.Size([48460])\n",
      "12200\n",
      "stacked output.shape=torch.Size([48460, 8])\n",
      "targets.shape=torch.Size([48460, 8])\n",
      "12560\n"
     ]
    },
    {
     "name": "stderr",
     "output_type": "stream",
     "text": [
      " 31%|███       | 1549/5000 [33:35<1:16:38,  1.33s/it]"
     ]
    },
    {
     "name": "stdout",
     "output_type": "stream",
     "text": [
      "output.shape=torch.Size([20, 2423, 8])\n",
      "targets.shape=torch.Size([20, 2423, 8])\n",
      "torch.Size([48460]) torch.Size([48460])\n",
      "12096\n",
      "stacked output.shape=torch.Size([48460, 8])\n",
      "targets.shape=torch.Size([48460, 8])\n",
      "11920\n"
     ]
    },
    {
     "name": "stderr",
     "output_type": "stream",
     "text": [
      " 31%|███       | 1552/5000 [33:38<1:16:51,  1.34s/it]"
     ]
    },
    {
     "name": "stdout",
     "output_type": "stream",
     "text": [
      "output.shape=torch.Size([20, 2423, 8])\n",
      "targets.shape=torch.Size([20, 2423, 8])\n",
      "torch.Size([48460]) torch.Size([48460])\n",
      "12234\n",
      "stacked output.shape=torch.Size([48460, 8])\n",
      "targets.shape=torch.Size([48460, 8])\n",
      "12600\n"
     ]
    },
    {
     "name": "stderr",
     "output_type": "stream",
     "text": [
      " 31%|███       | 1555/5000 [33:42<1:16:05,  1.33s/it]"
     ]
    },
    {
     "name": "stdout",
     "output_type": "stream",
     "text": [
      "output.shape=torch.Size([20, 2423, 8])\n",
      "targets.shape=torch.Size([20, 2423, 8])\n",
      "torch.Size([48460]) torch.Size([48460])\n",
      "12197\n",
      "stacked output.shape=torch.Size([48460, 8])\n",
      "targets.shape=torch.Size([48460, 8])\n",
      "12260\n"
     ]
    },
    {
     "name": "stderr",
     "output_type": "stream",
     "text": [
      " 31%|███       | 1558/5000 [33:46<1:16:49,  1.34s/it]"
     ]
    },
    {
     "name": "stdout",
     "output_type": "stream",
     "text": [
      "output.shape=torch.Size([20, 2423, 8])\n",
      "targets.shape=torch.Size([20, 2423, 8])\n",
      "torch.Size([48460]) torch.Size([48460])\n",
      "12151\n",
      "stacked output.shape=torch.Size([48460, 8])\n",
      "targets.shape=torch.Size([48460, 8])\n",
      "12360\n"
     ]
    },
    {
     "name": "stderr",
     "output_type": "stream",
     "text": [
      " 31%|███       | 1561/5000 [33:50<1:15:37,  1.32s/it]"
     ]
    },
    {
     "name": "stdout",
     "output_type": "stream",
     "text": [
      "output.shape=torch.Size([20, 2423, 8])\n",
      "targets.shape=torch.Size([20, 2423, 8])\n",
      "torch.Size([48460]) torch.Size([48460])\n",
      "12200\n",
      "stacked output.shape=torch.Size([48460, 8])\n",
      "targets.shape=torch.Size([48460, 8])\n",
      "12380\n"
     ]
    },
    {
     "name": "stderr",
     "output_type": "stream",
     "text": [
      " 31%|███▏      | 1564/5000 [33:54<1:14:52,  1.31s/it]"
     ]
    },
    {
     "name": "stdout",
     "output_type": "stream",
     "text": [
      "output.shape=torch.Size([20, 2423, 8])\n",
      "targets.shape=torch.Size([20, 2423, 8])\n",
      "torch.Size([48460]) torch.Size([48460])\n",
      "12130\n",
      "stacked output.shape=torch.Size([48460, 8])\n",
      "targets.shape=torch.Size([48460, 8])\n",
      "12200\n"
     ]
    },
    {
     "name": "stderr",
     "output_type": "stream",
     "text": [
      " 31%|███▏      | 1567/5000 [33:58<1:15:13,  1.31s/it]"
     ]
    },
    {
     "name": "stdout",
     "output_type": "stream",
     "text": [
      "output.shape=torch.Size([20, 2423, 8])\n",
      "targets.shape=torch.Size([20, 2423, 8])\n",
      "torch.Size([48460]) torch.Size([48460])\n",
      "12176\n",
      "stacked output.shape=torch.Size([48460, 8])\n",
      "targets.shape=torch.Size([48460, 8])\n",
      "12480\n"
     ]
    },
    {
     "name": "stderr",
     "output_type": "stream",
     "text": [
      " 31%|███▏      | 1570/5000 [34:02<1:15:16,  1.32s/it]"
     ]
    },
    {
     "name": "stdout",
     "output_type": "stream",
     "text": [
      "output.shape=torch.Size([20, 2423, 8])\n",
      "targets.shape=torch.Size([20, 2423, 8])\n",
      "torch.Size([48460]) torch.Size([48460])\n",
      "12077\n",
      "stacked output.shape=torch.Size([48460, 8])\n",
      "targets.shape=torch.Size([48460, 8])\n",
      "12140\n"
     ]
    },
    {
     "name": "stderr",
     "output_type": "stream",
     "text": [
      " 31%|███▏      | 1573/5000 [34:06<1:15:17,  1.32s/it]"
     ]
    },
    {
     "name": "stdout",
     "output_type": "stream",
     "text": [
      "output.shape=torch.Size([20, 2423, 8])\n",
      "targets.shape=torch.Size([20, 2423, 8])\n",
      "torch.Size([48460]) torch.Size([48460])\n",
      "12135\n",
      "stacked output.shape=torch.Size([48460, 8])\n",
      "targets.shape=torch.Size([48460, 8])\n",
      "12140\n"
     ]
    },
    {
     "name": "stderr",
     "output_type": "stream",
     "text": [
      " 32%|███▏      | 1576/5000 [34:09<1:16:00,  1.33s/it]"
     ]
    },
    {
     "name": "stdout",
     "output_type": "stream",
     "text": [
      "output.shape=torch.Size([20, 2423, 8])\n",
      "targets.shape=torch.Size([20, 2423, 8])\n",
      "torch.Size([48460]) torch.Size([48460])\n",
      "12112\n",
      "stacked output.shape=torch.Size([48460, 8])\n",
      "targets.shape=torch.Size([48460, 8])\n",
      "11760\n"
     ]
    },
    {
     "name": "stderr",
     "output_type": "stream",
     "text": [
      " 32%|███▏      | 1579/5000 [34:13<1:15:12,  1.32s/it]"
     ]
    },
    {
     "name": "stdout",
     "output_type": "stream",
     "text": [
      "output.shape=torch.Size([20, 2423, 8])\n",
      "targets.shape=torch.Size([20, 2423, 8])\n",
      "torch.Size([48460]) torch.Size([48460])\n",
      "12177\n",
      "stacked output.shape=torch.Size([48460, 8])\n",
      "targets.shape=torch.Size([48460, 8])\n",
      "12460\n"
     ]
    },
    {
     "name": "stderr",
     "output_type": "stream",
     "text": [
      " 32%|███▏      | 1582/5000 [34:17<1:14:41,  1.31s/it]"
     ]
    },
    {
     "name": "stdout",
     "output_type": "stream",
     "text": [
      "output.shape=torch.Size([20, 2423, 8])\n",
      "targets.shape=torch.Size([20, 2423, 8])\n",
      "torch.Size([48460]) torch.Size([48460])\n",
      "12181\n",
      "stacked output.shape=torch.Size([48460, 8])\n",
      "targets.shape=torch.Size([48460, 8])\n",
      "12400\n"
     ]
    },
    {
     "name": "stderr",
     "output_type": "stream",
     "text": [
      " 32%|███▏      | 1585/5000 [34:21<1:16:48,  1.35s/it]"
     ]
    },
    {
     "name": "stdout",
     "output_type": "stream",
     "text": [
      "output.shape=torch.Size([20, 2423, 8])\n",
      "targets.shape=torch.Size([20, 2423, 8])\n",
      "torch.Size([48460]) torch.Size([48460])\n",
      "12205\n",
      "stacked output.shape=torch.Size([48460, 8])\n",
      "targets.shape=torch.Size([48460, 8])\n",
      "12360\n"
     ]
    },
    {
     "name": "stderr",
     "output_type": "stream",
     "text": [
      " 32%|███▏      | 1588/5000 [34:25<1:16:33,  1.35s/it]"
     ]
    },
    {
     "name": "stdout",
     "output_type": "stream",
     "text": [
      "output.shape=torch.Size([20, 2423, 8])\n",
      "targets.shape=torch.Size([20, 2423, 8])\n",
      "torch.Size([48460]) torch.Size([48460])\n",
      "12203\n",
      "stacked output.shape=torch.Size([48460, 8])\n",
      "targets.shape=torch.Size([48460, 8])\n",
      "11980\n"
     ]
    },
    {
     "name": "stderr",
     "output_type": "stream",
     "text": [
      " 32%|███▏      | 1591/5000 [34:29<1:16:47,  1.35s/it]"
     ]
    },
    {
     "name": "stdout",
     "output_type": "stream",
     "text": [
      "output.shape=torch.Size([20, 2423, 8])\n",
      "targets.shape=torch.Size([20, 2423, 8])\n",
      "torch.Size([48460]) torch.Size([48460])\n",
      "12163\n",
      "stacked output.shape=torch.Size([48460, 8])\n",
      "targets.shape=torch.Size([48460, 8])\n",
      "12300\n"
     ]
    },
    {
     "name": "stderr",
     "output_type": "stream",
     "text": [
      " 32%|███▏      | 1594/5000 [34:33<1:15:51,  1.34s/it]"
     ]
    },
    {
     "name": "stdout",
     "output_type": "stream",
     "text": [
      "output.shape=torch.Size([20, 2423, 8])\n",
      "targets.shape=torch.Size([20, 2423, 8])\n",
      "torch.Size([48460]) torch.Size([48460])\n",
      "12114\n",
      "stacked output.shape=torch.Size([48460, 8])\n",
      "targets.shape=torch.Size([48460, 8])\n",
      "12140\n"
     ]
    },
    {
     "name": "stderr",
     "output_type": "stream",
     "text": [
      " 32%|███▏      | 1597/5000 [34:37<1:15:24,  1.33s/it]"
     ]
    },
    {
     "name": "stdout",
     "output_type": "stream",
     "text": [
      "output.shape=torch.Size([20, 2423, 8])\n",
      "targets.shape=torch.Size([20, 2423, 8])\n",
      "torch.Size([48460]) torch.Size([48460])\n",
      "12170\n",
      "stacked output.shape=torch.Size([48460, 8])\n",
      "targets.shape=torch.Size([48460, 8])\n",
      "12220\n"
     ]
    },
    {
     "name": "stderr",
     "output_type": "stream",
     "text": [
      " 32%|███▏      | 1600/5000 [34:41<1:15:15,  1.33s/it]"
     ]
    },
    {
     "name": "stdout",
     "output_type": "stream",
     "text": [
      "output.shape=torch.Size([20, 2423, 8])\n",
      "targets.shape=torch.Size([20, 2423, 8])\n",
      "torch.Size([48460]) torch.Size([48460])\n",
      "12194\n",
      "stacked output.shape=torch.Size([48460, 8])\n",
      "targets.shape=torch.Size([48460, 8])\n",
      "12300\n"
     ]
    },
    {
     "name": "stderr",
     "output_type": "stream",
     "text": [
      " 32%|███▏      | 1603/5000 [34:45<1:15:22,  1.33s/it]"
     ]
    },
    {
     "name": "stdout",
     "output_type": "stream",
     "text": [
      "output.shape=torch.Size([20, 2423, 8])\n",
      "targets.shape=torch.Size([20, 2423, 8])\n",
      "torch.Size([48460]) torch.Size([48460])\n",
      "12113\n",
      "stacked output.shape=torch.Size([48460, 8])\n",
      "targets.shape=torch.Size([48460, 8])\n",
      "12160\n"
     ]
    },
    {
     "name": "stderr",
     "output_type": "stream",
     "text": [
      " 32%|███▏      | 1606/5000 [34:49<1:15:04,  1.33s/it]"
     ]
    },
    {
     "name": "stdout",
     "output_type": "stream",
     "text": [
      "output.shape=torch.Size([20, 2423, 8])\n",
      "targets.shape=torch.Size([20, 2423, 8])\n",
      "torch.Size([48460]) torch.Size([48460])\n",
      "12109\n",
      "stacked output.shape=torch.Size([48460, 8])\n",
      "targets.shape=torch.Size([48460, 8])\n",
      "12120\n"
     ]
    },
    {
     "name": "stderr",
     "output_type": "stream",
     "text": [
      " 32%|███▏      | 1609/5000 [34:53<1:16:11,  1.35s/it]"
     ]
    },
    {
     "name": "stdout",
     "output_type": "stream",
     "text": [
      "output.shape=torch.Size([20, 2423, 8])\n",
      "targets.shape=torch.Size([20, 2423, 8])\n",
      "torch.Size([48460]) torch.Size([48460])\n",
      "12120\n",
      "stacked output.shape=torch.Size([48460, 8])\n",
      "targets.shape=torch.Size([48460, 8])\n",
      "12240\n"
     ]
    },
    {
     "name": "stderr",
     "output_type": "stream",
     "text": [
      " 32%|███▏      | 1612/5000 [34:56<1:14:34,  1.32s/it]"
     ]
    },
    {
     "name": "stdout",
     "output_type": "stream",
     "text": [
      "output.shape=torch.Size([20, 2423, 8])\n",
      "targets.shape=torch.Size([20, 2423, 8])\n",
      "torch.Size([48460]) torch.Size([48460])\n",
      "12154\n",
      "stacked output.shape=torch.Size([48460, 8])\n",
      "targets.shape=torch.Size([48460, 8])\n",
      "12160\n"
     ]
    },
    {
     "name": "stderr",
     "output_type": "stream",
     "text": [
      " 32%|███▏      | 1615/5000 [35:00<1:14:37,  1.32s/it]"
     ]
    },
    {
     "name": "stdout",
     "output_type": "stream",
     "text": [
      "output.shape=torch.Size([20, 2423, 8])\n",
      "targets.shape=torch.Size([20, 2423, 8])\n",
      "torch.Size([48460]) torch.Size([48460])\n",
      "12139\n",
      "stacked output.shape=torch.Size([48460, 8])\n",
      "targets.shape=torch.Size([48460, 8])\n",
      "12200\n"
     ]
    },
    {
     "name": "stderr",
     "output_type": "stream",
     "text": [
      " 32%|███▏      | 1618/5000 [35:04<1:13:41,  1.31s/it]"
     ]
    },
    {
     "name": "stdout",
     "output_type": "stream",
     "text": [
      "output.shape=torch.Size([20, 2423, 8])\n",
      "targets.shape=torch.Size([20, 2423, 8])\n",
      "torch.Size([48460]) torch.Size([48460])\n",
      "12128\n",
      "stacked output.shape=torch.Size([48460, 8])\n",
      "targets.shape=torch.Size([48460, 8])\n",
      "12300\n"
     ]
    },
    {
     "name": "stderr",
     "output_type": "stream",
     "text": [
      " 32%|███▏      | 1621/5000 [35:08<1:14:26,  1.32s/it]"
     ]
    },
    {
     "name": "stdout",
     "output_type": "stream",
     "text": [
      "output.shape=torch.Size([20, 2423, 8])\n",
      "targets.shape=torch.Size([20, 2423, 8])\n",
      "torch.Size([48460]) torch.Size([48460])\n",
      "12111\n",
      "stacked output.shape=torch.Size([48460, 8])\n",
      "targets.shape=torch.Size([48460, 8])\n",
      "12360\n"
     ]
    },
    {
     "name": "stderr",
     "output_type": "stream",
     "text": [
      " 32%|███▏      | 1624/5000 [35:12<1:14:10,  1.32s/it]"
     ]
    },
    {
     "name": "stdout",
     "output_type": "stream",
     "text": [
      "output.shape=torch.Size([20, 2423, 8])\n",
      "targets.shape=torch.Size([20, 2423, 8])\n",
      "torch.Size([48460]) torch.Size([48460])\n",
      "12151\n",
      "stacked output.shape=torch.Size([48460, 8])\n",
      "targets.shape=torch.Size([48460, 8])\n",
      "11980\n"
     ]
    },
    {
     "name": "stderr",
     "output_type": "stream",
     "text": [
      " 33%|███▎      | 1627/5000 [35:16<1:13:31,  1.31s/it]"
     ]
    },
    {
     "name": "stdout",
     "output_type": "stream",
     "text": [
      "output.shape=torch.Size([20, 2423, 8])\n",
      "targets.shape=torch.Size([20, 2423, 8])\n",
      "torch.Size([48460]) torch.Size([48460])\n",
      "12113\n",
      "stacked output.shape=torch.Size([48460, 8])\n",
      "targets.shape=torch.Size([48460, 8])\n",
      "12180\n"
     ]
    },
    {
     "name": "stderr",
     "output_type": "stream",
     "text": [
      " 33%|███▎      | 1630/5000 [35:20<1:14:34,  1.33s/it]"
     ]
    },
    {
     "name": "stdout",
     "output_type": "stream",
     "text": [
      "output.shape=torch.Size([20, 2423, 8])\n",
      "targets.shape=torch.Size([20, 2423, 8])\n",
      "torch.Size([48460]) torch.Size([48460])\n",
      "12100\n",
      "stacked output.shape=torch.Size([48460, 8])\n",
      "targets.shape=torch.Size([48460, 8])\n",
      "12200\n"
     ]
    },
    {
     "name": "stderr",
     "output_type": "stream",
     "text": [
      " 33%|███▎      | 1633/5000 [35:23<1:13:55,  1.32s/it]"
     ]
    },
    {
     "name": "stdout",
     "output_type": "stream",
     "text": [
      "output.shape=torch.Size([20, 2423, 8])\n",
      "targets.shape=torch.Size([20, 2423, 8])\n",
      "torch.Size([48460]) torch.Size([48460])\n",
      "12098\n",
      "stacked output.shape=torch.Size([48460, 8])\n",
      "targets.shape=torch.Size([48460, 8])\n",
      "12320\n"
     ]
    },
    {
     "name": "stderr",
     "output_type": "stream",
     "text": [
      " 33%|███▎      | 1636/5000 [35:27<1:14:57,  1.34s/it]"
     ]
    },
    {
     "name": "stdout",
     "output_type": "stream",
     "text": [
      "output.shape=torch.Size([20, 2423, 8])\n",
      "targets.shape=torch.Size([20, 2423, 8])\n",
      "torch.Size([48460]) torch.Size([48460])\n",
      "12167\n",
      "stacked output.shape=torch.Size([48460, 8])\n",
      "targets.shape=torch.Size([48460, 8])\n",
      "12220\n"
     ]
    },
    {
     "name": "stderr",
     "output_type": "stream",
     "text": [
      " 33%|███▎      | 1639/5000 [35:31<1:14:39,  1.33s/it]"
     ]
    },
    {
     "name": "stdout",
     "output_type": "stream",
     "text": [
      "output.shape=torch.Size([20, 2423, 8])\n",
      "targets.shape=torch.Size([20, 2423, 8])\n",
      "torch.Size([48460]) torch.Size([48460])\n",
      "12209\n",
      "stacked output.shape=torch.Size([48460, 8])\n",
      "targets.shape=torch.Size([48460, 8])\n",
      "12400\n"
     ]
    },
    {
     "name": "stderr",
     "output_type": "stream",
     "text": [
      " 33%|███▎      | 1642/5000 [35:35<1:13:23,  1.31s/it]"
     ]
    },
    {
     "name": "stdout",
     "output_type": "stream",
     "text": [
      "output.shape=torch.Size([20, 2423, 8])\n",
      "targets.shape=torch.Size([20, 2423, 8])\n",
      "torch.Size([48460]) torch.Size([48460])\n",
      "12119\n",
      "stacked output.shape=torch.Size([48460, 8])\n",
      "targets.shape=torch.Size([48460, 8])\n",
      "12480\n"
     ]
    },
    {
     "name": "stderr",
     "output_type": "stream",
     "text": [
      " 33%|███▎      | 1645/5000 [35:39<1:13:32,  1.32s/it]"
     ]
    },
    {
     "name": "stdout",
     "output_type": "stream",
     "text": [
      "output.shape=torch.Size([20, 2423, 8])\n",
      "targets.shape=torch.Size([20, 2423, 8])\n",
      "torch.Size([48460]) torch.Size([48460])\n",
      "12177\n",
      "stacked output.shape=torch.Size([48460, 8])\n",
      "targets.shape=torch.Size([48460, 8])\n",
      "12340\n"
     ]
    },
    {
     "name": "stderr",
     "output_type": "stream",
     "text": [
      " 33%|███▎      | 1648/5000 [35:43<1:14:18,  1.33s/it]"
     ]
    },
    {
     "name": "stdout",
     "output_type": "stream",
     "text": [
      "output.shape=torch.Size([20, 2423, 8])\n",
      "targets.shape=torch.Size([20, 2423, 8])\n",
      "torch.Size([48460]) torch.Size([48460])\n",
      "12125\n",
      "stacked output.shape=torch.Size([48460, 8])\n",
      "targets.shape=torch.Size([48460, 8])\n",
      "12300\n"
     ]
    },
    {
     "name": "stderr",
     "output_type": "stream",
     "text": [
      " 33%|███▎      | 1651/5000 [35:47<1:13:32,  1.32s/it]"
     ]
    },
    {
     "name": "stdout",
     "output_type": "stream",
     "text": [
      "output.shape=torch.Size([20, 2423, 8])\n",
      "targets.shape=torch.Size([20, 2423, 8])\n",
      "torch.Size([48460]) torch.Size([48460])\n",
      "12165\n",
      "stacked output.shape=torch.Size([48460, 8])\n",
      "targets.shape=torch.Size([48460, 8])\n",
      "12260\n"
     ]
    },
    {
     "name": "stderr",
     "output_type": "stream",
     "text": [
      " 33%|███▎      | 1654/5000 [35:51<1:13:31,  1.32s/it]"
     ]
    },
    {
     "name": "stdout",
     "output_type": "stream",
     "text": [
      "output.shape=torch.Size([20, 2423, 8])\n",
      "targets.shape=torch.Size([20, 2423, 8])\n",
      "torch.Size([48460]) torch.Size([48460])\n",
      "12165\n",
      "stacked output.shape=torch.Size([48460, 8])\n",
      "targets.shape=torch.Size([48460, 8])\n",
      "12380\n"
     ]
    },
    {
     "name": "stderr",
     "output_type": "stream",
     "text": [
      " 33%|███▎      | 1657/5000 [35:55<1:13:23,  1.32s/it]"
     ]
    },
    {
     "name": "stdout",
     "output_type": "stream",
     "text": [
      "output.shape=torch.Size([20, 2423, 8])\n",
      "targets.shape=torch.Size([20, 2423, 8])\n",
      "torch.Size([48460]) torch.Size([48460])\n",
      "12166\n",
      "stacked output.shape=torch.Size([48460, 8])\n",
      "targets.shape=torch.Size([48460, 8])\n",
      "12180\n"
     ]
    },
    {
     "name": "stderr",
     "output_type": "stream",
     "text": [
      " 33%|███▎      | 1660/5000 [35:58<1:13:35,  1.32s/it]"
     ]
    },
    {
     "name": "stdout",
     "output_type": "stream",
     "text": [
      "output.shape=torch.Size([20, 2423, 8])\n",
      "targets.shape=torch.Size([20, 2423, 8])\n",
      "torch.Size([48460]) torch.Size([48460])\n",
      "12157\n",
      "stacked output.shape=torch.Size([48460, 8])\n",
      "targets.shape=torch.Size([48460, 8])\n",
      "12320\n"
     ]
    },
    {
     "name": "stderr",
     "output_type": "stream",
     "text": [
      " 33%|███▎      | 1663/5000 [36:02<1:12:49,  1.31s/it]"
     ]
    },
    {
     "name": "stdout",
     "output_type": "stream",
     "text": [
      "output.shape=torch.Size([20, 2423, 8])\n",
      "targets.shape=torch.Size([20, 2423, 8])\n",
      "torch.Size([48460]) torch.Size([48460])\n",
      "12087\n",
      "stacked output.shape=torch.Size([48460, 8])\n",
      "targets.shape=torch.Size([48460, 8])\n",
      "12500\n"
     ]
    },
    {
     "name": "stderr",
     "output_type": "stream",
     "text": [
      " 33%|███▎      | 1666/5000 [36:06<1:12:30,  1.30s/it]"
     ]
    },
    {
     "name": "stdout",
     "output_type": "stream",
     "text": [
      "output.shape=torch.Size([20, 2423, 8])\n",
      "targets.shape=torch.Size([20, 2423, 8])\n",
      "torch.Size([48460]) torch.Size([48460])\n",
      "12190\n",
      "stacked output.shape=torch.Size([48460, 8])\n",
      "targets.shape=torch.Size([48460, 8])\n",
      "12480\n"
     ]
    },
    {
     "name": "stderr",
     "output_type": "stream",
     "text": [
      " 33%|███▎      | 1669/5000 [36:10<1:13:09,  1.32s/it]"
     ]
    },
    {
     "name": "stdout",
     "output_type": "stream",
     "text": [
      "output.shape=torch.Size([20, 2423, 8])\n",
      "targets.shape=torch.Size([20, 2423, 8])\n",
      "torch.Size([48460]) torch.Size([48460])\n",
      "12092\n",
      "stacked output.shape=torch.Size([48460, 8])\n",
      "targets.shape=torch.Size([48460, 8])\n",
      "12240\n"
     ]
    },
    {
     "name": "stderr",
     "output_type": "stream",
     "text": [
      " 33%|███▎      | 1672/5000 [36:14<1:12:50,  1.31s/it]"
     ]
    },
    {
     "name": "stdout",
     "output_type": "stream",
     "text": [
      "output.shape=torch.Size([20, 2423, 8])\n",
      "targets.shape=torch.Size([20, 2423, 8])\n",
      "torch.Size([48460]) torch.Size([48460])\n",
      "12140\n",
      "stacked output.shape=torch.Size([48460, 8])\n",
      "targets.shape=torch.Size([48460, 8])\n",
      "12300\n"
     ]
    },
    {
     "name": "stderr",
     "output_type": "stream",
     "text": [
      " 34%|███▎      | 1675/5000 [36:18<1:13:33,  1.33s/it]"
     ]
    },
    {
     "name": "stdout",
     "output_type": "stream",
     "text": [
      "output.shape=torch.Size([20, 2423, 8])\n",
      "targets.shape=torch.Size([20, 2423, 8])\n",
      "torch.Size([48460]) torch.Size([48460])\n",
      "12141\n",
      "stacked output.shape=torch.Size([48460, 8])\n",
      "targets.shape=torch.Size([48460, 8])\n",
      "12060\n"
     ]
    },
    {
     "name": "stderr",
     "output_type": "stream",
     "text": [
      " 34%|███▎      | 1678/5000 [36:22<1:13:21,  1.32s/it]"
     ]
    },
    {
     "name": "stdout",
     "output_type": "stream",
     "text": [
      "output.shape=torch.Size([20, 2423, 8])\n",
      "targets.shape=torch.Size([20, 2423, 8])\n",
      "torch.Size([48460]) torch.Size([48460])\n",
      "12063\n",
      "stacked output.shape=torch.Size([48460, 8])\n",
      "targets.shape=torch.Size([48460, 8])\n",
      "12340\n"
     ]
    },
    {
     "name": "stderr",
     "output_type": "stream",
     "text": [
      " 34%|███▎      | 1681/5000 [36:26<1:13:51,  1.34s/it]"
     ]
    },
    {
     "name": "stdout",
     "output_type": "stream",
     "text": [
      "output.shape=torch.Size([20, 2423, 8])\n",
      "targets.shape=torch.Size([20, 2423, 8])\n",
      "torch.Size([48460]) torch.Size([48460])\n",
      "12137\n",
      "stacked output.shape=torch.Size([48460, 8])\n",
      "targets.shape=torch.Size([48460, 8])\n",
      "12200\n"
     ]
    },
    {
     "name": "stderr",
     "output_type": "stream",
     "text": [
      " 34%|███▎      | 1684/5000 [36:29<1:14:08,  1.34s/it]"
     ]
    },
    {
     "name": "stdout",
     "output_type": "stream",
     "text": [
      "output.shape=torch.Size([20, 2423, 8])\n",
      "targets.shape=torch.Size([20, 2423, 8])\n",
      "torch.Size([48460]) torch.Size([48460])\n",
      "12103\n",
      "stacked output.shape=torch.Size([48460, 8])\n",
      "targets.shape=torch.Size([48460, 8])\n",
      "12540\n"
     ]
    },
    {
     "name": "stderr",
     "output_type": "stream",
     "text": [
      " 34%|███▎      | 1687/5000 [36:33<1:13:04,  1.32s/it]"
     ]
    },
    {
     "name": "stdout",
     "output_type": "stream",
     "text": [
      "output.shape=torch.Size([20, 2423, 8])\n",
      "targets.shape=torch.Size([20, 2423, 8])\n",
      "torch.Size([48460]) torch.Size([48460])\n",
      "12121\n",
      "stacked output.shape=torch.Size([48460, 8])\n",
      "targets.shape=torch.Size([48460, 8])\n",
      "12200\n"
     ]
    },
    {
     "name": "stderr",
     "output_type": "stream",
     "text": [
      " 34%|███▍      | 1690/5000 [36:37<1:12:59,  1.32s/it]"
     ]
    },
    {
     "name": "stdout",
     "output_type": "stream",
     "text": [
      "output.shape=torch.Size([20, 2423, 8])\n",
      "targets.shape=torch.Size([20, 2423, 8])\n",
      "torch.Size([48460]) torch.Size([48460])\n",
      "12179\n",
      "stacked output.shape=torch.Size([48460, 8])\n",
      "targets.shape=torch.Size([48460, 8])\n",
      "12100\n"
     ]
    },
    {
     "name": "stderr",
     "output_type": "stream",
     "text": [
      " 34%|███▍      | 1693/5000 [36:41<1:12:40,  1.32s/it]"
     ]
    },
    {
     "name": "stdout",
     "output_type": "stream",
     "text": [
      "output.shape=torch.Size([20, 2423, 8])\n",
      "targets.shape=torch.Size([20, 2423, 8])\n",
      "torch.Size([48460]) torch.Size([48460])\n",
      "12156\n",
      "stacked output.shape=torch.Size([48460, 8])\n",
      "targets.shape=torch.Size([48460, 8])\n",
      "12220\n"
     ]
    },
    {
     "name": "stderr",
     "output_type": "stream",
     "text": [
      " 34%|███▍      | 1696/5000 [36:45<1:15:35,  1.37s/it]"
     ]
    },
    {
     "name": "stdout",
     "output_type": "stream",
     "text": [
      "output.shape=torch.Size([20, 2423, 8])\n",
      "targets.shape=torch.Size([20, 2423, 8])\n",
      "torch.Size([48460]) torch.Size([48460])\n",
      "12164\n",
      "stacked output.shape=torch.Size([48460, 8])\n",
      "targets.shape=torch.Size([48460, 8])\n",
      "12100\n"
     ]
    },
    {
     "name": "stderr",
     "output_type": "stream",
     "text": [
      " 34%|███▍      | 1699/5000 [36:49<1:13:53,  1.34s/it]"
     ]
    },
    {
     "name": "stdout",
     "output_type": "stream",
     "text": [
      "output.shape=torch.Size([20, 2423, 8])\n",
      "targets.shape=torch.Size([20, 2423, 8])\n",
      "torch.Size([48460]) torch.Size([48460])\n",
      "12160\n",
      "stacked output.shape=torch.Size([48460, 8])\n",
      "targets.shape=torch.Size([48460, 8])\n",
      "12140\n"
     ]
    },
    {
     "name": "stderr",
     "output_type": "stream",
     "text": [
      " 34%|███▍      | 1702/5000 [36:53<1:12:58,  1.33s/it]"
     ]
    },
    {
     "name": "stdout",
     "output_type": "stream",
     "text": [
      "output.shape=torch.Size([20, 2423, 8])\n",
      "targets.shape=torch.Size([20, 2423, 8])\n",
      "torch.Size([48460]) torch.Size([48460])\n",
      "12148\n",
      "stacked output.shape=torch.Size([48460, 8])\n",
      "targets.shape=torch.Size([48460, 8])\n",
      "12440\n"
     ]
    },
    {
     "name": "stderr",
     "output_type": "stream",
     "text": [
      " 34%|███▍      | 1705/5000 [36:57<1:12:43,  1.32s/it]"
     ]
    },
    {
     "name": "stdout",
     "output_type": "stream",
     "text": [
      "output.shape=torch.Size([20, 2423, 8])\n",
      "targets.shape=torch.Size([20, 2423, 8])\n",
      "torch.Size([48460]) torch.Size([48460])\n",
      "12121\n",
      "stacked output.shape=torch.Size([48460, 8])\n",
      "targets.shape=torch.Size([48460, 8])\n",
      "11880\n"
     ]
    },
    {
     "name": "stderr",
     "output_type": "stream",
     "text": [
      " 34%|███▍      | 1708/5000 [37:01<1:13:45,  1.34s/it]"
     ]
    },
    {
     "name": "stdout",
     "output_type": "stream",
     "text": [
      "output.shape=torch.Size([20, 2423, 8])\n",
      "targets.shape=torch.Size([20, 2423, 8])\n",
      "torch.Size([48460]) torch.Size([48460])\n",
      "12057\n",
      "stacked output.shape=torch.Size([48460, 8])\n",
      "targets.shape=torch.Size([48460, 8])\n",
      "12460\n"
     ]
    },
    {
     "name": "stderr",
     "output_type": "stream",
     "text": [
      " 34%|███▍      | 1711/5000 [37:05<1:12:42,  1.33s/it]"
     ]
    },
    {
     "name": "stdout",
     "output_type": "stream",
     "text": [
      "output.shape=torch.Size([20, 2423, 8])\n",
      "targets.shape=torch.Size([20, 2423, 8])\n",
      "torch.Size([48460]) torch.Size([48460])\n",
      "12091\n",
      "stacked output.shape=torch.Size([48460, 8])\n",
      "targets.shape=torch.Size([48460, 8])\n",
      "12500\n"
     ]
    },
    {
     "name": "stderr",
     "output_type": "stream",
     "text": [
      " 34%|███▍      | 1714/5000 [37:08<1:14:18,  1.36s/it]"
     ]
    },
    {
     "name": "stdout",
     "output_type": "stream",
     "text": [
      "output.shape=torch.Size([20, 2423, 8])\n",
      "targets.shape=torch.Size([20, 2423, 8])\n",
      "torch.Size([48460]) torch.Size([48460])\n",
      "12137\n",
      "stacked output.shape=torch.Size([48460, 8])\n",
      "targets.shape=torch.Size([48460, 8])\n",
      "12220\n"
     ]
    },
    {
     "name": "stderr",
     "output_type": "stream",
     "text": [
      " 34%|███▍      | 1717/5000 [37:13<1:14:46,  1.37s/it]"
     ]
    },
    {
     "name": "stdout",
     "output_type": "stream",
     "text": [
      "output.shape=torch.Size([20, 2423, 8])\n",
      "targets.shape=torch.Size([20, 2423, 8])\n",
      "torch.Size([48460]) torch.Size([48460])\n",
      "12127\n",
      "stacked output.shape=torch.Size([48460, 8])\n",
      "targets.shape=torch.Size([48460, 8])\n",
      "12320\n"
     ]
    },
    {
     "name": "stderr",
     "output_type": "stream",
     "text": [
      " 34%|███▍      | 1720/5000 [37:16<1:14:05,  1.36s/it]"
     ]
    },
    {
     "name": "stdout",
     "output_type": "stream",
     "text": [
      "output.shape=torch.Size([20, 2423, 8])\n",
      "targets.shape=torch.Size([20, 2423, 8])\n",
      "torch.Size([48460]) torch.Size([48460])\n",
      "12216\n",
      "stacked output.shape=torch.Size([48460, 8])\n",
      "targets.shape=torch.Size([48460, 8])\n",
      "11900\n"
     ]
    },
    {
     "name": "stderr",
     "output_type": "stream",
     "text": [
      " 34%|███▍      | 1723/5000 [37:20<1:12:44,  1.33s/it]"
     ]
    },
    {
     "name": "stdout",
     "output_type": "stream",
     "text": [
      "output.shape=torch.Size([20, 2423, 8])\n",
      "targets.shape=torch.Size([20, 2423, 8])\n",
      "torch.Size([48460]) torch.Size([48460])\n",
      "12203\n",
      "stacked output.shape=torch.Size([48460, 8])\n",
      "targets.shape=torch.Size([48460, 8])\n",
      "12280\n"
     ]
    },
    {
     "name": "stderr",
     "output_type": "stream",
     "text": [
      " 35%|███▍      | 1726/5000 [37:24<1:12:52,  1.34s/it]"
     ]
    },
    {
     "name": "stdout",
     "output_type": "stream",
     "text": [
      "output.shape=torch.Size([20, 2423, 8])\n",
      "targets.shape=torch.Size([20, 2423, 8])\n",
      "torch.Size([48460]) torch.Size([48460])\n",
      "12152\n",
      "stacked output.shape=torch.Size([48460, 8])\n",
      "targets.shape=torch.Size([48460, 8])\n",
      "12340\n"
     ]
    },
    {
     "name": "stderr",
     "output_type": "stream",
     "text": [
      " 35%|███▍      | 1729/5000 [37:28<1:12:24,  1.33s/it]"
     ]
    },
    {
     "name": "stdout",
     "output_type": "stream",
     "text": [
      "output.shape=torch.Size([20, 2423, 8])\n",
      "targets.shape=torch.Size([20, 2423, 8])\n",
      "torch.Size([48460]) torch.Size([48460])\n",
      "12140\n",
      "stacked output.shape=torch.Size([48460, 8])\n",
      "targets.shape=torch.Size([48460, 8])\n",
      "12240\n"
     ]
    },
    {
     "name": "stderr",
     "output_type": "stream",
     "text": [
      " 35%|███▍      | 1732/5000 [37:32<1:12:19,  1.33s/it]"
     ]
    },
    {
     "name": "stdout",
     "output_type": "stream",
     "text": [
      "output.shape=torch.Size([20, 2423, 8])\n",
      "targets.shape=torch.Size([20, 2423, 8])\n",
      "torch.Size([48460]) torch.Size([48460])\n",
      "12104\n",
      "stacked output.shape=torch.Size([48460, 8])\n",
      "targets.shape=torch.Size([48460, 8])\n",
      "12140\n"
     ]
    },
    {
     "name": "stderr",
     "output_type": "stream",
     "text": [
      " 35%|███▍      | 1735/5000 [37:36<1:12:19,  1.33s/it]"
     ]
    },
    {
     "name": "stdout",
     "output_type": "stream",
     "text": [
      "output.shape=torch.Size([20, 2423, 8])\n",
      "targets.shape=torch.Size([20, 2423, 8])\n",
      "torch.Size([48460]) torch.Size([48460])\n",
      "12127\n",
      "stacked output.shape=torch.Size([48460, 8])\n",
      "targets.shape=torch.Size([48460, 8])\n",
      "12200\n"
     ]
    },
    {
     "name": "stderr",
     "output_type": "stream",
     "text": [
      " 35%|███▍      | 1738/5000 [37:40<1:12:39,  1.34s/it]"
     ]
    },
    {
     "name": "stdout",
     "output_type": "stream",
     "text": [
      "output.shape=torch.Size([20, 2423, 8])\n",
      "targets.shape=torch.Size([20, 2423, 8])\n",
      "torch.Size([48460]) torch.Size([48460])\n",
      "12109\n",
      "stacked output.shape=torch.Size([48460, 8])\n",
      "targets.shape=torch.Size([48460, 8])\n",
      "12280\n"
     ]
    },
    {
     "name": "stderr",
     "output_type": "stream",
     "text": [
      " 35%|███▍      | 1741/5000 [37:44<1:12:59,  1.34s/it]"
     ]
    },
    {
     "name": "stdout",
     "output_type": "stream",
     "text": [
      "output.shape=torch.Size([20, 2423, 8])\n",
      "targets.shape=torch.Size([20, 2423, 8])\n",
      "torch.Size([48460]) torch.Size([48460])\n",
      "12095\n",
      "stacked output.shape=torch.Size([48460, 8])\n",
      "targets.shape=torch.Size([48460, 8])\n",
      "12460\n"
     ]
    },
    {
     "name": "stderr",
     "output_type": "stream",
     "text": [
      " 35%|███▍      | 1744/5000 [37:48<1:11:49,  1.32s/it]"
     ]
    },
    {
     "name": "stdout",
     "output_type": "stream",
     "text": [
      "output.shape=torch.Size([20, 2423, 8])\n",
      "targets.shape=torch.Size([20, 2423, 8])\n",
      "torch.Size([48460]) torch.Size([48460])\n",
      "12140\n",
      "stacked output.shape=torch.Size([48460, 8])\n",
      "targets.shape=torch.Size([48460, 8])\n",
      "12600\n"
     ]
    },
    {
     "name": "stderr",
     "output_type": "stream",
     "text": [
      " 35%|███▍      | 1747/5000 [37:52<1:11:36,  1.32s/it]"
     ]
    },
    {
     "name": "stdout",
     "output_type": "stream",
     "text": [
      "output.shape=torch.Size([20, 2423, 8])\n",
      "targets.shape=torch.Size([20, 2423, 8])\n",
      "torch.Size([48460]) torch.Size([48460])\n",
      "12080\n",
      "stacked output.shape=torch.Size([48460, 8])\n",
      "targets.shape=torch.Size([48460, 8])\n",
      "12520\n"
     ]
    },
    {
     "name": "stderr",
     "output_type": "stream",
     "text": [
      " 35%|███▌      | 1750/5000 [37:56<1:12:36,  1.34s/it]"
     ]
    },
    {
     "name": "stdout",
     "output_type": "stream",
     "text": [
      "output.shape=torch.Size([20, 2423, 8])\n",
      "targets.shape=torch.Size([20, 2423, 8])\n",
      "torch.Size([48460]) torch.Size([48460])\n",
      "12077\n",
      "stacked output.shape=torch.Size([48460, 8])\n",
      "targets.shape=torch.Size([48460, 8])\n",
      "12320\n"
     ]
    },
    {
     "name": "stderr",
     "output_type": "stream",
     "text": [
      " 35%|███▌      | 1753/5000 [37:59<1:11:57,  1.33s/it]"
     ]
    },
    {
     "name": "stdout",
     "output_type": "stream",
     "text": [
      "output.shape=torch.Size([20, 2423, 8])\n",
      "targets.shape=torch.Size([20, 2423, 8])\n",
      "torch.Size([48460]) torch.Size([48460])\n",
      "12072\n",
      "stacked output.shape=torch.Size([48460, 8])\n",
      "targets.shape=torch.Size([48460, 8])\n",
      "12300\n"
     ]
    },
    {
     "name": "stderr",
     "output_type": "stream",
     "text": [
      " 35%|███▌      | 1756/5000 [38:03<1:11:24,  1.32s/it]"
     ]
    },
    {
     "name": "stdout",
     "output_type": "stream",
     "text": [
      "output.shape=torch.Size([20, 2423, 8])\n",
      "targets.shape=torch.Size([20, 2423, 8])\n",
      "torch.Size([48460]) torch.Size([48460])\n",
      "12154\n",
      "stacked output.shape=torch.Size([48460, 8])\n",
      "targets.shape=torch.Size([48460, 8])\n",
      "12300\n"
     ]
    },
    {
     "name": "stderr",
     "output_type": "stream",
     "text": [
      " 35%|███▌      | 1759/5000 [38:07<1:11:22,  1.32s/it]"
     ]
    },
    {
     "name": "stdout",
     "output_type": "stream",
     "text": [
      "output.shape=torch.Size([20, 2423, 8])\n",
      "targets.shape=torch.Size([20, 2423, 8])\n",
      "torch.Size([48460]) torch.Size([48460])\n",
      "12112\n",
      "stacked output.shape=torch.Size([48460, 8])\n",
      "targets.shape=torch.Size([48460, 8])\n",
      "12520\n"
     ]
    },
    {
     "name": "stderr",
     "output_type": "stream",
     "text": [
      " 35%|███▌      | 1762/5000 [38:11<1:11:31,  1.33s/it]"
     ]
    },
    {
     "name": "stdout",
     "output_type": "stream",
     "text": [
      "output.shape=torch.Size([20, 2423, 8])\n",
      "targets.shape=torch.Size([20, 2423, 8])\n",
      "torch.Size([48460]) torch.Size([48460])\n",
      "12144\n",
      "stacked output.shape=torch.Size([48460, 8])\n",
      "targets.shape=torch.Size([48460, 8])\n",
      "12520\n"
     ]
    },
    {
     "name": "stderr",
     "output_type": "stream",
     "text": [
      " 35%|███▌      | 1765/5000 [38:15<1:11:33,  1.33s/it]"
     ]
    },
    {
     "name": "stdout",
     "output_type": "stream",
     "text": [
      "output.shape=torch.Size([20, 2423, 8])\n",
      "targets.shape=torch.Size([20, 2423, 8])\n",
      "torch.Size([48460]) torch.Size([48460])\n",
      "12122\n",
      "stacked output.shape=torch.Size([48460, 8])\n",
      "targets.shape=torch.Size([48460, 8])\n",
      "12440\n"
     ]
    },
    {
     "name": "stderr",
     "output_type": "stream",
     "text": [
      " 35%|███▌      | 1768/5000 [38:19<1:10:38,  1.31s/it]"
     ]
    },
    {
     "name": "stdout",
     "output_type": "stream",
     "text": [
      "output.shape=torch.Size([20, 2423, 8])\n",
      "targets.shape=torch.Size([20, 2423, 8])\n",
      "torch.Size([48460]) torch.Size([48460])\n",
      "12129\n",
      "stacked output.shape=torch.Size([48460, 8])\n",
      "targets.shape=torch.Size([48460, 8])\n",
      "12060\n"
     ]
    },
    {
     "name": "stderr",
     "output_type": "stream",
     "text": [
      " 35%|███▌      | 1771/5000 [38:23<1:11:06,  1.32s/it]"
     ]
    },
    {
     "name": "stdout",
     "output_type": "stream",
     "text": [
      "output.shape=torch.Size([20, 2423, 8])\n",
      "targets.shape=torch.Size([20, 2423, 8])\n",
      "torch.Size([48460]) torch.Size([48460])\n",
      "12107\n",
      "stacked output.shape=torch.Size([48460, 8])\n",
      "targets.shape=torch.Size([48460, 8])\n",
      "12280\n"
     ]
    },
    {
     "name": "stderr",
     "output_type": "stream",
     "text": [
      " 35%|███▌      | 1774/5000 [38:27<1:10:59,  1.32s/it]"
     ]
    },
    {
     "name": "stdout",
     "output_type": "stream",
     "text": [
      "output.shape=torch.Size([20, 2423, 8])\n",
      "targets.shape=torch.Size([20, 2423, 8])\n",
      "torch.Size([48460]) torch.Size([48460])\n",
      "12066\n",
      "stacked output.shape=torch.Size([48460, 8])\n",
      "targets.shape=torch.Size([48460, 8])\n",
      "12300\n"
     ]
    },
    {
     "name": "stderr",
     "output_type": "stream",
     "text": [
      " 36%|███▌      | 1777/5000 [38:30<1:10:35,  1.31s/it]"
     ]
    },
    {
     "name": "stdout",
     "output_type": "stream",
     "text": [
      "output.shape=torch.Size([20, 2423, 8])\n",
      "targets.shape=torch.Size([20, 2423, 8])\n",
      "torch.Size([48460]) torch.Size([48460])\n",
      "12072\n",
      "stacked output.shape=torch.Size([48460, 8])\n",
      "targets.shape=torch.Size([48460, 8])\n",
      "12240\n"
     ]
    },
    {
     "name": "stderr",
     "output_type": "stream",
     "text": [
      " 36%|███▌      | 1780/5000 [38:34<1:10:56,  1.32s/it]"
     ]
    },
    {
     "name": "stdout",
     "output_type": "stream",
     "text": [
      "output.shape=torch.Size([20, 2423, 8])\n",
      "targets.shape=torch.Size([20, 2423, 8])\n",
      "torch.Size([48460]) torch.Size([48460])\n",
      "12150\n",
      "stacked output.shape=torch.Size([48460, 8])\n",
      "targets.shape=torch.Size([48460, 8])\n",
      "12280\n"
     ]
    },
    {
     "name": "stderr",
     "output_type": "stream",
     "text": [
      " 36%|███▌      | 1783/5000 [38:38<1:10:43,  1.32s/it]"
     ]
    },
    {
     "name": "stdout",
     "output_type": "stream",
     "text": [
      "output.shape=torch.Size([20, 2423, 8])\n",
      "targets.shape=torch.Size([20, 2423, 8])\n",
      "torch.Size([48460]) torch.Size([48460])\n",
      "12059\n",
      "stacked output.shape=torch.Size([48460, 8])\n",
      "targets.shape=torch.Size([48460, 8])\n",
      "12500\n"
     ]
    },
    {
     "name": "stderr",
     "output_type": "stream",
     "text": [
      " 36%|███▌      | 1786/5000 [38:42<1:11:06,  1.33s/it]"
     ]
    },
    {
     "name": "stdout",
     "output_type": "stream",
     "text": [
      "output.shape=torch.Size([20, 2423, 8])\n",
      "targets.shape=torch.Size([20, 2423, 8])\n",
      "torch.Size([48460]) torch.Size([48460])\n",
      "12125\n",
      "stacked output.shape=torch.Size([48460, 8])\n",
      "targets.shape=torch.Size([48460, 8])\n",
      "12320\n"
     ]
    },
    {
     "name": "stderr",
     "output_type": "stream",
     "text": [
      " 36%|███▌      | 1789/5000 [38:46<1:11:05,  1.33s/it]"
     ]
    },
    {
     "name": "stdout",
     "output_type": "stream",
     "text": [
      "output.shape=torch.Size([20, 2423, 8])\n",
      "targets.shape=torch.Size([20, 2423, 8])\n",
      "torch.Size([48460]) torch.Size([48460])\n",
      "12147\n",
      "stacked output.shape=torch.Size([48460, 8])\n",
      "targets.shape=torch.Size([48460, 8])\n",
      "12280\n"
     ]
    },
    {
     "name": "stderr",
     "output_type": "stream",
     "text": [
      " 36%|███▌      | 1792/5000 [38:50<1:10:45,  1.32s/it]"
     ]
    },
    {
     "name": "stdout",
     "output_type": "stream",
     "text": [
      "output.shape=torch.Size([20, 2423, 8])\n",
      "targets.shape=torch.Size([20, 2423, 8])\n",
      "torch.Size([48460]) torch.Size([48460])\n",
      "12106\n",
      "stacked output.shape=torch.Size([48460, 8])\n",
      "targets.shape=torch.Size([48460, 8])\n",
      "12280\n"
     ]
    },
    {
     "name": "stderr",
     "output_type": "stream",
     "text": [
      " 36%|███▌      | 1795/5000 [38:54<1:10:50,  1.33s/it]"
     ]
    },
    {
     "name": "stdout",
     "output_type": "stream",
     "text": [
      "output.shape=torch.Size([20, 2423, 8])\n",
      "targets.shape=torch.Size([20, 2423, 8])\n",
      "torch.Size([48460]) torch.Size([48460])\n",
      "12114\n",
      "stacked output.shape=torch.Size([48460, 8])\n",
      "targets.shape=torch.Size([48460, 8])\n",
      "12180\n"
     ]
    },
    {
     "name": "stderr",
     "output_type": "stream",
     "text": [
      " 36%|███▌      | 1798/5000 [38:58<1:10:18,  1.32s/it]"
     ]
    },
    {
     "name": "stdout",
     "output_type": "stream",
     "text": [
      "output.shape=torch.Size([20, 2423, 8])\n",
      "targets.shape=torch.Size([20, 2423, 8])\n",
      "torch.Size([48460]) torch.Size([48460])\n",
      "12073\n",
      "stacked output.shape=torch.Size([48460, 8])\n",
      "targets.shape=torch.Size([48460, 8])\n",
      "12420\n"
     ]
    },
    {
     "name": "stderr",
     "output_type": "stream",
     "text": [
      " 36%|███▌      | 1801/5000 [39:02<1:10:34,  1.32s/it]"
     ]
    },
    {
     "name": "stdout",
     "output_type": "stream",
     "text": [
      "output.shape=torch.Size([20, 2423, 8])\n",
      "targets.shape=torch.Size([20, 2423, 8])\n",
      "torch.Size([48460]) torch.Size([48460])\n",
      "12036\n",
      "stacked output.shape=torch.Size([48460, 8])\n",
      "targets.shape=torch.Size([48460, 8])\n",
      "12360\n"
     ]
    },
    {
     "name": "stderr",
     "output_type": "stream",
     "text": [
      " 36%|███▌      | 1804/5000 [39:05<1:09:54,  1.31s/it]"
     ]
    },
    {
     "name": "stdout",
     "output_type": "stream",
     "text": [
      "output.shape=torch.Size([20, 2423, 8])\n",
      "targets.shape=torch.Size([20, 2423, 8])\n",
      "torch.Size([48460]) torch.Size([48460])\n",
      "12166\n",
      "stacked output.shape=torch.Size([48460, 8])\n",
      "targets.shape=torch.Size([48460, 8])\n",
      "12180\n"
     ]
    },
    {
     "name": "stderr",
     "output_type": "stream",
     "text": [
      " 36%|███▌      | 1807/5000 [39:09<1:10:21,  1.32s/it]"
     ]
    },
    {
     "name": "stdout",
     "output_type": "stream",
     "text": [
      "output.shape=torch.Size([20, 2423, 8])\n",
      "targets.shape=torch.Size([20, 2423, 8])\n",
      "torch.Size([48460]) torch.Size([48460])\n",
      "12126\n",
      "stacked output.shape=torch.Size([48460, 8])\n",
      "targets.shape=torch.Size([48460, 8])\n",
      "12600\n"
     ]
    },
    {
     "name": "stderr",
     "output_type": "stream",
     "text": [
      " 36%|███▌      | 1810/5000 [39:13<1:10:51,  1.33s/it]"
     ]
    },
    {
     "name": "stdout",
     "output_type": "stream",
     "text": [
      "output.shape=torch.Size([20, 2423, 8])\n",
      "targets.shape=torch.Size([20, 2423, 8])\n",
      "torch.Size([48460]) torch.Size([48460])\n",
      "12156\n",
      "stacked output.shape=torch.Size([48460, 8])\n",
      "targets.shape=torch.Size([48460, 8])\n",
      "12280\n"
     ]
    },
    {
     "name": "stderr",
     "output_type": "stream",
     "text": [
      " 36%|███▋      | 1813/5000 [39:17<1:10:51,  1.33s/it]"
     ]
    },
    {
     "name": "stdout",
     "output_type": "stream",
     "text": [
      "output.shape=torch.Size([20, 2423, 8])\n",
      "targets.shape=torch.Size([20, 2423, 8])\n",
      "torch.Size([48460]) torch.Size([48460])\n",
      "12143\n",
      "stacked output.shape=torch.Size([48460, 8])\n",
      "targets.shape=torch.Size([48460, 8])\n",
      "12340\n"
     ]
    },
    {
     "name": "stderr",
     "output_type": "stream",
     "text": [
      " 36%|███▋      | 1816/5000 [39:21<1:09:59,  1.32s/it]"
     ]
    },
    {
     "name": "stdout",
     "output_type": "stream",
     "text": [
      "output.shape=torch.Size([20, 2423, 8])\n",
      "targets.shape=torch.Size([20, 2423, 8])\n",
      "torch.Size([48460]) torch.Size([48460])\n",
      "12161\n",
      "stacked output.shape=torch.Size([48460, 8])\n",
      "targets.shape=torch.Size([48460, 8])\n",
      "12540\n"
     ]
    },
    {
     "name": "stderr",
     "output_type": "stream",
     "text": [
      " 36%|███▋      | 1819/5000 [39:25<1:10:10,  1.32s/it]"
     ]
    },
    {
     "name": "stdout",
     "output_type": "stream",
     "text": [
      "output.shape=torch.Size([20, 2423, 8])\n",
      "targets.shape=torch.Size([20, 2423, 8])\n",
      "torch.Size([48460]) torch.Size([48460])\n",
      "12145\n",
      "stacked output.shape=torch.Size([48460, 8])\n",
      "targets.shape=torch.Size([48460, 8])\n",
      "12240\n"
     ]
    },
    {
     "name": "stderr",
     "output_type": "stream",
     "text": [
      " 36%|███▋      | 1822/5000 [39:29<1:10:09,  1.32s/it]"
     ]
    },
    {
     "name": "stdout",
     "output_type": "stream",
     "text": [
      "output.shape=torch.Size([20, 2423, 8])\n",
      "targets.shape=torch.Size([20, 2423, 8])\n",
      "torch.Size([48460]) torch.Size([48460])\n",
      "12099\n",
      "stacked output.shape=torch.Size([48460, 8])\n",
      "targets.shape=torch.Size([48460, 8])\n",
      "12440\n"
     ]
    },
    {
     "name": "stderr",
     "output_type": "stream",
     "text": [
      " 36%|███▋      | 1825/5000 [39:33<1:09:43,  1.32s/it]"
     ]
    },
    {
     "name": "stdout",
     "output_type": "stream",
     "text": [
      "output.shape=torch.Size([20, 2423, 8])\n",
      "targets.shape=torch.Size([20, 2423, 8])\n",
      "torch.Size([48460]) torch.Size([48460])\n",
      "12212\n",
      "stacked output.shape=torch.Size([48460, 8])\n",
      "targets.shape=torch.Size([48460, 8])\n",
      "12220\n"
     ]
    },
    {
     "name": "stderr",
     "output_type": "stream",
     "text": [
      " 37%|███▋      | 1828/5000 [39:36<1:09:06,  1.31s/it]"
     ]
    },
    {
     "name": "stdout",
     "output_type": "stream",
     "text": [
      "output.shape=torch.Size([20, 2423, 8])\n",
      "targets.shape=torch.Size([20, 2423, 8])\n",
      "torch.Size([48460]) torch.Size([48460])\n",
      "12119\n",
      "stacked output.shape=torch.Size([48460, 8])\n",
      "targets.shape=torch.Size([48460, 8])\n",
      "12260\n"
     ]
    },
    {
     "name": "stderr",
     "output_type": "stream",
     "text": [
      " 37%|███▋      | 1831/5000 [39:40<1:09:51,  1.32s/it]"
     ]
    },
    {
     "name": "stdout",
     "output_type": "stream",
     "text": [
      "output.shape=torch.Size([20, 2423, 8])\n",
      "targets.shape=torch.Size([20, 2423, 8])\n",
      "torch.Size([48460]) torch.Size([48460])\n",
      "12103\n",
      "stacked output.shape=torch.Size([48460, 8])\n",
      "targets.shape=torch.Size([48460, 8])\n",
      "12560\n"
     ]
    },
    {
     "name": "stderr",
     "output_type": "stream",
     "text": [
      " 37%|███▋      | 1834/5000 [39:44<1:10:14,  1.33s/it]"
     ]
    },
    {
     "name": "stdout",
     "output_type": "stream",
     "text": [
      "output.shape=torch.Size([20, 2423, 8])\n",
      "targets.shape=torch.Size([20, 2423, 8])\n",
      "torch.Size([48460]) torch.Size([48460])\n",
      "12065\n",
      "stacked output.shape=torch.Size([48460, 8])\n",
      "targets.shape=torch.Size([48460, 8])\n",
      "12300\n"
     ]
    },
    {
     "name": "stderr",
     "output_type": "stream",
     "text": [
      " 37%|███▋      | 1837/5000 [39:48<1:09:51,  1.33s/it]"
     ]
    },
    {
     "name": "stdout",
     "output_type": "stream",
     "text": [
      "output.shape=torch.Size([20, 2423, 8])\n",
      "targets.shape=torch.Size([20, 2423, 8])\n",
      "torch.Size([48460]) torch.Size([48460])\n",
      "12126\n",
      "stacked output.shape=torch.Size([48460, 8])\n",
      "targets.shape=torch.Size([48460, 8])\n",
      "12460\n"
     ]
    },
    {
     "name": "stderr",
     "output_type": "stream",
     "text": [
      " 37%|███▋      | 1840/5000 [39:52<1:09:37,  1.32s/it]"
     ]
    },
    {
     "name": "stdout",
     "output_type": "stream",
     "text": [
      "output.shape=torch.Size([20, 2423, 8])\n",
      "targets.shape=torch.Size([20, 2423, 8])\n",
      "torch.Size([48460]) torch.Size([48460])\n",
      "12121\n",
      "stacked output.shape=torch.Size([48460, 8])\n",
      "targets.shape=torch.Size([48460, 8])\n",
      "12420\n"
     ]
    },
    {
     "name": "stderr",
     "output_type": "stream",
     "text": [
      " 37%|███▋      | 1843/5000 [39:56<1:10:18,  1.34s/it]"
     ]
    },
    {
     "name": "stdout",
     "output_type": "stream",
     "text": [
      "output.shape=torch.Size([20, 2423, 8])\n",
      "targets.shape=torch.Size([20, 2423, 8])\n",
      "torch.Size([48460]) torch.Size([48460])\n",
      "12132\n",
      "stacked output.shape=torch.Size([48460, 8])\n",
      "targets.shape=torch.Size([48460, 8])\n",
      "12220\n"
     ]
    },
    {
     "name": "stderr",
     "output_type": "stream",
     "text": [
      " 37%|███▋      | 1846/5000 [40:00<1:11:07,  1.35s/it]"
     ]
    },
    {
     "name": "stdout",
     "output_type": "stream",
     "text": [
      "output.shape=torch.Size([20, 2423, 8])\n",
      "targets.shape=torch.Size([20, 2423, 8])\n",
      "torch.Size([48460]) torch.Size([48460])\n",
      "12002\n",
      "stacked output.shape=torch.Size([48460, 8])\n",
      "targets.shape=torch.Size([48460, 8])\n",
      "12120\n"
     ]
    },
    {
     "name": "stderr",
     "output_type": "stream",
     "text": [
      " 37%|███▋      | 1849/5000 [40:04<1:11:46,  1.37s/it]"
     ]
    },
    {
     "name": "stdout",
     "output_type": "stream",
     "text": [
      "output.shape=torch.Size([20, 2423, 8])\n",
      "targets.shape=torch.Size([20, 2423, 8])\n",
      "torch.Size([48460]) torch.Size([48460])\n",
      "12067\n",
      "stacked output.shape=torch.Size([48460, 8])\n",
      "targets.shape=torch.Size([48460, 8])\n",
      "12200\n"
     ]
    },
    {
     "name": "stderr",
     "output_type": "stream",
     "text": [
      " 37%|███▋      | 1852/5000 [40:08<1:11:17,  1.36s/it]"
     ]
    },
    {
     "name": "stdout",
     "output_type": "stream",
     "text": [
      "output.shape=torch.Size([20, 2423, 8])\n",
      "targets.shape=torch.Size([20, 2423, 8])\n",
      "torch.Size([48460]) torch.Size([48460])\n",
      "12110\n",
      "stacked output.shape=torch.Size([48460, 8])\n",
      "targets.shape=torch.Size([48460, 8])\n",
      "12480\n"
     ]
    },
    {
     "name": "stderr",
     "output_type": "stream",
     "text": [
      " 37%|███▋      | 1855/5000 [40:12<1:09:55,  1.33s/it]"
     ]
    },
    {
     "name": "stdout",
     "output_type": "stream",
     "text": [
      "output.shape=torch.Size([20, 2423, 8])\n",
      "targets.shape=torch.Size([20, 2423, 8])\n",
      "torch.Size([48460]) torch.Size([48460])\n",
      "12030\n",
      "stacked output.shape=torch.Size([48460, 8])\n",
      "targets.shape=torch.Size([48460, 8])\n",
      "12520\n"
     ]
    },
    {
     "name": "stderr",
     "output_type": "stream",
     "text": [
      " 37%|███▋      | 1858/5000 [40:16<1:09:26,  1.33s/it]"
     ]
    },
    {
     "name": "stdout",
     "output_type": "stream",
     "text": [
      "output.shape=torch.Size([20, 2423, 8])\n",
      "targets.shape=torch.Size([20, 2423, 8])\n",
      "torch.Size([48460]) torch.Size([48460])\n",
      "12082\n",
      "stacked output.shape=torch.Size([48460, 8])\n",
      "targets.shape=torch.Size([48460, 8])\n",
      "12380\n"
     ]
    },
    {
     "name": "stderr",
     "output_type": "stream",
     "text": [
      " 37%|███▋      | 1861/5000 [40:19<1:09:08,  1.32s/it]"
     ]
    },
    {
     "name": "stdout",
     "output_type": "stream",
     "text": [
      "output.shape=torch.Size([20, 2423, 8])\n",
      "targets.shape=torch.Size([20, 2423, 8])\n",
      "torch.Size([48460]) torch.Size([48460])\n",
      "12147\n",
      "stacked output.shape=torch.Size([48460, 8])\n",
      "targets.shape=torch.Size([48460, 8])\n",
      "12100\n"
     ]
    },
    {
     "name": "stderr",
     "output_type": "stream",
     "text": [
      " 37%|███▋      | 1864/5000 [40:23<1:09:00,  1.32s/it]"
     ]
    },
    {
     "name": "stdout",
     "output_type": "stream",
     "text": [
      "output.shape=torch.Size([20, 2423, 8])\n",
      "targets.shape=torch.Size([20, 2423, 8])\n",
      "torch.Size([48460]) torch.Size([48460])\n",
      "12106\n",
      "stacked output.shape=torch.Size([48460, 8])\n",
      "targets.shape=torch.Size([48460, 8])\n",
      "12480\n"
     ]
    },
    {
     "name": "stderr",
     "output_type": "stream",
     "text": [
      " 37%|███▋      | 1867/5000 [40:27<1:08:39,  1.31s/it]"
     ]
    },
    {
     "name": "stdout",
     "output_type": "stream",
     "text": [
      "output.shape=torch.Size([20, 2423, 8])\n",
      "targets.shape=torch.Size([20, 2423, 8])\n",
      "torch.Size([48460]) torch.Size([48460])\n",
      "12124\n",
      "stacked output.shape=torch.Size([48460, 8])\n",
      "targets.shape=torch.Size([48460, 8])\n",
      "12520\n"
     ]
    },
    {
     "name": "stderr",
     "output_type": "stream",
     "text": [
      " 37%|███▋      | 1870/5000 [40:31<1:09:02,  1.32s/it]"
     ]
    },
    {
     "name": "stdout",
     "output_type": "stream",
     "text": [
      "output.shape=torch.Size([20, 2423, 8])\n",
      "targets.shape=torch.Size([20, 2423, 8])\n",
      "torch.Size([48460]) torch.Size([48460])\n",
      "12199\n",
      "stacked output.shape=torch.Size([48460, 8])\n",
      "targets.shape=torch.Size([48460, 8])\n",
      "12340\n"
     ]
    },
    {
     "name": "stderr",
     "output_type": "stream",
     "text": [
      " 37%|███▋      | 1873/5000 [40:35<1:08:54,  1.32s/it]"
     ]
    },
    {
     "name": "stdout",
     "output_type": "stream",
     "text": [
      "output.shape=torch.Size([20, 2423, 8])\n",
      "targets.shape=torch.Size([20, 2423, 8])\n",
      "torch.Size([48460]) torch.Size([48460])\n",
      "12105\n",
      "stacked output.shape=torch.Size([48460, 8])\n",
      "targets.shape=torch.Size([48460, 8])\n",
      "12120\n"
     ]
    },
    {
     "name": "stderr",
     "output_type": "stream",
     "text": [
      " 38%|███▊      | 1876/5000 [40:39<1:08:06,  1.31s/it]"
     ]
    },
    {
     "name": "stdout",
     "output_type": "stream",
     "text": [
      "output.shape=torch.Size([20, 2423, 8])\n",
      "targets.shape=torch.Size([20, 2423, 8])\n",
      "torch.Size([48460]) torch.Size([48460])\n",
      "12116\n",
      "stacked output.shape=torch.Size([48460, 8])\n",
      "targets.shape=torch.Size([48460, 8])\n",
      "12040\n"
     ]
    },
    {
     "name": "stderr",
     "output_type": "stream",
     "text": [
      " 38%|███▊      | 1879/5000 [40:43<1:10:06,  1.35s/it]"
     ]
    },
    {
     "name": "stdout",
     "output_type": "stream",
     "text": [
      "output.shape=torch.Size([20, 2423, 8])\n",
      "targets.shape=torch.Size([20, 2423, 8])\n",
      "torch.Size([48460]) torch.Size([48460])\n",
      "12106\n",
      "stacked output.shape=torch.Size([48460, 8])\n",
      "targets.shape=torch.Size([48460, 8])\n",
      "12380\n"
     ]
    },
    {
     "name": "stderr",
     "output_type": "stream",
     "text": [
      " 38%|███▊      | 1882/5000 [40:47<1:13:06,  1.41s/it]"
     ]
    },
    {
     "name": "stdout",
     "output_type": "stream",
     "text": [
      "output.shape=torch.Size([20, 2423, 8])\n",
      "targets.shape=torch.Size([20, 2423, 8])\n",
      "torch.Size([48460]) torch.Size([48460])\n",
      "12131\n",
      "stacked output.shape=torch.Size([48460, 8])\n",
      "targets.shape=torch.Size([48460, 8])\n",
      "12260\n"
     ]
    },
    {
     "name": "stderr",
     "output_type": "stream",
     "text": [
      " 38%|███▊      | 1885/5000 [40:51<1:10:14,  1.35s/it]"
     ]
    },
    {
     "name": "stdout",
     "output_type": "stream",
     "text": [
      "output.shape=torch.Size([20, 2423, 8])\n",
      "targets.shape=torch.Size([20, 2423, 8])\n",
      "torch.Size([48460]) torch.Size([48460])\n",
      "12050\n",
      "stacked output.shape=torch.Size([48460, 8])\n",
      "targets.shape=torch.Size([48460, 8])\n",
      "12400\n"
     ]
    },
    {
     "name": "stderr",
     "output_type": "stream",
     "text": [
      " 38%|███▊      | 1888/5000 [40:55<1:08:43,  1.33s/it]"
     ]
    },
    {
     "name": "stdout",
     "output_type": "stream",
     "text": [
      "output.shape=torch.Size([20, 2423, 8])\n",
      "targets.shape=torch.Size([20, 2423, 8])\n",
      "torch.Size([48460]) torch.Size([48460])\n",
      "11988\n",
      "stacked output.shape=torch.Size([48460, 8])\n",
      "targets.shape=torch.Size([48460, 8])\n",
      "12440\n"
     ]
    },
    {
     "name": "stderr",
     "output_type": "stream",
     "text": [
      " 38%|███▊      | 1891/5000 [40:59<1:08:34,  1.32s/it]"
     ]
    },
    {
     "name": "stdout",
     "output_type": "stream",
     "text": [
      "output.shape=torch.Size([20, 2423, 8])\n",
      "targets.shape=torch.Size([20, 2423, 8])\n",
      "torch.Size([48460]) torch.Size([48460])\n",
      "12087\n",
      "stacked output.shape=torch.Size([48460, 8])\n",
      "targets.shape=torch.Size([48460, 8])\n",
      "12460\n"
     ]
    },
    {
     "name": "stderr",
     "output_type": "stream",
     "text": [
      " 38%|███▊      | 1894/5000 [41:03<1:08:35,  1.32s/it]"
     ]
    },
    {
     "name": "stdout",
     "output_type": "stream",
     "text": [
      "output.shape=torch.Size([20, 2423, 8])\n",
      "targets.shape=torch.Size([20, 2423, 8])\n",
      "torch.Size([48460]) torch.Size([48460])\n",
      "12099\n",
      "stacked output.shape=torch.Size([48460, 8])\n",
      "targets.shape=torch.Size([48460, 8])\n",
      "12360\n"
     ]
    },
    {
     "name": "stderr",
     "output_type": "stream",
     "text": [
      " 38%|███▊      | 1897/5000 [41:07<1:08:39,  1.33s/it]"
     ]
    },
    {
     "name": "stdout",
     "output_type": "stream",
     "text": [
      "output.shape=torch.Size([20, 2423, 8])\n",
      "targets.shape=torch.Size([20, 2423, 8])\n",
      "torch.Size([48460]) torch.Size([48460])\n",
      "12076\n",
      "stacked output.shape=torch.Size([48460, 8])\n",
      "targets.shape=torch.Size([48460, 8])\n",
      "12540\n"
     ]
    },
    {
     "name": "stderr",
     "output_type": "stream",
     "text": [
      " 38%|███▊      | 1900/5000 [41:10<1:07:56,  1.31s/it]"
     ]
    },
    {
     "name": "stdout",
     "output_type": "stream",
     "text": [
      "output.shape=torch.Size([20, 2423, 8])\n",
      "targets.shape=torch.Size([20, 2423, 8])\n",
      "torch.Size([48460]) torch.Size([48460])\n",
      "12050\n",
      "stacked output.shape=torch.Size([48460, 8])\n",
      "targets.shape=torch.Size([48460, 8])\n",
      "12260\n"
     ]
    },
    {
     "name": "stderr",
     "output_type": "stream",
     "text": [
      " 38%|███▊      | 1903/5000 [41:14<1:08:25,  1.33s/it]"
     ]
    },
    {
     "name": "stdout",
     "output_type": "stream",
     "text": [
      "output.shape=torch.Size([20, 2423, 8])\n",
      "targets.shape=torch.Size([20, 2423, 8])\n",
      "torch.Size([48460]) torch.Size([48460])\n",
      "12077\n",
      "stacked output.shape=torch.Size([48460, 8])\n",
      "targets.shape=torch.Size([48460, 8])\n",
      "12280\n"
     ]
    },
    {
     "name": "stderr",
     "output_type": "stream",
     "text": [
      " 38%|███▊      | 1906/5000 [41:18<1:08:33,  1.33s/it]"
     ]
    },
    {
     "name": "stdout",
     "output_type": "stream",
     "text": [
      "output.shape=torch.Size([20, 2423, 8])\n",
      "targets.shape=torch.Size([20, 2423, 8])\n",
      "torch.Size([48460]) torch.Size([48460])\n",
      "12081\n",
      "stacked output.shape=torch.Size([48460, 8])\n",
      "targets.shape=torch.Size([48460, 8])\n",
      "12340\n"
     ]
    },
    {
     "name": "stderr",
     "output_type": "stream",
     "text": [
      " 38%|███▊      | 1909/5000 [41:22<1:08:50,  1.34s/it]"
     ]
    },
    {
     "name": "stdout",
     "output_type": "stream",
     "text": [
      "output.shape=torch.Size([20, 2423, 8])\n",
      "targets.shape=torch.Size([20, 2423, 8])\n",
      "torch.Size([48460]) torch.Size([48460])\n",
      "12149\n",
      "stacked output.shape=torch.Size([48460, 8])\n",
      "targets.shape=torch.Size([48460, 8])\n",
      "12300\n"
     ]
    },
    {
     "name": "stderr",
     "output_type": "stream",
     "text": [
      " 38%|███▊      | 1912/5000 [41:26<1:08:14,  1.33s/it]"
     ]
    },
    {
     "name": "stdout",
     "output_type": "stream",
     "text": [
      "output.shape=torch.Size([20, 2423, 8])\n",
      "targets.shape=torch.Size([20, 2423, 8])\n",
      "torch.Size([48460]) torch.Size([48460])\n",
      "12081\n",
      "stacked output.shape=torch.Size([48460, 8])\n",
      "targets.shape=torch.Size([48460, 8])\n",
      "12320\n"
     ]
    },
    {
     "name": "stderr",
     "output_type": "stream",
     "text": [
      " 38%|███▊      | 1915/5000 [41:30<1:08:23,  1.33s/it]"
     ]
    },
    {
     "name": "stdout",
     "output_type": "stream",
     "text": [
      "output.shape=torch.Size([20, 2423, 8])\n",
      "targets.shape=torch.Size([20, 2423, 8])\n",
      "torch.Size([48460]) torch.Size([48460])\n",
      "12067\n",
      "stacked output.shape=torch.Size([48460, 8])\n",
      "targets.shape=torch.Size([48460, 8])\n",
      "12400\n"
     ]
    },
    {
     "name": "stderr",
     "output_type": "stream",
     "text": [
      " 38%|███▊      | 1918/5000 [41:34<1:08:16,  1.33s/it]"
     ]
    },
    {
     "name": "stdout",
     "output_type": "stream",
     "text": [
      "output.shape=torch.Size([20, 2423, 8])\n",
      "targets.shape=torch.Size([20, 2423, 8])\n",
      "torch.Size([48460]) torch.Size([48460])\n",
      "12077\n",
      "stacked output.shape=torch.Size([48460, 8])\n",
      "targets.shape=torch.Size([48460, 8])\n",
      "12380\n"
     ]
    },
    {
     "name": "stderr",
     "output_type": "stream",
     "text": [
      " 38%|███▊      | 1921/5000 [41:38<1:07:10,  1.31s/it]"
     ]
    },
    {
     "name": "stdout",
     "output_type": "stream",
     "text": [
      "output.shape=torch.Size([20, 2423, 8])\n",
      "targets.shape=torch.Size([20, 2423, 8])\n",
      "torch.Size([48460]) torch.Size([48460])\n",
      "12070\n",
      "stacked output.shape=torch.Size([48460, 8])\n",
      "targets.shape=torch.Size([48460, 8])\n",
      "12400\n"
     ]
    },
    {
     "name": "stderr",
     "output_type": "stream",
     "text": [
      " 38%|███▊      | 1924/5000 [41:41<1:07:35,  1.32s/it]"
     ]
    },
    {
     "name": "stdout",
     "output_type": "stream",
     "text": [
      "output.shape=torch.Size([20, 2423, 8])\n",
      "targets.shape=torch.Size([20, 2423, 8])\n",
      "torch.Size([48460]) torch.Size([48460])\n",
      "12093\n",
      "stacked output.shape=torch.Size([48460, 8])\n",
      "targets.shape=torch.Size([48460, 8])\n",
      "12300\n"
     ]
    },
    {
     "name": "stderr",
     "output_type": "stream",
     "text": [
      " 39%|███▊      | 1927/5000 [41:45<1:08:31,  1.34s/it]"
     ]
    },
    {
     "name": "stdout",
     "output_type": "stream",
     "text": [
      "output.shape=torch.Size([20, 2423, 8])\n",
      "targets.shape=torch.Size([20, 2423, 8])\n",
      "torch.Size([48460]) torch.Size([48460])\n",
      "12157\n",
      "stacked output.shape=torch.Size([48460, 8])\n",
      "targets.shape=torch.Size([48460, 8])\n",
      "12180\n"
     ]
    },
    {
     "name": "stderr",
     "output_type": "stream",
     "text": [
      " 39%|███▊      | 1930/5000 [41:49<1:07:39,  1.32s/it]"
     ]
    },
    {
     "name": "stdout",
     "output_type": "stream",
     "text": [
      "output.shape=torch.Size([20, 2423, 8])\n",
      "targets.shape=torch.Size([20, 2423, 8])\n",
      "torch.Size([48460]) torch.Size([48460])\n",
      "12112\n",
      "stacked output.shape=torch.Size([48460, 8])\n",
      "targets.shape=torch.Size([48460, 8])\n",
      "12300\n"
     ]
    },
    {
     "name": "stderr",
     "output_type": "stream",
     "text": [
      " 39%|███▊      | 1933/5000 [41:53<1:07:23,  1.32s/it]"
     ]
    },
    {
     "name": "stdout",
     "output_type": "stream",
     "text": [
      "output.shape=torch.Size([20, 2423, 8])\n",
      "targets.shape=torch.Size([20, 2423, 8])\n",
      "torch.Size([48460]) torch.Size([48460])\n",
      "12062\n",
      "stacked output.shape=torch.Size([48460, 8])\n",
      "targets.shape=torch.Size([48460, 8])\n",
      "12380\n"
     ]
    },
    {
     "name": "stderr",
     "output_type": "stream",
     "text": [
      " 39%|███▊      | 1936/5000 [41:57<1:06:59,  1.31s/it]"
     ]
    },
    {
     "name": "stdout",
     "output_type": "stream",
     "text": [
      "output.shape=torch.Size([20, 2423, 8])\n",
      "targets.shape=torch.Size([20, 2423, 8])\n",
      "torch.Size([48460]) torch.Size([48460])\n",
      "12103\n",
      "stacked output.shape=torch.Size([48460, 8])\n",
      "targets.shape=torch.Size([48460, 8])\n",
      "12180\n"
     ]
    },
    {
     "name": "stderr",
     "output_type": "stream",
     "text": [
      " 39%|███▉      | 1939/5000 [42:01<1:06:39,  1.31s/it]"
     ]
    },
    {
     "name": "stdout",
     "output_type": "stream",
     "text": [
      "output.shape=torch.Size([20, 2423, 8])\n",
      "targets.shape=torch.Size([20, 2423, 8])\n",
      "torch.Size([48460]) torch.Size([48460])\n",
      "12117\n",
      "stacked output.shape=torch.Size([48460, 8])\n",
      "targets.shape=torch.Size([48460, 8])\n",
      "12120\n"
     ]
    },
    {
     "name": "stderr",
     "output_type": "stream",
     "text": [
      " 39%|███▉      | 1942/5000 [42:05<1:06:55,  1.31s/it]"
     ]
    },
    {
     "name": "stdout",
     "output_type": "stream",
     "text": [
      "output.shape=torch.Size([20, 2423, 8])\n",
      "targets.shape=torch.Size([20, 2423, 8])\n",
      "torch.Size([48460]) torch.Size([48460])\n",
      "12112\n",
      "stacked output.shape=torch.Size([48460, 8])\n",
      "targets.shape=torch.Size([48460, 8])\n",
      "12280\n"
     ]
    },
    {
     "name": "stderr",
     "output_type": "stream",
     "text": [
      " 39%|███▉      | 1945/5000 [42:09<1:06:45,  1.31s/it]"
     ]
    },
    {
     "name": "stdout",
     "output_type": "stream",
     "text": [
      "output.shape=torch.Size([20, 2423, 8])\n",
      "targets.shape=torch.Size([20, 2423, 8])\n",
      "torch.Size([48460]) torch.Size([48460])\n",
      "12105\n",
      "stacked output.shape=torch.Size([48460, 8])\n",
      "targets.shape=torch.Size([48460, 8])\n",
      "12460\n"
     ]
    },
    {
     "name": "stderr",
     "output_type": "stream",
     "text": [
      " 39%|███▉      | 1948/5000 [42:12<1:06:44,  1.31s/it]"
     ]
    },
    {
     "name": "stdout",
     "output_type": "stream",
     "text": [
      "output.shape=torch.Size([20, 2423, 8])\n",
      "targets.shape=torch.Size([20, 2423, 8])\n",
      "torch.Size([48460]) torch.Size([48460])\n",
      "12078\n",
      "stacked output.shape=torch.Size([48460, 8])\n",
      "targets.shape=torch.Size([48460, 8])\n",
      "12340\n"
     ]
    },
    {
     "name": "stderr",
     "output_type": "stream",
     "text": [
      " 39%|███▉      | 1951/5000 [42:16<1:06:36,  1.31s/it]"
     ]
    },
    {
     "name": "stdout",
     "output_type": "stream",
     "text": [
      "output.shape=torch.Size([20, 2423, 8])\n",
      "targets.shape=torch.Size([20, 2423, 8])\n",
      "torch.Size([48460]) torch.Size([48460])\n",
      "12040\n",
      "stacked output.shape=torch.Size([48460, 8])\n",
      "targets.shape=torch.Size([48460, 8])\n",
      "12180\n"
     ]
    },
    {
     "name": "stderr",
     "output_type": "stream",
     "text": [
      " 39%|███▉      | 1954/5000 [42:20<1:06:23,  1.31s/it]"
     ]
    },
    {
     "name": "stdout",
     "output_type": "stream",
     "text": [
      "output.shape=torch.Size([20, 2423, 8])\n",
      "targets.shape=torch.Size([20, 2423, 8])\n",
      "torch.Size([48460]) torch.Size([48460])\n",
      "12082\n",
      "stacked output.shape=torch.Size([48460, 8])\n",
      "targets.shape=torch.Size([48460, 8])\n",
      "12260\n"
     ]
    },
    {
     "name": "stderr",
     "output_type": "stream",
     "text": [
      " 39%|███▉      | 1957/5000 [42:24<1:06:25,  1.31s/it]"
     ]
    },
    {
     "name": "stdout",
     "output_type": "stream",
     "text": [
      "output.shape=torch.Size([20, 2423, 8])\n",
      "targets.shape=torch.Size([20, 2423, 8])\n",
      "torch.Size([48460]) torch.Size([48460])\n",
      "12119\n",
      "stacked output.shape=torch.Size([48460, 8])\n",
      "targets.shape=torch.Size([48460, 8])\n",
      "12500\n"
     ]
    },
    {
     "name": "stderr",
     "output_type": "stream",
     "text": [
      " 39%|███▉      | 1960/5000 [42:28<1:06:51,  1.32s/it]"
     ]
    },
    {
     "name": "stdout",
     "output_type": "stream",
     "text": [
      "output.shape=torch.Size([20, 2423, 8])\n",
      "targets.shape=torch.Size([20, 2423, 8])\n",
      "torch.Size([48460]) torch.Size([48460])\n",
      "12092\n",
      "stacked output.shape=torch.Size([48460, 8])\n",
      "targets.shape=torch.Size([48460, 8])\n",
      "12400\n"
     ]
    },
    {
     "name": "stderr",
     "output_type": "stream",
     "text": [
      " 39%|███▉      | 1963/5000 [42:32<1:06:46,  1.32s/it]"
     ]
    },
    {
     "name": "stdout",
     "output_type": "stream",
     "text": [
      "output.shape=torch.Size([20, 2423, 8])\n",
      "targets.shape=torch.Size([20, 2423, 8])\n",
      "torch.Size([48460]) torch.Size([48460])\n",
      "12142\n",
      "stacked output.shape=torch.Size([48460, 8])\n",
      "targets.shape=torch.Size([48460, 8])\n",
      "12540\n"
     ]
    },
    {
     "name": "stderr",
     "output_type": "stream",
     "text": [
      " 39%|███▉      | 1966/5000 [42:36<1:06:48,  1.32s/it]"
     ]
    },
    {
     "name": "stdout",
     "output_type": "stream",
     "text": [
      "output.shape=torch.Size([20, 2423, 8])\n",
      "targets.shape=torch.Size([20, 2423, 8])\n",
      "torch.Size([48460]) torch.Size([48460])\n",
      "12098\n",
      "stacked output.shape=torch.Size([48460, 8])\n",
      "targets.shape=torch.Size([48460, 8])\n",
      "12240\n"
     ]
    },
    {
     "name": "stderr",
     "output_type": "stream",
     "text": [
      " 39%|███▉      | 1969/5000 [42:39<1:07:09,  1.33s/it]"
     ]
    },
    {
     "name": "stdout",
     "output_type": "stream",
     "text": [
      "output.shape=torch.Size([20, 2423, 8])\n",
      "targets.shape=torch.Size([20, 2423, 8])\n",
      "torch.Size([48460]) torch.Size([48460])\n",
      "12041\n",
      "stacked output.shape=torch.Size([48460, 8])\n",
      "targets.shape=torch.Size([48460, 8])\n",
      "12560\n"
     ]
    },
    {
     "name": "stderr",
     "output_type": "stream",
     "text": [
      " 39%|███▉      | 1972/5000 [42:43<1:08:24,  1.36s/it]"
     ]
    },
    {
     "name": "stdout",
     "output_type": "stream",
     "text": [
      "output.shape=torch.Size([20, 2423, 8])\n",
      "targets.shape=torch.Size([20, 2423, 8])\n",
      "torch.Size([48460]) torch.Size([48460])\n",
      "11981\n",
      "stacked output.shape=torch.Size([48460, 8])\n",
      "targets.shape=torch.Size([48460, 8])\n",
      "12540\n"
     ]
    },
    {
     "name": "stderr",
     "output_type": "stream",
     "text": [
      " 40%|███▉      | 1975/5000 [42:47<1:08:19,  1.36s/it]"
     ]
    },
    {
     "name": "stdout",
     "output_type": "stream",
     "text": [
      "output.shape=torch.Size([20, 2423, 8])\n",
      "targets.shape=torch.Size([20, 2423, 8])\n",
      "torch.Size([48460]) torch.Size([48460])\n",
      "12088\n",
      "stacked output.shape=torch.Size([48460, 8])\n",
      "targets.shape=torch.Size([48460, 8])\n",
      "12320\n"
     ]
    },
    {
     "name": "stderr",
     "output_type": "stream",
     "text": [
      " 40%|███▉      | 1978/5000 [42:51<1:08:24,  1.36s/it]"
     ]
    },
    {
     "name": "stdout",
     "output_type": "stream",
     "text": [
      "output.shape=torch.Size([20, 2423, 8])\n",
      "targets.shape=torch.Size([20, 2423, 8])\n",
      "torch.Size([48460]) torch.Size([48460])\n",
      "12115\n",
      "stacked output.shape=torch.Size([48460, 8])\n",
      "targets.shape=torch.Size([48460, 8])\n",
      "12300\n"
     ]
    },
    {
     "name": "stderr",
     "output_type": "stream",
     "text": [
      " 40%|███▉      | 1981/5000 [42:55<1:08:21,  1.36s/it]"
     ]
    },
    {
     "name": "stdout",
     "output_type": "stream",
     "text": [
      "output.shape=torch.Size([20, 2423, 8])\n",
      "targets.shape=torch.Size([20, 2423, 8])\n",
      "torch.Size([48460]) torch.Size([48460])\n",
      "12045\n",
      "stacked output.shape=torch.Size([48460, 8])\n",
      "targets.shape=torch.Size([48460, 8])\n",
      "12420\n"
     ]
    },
    {
     "name": "stderr",
     "output_type": "stream",
     "text": [
      " 40%|███▉      | 1984/5000 [42:59<1:07:06,  1.34s/it]"
     ]
    },
    {
     "name": "stdout",
     "output_type": "stream",
     "text": [
      "output.shape=torch.Size([20, 2423, 8])\n",
      "targets.shape=torch.Size([20, 2423, 8])\n",
      "torch.Size([48460]) torch.Size([48460])\n",
      "12059\n",
      "stacked output.shape=torch.Size([48460, 8])\n",
      "targets.shape=torch.Size([48460, 8])\n",
      "12440\n"
     ]
    },
    {
     "name": "stderr",
     "output_type": "stream",
     "text": [
      " 40%|███▉      | 1987/5000 [43:03<1:07:17,  1.34s/it]"
     ]
    },
    {
     "name": "stdout",
     "output_type": "stream",
     "text": [
      "output.shape=torch.Size([20, 2423, 8])\n",
      "targets.shape=torch.Size([20, 2423, 8])\n",
      "torch.Size([48460]) torch.Size([48460])\n",
      "12073\n",
      "stacked output.shape=torch.Size([48460, 8])\n",
      "targets.shape=torch.Size([48460, 8])\n",
      "12480\n"
     ]
    },
    {
     "name": "stderr",
     "output_type": "stream",
     "text": [
      " 40%|███▉      | 1990/5000 [43:07<1:06:40,  1.33s/it]"
     ]
    },
    {
     "name": "stdout",
     "output_type": "stream",
     "text": [
      "output.shape=torch.Size([20, 2423, 8])\n",
      "targets.shape=torch.Size([20, 2423, 8])\n",
      "torch.Size([48460]) torch.Size([48460])\n",
      "12062\n",
      "stacked output.shape=torch.Size([48460, 8])\n",
      "targets.shape=torch.Size([48460, 8])\n",
      "12600\n"
     ]
    },
    {
     "name": "stderr",
     "output_type": "stream",
     "text": [
      " 40%|███▉      | 1993/5000 [43:11<1:06:53,  1.33s/it]"
     ]
    },
    {
     "name": "stdout",
     "output_type": "stream",
     "text": [
      "output.shape=torch.Size([20, 2423, 8])\n",
      "targets.shape=torch.Size([20, 2423, 8])\n",
      "torch.Size([48460]) torch.Size([48460])\n",
      "12097\n",
      "stacked output.shape=torch.Size([48460, 8])\n",
      "targets.shape=torch.Size([48460, 8])\n",
      "12480\n"
     ]
    },
    {
     "name": "stderr",
     "output_type": "stream",
     "text": [
      " 40%|███▉      | 1996/5000 [43:15<1:06:37,  1.33s/it]"
     ]
    },
    {
     "name": "stdout",
     "output_type": "stream",
     "text": [
      "output.shape=torch.Size([20, 2423, 8])\n",
      "targets.shape=torch.Size([20, 2423, 8])\n",
      "torch.Size([48460]) torch.Size([48460])\n",
      "12137\n",
      "stacked output.shape=torch.Size([48460, 8])\n",
      "targets.shape=torch.Size([48460, 8])\n",
      "12280\n"
     ]
    },
    {
     "name": "stderr",
     "output_type": "stream",
     "text": [
      " 40%|███▉      | 1999/5000 [43:19<1:06:15,  1.32s/it]"
     ]
    },
    {
     "name": "stdout",
     "output_type": "stream",
     "text": [
      "output.shape=torch.Size([20, 2423, 8])\n",
      "targets.shape=torch.Size([20, 2423, 8])\n",
      "torch.Size([48460]) torch.Size([48460])\n",
      "12097\n",
      "stacked output.shape=torch.Size([48460, 8])\n",
      "targets.shape=torch.Size([48460, 8])\n",
      "12540\n"
     ]
    },
    {
     "name": "stderr",
     "output_type": "stream",
     "text": [
      " 40%|████      | 2002/5000 [43:23<1:06:40,  1.33s/it]"
     ]
    },
    {
     "name": "stdout",
     "output_type": "stream",
     "text": [
      "output.shape=torch.Size([20, 2423, 8])\n",
      "targets.shape=torch.Size([20, 2423, 8])\n",
      "torch.Size([48460]) torch.Size([48460])\n",
      "12079\n",
      "stacked output.shape=torch.Size([48460, 8])\n",
      "targets.shape=torch.Size([48460, 8])\n",
      "12660\n"
     ]
    },
    {
     "name": "stderr",
     "output_type": "stream",
     "text": [
      " 40%|████      | 2005/5000 [43:27<1:06:07,  1.32s/it]"
     ]
    },
    {
     "name": "stdout",
     "output_type": "stream",
     "text": [
      "output.shape=torch.Size([20, 2423, 8])\n",
      "targets.shape=torch.Size([20, 2423, 8])\n",
      "torch.Size([48460]) torch.Size([48460])\n",
      "12123\n",
      "stacked output.shape=torch.Size([48460, 8])\n",
      "targets.shape=torch.Size([48460, 8])\n",
      "12480\n"
     ]
    },
    {
     "name": "stderr",
     "output_type": "stream",
     "text": [
      " 40%|████      | 2008/5000 [43:31<1:06:21,  1.33s/it]"
     ]
    },
    {
     "name": "stdout",
     "output_type": "stream",
     "text": [
      "output.shape=torch.Size([20, 2423, 8])\n",
      "targets.shape=torch.Size([20, 2423, 8])\n",
      "torch.Size([48460]) torch.Size([48460])\n",
      "12129\n",
      "stacked output.shape=torch.Size([48460, 8])\n",
      "targets.shape=torch.Size([48460, 8])\n",
      "12460\n"
     ]
    },
    {
     "name": "stderr",
     "output_type": "stream",
     "text": [
      " 40%|████      | 2011/5000 [43:35<1:08:08,  1.37s/it]"
     ]
    },
    {
     "name": "stdout",
     "output_type": "stream",
     "text": [
      "output.shape=torch.Size([20, 2423, 8])\n",
      "targets.shape=torch.Size([20, 2423, 8])\n",
      "torch.Size([48460]) torch.Size([48460])\n",
      "12125\n",
      "stacked output.shape=torch.Size([48460, 8])\n",
      "targets.shape=torch.Size([48460, 8])\n",
      "12580\n"
     ]
    },
    {
     "name": "stderr",
     "output_type": "stream",
     "text": [
      " 40%|████      | 2014/5000 [43:39<1:09:08,  1.39s/it]"
     ]
    },
    {
     "name": "stdout",
     "output_type": "stream",
     "text": [
      "output.shape=torch.Size([20, 2423, 8])\n",
      "targets.shape=torch.Size([20, 2423, 8])\n",
      "torch.Size([48460]) torch.Size([48460])\n",
      "12121\n",
      "stacked output.shape=torch.Size([48460, 8])\n",
      "targets.shape=torch.Size([48460, 8])\n",
      "12560\n"
     ]
    },
    {
     "name": "stderr",
     "output_type": "stream",
     "text": [
      " 40%|████      | 2017/5000 [43:43<1:07:57,  1.37s/it]"
     ]
    },
    {
     "name": "stdout",
     "output_type": "stream",
     "text": [
      "output.shape=torch.Size([20, 2423, 8])\n",
      "targets.shape=torch.Size([20, 2423, 8])\n",
      "torch.Size([48460]) torch.Size([48460])\n",
      "12100\n",
      "stacked output.shape=torch.Size([48460, 8])\n",
      "targets.shape=torch.Size([48460, 8])\n",
      "12460\n"
     ]
    },
    {
     "name": "stderr",
     "output_type": "stream",
     "text": [
      " 40%|████      | 2020/5000 [43:47<1:06:48,  1.35s/it]"
     ]
    },
    {
     "name": "stdout",
     "output_type": "stream",
     "text": [
      "output.shape=torch.Size([20, 2423, 8])\n",
      "targets.shape=torch.Size([20, 2423, 8])\n",
      "torch.Size([48460]) torch.Size([48460])\n",
      "12093\n",
      "stacked output.shape=torch.Size([48460, 8])\n",
      "targets.shape=torch.Size([48460, 8])\n",
      "12240\n"
     ]
    },
    {
     "name": "stderr",
     "output_type": "stream",
     "text": [
      " 40%|████      | 2023/5000 [43:50<1:06:45,  1.35s/it]"
     ]
    },
    {
     "name": "stdout",
     "output_type": "stream",
     "text": [
      "output.shape=torch.Size([20, 2423, 8])\n",
      "targets.shape=torch.Size([20, 2423, 8])\n",
      "torch.Size([48460]) torch.Size([48460])\n",
      "12084\n",
      "stacked output.shape=torch.Size([48460, 8])\n",
      "targets.shape=torch.Size([48460, 8])\n",
      "12480\n"
     ]
    },
    {
     "name": "stderr",
     "output_type": "stream",
     "text": [
      " 41%|████      | 2026/5000 [43:54<1:05:50,  1.33s/it]"
     ]
    },
    {
     "name": "stdout",
     "output_type": "stream",
     "text": [
      "output.shape=torch.Size([20, 2423, 8])\n",
      "targets.shape=torch.Size([20, 2423, 8])\n",
      "torch.Size([48460]) torch.Size([48460])\n",
      "12067\n",
      "stacked output.shape=torch.Size([48460, 8])\n",
      "targets.shape=torch.Size([48460, 8])\n",
      "12540\n"
     ]
    },
    {
     "name": "stderr",
     "output_type": "stream",
     "text": [
      " 41%|████      | 2029/5000 [43:58<1:05:44,  1.33s/it]"
     ]
    },
    {
     "name": "stdout",
     "output_type": "stream",
     "text": [
      "output.shape=torch.Size([20, 2423, 8])\n",
      "targets.shape=torch.Size([20, 2423, 8])\n",
      "torch.Size([48460]) torch.Size([48460])\n",
      "12055\n",
      "stacked output.shape=torch.Size([48460, 8])\n",
      "targets.shape=torch.Size([48460, 8])\n",
      "12380\n"
     ]
    },
    {
     "name": "stderr",
     "output_type": "stream",
     "text": [
      " 41%|████      | 2032/5000 [44:02<1:05:20,  1.32s/it]"
     ]
    },
    {
     "name": "stdout",
     "output_type": "stream",
     "text": [
      "output.shape=torch.Size([20, 2423, 8])\n",
      "targets.shape=torch.Size([20, 2423, 8])\n",
      "torch.Size([48460]) torch.Size([48460])\n",
      "12063\n",
      "stacked output.shape=torch.Size([48460, 8])\n",
      "targets.shape=torch.Size([48460, 8])\n",
      "12600\n"
     ]
    },
    {
     "name": "stderr",
     "output_type": "stream",
     "text": [
      " 41%|████      | 2035/5000 [44:06<1:04:55,  1.31s/it]"
     ]
    },
    {
     "name": "stdout",
     "output_type": "stream",
     "text": [
      "output.shape=torch.Size([20, 2423, 8])\n",
      "targets.shape=torch.Size([20, 2423, 8])\n",
      "torch.Size([48460]) torch.Size([48460])\n",
      "12126\n",
      "stacked output.shape=torch.Size([48460, 8])\n",
      "targets.shape=torch.Size([48460, 8])\n",
      "12400\n"
     ]
    },
    {
     "name": "stderr",
     "output_type": "stream",
     "text": [
      " 41%|████      | 2038/5000 [44:10<1:05:19,  1.32s/it]"
     ]
    },
    {
     "name": "stdout",
     "output_type": "stream",
     "text": [
      "output.shape=torch.Size([20, 2423, 8])\n",
      "targets.shape=torch.Size([20, 2423, 8])\n",
      "torch.Size([48460]) torch.Size([48460])\n",
      "12009\n",
      "stacked output.shape=torch.Size([48460, 8])\n",
      "targets.shape=torch.Size([48460, 8])\n",
      "12200\n"
     ]
    },
    {
     "name": "stderr",
     "output_type": "stream",
     "text": [
      " 41%|████      | 2041/5000 [44:14<1:04:55,  1.32s/it]"
     ]
    },
    {
     "name": "stdout",
     "output_type": "stream",
     "text": [
      "output.shape=torch.Size([20, 2423, 8])\n",
      "targets.shape=torch.Size([20, 2423, 8])\n",
      "torch.Size([48460]) torch.Size([48460])\n",
      "12093\n",
      "stacked output.shape=torch.Size([48460, 8])\n",
      "targets.shape=torch.Size([48460, 8])\n",
      "12580\n"
     ]
    },
    {
     "name": "stderr",
     "output_type": "stream",
     "text": [
      " 41%|████      | 2044/5000 [44:18<1:04:33,  1.31s/it]"
     ]
    },
    {
     "name": "stdout",
     "output_type": "stream",
     "text": [
      "output.shape=torch.Size([20, 2423, 8])\n",
      "targets.shape=torch.Size([20, 2423, 8])\n",
      "torch.Size([48460]) torch.Size([48460])\n",
      "12139\n",
      "stacked output.shape=torch.Size([48460, 8])\n",
      "targets.shape=torch.Size([48460, 8])\n",
      "12660\n"
     ]
    },
    {
     "name": "stderr",
     "output_type": "stream",
     "text": [
      " 41%|████      | 2047/5000 [44:21<1:04:54,  1.32s/it]"
     ]
    },
    {
     "name": "stdout",
     "output_type": "stream",
     "text": [
      "output.shape=torch.Size([20, 2423, 8])\n",
      "targets.shape=torch.Size([20, 2423, 8])\n",
      "torch.Size([48460]) torch.Size([48460])\n",
      "12084\n",
      "stacked output.shape=torch.Size([48460, 8])\n",
      "targets.shape=torch.Size([48460, 8])\n",
      "12680\n"
     ]
    },
    {
     "name": "stderr",
     "output_type": "stream",
     "text": [
      " 41%|████      | 2050/5000 [44:25<1:05:13,  1.33s/it]"
     ]
    },
    {
     "name": "stdout",
     "output_type": "stream",
     "text": [
      "output.shape=torch.Size([20, 2423, 8])\n",
      "targets.shape=torch.Size([20, 2423, 8])\n",
      "torch.Size([48460]) torch.Size([48460])\n",
      "12133\n",
      "stacked output.shape=torch.Size([48460, 8])\n",
      "targets.shape=torch.Size([48460, 8])\n",
      "12480\n"
     ]
    },
    {
     "name": "stderr",
     "output_type": "stream",
     "text": [
      " 41%|████      | 2053/5000 [44:29<1:04:35,  1.32s/it]"
     ]
    },
    {
     "name": "stdout",
     "output_type": "stream",
     "text": [
      "output.shape=torch.Size([20, 2423, 8])\n",
      "targets.shape=torch.Size([20, 2423, 8])\n",
      "torch.Size([48460]) torch.Size([48460])\n",
      "12074\n",
      "stacked output.shape=torch.Size([48460, 8])\n",
      "targets.shape=torch.Size([48460, 8])\n",
      "12820\n"
     ]
    },
    {
     "name": "stderr",
     "output_type": "stream",
     "text": [
      " 41%|████      | 2056/5000 [44:33<1:04:36,  1.32s/it]"
     ]
    },
    {
     "name": "stdout",
     "output_type": "stream",
     "text": [
      "output.shape=torch.Size([20, 2423, 8])\n",
      "targets.shape=torch.Size([20, 2423, 8])\n",
      "torch.Size([48460]) torch.Size([48460])\n",
      "12098\n",
      "stacked output.shape=torch.Size([48460, 8])\n",
      "targets.shape=torch.Size([48460, 8])\n",
      "12620\n"
     ]
    },
    {
     "name": "stderr",
     "output_type": "stream",
     "text": [
      " 41%|████      | 2059/5000 [44:37<1:04:40,  1.32s/it]"
     ]
    },
    {
     "name": "stdout",
     "output_type": "stream",
     "text": [
      "output.shape=torch.Size([20, 2423, 8])\n",
      "targets.shape=torch.Size([20, 2423, 8])\n",
      "torch.Size([48460]) torch.Size([48460])\n",
      "12039\n",
      "stacked output.shape=torch.Size([48460, 8])\n",
      "targets.shape=torch.Size([48460, 8])\n",
      "12760\n"
     ]
    },
    {
     "name": "stderr",
     "output_type": "stream",
     "text": [
      " 41%|████      | 2062/5000 [44:41<1:04:46,  1.32s/it]"
     ]
    },
    {
     "name": "stdout",
     "output_type": "stream",
     "text": [
      "output.shape=torch.Size([20, 2423, 8])\n",
      "targets.shape=torch.Size([20, 2423, 8])\n",
      "torch.Size([48460]) torch.Size([48460])\n",
      "12109\n",
      "stacked output.shape=torch.Size([48460, 8])\n",
      "targets.shape=torch.Size([48460, 8])\n",
      "12600\n"
     ]
    },
    {
     "name": "stderr",
     "output_type": "stream",
     "text": [
      " 41%|████▏     | 2065/5000 [44:45<1:05:29,  1.34s/it]"
     ]
    },
    {
     "name": "stdout",
     "output_type": "stream",
     "text": [
      "output.shape=torch.Size([20, 2423, 8])\n",
      "targets.shape=torch.Size([20, 2423, 8])\n",
      "torch.Size([48460]) torch.Size([48460])\n",
      "12113\n",
      "stacked output.shape=torch.Size([48460, 8])\n",
      "targets.shape=torch.Size([48460, 8])\n",
      "12500\n"
     ]
    },
    {
     "name": "stderr",
     "output_type": "stream",
     "text": [
      " 41%|████▏     | 2068/5000 [44:49<1:04:13,  1.31s/it]"
     ]
    },
    {
     "name": "stdout",
     "output_type": "stream",
     "text": [
      "output.shape=torch.Size([20, 2423, 8])\n",
      "targets.shape=torch.Size([20, 2423, 8])\n",
      "torch.Size([48460]) torch.Size([48460])\n",
      "12153\n",
      "stacked output.shape=torch.Size([48460, 8])\n",
      "targets.shape=torch.Size([48460, 8])\n",
      "12860\n"
     ]
    },
    {
     "name": "stderr",
     "output_type": "stream",
     "text": [
      " 41%|████▏     | 2071/5000 [44:52<1:04:07,  1.31s/it]"
     ]
    },
    {
     "name": "stdout",
     "output_type": "stream",
     "text": [
      "output.shape=torch.Size([20, 2423, 8])\n",
      "targets.shape=torch.Size([20, 2423, 8])\n",
      "torch.Size([48460]) torch.Size([48460])\n",
      "12051\n",
      "stacked output.shape=torch.Size([48460, 8])\n",
      "targets.shape=torch.Size([48460, 8])\n",
      "12480\n"
     ]
    },
    {
     "name": "stderr",
     "output_type": "stream",
     "text": [
      " 41%|████▏     | 2074/5000 [44:56<1:04:18,  1.32s/it]"
     ]
    },
    {
     "name": "stdout",
     "output_type": "stream",
     "text": [
      "output.shape=torch.Size([20, 2423, 8])\n",
      "targets.shape=torch.Size([20, 2423, 8])\n",
      "torch.Size([48460]) torch.Size([48460])\n",
      "12118\n",
      "stacked output.shape=torch.Size([48460, 8])\n",
      "targets.shape=torch.Size([48460, 8])\n",
      "12480\n"
     ]
    },
    {
     "name": "stderr",
     "output_type": "stream",
     "text": [
      " 42%|████▏     | 2077/5000 [45:00<1:03:55,  1.31s/it]"
     ]
    },
    {
     "name": "stdout",
     "output_type": "stream",
     "text": [
      "output.shape=torch.Size([20, 2423, 8])\n",
      "targets.shape=torch.Size([20, 2423, 8])\n",
      "torch.Size([48460]) torch.Size([48460])\n",
      "12092\n",
      "stacked output.shape=torch.Size([48460, 8])\n",
      "targets.shape=torch.Size([48460, 8])\n",
      "12500\n"
     ]
    },
    {
     "name": "stderr",
     "output_type": "stream",
     "text": [
      " 42%|████▏     | 2080/5000 [45:04<1:03:57,  1.31s/it]"
     ]
    },
    {
     "name": "stdout",
     "output_type": "stream",
     "text": [
      "output.shape=torch.Size([20, 2423, 8])\n",
      "targets.shape=torch.Size([20, 2423, 8])\n",
      "torch.Size([48460]) torch.Size([48460])\n",
      "12096\n",
      "stacked output.shape=torch.Size([48460, 8])\n",
      "targets.shape=torch.Size([48460, 8])\n",
      "12460\n"
     ]
    },
    {
     "name": "stderr",
     "output_type": "stream",
     "text": [
      " 42%|████▏     | 2083/5000 [45:08<1:03:53,  1.31s/it]"
     ]
    },
    {
     "name": "stdout",
     "output_type": "stream",
     "text": [
      "output.shape=torch.Size([20, 2423, 8])\n",
      "targets.shape=torch.Size([20, 2423, 8])\n",
      "torch.Size([48460]) torch.Size([48460])\n",
      "12108\n",
      "stacked output.shape=torch.Size([48460, 8])\n",
      "targets.shape=torch.Size([48460, 8])\n",
      "12480\n"
     ]
    },
    {
     "name": "stderr",
     "output_type": "stream",
     "text": [
      " 42%|████▏     | 2086/5000 [45:12<1:04:10,  1.32s/it]"
     ]
    },
    {
     "name": "stdout",
     "output_type": "stream",
     "text": [
      "output.shape=torch.Size([20, 2423, 8])\n",
      "targets.shape=torch.Size([20, 2423, 8])\n",
      "torch.Size([48460]) torch.Size([48460])\n",
      "12133\n",
      "stacked output.shape=torch.Size([48460, 8])\n",
      "targets.shape=torch.Size([48460, 8])\n",
      "12460\n"
     ]
    },
    {
     "name": "stderr",
     "output_type": "stream",
     "text": [
      " 42%|████▏     | 2089/5000 [45:16<1:03:51,  1.32s/it]"
     ]
    },
    {
     "name": "stdout",
     "output_type": "stream",
     "text": [
      "output.shape=torch.Size([20, 2423, 8])\n",
      "targets.shape=torch.Size([20, 2423, 8])\n",
      "torch.Size([48460]) torch.Size([48460])\n",
      "12135\n",
      "stacked output.shape=torch.Size([48460, 8])\n",
      "targets.shape=torch.Size([48460, 8])\n",
      "12520\n"
     ]
    },
    {
     "name": "stderr",
     "output_type": "stream",
     "text": [
      " 42%|████▏     | 2092/5000 [45:20<1:04:56,  1.34s/it]"
     ]
    },
    {
     "name": "stdout",
     "output_type": "stream",
     "text": [
      "output.shape=torch.Size([20, 2423, 8])\n",
      "targets.shape=torch.Size([20, 2423, 8])\n",
      "torch.Size([48460]) torch.Size([48460])\n",
      "12133\n",
      "stacked output.shape=torch.Size([48460, 8])\n",
      "targets.shape=torch.Size([48460, 8])\n",
      "12480\n"
     ]
    },
    {
     "name": "stderr",
     "output_type": "stream",
     "text": [
      " 42%|████▏     | 2095/5000 [45:23<1:04:00,  1.32s/it]"
     ]
    },
    {
     "name": "stdout",
     "output_type": "stream",
     "text": [
      "output.shape=torch.Size([20, 2423, 8])\n",
      "targets.shape=torch.Size([20, 2423, 8])\n",
      "torch.Size([48460]) torch.Size([48460])\n",
      "12155\n",
      "stacked output.shape=torch.Size([48460, 8])\n",
      "targets.shape=torch.Size([48460, 8])\n",
      "12360\n"
     ]
    },
    {
     "name": "stderr",
     "output_type": "stream",
     "text": [
      " 42%|████▏     | 2098/5000 [45:27<1:04:11,  1.33s/it]"
     ]
    },
    {
     "name": "stdout",
     "output_type": "stream",
     "text": [
      "output.shape=torch.Size([20, 2423, 8])\n",
      "targets.shape=torch.Size([20, 2423, 8])\n",
      "torch.Size([48460]) torch.Size([48460])\n",
      "12157\n",
      "stacked output.shape=torch.Size([48460, 8])\n",
      "targets.shape=torch.Size([48460, 8])\n",
      "12640\n"
     ]
    },
    {
     "name": "stderr",
     "output_type": "stream",
     "text": [
      " 42%|████▏     | 2101/5000 [45:31<1:05:05,  1.35s/it]"
     ]
    },
    {
     "name": "stdout",
     "output_type": "stream",
     "text": [
      "output.shape=torch.Size([20, 2423, 8])\n",
      "targets.shape=torch.Size([20, 2423, 8])\n",
      "torch.Size([48460]) torch.Size([48460])\n",
      "12076\n",
      "stacked output.shape=torch.Size([48460, 8])\n",
      "targets.shape=torch.Size([48460, 8])\n",
      "12740\n"
     ]
    },
    {
     "name": "stderr",
     "output_type": "stream",
     "text": [
      " 42%|████▏     | 2104/5000 [45:35<1:05:24,  1.36s/it]"
     ]
    },
    {
     "name": "stdout",
     "output_type": "stream",
     "text": [
      "output.shape=torch.Size([20, 2423, 8])\n",
      "targets.shape=torch.Size([20, 2423, 8])\n",
      "torch.Size([48460]) torch.Size([48460])\n",
      "12041\n",
      "stacked output.shape=torch.Size([48460, 8])\n",
      "targets.shape=torch.Size([48460, 8])\n",
      "12840\n"
     ]
    },
    {
     "name": "stderr",
     "output_type": "stream",
     "text": [
      " 42%|████▏     | 2107/5000 [45:40<1:17:38,  1.61s/it]"
     ]
    },
    {
     "name": "stdout",
     "output_type": "stream",
     "text": [
      "output.shape=torch.Size([20, 2423, 8])\n",
      "targets.shape=torch.Size([20, 2423, 8])\n",
      "torch.Size([48460]) torch.Size([48460])\n",
      "12083\n",
      "stacked output.shape=torch.Size([48460, 8])\n",
      "targets.shape=torch.Size([48460, 8])\n",
      "12580\n"
     ]
    },
    {
     "name": "stderr",
     "output_type": "stream",
     "text": [
      " 42%|████▏     | 2110/5000 [45:44<1:11:02,  1.47s/it]"
     ]
    },
    {
     "name": "stdout",
     "output_type": "stream",
     "text": [
      "output.shape=torch.Size([20, 2423, 8])\n",
      "targets.shape=torch.Size([20, 2423, 8])\n",
      "torch.Size([48460]) torch.Size([48460])\n",
      "12108\n",
      "stacked output.shape=torch.Size([48460, 8])\n",
      "targets.shape=torch.Size([48460, 8])\n",
      "12440\n"
     ]
    },
    {
     "name": "stderr",
     "output_type": "stream",
     "text": [
      " 42%|████▏     | 2113/5000 [45:48<1:05:52,  1.37s/it]"
     ]
    },
    {
     "name": "stdout",
     "output_type": "stream",
     "text": [
      "output.shape=torch.Size([20, 2423, 8])\n",
      "targets.shape=torch.Size([20, 2423, 8])\n",
      "torch.Size([48460]) torch.Size([48460])\n",
      "12129\n",
      "stacked output.shape=torch.Size([48460, 8])\n",
      "targets.shape=torch.Size([48460, 8])\n",
      "12600\n"
     ]
    },
    {
     "name": "stderr",
     "output_type": "stream",
     "text": [
      " 42%|████▏     | 2116/5000 [45:52<1:04:20,  1.34s/it]"
     ]
    },
    {
     "name": "stdout",
     "output_type": "stream",
     "text": [
      "output.shape=torch.Size([20, 2423, 8])\n",
      "targets.shape=torch.Size([20, 2423, 8])\n",
      "torch.Size([48460]) torch.Size([48460])\n",
      "12133\n",
      "stacked output.shape=torch.Size([48460, 8])\n",
      "targets.shape=torch.Size([48460, 8])\n",
      "12560\n"
     ]
    },
    {
     "name": "stderr",
     "output_type": "stream",
     "text": [
      " 42%|████▏     | 2119/5000 [45:56<1:04:59,  1.35s/it]"
     ]
    },
    {
     "name": "stdout",
     "output_type": "stream",
     "text": [
      "output.shape=torch.Size([20, 2423, 8])\n",
      "targets.shape=torch.Size([20, 2423, 8])\n",
      "torch.Size([48460]) torch.Size([48460])\n",
      "12101\n",
      "stacked output.shape=torch.Size([48460, 8])\n",
      "targets.shape=torch.Size([48460, 8])\n",
      "12320\n"
     ]
    },
    {
     "name": "stderr",
     "output_type": "stream",
     "text": [
      " 42%|████▏     | 2122/5000 [46:00<1:04:28,  1.34s/it]"
     ]
    },
    {
     "name": "stdout",
     "output_type": "stream",
     "text": [
      "output.shape=torch.Size([20, 2423, 8])\n",
      "targets.shape=torch.Size([20, 2423, 8])\n",
      "torch.Size([48460]) torch.Size([48460])\n",
      "12099\n",
      "stacked output.shape=torch.Size([48460, 8])\n",
      "targets.shape=torch.Size([48460, 8])\n",
      "12600\n"
     ]
    },
    {
     "name": "stderr",
     "output_type": "stream",
     "text": [
      " 42%|████▎     | 2125/5000 [46:04<1:03:57,  1.33s/it]"
     ]
    },
    {
     "name": "stdout",
     "output_type": "stream",
     "text": [
      "output.shape=torch.Size([20, 2423, 8])\n",
      "targets.shape=torch.Size([20, 2423, 8])\n",
      "torch.Size([48460]) torch.Size([48460])\n",
      "12113\n",
      "stacked output.shape=torch.Size([48460, 8])\n",
      "targets.shape=torch.Size([48460, 8])\n",
      "12560\n"
     ]
    },
    {
     "name": "stderr",
     "output_type": "stream",
     "text": [
      " 43%|████▎     | 2128/5000 [46:08<1:03:37,  1.33s/it]"
     ]
    },
    {
     "name": "stdout",
     "output_type": "stream",
     "text": [
      "output.shape=torch.Size([20, 2423, 8])\n",
      "targets.shape=torch.Size([20, 2423, 8])\n",
      "torch.Size([48460]) torch.Size([48460])\n",
      "12137\n",
      "stacked output.shape=torch.Size([48460, 8])\n",
      "targets.shape=torch.Size([48460, 8])\n",
      "12760\n"
     ]
    },
    {
     "name": "stderr",
     "output_type": "stream",
     "text": [
      " 43%|████▎     | 2131/5000 [46:11<1:03:05,  1.32s/it]"
     ]
    },
    {
     "name": "stdout",
     "output_type": "stream",
     "text": [
      "output.shape=torch.Size([20, 2423, 8])\n",
      "targets.shape=torch.Size([20, 2423, 8])\n",
      "torch.Size([48460]) torch.Size([48460])\n",
      "12137\n",
      "stacked output.shape=torch.Size([48460, 8])\n",
      "targets.shape=torch.Size([48460, 8])\n",
      "12700\n"
     ]
    },
    {
     "name": "stderr",
     "output_type": "stream",
     "text": [
      " 43%|████▎     | 2134/5000 [46:15<1:02:53,  1.32s/it]"
     ]
    },
    {
     "name": "stdout",
     "output_type": "stream",
     "text": [
      "output.shape=torch.Size([20, 2423, 8])\n",
      "targets.shape=torch.Size([20, 2423, 8])\n",
      "torch.Size([48460]) torch.Size([48460])\n",
      "12079\n",
      "stacked output.shape=torch.Size([48460, 8])\n",
      "targets.shape=torch.Size([48460, 8])\n",
      "12140\n"
     ]
    },
    {
     "name": "stderr",
     "output_type": "stream",
     "text": [
      " 43%|████▎     | 2137/5000 [46:19<1:02:56,  1.32s/it]"
     ]
    },
    {
     "name": "stdout",
     "output_type": "stream",
     "text": [
      "output.shape=torch.Size([20, 2423, 8])\n",
      "targets.shape=torch.Size([20, 2423, 8])\n",
      "torch.Size([48460]) torch.Size([48460])\n",
      "12144\n",
      "stacked output.shape=torch.Size([48460, 8])\n",
      "targets.shape=torch.Size([48460, 8])\n",
      "12660\n"
     ]
    },
    {
     "name": "stderr",
     "output_type": "stream",
     "text": [
      " 43%|████▎     | 2140/5000 [46:23<1:02:55,  1.32s/it]"
     ]
    },
    {
     "name": "stdout",
     "output_type": "stream",
     "text": [
      "output.shape=torch.Size([20, 2423, 8])\n",
      "targets.shape=torch.Size([20, 2423, 8])\n",
      "torch.Size([48460]) torch.Size([48460])\n",
      "12071\n",
      "stacked output.shape=torch.Size([48460, 8])\n",
      "targets.shape=torch.Size([48460, 8])\n",
      "12500\n"
     ]
    },
    {
     "name": "stderr",
     "output_type": "stream",
     "text": [
      " 43%|████▎     | 2143/5000 [46:27<1:02:54,  1.32s/it]"
     ]
    },
    {
     "name": "stdout",
     "output_type": "stream",
     "text": [
      "output.shape=torch.Size([20, 2423, 8])\n",
      "targets.shape=torch.Size([20, 2423, 8])\n",
      "torch.Size([48460]) torch.Size([48460])\n",
      "12041\n",
      "stacked output.shape=torch.Size([48460, 8])\n",
      "targets.shape=torch.Size([48460, 8])\n",
      "12520\n"
     ]
    },
    {
     "name": "stderr",
     "output_type": "stream",
     "text": [
      " 43%|████▎     | 2146/5000 [46:31<1:02:17,  1.31s/it]"
     ]
    },
    {
     "name": "stdout",
     "output_type": "stream",
     "text": [
      "output.shape=torch.Size([20, 2423, 8])\n",
      "targets.shape=torch.Size([20, 2423, 8])\n",
      "torch.Size([48460]) torch.Size([48460])\n",
      "12110\n",
      "stacked output.shape=torch.Size([48460, 8])\n",
      "targets.shape=torch.Size([48460, 8])\n",
      "12520\n"
     ]
    },
    {
     "name": "stderr",
     "output_type": "stream",
     "text": [
      " 43%|████▎     | 2149/5000 [46:35<1:02:42,  1.32s/it]"
     ]
    },
    {
     "name": "stdout",
     "output_type": "stream",
     "text": [
      "output.shape=torch.Size([20, 2423, 8])\n",
      "targets.shape=torch.Size([20, 2423, 8])\n",
      "torch.Size([48460]) torch.Size([48460])\n",
      "12113\n",
      "stacked output.shape=torch.Size([48460, 8])\n",
      "targets.shape=torch.Size([48460, 8])\n",
      "12100\n"
     ]
    },
    {
     "name": "stderr",
     "output_type": "stream",
     "text": [
      " 43%|████▎     | 2152/5000 [46:39<1:02:25,  1.32s/it]"
     ]
    },
    {
     "name": "stdout",
     "output_type": "stream",
     "text": [
      "output.shape=torch.Size([20, 2423, 8])\n",
      "targets.shape=torch.Size([20, 2423, 8])\n",
      "torch.Size([48460]) torch.Size([48460])\n",
      "12121\n",
      "stacked output.shape=torch.Size([48460, 8])\n",
      "targets.shape=torch.Size([48460, 8])\n",
      "12380\n"
     ]
    },
    {
     "name": "stderr",
     "output_type": "stream",
     "text": [
      " 43%|████▎     | 2155/5000 [46:42<1:02:24,  1.32s/it]"
     ]
    },
    {
     "name": "stdout",
     "output_type": "stream",
     "text": [
      "output.shape=torch.Size([20, 2423, 8])\n",
      "targets.shape=torch.Size([20, 2423, 8])\n",
      "torch.Size([48460]) torch.Size([48460])\n",
      "12088\n",
      "stacked output.shape=torch.Size([48460, 8])\n",
      "targets.shape=torch.Size([48460, 8])\n",
      "12320\n"
     ]
    },
    {
     "name": "stderr",
     "output_type": "stream",
     "text": [
      " 43%|████▎     | 2158/5000 [46:46<1:02:56,  1.33s/it]"
     ]
    },
    {
     "name": "stdout",
     "output_type": "stream",
     "text": [
      "output.shape=torch.Size([20, 2423, 8])\n",
      "targets.shape=torch.Size([20, 2423, 8])\n",
      "torch.Size([48460]) torch.Size([48460])\n",
      "12081\n",
      "stacked output.shape=torch.Size([48460, 8])\n",
      "targets.shape=torch.Size([48460, 8])\n",
      "12120\n"
     ]
    },
    {
     "name": "stderr",
     "output_type": "stream",
     "text": [
      " 43%|████▎     | 2161/5000 [46:50<1:02:33,  1.32s/it]"
     ]
    },
    {
     "name": "stdout",
     "output_type": "stream",
     "text": [
      "output.shape=torch.Size([20, 2423, 8])\n",
      "targets.shape=torch.Size([20, 2423, 8])\n",
      "torch.Size([48460]) torch.Size([48460])\n",
      "12109\n",
      "stacked output.shape=torch.Size([48460, 8])\n",
      "targets.shape=torch.Size([48460, 8])\n",
      "12580\n"
     ]
    },
    {
     "name": "stderr",
     "output_type": "stream",
     "text": [
      " 43%|████▎     | 2164/5000 [46:54<1:02:39,  1.33s/it]"
     ]
    },
    {
     "name": "stdout",
     "output_type": "stream",
     "text": [
      "output.shape=torch.Size([20, 2423, 8])\n",
      "targets.shape=torch.Size([20, 2423, 8])\n",
      "torch.Size([48460]) torch.Size([48460])\n",
      "12093\n",
      "stacked output.shape=torch.Size([48460, 8])\n",
      "targets.shape=torch.Size([48460, 8])\n",
      "12800\n"
     ]
    },
    {
     "name": "stderr",
     "output_type": "stream",
     "text": [
      " 43%|████▎     | 2167/5000 [46:58<1:02:43,  1.33s/it]"
     ]
    },
    {
     "name": "stdout",
     "output_type": "stream",
     "text": [
      "output.shape=torch.Size([20, 2423, 8])\n",
      "targets.shape=torch.Size([20, 2423, 8])\n",
      "torch.Size([48460]) torch.Size([48460])\n",
      "12066\n",
      "stacked output.shape=torch.Size([48460, 8])\n",
      "targets.shape=torch.Size([48460, 8])\n",
      "12380\n"
     ]
    },
    {
     "name": "stderr",
     "output_type": "stream",
     "text": [
      " 43%|████▎     | 2170/5000 [47:02<1:02:40,  1.33s/it]"
     ]
    },
    {
     "name": "stdout",
     "output_type": "stream",
     "text": [
      "output.shape=torch.Size([20, 2423, 8])\n",
      "targets.shape=torch.Size([20, 2423, 8])\n",
      "torch.Size([48460]) torch.Size([48460])\n",
      "12099\n",
      "stacked output.shape=torch.Size([48460, 8])\n",
      "targets.shape=torch.Size([48460, 8])\n",
      "12680\n"
     ]
    },
    {
     "name": "stderr",
     "output_type": "stream",
     "text": [
      " 43%|████▎     | 2173/5000 [47:06<1:02:32,  1.33s/it]"
     ]
    },
    {
     "name": "stdout",
     "output_type": "stream",
     "text": [
      "output.shape=torch.Size([20, 2423, 8])\n",
      "targets.shape=torch.Size([20, 2423, 8])\n",
      "torch.Size([48460]) torch.Size([48460])\n",
      "12076\n",
      "stacked output.shape=torch.Size([48460, 8])\n",
      "targets.shape=torch.Size([48460, 8])\n",
      "12240\n"
     ]
    },
    {
     "name": "stderr",
     "output_type": "stream",
     "text": [
      " 44%|████▎     | 2176/5000 [47:10<1:02:41,  1.33s/it]"
     ]
    },
    {
     "name": "stdout",
     "output_type": "stream",
     "text": [
      "output.shape=torch.Size([20, 2423, 8])\n",
      "targets.shape=torch.Size([20, 2423, 8])\n",
      "torch.Size([48460]) torch.Size([48460])\n",
      "12098\n",
      "stacked output.shape=torch.Size([48460, 8])\n",
      "targets.shape=torch.Size([48460, 8])\n",
      "12380\n"
     ]
    },
    {
     "name": "stderr",
     "output_type": "stream",
     "text": [
      " 44%|████▎     | 2179/5000 [47:14<1:02:06,  1.32s/it]"
     ]
    },
    {
     "name": "stdout",
     "output_type": "stream",
     "text": [
      "output.shape=torch.Size([20, 2423, 8])\n",
      "targets.shape=torch.Size([20, 2423, 8])\n",
      "torch.Size([48460]) torch.Size([48460])\n",
      "12073\n",
      "stacked output.shape=torch.Size([48460, 8])\n",
      "targets.shape=torch.Size([48460, 8])\n",
      "12600\n"
     ]
    },
    {
     "name": "stderr",
     "output_type": "stream",
     "text": [
      " 44%|████▎     | 2182/5000 [47:17<1:02:03,  1.32s/it]"
     ]
    },
    {
     "name": "stdout",
     "output_type": "stream",
     "text": [
      "output.shape=torch.Size([20, 2423, 8])\n",
      "targets.shape=torch.Size([20, 2423, 8])\n",
      "torch.Size([48460]) torch.Size([48460])\n",
      "12071\n",
      "stacked output.shape=torch.Size([48460, 8])\n",
      "targets.shape=torch.Size([48460, 8])\n",
      "12700\n"
     ]
    },
    {
     "name": "stderr",
     "output_type": "stream",
     "text": [
      " 44%|████▎     | 2185/5000 [47:21<1:02:15,  1.33s/it]"
     ]
    },
    {
     "name": "stdout",
     "output_type": "stream",
     "text": [
      "output.shape=torch.Size([20, 2423, 8])\n",
      "targets.shape=torch.Size([20, 2423, 8])\n",
      "torch.Size([48460]) torch.Size([48460])\n",
      "12076\n",
      "stacked output.shape=torch.Size([48460, 8])\n",
      "targets.shape=torch.Size([48460, 8])\n",
      "12380\n"
     ]
    },
    {
     "name": "stderr",
     "output_type": "stream",
     "text": [
      " 44%|████▍     | 2188/5000 [47:25<1:02:14,  1.33s/it]"
     ]
    },
    {
     "name": "stdout",
     "output_type": "stream",
     "text": [
      "output.shape=torch.Size([20, 2423, 8])\n",
      "targets.shape=torch.Size([20, 2423, 8])\n",
      "torch.Size([48460]) torch.Size([48460])\n",
      "12029\n",
      "stacked output.shape=torch.Size([48460, 8])\n",
      "targets.shape=torch.Size([48460, 8])\n",
      "12500\n"
     ]
    },
    {
     "name": "stderr",
     "output_type": "stream",
     "text": [
      " 44%|████▍     | 2191/5000 [47:29<1:01:35,  1.32s/it]"
     ]
    },
    {
     "name": "stdout",
     "output_type": "stream",
     "text": [
      "output.shape=torch.Size([20, 2423, 8])\n",
      "targets.shape=torch.Size([20, 2423, 8])\n",
      "torch.Size([48460]) torch.Size([48460])\n",
      "12078\n",
      "stacked output.shape=torch.Size([48460, 8])\n",
      "targets.shape=torch.Size([48460, 8])\n",
      "12360\n"
     ]
    },
    {
     "name": "stderr",
     "output_type": "stream",
     "text": [
      " 44%|████▍     | 2194/5000 [47:33<1:01:30,  1.32s/it]"
     ]
    },
    {
     "name": "stdout",
     "output_type": "stream",
     "text": [
      "output.shape=torch.Size([20, 2423, 8])\n",
      "targets.shape=torch.Size([20, 2423, 8])\n",
      "torch.Size([48460]) torch.Size([48460])\n",
      "12108\n",
      "stacked output.shape=torch.Size([48460, 8])\n",
      "targets.shape=torch.Size([48460, 8])\n",
      "12460\n"
     ]
    },
    {
     "name": "stderr",
     "output_type": "stream",
     "text": [
      " 44%|████▍     | 2197/5000 [47:37<1:01:06,  1.31s/it]"
     ]
    },
    {
     "name": "stdout",
     "output_type": "stream",
     "text": [
      "output.shape=torch.Size([20, 2423, 8])\n",
      "targets.shape=torch.Size([20, 2423, 8])\n",
      "torch.Size([48460]) torch.Size([48460])\n",
      "12116\n",
      "stacked output.shape=torch.Size([48460, 8])\n",
      "targets.shape=torch.Size([48460, 8])\n",
      "12540\n"
     ]
    },
    {
     "name": "stderr",
     "output_type": "stream",
     "text": [
      " 44%|████▍     | 2200/5000 [47:41<1:02:18,  1.34s/it]"
     ]
    },
    {
     "name": "stdout",
     "output_type": "stream",
     "text": [
      "output.shape=torch.Size([20, 2423, 8])\n",
      "targets.shape=torch.Size([20, 2423, 8])\n",
      "torch.Size([48460]) torch.Size([48460])\n",
      "12053\n",
      "stacked output.shape=torch.Size([48460, 8])\n",
      "targets.shape=torch.Size([48460, 8])\n",
      "12560\n"
     ]
    },
    {
     "name": "stderr",
     "output_type": "stream",
     "text": [
      " 44%|████▍     | 2203/5000 [47:45<1:02:06,  1.33s/it]"
     ]
    },
    {
     "name": "stdout",
     "output_type": "stream",
     "text": [
      "output.shape=torch.Size([20, 2423, 8])\n",
      "targets.shape=torch.Size([20, 2423, 8])\n",
      "torch.Size([48460]) torch.Size([48460])\n",
      "12085\n",
      "stacked output.shape=torch.Size([48460, 8])\n",
      "targets.shape=torch.Size([48460, 8])\n",
      "12480\n"
     ]
    },
    {
     "name": "stderr",
     "output_type": "stream",
     "text": [
      " 44%|████▍     | 2206/5000 [47:49<1:02:17,  1.34s/it]"
     ]
    },
    {
     "name": "stdout",
     "output_type": "stream",
     "text": [
      "output.shape=torch.Size([20, 2423, 8])\n",
      "targets.shape=torch.Size([20, 2423, 8])\n",
      "torch.Size([48460]) torch.Size([48460])\n",
      "12058\n",
      "stacked output.shape=torch.Size([48460, 8])\n",
      "targets.shape=torch.Size([48460, 8])\n",
      "12500\n"
     ]
    },
    {
     "name": "stderr",
     "output_type": "stream",
     "text": [
      " 44%|████▍     | 2209/5000 [47:52<1:02:00,  1.33s/it]"
     ]
    },
    {
     "name": "stdout",
     "output_type": "stream",
     "text": [
      "output.shape=torch.Size([20, 2423, 8])\n",
      "targets.shape=torch.Size([20, 2423, 8])\n",
      "torch.Size([48460]) torch.Size([48460])\n",
      "11995\n",
      "stacked output.shape=torch.Size([48460, 8])\n",
      "targets.shape=torch.Size([48460, 8])\n",
      "12300\n"
     ]
    },
    {
     "name": "stderr",
     "output_type": "stream",
     "text": [
      " 44%|████▍     | 2212/5000 [47:56<1:01:56,  1.33s/it]"
     ]
    },
    {
     "name": "stdout",
     "output_type": "stream",
     "text": [
      "output.shape=torch.Size([20, 2423, 8])\n",
      "targets.shape=torch.Size([20, 2423, 8])\n",
      "torch.Size([48460]) torch.Size([48460])\n",
      "12046\n",
      "stacked output.shape=torch.Size([48460, 8])\n",
      "targets.shape=torch.Size([48460, 8])\n",
      "12480\n"
     ]
    },
    {
     "name": "stderr",
     "output_type": "stream",
     "text": [
      " 44%|████▍     | 2215/5000 [48:00<1:01:06,  1.32s/it]"
     ]
    },
    {
     "name": "stdout",
     "output_type": "stream",
     "text": [
      "output.shape=torch.Size([20, 2423, 8])\n",
      "targets.shape=torch.Size([20, 2423, 8])\n",
      "torch.Size([48460]) torch.Size([48460])\n",
      "12071\n",
      "stacked output.shape=torch.Size([48460, 8])\n",
      "targets.shape=torch.Size([48460, 8])\n",
      "12480\n"
     ]
    },
    {
     "name": "stderr",
     "output_type": "stream",
     "text": [
      " 44%|████▍     | 2218/5000 [48:04<1:00:49,  1.31s/it]"
     ]
    },
    {
     "name": "stdout",
     "output_type": "stream",
     "text": [
      "output.shape=torch.Size([20, 2423, 8])\n",
      "targets.shape=torch.Size([20, 2423, 8])\n",
      "torch.Size([48460]) torch.Size([48460])\n",
      "12011\n",
      "stacked output.shape=torch.Size([48460, 8])\n",
      "targets.shape=torch.Size([48460, 8])\n",
      "12340\n"
     ]
    },
    {
     "name": "stderr",
     "output_type": "stream",
     "text": [
      " 44%|████▍     | 2221/5000 [48:08<1:00:56,  1.32s/it]"
     ]
    },
    {
     "name": "stdout",
     "output_type": "stream",
     "text": [
      "output.shape=torch.Size([20, 2423, 8])\n",
      "targets.shape=torch.Size([20, 2423, 8])\n",
      "torch.Size([48460]) torch.Size([48460])\n",
      "12033\n",
      "stacked output.shape=torch.Size([48460, 8])\n",
      "targets.shape=torch.Size([48460, 8])\n",
      "12460\n"
     ]
    },
    {
     "name": "stderr",
     "output_type": "stream",
     "text": [
      " 44%|████▍     | 2224/5000 [48:12<1:01:19,  1.33s/it]"
     ]
    },
    {
     "name": "stdout",
     "output_type": "stream",
     "text": [
      "output.shape=torch.Size([20, 2423, 8])\n",
      "targets.shape=torch.Size([20, 2423, 8])\n",
      "torch.Size([48460]) torch.Size([48460])\n",
      "12022\n",
      "stacked output.shape=torch.Size([48460, 8])\n",
      "targets.shape=torch.Size([48460, 8])\n",
      "12420\n"
     ]
    },
    {
     "name": "stderr",
     "output_type": "stream",
     "text": [
      " 45%|████▍     | 2227/5000 [48:16<1:01:35,  1.33s/it]"
     ]
    },
    {
     "name": "stdout",
     "output_type": "stream",
     "text": [
      "output.shape=torch.Size([20, 2423, 8])\n",
      "targets.shape=torch.Size([20, 2423, 8])\n",
      "torch.Size([48460]) torch.Size([48460])\n",
      "12055\n",
      "stacked output.shape=torch.Size([48460, 8])\n",
      "targets.shape=torch.Size([48460, 8])\n",
      "12500\n"
     ]
    },
    {
     "name": "stderr",
     "output_type": "stream",
     "text": [
      " 45%|████▍     | 2230/5000 [48:20<1:02:12,  1.35s/it]"
     ]
    },
    {
     "name": "stdout",
     "output_type": "stream",
     "text": [
      "output.shape=torch.Size([20, 2423, 8])\n",
      "targets.shape=torch.Size([20, 2423, 8])\n",
      "torch.Size([48460]) torch.Size([48460])\n",
      "12083\n",
      "stacked output.shape=torch.Size([48460, 8])\n",
      "targets.shape=torch.Size([48460, 8])\n",
      "12600\n"
     ]
    },
    {
     "name": "stderr",
     "output_type": "stream",
     "text": [
      " 45%|████▍     | 2233/5000 [48:24<1:02:41,  1.36s/it]"
     ]
    },
    {
     "name": "stdout",
     "output_type": "stream",
     "text": [
      "output.shape=torch.Size([20, 2423, 8])\n",
      "targets.shape=torch.Size([20, 2423, 8])\n",
      "torch.Size([48460]) torch.Size([48460])\n",
      "12067\n",
      "stacked output.shape=torch.Size([48460, 8])\n",
      "targets.shape=torch.Size([48460, 8])\n",
      "12660\n"
     ]
    },
    {
     "name": "stderr",
     "output_type": "stream",
     "text": [
      " 45%|████▍     | 2236/5000 [48:28<1:02:18,  1.35s/it]"
     ]
    },
    {
     "name": "stdout",
     "output_type": "stream",
     "text": [
      "output.shape=torch.Size([20, 2423, 8])\n",
      "targets.shape=torch.Size([20, 2423, 8])\n",
      "torch.Size([48460]) torch.Size([48460])\n",
      "12019\n",
      "stacked output.shape=torch.Size([48460, 8])\n",
      "targets.shape=torch.Size([48460, 8])\n",
      "12440\n"
     ]
    },
    {
     "name": "stderr",
     "output_type": "stream",
     "text": [
      " 45%|████▍     | 2239/5000 [48:32<1:02:40,  1.36s/it]"
     ]
    },
    {
     "name": "stdout",
     "output_type": "stream",
     "text": [
      "output.shape=torch.Size([20, 2423, 8])\n",
      "targets.shape=torch.Size([20, 2423, 8])\n",
      "torch.Size([48460]) torch.Size([48460])\n",
      "12060\n",
      "stacked output.shape=torch.Size([48460, 8])\n",
      "targets.shape=torch.Size([48460, 8])\n",
      "12420\n"
     ]
    },
    {
     "name": "stderr",
     "output_type": "stream",
     "text": [
      " 45%|████▍     | 2242/5000 [48:36<1:01:43,  1.34s/it]"
     ]
    },
    {
     "name": "stdout",
     "output_type": "stream",
     "text": [
      "output.shape=torch.Size([20, 2423, 8])\n",
      "targets.shape=torch.Size([20, 2423, 8])\n",
      "torch.Size([48460]) torch.Size([48460])\n",
      "12105\n",
      "stacked output.shape=torch.Size([48460, 8])\n",
      "targets.shape=torch.Size([48460, 8])\n",
      "12520\n"
     ]
    },
    {
     "name": "stderr",
     "output_type": "stream",
     "text": [
      " 45%|████▍     | 2245/5000 [48:39<1:01:45,  1.35s/it]"
     ]
    },
    {
     "name": "stdout",
     "output_type": "stream",
     "text": [
      "output.shape=torch.Size([20, 2423, 8])\n",
      "targets.shape=torch.Size([20, 2423, 8])\n",
      "torch.Size([48460]) torch.Size([48460])\n",
      "12047\n",
      "stacked output.shape=torch.Size([48460, 8])\n",
      "targets.shape=torch.Size([48460, 8])\n",
      "12360\n"
     ]
    },
    {
     "name": "stderr",
     "output_type": "stream",
     "text": [
      " 45%|████▍     | 2248/5000 [48:43<1:02:12,  1.36s/it]"
     ]
    },
    {
     "name": "stdout",
     "output_type": "stream",
     "text": [
      "output.shape=torch.Size([20, 2423, 8])\n",
      "targets.shape=torch.Size([20, 2423, 8])\n",
      "torch.Size([48460]) torch.Size([48460])\n",
      "12083\n",
      "stacked output.shape=torch.Size([48460, 8])\n",
      "targets.shape=torch.Size([48460, 8])\n",
      "12460\n"
     ]
    },
    {
     "name": "stderr",
     "output_type": "stream",
     "text": [
      " 45%|████▌     | 2251/5000 [48:47<1:00:57,  1.33s/it]"
     ]
    },
    {
     "name": "stdout",
     "output_type": "stream",
     "text": [
      "output.shape=torch.Size([20, 2423, 8])\n",
      "targets.shape=torch.Size([20, 2423, 8])\n",
      "torch.Size([48460]) torch.Size([48460])\n",
      "12066\n",
      "stacked output.shape=torch.Size([48460, 8])\n",
      "targets.shape=torch.Size([48460, 8])\n",
      "12500\n"
     ]
    },
    {
     "name": "stderr",
     "output_type": "stream",
     "text": [
      " 45%|████▌     | 2254/5000 [48:51<1:00:50,  1.33s/it]"
     ]
    },
    {
     "name": "stdout",
     "output_type": "stream",
     "text": [
      "output.shape=torch.Size([20, 2423, 8])\n",
      "targets.shape=torch.Size([20, 2423, 8])\n",
      "torch.Size([48460]) torch.Size([48460])\n",
      "12080\n",
      "stacked output.shape=torch.Size([48460, 8])\n",
      "targets.shape=torch.Size([48460, 8])\n",
      "12500\n"
     ]
    },
    {
     "name": "stderr",
     "output_type": "stream",
     "text": [
      " 45%|████▌     | 2257/5000 [48:55<1:00:42,  1.33s/it]"
     ]
    },
    {
     "name": "stdout",
     "output_type": "stream",
     "text": [
      "output.shape=torch.Size([20, 2423, 8])\n",
      "targets.shape=torch.Size([20, 2423, 8])\n",
      "torch.Size([48460]) torch.Size([48460])\n",
      "12122\n",
      "stacked output.shape=torch.Size([48460, 8])\n",
      "targets.shape=torch.Size([48460, 8])\n",
      "12760\n"
     ]
    },
    {
     "name": "stderr",
     "output_type": "stream",
     "text": [
      " 45%|████▌     | 2260/5000 [48:59<1:01:05,  1.34s/it]"
     ]
    },
    {
     "name": "stdout",
     "output_type": "stream",
     "text": [
      "output.shape=torch.Size([20, 2423, 8])\n",
      "targets.shape=torch.Size([20, 2423, 8])\n",
      "torch.Size([48460]) torch.Size([48460])\n",
      "12095\n",
      "stacked output.shape=torch.Size([48460, 8])\n",
      "targets.shape=torch.Size([48460, 8])\n",
      "12540\n"
     ]
    },
    {
     "name": "stderr",
     "output_type": "stream",
     "text": [
      " 45%|████▌     | 2263/5000 [49:03<1:00:53,  1.33s/it]"
     ]
    },
    {
     "name": "stdout",
     "output_type": "stream",
     "text": [
      "output.shape=torch.Size([20, 2423, 8])\n",
      "targets.shape=torch.Size([20, 2423, 8])\n",
      "torch.Size([48460]) torch.Size([48460])\n",
      "12036\n",
      "stacked output.shape=torch.Size([48460, 8])\n",
      "targets.shape=torch.Size([48460, 8])\n",
      "12400\n"
     ]
    },
    {
     "name": "stderr",
     "output_type": "stream",
     "text": [
      " 45%|████▌     | 2266/5000 [49:07<1:00:30,  1.33s/it]"
     ]
    },
    {
     "name": "stdout",
     "output_type": "stream",
     "text": [
      "output.shape=torch.Size([20, 2423, 8])\n",
      "targets.shape=torch.Size([20, 2423, 8])\n",
      "torch.Size([48460]) torch.Size([48460])\n",
      "11969\n",
      "stacked output.shape=torch.Size([48460, 8])\n",
      "targets.shape=torch.Size([48460, 8])\n",
      "12420\n"
     ]
    },
    {
     "name": "stderr",
     "output_type": "stream",
     "text": [
      " 45%|████▌     | 2269/5000 [49:11<1:00:28,  1.33s/it]"
     ]
    },
    {
     "name": "stdout",
     "output_type": "stream",
     "text": [
      "output.shape=torch.Size([20, 2423, 8])\n",
      "targets.shape=torch.Size([20, 2423, 8])\n",
      "torch.Size([48460]) torch.Size([48460])\n",
      "12030\n",
      "stacked output.shape=torch.Size([48460, 8])\n",
      "targets.shape=torch.Size([48460, 8])\n",
      "12560\n"
     ]
    },
    {
     "name": "stderr",
     "output_type": "stream",
     "text": [
      " 45%|████▌     | 2272/5000 [49:15<1:00:04,  1.32s/it]"
     ]
    },
    {
     "name": "stdout",
     "output_type": "stream",
     "text": [
      "output.shape=torch.Size([20, 2423, 8])\n",
      "targets.shape=torch.Size([20, 2423, 8])\n",
      "torch.Size([48460]) torch.Size([48460])\n",
      "12051\n",
      "stacked output.shape=torch.Size([48460, 8])\n",
      "targets.shape=torch.Size([48460, 8])\n",
      "12220\n"
     ]
    },
    {
     "name": "stderr",
     "output_type": "stream",
     "text": [
      " 46%|████▌     | 2275/5000 [49:19<59:56,  1.32s/it]  "
     ]
    },
    {
     "name": "stdout",
     "output_type": "stream",
     "text": [
      "output.shape=torch.Size([20, 2423, 8])\n",
      "targets.shape=torch.Size([20, 2423, 8])\n",
      "torch.Size([48460]) torch.Size([48460])\n",
      "12084\n",
      "stacked output.shape=torch.Size([48460, 8])\n",
      "targets.shape=torch.Size([48460, 8])\n",
      "12320\n"
     ]
    },
    {
     "name": "stderr",
     "output_type": "stream",
     "text": [
      " 46%|████▌     | 2278/5000 [49:22<59:41,  1.32s/it]"
     ]
    },
    {
     "name": "stdout",
     "output_type": "stream",
     "text": [
      "output.shape=torch.Size([20, 2423, 8])\n",
      "targets.shape=torch.Size([20, 2423, 8])\n",
      "torch.Size([48460]) torch.Size([48460])\n",
      "12054\n",
      "stacked output.shape=torch.Size([48460, 8])\n",
      "targets.shape=torch.Size([48460, 8])\n",
      "12420\n"
     ]
    },
    {
     "name": "stderr",
     "output_type": "stream",
     "text": [
      " 46%|████▌     | 2281/5000 [49:26<59:49,  1.32s/it]"
     ]
    },
    {
     "name": "stdout",
     "output_type": "stream",
     "text": [
      "output.shape=torch.Size([20, 2423, 8])\n",
      "targets.shape=torch.Size([20, 2423, 8])\n",
      "torch.Size([48460]) torch.Size([48460])\n",
      "11977\n",
      "stacked output.shape=torch.Size([48460, 8])\n",
      "targets.shape=torch.Size([48460, 8])\n",
      "12320\n"
     ]
    },
    {
     "name": "stderr",
     "output_type": "stream",
     "text": [
      " 46%|████▌     | 2284/5000 [49:30<59:25,  1.31s/it]"
     ]
    },
    {
     "name": "stdout",
     "output_type": "stream",
     "text": [
      "output.shape=torch.Size([20, 2423, 8])\n",
      "targets.shape=torch.Size([20, 2423, 8])\n",
      "torch.Size([48460]) torch.Size([48460])\n",
      "12105\n",
      "stacked output.shape=torch.Size([48460, 8])\n",
      "targets.shape=torch.Size([48460, 8])\n",
      "12440\n"
     ]
    },
    {
     "name": "stderr",
     "output_type": "stream",
     "text": [
      " 46%|████▌     | 2287/5000 [49:34<59:38,  1.32s/it]"
     ]
    },
    {
     "name": "stdout",
     "output_type": "stream",
     "text": [
      "output.shape=torch.Size([20, 2423, 8])\n",
      "targets.shape=torch.Size([20, 2423, 8])\n",
      "torch.Size([48460]) torch.Size([48460])\n",
      "12019\n",
      "stacked output.shape=torch.Size([48460, 8])\n",
      "targets.shape=torch.Size([48460, 8])\n",
      "12580\n"
     ]
    },
    {
     "name": "stderr",
     "output_type": "stream",
     "text": [
      " 46%|████▌     | 2290/5000 [49:38<59:58,  1.33s/it]"
     ]
    },
    {
     "name": "stdout",
     "output_type": "stream",
     "text": [
      "output.shape=torch.Size([20, 2423, 8])\n",
      "targets.shape=torch.Size([20, 2423, 8])\n",
      "torch.Size([48460]) torch.Size([48460])\n",
      "12062\n",
      "stacked output.shape=torch.Size([48460, 8])\n",
      "targets.shape=torch.Size([48460, 8])\n",
      "12460\n"
     ]
    },
    {
     "name": "stderr",
     "output_type": "stream",
     "text": [
      " 46%|████▌     | 2293/5000 [49:42<59:41,  1.32s/it]"
     ]
    },
    {
     "name": "stdout",
     "output_type": "stream",
     "text": [
      "output.shape=torch.Size([20, 2423, 8])\n",
      "targets.shape=torch.Size([20, 2423, 8])\n",
      "torch.Size([48460]) torch.Size([48460])\n",
      "12109\n",
      "stacked output.shape=torch.Size([48460, 8])\n",
      "targets.shape=torch.Size([48460, 8])\n",
      "12360\n"
     ]
    },
    {
     "name": "stderr",
     "output_type": "stream",
     "text": [
      " 46%|████▌     | 2296/5000 [49:46<1:00:02,  1.33s/it]"
     ]
    },
    {
     "name": "stdout",
     "output_type": "stream",
     "text": [
      "output.shape=torch.Size([20, 2423, 8])\n",
      "targets.shape=torch.Size([20, 2423, 8])\n",
      "torch.Size([48460]) torch.Size([48460])\n",
      "12036\n",
      "stacked output.shape=torch.Size([48460, 8])\n",
      "targets.shape=torch.Size([48460, 8])\n",
      "12780\n"
     ]
    },
    {
     "name": "stderr",
     "output_type": "stream",
     "text": [
      " 46%|████▌     | 2299/5000 [49:50<59:09,  1.31s/it]  "
     ]
    },
    {
     "name": "stdout",
     "output_type": "stream",
     "text": [
      "output.shape=torch.Size([20, 2423, 8])\n",
      "targets.shape=torch.Size([20, 2423, 8])\n",
      "torch.Size([48460]) torch.Size([48460])\n",
      "12102\n",
      "stacked output.shape=torch.Size([48460, 8])\n",
      "targets.shape=torch.Size([48460, 8])\n",
      "12720\n"
     ]
    },
    {
     "name": "stderr",
     "output_type": "stream",
     "text": [
      " 46%|████▌     | 2302/5000 [49:53<59:10,  1.32s/it]"
     ]
    },
    {
     "name": "stdout",
     "output_type": "stream",
     "text": [
      "output.shape=torch.Size([20, 2423, 8])\n",
      "targets.shape=torch.Size([20, 2423, 8])\n",
      "torch.Size([48460]) torch.Size([48460])\n",
      "12074\n",
      "stacked output.shape=torch.Size([48460, 8])\n",
      "targets.shape=torch.Size([48460, 8])\n",
      "12380\n"
     ]
    },
    {
     "name": "stderr",
     "output_type": "stream",
     "text": [
      " 46%|████▌     | 2305/5000 [49:57<59:11,  1.32s/it]"
     ]
    },
    {
     "name": "stdout",
     "output_type": "stream",
     "text": [
      "output.shape=torch.Size([20, 2423, 8])\n",
      "targets.shape=torch.Size([20, 2423, 8])\n",
      "torch.Size([48460]) torch.Size([48460])\n",
      "12070\n",
      "stacked output.shape=torch.Size([48460, 8])\n",
      "targets.shape=torch.Size([48460, 8])\n",
      "12500\n"
     ]
    },
    {
     "name": "stderr",
     "output_type": "stream",
     "text": [
      " 46%|████▌     | 2308/5000 [50:01<59:40,  1.33s/it]"
     ]
    },
    {
     "name": "stdout",
     "output_type": "stream",
     "text": [
      "output.shape=torch.Size([20, 2423, 8])\n",
      "targets.shape=torch.Size([20, 2423, 8])\n",
      "torch.Size([48460]) torch.Size([48460])\n",
      "12079\n",
      "stacked output.shape=torch.Size([48460, 8])\n",
      "targets.shape=torch.Size([48460, 8])\n",
      "12840\n"
     ]
    },
    {
     "name": "stderr",
     "output_type": "stream",
     "text": [
      " 46%|████▌     | 2311/5000 [50:05<59:06,  1.32s/it]"
     ]
    },
    {
     "name": "stdout",
     "output_type": "stream",
     "text": [
      "output.shape=torch.Size([20, 2423, 8])\n",
      "targets.shape=torch.Size([20, 2423, 8])\n",
      "torch.Size([48460]) torch.Size([48460])\n",
      "12041\n",
      "stacked output.shape=torch.Size([48460, 8])\n",
      "targets.shape=torch.Size([48460, 8])\n",
      "12720\n"
     ]
    },
    {
     "name": "stderr",
     "output_type": "stream",
     "text": [
      " 46%|████▋     | 2314/5000 [50:09<59:05,  1.32s/it]"
     ]
    },
    {
     "name": "stdout",
     "output_type": "stream",
     "text": [
      "output.shape=torch.Size([20, 2423, 8])\n",
      "targets.shape=torch.Size([20, 2423, 8])\n",
      "torch.Size([48460]) torch.Size([48460])\n",
      "12029\n",
      "stacked output.shape=torch.Size([48460, 8])\n",
      "targets.shape=torch.Size([48460, 8])\n",
      "12660\n"
     ]
    },
    {
     "name": "stderr",
     "output_type": "stream",
     "text": [
      " 46%|████▋     | 2317/5000 [50:13<59:24,  1.33s/it]"
     ]
    },
    {
     "name": "stdout",
     "output_type": "stream",
     "text": [
      "output.shape=torch.Size([20, 2423, 8])\n",
      "targets.shape=torch.Size([20, 2423, 8])\n",
      "torch.Size([48460]) torch.Size([48460])\n",
      "12063\n",
      "stacked output.shape=torch.Size([48460, 8])\n",
      "targets.shape=torch.Size([48460, 8])\n",
      "12640\n"
     ]
    },
    {
     "name": "stderr",
     "output_type": "stream",
     "text": [
      " 46%|████▋     | 2320/5000 [50:17<59:13,  1.33s/it]"
     ]
    },
    {
     "name": "stdout",
     "output_type": "stream",
     "text": [
      "output.shape=torch.Size([20, 2423, 8])\n",
      "targets.shape=torch.Size([20, 2423, 8])\n",
      "torch.Size([48460]) torch.Size([48460])\n",
      "12078\n",
      "stacked output.shape=torch.Size([48460, 8])\n",
      "targets.shape=torch.Size([48460, 8])\n",
      "12520\n"
     ]
    },
    {
     "name": "stderr",
     "output_type": "stream",
     "text": [
      " 46%|████▋     | 2323/5000 [50:21<58:58,  1.32s/it]"
     ]
    },
    {
     "name": "stdout",
     "output_type": "stream",
     "text": [
      "output.shape=torch.Size([20, 2423, 8])\n",
      "targets.shape=torch.Size([20, 2423, 8])\n",
      "torch.Size([48460]) torch.Size([48460])\n",
      "12025\n",
      "stacked output.shape=torch.Size([48460, 8])\n",
      "targets.shape=torch.Size([48460, 8])\n",
      "12340\n"
     ]
    },
    {
     "name": "stderr",
     "output_type": "stream",
     "text": [
      " 47%|████▋     | 2326/5000 [50:25<59:04,  1.33s/it]"
     ]
    },
    {
     "name": "stdout",
     "output_type": "stream",
     "text": [
      "output.shape=torch.Size([20, 2423, 8])\n",
      "targets.shape=torch.Size([20, 2423, 8])\n",
      "torch.Size([48460]) torch.Size([48460])\n",
      "12057\n",
      "stacked output.shape=torch.Size([48460, 8])\n",
      "targets.shape=torch.Size([48460, 8])\n",
      "12280\n"
     ]
    },
    {
     "name": "stderr",
     "output_type": "stream",
     "text": [
      " 47%|████▋     | 2329/5000 [50:29<1:00:03,  1.35s/it]"
     ]
    },
    {
     "name": "stdout",
     "output_type": "stream",
     "text": [
      "output.shape=torch.Size([20, 2423, 8])\n",
      "targets.shape=torch.Size([20, 2423, 8])\n",
      "torch.Size([48460]) torch.Size([48460])\n",
      "12054\n",
      "stacked output.shape=torch.Size([48460, 8])\n",
      "targets.shape=torch.Size([48460, 8])\n",
      "12600\n"
     ]
    },
    {
     "name": "stderr",
     "output_type": "stream",
     "text": [
      " 47%|████▋     | 2332/5000 [50:33<1:00:14,  1.35s/it]"
     ]
    },
    {
     "name": "stdout",
     "output_type": "stream",
     "text": [
      "output.shape=torch.Size([20, 2423, 8])\n",
      "targets.shape=torch.Size([20, 2423, 8])\n",
      "torch.Size([48460]) torch.Size([48460])\n",
      "12066\n",
      "stacked output.shape=torch.Size([48460, 8])\n",
      "targets.shape=torch.Size([48460, 8])\n",
      "12400\n"
     ]
    },
    {
     "name": "stderr",
     "output_type": "stream",
     "text": [
      " 47%|████▋     | 2335/5000 [50:36<59:06,  1.33s/it]  "
     ]
    },
    {
     "name": "stdout",
     "output_type": "stream",
     "text": [
      "output.shape=torch.Size([20, 2423, 8])\n",
      "targets.shape=torch.Size([20, 2423, 8])\n",
      "torch.Size([48460]) torch.Size([48460])\n",
      "12035\n",
      "stacked output.shape=torch.Size([48460, 8])\n",
      "targets.shape=torch.Size([48460, 8])\n",
      "12440\n"
     ]
    },
    {
     "name": "stderr",
     "output_type": "stream",
     "text": [
      " 47%|████▋     | 2338/5000 [50:40<58:27,  1.32s/it]"
     ]
    },
    {
     "name": "stdout",
     "output_type": "stream",
     "text": [
      "output.shape=torch.Size([20, 2423, 8])\n",
      "targets.shape=torch.Size([20, 2423, 8])\n",
      "torch.Size([48460]) torch.Size([48460])\n",
      "12035\n",
      "stacked output.shape=torch.Size([48460, 8])\n",
      "targets.shape=torch.Size([48460, 8])\n",
      "12400\n"
     ]
    },
    {
     "name": "stderr",
     "output_type": "stream",
     "text": [
      " 47%|████▋     | 2341/5000 [50:44<59:39,  1.35s/it]"
     ]
    },
    {
     "name": "stdout",
     "output_type": "stream",
     "text": [
      "output.shape=torch.Size([20, 2423, 8])\n",
      "targets.shape=torch.Size([20, 2423, 8])\n",
      "torch.Size([48460]) torch.Size([48460])\n",
      "12082\n",
      "stacked output.shape=torch.Size([48460, 8])\n",
      "targets.shape=torch.Size([48460, 8])\n",
      "12480\n"
     ]
    },
    {
     "name": "stderr",
     "output_type": "stream",
     "text": [
      " 47%|████▋     | 2344/5000 [50:48<59:16,  1.34s/it]"
     ]
    },
    {
     "name": "stdout",
     "output_type": "stream",
     "text": [
      "output.shape=torch.Size([20, 2423, 8])\n",
      "targets.shape=torch.Size([20, 2423, 8])\n",
      "torch.Size([48460]) torch.Size([48460])\n",
      "12073\n",
      "stacked output.shape=torch.Size([48460, 8])\n",
      "targets.shape=torch.Size([48460, 8])\n",
      "12580\n"
     ]
    },
    {
     "name": "stderr",
     "output_type": "stream",
     "text": [
      " 47%|████▋     | 2347/5000 [50:52<58:52,  1.33s/it]"
     ]
    },
    {
     "name": "stdout",
     "output_type": "stream",
     "text": [
      "output.shape=torch.Size([20, 2423, 8])\n",
      "targets.shape=torch.Size([20, 2423, 8])\n",
      "torch.Size([48460]) torch.Size([48460])\n",
      "12052\n",
      "stacked output.shape=torch.Size([48460, 8])\n",
      "targets.shape=torch.Size([48460, 8])\n",
      "12520\n"
     ]
    },
    {
     "name": "stderr",
     "output_type": "stream",
     "text": [
      " 47%|████▋     | 2350/5000 [50:56<58:58,  1.34s/it]"
     ]
    },
    {
     "name": "stdout",
     "output_type": "stream",
     "text": [
      "output.shape=torch.Size([20, 2423, 8])\n",
      "targets.shape=torch.Size([20, 2423, 8])\n",
      "torch.Size([48460]) torch.Size([48460])\n",
      "12015\n",
      "stacked output.shape=torch.Size([48460, 8])\n",
      "targets.shape=torch.Size([48460, 8])\n",
      "12620\n"
     ]
    },
    {
     "name": "stderr",
     "output_type": "stream",
     "text": [
      " 47%|████▋     | 2353/5000 [51:00<59:04,  1.34s/it]"
     ]
    },
    {
     "name": "stdout",
     "output_type": "stream",
     "text": [
      "output.shape=torch.Size([20, 2423, 8])\n",
      "targets.shape=torch.Size([20, 2423, 8])\n",
      "torch.Size([48460]) torch.Size([48460])\n",
      "12082\n",
      "stacked output.shape=torch.Size([48460, 8])\n",
      "targets.shape=torch.Size([48460, 8])\n",
      "12540\n"
     ]
    },
    {
     "name": "stderr",
     "output_type": "stream",
     "text": [
      " 47%|████▋     | 2356/5000 [51:04<1:01:28,  1.39s/it]"
     ]
    },
    {
     "name": "stdout",
     "output_type": "stream",
     "text": [
      "output.shape=torch.Size([20, 2423, 8])\n",
      "targets.shape=torch.Size([20, 2423, 8])\n",
      "torch.Size([48460]) torch.Size([48460])\n",
      "12034\n",
      "stacked output.shape=torch.Size([48460, 8])\n",
      "targets.shape=torch.Size([48460, 8])\n",
      "12580\n"
     ]
    },
    {
     "name": "stderr",
     "output_type": "stream",
     "text": [
      " 47%|████▋     | 2359/5000 [51:08<59:17,  1.35s/it]  "
     ]
    },
    {
     "name": "stdout",
     "output_type": "stream",
     "text": [
      "output.shape=torch.Size([20, 2423, 8])\n",
      "targets.shape=torch.Size([20, 2423, 8])\n",
      "torch.Size([48460]) torch.Size([48460])\n",
      "12064\n",
      "stacked output.shape=torch.Size([48460, 8])\n",
      "targets.shape=torch.Size([48460, 8])\n",
      "12560\n"
     ]
    },
    {
     "name": "stderr",
     "output_type": "stream",
     "text": [
      " 47%|████▋     | 2362/5000 [51:12<1:00:09,  1.37s/it]"
     ]
    },
    {
     "name": "stdout",
     "output_type": "stream",
     "text": [
      "output.shape=torch.Size([20, 2423, 8])\n",
      "targets.shape=torch.Size([20, 2423, 8])\n",
      "torch.Size([48460]) torch.Size([48460])\n",
      "12093\n",
      "stacked output.shape=torch.Size([48460, 8])\n",
      "targets.shape=torch.Size([48460, 8])\n",
      "12600\n"
     ]
    },
    {
     "name": "stderr",
     "output_type": "stream",
     "text": [
      " 47%|████▋     | 2365/5000 [51:16<1:01:07,  1.39s/it]"
     ]
    },
    {
     "name": "stdout",
     "output_type": "stream",
     "text": [
      "output.shape=torch.Size([20, 2423, 8])\n",
      "targets.shape=torch.Size([20, 2423, 8])\n",
      "torch.Size([48460]) torch.Size([48460])\n",
      "12074\n",
      "stacked output.shape=torch.Size([48460, 8])\n",
      "targets.shape=torch.Size([48460, 8])\n",
      "12700\n"
     ]
    },
    {
     "name": "stderr",
     "output_type": "stream",
     "text": [
      " 47%|████▋     | 2368/5000 [51:20<1:00:00,  1.37s/it]"
     ]
    },
    {
     "name": "stdout",
     "output_type": "stream",
     "text": [
      "output.shape=torch.Size([20, 2423, 8])\n",
      "targets.shape=torch.Size([20, 2423, 8])\n",
      "torch.Size([48460]) torch.Size([48460])\n",
      "12061\n",
      "stacked output.shape=torch.Size([48460, 8])\n",
      "targets.shape=torch.Size([48460, 8])\n",
      "12500\n"
     ]
    },
    {
     "name": "stderr",
     "output_type": "stream",
     "text": [
      " 47%|████▋     | 2371/5000 [51:24<59:34,  1.36s/it]  "
     ]
    },
    {
     "name": "stdout",
     "output_type": "stream",
     "text": [
      "output.shape=torch.Size([20, 2423, 8])\n",
      "targets.shape=torch.Size([20, 2423, 8])\n",
      "torch.Size([48460]) torch.Size([48460])\n",
      "12027\n",
      "stacked output.shape=torch.Size([48460, 8])\n",
      "targets.shape=torch.Size([48460, 8])\n",
      "12520\n"
     ]
    },
    {
     "name": "stderr",
     "output_type": "stream",
     "text": [
      " 47%|████▋     | 2374/5000 [51:28<59:13,  1.35s/it]"
     ]
    },
    {
     "name": "stdout",
     "output_type": "stream",
     "text": [
      "output.shape=torch.Size([20, 2423, 8])\n",
      "targets.shape=torch.Size([20, 2423, 8])\n",
      "torch.Size([48460]) torch.Size([48460])\n",
      "12008\n",
      "stacked output.shape=torch.Size([48460, 8])\n",
      "targets.shape=torch.Size([48460, 8])\n",
      "12400\n"
     ]
    },
    {
     "name": "stderr",
     "output_type": "stream",
     "text": [
      " 48%|████▊     | 2377/5000 [51:32<58:33,  1.34s/it]"
     ]
    },
    {
     "name": "stdout",
     "output_type": "stream",
     "text": [
      "output.shape=torch.Size([20, 2423, 8])\n",
      "targets.shape=torch.Size([20, 2423, 8])\n",
      "torch.Size([48460]) torch.Size([48460])\n",
      "12061\n",
      "stacked output.shape=torch.Size([48460, 8])\n",
      "targets.shape=torch.Size([48460, 8])\n",
      "12560\n"
     ]
    },
    {
     "name": "stderr",
     "output_type": "stream",
     "text": [
      " 48%|████▊     | 2380/5000 [51:36<57:51,  1.32s/it]"
     ]
    },
    {
     "name": "stdout",
     "output_type": "stream",
     "text": [
      "output.shape=torch.Size([20, 2423, 8])\n",
      "targets.shape=torch.Size([20, 2423, 8])\n",
      "torch.Size([48460]) torch.Size([48460])\n",
      "12091\n",
      "stacked output.shape=torch.Size([48460, 8])\n",
      "targets.shape=torch.Size([48460, 8])\n",
      "12660\n"
     ]
    },
    {
     "name": "stderr",
     "output_type": "stream",
     "text": [
      " 48%|████▊     | 2383/5000 [51:40<58:05,  1.33s/it]"
     ]
    },
    {
     "name": "stdout",
     "output_type": "stream",
     "text": [
      "output.shape=torch.Size([20, 2423, 8])\n",
      "targets.shape=torch.Size([20, 2423, 8])\n",
      "torch.Size([48460]) torch.Size([48460])\n",
      "12006\n",
      "stacked output.shape=torch.Size([48460, 8])\n",
      "targets.shape=torch.Size([48460, 8])\n",
      "12640\n"
     ]
    },
    {
     "name": "stderr",
     "output_type": "stream",
     "text": [
      " 48%|████▊     | 2386/5000 [51:44<59:51,  1.37s/it]"
     ]
    },
    {
     "name": "stdout",
     "output_type": "stream",
     "text": [
      "output.shape=torch.Size([20, 2423, 8])\n",
      "targets.shape=torch.Size([20, 2423, 8])\n",
      "torch.Size([48460]) torch.Size([48460])\n",
      "12009\n",
      "stacked output.shape=torch.Size([48460, 8])\n",
      "targets.shape=torch.Size([48460, 8])\n",
      "12720\n"
     ]
    },
    {
     "name": "stderr",
     "output_type": "stream",
     "text": [
      " 48%|████▊     | 2389/5000 [51:48<58:39,  1.35s/it]"
     ]
    },
    {
     "name": "stdout",
     "output_type": "stream",
     "text": [
      "output.shape=torch.Size([20, 2423, 8])\n",
      "targets.shape=torch.Size([20, 2423, 8])\n",
      "torch.Size([48460]) torch.Size([48460])\n",
      "12040\n",
      "stacked output.shape=torch.Size([48460, 8])\n",
      "targets.shape=torch.Size([48460, 8])\n",
      "12720\n"
     ]
    },
    {
     "name": "stderr",
     "output_type": "stream",
     "text": [
      " 48%|████▊     | 2392/5000 [51:52<59:36,  1.37s/it]"
     ]
    },
    {
     "name": "stdout",
     "output_type": "stream",
     "text": [
      "output.shape=torch.Size([20, 2423, 8])\n",
      "targets.shape=torch.Size([20, 2423, 8])\n",
      "torch.Size([48460]) torch.Size([48460])\n",
      "12032\n",
      "stacked output.shape=torch.Size([48460, 8])\n",
      "targets.shape=torch.Size([48460, 8])\n",
      "12640\n"
     ]
    },
    {
     "name": "stderr",
     "output_type": "stream",
     "text": [
      " 48%|████▊     | 2395/5000 [51:56<1:00:23,  1.39s/it]"
     ]
    },
    {
     "name": "stdout",
     "output_type": "stream",
     "text": [
      "output.shape=torch.Size([20, 2423, 8])\n",
      "targets.shape=torch.Size([20, 2423, 8])\n",
      "torch.Size([48460]) torch.Size([48460])\n",
      "12042\n",
      "stacked output.shape=torch.Size([48460, 8])\n",
      "targets.shape=torch.Size([48460, 8])\n",
      "12620\n"
     ]
    },
    {
     "name": "stderr",
     "output_type": "stream",
     "text": [
      " 48%|████▊     | 2398/5000 [52:00<59:07,  1.36s/it]  "
     ]
    },
    {
     "name": "stdout",
     "output_type": "stream",
     "text": [
      "output.shape=torch.Size([20, 2423, 8])\n",
      "targets.shape=torch.Size([20, 2423, 8])\n",
      "torch.Size([48460]) torch.Size([48460])\n",
      "12082\n",
      "stacked output.shape=torch.Size([48460, 8])\n",
      "targets.shape=torch.Size([48460, 8])\n",
      "12580\n"
     ]
    },
    {
     "name": "stderr",
     "output_type": "stream",
     "text": [
      " 48%|████▊     | 2401/5000 [52:04<57:50,  1.34s/it]"
     ]
    },
    {
     "name": "stdout",
     "output_type": "stream",
     "text": [
      "output.shape=torch.Size([20, 2423, 8])\n",
      "targets.shape=torch.Size([20, 2423, 8])\n",
      "torch.Size([48460]) torch.Size([48460])\n",
      "12078\n",
      "stacked output.shape=torch.Size([48460, 8])\n",
      "targets.shape=torch.Size([48460, 8])\n",
      "12420\n"
     ]
    },
    {
     "name": "stderr",
     "output_type": "stream",
     "text": [
      " 48%|████▊     | 2404/5000 [52:07<56:20,  1.30s/it]"
     ]
    },
    {
     "name": "stdout",
     "output_type": "stream",
     "text": [
      "output.shape=torch.Size([20, 2423, 8])\n",
      "targets.shape=torch.Size([20, 2423, 8])\n",
      "torch.Size([48460]) torch.Size([48460])\n",
      "12106\n",
      "stacked output.shape=torch.Size([48460, 8])\n",
      "targets.shape=torch.Size([48460, 8])\n",
      "12800\n"
     ]
    },
    {
     "name": "stderr",
     "output_type": "stream",
     "text": [
      " 48%|████▊     | 2407/5000 [52:11<56:02,  1.30s/it]"
     ]
    },
    {
     "name": "stdout",
     "output_type": "stream",
     "text": [
      "output.shape=torch.Size([20, 2423, 8])\n",
      "targets.shape=torch.Size([20, 2423, 8])\n",
      "torch.Size([48460]) torch.Size([48460])\n",
      "12084\n",
      "stacked output.shape=torch.Size([48460, 8])\n",
      "targets.shape=torch.Size([48460, 8])\n",
      "12780\n"
     ]
    },
    {
     "name": "stderr",
     "output_type": "stream",
     "text": [
      " 48%|████▊     | 2410/5000 [52:15<57:07,  1.32s/it]"
     ]
    },
    {
     "name": "stdout",
     "output_type": "stream",
     "text": [
      "output.shape=torch.Size([20, 2423, 8])\n",
      "targets.shape=torch.Size([20, 2423, 8])\n",
      "torch.Size([48460]) torch.Size([48460])\n",
      "12026\n",
      "stacked output.shape=torch.Size([48460, 8])\n",
      "targets.shape=torch.Size([48460, 8])\n",
      "12680\n"
     ]
    },
    {
     "name": "stderr",
     "output_type": "stream",
     "text": [
      " 48%|████▊     | 2413/5000 [52:19<57:43,  1.34s/it]"
     ]
    },
    {
     "name": "stdout",
     "output_type": "stream",
     "text": [
      "output.shape=torch.Size([20, 2423, 8])\n",
      "targets.shape=torch.Size([20, 2423, 8])\n",
      "torch.Size([48460]) torch.Size([48460])\n",
      "12019\n",
      "stacked output.shape=torch.Size([48460, 8])\n",
      "targets.shape=torch.Size([48460, 8])\n",
      "12580\n"
     ]
    },
    {
     "name": "stderr",
     "output_type": "stream",
     "text": [
      " 48%|████▊     | 2416/5000 [52:23<56:35,  1.31s/it]"
     ]
    },
    {
     "name": "stdout",
     "output_type": "stream",
     "text": [
      "output.shape=torch.Size([20, 2423, 8])\n",
      "targets.shape=torch.Size([20, 2423, 8])\n",
      "torch.Size([48460]) torch.Size([48460])\n",
      "12098\n",
      "stacked output.shape=torch.Size([48460, 8])\n",
      "targets.shape=torch.Size([48460, 8])\n",
      "12820\n"
     ]
    },
    {
     "name": "stderr",
     "output_type": "stream",
     "text": [
      " 48%|████▊     | 2419/5000 [52:27<56:06,  1.30s/it]"
     ]
    },
    {
     "name": "stdout",
     "output_type": "stream",
     "text": [
      "output.shape=torch.Size([20, 2423, 8])\n",
      "targets.shape=torch.Size([20, 2423, 8])\n",
      "torch.Size([48460]) torch.Size([48460])\n",
      "12081\n",
      "stacked output.shape=torch.Size([48460, 8])\n",
      "targets.shape=torch.Size([48460, 8])\n",
      "12460\n"
     ]
    },
    {
     "name": "stderr",
     "output_type": "stream",
     "text": [
      " 48%|████▊     | 2422/5000 [52:31<56:53,  1.32s/it]"
     ]
    },
    {
     "name": "stdout",
     "output_type": "stream",
     "text": [
      "output.shape=torch.Size([20, 2423, 8])\n",
      "targets.shape=torch.Size([20, 2423, 8])\n",
      "torch.Size([48460]) torch.Size([48460])\n",
      "12054\n",
      "stacked output.shape=torch.Size([48460, 8])\n",
      "targets.shape=torch.Size([48460, 8])\n",
      "12460\n"
     ]
    },
    {
     "name": "stderr",
     "output_type": "stream",
     "text": [
      " 48%|████▊     | 2425/5000 [52:34<56:45,  1.32s/it]"
     ]
    },
    {
     "name": "stdout",
     "output_type": "stream",
     "text": [
      "output.shape=torch.Size([20, 2423, 8])\n",
      "targets.shape=torch.Size([20, 2423, 8])\n",
      "torch.Size([48460]) torch.Size([48460])\n",
      "11990\n",
      "stacked output.shape=torch.Size([48460, 8])\n",
      "targets.shape=torch.Size([48460, 8])\n",
      "12240\n"
     ]
    },
    {
     "name": "stderr",
     "output_type": "stream",
     "text": [
      " 49%|████▊     | 2428/5000 [52:39<58:46,  1.37s/it]"
     ]
    },
    {
     "name": "stdout",
     "output_type": "stream",
     "text": [
      "output.shape=torch.Size([20, 2423, 8])\n",
      "targets.shape=torch.Size([20, 2423, 8])\n",
      "torch.Size([48460]) torch.Size([48460])\n",
      "12032\n",
      "stacked output.shape=torch.Size([48460, 8])\n",
      "targets.shape=torch.Size([48460, 8])\n",
      "12360\n"
     ]
    },
    {
     "name": "stderr",
     "output_type": "stream",
     "text": [
      " 49%|████▊     | 2431/5000 [52:42<57:17,  1.34s/it]"
     ]
    },
    {
     "name": "stdout",
     "output_type": "stream",
     "text": [
      "output.shape=torch.Size([20, 2423, 8])\n",
      "targets.shape=torch.Size([20, 2423, 8])\n",
      "torch.Size([48460]) torch.Size([48460])\n",
      "12033\n",
      "stacked output.shape=torch.Size([48460, 8])\n",
      "targets.shape=torch.Size([48460, 8])\n",
      "12540\n"
     ]
    },
    {
     "name": "stderr",
     "output_type": "stream",
     "text": [
      " 49%|████▊     | 2434/5000 [52:46<57:22,  1.34s/it]"
     ]
    },
    {
     "name": "stdout",
     "output_type": "stream",
     "text": [
      "output.shape=torch.Size([20, 2423, 8])\n",
      "targets.shape=torch.Size([20, 2423, 8])\n",
      "torch.Size([48460]) torch.Size([48460])\n",
      "12034\n",
      "stacked output.shape=torch.Size([48460, 8])\n",
      "targets.shape=torch.Size([48460, 8])\n",
      "12440\n"
     ]
    },
    {
     "name": "stderr",
     "output_type": "stream",
     "text": [
      " 49%|████▊     | 2437/5000 [52:50<55:46,  1.31s/it]"
     ]
    },
    {
     "name": "stdout",
     "output_type": "stream",
     "text": [
      "output.shape=torch.Size([20, 2423, 8])\n",
      "targets.shape=torch.Size([20, 2423, 8])\n",
      "torch.Size([48460]) torch.Size([48460])\n",
      "12091\n",
      "stacked output.shape=torch.Size([48460, 8])\n",
      "targets.shape=torch.Size([48460, 8])\n",
      "12620\n"
     ]
    },
    {
     "name": "stderr",
     "output_type": "stream",
     "text": [
      " 49%|████▉     | 2440/5000 [52:54<54:51,  1.29s/it]"
     ]
    },
    {
     "name": "stdout",
     "output_type": "stream",
     "text": [
      "output.shape=torch.Size([20, 2423, 8])\n",
      "targets.shape=torch.Size([20, 2423, 8])\n",
      "torch.Size([48460]) torch.Size([48460])\n",
      "12121\n",
      "stacked output.shape=torch.Size([48460, 8])\n",
      "targets.shape=torch.Size([48460, 8])\n",
      "12360\n"
     ]
    },
    {
     "name": "stderr",
     "output_type": "stream",
     "text": [
      " 49%|████▉     | 2443/5000 [52:58<55:59,  1.31s/it]"
     ]
    },
    {
     "name": "stdout",
     "output_type": "stream",
     "text": [
      "output.shape=torch.Size([20, 2423, 8])\n",
      "targets.shape=torch.Size([20, 2423, 8])\n",
      "torch.Size([48460]) torch.Size([48460])\n",
      "12098\n",
      "stacked output.shape=torch.Size([48460, 8])\n",
      "targets.shape=torch.Size([48460, 8])\n",
      "12840\n"
     ]
    },
    {
     "name": "stderr",
     "output_type": "stream",
     "text": [
      " 49%|████▉     | 2446/5000 [53:02<56:20,  1.32s/it]"
     ]
    },
    {
     "name": "stdout",
     "output_type": "stream",
     "text": [
      "output.shape=torch.Size([20, 2423, 8])\n",
      "targets.shape=torch.Size([20, 2423, 8])\n",
      "torch.Size([48460]) torch.Size([48460])\n",
      "12136\n",
      "stacked output.shape=torch.Size([48460, 8])\n",
      "targets.shape=torch.Size([48460, 8])\n",
      "12700\n"
     ]
    },
    {
     "name": "stderr",
     "output_type": "stream",
     "text": [
      " 49%|████▉     | 2449/5000 [53:05<55:22,  1.30s/it]"
     ]
    },
    {
     "name": "stdout",
     "output_type": "stream",
     "text": [
      "output.shape=torch.Size([20, 2423, 8])\n",
      "targets.shape=torch.Size([20, 2423, 8])\n",
      "torch.Size([48460]) torch.Size([48460])\n",
      "12103\n",
      "stacked output.shape=torch.Size([48460, 8])\n",
      "targets.shape=torch.Size([48460, 8])\n",
      "12300\n"
     ]
    },
    {
     "name": "stderr",
     "output_type": "stream",
     "text": [
      " 49%|████▉     | 2452/5000 [53:09<55:23,  1.30s/it]"
     ]
    },
    {
     "name": "stdout",
     "output_type": "stream",
     "text": [
      "output.shape=torch.Size([20, 2423, 8])\n",
      "targets.shape=torch.Size([20, 2423, 8])\n",
      "torch.Size([48460]) torch.Size([48460])\n",
      "12119\n",
      "stacked output.shape=torch.Size([48460, 8])\n",
      "targets.shape=torch.Size([48460, 8])\n",
      "12580\n"
     ]
    },
    {
     "name": "stderr",
     "output_type": "stream",
     "text": [
      " 49%|████▉     | 2454/5000 [53:12<52:55,  1.25s/it]"
     ]
    },
    {
     "name": "stdout",
     "output_type": "stream",
     "text": [
      "output.shape=torch.Size([20, 2423, 8])\n",
      "targets.shape=torch.Size([20, 2423, 8])\n",
      "torch.Size([48460]) torch.Size([48460])\n",
      "12118\n",
      "stacked output.shape=torch.Size([48460, 8])\n",
      "targets.shape=torch.Size([48460, 8])\n",
      "12700\n"
     ]
    },
    {
     "name": "stderr",
     "output_type": "stream",
     "text": [
      " 49%|████▉     | 2458/5000 [53:17<56:06,  1.32s/it]"
     ]
    },
    {
     "name": "stdout",
     "output_type": "stream",
     "text": [
      "output.shape=torch.Size([20, 2423, 8])\n",
      "targets.shape=torch.Size([20, 2423, 8])\n",
      "torch.Size([48460]) torch.Size([48460])\n",
      "12064\n",
      "stacked output.shape=torch.Size([48460, 8])\n",
      "targets.shape=torch.Size([48460, 8])\n",
      "12520\n"
     ]
    },
    {
     "name": "stderr",
     "output_type": "stream",
     "text": [
      " 49%|████▉     | 2461/5000 [53:21<55:14,  1.31s/it]"
     ]
    },
    {
     "name": "stdout",
     "output_type": "stream",
     "text": [
      "output.shape=torch.Size([20, 2423, 8])\n",
      "targets.shape=torch.Size([20, 2423, 8])\n",
      "torch.Size([48460]) torch.Size([48460])\n",
      "11988\n",
      "stacked output.shape=torch.Size([48460, 8])\n",
      "targets.shape=torch.Size([48460, 8])\n",
      "12480\n"
     ]
    },
    {
     "name": "stderr",
     "output_type": "stream",
     "text": [
      " 49%|████▉     | 2464/5000 [53:25<54:56,  1.30s/it]"
     ]
    },
    {
     "name": "stdout",
     "output_type": "stream",
     "text": [
      "output.shape=torch.Size([20, 2423, 8])\n",
      "targets.shape=torch.Size([20, 2423, 8])\n",
      "torch.Size([48460]) torch.Size([48460])\n",
      "12083\n",
      "stacked output.shape=torch.Size([48460, 8])\n",
      "targets.shape=torch.Size([48460, 8])\n",
      "12700\n"
     ]
    },
    {
     "name": "stderr",
     "output_type": "stream",
     "text": [
      " 49%|████▉     | 2467/5000 [53:28<54:47,  1.30s/it]"
     ]
    },
    {
     "name": "stdout",
     "output_type": "stream",
     "text": [
      "output.shape=torch.Size([20, 2423, 8])\n",
      "targets.shape=torch.Size([20, 2423, 8])\n",
      "torch.Size([48460]) torch.Size([48460])\n",
      "12029\n",
      "stacked output.shape=torch.Size([48460, 8])\n",
      "targets.shape=torch.Size([48460, 8])\n",
      "12660\n"
     ]
    },
    {
     "name": "stderr",
     "output_type": "stream",
     "text": [
      " 49%|████▉     | 2470/5000 [53:32<54:42,  1.30s/it]"
     ]
    },
    {
     "name": "stdout",
     "output_type": "stream",
     "text": [
      "output.shape=torch.Size([20, 2423, 8])\n",
      "targets.shape=torch.Size([20, 2423, 8])\n",
      "torch.Size([48460]) torch.Size([48460])\n",
      "12104\n",
      "stacked output.shape=torch.Size([48460, 8])\n",
      "targets.shape=torch.Size([48460, 8])\n",
      "12660\n"
     ]
    },
    {
     "name": "stderr",
     "output_type": "stream",
     "text": [
      " 49%|████▉     | 2473/5000 [53:36<55:12,  1.31s/it]"
     ]
    },
    {
     "name": "stdout",
     "output_type": "stream",
     "text": [
      "output.shape=torch.Size([20, 2423, 8])\n",
      "targets.shape=torch.Size([20, 2423, 8])\n",
      "torch.Size([48460]) torch.Size([48460])\n",
      "12107\n",
      "stacked output.shape=torch.Size([48460, 8])\n",
      "targets.shape=torch.Size([48460, 8])\n",
      "12560\n"
     ]
    },
    {
     "name": "stderr",
     "output_type": "stream",
     "text": [
      " 50%|████▉     | 2476/5000 [53:40<54:48,  1.30s/it]"
     ]
    },
    {
     "name": "stdout",
     "output_type": "stream",
     "text": [
      "output.shape=torch.Size([20, 2423, 8])\n",
      "targets.shape=torch.Size([20, 2423, 8])\n",
      "torch.Size([48460]) torch.Size([48460])\n",
      "12031\n",
      "stacked output.shape=torch.Size([48460, 8])\n",
      "targets.shape=torch.Size([48460, 8])\n",
      "12760\n"
     ]
    },
    {
     "name": "stderr",
     "output_type": "stream",
     "text": [
      " 50%|████▉     | 2479/5000 [53:44<57:10,  1.36s/it]"
     ]
    },
    {
     "name": "stdout",
     "output_type": "stream",
     "text": [
      "output.shape=torch.Size([20, 2423, 8])\n",
      "targets.shape=torch.Size([20, 2423, 8])\n",
      "torch.Size([48460]) torch.Size([48460])\n",
      "12092\n",
      "stacked output.shape=torch.Size([48460, 8])\n",
      "targets.shape=torch.Size([48460, 8])\n",
      "12520\n"
     ]
    },
    {
     "name": "stderr",
     "output_type": "stream",
     "text": [
      " 50%|████▉     | 2482/5000 [53:48<55:14,  1.32s/it]"
     ]
    },
    {
     "name": "stdout",
     "output_type": "stream",
     "text": [
      "output.shape=torch.Size([20, 2423, 8])\n",
      "targets.shape=torch.Size([20, 2423, 8])\n",
      "torch.Size([48460]) torch.Size([48460])\n",
      "12056\n",
      "stacked output.shape=torch.Size([48460, 8])\n",
      "targets.shape=torch.Size([48460, 8])\n",
      "12620\n"
     ]
    },
    {
     "name": "stderr",
     "output_type": "stream",
     "text": [
      " 50%|████▉     | 2485/5000 [53:52<54:20,  1.30s/it]"
     ]
    },
    {
     "name": "stdout",
     "output_type": "stream",
     "text": [
      "output.shape=torch.Size([20, 2423, 8])\n",
      "targets.shape=torch.Size([20, 2423, 8])\n",
      "torch.Size([48460]) torch.Size([48460])\n",
      "12107\n",
      "stacked output.shape=torch.Size([48460, 8])\n",
      "targets.shape=torch.Size([48460, 8])\n",
      "12800\n"
     ]
    },
    {
     "name": "stderr",
     "output_type": "stream",
     "text": [
      " 50%|████▉     | 2488/5000 [53:55<54:51,  1.31s/it]"
     ]
    },
    {
     "name": "stdout",
     "output_type": "stream",
     "text": [
      "output.shape=torch.Size([20, 2423, 8])\n",
      "targets.shape=torch.Size([20, 2423, 8])\n",
      "torch.Size([48460]) torch.Size([48460])\n",
      "12066\n",
      "stacked output.shape=torch.Size([48460, 8])\n",
      "targets.shape=torch.Size([48460, 8])\n",
      "12700\n"
     ]
    },
    {
     "name": "stderr",
     "output_type": "stream",
     "text": [
      " 50%|████▉     | 2491/5000 [53:59<54:07,  1.29s/it]"
     ]
    },
    {
     "name": "stdout",
     "output_type": "stream",
     "text": [
      "output.shape=torch.Size([20, 2423, 8])\n",
      "targets.shape=torch.Size([20, 2423, 8])\n",
      "torch.Size([48460]) torch.Size([48460])\n",
      "12092\n",
      "stacked output.shape=torch.Size([48460, 8])\n",
      "targets.shape=torch.Size([48460, 8])\n",
      "12800\n"
     ]
    },
    {
     "name": "stderr",
     "output_type": "stream",
     "text": [
      " 50%|████▉     | 2494/5000 [54:03<54:11,  1.30s/it]"
     ]
    },
    {
     "name": "stdout",
     "output_type": "stream",
     "text": [
      "output.shape=torch.Size([20, 2423, 8])\n",
      "targets.shape=torch.Size([20, 2423, 8])\n",
      "torch.Size([48460]) torch.Size([48460])\n",
      "12089\n",
      "stacked output.shape=torch.Size([48460, 8])\n",
      "targets.shape=torch.Size([48460, 8])\n",
      "12920\n"
     ]
    },
    {
     "name": "stderr",
     "output_type": "stream",
     "text": [
      " 50%|████▉     | 2497/5000 [54:07<53:46,  1.29s/it]"
     ]
    },
    {
     "name": "stdout",
     "output_type": "stream",
     "text": [
      "output.shape=torch.Size([20, 2423, 8])\n",
      "targets.shape=torch.Size([20, 2423, 8])\n",
      "torch.Size([48460]) torch.Size([48460])\n",
      "12064\n",
      "stacked output.shape=torch.Size([48460, 8])\n",
      "targets.shape=torch.Size([48460, 8])\n",
      "12900\n"
     ]
    },
    {
     "name": "stderr",
     "output_type": "stream",
     "text": [
      " 50%|█████     | 2500/5000 [54:11<54:25,  1.31s/it]"
     ]
    },
    {
     "name": "stdout",
     "output_type": "stream",
     "text": [
      "output.shape=torch.Size([20, 2423, 8])\n",
      "targets.shape=torch.Size([20, 2423, 8])\n",
      "torch.Size([48460]) torch.Size([48460])\n",
      "12083\n",
      "stacked output.shape=torch.Size([48460, 8])\n",
      "targets.shape=torch.Size([48460, 8])\n",
      "12780\n"
     ]
    },
    {
     "name": "stderr",
     "output_type": "stream",
     "text": [
      " 50%|█████     | 2503/5000 [54:14<53:42,  1.29s/it]"
     ]
    },
    {
     "name": "stdout",
     "output_type": "stream",
     "text": [
      "output.shape=torch.Size([20, 2423, 8])\n",
      "targets.shape=torch.Size([20, 2423, 8])\n",
      "torch.Size([48460]) torch.Size([48460])\n",
      "12100\n",
      "stacked output.shape=torch.Size([48460, 8])\n",
      "targets.shape=torch.Size([48460, 8])\n",
      "12560\n"
     ]
    },
    {
     "name": "stderr",
     "output_type": "stream",
     "text": [
      " 50%|█████     | 2506/5000 [54:18<53:53,  1.30s/it]"
     ]
    },
    {
     "name": "stdout",
     "output_type": "stream",
     "text": [
      "output.shape=torch.Size([20, 2423, 8])\n",
      "targets.shape=torch.Size([20, 2423, 8])\n",
      "torch.Size([48460]) torch.Size([48460])\n",
      "12125\n",
      "stacked output.shape=torch.Size([48460, 8])\n",
      "targets.shape=torch.Size([48460, 8])\n",
      "12520\n"
     ]
    },
    {
     "name": "stderr",
     "output_type": "stream",
     "text": [
      " 50%|█████     | 2509/5000 [54:22<53:50,  1.30s/it]"
     ]
    },
    {
     "name": "stdout",
     "output_type": "stream",
     "text": [
      "output.shape=torch.Size([20, 2423, 8])\n",
      "targets.shape=torch.Size([20, 2423, 8])\n",
      "torch.Size([48460]) torch.Size([48460])\n",
      "12085\n",
      "stacked output.shape=torch.Size([48460, 8])\n",
      "targets.shape=torch.Size([48460, 8])\n",
      "12740\n"
     ]
    },
    {
     "name": "stderr",
     "output_type": "stream",
     "text": [
      " 50%|█████     | 2512/5000 [54:26<53:41,  1.29s/it]"
     ]
    },
    {
     "name": "stdout",
     "output_type": "stream",
     "text": [
      "output.shape=torch.Size([20, 2423, 8])\n",
      "targets.shape=torch.Size([20, 2423, 8])\n",
      "torch.Size([48460]) torch.Size([48460])\n",
      "12103\n",
      "stacked output.shape=torch.Size([48460, 8])\n",
      "targets.shape=torch.Size([48460, 8])\n",
      "12640\n"
     ]
    },
    {
     "name": "stderr",
     "output_type": "stream",
     "text": [
      " 50%|█████     | 2515/5000 [54:30<53:32,  1.29s/it]"
     ]
    },
    {
     "name": "stdout",
     "output_type": "stream",
     "text": [
      "output.shape=torch.Size([20, 2423, 8])\n",
      "targets.shape=torch.Size([20, 2423, 8])\n",
      "torch.Size([48460]) torch.Size([48460])\n",
      "12082\n",
      "stacked output.shape=torch.Size([48460, 8])\n",
      "targets.shape=torch.Size([48460, 8])\n",
      "12660\n"
     ]
    },
    {
     "name": "stderr",
     "output_type": "stream",
     "text": [
      " 50%|█████     | 2518/5000 [54:33<54:00,  1.31s/it]"
     ]
    },
    {
     "name": "stdout",
     "output_type": "stream",
     "text": [
      "output.shape=torch.Size([20, 2423, 8])\n",
      "targets.shape=torch.Size([20, 2423, 8])\n",
      "torch.Size([48460]) torch.Size([48460])\n",
      "12041\n",
      "stacked output.shape=torch.Size([48460, 8])\n",
      "targets.shape=torch.Size([48460, 8])\n",
      "12560\n"
     ]
    },
    {
     "name": "stderr",
     "output_type": "stream",
     "text": [
      " 50%|█████     | 2521/5000 [54:37<53:28,  1.29s/it]"
     ]
    },
    {
     "name": "stdout",
     "output_type": "stream",
     "text": [
      "output.shape=torch.Size([20, 2423, 8])\n",
      "targets.shape=torch.Size([20, 2423, 8])\n",
      "torch.Size([48460]) torch.Size([48460])\n",
      "12026\n",
      "stacked output.shape=torch.Size([48460, 8])\n",
      "targets.shape=torch.Size([48460, 8])\n",
      "12560\n"
     ]
    },
    {
     "name": "stderr",
     "output_type": "stream",
     "text": [
      " 50%|█████     | 2524/5000 [54:41<54:11,  1.31s/it]"
     ]
    },
    {
     "name": "stdout",
     "output_type": "stream",
     "text": [
      "output.shape=torch.Size([20, 2423, 8])\n",
      "targets.shape=torch.Size([20, 2423, 8])\n",
      "torch.Size([48460]) torch.Size([48460])\n",
      "12048\n",
      "stacked output.shape=torch.Size([48460, 8])\n",
      "targets.shape=torch.Size([48460, 8])\n",
      "12560\n"
     ]
    },
    {
     "name": "stderr",
     "output_type": "stream",
     "text": [
      " 51%|█████     | 2527/5000 [54:45<56:07,  1.36s/it]"
     ]
    },
    {
     "name": "stdout",
     "output_type": "stream",
     "text": [
      "output.shape=torch.Size([20, 2423, 8])\n",
      "targets.shape=torch.Size([20, 2423, 8])\n",
      "torch.Size([48460]) torch.Size([48460])\n",
      "12031\n",
      "stacked output.shape=torch.Size([48460, 8])\n",
      "targets.shape=torch.Size([48460, 8])\n",
      "12740\n"
     ]
    },
    {
     "name": "stderr",
     "output_type": "stream",
     "text": [
      " 51%|█████     | 2530/5000 [54:49<54:44,  1.33s/it]"
     ]
    },
    {
     "name": "stdout",
     "output_type": "stream",
     "text": [
      "output.shape=torch.Size([20, 2423, 8])\n",
      "targets.shape=torch.Size([20, 2423, 8])\n",
      "torch.Size([48460]) torch.Size([48460])\n",
      "12101\n",
      "stacked output.shape=torch.Size([48460, 8])\n",
      "targets.shape=torch.Size([48460, 8])\n",
      "12520\n"
     ]
    },
    {
     "name": "stderr",
     "output_type": "stream",
     "text": [
      " 51%|█████     | 2533/5000 [54:53<54:21,  1.32s/it]"
     ]
    },
    {
     "name": "stdout",
     "output_type": "stream",
     "text": [
      "output.shape=torch.Size([20, 2423, 8])\n",
      "targets.shape=torch.Size([20, 2423, 8])\n",
      "torch.Size([48460]) torch.Size([48460])\n",
      "12053\n",
      "stacked output.shape=torch.Size([48460, 8])\n",
      "targets.shape=torch.Size([48460, 8])\n",
      "12360\n"
     ]
    },
    {
     "name": "stderr",
     "output_type": "stream",
     "text": [
      " 51%|█████     | 2536/5000 [54:57<54:03,  1.32s/it]"
     ]
    },
    {
     "name": "stdout",
     "output_type": "stream",
     "text": [
      "output.shape=torch.Size([20, 2423, 8])\n",
      "targets.shape=torch.Size([20, 2423, 8])\n",
      "torch.Size([48460]) torch.Size([48460])\n",
      "12044\n",
      "stacked output.shape=torch.Size([48460, 8])\n",
      "targets.shape=torch.Size([48460, 8])\n",
      "12400\n"
     ]
    },
    {
     "name": "stderr",
     "output_type": "stream",
     "text": [
      " 51%|█████     | 2539/5000 [55:01<53:35,  1.31s/it]"
     ]
    },
    {
     "name": "stdout",
     "output_type": "stream",
     "text": [
      "output.shape=torch.Size([20, 2423, 8])\n",
      "targets.shape=torch.Size([20, 2423, 8])\n",
      "torch.Size([48460]) torch.Size([48460])\n",
      "12082\n",
      "stacked output.shape=torch.Size([48460, 8])\n",
      "targets.shape=torch.Size([48460, 8])\n",
      "12780\n"
     ]
    },
    {
     "name": "stderr",
     "output_type": "stream",
     "text": [
      " 51%|█████     | 2542/5000 [55:04<53:02,  1.29s/it]"
     ]
    },
    {
     "name": "stdout",
     "output_type": "stream",
     "text": [
      "output.shape=torch.Size([20, 2423, 8])\n",
      "targets.shape=torch.Size([20, 2423, 8])\n",
      "torch.Size([48460]) torch.Size([48460])\n",
      "12037\n",
      "stacked output.shape=torch.Size([48460, 8])\n",
      "targets.shape=torch.Size([48460, 8])\n",
      "12660\n"
     ]
    },
    {
     "name": "stderr",
     "output_type": "stream",
     "text": [
      " 51%|█████     | 2545/5000 [55:08<52:48,  1.29s/it]"
     ]
    },
    {
     "name": "stdout",
     "output_type": "stream",
     "text": [
      "output.shape=torch.Size([20, 2423, 8])\n",
      "targets.shape=torch.Size([20, 2423, 8])\n",
      "torch.Size([48460]) torch.Size([48460])\n",
      "12071\n",
      "stacked output.shape=torch.Size([48460, 8])\n",
      "targets.shape=torch.Size([48460, 8])\n",
      "12600\n"
     ]
    },
    {
     "name": "stderr",
     "output_type": "stream",
     "text": [
      " 51%|█████     | 2548/5000 [55:12<52:34,  1.29s/it]"
     ]
    },
    {
     "name": "stdout",
     "output_type": "stream",
     "text": [
      "output.shape=torch.Size([20, 2423, 8])\n",
      "targets.shape=torch.Size([20, 2423, 8])\n",
      "torch.Size([48460]) torch.Size([48460])\n",
      "12049\n",
      "stacked output.shape=torch.Size([48460, 8])\n",
      "targets.shape=torch.Size([48460, 8])\n",
      "12540\n"
     ]
    },
    {
     "name": "stderr",
     "output_type": "stream",
     "text": [
      " 51%|█████     | 2551/5000 [55:16<52:35,  1.29s/it]"
     ]
    },
    {
     "name": "stdout",
     "output_type": "stream",
     "text": [
      "output.shape=torch.Size([20, 2423, 8])\n",
      "targets.shape=torch.Size([20, 2423, 8])\n",
      "torch.Size([48460]) torch.Size([48460])\n",
      "12061\n",
      "stacked output.shape=torch.Size([48460, 8])\n",
      "targets.shape=torch.Size([48460, 8])\n",
      "12480\n"
     ]
    },
    {
     "name": "stderr",
     "output_type": "stream",
     "text": [
      " 51%|█████     | 2554/5000 [55:20<54:52,  1.35s/it]"
     ]
    },
    {
     "name": "stdout",
     "output_type": "stream",
     "text": [
      "output.shape=torch.Size([20, 2423, 8])\n",
      "targets.shape=torch.Size([20, 2423, 8])\n",
      "torch.Size([48460]) torch.Size([48460])\n",
      "12014\n",
      "stacked output.shape=torch.Size([48460, 8])\n",
      "targets.shape=torch.Size([48460, 8])\n",
      "12300\n"
     ]
    },
    {
     "name": "stderr",
     "output_type": "stream",
     "text": [
      " 51%|█████     | 2557/5000 [55:24<53:27,  1.31s/it]"
     ]
    },
    {
     "name": "stdout",
     "output_type": "stream",
     "text": [
      "output.shape=torch.Size([20, 2423, 8])\n",
      "targets.shape=torch.Size([20, 2423, 8])\n",
      "torch.Size([48460]) torch.Size([48460])\n",
      "12008\n",
      "stacked output.shape=torch.Size([48460, 8])\n",
      "targets.shape=torch.Size([48460, 8])\n",
      "12340\n"
     ]
    },
    {
     "name": "stderr",
     "output_type": "stream",
     "text": [
      " 51%|█████     | 2559/5000 [55:26<50:26,  1.24s/it]"
     ]
    },
    {
     "name": "stdout",
     "output_type": "stream",
     "text": [
      "output.shape=torch.Size([20, 2423, 8])\n",
      "targets.shape=torch.Size([20, 2423, 8])\n",
      "torch.Size([48460]) torch.Size([48460])\n",
      "12038\n",
      "stacked output.shape=torch.Size([48460, 8])\n",
      "targets.shape=torch.Size([48460, 8])\n",
      "12620\n"
     ]
    },
    {
     "name": "stderr",
     "output_type": "stream",
     "text": [
      " 51%|█████▏    | 2563/5000 [55:31<53:10,  1.31s/it]"
     ]
    },
    {
     "name": "stdout",
     "output_type": "stream",
     "text": [
      "output.shape=torch.Size([20, 2423, 8])\n",
      "targets.shape=torch.Size([20, 2423, 8])\n",
      "torch.Size([48460]) torch.Size([48460])\n",
      "12018\n",
      "stacked output.shape=torch.Size([48460, 8])\n",
      "targets.shape=torch.Size([48460, 8])\n",
      "12480\n"
     ]
    },
    {
     "name": "stderr",
     "output_type": "stream",
     "text": [
      " 51%|█████▏    | 2566/5000 [55:35<52:19,  1.29s/it]"
     ]
    },
    {
     "name": "stdout",
     "output_type": "stream",
     "text": [
      "output.shape=torch.Size([20, 2423, 8])\n",
      "targets.shape=torch.Size([20, 2423, 8])\n",
      "torch.Size([48460]) torch.Size([48460])\n",
      "12005\n",
      "stacked output.shape=torch.Size([48460, 8])\n",
      "targets.shape=torch.Size([48460, 8])\n",
      "12180\n"
     ]
    },
    {
     "name": "stderr",
     "output_type": "stream",
     "text": [
      " 51%|█████▏    | 2569/5000 [55:39<52:05,  1.29s/it]"
     ]
    },
    {
     "name": "stdout",
     "output_type": "stream",
     "text": [
      "output.shape=torch.Size([20, 2423, 8])\n",
      "targets.shape=torch.Size([20, 2423, 8])\n",
      "torch.Size([48460]) torch.Size([48460])\n",
      "12050\n",
      "stacked output.shape=torch.Size([48460, 8])\n",
      "targets.shape=torch.Size([48460, 8])\n",
      "12580\n"
     ]
    },
    {
     "name": "stderr",
     "output_type": "stream",
     "text": [
      " 51%|█████▏    | 2572/5000 [55:42<51:46,  1.28s/it]"
     ]
    },
    {
     "name": "stdout",
     "output_type": "stream",
     "text": [
      "output.shape=torch.Size([20, 2423, 8])\n",
      "targets.shape=torch.Size([20, 2423, 8])\n",
      "torch.Size([48460]) torch.Size([48460])\n",
      "12014\n",
      "stacked output.shape=torch.Size([48460, 8])\n",
      "targets.shape=torch.Size([48460, 8])\n",
      "12440\n"
     ]
    },
    {
     "name": "stderr",
     "output_type": "stream",
     "text": [
      " 52%|█████▏    | 2575/5000 [55:46<51:53,  1.28s/it]"
     ]
    },
    {
     "name": "stdout",
     "output_type": "stream",
     "text": [
      "output.shape=torch.Size([20, 2423, 8])\n",
      "targets.shape=torch.Size([20, 2423, 8])\n",
      "torch.Size([48460]) torch.Size([48460])\n",
      "11990\n",
      "stacked output.shape=torch.Size([48460, 8])\n",
      "targets.shape=torch.Size([48460, 8])\n",
      "12380\n"
     ]
    },
    {
     "name": "stderr",
     "output_type": "stream",
     "text": [
      " 52%|█████▏    | 2578/5000 [55:50<52:13,  1.29s/it]"
     ]
    },
    {
     "name": "stdout",
     "output_type": "stream",
     "text": [
      "output.shape=torch.Size([20, 2423, 8])\n",
      "targets.shape=torch.Size([20, 2423, 8])\n",
      "torch.Size([48460]) torch.Size([48460])\n",
      "12000\n",
      "stacked output.shape=torch.Size([48460, 8])\n",
      "targets.shape=torch.Size([48460, 8])\n",
      "12540\n"
     ]
    },
    {
     "name": "stderr",
     "output_type": "stream",
     "text": [
      " 52%|█████▏    | 2581/5000 [55:54<54:05,  1.34s/it]"
     ]
    },
    {
     "name": "stdout",
     "output_type": "stream",
     "text": [
      "output.shape=torch.Size([20, 2423, 8])\n",
      "targets.shape=torch.Size([20, 2423, 8])\n",
      "torch.Size([48460]) torch.Size([48460])\n",
      "12076\n",
      "stacked output.shape=torch.Size([48460, 8])\n",
      "targets.shape=torch.Size([48460, 8])\n",
      "12680\n"
     ]
    },
    {
     "name": "stderr",
     "output_type": "stream",
     "text": [
      " 52%|█████▏    | 2584/5000 [55:58<53:13,  1.32s/it]"
     ]
    },
    {
     "name": "stdout",
     "output_type": "stream",
     "text": [
      "output.shape=torch.Size([20, 2423, 8])\n",
      "targets.shape=torch.Size([20, 2423, 8])\n",
      "torch.Size([48460]) torch.Size([48460])\n",
      "12015\n",
      "stacked output.shape=torch.Size([48460, 8])\n",
      "targets.shape=torch.Size([48460, 8])\n",
      "12500\n"
     ]
    },
    {
     "name": "stderr",
     "output_type": "stream",
     "text": [
      " 52%|█████▏    | 2587/5000 [56:02<54:55,  1.37s/it]"
     ]
    },
    {
     "name": "stdout",
     "output_type": "stream",
     "text": [
      "output.shape=torch.Size([20, 2423, 8])\n",
      "targets.shape=torch.Size([20, 2423, 8])\n",
      "torch.Size([48460]) torch.Size([48460])\n",
      "12020\n",
      "stacked output.shape=torch.Size([48460, 8])\n",
      "targets.shape=torch.Size([48460, 8])\n",
      "12560\n"
     ]
    },
    {
     "name": "stderr",
     "output_type": "stream",
     "text": [
      " 52%|█████▏    | 2590/5000 [56:06<53:52,  1.34s/it]"
     ]
    },
    {
     "name": "stdout",
     "output_type": "stream",
     "text": [
      "output.shape=torch.Size([20, 2423, 8])\n",
      "targets.shape=torch.Size([20, 2423, 8])\n",
      "torch.Size([48460]) torch.Size([48460])\n",
      "12035\n",
      "stacked output.shape=torch.Size([48460, 8])\n",
      "targets.shape=torch.Size([48460, 8])\n",
      "12680\n"
     ]
    },
    {
     "name": "stderr",
     "output_type": "stream",
     "text": [
      " 52%|█████▏    | 2593/5000 [56:10<53:08,  1.32s/it]"
     ]
    },
    {
     "name": "stdout",
     "output_type": "stream",
     "text": [
      "output.shape=torch.Size([20, 2423, 8])\n",
      "targets.shape=torch.Size([20, 2423, 8])\n",
      "torch.Size([48460]) torch.Size([48460])\n",
      "12031\n",
      "stacked output.shape=torch.Size([48460, 8])\n",
      "targets.shape=torch.Size([48460, 8])\n",
      "12460\n"
     ]
    },
    {
     "name": "stderr",
     "output_type": "stream",
     "text": [
      " 52%|█████▏    | 2596/5000 [56:14<52:27,  1.31s/it]"
     ]
    },
    {
     "name": "stdout",
     "output_type": "stream",
     "text": [
      "output.shape=torch.Size([20, 2423, 8])\n",
      "targets.shape=torch.Size([20, 2423, 8])\n",
      "torch.Size([48460]) torch.Size([48460])\n",
      "12020\n",
      "stacked output.shape=torch.Size([48460, 8])\n",
      "targets.shape=torch.Size([48460, 8])\n",
      "12520\n"
     ]
    },
    {
     "name": "stderr",
     "output_type": "stream",
     "text": [
      " 52%|█████▏    | 2599/5000 [56:17<52:28,  1.31s/it]"
     ]
    },
    {
     "name": "stdout",
     "output_type": "stream",
     "text": [
      "output.shape=torch.Size([20, 2423, 8])\n",
      "targets.shape=torch.Size([20, 2423, 8])\n",
      "torch.Size([48460]) torch.Size([48460])\n",
      "12059\n",
      "stacked output.shape=torch.Size([48460, 8])\n",
      "targets.shape=torch.Size([48460, 8])\n",
      "12600\n"
     ]
    },
    {
     "name": "stderr",
     "output_type": "stream",
     "text": [
      " 52%|█████▏    | 2602/5000 [56:21<54:42,  1.37s/it]"
     ]
    },
    {
     "name": "stdout",
     "output_type": "stream",
     "text": [
      "output.shape=torch.Size([20, 2423, 8])\n",
      "targets.shape=torch.Size([20, 2423, 8])\n",
      "torch.Size([48460]) torch.Size([48460])\n",
      "12058\n",
      "stacked output.shape=torch.Size([48460, 8])\n",
      "targets.shape=torch.Size([48460, 8])\n",
      "12680\n"
     ]
    },
    {
     "name": "stderr",
     "output_type": "stream",
     "text": [
      " 52%|█████▏    | 2605/5000 [56:25<54:20,  1.36s/it]"
     ]
    },
    {
     "name": "stdout",
     "output_type": "stream",
     "text": [
      "output.shape=torch.Size([20, 2423, 8])\n",
      "targets.shape=torch.Size([20, 2423, 8])\n",
      "torch.Size([48460]) torch.Size([48460])\n",
      "12058\n",
      "stacked output.shape=torch.Size([48460, 8])\n",
      "targets.shape=torch.Size([48460, 8])\n",
      "12600\n"
     ]
    },
    {
     "name": "stderr",
     "output_type": "stream",
     "text": [
      " 52%|█████▏    | 2608/5000 [56:29<53:24,  1.34s/it]"
     ]
    },
    {
     "name": "stdout",
     "output_type": "stream",
     "text": [
      "output.shape=torch.Size([20, 2423, 8])\n",
      "targets.shape=torch.Size([20, 2423, 8])\n",
      "torch.Size([48460]) torch.Size([48460])\n",
      "11992\n",
      "stacked output.shape=torch.Size([48460, 8])\n",
      "targets.shape=torch.Size([48460, 8])\n",
      "12820\n"
     ]
    },
    {
     "name": "stderr",
     "output_type": "stream",
     "text": [
      " 52%|█████▏    | 2611/5000 [56:33<53:59,  1.36s/it]"
     ]
    },
    {
     "name": "stdout",
     "output_type": "stream",
     "text": [
      "output.shape=torch.Size([20, 2423, 8])\n",
      "targets.shape=torch.Size([20, 2423, 8])\n",
      "torch.Size([48460]) torch.Size([48460])\n",
      "12082\n",
      "stacked output.shape=torch.Size([48460, 8])\n",
      "targets.shape=torch.Size([48460, 8])\n",
      "12520\n"
     ]
    },
    {
     "name": "stderr",
     "output_type": "stream",
     "text": [
      " 52%|█████▏    | 2614/5000 [56:37<53:11,  1.34s/it]"
     ]
    },
    {
     "name": "stdout",
     "output_type": "stream",
     "text": [
      "output.shape=torch.Size([20, 2423, 8])\n",
      "targets.shape=torch.Size([20, 2423, 8])\n",
      "torch.Size([48460]) torch.Size([48460])\n",
      "12019\n",
      "stacked output.shape=torch.Size([48460, 8])\n",
      "targets.shape=torch.Size([48460, 8])\n",
      "12380\n"
     ]
    },
    {
     "name": "stderr",
     "output_type": "stream",
     "text": [
      " 52%|█████▏    | 2617/5000 [56:41<52:53,  1.33s/it]"
     ]
    },
    {
     "name": "stdout",
     "output_type": "stream",
     "text": [
      "output.shape=torch.Size([20, 2423, 8])\n",
      "targets.shape=torch.Size([20, 2423, 8])\n",
      "torch.Size([48460]) torch.Size([48460])\n",
      "12013\n",
      "stacked output.shape=torch.Size([48460, 8])\n",
      "targets.shape=torch.Size([48460, 8])\n",
      "12840\n"
     ]
    },
    {
     "name": "stderr",
     "output_type": "stream",
     "text": [
      " 52%|█████▏    | 2620/5000 [56:45<54:20,  1.37s/it]"
     ]
    },
    {
     "name": "stdout",
     "output_type": "stream",
     "text": [
      "output.shape=torch.Size([20, 2423, 8])\n",
      "targets.shape=torch.Size([20, 2423, 8])\n",
      "torch.Size([48460]) torch.Size([48460])\n",
      "12010\n",
      "stacked output.shape=torch.Size([48460, 8])\n",
      "targets.shape=torch.Size([48460, 8])\n",
      "12600\n"
     ]
    },
    {
     "name": "stderr",
     "output_type": "stream",
     "text": [
      " 52%|█████▏    | 2623/5000 [56:49<52:42,  1.33s/it]"
     ]
    },
    {
     "name": "stdout",
     "output_type": "stream",
     "text": [
      "output.shape=torch.Size([20, 2423, 8])\n",
      "targets.shape=torch.Size([20, 2423, 8])\n",
      "torch.Size([48460]) torch.Size([48460])\n",
      "12031\n",
      "stacked output.shape=torch.Size([48460, 8])\n",
      "targets.shape=torch.Size([48460, 8])\n",
      "12820\n"
     ]
    },
    {
     "name": "stderr",
     "output_type": "stream",
     "text": [
      " 53%|█████▎    | 2626/5000 [56:53<53:31,  1.35s/it]"
     ]
    },
    {
     "name": "stdout",
     "output_type": "stream",
     "text": [
      "output.shape=torch.Size([20, 2423, 8])\n",
      "targets.shape=torch.Size([20, 2423, 8])\n",
      "torch.Size([48460]) torch.Size([48460])\n",
      "12028\n",
      "stacked output.shape=torch.Size([48460, 8])\n",
      "targets.shape=torch.Size([48460, 8])\n",
      "12640\n"
     ]
    },
    {
     "name": "stderr",
     "output_type": "stream",
     "text": [
      " 53%|█████▎    | 2629/5000 [56:57<52:32,  1.33s/it]"
     ]
    },
    {
     "name": "stdout",
     "output_type": "stream",
     "text": [
      "output.shape=torch.Size([20, 2423, 8])\n",
      "targets.shape=torch.Size([20, 2423, 8])\n",
      "torch.Size([48460]) torch.Size([48460])\n",
      "12012\n",
      "stacked output.shape=torch.Size([48460, 8])\n",
      "targets.shape=torch.Size([48460, 8])\n",
      "12380\n"
     ]
    },
    {
     "name": "stderr",
     "output_type": "stream",
     "text": [
      " 53%|█████▎    | 2632/5000 [57:01<52:13,  1.32s/it]"
     ]
    },
    {
     "name": "stdout",
     "output_type": "stream",
     "text": [
      "output.shape=torch.Size([20, 2423, 8])\n",
      "targets.shape=torch.Size([20, 2423, 8])\n",
      "torch.Size([48460]) torch.Size([48460])\n",
      "12065\n",
      "stacked output.shape=torch.Size([48460, 8])\n",
      "targets.shape=torch.Size([48460, 8])\n",
      "12680\n"
     ]
    },
    {
     "name": "stderr",
     "output_type": "stream",
     "text": [
      " 53%|█████▎    | 2635/5000 [57:05<51:36,  1.31s/it]"
     ]
    },
    {
     "name": "stdout",
     "output_type": "stream",
     "text": [
      "output.shape=torch.Size([20, 2423, 8])\n",
      "targets.shape=torch.Size([20, 2423, 8])\n",
      "torch.Size([48460]) torch.Size([48460])\n",
      "12054\n",
      "stacked output.shape=torch.Size([48460, 8])\n",
      "targets.shape=torch.Size([48460, 8])\n",
      "12540\n"
     ]
    },
    {
     "name": "stderr",
     "output_type": "stream",
     "text": [
      " 53%|█████▎    | 2638/5000 [57:09<52:46,  1.34s/it]"
     ]
    },
    {
     "name": "stdout",
     "output_type": "stream",
     "text": [
      "output.shape=torch.Size([20, 2423, 8])\n",
      "targets.shape=torch.Size([20, 2423, 8])\n",
      "torch.Size([48460]) torch.Size([48460])\n",
      "12012\n",
      "stacked output.shape=torch.Size([48460, 8])\n",
      "targets.shape=torch.Size([48460, 8])\n",
      "12660\n"
     ]
    },
    {
     "name": "stderr",
     "output_type": "stream",
     "text": [
      " 53%|█████▎    | 2641/5000 [57:12<51:48,  1.32s/it]"
     ]
    },
    {
     "name": "stdout",
     "output_type": "stream",
     "text": [
      "output.shape=torch.Size([20, 2423, 8])\n",
      "targets.shape=torch.Size([20, 2423, 8])\n",
      "torch.Size([48460]) torch.Size([48460])\n",
      "11992\n",
      "stacked output.shape=torch.Size([48460, 8])\n",
      "targets.shape=torch.Size([48460, 8])\n",
      "12700\n"
     ]
    },
    {
     "name": "stderr",
     "output_type": "stream",
     "text": [
      " 53%|█████▎    | 2644/5000 [57:16<53:02,  1.35s/it]"
     ]
    },
    {
     "name": "stdout",
     "output_type": "stream",
     "text": [
      "output.shape=torch.Size([20, 2423, 8])\n",
      "targets.shape=torch.Size([20, 2423, 8])\n",
      "torch.Size([48460]) torch.Size([48460])\n",
      "12023\n",
      "stacked output.shape=torch.Size([48460, 8])\n",
      "targets.shape=torch.Size([48460, 8])\n",
      "12480\n"
     ]
    },
    {
     "name": "stderr",
     "output_type": "stream",
     "text": [
      " 53%|█████▎    | 2647/5000 [57:20<51:57,  1.32s/it]"
     ]
    },
    {
     "name": "stdout",
     "output_type": "stream",
     "text": [
      "output.shape=torch.Size([20, 2423, 8])\n",
      "targets.shape=torch.Size([20, 2423, 8])\n",
      "torch.Size([48460]) torch.Size([48460])\n",
      "12028\n",
      "stacked output.shape=torch.Size([48460, 8])\n",
      "targets.shape=torch.Size([48460, 8])\n",
      "12700\n"
     ]
    },
    {
     "name": "stderr",
     "output_type": "stream",
     "text": [
      " 53%|█████▎    | 2650/5000 [57:24<52:06,  1.33s/it]"
     ]
    },
    {
     "name": "stdout",
     "output_type": "stream",
     "text": [
      "output.shape=torch.Size([20, 2423, 8])\n",
      "targets.shape=torch.Size([20, 2423, 8])\n",
      "torch.Size([48460]) torch.Size([48460])\n",
      "12049\n",
      "stacked output.shape=torch.Size([48460, 8])\n",
      "targets.shape=torch.Size([48460, 8])\n",
      "12660\n"
     ]
    },
    {
     "name": "stderr",
     "output_type": "stream",
     "text": [
      " 53%|█████▎    | 2652/5000 [57:26<49:04,  1.25s/it]"
     ]
    },
    {
     "name": "stdout",
     "output_type": "stream",
     "text": [
      "output.shape=torch.Size([20, 2423, 8])\n",
      "targets.shape=torch.Size([20, 2423, 8])\n",
      "torch.Size([48460]) torch.Size([48460])\n",
      "12079\n",
      "stacked output.shape=torch.Size([48460, 8])\n",
      "targets.shape=torch.Size([48460, 8])\n",
      "12660\n"
     ]
    },
    {
     "name": "stderr",
     "output_type": "stream",
     "text": [
      " 53%|█████▎    | 2656/5000 [57:32<52:07,  1.33s/it]"
     ]
    },
    {
     "name": "stdout",
     "output_type": "stream",
     "text": [
      "output.shape=torch.Size([20, 2423, 8])\n",
      "targets.shape=torch.Size([20, 2423, 8])\n",
      "torch.Size([48460]) torch.Size([48460])\n",
      "12074\n",
      "stacked output.shape=torch.Size([48460, 8])\n",
      "targets.shape=torch.Size([48460, 8])\n",
      "12400\n"
     ]
    },
    {
     "name": "stderr",
     "output_type": "stream",
     "text": [
      " 53%|█████▎    | 2659/5000 [57:36<51:30,  1.32s/it]"
     ]
    },
    {
     "name": "stdout",
     "output_type": "stream",
     "text": [
      "output.shape=torch.Size([20, 2423, 8])\n",
      "targets.shape=torch.Size([20, 2423, 8])\n",
      "torch.Size([48460]) torch.Size([48460])\n",
      "12092\n",
      "stacked output.shape=torch.Size([48460, 8])\n",
      "targets.shape=torch.Size([48460, 8])\n",
      "12600\n"
     ]
    },
    {
     "name": "stderr",
     "output_type": "stream",
     "text": [
      " 53%|█████▎    | 2662/5000 [57:40<50:51,  1.31s/it]"
     ]
    },
    {
     "name": "stdout",
     "output_type": "stream",
     "text": [
      "output.shape=torch.Size([20, 2423, 8])\n",
      "targets.shape=torch.Size([20, 2423, 8])\n",
      "torch.Size([48460]) torch.Size([48460])\n",
      "12060\n",
      "stacked output.shape=torch.Size([48460, 8])\n",
      "targets.shape=torch.Size([48460, 8])\n",
      "12540\n"
     ]
    },
    {
     "name": "stderr",
     "output_type": "stream",
     "text": [
      " 53%|█████▎    | 2665/5000 [57:43<51:06,  1.31s/it]"
     ]
    },
    {
     "name": "stdout",
     "output_type": "stream",
     "text": [
      "output.shape=torch.Size([20, 2423, 8])\n",
      "targets.shape=torch.Size([20, 2423, 8])\n",
      "torch.Size([48460]) torch.Size([48460])\n",
      "12033\n",
      "stacked output.shape=torch.Size([48460, 8])\n",
      "targets.shape=torch.Size([48460, 8])\n",
      "12580\n"
     ]
    },
    {
     "name": "stderr",
     "output_type": "stream",
     "text": [
      " 53%|█████▎    | 2668/5000 [57:47<52:21,  1.35s/it]"
     ]
    },
    {
     "name": "stdout",
     "output_type": "stream",
     "text": [
      "output.shape=torch.Size([20, 2423, 8])\n",
      "targets.shape=torch.Size([20, 2423, 8])\n",
      "torch.Size([48460]) torch.Size([48460])\n",
      "11962\n",
      "stacked output.shape=torch.Size([48460, 8])\n",
      "targets.shape=torch.Size([48460, 8])\n",
      "12660\n"
     ]
    },
    {
     "name": "stderr",
     "output_type": "stream",
     "text": [
      " 53%|█████▎    | 2671/5000 [57:52<53:49,  1.39s/it]"
     ]
    },
    {
     "name": "stdout",
     "output_type": "stream",
     "text": [
      "output.shape=torch.Size([20, 2423, 8])\n",
      "targets.shape=torch.Size([20, 2423, 8])\n",
      "torch.Size([48460]) torch.Size([48460])\n",
      "12090\n",
      "stacked output.shape=torch.Size([48460, 8])\n",
      "targets.shape=torch.Size([48460, 8])\n",
      "12860\n"
     ]
    },
    {
     "name": "stderr",
     "output_type": "stream",
     "text": [
      " 53%|█████▎    | 2674/5000 [57:56<53:12,  1.37s/it]"
     ]
    },
    {
     "name": "stdout",
     "output_type": "stream",
     "text": [
      "output.shape=torch.Size([20, 2423, 8])\n",
      "targets.shape=torch.Size([20, 2423, 8])\n",
      "torch.Size([48460]) torch.Size([48460])\n",
      "12051\n",
      "stacked output.shape=torch.Size([48460, 8])\n",
      "targets.shape=torch.Size([48460, 8])\n",
      "12620\n"
     ]
    },
    {
     "name": "stderr",
     "output_type": "stream",
     "text": [
      " 54%|█████▎    | 2677/5000 [58:00<55:01,  1.42s/it]"
     ]
    },
    {
     "name": "stdout",
     "output_type": "stream",
     "text": [
      "output.shape=torch.Size([20, 2423, 8])\n",
      "targets.shape=torch.Size([20, 2423, 8])\n",
      "torch.Size([48460]) torch.Size([48460])\n",
      "11948\n",
      "stacked output.shape=torch.Size([48460, 8])\n",
      "targets.shape=torch.Size([48460, 8])\n",
      "12480\n"
     ]
    },
    {
     "name": "stderr",
     "output_type": "stream",
     "text": [
      " 54%|█████▎    | 2680/5000 [58:04<52:50,  1.37s/it]"
     ]
    },
    {
     "name": "stdout",
     "output_type": "stream",
     "text": [
      "output.shape=torch.Size([20, 2423, 8])\n",
      "targets.shape=torch.Size([20, 2423, 8])\n",
      "torch.Size([48460]) torch.Size([48460])\n",
      "12033\n",
      "stacked output.shape=torch.Size([48460, 8])\n",
      "targets.shape=torch.Size([48460, 8])\n",
      "12820\n"
     ]
    },
    {
     "name": "stderr",
     "output_type": "stream",
     "text": [
      " 54%|█████▎    | 2683/5000 [58:07<50:40,  1.31s/it]"
     ]
    },
    {
     "name": "stdout",
     "output_type": "stream",
     "text": [
      "output.shape=torch.Size([20, 2423, 8])\n",
      "targets.shape=torch.Size([20, 2423, 8])\n",
      "torch.Size([48460]) torch.Size([48460])\n",
      "12029\n",
      "stacked output.shape=torch.Size([48460, 8])\n",
      "targets.shape=torch.Size([48460, 8])\n",
      "12700\n"
     ]
    },
    {
     "name": "stderr",
     "output_type": "stream",
     "text": [
      " 54%|█████▎    | 2686/5000 [58:11<49:54,  1.29s/it]"
     ]
    },
    {
     "name": "stdout",
     "output_type": "stream",
     "text": [
      "output.shape=torch.Size([20, 2423, 8])\n",
      "targets.shape=torch.Size([20, 2423, 8])\n",
      "torch.Size([48460]) torch.Size([48460])\n",
      "11994\n",
      "stacked output.shape=torch.Size([48460, 8])\n",
      "targets.shape=torch.Size([48460, 8])\n",
      "12460\n"
     ]
    },
    {
     "name": "stderr",
     "output_type": "stream",
     "text": [
      " 54%|█████▍    | 2689/5000 [58:15<49:23,  1.28s/it]"
     ]
    },
    {
     "name": "stdout",
     "output_type": "stream",
     "text": [
      "output.shape=torch.Size([20, 2423, 8])\n",
      "targets.shape=torch.Size([20, 2423, 8])\n",
      "torch.Size([48460]) torch.Size([48460])\n",
      "12011\n",
      "stacked output.shape=torch.Size([48460, 8])\n",
      "targets.shape=torch.Size([48460, 8])\n",
      "12620\n"
     ]
    },
    {
     "name": "stderr",
     "output_type": "stream",
     "text": [
      " 54%|█████▍    | 2692/5000 [58:19<49:12,  1.28s/it]"
     ]
    },
    {
     "name": "stdout",
     "output_type": "stream",
     "text": [
      "output.shape=torch.Size([20, 2423, 8])\n",
      "targets.shape=torch.Size([20, 2423, 8])\n",
      "torch.Size([48460]) torch.Size([48460])\n",
      "12068\n",
      "stacked output.shape=torch.Size([48460, 8])\n",
      "targets.shape=torch.Size([48460, 8])\n",
      "12680\n"
     ]
    },
    {
     "name": "stderr",
     "output_type": "stream",
     "text": [
      " 54%|█████▍    | 2695/5000 [58:22<49:24,  1.29s/it]"
     ]
    },
    {
     "name": "stdout",
     "output_type": "stream",
     "text": [
      "output.shape=torch.Size([20, 2423, 8])\n",
      "targets.shape=torch.Size([20, 2423, 8])\n",
      "torch.Size([48460]) torch.Size([48460])\n",
      "12059\n",
      "stacked output.shape=torch.Size([48460, 8])\n",
      "targets.shape=torch.Size([48460, 8])\n",
      "12660\n"
     ]
    },
    {
     "name": "stderr",
     "output_type": "stream",
     "text": [
      " 54%|█████▍    | 2698/5000 [58:26<49:08,  1.28s/it]"
     ]
    },
    {
     "name": "stdout",
     "output_type": "stream",
     "text": [
      "output.shape=torch.Size([20, 2423, 8])\n",
      "targets.shape=torch.Size([20, 2423, 8])\n",
      "torch.Size([48460]) torch.Size([48460])\n",
      "12055\n",
      "stacked output.shape=torch.Size([48460, 8])\n",
      "targets.shape=torch.Size([48460, 8])\n",
      "12680\n"
     ]
    },
    {
     "name": "stderr",
     "output_type": "stream",
     "text": [
      " 54%|█████▍    | 2701/5000 [58:30<49:24,  1.29s/it]"
     ]
    },
    {
     "name": "stdout",
     "output_type": "stream",
     "text": [
      "output.shape=torch.Size([20, 2423, 8])\n",
      "targets.shape=torch.Size([20, 2423, 8])\n",
      "torch.Size([48460]) torch.Size([48460])\n",
      "12025\n",
      "stacked output.shape=torch.Size([48460, 8])\n",
      "targets.shape=torch.Size([48460, 8])\n",
      "12660\n"
     ]
    },
    {
     "name": "stderr",
     "output_type": "stream",
     "text": [
      " 54%|█████▍    | 2704/5000 [58:34<49:52,  1.30s/it]"
     ]
    },
    {
     "name": "stdout",
     "output_type": "stream",
     "text": [
      "output.shape=torch.Size([20, 2423, 8])\n",
      "targets.shape=torch.Size([20, 2423, 8])\n",
      "torch.Size([48460]) torch.Size([48460])\n",
      "12022\n",
      "stacked output.shape=torch.Size([48460, 8])\n",
      "targets.shape=torch.Size([48460, 8])\n",
      "12580\n"
     ]
    },
    {
     "name": "stderr",
     "output_type": "stream",
     "text": [
      " 54%|█████▍    | 2707/5000 [58:38<51:04,  1.34s/it]"
     ]
    },
    {
     "name": "stdout",
     "output_type": "stream",
     "text": [
      "output.shape=torch.Size([20, 2423, 8])\n",
      "targets.shape=torch.Size([20, 2423, 8])\n",
      "torch.Size([48460]) torch.Size([48460])\n",
      "12007\n",
      "stacked output.shape=torch.Size([48460, 8])\n",
      "targets.shape=torch.Size([48460, 8])\n",
      "12680\n"
     ]
    },
    {
     "name": "stderr",
     "output_type": "stream",
     "text": [
      " 54%|█████▍    | 2710/5000 [58:42<50:14,  1.32s/it]"
     ]
    },
    {
     "name": "stdout",
     "output_type": "stream",
     "text": [
      "output.shape=torch.Size([20, 2423, 8])\n",
      "targets.shape=torch.Size([20, 2423, 8])\n",
      "torch.Size([48460]) torch.Size([48460])\n",
      "12043\n",
      "stacked output.shape=torch.Size([48460, 8])\n",
      "targets.shape=torch.Size([48460, 8])\n",
      "12480\n"
     ]
    },
    {
     "name": "stderr",
     "output_type": "stream",
     "text": [
      " 54%|█████▍    | 2713/5000 [58:45<49:53,  1.31s/it]"
     ]
    },
    {
     "name": "stdout",
     "output_type": "stream",
     "text": [
      "output.shape=torch.Size([20, 2423, 8])\n",
      "targets.shape=torch.Size([20, 2423, 8])\n",
      "torch.Size([48460]) torch.Size([48460])\n",
      "12004\n",
      "stacked output.shape=torch.Size([48460, 8])\n",
      "targets.shape=torch.Size([48460, 8])\n",
      "12740\n"
     ]
    },
    {
     "name": "stderr",
     "output_type": "stream",
     "text": [
      " 54%|█████▍    | 2716/5000 [58:49<49:21,  1.30s/it]"
     ]
    },
    {
     "name": "stdout",
     "output_type": "stream",
     "text": [
      "output.shape=torch.Size([20, 2423, 8])\n",
      "targets.shape=torch.Size([20, 2423, 8])\n",
      "torch.Size([48460]) torch.Size([48460])\n",
      "11981\n",
      "stacked output.shape=torch.Size([48460, 8])\n",
      "targets.shape=torch.Size([48460, 8])\n",
      "12460\n"
     ]
    },
    {
     "name": "stderr",
     "output_type": "stream",
     "text": [
      " 54%|█████▍    | 2719/5000 [58:53<49:05,  1.29s/it]"
     ]
    },
    {
     "name": "stdout",
     "output_type": "stream",
     "text": [
      "output.shape=torch.Size([20, 2423, 8])\n",
      "targets.shape=torch.Size([20, 2423, 8])\n",
      "torch.Size([48460]) torch.Size([48460])\n",
      "12038\n",
      "stacked output.shape=torch.Size([48460, 8])\n",
      "targets.shape=torch.Size([48460, 8])\n",
      "12660\n"
     ]
    },
    {
     "name": "stderr",
     "output_type": "stream",
     "text": [
      " 54%|█████▍    | 2722/5000 [58:57<48:46,  1.28s/it]"
     ]
    },
    {
     "name": "stdout",
     "output_type": "stream",
     "text": [
      "output.shape=torch.Size([20, 2423, 8])\n",
      "targets.shape=torch.Size([20, 2423, 8])\n",
      "torch.Size([48460]) torch.Size([48460])\n",
      "12028\n",
      "stacked output.shape=torch.Size([48460, 8])\n",
      "targets.shape=torch.Size([48460, 8])\n",
      "12540\n"
     ]
    },
    {
     "name": "stderr",
     "output_type": "stream",
     "text": [
      " 55%|█████▍    | 2725/5000 [59:01<48:56,  1.29s/it]"
     ]
    },
    {
     "name": "stdout",
     "output_type": "stream",
     "text": [
      "output.shape=torch.Size([20, 2423, 8])\n",
      "targets.shape=torch.Size([20, 2423, 8])\n",
      "torch.Size([48460]) torch.Size([48460])\n",
      "12065\n",
      "stacked output.shape=torch.Size([48460, 8])\n",
      "targets.shape=torch.Size([48460, 8])\n",
      "12560\n"
     ]
    },
    {
     "name": "stderr",
     "output_type": "stream",
     "text": [
      " 55%|█████▍    | 2728/5000 [59:04<48:55,  1.29s/it]"
     ]
    },
    {
     "name": "stdout",
     "output_type": "stream",
     "text": [
      "output.shape=torch.Size([20, 2423, 8])\n",
      "targets.shape=torch.Size([20, 2423, 8])\n",
      "torch.Size([48460]) torch.Size([48460])\n",
      "12072\n",
      "stacked output.shape=torch.Size([48460, 8])\n",
      "targets.shape=torch.Size([48460, 8])\n",
      "12780\n"
     ]
    },
    {
     "name": "stderr",
     "output_type": "stream",
     "text": [
      " 55%|█████▍    | 2731/5000 [59:08<48:59,  1.30s/it]"
     ]
    },
    {
     "name": "stdout",
     "output_type": "stream",
     "text": [
      "output.shape=torch.Size([20, 2423, 8])\n",
      "targets.shape=torch.Size([20, 2423, 8])\n",
      "torch.Size([48460]) torch.Size([48460])\n",
      "12020\n",
      "stacked output.shape=torch.Size([48460, 8])\n",
      "targets.shape=torch.Size([48460, 8])\n",
      "12700\n"
     ]
    },
    {
     "name": "stderr",
     "output_type": "stream",
     "text": [
      " 55%|█████▍    | 2734/5000 [59:12<49:02,  1.30s/it]"
     ]
    },
    {
     "name": "stdout",
     "output_type": "stream",
     "text": [
      "output.shape=torch.Size([20, 2423, 8])\n",
      "targets.shape=torch.Size([20, 2423, 8])\n",
      "torch.Size([48460]) torch.Size([48460])\n",
      "12052\n",
      "stacked output.shape=torch.Size([48460, 8])\n",
      "targets.shape=torch.Size([48460, 8])\n",
      "12500\n"
     ]
    },
    {
     "name": "stderr",
     "output_type": "stream",
     "text": [
      " 55%|█████▍    | 2737/5000 [59:16<49:21,  1.31s/it]"
     ]
    },
    {
     "name": "stdout",
     "output_type": "stream",
     "text": [
      "output.shape=torch.Size([20, 2423, 8])\n",
      "targets.shape=torch.Size([20, 2423, 8])\n",
      "torch.Size([48460]) torch.Size([48460])\n",
      "12054\n",
      "stacked output.shape=torch.Size([48460, 8])\n",
      "targets.shape=torch.Size([48460, 8])\n",
      "12600\n"
     ]
    },
    {
     "name": "stderr",
     "output_type": "stream",
     "text": [
      " 55%|█████▍    | 2740/5000 [59:20<49:34,  1.32s/it]"
     ]
    },
    {
     "name": "stdout",
     "output_type": "stream",
     "text": [
      "output.shape=torch.Size([20, 2423, 8])\n",
      "targets.shape=torch.Size([20, 2423, 8])\n",
      "torch.Size([48460]) torch.Size([48460])\n",
      "12140\n",
      "stacked output.shape=torch.Size([48460, 8])\n",
      "targets.shape=torch.Size([48460, 8])\n",
      "12920\n"
     ]
    },
    {
     "name": "stderr",
     "output_type": "stream",
     "text": [
      " 55%|█████▍    | 2743/5000 [59:24<49:33,  1.32s/it]"
     ]
    },
    {
     "name": "stdout",
     "output_type": "stream",
     "text": [
      "output.shape=torch.Size([20, 2423, 8])\n",
      "targets.shape=torch.Size([20, 2423, 8])\n",
      "torch.Size([48460]) torch.Size([48460])\n",
      "12098\n",
      "stacked output.shape=torch.Size([48460, 8])\n",
      "targets.shape=torch.Size([48460, 8])\n",
      "12640\n"
     ]
    },
    {
     "name": "stderr",
     "output_type": "stream",
     "text": [
      " 55%|█████▍    | 2746/5000 [59:27<48:44,  1.30s/it]"
     ]
    },
    {
     "name": "stdout",
     "output_type": "stream",
     "text": [
      "output.shape=torch.Size([20, 2423, 8])\n",
      "targets.shape=torch.Size([20, 2423, 8])\n",
      "torch.Size([48460]) torch.Size([48460])\n",
      "12006\n",
      "stacked output.shape=torch.Size([48460, 8])\n",
      "targets.shape=torch.Size([48460, 8])\n",
      "12580\n"
     ]
    },
    {
     "name": "stderr",
     "output_type": "stream",
     "text": [
      " 55%|█████▍    | 2749/5000 [59:31<48:19,  1.29s/it]"
     ]
    },
    {
     "name": "stdout",
     "output_type": "stream",
     "text": [
      "output.shape=torch.Size([20, 2423, 8])\n",
      "targets.shape=torch.Size([20, 2423, 8])\n",
      "torch.Size([48460]) torch.Size([48460])\n",
      "12044\n",
      "stacked output.shape=torch.Size([48460, 8])\n",
      "targets.shape=torch.Size([48460, 8])\n",
      "12660\n"
     ]
    },
    {
     "name": "stderr",
     "output_type": "stream",
     "text": [
      " 55%|█████▌    | 2752/5000 [59:35<48:12,  1.29s/it]"
     ]
    },
    {
     "name": "stdout",
     "output_type": "stream",
     "text": [
      "output.shape=torch.Size([20, 2423, 8])\n",
      "targets.shape=torch.Size([20, 2423, 8])\n",
      "torch.Size([48460]) torch.Size([48460])\n",
      "12034\n",
      "stacked output.shape=torch.Size([48460, 8])\n",
      "targets.shape=torch.Size([48460, 8])\n",
      "12660\n"
     ]
    },
    {
     "name": "stderr",
     "output_type": "stream",
     "text": [
      " 55%|█████▌    | 2755/5000 [59:39<48:18,  1.29s/it]"
     ]
    },
    {
     "name": "stdout",
     "output_type": "stream",
     "text": [
      "output.shape=torch.Size([20, 2423, 8])\n",
      "targets.shape=torch.Size([20, 2423, 8])\n",
      "torch.Size([48460]) torch.Size([48460])\n",
      "12032\n",
      "stacked output.shape=torch.Size([48460, 8])\n",
      "targets.shape=torch.Size([48460, 8])\n",
      "12680\n"
     ]
    },
    {
     "name": "stderr",
     "output_type": "stream",
     "text": [
      " 55%|█████▌    | 2758/5000 [59:42<48:31,  1.30s/it]"
     ]
    },
    {
     "name": "stdout",
     "output_type": "stream",
     "text": [
      "output.shape=torch.Size([20, 2423, 8])\n",
      "targets.shape=torch.Size([20, 2423, 8])\n",
      "torch.Size([48460]) torch.Size([48460])\n",
      "12042\n",
      "stacked output.shape=torch.Size([48460, 8])\n",
      "targets.shape=torch.Size([48460, 8])\n",
      "12600\n"
     ]
    },
    {
     "name": "stderr",
     "output_type": "stream",
     "text": [
      " 55%|█████▌    | 2761/5000 [59:46<48:34,  1.30s/it]"
     ]
    },
    {
     "name": "stdout",
     "output_type": "stream",
     "text": [
      "output.shape=torch.Size([20, 2423, 8])\n",
      "targets.shape=torch.Size([20, 2423, 8])\n",
      "torch.Size([48460]) torch.Size([48460])\n",
      "12009\n",
      "stacked output.shape=torch.Size([48460, 8])\n",
      "targets.shape=torch.Size([48460, 8])\n",
      "12600\n"
     ]
    },
    {
     "name": "stderr",
     "output_type": "stream",
     "text": [
      " 55%|█████▌    | 2764/5000 [59:50<48:15,  1.29s/it]"
     ]
    },
    {
     "name": "stdout",
     "output_type": "stream",
     "text": [
      "output.shape=torch.Size([20, 2423, 8])\n",
      "targets.shape=torch.Size([20, 2423, 8])\n",
      "torch.Size([48460]) torch.Size([48460])\n",
      "12018\n",
      "stacked output.shape=torch.Size([48460, 8])\n",
      "targets.shape=torch.Size([48460, 8])\n",
      "12500\n"
     ]
    },
    {
     "name": "stderr",
     "output_type": "stream",
     "text": [
      " 55%|█████▌    | 2767/5000 [59:54<48:07,  1.29s/it]"
     ]
    },
    {
     "name": "stdout",
     "output_type": "stream",
     "text": [
      "output.shape=torch.Size([20, 2423, 8])\n",
      "targets.shape=torch.Size([20, 2423, 8])\n",
      "torch.Size([48460]) torch.Size([48460])\n",
      "12071\n",
      "stacked output.shape=torch.Size([48460, 8])\n",
      "targets.shape=torch.Size([48460, 8])\n",
      "12660\n"
     ]
    },
    {
     "name": "stderr",
     "output_type": "stream",
     "text": [
      " 55%|█████▌    | 2770/5000 [59:58<47:48,  1.29s/it]"
     ]
    },
    {
     "name": "stdout",
     "output_type": "stream",
     "text": [
      "output.shape=torch.Size([20, 2423, 8])\n",
      "targets.shape=torch.Size([20, 2423, 8])\n",
      "torch.Size([48460]) torch.Size([48460])\n",
      "12032\n",
      "stacked output.shape=torch.Size([48460, 8])\n",
      "targets.shape=torch.Size([48460, 8])\n",
      "12580\n"
     ]
    },
    {
     "name": "stderr",
     "output_type": "stream",
     "text": [
      " 55%|█████▌    | 2773/5000 [1:00:01<48:23,  1.30s/it]"
     ]
    },
    {
     "name": "stdout",
     "output_type": "stream",
     "text": [
      "output.shape=torch.Size([20, 2423, 8])\n",
      "targets.shape=torch.Size([20, 2423, 8])\n",
      "torch.Size([48460]) torch.Size([48460])\n",
      "12063\n",
      "stacked output.shape=torch.Size([48460, 8])\n",
      "targets.shape=torch.Size([48460, 8])\n",
      "12820\n"
     ]
    },
    {
     "name": "stderr",
     "output_type": "stream",
     "text": [
      " 56%|█████▌    | 2776/5000 [1:00:05<47:54,  1.29s/it]"
     ]
    },
    {
     "name": "stdout",
     "output_type": "stream",
     "text": [
      "output.shape=torch.Size([20, 2423, 8])\n",
      "targets.shape=torch.Size([20, 2423, 8])\n",
      "torch.Size([48460]) torch.Size([48460])\n",
      "12017\n",
      "stacked output.shape=torch.Size([48460, 8])\n",
      "targets.shape=torch.Size([48460, 8])\n",
      "12720\n"
     ]
    },
    {
     "name": "stderr",
     "output_type": "stream",
     "text": [
      " 56%|█████▌    | 2779/5000 [1:00:09<47:49,  1.29s/it]"
     ]
    },
    {
     "name": "stdout",
     "output_type": "stream",
     "text": [
      "output.shape=torch.Size([20, 2423, 8])\n",
      "targets.shape=torch.Size([20, 2423, 8])\n",
      "torch.Size([48460]) torch.Size([48460])\n",
      "12004\n",
      "stacked output.shape=torch.Size([48460, 8])\n",
      "targets.shape=torch.Size([48460, 8])\n",
      "12640\n"
     ]
    },
    {
     "name": "stderr",
     "output_type": "stream",
     "text": [
      " 56%|█████▌    | 2782/5000 [1:00:13<47:16,  1.28s/it]"
     ]
    },
    {
     "name": "stdout",
     "output_type": "stream",
     "text": [
      "output.shape=torch.Size([20, 2423, 8])\n",
      "targets.shape=torch.Size([20, 2423, 8])\n",
      "torch.Size([48460]) torch.Size([48460])\n",
      "12017\n",
      "stacked output.shape=torch.Size([48460, 8])\n",
      "targets.shape=torch.Size([48460, 8])\n",
      "12440\n"
     ]
    },
    {
     "name": "stderr",
     "output_type": "stream",
     "text": [
      " 56%|█████▌    | 2785/5000 [1:00:17<47:24,  1.28s/it]"
     ]
    },
    {
     "name": "stdout",
     "output_type": "stream",
     "text": [
      "output.shape=torch.Size([20, 2423, 8])\n",
      "targets.shape=torch.Size([20, 2423, 8])\n",
      "torch.Size([48460]) torch.Size([48460])\n",
      "12029\n",
      "stacked output.shape=torch.Size([48460, 8])\n",
      "targets.shape=torch.Size([48460, 8])\n",
      "13100\n"
     ]
    },
    {
     "name": "stderr",
     "output_type": "stream",
     "text": [
      " 56%|█████▌    | 2788/5000 [1:00:20<48:39,  1.32s/it]"
     ]
    },
    {
     "name": "stdout",
     "output_type": "stream",
     "text": [
      "output.shape=torch.Size([20, 2423, 8])\n",
      "targets.shape=torch.Size([20, 2423, 8])\n",
      "torch.Size([48460]) torch.Size([48460])\n",
      "12026\n",
      "stacked output.shape=torch.Size([48460, 8])\n",
      "targets.shape=torch.Size([48460, 8])\n",
      "12620\n"
     ]
    },
    {
     "name": "stderr",
     "output_type": "stream",
     "text": [
      " 56%|█████▌    | 2791/5000 [1:00:24<48:30,  1.32s/it]"
     ]
    },
    {
     "name": "stdout",
     "output_type": "stream",
     "text": [
      "output.shape=torch.Size([20, 2423, 8])\n",
      "targets.shape=torch.Size([20, 2423, 8])\n",
      "torch.Size([48460]) torch.Size([48460])\n",
      "12027\n",
      "stacked output.shape=torch.Size([48460, 8])\n",
      "targets.shape=torch.Size([48460, 8])\n",
      "12820\n"
     ]
    },
    {
     "name": "stderr",
     "output_type": "stream",
     "text": [
      " 56%|█████▌    | 2794/5000 [1:00:28<48:01,  1.31s/it]"
     ]
    },
    {
     "name": "stdout",
     "output_type": "stream",
     "text": [
      "output.shape=torch.Size([20, 2423, 8])\n",
      "targets.shape=torch.Size([20, 2423, 8])\n",
      "torch.Size([48460]) torch.Size([48460])\n",
      "11964\n",
      "stacked output.shape=torch.Size([48460, 8])\n",
      "targets.shape=torch.Size([48460, 8])\n",
      "12340\n"
     ]
    },
    {
     "name": "stderr",
     "output_type": "stream",
     "text": [
      " 56%|█████▌    | 2797/5000 [1:00:32<47:23,  1.29s/it]"
     ]
    },
    {
     "name": "stdout",
     "output_type": "stream",
     "text": [
      "output.shape=torch.Size([20, 2423, 8])\n",
      "targets.shape=torch.Size([20, 2423, 8])\n",
      "torch.Size([48460]) torch.Size([48460])\n",
      "12015\n",
      "stacked output.shape=torch.Size([48460, 8])\n",
      "targets.shape=torch.Size([48460, 8])\n",
      "12760\n"
     ]
    },
    {
     "name": "stderr",
     "output_type": "stream",
     "text": [
      " 56%|█████▌    | 2800/5000 [1:00:36<47:16,  1.29s/it]"
     ]
    },
    {
     "name": "stdout",
     "output_type": "stream",
     "text": [
      "output.shape=torch.Size([20, 2423, 8])\n",
      "targets.shape=torch.Size([20, 2423, 8])\n",
      "torch.Size([48460]) torch.Size([48460])\n",
      "12021\n",
      "stacked output.shape=torch.Size([48460, 8])\n",
      "targets.shape=torch.Size([48460, 8])\n",
      "12800\n"
     ]
    },
    {
     "name": "stderr",
     "output_type": "stream",
     "text": [
      " 56%|█████▌    | 2803/5000 [1:00:39<47:33,  1.30s/it]"
     ]
    },
    {
     "name": "stdout",
     "output_type": "stream",
     "text": [
      "output.shape=torch.Size([20, 2423, 8])\n",
      "targets.shape=torch.Size([20, 2423, 8])\n",
      "torch.Size([48460]) torch.Size([48460])\n",
      "12005\n",
      "stacked output.shape=torch.Size([48460, 8])\n",
      "targets.shape=torch.Size([48460, 8])\n",
      "12460\n"
     ]
    },
    {
     "name": "stderr",
     "output_type": "stream",
     "text": [
      " 56%|█████▌    | 2806/5000 [1:00:43<47:22,  1.30s/it]"
     ]
    },
    {
     "name": "stdout",
     "output_type": "stream",
     "text": [
      "output.shape=torch.Size([20, 2423, 8])\n",
      "targets.shape=torch.Size([20, 2423, 8])\n",
      "torch.Size([48460]) torch.Size([48460])\n",
      "12028\n",
      "stacked output.shape=torch.Size([48460, 8])\n",
      "targets.shape=torch.Size([48460, 8])\n",
      "12460\n"
     ]
    },
    {
     "name": "stderr",
     "output_type": "stream",
     "text": [
      " 56%|█████▌    | 2809/5000 [1:00:47<47:54,  1.31s/it]"
     ]
    },
    {
     "name": "stdout",
     "output_type": "stream",
     "text": [
      "output.shape=torch.Size([20, 2423, 8])\n",
      "targets.shape=torch.Size([20, 2423, 8])\n",
      "torch.Size([48460]) torch.Size([48460])\n",
      "12086\n",
      "stacked output.shape=torch.Size([48460, 8])\n",
      "targets.shape=torch.Size([48460, 8])\n",
      "12840\n"
     ]
    },
    {
     "name": "stderr",
     "output_type": "stream",
     "text": [
      " 56%|█████▌    | 2812/5000 [1:00:51<47:07,  1.29s/it]"
     ]
    },
    {
     "name": "stdout",
     "output_type": "stream",
     "text": [
      "output.shape=torch.Size([20, 2423, 8])\n",
      "targets.shape=torch.Size([20, 2423, 8])\n",
      "torch.Size([48460]) torch.Size([48460])\n",
      "12020\n",
      "stacked output.shape=torch.Size([48460, 8])\n",
      "targets.shape=torch.Size([48460, 8])\n",
      "12860\n"
     ]
    },
    {
     "name": "stderr",
     "output_type": "stream",
     "text": [
      " 56%|█████▋    | 2815/5000 [1:00:55<47:00,  1.29s/it]"
     ]
    },
    {
     "name": "stdout",
     "output_type": "stream",
     "text": [
      "output.shape=torch.Size([20, 2423, 8])\n",
      "targets.shape=torch.Size([20, 2423, 8])\n",
      "torch.Size([48460]) torch.Size([48460])\n",
      "12051\n",
      "stacked output.shape=torch.Size([48460, 8])\n",
      "targets.shape=torch.Size([48460, 8])\n",
      "12740\n"
     ]
    },
    {
     "name": "stderr",
     "output_type": "stream",
     "text": [
      " 56%|█████▋    | 2818/5000 [1:00:58<46:50,  1.29s/it]"
     ]
    },
    {
     "name": "stdout",
     "output_type": "stream",
     "text": [
      "output.shape=torch.Size([20, 2423, 8])\n",
      "targets.shape=torch.Size([20, 2423, 8])\n",
      "torch.Size([48460]) torch.Size([48460])\n",
      "11983\n",
      "stacked output.shape=torch.Size([48460, 8])\n",
      "targets.shape=torch.Size([48460, 8])\n",
      "12500\n"
     ]
    },
    {
     "name": "stderr",
     "output_type": "stream",
     "text": [
      " 56%|█████▋    | 2821/5000 [1:01:02<47:00,  1.29s/it]"
     ]
    },
    {
     "name": "stdout",
     "output_type": "stream",
     "text": [
      "output.shape=torch.Size([20, 2423, 8])\n",
      "targets.shape=torch.Size([20, 2423, 8])\n",
      "torch.Size([48460]) torch.Size([48460])\n",
      "12041\n",
      "stacked output.shape=torch.Size([48460, 8])\n",
      "targets.shape=torch.Size([48460, 8])\n",
      "12720\n"
     ]
    },
    {
     "name": "stderr",
     "output_type": "stream",
     "text": [
      " 56%|█████▋    | 2824/5000 [1:01:06<46:39,  1.29s/it]"
     ]
    },
    {
     "name": "stdout",
     "output_type": "stream",
     "text": [
      "output.shape=torch.Size([20, 2423, 8])\n",
      "targets.shape=torch.Size([20, 2423, 8])\n",
      "torch.Size([48460]) torch.Size([48460])\n",
      "12079\n",
      "stacked output.shape=torch.Size([48460, 8])\n",
      "targets.shape=torch.Size([48460, 8])\n",
      "12580\n"
     ]
    },
    {
     "name": "stderr",
     "output_type": "stream",
     "text": [
      " 57%|█████▋    | 2827/5000 [1:01:10<46:23,  1.28s/it]"
     ]
    },
    {
     "name": "stdout",
     "output_type": "stream",
     "text": [
      "output.shape=torch.Size([20, 2423, 8])\n",
      "targets.shape=torch.Size([20, 2423, 8])\n",
      "torch.Size([48460]) torch.Size([48460])\n",
      "11994\n",
      "stacked output.shape=torch.Size([48460, 8])\n",
      "targets.shape=torch.Size([48460, 8])\n",
      "12920\n"
     ]
    },
    {
     "name": "stderr",
     "output_type": "stream",
     "text": [
      " 57%|█████▋    | 2830/5000 [1:01:13<46:17,  1.28s/it]"
     ]
    },
    {
     "name": "stdout",
     "output_type": "stream",
     "text": [
      "output.shape=torch.Size([20, 2423, 8])\n",
      "targets.shape=torch.Size([20, 2423, 8])\n",
      "torch.Size([48460]) torch.Size([48460])\n",
      "12069\n",
      "stacked output.shape=torch.Size([48460, 8])\n",
      "targets.shape=torch.Size([48460, 8])\n",
      "12960\n"
     ]
    },
    {
     "name": "stderr",
     "output_type": "stream",
     "text": [
      " 57%|█████▋    | 2833/5000 [1:01:17<46:34,  1.29s/it]"
     ]
    },
    {
     "name": "stdout",
     "output_type": "stream",
     "text": [
      "output.shape=torch.Size([20, 2423, 8])\n",
      "targets.shape=torch.Size([20, 2423, 8])\n",
      "torch.Size([48460]) torch.Size([48460])\n",
      "11989\n",
      "stacked output.shape=torch.Size([48460, 8])\n",
      "targets.shape=torch.Size([48460, 8])\n",
      "12840\n"
     ]
    },
    {
     "name": "stderr",
     "output_type": "stream",
     "text": [
      " 57%|█████▋    | 2836/5000 [1:01:21<46:21,  1.29s/it]"
     ]
    },
    {
     "name": "stdout",
     "output_type": "stream",
     "text": [
      "output.shape=torch.Size([20, 2423, 8])\n",
      "targets.shape=torch.Size([20, 2423, 8])\n",
      "torch.Size([48460]) torch.Size([48460])\n",
      "12064\n",
      "stacked output.shape=torch.Size([48460, 8])\n",
      "targets.shape=torch.Size([48460, 8])\n",
      "12900\n"
     ]
    },
    {
     "name": "stderr",
     "output_type": "stream",
     "text": [
      " 57%|█████▋    | 2839/5000 [1:01:25<46:55,  1.30s/it]"
     ]
    },
    {
     "name": "stdout",
     "output_type": "stream",
     "text": [
      "output.shape=torch.Size([20, 2423, 8])\n",
      "targets.shape=torch.Size([20, 2423, 8])\n",
      "torch.Size([48460]) torch.Size([48460])\n",
      "12003\n",
      "stacked output.shape=torch.Size([48460, 8])\n",
      "targets.shape=torch.Size([48460, 8])\n",
      "12600\n"
     ]
    },
    {
     "name": "stderr",
     "output_type": "stream",
     "text": [
      " 57%|█████▋    | 2842/5000 [1:01:29<46:15,  1.29s/it]"
     ]
    },
    {
     "name": "stdout",
     "output_type": "stream",
     "text": [
      "output.shape=torch.Size([20, 2423, 8])\n",
      "targets.shape=torch.Size([20, 2423, 8])\n",
      "torch.Size([48460]) torch.Size([48460])\n",
      "12034\n",
      "stacked output.shape=torch.Size([48460, 8])\n",
      "targets.shape=torch.Size([48460, 8])\n",
      "12760\n"
     ]
    },
    {
     "name": "stderr",
     "output_type": "stream",
     "text": [
      " 57%|█████▋    | 2845/5000 [1:01:32<46:21,  1.29s/it]"
     ]
    },
    {
     "name": "stdout",
     "output_type": "stream",
     "text": [
      "output.shape=torch.Size([20, 2423, 8])\n",
      "targets.shape=torch.Size([20, 2423, 8])\n",
      "torch.Size([48460]) torch.Size([48460])\n",
      "12022\n",
      "stacked output.shape=torch.Size([48460, 8])\n",
      "targets.shape=torch.Size([48460, 8])\n",
      "12700\n"
     ]
    },
    {
     "name": "stderr",
     "output_type": "stream",
     "text": [
      " 57%|█████▋    | 2848/5000 [1:01:36<46:00,  1.28s/it]"
     ]
    },
    {
     "name": "stdout",
     "output_type": "stream",
     "text": [
      "output.shape=torch.Size([20, 2423, 8])\n",
      "targets.shape=torch.Size([20, 2423, 8])\n",
      "torch.Size([48460]) torch.Size([48460])\n",
      "11991\n",
      "stacked output.shape=torch.Size([48460, 8])\n",
      "targets.shape=torch.Size([48460, 8])\n",
      "12720\n"
     ]
    },
    {
     "name": "stderr",
     "output_type": "stream",
     "text": [
      " 57%|█████▋    | 2851/5000 [1:01:40<46:09,  1.29s/it]"
     ]
    },
    {
     "name": "stdout",
     "output_type": "stream",
     "text": [
      "output.shape=torch.Size([20, 2423, 8])\n",
      "targets.shape=torch.Size([20, 2423, 8])\n",
      "torch.Size([48460]) torch.Size([48460])\n",
      "12006\n",
      "stacked output.shape=torch.Size([48460, 8])\n",
      "targets.shape=torch.Size([48460, 8])\n",
      "12940\n"
     ]
    },
    {
     "name": "stderr",
     "output_type": "stream",
     "text": [
      " 57%|█████▋    | 2854/5000 [1:01:44<46:02,  1.29s/it]"
     ]
    },
    {
     "name": "stdout",
     "output_type": "stream",
     "text": [
      "output.shape=torch.Size([20, 2423, 8])\n",
      "targets.shape=torch.Size([20, 2423, 8])\n",
      "torch.Size([48460]) torch.Size([48460])\n",
      "11988\n",
      "stacked output.shape=torch.Size([48460, 8])\n",
      "targets.shape=torch.Size([48460, 8])\n",
      "12900\n"
     ]
    },
    {
     "name": "stderr",
     "output_type": "stream",
     "text": [
      " 57%|█████▋    | 2857/5000 [1:01:47<46:23,  1.30s/it]"
     ]
    },
    {
     "name": "stdout",
     "output_type": "stream",
     "text": [
      "output.shape=torch.Size([20, 2423, 8])\n",
      "targets.shape=torch.Size([20, 2423, 8])\n",
      "torch.Size([48460]) torch.Size([48460])\n",
      "12028\n",
      "stacked output.shape=torch.Size([48460, 8])\n",
      "targets.shape=torch.Size([48460, 8])\n",
      "12840\n"
     ]
    },
    {
     "name": "stderr",
     "output_type": "stream",
     "text": [
      " 57%|█████▋    | 2860/5000 [1:01:51<45:58,  1.29s/it]"
     ]
    },
    {
     "name": "stdout",
     "output_type": "stream",
     "text": [
      "output.shape=torch.Size([20, 2423, 8])\n",
      "targets.shape=torch.Size([20, 2423, 8])\n",
      "torch.Size([48460]) torch.Size([48460])\n",
      "11999\n",
      "stacked output.shape=torch.Size([48460, 8])\n",
      "targets.shape=torch.Size([48460, 8])\n",
      "12520\n"
     ]
    },
    {
     "name": "stderr",
     "output_type": "stream",
     "text": [
      " 57%|█████▋    | 2863/5000 [1:01:55<45:54,  1.29s/it]"
     ]
    },
    {
     "name": "stdout",
     "output_type": "stream",
     "text": [
      "output.shape=torch.Size([20, 2423, 8])\n",
      "targets.shape=torch.Size([20, 2423, 8])\n",
      "torch.Size([48460]) torch.Size([48460])\n",
      "12012\n",
      "stacked output.shape=torch.Size([48460, 8])\n",
      "targets.shape=torch.Size([48460, 8])\n",
      "12640\n"
     ]
    },
    {
     "name": "stderr",
     "output_type": "stream",
     "text": [
      " 57%|█████▋    | 2866/5000 [1:01:59<45:39,  1.28s/it]"
     ]
    },
    {
     "name": "stdout",
     "output_type": "stream",
     "text": [
      "output.shape=torch.Size([20, 2423, 8])\n",
      "targets.shape=torch.Size([20, 2423, 8])\n",
      "torch.Size([48460]) torch.Size([48460])\n",
      "12013\n",
      "stacked output.shape=torch.Size([48460, 8])\n",
      "targets.shape=torch.Size([48460, 8])\n",
      "12600\n"
     ]
    },
    {
     "name": "stderr",
     "output_type": "stream",
     "text": [
      " 57%|█████▋    | 2869/5000 [1:02:02<45:32,  1.28s/it]"
     ]
    },
    {
     "name": "stdout",
     "output_type": "stream",
     "text": [
      "output.shape=torch.Size([20, 2423, 8])\n",
      "targets.shape=torch.Size([20, 2423, 8])\n",
      "torch.Size([48460]) torch.Size([48460])\n",
      "12065\n",
      "stacked output.shape=torch.Size([48460, 8])\n",
      "targets.shape=torch.Size([48460, 8])\n",
      "12720\n"
     ]
    },
    {
     "name": "stderr",
     "output_type": "stream",
     "text": [
      " 57%|█████▋    | 2872/5000 [1:02:06<45:33,  1.28s/it]"
     ]
    },
    {
     "name": "stdout",
     "output_type": "stream",
     "text": [
      "output.shape=torch.Size([20, 2423, 8])\n",
      "targets.shape=torch.Size([20, 2423, 8])\n",
      "torch.Size([48460]) torch.Size([48460])\n",
      "12036\n",
      "stacked output.shape=torch.Size([48460, 8])\n",
      "targets.shape=torch.Size([48460, 8])\n",
      "12700\n"
     ]
    },
    {
     "name": "stderr",
     "output_type": "stream",
     "text": [
      " 57%|█████▊    | 2875/5000 [1:02:10<45:41,  1.29s/it]"
     ]
    },
    {
     "name": "stdout",
     "output_type": "stream",
     "text": [
      "output.shape=torch.Size([20, 2423, 8])\n",
      "targets.shape=torch.Size([20, 2423, 8])\n",
      "torch.Size([48460]) torch.Size([48460])\n",
      "12028\n",
      "stacked output.shape=torch.Size([48460, 8])\n",
      "targets.shape=torch.Size([48460, 8])\n",
      "12720\n"
     ]
    },
    {
     "name": "stderr",
     "output_type": "stream",
     "text": [
      " 58%|█████▊    | 2878/5000 [1:02:14<45:47,  1.29s/it]"
     ]
    },
    {
     "name": "stdout",
     "output_type": "stream",
     "text": [
      "output.shape=torch.Size([20, 2423, 8])\n",
      "targets.shape=torch.Size([20, 2423, 8])\n",
      "torch.Size([48460]) torch.Size([48460])\n",
      "12075\n",
      "stacked output.shape=torch.Size([48460, 8])\n",
      "targets.shape=torch.Size([48460, 8])\n",
      "12660\n"
     ]
    },
    {
     "name": "stderr",
     "output_type": "stream",
     "text": [
      " 58%|█████▊    | 2881/5000 [1:02:18<45:46,  1.30s/it]"
     ]
    },
    {
     "name": "stdout",
     "output_type": "stream",
     "text": [
      "output.shape=torch.Size([20, 2423, 8])\n",
      "targets.shape=torch.Size([20, 2423, 8])\n",
      "torch.Size([48460]) torch.Size([48460])\n",
      "12029\n",
      "stacked output.shape=torch.Size([48460, 8])\n",
      "targets.shape=torch.Size([48460, 8])\n",
      "12700\n"
     ]
    },
    {
     "name": "stderr",
     "output_type": "stream",
     "text": [
      " 58%|█████▊    | 2884/5000 [1:02:21<45:22,  1.29s/it]"
     ]
    },
    {
     "name": "stdout",
     "output_type": "stream",
     "text": [
      "output.shape=torch.Size([20, 2423, 8])\n",
      "targets.shape=torch.Size([20, 2423, 8])\n",
      "torch.Size([48460]) torch.Size([48460])\n",
      "12074\n",
      "stacked output.shape=torch.Size([48460, 8])\n",
      "targets.shape=torch.Size([48460, 8])\n",
      "12580\n"
     ]
    },
    {
     "name": "stderr",
     "output_type": "stream",
     "text": [
      " 58%|█████▊    | 2887/5000 [1:02:25<45:19,  1.29s/it]"
     ]
    },
    {
     "name": "stdout",
     "output_type": "stream",
     "text": [
      "output.shape=torch.Size([20, 2423, 8])\n",
      "targets.shape=torch.Size([20, 2423, 8])\n",
      "torch.Size([48460]) torch.Size([48460])\n",
      "12018\n",
      "stacked output.shape=torch.Size([48460, 8])\n",
      "targets.shape=torch.Size([48460, 8])\n",
      "12920\n"
     ]
    },
    {
     "name": "stderr",
     "output_type": "stream",
     "text": [
      " 58%|█████▊    | 2890/5000 [1:02:29<45:09,  1.28s/it]"
     ]
    },
    {
     "name": "stdout",
     "output_type": "stream",
     "text": [
      "output.shape=torch.Size([20, 2423, 8])\n",
      "targets.shape=torch.Size([20, 2423, 8])\n",
      "torch.Size([48460]) torch.Size([48460])\n",
      "12039\n",
      "stacked output.shape=torch.Size([48460, 8])\n",
      "targets.shape=torch.Size([48460, 8])\n",
      "12740\n"
     ]
    },
    {
     "name": "stderr",
     "output_type": "stream",
     "text": [
      " 58%|█████▊    | 2893/5000 [1:02:33<45:04,  1.28s/it]"
     ]
    },
    {
     "name": "stdout",
     "output_type": "stream",
     "text": [
      "output.shape=torch.Size([20, 2423, 8])\n",
      "targets.shape=torch.Size([20, 2423, 8])\n",
      "torch.Size([48460]) torch.Size([48460])\n",
      "12033\n",
      "stacked output.shape=torch.Size([48460, 8])\n",
      "targets.shape=torch.Size([48460, 8])\n",
      "12820\n"
     ]
    },
    {
     "name": "stderr",
     "output_type": "stream",
     "text": [
      " 58%|█████▊    | 2896/5000 [1:02:36<45:11,  1.29s/it]"
     ]
    },
    {
     "name": "stdout",
     "output_type": "stream",
     "text": [
      "output.shape=torch.Size([20, 2423, 8])\n",
      "targets.shape=torch.Size([20, 2423, 8])\n",
      "torch.Size([48460]) torch.Size([48460])\n",
      "12121\n",
      "stacked output.shape=torch.Size([48460, 8])\n",
      "targets.shape=torch.Size([48460, 8])\n",
      "12680\n"
     ]
    },
    {
     "name": "stderr",
     "output_type": "stream",
     "text": [
      " 58%|█████▊    | 2899/5000 [1:02:40<47:19,  1.35s/it]"
     ]
    },
    {
     "name": "stdout",
     "output_type": "stream",
     "text": [
      "output.shape=torch.Size([20, 2423, 8])\n",
      "targets.shape=torch.Size([20, 2423, 8])\n",
      "torch.Size([48460]) torch.Size([48460])\n",
      "12069\n",
      "stacked output.shape=torch.Size([48460, 8])\n",
      "targets.shape=torch.Size([48460, 8])\n",
      "12700\n"
     ]
    },
    {
     "name": "stderr",
     "output_type": "stream",
     "text": [
      " 58%|█████▊    | 2902/5000 [1:02:44<46:02,  1.32s/it]"
     ]
    },
    {
     "name": "stdout",
     "output_type": "stream",
     "text": [
      "output.shape=torch.Size([20, 2423, 8])\n",
      "targets.shape=torch.Size([20, 2423, 8])\n",
      "torch.Size([48460]) torch.Size([48460])\n",
      "12029\n",
      "stacked output.shape=torch.Size([48460, 8])\n",
      "targets.shape=torch.Size([48460, 8])\n",
      "12660\n"
     ]
    },
    {
     "name": "stderr",
     "output_type": "stream",
     "text": [
      " 58%|█████▊    | 2905/5000 [1:02:48<45:22,  1.30s/it]"
     ]
    },
    {
     "name": "stdout",
     "output_type": "stream",
     "text": [
      "output.shape=torch.Size([20, 2423, 8])\n",
      "targets.shape=torch.Size([20, 2423, 8])\n",
      "torch.Size([48460]) torch.Size([48460])\n",
      "12097\n",
      "stacked output.shape=torch.Size([48460, 8])\n",
      "targets.shape=torch.Size([48460, 8])\n",
      "12480\n"
     ]
    },
    {
     "name": "stderr",
     "output_type": "stream",
     "text": [
      " 58%|█████▊    | 2908/5000 [1:02:52<45:22,  1.30s/it]"
     ]
    },
    {
     "name": "stdout",
     "output_type": "stream",
     "text": [
      "output.shape=torch.Size([20, 2423, 8])\n",
      "targets.shape=torch.Size([20, 2423, 8])\n",
      "torch.Size([48460]) torch.Size([48460])\n",
      "11995\n",
      "stacked output.shape=torch.Size([48460, 8])\n",
      "targets.shape=torch.Size([48460, 8])\n",
      "12680\n"
     ]
    },
    {
     "name": "stderr",
     "output_type": "stream",
     "text": [
      " 58%|█████▊    | 2911/5000 [1:02:56<44:56,  1.29s/it]"
     ]
    },
    {
     "name": "stdout",
     "output_type": "stream",
     "text": [
      "output.shape=torch.Size([20, 2423, 8])\n",
      "targets.shape=torch.Size([20, 2423, 8])\n",
      "torch.Size([48460]) torch.Size([48460])\n",
      "12019\n",
      "stacked output.shape=torch.Size([48460, 8])\n",
      "targets.shape=torch.Size([48460, 8])\n",
      "12900\n"
     ]
    },
    {
     "name": "stderr",
     "output_type": "stream",
     "text": [
      " 58%|█████▊    | 2914/5000 [1:02:59<45:11,  1.30s/it]"
     ]
    },
    {
     "name": "stdout",
     "output_type": "stream",
     "text": [
      "output.shape=torch.Size([20, 2423, 8])\n",
      "targets.shape=torch.Size([20, 2423, 8])\n",
      "torch.Size([48460]) torch.Size([48460])\n",
      "12010\n",
      "stacked output.shape=torch.Size([48460, 8])\n",
      "targets.shape=torch.Size([48460, 8])\n",
      "12520\n"
     ]
    },
    {
     "name": "stderr",
     "output_type": "stream",
     "text": [
      " 58%|█████▊    | 2917/5000 [1:03:03<44:49,  1.29s/it]"
     ]
    },
    {
     "name": "stdout",
     "output_type": "stream",
     "text": [
      "output.shape=torch.Size([20, 2423, 8])\n",
      "targets.shape=torch.Size([20, 2423, 8])\n",
      "torch.Size([48460]) torch.Size([48460])\n",
      "11972\n",
      "stacked output.shape=torch.Size([48460, 8])\n",
      "targets.shape=torch.Size([48460, 8])\n",
      "12320\n"
     ]
    },
    {
     "name": "stderr",
     "output_type": "stream",
     "text": [
      " 58%|█████▊    | 2920/5000 [1:03:07<44:31,  1.28s/it]"
     ]
    },
    {
     "name": "stdout",
     "output_type": "stream",
     "text": [
      "output.shape=torch.Size([20, 2423, 8])\n",
      "targets.shape=torch.Size([20, 2423, 8])\n",
      "torch.Size([48460]) torch.Size([48460])\n",
      "12000\n",
      "stacked output.shape=torch.Size([48460, 8])\n",
      "targets.shape=torch.Size([48460, 8])\n",
      "12680\n"
     ]
    },
    {
     "name": "stderr",
     "output_type": "stream",
     "text": [
      " 58%|█████▊    | 2923/5000 [1:03:11<44:28,  1.28s/it]"
     ]
    },
    {
     "name": "stdout",
     "output_type": "stream",
     "text": [
      "output.shape=torch.Size([20, 2423, 8])\n",
      "targets.shape=torch.Size([20, 2423, 8])\n",
      "torch.Size([48460]) torch.Size([48460])\n",
      "12011\n",
      "stacked output.shape=torch.Size([48460, 8])\n",
      "targets.shape=torch.Size([48460, 8])\n",
      "12440\n"
     ]
    },
    {
     "name": "stderr",
     "output_type": "stream",
     "text": [
      " 59%|█████▊    | 2926/5000 [1:03:14<44:16,  1.28s/it]"
     ]
    },
    {
     "name": "stdout",
     "output_type": "stream",
     "text": [
      "output.shape=torch.Size([20, 2423, 8])\n",
      "targets.shape=torch.Size([20, 2423, 8])\n",
      "torch.Size([48460]) torch.Size([48460])\n",
      "12085\n",
      "stacked output.shape=torch.Size([48460, 8])\n",
      "targets.shape=torch.Size([48460, 8])\n",
      "12620\n"
     ]
    },
    {
     "name": "stderr",
     "output_type": "stream",
     "text": [
      " 59%|█████▊    | 2929/5000 [1:03:18<44:30,  1.29s/it]"
     ]
    },
    {
     "name": "stdout",
     "output_type": "stream",
     "text": [
      "output.shape=torch.Size([20, 2423, 8])\n",
      "targets.shape=torch.Size([20, 2423, 8])\n",
      "torch.Size([48460]) torch.Size([48460])\n",
      "12064\n",
      "stacked output.shape=torch.Size([48460, 8])\n",
      "targets.shape=torch.Size([48460, 8])\n",
      "12660\n"
     ]
    },
    {
     "name": "stderr",
     "output_type": "stream",
     "text": [
      " 59%|█████▊    | 2932/5000 [1:03:22<44:17,  1.29s/it]"
     ]
    },
    {
     "name": "stdout",
     "output_type": "stream",
     "text": [
      "output.shape=torch.Size([20, 2423, 8])\n",
      "targets.shape=torch.Size([20, 2423, 8])\n",
      "torch.Size([48460]) torch.Size([48460])\n",
      "12095\n",
      "stacked output.shape=torch.Size([48460, 8])\n",
      "targets.shape=torch.Size([48460, 8])\n",
      "12700\n"
     ]
    },
    {
     "name": "stderr",
     "output_type": "stream",
     "text": [
      " 59%|█████▊    | 2935/5000 [1:03:26<44:14,  1.29s/it]"
     ]
    },
    {
     "name": "stdout",
     "output_type": "stream",
     "text": [
      "output.shape=torch.Size([20, 2423, 8])\n",
      "targets.shape=torch.Size([20, 2423, 8])\n",
      "torch.Size([48460]) torch.Size([48460])\n",
      "12026\n",
      "stacked output.shape=torch.Size([48460, 8])\n",
      "targets.shape=torch.Size([48460, 8])\n",
      "12520\n"
     ]
    },
    {
     "name": "stderr",
     "output_type": "stream",
     "text": [
      " 59%|█████▉    | 2938/5000 [1:03:30<44:09,  1.29s/it]"
     ]
    },
    {
     "name": "stdout",
     "output_type": "stream",
     "text": [
      "output.shape=torch.Size([20, 2423, 8])\n",
      "targets.shape=torch.Size([20, 2423, 8])\n",
      "torch.Size([48460]) torch.Size([48460])\n",
      "12040\n",
      "stacked output.shape=torch.Size([48460, 8])\n",
      "targets.shape=torch.Size([48460, 8])\n",
      "12500\n"
     ]
    },
    {
     "name": "stderr",
     "output_type": "stream",
     "text": [
      " 59%|█████▉    | 2941/5000 [1:03:33<44:24,  1.29s/it]"
     ]
    },
    {
     "name": "stdout",
     "output_type": "stream",
     "text": [
      "output.shape=torch.Size([20, 2423, 8])\n",
      "targets.shape=torch.Size([20, 2423, 8])\n",
      "torch.Size([48460]) torch.Size([48460])\n",
      "12067\n",
      "stacked output.shape=torch.Size([48460, 8])\n",
      "targets.shape=torch.Size([48460, 8])\n",
      "12580\n"
     ]
    },
    {
     "name": "stderr",
     "output_type": "stream",
     "text": [
      " 59%|█████▉    | 2944/5000 [1:03:37<44:33,  1.30s/it]"
     ]
    },
    {
     "name": "stdout",
     "output_type": "stream",
     "text": [
      "output.shape=torch.Size([20, 2423, 8])\n",
      "targets.shape=torch.Size([20, 2423, 8])\n",
      "torch.Size([48460]) torch.Size([48460])\n",
      "12087\n",
      "stacked output.shape=torch.Size([48460, 8])\n",
      "targets.shape=torch.Size([48460, 8])\n",
      "12780\n"
     ]
    },
    {
     "name": "stderr",
     "output_type": "stream",
     "text": [
      " 59%|█████▉    | 2947/5000 [1:03:41<44:23,  1.30s/it]"
     ]
    },
    {
     "name": "stdout",
     "output_type": "stream",
     "text": [
      "output.shape=torch.Size([20, 2423, 8])\n",
      "targets.shape=torch.Size([20, 2423, 8])\n",
      "torch.Size([48460]) torch.Size([48460])\n",
      "12033\n",
      "stacked output.shape=torch.Size([48460, 8])\n",
      "targets.shape=torch.Size([48460, 8])\n",
      "12580\n"
     ]
    },
    {
     "name": "stderr",
     "output_type": "stream",
     "text": [
      " 59%|█████▉    | 2950/5000 [1:03:45<44:22,  1.30s/it]"
     ]
    },
    {
     "name": "stdout",
     "output_type": "stream",
     "text": [
      "output.shape=torch.Size([20, 2423, 8])\n",
      "targets.shape=torch.Size([20, 2423, 8])\n",
      "torch.Size([48460]) torch.Size([48460])\n",
      "12024\n",
      "stacked output.shape=torch.Size([48460, 8])\n",
      "targets.shape=torch.Size([48460, 8])\n",
      "12640\n"
     ]
    },
    {
     "name": "stderr",
     "output_type": "stream",
     "text": [
      " 59%|█████▉    | 2953/5000 [1:03:49<44:12,  1.30s/it]"
     ]
    },
    {
     "name": "stdout",
     "output_type": "stream",
     "text": [
      "output.shape=torch.Size([20, 2423, 8])\n",
      "targets.shape=torch.Size([20, 2423, 8])\n",
      "torch.Size([48460]) torch.Size([48460])\n",
      "12005\n",
      "stacked output.shape=torch.Size([48460, 8])\n",
      "targets.shape=torch.Size([48460, 8])\n",
      "12760\n"
     ]
    },
    {
     "name": "stderr",
     "output_type": "stream",
     "text": [
      " 59%|█████▉    | 2956/5000 [1:03:52<43:37,  1.28s/it]"
     ]
    },
    {
     "name": "stdout",
     "output_type": "stream",
     "text": [
      "output.shape=torch.Size([20, 2423, 8])\n",
      "targets.shape=torch.Size([20, 2423, 8])\n",
      "torch.Size([48460]) torch.Size([48460])\n",
      "12038\n",
      "stacked output.shape=torch.Size([48460, 8])\n",
      "targets.shape=torch.Size([48460, 8])\n",
      "12440\n"
     ]
    },
    {
     "name": "stderr",
     "output_type": "stream",
     "text": [
      " 59%|█████▉    | 2959/5000 [1:03:56<43:49,  1.29s/it]"
     ]
    },
    {
     "name": "stdout",
     "output_type": "stream",
     "text": [
      "output.shape=torch.Size([20, 2423, 8])\n",
      "targets.shape=torch.Size([20, 2423, 8])\n",
      "torch.Size([48460]) torch.Size([48460])\n",
      "12030\n",
      "stacked output.shape=torch.Size([48460, 8])\n",
      "targets.shape=torch.Size([48460, 8])\n",
      "12480\n"
     ]
    },
    {
     "name": "stderr",
     "output_type": "stream",
     "text": [
      " 59%|█████▉    | 2962/5000 [1:04:00<43:39,  1.29s/it]"
     ]
    },
    {
     "name": "stdout",
     "output_type": "stream",
     "text": [
      "output.shape=torch.Size([20, 2423, 8])\n",
      "targets.shape=torch.Size([20, 2423, 8])\n",
      "torch.Size([48460]) torch.Size([48460])\n",
      "12027\n",
      "stacked output.shape=torch.Size([48460, 8])\n",
      "targets.shape=torch.Size([48460, 8])\n",
      "12700\n"
     ]
    },
    {
     "name": "stderr",
     "output_type": "stream",
     "text": [
      " 59%|█████▉    | 2965/5000 [1:04:04<43:45,  1.29s/it]"
     ]
    },
    {
     "name": "stdout",
     "output_type": "stream",
     "text": [
      "output.shape=torch.Size([20, 2423, 8])\n",
      "targets.shape=torch.Size([20, 2423, 8])\n",
      "torch.Size([48460]) torch.Size([48460])\n",
      "12026\n",
      "stacked output.shape=torch.Size([48460, 8])\n",
      "targets.shape=torch.Size([48460, 8])\n",
      "12540\n"
     ]
    },
    {
     "name": "stderr",
     "output_type": "stream",
     "text": [
      " 59%|█████▉    | 2968/5000 [1:04:07<43:38,  1.29s/it]"
     ]
    },
    {
     "name": "stdout",
     "output_type": "stream",
     "text": [
      "output.shape=torch.Size([20, 2423, 8])\n",
      "targets.shape=torch.Size([20, 2423, 8])\n",
      "torch.Size([48460]) torch.Size([48460])\n",
      "12029\n",
      "stacked output.shape=torch.Size([48460, 8])\n",
      "targets.shape=torch.Size([48460, 8])\n",
      "12760\n"
     ]
    },
    {
     "name": "stderr",
     "output_type": "stream",
     "text": [
      " 59%|█████▉    | 2971/5000 [1:04:11<43:34,  1.29s/it]"
     ]
    },
    {
     "name": "stdout",
     "output_type": "stream",
     "text": [
      "output.shape=torch.Size([20, 2423, 8])\n",
      "targets.shape=torch.Size([20, 2423, 8])\n",
      "torch.Size([48460]) torch.Size([48460])\n",
      "12037\n",
      "stacked output.shape=torch.Size([48460, 8])\n",
      "targets.shape=torch.Size([48460, 8])\n",
      "12800\n"
     ]
    },
    {
     "name": "stderr",
     "output_type": "stream",
     "text": [
      " 59%|█████▉    | 2974/5000 [1:04:15<43:09,  1.28s/it]"
     ]
    },
    {
     "name": "stdout",
     "output_type": "stream",
     "text": [
      "output.shape=torch.Size([20, 2423, 8])\n",
      "targets.shape=torch.Size([20, 2423, 8])\n",
      "torch.Size([48460]) torch.Size([48460])\n",
      "12018\n",
      "stacked output.shape=torch.Size([48460, 8])\n",
      "targets.shape=torch.Size([48460, 8])\n",
      "12820\n"
     ]
    },
    {
     "name": "stderr",
     "output_type": "stream",
     "text": [
      " 60%|█████▉    | 2977/5000 [1:04:19<43:25,  1.29s/it]"
     ]
    },
    {
     "name": "stdout",
     "output_type": "stream",
     "text": [
      "output.shape=torch.Size([20, 2423, 8])\n",
      "targets.shape=torch.Size([20, 2423, 8])\n",
      "torch.Size([48460]) torch.Size([48460])\n",
      "12022\n",
      "stacked output.shape=torch.Size([48460, 8])\n",
      "targets.shape=torch.Size([48460, 8])\n",
      "12900\n"
     ]
    },
    {
     "name": "stderr",
     "output_type": "stream",
     "text": [
      " 60%|█████▉    | 2980/5000 [1:04:22<43:22,  1.29s/it]"
     ]
    },
    {
     "name": "stdout",
     "output_type": "stream",
     "text": [
      "output.shape=torch.Size([20, 2423, 8])\n",
      "targets.shape=torch.Size([20, 2423, 8])\n",
      "torch.Size([48460]) torch.Size([48460])\n",
      "12064\n",
      "stacked output.shape=torch.Size([48460, 8])\n",
      "targets.shape=torch.Size([48460, 8])\n",
      "12880\n"
     ]
    },
    {
     "name": "stderr",
     "output_type": "stream",
     "text": [
      " 60%|█████▉    | 2983/5000 [1:04:26<43:18,  1.29s/it]"
     ]
    },
    {
     "name": "stdout",
     "output_type": "stream",
     "text": [
      "output.shape=torch.Size([20, 2423, 8])\n",
      "targets.shape=torch.Size([20, 2423, 8])\n",
      "torch.Size([48460]) torch.Size([48460])\n",
      "12049\n",
      "stacked output.shape=torch.Size([48460, 8])\n",
      "targets.shape=torch.Size([48460, 8])\n",
      "12820\n"
     ]
    },
    {
     "name": "stderr",
     "output_type": "stream",
     "text": [
      " 60%|█████▉    | 2986/5000 [1:04:30<43:16,  1.29s/it]"
     ]
    },
    {
     "name": "stdout",
     "output_type": "stream",
     "text": [
      "output.shape=torch.Size([20, 2423, 8])\n",
      "targets.shape=torch.Size([20, 2423, 8])\n",
      "torch.Size([48460]) torch.Size([48460])\n",
      "12056\n",
      "stacked output.shape=torch.Size([48460, 8])\n",
      "targets.shape=torch.Size([48460, 8])\n",
      "12900\n"
     ]
    },
    {
     "name": "stderr",
     "output_type": "stream",
     "text": [
      " 60%|█████▉    | 2989/5000 [1:04:34<43:05,  1.29s/it]"
     ]
    },
    {
     "name": "stdout",
     "output_type": "stream",
     "text": [
      "output.shape=torch.Size([20, 2423, 8])\n",
      "targets.shape=torch.Size([20, 2423, 8])\n",
      "torch.Size([48460]) torch.Size([48460])\n",
      "12076\n",
      "stacked output.shape=torch.Size([48460, 8])\n",
      "targets.shape=torch.Size([48460, 8])\n",
      "12940\n"
     ]
    },
    {
     "name": "stderr",
     "output_type": "stream",
     "text": [
      " 60%|█████▉    | 2992/5000 [1:04:38<43:15,  1.29s/it]"
     ]
    },
    {
     "name": "stdout",
     "output_type": "stream",
     "text": [
      "output.shape=torch.Size([20, 2423, 8])\n",
      "targets.shape=torch.Size([20, 2423, 8])\n",
      "torch.Size([48460]) torch.Size([48460])\n",
      "12027\n",
      "stacked output.shape=torch.Size([48460, 8])\n",
      "targets.shape=torch.Size([48460, 8])\n",
      "12800\n"
     ]
    },
    {
     "name": "stderr",
     "output_type": "stream",
     "text": [
      " 60%|█████▉    | 2995/5000 [1:04:41<43:00,  1.29s/it]"
     ]
    },
    {
     "name": "stdout",
     "output_type": "stream",
     "text": [
      "output.shape=torch.Size([20, 2423, 8])\n",
      "targets.shape=torch.Size([20, 2423, 8])\n",
      "torch.Size([48460]) torch.Size([48460])\n",
      "12061\n",
      "stacked output.shape=torch.Size([48460, 8])\n",
      "targets.shape=torch.Size([48460, 8])\n",
      "12760\n"
     ]
    },
    {
     "name": "stderr",
     "output_type": "stream",
     "text": [
      " 60%|█████▉    | 2998/5000 [1:04:45<43:38,  1.31s/it]"
     ]
    },
    {
     "name": "stdout",
     "output_type": "stream",
     "text": [
      "output.shape=torch.Size([20, 2423, 8])\n",
      "targets.shape=torch.Size([20, 2423, 8])\n",
      "torch.Size([48460]) torch.Size([48460])\n",
      "11997\n",
      "stacked output.shape=torch.Size([48460, 8])\n",
      "targets.shape=torch.Size([48460, 8])\n",
      "12780\n"
     ]
    },
    {
     "name": "stderr",
     "output_type": "stream",
     "text": [
      " 60%|██████    | 3001/5000 [1:04:49<46:26,  1.39s/it]"
     ]
    },
    {
     "name": "stdout",
     "output_type": "stream",
     "text": [
      "output.shape=torch.Size([20, 2423, 8])\n",
      "targets.shape=torch.Size([20, 2423, 8])\n",
      "torch.Size([48460]) torch.Size([48460])\n",
      "11971\n",
      "stacked output.shape=torch.Size([48460, 8])\n",
      "targets.shape=torch.Size([48460, 8])\n",
      "12580\n"
     ]
    },
    {
     "name": "stderr",
     "output_type": "stream",
     "text": [
      " 60%|██████    | 3004/5000 [1:04:53<44:36,  1.34s/it]"
     ]
    },
    {
     "name": "stdout",
     "output_type": "stream",
     "text": [
      "output.shape=torch.Size([20, 2423, 8])\n",
      "targets.shape=torch.Size([20, 2423, 8])\n",
      "torch.Size([48460]) torch.Size([48460])\n",
      "12042\n",
      "stacked output.shape=torch.Size([48460, 8])\n",
      "targets.shape=torch.Size([48460, 8])\n",
      "12800\n"
     ]
    },
    {
     "name": "stderr",
     "output_type": "stream",
     "text": [
      " 60%|██████    | 3007/5000 [1:04:57<43:50,  1.32s/it]"
     ]
    },
    {
     "name": "stdout",
     "output_type": "stream",
     "text": [
      "output.shape=torch.Size([20, 2423, 8])\n",
      "targets.shape=torch.Size([20, 2423, 8])\n",
      "torch.Size([48460]) torch.Size([48460])\n",
      "12064\n",
      "stacked output.shape=torch.Size([48460, 8])\n",
      "targets.shape=torch.Size([48460, 8])\n",
      "12680\n"
     ]
    },
    {
     "name": "stderr",
     "output_type": "stream",
     "text": [
      " 60%|██████    | 3010/5000 [1:05:01<44:28,  1.34s/it]"
     ]
    },
    {
     "name": "stdout",
     "output_type": "stream",
     "text": [
      "output.shape=torch.Size([20, 2423, 8])\n",
      "targets.shape=torch.Size([20, 2423, 8])\n",
      "torch.Size([48460]) torch.Size([48460])\n",
      "12092\n",
      "stacked output.shape=torch.Size([48460, 8])\n",
      "targets.shape=torch.Size([48460, 8])\n",
      "12800\n"
     ]
    },
    {
     "name": "stderr",
     "output_type": "stream",
     "text": [
      " 60%|██████    | 3013/5000 [1:05:05<44:16,  1.34s/it]"
     ]
    },
    {
     "name": "stdout",
     "output_type": "stream",
     "text": [
      "output.shape=torch.Size([20, 2423, 8])\n",
      "targets.shape=torch.Size([20, 2423, 8])\n",
      "torch.Size([48460]) torch.Size([48460])\n",
      "12078\n",
      "stacked output.shape=torch.Size([48460, 8])\n",
      "targets.shape=torch.Size([48460, 8])\n",
      "12700\n"
     ]
    },
    {
     "name": "stderr",
     "output_type": "stream",
     "text": [
      " 60%|██████    | 3016/5000 [1:05:09<44:02,  1.33s/it]"
     ]
    },
    {
     "name": "stdout",
     "output_type": "stream",
     "text": [
      "output.shape=torch.Size([20, 2423, 8])\n",
      "targets.shape=torch.Size([20, 2423, 8])\n",
      "torch.Size([48460]) torch.Size([48460])\n",
      "12088\n",
      "stacked output.shape=torch.Size([48460, 8])\n",
      "targets.shape=torch.Size([48460, 8])\n",
      "12880\n"
     ]
    },
    {
     "name": "stderr",
     "output_type": "stream",
     "text": [
      " 60%|██████    | 3019/5000 [1:05:13<44:07,  1.34s/it]"
     ]
    },
    {
     "name": "stdout",
     "output_type": "stream",
     "text": [
      "output.shape=torch.Size([20, 2423, 8])\n",
      "targets.shape=torch.Size([20, 2423, 8])\n",
      "torch.Size([48460]) torch.Size([48460])\n",
      "12038\n",
      "stacked output.shape=torch.Size([48460, 8])\n",
      "targets.shape=torch.Size([48460, 8])\n",
      "13040\n"
     ]
    },
    {
     "name": "stderr",
     "output_type": "stream",
     "text": [
      " 60%|██████    | 3022/5000 [1:05:17<44:07,  1.34s/it]"
     ]
    },
    {
     "name": "stdout",
     "output_type": "stream",
     "text": [
      "output.shape=torch.Size([20, 2423, 8])\n",
      "targets.shape=torch.Size([20, 2423, 8])\n",
      "torch.Size([48460]) torch.Size([48460])\n",
      "12041\n",
      "stacked output.shape=torch.Size([48460, 8])\n",
      "targets.shape=torch.Size([48460, 8])\n",
      "13000\n"
     ]
    },
    {
     "name": "stderr",
     "output_type": "stream",
     "text": [
      " 60%|██████    | 3025/5000 [1:05:21<44:35,  1.35s/it]"
     ]
    },
    {
     "name": "stdout",
     "output_type": "stream",
     "text": [
      "output.shape=torch.Size([20, 2423, 8])\n",
      "targets.shape=torch.Size([20, 2423, 8])\n",
      "torch.Size([48460]) torch.Size([48460])\n",
      "12084\n",
      "stacked output.shape=torch.Size([48460, 8])\n",
      "targets.shape=torch.Size([48460, 8])\n",
      "12840\n"
     ]
    },
    {
     "name": "stderr",
     "output_type": "stream",
     "text": [
      " 61%|██████    | 3028/5000 [1:05:25<45:26,  1.38s/it]"
     ]
    },
    {
     "name": "stdout",
     "output_type": "stream",
     "text": [
      "output.shape=torch.Size([20, 2423, 8])\n",
      "targets.shape=torch.Size([20, 2423, 8])\n",
      "torch.Size([48460]) torch.Size([48460])\n",
      "12105\n",
      "stacked output.shape=torch.Size([48460, 8])\n",
      "targets.shape=torch.Size([48460, 8])\n",
      "13000\n"
     ]
    },
    {
     "name": "stderr",
     "output_type": "stream",
     "text": [
      " 61%|██████    | 3031/5000 [1:05:29<45:18,  1.38s/it]"
     ]
    },
    {
     "name": "stdout",
     "output_type": "stream",
     "text": [
      "output.shape=torch.Size([20, 2423, 8])\n",
      "targets.shape=torch.Size([20, 2423, 8])\n",
      "torch.Size([48460]) torch.Size([48460])\n",
      "12007\n",
      "stacked output.shape=torch.Size([48460, 8])\n",
      "targets.shape=torch.Size([48460, 8])\n",
      "12840\n"
     ]
    },
    {
     "name": "stderr",
     "output_type": "stream",
     "text": [
      " 61%|██████    | 3033/5000 [1:05:31<43:23,  1.32s/it]"
     ]
    },
    {
     "name": "stdout",
     "output_type": "stream",
     "text": [
      "output.shape=torch.Size([20, 2423, 8])\n",
      "targets.shape=torch.Size([20, 2423, 8])\n",
      "torch.Size([48460]) torch.Size([48460])\n",
      "12109\n",
      "stacked output.shape=torch.Size([48460, 8])\n",
      "targets.shape=torch.Size([48460, 8])\n",
      "12720\n"
     ]
    },
    {
     "name": "stderr",
     "output_type": "stream",
     "text": [
      " 61%|██████    | 3037/5000 [1:05:37<47:58,  1.47s/it]"
     ]
    },
    {
     "name": "stdout",
     "output_type": "stream",
     "text": [
      "output.shape=torch.Size([20, 2423, 8])\n",
      "targets.shape=torch.Size([20, 2423, 8])\n",
      "torch.Size([48460]) torch.Size([48460])\n",
      "12076\n",
      "stacked output.shape=torch.Size([48460, 8])\n",
      "targets.shape=torch.Size([48460, 8])\n",
      "12820\n"
     ]
    },
    {
     "name": "stderr",
     "output_type": "stream",
     "text": [
      " 61%|██████    | 3040/5000 [1:05:41<45:41,  1.40s/it]"
     ]
    },
    {
     "name": "stdout",
     "output_type": "stream",
     "text": [
      "output.shape=torch.Size([20, 2423, 8])\n",
      "targets.shape=torch.Size([20, 2423, 8])\n",
      "torch.Size([48460]) torch.Size([48460])\n",
      "12047\n",
      "stacked output.shape=torch.Size([48460, 8])\n",
      "targets.shape=torch.Size([48460, 8])\n",
      "12840\n"
     ]
    },
    {
     "name": "stderr",
     "output_type": "stream",
     "text": [
      " 61%|██████    | 3043/5000 [1:05:45<46:04,  1.41s/it]"
     ]
    },
    {
     "name": "stdout",
     "output_type": "stream",
     "text": [
      "output.shape=torch.Size([20, 2423, 8])\n",
      "targets.shape=torch.Size([20, 2423, 8])\n",
      "torch.Size([48460]) torch.Size([48460])\n",
      "12105\n",
      "stacked output.shape=torch.Size([48460, 8])\n",
      "targets.shape=torch.Size([48460, 8])\n",
      "12720\n"
     ]
    },
    {
     "name": "stderr",
     "output_type": "stream",
     "text": [
      " 61%|██████    | 3046/5000 [1:05:50<46:21,  1.42s/it]"
     ]
    },
    {
     "name": "stdout",
     "output_type": "stream",
     "text": [
      "output.shape=torch.Size([20, 2423, 8])\n",
      "targets.shape=torch.Size([20, 2423, 8])\n",
      "torch.Size([48460]) torch.Size([48460])\n",
      "12027\n",
      "stacked output.shape=torch.Size([48460, 8])\n",
      "targets.shape=torch.Size([48460, 8])\n",
      "12700\n"
     ]
    },
    {
     "name": "stderr",
     "output_type": "stream",
     "text": [
      " 61%|██████    | 3049/5000 [1:05:54<47:21,  1.46s/it]"
     ]
    },
    {
     "name": "stdout",
     "output_type": "stream",
     "text": [
      "output.shape=torch.Size([20, 2423, 8])\n",
      "targets.shape=torch.Size([20, 2423, 8])\n",
      "torch.Size([48460]) torch.Size([48460])\n",
      "12114\n",
      "stacked output.shape=torch.Size([48460, 8])\n",
      "targets.shape=torch.Size([48460, 8])\n",
      "12500\n"
     ]
    },
    {
     "name": "stderr",
     "output_type": "stream",
     "text": [
      " 61%|██████    | 3052/5000 [1:05:58<47:11,  1.45s/it]"
     ]
    },
    {
     "name": "stdout",
     "output_type": "stream",
     "text": [
      "output.shape=torch.Size([20, 2423, 8])\n",
      "targets.shape=torch.Size([20, 2423, 8])\n",
      "torch.Size([48460]) torch.Size([48460])\n",
      "12142\n",
      "stacked output.shape=torch.Size([48460, 8])\n",
      "targets.shape=torch.Size([48460, 8])\n",
      "12740\n"
     ]
    },
    {
     "name": "stderr",
     "output_type": "stream",
     "text": [
      " 61%|██████    | 3055/5000 [1:06:02<45:20,  1.40s/it]"
     ]
    },
    {
     "name": "stdout",
     "output_type": "stream",
     "text": [
      "output.shape=torch.Size([20, 2423, 8])\n",
      "targets.shape=torch.Size([20, 2423, 8])\n",
      "torch.Size([48460]) torch.Size([48460])\n",
      "11999\n",
      "stacked output.shape=torch.Size([48460, 8])\n",
      "targets.shape=torch.Size([48460, 8])\n",
      "12560\n"
     ]
    },
    {
     "name": "stderr",
     "output_type": "stream",
     "text": [
      " 61%|██████    | 3058/5000 [1:06:06<45:36,  1.41s/it]"
     ]
    },
    {
     "name": "stdout",
     "output_type": "stream",
     "text": [
      "output.shape=torch.Size([20, 2423, 8])\n",
      "targets.shape=torch.Size([20, 2423, 8])\n",
      "torch.Size([48460]) torch.Size([48460])\n",
      "12141\n",
      "stacked output.shape=torch.Size([48460, 8])\n",
      "targets.shape=torch.Size([48460, 8])\n",
      "12900\n"
     ]
    },
    {
     "name": "stderr",
     "output_type": "stream",
     "text": [
      " 61%|██████    | 3061/5000 [1:06:12<59:11,  1.83s/it]"
     ]
    },
    {
     "name": "stdout",
     "output_type": "stream",
     "text": [
      "output.shape=torch.Size([20, 2423, 8])\n",
      "targets.shape=torch.Size([20, 2423, 8])\n",
      "torch.Size([48460]) torch.Size([48460])\n",
      "12077\n",
      "stacked output.shape=torch.Size([48460, 8])\n",
      "targets.shape=torch.Size([48460, 8])\n",
      "12860\n"
     ]
    },
    {
     "name": "stderr",
     "output_type": "stream",
     "text": [
      " 61%|██████▏   | 3064/5000 [1:06:18<1:02:06,  1.92s/it]"
     ]
    },
    {
     "name": "stdout",
     "output_type": "stream",
     "text": [
      "output.shape=torch.Size([20, 2423, 8])\n",
      "targets.shape=torch.Size([20, 2423, 8])\n",
      "torch.Size([48460]) torch.Size([48460])\n",
      "12046\n",
      "stacked output.shape=torch.Size([48460, 8])\n",
      "targets.shape=torch.Size([48460, 8])\n",
      "12780\n"
     ]
    },
    {
     "name": "stderr",
     "output_type": "stream",
     "text": [
      " 61%|██████▏   | 3067/5000 [1:06:23<1:00:41,  1.88s/it]"
     ]
    },
    {
     "name": "stdout",
     "output_type": "stream",
     "text": [
      "output.shape=torch.Size([20, 2423, 8])\n",
      "targets.shape=torch.Size([20, 2423, 8])\n",
      "torch.Size([48460]) torch.Size([48460])\n",
      "12052\n",
      "stacked output.shape=torch.Size([48460, 8])\n",
      "targets.shape=torch.Size([48460, 8])\n",
      "12920\n"
     ]
    },
    {
     "name": "stderr",
     "output_type": "stream",
     "text": [
      " 61%|██████▏   | 3070/5000 [1:06:28<56:46,  1.76s/it]  "
     ]
    },
    {
     "name": "stdout",
     "output_type": "stream",
     "text": [
      "output.shape=torch.Size([20, 2423, 8])\n",
      "targets.shape=torch.Size([20, 2423, 8])\n",
      "torch.Size([48460]) torch.Size([48460])\n",
      "12107\n",
      "stacked output.shape=torch.Size([48460, 8])\n",
      "targets.shape=torch.Size([48460, 8])\n",
      "12640\n"
     ]
    },
    {
     "name": "stderr",
     "output_type": "stream",
     "text": [
      " 61%|██████▏   | 3072/5000 [1:06:32<1:01:39,  1.92s/it]"
     ]
    },
    {
     "name": "stdout",
     "output_type": "stream",
     "text": [
      "output.shape=torch.Size([20, 2423, 8])\n",
      "targets.shape=torch.Size([20, 2423, 8])\n",
      "torch.Size([48460]) torch.Size([48460])\n",
      "12115\n",
      "stacked output.shape=torch.Size([48460, 8])\n",
      "targets.shape=torch.Size([48460, 8])\n"
     ]
    },
    {
     "name": "stderr",
     "output_type": "stream",
     "text": [
      " 61%|██████▏   | 3073/5000 [1:06:36<1:17:45,  2.42s/it]"
     ]
    },
    {
     "name": "stdout",
     "output_type": "stream",
     "text": [
      "12760\n"
     ]
    },
    {
     "name": "stderr",
     "output_type": "stream",
     "text": [
      " 62%|██████▏   | 3075/5000 [1:06:42<1:25:13,  2.66s/it]"
     ]
    },
    {
     "name": "stdout",
     "output_type": "stream",
     "text": [
      "output.shape=torch.Size([20, 2423, 8])\n",
      "targets.shape=torch.Size([20, 2423, 8])\n",
      "torch.Size([48460]) torch.Size([48460])\n",
      "12087\n",
      "stacked output.shape=torch.Size([48460, 8])\n",
      "targets.shape=torch.Size([48460, 8])\n"
     ]
    },
    {
     "name": "stderr",
     "output_type": "stream",
     "text": [
      " 62%|██████▏   | 3076/5000 [1:06:45<1:34:30,  2.95s/it]"
     ]
    },
    {
     "name": "stdout",
     "output_type": "stream",
     "text": [
      "12660\n"
     ]
    },
    {
     "name": "stderr",
     "output_type": "stream",
     "text": [
      " 62%|██████▏   | 3078/5000 [1:06:52<1:39:01,  3.09s/it]"
     ]
    },
    {
     "name": "stdout",
     "output_type": "stream",
     "text": [
      "output.shape=torch.Size([20, 2423, 8])\n",
      "targets.shape=torch.Size([20, 2423, 8])\n",
      "torch.Size([48460]) torch.Size([48460])\n",
      "12066\n",
      "stacked output.shape=torch.Size([48460, 8])\n",
      "targets.shape=torch.Size([48460, 8])\n"
     ]
    },
    {
     "name": "stderr",
     "output_type": "stream",
     "text": [
      " 62%|██████▏   | 3079/5000 [1:06:56<1:47:22,  3.35s/it]"
     ]
    },
    {
     "name": "stdout",
     "output_type": "stream",
     "text": [
      "12760\n"
     ]
    },
    {
     "name": "stderr",
     "output_type": "stream",
     "text": [
      " 62%|██████▏   | 3081/5000 [1:07:00<1:28:02,  2.75s/it]"
     ]
    },
    {
     "name": "stdout",
     "output_type": "stream",
     "text": [
      "output.shape=torch.Size([20, 2423, 8])\n",
      "targets.shape=torch.Size([20, 2423, 8])\n",
      "torch.Size([48460]) torch.Size([48460])\n",
      "12025\n",
      "stacked output.shape=torch.Size([48460, 8])\n",
      "targets.shape=torch.Size([48460, 8])\n"
     ]
    },
    {
     "name": "stderr",
     "output_type": "stream",
     "text": [
      " 62%|██████▏   | 3082/5000 [1:07:03<1:27:18,  2.73s/it]"
     ]
    },
    {
     "name": "stdout",
     "output_type": "stream",
     "text": [
      "12700\n"
     ]
    },
    {
     "name": "stderr",
     "output_type": "stream",
     "text": [
      " 62%|██████▏   | 3084/5000 [1:07:07<1:15:28,  2.36s/it]"
     ]
    },
    {
     "name": "stdout",
     "output_type": "stream",
     "text": [
      "output.shape=torch.Size([20, 2423, 8])\n",
      "targets.shape=torch.Size([20, 2423, 8])\n",
      "torch.Size([48460]) torch.Size([48460])\n",
      "11996\n",
      "stacked output.shape=torch.Size([48460, 8])\n",
      "targets.shape=torch.Size([48460, 8])\n"
     ]
    },
    {
     "name": "stderr",
     "output_type": "stream",
     "text": [
      " 62%|██████▏   | 3085/5000 [1:07:10<1:19:16,  2.48s/it]"
     ]
    },
    {
     "name": "stdout",
     "output_type": "stream",
     "text": [
      "12760\n"
     ]
    },
    {
     "name": "stderr",
     "output_type": "stream",
     "text": [
      " 62%|██████▏   | 3087/5000 [1:07:14<1:12:27,  2.27s/it]"
     ]
    },
    {
     "name": "stdout",
     "output_type": "stream",
     "text": [
      "output.shape=torch.Size([20, 2423, 8])\n",
      "targets.shape=torch.Size([20, 2423, 8])\n",
      "torch.Size([48460]) torch.Size([48460])\n",
      "12097\n",
      "stacked output.shape=torch.Size([48460, 8])\n",
      "targets.shape=torch.Size([48460, 8])\n"
     ]
    },
    {
     "name": "stderr",
     "output_type": "stream",
     "text": [
      " 62%|██████▏   | 3088/5000 [1:07:17<1:16:41,  2.41s/it]"
     ]
    },
    {
     "name": "stdout",
     "output_type": "stream",
     "text": [
      "12640\n"
     ]
    },
    {
     "name": "stderr",
     "output_type": "stream",
     "text": [
      " 62%|██████▏   | 3091/5000 [1:07:23<1:09:30,  2.18s/it]"
     ]
    },
    {
     "name": "stdout",
     "output_type": "stream",
     "text": [
      "output.shape=torch.Size([20, 2423, 8])\n",
      "targets.shape=torch.Size([20, 2423, 8])\n",
      "torch.Size([48460]) torch.Size([48460])\n",
      "12084\n",
      "stacked output.shape=torch.Size([48460, 8])\n",
      "targets.shape=torch.Size([48460, 8])\n",
      "12760\n"
     ]
    },
    {
     "name": "stderr",
     "output_type": "stream",
     "text": [
      " 62%|██████▏   | 3094/5000 [1:07:28<58:02,  1.83s/it]  "
     ]
    },
    {
     "name": "stdout",
     "output_type": "stream",
     "text": [
      "output.shape=torch.Size([20, 2423, 8])\n",
      "targets.shape=torch.Size([20, 2423, 8])\n",
      "torch.Size([48460]) torch.Size([48460])\n",
      "12054\n",
      "stacked output.shape=torch.Size([48460, 8])\n",
      "targets.shape=torch.Size([48460, 8])\n",
      "12800\n"
     ]
    },
    {
     "name": "stderr",
     "output_type": "stream",
     "text": [
      " 62%|██████▏   | 3097/5000 [1:07:32<50:16,  1.58s/it]"
     ]
    },
    {
     "name": "stdout",
     "output_type": "stream",
     "text": [
      "output.shape=torch.Size([20, 2423, 8])\n",
      "targets.shape=torch.Size([20, 2423, 8])\n",
      "torch.Size([48460]) torch.Size([48460])\n",
      "12047\n",
      "stacked output.shape=torch.Size([48460, 8])\n",
      "targets.shape=torch.Size([48460, 8])\n",
      "12800\n"
     ]
    },
    {
     "name": "stderr",
     "output_type": "stream",
     "text": [
      " 62%|██████▏   | 3099/5000 [1:07:37<1:05:41,  2.07s/it]"
     ]
    },
    {
     "name": "stdout",
     "output_type": "stream",
     "text": [
      "output.shape=torch.Size([20, 2423, 8])\n",
      "targets.shape=torch.Size([20, 2423, 8])\n",
      "torch.Size([48460]) torch.Size([48460])\n",
      "12063\n",
      "stacked output.shape=torch.Size([48460, 8])\n",
      "targets.shape=torch.Size([48460, 8])\n"
     ]
    },
    {
     "name": "stderr",
     "output_type": "stream",
     "text": [
      " 62%|██████▏   | 3100/5000 [1:07:40<1:17:08,  2.44s/it]"
     ]
    },
    {
     "name": "stdout",
     "output_type": "stream",
     "text": [
      "12840\n"
     ]
    },
    {
     "name": "stderr",
     "output_type": "stream",
     "text": [
      " 62%|██████▏   | 3102/5000 [1:07:45<1:14:12,  2.35s/it]"
     ]
    },
    {
     "name": "stdout",
     "output_type": "stream",
     "text": [
      "output.shape=torch.Size([20, 2423, 8])\n",
      "targets.shape=torch.Size([20, 2423, 8])\n",
      "torch.Size([48460]) torch.Size([48460])\n",
      "12055\n",
      "stacked output.shape=torch.Size([48460, 8])\n",
      "targets.shape=torch.Size([48460, 8])\n"
     ]
    },
    {
     "name": "stderr",
     "output_type": "stream",
     "text": [
      " 62%|██████▏   | 3103/5000 [1:07:48<1:21:03,  2.56s/it]"
     ]
    },
    {
     "name": "stdout",
     "output_type": "stream",
     "text": [
      "12680\n"
     ]
    },
    {
     "name": "stderr",
     "output_type": "stream",
     "text": [
      " 62%|██████▏   | 3105/5000 [1:07:52<1:18:30,  2.49s/it]"
     ]
    },
    {
     "name": "stdout",
     "output_type": "stream",
     "text": [
      "output.shape=torch.Size([20, 2423, 8])\n",
      "targets.shape=torch.Size([20, 2423, 8])\n",
      "torch.Size([48460]) torch.Size([48460])\n",
      "12042\n",
      "stacked output.shape=torch.Size([48460, 8])\n",
      "targets.shape=torch.Size([48460, 8])\n"
     ]
    },
    {
     "name": "stderr",
     "output_type": "stream",
     "text": [
      " 62%|██████▏   | 3106/5000 [1:07:55<1:23:38,  2.65s/it]"
     ]
    },
    {
     "name": "stdout",
     "output_type": "stream",
     "text": [
      "12740\n"
     ]
    },
    {
     "name": "stderr",
     "output_type": "stream",
     "text": [
      " 62%|██████▏   | 3108/5000 [1:08:00<1:23:03,  2.63s/it]"
     ]
    },
    {
     "name": "stdout",
     "output_type": "stream",
     "text": [
      "output.shape=torch.Size([20, 2423, 8])\n",
      "targets.shape=torch.Size([20, 2423, 8])\n",
      "torch.Size([48460]) torch.Size([48460])\n",
      "12028\n",
      "stacked output.shape=torch.Size([48460, 8])\n",
      "targets.shape=torch.Size([48460, 8])\n"
     ]
    },
    {
     "name": "stderr",
     "output_type": "stream",
     "text": [
      " 62%|██████▏   | 3109/5000 [1:08:04<1:27:39,  2.78s/it]"
     ]
    },
    {
     "name": "stdout",
     "output_type": "stream",
     "text": [
      "12660\n"
     ]
    },
    {
     "name": "stderr",
     "output_type": "stream",
     "text": [
      " 62%|██████▏   | 3111/5000 [1:08:08<1:21:43,  2.60s/it]"
     ]
    },
    {
     "name": "stdout",
     "output_type": "stream",
     "text": [
      "output.shape=torch.Size([20, 2423, 8])\n",
      "targets.shape=torch.Size([20, 2423, 8])\n",
      "torch.Size([48460]) torch.Size([48460])\n",
      "12044\n",
      "stacked output.shape=torch.Size([48460, 8])\n",
      "targets.shape=torch.Size([48460, 8])\n"
     ]
    },
    {
     "name": "stderr",
     "output_type": "stream",
     "text": [
      " 62%|██████▏   | 3112/5000 [1:08:12<1:26:42,  2.76s/it]"
     ]
    },
    {
     "name": "stdout",
     "output_type": "stream",
     "text": [
      "12760\n"
     ]
    },
    {
     "name": "stderr",
     "output_type": "stream",
     "text": [
      " 62%|██████▏   | 3114/5000 [1:08:16<1:19:56,  2.54s/it]"
     ]
    },
    {
     "name": "stdout",
     "output_type": "stream",
     "text": [
      "output.shape=torch.Size([20, 2423, 8])\n",
      "targets.shape=torch.Size([20, 2423, 8])\n",
      "torch.Size([48460]) torch.Size([48460])\n",
      "12045\n",
      "stacked output.shape=torch.Size([48460, 8])\n",
      "targets.shape=torch.Size([48460, 8])\n"
     ]
    },
    {
     "name": "stderr",
     "output_type": "stream",
     "text": [
      " 62%|██████▏   | 3115/5000 [1:08:20<1:28:39,  2.82s/it]"
     ]
    },
    {
     "name": "stdout",
     "output_type": "stream",
     "text": [
      "12700\n"
     ]
    },
    {
     "name": "stderr",
     "output_type": "stream",
     "text": [
      " 62%|██████▏   | 3118/5000 [1:08:29<1:32:19,  2.94s/it]"
     ]
    },
    {
     "name": "stdout",
     "output_type": "stream",
     "text": [
      "output.shape=torch.Size([20, 2423, 8])\n",
      "targets.shape=torch.Size([20, 2423, 8])\n",
      "torch.Size([48460]) torch.Size([48460])\n",
      "12078\n",
      "stacked output.shape=torch.Size([48460, 8])\n",
      "targets.shape=torch.Size([48460, 8])\n",
      "13020\n"
     ]
    },
    {
     "name": "stderr",
     "output_type": "stream",
     "text": [
      " 62%|██████▏   | 3120/5000 [1:08:33<1:20:35,  2.57s/it]"
     ]
    },
    {
     "name": "stdout",
     "output_type": "stream",
     "text": [
      "output.shape=torch.Size([20, 2423, 8])\n",
      "targets.shape=torch.Size([20, 2423, 8])\n",
      "torch.Size([48460]) torch.Size([48460])\n",
      "12104\n",
      "stacked output.shape=torch.Size([48460, 8])\n",
      "targets.shape=torch.Size([48460, 8])\n"
     ]
    },
    {
     "name": "stderr",
     "output_type": "stream",
     "text": [
      " 62%|██████▏   | 3121/5000 [1:08:36<1:26:54,  2.78s/it]"
     ]
    },
    {
     "name": "stdout",
     "output_type": "stream",
     "text": [
      "12720\n"
     ]
    },
    {
     "name": "stderr",
     "output_type": "stream",
     "text": [
      " 62%|██████▏   | 3123/5000 [1:08:42<1:24:40,  2.71s/it]"
     ]
    },
    {
     "name": "stdout",
     "output_type": "stream",
     "text": [
      "output.shape=torch.Size([20, 2423, 8])\n",
      "targets.shape=torch.Size([20, 2423, 8])\n",
      "torch.Size([48460]) torch.Size([48460])\n",
      "12085\n",
      "stacked output.shape=torch.Size([48460, 8])\n",
      "targets.shape=torch.Size([48460, 8])\n"
     ]
    },
    {
     "name": "stderr",
     "output_type": "stream",
     "text": [
      " 62%|██████▏   | 3124/5000 [1:08:45<1:31:24,  2.92s/it]"
     ]
    },
    {
     "name": "stdout",
     "output_type": "stream",
     "text": [
      "12740\n"
     ]
    },
    {
     "name": "stderr",
     "output_type": "stream",
     "text": [
      " 63%|██████▎   | 3126/5000 [1:08:52<1:37:59,  3.14s/it]"
     ]
    },
    {
     "name": "stdout",
     "output_type": "stream",
     "text": [
      "output.shape=torch.Size([20, 2423, 8])\n",
      "targets.shape=torch.Size([20, 2423, 8])\n",
      "torch.Size([48460]) torch.Size([48460])\n",
      "12085\n",
      "stacked output.shape=torch.Size([48460, 8])\n",
      "targets.shape=torch.Size([48460, 8])\n"
     ]
    },
    {
     "name": "stderr",
     "output_type": "stream",
     "text": [
      " 63%|██████▎   | 3127/5000 [1:08:55<1:37:45,  3.13s/it]"
     ]
    },
    {
     "name": "stdout",
     "output_type": "stream",
     "text": [
      "12540\n"
     ]
    },
    {
     "name": "stderr",
     "output_type": "stream",
     "text": [
      " 63%|██████▎   | 3129/5000 [1:09:00<1:27:45,  2.81s/it]"
     ]
    },
    {
     "name": "stdout",
     "output_type": "stream",
     "text": [
      "output.shape=torch.Size([20, 2423, 8])\n",
      "targets.shape=torch.Size([20, 2423, 8])\n",
      "torch.Size([48460]) torch.Size([48460])\n",
      "12023\n",
      "stacked output.shape=torch.Size([48460, 8])\n",
      "targets.shape=torch.Size([48460, 8])\n"
     ]
    },
    {
     "name": "stderr",
     "output_type": "stream",
     "text": [
      " 63%|██████▎   | 3130/5000 [1:09:03<1:31:14,  2.93s/it]"
     ]
    },
    {
     "name": "stdout",
     "output_type": "stream",
     "text": [
      "12820\n"
     ]
    },
    {
     "name": "stderr",
     "output_type": "stream",
     "text": [
      " 63%|██████▎   | 3132/5000 [1:09:08<1:23:41,  2.69s/it]"
     ]
    },
    {
     "name": "stdout",
     "output_type": "stream",
     "text": [
      "output.shape=torch.Size([20, 2423, 8])\n",
      "targets.shape=torch.Size([20, 2423, 8])\n",
      "torch.Size([48460]) torch.Size([48460])\n",
      "12021\n",
      "stacked output.shape=torch.Size([48460, 8])\n",
      "targets.shape=torch.Size([48460, 8])\n"
     ]
    },
    {
     "name": "stderr",
     "output_type": "stream",
     "text": [
      " 63%|██████▎   | 3133/5000 [1:09:11<1:28:31,  2.84s/it]"
     ]
    },
    {
     "name": "stdout",
     "output_type": "stream",
     "text": [
      "12920\n"
     ]
    },
    {
     "name": "stderr",
     "output_type": "stream",
     "text": [
      " 63%|██████▎   | 3135/5000 [1:09:16<1:22:25,  2.65s/it]"
     ]
    },
    {
     "name": "stdout",
     "output_type": "stream",
     "text": [
      "output.shape=torch.Size([20, 2423, 8])\n",
      "targets.shape=torch.Size([20, 2423, 8])\n",
      "torch.Size([48460]) torch.Size([48460])\n",
      "12086\n",
      "stacked output.shape=torch.Size([48460, 8])\n",
      "targets.shape=torch.Size([48460, 8])\n"
     ]
    },
    {
     "name": "stderr",
     "output_type": "stream",
     "text": [
      " 63%|██████▎   | 3136/5000 [1:09:19<1:25:55,  2.77s/it]"
     ]
    },
    {
     "name": "stdout",
     "output_type": "stream",
     "text": [
      "12580\n"
     ]
    },
    {
     "name": "stderr",
     "output_type": "stream",
     "text": [
      " 63%|██████▎   | 3138/5000 [1:09:24<1:19:00,  2.55s/it]"
     ]
    },
    {
     "name": "stdout",
     "output_type": "stream",
     "text": [
      "output.shape=torch.Size([20, 2423, 8])\n",
      "targets.shape=torch.Size([20, 2423, 8])\n",
      "torch.Size([48460]) torch.Size([48460])\n",
      "12121\n",
      "stacked output.shape=torch.Size([48460, 8])\n",
      "targets.shape=torch.Size([48460, 8])\n"
     ]
    },
    {
     "name": "stderr",
     "output_type": "stream",
     "text": [
      " 63%|██████▎   | 3139/5000 [1:09:28<1:29:14,  2.88s/it]"
     ]
    },
    {
     "name": "stdout",
     "output_type": "stream",
     "text": [
      "12740\n"
     ]
    },
    {
     "name": "stderr",
     "output_type": "stream",
     "text": [
      " 63%|██████▎   | 3141/5000 [1:09:33<1:23:12,  2.69s/it]"
     ]
    },
    {
     "name": "stdout",
     "output_type": "stream",
     "text": [
      "output.shape=torch.Size([20, 2423, 8])\n",
      "targets.shape=torch.Size([20, 2423, 8])\n",
      "torch.Size([48460]) torch.Size([48460])\n",
      "12095\n",
      "stacked output.shape=torch.Size([48460, 8])\n",
      "targets.shape=torch.Size([48460, 8])\n"
     ]
    },
    {
     "name": "stderr",
     "output_type": "stream",
     "text": [
      " 63%|██████▎   | 3142/5000 [1:09:36<1:28:12,  2.85s/it]"
     ]
    },
    {
     "name": "stdout",
     "output_type": "stream",
     "text": [
      "12840\n"
     ]
    },
    {
     "name": "stderr",
     "output_type": "stream",
     "text": [
      " 63%|██████▎   | 3144/5000 [1:09:41<1:26:18,  2.79s/it]"
     ]
    },
    {
     "name": "stdout",
     "output_type": "stream",
     "text": [
      "output.shape=torch.Size([20, 2423, 8])\n",
      "targets.shape=torch.Size([20, 2423, 8])\n",
      "torch.Size([48460]) torch.Size([48460])\n",
      "12027\n",
      "stacked output.shape=torch.Size([48460, 8])\n",
      "targets.shape=torch.Size([48460, 8])\n"
     ]
    },
    {
     "name": "stderr",
     "output_type": "stream",
     "text": [
      " 63%|██████▎   | 3145/5000 [1:09:44<1:27:54,  2.84s/it]"
     ]
    },
    {
     "name": "stdout",
     "output_type": "stream",
     "text": [
      "12700\n"
     ]
    },
    {
     "name": "stderr",
     "output_type": "stream",
     "text": [
      " 63%|██████▎   | 3147/5000 [1:09:49<1:20:51,  2.62s/it]"
     ]
    },
    {
     "name": "stdout",
     "output_type": "stream",
     "text": [
      "output.shape=torch.Size([20, 2423, 8])\n",
      "targets.shape=torch.Size([20, 2423, 8])\n",
      "torch.Size([48460]) torch.Size([48460])\n",
      "12066\n",
      "stacked output.shape=torch.Size([48460, 8])\n",
      "targets.shape=torch.Size([48460, 8])\n"
     ]
    },
    {
     "name": "stderr",
     "output_type": "stream",
     "text": [
      " 63%|██████▎   | 3148/5000 [1:09:53<1:28:28,  2.87s/it]"
     ]
    },
    {
     "name": "stdout",
     "output_type": "stream",
     "text": [
      "12800\n"
     ]
    },
    {
     "name": "stderr",
     "output_type": "stream",
     "text": [
      " 63%|██████▎   | 3150/5000 [1:09:59<1:30:11,  2.93s/it]"
     ]
    },
    {
     "name": "stdout",
     "output_type": "stream",
     "text": [
      "output.shape=torch.Size([20, 2423, 8])\n",
      "targets.shape=torch.Size([20, 2423, 8])\n",
      "torch.Size([48460]) torch.Size([48460])\n",
      "12082\n",
      "stacked output.shape=torch.Size([48460, 8])\n",
      "targets.shape=torch.Size([48460, 8])\n"
     ]
    },
    {
     "name": "stderr",
     "output_type": "stream",
     "text": [
      " 63%|██████▎   | 3151/5000 [1:10:01<1:30:26,  2.93s/it]"
     ]
    },
    {
     "name": "stdout",
     "output_type": "stream",
     "text": [
      "12800\n"
     ]
    },
    {
     "name": "stderr",
     "output_type": "stream",
     "text": [
      " 63%|██████▎   | 3153/5000 [1:10:06<1:23:03,  2.70s/it]"
     ]
    },
    {
     "name": "stdout",
     "output_type": "stream",
     "text": [
      "output.shape=torch.Size([20, 2423, 8])\n",
      "targets.shape=torch.Size([20, 2423, 8])\n",
      "torch.Size([48460]) torch.Size([48460])\n",
      "12078\n",
      "stacked output.shape=torch.Size([48460, 8])\n",
      "targets.shape=torch.Size([48460, 8])\n"
     ]
    },
    {
     "name": "stderr",
     "output_type": "stream",
     "text": [
      " 63%|██████▎   | 3154/5000 [1:10:09<1:26:27,  2.81s/it]"
     ]
    },
    {
     "name": "stdout",
     "output_type": "stream",
     "text": [
      "12640\n"
     ]
    },
    {
     "name": "stderr",
     "output_type": "stream",
     "text": [
      " 63%|██████▎   | 3156/5000 [1:10:14<1:20:08,  2.61s/it]"
     ]
    },
    {
     "name": "stdout",
     "output_type": "stream",
     "text": [
      "output.shape=torch.Size([20, 2423, 8])\n",
      "targets.shape=torch.Size([20, 2423, 8])\n",
      "torch.Size([48460]) torch.Size([48460])\n",
      "11970\n",
      "stacked output.shape=torch.Size([48460, 8])\n",
      "targets.shape=torch.Size([48460, 8])\n"
     ]
    },
    {
     "name": "stderr",
     "output_type": "stream",
     "text": [
      " 63%|██████▎   | 3157/5000 [1:10:18<1:27:23,  2.85s/it]"
     ]
    },
    {
     "name": "stdout",
     "output_type": "stream",
     "text": [
      "12700\n"
     ]
    },
    {
     "name": "stderr",
     "output_type": "stream",
     "text": [
      " 63%|██████▎   | 3159/5000 [1:10:23<1:23:07,  2.71s/it]"
     ]
    },
    {
     "name": "stdout",
     "output_type": "stream",
     "text": [
      "output.shape=torch.Size([20, 2423, 8])\n",
      "targets.shape=torch.Size([20, 2423, 8])\n",
      "torch.Size([48460]) torch.Size([48460])\n",
      "12006\n",
      "stacked output.shape=torch.Size([48460, 8])\n",
      "targets.shape=torch.Size([48460, 8])\n"
     ]
    },
    {
     "name": "stderr",
     "output_type": "stream",
     "text": [
      " 63%|██████▎   | 3160/5000 [1:10:26<1:29:52,  2.93s/it]"
     ]
    },
    {
     "name": "stdout",
     "output_type": "stream",
     "text": [
      "12600\n"
     ]
    },
    {
     "name": "stderr",
     "output_type": "stream",
     "text": [
      " 63%|██████▎   | 3162/5000 [1:10:32<1:26:40,  2.83s/it]"
     ]
    },
    {
     "name": "stdout",
     "output_type": "stream",
     "text": [
      "output.shape=torch.Size([20, 2423, 8])\n",
      "targets.shape=torch.Size([20, 2423, 8])\n",
      "torch.Size([48460]) torch.Size([48460])\n",
      "12048\n",
      "stacked output.shape=torch.Size([48460, 8])\n",
      "targets.shape=torch.Size([48460, 8])\n"
     ]
    },
    {
     "name": "stderr",
     "output_type": "stream",
     "text": [
      " 63%|██████▎   | 3163/5000 [1:10:34<1:27:24,  2.86s/it]"
     ]
    },
    {
     "name": "stdout",
     "output_type": "stream",
     "text": [
      "12980\n"
     ]
    },
    {
     "name": "stderr",
     "output_type": "stream",
     "text": [
      " 63%|██████▎   | 3165/5000 [1:10:40<1:22:31,  2.70s/it]"
     ]
    },
    {
     "name": "stdout",
     "output_type": "stream",
     "text": [
      "output.shape=torch.Size([20, 2423, 8])\n",
      "targets.shape=torch.Size([20, 2423, 8])\n",
      "torch.Size([48460]) torch.Size([48460])\n",
      "12031\n",
      "stacked output.shape=torch.Size([48460, 8])\n",
      "targets.shape=torch.Size([48460, 8])\n"
     ]
    },
    {
     "name": "stderr",
     "output_type": "stream",
     "text": [
      " 63%|██████▎   | 3166/5000 [1:10:43<1:30:14,  2.95s/it]"
     ]
    },
    {
     "name": "stdout",
     "output_type": "stream",
     "text": [
      "12940\n"
     ]
    },
    {
     "name": "stderr",
     "output_type": "stream",
     "text": [
      " 63%|██████▎   | 3168/5000 [1:10:48<1:23:37,  2.74s/it]"
     ]
    },
    {
     "name": "stdout",
     "output_type": "stream",
     "text": [
      "output.shape=torch.Size([20, 2423, 8])\n",
      "targets.shape=torch.Size([20, 2423, 8])\n",
      "torch.Size([48460]) torch.Size([48460])\n",
      "12063\n",
      "stacked output.shape=torch.Size([48460, 8])\n",
      "targets.shape=torch.Size([48460, 8])\n"
     ]
    },
    {
     "name": "stderr",
     "output_type": "stream",
     "text": [
      " 63%|██████▎   | 3169/5000 [1:10:51<1:25:44,  2.81s/it]"
     ]
    },
    {
     "name": "stdout",
     "output_type": "stream",
     "text": [
      "12720\n"
     ]
    },
    {
     "name": "stderr",
     "output_type": "stream",
     "text": [
      " 63%|██████▎   | 3171/5000 [1:10:57<1:25:33,  2.81s/it]"
     ]
    },
    {
     "name": "stdout",
     "output_type": "stream",
     "text": [
      "output.shape=torch.Size([20, 2423, 8])\n",
      "targets.shape=torch.Size([20, 2423, 8])\n",
      "torch.Size([48460]) torch.Size([48460])\n",
      "12080\n",
      "stacked output.shape=torch.Size([48460, 8])\n",
      "targets.shape=torch.Size([48460, 8])\n"
     ]
    },
    {
     "name": "stderr",
     "output_type": "stream",
     "text": [
      " 63%|██████▎   | 3172/5000 [1:11:00<1:26:23,  2.84s/it]"
     ]
    },
    {
     "name": "stdout",
     "output_type": "stream",
     "text": [
      "12880\n"
     ]
    },
    {
     "name": "stderr",
     "output_type": "stream",
     "text": [
      " 63%|██████▎   | 3174/5000 [1:11:04<1:17:33,  2.55s/it]"
     ]
    },
    {
     "name": "stdout",
     "output_type": "stream",
     "text": [
      "output.shape=torch.Size([20, 2423, 8])\n",
      "targets.shape=torch.Size([20, 2423, 8])\n",
      "torch.Size([48460]) torch.Size([48460])\n",
      "12107\n",
      "stacked output.shape=torch.Size([48460, 8])\n",
      "targets.shape=torch.Size([48460, 8])\n"
     ]
    },
    {
     "name": "stderr",
     "output_type": "stream",
     "text": [
      " 64%|██████▎   | 3175/5000 [1:11:08<1:24:54,  2.79s/it]"
     ]
    },
    {
     "name": "stdout",
     "output_type": "stream",
     "text": [
      "12980\n"
     ]
    },
    {
     "name": "stderr",
     "output_type": "stream",
     "text": [
      " 64%|██████▎   | 3177/5000 [1:11:14<1:28:19,  2.91s/it]"
     ]
    },
    {
     "name": "stdout",
     "output_type": "stream",
     "text": [
      "output.shape=torch.Size([20, 2423, 8])\n",
      "targets.shape=torch.Size([20, 2423, 8])\n",
      "torch.Size([48460]) torch.Size([48460])\n",
      "12103\n",
      "stacked output.shape=torch.Size([48460, 8])\n",
      "targets.shape=torch.Size([48460, 8])\n"
     ]
    },
    {
     "name": "stderr",
     "output_type": "stream",
     "text": [
      " 64%|██████▎   | 3178/5000 [1:11:17<1:36:00,  3.16s/it]"
     ]
    },
    {
     "name": "stdout",
     "output_type": "stream",
     "text": [
      "12720\n"
     ]
    },
    {
     "name": "stderr",
     "output_type": "stream",
     "text": [
      " 64%|██████▎   | 3180/5000 [1:11:22<1:24:31,  2.79s/it]"
     ]
    },
    {
     "name": "stdout",
     "output_type": "stream",
     "text": [
      "output.shape=torch.Size([20, 2423, 8])\n",
      "targets.shape=torch.Size([20, 2423, 8])\n",
      "torch.Size([48460]) torch.Size([48460])\n",
      "12148\n",
      "stacked output.shape=torch.Size([48460, 8])\n",
      "targets.shape=torch.Size([48460, 8])\n"
     ]
    },
    {
     "name": "stderr",
     "output_type": "stream",
     "text": [
      " 64%|██████▎   | 3181/5000 [1:11:27<1:44:08,  3.44s/it]"
     ]
    },
    {
     "name": "stdout",
     "output_type": "stream",
     "text": [
      "12800\n"
     ]
    },
    {
     "name": "stderr",
     "output_type": "stream",
     "text": [
      " 64%|██████▎   | 3183/5000 [1:11:32<1:28:11,  2.91s/it]"
     ]
    },
    {
     "name": "stdout",
     "output_type": "stream",
     "text": [
      "output.shape=torch.Size([20, 2423, 8])\n",
      "targets.shape=torch.Size([20, 2423, 8])\n",
      "torch.Size([48460]) torch.Size([48460])\n",
      "12028\n",
      "stacked output.shape=torch.Size([48460, 8])\n",
      "targets.shape=torch.Size([48460, 8])\n"
     ]
    },
    {
     "name": "stderr",
     "output_type": "stream",
     "text": [
      " 64%|██████▎   | 3184/5000 [1:11:35<1:31:58,  3.04s/it]"
     ]
    },
    {
     "name": "stdout",
     "output_type": "stream",
     "text": [
      "12680\n"
     ]
    },
    {
     "name": "stderr",
     "output_type": "stream",
     "text": [
      " 64%|██████▎   | 3186/5000 [1:11:40<1:21:10,  2.69s/it]"
     ]
    },
    {
     "name": "stdout",
     "output_type": "stream",
     "text": [
      "output.shape=torch.Size([20, 2423, 8])\n",
      "targets.shape=torch.Size([20, 2423, 8])\n",
      "torch.Size([48460]) torch.Size([48460])\n",
      "12039\n",
      "stacked output.shape=torch.Size([48460, 8])\n",
      "targets.shape=torch.Size([48460, 8])\n"
     ]
    },
    {
     "name": "stderr",
     "output_type": "stream",
     "text": [
      " 64%|██████▎   | 3187/5000 [1:11:43<1:23:39,  2.77s/it]"
     ]
    },
    {
     "name": "stdout",
     "output_type": "stream",
     "text": [
      "12640\n"
     ]
    },
    {
     "name": "stderr",
     "output_type": "stream",
     "text": [
      " 64%|██████▍   | 3189/5000 [1:11:49<1:29:29,  2.97s/it]"
     ]
    },
    {
     "name": "stdout",
     "output_type": "stream",
     "text": [
      "output.shape=torch.Size([20, 2423, 8])\n",
      "targets.shape=torch.Size([20, 2423, 8])\n",
      "torch.Size([48460]) torch.Size([48460])\n",
      "12049\n",
      "stacked output.shape=torch.Size([48460, 8])\n",
      "targets.shape=torch.Size([48460, 8])\n"
     ]
    },
    {
     "name": "stderr",
     "output_type": "stream",
     "text": [
      " 64%|██████▍   | 3190/5000 [1:11:53<1:32:39,  3.07s/it]"
     ]
    },
    {
     "name": "stdout",
     "output_type": "stream",
     "text": [
      "13040\n"
     ]
    },
    {
     "name": "stderr",
     "output_type": "stream",
     "text": [
      " 64%|██████▍   | 3192/5000 [1:11:57<1:20:29,  2.67s/it]"
     ]
    },
    {
     "name": "stdout",
     "output_type": "stream",
     "text": [
      "output.shape=torch.Size([20, 2423, 8])\n",
      "targets.shape=torch.Size([20, 2423, 8])\n",
      "torch.Size([48460]) torch.Size([48460])\n",
      "12016\n",
      "stacked output.shape=torch.Size([48460, 8])\n",
      "targets.shape=torch.Size([48460, 8])\n"
     ]
    },
    {
     "name": "stderr",
     "output_type": "stream",
     "text": [
      " 64%|██████▍   | 3193/5000 [1:12:00<1:23:31,  2.77s/it]"
     ]
    },
    {
     "name": "stdout",
     "output_type": "stream",
     "text": [
      "12780\n"
     ]
    },
    {
     "name": "stderr",
     "output_type": "stream",
     "text": [
      " 64%|██████▍   | 3195/5000 [1:12:05<1:19:20,  2.64s/it]"
     ]
    },
    {
     "name": "stdout",
     "output_type": "stream",
     "text": [
      "output.shape=torch.Size([20, 2423, 8])\n",
      "targets.shape=torch.Size([20, 2423, 8])\n",
      "torch.Size([48460]) torch.Size([48460])\n",
      "12027\n",
      "stacked output.shape=torch.Size([48460, 8])\n",
      "targets.shape=torch.Size([48460, 8])\n"
     ]
    },
    {
     "name": "stderr",
     "output_type": "stream",
     "text": [
      " 64%|██████▍   | 3196/5000 [1:12:08<1:22:49,  2.75s/it]"
     ]
    },
    {
     "name": "stdout",
     "output_type": "stream",
     "text": [
      "12740\n"
     ]
    },
    {
     "name": "stderr",
     "output_type": "stream",
     "text": [
      " 64%|██████▍   | 3198/5000 [1:12:13<1:16:25,  2.54s/it]"
     ]
    },
    {
     "name": "stdout",
     "output_type": "stream",
     "text": [
      "output.shape=torch.Size([20, 2423, 8])\n",
      "targets.shape=torch.Size([20, 2423, 8])\n",
      "torch.Size([48460]) torch.Size([48460])\n",
      "12027\n",
      "stacked output.shape=torch.Size([48460, 8])\n",
      "targets.shape=torch.Size([48460, 8])\n"
     ]
    },
    {
     "name": "stderr",
     "output_type": "stream",
     "text": [
      " 64%|██████▍   | 3199/5000 [1:12:16<1:20:46,  2.69s/it]"
     ]
    },
    {
     "name": "stdout",
     "output_type": "stream",
     "text": [
      "12800\n"
     ]
    },
    {
     "name": "stderr",
     "output_type": "stream",
     "text": [
      " 64%|██████▍   | 3201/5000 [1:12:20<1:14:07,  2.47s/it]"
     ]
    },
    {
     "name": "stdout",
     "output_type": "stream",
     "text": [
      "output.shape=torch.Size([20, 2423, 8])\n",
      "targets.shape=torch.Size([20, 2423, 8])\n",
      "torch.Size([48460]) torch.Size([48460])\n",
      "11974\n",
      "stacked output.shape=torch.Size([48460, 8])\n",
      "targets.shape=torch.Size([48460, 8])\n"
     ]
    },
    {
     "name": "stderr",
     "output_type": "stream",
     "text": [
      " 64%|██████▍   | 3202/5000 [1:12:23<1:18:15,  2.61s/it]"
     ]
    },
    {
     "name": "stdout",
     "output_type": "stream",
     "text": [
      "12520\n"
     ]
    },
    {
     "name": "stderr",
     "output_type": "stream",
     "text": [
      " 64%|██████▍   | 3204/5000 [1:12:30<1:30:10,  3.01s/it]"
     ]
    },
    {
     "name": "stdout",
     "output_type": "stream",
     "text": [
      "output.shape=torch.Size([20, 2423, 8])\n",
      "targets.shape=torch.Size([20, 2423, 8])\n",
      "torch.Size([48460]) torch.Size([48460])\n",
      "11986\n",
      "stacked output.shape=torch.Size([48460, 8])\n",
      "targets.shape=torch.Size([48460, 8])\n"
     ]
    },
    {
     "name": "stderr",
     "output_type": "stream",
     "text": [
      " 64%|██████▍   | 3205/5000 [1:12:34<1:38:38,  3.30s/it]"
     ]
    },
    {
     "name": "stdout",
     "output_type": "stream",
     "text": [
      "12800\n"
     ]
    },
    {
     "name": "stderr",
     "output_type": "stream",
     "text": [
      " 64%|██████▍   | 3207/5000 [1:12:39<1:24:29,  2.83s/it]"
     ]
    },
    {
     "name": "stdout",
     "output_type": "stream",
     "text": [
      "output.shape=torch.Size([20, 2423, 8])\n",
      "targets.shape=torch.Size([20, 2423, 8])\n",
      "torch.Size([48460]) torch.Size([48460])\n",
      "12025\n",
      "stacked output.shape=torch.Size([48460, 8])\n",
      "targets.shape=torch.Size([48460, 8])\n"
     ]
    },
    {
     "name": "stderr",
     "output_type": "stream",
     "text": [
      " 64%|██████▍   | 3208/5000 [1:12:42<1:25:27,  2.86s/it]"
     ]
    },
    {
     "name": "stdout",
     "output_type": "stream",
     "text": [
      "12720\n"
     ]
    },
    {
     "name": "stderr",
     "output_type": "stream",
     "text": [
      " 64%|██████▍   | 3210/5000 [1:12:47<1:19:36,  2.67s/it]"
     ]
    },
    {
     "name": "stdout",
     "output_type": "stream",
     "text": [
      "output.shape=torch.Size([20, 2423, 8])\n",
      "targets.shape=torch.Size([20, 2423, 8])\n",
      "torch.Size([48460]) torch.Size([48460])\n",
      "12018\n",
      "stacked output.shape=torch.Size([48460, 8])\n",
      "targets.shape=torch.Size([48460, 8])\n"
     ]
    },
    {
     "name": "stderr",
     "output_type": "stream",
     "text": [
      " 64%|██████▍   | 3211/5000 [1:12:51<1:37:06,  3.26s/it]"
     ]
    },
    {
     "name": "stdout",
     "output_type": "stream",
     "text": [
      "12780\n"
     ]
    },
    {
     "name": "stderr",
     "output_type": "stream",
     "text": [
      " 64%|██████▍   | 3213/5000 [1:12:56<1:25:59,  2.89s/it]"
     ]
    },
    {
     "name": "stdout",
     "output_type": "stream",
     "text": [
      "output.shape=torch.Size([20, 2423, 8])\n",
      "targets.shape=torch.Size([20, 2423, 8])\n",
      "torch.Size([48460]) torch.Size([48460])\n",
      "12033\n",
      "stacked output.shape=torch.Size([48460, 8])\n",
      "targets.shape=torch.Size([48460, 8])\n"
     ]
    },
    {
     "name": "stderr",
     "output_type": "stream",
     "text": [
      " 64%|██████▍   | 3214/5000 [1:13:00<1:28:11,  2.96s/it]"
     ]
    },
    {
     "name": "stdout",
     "output_type": "stream",
     "text": [
      "12860\n"
     ]
    },
    {
     "name": "stderr",
     "output_type": "stream",
     "text": [
      " 64%|██████▍   | 3216/5000 [1:13:05<1:22:18,  2.77s/it]"
     ]
    },
    {
     "name": "stdout",
     "output_type": "stream",
     "text": [
      "output.shape=torch.Size([20, 2423, 8])\n",
      "targets.shape=torch.Size([20, 2423, 8])\n",
      "torch.Size([48460]) torch.Size([48460])\n",
      "12007\n",
      "stacked output.shape=torch.Size([48460, 8])\n",
      "targets.shape=torch.Size([48460, 8])\n"
     ]
    },
    {
     "name": "stderr",
     "output_type": "stream",
     "text": [
      " 64%|██████▍   | 3217/5000 [1:13:08<1:28:39,  2.98s/it]"
     ]
    },
    {
     "name": "stdout",
     "output_type": "stream",
     "text": [
      "12760\n"
     ]
    },
    {
     "name": "stderr",
     "output_type": "stream",
     "text": [
      " 64%|██████▍   | 3219/5000 [1:13:13<1:21:25,  2.74s/it]"
     ]
    },
    {
     "name": "stdout",
     "output_type": "stream",
     "text": [
      "output.shape=torch.Size([20, 2423, 8])\n",
      "targets.shape=torch.Size([20, 2423, 8])\n",
      "torch.Size([48460]) torch.Size([48460])\n",
      "12056\n",
      "stacked output.shape=torch.Size([48460, 8])\n",
      "targets.shape=torch.Size([48460, 8])\n"
     ]
    },
    {
     "name": "stderr",
     "output_type": "stream",
     "text": [
      " 64%|██████▍   | 3220/5000 [1:13:16<1:24:02,  2.83s/it]"
     ]
    },
    {
     "name": "stdout",
     "output_type": "stream",
     "text": [
      "12800\n"
     ]
    },
    {
     "name": "stderr",
     "output_type": "stream",
     "text": [
      " 64%|██████▍   | 3222/5000 [1:13:21<1:18:59,  2.67s/it]"
     ]
    },
    {
     "name": "stdout",
     "output_type": "stream",
     "text": [
      "output.shape=torch.Size([20, 2423, 8])\n",
      "targets.shape=torch.Size([20, 2423, 8])\n",
      "torch.Size([48460]) torch.Size([48460])\n",
      "12114\n",
      "stacked output.shape=torch.Size([48460, 8])\n",
      "targets.shape=torch.Size([48460, 8])\n"
     ]
    },
    {
     "name": "stderr",
     "output_type": "stream",
     "text": [
      " 64%|██████▍   | 3223/5000 [1:13:25<1:25:18,  2.88s/it]"
     ]
    },
    {
     "name": "stdout",
     "output_type": "stream",
     "text": [
      "12820\n"
     ]
    },
    {
     "name": "stderr",
     "output_type": "stream",
     "text": [
      " 64%|██████▍   | 3225/5000 [1:13:32<1:34:45,  3.20s/it]"
     ]
    },
    {
     "name": "stdout",
     "output_type": "stream",
     "text": [
      "output.shape=torch.Size([20, 2423, 8])\n",
      "targets.shape=torch.Size([20, 2423, 8])\n",
      "torch.Size([48460]) torch.Size([48460])\n",
      "12052\n",
      "stacked output.shape=torch.Size([48460, 8])\n",
      "targets.shape=torch.Size([48460, 8])\n"
     ]
    },
    {
     "name": "stderr",
     "output_type": "stream",
     "text": [
      " 65%|██████▍   | 3226/5000 [1:13:35<1:39:17,  3.36s/it]"
     ]
    },
    {
     "name": "stdout",
     "output_type": "stream",
     "text": [
      "12820\n"
     ]
    },
    {
     "name": "stderr",
     "output_type": "stream",
     "text": [
      " 65%|██████▍   | 3228/5000 [1:13:41<1:30:16,  3.06s/it]"
     ]
    },
    {
     "name": "stdout",
     "output_type": "stream",
     "text": [
      "output.shape=torch.Size([20, 2423, 8])\n",
      "targets.shape=torch.Size([20, 2423, 8])\n",
      "torch.Size([48460]) torch.Size([48460])\n",
      "12059\n",
      "stacked output.shape=torch.Size([48460, 8])\n",
      "targets.shape=torch.Size([48460, 8])\n"
     ]
    },
    {
     "name": "stderr",
     "output_type": "stream",
     "text": [
      " 65%|██████▍   | 3229/5000 [1:13:44<1:34:08,  3.19s/it]"
     ]
    },
    {
     "name": "stdout",
     "output_type": "stream",
     "text": [
      "12680\n"
     ]
    },
    {
     "name": "stderr",
     "output_type": "stream",
     "text": [
      " 65%|██████▍   | 3231/5000 [1:13:50<1:27:38,  2.97s/it]"
     ]
    },
    {
     "name": "stdout",
     "output_type": "stream",
     "text": [
      "output.shape=torch.Size([20, 2423, 8])\n",
      "targets.shape=torch.Size([20, 2423, 8])\n",
      "torch.Size([48460]) torch.Size([48460])\n",
      "12034\n",
      "stacked output.shape=torch.Size([48460, 8])\n",
      "targets.shape=torch.Size([48460, 8])\n"
     ]
    },
    {
     "name": "stderr",
     "output_type": "stream",
     "text": [
      " 65%|██████▍   | 3232/5000 [1:13:54<1:39:57,  3.39s/it]"
     ]
    },
    {
     "name": "stdout",
     "output_type": "stream",
     "text": [
      "12740\n"
     ]
    },
    {
     "name": "stderr",
     "output_type": "stream",
     "text": [
      " 65%|██████▍   | 3234/5000 [1:13:59<1:24:03,  2.86s/it]"
     ]
    },
    {
     "name": "stdout",
     "output_type": "stream",
     "text": [
      "output.shape=torch.Size([20, 2423, 8])\n",
      "targets.shape=torch.Size([20, 2423, 8])\n",
      "torch.Size([48460]) torch.Size([48460])\n",
      "12047\n",
      "stacked output.shape=torch.Size([48460, 8])\n",
      "targets.shape=torch.Size([48460, 8])\n"
     ]
    },
    {
     "name": "stderr",
     "output_type": "stream",
     "text": [
      " 65%|██████▍   | 3235/5000 [1:14:03<1:34:50,  3.22s/it]"
     ]
    },
    {
     "name": "stdout",
     "output_type": "stream",
     "text": [
      "12820\n"
     ]
    },
    {
     "name": "stderr",
     "output_type": "stream",
     "text": [
      " 65%|██████▍   | 3237/5000 [1:14:08<1:25:07,  2.90s/it]"
     ]
    },
    {
     "name": "stdout",
     "output_type": "stream",
     "text": [
      "output.shape=torch.Size([20, 2423, 8])\n",
      "targets.shape=torch.Size([20, 2423, 8])\n",
      "torch.Size([48460]) torch.Size([48460])\n",
      "11936\n",
      "stacked output.shape=torch.Size([48460, 8])\n",
      "targets.shape=torch.Size([48460, 8])\n"
     ]
    },
    {
     "name": "stderr",
     "output_type": "stream",
     "text": [
      " 65%|██████▍   | 3238/5000 [1:14:12<1:30:29,  3.08s/it]"
     ]
    },
    {
     "name": "stdout",
     "output_type": "stream",
     "text": [
      "12520\n"
     ]
    },
    {
     "name": "stderr",
     "output_type": "stream",
     "text": [
      " 65%|██████▍   | 3240/5000 [1:14:17<1:23:03,  2.83s/it]"
     ]
    },
    {
     "name": "stdout",
     "output_type": "stream",
     "text": [
      "output.shape=torch.Size([20, 2423, 8])\n",
      "targets.shape=torch.Size([20, 2423, 8])\n",
      "torch.Size([48460]) torch.Size([48460])\n",
      "12025\n",
      "stacked output.shape=torch.Size([48460, 8])\n",
      "targets.shape=torch.Size([48460, 8])\n"
     ]
    },
    {
     "name": "stderr",
     "output_type": "stream",
     "text": [
      " 65%|██████▍   | 3241/5000 [1:14:21<1:30:57,  3.10s/it]"
     ]
    },
    {
     "name": "stdout",
     "output_type": "stream",
     "text": [
      "12900\n"
     ]
    },
    {
     "name": "stderr",
     "output_type": "stream",
     "text": [
      " 65%|██████▍   | 3243/5000 [1:14:26<1:23:57,  2.87s/it]"
     ]
    },
    {
     "name": "stdout",
     "output_type": "stream",
     "text": [
      "output.shape=torch.Size([20, 2423, 8])\n",
      "targets.shape=torch.Size([20, 2423, 8])\n",
      "torch.Size([48460]) torch.Size([48460])\n",
      "12082\n",
      "stacked output.shape=torch.Size([48460, 8])\n",
      "targets.shape=torch.Size([48460, 8])\n"
     ]
    },
    {
     "name": "stderr",
     "output_type": "stream",
     "text": [
      " 65%|██████▍   | 3244/5000 [1:14:29<1:24:17,  2.88s/it]"
     ]
    },
    {
     "name": "stdout",
     "output_type": "stream",
     "text": [
      "12780\n"
     ]
    },
    {
     "name": "stderr",
     "output_type": "stream",
     "text": [
      " 65%|██████▍   | 3246/5000 [1:14:35<1:25:38,  2.93s/it]"
     ]
    },
    {
     "name": "stdout",
     "output_type": "stream",
     "text": [
      "output.shape=torch.Size([20, 2423, 8])\n",
      "targets.shape=torch.Size([20, 2423, 8])\n",
      "torch.Size([48460]) torch.Size([48460])\n",
      "12048\n",
      "stacked output.shape=torch.Size([48460, 8])\n",
      "targets.shape=torch.Size([48460, 8])\n"
     ]
    },
    {
     "name": "stderr",
     "output_type": "stream",
     "text": [
      " 65%|██████▍   | 3247/5000 [1:14:38<1:31:18,  3.13s/it]"
     ]
    },
    {
     "name": "stdout",
     "output_type": "stream",
     "text": [
      "12880\n"
     ]
    },
    {
     "name": "stderr",
     "output_type": "stream",
     "text": [
      " 65%|██████▍   | 3249/5000 [1:14:43<1:20:56,  2.77s/it]"
     ]
    },
    {
     "name": "stdout",
     "output_type": "stream",
     "text": [
      "output.shape=torch.Size([20, 2423, 8])\n",
      "targets.shape=torch.Size([20, 2423, 8])\n",
      "torch.Size([48460]) torch.Size([48460])\n",
      "12088\n",
      "stacked output.shape=torch.Size([48460, 8])\n",
      "targets.shape=torch.Size([48460, 8])\n"
     ]
    },
    {
     "name": "stderr",
     "output_type": "stream",
     "text": [
      " 65%|██████▌   | 3250/5000 [1:14:47<1:33:35,  3.21s/it]"
     ]
    },
    {
     "name": "stdout",
     "output_type": "stream",
     "text": [
      "12740\n"
     ]
    },
    {
     "name": "stderr",
     "output_type": "stream",
     "text": [
      " 65%|██████▌   | 3252/5000 [1:14:54<1:35:24,  3.27s/it]"
     ]
    },
    {
     "name": "stdout",
     "output_type": "stream",
     "text": [
      "output.shape=torch.Size([20, 2423, 8])\n",
      "targets.shape=torch.Size([20, 2423, 8])\n",
      "torch.Size([48460]) torch.Size([48460])\n",
      "12059\n",
      "stacked output.shape=torch.Size([48460, 8])\n",
      "targets.shape=torch.Size([48460, 8])\n"
     ]
    },
    {
     "name": "stderr",
     "output_type": "stream",
     "text": [
      " 65%|██████▌   | 3253/5000 [1:14:58<1:38:55,  3.40s/it]"
     ]
    },
    {
     "name": "stdout",
     "output_type": "stream",
     "text": [
      "12660\n"
     ]
    },
    {
     "name": "stderr",
     "output_type": "stream",
     "text": [
      " 65%|██████▌   | 3255/5000 [1:15:03<1:27:08,  3.00s/it]"
     ]
    },
    {
     "name": "stdout",
     "output_type": "stream",
     "text": [
      "output.shape=torch.Size([20, 2423, 8])\n",
      "targets.shape=torch.Size([20, 2423, 8])\n",
      "torch.Size([48460]) torch.Size([48460])\n",
      "12050\n",
      "stacked output.shape=torch.Size([48460, 8])\n",
      "targets.shape=torch.Size([48460, 8])\n"
     ]
    },
    {
     "name": "stderr",
     "output_type": "stream",
     "text": [
      " 65%|██████▌   | 3256/5000 [1:15:07<1:36:55,  3.33s/it]"
     ]
    },
    {
     "name": "stdout",
     "output_type": "stream",
     "text": [
      "12680\n"
     ]
    },
    {
     "name": "stderr",
     "output_type": "stream",
     "text": [
      " 65%|██████▌   | 3258/5000 [1:15:13<1:28:24,  3.05s/it]"
     ]
    },
    {
     "name": "stdout",
     "output_type": "stream",
     "text": [
      "output.shape=torch.Size([20, 2423, 8])\n",
      "targets.shape=torch.Size([20, 2423, 8])\n",
      "torch.Size([48460]) torch.Size([48460])\n",
      "12062\n",
      "stacked output.shape=torch.Size([48460, 8])\n",
      "targets.shape=torch.Size([48460, 8])\n"
     ]
    },
    {
     "name": "stderr",
     "output_type": "stream",
     "text": [
      " 65%|██████▌   | 3259/5000 [1:15:17<1:39:42,  3.44s/it]"
     ]
    },
    {
     "name": "stdout",
     "output_type": "stream",
     "text": [
      "12900\n"
     ]
    },
    {
     "name": "stderr",
     "output_type": "stream",
     "text": [
      " 65%|██████▌   | 3261/5000 [1:15:23<1:34:47,  3.27s/it]"
     ]
    },
    {
     "name": "stdout",
     "output_type": "stream",
     "text": [
      "output.shape=torch.Size([20, 2423, 8])\n",
      "targets.shape=torch.Size([20, 2423, 8])\n",
      "torch.Size([48460]) torch.Size([48460])\n",
      "12043\n",
      "stacked output.shape=torch.Size([48460, 8])\n",
      "targets.shape=torch.Size([48460, 8])\n"
     ]
    },
    {
     "name": "stderr",
     "output_type": "stream",
     "text": [
      " 65%|██████▌   | 3262/5000 [1:15:27<1:38:46,  3.41s/it]"
     ]
    },
    {
     "name": "stdout",
     "output_type": "stream",
     "text": [
      "12580\n"
     ]
    },
    {
     "name": "stderr",
     "output_type": "stream",
     "text": [
      " 65%|██████▌   | 3264/5000 [1:15:33<1:30:59,  3.15s/it]"
     ]
    },
    {
     "name": "stdout",
     "output_type": "stream",
     "text": [
      "output.shape=torch.Size([20, 2423, 8])\n",
      "targets.shape=torch.Size([20, 2423, 8])\n",
      "torch.Size([48460]) torch.Size([48460])\n",
      "12040\n",
      "stacked output.shape=torch.Size([48460, 8])\n",
      "targets.shape=torch.Size([48460, 8])\n"
     ]
    },
    {
     "name": "stderr",
     "output_type": "stream",
     "text": [
      " 65%|██████▌   | 3265/5000 [1:15:36<1:35:24,  3.30s/it]"
     ]
    },
    {
     "name": "stdout",
     "output_type": "stream",
     "text": [
      "12800\n"
     ]
    },
    {
     "name": "stderr",
     "output_type": "stream",
     "text": [
      " 65%|██████▌   | 3267/5000 [1:15:43<1:35:12,  3.30s/it]"
     ]
    },
    {
     "name": "stdout",
     "output_type": "stream",
     "text": [
      "output.shape=torch.Size([20, 2423, 8])\n",
      "targets.shape=torch.Size([20, 2423, 8])\n",
      "torch.Size([48460]) torch.Size([48460])\n",
      "12066\n",
      "stacked output.shape=torch.Size([48460, 8])\n",
      "targets.shape=torch.Size([48460, 8])\n"
     ]
    },
    {
     "name": "stderr",
     "output_type": "stream",
     "text": [
      " 65%|██████▌   | 3268/5000 [1:15:47<1:38:24,  3.41s/it]"
     ]
    },
    {
     "name": "stdout",
     "output_type": "stream",
     "text": [
      "13160\n"
     ]
    },
    {
     "name": "stderr",
     "output_type": "stream",
     "text": [
      " 65%|██████▌   | 3270/5000 [1:15:54<1:39:54,  3.46s/it]"
     ]
    },
    {
     "name": "stdout",
     "output_type": "stream",
     "text": [
      "output.shape=torch.Size([20, 2423, 8])\n",
      "targets.shape=torch.Size([20, 2423, 8])\n",
      "torch.Size([48460]) torch.Size([48460])\n",
      "12120\n",
      "stacked output.shape=torch.Size([48460, 8])\n",
      "targets.shape=torch.Size([48460, 8])\n"
     ]
    },
    {
     "name": "stderr",
     "output_type": "stream",
     "text": [
      " 65%|██████▌   | 3271/5000 [1:15:57<1:40:47,  3.50s/it]"
     ]
    },
    {
     "name": "stdout",
     "output_type": "stream",
     "text": [
      "12800\n"
     ]
    },
    {
     "name": "stderr",
     "output_type": "stream",
     "text": [
      " 65%|██████▌   | 3273/5000 [1:16:05<1:46:25,  3.70s/it]"
     ]
    },
    {
     "name": "stdout",
     "output_type": "stream",
     "text": [
      "output.shape=torch.Size([20, 2423, 8])\n",
      "targets.shape=torch.Size([20, 2423, 8])\n",
      "torch.Size([48460]) torch.Size([48460])\n",
      "12053\n",
      "stacked output.shape=torch.Size([48460, 8])\n",
      "targets.shape=torch.Size([48460, 8])\n"
     ]
    },
    {
     "name": "stderr",
     "output_type": "stream",
     "text": [
      " 65%|██████▌   | 3274/5000 [1:16:09<1:50:11,  3.83s/it]"
     ]
    },
    {
     "name": "stdout",
     "output_type": "stream",
     "text": [
      "12820\n"
     ]
    },
    {
     "name": "stderr",
     "output_type": "stream",
     "text": [
      " 66%|██████▌   | 3276/5000 [1:16:14<1:31:11,  3.17s/it]"
     ]
    },
    {
     "name": "stdout",
     "output_type": "stream",
     "text": [
      "output.shape=torch.Size([20, 2423, 8])\n",
      "targets.shape=torch.Size([20, 2423, 8])\n",
      "torch.Size([48460]) torch.Size([48460])\n",
      "12099\n",
      "stacked output.shape=torch.Size([48460, 8])\n",
      "targets.shape=torch.Size([48460, 8])\n"
     ]
    },
    {
     "name": "stderr",
     "output_type": "stream",
     "text": [
      " 66%|██████▌   | 3277/5000 [1:16:18<1:31:25,  3.18s/it]"
     ]
    },
    {
     "name": "stdout",
     "output_type": "stream",
     "text": [
      "12700\n"
     ]
    },
    {
     "name": "stderr",
     "output_type": "stream",
     "text": [
      " 66%|██████▌   | 3279/5000 [1:16:23<1:25:07,  2.97s/it]"
     ]
    },
    {
     "name": "stdout",
     "output_type": "stream",
     "text": [
      "output.shape=torch.Size([20, 2423, 8])\n",
      "targets.shape=torch.Size([20, 2423, 8])\n",
      "torch.Size([48460]) torch.Size([48460])\n",
      "12049\n",
      "stacked output.shape=torch.Size([48460, 8])\n",
      "targets.shape=torch.Size([48460, 8])\n"
     ]
    },
    {
     "name": "stderr",
     "output_type": "stream",
     "text": [
      " 66%|██████▌   | 3280/5000 [1:16:27<1:33:34,  3.26s/it]"
     ]
    },
    {
     "name": "stdout",
     "output_type": "stream",
     "text": [
      "12920\n"
     ]
    },
    {
     "name": "stderr",
     "output_type": "stream",
     "text": [
      " 66%|██████▌   | 3282/5000 [1:16:34<1:34:59,  3.32s/it]"
     ]
    },
    {
     "name": "stdout",
     "output_type": "stream",
     "text": [
      "output.shape=torch.Size([20, 2423, 8])\n",
      "targets.shape=torch.Size([20, 2423, 8])\n",
      "torch.Size([48460]) torch.Size([48460])\n",
      "12092\n",
      "stacked output.shape=torch.Size([48460, 8])\n",
      "targets.shape=torch.Size([48460, 8])\n"
     ]
    },
    {
     "name": "stderr",
     "output_type": "stream",
     "text": [
      " 66%|██████▌   | 3283/5000 [1:16:39<1:53:12,  3.96s/it]"
     ]
    },
    {
     "name": "stdout",
     "output_type": "stream",
     "text": [
      "13040\n"
     ]
    },
    {
     "name": "stderr",
     "output_type": "stream",
     "text": [
      " 66%|██████▌   | 3285/5000 [1:16:45<1:38:59,  3.46s/it]"
     ]
    },
    {
     "name": "stdout",
     "output_type": "stream",
     "text": [
      "output.shape=torch.Size([20, 2423, 8])\n",
      "targets.shape=torch.Size([20, 2423, 8])\n",
      "torch.Size([48460]) torch.Size([48460])\n",
      "12064\n",
      "stacked output.shape=torch.Size([48460, 8])\n",
      "targets.shape=torch.Size([48460, 8])\n"
     ]
    },
    {
     "name": "stderr",
     "output_type": "stream",
     "text": [
      " 66%|██████▌   | 3286/5000 [1:16:48<1:37:12,  3.40s/it]"
     ]
    },
    {
     "name": "stdout",
     "output_type": "stream",
     "text": [
      "12680\n"
     ]
    },
    {
     "name": "stderr",
     "output_type": "stream",
     "text": [
      " 66%|██████▌   | 3288/5000 [1:16:53<1:24:47,  2.97s/it]"
     ]
    },
    {
     "name": "stdout",
     "output_type": "stream",
     "text": [
      "output.shape=torch.Size([20, 2423, 8])\n",
      "targets.shape=torch.Size([20, 2423, 8])\n",
      "torch.Size([48460]) torch.Size([48460])\n",
      "12075\n",
      "stacked output.shape=torch.Size([48460, 8])\n",
      "targets.shape=torch.Size([48460, 8])\n"
     ]
    },
    {
     "name": "stderr",
     "output_type": "stream",
     "text": [
      " 66%|██████▌   | 3289/5000 [1:16:56<1:27:18,  3.06s/it]"
     ]
    },
    {
     "name": "stdout",
     "output_type": "stream",
     "text": [
      "12760\n"
     ]
    },
    {
     "name": "stderr",
     "output_type": "stream",
     "text": [
      " 66%|██████▌   | 3291/5000 [1:17:01<1:18:29,  2.76s/it]"
     ]
    },
    {
     "name": "stdout",
     "output_type": "stream",
     "text": [
      "output.shape=torch.Size([20, 2423, 8])\n",
      "targets.shape=torch.Size([20, 2423, 8])\n",
      "torch.Size([48460]) torch.Size([48460])\n",
      "12097\n",
      "stacked output.shape=torch.Size([48460, 8])\n",
      "targets.shape=torch.Size([48460, 8])\n"
     ]
    },
    {
     "name": "stderr",
     "output_type": "stream",
     "text": [
      " 66%|██████▌   | 3292/5000 [1:17:05<1:26:04,  3.02s/it]"
     ]
    },
    {
     "name": "stdout",
     "output_type": "stream",
     "text": [
      "12900\n"
     ]
    },
    {
     "name": "stderr",
     "output_type": "stream",
     "text": [
      " 66%|██████▌   | 3294/5000 [1:17:11<1:26:13,  3.03s/it]"
     ]
    },
    {
     "name": "stdout",
     "output_type": "stream",
     "text": [
      "output.shape=torch.Size([20, 2423, 8])\n",
      "targets.shape=torch.Size([20, 2423, 8])\n",
      "torch.Size([48460]) torch.Size([48460])\n",
      "12091\n",
      "stacked output.shape=torch.Size([48460, 8])\n",
      "targets.shape=torch.Size([48460, 8])\n"
     ]
    },
    {
     "name": "stderr",
     "output_type": "stream",
     "text": [
      " 66%|██████▌   | 3295/5000 [1:17:16<1:37:37,  3.44s/it]"
     ]
    },
    {
     "name": "stdout",
     "output_type": "stream",
     "text": [
      "12780\n"
     ]
    },
    {
     "name": "stderr",
     "output_type": "stream",
     "text": [
      " 66%|██████▌   | 3297/5000 [1:17:22<1:30:20,  3.18s/it]"
     ]
    },
    {
     "name": "stdout",
     "output_type": "stream",
     "text": [
      "output.shape=torch.Size([20, 2423, 8])\n",
      "targets.shape=torch.Size([20, 2423, 8])\n",
      "torch.Size([48460]) torch.Size([48460])\n",
      "12112\n",
      "stacked output.shape=torch.Size([48460, 8])\n",
      "targets.shape=torch.Size([48460, 8])\n"
     ]
    },
    {
     "name": "stderr",
     "output_type": "stream",
     "text": [
      " 66%|██████▌   | 3298/5000 [1:17:25<1:30:58,  3.21s/it]"
     ]
    },
    {
     "name": "stdout",
     "output_type": "stream",
     "text": [
      "13000\n"
     ]
    },
    {
     "name": "stderr",
     "output_type": "stream",
     "text": [
      " 66%|██████▌   | 3300/5000 [1:17:30<1:21:30,  2.88s/it]"
     ]
    },
    {
     "name": "stdout",
     "output_type": "stream",
     "text": [
      "output.shape=torch.Size([20, 2423, 8])\n",
      "targets.shape=torch.Size([20, 2423, 8])\n",
      "torch.Size([48460]) torch.Size([48460])\n",
      "12064\n",
      "stacked output.shape=torch.Size([48460, 8])\n",
      "targets.shape=torch.Size([48460, 8])\n"
     ]
    },
    {
     "name": "stderr",
     "output_type": "stream",
     "text": [
      " 66%|██████▌   | 3301/5000 [1:17:33<1:25:56,  3.03s/it]"
     ]
    },
    {
     "name": "stdout",
     "output_type": "stream",
     "text": [
      "12860\n"
     ]
    },
    {
     "name": "stderr",
     "output_type": "stream",
     "text": [
      " 66%|██████▌   | 3303/5000 [1:17:39<1:20:50,  2.86s/it]"
     ]
    },
    {
     "name": "stdout",
     "output_type": "stream",
     "text": [
      "output.shape=torch.Size([20, 2423, 8])\n",
      "targets.shape=torch.Size([20, 2423, 8])\n",
      "torch.Size([48460]) torch.Size([48460])\n",
      "12039\n",
      "stacked output.shape=torch.Size([48460, 8])\n",
      "targets.shape=torch.Size([48460, 8])\n"
     ]
    },
    {
     "name": "stderr",
     "output_type": "stream",
     "text": [
      " 66%|██████▌   | 3304/5000 [1:17:42<1:23:31,  2.95s/it]"
     ]
    },
    {
     "name": "stdout",
     "output_type": "stream",
     "text": [
      "12640\n"
     ]
    },
    {
     "name": "stderr",
     "output_type": "stream",
     "text": [
      " 66%|██████▌   | 3306/5000 [1:17:47<1:20:39,  2.86s/it]"
     ]
    },
    {
     "name": "stdout",
     "output_type": "stream",
     "text": [
      "output.shape=torch.Size([20, 2423, 8])\n",
      "targets.shape=torch.Size([20, 2423, 8])\n",
      "torch.Size([48460]) torch.Size([48460])\n",
      "12088\n",
      "stacked output.shape=torch.Size([48460, 8])\n",
      "targets.shape=torch.Size([48460, 8])\n"
     ]
    },
    {
     "name": "stderr",
     "output_type": "stream",
     "text": [
      " 66%|██████▌   | 3307/5000 [1:17:52<1:34:19,  3.34s/it]"
     ]
    },
    {
     "name": "stdout",
     "output_type": "stream",
     "text": [
      "12960\n"
     ]
    },
    {
     "name": "stderr",
     "output_type": "stream",
     "text": [
      " 66%|██████▌   | 3309/5000 [1:17:57<1:22:09,  2.91s/it]"
     ]
    },
    {
     "name": "stdout",
     "output_type": "stream",
     "text": [
      "output.shape=torch.Size([20, 2423, 8])\n",
      "targets.shape=torch.Size([20, 2423, 8])\n",
      "torch.Size([48460]) torch.Size([48460])\n",
      "12141\n",
      "stacked output.shape=torch.Size([48460, 8])\n",
      "targets.shape=torch.Size([48460, 8])\n"
     ]
    },
    {
     "name": "stderr",
     "output_type": "stream",
     "text": [
      " 66%|██████▌   | 3310/5000 [1:18:01<1:29:32,  3.18s/it]"
     ]
    },
    {
     "name": "stdout",
     "output_type": "stream",
     "text": [
      "12800\n"
     ]
    },
    {
     "name": "stderr",
     "output_type": "stream",
     "text": [
      " 66%|██████▌   | 3312/5000 [1:18:06<1:19:29,  2.83s/it]"
     ]
    },
    {
     "name": "stdout",
     "output_type": "stream",
     "text": [
      "output.shape=torch.Size([20, 2423, 8])\n",
      "targets.shape=torch.Size([20, 2423, 8])\n",
      "torch.Size([48460]) torch.Size([48460])\n",
      "12125\n",
      "stacked output.shape=torch.Size([48460, 8])\n",
      "targets.shape=torch.Size([48460, 8])\n"
     ]
    },
    {
     "name": "stderr",
     "output_type": "stream",
     "text": [
      " 66%|██████▋   | 3313/5000 [1:18:09<1:22:10,  2.92s/it]"
     ]
    },
    {
     "name": "stdout",
     "output_type": "stream",
     "text": [
      "12720\n"
     ]
    },
    {
     "name": "stderr",
     "output_type": "stream",
     "text": [
      " 66%|██████▋   | 3315/5000 [1:18:14<1:21:23,  2.90s/it]"
     ]
    },
    {
     "name": "stdout",
     "output_type": "stream",
     "text": [
      "output.shape=torch.Size([20, 2423, 8])\n",
      "targets.shape=torch.Size([20, 2423, 8])\n",
      "torch.Size([48460]) torch.Size([48460])\n",
      "12063\n",
      "stacked output.shape=torch.Size([48460, 8])\n",
      "targets.shape=torch.Size([48460, 8])\n"
     ]
    },
    {
     "name": "stderr",
     "output_type": "stream",
     "text": [
      " 66%|██████▋   | 3316/5000 [1:18:18<1:26:36,  3.09s/it]"
     ]
    },
    {
     "name": "stdout",
     "output_type": "stream",
     "text": [
      "12840\n"
     ]
    },
    {
     "name": "stderr",
     "output_type": "stream",
     "text": [
      " 66%|██████▋   | 3318/5000 [1:18:23<1:15:45,  2.70s/it]"
     ]
    },
    {
     "name": "stdout",
     "output_type": "stream",
     "text": [
      "output.shape=torch.Size([20, 2423, 8])\n",
      "targets.shape=torch.Size([20, 2423, 8])\n",
      "torch.Size([48460]) torch.Size([48460])\n",
      "12066\n",
      "stacked output.shape=torch.Size([48460, 8])\n",
      "targets.shape=torch.Size([48460, 8])\n"
     ]
    },
    {
     "name": "stderr",
     "output_type": "stream",
     "text": [
      " 66%|██████▋   | 3319/5000 [1:18:26<1:20:20,  2.87s/it]"
     ]
    },
    {
     "name": "stdout",
     "output_type": "stream",
     "text": [
      "12620\n"
     ]
    },
    {
     "name": "stderr",
     "output_type": "stream",
     "text": [
      " 66%|██████▋   | 3321/5000 [1:18:30<1:11:53,  2.57s/it]"
     ]
    },
    {
     "name": "stdout",
     "output_type": "stream",
     "text": [
      "output.shape=torch.Size([20, 2423, 8])\n",
      "targets.shape=torch.Size([20, 2423, 8])\n",
      "torch.Size([48460]) torch.Size([48460])\n",
      "12048\n",
      "stacked output.shape=torch.Size([48460, 8])\n",
      "targets.shape=torch.Size([48460, 8])\n"
     ]
    },
    {
     "name": "stderr",
     "output_type": "stream",
     "text": [
      " 66%|██████▋   | 3322/5000 [1:18:33<1:13:47,  2.64s/it]"
     ]
    },
    {
     "name": "stdout",
     "output_type": "stream",
     "text": [
      "12920\n"
     ]
    },
    {
     "name": "stderr",
     "output_type": "stream",
     "text": [
      " 66%|██████▋   | 3324/5000 [1:18:38<1:07:49,  2.43s/it]"
     ]
    },
    {
     "name": "stdout",
     "output_type": "stream",
     "text": [
      "output.shape=torch.Size([20, 2423, 8])\n",
      "targets.shape=torch.Size([20, 2423, 8])\n",
      "torch.Size([48460]) torch.Size([48460])\n",
      "12064\n",
      "stacked output.shape=torch.Size([48460, 8])\n",
      "targets.shape=torch.Size([48460, 8])\n"
     ]
    },
    {
     "name": "stderr",
     "output_type": "stream",
     "text": [
      " 66%|██████▋   | 3325/5000 [1:18:41<1:11:17,  2.55s/it]"
     ]
    },
    {
     "name": "stdout",
     "output_type": "stream",
     "text": [
      "12800\n"
     ]
    },
    {
     "name": "stderr",
     "output_type": "stream",
     "text": [
      " 67%|██████▋   | 3327/5000 [1:18:45<1:08:31,  2.46s/it]"
     ]
    },
    {
     "name": "stdout",
     "output_type": "stream",
     "text": [
      "output.shape=torch.Size([20, 2423, 8])\n",
      "targets.shape=torch.Size([20, 2423, 8])\n",
      "torch.Size([48460]) torch.Size([48460])\n",
      "12050\n",
      "stacked output.shape=torch.Size([48460, 8])\n",
      "targets.shape=torch.Size([48460, 8])\n"
     ]
    },
    {
     "name": "stderr",
     "output_type": "stream",
     "text": [
      " 67%|██████▋   | 3328/5000 [1:18:48<1:12:41,  2.61s/it]"
     ]
    },
    {
     "name": "stdout",
     "output_type": "stream",
     "text": [
      "12640\n"
     ]
    },
    {
     "name": "stderr",
     "output_type": "stream",
     "text": [
      " 67%|██████▋   | 3330/5000 [1:18:53<1:07:38,  2.43s/it]"
     ]
    },
    {
     "name": "stdout",
     "output_type": "stream",
     "text": [
      "output.shape=torch.Size([20, 2423, 8])\n",
      "targets.shape=torch.Size([20, 2423, 8])\n",
      "torch.Size([48460]) torch.Size([48460])\n",
      "12025\n",
      "stacked output.shape=torch.Size([48460, 8])\n",
      "targets.shape=torch.Size([48460, 8])\n"
     ]
    },
    {
     "name": "stderr",
     "output_type": "stream",
     "text": [
      " 67%|██████▋   | 3331/5000 [1:18:56<1:10:31,  2.54s/it]"
     ]
    },
    {
     "name": "stdout",
     "output_type": "stream",
     "text": [
      "12860\n"
     ]
    },
    {
     "name": "stderr",
     "output_type": "stream",
     "text": [
      " 67%|██████▋   | 3333/5000 [1:19:00<1:06:54,  2.41s/it]"
     ]
    },
    {
     "name": "stdout",
     "output_type": "stream",
     "text": [
      "output.shape=torch.Size([20, 2423, 8])\n",
      "targets.shape=torch.Size([20, 2423, 8])\n",
      "torch.Size([48460]) torch.Size([48460])\n",
      "12107\n",
      "stacked output.shape=torch.Size([48460, 8])\n",
      "targets.shape=torch.Size([48460, 8])\n"
     ]
    },
    {
     "name": "stderr",
     "output_type": "stream",
     "text": [
      " 67%|██████▋   | 3334/5000 [1:19:03<1:12:57,  2.63s/it]"
     ]
    },
    {
     "name": "stdout",
     "output_type": "stream",
     "text": [
      "12840\n"
     ]
    },
    {
     "name": "stderr",
     "output_type": "stream",
     "text": [
      " 67%|██████▋   | 3336/5000 [1:19:08<1:10:22,  2.54s/it]"
     ]
    },
    {
     "name": "stdout",
     "output_type": "stream",
     "text": [
      "output.shape=torch.Size([20, 2423, 8])\n",
      "targets.shape=torch.Size([20, 2423, 8])\n",
      "torch.Size([48460]) torch.Size([48460])\n",
      "11982\n",
      "stacked output.shape=torch.Size([48460, 8])\n",
      "targets.shape=torch.Size([48460, 8])\n"
     ]
    },
    {
     "name": "stderr",
     "output_type": "stream",
     "text": [
      " 67%|██████▋   | 3337/5000 [1:19:12<1:19:01,  2.85s/it]"
     ]
    },
    {
     "name": "stdout",
     "output_type": "stream",
     "text": [
      "12660\n"
     ]
    },
    {
     "name": "stderr",
     "output_type": "stream",
     "text": [
      " 67%|██████▋   | 3339/5000 [1:19:17<1:19:01,  2.85s/it]"
     ]
    },
    {
     "name": "stdout",
     "output_type": "stream",
     "text": [
      "output.shape=torch.Size([20, 2423, 8])\n",
      "targets.shape=torch.Size([20, 2423, 8])\n",
      "torch.Size([48460]) torch.Size([48460])\n",
      "12065\n",
      "stacked output.shape=torch.Size([48460, 8])\n",
      "targets.shape=torch.Size([48460, 8])\n"
     ]
    },
    {
     "name": "stderr",
     "output_type": "stream",
     "text": [
      " 67%|██████▋   | 3340/5000 [1:19:21<1:24:08,  3.04s/it]"
     ]
    },
    {
     "name": "stdout",
     "output_type": "stream",
     "text": [
      "12920\n"
     ]
    },
    {
     "name": "stderr",
     "output_type": "stream",
     "text": [
      " 67%|██████▋   | 3342/5000 [1:19:26<1:14:30,  2.70s/it]"
     ]
    },
    {
     "name": "stdout",
     "output_type": "stream",
     "text": [
      "output.shape=torch.Size([20, 2423, 8])\n",
      "targets.shape=torch.Size([20, 2423, 8])\n",
      "torch.Size([48460]) torch.Size([48460])\n",
      "12040\n",
      "stacked output.shape=torch.Size([48460, 8])\n",
      "targets.shape=torch.Size([48460, 8])\n"
     ]
    },
    {
     "name": "stderr",
     "output_type": "stream",
     "text": [
      " 67%|██████▋   | 3343/5000 [1:19:29<1:18:52,  2.86s/it]"
     ]
    },
    {
     "name": "stdout",
     "output_type": "stream",
     "text": [
      "12940\n"
     ]
    },
    {
     "name": "stderr",
     "output_type": "stream",
     "text": [
      " 67%|██████▋   | 3345/5000 [1:19:34<1:14:12,  2.69s/it]"
     ]
    },
    {
     "name": "stdout",
     "output_type": "stream",
     "text": [
      "output.shape=torch.Size([20, 2423, 8])\n",
      "targets.shape=torch.Size([20, 2423, 8])\n",
      "torch.Size([48460]) torch.Size([48460])\n",
      "12081\n",
      "stacked output.shape=torch.Size([48460, 8])\n",
      "targets.shape=torch.Size([48460, 8])\n"
     ]
    },
    {
     "name": "stderr",
     "output_type": "stream",
     "text": [
      " 67%|██████▋   | 3346/5000 [1:19:38<1:24:05,  3.05s/it]"
     ]
    },
    {
     "name": "stdout",
     "output_type": "stream",
     "text": [
      "13020\n"
     ]
    },
    {
     "name": "stderr",
     "output_type": "stream",
     "text": [
      " 67%|██████▋   | 3348/5000 [1:19:44<1:22:22,  2.99s/it]"
     ]
    },
    {
     "name": "stdout",
     "output_type": "stream",
     "text": [
      "output.shape=torch.Size([20, 2423, 8])\n",
      "targets.shape=torch.Size([20, 2423, 8])\n",
      "torch.Size([48460]) torch.Size([48460])\n",
      "12086\n",
      "stacked output.shape=torch.Size([48460, 8])\n",
      "targets.shape=torch.Size([48460, 8])\n"
     ]
    },
    {
     "name": "stderr",
     "output_type": "stream",
     "text": [
      " 67%|██████▋   | 3349/5000 [1:19:47<1:26:20,  3.14s/it]"
     ]
    },
    {
     "name": "stdout",
     "output_type": "stream",
     "text": [
      "12940\n"
     ]
    },
    {
     "name": "stderr",
     "output_type": "stream",
     "text": [
      " 67%|██████▋   | 3351/5000 [1:19:53<1:19:00,  2.87s/it]"
     ]
    },
    {
     "name": "stdout",
     "output_type": "stream",
     "text": [
      "output.shape=torch.Size([20, 2423, 8])\n",
      "targets.shape=torch.Size([20, 2423, 8])\n",
      "torch.Size([48460]) torch.Size([48460])\n",
      "12070\n",
      "stacked output.shape=torch.Size([48460, 8])\n",
      "targets.shape=torch.Size([48460, 8])\n"
     ]
    },
    {
     "name": "stderr",
     "output_type": "stream",
     "text": [
      " 67%|██████▋   | 3352/5000 [1:19:56<1:20:45,  2.94s/it]"
     ]
    },
    {
     "name": "stdout",
     "output_type": "stream",
     "text": [
      "12880\n"
     ]
    },
    {
     "name": "stderr",
     "output_type": "stream",
     "text": [
      " 67%|██████▋   | 3354/5000 [1:20:01<1:16:35,  2.79s/it]"
     ]
    },
    {
     "name": "stdout",
     "output_type": "stream",
     "text": [
      "output.shape=torch.Size([20, 2423, 8])\n",
      "targets.shape=torch.Size([20, 2423, 8])\n",
      "torch.Size([48460]) torch.Size([48460])\n",
      "12088\n",
      "stacked output.shape=torch.Size([48460, 8])\n",
      "targets.shape=torch.Size([48460, 8])\n"
     ]
    },
    {
     "name": "stderr",
     "output_type": "stream",
     "text": [
      " 67%|██████▋   | 3355/5000 [1:20:04<1:18:56,  2.88s/it]"
     ]
    },
    {
     "name": "stdout",
     "output_type": "stream",
     "text": [
      "12840\n"
     ]
    },
    {
     "name": "stderr",
     "output_type": "stream",
     "text": [
      " 67%|██████▋   | 3357/5000 [1:20:11<1:29:48,  3.28s/it]"
     ]
    },
    {
     "name": "stdout",
     "output_type": "stream",
     "text": [
      "output.shape=torch.Size([20, 2423, 8])\n",
      "targets.shape=torch.Size([20, 2423, 8])\n",
      "torch.Size([48460]) torch.Size([48460])\n",
      "12094\n",
      "stacked output.shape=torch.Size([48460, 8])\n",
      "targets.shape=torch.Size([48460, 8])\n"
     ]
    },
    {
     "name": "stderr",
     "output_type": "stream",
     "text": [
      " 67%|██████▋   | 3358/5000 [1:20:15<1:33:59,  3.43s/it]"
     ]
    },
    {
     "name": "stdout",
     "output_type": "stream",
     "text": [
      "12920\n"
     ]
    },
    {
     "name": "stderr",
     "output_type": "stream",
     "text": [
      " 67%|██████▋   | 3360/5000 [1:20:22<1:35:36,  3.50s/it]"
     ]
    },
    {
     "name": "stdout",
     "output_type": "stream",
     "text": [
      "output.shape=torch.Size([20, 2423, 8])\n",
      "targets.shape=torch.Size([20, 2423, 8])\n",
      "torch.Size([48460]) torch.Size([48460])\n",
      "12088\n",
      "stacked output.shape=torch.Size([48460, 8])\n",
      "targets.shape=torch.Size([48460, 8])\n"
     ]
    },
    {
     "name": "stderr",
     "output_type": "stream",
     "text": [
      " 67%|██████▋   | 3361/5000 [1:20:26<1:40:26,  3.68s/it]"
     ]
    },
    {
     "name": "stdout",
     "output_type": "stream",
     "text": [
      "12840\n"
     ]
    },
    {
     "name": "stderr",
     "output_type": "stream",
     "text": [
      " 67%|██████▋   | 3363/5000 [1:20:32<1:29:25,  3.28s/it]"
     ]
    },
    {
     "name": "stdout",
     "output_type": "stream",
     "text": [
      "output.shape=torch.Size([20, 2423, 8])\n",
      "targets.shape=torch.Size([20, 2423, 8])\n",
      "torch.Size([48460]) torch.Size([48460])\n",
      "12068\n",
      "stacked output.shape=torch.Size([48460, 8])\n",
      "targets.shape=torch.Size([48460, 8])\n"
     ]
    },
    {
     "name": "stderr",
     "output_type": "stream",
     "text": [
      " 67%|██████▋   | 3364/5000 [1:20:35<1:28:53,  3.26s/it]"
     ]
    },
    {
     "name": "stdout",
     "output_type": "stream",
     "text": [
      "12800\n"
     ]
    },
    {
     "name": "stderr",
     "output_type": "stream",
     "text": [
      " 67%|██████▋   | 3366/5000 [1:20:40<1:16:42,  2.82s/it]"
     ]
    },
    {
     "name": "stdout",
     "output_type": "stream",
     "text": [
      "output.shape=torch.Size([20, 2423, 8])\n",
      "targets.shape=torch.Size([20, 2423, 8])\n",
      "torch.Size([48460]) torch.Size([48460])\n",
      "12042\n",
      "stacked output.shape=torch.Size([48460, 8])\n",
      "targets.shape=torch.Size([48460, 8])\n"
     ]
    },
    {
     "name": "stderr",
     "output_type": "stream",
     "text": [
      " 67%|██████▋   | 3367/5000 [1:20:44<1:24:44,  3.11s/it]"
     ]
    },
    {
     "name": "stdout",
     "output_type": "stream",
     "text": [
      "12860\n"
     ]
    },
    {
     "name": "stderr",
     "output_type": "stream",
     "text": [
      " 67%|██████▋   | 3369/5000 [1:20:50<1:23:35,  3.08s/it]"
     ]
    },
    {
     "name": "stdout",
     "output_type": "stream",
     "text": [
      "output.shape=torch.Size([20, 2423, 8])\n",
      "targets.shape=torch.Size([20, 2423, 8])\n",
      "torch.Size([48460]) torch.Size([48460])\n",
      "12127\n",
      "stacked output.shape=torch.Size([48460, 8])\n",
      "targets.shape=torch.Size([48460, 8])\n"
     ]
    },
    {
     "name": "stderr",
     "output_type": "stream",
     "text": [
      " 67%|██████▋   | 3370/5000 [1:20:53<1:26:13,  3.17s/it]"
     ]
    },
    {
     "name": "stdout",
     "output_type": "stream",
     "text": [
      "12680\n"
     ]
    },
    {
     "name": "stderr",
     "output_type": "stream",
     "text": [
      " 67%|██████▋   | 3372/5000 [1:20:59<1:20:40,  2.97s/it]"
     ]
    },
    {
     "name": "stdout",
     "output_type": "stream",
     "text": [
      "output.shape=torch.Size([20, 2423, 8])\n",
      "targets.shape=torch.Size([20, 2423, 8])\n",
      "torch.Size([48460]) torch.Size([48460])\n",
      "12114\n",
      "stacked output.shape=torch.Size([48460, 8])\n",
      "targets.shape=torch.Size([48460, 8])\n"
     ]
    },
    {
     "name": "stderr",
     "output_type": "stream",
     "text": [
      " 67%|██████▋   | 3373/5000 [1:21:02<1:24:23,  3.11s/it]"
     ]
    },
    {
     "name": "stdout",
     "output_type": "stream",
     "text": [
      "12620\n"
     ]
    },
    {
     "name": "stderr",
     "output_type": "stream",
     "text": [
      " 68%|██████▊   | 3375/5000 [1:21:08<1:22:16,  3.04s/it]"
     ]
    },
    {
     "name": "stdout",
     "output_type": "stream",
     "text": [
      "output.shape=torch.Size([20, 2423, 8])\n",
      "targets.shape=torch.Size([20, 2423, 8])\n",
      "torch.Size([48460]) torch.Size([48460])\n",
      "12030\n",
      "stacked output.shape=torch.Size([48460, 8])\n",
      "targets.shape=torch.Size([48460, 8])\n"
     ]
    },
    {
     "name": "stderr",
     "output_type": "stream",
     "text": [
      " 68%|██████▊   | 3376/5000 [1:21:12<1:23:30,  3.09s/it]"
     ]
    },
    {
     "name": "stdout",
     "output_type": "stream",
     "text": [
      "12980\n"
     ]
    },
    {
     "name": "stderr",
     "output_type": "stream",
     "text": [
      " 68%|██████▊   | 3378/5000 [1:21:17<1:17:02,  2.85s/it]"
     ]
    },
    {
     "name": "stdout",
     "output_type": "stream",
     "text": [
      "output.shape=torch.Size([20, 2423, 8])\n",
      "targets.shape=torch.Size([20, 2423, 8])\n",
      "torch.Size([48460]) torch.Size([48460])\n",
      "12034\n",
      "stacked output.shape=torch.Size([48460, 8])\n",
      "targets.shape=torch.Size([48460, 8])\n"
     ]
    },
    {
     "name": "stderr",
     "output_type": "stream",
     "text": [
      " 68%|██████▊   | 3379/5000 [1:21:20<1:18:53,  2.92s/it]"
     ]
    },
    {
     "name": "stdout",
     "output_type": "stream",
     "text": [
      "13020\n"
     ]
    },
    {
     "name": "stderr",
     "output_type": "stream",
     "text": [
      " 68%|██████▊   | 3381/5000 [1:21:25<1:14:22,  2.76s/it]"
     ]
    },
    {
     "name": "stdout",
     "output_type": "stream",
     "text": [
      "output.shape=torch.Size([20, 2423, 8])\n",
      "targets.shape=torch.Size([20, 2423, 8])\n",
      "torch.Size([48460]) torch.Size([48460])\n",
      "12043\n",
      "stacked output.shape=torch.Size([48460, 8])\n",
      "targets.shape=torch.Size([48460, 8])\n"
     ]
    },
    {
     "name": "stderr",
     "output_type": "stream",
     "text": [
      " 68%|██████▊   | 3382/5000 [1:21:28<1:17:01,  2.86s/it]"
     ]
    },
    {
     "name": "stdout",
     "output_type": "stream",
     "text": [
      "12840\n"
     ]
    },
    {
     "name": "stderr",
     "output_type": "stream",
     "text": [
      " 68%|██████▊   | 3384/5000 [1:21:33<1:11:37,  2.66s/it]"
     ]
    },
    {
     "name": "stdout",
     "output_type": "stream",
     "text": [
      "output.shape=torch.Size([20, 2423, 8])\n",
      "targets.shape=torch.Size([20, 2423, 8])\n",
      "torch.Size([48460]) torch.Size([48460])\n",
      "12033\n",
      "stacked output.shape=torch.Size([48460, 8])\n",
      "targets.shape=torch.Size([48460, 8])\n"
     ]
    },
    {
     "name": "stderr",
     "output_type": "stream",
     "text": [
      " 68%|██████▊   | 3385/5000 [1:21:37<1:17:58,  2.90s/it]"
     ]
    },
    {
     "name": "stdout",
     "output_type": "stream",
     "text": [
      "12960\n"
     ]
    },
    {
     "name": "stderr",
     "output_type": "stream",
     "text": [
      " 68%|██████▊   | 3387/5000 [1:21:42<1:14:25,  2.77s/it]"
     ]
    },
    {
     "name": "stdout",
     "output_type": "stream",
     "text": [
      "output.shape=torch.Size([20, 2423, 8])\n",
      "targets.shape=torch.Size([20, 2423, 8])\n",
      "torch.Size([48460]) torch.Size([48460])\n",
      "12082\n",
      "stacked output.shape=torch.Size([48460, 8])\n",
      "targets.shape=torch.Size([48460, 8])\n"
     ]
    },
    {
     "name": "stderr",
     "output_type": "stream",
     "text": [
      " 68%|██████▊   | 3388/5000 [1:21:45<1:19:47,  2.97s/it]"
     ]
    },
    {
     "name": "stdout",
     "output_type": "stream",
     "text": [
      "12860\n"
     ]
    },
    {
     "name": "stderr",
     "output_type": "stream",
     "text": [
      " 68%|██████▊   | 3390/5000 [1:21:51<1:14:32,  2.78s/it]"
     ]
    },
    {
     "name": "stdout",
     "output_type": "stream",
     "text": [
      "output.shape=torch.Size([20, 2423, 8])\n",
      "targets.shape=torch.Size([20, 2423, 8])\n",
      "torch.Size([48460]) torch.Size([48460])\n",
      "12103\n",
      "stacked output.shape=torch.Size([48460, 8])\n",
      "targets.shape=torch.Size([48460, 8])\n"
     ]
    },
    {
     "name": "stderr",
     "output_type": "stream",
     "text": [
      " 68%|██████▊   | 3391/5000 [1:21:54<1:18:56,  2.94s/it]"
     ]
    },
    {
     "name": "stdout",
     "output_type": "stream",
     "text": [
      "12920\n"
     ]
    },
    {
     "name": "stderr",
     "output_type": "stream",
     "text": [
      " 68%|██████▊   | 3393/5000 [1:21:59<1:13:30,  2.74s/it]"
     ]
    },
    {
     "name": "stdout",
     "output_type": "stream",
     "text": [
      "output.shape=torch.Size([20, 2423, 8])\n",
      "targets.shape=torch.Size([20, 2423, 8])\n",
      "torch.Size([48460]) torch.Size([48460])\n",
      "12145\n",
      "stacked output.shape=torch.Size([48460, 8])\n",
      "targets.shape=torch.Size([48460, 8])\n"
     ]
    },
    {
     "name": "stderr",
     "output_type": "stream",
     "text": [
      " 68%|██████▊   | 3394/5000 [1:22:03<1:19:50,  2.98s/it]"
     ]
    },
    {
     "name": "stdout",
     "output_type": "stream",
     "text": [
      "12800\n"
     ]
    },
    {
     "name": "stderr",
     "output_type": "stream",
     "text": [
      " 68%|██████▊   | 3396/5000 [1:22:09<1:23:15,  3.11s/it]"
     ]
    },
    {
     "name": "stdout",
     "output_type": "stream",
     "text": [
      "output.shape=torch.Size([20, 2423, 8])\n",
      "targets.shape=torch.Size([20, 2423, 8])\n",
      "torch.Size([48460]) torch.Size([48460])\n",
      "12107\n",
      "stacked output.shape=torch.Size([48460, 8])\n",
      "targets.shape=torch.Size([48460, 8])\n"
     ]
    },
    {
     "name": "stderr",
     "output_type": "stream",
     "text": [
      " 68%|██████▊   | 3397/5000 [1:22:13<1:32:00,  3.44s/it]"
     ]
    },
    {
     "name": "stdout",
     "output_type": "stream",
     "text": [
      "13140\n"
     ]
    },
    {
     "name": "stderr",
     "output_type": "stream",
     "text": [
      " 68%|██████▊   | 3399/5000 [1:22:18<1:19:03,  2.96s/it]"
     ]
    },
    {
     "name": "stdout",
     "output_type": "stream",
     "text": [
      "output.shape=torch.Size([20, 2423, 8])\n",
      "targets.shape=torch.Size([20, 2423, 8])\n",
      "torch.Size([48460]) torch.Size([48460])\n",
      "12079\n",
      "stacked output.shape=torch.Size([48460, 8])\n",
      "targets.shape=torch.Size([48460, 8])\n"
     ]
    },
    {
     "name": "stderr",
     "output_type": "stream",
     "text": [
      " 68%|██████▊   | 3400/5000 [1:22:21<1:18:12,  2.93s/it]"
     ]
    },
    {
     "name": "stdout",
     "output_type": "stream",
     "text": [
      "13120\n"
     ]
    },
    {
     "name": "stderr",
     "output_type": "stream",
     "text": [
      " 68%|██████▊   | 3402/5000 [1:22:27<1:21:15,  3.05s/it]"
     ]
    },
    {
     "name": "stdout",
     "output_type": "stream",
     "text": [
      "output.shape=torch.Size([20, 2423, 8])\n",
      "targets.shape=torch.Size([20, 2423, 8])\n",
      "torch.Size([48460]) torch.Size([48460])\n",
      "12133\n",
      "stacked output.shape=torch.Size([48460, 8])\n",
      "targets.shape=torch.Size([48460, 8])\n"
     ]
    },
    {
     "name": "stderr",
     "output_type": "stream",
     "text": [
      " 68%|██████▊   | 3403/5000 [1:22:31<1:23:48,  3.15s/it]"
     ]
    },
    {
     "name": "stdout",
     "output_type": "stream",
     "text": [
      "13060\n"
     ]
    },
    {
     "name": "stderr",
     "output_type": "stream",
     "text": [
      " 68%|██████▊   | 3405/5000 [1:22:35<1:11:15,  2.68s/it]"
     ]
    },
    {
     "name": "stdout",
     "output_type": "stream",
     "text": [
      "output.shape=torch.Size([20, 2423, 8])\n",
      "targets.shape=torch.Size([20, 2423, 8])\n",
      "torch.Size([48460]) torch.Size([48460])\n",
      "12142\n",
      "stacked output.shape=torch.Size([48460, 8])\n",
      "targets.shape=torch.Size([48460, 8])\n"
     ]
    },
    {
     "name": "stderr",
     "output_type": "stream",
     "text": [
      " 68%|██████▊   | 3406/5000 [1:22:38<1:12:04,  2.71s/it]"
     ]
    },
    {
     "name": "stdout",
     "output_type": "stream",
     "text": [
      "12940\n"
     ]
    },
    {
     "name": "stderr",
     "output_type": "stream",
     "text": [
      " 68%|██████▊   | 3408/5000 [1:22:42<1:03:17,  2.39s/it]"
     ]
    },
    {
     "name": "stdout",
     "output_type": "stream",
     "text": [
      "output.shape=torch.Size([20, 2423, 8])\n",
      "targets.shape=torch.Size([20, 2423, 8])\n",
      "torch.Size([48460]) torch.Size([48460])\n",
      "12076\n",
      "stacked output.shape=torch.Size([48460, 8])\n",
      "targets.shape=torch.Size([48460, 8])\n"
     ]
    },
    {
     "name": "stderr",
     "output_type": "stream",
     "text": [
      " 68%|██████▊   | 3409/5000 [1:22:45<1:06:06,  2.49s/it]"
     ]
    },
    {
     "name": "stdout",
     "output_type": "stream",
     "text": [
      "12940\n"
     ]
    },
    {
     "name": "stderr",
     "output_type": "stream",
     "text": [
      " 68%|██████▊   | 3412/5000 [1:22:50<52:40,  1.99s/it]  "
     ]
    },
    {
     "name": "stdout",
     "output_type": "stream",
     "text": [
      "output.shape=torch.Size([20, 2423, 8])\n",
      "targets.shape=torch.Size([20, 2423, 8])\n",
      "torch.Size([48460]) torch.Size([48460])\n",
      "12111\n",
      "stacked output.shape=torch.Size([48460, 8])\n",
      "targets.shape=torch.Size([48460, 8])\n",
      "12820\n"
     ]
    },
    {
     "name": "stderr",
     "output_type": "stream",
     "text": [
      " 68%|██████▊   | 3415/5000 [1:22:54<43:02,  1.63s/it]"
     ]
    },
    {
     "name": "stdout",
     "output_type": "stream",
     "text": [
      "output.shape=torch.Size([20, 2423, 8])\n",
      "targets.shape=torch.Size([20, 2423, 8])\n",
      "torch.Size([48460]) torch.Size([48460])\n",
      "12045\n",
      "stacked output.shape=torch.Size([48460, 8])\n",
      "targets.shape=torch.Size([48460, 8])\n",
      "12640\n"
     ]
    },
    {
     "name": "stderr",
     "output_type": "stream",
     "text": [
      " 68%|██████▊   | 3418/5000 [1:23:00<45:30,  1.73s/it]"
     ]
    },
    {
     "name": "stdout",
     "output_type": "stream",
     "text": [
      "output.shape=torch.Size([20, 2423, 8])\n",
      "targets.shape=torch.Size([20, 2423, 8])\n",
      "torch.Size([48460]) torch.Size([48460])\n",
      "12123\n",
      "stacked output.shape=torch.Size([48460, 8])\n",
      "targets.shape=torch.Size([48460, 8])\n",
      "12760\n"
     ]
    },
    {
     "name": "stderr",
     "output_type": "stream",
     "text": [
      " 68%|██████▊   | 3421/5000 [1:23:04<40:18,  1.53s/it]"
     ]
    },
    {
     "name": "stdout",
     "output_type": "stream",
     "text": [
      "output.shape=torch.Size([20, 2423, 8])\n",
      "targets.shape=torch.Size([20, 2423, 8])\n",
      "torch.Size([48460]) torch.Size([48460])\n",
      "12068\n",
      "stacked output.shape=torch.Size([48460, 8])\n",
      "targets.shape=torch.Size([48460, 8])\n",
      "12680\n"
     ]
    },
    {
     "name": "stderr",
     "output_type": "stream",
     "text": [
      " 68%|██████▊   | 3424/5000 [1:23:08<36:46,  1.40s/it]"
     ]
    },
    {
     "name": "stdout",
     "output_type": "stream",
     "text": [
      "output.shape=torch.Size([20, 2423, 8])\n",
      "targets.shape=torch.Size([20, 2423, 8])\n",
      "torch.Size([48460]) torch.Size([48460])\n",
      "12100\n",
      "stacked output.shape=torch.Size([48460, 8])\n",
      "targets.shape=torch.Size([48460, 8])\n",
      "12660\n"
     ]
    },
    {
     "name": "stderr",
     "output_type": "stream",
     "text": [
      " 69%|██████▊   | 3427/5000 [1:23:12<36:04,  1.38s/it]"
     ]
    },
    {
     "name": "stdout",
     "output_type": "stream",
     "text": [
      "output.shape=torch.Size([20, 2423, 8])\n",
      "targets.shape=torch.Size([20, 2423, 8])\n",
      "torch.Size([48460]) torch.Size([48460])\n",
      "12054\n",
      "stacked output.shape=torch.Size([48460, 8])\n",
      "targets.shape=torch.Size([48460, 8])\n",
      "12460\n"
     ]
    },
    {
     "name": "stderr",
     "output_type": "stream",
     "text": [
      " 69%|██████▊   | 3430/5000 [1:23:16<36:02,  1.38s/it]"
     ]
    },
    {
     "name": "stdout",
     "output_type": "stream",
     "text": [
      "output.shape=torch.Size([20, 2423, 8])\n",
      "targets.shape=torch.Size([20, 2423, 8])\n",
      "torch.Size([48460]) torch.Size([48460])\n",
      "12058\n",
      "stacked output.shape=torch.Size([48460, 8])\n",
      "targets.shape=torch.Size([48460, 8])\n",
      "12540\n"
     ]
    },
    {
     "name": "stderr",
     "output_type": "stream",
     "text": [
      " 69%|██████▊   | 3433/5000 [1:23:20<36:19,  1.39s/it]"
     ]
    },
    {
     "name": "stdout",
     "output_type": "stream",
     "text": [
      "output.shape=torch.Size([20, 2423, 8])\n",
      "targets.shape=torch.Size([20, 2423, 8])\n",
      "torch.Size([48460]) torch.Size([48460])\n",
      "12072\n",
      "stacked output.shape=torch.Size([48460, 8])\n",
      "targets.shape=torch.Size([48460, 8])\n",
      "12740\n"
     ]
    },
    {
     "name": "stderr",
     "output_type": "stream",
     "text": [
      " 69%|██████▊   | 3436/5000 [1:23:24<35:33,  1.36s/it]"
     ]
    },
    {
     "name": "stdout",
     "output_type": "stream",
     "text": [
      "output.shape=torch.Size([20, 2423, 8])\n",
      "targets.shape=torch.Size([20, 2423, 8])\n",
      "torch.Size([48460]) torch.Size([48460])\n",
      "12090\n",
      "stacked output.shape=torch.Size([48460, 8])\n",
      "targets.shape=torch.Size([48460, 8])\n",
      "12600\n"
     ]
    },
    {
     "name": "stderr",
     "output_type": "stream",
     "text": [
      " 69%|██████▉   | 3439/5000 [1:23:28<34:57,  1.34s/it]"
     ]
    },
    {
     "name": "stdout",
     "output_type": "stream",
     "text": [
      "output.shape=torch.Size([20, 2423, 8])\n",
      "targets.shape=torch.Size([20, 2423, 8])\n",
      "torch.Size([48460]) torch.Size([48460])\n",
      "12090\n",
      "stacked output.shape=torch.Size([48460, 8])\n",
      "targets.shape=torch.Size([48460, 8])\n",
      "12620\n"
     ]
    },
    {
     "name": "stderr",
     "output_type": "stream",
     "text": [
      " 69%|██████▉   | 3442/5000 [1:23:32<35:02,  1.35s/it]"
     ]
    },
    {
     "name": "stdout",
     "output_type": "stream",
     "text": [
      "output.shape=torch.Size([20, 2423, 8])\n",
      "targets.shape=torch.Size([20, 2423, 8])\n",
      "torch.Size([48460]) torch.Size([48460])\n",
      "12062\n",
      "stacked output.shape=torch.Size([48460, 8])\n",
      "targets.shape=torch.Size([48460, 8])\n",
      "12680\n"
     ]
    },
    {
     "name": "stderr",
     "output_type": "stream",
     "text": [
      " 69%|██████▉   | 3445/5000 [1:23:36<35:15,  1.36s/it]"
     ]
    },
    {
     "name": "stdout",
     "output_type": "stream",
     "text": [
      "output.shape=torch.Size([20, 2423, 8])\n",
      "targets.shape=torch.Size([20, 2423, 8])\n",
      "torch.Size([48460]) torch.Size([48460])\n",
      "12040\n",
      "stacked output.shape=torch.Size([48460, 8])\n",
      "targets.shape=torch.Size([48460, 8])\n",
      "12700\n"
     ]
    },
    {
     "name": "stderr",
     "output_type": "stream",
     "text": [
      " 69%|██████▉   | 3448/5000 [1:23:40<36:04,  1.39s/it]"
     ]
    },
    {
     "name": "stdout",
     "output_type": "stream",
     "text": [
      "output.shape=torch.Size([20, 2423, 8])\n",
      "targets.shape=torch.Size([20, 2423, 8])\n",
      "torch.Size([48460]) torch.Size([48460])\n",
      "12088\n",
      "stacked output.shape=torch.Size([48460, 8])\n",
      "targets.shape=torch.Size([48460, 8])\n",
      "12860\n"
     ]
    },
    {
     "name": "stderr",
     "output_type": "stream",
     "text": [
      " 69%|██████▉   | 3451/5000 [1:23:44<36:09,  1.40s/it]"
     ]
    },
    {
     "name": "stdout",
     "output_type": "stream",
     "text": [
      "output.shape=torch.Size([20, 2423, 8])\n",
      "targets.shape=torch.Size([20, 2423, 8])\n",
      "torch.Size([48460]) torch.Size([48460])\n",
      "11987\n",
      "stacked output.shape=torch.Size([48460, 8])\n",
      "targets.shape=torch.Size([48460, 8])\n",
      "12760\n"
     ]
    },
    {
     "name": "stderr",
     "output_type": "stream",
     "text": [
      " 69%|██████▉   | 3454/5000 [1:23:48<35:36,  1.38s/it]"
     ]
    },
    {
     "name": "stdout",
     "output_type": "stream",
     "text": [
      "output.shape=torch.Size([20, 2423, 8])\n",
      "targets.shape=torch.Size([20, 2423, 8])\n",
      "torch.Size([48460]) torch.Size([48460])\n",
      "12002\n",
      "stacked output.shape=torch.Size([48460, 8])\n",
      "targets.shape=torch.Size([48460, 8])\n",
      "12720\n"
     ]
    },
    {
     "name": "stderr",
     "output_type": "stream",
     "text": [
      " 69%|██████▉   | 3457/5000 [1:23:52<34:35,  1.35s/it]"
     ]
    },
    {
     "name": "stdout",
     "output_type": "stream",
     "text": [
      "output.shape=torch.Size([20, 2423, 8])\n",
      "targets.shape=torch.Size([20, 2423, 8])\n",
      "torch.Size([48460]) torch.Size([48460])\n",
      "12059\n",
      "stacked output.shape=torch.Size([48460, 8])\n",
      "targets.shape=torch.Size([48460, 8])\n",
      "12840\n"
     ]
    },
    {
     "name": "stderr",
     "output_type": "stream",
     "text": [
      " 69%|██████▉   | 3460/5000 [1:23:56<34:10,  1.33s/it]"
     ]
    },
    {
     "name": "stdout",
     "output_type": "stream",
     "text": [
      "output.shape=torch.Size([20, 2423, 8])\n",
      "targets.shape=torch.Size([20, 2423, 8])\n",
      "torch.Size([48460]) torch.Size([48460])\n",
      "12053\n",
      "stacked output.shape=torch.Size([48460, 8])\n",
      "targets.shape=torch.Size([48460, 8])\n",
      "12880\n"
     ]
    },
    {
     "name": "stderr",
     "output_type": "stream",
     "text": [
      " 69%|██████▉   | 3463/5000 [1:24:00<34:10,  1.33s/it]"
     ]
    },
    {
     "name": "stdout",
     "output_type": "stream",
     "text": [
      "output.shape=torch.Size([20, 2423, 8])\n",
      "targets.shape=torch.Size([20, 2423, 8])\n",
      "torch.Size([48460]) torch.Size([48460])\n",
      "12064\n",
      "stacked output.shape=torch.Size([48460, 8])\n",
      "targets.shape=torch.Size([48460, 8])\n",
      "12960\n"
     ]
    },
    {
     "name": "stderr",
     "output_type": "stream",
     "text": [
      " 69%|██████▉   | 3466/5000 [1:24:04<34:00,  1.33s/it]"
     ]
    },
    {
     "name": "stdout",
     "output_type": "stream",
     "text": [
      "output.shape=torch.Size([20, 2423, 8])\n",
      "targets.shape=torch.Size([20, 2423, 8])\n",
      "torch.Size([48460]) torch.Size([48460])\n",
      "12075\n",
      "stacked output.shape=torch.Size([48460, 8])\n",
      "targets.shape=torch.Size([48460, 8])\n",
      "12940\n"
     ]
    },
    {
     "name": "stderr",
     "output_type": "stream",
     "text": [
      " 69%|██████▉   | 3469/5000 [1:24:07<33:48,  1.33s/it]"
     ]
    },
    {
     "name": "stdout",
     "output_type": "stream",
     "text": [
      "output.shape=torch.Size([20, 2423, 8])\n",
      "targets.shape=torch.Size([20, 2423, 8])\n",
      "torch.Size([48460]) torch.Size([48460])\n",
      "12092\n",
      "stacked output.shape=torch.Size([48460, 8])\n",
      "targets.shape=torch.Size([48460, 8])\n",
      "12720\n"
     ]
    },
    {
     "name": "stderr",
     "output_type": "stream",
     "text": [
      " 69%|██████▉   | 3472/5000 [1:24:11<34:14,  1.34s/it]"
     ]
    },
    {
     "name": "stdout",
     "output_type": "stream",
     "text": [
      "output.shape=torch.Size([20, 2423, 8])\n",
      "targets.shape=torch.Size([20, 2423, 8])\n",
      "torch.Size([48460]) torch.Size([48460])\n",
      "12068\n",
      "stacked output.shape=torch.Size([48460, 8])\n",
      "targets.shape=torch.Size([48460, 8])\n",
      "12860\n"
     ]
    },
    {
     "name": "stderr",
     "output_type": "stream",
     "text": [
      " 70%|██████▉   | 3475/5000 [1:24:15<33:55,  1.33s/it]"
     ]
    },
    {
     "name": "stdout",
     "output_type": "stream",
     "text": [
      "output.shape=torch.Size([20, 2423, 8])\n",
      "targets.shape=torch.Size([20, 2423, 8])\n",
      "torch.Size([48460]) torch.Size([48460])\n",
      "12044\n",
      "stacked output.shape=torch.Size([48460, 8])\n",
      "targets.shape=torch.Size([48460, 8])\n",
      "12920\n"
     ]
    },
    {
     "name": "stderr",
     "output_type": "stream",
     "text": [
      " 70%|██████▉   | 3478/5000 [1:24:19<34:09,  1.35s/it]"
     ]
    },
    {
     "name": "stdout",
     "output_type": "stream",
     "text": [
      "output.shape=torch.Size([20, 2423, 8])\n",
      "targets.shape=torch.Size([20, 2423, 8])\n",
      "torch.Size([48460]) torch.Size([48460])\n",
      "12013\n",
      "stacked output.shape=torch.Size([48460, 8])\n",
      "targets.shape=torch.Size([48460, 8])\n",
      "13000\n"
     ]
    },
    {
     "name": "stderr",
     "output_type": "stream",
     "text": [
      " 70%|██████▉   | 3481/5000 [1:24:23<35:29,  1.40s/it]"
     ]
    },
    {
     "name": "stdout",
     "output_type": "stream",
     "text": [
      "output.shape=torch.Size([20, 2423, 8])\n",
      "targets.shape=torch.Size([20, 2423, 8])\n",
      "torch.Size([48460]) torch.Size([48460])\n",
      "12005\n",
      "stacked output.shape=torch.Size([48460, 8])\n",
      "targets.shape=torch.Size([48460, 8])\n",
      "12700\n"
     ]
    },
    {
     "name": "stderr",
     "output_type": "stream",
     "text": [
      " 70%|██████▉   | 3484/5000 [1:24:28<35:13,  1.39s/it]"
     ]
    },
    {
     "name": "stdout",
     "output_type": "stream",
     "text": [
      "output.shape=torch.Size([20, 2423, 8])\n",
      "targets.shape=torch.Size([20, 2423, 8])\n",
      "torch.Size([48460]) torch.Size([48460])\n",
      "12061\n",
      "stacked output.shape=torch.Size([48460, 8])\n",
      "targets.shape=torch.Size([48460, 8])\n",
      "12520\n"
     ]
    },
    {
     "name": "stderr",
     "output_type": "stream",
     "text": [
      " 70%|██████▉   | 3487/5000 [1:24:31<34:13,  1.36s/it]"
     ]
    },
    {
     "name": "stdout",
     "output_type": "stream",
     "text": [
      "output.shape=torch.Size([20, 2423, 8])\n",
      "targets.shape=torch.Size([20, 2423, 8])\n",
      "torch.Size([48460]) torch.Size([48460])\n",
      "12099\n",
      "stacked output.shape=torch.Size([48460, 8])\n",
      "targets.shape=torch.Size([48460, 8])\n",
      "12620\n"
     ]
    },
    {
     "name": "stderr",
     "output_type": "stream",
     "text": [
      " 70%|██████▉   | 3490/5000 [1:24:35<34:08,  1.36s/it]"
     ]
    },
    {
     "name": "stdout",
     "output_type": "stream",
     "text": [
      "output.shape=torch.Size([20, 2423, 8])\n",
      "targets.shape=torch.Size([20, 2423, 8])\n",
      "torch.Size([48460]) torch.Size([48460])\n",
      "12027\n",
      "stacked output.shape=torch.Size([48460, 8])\n",
      "targets.shape=torch.Size([48460, 8])\n",
      "12540\n"
     ]
    },
    {
     "name": "stderr",
     "output_type": "stream",
     "text": [
      " 70%|██████▉   | 3493/5000 [1:24:40<34:34,  1.38s/it]"
     ]
    },
    {
     "name": "stdout",
     "output_type": "stream",
     "text": [
      "output.shape=torch.Size([20, 2423, 8])\n",
      "targets.shape=torch.Size([20, 2423, 8])\n",
      "torch.Size([48460]) torch.Size([48460])\n",
      "12003\n",
      "stacked output.shape=torch.Size([48460, 8])\n",
      "targets.shape=torch.Size([48460, 8])\n",
      "12860\n"
     ]
    },
    {
     "name": "stderr",
     "output_type": "stream",
     "text": [
      " 70%|██████▉   | 3496/5000 [1:24:43<33:50,  1.35s/it]"
     ]
    },
    {
     "name": "stdout",
     "output_type": "stream",
     "text": [
      "output.shape=torch.Size([20, 2423, 8])\n",
      "targets.shape=torch.Size([20, 2423, 8])\n",
      "torch.Size([48460]) torch.Size([48460])\n",
      "12051\n",
      "stacked output.shape=torch.Size([48460, 8])\n",
      "targets.shape=torch.Size([48460, 8])\n",
      "12700\n"
     ]
    },
    {
     "name": "stderr",
     "output_type": "stream",
     "text": [
      " 70%|██████▉   | 3499/5000 [1:24:47<33:55,  1.36s/it]"
     ]
    },
    {
     "name": "stdout",
     "output_type": "stream",
     "text": [
      "output.shape=torch.Size([20, 2423, 8])\n",
      "targets.shape=torch.Size([20, 2423, 8])\n",
      "torch.Size([48460]) torch.Size([48460])\n",
      "12061\n",
      "stacked output.shape=torch.Size([48460, 8])\n",
      "targets.shape=torch.Size([48460, 8])\n",
      "12700\n"
     ]
    },
    {
     "name": "stderr",
     "output_type": "stream",
     "text": [
      " 70%|███████   | 3502/5000 [1:24:52<34:11,  1.37s/it]"
     ]
    },
    {
     "name": "stdout",
     "output_type": "stream",
     "text": [
      "output.shape=torch.Size([20, 2423, 8])\n",
      "targets.shape=torch.Size([20, 2423, 8])\n",
      "torch.Size([48460]) torch.Size([48460])\n",
      "11998\n",
      "stacked output.shape=torch.Size([48460, 8])\n",
      "targets.shape=torch.Size([48460, 8])\n",
      "12840\n"
     ]
    },
    {
     "name": "stderr",
     "output_type": "stream",
     "text": [
      " 70%|███████   | 3505/5000 [1:24:55<33:19,  1.34s/it]"
     ]
    },
    {
     "name": "stdout",
     "output_type": "stream",
     "text": [
      "output.shape=torch.Size([20, 2423, 8])\n",
      "targets.shape=torch.Size([20, 2423, 8])\n",
      "torch.Size([48460]) torch.Size([48460])\n",
      "12119\n",
      "stacked output.shape=torch.Size([48460, 8])\n",
      "targets.shape=torch.Size([48460, 8])\n",
      "12860\n"
     ]
    },
    {
     "name": "stderr",
     "output_type": "stream",
     "text": [
      " 70%|███████   | 3508/5000 [1:24:59<33:01,  1.33s/it]"
     ]
    },
    {
     "name": "stdout",
     "output_type": "stream",
     "text": [
      "output.shape=torch.Size([20, 2423, 8])\n",
      "targets.shape=torch.Size([20, 2423, 8])\n",
      "torch.Size([48460]) torch.Size([48460])\n",
      "12066\n",
      "stacked output.shape=torch.Size([48460, 8])\n",
      "targets.shape=torch.Size([48460, 8])\n",
      "12760\n"
     ]
    },
    {
     "name": "stderr",
     "output_type": "stream",
     "text": [
      " 70%|███████   | 3511/5000 [1:25:03<33:07,  1.33s/it]"
     ]
    },
    {
     "name": "stdout",
     "output_type": "stream",
     "text": [
      "output.shape=torch.Size([20, 2423, 8])\n",
      "targets.shape=torch.Size([20, 2423, 8])\n",
      "torch.Size([48460]) torch.Size([48460])\n",
      "12050\n",
      "stacked output.shape=torch.Size([48460, 8])\n",
      "targets.shape=torch.Size([48460, 8])\n",
      "13000\n"
     ]
    },
    {
     "name": "stderr",
     "output_type": "stream",
     "text": [
      " 70%|███████   | 3514/5000 [1:25:07<34:50,  1.41s/it]"
     ]
    },
    {
     "name": "stdout",
     "output_type": "stream",
     "text": [
      "output.shape=torch.Size([20, 2423, 8])\n",
      "targets.shape=torch.Size([20, 2423, 8])\n",
      "torch.Size([48460]) torch.Size([48460])\n",
      "11998\n",
      "stacked output.shape=torch.Size([48460, 8])\n",
      "targets.shape=torch.Size([48460, 8])\n",
      "12760\n"
     ]
    },
    {
     "name": "stderr",
     "output_type": "stream",
     "text": [
      " 70%|███████   | 3517/5000 [1:25:12<34:55,  1.41s/it]"
     ]
    },
    {
     "name": "stdout",
     "output_type": "stream",
     "text": [
      "output.shape=torch.Size([20, 2423, 8])\n",
      "targets.shape=torch.Size([20, 2423, 8])\n",
      "torch.Size([48460]) torch.Size([48460])\n",
      "12037\n",
      "stacked output.shape=torch.Size([48460, 8])\n",
      "targets.shape=torch.Size([48460, 8])\n",
      "12580\n"
     ]
    },
    {
     "name": "stderr",
     "output_type": "stream",
     "text": [
      " 70%|███████   | 3520/5000 [1:25:16<34:59,  1.42s/it]"
     ]
    },
    {
     "name": "stdout",
     "output_type": "stream",
     "text": [
      "output.shape=torch.Size([20, 2423, 8])\n",
      "targets.shape=torch.Size([20, 2423, 8])\n",
      "torch.Size([48460]) torch.Size([48460])\n",
      "12089\n",
      "stacked output.shape=torch.Size([48460, 8])\n",
      "targets.shape=torch.Size([48460, 8])\n",
      "12800\n"
     ]
    },
    {
     "name": "stderr",
     "output_type": "stream",
     "text": [
      " 70%|███████   | 3523/5000 [1:25:20<35:08,  1.43s/it]"
     ]
    },
    {
     "name": "stdout",
     "output_type": "stream",
     "text": [
      "output.shape=torch.Size([20, 2423, 8])\n",
      "targets.shape=torch.Size([20, 2423, 8])\n",
      "torch.Size([48460]) torch.Size([48460])\n",
      "12020\n",
      "stacked output.shape=torch.Size([48460, 8])\n",
      "targets.shape=torch.Size([48460, 8])\n",
      "12700\n"
     ]
    },
    {
     "name": "stderr",
     "output_type": "stream",
     "text": [
      " 71%|███████   | 3526/5000 [1:25:24<34:34,  1.41s/it]"
     ]
    },
    {
     "name": "stdout",
     "output_type": "stream",
     "text": [
      "output.shape=torch.Size([20, 2423, 8])\n",
      "targets.shape=torch.Size([20, 2423, 8])\n",
      "torch.Size([48460]) torch.Size([48460])\n",
      "12059\n",
      "stacked output.shape=torch.Size([48460, 8])\n",
      "targets.shape=torch.Size([48460, 8])\n",
      "13140\n"
     ]
    },
    {
     "name": "stderr",
     "output_type": "stream",
     "text": [
      " 71%|███████   | 3529/5000 [1:25:28<33:48,  1.38s/it]"
     ]
    },
    {
     "name": "stdout",
     "output_type": "stream",
     "text": [
      "output.shape=torch.Size([20, 2423, 8])\n",
      "targets.shape=torch.Size([20, 2423, 8])\n",
      "torch.Size([48460]) torch.Size([48460])\n",
      "12118\n",
      "stacked output.shape=torch.Size([48460, 8])\n",
      "targets.shape=torch.Size([48460, 8])\n",
      "13020\n"
     ]
    },
    {
     "name": "stderr",
     "output_type": "stream",
     "text": [
      " 71%|███████   | 3532/5000 [1:25:32<33:56,  1.39s/it]"
     ]
    },
    {
     "name": "stdout",
     "output_type": "stream",
     "text": [
      "output.shape=torch.Size([20, 2423, 8])\n",
      "targets.shape=torch.Size([20, 2423, 8])\n",
      "torch.Size([48460]) torch.Size([48460])\n",
      "12039\n",
      "stacked output.shape=torch.Size([48460, 8])\n",
      "targets.shape=torch.Size([48460, 8])\n",
      "12780\n"
     ]
    },
    {
     "name": "stderr",
     "output_type": "stream",
     "text": [
      " 71%|███████   | 3535/5000 [1:25:36<33:36,  1.38s/it]"
     ]
    },
    {
     "name": "stdout",
     "output_type": "stream",
     "text": [
      "output.shape=torch.Size([20, 2423, 8])\n",
      "targets.shape=torch.Size([20, 2423, 8])\n",
      "torch.Size([48460]) torch.Size([48460])\n",
      "12070\n",
      "stacked output.shape=torch.Size([48460, 8])\n",
      "targets.shape=torch.Size([48460, 8])\n",
      "12740\n"
     ]
    },
    {
     "name": "stderr",
     "output_type": "stream",
     "text": [
      " 71%|███████   | 3538/5000 [1:25:40<33:23,  1.37s/it]"
     ]
    },
    {
     "name": "stdout",
     "output_type": "stream",
     "text": [
      "output.shape=torch.Size([20, 2423, 8])\n",
      "targets.shape=torch.Size([20, 2423, 8])\n",
      "torch.Size([48460]) torch.Size([48460])\n",
      "12107\n",
      "stacked output.shape=torch.Size([48460, 8])\n",
      "targets.shape=torch.Size([48460, 8])\n",
      "12840\n"
     ]
    },
    {
     "name": "stderr",
     "output_type": "stream",
     "text": [
      " 71%|███████   | 3541/5000 [1:25:44<34:15,  1.41s/it]"
     ]
    },
    {
     "name": "stdout",
     "output_type": "stream",
     "text": [
      "output.shape=torch.Size([20, 2423, 8])\n",
      "targets.shape=torch.Size([20, 2423, 8])\n",
      "torch.Size([48460]) torch.Size([48460])\n",
      "12030\n",
      "stacked output.shape=torch.Size([48460, 8])\n",
      "targets.shape=torch.Size([48460, 8])\n",
      "12560\n"
     ]
    },
    {
     "name": "stderr",
     "output_type": "stream",
     "text": [
      " 71%|███████   | 3544/5000 [1:25:48<33:39,  1.39s/it]"
     ]
    },
    {
     "name": "stdout",
     "output_type": "stream",
     "text": [
      "output.shape=torch.Size([20, 2423, 8])\n",
      "targets.shape=torch.Size([20, 2423, 8])\n",
      "torch.Size([48460]) torch.Size([48460])\n",
      "12092\n",
      "stacked output.shape=torch.Size([48460, 8])\n",
      "targets.shape=torch.Size([48460, 8])\n",
      "12900\n"
     ]
    },
    {
     "name": "stderr",
     "output_type": "stream",
     "text": [
      " 71%|███████   | 3547/5000 [1:25:52<33:19,  1.38s/it]"
     ]
    },
    {
     "name": "stdout",
     "output_type": "stream",
     "text": [
      "output.shape=torch.Size([20, 2423, 8])\n",
      "targets.shape=torch.Size([20, 2423, 8])\n",
      "torch.Size([48460]) torch.Size([48460])\n",
      "12044\n",
      "stacked output.shape=torch.Size([48460, 8])\n",
      "targets.shape=torch.Size([48460, 8])\n",
      "12700\n"
     ]
    },
    {
     "name": "stderr",
     "output_type": "stream",
     "text": [
      " 71%|███████   | 3550/5000 [1:25:57<33:30,  1.39s/it]"
     ]
    },
    {
     "name": "stdout",
     "output_type": "stream",
     "text": [
      "output.shape=torch.Size([20, 2423, 8])\n",
      "targets.shape=torch.Size([20, 2423, 8])\n",
      "torch.Size([48460]) torch.Size([48460])\n",
      "12094\n",
      "stacked output.shape=torch.Size([48460, 8])\n",
      "targets.shape=torch.Size([48460, 8])\n",
      "12840\n"
     ]
    },
    {
     "name": "stderr",
     "output_type": "stream",
     "text": [
      " 71%|███████   | 3553/5000 [1:26:01<33:44,  1.40s/it]"
     ]
    },
    {
     "name": "stdout",
     "output_type": "stream",
     "text": [
      "output.shape=torch.Size([20, 2423, 8])\n",
      "targets.shape=torch.Size([20, 2423, 8])\n",
      "torch.Size([48460]) torch.Size([48460])\n",
      "12083\n",
      "stacked output.shape=torch.Size([48460, 8])\n",
      "targets.shape=torch.Size([48460, 8])\n",
      "12900\n"
     ]
    },
    {
     "name": "stderr",
     "output_type": "stream",
     "text": [
      " 71%|███████   | 3556/5000 [1:26:05<36:35,  1.52s/it]"
     ]
    },
    {
     "name": "stdout",
     "output_type": "stream",
     "text": [
      "output.shape=torch.Size([20, 2423, 8])\n",
      "targets.shape=torch.Size([20, 2423, 8])\n",
      "torch.Size([48460]) torch.Size([48460])\n",
      "12061\n",
      "stacked output.shape=torch.Size([48460, 8])\n",
      "targets.shape=torch.Size([48460, 8])\n",
      "12760\n"
     ]
    },
    {
     "name": "stderr",
     "output_type": "stream",
     "text": [
      " 71%|███████   | 3559/5000 [1:26:10<41:07,  1.71s/it]"
     ]
    },
    {
     "name": "stdout",
     "output_type": "stream",
     "text": [
      "output.shape=torch.Size([20, 2423, 8])\n",
      "targets.shape=torch.Size([20, 2423, 8])\n",
      "torch.Size([48460]) torch.Size([48460])\n",
      "12087\n",
      "stacked output.shape=torch.Size([48460, 8])\n",
      "targets.shape=torch.Size([48460, 8])\n",
      "12860\n"
     ]
    },
    {
     "name": "stderr",
     "output_type": "stream",
     "text": [
      " 71%|███████   | 3562/5000 [1:26:16<42:42,  1.78s/it]"
     ]
    },
    {
     "name": "stdout",
     "output_type": "stream",
     "text": [
      "output.shape=torch.Size([20, 2423, 8])\n",
      "targets.shape=torch.Size([20, 2423, 8])\n",
      "torch.Size([48460]) torch.Size([48460])\n",
      "12073\n",
      "stacked output.shape=torch.Size([48460, 8])\n",
      "targets.shape=torch.Size([48460, 8])\n",
      "12720\n"
     ]
    },
    {
     "name": "stderr",
     "output_type": "stream",
     "text": [
      " 71%|███████▏  | 3565/5000 [1:26:21<43:20,  1.81s/it]"
     ]
    },
    {
     "name": "stdout",
     "output_type": "stream",
     "text": [
      "output.shape=torch.Size([20, 2423, 8])\n",
      "targets.shape=torch.Size([20, 2423, 8])\n",
      "torch.Size([48460]) torch.Size([48460])\n",
      "12058\n",
      "stacked output.shape=torch.Size([48460, 8])\n",
      "targets.shape=torch.Size([48460, 8])\n",
      "12880\n"
     ]
    },
    {
     "name": "stderr",
     "output_type": "stream",
     "text": [
      " 71%|███████▏  | 3568/5000 [1:26:26<42:49,  1.79s/it]"
     ]
    },
    {
     "name": "stdout",
     "output_type": "stream",
     "text": [
      "output.shape=torch.Size([20, 2423, 8])\n",
      "targets.shape=torch.Size([20, 2423, 8])\n",
      "torch.Size([48460]) torch.Size([48460])\n",
      "12024\n",
      "stacked output.shape=torch.Size([48460, 8])\n",
      "targets.shape=torch.Size([48460, 8])\n",
      "12700\n"
     ]
    },
    {
     "name": "stderr",
     "output_type": "stream",
     "text": [
      " 71%|███████▏  | 3571/5000 [1:26:31<40:09,  1.69s/it]"
     ]
    },
    {
     "name": "stdout",
     "output_type": "stream",
     "text": [
      "output.shape=torch.Size([20, 2423, 8])\n",
      "targets.shape=torch.Size([20, 2423, 8])\n",
      "torch.Size([48460]) torch.Size([48460])\n",
      "12029\n",
      "stacked output.shape=torch.Size([48460, 8])\n",
      "targets.shape=torch.Size([48460, 8])\n",
      "12840\n"
     ]
    },
    {
     "name": "stderr",
     "output_type": "stream",
     "text": [
      " 71%|███████▏  | 3574/5000 [1:26:35<35:14,  1.48s/it]"
     ]
    },
    {
     "name": "stdout",
     "output_type": "stream",
     "text": [
      "output.shape=torch.Size([20, 2423, 8])\n",
      "targets.shape=torch.Size([20, 2423, 8])\n",
      "torch.Size([48460]) torch.Size([48460])\n",
      "12059\n",
      "stacked output.shape=torch.Size([48460, 8])\n",
      "targets.shape=torch.Size([48460, 8])\n",
      "13020\n"
     ]
    },
    {
     "name": "stderr",
     "output_type": "stream",
     "text": [
      " 72%|███████▏  | 3577/5000 [1:26:40<34:28,  1.45s/it]"
     ]
    },
    {
     "name": "stdout",
     "output_type": "stream",
     "text": [
      "output.shape=torch.Size([20, 2423, 8])\n",
      "targets.shape=torch.Size([20, 2423, 8])\n",
      "torch.Size([48460]) torch.Size([48460])\n",
      "11998\n",
      "stacked output.shape=torch.Size([48460, 8])\n",
      "targets.shape=torch.Size([48460, 8])\n",
      "12900\n"
     ]
    },
    {
     "name": "stderr",
     "output_type": "stream",
     "text": [
      " 72%|███████▏  | 3580/5000 [1:26:44<34:43,  1.47s/it]"
     ]
    },
    {
     "name": "stdout",
     "output_type": "stream",
     "text": [
      "output.shape=torch.Size([20, 2423, 8])\n",
      "targets.shape=torch.Size([20, 2423, 8])\n",
      "torch.Size([48460]) torch.Size([48460])\n",
      "12034\n",
      "stacked output.shape=torch.Size([48460, 8])\n",
      "targets.shape=torch.Size([48460, 8])\n",
      "12940\n"
     ]
    },
    {
     "name": "stderr",
     "output_type": "stream",
     "text": [
      " 72%|███████▏  | 3583/5000 [1:26:48<34:12,  1.45s/it]"
     ]
    },
    {
     "name": "stdout",
     "output_type": "stream",
     "text": [
      "output.shape=torch.Size([20, 2423, 8])\n",
      "targets.shape=torch.Size([20, 2423, 8])\n",
      "torch.Size([48460]) torch.Size([48460])\n",
      "11969\n",
      "stacked output.shape=torch.Size([48460, 8])\n",
      "targets.shape=torch.Size([48460, 8])\n",
      "12560\n"
     ]
    },
    {
     "name": "stderr",
     "output_type": "stream",
     "text": [
      " 72%|███████▏  | 3586/5000 [1:26:52<33:59,  1.44s/it]"
     ]
    },
    {
     "name": "stdout",
     "output_type": "stream",
     "text": [
      "output.shape=torch.Size([20, 2423, 8])\n",
      "targets.shape=torch.Size([20, 2423, 8])\n",
      "torch.Size([48460]) torch.Size([48460])\n",
      "12018\n",
      "stacked output.shape=torch.Size([48460, 8])\n",
      "targets.shape=torch.Size([48460, 8])\n",
      "12740\n"
     ]
    },
    {
     "name": "stderr",
     "output_type": "stream",
     "text": [
      " 72%|███████▏  | 3589/5000 [1:26:57<33:49,  1.44s/it]"
     ]
    },
    {
     "name": "stdout",
     "output_type": "stream",
     "text": [
      "output.shape=torch.Size([20, 2423, 8])\n",
      "targets.shape=torch.Size([20, 2423, 8])\n",
      "torch.Size([48460]) torch.Size([48460])\n",
      "12069\n",
      "stacked output.shape=torch.Size([48460, 8])\n",
      "targets.shape=torch.Size([48460, 8])\n",
      "12920\n"
     ]
    },
    {
     "name": "stderr",
     "output_type": "stream",
     "text": [
      " 72%|███████▏  | 3592/5000 [1:27:01<33:53,  1.44s/it]"
     ]
    },
    {
     "name": "stdout",
     "output_type": "stream",
     "text": [
      "output.shape=torch.Size([20, 2423, 8])\n",
      "targets.shape=torch.Size([20, 2423, 8])\n",
      "torch.Size([48460]) torch.Size([48460])\n",
      "12041\n",
      "stacked output.shape=torch.Size([48460, 8])\n",
      "targets.shape=torch.Size([48460, 8])\n",
      "12680\n"
     ]
    },
    {
     "name": "stderr",
     "output_type": "stream",
     "text": [
      " 72%|███████▏  | 3595/5000 [1:27:05<33:40,  1.44s/it]"
     ]
    },
    {
     "name": "stdout",
     "output_type": "stream",
     "text": [
      "output.shape=torch.Size([20, 2423, 8])\n",
      "targets.shape=torch.Size([20, 2423, 8])\n",
      "torch.Size([48460]) torch.Size([48460])\n",
      "12152\n",
      "stacked output.shape=torch.Size([48460, 8])\n",
      "targets.shape=torch.Size([48460, 8])\n",
      "12900\n"
     ]
    },
    {
     "name": "stderr",
     "output_type": "stream",
     "text": [
      " 72%|███████▏  | 3598/5000 [1:27:09<33:55,  1.45s/it]"
     ]
    },
    {
     "name": "stdout",
     "output_type": "stream",
     "text": [
      "output.shape=torch.Size([20, 2423, 8])\n",
      "targets.shape=torch.Size([20, 2423, 8])\n",
      "torch.Size([48460]) torch.Size([48460])\n",
      "12132\n",
      "stacked output.shape=torch.Size([48460, 8])\n",
      "targets.shape=torch.Size([48460, 8])\n",
      "12920\n"
     ]
    },
    {
     "name": "stderr",
     "output_type": "stream",
     "text": [
      " 72%|███████▏  | 3601/5000 [1:27:14<33:30,  1.44s/it]"
     ]
    },
    {
     "name": "stdout",
     "output_type": "stream",
     "text": [
      "output.shape=torch.Size([20, 2423, 8])\n",
      "targets.shape=torch.Size([20, 2423, 8])\n",
      "torch.Size([48460]) torch.Size([48460])\n",
      "12086\n",
      "stacked output.shape=torch.Size([48460, 8])\n",
      "targets.shape=torch.Size([48460, 8])\n",
      "12960\n"
     ]
    },
    {
     "name": "stderr",
     "output_type": "stream",
     "text": [
      " 72%|███████▏  | 3604/5000 [1:27:18<33:28,  1.44s/it]"
     ]
    },
    {
     "name": "stdout",
     "output_type": "stream",
     "text": [
      "output.shape=torch.Size([20, 2423, 8])\n",
      "targets.shape=torch.Size([20, 2423, 8])\n",
      "torch.Size([48460]) torch.Size([48460])\n",
      "12074\n",
      "stacked output.shape=torch.Size([48460, 8])\n",
      "targets.shape=torch.Size([48460, 8])\n",
      "12700\n"
     ]
    },
    {
     "name": "stderr",
     "output_type": "stream",
     "text": [
      " 72%|███████▏  | 3607/5000 [1:27:22<33:04,  1.42s/it]"
     ]
    },
    {
     "name": "stdout",
     "output_type": "stream",
     "text": [
      "output.shape=torch.Size([20, 2423, 8])\n",
      "targets.shape=torch.Size([20, 2423, 8])\n",
      "torch.Size([48460]) torch.Size([48460])\n",
      "12082\n",
      "stacked output.shape=torch.Size([48460, 8])\n",
      "targets.shape=torch.Size([48460, 8])\n",
      "12820\n"
     ]
    },
    {
     "name": "stderr",
     "output_type": "stream",
     "text": [
      " 72%|███████▏  | 3610/5000 [1:27:26<31:41,  1.37s/it]"
     ]
    },
    {
     "name": "stdout",
     "output_type": "stream",
     "text": [
      "output.shape=torch.Size([20, 2423, 8])\n",
      "targets.shape=torch.Size([20, 2423, 8])\n",
      "torch.Size([48460]) torch.Size([48460])\n",
      "12105\n",
      "stacked output.shape=torch.Size([48460, 8])\n",
      "targets.shape=torch.Size([48460, 8])\n",
      "12620\n"
     ]
    },
    {
     "name": "stderr",
     "output_type": "stream",
     "text": [
      " 72%|███████▏  | 3613/5000 [1:27:30<31:15,  1.35s/it]"
     ]
    },
    {
     "name": "stdout",
     "output_type": "stream",
     "text": [
      "output.shape=torch.Size([20, 2423, 8])\n",
      "targets.shape=torch.Size([20, 2423, 8])\n",
      "torch.Size([48460]) torch.Size([48460])\n",
      "12095\n",
      "stacked output.shape=torch.Size([48460, 8])\n",
      "targets.shape=torch.Size([48460, 8])\n",
      "12800\n"
     ]
    },
    {
     "name": "stderr",
     "output_type": "stream",
     "text": [
      " 72%|███████▏  | 3616/5000 [1:27:34<31:10,  1.35s/it]"
     ]
    },
    {
     "name": "stdout",
     "output_type": "stream",
     "text": [
      "output.shape=torch.Size([20, 2423, 8])\n",
      "targets.shape=torch.Size([20, 2423, 8])\n",
      "torch.Size([48460]) torch.Size([48460])\n",
      "12145\n",
      "stacked output.shape=torch.Size([48460, 8])\n",
      "targets.shape=torch.Size([48460, 8])\n",
      "13080\n"
     ]
    },
    {
     "name": "stderr",
     "output_type": "stream",
     "text": [
      " 72%|███████▏  | 3619/5000 [1:27:38<31:22,  1.36s/it]"
     ]
    },
    {
     "name": "stdout",
     "output_type": "stream",
     "text": [
      "output.shape=torch.Size([20, 2423, 8])\n",
      "targets.shape=torch.Size([20, 2423, 8])\n",
      "torch.Size([48460]) torch.Size([48460])\n",
      "12042\n",
      "stacked output.shape=torch.Size([48460, 8])\n",
      "targets.shape=torch.Size([48460, 8])\n",
      "12760\n"
     ]
    },
    {
     "name": "stderr",
     "output_type": "stream",
     "text": [
      " 72%|███████▏  | 3622/5000 [1:27:42<31:15,  1.36s/it]"
     ]
    },
    {
     "name": "stdout",
     "output_type": "stream",
     "text": [
      "output.shape=torch.Size([20, 2423, 8])\n",
      "targets.shape=torch.Size([20, 2423, 8])\n",
      "torch.Size([48460]) torch.Size([48460])\n",
      "12146\n",
      "stacked output.shape=torch.Size([48460, 8])\n",
      "targets.shape=torch.Size([48460, 8])\n",
      "12940\n"
     ]
    },
    {
     "name": "stderr",
     "output_type": "stream",
     "text": [
      " 72%|███████▎  | 3625/5000 [1:27:46<31:27,  1.37s/it]"
     ]
    },
    {
     "name": "stdout",
     "output_type": "stream",
     "text": [
      "output.shape=torch.Size([20, 2423, 8])\n",
      "targets.shape=torch.Size([20, 2423, 8])\n",
      "torch.Size([48460]) torch.Size([48460])\n",
      "12027\n",
      "stacked output.shape=torch.Size([48460, 8])\n",
      "targets.shape=torch.Size([48460, 8])\n",
      "12640\n"
     ]
    },
    {
     "name": "stderr",
     "output_type": "stream",
     "text": [
      " 73%|███████▎  | 3628/5000 [1:27:50<31:01,  1.36s/it]"
     ]
    },
    {
     "name": "stdout",
     "output_type": "stream",
     "text": [
      "output.shape=torch.Size([20, 2423, 8])\n",
      "targets.shape=torch.Size([20, 2423, 8])\n",
      "torch.Size([48460]) torch.Size([48460])\n",
      "12066\n",
      "stacked output.shape=torch.Size([48460, 8])\n",
      "targets.shape=torch.Size([48460, 8])\n",
      "12580\n"
     ]
    },
    {
     "name": "stderr",
     "output_type": "stream",
     "text": [
      " 73%|███████▎  | 3631/5000 [1:27:54<30:50,  1.35s/it]"
     ]
    },
    {
     "name": "stdout",
     "output_type": "stream",
     "text": [
      "output.shape=torch.Size([20, 2423, 8])\n",
      "targets.shape=torch.Size([20, 2423, 8])\n",
      "torch.Size([48460]) torch.Size([48460])\n",
      "12073\n",
      "stacked output.shape=torch.Size([48460, 8])\n",
      "targets.shape=torch.Size([48460, 8])\n",
      "12840\n"
     ]
    },
    {
     "name": "stderr",
     "output_type": "stream",
     "text": [
      " 73%|███████▎  | 3634/5000 [1:27:58<31:23,  1.38s/it]"
     ]
    },
    {
     "name": "stdout",
     "output_type": "stream",
     "text": [
      "output.shape=torch.Size([20, 2423, 8])\n",
      "targets.shape=torch.Size([20, 2423, 8])\n",
      "torch.Size([48460]) torch.Size([48460])\n",
      "12056\n",
      "stacked output.shape=torch.Size([48460, 8])\n",
      "targets.shape=torch.Size([48460, 8])\n",
      "12740\n"
     ]
    },
    {
     "name": "stderr",
     "output_type": "stream",
     "text": [
      " 73%|███████▎  | 3637/5000 [1:28:02<31:21,  1.38s/it]"
     ]
    },
    {
     "name": "stdout",
     "output_type": "stream",
     "text": [
      "output.shape=torch.Size([20, 2423, 8])\n",
      "targets.shape=torch.Size([20, 2423, 8])\n",
      "torch.Size([48460]) torch.Size([48460])\n",
      "11999\n",
      "stacked output.shape=torch.Size([48460, 8])\n",
      "targets.shape=torch.Size([48460, 8])\n",
      "12680\n"
     ]
    },
    {
     "name": "stderr",
     "output_type": "stream",
     "text": [
      " 73%|███████▎  | 3640/5000 [1:28:06<30:58,  1.37s/it]"
     ]
    },
    {
     "name": "stdout",
     "output_type": "stream",
     "text": [
      "output.shape=torch.Size([20, 2423, 8])\n",
      "targets.shape=torch.Size([20, 2423, 8])\n",
      "torch.Size([48460]) torch.Size([48460])\n",
      "12013\n",
      "stacked output.shape=torch.Size([48460, 8])\n",
      "targets.shape=torch.Size([48460, 8])\n",
      "12760\n"
     ]
    },
    {
     "name": "stderr",
     "output_type": "stream",
     "text": [
      " 73%|███████▎  | 3643/5000 [1:28:10<30:38,  1.35s/it]"
     ]
    },
    {
     "name": "stdout",
     "output_type": "stream",
     "text": [
      "output.shape=torch.Size([20, 2423, 8])\n",
      "targets.shape=torch.Size([20, 2423, 8])\n",
      "torch.Size([48460]) torch.Size([48460])\n",
      "12019\n",
      "stacked output.shape=torch.Size([48460, 8])\n",
      "targets.shape=torch.Size([48460, 8])\n",
      "12980\n"
     ]
    },
    {
     "name": "stderr",
     "output_type": "stream",
     "text": [
      " 73%|███████▎  | 3646/5000 [1:28:14<30:42,  1.36s/it]"
     ]
    },
    {
     "name": "stdout",
     "output_type": "stream",
     "text": [
      "output.shape=torch.Size([20, 2423, 8])\n",
      "targets.shape=torch.Size([20, 2423, 8])\n",
      "torch.Size([48460]) torch.Size([48460])\n",
      "12052\n",
      "stacked output.shape=torch.Size([48460, 8])\n",
      "targets.shape=torch.Size([48460, 8])\n",
      "12780\n"
     ]
    },
    {
     "name": "stderr",
     "output_type": "stream",
     "text": [
      " 73%|███████▎  | 3649/5000 [1:28:18<31:02,  1.38s/it]"
     ]
    },
    {
     "name": "stdout",
     "output_type": "stream",
     "text": [
      "output.shape=torch.Size([20, 2423, 8])\n",
      "targets.shape=torch.Size([20, 2423, 8])\n",
      "torch.Size([48460]) torch.Size([48460])\n",
      "12097\n",
      "stacked output.shape=torch.Size([48460, 8])\n",
      "targets.shape=torch.Size([48460, 8])\n",
      "13020\n"
     ]
    },
    {
     "name": "stderr",
     "output_type": "stream",
     "text": [
      " 73%|███████▎  | 3652/5000 [1:28:22<30:37,  1.36s/it]"
     ]
    },
    {
     "name": "stdout",
     "output_type": "stream",
     "text": [
      "output.shape=torch.Size([20, 2423, 8])\n",
      "targets.shape=torch.Size([20, 2423, 8])\n",
      "torch.Size([48460]) torch.Size([48460])\n",
      "12056\n",
      "stacked output.shape=torch.Size([48460, 8])\n",
      "targets.shape=torch.Size([48460, 8])\n",
      "12840\n"
     ]
    },
    {
     "name": "stderr",
     "output_type": "stream",
     "text": [
      " 73%|███████▎  | 3655/5000 [1:28:26<33:38,  1.50s/it]"
     ]
    },
    {
     "name": "stdout",
     "output_type": "stream",
     "text": [
      "output.shape=torch.Size([20, 2423, 8])\n",
      "targets.shape=torch.Size([20, 2423, 8])\n",
      "torch.Size([48460]) torch.Size([48460])\n",
      "12027\n",
      "stacked output.shape=torch.Size([48460, 8])\n",
      "targets.shape=torch.Size([48460, 8])\n",
      "12960\n"
     ]
    },
    {
     "name": "stderr",
     "output_type": "stream",
     "text": [
      " 73%|███████▎  | 3658/5000 [1:28:31<31:27,  1.41s/it]"
     ]
    },
    {
     "name": "stdout",
     "output_type": "stream",
     "text": [
      "output.shape=torch.Size([20, 2423, 8])\n",
      "targets.shape=torch.Size([20, 2423, 8])\n",
      "torch.Size([48460]) torch.Size([48460])\n",
      "12008\n",
      "stacked output.shape=torch.Size([48460, 8])\n",
      "targets.shape=torch.Size([48460, 8])\n",
      "12660\n"
     ]
    },
    {
     "name": "stderr",
     "output_type": "stream",
     "text": [
      " 73%|███████▎  | 3661/5000 [1:28:34<30:29,  1.37s/it]"
     ]
    },
    {
     "name": "stdout",
     "output_type": "stream",
     "text": [
      "output.shape=torch.Size([20, 2423, 8])\n",
      "targets.shape=torch.Size([20, 2423, 8])\n",
      "torch.Size([48460]) torch.Size([48460])\n",
      "12045\n",
      "stacked output.shape=torch.Size([48460, 8])\n",
      "targets.shape=torch.Size([48460, 8])\n",
      "13180\n"
     ]
    },
    {
     "name": "stderr",
     "output_type": "stream",
     "text": [
      " 73%|███████▎  | 3664/5000 [1:28:38<30:16,  1.36s/it]"
     ]
    },
    {
     "name": "stdout",
     "output_type": "stream",
     "text": [
      "output.shape=torch.Size([20, 2423, 8])\n",
      "targets.shape=torch.Size([20, 2423, 8])\n",
      "torch.Size([48460]) torch.Size([48460])\n",
      "12044\n",
      "stacked output.shape=torch.Size([48460, 8])\n",
      "targets.shape=torch.Size([48460, 8])\n",
      "12880\n"
     ]
    },
    {
     "name": "stderr",
     "output_type": "stream",
     "text": [
      " 73%|███████▎  | 3667/5000 [1:28:43<30:54,  1.39s/it]"
     ]
    },
    {
     "name": "stdout",
     "output_type": "stream",
     "text": [
      "output.shape=torch.Size([20, 2423, 8])\n",
      "targets.shape=torch.Size([20, 2423, 8])\n",
      "torch.Size([48460]) torch.Size([48460])\n",
      "12063\n",
      "stacked output.shape=torch.Size([48460, 8])\n",
      "targets.shape=torch.Size([48460, 8])\n",
      "12880\n"
     ]
    },
    {
     "name": "stderr",
     "output_type": "stream",
     "text": [
      " 73%|███████▎  | 3670/5000 [1:28:47<30:54,  1.39s/it]"
     ]
    },
    {
     "name": "stdout",
     "output_type": "stream",
     "text": [
      "output.shape=torch.Size([20, 2423, 8])\n",
      "targets.shape=torch.Size([20, 2423, 8])\n",
      "torch.Size([48460]) torch.Size([48460])\n",
      "12006\n",
      "stacked output.shape=torch.Size([48460, 8])\n",
      "targets.shape=torch.Size([48460, 8])\n",
      "12800\n"
     ]
    },
    {
     "name": "stderr",
     "output_type": "stream",
     "text": [
      " 73%|███████▎  | 3673/5000 [1:28:51<30:36,  1.38s/it]"
     ]
    },
    {
     "name": "stdout",
     "output_type": "stream",
     "text": [
      "output.shape=torch.Size([20, 2423, 8])\n",
      "targets.shape=torch.Size([20, 2423, 8])\n",
      "torch.Size([48460]) torch.Size([48460])\n",
      "12112\n",
      "stacked output.shape=torch.Size([48460, 8])\n",
      "targets.shape=torch.Size([48460, 8])\n",
      "12460\n"
     ]
    },
    {
     "name": "stderr",
     "output_type": "stream",
     "text": [
      " 74%|███████▎  | 3676/5000 [1:28:55<31:26,  1.42s/it]"
     ]
    },
    {
     "name": "stdout",
     "output_type": "stream",
     "text": [
      "output.shape=torch.Size([20, 2423, 8])\n",
      "targets.shape=torch.Size([20, 2423, 8])\n",
      "torch.Size([48460]) torch.Size([48460])\n",
      "12067\n",
      "stacked output.shape=torch.Size([48460, 8])\n",
      "targets.shape=torch.Size([48460, 8])\n",
      "12880\n"
     ]
    },
    {
     "name": "stderr",
     "output_type": "stream",
     "text": [
      " 74%|███████▎  | 3679/5000 [1:28:59<30:37,  1.39s/it]"
     ]
    },
    {
     "name": "stdout",
     "output_type": "stream",
     "text": [
      "output.shape=torch.Size([20, 2423, 8])\n",
      "targets.shape=torch.Size([20, 2423, 8])\n",
      "torch.Size([48460]) torch.Size([48460])\n",
      "12106\n",
      "stacked output.shape=torch.Size([48460, 8])\n",
      "targets.shape=torch.Size([48460, 8])\n",
      "12700\n"
     ]
    },
    {
     "name": "stderr",
     "output_type": "stream",
     "text": [
      " 74%|███████▎  | 3682/5000 [1:29:03<30:45,  1.40s/it]"
     ]
    },
    {
     "name": "stdout",
     "output_type": "stream",
     "text": [
      "output.shape=torch.Size([20, 2423, 8])\n",
      "targets.shape=torch.Size([20, 2423, 8])\n",
      "torch.Size([48460]) torch.Size([48460])\n",
      "12117\n",
      "stacked output.shape=torch.Size([48460, 8])\n",
      "targets.shape=torch.Size([48460, 8])\n",
      "12640\n"
     ]
    },
    {
     "name": "stderr",
     "output_type": "stream",
     "text": [
      " 74%|███████▎  | 3685/5000 [1:29:07<30:26,  1.39s/it]"
     ]
    },
    {
     "name": "stdout",
     "output_type": "stream",
     "text": [
      "output.shape=torch.Size([20, 2423, 8])\n",
      "targets.shape=torch.Size([20, 2423, 8])\n",
      "torch.Size([48460]) torch.Size([48460])\n",
      "12141\n",
      "stacked output.shape=torch.Size([48460, 8])\n",
      "targets.shape=torch.Size([48460, 8])\n",
      "12680\n"
     ]
    },
    {
     "name": "stderr",
     "output_type": "stream",
     "text": [
      " 74%|███████▍  | 3688/5000 [1:29:11<29:51,  1.37s/it]"
     ]
    },
    {
     "name": "stdout",
     "output_type": "stream",
     "text": [
      "output.shape=torch.Size([20, 2423, 8])\n",
      "targets.shape=torch.Size([20, 2423, 8])\n",
      "torch.Size([48460]) torch.Size([48460])\n",
      "12103\n",
      "stacked output.shape=torch.Size([48460, 8])\n",
      "targets.shape=torch.Size([48460, 8])\n",
      "12960\n"
     ]
    },
    {
     "name": "stderr",
     "output_type": "stream",
     "text": [
      " 74%|███████▍  | 3691/5000 [1:29:15<29:35,  1.36s/it]"
     ]
    },
    {
     "name": "stdout",
     "output_type": "stream",
     "text": [
      "output.shape=torch.Size([20, 2423, 8])\n",
      "targets.shape=torch.Size([20, 2423, 8])\n",
      "torch.Size([48460]) torch.Size([48460])\n",
      "12016\n",
      "stacked output.shape=torch.Size([48460, 8])\n",
      "targets.shape=torch.Size([48460, 8])\n",
      "12920\n"
     ]
    },
    {
     "name": "stderr",
     "output_type": "stream",
     "text": [
      " 74%|███████▍  | 3694/5000 [1:29:19<29:26,  1.35s/it]"
     ]
    },
    {
     "name": "stdout",
     "output_type": "stream",
     "text": [
      "output.shape=torch.Size([20, 2423, 8])\n",
      "targets.shape=torch.Size([20, 2423, 8])\n",
      "torch.Size([48460]) torch.Size([48460])\n",
      "12036\n",
      "stacked output.shape=torch.Size([48460, 8])\n",
      "targets.shape=torch.Size([48460, 8])\n",
      "13000\n"
     ]
    },
    {
     "name": "stderr",
     "output_type": "stream",
     "text": [
      " 74%|███████▍  | 3697/5000 [1:29:23<29:08,  1.34s/it]"
     ]
    },
    {
     "name": "stdout",
     "output_type": "stream",
     "text": [
      "output.shape=torch.Size([20, 2423, 8])\n",
      "targets.shape=torch.Size([20, 2423, 8])\n",
      "torch.Size([48460]) torch.Size([48460])\n",
      "12112\n",
      "stacked output.shape=torch.Size([48460, 8])\n",
      "targets.shape=torch.Size([48460, 8])\n",
      "13040\n"
     ]
    },
    {
     "name": "stderr",
     "output_type": "stream",
     "text": [
      " 74%|███████▍  | 3700/5000 [1:29:27<29:20,  1.35s/it]"
     ]
    },
    {
     "name": "stdout",
     "output_type": "stream",
     "text": [
      "output.shape=torch.Size([20, 2423, 8])\n",
      "targets.shape=torch.Size([20, 2423, 8])\n",
      "torch.Size([48460]) torch.Size([48460])\n",
      "12069\n",
      "stacked output.shape=torch.Size([48460, 8])\n",
      "targets.shape=torch.Size([48460, 8])\n",
      "12860\n"
     ]
    },
    {
     "name": "stderr",
     "output_type": "stream",
     "text": [
      " 74%|███████▍  | 3703/5000 [1:29:31<29:33,  1.37s/it]"
     ]
    },
    {
     "name": "stdout",
     "output_type": "stream",
     "text": [
      "output.shape=torch.Size([20, 2423, 8])\n",
      "targets.shape=torch.Size([20, 2423, 8])\n",
      "torch.Size([48460]) torch.Size([48460])\n",
      "12087\n",
      "stacked output.shape=torch.Size([48460, 8])\n",
      "targets.shape=torch.Size([48460, 8])\n",
      "12720\n"
     ]
    },
    {
     "name": "stderr",
     "output_type": "stream",
     "text": [
      " 74%|███████▍  | 3706/5000 [1:29:35<29:16,  1.36s/it]"
     ]
    },
    {
     "name": "stdout",
     "output_type": "stream",
     "text": [
      "output.shape=torch.Size([20, 2423, 8])\n",
      "targets.shape=torch.Size([20, 2423, 8])\n",
      "torch.Size([48460]) torch.Size([48460])\n",
      "12105\n",
      "stacked output.shape=torch.Size([48460, 8])\n",
      "targets.shape=torch.Size([48460, 8])\n",
      "12880\n"
     ]
    },
    {
     "name": "stderr",
     "output_type": "stream",
     "text": [
      " 74%|███████▍  | 3709/5000 [1:29:39<29:19,  1.36s/it]"
     ]
    },
    {
     "name": "stdout",
     "output_type": "stream",
     "text": [
      "output.shape=torch.Size([20, 2423, 8])\n",
      "targets.shape=torch.Size([20, 2423, 8])\n",
      "torch.Size([48460]) torch.Size([48460])\n",
      "12116\n",
      "stacked output.shape=torch.Size([48460, 8])\n",
      "targets.shape=torch.Size([48460, 8])\n",
      "12660\n"
     ]
    },
    {
     "name": "stderr",
     "output_type": "stream",
     "text": [
      " 74%|███████▍  | 3712/5000 [1:29:43<29:18,  1.37s/it]"
     ]
    },
    {
     "name": "stdout",
     "output_type": "stream",
     "text": [
      "output.shape=torch.Size([20, 2423, 8])\n",
      "targets.shape=torch.Size([20, 2423, 8])\n",
      "torch.Size([48460]) torch.Size([48460])\n",
      "12108\n",
      "stacked output.shape=torch.Size([48460, 8])\n",
      "targets.shape=torch.Size([48460, 8])\n",
      "12660\n"
     ]
    },
    {
     "name": "stderr",
     "output_type": "stream",
     "text": [
      " 74%|███████▍  | 3715/5000 [1:29:47<29:08,  1.36s/it]"
     ]
    },
    {
     "name": "stdout",
     "output_type": "stream",
     "text": [
      "output.shape=torch.Size([20, 2423, 8])\n",
      "targets.shape=torch.Size([20, 2423, 8])\n",
      "torch.Size([48460]) torch.Size([48460])\n",
      "12111\n",
      "stacked output.shape=torch.Size([48460, 8])\n",
      "targets.shape=torch.Size([48460, 8])\n",
      "12800\n"
     ]
    },
    {
     "name": "stderr",
     "output_type": "stream",
     "text": [
      " 74%|███████▍  | 3718/5000 [1:29:51<28:52,  1.35s/it]"
     ]
    },
    {
     "name": "stdout",
     "output_type": "stream",
     "text": [
      "output.shape=torch.Size([20, 2423, 8])\n",
      "targets.shape=torch.Size([20, 2423, 8])\n",
      "torch.Size([48460]) torch.Size([48460])\n",
      "12082\n",
      "stacked output.shape=torch.Size([48460, 8])\n",
      "targets.shape=torch.Size([48460, 8])\n",
      "12640\n"
     ]
    },
    {
     "name": "stderr",
     "output_type": "stream",
     "text": [
      " 74%|███████▍  | 3721/5000 [1:29:55<28:48,  1.35s/it]"
     ]
    },
    {
     "name": "stdout",
     "output_type": "stream",
     "text": [
      "output.shape=torch.Size([20, 2423, 8])\n",
      "targets.shape=torch.Size([20, 2423, 8])\n",
      "torch.Size([48460]) torch.Size([48460])\n",
      "12042\n",
      "stacked output.shape=torch.Size([48460, 8])\n",
      "targets.shape=torch.Size([48460, 8])\n",
      "12760\n"
     ]
    },
    {
     "name": "stderr",
     "output_type": "stream",
     "text": [
      " 74%|███████▍  | 3724/5000 [1:29:59<28:53,  1.36s/it]"
     ]
    },
    {
     "name": "stdout",
     "output_type": "stream",
     "text": [
      "output.shape=torch.Size([20, 2423, 8])\n",
      "targets.shape=torch.Size([20, 2423, 8])\n",
      "torch.Size([48460]) torch.Size([48460])\n",
      "12090\n",
      "stacked output.shape=torch.Size([48460, 8])\n",
      "targets.shape=torch.Size([48460, 8])\n",
      "12760\n"
     ]
    },
    {
     "name": "stderr",
     "output_type": "stream",
     "text": [
      " 75%|███████▍  | 3727/5000 [1:30:03<28:46,  1.36s/it]"
     ]
    },
    {
     "name": "stdout",
     "output_type": "stream",
     "text": [
      "output.shape=torch.Size([20, 2423, 8])\n",
      "targets.shape=torch.Size([20, 2423, 8])\n",
      "torch.Size([48460]) torch.Size([48460])\n",
      "12124\n",
      "stacked output.shape=torch.Size([48460, 8])\n",
      "targets.shape=torch.Size([48460, 8])\n",
      "12740\n"
     ]
    },
    {
     "name": "stderr",
     "output_type": "stream",
     "text": [
      " 75%|███████▍  | 3730/5000 [1:30:07<28:42,  1.36s/it]"
     ]
    },
    {
     "name": "stdout",
     "output_type": "stream",
     "text": [
      "output.shape=torch.Size([20, 2423, 8])\n",
      "targets.shape=torch.Size([20, 2423, 8])\n",
      "torch.Size([48460]) torch.Size([48460])\n",
      "12087\n",
      "stacked output.shape=torch.Size([48460, 8])\n",
      "targets.shape=torch.Size([48460, 8])\n",
      "12800\n"
     ]
    },
    {
     "name": "stderr",
     "output_type": "stream",
     "text": [
      " 75%|███████▍  | 3733/5000 [1:30:11<28:46,  1.36s/it]"
     ]
    },
    {
     "name": "stdout",
     "output_type": "stream",
     "text": [
      "output.shape=torch.Size([20, 2423, 8])\n",
      "targets.shape=torch.Size([20, 2423, 8])\n",
      "torch.Size([48460]) torch.Size([48460])\n",
      "12101\n",
      "stacked output.shape=torch.Size([48460, 8])\n",
      "targets.shape=torch.Size([48460, 8])\n",
      "12780\n"
     ]
    },
    {
     "name": "stderr",
     "output_type": "stream",
     "text": [
      " 75%|███████▍  | 3736/5000 [1:30:15<28:21,  1.35s/it]"
     ]
    },
    {
     "name": "stdout",
     "output_type": "stream",
     "text": [
      "output.shape=torch.Size([20, 2423, 8])\n",
      "targets.shape=torch.Size([20, 2423, 8])\n",
      "torch.Size([48460]) torch.Size([48460])\n",
      "12092\n",
      "stacked output.shape=torch.Size([48460, 8])\n",
      "targets.shape=torch.Size([48460, 8])\n",
      "13080\n"
     ]
    },
    {
     "name": "stderr",
     "output_type": "stream",
     "text": [
      " 75%|███████▍  | 3739/5000 [1:30:19<28:18,  1.35s/it]"
     ]
    },
    {
     "name": "stdout",
     "output_type": "stream",
     "text": [
      "output.shape=torch.Size([20, 2423, 8])\n",
      "targets.shape=torch.Size([20, 2423, 8])\n",
      "torch.Size([48460]) torch.Size([48460])\n",
      "12139\n",
      "stacked output.shape=torch.Size([48460, 8])\n",
      "targets.shape=torch.Size([48460, 8])\n",
      "12780\n"
     ]
    },
    {
     "name": "stderr",
     "output_type": "stream",
     "text": [
      " 75%|███████▍  | 3742/5000 [1:30:23<28:24,  1.36s/it]"
     ]
    },
    {
     "name": "stdout",
     "output_type": "stream",
     "text": [
      "output.shape=torch.Size([20, 2423, 8])\n",
      "targets.shape=torch.Size([20, 2423, 8])\n",
      "torch.Size([48460]) torch.Size([48460])\n",
      "12163\n",
      "stacked output.shape=torch.Size([48460, 8])\n",
      "targets.shape=torch.Size([48460, 8])\n",
      "12860\n"
     ]
    },
    {
     "name": "stderr",
     "output_type": "stream",
     "text": [
      " 75%|███████▍  | 3745/5000 [1:30:27<28:10,  1.35s/it]"
     ]
    },
    {
     "name": "stdout",
     "output_type": "stream",
     "text": [
      "output.shape=torch.Size([20, 2423, 8])\n",
      "targets.shape=torch.Size([20, 2423, 8])\n",
      "torch.Size([48460]) torch.Size([48460])\n",
      "12134\n",
      "stacked output.shape=torch.Size([48460, 8])\n",
      "targets.shape=torch.Size([48460, 8])\n",
      "12900\n"
     ]
    },
    {
     "name": "stderr",
     "output_type": "stream",
     "text": [
      " 75%|███████▍  | 3748/5000 [1:30:31<28:18,  1.36s/it]"
     ]
    },
    {
     "name": "stdout",
     "output_type": "stream",
     "text": [
      "output.shape=torch.Size([20, 2423, 8])\n",
      "targets.shape=torch.Size([20, 2423, 8])\n",
      "torch.Size([48460]) torch.Size([48460])\n",
      "12124\n",
      "stacked output.shape=torch.Size([48460, 8])\n",
      "targets.shape=torch.Size([48460, 8])\n",
      "12720\n"
     ]
    },
    {
     "name": "stderr",
     "output_type": "stream",
     "text": [
      " 75%|███████▌  | 3751/5000 [1:30:35<28:33,  1.37s/it]"
     ]
    },
    {
     "name": "stdout",
     "output_type": "stream",
     "text": [
      "output.shape=torch.Size([20, 2423, 8])\n",
      "targets.shape=torch.Size([20, 2423, 8])\n",
      "torch.Size([48460]) torch.Size([48460])\n",
      "12069\n",
      "stacked output.shape=torch.Size([48460, 8])\n",
      "targets.shape=torch.Size([48460, 8])\n",
      "12640\n"
     ]
    },
    {
     "name": "stderr",
     "output_type": "stream",
     "text": [
      " 75%|███████▌  | 3754/5000 [1:30:39<28:31,  1.37s/it]"
     ]
    },
    {
     "name": "stdout",
     "output_type": "stream",
     "text": [
      "output.shape=torch.Size([20, 2423, 8])\n",
      "targets.shape=torch.Size([20, 2423, 8])\n",
      "torch.Size([48460]) torch.Size([48460])\n",
      "12121\n",
      "stacked output.shape=torch.Size([48460, 8])\n",
      "targets.shape=torch.Size([48460, 8])\n",
      "12620\n"
     ]
    },
    {
     "name": "stderr",
     "output_type": "stream",
     "text": [
      " 75%|███████▌  | 3757/5000 [1:30:43<28:20,  1.37s/it]"
     ]
    },
    {
     "name": "stdout",
     "output_type": "stream",
     "text": [
      "output.shape=torch.Size([20, 2423, 8])\n",
      "targets.shape=torch.Size([20, 2423, 8])\n",
      "torch.Size([48460]) torch.Size([48460])\n",
      "12094\n",
      "stacked output.shape=torch.Size([48460, 8])\n",
      "targets.shape=torch.Size([48460, 8])\n",
      "12800\n"
     ]
    },
    {
     "name": "stderr",
     "output_type": "stream",
     "text": [
      " 75%|███████▌  | 3760/5000 [1:30:47<28:34,  1.38s/it]"
     ]
    },
    {
     "name": "stdout",
     "output_type": "stream",
     "text": [
      "output.shape=torch.Size([20, 2423, 8])\n",
      "targets.shape=torch.Size([20, 2423, 8])\n",
      "torch.Size([48460]) torch.Size([48460])\n",
      "12100\n",
      "stacked output.shape=torch.Size([48460, 8])\n",
      "targets.shape=torch.Size([48460, 8])\n",
      "12760\n"
     ]
    },
    {
     "name": "stderr",
     "output_type": "stream",
     "text": [
      " 75%|███████▌  | 3763/5000 [1:30:51<28:30,  1.38s/it]"
     ]
    },
    {
     "name": "stdout",
     "output_type": "stream",
     "text": [
      "output.shape=torch.Size([20, 2423, 8])\n",
      "targets.shape=torch.Size([20, 2423, 8])\n",
      "torch.Size([48460]) torch.Size([48460])\n",
      "12153\n",
      "stacked output.shape=torch.Size([48460, 8])\n",
      "targets.shape=torch.Size([48460, 8])\n",
      "12860\n"
     ]
    },
    {
     "name": "stderr",
     "output_type": "stream",
     "text": [
      " 75%|███████▌  | 3766/5000 [1:30:55<28:25,  1.38s/it]"
     ]
    },
    {
     "name": "stdout",
     "output_type": "stream",
     "text": [
      "output.shape=torch.Size([20, 2423, 8])\n",
      "targets.shape=torch.Size([20, 2423, 8])\n",
      "torch.Size([48460]) torch.Size([48460])\n",
      "12117\n",
      "stacked output.shape=torch.Size([48460, 8])\n",
      "targets.shape=torch.Size([48460, 8])\n",
      "12840\n"
     ]
    },
    {
     "name": "stderr",
     "output_type": "stream",
     "text": [
      " 75%|███████▌  | 3769/5000 [1:30:59<28:03,  1.37s/it]"
     ]
    },
    {
     "name": "stdout",
     "output_type": "stream",
     "text": [
      "output.shape=torch.Size([20, 2423, 8])\n",
      "targets.shape=torch.Size([20, 2423, 8])\n",
      "torch.Size([48460]) torch.Size([48460])\n",
      "12103\n",
      "stacked output.shape=torch.Size([48460, 8])\n",
      "targets.shape=torch.Size([48460, 8])\n",
      "12680\n"
     ]
    },
    {
     "name": "stderr",
     "output_type": "stream",
     "text": [
      " 75%|███████▌  | 3772/5000 [1:31:03<28:25,  1.39s/it]"
     ]
    },
    {
     "name": "stdout",
     "output_type": "stream",
     "text": [
      "output.shape=torch.Size([20, 2423, 8])\n",
      "targets.shape=torch.Size([20, 2423, 8])\n",
      "torch.Size([48460]) torch.Size([48460])\n",
      "12104\n",
      "stacked output.shape=torch.Size([48460, 8])\n",
      "targets.shape=torch.Size([48460, 8])\n",
      "12600\n"
     ]
    },
    {
     "name": "stderr",
     "output_type": "stream",
     "text": [
      " 76%|███████▌  | 3775/5000 [1:31:07<28:02,  1.37s/it]"
     ]
    },
    {
     "name": "stdout",
     "output_type": "stream",
     "text": [
      "output.shape=torch.Size([20, 2423, 8])\n",
      "targets.shape=torch.Size([20, 2423, 8])\n",
      "torch.Size([48460]) torch.Size([48460])\n",
      "12077\n",
      "stacked output.shape=torch.Size([48460, 8])\n",
      "targets.shape=torch.Size([48460, 8])\n",
      "12820\n"
     ]
    },
    {
     "name": "stderr",
     "output_type": "stream",
     "text": [
      " 76%|███████▌  | 3778/5000 [1:31:11<27:52,  1.37s/it]"
     ]
    },
    {
     "name": "stdout",
     "output_type": "stream",
     "text": [
      "output.shape=torch.Size([20, 2423, 8])\n",
      "targets.shape=torch.Size([20, 2423, 8])\n",
      "torch.Size([48460]) torch.Size([48460])\n",
      "12088\n",
      "stacked output.shape=torch.Size([48460, 8])\n",
      "targets.shape=torch.Size([48460, 8])\n",
      "12820\n"
     ]
    },
    {
     "name": "stderr",
     "output_type": "stream",
     "text": [
      " 76%|███████▌  | 3781/5000 [1:31:15<28:04,  1.38s/it]"
     ]
    },
    {
     "name": "stdout",
     "output_type": "stream",
     "text": [
      "output.shape=torch.Size([20, 2423, 8])\n",
      "targets.shape=torch.Size([20, 2423, 8])\n",
      "torch.Size([48460]) torch.Size([48460])\n",
      "12130\n",
      "stacked output.shape=torch.Size([48460, 8])\n",
      "targets.shape=torch.Size([48460, 8])\n",
      "12840\n"
     ]
    },
    {
     "name": "stderr",
     "output_type": "stream",
     "text": [
      " 76%|███████▌  | 3784/5000 [1:31:19<27:55,  1.38s/it]"
     ]
    },
    {
     "name": "stdout",
     "output_type": "stream",
     "text": [
      "output.shape=torch.Size([20, 2423, 8])\n",
      "targets.shape=torch.Size([20, 2423, 8])\n",
      "torch.Size([48460]) torch.Size([48460])\n",
      "12051\n",
      "stacked output.shape=torch.Size([48460, 8])\n",
      "targets.shape=torch.Size([48460, 8])\n",
      "12960\n"
     ]
    },
    {
     "name": "stderr",
     "output_type": "stream",
     "text": [
      " 76%|███████▌  | 3787/5000 [1:31:23<27:44,  1.37s/it]"
     ]
    },
    {
     "name": "stdout",
     "output_type": "stream",
     "text": [
      "output.shape=torch.Size([20, 2423, 8])\n",
      "targets.shape=torch.Size([20, 2423, 8])\n",
      "torch.Size([48460]) torch.Size([48460])\n",
      "12174\n",
      "stacked output.shape=torch.Size([48460, 8])\n",
      "targets.shape=torch.Size([48460, 8])\n",
      "12860\n"
     ]
    },
    {
     "name": "stderr",
     "output_type": "stream",
     "text": [
      " 76%|███████▌  | 3790/5000 [1:31:27<29:09,  1.45s/it]"
     ]
    },
    {
     "name": "stdout",
     "output_type": "stream",
     "text": [
      "output.shape=torch.Size([20, 2423, 8])\n",
      "targets.shape=torch.Size([20, 2423, 8])\n",
      "torch.Size([48460]) torch.Size([48460])\n",
      "12149\n",
      "stacked output.shape=torch.Size([48460, 8])\n",
      "targets.shape=torch.Size([48460, 8])\n",
      "12920\n"
     ]
    },
    {
     "name": "stderr",
     "output_type": "stream",
     "text": [
      " 76%|███████▌  | 3793/5000 [1:31:31<28:22,  1.41s/it]"
     ]
    },
    {
     "name": "stdout",
     "output_type": "stream",
     "text": [
      "output.shape=torch.Size([20, 2423, 8])\n",
      "targets.shape=torch.Size([20, 2423, 8])\n",
      "torch.Size([48460]) torch.Size([48460])\n",
      "12194\n",
      "stacked output.shape=torch.Size([48460, 8])\n",
      "targets.shape=torch.Size([48460, 8])\n",
      "12940\n"
     ]
    },
    {
     "name": "stderr",
     "output_type": "stream",
     "text": [
      " 76%|███████▌  | 3796/5000 [1:31:36<28:04,  1.40s/it]"
     ]
    },
    {
     "name": "stdout",
     "output_type": "stream",
     "text": [
      "output.shape=torch.Size([20, 2423, 8])\n",
      "targets.shape=torch.Size([20, 2423, 8])\n",
      "torch.Size([48460]) torch.Size([48460])\n",
      "12101\n",
      "stacked output.shape=torch.Size([48460, 8])\n",
      "targets.shape=torch.Size([48460, 8])\n",
      "12740\n"
     ]
    },
    {
     "name": "stderr",
     "output_type": "stream",
     "text": [
      " 76%|███████▌  | 3799/5000 [1:31:40<27:51,  1.39s/it]"
     ]
    },
    {
     "name": "stdout",
     "output_type": "stream",
     "text": [
      "output.shape=torch.Size([20, 2423, 8])\n",
      "targets.shape=torch.Size([20, 2423, 8])\n",
      "torch.Size([48460]) torch.Size([48460])\n",
      "12151\n",
      "stacked output.shape=torch.Size([48460, 8])\n",
      "targets.shape=torch.Size([48460, 8])\n",
      "12820\n"
     ]
    },
    {
     "name": "stderr",
     "output_type": "stream",
     "text": [
      " 76%|███████▌  | 3802/5000 [1:31:44<28:03,  1.41s/it]"
     ]
    },
    {
     "name": "stdout",
     "output_type": "stream",
     "text": [
      "output.shape=torch.Size([20, 2423, 8])\n",
      "targets.shape=torch.Size([20, 2423, 8])\n",
      "torch.Size([48460]) torch.Size([48460])\n",
      "12137\n",
      "stacked output.shape=torch.Size([48460, 8])\n",
      "targets.shape=torch.Size([48460, 8])\n",
      "12700\n"
     ]
    },
    {
     "name": "stderr",
     "output_type": "stream",
     "text": [
      " 76%|███████▌  | 3805/5000 [1:31:48<27:23,  1.37s/it]"
     ]
    },
    {
     "name": "stdout",
     "output_type": "stream",
     "text": [
      "output.shape=torch.Size([20, 2423, 8])\n",
      "targets.shape=torch.Size([20, 2423, 8])\n",
      "torch.Size([48460]) torch.Size([48460])\n",
      "12090\n",
      "stacked output.shape=torch.Size([48460, 8])\n",
      "targets.shape=torch.Size([48460, 8])\n",
      "12880\n"
     ]
    },
    {
     "name": "stderr",
     "output_type": "stream",
     "text": [
      " 76%|███████▌  | 3808/5000 [1:31:52<27:01,  1.36s/it]"
     ]
    },
    {
     "name": "stdout",
     "output_type": "stream",
     "text": [
      "output.shape=torch.Size([20, 2423, 8])\n",
      "targets.shape=torch.Size([20, 2423, 8])\n",
      "torch.Size([48460]) torch.Size([48460])\n",
      "12106\n",
      "stacked output.shape=torch.Size([48460, 8])\n",
      "targets.shape=torch.Size([48460, 8])\n",
      "12800\n"
     ]
    },
    {
     "name": "stderr",
     "output_type": "stream",
     "text": [
      " 76%|███████▌  | 3811/5000 [1:31:56<27:02,  1.36s/it]"
     ]
    },
    {
     "name": "stdout",
     "output_type": "stream",
     "text": [
      "output.shape=torch.Size([20, 2423, 8])\n",
      "targets.shape=torch.Size([20, 2423, 8])\n",
      "torch.Size([48460]) torch.Size([48460])\n",
      "12050\n",
      "stacked output.shape=torch.Size([48460, 8])\n",
      "targets.shape=torch.Size([48460, 8])\n",
      "12640\n"
     ]
    },
    {
     "name": "stderr",
     "output_type": "stream",
     "text": [
      " 76%|███████▋  | 3814/5000 [1:32:00<27:03,  1.37s/it]"
     ]
    },
    {
     "name": "stdout",
     "output_type": "stream",
     "text": [
      "output.shape=torch.Size([20, 2423, 8])\n",
      "targets.shape=torch.Size([20, 2423, 8])\n",
      "torch.Size([48460]) torch.Size([48460])\n",
      "12028\n",
      "stacked output.shape=torch.Size([48460, 8])\n",
      "targets.shape=torch.Size([48460, 8])\n",
      "12800\n"
     ]
    },
    {
     "name": "stderr",
     "output_type": "stream",
     "text": [
      " 76%|███████▋  | 3817/5000 [1:32:04<27:20,  1.39s/it]"
     ]
    },
    {
     "name": "stdout",
     "output_type": "stream",
     "text": [
      "output.shape=torch.Size([20, 2423, 8])\n",
      "targets.shape=torch.Size([20, 2423, 8])\n",
      "torch.Size([48460]) torch.Size([48460])\n",
      "12077\n",
      "stacked output.shape=torch.Size([48460, 8])\n",
      "targets.shape=torch.Size([48460, 8])\n",
      "12620\n"
     ]
    },
    {
     "name": "stderr",
     "output_type": "stream",
     "text": [
      " 76%|███████▋  | 3820/5000 [1:32:08<27:22,  1.39s/it]"
     ]
    },
    {
     "name": "stdout",
     "output_type": "stream",
     "text": [
      "output.shape=torch.Size([20, 2423, 8])\n",
      "targets.shape=torch.Size([20, 2423, 8])\n",
      "torch.Size([48460]) torch.Size([48460])\n",
      "12064\n",
      "stacked output.shape=torch.Size([48460, 8])\n",
      "targets.shape=torch.Size([48460, 8])\n",
      "12900\n"
     ]
    },
    {
     "name": "stderr",
     "output_type": "stream",
     "text": [
      " 76%|███████▋  | 3823/5000 [1:32:12<26:55,  1.37s/it]"
     ]
    },
    {
     "name": "stdout",
     "output_type": "stream",
     "text": [
      "output.shape=torch.Size([20, 2423, 8])\n",
      "targets.shape=torch.Size([20, 2423, 8])\n",
      "torch.Size([48460]) torch.Size([48460])\n",
      "12097\n",
      "stacked output.shape=torch.Size([48460, 8])\n",
      "targets.shape=torch.Size([48460, 8])\n",
      "12600\n"
     ]
    },
    {
     "name": "stderr",
     "output_type": "stream",
     "text": [
      " 77%|███████▋  | 3826/5000 [1:32:16<26:57,  1.38s/it]"
     ]
    },
    {
     "name": "stdout",
     "output_type": "stream",
     "text": [
      "output.shape=torch.Size([20, 2423, 8])\n",
      "targets.shape=torch.Size([20, 2423, 8])\n",
      "torch.Size([48460]) torch.Size([48460])\n",
      "12118\n",
      "stacked output.shape=torch.Size([48460, 8])\n",
      "targets.shape=torch.Size([48460, 8])\n",
      "12860\n"
     ]
    },
    {
     "name": "stderr",
     "output_type": "stream",
     "text": [
      " 77%|███████▋  | 3829/5000 [1:32:20<26:52,  1.38s/it]"
     ]
    },
    {
     "name": "stdout",
     "output_type": "stream",
     "text": [
      "output.shape=torch.Size([20, 2423, 8])\n",
      "targets.shape=torch.Size([20, 2423, 8])\n",
      "torch.Size([48460]) torch.Size([48460])\n",
      "12151\n",
      "stacked output.shape=torch.Size([48460, 8])\n",
      "targets.shape=torch.Size([48460, 8])\n",
      "12820\n"
     ]
    },
    {
     "name": "stderr",
     "output_type": "stream",
     "text": [
      " 77%|███████▋  | 3832/5000 [1:32:24<27:05,  1.39s/it]"
     ]
    },
    {
     "name": "stdout",
     "output_type": "stream",
     "text": [
      "output.shape=torch.Size([20, 2423, 8])\n",
      "targets.shape=torch.Size([20, 2423, 8])\n",
      "torch.Size([48460]) torch.Size([48460])\n",
      "12100\n",
      "stacked output.shape=torch.Size([48460, 8])\n",
      "targets.shape=torch.Size([48460, 8])\n",
      "12980\n"
     ]
    },
    {
     "name": "stderr",
     "output_type": "stream",
     "text": [
      " 77%|███████▋  | 3835/5000 [1:32:28<27:00,  1.39s/it]"
     ]
    },
    {
     "name": "stdout",
     "output_type": "stream",
     "text": [
      "output.shape=torch.Size([20, 2423, 8])\n",
      "targets.shape=torch.Size([20, 2423, 8])\n",
      "torch.Size([48460]) torch.Size([48460])\n",
      "12113\n",
      "stacked output.shape=torch.Size([48460, 8])\n",
      "targets.shape=torch.Size([48460, 8])\n",
      "12860\n"
     ]
    },
    {
     "name": "stderr",
     "output_type": "stream",
     "text": [
      " 77%|███████▋  | 3838/5000 [1:32:32<26:32,  1.37s/it]"
     ]
    },
    {
     "name": "stdout",
     "output_type": "stream",
     "text": [
      "output.shape=torch.Size([20, 2423, 8])\n",
      "targets.shape=torch.Size([20, 2423, 8])\n",
      "torch.Size([48460]) torch.Size([48460])\n",
      "12120\n",
      "stacked output.shape=torch.Size([48460, 8])\n",
      "targets.shape=torch.Size([48460, 8])\n",
      "12620\n"
     ]
    },
    {
     "name": "stderr",
     "output_type": "stream",
     "text": [
      " 77%|███████▋  | 3841/5000 [1:32:36<26:22,  1.37s/it]"
     ]
    },
    {
     "name": "stdout",
     "output_type": "stream",
     "text": [
      "output.shape=torch.Size([20, 2423, 8])\n",
      "targets.shape=torch.Size([20, 2423, 8])\n",
      "torch.Size([48460]) torch.Size([48460])\n",
      "12136\n",
      "stacked output.shape=torch.Size([48460, 8])\n",
      "targets.shape=torch.Size([48460, 8])\n",
      "12740\n"
     ]
    },
    {
     "name": "stderr",
     "output_type": "stream",
     "text": [
      " 77%|███████▋  | 3844/5000 [1:32:40<26:32,  1.38s/it]"
     ]
    },
    {
     "name": "stdout",
     "output_type": "stream",
     "text": [
      "output.shape=torch.Size([20, 2423, 8])\n",
      "targets.shape=torch.Size([20, 2423, 8])\n",
      "torch.Size([48460]) torch.Size([48460])\n",
      "12137\n",
      "stacked output.shape=torch.Size([48460, 8])\n",
      "targets.shape=torch.Size([48460, 8])\n",
      "12940\n"
     ]
    },
    {
     "name": "stderr",
     "output_type": "stream",
     "text": [
      " 77%|███████▋  | 3847/5000 [1:32:44<27:11,  1.42s/it]"
     ]
    },
    {
     "name": "stdout",
     "output_type": "stream",
     "text": [
      "output.shape=torch.Size([20, 2423, 8])\n",
      "targets.shape=torch.Size([20, 2423, 8])\n",
      "torch.Size([48460]) torch.Size([48460])\n",
      "12066\n",
      "stacked output.shape=torch.Size([48460, 8])\n",
      "targets.shape=torch.Size([48460, 8])\n",
      "12820\n"
     ]
    },
    {
     "name": "stderr",
     "output_type": "stream",
     "text": [
      " 77%|███████▋  | 3850/5000 [1:32:48<26:47,  1.40s/it]"
     ]
    },
    {
     "name": "stdout",
     "output_type": "stream",
     "text": [
      "output.shape=torch.Size([20, 2423, 8])\n",
      "targets.shape=torch.Size([20, 2423, 8])\n",
      "torch.Size([48460]) torch.Size([48460])\n",
      "12156\n",
      "stacked output.shape=torch.Size([48460, 8])\n",
      "targets.shape=torch.Size([48460, 8])\n",
      "12880\n"
     ]
    },
    {
     "name": "stderr",
     "output_type": "stream",
     "text": [
      " 77%|███████▋  | 3853/5000 [1:32:52<26:39,  1.39s/it]"
     ]
    },
    {
     "name": "stdout",
     "output_type": "stream",
     "text": [
      "output.shape=torch.Size([20, 2423, 8])\n",
      "targets.shape=torch.Size([20, 2423, 8])\n",
      "torch.Size([48460]) torch.Size([48460])\n",
      "12127\n",
      "stacked output.shape=torch.Size([48460, 8])\n",
      "targets.shape=torch.Size([48460, 8])\n",
      "12660\n"
     ]
    },
    {
     "name": "stderr",
     "output_type": "stream",
     "text": [
      " 77%|███████▋  | 3856/5000 [1:32:56<26:18,  1.38s/it]"
     ]
    },
    {
     "name": "stdout",
     "output_type": "stream",
     "text": [
      "output.shape=torch.Size([20, 2423, 8])\n",
      "targets.shape=torch.Size([20, 2423, 8])\n",
      "torch.Size([48460]) torch.Size([48460])\n",
      "12037\n",
      "stacked output.shape=torch.Size([48460, 8])\n",
      "targets.shape=torch.Size([48460, 8])\n",
      "12580\n"
     ]
    },
    {
     "name": "stderr",
     "output_type": "stream",
     "text": [
      " 77%|███████▋  | 3859/5000 [1:33:00<25:58,  1.37s/it]"
     ]
    },
    {
     "name": "stdout",
     "output_type": "stream",
     "text": [
      "output.shape=torch.Size([20, 2423, 8])\n",
      "targets.shape=torch.Size([20, 2423, 8])\n",
      "torch.Size([48460]) torch.Size([48460])\n",
      "12082\n",
      "stacked output.shape=torch.Size([48460, 8])\n",
      "targets.shape=torch.Size([48460, 8])\n",
      "12580\n"
     ]
    },
    {
     "name": "stderr",
     "output_type": "stream",
     "text": [
      " 77%|███████▋  | 3862/5000 [1:33:04<25:49,  1.36s/it]"
     ]
    },
    {
     "name": "stdout",
     "output_type": "stream",
     "text": [
      "output.shape=torch.Size([20, 2423, 8])\n",
      "targets.shape=torch.Size([20, 2423, 8])\n",
      "torch.Size([48460]) torch.Size([48460])\n",
      "12103\n",
      "stacked output.shape=torch.Size([48460, 8])\n",
      "targets.shape=torch.Size([48460, 8])\n",
      "12720\n"
     ]
    },
    {
     "name": "stderr",
     "output_type": "stream",
     "text": [
      " 77%|███████▋  | 3865/5000 [1:33:09<26:11,  1.38s/it]"
     ]
    },
    {
     "name": "stdout",
     "output_type": "stream",
     "text": [
      "output.shape=torch.Size([20, 2423, 8])\n",
      "targets.shape=torch.Size([20, 2423, 8])\n",
      "torch.Size([48460]) torch.Size([48460])\n",
      "12108\n",
      "stacked output.shape=torch.Size([48460, 8])\n",
      "targets.shape=torch.Size([48460, 8])\n",
      "12460\n"
     ]
    },
    {
     "name": "stderr",
     "output_type": "stream",
     "text": [
      " 77%|███████▋  | 3868/5000 [1:33:12<25:47,  1.37s/it]"
     ]
    },
    {
     "name": "stdout",
     "output_type": "stream",
     "text": [
      "output.shape=torch.Size([20, 2423, 8])\n",
      "targets.shape=torch.Size([20, 2423, 8])\n",
      "torch.Size([48460]) torch.Size([48460])\n",
      "12115\n",
      "stacked output.shape=torch.Size([48460, 8])\n",
      "targets.shape=torch.Size([48460, 8])\n",
      "12540\n"
     ]
    },
    {
     "name": "stderr",
     "output_type": "stream",
     "text": [
      " 77%|███████▋  | 3871/5000 [1:33:17<25:56,  1.38s/it]"
     ]
    },
    {
     "name": "stdout",
     "output_type": "stream",
     "text": [
      "output.shape=torch.Size([20, 2423, 8])\n",
      "targets.shape=torch.Size([20, 2423, 8])\n",
      "torch.Size([48460]) torch.Size([48460])\n",
      "12129\n",
      "stacked output.shape=torch.Size([48460, 8])\n",
      "targets.shape=torch.Size([48460, 8])\n",
      "12560\n"
     ]
    },
    {
     "name": "stderr",
     "output_type": "stream",
     "text": [
      " 77%|███████▋  | 3874/5000 [1:33:21<26:01,  1.39s/it]"
     ]
    },
    {
     "name": "stdout",
     "output_type": "stream",
     "text": [
      "output.shape=torch.Size([20, 2423, 8])\n",
      "targets.shape=torch.Size([20, 2423, 8])\n",
      "torch.Size([48460]) torch.Size([48460])\n",
      "12104\n",
      "stacked output.shape=torch.Size([48460, 8])\n",
      "targets.shape=torch.Size([48460, 8])\n",
      "12820\n"
     ]
    },
    {
     "name": "stderr",
     "output_type": "stream",
     "text": [
      " 78%|███████▊  | 3877/5000 [1:33:25<25:41,  1.37s/it]"
     ]
    },
    {
     "name": "stdout",
     "output_type": "stream",
     "text": [
      "output.shape=torch.Size([20, 2423, 8])\n",
      "targets.shape=torch.Size([20, 2423, 8])\n",
      "torch.Size([48460]) torch.Size([48460])\n",
      "12157\n",
      "stacked output.shape=torch.Size([48460, 8])\n",
      "targets.shape=torch.Size([48460, 8])\n",
      "12760\n"
     ]
    },
    {
     "name": "stderr",
     "output_type": "stream",
     "text": [
      " 78%|███████▊  | 3880/5000 [1:33:29<25:25,  1.36s/it]"
     ]
    },
    {
     "name": "stdout",
     "output_type": "stream",
     "text": [
      "output.shape=torch.Size([20, 2423, 8])\n",
      "targets.shape=torch.Size([20, 2423, 8])\n",
      "torch.Size([48460]) torch.Size([48460])\n",
      "12145\n",
      "stacked output.shape=torch.Size([48460, 8])\n",
      "targets.shape=torch.Size([48460, 8])\n",
      "12620\n"
     ]
    },
    {
     "name": "stderr",
     "output_type": "stream",
     "text": [
      " 78%|███████▊  | 3883/5000 [1:33:33<25:30,  1.37s/it]"
     ]
    },
    {
     "name": "stdout",
     "output_type": "stream",
     "text": [
      "output.shape=torch.Size([20, 2423, 8])\n",
      "targets.shape=torch.Size([20, 2423, 8])\n",
      "torch.Size([48460]) torch.Size([48460])\n",
      "12128\n",
      "stacked output.shape=torch.Size([48460, 8])\n",
      "targets.shape=torch.Size([48460, 8])\n",
      "12760\n"
     ]
    },
    {
     "name": "stderr",
     "output_type": "stream",
     "text": [
      " 78%|███████▊  | 3886/5000 [1:33:37<25:18,  1.36s/it]"
     ]
    },
    {
     "name": "stdout",
     "output_type": "stream",
     "text": [
      "output.shape=torch.Size([20, 2423, 8])\n",
      "targets.shape=torch.Size([20, 2423, 8])\n",
      "torch.Size([48460]) torch.Size([48460])\n",
      "12166\n",
      "stacked output.shape=torch.Size([48460, 8])\n",
      "targets.shape=torch.Size([48460, 8])\n",
      "12800\n"
     ]
    },
    {
     "name": "stderr",
     "output_type": "stream",
     "text": [
      " 78%|███████▊  | 3889/5000 [1:33:41<25:30,  1.38s/it]"
     ]
    },
    {
     "name": "stdout",
     "output_type": "stream",
     "text": [
      "output.shape=torch.Size([20, 2423, 8])\n",
      "targets.shape=torch.Size([20, 2423, 8])\n",
      "torch.Size([48460]) torch.Size([48460])\n",
      "12169\n",
      "stacked output.shape=torch.Size([48460, 8])\n",
      "targets.shape=torch.Size([48460, 8])\n",
      "12580\n"
     ]
    },
    {
     "name": "stderr",
     "output_type": "stream",
     "text": [
      " 78%|███████▊  | 3892/5000 [1:33:45<25:58,  1.41s/it]"
     ]
    },
    {
     "name": "stdout",
     "output_type": "stream",
     "text": [
      "output.shape=torch.Size([20, 2423, 8])\n",
      "targets.shape=torch.Size([20, 2423, 8])\n",
      "torch.Size([48460]) torch.Size([48460])\n",
      "12137\n",
      "stacked output.shape=torch.Size([48460, 8])\n",
      "targets.shape=torch.Size([48460, 8])\n",
      "12640\n"
     ]
    },
    {
     "name": "stderr",
     "output_type": "stream",
     "text": [
      " 78%|███████▊  | 3895/5000 [1:33:49<25:20,  1.38s/it]"
     ]
    },
    {
     "name": "stdout",
     "output_type": "stream",
     "text": [
      "output.shape=torch.Size([20, 2423, 8])\n",
      "targets.shape=torch.Size([20, 2423, 8])\n",
      "torch.Size([48460]) torch.Size([48460])\n",
      "12134\n",
      "stacked output.shape=torch.Size([48460, 8])\n",
      "targets.shape=torch.Size([48460, 8])\n",
      "12720\n"
     ]
    },
    {
     "name": "stderr",
     "output_type": "stream",
     "text": [
      " 78%|███████▊  | 3898/5000 [1:33:53<25:18,  1.38s/it]"
     ]
    },
    {
     "name": "stdout",
     "output_type": "stream",
     "text": [
      "output.shape=torch.Size([20, 2423, 8])\n",
      "targets.shape=torch.Size([20, 2423, 8])\n",
      "torch.Size([48460]) torch.Size([48460])\n",
      "12197\n",
      "stacked output.shape=torch.Size([48460, 8])\n",
      "targets.shape=torch.Size([48460, 8])\n",
      "12580\n"
     ]
    },
    {
     "name": "stderr",
     "output_type": "stream",
     "text": [
      " 78%|███████▊  | 3901/5000 [1:33:57<25:00,  1.37s/it]"
     ]
    },
    {
     "name": "stdout",
     "output_type": "stream",
     "text": [
      "output.shape=torch.Size([20, 2423, 8])\n",
      "targets.shape=torch.Size([20, 2423, 8])\n",
      "torch.Size([48460]) torch.Size([48460])\n",
      "12142\n",
      "stacked output.shape=torch.Size([48460, 8])\n",
      "targets.shape=torch.Size([48460, 8])\n",
      "12680\n"
     ]
    },
    {
     "name": "stderr",
     "output_type": "stream",
     "text": [
      " 78%|███████▊  | 3904/5000 [1:34:01<25:00,  1.37s/it]"
     ]
    },
    {
     "name": "stdout",
     "output_type": "stream",
     "text": [
      "output.shape=torch.Size([20, 2423, 8])\n",
      "targets.shape=torch.Size([20, 2423, 8])\n",
      "torch.Size([48460]) torch.Size([48460])\n",
      "12166\n",
      "stacked output.shape=torch.Size([48460, 8])\n",
      "targets.shape=torch.Size([48460, 8])\n",
      "12720\n"
     ]
    },
    {
     "name": "stderr",
     "output_type": "stream",
     "text": [
      " 78%|███████▊  | 3907/5000 [1:34:05<25:05,  1.38s/it]"
     ]
    },
    {
     "name": "stdout",
     "output_type": "stream",
     "text": [
      "output.shape=torch.Size([20, 2423, 8])\n",
      "targets.shape=torch.Size([20, 2423, 8])\n",
      "torch.Size([48460]) torch.Size([48460])\n",
      "12186\n",
      "stacked output.shape=torch.Size([48460, 8])\n",
      "targets.shape=torch.Size([48460, 8])\n",
      "12820\n"
     ]
    },
    {
     "name": "stderr",
     "output_type": "stream",
     "text": [
      " 78%|███████▊  | 3910/5000 [1:34:09<24:45,  1.36s/it]"
     ]
    },
    {
     "name": "stdout",
     "output_type": "stream",
     "text": [
      "output.shape=torch.Size([20, 2423, 8])\n",
      "targets.shape=torch.Size([20, 2423, 8])\n",
      "torch.Size([48460]) torch.Size([48460])\n",
      "12196\n",
      "stacked output.shape=torch.Size([48460, 8])\n",
      "targets.shape=torch.Size([48460, 8])\n",
      "12680\n"
     ]
    },
    {
     "name": "stderr",
     "output_type": "stream",
     "text": [
      " 78%|███████▊  | 3913/5000 [1:34:13<25:09,  1.39s/it]"
     ]
    },
    {
     "name": "stdout",
     "output_type": "stream",
     "text": [
      "output.shape=torch.Size([20, 2423, 8])\n",
      "targets.shape=torch.Size([20, 2423, 8])\n",
      "torch.Size([48460]) torch.Size([48460])\n",
      "12231\n",
      "stacked output.shape=torch.Size([48460, 8])\n",
      "targets.shape=torch.Size([48460, 8])\n",
      "12860\n"
     ]
    },
    {
     "name": "stderr",
     "output_type": "stream",
     "text": [
      " 78%|███████▊  | 3916/5000 [1:34:17<24:47,  1.37s/it]"
     ]
    },
    {
     "name": "stdout",
     "output_type": "stream",
     "text": [
      "output.shape=torch.Size([20, 2423, 8])\n",
      "targets.shape=torch.Size([20, 2423, 8])\n",
      "torch.Size([48460]) torch.Size([48460])\n",
      "12183\n",
      "stacked output.shape=torch.Size([48460, 8])\n",
      "targets.shape=torch.Size([48460, 8])\n",
      "12680\n"
     ]
    },
    {
     "name": "stderr",
     "output_type": "stream",
     "text": [
      " 78%|███████▊  | 3919/5000 [1:34:21<24:23,  1.35s/it]"
     ]
    },
    {
     "name": "stdout",
     "output_type": "stream",
     "text": [
      "output.shape=torch.Size([20, 2423, 8])\n",
      "targets.shape=torch.Size([20, 2423, 8])\n",
      "torch.Size([48460]) torch.Size([48460])\n",
      "12223\n",
      "stacked output.shape=torch.Size([48460, 8])\n",
      "targets.shape=torch.Size([48460, 8])\n",
      "12440\n"
     ]
    },
    {
     "name": "stderr",
     "output_type": "stream",
     "text": [
      " 78%|███████▊  | 3922/5000 [1:34:25<24:32,  1.37s/it]"
     ]
    },
    {
     "name": "stdout",
     "output_type": "stream",
     "text": [
      "output.shape=torch.Size([20, 2423, 8])\n",
      "targets.shape=torch.Size([20, 2423, 8])\n",
      "torch.Size([48460]) torch.Size([48460])\n",
      "12190\n",
      "stacked output.shape=torch.Size([48460, 8])\n",
      "targets.shape=torch.Size([48460, 8])\n",
      "12860\n"
     ]
    },
    {
     "name": "stderr",
     "output_type": "stream",
     "text": [
      " 78%|███████▊  | 3925/5000 [1:34:29<24:37,  1.37s/it]"
     ]
    },
    {
     "name": "stdout",
     "output_type": "stream",
     "text": [
      "output.shape=torch.Size([20, 2423, 8])\n",
      "targets.shape=torch.Size([20, 2423, 8])\n",
      "torch.Size([48460]) torch.Size([48460])\n",
      "12189\n",
      "stacked output.shape=torch.Size([48460, 8])\n",
      "targets.shape=torch.Size([48460, 8])\n",
      "12720\n"
     ]
    },
    {
     "name": "stderr",
     "output_type": "stream",
     "text": [
      " 79%|███████▊  | 3928/5000 [1:34:33<25:01,  1.40s/it]"
     ]
    },
    {
     "name": "stdout",
     "output_type": "stream",
     "text": [
      "output.shape=torch.Size([20, 2423, 8])\n",
      "targets.shape=torch.Size([20, 2423, 8])\n",
      "torch.Size([48460]) torch.Size([48460])\n",
      "12092\n",
      "stacked output.shape=torch.Size([48460, 8])\n",
      "targets.shape=torch.Size([48460, 8])\n",
      "12680\n"
     ]
    },
    {
     "name": "stderr",
     "output_type": "stream",
     "text": [
      " 79%|███████▊  | 3931/5000 [1:34:37<24:48,  1.39s/it]"
     ]
    },
    {
     "name": "stdout",
     "output_type": "stream",
     "text": [
      "output.shape=torch.Size([20, 2423, 8])\n",
      "targets.shape=torch.Size([20, 2423, 8])\n",
      "torch.Size([48460]) torch.Size([48460])\n",
      "12163\n",
      "stacked output.shape=torch.Size([48460, 8])\n",
      "targets.shape=torch.Size([48460, 8])\n",
      "12620\n"
     ]
    },
    {
     "name": "stderr",
     "output_type": "stream",
     "text": [
      " 79%|███████▊  | 3934/5000 [1:34:41<24:33,  1.38s/it]"
     ]
    },
    {
     "name": "stdout",
     "output_type": "stream",
     "text": [
      "output.shape=torch.Size([20, 2423, 8])\n",
      "targets.shape=torch.Size([20, 2423, 8])\n",
      "torch.Size([48460]) torch.Size([48460])\n",
      "12172\n",
      "stacked output.shape=torch.Size([48460, 8])\n",
      "targets.shape=torch.Size([48460, 8])\n",
      "12600\n"
     ]
    },
    {
     "name": "stderr",
     "output_type": "stream",
     "text": [
      " 79%|███████▊  | 3937/5000 [1:34:45<24:43,  1.40s/it]"
     ]
    },
    {
     "name": "stdout",
     "output_type": "stream",
     "text": [
      "output.shape=torch.Size([20, 2423, 8])\n",
      "targets.shape=torch.Size([20, 2423, 8])\n",
      "torch.Size([48460]) torch.Size([48460])\n",
      "12180\n",
      "stacked output.shape=torch.Size([48460, 8])\n",
      "targets.shape=torch.Size([48460, 8])\n",
      "12500\n"
     ]
    },
    {
     "name": "stderr",
     "output_type": "stream",
     "text": [
      " 79%|███████▉  | 3940/5000 [1:34:49<24:12,  1.37s/it]"
     ]
    },
    {
     "name": "stdout",
     "output_type": "stream",
     "text": [
      "output.shape=torch.Size([20, 2423, 8])\n",
      "targets.shape=torch.Size([20, 2423, 8])\n",
      "torch.Size([48460]) torch.Size([48460])\n",
      "12148\n",
      "stacked output.shape=torch.Size([48460, 8])\n",
      "targets.shape=torch.Size([48460, 8])\n",
      "12800\n"
     ]
    },
    {
     "name": "stderr",
     "output_type": "stream",
     "text": [
      " 79%|███████▉  | 3943/5000 [1:34:53<24:04,  1.37s/it]"
     ]
    },
    {
     "name": "stdout",
     "output_type": "stream",
     "text": [
      "output.shape=torch.Size([20, 2423, 8])\n",
      "targets.shape=torch.Size([20, 2423, 8])\n",
      "torch.Size([48460]) torch.Size([48460])\n",
      "12178\n",
      "stacked output.shape=torch.Size([48460, 8])\n",
      "targets.shape=torch.Size([48460, 8])\n",
      "12540\n"
     ]
    },
    {
     "name": "stderr",
     "output_type": "stream",
     "text": [
      " 79%|███████▉  | 3946/5000 [1:34:57<24:00,  1.37s/it]"
     ]
    },
    {
     "name": "stdout",
     "output_type": "stream",
     "text": [
      "output.shape=torch.Size([20, 2423, 8])\n",
      "targets.shape=torch.Size([20, 2423, 8])\n",
      "torch.Size([48460]) torch.Size([48460])\n",
      "12170\n",
      "stacked output.shape=torch.Size([48460, 8])\n",
      "targets.shape=torch.Size([48460, 8])\n",
      "12680\n"
     ]
    },
    {
     "name": "stderr",
     "output_type": "stream",
     "text": [
      " 79%|███████▉  | 3949/5000 [1:35:01<24:06,  1.38s/it]"
     ]
    },
    {
     "name": "stdout",
     "output_type": "stream",
     "text": [
      "output.shape=torch.Size([20, 2423, 8])\n",
      "targets.shape=torch.Size([20, 2423, 8])\n",
      "torch.Size([48460]) torch.Size([48460])\n",
      "12134\n",
      "stacked output.shape=torch.Size([48460, 8])\n",
      "targets.shape=torch.Size([48460, 8])\n",
      "12720\n"
     ]
    },
    {
     "name": "stderr",
     "output_type": "stream",
     "text": [
      " 79%|███████▉  | 3952/5000 [1:35:05<23:56,  1.37s/it]"
     ]
    },
    {
     "name": "stdout",
     "output_type": "stream",
     "text": [
      "output.shape=torch.Size([20, 2423, 8])\n",
      "targets.shape=torch.Size([20, 2423, 8])\n",
      "torch.Size([48460]) torch.Size([48460])\n",
      "12162\n",
      "stacked output.shape=torch.Size([48460, 8])\n",
      "targets.shape=torch.Size([48460, 8])\n",
      "12860\n"
     ]
    },
    {
     "name": "stderr",
     "output_type": "stream",
     "text": [
      " 79%|███████▉  | 3955/5000 [1:35:09<23:58,  1.38s/it]"
     ]
    },
    {
     "name": "stdout",
     "output_type": "stream",
     "text": [
      "output.shape=torch.Size([20, 2423, 8])\n",
      "targets.shape=torch.Size([20, 2423, 8])\n",
      "torch.Size([48460]) torch.Size([48460])\n",
      "12168\n",
      "stacked output.shape=torch.Size([48460, 8])\n",
      "targets.shape=torch.Size([48460, 8])\n",
      "12500\n"
     ]
    },
    {
     "name": "stderr",
     "output_type": "stream",
     "text": [
      " 79%|███████▉  | 3958/5000 [1:35:13<23:49,  1.37s/it]"
     ]
    },
    {
     "name": "stdout",
     "output_type": "stream",
     "text": [
      "output.shape=torch.Size([20, 2423, 8])\n",
      "targets.shape=torch.Size([20, 2423, 8])\n",
      "torch.Size([48460]) torch.Size([48460])\n",
      "12165\n",
      "stacked output.shape=torch.Size([48460, 8])\n",
      "targets.shape=torch.Size([48460, 8])\n",
      "12560\n"
     ]
    },
    {
     "name": "stderr",
     "output_type": "stream",
     "text": [
      " 79%|███████▉  | 3961/5000 [1:35:18<24:01,  1.39s/it]"
     ]
    },
    {
     "name": "stdout",
     "output_type": "stream",
     "text": [
      "output.shape=torch.Size([20, 2423, 8])\n",
      "targets.shape=torch.Size([20, 2423, 8])\n",
      "torch.Size([48460]) torch.Size([48460])\n",
      "12137\n",
      "stacked output.shape=torch.Size([48460, 8])\n",
      "targets.shape=torch.Size([48460, 8])\n",
      "12540\n"
     ]
    },
    {
     "name": "stderr",
     "output_type": "stream",
     "text": [
      " 79%|███████▉  | 3964/5000 [1:35:22<23:58,  1.39s/it]"
     ]
    },
    {
     "name": "stdout",
     "output_type": "stream",
     "text": [
      "output.shape=torch.Size([20, 2423, 8])\n",
      "targets.shape=torch.Size([20, 2423, 8])\n",
      "torch.Size([48460]) torch.Size([48460])\n",
      "12179\n",
      "stacked output.shape=torch.Size([48460, 8])\n",
      "targets.shape=torch.Size([48460, 8])\n",
      "12840\n"
     ]
    },
    {
     "name": "stderr",
     "output_type": "stream",
     "text": [
      " 79%|███████▉  | 3967/5000 [1:35:26<23:24,  1.36s/it]"
     ]
    },
    {
     "name": "stdout",
     "output_type": "stream",
     "text": [
      "output.shape=torch.Size([20, 2423, 8])\n",
      "targets.shape=torch.Size([20, 2423, 8])\n",
      "torch.Size([48460]) torch.Size([48460])\n",
      "12182\n",
      "stacked output.shape=torch.Size([48460, 8])\n",
      "targets.shape=torch.Size([48460, 8])\n",
      "12740\n"
     ]
    },
    {
     "name": "stderr",
     "output_type": "stream",
     "text": [
      " 79%|███████▉  | 3970/5000 [1:35:30<23:53,  1.39s/it]"
     ]
    },
    {
     "name": "stdout",
     "output_type": "stream",
     "text": [
      "output.shape=torch.Size([20, 2423, 8])\n",
      "targets.shape=torch.Size([20, 2423, 8])\n",
      "torch.Size([48460]) torch.Size([48460])\n",
      "12170\n",
      "stacked output.shape=torch.Size([48460, 8])\n",
      "targets.shape=torch.Size([48460, 8])\n",
      "12740\n"
     ]
    },
    {
     "name": "stderr",
     "output_type": "stream",
     "text": [
      " 79%|███████▉  | 3973/5000 [1:35:34<23:33,  1.38s/it]"
     ]
    },
    {
     "name": "stdout",
     "output_type": "stream",
     "text": [
      "output.shape=torch.Size([20, 2423, 8])\n",
      "targets.shape=torch.Size([20, 2423, 8])\n",
      "torch.Size([48460]) torch.Size([48460])\n",
      "12130\n",
      "stacked output.shape=torch.Size([48460, 8])\n",
      "targets.shape=torch.Size([48460, 8])\n",
      "12920\n"
     ]
    },
    {
     "name": "stderr",
     "output_type": "stream",
     "text": [
      " 80%|███████▉  | 3976/5000 [1:35:38<23:18,  1.37s/it]"
     ]
    },
    {
     "name": "stdout",
     "output_type": "stream",
     "text": [
      "output.shape=torch.Size([20, 2423, 8])\n",
      "targets.shape=torch.Size([20, 2423, 8])\n",
      "torch.Size([48460]) torch.Size([48460])\n",
      "12098\n",
      "stacked output.shape=torch.Size([48460, 8])\n",
      "targets.shape=torch.Size([48460, 8])\n",
      "12460\n"
     ]
    },
    {
     "name": "stderr",
     "output_type": "stream",
     "text": [
      " 80%|███████▉  | 3979/5000 [1:35:42<23:12,  1.36s/it]"
     ]
    },
    {
     "name": "stdout",
     "output_type": "stream",
     "text": [
      "output.shape=torch.Size([20, 2423, 8])\n",
      "targets.shape=torch.Size([20, 2423, 8])\n",
      "torch.Size([48460]) torch.Size([48460])\n",
      "12149\n",
      "stacked output.shape=torch.Size([48460, 8])\n",
      "targets.shape=torch.Size([48460, 8])\n",
      "12760\n"
     ]
    },
    {
     "name": "stderr",
     "output_type": "stream",
     "text": [
      " 80%|███████▉  | 3982/5000 [1:35:46<23:07,  1.36s/it]"
     ]
    },
    {
     "name": "stdout",
     "output_type": "stream",
     "text": [
      "output.shape=torch.Size([20, 2423, 8])\n",
      "targets.shape=torch.Size([20, 2423, 8])\n",
      "torch.Size([48460]) torch.Size([48460])\n",
      "12137\n",
      "stacked output.shape=torch.Size([48460, 8])\n",
      "targets.shape=torch.Size([48460, 8])\n",
      "12680\n"
     ]
    },
    {
     "name": "stderr",
     "output_type": "stream",
     "text": [
      " 80%|███████▉  | 3985/5000 [1:35:50<23:13,  1.37s/it]"
     ]
    },
    {
     "name": "stdout",
     "output_type": "stream",
     "text": [
      "output.shape=torch.Size([20, 2423, 8])\n",
      "targets.shape=torch.Size([20, 2423, 8])\n",
      "torch.Size([48460]) torch.Size([48460])\n",
      "12160\n",
      "stacked output.shape=torch.Size([48460, 8])\n",
      "targets.shape=torch.Size([48460, 8])\n",
      "12900\n"
     ]
    },
    {
     "name": "stderr",
     "output_type": "stream",
     "text": [
      " 80%|███████▉  | 3988/5000 [1:35:54<23:00,  1.36s/it]"
     ]
    },
    {
     "name": "stdout",
     "output_type": "stream",
     "text": [
      "output.shape=torch.Size([20, 2423, 8])\n",
      "targets.shape=torch.Size([20, 2423, 8])\n",
      "torch.Size([48460]) torch.Size([48460])\n",
      "12177\n",
      "stacked output.shape=torch.Size([48460, 8])\n",
      "targets.shape=torch.Size([48460, 8])\n",
      "12940\n"
     ]
    },
    {
     "name": "stderr",
     "output_type": "stream",
     "text": [
      " 80%|███████▉  | 3991/5000 [1:35:58<22:59,  1.37s/it]"
     ]
    },
    {
     "name": "stdout",
     "output_type": "stream",
     "text": [
      "output.shape=torch.Size([20, 2423, 8])\n",
      "targets.shape=torch.Size([20, 2423, 8])\n",
      "torch.Size([48460]) torch.Size([48460])\n",
      "12178\n",
      "stacked output.shape=torch.Size([48460, 8])\n",
      "targets.shape=torch.Size([48460, 8])\n",
      "12680\n"
     ]
    },
    {
     "name": "stderr",
     "output_type": "stream",
     "text": [
      " 80%|███████▉  | 3994/5000 [1:36:02<23:06,  1.38s/it]"
     ]
    },
    {
     "name": "stdout",
     "output_type": "stream",
     "text": [
      "output.shape=torch.Size([20, 2423, 8])\n",
      "targets.shape=torch.Size([20, 2423, 8])\n",
      "torch.Size([48460]) torch.Size([48460])\n",
      "12154\n",
      "stacked output.shape=torch.Size([48460, 8])\n",
      "targets.shape=torch.Size([48460, 8])\n",
      "13020\n"
     ]
    },
    {
     "name": "stderr",
     "output_type": "stream",
     "text": [
      " 80%|███████▉  | 3997/5000 [1:36:06<23:06,  1.38s/it]"
     ]
    },
    {
     "name": "stdout",
     "output_type": "stream",
     "text": [
      "output.shape=torch.Size([20, 2423, 8])\n",
      "targets.shape=torch.Size([20, 2423, 8])\n",
      "torch.Size([48460]) torch.Size([48460])\n",
      "12125\n",
      "stacked output.shape=torch.Size([48460, 8])\n",
      "targets.shape=torch.Size([48460, 8])\n",
      "12780\n"
     ]
    },
    {
     "name": "stderr",
     "output_type": "stream",
     "text": [
      " 80%|████████  | 4000/5000 [1:36:10<22:45,  1.37s/it]"
     ]
    },
    {
     "name": "stdout",
     "output_type": "stream",
     "text": [
      "output.shape=torch.Size([20, 2423, 8])\n",
      "targets.shape=torch.Size([20, 2423, 8])\n",
      "torch.Size([48460]) torch.Size([48460])\n",
      "12187\n",
      "stacked output.shape=torch.Size([48460, 8])\n",
      "targets.shape=torch.Size([48460, 8])\n",
      "12780\n"
     ]
    },
    {
     "name": "stderr",
     "output_type": "stream",
     "text": [
      " 80%|████████  | 4003/5000 [1:36:14<22:44,  1.37s/it]"
     ]
    },
    {
     "name": "stdout",
     "output_type": "stream",
     "text": [
      "output.shape=torch.Size([20, 2423, 8])\n",
      "targets.shape=torch.Size([20, 2423, 8])\n",
      "torch.Size([48460]) torch.Size([48460])\n",
      "12205\n",
      "stacked output.shape=torch.Size([48460, 8])\n",
      "targets.shape=torch.Size([48460, 8])\n",
      "12860\n"
     ]
    },
    {
     "name": "stderr",
     "output_type": "stream",
     "text": [
      " 80%|████████  | 4006/5000 [1:36:18<22:48,  1.38s/it]"
     ]
    },
    {
     "name": "stdout",
     "output_type": "stream",
     "text": [
      "output.shape=torch.Size([20, 2423, 8])\n",
      "targets.shape=torch.Size([20, 2423, 8])\n",
      "torch.Size([48460]) torch.Size([48460])\n",
      "12194\n",
      "stacked output.shape=torch.Size([48460, 8])\n",
      "targets.shape=torch.Size([48460, 8])\n",
      "12920\n"
     ]
    },
    {
     "name": "stderr",
     "output_type": "stream",
     "text": [
      " 80%|████████  | 4009/5000 [1:36:22<22:39,  1.37s/it]"
     ]
    },
    {
     "name": "stdout",
     "output_type": "stream",
     "text": [
      "output.shape=torch.Size([20, 2423, 8])\n",
      "targets.shape=torch.Size([20, 2423, 8])\n",
      "torch.Size([48460]) torch.Size([48460])\n",
      "12197\n",
      "stacked output.shape=torch.Size([48460, 8])\n",
      "targets.shape=torch.Size([48460, 8])\n",
      "12800\n"
     ]
    },
    {
     "name": "stderr",
     "output_type": "stream",
     "text": [
      " 80%|████████  | 4012/5000 [1:36:26<22:33,  1.37s/it]"
     ]
    },
    {
     "name": "stdout",
     "output_type": "stream",
     "text": [
      "output.shape=torch.Size([20, 2423, 8])\n",
      "targets.shape=torch.Size([20, 2423, 8])\n",
      "torch.Size([48460]) torch.Size([48460])\n",
      "12243\n",
      "stacked output.shape=torch.Size([48460, 8])\n",
      "targets.shape=torch.Size([48460, 8])\n",
      "12760\n"
     ]
    },
    {
     "name": "stderr",
     "output_type": "stream",
     "text": [
      " 80%|████████  | 4015/5000 [1:36:30<22:28,  1.37s/it]"
     ]
    },
    {
     "name": "stdout",
     "output_type": "stream",
     "text": [
      "output.shape=torch.Size([20, 2423, 8])\n",
      "targets.shape=torch.Size([20, 2423, 8])\n",
      "torch.Size([48460]) torch.Size([48460])\n",
      "12084\n",
      "stacked output.shape=torch.Size([48460, 8])\n",
      "targets.shape=torch.Size([48460, 8])\n",
      "12760\n"
     ]
    },
    {
     "name": "stderr",
     "output_type": "stream",
     "text": [
      " 80%|████████  | 4018/5000 [1:36:34<22:30,  1.38s/it]"
     ]
    },
    {
     "name": "stdout",
     "output_type": "stream",
     "text": [
      "output.shape=torch.Size([20, 2423, 8])\n",
      "targets.shape=torch.Size([20, 2423, 8])\n",
      "torch.Size([48460]) torch.Size([48460])\n",
      "12054\n",
      "stacked output.shape=torch.Size([48460, 8])\n",
      "targets.shape=torch.Size([48460, 8])\n",
      "12640\n"
     ]
    },
    {
     "name": "stderr",
     "output_type": "stream",
     "text": [
      " 80%|████████  | 4021/5000 [1:36:38<22:24,  1.37s/it]"
     ]
    },
    {
     "name": "stdout",
     "output_type": "stream",
     "text": [
      "output.shape=torch.Size([20, 2423, 8])\n",
      "targets.shape=torch.Size([20, 2423, 8])\n",
      "torch.Size([48460]) torch.Size([48460])\n",
      "12127\n",
      "stacked output.shape=torch.Size([48460, 8])\n",
      "targets.shape=torch.Size([48460, 8])\n",
      "12640\n"
     ]
    },
    {
     "name": "stderr",
     "output_type": "stream",
     "text": [
      " 80%|████████  | 4024/5000 [1:36:42<22:06,  1.36s/it]"
     ]
    },
    {
     "name": "stdout",
     "output_type": "stream",
     "text": [
      "output.shape=torch.Size([20, 2423, 8])\n",
      "targets.shape=torch.Size([20, 2423, 8])\n",
      "torch.Size([48460]) torch.Size([48460])\n",
      "12113\n",
      "stacked output.shape=torch.Size([48460, 8])\n",
      "targets.shape=torch.Size([48460, 8])\n",
      "12960\n"
     ]
    },
    {
     "name": "stderr",
     "output_type": "stream",
     "text": [
      " 81%|████████  | 4027/5000 [1:36:46<22:22,  1.38s/it]"
     ]
    },
    {
     "name": "stdout",
     "output_type": "stream",
     "text": [
      "output.shape=torch.Size([20, 2423, 8])\n",
      "targets.shape=torch.Size([20, 2423, 8])\n",
      "torch.Size([48460]) torch.Size([48460])\n",
      "12068\n",
      "stacked output.shape=torch.Size([48460, 8])\n",
      "targets.shape=torch.Size([48460, 8])\n",
      "12580\n"
     ]
    },
    {
     "name": "stderr",
     "output_type": "stream",
     "text": [
      " 81%|████████  | 4030/5000 [1:36:50<22:07,  1.37s/it]"
     ]
    },
    {
     "name": "stdout",
     "output_type": "stream",
     "text": [
      "output.shape=torch.Size([20, 2423, 8])\n",
      "targets.shape=torch.Size([20, 2423, 8])\n",
      "torch.Size([48460]) torch.Size([48460])\n",
      "12085\n",
      "stacked output.shape=torch.Size([48460, 8])\n",
      "targets.shape=torch.Size([48460, 8])\n",
      "12520\n"
     ]
    },
    {
     "name": "stderr",
     "output_type": "stream",
     "text": [
      " 81%|████████  | 4033/5000 [1:36:54<21:55,  1.36s/it]"
     ]
    },
    {
     "name": "stdout",
     "output_type": "stream",
     "text": [
      "output.shape=torch.Size([20, 2423, 8])\n",
      "targets.shape=torch.Size([20, 2423, 8])\n",
      "torch.Size([48460]) torch.Size([48460])\n",
      "12133\n",
      "stacked output.shape=torch.Size([48460, 8])\n",
      "targets.shape=torch.Size([48460, 8])\n",
      "12400\n"
     ]
    },
    {
     "name": "stderr",
     "output_type": "stream",
     "text": [
      " 81%|████████  | 4036/5000 [1:36:58<21:44,  1.35s/it]"
     ]
    },
    {
     "name": "stdout",
     "output_type": "stream",
     "text": [
      "output.shape=torch.Size([20, 2423, 8])\n",
      "targets.shape=torch.Size([20, 2423, 8])\n",
      "torch.Size([48460]) torch.Size([48460])\n",
      "12161\n",
      "stacked output.shape=torch.Size([48460, 8])\n",
      "targets.shape=torch.Size([48460, 8])\n",
      "12580\n"
     ]
    },
    {
     "name": "stderr",
     "output_type": "stream",
     "text": [
      " 81%|████████  | 4039/5000 [1:37:02<22:02,  1.38s/it]"
     ]
    },
    {
     "name": "stdout",
     "output_type": "stream",
     "text": [
      "output.shape=torch.Size([20, 2423, 8])\n",
      "targets.shape=torch.Size([20, 2423, 8])\n",
      "torch.Size([48460]) torch.Size([48460])\n",
      "12126\n",
      "stacked output.shape=torch.Size([48460, 8])\n",
      "targets.shape=torch.Size([48460, 8])\n",
      "12720\n"
     ]
    },
    {
     "name": "stderr",
     "output_type": "stream",
     "text": [
      " 81%|████████  | 4042/5000 [1:37:06<21:40,  1.36s/it]"
     ]
    },
    {
     "name": "stdout",
     "output_type": "stream",
     "text": [
      "output.shape=torch.Size([20, 2423, 8])\n",
      "targets.shape=torch.Size([20, 2423, 8])\n",
      "torch.Size([48460]) torch.Size([48460])\n",
      "12114\n",
      "stacked output.shape=torch.Size([48460, 8])\n",
      "targets.shape=torch.Size([48460, 8])\n",
      "12800\n"
     ]
    },
    {
     "name": "stderr",
     "output_type": "stream",
     "text": [
      " 81%|████████  | 4045/5000 [1:37:10<21:54,  1.38s/it]"
     ]
    },
    {
     "name": "stdout",
     "output_type": "stream",
     "text": [
      "output.shape=torch.Size([20, 2423, 8])\n",
      "targets.shape=torch.Size([20, 2423, 8])\n",
      "torch.Size([48460]) torch.Size([48460])\n",
      "12133\n",
      "stacked output.shape=torch.Size([48460, 8])\n",
      "targets.shape=torch.Size([48460, 8])\n",
      "12740\n"
     ]
    },
    {
     "name": "stderr",
     "output_type": "stream",
     "text": [
      " 81%|████████  | 4048/5000 [1:37:14<21:44,  1.37s/it]"
     ]
    },
    {
     "name": "stdout",
     "output_type": "stream",
     "text": [
      "output.shape=torch.Size([20, 2423, 8])\n",
      "targets.shape=torch.Size([20, 2423, 8])\n",
      "torch.Size([48460]) torch.Size([48460])\n",
      "12117\n",
      "stacked output.shape=torch.Size([48460, 8])\n",
      "targets.shape=torch.Size([48460, 8])\n",
      "12880\n"
     ]
    },
    {
     "name": "stderr",
     "output_type": "stream",
     "text": [
      " 81%|████████  | 4051/5000 [1:37:18<21:46,  1.38s/it]"
     ]
    },
    {
     "name": "stdout",
     "output_type": "stream",
     "text": [
      "output.shape=torch.Size([20, 2423, 8])\n",
      "targets.shape=torch.Size([20, 2423, 8])\n",
      "torch.Size([48460]) torch.Size([48460])\n",
      "12133\n",
      "stacked output.shape=torch.Size([48460, 8])\n",
      "targets.shape=torch.Size([48460, 8])\n",
      "12760\n"
     ]
    },
    {
     "name": "stderr",
     "output_type": "stream",
     "text": [
      " 81%|████████  | 4054/5000 [1:37:22<21:31,  1.37s/it]"
     ]
    },
    {
     "name": "stdout",
     "output_type": "stream",
     "text": [
      "output.shape=torch.Size([20, 2423, 8])\n",
      "targets.shape=torch.Size([20, 2423, 8])\n",
      "torch.Size([48460]) torch.Size([48460])\n",
      "12110\n",
      "stacked output.shape=torch.Size([48460, 8])\n",
      "targets.shape=torch.Size([48460, 8])\n",
      "12900\n"
     ]
    },
    {
     "name": "stderr",
     "output_type": "stream",
     "text": [
      " 81%|████████  | 4057/5000 [1:37:26<21:29,  1.37s/it]"
     ]
    },
    {
     "name": "stdout",
     "output_type": "stream",
     "text": [
      "output.shape=torch.Size([20, 2423, 8])\n",
      "targets.shape=torch.Size([20, 2423, 8])\n",
      "torch.Size([48460]) torch.Size([48460])\n",
      "12164\n",
      "stacked output.shape=torch.Size([48460, 8])\n",
      "targets.shape=torch.Size([48460, 8])\n",
      "12720\n"
     ]
    },
    {
     "name": "stderr",
     "output_type": "stream",
     "text": [
      " 81%|████████  | 4060/5000 [1:37:30<21:24,  1.37s/it]"
     ]
    },
    {
     "name": "stdout",
     "output_type": "stream",
     "text": [
      "output.shape=torch.Size([20, 2423, 8])\n",
      "targets.shape=torch.Size([20, 2423, 8])\n",
      "torch.Size([48460]) torch.Size([48460])\n",
      "12081\n",
      "stacked output.shape=torch.Size([48460, 8])\n",
      "targets.shape=torch.Size([48460, 8])\n",
      "12740\n"
     ]
    },
    {
     "name": "stderr",
     "output_type": "stream",
     "text": [
      " 81%|████████▏ | 4063/5000 [1:37:34<21:32,  1.38s/it]"
     ]
    },
    {
     "name": "stdout",
     "output_type": "stream",
     "text": [
      "output.shape=torch.Size([20, 2423, 8])\n",
      "targets.shape=torch.Size([20, 2423, 8])\n",
      "torch.Size([48460]) torch.Size([48460])\n",
      "12167\n",
      "stacked output.shape=torch.Size([48460, 8])\n",
      "targets.shape=torch.Size([48460, 8])\n",
      "12800\n"
     ]
    },
    {
     "name": "stderr",
     "output_type": "stream",
     "text": [
      " 81%|████████▏ | 4066/5000 [1:37:38<21:41,  1.39s/it]"
     ]
    },
    {
     "name": "stdout",
     "output_type": "stream",
     "text": [
      "output.shape=torch.Size([20, 2423, 8])\n",
      "targets.shape=torch.Size([20, 2423, 8])\n",
      "torch.Size([48460]) torch.Size([48460])\n",
      "12135\n",
      "stacked output.shape=torch.Size([48460, 8])\n",
      "targets.shape=torch.Size([48460, 8])\n",
      "12600\n"
     ]
    },
    {
     "name": "stderr",
     "output_type": "stream",
     "text": [
      " 81%|████████▏ | 4069/5000 [1:37:42<21:19,  1.37s/it]"
     ]
    },
    {
     "name": "stdout",
     "output_type": "stream",
     "text": [
      "output.shape=torch.Size([20, 2423, 8])\n",
      "targets.shape=torch.Size([20, 2423, 8])\n",
      "torch.Size([48460]) torch.Size([48460])\n",
      "12137\n",
      "stacked output.shape=torch.Size([48460, 8])\n",
      "targets.shape=torch.Size([48460, 8])\n",
      "12600\n"
     ]
    },
    {
     "name": "stderr",
     "output_type": "stream",
     "text": [
      " 81%|████████▏ | 4072/5000 [1:37:47<21:27,  1.39s/it]"
     ]
    },
    {
     "name": "stdout",
     "output_type": "stream",
     "text": [
      "output.shape=torch.Size([20, 2423, 8])\n",
      "targets.shape=torch.Size([20, 2423, 8])\n",
      "torch.Size([48460]) torch.Size([48460])\n",
      "12166\n",
      "stacked output.shape=torch.Size([48460, 8])\n",
      "targets.shape=torch.Size([48460, 8])\n",
      "12460\n"
     ]
    },
    {
     "name": "stderr",
     "output_type": "stream",
     "text": [
      " 82%|████████▏ | 4075/5000 [1:37:51<21:04,  1.37s/it]"
     ]
    },
    {
     "name": "stdout",
     "output_type": "stream",
     "text": [
      "output.shape=torch.Size([20, 2423, 8])\n",
      "targets.shape=torch.Size([20, 2423, 8])\n",
      "torch.Size([48460]) torch.Size([48460])\n",
      "12189\n",
      "stacked output.shape=torch.Size([48460, 8])\n",
      "targets.shape=torch.Size([48460, 8])\n",
      "12520\n"
     ]
    },
    {
     "name": "stderr",
     "output_type": "stream",
     "text": [
      " 82%|████████▏ | 4078/5000 [1:37:54<20:52,  1.36s/it]"
     ]
    },
    {
     "name": "stdout",
     "output_type": "stream",
     "text": [
      "output.shape=torch.Size([20, 2423, 8])\n",
      "targets.shape=torch.Size([20, 2423, 8])\n",
      "torch.Size([48460]) torch.Size([48460])\n",
      "12168\n",
      "stacked output.shape=torch.Size([48460, 8])\n",
      "targets.shape=torch.Size([48460, 8])\n",
      "12540\n"
     ]
    },
    {
     "name": "stderr",
     "output_type": "stream",
     "text": [
      " 82%|████████▏ | 4081/5000 [1:37:59<20:59,  1.37s/it]"
     ]
    },
    {
     "name": "stdout",
     "output_type": "stream",
     "text": [
      "output.shape=torch.Size([20, 2423, 8])\n",
      "targets.shape=torch.Size([20, 2423, 8])\n",
      "torch.Size([48460]) torch.Size([48460])\n",
      "12138\n",
      "stacked output.shape=torch.Size([48460, 8])\n",
      "targets.shape=torch.Size([48460, 8])\n",
      "12400\n"
     ]
    },
    {
     "name": "stderr",
     "output_type": "stream",
     "text": [
      " 82%|████████▏ | 4084/5000 [1:38:03<20:59,  1.37s/it]"
     ]
    },
    {
     "name": "stdout",
     "output_type": "stream",
     "text": [
      "output.shape=torch.Size([20, 2423, 8])\n",
      "targets.shape=torch.Size([20, 2423, 8])\n",
      "torch.Size([48460]) torch.Size([48460])\n",
      "12097\n",
      "stacked output.shape=torch.Size([48460, 8])\n",
      "targets.shape=torch.Size([48460, 8])\n",
      "12540\n"
     ]
    },
    {
     "name": "stderr",
     "output_type": "stream",
     "text": [
      " 82%|████████▏ | 4087/5000 [1:38:07<20:46,  1.36s/it]"
     ]
    },
    {
     "name": "stdout",
     "output_type": "stream",
     "text": [
      "output.shape=torch.Size([20, 2423, 8])\n",
      "targets.shape=torch.Size([20, 2423, 8])\n",
      "torch.Size([48460]) torch.Size([48460])\n",
      "12157\n",
      "stacked output.shape=torch.Size([48460, 8])\n",
      "targets.shape=torch.Size([48460, 8])\n",
      "12780\n"
     ]
    },
    {
     "name": "stderr",
     "output_type": "stream",
     "text": [
      " 82%|████████▏ | 4090/5000 [1:38:11<20:42,  1.37s/it]"
     ]
    },
    {
     "name": "stdout",
     "output_type": "stream",
     "text": [
      "output.shape=torch.Size([20, 2423, 8])\n",
      "targets.shape=torch.Size([20, 2423, 8])\n",
      "torch.Size([48460]) torch.Size([48460])\n",
      "12180\n",
      "stacked output.shape=torch.Size([48460, 8])\n",
      "targets.shape=torch.Size([48460, 8])\n",
      "12700\n"
     ]
    },
    {
     "name": "stderr",
     "output_type": "stream",
     "text": [
      " 82%|████████▏ | 4093/5000 [1:38:15<20:53,  1.38s/it]"
     ]
    },
    {
     "name": "stdout",
     "output_type": "stream",
     "text": [
      "output.shape=torch.Size([20, 2423, 8])\n",
      "targets.shape=torch.Size([20, 2423, 8])\n",
      "torch.Size([48460]) torch.Size([48460])\n",
      "12182\n",
      "stacked output.shape=torch.Size([48460, 8])\n",
      "targets.shape=torch.Size([48460, 8])\n",
      "12820\n"
     ]
    },
    {
     "name": "stderr",
     "output_type": "stream",
     "text": [
      " 82%|████████▏ | 4096/5000 [1:38:19<20:35,  1.37s/it]"
     ]
    },
    {
     "name": "stdout",
     "output_type": "stream",
     "text": [
      "output.shape=torch.Size([20, 2423, 8])\n",
      "targets.shape=torch.Size([20, 2423, 8])\n",
      "torch.Size([48460]) torch.Size([48460])\n",
      "12158\n",
      "stacked output.shape=torch.Size([48460, 8])\n",
      "targets.shape=torch.Size([48460, 8])\n",
      "12460\n"
     ]
    },
    {
     "name": "stderr",
     "output_type": "stream",
     "text": [
      " 82%|████████▏ | 4099/5000 [1:38:23<20:27,  1.36s/it]"
     ]
    },
    {
     "name": "stdout",
     "output_type": "stream",
     "text": [
      "output.shape=torch.Size([20, 2423, 8])\n",
      "targets.shape=torch.Size([20, 2423, 8])\n",
      "torch.Size([48460]) torch.Size([48460])\n",
      "12150\n",
      "stacked output.shape=torch.Size([48460, 8])\n",
      "targets.shape=torch.Size([48460, 8])\n",
      "12660\n"
     ]
    },
    {
     "name": "stderr",
     "output_type": "stream",
     "text": [
      " 82%|████████▏ | 4102/5000 [1:38:27<20:25,  1.36s/it]"
     ]
    },
    {
     "name": "stdout",
     "output_type": "stream",
     "text": [
      "output.shape=torch.Size([20, 2423, 8])\n",
      "targets.shape=torch.Size([20, 2423, 8])\n",
      "torch.Size([48460]) torch.Size([48460])\n",
      "12099\n",
      "stacked output.shape=torch.Size([48460, 8])\n",
      "targets.shape=torch.Size([48460, 8])\n",
      "12540\n"
     ]
    },
    {
     "name": "stderr",
     "output_type": "stream",
     "text": [
      " 82%|████████▏ | 4105/5000 [1:38:31<20:17,  1.36s/it]"
     ]
    },
    {
     "name": "stdout",
     "output_type": "stream",
     "text": [
      "output.shape=torch.Size([20, 2423, 8])\n",
      "targets.shape=torch.Size([20, 2423, 8])\n",
      "torch.Size([48460]) torch.Size([48460])\n",
      "12160\n",
      "stacked output.shape=torch.Size([48460, 8])\n",
      "targets.shape=torch.Size([48460, 8])\n",
      "12440\n"
     ]
    },
    {
     "name": "stderr",
     "output_type": "stream",
     "text": [
      " 82%|████████▏ | 4108/5000 [1:38:35<20:24,  1.37s/it]"
     ]
    },
    {
     "name": "stdout",
     "output_type": "stream",
     "text": [
      "output.shape=torch.Size([20, 2423, 8])\n",
      "targets.shape=torch.Size([20, 2423, 8])\n",
      "torch.Size([48460]) torch.Size([48460])\n",
      "12184\n",
      "stacked output.shape=torch.Size([48460, 8])\n",
      "targets.shape=torch.Size([48460, 8])\n",
      "12540\n"
     ]
    },
    {
     "name": "stderr",
     "output_type": "stream",
     "text": [
      " 82%|████████▏ | 4111/5000 [1:38:39<20:13,  1.36s/it]"
     ]
    },
    {
     "name": "stdout",
     "output_type": "stream",
     "text": [
      "output.shape=torch.Size([20, 2423, 8])\n",
      "targets.shape=torch.Size([20, 2423, 8])\n",
      "torch.Size([48460]) torch.Size([48460])\n",
      "12214\n",
      "stacked output.shape=torch.Size([48460, 8])\n",
      "targets.shape=torch.Size([48460, 8])\n",
      "12680\n"
     ]
    },
    {
     "name": "stderr",
     "output_type": "stream",
     "text": [
      " 82%|████████▏ | 4114/5000 [1:38:43<20:12,  1.37s/it]"
     ]
    },
    {
     "name": "stdout",
     "output_type": "stream",
     "text": [
      "output.shape=torch.Size([20, 2423, 8])\n",
      "targets.shape=torch.Size([20, 2423, 8])\n",
      "torch.Size([48460]) torch.Size([48460])\n",
      "12209\n",
      "stacked output.shape=torch.Size([48460, 8])\n",
      "targets.shape=torch.Size([48460, 8])\n",
      "12440\n"
     ]
    },
    {
     "name": "stderr",
     "output_type": "stream",
     "text": [
      " 82%|████████▏ | 4117/5000 [1:38:47<20:51,  1.42s/it]"
     ]
    },
    {
     "name": "stdout",
     "output_type": "stream",
     "text": [
      "output.shape=torch.Size([20, 2423, 8])\n",
      "targets.shape=torch.Size([20, 2423, 8])\n",
      "torch.Size([48460]) torch.Size([48460])\n",
      "12184\n",
      "stacked output.shape=torch.Size([48460, 8])\n",
      "targets.shape=torch.Size([48460, 8])\n",
      "12740\n"
     ]
    },
    {
     "name": "stderr",
     "output_type": "stream",
     "text": [
      " 82%|████████▏ | 4120/5000 [1:38:51<20:08,  1.37s/it]"
     ]
    },
    {
     "name": "stdout",
     "output_type": "stream",
     "text": [
      "output.shape=torch.Size([20, 2423, 8])\n",
      "targets.shape=torch.Size([20, 2423, 8])\n",
      "torch.Size([48460]) torch.Size([48460])\n",
      "12191\n",
      "stacked output.shape=torch.Size([48460, 8])\n",
      "targets.shape=torch.Size([48460, 8])\n",
      "12660\n"
     ]
    },
    {
     "name": "stderr",
     "output_type": "stream",
     "text": [
      " 82%|████████▏ | 4123/5000 [1:38:55<20:00,  1.37s/it]"
     ]
    },
    {
     "name": "stdout",
     "output_type": "stream",
     "text": [
      "output.shape=torch.Size([20, 2423, 8])\n",
      "targets.shape=torch.Size([20, 2423, 8])\n",
      "torch.Size([48460]) torch.Size([48460])\n",
      "12241\n",
      "stacked output.shape=torch.Size([48460, 8])\n",
      "targets.shape=torch.Size([48460, 8])\n",
      "12800\n"
     ]
    },
    {
     "name": "stderr",
     "output_type": "stream",
     "text": [
      " 83%|████████▎ | 4126/5000 [1:38:59<19:46,  1.36s/it]"
     ]
    },
    {
     "name": "stdout",
     "output_type": "stream",
     "text": [
      "output.shape=torch.Size([20, 2423, 8])\n",
      "targets.shape=torch.Size([20, 2423, 8])\n",
      "torch.Size([48460]) torch.Size([48460])\n",
      "12126\n",
      "stacked output.shape=torch.Size([48460, 8])\n",
      "targets.shape=torch.Size([48460, 8])\n",
      "12760\n"
     ]
    },
    {
     "name": "stderr",
     "output_type": "stream",
     "text": [
      " 83%|████████▎ | 4129/5000 [1:39:03<20:35,  1.42s/it]"
     ]
    },
    {
     "name": "stdout",
     "output_type": "stream",
     "text": [
      "output.shape=torch.Size([20, 2423, 8])\n",
      "targets.shape=torch.Size([20, 2423, 8])\n",
      "torch.Size([48460]) torch.Size([48460])\n",
      "12106\n",
      "stacked output.shape=torch.Size([48460, 8])\n",
      "targets.shape=torch.Size([48460, 8])\n",
      "12640\n"
     ]
    },
    {
     "name": "stderr",
     "output_type": "stream",
     "text": [
      " 83%|████████▎ | 4132/5000 [1:39:07<19:46,  1.37s/it]"
     ]
    },
    {
     "name": "stdout",
     "output_type": "stream",
     "text": [
      "output.shape=torch.Size([20, 2423, 8])\n",
      "targets.shape=torch.Size([20, 2423, 8])\n",
      "torch.Size([48460]) torch.Size([48460])\n",
      "12152\n",
      "stacked output.shape=torch.Size([48460, 8])\n",
      "targets.shape=torch.Size([48460, 8])\n",
      "12720\n"
     ]
    },
    {
     "name": "stderr",
     "output_type": "stream",
     "text": [
      " 83%|████████▎ | 4135/5000 [1:39:11<19:34,  1.36s/it]"
     ]
    },
    {
     "name": "stdout",
     "output_type": "stream",
     "text": [
      "output.shape=torch.Size([20, 2423, 8])\n",
      "targets.shape=torch.Size([20, 2423, 8])\n",
      "torch.Size([48460]) torch.Size([48460])\n",
      "12127\n",
      "stacked output.shape=torch.Size([48460, 8])\n",
      "targets.shape=torch.Size([48460, 8])\n",
      "12580\n"
     ]
    },
    {
     "name": "stderr",
     "output_type": "stream",
     "text": [
      " 83%|████████▎ | 4138/5000 [1:39:15<19:47,  1.38s/it]"
     ]
    },
    {
     "name": "stdout",
     "output_type": "stream",
     "text": [
      "output.shape=torch.Size([20, 2423, 8])\n",
      "targets.shape=torch.Size([20, 2423, 8])\n",
      "torch.Size([48460]) torch.Size([48460])\n",
      "12222\n",
      "stacked output.shape=torch.Size([48460, 8])\n",
      "targets.shape=torch.Size([48460, 8])\n",
      "12820\n"
     ]
    },
    {
     "name": "stderr",
     "output_type": "stream",
     "text": [
      " 83%|████████▎ | 4141/5000 [1:39:19<19:56,  1.39s/it]"
     ]
    },
    {
     "name": "stdout",
     "output_type": "stream",
     "text": [
      "output.shape=torch.Size([20, 2423, 8])\n",
      "targets.shape=torch.Size([20, 2423, 8])\n",
      "torch.Size([48460]) torch.Size([48460])\n",
      "12165\n",
      "stacked output.shape=torch.Size([48460, 8])\n",
      "targets.shape=torch.Size([48460, 8])\n",
      "12700\n"
     ]
    },
    {
     "name": "stderr",
     "output_type": "stream",
     "text": [
      " 83%|████████▎ | 4144/5000 [1:39:23<19:29,  1.37s/it]"
     ]
    },
    {
     "name": "stdout",
     "output_type": "stream",
     "text": [
      "output.shape=torch.Size([20, 2423, 8])\n",
      "targets.shape=torch.Size([20, 2423, 8])\n",
      "torch.Size([48460]) torch.Size([48460])\n",
      "12157\n",
      "stacked output.shape=torch.Size([48460, 8])\n",
      "targets.shape=torch.Size([48460, 8])\n",
      "12760\n"
     ]
    },
    {
     "name": "stderr",
     "output_type": "stream",
     "text": [
      " 83%|████████▎ | 4147/5000 [1:39:27<19:24,  1.37s/it]"
     ]
    },
    {
     "name": "stdout",
     "output_type": "stream",
     "text": [
      "output.shape=torch.Size([20, 2423, 8])\n",
      "targets.shape=torch.Size([20, 2423, 8])\n",
      "torch.Size([48460]) torch.Size([48460])\n",
      "12158\n",
      "stacked output.shape=torch.Size([48460, 8])\n",
      "targets.shape=torch.Size([48460, 8])\n",
      "13060\n"
     ]
    },
    {
     "name": "stderr",
     "output_type": "stream",
     "text": [
      " 83%|████████▎ | 4150/5000 [1:39:31<19:23,  1.37s/it]"
     ]
    },
    {
     "name": "stdout",
     "output_type": "stream",
     "text": [
      "output.shape=torch.Size([20, 2423, 8])\n",
      "targets.shape=torch.Size([20, 2423, 8])\n",
      "torch.Size([48460]) torch.Size([48460])\n",
      "12116\n",
      "stacked output.shape=torch.Size([48460, 8])\n",
      "targets.shape=torch.Size([48460, 8])\n",
      "12780\n"
     ]
    },
    {
     "name": "stderr",
     "output_type": "stream",
     "text": [
      " 83%|████████▎ | 4153/5000 [1:39:35<19:24,  1.37s/it]"
     ]
    },
    {
     "name": "stdout",
     "output_type": "stream",
     "text": [
      "output.shape=torch.Size([20, 2423, 8])\n",
      "targets.shape=torch.Size([20, 2423, 8])\n",
      "torch.Size([48460]) torch.Size([48460])\n",
      "12104\n",
      "stacked output.shape=torch.Size([48460, 8])\n",
      "targets.shape=torch.Size([48460, 8])\n",
      "12640\n"
     ]
    },
    {
     "name": "stderr",
     "output_type": "stream",
     "text": [
      " 83%|████████▎ | 4156/5000 [1:39:40<21:02,  1.50s/it]"
     ]
    },
    {
     "name": "stdout",
     "output_type": "stream",
     "text": [
      "output.shape=torch.Size([20, 2423, 8])\n",
      "targets.shape=torch.Size([20, 2423, 8])\n",
      "torch.Size([48460]) torch.Size([48460])\n",
      "12132\n",
      "stacked output.shape=torch.Size([48460, 8])\n",
      "targets.shape=torch.Size([48460, 8])\n",
      "12800\n"
     ]
    },
    {
     "name": "stderr",
     "output_type": "stream",
     "text": [
      " 83%|████████▎ | 4159/5000 [1:39:44<20:19,  1.45s/it]"
     ]
    },
    {
     "name": "stdout",
     "output_type": "stream",
     "text": [
      "output.shape=torch.Size([20, 2423, 8])\n",
      "targets.shape=torch.Size([20, 2423, 8])\n",
      "torch.Size([48460]) torch.Size([48460])\n",
      "12112\n",
      "stacked output.shape=torch.Size([48460, 8])\n",
      "targets.shape=torch.Size([48460, 8])\n",
      "12800\n"
     ]
    },
    {
     "name": "stderr",
     "output_type": "stream",
     "text": [
      " 83%|████████▎ | 4162/5000 [1:39:48<19:37,  1.41s/it]"
     ]
    },
    {
     "name": "stdout",
     "output_type": "stream",
     "text": [
      "output.shape=torch.Size([20, 2423, 8])\n",
      "targets.shape=torch.Size([20, 2423, 8])\n",
      "torch.Size([48460]) torch.Size([48460])\n",
      "12107\n",
      "stacked output.shape=torch.Size([48460, 8])\n",
      "targets.shape=torch.Size([48460, 8])\n",
      "12860\n"
     ]
    },
    {
     "name": "stderr",
     "output_type": "stream",
     "text": [
      " 83%|████████▎ | 4165/5000 [1:39:52<19:08,  1.38s/it]"
     ]
    },
    {
     "name": "stdout",
     "output_type": "stream",
     "text": [
      "output.shape=torch.Size([20, 2423, 8])\n",
      "targets.shape=torch.Size([20, 2423, 8])\n",
      "torch.Size([48460]) torch.Size([48460])\n",
      "12088\n",
      "stacked output.shape=torch.Size([48460, 8])\n",
      "targets.shape=torch.Size([48460, 8])\n",
      "12840\n"
     ]
    },
    {
     "name": "stderr",
     "output_type": "stream",
     "text": [
      " 83%|████████▎ | 4168/5000 [1:39:56<19:04,  1.38s/it]"
     ]
    },
    {
     "name": "stdout",
     "output_type": "stream",
     "text": [
      "output.shape=torch.Size([20, 2423, 8])\n",
      "targets.shape=torch.Size([20, 2423, 8])\n",
      "torch.Size([48460]) torch.Size([48460])\n",
      "12153\n",
      "stacked output.shape=torch.Size([48460, 8])\n",
      "targets.shape=torch.Size([48460, 8])\n",
      "12720\n"
     ]
    },
    {
     "name": "stderr",
     "output_type": "stream",
     "text": [
      " 83%|████████▎ | 4171/5000 [1:40:00<19:11,  1.39s/it]"
     ]
    },
    {
     "name": "stdout",
     "output_type": "stream",
     "text": [
      "output.shape=torch.Size([20, 2423, 8])\n",
      "targets.shape=torch.Size([20, 2423, 8])\n",
      "torch.Size([48460]) torch.Size([48460])\n",
      "12173\n",
      "stacked output.shape=torch.Size([48460, 8])\n",
      "targets.shape=torch.Size([48460, 8])\n",
      "12840\n"
     ]
    },
    {
     "name": "stderr",
     "output_type": "stream",
     "text": [
      " 83%|████████▎ | 4174/5000 [1:40:04<18:49,  1.37s/it]"
     ]
    },
    {
     "name": "stdout",
     "output_type": "stream",
     "text": [
      "output.shape=torch.Size([20, 2423, 8])\n",
      "targets.shape=torch.Size([20, 2423, 8])\n",
      "torch.Size([48460]) torch.Size([48460])\n",
      "12216\n",
      "stacked output.shape=torch.Size([48460, 8])\n",
      "targets.shape=torch.Size([48460, 8])\n",
      "12700\n"
     ]
    },
    {
     "name": "stderr",
     "output_type": "stream",
     "text": [
      " 84%|████████▎ | 4177/5000 [1:40:08<18:50,  1.37s/it]"
     ]
    },
    {
     "name": "stdout",
     "output_type": "stream",
     "text": [
      "output.shape=torch.Size([20, 2423, 8])\n",
      "targets.shape=torch.Size([20, 2423, 8])\n",
      "torch.Size([48460]) torch.Size([48460])\n",
      "12222\n",
      "stacked output.shape=torch.Size([48460, 8])\n",
      "targets.shape=torch.Size([48460, 8])\n",
      "12700\n"
     ]
    },
    {
     "name": "stderr",
     "output_type": "stream",
     "text": [
      " 84%|████████▎ | 4180/5000 [1:40:12<18:52,  1.38s/it]"
     ]
    },
    {
     "name": "stdout",
     "output_type": "stream",
     "text": [
      "output.shape=torch.Size([20, 2423, 8])\n",
      "targets.shape=torch.Size([20, 2423, 8])\n",
      "torch.Size([48460]) torch.Size([48460])\n",
      "12198\n",
      "stacked output.shape=torch.Size([48460, 8])\n",
      "targets.shape=torch.Size([48460, 8])\n",
      "13000\n"
     ]
    },
    {
     "name": "stderr",
     "output_type": "stream",
     "text": [
      " 84%|████████▎ | 4183/5000 [1:40:16<18:51,  1.38s/it]"
     ]
    },
    {
     "name": "stdout",
     "output_type": "stream",
     "text": [
      "output.shape=torch.Size([20, 2423, 8])\n",
      "targets.shape=torch.Size([20, 2423, 8])\n",
      "torch.Size([48460]) torch.Size([48460])\n",
      "12194\n",
      "stacked output.shape=torch.Size([48460, 8])\n",
      "targets.shape=torch.Size([48460, 8])\n",
      "12660\n"
     ]
    },
    {
     "name": "stderr",
     "output_type": "stream",
     "text": [
      " 84%|████████▎ | 4186/5000 [1:40:20<18:33,  1.37s/it]"
     ]
    },
    {
     "name": "stdout",
     "output_type": "stream",
     "text": [
      "output.shape=torch.Size([20, 2423, 8])\n",
      "targets.shape=torch.Size([20, 2423, 8])\n",
      "torch.Size([48460]) torch.Size([48460])\n",
      "12162\n",
      "stacked output.shape=torch.Size([48460, 8])\n",
      "targets.shape=torch.Size([48460, 8])\n",
      "12720\n"
     ]
    },
    {
     "name": "stderr",
     "output_type": "stream",
     "text": [
      " 84%|████████▍ | 4189/5000 [1:40:24<18:21,  1.36s/it]"
     ]
    },
    {
     "name": "stdout",
     "output_type": "stream",
     "text": [
      "output.shape=torch.Size([20, 2423, 8])\n",
      "targets.shape=torch.Size([20, 2423, 8])\n",
      "torch.Size([48460]) torch.Size([48460])\n",
      "12166\n",
      "stacked output.shape=torch.Size([48460, 8])\n",
      "targets.shape=torch.Size([48460, 8])\n",
      "12640\n"
     ]
    },
    {
     "name": "stderr",
     "output_type": "stream",
     "text": [
      " 84%|████████▍ | 4192/5000 [1:40:28<18:25,  1.37s/it]"
     ]
    },
    {
     "name": "stdout",
     "output_type": "stream",
     "text": [
      "output.shape=torch.Size([20, 2423, 8])\n",
      "targets.shape=torch.Size([20, 2423, 8])\n",
      "torch.Size([48460]) torch.Size([48460])\n",
      "12162\n",
      "stacked output.shape=torch.Size([48460, 8])\n",
      "targets.shape=torch.Size([48460, 8])\n",
      "12800\n"
     ]
    },
    {
     "name": "stderr",
     "output_type": "stream",
     "text": [
      " 84%|████████▍ | 4195/5000 [1:40:32<18:26,  1.37s/it]"
     ]
    },
    {
     "name": "stdout",
     "output_type": "stream",
     "text": [
      "output.shape=torch.Size([20, 2423, 8])\n",
      "targets.shape=torch.Size([20, 2423, 8])\n",
      "torch.Size([48460]) torch.Size([48460])\n",
      "12186\n",
      "stacked output.shape=torch.Size([48460, 8])\n",
      "targets.shape=torch.Size([48460, 8])\n",
      "12820\n"
     ]
    },
    {
     "name": "stderr",
     "output_type": "stream",
     "text": [
      " 84%|████████▍ | 4198/5000 [1:40:37<18:46,  1.40s/it]"
     ]
    },
    {
     "name": "stdout",
     "output_type": "stream",
     "text": [
      "output.shape=torch.Size([20, 2423, 8])\n",
      "targets.shape=torch.Size([20, 2423, 8])\n",
      "torch.Size([48460]) torch.Size([48460])\n",
      "12226\n",
      "stacked output.shape=torch.Size([48460, 8])\n",
      "targets.shape=torch.Size([48460, 8])\n",
      "12780\n"
     ]
    },
    {
     "name": "stderr",
     "output_type": "stream",
     "text": [
      " 84%|████████▍ | 4201/5000 [1:40:41<18:25,  1.38s/it]"
     ]
    },
    {
     "name": "stdout",
     "output_type": "stream",
     "text": [
      "output.shape=torch.Size([20, 2423, 8])\n",
      "targets.shape=torch.Size([20, 2423, 8])\n",
      "torch.Size([48460]) torch.Size([48460])\n",
      "12218\n",
      "stacked output.shape=torch.Size([48460, 8])\n",
      "targets.shape=torch.Size([48460, 8])\n",
      "12840\n"
     ]
    },
    {
     "name": "stderr",
     "output_type": "stream",
     "text": [
      " 84%|████████▍ | 4204/5000 [1:40:45<18:32,  1.40s/it]"
     ]
    },
    {
     "name": "stdout",
     "output_type": "stream",
     "text": [
      "output.shape=torch.Size([20, 2423, 8])\n",
      "targets.shape=torch.Size([20, 2423, 8])\n",
      "torch.Size([48460]) torch.Size([48460])\n",
      "12132\n",
      "stacked output.shape=torch.Size([48460, 8])\n",
      "targets.shape=torch.Size([48460, 8])\n",
      "12840\n"
     ]
    },
    {
     "name": "stderr",
     "output_type": "stream",
     "text": [
      " 84%|████████▍ | 4207/5000 [1:40:49<18:22,  1.39s/it]"
     ]
    },
    {
     "name": "stdout",
     "output_type": "stream",
     "text": [
      "output.shape=torch.Size([20, 2423, 8])\n",
      "targets.shape=torch.Size([20, 2423, 8])\n",
      "torch.Size([48460]) torch.Size([48460])\n",
      "12151\n",
      "stacked output.shape=torch.Size([48460, 8])\n",
      "targets.shape=torch.Size([48460, 8])\n",
      "12800\n"
     ]
    },
    {
     "name": "stderr",
     "output_type": "stream",
     "text": [
      " 84%|████████▍ | 4210/5000 [1:40:53<18:07,  1.38s/it]"
     ]
    },
    {
     "name": "stdout",
     "output_type": "stream",
     "text": [
      "output.shape=torch.Size([20, 2423, 8])\n",
      "targets.shape=torch.Size([20, 2423, 8])\n",
      "torch.Size([48460]) torch.Size([48460])\n",
      "12172\n",
      "stacked output.shape=torch.Size([48460, 8])\n",
      "targets.shape=torch.Size([48460, 8])\n",
      "12600\n"
     ]
    },
    {
     "name": "stderr",
     "output_type": "stream",
     "text": [
      " 84%|████████▍ | 4213/5000 [1:40:57<17:48,  1.36s/it]"
     ]
    },
    {
     "name": "stdout",
     "output_type": "stream",
     "text": [
      "output.shape=torch.Size([20, 2423, 8])\n",
      "targets.shape=torch.Size([20, 2423, 8])\n",
      "torch.Size([48460]) torch.Size([48460])\n",
      "12170\n",
      "stacked output.shape=torch.Size([48460, 8])\n",
      "targets.shape=torch.Size([48460, 8])\n",
      "12780\n"
     ]
    },
    {
     "name": "stderr",
     "output_type": "stream",
     "text": [
      " 84%|████████▍ | 4216/5000 [1:41:01<17:59,  1.38s/it]"
     ]
    },
    {
     "name": "stdout",
     "output_type": "stream",
     "text": [
      "output.shape=torch.Size([20, 2423, 8])\n",
      "targets.shape=torch.Size([20, 2423, 8])\n",
      "torch.Size([48460]) torch.Size([48460])\n",
      "12134\n",
      "stacked output.shape=torch.Size([48460, 8])\n",
      "targets.shape=torch.Size([48460, 8])\n",
      "12420\n"
     ]
    },
    {
     "name": "stderr",
     "output_type": "stream",
     "text": [
      " 84%|████████▍ | 4219/5000 [1:41:05<17:51,  1.37s/it]"
     ]
    },
    {
     "name": "stdout",
     "output_type": "stream",
     "text": [
      "output.shape=torch.Size([20, 2423, 8])\n",
      "targets.shape=torch.Size([20, 2423, 8])\n",
      "torch.Size([48460]) torch.Size([48460])\n",
      "12147\n",
      "stacked output.shape=torch.Size([48460, 8])\n",
      "targets.shape=torch.Size([48460, 8])\n",
      "12480\n"
     ]
    },
    {
     "name": "stderr",
     "output_type": "stream",
     "text": [
      " 84%|████████▍ | 4222/5000 [1:41:09<17:49,  1.37s/it]"
     ]
    },
    {
     "name": "stdout",
     "output_type": "stream",
     "text": [
      "output.shape=torch.Size([20, 2423, 8])\n",
      "targets.shape=torch.Size([20, 2423, 8])\n",
      "torch.Size([48460]) torch.Size([48460])\n",
      "12249\n",
      "stacked output.shape=torch.Size([48460, 8])\n",
      "targets.shape=torch.Size([48460, 8])\n",
      "12640\n"
     ]
    },
    {
     "name": "stderr",
     "output_type": "stream",
     "text": [
      " 84%|████████▍ | 4225/5000 [1:41:13<17:38,  1.37s/it]"
     ]
    },
    {
     "name": "stdout",
     "output_type": "stream",
     "text": [
      "output.shape=torch.Size([20, 2423, 8])\n",
      "targets.shape=torch.Size([20, 2423, 8])\n",
      "torch.Size([48460]) torch.Size([48460])\n",
      "12216\n",
      "stacked output.shape=torch.Size([48460, 8])\n",
      "targets.shape=torch.Size([48460, 8])\n",
      "12460\n"
     ]
    },
    {
     "name": "stderr",
     "output_type": "stream",
     "text": [
      " 85%|████████▍ | 4228/5000 [1:41:17<17:27,  1.36s/it]"
     ]
    },
    {
     "name": "stdout",
     "output_type": "stream",
     "text": [
      "output.shape=torch.Size([20, 2423, 8])\n",
      "targets.shape=torch.Size([20, 2423, 8])\n",
      "torch.Size([48460]) torch.Size([48460])\n",
      "12222\n",
      "stacked output.shape=torch.Size([48460, 8])\n",
      "targets.shape=torch.Size([48460, 8])\n",
      "12460\n"
     ]
    },
    {
     "name": "stderr",
     "output_type": "stream",
     "text": [
      " 85%|████████▍ | 4231/5000 [1:41:21<17:24,  1.36s/it]"
     ]
    },
    {
     "name": "stdout",
     "output_type": "stream",
     "text": [
      "output.shape=torch.Size([20, 2423, 8])\n",
      "targets.shape=torch.Size([20, 2423, 8])\n",
      "torch.Size([48460]) torch.Size([48460])\n",
      "12180\n",
      "stacked output.shape=torch.Size([48460, 8])\n",
      "targets.shape=torch.Size([48460, 8])\n",
      "12580\n"
     ]
    },
    {
     "name": "stderr",
     "output_type": "stream",
     "text": [
      " 85%|████████▍ | 4234/5000 [1:41:25<17:24,  1.36s/it]"
     ]
    },
    {
     "name": "stdout",
     "output_type": "stream",
     "text": [
      "output.shape=torch.Size([20, 2423, 8])\n",
      "targets.shape=torch.Size([20, 2423, 8])\n",
      "torch.Size([48460]) torch.Size([48460])\n",
      "12182\n",
      "stacked output.shape=torch.Size([48460, 8])\n",
      "targets.shape=torch.Size([48460, 8])\n",
      "12360\n"
     ]
    },
    {
     "name": "stderr",
     "output_type": "stream",
     "text": [
      " 85%|████████▍ | 4237/5000 [1:41:29<17:18,  1.36s/it]"
     ]
    },
    {
     "name": "stdout",
     "output_type": "stream",
     "text": [
      "output.shape=torch.Size([20, 2423, 8])\n",
      "targets.shape=torch.Size([20, 2423, 8])\n",
      "torch.Size([48460]) torch.Size([48460])\n",
      "12165\n",
      "stacked output.shape=torch.Size([48460, 8])\n",
      "targets.shape=torch.Size([48460, 8])\n",
      "12540\n"
     ]
    },
    {
     "name": "stderr",
     "output_type": "stream",
     "text": [
      " 85%|████████▍ | 4240/5000 [1:41:33<17:09,  1.35s/it]"
     ]
    },
    {
     "name": "stdout",
     "output_type": "stream",
     "text": [
      "output.shape=torch.Size([20, 2423, 8])\n",
      "targets.shape=torch.Size([20, 2423, 8])\n",
      "torch.Size([48460]) torch.Size([48460])\n",
      "12143\n",
      "stacked output.shape=torch.Size([48460, 8])\n",
      "targets.shape=torch.Size([48460, 8])\n",
      "12700\n"
     ]
    },
    {
     "name": "stderr",
     "output_type": "stream",
     "text": [
      " 85%|████████▍ | 4243/5000 [1:41:37<17:08,  1.36s/it]"
     ]
    },
    {
     "name": "stdout",
     "output_type": "stream",
     "text": [
      "output.shape=torch.Size([20, 2423, 8])\n",
      "targets.shape=torch.Size([20, 2423, 8])\n",
      "torch.Size([48460]) torch.Size([48460])\n",
      "12192\n",
      "stacked output.shape=torch.Size([48460, 8])\n",
      "targets.shape=torch.Size([48460, 8])\n",
      "12520\n"
     ]
    },
    {
     "name": "stderr",
     "output_type": "stream",
     "text": [
      " 85%|████████▍ | 4246/5000 [1:41:41<17:04,  1.36s/it]"
     ]
    },
    {
     "name": "stdout",
     "output_type": "stream",
     "text": [
      "output.shape=torch.Size([20, 2423, 8])\n",
      "targets.shape=torch.Size([20, 2423, 8])\n",
      "torch.Size([48460]) torch.Size([48460])\n",
      "12113\n",
      "stacked output.shape=torch.Size([48460, 8])\n",
      "targets.shape=torch.Size([48460, 8])\n",
      "12640\n"
     ]
    },
    {
     "name": "stderr",
     "output_type": "stream",
     "text": [
      " 85%|████████▍ | 4249/5000 [1:41:45<17:14,  1.38s/it]"
     ]
    },
    {
     "name": "stdout",
     "output_type": "stream",
     "text": [
      "output.shape=torch.Size([20, 2423, 8])\n",
      "targets.shape=torch.Size([20, 2423, 8])\n",
      "torch.Size([48460]) torch.Size([48460])\n",
      "12134\n",
      "stacked output.shape=torch.Size([48460, 8])\n",
      "targets.shape=torch.Size([48460, 8])\n",
      "12800\n"
     ]
    },
    {
     "name": "stderr",
     "output_type": "stream",
     "text": [
      " 85%|████████▌ | 4252/5000 [1:41:49<17:05,  1.37s/it]"
     ]
    },
    {
     "name": "stdout",
     "output_type": "stream",
     "text": [
      "output.shape=torch.Size([20, 2423, 8])\n",
      "targets.shape=torch.Size([20, 2423, 8])\n",
      "torch.Size([48460]) torch.Size([48460])\n",
      "12216\n",
      "stacked output.shape=torch.Size([48460, 8])\n",
      "targets.shape=torch.Size([48460, 8])\n",
      "12760\n"
     ]
    },
    {
     "name": "stderr",
     "output_type": "stream",
     "text": [
      " 85%|████████▌ | 4255/5000 [1:41:53<16:58,  1.37s/it]"
     ]
    },
    {
     "name": "stdout",
     "output_type": "stream",
     "text": [
      "output.shape=torch.Size([20, 2423, 8])\n",
      "targets.shape=torch.Size([20, 2423, 8])\n",
      "torch.Size([48460]) torch.Size([48460])\n",
      "12147\n",
      "stacked output.shape=torch.Size([48460, 8])\n",
      "targets.shape=torch.Size([48460, 8])\n",
      "12700\n"
     ]
    },
    {
     "name": "stderr",
     "output_type": "stream",
     "text": [
      " 85%|████████▌ | 4258/5000 [1:41:57<16:40,  1.35s/it]"
     ]
    },
    {
     "name": "stdout",
     "output_type": "stream",
     "text": [
      "output.shape=torch.Size([20, 2423, 8])\n",
      "targets.shape=torch.Size([20, 2423, 8])\n",
      "torch.Size([48460]) torch.Size([48460])\n",
      "12172\n",
      "stacked output.shape=torch.Size([48460, 8])\n",
      "targets.shape=torch.Size([48460, 8])\n",
      "12480\n"
     ]
    },
    {
     "name": "stderr",
     "output_type": "stream",
     "text": [
      " 85%|████████▌ | 4261/5000 [1:42:01<16:42,  1.36s/it]"
     ]
    },
    {
     "name": "stdout",
     "output_type": "stream",
     "text": [
      "output.shape=torch.Size([20, 2423, 8])\n",
      "targets.shape=torch.Size([20, 2423, 8])\n",
      "torch.Size([48460]) torch.Size([48460])\n",
      "12131\n",
      "stacked output.shape=torch.Size([48460, 8])\n",
      "targets.shape=torch.Size([48460, 8])\n",
      "12360\n"
     ]
    },
    {
     "name": "stderr",
     "output_type": "stream",
     "text": [
      " 85%|████████▌ | 4264/5000 [1:42:05<16:37,  1.35s/it]"
     ]
    },
    {
     "name": "stdout",
     "output_type": "stream",
     "text": [
      "output.shape=torch.Size([20, 2423, 8])\n",
      "targets.shape=torch.Size([20, 2423, 8])\n",
      "torch.Size([48460]) torch.Size([48460])\n",
      "12220\n",
      "stacked output.shape=torch.Size([48460, 8])\n",
      "targets.shape=torch.Size([48460, 8])\n",
      "12560\n"
     ]
    },
    {
     "name": "stderr",
     "output_type": "stream",
     "text": [
      " 85%|████████▌ | 4267/5000 [1:42:09<16:26,  1.35s/it]"
     ]
    },
    {
     "name": "stdout",
     "output_type": "stream",
     "text": [
      "output.shape=torch.Size([20, 2423, 8])\n",
      "targets.shape=torch.Size([20, 2423, 8])\n",
      "torch.Size([48460]) torch.Size([48460])\n",
      "12196\n",
      "stacked output.shape=torch.Size([48460, 8])\n",
      "targets.shape=torch.Size([48460, 8])\n",
      "12700\n"
     ]
    },
    {
     "name": "stderr",
     "output_type": "stream",
     "text": [
      " 85%|████████▌ | 4270/5000 [1:42:13<16:23,  1.35s/it]"
     ]
    },
    {
     "name": "stdout",
     "output_type": "stream",
     "text": [
      "output.shape=torch.Size([20, 2423, 8])\n",
      "targets.shape=torch.Size([20, 2423, 8])\n",
      "torch.Size([48460]) torch.Size([48460])\n",
      "12178\n",
      "stacked output.shape=torch.Size([48460, 8])\n",
      "targets.shape=torch.Size([48460, 8])\n",
      "12520\n"
     ]
    },
    {
     "name": "stderr",
     "output_type": "stream",
     "text": [
      " 85%|████████▌ | 4273/5000 [1:42:17<16:28,  1.36s/it]"
     ]
    },
    {
     "name": "stdout",
     "output_type": "stream",
     "text": [
      "output.shape=torch.Size([20, 2423, 8])\n",
      "targets.shape=torch.Size([20, 2423, 8])\n",
      "torch.Size([48460]) torch.Size([48460])\n",
      "12243\n",
      "stacked output.shape=torch.Size([48460, 8])\n",
      "targets.shape=torch.Size([48460, 8])\n",
      "12560\n"
     ]
    },
    {
     "name": "stderr",
     "output_type": "stream",
     "text": [
      " 86%|████████▌ | 4276/5000 [1:42:21<16:22,  1.36s/it]"
     ]
    },
    {
     "name": "stdout",
     "output_type": "stream",
     "text": [
      "output.shape=torch.Size([20, 2423, 8])\n",
      "targets.shape=torch.Size([20, 2423, 8])\n",
      "torch.Size([48460]) torch.Size([48460])\n",
      "12242\n",
      "stacked output.shape=torch.Size([48460, 8])\n",
      "targets.shape=torch.Size([48460, 8])\n",
      "12640\n"
     ]
    },
    {
     "name": "stderr",
     "output_type": "stream",
     "text": [
      " 86%|████████▌ | 4279/5000 [1:42:25<16:31,  1.38s/it]"
     ]
    },
    {
     "name": "stdout",
     "output_type": "stream",
     "text": [
      "output.shape=torch.Size([20, 2423, 8])\n",
      "targets.shape=torch.Size([20, 2423, 8])\n",
      "torch.Size([48460]) torch.Size([48460])\n",
      "12141\n",
      "stacked output.shape=torch.Size([48460, 8])\n",
      "targets.shape=torch.Size([48460, 8])\n",
      "12600\n"
     ]
    },
    {
     "name": "stderr",
     "output_type": "stream",
     "text": [
      " 86%|████████▌ | 4282/5000 [1:42:29<16:37,  1.39s/it]"
     ]
    },
    {
     "name": "stdout",
     "output_type": "stream",
     "text": [
      "output.shape=torch.Size([20, 2423, 8])\n",
      "targets.shape=torch.Size([20, 2423, 8])\n",
      "torch.Size([48460]) torch.Size([48460])\n",
      "12143\n",
      "stacked output.shape=torch.Size([48460, 8])\n",
      "targets.shape=torch.Size([48460, 8])\n",
      "12800\n"
     ]
    },
    {
     "name": "stderr",
     "output_type": "stream",
     "text": [
      " 86%|████████▌ | 4285/5000 [1:42:33<16:17,  1.37s/it]"
     ]
    },
    {
     "name": "stdout",
     "output_type": "stream",
     "text": [
      "output.shape=torch.Size([20, 2423, 8])\n",
      "targets.shape=torch.Size([20, 2423, 8])\n",
      "torch.Size([48460]) torch.Size([48460])\n",
      "12242\n",
      "stacked output.shape=torch.Size([48460, 8])\n",
      "targets.shape=torch.Size([48460, 8])\n",
      "12740\n"
     ]
    },
    {
     "name": "stderr",
     "output_type": "stream",
     "text": [
      " 86%|████████▌ | 4288/5000 [1:42:37<16:14,  1.37s/it]"
     ]
    },
    {
     "name": "stdout",
     "output_type": "stream",
     "text": [
      "output.shape=torch.Size([20, 2423, 8])\n",
      "targets.shape=torch.Size([20, 2423, 8])\n",
      "torch.Size([48460]) torch.Size([48460])\n",
      "12214\n",
      "stacked output.shape=torch.Size([48460, 8])\n",
      "targets.shape=torch.Size([48460, 8])\n",
      "12600\n"
     ]
    },
    {
     "name": "stderr",
     "output_type": "stream",
     "text": [
      " 86%|████████▌ | 4291/5000 [1:42:41<16:17,  1.38s/it]"
     ]
    },
    {
     "name": "stdout",
     "output_type": "stream",
     "text": [
      "output.shape=torch.Size([20, 2423, 8])\n",
      "targets.shape=torch.Size([20, 2423, 8])\n",
      "torch.Size([48460]) torch.Size([48460])\n",
      "12163\n",
      "stacked output.shape=torch.Size([48460, 8])\n",
      "targets.shape=torch.Size([48460, 8])\n",
      "12520\n"
     ]
    },
    {
     "name": "stderr",
     "output_type": "stream",
     "text": [
      " 86%|████████▌ | 4294/5000 [1:42:45<16:26,  1.40s/it]"
     ]
    },
    {
     "name": "stdout",
     "output_type": "stream",
     "text": [
      "output.shape=torch.Size([20, 2423, 8])\n",
      "targets.shape=torch.Size([20, 2423, 8])\n",
      "torch.Size([48460]) torch.Size([48460])\n",
      "12152\n",
      "stacked output.shape=torch.Size([48460, 8])\n",
      "targets.shape=torch.Size([48460, 8])\n",
      "12980\n"
     ]
    },
    {
     "name": "stderr",
     "output_type": "stream",
     "text": [
      " 86%|████████▌ | 4297/5000 [1:42:49<16:14,  1.39s/it]"
     ]
    },
    {
     "name": "stdout",
     "output_type": "stream",
     "text": [
      "output.shape=torch.Size([20, 2423, 8])\n",
      "targets.shape=torch.Size([20, 2423, 8])\n",
      "torch.Size([48460]) torch.Size([48460])\n",
      "12160\n",
      "stacked output.shape=torch.Size([48460, 8])\n",
      "targets.shape=torch.Size([48460, 8])\n",
      "12740\n"
     ]
    },
    {
     "name": "stderr",
     "output_type": "stream",
     "text": [
      " 86%|████████▌ | 4300/5000 [1:42:53<16:03,  1.38s/it]"
     ]
    },
    {
     "name": "stdout",
     "output_type": "stream",
     "text": [
      "output.shape=torch.Size([20, 2423, 8])\n",
      "targets.shape=torch.Size([20, 2423, 8])\n",
      "torch.Size([48460]) torch.Size([48460])\n",
      "12191\n",
      "stacked output.shape=torch.Size([48460, 8])\n",
      "targets.shape=torch.Size([48460, 8])\n",
      "12680\n"
     ]
    },
    {
     "name": "stderr",
     "output_type": "stream",
     "text": [
      " 86%|████████▌ | 4303/5000 [1:42:57<15:54,  1.37s/it]"
     ]
    },
    {
     "name": "stdout",
     "output_type": "stream",
     "text": [
      "output.shape=torch.Size([20, 2423, 8])\n",
      "targets.shape=torch.Size([20, 2423, 8])\n",
      "torch.Size([48460]) torch.Size([48460])\n",
      "12201\n",
      "stacked output.shape=torch.Size([48460, 8])\n",
      "targets.shape=torch.Size([48460, 8])\n",
      "12640\n"
     ]
    },
    {
     "name": "stderr",
     "output_type": "stream",
     "text": [
      " 86%|████████▌ | 4306/5000 [1:43:01<15:50,  1.37s/it]"
     ]
    },
    {
     "name": "stdout",
     "output_type": "stream",
     "text": [
      "output.shape=torch.Size([20, 2423, 8])\n",
      "targets.shape=torch.Size([20, 2423, 8])\n",
      "torch.Size([48460]) torch.Size([48460])\n",
      "12222\n",
      "stacked output.shape=torch.Size([48460, 8])\n",
      "targets.shape=torch.Size([48460, 8])\n",
      "12820\n"
     ]
    },
    {
     "name": "stderr",
     "output_type": "stream",
     "text": [
      " 86%|████████▌ | 4309/5000 [1:43:05<15:55,  1.38s/it]"
     ]
    },
    {
     "name": "stdout",
     "output_type": "stream",
     "text": [
      "output.shape=torch.Size([20, 2423, 8])\n",
      "targets.shape=torch.Size([20, 2423, 8])\n",
      "torch.Size([48460]) torch.Size([48460])\n",
      "12153\n",
      "stacked output.shape=torch.Size([48460, 8])\n",
      "targets.shape=torch.Size([48460, 8])\n",
      "13020\n"
     ]
    },
    {
     "name": "stderr",
     "output_type": "stream",
     "text": [
      " 86%|████████▌ | 4312/5000 [1:43:09<15:54,  1.39s/it]"
     ]
    },
    {
     "name": "stdout",
     "output_type": "stream",
     "text": [
      "output.shape=torch.Size([20, 2423, 8])\n",
      "targets.shape=torch.Size([20, 2423, 8])\n",
      "torch.Size([48460]) torch.Size([48460])\n",
      "12122\n",
      "stacked output.shape=torch.Size([48460, 8])\n",
      "targets.shape=torch.Size([48460, 8])\n",
      "12700\n"
     ]
    },
    {
     "name": "stderr",
     "output_type": "stream",
     "text": [
      " 86%|████████▋ | 4315/5000 [1:43:13<15:46,  1.38s/it]"
     ]
    },
    {
     "name": "stdout",
     "output_type": "stream",
     "text": [
      "output.shape=torch.Size([20, 2423, 8])\n",
      "targets.shape=torch.Size([20, 2423, 8])\n",
      "torch.Size([48460]) torch.Size([48460])\n",
      "12111\n",
      "stacked output.shape=torch.Size([48460, 8])\n",
      "targets.shape=torch.Size([48460, 8])\n",
      "12720\n"
     ]
    },
    {
     "name": "stderr",
     "output_type": "stream",
     "text": [
      " 86%|████████▋ | 4318/5000 [1:43:17<15:37,  1.38s/it]"
     ]
    },
    {
     "name": "stdout",
     "output_type": "stream",
     "text": [
      "output.shape=torch.Size([20, 2423, 8])\n",
      "targets.shape=torch.Size([20, 2423, 8])\n",
      "torch.Size([48460]) torch.Size([48460])\n",
      "12176\n",
      "stacked output.shape=torch.Size([48460, 8])\n",
      "targets.shape=torch.Size([48460, 8])\n",
      "12740\n"
     ]
    },
    {
     "name": "stderr",
     "output_type": "stream",
     "text": [
      " 86%|████████▋ | 4321/5000 [1:43:21<15:32,  1.37s/it]"
     ]
    },
    {
     "name": "stdout",
     "output_type": "stream",
     "text": [
      "output.shape=torch.Size([20, 2423, 8])\n",
      "targets.shape=torch.Size([20, 2423, 8])\n",
      "torch.Size([48460]) torch.Size([48460])\n",
      "12185\n",
      "stacked output.shape=torch.Size([48460, 8])\n",
      "targets.shape=torch.Size([48460, 8])\n",
      "12840\n"
     ]
    },
    {
     "name": "stderr",
     "output_type": "stream",
     "text": [
      " 86%|████████▋ | 4324/5000 [1:43:25<15:24,  1.37s/it]"
     ]
    },
    {
     "name": "stdout",
     "output_type": "stream",
     "text": [
      "output.shape=torch.Size([20, 2423, 8])\n",
      "targets.shape=torch.Size([20, 2423, 8])\n",
      "torch.Size([48460]) torch.Size([48460])\n",
      "12159\n",
      "stacked output.shape=torch.Size([48460, 8])\n",
      "targets.shape=torch.Size([48460, 8])\n",
      "12640\n"
     ]
    },
    {
     "name": "stderr",
     "output_type": "stream",
     "text": [
      " 87%|████████▋ | 4327/5000 [1:43:29<15:20,  1.37s/it]"
     ]
    },
    {
     "name": "stdout",
     "output_type": "stream",
     "text": [
      "output.shape=torch.Size([20, 2423, 8])\n",
      "targets.shape=torch.Size([20, 2423, 8])\n",
      "torch.Size([48460]) torch.Size([48460])\n",
      "12225\n",
      "stacked output.shape=torch.Size([48460, 8])\n",
      "targets.shape=torch.Size([48460, 8])\n",
      "12620\n"
     ]
    },
    {
     "name": "stderr",
     "output_type": "stream",
     "text": [
      " 87%|████████▋ | 4330/5000 [1:43:33<15:16,  1.37s/it]"
     ]
    },
    {
     "name": "stdout",
     "output_type": "stream",
     "text": [
      "output.shape=torch.Size([20, 2423, 8])\n",
      "targets.shape=torch.Size([20, 2423, 8])\n",
      "torch.Size([48460]) torch.Size([48460])\n",
      "12155\n",
      "stacked output.shape=torch.Size([48460, 8])\n",
      "targets.shape=torch.Size([48460, 8])\n",
      "12420\n"
     ]
    },
    {
     "name": "stderr",
     "output_type": "stream",
     "text": [
      " 87%|████████▋ | 4333/5000 [1:43:37<15:24,  1.39s/it]"
     ]
    },
    {
     "name": "stdout",
     "output_type": "stream",
     "text": [
      "output.shape=torch.Size([20, 2423, 8])\n",
      "targets.shape=torch.Size([20, 2423, 8])\n",
      "torch.Size([48460]) torch.Size([48460])\n",
      "12213\n",
      "stacked output.shape=torch.Size([48460, 8])\n",
      "targets.shape=torch.Size([48460, 8])\n",
      "12700\n"
     ]
    },
    {
     "name": "stderr",
     "output_type": "stream",
     "text": [
      " 87%|████████▋ | 4336/5000 [1:43:41<15:17,  1.38s/it]"
     ]
    },
    {
     "name": "stdout",
     "output_type": "stream",
     "text": [
      "output.shape=torch.Size([20, 2423, 8])\n",
      "targets.shape=torch.Size([20, 2423, 8])\n",
      "torch.Size([48460]) torch.Size([48460])\n",
      "12186\n",
      "stacked output.shape=torch.Size([48460, 8])\n",
      "targets.shape=torch.Size([48460, 8])\n",
      "12500\n"
     ]
    },
    {
     "name": "stderr",
     "output_type": "stream",
     "text": [
      " 87%|████████▋ | 4339/5000 [1:43:46<15:31,  1.41s/it]"
     ]
    },
    {
     "name": "stdout",
     "output_type": "stream",
     "text": [
      "output.shape=torch.Size([20, 2423, 8])\n",
      "targets.shape=torch.Size([20, 2423, 8])\n",
      "torch.Size([48460]) torch.Size([48460])\n",
      "12208\n",
      "stacked output.shape=torch.Size([48460, 8])\n",
      "targets.shape=torch.Size([48460, 8])\n",
      "12720\n"
     ]
    },
    {
     "name": "stderr",
     "output_type": "stream",
     "text": [
      " 87%|████████▋ | 4342/5000 [1:43:50<15:20,  1.40s/it]"
     ]
    },
    {
     "name": "stdout",
     "output_type": "stream",
     "text": [
      "output.shape=torch.Size([20, 2423, 8])\n",
      "targets.shape=torch.Size([20, 2423, 8])\n",
      "torch.Size([48460]) torch.Size([48460])\n",
      "12205\n",
      "stacked output.shape=torch.Size([48460, 8])\n",
      "targets.shape=torch.Size([48460, 8])\n",
      "12800\n"
     ]
    },
    {
     "name": "stderr",
     "output_type": "stream",
     "text": [
      " 87%|████████▋ | 4345/5000 [1:43:54<15:13,  1.39s/it]"
     ]
    },
    {
     "name": "stdout",
     "output_type": "stream",
     "text": [
      "output.shape=torch.Size([20, 2423, 8])\n",
      "targets.shape=torch.Size([20, 2423, 8])\n",
      "torch.Size([48460]) torch.Size([48460])\n",
      "12196\n",
      "stacked output.shape=torch.Size([48460, 8])\n",
      "targets.shape=torch.Size([48460, 8])\n",
      "12720\n"
     ]
    },
    {
     "name": "stderr",
     "output_type": "stream",
     "text": [
      " 87%|████████▋ | 4348/5000 [1:43:58<14:54,  1.37s/it]"
     ]
    },
    {
     "name": "stdout",
     "output_type": "stream",
     "text": [
      "output.shape=torch.Size([20, 2423, 8])\n",
      "targets.shape=torch.Size([20, 2423, 8])\n",
      "torch.Size([48460]) torch.Size([48460])\n",
      "12145\n",
      "stacked output.shape=torch.Size([48460, 8])\n",
      "targets.shape=torch.Size([48460, 8])\n",
      "12680\n"
     ]
    },
    {
     "name": "stderr",
     "output_type": "stream",
     "text": [
      " 87%|████████▋ | 4351/5000 [1:44:02<14:49,  1.37s/it]"
     ]
    },
    {
     "name": "stdout",
     "output_type": "stream",
     "text": [
      "output.shape=torch.Size([20, 2423, 8])\n",
      "targets.shape=torch.Size([20, 2423, 8])\n",
      "torch.Size([48460]) torch.Size([48460])\n",
      "12149\n",
      "stacked output.shape=torch.Size([48460, 8])\n",
      "targets.shape=torch.Size([48460, 8])\n",
      "12580\n"
     ]
    },
    {
     "name": "stderr",
     "output_type": "stream",
     "text": [
      " 87%|████████▋ | 4354/5000 [1:44:06<14:43,  1.37s/it]"
     ]
    },
    {
     "name": "stdout",
     "output_type": "stream",
     "text": [
      "output.shape=torch.Size([20, 2423, 8])\n",
      "targets.shape=torch.Size([20, 2423, 8])\n",
      "torch.Size([48460]) torch.Size([48460])\n",
      "12151\n",
      "stacked output.shape=torch.Size([48460, 8])\n",
      "targets.shape=torch.Size([48460, 8])\n",
      "12640\n"
     ]
    },
    {
     "name": "stderr",
     "output_type": "stream",
     "text": [
      " 87%|████████▋ | 4357/5000 [1:44:10<14:38,  1.37s/it]"
     ]
    },
    {
     "name": "stdout",
     "output_type": "stream",
     "text": [
      "output.shape=torch.Size([20, 2423, 8])\n",
      "targets.shape=torch.Size([20, 2423, 8])\n",
      "torch.Size([48460]) torch.Size([48460])\n",
      "12170\n",
      "stacked output.shape=torch.Size([48460, 8])\n",
      "targets.shape=torch.Size([48460, 8])\n",
      "13020\n"
     ]
    },
    {
     "name": "stderr",
     "output_type": "stream",
     "text": [
      " 87%|████████▋ | 4360/5000 [1:44:14<14:43,  1.38s/it]"
     ]
    },
    {
     "name": "stdout",
     "output_type": "stream",
     "text": [
      "output.shape=torch.Size([20, 2423, 8])\n",
      "targets.shape=torch.Size([20, 2423, 8])\n",
      "torch.Size([48460]) torch.Size([48460])\n",
      "12120\n",
      "stacked output.shape=torch.Size([48460, 8])\n",
      "targets.shape=torch.Size([48460, 8])\n",
      "12600\n"
     ]
    },
    {
     "name": "stderr",
     "output_type": "stream",
     "text": [
      " 87%|████████▋ | 4363/5000 [1:44:18<14:43,  1.39s/it]"
     ]
    },
    {
     "name": "stdout",
     "output_type": "stream",
     "text": [
      "output.shape=torch.Size([20, 2423, 8])\n",
      "targets.shape=torch.Size([20, 2423, 8])\n",
      "torch.Size([48460]) torch.Size([48460])\n",
      "12182\n",
      "stacked output.shape=torch.Size([48460, 8])\n",
      "targets.shape=torch.Size([48460, 8])\n",
      "12540\n"
     ]
    },
    {
     "name": "stderr",
     "output_type": "stream",
     "text": [
      " 87%|████████▋ | 4366/5000 [1:44:22<14:29,  1.37s/it]"
     ]
    },
    {
     "name": "stdout",
     "output_type": "stream",
     "text": [
      "output.shape=torch.Size([20, 2423, 8])\n",
      "targets.shape=torch.Size([20, 2423, 8])\n",
      "torch.Size([48460]) torch.Size([48460])\n",
      "12155\n",
      "stacked output.shape=torch.Size([48460, 8])\n",
      "targets.shape=torch.Size([48460, 8])\n",
      "12860\n"
     ]
    },
    {
     "name": "stderr",
     "output_type": "stream",
     "text": [
      " 87%|████████▋ | 4369/5000 [1:44:26<14:41,  1.40s/it]"
     ]
    },
    {
     "name": "stdout",
     "output_type": "stream",
     "text": [
      "output.shape=torch.Size([20, 2423, 8])\n",
      "targets.shape=torch.Size([20, 2423, 8])\n",
      "torch.Size([48460]) torch.Size([48460])\n",
      "12110\n",
      "stacked output.shape=torch.Size([48460, 8])\n",
      "targets.shape=torch.Size([48460, 8])\n",
      "12860\n"
     ]
    },
    {
     "name": "stderr",
     "output_type": "stream",
     "text": [
      " 87%|████████▋ | 4372/5000 [1:44:30<14:23,  1.38s/it]"
     ]
    },
    {
     "name": "stdout",
     "output_type": "stream",
     "text": [
      "output.shape=torch.Size([20, 2423, 8])\n",
      "targets.shape=torch.Size([20, 2423, 8])\n",
      "torch.Size([48460]) torch.Size([48460])\n",
      "12156\n",
      "stacked output.shape=torch.Size([48460, 8])\n",
      "targets.shape=torch.Size([48460, 8])\n",
      "12900\n"
     ]
    },
    {
     "name": "stderr",
     "output_type": "stream",
     "text": [
      " 88%|████████▊ | 4375/5000 [1:44:34<14:26,  1.39s/it]"
     ]
    },
    {
     "name": "stdout",
     "output_type": "stream",
     "text": [
      "output.shape=torch.Size([20, 2423, 8])\n",
      "targets.shape=torch.Size([20, 2423, 8])\n",
      "torch.Size([48460]) torch.Size([48460])\n",
      "12164\n",
      "stacked output.shape=torch.Size([48460, 8])\n",
      "targets.shape=torch.Size([48460, 8])\n",
      "12800\n"
     ]
    },
    {
     "name": "stderr",
     "output_type": "stream",
     "text": [
      " 88%|████████▊ | 4378/5000 [1:44:38<14:17,  1.38s/it]"
     ]
    },
    {
     "name": "stdout",
     "output_type": "stream",
     "text": [
      "output.shape=torch.Size([20, 2423, 8])\n",
      "targets.shape=torch.Size([20, 2423, 8])\n",
      "torch.Size([48460]) torch.Size([48460])\n",
      "12182\n",
      "stacked output.shape=torch.Size([48460, 8])\n",
      "targets.shape=torch.Size([48460, 8])\n",
      "12640\n"
     ]
    },
    {
     "name": "stderr",
     "output_type": "stream",
     "text": [
      " 88%|████████▊ | 4381/5000 [1:44:42<14:06,  1.37s/it]"
     ]
    },
    {
     "name": "stdout",
     "output_type": "stream",
     "text": [
      "output.shape=torch.Size([20, 2423, 8])\n",
      "targets.shape=torch.Size([20, 2423, 8])\n",
      "torch.Size([48460]) torch.Size([48460])\n",
      "12203\n",
      "stacked output.shape=torch.Size([48460, 8])\n",
      "targets.shape=torch.Size([48460, 8])\n",
      "12760\n"
     ]
    },
    {
     "name": "stderr",
     "output_type": "stream",
     "text": [
      " 88%|████████▊ | 4384/5000 [1:44:46<14:03,  1.37s/it]"
     ]
    },
    {
     "name": "stdout",
     "output_type": "stream",
     "text": [
      "output.shape=torch.Size([20, 2423, 8])\n",
      "targets.shape=torch.Size([20, 2423, 8])\n",
      "torch.Size([48460]) torch.Size([48460])\n",
      "12202\n",
      "stacked output.shape=torch.Size([48460, 8])\n",
      "targets.shape=torch.Size([48460, 8])\n",
      "12820\n"
     ]
    },
    {
     "name": "stderr",
     "output_type": "stream",
     "text": [
      " 88%|████████▊ | 4387/5000 [1:44:50<14:12,  1.39s/it]"
     ]
    },
    {
     "name": "stdout",
     "output_type": "stream",
     "text": [
      "output.shape=torch.Size([20, 2423, 8])\n",
      "targets.shape=torch.Size([20, 2423, 8])\n",
      "torch.Size([48460]) torch.Size([48460])\n",
      "12183\n",
      "stacked output.shape=torch.Size([48460, 8])\n",
      "targets.shape=torch.Size([48460, 8])\n",
      "12700\n"
     ]
    },
    {
     "name": "stderr",
     "output_type": "stream",
     "text": [
      " 88%|████████▊ | 4390/5000 [1:44:54<14:05,  1.39s/it]"
     ]
    },
    {
     "name": "stdout",
     "output_type": "stream",
     "text": [
      "output.shape=torch.Size([20, 2423, 8])\n",
      "targets.shape=torch.Size([20, 2423, 8])\n",
      "torch.Size([48460]) torch.Size([48460])\n",
      "12166\n",
      "stacked output.shape=torch.Size([48460, 8])\n",
      "targets.shape=torch.Size([48460, 8])\n",
      "12780\n"
     ]
    },
    {
     "name": "stderr",
     "output_type": "stream",
     "text": [
      " 88%|████████▊ | 4393/5000 [1:44:58<13:54,  1.38s/it]"
     ]
    },
    {
     "name": "stdout",
     "output_type": "stream",
     "text": [
      "output.shape=torch.Size([20, 2423, 8])\n",
      "targets.shape=torch.Size([20, 2423, 8])\n",
      "torch.Size([48460]) torch.Size([48460])\n",
      "12229\n",
      "stacked output.shape=torch.Size([48460, 8])\n",
      "targets.shape=torch.Size([48460, 8])\n",
      "12900\n"
     ]
    },
    {
     "name": "stderr",
     "output_type": "stream",
     "text": [
      " 88%|████████▊ | 4396/5000 [1:45:02<13:51,  1.38s/it]"
     ]
    },
    {
     "name": "stdout",
     "output_type": "stream",
     "text": [
      "output.shape=torch.Size([20, 2423, 8])\n",
      "targets.shape=torch.Size([20, 2423, 8])\n",
      "torch.Size([48460]) torch.Size([48460])\n",
      "12172\n",
      "stacked output.shape=torch.Size([48460, 8])\n",
      "targets.shape=torch.Size([48460, 8])\n",
      "12640\n"
     ]
    },
    {
     "name": "stderr",
     "output_type": "stream",
     "text": [
      " 88%|████████▊ | 4399/5000 [1:45:06<13:41,  1.37s/it]"
     ]
    },
    {
     "name": "stdout",
     "output_type": "stream",
     "text": [
      "output.shape=torch.Size([20, 2423, 8])\n",
      "targets.shape=torch.Size([20, 2423, 8])\n",
      "torch.Size([48460]) torch.Size([48460])\n",
      "12175\n",
      "stacked output.shape=torch.Size([48460, 8])\n",
      "targets.shape=torch.Size([48460, 8])\n",
      "12620\n"
     ]
    },
    {
     "name": "stderr",
     "output_type": "stream",
     "text": [
      " 88%|████████▊ | 4402/5000 [1:45:10<13:42,  1.38s/it]"
     ]
    },
    {
     "name": "stdout",
     "output_type": "stream",
     "text": [
      "output.shape=torch.Size([20, 2423, 8])\n",
      "targets.shape=torch.Size([20, 2423, 8])\n",
      "torch.Size([48460]) torch.Size([48460])\n",
      "12203\n",
      "stacked output.shape=torch.Size([48460, 8])\n",
      "targets.shape=torch.Size([48460, 8])\n",
      "12540\n"
     ]
    },
    {
     "name": "stderr",
     "output_type": "stream",
     "text": [
      " 88%|████████▊ | 4405/5000 [1:45:14<13:30,  1.36s/it]"
     ]
    },
    {
     "name": "stdout",
     "output_type": "stream",
     "text": [
      "output.shape=torch.Size([20, 2423, 8])\n",
      "targets.shape=torch.Size([20, 2423, 8])\n",
      "torch.Size([48460]) torch.Size([48460])\n",
      "12179\n",
      "stacked output.shape=torch.Size([48460, 8])\n",
      "targets.shape=torch.Size([48460, 8])\n",
      "12800\n"
     ]
    },
    {
     "name": "stderr",
     "output_type": "stream",
     "text": [
      " 88%|████████▊ | 4408/5000 [1:45:18<13:50,  1.40s/it]"
     ]
    },
    {
     "name": "stdout",
     "output_type": "stream",
     "text": [
      "output.shape=torch.Size([20, 2423, 8])\n",
      "targets.shape=torch.Size([20, 2423, 8])\n",
      "torch.Size([48460]) torch.Size([48460])\n",
      "12137\n",
      "stacked output.shape=torch.Size([48460, 8])\n",
      "targets.shape=torch.Size([48460, 8])\n",
      "12640\n"
     ]
    },
    {
     "name": "stderr",
     "output_type": "stream",
     "text": [
      " 88%|████████▊ | 4411/5000 [1:45:22<13:26,  1.37s/it]"
     ]
    },
    {
     "name": "stdout",
     "output_type": "stream",
     "text": [
      "output.shape=torch.Size([20, 2423, 8])\n",
      "targets.shape=torch.Size([20, 2423, 8])\n",
      "torch.Size([48460]) torch.Size([48460])\n",
      "12105\n",
      "stacked output.shape=torch.Size([48460, 8])\n",
      "targets.shape=torch.Size([48460, 8])\n",
      "12660\n"
     ]
    },
    {
     "name": "stderr",
     "output_type": "stream",
     "text": [
      " 88%|████████▊ | 4414/5000 [1:45:26<13:24,  1.37s/it]"
     ]
    },
    {
     "name": "stdout",
     "output_type": "stream",
     "text": [
      "output.shape=torch.Size([20, 2423, 8])\n",
      "targets.shape=torch.Size([20, 2423, 8])\n",
      "torch.Size([48460]) torch.Size([48460])\n",
      "12103\n",
      "stacked output.shape=torch.Size([48460, 8])\n",
      "targets.shape=torch.Size([48460, 8])\n",
      "12620\n"
     ]
    },
    {
     "name": "stderr",
     "output_type": "stream",
     "text": [
      " 88%|████████▊ | 4417/5000 [1:45:30<13:16,  1.37s/it]"
     ]
    },
    {
     "name": "stdout",
     "output_type": "stream",
     "text": [
      "output.shape=torch.Size([20, 2423, 8])\n",
      "targets.shape=torch.Size([20, 2423, 8])\n",
      "torch.Size([48460]) torch.Size([48460])\n",
      "12147\n",
      "stacked output.shape=torch.Size([48460, 8])\n",
      "targets.shape=torch.Size([48460, 8])\n",
      "12780\n"
     ]
    },
    {
     "name": "stderr",
     "output_type": "stream",
     "text": [
      " 88%|████████▊ | 4420/5000 [1:45:34<13:27,  1.39s/it]"
     ]
    },
    {
     "name": "stdout",
     "output_type": "stream",
     "text": [
      "output.shape=torch.Size([20, 2423, 8])\n",
      "targets.shape=torch.Size([20, 2423, 8])\n",
      "torch.Size([48460]) torch.Size([48460])\n",
      "12143\n",
      "stacked output.shape=torch.Size([48460, 8])\n",
      "targets.shape=torch.Size([48460, 8])\n",
      "12760\n"
     ]
    },
    {
     "name": "stderr",
     "output_type": "stream",
     "text": [
      " 88%|████████▊ | 4423/5000 [1:45:38<13:10,  1.37s/it]"
     ]
    },
    {
     "name": "stdout",
     "output_type": "stream",
     "text": [
      "output.shape=torch.Size([20, 2423, 8])\n",
      "targets.shape=torch.Size([20, 2423, 8])\n",
      "torch.Size([48460]) torch.Size([48460])\n",
      "12202\n",
      "stacked output.shape=torch.Size([48460, 8])\n",
      "targets.shape=torch.Size([48460, 8])\n",
      "12680\n"
     ]
    },
    {
     "name": "stderr",
     "output_type": "stream",
     "text": [
      " 89%|████████▊ | 4426/5000 [1:45:42<13:06,  1.37s/it]"
     ]
    },
    {
     "name": "stdout",
     "output_type": "stream",
     "text": [
      "output.shape=torch.Size([20, 2423, 8])\n",
      "targets.shape=torch.Size([20, 2423, 8])\n",
      "torch.Size([48460]) torch.Size([48460])\n",
      "12212\n",
      "stacked output.shape=torch.Size([48460, 8])\n",
      "targets.shape=torch.Size([48460, 8])\n",
      "12740\n"
     ]
    },
    {
     "name": "stderr",
     "output_type": "stream",
     "text": [
      " 89%|████████▊ | 4429/5000 [1:45:46<13:08,  1.38s/it]"
     ]
    },
    {
     "name": "stdout",
     "output_type": "stream",
     "text": [
      "output.shape=torch.Size([20, 2423, 8])\n",
      "targets.shape=torch.Size([20, 2423, 8])\n",
      "torch.Size([48460]) torch.Size([48460])\n",
      "12130\n",
      "stacked output.shape=torch.Size([48460, 8])\n",
      "targets.shape=torch.Size([48460, 8])\n",
      "12660\n"
     ]
    },
    {
     "name": "stderr",
     "output_type": "stream",
     "text": [
      " 89%|████████▊ | 4432/5000 [1:45:50<13:07,  1.39s/it]"
     ]
    },
    {
     "name": "stdout",
     "output_type": "stream",
     "text": [
      "output.shape=torch.Size([20, 2423, 8])\n",
      "targets.shape=torch.Size([20, 2423, 8])\n",
      "torch.Size([48460]) torch.Size([48460])\n",
      "12154\n",
      "stacked output.shape=torch.Size([48460, 8])\n",
      "targets.shape=torch.Size([48460, 8])\n",
      "12820\n"
     ]
    },
    {
     "name": "stderr",
     "output_type": "stream",
     "text": [
      " 89%|████████▊ | 4435/5000 [1:45:54<12:52,  1.37s/it]"
     ]
    },
    {
     "name": "stdout",
     "output_type": "stream",
     "text": [
      "output.shape=torch.Size([20, 2423, 8])\n",
      "targets.shape=torch.Size([20, 2423, 8])\n",
      "torch.Size([48460]) torch.Size([48460])\n",
      "12152\n",
      "stacked output.shape=torch.Size([48460, 8])\n",
      "targets.shape=torch.Size([48460, 8])\n",
      "12820\n"
     ]
    },
    {
     "name": "stderr",
     "output_type": "stream",
     "text": [
      " 89%|████████▉ | 4438/5000 [1:45:58<12:52,  1.37s/it]"
     ]
    },
    {
     "name": "stdout",
     "output_type": "stream",
     "text": [
      "output.shape=torch.Size([20, 2423, 8])\n",
      "targets.shape=torch.Size([20, 2423, 8])\n",
      "torch.Size([48460]) torch.Size([48460])\n",
      "12156\n",
      "stacked output.shape=torch.Size([48460, 8])\n",
      "targets.shape=torch.Size([48460, 8])\n",
      "12620\n"
     ]
    },
    {
     "name": "stderr",
     "output_type": "stream",
     "text": [
      " 89%|████████▉ | 4441/5000 [1:46:02<12:44,  1.37s/it]"
     ]
    },
    {
     "name": "stdout",
     "output_type": "stream",
     "text": [
      "output.shape=torch.Size([20, 2423, 8])\n",
      "targets.shape=torch.Size([20, 2423, 8])\n",
      "torch.Size([48460]) torch.Size([48460])\n",
      "12150\n",
      "stacked output.shape=torch.Size([48460, 8])\n",
      "targets.shape=torch.Size([48460, 8])\n",
      "12640\n"
     ]
    },
    {
     "name": "stderr",
     "output_type": "stream",
     "text": [
      " 89%|████████▉ | 4444/5000 [1:46:07<12:49,  1.38s/it]"
     ]
    },
    {
     "name": "stdout",
     "output_type": "stream",
     "text": [
      "output.shape=torch.Size([20, 2423, 8])\n",
      "targets.shape=torch.Size([20, 2423, 8])\n",
      "torch.Size([48460]) torch.Size([48460])\n",
      "12191\n",
      "stacked output.shape=torch.Size([48460, 8])\n",
      "targets.shape=torch.Size([48460, 8])\n",
      "12980\n"
     ]
    },
    {
     "name": "stderr",
     "output_type": "stream",
     "text": [
      " 89%|████████▉ | 4447/5000 [1:46:10<12:32,  1.36s/it]"
     ]
    },
    {
     "name": "stdout",
     "output_type": "stream",
     "text": [
      "output.shape=torch.Size([20, 2423, 8])\n",
      "targets.shape=torch.Size([20, 2423, 8])\n",
      "torch.Size([48460]) torch.Size([48460])\n",
      "12148\n",
      "stacked output.shape=torch.Size([48460, 8])\n",
      "targets.shape=torch.Size([48460, 8])\n",
      "12620\n"
     ]
    },
    {
     "name": "stderr",
     "output_type": "stream",
     "text": [
      " 89%|████████▉ | 4450/5000 [1:46:15<12:32,  1.37s/it]"
     ]
    },
    {
     "name": "stdout",
     "output_type": "stream",
     "text": [
      "output.shape=torch.Size([20, 2423, 8])\n",
      "targets.shape=torch.Size([20, 2423, 8])\n",
      "torch.Size([48460]) torch.Size([48460])\n",
      "12179\n",
      "stacked output.shape=torch.Size([48460, 8])\n",
      "targets.shape=torch.Size([48460, 8])\n",
      "12520\n"
     ]
    },
    {
     "name": "stderr",
     "output_type": "stream",
     "text": [
      " 89%|████████▉ | 4453/5000 [1:46:19<12:31,  1.37s/it]"
     ]
    },
    {
     "name": "stdout",
     "output_type": "stream",
     "text": [
      "output.shape=torch.Size([20, 2423, 8])\n",
      "targets.shape=torch.Size([20, 2423, 8])\n",
      "torch.Size([48460]) torch.Size([48460])\n",
      "12134\n",
      "stacked output.shape=torch.Size([48460, 8])\n",
      "targets.shape=torch.Size([48460, 8])\n",
      "12660\n"
     ]
    },
    {
     "name": "stderr",
     "output_type": "stream",
     "text": [
      " 89%|████████▉ | 4456/5000 [1:46:23<12:25,  1.37s/it]"
     ]
    },
    {
     "name": "stdout",
     "output_type": "stream",
     "text": [
      "output.shape=torch.Size([20, 2423, 8])\n",
      "targets.shape=torch.Size([20, 2423, 8])\n",
      "torch.Size([48460]) torch.Size([48460])\n",
      "12137\n",
      "stacked output.shape=torch.Size([48460, 8])\n",
      "targets.shape=torch.Size([48460, 8])\n",
      "12420\n"
     ]
    },
    {
     "name": "stderr",
     "output_type": "stream",
     "text": [
      " 89%|████████▉ | 4459/5000 [1:46:27<12:20,  1.37s/it]"
     ]
    },
    {
     "name": "stdout",
     "output_type": "stream",
     "text": [
      "output.shape=torch.Size([20, 2423, 8])\n",
      "targets.shape=torch.Size([20, 2423, 8])\n",
      "torch.Size([48460]) torch.Size([48460])\n",
      "12188\n",
      "stacked output.shape=torch.Size([48460, 8])\n",
      "targets.shape=torch.Size([48460, 8])\n",
      "12720\n"
     ]
    },
    {
     "name": "stderr",
     "output_type": "stream",
     "text": [
      " 89%|████████▉ | 4462/5000 [1:46:31<12:49,  1.43s/it]"
     ]
    },
    {
     "name": "stdout",
     "output_type": "stream",
     "text": [
      "output.shape=torch.Size([20, 2423, 8])\n",
      "targets.shape=torch.Size([20, 2423, 8])\n",
      "torch.Size([48460]) torch.Size([48460])\n",
      "12271\n",
      "stacked output.shape=torch.Size([48460, 8])\n",
      "targets.shape=torch.Size([48460, 8])\n",
      "12740\n"
     ]
    },
    {
     "name": "stderr",
     "output_type": "stream",
     "text": [
      " 89%|████████▉ | 4465/5000 [1:46:36<14:02,  1.58s/it]"
     ]
    },
    {
     "name": "stdout",
     "output_type": "stream",
     "text": [
      "output.shape=torch.Size([20, 2423, 8])\n",
      "targets.shape=torch.Size([20, 2423, 8])\n",
      "torch.Size([48460]) torch.Size([48460])\n",
      "12221\n",
      "stacked output.shape=torch.Size([48460, 8])\n",
      "targets.shape=torch.Size([48460, 8])\n",
      "12800\n"
     ]
    },
    {
     "name": "stderr",
     "output_type": "stream",
     "text": [
      " 89%|████████▉ | 4468/5000 [1:46:41<15:39,  1.77s/it]"
     ]
    },
    {
     "name": "stdout",
     "output_type": "stream",
     "text": [
      "output.shape=torch.Size([20, 2423, 8])\n",
      "targets.shape=torch.Size([20, 2423, 8])\n",
      "torch.Size([48460]) torch.Size([48460])\n",
      "12181\n",
      "stacked output.shape=torch.Size([48460, 8])\n",
      "targets.shape=torch.Size([48460, 8])\n",
      "12920\n"
     ]
    },
    {
     "name": "stderr",
     "output_type": "stream",
     "text": [
      " 89%|████████▉ | 4471/5000 [1:46:45<13:31,  1.53s/it]"
     ]
    },
    {
     "name": "stdout",
     "output_type": "stream",
     "text": [
      "output.shape=torch.Size([20, 2423, 8])\n",
      "targets.shape=torch.Size([20, 2423, 8])\n",
      "torch.Size([48460]) torch.Size([48460])\n",
      "12127\n",
      "stacked output.shape=torch.Size([48460, 8])\n",
      "targets.shape=torch.Size([48460, 8])\n",
      "12620\n"
     ]
    },
    {
     "name": "stderr",
     "output_type": "stream",
     "text": [
      " 89%|████████▉ | 4474/5000 [1:46:49<12:37,  1.44s/it]"
     ]
    },
    {
     "name": "stdout",
     "output_type": "stream",
     "text": [
      "output.shape=torch.Size([20, 2423, 8])\n",
      "targets.shape=torch.Size([20, 2423, 8])\n",
      "torch.Size([48460]) torch.Size([48460])\n",
      "12129\n",
      "stacked output.shape=torch.Size([48460, 8])\n",
      "targets.shape=torch.Size([48460, 8])\n",
      "12780\n"
     ]
    },
    {
     "name": "stderr",
     "output_type": "stream",
     "text": [
      " 90%|████████▉ | 4477/5000 [1:46:53<12:14,  1.40s/it]"
     ]
    },
    {
     "name": "stdout",
     "output_type": "stream",
     "text": [
      "output.shape=torch.Size([20, 2423, 8])\n",
      "targets.shape=torch.Size([20, 2423, 8])\n",
      "torch.Size([48460]) torch.Size([48460])\n",
      "12183\n",
      "stacked output.shape=torch.Size([48460, 8])\n",
      "targets.shape=torch.Size([48460, 8])\n",
      "12860\n"
     ]
    },
    {
     "name": "stderr",
     "output_type": "stream",
     "text": [
      " 90%|████████▉ | 4480/5000 [1:46:57<11:58,  1.38s/it]"
     ]
    },
    {
     "name": "stdout",
     "output_type": "stream",
     "text": [
      "output.shape=torch.Size([20, 2423, 8])\n",
      "targets.shape=torch.Size([20, 2423, 8])\n",
      "torch.Size([48460]) torch.Size([48460])\n",
      "12205\n",
      "stacked output.shape=torch.Size([48460, 8])\n",
      "targets.shape=torch.Size([48460, 8])\n",
      "12700\n"
     ]
    },
    {
     "name": "stderr",
     "output_type": "stream",
     "text": [
      " 90%|████████▉ | 4483/5000 [1:47:01<11:51,  1.38s/it]"
     ]
    },
    {
     "name": "stdout",
     "output_type": "stream",
     "text": [
      "output.shape=torch.Size([20, 2423, 8])\n",
      "targets.shape=torch.Size([20, 2423, 8])\n",
      "torch.Size([48460]) torch.Size([48460])\n",
      "12133\n",
      "stacked output.shape=torch.Size([48460, 8])\n",
      "targets.shape=torch.Size([48460, 8])\n",
      "12760\n"
     ]
    },
    {
     "name": "stderr",
     "output_type": "stream",
     "text": [
      " 90%|████████▉ | 4486/5000 [1:47:06<12:13,  1.43s/it]"
     ]
    },
    {
     "name": "stdout",
     "output_type": "stream",
     "text": [
      "output.shape=torch.Size([20, 2423, 8])\n",
      "targets.shape=torch.Size([20, 2423, 8])\n",
      "torch.Size([48460]) torch.Size([48460])\n",
      "12141\n",
      "stacked output.shape=torch.Size([48460, 8])\n",
      "targets.shape=torch.Size([48460, 8])\n",
      "12760\n"
     ]
    },
    {
     "name": "stderr",
     "output_type": "stream",
     "text": [
      " 90%|████████▉ | 4489/5000 [1:47:10<12:18,  1.45s/it]"
     ]
    },
    {
     "name": "stdout",
     "output_type": "stream",
     "text": [
      "output.shape=torch.Size([20, 2423, 8])\n",
      "targets.shape=torch.Size([20, 2423, 8])\n",
      "torch.Size([48460]) torch.Size([48460])\n",
      "12174\n",
      "stacked output.shape=torch.Size([48460, 8])\n",
      "targets.shape=torch.Size([48460, 8])\n",
      "12900\n"
     ]
    },
    {
     "name": "stderr",
     "output_type": "stream",
     "text": [
      " 90%|████████▉ | 4492/5000 [1:47:14<11:55,  1.41s/it]"
     ]
    },
    {
     "name": "stdout",
     "output_type": "stream",
     "text": [
      "output.shape=torch.Size([20, 2423, 8])\n",
      "targets.shape=torch.Size([20, 2423, 8])\n",
      "torch.Size([48460]) torch.Size([48460])\n",
      "12163\n",
      "stacked output.shape=torch.Size([48460, 8])\n",
      "targets.shape=torch.Size([48460, 8])\n",
      "12580\n"
     ]
    },
    {
     "name": "stderr",
     "output_type": "stream",
     "text": [
      " 90%|████████▉ | 4495/5000 [1:47:18<11:50,  1.41s/it]"
     ]
    },
    {
     "name": "stdout",
     "output_type": "stream",
     "text": [
      "output.shape=torch.Size([20, 2423, 8])\n",
      "targets.shape=torch.Size([20, 2423, 8])\n",
      "torch.Size([48460]) torch.Size([48460])\n",
      "12164\n",
      "stacked output.shape=torch.Size([48460, 8])\n",
      "targets.shape=torch.Size([48460, 8])\n",
      "12700\n"
     ]
    },
    {
     "name": "stderr",
     "output_type": "stream",
     "text": [
      " 90%|████████▉ | 4498/5000 [1:47:22<11:34,  1.38s/it]"
     ]
    },
    {
     "name": "stdout",
     "output_type": "stream",
     "text": [
      "output.shape=torch.Size([20, 2423, 8])\n",
      "targets.shape=torch.Size([20, 2423, 8])\n",
      "torch.Size([48460]) torch.Size([48460])\n",
      "12146\n",
      "stacked output.shape=torch.Size([48460, 8])\n",
      "targets.shape=torch.Size([48460, 8])\n",
      "12680\n"
     ]
    },
    {
     "name": "stderr",
     "output_type": "stream",
     "text": [
      " 90%|█████████ | 4501/5000 [1:47:26<11:38,  1.40s/it]"
     ]
    },
    {
     "name": "stdout",
     "output_type": "stream",
     "text": [
      "output.shape=torch.Size([20, 2423, 8])\n",
      "targets.shape=torch.Size([20, 2423, 8])\n",
      "torch.Size([48460]) torch.Size([48460])\n",
      "12082\n",
      "stacked output.shape=torch.Size([48460, 8])\n",
      "targets.shape=torch.Size([48460, 8])\n",
      "12820\n"
     ]
    },
    {
     "name": "stderr",
     "output_type": "stream",
     "text": [
      " 90%|█████████ | 4504/5000 [1:47:32<13:31,  1.64s/it]"
     ]
    },
    {
     "name": "stdout",
     "output_type": "stream",
     "text": [
      "output.shape=torch.Size([20, 2423, 8])\n",
      "targets.shape=torch.Size([20, 2423, 8])\n",
      "torch.Size([48460]) torch.Size([48460])\n",
      "12163\n",
      "stacked output.shape=torch.Size([48460, 8])\n",
      "targets.shape=torch.Size([48460, 8])\n",
      "12500\n"
     ]
    },
    {
     "name": "stderr",
     "output_type": "stream",
     "text": [
      " 90%|█████████ | 4507/5000 [1:47:36<12:55,  1.57s/it]"
     ]
    },
    {
     "name": "stdout",
     "output_type": "stream",
     "text": [
      "output.shape=torch.Size([20, 2423, 8])\n",
      "targets.shape=torch.Size([20, 2423, 8])\n",
      "torch.Size([48460]) torch.Size([48460])\n",
      "12169\n",
      "stacked output.shape=torch.Size([48460, 8])\n",
      "targets.shape=torch.Size([48460, 8])\n",
      "12540\n"
     ]
    },
    {
     "name": "stderr",
     "output_type": "stream",
     "text": [
      " 90%|█████████ | 4510/5000 [1:47:40<12:05,  1.48s/it]"
     ]
    },
    {
     "name": "stdout",
     "output_type": "stream",
     "text": [
      "output.shape=torch.Size([20, 2423, 8])\n",
      "targets.shape=torch.Size([20, 2423, 8])\n",
      "torch.Size([48460]) torch.Size([48460])\n",
      "12136\n",
      "stacked output.shape=torch.Size([48460, 8])\n",
      "targets.shape=torch.Size([48460, 8])\n",
      "12600\n"
     ]
    },
    {
     "name": "stderr",
     "output_type": "stream",
     "text": [
      " 90%|█████████ | 4513/5000 [1:47:45<11:51,  1.46s/it]"
     ]
    },
    {
     "name": "stdout",
     "output_type": "stream",
     "text": [
      "output.shape=torch.Size([20, 2423, 8])\n",
      "targets.shape=torch.Size([20, 2423, 8])\n",
      "torch.Size([48460]) torch.Size([48460])\n",
      "12162\n",
      "stacked output.shape=torch.Size([48460, 8])\n",
      "targets.shape=torch.Size([48460, 8])\n",
      "12700\n"
     ]
    },
    {
     "name": "stderr",
     "output_type": "stream",
     "text": [
      " 90%|█████████ | 4516/5000 [1:47:49<11:42,  1.45s/it]"
     ]
    },
    {
     "name": "stdout",
     "output_type": "stream",
     "text": [
      "output.shape=torch.Size([20, 2423, 8])\n",
      "targets.shape=torch.Size([20, 2423, 8])\n",
      "torch.Size([48460]) torch.Size([48460])\n",
      "12155\n",
      "stacked output.shape=torch.Size([48460, 8])\n",
      "targets.shape=torch.Size([48460, 8])\n",
      "12700\n"
     ]
    },
    {
     "name": "stderr",
     "output_type": "stream",
     "text": [
      " 90%|█████████ | 4519/5000 [1:47:53<11:14,  1.40s/it]"
     ]
    },
    {
     "name": "stdout",
     "output_type": "stream",
     "text": [
      "output.shape=torch.Size([20, 2423, 8])\n",
      "targets.shape=torch.Size([20, 2423, 8])\n",
      "torch.Size([48460]) torch.Size([48460])\n",
      "12205\n",
      "stacked output.shape=torch.Size([48460, 8])\n",
      "targets.shape=torch.Size([48460, 8])\n",
      "12640\n"
     ]
    },
    {
     "name": "stderr",
     "output_type": "stream",
     "text": [
      " 90%|█████████ | 4522/5000 [1:47:57<11:26,  1.44s/it]"
     ]
    },
    {
     "name": "stdout",
     "output_type": "stream",
     "text": [
      "output.shape=torch.Size([20, 2423, 8])\n",
      "targets.shape=torch.Size([20, 2423, 8])\n",
      "torch.Size([48460]) torch.Size([48460])\n",
      "12216\n",
      "stacked output.shape=torch.Size([48460, 8])\n",
      "targets.shape=torch.Size([48460, 8])\n",
      "12880\n"
     ]
    },
    {
     "name": "stderr",
     "output_type": "stream",
     "text": [
      " 90%|█████████ | 4525/5000 [1:48:01<11:24,  1.44s/it]"
     ]
    },
    {
     "name": "stdout",
     "output_type": "stream",
     "text": [
      "output.shape=torch.Size([20, 2423, 8])\n",
      "targets.shape=torch.Size([20, 2423, 8])\n",
      "torch.Size([48460]) torch.Size([48460])\n",
      "12228\n",
      "stacked output.shape=torch.Size([48460, 8])\n",
      "targets.shape=torch.Size([48460, 8])\n",
      "12480\n"
     ]
    },
    {
     "name": "stderr",
     "output_type": "stream",
     "text": [
      " 91%|█████████ | 4528/5000 [1:48:06<11:39,  1.48s/it]"
     ]
    },
    {
     "name": "stdout",
     "output_type": "stream",
     "text": [
      "output.shape=torch.Size([20, 2423, 8])\n",
      "targets.shape=torch.Size([20, 2423, 8])\n",
      "torch.Size([48460]) torch.Size([48460])\n",
      "12215\n",
      "stacked output.shape=torch.Size([48460, 8])\n",
      "targets.shape=torch.Size([48460, 8])\n",
      "12780\n"
     ]
    },
    {
     "name": "stderr",
     "output_type": "stream",
     "text": [
      " 91%|█████████ | 4531/5000 [1:48:10<11:15,  1.44s/it]"
     ]
    },
    {
     "name": "stdout",
     "output_type": "stream",
     "text": [
      "output.shape=torch.Size([20, 2423, 8])\n",
      "targets.shape=torch.Size([20, 2423, 8])\n",
      "torch.Size([48460]) torch.Size([48460])\n",
      "12191\n",
      "stacked output.shape=torch.Size([48460, 8])\n",
      "targets.shape=torch.Size([48460, 8])\n",
      "12520\n"
     ]
    },
    {
     "name": "stderr",
     "output_type": "stream",
     "text": [
      " 91%|█████████ | 4534/5000 [1:48:14<11:10,  1.44s/it]"
     ]
    },
    {
     "name": "stdout",
     "output_type": "stream",
     "text": [
      "output.shape=torch.Size([20, 2423, 8])\n",
      "targets.shape=torch.Size([20, 2423, 8])\n",
      "torch.Size([48460]) torch.Size([48460])\n",
      "12248\n",
      "stacked output.shape=torch.Size([48460, 8])\n",
      "targets.shape=torch.Size([48460, 8])\n",
      "12560\n"
     ]
    },
    {
     "name": "stderr",
     "output_type": "stream",
     "text": [
      " 91%|█████████ | 4537/5000 [1:48:18<11:04,  1.44s/it]"
     ]
    },
    {
     "name": "stdout",
     "output_type": "stream",
     "text": [
      "output.shape=torch.Size([20, 2423, 8])\n",
      "targets.shape=torch.Size([20, 2423, 8])\n",
      "torch.Size([48460]) torch.Size([48460])\n",
      "12182\n",
      "stacked output.shape=torch.Size([48460, 8])\n",
      "targets.shape=torch.Size([48460, 8])\n",
      "12760\n"
     ]
    },
    {
     "name": "stderr",
     "output_type": "stream",
     "text": [
      " 91%|█████████ | 4540/5000 [1:48:23<11:00,  1.44s/it]"
     ]
    },
    {
     "name": "stdout",
     "output_type": "stream",
     "text": [
      "output.shape=torch.Size([20, 2423, 8])\n",
      "targets.shape=torch.Size([20, 2423, 8])\n",
      "torch.Size([48460]) torch.Size([48460])\n",
      "12214\n",
      "stacked output.shape=torch.Size([48460, 8])\n",
      "targets.shape=torch.Size([48460, 8])\n",
      "12640\n"
     ]
    },
    {
     "name": "stderr",
     "output_type": "stream",
     "text": [
      " 91%|█████████ | 4543/5000 [1:48:27<10:53,  1.43s/it]"
     ]
    },
    {
     "name": "stdout",
     "output_type": "stream",
     "text": [
      "output.shape=torch.Size([20, 2423, 8])\n",
      "targets.shape=torch.Size([20, 2423, 8])\n",
      "torch.Size([48460]) torch.Size([48460])\n",
      "12223\n",
      "stacked output.shape=torch.Size([48460, 8])\n",
      "targets.shape=torch.Size([48460, 8])\n",
      "12860\n"
     ]
    },
    {
     "name": "stderr",
     "output_type": "stream",
     "text": [
      " 91%|█████████ | 4546/5000 [1:48:31<11:33,  1.53s/it]"
     ]
    },
    {
     "name": "stdout",
     "output_type": "stream",
     "text": [
      "output.shape=torch.Size([20, 2423, 8])\n",
      "targets.shape=torch.Size([20, 2423, 8])\n",
      "torch.Size([48460]) torch.Size([48460])\n",
      "12223\n",
      "stacked output.shape=torch.Size([48460, 8])\n",
      "targets.shape=torch.Size([48460, 8])\n",
      "12720\n"
     ]
    },
    {
     "name": "stderr",
     "output_type": "stream",
     "text": [
      " 91%|█████████ | 4549/5000 [1:48:37<12:57,  1.72s/it]"
     ]
    },
    {
     "name": "stdout",
     "output_type": "stream",
     "text": [
      "output.shape=torch.Size([20, 2423, 8])\n",
      "targets.shape=torch.Size([20, 2423, 8])\n",
      "torch.Size([48460]) torch.Size([48460])\n",
      "12174\n",
      "stacked output.shape=torch.Size([48460, 8])\n",
      "targets.shape=torch.Size([48460, 8])\n",
      "12800\n"
     ]
    },
    {
     "name": "stderr",
     "output_type": "stream",
     "text": [
      " 91%|█████████ | 4552/5000 [1:48:42<13:34,  1.82s/it]"
     ]
    },
    {
     "name": "stdout",
     "output_type": "stream",
     "text": [
      "output.shape=torch.Size([20, 2423, 8])\n",
      "targets.shape=torch.Size([20, 2423, 8])\n",
      "torch.Size([48460]) torch.Size([48460])\n",
      "12206\n",
      "stacked output.shape=torch.Size([48460, 8])\n",
      "targets.shape=torch.Size([48460, 8])\n",
      "12860\n"
     ]
    },
    {
     "name": "stderr",
     "output_type": "stream",
     "text": [
      " 91%|█████████ | 4555/5000 [1:48:47<12:46,  1.72s/it]"
     ]
    },
    {
     "name": "stdout",
     "output_type": "stream",
     "text": [
      "output.shape=torch.Size([20, 2423, 8])\n",
      "targets.shape=torch.Size([20, 2423, 8])\n",
      "torch.Size([48460]) torch.Size([48460])\n",
      "12205\n",
      "stacked output.shape=torch.Size([48460, 8])\n",
      "targets.shape=torch.Size([48460, 8])\n",
      "12860\n"
     ]
    },
    {
     "name": "stderr",
     "output_type": "stream",
     "text": [
      " 91%|█████████ | 4558/5000 [1:48:52<12:13,  1.66s/it]"
     ]
    },
    {
     "name": "stdout",
     "output_type": "stream",
     "text": [
      "output.shape=torch.Size([20, 2423, 8])\n",
      "targets.shape=torch.Size([20, 2423, 8])\n",
      "torch.Size([48460]) torch.Size([48460])\n",
      "12203\n",
      "stacked output.shape=torch.Size([48460, 8])\n",
      "targets.shape=torch.Size([48460, 8])\n",
      "12580\n"
     ]
    },
    {
     "name": "stderr",
     "output_type": "stream",
     "text": [
      " 91%|█████████ | 4561/5000 [1:48:56<11:27,  1.57s/it]"
     ]
    },
    {
     "name": "stdout",
     "output_type": "stream",
     "text": [
      "output.shape=torch.Size([20, 2423, 8])\n",
      "targets.shape=torch.Size([20, 2423, 8])\n",
      "torch.Size([48460]) torch.Size([48460])\n",
      "12152\n",
      "stacked output.shape=torch.Size([48460, 8])\n",
      "targets.shape=torch.Size([48460, 8])\n",
      "12800\n"
     ]
    },
    {
     "name": "stderr",
     "output_type": "stream",
     "text": [
      " 91%|█████████▏| 4564/5000 [1:49:01<11:19,  1.56s/it]"
     ]
    },
    {
     "name": "stdout",
     "output_type": "stream",
     "text": [
      "output.shape=torch.Size([20, 2423, 8])\n",
      "targets.shape=torch.Size([20, 2423, 8])\n",
      "torch.Size([48460]) torch.Size([48460])\n",
      "12185\n",
      "stacked output.shape=torch.Size([48460, 8])\n",
      "targets.shape=torch.Size([48460, 8])\n",
      "12720\n"
     ]
    },
    {
     "name": "stderr",
     "output_type": "stream",
     "text": [
      " 91%|█████████▏| 4567/5000 [1:49:05<11:20,  1.57s/it]"
     ]
    },
    {
     "name": "stdout",
     "output_type": "stream",
     "text": [
      "output.shape=torch.Size([20, 2423, 8])\n",
      "targets.shape=torch.Size([20, 2423, 8])\n",
      "torch.Size([48460]) torch.Size([48460])\n",
      "12190\n",
      "stacked output.shape=torch.Size([48460, 8])\n",
      "targets.shape=torch.Size([48460, 8])\n",
      "13060\n"
     ]
    },
    {
     "name": "stderr",
     "output_type": "stream",
     "text": [
      " 91%|█████████▏| 4570/5000 [1:49:10<11:28,  1.60s/it]"
     ]
    },
    {
     "name": "stdout",
     "output_type": "stream",
     "text": [
      "output.shape=torch.Size([20, 2423, 8])\n",
      "targets.shape=torch.Size([20, 2423, 8])\n",
      "torch.Size([48460]) torch.Size([48460])\n",
      "12152\n",
      "stacked output.shape=torch.Size([48460, 8])\n",
      "targets.shape=torch.Size([48460, 8])\n",
      "12860\n"
     ]
    },
    {
     "name": "stderr",
     "output_type": "stream",
     "text": [
      " 91%|█████████▏| 4573/5000 [1:49:15<11:14,  1.58s/it]"
     ]
    },
    {
     "name": "stdout",
     "output_type": "stream",
     "text": [
      "output.shape=torch.Size([20, 2423, 8])\n",
      "targets.shape=torch.Size([20, 2423, 8])\n",
      "torch.Size([48460]) torch.Size([48460])\n",
      "12222\n",
      "stacked output.shape=torch.Size([48460, 8])\n",
      "targets.shape=torch.Size([48460, 8])\n",
      "13060\n"
     ]
    },
    {
     "name": "stderr",
     "output_type": "stream",
     "text": [
      " 92%|█████████▏| 4576/5000 [1:49:19<11:20,  1.61s/it]"
     ]
    },
    {
     "name": "stdout",
     "output_type": "stream",
     "text": [
      "output.shape=torch.Size([20, 2423, 8])\n",
      "targets.shape=torch.Size([20, 2423, 8])\n",
      "torch.Size([48460]) torch.Size([48460])\n",
      "12125\n",
      "stacked output.shape=torch.Size([48460, 8])\n",
      "targets.shape=torch.Size([48460, 8])\n",
      "12980\n"
     ]
    },
    {
     "name": "stderr",
     "output_type": "stream",
     "text": [
      " 92%|█████████▏| 4579/5000 [1:49:24<11:10,  1.59s/it]"
     ]
    },
    {
     "name": "stdout",
     "output_type": "stream",
     "text": [
      "output.shape=torch.Size([20, 2423, 8])\n",
      "targets.shape=torch.Size([20, 2423, 8])\n",
      "torch.Size([48460]) torch.Size([48460])\n",
      "12200\n",
      "stacked output.shape=torch.Size([48460, 8])\n",
      "targets.shape=torch.Size([48460, 8])\n",
      "12860\n"
     ]
    },
    {
     "name": "stderr",
     "output_type": "stream",
     "text": [
      " 92%|█████████▏| 4582/5000 [1:49:29<11:13,  1.61s/it]"
     ]
    },
    {
     "name": "stdout",
     "output_type": "stream",
     "text": [
      "output.shape=torch.Size([20, 2423, 8])\n",
      "targets.shape=torch.Size([20, 2423, 8])\n",
      "torch.Size([48460]) torch.Size([48460])\n",
      "12196\n",
      "stacked output.shape=torch.Size([48460, 8])\n",
      "targets.shape=torch.Size([48460, 8])\n",
      "12840\n"
     ]
    },
    {
     "name": "stderr",
     "output_type": "stream",
     "text": [
      " 92%|█████████▏| 4585/5000 [1:49:34<11:15,  1.63s/it]"
     ]
    },
    {
     "name": "stdout",
     "output_type": "stream",
     "text": [
      "output.shape=torch.Size([20, 2423, 8])\n",
      "targets.shape=torch.Size([20, 2423, 8])\n",
      "torch.Size([48460]) torch.Size([48460])\n",
      "12182\n",
      "stacked output.shape=torch.Size([48460, 8])\n",
      "targets.shape=torch.Size([48460, 8])\n",
      "12820\n"
     ]
    },
    {
     "name": "stderr",
     "output_type": "stream",
     "text": [
      " 92%|█████████▏| 4588/5000 [1:49:39<11:14,  1.64s/it]"
     ]
    },
    {
     "name": "stdout",
     "output_type": "stream",
     "text": [
      "output.shape=torch.Size([20, 2423, 8])\n",
      "targets.shape=torch.Size([20, 2423, 8])\n",
      "torch.Size([48460]) torch.Size([48460])\n",
      "12231\n",
      "stacked output.shape=torch.Size([48460, 8])\n",
      "targets.shape=torch.Size([48460, 8])\n",
      "12940\n"
     ]
    },
    {
     "name": "stderr",
     "output_type": "stream",
     "text": [
      " 92%|█████████▏| 4591/5000 [1:49:43<11:10,  1.64s/it]"
     ]
    },
    {
     "name": "stdout",
     "output_type": "stream",
     "text": [
      "output.shape=torch.Size([20, 2423, 8])\n",
      "targets.shape=torch.Size([20, 2423, 8])\n",
      "torch.Size([48460]) torch.Size([48460])\n",
      "12118\n",
      "stacked output.shape=torch.Size([48460, 8])\n",
      "targets.shape=torch.Size([48460, 8])\n",
      "12640\n"
     ]
    },
    {
     "name": "stderr",
     "output_type": "stream",
     "text": [
      " 92%|█████████▏| 4594/5000 [1:49:48<11:01,  1.63s/it]"
     ]
    },
    {
     "name": "stdout",
     "output_type": "stream",
     "text": [
      "output.shape=torch.Size([20, 2423, 8])\n",
      "targets.shape=torch.Size([20, 2423, 8])\n",
      "torch.Size([48460]) torch.Size([48460])\n",
      "12175\n",
      "stacked output.shape=torch.Size([48460, 8])\n",
      "targets.shape=torch.Size([48460, 8])\n",
      "12920\n"
     ]
    },
    {
     "name": "stderr",
     "output_type": "stream",
     "text": [
      " 92%|█████████▏| 4597/5000 [1:49:53<11:29,  1.71s/it]"
     ]
    },
    {
     "name": "stdout",
     "output_type": "stream",
     "text": [
      "output.shape=torch.Size([20, 2423, 8])\n",
      "targets.shape=torch.Size([20, 2423, 8])\n",
      "torch.Size([48460]) torch.Size([48460])\n",
      "12226\n",
      "stacked output.shape=torch.Size([48460, 8])\n",
      "targets.shape=torch.Size([48460, 8])\n",
      "12760\n"
     ]
    },
    {
     "name": "stderr",
     "output_type": "stream",
     "text": [
      " 92%|█████████▏| 4600/5000 [1:49:58<10:31,  1.58s/it]"
     ]
    },
    {
     "name": "stdout",
     "output_type": "stream",
     "text": [
      "output.shape=torch.Size([20, 2423, 8])\n",
      "targets.shape=torch.Size([20, 2423, 8])\n",
      "torch.Size([48460]) torch.Size([48460])\n",
      "12177\n",
      "stacked output.shape=torch.Size([48460, 8])\n",
      "targets.shape=torch.Size([48460, 8])\n",
      "12820\n"
     ]
    },
    {
     "name": "stderr",
     "output_type": "stream",
     "text": [
      " 92%|█████████▏| 4603/5000 [1:50:02<10:18,  1.56s/it]"
     ]
    },
    {
     "name": "stdout",
     "output_type": "stream",
     "text": [
      "output.shape=torch.Size([20, 2423, 8])\n",
      "targets.shape=torch.Size([20, 2423, 8])\n",
      "torch.Size([48460]) torch.Size([48460])\n",
      "12194\n",
      "stacked output.shape=torch.Size([48460, 8])\n",
      "targets.shape=torch.Size([48460, 8])\n",
      "12940\n"
     ]
    },
    {
     "name": "stderr",
     "output_type": "stream",
     "text": [
      " 92%|█████████▏| 4606/5000 [1:50:07<10:11,  1.55s/it]"
     ]
    },
    {
     "name": "stdout",
     "output_type": "stream",
     "text": [
      "output.shape=torch.Size([20, 2423, 8])\n",
      "targets.shape=torch.Size([20, 2423, 8])\n",
      "torch.Size([48460]) torch.Size([48460])\n",
      "12225\n",
      "stacked output.shape=torch.Size([48460, 8])\n",
      "targets.shape=torch.Size([48460, 8])\n",
      "12720\n"
     ]
    },
    {
     "name": "stderr",
     "output_type": "stream",
     "text": [
      " 92%|█████████▏| 4609/5000 [1:50:11<09:57,  1.53s/it]"
     ]
    },
    {
     "name": "stdout",
     "output_type": "stream",
     "text": [
      "output.shape=torch.Size([20, 2423, 8])\n",
      "targets.shape=torch.Size([20, 2423, 8])\n",
      "torch.Size([48460]) torch.Size([48460])\n",
      "12221\n",
      "stacked output.shape=torch.Size([48460, 8])\n",
      "targets.shape=torch.Size([48460, 8])\n",
      "12920\n"
     ]
    },
    {
     "name": "stderr",
     "output_type": "stream",
     "text": [
      " 92%|█████████▏| 4612/5000 [1:50:16<10:11,  1.58s/it]"
     ]
    },
    {
     "name": "stdout",
     "output_type": "stream",
     "text": [
      "output.shape=torch.Size([20, 2423, 8])\n",
      "targets.shape=torch.Size([20, 2423, 8])\n",
      "torch.Size([48460]) torch.Size([48460])\n",
      "12132\n",
      "stacked output.shape=torch.Size([48460, 8])\n",
      "targets.shape=torch.Size([48460, 8])\n",
      "12700\n"
     ]
    },
    {
     "name": "stderr",
     "output_type": "stream",
     "text": [
      " 92%|█████████▏| 4615/5000 [1:50:20<09:52,  1.54s/it]"
     ]
    },
    {
     "name": "stdout",
     "output_type": "stream",
     "text": [
      "output.shape=torch.Size([20, 2423, 8])\n",
      "targets.shape=torch.Size([20, 2423, 8])\n",
      "torch.Size([48460]) torch.Size([48460])\n",
      "12178\n",
      "stacked output.shape=torch.Size([48460, 8])\n",
      "targets.shape=torch.Size([48460, 8])\n",
      "12920\n"
     ]
    },
    {
     "name": "stderr",
     "output_type": "stream",
     "text": [
      " 92%|█████████▏| 4618/5000 [1:50:25<10:11,  1.60s/it]"
     ]
    },
    {
     "name": "stdout",
     "output_type": "stream",
     "text": [
      "output.shape=torch.Size([20, 2423, 8])\n",
      "targets.shape=torch.Size([20, 2423, 8])\n",
      "torch.Size([48460]) torch.Size([48460])\n",
      "12234\n",
      "stacked output.shape=torch.Size([48460, 8])\n",
      "targets.shape=torch.Size([48460, 8])\n",
      "12780\n"
     ]
    },
    {
     "name": "stderr",
     "output_type": "stream",
     "text": [
      " 92%|█████████▏| 4621/5000 [1:50:30<10:20,  1.64s/it]"
     ]
    },
    {
     "name": "stdout",
     "output_type": "stream",
     "text": [
      "output.shape=torch.Size([20, 2423, 8])\n",
      "targets.shape=torch.Size([20, 2423, 8])\n",
      "torch.Size([48460]) torch.Size([48460])\n",
      "12259\n",
      "stacked output.shape=torch.Size([48460, 8])\n",
      "targets.shape=torch.Size([48460, 8])\n",
      "12740\n"
     ]
    },
    {
     "name": "stderr",
     "output_type": "stream",
     "text": [
      " 92%|█████████▏| 4624/5000 [1:50:35<10:19,  1.65s/it]"
     ]
    },
    {
     "name": "stdout",
     "output_type": "stream",
     "text": [
      "output.shape=torch.Size([20, 2423, 8])\n",
      "targets.shape=torch.Size([20, 2423, 8])\n",
      "torch.Size([48460]) torch.Size([48460])\n",
      "12222\n",
      "stacked output.shape=torch.Size([48460, 8])\n",
      "targets.shape=torch.Size([48460, 8])\n",
      "12780\n"
     ]
    },
    {
     "name": "stderr",
     "output_type": "stream",
     "text": [
      " 93%|█████████▎| 4627/5000 [1:50:40<10:08,  1.63s/it]"
     ]
    },
    {
     "name": "stdout",
     "output_type": "stream",
     "text": [
      "output.shape=torch.Size([20, 2423, 8])\n",
      "targets.shape=torch.Size([20, 2423, 8])\n",
      "torch.Size([48460]) torch.Size([48460])\n",
      "12155\n",
      "stacked output.shape=torch.Size([48460, 8])\n",
      "targets.shape=torch.Size([48460, 8])\n",
      "12800\n"
     ]
    },
    {
     "name": "stderr",
     "output_type": "stream",
     "text": [
      " 93%|█████████▎| 4630/5000 [1:50:44<09:59,  1.62s/it]"
     ]
    },
    {
     "name": "stdout",
     "output_type": "stream",
     "text": [
      "output.shape=torch.Size([20, 2423, 8])\n",
      "targets.shape=torch.Size([20, 2423, 8])\n",
      "torch.Size([48460]) torch.Size([48460])\n",
      "12193\n",
      "stacked output.shape=torch.Size([48460, 8])\n",
      "targets.shape=torch.Size([48460, 8])\n",
      "12840\n"
     ]
    },
    {
     "name": "stderr",
     "output_type": "stream",
     "text": [
      " 93%|█████████▎| 4633/5000 [1:50:49<09:49,  1.61s/it]"
     ]
    },
    {
     "name": "stdout",
     "output_type": "stream",
     "text": [
      "output.shape=torch.Size([20, 2423, 8])\n",
      "targets.shape=torch.Size([20, 2423, 8])\n",
      "torch.Size([48460]) torch.Size([48460])\n",
      "12228\n",
      "stacked output.shape=torch.Size([48460, 8])\n",
      "targets.shape=torch.Size([48460, 8])\n",
      "12960\n"
     ]
    },
    {
     "name": "stderr",
     "output_type": "stream",
     "text": [
      " 93%|█████████▎| 4636/5000 [1:50:54<09:49,  1.62s/it]"
     ]
    },
    {
     "name": "stdout",
     "output_type": "stream",
     "text": [
      "output.shape=torch.Size([20, 2423, 8])\n",
      "targets.shape=torch.Size([20, 2423, 8])\n",
      "torch.Size([48460]) torch.Size([48460])\n",
      "12197\n",
      "stacked output.shape=torch.Size([48460, 8])\n",
      "targets.shape=torch.Size([48460, 8])\n",
      "12860\n"
     ]
    },
    {
     "name": "stderr",
     "output_type": "stream",
     "text": [
      " 93%|█████████▎| 4639/5000 [1:50:59<09:43,  1.62s/it]"
     ]
    },
    {
     "name": "stdout",
     "output_type": "stream",
     "text": [
      "output.shape=torch.Size([20, 2423, 8])\n",
      "targets.shape=torch.Size([20, 2423, 8])\n",
      "torch.Size([48460]) torch.Size([48460])\n",
      "12196\n",
      "stacked output.shape=torch.Size([48460, 8])\n",
      "targets.shape=torch.Size([48460, 8])\n",
      "12680\n"
     ]
    },
    {
     "name": "stderr",
     "output_type": "stream",
     "text": [
      " 93%|█████████▎| 4642/5000 [1:51:03<09:34,  1.61s/it]"
     ]
    },
    {
     "name": "stdout",
     "output_type": "stream",
     "text": [
      "output.shape=torch.Size([20, 2423, 8])\n",
      "targets.shape=torch.Size([20, 2423, 8])\n",
      "torch.Size([48460]) torch.Size([48460])\n",
      "12142\n",
      "stacked output.shape=torch.Size([48460, 8])\n",
      "targets.shape=torch.Size([48460, 8])\n",
      "12820\n"
     ]
    },
    {
     "name": "stderr",
     "output_type": "stream",
     "text": [
      " 93%|█████████▎| 4645/5000 [1:51:08<09:09,  1.55s/it]"
     ]
    },
    {
     "name": "stdout",
     "output_type": "stream",
     "text": [
      "output.shape=torch.Size([20, 2423, 8])\n",
      "targets.shape=torch.Size([20, 2423, 8])\n",
      "torch.Size([48460]) torch.Size([48460])\n",
      "12238\n",
      "stacked output.shape=torch.Size([48460, 8])\n",
      "targets.shape=torch.Size([48460, 8])\n",
      "12880\n"
     ]
    },
    {
     "name": "stderr",
     "output_type": "stream",
     "text": [
      " 93%|█████████▎| 4648/5000 [1:51:12<09:12,  1.57s/it]"
     ]
    },
    {
     "name": "stdout",
     "output_type": "stream",
     "text": [
      "output.shape=torch.Size([20, 2423, 8])\n",
      "targets.shape=torch.Size([20, 2423, 8])\n",
      "torch.Size([48460]) torch.Size([48460])\n",
      "12230\n",
      "stacked output.shape=torch.Size([48460, 8])\n",
      "targets.shape=torch.Size([48460, 8])\n",
      "13000\n"
     ]
    },
    {
     "name": "stderr",
     "output_type": "stream",
     "text": [
      " 93%|█████████▎| 4651/5000 [1:51:17<09:00,  1.55s/it]"
     ]
    },
    {
     "name": "stdout",
     "output_type": "stream",
     "text": [
      "output.shape=torch.Size([20, 2423, 8])\n",
      "targets.shape=torch.Size([20, 2423, 8])\n",
      "torch.Size([48460]) torch.Size([48460])\n",
      "12177\n",
      "stacked output.shape=torch.Size([48460, 8])\n",
      "targets.shape=torch.Size([48460, 8])\n",
      "12800\n"
     ]
    },
    {
     "name": "stderr",
     "output_type": "stream",
     "text": [
      " 93%|█████████▎| 4654/5000 [1:51:21<08:39,  1.50s/it]"
     ]
    },
    {
     "name": "stdout",
     "output_type": "stream",
     "text": [
      "output.shape=torch.Size([20, 2423, 8])\n",
      "targets.shape=torch.Size([20, 2423, 8])\n",
      "torch.Size([48460]) torch.Size([48460])\n",
      "12108\n",
      "stacked output.shape=torch.Size([48460, 8])\n",
      "targets.shape=torch.Size([48460, 8])\n",
      "13080\n"
     ]
    },
    {
     "name": "stderr",
     "output_type": "stream",
     "text": [
      " 93%|█████████▎| 4657/5000 [1:51:26<08:35,  1.50s/it]"
     ]
    },
    {
     "name": "stdout",
     "output_type": "stream",
     "text": [
      "output.shape=torch.Size([20, 2423, 8])\n",
      "targets.shape=torch.Size([20, 2423, 8])\n",
      "torch.Size([48460]) torch.Size([48460])\n",
      "12228\n",
      "stacked output.shape=torch.Size([48460, 8])\n",
      "targets.shape=torch.Size([48460, 8])\n",
      "13020\n"
     ]
    },
    {
     "name": "stderr",
     "output_type": "stream",
     "text": [
      " 93%|█████████▎| 4660/5000 [1:51:30<08:26,  1.49s/it]"
     ]
    },
    {
     "name": "stdout",
     "output_type": "stream",
     "text": [
      "output.shape=torch.Size([20, 2423, 8])\n",
      "targets.shape=torch.Size([20, 2423, 8])\n",
      "torch.Size([48460]) torch.Size([48460])\n",
      "12178\n",
      "stacked output.shape=torch.Size([48460, 8])\n",
      "targets.shape=torch.Size([48460, 8])\n",
      "12820\n"
     ]
    },
    {
     "name": "stderr",
     "output_type": "stream",
     "text": [
      " 93%|█████████▎| 4663/5000 [1:51:34<08:28,  1.51s/it]"
     ]
    },
    {
     "name": "stdout",
     "output_type": "stream",
     "text": [
      "output.shape=torch.Size([20, 2423, 8])\n",
      "targets.shape=torch.Size([20, 2423, 8])\n",
      "torch.Size([48460]) torch.Size([48460])\n",
      "12203\n",
      "stacked output.shape=torch.Size([48460, 8])\n",
      "targets.shape=torch.Size([48460, 8])\n",
      "12980\n"
     ]
    },
    {
     "name": "stderr",
     "output_type": "stream",
     "text": [
      " 93%|█████████▎| 4666/5000 [1:51:39<08:24,  1.51s/it]"
     ]
    },
    {
     "name": "stdout",
     "output_type": "stream",
     "text": [
      "output.shape=torch.Size([20, 2423, 8])\n",
      "targets.shape=torch.Size([20, 2423, 8])\n",
      "torch.Size([48460]) torch.Size([48460])\n",
      "12235\n",
      "stacked output.shape=torch.Size([48460, 8])\n",
      "targets.shape=torch.Size([48460, 8])\n",
      "12820\n"
     ]
    },
    {
     "name": "stderr",
     "output_type": "stream",
     "text": [
      " 93%|█████████▎| 4669/5000 [1:51:43<08:15,  1.50s/it]"
     ]
    },
    {
     "name": "stdout",
     "output_type": "stream",
     "text": [
      "output.shape=torch.Size([20, 2423, 8])\n",
      "targets.shape=torch.Size([20, 2423, 8])\n",
      "torch.Size([48460]) torch.Size([48460])\n",
      "12205\n",
      "stacked output.shape=torch.Size([48460, 8])\n",
      "targets.shape=torch.Size([48460, 8])\n",
      "12760\n"
     ]
    },
    {
     "name": "stderr",
     "output_type": "stream",
     "text": [
      " 93%|█████████▎| 4672/5000 [1:51:47<08:06,  1.48s/it]"
     ]
    },
    {
     "name": "stdout",
     "output_type": "stream",
     "text": [
      "output.shape=torch.Size([20, 2423, 8])\n",
      "targets.shape=torch.Size([20, 2423, 8])\n",
      "torch.Size([48460]) torch.Size([48460])\n",
      "12183\n",
      "stacked output.shape=torch.Size([48460, 8])\n",
      "targets.shape=torch.Size([48460, 8])\n",
      "12820\n"
     ]
    },
    {
     "name": "stderr",
     "output_type": "stream",
     "text": [
      " 94%|█████████▎| 4675/5000 [1:51:52<08:03,  1.49s/it]"
     ]
    },
    {
     "name": "stdout",
     "output_type": "stream",
     "text": [
      "output.shape=torch.Size([20, 2423, 8])\n",
      "targets.shape=torch.Size([20, 2423, 8])\n",
      "torch.Size([48460]) torch.Size([48460])\n",
      "12223\n",
      "stacked output.shape=torch.Size([48460, 8])\n",
      "targets.shape=torch.Size([48460, 8])\n",
      "12760\n"
     ]
    },
    {
     "name": "stderr",
     "output_type": "stream",
     "text": [
      " 94%|█████████▎| 4678/5000 [1:51:56<08:12,  1.53s/it]"
     ]
    },
    {
     "name": "stdout",
     "output_type": "stream",
     "text": [
      "output.shape=torch.Size([20, 2423, 8])\n",
      "targets.shape=torch.Size([20, 2423, 8])\n",
      "torch.Size([48460]) torch.Size([48460])\n",
      "12258\n",
      "stacked output.shape=torch.Size([48460, 8])\n",
      "targets.shape=torch.Size([48460, 8])\n",
      "13040\n"
     ]
    },
    {
     "name": "stderr",
     "output_type": "stream",
     "text": [
      " 94%|█████████▎| 4681/5000 [1:52:01<07:57,  1.50s/it]"
     ]
    },
    {
     "name": "stdout",
     "output_type": "stream",
     "text": [
      "output.shape=torch.Size([20, 2423, 8])\n",
      "targets.shape=torch.Size([20, 2423, 8])\n",
      "torch.Size([48460]) torch.Size([48460])\n",
      "12195\n",
      "stacked output.shape=torch.Size([48460, 8])\n",
      "targets.shape=torch.Size([48460, 8])\n",
      "12680\n"
     ]
    },
    {
     "name": "stderr",
     "output_type": "stream",
     "text": [
      " 94%|█████████▎| 4684/5000 [1:52:05<07:49,  1.49s/it]"
     ]
    },
    {
     "name": "stdout",
     "output_type": "stream",
     "text": [
      "output.shape=torch.Size([20, 2423, 8])\n",
      "targets.shape=torch.Size([20, 2423, 8])\n",
      "torch.Size([48460]) torch.Size([48460])\n",
      "12174\n",
      "stacked output.shape=torch.Size([48460, 8])\n",
      "targets.shape=torch.Size([48460, 8])\n",
      "12880\n"
     ]
    },
    {
     "name": "stderr",
     "output_type": "stream",
     "text": [
      " 94%|█████████▎| 4687/5000 [1:52:09<07:43,  1.48s/it]"
     ]
    },
    {
     "name": "stdout",
     "output_type": "stream",
     "text": [
      "output.shape=torch.Size([20, 2423, 8])\n",
      "targets.shape=torch.Size([20, 2423, 8])\n",
      "torch.Size([48460]) torch.Size([48460])\n",
      "12176\n",
      "stacked output.shape=torch.Size([48460, 8])\n",
      "targets.shape=torch.Size([48460, 8])\n",
      "12940\n"
     ]
    },
    {
     "name": "stderr",
     "output_type": "stream",
     "text": [
      " 94%|█████████▍| 4690/5000 [1:52:14<07:36,  1.47s/it]"
     ]
    },
    {
     "name": "stdout",
     "output_type": "stream",
     "text": [
      "output.shape=torch.Size([20, 2423, 8])\n",
      "targets.shape=torch.Size([20, 2423, 8])\n",
      "torch.Size([48460]) torch.Size([48460])\n",
      "12179\n",
      "stacked output.shape=torch.Size([48460, 8])\n",
      "targets.shape=torch.Size([48460, 8])\n",
      "12940\n"
     ]
    },
    {
     "name": "stderr",
     "output_type": "stream",
     "text": [
      " 94%|█████████▍| 4693/5000 [1:52:18<07:30,  1.47s/it]"
     ]
    },
    {
     "name": "stdout",
     "output_type": "stream",
     "text": [
      "output.shape=torch.Size([20, 2423, 8])\n",
      "targets.shape=torch.Size([20, 2423, 8])\n",
      "torch.Size([48460]) torch.Size([48460])\n",
      "12156\n",
      "stacked output.shape=torch.Size([48460, 8])\n",
      "targets.shape=torch.Size([48460, 8])\n",
      "13000\n"
     ]
    },
    {
     "name": "stderr",
     "output_type": "stream",
     "text": [
      " 94%|█████████▍| 4696/5000 [1:52:22<07:35,  1.50s/it]"
     ]
    },
    {
     "name": "stdout",
     "output_type": "stream",
     "text": [
      "output.shape=torch.Size([20, 2423, 8])\n",
      "targets.shape=torch.Size([20, 2423, 8])\n",
      "torch.Size([48460]) torch.Size([48460])\n",
      "12208\n",
      "stacked output.shape=torch.Size([48460, 8])\n",
      "targets.shape=torch.Size([48460, 8])\n",
      "13020\n"
     ]
    },
    {
     "name": "stderr",
     "output_type": "stream",
     "text": [
      " 94%|█████████▍| 4699/5000 [1:52:27<07:32,  1.50s/it]"
     ]
    },
    {
     "name": "stdout",
     "output_type": "stream",
     "text": [
      "output.shape=torch.Size([20, 2423, 8])\n",
      "targets.shape=torch.Size([20, 2423, 8])\n",
      "torch.Size([48460]) torch.Size([48460])\n",
      "12214\n",
      "stacked output.shape=torch.Size([48460, 8])\n",
      "targets.shape=torch.Size([48460, 8])\n",
      "12760\n"
     ]
    },
    {
     "name": "stderr",
     "output_type": "stream",
     "text": [
      " 94%|█████████▍| 4702/5000 [1:52:31<07:29,  1.51s/it]"
     ]
    },
    {
     "name": "stdout",
     "output_type": "stream",
     "text": [
      "output.shape=torch.Size([20, 2423, 8])\n",
      "targets.shape=torch.Size([20, 2423, 8])\n",
      "torch.Size([48460]) torch.Size([48460])\n",
      "12209\n",
      "stacked output.shape=torch.Size([48460, 8])\n",
      "targets.shape=torch.Size([48460, 8])\n",
      "12660\n"
     ]
    },
    {
     "name": "stderr",
     "output_type": "stream",
     "text": [
      " 94%|█████████▍| 4705/5000 [1:52:36<07:20,  1.49s/it]"
     ]
    },
    {
     "name": "stdout",
     "output_type": "stream",
     "text": [
      "output.shape=torch.Size([20, 2423, 8])\n",
      "targets.shape=torch.Size([20, 2423, 8])\n",
      "torch.Size([48460]) torch.Size([48460])\n",
      "12146\n",
      "stacked output.shape=torch.Size([48460, 8])\n",
      "targets.shape=torch.Size([48460, 8])\n",
      "12560\n"
     ]
    },
    {
     "name": "stderr",
     "output_type": "stream",
     "text": [
      " 94%|█████████▍| 4708/5000 [1:52:40<07:14,  1.49s/it]"
     ]
    },
    {
     "name": "stdout",
     "output_type": "stream",
     "text": [
      "output.shape=torch.Size([20, 2423, 8])\n",
      "targets.shape=torch.Size([20, 2423, 8])\n",
      "torch.Size([48460]) torch.Size([48460])\n",
      "12183\n",
      "stacked output.shape=torch.Size([48460, 8])\n",
      "targets.shape=torch.Size([48460, 8])\n",
      "12840\n"
     ]
    },
    {
     "name": "stderr",
     "output_type": "stream",
     "text": [
      " 94%|█████████▍| 4711/5000 [1:52:44<07:12,  1.50s/it]"
     ]
    },
    {
     "name": "stdout",
     "output_type": "stream",
     "text": [
      "output.shape=torch.Size([20, 2423, 8])\n",
      "targets.shape=torch.Size([20, 2423, 8])\n",
      "torch.Size([48460]) torch.Size([48460])\n",
      "12180\n",
      "stacked output.shape=torch.Size([48460, 8])\n",
      "targets.shape=torch.Size([48460, 8])\n",
      "12780\n"
     ]
    },
    {
     "name": "stderr",
     "output_type": "stream",
     "text": [
      " 94%|█████████▍| 4714/5000 [1:52:49<07:05,  1.49s/it]"
     ]
    },
    {
     "name": "stdout",
     "output_type": "stream",
     "text": [
      "output.shape=torch.Size([20, 2423, 8])\n",
      "targets.shape=torch.Size([20, 2423, 8])\n",
      "torch.Size([48460]) torch.Size([48460])\n",
      "12184\n",
      "stacked output.shape=torch.Size([48460, 8])\n",
      "targets.shape=torch.Size([48460, 8])\n",
      "12660\n"
     ]
    },
    {
     "name": "stderr",
     "output_type": "stream",
     "text": [
      " 94%|█████████▍| 4717/5000 [1:52:53<07:05,  1.51s/it]"
     ]
    },
    {
     "name": "stdout",
     "output_type": "stream",
     "text": [
      "output.shape=torch.Size([20, 2423, 8])\n",
      "targets.shape=torch.Size([20, 2423, 8])\n",
      "torch.Size([48460]) torch.Size([48460])\n",
      "12163\n",
      "stacked output.shape=torch.Size([48460, 8])\n",
      "targets.shape=torch.Size([48460, 8])\n",
      "12720\n"
     ]
    },
    {
     "name": "stderr",
     "output_type": "stream",
     "text": [
      " 94%|█████████▍| 4720/5000 [1:52:58<06:57,  1.49s/it]"
     ]
    },
    {
     "name": "stdout",
     "output_type": "stream",
     "text": [
      "output.shape=torch.Size([20, 2423, 8])\n",
      "targets.shape=torch.Size([20, 2423, 8])\n",
      "torch.Size([48460]) torch.Size([48460])\n",
      "12154\n",
      "stacked output.shape=torch.Size([48460, 8])\n",
      "targets.shape=torch.Size([48460, 8])\n",
      "12720\n"
     ]
    },
    {
     "name": "stderr",
     "output_type": "stream",
     "text": [
      " 94%|█████████▍| 4723/5000 [1:53:02<06:54,  1.50s/it]"
     ]
    },
    {
     "name": "stdout",
     "output_type": "stream",
     "text": [
      "output.shape=torch.Size([20, 2423, 8])\n",
      "targets.shape=torch.Size([20, 2423, 8])\n",
      "torch.Size([48460]) torch.Size([48460])\n",
      "12203\n",
      "stacked output.shape=torch.Size([48460, 8])\n",
      "targets.shape=torch.Size([48460, 8])\n",
      "12680\n"
     ]
    },
    {
     "name": "stderr",
     "output_type": "stream",
     "text": [
      " 95%|█████████▍| 4726/5000 [1:53:06<06:55,  1.52s/it]"
     ]
    },
    {
     "name": "stdout",
     "output_type": "stream",
     "text": [
      "output.shape=torch.Size([20, 2423, 8])\n",
      "targets.shape=torch.Size([20, 2423, 8])\n",
      "torch.Size([48460]) torch.Size([48460])\n",
      "12241\n",
      "stacked output.shape=torch.Size([48460, 8])\n",
      "targets.shape=torch.Size([48460, 8])\n",
      "12720\n"
     ]
    },
    {
     "name": "stderr",
     "output_type": "stream",
     "text": [
      " 95%|█████████▍| 4729/5000 [1:53:11<06:55,  1.53s/it]"
     ]
    },
    {
     "name": "stdout",
     "output_type": "stream",
     "text": [
      "output.shape=torch.Size([20, 2423, 8])\n",
      "targets.shape=torch.Size([20, 2423, 8])\n",
      "torch.Size([48460]) torch.Size([48460])\n",
      "12203\n",
      "stacked output.shape=torch.Size([48460, 8])\n",
      "targets.shape=torch.Size([48460, 8])\n",
      "12900\n"
     ]
    },
    {
     "name": "stderr",
     "output_type": "stream",
     "text": [
      " 95%|█████████▍| 4732/5000 [1:53:15<06:41,  1.50s/it]"
     ]
    },
    {
     "name": "stdout",
     "output_type": "stream",
     "text": [
      "output.shape=torch.Size([20, 2423, 8])\n",
      "targets.shape=torch.Size([20, 2423, 8])\n",
      "torch.Size([48460]) torch.Size([48460])\n",
      "12171\n",
      "stacked output.shape=torch.Size([48460, 8])\n",
      "targets.shape=torch.Size([48460, 8])\n",
      "12740\n"
     ]
    },
    {
     "name": "stderr",
     "output_type": "stream",
     "text": [
      " 95%|█████████▍| 4735/5000 [1:53:20<06:29,  1.47s/it]"
     ]
    },
    {
     "name": "stdout",
     "output_type": "stream",
     "text": [
      "output.shape=torch.Size([20, 2423, 8])\n",
      "targets.shape=torch.Size([20, 2423, 8])\n",
      "torch.Size([48460]) torch.Size([48460])\n",
      "12233\n",
      "stacked output.shape=torch.Size([48460, 8])\n",
      "targets.shape=torch.Size([48460, 8])\n",
      "12820\n"
     ]
    },
    {
     "name": "stderr",
     "output_type": "stream",
     "text": [
      " 95%|█████████▍| 4738/5000 [1:53:24<06:25,  1.47s/it]"
     ]
    },
    {
     "name": "stdout",
     "output_type": "stream",
     "text": [
      "output.shape=torch.Size([20, 2423, 8])\n",
      "targets.shape=torch.Size([20, 2423, 8])\n",
      "torch.Size([48460]) torch.Size([48460])\n",
      "12221\n",
      "stacked output.shape=torch.Size([48460, 8])\n",
      "targets.shape=torch.Size([48460, 8])\n",
      "12980\n"
     ]
    },
    {
     "name": "stderr",
     "output_type": "stream",
     "text": [
      " 95%|█████████▍| 4741/5000 [1:53:28<06:17,  1.46s/it]"
     ]
    },
    {
     "name": "stdout",
     "output_type": "stream",
     "text": [
      "output.shape=torch.Size([20, 2423, 8])\n",
      "targets.shape=torch.Size([20, 2423, 8])\n",
      "torch.Size([48460]) torch.Size([48460])\n",
      "12199\n",
      "stacked output.shape=torch.Size([48460, 8])\n",
      "targets.shape=torch.Size([48460, 8])\n",
      "12640\n"
     ]
    },
    {
     "name": "stderr",
     "output_type": "stream",
     "text": [
      " 95%|█████████▍| 4744/5000 [1:53:32<06:13,  1.46s/it]"
     ]
    },
    {
     "name": "stdout",
     "output_type": "stream",
     "text": [
      "output.shape=torch.Size([20, 2423, 8])\n",
      "targets.shape=torch.Size([20, 2423, 8])\n",
      "torch.Size([48460]) torch.Size([48460])\n",
      "12132\n",
      "stacked output.shape=torch.Size([48460, 8])\n",
      "targets.shape=torch.Size([48460, 8])\n",
      "12760\n"
     ]
    },
    {
     "name": "stderr",
     "output_type": "stream",
     "text": [
      " 95%|█████████▍| 4747/5000 [1:53:37<06:09,  1.46s/it]"
     ]
    },
    {
     "name": "stdout",
     "output_type": "stream",
     "text": [
      "output.shape=torch.Size([20, 2423, 8])\n",
      "targets.shape=torch.Size([20, 2423, 8])\n",
      "torch.Size([48460]) torch.Size([48460])\n",
      "12124\n",
      "stacked output.shape=torch.Size([48460, 8])\n",
      "targets.shape=torch.Size([48460, 8])\n",
      "12800\n"
     ]
    },
    {
     "name": "stderr",
     "output_type": "stream",
     "text": [
      " 95%|█████████▌| 4750/5000 [1:53:41<06:12,  1.49s/it]"
     ]
    },
    {
     "name": "stdout",
     "output_type": "stream",
     "text": [
      "output.shape=torch.Size([20, 2423, 8])\n",
      "targets.shape=torch.Size([20, 2423, 8])\n",
      "torch.Size([48460]) torch.Size([48460])\n",
      "12163\n",
      "stacked output.shape=torch.Size([48460, 8])\n",
      "targets.shape=torch.Size([48460, 8])\n",
      "12860\n"
     ]
    },
    {
     "name": "stderr",
     "output_type": "stream",
     "text": [
      " 95%|█████████▌| 4753/5000 [1:53:45<06:01,  1.46s/it]"
     ]
    },
    {
     "name": "stdout",
     "output_type": "stream",
     "text": [
      "output.shape=torch.Size([20, 2423, 8])\n",
      "targets.shape=torch.Size([20, 2423, 8])\n",
      "torch.Size([48460]) torch.Size([48460])\n",
      "12221\n",
      "stacked output.shape=torch.Size([48460, 8])\n",
      "targets.shape=torch.Size([48460, 8])\n",
      "12820\n"
     ]
    },
    {
     "name": "stderr",
     "output_type": "stream",
     "text": [
      " 95%|█████████▌| 4756/5000 [1:53:50<06:01,  1.48s/it]"
     ]
    },
    {
     "name": "stdout",
     "output_type": "stream",
     "text": [
      "output.shape=torch.Size([20, 2423, 8])\n",
      "targets.shape=torch.Size([20, 2423, 8])\n",
      "torch.Size([48460]) torch.Size([48460])\n",
      "12173\n",
      "stacked output.shape=torch.Size([48460, 8])\n",
      "targets.shape=torch.Size([48460, 8])\n",
      "12600\n"
     ]
    },
    {
     "name": "stderr",
     "output_type": "stream",
     "text": [
      " 95%|█████████▌| 4759/5000 [1:53:54<05:54,  1.47s/it]"
     ]
    },
    {
     "name": "stdout",
     "output_type": "stream",
     "text": [
      "output.shape=torch.Size([20, 2423, 8])\n",
      "targets.shape=torch.Size([20, 2423, 8])\n",
      "torch.Size([48460]) torch.Size([48460])\n",
      "12208\n",
      "stacked output.shape=torch.Size([48460, 8])\n",
      "targets.shape=torch.Size([48460, 8])\n",
      "12760\n"
     ]
    },
    {
     "name": "stderr",
     "output_type": "stream",
     "text": [
      " 95%|█████████▌| 4762/5000 [1:53:58<05:49,  1.47s/it]"
     ]
    },
    {
     "name": "stdout",
     "output_type": "stream",
     "text": [
      "output.shape=torch.Size([20, 2423, 8])\n",
      "targets.shape=torch.Size([20, 2423, 8])\n",
      "torch.Size([48460]) torch.Size([48460])\n",
      "12196\n",
      "stacked output.shape=torch.Size([48460, 8])\n",
      "targets.shape=torch.Size([48460, 8])\n",
      "12600\n"
     ]
    },
    {
     "name": "stderr",
     "output_type": "stream",
     "text": [
      " 95%|█████████▌| 4765/5000 [1:54:03<05:44,  1.46s/it]"
     ]
    },
    {
     "name": "stdout",
     "output_type": "stream",
     "text": [
      "output.shape=torch.Size([20, 2423, 8])\n",
      "targets.shape=torch.Size([20, 2423, 8])\n",
      "torch.Size([48460]) torch.Size([48460])\n",
      "12211\n",
      "stacked output.shape=torch.Size([48460, 8])\n",
      "targets.shape=torch.Size([48460, 8])\n",
      "12760\n"
     ]
    },
    {
     "name": "stderr",
     "output_type": "stream",
     "text": [
      " 95%|█████████▌| 4768/5000 [1:54:07<05:39,  1.46s/it]"
     ]
    },
    {
     "name": "stdout",
     "output_type": "stream",
     "text": [
      "output.shape=torch.Size([20, 2423, 8])\n",
      "targets.shape=torch.Size([20, 2423, 8])\n",
      "torch.Size([48460]) torch.Size([48460])\n",
      "12121\n",
      "stacked output.shape=torch.Size([48460, 8])\n",
      "targets.shape=torch.Size([48460, 8])\n",
      "12760\n"
     ]
    },
    {
     "name": "stderr",
     "output_type": "stream",
     "text": [
      " 95%|█████████▌| 4771/5000 [1:54:11<05:42,  1.50s/it]"
     ]
    },
    {
     "name": "stdout",
     "output_type": "stream",
     "text": [
      "output.shape=torch.Size([20, 2423, 8])\n",
      "targets.shape=torch.Size([20, 2423, 8])\n",
      "torch.Size([48460]) torch.Size([48460])\n",
      "12154\n",
      "stacked output.shape=torch.Size([48460, 8])\n",
      "targets.shape=torch.Size([48460, 8])\n",
      "12840\n"
     ]
    },
    {
     "name": "stderr",
     "output_type": "stream",
     "text": [
      " 95%|█████████▌| 4774/5000 [1:54:16<05:45,  1.53s/it]"
     ]
    },
    {
     "name": "stdout",
     "output_type": "stream",
     "text": [
      "output.shape=torch.Size([20, 2423, 8])\n",
      "targets.shape=torch.Size([20, 2423, 8])\n",
      "torch.Size([48460]) torch.Size([48460])\n",
      "12230\n",
      "stacked output.shape=torch.Size([48460, 8])\n",
      "targets.shape=torch.Size([48460, 8])\n",
      "12860\n"
     ]
    },
    {
     "name": "stderr",
     "output_type": "stream",
     "text": [
      " 96%|█████████▌| 4777/5000 [1:54:20<05:36,  1.51s/it]"
     ]
    },
    {
     "name": "stdout",
     "output_type": "stream",
     "text": [
      "output.shape=torch.Size([20, 2423, 8])\n",
      "targets.shape=torch.Size([20, 2423, 8])\n",
      "torch.Size([48460]) torch.Size([48460])\n",
      "12191\n",
      "stacked output.shape=torch.Size([48460, 8])\n",
      "targets.shape=torch.Size([48460, 8])\n",
      "12780\n"
     ]
    },
    {
     "name": "stderr",
     "output_type": "stream",
     "text": [
      " 96%|█████████▌| 4780/5000 [1:54:25<05:47,  1.58s/it]"
     ]
    },
    {
     "name": "stdout",
     "output_type": "stream",
     "text": [
      "output.shape=torch.Size([20, 2423, 8])\n",
      "targets.shape=torch.Size([20, 2423, 8])\n",
      "torch.Size([48460]) torch.Size([48460])\n",
      "12170\n",
      "stacked output.shape=torch.Size([48460, 8])\n",
      "targets.shape=torch.Size([48460, 8])\n",
      "12660\n"
     ]
    },
    {
     "name": "stderr",
     "output_type": "stream",
     "text": [
      " 96%|█████████▌| 4783/5000 [1:54:30<05:43,  1.58s/it]"
     ]
    },
    {
     "name": "stdout",
     "output_type": "stream",
     "text": [
      "output.shape=torch.Size([20, 2423, 8])\n",
      "targets.shape=torch.Size([20, 2423, 8])\n",
      "torch.Size([48460]) torch.Size([48460])\n",
      "12231\n",
      "stacked output.shape=torch.Size([48460, 8])\n",
      "targets.shape=torch.Size([48460, 8])\n",
      "12920\n"
     ]
    },
    {
     "name": "stderr",
     "output_type": "stream",
     "text": [
      " 96%|█████████▌| 4786/5000 [1:54:34<05:31,  1.55s/it]"
     ]
    },
    {
     "name": "stdout",
     "output_type": "stream",
     "text": [
      "output.shape=torch.Size([20, 2423, 8])\n",
      "targets.shape=torch.Size([20, 2423, 8])\n",
      "torch.Size([48460]) torch.Size([48460])\n",
      "12267\n",
      "stacked output.shape=torch.Size([48460, 8])\n",
      "targets.shape=torch.Size([48460, 8])\n",
      "12980\n"
     ]
    },
    {
     "name": "stderr",
     "output_type": "stream",
     "text": [
      " 96%|█████████▌| 4789/5000 [1:54:39<05:25,  1.54s/it]"
     ]
    },
    {
     "name": "stdout",
     "output_type": "stream",
     "text": [
      "output.shape=torch.Size([20, 2423, 8])\n",
      "targets.shape=torch.Size([20, 2423, 8])\n",
      "torch.Size([48460]) torch.Size([48460])\n",
      "12212\n",
      "stacked output.shape=torch.Size([48460, 8])\n",
      "targets.shape=torch.Size([48460, 8])\n",
      "12820\n"
     ]
    },
    {
     "name": "stderr",
     "output_type": "stream",
     "text": [
      " 96%|█████████▌| 4792/5000 [1:54:43<05:18,  1.53s/it]"
     ]
    },
    {
     "name": "stdout",
     "output_type": "stream",
     "text": [
      "output.shape=torch.Size([20, 2423, 8])\n",
      "targets.shape=torch.Size([20, 2423, 8])\n",
      "torch.Size([48460]) torch.Size([48460])\n",
      "12239\n",
      "stacked output.shape=torch.Size([48460, 8])\n",
      "targets.shape=torch.Size([48460, 8])\n",
      "12760\n"
     ]
    },
    {
     "name": "stderr",
     "output_type": "stream",
     "text": [
      " 96%|█████████▌| 4795/5000 [1:54:48<05:06,  1.49s/it]"
     ]
    },
    {
     "name": "stdout",
     "output_type": "stream",
     "text": [
      "output.shape=torch.Size([20, 2423, 8])\n",
      "targets.shape=torch.Size([20, 2423, 8])\n",
      "torch.Size([48460]) torch.Size([48460])\n",
      "12215\n",
      "stacked output.shape=torch.Size([48460, 8])\n",
      "targets.shape=torch.Size([48460, 8])\n",
      "12940\n"
     ]
    },
    {
     "name": "stderr",
     "output_type": "stream",
     "text": [
      " 96%|█████████▌| 4798/5000 [1:54:52<05:05,  1.51s/it]"
     ]
    },
    {
     "name": "stdout",
     "output_type": "stream",
     "text": [
      "output.shape=torch.Size([20, 2423, 8])\n",
      "targets.shape=torch.Size([20, 2423, 8])\n",
      "torch.Size([48460]) torch.Size([48460])\n",
      "12160\n",
      "stacked output.shape=torch.Size([48460, 8])\n",
      "targets.shape=torch.Size([48460, 8])\n",
      "12660\n"
     ]
    },
    {
     "name": "stderr",
     "output_type": "stream",
     "text": [
      " 96%|█████████▌| 4801/5000 [1:54:57<05:10,  1.56s/it]"
     ]
    },
    {
     "name": "stdout",
     "output_type": "stream",
     "text": [
      "output.shape=torch.Size([20, 2423, 8])\n",
      "targets.shape=torch.Size([20, 2423, 8])\n",
      "torch.Size([48460]) torch.Size([48460])\n",
      "12196\n",
      "stacked output.shape=torch.Size([48460, 8])\n",
      "targets.shape=torch.Size([48460, 8])\n",
      "12800\n"
     ]
    },
    {
     "name": "stderr",
     "output_type": "stream",
     "text": [
      " 96%|█████████▌| 4804/5000 [1:55:01<05:02,  1.54s/it]"
     ]
    },
    {
     "name": "stdout",
     "output_type": "stream",
     "text": [
      "output.shape=torch.Size([20, 2423, 8])\n",
      "targets.shape=torch.Size([20, 2423, 8])\n",
      "torch.Size([48460]) torch.Size([48460])\n",
      "12141\n",
      "stacked output.shape=torch.Size([48460, 8])\n",
      "targets.shape=torch.Size([48460, 8])\n",
      "12540\n"
     ]
    },
    {
     "name": "stderr",
     "output_type": "stream",
     "text": [
      " 96%|█████████▌| 4807/5000 [1:55:05<04:39,  1.45s/it]"
     ]
    },
    {
     "name": "stdout",
     "output_type": "stream",
     "text": [
      "output.shape=torch.Size([20, 2423, 8])\n",
      "targets.shape=torch.Size([20, 2423, 8])\n",
      "torch.Size([48460]) torch.Size([48460])\n",
      "12184\n",
      "stacked output.shape=torch.Size([48460, 8])\n",
      "targets.shape=torch.Size([48460, 8])\n",
      "12560\n"
     ]
    },
    {
     "name": "stderr",
     "output_type": "stream",
     "text": [
      " 96%|█████████▌| 4810/5000 [1:55:09<04:31,  1.43s/it]"
     ]
    },
    {
     "name": "stdout",
     "output_type": "stream",
     "text": [
      "output.shape=torch.Size([20, 2423, 8])\n",
      "targets.shape=torch.Size([20, 2423, 8])\n",
      "torch.Size([48460]) torch.Size([48460])\n",
      "12211\n",
      "stacked output.shape=torch.Size([48460, 8])\n",
      "targets.shape=torch.Size([48460, 8])\n",
      "12860\n"
     ]
    },
    {
     "name": "stderr",
     "output_type": "stream",
     "text": [
      " 96%|█████████▋| 4813/5000 [1:55:14<04:33,  1.46s/it]"
     ]
    },
    {
     "name": "stdout",
     "output_type": "stream",
     "text": [
      "output.shape=torch.Size([20, 2423, 8])\n",
      "targets.shape=torch.Size([20, 2423, 8])\n",
      "torch.Size([48460]) torch.Size([48460])\n",
      "12184\n",
      "stacked output.shape=torch.Size([48460, 8])\n",
      "targets.shape=torch.Size([48460, 8])\n",
      "12920\n"
     ]
    },
    {
     "name": "stderr",
     "output_type": "stream",
     "text": [
      " 96%|█████████▋| 4816/5000 [1:55:18<04:19,  1.41s/it]"
     ]
    },
    {
     "name": "stdout",
     "output_type": "stream",
     "text": [
      "output.shape=torch.Size([20, 2423, 8])\n",
      "targets.shape=torch.Size([20, 2423, 8])\n",
      "torch.Size([48460]) torch.Size([48460])\n",
      "12171\n",
      "stacked output.shape=torch.Size([48460, 8])\n",
      "targets.shape=torch.Size([48460, 8])\n",
      "12760\n"
     ]
    },
    {
     "name": "stderr",
     "output_type": "stream",
     "text": [
      " 96%|█████████▋| 4819/5000 [1:55:22<04:10,  1.39s/it]"
     ]
    },
    {
     "name": "stdout",
     "output_type": "stream",
     "text": [
      "output.shape=torch.Size([20, 2423, 8])\n",
      "targets.shape=torch.Size([20, 2423, 8])\n",
      "torch.Size([48460]) torch.Size([48460])\n",
      "12191\n",
      "stacked output.shape=torch.Size([48460, 8])\n",
      "targets.shape=torch.Size([48460, 8])\n",
      "12840\n"
     ]
    },
    {
     "name": "stderr",
     "output_type": "stream",
     "text": [
      " 96%|█████████▋| 4822/5000 [1:55:26<04:04,  1.37s/it]"
     ]
    },
    {
     "name": "stdout",
     "output_type": "stream",
     "text": [
      "output.shape=torch.Size([20, 2423, 8])\n",
      "targets.shape=torch.Size([20, 2423, 8])\n",
      "torch.Size([48460]) torch.Size([48460])\n",
      "12163\n",
      "stacked output.shape=torch.Size([48460, 8])\n",
      "targets.shape=torch.Size([48460, 8])\n",
      "12960\n"
     ]
    },
    {
     "name": "stderr",
     "output_type": "stream",
     "text": [
      " 96%|█████████▋| 4825/5000 [1:55:30<04:01,  1.38s/it]"
     ]
    },
    {
     "name": "stdout",
     "output_type": "stream",
     "text": [
      "output.shape=torch.Size([20, 2423, 8])\n",
      "targets.shape=torch.Size([20, 2423, 8])\n",
      "torch.Size([48460]) torch.Size([48460])\n",
      "12196\n",
      "stacked output.shape=torch.Size([48460, 8])\n",
      "targets.shape=torch.Size([48460, 8])\n",
      "12640\n"
     ]
    },
    {
     "name": "stderr",
     "output_type": "stream",
     "text": [
      " 97%|█████████▋| 4828/5000 [1:55:34<03:55,  1.37s/it]"
     ]
    },
    {
     "name": "stdout",
     "output_type": "stream",
     "text": [
      "output.shape=torch.Size([20, 2423, 8])\n",
      "targets.shape=torch.Size([20, 2423, 8])\n",
      "torch.Size([48460]) torch.Size([48460])\n",
      "12149\n",
      "stacked output.shape=torch.Size([48460, 8])\n",
      "targets.shape=torch.Size([48460, 8])\n",
      "12740\n"
     ]
    },
    {
     "name": "stderr",
     "output_type": "stream",
     "text": [
      " 97%|█████████▋| 4831/5000 [1:55:38<03:51,  1.37s/it]"
     ]
    },
    {
     "name": "stdout",
     "output_type": "stream",
     "text": [
      "output.shape=torch.Size([20, 2423, 8])\n",
      "targets.shape=torch.Size([20, 2423, 8])\n",
      "torch.Size([48460]) torch.Size([48460])\n",
      "12138\n",
      "stacked output.shape=torch.Size([48460, 8])\n",
      "targets.shape=torch.Size([48460, 8])\n",
      "12960\n"
     ]
    },
    {
     "name": "stderr",
     "output_type": "stream",
     "text": [
      " 97%|█████████▋| 4834/5000 [1:55:42<03:46,  1.36s/it]"
     ]
    },
    {
     "name": "stdout",
     "output_type": "stream",
     "text": [
      "output.shape=torch.Size([20, 2423, 8])\n",
      "targets.shape=torch.Size([20, 2423, 8])\n",
      "torch.Size([48460]) torch.Size([48460])\n",
      "12222\n",
      "stacked output.shape=torch.Size([48460, 8])\n",
      "targets.shape=torch.Size([48460, 8])\n",
      "12860\n"
     ]
    },
    {
     "name": "stderr",
     "output_type": "stream",
     "text": [
      " 97%|█████████▋| 4837/5000 [1:55:46<03:42,  1.37s/it]"
     ]
    },
    {
     "name": "stdout",
     "output_type": "stream",
     "text": [
      "output.shape=torch.Size([20, 2423, 8])\n",
      "targets.shape=torch.Size([20, 2423, 8])\n",
      "torch.Size([48460]) torch.Size([48460])\n",
      "12143\n",
      "stacked output.shape=torch.Size([48460, 8])\n",
      "targets.shape=torch.Size([48460, 8])\n",
      "12800\n"
     ]
    },
    {
     "name": "stderr",
     "output_type": "stream",
     "text": [
      " 97%|█████████▋| 4840/5000 [1:55:50<03:37,  1.36s/it]"
     ]
    },
    {
     "name": "stdout",
     "output_type": "stream",
     "text": [
      "output.shape=torch.Size([20, 2423, 8])\n",
      "targets.shape=torch.Size([20, 2423, 8])\n",
      "torch.Size([48460]) torch.Size([48460])\n",
      "12172\n",
      "stacked output.shape=torch.Size([48460, 8])\n",
      "targets.shape=torch.Size([48460, 8])\n",
      "12900\n"
     ]
    },
    {
     "name": "stderr",
     "output_type": "stream",
     "text": [
      " 97%|█████████▋| 4843/5000 [1:55:54<03:32,  1.36s/it]"
     ]
    },
    {
     "name": "stdout",
     "output_type": "stream",
     "text": [
      "output.shape=torch.Size([20, 2423, 8])\n",
      "targets.shape=torch.Size([20, 2423, 8])\n",
      "torch.Size([48460]) torch.Size([48460])\n",
      "12160\n",
      "stacked output.shape=torch.Size([48460, 8])\n",
      "targets.shape=torch.Size([48460, 8])\n",
      "12600\n"
     ]
    },
    {
     "name": "stderr",
     "output_type": "stream",
     "text": [
      " 97%|█████████▋| 4846/5000 [1:55:58<03:30,  1.37s/it]"
     ]
    },
    {
     "name": "stdout",
     "output_type": "stream",
     "text": [
      "output.shape=torch.Size([20, 2423, 8])\n",
      "targets.shape=torch.Size([20, 2423, 8])\n",
      "torch.Size([48460]) torch.Size([48460])\n",
      "12168\n",
      "stacked output.shape=torch.Size([48460, 8])\n",
      "targets.shape=torch.Size([48460, 8])\n",
      "12540\n"
     ]
    },
    {
     "name": "stderr",
     "output_type": "stream",
     "text": [
      " 97%|█████████▋| 4849/5000 [1:56:02<03:25,  1.36s/it]"
     ]
    },
    {
     "name": "stdout",
     "output_type": "stream",
     "text": [
      "output.shape=torch.Size([20, 2423, 8])\n",
      "targets.shape=torch.Size([20, 2423, 8])\n",
      "torch.Size([48460]) torch.Size([48460])\n",
      "12217\n",
      "stacked output.shape=torch.Size([48460, 8])\n",
      "targets.shape=torch.Size([48460, 8])\n",
      "12600\n"
     ]
    },
    {
     "name": "stderr",
     "output_type": "stream",
     "text": [
      " 97%|█████████▋| 4852/5000 [1:56:06<03:20,  1.36s/it]"
     ]
    },
    {
     "name": "stdout",
     "output_type": "stream",
     "text": [
      "output.shape=torch.Size([20, 2423, 8])\n",
      "targets.shape=torch.Size([20, 2423, 8])\n",
      "torch.Size([48460]) torch.Size([48460])\n",
      "12220\n",
      "stacked output.shape=torch.Size([48460, 8])\n",
      "targets.shape=torch.Size([48460, 8])\n",
      "12600\n"
     ]
    },
    {
     "name": "stderr",
     "output_type": "stream",
     "text": [
      " 97%|█████████▋| 4855/5000 [1:56:10<03:19,  1.37s/it]"
     ]
    },
    {
     "name": "stdout",
     "output_type": "stream",
     "text": [
      "output.shape=torch.Size([20, 2423, 8])\n",
      "targets.shape=torch.Size([20, 2423, 8])\n",
      "torch.Size([48460]) torch.Size([48460])\n",
      "12228\n",
      "stacked output.shape=torch.Size([48460, 8])\n",
      "targets.shape=torch.Size([48460, 8])\n",
      "12580\n"
     ]
    },
    {
     "name": "stderr",
     "output_type": "stream",
     "text": [
      " 97%|█████████▋| 4858/5000 [1:56:14<03:14,  1.37s/it]"
     ]
    },
    {
     "name": "stdout",
     "output_type": "stream",
     "text": [
      "output.shape=torch.Size([20, 2423, 8])\n",
      "targets.shape=torch.Size([20, 2423, 8])\n",
      "torch.Size([48460]) torch.Size([48460])\n",
      "12239\n",
      "stacked output.shape=torch.Size([48460, 8])\n",
      "targets.shape=torch.Size([48460, 8])\n",
      "12620\n"
     ]
    },
    {
     "name": "stderr",
     "output_type": "stream",
     "text": [
      " 97%|█████████▋| 4861/5000 [1:56:18<03:12,  1.39s/it]"
     ]
    },
    {
     "name": "stdout",
     "output_type": "stream",
     "text": [
      "output.shape=torch.Size([20, 2423, 8])\n",
      "targets.shape=torch.Size([20, 2423, 8])\n",
      "torch.Size([48460]) torch.Size([48460])\n",
      "12198\n",
      "stacked output.shape=torch.Size([48460, 8])\n",
      "targets.shape=torch.Size([48460, 8])\n",
      "12740\n"
     ]
    },
    {
     "name": "stderr",
     "output_type": "stream",
     "text": [
      " 97%|█████████▋| 4864/5000 [1:56:22<03:18,  1.46s/it]"
     ]
    },
    {
     "name": "stdout",
     "output_type": "stream",
     "text": [
      "output.shape=torch.Size([20, 2423, 8])\n",
      "targets.shape=torch.Size([20, 2423, 8])\n",
      "torch.Size([48460]) torch.Size([48460])\n",
      "12175\n",
      "stacked output.shape=torch.Size([48460, 8])\n",
      "targets.shape=torch.Size([48460, 8])\n",
      "12600\n"
     ]
    },
    {
     "name": "stderr",
     "output_type": "stream",
     "text": [
      " 97%|█████████▋| 4867/5000 [1:56:26<03:04,  1.39s/it]"
     ]
    },
    {
     "name": "stdout",
     "output_type": "stream",
     "text": [
      "output.shape=torch.Size([20, 2423, 8])\n",
      "targets.shape=torch.Size([20, 2423, 8])\n",
      "torch.Size([48460]) torch.Size([48460])\n",
      "12117\n",
      "stacked output.shape=torch.Size([48460, 8])\n",
      "targets.shape=torch.Size([48460, 8])\n",
      "12780\n"
     ]
    },
    {
     "name": "stderr",
     "output_type": "stream",
     "text": [
      " 97%|█████████▋| 4870/5000 [1:56:30<02:57,  1.37s/it]"
     ]
    },
    {
     "name": "stdout",
     "output_type": "stream",
     "text": [
      "output.shape=torch.Size([20, 2423, 8])\n",
      "targets.shape=torch.Size([20, 2423, 8])\n",
      "torch.Size([48460]) torch.Size([48460])\n",
      "12215\n",
      "stacked output.shape=torch.Size([48460, 8])\n",
      "targets.shape=torch.Size([48460, 8])\n",
      "12740\n"
     ]
    },
    {
     "name": "stderr",
     "output_type": "stream",
     "text": [
      " 97%|█████████▋| 4873/5000 [1:56:34<02:53,  1.36s/it]"
     ]
    },
    {
     "name": "stdout",
     "output_type": "stream",
     "text": [
      "output.shape=torch.Size([20, 2423, 8])\n",
      "targets.shape=torch.Size([20, 2423, 8])\n",
      "torch.Size([48460]) torch.Size([48460])\n",
      "12225\n",
      "stacked output.shape=torch.Size([48460, 8])\n",
      "targets.shape=torch.Size([48460, 8])\n",
      "13160\n"
     ]
    },
    {
     "name": "stderr",
     "output_type": "stream",
     "text": [
      " 98%|█████████▊| 4876/5000 [1:56:38<02:57,  1.43s/it]"
     ]
    },
    {
     "name": "stdout",
     "output_type": "stream",
     "text": [
      "output.shape=torch.Size([20, 2423, 8])\n",
      "targets.shape=torch.Size([20, 2423, 8])\n",
      "torch.Size([48460]) torch.Size([48460])\n",
      "12197\n",
      "stacked output.shape=torch.Size([48460, 8])\n",
      "targets.shape=torch.Size([48460, 8])\n",
      "12940\n"
     ]
    },
    {
     "name": "stderr",
     "output_type": "stream",
     "text": [
      " 98%|█████████▊| 4879/5000 [1:56:43<03:02,  1.51s/it]"
     ]
    },
    {
     "name": "stdout",
     "output_type": "stream",
     "text": [
      "output.shape=torch.Size([20, 2423, 8])\n",
      "targets.shape=torch.Size([20, 2423, 8])\n",
      "torch.Size([48460]) torch.Size([48460])\n",
      "12197\n",
      "stacked output.shape=torch.Size([48460, 8])\n",
      "targets.shape=torch.Size([48460, 8])\n",
      "12940\n"
     ]
    },
    {
     "name": "stderr",
     "output_type": "stream",
     "text": [
      " 98%|█████████▊| 4882/5000 [1:56:47<02:55,  1.49s/it]"
     ]
    },
    {
     "name": "stdout",
     "output_type": "stream",
     "text": [
      "output.shape=torch.Size([20, 2423, 8])\n",
      "targets.shape=torch.Size([20, 2423, 8])\n",
      "torch.Size([48460]) torch.Size([48460])\n",
      "12227\n",
      "stacked output.shape=torch.Size([48460, 8])\n",
      "targets.shape=torch.Size([48460, 8])\n",
      "12940\n"
     ]
    },
    {
     "name": "stderr",
     "output_type": "stream",
     "text": [
      " 98%|█████████▊| 4885/5000 [1:56:51<02:41,  1.41s/it]"
     ]
    },
    {
     "name": "stdout",
     "output_type": "stream",
     "text": [
      "output.shape=torch.Size([20, 2423, 8])\n",
      "targets.shape=torch.Size([20, 2423, 8])\n",
      "torch.Size([48460]) torch.Size([48460])\n",
      "12206\n",
      "stacked output.shape=torch.Size([48460, 8])\n",
      "targets.shape=torch.Size([48460, 8])\n",
      "13000\n"
     ]
    },
    {
     "name": "stderr",
     "output_type": "stream",
     "text": [
      " 98%|█████████▊| 4888/5000 [1:56:56<02:37,  1.40s/it]"
     ]
    },
    {
     "name": "stdout",
     "output_type": "stream",
     "text": [
      "output.shape=torch.Size([20, 2423, 8])\n",
      "targets.shape=torch.Size([20, 2423, 8])\n",
      "torch.Size([48460]) torch.Size([48460])\n",
      "12202\n",
      "stacked output.shape=torch.Size([48460, 8])\n",
      "targets.shape=torch.Size([48460, 8])\n",
      "12920\n"
     ]
    },
    {
     "name": "stderr",
     "output_type": "stream",
     "text": [
      " 98%|█████████▊| 4891/5000 [1:57:00<02:37,  1.45s/it]"
     ]
    },
    {
     "name": "stdout",
     "output_type": "stream",
     "text": [
      "output.shape=torch.Size([20, 2423, 8])\n",
      "targets.shape=torch.Size([20, 2423, 8])\n",
      "torch.Size([48460]) torch.Size([48460])\n",
      "12171\n",
      "stacked output.shape=torch.Size([48460, 8])\n",
      "targets.shape=torch.Size([48460, 8])\n",
      "12860\n"
     ]
    },
    {
     "name": "stderr",
     "output_type": "stream",
     "text": [
      " 98%|█████████▊| 4894/5000 [1:57:04<02:31,  1.43s/it]"
     ]
    },
    {
     "name": "stdout",
     "output_type": "stream",
     "text": [
      "output.shape=torch.Size([20, 2423, 8])\n",
      "targets.shape=torch.Size([20, 2423, 8])\n",
      "torch.Size([48460]) torch.Size([48460])\n",
      "12183\n",
      "stacked output.shape=torch.Size([48460, 8])\n",
      "targets.shape=torch.Size([48460, 8])\n",
      "12780\n"
     ]
    },
    {
     "name": "stderr",
     "output_type": "stream",
     "text": [
      " 98%|█████████▊| 4897/5000 [1:57:08<02:25,  1.41s/it]"
     ]
    },
    {
     "name": "stdout",
     "output_type": "stream",
     "text": [
      "output.shape=torch.Size([20, 2423, 8])\n",
      "targets.shape=torch.Size([20, 2423, 8])\n",
      "torch.Size([48460]) torch.Size([48460])\n",
      "12220\n",
      "stacked output.shape=torch.Size([48460, 8])\n",
      "targets.shape=torch.Size([48460, 8])\n",
      "12640\n"
     ]
    },
    {
     "name": "stderr",
     "output_type": "stream",
     "text": [
      " 98%|█████████▊| 4900/5000 [1:57:12<02:17,  1.38s/it]"
     ]
    },
    {
     "name": "stdout",
     "output_type": "stream",
     "text": [
      "output.shape=torch.Size([20, 2423, 8])\n",
      "targets.shape=torch.Size([20, 2423, 8])\n",
      "torch.Size([48460]) torch.Size([48460])\n",
      "12203\n",
      "stacked output.shape=torch.Size([48460, 8])\n",
      "targets.shape=torch.Size([48460, 8])\n",
      "12760\n"
     ]
    },
    {
     "name": "stderr",
     "output_type": "stream",
     "text": [
      " 98%|█████████▊| 4903/5000 [1:57:16<02:13,  1.38s/it]"
     ]
    },
    {
     "name": "stdout",
     "output_type": "stream",
     "text": [
      "output.shape=torch.Size([20, 2423, 8])\n",
      "targets.shape=torch.Size([20, 2423, 8])\n",
      "torch.Size([48460]) torch.Size([48460])\n",
      "12166\n",
      "stacked output.shape=torch.Size([48460, 8])\n",
      "targets.shape=torch.Size([48460, 8])\n",
      "12740\n"
     ]
    },
    {
     "name": "stderr",
     "output_type": "stream",
     "text": [
      " 98%|█████████▊| 4906/5000 [1:57:20<02:09,  1.37s/it]"
     ]
    },
    {
     "name": "stdout",
     "output_type": "stream",
     "text": [
      "output.shape=torch.Size([20, 2423, 8])\n",
      "targets.shape=torch.Size([20, 2423, 8])\n",
      "torch.Size([48460]) torch.Size([48460])\n",
      "12145\n",
      "stacked output.shape=torch.Size([48460, 8])\n",
      "targets.shape=torch.Size([48460, 8])\n",
      "13160\n"
     ]
    },
    {
     "name": "stderr",
     "output_type": "stream",
     "text": [
      " 98%|█████████▊| 4909/5000 [1:57:24<02:06,  1.39s/it]"
     ]
    },
    {
     "name": "stdout",
     "output_type": "stream",
     "text": [
      "output.shape=torch.Size([20, 2423, 8])\n",
      "targets.shape=torch.Size([20, 2423, 8])\n",
      "torch.Size([48460]) torch.Size([48460])\n",
      "12194\n",
      "stacked output.shape=torch.Size([48460, 8])\n",
      "targets.shape=torch.Size([48460, 8])\n",
      "12860\n"
     ]
    },
    {
     "name": "stderr",
     "output_type": "stream",
     "text": [
      " 98%|█████████▊| 4912/5000 [1:57:28<02:02,  1.39s/it]"
     ]
    },
    {
     "name": "stdout",
     "output_type": "stream",
     "text": [
      "output.shape=torch.Size([20, 2423, 8])\n",
      "targets.shape=torch.Size([20, 2423, 8])\n",
      "torch.Size([48460]) torch.Size([48460])\n",
      "12214\n",
      "stacked output.shape=torch.Size([48460, 8])\n",
      "targets.shape=torch.Size([48460, 8])\n",
      "12800\n"
     ]
    },
    {
     "name": "stderr",
     "output_type": "stream",
     "text": [
      " 98%|█████████▊| 4915/5000 [1:57:32<01:57,  1.38s/it]"
     ]
    },
    {
     "name": "stdout",
     "output_type": "stream",
     "text": [
      "output.shape=torch.Size([20, 2423, 8])\n",
      "targets.shape=torch.Size([20, 2423, 8])\n",
      "torch.Size([48460]) torch.Size([48460])\n",
      "12234\n",
      "stacked output.shape=torch.Size([48460, 8])\n",
      "targets.shape=torch.Size([48460, 8])\n",
      "13100\n"
     ]
    },
    {
     "name": "stderr",
     "output_type": "stream",
     "text": [
      " 98%|█████████▊| 4918/5000 [1:57:37<01:54,  1.39s/it]"
     ]
    },
    {
     "name": "stdout",
     "output_type": "stream",
     "text": [
      "output.shape=torch.Size([20, 2423, 8])\n",
      "targets.shape=torch.Size([20, 2423, 8])\n",
      "torch.Size([48460]) torch.Size([48460])\n",
      "12218\n",
      "stacked output.shape=torch.Size([48460, 8])\n",
      "targets.shape=torch.Size([48460, 8])\n",
      "12820\n"
     ]
    },
    {
     "name": "stderr",
     "output_type": "stream",
     "text": [
      " 98%|█████████▊| 4921/5000 [1:57:41<01:50,  1.40s/it]"
     ]
    },
    {
     "name": "stdout",
     "output_type": "stream",
     "text": [
      "output.shape=torch.Size([20, 2423, 8])\n",
      "targets.shape=torch.Size([20, 2423, 8])\n",
      "torch.Size([48460]) torch.Size([48460])\n",
      "12206\n",
      "stacked output.shape=torch.Size([48460, 8])\n",
      "targets.shape=torch.Size([48460, 8])\n",
      "12760\n"
     ]
    },
    {
     "name": "stderr",
     "output_type": "stream",
     "text": [
      " 98%|█████████▊| 4924/5000 [1:57:45<01:49,  1.44s/it]"
     ]
    },
    {
     "name": "stdout",
     "output_type": "stream",
     "text": [
      "output.shape=torch.Size([20, 2423, 8])\n",
      "targets.shape=torch.Size([20, 2423, 8])\n",
      "torch.Size([48460]) torch.Size([48460])\n",
      "12283\n",
      "stacked output.shape=torch.Size([48460, 8])\n",
      "targets.shape=torch.Size([48460, 8])\n",
      "12460\n"
     ]
    },
    {
     "name": "stderr",
     "output_type": "stream",
     "text": [
      " 99%|█████████▊| 4927/5000 [1:57:49<01:44,  1.43s/it]"
     ]
    },
    {
     "name": "stdout",
     "output_type": "stream",
     "text": [
      "output.shape=torch.Size([20, 2423, 8])\n",
      "targets.shape=torch.Size([20, 2423, 8])\n",
      "torch.Size([48460]) torch.Size([48460])\n",
      "12234\n",
      "stacked output.shape=torch.Size([48460, 8])\n",
      "targets.shape=torch.Size([48460, 8])\n",
      "12760\n"
     ]
    },
    {
     "name": "stderr",
     "output_type": "stream",
     "text": [
      " 99%|█████████▊| 4929/5000 [1:57:52<01:39,  1.40s/it]"
     ]
    },
    {
     "name": "stdout",
     "output_type": "stream",
     "text": [
      "output.shape=torch.Size([20, 2423, 8])\n",
      "targets.shape=torch.Size([20, 2423, 8])\n",
      "torch.Size([48460]) torch.Size([48460])\n",
      "12195\n",
      "stacked output.shape=torch.Size([48460, 8])\n",
      "targets.shape=torch.Size([48460, 8])\n",
      "12740\n"
     ]
    },
    {
     "name": "stderr",
     "output_type": "stream",
     "text": [
      " 99%|█████████▊| 4933/5000 [1:57:58<01:41,  1.52s/it]"
     ]
    },
    {
     "name": "stdout",
     "output_type": "stream",
     "text": [
      "output.shape=torch.Size([20, 2423, 8])\n",
      "targets.shape=torch.Size([20, 2423, 8])\n",
      "torch.Size([48460]) torch.Size([48460])\n",
      "12216\n",
      "stacked output.shape=torch.Size([48460, 8])\n",
      "targets.shape=torch.Size([48460, 8])\n",
      "12820\n"
     ]
    },
    {
     "name": "stderr",
     "output_type": "stream",
     "text": [
      " 99%|█████████▊| 4936/5000 [1:58:02<01:35,  1.49s/it]"
     ]
    },
    {
     "name": "stdout",
     "output_type": "stream",
     "text": [
      "output.shape=torch.Size([20, 2423, 8])\n",
      "targets.shape=torch.Size([20, 2423, 8])\n",
      "torch.Size([48460]) torch.Size([48460])\n",
      "12256\n",
      "stacked output.shape=torch.Size([48460, 8])\n",
      "targets.shape=torch.Size([48460, 8])\n",
      "12660\n"
     ]
    },
    {
     "name": "stderr",
     "output_type": "stream",
     "text": [
      " 99%|█████████▉| 4939/5000 [1:58:07<01:31,  1.50s/it]"
     ]
    },
    {
     "name": "stdout",
     "output_type": "stream",
     "text": [
      "output.shape=torch.Size([20, 2423, 8])\n",
      "targets.shape=torch.Size([20, 2423, 8])\n",
      "torch.Size([48460]) torch.Size([48460])\n",
      "12258\n",
      "stacked output.shape=torch.Size([48460, 8])\n",
      "targets.shape=torch.Size([48460, 8])\n",
      "12580\n"
     ]
    },
    {
     "name": "stderr",
     "output_type": "stream",
     "text": [
      " 99%|█████████▉| 4942/5000 [1:58:11<01:26,  1.48s/it]"
     ]
    },
    {
     "name": "stdout",
     "output_type": "stream",
     "text": [
      "output.shape=torch.Size([20, 2423, 8])\n",
      "targets.shape=torch.Size([20, 2423, 8])\n",
      "torch.Size([48460]) torch.Size([48460])\n",
      "12289\n",
      "stacked output.shape=torch.Size([48460, 8])\n",
      "targets.shape=torch.Size([48460, 8])\n",
      "12560\n"
     ]
    },
    {
     "name": "stderr",
     "output_type": "stream",
     "text": [
      " 99%|█████████▉| 4945/5000 [1:58:15<01:18,  1.43s/it]"
     ]
    },
    {
     "name": "stdout",
     "output_type": "stream",
     "text": [
      "output.shape=torch.Size([20, 2423, 8])\n",
      "targets.shape=torch.Size([20, 2423, 8])\n",
      "torch.Size([48460]) torch.Size([48460])\n",
      "12242\n",
      "stacked output.shape=torch.Size([48460, 8])\n",
      "targets.shape=torch.Size([48460, 8])\n",
      "12840\n"
     ]
    },
    {
     "name": "stderr",
     "output_type": "stream",
     "text": [
      " 99%|█████████▉| 4948/5000 [1:58:20<01:19,  1.53s/it]"
     ]
    },
    {
     "name": "stdout",
     "output_type": "stream",
     "text": [
      "output.shape=torch.Size([20, 2423, 8])\n",
      "targets.shape=torch.Size([20, 2423, 8])\n",
      "torch.Size([48460]) torch.Size([48460])\n",
      "12267\n",
      "stacked output.shape=torch.Size([48460, 8])\n",
      "targets.shape=torch.Size([48460, 8])\n",
      "12860\n"
     ]
    },
    {
     "name": "stderr",
     "output_type": "stream",
     "text": [
      " 99%|█████████▉| 4951/5000 [1:58:24<01:10,  1.44s/it]"
     ]
    },
    {
     "name": "stdout",
     "output_type": "stream",
     "text": [
      "output.shape=torch.Size([20, 2423, 8])\n",
      "targets.shape=torch.Size([20, 2423, 8])\n",
      "torch.Size([48460]) torch.Size([48460])\n",
      "12280\n",
      "stacked output.shape=torch.Size([48460, 8])\n",
      "targets.shape=torch.Size([48460, 8])\n",
      "12800\n"
     ]
    },
    {
     "name": "stderr",
     "output_type": "stream",
     "text": [
      " 99%|█████████▉| 4954/5000 [1:58:29<01:10,  1.54s/it]"
     ]
    },
    {
     "name": "stdout",
     "output_type": "stream",
     "text": [
      "output.shape=torch.Size([20, 2423, 8])\n",
      "targets.shape=torch.Size([20, 2423, 8])\n",
      "torch.Size([48460]) torch.Size([48460])\n",
      "12218\n",
      "stacked output.shape=torch.Size([48460, 8])\n",
      "targets.shape=torch.Size([48460, 8])\n",
      "12740\n"
     ]
    },
    {
     "name": "stderr",
     "output_type": "stream",
     "text": [
      " 99%|█████████▉| 4957/5000 [1:58:33<01:05,  1.53s/it]"
     ]
    },
    {
     "name": "stdout",
     "output_type": "stream",
     "text": [
      "output.shape=torch.Size([20, 2423, 8])\n",
      "targets.shape=torch.Size([20, 2423, 8])\n",
      "torch.Size([48460]) torch.Size([48460])\n",
      "12186\n",
      "stacked output.shape=torch.Size([48460, 8])\n",
      "targets.shape=torch.Size([48460, 8])\n",
      "12880\n"
     ]
    },
    {
     "name": "stderr",
     "output_type": "stream",
     "text": [
      " 99%|█████████▉| 4960/5000 [1:58:38<01:07,  1.68s/it]"
     ]
    },
    {
     "name": "stdout",
     "output_type": "stream",
     "text": [
      "output.shape=torch.Size([20, 2423, 8])\n",
      "targets.shape=torch.Size([20, 2423, 8])\n",
      "torch.Size([48460]) torch.Size([48460])\n",
      "12152\n",
      "stacked output.shape=torch.Size([48460, 8])\n",
      "targets.shape=torch.Size([48460, 8])\n",
      "12840\n"
     ]
    },
    {
     "name": "stderr",
     "output_type": "stream",
     "text": [
      " 99%|█████████▉| 4963/5000 [1:58:43<01:01,  1.65s/it]"
     ]
    },
    {
     "name": "stdout",
     "output_type": "stream",
     "text": [
      "output.shape=torch.Size([20, 2423, 8])\n",
      "targets.shape=torch.Size([20, 2423, 8])\n",
      "torch.Size([48460]) torch.Size([48460])\n",
      "12164\n",
      "stacked output.shape=torch.Size([48460, 8])\n",
      "targets.shape=torch.Size([48460, 8])\n",
      "12600\n"
     ]
    },
    {
     "name": "stderr",
     "output_type": "stream",
     "text": [
      " 99%|█████████▉| 4966/5000 [1:58:48<00:51,  1.51s/it]"
     ]
    },
    {
     "name": "stdout",
     "output_type": "stream",
     "text": [
      "output.shape=torch.Size([20, 2423, 8])\n",
      "targets.shape=torch.Size([20, 2423, 8])\n",
      "torch.Size([48460]) torch.Size([48460])\n",
      "12171\n",
      "stacked output.shape=torch.Size([48460, 8])\n",
      "targets.shape=torch.Size([48460, 8])\n",
      "12660\n"
     ]
    },
    {
     "name": "stderr",
     "output_type": "stream",
     "text": [
      " 99%|█████████▉| 4969/5000 [1:58:52<00:44,  1.44s/it]"
     ]
    },
    {
     "name": "stdout",
     "output_type": "stream",
     "text": [
      "output.shape=torch.Size([20, 2423, 8])\n",
      "targets.shape=torch.Size([20, 2423, 8])\n",
      "torch.Size([48460]) torch.Size([48460])\n",
      "12215\n",
      "stacked output.shape=torch.Size([48460, 8])\n",
      "targets.shape=torch.Size([48460, 8])\n",
      "12900\n"
     ]
    },
    {
     "name": "stderr",
     "output_type": "stream",
     "text": [
      " 99%|█████████▉| 4972/5000 [1:58:56<00:39,  1.40s/it]"
     ]
    },
    {
     "name": "stdout",
     "output_type": "stream",
     "text": [
      "output.shape=torch.Size([20, 2423, 8])\n",
      "targets.shape=torch.Size([20, 2423, 8])\n",
      "torch.Size([48460]) torch.Size([48460])\n",
      "12203\n",
      "stacked output.shape=torch.Size([48460, 8])\n",
      "targets.shape=torch.Size([48460, 8])\n",
      "12760\n"
     ]
    },
    {
     "name": "stderr",
     "output_type": "stream",
     "text": [
      "100%|█████████▉| 4975/5000 [1:59:00<00:34,  1.38s/it]"
     ]
    },
    {
     "name": "stdout",
     "output_type": "stream",
     "text": [
      "output.shape=torch.Size([20, 2423, 8])\n",
      "targets.shape=torch.Size([20, 2423, 8])\n",
      "torch.Size([48460]) torch.Size([48460])\n",
      "12167\n",
      "stacked output.shape=torch.Size([48460, 8])\n",
      "targets.shape=torch.Size([48460, 8])\n",
      "12760\n"
     ]
    },
    {
     "name": "stderr",
     "output_type": "stream",
     "text": [
      "100%|█████████▉| 4978/5000 [1:59:04<00:29,  1.36s/it]"
     ]
    },
    {
     "name": "stdout",
     "output_type": "stream",
     "text": [
      "output.shape=torch.Size([20, 2423, 8])\n",
      "targets.shape=torch.Size([20, 2423, 8])\n",
      "torch.Size([48460]) torch.Size([48460])\n",
      "12232\n",
      "stacked output.shape=torch.Size([48460, 8])\n",
      "targets.shape=torch.Size([48460, 8])\n",
      "12700\n"
     ]
    },
    {
     "name": "stderr",
     "output_type": "stream",
     "text": [
      "100%|█████████▉| 4981/5000 [1:59:08<00:26,  1.38s/it]"
     ]
    },
    {
     "name": "stdout",
     "output_type": "stream",
     "text": [
      "output.shape=torch.Size([20, 2423, 8])\n",
      "targets.shape=torch.Size([20, 2423, 8])\n",
      "torch.Size([48460]) torch.Size([48460])\n",
      "12272\n",
      "stacked output.shape=torch.Size([48460, 8])\n",
      "targets.shape=torch.Size([48460, 8])\n",
      "12780\n"
     ]
    },
    {
     "name": "stderr",
     "output_type": "stream",
     "text": [
      "100%|█████████▉| 4984/5000 [1:59:12<00:22,  1.39s/it]"
     ]
    },
    {
     "name": "stdout",
     "output_type": "stream",
     "text": [
      "output.shape=torch.Size([20, 2423, 8])\n",
      "targets.shape=torch.Size([20, 2423, 8])\n",
      "torch.Size([48460]) torch.Size([48460])\n",
      "12206\n",
      "stacked output.shape=torch.Size([48460, 8])\n",
      "targets.shape=torch.Size([48460, 8])\n",
      "12660\n"
     ]
    },
    {
     "name": "stderr",
     "output_type": "stream",
     "text": [
      "100%|█████████▉| 4987/5000 [1:59:16<00:18,  1.40s/it]"
     ]
    },
    {
     "name": "stdout",
     "output_type": "stream",
     "text": [
      "output.shape=torch.Size([20, 2423, 8])\n",
      "targets.shape=torch.Size([20, 2423, 8])\n",
      "torch.Size([48460]) torch.Size([48460])\n",
      "12197\n",
      "stacked output.shape=torch.Size([48460, 8])\n",
      "targets.shape=torch.Size([48460, 8])\n",
      "12580\n"
     ]
    },
    {
     "name": "stderr",
     "output_type": "stream",
     "text": [
      "100%|█████████▉| 4990/5000 [1:59:20<00:14,  1.40s/it]"
     ]
    },
    {
     "name": "stdout",
     "output_type": "stream",
     "text": [
      "output.shape=torch.Size([20, 2423, 8])\n",
      "targets.shape=torch.Size([20, 2423, 8])\n",
      "torch.Size([48460]) torch.Size([48460])\n",
      "12215\n",
      "stacked output.shape=torch.Size([48460, 8])\n",
      "targets.shape=torch.Size([48460, 8])\n",
      "12660\n"
     ]
    },
    {
     "name": "stderr",
     "output_type": "stream",
     "text": [
      "100%|█████████▉| 4993/5000 [1:59:24<00:09,  1.41s/it]"
     ]
    },
    {
     "name": "stdout",
     "output_type": "stream",
     "text": [
      "output.shape=torch.Size([20, 2423, 8])\n",
      "targets.shape=torch.Size([20, 2423, 8])\n",
      "torch.Size([48460]) torch.Size([48460])\n",
      "12233\n",
      "stacked output.shape=torch.Size([48460, 8])\n",
      "targets.shape=torch.Size([48460, 8])\n",
      "12480\n"
     ]
    },
    {
     "name": "stderr",
     "output_type": "stream",
     "text": [
      "100%|█████████▉| 4996/5000 [1:59:28<00:05,  1.41s/it]"
     ]
    },
    {
     "name": "stdout",
     "output_type": "stream",
     "text": [
      "output.shape=torch.Size([20, 2423, 8])\n",
      "targets.shape=torch.Size([20, 2423, 8])\n",
      "torch.Size([48460]) torch.Size([48460])\n",
      "12244\n",
      "stacked output.shape=torch.Size([48460, 8])\n",
      "targets.shape=torch.Size([48460, 8])\n",
      "12640\n"
     ]
    },
    {
     "name": "stderr",
     "output_type": "stream",
     "text": [
      "100%|█████████▉| 4999/5000 [1:59:32<00:01,  1.38s/it]"
     ]
    },
    {
     "name": "stdout",
     "output_type": "stream",
     "text": [
      "output.shape=torch.Size([20, 2423, 8])\n",
      "targets.shape=torch.Size([20, 2423, 8])\n",
      "torch.Size([48460]) torch.Size([48460])\n",
      "12272\n",
      "stacked output.shape=torch.Size([48460, 8])\n",
      "targets.shape=torch.Size([48460, 8])\n",
      "12880\n"
     ]
    },
    {
     "name": "stderr",
     "output_type": "stream",
     "text": [
      "100%|██████████| 5000/5000 [1:59:34<00:00,  1.43s/it]\n"
     ]
    },
    {
     "name": "stdout",
     "output_type": "stream",
     "text": [
      "created path\n"
     ]
    },
    {
     "data": {
      "application/vnd.jupyter.widget-view+json": {
       "model_id": "949ff53145b8443781f1c14dd71b625f",
       "version_major": 2,
       "version_minor": 0
      },
      "text/plain": [
       "VBox(children=(Label(value='0.525 MB of 0.525 MB uploaded (0.447 MB deduped)\\r'), FloatProgress(value=1.0, max…"
      ]
     },
     "metadata": {},
     "output_type": "display_data"
    },
    {
     "data": {
      "text/html": [
       "W&B sync reduced upload amount by 45.7%             "
      ],
      "text/plain": [
       "<IPython.core.display.HTML object>"
      ]
     },
     "metadata": {},
     "output_type": "display_data"
    },
    {
     "data": {
      "text/html": [
       "<style>\n",
       "    table.wandb td:nth-child(1) { padding: 0 10px; text-align: left ; width: auto;} td:nth-child(2) {text-align: left ; width: 100%}\n",
       "    .wandb-row { display: flex; flex-direction: row; flex-wrap: wrap; justify-content: flex-start; width: 100% }\n",
       "    .wandb-col { display: flex; flex-direction: column; flex-basis: 100%; flex: 1; padding: 10px; }\n",
       "    </style>\n",
       "<div class=\"wandb-row\"><div class=\"wandb-col\"><h3>Run history:</h3><br/><table class=\"wandb\"><tr><td>loss</td><td>██▇▆▅▆▅▅▅▅▄▄▅▄▄▄▄▄▃▃▃▃▃▃▃▃▂▃▂▂▂▂▂▂▂▂▂▂▁▁</td></tr><tr><td>loss_stacked</td><td>█▇▇▇▇▆▆▅▅▄▄▃▃▃▂▂▂▂▂▂▂▂▂▂▁▁▁▁▁▁▁▁▁▁▁▁▁▁▁▁</td></tr><tr><td>stacked_accuracy</td><td>▁▇███▇▇▆▆▆▆▅▆▆▆▆▆▅▆▆▆▆▆▆▆▆▆▆▆▆▆▆▆▆▆▆▆▆▆▆</td></tr><tr><td>test_accuracy</td><td>▁▃▅▆██████▇▇▇▇▇▇▇▇▇▇▇▇▇▇▇▇▇▇▇▇▇▇▇▇▇▇▇▇▇▇</td></tr><tr><td>test_loss</td><td>█▆▃▂▁▁▁▁▂▂▂▂▃▃▃▃▃▃▃▃▃▃▃▃▃▃▃▄▃▄▄▄▄▄▄▄▄▄▄▄</td></tr><tr><td>val_loss_stacked</td><td>▂▁▁▁▁▁▂▂▃▃▄▅▅▅▆▆▆▆▆▆▆▇▇▇▇▇▇▇▇▇▇▇▇███████</td></tr></table><br/></div><div class=\"wandb-col\"><h3>Run summary:</h3><br/><table class=\"wandb\"><tr><td>loss</td><td>1.74405</td></tr><tr><td>loss_stacked</td><td>0.44524</td></tr><tr><td>stacked_accuracy</td><td>0.26579</td></tr><tr><td>test_accuracy</td><td>0.25324</td></tr><tr><td>test_loss</td><td>1.98033</td></tr><tr><td>val_loss_stacked</td><td>2.97376</td></tr></table><br/></div></div>"
      ],
      "text/plain": [
       "<IPython.core.display.HTML object>"
      ]
     },
     "metadata": {},
     "output_type": "display_data"
    },
    {
     "data": {
      "text/html": [
       " View run <strong style=\"color:#cdcd00\">worldly-pond-59</strong> at: <a href='https://wandb.ai/nickojelly/NEW%20GRU%20V7_stacking/runs/wuooq6dr' target=\"_blank\">https://wandb.ai/nickojelly/NEW%20GRU%20V7_stacking/runs/wuooq6dr</a><br/>Synced 5 W&B file(s), 0 media file(s), 20 artifact file(s) and 0 other file(s)"
      ],
      "text/plain": [
       "<IPython.core.display.HTML object>"
      ]
     },
     "metadata": {},
     "output_type": "display_data"
    },
    {
     "data": {
      "text/html": [
       "Find logs at: <code>.\\wandb\\run-20240206_192455-wuooq6dr\\logs</code>"
      ],
      "text/plain": [
       "<IPython.core.display.HTML object>"
      ]
     },
     "metadata": {},
     "output_type": "display_data"
    }
   ],
   "source": [
    "importlib.reload(training_testing_stacking)\n",
    "importlib.reload(training_testing_lstm)\n",
    "importlib.reload(training_testing_gru_double)\n",
    "importlib.reload(rnn_tools.rnn_classes)\n",
    "importlib.reload(rnn_classes)\n",
    "importlib.reload(training_testing_gru_extra_data)\n",
    "(model,dataset, optimizer) = model_pipeline(raceDB,config=wandb_config_static,sweep=False)\n",
    "# all_price_df = model_pipeline(raceDB,config=wandb_config_static,sweep=False)\n"
   ]
  },
  {
   "cell_type": "code",
   "execution_count": 43,
   "metadata": {},
   "outputs": [
    {
     "data": {
      "text/plain": [
       "GRUNetv3_extra(\n",
       "  (gru): GRU(26, 256, num_layers=2, dropout=0.3)\n",
       "  (relu): ReLU()\n",
       "  (fc0): Linear(in_features=2118, out_features=2048, bias=True)\n",
       "  (batch_norm): BatchNorm1d(26, eps=1e-05, momentum=0.1, affine=True, track_running_stats=True)\n",
       "  (batch_norm_data): BatchNorm1d(80, eps=1e-05, momentum=0.1, affine=True, track_running_stats=True)\n",
       "  (extra_1): GRUNetv3_simple_extra_data(\n",
       "    (batch_norm): BatchNorm1d(20, eps=1e-05, momentum=0.1, affine=True, track_running_stats=True)\n",
       "    (relu): ReLU()\n",
       "    (fc0_p1): Linear(in_features=20, out_features=128, bias=True)\n",
       "    (fc0_p1_drop): Dropout(p=0.3, inplace=False)\n",
       "    (fc0_p2): Linear(in_features=128, out_features=64, bias=True)\n",
       "    (fc0_p2_drop): Dropout(p=0.3, inplace=False)\n",
       "    (fc0_p3): Linear(in_features=64, out_features=64, bias=True)\n",
       "    (fc0_p3_drop): Dropout(p=0.3, inplace=False)\n",
       "  )\n",
       "  (extra_2): GRUNetv3_simple_extra_data(\n",
       "    (batch_norm): BatchNorm1d(20, eps=1e-05, momentum=0.1, affine=True, track_running_stats=True)\n",
       "    (relu): ReLU()\n",
       "    (fc0_p1): Linear(in_features=20, out_features=128, bias=True)\n",
       "    (fc0_p1_drop): Dropout(p=0.3, inplace=False)\n",
       "    (fc0_p2): Linear(in_features=128, out_features=64, bias=True)\n",
       "    (fc0_p2_drop): Dropout(p=0.3, inplace=False)\n",
       "    (fc0_p3): Linear(in_features=64, out_features=64, bias=True)\n",
       "    (fc0_p3_drop): Dropout(p=0.3, inplace=False)\n",
       "  )\n",
       "  (extra_3): GRUNetv3_simple_extra_data(\n",
       "    (batch_norm): BatchNorm1d(20, eps=1e-05, momentum=0.1, affine=True, track_running_stats=True)\n",
       "    (relu): ReLU()\n",
       "    (fc0_p1): Linear(in_features=20, out_features=128, bias=True)\n",
       "    (fc0_p1_drop): Dropout(p=0.3, inplace=False)\n",
       "    (fc0_p2): Linear(in_features=128, out_features=64, bias=True)\n",
       "    (fc0_p2_drop): Dropout(p=0.3, inplace=False)\n",
       "    (fc0_p3): Linear(in_features=64, out_features=64, bias=True)\n",
       "    (fc0_p3_drop): Dropout(p=0.3, inplace=False)\n",
       "  )\n",
       "  (extra_4): GRUNetv3_simple_extra_data(\n",
       "    (batch_norm): BatchNorm1d(20, eps=1e-05, momentum=0.1, affine=True, track_running_stats=True)\n",
       "    (relu): ReLU()\n",
       "    (fc0_p1): Linear(in_features=20, out_features=128, bias=True)\n",
       "    (fc0_p1_drop): Dropout(p=0.3, inplace=False)\n",
       "    (fc0_p2): Linear(in_features=128, out_features=64, bias=True)\n",
       "    (fc0_p2_drop): Dropout(p=0.3, inplace=False)\n",
       "    (fc0_p3): Linear(in_features=64, out_features=64, bias=True)\n",
       "    (fc0_p3_drop): Dropout(p=0.3, inplace=False)\n",
       "  )\n",
       "  (fc0_p1): Linear(in_features=512, out_features=256, bias=True)\n",
       "  (fc0_p1_drop): Dropout(p=0.3, inplace=False)\n",
       "  (fc0_p2): Linear(in_features=256, out_features=256, bias=True)\n",
       "  (fc0_p2_drop): Dropout(p=0.3, inplace=False)\n",
       "  (fc0_p3): Linear(in_features=256, out_features=256, bias=True)\n",
       "  (fc0_p3_drop): Dropout(p=0.3, inplace=False)\n",
       "  (relu0): ReLU()\n",
       "  (drop1): Dropout(p=0.3, inplace=False)\n",
       "  (fc1): Linear(in_features=2048, out_features=1024, bias=True)\n",
       "  (drop2): Dropout(p=0.3, inplace=False)\n",
       "  (fc2): Linear(in_features=1024, out_features=64, bias=True)\n",
       "  (drop3): Dropout(p=0.3, inplace=False)\n",
       "  (fc3): Linear(in_features=64, out_features=8, bias=True)\n",
       "  (price_fc2): Linear(in_features=1024, out_features=64, bias=True)\n",
       "  (price_drop3): Dropout(p=0.3, inplace=False)\n",
       "  (price_fc3): Linear(in_features=64, out_features=8, bias=True)\n",
       "  (output_fn): Identity()\n",
       ")"
      ]
     },
     "execution_count": 43,
     "metadata": {},
     "output_type": "execute_result"
    }
   ],
   "source": [
    "model"
   ]
  },
  {
   "cell_type": "code",
   "execution_count": 49,
   "metadata": {},
   "outputs": [
    {
     "name": "stdout",
     "output_type": "stream",
     "text": [
      "output.shape=torch.Size([2833, 8])\n",
      "mean.shape=(2833, 8)\n",
      "variance.shape=(2833, 8)\n",
      "entropy.shape=(2833,)\n",
      "mutual_info.shape=(2833,)\n",
      "mean=array([[0.28174134, 0.21607923, 0.00346814, ..., 0.01175216, 0.00465347,\n",
      "        0.30542733],\n",
      "       [0.11105694, 0.30910803, 0.05616723, ..., 0.03895895, 0.04267633,\n",
      "        0.05153325],\n",
      "       [0.16246017, 0.06808614, 0.10166063, ..., 0.10107324, 0.03867751,\n",
      "        0.20220393],\n",
      "       ...,\n",
      "       [0.18532827, 0.06536962, 0.12399554, ..., 0.10229177, 0.36441093,\n",
      "        0.0264925 ],\n",
      "       [0.03562071, 0.06281071, 0.20034123, ..., 0.21167989, 0.05063745,\n",
      "        0.19286059],\n",
      "       [0.20094422, 0.22126046, 0.26998586, ..., 0.02002967, 0.03805658,\n",
      "        0.08065215]])\n",
      "variance=array([[5.58260339e-03, 7.51602465e-03, 3.09334295e-05, ...,\n",
      "        1.20065312e-04, 3.89783725e-05, 8.43325939e-03],\n",
      "       [1.61427964e-03, 4.61224456e-03, 8.27125666e-04, ...,\n",
      "        5.76935580e-04, 5.17855575e-04, 5.65828642e-04],\n",
      "       [7.98621295e-04, 1.88691785e-04, 4.64754931e-04, ...,\n",
      "        4.51926200e-04, 1.61710026e-04, 8.07090933e-04],\n",
      "       ...,\n",
      "       [2.15035653e-03, 8.81440945e-04, 1.16536649e-03, ...,\n",
      "        1.25021948e-03, 5.52358332e-03, 3.34692657e-04],\n",
      "       [3.72644081e-04, 8.07105759e-04, 2.47881479e-03, ...,\n",
      "        1.74330042e-03, 4.76418178e-04, 2.31428970e-03],\n",
      "       [8.69435140e-04, 1.44922638e-03, 1.79838233e-03, ...,\n",
      "        2.37439309e-04, 2.94739769e-04, 5.47686592e-04]])\n",
      "entropy=array([1.50009826, 1.72138593, 1.98234131, ..., 1.76642833, 1.86589588,\n",
      "       1.83319873])\n",
      "mutual_info=array([0.07319587, 0.04844333, 0.01452787, ..., 0.04802589, 0.04180314,\n",
      "       0.02785647])\n"
     ]
    },
    {
     "ename": "TypeError",
     "evalue": "'NoneType' object is not callable",
     "output_type": "error",
     "traceback": [
      "\u001b[1;31m---------------------------------------------------------------------------\u001b[0m",
      "\u001b[1;31mTypeError\u001b[0m                                 Traceback (most recent call last)",
      "Cell \u001b[1;32mIn[49], line 2\u001b[0m\n\u001b[0;32m      1\u001b[0m importlib\u001b[38;5;241m.\u001b[39mreload(training_testing_gru_extra_data)\n\u001b[1;32m----> 2\u001b[0m \u001b[43mtraining_testing_gru_extra_data\u001b[49m\u001b[38;5;241;43m.\u001b[39;49m\u001b[43mvalidate_model_v3\u001b[49m\u001b[43m(\u001b[49m\u001b[43mmodel\u001b[49m\u001b[43m,\u001b[49m\u001b[43mraceDB\u001b[49m\u001b[43m,\u001b[49m\u001b[43mconfig\u001b[49m\u001b[38;5;241;43m=\u001b[39;49m\u001b[43mwandb_config_static\u001b[49m\u001b[43m)\u001b[49m\n",
      "File \u001b[1;32mc:\\Users\\Nick\\.conda\\envs\\python311\\Lib\\site-packages\\torch\\utils\\_contextlib.py:115\u001b[0m, in \u001b[0;36mcontext_decorator.<locals>.decorate_context\u001b[1;34m(*args, **kwargs)\u001b[0m\n\u001b[0;32m    112\u001b[0m \u001b[38;5;129m@functools\u001b[39m\u001b[38;5;241m.\u001b[39mwraps(func)\n\u001b[0;32m    113\u001b[0m \u001b[38;5;28;01mdef\u001b[39;00m \u001b[38;5;21mdecorate_context\u001b[39m(\u001b[38;5;241m*\u001b[39margs, \u001b[38;5;241m*\u001b[39m\u001b[38;5;241m*\u001b[39mkwargs):\n\u001b[0;32m    114\u001b[0m     \u001b[38;5;28;01mwith\u001b[39;00m ctx_factory():\n\u001b[1;32m--> 115\u001b[0m         \u001b[38;5;28;01mreturn\u001b[39;00m \u001b[43mfunc\u001b[49m\u001b[43m(\u001b[49m\u001b[38;5;241;43m*\u001b[39;49m\u001b[43margs\u001b[49m\u001b[43m,\u001b[49m\u001b[43m \u001b[49m\u001b[38;5;241;43m*\u001b[39;49m\u001b[38;5;241;43m*\u001b[39;49m\u001b[43mkwargs\u001b[49m\u001b[43m)\u001b[49m\n",
      "File \u001b[1;32mc:\\Users\\Nick\\Documents\\GitHub\\grvmodel\\python\\rnn_tools\\training_testing_gru_extra_data.py:631\u001b[0m, in \u001b[0;36mvalidate_model_v3\u001b[1;34m(model, raceDB, criterion, batch_size, epoch, config, device)\u001b[0m\n\u001b[0;32m    628\u001b[0m val_idx_races \u001b[38;5;241m=\u001b[39m \u001b[38;5;28mrange\u001b[39m(\u001b[38;5;241m0\u001b[39m,\u001b[38;5;28mlen\u001b[39m(raceDB\u001b[38;5;241m.\u001b[39mval_race_ids))\n\u001b[0;32m    629\u001b[0m race \u001b[38;5;241m=\u001b[39m raceDB\u001b[38;5;241m.\u001b[39mget_val_input(val_idx_races)\n\u001b[1;32m--> 631\u001b[0m all_price_df, loss, loss_p,loss_bfsp, correct, accuracy \u001b[38;5;241m=\u001b[39m \u001b[43mvalidate_model_pass\u001b[49m\u001b[43m(\u001b[49m\u001b[43mmodel\u001b[49m\u001b[43m,\u001b[49m\u001b[43mraceDB\u001b[49m\u001b[43m,\u001b[49m\u001b[43mrace\u001b[49m\u001b[43m,\u001b[49m\u001b[43mcriterion\u001b[49m\u001b[43m,\u001b[49m\u001b[43mval_idx_races\u001b[49m\u001b[43m,\u001b[49m\u001b[43mdevice\u001b[49m\u001b[38;5;241;43m=\u001b[39;49m\u001b[43mdevice\u001b[49m\u001b[43m)\u001b[49m\n\u001b[0;32m    634\u001b[0m all_price_df\u001b[38;5;241m.\u001b[39mrace_num \u001b[38;5;241m=\u001b[39m pd\u001b[38;5;241m.\u001b[39mto_numeric(all_price_df\u001b[38;5;241m.\u001b[39mrace_num)\n\u001b[0;32m    636\u001b[0m all_price_df \u001b[38;5;241m=\u001b[39m all_price_df[all_price_df[\u001b[38;5;124m'\u001b[39m\u001b[38;5;124mprices\u001b[39m\u001b[38;5;124m'\u001b[39m]\u001b[38;5;241m>\u001b[39m\u001b[38;5;241m1\u001b[39m]\n",
      "File \u001b[1;32mc:\\Users\\Nick\\Documents\\GitHub\\grvmodel\\python\\rnn_tools\\training_testing_gru_extra_data.py:406\u001b[0m, in \u001b[0;36mvalidate_model_pass\u001b[1;34m(model, raceDB, race, criterion, test_idx, device)\u001b[0m\n\u001b[0;32m    403\u001b[0m softmax_preds1 \u001b[38;5;241m=\u001b[39m sft_max(output\u001b[38;5;241m/\u001b[39m\u001b[38;5;241m0.5\u001b[39m)\n\u001b[0;32m    404\u001b[0m softmax_preds2 \u001b[38;5;241m=\u001b[39m sft_max(output\u001b[38;5;241m/\u001b[39m\u001b[38;5;241m0.5\u001b[39m)\n\u001b[1;32m--> 406\u001b[0m loss \u001b[38;5;241m=\u001b[39m \u001b[43mcriterion\u001b[49m\u001b[43m(\u001b[49m\u001b[43moutput\u001b[49m\u001b[43m,\u001b[49m\u001b[43m \u001b[49m\u001b[43my\u001b[49m\u001b[43m)\u001b[49m\u001b[38;5;241m.\u001b[39mmean()\n\u001b[0;32m    407\u001b[0m loss_p \u001b[38;5;241m=\u001b[39m criterion(output_p, y_p)\u001b[38;5;241m.\u001b[39mmean()\n\u001b[0;32m    408\u001b[0m loss_bfsp \u001b[38;5;241m=\u001b[39m criterion(y_bfsp, y)\u001b[38;5;241m.\u001b[39mmean()\n",
      "\u001b[1;31mTypeError\u001b[0m: 'NoneType' object is not callable"
     ]
    }
   ],
   "source": [
    "importlib.reload(training_testing_gru_extra_data)\n",
    "training_testing_gru_extra_data.validate_model_v3(model,raceDB,config=wandb_config_static)"
   ]
  },
  {
   "cell_type": "code",
   "execution_count": 44,
   "metadata": {},
   "outputs": [],
   "source": [
    "config = wandb_config_static"
   ]
  },
  {
   "cell_type": "code",
   "execution_count": null,
   "metadata": {},
   "outputs": [],
   "source": [
    "model = rnn_classes.LSTMNetv3_BN_double(22,config['hidden_size'], num_layers=config['num_layers'],fc0_size=config['f0_layer_size'], fc1_size=config['f1_layer_size'])"
   ]
  },
  {
   "cell_type": "code",
   "execution_count": null,
   "metadata": {},
   "outputs": [],
   "source": [
    "model = model.to('cuda:0')"
   ]
  },
  {
   "cell_type": "code",
   "execution_count": null,
   "metadata": {},
   "outputs": [],
   "source": [
    "sweep_config = {\"method\": \"grid\"}\n",
    "\n",
    "metric = {\"name\": \"ROI < 30\", \"goal\": \"maximize\"}\n",
    "\n",
    "sweep_config[\"metric\"] = metric\n",
    "\n",
    "\n",
    "parameters_dict = {\n",
    "    \"optimizer\": {\"value\": \"adamW\"},\n",
    "    \"batch_days\": {\"values\": [90,180,365,550,10000]},\n",
    "    \"f0_layer_size\": {\"values\": [128]},\n",
    "    \"f1_layer_size\": {\"values\": [64]},\n",
    "    \"dropout\": {\"values\": [0.3]},\n",
    "    \"input_type\": {\"values\": ['basic']},\n",
    "    \"num_layers\": {\"values\": [2]},\n",
    "    'hidden_size':{'values':[128]},\n",
    "    \"len_data\": {\"value\": len(raceDB.raceIDs)},\n",
    "    \"stats\":{\"value\": raceDB.stats_cols},\n",
    "    \"races\":{\"value\": states},\n",
    "    \"batch_size\":{\"value\": 10},\n",
    "}\n",
    "\n",
    "sweep_config[\"parameters\"] = parameters_dict\n",
    "\n",
    "parameters_dict.update(\n",
    "    {\n",
    "        \"epochs\": {\"values\": [1000]},\n",
    "        \"validation_split\": {\"value\": 0.1},\n",
    "        \"training_date_end\": {\"values\": \n",
    "                                [\n",
    "                                '2023-04-30',\n",
    "                                '2023-02-28',\n",
    "                                '2022-11-30',\n",
    "                                '2021-11-30'\n",
    "                                ]},\n",
    "        \"learning_rate\": {\"values\": [0.0003, 0.0001]},\n",
    "        \"label_smoothing\": {\"values\": [0.01,0.0]},\n",
    "        \"loss\": {\n",
    "            \"values\": [ \"CEL\"],\n",
    "        },\n",
    "    'dist_last__1': {'values': [0, 1]},\n",
    "    'box_last__1': {'values': [0, 1]},\n",
    "    'speed_avg_1': {'values': [0, 1]},\n",
    "    'split_speed_v1_1': {'values': [0, 1]},\n",
    "    'split_speed_avg_1': {'values': [0, 1]},\n",
    "    'split_margin_avg_1': {'values': [0, 1]},\n",
    "    'margin_avg_1': {'values': [0, 1]},\n",
    "    'margin_time_avg_1': {'values': [0, 1]},\n",
    "    'RunHomeTime_1': {'values': [0, 1]},\n",
    "    'run_home_speed_1': {'values': [0, 1]},\n",
    "    'run_home_speed_v1_1': {'values': [0, 1]},\n",
    "    'first_out_avg_1': {'values': [0, 1]},\n",
    "    'pos_out_avg_1': {'values': [0, 1]},\n",
    "    'post_change_avg_1': {'values': [0, 1]},\n",
    "    'races_1': {'values': [0, 1]},\n",
    "    'wins_1': {'values': [0, 1]},\n",
    "    'wins_last_1': {'values': [0, 1]},\n",
    "    'weight_': {'values': [0, 1]},\n",
    "    'min_time_': {'values': [0, 1]},\n",
    "    'min_split_time_': {'values': [0, 1]},\n",
    "    'min_split_time_v1': {'values': [0, 1]},\n",
    "    'last_start_price': {'values': [0, 1]},\n",
    "    'last_start_prob': {'values': [0, 1]}\n",
    "}\n",
    ")\n",
    "\n",
    "import pprint\n",
    "\n",
    "pprint.pprint(sweep_config)\n",
    "\n",
    "\n",
    "sweep_config"
   ]
  },
  {
   "cell_type": "code",
   "execution_count": null,
   "metadata": {},
   "outputs": [],
   "source": [
    "# wandb.agent('x9mz21wl', function=model_pipeline, count=100, project='NEW GRU-sweeps')"
   ]
  },
  {
   "attachments": {},
   "cell_type": "markdown",
   "metadata": {},
   "source": []
  },
  {
   "cell_type": "code",
   "execution_count": null,
   "metadata": {},
   "outputs": [],
   "source": []
  },
  {
   "cell_type": "code",
   "execution_count": null,
   "metadata": {},
   "outputs": [],
   "source": [
    "sweep_id = wandb.sweep(sweep_config, project=\"Variable Sweeps\")\n",
    "# CUDA_LAUNCH_BLOCKING=1\n",
    "wandb.agent(sweep_id, function=model_pipeline, count=1)"
   ]
  }
 ],
 "metadata": {
  "kernelspec": {
   "display_name": "PYTORCH",
   "language": "python",
   "name": "python3"
  },
  "language_info": {
   "codemirror_mode": {
    "name": "ipython",
    "version": 3
   },
   "file_extension": ".py",
   "mimetype": "text/x-python",
   "name": "python",
   "nbconvert_exporter": "python",
   "pygments_lexer": "ipython3",
   "version": "3.11.5"
  },
  "orig_nbformat": 4,
  "vscode": {
   "interpreter": {
    "hash": "8a48ca33c5a1168302a4f8eae355aad1c03b1396f568d40bc174a6e6aabe725d"
   }
  }
 },
 "nbformat": 4,
 "nbformat_minor": 2
}
