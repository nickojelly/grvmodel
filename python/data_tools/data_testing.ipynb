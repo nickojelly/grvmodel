{
 "cells": [
  {
   "cell_type": "code",
   "execution_count": 1,
   "metadata": {},
   "outputs": [],
   "source": [
    "import pickle\n",
    "import pandas as pd\n",
    "import os\n",
    "import torch\n",
    "import betfairlightweight\n",
    "from betfairlightweight import filters\n",
    "from datetime import datetime\n",
    "from datetime import timedelta\n",
    "from dateutil import tz\n",
    "import math\n",
    "import numpy as np\n",
    "import pandas as pd\n",
    "from scipy.stats import zscore\n",
    "from sklearn.linear_model import LogisticRegression\n",
    "import fasttrack as ft\n",
    "import importlib\n",
    "import featurecreations\n",
    "from tqdm.notebook import tqdm\n",
    "from sklearn.preprocessing import OneHotEncoder\n",
    "from ft_sec_key import SECKEY\n",
    "import logging\n",
    "import concurrent.futures\n",
    "import numpy as np\n",
    "import featurecreations_polars\n",
    "import polars as pl"
   ]
  },
  {
   "cell_type": "code",
   "execution_count": 4,
   "metadata": {},
   "outputs": [],
   "source": [
    "data_file = '../data/gru_inputs_kitchen_sink_april.fth'\n",
    "data = pd.read_feather(data_file)"
   ]
  },
  {
   "cell_type": "code",
   "execution_count": 7,
   "metadata": {},
   "outputs": [
    {
     "data": {
      "text/plain": [
       "(398315, 25)"
      ]
     },
     "execution_count": 7,
     "metadata": {},
     "output_type": "execute_result"
    }
   ],
   "source": [
    "data = data.query('state == \"NSW\"')\n",
    "data.shape"
   ]
  },
  {
   "cell_type": "code",
   "execution_count": 8,
   "metadata": {},
   "outputs": [
    {
     "ename": "",
     "evalue": "",
     "output_type": "error",
     "traceback": [
      "\u001b[1;31mThe Kernel crashed while executing code in the current cell or a previous cell. \n",
      "\u001b[1;31mPlease review the code in the cell(s) to identify a possible cause of the failure. \n",
      "\u001b[1;31mClick <a href='https://aka.ms/vscodeJupyterKernelCrash'>here</a> for more info. \n",
      "\u001b[1;31mView Jupyter <a href='command:jupyter.viewOutput'>log</a> for further details."
     ]
    }
   ],
   "source": [
    "data.to_feather('../data/gru_inputs_kitchen_sink_april_nsw.fth')"
   ]
  },
  {
   "cell_type": "code",
   "execution_count": 10,
   "metadata": {},
   "outputs": [],
   "source": [
    "def generate_dog_stats_simple(df_in, df_g, rolling_window=10, factor=''):\n",
    "    df = df_in.clone()\n",
    "\n",
    "    \n",
    "    new_cols = ['dist_x','box','split_speed','split_margins','margin','MarginTime','RunHomeTime','run_home_speed',\n",
    "                'first_out','start_pos','pos_change','win','win','win','weight',\"RunTime\",\"SplitTimes\",\"StartPrice\",\"StartProb\",\n",
    "        ]\n",
    "\n",
    "\n",
    "    try:\n",
    "        df = df.with_columns(pl.col('dist_x').rolling_mean(window_size=rolling_window, min_periods=1, closed='left').alias(f'{factor}_dist_last__{rolling_window}'))\n",
    "    except:\n",
    "        df = df.with_columns(pl.lit(0).alias(f'{factor}_dist_last__{rolling_window}'))\n",
    "    try:\n",
    "        df = df.with_columns(pl.col('box').rolling_mean(window_size=rolling_window, min_periods=1, closed='left').alias(f'{factor}_box_last__{rolling_window}'))\n",
    "    except:\n",
    "        df = df.with_columns(pl.lit(0).alias(f'{factor}_box_last__{rolling_window}'))\n",
    "\n",
    "    # df = df_g.with_columns(pl.col('box').cast(int))\n",
    "    new_cols = [pl.col('speed').rolling_mean(window_size=rolling_window, min_periods=1, closed='left').alias(f'{factor}_speed_avg_{rolling_window}'),\n",
    "    # .alias(f'{factor}_split_speed_v1_{rolling_window}')) _ pl.col('split_speed_v1').rolling_mean(window_size=rolling_window, min_periods=1, closed='left')['split_speed_v1',\n",
    "    pl.col('split_speed').rolling_mean(window_size=rolling_window, min_periods=1, closed='left').alias(f'{factor}_split_speed_avg_{rolling_window}'),\n",
    "    pl.col('split_margins').rolling_mean(window_size=rolling_window, min_periods=1, closed='left').alias(f'{factor}_split_margin_avg_{rolling_window}'),\n",
    "    pl.mean('margin').rolling(window_size=rolling_window, min_periods=1, closed='left').alias(f'{factor}_margin_avg_{rolling_window}'),\n",
    "    pl.col('MarginTime').rolling_mean(window_size=rolling_window, min_periods=1, closed='left').alias(f'{factor}_margin_time_avg_{rolling_window}'),\n",
    "    pl.col('RunHomeTime').rolling_mean(window_size=rolling_window, min_periods=1, closed='left').alias(f'{factor}_RunHomeTime_{rolling_window}'),\n",
    "    pl.col('run_home_speed').rolling_mean(window_size=rolling_window, min_periods=1, closed='left').alias(f'{factor}_run_home_speed_{rolling_window}'),\n",
    "    pl.col('first_out').rolling_mean(window_size=rolling_window, min_periods=1, closed='left').alias(f'{factor}_first_out_avg_{rolling_window}'),\n",
    "    pl.col('start_pos').rolling_mean(window_size=rolling_window, min_periods=1, closed='left').alias(f'{factor}_pos_out_avg_{rolling_window}'),\n",
    "    pl.col('pos_change').rolling_mean(window_size=rolling_window, min_periods=1, closed='left').alias(f'{factor}_post_change_avg_{rolling_window}'),\n",
    "    pl.col('win').cum_count().alias(f'{factor}_races_{rolling_window}'),\n",
    "    pl.col('win').rolling_mean(window_size=1000, min_periods=1, closed='left').alias(f'{factor}_wins_{rolling_window}'),\n",
    "    pl.col('win').rolling_sum(window_size=rolling_window, min_periods=1, closed='left').alias(f'{factor}_wins_last_{rolling_window}'),\n",
    "    pl.col('weight').rolling_mean(window_size=rolling_window, min_periods=1, closed='left').alias(f'{factor}_weight_'),\n",
    "    pl.col(\"RunTime\").rolling_min(window_size=rolling_window, min_periods=1, closed='left').alias(f'{factor}_min_time_'),\n",
    "    pl.col(\"SplitTimes\").rolling_min(window_size=rolling_window, min_periods=1, closed='left').alias(f'{factor}_min_split_time_'),\n",
    "    pl.col(\"StartPrice\").rolling_min(window_size=rolling_window, min_periods=1, closed='left').alias(f'{factor}_last_start_price'),\n",
    "    pl.col(\"StartProb\").rolling_min(window_size=rolling_window, min_periods=1, closed='left').alias(f'{factor}_last_start_prob')]\n",
    "\n",
    "    df = df_g.map_groups(lambda group: group.with_columns(new_cols))\n",
    "    \n",
    "    return(df)\n",
    "\n",
    "\n"
   ]
  },
  {
   "cell_type": "code",
   "execution_count": 14,
   "metadata": {},
   "outputs": [],
   "source": [
    "all_results = pd.read_feather(r\"./DATA/results-df-merged-prices_cut.fth\")\n"
   ]
  },
  {
   "cell_type": "code",
   "execution_count": 15,
   "metadata": {},
   "outputs": [
    {
     "data": {
      "text/plain": [
       "Index(['DogId', 'DogName', 'RaceId', 'RaceGrade', 'dateF', 'dateF1', 'date',\n",
       "       'RaceTime', 'RaceNum', 'Track', 'State', 'track_code', 'dist_x', 'BSP',\n",
       "       'Place', 'place', 'margin', 'box', 'speed', 'split_speed',\n",
       "       'split_margins', 'first_out', 'pos_change', 'weight', 'RunTime',\n",
       "       'SplitTimes', 'StartPrice', 'DogGrade', 'race_time', 'tracksOnehot',\n",
       "       'MarginTime', 'run_home_speed_v1', 'run_home_speed', 'split_speed_v1',\n",
       "       'RunHomeTime', 'PIR', 'PIR_adj', 'start_pos', 'StartProb',\n",
       "       'dist_round'],\n",
       "      dtype='object')"
      ]
     },
     "execution_count": 15,
     "metadata": {},
     "output_type": "execute_result"
    }
   ],
   "source": [
    "all_results.columns"
   ]
  },
  {
   "cell_type": "code",
   "execution_count": 18,
   "metadata": {},
   "outputs": [
    {
     "data": {
      "text/plain": [
       "array([None, 'VIC', 'NSW', 'SA', 'QLD', 'NZ', 'NT', 'WA', 'TAS'],\n",
       "      dtype=object)"
      ]
     },
     "execution_count": 18,
     "metadata": {},
     "output_type": "execute_result"
    }
   ],
   "source": [
    "all_results.State.unique()"
   ]
  },
  {
   "cell_type": "code",
   "execution_count": 19,
   "metadata": {},
   "outputs": [],
   "source": [
    "STATES = ['VIC', 'NSW', 'SA', 'QLD', 'NZ', 'NT', 'WA', 'TAS']"
   ]
  },
  {
   "cell_type": "code",
   "execution_count": 20,
   "metadata": {},
   "outputs": [
    {
     "name": "stdout",
     "output_type": "stream",
     "text": [
      "VIC\n",
      "NSW\n",
      "SA\n",
      "QLD\n",
      "NZ\n",
      "NT\n",
      "WA\n",
      "TAS\n"
     ]
    }
   ],
   "source": [
    "for state in STATES:\n",
    "    print(state)\n",
    "    df = all_results[all_results.State == state]\n",
    "    df.to_feather(f\"./DATA/results-df-merged-prices_cut_{state}.fth\")"
   ]
  },
  {
   "cell_type": "code",
   "execution_count": 5,
   "metadata": {},
   "outputs": [],
   "source": [
    "all_results = all_results.query('State == \"NZ\"')"
   ]
  },
  {
   "cell_type": "code",
   "execution_count": 8,
   "metadata": {},
   "outputs": [],
   "source": [
    "all_results.to_feather(r\"./DATA/results-df-merged-prices_cut_NZ.fth\")\n"
   ]
  },
  {
   "cell_type": "code",
   "execution_count": 9,
   "metadata": {},
   "outputs": [],
   "source": [
    "dog_form = pd.read_feather(r'./DATA/ft_races_ALL.fth')"
   ]
  },
  {
   "cell_type": "code",
   "execution_count": 12,
   "metadata": {},
   "outputs": [],
   "source": [
    "dog_form = dog_form.query('State == \"NZ\"')\n",
    "dog_form.to_feather(r'./DATA/ft_races_NZ.fth')"
   ]
  },
  {
   "cell_type": "code",
   "execution_count": null,
   "metadata": {},
   "outputs": [],
   "source": [
    "dog_form"
   ]
  },
  {
   "cell_type": "code",
   "execution_count": 4,
   "metadata": {},
   "outputs": [],
   "source": [
    "all_results = pd.read_feather(r\"./DATA/results-df-merged-prices_cut.fth\")\n",
    "# all_results[\"tracksOnehot\"] = [x for x in ohe.transform(all_results[[\"Track\"]])]\n",
    "form = all_results.sort_values(\"dateF\", ascending=True)\n",
    "form.loc[form['place']==1, 'margin']=0    \n",
    "\n",
    "form['win'] = form['place'].apply(lambda x: 1 if x ==1 else 0)\n",
    "form['count'] = 1\n",
    "form['box_location'] = form['box'].apply(lambda x: [1,0,0] if x<3 else([0,1,0] if x<7 else [0,0,1]))\n",
    "form['inside'] = form['box'].apply(lambda x: 1 if x<3 else 0)\n",
    "form['midfield'] = form['box'].apply(lambda x: 1 if 2<x<7 else 0)\n",
    "form['wide'] = form['box'].apply(lambda x: 1 if 6<x else 0)\n",
    "\n",
    "#For OG only\n",
    "\n",
    "form['first_out'] = form['start_pos'].apply(lambda x: 1 if x==1 else 0)\n",
    "\n",
    "all_results['RaceId'] = all_results['RaceId'].astype('category')\n",
    "all_results['DogId'] = all_results['DogId'].astype('category')\n",
    "all_results['RaceId'] = all_results['RaceId'].astype('category')\n",
    "\n",
    "# all_results.reset_index(drop=True).to_feather(previous_results_file)"
   ]
  },
  {
   "cell_type": "code",
   "execution_count": 5,
   "metadata": {},
   "outputs": [
    {
     "data": {
      "text/html": [
       "<div>\n",
       "<style scoped>\n",
       "    .dataframe tbody tr th:only-of-type {\n",
       "        vertical-align: middle;\n",
       "    }\n",
       "\n",
       "    .dataframe tbody tr th {\n",
       "        vertical-align: top;\n",
       "    }\n",
       "\n",
       "    .dataframe thead th {\n",
       "        text-align: right;\n",
       "    }\n",
       "</style>\n",
       "<table border=\"1\" class=\"dataframe\">\n",
       "  <thead>\n",
       "    <tr style=\"text-align: right;\">\n",
       "      <th></th>\n",
       "      <th>dateF</th>\n",
       "      <th>dist_x</th>\n",
       "      <th>place</th>\n",
       "      <th>margin</th>\n",
       "    </tr>\n",
       "  </thead>\n",
       "  <tbody>\n",
       "    <tr>\n",
       "      <th>679</th>\n",
       "      <td>2019-12-01</td>\n",
       "      <td>516.0</td>\n",
       "      <td>2.0</td>\n",
       "      <td>2.00</td>\n",
       "    </tr>\n",
       "    <tr>\n",
       "      <th>27252</th>\n",
       "      <td>2019-12-31</td>\n",
       "      <td>516.0</td>\n",
       "      <td>4.0</td>\n",
       "      <td>7.75</td>\n",
       "    </tr>\n",
       "    <tr>\n",
       "      <th>31065</th>\n",
       "      <td>2020-01-04</td>\n",
       "      <td>520.0</td>\n",
       "      <td>7.0</td>\n",
       "      <td>11.50</td>\n",
       "    </tr>\n",
       "    <tr>\n",
       "      <th>36984</th>\n",
       "      <td>2020-01-11</td>\n",
       "      <td>520.0</td>\n",
       "      <td>7.0</td>\n",
       "      <td>13.75</td>\n",
       "    </tr>\n",
       "    <tr>\n",
       "      <th>76780</th>\n",
       "      <td>2020-02-24</td>\n",
       "      <td>520.0</td>\n",
       "      <td>6.0</td>\n",
       "      <td>8.50</td>\n",
       "    </tr>\n",
       "    <tr>\n",
       "      <th>83413</th>\n",
       "      <td>2020-03-02</td>\n",
       "      <td>520.0</td>\n",
       "      <td>8.0</td>\n",
       "      <td>15.75</td>\n",
       "    </tr>\n",
       "    <tr>\n",
       "      <th>95070</th>\n",
       "      <td>2020-03-16</td>\n",
       "      <td>520.0</td>\n",
       "      <td>7.0</td>\n",
       "      <td>12.25</td>\n",
       "    </tr>\n",
       "    <tr>\n",
       "      <th>99194</th>\n",
       "      <td>2020-03-20</td>\n",
       "      <td>516.0</td>\n",
       "      <td>6.0</td>\n",
       "      <td>9.75</td>\n",
       "    </tr>\n",
       "    <tr>\n",
       "      <th>104324</th>\n",
       "      <td>2020-03-27</td>\n",
       "      <td>400.0</td>\n",
       "      <td>1.0</td>\n",
       "      <td>0.00</td>\n",
       "    </tr>\n",
       "    <tr>\n",
       "      <th>108497</th>\n",
       "      <td>2020-04-02</td>\n",
       "      <td>516.0</td>\n",
       "      <td>4.0</td>\n",
       "      <td>5.25</td>\n",
       "    </tr>\n",
       "  </tbody>\n",
       "</table>\n",
       "</div>"
      ],
      "text/plain": [
       "             dateF  dist_x  place  margin\n",
       "679     2019-12-01   516.0    2.0    2.00\n",
       "27252   2019-12-31   516.0    4.0    7.75\n",
       "31065   2020-01-04   520.0    7.0   11.50\n",
       "36984   2020-01-11   520.0    7.0   13.75\n",
       "76780   2020-02-24   520.0    6.0    8.50\n",
       "83413   2020-03-02   520.0    8.0   15.75\n",
       "95070   2020-03-16   520.0    7.0   12.25\n",
       "99194   2020-03-20   516.0    6.0    9.75\n",
       "104324  2020-03-27   400.0    1.0    0.00\n",
       "108497  2020-04-02   516.0    4.0    5.25"
      ]
     },
     "execution_count": 5,
     "metadata": {},
     "output_type": "execute_result"
    }
   ],
   "source": [
    "form.query(\"DogId == '251076188'\").head(10)[['dateF','dist_x','place','margin']]"
   ]
  },
  {
   "cell_type": "code",
   "execution_count": 6,
   "metadata": {},
   "outputs": [
    {
     "name": "stdout",
     "output_type": "stream",
     "text": [
      "starting stats rolling window\n",
      "form.shape=(16, 46)\n",
      "form.shape=(16, 46)\n",
      "form.columns=['DogId', 'DogName', 'RaceId', 'RaceGrade', 'dateF', 'dateF1', 'date', 'RaceTime', 'RaceNum', 'Track', 'State', 'track_code', 'dist_x', 'BSP', 'Place', 'place', 'margin', 'box', 'speed', 'split_speed', 'split_margins', 'first_out', 'pos_change', 'weight', 'RunTime', 'SplitTimes', 'StartPrice', 'DogGrade', 'race_time', 'tracksOnehot', 'MarginTime', 'run_home_speed_v1', 'run_home_speed', 'split_speed_v1', 'RunHomeTime', 'PIR', 'PIR_adj', 'start_pos', 'StartProb', 'dist_round', 'win', 'count', 'box_location', 'inside', 'midfield', 'wide', 'box_g', 'dist_g']\n"
     ]
    },
    {
     "name": "stderr",
     "output_type": "stream",
     "text": [
      "C:\\Users\\Nick\\AppData\\Local\\Temp\\ipykernel_22276\\1176839702.py:12: FutureWarning: The default of observed=False is deprecated and will be changed to True in a future version of pandas. Pass observed=False to retain current behavior or observed=True to adopt the future default and silence this warning.\n",
      "  dog_form = form.groupby(['DogId'], sort=False, as_index=False)\n"
     ]
    }
   ],
   "source": [
    "print(\"starting stats rolling window\")\n",
    "\n",
    "\n",
    "#NEW Groups for functions\n",
    "form = form.reset_index(drop=True)\n",
    "form = form.query(\"DogId == '251076188'\")\n",
    "print(f\"{form.shape=}\")\n",
    "# form = form[form['State']==\"VIC\"].reset_index()\n",
    "print(f\"{form.shape=}\")\n",
    "form['box_g'] = form['box']\n",
    "form['dist_g'] = form['dist_x']\n",
    "dog_form = form.groupby(['DogId'], sort=False, as_index=False)\n",
    "\n",
    "form = pl.from_pandas(form)\n",
    "dog_form = form.group_by(['DogId'])\n",
    "\n",
    "\n",
    "print(f\"{form.columns=}\")"
   ]
  },
  {
   "cell_type": "code",
   "execution_count": 11,
   "metadata": {},
   "outputs": [
    {
     "name": "stderr",
     "output_type": "stream",
     "text": [
      "C:\\Users\\Nick\\AppData\\Local\\Temp\\ipykernel_22276\\1764915137.py:1: DeprecationWarning: `groupby` is deprecated. It has been renamed to `group_by`.\n",
      "  dog_form = form.groupby(['DogId'])\n"
     ]
    },
    {
     "ename": "TypeError",
     "evalue": "Expr.rolling() got an unexpected keyword argument 'window_size'",
     "output_type": "error",
     "traceback": [
      "\u001b[1;31m---------------------------------------------------------------------------\u001b[0m",
      "\u001b[1;31mTypeError\u001b[0m                                 Traceback (most recent call last)",
      "Cell \u001b[1;32mIn[11], line 2\u001b[0m\n\u001b[0;32m      1\u001b[0m dog_form \u001b[38;5;241m=\u001b[39m form\u001b[38;5;241m.\u001b[39mgroupby([\u001b[38;5;124m'\u001b[39m\u001b[38;5;124mDogId\u001b[39m\u001b[38;5;124m'\u001b[39m])\n\u001b[1;32m----> 2\u001b[0m form_stats \u001b[38;5;241m=\u001b[39m \u001b[43mgenerate_dog_stats_simple\u001b[49m\u001b[43m(\u001b[49m\u001b[43mform\u001b[49m\u001b[43m,\u001b[49m\u001b[43m \u001b[49m\u001b[43mdog_form\u001b[49m\u001b[43m,\u001b[49m\u001b[43mrolling_window\u001b[49m\u001b[38;5;241;43m=\u001b[39;49m\u001b[38;5;241;43m1\u001b[39;49m\u001b[43m)\u001b[49m\n\u001b[0;32m      3\u001b[0m \u001b[38;5;28mprint\u001b[39m(\u001b[38;5;124m\"\u001b[39m\u001b[38;5;124mfin 1\u001b[39m\u001b[38;5;124m\"\u001b[39m)\n",
      "Cell \u001b[1;32mIn[10], line 24\u001b[0m, in \u001b[0;36mgenerate_dog_stats_simple\u001b[1;34m(df_in, df_g, rolling_window, factor)\u001b[0m\n\u001b[0;32m     17\u001b[0m     df \u001b[38;5;241m=\u001b[39m df\u001b[38;5;241m.\u001b[39mwith_columns(pl\u001b[38;5;241m.\u001b[39mlit(\u001b[38;5;241m0\u001b[39m)\u001b[38;5;241m.\u001b[39malias(\u001b[38;5;124mf\u001b[39m\u001b[38;5;124m'\u001b[39m\u001b[38;5;132;01m{\u001b[39;00mfactor\u001b[38;5;132;01m}\u001b[39;00m\u001b[38;5;124m_box_last__\u001b[39m\u001b[38;5;132;01m{\u001b[39;00mrolling_window\u001b[38;5;132;01m}\u001b[39;00m\u001b[38;5;124m'\u001b[39m))\n\u001b[0;32m     19\u001b[0m \u001b[38;5;66;03m# df = df_g.with_columns(pl.col('box').cast(int))\u001b[39;00m\n\u001b[0;32m     20\u001b[0m new_cols \u001b[38;5;241m=\u001b[39m [pl\u001b[38;5;241m.\u001b[39mcol(\u001b[38;5;124m'\u001b[39m\u001b[38;5;124mspeed\u001b[39m\u001b[38;5;124m'\u001b[39m)\u001b[38;5;241m.\u001b[39mrolling_mean(window_size\u001b[38;5;241m=\u001b[39mrolling_window, min_periods\u001b[38;5;241m=\u001b[39m\u001b[38;5;241m1\u001b[39m, closed\u001b[38;5;241m=\u001b[39m\u001b[38;5;124m'\u001b[39m\u001b[38;5;124mleft\u001b[39m\u001b[38;5;124m'\u001b[39m)\u001b[38;5;241m.\u001b[39malias(\u001b[38;5;124mf\u001b[39m\u001b[38;5;124m'\u001b[39m\u001b[38;5;132;01m{\u001b[39;00mfactor\u001b[38;5;132;01m}\u001b[39;00m\u001b[38;5;124m_speed_avg_\u001b[39m\u001b[38;5;132;01m{\u001b[39;00mrolling_window\u001b[38;5;132;01m}\u001b[39;00m\u001b[38;5;124m'\u001b[39m),\n\u001b[0;32m     21\u001b[0m \u001b[38;5;66;03m# .alias(f'{factor}_split_speed_v1_{rolling_window}')) _ pl.col('split_speed_v1').rolling_mean(window_size=rolling_window, min_periods=1, closed='left')['split_speed_v1',\u001b[39;00m\n\u001b[0;32m     22\u001b[0m pl\u001b[38;5;241m.\u001b[39mcol(\u001b[38;5;124m'\u001b[39m\u001b[38;5;124msplit_speed\u001b[39m\u001b[38;5;124m'\u001b[39m)\u001b[38;5;241m.\u001b[39mrolling_mean(window_size\u001b[38;5;241m=\u001b[39mrolling_window, min_periods\u001b[38;5;241m=\u001b[39m\u001b[38;5;241m1\u001b[39m, closed\u001b[38;5;241m=\u001b[39m\u001b[38;5;124m'\u001b[39m\u001b[38;5;124mleft\u001b[39m\u001b[38;5;124m'\u001b[39m)\u001b[38;5;241m.\u001b[39malias(\u001b[38;5;124mf\u001b[39m\u001b[38;5;124m'\u001b[39m\u001b[38;5;132;01m{\u001b[39;00mfactor\u001b[38;5;132;01m}\u001b[39;00m\u001b[38;5;124m_split_speed_avg_\u001b[39m\u001b[38;5;132;01m{\u001b[39;00mrolling_window\u001b[38;5;132;01m}\u001b[39;00m\u001b[38;5;124m'\u001b[39m),\n\u001b[0;32m     23\u001b[0m pl\u001b[38;5;241m.\u001b[39mcol(\u001b[38;5;124m'\u001b[39m\u001b[38;5;124msplit_margins\u001b[39m\u001b[38;5;124m'\u001b[39m)\u001b[38;5;241m.\u001b[39mrolling_mean(window_size\u001b[38;5;241m=\u001b[39mrolling_window, min_periods\u001b[38;5;241m=\u001b[39m\u001b[38;5;241m1\u001b[39m, closed\u001b[38;5;241m=\u001b[39m\u001b[38;5;124m'\u001b[39m\u001b[38;5;124mleft\u001b[39m\u001b[38;5;124m'\u001b[39m)\u001b[38;5;241m.\u001b[39malias(\u001b[38;5;124mf\u001b[39m\u001b[38;5;124m'\u001b[39m\u001b[38;5;132;01m{\u001b[39;00mfactor\u001b[38;5;132;01m}\u001b[39;00m\u001b[38;5;124m_split_margin_avg_\u001b[39m\u001b[38;5;132;01m{\u001b[39;00mrolling_window\u001b[38;5;132;01m}\u001b[39;00m\u001b[38;5;124m'\u001b[39m),\n\u001b[1;32m---> 24\u001b[0m \u001b[43mpl\u001b[49m\u001b[38;5;241;43m.\u001b[39;49m\u001b[43mmean\u001b[49m\u001b[43m(\u001b[49m\u001b[38;5;124;43m'\u001b[39;49m\u001b[38;5;124;43mmargin\u001b[39;49m\u001b[38;5;124;43m'\u001b[39;49m\u001b[43m)\u001b[49m\u001b[38;5;241;43m.\u001b[39;49m\u001b[43mrolling\u001b[49m\u001b[43m(\u001b[49m\u001b[43mwindow_size\u001b[49m\u001b[38;5;241;43m=\u001b[39;49m\u001b[43mrolling_window\u001b[49m\u001b[43m,\u001b[49m\u001b[43m \u001b[49m\u001b[43mmin_periods\u001b[49m\u001b[38;5;241;43m=\u001b[39;49m\u001b[38;5;241;43m1\u001b[39;49m\u001b[43m,\u001b[49m\u001b[43m \u001b[49m\u001b[43mclosed\u001b[49m\u001b[38;5;241;43m=\u001b[39;49m\u001b[38;5;124;43m'\u001b[39;49m\u001b[38;5;124;43mleft\u001b[39;49m\u001b[38;5;124;43m'\u001b[39;49m\u001b[43m)\u001b[49m\u001b[38;5;241m.\u001b[39malias(\u001b[38;5;124mf\u001b[39m\u001b[38;5;124m'\u001b[39m\u001b[38;5;132;01m{\u001b[39;00mfactor\u001b[38;5;132;01m}\u001b[39;00m\u001b[38;5;124m_margin_avg_\u001b[39m\u001b[38;5;132;01m{\u001b[39;00mrolling_window\u001b[38;5;132;01m}\u001b[39;00m\u001b[38;5;124m'\u001b[39m),\n\u001b[0;32m     25\u001b[0m pl\u001b[38;5;241m.\u001b[39mcol(\u001b[38;5;124m'\u001b[39m\u001b[38;5;124mMarginTime\u001b[39m\u001b[38;5;124m'\u001b[39m)\u001b[38;5;241m.\u001b[39mrolling_mean(window_size\u001b[38;5;241m=\u001b[39mrolling_window, min_periods\u001b[38;5;241m=\u001b[39m\u001b[38;5;241m1\u001b[39m, closed\u001b[38;5;241m=\u001b[39m\u001b[38;5;124m'\u001b[39m\u001b[38;5;124mleft\u001b[39m\u001b[38;5;124m'\u001b[39m)\u001b[38;5;241m.\u001b[39malias(\u001b[38;5;124mf\u001b[39m\u001b[38;5;124m'\u001b[39m\u001b[38;5;132;01m{\u001b[39;00mfactor\u001b[38;5;132;01m}\u001b[39;00m\u001b[38;5;124m_margin_time_avg_\u001b[39m\u001b[38;5;132;01m{\u001b[39;00mrolling_window\u001b[38;5;132;01m}\u001b[39;00m\u001b[38;5;124m'\u001b[39m),\n\u001b[0;32m     26\u001b[0m pl\u001b[38;5;241m.\u001b[39mcol(\u001b[38;5;124m'\u001b[39m\u001b[38;5;124mRunHomeTime\u001b[39m\u001b[38;5;124m'\u001b[39m)\u001b[38;5;241m.\u001b[39mrolling_mean(window_size\u001b[38;5;241m=\u001b[39mrolling_window, min_periods\u001b[38;5;241m=\u001b[39m\u001b[38;5;241m1\u001b[39m, closed\u001b[38;5;241m=\u001b[39m\u001b[38;5;124m'\u001b[39m\u001b[38;5;124mleft\u001b[39m\u001b[38;5;124m'\u001b[39m)\u001b[38;5;241m.\u001b[39malias(\u001b[38;5;124mf\u001b[39m\u001b[38;5;124m'\u001b[39m\u001b[38;5;132;01m{\u001b[39;00mfactor\u001b[38;5;132;01m}\u001b[39;00m\u001b[38;5;124m_RunHomeTime_\u001b[39m\u001b[38;5;132;01m{\u001b[39;00mrolling_window\u001b[38;5;132;01m}\u001b[39;00m\u001b[38;5;124m'\u001b[39m),\n\u001b[0;32m     27\u001b[0m pl\u001b[38;5;241m.\u001b[39mcol(\u001b[38;5;124m'\u001b[39m\u001b[38;5;124mrun_home_speed\u001b[39m\u001b[38;5;124m'\u001b[39m)\u001b[38;5;241m.\u001b[39mrolling_mean(window_size\u001b[38;5;241m=\u001b[39mrolling_window, min_periods\u001b[38;5;241m=\u001b[39m\u001b[38;5;241m1\u001b[39m, closed\u001b[38;5;241m=\u001b[39m\u001b[38;5;124m'\u001b[39m\u001b[38;5;124mleft\u001b[39m\u001b[38;5;124m'\u001b[39m)\u001b[38;5;241m.\u001b[39malias(\u001b[38;5;124mf\u001b[39m\u001b[38;5;124m'\u001b[39m\u001b[38;5;132;01m{\u001b[39;00mfactor\u001b[38;5;132;01m}\u001b[39;00m\u001b[38;5;124m_run_home_speed_\u001b[39m\u001b[38;5;132;01m{\u001b[39;00mrolling_window\u001b[38;5;132;01m}\u001b[39;00m\u001b[38;5;124m'\u001b[39m),\n\u001b[0;32m     28\u001b[0m pl\u001b[38;5;241m.\u001b[39mcol(\u001b[38;5;124m'\u001b[39m\u001b[38;5;124mfirst_out\u001b[39m\u001b[38;5;124m'\u001b[39m)\u001b[38;5;241m.\u001b[39mrolling_mean(window_size\u001b[38;5;241m=\u001b[39mrolling_window, min_periods\u001b[38;5;241m=\u001b[39m\u001b[38;5;241m1\u001b[39m, closed\u001b[38;5;241m=\u001b[39m\u001b[38;5;124m'\u001b[39m\u001b[38;5;124mleft\u001b[39m\u001b[38;5;124m'\u001b[39m)\u001b[38;5;241m.\u001b[39malias(\u001b[38;5;124mf\u001b[39m\u001b[38;5;124m'\u001b[39m\u001b[38;5;132;01m{\u001b[39;00mfactor\u001b[38;5;132;01m}\u001b[39;00m\u001b[38;5;124m_first_out_avg_\u001b[39m\u001b[38;5;132;01m{\u001b[39;00mrolling_window\u001b[38;5;132;01m}\u001b[39;00m\u001b[38;5;124m'\u001b[39m),\n\u001b[0;32m     29\u001b[0m pl\u001b[38;5;241m.\u001b[39mcol(\u001b[38;5;124m'\u001b[39m\u001b[38;5;124mstart_pos\u001b[39m\u001b[38;5;124m'\u001b[39m)\u001b[38;5;241m.\u001b[39mrolling_mean(window_size\u001b[38;5;241m=\u001b[39mrolling_window, min_periods\u001b[38;5;241m=\u001b[39m\u001b[38;5;241m1\u001b[39m, closed\u001b[38;5;241m=\u001b[39m\u001b[38;5;124m'\u001b[39m\u001b[38;5;124mleft\u001b[39m\u001b[38;5;124m'\u001b[39m)\u001b[38;5;241m.\u001b[39malias(\u001b[38;5;124mf\u001b[39m\u001b[38;5;124m'\u001b[39m\u001b[38;5;132;01m{\u001b[39;00mfactor\u001b[38;5;132;01m}\u001b[39;00m\u001b[38;5;124m_pos_out_avg_\u001b[39m\u001b[38;5;132;01m{\u001b[39;00mrolling_window\u001b[38;5;132;01m}\u001b[39;00m\u001b[38;5;124m'\u001b[39m),\n\u001b[0;32m     30\u001b[0m pl\u001b[38;5;241m.\u001b[39mcol(\u001b[38;5;124m'\u001b[39m\u001b[38;5;124mpos_change\u001b[39m\u001b[38;5;124m'\u001b[39m)\u001b[38;5;241m.\u001b[39mrolling_mean(window_size\u001b[38;5;241m=\u001b[39mrolling_window, min_periods\u001b[38;5;241m=\u001b[39m\u001b[38;5;241m1\u001b[39m, closed\u001b[38;5;241m=\u001b[39m\u001b[38;5;124m'\u001b[39m\u001b[38;5;124mleft\u001b[39m\u001b[38;5;124m'\u001b[39m)\u001b[38;5;241m.\u001b[39malias(\u001b[38;5;124mf\u001b[39m\u001b[38;5;124m'\u001b[39m\u001b[38;5;132;01m{\u001b[39;00mfactor\u001b[38;5;132;01m}\u001b[39;00m\u001b[38;5;124m_post_change_avg_\u001b[39m\u001b[38;5;132;01m{\u001b[39;00mrolling_window\u001b[38;5;132;01m}\u001b[39;00m\u001b[38;5;124m'\u001b[39m),\n\u001b[0;32m     31\u001b[0m pl\u001b[38;5;241m.\u001b[39mcol(\u001b[38;5;124m'\u001b[39m\u001b[38;5;124mwin\u001b[39m\u001b[38;5;124m'\u001b[39m)\u001b[38;5;241m.\u001b[39mcum_count()\u001b[38;5;241m.\u001b[39malias(\u001b[38;5;124mf\u001b[39m\u001b[38;5;124m'\u001b[39m\u001b[38;5;132;01m{\u001b[39;00mfactor\u001b[38;5;132;01m}\u001b[39;00m\u001b[38;5;124m_races_\u001b[39m\u001b[38;5;132;01m{\u001b[39;00mrolling_window\u001b[38;5;132;01m}\u001b[39;00m\u001b[38;5;124m'\u001b[39m),\n\u001b[0;32m     32\u001b[0m pl\u001b[38;5;241m.\u001b[39mcol(\u001b[38;5;124m'\u001b[39m\u001b[38;5;124mwin\u001b[39m\u001b[38;5;124m'\u001b[39m)\u001b[38;5;241m.\u001b[39mrolling_mean(window_size\u001b[38;5;241m=\u001b[39m\u001b[38;5;241m1000\u001b[39m, min_periods\u001b[38;5;241m=\u001b[39m\u001b[38;5;241m1\u001b[39m, closed\u001b[38;5;241m=\u001b[39m\u001b[38;5;124m'\u001b[39m\u001b[38;5;124mleft\u001b[39m\u001b[38;5;124m'\u001b[39m)\u001b[38;5;241m.\u001b[39malias(\u001b[38;5;124mf\u001b[39m\u001b[38;5;124m'\u001b[39m\u001b[38;5;132;01m{\u001b[39;00mfactor\u001b[38;5;132;01m}\u001b[39;00m\u001b[38;5;124m_wins_\u001b[39m\u001b[38;5;132;01m{\u001b[39;00mrolling_window\u001b[38;5;132;01m}\u001b[39;00m\u001b[38;5;124m'\u001b[39m),\n\u001b[0;32m     33\u001b[0m pl\u001b[38;5;241m.\u001b[39mcol(\u001b[38;5;124m'\u001b[39m\u001b[38;5;124mwin\u001b[39m\u001b[38;5;124m'\u001b[39m)\u001b[38;5;241m.\u001b[39mrolling_sum(window_size\u001b[38;5;241m=\u001b[39mrolling_window, min_periods\u001b[38;5;241m=\u001b[39m\u001b[38;5;241m1\u001b[39m, closed\u001b[38;5;241m=\u001b[39m\u001b[38;5;124m'\u001b[39m\u001b[38;5;124mleft\u001b[39m\u001b[38;5;124m'\u001b[39m)\u001b[38;5;241m.\u001b[39malias(\u001b[38;5;124mf\u001b[39m\u001b[38;5;124m'\u001b[39m\u001b[38;5;132;01m{\u001b[39;00mfactor\u001b[38;5;132;01m}\u001b[39;00m\u001b[38;5;124m_wins_last_\u001b[39m\u001b[38;5;132;01m{\u001b[39;00mrolling_window\u001b[38;5;132;01m}\u001b[39;00m\u001b[38;5;124m'\u001b[39m),\n\u001b[0;32m     34\u001b[0m pl\u001b[38;5;241m.\u001b[39mcol(\u001b[38;5;124m'\u001b[39m\u001b[38;5;124mweight\u001b[39m\u001b[38;5;124m'\u001b[39m)\u001b[38;5;241m.\u001b[39mrolling_mean(window_size\u001b[38;5;241m=\u001b[39mrolling_window, min_periods\u001b[38;5;241m=\u001b[39m\u001b[38;5;241m1\u001b[39m, closed\u001b[38;5;241m=\u001b[39m\u001b[38;5;124m'\u001b[39m\u001b[38;5;124mleft\u001b[39m\u001b[38;5;124m'\u001b[39m)\u001b[38;5;241m.\u001b[39malias(\u001b[38;5;124mf\u001b[39m\u001b[38;5;124m'\u001b[39m\u001b[38;5;132;01m{\u001b[39;00mfactor\u001b[38;5;132;01m}\u001b[39;00m\u001b[38;5;124m_weight_\u001b[39m\u001b[38;5;124m'\u001b[39m),\n\u001b[0;32m     35\u001b[0m pl\u001b[38;5;241m.\u001b[39mcol(\u001b[38;5;124m\"\u001b[39m\u001b[38;5;124mRunTime\u001b[39m\u001b[38;5;124m\"\u001b[39m)\u001b[38;5;241m.\u001b[39mrolling_min(window_size\u001b[38;5;241m=\u001b[39mrolling_window, min_periods\u001b[38;5;241m=\u001b[39m\u001b[38;5;241m1\u001b[39m, closed\u001b[38;5;241m=\u001b[39m\u001b[38;5;124m'\u001b[39m\u001b[38;5;124mleft\u001b[39m\u001b[38;5;124m'\u001b[39m)\u001b[38;5;241m.\u001b[39malias(\u001b[38;5;124mf\u001b[39m\u001b[38;5;124m'\u001b[39m\u001b[38;5;132;01m{\u001b[39;00mfactor\u001b[38;5;132;01m}\u001b[39;00m\u001b[38;5;124m_min_time_\u001b[39m\u001b[38;5;124m'\u001b[39m),\n\u001b[0;32m     36\u001b[0m pl\u001b[38;5;241m.\u001b[39mcol(\u001b[38;5;124m\"\u001b[39m\u001b[38;5;124mSplitTimes\u001b[39m\u001b[38;5;124m\"\u001b[39m)\u001b[38;5;241m.\u001b[39mrolling_min(window_size\u001b[38;5;241m=\u001b[39mrolling_window, min_periods\u001b[38;5;241m=\u001b[39m\u001b[38;5;241m1\u001b[39m, closed\u001b[38;5;241m=\u001b[39m\u001b[38;5;124m'\u001b[39m\u001b[38;5;124mleft\u001b[39m\u001b[38;5;124m'\u001b[39m)\u001b[38;5;241m.\u001b[39malias(\u001b[38;5;124mf\u001b[39m\u001b[38;5;124m'\u001b[39m\u001b[38;5;132;01m{\u001b[39;00mfactor\u001b[38;5;132;01m}\u001b[39;00m\u001b[38;5;124m_min_split_time_\u001b[39m\u001b[38;5;124m'\u001b[39m),\n\u001b[0;32m     37\u001b[0m pl\u001b[38;5;241m.\u001b[39mcol(\u001b[38;5;124m\"\u001b[39m\u001b[38;5;124mStartPrice\u001b[39m\u001b[38;5;124m\"\u001b[39m)\u001b[38;5;241m.\u001b[39mrolling_min(window_size\u001b[38;5;241m=\u001b[39mrolling_window, min_periods\u001b[38;5;241m=\u001b[39m\u001b[38;5;241m1\u001b[39m, closed\u001b[38;5;241m=\u001b[39m\u001b[38;5;124m'\u001b[39m\u001b[38;5;124mleft\u001b[39m\u001b[38;5;124m'\u001b[39m)\u001b[38;5;241m.\u001b[39malias(\u001b[38;5;124mf\u001b[39m\u001b[38;5;124m'\u001b[39m\u001b[38;5;132;01m{\u001b[39;00mfactor\u001b[38;5;132;01m}\u001b[39;00m\u001b[38;5;124m_last_start_price\u001b[39m\u001b[38;5;124m'\u001b[39m),\n\u001b[0;32m     38\u001b[0m pl\u001b[38;5;241m.\u001b[39mcol(\u001b[38;5;124m\"\u001b[39m\u001b[38;5;124mStartProb\u001b[39m\u001b[38;5;124m\"\u001b[39m)\u001b[38;5;241m.\u001b[39mrolling_min(window_size\u001b[38;5;241m=\u001b[39mrolling_window, min_periods\u001b[38;5;241m=\u001b[39m\u001b[38;5;241m1\u001b[39m, closed\u001b[38;5;241m=\u001b[39m\u001b[38;5;124m'\u001b[39m\u001b[38;5;124mleft\u001b[39m\u001b[38;5;124m'\u001b[39m)\u001b[38;5;241m.\u001b[39malias(\u001b[38;5;124mf\u001b[39m\u001b[38;5;124m'\u001b[39m\u001b[38;5;132;01m{\u001b[39;00mfactor\u001b[38;5;132;01m}\u001b[39;00m\u001b[38;5;124m_last_start_prob\u001b[39m\u001b[38;5;124m'\u001b[39m)]\n\u001b[0;32m     40\u001b[0m df \u001b[38;5;241m=\u001b[39m df_g\u001b[38;5;241m.\u001b[39mmap_groups(\u001b[38;5;28;01mlambda\u001b[39;00m group: group\u001b[38;5;241m.\u001b[39mwith_columns(new_cols))\n\u001b[0;32m     42\u001b[0m \u001b[38;5;28;01mreturn\u001b[39;00m(df)\n",
      "\u001b[1;31mTypeError\u001b[0m: Expr.rolling() got an unexpected keyword argument 'window_size'"
     ]
    }
   ],
   "source": [
    "dog_form = form.groupby(['DogId'])\n",
    "form_stats = generate_dog_stats_simple(form, dog_form,rolling_window=1)\n",
    "print(\"fin 1\")"
   ]
  },
  {
   "cell_type": "code",
   "execution_count": 13,
   "metadata": {},
   "outputs": [
    {
     "ename": "SyntaxError",
     "evalue": "unmatched ')' (3853317322.py, line 1)",
     "output_type": "error",
     "traceback": [
      "\u001b[1;36m  Cell \u001b[1;32mIn[13], line 1\u001b[1;36m\u001b[0m\n\u001b[1;33m    form_stats = form.with_columns(pl.col('margin').rolling_mean(1,closed='left').by_window(pl.col('DogId'))).alias('_margin_avg_1'))\u001b[0m\n\u001b[1;37m                                                                                                                                    ^\u001b[0m\n\u001b[1;31mSyntaxError\u001b[0m\u001b[1;31m:\u001b[0m unmatched ')'\n"
     ]
    }
   ],
   "source": [
    "form_stats = form.with_columns(pl.col('margin').rolling_mean(1,closed='left').by_window(pl.col('DogId'))).alias('_margin_avg_1'))"
   ]
  },
  {
   "cell_type": "code",
   "execution_count": 9,
   "metadata": {},
   "outputs": [
    {
     "data": {
      "text/html": [
       "<div><style>\n",
       ".dataframe > thead > tr,\n",
       ".dataframe > tbody > tr {\n",
       "  text-align: right;\n",
       "  white-space: pre-wrap;\n",
       "}\n",
       "</style>\n",
       "<small>shape: (16, 1)</small><table border=\"1\" class=\"dataframe\"><thead><tr><th>_margin_avg_1</th></tr><tr><td>f64</td></tr></thead><tbody><tr><td>2.0</td></tr><tr><td>7.75</td></tr><tr><td>11.5</td></tr><tr><td>13.75</td></tr><tr><td>8.5</td></tr><tr><td>15.75</td></tr><tr><td>12.25</td></tr><tr><td>9.75</td></tr><tr><td>0.0</td></tr><tr><td>5.25</td></tr><tr><td>15.0</td></tr><tr><td>6.75</td></tr><tr><td>3.75</td></tr><tr><td>2.0</td></tr><tr><td>9.25</td></tr><tr><td>9.75</td></tr></tbody></table></div>"
      ],
      "text/plain": [
       "shape: (16, 1)\n",
       "┌───────────────┐\n",
       "│ _margin_avg_1 │\n",
       "│ ---           │\n",
       "│ f64           │\n",
       "╞═══════════════╡\n",
       "│ 2.0           │\n",
       "│ 7.75          │\n",
       "│ 11.5          │\n",
       "│ 13.75         │\n",
       "│ …             │\n",
       "│ 3.75          │\n",
       "│ 2.0           │\n",
       "│ 9.25          │\n",
       "│ 9.75          │\n",
       "└───────────────┘"
      ]
     },
     "execution_count": 9,
     "metadata": {},
     "output_type": "execute_result"
    }
   ],
   "source": [
    "form_stats[['_margin_avg_1']]"
   ]
  },
  {
   "cell_type": "code",
   "execution_count": 82,
   "metadata": {},
   "outputs": [
    {
     "name": "stdout",
     "output_type": "stream",
     "text": [
      "['DogId', 'DogName', 'RaceId', 'RaceGrade', 'dateF', 'dateF1', 'date', 'RaceTime', 'RaceNum', 'Track', 'State', 'track_code', 'dist_x', 'BSP', 'Place', 'place', 'margin', 'box', 'speed', 'split_speed', 'split_margins', 'first_out', 'pos_change', 'weight', 'RunTime', 'SplitTimes', 'StartPrice', 'DogGrade', 'race_time', 'tracksOnehot', 'MarginTime', 'run_home_speed_v1', 'run_home_speed', 'split_speed_v1', 'RunHomeTime', 'PIR', 'PIR_adj', 'start_pos', 'StartProb', 'dist_round', 'win', 'count', 'box_location', 'inside', 'midfield', 'wide', 'box_g', 'dist_g']\n"
     ]
    },
    {
     "name": "stderr",
     "output_type": "stream",
     "text": [
      "C:\\Users\\Nick\\AppData\\Local\\Temp\\ipykernel_15976\\4158808149.py:3: DeprecationWarning: `groupby` is deprecated. It has been renamed to `group_by`.\n",
      "  box_form = form.groupby(['DogId','box_g'])\n",
      "C:\\Users\\Nick\\AppData\\Local\\Temp\\ipykernel_15976\\4158808149.py:4: DeprecationWarning: `groupby` is deprecated. It has been renamed to `group_by`.\n",
      "  track_box_form = form.groupby(['DogId','box_g','Track'])\n",
      "C:\\Users\\Nick\\AppData\\Local\\Temp\\ipykernel_15976\\4158808149.py:5: DeprecationWarning: `groupby` is deprecated. It has been renamed to `group_by`.\n",
      "  track_dist_form = form.groupby(['DogId','dist_g','Track'])\n"
     ]
    },
    {
     "ename": "PanicException",
     "evalue": "UDF failed: ",
     "output_type": "error",
     "traceback": [
      "\u001b[1;31m---------------------------------------------------------------------------\u001b[0m",
      "\u001b[1;31mPanicException\u001b[0m                            Traceback (most recent call last)",
      "Cell \u001b[1;32mIn[82], line 11\u001b[0m\n\u001b[0;32m      5\u001b[0m track_dist_form \u001b[38;5;241m=\u001b[39m form\u001b[38;5;241m.\u001b[39mgroupby([\u001b[38;5;124m'\u001b[39m\u001b[38;5;124mDogId\u001b[39m\u001b[38;5;124m'\u001b[39m,\u001b[38;5;124m'\u001b[39m\u001b[38;5;124mdist_g\u001b[39m\u001b[38;5;124m'\u001b[39m,\u001b[38;5;124m'\u001b[39m\u001b[38;5;124mTrack\u001b[39m\u001b[38;5;124m'\u001b[39m])\n\u001b[0;32m      6\u001b[0m \u001b[38;5;66;03m# form = generate_prev_weight(form, dog_form)\u001b[39;00m\n\u001b[0;32m      7\u001b[0m \u001b[38;5;66;03m# form_stats = generate_dog_stats(form, dog_form,rolling_window=30)\u001b[39;00m\n\u001b[0;32m      8\u001b[0m \u001b[38;5;66;03m# print(\"fin 30\")\u001b[39;00m\n\u001b[0;32m      9\u001b[0m \u001b[38;5;66;03m# form_stats = generate_dog_stats(form_stats, dog_form,rolling_window=5)\u001b[39;00m\n\u001b[0;32m     10\u001b[0m \u001b[38;5;66;03m# print(\"fin 5\")\u001b[39;00m\n\u001b[1;32m---> 11\u001b[0m form_stats \u001b[38;5;241m=\u001b[39m \u001b[43mgenerate_dog_stats_simple\u001b[49m\u001b[43m(\u001b[49m\u001b[43mform\u001b[49m\u001b[43m,\u001b[49m\u001b[43m \u001b[49m\u001b[43mdog_form\u001b[49m\u001b[43m,\u001b[49m\u001b[43mrolling_window\u001b[49m\u001b[38;5;241;43m=\u001b[39;49m\u001b[38;5;241;43m1\u001b[39;49m\u001b[43m)\u001b[49m\n\u001b[0;32m     12\u001b[0m \u001b[38;5;28mprint\u001b[39m(\u001b[38;5;124m\"\u001b[39m\u001b[38;5;124mfin 1\u001b[39m\u001b[38;5;124m\"\u001b[39m)\n\u001b[0;32m     13\u001b[0m form_stats \u001b[38;5;241m=\u001b[39m generate_dog_stats_simple(form_stats, dist_form,rolling_window\u001b[38;5;241m=\u001b[39m\u001b[38;5;241m10\u001b[39m,factor\u001b[38;5;241m=\u001b[39m\u001b[38;5;124m'\u001b[39m\u001b[38;5;124mdist\u001b[39m\u001b[38;5;124m'\u001b[39m)\n",
      "Cell \u001b[1;32mIn[81], line 40\u001b[0m, in \u001b[0;36mgenerate_dog_stats_simple\u001b[1;34m(df_in, df_g, rolling_window, factor)\u001b[0m\n\u001b[0;32m     19\u001b[0m \u001b[38;5;66;03m# df = df_g.with_columns(pl.col('box').cast(int))\u001b[39;00m\n\u001b[0;32m     20\u001b[0m new_cols \u001b[38;5;241m=\u001b[39m [pl\u001b[38;5;241m.\u001b[39mcol(\u001b[38;5;124m'\u001b[39m\u001b[38;5;124mspeed\u001b[39m\u001b[38;5;124m'\u001b[39m)\u001b[38;5;241m.\u001b[39mrolling_mean(window_size\u001b[38;5;241m=\u001b[39mrolling_window, min_periods\u001b[38;5;241m=\u001b[39m\u001b[38;5;241m1\u001b[39m, closed\u001b[38;5;241m=\u001b[39m\u001b[38;5;124m'\u001b[39m\u001b[38;5;124mleft\u001b[39m\u001b[38;5;124m'\u001b[39m)\u001b[38;5;241m.\u001b[39malias(\u001b[38;5;124mf\u001b[39m\u001b[38;5;124m'\u001b[39m\u001b[38;5;132;01m{\u001b[39;00mfactor\u001b[38;5;132;01m}\u001b[39;00m\u001b[38;5;124m_speed_avg_\u001b[39m\u001b[38;5;132;01m{\u001b[39;00mrolling_window\u001b[38;5;132;01m}\u001b[39;00m\u001b[38;5;124m'\u001b[39m),\n\u001b[0;32m     21\u001b[0m \u001b[38;5;66;03m# .alias(f'{factor}_split_speed_v1_{rolling_window}')) _ pl.col('split_speed_v1').rolling_mean(window_size=rolling_window, min_periods=1, closed='left')['split_speed_v1',\u001b[39;00m\n\u001b[0;32m     22\u001b[0m pl\u001b[38;5;241m.\u001b[39mcol(\u001b[38;5;124m'\u001b[39m\u001b[38;5;124msplit_speed\u001b[39m\u001b[38;5;124m'\u001b[39m)\u001b[38;5;241m.\u001b[39mrolling_mean(window_size\u001b[38;5;241m=\u001b[39mrolling_window, min_periods\u001b[38;5;241m=\u001b[39m\u001b[38;5;241m1\u001b[39m, closed\u001b[38;5;241m=\u001b[39m\u001b[38;5;124m'\u001b[39m\u001b[38;5;124mleft\u001b[39m\u001b[38;5;124m'\u001b[39m)\u001b[38;5;241m.\u001b[39malias(\u001b[38;5;124mf\u001b[39m\u001b[38;5;124m'\u001b[39m\u001b[38;5;132;01m{\u001b[39;00mfactor\u001b[38;5;132;01m}\u001b[39;00m\u001b[38;5;124m_split_speed_avg_\u001b[39m\u001b[38;5;132;01m{\u001b[39;00mrolling_window\u001b[38;5;132;01m}\u001b[39;00m\u001b[38;5;124m'\u001b[39m),\n\u001b[1;32m   (...)\u001b[0m\n\u001b[0;32m     37\u001b[0m pl\u001b[38;5;241m.\u001b[39mcol(\u001b[38;5;124m\"\u001b[39m\u001b[38;5;124mStartPrice\u001b[39m\u001b[38;5;124m\"\u001b[39m)\u001b[38;5;241m.\u001b[39mrolling_min(window_size\u001b[38;5;241m=\u001b[39mrolling_window, min_periods\u001b[38;5;241m=\u001b[39m\u001b[38;5;241m1\u001b[39m, closed\u001b[38;5;241m=\u001b[39m\u001b[38;5;124m'\u001b[39m\u001b[38;5;124mleft\u001b[39m\u001b[38;5;124m'\u001b[39m)\u001b[38;5;241m.\u001b[39malias(\u001b[38;5;124mf\u001b[39m\u001b[38;5;124m'\u001b[39m\u001b[38;5;132;01m{\u001b[39;00mfactor\u001b[38;5;132;01m}\u001b[39;00m\u001b[38;5;124m_last_start_price\u001b[39m\u001b[38;5;124m'\u001b[39m),\n\u001b[0;32m     38\u001b[0m pl\u001b[38;5;241m.\u001b[39mcol(\u001b[38;5;124m\"\u001b[39m\u001b[38;5;124mStartProb\u001b[39m\u001b[38;5;124m\"\u001b[39m)\u001b[38;5;241m.\u001b[39mrolling_min(window_size\u001b[38;5;241m=\u001b[39mrolling_window, min_periods\u001b[38;5;241m=\u001b[39m\u001b[38;5;241m1\u001b[39m, closed\u001b[38;5;241m=\u001b[39m\u001b[38;5;124m'\u001b[39m\u001b[38;5;124mleft\u001b[39m\u001b[38;5;124m'\u001b[39m)\u001b[38;5;241m.\u001b[39malias(\u001b[38;5;124mf\u001b[39m\u001b[38;5;124m'\u001b[39m\u001b[38;5;132;01m{\u001b[39;00mfactor\u001b[38;5;132;01m}\u001b[39;00m\u001b[38;5;124m_last_start_prob\u001b[39m\u001b[38;5;124m'\u001b[39m)]\n\u001b[1;32m---> 40\u001b[0m df \u001b[38;5;241m=\u001b[39m \u001b[43mdf_g\u001b[49m\u001b[38;5;241;43m.\u001b[39;49m\u001b[43mmap_groups\u001b[49m\u001b[43m(\u001b[49m\u001b[38;5;28;43;01mlambda\u001b[39;49;00m\u001b[43m \u001b[49m\u001b[43mgroup\u001b[49m\u001b[43m:\u001b[49m\u001b[43m \u001b[49m\u001b[43mgroup\u001b[49m\u001b[38;5;241;43m.\u001b[39;49m\u001b[43mwith_columns\u001b[49m\u001b[43m(\u001b[49m\u001b[43mnew_cols\u001b[49m\u001b[43m)\u001b[49m\u001b[43m)\u001b[49m\n\u001b[0;32m     42\u001b[0m \u001b[38;5;28;01mreturn\u001b[39;00m(df)\n",
      "File \u001b[1;32mc:\\Users\\Nick\\.conda\\envs\\python311\\Lib\\site-packages\\polars\\dataframe\\group_by.py:324\u001b[0m, in \u001b[0;36mGroupBy.map_groups\u001b[1;34m(self, function)\u001b[0m\n\u001b[0;32m    320\u001b[0m \u001b[38;5;28;01melse\u001b[39;00m:\n\u001b[0;32m    321\u001b[0m     \u001b[38;5;28;01mraise\u001b[39;00m \u001b[38;5;167;01mTypeError\u001b[39;00m(\u001b[38;5;124m\"\u001b[39m\u001b[38;5;124mcannot call `map_groups` when grouping by an expression\u001b[39m\u001b[38;5;124m\"\u001b[39m)\n\u001b[0;32m    323\u001b[0m \u001b[38;5;28;01mreturn\u001b[39;00m \u001b[38;5;28mself\u001b[39m\u001b[38;5;241m.\u001b[39mdf\u001b[38;5;241m.\u001b[39m\u001b[38;5;18m__class__\u001b[39m\u001b[38;5;241m.\u001b[39m_from_pydf(\n\u001b[1;32m--> 324\u001b[0m     \u001b[38;5;28;43mself\u001b[39;49m\u001b[38;5;241;43m.\u001b[39;49m\u001b[43mdf\u001b[49m\u001b[38;5;241;43m.\u001b[39;49m\u001b[43m_df\u001b[49m\u001b[38;5;241;43m.\u001b[39;49m\u001b[43mgroup_by_map_groups\u001b[49m\u001b[43m(\u001b[49m\u001b[43mby\u001b[49m\u001b[43m,\u001b[49m\u001b[43m \u001b[49m\u001b[43mfunction\u001b[49m\u001b[43m,\u001b[49m\u001b[43m \u001b[49m\u001b[38;5;28;43mself\u001b[39;49m\u001b[38;5;241;43m.\u001b[39;49m\u001b[43mmaintain_order\u001b[49m\u001b[43m)\u001b[49m\n\u001b[0;32m    325\u001b[0m )\n",
      "\u001b[1;31mPanicException\u001b[0m: UDF failed: "
     ]
    }
   ],
   "source": [
    "print(form.columns)\n",
    "dist_form = form.group_by(['DogId','dist_round'])\n",
    "box_form = form.groupby(['DogId','box_g'])\n",
    "track_box_form = form.groupby(['DogId','box_g','Track'])\n",
    "track_dist_form = form.groupby(['DogId','dist_g','Track'])\n",
    "# form = generate_prev_weight(form, dog_form)\n",
    "# form_stats = generate_dog_stats(form, dog_form,rolling_window=30)\n",
    "# print(\"fin 30\")\n",
    "# form_stats = generate_dog_stats(form_stats, dog_form,rolling_window=5)\n",
    "# print(\"fin 5\")\n",
    "form_stats = generate_dog_stats_simple(form, dog_form,rolling_window=1)\n",
    "print(\"fin 1\")\n",
    "form_stats = generate_dog_stats_simple(form_stats, dist_form,rolling_window=10,factor='dist')\n",
    "print(\"fin 10_dist\")\n",
    "form_stats = generate_dog_stats_simple(form_stats, box_form,rolling_window=10,factor='box')\n",
    "print(\"fin 10 box\")\n",
    "form_stats = generate_dog_stats_simple(form_stats, track_box_form,rolling_window=10,factor='track_box')\n",
    "print(\"fin 10 track_box\")\n",
    "form_stats = generate_dog_stats_simple(form_stats, track_dist_form,rolling_window=10,factor='track_dist')\n",
    "print(\"fin 10 track_dist\")  "
   ]
  },
  {
   "cell_type": "code",
   "execution_count": 69,
   "metadata": {},
   "outputs": [
    {
     "name": "stdout",
     "output_type": "stream",
     "text": [
      "['DogId', 'DogName', 'RaceId', 'RaceGrade', 'dateF', 'dateF1', 'date', 'RaceTime', 'RaceNum', 'Track', 'State', 'track_code', 'dist_x', 'BSP', 'Place', 'place', 'margin', 'box', 'speed', 'split_speed', 'split_margins', 'first_out', 'pos_change', 'weight', 'RunTime', 'SplitTimes', 'StartPrice', 'DogGrade', 'race_time', 'tracksOnehot', 'MarginTime', 'run_home_speed_v1', 'run_home_speed', 'split_speed_v1', 'RunHomeTime', 'PIR', 'PIR_adj', 'start_pos', 'StartProb', 'dist_round', 'win', 'count', 'box_location', 'inside', 'midfield', 'wide', 'box_g', 'dist_g', '_dist_last__1', '_box_last__1', '_speed_avg_1', '_split_speed_avg_1', '_split_margin_avg_1', '_margin_avg_1', '_margin_time_avg_1', '_RunHomeTime_1', '_run_home_speed_1', '_first_out_avg_1', '_pos_out_avg_1', '_post_change_avg_1', '_races_1', '_wins_1', '_wins_last_1', '_weight_', '_min_time_', '_min_split_time_', '_last_start_price', '_last_start_prob', 'dist_dist_last__10', 'dist_box_last__10', 'dist_speed_avg_10', 'dist_split_speed_avg_10', 'dist_split_margin_avg_10', 'dist_margin_avg_10', 'dist_margin_time_avg_10', 'dist_RunHomeTime_10', 'dist_run_home_speed_10', 'dist_first_out_avg_10', 'dist_pos_out_avg_10', 'dist_post_change_avg_10', 'dist_races_10', 'dist_wins_10', 'dist_wins_last_10', 'dist_weight_', 'dist_min_time_', 'dist_min_split_time_', 'dist_last_start_price', 'dist_last_start_prob', 'box_dist_last__10', 'box_box_last__10', 'box_speed_avg_10', 'box_split_speed_avg_10', 'box_split_margin_avg_10', 'box_margin_avg_10', 'box_margin_time_avg_10', 'box_RunHomeTime_10', 'box_run_home_speed_10', 'box_first_out_avg_10', 'box_pos_out_avg_10', 'box_post_change_avg_10', 'box_races_10', 'box_wins_10', 'box_wins_last_10', 'box_weight_', 'box_min_time_', 'box_min_split_time_', 'box_last_start_price', 'box_last_start_prob', 'track_box_dist_last__10', 'track_box_box_last__10', 'track_box_speed_avg_10', 'track_box_split_speed_avg_10', 'track_box_split_margin_avg_10', 'track_box_margin_avg_10', 'track_box_margin_time_avg_10', 'track_box_RunHomeTime_10', 'track_box_run_home_speed_10', 'track_box_first_out_avg_10', 'track_box_pos_out_avg_10', 'track_box_post_change_avg_10', 'track_box_races_10', 'track_box_wins_10', 'track_box_wins_last_10', 'track_box_weight_', 'track_box_min_time_', 'track_box_min_split_time_', 'track_box_last_start_price', 'track_box_last_start_prob', 'track_dist_dist_last__10', 'track_dist_box_last__10', 'track_dist_speed_avg_10', 'track_dist_split_speed_avg_10', 'track_dist_split_margin_avg_10', 'track_dist_margin_avg_10', 'track_dist_margin_time_avg_10', 'track_dist_RunHomeTime_10', 'track_dist_run_home_speed_10', 'track_dist_first_out_avg_10', 'track_dist_pos_out_avg_10', 'track_dist_post_change_avg_10', 'track_dist_races_10', 'track_dist_wins_10', 'track_dist_wins_last_10', 'track_dist_weight_', 'track_dist_min_time_', 'track_dist_min_split_time_', 'track_dist_last_start_price', 'track_dist_last_start_prob']\n"
     ]
    }
   ],
   "source": [
    "print(form_stats.columns)"
   ]
  },
  {
   "cell_type": "code",
   "execution_count": 70,
   "metadata": {},
   "outputs": [],
   "source": [
    "form = form_stats.to_pandas()"
   ]
  },
  {
   "cell_type": "code",
   "execution_count": 71,
   "metadata": {},
   "outputs": [],
   "source": [
    "star = form.query(\"DogId == '251076188'\").head(10)"
   ]
  },
  {
   "cell_type": "code",
   "execution_count": 72,
   "metadata": {},
   "outputs": [
    {
     "data": {
      "text/html": [
       "<div>\n",
       "<style scoped>\n",
       "    .dataframe tbody tr th:only-of-type {\n",
       "        vertical-align: middle;\n",
       "    }\n",
       "\n",
       "    .dataframe tbody tr th {\n",
       "        vertical-align: top;\n",
       "    }\n",
       "\n",
       "    .dataframe thead th {\n",
       "        text-align: right;\n",
       "    }\n",
       "</style>\n",
       "<table border=\"1\" class=\"dataframe\">\n",
       "  <thead>\n",
       "    <tr style=\"text-align: right;\">\n",
       "      <th></th>\n",
       "      <th>dateF</th>\n",
       "      <th>_dist_last__1</th>\n",
       "      <th>dist_x</th>\n",
       "      <th>place</th>\n",
       "      <th>margin</th>\n",
       "      <th>_margin_avg_1</th>\n",
       "    </tr>\n",
       "  </thead>\n",
       "  <tbody>\n",
       "    <tr>\n",
       "      <th>0</th>\n",
       "      <td>2019-12-01</td>\n",
       "      <td>NaN</td>\n",
       "      <td>NaN</td>\n",
       "      <td>2.0</td>\n",
       "      <td>NaN</td>\n",
       "      <td>NaN</td>\n",
       "    </tr>\n",
       "    <tr>\n",
       "      <th>27757</th>\n",
       "      <td>2019-12-31</td>\n",
       "      <td>516.0</td>\n",
       "      <td>400.0</td>\n",
       "      <td>4.0</td>\n",
       "      <td>3.75</td>\n",
       "      <td>7.50</td>\n",
       "    </tr>\n",
       "    <tr>\n",
       "      <th>30693</th>\n",
       "      <td>2020-01-04</td>\n",
       "      <td>300.0</td>\n",
       "      <td>300.0</td>\n",
       "      <td>7.0</td>\n",
       "      <td>2.11</td>\n",
       "      <td>3.97</td>\n",
       "    </tr>\n",
       "    <tr>\n",
       "      <th>37370</th>\n",
       "      <td>2020-01-11</td>\n",
       "      <td>520.0</td>\n",
       "      <td>520.0</td>\n",
       "      <td>7.0</td>\n",
       "      <td>18.50</td>\n",
       "      <td>6.00</td>\n",
       "    </tr>\n",
       "    <tr>\n",
       "      <th>76394</th>\n",
       "      <td>2020-02-24</td>\n",
       "      <td>520.0</td>\n",
       "      <td>520.0</td>\n",
       "      <td>6.0</td>\n",
       "      <td>0.00</td>\n",
       "      <td>7.50</td>\n",
       "    </tr>\n",
       "    <tr>\n",
       "      <th>83095</th>\n",
       "      <td>2020-03-02</td>\n",
       "      <td>520.0</td>\n",
       "      <td>520.0</td>\n",
       "      <td>8.0</td>\n",
       "      <td>8.25</td>\n",
       "      <td>15.25</td>\n",
       "    </tr>\n",
       "    <tr>\n",
       "      <th>95639</th>\n",
       "      <td>2020-03-16</td>\n",
       "      <td>520.0</td>\n",
       "      <td>450.0</td>\n",
       "      <td>7.0</td>\n",
       "      <td>5.50</td>\n",
       "      <td>0.00</td>\n",
       "    </tr>\n",
       "    <tr>\n",
       "      <th>98797</th>\n",
       "      <td>2020-03-20</td>\n",
       "      <td>516.0</td>\n",
       "      <td>516.0</td>\n",
       "      <td>6.0</td>\n",
       "      <td>0.00</td>\n",
       "      <td>8.50</td>\n",
       "    </tr>\n",
       "    <tr>\n",
       "      <th>104613</th>\n",
       "      <td>2020-03-27</td>\n",
       "      <td>400.0</td>\n",
       "      <td>400.0</td>\n",
       "      <td>1.0</td>\n",
       "      <td>8.25</td>\n",
       "      <td>20.75</td>\n",
       "    </tr>\n",
       "    <tr>\n",
       "      <th>108050</th>\n",
       "      <td>2020-04-02</td>\n",
       "      <td>516.0</td>\n",
       "      <td>400.0</td>\n",
       "      <td>4.0</td>\n",
       "      <td>13.75</td>\n",
       "      <td>4.00</td>\n",
       "    </tr>\n",
       "  </tbody>\n",
       "</table>\n",
       "</div>"
      ],
      "text/plain": [
       "            dateF  _dist_last__1  dist_x  place  margin  _margin_avg_1\n",
       "0      2019-12-01            NaN     NaN    2.0     NaN            NaN\n",
       "27757  2019-12-31          516.0   400.0    4.0    3.75           7.50\n",
       "30693  2020-01-04          300.0   300.0    7.0    2.11           3.97\n",
       "37370  2020-01-11          520.0   520.0    7.0   18.50           6.00\n",
       "76394  2020-02-24          520.0   520.0    6.0    0.00           7.50\n",
       "83095  2020-03-02          520.0   520.0    8.0    8.25          15.25\n",
       "95639  2020-03-16          520.0   450.0    7.0    5.50           0.00\n",
       "98797  2020-03-20          516.0   516.0    6.0    0.00           8.50\n",
       "104613 2020-03-27          400.0   400.0    1.0    8.25          20.75\n",
       "108050 2020-04-02          516.0   400.0    4.0   13.75           4.00"
      ]
     },
     "execution_count": 72,
     "metadata": {},
     "output_type": "execute_result"
    }
   ],
   "source": [
    "star[['dateF','_dist_last__1','dist_x','place','margin','_margin_avg_1']]"
   ]
  }
 ],
 "metadata": {
  "kernelspec": {
   "display_name": "python311",
   "language": "python",
   "name": "python3"
  },
  "language_info": {
   "codemirror_mode": {
    "name": "ipython",
    "version": 3
   },
   "file_extension": ".py",
   "mimetype": "text/x-python",
   "name": "python",
   "nbconvert_exporter": "python",
   "pygments_lexer": "ipython3",
   "version": "3.11.5"
  }
 },
 "nbformat": 4,
 "nbformat_minor": 2
}
