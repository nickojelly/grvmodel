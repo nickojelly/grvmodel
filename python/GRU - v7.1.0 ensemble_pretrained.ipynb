{
 "cells": [
  {
   "cell_type": "code",
   "execution_count": 1,
   "metadata": {},
   "outputs": [
    {
     "name": "stdout",
     "output_type": "stream",
     "text": [
      "c:\\Users\\Nick\\Documents\\GitHub\\grvmodel\\python\n"
     ]
    }
   ],
   "source": [
    "import pickle\n",
    "import pandas as pd\n",
    "import os\n",
    "import setup\n",
    "\n",
    "import torch\n",
    "import numpy as np\n",
    "import torch.nn as nn\n",
    "import torch.nn.functional as F\n",
    "import torch.optim as optim\n",
    "from tqdm.notebook import tqdm, trange\n",
    "import torch.optim as optim\n",
    "from torch.utils.data import TensorDataset, DataLoader\n",
    "import wandb\n",
    "from torch.utils.data.sampler import SubsetRandomSampler\n",
    "import pprint\n",
    "import matplotlib.pyplot as plt\n",
    "import torch\n",
    "\n",
    "from sklearn.preprocessing import MinMaxScaler\n",
    "import math\n",
    "from torch.profiler import profile, record_function, ProfilerActivity\n",
    "\n",
    "from operator import itemgetter\n",
    "import operator\n",
    "from random import randint\n",
    "# from rnn_classes import Dog, DogInput, Race, Races, GRUNet, smallGRUNet, smalll_lin_GRUNet, smalll_prelin_GRUNet\n",
    "import rnn_tools.rnn_classes as rnn_classes\n",
    "from rnn_tools.raceDB import build_dataset\n",
    "import importlib\n",
    "import datetime\n",
    "from rnn_tools.model_saver import model_saver, model_saver_wandb\n",
    "import rnn_tools.training_testing_gru as training_testing_gru\n",
    "from torch.nn.utils.rnn import pack_padded_sequence, pack_sequence, pad_packed_sequence,pad_sequence, unpack_sequence, unpad_sequence\n",
    "import rnn_tools.training_testing_gru_double as training_testing_gru_double\n",
    "import rnn_tools.training_testing_lstm as training_testing_lstm\n",
    "from goto_conversion import goto_conversion\n",
    "\n",
    "import rnn_tools.training_testing_gru_extra_data as training_testing_gru_extra_data\n",
    "import rnn_tools.training_testing_gru_ensemble as training_testing_gru_ensemble\n",
    "import rnn_tools.training_testing_gru_ensemble_pretrained as training_testing_gru_ensemble_pretrained"
   ]
  },
  {
   "cell_type": "code",
   "execution_count": 2,
   "metadata": {},
   "outputs": [
    {
     "name": "stdout",
     "output_type": "stream",
     "text": [
      "Running on the GPU\n"
     ]
    }
   ],
   "source": [
    "if torch.cuda.is_available():\n",
    "    device = torch.device(\"cuda:0\")  # you can continue going on here, like cuda:1 cuda:2....etc.\n",
    "    print(\"Running on the GPU\")\n",
    "else:\n",
    "    device = torch.device(\"cpu\")\n",
    "    print(\"Running on the CPU\")"
   ]
  },
  {
   "cell_type": "code",
   "execution_count": 3,
   "metadata": {},
   "outputs": [
    {
     "name": "stderr",
     "output_type": "stream",
     "text": [
      "c:\\Users\\Nick\\.conda\\envs\\python311\\Lib\\site-packages\\torch\\__init__.py:614: UserWarning: torch.set_default_tensor_type() is deprecated as of PyTorch 2.1, please use torch.set_default_dtype() and torch.set_default_device() as alternatives. (Triggered internally at C:\\cb\\pytorch_1000000000000\\work\\torch\\csrc\\tensor\\python_tensor.cpp:453.)\n",
      "  _C._set_default_tensor_type(t)\n"
     ]
    }
   ],
   "source": [
    "torch.set_default_tensor_type(torch.FloatTensor)"
   ]
  },
  {
   "cell_type": "code",
   "execution_count": 4,
   "metadata": {},
   "outputs": [
    {
     "data": {
      "text/plain": [
       "'2.1.1'"
      ]
     },
     "execution_count": 4,
     "metadata": {},
     "output_type": "execute_result"
    }
   ],
   "source": [
    "torch.__version__"
   ]
  },
  {
   "cell_type": "code",
   "execution_count": 5,
   "metadata": {},
   "outputs": [
    {
     "data": {
      "text/plain": [
       "['dist_last__1',\n",
       " 'box_last__1',\n",
       " 'speed_avg_1',\n",
       " 'split_speed_v1_1',\n",
       " 'split_speed_avg_1',\n",
       " 'split_margin_avg_1',\n",
       " 'margin_avg_1',\n",
       " 'margin_time_avg_1',\n",
       " 'RunHomeTime_1',\n",
       " 'run_home_speed_1',\n",
       " 'run_home_speed_v1_1',\n",
       " 'first_out_avg_1',\n",
       " 'pos_out_avg_1',\n",
       " 'post_change_avg_1',\n",
       " 'races_1',\n",
       " 'wins_1',\n",
       " 'wins_last_1',\n",
       " 'weight_',\n",
       " 'min_time_',\n",
       " 'min_split_time_',\n",
       " 'min_split_time_v1',\n",
       " 'last_start_price',\n",
       " 'last_start_prob']"
      ]
     },
     "execution_count": 5,
     "metadata": {},
     "output_type": "execute_result"
    }
   ],
   "source": [
    "['dist_last__1', 'box_last__1', 'speed_avg_1', 'split_speed_v1_1', 'split_speed_avg_1', 'split_margin_avg_1', 'margin_avg_1', 'margin_time_avg_1', 'RunHomeTime_1', 'run_home_speed_1', 'run_home_speed_v1_1', 'first_out_avg_1', 'pos_out_avg_1', 'post_change_avg_1', 'races_1', 'wins_1', 'wins_last_1', 'weight_', 'min_time_', 'min_split_time_', 'min_split_time_v1', 'last_start_price', 'last_start_prob']"
   ]
  },
  {
   "cell_type": "code",
   "execution_count": 6,
   "metadata": {},
   "outputs": [],
   "source": [
    "def custom_l2(output, target):\n",
    "    loss = torch.mean(abs(output-target), dim=1)\n",
    "    return loss"
   ]
  },
  {
   "cell_type": "code",
   "execution_count": 7,
   "metadata": {},
   "outputs": [],
   "source": [
    "def validation_CLE(x,y):\n",
    "    loss_t = -torch.log(torch.exp(x)/torch.sum(torch.exp(x), dim=-1, keepdim=True))*y\n",
    "    return loss_t"
   ]
  },
  {
   "cell_type": "code",
   "execution_count": 8,
   "metadata": {},
   "outputs": [],
   "source": [
    "tracks = ['Sandown Park',\n",
    " 'The Meadows',\n",
    " 'Warragul',\n",
    " 'Geelong',\n",
    " 'Sale',\n",
    " 'Ballarat',\n",
    " 'Bendigo',\n",
    " 'Cranbourne']"
   ]
  },
  {
   "cell_type": "code",
   "execution_count": 9,
   "metadata": {},
   "outputs": [
    {
     "name": "stdout",
     "output_type": "stream",
     "text": [
      "c:\\Users\\Nick\\Documents\\GitHub\\grvmodel\\python\n",
      "[['inside', 'midfield', 'wide', 'weight', 'DogGrade', '_dist_last__1', '_box_last__1', '_speed_avg_1', '_split_speed_avg_1', '_split_margin_avg_1', '_margin_avg_1', '_margin_time_avg_1', '_RunHomeTime_1', '_run_home_speed_1', '_first_out_avg_1', '_pos_out_avg_1', '_post_change_avg_1', '_races_1', '_wins_1', '_wins_last_1', '_weight_', '_min_time_', '_min_split_time_', '_last_start_price', '_last_start_prob', 'dist_dist_last__10', 'dist_box_last__10', 'dist_speed_avg_10', 'dist_split_speed_avg_10', 'dist_split_margin_avg_10', 'dist_margin_avg_10', 'dist_margin_time_avg_10', 'dist_RunHomeTime_10', 'dist_run_home_speed_10', 'dist_first_out_avg_10', 'dist_pos_out_avg_10', 'dist_post_change_avg_10', 'dist_races_10', 'dist_wins_10', 'dist_wins_last_10', 'dist_weight_', 'dist_min_time_', 'dist_min_split_time_', 'dist_last_start_price', 'dist_last_start_prob', 'box_dist_last__10', 'box_box_last__10', 'box_speed_avg_10', 'box_split_speed_avg_10', 'box_split_margin_avg_10', 'box_margin_avg_10', 'box_margin_time_avg_10', 'box_RunHomeTime_10', 'box_run_home_speed_10', 'box_first_out_avg_10', 'box_pos_out_avg_10', 'box_post_change_avg_10', 'box_races_10', 'box_wins_10', 'box_wins_last_10', 'box_weight_', 'box_min_time_', 'box_min_split_time_', 'box_last_start_price', 'box_last_start_prob', 'track_box_dist_last__10', 'track_box_box_last__10', 'track_box_speed_avg_10', 'track_box_split_speed_avg_10', 'track_box_split_margin_avg_10', 'track_box_margin_avg_10', 'track_box_margin_time_avg_10', 'track_box_RunHomeTime_10', 'track_box_run_home_speed_10', 'track_box_first_out_avg_10', 'track_box_pos_out_avg_10', 'track_box_post_change_avg_10', 'track_box_races_10', 'track_box_wins_10', 'track_box_wins_last_10', 'track_box_weight_', 'track_box_min_time_', 'track_box_min_split_time_', 'track_box_last_start_price', 'track_box_last_start_prob', 'track_dist_dist_last__10', 'track_dist_box_last__10', 'track_dist_speed_avg_10', 'track_dist_split_speed_avg_10', 'track_dist_split_margin_avg_10', 'track_dist_margin_avg_10', 'track_dist_margin_time_avg_10', 'track_dist_RunHomeTime_10', 'track_dist_run_home_speed_10', 'track_dist_first_out_avg_10', 'track_dist_pos_out_avg_10', 'track_dist_post_change_avg_10', 'track_dist_races_10', 'track_dist_wins_10', 'track_dist_wins_last_10', 'track_dist_weight_', 'track_dist_min_time_', 'track_dist_min_split_time_', 'track_dist_last_start_price', 'track_dist_last_start_prob']]\n",
      "(1517094, 25)\n",
      "106\n",
      "Latest date = 2024-01-31 00:00:00\n",
      "size after state filter (156607, 27)\n",
      "(156607, 27)\n",
      "Latest date = 2024-01-31 00:00:00\n",
      "num_features_per_dog=106\n",
      "___Processing 4028 unique dogs___\n"
     ]
    },
    {
     "name": "stderr",
     "output_type": "stream",
     "text": [
      "100%|██████████| 25/25 [00:00<?, ?it/s]\n",
      "c:\\Users\\Nick\\Documents\\GitHub\\grvmodel\\python\\rnn_tools\\rnn_classes.py:389: UserWarning: To copy construct from a tensor, it is recommended to use sourceTensor.clone().detach() or sourceTensor.clone().detach().requires_grad_(True), rather than torch.tensor(sourceTensor).\n",
      "  r.prob = torch.tensor((1/(torch.tensor(r.start_prices)+0.0001))/((1/torch.tensor(r.start_prices)).sum()+0.0001),device=self.device)\n"
     ]
    },
    {
     "name": "stdout",
     "output_type": "stream",
     "text": [
      "number of races = 20849, number of unique dogs = 4029\n",
      "0            (Wanganui, 305.0)\n",
      "1            (Auckland, 318.0)\n",
      "2        (Christchurch, 295.0)\n",
      "3        (Christchurch, 295.0)\n",
      "4        (Christchurch, 520.0)\n",
      "                 ...          \n",
      "20844    (Christchurch, 520.0)\n",
      "20845    (Christchurch, 295.0)\n",
      "20846    (Christchurch, 295.0)\n",
      "20847    (Christchurch, 295.0)\n",
      "20848    (Christchurch, 295.0)\n",
      "Length: 20849, dtype: object\n"
     ]
    }
   ],
   "source": [
    "os.getcwd()\n",
    "import rnn_tools.raceDB\n",
    "importlib.reload(rnn_tools.raceDB)\n",
    "# os.chdir(r\"C:\\Users\\Nick\\Documents\\GitHub\\grvmodel\\Python\\DATA\")                                                                                                                                                                                                                                                                                                                             \n",
    "date = datetime.datetime.strptime(\"2022-01-01\", \"%Y-%m-%d\").date()\n",
    "hidden_size = 32\n",
    "states = [\"NZ\"]\n",
    "data_file = './data/gru_inputs_kitchen_sink_new_not_simple.fth'\n",
    "raceDB = rnn_tools.raceDB.build_dataset(data_file, hidden_size,state_filter=states, margin_type='boosted_sftmin',v6=True)\n",
    "raceDB.create_new_weights_v2()"
   ]
  },
  {
   "cell_type": "code",
   "execution_count": 10,
   "metadata": {},
   "outputs": [],
   "source": [
    "raceDB.stats_cols = eval(raceDB.stats_cols)[0]"
   ]
  },
  {
   "cell_type": "code",
   "execution_count": 11,
   "metadata": {},
   "outputs": [],
   "source": [
    "# raceDB.stats_cols = ['box']+raceDB.stats_cols"
   ]
  },
  {
   "cell_type": "code",
   "execution_count": 12,
   "metadata": {},
   "outputs": [
    {
     "name": "stdout",
     "output_type": "stream",
     "text": [
      "0 inside\n",
      "1 midfield\n",
      "2 wide\n",
      "3 weight\n",
      "4 DogGrade\n",
      "5 _dist_last__1\n",
      "6 _box_last__1\n",
      "7 _speed_avg_1\n",
      "8 _split_speed_avg_1\n",
      "9 _split_margin_avg_1\n",
      "10 _margin_avg_1\n",
      "11 _margin_time_avg_1\n",
      "12 _RunHomeTime_1\n",
      "13 _run_home_speed_1\n",
      "14 _first_out_avg_1\n",
      "15 _pos_out_avg_1\n",
      "16 _post_change_avg_1\n",
      "17 _races_1\n",
      "18 _wins_1\n",
      "19 _wins_last_1\n",
      "20 _weight_\n",
      "21 _min_time_\n",
      "22 _min_split_time_\n",
      "23 _last_start_price\n",
      "24 _last_start_prob\n",
      "25 dist_dist_last__10\n",
      "26 dist_box_last__10\n",
      "27 dist_speed_avg_10\n",
      "28 dist_split_speed_avg_10\n",
      "29 dist_split_margin_avg_10\n",
      "30 dist_margin_avg_10\n",
      "31 dist_margin_time_avg_10\n",
      "32 dist_RunHomeTime_10\n",
      "33 dist_run_home_speed_10\n",
      "34 dist_first_out_avg_10\n",
      "35 dist_pos_out_avg_10\n",
      "36 dist_post_change_avg_10\n",
      "37 dist_races_10\n",
      "38 dist_wins_10\n",
      "39 dist_wins_last_10\n",
      "40 dist_weight_\n",
      "41 dist_min_time_\n",
      "42 dist_min_split_time_\n",
      "43 dist_last_start_price\n",
      "44 dist_last_start_prob\n",
      "45 box_dist_last__10\n",
      "46 box_box_last__10\n",
      "47 box_speed_avg_10\n",
      "48 box_split_speed_avg_10\n",
      "49 box_split_margin_avg_10\n",
      "50 box_margin_avg_10\n",
      "51 box_margin_time_avg_10\n",
      "52 box_RunHomeTime_10\n",
      "53 box_run_home_speed_10\n",
      "54 box_first_out_avg_10\n",
      "55 box_pos_out_avg_10\n",
      "56 box_post_change_avg_10\n",
      "57 box_races_10\n",
      "58 box_wins_10\n",
      "59 box_wins_last_10\n",
      "60 box_weight_\n",
      "61 box_min_time_\n",
      "62 box_min_split_time_\n",
      "63 box_last_start_price\n",
      "64 box_last_start_prob\n",
      "65 track_box_dist_last__10\n",
      "66 track_box_box_last__10\n",
      "67 track_box_speed_avg_10\n",
      "68 track_box_split_speed_avg_10\n",
      "69 track_box_split_margin_avg_10\n",
      "70 track_box_margin_avg_10\n",
      "71 track_box_margin_time_avg_10\n",
      "72 track_box_RunHomeTime_10\n",
      "73 track_box_run_home_speed_10\n",
      "74 track_box_first_out_avg_10\n",
      "75 track_box_pos_out_avg_10\n",
      "76 track_box_post_change_avg_10\n",
      "77 track_box_races_10\n",
      "78 track_box_wins_10\n",
      "79 track_box_wins_last_10\n",
      "80 track_box_weight_\n",
      "81 track_box_min_time_\n",
      "82 track_box_min_split_time_\n",
      "83 track_box_last_start_price\n",
      "84 track_box_last_start_prob\n",
      "85 track_dist_dist_last__10\n",
      "86 track_dist_box_last__10\n",
      "87 track_dist_speed_avg_10\n",
      "88 track_dist_split_speed_avg_10\n",
      "89 track_dist_split_margin_avg_10\n",
      "90 track_dist_margin_avg_10\n",
      "91 track_dist_margin_time_avg_10\n",
      "92 track_dist_RunHomeTime_10\n",
      "93 track_dist_run_home_speed_10\n",
      "94 track_dist_first_out_avg_10\n",
      "95 track_dist_pos_out_avg_10\n",
      "96 track_dist_post_change_avg_10\n",
      "97 track_dist_races_10\n",
      "98 track_dist_wins_10\n",
      "99 track_dist_wins_last_10\n",
      "100 track_dist_weight_\n",
      "101 track_dist_min_time_\n",
      "102 track_dist_min_split_time_\n",
      "103 track_dist_last_start_price\n",
      "104 track_dist_last_start_prob\n"
     ]
    }
   ],
   "source": [
    "for i,s in enumerate(raceDB.stats_cols):\n",
    "    print(i,s)"
   ]
  },
  {
   "cell_type": "code",
   "execution_count": 13,
   "metadata": {},
   "outputs": [],
   "source": [
    "from rnn_tools.rnn_classes import Races,Dog, DogInput, Race"
   ]
  },
  {
   "cell_type": "code",
   "execution_count": 14,
   "metadata": {},
   "outputs": [],
   "source": [
    "import rnn_tools.raceDB"
   ]
  },
  {
   "cell_type": "code",
   "execution_count": 15,
   "metadata": {},
   "outputs": [
    {
     "data": {
      "text/plain": [
       "[datetime.date(2020, 2, 2),\n",
       " datetime.date(2020, 2, 2),\n",
       " datetime.date(2020, 2, 2),\n",
       " datetime.date(2020, 2, 2),\n",
       " datetime.date(2020, 2, 2),\n",
       " datetime.date(2020, 2, 2),\n",
       " datetime.date(2020, 2, 3),\n",
       " datetime.date(2020, 2, 3),\n",
       " datetime.date(2020, 2, 3),\n",
       " datetime.date(2020, 2, 3),\n",
       " datetime.date(2020, 2, 3),\n",
       " datetime.date(2020, 2, 3),\n",
       " datetime.date(2020, 2, 3),\n",
       " datetime.date(2020, 2, 3),\n",
       " datetime.date(2020, 2, 3),\n",
       " datetime.date(2020, 2, 3),\n",
       " datetime.date(2020, 2, 3),\n",
       " datetime.date(2020, 2, 3),\n",
       " datetime.date(2020, 2, 3),\n",
       " datetime.date(2020, 2, 3),\n",
       " datetime.date(2020, 2, 3),\n",
       " datetime.date(2020, 2, 4),\n",
       " datetime.date(2020, 2, 4),\n",
       " datetime.date(2020, 2, 4),\n",
       " datetime.date(2020, 2, 4),\n",
       " datetime.date(2020, 2, 4),\n",
       " datetime.date(2020, 2, 4),\n",
       " datetime.date(2020, 2, 4),\n",
       " datetime.date(2020, 2, 4),\n",
       " datetime.date(2020, 2, 4),\n",
       " datetime.date(2020, 2, 4),\n",
       " datetime.date(2020, 2, 4),\n",
       " datetime.date(2020, 2, 4),\n",
       " datetime.date(2020, 2, 4),\n",
       " datetime.date(2020, 2, 4),\n",
       " datetime.date(2020, 2, 4),\n",
       " datetime.date(2020, 2, 4),\n",
       " datetime.date(2020, 2, 4),\n",
       " datetime.date(2020, 2, 4),\n",
       " datetime.date(2020, 2, 4),\n",
       " datetime.date(2020, 2, 4),\n",
       " datetime.date(2020, 2, 4),\n",
       " datetime.date(2020, 2, 4),\n",
       " datetime.date(2020, 2, 4),\n",
       " datetime.date(2020, 2, 5),\n",
       " datetime.date(2020, 2, 5),\n",
       " datetime.date(2020, 2, 5),\n",
       " datetime.date(2020, 2, 5),\n",
       " datetime.date(2020, 2, 5),\n",
       " datetime.date(2020, 2, 5),\n",
       " datetime.date(2020, 2, 5),\n",
       " datetime.date(2020, 2, 5),\n",
       " datetime.date(2020, 2, 5),\n",
       " datetime.date(2020, 2, 5),\n",
       " datetime.date(2020, 2, 5),\n",
       " datetime.date(2020, 2, 5),\n",
       " datetime.date(2020, 2, 5),\n",
       " datetime.date(2020, 2, 5),\n",
       " datetime.date(2020, 2, 6),\n",
       " datetime.date(2020, 2, 6),\n",
       " datetime.date(2020, 2, 6),\n",
       " datetime.date(2020, 2, 6),\n",
       " datetime.date(2020, 2, 6),\n",
       " datetime.date(2020, 2, 6),\n",
       " datetime.date(2020, 2, 6),\n",
       " datetime.date(2020, 2, 6),\n",
       " datetime.date(2020, 2, 6),\n",
       " datetime.date(2020, 2, 6),\n",
       " datetime.date(2020, 2, 6),\n",
       " datetime.date(2020, 2, 6),\n",
       " datetime.date(2020, 2, 6),\n",
       " datetime.date(2020, 2, 6),\n",
       " datetime.date(2020, 2, 6),\n",
       " datetime.date(2020, 2, 6),\n",
       " datetime.date(2020, 2, 6),\n",
       " datetime.date(2020, 2, 6),\n",
       " datetime.date(2020, 2, 6),\n",
       " datetime.date(2020, 2, 6),\n",
       " datetime.date(2020, 2, 6),\n",
       " datetime.date(2020, 2, 6),\n",
       " datetime.date(2020, 2, 6),\n",
       " datetime.date(2020, 2, 6),\n",
       " datetime.date(2020, 2, 6),\n",
       " datetime.date(2020, 2, 7),\n",
       " datetime.date(2020, 2, 7),\n",
       " datetime.date(2020, 2, 7),\n",
       " datetime.date(2020, 2, 7),\n",
       " datetime.date(2020, 2, 7),\n",
       " datetime.date(2020, 2, 7),\n",
       " datetime.date(2020, 2, 7),\n",
       " datetime.date(2020, 2, 7),\n",
       " datetime.date(2020, 2, 7),\n",
       " datetime.date(2020, 2, 7),\n",
       " datetime.date(2020, 2, 7),\n",
       " datetime.date(2020, 2, 7),\n",
       " datetime.date(2020, 2, 7),\n",
       " datetime.date(2020, 2, 7),\n",
       " datetime.date(2020, 2, 7),\n",
       " datetime.date(2020, 2, 7),\n",
       " datetime.date(2020, 2, 7)]"
      ]
     },
     "execution_count": 15,
     "metadata": {},
     "output_type": "execute_result"
    }
   ],
   "source": [
    "races = raceDB.get_race_input(range(1000,1100))\n",
    "[r.race_date for r in races]"
   ]
  },
  {
   "cell_type": "code",
   "execution_count": 16,
   "metadata": {},
   "outputs": [],
   "source": [
    "stat_list = ['dist_last__1', 'box_last__1', 'speed_avg_1', 'split_speed_v1_1', 'split_speed_avg_1', 'split_margin_avg_1', 'margin_avg_1', 'margin_time_avg_1', 'RunHomeTime_1', 'run_home_speed_1', 'run_home_speed_v1_1', 'first_out_avg_1', 'pos_out_avg_1', 'post_change_avg_1', 'races_1', 'wins_1', 'wins_last_1', 'weight_', 'min_time_', 'min_split_time_', 'min_split_time_v1', 'last_start_price', 'last_start_prob']\n"
   ]
  },
  {
   "cell_type": "code",
   "execution_count": 17,
   "metadata": {},
   "outputs": [],
   "source": [
    "def closure(optimizer, criterion, outs, classes):\n",
    "    optimizer.zero_grad()\n",
    "    loss = nn.functional.mse_loss(outs, classes)\n",
    "    loss.backward()\n",
    "    return loss\n",
    "\n",
    "def model_pipeline(my_dataset=raceDB,config=None,prev_model=None, sweep=True, model_state_dict=None, prev_model_file=None, prev_model_version='450'):\n",
    "    if my_dataset:\n",
    "      dataset = my_dataset    \n",
    "    else:\n",
    "      dataset = raceDB\n",
    "    # tell wandb to get started\n",
    "    with wandb.init(project=\"NEW GRU V7 Ensemble\", config=config,save_code=False):\n",
    "      #  access all HPs through wandb.config, so logging matches execution!\n",
    "      wandb.define_metric(\"loss_val\", summary=\"min\")\n",
    "      wandb.define_metric(\"accuracy\", summary=\"max\")\n",
    "      wandb.define_metric(\"ROI < 30\", summary=\"max\")\n",
    "      wandb.define_metric(\"relu roi\", summary=\"max\")\n",
    "      \n",
    "      config = wandb.config\n",
    "      pprint.pprint(config)\n",
    "      pprint.pprint(config.epochs)\n",
    "      print(config)\n",
    "      wandb.run.log_code('rnn_tools/')\n",
    "      # input_size = raceDB.get_race_input([0,1])[0].full_input.shape[0] #create fix so messy\n",
    "      print(config.input_type)\n",
    "\n",
    "      for i in config.stat_list_dict.values():\n",
    "        print(i)\n",
    "\n",
    "      reg_stat_mask = []\n",
    "      for stat,flag in config.stat_list_dict.items():\n",
    "          stat_flag = flag\n",
    "          reg_stat_mask = reg_stat_mask+[stat_flag]\n",
    "\n",
    "      print(reg_stat_mask)\n",
    "      stat_mask = [1]*6+reg_stat_mask+[0]*80\n",
    "      data_mask = [0]*26+[1]*20+[1]*20+[1]*20+[1]*20 # Reg, Dist, Box, T_box, T_dist\n",
    "      data_mask = [1]*6+reg_stat_mask+[0]*20+[0]*20+[0]*20+[0]*20 # Reg, Dist, Box, T_box, T_dist\n",
    "      data_mask_size = sum(data_mask)\n",
    "      print(f\"{data_mask_size=}\")\n",
    "      stat_mask = torch.tensor(stat_mask).type(torch.bool).to(device)\n",
    "      data_mask = torch.tensor(data_mask).type(torch.bool).to(device)\n",
    "      # stat_mask = torch.ones_like(stat_mask).type(torch.bool).to(device)\n",
    "\n",
    "      print(stat_mask)\n",
    "      print(stat_mask.shape)\n",
    "\n",
    "      if 'batch_days' in config.keys():\n",
    "        pass\n",
    "        raceDB.create_test_split_date(config['training_date_end'],val_date='2023-07-01')\n",
    "        raceDB.create_dogs_test_split_date()\n",
    "        raceDB.attach_races_to_dog_inputv2() \n",
    "        raceDB.reset_hidden()\n",
    "        raceDB.create_batches(batch_days=config['batch_days'], end_date = config['training_date_end'], stat_mask=stat_mask,data_mask=data_mask)\n",
    "\n",
    "      if config['input_type'] == 'basic':\n",
    "          print('here')\n",
    "          raceDB.batches['packed_x'] = raceDB.batches['packed_x_basic']\n",
    "          raceDB.batches['packed_y'] = raceDB.batches['packed_y_basic']\n",
    "          raceDB.batches['packed_v'] = raceDB.batches['packed_v_basic']\n",
    "          input_size = raceDB.batches['packed_x'][0].data[0].shape[0]\n",
    "\n",
    "      # for race in raceDB.racesDict.values():\n",
    "      #     for dog_input in race.dogs:\n",
    "      #       dog_input.stats_masked = dog_input.stats.masked_select(stat_mask) \n",
    "\n",
    "      num_batches = len(raceDB.batches['packed_x'])\n",
    "      print(f\"{input_size=}\")\n",
    "      print(f\"Num batches {len(raceDB.batches['packed_x'])}\")\n",
    "      config['stat_mask_tensor'] = torch.tensor(stat_mask, dtype=torch.uint8).to(device)     \n",
    "      raceDB.reset_hidden(num_layers=config['num_layers'], hidden_size=config['hidden_size'])\n",
    "      model = rnn_classes.GRUNetv4_stacking(raceDB,input_size,config['hidden_size'],num_models=5, num_layers=config['num_layers'],fc0_size=config['f0_layer_size'], fc1_size=config['f1_layer_size'],data_mask_size=data_mask_size)\n",
    "      optimizer = optim.AdamW(model.parameters(), lr=config['learning_rate'])\n",
    "\n",
    "      for i,model_dict in pre_trained_bases.items():\n",
    "        model_name = model_dict['model_name']\n",
    "        print(model_name)\n",
    "        model_ver = model_dict['version']\n",
    "        model_loc = f\"C:/Users/Nick/Documents/GitHub/grvmodel/Python/pytorch/New Model/savedmodel/{model_name}/{model_name}_{model_ver}.pt\"\n",
    "        model_data = torch.load(model_loc,map_location=torch.device('cuda:0'))\n",
    "        print(model_data['model_state_dict'].keys())\n",
    "        model.model_list[i].load_state_dict(model_data['model_state_dict'], strict=True)\n",
    "\n",
    "      raceDB.to_cuda()\n",
    "      criterion = nn.CrossEntropyLoss(reduction='none')\n",
    "      optimizer = optim.RAdam(model.parameters(), lr=config['learning_rate'])\n",
    "\n",
    "      model = model.to(device)\n",
    "      # print(model)y6\n",
    "\n",
    "      # stop\n",
    "      # and use them to train the model\n",
    "      # wandb.watch(model, log='all')\n",
    "      try:\n",
    "        # train_double_loss_regular(model, dataset, criterion, optimizer, scheduler, config, crit2=custom_l2)\n",
    "        training_testing_gru_ensemble_pretrained.train_double_v3(model, dataset, criterion, optimizer, 'na', config)\n",
    "      except (KeyboardInterrupt) as error:\n",
    "        print(error)\n",
    "        print(\"finished Early\")\n",
    "        \n",
    "      # dataset.create_hidden_states_dict()\n",
    "      raceDB.create_hidden_states_dict_v2()\n",
    "      model_saver_wandb(model, optimizer, 450, 0.1, raceDB.hidden_states_dict_gru_v6,raceDB.train_hidden_dict , model_name=\"long nsw new  22000 RUN\")\n",
    "      if sweep:\n",
    "        # raceDB.reset_all_lstm_states\n",
    "        raceDB.reset_hidden()\n",
    "    \n",
    "\n",
    "\n",
    "    # and test its final performance\n",
    "    #test(model, test_loader)\n",
    "\n",
    "    return (model,dataset, optimizer)"
   ]
  },
  {
   "cell_type": "code",
   "execution_count": 18,
   "metadata": {},
   "outputs": [],
   "source": [
    "pre_trained_bases = {}\n",
    "\n",
    "pre_trained_bases[0] = {'model_name':'stellar-pine-41', 'version':120}\n",
    "pre_trained_bases[1] = {'model_name':'dulcet-feather-42', 'version':60}\n",
    "pre_trained_bases[2] = {'model_name':'autumn-blaze-43', 'version':100}\n",
    "pre_trained_bases[3] = {'model_name':'exalted-paper-45', 'version':40}\n",
    "pre_trained_bases[4] = {'model_name':'sweet-resonance-46', 'version':20}\n",
    "\n",
    "stat_list_dict = {'_dist_last__1':1,\n",
    "    '_box_last__1':1,\n",
    "    '_speed_avg_1':1,\n",
    "    '_split_speed_avg_1':1,\n",
    "    '_split_margin_avg_1':1,\n",
    "    '_margin_avg_1':1,\n",
    "    '_margin_time_avg_1':1,\n",
    "    '_RunHomeTime_1':1,\n",
    "    '_run_home_speed_1':1,\n",
    "    '_first_out_avg_1':1,\n",
    "    '_pos_out_avg_1':1,\n",
    "    '_post_change_avg_1':1,\n",
    "    '_races_1':1,\n",
    "    '_wins_1':1,\n",
    "    '_wins_last_1':1,\n",
    "    '_weight_':1,\n",
    "    '_min_time_':1,\n",
    "    '_min_split_time_':1,\n",
    "    '_last_start_price':1,\n",
    "    '_last_start_prob':1,\n",
    "}\n",
    "\n",
    "wandb_config_static = {\n",
    "    'hidden_size': 256,\n",
    "    'stats': raceDB.stats_cols,\n",
    "    'races': states,\n",
    "    'datafile': data_file,\n",
    "    'latest_date': raceDB.latest_date,\n",
    "    'input_type': 'basic',\n",
    "    'num_layers': 2,\n",
    "    'batch_size': 750,\n",
    "    'dropout': 0.3,\n",
    "    'epochs': 1500,\n",
    "    'learning_rate': 0.001,\n",
    "    'optimizer': 'adamW',\n",
    "    'f0_layer_size': 128,\n",
    "    'f1_layer_size': 64,\n",
    "    'training_date_end': '2023-01-01',\n",
    "    'notes':'GRU, with basic add on data looped in',\n",
    "    'batch_days': 180,\n",
    "    'stat_list_dict': stat_list_dict,\n",
    "}"
   ]
  },
  {
   "cell_type": "code",
   "execution_count": 19,
   "metadata": {},
   "outputs": [],
   "source": [
    "raceDB.reset_hidden(num_layers=wandb_config_static['num_layers'], hidden_size=wandb_config_static['hidden_size'])"
   ]
  },
  {
   "cell_type": "code",
   "execution_count": 20,
   "metadata": {},
   "outputs": [],
   "source": [
    "torch.cuda.empty_cache()"
   ]
  },
  {
   "cell_type": "code",
   "execution_count": 21,
   "metadata": {},
   "outputs": [],
   "source": [
    "raceDB.race_prices_to_prob()"
   ]
  },
  {
   "cell_type": "code",
   "execution_count": 22,
   "metadata": {},
   "outputs": [
    {
     "data": {
      "text/plain": [
       "Timestamp('2024-01-31 00:00:00')"
      ]
     },
     "execution_count": 22,
     "metadata": {},
     "output_type": "execute_result"
    }
   ],
   "source": [
    "raceDB.latest_date"
   ]
  },
  {
   "cell_type": "code",
   "execution_count": 23,
   "metadata": {},
   "outputs": [],
   "source": [
    "# for i in raceDB.racesDict.values():\n",
    "#     if i.win_price_weightv2.isnan():\n",
    "#         # print(i)\n",
    "#         i.win_price_weightv2 = torch.tensor(0.5).to('cuda:0')"
   ]
  },
  {
   "cell_type": "code",
   "execution_count": 24,
   "metadata": {},
   "outputs": [],
   "source": [
    "# [[(d.hidden_out.shape, d.dog.dogid) for d in race.dogs] for race in raceDB.batches['batch_races'][0]]"
   ]
  },
  {
   "cell_type": "code",
   "execution_count": 25,
   "metadata": {},
   "outputs": [
    {
     "name": "stderr",
     "output_type": "stream",
     "text": [
      "Failed to detect the name of this notebook, you can set it manually with the WANDB_NOTEBOOK_NAME environment variable to enable code saving.\n",
      "\u001b[34m\u001b[1mwandb\u001b[0m: Currently logged in as: \u001b[33mnickojelly\u001b[0m. Use \u001b[1m`wandb login --relogin`\u001b[0m to force relogin\n"
     ]
    },
    {
     "data": {
      "text/html": [
       "wandb version 0.16.3 is available!  To upgrade, please run:\n",
       " $ pip install wandb --upgrade"
      ],
      "text/plain": [
       "<IPython.core.display.HTML object>"
      ]
     },
     "metadata": {},
     "output_type": "display_data"
    },
    {
     "data": {
      "text/html": [
       "Tracking run with wandb version 0.16.2"
      ],
      "text/plain": [
       "<IPython.core.display.HTML object>"
      ]
     },
     "metadata": {},
     "output_type": "display_data"
    },
    {
     "data": {
      "text/html": [
       "Run data is saved locally in <code>c:\\Users\\Nick\\Documents\\GitHub\\grvmodel\\python\\wandb\\run-20240212_200328-9o25z9fu</code>"
      ],
      "text/plain": [
       "<IPython.core.display.HTML object>"
      ]
     },
     "metadata": {},
     "output_type": "display_data"
    },
    {
     "data": {
      "text/html": [
       "Syncing run <strong><a href='https://wandb.ai/nickojelly/NEW%20GRU%20V7%20Ensemble/runs/9o25z9fu' target=\"_blank\">fortuitous-dragon-103</a></strong> to <a href='https://wandb.ai/nickojelly/NEW%20GRU%20V7%20Ensemble' target=\"_blank\">Weights & Biases</a> (<a href='https://wandb.me/run' target=\"_blank\">docs</a>)<br/>"
      ],
      "text/plain": [
       "<IPython.core.display.HTML object>"
      ]
     },
     "metadata": {},
     "output_type": "display_data"
    },
    {
     "data": {
      "text/html": [
       " View project at <a href='https://wandb.ai/nickojelly/NEW%20GRU%20V7%20Ensemble' target=\"_blank\">https://wandb.ai/nickojelly/NEW%20GRU%20V7%20Ensemble</a>"
      ],
      "text/plain": [
       "<IPython.core.display.HTML object>"
      ]
     },
     "metadata": {},
     "output_type": "display_data"
    },
    {
     "data": {
      "text/html": [
       " View run at <a href='https://wandb.ai/nickojelly/NEW%20GRU%20V7%20Ensemble/runs/9o25z9fu' target=\"_blank\">https://wandb.ai/nickojelly/NEW%20GRU%20V7%20Ensemble/runs/9o25z9fu</a>"
      ],
      "text/plain": [
       "<IPython.core.display.HTML object>"
      ]
     },
     "metadata": {},
     "output_type": "display_data"
    },
    {
     "name": "stdout",
     "output_type": "stream",
     "text": [
      "{'hidden_size': 256, 'stats': ['inside', 'midfield', 'wide', 'weight', 'DogGrade', '_dist_last__1', '_box_last__1', '_speed_avg_1', '_split_speed_avg_1', '_split_margin_avg_1', '_margin_avg_1', '_margin_time_avg_1', '_RunHomeTime_1', '_run_home_speed_1', '_first_out_avg_1', '_pos_out_avg_1', '_post_change_avg_1', '_races_1', '_wins_1', '_wins_last_1', '_weight_', '_min_time_', '_min_split_time_', '_last_start_price', '_last_start_prob', 'dist_dist_last__10', 'dist_box_last__10', 'dist_speed_avg_10', 'dist_split_speed_avg_10', 'dist_split_margin_avg_10', 'dist_margin_avg_10', 'dist_margin_time_avg_10', 'dist_RunHomeTime_10', 'dist_run_home_speed_10', 'dist_first_out_avg_10', 'dist_pos_out_avg_10', 'dist_post_change_avg_10', 'dist_races_10', 'dist_wins_10', 'dist_wins_last_10', 'dist_weight_', 'dist_min_time_', 'dist_min_split_time_', 'dist_last_start_price', 'dist_last_start_prob', 'box_dist_last__10', 'box_box_last__10', 'box_speed_avg_10', 'box_split_speed_avg_10', 'box_split_margin_avg_10', 'box_margin_avg_10', 'box_margin_time_avg_10', 'box_RunHomeTime_10', 'box_run_home_speed_10', 'box_first_out_avg_10', 'box_pos_out_avg_10', 'box_post_change_avg_10', 'box_races_10', 'box_wins_10', 'box_wins_last_10', 'box_weight_', 'box_min_time_', 'box_min_split_time_', 'box_last_start_price', 'box_last_start_prob', 'track_box_dist_last__10', 'track_box_box_last__10', 'track_box_speed_avg_10', 'track_box_split_speed_avg_10', 'track_box_split_margin_avg_10', 'track_box_margin_avg_10', 'track_box_margin_time_avg_10', 'track_box_RunHomeTime_10', 'track_box_run_home_speed_10', 'track_box_first_out_avg_10', 'track_box_pos_out_avg_10', 'track_box_post_change_avg_10', 'track_box_races_10', 'track_box_wins_10', 'track_box_wins_last_10', 'track_box_weight_', 'track_box_min_time_', 'track_box_min_split_time_', 'track_box_last_start_price', 'track_box_last_start_prob', 'track_dist_dist_last__10', 'track_dist_box_last__10', 'track_dist_speed_avg_10', 'track_dist_split_speed_avg_10', 'track_dist_split_margin_avg_10', 'track_dist_margin_avg_10', 'track_dist_margin_time_avg_10', 'track_dist_RunHomeTime_10', 'track_dist_run_home_speed_10', 'track_dist_first_out_avg_10', 'track_dist_pos_out_avg_10', 'track_dist_post_change_avg_10', 'track_dist_races_10', 'track_dist_wins_10', 'track_dist_wins_last_10', 'track_dist_weight_', 'track_dist_min_time_', 'track_dist_min_split_time_', 'track_dist_last_start_price', 'track_dist_last_start_prob'], 'races': ['NZ'], 'datafile': './data/gru_inputs_kitchen_sink_new_not_simple.fth', 'latest_date': '2024-01-31T00:00:00', 'input_type': 'basic', 'num_layers': 2, 'batch_size': 750, 'dropout': 0.3, 'epochs': 1500, 'learning_rate': 0.001, 'optimizer': 'adamW', 'f0_layer_size': 128, 'f1_layer_size': 64, 'training_date_end': '2023-01-01', 'notes': 'GRU, with basic add on data looped in', 'batch_days': 180, 'stat_list_dict': {'_dist_last__1': 1, '_box_last__1': 1, '_speed_avg_1': 1, '_split_speed_avg_1': 1, '_split_margin_avg_1': 1, '_margin_avg_1': 1, '_margin_time_avg_1': 1, '_RunHomeTime_1': 1, '_run_home_speed_1': 1, '_first_out_avg_1': 1, '_pos_out_avg_1': 1, '_post_change_avg_1': 1, '_races_1': 1, '_wins_1': 1, '_wins_last_1': 1, '_weight_': 1, '_min_time_': 1, '_min_split_time_': 1, '_last_start_price': 1, '_last_start_prob': 1}}\n",
      "1500\n",
      "{'hidden_size': 256, 'stats': ['inside', 'midfield', 'wide', 'weight', 'DogGrade', '_dist_last__1', '_box_last__1', '_speed_avg_1', '_split_speed_avg_1', '_split_margin_avg_1', '_margin_avg_1', '_margin_time_avg_1', '_RunHomeTime_1', '_run_home_speed_1', '_first_out_avg_1', '_pos_out_avg_1', '_post_change_avg_1', '_races_1', '_wins_1', '_wins_last_1', '_weight_', '_min_time_', '_min_split_time_', '_last_start_price', '_last_start_prob', 'dist_dist_last__10', 'dist_box_last__10', 'dist_speed_avg_10', 'dist_split_speed_avg_10', 'dist_split_margin_avg_10', 'dist_margin_avg_10', 'dist_margin_time_avg_10', 'dist_RunHomeTime_10', 'dist_run_home_speed_10', 'dist_first_out_avg_10', 'dist_pos_out_avg_10', 'dist_post_change_avg_10', 'dist_races_10', 'dist_wins_10', 'dist_wins_last_10', 'dist_weight_', 'dist_min_time_', 'dist_min_split_time_', 'dist_last_start_price', 'dist_last_start_prob', 'box_dist_last__10', 'box_box_last__10', 'box_speed_avg_10', 'box_split_speed_avg_10', 'box_split_margin_avg_10', 'box_margin_avg_10', 'box_margin_time_avg_10', 'box_RunHomeTime_10', 'box_run_home_speed_10', 'box_first_out_avg_10', 'box_pos_out_avg_10', 'box_post_change_avg_10', 'box_races_10', 'box_wins_10', 'box_wins_last_10', 'box_weight_', 'box_min_time_', 'box_min_split_time_', 'box_last_start_price', 'box_last_start_prob', 'track_box_dist_last__10', 'track_box_box_last__10', 'track_box_speed_avg_10', 'track_box_split_speed_avg_10', 'track_box_split_margin_avg_10', 'track_box_margin_avg_10', 'track_box_margin_time_avg_10', 'track_box_RunHomeTime_10', 'track_box_run_home_speed_10', 'track_box_first_out_avg_10', 'track_box_pos_out_avg_10', 'track_box_post_change_avg_10', 'track_box_races_10', 'track_box_wins_10', 'track_box_wins_last_10', 'track_box_weight_', 'track_box_min_time_', 'track_box_min_split_time_', 'track_box_last_start_price', 'track_box_last_start_prob', 'track_dist_dist_last__10', 'track_dist_box_last__10', 'track_dist_speed_avg_10', 'track_dist_split_speed_avg_10', 'track_dist_split_margin_avg_10', 'track_dist_margin_avg_10', 'track_dist_margin_time_avg_10', 'track_dist_RunHomeTime_10', 'track_dist_run_home_speed_10', 'track_dist_first_out_avg_10', 'track_dist_pos_out_avg_10', 'track_dist_post_change_avg_10', 'track_dist_races_10', 'track_dist_wins_10', 'track_dist_wins_last_10', 'track_dist_weight_', 'track_dist_min_time_', 'track_dist_min_split_time_', 'track_dist_last_start_price', 'track_dist_last_start_prob'], 'races': ['NZ'], 'datafile': './data/gru_inputs_kitchen_sink_new_not_simple.fth', 'latest_date': '2024-01-31T00:00:00', 'input_type': 'basic', 'num_layers': 2, 'batch_size': 750, 'dropout': 0.3, 'epochs': 1500, 'learning_rate': 0.001, 'optimizer': 'adamW', 'f0_layer_size': 128, 'f1_layer_size': 64, 'training_date_end': '2023-01-01', 'notes': 'GRU, with basic add on data looped in', 'batch_days': 180, 'stat_list_dict': {'_dist_last__1': 1, '_box_last__1': 1, '_speed_avg_1': 1, '_split_speed_avg_1': 1, '_split_margin_avg_1': 1, '_margin_avg_1': 1, '_margin_time_avg_1': 1, '_RunHomeTime_1': 1, '_run_home_speed_1': 1, '_first_out_avg_1': 1, '_pos_out_avg_1': 1, '_post_change_avg_1': 1, '_races_1': 1, '_wins_1': 1, '_wins_last_1': 1, '_weight_': 1, '_min_time_': 1, '_min_split_time_': 1, '_last_start_price': 1, '_last_start_prob': 1}}\n",
      "basic\n",
      "1\n",
      "1\n",
      "1\n",
      "1\n",
      "1\n",
      "1\n",
      "1\n",
      "1\n",
      "1\n",
      "1\n",
      "1\n",
      "1\n",
      "1\n",
      "1\n",
      "1\n",
      "1\n",
      "1\n",
      "1\n",
      "1\n",
      "1\n",
      "[1, 1, 1, 1, 1, 1, 1, 1, 1, 1, 1, 1, 1, 1, 1, 1, 1, 1, 1, 1]\n",
      "data_mask_size=26\n",
      "tensor([ True,  True,  True,  True,  True,  True,  True,  True,  True,  True,\n",
      "         True,  True,  True,  True,  True,  True,  True,  True,  True,  True,\n",
      "         True,  True,  True,  True,  True,  True, False, False, False, False,\n",
      "        False, False, False, False, False, False, False, False, False, False,\n",
      "        False, False, False, False, False, False, False, False, False, False,\n",
      "        False, False, False, False, False, False, False, False, False, False,\n",
      "        False, False, False, False, False, False, False, False, False, False,\n",
      "        False, False, False, False, False, False, False, False, False, False,\n",
      "        False, False, False, False, False, False, False, False, False, False,\n",
      "        False, False, False, False, False, False, False, False, False, False,\n",
      "        False, False, False, False, False, False], device='cuda:0')\n",
      "torch.Size([106])\n",
      "Train examples 15593, Test examples 2423, Val examples 2833\n"
     ]
    },
    {
     "name": "stderr",
     "output_type": "stream",
     "text": [
      "100%|██████████| 4028/4028 [00:00<00:00, 70489.27it/s]\n",
      "100%|██████████| 4029/4029 [00:03<00:00, 1221.99it/s]\n"
     ]
    },
    {
     "name": "stdout",
     "output_type": "stream",
     "text": [
      "[(datetime.date(2019, 12, 1), datetime.date(2020, 5, 29)), (datetime.date(2020, 5, 29), datetime.date(2020, 11, 25)), (datetime.date(2020, 11, 25), datetime.date(2021, 5, 24)), (datetime.date(2021, 5, 24), datetime.date(2021, 11, 20)), (datetime.date(2021, 11, 20), datetime.date(2022, 5, 19)), (datetime.date(2022, 5, 19), datetime.date(2022, 11, 15)), (datetime.date(2022, 11, 15), datetime.date(2022, 12, 31))]\n",
      "2020-05-29\n",
      "2020-11-25\n",
      "2021-05-24\n",
      "2021-11-20\n",
      "2022-05-19\n",
      "2022-11-15\n",
      "2022-12-31\n",
      "Train examples [2201, 2826, 2680, 2396, 2444, 2391, 649]\n"
     ]
    },
    {
     "name": "stderr",
     "output_type": "stream",
     "text": [
      "100%|██████████| 4028/4028 [00:00<00:00, 4804.21it/s]\n",
      "100%|██████████| 4028/4028 [00:01<00:00, 3739.73it/s]\n",
      "100%|██████████| 4028/4028 [00:01<00:00, 3949.23it/s]\n",
      "100%|██████████| 4028/4028 [00:00<00:00, 4438.23it/s]\n",
      "100%|██████████| 4028/4028 [00:00<00:00, 4281.02it/s]\n",
      "100%|██████████| 4028/4028 [00:00<00:00, 4384.64it/s]\n",
      "100%|██████████| 4028/4028 [00:00<00:00, 15954.17it/s]\n",
      "100%|██████████| 7/7 [00:05<00:00,  1.17it/s]\n"
     ]
    },
    {
     "name": "stdout",
     "output_type": "stream",
     "text": [
      "Train examples [1557, 1594, 1489, 1492, 1400, 1356, 1005]\n",
      "Train examples [1557, 1594, 1489, 1492, 1400, 1356, 1005]\n",
      "Train examples [2201, 2826, 2680, 2396, 2444, 2391, 649]\n",
      "Train examples [2201, 2826, 2680, 2396, 2444, 2391, 649]\n",
      "here\n",
      "input_size=26\n",
      "Num batches 7\n"
     ]
    },
    {
     "name": "stderr",
     "output_type": "stream",
     "text": [
      "C:\\Users\\Nick\\AppData\\Local\\Temp\\ipykernel_24680\\1731105267.py:71: UserWarning: To copy construct from a tensor, it is recommended to use sourceTensor.clone().detach() or sourceTensor.clone().detach().requires_grad_(True), rather than torch.tensor(sourceTensor).\n",
      "  config['stat_mask_tensor'] = torch.tensor(stat_mask, dtype=torch.uint8).to(device)\n",
      "c:\\Users\\Nick\\.conda\\envs\\python311\\Lib\\site-packages\\torch\\nn\\modules\\lazy.py:180: UserWarning: Lazy modules are a new feature under heavy development so changes to the API or functionality can happen at any moment.\n",
      "  warnings.warn('Lazy modules are a new feature under heavy development '\n"
     ]
    },
    {
     "name": "stdout",
     "output_type": "stream",
     "text": [
      "stellar-pine-41\n",
      "odict_keys(['h0', 'gru.weight_ih_l0', 'gru.weight_hh_l0', 'gru.bias_ih_l0', 'gru.bias_hh_l0', 'gru.weight_ih_l1', 'gru.weight_hh_l1', 'gru.bias_ih_l1', 'gru.bias_hh_l1', 'fc0.weight', 'fc0.bias', 'batch_norm.weight', 'batch_norm.bias', 'batch_norm.running_mean', 'batch_norm.running_var', 'batch_norm.num_batches_tracked', 'batch_norm_data.weight', 'batch_norm_data.bias', 'batch_norm_data.running_mean', 'batch_norm_data.running_var', 'batch_norm_data.num_batches_tracked', 'extra_1.batch_norm.weight', 'extra_1.batch_norm.bias', 'extra_1.batch_norm.running_mean', 'extra_1.batch_norm.running_var', 'extra_1.batch_norm.num_batches_tracked', 'extra_1.fc0_p1.weight', 'extra_1.fc0_p1.bias', 'extra_1.fc0_p2.weight', 'extra_1.fc0_p2.bias', 'extra_1.fc0_p3.weight', 'extra_1.fc0_p3.bias', 'fc0_p1.weight', 'fc0_p1.bias', 'fc0_p2.weight', 'fc0_p2.bias', 'fc0_p3.weight', 'fc0_p3.bias', 'fc1.weight', 'fc1.bias', 'fc2.weight', 'fc2.bias', 'fc3.weight', 'fc3.bias'])\n",
      "dulcet-feather-42\n",
      "odict_keys(['h0', 'gru.weight_ih_l0', 'gru.weight_hh_l0', 'gru.bias_ih_l0', 'gru.bias_hh_l0', 'gru.weight_ih_l1', 'gru.weight_hh_l1', 'gru.bias_ih_l1', 'gru.bias_hh_l1', 'fc0.weight', 'fc0.bias', 'batch_norm.weight', 'batch_norm.bias', 'batch_norm.running_mean', 'batch_norm.running_var', 'batch_norm.num_batches_tracked', 'batch_norm_data.weight', 'batch_norm_data.bias', 'batch_norm_data.running_mean', 'batch_norm_data.running_var', 'batch_norm_data.num_batches_tracked', 'extra_1.batch_norm.weight', 'extra_1.batch_norm.bias', 'extra_1.batch_norm.running_mean', 'extra_1.batch_norm.running_var', 'extra_1.batch_norm.num_batches_tracked', 'extra_1.fc0_p1.weight', 'extra_1.fc0_p1.bias', 'extra_1.fc0_p2.weight', 'extra_1.fc0_p2.bias', 'extra_1.fc0_p3.weight', 'extra_1.fc0_p3.bias', 'fc0_p1.weight', 'fc0_p1.bias', 'fc0_p2.weight', 'fc0_p2.bias', 'fc0_p3.weight', 'fc0_p3.bias', 'fc1.weight', 'fc1.bias', 'fc2.weight', 'fc2.bias', 'fc3.weight', 'fc3.bias'])\n",
      "autumn-blaze-43\n",
      "odict_keys(['h0', 'gru.weight_ih_l0', 'gru.weight_hh_l0', 'gru.bias_ih_l0', 'gru.bias_hh_l0', 'gru.weight_ih_l1', 'gru.weight_hh_l1', 'gru.bias_ih_l1', 'gru.bias_hh_l1', 'fc0.weight', 'fc0.bias', 'batch_norm.weight', 'batch_norm.bias', 'batch_norm.running_mean', 'batch_norm.running_var', 'batch_norm.num_batches_tracked', 'batch_norm_data.weight', 'batch_norm_data.bias', 'batch_norm_data.running_mean', 'batch_norm_data.running_var', 'batch_norm_data.num_batches_tracked', 'extra_1.batch_norm.weight', 'extra_1.batch_norm.bias', 'extra_1.batch_norm.running_mean', 'extra_1.batch_norm.running_var', 'extra_1.batch_norm.num_batches_tracked', 'extra_1.fc0_p1.weight', 'extra_1.fc0_p1.bias', 'extra_1.fc0_p2.weight', 'extra_1.fc0_p2.bias', 'extra_1.fc0_p3.weight', 'extra_1.fc0_p3.bias', 'fc0_p1.weight', 'fc0_p1.bias', 'fc0_p2.weight', 'fc0_p2.bias', 'fc0_p3.weight', 'fc0_p3.bias', 'fc1.weight', 'fc1.bias', 'fc2.weight', 'fc2.bias', 'fc3.weight', 'fc3.bias'])\n",
      "exalted-paper-45\n",
      "odict_keys(['h0', 'gru.weight_ih_l0', 'gru.weight_hh_l0', 'gru.bias_ih_l0', 'gru.bias_hh_l0', 'gru.weight_ih_l1', 'gru.weight_hh_l1', 'gru.bias_ih_l1', 'gru.bias_hh_l1', 'fc0.weight', 'fc0.bias', 'batch_norm.weight', 'batch_norm.bias', 'batch_norm.running_mean', 'batch_norm.running_var', 'batch_norm.num_batches_tracked', 'batch_norm_data.weight', 'batch_norm_data.bias', 'batch_norm_data.running_mean', 'batch_norm_data.running_var', 'batch_norm_data.num_batches_tracked', 'extra_1.batch_norm.weight', 'extra_1.batch_norm.bias', 'extra_1.batch_norm.running_mean', 'extra_1.batch_norm.running_var', 'extra_1.batch_norm.num_batches_tracked', 'extra_1.fc0_p1.weight', 'extra_1.fc0_p1.bias', 'extra_1.fc0_p2.weight', 'extra_1.fc0_p2.bias', 'extra_1.fc0_p3.weight', 'extra_1.fc0_p3.bias', 'fc0_p1.weight', 'fc0_p1.bias', 'fc0_p2.weight', 'fc0_p2.bias', 'fc0_p3.weight', 'fc0_p3.bias', 'fc1.weight', 'fc1.bias', 'fc2.weight', 'fc2.bias', 'fc3.weight', 'fc3.bias'])\n",
      "sweet-resonance-46\n",
      "odict_keys(['h0', 'gru.weight_ih_l0', 'gru.weight_hh_l0', 'gru.bias_ih_l0', 'gru.bias_hh_l0', 'gru.weight_ih_l1', 'gru.weight_hh_l1', 'gru.bias_ih_l1', 'gru.bias_hh_l1', 'fc0.weight', 'fc0.bias', 'batch_norm.weight', 'batch_norm.bias', 'batch_norm.running_mean', 'batch_norm.running_var', 'batch_norm.num_batches_tracked', 'batch_norm_data.weight', 'batch_norm_data.bias', 'batch_norm_data.running_mean', 'batch_norm_data.running_var', 'batch_norm_data.num_batches_tracked', 'extra_1.batch_norm.weight', 'extra_1.batch_norm.bias', 'extra_1.batch_norm.running_mean', 'extra_1.batch_norm.running_var', 'extra_1.batch_norm.num_batches_tracked', 'extra_1.fc0_p1.weight', 'extra_1.fc0_p1.bias', 'extra_1.fc0_p2.weight', 'extra_1.fc0_p2.bias', 'extra_1.fc0_p3.weight', 'extra_1.fc0_p3.bias', 'fc0_p1.weight', 'fc0_p1.bias', 'fc0_p2.weight', 'fc0_p2.bias', 'fc0_p3.weight', 'fc0_p3.bias', 'fc1.weight', 'fc1.bias', 'fc2.weight', 'fc2.bias', 'fc3.weight', 'fc3.bias'])\n",
      "GRUNetv4_extra(\n",
      "  (gru): GRU(26, 256, num_layers=2, dropout=0.3)\n",
      "  (relu): ReLU()\n",
      "  (fc0): Linear(in_features=2630, out_features=2048, bias=True)\n",
      "  (batch_norm): BatchNorm1d(26, eps=1e-05, momentum=0.1, affine=True, track_running_stats=True)\n",
      "  (batch_norm_data): BatchNorm1d(26, eps=1e-05, momentum=0.1, affine=True, track_running_stats=True)\n",
      "  (extra_1): GRUNetv3_simple_extra_data(\n",
      "    (batch_norm): LazyBatchNorm1d(0, eps=1e-05, momentum=0.1, affine=True, track_running_stats=True)\n",
      "    (relu): ReLU()\n",
      "    (fc0_p1): LazyLinear(in_features=0, out_features=128, bias=True)\n",
      "    (fc0_p1_drop): Dropout(p=0.3, inplace=False)\n",
      "    (fc0_p2): Linear(in_features=128, out_features=64, bias=True)\n",
      "    (fc0_p2_drop): Dropout(p=0.3, inplace=False)\n",
      "    (fc0_p3): Linear(in_features=64, out_features=64, bias=True)\n",
      "    (fc0_p3_drop): Dropout(p=0.3, inplace=False)\n",
      "  )\n",
      "  (fc0_p1): Linear(in_features=512, out_features=256, bias=True)\n",
      "  (fc0_p1_drop): Dropout(p=0.3, inplace=False)\n",
      "  (fc0_p2): Linear(in_features=256, out_features=256, bias=True)\n",
      "  (fc0_p2_drop): Dropout(p=0.3, inplace=False)\n",
      "  (fc0_p3): Linear(in_features=256, out_features=256, bias=True)\n",
      "  (fc0_p3_drop): Dropout(p=0.3, inplace=False)\n",
      "  (relu0): ReLU()\n",
      "  (drop1): Dropout(p=0.3, inplace=False)\n",
      "  (fc1): Linear(in_features=2048, out_features=1024, bias=True)\n",
      "  (drop2): Dropout(p=0.3, inplace=False)\n",
      "  (fc2): Linear(in_features=1024, out_features=64, bias=True)\n",
      "  (drop3): Dropout(p=0.3, inplace=False)\n",
      "  (fc3): Linear(in_features=64, out_features=8, bias=True)\n",
      "  (output_fn): Identity()\n",
      ")\n"
     ]
    },
    {
     "name": "stderr",
     "output_type": "stream",
     "text": [
      "  0%|          | 0/1500 [00:00<?, ?it/s]"
     ]
    },
    {
     "name": "stdout",
     "output_type": "stream",
     "text": [
      "250\n",
      "0.10317787866281469\n",
      "0.10317787866281469\n"
     ]
    },
    {
     "name": "stderr",
     "output_type": "stream",
     "text": [
      "  0%|          | 1/1500 [00:43<18:17:38, 43.93s/it]"
     ]
    },
    {
     "name": "stdout",
     "output_type": "stream",
     "text": [
      "278\n",
      "0.11473380107304994\n",
      "0.09812919166960819\n",
      "{'$schema': 'https://vega.github.io/schema/vega-lite/v4.json', 'data': {'name': 'wandb'}, 'layer': [{'mark': 'line', 'encoding': {'x': {'field': 'step', 'type': 'quantitative'}, 'y': {'field': 'accuracy/0_', 'type': 'quantitative'}, 'color': {'field': 'base_0', 'type': 'nominal'}}}, {'mark': 'line', 'encoding': {'x': {'field': 'step', 'type': 'quantitative'}, 'y': {'field': 'accuracy/1_', 'type': 'quantitative'}, 'color': {'field': 'base_1', 'type': 'nominal'}}}, {'mark': 'line', 'encoding': {'x': {'field': 'step', 'type': 'quantitative'}, 'y': {'field': 'accuracy/2_', 'type': 'quantitative'}, 'color': {'field': 'base_2', 'type': 'nominal'}}}, {'mark': 'line', 'encoding': {'x': {'field': 'step', 'type': 'quantitative'}, 'y': {'field': 'accuracy/3_', 'type': 'quantitative'}, 'color': {'field': 'base_3', 'type': 'nominal'}}}, {'mark': 'line', 'encoding': {'x': {'field': 'step', 'type': 'quantitative'}, 'y': {'field': 'accuracy/4_', 'type': 'quantitative'}, 'color': {'field': 'base_4', 'type': 'nominal'}}}, {'mark': 'line', 'encoding': {'x': {'field': 'step', 'type': 'quantitative'}, 'y': {'field': 'accuracy/ensemble_', 'type': 'quantitative'}, 'color': {'field': 'base_ensemble', 'type': 'nominal'}}}]}\n",
      "255\n",
      "0.10524143623607099\n",
      "0.10524143623607099\n"
     ]
    },
    {
     "name": "stderr",
     "output_type": "stream",
     "text": [
      "  0%|          | 2/1500 [01:26<18:03:13, 43.39s/it]"
     ]
    },
    {
     "name": "stdout",
     "output_type": "stream",
     "text": [
      "287\n",
      "0.11844820470491127\n",
      "0.1013060360042358\n",
      "262\n",
      "0.1081304168386298\n",
      "0.1081304168386298\n"
     ]
    },
    {
     "name": "stderr",
     "output_type": "stream",
     "text": [
      "  0%|          | 3/1500 [02:10<18:03:09, 43.41s/it]"
     ]
    },
    {
     "name": "stdout",
     "output_type": "stream",
     "text": [
      "295\n",
      "0.12174989682212134\n",
      "0.10412989763501589\n",
      "280\n",
      "0.11555922410235246\n",
      "0.11555922410235246\n"
     ]
    },
    {
     "name": "stderr",
     "output_type": "stream",
     "text": [
      "  0%|          | 4/1500 [02:53<18:03:58, 43.48s/it]"
     ]
    },
    {
     "name": "stdout",
     "output_type": "stream",
     "text": [
      "312\n",
      "0.12876599257119273\n",
      "0.11013060360042358\n",
      "293\n",
      "0.12092447379281882\n",
      "0.12092447379281882\n"
     ]
    },
    {
     "name": "stderr",
     "output_type": "stream",
     "text": [
      "  0%|          | 5/1500 [03:37<18:05:57, 43.58s/it]"
     ]
    },
    {
     "name": "stdout",
     "output_type": "stream",
     "text": [
      "324\n",
      "0.13371853074700785\n",
      "0.11436639604659371\n",
      "300\n",
      "0.12381345439537764\n",
      "0.12381345439537764\n"
     ]
    },
    {
     "name": "stderr",
     "output_type": "stream",
     "text": [
      "  0%|          | 6/1500 [04:21<18:06:44, 43.64s/it]"
     ]
    },
    {
     "name": "stdout",
     "output_type": "stream",
     "text": [
      "347\n",
      "0.14321089558398678\n",
      "0.12248499823508648\n",
      "312\n",
      "0.12876599257119273\n",
      "0.12876599257119273\n"
     ]
    },
    {
     "name": "stderr",
     "output_type": "stream",
     "text": [
      "  0%|          | 7/1500 [05:05<18:05:40, 43.63s/it]"
     ]
    },
    {
     "name": "stdout",
     "output_type": "stream",
     "text": [
      "372\n",
      "0.15352868345026827\n",
      "0.13130956583127426\n",
      "333\n",
      "0.13743293437886916\n",
      "0.13743293437886916\n"
     ]
    },
    {
     "name": "stderr",
     "output_type": "stream",
     "text": [
      "  1%|          | 8/1500 [05:48<18:06:18, 43.69s/it]"
     ]
    },
    {
     "name": "stdout",
     "output_type": "stream",
     "text": [
      "407\n",
      "0.16797358646306232\n",
      "0.14366396046593716\n",
      "366\n",
      "0.15105241436236072\n",
      "0.15105241436236072\n"
     ]
    },
    {
     "name": "stderr",
     "output_type": "stream",
     "text": [
      "  1%|          | 9/1500 [06:32<18:06:28, 43.72s/it]"
     ]
    },
    {
     "name": "stdout",
     "output_type": "stream",
     "text": [
      "435\n",
      "0.17952950887329758\n",
      "0.15354747617366749\n",
      "400\n",
      "0.1650846058605035\n",
      "0.1650846058605035\n"
     ]
    },
    {
     "name": "stderr",
     "output_type": "stream",
     "text": [
      "  1%|          | 10/1500 [07:16<18:06:30, 43.75s/it]"
     ]
    },
    {
     "name": "stdout",
     "output_type": "stream",
     "text": [
      "457\n",
      "0.18860916219562526\n",
      "0.16131309565831276\n",
      "415\n",
      "0.1712752785802724\n",
      "0.1712752785802724\n"
     ]
    },
    {
     "name": "stderr",
     "output_type": "stream",
     "text": [
      "  1%|          | 11/1500 [08:00<18:05:17, 43.73s/it]"
     ]
    },
    {
     "name": "stdout",
     "output_type": "stream",
     "text": [
      "480\n",
      "0.1981015270326042\n",
      "0.1694316978468055\n",
      "449\n",
      "0.1853074700784152\n",
      "0.1853074700784152\n"
     ]
    },
    {
     "name": "stderr",
     "output_type": "stream",
     "text": [
      "  1%|          | 12/1500 [08:44<18:05:12, 43.76s/it]"
     ]
    },
    {
     "name": "stdout",
     "output_type": "stream",
     "text": [
      "505\n",
      "0.20841931489888568\n",
      "0.1782562654429933\n",
      "477\n",
      "0.19686339248865042\n",
      "0.19686339248865042\n"
     ]
    },
    {
     "name": "stderr",
     "output_type": "stream",
     "text": [
      "  1%|          | 13/1500 [09:27<18:04:16, 43.75s/it]"
     ]
    },
    {
     "name": "stdout",
     "output_type": "stream",
     "text": [
      "540\n",
      "0.22286421791167974\n",
      "0.1906106600776562\n",
      "506\n",
      "0.20883202641353693\n",
      "0.20883202641353693\n"
     ]
    },
    {
     "name": "stderr",
     "output_type": "stream",
     "text": [
      "  1%|          | 14/1500 [10:11<18:02:58, 43.73s/it]"
     ]
    },
    {
     "name": "stdout",
     "output_type": "stream",
     "text": [
      "562\n",
      "0.23194387123400742\n",
      "0.19837627956230144\n",
      "534\n",
      "0.2203879488237722\n",
      "0.2203879488237722\n"
     ]
    },
    {
     "name": "stderr",
     "output_type": "stream",
     "text": [
      "  1%|          | 15/1500 [10:55<18:01:54, 43.71s/it]"
     ]
    },
    {
     "name": "stdout",
     "output_type": "stream",
     "text": [
      "600\n",
      "0.24762690879075527\n",
      "0.21178962230850687\n",
      "561\n",
      "0.23153115971935617\n",
      "0.23153115971935617\n"
     ]
    },
    {
     "name": "stderr",
     "output_type": "stream",
     "text": [
      "  1%|          | 16/1500 [11:38<18:01:55, 43.74s/it]"
     ]
    },
    {
     "name": "stdout",
     "output_type": "stream",
     "text": [
      "623\n",
      "0.25711927362773423\n",
      "0.21990822449699965\n",
      "584\n",
      "0.24102352455633513\n",
      "0.24102352455633513\n"
     ]
    },
    {
     "name": "stderr",
     "output_type": "stream",
     "text": [
      "  1%|          | 17/1500 [12:22<18:02:52, 43.81s/it]"
     ]
    },
    {
     "name": "stdout",
     "output_type": "stream",
     "text": [
      "644\n",
      "0.26578621543541064\n",
      "0.22732086127779738\n",
      "602\n",
      "0.24845233182005777\n",
      "0.24845233182005777\n"
     ]
    },
    {
     "name": "stderr",
     "output_type": "stream",
     "text": [
      "  1%|          | 18/1500 [13:06<18:02:38, 43.83s/it]"
     ]
    },
    {
     "name": "stdout",
     "output_type": "stream",
     "text": [
      "663\n",
      "0.27362773421378456\n",
      "0.2340275326509001\n",
      "625\n",
      "0.25794469665703673\n",
      "0.25794469665703673\n"
     ]
    },
    {
     "name": "stderr",
     "output_type": "stream",
     "text": [
      "  1%|▏         | 19/1500 [13:50<18:02:38, 43.86s/it]"
     ]
    },
    {
     "name": "stdout",
     "output_type": "stream",
     "text": [
      "676\n",
      "0.2789929839042509\n",
      "0.23861630780091775\n",
      "635\n",
      "0.2620718118035493\n",
      "0.2620718118035493\n"
     ]
    },
    {
     "name": "stderr",
     "output_type": "stream",
     "text": [
      "  1%|▏         | 20/1500 [14:34<18:02:41, 43.89s/it]"
     ]
    },
    {
     "name": "stdout",
     "output_type": "stream",
     "text": [
      "692\n",
      "0.28559636813867106\n",
      "0.24426403106247793\n",
      "648\n",
      "0.2674370614940157\n",
      "0.2674370614940157\n"
     ]
    },
    {
     "name": "stderr",
     "output_type": "stream",
     "text": [
      "  1%|▏         | 21/1500 [15:18<18:01:37, 43.88s/it]"
     ]
    },
    {
     "name": "stdout",
     "output_type": "stream",
     "text": [
      "718\n",
      "0.2963268675196038\n",
      "0.2534415813625132\n",
      "654\n",
      "0.26991333058192324\n",
      "0.26991333058192324\n"
     ]
    },
    {
     "name": "stderr",
     "output_type": "stream",
     "text": [
      "  1%|▏         | 22/1500 [16:03<18:08:23, 44.18s/it]"
     ]
    },
    {
     "name": "stdout",
     "output_type": "stream",
     "text": [
      "737\n",
      "0.3041683862979777\n",
      "0.260148252735616\n",
      "675\n",
      "0.27858027238959965\n",
      "0.27858027238959965\n"
     ]
    },
    {
     "name": "stderr",
     "output_type": "stream",
     "text": [
      "  2%|▏         | 23/1500 [16:47<18:06:33, 44.14s/it]"
     ]
    },
    {
     "name": "stdout",
     "output_type": "stream",
     "text": [
      "760\n",
      "0.3136607511349567\n",
      "0.26826685492410873\n",
      "695\n",
      "0.28683450268262484\n",
      "0.28683450268262484\n"
     ]
    },
    {
     "name": "stderr",
     "output_type": "stream",
     "text": [
      "  2%|▏         | 24/1500 [17:31<18:04:42, 44.09s/it]"
     ]
    },
    {
     "name": "stdout",
     "output_type": "stream",
     "text": [
      "774\n",
      "0.3194387123400743\n",
      "0.27320861277797387\n",
      "708\n",
      "0.2921997523730912\n",
      "0.2921997523730912\n"
     ]
    },
    {
     "name": "stderr",
     "output_type": "stream",
     "text": [
      "  2%|▏         | 25/1500 [18:15<18:03:38, 44.08s/it]"
     ]
    },
    {
     "name": "stdout",
     "output_type": "stream",
     "text": [
      "796\n",
      "0.328518365662402\n",
      "0.28097423226261914\n",
      "718\n",
      "0.2963268675196038\n",
      "0.2963268675196038\n"
     ]
    },
    {
     "name": "stderr",
     "output_type": "stream",
     "text": [
      "  2%|▏         | 26/1500 [18:59<18:02:32, 44.07s/it]"
     ]
    },
    {
     "name": "stdout",
     "output_type": "stream",
     "text": [
      "803\n",
      "0.33140734626496077\n",
      "0.28344511118955174\n",
      "725\n",
      "0.2992158481221626\n",
      "0.2992158481221626\n"
     ]
    },
    {
     "name": "stderr",
     "output_type": "stream",
     "text": [
      "  2%|▏         | 27/1500 [19:43<18:01:07, 44.04s/it]"
     ]
    },
    {
     "name": "stdout",
     "output_type": "stream",
     "text": [
      "812\n",
      "0.33512174989682214\n",
      "0.2866219555241793\n",
      "739\n",
      "0.3049938093272802\n",
      "0.3049938093272802\n"
     ]
    },
    {
     "name": "stderr",
     "output_type": "stream",
     "text": [
      "  2%|▏         | 28/1500 [20:27<18:00:18, 44.03s/it]"
     ]
    },
    {
     "name": "stdout",
     "output_type": "stream",
     "text": [
      "827\n",
      "0.341312422616591\n",
      "0.29191669608189197\n",
      "742\n",
      "0.306231943871234\n",
      "0.306231943871234\n"
     ]
    },
    {
     "name": "stderr",
     "output_type": "stream",
     "text": [
      "  2%|▏         | 29/1500 [21:11<17:59:12, 44.02s/it]"
     ]
    },
    {
     "name": "stdout",
     "output_type": "stream",
     "text": [
      "834\n",
      "0.3442014032191498\n",
      "0.29438757500882456\n",
      "757\n",
      "0.3124226165910029\n",
      "0.3124226165910029\n"
     ]
    },
    {
     "name": "stderr",
     "output_type": "stream",
     "text": [
      "  2%|▏         | 30/1500 [21:55<17:58:26, 44.02s/it]"
     ]
    },
    {
     "name": "stdout",
     "output_type": "stream",
     "text": [
      "841\n",
      "0.34709038382170865\n",
      "0.29685845393575716\n",
      "759\n",
      "0.3132480396203054\n",
      "0.3132480396203054\n"
     ]
    },
    {
     "name": "stderr",
     "output_type": "stream",
     "text": [
      "  2%|▏         | 31/1500 [22:39<17:57:40, 44.02s/it]"
     ]
    },
    {
     "name": "stdout",
     "output_type": "stream",
     "text": [
      "839\n",
      "0.3462649607924061\n",
      "0.29615248852806214\n",
      "766\n",
      "0.3161370202228642\n",
      "0.3161370202228642\n"
     ]
    },
    {
     "name": "stderr",
     "output_type": "stream",
     "text": [
      "  2%|▏         | 32/1500 [23:23<17:57:23, 44.03s/it]"
     ]
    },
    {
     "name": "stdout",
     "output_type": "stream",
     "text": [
      "843\n",
      "0.34791580685101114\n",
      "0.2975644193434522\n",
      "776\n",
      "0.3202641353693768\n",
      "0.3202641353693768\n"
     ]
    },
    {
     "name": "stderr",
     "output_type": "stream",
     "text": [
      "  2%|▏         | 33/1500 [24:07<17:56:43, 44.04s/it]"
     ]
    },
    {
     "name": "stdout",
     "output_type": "stream",
     "text": [
      "851\n",
      "0.3512174989682212\n",
      "0.30038828097423226\n",
      "775\n",
      "0.31985142385472554\n",
      "0.31985142385472554\n"
     ]
    },
    {
     "name": "stderr",
     "output_type": "stream",
     "text": [
      "  2%|▏         | 34/1500 [24:51<17:55:40, 44.03s/it]"
     ]
    },
    {
     "name": "stdout",
     "output_type": "stream",
     "text": [
      "864\n",
      "0.35658274865868755\n",
      "0.3049770561242499\n",
      "783\n",
      "0.32315311597193563\n",
      "0.32315311597193563\n"
     ]
    },
    {
     "name": "stderr",
     "output_type": "stream",
     "text": [
      "  2%|▏         | 35/1500 [25:35<17:54:19, 44.00s/it]"
     ]
    },
    {
     "name": "stdout",
     "output_type": "stream",
     "text": [
      "865\n",
      "0.35699546017333883\n",
      "0.30533003882809745\n",
      "787\n",
      "0.3248039620305406\n",
      "0.3248039620305406\n"
     ]
    },
    {
     "name": "stderr",
     "output_type": "stream",
     "text": [
      "  2%|▏         | 36/1500 [26:19<17:53:43, 44.01s/it]"
     ]
    },
    {
     "name": "stdout",
     "output_type": "stream",
     "text": [
      "868\n",
      "0.3582335947172926\n",
      "0.30638898693963995\n",
      "791\n",
      "0.3264548080891457\n",
      "0.3264548080891457\n"
     ]
    },
    {
     "name": "stderr",
     "output_type": "stream",
     "text": [
      "  2%|▏         | 37/1500 [27:03<17:52:48, 44.00s/it]"
     ]
    },
    {
     "name": "stdout",
     "output_type": "stream",
     "text": [
      "875\n",
      "0.3611225753198514\n",
      "0.30885986586657255\n",
      "792\n",
      "0.32686751960379695\n",
      "0.32686751960379695\n"
     ]
    },
    {
     "name": "stderr",
     "output_type": "stream",
     "text": [
      "  3%|▎         | 38/1500 [27:47<17:52:26, 44.01s/it]"
     ]
    },
    {
     "name": "stdout",
     "output_type": "stream",
     "text": [
      "883\n",
      "0.36442426743706147\n",
      "0.3116837274973526\n",
      "789\n",
      "0.3256293850598432\n",
      "0.3256293850598432\n"
     ]
    },
    {
     "name": "stderr",
     "output_type": "stream",
     "text": [
      "  3%|▎         | 39/1500 [28:31<17:51:28, 44.00s/it]"
     ]
    },
    {
     "name": "stdout",
     "output_type": "stream",
     "text": [
      "897\n",
      "0.3702022286421791\n",
      "0.3166254853512178\n",
      "791\n",
      "0.3264548080891457\n",
      "0.3264548080891457\n"
     ]
    },
    {
     "name": "stderr",
     "output_type": "stream",
     "text": [
      "  3%|▎         | 40/1500 [29:15<17:50:14, 43.98s/it]"
     ]
    },
    {
     "name": "stdout",
     "output_type": "stream",
     "text": [
      "901\n",
      "0.37185307470078416\n",
      "0.31803741616660786\n",
      "804\n",
      "0.33182005777961204\n",
      "0.33182005777961204\n"
     ]
    },
    {
     "name": "stderr",
     "output_type": "stream",
     "text": [
      "  3%|▎         | 41/1500 [29:59<17:48:46, 43.95s/it]"
     ]
    },
    {
     "name": "stdout",
     "output_type": "stream",
     "text": [
      "904\n",
      "0.37309120924473793\n",
      "0.31909636427815036\n",
      "805\n",
      "0.3322327692942633\n",
      "0.3322327692942633\n"
     ]
    },
    {
     "name": "stderr",
     "output_type": "stream",
     "text": [
      "  3%|▎         | 42/1500 [30:43<17:48:22, 43.97s/it]"
     ]
    },
    {
     "name": "stdout",
     "output_type": "stream",
     "text": [
      "905\n",
      "0.3735039207593892\n",
      "0.3194493469819979\n",
      "811\n",
      "0.33470903838217086\n",
      "0.33470903838217086\n"
     ]
    },
    {
     "name": "stderr",
     "output_type": "stream",
     "text": [
      "  3%|▎         | 43/1500 [31:27<17:48:06, 43.99s/it]"
     ]
    },
    {
     "name": "stdout",
     "output_type": "stream",
     "text": [
      "912\n",
      "0.376392901361948\n",
      "0.32192022590893044\n",
      "811\n",
      "0.33470903838217086\n",
      "0.33470903838217086\n"
     ]
    },
    {
     "name": "stderr",
     "output_type": "stream",
     "text": [
      "  3%|▎         | 44/1500 [32:11<17:51:05, 44.14s/it]"
     ]
    },
    {
     "name": "stdout",
     "output_type": "stream",
     "text": [
      "914\n",
      "0.3772183243912505\n",
      "0.3226261913166255\n",
      "812\n",
      "0.33512174989682214\n",
      "0.33512174989682214\n"
     ]
    },
    {
     "name": "stderr",
     "output_type": "stream",
     "text": [
      "  3%|▎         | 45/1500 [32:56<17:53:46, 44.28s/it]"
     ]
    },
    {
     "name": "stdout",
     "output_type": "stream",
     "text": [
      "914\n",
      "0.3772183243912505\n",
      "0.3226261913166255\n",
      "811\n",
      "0.33470903838217086\n",
      "0.33470903838217086\n"
     ]
    },
    {
     "name": "stderr",
     "output_type": "stream",
     "text": [
      "  3%|▎         | 46/1500 [33:40<17:51:32, 44.22s/it]"
     ]
    },
    {
     "name": "stdout",
     "output_type": "stream",
     "text": [
      "915\n",
      "0.3776310359059018\n",
      "0.322979174020473\n",
      "812\n",
      "0.33512174989682214\n",
      "0.33512174989682214\n"
     ]
    },
    {
     "name": "stderr",
     "output_type": "stream",
     "text": [
      "  3%|▎         | 47/1500 [34:25<17:56:43, 44.46s/it]"
     ]
    },
    {
     "name": "stdout",
     "output_type": "stream",
     "text": [
      "918\n",
      "0.3788691704498556\n",
      "0.32403812213201555\n",
      "810\n",
      "0.3342963268675196\n",
      "0.3342963268675196\n"
     ]
    },
    {
     "name": "stderr",
     "output_type": "stream",
     "text": [
      "  3%|▎         | 48/1500 [35:09<17:53:02, 44.34s/it]"
     ]
    },
    {
     "name": "stdout",
     "output_type": "stream",
     "text": [
      "925\n",
      "0.38175815105241434\n",
      "0.3265090010589481\n",
      "809\n",
      "0.33388361535286837\n",
      "0.33388361535286837\n"
     ]
    },
    {
     "name": "stderr",
     "output_type": "stream",
     "text": [
      "  3%|▎         | 49/1500 [35:53<17:49:59, 44.25s/it]"
     ]
    },
    {
     "name": "stdout",
     "output_type": "stream",
     "text": [
      "928\n",
      "0.3829962855963681\n",
      "0.32756794917049065\n",
      "811\n",
      "0.33470903838217086\n",
      "0.33470903838217086\n"
     ]
    },
    {
     "name": "stderr",
     "output_type": "stream",
     "text": [
      "  3%|▎         | 50/1500 [36:37<17:47:39, 44.18s/it]"
     ]
    },
    {
     "name": "stdout",
     "output_type": "stream",
     "text": [
      "928\n",
      "0.3829962855963681\n",
      "0.32756794917049065\n",
      "814\n",
      "0.33594717292612464\n",
      "0.33594717292612464\n"
     ]
    },
    {
     "name": "stderr",
     "output_type": "stream",
     "text": [
      "  3%|▎         | 51/1500 [37:21<17:46:11, 44.15s/it]"
     ]
    },
    {
     "name": "stdout",
     "output_type": "stream",
     "text": [
      "929\n",
      "0.3834089971110194\n",
      "0.3279209318743382\n",
      "809\n",
      "0.33388361535286837\n",
      "0.33388361535286837\n"
     ]
    },
    {
     "name": "stderr",
     "output_type": "stream",
     "text": [
      "  3%|▎         | 52/1500 [38:05<17:43:47, 44.08s/it]"
     ]
    },
    {
     "name": "stdout",
     "output_type": "stream",
     "text": [
      "925\n",
      "0.38175815105241434\n",
      "0.3265090010589481\n",
      "805\n",
      "0.3322327692942633\n",
      "0.3322327692942633\n"
     ]
    },
    {
     "name": "stderr",
     "output_type": "stream",
     "text": [
      "  4%|▎         | 53/1500 [38:49<17:42:37, 44.06s/it]"
     ]
    },
    {
     "name": "stdout",
     "output_type": "stream",
     "text": [
      "929\n",
      "0.3834089971110194\n",
      "0.3279209318743382\n",
      "809\n",
      "0.33388361535286837\n",
      "0.33388361535286837\n"
     ]
    },
    {
     "name": "stderr",
     "output_type": "stream",
     "text": [
      "  4%|▎         | 54/1500 [39:33<17:41:25, 44.04s/it]"
     ]
    },
    {
     "name": "stdout",
     "output_type": "stream",
     "text": [
      "934\n",
      "0.3854725546842757\n",
      "0.3296858453935757\n",
      "809\n",
      "0.33388361535286837\n",
      "0.33388361535286837\n"
     ]
    },
    {
     "name": "stderr",
     "output_type": "stream",
     "text": [
      "  4%|▎         | 55/1500 [40:17<17:40:13, 44.02s/it]"
     ]
    },
    {
     "name": "stdout",
     "output_type": "stream",
     "text": [
      "932\n",
      "0.38464713165497316\n",
      "0.3289798799858807\n",
      "810\n",
      "0.3342963268675196\n",
      "0.3342963268675196\n"
     ]
    },
    {
     "name": "stderr",
     "output_type": "stream",
     "text": [
      "  4%|▎         | 56/1500 [41:01<17:39:17, 44.02s/it]"
     ]
    },
    {
     "name": "stdout",
     "output_type": "stream",
     "text": [
      "928\n",
      "0.3829962855963681\n",
      "0.32756794917049065\n",
      "806\n",
      "0.3326454808089146\n",
      "0.3326454808089146\n"
     ]
    },
    {
     "name": "stderr",
     "output_type": "stream",
     "text": [
      "  4%|▍         | 57/1500 [41:45<17:38:17, 44.00s/it]"
     ]
    },
    {
     "name": "stdout",
     "output_type": "stream",
     "text": [
      "925\n",
      "0.38175815105241434\n",
      "0.3265090010589481\n",
      "804\n",
      "0.33182005777961204\n",
      "0.33182005777961204\n"
     ]
    },
    {
     "name": "stderr",
     "output_type": "stream",
     "text": [
      "  4%|▍         | 58/1500 [42:29<17:37:35, 44.01s/it]"
     ]
    },
    {
     "name": "stdout",
     "output_type": "stream",
     "text": [
      "927\n",
      "0.3825835740817169\n",
      "0.3272149664666431\n",
      "808\n",
      "0.3334709038382171\n",
      "0.3334709038382171\n"
     ]
    },
    {
     "name": "stderr",
     "output_type": "stream",
     "text": [
      "  4%|▍         | 59/1500 [43:13<17:36:44, 44.00s/it]"
     ]
    },
    {
     "name": "stdout",
     "output_type": "stream",
     "text": [
      "928\n",
      "0.3829962855963681\n",
      "0.32756794917049065\n",
      "807\n",
      "0.3330581923235658\n",
      "0.3330581923235658\n"
     ]
    },
    {
     "name": "stderr",
     "output_type": "stream",
     "text": [
      "  4%|▍         | 60/1500 [43:57<17:36:43, 44.03s/it]"
     ]
    },
    {
     "name": "stdout",
     "output_type": "stream",
     "text": [
      "927\n",
      "0.3825835740817169\n",
      "0.3272149664666431\n",
      "806\n",
      "0.3326454808089146\n",
      "0.3326454808089146\n"
     ]
    },
    {
     "name": "stderr",
     "output_type": "stream",
     "text": [
      "  4%|▍         | 61/1500 [44:41<17:36:16, 44.04s/it]"
     ]
    },
    {
     "name": "stdout",
     "output_type": "stream",
     "text": [
      "925\n",
      "0.38175815105241434\n",
      "0.3265090010589481\n",
      "810\n",
      "0.3342963268675196\n",
      "0.3342963268675196\n"
     ]
    },
    {
     "name": "stderr",
     "output_type": "stream",
     "text": [
      "  4%|▍         | 62/1500 [45:25<17:35:31, 44.04s/it]"
     ]
    },
    {
     "name": "stdout",
     "output_type": "stream",
     "text": [
      "929\n",
      "0.3834089971110194\n",
      "0.3279209318743382\n",
      "810\n",
      "0.3342963268675196\n",
      "0.3342963268675196\n"
     ]
    },
    {
     "name": "stderr",
     "output_type": "stream",
     "text": [
      "  4%|▍         | 63/1500 [46:10<17:35:01, 44.05s/it]"
     ]
    },
    {
     "name": "stdout",
     "output_type": "stream",
     "text": [
      "928\n",
      "0.3829962855963681\n",
      "0.32756794917049065\n",
      "808\n",
      "0.3334709038382171\n",
      "0.3334709038382171\n"
     ]
    },
    {
     "name": "stderr",
     "output_type": "stream",
     "text": [
      "  4%|▍         | 64/1500 [46:54<17:34:40, 44.07s/it]"
     ]
    },
    {
     "name": "stdout",
     "output_type": "stream",
     "text": [
      "931\n",
      "0.38423442014032194\n",
      "0.3286268972820332\n",
      "808\n",
      "0.3334709038382171\n",
      "0.3334709038382171\n"
     ]
    },
    {
     "name": "stderr",
     "output_type": "stream",
     "text": [
      "  4%|▍         | 65/1500 [47:38<17:33:28, 44.05s/it]"
     ]
    },
    {
     "name": "stdout",
     "output_type": "stream",
     "text": [
      "931\n",
      "0.38423442014032194\n",
      "0.3286268972820332\n",
      "810\n",
      "0.3342963268675196\n",
      "0.3342963268675196\n"
     ]
    },
    {
     "name": "stderr",
     "output_type": "stream",
     "text": [
      "  4%|▍         | 66/1500 [48:22<17:33:30, 44.08s/it]"
     ]
    },
    {
     "name": "stdout",
     "output_type": "stream",
     "text": [
      "929\n",
      "0.3834089971110194\n",
      "0.3279209318743382\n",
      "808\n",
      "0.3334709038382171\n",
      "0.3334709038382171\n"
     ]
    },
    {
     "name": "stderr",
     "output_type": "stream",
     "text": [
      "  4%|▍         | 67/1500 [49:06<17:32:32, 44.07s/it]"
     ]
    },
    {
     "name": "stdout",
     "output_type": "stream",
     "text": [
      "930\n",
      "0.38382170862567067\n",
      "0.32827391457818567\n",
      "810\n",
      "0.3342963268675196\n",
      "0.3342963268675196\n"
     ]
    },
    {
     "name": "stderr",
     "output_type": "stream",
     "text": [
      "  5%|▍         | 68/1500 [49:50<17:32:35, 44.10s/it]"
     ]
    },
    {
     "name": "stdout",
     "output_type": "stream",
     "text": [
      "931\n",
      "0.38423442014032194\n",
      "0.3286268972820332\n",
      "809\n",
      "0.33388361535286837\n",
      "0.33388361535286837\n"
     ]
    },
    {
     "name": "stderr",
     "output_type": "stream",
     "text": [
      "  5%|▍         | 69/1500 [50:34<17:31:02, 44.07s/it]"
     ]
    },
    {
     "name": "stdout",
     "output_type": "stream",
     "text": [
      "933\n",
      "0.38505984316962444\n",
      "0.3293328626897282\n",
      "815\n",
      "0.3363598844407759\n",
      "0.3363598844407759\n"
     ]
    },
    {
     "name": "stderr",
     "output_type": "stream",
     "text": [
      "  5%|▍         | 70/1500 [51:19<17:37:04, 44.35s/it]"
     ]
    },
    {
     "name": "stdout",
     "output_type": "stream",
     "text": [
      "934\n",
      "0.3854725546842757\n",
      "0.3296858453935757\n",
      "813\n",
      "0.33553446141147336\n",
      "0.33553446141147336\n"
     ]
    },
    {
     "name": "stderr",
     "output_type": "stream",
     "text": [
      "  5%|▍         | 71/1500 [52:03<17:33:10, 44.22s/it]"
     ]
    },
    {
     "name": "stdout",
     "output_type": "stream",
     "text": [
      "932\n",
      "0.38464713165497316\n",
      "0.3289798799858807\n",
      "814\n",
      "0.33594717292612464\n",
      "0.33594717292612464\n"
     ]
    },
    {
     "name": "stderr",
     "output_type": "stream",
     "text": [
      "  5%|▍         | 72/1500 [52:47<17:30:35, 44.14s/it]"
     ]
    },
    {
     "name": "stdout",
     "output_type": "stream",
     "text": [
      "930\n",
      "0.38382170862567067\n",
      "0.32827391457818567\n",
      "811\n",
      "0.33470903838217086\n",
      "0.33470903838217086\n"
     ]
    },
    {
     "name": "stderr",
     "output_type": "stream",
     "text": [
      "  5%|▍         | 73/1500 [53:31<17:29:16, 44.12s/it]"
     ]
    },
    {
     "name": "stdout",
     "output_type": "stream",
     "text": [
      "932\n",
      "0.38464713165497316\n",
      "0.3289798799858807\n",
      "812\n",
      "0.33512174989682214\n",
      "0.33512174989682214\n"
     ]
    },
    {
     "name": "stderr",
     "output_type": "stream",
     "text": [
      "  5%|▍         | 74/1500 [54:15<17:26:53, 44.05s/it]"
     ]
    },
    {
     "name": "stdout",
     "output_type": "stream",
     "text": [
      "936\n",
      "0.3862979777135782\n",
      "0.3303918108012707\n",
      "815\n",
      "0.3363598844407759\n",
      "0.3363598844407759\n"
     ]
    },
    {
     "name": "stderr",
     "output_type": "stream",
     "text": [
      "  5%|▌         | 75/1500 [54:59<17:25:33, 44.02s/it]"
     ]
    },
    {
     "name": "stdout",
     "output_type": "stream",
     "text": [
      "937\n",
      "0.3867106892282295\n",
      "0.33074479350511826\n",
      "815\n",
      "0.3363598844407759\n",
      "0.3363598844407759\n"
     ]
    },
    {
     "name": "stderr",
     "output_type": "stream",
     "text": [
      "  5%|▌         | 76/1500 [55:43<17:24:11, 44.00s/it]"
     ]
    },
    {
     "name": "stdout",
     "output_type": "stream",
     "text": [
      "937\n",
      "0.3867106892282295\n",
      "0.33074479350511826\n",
      "812\n",
      "0.33512174989682214\n",
      "0.33512174989682214\n"
     ]
    },
    {
     "name": "stderr",
     "output_type": "stream",
     "text": [
      "  5%|▌         | 77/1500 [56:27<17:23:47, 44.01s/it]"
     ]
    },
    {
     "name": "stdout",
     "output_type": "stream",
     "text": [
      "933\n",
      "0.38505984316962444\n",
      "0.3293328626897282\n",
      "816\n",
      "0.33677259595542713\n",
      "0.33677259595542713\n"
     ]
    },
    {
     "name": "stderr",
     "output_type": "stream",
     "text": [
      "  5%|▌         | 78/1500 [57:11<17:22:50, 44.00s/it]"
     ]
    },
    {
     "name": "stdout",
     "output_type": "stream",
     "text": [
      "930\n",
      "0.38382170862567067\n",
      "0.32827391457818567\n",
      "812\n",
      "0.33512174989682214\n",
      "0.33512174989682214\n"
     ]
    },
    {
     "name": "stderr",
     "output_type": "stream",
     "text": [
      "  5%|▌         | 79/1500 [57:55<17:22:26, 44.02s/it]"
     ]
    },
    {
     "name": "stdout",
     "output_type": "stream",
     "text": [
      "929\n",
      "0.3834089971110194\n",
      "0.3279209318743382\n",
      "814\n",
      "0.33594717292612464\n",
      "0.33594717292612464\n"
     ]
    },
    {
     "name": "stderr",
     "output_type": "stream",
     "text": [
      "  5%|▌         | 80/1500 [58:39<17:20:58, 43.98s/it]"
     ]
    },
    {
     "name": "stdout",
     "output_type": "stream",
     "text": [
      "928\n",
      "0.3829962855963681\n",
      "0.32756794917049065\n",
      "819\n",
      "0.3380107304993809\n",
      "0.3380107304993809\n"
     ]
    },
    {
     "name": "stderr",
     "output_type": "stream",
     "text": [
      "  5%|▌         | 81/1500 [59:23<17:20:05, 43.98s/it]"
     ]
    },
    {
     "name": "stdout",
     "output_type": "stream",
     "text": [
      "926\n",
      "0.3821708625670656\n",
      "0.3268619837627956\n",
      "817\n",
      "0.3371853074700784\n",
      "0.3371853074700784\n"
     ]
    },
    {
     "name": "stderr",
     "output_type": "stream",
     "text": [
      "  5%|▌         | 82/1500 [1:00:07<17:19:59, 44.01s/it]"
     ]
    },
    {
     "name": "stdout",
     "output_type": "stream",
     "text": [
      "930\n",
      "0.38382170862567067\n",
      "0.32827391457818567\n",
      "818\n",
      "0.3375980189847297\n",
      "0.3375980189847297\n"
     ]
    },
    {
     "name": "stderr",
     "output_type": "stream",
     "text": [
      "  6%|▌         | 83/1500 [1:00:51<17:20:15, 44.05s/it]"
     ]
    },
    {
     "name": "stdout",
     "output_type": "stream",
     "text": [
      "928\n",
      "0.3829962855963681\n",
      "0.32756794917049065\n",
      "813\n",
      "0.33553446141147336\n",
      "0.33553446141147336\n"
     ]
    },
    {
     "name": "stderr",
     "output_type": "stream",
     "text": [
      "  6%|▌         | 84/1500 [1:01:35<17:19:31, 44.05s/it]"
     ]
    },
    {
     "name": "stdout",
     "output_type": "stream",
     "text": [
      "930\n",
      "0.38382170862567067\n",
      "0.32827391457818567\n",
      "808\n",
      "0.3334709038382171\n",
      "0.3334709038382171\n"
     ]
    },
    {
     "name": "stderr",
     "output_type": "stream",
     "text": [
      "  6%|▌         | 85/1500 [1:02:19<17:20:17, 44.11s/it]"
     ]
    },
    {
     "name": "stdout",
     "output_type": "stream",
     "text": [
      "930\n",
      "0.38382170862567067\n",
      "0.32827391457818567\n",
      "808\n",
      "0.3334709038382171\n",
      "0.3334709038382171\n"
     ]
    },
    {
     "name": "stderr",
     "output_type": "stream",
     "text": [
      "  6%|▌         | 86/1500 [1:03:03<17:20:07, 44.14s/it]"
     ]
    },
    {
     "name": "stdout",
     "output_type": "stream",
     "text": [
      "926\n",
      "0.3821708625670656\n",
      "0.3268619837627956\n",
      "810\n",
      "0.3342963268675196\n",
      "0.3342963268675196\n"
     ]
    },
    {
     "name": "stderr",
     "output_type": "stream",
     "text": [
      "  6%|▌         | 87/1500 [1:03:47<17:19:12, 44.13s/it]"
     ]
    },
    {
     "name": "stdout",
     "output_type": "stream",
     "text": [
      "930\n",
      "0.38382170862567067\n",
      "0.32827391457818567\n",
      "812\n",
      "0.33512174989682214\n",
      "0.33512174989682214\n"
     ]
    },
    {
     "name": "stderr",
     "output_type": "stream",
     "text": [
      "  6%|▌         | 88/1500 [1:04:31<17:17:21, 44.08s/it]"
     ]
    },
    {
     "name": "stdout",
     "output_type": "stream",
     "text": [
      "927\n",
      "0.3825835740817169\n",
      "0.3272149664666431\n",
      "813\n",
      "0.33553446141147336\n",
      "0.33553446141147336\n"
     ]
    },
    {
     "name": "stderr",
     "output_type": "stream",
     "text": [
      "  6%|▌         | 89/1500 [1:05:16<17:16:33, 44.08s/it]"
     ]
    },
    {
     "name": "stdout",
     "output_type": "stream",
     "text": [
      "927\n",
      "0.3825835740817169\n",
      "0.3272149664666431\n",
      "812\n",
      "0.33512174989682214\n",
      "0.33512174989682214\n"
     ]
    },
    {
     "name": "stderr",
     "output_type": "stream",
     "text": [
      "  6%|▌         | 90/1500 [1:06:00<17:16:00, 44.09s/it]"
     ]
    },
    {
     "name": "stdout",
     "output_type": "stream",
     "text": [
      "926\n",
      "0.3821708625670656\n",
      "0.3268619837627956\n",
      "813\n",
      "0.33553446141147336\n",
      "0.33553446141147336\n"
     ]
    },
    {
     "name": "stderr",
     "output_type": "stream",
     "text": [
      "  6%|▌         | 91/1500 [1:06:44<17:14:35, 44.06s/it]"
     ]
    },
    {
     "name": "stdout",
     "output_type": "stream",
     "text": [
      "917\n",
      "0.3784564589352043\n",
      "0.323685139428168\n",
      "814\n",
      "0.33594717292612464\n",
      "0.33594717292612464\n"
     ]
    },
    {
     "name": "stderr",
     "output_type": "stream",
     "text": [
      "  6%|▌         | 92/1500 [1:07:28<17:13:17, 44.03s/it]"
     ]
    },
    {
     "name": "stdout",
     "output_type": "stream",
     "text": [
      "924\n",
      "0.3813454395377631\n",
      "0.3261560183551006\n",
      "817\n",
      "0.3371853074700784\n",
      "0.3371853074700784\n"
     ]
    },
    {
     "name": "stderr",
     "output_type": "stream",
     "text": [
      "  6%|▌         | 93/1500 [1:08:12<17:12:27, 44.03s/it]"
     ]
    },
    {
     "name": "stdout",
     "output_type": "stream",
     "text": [
      "923\n",
      "0.38093272802311184\n",
      "0.32580303565125307\n",
      "813\n",
      "0.33553446141147336\n",
      "0.33553446141147336\n"
     ]
    },
    {
     "name": "stderr",
     "output_type": "stream",
     "text": [
      "  6%|▋         | 94/1500 [1:08:56<17:11:55, 44.04s/it]"
     ]
    },
    {
     "name": "stdout",
     "output_type": "stream",
     "text": [
      "918\n",
      "0.3788691704498556\n",
      "0.32403812213201555\n",
      "814\n",
      "0.33594717292612464\n",
      "0.33594717292612464\n"
     ]
    },
    {
     "name": "stderr",
     "output_type": "stream",
     "text": [
      "  6%|▋         | 95/1500 [1:09:40<17:10:41, 44.02s/it]"
     ]
    },
    {
     "name": "stdout",
     "output_type": "stream",
     "text": [
      "917\n",
      "0.3784564589352043\n",
      "0.323685139428168\n",
      "816\n",
      "0.33677259595542713\n",
      "0.33677259595542713\n"
     ]
    },
    {
     "name": "stderr",
     "output_type": "stream",
     "text": [
      "  6%|▋         | 96/1500 [1:10:24<17:09:06, 43.98s/it]"
     ]
    },
    {
     "name": "stdout",
     "output_type": "stream",
     "text": [
      "914\n",
      "0.3772183243912505\n",
      "0.3226261913166255\n",
      "815\n",
      "0.3363598844407759\n",
      "0.3363598844407759\n"
     ]
    },
    {
     "name": "stderr",
     "output_type": "stream",
     "text": [
      "  6%|▋         | 97/1500 [1:11:08<17:08:30, 43.98s/it]"
     ]
    },
    {
     "name": "stdout",
     "output_type": "stream",
     "text": [
      "910\n",
      "0.3755674783326455\n",
      "0.3212142605012354\n",
      "814\n",
      "0.33594717292612464\n",
      "0.33594717292612464\n"
     ]
    },
    {
     "name": "stderr",
     "output_type": "stream",
     "text": [
      "  7%|▋         | 98/1500 [1:11:52<17:08:01, 44.00s/it]"
     ]
    },
    {
     "name": "stdout",
     "output_type": "stream",
     "text": [
      "913\n",
      "0.37680561287659925\n",
      "0.322273208612778\n",
      "812\n",
      "0.33512174989682214\n",
      "0.33512174989682214\n"
     ]
    },
    {
     "name": "stderr",
     "output_type": "stream",
     "text": [
      "  7%|▋         | 99/1500 [1:12:37<17:15:05, 44.33s/it]"
     ]
    },
    {
     "name": "stdout",
     "output_type": "stream",
     "text": [
      "913\n",
      "0.37680561287659925\n",
      "0.322273208612778\n",
      "808\n",
      "0.3334709038382171\n",
      "0.3334709038382171\n"
     ]
    },
    {
     "name": "stderr",
     "output_type": "stream",
     "text": [
      "  7%|▋         | 100/1500 [1:13:21<17:12:20, 44.24s/it]"
     ]
    },
    {
     "name": "stdout",
     "output_type": "stream",
     "text": [
      "912\n",
      "0.376392901361948\n",
      "0.32192022590893044\n",
      "811\n",
      "0.33470903838217086\n",
      "0.33470903838217086\n"
     ]
    },
    {
     "name": "stderr",
     "output_type": "stream",
     "text": [
      "  7%|▋         | 101/1500 [1:14:05<17:10:39, 44.20s/it]"
     ]
    },
    {
     "name": "stdout",
     "output_type": "stream",
     "text": [
      "911\n",
      "0.37598018984729675\n",
      "0.32156724320508295\n",
      "812\n",
      "0.33512174989682214\n",
      "0.33512174989682214\n"
     ]
    },
    {
     "name": "stderr",
     "output_type": "stream",
     "text": [
      "  7%|▋         | 102/1500 [1:14:49<17:08:25, 44.14s/it]"
     ]
    },
    {
     "name": "stdout",
     "output_type": "stream",
     "text": [
      "913\n",
      "0.37680561287659925\n",
      "0.322273208612778\n",
      "815\n",
      "0.3363598844407759\n",
      "0.3363598844407759\n"
     ]
    },
    {
     "name": "stderr",
     "output_type": "stream",
     "text": [
      "  7%|▋         | 103/1500 [1:15:33<17:06:58, 44.11s/it]"
     ]
    },
    {
     "name": "stdout",
     "output_type": "stream",
     "text": [
      "911\n",
      "0.37598018984729675\n",
      "0.32156724320508295\n",
      "813\n",
      "0.33553446141147336\n",
      "0.33553446141147336\n"
     ]
    },
    {
     "name": "stderr",
     "output_type": "stream",
     "text": [
      "  7%|▋         | 104/1500 [1:16:17<17:05:19, 44.07s/it]"
     ]
    },
    {
     "name": "stdout",
     "output_type": "stream",
     "text": [
      "909\n",
      "0.3751547668179942\n",
      "0.32086127779738793\n",
      "812\n",
      "0.33512174989682214\n",
      "0.33512174989682214\n"
     ]
    },
    {
     "name": "stderr",
     "output_type": "stream",
     "text": [
      "  7%|▋         | 105/1500 [1:17:01<17:03:58, 44.04s/it]"
     ]
    },
    {
     "name": "stdout",
     "output_type": "stream",
     "text": [
      "914\n",
      "0.3772183243912505\n",
      "0.3226261913166255\n",
      "807\n",
      "0.3330581923235658\n",
      "0.3330581923235658\n"
     ]
    },
    {
     "name": "stderr",
     "output_type": "stream",
     "text": [
      "  7%|▋         | 106/1500 [1:17:45<17:02:45, 44.02s/it]"
     ]
    },
    {
     "name": "stdout",
     "output_type": "stream",
     "text": [
      "917\n",
      "0.3784564589352043\n",
      "0.323685139428168\n",
      "805\n",
      "0.3322327692942633\n",
      "0.3322327692942633\n"
     ]
    },
    {
     "name": "stderr",
     "output_type": "stream",
     "text": [
      "  7%|▋         | 107/1500 [1:18:29<17:02:16, 44.03s/it]"
     ]
    },
    {
     "name": "stdout",
     "output_type": "stream",
     "text": [
      "912\n",
      "0.376392901361948\n",
      "0.32192022590893044\n",
      "807\n",
      "0.3330581923235658\n",
      "0.3330581923235658\n"
     ]
    },
    {
     "name": "stderr",
     "output_type": "stream",
     "text": [
      "  7%|▋         | 108/1500 [1:19:13<17:02:56, 44.09s/it]"
     ]
    },
    {
     "name": "stdout",
     "output_type": "stream",
     "text": [
      "912\n",
      "0.376392901361948\n",
      "0.32192022590893044\n",
      "805\n",
      "0.3322327692942633\n",
      "0.3322327692942633\n"
     ]
    },
    {
     "name": "stderr",
     "output_type": "stream",
     "text": [
      "  7%|▋         | 109/1500 [1:19:57<17:03:03, 44.13s/it]"
     ]
    },
    {
     "name": "stdout",
     "output_type": "stream",
     "text": [
      "910\n",
      "0.3755674783326455\n",
      "0.3212142605012354\n",
      "802\n",
      "0.33099463475030955\n",
      "0.33099463475030955\n"
     ]
    },
    {
     "name": "stderr",
     "output_type": "stream",
     "text": [
      "  7%|▋         | 110/1500 [1:20:41<17:01:41, 44.10s/it]"
     ]
    },
    {
     "name": "stdout",
     "output_type": "stream",
     "text": [
      "910\n",
      "0.3755674783326455\n",
      "0.3212142605012354\n",
      "803\n",
      "0.33140734626496077\n",
      "0.33140734626496077\n"
     ]
    },
    {
     "name": "stderr",
     "output_type": "stream",
     "text": [
      "  7%|▋         | 111/1500 [1:21:25<17:00:17, 44.07s/it]"
     ]
    },
    {
     "name": "stdout",
     "output_type": "stream",
     "text": [
      "909\n",
      "0.3751547668179942\n",
      "0.32086127779738793\n",
      "804\n",
      "0.33182005777961204\n",
      "0.33182005777961204\n"
     ]
    },
    {
     "name": "stderr",
     "output_type": "stream",
     "text": [
      "  7%|▋         | 112/1500 [1:22:09<16:59:52, 44.09s/it]"
     ]
    },
    {
     "name": "stdout",
     "output_type": "stream",
     "text": [
      "908\n",
      "0.374742055303343\n",
      "0.3205082950935404\n",
      "806\n",
      "0.3326454808089146\n",
      "0.3326454808089146\n"
     ]
    },
    {
     "name": "stderr",
     "output_type": "stream",
     "text": [
      "  8%|▊         | 113/1500 [1:22:53<16:58:47, 44.07s/it]"
     ]
    },
    {
     "name": "stdout",
     "output_type": "stream",
     "text": [
      "908\n",
      "0.374742055303343\n",
      "0.3205082950935404\n",
      "800\n",
      "0.330169211721007\n",
      "0.330169211721007\n"
     ]
    },
    {
     "name": "stderr",
     "output_type": "stream",
     "text": [
      "  8%|▊         | 114/1500 [1:23:38<16:58:02, 44.07s/it]"
     ]
    },
    {
     "name": "stdout",
     "output_type": "stream",
     "text": [
      "904\n",
      "0.37309120924473793\n",
      "0.31909636427815036\n",
      "796\n",
      "0.328518365662402\n",
      "0.328518365662402\n"
     ]
    },
    {
     "name": "stderr",
     "output_type": "stream",
     "text": [
      "  8%|▊         | 115/1500 [1:24:21<16:56:27, 44.03s/it]"
     ]
    },
    {
     "name": "stdout",
     "output_type": "stream",
     "text": [
      "913\n",
      "0.37680561287659925\n",
      "0.322273208612778\n",
      "803\n",
      "0.33140734626496077\n",
      "0.33140734626496077\n"
     ]
    },
    {
     "name": "stderr",
     "output_type": "stream",
     "text": [
      "  8%|▊         | 116/1500 [1:25:06<16:55:40, 44.03s/it]"
     ]
    },
    {
     "name": "stdout",
     "output_type": "stream",
     "text": [
      "912\n",
      "0.376392901361948\n",
      "0.32192022590893044\n",
      "803\n",
      "0.33140734626496077\n",
      "0.33140734626496077\n"
     ]
    },
    {
     "name": "stderr",
     "output_type": "stream",
     "text": [
      "  8%|▊         | 117/1500 [1:25:50<16:55:11, 44.04s/it]"
     ]
    },
    {
     "name": "stdout",
     "output_type": "stream",
     "text": [
      "906\n",
      "0.37391663227404043\n",
      "0.3198023296858454\n",
      "805\n",
      "0.3322327692942633\n",
      "0.3322327692942633\n"
     ]
    },
    {
     "name": "stderr",
     "output_type": "stream",
     "text": [
      "  8%|▊         | 118/1500 [1:26:34<16:53:50, 44.02s/it]"
     ]
    },
    {
     "name": "stdout",
     "output_type": "stream",
     "text": [
      "907\n",
      "0.3743293437886917\n",
      "0.3201553123896929\n",
      "802\n",
      "0.33099463475030955\n",
      "0.33099463475030955\n"
     ]
    },
    {
     "name": "stderr",
     "output_type": "stream",
     "text": [
      "  8%|▊         | 119/1500 [1:27:18<16:53:46, 44.05s/it]"
     ]
    },
    {
     "name": "stdout",
     "output_type": "stream",
     "text": [
      "904\n",
      "0.37309120924473793\n",
      "0.31909636427815036\n",
      "804\n",
      "0.33182005777961204\n",
      "0.33182005777961204\n"
     ]
    },
    {
     "name": "stderr",
     "output_type": "stream",
     "text": [
      "  8%|▊         | 120/1500 [1:28:02<16:52:46, 44.03s/it]"
     ]
    },
    {
     "name": "stdout",
     "output_type": "stream",
     "text": [
      "898\n",
      "0.3706149401568304\n",
      "0.3169784680550653\n",
      "805\n",
      "0.3322327692942633\n",
      "0.3322327692942633\n"
     ]
    },
    {
     "name": "stderr",
     "output_type": "stream",
     "text": [
      "  8%|▊         | 121/1500 [1:28:46<16:51:52, 44.03s/it]"
     ]
    },
    {
     "name": "stdout",
     "output_type": "stream",
     "text": [
      "900\n",
      "0.3714403631861329\n",
      "0.3176844334627603\n",
      "804\n",
      "0.33182005777961204\n",
      "0.33182005777961204\n"
     ]
    },
    {
     "name": "stderr",
     "output_type": "stream",
     "text": [
      "  8%|▊         | 122/1500 [1:29:31<16:58:16, 44.34s/it]"
     ]
    },
    {
     "name": "stdout",
     "output_type": "stream",
     "text": [
      "903\n",
      "0.37267849773008666\n",
      "0.3187433815743029\n",
      "810\n",
      "0.3342963268675196\n",
      "0.3342963268675196\n"
     ]
    },
    {
     "name": "stderr",
     "output_type": "stream",
     "text": [
      "  8%|▊         | 123/1500 [1:30:15<16:55:33, 44.25s/it]"
     ]
    },
    {
     "name": "stdout",
     "output_type": "stream",
     "text": [
      "904\n",
      "0.37309120924473793\n",
      "0.31909636427815036\n",
      "807\n",
      "0.3330581923235658\n",
      "0.3330581923235658\n"
     ]
    },
    {
     "name": "stderr",
     "output_type": "stream",
     "text": [
      "  8%|▊         | 124/1500 [1:30:59<16:53:48, 44.21s/it]"
     ]
    },
    {
     "name": "stdout",
     "output_type": "stream",
     "text": [
      "906\n",
      "0.37391663227404043\n",
      "0.3198023296858454\n",
      "806\n",
      "0.3326454808089146\n",
      "0.3326454808089146\n"
     ]
    },
    {
     "name": "stderr",
     "output_type": "stream",
     "text": [
      "  8%|▊         | 125/1500 [1:31:43<16:51:51, 44.15s/it]"
     ]
    },
    {
     "name": "stdout",
     "output_type": "stream",
     "text": [
      "906\n",
      "0.37391663227404043\n",
      "0.3198023296858454\n",
      "804\n",
      "0.33182005777961204\n",
      "0.33182005777961204\n"
     ]
    },
    {
     "name": "stderr",
     "output_type": "stream",
     "text": [
      "  8%|▊         | 126/1500 [1:32:27<16:50:23, 44.12s/it]"
     ]
    },
    {
     "name": "stdout",
     "output_type": "stream",
     "text": [
      "904\n",
      "0.37309120924473793\n",
      "0.31909636427815036\n",
      "805\n",
      "0.3322327692942633\n",
      "0.3322327692942633\n"
     ]
    },
    {
     "name": "stderr",
     "output_type": "stream",
     "text": [
      "  8%|▊         | 127/1500 [1:33:11<16:48:43, 44.08s/it]"
     ]
    },
    {
     "name": "stdout",
     "output_type": "stream",
     "text": [
      "902\n",
      "0.37226578621543543\n",
      "0.31839039887045534\n",
      "805\n",
      "0.3322327692942633\n",
      "0.3322327692942633\n"
     ]
    },
    {
     "name": "stderr",
     "output_type": "stream",
     "text": [
      "  9%|▊         | 128/1500 [1:33:55<16:47:12, 44.05s/it]"
     ]
    },
    {
     "name": "stdout",
     "output_type": "stream",
     "text": [
      "900\n",
      "0.3714403631861329\n",
      "0.3176844334627603\n",
      "804\n",
      "0.33182005777961204\n",
      "0.33182005777961204\n"
     ]
    },
    {
     "name": "stderr",
     "output_type": "stream",
     "text": [
      "  9%|▊         | 129/1500 [1:34:39<16:45:54, 44.02s/it]"
     ]
    },
    {
     "name": "stdout",
     "output_type": "stream",
     "text": [
      "903\n",
      "0.37267849773008666\n",
      "0.3187433815743029\n",
      "802\n",
      "0.33099463475030955\n",
      "0.33099463475030955\n"
     ]
    },
    {
     "name": "stderr",
     "output_type": "stream",
     "text": [
      "  9%|▊         | 130/1500 [1:35:23<16:44:54, 44.01s/it]"
     ]
    },
    {
     "name": "stdout",
     "output_type": "stream",
     "text": [
      "904\n",
      "0.37309120924473793\n",
      "0.31909636427815036\n",
      "801\n",
      "0.33058192323565827\n",
      "0.33058192323565827\n"
     ]
    },
    {
     "name": "stderr",
     "output_type": "stream",
     "text": [
      "  9%|▊         | 131/1500 [1:36:07<16:43:57, 44.00s/it]"
     ]
    },
    {
     "name": "stdout",
     "output_type": "stream",
     "text": [
      "900\n",
      "0.3714403631861329\n",
      "0.3176844334627603\n",
      "798\n",
      "0.3293437886917045\n",
      "0.3293437886917045\n"
     ]
    },
    {
     "name": "stderr",
     "output_type": "stream",
     "text": [
      "  9%|▉         | 132/1500 [1:36:51<16:43:21, 44.01s/it]"
     ]
    },
    {
     "name": "stdout",
     "output_type": "stream",
     "text": [
      "900\n",
      "0.3714403631861329\n",
      "0.3176844334627603\n",
      "799\n",
      "0.3297565002063558\n",
      "0.3297565002063558\n"
     ]
    },
    {
     "name": "stderr",
     "output_type": "stream",
     "text": [
      "  9%|▉         | 133/1500 [1:37:35<16:42:06, 43.98s/it]"
     ]
    },
    {
     "name": "stdout",
     "output_type": "stream",
     "text": [
      "903\n",
      "0.37267849773008666\n",
      "0.3187433815743029\n",
      "805\n",
      "0.3322327692942633\n",
      "0.3322327692942633\n"
     ]
    },
    {
     "name": "stderr",
     "output_type": "stream",
     "text": [
      "  9%|▉         | 134/1500 [1:38:19<16:42:16, 44.02s/it]"
     ]
    },
    {
     "name": "stdout",
     "output_type": "stream",
     "text": [
      "902\n",
      "0.37226578621543543\n",
      "0.31839039887045534\n",
      "808\n",
      "0.3334709038382171\n",
      "0.3334709038382171\n"
     ]
    },
    {
     "name": "stderr",
     "output_type": "stream",
     "text": [
      "  9%|▉         | 135/1500 [1:39:03<16:41:33, 44.02s/it]"
     ]
    },
    {
     "name": "stdout",
     "output_type": "stream",
     "text": [
      "903\n",
      "0.37267849773008666\n",
      "0.3187433815743029\n",
      "802\n",
      "0.33099463475030955\n",
      "0.33099463475030955\n"
     ]
    },
    {
     "name": "stderr",
     "output_type": "stream",
     "text": [
      "  9%|▉         | 136/1500 [1:39:47<16:40:42, 44.02s/it]"
     ]
    },
    {
     "name": "stdout",
     "output_type": "stream",
     "text": [
      "900\n",
      "0.3714403631861329\n",
      "0.3176844334627603\n",
      "796\n",
      "0.328518365662402\n",
      "0.328518365662402\n"
     ]
    },
    {
     "name": "stderr",
     "output_type": "stream",
     "text": [
      "  9%|▉         | 137/1500 [1:40:31<16:40:10, 44.03s/it]"
     ]
    },
    {
     "name": "stdout",
     "output_type": "stream",
     "text": [
      "899\n",
      "0.37102765167148166\n",
      "0.31733145075891284\n",
      "796\n",
      "0.328518365662402\n",
      "0.328518365662402\n"
     ]
    },
    {
     "name": "stderr",
     "output_type": "stream",
     "text": [
      "  9%|▉         | 138/1500 [1:41:15<16:39:44, 44.04s/it]"
     ]
    },
    {
     "name": "stdout",
     "output_type": "stream",
     "text": [
      "893\n",
      "0.36855138258357406\n",
      "0.3152135545358277\n",
      "793\n",
      "0.32728023111844823\n",
      "0.32728023111844823\n"
     ]
    },
    {
     "name": "stderr",
     "output_type": "stream",
     "text": [
      "  9%|▉         | 139/1500 [1:41:59<16:40:04, 44.09s/it]"
     ]
    },
    {
     "name": "stdout",
     "output_type": "stream",
     "text": [
      "900\n",
      "0.3714403631861329\n",
      "0.3176844334627603\n",
      "800\n",
      "0.330169211721007\n",
      "0.330169211721007\n"
     ]
    },
    {
     "name": "stderr",
     "output_type": "stream",
     "text": [
      "  9%|▉         | 140/1500 [1:42:43<16:39:13, 44.08s/it]"
     ]
    },
    {
     "name": "stdout",
     "output_type": "stream",
     "text": [
      "902\n",
      "0.37226578621543543\n",
      "0.31839039887045534\n",
      "803\n",
      "0.33140734626496077\n",
      "0.33140734626496077\n"
     ]
    },
    {
     "name": "stderr",
     "output_type": "stream",
     "text": [
      "  9%|▉         | 141/1500 [1:43:27<16:37:19, 44.03s/it]"
     ]
    },
    {
     "name": "stdout",
     "output_type": "stream",
     "text": [
      "903\n",
      "0.37267849773008666\n",
      "0.3187433815743029\n",
      "807\n",
      "0.3330581923235658\n",
      "0.3330581923235658\n"
     ]
    },
    {
     "name": "stderr",
     "output_type": "stream",
     "text": [
      "  9%|▉         | 142/1500 [1:44:11<16:36:23, 44.02s/it]"
     ]
    },
    {
     "name": "stdout",
     "output_type": "stream",
     "text": [
      "899\n",
      "0.37102765167148166\n",
      "0.31733145075891284\n",
      "807\n",
      "0.3330581923235658\n",
      "0.3330581923235658\n"
     ]
    },
    {
     "name": "stderr",
     "output_type": "stream",
     "text": [
      " 10%|▉         | 143/1500 [1:44:55<16:35:16, 44.01s/it]"
     ]
    },
    {
     "name": "stdout",
     "output_type": "stream",
     "text": [
      "892\n",
      "0.36813867106892284\n",
      "0.31486057183198024\n",
      "807\n",
      "0.3330581923235658\n",
      "0.3330581923235658\n"
     ]
    },
    {
     "name": "stderr",
     "output_type": "stream",
     "text": [
      " 10%|▉         | 144/1500 [1:45:39<16:34:52, 44.02s/it]"
     ]
    },
    {
     "name": "stdout",
     "output_type": "stream",
     "text": [
      "894\n",
      "0.36896409409822534\n",
      "0.31556653723967526\n",
      "807\n",
      "0.3330581923235658\n",
      "0.3330581923235658\n"
     ]
    },
    {
     "name": "stderr",
     "output_type": "stream",
     "text": [
      " 10%|▉         | 145/1500 [1:46:23<16:33:33, 43.99s/it]"
     ]
    },
    {
     "name": "stdout",
     "output_type": "stream",
     "text": [
      "895\n",
      "0.3693768056128766\n",
      "0.31591951994352274\n",
      "800\n",
      "0.330169211721007\n",
      "0.330169211721007\n"
     ]
    },
    {
     "name": "stderr",
     "output_type": "stream",
     "text": [
      " 10%|▉         | 146/1500 [1:47:07<16:31:56, 43.96s/it]"
     ]
    },
    {
     "name": "stdout",
     "output_type": "stream",
     "text": [
      "896\n",
      "0.36978951712752783\n",
      "0.3162725026473703\n",
      "796\n",
      "0.328518365662402\n",
      "0.328518365662402\n"
     ]
    },
    {
     "name": "stderr",
     "output_type": "stream",
     "text": [
      " 10%|▉         | 147/1500 [1:47:51<16:30:45, 43.94s/it]"
     ]
    },
    {
     "name": "stdout",
     "output_type": "stream",
     "text": [
      "895\n",
      "0.3693768056128766\n",
      "0.31591951994352274\n",
      "797\n",
      "0.3289310771770532\n",
      "0.3289310771770532\n"
     ]
    },
    {
     "name": "stderr",
     "output_type": "stream",
     "text": [
      " 10%|▉         | 148/1500 [1:48:35<16:31:15, 43.99s/it]"
     ]
    },
    {
     "name": "stdout",
     "output_type": "stream",
     "text": [
      "894\n",
      "0.36896409409822534\n",
      "0.31556653723967526\n",
      "795\n",
      "0.3281056541477507\n",
      "0.3281056541477507\n"
     ]
    },
    {
     "name": "stderr",
     "output_type": "stream",
     "text": [
      " 10%|▉         | 149/1500 [1:49:19<16:29:33, 43.95s/it]"
     ]
    },
    {
     "name": "stdout",
     "output_type": "stream",
     "text": [
      "895\n",
      "0.3693768056128766\n",
      "0.31591951994352274\n",
      "796\n",
      "0.328518365662402\n",
      "0.328518365662402\n"
     ]
    },
    {
     "name": "stderr",
     "output_type": "stream",
     "text": [
      " 10%|█         | 150/1500 [1:50:03<16:29:00, 43.96s/it]"
     ]
    },
    {
     "name": "stdout",
     "output_type": "stream",
     "text": [
      "897\n",
      "0.3702022286421791\n",
      "0.3166254853512178\n",
      "796\n",
      "0.328518365662402\n",
      "0.328518365662402\n"
     ]
    },
    {
     "name": "stderr",
     "output_type": "stream",
     "text": [
      " 10%|█         | 151/1500 [1:50:47<16:29:27, 44.01s/it]"
     ]
    },
    {
     "name": "stdout",
     "output_type": "stream",
     "text": [
      "895\n",
      "0.3693768056128766\n",
      "0.31591951994352274\n",
      "806\n",
      "0.3326454808089146\n",
      "0.3326454808089146\n"
     ]
    },
    {
     "name": "stderr",
     "output_type": "stream",
     "text": [
      " 10%|█         | 152/1500 [1:51:31<16:29:02, 44.02s/it]"
     ]
    },
    {
     "name": "stdout",
     "output_type": "stream",
     "text": [
      "896\n",
      "0.36978951712752783\n",
      "0.3162725026473703\n",
      "804\n",
      "0.33182005777961204\n",
      "0.33182005777961204\n"
     ]
    },
    {
     "name": "stderr",
     "output_type": "stream",
     "text": [
      " 10%|█         | 153/1500 [1:52:16<16:35:01, 44.32s/it]"
     ]
    },
    {
     "name": "stdout",
     "output_type": "stream",
     "text": [
      "893\n",
      "0.36855138258357406\n",
      "0.3152135545358277\n",
      "802\n",
      "0.33099463475030955\n",
      "0.33099463475030955\n"
     ]
    },
    {
     "name": "stderr",
     "output_type": "stream",
     "text": [
      " 10%|█         | 154/1500 [1:53:00<16:31:57, 44.22s/it]"
     ]
    },
    {
     "name": "stdout",
     "output_type": "stream",
     "text": [
      "894\n",
      "0.36896409409822534\n",
      "0.31556653723967526\n",
      "800\n",
      "0.330169211721007\n",
      "0.330169211721007\n"
     ]
    },
    {
     "name": "stderr",
     "output_type": "stream",
     "text": [
      " 10%|█         | 155/1500 [1:53:44<16:30:20, 44.18s/it]"
     ]
    },
    {
     "name": "stdout",
     "output_type": "stream",
     "text": [
      "890\n",
      "0.3673132480396203\n",
      "0.3141546064242852\n",
      "798\n",
      "0.3293437886917045\n",
      "0.3293437886917045\n"
     ]
    },
    {
     "name": "stderr",
     "output_type": "stream",
     "text": [
      " 10%|█         | 156/1500 [1:54:28<16:28:39, 44.14s/it]"
     ]
    },
    {
     "name": "stdout",
     "output_type": "stream",
     "text": [
      "892\n",
      "0.36813867106892284\n",
      "0.31486057183198024\n",
      "802\n",
      "0.33099463475030955\n",
      "0.33099463475030955\n"
     ]
    },
    {
     "name": "stderr",
     "output_type": "stream",
     "text": [
      " 10%|█         | 157/1500 [1:55:12<16:26:10, 44.06s/it]"
     ]
    },
    {
     "name": "stdout",
     "output_type": "stream",
     "text": [
      "891\n",
      "0.36772595955427156\n",
      "0.3145075891281327\n",
      "799\n",
      "0.3297565002063558\n",
      "0.3297565002063558\n"
     ]
    },
    {
     "name": "stderr",
     "output_type": "stream",
     "text": [
      " 11%|█         | 158/1500 [1:55:56<16:24:48, 44.03s/it]"
     ]
    },
    {
     "name": "stdout",
     "output_type": "stream",
     "text": [
      "889\n",
      "0.36690053652496907\n",
      "0.3138016237204377\n",
      "807\n",
      "0.3330581923235658\n",
      "0.3330581923235658\n"
     ]
    },
    {
     "name": "stderr",
     "output_type": "stream",
     "text": [
      " 11%|█         | 159/1500 [1:56:40<16:24:02, 44.03s/it]"
     ]
    },
    {
     "name": "stdout",
     "output_type": "stream",
     "text": [
      "892\n",
      "0.36813867106892284\n",
      "0.31486057183198024\n",
      "804\n",
      "0.33182005777961204\n",
      "0.33182005777961204\n"
     ]
    },
    {
     "name": "stderr",
     "output_type": "stream",
     "text": [
      " 11%|█         | 160/1500 [1:57:24<16:22:37, 44.00s/it]"
     ]
    },
    {
     "name": "stdout",
     "output_type": "stream",
     "text": [
      "886\n",
      "0.3656624019810153\n",
      "0.3127426756088952\n",
      "799\n",
      "0.3297565002063558\n",
      "0.3297565002063558\n"
     ]
    },
    {
     "name": "stderr",
     "output_type": "stream",
     "text": [
      " 11%|█         | 161/1500 [1:58:08<16:21:59, 44.00s/it]"
     ]
    },
    {
     "name": "stdout",
     "output_type": "stream",
     "text": [
      "890\n",
      "0.3673132480396203\n",
      "0.3141546064242852\n",
      "793\n",
      "0.32728023111844823\n",
      "0.32728023111844823\n"
     ]
    },
    {
     "name": "stderr",
     "output_type": "stream",
     "text": [
      " 11%|█         | 162/1500 [1:58:52<16:21:08, 44.00s/it]"
     ]
    },
    {
     "name": "stdout",
     "output_type": "stream",
     "text": [
      "894\n",
      "0.36896409409822534\n",
      "0.31556653723967526\n",
      "796\n",
      "0.328518365662402\n",
      "0.328518365662402\n"
     ]
    },
    {
     "name": "stderr",
     "output_type": "stream",
     "text": [
      " 11%|█         | 163/1500 [1:59:36<16:20:47, 44.01s/it]"
     ]
    },
    {
     "name": "stdout",
     "output_type": "stream",
     "text": [
      "902\n",
      "0.37226578621543543\n",
      "0.31839039887045534\n",
      "798\n",
      "0.3293437886917045\n",
      "0.3293437886917045\n"
     ]
    },
    {
     "name": "stderr",
     "output_type": "stream",
     "text": [
      " 11%|█         | 164/1500 [2:00:20<16:19:57, 44.01s/it]"
     ]
    },
    {
     "name": "stdout",
     "output_type": "stream",
     "text": [
      "905\n",
      "0.3735039207593892\n",
      "0.3194493469819979\n",
      "798\n",
      "0.3293437886917045\n",
      "0.3293437886917045\n"
     ]
    },
    {
     "name": "stderr",
     "output_type": "stream",
     "text": [
      " 11%|█         | 165/1500 [2:01:04<16:19:07, 44.01s/it]"
     ]
    },
    {
     "name": "stdout",
     "output_type": "stream",
     "text": [
      "901\n",
      "0.37185307470078416\n",
      "0.31803741616660786\n",
      "794\n",
      "0.32769294263309945\n",
      "0.32769294263309945\n"
     ]
    },
    {
     "name": "stderr",
     "output_type": "stream",
     "text": [
      " 11%|█         | 166/1500 [2:01:48<16:18:08, 43.99s/it]"
     ]
    },
    {
     "name": "stdout",
     "output_type": "stream",
     "text": [
      "895\n",
      "0.3693768056128766\n",
      "0.31591951994352274\n",
      "793\n",
      "0.32728023111844823\n",
      "0.32728023111844823\n"
     ]
    },
    {
     "name": "stderr",
     "output_type": "stream",
     "text": [
      " 11%|█         | 167/1500 [2:02:32<16:17:39, 44.01s/it]"
     ]
    },
    {
     "name": "stdout",
     "output_type": "stream",
     "text": [
      "905\n",
      "0.3735039207593892\n",
      "0.3194493469819979\n",
      "792\n",
      "0.32686751960379695\n",
      "0.32686751960379695\n"
     ]
    },
    {
     "name": "stderr",
     "output_type": "stream",
     "text": [
      " 11%|█         | 168/1500 [2:03:16<16:17:29, 44.03s/it]"
     ]
    },
    {
     "name": "stdout",
     "output_type": "stream",
     "text": [
      "898\n",
      "0.3706149401568304\n",
      "0.3169784680550653\n",
      "795\n",
      "0.3281056541477507\n",
      "0.3281056541477507\n"
     ]
    },
    {
     "name": "stderr",
     "output_type": "stream",
     "text": [
      " 11%|█▏        | 169/1500 [2:04:00<16:17:07, 44.05s/it]"
     ]
    },
    {
     "name": "stdout",
     "output_type": "stream",
     "text": [
      "896\n",
      "0.36978951712752783\n",
      "0.3162725026473703\n",
      "795\n",
      "0.3281056541477507\n",
      "0.3281056541477507\n"
     ]
    },
    {
     "name": "stderr",
     "output_type": "stream",
     "text": [
      " 11%|█▏        | 170/1500 [2:04:44<16:17:09, 44.08s/it]"
     ]
    },
    {
     "name": "stdout",
     "output_type": "stream",
     "text": [
      "895\n",
      "0.3693768056128766\n",
      "0.31591951994352274\n",
      "797\n",
      "0.3289310771770532\n",
      "0.3289310771770532\n"
     ]
    },
    {
     "name": "stderr",
     "output_type": "stream",
     "text": [
      " 11%|█▏        | 171/1500 [2:05:28<16:16:17, 44.08s/it]"
     ]
    },
    {
     "name": "stdout",
     "output_type": "stream",
     "text": [
      "891\n",
      "0.36772595955427156\n",
      "0.3145075891281327\n",
      "797\n",
      "0.3289310771770532\n",
      "0.3289310771770532\n"
     ]
    },
    {
     "name": "stderr",
     "output_type": "stream",
     "text": [
      " 11%|█▏        | 172/1500 [2:06:13<16:15:27, 44.07s/it]"
     ]
    },
    {
     "name": "stdout",
     "output_type": "stream",
     "text": [
      "892\n",
      "0.36813867106892284\n",
      "0.31486057183198024\n",
      "795\n",
      "0.3281056541477507\n",
      "0.3281056541477507\n"
     ]
    },
    {
     "name": "stderr",
     "output_type": "stream",
     "text": [
      " 12%|█▏        | 173/1500 [2:06:57<16:15:23, 44.10s/it]"
     ]
    },
    {
     "name": "stdout",
     "output_type": "stream",
     "text": [
      "889\n",
      "0.36690053652496907\n",
      "0.3138016237204377\n",
      "797\n",
      "0.3289310771770532\n",
      "0.3289310771770532\n"
     ]
    },
    {
     "name": "stderr",
     "output_type": "stream",
     "text": [
      " 12%|█▏        | 174/1500 [2:07:41<16:15:19, 44.13s/it]"
     ]
    },
    {
     "name": "stdout",
     "output_type": "stream",
     "text": [
      "890\n",
      "0.3673132480396203\n",
      "0.3141546064242852\n",
      "802\n",
      "0.33099463475030955\n",
      "0.33099463475030955\n"
     ]
    },
    {
     "name": "stderr",
     "output_type": "stream",
     "text": [
      " 12%|█▏        | 175/1500 [2:08:25<16:13:42, 44.09s/it]"
     ]
    },
    {
     "name": "stdout",
     "output_type": "stream",
     "text": [
      "892\n",
      "0.36813867106892284\n",
      "0.31486057183198024\n",
      "794\n",
      "0.32769294263309945\n",
      "0.32769294263309945\n"
     ]
    },
    {
     "name": "stderr",
     "output_type": "stream",
     "text": [
      " 12%|█▏        | 176/1500 [2:09:09<16:12:36, 44.08s/it]"
     ]
    },
    {
     "name": "stdout",
     "output_type": "stream",
     "text": [
      "893\n",
      "0.36855138258357406\n",
      "0.3152135545358277\n",
      "792\n",
      "0.32686751960379695\n",
      "0.32686751960379695\n"
     ]
    },
    {
     "name": "stderr",
     "output_type": "stream",
     "text": [
      " 12%|█▏        | 177/1500 [2:09:53<16:10:59, 44.04s/it]"
     ]
    },
    {
     "name": "stdout",
     "output_type": "stream",
     "text": [
      "886\n",
      "0.3656624019810153\n",
      "0.3127426756088952\n",
      "795\n",
      "0.3281056541477507\n",
      "0.3281056541477507\n"
     ]
    },
    {
     "name": "stderr",
     "output_type": "stream",
     "text": [
      " 12%|█▏        | 178/1500 [2:10:37<16:10:34, 44.05s/it]"
     ]
    },
    {
     "name": "stdout",
     "output_type": "stream",
     "text": [
      "882\n",
      "0.36401155592241025\n",
      "0.31133074479350514\n",
      "790\n",
      "0.32604209657449446\n",
      "0.32604209657449446\n"
     ]
    },
    {
     "name": "stderr",
     "output_type": "stream",
     "text": [
      " 12%|█▏        | 179/1500 [2:11:21<16:09:37, 44.04s/it]"
     ]
    },
    {
     "name": "stdout",
     "output_type": "stream",
     "text": [
      "888\n",
      "0.3664878250103178\n",
      "0.3134486410165902\n",
      "794\n",
      "0.32769294263309945\n",
      "0.32769294263309945\n"
     ]
    },
    {
     "name": "stderr",
     "output_type": "stream",
     "text": [
      " 12%|█▏        | 180/1500 [2:12:05<16:08:55, 44.04s/it]"
     ]
    },
    {
     "name": "stdout",
     "output_type": "stream",
     "text": [
      "886\n",
      "0.3656624019810153\n",
      "0.3127426756088952\n",
      "797\n",
      "0.3289310771770532\n",
      "0.3289310771770532\n"
     ]
    },
    {
     "name": "stderr",
     "output_type": "stream",
     "text": [
      " 12%|█▏        | 181/1500 [2:12:49<16:07:36, 44.02s/it]"
     ]
    },
    {
     "name": "stdout",
     "output_type": "stream",
     "text": [
      "888\n",
      "0.3664878250103178\n",
      "0.3134486410165902\n",
      "797\n",
      "0.3289310771770532\n",
      "0.3289310771770532\n"
     ]
    },
    {
     "name": "stderr",
     "output_type": "stream",
     "text": [
      " 12%|█▏        | 182/1500 [2:13:33<16:06:49, 44.01s/it]"
     ]
    },
    {
     "name": "stdout",
     "output_type": "stream",
     "text": [
      "888\n",
      "0.3664878250103178\n",
      "0.3134486410165902\n",
      "793\n",
      "0.32728023111844823\n",
      "0.32728023111844823\n"
     ]
    },
    {
     "name": "stderr",
     "output_type": "stream",
     "text": [
      " 12%|█▏        | 183/1500 [2:14:17<16:06:04, 44.01s/it]"
     ]
    },
    {
     "name": "stdout",
     "output_type": "stream",
     "text": [
      "889\n",
      "0.36690053652496907\n",
      "0.3138016237204377\n",
      "790\n",
      "0.32604209657449446\n",
      "0.32604209657449446\n"
     ]
    },
    {
     "name": "stderr",
     "output_type": "stream",
     "text": [
      " 12%|█▏        | 184/1500 [2:15:01<16:05:19, 44.01s/it]"
     ]
    },
    {
     "name": "stdout",
     "output_type": "stream",
     "text": [
      "891\n",
      "0.36772595955427156\n",
      "0.3145075891281327\n",
      "792\n",
      "0.32686751960379695\n",
      "0.32686751960379695\n"
     ]
    },
    {
     "name": "stderr",
     "output_type": "stream",
     "text": [
      " 12%|█▏        | 185/1500 [2:15:45<16:04:22, 44.00s/it]"
     ]
    },
    {
     "name": "stdout",
     "output_type": "stream",
     "text": [
      "892\n",
      "0.36813867106892284\n",
      "0.31486057183198024\n",
      "794\n",
      "0.32769294263309945\n",
      "0.32769294263309945\n"
     ]
    },
    {
     "name": "stderr",
     "output_type": "stream",
     "text": [
      " 12%|█▏        | 186/1500 [2:16:29<16:03:28, 43.99s/it]"
     ]
    },
    {
     "name": "stdout",
     "output_type": "stream",
     "text": [
      "894\n",
      "0.36896409409822534\n",
      "0.31556653723967526\n",
      "794\n",
      "0.32769294263309945\n",
      "0.32769294263309945\n"
     ]
    },
    {
     "name": "stderr",
     "output_type": "stream",
     "text": [
      " 12%|█▏        | 187/1500 [2:17:13<16:03:11, 44.02s/it]"
     ]
    },
    {
     "name": "stdout",
     "output_type": "stream",
     "text": [
      "884\n",
      "0.36483697895171274\n",
      "0.31203671020120016\n",
      "798\n",
      "0.3293437886917045\n",
      "0.3293437886917045\n"
     ]
    },
    {
     "name": "stderr",
     "output_type": "stream",
     "text": [
      " 13%|█▎        | 188/1500 [2:17:57<16:02:23, 44.01s/it]"
     ]
    },
    {
     "name": "stdout",
     "output_type": "stream",
     "text": [
      "884\n",
      "0.36483697895171274\n",
      "0.31203671020120016\n",
      "795\n",
      "0.3281056541477507\n",
      "0.3281056541477507\n"
     ]
    },
    {
     "name": "stderr",
     "output_type": "stream",
     "text": [
      " 13%|█▎        | 189/1500 [2:18:41<16:01:39, 44.01s/it]"
     ]
    },
    {
     "name": "stdout",
     "output_type": "stream",
     "text": [
      "879\n",
      "0.3627734213784565\n",
      "0.3102717966819626\n",
      "795\n",
      "0.3281056541477507\n",
      "0.3281056541477507\n"
     ]
    },
    {
     "name": "stderr",
     "output_type": "stream",
     "text": [
      " 13%|█▎        | 190/1500 [2:19:25<16:01:21, 44.03s/it]"
     ]
    },
    {
     "name": "stdout",
     "output_type": "stream",
     "text": [
      "887\n",
      "0.3660751134956665\n",
      "0.31309565831274266\n",
      "790\n",
      "0.32604209657449446\n",
      "0.32604209657449446\n"
     ]
    },
    {
     "name": "stderr",
     "output_type": "stream",
     "text": [
      " 13%|█▎        | 191/1500 [2:20:09<16:00:45, 44.04s/it]"
     ]
    },
    {
     "name": "stdout",
     "output_type": "stream",
     "text": [
      "886\n",
      "0.3656624019810153\n",
      "0.3127426756088952\n",
      "795\n",
      "0.3281056541477507\n",
      "0.3281056541477507\n"
     ]
    },
    {
     "name": "stderr",
     "output_type": "stream",
     "text": [
      " 13%|█▎        | 192/1500 [2:20:54<16:06:43, 44.34s/it]"
     ]
    },
    {
     "name": "stdout",
     "output_type": "stream",
     "text": [
      "885\n",
      "0.365249690466364\n",
      "0.31238969290504764\n",
      "792\n",
      "0.32686751960379695\n",
      "0.32686751960379695\n"
     ]
    },
    {
     "name": "stderr",
     "output_type": "stream",
     "text": [
      " 13%|█▎        | 193/1500 [2:21:38<16:04:54, 44.30s/it]"
     ]
    },
    {
     "name": "stdout",
     "output_type": "stream",
     "text": [
      "881\n",
      "0.36359884440775897\n",
      "0.3109777620896576\n",
      "791\n",
      "0.3264548080891457\n",
      "0.3264548080891457\n"
     ]
    },
    {
     "name": "stderr",
     "output_type": "stream",
     "text": [
      " 13%|█▎        | 194/1500 [2:22:23<16:03:57, 44.29s/it]"
     ]
    },
    {
     "name": "stdout",
     "output_type": "stream",
     "text": [
      "886\n",
      "0.3656624019810153\n",
      "0.3127426756088952\n",
      "790\n",
      "0.32604209657449446\n",
      "0.32604209657449446\n"
     ]
    },
    {
     "name": "stderr",
     "output_type": "stream",
     "text": [
      " 13%|█▎        | 195/1500 [2:23:07<16:02:50, 44.27s/it]"
     ]
    },
    {
     "name": "stdout",
     "output_type": "stream",
     "text": [
      "890\n",
      "0.3673132480396203\n",
      "0.3141546064242852\n",
      "789\n",
      "0.3256293850598432\n",
      "0.3256293850598432\n"
     ]
    },
    {
     "name": "stderr",
     "output_type": "stream",
     "text": [
      " 13%|█▎        | 196/1500 [2:23:51<16:01:38, 44.25s/it]"
     ]
    },
    {
     "name": "stdout",
     "output_type": "stream",
     "text": [
      "888\n",
      "0.3664878250103178\n",
      "0.3134486410165902\n",
      "791\n",
      "0.3264548080891457\n",
      "0.3264548080891457\n"
     ]
    },
    {
     "name": "stderr",
     "output_type": "stream",
     "text": [
      " 13%|█▎        | 197/1500 [2:24:35<15:59:52, 44.20s/it]"
     ]
    },
    {
     "name": "stdout",
     "output_type": "stream",
     "text": [
      "882\n",
      "0.36401155592241025\n",
      "0.31133074479350514\n",
      "795\n",
      "0.3281056541477507\n",
      "0.3281056541477507\n"
     ]
    },
    {
     "name": "stderr",
     "output_type": "stream",
     "text": [
      " 13%|█▎        | 198/1500 [2:25:19<15:58:34, 44.17s/it]"
     ]
    },
    {
     "name": "stdout",
     "output_type": "stream",
     "text": [
      "889\n",
      "0.36690053652496907\n",
      "0.3138016237204377\n",
      "796\n",
      "0.328518365662402\n",
      "0.328518365662402\n"
     ]
    },
    {
     "name": "stderr",
     "output_type": "stream",
     "text": [
      " 13%|█▎        | 199/1500 [2:26:03<15:57:02, 44.14s/it]"
     ]
    },
    {
     "name": "stdout",
     "output_type": "stream",
     "text": [
      "894\n",
      "0.36896409409822534\n",
      "0.31556653723967526\n",
      "792\n",
      "0.32686751960379695\n",
      "0.32686751960379695\n"
     ]
    },
    {
     "name": "stderr",
     "output_type": "stream",
     "text": [
      " 13%|█▎        | 200/1500 [2:26:47<15:56:07, 44.13s/it]"
     ]
    },
    {
     "name": "stdout",
     "output_type": "stream",
     "text": [
      "900\n",
      "0.3714403631861329\n",
      "0.3176844334627603\n",
      "791\n",
      "0.3264548080891457\n",
      "0.3264548080891457\n"
     ]
    },
    {
     "name": "stderr",
     "output_type": "stream",
     "text": [
      " 13%|█▎        | 201/1500 [2:27:32<15:55:03, 44.11s/it]"
     ]
    },
    {
     "name": "stdout",
     "output_type": "stream",
     "text": [
      "900\n",
      "0.3714403631861329\n",
      "0.3176844334627603\n",
      "793\n",
      "0.32728023111844823\n",
      "0.32728023111844823\n"
     ]
    },
    {
     "name": "stderr",
     "output_type": "stream",
     "text": [
      " 13%|█▎        | 202/1500 [2:28:16<15:54:21, 44.11s/it]"
     ]
    },
    {
     "name": "stdout",
     "output_type": "stream",
     "text": [
      "903\n",
      "0.37267849773008666\n",
      "0.3187433815743029\n",
      "795\n",
      "0.3281056541477507\n",
      "0.3281056541477507\n"
     ]
    },
    {
     "name": "stderr",
     "output_type": "stream",
     "text": [
      " 14%|█▎        | 203/1500 [2:29:00<15:53:37, 44.12s/it]"
     ]
    },
    {
     "name": "stdout",
     "output_type": "stream",
     "text": [
      "899\n",
      "0.37102765167148166\n",
      "0.31733145075891284\n",
      "795\n",
      "0.3281056541477507\n",
      "0.3281056541477507\n"
     ]
    },
    {
     "name": "stderr",
     "output_type": "stream",
     "text": [
      " 14%|█▎        | 204/1500 [2:29:44<15:53:00, 44.12s/it]"
     ]
    },
    {
     "name": "stdout",
     "output_type": "stream",
     "text": [
      "890\n",
      "0.3673132480396203\n",
      "0.3141546064242852\n",
      "792\n",
      "0.32686751960379695\n",
      "0.32686751960379695\n"
     ]
    },
    {
     "name": "stderr",
     "output_type": "stream",
     "text": [
      " 14%|█▎        | 205/1500 [2:30:28<15:51:33, 44.09s/it]"
     ]
    },
    {
     "name": "stdout",
     "output_type": "stream",
     "text": [
      "887\n",
      "0.3660751134956665\n",
      "0.31309565831274266\n",
      "792\n",
      "0.32686751960379695\n",
      "0.32686751960379695\n"
     ]
    },
    {
     "name": "stderr",
     "output_type": "stream",
     "text": [
      " 14%|█▎        | 206/1500 [2:31:12<15:50:50, 44.09s/it]"
     ]
    },
    {
     "name": "stdout",
     "output_type": "stream",
     "text": [
      "886\n",
      "0.3656624019810153\n",
      "0.3127426756088952\n",
      "795\n",
      "0.3281056541477507\n",
      "0.3281056541477507\n"
     ]
    },
    {
     "name": "stderr",
     "output_type": "stream",
     "text": [
      " 14%|█▍        | 207/1500 [2:31:56<15:49:49, 44.08s/it]"
     ]
    },
    {
     "name": "stdout",
     "output_type": "stream",
     "text": [
      "894\n",
      "0.36896409409822534\n",
      "0.31556653723967526\n",
      "793\n",
      "0.32728023111844823\n",
      "0.32728023111844823\n"
     ]
    },
    {
     "name": "stderr",
     "output_type": "stream",
     "text": [
      " 14%|█▍        | 208/1500 [2:32:40<15:48:41, 44.06s/it]"
     ]
    },
    {
     "name": "stdout",
     "output_type": "stream",
     "text": [
      "888\n",
      "0.3664878250103178\n",
      "0.3134486410165902\n",
      "785\n",
      "0.32397853900123813\n",
      "0.32397853900123813\n"
     ]
    },
    {
     "name": "stderr",
     "output_type": "stream",
     "text": [
      " 14%|█▍        | 209/1500 [2:33:24<15:48:38, 44.09s/it]"
     ]
    },
    {
     "name": "stdout",
     "output_type": "stream",
     "text": [
      "887\n",
      "0.3660751134956665\n",
      "0.31309565831274266\n",
      "787\n",
      "0.3248039620305406\n",
      "0.3248039620305406\n"
     ]
    },
    {
     "name": "stderr",
     "output_type": "stream",
     "text": [
      " 14%|█▍        | 210/1500 [2:34:08<15:48:56, 44.14s/it]"
     ]
    },
    {
     "name": "stdout",
     "output_type": "stream",
     "text": [
      "884\n",
      "0.36483697895171274\n",
      "0.31203671020120016\n",
      "788\n",
      "0.3252166735451919\n",
      "0.3252166735451919\n"
     ]
    },
    {
     "name": "stderr",
     "output_type": "stream",
     "text": [
      " 14%|█▍        | 211/1500 [2:34:53<15:48:03, 44.13s/it]"
     ]
    },
    {
     "name": "stdout",
     "output_type": "stream",
     "text": [
      "891\n",
      "0.36772595955427156\n",
      "0.3145075891281327\n",
      "793\n",
      "0.32728023111844823\n",
      "0.32728023111844823\n"
     ]
    },
    {
     "name": "stderr",
     "output_type": "stream",
     "text": [
      " 14%|█▍        | 212/1500 [2:35:37<15:46:42, 44.10s/it]"
     ]
    },
    {
     "name": "stdout",
     "output_type": "stream",
     "text": [
      "894\n",
      "0.36896409409822534\n",
      "0.31556653723967526\n",
      "797\n",
      "0.3289310771770532\n",
      "0.3289310771770532\n"
     ]
    },
    {
     "name": "stderr",
     "output_type": "stream",
     "text": [
      " 14%|█▍        | 213/1500 [2:36:21<15:45:55, 44.10s/it]"
     ]
    },
    {
     "name": "stdout",
     "output_type": "stream",
     "text": [
      "889\n",
      "0.36690053652496907\n",
      "0.3138016237204377\n",
      "800\n",
      "0.330169211721007\n",
      "0.330169211721007\n"
     ]
    },
    {
     "name": "stderr",
     "output_type": "stream",
     "text": [
      " 14%|█▍        | 214/1500 [2:37:05<15:45:27, 44.11s/it]"
     ]
    },
    {
     "name": "stdout",
     "output_type": "stream",
     "text": [
      "888\n",
      "0.3664878250103178\n",
      "0.3134486410165902\n",
      "795\n",
      "0.3281056541477507\n",
      "0.3281056541477507\n"
     ]
    },
    {
     "name": "stderr",
     "output_type": "stream",
     "text": [
      " 14%|█▍        | 215/1500 [2:37:49<15:44:40, 44.11s/it]"
     ]
    },
    {
     "name": "stdout",
     "output_type": "stream",
     "text": [
      "887\n",
      "0.3660751134956665\n",
      "0.31309565831274266\n",
      "793\n",
      "0.32728023111844823\n",
      "0.32728023111844823\n"
     ]
    },
    {
     "name": "stderr",
     "output_type": "stream",
     "text": [
      " 14%|█▍        | 216/1500 [2:38:33<15:43:14, 44.08s/it]"
     ]
    },
    {
     "name": "stdout",
     "output_type": "stream",
     "text": [
      "882\n",
      "0.36401155592241025\n",
      "0.31133074479350514\n",
      "793\n",
      "0.32728023111844823\n",
      "0.32728023111844823\n"
     ]
    },
    {
     "name": "stderr",
     "output_type": "stream",
     "text": [
      " 14%|█▍        | 217/1500 [2:39:17<15:42:18, 44.07s/it]"
     ]
    },
    {
     "name": "stdout",
     "output_type": "stream",
     "text": [
      "886\n",
      "0.3656624019810153\n",
      "0.3127426756088952\n",
      "789\n",
      "0.3256293850598432\n",
      "0.3256293850598432\n"
     ]
    },
    {
     "name": "stderr",
     "output_type": "stream",
     "text": [
      " 15%|█▍        | 218/1500 [2:40:01<15:41:51, 44.08s/it]"
     ]
    },
    {
     "name": "stdout",
     "output_type": "stream",
     "text": [
      "883\n",
      "0.36442426743706147\n",
      "0.3116837274973526\n",
      "791\n",
      "0.3264548080891457\n",
      "0.3264548080891457\n"
     ]
    },
    {
     "name": "stderr",
     "output_type": "stream",
     "text": [
      " 15%|█▍        | 219/1500 [2:40:45<15:41:09, 44.08s/it]"
     ]
    },
    {
     "name": "stdout",
     "output_type": "stream",
     "text": [
      "885\n",
      "0.365249690466364\n",
      "0.31238969290504764\n",
      "792\n",
      "0.32686751960379695\n",
      "0.32686751960379695\n"
     ]
    },
    {
     "name": "stderr",
     "output_type": "stream",
     "text": [
      " 15%|█▍        | 220/1500 [2:41:29<15:39:55, 44.06s/it]"
     ]
    },
    {
     "name": "stdout",
     "output_type": "stream",
     "text": [
      "882\n",
      "0.36401155592241025\n",
      "0.31133074479350514\n",
      "789\n",
      "0.3256293850598432\n",
      "0.3256293850598432\n"
     ]
    },
    {
     "name": "stderr",
     "output_type": "stream",
     "text": [
      " 15%|█▍        | 221/1500 [2:42:13<15:39:26, 44.07s/it]"
     ]
    },
    {
     "name": "stdout",
     "output_type": "stream",
     "text": [
      "889\n",
      "0.36690053652496907\n",
      "0.3138016237204377\n",
      "789\n",
      "0.3256293850598432\n",
      "0.3256293850598432\n"
     ]
    },
    {
     "name": "stderr",
     "output_type": "stream",
     "text": [
      " 15%|█▍        | 222/1500 [2:42:58<15:39:46, 44.12s/it]"
     ]
    },
    {
     "name": "stdout",
     "output_type": "stream",
     "text": [
      "902\n",
      "0.37226578621543543\n",
      "0.31839039887045534\n",
      "789\n",
      "0.3256293850598432\n",
      "0.3256293850598432\n"
     ]
    },
    {
     "name": "stderr",
     "output_type": "stream",
     "text": [
      " 15%|█▍        | 223/1500 [2:43:42<15:38:07, 44.08s/it]"
     ]
    },
    {
     "name": "stdout",
     "output_type": "stream",
     "text": [
      "899\n",
      "0.37102765167148166\n",
      "0.31733145075891284\n",
      "792\n",
      "0.32686751960379695\n",
      "0.32686751960379695\n"
     ]
    },
    {
     "name": "stderr",
     "output_type": "stream",
     "text": [
      " 15%|█▍        | 224/1500 [2:44:27<15:44:44, 44.42s/it]"
     ]
    },
    {
     "name": "stdout",
     "output_type": "stream",
     "text": [
      "894\n",
      "0.36896409409822534\n",
      "0.31556653723967526\n",
      "786\n",
      "0.3243912505158894\n",
      "0.3243912505158894\n"
     ]
    },
    {
     "name": "stderr",
     "output_type": "stream",
     "text": [
      " 15%|█▌        | 225/1500 [2:45:11<15:42:00, 44.33s/it]"
     ]
    },
    {
     "name": "stdout",
     "output_type": "stream",
     "text": [
      "893\n",
      "0.36855138258357406\n",
      "0.3152135545358277\n",
      "786\n",
      "0.3243912505158894\n",
      "0.3243912505158894\n"
     ]
    },
    {
     "name": "stderr",
     "output_type": "stream",
     "text": [
      " 15%|█▌        | 226/1500 [2:45:55<15:40:24, 44.29s/it]"
     ]
    },
    {
     "name": "stdout",
     "output_type": "stream",
     "text": [
      "893\n",
      "0.36855138258357406\n",
      "0.3152135545358277\n",
      "789\n",
      "0.3256293850598432\n",
      "0.3256293850598432\n"
     ]
    },
    {
     "name": "stderr",
     "output_type": "stream",
     "text": [
      " 15%|█▌        | 227/1500 [2:46:39<15:38:38, 44.24s/it]"
     ]
    },
    {
     "name": "stdout",
     "output_type": "stream",
     "text": [
      "894\n",
      "0.36896409409822534\n",
      "0.31556653723967526\n",
      "795\n",
      "0.3281056541477507\n",
      "0.3281056541477507\n"
     ]
    },
    {
     "name": "stderr",
     "output_type": "stream",
     "text": [
      " 15%|█▌        | 228/1500 [2:47:23<15:36:29, 44.17s/it]"
     ]
    },
    {
     "name": "stdout",
     "output_type": "stream",
     "text": [
      "898\n",
      "0.3706149401568304\n",
      "0.3169784680550653\n",
      "793\n",
      "0.32728023111844823\n",
      "0.32728023111844823\n"
     ]
    },
    {
     "name": "stderr",
     "output_type": "stream",
     "text": [
      " 15%|█▌        | 229/1500 [2:48:07<15:34:45, 44.13s/it]"
     ]
    },
    {
     "name": "stdout",
     "output_type": "stream",
     "text": [
      "893\n",
      "0.36855138258357406\n",
      "0.3152135545358277\n",
      "788\n",
      "0.3252166735451919\n",
      "0.3252166735451919\n"
     ]
    },
    {
     "name": "stderr",
     "output_type": "stream",
     "text": [
      " 15%|█▌        | 230/1500 [2:48:51<15:34:00, 44.13s/it]"
     ]
    },
    {
     "name": "stdout",
     "output_type": "stream",
     "text": [
      "890\n",
      "0.3673132480396203\n",
      "0.3141546064242852\n",
      "805\n",
      "0.3322327692942633\n",
      "0.3322327692942633\n"
     ]
    },
    {
     "name": "stderr",
     "output_type": "stream",
     "text": [
      " 15%|█▌        | 231/1500 [2:49:35<15:32:22, 44.08s/it]"
     ]
    },
    {
     "name": "stdout",
     "output_type": "stream",
     "text": [
      "894\n",
      "0.36896409409822534\n",
      "0.31556653723967526\n",
      "798\n",
      "0.3293437886917045\n",
      "0.3293437886917045\n"
     ]
    },
    {
     "name": "stderr",
     "output_type": "stream",
     "text": [
      " 15%|█▌        | 232/1500 [2:50:19<15:31:02, 44.06s/it]"
     ]
    },
    {
     "name": "stdout",
     "output_type": "stream",
     "text": [
      "893\n",
      "0.36855138258357406\n",
      "0.3152135545358277\n",
      "802\n",
      "0.33099463475030955\n",
      "0.33099463475030955\n"
     ]
    },
    {
     "name": "stderr",
     "output_type": "stream",
     "text": [
      " 16%|█▌        | 233/1500 [2:51:03<15:30:18, 44.06s/it]"
     ]
    },
    {
     "name": "stdout",
     "output_type": "stream",
     "text": [
      "898\n",
      "0.3706149401568304\n",
      "0.3169784680550653\n",
      "797\n",
      "0.3289310771770532\n",
      "0.3289310771770532\n"
     ]
    },
    {
     "name": "stderr",
     "output_type": "stream",
     "text": [
      " 16%|█▌        | 234/1500 [2:51:48<15:30:36, 44.10s/it]"
     ]
    },
    {
     "name": "stdout",
     "output_type": "stream",
     "text": [
      "899\n",
      "0.37102765167148166\n",
      "0.31733145075891284\n",
      "794\n",
      "0.32769294263309945\n",
      "0.32769294263309945\n"
     ]
    },
    {
     "name": "stderr",
     "output_type": "stream",
     "text": [
      " 16%|█▌        | 235/1500 [2:52:32<15:30:38, 44.14s/it]"
     ]
    },
    {
     "name": "stdout",
     "output_type": "stream",
     "text": [
      "893\n",
      "0.36855138258357406\n",
      "0.3152135545358277\n",
      "796\n",
      "0.328518365662402\n",
      "0.328518365662402\n"
     ]
    },
    {
     "name": "stderr",
     "output_type": "stream",
     "text": [
      " 16%|█▌        | 236/1500 [2:53:16<15:29:12, 44.11s/it]"
     ]
    },
    {
     "name": "stdout",
     "output_type": "stream",
     "text": [
      "894\n",
      "0.36896409409822534\n",
      "0.31556653723967526\n",
      "801\n",
      "0.33058192323565827\n",
      "0.33058192323565827\n"
     ]
    },
    {
     "name": "stderr",
     "output_type": "stream",
     "text": [
      " 16%|█▌        | 237/1500 [2:54:00<15:28:44, 44.12s/it]"
     ]
    },
    {
     "name": "stdout",
     "output_type": "stream",
     "text": [
      "892\n",
      "0.36813867106892284\n",
      "0.31486057183198024\n",
      "800\n",
      "0.330169211721007\n",
      "0.330169211721007\n"
     ]
    },
    {
     "name": "stderr",
     "output_type": "stream",
     "text": [
      " 16%|█▌        | 238/1500 [2:54:44<15:28:17, 44.13s/it]"
     ]
    },
    {
     "name": "stdout",
     "output_type": "stream",
     "text": [
      "886\n",
      "0.3656624019810153\n",
      "0.3127426756088952\n",
      "797\n",
      "0.3289310771770532\n",
      "0.3289310771770532\n"
     ]
    },
    {
     "name": "stderr",
     "output_type": "stream",
     "text": [
      " 16%|█▌        | 239/1500 [2:55:28<15:28:14, 44.17s/it]"
     ]
    },
    {
     "name": "stdout",
     "output_type": "stream",
     "text": [
      "878\n",
      "0.3623607098638052\n",
      "0.30991881397811505\n",
      "791\n",
      "0.3264548080891457\n",
      "0.3264548080891457\n"
     ]
    },
    {
     "name": "stderr",
     "output_type": "stream",
     "text": [
      " 16%|█▌        | 240/1500 [2:56:13<15:27:29, 44.17s/it]"
     ]
    },
    {
     "name": "stdout",
     "output_type": "stream",
     "text": [
      "890\n",
      "0.3673132480396203\n",
      "0.3141546064242852\n",
      "798\n",
      "0.3293437886917045\n",
      "0.3293437886917045\n"
     ]
    },
    {
     "name": "stderr",
     "output_type": "stream",
     "text": [
      " 16%|█▌        | 241/1500 [2:56:57<15:26:08, 44.14s/it]"
     ]
    },
    {
     "name": "stdout",
     "output_type": "stream",
     "text": [
      "884\n",
      "0.36483697895171274\n",
      "0.31203671020120016\n",
      "799\n",
      "0.3297565002063558\n",
      "0.3297565002063558\n"
     ]
    },
    {
     "name": "stderr",
     "output_type": "stream",
     "text": [
      " 16%|█▌        | 242/1500 [2:57:41<15:24:36, 44.10s/it]"
     ]
    },
    {
     "name": "stdout",
     "output_type": "stream",
     "text": [
      "889\n",
      "0.36690053652496907\n",
      "0.3138016237204377\n",
      "797\n",
      "0.3289310771770532\n",
      "0.3289310771770532\n"
     ]
    },
    {
     "name": "stderr",
     "output_type": "stream",
     "text": [
      " 16%|█▌        | 243/1500 [2:58:25<15:24:09, 44.11s/it]"
     ]
    },
    {
     "name": "stdout",
     "output_type": "stream",
     "text": [
      "888\n",
      "0.3664878250103178\n",
      "0.3134486410165902\n",
      "793\n",
      "0.32728023111844823\n",
      "0.32728023111844823\n"
     ]
    },
    {
     "name": "stderr",
     "output_type": "stream",
     "text": [
      " 16%|█▋        | 244/1500 [2:59:09<15:22:52, 44.09s/it]"
     ]
    },
    {
     "name": "stdout",
     "output_type": "stream",
     "text": [
      "883\n",
      "0.36442426743706147\n",
      "0.3116837274973526\n",
      "793\n",
      "0.32728023111844823\n",
      "0.32728023111844823\n"
     ]
    },
    {
     "name": "stderr",
     "output_type": "stream",
     "text": [
      " 16%|█▋        | 245/1500 [2:59:53<15:21:49, 44.07s/it]"
     ]
    },
    {
     "name": "stdout",
     "output_type": "stream",
     "text": [
      "887\n",
      "0.3660751134956665\n",
      "0.31309565831274266\n",
      "800\n",
      "0.330169211721007\n",
      "0.330169211721007\n"
     ]
    },
    {
     "name": "stderr",
     "output_type": "stream",
     "text": [
      " 16%|█▋        | 246/1500 [3:00:37<15:21:15, 44.08s/it]"
     ]
    },
    {
     "name": "stdout",
     "output_type": "stream",
     "text": [
      "899\n",
      "0.37102765167148166\n",
      "0.31733145075891284\n",
      "801\n",
      "0.33058192323565827\n",
      "0.33058192323565827\n"
     ]
    },
    {
     "name": "stderr",
     "output_type": "stream",
     "text": [
      " 16%|█▋        | 247/1500 [3:01:22<15:24:52, 44.29s/it]"
     ]
    },
    {
     "name": "stdout",
     "output_type": "stream",
     "text": [
      "898\n",
      "0.3706149401568304\n",
      "0.3169784680550653\n",
      "795\n",
      "0.3281056541477507\n",
      "0.3281056541477507\n"
     ]
    },
    {
     "name": "stderr",
     "output_type": "stream",
     "text": [
      " 17%|█▋        | 248/1500 [3:02:06<15:22:18, 44.20s/it]"
     ]
    },
    {
     "name": "stdout",
     "output_type": "stream",
     "text": [
      "894\n",
      "0.36896409409822534\n",
      "0.31556653723967526\n",
      "791\n",
      "0.3264548080891457\n",
      "0.3264548080891457\n"
     ]
    },
    {
     "name": "stderr",
     "output_type": "stream",
     "text": [
      " 17%|█▋        | 249/1500 [3:02:50<15:20:09, 44.13s/it]"
     ]
    },
    {
     "name": "stdout",
     "output_type": "stream",
     "text": [
      "883\n",
      "0.36442426743706147\n",
      "0.3116837274973526\n",
      "793\n",
      "0.32728023111844823\n",
      "0.32728023111844823\n"
     ]
    },
    {
     "name": "stderr",
     "output_type": "stream",
     "text": [
      " 17%|█▋        | 250/1500 [3:03:34<15:18:02, 44.07s/it]"
     ]
    },
    {
     "name": "stdout",
     "output_type": "stream",
     "text": [
      "886\n",
      "0.3656624019810153\n",
      "0.3127426756088952\n",
      "792\n",
      "0.32686751960379695\n",
      "0.32686751960379695\n"
     ]
    },
    {
     "name": "stderr",
     "output_type": "stream",
     "text": [
      " 17%|█▋        | 251/1500 [3:04:18<15:17:02, 44.05s/it]"
     ]
    },
    {
     "name": "stdout",
     "output_type": "stream",
     "text": [
      "891\n",
      "0.36772595955427156\n",
      "0.3145075891281327\n",
      "793\n",
      "0.32728023111844823\n",
      "0.32728023111844823\n"
     ]
    },
    {
     "name": "stderr",
     "output_type": "stream",
     "text": [
      " 17%|█▋        | 252/1500 [3:05:02<15:15:28, 44.01s/it]"
     ]
    },
    {
     "name": "stdout",
     "output_type": "stream",
     "text": [
      "888\n",
      "0.3664878250103178\n",
      "0.3134486410165902\n",
      "795\n",
      "0.3281056541477507\n",
      "0.3281056541477507\n"
     ]
    },
    {
     "name": "stderr",
     "output_type": "stream",
     "text": [
      " 17%|█▋        | 253/1500 [3:05:46<15:15:13, 44.04s/it]"
     ]
    },
    {
     "name": "stdout",
     "output_type": "stream",
     "text": [
      "887\n",
      "0.3660751134956665\n",
      "0.31309565831274266\n",
      "797\n",
      "0.3289310771770532\n",
      "0.3289310771770532\n"
     ]
    },
    {
     "name": "stderr",
     "output_type": "stream",
     "text": [
      " 17%|█▋        | 254/1500 [3:06:30<15:13:27, 43.99s/it]"
     ]
    },
    {
     "name": "stdout",
     "output_type": "stream",
     "text": [
      "892\n",
      "0.36813867106892284\n",
      "0.31486057183198024\n",
      "793\n",
      "0.32728023111844823\n",
      "0.32728023111844823\n"
     ]
    },
    {
     "name": "stderr",
     "output_type": "stream",
     "text": [
      " 17%|█▋        | 255/1500 [3:07:13<15:11:15, 43.92s/it]"
     ]
    },
    {
     "name": "stdout",
     "output_type": "stream",
     "text": [
      "893\n",
      "0.36855138258357406\n",
      "0.3152135545358277\n",
      "798\n",
      "0.3293437886917045\n",
      "0.3293437886917045\n"
     ]
    },
    {
     "name": "stderr",
     "output_type": "stream",
     "text": [
      " 17%|█▋        | 256/1500 [3:07:57<15:09:33, 43.87s/it]"
     ]
    },
    {
     "name": "stdout",
     "output_type": "stream",
     "text": [
      "895\n",
      "0.3693768056128766\n",
      "0.31591951994352274\n",
      "794\n",
      "0.32769294263309945\n",
      "0.32769294263309945\n"
     ]
    },
    {
     "name": "stderr",
     "output_type": "stream",
     "text": [
      " 17%|█▋        | 257/1500 [3:08:41<15:09:49, 43.92s/it]"
     ]
    },
    {
     "name": "stdout",
     "output_type": "stream",
     "text": [
      "890\n",
      "0.3673132480396203\n",
      "0.3141546064242852\n",
      "796\n",
      "0.328518365662402\n",
      "0.328518365662402\n"
     ]
    },
    {
     "name": "stderr",
     "output_type": "stream",
     "text": [
      " 17%|█▋        | 258/1500 [3:09:26<15:14:46, 44.19s/it]"
     ]
    },
    {
     "name": "stdout",
     "output_type": "stream",
     "text": [
      "895\n",
      "0.3693768056128766\n",
      "0.31591951994352274\n",
      "795\n",
      "0.3281056541477507\n",
      "0.3281056541477507\n"
     ]
    },
    {
     "name": "stderr",
     "output_type": "stream",
     "text": [
      " 17%|█▋        | 259/1500 [3:10:10<15:12:47, 44.13s/it]"
     ]
    },
    {
     "name": "stdout",
     "output_type": "stream",
     "text": [
      "893\n",
      "0.36855138258357406\n",
      "0.3152135545358277\n",
      "789\n",
      "0.3256293850598432\n",
      "0.3256293850598432\n"
     ]
    },
    {
     "name": "stderr",
     "output_type": "stream",
     "text": [
      " 17%|█▋        | 260/1500 [3:10:54<15:10:35, 44.06s/it]"
     ]
    },
    {
     "name": "stdout",
     "output_type": "stream",
     "text": [
      "888\n",
      "0.3664878250103178\n",
      "0.3134486410165902\n",
      "791\n",
      "0.3264548080891457\n",
      "0.3264548080891457\n"
     ]
    },
    {
     "name": "stderr",
     "output_type": "stream",
     "text": [
      " 17%|█▋        | 261/1500 [3:11:38<15:09:02, 44.02s/it]"
     ]
    },
    {
     "name": "stdout",
     "output_type": "stream",
     "text": [
      "892\n",
      "0.36813867106892284\n",
      "0.31486057183198024\n",
      "792\n",
      "0.32686751960379695\n",
      "0.32686751960379695\n"
     ]
    },
    {
     "name": "stderr",
     "output_type": "stream",
     "text": [
      " 17%|█▋        | 262/1500 [3:12:22<15:08:19, 44.02s/it]"
     ]
    },
    {
     "name": "stdout",
     "output_type": "stream",
     "text": [
      "889\n",
      "0.36690053652496907\n",
      "0.3138016237204377\n",
      "798\n",
      "0.3293437886917045\n",
      "0.3293437886917045\n"
     ]
    },
    {
     "name": "stderr",
     "output_type": "stream",
     "text": [
      " 18%|█▊        | 263/1500 [3:13:06<15:06:43, 43.98s/it]"
     ]
    },
    {
     "name": "stdout",
     "output_type": "stream",
     "text": [
      "884\n",
      "0.36483697895171274\n",
      "0.31203671020120016\n",
      "795\n",
      "0.3281056541477507\n",
      "0.3281056541477507\n"
     ]
    },
    {
     "name": "stderr",
     "output_type": "stream",
     "text": [
      " 18%|█▊        | 264/1500 [3:13:49<15:04:55, 43.93s/it]"
     ]
    },
    {
     "name": "stdout",
     "output_type": "stream",
     "text": [
      "885\n",
      "0.365249690466364\n",
      "0.31238969290504764\n",
      "792\n",
      "0.32686751960379695\n",
      "0.32686751960379695\n"
     ]
    },
    {
     "name": "stderr",
     "output_type": "stream",
     "text": [
      " 18%|█▊        | 265/1500 [3:14:33<15:04:44, 43.96s/it]"
     ]
    },
    {
     "name": "stdout",
     "output_type": "stream",
     "text": [
      "887\n",
      "0.3660751134956665\n",
      "0.31309565831274266\n",
      "795\n",
      "0.3281056541477507\n",
      "0.3281056541477507\n"
     ]
    },
    {
     "name": "stderr",
     "output_type": "stream",
     "text": [
      " 18%|█▊        | 266/1500 [3:15:17<15:04:03, 43.96s/it]"
     ]
    },
    {
     "name": "stdout",
     "output_type": "stream",
     "text": [
      "892\n",
      "0.36813867106892284\n",
      "0.31486057183198024\n",
      "795\n",
      "0.3281056541477507\n",
      "0.3281056541477507\n"
     ]
    },
    {
     "name": "stderr",
     "output_type": "stream",
     "text": [
      " 18%|█▊        | 267/1500 [3:16:01<15:03:23, 43.96s/it]"
     ]
    },
    {
     "name": "stdout",
     "output_type": "stream",
     "text": [
      "895\n",
      "0.3693768056128766\n",
      "0.31591951994352274\n",
      "791\n",
      "0.3264548080891457\n",
      "0.3264548080891457\n"
     ]
    },
    {
     "name": "stderr",
     "output_type": "stream",
     "text": [
      " 18%|█▊        | 268/1500 [3:16:45<15:01:33, 43.91s/it]"
     ]
    },
    {
     "name": "stdout",
     "output_type": "stream",
     "text": [
      "891\n",
      "0.36772595955427156\n",
      "0.3145075891281327\n",
      "794\n",
      "0.32769294263309945\n",
      "0.32769294263309945\n"
     ]
    },
    {
     "name": "stderr",
     "output_type": "stream",
     "text": [
      " 18%|█▊        | 269/1500 [3:17:29<15:00:17, 43.88s/it]"
     ]
    },
    {
     "name": "stdout",
     "output_type": "stream",
     "text": [
      "883\n",
      "0.36442426743706147\n",
      "0.3116837274973526\n",
      "800\n",
      "0.330169211721007\n",
      "0.330169211721007\n"
     ]
    },
    {
     "name": "stderr",
     "output_type": "stream",
     "text": [
      " 18%|█▊        | 270/1500 [3:18:13<14:58:50, 43.85s/it]"
     ]
    },
    {
     "name": "stdout",
     "output_type": "stream",
     "text": [
      "891\n",
      "0.36772595955427156\n",
      "0.3145075891281327\n",
      "801\n",
      "0.33058192323565827\n",
      "0.33058192323565827\n"
     ]
    },
    {
     "name": "stderr",
     "output_type": "stream",
     "text": [
      " 18%|█▊        | 271/1500 [3:18:57<14:59:15, 43.90s/it]"
     ]
    },
    {
     "name": "stdout",
     "output_type": "stream",
     "text": [
      "903\n",
      "0.37267849773008666\n",
      "0.3187433815743029\n",
      "796\n",
      "0.328518365662402\n",
      "0.328518365662402\n"
     ]
    },
    {
     "name": "stderr",
     "output_type": "stream",
     "text": [
      " 18%|█▊        | 272/1500 [3:19:41<14:58:40, 43.91s/it]"
     ]
    },
    {
     "name": "stdout",
     "output_type": "stream",
     "text": [
      "899\n",
      "0.37102765167148166\n",
      "0.31733145075891284\n",
      "790\n",
      "0.32604209657449446\n",
      "0.32604209657449446\n"
     ]
    },
    {
     "name": "stderr",
     "output_type": "stream",
     "text": [
      " 18%|█▊        | 273/1500 [3:20:25<14:58:23, 43.93s/it]"
     ]
    },
    {
     "name": "stdout",
     "output_type": "stream",
     "text": [
      "886\n",
      "0.3656624019810153\n",
      "0.3127426756088952\n",
      "783\n",
      "0.32315311597193563\n",
      "0.32315311597193563\n"
     ]
    },
    {
     "name": "stderr",
     "output_type": "stream",
     "text": [
      " 18%|█▊        | 274/1500 [3:21:09<14:58:20, 43.96s/it]"
     ]
    },
    {
     "name": "stdout",
     "output_type": "stream",
     "text": [
      "880\n",
      "0.3631861328931077\n",
      "0.31062477938581007\n",
      "788\n",
      "0.3252166735451919\n",
      "0.3252166735451919\n"
     ]
    },
    {
     "name": "stderr",
     "output_type": "stream",
     "text": [
      " 18%|█▊        | 275/1500 [3:21:53<14:58:34, 44.01s/it]"
     ]
    },
    {
     "name": "stdout",
     "output_type": "stream",
     "text": [
      "884\n",
      "0.36483697895171274\n",
      "0.31203671020120016\n",
      "792\n",
      "0.32686751960379695\n",
      "0.32686751960379695\n"
     ]
    },
    {
     "name": "stderr",
     "output_type": "stream",
     "text": [
      " 18%|█▊        | 276/1500 [3:22:37<14:57:49, 44.01s/it]"
     ]
    },
    {
     "name": "stdout",
     "output_type": "stream",
     "text": [
      "894\n",
      "0.36896409409822534\n",
      "0.31556653723967526\n",
      "799\n",
      "0.3297565002063558\n",
      "0.3297565002063558\n"
     ]
    },
    {
     "name": "stderr",
     "output_type": "stream",
     "text": [
      " 18%|█▊        | 277/1500 [3:23:21<14:55:59, 43.96s/it]"
     ]
    },
    {
     "name": "stdout",
     "output_type": "stream",
     "text": [
      "891\n",
      "0.36772595955427156\n",
      "0.3145075891281327\n",
      "795\n",
      "0.3281056541477507\n",
      "0.3281056541477507\n"
     ]
    },
    {
     "name": "stderr",
     "output_type": "stream",
     "text": [
      " 19%|█▊        | 278/1500 [3:24:05<14:54:48, 43.93s/it]"
     ]
    },
    {
     "name": "stdout",
     "output_type": "stream",
     "text": [
      "888\n",
      "0.3664878250103178\n",
      "0.3134486410165902\n",
      "789\n",
      "0.3256293850598432\n",
      "0.3256293850598432\n"
     ]
    },
    {
     "name": "stderr",
     "output_type": "stream",
     "text": [
      " 19%|█▊        | 279/1500 [3:24:49<14:54:26, 43.95s/it]"
     ]
    },
    {
     "name": "stdout",
     "output_type": "stream",
     "text": [
      "886\n",
      "0.3656624019810153\n",
      "0.3127426756088952\n",
      "793\n",
      "0.32728023111844823\n",
      "0.32728023111844823\n"
     ]
    },
    {
     "name": "stderr",
     "output_type": "stream",
     "text": [
      " 19%|█▊        | 280/1500 [3:25:33<14:54:14, 43.98s/it]"
     ]
    },
    {
     "name": "stdout",
     "output_type": "stream",
     "text": [
      "884\n",
      "0.36483697895171274\n",
      "0.31203671020120016\n",
      "795\n",
      "0.3281056541477507\n",
      "0.3281056541477507\n"
     ]
    },
    {
     "name": "stderr",
     "output_type": "stream",
     "text": [
      " 19%|█▊        | 281/1500 [3:26:17<14:52:59, 43.95s/it]"
     ]
    },
    {
     "name": "stdout",
     "output_type": "stream",
     "text": [
      "891\n",
      "0.36772595955427156\n",
      "0.3145075891281327\n",
      "786\n",
      "0.3243912505158894\n",
      "0.3243912505158894\n"
     ]
    },
    {
     "name": "stderr",
     "output_type": "stream",
     "text": [
      " 19%|█▉        | 282/1500 [3:27:01<14:53:01, 43.99s/it]"
     ]
    },
    {
     "name": "stdout",
     "output_type": "stream",
     "text": [
      "899\n",
      "0.37102765167148166\n",
      "0.31733145075891284\n",
      "789\n",
      "0.3256293850598432\n",
      "0.3256293850598432\n"
     ]
    },
    {
     "name": "stderr",
     "output_type": "stream",
     "text": [
      " 19%|█▉        | 283/1500 [3:27:45<14:52:06, 43.98s/it]"
     ]
    },
    {
     "name": "stdout",
     "output_type": "stream",
     "text": [
      "896\n",
      "0.36978951712752783\n",
      "0.3162725026473703\n",
      "800\n",
      "0.330169211721007\n",
      "0.330169211721007\n"
     ]
    },
    {
     "name": "stderr",
     "output_type": "stream",
     "text": [
      " 19%|█▉        | 284/1500 [3:28:28<14:50:47, 43.95s/it]"
     ]
    },
    {
     "name": "stdout",
     "output_type": "stream",
     "text": [
      "887\n",
      "0.3660751134956665\n",
      "0.31309565831274266\n",
      "797\n",
      "0.3289310771770532\n",
      "0.3289310771770532\n"
     ]
    },
    {
     "name": "stderr",
     "output_type": "stream",
     "text": [
      " 19%|█▉        | 285/1500 [3:29:12<14:50:04, 43.95s/it]"
     ]
    },
    {
     "name": "stdout",
     "output_type": "stream",
     "text": [
      "876\n",
      "0.3615352868345027\n",
      "0.30921284857042003\n",
      "794\n",
      "0.32769294263309945\n",
      "0.32769294263309945\n"
     ]
    },
    {
     "name": "stderr",
     "output_type": "stream",
     "text": [
      " 19%|█▉        | 286/1500 [3:29:56<14:50:11, 44.00s/it]"
     ]
    },
    {
     "name": "stdout",
     "output_type": "stream",
     "text": [
      "890\n",
      "0.3673132480396203\n",
      "0.3141546064242852\n",
      "795\n",
      "0.3281056541477507\n",
      "0.3281056541477507\n"
     ]
    },
    {
     "name": "stderr",
     "output_type": "stream",
     "text": [
      " 19%|█▉        | 287/1500 [3:30:41<14:49:39, 44.01s/it]"
     ]
    },
    {
     "name": "stdout",
     "output_type": "stream",
     "text": [
      "908\n",
      "0.374742055303343\n",
      "0.3205082950935404\n",
      "789\n",
      "0.3256293850598432\n",
      "0.3256293850598432\n"
     ]
    },
    {
     "name": "stderr",
     "output_type": "stream",
     "text": [
      " 19%|█▉        | 288/1500 [3:31:24<14:47:28, 43.93s/it]"
     ]
    },
    {
     "name": "stdout",
     "output_type": "stream",
     "text": [
      "899\n",
      "0.37102765167148166\n",
      "0.31733145075891284\n",
      "789\n",
      "0.3256293850598432\n",
      "0.3256293850598432\n"
     ]
    },
    {
     "name": "stderr",
     "output_type": "stream",
     "text": [
      " 19%|█▉        | 289/1500 [3:32:08<14:46:37, 43.93s/it]"
     ]
    },
    {
     "name": "stdout",
     "output_type": "stream",
     "text": [
      "889\n",
      "0.36690053652496907\n",
      "0.3138016237204377\n",
      "796\n",
      "0.328518365662402\n",
      "0.328518365662402\n"
     ]
    },
    {
     "name": "stderr",
     "output_type": "stream",
     "text": [
      " 19%|█▉        | 290/1500 [3:32:52<14:45:56, 43.93s/it]"
     ]
    },
    {
     "name": "stdout",
     "output_type": "stream",
     "text": [
      "870\n",
      "0.35905901774659515\n",
      "0.30709495234733497\n",
      "792\n",
      "0.32686751960379695\n",
      "0.32686751960379695\n"
     ]
    },
    {
     "name": "stderr",
     "output_type": "stream",
     "text": [
      " 19%|█▉        | 291/1500 [3:33:36<14:45:55, 43.97s/it]"
     ]
    },
    {
     "name": "stdout",
     "output_type": "stream",
     "text": [
      "872\n",
      "0.35988444077589765\n",
      "0.30780091775503\n",
      "805\n",
      "0.3322327692942633\n",
      "0.3322327692942633\n"
     ]
    },
    {
     "name": "stderr",
     "output_type": "stream",
     "text": [
      " 19%|█▉        | 292/1500 [3:34:20<14:45:34, 43.99s/it]"
     ]
    },
    {
     "name": "stdout",
     "output_type": "stream",
     "text": [
      "888\n",
      "0.3664878250103178\n",
      "0.3134486410165902\n",
      "799\n",
      "0.3297565002063558\n",
      "0.3297565002063558\n"
     ]
    },
    {
     "name": "stderr",
     "output_type": "stream",
     "text": [
      " 20%|█▉        | 293/1500 [3:35:04<14:44:17, 43.96s/it]"
     ]
    },
    {
     "name": "stdout",
     "output_type": "stream",
     "text": [
      "900\n",
      "0.3714403631861329\n",
      "0.3176844334627603\n",
      "797\n",
      "0.3289310771770532\n",
      "0.3289310771770532\n"
     ]
    },
    {
     "name": "stderr",
     "output_type": "stream",
     "text": [
      " 20%|█▉        | 294/1500 [3:35:48<14:44:45, 44.02s/it]"
     ]
    },
    {
     "name": "stdout",
     "output_type": "stream",
     "text": [
      "893\n",
      "0.36855138258357406\n",
      "0.3152135545358277\n",
      "792\n",
      "0.32686751960379695\n",
      "0.32686751960379695\n"
     ]
    },
    {
     "name": "stderr",
     "output_type": "stream",
     "text": [
      " 20%|█▉        | 295/1500 [3:36:32<14:43:20, 43.98s/it]"
     ]
    },
    {
     "name": "stdout",
     "output_type": "stream",
     "text": [
      "877\n",
      "0.3619479983491539\n",
      "0.30956583127426757\n",
      "788\n",
      "0.3252166735451919\n",
      "0.3252166735451919\n"
     ]
    },
    {
     "name": "stderr",
     "output_type": "stream",
     "text": [
      " 20%|█▉        | 296/1500 [3:37:17<14:47:58, 44.25s/it]"
     ]
    },
    {
     "name": "stdout",
     "output_type": "stream",
     "text": [
      "880\n",
      "0.3631861328931077\n",
      "0.31062477938581007\n",
      "793\n",
      "0.32728023111844823\n",
      "0.32728023111844823\n"
     ]
    },
    {
     "name": "stderr",
     "output_type": "stream",
     "text": [
      " 20%|█▉        | 297/1500 [3:38:01<14:45:33, 44.17s/it]"
     ]
    },
    {
     "name": "stdout",
     "output_type": "stream",
     "text": [
      "890\n",
      "0.3673132480396203\n",
      "0.3141546064242852\n",
      "797\n",
      "0.3289310771770532\n",
      "0.3289310771770532\n"
     ]
    },
    {
     "name": "stderr",
     "output_type": "stream",
     "text": [
      " 20%|█▉        | 298/1500 [3:38:45<14:44:16, 44.14s/it]"
     ]
    },
    {
     "name": "stdout",
     "output_type": "stream",
     "text": [
      "896\n",
      "0.36978951712752783\n",
      "0.3162725026473703\n",
      "797\n",
      "0.3289310771770532\n",
      "0.3289310771770532\n"
     ]
    },
    {
     "name": "stderr",
     "output_type": "stream",
     "text": [
      " 20%|█▉        | 299/1500 [3:39:29<14:42:58, 44.11s/it]"
     ]
    },
    {
     "name": "stdout",
     "output_type": "stream",
     "text": [
      "898\n",
      "0.3706149401568304\n",
      "0.3169784680550653\n",
      "801\n",
      "0.33058192323565827\n",
      "0.33058192323565827\n"
     ]
    },
    {
     "name": "stderr",
     "output_type": "stream",
     "text": [
      " 20%|██        | 300/1500 [3:40:13<14:40:54, 44.05s/it]"
     ]
    },
    {
     "name": "stdout",
     "output_type": "stream",
     "text": [
      "881\n",
      "0.36359884440775897\n",
      "0.3109777620896576\n",
      "783\n",
      "0.32315311597193563\n",
      "0.32315311597193563\n"
     ]
    },
    {
     "name": "stderr",
     "output_type": "stream",
     "text": [
      " 20%|██        | 301/1500 [3:40:57<14:39:31, 44.01s/it]"
     ]
    },
    {
     "name": "stdout",
     "output_type": "stream",
     "text": [
      "880\n",
      "0.3631861328931077\n",
      "0.31062477938581007\n",
      "788\n",
      "0.3252166735451919\n",
      "0.3252166735451919\n"
     ]
    },
    {
     "name": "stderr",
     "output_type": "stream",
     "text": [
      " 20%|██        | 302/1500 [3:41:41<14:38:41, 44.01s/it]"
     ]
    },
    {
     "name": "stdout",
     "output_type": "stream",
     "text": [
      "892\n",
      "0.36813867106892284\n",
      "0.31486057183198024\n",
      "796\n",
      "0.328518365662402\n",
      "0.328518365662402\n"
     ]
    },
    {
     "name": "stderr",
     "output_type": "stream",
     "text": [
      " 20%|██        | 303/1500 [3:42:25<14:37:32, 43.99s/it]"
     ]
    },
    {
     "name": "stdout",
     "output_type": "stream",
     "text": [
      "891\n",
      "0.36772595955427156\n",
      "0.3145075891281327\n",
      "789\n",
      "0.3256293850598432\n",
      "0.3256293850598432\n"
     ]
    },
    {
     "name": "stderr",
     "output_type": "stream",
     "text": [
      " 20%|██        | 304/1500 [3:43:09<14:35:54, 43.94s/it]"
     ]
    },
    {
     "name": "stdout",
     "output_type": "stream",
     "text": [
      "905\n",
      "0.3735039207593892\n",
      "0.3194493469819979\n",
      "786\n",
      "0.3243912505158894\n",
      "0.3243912505158894\n"
     ]
    },
    {
     "name": "stderr",
     "output_type": "stream",
     "text": [
      " 20%|██        | 305/1500 [3:43:53<14:36:00, 43.98s/it]"
     ]
    },
    {
     "name": "stdout",
     "output_type": "stream",
     "text": [
      "887\n",
      "0.3660751134956665\n",
      "0.31309565831274266\n",
      "783\n",
      "0.32315311597193563\n",
      "0.32315311597193563\n"
     ]
    },
    {
     "name": "stderr",
     "output_type": "stream",
     "text": [
      " 20%|██        | 306/1500 [3:44:37<14:35:37, 44.00s/it]"
     ]
    },
    {
     "name": "stdout",
     "output_type": "stream",
     "text": [
      "872\n",
      "0.35988444077589765\n",
      "0.30780091775503\n",
      "782\n",
      "0.32274040445728436\n",
      "0.32274040445728436\n"
     ]
    },
    {
     "name": "stderr",
     "output_type": "stream",
     "text": [
      " 20%|██        | 307/1500 [3:45:21<14:34:46, 44.00s/it]"
     ]
    },
    {
     "name": "stdout",
     "output_type": "stream",
     "text": [
      "873\n",
      "0.3602971522905489\n",
      "0.3081539004588775\n",
      "795\n",
      "0.3281056541477507\n",
      "0.3281056541477507\n"
     ]
    },
    {
     "name": "stderr",
     "output_type": "stream",
     "text": [
      " 21%|██        | 308/1500 [3:46:05<14:34:05, 44.00s/it]"
     ]
    },
    {
     "name": "stdout",
     "output_type": "stream",
     "text": [
      "882\n",
      "0.36401155592241025\n",
      "0.31133074479350514\n",
      "805\n",
      "0.3322327692942633\n",
      "0.3322327692942633\n"
     ]
    },
    {
     "name": "stderr",
     "output_type": "stream",
     "text": [
      " 21%|██        | 309/1500 [3:46:49<14:34:09, 44.04s/it]"
     ]
    },
    {
     "name": "stdout",
     "output_type": "stream",
     "text": [
      "895\n",
      "0.3693768056128766\n",
      "0.31591951994352274\n",
      "789\n",
      "0.3256293850598432\n",
      "0.3256293850598432\n"
     ]
    },
    {
     "name": "stderr",
     "output_type": "stream",
     "text": [
      " 21%|██        | 310/1500 [3:47:33<14:32:55, 44.01s/it]"
     ]
    },
    {
     "name": "stdout",
     "output_type": "stream",
     "text": [
      "889\n",
      "0.36690053652496907\n",
      "0.3138016237204377\n",
      "787\n",
      "0.3248039620305406\n",
      "0.3248039620305406\n"
     ]
    },
    {
     "name": "stderr",
     "output_type": "stream",
     "text": [
      " 21%|██        | 311/1500 [3:48:17<14:31:20, 43.97s/it]"
     ]
    },
    {
     "name": "stdout",
     "output_type": "stream",
     "text": [
      "886\n",
      "0.3656624019810153\n",
      "0.3127426756088952\n",
      "784\n",
      "0.32356582748658685\n",
      "0.32356582748658685\n"
     ]
    },
    {
     "name": "stderr",
     "output_type": "stream",
     "text": [
      " 21%|██        | 312/1500 [3:49:01<14:30:45, 43.98s/it]"
     ]
    },
    {
     "name": "stdout",
     "output_type": "stream",
     "text": [
      "881\n",
      "0.36359884440775897\n",
      "0.3109777620896576\n",
      "790\n",
      "0.32604209657449446\n",
      "0.32604209657449446\n"
     ]
    },
    {
     "name": "stderr",
     "output_type": "stream",
     "text": [
      " 21%|██        | 313/1500 [3:49:45<14:29:02, 43.93s/it]"
     ]
    },
    {
     "name": "stdout",
     "output_type": "stream",
     "text": [
      "891\n",
      "0.36772595955427156\n",
      "0.3145075891281327\n",
      "794\n",
      "0.32769294263309945\n",
      "0.32769294263309945\n"
     ]
    },
    {
     "name": "stderr",
     "output_type": "stream",
     "text": [
      " 21%|██        | 314/1500 [3:50:28<14:28:04, 43.92s/it]"
     ]
    },
    {
     "name": "stdout",
     "output_type": "stream",
     "text": [
      "896\n",
      "0.36978951712752783\n",
      "0.3162725026473703\n",
      "794\n",
      "0.32769294263309945\n",
      "0.32769294263309945\n"
     ]
    },
    {
     "name": "stderr",
     "output_type": "stream",
     "text": [
      " 21%|██        | 315/1500 [3:51:13<14:28:02, 43.95s/it]"
     ]
    },
    {
     "name": "stdout",
     "output_type": "stream",
     "text": [
      "890\n",
      "0.3673132480396203\n",
      "0.3141546064242852\n",
      "780\n",
      "0.32191498142798186\n",
      "0.32191498142798186\n"
     ]
    },
    {
     "name": "stderr",
     "output_type": "stream",
     "text": [
      " 21%|██        | 316/1500 [3:51:56<14:27:12, 43.95s/it]"
     ]
    },
    {
     "name": "stdout",
     "output_type": "stream",
     "text": [
      "879\n",
      "0.3627734213784565\n",
      "0.3102717966819626\n",
      "784\n",
      "0.32356582748658685\n",
      "0.32356582748658685\n"
     ]
    },
    {
     "name": "stderr",
     "output_type": "stream",
     "text": [
      " 21%|██        | 317/1500 [3:52:40<14:26:25, 43.94s/it]"
     ]
    },
    {
     "name": "stdout",
     "output_type": "stream",
     "text": [
      "873\n",
      "0.3602971522905489\n",
      "0.3081539004588775\n",
      "791\n",
      "0.3264548080891457\n",
      "0.3264548080891457\n"
     ]
    },
    {
     "name": "stderr",
     "output_type": "stream",
     "text": [
      " 21%|██        | 318/1500 [3:53:24<14:25:52, 43.95s/it]"
     ]
    },
    {
     "name": "stdout",
     "output_type": "stream",
     "text": [
      "879\n",
      "0.3627734213784565\n",
      "0.3102717966819626\n",
      "796\n",
      "0.328518365662402\n",
      "0.328518365662402\n"
     ]
    },
    {
     "name": "stderr",
     "output_type": "stream",
     "text": [
      " 21%|██▏       | 319/1500 [3:54:08<14:24:31, 43.92s/it]"
     ]
    },
    {
     "name": "stdout",
     "output_type": "stream",
     "text": [
      "889\n",
      "0.36690053652496907\n",
      "0.3138016237204377\n",
      "791\n",
      "0.3264548080891457\n",
      "0.3264548080891457\n"
     ]
    },
    {
     "name": "stderr",
     "output_type": "stream",
     "text": [
      " 21%|██▏       | 320/1500 [3:54:53<14:29:19, 44.20s/it]"
     ]
    },
    {
     "name": "stdout",
     "output_type": "stream",
     "text": [
      "899\n",
      "0.37102765167148166\n",
      "0.31733145075891284\n",
      "796\n",
      "0.328518365662402\n",
      "0.328518365662402\n"
     ]
    },
    {
     "name": "stderr",
     "output_type": "stream",
     "text": [
      " 21%|██▏       | 321/1500 [3:55:37<14:26:41, 44.11s/it]"
     ]
    },
    {
     "name": "stdout",
     "output_type": "stream",
     "text": [
      "886\n",
      "0.3656624019810153\n",
      "0.3127426756088952\n",
      "788\n",
      "0.3252166735451919\n",
      "0.3252166735451919\n"
     ]
    },
    {
     "name": "stderr",
     "output_type": "stream",
     "text": [
      " 21%|██▏       | 322/1500 [3:56:21<14:25:03, 44.06s/it]"
     ]
    },
    {
     "name": "stdout",
     "output_type": "stream",
     "text": [
      "883\n",
      "0.36442426743706147\n",
      "0.3116837274973526\n",
      "794\n",
      "0.32769294263309945\n",
      "0.32769294263309945\n"
     ]
    },
    {
     "name": "stderr",
     "output_type": "stream",
     "text": [
      " 22%|██▏       | 323/1500 [3:57:05<14:23:26, 44.02s/it]"
     ]
    },
    {
     "name": "stdout",
     "output_type": "stream",
     "text": [
      "883\n",
      "0.36442426743706147\n",
      "0.3116837274973526\n",
      "805\n",
      "0.3322327692942633\n",
      "0.3322327692942633\n"
     ]
    },
    {
     "name": "stderr",
     "output_type": "stream",
     "text": [
      " 22%|██▏       | 324/1500 [3:57:49<14:21:45, 43.97s/it]"
     ]
    },
    {
     "name": "stdout",
     "output_type": "stream",
     "text": [
      "881\n",
      "0.36359884440775897\n",
      "0.3109777620896576\n",
      "792\n",
      "0.32686751960379695\n",
      "0.32686751960379695\n"
     ]
    },
    {
     "name": "stderr",
     "output_type": "stream",
     "text": [
      " 22%|██▏       | 325/1500 [3:58:33<14:20:39, 43.95s/it]"
     ]
    },
    {
     "name": "stdout",
     "output_type": "stream",
     "text": [
      "885\n",
      "0.365249690466364\n",
      "0.31238969290504764\n",
      "781\n",
      "0.3223276929426331\n",
      "0.3223276929426331\n"
     ]
    },
    {
     "name": "stderr",
     "output_type": "stream",
     "text": [
      " 22%|██▏       | 326/1500 [3:59:17<14:20:12, 43.96s/it]"
     ]
    },
    {
     "name": "stdout",
     "output_type": "stream",
     "text": [
      "886\n",
      "0.3656624019810153\n",
      "0.3127426756088952\n",
      "783\n",
      "0.32315311597193563\n",
      "0.32315311597193563\n"
     ]
    },
    {
     "name": "stderr",
     "output_type": "stream",
     "text": [
      " 22%|██▏       | 327/1500 [4:00:00<14:18:22, 43.91s/it]"
     ]
    },
    {
     "name": "stdout",
     "output_type": "stream",
     "text": [
      "881\n",
      "0.36359884440775897\n",
      "0.3109777620896576\n",
      "788\n",
      "0.3252166735451919\n",
      "0.3252166735451919\n"
     ]
    },
    {
     "name": "stderr",
     "output_type": "stream",
     "text": [
      " 22%|██▏       | 328/1500 [4:00:44<14:17:08, 43.88s/it]"
     ]
    },
    {
     "name": "stdout",
     "output_type": "stream",
     "text": [
      "893\n",
      "0.36855138258357406\n",
      "0.3152135545358277\n",
      "797\n",
      "0.3289310771770532\n",
      "0.3289310771770532\n"
     ]
    },
    {
     "name": "stderr",
     "output_type": "stream",
     "text": [
      " 22%|██▏       | 329/1500 [4:01:28<14:16:38, 43.89s/it]"
     ]
    },
    {
     "name": "stdout",
     "output_type": "stream",
     "text": [
      "891\n",
      "0.36772595955427156\n",
      "0.3145075891281327\n",
      "801\n",
      "0.33058192323565827\n",
      "0.33058192323565827\n"
     ]
    },
    {
     "name": "stderr",
     "output_type": "stream",
     "text": [
      " 22%|██▏       | 330/1500 [4:02:12<14:16:38, 43.93s/it]"
     ]
    },
    {
     "name": "stdout",
     "output_type": "stream",
     "text": [
      "881\n",
      "0.36359884440775897\n",
      "0.3109777620896576\n",
      "781\n",
      "0.3223276929426331\n",
      "0.3223276929426331\n"
     ]
    },
    {
     "name": "stderr",
     "output_type": "stream",
     "text": [
      " 22%|██▏       | 331/1500 [4:02:56<14:16:35, 43.97s/it]"
     ]
    },
    {
     "name": "stdout",
     "output_type": "stream",
     "text": [
      "880\n",
      "0.3631861328931077\n",
      "0.31062477938581007\n",
      "777\n",
      "0.3206768468840281\n",
      "0.3206768468840281\n"
     ]
    },
    {
     "name": "stderr",
     "output_type": "stream",
     "text": [
      " 22%|██▏       | 332/1500 [4:03:40<14:16:05, 43.98s/it]"
     ]
    },
    {
     "name": "stdout",
     "output_type": "stream",
     "text": [
      "877\n",
      "0.3619479983491539\n",
      "0.30956583127426757\n",
      "786\n",
      "0.3243912505158894\n",
      "0.3243912505158894\n"
     ]
    },
    {
     "name": "stderr",
     "output_type": "stream",
     "text": [
      " 22%|██▏       | 333/1500 [4:04:24<14:14:49, 43.95s/it]"
     ]
    },
    {
     "name": "stdout",
     "output_type": "stream",
     "text": [
      "888\n",
      "0.3664878250103178\n",
      "0.3134486410165902\n",
      "794\n",
      "0.32769294263309945\n",
      "0.32769294263309945\n"
     ]
    },
    {
     "name": "stderr",
     "output_type": "stream",
     "text": [
      " 22%|██▏       | 334/1500 [4:05:08<14:14:39, 43.98s/it]"
     ]
    },
    {
     "name": "stdout",
     "output_type": "stream",
     "text": [
      "889\n",
      "0.36690053652496907\n",
      "0.3138016237204377\n",
      "799\n",
      "0.3297565002063558\n",
      "0.3297565002063558\n"
     ]
    },
    {
     "name": "stderr",
     "output_type": "stream",
     "text": [
      " 22%|██▏       | 335/1500 [4:05:52<14:14:51, 44.03s/it]"
     ]
    },
    {
     "name": "stdout",
     "output_type": "stream",
     "text": [
      "889\n",
      "0.36690053652496907\n",
      "0.3138016237204377\n",
      "790\n",
      "0.32604209657449446\n",
      "0.32604209657449446\n"
     ]
    },
    {
     "name": "stderr",
     "output_type": "stream",
     "text": [
      " 22%|██▏       | 336/1500 [4:06:36<14:14:02, 44.02s/it]"
     ]
    },
    {
     "name": "stdout",
     "output_type": "stream",
     "text": [
      "883\n",
      "0.36442426743706147\n",
      "0.3116837274973526\n",
      "780\n",
      "0.32191498142798186\n",
      "0.32191498142798186\n"
     ]
    },
    {
     "name": "stderr",
     "output_type": "stream",
     "text": [
      " 22%|██▏       | 337/1500 [4:07:20<14:12:59, 44.01s/it]"
     ]
    },
    {
     "name": "stdout",
     "output_type": "stream",
     "text": [
      "875\n",
      "0.3611225753198514\n",
      "0.30885986586657255\n",
      "787\n",
      "0.3248039620305406\n",
      "0.3248039620305406\n"
     ]
    },
    {
     "name": "stderr",
     "output_type": "stream",
     "text": [
      " 23%|██▎       | 338/1500 [4:08:04<14:11:22, 43.96s/it]"
     ]
    },
    {
     "name": "stdout",
     "output_type": "stream",
     "text": [
      "876\n",
      "0.3615352868345027\n",
      "0.30921284857042003\n",
      "803\n",
      "0.33140734626496077\n",
      "0.33140734626496077\n"
     ]
    },
    {
     "name": "stderr",
     "output_type": "stream",
     "text": [
      " 23%|██▎       | 339/1500 [4:08:48<14:10:41, 43.96s/it]"
     ]
    },
    {
     "name": "stdout",
     "output_type": "stream",
     "text": [
      "890\n",
      "0.3673132480396203\n",
      "0.3141546064242852\n",
      "800\n",
      "0.330169211721007\n",
      "0.330169211721007\n"
     ]
    },
    {
     "name": "stderr",
     "output_type": "stream",
     "text": [
      " 23%|██▎       | 340/1500 [4:09:32<14:09:57, 43.96s/it]"
     ]
    },
    {
     "name": "stdout",
     "output_type": "stream",
     "text": [
      "885\n",
      "0.365249690466364\n",
      "0.31238969290504764\n",
      "795\n",
      "0.3281056541477507\n",
      "0.3281056541477507\n"
     ]
    },
    {
     "name": "stderr",
     "output_type": "stream",
     "text": [
      " 23%|██▎       | 341/1500 [4:10:16<14:09:30, 43.98s/it]"
     ]
    },
    {
     "name": "stdout",
     "output_type": "stream",
     "text": [
      "889\n",
      "0.36690053652496907\n",
      "0.3138016237204377\n",
      "784\n",
      "0.32356582748658685\n",
      "0.32356582748658685\n"
     ]
    },
    {
     "name": "stderr",
     "output_type": "stream",
     "text": [
      " 23%|██▎       | 342/1500 [4:11:00<14:09:05, 43.99s/it]"
     ]
    },
    {
     "name": "stdout",
     "output_type": "stream",
     "text": [
      "863\n",
      "0.35617003714403633\n",
      "0.3046240734204024\n",
      "782\n",
      "0.32274040445728436\n",
      "0.32274040445728436\n"
     ]
    },
    {
     "name": "stderr",
     "output_type": "stream",
     "text": [
      " 23%|██▎       | 343/1500 [4:11:44<14:07:47, 43.96s/it]"
     ]
    },
    {
     "name": "stdout",
     "output_type": "stream",
     "text": [
      "882\n",
      "0.36401155592241025\n",
      "0.31133074479350514\n",
      "789\n",
      "0.3256293850598432\n",
      "0.3256293850598432\n"
     ]
    },
    {
     "name": "stderr",
     "output_type": "stream",
     "text": [
      " 23%|██▎       | 344/1500 [4:12:28<14:06:57, 43.96s/it]"
     ]
    },
    {
     "name": "stdout",
     "output_type": "stream",
     "text": [
      "904\n",
      "0.37309120924473793\n",
      "0.31909636427815036\n",
      "800\n",
      "0.330169211721007\n",
      "0.330169211721007\n"
     ]
    },
    {
     "name": "stderr",
     "output_type": "stream",
     "text": [
      " 23%|██▎       | 345/1500 [4:13:12<14:06:33, 43.98s/it]"
     ]
    },
    {
     "name": "stdout",
     "output_type": "stream",
     "text": [
      "897\n",
      "0.3702022286421791\n",
      "0.3166254853512178\n",
      "788\n",
      "0.3252166735451919\n",
      "0.3252166735451919\n"
     ]
    },
    {
     "name": "stderr",
     "output_type": "stream",
     "text": [
      " 23%|██▎       | 346/1500 [4:13:56<14:05:41, 43.97s/it]"
     ]
    },
    {
     "name": "stdout",
     "output_type": "stream",
     "text": [
      "888\n",
      "0.3664878250103178\n",
      "0.3134486410165902\n",
      "782\n",
      "0.32274040445728436\n",
      "0.32274040445728436\n"
     ]
    },
    {
     "name": "stderr",
     "output_type": "stream",
     "text": [
      " 23%|██▎       | 347/1500 [4:14:40<14:04:34, 43.95s/it]"
     ]
    },
    {
     "name": "stdout",
     "output_type": "stream",
     "text": [
      "874\n",
      "0.36070986380520015\n",
      "0.308506883162725\n",
      "780\n",
      "0.32191498142798186\n",
      "0.32191498142798186\n"
     ]
    },
    {
     "name": "stderr",
     "output_type": "stream",
     "text": [
      " 23%|██▎       | 348/1500 [4:15:24<14:04:01, 43.96s/it]"
     ]
    },
    {
     "name": "stdout",
     "output_type": "stream",
     "text": [
      "868\n",
      "0.3582335947172926\n",
      "0.30638898693963995\n",
      "788\n",
      "0.3252166735451919\n",
      "0.3252166735451919\n"
     ]
    },
    {
     "name": "stderr",
     "output_type": "stream",
     "text": [
      " 23%|██▎       | 349/1500 [4:16:08<14:02:22, 43.91s/it]"
     ]
    },
    {
     "name": "stdout",
     "output_type": "stream",
     "text": [
      "881\n",
      "0.36359884440775897\n",
      "0.3109777620896576\n",
      "792\n",
      "0.32686751960379695\n",
      "0.32686751960379695\n"
     ]
    },
    {
     "name": "stderr",
     "output_type": "stream",
     "text": [
      " 23%|██▎       | 350/1500 [4:16:52<14:07:31, 44.22s/it]"
     ]
    },
    {
     "name": "stdout",
     "output_type": "stream",
     "text": [
      "886\n",
      "0.3656624019810153\n",
      "0.3127426756088952\n",
      "791\n",
      "0.3264548080891457\n",
      "0.3264548080891457\n"
     ]
    },
    {
     "name": "stderr",
     "output_type": "stream",
     "text": [
      " 23%|██▎       | 351/1500 [4:17:37<14:05:38, 44.16s/it]"
     ]
    },
    {
     "name": "stdout",
     "output_type": "stream",
     "text": [
      "885\n",
      "0.365249690466364\n",
      "0.31238969290504764\n",
      "785\n",
      "0.32397853900123813\n",
      "0.32397853900123813\n"
     ]
    },
    {
     "name": "stderr",
     "output_type": "stream",
     "text": [
      " 23%|██▎       | 352/1500 [4:18:21<14:04:03, 44.11s/it]"
     ]
    },
    {
     "name": "stdout",
     "output_type": "stream",
     "text": [
      "874\n",
      "0.36070986380520015\n",
      "0.308506883162725\n",
      "789\n",
      "0.3256293850598432\n",
      "0.3256293850598432\n"
     ]
    },
    {
     "name": "stderr",
     "output_type": "stream",
     "text": [
      " 24%|██▎       | 353/1500 [4:19:05<14:03:13, 44.11s/it]"
     ]
    },
    {
     "name": "stdout",
     "output_type": "stream",
     "text": [
      "865\n",
      "0.35699546017333883\n",
      "0.30533003882809745\n",
      "797\n",
      "0.3289310771770532\n",
      "0.3289310771770532\n"
     ]
    },
    {
     "name": "stderr",
     "output_type": "stream",
     "text": [
      " 24%|██▎       | 354/1500 [4:19:49<14:01:30, 44.06s/it]"
     ]
    },
    {
     "name": "stdout",
     "output_type": "stream",
     "text": [
      "878\n",
      "0.3623607098638052\n",
      "0.30991881397811505\n",
      "794\n",
      "0.32769294263309945\n",
      "0.32769294263309945\n"
     ]
    },
    {
     "name": "stderr",
     "output_type": "stream",
     "text": [
      " 24%|██▎       | 355/1500 [4:20:32<13:59:28, 43.99s/it]"
     ]
    },
    {
     "name": "stdout",
     "output_type": "stream",
     "text": [
      "890\n",
      "0.3673132480396203\n",
      "0.3141546064242852\n",
      "796\n",
      "0.328518365662402\n",
      "0.328518365662402\n"
     ]
    },
    {
     "name": "stderr",
     "output_type": "stream",
     "text": [
      " 24%|██▎       | 356/1500 [4:21:16<13:57:36, 43.93s/it]"
     ]
    },
    {
     "name": "stdout",
     "output_type": "stream",
     "text": [
      "886\n",
      "0.3656624019810153\n",
      "0.3127426756088952\n",
      "786\n",
      "0.3243912505158894\n",
      "0.3243912505158894\n"
     ]
    },
    {
     "name": "stderr",
     "output_type": "stream",
     "text": [
      " 24%|██▍       | 357/1500 [4:22:00<13:56:03, 43.89s/it]"
     ]
    },
    {
     "name": "stdout",
     "output_type": "stream",
     "text": [
      "882\n",
      "0.36401155592241025\n",
      "0.31133074479350514\n",
      "778\n",
      "0.3210895583986793\n",
      "0.3210895583986793\n"
     ]
    },
    {
     "name": "stderr",
     "output_type": "stream",
     "text": [
      " 24%|██▍       | 358/1500 [4:22:44<13:55:30, 43.90s/it]"
     ]
    },
    {
     "name": "stdout",
     "output_type": "stream",
     "text": [
      "870\n",
      "0.35905901774659515\n",
      "0.30709495234733497\n",
      "782\n",
      "0.32274040445728436\n",
      "0.32274040445728436\n"
     ]
    },
    {
     "name": "stderr",
     "output_type": "stream",
     "text": [
      " 24%|██▍       | 359/1500 [4:23:28<13:55:20, 43.93s/it]"
     ]
    },
    {
     "name": "stdout",
     "output_type": "stream",
     "text": [
      "874\n",
      "0.36070986380520015\n",
      "0.308506883162725\n",
      "800\n",
      "0.330169211721007\n",
      "0.330169211721007\n"
     ]
    },
    {
     "name": "stderr",
     "output_type": "stream",
     "text": [
      " 24%|██▍       | 360/1500 [4:24:12<13:54:22, 43.91s/it]"
     ]
    },
    {
     "name": "stdout",
     "output_type": "stream",
     "text": [
      "884\n",
      "0.36483697895171274\n",
      "0.31203671020120016\n",
      "793\n",
      "0.32728023111844823\n",
      "0.32728023111844823\n"
     ]
    },
    {
     "name": "stderr",
     "output_type": "stream",
     "text": [
      " 24%|██▍       | 361/1500 [4:24:56<13:53:07, 43.89s/it]"
     ]
    },
    {
     "name": "stdout",
     "output_type": "stream",
     "text": [
      "882\n",
      "0.36401155592241025\n",
      "0.31133074479350514\n",
      "785\n",
      "0.32397853900123813\n",
      "0.32397853900123813\n"
     ]
    },
    {
     "name": "stderr",
     "output_type": "stream",
     "text": [
      " 24%|██▍       | 362/1500 [4:25:40<13:53:00, 43.92s/it]"
     ]
    },
    {
     "name": "stdout",
     "output_type": "stream",
     "text": [
      "890\n",
      "0.3673132480396203\n",
      "0.3141546064242852\n",
      "780\n",
      "0.32191498142798186\n",
      "0.32191498142798186\n"
     ]
    },
    {
     "name": "stderr",
     "output_type": "stream",
     "text": [
      " 24%|██▍       | 363/1500 [4:26:23<13:52:06, 43.91s/it]"
     ]
    },
    {
     "name": "stdout",
     "output_type": "stream",
     "text": [
      "866\n",
      "0.3574081716879901\n",
      "0.30568302153194493\n",
      "786\n",
      "0.3243912505158894\n",
      "0.3243912505158894\n"
     ]
    },
    {
     "name": "stderr",
     "output_type": "stream",
     "text": [
      " 24%|██▍       | 364/1500 [4:27:07<13:51:07, 43.90s/it]"
     ]
    },
    {
     "name": "stdout",
     "output_type": "stream",
     "text": [
      "864\n",
      "0.35658274865868755\n",
      "0.3049770561242499\n",
      "793\n",
      "0.32728023111844823\n",
      "0.32728023111844823\n"
     ]
    },
    {
     "name": "stderr",
     "output_type": "stream",
     "text": [
      " 24%|██▍       | 365/1500 [4:27:51<13:50:25, 43.90s/it]"
     ]
    },
    {
     "name": "stdout",
     "output_type": "stream",
     "text": [
      "897\n",
      "0.3702022286421791\n",
      "0.3166254853512178\n",
      "785\n",
      "0.32397853900123813\n",
      "0.32397853900123813\n"
     ]
    },
    {
     "name": "stderr",
     "output_type": "stream",
     "text": [
      " 24%|██▍       | 366/1500 [4:28:35<13:49:20, 43.88s/it]"
     ]
    },
    {
     "name": "stdout",
     "output_type": "stream",
     "text": [
      "887\n",
      "0.3660751134956665\n",
      "0.31309565831274266\n",
      "777\n",
      "0.3206768468840281\n",
      "0.3206768468840281\n"
     ]
    },
    {
     "name": "stderr",
     "output_type": "stream",
     "text": [
      " 24%|██▍       | 367/1500 [4:29:19<13:48:44, 43.89s/it]"
     ]
    },
    {
     "name": "stdout",
     "output_type": "stream",
     "text": [
      "881\n",
      "0.36359884440775897\n",
      "0.3109777620896576\n",
      "777\n",
      "0.3206768468840281\n",
      "0.3206768468840281\n"
     ]
    },
    {
     "name": "stderr",
     "output_type": "stream",
     "text": [
      " 25%|██▍       | 368/1500 [4:30:03<13:48:44, 43.93s/it]"
     ]
    },
    {
     "name": "stdout",
     "output_type": "stream",
     "text": [
      "867\n",
      "0.3578208832026413\n",
      "0.30603600423579247\n",
      "794\n",
      "0.32769294263309945\n",
      "0.32769294263309945\n"
     ]
    },
    {
     "name": "stderr",
     "output_type": "stream",
     "text": [
      " 25%|██▍       | 369/1500 [4:30:47<13:48:03, 43.93s/it]"
     ]
    },
    {
     "name": "stdout",
     "output_type": "stream",
     "text": [
      "878\n",
      "0.3623607098638052\n",
      "0.30991881397811505\n",
      "799\n",
      "0.3297565002063558\n",
      "0.3297565002063558\n"
     ]
    },
    {
     "name": "stderr",
     "output_type": "stream",
     "text": [
      " 25%|██▍       | 370/1500 [4:31:31<13:47:36, 43.94s/it]"
     ]
    },
    {
     "name": "stdout",
     "output_type": "stream",
     "text": [
      "891\n",
      "0.36772595955427156\n",
      "0.3145075891281327\n",
      "789\n",
      "0.3256293850598432\n",
      "0.3256293850598432\n"
     ]
    },
    {
     "name": "stderr",
     "output_type": "stream",
     "text": [
      " 25%|██▍       | 371/1500 [4:32:15<13:47:58, 44.00s/it]"
     ]
    },
    {
     "name": "stdout",
     "output_type": "stream",
     "text": [
      "887\n",
      "0.3660751134956665\n",
      "0.31309565831274266\n",
      "795\n",
      "0.3281056541477507\n",
      "0.3281056541477507\n"
     ]
    },
    {
     "name": "stderr",
     "output_type": "stream",
     "text": [
      " 25%|██▍       | 372/1500 [4:32:59<13:46:27, 43.96s/it]"
     ]
    },
    {
     "name": "stdout",
     "output_type": "stream",
     "text": [
      "883\n",
      "0.36442426743706147\n",
      "0.3116837274973526\n",
      "778\n",
      "0.3210895583986793\n",
      "0.3210895583986793\n"
     ]
    },
    {
     "name": "stderr",
     "output_type": "stream",
     "text": [
      " 25%|██▍       | 373/1500 [4:33:44<13:51:41, 44.28s/it]"
     ]
    },
    {
     "name": "stdout",
     "output_type": "stream",
     "text": [
      "860\n",
      "0.35493190260008256\n",
      "0.3035651253088599\n",
      "784\n",
      "0.32356582748658685\n",
      "0.32356582748658685\n"
     ]
    },
    {
     "name": "stderr",
     "output_type": "stream",
     "text": [
      " 25%|██▍       | 374/1500 [4:34:28<13:49:11, 44.18s/it]"
     ]
    },
    {
     "name": "stdout",
     "output_type": "stream",
     "text": [
      "868\n",
      "0.3582335947172926\n",
      "0.30638898693963995\n",
      "787\n",
      "0.3248039620305406\n",
      "0.3248039620305406\n"
     ]
    },
    {
     "name": "stderr",
     "output_type": "stream",
     "text": [
      " 25%|██▌       | 375/1500 [4:35:12<13:47:25, 44.13s/it]"
     ]
    },
    {
     "name": "stdout",
     "output_type": "stream",
     "text": [
      "891\n",
      "0.36772595955427156\n",
      "0.3145075891281327\n",
      "794\n",
      "0.32769294263309945\n",
      "0.32769294263309945\n"
     ]
    },
    {
     "name": "stderr",
     "output_type": "stream",
     "text": [
      " 25%|██▌       | 376/1500 [4:35:56<13:46:02, 44.10s/it]"
     ]
    },
    {
     "name": "stdout",
     "output_type": "stream",
     "text": [
      "891\n",
      "0.36772595955427156\n",
      "0.3145075891281327\n",
      "793\n",
      "0.32728023111844823\n",
      "0.32728023111844823\n"
     ]
    },
    {
     "name": "stderr",
     "output_type": "stream",
     "text": [
      " 25%|██▌       | 377/1500 [4:36:40<13:44:23, 44.05s/it]"
     ]
    },
    {
     "name": "stdout",
     "output_type": "stream",
     "text": [
      "886\n",
      "0.3656624019810153\n",
      "0.3127426756088952\n",
      "775\n",
      "0.31985142385472554\n",
      "0.31985142385472554\n"
     ]
    },
    {
     "name": "stderr",
     "output_type": "stream",
     "text": [
      " 25%|██▌       | 378/1500 [4:37:24<13:43:20, 44.03s/it]"
     ]
    },
    {
     "name": "stdout",
     "output_type": "stream",
     "text": [
      "862\n",
      "0.35575732562938506\n",
      "0.3042710907165549\n",
      "776\n",
      "0.3202641353693768\n",
      "0.3202641353693768\n"
     ]
    },
    {
     "name": "stderr",
     "output_type": "stream",
     "text": [
      " 25%|██▌       | 379/1500 [4:38:08<13:42:38, 44.03s/it]"
     ]
    },
    {
     "name": "stdout",
     "output_type": "stream",
     "text": [
      "858\n",
      "0.35410647957078\n",
      "0.30285915990116485\n",
      "783\n",
      "0.32315311597193563\n",
      "0.32315311597193563\n"
     ]
    },
    {
     "name": "stderr",
     "output_type": "stream",
     "text": [
      " 25%|██▌       | 380/1500 [4:38:52<13:41:29, 44.01s/it]"
     ]
    },
    {
     "name": "stdout",
     "output_type": "stream",
     "text": [
      "888\n",
      "0.3664878250103178\n",
      "0.3134486410165902\n",
      "793\n",
      "0.32728023111844823\n",
      "0.32728023111844823\n"
     ]
    },
    {
     "name": "stderr",
     "output_type": "stream",
     "text": [
      " 25%|██▌       | 381/1500 [4:39:36<13:39:51, 43.96s/it]"
     ]
    },
    {
     "name": "stdout",
     "output_type": "stream",
     "text": [
      "890\n",
      "0.3673132480396203\n",
      "0.3141546064242852\n",
      "788\n",
      "0.3252166735451919\n",
      "0.3252166735451919\n"
     ]
    },
    {
     "name": "stderr",
     "output_type": "stream",
     "text": [
      " 25%|██▌       | 382/1500 [4:40:20<13:39:49, 44.00s/it]"
     ]
    },
    {
     "name": "stdout",
     "output_type": "stream",
     "text": [
      "882\n",
      "0.36401155592241025\n",
      "0.31133074479350514\n",
      "774\n",
      "0.3194387123400743\n",
      "0.3194387123400743\n"
     ]
    },
    {
     "name": "stderr",
     "output_type": "stream",
     "text": [
      " 26%|██▌       | 383/1500 [4:41:04<13:39:29, 44.02s/it]"
     ]
    },
    {
     "name": "stdout",
     "output_type": "stream",
     "text": [
      "870\n",
      "0.35905901774659515\n",
      "0.30709495234733497\n",
      "775\n",
      "0.31985142385472554\n",
      "0.31985142385472554\n"
     ]
    },
    {
     "name": "stderr",
     "output_type": "stream",
     "text": [
      " 26%|██▌       | 384/1500 [4:41:48<13:39:10, 44.04s/it]"
     ]
    },
    {
     "name": "stdout",
     "output_type": "stream",
     "text": [
      "862\n",
      "0.35575732562938506\n",
      "0.3042710907165549\n",
      "786\n",
      "0.3243912505158894\n",
      "0.3243912505158894\n"
     ]
    },
    {
     "name": "stderr",
     "output_type": "stream",
     "text": [
      " 26%|██▌       | 385/1500 [4:42:32<13:37:58, 44.02s/it]"
     ]
    },
    {
     "name": "stdout",
     "output_type": "stream",
     "text": [
      "878\n",
      "0.3623607098638052\n",
      "0.30991881397811505\n",
      "803\n",
      "0.33140734626496077\n",
      "0.33140734626496077\n"
     ]
    },
    {
     "name": "stderr",
     "output_type": "stream",
     "text": [
      " 26%|██▌       | 386/1500 [4:43:16<13:36:47, 43.99s/it]"
     ]
    },
    {
     "name": "stdout",
     "output_type": "stream",
     "text": [
      "884\n",
      "0.36483697895171274\n",
      "0.31203671020120016\n",
      "799\n",
      "0.3297565002063558\n",
      "0.3297565002063558\n"
     ]
    },
    {
     "name": "stderr",
     "output_type": "stream",
     "text": [
      " 26%|██▌       | 387/1500 [4:44:00<13:36:50, 44.03s/it]"
     ]
    },
    {
     "name": "stdout",
     "output_type": "stream",
     "text": [
      "884\n",
      "0.36483697895171274\n",
      "0.31203671020120016\n",
      "783\n",
      "0.32315311597193563\n",
      "0.32315311597193563\n"
     ]
    },
    {
     "name": "stderr",
     "output_type": "stream",
     "text": [
      " 26%|██▌       | 388/1500 [4:44:44<13:36:11, 44.04s/it]"
     ]
    },
    {
     "name": "stdout",
     "output_type": "stream",
     "text": [
      "871\n",
      "0.3594717292612464\n",
      "0.3074479350511825\n",
      "772\n",
      "0.31861328931077176\n",
      "0.31861328931077176\n"
     ]
    },
    {
     "name": "stderr",
     "output_type": "stream",
     "text": [
      " 26%|██▌       | 389/1500 [4:45:28<13:34:48, 44.00s/it]"
     ]
    },
    {
     "name": "stdout",
     "output_type": "stream",
     "text": [
      "860\n",
      "0.35493190260008256\n",
      "0.3035651253088599\n",
      "786\n",
      "0.3243912505158894\n",
      "0.3243912505158894\n"
     ]
    },
    {
     "name": "stderr",
     "output_type": "stream",
     "text": [
      " 26%|██▌       | 390/1500 [4:46:12<13:34:15, 44.01s/it]"
     ]
    },
    {
     "name": "stdout",
     "output_type": "stream",
     "text": [
      "874\n",
      "0.36070986380520015\n",
      "0.308506883162725\n",
      "799\n",
      "0.3297565002063558\n",
      "0.3297565002063558\n"
     ]
    },
    {
     "name": "stderr",
     "output_type": "stream",
     "text": [
      " 26%|██▌       | 391/1500 [4:46:56<13:33:29, 44.01s/it]"
     ]
    },
    {
     "name": "stdout",
     "output_type": "stream",
     "text": [
      "886\n",
      "0.3656624019810153\n",
      "0.3127426756088952\n",
      "794\n",
      "0.32769294263309945\n",
      "0.32769294263309945\n"
     ]
    },
    {
     "name": "stderr",
     "output_type": "stream",
     "text": [
      " 26%|██▌       | 392/1500 [4:47:40<13:32:20, 43.99s/it]"
     ]
    },
    {
     "name": "stdout",
     "output_type": "stream",
     "text": [
      "884\n",
      "0.36483697895171274\n",
      "0.31203671020120016\n",
      "782\n",
      "0.32274040445728436\n",
      "0.32274040445728436\n"
     ]
    },
    {
     "name": "stderr",
     "output_type": "stream",
     "text": [
      " 26%|██▌       | 393/1500 [4:48:24<13:31:00, 43.96s/it]"
     ]
    },
    {
     "name": "stdout",
     "output_type": "stream",
     "text": [
      "885\n",
      "0.365249690466364\n",
      "0.31238969290504764\n",
      "769\n",
      "0.317375154766818\n",
      "0.317375154766818\n"
     ]
    },
    {
     "name": "stderr",
     "output_type": "stream",
     "text": [
      " 26%|██▋       | 394/1500 [4:49:08<13:30:30, 43.97s/it]"
     ]
    },
    {
     "name": "stdout",
     "output_type": "stream",
     "text": [
      "852\n",
      "0.35163021048287246\n",
      "0.3007412636780798\n",
      "784\n",
      "0.32356582748658685\n",
      "0.32356582748658685\n"
     ]
    },
    {
     "name": "stderr",
     "output_type": "stream",
     "text": [
      " 26%|██▋       | 395/1500 [4:49:52<13:30:22, 44.00s/it]"
     ]
    },
    {
     "name": "stdout",
     "output_type": "stream",
     "text": [
      "872\n",
      "0.35988444077589765\n",
      "0.30780091775503\n",
      "794\n",
      "0.32769294263309945\n",
      "0.32769294263309945\n"
     ]
    },
    {
     "name": "stderr",
     "output_type": "stream",
     "text": [
      " 26%|██▋       | 396/1500 [4:50:36<13:29:16, 43.98s/it]"
     ]
    },
    {
     "name": "stdout",
     "output_type": "stream",
     "text": [
      "893\n",
      "0.36855138258357406\n",
      "0.3152135545358277\n",
      "796\n",
      "0.328518365662402\n",
      "0.328518365662402\n"
     ]
    },
    {
     "name": "stderr",
     "output_type": "stream",
     "text": [
      " 26%|██▋       | 397/1500 [4:51:20<13:28:11, 43.96s/it]"
     ]
    },
    {
     "name": "stdout",
     "output_type": "stream",
     "text": [
      "887\n",
      "0.3660751134956665\n",
      "0.31309565831274266\n",
      "792\n",
      "0.32686751960379695\n",
      "0.32686751960379695\n"
     ]
    },
    {
     "name": "stderr",
     "output_type": "stream",
     "text": [
      " 27%|██▋       | 398/1500 [4:52:04<13:27:51, 43.98s/it]"
     ]
    },
    {
     "name": "stdout",
     "output_type": "stream",
     "text": [
      "877\n",
      "0.3619479983491539\n",
      "0.30956583127426757\n",
      "778\n",
      "0.3210895583986793\n",
      "0.3210895583986793\n"
     ]
    },
    {
     "name": "stderr",
     "output_type": "stream",
     "text": [
      " 27%|██▋       | 399/1500 [4:52:48<13:26:07, 43.93s/it]"
     ]
    },
    {
     "name": "stdout",
     "output_type": "stream",
     "text": [
      "857\n",
      "0.3536937680561288\n",
      "0.3025061771973173\n",
      "782\n",
      "0.32274040445728436\n",
      "0.32274040445728436\n"
     ]
    },
    {
     "name": "stderr",
     "output_type": "stream",
     "text": [
      " 27%|██▋       | 400/1500 [4:53:33<13:31:42, 44.27s/it]"
     ]
    },
    {
     "name": "stdout",
     "output_type": "stream",
     "text": [
      "860\n",
      "0.35493190260008256\n",
      "0.3035651253088599\n",
      "794\n",
      "0.32769294263309945\n",
      "0.32769294263309945\n"
     ]
    },
    {
     "name": "stderr",
     "output_type": "stream",
     "text": [
      " 27%|██▋       | 401/1500 [4:54:17<13:29:16, 44.18s/it]"
     ]
    },
    {
     "name": "stdout",
     "output_type": "stream",
     "text": [
      "888\n",
      "0.3664878250103178\n",
      "0.3134486410165902\n",
      "793\n",
      "0.32728023111844823\n",
      "0.32728023111844823\n"
     ]
    },
    {
     "name": "stderr",
     "output_type": "stream",
     "text": [
      " 27%|██▋       | 402/1500 [4:55:01<13:27:46, 44.14s/it]"
     ]
    },
    {
     "name": "stdout",
     "output_type": "stream",
     "text": [
      "888\n",
      "0.3664878250103178\n",
      "0.3134486410165902\n",
      "795\n",
      "0.3281056541477507\n",
      "0.3281056541477507\n"
     ]
    },
    {
     "name": "stderr",
     "output_type": "stream",
     "text": [
      " 27%|██▋       | 403/1500 [4:55:45<13:26:13, 44.10s/it]"
     ]
    },
    {
     "name": "stdout",
     "output_type": "stream",
     "text": [
      "882\n",
      "0.36401155592241025\n",
      "0.31133074479350514\n",
      "783\n",
      "0.32315311597193563\n",
      "0.32315311597193563\n"
     ]
    },
    {
     "name": "stderr",
     "output_type": "stream",
     "text": [
      " 27%|██▋       | 404/1500 [4:56:29<13:25:03, 44.07s/it]"
     ]
    },
    {
     "name": "stdout",
     "output_type": "stream",
     "text": [
      "863\n",
      "0.35617003714403633\n",
      "0.3046240734204024\n",
      "781\n",
      "0.3223276929426331\n",
      "0.3223276929426331\n"
     ]
    },
    {
     "name": "stderr",
     "output_type": "stream",
     "text": [
      " 27%|██▋       | 405/1500 [4:57:13<13:23:56, 44.05s/it]"
     ]
    },
    {
     "name": "stdout",
     "output_type": "stream",
     "text": [
      "863\n",
      "0.35617003714403633\n",
      "0.3046240734204024\n",
      "785\n",
      "0.32397853900123813\n",
      "0.32397853900123813\n"
     ]
    },
    {
     "name": "stderr",
     "output_type": "stream",
     "text": [
      " 27%|██▋       | 406/1500 [4:57:57<13:23:22, 44.06s/it]"
     ]
    },
    {
     "name": "stdout",
     "output_type": "stream",
     "text": [
      "883\n",
      "0.36442426743706147\n",
      "0.3116837274973526\n",
      "797\n",
      "0.3289310771770532\n",
      "0.3289310771770532\n"
     ]
    },
    {
     "name": "stderr",
     "output_type": "stream",
     "text": [
      " 27%|██▋       | 407/1500 [4:58:41<13:22:14, 44.04s/it]"
     ]
    },
    {
     "name": "stdout",
     "output_type": "stream",
     "text": [
      "885\n",
      "0.365249690466364\n",
      "0.31238969290504764\n",
      "790\n",
      "0.32604209657449446\n",
      "0.32604209657449446\n"
     ]
    },
    {
     "name": "stderr",
     "output_type": "stream",
     "text": [
      " 27%|██▋       | 408/1500 [4:59:25<13:21:10, 44.02s/it]"
     ]
    },
    {
     "name": "stdout",
     "output_type": "stream",
     "text": [
      "874\n",
      "0.36070986380520015\n",
      "0.308506883162725\n",
      "779\n",
      "0.3215022699133306\n",
      "0.3215022699133306\n"
     ]
    },
    {
     "name": "stderr",
     "output_type": "stream",
     "text": [
      " 27%|██▋       | 409/1500 [5:00:10<13:24:42, 44.26s/it]"
     ]
    },
    {
     "name": "stdout",
     "output_type": "stream",
     "text": [
      "879\n",
      "0.3627734213784565\n",
      "0.3102717966819626\n",
      "783\n",
      "0.32315311597193563\n",
      "0.32315311597193563\n"
     ]
    },
    {
     "name": "stderr",
     "output_type": "stream",
     "text": [
      " 27%|██▋       | 410/1500 [5:00:54<13:23:00, 44.20s/it]"
     ]
    },
    {
     "name": "stdout",
     "output_type": "stream",
     "text": [
      "851\n",
      "0.3512174989682212\n",
      "0.30038828097423226\n",
      "792\n",
      "0.32686751960379695\n",
      "0.32686751960379695\n"
     ]
    },
    {
     "name": "stderr",
     "output_type": "stream",
     "text": [
      " 27%|██▋       | 411/1500 [5:01:38<13:21:37, 44.17s/it]"
     ]
    },
    {
     "name": "stdout",
     "output_type": "stream",
     "text": [
      "866\n",
      "0.3574081716879901\n",
      "0.30568302153194493\n",
      "800\n",
      "0.330169211721007\n",
      "0.330169211721007\n"
     ]
    },
    {
     "name": "stderr",
     "output_type": "stream",
     "text": [
      " 27%|██▋       | 412/1500 [5:02:22<13:19:41, 44.10s/it]"
     ]
    },
    {
     "name": "stdout",
     "output_type": "stream",
     "text": [
      "883\n",
      "0.36442426743706147\n",
      "0.3116837274973526\n",
      "801\n",
      "0.33058192323565827\n",
      "0.33058192323565827\n"
     ]
    },
    {
     "name": "stderr",
     "output_type": "stream",
     "text": [
      " 28%|██▊       | 413/1500 [5:03:06<13:18:18, 44.06s/it]"
     ]
    },
    {
     "name": "stdout",
     "output_type": "stream",
     "text": [
      "885\n",
      "0.365249690466364\n",
      "0.31238969290504764\n",
      "793\n",
      "0.32728023111844823\n",
      "0.32728023111844823\n"
     ]
    },
    {
     "name": "stderr",
     "output_type": "stream",
     "text": [
      " 28%|██▊       | 414/1500 [5:03:50<13:17:04, 44.04s/it]"
     ]
    },
    {
     "name": "stdout",
     "output_type": "stream",
     "text": [
      "873\n",
      "0.3602971522905489\n",
      "0.3081539004588775\n",
      "784\n",
      "0.32356582748658685\n",
      "0.32356582748658685\n"
     ]
    },
    {
     "name": "stderr",
     "output_type": "stream",
     "text": [
      " 28%|██▊       | 415/1500 [5:04:34<13:15:57, 44.02s/it]"
     ]
    },
    {
     "name": "stdout",
     "output_type": "stream",
     "text": [
      "860\n",
      "0.35493190260008256\n",
      "0.3035651253088599\n",
      "784\n",
      "0.32356582748658685\n",
      "0.32356582748658685\n"
     ]
    },
    {
     "name": "stderr",
     "output_type": "stream",
     "text": [
      " 28%|██▊       | 416/1500 [5:05:18<13:15:04, 44.01s/it]"
     ]
    },
    {
     "name": "stdout",
     "output_type": "stream",
     "text": [
      "868\n",
      "0.3582335947172926\n",
      "0.30638898693963995\n",
      "794\n",
      "0.32769294263309945\n",
      "0.32769294263309945\n"
     ]
    },
    {
     "name": "stderr",
     "output_type": "stream",
     "text": [
      " 28%|██▊       | 417/1500 [5:06:02<13:14:46, 44.03s/it]"
     ]
    },
    {
     "name": "stdout",
     "output_type": "stream",
     "text": [
      "886\n",
      "0.3656624019810153\n",
      "0.3127426756088952\n",
      "794\n",
      "0.32769294263309945\n",
      "0.32769294263309945\n"
     ]
    },
    {
     "name": "stderr",
     "output_type": "stream",
     "text": [
      " 28%|██▊       | 418/1500 [5:06:46<13:13:28, 44.00s/it]"
     ]
    },
    {
     "name": "stdout",
     "output_type": "stream",
     "text": [
      "887\n",
      "0.3660751134956665\n",
      "0.31309565831274266\n",
      "793\n",
      "0.32728023111844823\n",
      "0.32728023111844823\n"
     ]
    },
    {
     "name": "stderr",
     "output_type": "stream",
     "text": [
      " 28%|██▊       | 419/1500 [5:07:30<13:12:36, 43.99s/it]"
     ]
    },
    {
     "name": "stdout",
     "output_type": "stream",
     "text": [
      "885\n",
      "0.365249690466364\n",
      "0.31238969290504764\n",
      "788\n",
      "0.3252166735451919\n",
      "0.3252166735451919\n"
     ]
    },
    {
     "name": "stderr",
     "output_type": "stream",
     "text": [
      " 28%|██▊       | 420/1500 [5:08:14<13:12:59, 44.06s/it]"
     ]
    },
    {
     "name": "stdout",
     "output_type": "stream",
     "text": [
      "863\n",
      "0.35617003714403633\n",
      "0.3046240734204024\n",
      "792\n",
      "0.32686751960379695\n",
      "0.32686751960379695\n"
     ]
    },
    {
     "name": "stderr",
     "output_type": "stream",
     "text": [
      " 28%|██▊       | 421/1500 [5:08:58<13:12:02, 44.04s/it]"
     ]
    },
    {
     "name": "stdout",
     "output_type": "stream",
     "text": [
      "862\n",
      "0.35575732562938506\n",
      "0.3042710907165549\n",
      "800\n",
      "0.330169211721007\n",
      "0.330169211721007\n"
     ]
    },
    {
     "name": "stderr",
     "output_type": "stream",
     "text": [
      " 28%|██▊       | 422/1500 [5:09:42<13:11:57, 44.08s/it]"
     ]
    },
    {
     "name": "stdout",
     "output_type": "stream",
     "text": [
      "876\n",
      "0.3615352868345027\n",
      "0.30921284857042003\n",
      "790\n",
      "0.32604209657449446\n",
      "0.32604209657449446\n"
     ]
    },
    {
     "name": "stderr",
     "output_type": "stream",
     "text": [
      " 28%|██▊       | 423/1500 [5:10:26<13:11:18, 44.08s/it]"
     ]
    },
    {
     "name": "stdout",
     "output_type": "stream",
     "text": [
      "889\n",
      "0.36690053652496907\n",
      "0.3138016237204377\n",
      "788\n",
      "0.3252166735451919\n",
      "0.3252166735451919\n"
     ]
    },
    {
     "name": "stderr",
     "output_type": "stream",
     "text": [
      " 28%|██▊       | 424/1500 [5:11:10<13:09:32, 44.03s/it]"
     ]
    },
    {
     "name": "stdout",
     "output_type": "stream",
     "text": [
      "875\n",
      "0.3611225753198514\n",
      "0.30885986586657255\n",
      "775\n",
      "0.31985142385472554\n",
      "0.31985142385472554\n"
     ]
    },
    {
     "name": "stderr",
     "output_type": "stream",
     "text": [
      " 28%|██▊       | 425/1500 [5:11:54<13:08:03, 43.98s/it]"
     ]
    },
    {
     "name": "stdout",
     "output_type": "stream",
     "text": [
      "862\n",
      "0.35575732562938506\n",
      "0.3042710907165549\n",
      "783\n",
      "0.32315311597193563\n",
      "0.32315311597193563\n"
     ]
    },
    {
     "name": "stderr",
     "output_type": "stream",
     "text": [
      " 28%|██▊       | 426/1500 [5:12:38<13:06:48, 43.96s/it]"
     ]
    },
    {
     "name": "stdout",
     "output_type": "stream",
     "text": [
      "856\n",
      "0.3532810565414775\n",
      "0.30215319449346983\n",
      "800\n",
      "0.330169211721007\n",
      "0.330169211721007\n"
     ]
    },
    {
     "name": "stderr",
     "output_type": "stream",
     "text": [
      " 28%|██▊       | 427/1500 [5:13:22<13:06:59, 44.01s/it]"
     ]
    },
    {
     "name": "stdout",
     "output_type": "stream",
     "text": [
      "871\n",
      "0.3594717292612464\n",
      "0.3074479350511825\n",
      "806\n",
      "0.3326454808089146\n",
      "0.3326454808089146\n"
     ]
    },
    {
     "name": "stderr",
     "output_type": "stream",
     "text": [
      " 29%|██▊       | 428/1500 [5:14:06<13:06:37, 44.03s/it]"
     ]
    },
    {
     "name": "stdout",
     "output_type": "stream",
     "text": [
      "882\n",
      "0.36401155592241025\n",
      "0.31133074479350514\n",
      "793\n",
      "0.32728023111844823\n",
      "0.32728023111844823\n"
     ]
    },
    {
     "name": "stderr",
     "output_type": "stream",
     "text": [
      " 29%|██▊       | 429/1500 [5:14:50<13:05:18, 44.00s/it]"
     ]
    },
    {
     "name": "stdout",
     "output_type": "stream",
     "text": [
      "877\n",
      "0.3619479983491539\n",
      "0.30956583127426757\n",
      "784\n",
      "0.32356582748658685\n",
      "0.32356582748658685\n"
     ]
    },
    {
     "name": "stderr",
     "output_type": "stream",
     "text": [
      " 29%|██▊       | 430/1500 [5:15:34<13:04:39, 44.00s/it]"
     ]
    },
    {
     "name": "stdout",
     "output_type": "stream",
     "text": [
      "870\n",
      "0.35905901774659515\n",
      "0.30709495234733497\n",
      "779\n",
      "0.3215022699133306\n",
      "0.3215022699133306\n"
     ]
    },
    {
     "name": "stderr",
     "output_type": "stream",
     "text": [
      " 29%|██▊       | 431/1500 [5:16:18<13:04:21, 44.02s/it]"
     ]
    },
    {
     "name": "stdout",
     "output_type": "stream",
     "text": [
      "857\n",
      "0.3536937680561288\n",
      "0.3025061771973173\n",
      "787\n",
      "0.3248039620305406\n",
      "0.3248039620305406\n"
     ]
    },
    {
     "name": "stderr",
     "output_type": "stream",
     "text": [
      " 29%|██▉       | 432/1500 [5:17:02<13:02:37, 43.97s/it]"
     ]
    },
    {
     "name": "stdout",
     "output_type": "stream",
     "text": [
      "869\n",
      "0.3586463062319439\n",
      "0.3067419696434875\n",
      "794\n",
      "0.32769294263309945\n",
      "0.32769294263309945\n"
     ]
    },
    {
     "name": "stderr",
     "output_type": "stream",
     "text": [
      " 29%|██▉       | 433/1500 [5:17:46<13:01:42, 43.96s/it]"
     ]
    },
    {
     "name": "stdout",
     "output_type": "stream",
     "text": [
      "886\n",
      "0.3656624019810153\n",
      "0.3127426756088952\n",
      "796\n",
      "0.328518365662402\n",
      "0.328518365662402\n"
     ]
    },
    {
     "name": "stderr",
     "output_type": "stream",
     "text": [
      " 29%|██▉       | 434/1500 [5:18:30<13:01:20, 43.98s/it]"
     ]
    },
    {
     "name": "stdout",
     "output_type": "stream",
     "text": [
      "880\n",
      "0.3631861328931077\n",
      "0.31062477938581007\n",
      "789\n",
      "0.3256293850598432\n",
      "0.3256293850598432\n"
     ]
    },
    {
     "name": "stderr",
     "output_type": "stream",
     "text": [
      " 29%|██▉       | 435/1500 [5:19:14<13:01:24, 44.02s/it]"
     ]
    },
    {
     "name": "stdout",
     "output_type": "stream",
     "text": [
      "873\n",
      "0.3602971522905489\n",
      "0.3081539004588775\n",
      "785\n",
      "0.32397853900123813\n",
      "0.32397853900123813\n"
     ]
    },
    {
     "name": "stderr",
     "output_type": "stream",
     "text": [
      " 29%|██▉       | 436/1500 [5:19:59<13:06:16, 44.34s/it]"
     ]
    },
    {
     "name": "stdout",
     "output_type": "stream",
     "text": [
      "858\n",
      "0.35410647957078\n",
      "0.30285915990116485\n",
      "779\n",
      "0.3215022699133306\n",
      "0.3215022699133306\n"
     ]
    },
    {
     "name": "stderr",
     "output_type": "stream",
     "text": [
      " 29%|██▉       | 437/1500 [5:20:43<13:03:21, 44.22s/it]"
     ]
    },
    {
     "name": "stdout",
     "output_type": "stream",
     "text": [
      "854\n",
      "0.352455633512175\n",
      "0.3014472290857748\n",
      "793\n",
      "0.32728023111844823\n",
      "0.32728023111844823\n"
     ]
    },
    {
     "name": "stderr",
     "output_type": "stream",
     "text": [
      " 29%|██▉       | 438/1500 [5:21:27<13:01:36, 44.16s/it]"
     ]
    },
    {
     "name": "stdout",
     "output_type": "stream",
     "text": [
      "882\n",
      "0.36401155592241025\n",
      "0.31133074479350514\n",
      "800\n",
      "0.330169211721007\n",
      "0.330169211721007\n"
     ]
    },
    {
     "name": "stderr",
     "output_type": "stream",
     "text": [
      " 29%|██▉       | 439/1500 [5:22:11<13:00:29, 44.14s/it]"
     ]
    },
    {
     "name": "stdout",
     "output_type": "stream",
     "text": [
      "881\n",
      "0.36359884440775897\n",
      "0.3109777620896576\n",
      "777\n",
      "0.3206768468840281\n",
      "0.3206768468840281\n"
     ]
    },
    {
     "name": "stderr",
     "output_type": "stream",
     "text": [
      " 29%|██▉       | 440/1500 [5:22:55<12:58:44, 44.08s/it]"
     ]
    },
    {
     "name": "stdout",
     "output_type": "stream",
     "text": [
      "865\n",
      "0.35699546017333883\n",
      "0.30533003882809745\n",
      "778\n",
      "0.3210895583986793\n",
      "0.3210895583986793\n"
     ]
    },
    {
     "name": "stderr",
     "output_type": "stream",
     "text": [
      " 29%|██▉       | 441/1500 [5:23:39<12:57:25, 44.05s/it]"
     ]
    },
    {
     "name": "stdout",
     "output_type": "stream",
     "text": [
      "858\n",
      "0.35410647957078\n",
      "0.30285915990116485\n",
      "788\n",
      "0.3252166735451919\n",
      "0.3252166735451919\n"
     ]
    },
    {
     "name": "stderr",
     "output_type": "stream",
     "text": [
      " 29%|██▉       | 442/1500 [5:24:23<12:56:22, 44.03s/it]"
     ]
    },
    {
     "name": "stdout",
     "output_type": "stream",
     "text": [
      "857\n",
      "0.3536937680561288\n",
      "0.3025061771973173\n",
      "786\n",
      "0.3243912505158894\n",
      "0.3243912505158894\n"
     ]
    },
    {
     "name": "stderr",
     "output_type": "stream",
     "text": [
      " 30%|██▉       | 443/1500 [5:25:07<12:55:28, 44.02s/it]"
     ]
    },
    {
     "name": "stdout",
     "output_type": "stream",
     "text": [
      "878\n",
      "0.3623607098638052\n",
      "0.30991881397811505\n",
      "798\n",
      "0.3293437886917045\n",
      "0.3293437886917045\n"
     ]
    },
    {
     "name": "stderr",
     "output_type": "stream",
     "text": [
      " 30%|██▉       | 444/1500 [5:25:51<12:54:16, 43.99s/it]"
     ]
    },
    {
     "name": "stdout",
     "output_type": "stream",
     "text": [
      "889\n",
      "0.36690053652496907\n",
      "0.3138016237204377\n",
      "790\n",
      "0.32604209657449446\n",
      "0.32604209657449446\n"
     ]
    },
    {
     "name": "stderr",
     "output_type": "stream",
     "text": [
      " 30%|██▉       | 445/1500 [5:26:35<12:52:48, 43.95s/it]"
     ]
    },
    {
     "name": "stdout",
     "output_type": "stream",
     "text": [
      "878\n",
      "0.3623607098638052\n",
      "0.30991881397811505\n",
      "780\n",
      "0.32191498142798186\n",
      "0.32191498142798186\n"
     ]
    },
    {
     "name": "stderr",
     "output_type": "stream",
     "text": [
      " 30%|██▉       | 446/1500 [5:27:19<12:52:58, 44.00s/it]"
     ]
    },
    {
     "name": "stdout",
     "output_type": "stream",
     "text": [
      "873\n",
      "0.3602971522905489\n",
      "0.3081539004588775\n",
      "778\n",
      "0.3210895583986793\n",
      "0.3210895583986793\n"
     ]
    },
    {
     "name": "stderr",
     "output_type": "stream",
     "text": [
      " 30%|██▉       | 447/1500 [5:28:03<12:52:08, 44.00s/it]"
     ]
    },
    {
     "name": "stdout",
     "output_type": "stream",
     "text": [
      "869\n",
      "0.3586463062319439\n",
      "0.3067419696434875\n",
      "791\n",
      "0.3264548080891457\n",
      "0.3264548080891457\n"
     ]
    },
    {
     "name": "stderr",
     "output_type": "stream",
     "text": [
      " 30%|██▉       | 448/1500 [5:28:47<12:50:40, 43.96s/it]"
     ]
    },
    {
     "name": "stdout",
     "output_type": "stream",
     "text": [
      "876\n",
      "0.3615352868345027\n",
      "0.30921284857042003\n",
      "798\n",
      "0.3293437886917045\n",
      "0.3293437886917045\n"
     ]
    },
    {
     "name": "stderr",
     "output_type": "stream",
     "text": [
      " 30%|██▉       | 449/1500 [5:29:30<12:48:54, 43.90s/it]"
     ]
    },
    {
     "name": "stdout",
     "output_type": "stream",
     "text": [
      "890\n",
      "0.3673132480396203\n",
      "0.3141546064242852\n",
      "795\n",
      "0.3281056541477507\n",
      "0.3281056541477507\n"
     ]
    },
    {
     "name": "stderr",
     "output_type": "stream",
     "text": [
      " 30%|███       | 450/1500 [5:30:15<12:49:46, 43.99s/it]"
     ]
    },
    {
     "name": "stdout",
     "output_type": "stream",
     "text": [
      "878\n",
      "0.3623607098638052\n",
      "0.30991881397811505\n",
      "785\n",
      "0.32397853900123813\n",
      "0.32397853900123813\n"
     ]
    },
    {
     "name": "stderr",
     "output_type": "stream",
     "text": [
      " 30%|███       | 451/1500 [5:30:59<12:49:06, 43.99s/it]"
     ]
    },
    {
     "name": "stdout",
     "output_type": "stream",
     "text": [
      "865\n",
      "0.35699546017333883\n",
      "0.30533003882809745\n",
      "784\n",
      "0.32356582748658685\n",
      "0.32356582748658685\n"
     ]
    },
    {
     "name": "stderr",
     "output_type": "stream",
     "text": [
      " 30%|███       | 452/1500 [5:31:43<12:49:10, 44.04s/it]"
     ]
    },
    {
     "name": "stdout",
     "output_type": "stream",
     "text": [
      "862\n",
      "0.35575732562938506\n",
      "0.3042710907165549\n",
      "787\n",
      "0.3248039620305406\n",
      "0.3248039620305406\n"
     ]
    },
    {
     "name": "stderr",
     "output_type": "stream",
     "text": [
      " 30%|███       | 453/1500 [5:32:27<12:47:32, 43.99s/it]"
     ]
    },
    {
     "name": "stdout",
     "output_type": "stream",
     "text": [
      "868\n",
      "0.3582335947172926\n",
      "0.30638898693963995\n",
      "804\n",
      "0.33182005777961204\n",
      "0.33182005777961204\n"
     ]
    },
    {
     "name": "stderr",
     "output_type": "stream",
     "text": [
      " 30%|███       | 454/1500 [5:33:10<12:46:18, 43.96s/it]"
     ]
    },
    {
     "name": "stdout",
     "output_type": "stream",
     "text": [
      "888\n",
      "0.3664878250103178\n",
      "0.3134486410165902\n",
      "803\n",
      "0.33140734626496077\n",
      "0.33140734626496077\n"
     ]
    },
    {
     "name": "stderr",
     "output_type": "stream",
     "text": [
      " 30%|███       | 455/1500 [5:33:54<12:45:07, 43.93s/it]"
     ]
    },
    {
     "name": "stdout",
     "output_type": "stream",
     "text": [
      "883\n",
      "0.36442426743706147\n",
      "0.3116837274973526\n",
      "791\n",
      "0.3264548080891457\n",
      "0.3264548080891457\n"
     ]
    },
    {
     "name": "stderr",
     "output_type": "stream",
     "text": [
      " 30%|███       | 456/1500 [5:34:38<12:44:20, 43.93s/it]"
     ]
    },
    {
     "name": "stdout",
     "output_type": "stream",
     "text": [
      "869\n",
      "0.3586463062319439\n",
      "0.3067419696434875\n",
      "777\n",
      "0.3206768468840281\n",
      "0.3206768468840281\n"
     ]
    },
    {
     "name": "stderr",
     "output_type": "stream",
     "text": [
      " 30%|███       | 457/1500 [5:35:22<12:44:10, 43.96s/it]"
     ]
    },
    {
     "name": "stdout",
     "output_type": "stream",
     "text": [
      "857\n",
      "0.3536937680561288\n",
      "0.3025061771973173\n",
      "783\n",
      "0.32315311597193563\n",
      "0.32315311597193563\n"
     ]
    },
    {
     "name": "stderr",
     "output_type": "stream",
     "text": [
      " 31%|███       | 458/1500 [5:36:06<12:43:33, 43.97s/it]"
     ]
    },
    {
     "name": "stdout",
     "output_type": "stream",
     "text": [
      "865\n",
      "0.35699546017333883\n",
      "0.30533003882809745\n",
      "795\n",
      "0.3281056541477507\n",
      "0.3281056541477507\n"
     ]
    },
    {
     "name": "stderr",
     "output_type": "stream",
     "text": [
      " 31%|███       | 459/1500 [5:36:50<12:42:23, 43.94s/it]"
     ]
    },
    {
     "name": "stdout",
     "output_type": "stream",
     "text": [
      "886\n",
      "0.3656624019810153\n",
      "0.3127426756088952\n",
      "794\n",
      "0.32769294263309945\n",
      "0.32769294263309945\n"
     ]
    },
    {
     "name": "stderr",
     "output_type": "stream",
     "text": [
      " 31%|███       | 460/1500 [5:37:34<12:41:17, 43.92s/it]"
     ]
    },
    {
     "name": "stdout",
     "output_type": "stream",
     "text": [
      "888\n",
      "0.3664878250103178\n",
      "0.3134486410165902\n",
      "789\n",
      "0.3256293850598432\n",
      "0.3256293850598432\n"
     ]
    },
    {
     "name": "stderr",
     "output_type": "stream",
     "text": [
      " 31%|███       | 461/1500 [5:38:18<12:40:36, 43.92s/it]"
     ]
    },
    {
     "name": "stdout",
     "output_type": "stream",
     "text": [
      "879\n",
      "0.3627734213784565\n",
      "0.3102717966819626\n",
      "778\n",
      "0.3210895583986793\n",
      "0.3210895583986793\n"
     ]
    },
    {
     "name": "stderr",
     "output_type": "stream",
     "text": [
      " 31%|███       | 462/1500 [5:39:02<12:40:57, 43.99s/it]"
     ]
    },
    {
     "name": "stdout",
     "output_type": "stream",
     "text": [
      "856\n",
      "0.3532810565414775\n",
      "0.30215319449346983\n",
      "787\n",
      "0.3248039620305406\n",
      "0.3248039620305406\n"
     ]
    },
    {
     "name": "stderr",
     "output_type": "stream",
     "text": [
      " 31%|███       | 463/1500 [5:39:46<12:39:40, 43.95s/it]"
     ]
    },
    {
     "name": "stdout",
     "output_type": "stream",
     "text": [
      "855\n",
      "0.35286834502682624\n",
      "0.3018002117896223\n",
      "792\n",
      "0.32686751960379695\n",
      "0.32686751960379695\n"
     ]
    },
    {
     "name": "stderr",
     "output_type": "stream",
     "text": [
      " 31%|███       | 464/1500 [5:40:30<12:39:40, 44.00s/it]"
     ]
    },
    {
     "name": "stdout",
     "output_type": "stream",
     "text": [
      "875\n",
      "0.3611225753198514\n",
      "0.30885986586657255\n",
      "796\n",
      "0.328518365662402\n",
      "0.328518365662402\n"
     ]
    },
    {
     "name": "stderr",
     "output_type": "stream",
     "text": [
      " 31%|███       | 465/1500 [5:41:14<12:39:55, 44.05s/it]"
     ]
    },
    {
     "name": "stdout",
     "output_type": "stream",
     "text": [
      "884\n",
      "0.36483697895171274\n",
      "0.31203671020120016\n",
      "797\n",
      "0.3289310771770532\n",
      "0.3289310771770532\n"
     ]
    },
    {
     "name": "stderr",
     "output_type": "stream",
     "text": [
      " 31%|███       | 466/1500 [5:41:58<12:39:08, 44.05s/it]"
     ]
    },
    {
     "name": "stdout",
     "output_type": "stream",
     "text": [
      "880\n",
      "0.3631861328931077\n",
      "0.31062477938581007\n",
      "781\n",
      "0.3223276929426331\n",
      "0.3223276929426331\n"
     ]
    },
    {
     "name": "stderr",
     "output_type": "stream",
     "text": [
      " 31%|███       | 467/1500 [5:42:43<12:43:03, 44.32s/it]"
     ]
    },
    {
     "name": "stdout",
     "output_type": "stream",
     "text": [
      "865\n",
      "0.35699546017333883\n",
      "0.30533003882809745\n",
      "781\n",
      "0.3223276929426331\n",
      "0.3223276929426331\n"
     ]
    },
    {
     "name": "stderr",
     "output_type": "stream",
     "text": [
      " 31%|███       | 468/1500 [5:43:27<12:41:06, 44.25s/it]"
     ]
    },
    {
     "name": "stdout",
     "output_type": "stream",
     "text": [
      "850\n",
      "0.35080478745356997\n",
      "0.3000352982703848\n",
      "787\n",
      "0.3248039620305406\n",
      "0.3248039620305406\n"
     ]
    },
    {
     "name": "stderr",
     "output_type": "stream",
     "text": [
      " 31%|███▏      | 469/1500 [5:44:11<12:39:59, 44.23s/it]"
     ]
    },
    {
     "name": "stdout",
     "output_type": "stream",
     "text": [
      "872\n",
      "0.35988444077589765\n",
      "0.30780091775503\n",
      "796\n",
      "0.328518365662402\n",
      "0.328518365662402\n"
     ]
    },
    {
     "name": "stderr",
     "output_type": "stream",
     "text": [
      " 31%|███▏      | 470/1500 [5:44:56<12:38:30, 44.18s/it]"
     ]
    },
    {
     "name": "stdout",
     "output_type": "stream",
     "text": [
      "875\n",
      "0.3611225753198514\n",
      "0.30885986586657255\n",
      "804\n",
      "0.33182005777961204\n",
      "0.33182005777961204\n"
     ]
    },
    {
     "name": "stderr",
     "output_type": "stream",
     "text": [
      " 31%|███▏      | 471/1500 [5:45:40<12:37:31, 44.17s/it]"
     ]
    },
    {
     "name": "stdout",
     "output_type": "stream",
     "text": [
      "882\n",
      "0.36401155592241025\n",
      "0.31133074479350514\n",
      "794\n",
      "0.32769294263309945\n",
      "0.32769294263309945\n"
     ]
    },
    {
     "name": "stderr",
     "output_type": "stream",
     "text": [
      " 31%|███▏      | 472/1500 [5:46:24<12:35:34, 44.10s/it]"
     ]
    },
    {
     "name": "stdout",
     "output_type": "stream",
     "text": [
      "882\n",
      "0.36401155592241025\n",
      "0.31133074479350514\n",
      "786\n",
      "0.3243912505158894\n",
      "0.3243912505158894\n"
     ]
    },
    {
     "name": "stderr",
     "output_type": "stream",
     "text": [
      " 32%|███▏      | 473/1500 [5:47:08<12:34:24, 44.07s/it]"
     ]
    },
    {
     "name": "stdout",
     "output_type": "stream",
     "text": [
      "853\n",
      "0.35204292199752374\n",
      "0.3010942463819273\n",
      "792\n",
      "0.32686751960379695\n",
      "0.32686751960379695\n"
     ]
    },
    {
     "name": "stderr",
     "output_type": "stream",
     "text": [
      " 32%|███▏      | 474/1500 [5:47:52<12:33:14, 44.05s/it]"
     ]
    },
    {
     "name": "stdout",
     "output_type": "stream",
     "text": [
      "865\n",
      "0.35699546017333883\n",
      "0.30533003882809745\n",
      "805\n",
      "0.3322327692942633\n",
      "0.3322327692942633\n"
     ]
    },
    {
     "name": "stderr",
     "output_type": "stream",
     "text": [
      " 32%|███▏      | 475/1500 [5:48:36<12:32:13, 44.03s/it]"
     ]
    },
    {
     "name": "stdout",
     "output_type": "stream",
     "text": [
      "881\n",
      "0.36359884440775897\n",
      "0.3109777620896576\n",
      "796\n",
      "0.328518365662402\n",
      "0.328518365662402\n"
     ]
    },
    {
     "name": "stderr",
     "output_type": "stream",
     "text": [
      " 32%|███▏      | 476/1500 [5:49:20<12:31:19, 44.02s/it]"
     ]
    },
    {
     "name": "stdout",
     "output_type": "stream",
     "text": [
      "884\n",
      "0.36483697895171274\n",
      "0.31203671020120016\n",
      "788\n",
      "0.3252166735451919\n",
      "0.3252166735451919\n"
     ]
    },
    {
     "name": "stderr",
     "output_type": "stream",
     "text": [
      " 32%|███▏      | 477/1500 [5:50:04<12:30:16, 44.00s/it]"
     ]
    },
    {
     "name": "stdout",
     "output_type": "stream",
     "text": [
      "878\n",
      "0.3623607098638052\n",
      "0.30991881397811505\n",
      "782\n",
      "0.32274040445728436\n",
      "0.32274040445728436\n"
     ]
    },
    {
     "name": "stderr",
     "output_type": "stream",
     "text": [
      " 32%|███▏      | 478/1500 [5:50:48<12:29:30, 44.00s/it]"
     ]
    },
    {
     "name": "stdout",
     "output_type": "stream",
     "text": [
      "866\n",
      "0.3574081716879901\n",
      "0.30568302153194493\n",
      "780\n",
      "0.32191498142798186\n",
      "0.32191498142798186\n"
     ]
    },
    {
     "name": "stderr",
     "output_type": "stream",
     "text": [
      " 32%|███▏      | 479/1500 [5:51:32<12:28:41, 44.00s/it]"
     ]
    },
    {
     "name": "stdout",
     "output_type": "stream",
     "text": [
      "858\n",
      "0.35410647957078\n",
      "0.30285915990116485\n",
      "795\n",
      "0.3281056541477507\n",
      "0.3281056541477507\n"
     ]
    },
    {
     "name": "stderr",
     "output_type": "stream",
     "text": [
      " 32%|███▏      | 480/1500 [5:52:16<12:27:41, 43.98s/it]"
     ]
    },
    {
     "name": "stdout",
     "output_type": "stream",
     "text": [
      "886\n",
      "0.3656624019810153\n",
      "0.3127426756088952\n",
      "788\n",
      "0.3252166735451919\n",
      "0.3252166735451919\n"
     ]
    },
    {
     "name": "stderr",
     "output_type": "stream",
     "text": [
      " 32%|███▏      | 481/1500 [5:52:59<12:26:20, 43.95s/it]"
     ]
    },
    {
     "name": "stdout",
     "output_type": "stream",
     "text": [
      "882\n",
      "0.36401155592241025\n",
      "0.31133074479350514\n",
      "797\n",
      "0.3289310771770532\n",
      "0.3289310771770532\n"
     ]
    },
    {
     "name": "stderr",
     "output_type": "stream",
     "text": [
      " 32%|███▏      | 482/1500 [5:53:43<12:26:11, 43.98s/it]"
     ]
    },
    {
     "name": "stdout",
     "output_type": "stream",
     "text": [
      "885\n",
      "0.365249690466364\n",
      "0.31238969290504764\n",
      "787\n",
      "0.3248039620305406\n",
      "0.3248039620305406\n"
     ]
    },
    {
     "name": "stderr",
     "output_type": "stream",
     "text": [
      " 32%|███▏      | 483/1500 [5:54:28<12:26:36, 44.05s/it]"
     ]
    },
    {
     "name": "stdout",
     "output_type": "stream",
     "text": [
      "866\n",
      "0.3574081716879901\n",
      "0.30568302153194493\n",
      "792\n",
      "0.32686751960379695\n",
      "0.32686751960379695\n"
     ]
    },
    {
     "name": "stderr",
     "output_type": "stream",
     "text": [
      " 32%|███▏      | 484/1500 [5:55:12<12:26:07, 44.06s/it]"
     ]
    },
    {
     "name": "stdout",
     "output_type": "stream",
     "text": [
      "855\n",
      "0.35286834502682624\n",
      "0.3018002117896223\n",
      "787\n",
      "0.3248039620305406\n",
      "0.3248039620305406\n"
     ]
    },
    {
     "name": "stderr",
     "output_type": "stream",
     "text": [
      " 32%|███▏      | 485/1500 [5:55:56<12:24:47, 44.03s/it]"
     ]
    },
    {
     "name": "stdout",
     "output_type": "stream",
     "text": [
      "874\n",
      "0.36070986380520015\n",
      "0.308506883162725\n",
      "794\n",
      "0.32769294263309945\n",
      "0.32769294263309945\n"
     ]
    },
    {
     "name": "stderr",
     "output_type": "stream",
     "text": [
      " 32%|███▏      | 486/1500 [5:56:40<12:23:26, 43.99s/it]"
     ]
    },
    {
     "name": "stdout",
     "output_type": "stream",
     "text": [
      "882\n",
      "0.36401155592241025\n",
      "0.31133074479350514\n",
      "791\n",
      "0.3264548080891457\n",
      "0.3264548080891457\n"
     ]
    },
    {
     "name": "stderr",
     "output_type": "stream",
     "text": [
      " 32%|███▏      | 487/1500 [5:57:24<12:23:46, 44.05s/it]"
     ]
    },
    {
     "name": "stdout",
     "output_type": "stream",
     "text": [
      "884\n",
      "0.36483697895171274\n",
      "0.31203671020120016\n",
      "791\n",
      "0.3264548080891457\n",
      "0.3264548080891457\n"
     ]
    },
    {
     "name": "stderr",
     "output_type": "stream",
     "text": [
      " 33%|███▎      | 488/1500 [5:58:08<12:22:37, 44.03s/it]"
     ]
    },
    {
     "name": "stdout",
     "output_type": "stream",
     "text": [
      "873\n",
      "0.3602971522905489\n",
      "0.3081539004588775\n",
      "786\n",
      "0.3243912505158894\n",
      "0.3243912505158894\n"
     ]
    },
    {
     "name": "stderr",
     "output_type": "stream",
     "text": [
      " 33%|███▎      | 489/1500 [5:58:52<12:21:02, 43.98s/it]"
     ]
    },
    {
     "name": "stdout",
     "output_type": "stream",
     "text": [
      "869\n",
      "0.3586463062319439\n",
      "0.3067419696434875\n",
      "785\n",
      "0.32397853900123813\n",
      "0.32397853900123813\n"
     ]
    },
    {
     "name": "stderr",
     "output_type": "stream",
     "text": [
      " 33%|███▎      | 490/1500 [5:59:36<12:20:01, 43.96s/it]"
     ]
    },
    {
     "name": "stdout",
     "output_type": "stream",
     "text": [
      "865\n",
      "0.35699546017333883\n",
      "0.30533003882809745\n",
      "798\n",
      "0.3293437886917045\n",
      "0.3293437886917045\n"
     ]
    },
    {
     "name": "stderr",
     "output_type": "stream",
     "text": [
      " 33%|███▎      | 491/1500 [6:00:19<12:18:45, 43.93s/it]"
     ]
    },
    {
     "name": "stdout",
     "output_type": "stream",
     "text": [
      "886\n",
      "0.3656624019810153\n",
      "0.3127426756088952\n",
      "787\n",
      "0.3248039620305406\n",
      "0.3248039620305406\n"
     ]
    },
    {
     "name": "stderr",
     "output_type": "stream",
     "text": [
      " 33%|███▎      | 492/1500 [6:01:03<12:18:07, 43.94s/it]"
     ]
    },
    {
     "name": "stdout",
     "output_type": "stream",
     "text": [
      "875\n",
      "0.3611225753198514\n",
      "0.30885986586657255\n",
      "789\n",
      "0.3256293850598432\n",
      "0.3256293850598432\n"
     ]
    },
    {
     "name": "stderr",
     "output_type": "stream",
     "text": [
      " 33%|███▎      | 493/1500 [6:01:47<12:17:43, 43.96s/it]"
     ]
    },
    {
     "name": "stdout",
     "output_type": "stream",
     "text": [
      "880\n",
      "0.3631861328931077\n",
      "0.31062477938581007\n",
      "785\n",
      "0.32397853900123813\n",
      "0.32397853900123813\n"
     ]
    },
    {
     "name": "stderr",
     "output_type": "stream",
     "text": [
      " 33%|███▎      | 494/1500 [6:02:31<12:17:20, 43.98s/it]"
     ]
    },
    {
     "name": "stdout",
     "output_type": "stream",
     "text": [
      "852\n",
      "0.35163021048287246\n",
      "0.3007412636780798\n",
      "787\n",
      "0.3248039620305406\n",
      "0.3248039620305406\n"
     ]
    },
    {
     "name": "stderr",
     "output_type": "stream",
     "text": [
      " 33%|███▎      | 495/1500 [6:03:15<12:16:18, 43.96s/it]"
     ]
    },
    {
     "name": "stdout",
     "output_type": "stream",
     "text": [
      "852\n",
      "0.35163021048287246\n",
      "0.3007412636780798\n",
      "793\n",
      "0.32728023111844823\n",
      "0.32728023111844823\n"
     ]
    },
    {
     "name": "stderr",
     "output_type": "stream",
     "text": [
      " 33%|███▎      | 496/1500 [6:03:59<12:15:37, 43.96s/it]"
     ]
    },
    {
     "name": "stdout",
     "output_type": "stream",
     "text": [
      "878\n",
      "0.3623607098638052\n",
      "0.30991881397811505\n",
      "791\n",
      "0.3264548080891457\n",
      "0.3264548080891457\n"
     ]
    },
    {
     "name": "stderr",
     "output_type": "stream",
     "text": [
      " 33%|███▎      | 497/1500 [6:04:43<12:14:36, 43.95s/it]"
     ]
    },
    {
     "name": "stdout",
     "output_type": "stream",
     "text": [
      "891\n",
      "0.36772595955427156\n",
      "0.3145075891281327\n",
      "793\n",
      "0.32728023111844823\n",
      "0.32728023111844823\n"
     ]
    },
    {
     "name": "stderr",
     "output_type": "stream",
     "text": [
      " 33%|███▎      | 498/1500 [6:05:27<12:13:59, 43.95s/it]"
     ]
    },
    {
     "name": "stdout",
     "output_type": "stream",
     "text": [
      "885\n",
      "0.365249690466364\n",
      "0.31238969290504764\n",
      "787\n",
      "0.3248039620305406\n",
      "0.3248039620305406\n"
     ]
    },
    {
     "name": "stderr",
     "output_type": "stream",
     "text": [
      " 33%|███▎      | 499/1500 [6:06:11<12:13:27, 43.96s/it]"
     ]
    },
    {
     "name": "stdout",
     "output_type": "stream",
     "text": [
      "866\n",
      "0.3574081716879901\n",
      "0.30568302153194493\n",
      "790\n",
      "0.32604209657449446\n",
      "0.32604209657449446\n"
     ]
    },
    {
     "name": "stderr",
     "output_type": "stream",
     "text": [
      " 33%|███▎      | 500/1500 [6:06:55<12:12:54, 43.97s/it]"
     ]
    },
    {
     "name": "stdout",
     "output_type": "stream",
     "text": [
      "870\n",
      "0.35905901774659515\n",
      "0.30709495234733497\n",
      "795\n",
      "0.3281056541477507\n",
      "0.3281056541477507\n"
     ]
    },
    {
     "name": "stderr",
     "output_type": "stream",
     "text": [
      " 33%|███▎      | 501/1500 [6:07:39<12:11:39, 43.94s/it]"
     ]
    },
    {
     "name": "stdout",
     "output_type": "stream",
     "text": [
      "885\n",
      "0.365249690466364\n",
      "0.31238969290504764\n",
      "792\n",
      "0.32686751960379695\n",
      "0.32686751960379695\n"
     ]
    },
    {
     "name": "stderr",
     "output_type": "stream",
     "text": [
      " 33%|███▎      | 502/1500 [6:08:23<12:11:04, 43.95s/it]"
     ]
    },
    {
     "name": "stdout",
     "output_type": "stream",
     "text": [
      "881\n",
      "0.36359884440775897\n",
      "0.3109777620896576\n",
      "797\n",
      "0.3289310771770532\n",
      "0.3289310771770532\n"
     ]
    },
    {
     "name": "stderr",
     "output_type": "stream",
     "text": [
      " 34%|███▎      | 503/1500 [6:09:07<12:10:49, 43.98s/it]"
     ]
    },
    {
     "name": "stdout",
     "output_type": "stream",
     "text": [
      "880\n",
      "0.3631861328931077\n",
      "0.31062477938581007\n",
      "787\n",
      "0.3248039620305406\n",
      "0.3248039620305406\n"
     ]
    },
    {
     "name": "stderr",
     "output_type": "stream",
     "text": [
      " 34%|███▎      | 504/1500 [6:09:51<12:09:52, 43.97s/it]"
     ]
    },
    {
     "name": "stdout",
     "output_type": "stream",
     "text": [
      "871\n",
      "0.3594717292612464\n",
      "0.3074479350511825\n",
      "783\n",
      "0.32315311597193563\n",
      "0.32315311597193563\n"
     ]
    },
    {
     "name": "stderr",
     "output_type": "stream",
     "text": [
      " 34%|███▎      | 505/1500 [6:10:35<12:09:37, 44.00s/it]"
     ]
    },
    {
     "name": "stdout",
     "output_type": "stream",
     "text": [
      "857\n",
      "0.3536937680561288\n",
      "0.3025061771973173\n",
      "788\n",
      "0.3252166735451919\n",
      "0.3252166735451919\n"
     ]
    },
    {
     "name": "stderr",
     "output_type": "stream",
     "text": [
      " 34%|███▎      | 506/1500 [6:11:19<12:08:53, 44.00s/it]"
     ]
    },
    {
     "name": "stdout",
     "output_type": "stream",
     "text": [
      "876\n",
      "0.3615352868345027\n",
      "0.30921284857042003\n",
      "793\n",
      "0.32728023111844823\n",
      "0.32728023111844823\n"
     ]
    },
    {
     "name": "stderr",
     "output_type": "stream",
     "text": [
      " 34%|███▍      | 507/1500 [6:12:03<12:08:09, 44.00s/it]"
     ]
    },
    {
     "name": "stdout",
     "output_type": "stream",
     "text": [
      "891\n",
      "0.36772595955427156\n",
      "0.3145075891281327\n",
      "792\n",
      "0.32686751960379695\n",
      "0.32686751960379695\n"
     ]
    },
    {
     "name": "stderr",
     "output_type": "stream",
     "text": [
      " 34%|███▍      | 508/1500 [6:12:47<12:06:46, 43.96s/it]"
     ]
    },
    {
     "name": "stdout",
     "output_type": "stream",
     "text": [
      "882\n",
      "0.36401155592241025\n",
      "0.31133074479350514\n",
      "794\n",
      "0.32769294263309945\n",
      "0.32769294263309945\n"
     ]
    },
    {
     "name": "stderr",
     "output_type": "stream",
     "text": [
      " 34%|███▍      | 509/1500 [6:13:32<12:11:20, 44.28s/it]"
     ]
    },
    {
     "name": "stdout",
     "output_type": "stream",
     "text": [
      "877\n",
      "0.3619479983491539\n",
      "0.30956583127426757\n",
      "785\n",
      "0.32397853900123813\n",
      "0.32397853900123813\n"
     ]
    },
    {
     "name": "stderr",
     "output_type": "stream",
     "text": [
      " 34%|███▍      | 510/1500 [6:14:16<12:09:37, 44.22s/it]"
     ]
    },
    {
     "name": "stdout",
     "output_type": "stream",
     "text": [
      "867\n",
      "0.3578208832026413\n",
      "0.30603600423579247\n",
      "790\n",
      "0.32604209657449446\n",
      "0.32604209657449446\n"
     ]
    },
    {
     "name": "stderr",
     "output_type": "stream",
     "text": [
      " 34%|███▍      | 511/1500 [6:15:00<12:07:47, 44.15s/it]"
     ]
    },
    {
     "name": "stdout",
     "output_type": "stream",
     "text": [
      "860\n",
      "0.35493190260008256\n",
      "0.3035651253088599\n",
      "801\n",
      "0.33058192323565827\n",
      "0.33058192323565827\n"
     ]
    },
    {
     "name": "stderr",
     "output_type": "stream",
     "text": [
      " 34%|███▍      | 512/1500 [6:15:44<12:06:42, 44.13s/it]"
     ]
    },
    {
     "name": "stdout",
     "output_type": "stream",
     "text": [
      "878\n",
      "0.3623607098638052\n",
      "0.30991881397811505\n",
      "797\n",
      "0.3289310771770532\n",
      "0.3289310771770532\n"
     ]
    },
    {
     "name": "stderr",
     "output_type": "stream",
     "text": [
      " 34%|███▍      | 513/1500 [6:16:28<12:04:25, 44.04s/it]"
     ]
    },
    {
     "name": "stdout",
     "output_type": "stream",
     "text": [
      "880\n",
      "0.3631861328931077\n",
      "0.31062477938581007\n",
      "798\n",
      "0.3293437886917045\n",
      "0.3293437886917045\n"
     ]
    },
    {
     "name": "stderr",
     "output_type": "stream",
     "text": [
      " 34%|███▍      | 514/1500 [6:17:12<12:03:12, 44.01s/it]"
     ]
    },
    {
     "name": "stdout",
     "output_type": "stream",
     "text": [
      "886\n",
      "0.3656624019810153\n",
      "0.3127426756088952\n",
      "788\n",
      "0.3252166735451919\n",
      "0.3252166735451919\n"
     ]
    },
    {
     "name": "stderr",
     "output_type": "stream",
     "text": [
      " 34%|███▍      | 515/1500 [6:17:56<12:01:27, 43.95s/it]"
     ]
    },
    {
     "name": "stdout",
     "output_type": "stream",
     "text": [
      "883\n",
      "0.36442426743706147\n",
      "0.3116837274973526\n",
      "786\n",
      "0.3243912505158894\n",
      "0.3243912505158894\n"
     ]
    },
    {
     "name": "stderr",
     "output_type": "stream",
     "text": [
      " 34%|███▍      | 516/1500 [6:18:40<12:01:08, 43.97s/it]"
     ]
    },
    {
     "name": "stdout",
     "output_type": "stream",
     "text": [
      "872\n",
      "0.35988444077589765\n",
      "0.30780091775503\n",
      "789\n",
      "0.3256293850598432\n",
      "0.3256293850598432\n"
     ]
    },
    {
     "name": "stderr",
     "output_type": "stream",
     "text": [
      " 34%|███▍      | 517/1500 [6:19:24<12:00:48, 44.00s/it]"
     ]
    },
    {
     "name": "stdout",
     "output_type": "stream",
     "text": [
      "885\n",
      "0.365249690466364\n",
      "0.31238969290504764\n",
      "806\n",
      "0.3326454808089146\n",
      "0.3326454808089146\n"
     ]
    },
    {
     "name": "stderr",
     "output_type": "stream",
     "text": [
      " 35%|███▍      | 518/1500 [6:20:08<12:00:41, 44.03s/it]"
     ]
    },
    {
     "name": "stdout",
     "output_type": "stream",
     "text": [
      "881\n",
      "0.36359884440775897\n",
      "0.3109777620896576\n",
      "801\n",
      "0.33058192323565827\n",
      "0.33058192323565827\n"
     ]
    },
    {
     "name": "stderr",
     "output_type": "stream",
     "text": [
      " 35%|███▍      | 519/1500 [6:20:52<12:00:24, 44.06s/it]"
     ]
    },
    {
     "name": "stdout",
     "output_type": "stream",
     "text": [
      "880\n",
      "0.3631861328931077\n",
      "0.31062477938581007\n",
      "788\n",
      "0.3252166735451919\n",
      "0.3252166735451919\n"
     ]
    },
    {
     "name": "stderr",
     "output_type": "stream",
     "text": [
      " 35%|███▍      | 520/1500 [6:21:36<11:59:36, 44.06s/it]"
     ]
    },
    {
     "name": "stdout",
     "output_type": "stream",
     "text": [
      "876\n",
      "0.3615352868345027\n",
      "0.30921284857042003\n",
      "791\n",
      "0.3264548080891457\n",
      "0.3264548080891457\n"
     ]
    },
    {
     "name": "stderr",
     "output_type": "stream",
     "text": [
      " 35%|███▍      | 521/1500 [6:22:20<11:58:21, 44.03s/it]"
     ]
    },
    {
     "name": "stdout",
     "output_type": "stream",
     "text": [
      "868\n",
      "0.3582335947172926\n",
      "0.30638898693963995\n",
      "794\n",
      "0.32769294263309945\n",
      "0.32769294263309945\n"
     ]
    },
    {
     "name": "stderr",
     "output_type": "stream",
     "text": [
      " 35%|███▍      | 522/1500 [6:23:04<11:57:10, 44.00s/it]"
     ]
    },
    {
     "name": "stdout",
     "output_type": "stream",
     "text": [
      "866\n",
      "0.3574081716879901\n",
      "0.30568302153194493\n",
      "795\n",
      "0.3281056541477507\n",
      "0.3281056541477507\n"
     ]
    },
    {
     "name": "stderr",
     "output_type": "stream",
     "text": [
      " 35%|███▍      | 523/1500 [6:23:48<11:56:18, 43.99s/it]"
     ]
    },
    {
     "name": "stdout",
     "output_type": "stream",
     "text": [
      "879\n",
      "0.3627734213784565\n",
      "0.3102717966819626\n",
      "796\n",
      "0.328518365662402\n",
      "0.328518365662402\n"
     ]
    },
    {
     "name": "stderr",
     "output_type": "stream",
     "text": [
      " 35%|███▍      | 524/1500 [6:24:32<11:55:41, 44.00s/it]"
     ]
    },
    {
     "name": "stdout",
     "output_type": "stream",
     "text": [
      "876\n",
      "0.3615352868345027\n",
      "0.30921284857042003\n",
      "788\n",
      "0.3252166735451919\n",
      "0.3252166735451919\n"
     ]
    },
    {
     "name": "stderr",
     "output_type": "stream",
     "text": [
      " 35%|███▌      | 525/1500 [6:25:16<11:55:06, 44.01s/it]"
     ]
    },
    {
     "name": "stdout",
     "output_type": "stream",
     "text": [
      "879\n",
      "0.3627734213784565\n",
      "0.3102717966819626\n",
      "784\n",
      "0.32356582748658685\n",
      "0.32356582748658685\n"
     ]
    },
    {
     "name": "stderr",
     "output_type": "stream",
     "text": [
      " 35%|███▌      | 526/1500 [6:26:00<11:53:36, 43.96s/it]"
     ]
    },
    {
     "name": "stdout",
     "output_type": "stream",
     "text": [
      "872\n",
      "0.35988444077589765\n",
      "0.30780091775503\n",
      "789\n",
      "0.3256293850598432\n",
      "0.3256293850598432\n"
     ]
    },
    {
     "name": "stderr",
     "output_type": "stream",
     "text": [
      " 35%|███▌      | 527/1500 [6:26:44<11:52:41, 43.95s/it]"
     ]
    },
    {
     "name": "stdout",
     "output_type": "stream",
     "text": [
      "857\n",
      "0.3536937680561288\n",
      "0.3025061771973173\n",
      "804\n",
      "0.33182005777961204\n",
      "0.33182005777961204\n"
     ]
    },
    {
     "name": "stderr",
     "output_type": "stream",
     "text": [
      " 35%|███▌      | 528/1500 [6:27:27<11:51:01, 43.89s/it]"
     ]
    },
    {
     "name": "stdout",
     "output_type": "stream",
     "text": [
      "871\n",
      "0.3594717292612464\n",
      "0.3074479350511825\n",
      "802\n",
      "0.33099463475030955\n",
      "0.33099463475030955\n"
     ]
    },
    {
     "name": "stderr",
     "output_type": "stream",
     "text": [
      " 35%|███▌      | 529/1500 [6:28:11<11:50:37, 43.91s/it]"
     ]
    },
    {
     "name": "stdout",
     "output_type": "stream",
     "text": [
      "885\n",
      "0.365249690466364\n",
      "0.31238969290504764\n",
      "809\n",
      "0.33388361535286837\n",
      "0.33388361535286837\n"
     ]
    },
    {
     "name": "stderr",
     "output_type": "stream",
     "text": [
      " 35%|███▌      | 530/1500 [6:28:55<11:50:40, 43.96s/it]"
     ]
    },
    {
     "name": "stdout",
     "output_type": "stream",
     "text": [
      "883\n",
      "0.36442426743706147\n",
      "0.3116837274973526\n",
      "794\n",
      "0.32769294263309945\n",
      "0.32769294263309945\n"
     ]
    },
    {
     "name": "stderr",
     "output_type": "stream",
     "text": [
      " 35%|███▌      | 531/1500 [6:29:39<11:49:44, 43.95s/it]"
     ]
    },
    {
     "name": "stdout",
     "output_type": "stream",
     "text": [
      "880\n",
      "0.3631861328931077\n",
      "0.31062477938581007\n",
      "791\n",
      "0.3264548080891457\n",
      "0.3264548080891457\n"
     ]
    },
    {
     "name": "stderr",
     "output_type": "stream",
     "text": [
      " 35%|███▌      | 532/1500 [6:30:23<11:49:01, 43.95s/it]"
     ]
    },
    {
     "name": "stdout",
     "output_type": "stream",
     "text": [
      "878\n",
      "0.3623607098638052\n",
      "0.30991881397811505\n",
      "790\n",
      "0.32604209657449446\n",
      "0.32604209657449446\n"
     ]
    },
    {
     "name": "stderr",
     "output_type": "stream",
     "text": [
      " 36%|███▌      | 533/1500 [6:31:07<11:47:37, 43.91s/it]"
     ]
    },
    {
     "name": "stdout",
     "output_type": "stream",
     "text": [
      "877\n",
      "0.3619479983491539\n",
      "0.30956583127426757\n",
      "793\n",
      "0.32728023111844823\n",
      "0.32728023111844823\n"
     ]
    },
    {
     "name": "stderr",
     "output_type": "stream",
     "text": [
      " 36%|███▌      | 534/1500 [6:31:51<11:47:50, 43.97s/it]"
     ]
    },
    {
     "name": "stdout",
     "output_type": "stream",
     "text": [
      "883\n",
      "0.36442426743706147\n",
      "0.3116837274973526\n",
      "805\n",
      "0.3322327692942633\n",
      "0.3322327692942633\n"
     ]
    },
    {
     "name": "stderr",
     "output_type": "stream",
     "text": [
      " 36%|███▌      | 535/1500 [6:32:35<11:46:34, 43.93s/it]"
     ]
    },
    {
     "name": "stdout",
     "output_type": "stream",
     "text": [
      "886\n",
      "0.3656624019810153\n",
      "0.3127426756088952\n",
      "803\n",
      "0.33140734626496077\n",
      "0.33140734626496077\n"
     ]
    },
    {
     "name": "stderr",
     "output_type": "stream",
     "text": [
      " 36%|███▌      | 536/1500 [6:33:19<11:46:09, 43.95s/it]"
     ]
    },
    {
     "name": "stdout",
     "output_type": "stream",
     "text": [
      "880\n",
      "0.3631861328931077\n",
      "0.31062477938581007\n",
      "788\n",
      "0.3252166735451919\n",
      "0.3252166735451919\n"
     ]
    },
    {
     "name": "stderr",
     "output_type": "stream",
     "text": [
      " 36%|███▌      | 537/1500 [6:34:03<11:46:37, 44.03s/it]"
     ]
    },
    {
     "name": "stdout",
     "output_type": "stream",
     "text": [
      "862\n",
      "0.35575732562938506\n",
      "0.3042710907165549\n",
      "791\n",
      "0.3264548080891457\n",
      "0.3264548080891457\n"
     ]
    },
    {
     "name": "stderr",
     "output_type": "stream",
     "text": [
      " 36%|███▌      | 538/1500 [6:34:47<11:45:47, 44.02s/it]"
     ]
    },
    {
     "name": "stdout",
     "output_type": "stream",
     "text": [
      "867\n",
      "0.3578208832026413\n",
      "0.30603600423579247\n",
      "803\n",
      "0.33140734626496077\n",
      "0.33140734626496077\n"
     ]
    },
    {
     "name": "stderr",
     "output_type": "stream",
     "text": [
      " 36%|███▌      | 539/1500 [6:35:31<11:44:50, 44.01s/it]"
     ]
    },
    {
     "name": "stdout",
     "output_type": "stream",
     "text": [
      "879\n",
      "0.3627734213784565\n",
      "0.3102717966819626\n",
      "800\n",
      "0.330169211721007\n",
      "0.330169211721007\n"
     ]
    },
    {
     "name": "stderr",
     "output_type": "stream",
     "text": [
      " 36%|███▌      | 540/1500 [6:36:15<11:43:52, 43.99s/it]"
     ]
    },
    {
     "name": "stdout",
     "output_type": "stream",
     "text": [
      "881\n",
      "0.36359884440775897\n",
      "0.3109777620896576\n",
      "791\n",
      "0.3264548080891457\n",
      "0.3264548080891457\n"
     ]
    },
    {
     "name": "stderr",
     "output_type": "stream",
     "text": [
      " 36%|███▌      | 541/1500 [6:36:59<11:43:10, 43.99s/it]"
     ]
    },
    {
     "name": "stdout",
     "output_type": "stream",
     "text": [
      "871\n",
      "0.3594717292612464\n",
      "0.3074479350511825\n",
      "787\n",
      "0.3248039620305406\n",
      "0.3248039620305406\n"
     ]
    },
    {
     "name": "stderr",
     "output_type": "stream",
     "text": [
      " 36%|███▌      | 542/1500 [6:37:44<11:47:32, 44.31s/it]"
     ]
    },
    {
     "name": "stdout",
     "output_type": "stream",
     "text": [
      "868\n",
      "0.3582335947172926\n",
      "0.30638898693963995\n",
      "789\n",
      "0.3256293850598432\n",
      "0.3256293850598432\n"
     ]
    },
    {
     "name": "stderr",
     "output_type": "stream",
     "text": [
      " 36%|███▌      | 543/1500 [6:38:28<11:45:18, 44.22s/it]"
     ]
    },
    {
     "name": "stdout",
     "output_type": "stream",
     "text": [
      "871\n",
      "0.3594717292612464\n",
      "0.3074479350511825\n",
      "790\n",
      "0.32604209657449446\n",
      "0.32604209657449446\n"
     ]
    },
    {
     "name": "stderr",
     "output_type": "stream",
     "text": [
      " 36%|███▋      | 544/1500 [6:39:12<11:43:41, 44.16s/it]"
     ]
    },
    {
     "name": "stdout",
     "output_type": "stream",
     "text": [
      "871\n",
      "0.3594717292612464\n",
      "0.3074479350511825\n",
      "792\n",
      "0.32686751960379695\n",
      "0.32686751960379695\n"
     ]
    },
    {
     "name": "stderr",
     "output_type": "stream",
     "text": [
      " 36%|███▋      | 545/1500 [6:39:56<11:42:21, 44.13s/it]"
     ]
    },
    {
     "name": "stdout",
     "output_type": "stream",
     "text": [
      "882\n",
      "0.36401155592241025\n",
      "0.31133074479350514\n",
      "801\n",
      "0.33058192323565827\n",
      "0.33058192323565827\n"
     ]
    },
    {
     "name": "stderr",
     "output_type": "stream",
     "text": [
      " 36%|███▋      | 546/1500 [6:40:40<11:41:09, 44.10s/it]"
     ]
    },
    {
     "name": "stdout",
     "output_type": "stream",
     "text": [
      "870\n",
      "0.35905901774659515\n",
      "0.30709495234733497\n",
      "794\n",
      "0.32769294263309945\n",
      "0.32769294263309945\n"
     ]
    },
    {
     "name": "stderr",
     "output_type": "stream",
     "text": [
      " 36%|███▋      | 547/1500 [6:41:24<11:40:05, 44.08s/it]"
     ]
    },
    {
     "name": "stdout",
     "output_type": "stream",
     "text": [
      "872\n",
      "0.35988444077589765\n",
      "0.30780091775503\n",
      "788\n",
      "0.3252166735451919\n",
      "0.3252166735451919\n"
     ]
    },
    {
     "name": "stderr",
     "output_type": "stream",
     "text": [
      " 37%|███▋      | 548/1500 [6:42:08<11:38:53, 44.05s/it]"
     ]
    },
    {
     "name": "stdout",
     "output_type": "stream",
     "text": [
      "870\n",
      "0.35905901774659515\n",
      "0.30709495234733497\n",
      "790\n",
      "0.32604209657449446\n",
      "0.32604209657449446\n"
     ]
    },
    {
     "name": "stderr",
     "output_type": "stream",
     "text": [
      " 37%|███▋      | 549/1500 [6:42:52<11:37:45, 44.02s/it]"
     ]
    },
    {
     "name": "stdout",
     "output_type": "stream",
     "text": [
      "876\n",
      "0.3615352868345027\n",
      "0.30921284857042003\n",
      "801\n",
      "0.33058192323565827\n",
      "0.33058192323565827\n"
     ]
    },
    {
     "name": "stderr",
     "output_type": "stream",
     "text": [
      " 37%|███▋      | 550/1500 [6:43:36<11:36:59, 44.02s/it]"
     ]
    },
    {
     "name": "stdout",
     "output_type": "stream",
     "text": [
      "878\n",
      "0.3623607098638052\n",
      "0.30991881397811505\n",
      "793\n",
      "0.32728023111844823\n",
      "0.32728023111844823\n"
     ]
    },
    {
     "name": "stderr",
     "output_type": "stream",
     "text": [
      " 37%|███▋      | 551/1500 [6:44:20<11:36:07, 44.01s/it]"
     ]
    },
    {
     "name": "stdout",
     "output_type": "stream",
     "text": [
      "875\n",
      "0.3611225753198514\n",
      "0.30885986586657255\n",
      "792\n",
      "0.32686751960379695\n",
      "0.32686751960379695\n"
     ]
    },
    {
     "name": "stderr",
     "output_type": "stream",
     "text": [
      " 37%|███▋      | 552/1500 [6:45:04<11:35:17, 44.01s/it]"
     ]
    },
    {
     "name": "stdout",
     "output_type": "stream",
     "text": [
      "882\n",
      "0.36401155592241025\n",
      "0.31133074479350514\n",
      "787\n",
      "0.3248039620305406\n",
      "0.3248039620305406\n"
     ]
    },
    {
     "name": "stderr",
     "output_type": "stream",
     "text": [
      " 37%|███▋      | 553/1500 [6:45:49<11:35:34, 44.07s/it]"
     ]
    },
    {
     "name": "stdout",
     "output_type": "stream",
     "text": [
      "863\n",
      "0.35617003714403633\n",
      "0.3046240734204024\n",
      "788\n",
      "0.3252166735451919\n",
      "0.3252166735451919\n"
     ]
    },
    {
     "name": "stderr",
     "output_type": "stream",
     "text": [
      " 37%|███▋      | 554/1500 [6:46:33<11:35:12, 44.09s/it]"
     ]
    },
    {
     "name": "stdout",
     "output_type": "stream",
     "text": [
      "874\n",
      "0.36070986380520015\n",
      "0.308506883162725\n",
      "803\n",
      "0.33140734626496077\n",
      "0.33140734626496077\n"
     ]
    },
    {
     "name": "stderr",
     "output_type": "stream",
     "text": [
      " 37%|███▋      | 555/1500 [6:47:17<11:34:13, 44.08s/it]"
     ]
    },
    {
     "name": "stdout",
     "output_type": "stream",
     "text": [
      "882\n",
      "0.36401155592241025\n",
      "0.31133074479350514\n",
      "803\n",
      "0.33140734626496077\n",
      "0.33140734626496077\n"
     ]
    },
    {
     "name": "stderr",
     "output_type": "stream",
     "text": [
      " 37%|███▋      | 556/1500 [6:48:01<11:33:10, 44.06s/it]"
     ]
    },
    {
     "name": "stdout",
     "output_type": "stream",
     "text": [
      "876\n",
      "0.3615352868345027\n",
      "0.30921284857042003\n",
      "799\n",
      "0.3297565002063558\n",
      "0.3297565002063558\n"
     ]
    },
    {
     "name": "stderr",
     "output_type": "stream",
     "text": [
      " 37%|███▋      | 557/1500 [6:48:45<11:32:38, 44.07s/it]"
     ]
    },
    {
     "name": "stdout",
     "output_type": "stream",
     "text": [
      "882\n",
      "0.36401155592241025\n",
      "0.31133074479350514\n",
      "790\n",
      "0.32604209657449446\n",
      "0.32604209657449446\n"
     ]
    },
    {
     "name": "stderr",
     "output_type": "stream",
     "text": [
      " 37%|███▋      | 558/1500 [6:49:29<11:31:46, 44.06s/it]"
     ]
    },
    {
     "name": "stdout",
     "output_type": "stream",
     "text": [
      "872\n",
      "0.35988444077589765\n",
      "0.30780091775503\n",
      "788\n",
      "0.3252166735451919\n",
      "0.3252166735451919\n"
     ]
    },
    {
     "name": "stderr",
     "output_type": "stream",
     "text": [
      " 37%|███▋      | 559/1500 [6:50:13<11:31:10, 44.07s/it]"
     ]
    },
    {
     "name": "stdout",
     "output_type": "stream",
     "text": [
      "873\n",
      "0.3602971522905489\n",
      "0.3081539004588775\n",
      "794\n",
      "0.32769294263309945\n",
      "0.32769294263309945\n"
     ]
    },
    {
     "name": "stderr",
     "output_type": "stream",
     "text": [
      " 37%|███▋      | 560/1500 [6:50:57<11:29:59, 44.04s/it]"
     ]
    },
    {
     "name": "stdout",
     "output_type": "stream",
     "text": [
      "881\n",
      "0.36359884440775897\n",
      "0.3109777620896576\n",
      "797\n",
      "0.3289310771770532\n",
      "0.3289310771770532\n"
     ]
    },
    {
     "name": "stderr",
     "output_type": "stream",
     "text": [
      " 37%|███▋      | 561/1500 [6:51:41<11:29:22, 44.05s/it]"
     ]
    },
    {
     "name": "stdout",
     "output_type": "stream",
     "text": [
      "879\n",
      "0.3627734213784565\n",
      "0.3102717966819626\n",
      "798\n",
      "0.3293437886917045\n",
      "0.3293437886917045\n"
     ]
    },
    {
     "name": "stderr",
     "output_type": "stream",
     "text": [
      " 37%|███▋      | 562/1500 [6:52:25<11:28:32, 44.04s/it]"
     ]
    },
    {
     "name": "stdout",
     "output_type": "stream",
     "text": [
      "879\n",
      "0.3627734213784565\n",
      "0.3102717966819626\n",
      "791\n",
      "0.3264548080891457\n",
      "0.3264548080891457\n"
     ]
    },
    {
     "name": "stderr",
     "output_type": "stream",
     "text": [
      " 38%|███▊      | 563/1500 [6:53:09<11:27:52, 44.05s/it]"
     ]
    },
    {
     "name": "stdout",
     "output_type": "stream",
     "text": [
      "878\n",
      "0.3623607098638052\n",
      "0.30991881397811505\n",
      "790\n",
      "0.32604209657449446\n",
      "0.32604209657449446\n"
     ]
    },
    {
     "name": "stderr",
     "output_type": "stream",
     "text": [
      " 38%|███▊      | 564/1500 [6:53:53<11:27:22, 44.06s/it]"
     ]
    },
    {
     "name": "stdout",
     "output_type": "stream",
     "text": [
      "862\n",
      "0.35575732562938506\n",
      "0.3042710907165549\n",
      "788\n",
      "0.3252166735451919\n",
      "0.3252166735451919\n"
     ]
    },
    {
     "name": "stderr",
     "output_type": "stream",
     "text": [
      " 38%|███▊      | 565/1500 [6:54:37<11:25:42, 44.00s/it]"
     ]
    },
    {
     "name": "stdout",
     "output_type": "stream",
     "text": [
      "875\n",
      "0.3611225753198514\n",
      "0.30885986586657255\n",
      "788\n",
      "0.3252166735451919\n",
      "0.3252166735451919\n"
     ]
    },
    {
     "name": "stderr",
     "output_type": "stream",
     "text": [
      " 38%|███▊      | 566/1500 [6:55:21<11:24:44, 43.99s/it]"
     ]
    },
    {
     "name": "stdout",
     "output_type": "stream",
     "text": [
      "890\n",
      "0.3673132480396203\n",
      "0.3141546064242852\n",
      "787\n",
      "0.3248039620305406\n",
      "0.3248039620305406\n"
     ]
    },
    {
     "name": "stderr",
     "output_type": "stream",
     "text": [
      " 38%|███▊      | 567/1500 [6:56:05<11:24:05, 43.99s/it]"
     ]
    },
    {
     "name": "stdout",
     "output_type": "stream",
     "text": [
      "878\n",
      "0.3623607098638052\n",
      "0.30991881397811505\n",
      "774\n",
      "0.3194387123400743\n",
      "0.3194387123400743\n"
     ]
    },
    {
     "name": "stderr",
     "output_type": "stream",
     "text": [
      " 38%|███▊      | 568/1500 [6:56:49<11:24:07, 44.04s/it]"
     ]
    },
    {
     "name": "stdout",
     "output_type": "stream",
     "text": [
      "871\n",
      "0.3594717292612464\n",
      "0.3074479350511825\n",
      "779\n",
      "0.3215022699133306\n",
      "0.3215022699133306\n"
     ]
    },
    {
     "name": "stderr",
     "output_type": "stream",
     "text": [
      " 38%|███▊      | 569/1500 [6:57:33<11:23:16, 44.04s/it]"
     ]
    },
    {
     "name": "stdout",
     "output_type": "stream",
     "text": [
      "861\n",
      "0.3553446141147338\n",
      "0.30391810801270736\n",
      "785\n",
      "0.32397853900123813\n",
      "0.32397853900123813\n"
     ]
    },
    {
     "name": "stderr",
     "output_type": "stream",
     "text": [
      " 38%|███▊      | 570/1500 [6:58:17<11:22:42, 44.05s/it]"
     ]
    },
    {
     "name": "stdout",
     "output_type": "stream",
     "text": [
      "868\n",
      "0.3582335947172926\n",
      "0.30638898693963995\n",
      "789\n",
      "0.3256293850598432\n",
      "0.3256293850598432\n"
     ]
    },
    {
     "name": "stderr",
     "output_type": "stream",
     "text": [
      " 38%|███▊      | 571/1500 [6:59:01<11:22:00, 44.05s/it]"
     ]
    },
    {
     "name": "stdout",
     "output_type": "stream",
     "text": [
      "885\n",
      "0.365249690466364\n",
      "0.31238969290504764\n",
      "791\n",
      "0.3264548080891457\n",
      "0.3264548080891457\n"
     ]
    },
    {
     "name": "stderr",
     "output_type": "stream",
     "text": [
      " 38%|███▊      | 572/1500 [6:59:46<11:26:09, 44.36s/it]"
     ]
    },
    {
     "name": "stdout",
     "output_type": "stream",
     "text": [
      "883\n",
      "0.36442426743706147\n",
      "0.3116837274973526\n",
      "790\n",
      "0.32604209657449446\n",
      "0.32604209657449446\n"
     ]
    },
    {
     "name": "stderr",
     "output_type": "stream",
     "text": [
      " 38%|███▊      | 573/1500 [7:00:31<11:24:03, 44.28s/it]"
     ]
    },
    {
     "name": "stdout",
     "output_type": "stream",
     "text": [
      "875\n",
      "0.3611225753198514\n",
      "0.30885986586657255\n",
      "779\n",
      "0.3215022699133306\n",
      "0.3215022699133306\n"
     ]
    },
    {
     "name": "stderr",
     "output_type": "stream",
     "text": [
      " 38%|███▊      | 574/1500 [7:01:15<11:22:55, 44.25s/it]"
     ]
    },
    {
     "name": "stdout",
     "output_type": "stream",
     "text": [
      "871\n",
      "0.3594717292612464\n",
      "0.3074479350511825\n",
      "779\n",
      "0.3215022699133306\n",
      "0.3215022699133306\n"
     ]
    },
    {
     "name": "stderr",
     "output_type": "stream",
     "text": [
      " 38%|███▊      | 575/1500 [7:01:59<11:21:46, 44.22s/it]"
     ]
    },
    {
     "name": "stdout",
     "output_type": "stream",
     "text": [
      "872\n",
      "0.35988444077589765\n",
      "0.30780091775503\n",
      "794\n",
      "0.32769294263309945\n",
      "0.32769294263309945\n"
     ]
    },
    {
     "name": "stderr",
     "output_type": "stream",
     "text": [
      " 38%|███▊      | 576/1500 [7:02:43<11:19:59, 44.16s/it]"
     ]
    },
    {
     "name": "stdout",
     "output_type": "stream",
     "text": [
      "877\n",
      "0.3619479983491539\n",
      "0.30956583127426757\n",
      "799\n",
      "0.3297565002063558\n",
      "0.3297565002063558\n"
     ]
    },
    {
     "name": "stderr",
     "output_type": "stream",
     "text": [
      " 38%|███▊      | 577/1500 [7:03:27<11:18:16, 44.09s/it]"
     ]
    },
    {
     "name": "stdout",
     "output_type": "stream",
     "text": [
      "879\n",
      "0.3627734213784565\n",
      "0.3102717966819626\n",
      "791\n",
      "0.3264548080891457\n",
      "0.3264548080891457\n"
     ]
    },
    {
     "name": "stderr",
     "output_type": "stream",
     "text": [
      " 39%|███▊      | 578/1500 [7:04:11<11:16:59, 44.06s/it]"
     ]
    },
    {
     "name": "stdout",
     "output_type": "stream",
     "text": [
      "870\n",
      "0.35905901774659515\n",
      "0.30709495234733497\n",
      "781\n",
      "0.3223276929426331\n",
      "0.3223276929426331\n"
     ]
    },
    {
     "name": "stderr",
     "output_type": "stream",
     "text": [
      " 39%|███▊      | 579/1500 [7:04:55<11:15:44, 44.02s/it]"
     ]
    },
    {
     "name": "stdout",
     "output_type": "stream",
     "text": [
      "865\n",
      "0.35699546017333883\n",
      "0.30533003882809745\n",
      "787\n",
      "0.3248039620305406\n",
      "0.3248039620305406\n"
     ]
    },
    {
     "name": "stderr",
     "output_type": "stream",
     "text": [
      " 39%|███▊      | 580/1500 [7:05:39<11:14:40, 44.00s/it]"
     ]
    },
    {
     "name": "stdout",
     "output_type": "stream",
     "text": [
      "879\n",
      "0.3627734213784565\n",
      "0.3102717966819626\n",
      "794\n",
      "0.32769294263309945\n",
      "0.32769294263309945\n"
     ]
    },
    {
     "name": "stderr",
     "output_type": "stream",
     "text": [
      " 39%|███▊      | 581/1500 [7:06:23<11:13:47, 43.99s/it]"
     ]
    },
    {
     "name": "stdout",
     "output_type": "stream",
     "text": [
      "875\n",
      "0.3611225753198514\n",
      "0.30885986586657255\n",
      "793\n",
      "0.32728023111844823\n",
      "0.32728023111844823\n"
     ]
    },
    {
     "name": "stderr",
     "output_type": "stream",
     "text": [
      " 39%|███▉      | 582/1500 [7:07:07<11:13:13, 44.00s/it]"
     ]
    },
    {
     "name": "stdout",
     "output_type": "stream",
     "text": [
      "890\n",
      "0.3673132480396203\n",
      "0.3141546064242852\n",
      "802\n",
      "0.33099463475030955\n",
      "0.33099463475030955\n"
     ]
    },
    {
     "name": "stderr",
     "output_type": "stream",
     "text": [
      " 39%|███▉      | 583/1500 [7:07:51<11:12:26, 44.00s/it]"
     ]
    },
    {
     "name": "stdout",
     "output_type": "stream",
     "text": [
      "885\n",
      "0.365249690466364\n",
      "0.31238969290504764\n",
      "790\n",
      "0.32604209657449446\n",
      "0.32604209657449446\n"
     ]
    },
    {
     "name": "stderr",
     "output_type": "stream",
     "text": [
      " 39%|███▉      | 584/1500 [7:08:35<11:11:56, 44.01s/it]"
     ]
    },
    {
     "name": "stdout",
     "output_type": "stream",
     "text": [
      "868\n",
      "0.3582335947172926\n",
      "0.30638898693963995\n",
      "781\n",
      "0.3223276929426331\n",
      "0.3223276929426331\n"
     ]
    },
    {
     "name": "stderr",
     "output_type": "stream",
     "text": [
      " 39%|███▉      | 585/1500 [7:09:19<11:11:49, 44.05s/it]"
     ]
    },
    {
     "name": "stdout",
     "output_type": "stream",
     "text": [
      "882\n",
      "0.36401155592241025\n",
      "0.31133074479350514\n",
      "794\n",
      "0.32769294263309945\n",
      "0.32769294263309945\n"
     ]
    },
    {
     "name": "stderr",
     "output_type": "stream",
     "text": [
      " 39%|███▉      | 586/1500 [7:10:03<11:11:43, 44.10s/it]"
     ]
    },
    {
     "name": "stdout",
     "output_type": "stream",
     "text": [
      "879\n",
      "0.3627734213784565\n",
      "0.3102717966819626\n",
      "787\n",
      "0.3248039620305406\n",
      "0.3248039620305406\n"
     ]
    },
    {
     "name": "stderr",
     "output_type": "stream",
     "text": [
      " 39%|███▉      | 587/1500 [7:10:47<11:11:23, 44.12s/it]"
     ]
    },
    {
     "name": "stdout",
     "output_type": "stream",
     "text": [
      "891\n",
      "0.36772595955427156\n",
      "0.3145075891281327\n",
      "792\n",
      "0.32686751960379695\n",
      "0.32686751960379695\n"
     ]
    },
    {
     "name": "stderr",
     "output_type": "stream",
     "text": [
      " 39%|███▉      | 588/1500 [7:11:31<11:10:44, 44.13s/it]"
     ]
    },
    {
     "name": "stdout",
     "output_type": "stream",
     "text": [
      "890\n",
      "0.3673132480396203\n",
      "0.3141546064242852\n",
      "798\n",
      "0.3293437886917045\n",
      "0.3293437886917045\n"
     ]
    },
    {
     "name": "stderr",
     "output_type": "stream",
     "text": [
      " 39%|███▉      | 589/1500 [7:12:16<11:10:00, 44.13s/it]"
     ]
    },
    {
     "name": "stdout",
     "output_type": "stream",
     "text": [
      "888\n",
      "0.3664878250103178\n",
      "0.3134486410165902\n",
      "783\n",
      "0.32315311597193563\n",
      "0.32315311597193563\n"
     ]
    },
    {
     "name": "stderr",
     "output_type": "stream",
     "text": [
      " 39%|███▉      | 590/1500 [7:13:00<11:09:05, 44.12s/it]"
     ]
    },
    {
     "name": "stdout",
     "output_type": "stream",
     "text": [
      "878\n",
      "0.3623607098638052\n",
      "0.30991881397811505\n",
      "783\n",
      "0.32315311597193563\n",
      "0.32315311597193563\n"
     ]
    },
    {
     "name": "stderr",
     "output_type": "stream",
     "text": [
      " 39%|███▉      | 591/1500 [7:13:43<11:07:10, 44.04s/it]"
     ]
    },
    {
     "name": "stdout",
     "output_type": "stream",
     "text": [
      "869\n",
      "0.3586463062319439\n",
      "0.3067419696434875\n",
      "792\n",
      "0.32686751960379695\n",
      "0.32686751960379695\n"
     ]
    },
    {
     "name": "stderr",
     "output_type": "stream",
     "text": [
      " 39%|███▉      | 592/1500 [7:14:28<11:06:44, 44.06s/it]"
     ]
    },
    {
     "name": "stdout",
     "output_type": "stream",
     "text": [
      "876\n",
      "0.3615352868345027\n",
      "0.30921284857042003\n",
      "791\n",
      "0.3264548080891457\n",
      "0.3264548080891457\n"
     ]
    },
    {
     "name": "stderr",
     "output_type": "stream",
     "text": [
      " 40%|███▉      | 593/1500 [7:15:12<11:05:34, 44.03s/it]"
     ]
    },
    {
     "name": "stdout",
     "output_type": "stream",
     "text": [
      "873\n",
      "0.3602971522905489\n",
      "0.3081539004588775\n",
      "796\n",
      "0.328518365662402\n",
      "0.328518365662402\n"
     ]
    },
    {
     "name": "stderr",
     "output_type": "stream",
     "text": [
      " 40%|███▉      | 594/1500 [7:15:56<11:04:31, 44.01s/it]"
     ]
    },
    {
     "name": "stdout",
     "output_type": "stream",
     "text": [
      "876\n",
      "0.3615352868345027\n",
      "0.30921284857042003\n",
      "796\n",
      "0.328518365662402\n",
      "0.328518365662402\n"
     ]
    },
    {
     "name": "stderr",
     "output_type": "stream",
     "text": [
      " 40%|███▉      | 595/1500 [7:16:40<11:03:51, 44.01s/it]"
     ]
    },
    {
     "name": "stdout",
     "output_type": "stream",
     "text": [
      "874\n",
      "0.36070986380520015\n",
      "0.308506883162725\n",
      "791\n",
      "0.3264548080891457\n",
      "0.3264548080891457\n"
     ]
    },
    {
     "name": "stderr",
     "output_type": "stream",
     "text": [
      " 40%|███▉      | 596/1500 [7:17:24<11:03:32, 44.04s/it]"
     ]
    },
    {
     "name": "stdout",
     "output_type": "stream",
     "text": [
      "885\n",
      "0.365249690466364\n",
      "0.31238969290504764\n",
      "796\n",
      "0.328518365662402\n",
      "0.328518365662402\n"
     ]
    },
    {
     "name": "stderr",
     "output_type": "stream",
     "text": [
      " 40%|███▉      | 597/1500 [7:18:08<11:02:32, 44.02s/it]"
     ]
    },
    {
     "name": "stdout",
     "output_type": "stream",
     "text": [
      "876\n",
      "0.3615352868345027\n",
      "0.30921284857042003\n",
      "795\n",
      "0.3281056541477507\n",
      "0.3281056541477507\n"
     ]
    },
    {
     "name": "stderr",
     "output_type": "stream",
     "text": [
      " 40%|███▉      | 598/1500 [7:18:52<11:02:05, 44.04s/it]"
     ]
    },
    {
     "name": "stdout",
     "output_type": "stream",
     "text": [
      "870\n",
      "0.35905901774659515\n",
      "0.30709495234733497\n",
      "793\n",
      "0.32728023111844823\n",
      "0.32728023111844823\n"
     ]
    },
    {
     "name": "stderr",
     "output_type": "stream",
     "text": [
      " 40%|███▉      | 599/1500 [7:19:36<11:01:09, 44.03s/it]"
     ]
    },
    {
     "name": "stdout",
     "output_type": "stream",
     "text": [
      "864\n",
      "0.35658274865868755\n",
      "0.3049770561242499\n",
      "790\n",
      "0.32604209657449446\n",
      "0.32604209657449446\n"
     ]
    },
    {
     "name": "stderr",
     "output_type": "stream",
     "text": [
      " 40%|████      | 600/1500 [7:20:20<11:00:49, 44.06s/it]"
     ]
    },
    {
     "name": "stdout",
     "output_type": "stream",
     "text": [
      "867\n",
      "0.3578208832026413\n",
      "0.30603600423579247\n",
      "783\n",
      "0.32315311597193563\n",
      "0.32315311597193563\n"
     ]
    },
    {
     "name": "stderr",
     "output_type": "stream",
     "text": [
      " 40%|████      | 601/1500 [7:21:04<10:59:56, 44.05s/it]"
     ]
    },
    {
     "name": "stdout",
     "output_type": "stream",
     "text": [
      "878\n",
      "0.3623607098638052\n",
      "0.30991881397811505\n",
      "787\n",
      "0.3248039620305406\n",
      "0.3248039620305406\n"
     ]
    },
    {
     "name": "stderr",
     "output_type": "stream",
     "text": [
      " 40%|████      | 602/1500 [7:21:48<10:59:03, 44.04s/it]"
     ]
    },
    {
     "name": "stdout",
     "output_type": "stream",
     "text": [
      "876\n",
      "0.3615352868345027\n",
      "0.30921284857042003\n",
      "788\n",
      "0.3252166735451919\n",
      "0.3252166735451919\n"
     ]
    },
    {
     "name": "stderr",
     "output_type": "stream",
     "text": [
      " 40%|████      | 603/1500 [7:22:32<10:57:11, 43.96s/it]"
     ]
    },
    {
     "name": "stdout",
     "output_type": "stream",
     "text": [
      "873\n",
      "0.3602971522905489\n",
      "0.3081539004588775\n",
      "794\n",
      "0.32769294263309945\n",
      "0.32769294263309945\n"
     ]
    },
    {
     "name": "stderr",
     "output_type": "stream",
     "text": [
      " 40%|████      | 604/1500 [7:23:16<10:56:28, 43.96s/it]"
     ]
    },
    {
     "name": "stdout",
     "output_type": "stream",
     "text": [
      "876\n",
      "0.3615352868345027\n",
      "0.30921284857042003\n",
      "792\n",
      "0.32686751960379695\n",
      "0.32686751960379695\n"
     ]
    },
    {
     "name": "stderr",
     "output_type": "stream",
     "text": [
      " 40%|████      | 605/1500 [7:24:00<10:55:36, 43.95s/it]"
     ]
    },
    {
     "name": "stdout",
     "output_type": "stream",
     "text": [
      "871\n",
      "0.3594717292612464\n",
      "0.3074479350511825\n",
      "795\n",
      "0.3281056541477507\n",
      "0.3281056541477507\n"
     ]
    },
    {
     "name": "stderr",
     "output_type": "stream",
     "text": [
      " 40%|████      | 606/1500 [7:24:45<11:00:47, 44.35s/it]"
     ]
    },
    {
     "name": "stdout",
     "output_type": "stream",
     "text": [
      "873\n",
      "0.3602971522905489\n",
      "0.3081539004588775\n",
      "784\n",
      "0.32356582748658685\n",
      "0.32356582748658685\n"
     ]
    },
    {
     "name": "stderr",
     "output_type": "stream",
     "text": [
      " 40%|████      | 607/1500 [7:25:29<10:58:51, 44.27s/it]"
     ]
    },
    {
     "name": "stdout",
     "output_type": "stream",
     "text": [
      "873\n",
      "0.3602971522905489\n",
      "0.3081539004588775\n",
      "785\n",
      "0.32397853900123813\n",
      "0.32397853900123813\n"
     ]
    },
    {
     "name": "stderr",
     "output_type": "stream",
     "text": [
      " 41%|████      | 608/1500 [7:26:13<10:57:10, 44.20s/it]"
     ]
    },
    {
     "name": "stdout",
     "output_type": "stream",
     "text": [
      "872\n",
      "0.35988444077589765\n",
      "0.30780091775503\n",
      "790\n",
      "0.32604209657449446\n",
      "0.32604209657449446\n"
     ]
    },
    {
     "name": "stderr",
     "output_type": "stream",
     "text": [
      " 41%|████      | 609/1500 [7:26:57<10:55:51, 44.17s/it]"
     ]
    },
    {
     "name": "stdout",
     "output_type": "stream",
     "text": [
      "870\n",
      "0.35905901774659515\n",
      "0.30709495234733497\n",
      "796\n",
      "0.328518365662402\n",
      "0.328518365662402\n"
     ]
    },
    {
     "name": "stderr",
     "output_type": "stream",
     "text": [
      " 41%|████      | 610/1500 [7:27:41<10:54:58, 44.16s/it]"
     ]
    },
    {
     "name": "stdout",
     "output_type": "stream",
     "text": [
      "876\n",
      "0.3615352868345027\n",
      "0.30921284857042003\n",
      "797\n",
      "0.3289310771770532\n",
      "0.3289310771770532\n"
     ]
    },
    {
     "name": "stderr",
     "output_type": "stream",
     "text": [
      " 41%|████      | 611/1500 [7:28:25<10:53:27, 44.10s/it]"
     ]
    },
    {
     "name": "stdout",
     "output_type": "stream",
     "text": [
      "873\n",
      "0.3602971522905489\n",
      "0.3081539004588775\n",
      "791\n",
      "0.3264548080891457\n",
      "0.3264548080891457\n"
     ]
    },
    {
     "name": "stderr",
     "output_type": "stream",
     "text": [
      " 41%|████      | 612/1500 [7:29:09<10:52:21, 44.08s/it]"
     ]
    },
    {
     "name": "stdout",
     "output_type": "stream",
     "text": [
      "870\n",
      "0.35905901774659515\n",
      "0.30709495234733497\n",
      "787\n",
      "0.3248039620305406\n",
      "0.3248039620305406\n"
     ]
    },
    {
     "name": "stderr",
     "output_type": "stream",
     "text": [
      " 41%|████      | 613/1500 [7:29:53<10:51:09, 44.05s/it]"
     ]
    },
    {
     "name": "stdout",
     "output_type": "stream",
     "text": [
      "865\n",
      "0.35699546017333883\n",
      "0.30533003882809745\n",
      "784\n",
      "0.32356582748658685\n",
      "0.32356582748658685\n"
     ]
    },
    {
     "name": "stderr",
     "output_type": "stream",
     "text": [
      " 41%|████      | 614/1500 [7:30:37<10:50:15, 44.04s/it]"
     ]
    },
    {
     "name": "stdout",
     "output_type": "stream",
     "text": [
      "867\n",
      "0.3578208832026413\n",
      "0.30603600423579247\n",
      "794\n",
      "0.32769294263309945\n",
      "0.32769294263309945\n"
     ]
    },
    {
     "name": "stderr",
     "output_type": "stream",
     "text": [
      " 41%|████      | 615/1500 [7:31:21<10:49:09, 44.01s/it]"
     ]
    },
    {
     "name": "stdout",
     "output_type": "stream",
     "text": [
      "874\n",
      "0.36070986380520015\n",
      "0.308506883162725\n",
      "804\n",
      "0.33182005777961204\n",
      "0.33182005777961204\n"
     ]
    },
    {
     "name": "stderr",
     "output_type": "stream",
     "text": [
      " 41%|████      | 616/1500 [7:32:05<10:48:48, 44.04s/it]"
     ]
    },
    {
     "name": "stdout",
     "output_type": "stream",
     "text": [
      "878\n",
      "0.3623607098638052\n",
      "0.30991881397811505\n",
      "803\n",
      "0.33140734626496077\n",
      "0.33140734626496077\n"
     ]
    },
    {
     "name": "stderr",
     "output_type": "stream",
     "text": [
      " 41%|████      | 617/1500 [7:32:49<10:48:19, 44.05s/it]"
     ]
    },
    {
     "name": "stdout",
     "output_type": "stream",
     "text": [
      "888\n",
      "0.3664878250103178\n",
      "0.3134486410165902\n",
      "785\n",
      "0.32397853900123813\n",
      "0.32397853900123813\n"
     ]
    },
    {
     "name": "stderr",
     "output_type": "stream",
     "text": [
      " 41%|████      | 618/1500 [7:33:33<10:47:13, 44.03s/it]"
     ]
    },
    {
     "name": "stdout",
     "output_type": "stream",
     "text": [
      "869\n",
      "0.3586463062319439\n",
      "0.3067419696434875\n",
      "779\n",
      "0.3215022699133306\n",
      "0.3215022699133306\n"
     ]
    },
    {
     "name": "stderr",
     "output_type": "stream",
     "text": [
      " 41%|████▏     | 619/1500 [7:34:17<10:46:26, 44.03s/it]"
     ]
    },
    {
     "name": "stdout",
     "output_type": "stream",
     "text": [
      "863\n",
      "0.35617003714403633\n",
      "0.3046240734204024\n",
      "789\n",
      "0.3256293850598432\n",
      "0.3256293850598432\n"
     ]
    },
    {
     "name": "stderr",
     "output_type": "stream",
     "text": [
      " 41%|████▏     | 620/1500 [7:35:01<10:45:25, 44.01s/it]"
     ]
    },
    {
     "name": "stdout",
     "output_type": "stream",
     "text": [
      "875\n",
      "0.3611225753198514\n",
      "0.30885986586657255\n",
      "803\n",
      "0.33140734626496077\n",
      "0.33140734626496077\n"
     ]
    },
    {
     "name": "stderr",
     "output_type": "stream",
     "text": [
      " 41%|████▏     | 621/1500 [7:35:45<10:44:56, 44.02s/it]"
     ]
    },
    {
     "name": "stdout",
     "output_type": "stream",
     "text": [
      "873\n",
      "0.3602971522905489\n",
      "0.3081539004588775\n",
      "796\n",
      "0.328518365662402\n",
      "0.328518365662402\n"
     ]
    },
    {
     "name": "stderr",
     "output_type": "stream",
     "text": [
      " 41%|████▏     | 622/1500 [7:36:29<10:43:56, 44.01s/it]"
     ]
    },
    {
     "name": "stdout",
     "output_type": "stream",
     "text": [
      "881\n",
      "0.36359884440775897\n",
      "0.3109777620896576\n",
      "795\n",
      "0.3281056541477507\n",
      "0.3281056541477507\n"
     ]
    },
    {
     "name": "stderr",
     "output_type": "stream",
     "text": [
      " 42%|████▏     | 623/1500 [7:37:13<10:43:50, 44.05s/it]"
     ]
    },
    {
     "name": "stdout",
     "output_type": "stream",
     "text": [
      "863\n",
      "0.35617003714403633\n",
      "0.3046240734204024\n",
      "781\n",
      "0.3223276929426331\n",
      "0.3223276929426331\n"
     ]
    },
    {
     "name": "stderr",
     "output_type": "stream",
     "text": [
      " 42%|████▏     | 624/1500 [7:37:57<10:42:48, 44.03s/it]"
     ]
    },
    {
     "name": "stdout",
     "output_type": "stream",
     "text": [
      "869\n",
      "0.3586463062319439\n",
      "0.3067419696434875\n",
      "786\n",
      "0.3243912505158894\n",
      "0.3243912505158894\n"
     ]
    },
    {
     "name": "stderr",
     "output_type": "stream",
     "text": [
      " 42%|████▏     | 625/1500 [7:38:41<10:41:43, 44.00s/it]"
     ]
    },
    {
     "name": "stdout",
     "output_type": "stream",
     "text": [
      "870\n",
      "0.35905901774659515\n",
      "0.30709495234733497\n",
      "801\n",
      "0.33058192323565827\n",
      "0.33058192323565827\n"
     ]
    },
    {
     "name": "stderr",
     "output_type": "stream",
     "text": [
      " 42%|████▏     | 626/1500 [7:39:25<10:41:11, 44.02s/it]"
     ]
    },
    {
     "name": "stdout",
     "output_type": "stream",
     "text": [
      "883\n",
      "0.36442426743706147\n",
      "0.3116837274973526\n",
      "802\n",
      "0.33099463475030955\n",
      "0.33099463475030955\n"
     ]
    },
    {
     "name": "stderr",
     "output_type": "stream",
     "text": [
      " 42%|████▏     | 627/1500 [7:40:10<10:41:11, 44.07s/it]"
     ]
    },
    {
     "name": "stdout",
     "output_type": "stream",
     "text": [
      "883\n",
      "0.36442426743706147\n",
      "0.3116837274973526\n",
      "798\n",
      "0.3293437886917045\n",
      "0.3293437886917045\n"
     ]
    },
    {
     "name": "stderr",
     "output_type": "stream",
     "text": [
      " 42%|████▏     | 628/1500 [7:40:54<10:40:44, 44.09s/it]"
     ]
    },
    {
     "name": "stdout",
     "output_type": "stream",
     "text": [
      "878\n",
      "0.3623607098638052\n",
      "0.30991881397811505\n",
      "784\n",
      "0.32356582748658685\n",
      "0.32356582748658685\n"
     ]
    },
    {
     "name": "stderr",
     "output_type": "stream",
     "text": [
      " 42%|████▏     | 629/1500 [7:41:38<10:40:09, 44.10s/it]"
     ]
    },
    {
     "name": "stdout",
     "output_type": "stream",
     "text": [
      "863\n",
      "0.35617003714403633\n",
      "0.3046240734204024\n",
      "786\n",
      "0.3243912505158894\n",
      "0.3243912505158894\n"
     ]
    },
    {
     "name": "stderr",
     "output_type": "stream",
     "text": [
      " 42%|████▏     | 630/1500 [7:42:22<10:38:54, 44.06s/it]"
     ]
    },
    {
     "name": "stdout",
     "output_type": "stream",
     "text": [
      "863\n",
      "0.35617003714403633\n",
      "0.3046240734204024\n",
      "793\n",
      "0.32728023111844823\n",
      "0.32728023111844823\n"
     ]
    },
    {
     "name": "stderr",
     "output_type": "stream",
     "text": [
      " 42%|████▏     | 631/1500 [7:43:06<10:37:39, 44.03s/it]"
     ]
    },
    {
     "name": "stdout",
     "output_type": "stream",
     "text": [
      "875\n",
      "0.3611225753198514\n",
      "0.30885986586657255\n",
      "797\n",
      "0.3289310771770532\n",
      "0.3289310771770532\n"
     ]
    },
    {
     "name": "stderr",
     "output_type": "stream",
     "text": [
      " 42%|████▏     | 632/1500 [7:43:50<10:37:11, 44.05s/it]"
     ]
    },
    {
     "name": "stdout",
     "output_type": "stream",
     "text": [
      "884\n",
      "0.36483697895171274\n",
      "0.31203671020120016\n",
      "795\n",
      "0.3281056541477507\n",
      "0.3281056541477507\n"
     ]
    },
    {
     "name": "stderr",
     "output_type": "stream",
     "text": [
      " 42%|████▏     | 633/1500 [7:44:34<10:37:02, 44.09s/it]"
     ]
    },
    {
     "name": "stdout",
     "output_type": "stream",
     "text": [
      "877\n",
      "0.3619479983491539\n",
      "0.30956583127426757\n",
      "783\n",
      "0.32315311597193563\n",
      "0.32315311597193563\n"
     ]
    },
    {
     "name": "stderr",
     "output_type": "stream",
     "text": [
      " 42%|████▏     | 634/1500 [7:45:18<10:36:16, 44.08s/it]"
     ]
    },
    {
     "name": "stdout",
     "output_type": "stream",
     "text": [
      "862\n",
      "0.35575732562938506\n",
      "0.3042710907165549\n",
      "777\n",
      "0.3206768468840281\n",
      "0.3206768468840281\n"
     ]
    },
    {
     "name": "stderr",
     "output_type": "stream",
     "text": [
      " 42%|████▏     | 635/1500 [7:46:02<10:35:21, 44.07s/it]"
     ]
    },
    {
     "name": "stdout",
     "output_type": "stream",
     "text": [
      "867\n",
      "0.3578208832026413\n",
      "0.30603600423579247\n",
      "788\n",
      "0.3252166735451919\n",
      "0.3252166735451919\n"
     ]
    },
    {
     "name": "stderr",
     "output_type": "stream",
     "text": [
      " 42%|████▏     | 636/1500 [7:46:46<10:34:05, 44.03s/it]"
     ]
    },
    {
     "name": "stdout",
     "output_type": "stream",
     "text": [
      "873\n",
      "0.3602971522905489\n",
      "0.3081539004588775\n",
      "797\n",
      "0.3289310771770532\n",
      "0.3289310771770532\n"
     ]
    },
    {
     "name": "stderr",
     "output_type": "stream",
     "text": [
      " 42%|████▏     | 637/1500 [7:47:30<10:34:11, 44.09s/it]"
     ]
    },
    {
     "name": "stdout",
     "output_type": "stream",
     "text": [
      "875\n",
      "0.3611225753198514\n",
      "0.30885986586657255\n",
      "793\n",
      "0.32728023111844823\n",
      "0.32728023111844823\n"
     ]
    },
    {
     "name": "stderr",
     "output_type": "stream",
     "text": [
      " 43%|████▎     | 638/1500 [7:48:15<10:34:02, 44.13s/it]"
     ]
    },
    {
     "name": "stdout",
     "output_type": "stream",
     "text": [
      "881\n",
      "0.36359884440775897\n",
      "0.3109777620896576\n",
      "787\n",
      "0.3248039620305406\n",
      "0.3248039620305406\n"
     ]
    },
    {
     "name": "stderr",
     "output_type": "stream",
     "text": [
      " 43%|████▎     | 639/1500 [7:48:59<10:33:56, 44.18s/it]"
     ]
    },
    {
     "name": "stdout",
     "output_type": "stream",
     "text": [
      "860\n",
      "0.35493190260008256\n",
      "0.3035651253088599\n",
      "780\n",
      "0.32191498142798186\n",
      "0.32191498142798186\n"
     ]
    },
    {
     "name": "stderr",
     "output_type": "stream",
     "text": [
      " 43%|████▎     | 640/1500 [7:49:43<10:32:51, 44.15s/it]"
     ]
    },
    {
     "name": "stdout",
     "output_type": "stream",
     "text": [
      "860\n",
      "0.35493190260008256\n",
      "0.3035651253088599\n",
      "793\n",
      "0.32728023111844823\n",
      "0.32728023111844823\n"
     ]
    },
    {
     "name": "stderr",
     "output_type": "stream",
     "text": [
      " 43%|████▎     | 641/1500 [7:50:27<10:32:00, 44.15s/it]"
     ]
    },
    {
     "name": "stdout",
     "output_type": "stream",
     "text": [
      "864\n",
      "0.35658274865868755\n",
      "0.3049770561242499\n",
      "799\n",
      "0.3297565002063558\n",
      "0.3297565002063558\n"
     ]
    },
    {
     "name": "stderr",
     "output_type": "stream",
     "text": [
      " 43%|████▎     | 642/1500 [7:51:12<10:35:25, 44.44s/it]"
     ]
    },
    {
     "name": "stdout",
     "output_type": "stream",
     "text": [
      "878\n",
      "0.3623607098638052\n",
      "0.30991881397811505\n",
      "803\n",
      "0.33140734626496077\n",
      "0.33140734626496077\n"
     ]
    },
    {
     "name": "stderr",
     "output_type": "stream",
     "text": [
      " 43%|████▎     | 643/1500 [7:51:56<10:33:58, 44.39s/it]"
     ]
    },
    {
     "name": "stdout",
     "output_type": "stream",
     "text": [
      "883\n",
      "0.36442426743706147\n",
      "0.3116837274973526\n",
      "785\n",
      "0.32397853900123813\n",
      "0.32397853900123813\n"
     ]
    },
    {
     "name": "stderr",
     "output_type": "stream",
     "text": [
      " 43%|████▎     | 644/1500 [7:52:40<10:31:49, 44.29s/it]"
     ]
    },
    {
     "name": "stdout",
     "output_type": "stream",
     "text": [
      "856\n",
      "0.3532810565414775\n",
      "0.30215319449346983\n",
      "785\n",
      "0.32397853900123813\n",
      "0.32397853900123813\n"
     ]
    },
    {
     "name": "stderr",
     "output_type": "stream",
     "text": [
      " 43%|████▎     | 645/1500 [7:53:24<10:29:45, 44.19s/it]"
     ]
    },
    {
     "name": "stdout",
     "output_type": "stream",
     "text": [
      "865\n",
      "0.35699546017333883\n",
      "0.30533003882809745\n",
      "785\n",
      "0.32397853900123813\n",
      "0.32397853900123813\n"
     ]
    },
    {
     "name": "stderr",
     "output_type": "stream",
     "text": [
      " 43%|████▎     | 646/1500 [7:54:08<10:28:22, 44.15s/it]"
     ]
    },
    {
     "name": "stdout",
     "output_type": "stream",
     "text": [
      "859\n",
      "0.3545191910854313\n",
      "0.30321214260501234\n",
      "786\n",
      "0.3243912505158894\n",
      "0.3243912505158894\n"
     ]
    },
    {
     "name": "stderr",
     "output_type": "stream",
     "text": [
      " 43%|████▎     | 647/1500 [7:54:52<10:26:09, 44.04s/it]"
     ]
    },
    {
     "name": "stdout",
     "output_type": "stream",
     "text": [
      "885\n",
      "0.365249690466364\n",
      "0.31238969290504764\n",
      "794\n",
      "0.32769294263309945\n",
      "0.32769294263309945\n"
     ]
    },
    {
     "name": "stderr",
     "output_type": "stream",
     "text": [
      " 43%|████▎     | 648/1500 [7:55:36<10:25:16, 44.03s/it]"
     ]
    },
    {
     "name": "stdout",
     "output_type": "stream",
     "text": [
      "879\n",
      "0.3627734213784565\n",
      "0.3102717966819626\n",
      "779\n",
      "0.3215022699133306\n",
      "0.3215022699133306\n"
     ]
    },
    {
     "name": "stderr",
     "output_type": "stream",
     "text": [
      " 43%|████▎     | 649/1500 [7:56:20<10:24:06, 44.00s/it]"
     ]
    },
    {
     "name": "stdout",
     "output_type": "stream",
     "text": [
      "860\n",
      "0.35493190260008256\n",
      "0.3035651253088599\n",
      "783\n",
      "0.32315311597193563\n",
      "0.32315311597193563\n"
     ]
    },
    {
     "name": "stderr",
     "output_type": "stream",
     "text": [
      " 43%|████▎     | 650/1500 [7:57:04<10:23:42, 44.03s/it]"
     ]
    },
    {
     "name": "stdout",
     "output_type": "stream",
     "text": [
      "861\n",
      "0.3553446141147338\n",
      "0.30391810801270736\n",
      "787\n",
      "0.3248039620305406\n",
      "0.3248039620305406\n"
     ]
    },
    {
     "name": "stderr",
     "output_type": "stream",
     "text": [
      " 43%|████▎     | 651/1500 [7:57:48<10:22:45, 44.01s/it]"
     ]
    },
    {
     "name": "stdout",
     "output_type": "stream",
     "text": [
      "865\n",
      "0.35699546017333883\n",
      "0.30533003882809745\n",
      "796\n",
      "0.328518365662402\n",
      "0.328518365662402\n"
     ]
    },
    {
     "name": "stderr",
     "output_type": "stream",
     "text": [
      " 43%|████▎     | 652/1500 [7:58:32<10:22:13, 44.03s/it]"
     ]
    },
    {
     "name": "stdout",
     "output_type": "stream",
     "text": [
      "883\n",
      "0.36442426743706147\n",
      "0.3116837274973526\n",
      "793\n",
      "0.32728023111844823\n",
      "0.32728023111844823\n"
     ]
    },
    {
     "name": "stderr",
     "output_type": "stream",
     "text": [
      " 44%|████▎     | 653/1500 [7:59:17<10:22:36, 44.10s/it]"
     ]
    },
    {
     "name": "stdout",
     "output_type": "stream",
     "text": [
      "882\n",
      "0.36401155592241025\n",
      "0.31133074479350514\n",
      "784\n",
      "0.32356582748658685\n",
      "0.32356582748658685\n"
     ]
    },
    {
     "name": "stderr",
     "output_type": "stream",
     "text": [
      " 44%|████▎     | 654/1500 [8:00:01<10:21:20, 44.07s/it]"
     ]
    },
    {
     "name": "stdout",
     "output_type": "stream",
     "text": [
      "871\n",
      "0.3594717292612464\n",
      "0.3074479350511825\n",
      "784\n",
      "0.32356582748658685\n",
      "0.32356582748658685\n"
     ]
    },
    {
     "name": "stderr",
     "output_type": "stream",
     "text": [
      " 44%|████▎     | 655/1500 [8:00:45<10:19:55, 44.02s/it]"
     ]
    },
    {
     "name": "stdout",
     "output_type": "stream",
     "text": [
      "860\n",
      "0.35493190260008256\n",
      "0.3035651253088599\n",
      "780\n",
      "0.32191498142798186\n",
      "0.32191498142798186\n"
     ]
    },
    {
     "name": "stderr",
     "output_type": "stream",
     "text": [
      " 44%|████▎     | 656/1500 [8:01:29<10:19:01, 44.01s/it]"
     ]
    },
    {
     "name": "stdout",
     "output_type": "stream",
     "text": [
      "863\n",
      "0.35617003714403633\n",
      "0.3046240734204024\n",
      "784\n",
      "0.32356582748658685\n",
      "0.32356582748658685\n"
     ]
    },
    {
     "name": "stderr",
     "output_type": "stream",
     "text": [
      " 44%|████▍     | 657/1500 [8:02:13<10:19:01, 44.06s/it]"
     ]
    },
    {
     "name": "stdout",
     "output_type": "stream",
     "text": [
      "879\n",
      "0.3627734213784565\n",
      "0.3102717966819626\n",
      "796\n",
      "0.328518365662402\n",
      "0.328518365662402\n"
     ]
    },
    {
     "name": "stderr",
     "output_type": "stream",
     "text": [
      " 44%|████▍     | 658/1500 [8:02:57<10:18:26, 44.07s/it]"
     ]
    },
    {
     "name": "stdout",
     "output_type": "stream",
     "text": [
      "886\n",
      "0.3656624019810153\n",
      "0.3127426756088952\n",
      "788\n",
      "0.3252166735451919\n",
      "0.3252166735451919\n"
     ]
    },
    {
     "name": "stderr",
     "output_type": "stream",
     "text": [
      " 44%|████▍     | 659/1500 [8:03:41<10:17:38, 44.06s/it]"
     ]
    },
    {
     "name": "stdout",
     "output_type": "stream",
     "text": [
      "869\n",
      "0.3586463062319439\n",
      "0.3067419696434875\n",
      "781\n",
      "0.3223276929426331\n",
      "0.3223276929426331\n"
     ]
    },
    {
     "name": "stderr",
     "output_type": "stream",
     "text": [
      " 44%|████▍     | 660/1500 [8:04:25<10:16:22, 44.03s/it]"
     ]
    },
    {
     "name": "stdout",
     "output_type": "stream",
     "text": [
      "868\n",
      "0.3582335947172926\n",
      "0.30638898693963995\n",
      "792\n",
      "0.32686751960379695\n",
      "0.32686751960379695\n"
     ]
    },
    {
     "name": "stderr",
     "output_type": "stream",
     "text": [
      " 44%|████▍     | 661/1500 [8:05:09<10:15:34, 44.02s/it]"
     ]
    },
    {
     "name": "stdout",
     "output_type": "stream",
     "text": [
      "872\n",
      "0.35988444077589765\n",
      "0.30780091775503\n",
      "791\n",
      "0.3264548080891457\n",
      "0.3264548080891457\n"
     ]
    },
    {
     "name": "stderr",
     "output_type": "stream",
     "text": [
      " 44%|████▍     | 662/1500 [8:05:53<10:14:11, 43.98s/it]"
     ]
    },
    {
     "name": "stdout",
     "output_type": "stream",
     "text": [
      "883\n",
      "0.36442426743706147\n",
      "0.3116837274973526\n",
      "797\n",
      "0.3289310771770532\n",
      "0.3289310771770532\n"
     ]
    },
    {
     "name": "stderr",
     "output_type": "stream",
     "text": [
      " 44%|████▍     | 663/1500 [8:06:37<10:14:17, 44.03s/it]"
     ]
    },
    {
     "name": "stdout",
     "output_type": "stream",
     "text": [
      "886\n",
      "0.3656624019810153\n",
      "0.3127426756088952\n",
      "788\n",
      "0.3252166735451919\n",
      "0.3252166735451919\n"
     ]
    },
    {
     "name": "stderr",
     "output_type": "stream",
     "text": [
      " 44%|████▍     | 664/1500 [8:07:21<10:12:55, 43.99s/it]"
     ]
    },
    {
     "name": "stdout",
     "output_type": "stream",
     "text": [
      "876\n",
      "0.3615352868345027\n",
      "0.30921284857042003\n",
      "791\n",
      "0.3264548080891457\n",
      "0.3264548080891457\n"
     ]
    },
    {
     "name": "stderr",
     "output_type": "stream",
     "text": [
      " 44%|████▍     | 665/1500 [8:08:05<10:12:15, 44.00s/it]"
     ]
    },
    {
     "name": "stdout",
     "output_type": "stream",
     "text": [
      "864\n",
      "0.35658274865868755\n",
      "0.3049770561242499\n",
      "786\n",
      "0.3243912505158894\n",
      "0.3243912505158894\n"
     ]
    },
    {
     "name": "stderr",
     "output_type": "stream",
     "text": [
      " 44%|████▍     | 666/1500 [8:08:49<10:11:19, 43.98s/it]"
     ]
    },
    {
     "name": "stdout",
     "output_type": "stream",
     "text": [
      "865\n",
      "0.35699546017333883\n",
      "0.30533003882809745\n",
      "789\n",
      "0.3256293850598432\n",
      "0.3256293850598432\n"
     ]
    },
    {
     "name": "stderr",
     "output_type": "stream",
     "text": [
      " 44%|████▍     | 667/1500 [8:09:33<10:10:51, 44.00s/it]"
     ]
    },
    {
     "name": "stdout",
     "output_type": "stream",
     "text": [
      "877\n",
      "0.3619479983491539\n",
      "0.30956583127426757\n",
      "798\n",
      "0.3293437886917045\n",
      "0.3293437886917045\n"
     ]
    },
    {
     "name": "stderr",
     "output_type": "stream",
     "text": [
      " 45%|████▍     | 668/1500 [8:10:17<10:10:30, 44.03s/it]"
     ]
    },
    {
     "name": "stdout",
     "output_type": "stream",
     "text": [
      "878\n",
      "0.3623607098638052\n",
      "0.30991881397811505\n",
      "787\n",
      "0.3248039620305406\n",
      "0.3248039620305406\n"
     ]
    },
    {
     "name": "stderr",
     "output_type": "stream",
     "text": [
      " 45%|████▍     | 669/1500 [8:11:01<10:09:14, 43.99s/it]"
     ]
    },
    {
     "name": "stdout",
     "output_type": "stream",
     "text": [
      "888\n",
      "0.3664878250103178\n",
      "0.3134486410165902\n",
      "777\n",
      "0.3206768468840281\n",
      "0.3206768468840281\n"
     ]
    },
    {
     "name": "stderr",
     "output_type": "stream",
     "text": [
      " 45%|████▍     | 670/1500 [8:11:45<10:08:16, 43.97s/it]"
     ]
    },
    {
     "name": "stdout",
     "output_type": "stream",
     "text": [
      "879\n",
      "0.3627734213784565\n",
      "0.3102717966819626\n",
      "783\n",
      "0.32315311597193563\n",
      "0.32315311597193563\n"
     ]
    },
    {
     "name": "stderr",
     "output_type": "stream",
     "text": [
      " 45%|████▍     | 671/1500 [8:12:29<10:08:28, 44.04s/it]"
     ]
    },
    {
     "name": "stdout",
     "output_type": "stream",
     "text": [
      "867\n",
      "0.3578208832026413\n",
      "0.30603600423579247\n",
      "790\n",
      "0.32604209657449446\n",
      "0.32604209657449446\n"
     ]
    },
    {
     "name": "stderr",
     "output_type": "stream",
     "text": [
      " 45%|████▍     | 672/1500 [8:13:13<10:07:45, 44.04s/it]"
     ]
    },
    {
     "name": "stdout",
     "output_type": "stream",
     "text": [
      "866\n",
      "0.3574081716879901\n",
      "0.30568302153194493\n",
      "795\n",
      "0.3281056541477507\n",
      "0.3281056541477507\n"
     ]
    },
    {
     "name": "stderr",
     "output_type": "stream",
     "text": [
      " 45%|████▍     | 673/1500 [8:13:58<10:11:52, 44.39s/it]"
     ]
    },
    {
     "name": "stdout",
     "output_type": "stream",
     "text": [
      "867\n",
      "0.3578208832026413\n",
      "0.30603600423579247\n",
      "799\n",
      "0.3297565002063558\n",
      "0.3297565002063558\n"
     ]
    },
    {
     "name": "stderr",
     "output_type": "stream",
     "text": [
      " 45%|████▍     | 674/1500 [8:14:42<10:10:59, 44.38s/it]"
     ]
    },
    {
     "name": "stdout",
     "output_type": "stream",
     "text": [
      "883\n",
      "0.36442426743706147\n",
      "0.3116837274973526\n",
      "782\n",
      "0.32274040445728436\n",
      "0.32274040445728436\n"
     ]
    },
    {
     "name": "stderr",
     "output_type": "stream",
     "text": [
      " 45%|████▌     | 675/1500 [8:15:28<10:16:07, 44.81s/it]"
     ]
    },
    {
     "name": "stdout",
     "output_type": "stream",
     "text": [
      "867\n",
      "0.3578208832026413\n",
      "0.30603600423579247\n",
      "790\n",
      "0.32604209657449446\n",
      "0.32604209657449446\n"
     ]
    },
    {
     "name": "stderr",
     "output_type": "stream",
     "text": [
      " 45%|████▌     | 676/1500 [8:16:14<10:18:55, 45.07s/it]"
     ]
    },
    {
     "name": "stdout",
     "output_type": "stream",
     "text": [
      "869\n",
      "0.3586463062319439\n",
      "0.3067419696434875\n",
      "794\n",
      "0.32769294263309945\n",
      "0.32769294263309945\n"
     ]
    },
    {
     "name": "stderr",
     "output_type": "stream",
     "text": [
      " 45%|████▌     | 677/1500 [8:17:00<10:23:10, 45.43s/it]"
     ]
    },
    {
     "name": "stdout",
     "output_type": "stream",
     "text": [
      "877\n",
      "0.3619479983491539\n",
      "0.30956583127426757\n",
      "794\n",
      "0.32769294263309945\n",
      "0.32769294263309945\n"
     ]
    },
    {
     "name": "stderr",
     "output_type": "stream",
     "text": [
      " 45%|████▌     | 678/1500 [8:17:46<10:24:48, 45.61s/it]"
     ]
    },
    {
     "name": "stdout",
     "output_type": "stream",
     "text": [
      "885\n",
      "0.365249690466364\n",
      "0.31238969290504764\n",
      "788\n",
      "0.3252166735451919\n",
      "0.3252166735451919\n"
     ]
    },
    {
     "name": "stderr",
     "output_type": "stream",
     "text": [
      " 45%|████▌     | 679/1500 [8:18:31<10:19:13, 45.25s/it]"
     ]
    },
    {
     "name": "stdout",
     "output_type": "stream",
     "text": [
      "874\n",
      "0.36070986380520015\n",
      "0.308506883162725\n",
      "779\n",
      "0.3215022699133306\n",
      "0.3215022699133306\n"
     ]
    },
    {
     "name": "stderr",
     "output_type": "stream",
     "text": [
      " 45%|████▌     | 680/1500 [8:19:15<10:13:48, 44.91s/it]"
     ]
    },
    {
     "name": "stdout",
     "output_type": "stream",
     "text": [
      "862\n",
      "0.35575732562938506\n",
      "0.3042710907165549\n",
      "787\n",
      "0.3248039620305406\n",
      "0.3248039620305406\n"
     ]
    },
    {
     "name": "stderr",
     "output_type": "stream",
     "text": [
      " 45%|████▌     | 681/1500 [8:19:59<10:10:03, 44.69s/it]"
     ]
    },
    {
     "name": "stdout",
     "output_type": "stream",
     "text": [
      "859\n",
      "0.3545191910854313\n",
      "0.30321214260501234\n",
      "794\n",
      "0.32769294263309945\n",
      "0.32769294263309945\n"
     ]
    },
    {
     "name": "stderr",
     "output_type": "stream",
     "text": [
      " 45%|████▌     | 682/1500 [8:20:43<10:07:20, 44.55s/it]"
     ]
    },
    {
     "name": "stdout",
     "output_type": "stream",
     "text": [
      "883\n",
      "0.36442426743706147\n",
      "0.3116837274973526\n",
      "796\n",
      "0.328518365662402\n",
      "0.328518365662402\n"
     ]
    },
    {
     "name": "stderr",
     "output_type": "stream",
     "text": [
      " 46%|████▌     | 683/1500 [8:21:27<10:05:11, 44.44s/it]"
     ]
    },
    {
     "name": "stdout",
     "output_type": "stream",
     "text": [
      "876\n",
      "0.3615352868345027\n",
      "0.30921284857042003\n",
      "790\n",
      "0.32604209657449446\n",
      "0.32604209657449446\n"
     ]
    },
    {
     "name": "stderr",
     "output_type": "stream",
     "text": [
      " 46%|████▌     | 684/1500 [8:22:11<10:03:00, 44.34s/it]"
     ]
    },
    {
     "name": "stdout",
     "output_type": "stream",
     "text": [
      "885\n",
      "0.365249690466364\n",
      "0.31238969290504764\n",
      "790\n",
      "0.32604209657449446\n",
      "0.32604209657449446\n"
     ]
    },
    {
     "name": "stderr",
     "output_type": "stream",
     "text": [
      " 46%|████▌     | 685/1500 [8:22:55<10:00:53, 44.24s/it]"
     ]
    },
    {
     "name": "stdout",
     "output_type": "stream",
     "text": [
      "877\n",
      "0.3619479983491539\n",
      "0.30956583127426757\n",
      "783\n",
      "0.32315311597193563\n",
      "0.32315311597193563\n"
     ]
    },
    {
     "name": "stderr",
     "output_type": "stream",
     "text": [
      " 46%|████▌     | 686/1500 [8:23:39<9:59:20, 44.18s/it] "
     ]
    },
    {
     "name": "stdout",
     "output_type": "stream",
     "text": [
      "864\n",
      "0.35658274865868755\n",
      "0.3049770561242499\n",
      "792\n",
      "0.32686751960379695\n",
      "0.32686751960379695\n"
     ]
    },
    {
     "name": "stderr",
     "output_type": "stream",
     "text": [
      " 46%|████▌     | 687/1500 [8:24:24<9:58:24, 44.16s/it]"
     ]
    },
    {
     "name": "stdout",
     "output_type": "stream",
     "text": [
      "872\n",
      "0.35988444077589765\n",
      "0.30780091775503\n",
      "796\n",
      "0.328518365662402\n",
      "0.328518365662402\n"
     ]
    },
    {
     "name": "stderr",
     "output_type": "stream",
     "text": [
      " 46%|████▌     | 688/1500 [8:25:08<9:57:07, 44.12s/it]"
     ]
    },
    {
     "name": "stdout",
     "output_type": "stream",
     "text": [
      "869\n",
      "0.3586463062319439\n",
      "0.3067419696434875\n",
      "799\n",
      "0.3297565002063558\n",
      "0.3297565002063558\n"
     ]
    },
    {
     "name": "stderr",
     "output_type": "stream",
     "text": [
      " 46%|████▌     | 689/1500 [8:25:52<9:55:38, 44.07s/it]"
     ]
    },
    {
     "name": "stdout",
     "output_type": "stream",
     "text": [
      "866\n",
      "0.3574081716879901\n",
      "0.30568302153194493\n",
      "786\n",
      "0.3243912505158894\n",
      "0.3243912505158894\n"
     ]
    },
    {
     "name": "stderr",
     "output_type": "stream",
     "text": [
      " 46%|████▌     | 690/1500 [8:26:36<9:54:49, 44.06s/it]"
     ]
    },
    {
     "name": "stdout",
     "output_type": "stream",
     "text": [
      "867\n",
      "0.3578208832026413\n",
      "0.30603600423579247\n",
      "780\n",
      "0.32191498142798186\n",
      "0.32191498142798186\n"
     ]
    },
    {
     "name": "stderr",
     "output_type": "stream",
     "text": [
      " 46%|████▌     | 691/1500 [8:27:20<9:54:14, 44.07s/it]"
     ]
    },
    {
     "name": "stdout",
     "output_type": "stream",
     "text": [
      "867\n",
      "0.3578208832026413\n",
      "0.30603600423579247\n",
      "787\n",
      "0.3248039620305406\n",
      "0.3248039620305406\n"
     ]
    },
    {
     "name": "stderr",
     "output_type": "stream",
     "text": [
      " 46%|████▌     | 692/1500 [8:28:04<9:53:01, 44.04s/it]"
     ]
    },
    {
     "name": "stdout",
     "output_type": "stream",
     "text": [
      "868\n",
      "0.3582335947172926\n",
      "0.30638898693963995\n",
      "789\n",
      "0.3256293850598432\n",
      "0.3256293850598432\n"
     ]
    },
    {
     "name": "stderr",
     "output_type": "stream",
     "text": [
      " 46%|████▌     | 693/1500 [8:28:48<9:52:19, 44.04s/it]"
     ]
    },
    {
     "name": "stdout",
     "output_type": "stream",
     "text": [
      "876\n",
      "0.3615352868345027\n",
      "0.30921284857042003\n",
      "800\n",
      "0.330169211721007\n",
      "0.330169211721007\n"
     ]
    },
    {
     "name": "stderr",
     "output_type": "stream",
     "text": [
      " 46%|████▋     | 694/1500 [8:29:32<9:51:17, 44.02s/it]"
     ]
    },
    {
     "name": "stdout",
     "output_type": "stream",
     "text": [
      "868\n",
      "0.3582335947172926\n",
      "0.30638898693963995\n",
      "784\n",
      "0.32356582748658685\n",
      "0.32356582748658685\n"
     ]
    },
    {
     "name": "stderr",
     "output_type": "stream",
     "text": [
      " 46%|████▋     | 695/1500 [8:30:16<9:50:43, 44.03s/it]"
     ]
    },
    {
     "name": "stdout",
     "output_type": "stream",
     "text": [
      "874\n",
      "0.36070986380520015\n",
      "0.308506883162725\n",
      "786\n",
      "0.3243912505158894\n",
      "0.3243912505158894\n"
     ]
    },
    {
     "name": "stderr",
     "output_type": "stream",
     "text": [
      " 46%|████▋     | 696/1500 [8:31:01<9:54:03, 44.33s/it]"
     ]
    },
    {
     "name": "stdout",
     "output_type": "stream",
     "text": [
      "865\n",
      "0.35699546017333883\n",
      "0.30533003882809745\n",
      "784\n",
      "0.32356582748658685\n",
      "0.32356582748658685\n"
     ]
    },
    {
     "name": "stderr",
     "output_type": "stream",
     "text": [
      " 46%|████▋     | 697/1500 [8:31:45<9:51:30, 44.20s/it]"
     ]
    },
    {
     "name": "stdout",
     "output_type": "stream",
     "text": [
      "866\n",
      "0.3574081716879901\n",
      "0.30568302153194493\n",
      "793\n",
      "0.32728023111844823\n",
      "0.32728023111844823\n"
     ]
    },
    {
     "name": "stderr",
     "output_type": "stream",
     "text": [
      " 47%|████▋     | 698/1500 [8:32:29<9:50:18, 44.16s/it]"
     ]
    },
    {
     "name": "stdout",
     "output_type": "stream",
     "text": [
      "868\n",
      "0.3582335947172926\n",
      "0.30638898693963995\n",
      "796\n",
      "0.328518365662402\n",
      "0.328518365662402\n"
     ]
    },
    {
     "name": "stderr",
     "output_type": "stream",
     "text": [
      " 47%|████▋     | 699/1500 [8:33:13<9:48:53, 44.11s/it]"
     ]
    },
    {
     "name": "stdout",
     "output_type": "stream",
     "text": [
      "873\n",
      "0.3602971522905489\n",
      "0.3081539004588775\n",
      "797\n",
      "0.3289310771770532\n",
      "0.3289310771770532\n"
     ]
    },
    {
     "name": "stderr",
     "output_type": "stream",
     "text": [
      " 47%|████▋     | 700/1500 [8:33:57<9:47:02, 44.03s/it]"
     ]
    },
    {
     "name": "stdout",
     "output_type": "stream",
     "text": [
      "870\n",
      "0.35905901774659515\n",
      "0.30709495234733497\n",
      "778\n",
      "0.3210895583986793\n",
      "0.3210895583986793\n"
     ]
    },
    {
     "name": "stderr",
     "output_type": "stream",
     "text": [
      " 47%|████▋     | 701/1500 [8:34:41<9:45:57, 44.00s/it]"
     ]
    },
    {
     "name": "stdout",
     "output_type": "stream",
     "text": [
      "866\n",
      "0.3574081716879901\n",
      "0.30568302153194493\n",
      "783\n",
      "0.32315311597193563\n",
      "0.32315311597193563\n"
     ]
    },
    {
     "name": "stderr",
     "output_type": "stream",
     "text": [
      " 47%|████▋     | 702/1500 [8:35:25<9:45:12, 44.00s/it]"
     ]
    },
    {
     "name": "stdout",
     "output_type": "stream",
     "text": [
      "870\n",
      "0.35905901774659515\n",
      "0.30709495234733497\n",
      "792\n",
      "0.32686751960379695\n",
      "0.32686751960379695\n"
     ]
    },
    {
     "name": "stderr",
     "output_type": "stream",
     "text": [
      " 47%|████▋     | 703/1500 [8:36:08<9:44:17, 43.99s/it]"
     ]
    },
    {
     "name": "stdout",
     "output_type": "stream",
     "text": [
      "881\n",
      "0.36359884440775897\n",
      "0.3109777620896576\n",
      "800\n",
      "0.330169211721007\n",
      "0.330169211721007\n"
     ]
    },
    {
     "name": "stderr",
     "output_type": "stream",
     "text": [
      " 47%|████▋     | 704/1500 [8:36:52<9:43:16, 43.97s/it]"
     ]
    },
    {
     "name": "stdout",
     "output_type": "stream",
     "text": [
      "875\n",
      "0.3611225753198514\n",
      "0.30885986586657255\n",
      "802\n",
      "0.33099463475030955\n",
      "0.33099463475030955\n"
     ]
    },
    {
     "name": "stderr",
     "output_type": "stream",
     "text": [
      " 47%|████▋     | 705/1500 [8:37:36<9:42:50, 43.99s/it]"
     ]
    },
    {
     "name": "stdout",
     "output_type": "stream",
     "text": [
      "876\n",
      "0.3615352868345027\n",
      "0.30921284857042003\n",
      "790\n",
      "0.32604209657449446\n",
      "0.32604209657449446\n"
     ]
    },
    {
     "name": "stderr",
     "output_type": "stream",
     "text": [
      " 47%|████▋     | 706/1500 [8:38:20<9:42:10, 43.99s/it]"
     ]
    },
    {
     "name": "stdout",
     "output_type": "stream",
     "text": [
      "851\n",
      "0.3512174989682212\n",
      "0.30038828097423226\n",
      "790\n",
      "0.32604209657449446\n",
      "0.32604209657449446\n"
     ]
    },
    {
     "name": "stderr",
     "output_type": "stream",
     "text": [
      " 47%|████▋     | 707/1500 [8:39:04<9:41:45, 44.02s/it]"
     ]
    },
    {
     "name": "stdout",
     "output_type": "stream",
     "text": [
      "869\n",
      "0.3586463062319439\n",
      "0.3067419696434875\n",
      "789\n",
      "0.3256293850598432\n",
      "0.3256293850598432\n"
     ]
    },
    {
     "name": "stderr",
     "output_type": "stream",
     "text": [
      " 47%|████▋     | 708/1500 [8:39:48<9:40:42, 43.99s/it]"
     ]
    },
    {
     "name": "stdout",
     "output_type": "stream",
     "text": [
      "882\n",
      "0.36401155592241025\n",
      "0.31133074479350514\n",
      "800\n",
      "0.330169211721007\n",
      "0.330169211721007\n"
     ]
    },
    {
     "name": "stderr",
     "output_type": "stream",
     "text": [
      " 47%|████▋     | 709/1500 [8:40:32<9:39:45, 43.98s/it]"
     ]
    },
    {
     "name": "stdout",
     "output_type": "stream",
     "text": [
      "885\n",
      "0.365249690466364\n",
      "0.31238969290504764\n",
      "789\n",
      "0.3256293850598432\n",
      "0.3256293850598432\n"
     ]
    },
    {
     "name": "stderr",
     "output_type": "stream",
     "text": [
      " 47%|████▋     | 710/1500 [8:41:16<9:39:06, 43.98s/it]"
     ]
    },
    {
     "name": "stdout",
     "output_type": "stream",
     "text": [
      "871\n",
      "0.3594717292612464\n",
      "0.3074479350511825\n",
      "781\n",
      "0.3223276929426331\n",
      "0.3223276929426331\n"
     ]
    },
    {
     "name": "stderr",
     "output_type": "stream",
     "text": [
      " 47%|████▋     | 711/1500 [8:42:01<9:39:15, 44.05s/it]"
     ]
    },
    {
     "name": "stdout",
     "output_type": "stream",
     "text": [
      "862\n",
      "0.35575732562938506\n",
      "0.3042710907165549\n",
      "778\n",
      "0.3210895583986793\n",
      "0.3210895583986793\n"
     ]
    },
    {
     "name": "stderr",
     "output_type": "stream",
     "text": [
      " 47%|████▋     | 712/1500 [8:42:45<9:38:34, 44.05s/it]"
     ]
    },
    {
     "name": "stdout",
     "output_type": "stream",
     "text": [
      "851\n",
      "0.3512174989682212\n",
      "0.30038828097423226\n",
      "779\n",
      "0.3215022699133306\n",
      "0.3215022699133306\n"
     ]
    },
    {
     "name": "stderr",
     "output_type": "stream",
     "text": [
      " 48%|████▊     | 713/1500 [8:43:29<9:37:14, 44.01s/it]"
     ]
    },
    {
     "name": "stdout",
     "output_type": "stream",
     "text": [
      "872\n",
      "0.35988444077589765\n",
      "0.30780091775503\n",
      "791\n",
      "0.3264548080891457\n",
      "0.3264548080891457\n"
     ]
    },
    {
     "name": "stderr",
     "output_type": "stream",
     "text": [
      " 48%|████▊     | 714/1500 [8:44:12<9:36:08, 43.98s/it]"
     ]
    },
    {
     "name": "stdout",
     "output_type": "stream",
     "text": [
      "885\n",
      "0.365249690466364\n",
      "0.31238969290504764\n",
      "789\n",
      "0.3256293850598432\n",
      "0.3256293850598432\n"
     ]
    },
    {
     "name": "stderr",
     "output_type": "stream",
     "text": [
      " 48%|████▊     | 715/1500 [8:44:57<9:35:40, 44.00s/it]"
     ]
    },
    {
     "name": "stdout",
     "output_type": "stream",
     "text": [
      "890\n",
      "0.3673132480396203\n",
      "0.3141546064242852\n",
      "787\n",
      "0.3248039620305406\n",
      "0.3248039620305406\n"
     ]
    },
    {
     "name": "stderr",
     "output_type": "stream",
     "text": [
      " 48%|████▊     | 716/1500 [8:45:41<9:35:03, 44.01s/it]"
     ]
    },
    {
     "name": "stdout",
     "output_type": "stream",
     "text": [
      "868\n",
      "0.3582335947172926\n",
      "0.30638898693963995\n",
      "777\n",
      "0.3206768468840281\n",
      "0.3206768468840281\n"
     ]
    },
    {
     "name": "stderr",
     "output_type": "stream",
     "text": [
      " 48%|████▊     | 717/1500 [8:46:25<9:34:16, 44.01s/it]"
     ]
    },
    {
     "name": "stdout",
     "output_type": "stream",
     "text": [
      "844\n",
      "0.3483285183656624\n",
      "0.29791740204729966\n",
      "791\n",
      "0.3264548080891457\n",
      "0.3264548080891457\n"
     ]
    },
    {
     "name": "stderr",
     "output_type": "stream",
     "text": [
      " 48%|████▊     | 718/1500 [8:47:08<9:33:18, 43.99s/it]"
     ]
    },
    {
     "name": "stdout",
     "output_type": "stream",
     "text": [
      "861\n",
      "0.3553446141147338\n",
      "0.30391810801270736\n",
      "795\n",
      "0.3281056541477507\n",
      "0.3281056541477507\n"
     ]
    },
    {
     "name": "stderr",
     "output_type": "stream",
     "text": [
      " 48%|████▊     | 719/1500 [8:47:53<9:32:48, 44.01s/it]"
     ]
    },
    {
     "name": "stdout",
     "output_type": "stream",
     "text": [
      "880\n",
      "0.3631861328931077\n",
      "0.31062477938581007\n",
      "803\n",
      "0.33140734626496077\n",
      "0.33140734626496077\n"
     ]
    },
    {
     "name": "stderr",
     "output_type": "stream",
     "text": [
      " 48%|████▊     | 720/1500 [8:48:37<9:32:06, 44.01s/it]"
     ]
    },
    {
     "name": "stdout",
     "output_type": "stream",
     "text": [
      "887\n",
      "0.3660751134956665\n",
      "0.31309565831274266\n",
      "784\n",
      "0.32356582748658685\n",
      "0.32356582748658685\n"
     ]
    },
    {
     "name": "stderr",
     "output_type": "stream",
     "text": [
      " 48%|████▊     | 721/1500 [8:49:20<9:31:04, 43.99s/it]"
     ]
    },
    {
     "name": "stdout",
     "output_type": "stream",
     "text": [
      "880\n",
      "0.3631861328931077\n",
      "0.31062477938581007\n",
      "778\n",
      "0.3210895583986793\n",
      "0.3210895583986793\n"
     ]
    },
    {
     "name": "stderr",
     "output_type": "stream",
     "text": [
      " 48%|████▊     | 722/1500 [8:50:05<9:30:35, 44.00s/it]"
     ]
    },
    {
     "name": "stdout",
     "output_type": "stream",
     "text": [
      "860\n",
      "0.35493190260008256\n",
      "0.3035651253088599\n",
      "777\n",
      "0.3206768468840281\n",
      "0.3206768468840281\n"
     ]
    },
    {
     "name": "stderr",
     "output_type": "stream",
     "text": [
      " 48%|████▊     | 723/1500 [8:50:48<9:29:43, 43.99s/it]"
     ]
    },
    {
     "name": "stdout",
     "output_type": "stream",
     "text": [
      "866\n",
      "0.3574081716879901\n",
      "0.30568302153194493\n",
      "781\n",
      "0.3223276929426331\n",
      "0.3223276929426331\n"
     ]
    },
    {
     "name": "stderr",
     "output_type": "stream",
     "text": [
      " 48%|████▊     | 724/1500 [8:51:33<9:29:15, 44.02s/it]"
     ]
    },
    {
     "name": "stdout",
     "output_type": "stream",
     "text": [
      "881\n",
      "0.36359884440775897\n",
      "0.3109777620896576\n",
      "795\n",
      "0.3281056541477507\n",
      "0.3281056541477507\n"
     ]
    },
    {
     "name": "stderr",
     "output_type": "stream",
     "text": [
      " 48%|████▊     | 725/1500 [8:52:17<9:28:23, 44.00s/it]"
     ]
    },
    {
     "name": "stdout",
     "output_type": "stream",
     "text": [
      "888\n",
      "0.3664878250103178\n",
      "0.3134486410165902\n",
      "785\n",
      "0.32397853900123813\n",
      "0.32397853900123813\n"
     ]
    },
    {
     "name": "stderr",
     "output_type": "stream",
     "text": [
      " 48%|████▊     | 726/1500 [8:53:00<9:26:52, 43.94s/it]"
     ]
    },
    {
     "name": "stdout",
     "output_type": "stream",
     "text": [
      "895\n",
      "0.3693768056128766\n",
      "0.31591951994352274\n",
      "771\n",
      "0.3182005777961205\n",
      "0.3182005777961205\n"
     ]
    },
    {
     "name": "stderr",
     "output_type": "stream",
     "text": [
      " 48%|████▊     | 727/1500 [8:53:44<9:26:19, 43.96s/it]"
     ]
    },
    {
     "name": "stdout",
     "output_type": "stream",
     "text": [
      "861\n",
      "0.3553446141147338\n",
      "0.30391810801270736\n",
      "782\n",
      "0.32274040445728436\n",
      "0.32274040445728436\n"
     ]
    },
    {
     "name": "stderr",
     "output_type": "stream",
     "text": [
      " 49%|████▊     | 728/1500 [8:54:28<9:25:48, 43.97s/it]"
     ]
    },
    {
     "name": "stdout",
     "output_type": "stream",
     "text": [
      "860\n",
      "0.35493190260008256\n",
      "0.3035651253088599\n",
      "787\n",
      "0.3248039620305406\n",
      "0.3248039620305406\n"
     ]
    },
    {
     "name": "stderr",
     "output_type": "stream",
     "text": [
      " 49%|████▊     | 729/1500 [8:55:13<9:29:15, 44.30s/it]"
     ]
    },
    {
     "name": "stdout",
     "output_type": "stream",
     "text": [
      "873\n",
      "0.3602971522905489\n",
      "0.3081539004588775\n",
      "789\n",
      "0.3256293850598432\n",
      "0.3256293850598432\n"
     ]
    },
    {
     "name": "stderr",
     "output_type": "stream",
     "text": [
      " 49%|████▊     | 730/1500 [8:55:58<9:27:48, 44.24s/it]"
     ]
    },
    {
     "name": "stdout",
     "output_type": "stream",
     "text": [
      "884\n",
      "0.36483697895171274\n",
      "0.31203671020120016\n",
      "793\n",
      "0.32728023111844823\n",
      "0.32728023111844823\n"
     ]
    },
    {
     "name": "stderr",
     "output_type": "stream",
     "text": [
      " 49%|████▊     | 731/1500 [8:56:41<9:25:54, 44.15s/it]"
     ]
    },
    {
     "name": "stdout",
     "output_type": "stream",
     "text": [
      "881\n",
      "0.36359884440775897\n",
      "0.3109777620896576\n",
      "788\n",
      "0.3252166735451919\n",
      "0.3252166735451919\n"
     ]
    },
    {
     "name": "stderr",
     "output_type": "stream",
     "text": [
      " 49%|████▉     | 732/1500 [8:57:26<9:25:07, 44.15s/it]"
     ]
    },
    {
     "name": "stdout",
     "output_type": "stream",
     "text": [
      "869\n",
      "0.3586463062319439\n",
      "0.3067419696434875\n",
      "786\n",
      "0.3243912505158894\n",
      "0.3243912505158894\n"
     ]
    },
    {
     "name": "stderr",
     "output_type": "stream",
     "text": [
      " 49%|████▉     | 733/1500 [8:58:10<9:24:07, 44.13s/it]"
     ]
    },
    {
     "name": "stdout",
     "output_type": "stream",
     "text": [
      "864\n",
      "0.35658274865868755\n",
      "0.3049770561242499\n",
      "789\n",
      "0.3256293850598432\n",
      "0.3256293850598432\n"
     ]
    },
    {
     "name": "stderr",
     "output_type": "stream",
     "text": [
      " 49%|████▉     | 734/1500 [8:58:54<9:22:59, 44.10s/it]"
     ]
    },
    {
     "name": "stdout",
     "output_type": "stream",
     "text": [
      "872\n",
      "0.35988444077589765\n",
      "0.30780091775503\n",
      "792\n",
      "0.32686751960379695\n",
      "0.32686751960379695\n"
     ]
    },
    {
     "name": "stderr",
     "output_type": "stream",
     "text": [
      " 49%|████▉     | 735/1500 [8:59:38<9:21:32, 44.04s/it]"
     ]
    },
    {
     "name": "stdout",
     "output_type": "stream",
     "text": [
      "879\n",
      "0.3627734213784565\n",
      "0.3102717966819626\n",
      "790\n",
      "0.32604209657449446\n",
      "0.32604209657449446\n"
     ]
    },
    {
     "name": "stderr",
     "output_type": "stream",
     "text": [
      " 49%|████▉     | 736/1500 [9:00:22<9:20:52, 44.05s/it]"
     ]
    },
    {
     "name": "stdout",
     "output_type": "stream",
     "text": [
      "893\n",
      "0.36855138258357406\n",
      "0.3152135545358277\n",
      "793\n",
      "0.32728023111844823\n",
      "0.32728023111844823\n"
     ]
    },
    {
     "name": "stderr",
     "output_type": "stream",
     "text": [
      " 49%|████▉     | 737/1500 [9:01:06<9:19:55, 44.03s/it]"
     ]
    },
    {
     "name": "stdout",
     "output_type": "stream",
     "text": [
      "872\n",
      "0.35988444077589765\n",
      "0.30780091775503\n",
      "780\n",
      "0.32191498142798186\n",
      "0.32191498142798186\n"
     ]
    },
    {
     "name": "stderr",
     "output_type": "stream",
     "text": [
      " 49%|████▉     | 738/1500 [9:01:50<9:19:37, 44.06s/it]"
     ]
    },
    {
     "name": "stdout",
     "output_type": "stream",
     "text": [
      "861\n",
      "0.3553446141147338\n",
      "0.30391810801270736\n",
      "785\n",
      "0.32397853900123813\n",
      "0.32397853900123813\n"
     ]
    },
    {
     "name": "stderr",
     "output_type": "stream",
     "text": [
      " 49%|████▉     | 739/1500 [9:02:34<9:18:50, 44.06s/it]"
     ]
    },
    {
     "name": "stdout",
     "output_type": "stream",
     "text": [
      "868\n",
      "0.3582335947172926\n",
      "0.30638898693963995\n",
      "799\n",
      "0.3297565002063558\n",
      "0.3297565002063558\n"
     ]
    },
    {
     "name": "stderr",
     "output_type": "stream",
     "text": [
      " 49%|████▉     | 740/1500 [9:03:18<9:17:54, 44.05s/it]"
     ]
    },
    {
     "name": "stdout",
     "output_type": "stream",
     "text": [
      "880\n",
      "0.3631861328931077\n",
      "0.31062477938581007\n",
      "800\n",
      "0.330169211721007\n",
      "0.330169211721007\n"
     ]
    },
    {
     "name": "stderr",
     "output_type": "stream",
     "text": [
      " 49%|████▉     | 741/1500 [9:04:02<9:17:00, 44.03s/it]"
     ]
    },
    {
     "name": "stdout",
     "output_type": "stream",
     "text": [
      "892\n",
      "0.36813867106892284\n",
      "0.31486057183198024\n",
      "790\n",
      "0.32604209657449446\n",
      "0.32604209657449446\n"
     ]
    },
    {
     "name": "stderr",
     "output_type": "stream",
     "text": [
      " 49%|████▉     | 742/1500 [9:04:46<9:15:50, 44.00s/it]"
     ]
    },
    {
     "name": "stdout",
     "output_type": "stream",
     "text": [
      "883\n",
      "0.36442426743706147\n",
      "0.3116837274973526\n",
      "785\n",
      "0.32397853900123813\n",
      "0.32397853900123813\n"
     ]
    },
    {
     "name": "stderr",
     "output_type": "stream",
     "text": [
      " 50%|████▉     | 743/1500 [9:05:30<9:14:55, 43.98s/it]"
     ]
    },
    {
     "name": "stdout",
     "output_type": "stream",
     "text": [
      "868\n",
      "0.3582335947172926\n",
      "0.30638898693963995\n",
      "784\n",
      "0.32356582748658685\n",
      "0.32356582748658685\n"
     ]
    },
    {
     "name": "stderr",
     "output_type": "stream",
     "text": [
      " 50%|████▉     | 744/1500 [9:06:14<9:14:17, 43.99s/it]"
     ]
    },
    {
     "name": "stdout",
     "output_type": "stream",
     "text": [
      "869\n",
      "0.3586463062319439\n",
      "0.3067419696434875\n",
      "794\n",
      "0.32769294263309945\n",
      "0.32769294263309945\n"
     ]
    },
    {
     "name": "stderr",
     "output_type": "stream",
     "text": [
      " 50%|████▉     | 745/1500 [9:06:58<9:14:00, 44.03s/it]"
     ]
    },
    {
     "name": "stdout",
     "output_type": "stream",
     "text": [
      "886\n",
      "0.3656624019810153\n",
      "0.3127426756088952\n",
      "800\n",
      "0.330169211721007\n",
      "0.330169211721007\n"
     ]
    },
    {
     "name": "stderr",
     "output_type": "stream",
     "text": [
      " 50%|████▉     | 746/1500 [9:07:42<9:13:14, 44.02s/it]"
     ]
    },
    {
     "name": "stdout",
     "output_type": "stream",
     "text": [
      "891\n",
      "0.36772595955427156\n",
      "0.3145075891281327\n",
      "789\n",
      "0.3256293850598432\n",
      "0.3256293850598432\n"
     ]
    },
    {
     "name": "stderr",
     "output_type": "stream",
     "text": [
      " 50%|████▉     | 747/1500 [9:08:26<9:12:11, 44.00s/it]"
     ]
    },
    {
     "name": "stdout",
     "output_type": "stream",
     "text": [
      "887\n",
      "0.3660751134956665\n",
      "0.31309565831274266\n",
      "785\n",
      "0.32397853900123813\n",
      "0.32397853900123813\n"
     ]
    },
    {
     "name": "stderr",
     "output_type": "stream",
     "text": [
      " 50%|████▉     | 748/1500 [9:09:10<9:11:10, 43.98s/it]"
     ]
    },
    {
     "name": "stdout",
     "output_type": "stream",
     "text": [
      "862\n",
      "0.35575732562938506\n",
      "0.3042710907165549\n",
      "788\n",
      "0.3252166735451919\n",
      "0.3252166735451919\n"
     ]
    },
    {
     "name": "stderr",
     "output_type": "stream",
     "text": [
      " 50%|████▉     | 749/1500 [9:09:54<9:10:53, 44.01s/it]"
     ]
    },
    {
     "name": "stdout",
     "output_type": "stream",
     "text": [
      "865\n",
      "0.35699546017333883\n",
      "0.30533003882809745\n",
      "794\n",
      "0.32769294263309945\n",
      "0.32769294263309945\n"
     ]
    },
    {
     "name": "stderr",
     "output_type": "stream",
     "text": [
      " 50%|█████     | 750/1500 [9:10:38<9:10:19, 44.03s/it]"
     ]
    },
    {
     "name": "stdout",
     "output_type": "stream",
     "text": [
      "873\n",
      "0.3602971522905489\n",
      "0.3081539004588775\n",
      "789\n",
      "0.3256293850598432\n",
      "0.3256293850598432\n"
     ]
    },
    {
     "name": "stderr",
     "output_type": "stream",
     "text": [
      " 50%|█████     | 751/1500 [9:11:22<9:09:55, 44.05s/it]"
     ]
    },
    {
     "name": "stdout",
     "output_type": "stream",
     "text": [
      "892\n",
      "0.36813867106892284\n",
      "0.31486057183198024\n",
      "799\n",
      "0.3297565002063558\n",
      "0.3297565002063558\n"
     ]
    },
    {
     "name": "stderr",
     "output_type": "stream",
     "text": [
      " 50%|█████     | 752/1500 [9:12:06<9:09:29, 44.08s/it]"
     ]
    },
    {
     "name": "stdout",
     "output_type": "stream",
     "text": [
      "891\n",
      "0.36772595955427156\n",
      "0.3145075891281327\n",
      "786\n",
      "0.3243912505158894\n",
      "0.3243912505158894\n"
     ]
    },
    {
     "name": "stderr",
     "output_type": "stream",
     "text": [
      " 50%|█████     | 753/1500 [9:12:50<9:08:51, 44.09s/it]"
     ]
    },
    {
     "name": "stdout",
     "output_type": "stream",
     "text": [
      "867\n",
      "0.3578208832026413\n",
      "0.30603600423579247\n",
      "783\n",
      "0.32315311597193563\n",
      "0.32315311597193563\n"
     ]
    },
    {
     "name": "stderr",
     "output_type": "stream",
     "text": [
      " 50%|█████     | 754/1500 [9:13:34<9:08:00, 44.08s/it]"
     ]
    },
    {
     "name": "stdout",
     "output_type": "stream",
     "text": [
      "857\n",
      "0.3536937680561288\n",
      "0.3025061771973173\n",
      "791\n",
      "0.3264548080891457\n",
      "0.3264548080891457\n"
     ]
    },
    {
     "name": "stderr",
     "output_type": "stream",
     "text": [
      " 50%|█████     | 755/1500 [9:14:18<9:07:10, 44.07s/it]"
     ]
    },
    {
     "name": "stdout",
     "output_type": "stream",
     "text": [
      "876\n",
      "0.3615352868345027\n",
      "0.30921284857042003\n",
      "788\n",
      "0.3252166735451919\n",
      "0.3252166735451919\n"
     ]
    },
    {
     "name": "stderr",
     "output_type": "stream",
     "text": [
      " 50%|█████     | 756/1500 [9:15:03<9:06:55, 44.11s/it]"
     ]
    },
    {
     "name": "stdout",
     "output_type": "stream",
     "text": [
      "881\n",
      "0.36359884440775897\n",
      "0.3109777620896576\n",
      "799\n",
      "0.3297565002063558\n",
      "0.3297565002063558\n"
     ]
    },
    {
     "name": "stderr",
     "output_type": "stream",
     "text": [
      " 50%|█████     | 757/1500 [9:15:47<9:06:10, 44.11s/it]"
     ]
    },
    {
     "name": "stdout",
     "output_type": "stream",
     "text": [
      "888\n",
      "0.3664878250103178\n",
      "0.3134486410165902\n",
      "783\n",
      "0.32315311597193563\n",
      "0.32315311597193563\n"
     ]
    },
    {
     "name": "stderr",
     "output_type": "stream",
     "text": [
      " 51%|█████     | 758/1500 [9:16:31<9:05:04, 44.08s/it]"
     ]
    },
    {
     "name": "stdout",
     "output_type": "stream",
     "text": [
      "868\n",
      "0.3582335947172926\n",
      "0.30638898693963995\n",
      "786\n",
      "0.3243912505158894\n",
      "0.3243912505158894\n"
     ]
    },
    {
     "name": "stderr",
     "output_type": "stream",
     "text": [
      " 51%|█████     | 759/1500 [9:17:15<9:04:33, 44.09s/it]"
     ]
    },
    {
     "name": "stdout",
     "output_type": "stream",
     "text": [
      "852\n",
      "0.35163021048287246\n",
      "0.3007412636780798\n",
      "782\n",
      "0.32274040445728436\n",
      "0.32274040445728436\n"
     ]
    },
    {
     "name": "stderr",
     "output_type": "stream",
     "text": [
      " 51%|█████     | 760/1500 [9:17:59<9:03:34, 44.07s/it]"
     ]
    },
    {
     "name": "stdout",
     "output_type": "stream",
     "text": [
      "874\n",
      "0.36070986380520015\n",
      "0.308506883162725\n",
      "794\n",
      "0.32769294263309945\n",
      "0.32769294263309945\n"
     ]
    },
    {
     "name": "stderr",
     "output_type": "stream",
     "text": [
      " 51%|█████     | 761/1500 [9:18:43<9:03:11, 44.10s/it]"
     ]
    },
    {
     "name": "stdout",
     "output_type": "stream",
     "text": [
      "879\n",
      "0.3627734213784565\n",
      "0.3102717966819626\n",
      "789\n",
      "0.3256293850598432\n",
      "0.3256293850598432\n"
     ]
    },
    {
     "name": "stderr",
     "output_type": "stream",
     "text": [
      " 51%|█████     | 762/1500 [9:19:27<9:02:25, 44.10s/it]"
     ]
    },
    {
     "name": "stdout",
     "output_type": "stream",
     "text": [
      "887\n",
      "0.3660751134956665\n",
      "0.31309565831274266\n",
      "792\n",
      "0.32686751960379695\n",
      "0.32686751960379695\n"
     ]
    },
    {
     "name": "stderr",
     "output_type": "stream",
     "text": [
      " 51%|█████     | 763/1500 [9:20:11<9:01:20, 44.07s/it]"
     ]
    },
    {
     "name": "stdout",
     "output_type": "stream",
     "text": [
      "875\n",
      "0.3611225753198514\n",
      "0.30885986586657255\n",
      "783\n",
      "0.32315311597193563\n",
      "0.32315311597193563\n"
     ]
    },
    {
     "name": "stderr",
     "output_type": "stream",
     "text": [
      " 51%|█████     | 764/1500 [9:20:55<9:00:47, 44.09s/it]"
     ]
    },
    {
     "name": "stdout",
     "output_type": "stream",
     "text": [
      "859\n",
      "0.3545191910854313\n",
      "0.30321214260501234\n",
      "783\n",
      "0.32315311597193563\n",
      "0.32315311597193563\n"
     ]
    },
    {
     "name": "stderr",
     "output_type": "stream",
     "text": [
      " 51%|█████     | 765/1500 [9:21:39<9:00:21, 44.11s/it]"
     ]
    },
    {
     "name": "stdout",
     "output_type": "stream",
     "text": [
      "869\n",
      "0.3586463062319439\n",
      "0.3067419696434875\n",
      "798\n",
      "0.3293437886917045\n",
      "0.3293437886917045\n"
     ]
    },
    {
     "name": "stderr",
     "output_type": "stream",
     "text": [
      " 51%|█████     | 766/1500 [9:22:23<8:59:15, 44.08s/it]"
     ]
    },
    {
     "name": "stdout",
     "output_type": "stream",
     "text": [
      "871\n",
      "0.3594717292612464\n",
      "0.3074479350511825\n",
      "794\n",
      "0.32769294263309945\n",
      "0.32769294263309945\n"
     ]
    },
    {
     "name": "stderr",
     "output_type": "stream",
     "text": [
      " 51%|█████     | 767/1500 [9:23:08<9:02:01, 44.37s/it]"
     ]
    },
    {
     "name": "stdout",
     "output_type": "stream",
     "text": [
      "886\n",
      "0.3656624019810153\n",
      "0.3127426756088952\n",
      "796\n",
      "0.328518365662402\n",
      "0.328518365662402\n"
     ]
    },
    {
     "name": "stderr",
     "output_type": "stream",
     "text": [
      " 51%|█████     | 768/1500 [9:23:53<9:00:11, 44.28s/it]"
     ]
    },
    {
     "name": "stdout",
     "output_type": "stream",
     "text": [
      "875\n",
      "0.3611225753198514\n",
      "0.30885986586657255\n",
      "786\n",
      "0.3243912505158894\n",
      "0.3243912505158894\n"
     ]
    },
    {
     "name": "stderr",
     "output_type": "stream",
     "text": [
      " 51%|█████▏    | 769/1500 [9:24:37<8:59:21, 44.27s/it]"
     ]
    },
    {
     "name": "stdout",
     "output_type": "stream",
     "text": [
      "860\n",
      "0.35493190260008256\n",
      "0.3035651253088599\n",
      "787\n",
      "0.3248039620305406\n",
      "0.3248039620305406\n"
     ]
    },
    {
     "name": "stderr",
     "output_type": "stream",
     "text": [
      " 51%|█████▏    | 770/1500 [9:25:21<8:57:57, 44.22s/it]"
     ]
    },
    {
     "name": "stdout",
     "output_type": "stream",
     "text": [
      "853\n",
      "0.35204292199752374\n",
      "0.3010942463819273\n",
      "793\n",
      "0.32728023111844823\n",
      "0.32728023111844823\n"
     ]
    },
    {
     "name": "stderr",
     "output_type": "stream",
     "text": [
      " 51%|█████▏    | 771/1500 [9:26:05<8:56:31, 44.16s/it]"
     ]
    },
    {
     "name": "stdout",
     "output_type": "stream",
     "text": [
      "874\n",
      "0.36070986380520015\n",
      "0.308506883162725\n",
      "795\n",
      "0.3281056541477507\n",
      "0.3281056541477507\n"
     ]
    },
    {
     "name": "stderr",
     "output_type": "stream",
     "text": [
      " 51%|█████▏    | 772/1500 [9:26:49<8:55:16, 44.12s/it]"
     ]
    },
    {
     "name": "stdout",
     "output_type": "stream",
     "text": [
      "886\n",
      "0.3656624019810153\n",
      "0.3127426756088952\n",
      "798\n",
      "0.3293437886917045\n",
      "0.3293437886917045\n"
     ]
    },
    {
     "name": "stderr",
     "output_type": "stream",
     "text": [
      " 52%|█████▏    | 773/1500 [9:27:33<8:54:24, 44.11s/it]"
     ]
    },
    {
     "name": "stdout",
     "output_type": "stream",
     "text": [
      "876\n",
      "0.3615352868345027\n",
      "0.30921284857042003\n",
      "793\n",
      "0.32728023111844823\n",
      "0.32728023111844823\n"
     ]
    },
    {
     "name": "stderr",
     "output_type": "stream",
     "text": [
      " 52%|█████▏    | 774/1500 [9:28:17<8:53:36, 44.10s/it]"
     ]
    },
    {
     "name": "stdout",
     "output_type": "stream",
     "text": [
      "869\n",
      "0.3586463062319439\n",
      "0.3067419696434875\n",
      "792\n",
      "0.32686751960379695\n",
      "0.32686751960379695\n"
     ]
    },
    {
     "name": "stderr",
     "output_type": "stream",
     "text": [
      " 52%|█████▏    | 775/1500 [9:29:01<8:53:03, 44.12s/it]"
     ]
    },
    {
     "name": "stdout",
     "output_type": "stream",
     "text": [
      "848\n",
      "0.3499793644242674\n",
      "0.2993293328626897\n",
      "786\n",
      "0.3243912505158894\n",
      "0.3243912505158894\n"
     ]
    },
    {
     "name": "stderr",
     "output_type": "stream",
     "text": [
      " 52%|█████▏    | 776/1500 [9:29:46<8:53:03, 44.18s/it]"
     ]
    },
    {
     "name": "stdout",
     "output_type": "stream",
     "text": [
      "875\n",
      "0.3611225753198514\n",
      "0.30885986586657255\n",
      "795\n",
      "0.3281056541477507\n",
      "0.3281056541477507\n"
     ]
    },
    {
     "name": "stderr",
     "output_type": "stream",
     "text": [
      " 52%|█████▏    | 777/1500 [9:30:30<8:52:40, 44.21s/it]"
     ]
    },
    {
     "name": "stdout",
     "output_type": "stream",
     "text": [
      "869\n",
      "0.3586463062319439\n",
      "0.3067419696434875\n",
      "788\n",
      "0.3252166735451919\n",
      "0.3252166735451919\n"
     ]
    },
    {
     "name": "stderr",
     "output_type": "stream",
     "text": [
      " 52%|█████▏    | 778/1500 [9:31:14<8:51:09, 44.14s/it]"
     ]
    },
    {
     "name": "stdout",
     "output_type": "stream",
     "text": [
      "873\n",
      "0.3602971522905489\n",
      "0.3081539004588775\n",
      "781\n",
      "0.3223276929426331\n",
      "0.3223276929426331\n"
     ]
    },
    {
     "name": "stderr",
     "output_type": "stream",
     "text": [
      " 52%|█████▏    | 779/1500 [9:31:58<8:50:20, 44.13s/it]"
     ]
    },
    {
     "name": "stdout",
     "output_type": "stream",
     "text": [
      "868\n",
      "0.3582335947172926\n",
      "0.30638898693963995\n",
      "788\n",
      "0.3252166735451919\n",
      "0.3252166735451919\n"
     ]
    },
    {
     "name": "stderr",
     "output_type": "stream",
     "text": [
      " 52%|█████▏    | 780/1500 [9:32:42<8:49:31, 44.13s/it]"
     ]
    },
    {
     "name": "stdout",
     "output_type": "stream",
     "text": [
      "852\n",
      "0.35163021048287246\n",
      "0.3007412636780798\n",
      "786\n",
      "0.3243912505158894\n",
      "0.3243912505158894\n"
     ]
    },
    {
     "name": "stderr",
     "output_type": "stream",
     "text": [
      " 52%|█████▏    | 781/1500 [9:33:26<8:48:40, 44.12s/it]"
     ]
    },
    {
     "name": "stdout",
     "output_type": "stream",
     "text": [
      "864\n",
      "0.35658274865868755\n",
      "0.3049770561242499\n",
      "794\n",
      "0.32769294263309945\n",
      "0.32769294263309945\n"
     ]
    },
    {
     "name": "stderr",
     "output_type": "stream",
     "text": [
      " 52%|█████▏    | 782/1500 [9:34:10<8:47:45, 44.10s/it]"
     ]
    },
    {
     "name": "stdout",
     "output_type": "stream",
     "text": [
      "866\n",
      "0.3574081716879901\n",
      "0.30568302153194493\n",
      "793\n",
      "0.32728023111844823\n",
      "0.32728023111844823\n"
     ]
    },
    {
     "name": "stderr",
     "output_type": "stream",
     "text": [
      " 52%|█████▏    | 783/1500 [9:34:54<8:46:59, 44.10s/it]"
     ]
    },
    {
     "name": "stdout",
     "output_type": "stream",
     "text": [
      "883\n",
      "0.36442426743706147\n",
      "0.3116837274973526\n",
      "790\n",
      "0.32604209657449446\n",
      "0.32604209657449446\n"
     ]
    },
    {
     "name": "stderr",
     "output_type": "stream",
     "text": [
      " 52%|█████▏    | 784/1500 [9:35:38<8:46:07, 44.09s/it]"
     ]
    },
    {
     "name": "stdout",
     "output_type": "stream",
     "text": [
      "883\n",
      "0.36442426743706147\n",
      "0.3116837274973526\n",
      "788\n",
      "0.3252166735451919\n",
      "0.3252166735451919\n"
     ]
    },
    {
     "name": "stderr",
     "output_type": "stream",
     "text": [
      " 52%|█████▏    | 785/1500 [9:36:23<8:45:49, 44.13s/it]"
     ]
    },
    {
     "name": "stdout",
     "output_type": "stream",
     "text": [
      "863\n",
      "0.35617003714403633\n",
      "0.3046240734204024\n",
      "790\n",
      "0.32604209657449446\n",
      "0.32604209657449446\n"
     ]
    },
    {
     "name": "stderr",
     "output_type": "stream",
     "text": [
      " 52%|█████▏    | 786/1500 [9:37:07<8:45:02, 44.12s/it]"
     ]
    },
    {
     "name": "stdout",
     "output_type": "stream",
     "text": [
      "866\n",
      "0.3574081716879901\n",
      "0.30568302153194493\n",
      "791\n",
      "0.3264548080891457\n",
      "0.3264548080891457\n"
     ]
    },
    {
     "name": "stderr",
     "output_type": "stream",
     "text": [
      " 52%|█████▏    | 787/1500 [9:37:51<8:43:56, 44.09s/it]"
     ]
    },
    {
     "name": "stdout",
     "output_type": "stream",
     "text": [
      "877\n",
      "0.3619479983491539\n",
      "0.30956583127426757\n",
      "785\n",
      "0.32397853900123813\n",
      "0.32397853900123813\n"
     ]
    },
    {
     "name": "stderr",
     "output_type": "stream",
     "text": [
      " 53%|█████▎    | 788/1500 [9:38:35<8:43:39, 44.13s/it]"
     ]
    },
    {
     "name": "stdout",
     "output_type": "stream",
     "text": [
      "873\n",
      "0.3602971522905489\n",
      "0.3081539004588775\n",
      "793\n",
      "0.32728023111844823\n",
      "0.32728023111844823\n"
     ]
    },
    {
     "name": "stderr",
     "output_type": "stream",
     "text": [
      " 53%|█████▎    | 789/1500 [9:39:19<8:42:30, 44.09s/it]"
     ]
    },
    {
     "name": "stdout",
     "output_type": "stream",
     "text": [
      "885\n",
      "0.365249690466364\n",
      "0.31238969290504764\n",
      "783\n",
      "0.32315311597193563\n",
      "0.32315311597193563\n"
     ]
    },
    {
     "name": "stderr",
     "output_type": "stream",
     "text": [
      " 53%|█████▎    | 790/1500 [9:40:04<8:45:16, 44.39s/it]"
     ]
    },
    {
     "name": "stdout",
     "output_type": "stream",
     "text": [
      "878\n",
      "0.3623607098638052\n",
      "0.30991881397811505\n",
      "786\n",
      "0.3243912505158894\n",
      "0.3243912505158894\n"
     ]
    },
    {
     "name": "stderr",
     "output_type": "stream",
     "text": [
      " 53%|█████▎    | 791/1500 [9:40:48<8:43:54, 44.34s/it]"
     ]
    },
    {
     "name": "stdout",
     "output_type": "stream",
     "text": [
      "858\n",
      "0.35410647957078\n",
      "0.30285915990116485\n",
      "790\n",
      "0.32604209657449446\n",
      "0.32604209657449446\n"
     ]
    },
    {
     "name": "stderr",
     "output_type": "stream",
     "text": [
      " 53%|█████▎    | 792/1500 [9:41:32<8:42:38, 44.29s/it]"
     ]
    },
    {
     "name": "stdout",
     "output_type": "stream",
     "text": [
      "871\n",
      "0.3594717292612464\n",
      "0.3074479350511825\n",
      "795\n",
      "0.3281056541477507\n",
      "0.3281056541477507\n"
     ]
    },
    {
     "name": "stderr",
     "output_type": "stream",
     "text": [
      " 53%|█████▎    | 793/1500 [9:42:17<8:41:29, 44.26s/it]"
     ]
    },
    {
     "name": "stdout",
     "output_type": "stream",
     "text": [
      "861\n",
      "0.3553446141147338\n",
      "0.30391810801270736\n",
      "783\n",
      "0.32315311597193563\n",
      "0.32315311597193563\n"
     ]
    },
    {
     "name": "stderr",
     "output_type": "stream",
     "text": [
      " 53%|█████▎    | 794/1500 [9:43:01<8:40:36, 44.24s/it]"
     ]
    },
    {
     "name": "stdout",
     "output_type": "stream",
     "text": [
      "872\n",
      "0.35988444077589765\n",
      "0.30780091775503\n",
      "785\n",
      "0.32397853900123813\n",
      "0.32397853900123813\n"
     ]
    },
    {
     "name": "stderr",
     "output_type": "stream",
     "text": [
      " 53%|█████▎    | 795/1500 [9:43:45<8:39:09, 44.18s/it]"
     ]
    },
    {
     "name": "stdout",
     "output_type": "stream",
     "text": [
      "875\n",
      "0.3611225753198514\n",
      "0.30885986586657255\n",
      "791\n",
      "0.3264548080891457\n",
      "0.3264548080891457\n"
     ]
    },
    {
     "name": "stderr",
     "output_type": "stream",
     "text": [
      " 53%|█████▎    | 796/1500 [9:44:29<8:38:20, 44.18s/it]"
     ]
    },
    {
     "name": "stdout",
     "output_type": "stream",
     "text": [
      "854\n",
      "0.352455633512175\n",
      "0.3014472290857748\n",
      "786\n",
      "0.3243912505158894\n",
      "0.3243912505158894\n"
     ]
    },
    {
     "name": "stderr",
     "output_type": "stream",
     "text": [
      " 53%|█████▎    | 797/1500 [9:45:13<8:37:04, 44.13s/it]"
     ]
    },
    {
     "name": "stdout",
     "output_type": "stream",
     "text": [
      "859\n",
      "0.3545191910854313\n",
      "0.30321214260501234\n",
      "798\n",
      "0.3293437886917045\n",
      "0.3293437886917045\n"
     ]
    },
    {
     "name": "stderr",
     "output_type": "stream",
     "text": [
      " 53%|█████▎    | 798/1500 [9:45:57<8:35:59, 44.10s/it]"
     ]
    },
    {
     "name": "stdout",
     "output_type": "stream",
     "text": [
      "876\n",
      "0.3615352868345027\n",
      "0.30921284857042003\n",
      "795\n",
      "0.3281056541477507\n",
      "0.3281056541477507\n"
     ]
    },
    {
     "name": "stderr",
     "output_type": "stream",
     "text": [
      " 53%|█████▎    | 799/1500 [9:46:41<8:34:41, 44.05s/it]"
     ]
    },
    {
     "name": "stdout",
     "output_type": "stream",
     "text": [
      "871\n",
      "0.3594717292612464\n",
      "0.3074479350511825\n",
      "793\n",
      "0.32728023111844823\n",
      "0.32728023111844823\n"
     ]
    },
    {
     "name": "stderr",
     "output_type": "stream",
     "text": [
      " 53%|█████▎    | 800/1500 [9:47:25<8:33:51, 44.05s/it]"
     ]
    },
    {
     "name": "stdout",
     "output_type": "stream",
     "text": [
      "869\n",
      "0.3586463062319439\n",
      "0.3067419696434875\n",
      "779\n",
      "0.3215022699133306\n",
      "0.3215022699133306\n"
     ]
    },
    {
     "name": "stderr",
     "output_type": "stream",
     "text": [
      " 53%|█████▎    | 801/1500 [9:48:09<8:32:31, 43.99s/it]"
     ]
    },
    {
     "name": "stdout",
     "output_type": "stream",
     "text": [
      "855\n",
      "0.35286834502682624\n",
      "0.3018002117896223\n",
      "786\n",
      "0.3243912505158894\n",
      "0.3243912505158894\n"
     ]
    },
    {
     "name": "stderr",
     "output_type": "stream",
     "text": [
      " 53%|█████▎    | 802/1500 [9:48:53<8:31:47, 43.99s/it]"
     ]
    },
    {
     "name": "stdout",
     "output_type": "stream",
     "text": [
      "850\n",
      "0.35080478745356997\n",
      "0.3000352982703848\n",
      "782\n",
      "0.32274040445728436\n",
      "0.32274040445728436\n"
     ]
    },
    {
     "name": "stderr",
     "output_type": "stream",
     "text": [
      " 54%|█████▎    | 803/1500 [9:49:37<8:31:15, 44.01s/it]"
     ]
    },
    {
     "name": "stdout",
     "output_type": "stream",
     "text": [
      "874\n",
      "0.36070986380520015\n",
      "0.308506883162725\n",
      "791\n",
      "0.3264548080891457\n",
      "0.3264548080891457\n"
     ]
    },
    {
     "name": "stderr",
     "output_type": "stream",
     "text": [
      " 54%|█████▎    | 804/1500 [9:50:21<8:31:09, 44.07s/it]"
     ]
    },
    {
     "name": "stdout",
     "output_type": "stream",
     "text": [
      "882\n",
      "0.36401155592241025\n",
      "0.31133074479350514\n",
      "787\n",
      "0.3248039620305406\n",
      "0.3248039620305406\n"
     ]
    },
    {
     "name": "stderr",
     "output_type": "stream",
     "text": [
      " 54%|█████▎    | 805/1500 [9:51:05<8:30:38, 44.08s/it]"
     ]
    },
    {
     "name": "stdout",
     "output_type": "stream",
     "text": [
      "885\n",
      "0.365249690466364\n",
      "0.31238969290504764\n",
      "789\n",
      "0.3256293850598432\n",
      "0.3256293850598432\n"
     ]
    },
    {
     "name": "stderr",
     "output_type": "stream",
     "text": [
      " 54%|█████▎    | 806/1500 [9:51:49<8:30:14, 44.11s/it]"
     ]
    },
    {
     "name": "stdout",
     "output_type": "stream",
     "text": [
      "868\n",
      "0.3582335947172926\n",
      "0.30638898693963995\n",
      "786\n",
      "0.3243912505158894\n",
      "0.3243912505158894\n"
     ]
    },
    {
     "name": "stderr",
     "output_type": "stream",
     "text": [
      " 54%|█████▍    | 807/1500 [9:52:34<8:29:40, 44.13s/it]"
     ]
    },
    {
     "name": "stdout",
     "output_type": "stream",
     "text": [
      "852\n",
      "0.35163021048287246\n",
      "0.3007412636780798\n",
      "796\n",
      "0.328518365662402\n",
      "0.328518365662402\n"
     ]
    },
    {
     "name": "stderr",
     "output_type": "stream",
     "text": [
      " 54%|█████▍    | 808/1500 [9:53:18<8:28:31, 44.09s/it]"
     ]
    },
    {
     "name": "stdout",
     "output_type": "stream",
     "text": [
      "870\n",
      "0.35905901774659515\n",
      "0.30709495234733497\n",
      "789\n",
      "0.3256293850598432\n",
      "0.3256293850598432\n"
     ]
    },
    {
     "name": "stderr",
     "output_type": "stream",
     "text": [
      " 54%|█████▍    | 809/1500 [9:54:02<8:28:09, 44.12s/it]"
     ]
    },
    {
     "name": "stdout",
     "output_type": "stream",
     "text": [
      "880\n",
      "0.3631861328931077\n",
      "0.31062477938581007\n",
      "788\n",
      "0.3252166735451919\n",
      "0.3252166735451919\n"
     ]
    },
    {
     "name": "stderr",
     "output_type": "stream",
     "text": [
      " 54%|█████▍    | 810/1500 [9:54:46<8:27:09, 44.10s/it]"
     ]
    },
    {
     "name": "stdout",
     "output_type": "stream",
     "text": [
      "883\n",
      "0.36442426743706147\n",
      "0.3116837274973526\n",
      "791\n",
      "0.3264548080891457\n",
      "0.3264548080891457\n"
     ]
    },
    {
     "name": "stderr",
     "output_type": "stream",
     "text": [
      " 54%|█████▍    | 811/1500 [9:55:30<8:25:57, 44.06s/it]"
     ]
    },
    {
     "name": "stdout",
     "output_type": "stream",
     "text": [
      "877\n",
      "0.3619479983491539\n",
      "0.30956583127426757\n",
      "792\n",
      "0.32686751960379695\n",
      "0.32686751960379695\n"
     ]
    },
    {
     "name": "stderr",
     "output_type": "stream",
     "text": [
      " 54%|█████▍    | 812/1500 [9:56:14<8:25:21, 44.07s/it]"
     ]
    },
    {
     "name": "stdout",
     "output_type": "stream",
     "text": [
      "851\n",
      "0.3512174989682212\n",
      "0.30038828097423226\n",
      "780\n",
      "0.32191498142798186\n",
      "0.32191498142798186\n"
     ]
    },
    {
     "name": "stderr",
     "output_type": "stream",
     "text": [
      " 54%|█████▍    | 813/1500 [9:56:58<8:24:36, 44.07s/it]"
     ]
    },
    {
     "name": "stdout",
     "output_type": "stream",
     "text": [
      "846\n",
      "0.3491539413949649\n",
      "0.2986233674549947\n",
      "783\n",
      "0.32315311597193563\n",
      "0.32315311597193563\n"
     ]
    },
    {
     "name": "stderr",
     "output_type": "stream",
     "text": [
      " 54%|█████▍    | 814/1500 [9:57:43<8:27:23, 44.38s/it]"
     ]
    },
    {
     "name": "stdout",
     "output_type": "stream",
     "text": [
      "883\n",
      "0.36442426743706147\n",
      "0.3116837274973526\n",
      "784\n",
      "0.32356582748658685\n",
      "0.32356582748658685\n"
     ]
    },
    {
     "name": "stderr",
     "output_type": "stream",
     "text": [
      " 54%|█████▍    | 815/1500 [9:58:27<8:25:27, 44.27s/it]"
     ]
    },
    {
     "name": "stdout",
     "output_type": "stream",
     "text": [
      "887\n",
      "0.3660751134956665\n",
      "0.31309565831274266\n",
      "789\n",
      "0.3256293850598432\n",
      "0.3256293850598432\n"
     ]
    },
    {
     "name": "stderr",
     "output_type": "stream",
     "text": [
      " 54%|█████▍    | 816/1500 [9:59:11<8:24:24, 44.25s/it]"
     ]
    },
    {
     "name": "stdout",
     "output_type": "stream",
     "text": [
      "887\n",
      "0.3660751134956665\n",
      "0.31309565831274266\n",
      "790\n",
      "0.32604209657449446\n",
      "0.32604209657449446\n"
     ]
    },
    {
     "name": "stderr",
     "output_type": "stream",
     "text": [
      " 54%|█████▍    | 817/1500 [9:59:56<8:23:45, 44.25s/it]"
     ]
    },
    {
     "name": "stdout",
     "output_type": "stream",
     "text": [
      "865\n",
      "0.35699546017333883\n",
      "0.30533003882809745\n",
      "785\n",
      "0.32397853900123813\n",
      "0.32397853900123813\n"
     ]
    },
    {
     "name": "stderr",
     "output_type": "stream",
     "text": [
      " 55%|█████▍    | 818/1500 [10:00:40<8:22:14, 44.19s/it]"
     ]
    },
    {
     "name": "stdout",
     "output_type": "stream",
     "text": [
      "858\n",
      "0.35410647957078\n",
      "0.30285915990116485\n",
      "786\n",
      "0.3243912505158894\n",
      "0.3243912505158894\n"
     ]
    },
    {
     "name": "stderr",
     "output_type": "stream",
     "text": [
      " 55%|█████▍    | 819/1500 [10:01:24<8:20:43, 44.12s/it]"
     ]
    },
    {
     "name": "stdout",
     "output_type": "stream",
     "text": [
      "875\n",
      "0.3611225753198514\n",
      "0.30885986586657255\n",
      "784\n",
      "0.32356582748658685\n",
      "0.32356582748658685\n"
     ]
    },
    {
     "name": "stderr",
     "output_type": "stream",
     "text": [
      " 55%|█████▍    | 820/1500 [10:02:08<8:20:08, 44.13s/it]"
     ]
    },
    {
     "name": "stdout",
     "output_type": "stream",
     "text": [
      "891\n",
      "0.36772595955427156\n",
      "0.3145075891281327\n",
      "789\n",
      "0.3256293850598432\n",
      "0.3256293850598432\n"
     ]
    },
    {
     "name": "stderr",
     "output_type": "stream",
     "text": [
      " 55%|█████▍    | 821/1500 [10:02:52<8:19:04, 44.10s/it]"
     ]
    },
    {
     "name": "stdout",
     "output_type": "stream",
     "text": [
      "887\n",
      "0.3660751134956665\n",
      "0.31309565831274266\n",
      "787\n",
      "0.3248039620305406\n",
      "0.3248039620305406\n"
     ]
    },
    {
     "name": "stderr",
     "output_type": "stream",
     "text": [
      " 55%|█████▍    | 822/1500 [10:03:36<8:18:11, 44.09s/it]"
     ]
    },
    {
     "name": "stdout",
     "output_type": "stream",
     "text": [
      "872\n",
      "0.35988444077589765\n",
      "0.30780091775503\n",
      "789\n",
      "0.3256293850598432\n",
      "0.3256293850598432\n"
     ]
    },
    {
     "name": "stderr",
     "output_type": "stream",
     "text": [
      " 55%|█████▍    | 823/1500 [10:04:20<8:17:19, 44.08s/it]"
     ]
    },
    {
     "name": "stdout",
     "output_type": "stream",
     "text": [
      "856\n",
      "0.3532810565414775\n",
      "0.30215319449346983\n",
      "788\n",
      "0.3252166735451919\n",
      "0.3252166735451919\n"
     ]
    },
    {
     "name": "stderr",
     "output_type": "stream",
     "text": [
      " 55%|█████▍    | 824/1500 [10:05:04<8:16:32, 44.07s/it]"
     ]
    },
    {
     "name": "stdout",
     "output_type": "stream",
     "text": [
      "861\n",
      "0.3553446141147338\n",
      "0.30391810801270736\n",
      "790\n",
      "0.32604209657449446\n",
      "0.32604209657449446\n"
     ]
    },
    {
     "name": "stderr",
     "output_type": "stream",
     "text": [
      " 55%|█████▌    | 825/1500 [10:05:48<8:15:32, 44.05s/it]"
     ]
    },
    {
     "name": "stdout",
     "output_type": "stream",
     "text": [
      "880\n",
      "0.3631861328931077\n",
      "0.31062477938581007\n",
      "785\n",
      "0.32397853900123813\n",
      "0.32397853900123813\n"
     ]
    },
    {
     "name": "stderr",
     "output_type": "stream",
     "text": [
      " 55%|█████▌    | 826/1500 [10:06:32<8:14:45, 44.04s/it]"
     ]
    },
    {
     "name": "stdout",
     "output_type": "stream",
     "text": [
      "892\n",
      "0.36813867106892284\n",
      "0.31486057183198024\n",
      "792\n",
      "0.32686751960379695\n",
      "0.32686751960379695\n"
     ]
    },
    {
     "name": "stderr",
     "output_type": "stream",
     "text": [
      " 55%|█████▌    | 827/1500 [10:07:16<8:14:09, 44.06s/it]"
     ]
    },
    {
     "name": "stdout",
     "output_type": "stream",
     "text": [
      "880\n",
      "0.3631861328931077\n",
      "0.31062477938581007\n",
      "791\n",
      "0.3264548080891457\n",
      "0.3264548080891457\n"
     ]
    },
    {
     "name": "stderr",
     "output_type": "stream",
     "text": [
      " 55%|█████▌    | 828/1500 [10:08:00<8:13:27, 44.06s/it]"
     ]
    },
    {
     "name": "stdout",
     "output_type": "stream",
     "text": [
      "865\n",
      "0.35699546017333883\n",
      "0.30533003882809745\n",
      "789\n",
      "0.3256293850598432\n",
      "0.3256293850598432\n"
     ]
    },
    {
     "name": "stderr",
     "output_type": "stream",
     "text": [
      " 55%|█████▌    | 829/1500 [10:08:44<8:12:36, 44.05s/it]"
     ]
    },
    {
     "name": "stdout",
     "output_type": "stream",
     "text": [
      "852\n",
      "0.35163021048287246\n",
      "0.3007412636780798\n",
      "792\n",
      "0.32686751960379695\n",
      "0.32686751960379695\n"
     ]
    },
    {
     "name": "stderr",
     "output_type": "stream",
     "text": [
      " 55%|█████▌    | 830/1500 [10:09:28<8:11:38, 44.03s/it]"
     ]
    },
    {
     "name": "stdout",
     "output_type": "stream",
     "text": [
      "870\n",
      "0.35905901774659515\n",
      "0.30709495234733497\n",
      "795\n",
      "0.3281056541477507\n",
      "0.3281056541477507\n"
     ]
    },
    {
     "name": "stderr",
     "output_type": "stream",
     "text": [
      " 55%|█████▌    | 831/1500 [10:10:12<8:10:48, 44.02s/it]"
     ]
    },
    {
     "name": "stdout",
     "output_type": "stream",
     "text": [
      "880\n",
      "0.3631861328931077\n",
      "0.31062477938581007\n",
      "792\n",
      "0.32686751960379695\n",
      "0.32686751960379695\n"
     ]
    },
    {
     "name": "stderr",
     "output_type": "stream",
     "text": [
      " 55%|█████▌    | 832/1500 [10:10:56<8:10:43, 44.08s/it]"
     ]
    },
    {
     "name": "stdout",
     "output_type": "stream",
     "text": [
      "881\n",
      "0.36359884440775897\n",
      "0.3109777620896576\n",
      "796\n",
      "0.328518365662402\n",
      "0.328518365662402\n"
     ]
    },
    {
     "name": "stderr",
     "output_type": "stream",
     "text": [
      " 56%|█████▌    | 833/1500 [10:11:40<8:09:56, 44.07s/it]"
     ]
    },
    {
     "name": "stdout",
     "output_type": "stream",
     "text": [
      "869\n",
      "0.3586463062319439\n",
      "0.3067419696434875\n",
      "793\n",
      "0.32728023111844823\n",
      "0.32728023111844823\n"
     ]
    },
    {
     "name": "stderr",
     "output_type": "stream",
     "text": [
      " 56%|█████▌    | 834/1500 [10:12:24<8:09:07, 44.06s/it]"
     ]
    },
    {
     "name": "stdout",
     "output_type": "stream",
     "text": [
      "861\n",
      "0.3553446141147338\n",
      "0.30391810801270736\n",
      "789\n",
      "0.3256293850598432\n",
      "0.3256293850598432\n"
     ]
    },
    {
     "name": "stderr",
     "output_type": "stream",
     "text": [
      " 56%|█████▌    | 835/1500 [10:13:08<8:08:22, 44.06s/it]"
     ]
    },
    {
     "name": "stdout",
     "output_type": "stream",
     "text": [
      "871\n",
      "0.3594717292612464\n",
      "0.3074479350511825\n",
      "791\n",
      "0.3264548080891457\n",
      "0.3264548080891457\n"
     ]
    },
    {
     "name": "stderr",
     "output_type": "stream",
     "text": [
      " 56%|█████▌    | 836/1500 [10:13:53<8:07:56, 44.09s/it]"
     ]
    },
    {
     "name": "stdout",
     "output_type": "stream",
     "text": [
      "882\n",
      "0.36401155592241025\n",
      "0.31133074479350514\n",
      "780\n",
      "0.32191498142798186\n",
      "0.32191498142798186\n"
     ]
    },
    {
     "name": "stderr",
     "output_type": "stream",
     "text": [
      " 56%|█████▌    | 837/1500 [10:14:37<8:06:40, 44.04s/it]"
     ]
    },
    {
     "name": "stdout",
     "output_type": "stream",
     "text": [
      "886\n",
      "0.3656624019810153\n",
      "0.3127426756088952\n",
      "782\n",
      "0.32274040445728436\n",
      "0.32274040445728436\n"
     ]
    },
    {
     "name": "stderr",
     "output_type": "stream",
     "text": [
      " 56%|█████▌    | 838/1500 [10:15:21<8:08:57, 44.32s/it]"
     ]
    },
    {
     "name": "stdout",
     "output_type": "stream",
     "text": [
      "872\n",
      "0.35988444077589765\n",
      "0.30780091775503\n",
      "783\n",
      "0.32315311597193563\n",
      "0.32315311597193563\n"
     ]
    },
    {
     "name": "stderr",
     "output_type": "stream",
     "text": [
      " 56%|█████▌    | 839/1500 [10:16:06<8:07:11, 44.22s/it]"
     ]
    },
    {
     "name": "stdout",
     "output_type": "stream",
     "text": [
      "870\n",
      "0.35905901774659515\n",
      "0.30709495234733497\n",
      "782\n",
      "0.32274040445728436\n",
      "0.32274040445728436\n"
     ]
    },
    {
     "name": "stderr",
     "output_type": "stream",
     "text": [
      " 56%|█████▌    | 840/1500 [10:16:50<8:05:45, 44.16s/it]"
     ]
    },
    {
     "name": "stdout",
     "output_type": "stream",
     "text": [
      "876\n",
      "0.3615352868345027\n",
      "0.30921284857042003\n",
      "779\n",
      "0.3215022699133306\n",
      "0.3215022699133306\n"
     ]
    },
    {
     "name": "stderr",
     "output_type": "stream",
     "text": [
      " 56%|█████▌    | 841/1500 [10:17:34<8:04:46, 44.14s/it]"
     ]
    },
    {
     "name": "stdout",
     "output_type": "stream",
     "text": [
      "878\n",
      "0.3623607098638052\n",
      "0.30991881397811505\n",
      "787\n",
      "0.3248039620305406\n",
      "0.3248039620305406\n"
     ]
    },
    {
     "name": "stderr",
     "output_type": "stream",
     "text": [
      " 56%|█████▌    | 842/1500 [10:18:17<8:03:07, 44.05s/it]"
     ]
    },
    {
     "name": "stdout",
     "output_type": "stream",
     "text": [
      "886\n",
      "0.3656624019810153\n",
      "0.3127426756088952\n",
      "778\n",
      "0.3210895583986793\n",
      "0.3210895583986793\n"
     ]
    },
    {
     "name": "stderr",
     "output_type": "stream",
     "text": [
      " 56%|█████▌    | 843/1500 [10:19:01<8:02:00, 44.02s/it]"
     ]
    },
    {
     "name": "stdout",
     "output_type": "stream",
     "text": [
      "876\n",
      "0.3615352868345027\n",
      "0.30921284857042003\n",
      "784\n",
      "0.32356582748658685\n",
      "0.32356582748658685\n"
     ]
    },
    {
     "name": "stderr",
     "output_type": "stream",
     "text": [
      " 56%|█████▋    | 844/1500 [10:19:46<8:01:49, 44.07s/it]"
     ]
    },
    {
     "name": "stdout",
     "output_type": "stream",
     "text": [
      "868\n",
      "0.3582335947172926\n",
      "0.30638898693963995\n",
      "788\n",
      "0.3252166735451919\n",
      "0.3252166735451919\n"
     ]
    },
    {
     "name": "stderr",
     "output_type": "stream",
     "text": [
      " 56%|█████▋    | 845/1500 [10:20:30<8:00:58, 44.06s/it]"
     ]
    },
    {
     "name": "stdout",
     "output_type": "stream",
     "text": [
      "877\n",
      "0.3619479983491539\n",
      "0.30956583127426757\n",
      "789\n",
      "0.3256293850598432\n",
      "0.3256293850598432\n"
     ]
    },
    {
     "name": "stderr",
     "output_type": "stream",
     "text": [
      " 56%|█████▋    | 846/1500 [10:21:14<7:59:56, 44.03s/it]"
     ]
    },
    {
     "name": "stdout",
     "output_type": "stream",
     "text": [
      "882\n",
      "0.36401155592241025\n",
      "0.31133074479350514\n",
      "781\n",
      "0.3223276929426331\n",
      "0.3223276929426331\n"
     ]
    },
    {
     "name": "stderr",
     "output_type": "stream",
     "text": [
      " 56%|█████▋    | 847/1500 [10:21:58<7:59:14, 44.03s/it]"
     ]
    },
    {
     "name": "stdout",
     "output_type": "stream",
     "text": [
      "885\n",
      "0.365249690466364\n",
      "0.31238969290504764\n",
      "781\n",
      "0.3223276929426331\n",
      "0.3223276929426331\n"
     ]
    },
    {
     "name": "stderr",
     "output_type": "stream",
     "text": [
      " 57%|█████▋    | 848/1500 [10:22:42<7:58:17, 44.01s/it]"
     ]
    },
    {
     "name": "stdout",
     "output_type": "stream",
     "text": [
      "876\n",
      "0.3615352868345027\n",
      "0.30921284857042003\n",
      "780\n",
      "0.32191498142798186\n",
      "0.32191498142798186\n"
     ]
    },
    {
     "name": "stderr",
     "output_type": "stream",
     "text": [
      " 57%|█████▋    | 849/1500 [10:23:26<7:57:38, 44.02s/it]"
     ]
    },
    {
     "name": "stdout",
     "output_type": "stream",
     "text": [
      "858\n",
      "0.35410647957078\n",
      "0.30285915990116485\n",
      "784\n",
      "0.32356582748658685\n",
      "0.32356582748658685\n"
     ]
    },
    {
     "name": "stderr",
     "output_type": "stream",
     "text": [
      " 57%|█████▋    | 850/1500 [10:24:10<7:57:03, 44.04s/it]"
     ]
    },
    {
     "name": "stdout",
     "output_type": "stream",
     "text": [
      "869\n",
      "0.3586463062319439\n",
      "0.3067419696434875\n",
      "791\n",
      "0.3264548080891457\n",
      "0.3264548080891457\n"
     ]
    },
    {
     "name": "stderr",
     "output_type": "stream",
     "text": [
      " 57%|█████▋    | 851/1500 [10:24:54<7:56:35, 44.06s/it]"
     ]
    },
    {
     "name": "stdout",
     "output_type": "stream",
     "text": [
      "874\n",
      "0.36070986380520015\n",
      "0.308506883162725\n",
      "786\n",
      "0.3243912505158894\n",
      "0.3243912505158894\n"
     ]
    },
    {
     "name": "stderr",
     "output_type": "stream",
     "text": [
      " 57%|█████▋    | 852/1500 [10:25:38<7:56:13, 44.10s/it]"
     ]
    },
    {
     "name": "stdout",
     "output_type": "stream",
     "text": [
      "872\n",
      "0.35988444077589765\n",
      "0.30780091775503\n",
      "780\n",
      "0.32191498142798186\n",
      "0.32191498142798186\n"
     ]
    },
    {
     "name": "stderr",
     "output_type": "stream",
     "text": [
      " 57%|█████▋    | 853/1500 [10:26:22<7:55:24, 44.09s/it]"
     ]
    },
    {
     "name": "stdout",
     "output_type": "stream",
     "text": [
      "881\n",
      "0.36359884440775897\n",
      "0.3109777620896576\n",
      "780\n",
      "0.32191498142798186\n",
      "0.32191498142798186\n"
     ]
    },
    {
     "name": "stderr",
     "output_type": "stream",
     "text": [
      " 57%|█████▋    | 854/1500 [10:27:06<7:55:01, 44.12s/it]"
     ]
    },
    {
     "name": "stdout",
     "output_type": "stream",
     "text": [
      "868\n",
      "0.3582335947172926\n",
      "0.30638898693963995\n",
      "789\n",
      "0.3256293850598432\n",
      "0.3256293850598432\n"
     ]
    },
    {
     "name": "stderr",
     "output_type": "stream",
     "text": [
      " 57%|█████▋    | 855/1500 [10:27:50<7:54:01, 44.10s/it]"
     ]
    },
    {
     "name": "stdout",
     "output_type": "stream",
     "text": [
      "865\n",
      "0.35699546017333883\n",
      "0.30533003882809745\n",
      "794\n",
      "0.32769294263309945\n",
      "0.32769294263309945\n"
     ]
    },
    {
     "name": "stderr",
     "output_type": "stream",
     "text": [
      " 57%|█████▋    | 856/1500 [10:28:34<7:53:16, 44.09s/it]"
     ]
    },
    {
     "name": "stdout",
     "output_type": "stream",
     "text": [
      "880\n",
      "0.3631861328931077\n",
      "0.31062477938581007\n",
      "788\n",
      "0.3252166735451919\n",
      "0.3252166735451919\n"
     ]
    },
    {
     "name": "stderr",
     "output_type": "stream",
     "text": [
      " 57%|█████▋    | 857/1500 [10:29:19<7:52:35, 44.10s/it]"
     ]
    },
    {
     "name": "stdout",
     "output_type": "stream",
     "text": [
      "870\n",
      "0.35905901774659515\n",
      "0.30709495234733497\n",
      "790\n",
      "0.32604209657449446\n",
      "0.32604209657449446\n"
     ]
    },
    {
     "name": "stderr",
     "output_type": "stream",
     "text": [
      " 57%|█████▋    | 858/1500 [10:30:03<7:52:01, 44.12s/it]"
     ]
    },
    {
     "name": "stdout",
     "output_type": "stream",
     "text": [
      "880\n",
      "0.3631861328931077\n",
      "0.31062477938581007\n",
      "780\n",
      "0.32191498142798186\n",
      "0.32191498142798186\n"
     ]
    },
    {
     "name": "stderr",
     "output_type": "stream",
     "text": [
      " 57%|█████▋    | 859/1500 [10:30:47<7:51:26, 44.13s/it]"
     ]
    },
    {
     "name": "stdout",
     "output_type": "stream",
     "text": [
      "870\n",
      "0.35905901774659515\n",
      "0.30709495234733497\n",
      "783\n",
      "0.32315311597193563\n",
      "0.32315311597193563\n"
     ]
    },
    {
     "name": "stderr",
     "output_type": "stream",
     "text": [
      " 57%|█████▋    | 860/1500 [10:31:31<7:50:39, 44.12s/it]"
     ]
    },
    {
     "name": "stdout",
     "output_type": "stream",
     "text": [
      "858\n",
      "0.35410647957078\n",
      "0.30285915990116485\n",
      "790\n",
      "0.32604209657449446\n",
      "0.32604209657449446\n"
     ]
    },
    {
     "name": "stderr",
     "output_type": "stream",
     "text": [
      " 57%|█████▋    | 861/1500 [10:32:15<7:49:41, 44.10s/it]"
     ]
    },
    {
     "name": "stdout",
     "output_type": "stream",
     "text": [
      "879\n",
      "0.3627734213784565\n",
      "0.3102717966819626\n",
      "786\n",
      "0.3243912505158894\n",
      "0.3243912505158894\n"
     ]
    },
    {
     "name": "stderr",
     "output_type": "stream",
     "text": [
      " 57%|█████▋    | 862/1500 [10:32:59<7:48:49, 44.09s/it]"
     ]
    },
    {
     "name": "stdout",
     "output_type": "stream",
     "text": [
      "875\n",
      "0.3611225753198514\n",
      "0.30885986586657255\n",
      "786\n",
      "0.3243912505158894\n",
      "0.3243912505158894\n"
     ]
    },
    {
     "name": "stderr",
     "output_type": "stream",
     "text": [
      " 58%|█████▊    | 863/1500 [10:33:43<7:48:14, 44.10s/it]"
     ]
    },
    {
     "name": "stdout",
     "output_type": "stream",
     "text": [
      "880\n",
      "0.3631861328931077\n",
      "0.31062477938581007\n",
      "786\n",
      "0.3243912505158894\n",
      "0.3243912505158894\n"
     ]
    },
    {
     "name": "stderr",
     "output_type": "stream",
     "text": [
      " 58%|█████▊    | 864/1500 [10:34:27<7:47:36, 44.11s/it]"
     ]
    },
    {
     "name": "stdout",
     "output_type": "stream",
     "text": [
      "879\n",
      "0.3627734213784565\n",
      "0.3102717966819626\n",
      "778\n",
      "0.3210895583986793\n",
      "0.3210895583986793\n"
     ]
    },
    {
     "name": "stderr",
     "output_type": "stream",
     "text": [
      " 58%|█████▊    | 865/1500 [10:35:11<7:46:55, 44.12s/it]"
     ]
    },
    {
     "name": "stdout",
     "output_type": "stream",
     "text": [
      "861\n",
      "0.3553446141147338\n",
      "0.30391810801270736\n",
      "790\n",
      "0.32604209657449446\n",
      "0.32604209657449446\n"
     ]
    },
    {
     "name": "stderr",
     "output_type": "stream",
     "text": [
      " 58%|█████▊    | 866/1500 [10:35:56<7:46:15, 44.13s/it]"
     ]
    },
    {
     "name": "stdout",
     "output_type": "stream",
     "text": [
      "877\n",
      "0.3619479983491539\n",
      "0.30956583127426757\n",
      "795\n",
      "0.3281056541477507\n",
      "0.3281056541477507\n"
     ]
    },
    {
     "name": "stderr",
     "output_type": "stream",
     "text": [
      " 58%|█████▊    | 867/1500 [10:36:40<7:45:11, 44.09s/it]"
     ]
    },
    {
     "name": "stdout",
     "output_type": "stream",
     "text": [
      "880\n",
      "0.3631861328931077\n",
      "0.31062477938581007\n",
      "782\n",
      "0.32274040445728436\n",
      "0.32274040445728436\n"
     ]
    },
    {
     "name": "stderr",
     "output_type": "stream",
     "text": [
      " 58%|█████▊    | 868/1500 [10:37:24<7:44:04, 44.06s/it]"
     ]
    },
    {
     "name": "stdout",
     "output_type": "stream",
     "text": [
      "882\n",
      "0.36401155592241025\n",
      "0.31133074479350514\n",
      "786\n",
      "0.3243912505158894\n",
      "0.3243912505158894\n"
     ]
    },
    {
     "name": "stderr",
     "output_type": "stream",
     "text": [
      " 58%|█████▊    | 869/1500 [10:38:08<7:43:03, 44.03s/it]"
     ]
    },
    {
     "name": "stdout",
     "output_type": "stream",
     "text": [
      "878\n",
      "0.3623607098638052\n",
      "0.30991881397811505\n",
      "787\n",
      "0.3248039620305406\n",
      "0.3248039620305406\n"
     ]
    },
    {
     "name": "stderr",
     "output_type": "stream",
     "text": [
      " 58%|█████▊    | 870/1500 [10:38:52<7:42:11, 44.02s/it]"
     ]
    },
    {
     "name": "stdout",
     "output_type": "stream",
     "text": [
      "865\n",
      "0.35699546017333883\n",
      "0.30533003882809745\n",
      "791\n",
      "0.3264548080891457\n",
      "0.3264548080891457\n"
     ]
    },
    {
     "name": "stderr",
     "output_type": "stream",
     "text": [
      " 58%|█████▊    | 871/1500 [10:39:36<7:41:41, 44.04s/it]"
     ]
    },
    {
     "name": "stdout",
     "output_type": "stream",
     "text": [
      "860\n",
      "0.35493190260008256\n",
      "0.3035651253088599\n",
      "801\n",
      "0.33058192323565827\n",
      "0.33058192323565827\n"
     ]
    },
    {
     "name": "stderr",
     "output_type": "stream",
     "text": [
      " 58%|█████▊    | 872/1500 [10:40:20<7:41:08, 44.06s/it]"
     ]
    },
    {
     "name": "stdout",
     "output_type": "stream",
     "text": [
      "874\n",
      "0.36070986380520015\n",
      "0.308506883162725\n",
      "799\n",
      "0.3297565002063558\n",
      "0.3297565002063558\n"
     ]
    },
    {
     "name": "stderr",
     "output_type": "stream",
     "text": [
      " 58%|█████▊    | 873/1500 [10:41:04<7:40:18, 44.05s/it]"
     ]
    },
    {
     "name": "stdout",
     "output_type": "stream",
     "text": [
      "883\n",
      "0.36442426743706147\n",
      "0.3116837274973526\n",
      "791\n",
      "0.3264548080891457\n",
      "0.3264548080891457\n"
     ]
    },
    {
     "name": "stderr",
     "output_type": "stream",
     "text": [
      " 58%|█████▊    | 874/1500 [10:41:48<7:39:27, 44.04s/it]"
     ]
    },
    {
     "name": "stdout",
     "output_type": "stream",
     "text": [
      "880\n",
      "0.3631861328931077\n",
      "0.31062477938581007\n",
      "790\n",
      "0.32604209657449446\n",
      "0.32604209657449446\n"
     ]
    },
    {
     "name": "stderr",
     "output_type": "stream",
     "text": [
      " 58%|█████▊    | 875/1500 [10:42:32<7:38:20, 44.00s/it]"
     ]
    },
    {
     "name": "stdout",
     "output_type": "stream",
     "text": [
      "875\n",
      "0.3611225753198514\n",
      "0.30885986586657255\n",
      "785\n",
      "0.32397853900123813\n",
      "0.32397853900123813\n"
     ]
    },
    {
     "name": "stderr",
     "output_type": "stream",
     "text": [
      " 58%|█████▊    | 876/1500 [10:43:16<7:37:42, 44.01s/it]"
     ]
    },
    {
     "name": "stdout",
     "output_type": "stream",
     "text": [
      "864\n",
      "0.35658274865868755\n",
      "0.3049770561242499\n",
      "791\n",
      "0.3264548080891457\n",
      "0.3264548080891457\n"
     ]
    },
    {
     "name": "stderr",
     "output_type": "stream",
     "text": [
      " 58%|█████▊    | 877/1500 [10:44:01<7:40:14, 44.32s/it]"
     ]
    },
    {
     "name": "stdout",
     "output_type": "stream",
     "text": [
      "865\n",
      "0.35699546017333883\n",
      "0.30533003882809745\n",
      "792\n",
      "0.32686751960379695\n",
      "0.32686751960379695\n"
     ]
    },
    {
     "name": "stderr",
     "output_type": "stream",
     "text": [
      " 59%|█████▊    | 878/1500 [10:44:45<7:38:45, 44.25s/it]"
     ]
    },
    {
     "name": "stdout",
     "output_type": "stream",
     "text": [
      "885\n",
      "0.365249690466364\n",
      "0.31238969290504764\n",
      "801\n",
      "0.33058192323565827\n",
      "0.33058192323565827\n"
     ]
    },
    {
     "name": "stderr",
     "output_type": "stream",
     "text": [
      " 59%|█████▊    | 879/1500 [10:45:29<7:37:19, 44.19s/it]"
     ]
    },
    {
     "name": "stdout",
     "output_type": "stream",
     "text": [
      "875\n",
      "0.3611225753198514\n",
      "0.30885986586657255\n",
      "790\n",
      "0.32604209657449446\n",
      "0.32604209657449446\n"
     ]
    },
    {
     "name": "stderr",
     "output_type": "stream",
     "text": [
      " 59%|█████▊    | 880/1500 [10:46:13<7:35:55, 44.12s/it]"
     ]
    },
    {
     "name": "stdout",
     "output_type": "stream",
     "text": [
      "879\n",
      "0.3627734213784565\n",
      "0.3102717966819626\n",
      "787\n",
      "0.3248039620305406\n",
      "0.3248039620305406\n"
     ]
    },
    {
     "name": "stderr",
     "output_type": "stream",
     "text": [
      " 59%|█████▊    | 881/1500 [10:46:57<7:34:41, 44.07s/it]"
     ]
    },
    {
     "name": "stdout",
     "output_type": "stream",
     "text": [
      "862\n",
      "0.35575732562938506\n",
      "0.3042710907165549\n",
      "780\n",
      "0.32191498142798186\n",
      "0.32191498142798186\n"
     ]
    },
    {
     "name": "stderr",
     "output_type": "stream",
     "text": [
      " 59%|█████▉    | 882/1500 [10:47:41<7:33:57, 44.07s/it]"
     ]
    },
    {
     "name": "stdout",
     "output_type": "stream",
     "text": [
      "857\n",
      "0.3536937680561288\n",
      "0.3025061771973173\n",
      "789\n",
      "0.3256293850598432\n",
      "0.3256293850598432\n"
     ]
    },
    {
     "name": "stderr",
     "output_type": "stream",
     "text": [
      " 59%|█████▉    | 883/1500 [10:48:25<7:32:49, 44.04s/it]"
     ]
    },
    {
     "name": "stdout",
     "output_type": "stream",
     "text": [
      "876\n",
      "0.3615352868345027\n",
      "0.30921284857042003\n",
      "786\n",
      "0.3243912505158894\n",
      "0.3243912505158894\n"
     ]
    },
    {
     "name": "stderr",
     "output_type": "stream",
     "text": [
      " 59%|█████▉    | 884/1500 [10:49:09<7:32:10, 44.04s/it]"
     ]
    },
    {
     "name": "stdout",
     "output_type": "stream",
     "text": [
      "875\n",
      "0.3611225753198514\n",
      "0.30885986586657255\n",
      "792\n",
      "0.32686751960379695\n",
      "0.32686751960379695\n"
     ]
    },
    {
     "name": "stderr",
     "output_type": "stream",
     "text": [
      " 59%|█████▉    | 885/1500 [10:49:53<7:31:13, 44.02s/it]"
     ]
    },
    {
     "name": "stdout",
     "output_type": "stream",
     "text": [
      "877\n",
      "0.3619479983491539\n",
      "0.30956583127426757\n",
      "789\n",
      "0.3256293850598432\n",
      "0.3256293850598432\n"
     ]
    },
    {
     "name": "stderr",
     "output_type": "stream",
     "text": [
      " 59%|█████▉    | 886/1500 [10:50:37<7:30:21, 44.01s/it]"
     ]
    },
    {
     "name": "stdout",
     "output_type": "stream",
     "text": [
      "864\n",
      "0.35658274865868755\n",
      "0.3049770561242499\n",
      "786\n",
      "0.3243912505158894\n",
      "0.3243912505158894\n"
     ]
    },
    {
     "name": "stderr",
     "output_type": "stream",
     "text": [
      " 59%|█████▉    | 887/1500 [10:51:21<7:29:48, 44.03s/it]"
     ]
    },
    {
     "name": "stdout",
     "output_type": "stream",
     "text": [
      "859\n",
      "0.3545191910854313\n",
      "0.30321214260501234\n",
      "788\n",
      "0.3252166735451919\n",
      "0.3252166735451919\n"
     ]
    },
    {
     "name": "stderr",
     "output_type": "stream",
     "text": [
      " 59%|█████▉    | 888/1500 [10:52:05<7:29:14, 44.04s/it]"
     ]
    },
    {
     "name": "stdout",
     "output_type": "stream",
     "text": [
      "878\n",
      "0.3623607098638052\n",
      "0.30991881397811505\n",
      "790\n",
      "0.32604209657449446\n",
      "0.32604209657449446\n"
     ]
    },
    {
     "name": "stderr",
     "output_type": "stream",
     "text": [
      " 59%|█████▉    | 889/1500 [10:52:49<7:28:26, 44.04s/it]"
     ]
    },
    {
     "name": "stdout",
     "output_type": "stream",
     "text": [
      "883\n",
      "0.36442426743706147\n",
      "0.3116837274973526\n",
      "793\n",
      "0.32728023111844823\n",
      "0.32728023111844823\n"
     ]
    },
    {
     "name": "stderr",
     "output_type": "stream",
     "text": [
      " 59%|█████▉    | 890/1500 [10:53:33<7:27:26, 44.01s/it]"
     ]
    },
    {
     "name": "stdout",
     "output_type": "stream",
     "text": [
      "874\n",
      "0.36070986380520015\n",
      "0.308506883162725\n",
      "784\n",
      "0.32356582748658685\n",
      "0.32356582748658685\n"
     ]
    },
    {
     "name": "stderr",
     "output_type": "stream",
     "text": [
      " 59%|█████▉    | 891/1500 [10:54:17<7:26:30, 43.99s/it]"
     ]
    },
    {
     "name": "stdout",
     "output_type": "stream",
     "text": [
      "866\n",
      "0.3574081716879901\n",
      "0.30568302153194493\n",
      "786\n",
      "0.3243912505158894\n",
      "0.3243912505158894\n"
     ]
    },
    {
     "name": "stderr",
     "output_type": "stream",
     "text": [
      " 59%|█████▉    | 892/1500 [10:55:01<7:26:06, 44.02s/it]"
     ]
    },
    {
     "name": "stdout",
     "output_type": "stream",
     "text": [
      "851\n",
      "0.3512174989682212\n",
      "0.30038828097423226\n",
      "789\n",
      "0.3256293850598432\n",
      "0.3256293850598432\n"
     ]
    },
    {
     "name": "stderr",
     "output_type": "stream",
     "text": [
      " 60%|█████▉    | 893/1500 [10:55:45<7:25:04, 43.99s/it]"
     ]
    },
    {
     "name": "stdout",
     "output_type": "stream",
     "text": [
      "861\n",
      "0.3553446141147338\n",
      "0.30391810801270736\n",
      "791\n",
      "0.3264548080891457\n",
      "0.3264548080891457\n"
     ]
    },
    {
     "name": "stderr",
     "output_type": "stream",
     "text": [
      " 60%|█████▉    | 894/1500 [10:56:29<7:24:22, 44.00s/it]"
     ]
    },
    {
     "name": "stdout",
     "output_type": "stream",
     "text": [
      "870\n",
      "0.35905901774659515\n",
      "0.30709495234733497\n",
      "789\n",
      "0.3256293850598432\n",
      "0.3256293850598432\n"
     ]
    },
    {
     "name": "stderr",
     "output_type": "stream",
     "text": [
      " 60%|█████▉    | 895/1500 [10:57:13<7:23:49, 44.02s/it]"
     ]
    },
    {
     "name": "stdout",
     "output_type": "stream",
     "text": [
      "886\n",
      "0.3656624019810153\n",
      "0.3127426756088952\n",
      "787\n",
      "0.3248039620305406\n",
      "0.3248039620305406\n"
     ]
    },
    {
     "name": "stderr",
     "output_type": "stream",
     "text": [
      " 60%|█████▉    | 896/1500 [10:57:57<7:22:53, 44.00s/it]"
     ]
    },
    {
     "name": "stdout",
     "output_type": "stream",
     "text": [
      "878\n",
      "0.3623607098638052\n",
      "0.30991881397811505\n",
      "788\n",
      "0.3252166735451919\n",
      "0.3252166735451919\n"
     ]
    },
    {
     "name": "stderr",
     "output_type": "stream",
     "text": [
      " 60%|█████▉    | 897/1500 [10:58:41<7:22:25, 44.02s/it]"
     ]
    },
    {
     "name": "stdout",
     "output_type": "stream",
     "text": [
      "864\n",
      "0.35658274865868755\n",
      "0.3049770561242499\n",
      "789\n",
      "0.3256293850598432\n",
      "0.3256293850598432\n"
     ]
    },
    {
     "name": "stderr",
     "output_type": "stream",
     "text": [
      " 60%|█████▉    | 898/1500 [10:59:25<7:21:32, 44.01s/it]"
     ]
    },
    {
     "name": "stdout",
     "output_type": "stream",
     "text": [
      "868\n",
      "0.3582335947172926\n",
      "0.30638898693963995\n",
      "795\n",
      "0.3281056541477507\n",
      "0.3281056541477507\n"
     ]
    },
    {
     "name": "stderr",
     "output_type": "stream",
     "text": [
      " 60%|█████▉    | 899/1500 [11:00:09<7:20:55, 44.02s/it]"
     ]
    },
    {
     "name": "stdout",
     "output_type": "stream",
     "text": [
      "879\n",
      "0.3627734213784565\n",
      "0.3102717966819626\n",
      "794\n",
      "0.32769294263309945\n",
      "0.32769294263309945\n"
     ]
    },
    {
     "name": "stderr",
     "output_type": "stream",
     "text": [
      " 60%|██████    | 900/1500 [11:00:53<7:20:09, 44.02s/it]"
     ]
    },
    {
     "name": "stdout",
     "output_type": "stream",
     "text": [
      "883\n",
      "0.36442426743706147\n",
      "0.3116837274973526\n",
      "803\n",
      "0.33140734626496077\n",
      "0.33140734626496077\n"
     ]
    },
    {
     "name": "stderr",
     "output_type": "stream",
     "text": [
      " 60%|██████    | 901/1500 [11:01:37<7:19:15, 44.00s/it]"
     ]
    },
    {
     "name": "stdout",
     "output_type": "stream",
     "text": [
      "875\n",
      "0.3611225753198514\n",
      "0.30885986586657255\n",
      "783\n",
      "0.32315311597193563\n",
      "0.32315311597193563\n"
     ]
    },
    {
     "name": "stderr",
     "output_type": "stream",
     "text": [
      " 60%|██████    | 902/1500 [11:02:21<7:18:33, 44.00s/it]"
     ]
    },
    {
     "name": "stdout",
     "output_type": "stream",
     "text": [
      "864\n",
      "0.35658274865868755\n",
      "0.3049770561242499\n",
      "782\n",
      "0.32274040445728436\n",
      "0.32274040445728436\n"
     ]
    },
    {
     "name": "stderr",
     "output_type": "stream",
     "text": [
      " 60%|██████    | 903/1500 [11:03:05<7:17:44, 43.99s/it]"
     ]
    },
    {
     "name": "stdout",
     "output_type": "stream",
     "text": [
      "866\n",
      "0.3574081716879901\n",
      "0.30568302153194493\n",
      "790\n",
      "0.32604209657449446\n",
      "0.32604209657449446\n"
     ]
    },
    {
     "name": "stderr",
     "output_type": "stream",
     "text": [
      " 60%|██████    | 904/1500 [11:03:49<7:17:29, 44.04s/it]"
     ]
    },
    {
     "name": "stdout",
     "output_type": "stream",
     "text": [
      "875\n",
      "0.3611225753198514\n",
      "0.30885986586657255\n",
      "800\n",
      "0.330169211721007\n",
      "0.330169211721007\n"
     ]
    },
    {
     "name": "stderr",
     "output_type": "stream",
     "text": [
      " 60%|██████    | 905/1500 [11:04:33<7:16:50, 44.05s/it]"
     ]
    },
    {
     "name": "stdout",
     "output_type": "stream",
     "text": [
      "887\n",
      "0.3660751134956665\n",
      "0.31309565831274266\n",
      "797\n",
      "0.3289310771770532\n",
      "0.3289310771770532\n"
     ]
    },
    {
     "name": "stderr",
     "output_type": "stream",
     "text": [
      " 60%|██████    | 906/1500 [11:05:17<7:15:48, 44.02s/it]"
     ]
    },
    {
     "name": "stdout",
     "output_type": "stream",
     "text": [
      "881\n",
      "0.36359884440775897\n",
      "0.3109777620896576\n",
      "787\n",
      "0.3248039620305406\n",
      "0.3248039620305406\n"
     ]
    },
    {
     "name": "stderr",
     "output_type": "stream",
     "text": [
      " 60%|██████    | 907/1500 [11:06:01<7:15:08, 44.03s/it]"
     ]
    },
    {
     "name": "stdout",
     "output_type": "stream",
     "text": [
      "870\n",
      "0.35905901774659515\n",
      "0.30709495234733497\n",
      "777\n",
      "0.3206768468840281\n",
      "0.3206768468840281\n"
     ]
    },
    {
     "name": "stderr",
     "output_type": "stream",
     "text": [
      " 61%|██████    | 908/1500 [11:06:45<7:14:19, 44.02s/it]"
     ]
    },
    {
     "name": "stdout",
     "output_type": "stream",
     "text": [
      "863\n",
      "0.35617003714403633\n",
      "0.3046240734204024\n",
      "784\n",
      "0.32356582748658685\n",
      "0.32356582748658685\n"
     ]
    },
    {
     "name": "stderr",
     "output_type": "stream",
     "text": [
      " 61%|██████    | 909/1500 [11:07:29<7:14:01, 44.06s/it]"
     ]
    },
    {
     "name": "stdout",
     "output_type": "stream",
     "text": [
      "888\n",
      "0.3664878250103178\n",
      "0.3134486410165902\n",
      "791\n",
      "0.3264548080891457\n",
      "0.3264548080891457\n"
     ]
    },
    {
     "name": "stderr",
     "output_type": "stream",
     "text": [
      " 61%|██████    | 910/1500 [11:08:13<7:13:07, 44.05s/it]"
     ]
    },
    {
     "name": "stdout",
     "output_type": "stream",
     "text": [
      "877\n",
      "0.3619479983491539\n",
      "0.30956583127426757\n",
      "793\n",
      "0.32728023111844823\n",
      "0.32728023111844823\n"
     ]
    },
    {
     "name": "stderr",
     "output_type": "stream",
     "text": [
      " 61%|██████    | 911/1500 [11:08:57<7:12:12, 44.03s/it]"
     ]
    },
    {
     "name": "stdout",
     "output_type": "stream",
     "text": [
      "873\n",
      "0.3602971522905489\n",
      "0.3081539004588775\n",
      "790\n",
      "0.32604209657449446\n",
      "0.32604209657449446\n"
     ]
    },
    {
     "name": "stderr",
     "output_type": "stream",
     "text": [
      " 61%|██████    | 912/1500 [11:09:42<7:12:16, 44.11s/it]"
     ]
    },
    {
     "name": "stdout",
     "output_type": "stream",
     "text": [
      "867\n",
      "0.3578208832026413\n",
      "0.30603600423579247\n",
      "787\n",
      "0.3248039620305406\n",
      "0.3248039620305406\n"
     ]
    },
    {
     "name": "stderr",
     "output_type": "stream",
     "text": [
      " 61%|██████    | 913/1500 [11:10:26<7:12:11, 44.18s/it]"
     ]
    },
    {
     "name": "stdout",
     "output_type": "stream",
     "text": [
      "864\n",
      "0.35658274865868755\n",
      "0.3049770561242499\n",
      "784\n",
      "0.32356582748658685\n",
      "0.32356582748658685\n"
     ]
    },
    {
     "name": "stderr",
     "output_type": "stream",
     "text": [
      " 61%|██████    | 914/1500 [11:11:11<7:14:02, 44.44s/it]"
     ]
    },
    {
     "name": "stdout",
     "output_type": "stream",
     "text": [
      "892\n",
      "0.36813867106892284\n",
      "0.31486057183198024\n",
      "796\n",
      "0.328518365662402\n",
      "0.328518365662402\n"
     ]
    },
    {
     "name": "stderr",
     "output_type": "stream",
     "text": [
      " 61%|██████    | 915/1500 [11:11:55<7:12:07, 44.32s/it]"
     ]
    },
    {
     "name": "stdout",
     "output_type": "stream",
     "text": [
      "894\n",
      "0.36896409409822534\n",
      "0.31556653723967526\n",
      "797\n",
      "0.3289310771770532\n",
      "0.3289310771770532\n"
     ]
    },
    {
     "name": "stderr",
     "output_type": "stream",
     "text": [
      " 61%|██████    | 916/1500 [11:12:39<7:10:38, 44.24s/it]"
     ]
    },
    {
     "name": "stdout",
     "output_type": "stream",
     "text": [
      "884\n",
      "0.36483697895171274\n",
      "0.31203671020120016\n",
      "781\n",
      "0.3223276929426331\n",
      "0.3223276929426331\n"
     ]
    },
    {
     "name": "stderr",
     "output_type": "stream",
     "text": [
      " 61%|██████    | 917/1500 [11:13:23<7:09:07, 44.16s/it]"
     ]
    },
    {
     "name": "stdout",
     "output_type": "stream",
     "text": [
      "869\n",
      "0.3586463062319439\n",
      "0.3067419696434875\n",
      "776\n",
      "0.3202641353693768\n",
      "0.3202641353693768\n"
     ]
    },
    {
     "name": "stderr",
     "output_type": "stream",
     "text": [
      " 61%|██████    | 918/1500 [11:14:07<7:08:12, 44.15s/it]"
     ]
    },
    {
     "name": "stdout",
     "output_type": "stream",
     "text": [
      "868\n",
      "0.3582335947172926\n",
      "0.30638898693963995\n",
      "774\n",
      "0.3194387123400743\n",
      "0.3194387123400743\n"
     ]
    },
    {
     "name": "stderr",
     "output_type": "stream",
     "text": [
      " 61%|██████▏   | 919/1500 [11:14:51<7:06:54, 44.09s/it]"
     ]
    },
    {
     "name": "stdout",
     "output_type": "stream",
     "text": [
      "880\n",
      "0.3631861328931077\n",
      "0.31062477938581007\n",
      "786\n",
      "0.3243912505158894\n",
      "0.3243912505158894\n"
     ]
    },
    {
     "name": "stderr",
     "output_type": "stream",
     "text": [
      " 61%|██████▏   | 920/1500 [11:15:35<7:05:48, 44.05s/it]"
     ]
    },
    {
     "name": "stdout",
     "output_type": "stream",
     "text": [
      "881\n",
      "0.36359884440775897\n",
      "0.3109777620896576\n",
      "784\n",
      "0.32356582748658685\n",
      "0.32356582748658685\n"
     ]
    },
    {
     "name": "stderr",
     "output_type": "stream",
     "text": [
      " 61%|██████▏   | 921/1500 [11:16:19<7:04:55, 44.03s/it]"
     ]
    },
    {
     "name": "stdout",
     "output_type": "stream",
     "text": [
      "879\n",
      "0.3627734213784565\n",
      "0.3102717966819626\n",
      "788\n",
      "0.3252166735451919\n",
      "0.3252166735451919\n"
     ]
    },
    {
     "name": "stderr",
     "output_type": "stream",
     "text": [
      " 61%|██████▏   | 922/1500 [11:17:03<7:04:19, 44.05s/it]"
     ]
    },
    {
     "name": "stdout",
     "output_type": "stream",
     "text": [
      "871\n",
      "0.3594717292612464\n",
      "0.3074479350511825\n",
      "781\n",
      "0.3223276929426331\n",
      "0.3223276929426331\n"
     ]
    },
    {
     "name": "stderr",
     "output_type": "stream",
     "text": [
      " 62%|██████▏   | 923/1500 [11:17:47<7:03:54, 44.08s/it]"
     ]
    },
    {
     "name": "stdout",
     "output_type": "stream",
     "text": [
      "871\n",
      "0.3594717292612464\n",
      "0.3074479350511825\n",
      "780\n",
      "0.32191498142798186\n",
      "0.32191498142798186\n"
     ]
    },
    {
     "name": "stderr",
     "output_type": "stream",
     "text": [
      " 62%|██████▏   | 924/1500 [11:18:32<7:03:16, 44.09s/it]"
     ]
    },
    {
     "name": "stdout",
     "output_type": "stream",
     "text": [
      "877\n",
      "0.3619479983491539\n",
      "0.30956583127426757\n",
      "787\n",
      "0.3248039620305406\n",
      "0.3248039620305406\n"
     ]
    },
    {
     "name": "stderr",
     "output_type": "stream",
     "text": [
      " 62%|██████▏   | 925/1500 [11:19:16<7:02:34, 44.10s/it]"
     ]
    },
    {
     "name": "stdout",
     "output_type": "stream",
     "text": [
      "881\n",
      "0.36359884440775897\n",
      "0.3109777620896576\n",
      "791\n",
      "0.3264548080891457\n",
      "0.3264548080891457\n"
     ]
    },
    {
     "name": "stderr",
     "output_type": "stream",
     "text": [
      " 62%|██████▏   | 926/1500 [11:20:00<7:01:38, 44.07s/it]"
     ]
    },
    {
     "name": "stdout",
     "output_type": "stream",
     "text": [
      "882\n",
      "0.36401155592241025\n",
      "0.31133074479350514\n",
      "793\n",
      "0.32728023111844823\n",
      "0.32728023111844823\n"
     ]
    },
    {
     "name": "stderr",
     "output_type": "stream",
     "text": [
      " 62%|██████▏   | 927/1500 [11:20:44<7:00:50, 44.07s/it]"
     ]
    },
    {
     "name": "stdout",
     "output_type": "stream",
     "text": [
      "874\n",
      "0.36070986380520015\n",
      "0.308506883162725\n",
      "791\n",
      "0.3264548080891457\n",
      "0.3264548080891457\n"
     ]
    },
    {
     "name": "stderr",
     "output_type": "stream",
     "text": [
      " 62%|██████▏   | 928/1500 [11:21:28<7:00:12, 44.08s/it]"
     ]
    },
    {
     "name": "stdout",
     "output_type": "stream",
     "text": [
      "868\n",
      "0.3582335947172926\n",
      "0.30638898693963995\n",
      "792\n",
      "0.32686751960379695\n",
      "0.32686751960379695\n"
     ]
    },
    {
     "name": "stderr",
     "output_type": "stream",
     "text": [
      " 62%|██████▏   | 929/1500 [11:22:12<6:59:57, 44.13s/it]"
     ]
    },
    {
     "name": "stdout",
     "output_type": "stream",
     "text": [
      "876\n",
      "0.3615352868345027\n",
      "0.30921284857042003\n",
      "790\n",
      "0.32604209657449446\n",
      "0.32604209657449446\n"
     ]
    },
    {
     "name": "stderr",
     "output_type": "stream",
     "text": [
      " 62%|██████▏   | 930/1500 [11:22:56<6:58:50, 44.09s/it]"
     ]
    },
    {
     "name": "stdout",
     "output_type": "stream",
     "text": [
      "886\n",
      "0.3656624019810153\n",
      "0.3127426756088952\n",
      "799\n",
      "0.3297565002063558\n",
      "0.3297565002063558\n"
     ]
    },
    {
     "name": "stderr",
     "output_type": "stream",
     "text": [
      " 62%|██████▏   | 931/1500 [11:23:40<6:57:38, 44.04s/it]"
     ]
    },
    {
     "name": "stdout",
     "output_type": "stream",
     "text": [
      "896\n",
      "0.36978951712752783\n",
      "0.3162725026473703\n",
      "786\n",
      "0.3243912505158894\n",
      "0.3243912505158894\n"
     ]
    },
    {
     "name": "stderr",
     "output_type": "stream",
     "text": [
      " 62%|██████▏   | 932/1500 [11:24:24<6:56:38, 44.01s/it]"
     ]
    },
    {
     "name": "stdout",
     "output_type": "stream",
     "text": [
      "885\n",
      "0.365249690466364\n",
      "0.31238969290504764\n",
      "784\n",
      "0.32356582748658685\n",
      "0.32356582748658685\n"
     ]
    },
    {
     "name": "stderr",
     "output_type": "stream",
     "text": [
      " 62%|██████▏   | 933/1500 [11:25:08<6:56:01, 44.02s/it]"
     ]
    },
    {
     "name": "stdout",
     "output_type": "stream",
     "text": [
      "865\n",
      "0.35699546017333883\n",
      "0.30533003882809745\n",
      "779\n",
      "0.3215022699133306\n",
      "0.3215022699133306\n"
     ]
    },
    {
     "name": "stderr",
     "output_type": "stream",
     "text": [
      " 62%|██████▏   | 934/1500 [11:25:52<6:55:03, 44.00s/it]"
     ]
    },
    {
     "name": "stdout",
     "output_type": "stream",
     "text": [
      "869\n",
      "0.3586463062319439\n",
      "0.3067419696434875\n",
      "777\n",
      "0.3206768468840281\n",
      "0.3206768468840281\n"
     ]
    },
    {
     "name": "stderr",
     "output_type": "stream",
     "text": [
      " 62%|██████▏   | 935/1500 [11:26:36<6:54:41, 44.04s/it]"
     ]
    },
    {
     "name": "stdout",
     "output_type": "stream",
     "text": [
      "883\n",
      "0.36442426743706147\n",
      "0.3116837274973526\n",
      "789\n",
      "0.3256293850598432\n",
      "0.3256293850598432\n"
     ]
    },
    {
     "name": "stderr",
     "output_type": "stream",
     "text": [
      " 62%|██████▏   | 936/1500 [11:27:20<6:53:38, 44.00s/it]"
     ]
    },
    {
     "name": "stdout",
     "output_type": "stream",
     "text": [
      "890\n",
      "0.3673132480396203\n",
      "0.3141546064242852\n",
      "790\n",
      "0.32604209657449446\n",
      "0.32604209657449446\n"
     ]
    },
    {
     "name": "stderr",
     "output_type": "stream",
     "text": [
      " 62%|██████▏   | 937/1500 [11:28:04<6:53:01, 44.02s/it]"
     ]
    },
    {
     "name": "stdout",
     "output_type": "stream",
     "text": [
      "877\n",
      "0.3619479983491539\n",
      "0.30956583127426757\n",
      "788\n",
      "0.3252166735451919\n",
      "0.3252166735451919\n"
     ]
    },
    {
     "name": "stderr",
     "output_type": "stream",
     "text": [
      " 63%|██████▎   | 938/1500 [11:28:48<6:52:22, 44.03s/it]"
     ]
    },
    {
     "name": "stdout",
     "output_type": "stream",
     "text": [
      "864\n",
      "0.35658274865868755\n",
      "0.3049770561242499\n",
      "786\n",
      "0.3243912505158894\n",
      "0.3243912505158894\n"
     ]
    },
    {
     "name": "stderr",
     "output_type": "stream",
     "text": [
      " 63%|██████▎   | 939/1500 [11:29:32<6:51:52, 44.05s/it]"
     ]
    },
    {
     "name": "stdout",
     "output_type": "stream",
     "text": [
      "870\n",
      "0.35905901774659515\n",
      "0.30709495234733497\n",
      "782\n",
      "0.32274040445728436\n",
      "0.32274040445728436\n"
     ]
    },
    {
     "name": "stderr",
     "output_type": "stream",
     "text": [
      " 63%|██████▎   | 940/1500 [11:30:16<6:51:02, 44.04s/it]"
     ]
    },
    {
     "name": "stdout",
     "output_type": "stream",
     "text": [
      "872\n",
      "0.35988444077589765\n",
      "0.30780091775503\n",
      "793\n",
      "0.32728023111844823\n",
      "0.32728023111844823\n"
     ]
    },
    {
     "name": "stderr",
     "output_type": "stream",
     "text": [
      " 63%|██████▎   | 941/1500 [11:31:00<6:50:19, 44.04s/it]"
     ]
    },
    {
     "name": "stdout",
     "output_type": "stream",
     "text": [
      "866\n",
      "0.3574081716879901\n",
      "0.30568302153194493\n",
      "792\n",
      "0.32686751960379695\n",
      "0.32686751960379695\n"
     ]
    },
    {
     "name": "stderr",
     "output_type": "stream",
     "text": [
      " 63%|██████▎   | 942/1500 [11:31:44<6:49:53, 44.07s/it]"
     ]
    },
    {
     "name": "stdout",
     "output_type": "stream",
     "text": [
      "878\n",
      "0.3623607098638052\n",
      "0.30991881397811505\n",
      "793\n",
      "0.32728023111844823\n",
      "0.32728023111844823\n"
     ]
    },
    {
     "name": "stderr",
     "output_type": "stream",
     "text": [
      " 63%|██████▎   | 943/1500 [11:32:28<6:49:03, 44.06s/it]"
     ]
    },
    {
     "name": "stdout",
     "output_type": "stream",
     "text": [
      "865\n",
      "0.35699546017333883\n",
      "0.30533003882809745\n",
      "776\n",
      "0.3202641353693768\n",
      "0.3202641353693768\n"
     ]
    },
    {
     "name": "stderr",
     "output_type": "stream",
     "text": [
      " 63%|██████▎   | 944/1500 [11:33:12<6:48:08, 44.04s/it]"
     ]
    },
    {
     "name": "stdout",
     "output_type": "stream",
     "text": [
      "867\n",
      "0.3578208832026413\n",
      "0.30603600423579247\n",
      "785\n",
      "0.32397853900123813\n",
      "0.32397853900123813\n"
     ]
    },
    {
     "name": "stderr",
     "output_type": "stream",
     "text": [
      " 63%|██████▎   | 945/1500 [11:33:57<6:47:48, 44.09s/it]"
     ]
    },
    {
     "name": "stdout",
     "output_type": "stream",
     "text": [
      "875\n",
      "0.3611225753198514\n",
      "0.30885986586657255\n",
      "785\n",
      "0.32397853900123813\n",
      "0.32397853900123813\n"
     ]
    },
    {
     "name": "stderr",
     "output_type": "stream",
     "text": [
      " 63%|██████▎   | 946/1500 [11:34:41<6:46:42, 44.05s/it]"
     ]
    },
    {
     "name": "stdout",
     "output_type": "stream",
     "text": [
      "871\n",
      "0.3594717292612464\n",
      "0.3074479350511825\n",
      "793\n",
      "0.32728023111844823\n",
      "0.32728023111844823\n"
     ]
    },
    {
     "name": "stderr",
     "output_type": "stream",
     "text": [
      " 63%|██████▎   | 947/1500 [11:35:26<6:49:07, 44.39s/it]"
     ]
    },
    {
     "name": "stdout",
     "output_type": "stream",
     "text": [
      "875\n",
      "0.3611225753198514\n",
      "0.30885986586657255\n",
      "784\n",
      "0.32356582748658685\n",
      "0.32356582748658685\n"
     ]
    },
    {
     "name": "stderr",
     "output_type": "stream",
     "text": [
      " 63%|██████▎   | 948/1500 [11:36:10<6:47:26, 44.29s/it]"
     ]
    },
    {
     "name": "stdout",
     "output_type": "stream",
     "text": [
      "878\n",
      "0.3623607098638052\n",
      "0.30991881397811505\n",
      "787\n",
      "0.3248039620305406\n",
      "0.3248039620305406\n"
     ]
    },
    {
     "name": "stderr",
     "output_type": "stream",
     "text": [
      " 63%|██████▎   | 949/1500 [11:36:54<6:46:11, 44.23s/it]"
     ]
    },
    {
     "name": "stdout",
     "output_type": "stream",
     "text": [
      "862\n",
      "0.35575732562938506\n",
      "0.3042710907165549\n",
      "783\n",
      "0.32315311597193563\n",
      "0.32315311597193563\n"
     ]
    },
    {
     "name": "stderr",
     "output_type": "stream",
     "text": [
      " 63%|██████▎   | 950/1500 [11:37:38<6:44:39, 44.14s/it]"
     ]
    },
    {
     "name": "stdout",
     "output_type": "stream",
     "text": [
      "873\n",
      "0.3602971522905489\n",
      "0.3081539004588775\n",
      "785\n",
      "0.32397853900123813\n",
      "0.32397853900123813\n"
     ]
    },
    {
     "name": "stderr",
     "output_type": "stream",
     "text": [
      " 63%|██████▎   | 951/1500 [11:38:22<6:43:57, 44.15s/it]"
     ]
    },
    {
     "name": "stdout",
     "output_type": "stream",
     "text": [
      "879\n",
      "0.3627734213784565\n",
      "0.3102717966819626\n",
      "786\n",
      "0.3243912505158894\n",
      "0.3243912505158894\n"
     ]
    },
    {
     "name": "stderr",
     "output_type": "stream",
     "text": [
      " 63%|██████▎   | 952/1500 [11:39:06<6:43:10, 44.14s/it]"
     ]
    },
    {
     "name": "stdout",
     "output_type": "stream",
     "text": [
      "880\n",
      "0.3631861328931077\n",
      "0.31062477938581007\n",
      "787\n",
      "0.3248039620305406\n",
      "0.3248039620305406\n"
     ]
    },
    {
     "name": "stderr",
     "output_type": "stream",
     "text": [
      " 64%|██████▎   | 953/1500 [11:39:50<6:42:04, 44.10s/it]"
     ]
    },
    {
     "name": "stdout",
     "output_type": "stream",
     "text": [
      "869\n",
      "0.3586463062319439\n",
      "0.3067419696434875\n",
      "776\n",
      "0.3202641353693768\n",
      "0.3202641353693768\n"
     ]
    },
    {
     "name": "stderr",
     "output_type": "stream",
     "text": [
      " 64%|██████▎   | 954/1500 [11:40:34<6:41:29, 44.12s/it]"
     ]
    },
    {
     "name": "stdout",
     "output_type": "stream",
     "text": [
      "869\n",
      "0.3586463062319439\n",
      "0.3067419696434875\n",
      "783\n",
      "0.32315311597193563\n",
      "0.32315311597193563\n"
     ]
    },
    {
     "name": "stderr",
     "output_type": "stream",
     "text": [
      " 64%|██████▎   | 955/1500 [11:41:18<6:40:35, 44.10s/it]"
     ]
    },
    {
     "name": "stdout",
     "output_type": "stream",
     "text": [
      "882\n",
      "0.36401155592241025\n",
      "0.31133074479350514\n",
      "786\n",
      "0.3243912505158894\n",
      "0.3243912505158894\n"
     ]
    },
    {
     "name": "stderr",
     "output_type": "stream",
     "text": [
      " 64%|██████▎   | 956/1500 [11:42:02<6:39:45, 44.09s/it]"
     ]
    },
    {
     "name": "stdout",
     "output_type": "stream",
     "text": [
      "885\n",
      "0.365249690466364\n",
      "0.31238969290504764\n",
      "786\n",
      "0.3243912505158894\n",
      "0.3243912505158894\n"
     ]
    },
    {
     "name": "stderr",
     "output_type": "stream",
     "text": [
      " 64%|██████▍   | 957/1500 [11:42:47<6:39:08, 44.10s/it]"
     ]
    },
    {
     "name": "stdout",
     "output_type": "stream",
     "text": [
      "878\n",
      "0.3623607098638052\n",
      "0.30991881397811505\n",
      "788\n",
      "0.3252166735451919\n",
      "0.3252166735451919\n"
     ]
    },
    {
     "name": "stderr",
     "output_type": "stream",
     "text": [
      " 64%|██████▍   | 958/1500 [11:43:30<6:37:55, 44.05s/it]"
     ]
    },
    {
     "name": "stdout",
     "output_type": "stream",
     "text": [
      "870\n",
      "0.35905901774659515\n",
      "0.30709495234733497\n",
      "779\n",
      "0.3215022699133306\n",
      "0.3215022699133306\n"
     ]
    },
    {
     "name": "stderr",
     "output_type": "stream",
     "text": [
      " 64%|██████▍   | 959/1500 [11:44:14<6:36:59, 44.03s/it]"
     ]
    },
    {
     "name": "stdout",
     "output_type": "stream",
     "text": [
      "864\n",
      "0.35658274865868755\n",
      "0.3049770561242499\n",
      "786\n",
      "0.3243912505158894\n",
      "0.3243912505158894\n"
     ]
    },
    {
     "name": "stderr",
     "output_type": "stream",
     "text": [
      " 64%|██████▍   | 960/1500 [11:44:59<6:36:18, 44.03s/it]"
     ]
    },
    {
     "name": "stdout",
     "output_type": "stream",
     "text": [
      "871\n",
      "0.3594717292612464\n",
      "0.3074479350511825\n",
      "794\n",
      "0.32769294263309945\n",
      "0.32769294263309945\n"
     ]
    },
    {
     "name": "stderr",
     "output_type": "stream",
     "text": [
      " 64%|██████▍   | 961/1500 [11:45:43<6:35:27, 44.02s/it]"
     ]
    },
    {
     "name": "stdout",
     "output_type": "stream",
     "text": [
      "874\n",
      "0.36070986380520015\n",
      "0.308506883162725\n",
      "795\n",
      "0.3281056541477507\n",
      "0.3281056541477507\n"
     ]
    },
    {
     "name": "stderr",
     "output_type": "stream",
     "text": [
      " 64%|██████▍   | 962/1500 [11:46:26<6:34:19, 43.98s/it]"
     ]
    },
    {
     "name": "stdout",
     "output_type": "stream",
     "text": [
      "889\n",
      "0.36690053652496907\n",
      "0.3138016237204377\n",
      "788\n",
      "0.3252166735451919\n",
      "0.3252166735451919\n"
     ]
    },
    {
     "name": "stderr",
     "output_type": "stream",
     "text": [
      " 64%|██████▍   | 963/1500 [11:47:10<6:33:42, 43.99s/it]"
     ]
    },
    {
     "name": "stdout",
     "output_type": "stream",
     "text": [
      "873\n",
      "0.3602971522905489\n",
      "0.3081539004588775\n",
      "781\n",
      "0.3223276929426331\n",
      "0.3223276929426331\n"
     ]
    },
    {
     "name": "stderr",
     "output_type": "stream",
     "text": [
      " 64%|██████▍   | 964/1500 [11:47:55<6:33:21, 44.03s/it]"
     ]
    },
    {
     "name": "stdout",
     "output_type": "stream",
     "text": [
      "862\n",
      "0.35575732562938506\n",
      "0.3042710907165549\n",
      "788\n",
      "0.3252166735451919\n",
      "0.3252166735451919\n"
     ]
    },
    {
     "name": "stderr",
     "output_type": "stream",
     "text": [
      " 64%|██████▍   | 965/1500 [11:48:38<6:32:23, 44.01s/it]"
     ]
    },
    {
     "name": "stdout",
     "output_type": "stream",
     "text": [
      "878\n",
      "0.3623607098638052\n",
      "0.30991881397811505\n",
      "784\n",
      "0.32356582748658685\n",
      "0.32356582748658685\n"
     ]
    },
    {
     "name": "stderr",
     "output_type": "stream",
     "text": [
      " 64%|██████▍   | 966/1500 [11:49:22<6:31:34, 44.00s/it]"
     ]
    },
    {
     "name": "stdout",
     "output_type": "stream",
     "text": [
      "876\n",
      "0.3615352868345027\n",
      "0.30921284857042003\n",
      "792\n",
      "0.32686751960379695\n",
      "0.32686751960379695\n"
     ]
    },
    {
     "name": "stderr",
     "output_type": "stream",
     "text": [
      " 64%|██████▍   | 967/1500 [11:50:06<6:30:53, 44.00s/it]"
     ]
    },
    {
     "name": "stdout",
     "output_type": "stream",
     "text": [
      "884\n",
      "0.36483697895171274\n",
      "0.31203671020120016\n",
      "782\n",
      "0.32274040445728436\n",
      "0.32274040445728436\n"
     ]
    },
    {
     "name": "stderr",
     "output_type": "stream",
     "text": [
      " 65%|██████▍   | 968/1500 [11:50:50<6:30:10, 44.00s/it]"
     ]
    },
    {
     "name": "stdout",
     "output_type": "stream",
     "text": [
      "875\n",
      "0.3611225753198514\n",
      "0.30885986586657255\n",
      "775\n",
      "0.31985142385472554\n",
      "0.31985142385472554\n"
     ]
    },
    {
     "name": "stderr",
     "output_type": "stream",
     "text": [
      " 65%|██████▍   | 969/1500 [11:51:35<6:29:40, 44.03s/it]"
     ]
    },
    {
     "name": "stdout",
     "output_type": "stream",
     "text": [
      "865\n",
      "0.35699546017333883\n",
      "0.30533003882809745\n",
      "782\n",
      "0.32274040445728436\n",
      "0.32274040445728436\n"
     ]
    },
    {
     "name": "stderr",
     "output_type": "stream",
     "text": [
      " 65%|██████▍   | 970/1500 [11:52:19<6:28:53, 44.03s/it]"
     ]
    },
    {
     "name": "stdout",
     "output_type": "stream",
     "text": [
      "864\n",
      "0.35658274865868755\n",
      "0.3049770561242499\n",
      "780\n",
      "0.32191498142798186\n",
      "0.32191498142798186\n"
     ]
    },
    {
     "name": "stderr",
     "output_type": "stream",
     "text": [
      " 65%|██████▍   | 971/1500 [11:53:03<6:27:57, 44.00s/it]"
     ]
    },
    {
     "name": "stdout",
     "output_type": "stream",
     "text": [
      "879\n",
      "0.3627734213784565\n",
      "0.3102717966819626\n",
      "781\n",
      "0.3223276929426331\n",
      "0.3223276929426331\n"
     ]
    },
    {
     "name": "stderr",
     "output_type": "stream",
     "text": [
      " 65%|██████▍   | 972/1500 [11:53:47<6:27:15, 44.01s/it]"
     ]
    },
    {
     "name": "stdout",
     "output_type": "stream",
     "text": [
      "879\n",
      "0.3627734213784565\n",
      "0.3102717966819626\n",
      "793\n",
      "0.32728023111844823\n",
      "0.32728023111844823\n"
     ]
    },
    {
     "name": "stderr",
     "output_type": "stream",
     "text": [
      " 65%|██████▍   | 973/1500 [11:54:31<6:26:30, 44.01s/it]"
     ]
    },
    {
     "name": "stdout",
     "output_type": "stream",
     "text": [
      "871\n",
      "0.3594717292612464\n",
      "0.3074479350511825\n",
      "779\n",
      "0.3215022699133306\n",
      "0.3215022699133306\n"
     ]
    },
    {
     "name": "stderr",
     "output_type": "stream",
     "text": [
      " 65%|██████▍   | 974/1500 [11:55:15<6:25:45, 44.00s/it]"
     ]
    },
    {
     "name": "stdout",
     "output_type": "stream",
     "text": [
      "873\n",
      "0.3602971522905489\n",
      "0.3081539004588775\n",
      "783\n",
      "0.32315311597193563\n",
      "0.32315311597193563\n"
     ]
    },
    {
     "name": "stderr",
     "output_type": "stream",
     "text": [
      " 65%|██████▌   | 975/1500 [11:55:59<6:24:55, 43.99s/it]"
     ]
    },
    {
     "name": "stdout",
     "output_type": "stream",
     "text": [
      "871\n",
      "0.3594717292612464\n",
      "0.3074479350511825\n",
      "778\n",
      "0.3210895583986793\n",
      "0.3210895583986793\n"
     ]
    },
    {
     "name": "stderr",
     "output_type": "stream",
     "text": [
      " 65%|██████▌   | 976/1500 [11:56:43<6:24:43, 44.05s/it]"
     ]
    },
    {
     "name": "stdout",
     "output_type": "stream",
     "text": [
      "885\n",
      "0.365249690466364\n",
      "0.31238969290504764\n",
      "788\n",
      "0.3252166735451919\n",
      "0.3252166735451919\n"
     ]
    },
    {
     "name": "stderr",
     "output_type": "stream",
     "text": [
      " 65%|██████▌   | 977/1500 [11:57:27<6:23:57, 44.05s/it]"
     ]
    },
    {
     "name": "stdout",
     "output_type": "stream",
     "text": [
      "887\n",
      "0.3660751134956665\n",
      "0.31309565831274266\n",
      "785\n",
      "0.32397853900123813\n",
      "0.32397853900123813\n"
     ]
    },
    {
     "name": "stderr",
     "output_type": "stream",
     "text": [
      " 65%|██████▌   | 978/1500 [11:58:12<6:25:54, 44.36s/it]"
     ]
    },
    {
     "name": "stdout",
     "output_type": "stream",
     "text": [
      "888\n",
      "0.3664878250103178\n",
      "0.3134486410165902\n",
      "779\n",
      "0.3215022699133306\n",
      "0.3215022699133306\n"
     ]
    },
    {
     "name": "stderr",
     "output_type": "stream",
     "text": [
      " 65%|██████▌   | 979/1500 [11:58:56<6:24:33, 44.29s/it]"
     ]
    },
    {
     "name": "stdout",
     "output_type": "stream",
     "text": [
      "874\n",
      "0.36070986380520015\n",
      "0.308506883162725\n",
      "768\n",
      "0.3169624432521667\n",
      "0.3169624432521667\n"
     ]
    },
    {
     "name": "stderr",
     "output_type": "stream",
     "text": [
      " 65%|██████▌   | 980/1500 [11:59:40<6:23:26, 44.24s/it]"
     ]
    },
    {
     "name": "stdout",
     "output_type": "stream",
     "text": [
      "869\n",
      "0.3586463062319439\n",
      "0.3067419696434875\n",
      "782\n",
      "0.32274040445728436\n",
      "0.32274040445728436\n"
     ]
    },
    {
     "name": "stderr",
     "output_type": "stream",
     "text": [
      " 65%|██████▌   | 981/1500 [12:00:24<6:22:38, 44.24s/it]"
     ]
    },
    {
     "name": "stdout",
     "output_type": "stream",
     "text": [
      "883\n",
      "0.36442426743706147\n",
      "0.3116837274973526\n",
      "788\n",
      "0.3252166735451919\n",
      "0.3252166735451919\n"
     ]
    },
    {
     "name": "stderr",
     "output_type": "stream",
     "text": [
      " 65%|██████▌   | 982/1500 [12:01:08<6:21:31, 44.19s/it]"
     ]
    },
    {
     "name": "stdout",
     "output_type": "stream",
     "text": [
      "882\n",
      "0.36401155592241025\n",
      "0.31133074479350514\n",
      "788\n",
      "0.3252166735451919\n",
      "0.3252166735451919\n"
     ]
    },
    {
     "name": "stderr",
     "output_type": "stream",
     "text": [
      " 66%|██████▌   | 983/1500 [12:01:53<6:20:35, 44.17s/it]"
     ]
    },
    {
     "name": "stdout",
     "output_type": "stream",
     "text": [
      "886\n",
      "0.3656624019810153\n",
      "0.3127426756088952\n",
      "791\n",
      "0.3264548080891457\n",
      "0.3264548080891457\n"
     ]
    },
    {
     "name": "stderr",
     "output_type": "stream",
     "text": [
      " 66%|██████▌   | 984/1500 [12:02:37<6:19:32, 44.13s/it]"
     ]
    },
    {
     "name": "stdout",
     "output_type": "stream",
     "text": [
      "868\n",
      "0.3582335947172926\n",
      "0.30638898693963995\n",
      "779\n",
      "0.3215022699133306\n",
      "0.3215022699133306\n"
     ]
    },
    {
     "name": "stderr",
     "output_type": "stream",
     "text": [
      " 66%|██████▌   | 985/1500 [12:03:21<6:18:43, 44.12s/it]"
     ]
    },
    {
     "name": "stdout",
     "output_type": "stream",
     "text": [
      "866\n",
      "0.3574081716879901\n",
      "0.30568302153194493\n",
      "774\n",
      "0.3194387123400743\n",
      "0.3194387123400743\n"
     ]
    },
    {
     "name": "stderr",
     "output_type": "stream",
     "text": [
      " 66%|██████▌   | 986/1500 [12:04:05<6:17:47, 44.10s/it]"
     ]
    },
    {
     "name": "stdout",
     "output_type": "stream",
     "text": [
      "868\n",
      "0.3582335947172926\n",
      "0.30638898693963995\n",
      "784\n",
      "0.32356582748658685\n",
      "0.32356582748658685\n"
     ]
    },
    {
     "name": "stderr",
     "output_type": "stream",
     "text": [
      " 66%|██████▌   | 987/1500 [12:04:49<6:16:51, 44.08s/it]"
     ]
    },
    {
     "name": "stdout",
     "output_type": "stream",
     "text": [
      "879\n",
      "0.3627734213784565\n",
      "0.3102717966819626\n",
      "786\n",
      "0.3243912505158894\n",
      "0.3243912505158894\n"
     ]
    },
    {
     "name": "stderr",
     "output_type": "stream",
     "text": [
      " 66%|██████▌   | 988/1500 [12:05:33<6:16:04, 44.07s/it]"
     ]
    },
    {
     "name": "stdout",
     "output_type": "stream",
     "text": [
      "894\n",
      "0.36896409409822534\n",
      "0.31556653723967526\n",
      "785\n",
      "0.32397853900123813\n",
      "0.32397853900123813\n"
     ]
    },
    {
     "name": "stderr",
     "output_type": "stream",
     "text": [
      " 66%|██████▌   | 989/1500 [12:06:17<6:15:23, 44.08s/it]"
     ]
    },
    {
     "name": "stdout",
     "output_type": "stream",
     "text": [
      "877\n",
      "0.3619479983491539\n",
      "0.30956583127426757\n",
      "781\n",
      "0.3223276929426331\n",
      "0.3223276929426331\n"
     ]
    },
    {
     "name": "stderr",
     "output_type": "stream",
     "text": [
      " 66%|██████▌   | 990/1500 [12:07:01<6:14:25, 44.05s/it]"
     ]
    },
    {
     "name": "stdout",
     "output_type": "stream",
     "text": [
      "862\n",
      "0.35575732562938506\n",
      "0.3042710907165549\n",
      "779\n",
      "0.3215022699133306\n",
      "0.3215022699133306\n"
     ]
    },
    {
     "name": "stderr",
     "output_type": "stream",
     "text": [
      " 66%|██████▌   | 991/1500 [12:07:45<6:13:32, 44.03s/it]"
     ]
    },
    {
     "name": "stdout",
     "output_type": "stream",
     "text": [
      "866\n",
      "0.3574081716879901\n",
      "0.30568302153194493\n",
      "783\n",
      "0.32315311597193563\n",
      "0.32315311597193563\n"
     ]
    },
    {
     "name": "stderr",
     "output_type": "stream",
     "text": [
      " 66%|██████▌   | 992/1500 [12:08:29<6:12:45, 44.03s/it]"
     ]
    },
    {
     "name": "stdout",
     "output_type": "stream",
     "text": [
      "876\n",
      "0.3615352868345027\n",
      "0.30921284857042003\n",
      "795\n",
      "0.3281056541477507\n",
      "0.3281056541477507\n"
     ]
    },
    {
     "name": "stderr",
     "output_type": "stream",
     "text": [
      " 66%|██████▌   | 993/1500 [12:09:13<6:12:06, 44.04s/it]"
     ]
    },
    {
     "name": "stdout",
     "output_type": "stream",
     "text": [
      "887\n",
      "0.3660751134956665\n",
      "0.31309565831274266\n",
      "794\n",
      "0.32769294263309945\n",
      "0.32769294263309945\n"
     ]
    },
    {
     "name": "stderr",
     "output_type": "stream",
     "text": [
      " 66%|██████▋   | 994/1500 [12:09:57<6:11:47, 44.09s/it]"
     ]
    },
    {
     "name": "stdout",
     "output_type": "stream",
     "text": [
      "883\n",
      "0.36442426743706147\n",
      "0.3116837274973526\n",
      "791\n",
      "0.3264548080891457\n",
      "0.3264548080891457\n"
     ]
    },
    {
     "name": "stderr",
     "output_type": "stream",
     "text": [
      " 66%|██████▋   | 995/1500 [12:10:41<6:11:12, 44.10s/it]"
     ]
    },
    {
     "name": "stdout",
     "output_type": "stream",
     "text": [
      "864\n",
      "0.35658274865868755\n",
      "0.3049770561242499\n",
      "779\n",
      "0.3215022699133306\n",
      "0.3215022699133306\n"
     ]
    },
    {
     "name": "stderr",
     "output_type": "stream",
     "text": [
      " 66%|██████▋   | 996/1500 [12:11:25<6:10:18, 44.08s/it]"
     ]
    },
    {
     "name": "stdout",
     "output_type": "stream",
     "text": [
      "865\n",
      "0.35699546017333883\n",
      "0.30533003882809745\n",
      "787\n",
      "0.3248039620305406\n",
      "0.3248039620305406\n"
     ]
    },
    {
     "name": "stderr",
     "output_type": "stream",
     "text": [
      " 66%|██████▋   | 997/1500 [12:12:10<6:09:49, 44.11s/it]"
     ]
    },
    {
     "name": "stdout",
     "output_type": "stream",
     "text": [
      "874\n",
      "0.36070986380520015\n",
      "0.308506883162725\n",
      "789\n",
      "0.3256293850598432\n",
      "0.3256293850598432\n"
     ]
    },
    {
     "name": "stderr",
     "output_type": "stream",
     "text": [
      " 67%|██████▋   | 998/1500 [12:12:54<6:09:22, 44.15s/it]"
     ]
    },
    {
     "name": "stdout",
     "output_type": "stream",
     "text": [
      "887\n",
      "0.3660751134956665\n",
      "0.31309565831274266\n",
      "797\n",
      "0.3289310771770532\n",
      "0.3289310771770532\n"
     ]
    },
    {
     "name": "stderr",
     "output_type": "stream",
     "text": [
      " 67%|██████▋   | 999/1500 [12:13:38<6:09:13, 44.22s/it]"
     ]
    },
    {
     "name": "stdout",
     "output_type": "stream",
     "text": [
      "883\n",
      "0.36442426743706147\n",
      "0.3116837274973526\n",
      "783\n",
      "0.32315311597193563\n",
      "0.32315311597193563\n"
     ]
    },
    {
     "name": "stderr",
     "output_type": "stream",
     "text": [
      " 67%|██████▋   | 1000/1500 [12:14:22<6:08:05, 44.17s/it]"
     ]
    },
    {
     "name": "stdout",
     "output_type": "stream",
     "text": [
      "875\n",
      "0.3611225753198514\n",
      "0.30885986586657255\n",
      "787\n",
      "0.3248039620305406\n",
      "0.3248039620305406\n"
     ]
    },
    {
     "name": "stderr",
     "output_type": "stream",
     "text": [
      " 67%|██████▋   | 1001/1500 [12:15:06<6:06:57, 44.12s/it]"
     ]
    },
    {
     "name": "stdout",
     "output_type": "stream",
     "text": [
      "865\n",
      "0.35699546017333883\n",
      "0.30533003882809745\n",
      "785\n",
      "0.32397853900123813\n",
      "0.32397853900123813\n"
     ]
    },
    {
     "name": "stderr",
     "output_type": "stream",
     "text": [
      " 67%|██████▋   | 1002/1500 [12:15:50<6:05:54, 44.09s/it]"
     ]
    },
    {
     "name": "stdout",
     "output_type": "stream",
     "text": [
      "878\n",
      "0.3623607098638052\n",
      "0.30991881397811505\n",
      "786\n",
      "0.3243912505158894\n",
      "0.3243912505158894\n"
     ]
    },
    {
     "name": "stderr",
     "output_type": "stream",
     "text": [
      " 67%|██████▋   | 1003/1500 [12:16:34<6:05:30, 44.13s/it]"
     ]
    },
    {
     "name": "stdout",
     "output_type": "stream",
     "text": [
      "880\n",
      "0.3631861328931077\n",
      "0.31062477938581007\n",
      "798\n",
      "0.3293437886917045\n",
      "0.3293437886917045\n"
     ]
    },
    {
     "name": "stderr",
     "output_type": "stream",
     "text": [
      " 67%|██████▋   | 1004/1500 [12:17:19<6:04:59, 44.15s/it]"
     ]
    },
    {
     "name": "stdout",
     "output_type": "stream",
     "text": [
      "884\n",
      "0.36483697895171274\n",
      "0.31203671020120016\n",
      "789\n",
      "0.3256293850598432\n",
      "0.3256293850598432\n"
     ]
    },
    {
     "name": "stderr",
     "output_type": "stream",
     "text": [
      " 67%|██████▋   | 1005/1500 [12:18:03<6:03:40, 44.08s/it]"
     ]
    },
    {
     "name": "stdout",
     "output_type": "stream",
     "text": [
      "870\n",
      "0.35905901774659515\n",
      "0.30709495234733497\n",
      "786\n",
      "0.3243912505158894\n",
      "0.3243912505158894\n"
     ]
    },
    {
     "name": "stderr",
     "output_type": "stream",
     "text": [
      " 67%|██████▋   | 1006/1500 [12:18:47<6:02:42, 44.05s/it]"
     ]
    },
    {
     "name": "stdout",
     "output_type": "stream",
     "text": [
      "863\n",
      "0.35617003714403633\n",
      "0.3046240734204024\n",
      "783\n",
      "0.32315311597193563\n",
      "0.32315311597193563\n"
     ]
    },
    {
     "name": "stderr",
     "output_type": "stream",
     "text": [
      " 67%|██████▋   | 1007/1500 [12:19:34<6:10:06, 45.04s/it]"
     ]
    },
    {
     "name": "stdout",
     "output_type": "stream",
     "text": [
      "865\n",
      "0.35699546017333883\n",
      "0.30533003882809745\n",
      "776\n",
      "0.3202641353693768\n",
      "0.3202641353693768\n"
     ]
    },
    {
     "name": "stderr",
     "output_type": "stream",
     "text": [
      " 67%|██████▋   | 1008/1500 [12:20:20<6:11:00, 45.24s/it]"
     ]
    },
    {
     "name": "stdout",
     "output_type": "stream",
     "text": [
      "869\n",
      "0.3586463062319439\n",
      "0.3067419696434875\n",
      "789\n",
      "0.3256293850598432\n",
      "0.3256293850598432\n"
     ]
    },
    {
     "name": "stderr",
     "output_type": "stream",
     "text": [
      " 67%|██████▋   | 1009/1500 [12:21:05<6:11:03, 45.34s/it]"
     ]
    },
    {
     "name": "stdout",
     "output_type": "stream",
     "text": [
      "876\n",
      "0.3615352868345027\n",
      "0.30921284857042003\n",
      "794\n",
      "0.32769294263309945\n",
      "0.32769294263309945\n"
     ]
    },
    {
     "name": "stderr",
     "output_type": "stream",
     "text": [
      " 67%|██████▋   | 1010/1500 [12:21:51<6:10:56, 45.42s/it]"
     ]
    },
    {
     "name": "stdout",
     "output_type": "stream",
     "text": [
      "869\n",
      "0.3586463062319439\n",
      "0.3067419696434875\n",
      "786\n",
      "0.3243912505158894\n",
      "0.3243912505158894\n"
     ]
    },
    {
     "name": "stderr",
     "output_type": "stream",
     "text": [
      " 67%|██████▋   | 1011/1500 [12:22:36<6:10:39, 45.48s/it]"
     ]
    },
    {
     "name": "stdout",
     "output_type": "stream",
     "text": [
      "880\n",
      "0.3631861328931077\n",
      "0.31062477938581007\n",
      "775\n",
      "0.31985142385472554\n",
      "0.31985142385472554\n"
     ]
    },
    {
     "name": "stderr",
     "output_type": "stream",
     "text": [
      " 67%|██████▋   | 1012/1500 [12:23:22<6:10:34, 45.56s/it]"
     ]
    },
    {
     "name": "stdout",
     "output_type": "stream",
     "text": [
      "864\n",
      "0.35658274865868755\n",
      "0.3049770561242499\n",
      "773\n",
      "0.31902600082542304\n",
      "0.31902600082542304\n"
     ]
    },
    {
     "name": "stderr",
     "output_type": "stream",
     "text": [
      " 68%|██████▊   | 1013/1500 [12:24:08<6:09:46, 45.56s/it]"
     ]
    },
    {
     "name": "stdout",
     "output_type": "stream",
     "text": [
      "869\n",
      "0.3586463062319439\n",
      "0.3067419696434875\n",
      "791\n",
      "0.3264548080891457\n",
      "0.3264548080891457\n"
     ]
    },
    {
     "name": "stderr",
     "output_type": "stream",
     "text": [
      " 68%|██████▊   | 1014/1500 [12:24:53<6:09:09, 45.57s/it]"
     ]
    },
    {
     "name": "stdout",
     "output_type": "stream",
     "text": [
      "881\n",
      "0.36359884440775897\n",
      "0.3109777620896576\n",
      "798\n",
      "0.3293437886917045\n",
      "0.3293437886917045\n"
     ]
    },
    {
     "name": "stderr",
     "output_type": "stream",
     "text": [
      " 68%|██████▊   | 1015/1500 [12:25:39<6:08:25, 45.58s/it]"
     ]
    },
    {
     "name": "stdout",
     "output_type": "stream",
     "text": [
      "878\n",
      "0.3623607098638052\n",
      "0.30991881397811505\n",
      "792\n",
      "0.32686751960379695\n",
      "0.32686751960379695\n"
     ]
    },
    {
     "name": "stderr",
     "output_type": "stream",
     "text": [
      " 68%|██████▊   | 1016/1500 [12:26:24<6:07:39, 45.58s/it]"
     ]
    },
    {
     "name": "stdout",
     "output_type": "stream",
     "text": [
      "869\n",
      "0.3586463062319439\n",
      "0.3067419696434875\n",
      "778\n",
      "0.3210895583986793\n",
      "0.3210895583986793\n"
     ]
    },
    {
     "name": "stderr",
     "output_type": "stream",
     "text": [
      " 68%|██████▊   | 1017/1500 [12:27:11<6:09:38, 45.92s/it]"
     ]
    },
    {
     "name": "stdout",
     "output_type": "stream",
     "text": [
      "880\n",
      "0.3631861328931077\n",
      "0.31062477938581007\n",
      "771\n",
      "0.3182005777961205\n",
      "0.3182005777961205\n"
     ]
    },
    {
     "name": "stderr",
     "output_type": "stream",
     "text": [
      " 68%|██████▊   | 1018/1500 [12:27:57<6:09:06, 45.95s/it]"
     ]
    },
    {
     "name": "stdout",
     "output_type": "stream",
     "text": [
      "874\n",
      "0.36070986380520015\n",
      "0.308506883162725\n",
      "782\n",
      "0.32274040445728436\n",
      "0.32274040445728436\n"
     ]
    },
    {
     "name": "stderr",
     "output_type": "stream",
     "text": [
      " 68%|██████▊   | 1019/1500 [12:28:43<6:08:00, 45.91s/it]"
     ]
    },
    {
     "name": "stdout",
     "output_type": "stream",
     "text": [
      "888\n",
      "0.3664878250103178\n",
      "0.3134486410165902\n",
      "790\n",
      "0.32604209657449446\n",
      "0.32604209657449446\n"
     ]
    },
    {
     "name": "stderr",
     "output_type": "stream",
     "text": [
      " 68%|██████▊   | 1020/1500 [12:29:29<6:06:54, 45.86s/it]"
     ]
    },
    {
     "name": "stdout",
     "output_type": "stream",
     "text": [
      "874\n",
      "0.36070986380520015\n",
      "0.308506883162725\n",
      "790\n",
      "0.32604209657449446\n",
      "0.32604209657449446\n"
     ]
    },
    {
     "name": "stderr",
     "output_type": "stream",
     "text": [
      " 68%|██████▊   | 1021/1500 [12:30:15<6:06:31, 45.91s/it]"
     ]
    },
    {
     "name": "stdout",
     "output_type": "stream",
     "text": [
      "868\n",
      "0.3582335947172926\n",
      "0.30638898693963995\n",
      "790\n",
      "0.32604209657449446\n",
      "0.32604209657449446\n"
     ]
    },
    {
     "name": "stderr",
     "output_type": "stream",
     "text": [
      " 68%|██████▊   | 1022/1500 [12:31:01<6:05:17, 45.85s/it]"
     ]
    },
    {
     "name": "stdout",
     "output_type": "stream",
     "text": [
      "882\n",
      "0.36401155592241025\n",
      "0.31133074479350514\n",
      "782\n",
      "0.32274040445728436\n",
      "0.32274040445728436\n"
     ]
    },
    {
     "name": "stderr",
     "output_type": "stream",
     "text": [
      " 68%|██████▊   | 1023/1500 [12:31:45<6:02:08, 45.55s/it]"
     ]
    },
    {
     "name": "stdout",
     "output_type": "stream",
     "text": [
      "864\n",
      "0.35658274865868755\n",
      "0.3049770561242499\n",
      "778\n",
      "0.3210895583986793\n",
      "0.3210895583986793\n"
     ]
    },
    {
     "name": "stderr",
     "output_type": "stream",
     "text": [
      " 68%|██████▊   | 1024/1500 [12:32:30<5:58:44, 45.22s/it]"
     ]
    },
    {
     "name": "stdout",
     "output_type": "stream",
     "text": [
      "877\n",
      "0.3619479983491539\n",
      "0.30956583127426757\n",
      "789\n",
      "0.3256293850598432\n",
      "0.3256293850598432\n"
     ]
    },
    {
     "name": "stderr",
     "output_type": "stream",
     "text": [
      " 68%|██████▊   | 1025/1500 [12:33:14<5:55:30, 44.91s/it]"
     ]
    },
    {
     "name": "stdout",
     "output_type": "stream",
     "text": [
      "885\n",
      "0.365249690466364\n",
      "0.31238969290504764\n",
      "782\n",
      "0.32274040445728436\n",
      "0.32274040445728436\n"
     ]
    },
    {
     "name": "stderr",
     "output_type": "stream",
     "text": [
      " 68%|██████▊   | 1026/1500 [12:33:58<5:52:59, 44.68s/it]"
     ]
    },
    {
     "name": "stdout",
     "output_type": "stream",
     "text": [
      "874\n",
      "0.36070986380520015\n",
      "0.308506883162725\n",
      "777\n",
      "0.3206768468840281\n",
      "0.3206768468840281\n"
     ]
    },
    {
     "name": "stderr",
     "output_type": "stream",
     "text": [
      " 68%|██████▊   | 1027/1500 [12:34:42<5:50:55, 44.51s/it]"
     ]
    },
    {
     "name": "stdout",
     "output_type": "stream",
     "text": [
      "874\n",
      "0.36070986380520015\n",
      "0.308506883162725\n",
      "784\n",
      "0.32356582748658685\n",
      "0.32356582748658685\n"
     ]
    },
    {
     "name": "stderr",
     "output_type": "stream",
     "text": [
      " 69%|██████▊   | 1028/1500 [12:35:26<5:49:26, 44.42s/it]"
     ]
    },
    {
     "name": "stdout",
     "output_type": "stream",
     "text": [
      "878\n",
      "0.3623607098638052\n",
      "0.30991881397811505\n",
      "783\n",
      "0.32315311597193563\n",
      "0.32315311597193563\n"
     ]
    },
    {
     "name": "stderr",
     "output_type": "stream",
     "text": [
      " 69%|██████▊   | 1029/1500 [12:36:11<5:47:54, 44.32s/it]"
     ]
    },
    {
     "name": "stdout",
     "output_type": "stream",
     "text": [
      "882\n",
      "0.36401155592241025\n",
      "0.31133074479350514\n",
      "781\n",
      "0.3223276929426331\n",
      "0.3223276929426331\n"
     ]
    },
    {
     "name": "stderr",
     "output_type": "stream",
     "text": [
      " 69%|██████▊   | 1030/1500 [12:36:55<5:46:22, 44.22s/it]"
     ]
    },
    {
     "name": "stdout",
     "output_type": "stream",
     "text": [
      "879\n",
      "0.3627734213784565\n",
      "0.3102717966819626\n",
      "780\n",
      "0.32191498142798186\n",
      "0.32191498142798186\n"
     ]
    },
    {
     "name": "stderr",
     "output_type": "stream",
     "text": [
      " 69%|██████▊   | 1031/1500 [12:37:39<5:45:41, 44.23s/it]"
     ]
    },
    {
     "name": "stdout",
     "output_type": "stream",
     "text": [
      "876\n",
      "0.3615352868345027\n",
      "0.30921284857042003\n",
      "784\n",
      "0.32356582748658685\n",
      "0.32356582748658685\n"
     ]
    },
    {
     "name": "stderr",
     "output_type": "stream",
     "text": [
      " 69%|██████▉   | 1032/1500 [12:38:23<5:44:52, 44.22s/it]"
     ]
    },
    {
     "name": "stdout",
     "output_type": "stream",
     "text": [
      "881\n",
      "0.36359884440775897\n",
      "0.3109777620896576\n",
      "786\n",
      "0.3243912505158894\n",
      "0.3243912505158894\n"
     ]
    },
    {
     "name": "stderr",
     "output_type": "stream",
     "text": [
      " 69%|██████▉   | 1033/1500 [12:39:07<5:44:13, 44.23s/it]"
     ]
    },
    {
     "name": "stdout",
     "output_type": "stream",
     "text": [
      "878\n",
      "0.3623607098638052\n",
      "0.30991881397811505\n",
      "787\n",
      "0.3248039620305406\n",
      "0.3248039620305406\n"
     ]
    },
    {
     "name": "stderr",
     "output_type": "stream",
     "text": [
      " 69%|██████▉   | 1034/1500 [12:39:51<5:43:26, 44.22s/it]"
     ]
    },
    {
     "name": "stdout",
     "output_type": "stream",
     "text": [
      "875\n",
      "0.3611225753198514\n",
      "0.30885986586657255\n",
      "782\n",
      "0.32274040445728436\n",
      "0.32274040445728436\n"
     ]
    },
    {
     "name": "stderr",
     "output_type": "stream",
     "text": [
      " 69%|██████▉   | 1035/1500 [12:40:36<5:42:27, 44.19s/it]"
     ]
    },
    {
     "name": "stdout",
     "output_type": "stream",
     "text": [
      "875\n",
      "0.3611225753198514\n",
      "0.30885986586657255\n",
      "791\n",
      "0.3264548080891457\n",
      "0.3264548080891457\n"
     ]
    },
    {
     "name": "stderr",
     "output_type": "stream",
     "text": [
      " 69%|██████▉   | 1036/1500 [12:41:20<5:41:30, 44.16s/it]"
     ]
    },
    {
     "name": "stdout",
     "output_type": "stream",
     "text": [
      "880\n",
      "0.3631861328931077\n",
      "0.31062477938581007\n",
      "787\n",
      "0.3248039620305406\n",
      "0.3248039620305406\n"
     ]
    },
    {
     "name": "stderr",
     "output_type": "stream",
     "text": [
      " 69%|██████▉   | 1037/1500 [12:42:04<5:40:42, 44.15s/it]"
     ]
    },
    {
     "name": "stdout",
     "output_type": "stream",
     "text": [
      "888\n",
      "0.3664878250103178\n",
      "0.3134486410165902\n",
      "788\n",
      "0.3252166735451919\n",
      "0.3252166735451919\n"
     ]
    },
    {
     "name": "stderr",
     "output_type": "stream",
     "text": [
      " 69%|██████▉   | 1038/1500 [12:42:48<5:40:22, 44.20s/it]"
     ]
    },
    {
     "name": "stdout",
     "output_type": "stream",
     "text": [
      "884\n",
      "0.36483697895171274\n",
      "0.31203671020120016\n",
      "781\n",
      "0.3223276929426331\n",
      "0.3223276929426331\n"
     ]
    },
    {
     "name": "stderr",
     "output_type": "stream",
     "text": [
      " 69%|██████▉   | 1039/1500 [12:43:32<5:39:51, 44.23s/it]"
     ]
    },
    {
     "name": "stdout",
     "output_type": "stream",
     "text": [
      "878\n",
      "0.3623607098638052\n",
      "0.30991881397811505\n",
      "779\n",
      "0.3215022699133306\n",
      "0.3215022699133306\n"
     ]
    },
    {
     "name": "stderr",
     "output_type": "stream",
     "text": [
      " 69%|██████▉   | 1040/1500 [12:44:16<5:38:40, 44.17s/it]"
     ]
    },
    {
     "name": "stdout",
     "output_type": "stream",
     "text": [
      "884\n",
      "0.36483697895171274\n",
      "0.31203671020120016\n",
      "782\n",
      "0.32274040445728436\n",
      "0.32274040445728436\n"
     ]
    },
    {
     "name": "stderr",
     "output_type": "stream",
     "text": [
      " 69%|██████▉   | 1041/1500 [12:45:00<5:37:37, 44.13s/it]"
     ]
    },
    {
     "name": "stdout",
     "output_type": "stream",
     "text": [
      "872\n",
      "0.35988444077589765\n",
      "0.30780091775503\n",
      "785\n",
      "0.32397853900123813\n",
      "0.32397853900123813\n"
     ]
    },
    {
     "name": "stderr",
     "output_type": "stream",
     "text": [
      " 69%|██████▉   | 1042/1500 [12:45:45<5:36:55, 44.14s/it]"
     ]
    },
    {
     "name": "stdout",
     "output_type": "stream",
     "text": [
      "874\n",
      "0.36070986380520015\n",
      "0.308506883162725\n",
      "784\n",
      "0.32356582748658685\n",
      "0.32356582748658685\n"
     ]
    },
    {
     "name": "stderr",
     "output_type": "stream",
     "text": [
      " 70%|██████▉   | 1043/1500 [12:46:29<5:36:31, 44.18s/it]"
     ]
    },
    {
     "name": "stdout",
     "output_type": "stream",
     "text": [
      "898\n",
      "0.3706149401568304\n",
      "0.3169784680550653\n",
      "787\n",
      "0.3248039620305406\n",
      "0.3248039620305406\n"
     ]
    },
    {
     "name": "stderr",
     "output_type": "stream",
     "text": [
      " 70%|██████▉   | 1044/1500 [12:47:13<5:35:50, 44.19s/it]"
     ]
    },
    {
     "name": "stdout",
     "output_type": "stream",
     "text": [
      "879\n",
      "0.3627734213784565\n",
      "0.3102717966819626\n",
      "793\n",
      "0.32728023111844823\n",
      "0.32728023111844823\n"
     ]
    },
    {
     "name": "stderr",
     "output_type": "stream",
     "text": [
      " 70%|██████▉   | 1045/1500 [12:47:57<5:34:50, 44.16s/it]"
     ]
    },
    {
     "name": "stdout",
     "output_type": "stream",
     "text": [
      "886\n",
      "0.3656624019810153\n",
      "0.3127426756088952\n",
      "781\n",
      "0.3223276929426331\n",
      "0.3223276929426331\n"
     ]
    },
    {
     "name": "stderr",
     "output_type": "stream",
     "text": [
      " 70%|██████▉   | 1046/1500 [12:48:41<5:34:13, 44.17s/it]"
     ]
    },
    {
     "name": "stdout",
     "output_type": "stream",
     "text": [
      "876\n",
      "0.3615352868345027\n",
      "0.30921284857042003\n",
      "782\n",
      "0.32274040445728436\n",
      "0.32274040445728436\n"
     ]
    },
    {
     "name": "stderr",
     "output_type": "stream",
     "text": [
      " 70%|██████▉   | 1047/1500 [12:49:26<5:33:27, 44.17s/it]"
     ]
    },
    {
     "name": "stdout",
     "output_type": "stream",
     "text": [
      "871\n",
      "0.3594717292612464\n",
      "0.3074479350511825\n",
      "791\n",
      "0.3264548080891457\n",
      "0.3264548080891457\n"
     ]
    },
    {
     "name": "stderr",
     "output_type": "stream",
     "text": [
      " 70%|██████▉   | 1048/1500 [12:50:10<5:32:25, 44.13s/it]"
     ]
    },
    {
     "name": "stdout",
     "output_type": "stream",
     "text": [
      "891\n",
      "0.36772595955427156\n",
      "0.3145075891281327\n",
      "777\n",
      "0.3206768468840281\n",
      "0.3206768468840281\n"
     ]
    },
    {
     "name": "stderr",
     "output_type": "stream",
     "text": [
      " 70%|██████▉   | 1049/1500 [12:50:54<5:31:41, 44.13s/it]"
     ]
    },
    {
     "name": "stdout",
     "output_type": "stream",
     "text": [
      "887\n",
      "0.3660751134956665\n",
      "0.31309565831274266\n",
      "781\n",
      "0.3223276929426331\n",
      "0.3223276929426331\n"
     ]
    },
    {
     "name": "stderr",
     "output_type": "stream",
     "text": [
      " 70%|███████   | 1050/1500 [12:51:38<5:30:39, 44.09s/it]"
     ]
    },
    {
     "name": "stdout",
     "output_type": "stream",
     "text": [
      "871\n",
      "0.3594717292612464\n",
      "0.3074479350511825\n",
      "784\n",
      "0.32356582748658685\n",
      "0.32356582748658685\n"
     ]
    },
    {
     "name": "stderr",
     "output_type": "stream",
     "text": [
      " 70%|███████   | 1051/1500 [12:52:22<5:29:52, 44.08s/it]"
     ]
    },
    {
     "name": "stdout",
     "output_type": "stream",
     "text": [
      "865\n",
      "0.35699546017333883\n",
      "0.30533003882809745\n",
      "782\n",
      "0.32274040445728436\n",
      "0.32274040445728436\n"
     ]
    },
    {
     "name": "stderr",
     "output_type": "stream",
     "text": [
      " 70%|███████   | 1052/1500 [12:53:06<5:29:24, 44.12s/it]"
     ]
    },
    {
     "name": "stdout",
     "output_type": "stream",
     "text": [
      "868\n",
      "0.3582335947172926\n",
      "0.30638898693963995\n",
      "791\n",
      "0.3264548080891457\n",
      "0.3264548080891457\n"
     ]
    },
    {
     "name": "stderr",
     "output_type": "stream",
     "text": [
      " 70%|███████   | 1053/1500 [12:53:50<5:28:21, 44.08s/it]"
     ]
    },
    {
     "name": "stdout",
     "output_type": "stream",
     "text": [
      "877\n",
      "0.3619479983491539\n",
      "0.30956583127426757\n",
      "787\n",
      "0.3248039620305406\n",
      "0.3248039620305406\n"
     ]
    },
    {
     "name": "stderr",
     "output_type": "stream",
     "text": [
      " 70%|███████   | 1054/1500 [12:54:34<5:27:26, 44.05s/it]"
     ]
    },
    {
     "name": "stdout",
     "output_type": "stream",
     "text": [
      "885\n",
      "0.365249690466364\n",
      "0.31238969290504764\n",
      "792\n",
      "0.32686751960379695\n",
      "0.32686751960379695\n"
     ]
    },
    {
     "name": "stderr",
     "output_type": "stream",
     "text": [
      " 70%|███████   | 1055/1500 [12:55:18<5:26:55, 44.08s/it]"
     ]
    },
    {
     "name": "stdout",
     "output_type": "stream",
     "text": [
      "874\n",
      "0.36070986380520015\n",
      "0.308506883162725\n",
      "786\n",
      "0.3243912505158894\n",
      "0.3243912505158894\n"
     ]
    },
    {
     "name": "stderr",
     "output_type": "stream",
     "text": [
      " 70%|███████   | 1056/1500 [12:56:02<5:25:58, 44.05s/it]"
     ]
    },
    {
     "name": "stdout",
     "output_type": "stream",
     "text": [
      "873\n",
      "0.3602971522905489\n",
      "0.3081539004588775\n",
      "784\n",
      "0.32356582748658685\n",
      "0.32356582748658685\n"
     ]
    },
    {
     "name": "stderr",
     "output_type": "stream",
     "text": [
      " 70%|███████   | 1057/1500 [12:56:47<5:27:26, 44.35s/it]"
     ]
    },
    {
     "name": "stdout",
     "output_type": "stream",
     "text": [
      "873\n",
      "0.3602971522905489\n",
      "0.3081539004588775\n",
      "794\n",
      "0.32769294263309945\n",
      "0.32769294263309945\n"
     ]
    },
    {
     "name": "stderr",
     "output_type": "stream",
     "text": [
      " 71%|███████   | 1058/1500 [12:57:31<5:25:55, 44.24s/it]"
     ]
    },
    {
     "name": "stdout",
     "output_type": "stream",
     "text": [
      "884\n",
      "0.36483697895171274\n",
      "0.31203671020120016\n",
      "794\n",
      "0.32769294263309945\n",
      "0.32769294263309945\n"
     ]
    },
    {
     "name": "stderr",
     "output_type": "stream",
     "text": [
      " 71%|███████   | 1059/1500 [12:58:15<5:24:53, 44.20s/it]"
     ]
    },
    {
     "name": "stdout",
     "output_type": "stream",
     "text": [
      "890\n",
      "0.3673132480396203\n",
      "0.3141546064242852\n",
      "785\n",
      "0.32397853900123813\n",
      "0.32397853900123813\n"
     ]
    },
    {
     "name": "stderr",
     "output_type": "stream",
     "text": [
      " 71%|███████   | 1060/1500 [12:58:59<5:23:58, 44.18s/it]"
     ]
    },
    {
     "name": "stdout",
     "output_type": "stream",
     "text": [
      "882\n",
      "0.36401155592241025\n",
      "0.31133074479350514\n",
      "782\n",
      "0.32274040445728436\n",
      "0.32274040445728436\n"
     ]
    },
    {
     "name": "stderr",
     "output_type": "stream",
     "text": [
      " 71%|███████   | 1061/1500 [12:59:43<5:22:59, 44.14s/it]"
     ]
    },
    {
     "name": "stdout",
     "output_type": "stream",
     "text": [
      "869\n",
      "0.3586463062319439\n",
      "0.3067419696434875\n",
      "786\n",
      "0.3243912505158894\n",
      "0.3243912505158894\n"
     ]
    },
    {
     "name": "stderr",
     "output_type": "stream",
     "text": [
      " 71%|███████   | 1062/1500 [13:00:27<5:22:04, 44.12s/it]"
     ]
    },
    {
     "name": "stdout",
     "output_type": "stream",
     "text": [
      "859\n",
      "0.3545191910854313\n",
      "0.30321214260501234\n",
      "782\n",
      "0.32274040445728436\n",
      "0.32274040445728436\n"
     ]
    },
    {
     "name": "stderr",
     "output_type": "stream",
     "text": [
      " 71%|███████   | 1063/1500 [13:01:11<5:21:06, 44.09s/it]"
     ]
    },
    {
     "name": "stdout",
     "output_type": "stream",
     "text": [
      "880\n",
      "0.3631861328931077\n",
      "0.31062477938581007\n",
      "786\n",
      "0.3243912505158894\n",
      "0.3243912505158894\n"
     ]
    },
    {
     "name": "stderr",
     "output_type": "stream",
     "text": [
      " 71%|███████   | 1064/1500 [13:01:56<5:20:36, 44.12s/it]"
     ]
    },
    {
     "name": "stdout",
     "output_type": "stream",
     "text": [
      "896\n",
      "0.36978951712752783\n",
      "0.3162725026473703\n",
      "789\n",
      "0.3256293850598432\n",
      "0.3256293850598432\n"
     ]
    },
    {
     "name": "stderr",
     "output_type": "stream",
     "text": [
      " 71%|███████   | 1065/1500 [13:02:40<5:20:01, 44.14s/it]"
     ]
    },
    {
     "name": "stdout",
     "output_type": "stream",
     "text": [
      "888\n",
      "0.3664878250103178\n",
      "0.3134486410165902\n",
      "779\n",
      "0.3215022699133306\n",
      "0.3215022699133306\n"
     ]
    },
    {
     "name": "stderr",
     "output_type": "stream",
     "text": [
      " 71%|███████   | 1066/1500 [13:03:24<5:19:02, 44.11s/it]"
     ]
    },
    {
     "name": "stdout",
     "output_type": "stream",
     "text": [
      "875\n",
      "0.3611225753198514\n",
      "0.30885986586657255\n",
      "780\n",
      "0.32191498142798186\n",
      "0.32191498142798186\n"
     ]
    },
    {
     "name": "stderr",
     "output_type": "stream",
     "text": [
      " 71%|███████   | 1067/1500 [13:04:08<5:18:27, 44.13s/it]"
     ]
    },
    {
     "name": "stdout",
     "output_type": "stream",
     "text": [
      "868\n",
      "0.3582335947172926\n",
      "0.30638898693963995\n",
      "783\n",
      "0.32315311597193563\n",
      "0.32315311597193563\n"
     ]
    },
    {
     "name": "stderr",
     "output_type": "stream",
     "text": [
      " 71%|███████   | 1068/1500 [13:04:52<5:17:26, 44.09s/it]"
     ]
    },
    {
     "name": "stdout",
     "output_type": "stream",
     "text": [
      "869\n",
      "0.3586463062319439\n",
      "0.3067419696434875\n",
      "784\n",
      "0.32356582748658685\n",
      "0.32356582748658685\n"
     ]
    },
    {
     "name": "stderr",
     "output_type": "stream",
     "text": [
      " 71%|███████▏  | 1069/1500 [13:05:36<5:16:49, 44.11s/it]"
     ]
    },
    {
     "name": "stdout",
     "output_type": "stream",
     "text": [
      "883\n",
      "0.36442426743706147\n",
      "0.3116837274973526\n",
      "784\n",
      "0.32356582748658685\n",
      "0.32356582748658685\n"
     ]
    },
    {
     "name": "stderr",
     "output_type": "stream",
     "text": [
      " 71%|███████▏  | 1070/1500 [13:06:20<5:15:57, 44.09s/it]"
     ]
    },
    {
     "name": "stdout",
     "output_type": "stream",
     "text": [
      "884\n",
      "0.36483697895171274\n",
      "0.31203671020120016\n",
      "775\n",
      "0.31985142385472554\n",
      "0.31985142385472554\n"
     ]
    },
    {
     "name": "stderr",
     "output_type": "stream",
     "text": [
      " 71%|███████▏  | 1071/1500 [13:07:04<5:15:14, 44.09s/it]"
     ]
    },
    {
     "name": "stdout",
     "output_type": "stream",
     "text": [
      "871\n",
      "0.3594717292612464\n",
      "0.3074479350511825\n",
      "775\n",
      "0.31985142385472554\n",
      "0.31985142385472554\n"
     ]
    },
    {
     "name": "stderr",
     "output_type": "stream",
     "text": [
      " 71%|███████▏  | 1072/1500 [13:07:48<5:14:23, 44.07s/it]"
     ]
    },
    {
     "name": "stdout",
     "output_type": "stream",
     "text": [
      "858\n",
      "0.35410647957078\n",
      "0.30285915990116485\n",
      "771\n",
      "0.3182005777961205\n",
      "0.3182005777961205\n"
     ]
    },
    {
     "name": "stderr",
     "output_type": "stream",
     "text": [
      " 72%|███████▏  | 1073/1500 [13:08:33<5:13:47, 44.09s/it]"
     ]
    },
    {
     "name": "stdout",
     "output_type": "stream",
     "text": [
      "872\n",
      "0.35988444077589765\n",
      "0.30780091775503\n",
      "796\n",
      "0.328518365662402\n",
      "0.328518365662402\n"
     ]
    },
    {
     "name": "stderr",
     "output_type": "stream",
     "text": [
      " 72%|███████▏  | 1074/1500 [13:09:17<5:13:08, 44.10s/it]"
     ]
    },
    {
     "name": "stdout",
     "output_type": "stream",
     "text": [
      "883\n",
      "0.36442426743706147\n",
      "0.3116837274973526\n",
      "788\n",
      "0.3252166735451919\n",
      "0.3252166735451919\n"
     ]
    },
    {
     "name": "stderr",
     "output_type": "stream",
     "text": [
      " 72%|███████▏  | 1075/1500 [13:10:01<5:12:43, 44.15s/it]"
     ]
    },
    {
     "name": "stdout",
     "output_type": "stream",
     "text": [
      "896\n",
      "0.36978951712752783\n",
      "0.3162725026473703\n",
      "787\n",
      "0.3248039620305406\n",
      "0.3248039620305406\n"
     ]
    },
    {
     "name": "stderr",
     "output_type": "stream",
     "text": [
      " 72%|███████▏  | 1076/1500 [13:10:45<5:11:49, 44.13s/it]"
     ]
    },
    {
     "name": "stdout",
     "output_type": "stream",
     "text": [
      "887\n",
      "0.3660751134956665\n",
      "0.31309565831274266\n",
      "775\n",
      "0.31985142385472554\n",
      "0.31985142385472554\n"
     ]
    },
    {
     "name": "stderr",
     "output_type": "stream",
     "text": [
      " 72%|███████▏  | 1077/1500 [13:11:29<5:11:12, 44.14s/it]"
     ]
    },
    {
     "name": "stdout",
     "output_type": "stream",
     "text": [
      "862\n",
      "0.35575732562938506\n",
      "0.3042710907165549\n",
      "780\n",
      "0.32191498142798186\n",
      "0.32191498142798186\n"
     ]
    },
    {
     "name": "stderr",
     "output_type": "stream",
     "text": [
      " 72%|███████▏  | 1078/1500 [13:12:13<5:10:38, 44.17s/it]"
     ]
    },
    {
     "name": "stdout",
     "output_type": "stream",
     "text": [
      "866\n",
      "0.3574081716879901\n",
      "0.30568302153194493\n",
      "797\n",
      "0.3289310771770532\n",
      "0.3289310771770532\n"
     ]
    },
    {
     "name": "stderr",
     "output_type": "stream",
     "text": [
      " 72%|███████▏  | 1079/1500 [13:12:58<5:09:47, 44.15s/it]"
     ]
    },
    {
     "name": "stdout",
     "output_type": "stream",
     "text": [
      "884\n",
      "0.36483697895171274\n",
      "0.31203671020120016\n",
      "798\n",
      "0.3293437886917045\n",
      "0.3293437886917045\n"
     ]
    },
    {
     "name": "stderr",
     "output_type": "stream",
     "text": [
      " 72%|███████▏  | 1080/1500 [13:13:42<5:08:54, 44.13s/it]"
     ]
    },
    {
     "name": "stdout",
     "output_type": "stream",
     "text": [
      "889\n",
      "0.36690053652496907\n",
      "0.3138016237204377\n",
      "789\n",
      "0.3256293850598432\n",
      "0.3256293850598432\n"
     ]
    },
    {
     "name": "stderr",
     "output_type": "stream",
     "text": [
      " 72%|███████▏  | 1081/1500 [13:14:26<5:08:08, 44.13s/it]"
     ]
    },
    {
     "name": "stdout",
     "output_type": "stream",
     "text": [
      "895\n",
      "0.3693768056128766\n",
      "0.31591951994352274\n",
      "789\n",
      "0.3256293850598432\n",
      "0.3256293850598432\n"
     ]
    },
    {
     "name": "stderr",
     "output_type": "stream",
     "text": [
      " 72%|███████▏  | 1082/1500 [13:15:10<5:07:19, 44.11s/it]"
     ]
    },
    {
     "name": "stdout",
     "output_type": "stream",
     "text": [
      "867\n",
      "0.3578208832026413\n",
      "0.30603600423579247\n",
      "780\n",
      "0.32191498142798186\n",
      "0.32191498142798186\n"
     ]
    },
    {
     "name": "stderr",
     "output_type": "stream",
     "text": [
      " 72%|███████▏  | 1083/1500 [13:15:54<5:06:34, 44.11s/it]"
     ]
    },
    {
     "name": "stdout",
     "output_type": "stream",
     "text": [
      "869\n",
      "0.3586463062319439\n",
      "0.3067419696434875\n",
      "789\n",
      "0.3256293850598432\n",
      "0.3256293850598432\n"
     ]
    },
    {
     "name": "stderr",
     "output_type": "stream",
     "text": [
      " 72%|███████▏  | 1084/1500 [13:16:38<5:06:02, 44.14s/it]"
     ]
    },
    {
     "name": "stdout",
     "output_type": "stream",
     "text": [
      "889\n",
      "0.36690053652496907\n",
      "0.3138016237204377\n",
      "787\n",
      "0.3248039620305406\n",
      "0.3248039620305406\n"
     ]
    },
    {
     "name": "stderr",
     "output_type": "stream",
     "text": [
      " 72%|███████▏  | 1085/1500 [13:17:22<5:05:16, 44.14s/it]"
     ]
    },
    {
     "name": "stdout",
     "output_type": "stream",
     "text": [
      "890\n",
      "0.3673132480396203\n",
      "0.3141546064242852\n",
      "799\n",
      "0.3297565002063558\n",
      "0.3297565002063558\n"
     ]
    },
    {
     "name": "stderr",
     "output_type": "stream",
     "text": [
      " 72%|███████▏  | 1086/1500 [13:18:06<5:04:40, 44.16s/it]"
     ]
    },
    {
     "name": "stdout",
     "output_type": "stream",
     "text": [
      "882\n",
      "0.36401155592241025\n",
      "0.31133074479350514\n",
      "776\n",
      "0.3202641353693768\n",
      "0.3202641353693768\n"
     ]
    },
    {
     "name": "stderr",
     "output_type": "stream",
     "text": [
      " 72%|███████▏  | 1087/1500 [13:18:51<5:04:09, 44.19s/it]"
     ]
    },
    {
     "name": "stdout",
     "output_type": "stream",
     "text": [
      "866\n",
      "0.3574081716879901\n",
      "0.30568302153194493\n",
      "782\n",
      "0.32274040445728436\n",
      "0.32274040445728436\n"
     ]
    },
    {
     "name": "stderr",
     "output_type": "stream",
     "text": [
      " 73%|███████▎  | 1088/1500 [13:19:36<5:05:37, 44.51s/it]"
     ]
    },
    {
     "name": "stdout",
     "output_type": "stream",
     "text": [
      "863\n",
      "0.35617003714403633\n",
      "0.3046240734204024\n",
      "788\n",
      "0.3252166735451919\n",
      "0.3252166735451919\n"
     ]
    },
    {
     "name": "stderr",
     "output_type": "stream",
     "text": [
      " 73%|███████▎  | 1089/1500 [13:20:20<5:04:28, 44.45s/it]"
     ]
    },
    {
     "name": "stdout",
     "output_type": "stream",
     "text": [
      "889\n",
      "0.36690053652496907\n",
      "0.3138016237204377\n",
      "786\n",
      "0.3243912505158894\n",
      "0.3243912505158894\n"
     ]
    },
    {
     "name": "stderr",
     "output_type": "stream",
     "text": [
      " 73%|███████▎  | 1090/1500 [13:21:04<5:03:01, 44.35s/it]"
     ]
    },
    {
     "name": "stdout",
     "output_type": "stream",
     "text": [
      "889\n",
      "0.36690053652496907\n",
      "0.3138016237204377\n",
      "791\n",
      "0.3264548080891457\n",
      "0.3264548080891457\n"
     ]
    },
    {
     "name": "stderr",
     "output_type": "stream",
     "text": [
      " 73%|███████▎  | 1091/1500 [13:21:49<5:02:01, 44.31s/it]"
     ]
    },
    {
     "name": "stdout",
     "output_type": "stream",
     "text": [
      "891\n",
      "0.36772595955427156\n",
      "0.3145075891281327\n",
      "782\n",
      "0.32274040445728436\n",
      "0.32274040445728436\n"
     ]
    },
    {
     "name": "stderr",
     "output_type": "stream",
     "text": [
      " 73%|███████▎  | 1092/1500 [13:22:33<5:00:55, 44.25s/it]"
     ]
    },
    {
     "name": "stdout",
     "output_type": "stream",
     "text": [
      "879\n",
      "0.3627734213784565\n",
      "0.3102717966819626\n",
      "778\n",
      "0.3210895583986793\n",
      "0.3210895583986793\n"
     ]
    },
    {
     "name": "stderr",
     "output_type": "stream",
     "text": [
      " 73%|███████▎  | 1093/1500 [13:23:17<4:59:52, 44.21s/it]"
     ]
    },
    {
     "name": "stdout",
     "output_type": "stream",
     "text": [
      "860\n",
      "0.35493190260008256\n",
      "0.3035651253088599\n",
      "790\n",
      "0.32604209657449446\n",
      "0.32604209657449446\n"
     ]
    },
    {
     "name": "stderr",
     "output_type": "stream",
     "text": [
      " 73%|███████▎  | 1094/1500 [13:24:01<4:59:11, 44.22s/it]"
     ]
    },
    {
     "name": "stdout",
     "output_type": "stream",
     "text": [
      "886\n",
      "0.3656624019810153\n",
      "0.3127426756088952\n",
      "792\n",
      "0.32686751960379695\n",
      "0.32686751960379695\n"
     ]
    },
    {
     "name": "stderr",
     "output_type": "stream",
     "text": [
      " 73%|███████▎  | 1095/1500 [13:24:45<4:58:07, 44.17s/it]"
     ]
    },
    {
     "name": "stdout",
     "output_type": "stream",
     "text": [
      "894\n",
      "0.36896409409822534\n",
      "0.31556653723967526\n",
      "793\n",
      "0.32728023111844823\n",
      "0.32728023111844823\n"
     ]
    },
    {
     "name": "stderr",
     "output_type": "stream",
     "text": [
      " 73%|███████▎  | 1096/1500 [13:25:29<4:57:20, 44.16s/it]"
     ]
    },
    {
     "name": "stdout",
     "output_type": "stream",
     "text": [
      "887\n",
      "0.3660751134956665\n",
      "0.31309565831274266\n",
      "781\n",
      "0.3223276929426331\n",
      "0.3223276929426331\n"
     ]
    },
    {
     "name": "stderr",
     "output_type": "stream",
     "text": [
      " 73%|███████▎  | 1097/1500 [13:26:13<4:56:22, 44.13s/it]"
     ]
    },
    {
     "name": "stdout",
     "output_type": "stream",
     "text": [
      "876\n",
      "0.3615352868345027\n",
      "0.30921284857042003\n",
      "776\n",
      "0.3202641353693768\n",
      "0.3202641353693768\n"
     ]
    },
    {
     "name": "stderr",
     "output_type": "stream",
     "text": [
      " 73%|███████▎  | 1098/1500 [13:26:57<4:55:42, 44.14s/it]"
     ]
    },
    {
     "name": "stdout",
     "output_type": "stream",
     "text": [
      "855\n",
      "0.35286834502682624\n",
      "0.3018002117896223\n",
      "780\n",
      "0.32191498142798186\n",
      "0.32191498142798186\n"
     ]
    },
    {
     "name": "stderr",
     "output_type": "stream",
     "text": [
      " 73%|███████▎  | 1099/1500 [13:27:42<4:55:05, 44.15s/it]"
     ]
    },
    {
     "name": "stdout",
     "output_type": "stream",
     "text": [
      "875\n",
      "0.3611225753198514\n",
      "0.30885986586657255\n",
      "784\n",
      "0.32356582748658685\n",
      "0.32356582748658685\n"
     ]
    },
    {
     "name": "stderr",
     "output_type": "stream",
     "text": [
      " 73%|███████▎  | 1100/1500 [13:28:26<4:54:26, 44.17s/it]"
     ]
    },
    {
     "name": "stdout",
     "output_type": "stream",
     "text": [
      "895\n",
      "0.3693768056128766\n",
      "0.31591951994352274\n",
      "798\n",
      "0.3293437886917045\n",
      "0.3293437886917045\n"
     ]
    },
    {
     "name": "stderr",
     "output_type": "stream",
     "text": [
      " 73%|███████▎  | 1101/1500 [13:29:10<4:53:20, 44.11s/it]"
     ]
    },
    {
     "name": "stdout",
     "output_type": "stream",
     "text": [
      "895\n",
      "0.3693768056128766\n",
      "0.31591951994352274\n",
      "791\n",
      "0.3264548080891457\n",
      "0.3264548080891457\n"
     ]
    },
    {
     "name": "stderr",
     "output_type": "stream",
     "text": [
      " 73%|███████▎  | 1102/1500 [13:29:54<4:52:18, 44.07s/it]"
     ]
    },
    {
     "name": "stdout",
     "output_type": "stream",
     "text": [
      "885\n",
      "0.365249690466364\n",
      "0.31238969290504764\n",
      "779\n",
      "0.3215022699133306\n",
      "0.3215022699133306\n"
     ]
    },
    {
     "name": "stderr",
     "output_type": "stream",
     "text": [
      " 74%|███████▎  | 1103/1500 [13:30:38<4:51:41, 44.08s/it]"
     ]
    },
    {
     "name": "stdout",
     "output_type": "stream",
     "text": [
      "860\n",
      "0.35493190260008256\n",
      "0.3035651253088599\n",
      "781\n",
      "0.3223276929426331\n",
      "0.3223276929426331\n"
     ]
    },
    {
     "name": "stderr",
     "output_type": "stream",
     "text": [
      " 74%|███████▎  | 1104/1500 [13:31:22<4:51:06, 44.11s/it]"
     ]
    },
    {
     "name": "stdout",
     "output_type": "stream",
     "text": [
      "867\n",
      "0.3578208832026413\n",
      "0.30603600423579247\n",
      "780\n",
      "0.32191498142798186\n",
      "0.32191498142798186\n"
     ]
    },
    {
     "name": "stderr",
     "output_type": "stream",
     "text": [
      " 74%|███████▎  | 1105/1500 [13:32:06<4:50:21, 44.11s/it]"
     ]
    },
    {
     "name": "stdout",
     "output_type": "stream",
     "text": [
      "898\n",
      "0.3706149401568304\n",
      "0.3169784680550653\n",
      "780\n",
      "0.32191498142798186\n",
      "0.32191498142798186\n"
     ]
    },
    {
     "name": "stderr",
     "output_type": "stream",
     "text": [
      " 74%|███████▎  | 1106/1500 [13:32:50<4:49:39, 44.11s/it]"
     ]
    },
    {
     "name": "stdout",
     "output_type": "stream",
     "text": [
      "902\n",
      "0.37226578621543543\n",
      "0.31839039887045534\n",
      "796\n",
      "0.328518365662402\n",
      "0.328518365662402\n"
     ]
    },
    {
     "name": "stderr",
     "output_type": "stream",
     "text": [
      " 74%|███████▍  | 1107/1500 [13:33:34<4:48:54, 44.11s/it]"
     ]
    },
    {
     "name": "stdout",
     "output_type": "stream",
     "text": [
      "890\n",
      "0.3673132480396203\n",
      "0.3141546064242852\n",
      "785\n",
      "0.32397853900123813\n",
      "0.32397853900123813\n"
     ]
    },
    {
     "name": "stderr",
     "output_type": "stream",
     "text": [
      " 74%|███████▍  | 1108/1500 [13:34:19<4:48:13, 44.12s/it]"
     ]
    },
    {
     "name": "stdout",
     "output_type": "stream",
     "text": [
      "865\n",
      "0.35699546017333883\n",
      "0.30533003882809745\n",
      "778\n",
      "0.3210895583986793\n",
      "0.3210895583986793\n"
     ]
    },
    {
     "name": "stderr",
     "output_type": "stream",
     "text": [
      " 74%|███████▍  | 1109/1500 [13:35:03<4:47:30, 44.12s/it]"
     ]
    },
    {
     "name": "stdout",
     "output_type": "stream",
     "text": [
      "870\n",
      "0.35905901774659515\n",
      "0.30709495234733497\n",
      "790\n",
      "0.32604209657449446\n",
      "0.32604209657449446\n"
     ]
    },
    {
     "name": "stderr",
     "output_type": "stream",
     "text": [
      " 74%|███████▍  | 1110/1500 [13:35:47<4:46:38, 44.10s/it]"
     ]
    },
    {
     "name": "stdout",
     "output_type": "stream",
     "text": [
      "899\n",
      "0.37102765167148166\n",
      "0.31733145075891284\n",
      "789\n",
      "0.3256293850598432\n",
      "0.3256293850598432\n"
     ]
    },
    {
     "name": "stderr",
     "output_type": "stream",
     "text": [
      " 74%|███████▍  | 1111/1500 [13:36:31<4:46:05, 44.13s/it]"
     ]
    },
    {
     "name": "stdout",
     "output_type": "stream",
     "text": [
      "902\n",
      "0.37226578621543543\n",
      "0.31839039887045534\n",
      "786\n",
      "0.3243912505158894\n",
      "0.3243912505158894\n"
     ]
    },
    {
     "name": "stderr",
     "output_type": "stream",
     "text": [
      " 74%|███████▍  | 1112/1500 [13:37:15<4:45:28, 44.15s/it]"
     ]
    },
    {
     "name": "stdout",
     "output_type": "stream",
     "text": [
      "893\n",
      "0.36855138258357406\n",
      "0.3152135545358277\n"
     ]
    },
    {
     "name": "stderr",
     "output_type": "stream",
     "text": [
      " 74%|███████▍  | 1112/1500 [13:37:55<4:45:23, 44.13s/it]\n"
     ]
    },
    {
     "name": "stdout",
     "output_type": "stream",
     "text": [
      "\n",
      "finished Early\n",
      "created path\n"
     ]
    },
    {
     "data": {
      "application/vnd.jupyter.widget-view+json": {
       "model_id": "7550074810df43cb909e3e059d0d399a",
       "version_major": 2,
       "version_minor": 0
      },
      "text/plain": [
       "VBox(children=(Label(value='0.613 MB of 0.613 MB uploaded (0.548 MB deduped)\\r'), FloatProgress(value=1.0, max…"
      ]
     },
     "metadata": {},
     "output_type": "display_data"
    },
    {
     "data": {
      "text/html": [
       "W&B sync reduced upload amount by 70.5%             "
      ],
      "text/plain": [
       "<IPython.core.display.HTML object>"
      ]
     },
     "metadata": {},
     "output_type": "display_data"
    },
    {
     "data": {
      "text/html": [
       "<style>\n",
       "    table.wandb td:nth-child(1) { padding: 0 10px; text-align: left ; width: auto;} td:nth-child(2) {text-align: left ; width: 100%}\n",
       "    .wandb-row { display: flex; flex-direction: row; flex-wrap: wrap; justify-content: flex-start; width: 100% }\n",
       "    .wandb-col { display: flex; flex-direction: column; flex-basis: 100%; flex: 1; padding: 10px; }\n",
       "    </style>\n",
       "<div class=\"wandb-row\"><div class=\"wandb-col\"><h3>Run history:</h3><br/><table class=\"wandb\"><tr><td>ROI < 30/ensemble</td><td>▇█▃▃▃▃▃▃▂▃▃▄▂▃▂▃▃▃▃▃▃▃▂▃▃▄▃▄▃▄▃▂▂▂▂▃▃▂▁▂</td></tr><tr><td>accuracy/ensemble</td><td>▁▇████▇▇▇█▇▇▇▇▇▇▇▇█▇▇▇▇▇▇█▇▇▇▇▇▇▇▇▇▇▇▇▇▇</td></tr><tr><td>epoch</td><td>▁▁▁▂▂▂▂▂▂▃▃▃▃▃▄▄▄▄▄▄▅▅▅▅▅▅▆▆▆▆▆▇▇▇▇▇▇███</td></tr><tr><td>loss_ensemble</td><td>█▄▃▃▂▂▂▃▂▂▂▁▂▁▂▂▃▂▁▂▁▂▂▃▂▁▂▁▂▁▂▂▃▂▁▂▁▂▂▂</td></tr><tr><td>loss_val/ensemble</td><td>█▃▁▁▁▁▂▂▂▂▂▂▂▂▂▂▂▂▂▂▂▂▂▂▂▂▂▂▂▂▂▂▂▂▂▂▂▂▂▂</td></tr><tr><td>val_ROI < 30/ensemble_</td><td>▂▄▂▃▄▅▅▇▆▆█▆▄▁▂▃▃▄▅▂▃▂▂▂▄▆▆▆▅▇▄▆▄▄▃▅▅▅▂▄</td></tr><tr><td>val_accuracy/ensemble_</td><td>▁▆██▇▇▇▇▇▇▇▇▇▇▆▇▇▇▇▇▇▇▇▆▇▇▇▇▇▇▇▇▇▇▇▇▇▇▆▇</td></tr><tr><td>val_loss_val/ensemble_</td><td>█▄▁▁▁▁▁▂▂▂▂▂▂▂▂▂▂▂▂▂▂▂▂▂▂▂▂▂▂▂▂▂▂▂▂▂▂▂▂▂</td></tr></table><br/></div><div class=\"wandb-col\"><h3>Run summary:</h3><br/><table class=\"wandb\"><tr><td>ROI < 30/ensemble</td><td>0.06542</td></tr><tr><td>accuracy/ensemble</td><td>0.32439</td></tr><tr><td>epoch</td><td>1112</td></tr><tr><td>loss_ensemble</td><td>1.31758</td></tr><tr><td>loss_val/ensemble</td><td>1.80474</td></tr><tr><td>val_ROI < 30/ensemble_</td><td>-0.01155</td></tr><tr><td>val_accuracy/ensemble_</td><td>0.31521</td></tr><tr><td>val_loss_val/ensemble_</td><td>1.80067</td></tr></table><br/></div></div>"
      ],
      "text/plain": [
       "<IPython.core.display.HTML object>"
      ]
     },
     "metadata": {},
     "output_type": "display_data"
    },
    {
     "data": {
      "text/html": [
       " View run <strong style=\"color:#cdcd00\">fortuitous-dragon-103</strong> at: <a href='https://wandb.ai/nickojelly/NEW%20GRU%20V7%20Ensemble/runs/9o25z9fu' target=\"_blank\">https://wandb.ai/nickojelly/NEW%20GRU%20V7%20Ensemble/runs/9o25z9fu</a><br/>Synced 5 W&B file(s), 0 media file(s), 23 artifact file(s) and 0 other file(s)"
      ],
      "text/plain": [
       "<IPython.core.display.HTML object>"
      ]
     },
     "metadata": {},
     "output_type": "display_data"
    },
    {
     "data": {
      "text/html": [
       "Find logs at: <code>.\\wandb\\run-20240212_200328-9o25z9fu\\logs</code>"
      ],
      "text/plain": [
       "<IPython.core.display.HTML object>"
      ]
     },
     "metadata": {},
     "output_type": "display_data"
    }
   ],
   "source": [
    "importlib.reload(rnn_tools.rnn_classes)\n",
    "importlib.reload(rnn_classes)\n",
    "importlib.reload(training_testing_gru_ensemble_pretrained)\n",
    "(model,dataset, optimizer) = model_pipeline(raceDB,config=wandb_config_static,sweep=False)\n",
    "# all_price_df = model_pipeline(raceDB,config=wandb_config_static,sweep=False)\n"
   ]
  },
  {
   "cell_type": "code",
   "execution_count": 65,
   "metadata": {},
   "outputs": [
    {
     "name": "stdout",
     "output_type": "stream",
     "text": [
      "Train examples 15593, Test examples 2423, Val examples 2833\n"
     ]
    }
   ],
   "source": [
    "raceDB.create_test_split_date('2023-01-01',val_date='2023-07-01')"
   ]
  },
  {
   "cell_type": "code",
   "execution_count": 78,
   "metadata": {},
   "outputs": [
    {
     "ename": "TypeError",
     "evalue": "operator.itemgetter() argument after * must be an iterable, not int",
     "output_type": "error",
     "traceback": [
      "\u001b[1;31m---------------------------------------------------------------------------\u001b[0m",
      "\u001b[1;31mTypeError\u001b[0m                                 Traceback (most recent call last)",
      "Cell \u001b[1;32mIn[78], line 3\u001b[0m\n\u001b[0;32m      1\u001b[0m len_test \u001b[38;5;241m=\u001b[39m \u001b[38;5;28mlen\u001b[39m(raceDB\u001b[38;5;241m.\u001b[39mtest_dog_ids)\n\u001b[0;32m      2\u001b[0m test_idx \u001b[38;5;241m=\u001b[39m \u001b[38;5;28mrange\u001b[39m(\u001b[38;5;241m0\u001b[39m,len_test)\n\u001b[1;32m----> 3\u001b[0m race \u001b[38;5;241m=\u001b[39m \u001b[43mraceDB\u001b[49m\u001b[38;5;241;43m.\u001b[39;49m\u001b[43mget_test_input\u001b[49m\u001b[43m(\u001b[49m\u001b[38;5;241;43m1\u001b[39;49m\u001b[43m)\u001b[49m\n",
      "File \u001b[1;32mc:\\Users\\Nick\\Documents\\GitHub\\grvmodel\\python\\rnn_tools\\rnn_classes.py:283\u001b[0m, in \u001b[0;36mRaces.get_test_input\u001b[1;34m(self, idx, Train)\u001b[0m\n\u001b[0;32m    282\u001b[0m \u001b[38;5;28;01mdef\u001b[39;00m \u001b[38;5;21mget_test_input\u001b[39m(\u001b[38;5;28mself\u001b[39m, idx, Train\u001b[38;5;241m=\u001b[39m\u001b[38;5;28;01mTrue\u001b[39;00m) \u001b[38;5;241m-\u001b[39m\u001b[38;5;241m>\u001b[39m Race:\n\u001b[1;32m--> 283\u001b[0m     raceidx \u001b[38;5;241m=\u001b[39m \u001b[43moperator\u001b[49m\u001b[38;5;241;43m.\u001b[39;49m\u001b[43mitemgetter\u001b[49m\u001b[43m(\u001b[49m\u001b[38;5;241;43m*\u001b[39;49m\u001b[43midx\u001b[49m\u001b[43m)\u001b[49m\n\u001b[0;32m    284\u001b[0m     race_batch_id \u001b[38;5;241m=\u001b[39m raceidx(\u001b[38;5;28mself\u001b[39m\u001b[38;5;241m.\u001b[39mtest_race_ids)\n\u001b[0;32m    285\u001b[0m     races \u001b[38;5;241m=\u001b[39m [\u001b[38;5;28mself\u001b[39m\u001b[38;5;241m.\u001b[39mracesDict[x] \u001b[38;5;28;01mfor\u001b[39;00m x \u001b[38;5;129;01min\u001b[39;00m \u001b[38;5;28mself\u001b[39m\u001b[38;5;241m.\u001b[39mtest_race_ids] \u001b[38;5;66;03m#Returns list of class Race\u001b[39;00m\n",
      "\u001b[1;31mTypeError\u001b[0m: operator.itemgetter() argument after * must be an iterable, not int"
     ]
    }
   ],
   "source": [
    "len_test = len(raceDB.test_dog_ids)\n",
    "test_idx = range(0,len_test)\n",
    "race = raceDB.get_test_input(1)\n"
   ]
  },
  {
   "cell_type": "code",
   "execution_count": 77,
   "metadata": {},
   "outputs": [
    {
     "data": {
      "text/plain": [
       "1307"
      ]
     },
     "execution_count": 77,
     "metadata": {},
     "output_type": "execute_result"
    }
   ],
   "source": [
    "races = [self.racesDict[x] for x in self.test_race_ids]"
   ]
  },
  {
   "cell_type": "code",
   "execution_count": null,
   "metadata": {},
   "outputs": [],
   "source": [
    "wandb_config_static['batch_days'] = 600\n",
    "(model,dataset, optimizer) = model_pipeline(raceDB,config=wandb_config_static,sweep=False)\n",
    "wandb_config_static['batch_days'] = 180\n",
    "(model,dataset, optimizer) = model_pipeline(raceDB,config=wandb_config_static,sweep=False)\n",
    "wandb_config_static['batch_days'] = 90\n",
    "(model,dataset, optimizer) = model_pipeline(raceDB,config=wandb_config_static,sweep=False)\n",
    "wandb_config_static['batch_days'] = 60\n",
    "(model,dataset, optimizer) = model_pipeline(raceDB,config=wandb_config_static,sweep=False)\n",
    "wandb_config_static['batch_days'] = 630\n",
    "(model,dataset, optimizer) = model_pipeline(raceDB,config=wandb_config_static,sweep=False)\n"
   ]
  },
  {
   "cell_type": "code",
   "execution_count": null,
   "metadata": {},
   "outputs": [],
   "source": [
    "model"
   ]
  },
  {
   "cell_type": "code",
   "execution_count": null,
   "metadata": {},
   "outputs": [],
   "source": [
    "importlib.reload(training_testing_gru_extra_data)\n",
    "training_testing_gru_extra_data.validate_model_v3(model,raceDB,config=wandb_config_static)"
   ]
  },
  {
   "cell_type": "code",
   "execution_count": null,
   "metadata": {},
   "outputs": [],
   "source": [
    "config = wandb_config_static"
   ]
  },
  {
   "cell_type": "code",
   "execution_count": null,
   "metadata": {},
   "outputs": [],
   "source": [
    "model = rnn_classes.LSTMNetv3_BN_double(22,config['hidden_size'], num_layers=config['num_layers'],fc0_size=config['f0_layer_size'], fc1_size=config['f1_layer_size'])"
   ]
  },
  {
   "cell_type": "code",
   "execution_count": null,
   "metadata": {},
   "outputs": [],
   "source": [
    "model = model.to('cuda:0')"
   ]
  },
  {
   "cell_type": "code",
   "execution_count": null,
   "metadata": {},
   "outputs": [],
   "source": [
    "sweep_config = {\"method\": \"grid\"}\n",
    "\n",
    "metric = {\"name\": \"ROI < 30\", \"goal\": \"maximize\"}\n",
    "\n",
    "sweep_config[\"metric\"] = metric\n",
    "\n",
    "\n",
    "parameters_dict = {\n",
    "    \"optimizer\": {\"value\": \"adamW\"},\n",
    "    \"batch_days\": {\"values\": [90,180,365,550,10000]},\n",
    "    \"f0_layer_size\": {\"values\": [128]},\n",
    "    \"f1_layer_size\": {\"values\": [64]},\n",
    "    \"dropout\": {\"values\": [0.3]},\n",
    "    \"input_type\": {\"values\": ['basic']},\n",
    "    \"num_layers\": {\"values\": [2]},\n",
    "    'hidden_size':{'values':[128]},\n",
    "    \"len_data\": {\"value\": len(raceDB.raceIDs)},\n",
    "    \"stats\":{\"value\": raceDB.stats_cols},\n",
    "    \"races\":{\"value\": states},\n",
    "    \"batch_size\":{\"value\": 10},\n",
    "}\n",
    "\n",
    "sweep_config[\"parameters\"] = parameters_dict\n",
    "\n",
    "parameters_dict.update(\n",
    "    {\n",
    "        \"epochs\": {\"values\": [1000]},\n",
    "        \"validation_split\": {\"value\": 0.1},\n",
    "        \"training_date_end\": {\"values\": \n",
    "                                [\n",
    "                                '2023-04-30',\n",
    "                                '2023-02-28',\n",
    "                                '2022-11-30',\n",
    "                                '2021-11-30'\n",
    "                                ]},\n",
    "        \"learning_rate\": {\"values\": [0.0003, 0.0001]},\n",
    "        \"label_smoothing\": {\"values\": [0.01,0.0]},\n",
    "        \"loss\": {\n",
    "            \"values\": [ \"CEL\"],\n",
    "        },\n",
    "    'dist_last__1': {'values': [0, 1]},\n",
    "    'box_last__1': {'values': [0, 1]},\n",
    "    'speed_avg_1': {'values': [0, 1]},\n",
    "    'split_speed_v1_1': {'values': [0, 1]},\n",
    "    'split_speed_avg_1': {'values': [0, 1]},\n",
    "    'split_margin_avg_1': {'values': [0, 1]},\n",
    "    'margin_avg_1': {'values': [0, 1]},\n",
    "    'margin_time_avg_1': {'values': [0, 1]},\n",
    "    'RunHomeTime_1': {'values': [0, 1]},\n",
    "    'run_home_speed_1': {'values': [0, 1]},\n",
    "    'run_home_speed_v1_1': {'values': [0, 1]},\n",
    "    'first_out_avg_1': {'values': [0, 1]},\n",
    "    'pos_out_avg_1': {'values': [0, 1]},\n",
    "    'post_change_avg_1': {'values': [0, 1]},\n",
    "    'races_1': {'values': [0, 1]},\n",
    "    'wins_1': {'values': [0, 1]},\n",
    "    'wins_last_1': {'values': [0, 1]},\n",
    "    'weight_': {'values': [0, 1]},\n",
    "    'min_time_': {'values': [0, 1]},\n",
    "    'min_split_time_': {'values': [0, 1]},\n",
    "    'min_split_time_v1': {'values': [0, 1]},\n",
    "    'last_start_price': {'values': [0, 1]},\n",
    "    'last_start_prob': {'values': [0, 1]}\n",
    "}\n",
    ")\n",
    "\n",
    "import pprint\n",
    "\n",
    "pprint.pprint(sweep_config)\n",
    "\n",
    "\n",
    "sweep_config"
   ]
  },
  {
   "cell_type": "code",
   "execution_count": null,
   "metadata": {},
   "outputs": [],
   "source": [
    "# wandb.agent('x9mz21wl', function=model_pipeline, count=100, project='NEW GRU-sweeps')"
   ]
  },
  {
   "attachments": {},
   "cell_type": "markdown",
   "metadata": {},
   "source": []
  },
  {
   "cell_type": "code",
   "execution_count": null,
   "metadata": {},
   "outputs": [],
   "source": []
  },
  {
   "cell_type": "code",
   "execution_count": null,
   "metadata": {},
   "outputs": [],
   "source": [
    "sweep_id = wandb.sweep(sweep_config, project=\"Variable Sweeps\")\n",
    "# CUDA_LAUNCH_BLOCKING=1\n",
    "wandb.agent(sweep_id, function=model_pipeline, count=1)"
   ]
  }
 ],
 "metadata": {
  "kernelspec": {
   "display_name": "PYTORCH",
   "language": "python",
   "name": "python3"
  },
  "language_info": {
   "codemirror_mode": {
    "name": "ipython",
    "version": 3
   },
   "file_extension": ".py",
   "mimetype": "text/x-python",
   "name": "python",
   "nbconvert_exporter": "python",
   "pygments_lexer": "ipython3",
   "version": "3.11.5"
  },
  "orig_nbformat": 4,
  "vscode": {
   "interpreter": {
    "hash": "8a48ca33c5a1168302a4f8eae355aad1c03b1396f568d40bc174a6e6aabe725d"
   }
  }
 },
 "nbformat": 4,
 "nbformat_minor": 2
}
