{
 "cells": [
  {
   "cell_type": "code",
   "execution_count": 1,
   "metadata": {},
   "outputs": [
    {
     "name": "stdout",
     "output_type": "stream",
     "text": [
      "c:\\Users\\Nick\\Documents\\GitHub\\grvmodel\\python\n"
     ]
    }
   ],
   "source": [
    "import pickle\n",
    "import pandas as pd\n",
    "import os\n",
    "import setup\n",
    "\n",
    "import torch\n",
    "import numpy as np\n",
    "import torch.nn as nn\n",
    "import torch.nn.functional as F\n",
    "import torch.optim as optim\n",
    "from tqdm.notebook import tqdm, trange\n",
    "import torch.optim as optim\n",
    "from torch.utils.data import TensorDataset, DataLoader\n",
    "import wandb\n",
    "from torch.utils.data.sampler import SubsetRandomSampler\n",
    "import pprint\n",
    "import matplotlib.pyplot as plt\n",
    "import torch\n",
    "\n",
    "from sklearn.preprocessing import MinMaxScaler\n",
    "import math\n",
    "from torch.profiler import profile, record_function, ProfilerActivity\n",
    "\n",
    "from operator import itemgetter\n",
    "import operator\n",
    "from random import randint\n",
    "# from rnn_classes import Dog, DogInput, Race, Races, GRUNet, smallGRUNet, smalll_lin_GRUNet, smalll_prelin_GRUNet\n",
    "import rnn_tools.rnn_classes as rnn_classes\n",
    "from rnn_tools.raceDB import build_dataset\n",
    "import importlib\n",
    "import datetime\n",
    "from rnn_tools.model_saver import model_saver, model_saver_wandb\n",
    "import rnn_tools.training_testing_gru as training_testing_gru\n",
    "from torch.nn.utils.rnn import pack_padded_sequence, pack_sequence, pad_packed_sequence,pad_sequence, unpack_sequence, unpad_sequence\n",
    "import rnn_tools.training_testing_gru_double as training_testing_gru_double\n",
    "import rnn_tools.training_testing_lstm as training_testing_lstm\n",
    "from goto_conversion import goto_conversion\n",
    "\n",
    "import rnn_tools.training_testing_gru_extra_data as training_testing_gru_extra_data"
   ]
  },
  {
   "cell_type": "code",
   "execution_count": 2,
   "metadata": {},
   "outputs": [
    {
     "name": "stdout",
     "output_type": "stream",
     "text": [
      "Running on the GPU\n"
     ]
    }
   ],
   "source": [
    "if torch.cuda.is_available():\n",
    "    device = torch.device(\"cuda:0\")  # you can continue going on here, like cuda:1 cuda:2....etc.\n",
    "    print(\"Running on the GPU\")\n",
    "else:\n",
    "    device = torch.device(\"cpu\")\n",
    "    print(\"Running on the CPU\")"
   ]
  },
  {
   "cell_type": "code",
   "execution_count": 3,
   "metadata": {},
   "outputs": [
    {
     "name": "stderr",
     "output_type": "stream",
     "text": [
      "c:\\Users\\Nick\\.conda\\envs\\python311\\Lib\\site-packages\\torch\\__init__.py:614: UserWarning: torch.set_default_tensor_type() is deprecated as of PyTorch 2.1, please use torch.set_default_dtype() and torch.set_default_device() as alternatives. (Triggered internally at C:\\cb\\pytorch_1000000000000\\work\\torch\\csrc\\tensor\\python_tensor.cpp:453.)\n",
      "  _C._set_default_tensor_type(t)\n"
     ]
    }
   ],
   "source": [
    "torch.set_default_tensor_type(torch.FloatTensor)"
   ]
  },
  {
   "cell_type": "code",
   "execution_count": 4,
   "metadata": {},
   "outputs": [
    {
     "data": {
      "text/plain": [
       "'2.1.1'"
      ]
     },
     "execution_count": 4,
     "metadata": {},
     "output_type": "execute_result"
    }
   ],
   "source": [
    "torch.__version__"
   ]
  },
  {
   "cell_type": "code",
   "execution_count": 5,
   "metadata": {},
   "outputs": [
    {
     "data": {
      "text/plain": [
       "['dist_last__1',\n",
       " 'box_last__1',\n",
       " 'speed_avg_1',\n",
       " 'split_speed_v1_1',\n",
       " 'split_speed_avg_1',\n",
       " 'split_margin_avg_1',\n",
       " 'margin_avg_1',\n",
       " 'margin_time_avg_1',\n",
       " 'RunHomeTime_1',\n",
       " 'run_home_speed_1',\n",
       " 'run_home_speed_v1_1',\n",
       " 'first_out_avg_1',\n",
       " 'pos_out_avg_1',\n",
       " 'post_change_avg_1',\n",
       " 'races_1',\n",
       " 'wins_1',\n",
       " 'wins_last_1',\n",
       " 'weight_',\n",
       " 'min_time_',\n",
       " 'min_split_time_',\n",
       " 'min_split_time_v1',\n",
       " 'last_start_price',\n",
       " 'last_start_prob']"
      ]
     },
     "execution_count": 5,
     "metadata": {},
     "output_type": "execute_result"
    }
   ],
   "source": [
    "['dist_last__1', 'box_last__1', 'speed_avg_1', 'split_speed_v1_1', 'split_speed_avg_1', 'split_margin_avg_1', 'margin_avg_1', 'margin_time_avg_1', 'RunHomeTime_1', 'run_home_speed_1', 'run_home_speed_v1_1', 'first_out_avg_1', 'pos_out_avg_1', 'post_change_avg_1', 'races_1', 'wins_1', 'wins_last_1', 'weight_', 'min_time_', 'min_split_time_', 'min_split_time_v1', 'last_start_price', 'last_start_prob']"
   ]
  },
  {
   "cell_type": "code",
   "execution_count": 6,
   "metadata": {},
   "outputs": [],
   "source": [
    "def custom_l2(output, target):\n",
    "    loss = torch.mean(abs(output-target), dim=1)\n",
    "    return loss"
   ]
  },
  {
   "cell_type": "code",
   "execution_count": 7,
   "metadata": {},
   "outputs": [],
   "source": [
    "def validation_CLE(x,y):\n",
    "    loss_t = -torch.log(torch.exp(x)/torch.sum(torch.exp(x), dim=-1, keepdim=True))*y\n",
    "    return loss_t"
   ]
  },
  {
   "cell_type": "code",
   "execution_count": 8,
   "metadata": {},
   "outputs": [],
   "source": [
    "tracks = ['Sandown Park',\n",
    " 'The Meadows',\n",
    " 'Warragul',\n",
    " 'Geelong',\n",
    " 'Sale',\n",
    " 'Ballarat',\n",
    " 'Bendigo',\n",
    " 'Cranbourne']"
   ]
  },
  {
   "cell_type": "code",
   "execution_count": 9,
   "metadata": {},
   "outputs": [
    {
     "name": "stdout",
     "output_type": "stream",
     "text": [
      "c:\\Users\\Nick\\Documents\\GitHub\\grvmodel\\python\n",
      "[['inside', 'midfield', 'wide', 'weight', 'DogGrade', '_dist_last__1', '_box_last__1', '_speed_avg_1', '_split_speed_avg_1', '_split_margin_avg_1', '_margin_avg_1', '_margin_time_avg_1', '_RunHomeTime_1', '_run_home_speed_1', '_first_out_avg_1', '_pos_out_avg_1', '_post_change_avg_1', '_races_1', '_wins_1', '_wins_last_1', '_weight_', '_min_time_', '_min_split_time_', '_last_start_price', '_last_start_prob', 'dist_dist_last__10', 'dist_box_last__10', 'dist_speed_avg_10', 'dist_split_speed_avg_10', 'dist_split_margin_avg_10', 'dist_margin_avg_10', 'dist_margin_time_avg_10', 'dist_RunHomeTime_10', 'dist_run_home_speed_10', 'dist_first_out_avg_10', 'dist_pos_out_avg_10', 'dist_post_change_avg_10', 'dist_races_10', 'dist_wins_10', 'dist_wins_last_10', 'dist_weight_', 'dist_min_time_', 'dist_min_split_time_', 'dist_last_start_price', 'dist_last_start_prob', 'box_dist_last__10', 'box_box_last__10', 'box_speed_avg_10', 'box_split_speed_avg_10', 'box_split_margin_avg_10', 'box_margin_avg_10', 'box_margin_time_avg_10', 'box_RunHomeTime_10', 'box_run_home_speed_10', 'box_first_out_avg_10', 'box_pos_out_avg_10', 'box_post_change_avg_10', 'box_races_10', 'box_wins_10', 'box_wins_last_10', 'box_weight_', 'box_min_time_', 'box_min_split_time_', 'box_last_start_price', 'box_last_start_prob', 'track_box_dist_last__10', 'track_box_box_last__10', 'track_box_speed_avg_10', 'track_box_split_speed_avg_10', 'track_box_split_margin_avg_10', 'track_box_margin_avg_10', 'track_box_margin_time_avg_10', 'track_box_RunHomeTime_10', 'track_box_run_home_speed_10', 'track_box_first_out_avg_10', 'track_box_pos_out_avg_10', 'track_box_post_change_avg_10', 'track_box_races_10', 'track_box_wins_10', 'track_box_wins_last_10', 'track_box_weight_', 'track_box_min_time_', 'track_box_min_split_time_', 'track_box_last_start_price', 'track_box_last_start_prob', 'track_dist_dist_last__10', 'track_dist_box_last__10', 'track_dist_speed_avg_10', 'track_dist_split_speed_avg_10', 'track_dist_split_margin_avg_10', 'track_dist_margin_avg_10', 'track_dist_margin_time_avg_10', 'track_dist_RunHomeTime_10', 'track_dist_run_home_speed_10', 'track_dist_first_out_avg_10', 'track_dist_pos_out_avg_10', 'track_dist_post_change_avg_10', 'track_dist_races_10', 'track_dist_wins_10', 'track_dist_wins_last_10', 'track_dist_weight_', 'track_dist_min_time_', 'track_dist_min_split_time_', 'track_dist_last_start_price', 'track_dist_last_start_prob']]\n",
      "(1517094, 25)\n",
      "106\n",
      "Latest date = 2024-01-31 00:00:00\n",
      "size after state filter (156607, 27)\n",
      "(156607, 27)\n",
      "Latest date = 2024-01-31 00:00:00\n",
      "num_features_per_dog=106\n",
      "___Processing 4028 unique dogs___\n"
     ]
    },
    {
     "name": "stderr",
     "output_type": "stream",
     "text": [
      "100%|██████████| 25/25 [00:00<?, ?it/s]\n",
      "c:\\Users\\Nick\\Documents\\GitHub\\grvmodel\\python\\rnn_tools\\rnn_classes.py:393: UserWarning: To copy construct from a tensor, it is recommended to use sourceTensor.clone().detach() or sourceTensor.clone().detach().requires_grad_(True), rather than torch.tensor(sourceTensor).\n",
      "  r.prob = torch.tensor((1/(torch.tensor(r.start_prices)+0.0001))/((1/torch.tensor(r.start_prices)).sum()+0.0001),device=self.device)\n"
     ]
    },
    {
     "name": "stdout",
     "output_type": "stream",
     "text": [
      "number of races = 20849, number of unique dogs = 4029\n",
      "0            (Wanganui, 305.0)\n",
      "1            (Auckland, 318.0)\n",
      "2        (Christchurch, 295.0)\n",
      "3        (Christchurch, 295.0)\n",
      "4        (Christchurch, 520.0)\n",
      "                 ...          \n",
      "20844    (Christchurch, 520.0)\n",
      "20845       (Southland, 457.0)\n",
      "20846       (Southland, 390.0)\n",
      "20847       (Southland, 457.0)\n",
      "20848       (Southland, 390.0)\n",
      "Length: 20849, dtype: object\n"
     ]
    }
   ],
   "source": [
    "os.getcwd()\n",
    "import rnn_tools.raceDB\n",
    "importlib.reload(rnn_tools.raceDB)\n",
    "# os.chdir(r\"C:\\Users\\Nick\\Documents\\GitHub\\grvmodel\\Python\\DATA\")                                                                                                                                                                                                                                                                                                                             \n",
    "date = datetime.datetime.strptime(\"2022-08-01\", \"%Y-%m-%d\").date()\n",
    "hidden_size = 32\n",
    "states = [\"NZ\"]\n",
    "data_file = './data/gru_inputs_kitchen_sink_new_not_simple.fth'\n",
    "raceDB = rnn_tools.raceDB.build_dataset(data_file, hidden_size ,state_filter=states, margin_type='boosted_sftmin',v6=True)\n",
    "raceDB.create_new_weights_v2()"
   ]
  },
  {
   "cell_type": "code",
   "execution_count": 10,
   "metadata": {},
   "outputs": [],
   "source": [
    "data = pd.read_feather(data_file)"
   ]
  },
  {
   "cell_type": "code",
   "execution_count": 11,
   "metadata": {},
   "outputs": [
    {
     "data": {
      "text/plain": [
       "(106,)"
      ]
     },
     "execution_count": 11,
     "metadata": {},
     "output_type": "execute_result"
    }
   ],
   "source": [
    "data.stats.iloc[0].shape"
   ]
  },
  {
   "cell_type": "code",
   "execution_count": 12,
   "metadata": {},
   "outputs": [],
   "source": [
    "raceDB.stats_cols = eval(raceDB.stats_cols)[0]"
   ]
  },
  {
   "cell_type": "code",
   "execution_count": 13,
   "metadata": {},
   "outputs": [],
   "source": [
    "# raceDB.stats_cols = ['box']+raceDB.stats_cols"
   ]
  },
  {
   "cell_type": "code",
   "execution_count": 14,
   "metadata": {},
   "outputs": [
    {
     "name": "stdout",
     "output_type": "stream",
     "text": [
      "0 inside\n",
      "1 midfield\n",
      "2 wide\n",
      "3 weight\n",
      "4 DogGrade\n",
      "5 _dist_last__1\n",
      "6 _box_last__1\n",
      "7 _speed_avg_1\n",
      "8 _split_speed_avg_1\n",
      "9 _split_margin_avg_1\n",
      "10 _margin_avg_1\n",
      "11 _margin_time_avg_1\n",
      "12 _RunHomeTime_1\n",
      "13 _run_home_speed_1\n",
      "14 _first_out_avg_1\n",
      "15 _pos_out_avg_1\n",
      "16 _post_change_avg_1\n",
      "17 _races_1\n",
      "18 _wins_1\n",
      "19 _wins_last_1\n",
      "20 _weight_\n",
      "21 _min_time_\n",
      "22 _min_split_time_\n",
      "23 _last_start_price\n",
      "24 _last_start_prob\n",
      "25 dist_dist_last__10\n",
      "26 dist_box_last__10\n",
      "27 dist_speed_avg_10\n",
      "28 dist_split_speed_avg_10\n",
      "29 dist_split_margin_avg_10\n",
      "30 dist_margin_avg_10\n",
      "31 dist_margin_time_avg_10\n",
      "32 dist_RunHomeTime_10\n",
      "33 dist_run_home_speed_10\n",
      "34 dist_first_out_avg_10\n",
      "35 dist_pos_out_avg_10\n",
      "36 dist_post_change_avg_10\n",
      "37 dist_races_10\n",
      "38 dist_wins_10\n",
      "39 dist_wins_last_10\n",
      "40 dist_weight_\n",
      "41 dist_min_time_\n",
      "42 dist_min_split_time_\n",
      "43 dist_last_start_price\n",
      "44 dist_last_start_prob\n",
      "45 box_dist_last__10\n",
      "46 box_box_last__10\n",
      "47 box_speed_avg_10\n",
      "48 box_split_speed_avg_10\n",
      "49 box_split_margin_avg_10\n",
      "50 box_margin_avg_10\n",
      "51 box_margin_time_avg_10\n",
      "52 box_RunHomeTime_10\n",
      "53 box_run_home_speed_10\n",
      "54 box_first_out_avg_10\n",
      "55 box_pos_out_avg_10\n",
      "56 box_post_change_avg_10\n",
      "57 box_races_10\n",
      "58 box_wins_10\n",
      "59 box_wins_last_10\n",
      "60 box_weight_\n",
      "61 box_min_time_\n",
      "62 box_min_split_time_\n",
      "63 box_last_start_price\n",
      "64 box_last_start_prob\n",
      "65 track_box_dist_last__10\n",
      "66 track_box_box_last__10\n",
      "67 track_box_speed_avg_10\n",
      "68 track_box_split_speed_avg_10\n",
      "69 track_box_split_margin_avg_10\n",
      "70 track_box_margin_avg_10\n",
      "71 track_box_margin_time_avg_10\n",
      "72 track_box_RunHomeTime_10\n",
      "73 track_box_run_home_speed_10\n",
      "74 track_box_first_out_avg_10\n",
      "75 track_box_pos_out_avg_10\n",
      "76 track_box_post_change_avg_10\n",
      "77 track_box_races_10\n",
      "78 track_box_wins_10\n",
      "79 track_box_wins_last_10\n",
      "80 track_box_weight_\n",
      "81 track_box_min_time_\n",
      "82 track_box_min_split_time_\n",
      "83 track_box_last_start_price\n",
      "84 track_box_last_start_prob\n",
      "85 track_dist_dist_last__10\n",
      "86 track_dist_box_last__10\n",
      "87 track_dist_speed_avg_10\n",
      "88 track_dist_split_speed_avg_10\n",
      "89 track_dist_split_margin_avg_10\n",
      "90 track_dist_margin_avg_10\n",
      "91 track_dist_margin_time_avg_10\n",
      "92 track_dist_RunHomeTime_10\n",
      "93 track_dist_run_home_speed_10\n",
      "94 track_dist_first_out_avg_10\n",
      "95 track_dist_pos_out_avg_10\n",
      "96 track_dist_post_change_avg_10\n",
      "97 track_dist_races_10\n",
      "98 track_dist_wins_10\n",
      "99 track_dist_wins_last_10\n",
      "100 track_dist_weight_\n",
      "101 track_dist_min_time_\n",
      "102 track_dist_min_split_time_\n",
      "103 track_dist_last_start_price\n",
      "104 track_dist_last_start_prob\n"
     ]
    }
   ],
   "source": [
    "for i,s in enumerate(raceDB.stats_cols):\n",
    "    print(i,s)"
   ]
  },
  {
   "cell_type": "code",
   "execution_count": 15,
   "metadata": {},
   "outputs": [],
   "source": [
    "from rnn_tools.rnn_classes import Races,Dog, DogInput, Race"
   ]
  },
  {
   "cell_type": "code",
   "execution_count": 16,
   "metadata": {},
   "outputs": [],
   "source": [
    "import rnn_tools.raceDB"
   ]
  },
  {
   "cell_type": "code",
   "execution_count": 17,
   "metadata": {},
   "outputs": [
    {
     "data": {
      "text/plain": [
       "[datetime.date(2020, 2, 2),\n",
       " datetime.date(2020, 2, 2),\n",
       " datetime.date(2020, 2, 2),\n",
       " datetime.date(2020, 2, 2),\n",
       " datetime.date(2020, 2, 2),\n",
       " datetime.date(2020, 2, 2),\n",
       " datetime.date(2020, 2, 3),\n",
       " datetime.date(2020, 2, 3),\n",
       " datetime.date(2020, 2, 3),\n",
       " datetime.date(2020, 2, 3),\n",
       " datetime.date(2020, 2, 3),\n",
       " datetime.date(2020, 2, 3),\n",
       " datetime.date(2020, 2, 3),\n",
       " datetime.date(2020, 2, 3),\n",
       " datetime.date(2020, 2, 3),\n",
       " datetime.date(2020, 2, 3),\n",
       " datetime.date(2020, 2, 3),\n",
       " datetime.date(2020, 2, 3),\n",
       " datetime.date(2020, 2, 3),\n",
       " datetime.date(2020, 2, 3),\n",
       " datetime.date(2020, 2, 3),\n",
       " datetime.date(2020, 2, 4),\n",
       " datetime.date(2020, 2, 4),\n",
       " datetime.date(2020, 2, 4),\n",
       " datetime.date(2020, 2, 4),\n",
       " datetime.date(2020, 2, 4),\n",
       " datetime.date(2020, 2, 4),\n",
       " datetime.date(2020, 2, 4),\n",
       " datetime.date(2020, 2, 4),\n",
       " datetime.date(2020, 2, 4),\n",
       " datetime.date(2020, 2, 4),\n",
       " datetime.date(2020, 2, 4),\n",
       " datetime.date(2020, 2, 4),\n",
       " datetime.date(2020, 2, 4),\n",
       " datetime.date(2020, 2, 4),\n",
       " datetime.date(2020, 2, 4),\n",
       " datetime.date(2020, 2, 4),\n",
       " datetime.date(2020, 2, 4),\n",
       " datetime.date(2020, 2, 4),\n",
       " datetime.date(2020, 2, 4),\n",
       " datetime.date(2020, 2, 4),\n",
       " datetime.date(2020, 2, 4),\n",
       " datetime.date(2020, 2, 4),\n",
       " datetime.date(2020, 2, 4),\n",
       " datetime.date(2020, 2, 5),\n",
       " datetime.date(2020, 2, 5),\n",
       " datetime.date(2020, 2, 5),\n",
       " datetime.date(2020, 2, 5),\n",
       " datetime.date(2020, 2, 5),\n",
       " datetime.date(2020, 2, 5),\n",
       " datetime.date(2020, 2, 5),\n",
       " datetime.date(2020, 2, 5),\n",
       " datetime.date(2020, 2, 5),\n",
       " datetime.date(2020, 2, 5),\n",
       " datetime.date(2020, 2, 5),\n",
       " datetime.date(2020, 2, 5),\n",
       " datetime.date(2020, 2, 5),\n",
       " datetime.date(2020, 2, 5),\n",
       " datetime.date(2020, 2, 6),\n",
       " datetime.date(2020, 2, 6),\n",
       " datetime.date(2020, 2, 6),\n",
       " datetime.date(2020, 2, 6),\n",
       " datetime.date(2020, 2, 6),\n",
       " datetime.date(2020, 2, 6),\n",
       " datetime.date(2020, 2, 6),\n",
       " datetime.date(2020, 2, 6),\n",
       " datetime.date(2020, 2, 6),\n",
       " datetime.date(2020, 2, 6),\n",
       " datetime.date(2020, 2, 6),\n",
       " datetime.date(2020, 2, 6),\n",
       " datetime.date(2020, 2, 6),\n",
       " datetime.date(2020, 2, 6),\n",
       " datetime.date(2020, 2, 6),\n",
       " datetime.date(2020, 2, 6),\n",
       " datetime.date(2020, 2, 6),\n",
       " datetime.date(2020, 2, 6),\n",
       " datetime.date(2020, 2, 6),\n",
       " datetime.date(2020, 2, 6),\n",
       " datetime.date(2020, 2, 6),\n",
       " datetime.date(2020, 2, 6),\n",
       " datetime.date(2020, 2, 6),\n",
       " datetime.date(2020, 2, 6),\n",
       " datetime.date(2020, 2, 6),\n",
       " datetime.date(2020, 2, 7),\n",
       " datetime.date(2020, 2, 7),\n",
       " datetime.date(2020, 2, 7),\n",
       " datetime.date(2020, 2, 7),\n",
       " datetime.date(2020, 2, 7),\n",
       " datetime.date(2020, 2, 7),\n",
       " datetime.date(2020, 2, 7),\n",
       " datetime.date(2020, 2, 7),\n",
       " datetime.date(2020, 2, 7),\n",
       " datetime.date(2020, 2, 7),\n",
       " datetime.date(2020, 2, 7),\n",
       " datetime.date(2020, 2, 7),\n",
       " datetime.date(2020, 2, 7),\n",
       " datetime.date(2020, 2, 7),\n",
       " datetime.date(2020, 2, 7),\n",
       " datetime.date(2020, 2, 7),\n",
       " datetime.date(2020, 2, 7)]"
      ]
     },
     "execution_count": 17,
     "metadata": {},
     "output_type": "execute_result"
    }
   ],
   "source": [
    "races = raceDB.get_race_input(range(1000,1100))\n",
    "[r.race_date for r in races]"
   ]
  },
  {
   "cell_type": "code",
   "execution_count": 18,
   "metadata": {},
   "outputs": [],
   "source": [
    "stat_list = ['dist_last__1', 'box_last__1', 'speed_avg_1', 'split_speed_v1_1', 'split_speed_avg_1', 'split_margin_avg_1', 'margin_avg_1', 'margin_time_avg_1', 'RunHomeTime_1', 'run_home_speed_1', 'run_home_speed_v1_1', 'first_out_avg_1', 'pos_out_avg_1', 'post_change_avg_1', 'races_1', 'wins_1', 'wins_last_1', 'weight_', 'min_time_', 'min_split_time_', 'min_split_time_v1', 'last_start_price', 'last_start_prob']\n"
   ]
  },
  {
   "cell_type": "code",
   "execution_count": 27,
   "metadata": {},
   "outputs": [],
   "source": [
    "def closure(optimizer, criterion, outs, classes):\n",
    "    optimizer.zero_grad()\n",
    "    loss = nn.functional.mse_loss(outs, classes)\n",
    "    loss.backward()\n",
    "    return loss\n",
    "\n",
    "def model_pipeline(my_dataset=raceDB,config=None,prev_model=None, sweep=True, model_state_dict=None, prev_model_file=None, prev_model_version='450'):\n",
    "    if my_dataset:\n",
    "      dataset = my_dataset    \n",
    "    else:\n",
    "      dataset = raceDB\n",
    "    # tell wandb to get started\n",
    "    with wandb.init(project=\"NEW GRU V7\", config=config,save_code=False):\n",
    "      #  access all HPs through wandb.config, so logging matches execution!\n",
    "      wandb.define_metric(\"loss_val\", summary=\"min\")\n",
    "      wandb.define_metric(\"accuracy\", summary=\"max\")\n",
    "      wandb.define_metric(\"ROI < 30\", summary=\"max\")\n",
    "      wandb.define_metric(\"relu roi\", summary=\"max\")\n",
    "      \n",
    "      config = wandb.config\n",
    "      pprint.pprint(config)\n",
    "      pprint.pprint(config.epochs)\n",
    "      print(config)\n",
    "      # input_size = raceDB.get_race_input([0,1])[0].full_input.shape[0] #create fix so messy\n",
    "      print(config.input_type)\n",
    "\n",
    "      stat_mask = [1,1,1]\n",
    "      for stat in stat_list:\n",
    "          stat_flag = config[stat]\n",
    "          stat_mask = stat_mask+[stat_flag]\n",
    "\n",
    "      print(stat_mask)\n",
    "      stat_mask = [1]*26+[0]*80\n",
    "      data_mask = [0]*26+[1]*20+[1]*20+[1]*20+[1]*20 # Reg, Dist, Box, T_box, T_dist\n",
    "      data_mask = [1]*26+[0]*20+[0]*20+[0]*20+[0]*20 # Reg, Dist, Box, T_box, T_dist\n",
    "      data_mask_size = sum(data_mask)\n",
    "      stat_mask = torch.tensor(stat_mask).type(torch.bool).to(device)\n",
    "      data_mask = torch.tensor(data_mask).type(torch.bool).to(device)\n",
    "      wandb.run.log_code('rnn_tools/')\n",
    "      # stat_mask = torch.ones_like(stat_mask).type(torch.bool).to(device)\n",
    "\n",
    "      print(stat_mask)\n",
    "      print(stat_mask.shape)\n",
    "\n",
    "      if 'batch_days' in config.keys():\n",
    "        pass\n",
    "        raceDB.create_test_split_date(config['training_date_end'],val_date='2023-07-01')\n",
    "        raceDB.create_dogs_test_split_date()\n",
    "        raceDB.attach_races_to_dog_inputv2() \n",
    "        raceDB.reset_hidden()\n",
    "        raceDB.create_batches(batch_days=config['batch_days'], end_date = config['training_date_end'], stat_mask=stat_mask,data_mask=data_mask)\n",
    "\n",
    "      if config['input_type'] == 'basic':\n",
    "          print('here')\n",
    "          raceDB.batches['packed_x'] = raceDB.batches['packed_x_basic']\n",
    "          raceDB.batches['packed_y'] = raceDB.batches['packed_y_basic']\n",
    "          raceDB.batches['packed_v'] = raceDB.batches['packed_v_basic']\n",
    "          input_size = raceDB.batches['packed_x'][0].data[0].shape[0]\n",
    "\n",
    "      # for race in raceDB.racesDict.values():\n",
    "      #     for dog_input in race.dogs:\n",
    "      #       dog_input.stats_masked = dog_input.stats.masked_select(stat_mask) \n",
    "\n",
    "\n",
    "      print(f\"{input_size=}\")\n",
    "      config['stat_mask_tensor'] = torch.tensor(stat_mask, dtype=torch.uint8).to(device)     \n",
    "      raceDB.reset_hidden(num_layers=config['num_layers'], hidden_size=config['hidden_size'])\n",
    "      model = rnn_classes.GRUNetv4_extra_attn(input_size,config['hidden_size'], num_layers=config['num_layers'],fc0_size=config['f0_layer_size'], fc1_size=config['f1_layer_size'],data_mask_size=data_mask_size)\n",
    "      optimizer = optim.AdamW(model.parameters(), lr=config['learning_rate'])\n",
    "      \n",
    "      if model_state_dict:\n",
    "        model.load_state_dict(model_state_dict)\n",
    "      if prev_model_file!=None:\n",
    "        print(f\"Loading model {prev_model_file}, version {prev_model_version}\")\n",
    "        model_name = prev_model_file\n",
    "        model_loc = f\"C:/Users/Nick/Documents/GitHub/grvmodel/Python/pytorch/New Model/savedmodel/{model_name}/{model_name}_{prev_model_version}.pt\"\n",
    "        model_data = torch.load(model_loc,map_location=torch.device('cuda:0'))\n",
    "        print(model_data['model_state_dict'].keys())\n",
    "        model.load_state_dict(model_data['model_state_dict'], strict=True)\n",
    "        config['parent model'] = prev_model_file\n",
    "        model = model.to(device)\n",
    "        optimizer = optim.Adam(model.parameters(), lr=config['learning_rate'])\n",
    "        # optimizer.load_state_dict(model_data['optim'])\n",
    "        # optimizer.to(device)\n",
    "      else:\n",
    "        optimizer = optim.RAdam(model.parameters(), lr=config['learning_rate'])\n",
    "\n",
    "      raceDB.to_cuda()\n",
    "      criterion = nn.CrossEntropyLoss(reduction='none')\n",
    "\n",
    "      model = model.to(device)\n",
    "      print(model)\n",
    "\n",
    "      # and use them to train the model\n",
    "      wandb.watch(model, log='all')\n",
    "      try:\n",
    "        # train_double_loss_regular(model, dataset, criterion, optimizer, scheduler, config, crit2=custom_l2)\n",
    "        training_testing_gru_extra_data.train_double_v3(model, dataset, criterion, optimizer, 'na', config)\n",
    "      except (KeyboardInterrupt) as error:\n",
    "        print(error)\n",
    "        print(\"finished Early\")\n",
    "        \n",
    "      # dataset.create_hidden_states_dict()\n",
    "      raceDB.create_hidden_states_dict_v2()\n",
    "      model_saver_wandb(model, optimizer, 450, 0.1, raceDB.hidden_states_dict_gru_v6,raceDB.train_hidden_dict , model_name=\"long nsw new  22000 RUN\")\n",
    "      if sweep:\n",
    "        # raceDB.reset_all_lstm_states\n",
    "        raceDB.reset_hidden()\n",
    "    \n",
    "\n",
    "\n",
    "    # and test its final performance\n",
    "    #test(model, test_loader)\n",
    "\n",
    "    return (model,dataset, optimizer)"
   ]
  },
  {
   "cell_type": "code",
   "execution_count": 20,
   "metadata": {},
   "outputs": [],
   "source": [
    "wandb_config_static = {\n",
    "    'hidden_size': 256,\n",
    "    'stats': raceDB.stats_cols,\n",
    "    'races': states,\n",
    "    'datafile': data_file,\n",
    "    'latest_date': raceDB.latest_date,\n",
    "    'input_type': 'basic',\n",
    "    'num_layers': 2,\n",
    "    'batch_size': 750,\n",
    "    'dropout': 0.3,\n",
    "    'epochs': 5000,\n",
    "    'learning_rate': 0.001,\n",
    "    'optimizer': 'adamW',\n",
    "    'f0_layer_size': 128,\n",
    "    'f1_layer_size': 128,\n",
    "    'training_date_end': '2023-01-01',\n",
    "    'notes':'Testing new CONV layer',\n",
    "    'batch_days': 120,\n",
    "    'dist_last__1': 1,  #\n",
    "    'box_last__1': 1,  #\n",
    "    'speed_avg_1': 1,  #\n",
    "    'split_speed_v1_1': 0,  #\n",
    "    'split_speed_avg_1': 0,  #\n",
    "    'split_margin_avg_1': 1,\n",
    "    'margin_avg_1': 1,  #\n",
    "    'margin_time_avg_1': 1,  #\n",
    "    'RunHomeTime_1': 1,\n",
    "    'run_home_speed_1': 1,\n",
    "    'run_home_speed_v1_1': 0,\n",
    "    'first_out_avg_1': 1,  #\n",
    "    'pos_out_avg_1': 1,  #\n",
    "    'post_change_avg_1': 1,  #\n",
    "    'races_1': 0,\n",
    "    'wins_1': 0,\n",
    "    'wins_last_1': 1,\n",
    "    'weight_': 1,  #\n",
    "    'min_time_': 1,  #\n",
    "    'min_split_time_': 1,\n",
    "    'min_split_time_v1': 0,  #\n",
    "    'last_start_price': 0,  #\n",
    "    'last_start_prob': 1,\n",
    "}"
   ]
  },
  {
   "cell_type": "code",
   "execution_count": 21,
   "metadata": {},
   "outputs": [],
   "source": [
    "raceDB.reset_hidden(num_layers=wandb_config_static['num_layers'], hidden_size=wandb_config_static['hidden_size'])"
   ]
  },
  {
   "cell_type": "code",
   "execution_count": 22,
   "metadata": {},
   "outputs": [],
   "source": [
    "torch.cuda.empty_cache()"
   ]
  },
  {
   "cell_type": "code",
   "execution_count": 23,
   "metadata": {},
   "outputs": [
    {
     "name": "stderr",
     "output_type": "stream",
     "text": [
      "c:\\Users\\Nick\\Documents\\GitHub\\grvmodel\\python\\rnn_tools\\rnn_classes.py:393: UserWarning: To copy construct from a tensor, it is recommended to use sourceTensor.clone().detach() or sourceTensor.clone().detach().requires_grad_(True), rather than torch.tensor(sourceTensor).\n",
      "  r.prob = torch.tensor((1/(torch.tensor(r.start_prices)+0.0001))/((1/torch.tensor(r.start_prices)).sum()+0.0001),device=self.device)\n"
     ]
    }
   ],
   "source": [
    "raceDB.race_prices_to_prob()"
   ]
  },
  {
   "cell_type": "code",
   "execution_count": 24,
   "metadata": {},
   "outputs": [
    {
     "data": {
      "text/plain": [
       "Timestamp('2024-01-31 00:00:00')"
      ]
     },
     "execution_count": 24,
     "metadata": {},
     "output_type": "execute_result"
    }
   ],
   "source": [
    "raceDB.latest_date"
   ]
  },
  {
   "cell_type": "code",
   "execution_count": 25,
   "metadata": {},
   "outputs": [],
   "source": [
    "# raceDB.packed_v_data.data.shape"
   ]
  },
  {
   "cell_type": "code",
   "execution_count": 28,
   "metadata": {},
   "outputs": [
    {
     "data": {
      "text/html": [
       "Tracking run with wandb version 0.16.2"
      ],
      "text/plain": [
       "<IPython.core.display.HTML object>"
      ]
     },
     "metadata": {},
     "output_type": "display_data"
    },
    {
     "data": {
      "text/html": [
       "Run data is saved locally in <code>c:\\Users\\Nick\\Documents\\GitHub\\grvmodel\\python\\wandb\\run-20240204_201533-0l4giw04</code>"
      ],
      "text/plain": [
       "<IPython.core.display.HTML object>"
      ]
     },
     "metadata": {},
     "output_type": "display_data"
    },
    {
     "data": {
      "text/html": [
       "Syncing run <strong><a href='https://wandb.ai/nickojelly/NEW%20GRU%20V7/runs/0l4giw04' target=\"_blank\">volcanic-microwave-498</a></strong> to <a href='https://wandb.ai/nickojelly/NEW%20GRU%20V7' target=\"_blank\">Weights & Biases</a> (<a href='https://wandb.me/run' target=\"_blank\">docs</a>)<br/>"
      ],
      "text/plain": [
       "<IPython.core.display.HTML object>"
      ]
     },
     "metadata": {},
     "output_type": "display_data"
    },
    {
     "data": {
      "text/html": [
       " View project at <a href='https://wandb.ai/nickojelly/NEW%20GRU%20V7' target=\"_blank\">https://wandb.ai/nickojelly/NEW%20GRU%20V7</a>"
      ],
      "text/plain": [
       "<IPython.core.display.HTML object>"
      ]
     },
     "metadata": {},
     "output_type": "display_data"
    },
    {
     "data": {
      "text/html": [
       " View run at <a href='https://wandb.ai/nickojelly/NEW%20GRU%20V7/runs/0l4giw04' target=\"_blank\">https://wandb.ai/nickojelly/NEW%20GRU%20V7/runs/0l4giw04</a>"
      ],
      "text/plain": [
       "<IPython.core.display.HTML object>"
      ]
     },
     "metadata": {},
     "output_type": "display_data"
    },
    {
     "name": "stdout",
     "output_type": "stream",
     "text": [
      "{'hidden_size': 256, 'stats': ['inside', 'midfield', 'wide', 'weight', 'DogGrade', '_dist_last__1', '_box_last__1', '_speed_avg_1', '_split_speed_avg_1', '_split_margin_avg_1', '_margin_avg_1', '_margin_time_avg_1', '_RunHomeTime_1', '_run_home_speed_1', '_first_out_avg_1', '_pos_out_avg_1', '_post_change_avg_1', '_races_1', '_wins_1', '_wins_last_1', '_weight_', '_min_time_', '_min_split_time_', '_last_start_price', '_last_start_prob', 'dist_dist_last__10', 'dist_box_last__10', 'dist_speed_avg_10', 'dist_split_speed_avg_10', 'dist_split_margin_avg_10', 'dist_margin_avg_10', 'dist_margin_time_avg_10', 'dist_RunHomeTime_10', 'dist_run_home_speed_10', 'dist_first_out_avg_10', 'dist_pos_out_avg_10', 'dist_post_change_avg_10', 'dist_races_10', 'dist_wins_10', 'dist_wins_last_10', 'dist_weight_', 'dist_min_time_', 'dist_min_split_time_', 'dist_last_start_price', 'dist_last_start_prob', 'box_dist_last__10', 'box_box_last__10', 'box_speed_avg_10', 'box_split_speed_avg_10', 'box_split_margin_avg_10', 'box_margin_avg_10', 'box_margin_time_avg_10', 'box_RunHomeTime_10', 'box_run_home_speed_10', 'box_first_out_avg_10', 'box_pos_out_avg_10', 'box_post_change_avg_10', 'box_races_10', 'box_wins_10', 'box_wins_last_10', 'box_weight_', 'box_min_time_', 'box_min_split_time_', 'box_last_start_price', 'box_last_start_prob', 'track_box_dist_last__10', 'track_box_box_last__10', 'track_box_speed_avg_10', 'track_box_split_speed_avg_10', 'track_box_split_margin_avg_10', 'track_box_margin_avg_10', 'track_box_margin_time_avg_10', 'track_box_RunHomeTime_10', 'track_box_run_home_speed_10', 'track_box_first_out_avg_10', 'track_box_pos_out_avg_10', 'track_box_post_change_avg_10', 'track_box_races_10', 'track_box_wins_10', 'track_box_wins_last_10', 'track_box_weight_', 'track_box_min_time_', 'track_box_min_split_time_', 'track_box_last_start_price', 'track_box_last_start_prob', 'track_dist_dist_last__10', 'track_dist_box_last__10', 'track_dist_speed_avg_10', 'track_dist_split_speed_avg_10', 'track_dist_split_margin_avg_10', 'track_dist_margin_avg_10', 'track_dist_margin_time_avg_10', 'track_dist_RunHomeTime_10', 'track_dist_run_home_speed_10', 'track_dist_first_out_avg_10', 'track_dist_pos_out_avg_10', 'track_dist_post_change_avg_10', 'track_dist_races_10', 'track_dist_wins_10', 'track_dist_wins_last_10', 'track_dist_weight_', 'track_dist_min_time_', 'track_dist_min_split_time_', 'track_dist_last_start_price', 'track_dist_last_start_prob'], 'races': ['NZ'], 'datafile': './data/gru_inputs_kitchen_sink_new_not_simple.fth', 'latest_date': '2024-01-31T00:00:00', 'input_type': 'basic', 'num_layers': 2, 'batch_size': 750, 'dropout': 0.3, 'epochs': 5000, 'learning_rate': 0.001, 'optimizer': 'adamW', 'f0_layer_size': 128, 'f1_layer_size': 128, 'training_date_end': '2023-01-01', 'notes': 'Testing new CONV layer', 'batch_days': 120, 'dist_last__1': 1, 'box_last__1': 1, 'speed_avg_1': 1, 'split_speed_v1_1': 0, 'split_speed_avg_1': 0, 'split_margin_avg_1': 1, 'margin_avg_1': 1, 'margin_time_avg_1': 1, 'RunHomeTime_1': 1, 'run_home_speed_1': 1, 'run_home_speed_v1_1': 0, 'first_out_avg_1': 1, 'pos_out_avg_1': 1, 'post_change_avg_1': 1, 'races_1': 0, 'wins_1': 0, 'wins_last_1': 1, 'weight_': 1, 'min_time_': 1, 'min_split_time_': 1, 'min_split_time_v1': 0, 'last_start_price': 0, 'last_start_prob': 1}\n",
      "5000\n",
      "{'hidden_size': 256, 'stats': ['inside', 'midfield', 'wide', 'weight', 'DogGrade', '_dist_last__1', '_box_last__1', '_speed_avg_1', '_split_speed_avg_1', '_split_margin_avg_1', '_margin_avg_1', '_margin_time_avg_1', '_RunHomeTime_1', '_run_home_speed_1', '_first_out_avg_1', '_pos_out_avg_1', '_post_change_avg_1', '_races_1', '_wins_1', '_wins_last_1', '_weight_', '_min_time_', '_min_split_time_', '_last_start_price', '_last_start_prob', 'dist_dist_last__10', 'dist_box_last__10', 'dist_speed_avg_10', 'dist_split_speed_avg_10', 'dist_split_margin_avg_10', 'dist_margin_avg_10', 'dist_margin_time_avg_10', 'dist_RunHomeTime_10', 'dist_run_home_speed_10', 'dist_first_out_avg_10', 'dist_pos_out_avg_10', 'dist_post_change_avg_10', 'dist_races_10', 'dist_wins_10', 'dist_wins_last_10', 'dist_weight_', 'dist_min_time_', 'dist_min_split_time_', 'dist_last_start_price', 'dist_last_start_prob', 'box_dist_last__10', 'box_box_last__10', 'box_speed_avg_10', 'box_split_speed_avg_10', 'box_split_margin_avg_10', 'box_margin_avg_10', 'box_margin_time_avg_10', 'box_RunHomeTime_10', 'box_run_home_speed_10', 'box_first_out_avg_10', 'box_pos_out_avg_10', 'box_post_change_avg_10', 'box_races_10', 'box_wins_10', 'box_wins_last_10', 'box_weight_', 'box_min_time_', 'box_min_split_time_', 'box_last_start_price', 'box_last_start_prob', 'track_box_dist_last__10', 'track_box_box_last__10', 'track_box_speed_avg_10', 'track_box_split_speed_avg_10', 'track_box_split_margin_avg_10', 'track_box_margin_avg_10', 'track_box_margin_time_avg_10', 'track_box_RunHomeTime_10', 'track_box_run_home_speed_10', 'track_box_first_out_avg_10', 'track_box_pos_out_avg_10', 'track_box_post_change_avg_10', 'track_box_races_10', 'track_box_wins_10', 'track_box_wins_last_10', 'track_box_weight_', 'track_box_min_time_', 'track_box_min_split_time_', 'track_box_last_start_price', 'track_box_last_start_prob', 'track_dist_dist_last__10', 'track_dist_box_last__10', 'track_dist_speed_avg_10', 'track_dist_split_speed_avg_10', 'track_dist_split_margin_avg_10', 'track_dist_margin_avg_10', 'track_dist_margin_time_avg_10', 'track_dist_RunHomeTime_10', 'track_dist_run_home_speed_10', 'track_dist_first_out_avg_10', 'track_dist_pos_out_avg_10', 'track_dist_post_change_avg_10', 'track_dist_races_10', 'track_dist_wins_10', 'track_dist_wins_last_10', 'track_dist_weight_', 'track_dist_min_time_', 'track_dist_min_split_time_', 'track_dist_last_start_price', 'track_dist_last_start_prob'], 'races': ['NZ'], 'datafile': './data/gru_inputs_kitchen_sink_new_not_simple.fth', 'latest_date': '2024-01-31T00:00:00', 'input_type': 'basic', 'num_layers': 2, 'batch_size': 750, 'dropout': 0.3, 'epochs': 5000, 'learning_rate': 0.001, 'optimizer': 'adamW', 'f0_layer_size': 128, 'f1_layer_size': 128, 'training_date_end': '2023-01-01', 'notes': 'Testing new CONV layer', 'batch_days': 120, 'dist_last__1': 1, 'box_last__1': 1, 'speed_avg_1': 1, 'split_speed_v1_1': 0, 'split_speed_avg_1': 0, 'split_margin_avg_1': 1, 'margin_avg_1': 1, 'margin_time_avg_1': 1, 'RunHomeTime_1': 1, 'run_home_speed_1': 1, 'run_home_speed_v1_1': 0, 'first_out_avg_1': 1, 'pos_out_avg_1': 1, 'post_change_avg_1': 1, 'races_1': 0, 'wins_1': 0, 'wins_last_1': 1, 'weight_': 1, 'min_time_': 1, 'min_split_time_': 1, 'min_split_time_v1': 0, 'last_start_price': 0, 'last_start_prob': 1}\n",
      "basic\n",
      "[1, 1, 1, 1, 1, 1, 0, 0, 1, 1, 1, 1, 1, 0, 1, 1, 1, 0, 0, 1, 1, 1, 1, 0, 0, 1]\n",
      "tensor([ True,  True,  True,  True,  True,  True,  True,  True,  True,  True,\n",
      "         True,  True,  True,  True,  True,  True,  True,  True,  True,  True,\n",
      "         True,  True,  True,  True,  True,  True, False, False, False, False,\n",
      "        False, False, False, False, False, False, False, False, False, False,\n",
      "        False, False, False, False, False, False, False, False, False, False,\n",
      "        False, False, False, False, False, False, False, False, False, False,\n",
      "        False, False, False, False, False, False, False, False, False, False,\n",
      "        False, False, False, False, False, False, False, False, False, False,\n",
      "        False, False, False, False, False, False, False, False, False, False,\n",
      "        False, False, False, False, False, False, False, False, False, False,\n",
      "        False, False, False, False, False, False], device='cuda:0')\n",
      "torch.Size([106])\n",
      "Train examples 15593, Test examples 2423, Val examples 2833\n"
     ]
    },
    {
     "name": "stderr",
     "output_type": "stream",
     "text": [
      "100%|██████████| 4028/4028 [00:00<00:00, 55943.68it/s]\n",
      "100%|██████████| 4029/4029 [00:02<00:00, 1797.06it/s]\n"
     ]
    },
    {
     "name": "stdout",
     "output_type": "stream",
     "text": [
      "[(datetime.date(2019, 12, 1), datetime.date(2020, 3, 30)), (datetime.date(2020, 3, 30), datetime.date(2020, 7, 28)), (datetime.date(2020, 7, 28), datetime.date(2020, 11, 25)), (datetime.date(2020, 11, 25), datetime.date(2021, 3, 25)), (datetime.date(2021, 3, 25), datetime.date(2021, 7, 23)), (datetime.date(2021, 7, 23), datetime.date(2021, 11, 20)), (datetime.date(2021, 11, 20), datetime.date(2022, 3, 20)), (datetime.date(2022, 3, 20), datetime.date(2022, 7, 18)), (datetime.date(2022, 7, 18), datetime.date(2022, 11, 15)), (datetime.date(2022, 11, 15), datetime.date(2022, 12, 31))]\n",
      "2020-03-30\n",
      "2020-07-28\n",
      "2020-11-25\n",
      "2021-03-25\n",
      "2021-07-23\n",
      "2021-11-20\n",
      "2022-03-20\n",
      "2022-07-18\n",
      "2022-11-15\n",
      "2022-12-31\n",
      "Train examples [1800, 1365, 1861, 1811, 1748, 1516, 1624, 1639, 1571, 649]\n"
     ]
    },
    {
     "name": "stderr",
     "output_type": "stream",
     "text": [
      "100%|██████████| 4028/4028 [00:00<00:00, 5428.58it/s]\n",
      "100%|██████████| 4028/4028 [00:00<00:00, 7600.84it/s]\n",
      "100%|██████████| 4028/4028 [00:00<00:00, 5563.55it/s]\n",
      "100%|██████████| 4028/4028 [00:00<00:00, 5812.43it/s]\n",
      "100%|██████████| 4028/4028 [00:00<00:00, 5949.81it/s]\n",
      "100%|██████████| 4028/4028 [00:01<00:00, 2691.46it/s]\n",
      "100%|██████████| 4028/4028 [00:00<00:00, 6465.09it/s]\n",
      "100%|██████████| 4028/4028 [00:00<00:00, 6363.36it/s]\n",
      "100%|██████████| 4028/4028 [00:00<00:00, 6691.05it/s]\n",
      "100%|██████████| 4028/4028 [00:00<00:00, 15858.42it/s]\n",
      "100%|██████████| 10/10 [00:07<00:00,  1.42it/s]\n"
     ]
    },
    {
     "name": "stdout",
     "output_type": "stream",
     "text": [
      "Train examples [1457, 1376, 1423, 1373, 1361, 1339, 1260, 1237, 1218, 1005]\n",
      "Train examples [1457, 1376, 1423, 1373, 1361, 1339, 1260, 1237, 1218, 1005]\n",
      "Train examples [1800, 1365, 1861, 1811, 1748, 1516, 1624, 1639, 1571, 649]\n",
      "Train examples [1800, 1365, 1861, 1811, 1748, 1516, 1624, 1639, 1571, 649]\n",
      "here\n",
      "input_size=26\n"
     ]
    },
    {
     "name": "stderr",
     "output_type": "stream",
     "text": [
      "C:\\Users\\Nick\\AppData\\Local\\Temp\\ipykernel_7656\\2416197543.py:66: UserWarning: To copy construct from a tensor, it is recommended to use sourceTensor.clone().detach() or sourceTensor.clone().detach().requires_grad_(True), rather than torch.tensor(sourceTensor).\n",
      "  config['stat_mask_tensor'] = torch.tensor(stat_mask, dtype=torch.uint8).to(device)\n"
     ]
    },
    {
     "name": "stdout",
     "output_type": "stream",
     "text": [
      "GRUNetv4_extra_attn(\n",
      "  (gru): GRU(26, 256, num_layers=2, dropout=0.3)\n",
      "  (relu): ReLU()\n",
      "  (fc0): Linear(in_features=2118, out_features=2048, bias=True)\n",
      "  (batch_norm): BatchNorm1d(26, eps=1e-05, momentum=0.1, affine=True, track_running_stats=True)\n",
      "  (batch_norm_data): BatchNorm1d(26, eps=1e-05, momentum=0.1, affine=True, track_running_stats=True)\n",
      "  (attention): Dynamic_Attention(\n",
      "    (fc): Linear(in_features=256, out_features=256, bias=True)\n",
      "  )\n",
      "  (fc0_p1): Linear(in_features=256, out_features=256, bias=True)\n",
      "  (fc0_p1_drop): Dropout(p=0.3, inplace=False)\n",
      "  (fc0_p2): Linear(in_features=256, out_features=256, bias=True)\n",
      "  (fc0_p2_drop): Dropout(p=0.3, inplace=False)\n",
      "  (fc0_p3): Linear(in_features=256, out_features=256, bias=True)\n",
      "  (fc0_p3_drop): Dropout(p=0.3, inplace=False)\n",
      "  (relu0): ReLU()\n",
      "  (drop1): Dropout(p=0.3, inplace=False)\n",
      "  (fc1): Linear(in_features=2048, out_features=1024, bias=True)\n",
      "  (drop2): Dropout(p=0.3, inplace=False)\n",
      "  (fc2): Linear(in_features=1024, out_features=128, bias=True)\n",
      "  (drop3): Dropout(p=0.3, inplace=False)\n",
      "  (fc3): Linear(in_features=128, out_features=8, bias=True)\n",
      "  (price_fc2): Linear(in_features=1024, out_features=128, bias=True)\n",
      "  (price_drop3): Dropout(p=0.3, inplace=False)\n",
      "  (price_fc3): Linear(in_features=128, out_features=8, bias=True)\n",
      "  (output_fn): Identity()\n",
      ")\n"
     ]
    },
    {
     "name": "stderr",
     "output_type": "stream",
     "text": [
      "  0%|          | 0/5000 [00:00<?, ?it/s]"
     ]
    },
    {
     "name": "stdout",
     "output_type": "stream",
     "text": [
      "created path\n"
     ]
    },
    {
     "name": "stderr",
     "output_type": "stream",
     "text": [
      "  2%|▏         | 94/5000 [1:14:41<67:43:39, 49.70s/it]\u001b[34m\u001b[1mwandb\u001b[0m: Network error resolved after 0:00:01.212096, resuming normal operation.\n",
      "  2%|▏         | 96/5000 [1:16:46<65:21:40, 47.98s/it]\n"
     ]
    },
    {
     "name": "stdout",
     "output_type": "stream",
     "text": [
      "\n",
      "finished Early\n"
     ]
    },
    {
     "data": {
      "application/vnd.jupyter.widget-view+json": {
       "model_id": "50fd4fad19db4025953149360dc96242",
       "version_major": 2,
       "version_minor": 0
      },
      "text/plain": [
       "VBox(children=(Label(value='32.781 MB of 32.781 MB uploaded (0.413 MB deduped)\\r'), FloatProgress(value=1.0, m…"
      ]
     },
     "metadata": {},
     "output_type": "display_data"
    },
    {
     "data": {
      "text/html": [
       "W&B sync reduced upload amount by 1.3%             "
      ],
      "text/plain": [
       "<IPython.core.display.HTML object>"
      ]
     },
     "metadata": {},
     "output_type": "display_data"
    },
    {
     "data": {
      "text/html": [
       "<style>\n",
       "    table.wandb td:nth-child(1) { padding: 0 10px; text-align: left ; width: auto;} td:nth-child(2) {text-align: left ; width: 100%}\n",
       "    .wandb-row { display: flex; flex-direction: row; flex-wrap: wrap; justify-content: flex-start; width: 100% }\n",
       "    .wandb-col { display: flex; flex-direction: column; flex-basis: 100%; flex: 1; padding: 10px; }\n",
       "    </style>\n",
       "<div class=\"wandb-row\"><div class=\"wandb-col\"><h3>Run history:</h3><br/><table class=\"wandb\"><tr><td>ROI < 30</td><td>▅▇██▅▃▁▄▄▅▄▄▅▅▆▇▄▅▂▃▅▄▆▇▅▅▇▅▆▄▃▆▆▅▄▃▅▃▄▅</td></tr><tr><td>ROI < 30 2</td><td>▄▇█▇▄▅▄▅▄▆▄▅▅▄▆▆▄▃▁▄▅▄▆▆▅▄▇▅▇▆▄▅▄▆▆▄▆▄▆▇</td></tr><tr><td>accuracy</td><td>▁▁▁▁▁▇▇█▇█▇▇██▇█▇█▇███████████▇▇▇██████▇</td></tr><tr><td>accuracy2</td><td>▁▁▁▁▂▇▇▇▇▇▇████████▇█▇██████████████████</td></tr><tr><td>epoch</td><td>▁▁▁▁▂▂▂▂▂▃▃▃▃▃▃▄▄▄▄▄▅▅▅▅▅▅▆▆▆▆▆▇▇▇▇▇▇███</td></tr><tr><td>flat_simple</td><td>▆▆▆▆▁▄▁▆▄▆▄▂▅▆▄▇▄▄▄▇▃▃█▅▅▅▅▃▇▄▃▁▂▅▅▂▇▄▅▅</td></tr><tr><td>kelly roi</td><td>▅▆▆▆▆▃▁▄▄▅▄▃▅▅▆▅▄▅▄▂▅▅▅█▆▆▆▅▄▃▄▄▄▃▃▁▄▂▂▂</td></tr><tr><td>loss_1</td><td>██▇▇▇▆▆▅▄▅▅▅▅▄▅▅▅▄▃▅▄▃▅▄▅▄▃▄▄▅▄▂▄▄▄▄▁▃▄▁</td></tr><tr><td>loss_bfsp</td><td>▁▁▁▁▁▁▁▁▁▁▁▁▁▁▁▁▁▁▁▁▁▁▁▁▁▁▁▁▁▁▁▁▁▁▁▁▁▁▁▁</td></tr><tr><td>loss_p</td><td>████▇▂▂▂▂▁▁▁▁▁▁▁▁▁▁▁▁▁▁▁▁▁▁▁▁▁▁▁▁▁▁▁▁▁▁▁</td></tr><tr><td>loss_val</td><td>████▇▂▂▂▂▂▁▁▁▁▁▁▁▁▁▁▁▁▁▁▁▁▁▁▂▂▁▁▁▁▁▁▁▁▂▂</td></tr><tr><td>multibet outlay < 30</td><td>▄▃▃▃▄▂▂▁▁▁▂▂▁▁▁▁▂▁▂▃▂▂▃▂▂▂▃▃▇▆▄▄▄▄▅▆▆▅██</td></tr><tr><td>multibet profit</td><td>▆▇██▇▃▁▄▄▄▃▃▄▄▅▄▃▄▄▂▄▄▄▆▅▅▅▄▃▃▃▃▃▂▂▁▃▂▁▂</td></tr><tr><td>multibet profit < 30</td><td>▅▇██▅▃▁▄▄▅▄▄▄▄▆▇▄▅▂▃▅▄▆▇▅▅▇▅▇▄▃▆▆▅▄▃▅▃▄▆</td></tr><tr><td>multibet profit < 30 sd</td><td>█▆▆▆▆▂▁▂▁▂▂▁▁▁▂▁▂▁▁▁▁▂▁▂▂▂▂▂▅▄▂▂▃▂▃▃▃▄▅▅</td></tr><tr><td>profit_relu</td><td>▁▁▁▁▁▆▄▇▆▇▆▆▇▆▇▇▆▅▅▅▅▅▇█▅▆█▆█▄▄▆▆▅▅▄▆▄▄▅</td></tr><tr><td>relu roi</td><td>▆▆▆█▁▂▁▂▂▂▂▂▂▂▂▂▂▂▂▂▂▂▂▂▂▂▂▂▂▂▂▂▂▂▂▁▂▁▁▁</td></tr><tr><td>val_ROI < 30</td><td>▁▅▅▄▂▆▄▄▃▄▅▅▆▆▅▆▆▆▅▄▅▅▆▅▅▅▇▅█▅▅▆▆▆█▅▅▆▆▇</td></tr><tr><td>val_ROI < 30 2</td><td>▁▅▅▄▂▇▆▆▆▇▇▇█▇██▇█▇▇█▇▇▇▇▇█▆█▇▇▇▇▇█▆▇█▇▇</td></tr><tr><td>val_accuracy</td><td>▁▁▁▁▂▇▇▇▇▇▇████████▇█▇██████████████████</td></tr><tr><td>val_flat_simple</td><td>▁▁▁▁▂█▇▇▇▇▇▇▇▇██▇▇▇▇▇▇▇█▇█▇▆█▇▇██▇█▇███▇</td></tr><tr><td>val_kelly roi</td><td>▁▂▂▂▁▄▅▄▄▅▅▅▆▅▅▅▆▆▅▅▆▅▆▅▆▅▆▅█▇▆▆▆▆▇▆▆▆▆▇</td></tr><tr><td>val_loss_bfsp</td><td>▁▁▁▁▁▁▁▁▁▁▁▁▁▁▁▁▁▁▁▁▁▁▁▁▁▁▁▁▁▁▁▁▁▁▁▁▁▁▁▁</td></tr><tr><td>val_loss_p</td><td>████▇▂▂▂▂▁▁▁▁▁▁▁▁▁▁▁▁▁▁▁▁▁▁▁▁▁▁▁▁▁▁▁▁▁▁▂</td></tr><tr><td>val_loss_val</td><td>████▇▃▂▂▂▂▂▂▁▁▁▁▁▁▁▁▁▁▁▁▁▁▁▁▂▁▁▁▁▁▁▁▁▁▂▂</td></tr><tr><td>val_multibet outlay < 30</td><td>▃▂▂▂▃▂▂▁▁▂▂▂▁▁▁▁▂▁▁▃▂▁▃▂▁▂▃▃█▆▄▃▄▄▄▅▆▅▇█</td></tr><tr><td>val_multibet profit</td><td>▁▂▂▂▂▅▆▅▆▆▆▆▇▆▆▆▇▇▆▆▇▆▇▆▇▆▇▆█▇▇▇▇▇▇▇▇▇▇▇</td></tr><tr><td>val_multibet profit < 30</td><td>▁▅▅▄▂▆▄▄▄▄▅▅▆▆▅▆▆▆▅▄▅▅▆▅▆▅▇▅█▅▅▆▆▅█▅▅▆▅▆</td></tr><tr><td>val_multibet profit < 30 sd</td><td>▄▅▅▅▅▃▃▁▁▂▂▂▂▂▂▂▂▂▂▃▂▃▄▃▂▂▄▃█▅▃▃▃▄▅▅▅▅▆▇</td></tr><tr><td>val_profit_relu</td><td>████▁▃▂▂▃▄▄▄▅▅▄▄▅▅▅▄▅▅▅▄▆▆▅▅▆▆▆▅▅▅▆▅▄▅▅▄</td></tr><tr><td>val_relu roi</td><td>▃▇▇█▁▅▄▃▄▅▅▅▆▅▅▅▆▆▅▅▆▆▆▅▇▆▇▆█▆▆▆▆▅▇▆▅▆▆▆</td></tr></table><br/></div><div class=\"wandb-col\"><h3>Run summary:</h3><br/><table class=\"wandb\"><tr><td>ROI < 30 2</td><td>0.02124</td></tr><tr><td>accuracy2</td><td>0.33251</td></tr><tr><td>epoch</td><td>96</td></tr><tr><td>flat_simple</td><td>-35.40822</td></tr><tr><td>kelly roi</td><td>0.01845</td></tr><tr><td>loss_1</td><td>1.42438</td></tr><tr><td>loss_bfsp</td><td>1.945</td></tr><tr><td>loss_p</td><td>1.73964</td></tr><tr><td>multibet outlay < 30</td><td>40929.25014</td></tr><tr><td>multibet profit</td><td>534.03661</td></tr><tr><td>multibet profit < 30</td><td>917.73964</td></tr><tr><td>multibet profit < 30 sd</td><td>16.18178</td></tr><tr><td>profit_relu</td><td>1147.25916</td></tr><tr><td>val_ROI < 30</td><td>-0.03236</td></tr><tr><td>val_ROI < 30 2</td><td>-0.02046</td></tr><tr><td>val_accuracy</td><td>0.33251</td></tr><tr><td>val_flat_simple</td><td>-189.93079</td></tr><tr><td>val_kelly roi</td><td>-0.1046</td></tr><tr><td>val_loss_bfsp</td><td>1.94131</td></tr><tr><td>val_loss_p</td><td>1.73044</td></tr><tr><td>val_loss_val</td><td>1.77103</td></tr><tr><td>val_multibet outlay < 30</td><td>38540.76999</td></tr><tr><td>val_multibet profit</td><td>-4925.14967</td></tr><tr><td>val_multibet profit < 30</td><td>-1247.15558</td></tr><tr><td>val_multibet profit < 30 sd</td><td>16.73859</td></tr><tr><td>val_profit_relu</td><td>-6248.74567</td></tr><tr><td>val_relu roi</td><td>-0.11566</td></tr></table><br/></div></div>"
      ],
      "text/plain": [
       "<IPython.core.display.HTML object>"
      ]
     },
     "metadata": {},
     "output_type": "display_data"
    },
    {
     "data": {
      "text/html": [
       " View run <strong style=\"color:#cdcd00\">volcanic-microwave-498</strong> at: <a href='https://wandb.ai/nickojelly/NEW%20GRU%20V7/runs/0l4giw04' target=\"_blank\">https://wandb.ai/nickojelly/NEW%20GRU%20V7/runs/0l4giw04</a><br/>Synced 5 W&B file(s), 768 media file(s), 787 artifact file(s) and 0 other file(s)"
      ],
      "text/plain": [
       "<IPython.core.display.HTML object>"
      ]
     },
     "metadata": {},
     "output_type": "display_data"
    },
    {
     "data": {
      "text/html": [
       "Find logs at: <code>.\\wandb\\run-20240204_201533-0l4giw04\\logs</code>"
      ],
      "text/plain": [
       "<IPython.core.display.HTML object>"
      ]
     },
     "metadata": {},
     "output_type": "display_data"
    }
   ],
   "source": [
    "importlib.reload(training_testing_gru)\n",
    "importlib.reload(training_testing_lstm)\n",
    "importlib.reload(training_testing_gru_double)\n",
    "importlib.reload(rnn_tools.rnn_classes)\n",
    "importlib.reload(rnn_classes)\n",
    "importlib.reload(training_testing_gru_extra_data)\n",
    "\n",
    "(model,dataset, optimizer) = model_pipeline(raceDB,config=wandb_config_static,sweep=False)"
   ]
  },
  {
   "cell_type": "code",
   "execution_count": null,
   "metadata": {},
   "outputs": [],
   "source": [
    "future_mask = torch.triu(torch.ones(75, 75), diagonal=1)"
   ]
  },
  {
   "cell_type": "code",
   "execution_count": null,
   "metadata": {},
   "outputs": [],
   "source": [
    "# future_mask = future_mask.unsqueeze(1).expand(-1, 100, -1)\n",
    "future_mask.unsqueeze(1).expand(-1, 100, -1).shape"
   ]
  },
  {
   "cell_type": "code",
   "execution_count": null,
   "metadata": {},
   "outputs": [],
   "source": [
    "config = wandb_config_static"
   ]
  },
  {
   "cell_type": "code",
   "execution_count": null,
   "metadata": {},
   "outputs": [],
   "source": [
    "model = rnn_classes.LSTMNetv3_BN_double(22,config['hidden_size'], num_layers=config['num_layers'],fc0_size=config['f0_layer_size'], fc1_size=config['f1_layer_size'])"
   ]
  },
  {
   "cell_type": "code",
   "execution_count": null,
   "metadata": {},
   "outputs": [],
   "source": [
    "model = model.to('cuda:0')"
   ]
  },
  {
   "cell_type": "code",
   "execution_count": null,
   "metadata": {},
   "outputs": [],
   "source": [
    "sweep_config = {\"method\": \"grid\"}\n",
    "\n",
    "metric = {\"name\": \"ROI < 30\", \"goal\": \"maximize\"}\n",
    "\n",
    "sweep_config[\"metric\"] = metric\n",
    "\n",
    "\n",
    "parameters_dict = {\n",
    "    \"optimizer\": {\"value\": \"adamW\"},\n",
    "    \"batch_days\": {\"values\": [90,180,365,550,10000]},\n",
    "    \"f0_layer_size\": {\"values\": [128]},\n",
    "    \"f1_layer_size\": {\"values\": [64]},\n",
    "    \"dropout\": {\"values\": [0.3]},\n",
    "    \"input_type\": {\"values\": ['basic']},\n",
    "    \"num_layers\": {\"values\": [2]},\n",
    "    'hidden_size':{'values':[128]},\n",
    "    \"len_data\": {\"value\": len(raceDB.raceIDs)},\n",
    "    \"stats\":{\"value\": raceDB.stats_cols},\n",
    "    \"races\":{\"value\": states},\n",
    "    \"batch_size\":{\"value\": 10},\n",
    "}\n",
    "\n",
    "sweep_config[\"parameters\"] = parameters_dict\n",
    "\n",
    "parameters_dict.update(\n",
    "    {\n",
    "        \"epochs\": {\"values\": [1000]},\n",
    "        \"validation_split\": {\"value\": 0.1},\n",
    "        \"training_date_end\": {\"values\": \n",
    "                                [\n",
    "                                '2023-04-30',\n",
    "                                '2023-02-28',\n",
    "                                '2022-11-30',\n",
    "                                '2021-11-30'\n",
    "                                ]},\n",
    "        \"learning_rate\": {\"values\": [0.0003, 0.0001]},\n",
    "        \"label_smoothing\": {\"values\": [0.01,0.0]},\n",
    "        \"loss\": {\n",
    "            \"values\": [ \"CEL\"],\n",
    "        },\n",
    "    'dist_last__1': {'values': [0, 1]},\n",
    "    'box_last__1': {'values': [0, 1]},\n",
    "    'speed_avg_1': {'values': [0, 1]},\n",
    "    'split_speed_v1_1': {'values': [0, 1]},\n",
    "    'split_speed_avg_1': {'values': [0, 1]},\n",
    "    'split_margin_avg_1': {'values': [0, 1]},\n",
    "    'margin_avg_1': {'values': [0, 1]},\n",
    "    'margin_time_avg_1': {'values': [0, 1]},\n",
    "    'RunHomeTime_1': {'values': [0, 1]},\n",
    "    'run_home_speed_1': {'values': [0, 1]},\n",
    "    'run_home_speed_v1_1': {'values': [0, 1]},\n",
    "    'first_out_avg_1': {'values': [0, 1]},\n",
    "    'pos_out_avg_1': {'values': [0, 1]},\n",
    "    'post_change_avg_1': {'values': [0, 1]},\n",
    "    'races_1': {'values': [0, 1]},\n",
    "    'wins_1': {'values': [0, 1]},\n",
    "    'wins_last_1': {'values': [0, 1]},\n",
    "    'weight_': {'values': [0, 1]},\n",
    "    'min_time_': {'values': [0, 1]},\n",
    "    'min_split_time_': {'values': [0, 1]},\n",
    "    'min_split_time_v1': {'values': [0, 1]},\n",
    "    'last_start_price': {'values': [0, 1]},\n",
    "    'last_start_prob': {'values': [0, 1]}\n",
    "}\n",
    ")\n",
    "\n",
    "import pprint\n",
    "\n",
    "pprint.pprint(sweep_config)\n",
    "\n",
    "\n",
    "sweep_config"
   ]
  },
  {
   "cell_type": "code",
   "execution_count": null,
   "metadata": {},
   "outputs": [],
   "source": [
    "# wandb.agent('x9mz21wl', function=model_pipeline, count=100, project='NEW GRU-sweeps')"
   ]
  },
  {
   "attachments": {},
   "cell_type": "markdown",
   "metadata": {},
   "source": []
  },
  {
   "cell_type": "code",
   "execution_count": null,
   "metadata": {},
   "outputs": [],
   "source": []
  },
  {
   "cell_type": "code",
   "execution_count": null,
   "metadata": {},
   "outputs": [],
   "source": [
    "sweep_id = wandb.sweep(sweep_config, project=\"Variable Sweeps\")\n",
    "# CUDA_LAUNCH_BLOCKING=1\n",
    "wandb.agent(sweep_id, function=model_pipeline, count=1)"
   ]
  }
 ],
 "metadata": {
  "kernelspec": {
   "display_name": "PYTORCH",
   "language": "python",
   "name": "python3"
  },
  "language_info": {
   "codemirror_mode": {
    "name": "ipython",
    "version": 3
   },
   "file_extension": ".py",
   "mimetype": "text/x-python",
   "name": "python",
   "nbconvert_exporter": "python",
   "pygments_lexer": "ipython3",
   "version": "3.11.5"
  },
  "orig_nbformat": 4,
  "vscode": {
   "interpreter": {
    "hash": "8a48ca33c5a1168302a4f8eae355aad1c03b1396f568d40bc174a6e6aabe725d"
   }
  }
 },
 "nbformat": 4,
 "nbformat_minor": 2
}
