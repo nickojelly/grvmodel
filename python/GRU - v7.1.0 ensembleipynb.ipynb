{
 "cells": [
  {
   "cell_type": "code",
   "execution_count": 1,
   "metadata": {},
   "outputs": [
    {
     "name": "stdout",
     "output_type": "stream",
     "text": [
      "c:\\Users\\Nick\\Documents\\GitHub\\grvmodel\\python\n"
     ]
    }
   ],
   "source": [
    "import pickle\n",
    "import pandas as pd\n",
    "import os\n",
    "import setup\n",
    "\n",
    "import torch\n",
    "import numpy as np\n",
    "import torch.nn as nn\n",
    "import torch.nn.functional as F\n",
    "import torch.optim as optim\n",
    "from tqdm.notebook import tqdm, trange\n",
    "import torch.optim as optim\n",
    "from torch.utils.data import TensorDataset, DataLoader\n",
    "import wandb\n",
    "from torch.utils.data.sampler import SubsetRandomSampler\n",
    "import pprint\n",
    "import matplotlib.pyplot as plt\n",
    "import torch\n",
    "\n",
    "from sklearn.preprocessing import MinMaxScaler\n",
    "import math\n",
    "from torch.profiler import profile, record_function, ProfilerActivity\n",
    "\n",
    "from operator import itemgetter\n",
    "import operator\n",
    "from random import randint\n",
    "# from rnn_classes import Dog, DogInput, Race, Races, GRUNet, smallGRUNet, smalll_lin_GRUNet, smalll_prelin_GRUNet\n",
    "import rnn_tools.rnn_classes as rnn_classes\n",
    "from rnn_tools.raceDB import build_dataset\n",
    "import importlib\n",
    "import datetime\n",
    "from rnn_tools.model_saver import model_saver, model_saver_wandb\n",
    "import rnn_tools.training_testing_gru as training_testing_gru\n",
    "from torch.nn.utils.rnn import pack_padded_sequence, pack_sequence, pad_packed_sequence,pad_sequence, unpack_sequence, unpad_sequence\n",
    "import rnn_tools.training_testing_gru_double as training_testing_gru_double\n",
    "import rnn_tools.training_testing_lstm as training_testing_lstm\n",
    "from goto_conversion import goto_conversion\n",
    "\n",
    "import rnn_tools.training_testing_gru_extra_data as training_testing_gru_extra_data\n",
    "import rnn_tools.training_testing_gru_ensemble as training_testing_gru_ensemble"
   ]
  },
  {
   "cell_type": "code",
   "execution_count": 2,
   "metadata": {},
   "outputs": [
    {
     "name": "stdout",
     "output_type": "stream",
     "text": [
      "Running on the GPU\n"
     ]
    }
   ],
   "source": [
    "if torch.cuda.is_available():\n",
    "    device = torch.device(\"cuda:0\")  # you can continue going on here, like cuda:1 cuda:2....etc.\n",
    "    print(\"Running on the GPU\")\n",
    "else:\n",
    "    device = torch.device(\"cpu\")\n",
    "    print(\"Running on the CPU\")"
   ]
  },
  {
   "cell_type": "code",
   "execution_count": 3,
   "metadata": {},
   "outputs": [
    {
     "name": "stderr",
     "output_type": "stream",
     "text": [
      "c:\\Users\\Nick\\.conda\\envs\\python311\\Lib\\site-packages\\torch\\__init__.py:614: UserWarning: torch.set_default_tensor_type() is deprecated as of PyTorch 2.1, please use torch.set_default_dtype() and torch.set_default_device() as alternatives. (Triggered internally at C:\\cb\\pytorch_1000000000000\\work\\torch\\csrc\\tensor\\python_tensor.cpp:453.)\n",
      "  _C._set_default_tensor_type(t)\n"
     ]
    }
   ],
   "source": [
    "torch.set_default_tensor_type(torch.FloatTensor)"
   ]
  },
  {
   "cell_type": "code",
   "execution_count": 4,
   "metadata": {},
   "outputs": [
    {
     "data": {
      "text/plain": [
       "'2.1.1'"
      ]
     },
     "execution_count": 4,
     "metadata": {},
     "output_type": "execute_result"
    }
   ],
   "source": [
    "torch.__version__"
   ]
  },
  {
   "cell_type": "code",
   "execution_count": 5,
   "metadata": {},
   "outputs": [
    {
     "data": {
      "text/plain": [
       "['dist_last__1',\n",
       " 'box_last__1',\n",
       " 'speed_avg_1',\n",
       " 'split_speed_v1_1',\n",
       " 'split_speed_avg_1',\n",
       " 'split_margin_avg_1',\n",
       " 'margin_avg_1',\n",
       " 'margin_time_avg_1',\n",
       " 'RunHomeTime_1',\n",
       " 'run_home_speed_1',\n",
       " 'run_home_speed_v1_1',\n",
       " 'first_out_avg_1',\n",
       " 'pos_out_avg_1',\n",
       " 'post_change_avg_1',\n",
       " 'races_1',\n",
       " 'wins_1',\n",
       " 'wins_last_1',\n",
       " 'weight_',\n",
       " 'min_time_',\n",
       " 'min_split_time_',\n",
       " 'min_split_time_v1',\n",
       " 'last_start_price',\n",
       " 'last_start_prob']"
      ]
     },
     "execution_count": 5,
     "metadata": {},
     "output_type": "execute_result"
    }
   ],
   "source": [
    "['dist_last__1', 'box_last__1', 'speed_avg_1', 'split_speed_v1_1', 'split_speed_avg_1', 'split_margin_avg_1', 'margin_avg_1', 'margin_time_avg_1', 'RunHomeTime_1', 'run_home_speed_1', 'run_home_speed_v1_1', 'first_out_avg_1', 'pos_out_avg_1', 'post_change_avg_1', 'races_1', 'wins_1', 'wins_last_1', 'weight_', 'min_time_', 'min_split_time_', 'min_split_time_v1', 'last_start_price', 'last_start_prob']"
   ]
  },
  {
   "cell_type": "code",
   "execution_count": 6,
   "metadata": {},
   "outputs": [],
   "source": [
    "def custom_l2(output, target):\n",
    "    loss = torch.mean(abs(output-target), dim=1)\n",
    "    return loss"
   ]
  },
  {
   "cell_type": "code",
   "execution_count": 7,
   "metadata": {},
   "outputs": [],
   "source": [
    "def validation_CLE(x,y):\n",
    "    loss_t = -torch.log(torch.exp(x)/torch.sum(torch.exp(x), dim=-1, keepdim=True))*y\n",
    "    return loss_t"
   ]
  },
  {
   "cell_type": "code",
   "execution_count": 8,
   "metadata": {},
   "outputs": [],
   "source": [
    "tracks = ['Sandown Park',\n",
    " 'The Meadows',\n",
    " 'Warragul',\n",
    " 'Geelong',\n",
    " 'Sale',\n",
    " 'Ballarat',\n",
    " 'Bendigo',\n",
    " 'Cranbourne']"
   ]
  },
  {
   "cell_type": "code",
   "execution_count": 9,
   "metadata": {},
   "outputs": [
    {
     "name": "stdout",
     "output_type": "stream",
     "text": [
      "c:\\Users\\Nick\\Documents\\GitHub\\grvmodel\\python\n",
      "[['inside', 'midfield', 'wide', 'weight', 'DogGrade', '_dist_last__1', '_box_last__1', '_speed_avg_1', '_split_speed_avg_1', '_split_margin_avg_1', '_margin_avg_1', '_margin_time_avg_1', '_RunHomeTime_1', '_run_home_speed_1', '_first_out_avg_1', '_pos_out_avg_1', '_post_change_avg_1', '_races_1', '_wins_1', '_wins_last_1', '_weight_', '_min_time_', '_min_split_time_', '_last_start_price', '_last_start_prob', 'dist_dist_last__10', 'dist_box_last__10', 'dist_speed_avg_10', 'dist_split_speed_avg_10', 'dist_split_margin_avg_10', 'dist_margin_avg_10', 'dist_margin_time_avg_10', 'dist_RunHomeTime_10', 'dist_run_home_speed_10', 'dist_first_out_avg_10', 'dist_pos_out_avg_10', 'dist_post_change_avg_10', 'dist_races_10', 'dist_wins_10', 'dist_wins_last_10', 'dist_weight_', 'dist_min_time_', 'dist_min_split_time_', 'dist_last_start_price', 'dist_last_start_prob', 'box_dist_last__10', 'box_box_last__10', 'box_speed_avg_10', 'box_split_speed_avg_10', 'box_split_margin_avg_10', 'box_margin_avg_10', 'box_margin_time_avg_10', 'box_RunHomeTime_10', 'box_run_home_speed_10', 'box_first_out_avg_10', 'box_pos_out_avg_10', 'box_post_change_avg_10', 'box_races_10', 'box_wins_10', 'box_wins_last_10', 'box_weight_', 'box_min_time_', 'box_min_split_time_', 'box_last_start_price', 'box_last_start_prob', 'track_box_dist_last__10', 'track_box_box_last__10', 'track_box_speed_avg_10', 'track_box_split_speed_avg_10', 'track_box_split_margin_avg_10', 'track_box_margin_avg_10', 'track_box_margin_time_avg_10', 'track_box_RunHomeTime_10', 'track_box_run_home_speed_10', 'track_box_first_out_avg_10', 'track_box_pos_out_avg_10', 'track_box_post_change_avg_10', 'track_box_races_10', 'track_box_wins_10', 'track_box_wins_last_10', 'track_box_weight_', 'track_box_min_time_', 'track_box_min_split_time_', 'track_box_last_start_price', 'track_box_last_start_prob', 'track_dist_dist_last__10', 'track_dist_box_last__10', 'track_dist_speed_avg_10', 'track_dist_split_speed_avg_10', 'track_dist_split_margin_avg_10', 'track_dist_margin_avg_10', 'track_dist_margin_time_avg_10', 'track_dist_RunHomeTime_10', 'track_dist_run_home_speed_10', 'track_dist_first_out_avg_10', 'track_dist_pos_out_avg_10', 'track_dist_post_change_avg_10', 'track_dist_races_10', 'track_dist_wins_10', 'track_dist_wins_last_10', 'track_dist_weight_', 'track_dist_min_time_', 'track_dist_min_split_time_', 'track_dist_last_start_price', 'track_dist_last_start_prob']]\n",
      "(1517094, 25)\n",
      "106\n",
      "Latest date = 2024-01-31 00:00:00\n",
      "size after state filter (156607, 27)\n",
      "(156607, 27)\n",
      "Latest date = 2024-01-31 00:00:00\n",
      "num_features_per_dog=106\n",
      "___Processing 4028 unique dogs___\n"
     ]
    },
    {
     "name": "stderr",
     "output_type": "stream",
     "text": [
      "100%|██████████| 25/25 [00:00<?, ?it/s]\n",
      "c:\\Users\\Nick\\Documents\\GitHub\\grvmodel\\python\\rnn_tools\\rnn_classes.py:389: UserWarning: To copy construct from a tensor, it is recommended to use sourceTensor.clone().detach() or sourceTensor.clone().detach().requires_grad_(True), rather than torch.tensor(sourceTensor).\n",
      "  r.prob = torch.tensor((1/(torch.tensor(r.start_prices)+0.0001))/((1/torch.tensor(r.start_prices)).sum()+0.0001),device=self.device)\n"
     ]
    },
    {
     "name": "stdout",
     "output_type": "stream",
     "text": [
      "number of races = 20849, number of unique dogs = 4029\n",
      "0            (Wanganui, 305.0)\n",
      "1        (Christchurch, 520.0)\n",
      "2        (Christchurch, 295.0)\n",
      "3        (Christchurch, 295.0)\n",
      "4            (Auckland, 318.0)\n",
      "                 ...          \n",
      "20844    (Christchurch, 295.0)\n",
      "20845    (Christchurch, 520.0)\n",
      "20846    (Christchurch, 520.0)\n",
      "20847    (Christchurch, 520.0)\n",
      "20848    (Christchurch, 295.0)\n",
      "Length: 20849, dtype: object\n"
     ]
    }
   ],
   "source": [
    "os.getcwd()\n",
    "import rnn_tools.raceDB\n",
    "importlib.reload(rnn_tools.raceDB)\n",
    "# os.chdir(r\"C:\\Users\\Nick\\Documents\\GitHub\\grvmodel\\Python\\DATA\")                                                                                                                                                                                                                                                                                                                             \n",
    "date = datetime.datetime.strptime(\"2022-01-01\", \"%Y-%m-%d\").date()\n",
    "hidden_size = 32\n",
    "states = [\"NZ\"]\n",
    "data_file = './data/gru_inputs_kitchen_sink_new_not_simple.fth'\n",
    "raceDB = rnn_tools.raceDB.build_dataset(data_file, hidden_size,state_filter=states, margin_type='boosted_sftmin',v6=True)\n",
    "raceDB.create_new_weights_v2()"
   ]
  },
  {
   "cell_type": "code",
   "execution_count": 10,
   "metadata": {},
   "outputs": [],
   "source": [
    "raceDB.stats_cols = eval(raceDB.stats_cols)[0]"
   ]
  },
  {
   "cell_type": "code",
   "execution_count": 11,
   "metadata": {},
   "outputs": [],
   "source": [
    "# raceDB.stats_cols = ['box']+raceDB.stats_cols"
   ]
  },
  {
   "cell_type": "code",
   "execution_count": 12,
   "metadata": {},
   "outputs": [
    {
     "name": "stdout",
     "output_type": "stream",
     "text": [
      "0 inside\n",
      "1 midfield\n",
      "2 wide\n",
      "3 weight\n",
      "4 DogGrade\n",
      "5 _dist_last__1\n",
      "6 _box_last__1\n",
      "7 _speed_avg_1\n",
      "8 _split_speed_avg_1\n",
      "9 _split_margin_avg_1\n",
      "10 _margin_avg_1\n",
      "11 _margin_time_avg_1\n",
      "12 _RunHomeTime_1\n",
      "13 _run_home_speed_1\n",
      "14 _first_out_avg_1\n",
      "15 _pos_out_avg_1\n",
      "16 _post_change_avg_1\n",
      "17 _races_1\n",
      "18 _wins_1\n",
      "19 _wins_last_1\n",
      "20 _weight_\n",
      "21 _min_time_\n",
      "22 _min_split_time_\n",
      "23 _last_start_price\n",
      "24 _last_start_prob\n",
      "25 dist_dist_last__10\n",
      "26 dist_box_last__10\n",
      "27 dist_speed_avg_10\n",
      "28 dist_split_speed_avg_10\n",
      "29 dist_split_margin_avg_10\n",
      "30 dist_margin_avg_10\n",
      "31 dist_margin_time_avg_10\n",
      "32 dist_RunHomeTime_10\n",
      "33 dist_run_home_speed_10\n",
      "34 dist_first_out_avg_10\n",
      "35 dist_pos_out_avg_10\n",
      "36 dist_post_change_avg_10\n",
      "37 dist_races_10\n",
      "38 dist_wins_10\n",
      "39 dist_wins_last_10\n",
      "40 dist_weight_\n",
      "41 dist_min_time_\n",
      "42 dist_min_split_time_\n",
      "43 dist_last_start_price\n",
      "44 dist_last_start_prob\n",
      "45 box_dist_last__10\n",
      "46 box_box_last__10\n",
      "47 box_speed_avg_10\n",
      "48 box_split_speed_avg_10\n",
      "49 box_split_margin_avg_10\n",
      "50 box_margin_avg_10\n",
      "51 box_margin_time_avg_10\n",
      "52 box_RunHomeTime_10\n",
      "53 box_run_home_speed_10\n",
      "54 box_first_out_avg_10\n",
      "55 box_pos_out_avg_10\n",
      "56 box_post_change_avg_10\n",
      "57 box_races_10\n",
      "58 box_wins_10\n",
      "59 box_wins_last_10\n",
      "60 box_weight_\n",
      "61 box_min_time_\n",
      "62 box_min_split_time_\n",
      "63 box_last_start_price\n",
      "64 box_last_start_prob\n",
      "65 track_box_dist_last__10\n",
      "66 track_box_box_last__10\n",
      "67 track_box_speed_avg_10\n",
      "68 track_box_split_speed_avg_10\n",
      "69 track_box_split_margin_avg_10\n",
      "70 track_box_margin_avg_10\n",
      "71 track_box_margin_time_avg_10\n",
      "72 track_box_RunHomeTime_10\n",
      "73 track_box_run_home_speed_10\n",
      "74 track_box_first_out_avg_10\n",
      "75 track_box_pos_out_avg_10\n",
      "76 track_box_post_change_avg_10\n",
      "77 track_box_races_10\n",
      "78 track_box_wins_10\n",
      "79 track_box_wins_last_10\n",
      "80 track_box_weight_\n",
      "81 track_box_min_time_\n",
      "82 track_box_min_split_time_\n",
      "83 track_box_last_start_price\n",
      "84 track_box_last_start_prob\n",
      "85 track_dist_dist_last__10\n",
      "86 track_dist_box_last__10\n",
      "87 track_dist_speed_avg_10\n",
      "88 track_dist_split_speed_avg_10\n",
      "89 track_dist_split_margin_avg_10\n",
      "90 track_dist_margin_avg_10\n",
      "91 track_dist_margin_time_avg_10\n",
      "92 track_dist_RunHomeTime_10\n",
      "93 track_dist_run_home_speed_10\n",
      "94 track_dist_first_out_avg_10\n",
      "95 track_dist_pos_out_avg_10\n",
      "96 track_dist_post_change_avg_10\n",
      "97 track_dist_races_10\n",
      "98 track_dist_wins_10\n",
      "99 track_dist_wins_last_10\n",
      "100 track_dist_weight_\n",
      "101 track_dist_min_time_\n",
      "102 track_dist_min_split_time_\n",
      "103 track_dist_last_start_price\n",
      "104 track_dist_last_start_prob\n"
     ]
    }
   ],
   "source": [
    "for i,s in enumerate(raceDB.stats_cols):\n",
    "    print(i,s)"
   ]
  },
  {
   "cell_type": "code",
   "execution_count": 13,
   "metadata": {},
   "outputs": [],
   "source": [
    "from rnn_tools.rnn_classes import Races,Dog, DogInput, Race"
   ]
  },
  {
   "cell_type": "code",
   "execution_count": 14,
   "metadata": {},
   "outputs": [],
   "source": [
    "import rnn_tools.raceDB"
   ]
  },
  {
   "cell_type": "code",
   "execution_count": 15,
   "metadata": {},
   "outputs": [
    {
     "data": {
      "text/plain": [
       "[datetime.date(2020, 2, 2),\n",
       " datetime.date(2020, 2, 2),\n",
       " datetime.date(2020, 2, 2),\n",
       " datetime.date(2020, 2, 2),\n",
       " datetime.date(2020, 2, 2),\n",
       " datetime.date(2020, 2, 2),\n",
       " datetime.date(2020, 2, 3),\n",
       " datetime.date(2020, 2, 3),\n",
       " datetime.date(2020, 2, 3),\n",
       " datetime.date(2020, 2, 3),\n",
       " datetime.date(2020, 2, 3),\n",
       " datetime.date(2020, 2, 3),\n",
       " datetime.date(2020, 2, 3),\n",
       " datetime.date(2020, 2, 3),\n",
       " datetime.date(2020, 2, 3),\n",
       " datetime.date(2020, 2, 3),\n",
       " datetime.date(2020, 2, 3),\n",
       " datetime.date(2020, 2, 3),\n",
       " datetime.date(2020, 2, 3),\n",
       " datetime.date(2020, 2, 3),\n",
       " datetime.date(2020, 2, 3),\n",
       " datetime.date(2020, 2, 4),\n",
       " datetime.date(2020, 2, 4),\n",
       " datetime.date(2020, 2, 4),\n",
       " datetime.date(2020, 2, 4),\n",
       " datetime.date(2020, 2, 4),\n",
       " datetime.date(2020, 2, 4),\n",
       " datetime.date(2020, 2, 4),\n",
       " datetime.date(2020, 2, 4),\n",
       " datetime.date(2020, 2, 4),\n",
       " datetime.date(2020, 2, 4),\n",
       " datetime.date(2020, 2, 4),\n",
       " datetime.date(2020, 2, 4),\n",
       " datetime.date(2020, 2, 4),\n",
       " datetime.date(2020, 2, 4),\n",
       " datetime.date(2020, 2, 4),\n",
       " datetime.date(2020, 2, 4),\n",
       " datetime.date(2020, 2, 4),\n",
       " datetime.date(2020, 2, 4),\n",
       " datetime.date(2020, 2, 4),\n",
       " datetime.date(2020, 2, 4),\n",
       " datetime.date(2020, 2, 4),\n",
       " datetime.date(2020, 2, 4),\n",
       " datetime.date(2020, 2, 4),\n",
       " datetime.date(2020, 2, 5),\n",
       " datetime.date(2020, 2, 5),\n",
       " datetime.date(2020, 2, 5),\n",
       " datetime.date(2020, 2, 5),\n",
       " datetime.date(2020, 2, 5),\n",
       " datetime.date(2020, 2, 5),\n",
       " datetime.date(2020, 2, 5),\n",
       " datetime.date(2020, 2, 5),\n",
       " datetime.date(2020, 2, 5),\n",
       " datetime.date(2020, 2, 5),\n",
       " datetime.date(2020, 2, 5),\n",
       " datetime.date(2020, 2, 5),\n",
       " datetime.date(2020, 2, 5),\n",
       " datetime.date(2020, 2, 5),\n",
       " datetime.date(2020, 2, 6),\n",
       " datetime.date(2020, 2, 6),\n",
       " datetime.date(2020, 2, 6),\n",
       " datetime.date(2020, 2, 6),\n",
       " datetime.date(2020, 2, 6),\n",
       " datetime.date(2020, 2, 6),\n",
       " datetime.date(2020, 2, 6),\n",
       " datetime.date(2020, 2, 6),\n",
       " datetime.date(2020, 2, 6),\n",
       " datetime.date(2020, 2, 6),\n",
       " datetime.date(2020, 2, 6),\n",
       " datetime.date(2020, 2, 6),\n",
       " datetime.date(2020, 2, 6),\n",
       " datetime.date(2020, 2, 6),\n",
       " datetime.date(2020, 2, 6),\n",
       " datetime.date(2020, 2, 6),\n",
       " datetime.date(2020, 2, 6),\n",
       " datetime.date(2020, 2, 6),\n",
       " datetime.date(2020, 2, 6),\n",
       " datetime.date(2020, 2, 6),\n",
       " datetime.date(2020, 2, 6),\n",
       " datetime.date(2020, 2, 6),\n",
       " datetime.date(2020, 2, 6),\n",
       " datetime.date(2020, 2, 6),\n",
       " datetime.date(2020, 2, 6),\n",
       " datetime.date(2020, 2, 7),\n",
       " datetime.date(2020, 2, 7),\n",
       " datetime.date(2020, 2, 7),\n",
       " datetime.date(2020, 2, 7),\n",
       " datetime.date(2020, 2, 7),\n",
       " datetime.date(2020, 2, 7),\n",
       " datetime.date(2020, 2, 7),\n",
       " datetime.date(2020, 2, 7),\n",
       " datetime.date(2020, 2, 7),\n",
       " datetime.date(2020, 2, 7),\n",
       " datetime.date(2020, 2, 7),\n",
       " datetime.date(2020, 2, 7),\n",
       " datetime.date(2020, 2, 7),\n",
       " datetime.date(2020, 2, 7),\n",
       " datetime.date(2020, 2, 7),\n",
       " datetime.date(2020, 2, 7),\n",
       " datetime.date(2020, 2, 7)]"
      ]
     },
     "execution_count": 15,
     "metadata": {},
     "output_type": "execute_result"
    }
   ],
   "source": [
    "races = raceDB.get_race_input(range(1000,1100))\n",
    "[r.race_date for r in races]"
   ]
  },
  {
   "cell_type": "code",
   "execution_count": 16,
   "metadata": {},
   "outputs": [],
   "source": [
    "stat_list = ['dist_last__1', 'box_last__1', 'speed_avg_1', 'split_speed_v1_1', 'split_speed_avg_1', 'split_margin_avg_1', 'margin_avg_1', 'margin_time_avg_1', 'RunHomeTime_1', 'run_home_speed_1', 'run_home_speed_v1_1', 'first_out_avg_1', 'pos_out_avg_1', 'post_change_avg_1', 'races_1', 'wins_1', 'wins_last_1', 'weight_', 'min_time_', 'min_split_time_', 'min_split_time_v1', 'last_start_price', 'last_start_prob']\n"
   ]
  },
  {
   "cell_type": "code",
   "execution_count": 17,
   "metadata": {},
   "outputs": [],
   "source": [
    "def closure(optimizer, criterion, outs, classes):\n",
    "    optimizer.zero_grad()\n",
    "    loss = nn.functional.mse_loss(outs, classes)\n",
    "    loss.backward()\n",
    "    return loss\n",
    "\n",
    "def model_pipeline(my_dataset=raceDB,config=None,prev_model=None, sweep=True, model_state_dict=None, prev_model_file=None, prev_model_version='450'):\n",
    "    if my_dataset:\n",
    "      dataset = my_dataset    \n",
    "    else:\n",
    "      dataset = raceDB\n",
    "    # tell wandb to get started\n",
    "    with wandb.init(project=\"NEW GRU V7 Ensemble\", config=config,save_code=False):\n",
    "      #  access all HPs through wandb.config, so logging matches execution!\n",
    "      wandb.define_metric(\"loss_val\", summary=\"min\")\n",
    "      wandb.define_metric(\"accuracy\", summary=\"max\")\n",
    "      wandb.define_metric(\"ROI < 30\", summary=\"max\")\n",
    "      wandb.define_metric(\"relu roi\", summary=\"max\")\n",
    "      \n",
    "      config = wandb.config\n",
    "      pprint.pprint(config)\n",
    "      pprint.pprint(config.epochs)\n",
    "      print(config)\n",
    "      wandb.run.log_code('rnn_tools/')\n",
    "      # input_size = raceDB.get_race_input([0,1])[0].full_input.shape[0] #create fix so messy\n",
    "      print(config.input_type)\n",
    "\n",
    "      for i in config.stat_list_dict.values():\n",
    "        print(i)\n",
    "\n",
    "      reg_stat_mask = []\n",
    "      for stat,flag in config.stat_list_dict.items():\n",
    "          stat_flag = flag\n",
    "          reg_stat_mask = reg_stat_mask+[stat_flag]\n",
    "\n",
    "      print(reg_stat_mask)\n",
    "      stat_mask = [1]*6+reg_stat_mask+[0]*80\n",
    "      data_mask = [0]*26+[1]*20+[1]*20+[1]*20+[1]*20 # Reg, Dist, Box, T_box, T_dist\n",
    "      data_mask = [1]*6+reg_stat_mask+[0]*20+[0]*20+[0]*20+[0]*20 # Reg, Dist, Box, T_box, T_dist\n",
    "      data_mask_size = sum(data_mask)\n",
    "      print(f\"{data_mask_size=}\")\n",
    "      stat_mask = torch.tensor(stat_mask).type(torch.bool).to(device)\n",
    "      data_mask = torch.tensor(data_mask).type(torch.bool).to(device)\n",
    "      # stat_mask = torch.ones_like(stat_mask).type(torch.bool).to(device)\n",
    "\n",
    "      print(stat_mask)\n",
    "      print(stat_mask.shape)\n",
    "\n",
    "      if 'batch_days' in config.keys():\n",
    "        pass\n",
    "        raceDB.create_test_split_date(config['training_date_end'],val_date='2023-07-01')\n",
    "        raceDB.create_dogs_test_split_date()\n",
    "        raceDB.attach_races_to_dog_inputv2() \n",
    "        raceDB.reset_hidden()\n",
    "        raceDB.create_batches(batch_days=config['batch_days'], end_date = config['training_date_end'], stat_mask=stat_mask,data_mask=data_mask)\n",
    "\n",
    "      if config['input_type'] == 'basic':\n",
    "          print('here')\n",
    "          raceDB.batches['packed_x'] = raceDB.batches['packed_x_basic']\n",
    "          raceDB.batches['packed_y'] = raceDB.batches['packed_y_basic']\n",
    "          raceDB.batches['packed_v'] = raceDB.batches['packed_v_basic']\n",
    "          input_size = raceDB.batches['packed_x'][0].data[0].shape[0]\n",
    "\n",
    "      # for race in raceDB.racesDict.values():\n",
    "      #     for dog_input in race.dogs:\n",
    "      #       dog_input.stats_masked = dog_input.stats.masked_select(stat_mask) \n",
    "\n",
    "      num_batches = len(raceDB.batches['packed_x'])\n",
    "      print(f\"{input_size=}\")\n",
    "      print(f\"Num batches {len(raceDB.batches['packed_x'])}\")\n",
    "      config['stat_mask_tensor'] = torch.tensor(stat_mask, dtype=torch.uint8).to(device)     \n",
    "      raceDB.reset_hidden(num_layers=config['num_layers'], hidden_size=config['hidden_size'])\n",
    "      model = rnn_classes.GRUNetv4_stacking(raceDB,input_size,config['hidden_size'],num_models=num_batches-1, num_layers=config['num_layers'],fc0_size=config['f0_layer_size'], fc1_size=config['f1_layer_size'],data_mask_size=data_mask_size)\n",
    "      optimizer = optim.AdamW(model.parameters(), lr=config['learning_rate'])\n",
    "\n",
    "\n",
    "      model_loc = f\"C:/Users/Nick/Documents/GitHub/grvmodel/Python/pytorch/New Model/savedmodel/cerulean-plant-39/cerulean-plant-39_160.pt\"\n",
    "      model_data = torch.load(model_loc,map_location=torch.device('cuda:0'))\n",
    "      print(model_data['model_state_dict'].keys())\n",
    "      for m in model.model_list:\n",
    "        m.load_state_dict(model_data['model_state_dict'], strict=True)\n",
    "\n",
    "      raceDB.to_cuda()\n",
    "      criterion = nn.CrossEntropyLoss(reduction='none')\n",
    "      optimizer = optim.RAdam(model.parameters(), lr=config['learning_rate'])\n",
    "\n",
    "      model = model.to(device)\n",
    "      # print(model)\n",
    "\n",
    "      # and use them to train the model\n",
    "      # wandb.watch(model, log='all')\n",
    "      try:\n",
    "        # train_double_loss_regular(model, dataset, criterion, optimizer, scheduler, config, crit2=custom_l2)\n",
    "        training_testing_gru_ensemble.train_double_v3(model, dataset, criterion, optimizer, 'na', config)\n",
    "      except (KeyboardInterrupt) as error:\n",
    "        print(error)\n",
    "        print(\"finished Early\")\n",
    "        \n",
    "      # dataset.create_hidden_states_dict()\n",
    "      raceDB.create_hidden_states_dict_v2()\n",
    "      model_saver_wandb(model, optimizer, 450, 0.1, raceDB.hidden_states_dict_gru_v6,raceDB.train_hidden_dict , model_name=\"long nsw new  22000 RUN\")\n",
    "      if sweep:\n",
    "        # raceDB.reset_all_lstm_states\n",
    "        raceDB.reset_hidden()\n",
    "    \n",
    "\n",
    "\n",
    "    # and test its final performance\n",
    "    #test(model, test_loader)\n",
    "\n",
    "    return (model,dataset, optimizer)"
   ]
  },
  {
   "cell_type": "code",
   "execution_count": 18,
   "metadata": {},
   "outputs": [],
   "source": [
    "stat_list_dict = {'_dist_last__1':1,\n",
    "    '_box_last__1':1,\n",
    "    '_speed_avg_1':1,\n",
    "    '_split_speed_avg_1':1,\n",
    "    '_split_margin_avg_1':1,\n",
    "    '_margin_avg_1':1,\n",
    "    '_margin_time_avg_1':1,\n",
    "    '_RunHomeTime_1':1,\n",
    "    '_run_home_speed_1':1,\n",
    "    '_first_out_avg_1':1,\n",
    "    '_pos_out_avg_1':1,\n",
    "    '_post_change_avg_1':1,\n",
    "    '_races_1':1,\n",
    "    '_wins_1':1,\n",
    "    '_wins_last_1':1,\n",
    "    '_weight_':1,\n",
    "    '_min_time_':1,\n",
    "    '_min_split_time_':1,\n",
    "    '_last_start_price':1,\n",
    "    '_last_start_prob':1,\n",
    "}\n",
    "\n",
    "wandb_config_static = {\n",
    "    'hidden_size': 256,\n",
    "    'stats': raceDB.stats_cols,\n",
    "    'races': states,\n",
    "    'datafile': data_file,\n",
    "    'latest_date': raceDB.latest_date,\n",
    "    'input_type': 'basic',\n",
    "    'num_layers': 2,\n",
    "    'batch_size': 750,\n",
    "    'dropout': 0.3,\n",
    "    'epochs': 1500,\n",
    "    'learning_rate': 0.001,\n",
    "    'optimizer': 'adamW',\n",
    "    'f0_layer_size': 128,\n",
    "    'f1_layer_size': 64,\n",
    "    'training_date_end': '2023-01-01',\n",
    "    'notes':'GRU, with basic add on data looped in',\n",
    "    'batch_days': 180,\n",
    "    'stat_list_dict': stat_list_dict,\n",
    "}"
   ]
  },
  {
   "cell_type": "code",
   "execution_count": 19,
   "metadata": {},
   "outputs": [],
   "source": [
    "raceDB.reset_hidden(num_layers=wandb_config_static['num_layers'], hidden_size=wandb_config_static['hidden_size'])"
   ]
  },
  {
   "cell_type": "code",
   "execution_count": 20,
   "metadata": {},
   "outputs": [],
   "source": [
    "torch.cuda.empty_cache()"
   ]
  },
  {
   "cell_type": "code",
   "execution_count": 21,
   "metadata": {},
   "outputs": [],
   "source": [
    "raceDB.race_prices_to_prob()"
   ]
  },
  {
   "cell_type": "code",
   "execution_count": 22,
   "metadata": {},
   "outputs": [
    {
     "data": {
      "text/plain": [
       "Timestamp('2024-01-31 00:00:00')"
      ]
     },
     "execution_count": 22,
     "metadata": {},
     "output_type": "execute_result"
    }
   ],
   "source": [
    "raceDB.latest_date"
   ]
  },
  {
   "cell_type": "code",
   "execution_count": 23,
   "metadata": {},
   "outputs": [],
   "source": [
    "# for i in raceDB.racesDict.values():\n",
    "#     if i.win_price_weightv2.isnan():\n",
    "#         # print(i)\n",
    "#         i.win_price_weightv2 = torch.tensor(0.5).to('cuda:0')"
   ]
  },
  {
   "cell_type": "code",
   "execution_count": 24,
   "metadata": {},
   "outputs": [],
   "source": [
    "# [[(d.hidden_out.shape, d.dog.dogid) for d in race.dogs] for race in raceDB.batches['batch_races'][0]]"
   ]
  },
  {
   "cell_type": "code",
   "execution_count": 25,
   "metadata": {},
   "outputs": [
    {
     "name": "stderr",
     "output_type": "stream",
     "text": [
      "Failed to detect the name of this notebook, you can set it manually with the WANDB_NOTEBOOK_NAME environment variable to enable code saving.\n",
      "\u001b[34m\u001b[1mwandb\u001b[0m: Currently logged in as: \u001b[33mnickojelly\u001b[0m. Use \u001b[1m`wandb login --relogin`\u001b[0m to force relogin\n"
     ]
    },
    {
     "data": {
      "text/html": [
       "wandb version 0.16.3 is available!  To upgrade, please run:\n",
       " $ pip install wandb --upgrade"
      ],
      "text/plain": [
       "<IPython.core.display.HTML object>"
      ]
     },
     "metadata": {},
     "output_type": "display_data"
    },
    {
     "data": {
      "text/html": [
       "Tracking run with wandb version 0.16.2"
      ],
      "text/plain": [
       "<IPython.core.display.HTML object>"
      ]
     },
     "metadata": {},
     "output_type": "display_data"
    },
    {
     "data": {
      "text/html": [
       "Run data is saved locally in <code>c:\\Users\\Nick\\Documents\\GitHub\\grvmodel\\python\\wandb\\run-20240208_153144-bqrjy5cn</code>"
      ],
      "text/plain": [
       "<IPython.core.display.HTML object>"
      ]
     },
     "metadata": {},
     "output_type": "display_data"
    },
    {
     "data": {
      "text/html": [
       "Syncing run <strong><a href='https://wandb.ai/nickojelly/NEW%20GRU%20V7%20Ensemble/runs/bqrjy5cn' target=\"_blank\">deft-shadow-83</a></strong> to <a href='https://wandb.ai/nickojelly/NEW%20GRU%20V7%20Ensemble' target=\"_blank\">Weights & Biases</a> (<a href='https://wandb.me/run' target=\"_blank\">docs</a>)<br/>"
      ],
      "text/plain": [
       "<IPython.core.display.HTML object>"
      ]
     },
     "metadata": {},
     "output_type": "display_data"
    },
    {
     "data": {
      "text/html": [
       " View project at <a href='https://wandb.ai/nickojelly/NEW%20GRU%20V7%20Ensemble' target=\"_blank\">https://wandb.ai/nickojelly/NEW%20GRU%20V7%20Ensemble</a>"
      ],
      "text/plain": [
       "<IPython.core.display.HTML object>"
      ]
     },
     "metadata": {},
     "output_type": "display_data"
    },
    {
     "data": {
      "text/html": [
       " View run at <a href='https://wandb.ai/nickojelly/NEW%20GRU%20V7%20Ensemble/runs/bqrjy5cn' target=\"_blank\">https://wandb.ai/nickojelly/NEW%20GRU%20V7%20Ensemble/runs/bqrjy5cn</a>"
      ],
      "text/plain": [
       "<IPython.core.display.HTML object>"
      ]
     },
     "metadata": {},
     "output_type": "display_data"
    },
    {
     "name": "stdout",
     "output_type": "stream",
     "text": [
      "{'hidden_size': 256, 'stats': ['inside', 'midfield', 'wide', 'weight', 'DogGrade', '_dist_last__1', '_box_last__1', '_speed_avg_1', '_split_speed_avg_1', '_split_margin_avg_1', '_margin_avg_1', '_margin_time_avg_1', '_RunHomeTime_1', '_run_home_speed_1', '_first_out_avg_1', '_pos_out_avg_1', '_post_change_avg_1', '_races_1', '_wins_1', '_wins_last_1', '_weight_', '_min_time_', '_min_split_time_', '_last_start_price', '_last_start_prob', 'dist_dist_last__10', 'dist_box_last__10', 'dist_speed_avg_10', 'dist_split_speed_avg_10', 'dist_split_margin_avg_10', 'dist_margin_avg_10', 'dist_margin_time_avg_10', 'dist_RunHomeTime_10', 'dist_run_home_speed_10', 'dist_first_out_avg_10', 'dist_pos_out_avg_10', 'dist_post_change_avg_10', 'dist_races_10', 'dist_wins_10', 'dist_wins_last_10', 'dist_weight_', 'dist_min_time_', 'dist_min_split_time_', 'dist_last_start_price', 'dist_last_start_prob', 'box_dist_last__10', 'box_box_last__10', 'box_speed_avg_10', 'box_split_speed_avg_10', 'box_split_margin_avg_10', 'box_margin_avg_10', 'box_margin_time_avg_10', 'box_RunHomeTime_10', 'box_run_home_speed_10', 'box_first_out_avg_10', 'box_pos_out_avg_10', 'box_post_change_avg_10', 'box_races_10', 'box_wins_10', 'box_wins_last_10', 'box_weight_', 'box_min_time_', 'box_min_split_time_', 'box_last_start_price', 'box_last_start_prob', 'track_box_dist_last__10', 'track_box_box_last__10', 'track_box_speed_avg_10', 'track_box_split_speed_avg_10', 'track_box_split_margin_avg_10', 'track_box_margin_avg_10', 'track_box_margin_time_avg_10', 'track_box_RunHomeTime_10', 'track_box_run_home_speed_10', 'track_box_first_out_avg_10', 'track_box_pos_out_avg_10', 'track_box_post_change_avg_10', 'track_box_races_10', 'track_box_wins_10', 'track_box_wins_last_10', 'track_box_weight_', 'track_box_min_time_', 'track_box_min_split_time_', 'track_box_last_start_price', 'track_box_last_start_prob', 'track_dist_dist_last__10', 'track_dist_box_last__10', 'track_dist_speed_avg_10', 'track_dist_split_speed_avg_10', 'track_dist_split_margin_avg_10', 'track_dist_margin_avg_10', 'track_dist_margin_time_avg_10', 'track_dist_RunHomeTime_10', 'track_dist_run_home_speed_10', 'track_dist_first_out_avg_10', 'track_dist_pos_out_avg_10', 'track_dist_post_change_avg_10', 'track_dist_races_10', 'track_dist_wins_10', 'track_dist_wins_last_10', 'track_dist_weight_', 'track_dist_min_time_', 'track_dist_min_split_time_', 'track_dist_last_start_price', 'track_dist_last_start_prob'], 'races': ['NZ'], 'datafile': './data/gru_inputs_kitchen_sink_new_not_simple.fth', 'latest_date': '2024-01-31T00:00:00', 'input_type': 'basic', 'num_layers': 2, 'batch_size': 750, 'dropout': 0.3, 'epochs': 1500, 'learning_rate': 0.001, 'optimizer': 'adamW', 'f0_layer_size': 128, 'f1_layer_size': 64, 'training_date_end': '2023-01-01', 'notes': 'GRU, with basic add on data looped in', 'batch_days': 180, 'stat_list_dict': {'_dist_last__1': 1, '_box_last__1': 1, '_speed_avg_1': 1, '_split_speed_avg_1': 1, '_split_margin_avg_1': 1, '_margin_avg_1': 1, '_margin_time_avg_1': 1, '_RunHomeTime_1': 1, '_run_home_speed_1': 1, '_first_out_avg_1': 1, '_pos_out_avg_1': 1, '_post_change_avg_1': 1, '_races_1': 1, '_wins_1': 1, '_wins_last_1': 1, '_weight_': 1, '_min_time_': 1, '_min_split_time_': 1, '_last_start_price': 1, '_last_start_prob': 1}}\n",
      "1500\n",
      "{'hidden_size': 256, 'stats': ['inside', 'midfield', 'wide', 'weight', 'DogGrade', '_dist_last__1', '_box_last__1', '_speed_avg_1', '_split_speed_avg_1', '_split_margin_avg_1', '_margin_avg_1', '_margin_time_avg_1', '_RunHomeTime_1', '_run_home_speed_1', '_first_out_avg_1', '_pos_out_avg_1', '_post_change_avg_1', '_races_1', '_wins_1', '_wins_last_1', '_weight_', '_min_time_', '_min_split_time_', '_last_start_price', '_last_start_prob', 'dist_dist_last__10', 'dist_box_last__10', 'dist_speed_avg_10', 'dist_split_speed_avg_10', 'dist_split_margin_avg_10', 'dist_margin_avg_10', 'dist_margin_time_avg_10', 'dist_RunHomeTime_10', 'dist_run_home_speed_10', 'dist_first_out_avg_10', 'dist_pos_out_avg_10', 'dist_post_change_avg_10', 'dist_races_10', 'dist_wins_10', 'dist_wins_last_10', 'dist_weight_', 'dist_min_time_', 'dist_min_split_time_', 'dist_last_start_price', 'dist_last_start_prob', 'box_dist_last__10', 'box_box_last__10', 'box_speed_avg_10', 'box_split_speed_avg_10', 'box_split_margin_avg_10', 'box_margin_avg_10', 'box_margin_time_avg_10', 'box_RunHomeTime_10', 'box_run_home_speed_10', 'box_first_out_avg_10', 'box_pos_out_avg_10', 'box_post_change_avg_10', 'box_races_10', 'box_wins_10', 'box_wins_last_10', 'box_weight_', 'box_min_time_', 'box_min_split_time_', 'box_last_start_price', 'box_last_start_prob', 'track_box_dist_last__10', 'track_box_box_last__10', 'track_box_speed_avg_10', 'track_box_split_speed_avg_10', 'track_box_split_margin_avg_10', 'track_box_margin_avg_10', 'track_box_margin_time_avg_10', 'track_box_RunHomeTime_10', 'track_box_run_home_speed_10', 'track_box_first_out_avg_10', 'track_box_pos_out_avg_10', 'track_box_post_change_avg_10', 'track_box_races_10', 'track_box_wins_10', 'track_box_wins_last_10', 'track_box_weight_', 'track_box_min_time_', 'track_box_min_split_time_', 'track_box_last_start_price', 'track_box_last_start_prob', 'track_dist_dist_last__10', 'track_dist_box_last__10', 'track_dist_speed_avg_10', 'track_dist_split_speed_avg_10', 'track_dist_split_margin_avg_10', 'track_dist_margin_avg_10', 'track_dist_margin_time_avg_10', 'track_dist_RunHomeTime_10', 'track_dist_run_home_speed_10', 'track_dist_first_out_avg_10', 'track_dist_pos_out_avg_10', 'track_dist_post_change_avg_10', 'track_dist_races_10', 'track_dist_wins_10', 'track_dist_wins_last_10', 'track_dist_weight_', 'track_dist_min_time_', 'track_dist_min_split_time_', 'track_dist_last_start_price', 'track_dist_last_start_prob'], 'races': ['NZ'], 'datafile': './data/gru_inputs_kitchen_sink_new_not_simple.fth', 'latest_date': '2024-01-31T00:00:00', 'input_type': 'basic', 'num_layers': 2, 'batch_size': 750, 'dropout': 0.3, 'epochs': 1500, 'learning_rate': 0.001, 'optimizer': 'adamW', 'f0_layer_size': 128, 'f1_layer_size': 64, 'training_date_end': '2023-01-01', 'notes': 'GRU, with basic add on data looped in', 'batch_days': 180, 'stat_list_dict': {'_dist_last__1': 1, '_box_last__1': 1, '_speed_avg_1': 1, '_split_speed_avg_1': 1, '_split_margin_avg_1': 1, '_margin_avg_1': 1, '_margin_time_avg_1': 1, '_RunHomeTime_1': 1, '_run_home_speed_1': 1, '_first_out_avg_1': 1, '_pos_out_avg_1': 1, '_post_change_avg_1': 1, '_races_1': 1, '_wins_1': 1, '_wins_last_1': 1, '_weight_': 1, '_min_time_': 1, '_min_split_time_': 1, '_last_start_price': 1, '_last_start_prob': 1}}\n",
      "basic\n",
      "1\n",
      "1\n",
      "1\n",
      "1\n",
      "1\n",
      "1\n",
      "1\n",
      "1\n",
      "1\n",
      "1\n",
      "1\n",
      "1\n",
      "1\n",
      "1\n",
      "1\n",
      "1\n",
      "1\n",
      "1\n",
      "1\n",
      "1\n",
      "[1, 1, 1, 1, 1, 1, 1, 1, 1, 1, 1, 1, 1, 1, 1, 1, 1, 1, 1, 1]\n",
      "data_mask_size=26\n",
      "tensor([ True,  True,  True,  True,  True,  True,  True,  True,  True,  True,\n",
      "         True,  True,  True,  True,  True,  True,  True,  True,  True,  True,\n",
      "         True,  True,  True,  True,  True,  True, False, False, False, False,\n",
      "        False, False, False, False, False, False, False, False, False, False,\n",
      "        False, False, False, False, False, False, False, False, False, False,\n",
      "        False, False, False, False, False, False, False, False, False, False,\n",
      "        False, False, False, False, False, False, False, False, False, False,\n",
      "        False, False, False, False, False, False, False, False, False, False,\n",
      "        False, False, False, False, False, False, False, False, False, False,\n",
      "        False, False, False, False, False, False, False, False, False, False,\n",
      "        False, False, False, False, False, False], device='cuda:0')\n",
      "torch.Size([106])\n",
      "Train examples 15593, Test examples 2423, Val examples 2833\n"
     ]
    },
    {
     "name": "stderr",
     "output_type": "stream",
     "text": [
      "100%|██████████| 4028/4028 [00:00<00:00, 66034.48it/s]\n",
      "100%|██████████| 4029/4029 [00:02<00:00, 1634.48it/s]\n"
     ]
    },
    {
     "name": "stdout",
     "output_type": "stream",
     "text": [
      "[(datetime.date(2019, 12, 1), datetime.date(2020, 5, 29)), (datetime.date(2020, 5, 29), datetime.date(2020, 11, 25)), (datetime.date(2020, 11, 25), datetime.date(2021, 5, 24)), (datetime.date(2021, 5, 24), datetime.date(2021, 11, 20)), (datetime.date(2021, 11, 20), datetime.date(2022, 5, 19)), (datetime.date(2022, 5, 19), datetime.date(2022, 11, 15)), (datetime.date(2022, 11, 15), datetime.date(2022, 12, 31))]\n",
      "2020-05-29\n",
      "2020-11-25\n",
      "2021-05-24\n",
      "2021-11-20\n",
      "2022-05-19\n",
      "2022-11-15\n",
      "2022-12-31\n",
      "Train examples [2201, 2826, 2680, 2396, 2444, 2391, 649]\n"
     ]
    },
    {
     "name": "stderr",
     "output_type": "stream",
     "text": [
      "100%|██████████| 4028/4028 [00:00<00:00, 4572.08it/s]\n",
      "100%|██████████| 4028/4028 [00:01<00:00, 3740.01it/s]\n",
      "100%|██████████| 4028/4028 [00:01<00:00, 3910.69it/s]\n",
      "100%|██████████| 4028/4028 [00:00<00:00, 4248.94it/s]\n",
      "100%|██████████| 4028/4028 [00:00<00:00, 4294.24it/s]\n",
      "100%|██████████| 4028/4028 [00:01<00:00, 2177.29it/s]\n",
      "100%|██████████| 4028/4028 [00:00<00:00, 15734.52it/s]\n",
      "100%|██████████| 7/7 [00:07<00:00,  1.00s/it]\n"
     ]
    },
    {
     "name": "stdout",
     "output_type": "stream",
     "text": [
      "Train examples [1557, 1594, 1489, 1492, 1400, 1356, 1005]\n",
      "Train examples [1557, 1594, 1489, 1492, 1400, 1356, 1005]\n",
      "Train examples [2201, 2826, 2680, 2396, 2444, 2391, 649]\n",
      "Train examples [2201, 2826, 2680, 2396, 2444, 2391, 649]\n",
      "here\n",
      "input_size=26\n",
      "Num batches 7\n"
     ]
    },
    {
     "name": "stderr",
     "output_type": "stream",
     "text": [
      "C:\\Users\\Nick\\AppData\\Local\\Temp\\ipykernel_26900\\2337459579.py:71: UserWarning: To copy construct from a tensor, it is recommended to use sourceTensor.clone().detach() or sourceTensor.clone().detach().requires_grad_(True), rather than torch.tensor(sourceTensor).\n",
      "  config['stat_mask_tensor'] = torch.tensor(stat_mask, dtype=torch.uint8).to(device)\n",
      "c:\\Users\\Nick\\.conda\\envs\\python311\\Lib\\site-packages\\torch\\nn\\modules\\lazy.py:180: UserWarning: Lazy modules are a new feature under heavy development so changes to the API or functionality can happen at any moment.\n",
      "  warnings.warn('Lazy modules are a new feature under heavy development '\n"
     ]
    },
    {
     "name": "stdout",
     "output_type": "stream",
     "text": [
      "odict_keys(['h0', 'gru.weight_ih_l0', 'gru.weight_hh_l0', 'gru.bias_ih_l0', 'gru.bias_hh_l0', 'gru.weight_ih_l1', 'gru.weight_hh_l1', 'gru.bias_ih_l1', 'gru.bias_hh_l1', 'fc0.weight', 'fc0.bias', 'batch_norm.weight', 'batch_norm.bias', 'batch_norm.running_mean', 'batch_norm.running_var', 'batch_norm.num_batches_tracked', 'batch_norm_data.weight', 'batch_norm_data.bias', 'batch_norm_data.running_mean', 'batch_norm_data.running_var', 'batch_norm_data.num_batches_tracked', 'extra_1.batch_norm.weight', 'extra_1.batch_norm.bias', 'extra_1.batch_norm.running_mean', 'extra_1.batch_norm.running_var', 'extra_1.batch_norm.num_batches_tracked', 'extra_1.fc0_p1.weight', 'extra_1.fc0_p1.bias', 'extra_1.fc0_p2.weight', 'extra_1.fc0_p2.bias', 'extra_1.fc0_p3.weight', 'extra_1.fc0_p3.bias', 'fc0_p1.weight', 'fc0_p1.bias', 'fc0_p2.weight', 'fc0_p2.bias', 'fc0_p3.weight', 'fc0_p3.bias', 'fc1.weight', 'fc1.bias', 'fc2.weight', 'fc2.bias', 'fc3.weight', 'fc3.bias'])\n",
      "GRUNetv4_extra(\n",
      "  (gru): GRU(26, 256, num_layers=2, dropout=0.3)\n",
      "  (relu): ReLU()\n",
      "  (fc0): Linear(in_features=2630, out_features=2048, bias=True)\n",
      "  (batch_norm): BatchNorm1d(26, eps=1e-05, momentum=0.1, affine=True, track_running_stats=True)\n",
      "  (batch_norm_data): BatchNorm1d(26, eps=1e-05, momentum=0.1, affine=True, track_running_stats=True)\n",
      "  (extra_1): GRUNetv3_simple_extra_data(\n",
      "    (batch_norm): LazyBatchNorm1d(0, eps=1e-05, momentum=0.1, affine=True, track_running_stats=True)\n",
      "    (relu): ReLU()\n",
      "    (fc0_p1): LazyLinear(in_features=0, out_features=128, bias=True)\n",
      "    (fc0_p1_drop): Dropout(p=0.3, inplace=False)\n",
      "    (fc0_p2): Linear(in_features=128, out_features=64, bias=True)\n",
      "    (fc0_p2_drop): Dropout(p=0.3, inplace=False)\n",
      "    (fc0_p3): Linear(in_features=64, out_features=64, bias=True)\n",
      "    (fc0_p3_drop): Dropout(p=0.3, inplace=False)\n",
      "  )\n",
      "  (fc0_p1): Linear(in_features=512, out_features=256, bias=True)\n",
      "  (fc0_p1_drop): Dropout(p=0.3, inplace=False)\n",
      "  (fc0_p2): Linear(in_features=256, out_features=256, bias=True)\n",
      "  (fc0_p2_drop): Dropout(p=0.3, inplace=False)\n",
      "  (fc0_p3): Linear(in_features=256, out_features=256, bias=True)\n",
      "  (fc0_p3_drop): Dropout(p=0.3, inplace=False)\n",
      "  (relu0): ReLU()\n",
      "  (drop1): Dropout(p=0.3, inplace=False)\n",
      "  (fc1): Linear(in_features=2048, out_features=1024, bias=True)\n",
      "  (drop2): Dropout(p=0.3, inplace=False)\n",
      "  (fc2): Linear(in_features=1024, out_features=64, bias=True)\n",
      "  (drop3): Dropout(p=0.3, inplace=False)\n",
      "  (fc3): Linear(in_features=64, out_features=8, bias=True)\n",
      "  (output_fn): Identity()\n",
      ")\n"
     ]
    },
    {
     "name": "stderr",
     "output_type": "stream",
     "text": [
      "  0%|          | 1/1500 [00:28<11:51:33, 28.48s/it]"
     ]
    },
    {
     "name": "stdout",
     "output_type": "stream",
     "text": [
      "323\n",
      "0.13330581923235657\n",
      "0.13330581923235657\n"
     ]
    },
    {
     "name": "stderr",
     "output_type": "stream",
     "text": [
      "  0%|          | 4/1500 [01:43<10:43:34, 25.81s/it]"
     ]
    },
    {
     "name": "stdout",
     "output_type": "stream",
     "text": [
      "382\n",
      "0.15765579859678086\n",
      "0.15765579859678086\n"
     ]
    },
    {
     "name": "stderr",
     "output_type": "stream",
     "text": [
      "  0%|          | 7/1500 [02:55<10:25:50, 25.15s/it]"
     ]
    },
    {
     "name": "stdout",
     "output_type": "stream",
     "text": [
      "465\n",
      "0.19191085431283533\n",
      "0.19191085431283533\n"
     ]
    },
    {
     "name": "stderr",
     "output_type": "stream",
     "text": [
      "  1%|          | 10/1500 [04:07<10:14:07, 24.73s/it]"
     ]
    },
    {
     "name": "stdout",
     "output_type": "stream",
     "text": [
      "509\n",
      "0.2100701609574907\n",
      "0.2100701609574907\n"
     ]
    },
    {
     "name": "stderr",
     "output_type": "stream",
     "text": [
      "  1%|          | 13/1500 [05:19<10:10:57, 24.65s/it]"
     ]
    },
    {
     "name": "stdout",
     "output_type": "stream",
     "text": [
      "558\n",
      "0.2302930251754024\n",
      "0.2302930251754024\n"
     ]
    },
    {
     "name": "stderr",
     "output_type": "stream",
     "text": [
      "  1%|          | 16/1500 [06:32<10:14:05, 24.83s/it]"
     ]
    },
    {
     "name": "stdout",
     "output_type": "stream",
     "text": [
      "597\n",
      "0.24638877424680147\n",
      "0.24638877424680147\n"
     ]
    },
    {
     "name": "stderr",
     "output_type": "stream",
     "text": [
      "  1%|▏         | 19/1500 [07:44<10:10:22, 24.73s/it]"
     ]
    },
    {
     "name": "stdout",
     "output_type": "stream",
     "text": [
      "614\n",
      "0.25340486999587286\n",
      "0.25340486999587286\n"
     ]
    },
    {
     "name": "stderr",
     "output_type": "stream",
     "text": [
      "  1%|▏         | 22/1500 [08:57<10:10:03, 24.77s/it]"
     ]
    },
    {
     "name": "stdout",
     "output_type": "stream",
     "text": [
      "650\n",
      "0.2682624845233182\n",
      "0.2682624845233182\n"
     ]
    },
    {
     "name": "stderr",
     "output_type": "stream",
     "text": [
      "  2%|▏         | 25/1500 [10:09<10:05:59, 24.65s/it]"
     ]
    },
    {
     "name": "stdout",
     "output_type": "stream",
     "text": [
      "658\n",
      "0.2715641766405283\n",
      "0.2715641766405283\n"
     ]
    },
    {
     "name": "stderr",
     "output_type": "stream",
     "text": [
      "  2%|▏         | 28/1500 [11:21<10:06:44, 24.73s/it]"
     ]
    },
    {
     "name": "stdout",
     "output_type": "stream",
     "text": [
      "691\n",
      "0.2851836566240198\n",
      "0.2851836566240198\n"
     ]
    },
    {
     "name": "stderr",
     "output_type": "stream",
     "text": [
      "  2%|▏         | 31/1500 [12:35<10:09:51, 24.91s/it]"
     ]
    },
    {
     "name": "stdout",
     "output_type": "stream",
     "text": [
      "694\n",
      "0.28642179116797356\n",
      "0.28642179116797356\n"
     ]
    },
    {
     "name": "stderr",
     "output_type": "stream",
     "text": [
      "  2%|▏         | 34/1500 [13:48<10:16:14, 25.22s/it]"
     ]
    },
    {
     "name": "stdout",
     "output_type": "stream",
     "text": [
      "714\n",
      "0.29467602146099875\n",
      "0.29467602146099875\n"
     ]
    },
    {
     "name": "stderr",
     "output_type": "stream",
     "text": [
      "  2%|▏         | 37/1500 [15:00<10:06:15, 24.86s/it]"
     ]
    },
    {
     "name": "stdout",
     "output_type": "stream",
     "text": [
      "706\n",
      "0.2913743293437887\n",
      "0.2913743293437887\n"
     ]
    },
    {
     "name": "stderr",
     "output_type": "stream",
     "text": [
      "  3%|▎         | 40/1500 [16:13<10:02:18, 24.75s/it]"
     ]
    },
    {
     "name": "stdout",
     "output_type": "stream",
     "text": [
      "714\n",
      "0.29467602146099875\n",
      "0.29467602146099875\n"
     ]
    },
    {
     "name": "stderr",
     "output_type": "stream",
     "text": [
      "  3%|▎         | 43/1500 [17:25<9:59:31, 24.69s/it] "
     ]
    },
    {
     "name": "stdout",
     "output_type": "stream",
     "text": [
      "728\n",
      "0.3004539826661164\n",
      "0.3004539826661164\n"
     ]
    },
    {
     "name": "stderr",
     "output_type": "stream",
     "text": [
      "  3%|▎         | 46/1500 [18:38<10:02:00, 24.84s/it]"
     ]
    },
    {
     "name": "stdout",
     "output_type": "stream",
     "text": [
      "736\n",
      "0.30375567478332643\n",
      "0.30375567478332643\n"
     ]
    },
    {
     "name": "stderr",
     "output_type": "stream",
     "text": [
      "  3%|▎         | 49/1500 [19:50<9:57:50, 24.72s/it] "
     ]
    },
    {
     "name": "stdout",
     "output_type": "stream",
     "text": [
      "728\n",
      "0.3004539826661164\n",
      "0.3004539826661164\n"
     ]
    },
    {
     "name": "stderr",
     "output_type": "stream",
     "text": [
      "  3%|▎         | 52/1500 [21:02<9:54:03, 24.62s/it]"
     ]
    },
    {
     "name": "stdout",
     "output_type": "stream",
     "text": [
      "732\n",
      "0.30210482872472144\n",
      "0.30210482872472144\n"
     ]
    },
    {
     "name": "stderr",
     "output_type": "stream",
     "text": [
      "  4%|▎         | 55/1500 [22:14<9:51:07, 24.54s/it]"
     ]
    },
    {
     "name": "stdout",
     "output_type": "stream",
     "text": [
      "737\n",
      "0.3041683862979777\n",
      "0.3041683862979777\n"
     ]
    },
    {
     "name": "stderr",
     "output_type": "stream",
     "text": [
      "  4%|▍         | 58/1500 [23:27<9:58:31, 24.90s/it]"
     ]
    },
    {
     "name": "stdout",
     "output_type": "stream",
     "text": [
      "739\n",
      "0.3049938093272802\n",
      "0.3049938093272802\n"
     ]
    },
    {
     "name": "stderr",
     "output_type": "stream",
     "text": [
      "  4%|▍         | 61/1500 [24:39<9:53:40, 24.75s/it]"
     ]
    },
    {
     "name": "stdout",
     "output_type": "stream",
     "text": [
      "731\n",
      "0.30169211721007017\n",
      "0.30169211721007017\n"
     ]
    },
    {
     "name": "stderr",
     "output_type": "stream",
     "text": [
      "  4%|▍         | 64/1500 [25:52<9:52:13, 24.74s/it]"
     ]
    },
    {
     "name": "stdout",
     "output_type": "stream",
     "text": [
      "744\n",
      "0.30705736690053653\n",
      "0.30705736690053653\n"
     ]
    },
    {
     "name": "stderr",
     "output_type": "stream",
     "text": [
      "  4%|▍         | 67/1500 [27:04<9:49:04, 24.66s/it]"
     ]
    },
    {
     "name": "stdout",
     "output_type": "stream",
     "text": [
      "751\n",
      "0.30994634750309535\n",
      "0.30994634750309535\n"
     ]
    },
    {
     "name": "stderr",
     "output_type": "stream",
     "text": [
      "  5%|▍         | 70/1500 [28:16<9:46:47, 24.62s/it]"
     ]
    },
    {
     "name": "stdout",
     "output_type": "stream",
     "text": [
      "759\n",
      "0.3132480396203054\n",
      "0.3132480396203054\n"
     ]
    },
    {
     "name": "stderr",
     "output_type": "stream",
     "text": [
      "  5%|▍         | 73/1500 [29:29<9:50:07, 24.81s/it]"
     ]
    },
    {
     "name": "stdout",
     "output_type": "stream",
     "text": [
      "740\n",
      "0.3054065208419315\n",
      "0.3054065208419315\n"
     ]
    },
    {
     "name": "stderr",
     "output_type": "stream",
     "text": [
      "  5%|▌         | 76/1500 [30:41<9:47:00, 24.73s/it]"
     ]
    },
    {
     "name": "stdout",
     "output_type": "stream",
     "text": [
      "733\n",
      "0.30251754023937266\n",
      "0.30251754023937266\n"
     ]
    },
    {
     "name": "stderr",
     "output_type": "stream",
     "text": [
      "  5%|▌         | 79/1500 [31:53<9:44:51, 24.69s/it]"
     ]
    },
    {
     "name": "stdout",
     "output_type": "stream",
     "text": [
      "733\n",
      "0.30251754023937266\n",
      "0.30251754023937266\n"
     ]
    },
    {
     "name": "stderr",
     "output_type": "stream",
     "text": [
      "  5%|▌         | 82/1500 [33:05<9:40:48, 24.58s/it]"
     ]
    },
    {
     "name": "stdout",
     "output_type": "stream",
     "text": [
      "754\n",
      "0.3111844820470491\n",
      "0.3111844820470491\n"
     ]
    },
    {
     "name": "stderr",
     "output_type": "stream",
     "text": [
      "  6%|▌         | 84/1500 [33:50<9:17:48, 23.64s/it]"
     ]
    }
   ],
   "source": [
    "importlib.reload(rnn_tools.rnn_classes)\n",
    "importlib.reload(rnn_classes)\n",
    "importlib.reload(training_testing_gru_ensemble)\n",
    "(model,dataset, optimizer) = model_pipeline(raceDB,config=wandb_config_static,sweep=False)\n",
    "# all_price_df = model_pipeline(raceDB,config=wandb_config_static,sweep=False)\n"
   ]
  },
  {
   "cell_type": "code",
   "execution_count": 65,
   "metadata": {},
   "outputs": [
    {
     "name": "stdout",
     "output_type": "stream",
     "text": [
      "Train examples 15593, Test examples 2423, Val examples 2833\n"
     ]
    }
   ],
   "source": [
    "raceDB.create_test_split_date('2023-01-01',val_date='2023-07-01')"
   ]
  },
  {
   "cell_type": "code",
   "execution_count": 78,
   "metadata": {},
   "outputs": [
    {
     "ename": "TypeError",
     "evalue": "operator.itemgetter() argument after * must be an iterable, not int",
     "output_type": "error",
     "traceback": [
      "\u001b[1;31m---------------------------------------------------------------------------\u001b[0m",
      "\u001b[1;31mTypeError\u001b[0m                                 Traceback (most recent call last)",
      "Cell \u001b[1;32mIn[78], line 3\u001b[0m\n\u001b[0;32m      1\u001b[0m len_test \u001b[38;5;241m=\u001b[39m \u001b[38;5;28mlen\u001b[39m(raceDB\u001b[38;5;241m.\u001b[39mtest_dog_ids)\n\u001b[0;32m      2\u001b[0m test_idx \u001b[38;5;241m=\u001b[39m \u001b[38;5;28mrange\u001b[39m(\u001b[38;5;241m0\u001b[39m,len_test)\n\u001b[1;32m----> 3\u001b[0m race \u001b[38;5;241m=\u001b[39m \u001b[43mraceDB\u001b[49m\u001b[38;5;241;43m.\u001b[39;49m\u001b[43mget_test_input\u001b[49m\u001b[43m(\u001b[49m\u001b[38;5;241;43m1\u001b[39;49m\u001b[43m)\u001b[49m\n",
      "File \u001b[1;32mc:\\Users\\Nick\\Documents\\GitHub\\grvmodel\\python\\rnn_tools\\rnn_classes.py:283\u001b[0m, in \u001b[0;36mRaces.get_test_input\u001b[1;34m(self, idx, Train)\u001b[0m\n\u001b[0;32m    282\u001b[0m \u001b[38;5;28;01mdef\u001b[39;00m \u001b[38;5;21mget_test_input\u001b[39m(\u001b[38;5;28mself\u001b[39m, idx, Train\u001b[38;5;241m=\u001b[39m\u001b[38;5;28;01mTrue\u001b[39;00m) \u001b[38;5;241m-\u001b[39m\u001b[38;5;241m>\u001b[39m Race:\n\u001b[1;32m--> 283\u001b[0m     raceidx \u001b[38;5;241m=\u001b[39m \u001b[43moperator\u001b[49m\u001b[38;5;241;43m.\u001b[39;49m\u001b[43mitemgetter\u001b[49m\u001b[43m(\u001b[49m\u001b[38;5;241;43m*\u001b[39;49m\u001b[43midx\u001b[49m\u001b[43m)\u001b[49m\n\u001b[0;32m    284\u001b[0m     race_batch_id \u001b[38;5;241m=\u001b[39m raceidx(\u001b[38;5;28mself\u001b[39m\u001b[38;5;241m.\u001b[39mtest_race_ids)\n\u001b[0;32m    285\u001b[0m     races \u001b[38;5;241m=\u001b[39m [\u001b[38;5;28mself\u001b[39m\u001b[38;5;241m.\u001b[39mracesDict[x] \u001b[38;5;28;01mfor\u001b[39;00m x \u001b[38;5;129;01min\u001b[39;00m \u001b[38;5;28mself\u001b[39m\u001b[38;5;241m.\u001b[39mtest_race_ids] \u001b[38;5;66;03m#Returns list of class Race\u001b[39;00m\n",
      "\u001b[1;31mTypeError\u001b[0m: operator.itemgetter() argument after * must be an iterable, not int"
     ]
    }
   ],
   "source": [
    "len_test = len(raceDB.test_dog_ids)\n",
    "test_idx = range(0,len_test)\n",
    "race = raceDB.get_test_input(1)\n"
   ]
  },
  {
   "cell_type": "code",
   "execution_count": 77,
   "metadata": {},
   "outputs": [
    {
     "data": {
      "text/plain": [
       "1307"
      ]
     },
     "execution_count": 77,
     "metadata": {},
     "output_type": "execute_result"
    }
   ],
   "source": [
    "races = [self.racesDict[x] for x in self.test_race_ids]"
   ]
  },
  {
   "cell_type": "code",
   "execution_count": null,
   "metadata": {},
   "outputs": [],
   "source": [
    "wandb_config_static['batch_days'] = 600\n",
    "(model,dataset, optimizer) = model_pipeline(raceDB,config=wandb_config_static,sweep=False)\n",
    "wandb_config_static['batch_days'] = 180\n",
    "(model,dataset, optimizer) = model_pipeline(raceDB,config=wandb_config_static,sweep=False)\n",
    "wandb_config_static['batch_days'] = 90\n",
    "(model,dataset, optimizer) = model_pipeline(raceDB,config=wandb_config_static,sweep=False)\n",
    "wandb_config_static['batch_days'] = 60\n",
    "(model,dataset, optimizer) = model_pipeline(raceDB,config=wandb_config_static,sweep=False)\n",
    "wandb_config_static['batch_days'] = 630\n",
    "(model,dataset, optimizer) = model_pipeline(raceDB,config=wandb_config_static,sweep=False)\n"
   ]
  },
  {
   "cell_type": "code",
   "execution_count": null,
   "metadata": {},
   "outputs": [],
   "source": [
    "model"
   ]
  },
  {
   "cell_type": "code",
   "execution_count": null,
   "metadata": {},
   "outputs": [],
   "source": [
    "importlib.reload(training_testing_gru_extra_data)\n",
    "training_testing_gru_extra_data.validate_model_v3(model,raceDB,config=wandb_config_static)"
   ]
  },
  {
   "cell_type": "code",
   "execution_count": null,
   "metadata": {},
   "outputs": [],
   "source": [
    "config = wandb_config_static"
   ]
  },
  {
   "cell_type": "code",
   "execution_count": null,
   "metadata": {},
   "outputs": [],
   "source": [
    "model = rnn_classes.LSTMNetv3_BN_double(22,config['hidden_size'], num_layers=config['num_layers'],fc0_size=config['f0_layer_size'], fc1_size=config['f1_layer_size'])"
   ]
  },
  {
   "cell_type": "code",
   "execution_count": null,
   "metadata": {},
   "outputs": [],
   "source": [
    "model = model.to('cuda:0')"
   ]
  },
  {
   "cell_type": "code",
   "execution_count": null,
   "metadata": {},
   "outputs": [],
   "source": [
    "sweep_config = {\"method\": \"grid\"}\n",
    "\n",
    "metric = {\"name\": \"ROI < 30\", \"goal\": \"maximize\"}\n",
    "\n",
    "sweep_config[\"metric\"] = metric\n",
    "\n",
    "\n",
    "parameters_dict = {\n",
    "    \"optimizer\": {\"value\": \"adamW\"},\n",
    "    \"batch_days\": {\"values\": [90,180,365,550,10000]},\n",
    "    \"f0_layer_size\": {\"values\": [128]},\n",
    "    \"f1_layer_size\": {\"values\": [64]},\n",
    "    \"dropout\": {\"values\": [0.3]},\n",
    "    \"input_type\": {\"values\": ['basic']},\n",
    "    \"num_layers\": {\"values\": [2]},\n",
    "    'hidden_size':{'values':[128]},\n",
    "    \"len_data\": {\"value\": len(raceDB.raceIDs)},\n",
    "    \"stats\":{\"value\": raceDB.stats_cols},\n",
    "    \"races\":{\"value\": states},\n",
    "    \"batch_size\":{\"value\": 10},\n",
    "}\n",
    "\n",
    "sweep_config[\"parameters\"] = parameters_dict\n",
    "\n",
    "parameters_dict.update(\n",
    "    {\n",
    "        \"epochs\": {\"values\": [1000]},\n",
    "        \"validation_split\": {\"value\": 0.1},\n",
    "        \"training_date_end\": {\"values\": \n",
    "                                [\n",
    "                                '2023-04-30',\n",
    "                                '2023-02-28',\n",
    "                                '2022-11-30',\n",
    "                                '2021-11-30'\n",
    "                                ]},\n",
    "        \"learning_rate\": {\"values\": [0.0003, 0.0001]},\n",
    "        \"label_smoothing\": {\"values\": [0.01,0.0]},\n",
    "        \"loss\": {\n",
    "            \"values\": [ \"CEL\"],\n",
    "        },\n",
    "    'dist_last__1': {'values': [0, 1]},\n",
    "    'box_last__1': {'values': [0, 1]},\n",
    "    'speed_avg_1': {'values': [0, 1]},\n",
    "    'split_speed_v1_1': {'values': [0, 1]},\n",
    "    'split_speed_avg_1': {'values': [0, 1]},\n",
    "    'split_margin_avg_1': {'values': [0, 1]},\n",
    "    'margin_avg_1': {'values': [0, 1]},\n",
    "    'margin_time_avg_1': {'values': [0, 1]},\n",
    "    'RunHomeTime_1': {'values': [0, 1]},\n",
    "    'run_home_speed_1': {'values': [0, 1]},\n",
    "    'run_home_speed_v1_1': {'values': [0, 1]},\n",
    "    'first_out_avg_1': {'values': [0, 1]},\n",
    "    'pos_out_avg_1': {'values': [0, 1]},\n",
    "    'post_change_avg_1': {'values': [0, 1]},\n",
    "    'races_1': {'values': [0, 1]},\n",
    "    'wins_1': {'values': [0, 1]},\n",
    "    'wins_last_1': {'values': [0, 1]},\n",
    "    'weight_': {'values': [0, 1]},\n",
    "    'min_time_': {'values': [0, 1]},\n",
    "    'min_split_time_': {'values': [0, 1]},\n",
    "    'min_split_time_v1': {'values': [0, 1]},\n",
    "    'last_start_price': {'values': [0, 1]},\n",
    "    'last_start_prob': {'values': [0, 1]}\n",
    "}\n",
    ")\n",
    "\n",
    "import pprint\n",
    "\n",
    "pprint.pprint(sweep_config)\n",
    "\n",
    "\n",
    "sweep_config"
   ]
  },
  {
   "cell_type": "code",
   "execution_count": null,
   "metadata": {},
   "outputs": [],
   "source": [
    "# wandb.agent('x9mz21wl', function=model_pipeline, count=100, project='NEW GRU-sweeps')"
   ]
  },
  {
   "attachments": {},
   "cell_type": "markdown",
   "metadata": {},
   "source": []
  },
  {
   "cell_type": "code",
   "execution_count": null,
   "metadata": {},
   "outputs": [],
   "source": []
  },
  {
   "cell_type": "code",
   "execution_count": null,
   "metadata": {},
   "outputs": [],
   "source": [
    "sweep_id = wandb.sweep(sweep_config, project=\"Variable Sweeps\")\n",
    "# CUDA_LAUNCH_BLOCKING=1\n",
    "wandb.agent(sweep_id, function=model_pipeline, count=1)"
   ]
  }
 ],
 "metadata": {
  "kernelspec": {
   "display_name": "PYTORCH",
   "language": "python",
   "name": "python3"
  },
  "language_info": {
   "codemirror_mode": {
    "name": "ipython",
    "version": 3
   },
   "file_extension": ".py",
   "mimetype": "text/x-python",
   "name": "python",
   "nbconvert_exporter": "python",
   "pygments_lexer": "ipython3",
   "version": "3.11.5"
  },
  "orig_nbformat": 4,
  "vscode": {
   "interpreter": {
    "hash": "8a48ca33c5a1168302a4f8eae355aad1c03b1396f568d40bc174a6e6aabe725d"
   }
  }
 },
 "nbformat": 4,
 "nbformat_minor": 2
}
