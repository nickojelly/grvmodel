{
 "cells": [
  {
   "cell_type": "code",
   "execution_count": 1,
   "metadata": {},
   "outputs": [],
   "source": [
    "import pickle\n",
    "import pandas as pd\n",
    "import os\n",
    "import setup\n",
    "\n",
    "import torch\n",
    "import numpy as np\n",
    "import torch.nn as nn\n",
    "import torch.nn.functional as F\n",
    "import torch.optim as optim\n",
    "from tqdm.notebook import tqdm, trange\n",
    "import torch.optim as optim\n",
    "from torch.utils.data import TensorDataset, DataLoader\n",
    "import wandb\n",
    "from torch.utils.data.sampler import SubsetRandomSampler\n",
    "import pprint\n",
    "import matplotlib.pyplot as plt\n",
    "import torch\n",
    "\n",
    "from sklearn.preprocessing import MinMaxScaler\n",
    "import math\n",
    "from torch.profiler import profile, record_function, ProfilerActivity\n",
    "\n",
    "from operator import itemgetter\n",
    "import operator\n",
    "from random import randint\n",
    "# from rnn_classes import Dog, DogInput, Race, Races, GRUNet, smallGRUNet, smalll_lin_GRUNet, smalll_prelin_GRUNet\n",
    "import rnn_tools.rnn_classes as rnn_classes\n",
    "import json\n",
    "import plotly.graph_objs as go\n",
    "import datetime"
   ]
  },
  {
   "cell_type": "code",
   "execution_count": 2,
   "metadata": {},
   "outputs": [],
   "source": [
    "df2 = pd.read_feather('./data/topaz_data_w_bsp_new6.fth')"
   ]
  },
  {
   "cell_type": "code",
   "execution_count": 3,
   "metadata": {},
   "outputs": [],
   "source": [
    "date_start = datetime.datetime(2020, 1, 1).date()\n",
    "date_fin = datetime.datetime(2023, 1, 1).date()\n",
    "df2 = df2.query('date >= @date_start & date <= @date_fin')"
   ]
  },
  {
   "cell_type": "code",
   "execution_count": 4,
   "metadata": {},
   "outputs": [],
   "source": [
    "df2 = df2.query('state == \"NZ\"')"
   ]
  },
  {
   "cell_type": "code",
   "execution_count": 5,
   "metadata": {},
   "outputs": [],
   "source": [
    "df2.to_csv('topaz_data_for_r_v7.csv', index=False)"
   ]
  },
  {
   "cell_type": "code",
   "execution_count": 6,
   "metadata": {},
   "outputs": [
    {
     "data": {
      "text/plain": [
       "Index(['meetingDate', 'state', 'track', 'distance', 'raceId', 'raceTypeCode',\n",
       "       'raceNumber', 'boxNumber', 'rugNumber', 'runId',\n",
       "       ...\n",
       "       'prev_race_track', 'prev_race_state', 'next_race', 'prev_BSP_price',\n",
       "       'prev_start_price', 'stats_topaz', 'dogid', 'raceid', 'stats_cols',\n",
       "       'track_hash'],\n",
       "      dtype='object', length=155)"
      ]
     },
     "execution_count": 6,
     "metadata": {},
     "output_type": "execute_result"
    }
   ],
   "source": []
  },
  {
   "cell_type": "code",
   "execution_count": 67,
   "metadata": {},
   "outputs": [],
   "source": [
    "df4 = pd.read_feather('./data/topaz_data_w_bsp_new4.fth')"
   ]
  },
  {
   "cell_type": "code",
   "execution_count": 68,
   "metadata": {},
   "outputs": [],
   "source": [
    "df2 = df2.query('state == \"NZ\"')\n",
    "df4 = df4.query('state == \"NZ\"')"
   ]
  },
  {
   "cell_type": "code",
   "execution_count": 69,
   "metadata": {},
   "outputs": [],
   "source": [
    "date_start = datetime.datetime(2020, 1, 1).date()\n",
    "date_fin = datetime.datetime(2023, 1, 1).date()\n",
    "df2 = df2.query('date >= @date_start & date <= @date_fin')\n",
    "df4 = df4.query('date >= @date_start & date <= @date_fin')\n"
   ]
  },
  {
   "cell_type": "code",
   "execution_count": 70,
   "metadata": {},
   "outputs": [
    {
     "data": {
      "text/plain": [
       "Index(['meetingDate', 'state', 'track', 'distance', 'raceId', 'raceTypeCode',\n",
       "       'raceNumber', 'boxNumber', 'rugNumber', 'runId',\n",
       "       ...\n",
       "       'prev_race', 'prev_race_date', 'prev_race_track', 'prev_race_state',\n",
       "       'next_race', 'stats_topaz', 'dogid', 'raceid', 'stats_cols',\n",
       "       'track_hash'],\n",
       "      dtype='object', length=144)"
      ]
     },
     "execution_count": 70,
     "metadata": {},
     "output_type": "execute_result"
    }
   ],
   "source": [
    "df2.columns"
   ]
  },
  {
   "cell_type": "code",
   "execution_count": 71,
   "metadata": {},
   "outputs": [],
   "source": [
    "feature_cols = ['dogAgeScaled',\n",
    " 'boxNumber',\n",
    " 'weightInKgScaled',\n",
    " 'hasEntryBoxNumberPlus1',\n",
    " 'hasEntryBoxNumberMinus1',\n",
    " 'rolling_box_win_percentage',\n",
    " 'dog_distance_mean_1',\n",
    " 'dog_boxNumber_mean_1',\n",
    " 'dog_runTimeNorm_mean_1',\n",
    " 'dog_place_mean_1',\n",
    " 'dog_resultMargin_mean_1',\n",
    " 'dog_split_time_margin_mean_1',\n",
    " 'dog_split_runTimeNorm_mean_1',\n",
    " 'dog_time_1_mean_1',\n",
    " 'dog_run_home_TimeNorm_mean_1',\n",
    " 'dog_finishingPlaceMovement_mean_1',\n",
    " 'dog_averageSpeed_mean_1',\n",
    " 'dog_win_mean_1',\n",
    " 'trainer_distance_mean_365D',\n",
    " 'trainer_boxNumber_mean_365D',\n",
    " 'trainer_runTimeNorm_mean_365D',\n",
    " 'trainer_place_mean_365D',\n",
    " 'trainer_resultMargin_mean_365D',\n",
    " 'trainer_split_time_margin_mean_365D',\n",
    " 'trainer_split_runTimeNorm_mean_365D',\n",
    " 'trainer_time_1_mean_365D',\n",
    " 'trainer_run_home_TimeNorm_mean_365D',\n",
    " 'trainer_finishingPlaceMovement_mean_365D',\n",
    " 'trainer_averageSpeed_mean_365D',\n",
    " 'trainer_win_mean_365D',\n",
    " 'dam_distance_mean_365D',\n",
    " 'dam_boxNumber_mean_365D',\n",
    " 'dam_runTimeNorm_mean_365D',\n",
    " 'dam_place_mean_365D',\n",
    " 'dam_resultMargin_mean_365D',\n",
    " 'dam_split_time_margin_mean_365D',\n",
    " 'dam_split_runTimeNorm_mean_365D',\n",
    " 'dam_time_1_mean_365D',\n",
    " 'dam_run_home_TimeNorm_mean_365D',\n",
    " 'dam_finishingPlaceMovement_mean_365D',\n",
    " 'dam_averageSpeed_mean_365D',\n",
    " 'dam_win_mean_365D',\n",
    " 'sire_distance_mean_365D',\n",
    " 'sire_boxNumber_mean_365D',\n",
    " 'sire_runTimeNorm_mean_365D',\n",
    " 'sire_place_mean_365D',\n",
    " 'sire_resultMargin_mean_365D',\n",
    " 'sire_split_time_margin_mean_365D',\n",
    " 'sire_split_runTimeNorm_mean_365D',\n",
    " 'sire_time_1_mean_365D',\n",
    " 'sire_run_home_TimeNorm_mean_365D',\n",
    " 'sire_finishingPlaceMovement_mean_365D',\n",
    " 'sire_averageSpeed_mean_365D',\n",
    " 'sire_win_mean_365D']"
   ]
  },
  {
   "cell_type": "code",
   "execution_count": 72,
   "metadata": {},
   "outputs": [
    {
     "name": "stdout",
     "output_type": "stream",
     "text": [
      "Percentage of zero values in dogAgeScaled: 0.14418252143006483\n",
      "Percentage of zero values in boxNumber: 0.0\n",
      "Percentage of zero values in weightInKgScaled: 0.13775350198620112\n",
      "Percentage of zero values in hasEntryBoxNumberPlus1: 0.873222872674054\n",
      "Percentage of zero values in hasEntryBoxNumberMinus1: 1.0\n",
      "Percentage of zero values in rolling_box_win_percentage: 0.00594118057007457\n",
      "Percentage of zero values in dog_distance_mean_1: 0.01613352846888285\n",
      "Percentage of zero values in dog_boxNumber_mean_1: 0.01613352846888285\n",
      "Percentage of zero values in dog_runTimeNorm_mean_1: 0.017623179315631753\n",
      "Percentage of zero values in dog_place_mean_1: 0.01613352846888285\n",
      "Percentage of zero values in dog_resultMargin_mean_1: 0.016569098891908843\n",
      "Percentage of zero values in dog_split_time_margin_mean_1: 0.9988588054916719\n",
      "Percentage of zero values in dog_split_runTimeNorm_mean_1: 0.8778573419750505\n",
      "Percentage of zero values in dog_time_1_mean_1: 0.8748780402815527\n",
      "Percentage of zero values in dog_run_home_TimeNorm_mean_1: 0.017623179315631753\n",
      "Percentage of zero values in dog_finishingPlaceMovement_mean_1: 0.01613352846888285\n",
      "Percentage of zero values in dog_averageSpeed_mean_1: 0.01669105861035612\n",
      "Percentage of zero values in dog_win_mean_1: 0.8681354101331104\n",
      "Percentage of zero values in trainer_distance_mean_365D: 0.000592375775315353\n",
      "Percentage of zero values in trainer_boxNumber_mean_365D: 0.000592375775315353\n",
      "Percentage of zero values in trainer_runTimeNorm_mean_365D: 0.000592375775315353\n",
      "Percentage of zero values in trainer_place_mean_365D: 0.000592375775315353\n",
      "Percentage of zero values in trainer_resultMargin_mean_365D: 0.000592375775315353\n",
      "Percentage of zero values in trainer_split_time_margin_mean_365D: 0.9956530071782006\n",
      "Percentage of zero values in trainer_split_runTimeNorm_mean_365D: 0.008772388319743536\n",
      "Percentage of zero values in trainer_time_1_mean_365D: 0.008833368178967176\n",
      "Percentage of zero values in trainer_run_home_TimeNorm_mean_365D: 0.000592375775315353\n",
      "Percentage of zero values in trainer_finishingPlaceMovement_mean_365D: 0.000592375775315353\n",
      "Percentage of zero values in trainer_averageSpeed_mean_365D: 0.000592375775315353\n",
      "Percentage of zero values in trainer_win_mean_365D: 0.006899435500731758\n",
      "Percentage of zero values in dam_distance_mean_365D: 0.0023172346504982924\n",
      "Percentage of zero values in dam_boxNumber_mean_365D: 0.0023172346504982924\n",
      "Percentage of zero values in dam_runTimeNorm_mean_365D: 0.0023172346504982924\n",
      "Percentage of zero values in dam_place_mean_365D: 0.0023172346504982924\n",
      "Percentage of zero values in dam_resultMargin_mean_365D: 0.0023172346504982924\n",
      "Percentage of zero values in dam_split_time_margin_mean_365D: 0.8665063767509931\n",
      "Percentage of zero values in dam_split_runTimeNorm_mean_365D: 0.02104676284061607\n",
      "Percentage of zero values in dam_time_1_mean_365D: 0.02103805143215555\n",
      "Percentage of zero values in dam_run_home_TimeNorm_mean_365D: 0.0023172346504982924\n",
      "Percentage of zero values in dam_finishingPlaceMovement_mean_365D: 0.0023172346504982924\n",
      "Percentage of zero values in dam_averageSpeed_mean_365D: 0.0023172346504982924\n",
      "Percentage of zero values in dam_win_mean_365D: 0.01598543452505401\n",
      "Percentage of zero values in sire_distance_mean_365D: 0.00019165098613143773\n",
      "Percentage of zero values in sire_boxNumber_mean_365D: 0.00019165098613143773\n",
      "Percentage of zero values in sire_runTimeNorm_mean_365D: 0.00019165098613143773\n",
      "Percentage of zero values in sire_place_mean_365D: 0.00019165098613143773\n",
      "Percentage of zero values in sire_resultMargin_mean_365D: 0.00019165098613143773\n",
      "Percentage of zero values in sire_split_time_margin_mean_365D: 0.28389609031988294\n",
      "Percentage of zero values in sire_split_runTimeNorm_mean_365D: 0.002299811833577253\n",
      "Percentage of zero values in sire_time_1_mean_365D: 0.0020820266220642554\n",
      "Percentage of zero values in sire_run_home_TimeNorm_mean_365D: 0.00019165098613143773\n",
      "Percentage of zero values in sire_finishingPlaceMovement_mean_365D: 0.00019165098613143773\n",
      "Percentage of zero values in sire_averageSpeed_mean_365D: 0.00019165098613143773\n",
      "Percentage of zero values in sire_win_mean_365D: 0.0014548052129068228\n"
     ]
    }
   ],
   "source": [
    "for c in feature_cols:\n",
    "    zero_perc = df4[df4[c]==0].shape[0] / df4.shape[0] \n",
    "    print(f\"Percentage of zero values in {c}: {zero_perc}\")"
   ]
  },
  {
   "cell_type": "code",
   "execution_count": 9,
   "metadata": {},
   "outputs": [
    {
     "name": "stdout",
     "output_type": "stream",
     "text": [
      "column: dogAgeScaled, in df4, True, mean df2 = 0.443152085365721, mean df4 = 0.44302941760023573, 0.0001226677654852515\n",
      "column: boxNumber, in df4, True, mean df2 = 4.49080044757697, mean df4 = 4.491661139012603, -0.0008606914356326101\n",
      "column: weightInKgScaled, in df4, True, mean df2 = 0.49216475386501546, mean df4 = 0.4918686465796142, 0.0002961072854012481\n",
      "column: hasEntryBoxNumberPlus1, in df4, True, mean df2 = 0.1254138356654247, mean df4 = 0.12485786032407846, 0.0005559753413462293\n",
      "column: hasEntryBoxNumberMinus1, in df4, True, mean df2 = 0.0, mean df4 = 0.0, 0.0\n",
      "column: rolling_box_win_percentage, in df4, True, mean df2 = 0.1294481756415974, mean df4 = 0.12867077655932826, 0.0007773990822691479\n",
      "column: dog_distance_mean_1, in df4, True, mean df2 = 379.84491688680225, mean df4 = 379.6427674594902, 0.2021494273120652\n",
      "column: dog_boxNumber_mean_1, in df4, True, mean df2 = 4.422095075499775, mean df4 = 4.424109258030891, -0.002014182531116404\n",
      "column: dog_runTimeNorm_mean_1, in df4, True, mean df2 = 0.4497281296631597, mean df4 = 0.4499372182181928, -0.00020908855503309898\n",
      "column: dog_place_mean_1, in df4, True, mean df2 = 4.2798682647164, mean df4 = 4.2903499005022265, -0.010481635785826171\n",
      "column: dog_resultMargin_mean_1, in df4, True, mean df2 = 6.822517851169122, mean df4 = 6.825952928077324, -0.003435076908202106\n",
      "column: dog_split_time_margin_mean_1, in df4, True, mean df2 = 0.004049798705718141, mean df4 = 0.0005425116080735334, 0.003507287097644608\n",
      "column: dog_split_runTimeNorm_mean_1, in df4, True, mean df2 = 0.06642317632322155, mean df4 = 0.058956710899717976, 0.007466465423503571\n",
      "column: dog_time_1_mean_1, in df4, True, mean df2 = 0.9553879154217952, mean df4 = 0.8348232848479106, 0.12056463057388467\n",
      "column: dog_run_home_TimeNorm_mean_1, in df4, True, mean df2 = 0.4497281296631597, mean df4 = 0.4499372182181928, -0.00020908855503309898\n",
      "column: dog_finishingPlaceMovement_mean_1, in df4, True, mean df2 = -4.2798682647164, mean df4 = -4.2903499005022265, 0.010481635785826171\n",
      "column: dog_averageSpeed_mean_1, in df4, True, mean df2 = 22.603833256611665, mean df4 = 22.76327384261942, -0.15944058600775435\n",
      "column: dog_win_mean_1, in df4, True, mean df2 = 0.12908212114570475, mean df4 = 0.12901544584478347, 6.667530092127616e-05\n",
      "column: trainer_distance_mean_365D, in df4, True, mean df2 = 389.3167051327159, mean df4 = 387.95825368296596, 1.358451449749964\n",
      "column: trainer_boxNumber_mean_365D, in df4, True, mean df2 = 4.499194135082295, mean df4 = 4.499911837379909, -0.0007177022976145864\n",
      "column: trainer_runTimeNorm_mean_365D, in df4, True, mean df2 = 0.4559138931146671, mean df4 = 0.4558498654650505, 6.402764961660479e-05\n",
      "column: trainer_place_mean_365D, in df4, True, mean df2 = 4.378624970456646, mean df4 = 4.395036198348495, -0.016411227891849123\n",
      "column: trainer_resultMargin_mean_365D, in df4, True, mean df2 = 7.076743097161225, mean df4 = 7.084419593046966, -0.007676495885740486\n",
      "column: trainer_split_time_margin_mean_365D, in df4, True, mean df2 = 0.00433698274078092, mean df4 = 7.549784065736348e-05, 0.004261484900123557\n",
      "column: trainer_split_runTimeNorm_mean_365D, in df4, True, mean df2 = 0.24357464356336012, mean df4 = 0.2386840741964377, 0.00489056936692242\n",
      "column: trainer_time_1_mean_365D, in df4, True, mean df2 = 3.3838481211683935, mean df4 = 3.302593215563658, 0.08125490560473558\n",
      "column: trainer_run_home_TimeNorm_mean_365D, in df4, True, mean df2 = 0.4559138931146671, mean df4 = 0.4558498654650505, 6.402764961660479e-05\n",
      "column: trainer_finishingPlaceMovement_mean_365D, in df4, True, mean df2 = -4.378624970456646, mean df4 = -4.395036198348495, 0.016411227891849123\n",
      "column: trainer_averageSpeed_mean_365D, in df4, True, mean df2 = 21.60791619371223, mean df4 = 21.7303617940493, -0.12244560033706975\n",
      "column: trainer_win_mean_365D, in df4, True, mean df2 = 0.13215079144513253, mean df4 = 0.13135266294107098, 0.0007981285040615516\n",
      "column: dam_distance_mean_365D, in df4, True, mean df2 = 391.12956486448337, mean df4 = 390.02387417654853, 1.105690687934839\n",
      "column: dam_boxNumber_mean_365D, in df4, True, mean df2 = 4.476042941663921, mean df4 = 4.476960922926676, -0.0009179812627548856\n",
      "column: dam_runTimeNorm_mean_365D, in df4, True, mean df2 = 0.4535821811284333, mean df4 = 0.45347571386643026, 0.00010646726200302936\n",
      "column: dam_place_mean_365D, in df4, True, mean df2 = 4.285976282315642, mean df4 = 4.300919324404102, -0.014943042088460423\n",
      "column: dam_resultMargin_mean_365D, in df4, True, mean df2 = 7.022767837701779, mean df4 = 7.032409886718704, -0.009642049016925114\n",
      "column: dam_split_time_margin_mean_365D, in df4, True, mean df2 = 0.021454641670376886, mean df4 = 0.017824823680496295, 0.003629817989880591\n",
      "column: dam_split_runTimeNorm_mean_365D, in df4, True, mean df2 = 0.14058963589167736, mean df4 = 0.13311350641105038, 0.007476129480626981\n",
      "column: dam_time_1_mean_365D, in df4, True, mean df2 = 2.0188024043424795, mean df4 = 1.9033812237200367, 0.11542118062244278\n",
      "column: dam_run_home_TimeNorm_mean_365D, in df4, True, mean df2 = 0.4535821811284333, mean df4 = 0.45347571386643026, 0.00010646726200302936\n",
      "column: dam_finishingPlaceMovement_mean_365D, in df4, True, mean df2 = -4.285976282315642, mean df4 = -4.300919324404102, 0.014943042088460423\n",
      "column: dam_averageSpeed_mean_365D, in df4, True, mean df2 = 20.662598582519283, mean df4 = 20.757503155257684, -0.09490457273840036\n",
      "column: dam_win_mean_365D, in df4, True, mean df2 = 0.13963059992784307, mean df4 = 0.13870993435936657, 0.000920665568476503\n",
      "column: sire_distance_mean_365D, in df4, True, mean df2 = 409.2575290607042, mean df4 = 408.80614676201895, 0.45138229868524604\n",
      "column: sire_boxNumber_mean_365D, in df4, True, mean df2 = 4.4686106845792395, mean df4 = 4.4687304042743, -0.00011971969506063829\n",
      "column: sire_runTimeNorm_mean_365D, in df4, True, mean df2 = 0.45440220926917624, mean df4 = 0.4543157601096028, 8.6449159573454e-05\n",
      "column: sire_place_mean_365D, in df4, True, mean df2 = 4.268102595212543, mean df4 = 4.275932754392785, -0.007830159180241658\n",
      "column: sire_resultMargin_mean_365D, in df4, True, mean df2 = 7.137984030530374, mean df4 = 7.143880162344788, -0.005896131814413508\n",
      "column: sire_split_time_margin_mean_365D, in df4, True, mean df2 = 0.1281409314321198, mean df4 = 0.1266884804171256, 0.0014524510149941938\n",
      "column: sire_split_runTimeNorm_mean_365D, in df4, True, mean df2 = 0.35691247070780724, mean df4 = 0.3540842060181928, 0.002828264689614446\n",
      "column: sire_time_1_mean_365D, in df4, True, mean df2 = 5.483114558514807, mean df4 = 5.438787948684071, 0.044326609830736\n",
      "column: sire_run_home_TimeNorm_mean_365D, in df4, True, mean df2 = 0.45440220926917624, mean df4 = 0.4543157601096028, 8.6449159573454e-05\n",
      "column: sire_finishingPlaceMovement_mean_365D, in df4, True, mean df2 = -4.268102595212543, mean df4 = -4.275932754392785, 0.007830159180241658\n",
      "column: sire_averageSpeed_mean_365D, in df4, True, mean df2 = 19.24199713305331, mean df4 = 19.281130347255136, -0.039133214201825695\n",
      "column: sire_win_mean_365D, in df4, True, mean df2 = 0.13123626884086098, mean df4 = 0.13052050504786575, 0.0007157637929952332\n"
     ]
    }
   ],
   "source": [
    "for c in feature_cols:\n",
    "    if 'Id' in c:\n",
    "        print(c)\n",
    "    elif c not in df4.columns:\n",
    "        print(f\"column: {c}, in df2, {c in df2.columns}\")\n",
    "    else:\n",
    "        # if type df2[c]\n",
    "        try:\n",
    "            print(f\"column: {c}, in df4, {c in df4.columns}, mean df2 = {df2[c].mean()}, mean df4 = {df4[c].mean()}, {df2[c].mean()- df4[c].mean()}\")   \n",
    "        except Exception as e:\n",
    "            pass"
   ]
  },
  {
   "cell_type": "code",
   "execution_count": null,
   "metadata": {},
   "outputs": [],
   "source": [
    "df = pd.read_feather('model_all_price/NZ-dark-cosmos-774 - val_all_price_df.fth')\n",
    "df.to_csv('NZ-dark-cosmos-774 - val_all_price_df.csv')"
   ]
  },
  {
   "cell_type": "code",
   "execution_count": null,
   "metadata": {},
   "outputs": [],
   "source": [
    "df = pd.read_feather('./data/topaz_data_w_bsp_new_w_price.fth')"
   ]
  },
  {
   "cell_type": "code",
   "execution_count": null,
   "metadata": {},
   "outputs": [],
   "source": [
    "for i in df.columns:\n",
    "    print(i)"
   ]
  },
  {
   "cell_type": "code",
   "execution_count": null,
   "metadata": {},
   "outputs": [],
   "source": [
    "prev_stat = df.stats_topaz.apply(lambda x: x[0])"
   ]
  },
  {
   "cell_type": "code",
   "execution_count": null,
   "metadata": {},
   "outputs": [],
   "source": [
    "prev_stat"
   ]
  },
  {
   "cell_type": "code",
   "execution_count": null,
   "metadata": {},
   "outputs": [],
   "source": [
    "df.stats_topaz.iloc[1_000_000].round(5).tolist()"
   ]
  },
  {
   "cell_type": "code",
   "execution_count": null,
   "metadata": {},
   "outputs": [],
   "source": [
    "df = df.query('state == \"VIC\"')"
   ]
  },
  {
   "cell_type": "code",
   "execution_count": null,
   "metadata": {},
   "outputs": [],
   "source": [
    "df = df[df['track'].isin([\"Bendigo\", \"Geelong\", \"Traralgon\"])]\n",
    "df.prev_race_track.value_counts()"
   ]
  },
  {
   "cell_type": "code",
   "execution_count": null,
   "metadata": {},
   "outputs": [],
   "source": [
    "prev_race_not_vic = df.query('prev_race_state != \"VIC\"')"
   ]
  },
  {
   "cell_type": "code",
   "execution_count": null,
   "metadata": {},
   "outputs": [],
   "source": [
    "prev_race_not_vic.prev_race_track.value_counts()"
   ]
  },
  {
   "cell_type": "code",
   "execution_count": null,
   "metadata": {},
   "outputs": [],
   "source": [
    "model_name  = 'VIC-youthful-fog-761'\n",
    "epoch = '600'\n",
    "all_price_df = pd.read_feather(f'model_all_price/{epoch}{model_name} - val_all_price_df.fth')"
   ]
  },
  {
   "cell_type": "code",
   "execution_count": 34,
   "metadata": {},
   "outputs": [
    {
     "data": {
      "text/plain": [
       "favorite_correct\n",
       "0.0    45308\n",
       "1.0     2652\n",
       "Name: count, dtype: int64"
      ]
     },
     "execution_count": 34,
     "metadata": {},
     "output_type": "execute_result"
    }
   ],
   "source": [
    "all_price_df.favorite_correct.value_counts()"
   ]
  },
  {
   "cell_type": "code",
   "execution_count": 32,
   "metadata": {},
   "outputs": [],
   "source": [
    "wrong = all_price_df.query('favorite_correct == 1 and correct == 0')\n"
   ]
  },
  {
   "cell_type": "code",
   "execution_count": 33,
   "metadata": {},
   "outputs": [
    {
     "data": {
      "text/plain": [
       "['857095230',\n",
       " '857095228',\n",
       " '857095226',\n",
       " '861001091',\n",
       " '861001078',\n",
       " '861001087',\n",
       " '860994588',\n",
       " '861001206',\n",
       " '860650646',\n",
       " '860650644',\n",
       " '860994767',\n",
       " '860994805',\n",
       " '861001396',\n",
       " '860650858',\n",
       " '861001494',\n",
       " '861001486',\n",
       " '863837782',\n",
       " '860994956',\n",
       " '864267639',\n",
       " '864267629',\n",
       " '864267633',\n",
       " '865722017',\n",
       " '865722013',\n",
       " '865622378',\n",
       " '865622373',\n",
       " '865722018',\n",
       " '865722065',\n",
       " '865722069',\n",
       " '865722137',\n",
       " '865722134',\n",
       " '865722196',\n",
       " '865722195',\n",
       " '865622474',\n",
       " '865722193',\n",
       " '865722188',\n",
       " '865622579',\n",
       " '865622578',\n",
       " '865622577',\n",
       " '865598076',\n",
       " '865598071',\n",
       " '865598121',\n",
       " '865598123',\n",
       " '865598153',\n",
       " '865598146',\n",
       " '865598143',\n",
       " '865598136',\n",
       " '865598131',\n",
       " '868873784',\n",
       " '869415419',\n",
       " '869915867',\n",
       " '869915888',\n",
       " '869915878',\n",
       " '869915882',\n",
       " '869915873',\n",
       " '869915957',\n",
       " '869915995',\n",
       " '869916001',\n",
       " '869953521',\n",
       " '869953517',\n",
       " '870434536',\n",
       " '870731115',\n",
       " '870434542',\n",
       " '870731105',\n",
       " '870731114',\n",
       " '870678618',\n",
       " '870678613',\n",
       " '870731280',\n",
       " '870678726',\n",
       " '870678724',\n",
       " '870678812',\n",
       " '870678814',\n",
       " '870678806',\n",
       " '870434776',\n",
       " '870678843',\n",
       " '870434822',\n",
       " '870678880',\n",
       " '874691423',\n",
       " '874691424',\n",
       " '870731471',\n",
       " '870731479',\n",
       " '870731473',\n",
       " '875175916',\n",
       " '875175915',\n",
       " '875175918',\n",
       " '875175920',\n",
       " '875175914',\n",
       " '874633933',\n",
       " '874633937',\n",
       " '874633917',\n",
       " '874633909',\n",
       " '874633975',\n",
       " '875176089',\n",
       " '875176093',\n",
       " '874691635',\n",
       " '874691629',\n",
       " '877730559',\n",
       " '877730555',\n",
       " '877730566',\n",
       " '877730553',\n",
       " '877730548',\n",
       " '877730629',\n",
       " '877723141',\n",
       " '877723149',\n",
       " '877723196',\n",
       " '877723290',\n",
       " '877730801',\n",
       " '877723293',\n",
       " '877723295',\n",
       " '877723388',\n",
       " '877723391',\n",
       " '877723385',\n",
       " '877723389',\n",
       " '877723387',\n",
       " '881692380',\n",
       " '882009058',\n",
       " '881692427',\n",
       " '881692432',\n",
       " '881692424',\n",
       " '881692430',\n",
       " '881692494',\n",
       " '881692498',\n",
       " '881692585',\n",
       " '881692588',\n",
       " '881692592',\n",
       " '881692589',\n",
       " '881692591',\n",
       " '881692653',\n",
       " '880939750',\n",
       " '881692715',\n",
       " '881692718',\n",
       " '881692745',\n",
       " '882009316',\n",
       " '885078664',\n",
       " '885078661',\n",
       " '884739515',\n",
       " '884739696',\n",
       " '882009407',\n",
       " '884739698',\n",
       " '885078712',\n",
       " '885078791',\n",
       " '885078832',\n",
       " '884739902',\n",
       " '884739906',\n",
       " '886871366',\n",
       " '886871367',\n",
       " '886871363',\n",
       " '886871361',\n",
       " '888959023',\n",
       " '888959036',\n",
       " '888959044',\n",
       " '888959042',\n",
       " '888959030',\n",
       " '889068232',\n",
       " '889068237',\n",
       " '889068293',\n",
       " '889068348',\n",
       " '889068336',\n",
       " '889002715',\n",
       " '889002722',\n",
       " '889002719',\n",
       " '889068430',\n",
       " '889002825',\n",
       " '888959310',\n",
       " '888959300',\n",
       " '889002829',\n",
       " '889002832',\n",
       " '889002853',\n",
       " '892812689',\n",
       " '892831711',\n",
       " '894752939',\n",
       " '894752946',\n",
       " '894753022',\n",
       " '894776647',\n",
       " '894776650',\n",
       " '894753107',\n",
       " '894753110',\n",
       " '894776716',\n",
       " '894776718',\n",
       " '894753198',\n",
       " '894754681',\n",
       " '894754891',\n",
       " '899116188',\n",
       " '899116182',\n",
       " '894776966',\n",
       " '894776971',\n",
       " '899116173',\n",
       " '899116169',\n",
       " '899363208',\n",
       " '899363213',\n",
       " '899116348',\n",
       " '899115849',\n",
       " '899115855',\n",
       " '899115852',\n",
       " '899116437',\n",
       " '899116438',\n",
       " '899115987',\n",
       " '899363486',\n",
       " '899363484',\n",
       " '902002952',\n",
       " '902083642',\n",
       " '902083802',\n",
       " '902083800',\n",
       " '902083797',\n",
       " '902083799',\n",
       " '902003166',\n",
       " '902003155',\n",
       " '902003160',\n",
       " '902003240',\n",
       " '902043813',\n",
       " '902043857',\n",
       " '902083975',\n",
       " '902003368',\n",
       " '902003375',\n",
       " '902084053',\n",
       " '902084058',\n",
       " '902084059',\n",
       " '906606693',\n",
       " '906606696',\n",
       " '906546085',\n",
       " '906546128',\n",
       " '906606733',\n",
       " '906606741',\n",
       " '906546129',\n",
       " '906546123',\n",
       " '906606853',\n",
       " '906204551',\n",
       " '906204569',\n",
       " '906546317',\n",
       " '906606952',\n",
       " '906606950',\n",
       " '906606953',\n",
       " '906546447',\n",
       " '906204681',\n",
       " '906204674',\n",
       " '910518441',\n",
       " '910518437',\n",
       " '910518435',\n",
       " '910884194',\n",
       " '910884187',\n",
       " '911123702',\n",
       " '911123693',\n",
       " '911123697',\n",
       " '910518632',\n",
       " '910518642',\n",
       " '910884277',\n",
       " '911123826',\n",
       " '910884406',\n",
       " '914184224',\n",
       " '914186225',\n",
       " '914186232',\n",
       " '914236895',\n",
       " '914236887',\n",
       " '914186393',\n",
       " '914184371',\n",
       " '914184365',\n",
       " '914186383',\n",
       " '914184488',\n",
       " '914184486',\n",
       " '914237030',\n",
       " '914184567',\n",
       " '914237094',\n",
       " '914237204',\n",
       " '914186609',\n",
       " '918532422',\n",
       " '914237299',\n",
       " '914186715',\n",
       " '920247329',\n",
       " '920247332',\n",
       " '920248365',\n",
       " '920248357',\n",
       " '920248333',\n",
       " '920248325',\n",
       " '920248324',\n",
       " '920247443',\n",
       " '920247458',\n",
       " '920247466',\n",
       " '920247406',\n",
       " '920247446',\n",
       " '920247455',\n",
       " '920247457',\n",
       " '920248475',\n",
       " '920248476',\n",
       " '920247568',\n",
       " '920248575',\n",
       " '920248569',\n",
       " '920247647',\n",
       " '920248660',\n",
       " '920248659',\n",
       " '920248651',\n",
       " '920248654',\n",
       " '920248652',\n",
       " '920302832',\n",
       " '920247797',\n",
       " '920247795',\n",
       " '925012422',\n",
       " '925059947',\n",
       " '925059949',\n",
       " '925060000',\n",
       " '926158649',\n",
       " '926158670',\n",
       " '926158664',\n",
       " '926131172',\n",
       " '926131166',\n",
       " '926131254',\n",
       " '926158754',\n",
       " '928568936',\n",
       " '928401618',\n",
       " '928401620',\n",
       " '928401621',\n",
       " '928401623',\n",
       " '928401631',\n",
       " '928401740',\n",
       " '928401741',\n",
       " '928389650',\n",
       " '928401742',\n",
       " '928389654',\n",
       " '928389657',\n",
       " '928569103',\n",
       " '928569113',\n",
       " '928569202',\n",
       " '928569206',\n",
       " '928569302',\n",
       " '928569298',\n",
       " '928401881',\n",
       " '928401880',\n",
       " '928401872',\n",
       " '928569414',\n",
       " '932722733',\n",
       " '932722851',\n",
       " '932723223',\n",
       " '932723224',\n",
       " '932723229',\n",
       " '932723340',\n",
       " '932723349',\n",
       " '932722986',\n",
       " '932722978',\n",
       " '932783481',\n",
       " '932783546',\n",
       " '936077483',\n",
       " '936077477',\n",
       " '936152174',\n",
       " '936152173',\n",
       " '936152172',\n",
       " '936152179',\n",
       " '936077510',\n",
       " '936111684',\n",
       " '936152295',\n",
       " '936077674',\n",
       " '936077676',\n",
       " '938843959',\n",
       " '938843962',\n",
       " '938843941',\n",
       " '938843947',\n",
       " '938843949',\n",
       " '936152539',\n",
       " '936152538',\n",
       " '938844145',\n",
       " '940343960',\n",
       " '940343964',\n",
       " '940343963',\n",
       " '938844249',\n",
       " '938844253',\n",
       " '940344170',\n",
       " '940344177',\n",
       " '940344239',\n",
       " '938844429',\n",
       " '943079020',\n",
       " '943079023',\n",
       " '943843521',\n",
       " '943843527',\n",
       " '943843532',\n",
       " '943843585',\n",
       " '943843649',\n",
       " '943843640',\n",
       " '943843647',\n",
       " '943843695',\n",
       " '947440154',\n",
       " '946804941',\n",
       " '946804937',\n",
       " '946804932',\n",
       " '946804934',\n",
       " '946804992',\n",
       " '947440382',\n",
       " '947440380',\n",
       " '946804982',\n",
       " '946805045',\n",
       " '946805055',\n",
       " '947071136',\n",
       " '947071135',\n",
       " '946805279',\n",
       " '946805284',\n",
       " '946805296',\n",
       " '947071339',\n",
       " '947071340',\n",
       " '950923728',\n",
       " '950923727',\n",
       " '952249217',\n",
       " '952249231',\n",
       " '950923734',\n",
       " '952249220',\n",
       " '950923717',\n",
       " '950923723',\n",
       " '952200302',\n",
       " '952200295',\n",
       " '952249420',\n",
       " '952249425',\n",
       " '952249426',\n",
       " '952249475',\n",
       " '952249480',\n",
       " '950923823',\n",
       " '950923819',\n",
       " '950923957',\n",
       " '950923960',\n",
       " '955588872',\n",
       " '955588884',\n",
       " '956333398',\n",
       " '956365074',\n",
       " '956365073',\n",
       " '956333515',\n",
       " '956333573',\n",
       " '956365185',\n",
       " '956415812',\n",
       " '956365268',\n",
       " '956333703',\n",
       " '956415981',\n",
       " '956415987',\n",
       " '956415964',\n",
       " '956415973',\n",
       " '961099904',\n",
       " '961047804',\n",
       " '961047800',\n",
       " '962122905',\n",
       " '956333846',\n",
       " '961100012',\n",
       " '961100014',\n",
       " '962123117',\n",
       " '965805350',\n",
       " '965406137',\n",
       " '965357157',\n",
       " '965805492',\n",
       " '965393825',\n",
       " '965393830',\n",
       " '965357256',\n",
       " '965357248',\n",
       " '971186504',\n",
       " '971186498',\n",
       " '971186501',\n",
       " '965357325',\n",
       " '965406378',\n",
       " '965406386',\n",
       " '971690557',\n",
       " '971690554',\n",
       " '972129433',\n",
       " '971186685',\n",
       " '971186684',\n",
       " '971186686',\n",
       " '973971555',\n",
       " '973971563',\n",
       " '973971558',\n",
       " '973971565',\n",
       " '973627912',\n",
       " '974461038',\n",
       " '974461032',\n",
       " '973627907',\n",
       " '974391394',\n",
       " '975093357',\n",
       " '975093390',\n",
       " '975054813',\n",
       " '975054929',\n",
       " '978287677',\n",
       " '978357810',\n",
       " '978357914',\n",
       " '979489124',\n",
       " '978355997',\n",
       " '978357978',\n",
       " '981336265',\n",
       " '981334258',\n",
       " '981417537',\n",
       " '981336341',\n",
       " '981336390',\n",
       " '981336487',\n",
       " '983938953',\n",
       " '983938961',\n",
       " '981336646',\n",
       " '981336650',\n",
       " '981334563',\n",
       " '984527266',\n",
       " '984527277',\n",
       " '984527279',\n",
       " '981334703',\n",
       " '984527364',\n",
       " '987241551',\n",
       " '987241543',\n",
       " '987241557',\n",
       " '987287657',\n",
       " '987241689',\n",
       " '987241694',\n",
       " '987241738',\n",
       " '987241733',\n",
       " '987287791',\n",
       " '987287792',\n",
       " '987241839',\n",
       " '987241841',\n",
       " '987241842',\n",
       " '987287838',\n",
       " '987287833',\n",
       " '989640834',\n",
       " '989640835',\n",
       " '989677527',\n",
       " '990376301',\n",
       " '990395882',\n",
       " '990411938',\n",
       " '990376451',\n",
       " '990396031',\n",
       " '990376446',\n",
       " '990376420',\n",
       " '990376415',\n",
       " '990412112',\n",
       " '990396133',\n",
       " '992485581',\n",
       " '992485563',\n",
       " '990376552',\n",
       " '992485649',\n",
       " '992485574',\n",
       " '994164401',\n",
       " '994164404',\n",
       " '994682907',\n",
       " '994682900',\n",
       " '992485759',\n",
       " '995539110',\n",
       " '995179433',\n",
       " '996299624',\n",
       " '996299657',\n",
       " '996299655',\n",
       " '996370342',\n",
       " '996370340',\n",
       " '996299723',\n",
       " '996299775',\n",
       " '996299786',\n",
       " '996299784',\n",
       " '996299724',\n",
       " '996370443',\n",
       " '996370445',\n",
       " '996378443',\n",
       " '996378449',\n",
       " '996378445',\n",
       " '996378510',\n",
       " '996378516',\n",
       " '998752024',\n",
       " '998764129',\n",
       " '998755219',\n",
       " '998755215',\n",
       " '998752320',\n",
       " '1001129267',\n",
       " '1001129265',\n",
       " '1001127336',\n",
       " '1001127267',\n",
       " '1001127258',\n",
       " '1001127265',\n",
       " '1002167347',\n",
       " '1002167350',\n",
       " '1002640279',\n",
       " '1003096206',\n",
       " '1003096196',\n",
       " '1003096193',\n",
       " '1004319636',\n",
       " '1004648288',\n",
       " '1004648290',\n",
       " '1005118231',\n",
       " '1005120237',\n",
       " '1005120234',\n",
       " '1006658800',\n",
       " '1006658809',\n",
       " '1007854699',\n",
       " '1007920381',\n",
       " '1007920384',\n",
       " '1007920379',\n",
       " '1009071622',\n",
       " '1009424827',\n",
       " '1009927329',\n",
       " '1009927331',\n",
       " '1010364196',\n",
       " '1010364202',\n",
       " '1011248999',\n",
       " '1011936835',\n",
       " '1011936837',\n",
       " '1012443349',\n",
       " '1014248467',\n",
       " '1014250455',\n",
       " '1014748956',\n",
       " '1014748958',\n",
       " '1015135223',\n",
       " '1015135220',\n",
       " '1015144286',\n",
       " '1015144290',\n",
       " '1015445845',\n",
       " '1016836618',\n",
       " '1016836617',\n",
       " '1016838129',\n",
       " '1017370182',\n",
       " '1017311569',\n",
       " '1017311567',\n",
       " '1017311562',\n",
       " '1018600642',\n",
       " '1019060053',\n",
       " '1019060052',\n",
       " '1020463868',\n",
       " '1020463855',\n",
       " '1020990915',\n",
       " '1020990913',\n",
       " '1021570073',\n",
       " '1021570070',\n",
       " '1022149726',\n",
       " '1022149787',\n",
       " '1024043499',\n",
       " '1024041495',\n",
       " '1024639190',\n",
       " '1024552520',\n",
       " '1025115140',\n",
       " '1025115142',\n",
       " '1025115148',\n",
       " '1025116142',\n",
       " '1025115151',\n",
       " '1025116148',\n",
       " '1025116143',\n",
       " '1025683854',\n",
       " '1025683856',\n",
       " '1027652214',\n",
       " '1027650207',\n",
       " '1028248899',\n",
       " '1028832558',\n",
       " '1028832561',\n",
       " '1028923751',\n",
       " '1029557006',\n",
       " '1029557009',\n",
       " '1029586118',\n",
       " '1029663748',\n",
       " '1031874653']"
      ]
     },
     "execution_count": 33,
     "metadata": {},
     "output_type": "execute_result"
    }
   ],
   "source": [
    "wrong_race_ids = wrong['raceID'].tolist()\n",
    "wrong_race_ids"
   ]
  },
  {
   "cell_type": "code",
   "execution_count": 35,
   "metadata": {},
   "outputs": [],
   "source": [
    "wrong_df = all_price_df[all_price_df['raceID'].isin(wrong_race_ids)]"
   ]
  },
  {
   "cell_type": "code",
   "execution_count": null,
   "metadata": {},
   "outputs": [],
   "source": [
    "single_dog = all_price_df.query('dogID == \"263426803\"')\n",
    "# single_dog.to_csv('single_dog.csv')"
   ]
  },
  {
   "cell_type": "code",
   "execution_count": null,
   "metadata": {},
   "outputs": [],
   "source": [
    "single_dog "
   ]
  },
  {
   "cell_type": "code",
   "execution_count": null,
   "metadata": {},
   "outputs": [],
   "source": [
    "df = pd.read_feather('./data/topaz_data_w_bsp_new4.fth')"
   ]
  },
  {
   "cell_type": "code",
   "execution_count": null,
   "metadata": {},
   "outputs": [],
   "source": [
    "df.query('dogId == 782101719').to_csv('single_dog_nz.csv')"
   ]
  },
  {
   "cell_type": "code",
   "execution_count": null,
   "metadata": {},
   "outputs": [],
   "source": [
    "df.query('dogId == 740359894')"
   ]
  },
  {
   "cell_type": "code",
   "execution_count": null,
   "metadata": {},
   "outputs": [],
   "source": [
    "df.BSP.isna().sum()"
   ]
  },
  {
   "cell_type": "code",
   "execution_count": null,
   "metadata": {},
   "outputs": [],
   "source": [
    "df_w_prices = df.query('BSP.notna()')"
   ]
  },
  {
   "cell_type": "code",
   "execution_count": null,
   "metadata": {},
   "outputs": [],
   "source": [
    "df_w_prices.BSP.isna().sum()"
   ]
  },
  {
   "cell_type": "code",
   "execution_count": null,
   "metadata": {},
   "outputs": [],
   "source": [
    "runs_df = df_w_prices\n",
    "runs_df['year-month'] = pd.to_datetime(runs_df['meetingDate']).dt.to_period('M')\n",
    "runs_df['year'] = pd.to_datetime(runs_df['meetingDate']).dt.to_period('Y')"
   ]
  },
  {
   "cell_type": "code",
   "execution_count": null,
   "metadata": {},
   "outputs": [],
   "source": [
    "import pandas as pd\n",
    "import matplotlib.pyplot as plt\n",
    "\n",
    "# Assuming runs_df is your DataFrame\n",
    "# Make sure 'year-month' is in datetime format\n",
    "# runs_df['year-month'] = pd.to_datetime(runs_df['year-month'])\n",
    "\n",
    "# Calculate average win price and BSP for place == 1\n",
    "# avg_win_price = runs_df[runs_df['place'] == 1].groupby('year-month')['win price'].mean()\n",
    "\n",
    "avg_BSP = runs_df[runs_df['place'] == 1][runs_df['state'] == 'NSW'].groupby('year-month')['BSP'].median()\n",
    "\n",
    "# Create a new DataFrame for the averages\n",
    "avg_df = pd.DataFrame({ 'Average BSP': avg_BSP})\n",
    "\n",
    "# Plot the averages\n",
    "avg_df.plot(kind='line', marker='o')\n",
    "plt.title('Average Win Price and BSP Over Time')\n",
    "plt.xlabel('Year-Month')\n",
    "plt.ylabel('Average Price')\n",
    "plt.show()"
   ]
  },
  {
   "cell_type": "code",
   "execution_count": null,
   "metadata": {},
   "outputs": [],
   "source": [
    "df.query('selectionI == 914237037').to_csv('blahblach.csv')"
   ]
  },
  {
   "cell_type": "code",
   "execution_count": null,
   "metadata": {},
   "outputs": [],
   "source": [
    "df.query('raceId == 914237037')"
   ]
  },
  {
   "cell_type": "code",
   "execution_count": null,
   "metadata": {},
   "outputs": [],
   "source": [
    "df.columns"
   ]
  },
  {
   "cell_type": "code",
   "execution_count": null,
   "metadata": {},
   "outputs": [],
   "source": [
    "df.dogId"
   ]
  },
  {
   "cell_type": "code",
   "execution_count": 36,
   "metadata": {},
   "outputs": [
    {
     "name": "stderr",
     "output_type": "stream",
     "text": [
      "C:\\Users\\Nick\\AppData\\Local\\Temp\\ipykernel_20740\\2040291442.py:1: SettingWithCopyWarning: \n",
      "A value is trying to be set on a copy of a slice from a DataFrame.\n",
      "Try using .loc[row_indexer,col_indexer] = value instead\n",
      "\n",
      "See the caveats in the documentation: https://pandas.pydata.org/pandas-docs/stable/user_guide/indexing.html#returning-a-view-versus-a-copy\n",
      "  wrong_df['raceID'] = wrong_df['raceID'].astype(int)\n",
      "C:\\Users\\Nick\\AppData\\Local\\Temp\\ipykernel_20740\\2040291442.py:2: SettingWithCopyWarning: \n",
      "A value is trying to be set on a copy of a slice from a DataFrame.\n",
      "Try using .loc[row_indexer,col_indexer] = value instead\n",
      "\n",
      "See the caveats in the documentation: https://pandas.pydata.org/pandas-docs/stable/user_guide/indexing.html#returning-a-view-versus-a-copy\n",
      "  wrong_df['dogID'] = wrong_df['dogID'].astype(int)\n"
     ]
    }
   ],
   "source": [
    "wrong_df['raceID'] = wrong_df['raceID'].astype(int)\n",
    "wrong_df['dogID'] = wrong_df['dogID'].astype(int)"
   ]
  },
  {
   "cell_type": "code",
   "execution_count": 38,
   "metadata": {},
   "outputs": [],
   "source": [
    "wrong_race_merge_stats = wrong_df.merge(df4, left_on=['raceID', 'dogID'], right_on=['raceId', 'dogId'])"
   ]
  },
  {
   "cell_type": "code",
   "execution_count": 39,
   "metadata": {},
   "outputs": [],
   "source": [
    "wrong_race_merge_stats.to_csv('wrong_race_merge_stats.csv')"
   ]
  },
  {
   "cell_type": "code",
   "execution_count": null,
   "metadata": {},
   "outputs": [],
   "source": [
    "wrong_race_merge_stats.track_x.value_counts()"
   ]
  },
  {
   "cell_type": "code",
   "execution_count": null,
   "metadata": {},
   "outputs": [],
   "source": [
    "wrong.win_price.count()"
   ]
  },
  {
   "cell_type": "code",
   "execution_count": null,
   "metadata": {},
   "outputs": [],
   "source": [
    "all_price_df.query('favorite_correct == 0 and correct == 1').win_price.count()\n"
   ]
  },
  {
   "cell_type": "code",
   "execution_count": null,
   "metadata": {},
   "outputs": [],
   "source": []
  },
  {
   "cell_type": "code",
   "execution_count": null,
   "metadata": {},
   "outputs": [],
   "source": [
    "all_price_df.to_excel(f'model_all_price/{epoch}{model_name} - all_price_df.xlsx')"
   ]
  },
  {
   "cell_type": "code",
   "execution_count": null,
   "metadata": {},
   "outputs": [],
   "source": [
    "    # model_all_price/RL40rich-brook-43 - val_all_price_df.fth model_all_price/RL40rich-brook-43 - all_price_df.fth"
   ]
  },
  {
   "cell_type": "code",
   "execution_count": null,
   "metadata": {},
   "outputs": [],
   "source": [
    "all_price_df.columns"
   ]
  },
  {
   "cell_type": "code",
   "execution_count": null,
   "metadata": {},
   "outputs": [],
   "source": [
    "# all_price_df[['betfair_log_loss', 'log_loss', 'label_loss']] = all_price_df[['betfair_log_loss', 'log_loss', 'label_loss']].expanding().mean()\n",
    "bydate = all_price_df.groupby(['date','raceID'])[['betfair_log_loss', 'log_loss', 'label_loss']].sum().reset_index().groupby('date').mean(numeric_only=True).expanding().mean().reset_index()\n",
    "# bydate = bydate.iloc[100_000:]"
   ]
  },
  {
   "cell_type": "code",
   "execution_count": null,
   "metadata": {},
   "outputs": [],
   "source": [
    "bydate"
   ]
  },
  {
   "cell_type": "code",
   "execution_count": null,
   "metadata": {},
   "outputs": [],
   "source": [
    "import plotly.graph_objects as go\n",
    "\n",
    "# Create a trace for ROI\n",
    "trace_roi = go.Scatter(\n",
    "    x = bydate['date'],\n",
    "    y = bydate['betfair_log_loss'],\n",
    "    mode = 'lines',\n",
    "    name = 'betfair_log_loss',\n",
    "    yaxis='y1'  # This associates this trace with the first y-axis\n",
    ")\n",
    "\n",
    "# Create a second trace for the second y-axis\n",
    "trace_second = go.Scatter(\n",
    "    x = bydate['date'],\n",
    "    y = bydate['log_loss'],  # Replace with your second data\n",
    "    mode = 'lines',\n",
    "    name = 'log_loss',\n",
    "    yaxis='y1'  # This associates this trace with the second y-axis\n",
    ")\n",
    "\n",
    "data = [trace_roi, trace_second]\n",
    "\n",
    "# Define layout\n",
    "layout = go.Layout(\n",
    "    title = 'Interactive Plot',\n",
    "    xaxis = dict(title = 'Round Price'),\n",
    "    yaxis = dict(title = 'Amount'),\n",
    "    yaxis2=dict(\n",
    "        title='Second Amount',  # Title for the second y-axis\n",
    "        overlaying='y',  # This line and the line below ensure that the second y-axis is displayed on the right\n",
    "        side='right'\n",
    "    )\n",
    ")\n",
    "\n",
    "# Define the figure\n",
    "fig = go.Figure(data=data, layout=layout)\n",
    "\n",
    "# Show the figure\n",
    "fig.show()"
   ]
  },
  {
   "cell_type": "code",
   "execution_count": 4,
   "metadata": {},
   "outputs": [],
   "source": [
    "model_name  = 'NZ-fancy-dawn-14'\n",
    "epoch = ''\n",
    "all_price_df = pd.read_feather(f'model_all_price/{epoch}{model_name} - all_price_df.fth')\n",
    "# all_price_df\n",
    "all_price_df2 = pd.read_feather(f'model_all_price/{epoch}{model_name} - val_all_price_df.fth')\n",
    "all_price_df = pd.concat([all_price_df, all_price_df2])"
   ]
  },
  {
   "cell_type": "code",
   "execution_count": 5,
   "metadata": {},
   "outputs": [],
   "source": [
    "all_price_df.to_csv(f'model_all_price/{epoch}{model_name} - all_price_df.csv')"
   ]
  },
  {
   "cell_type": "code",
   "execution_count": 51,
   "metadata": {},
   "outputs": [
    {
     "data": {
      "text/plain": [
       "Index(['index', 'raw_margins', 'correct', 'simple', 'win_price', 'relu',\n",
       "       'pred_order', 'output_logits', 'bet_amount_model', 'output_price',\n",
       "       'pred_prob', 'pred_prob2', 'prices', 'imp_prob', 'betfair_log_loss',\n",
       "       'log_loss', 'label_loss', 'pred_price', 'pred_price2', 'classes',\n",
       "       'track', 'onehot_win', 'dogID', 'dog_name', 'dog_box', 'raceID', 'date',\n",
       "       'entropy', 'mutual_info', 'race_num', 'loss', 'loss_bfsp',\n",
       "       'favorite_correct', 'one_hot_win', 'bet_amount', 'profit',\n",
       "       'seq_kelly_ratio', 'bet_kelly_seq', 'profit_kelly_sq', 'colour',\n",
       "       'profit < 30', 'outlay < 30', 'bet_amount2', 'profit2',\n",
       "       'bet_amount_kelly', 'profit_kelly', 'profit < 30 2', 'outlay < 30 2',\n",
       "       'bet_relu', 'profit_relu', 'bet_relu<30', 'profit_relu<30', 'kl_div',\n",
       "       'kl_div_bfsp', 'win < 30', 'win', 'bet_count', 'bet_count < 30',\n",
       "       'profit_model', 'round_price'],\n",
       "      dtype='object')"
      ]
     },
     "execution_count": 51,
     "metadata": {},
     "output_type": "execute_result"
    }
   ],
   "source": [
    "all_price_df.columns"
   ]
  },
  {
   "cell_type": "code",
   "execution_count": 49,
   "metadata": {},
   "outputs": [
    {
     "data": {
      "text/plain": [
       "pred_order  one_hot_win\n",
       "0           0              4061\n",
       "            1              2488\n",
       "1           0              5168\n",
       "            1              1382\n",
       "2           0              5626\n",
       "            1               917\n",
       "3           0              5863\n",
       "            1               661\n",
       "4           0              5953\n",
       "            1               483\n",
       "5           0              5799\n",
       "            1               348\n",
       "6           0              5168\n",
       "            1               188\n",
       "7           0              3773\n",
       "            1                82\n",
       "Name: count, dtype: int64"
      ]
     },
     "execution_count": 49,
     "metadata": {},
     "output_type": "execute_result"
    }
   ],
   "source": [
    "all_price_df.groupby('pred_order')['one_hot_win'].value_counts()"
   ]
  },
  {
   "cell_type": "code",
   "execution_count": 21,
   "metadata": {},
   "outputs": [
    {
     "data": {
      "text/plain": [
       "pred_order\n",
       "2    6163\n",
       "0    6089\n",
       "4    6058\n",
       "1    6056\n",
       "3    6012\n",
       "5    5998\n",
       "6    5885\n",
       "7    5699\n",
       "Name: count, dtype: int64"
      ]
     },
     "execution_count": 21,
     "metadata": {},
     "output_type": "execute_result"
    }
   ],
   "source": [
    "all_price_df.value_counts('pred_order')"
   ]
  },
  {
   "cell_type": "code",
   "execution_count": 26,
   "metadata": {},
   "outputs": [],
   "source": [
    "# Assuming df is your DataFrame\n",
    "filtered_df = all_price_df.groupby('raceID').filter(lambda x: all(x['pred_order'] != 0))\n",
    "\n",
    "unique_raceIds = filtered_df['raceID'].unique()"
   ]
  },
  {
   "cell_type": "code",
   "execution_count": 29,
   "metadata": {},
   "outputs": [],
   "source": [
    "simple_df = all_price_df.query('raceID == \"857095230\"')"
   ]
  },
  {
   "cell_type": "code",
   "execution_count": 30,
   "metadata": {},
   "outputs": [
    {
     "data": {
      "text/plain": [
       "0.984665797057799"
      ]
     },
     "execution_count": 30,
     "metadata": {},
     "output_type": "execute_result"
    }
   ],
   "source": [
    "simple_df.pred_prob.sum()"
   ]
  },
  {
   "cell_type": "code",
   "execution_count": null,
   "metadata": {},
   "outputs": [],
   "source": [
    "bytrack = all_price_df.groupby(['date','raceID','track'])[['betfair_log_loss', 'log_loss', 'label_loss']].sum().reset_index().groupby('track').mean(numeric_only=True)"
   ]
  },
  {
   "cell_type": "code",
   "execution_count": null,
   "metadata": {},
   "outputs": [],
   "source": [
    "all_price_df.columns"
   ]
  },
  {
   "cell_type": "code",
   "execution_count": null,
   "metadata": {},
   "outputs": [],
   "source": [
    "all_price_df.groupby('raceID')[['pred_prob']].sum().mean()"
   ]
  },
  {
   "cell_type": "code",
   "execution_count": null,
   "metadata": {},
   "outputs": [],
   "source": [
    "bytrack['delta'] = bytrack['betfair_log_loss'] - bytrack['log_loss']\n",
    "bytrack.plot.scatter(x='betfair_log_loss', y='delta')"
   ]
  },
  {
   "cell_type": "code",
   "execution_count": null,
   "metadata": {},
   "outputs": [],
   "source": [
    "all_price_df.columns"
   ]
  },
  {
   "cell_type": "code",
   "execution_count": null,
   "metadata": {},
   "outputs": [],
   "source": [
    "all_price_df.simple.sum()"
   ]
  },
  {
   "cell_type": "code",
   "execution_count": null,
   "metadata": {},
   "outputs": [],
   "source": [
    "all_price_df.one_hot_win.sum()"
   ]
  },
  {
   "cell_type": "code",
   "execution_count": null,
   "metadata": {},
   "outputs": [],
   "source": [
    "all_price_df['correct_over_fav'] = all_price_df['correct'] - all_price_df['favorite_correct']"
   ]
  },
  {
   "cell_type": "code",
   "execution_count": null,
   "metadata": {},
   "outputs": [],
   "source": [
    "all_price_df['correct_over_fav'].sum()"
   ]
  },
  {
   "cell_type": "code",
   "execution_count": null,
   "metadata": {},
   "outputs": [],
   "source": [
    "all_price_df.query('correct == 1')['prices'].mean()"
   ]
  },
  {
   "cell_type": "code",
   "execution_count": null,
   "metadata": {},
   "outputs": [],
   "source": [
    "all_price_df.query('favorite_correct == 1')['prices'].mean()"
   ]
  },
  {
   "cell_type": "code",
   "execution_count": null,
   "metadata": {},
   "outputs": [],
   "source": [
    "all_price_df"
   ]
  },
  {
   "cell_type": "code",
   "execution_count": null,
   "metadata": {},
   "outputs": [],
   "source": [
    "all_price_df['los_loss_2'] = (-(all_price_df['label_loss']*np.log(all_price_df['pred_prob2'])+(1-all_price_df['label_loss'])*np.log(1-all_price_df['pred_prob2'])))"
   ]
  },
  {
   "cell_type": "code",
   "execution_count": null,
   "metadata": {},
   "outputs": [],
   "source": [
    "all_price_df[['log_loss', 'los_loss_2']]"
   ]
  },
  {
   "cell_type": "code",
   "execution_count": null,
   "metadata": {},
   "outputs": [],
   "source": [
    "all_price_df['los_loss_2'].mean()"
   ]
  },
  {
   "cell_type": "code",
   "execution_count": null,
   "metadata": {},
   "outputs": [],
   "source": [
    "all_price_df['log_loss'].mean()"
   ]
  },
  {
   "cell_type": "code",
   "execution_count": null,
   "metadata": {},
   "outputs": [],
   "source": [
    "all_price_df.groupby('raceID')[['los_loss_2']].sum().mean()"
   ]
  },
  {
   "cell_type": "code",
   "execution_count": null,
   "metadata": {},
   "outputs": [],
   "source": [
    "all_price_df.groupby('raceID')[['log_loss']].sum().mean()"
   ]
  },
  {
   "cell_type": "code",
   "execution_count": null,
   "metadata": {},
   "outputs": [],
   "source": [
    "import torch.nn.functional as F\n",
    "import torch\n",
    "def pd_softmax(x):\n",
    "    x = torch.tensor(list(x))\n",
    "    x = F.softmax(x/0.8, dim=0)\n",
    "    return x.numpy()"
   ]
  },
  {
   "cell_type": "code",
   "execution_count": null,
   "metadata": {},
   "outputs": [],
   "source": [
    "all_price_df.columns"
   ]
  },
  {
   "cell_type": "code",
   "execution_count": null,
   "metadata": {},
   "outputs": [],
   "source": [
    "new_softmax = all_price_df.groupby('raceID',sort=False).apply(lambda x: pd_softmax(x['output_logits']))\n",
    "all_price_df['new_pred'] = np.concatenate(new_softmax)"
   ]
  },
  {
   "cell_type": "code",
   "execution_count": null,
   "metadata": {},
   "outputs": [],
   "source": [
    "all_price_df[['log_loss', 'los_loss_2', 'pred_prob', 'new_pred']]"
   ]
  },
  {
   "cell_type": "code",
   "execution_count": null,
   "metadata": {},
   "outputs": [],
   "source": [
    "all_price_df['log_loss_new'] = (-(all_price_df['label_loss']*np.log(all_price_df['new_pred'])+(1-all_price_df['label_loss'])*np.log(1-all_price_df['new_pred'])))"
   ]
  },
  {
   "cell_type": "code",
   "execution_count": null,
   "metadata": {},
   "outputs": [],
   "source": [
    "all_price_df[['log_loss', 'los_loss_2','log_loss_new', 'pred_prob', 'new_pred']].mean()"
   ]
  },
  {
   "cell_type": "code",
   "execution_count": null,
   "metadata": {},
   "outputs": [],
   "source": [
    "all_price_df.groupby('raceID')[['log_loss', 'los_loss_2','log_loss_new','betfair_log_loss']].sum().mean()"
   ]
  },
  {
   "cell_type": "code",
   "execution_count": null,
   "metadata": {},
   "outputs": [],
   "source": [
    "print(f\"{all_price_df['profit_model < 30'].sum()=}\")\n",
    "print(f\"{all_price_df2['profit_model < 30'].sum()=}\")"
   ]
  },
  {
   "cell_type": "code",
   "execution_count": null,
   "metadata": {},
   "outputs": [],
   "source": [
    "all_price_df['dt'] = pd.to_datetime(all_price_df['date']).dt.date\n",
    "all_price_df = all_price_df.sort_values('dt',ascending=True)"
   ]
  },
  {
   "cell_type": "code",
   "execution_count": null,
   "metadata": {},
   "outputs": [],
   "source": [
    "all_price_df = all_price_df2"
   ]
  },
  {
   "cell_type": "code",
   "execution_count": null,
   "metadata": {},
   "outputs": [],
   "source": [
    "all_price_df['lay_profit_model'] = all_price_df['lay_amount_model']-all_price_df['onehot_win']*all_price_df['lay_amount_model']*all_price_df['prices']"
   ]
  },
  {
   "cell_type": "code",
   "execution_count": null,
   "metadata": {},
   "outputs": [],
   "source": [
    "all_price_df['lay_profit_model'].sum()"
   ]
  },
  {
   "cell_type": "code",
   "execution_count": null,
   "metadata": {},
   "outputs": [],
   "source": [
    "bet_all_df = all_price_df[all_price_df['bet_amount_model'] >= 0.6]"
   ]
  },
  {
   "cell_type": "code",
   "execution_count": null,
   "metadata": {},
   "outputs": [],
   "source": [
    "bet_all_df['bet_under_30'] = np.where(bet_all_df['prices'] < 30,1,0)"
   ]
  },
  {
   "cell_type": "code",
   "execution_count": null,
   "metadata": {},
   "outputs": [],
   "source": [
    "bet_all_df['bet_under_30'].mean()"
   ]
  },
  {
   "cell_type": "code",
   "execution_count": null,
   "metadata": {},
   "outputs": [],
   "source": [
    "all_price_df.to_excel(f'model_all_price/{epoch}{model_name} - val-all_price_df.xlsx')"
   ]
  },
  {
   "cell_type": "code",
   "execution_count": null,
   "metadata": {},
   "outputs": [],
   "source": [
    "model_name  = 'sage-blaze-232'\n",
    "epoch = 200\n",
    "all_price_df = pd.read_feather(f'model_all_price/{epoch}{model_name} - all_price_df.fth')\n",
    "all_price_df\n",
    "all_price_df2 = pd.read_feather(f'model_all_price/{epoch}{model_name} - val_all_price_df.fth')\n",
    "all_price_df = pd.concat([all_price_df, all_price_df2])"
   ]
  },
  {
   "cell_type": "code",
   "execution_count": null,
   "metadata": {},
   "outputs": [],
   "source": [
    "all_price_df.date.min()\n"
   ]
  },
  {
   "cell_type": "code",
   "execution_count": null,
   "metadata": {},
   "outputs": [],
   "source": [
    "all_price_df.columns"
   ]
  },
  {
   "cell_type": "code",
   "execution_count": null,
   "metadata": {},
   "outputs": [],
   "source": [
    "all_price_df.raceID.nunique()"
   ]
  },
  {
   "cell_type": "code",
   "execution_count": null,
   "metadata": {},
   "outputs": [],
   "source": [
    "all_price_df.race_num.astype(int).value_counts(sort=False)"
   ]
  },
  {
   "cell_type": "code",
   "execution_count": null,
   "metadata": {},
   "outputs": [],
   "source": [
    "all_price_df.to_parquet(f'model_all_price/{model_name} - all_price_df.pqt')"
   ]
  },
  {
   "cell_type": "code",
   "execution_count": null,
   "metadata": {},
   "outputs": [],
   "source": [
    "all_price_df.shape"
   ]
  },
  {
   "cell_type": "code",
   "execution_count": null,
   "metadata": {},
   "outputs": [],
   "source": [
    "all_price_df.to_excel(f'model_all_price/{model_name} - all_price_df.xlsx')"
   ]
  },
  {
   "cell_type": "code",
   "execution_count": null,
   "metadata": {},
   "outputs": [],
   "source": [
    "model_name = 'faithful-sunset-63'\n",
    "all_price_df_nz = pd.read_parquet(f'model_all_price/{model_name} - all_price_df.pqt')\n",
    "all_price_df = all_price_df_nz"
   ]
  },
  {
   "cell_type": "code",
   "execution_count": null,
   "metadata": {},
   "outputs": [],
   "source": []
  },
  {
   "cell_type": "code",
   "execution_count": null,
   "metadata": {},
   "outputs": [],
   "source": [
    "import matplotlib.pyplot as plt\n",
    "\n",
    "# Filter the dataframe where 'bet_amount_model' > 0.5\n",
    "filtered_df = all_price_df[all_price_df['bet_amount_model'] > 0.8]\n",
    "filtered_df = filtered_df[filtered_df['round_price'] < 100]\n",
    "weights = np.ones_like(filtered_df['round_price']) / len(filtered_df['round_price'])\n",
    "\n",
    "# Plot histogram with weights\n",
    "plt.hist(filtered_df['round_price'], weights=weights, bins=50, edgecolor='black')\n",
    "\n",
    "plt.xlabel('Round Price')\n",
    "plt.ylabel('Percentage of bet_amount_model > 0.5')\n",
    "plt.title('Histogram of percentages of bet_amount_model > 0.5 against round_price')\n",
    "plt.show()"
   ]
  },
  {
   "cell_type": "code",
   "execution_count": null,
   "metadata": {},
   "outputs": [],
   "source": [
    "filtered_df['round_price'].mean()"
   ]
  },
  {
   "cell_type": "code",
   "execution_count": null,
   "metadata": {},
   "outputs": [],
   "source": [
    "filtered_df"
   ]
  },
  {
   "cell_type": "code",
   "execution_count": null,
   "metadata": {},
   "outputs": [],
   "source": [
    "filtered_df = all_price_df[all_price_df['lay_amount_model'] > 0.8]\n",
    "filtered_df = filtered_df[filtered_df['round_price'] < 30].reset_index(drop=True).copy()\n",
    "average_price_per_day = filtered_df.groupby('date')['round_price'].mean()\n",
    "\n",
    "# Plot histogram\n",
    "plt.hist(average_price_per_day, bins=30, edgecolor='black')\n",
    "\n",
    "plt.xlabel('Average Price')\n",
    "plt.ylabel('Frequency')\n",
    "plt.title('Histogram of average prices per day')\n",
    "plt.show()"
   ]
  },
  {
   "cell_type": "code",
   "execution_count": null,
   "metadata": {},
   "outputs": [],
   "source": [
    "all_price_df = pd.concat([all_price_df, all_price_df_nz])"
   ]
  },
  {
   "cell_type": "code",
   "execution_count": null,
   "metadata": {},
   "outputs": [],
   "source": [
    "all_price_df = pd.read_excel(f'model_all_price/{model_name} - all_price_df.xlsx')"
   ]
  },
  {
   "cell_type": "code",
   "execution_count": null,
   "metadata": {},
   "outputs": [],
   "source": [
    "price_df  = all_price_df.groupby('round_price')[['lay_amount_model', 'lay_profit_model','bet_amount_model', 'profit_model']].sum().cumsum().reset_index()\n"
   ]
  },
  {
   "cell_type": "code",
   "execution_count": null,
   "metadata": {},
   "outputs": [],
   "source": [
    "import plotly.graph_objects as go\n",
    "price_df['roi'] = price_df['profit_model'] / price_df['bet_amount_model']\n",
    "price_df = price_df.query('round_price < 100.0')\n",
    "# Create a trace for ROI\n",
    "trace_roi = go.Scatter(\n",
    "    x = price_df['round_price'],\n",
    "    y = price_df['profit_model'],\n",
    "    mode = 'lines',\n",
    "    name = 'Profit Model'\n",
    ")\n",
    "\n",
    "data = [trace_roi]\n",
    "\n",
    "# Define layout\n",
    "layout = go.Layout(\n",
    "    title = 'Interactive Plot',\n",
    "    xaxis = dict(title = 'Round Price'),\n",
    "    yaxis = dict(title = 'Amount'),\n",
    ")\n",
    "\n",
    "# Define the figure\n",
    "fig = go.Figure(data=data, layout=layout)\n",
    "\n",
    "# Show the figure\n",
    "fig.show()\n"
   ]
  },
  {
   "cell_type": "code",
   "execution_count": null,
   "metadata": {},
   "outputs": [],
   "source": [
    "all_price_df['dt'] = pd.to_datetime(all_price_df['date']).dt.date\n",
    "all_price_df = all_price_df.sort_values('dt',ascending=True)"
   ]
  },
  {
   "cell_type": "code",
   "execution_count": null,
   "metadata": {},
   "outputs": [],
   "source": []
  },
  {
   "cell_type": "code",
   "execution_count": null,
   "metadata": {},
   "outputs": [],
   "source": [
    "model_name  = 'fiery-haze-173'\n",
    "all_price_df2 = pd.read_feather(f'model_all_price/{epoch}{model_name} - val_all_price_df.fth')"
   ]
  },
  {
   "cell_type": "code",
   "execution_count": null,
   "metadata": {},
   "outputs": [],
   "source": [
    "import matplotlib.pyplot as plt\n",
    "import seaborn as sns\n",
    "import pandas as pd\n",
    "import numpy as np\n",
    "import glob\n",
    "import re\n",
    "model_name  = 'fiery-haze-173'\n",
    "files = glob.glob(f'model_all_price/*{model_name}* - val_all_price_df.fth')\n",
    "\n",
    "# Create a figure and a single axis\n",
    "fig, ax1 = plt.subplots(figsize=(10, 6))\n",
    "\n",
    "colors = sns.color_palette('husl', len(files))\n",
    "for i,file in enumerate(files):\n",
    "    all_price_df = pd.read_feather(file)\n",
    "    all_price_df['dt'] = pd.to_datetime(all_price_df['date']).dt.date\n",
    "\n",
    "    date = all_price_df.query('round_price <= 24.0').copy()\n",
    "\n",
    "    date['bet_amount_model'] = np.where(date['bet_amount_model'] > 0.1, date['bet_amount_model'], 0)*10*2\n",
    "    date['profit_model'] = np.where(date['bet_amount_model'] > 0.1, date['profit_model'], 0)*10*2\n",
    "\n",
    "    date = date.groupby('dt',sort=False)[['bet_amount_model', 'profit_model','round_price']].sum().cumsum().reset_index()\n",
    "    date['roi'] = date['profit_model'] / date['bet_amount_model']\n",
    "    epoch_number = re.search(r'\\d+', file).group()\n",
    "    # Plot the 'Profit Model' on the first axis\n",
    "    color = colors[i]\n",
    "    ax1.plot(date['dt'], date['profit_model'], label=f'Profit Model {epoch_number}', color=color)\n",
    "    ax1.set_xlabel('Round Price')\n",
    "    ax1.set_ylabel('Amount', color=color)\n",
    "\n",
    "    # Create a second axis that shares the same x-axis\n",
    "    # ax2 = ax1.twinx()\n",
    "\n",
    "    # Plot the 'roi' on the second axis\n",
    "    color = sns.color_palette()[1]\n",
    "    # ax2.plot(date['dt'], date['roi'], label=f'roi {file}', color=color)\n",
    "    # ax2.set_ylabel('roi', color=color)\n",
    "\n",
    "# Show the legend\n",
    "fig.legend(loc=\"upper left\")\n",
    "\n",
    "# Show the plot\n",
    "plt.show()"
   ]
  },
  {
   "cell_type": "code",
   "execution_count": null,
   "metadata": {},
   "outputs": [],
   "source": [
    "all_price_df.columns"
   ]
  },
  {
   "cell_type": "code",
   "execution_count": null,
   "metadata": {},
   "outputs": [],
   "source": [
    "price_df  = all_price_df.query('round_price < 30').groupby('raceID')[['bet_amount_model', 'profit_model']].sum()"
   ]
  },
  {
   "cell_type": "code",
   "execution_count": null,
   "metadata": {},
   "outputs": [],
   "source": [
    "price_df"
   ]
  },
  {
   "cell_type": "code",
   "execution_count": null,
   "metadata": {},
   "outputs": [],
   "source": [
    "all_price_df.query('round_price < 30')['profit_model'].mean()"
   ]
  },
  {
   "cell_type": "code",
   "execution_count": null,
   "metadata": {},
   "outputs": [],
   "source": [
    "all_price_df['roi'] = all_price_df['profit_model'] / all_price_df['bet_amount_model']"
   ]
  },
  {
   "cell_type": "code",
   "execution_count": null,
   "metadata": {},
   "outputs": [],
   "source": [
    "price_df  = all_price_df.query('round_price < 30').groupby('raceID')[['bet_amount_model', 'profit_model']].sum()"
   ]
  },
  {
   "cell_type": "code",
   "execution_count": null,
   "metadata": {},
   "outputs": [],
   "source": [
    "price_df"
   ]
  },
  {
   "cell_type": "code",
   "execution_count": null,
   "metadata": {},
   "outputs": [],
   "source": [
    "price_df.mean()"
   ]
  },
  {
   "cell_type": "code",
   "execution_count": null,
   "metadata": {},
   "outputs": [],
   "source": [
    "import scipy.stats as stats\n",
    "model_name  = 'fiery-haze-173'\n",
    "# file\n",
    "# Concatenate all profit_model data from all files\n",
    "# all_profits =  pd.read_parquet('model_all_price/fiery-haze-173 - all_price_df.pqt')['profit_model']\n",
    "# all_price_df = price_df\n",
    "all_price_df['roi'] = all_price_df['profit_model'] / all_price_df['bet_amount_model']\n",
    "# all_price_df = all_price_df.query('bet_amount_model > 0.10 and prices < 30').copy()\n",
    "\n",
    "all_profits = all_price_df['roi']\n",
    "all_profits.dropna(inplace=True)\n",
    "\n",
    "# Perform the t-test\n",
    "t_stat, p_value = stats.ttest_1samp(all_profits, 0.15)\n",
    "\n",
    "print(f'T-statistic: {t_stat}')\n",
    "print(f'P-value: {p_value}')"
   ]
  },
  {
   "cell_type": "code",
   "execution_count": null,
   "metadata": {},
   "outputs": [],
   "source": [
    "all_profits"
   ]
  },
  {
   "cell_type": "code",
   "execution_count": null,
   "metadata": {},
   "outputs": [],
   "source": [
    "\n",
    "all_profits = all_price_df.groupby('raceID')[['bet_amount_model','profit_model']].sum()\n",
    "all_profits['roi'] = all_profits['profit_model'] / all_profits['bet_amount_model']\n",
    "all_profits = all_profits['roi']"
   ]
  },
  {
   "cell_type": "code",
   "execution_count": null,
   "metadata": {},
   "outputs": [],
   "source": [
    "import numpy as np\n",
    "all_profits \n",
    "std_dev = all_profits.std()\n",
    "num = all_profits.count()\n",
    "print(f'Standard deviation: {std_dev}')\n",
    "\n",
    "Z = 1.96  # z-score for 95% confidence level\n",
    "E = 0.1  # desired margin of error\n",
    "\n",
    "# Calculate the sample size\n",
    "n = (Z**2 * std_dev**2) / E**2\n",
    "n = np.ceil(n)  # round up to the nearest whole number because you can't have a fraction of a sample\n",
    "\n",
    "print(f'Sample size: {n}, num = {num}')"
   ]
  },
  {
   "cell_type": "code",
   "execution_count": null,
   "metadata": {},
   "outputs": [],
   "source": [
    "win_df = all_price_df.query('round_price < 30.0').groupby('dt')['profit_model'].sum().reset_index()\n",
    "win_df['win'] = np.where(win_df['profit_model'] > 0, 1, 0)\n",
    "win_df['win'].value_counts()"
   ]
  },
  {
   "cell_type": "code",
   "execution_count": null,
   "metadata": {},
   "outputs": [],
   "source": [
    "(Z**2 * std_dev**2)"
   ]
  },
  {
   "cell_type": "code",
   "execution_count": null,
   "metadata": {},
   "outputs": [],
   "source": [
    "all_profits.shape"
   ]
  },
  {
   "cell_type": "code",
   "execution_count": null,
   "metadata": {},
   "outputs": [],
   "source": [
    "import matplotlib.pyplot as plt\n",
    "import seaborn as sns\n",
    "\n",
    "# Set the seaborn color palette as the default matplotlib color palette\n",
    "sns.set_palette('husl')\n",
    "\n",
    "# Your existing code\n",
    "date = all_price_df.query('round_price < 31.0').copy()\n",
    "\n",
    "date['bet_amount_model'] = np.where(date['bet_amount_model'] > 0.1, date['bet_amount_model'], 0)*10*2\n",
    "date['profit_model'] = np.where(date['bet_amount_model'] > 0.1, date['profit_model'], 0)*10*2\n",
    "\n",
    "date = date.groupby('dt',sort=False)[['bet_amount_model', 'profit_model','round_price']].sum().cumsum().reset_index()\n",
    "date['balance'] = date['profit_model']\n",
    "date['adj_bet'] = np.where(date['balance']*0.05>20, date['balance']*0.05,20)\n",
    "date['adj_profit'] = date['adj_bet']*date['profit_model']\n",
    "date['roi'] = date['profit_model'] / date['bet_amount_model']\n",
    "date['adj_roi'] = date['adj_profit'] / (date['adj_bet'].cumsum()*20)\n",
    "# Create a figure and a single axis\n",
    "fig, ax1 = plt.subplots(figsize=(10, 6))\n",
    "\n",
    "# Plot the 'Profit Model' on the first axis\n",
    "color = sns.color_palette()[0]\n",
    "ax1.plot(date['dt'], date['adj_profit'], label='Profit Model', color=color)\n",
    "ax1.set_xlabel('Round Price')\n",
    "ax1.set_ylabel('Amount', color=color)\n",
    "\n",
    "color = sns.color_palette()[2]\n",
    "ax1.plot(date['dt'], date['profit_model'], label='Profit Model', color=color)\n",
    "ax1.set_xlabel('Round Price')\n",
    "ax1.set_ylabel('Amount', color=color)\n",
    "\n",
    "\n",
    "# Create a second axis that shares the same x-axis\n",
    "ax2 = ax1.twinx()\n",
    "\n",
    "# Plot the 'roi' on the second axis\n",
    "color = sns.color_palette()[1]\n",
    "ax2.plot(date['dt'], date['adj_roi'], label='roi', color=color)\n",
    "ax2.set_ylabel('roi', color=color)\n",
    "\n",
    "# Show the legend\n",
    "fig.legend(loc=\"upper left\")\n",
    "\n",
    "# Show the plot\n",
    "plt.show()"
   ]
  },
  {
   "cell_type": "code",
   "execution_count": null,
   "metadata": {},
   "outputs": [],
   "source": [
    "import matplotlib.pyplot as plt\n",
    "import seaborn as sns\n",
    "\n",
    "# Set the seaborn color palette as the default matplotlib color palette\n",
    "sns.set_palette('husl')\n",
    "\n",
    "# Your existing code\n",
    "date = all_price_df.query('round_price < 31.0').copy()\n",
    "start_date = '2023-07-01'\n",
    "start_date = pd.to_datetime(start_date).date()\n",
    "date = date.query('dt >= @start_date').copy()\n",
    "# date['bet_amount_model'] = date['lay_amount_model']# + date['bet_amount_model']\n",
    "# date['profit_model'] = date['lay_profit_model']# + date['profit_model']\n",
    "# date['bet_amount_model'] = np.where(date['bet_amount_model'] > 0.1, date['bet_amount_model'], 0)*1\n",
    "# date['profit_model'] = np.where(date['bet_amount_model'] > 0.1, date['profit_model'], 0)*1\n",
    "# date['profit_model'] = np.where(date['profit_model']>0,date['profit_model'],date['profit_model'])\n",
    "date = date.groupby('dt',sort=False)[['bet_amount_model', 'profit_model','round_price']].sum().cumsum().reset_index()\n",
    "date['roi'] = date['profit_model'] / date['bet_amount_model']\n",
    "\n",
    "# Create a figure and a single axis\n",
    "fig, ax1 = plt.subplots(figsize=(10, 6))\n",
    "\n",
    "# Create a figure and a single axis\n",
    "fig, ax1 = plt.subplots(figsize=(10, 6))\n",
    "prices = [3,5,10,15,20,25,30,31,32,35,50,100,10000]\n",
    "colors = sns.color_palette('husl', len(prices))\n",
    "for i,price in enumerate(prices):\n",
    "    print(f\"{price=}\")\n",
    "    date = all_price_df.query('round_price < @price').copy()\n",
    "    start_date = '2023-07-01'\n",
    "    start_date = pd.to_datetime(start_date).date()\n",
    "    date = date.query('dt >= @start_date').copy()\n",
    "    date = date.groupby('dt',sort=False)[['bet_amount_model', 'profit_model','round_price']].sum().cumsum().reset_index()\n",
    "    # Plot the 'Profit Model' on the first axis\n",
    "    color = colors[i]\n",
    "    ax1.plot(date['dt'], date['profit_model'], label=f'Profit Model {price}', color=color)\n",
    "    ax1.set_xlabel('Round Price')\n",
    "    ax1.set_ylabel('Amount', color=color)\n",
    "\n",
    "    # Create a second axis that shares the same x-axis\n",
    "\n",
    "    ax2 = ax1.twinx()\n",
    "\n",
    "    # Plot the 'roi' on the second axis\n",
    "    color = sns.color_palette()[1]\n",
    "    # ax2.plot(date['dt'], date['roi'], label='roi', color=color)\n",
    "    # ax2.set_ylabel('roi', color=color)\n",
    "\n",
    "    # Show the legend\n",
    "fig.legend(loc=\"upper left\")\n",
    "\n",
    "    # Show the plot\n",
    "plt.show()"
   ]
  },
  {
   "cell_type": "code",
   "execution_count": null,
   "metadata": {},
   "outputs": [],
   "source": []
  },
  {
   "cell_type": "code",
   "execution_count": null,
   "metadata": {},
   "outputs": [],
   "source": [
    "#Testing difference in data between server and local\n",
    "local = pd.read_feather('./data/gru_inputs_kitchen_sink_updated_recent.fth')\n",
    "server = pd.read_feather('./data/testing new outs simple 2024-03-24_NZ.fth')"
   ]
  },
  {
   "cell_type": "code",
   "execution_count": null,
   "metadata": {},
   "outputs": [],
   "source": []
  },
  {
   "cell_type": "code",
   "execution_count": null,
   "metadata": {},
   "outputs": [],
   "source": [
    "local = local.rename({'stats':'stats_local','dog_id':'dogid'}, axis=1)\n",
    "server = server.rename({'stats':'stats_server'}, axis=1)"
   ]
  },
  {
   "cell_type": "code",
   "execution_count": null,
   "metadata": {},
   "outputs": [],
   "source": [
    "local.query('raceid==\"1009424823\"')"
   ]
  },
  {
   "cell_type": "code",
   "execution_count": null,
   "metadata": {},
   "outputs": [],
   "source": [
    "local = local[['dogid','raceid','stats_local','prev_race_date']]\n",
    "merged = server.merge(local, on=['dogid','raceid'], how='left')"
   ]
  },
  {
   "cell_type": "code",
   "execution_count": null,
   "metadata": {},
   "outputs": [],
   "source": [
    "local.query('dogid == \"760119322\"')"
   ]
  },
  {
   "cell_type": "code",
   "execution_count": null,
   "metadata": {},
   "outputs": [],
   "source": [
    "merged['stats_diff'] = merged.apply(lambda x: (x['stats_local'] - x['stats_server']).sum(), axis=1)"
   ]
  },
  {
   "cell_type": "code",
   "execution_count": null,
   "metadata": {},
   "outputs": [],
   "source": [
    "dogid = \"505983450\"\n",
    "stats_local = merged.query('dogid == @dogid')['stats_local'].to_list()[0]\n",
    "stats_server = merged.query('dogid == @dogid')['stats_server'].to_list()[0]\n"
   ]
  },
  {
   "cell_type": "code",
   "execution_count": null,
   "metadata": {},
   "outputs": [],
   "source": [
    "stats_local.round(2).tolist()"
   ]
  },
  {
   "cell_type": "code",
   "execution_count": null,
   "metadata": {},
   "outputs": [],
   "source": [
    "delta = pd.DataFrame([stats_server.round(2)[6:],stats_local.round(2)[6:]],columns=eval(merged['stats_cols'][0]))"
   ]
  },
  {
   "cell_type": "code",
   "execution_count": null,
   "metadata": {},
   "outputs": [],
   "source": [
    "local = local.query('state == \"NZ\"')"
   ]
  },
  {
   "cell_type": "code",
   "execution_count": null,
   "metadata": {},
   "outputs": [],
   "source": [
    "local"
   ]
  },
  {
   "cell_type": "code",
   "execution_count": null,
   "metadata": {},
   "outputs": [],
   "source": [
    "server['stats_cols'][0]"
   ]
  },
  {
   "cell_type": "code",
   "execution_count": null,
   "metadata": {},
   "outputs": [],
   "source": [
    "df = df[[col for col in df.columns if '2' not in col and '<' not in col]]"
   ]
  },
  {
   "cell_type": "code",
   "execution_count": null,
   "metadata": {},
   "outputs": [],
   "source": [
    "df['bet_kelly_seq'] = np.where(\n",
    "    df['prices']<30,\n",
    "    df['seq_kelly_ratio']*100,\n",
    "    0\n",
    ")\n",
    "\n",
    "\n",
    "df['profit_kelly_sq'] = np.where(\n",
    "    df['onehot_win'],\n",
    "    df['bet_kelly_seq']  * (df['prices'] - 1) * 0.95,\n",
    "    -1 * df['bet_kelly_seq']\n",
    ")"
   ]
  },
  {
   "cell_type": "code",
   "execution_count": null,
   "metadata": {},
   "outputs": [],
   "source": [
    "df_30 = df[df['prices']<30]"
   ]
  },
  {
   "cell_type": "code",
   "execution_count": null,
   "metadata": {},
   "outputs": [],
   "source": [
    "df_30['profit_kelly_sq'].sum()/df_30['bet_kelly_seq'].sum()"
   ]
  },
  {
   "cell_type": "code",
   "execution_count": null,
   "metadata": {},
   "outputs": [],
   "source": [
    "df_30['profit_kelly'].sum()/df_30['bet_amount_kelly'].sum()"
   ]
  },
  {
   "cell_type": "code",
   "execution_count": null,
   "metadata": {},
   "outputs": [],
   "source": []
  },
  {
   "cell_type": "code",
   "execution_count": null,
   "metadata": {},
   "outputs": [],
   "source": [
    "json_path = 'wandb_jsons/dancing-snake-80' \n",
    "files = os.listdir(json_path)\n",
    "file_paths = [json_path + '/' + file for file in files]\n",
    "\n",
    "for i,file in enumerate(file_paths):\n",
    "    with open(file, 'r') as f:\n",
    "        json_obj = json.load(f)\n",
    "\n",
    "    # Create a DataFrame from the dictionary\n",
    "    if i == 0:\n",
    "        data = pd.DataFrame(data=json_obj[\"data\"], columns=json_obj[\"columns\"])\n",
    "        data['step'] = i\n",
    "    else:\n",
    "        df = pd.DataFrame(data=json_obj[\"data\"], columns=json_obj[\"columns\"])\n",
    "        df['step'] = i\n",
    "        data = pd.concat([data, df])"
   ]
  },
  {
   "cell_type": "code",
   "execution_count": null,
   "metadata": {},
   "outputs": [],
   "source": [
    "data"
   ]
  },
  {
   "cell_type": "code",
   "execution_count": null,
   "metadata": {},
   "outputs": [],
   "source": [
    "df.filter"
   ]
  },
  {
   "cell_type": "code",
   "execution_count": null,
   "metadata": {},
   "outputs": [],
   "source": [
    "df = data\n",
    "df = data.query('onehot_win ==1')\n",
    "# df = df.head(1000)\n",
    "\n",
    "# Create a scatter plot for each step\n",
    "# Create a scatter plot for each step\n",
    "# Create a scatter plot for each step using Scattergl for WebGL\n",
    "traces = [go.Scattergl(\n",
    "    x=df['loss'][df['step'] == step].head(100),\n",
    "    y=df['mutual_info'][df['step'] == step].head(100),\n",
    "    mode='markers',\n",
    "    visible=False,\n",
    "    name=f'Step {step}'\n",
    ") for step in df['step'].unique()]\n",
    "\n",
    "# Make the first trace visible\n",
    "traces[0]['visible'] = True\n",
    "\n",
    "x_range = [df['loss'].min(), df['loss'].max()]\n",
    "y_range = [df['mutual_info'].min(), df['mutual_info'].max()]\n",
    "\n",
    "# Create a layout with a slider\n",
    "layout = go.Layout(\n",
    "    title='Loss vs Mutual Info',\n",
    "    xaxis=dict(title='Loss'),\n",
    "    yaxis=dict(title='Mutual Info'),\n",
    "    sliders=[dict(\n",
    "        active=0,\n",
    "        currentvalue={\"prefix\": \"Step: \"},\n",
    "        pad={\"t\": 50},\n",
    "        steps=[dict(method='update',\n",
    "                    args=[{'visible': [s == step for s in df['step'].unique()]}],\n",
    "                    label=str(step)) for step in df['step'].unique()]\n",
    "    )]\n",
    ")\n",
    "\n",
    "# Create a Figure\n",
    "fig = go.Figure(data=traces, layout=layout)\n",
    "\n",
    "# Display the figure\n",
    "fig.show()"
   ]
  }
 ],
 "metadata": {
  "kernelspec": {
   "display_name": "PYTORCH",
   "language": "python",
   "name": "python3"
  },
  "language_info": {
   "codemirror_mode": {
    "name": "ipython",
    "version": 3
   },
   "file_extension": ".py",
   "mimetype": "text/x-python",
   "name": "python",
   "nbconvert_exporter": "python",
   "pygments_lexer": "ipython3",
   "version": "3.11.5"
  },
  "orig_nbformat": 4,
  "vscode": {
   "interpreter": {
    "hash": "8a48ca33c5a1168302a4f8eae355aad1c03b1396f568d40bc174a6e6aabe725d"
   }
  }
 },
 "nbformat": 4,
 "nbformat_minor": 2
}
