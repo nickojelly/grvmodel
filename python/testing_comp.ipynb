{
 "cells": [
  {
   "cell_type": "code",
   "execution_count": 6,
   "metadata": {},
   "outputs": [],
   "source": [
    "import pickle\n",
    "import pandas as pd\n",
    "import os\n",
    "import setup\n",
    "\n",
    "import torch\n",
    "import numpy as np\n",
    "import torch.nn as nn\n",
    "import torch.nn.functional as F\n",
    "import torch.optim as optim\n",
    "from tqdm.notebook import tqdm, trange\n",
    "import torch.optim as optim\n",
    "from torch.utils.data import TensorDataset, DataLoader\n",
    "import wandb\n",
    "from torch.utils.data.sampler import SubsetRandomSampler\n",
    "import pprint\n",
    "import matplotlib.pyplot as plt\n",
    "import torch\n",
    "\n",
    "from sklearn.preprocessing import MinMaxScaler\n",
    "import math\n",
    "from torch.profiler import profile, record_function, ProfilerActivity\n",
    "\n",
    "from operator import itemgetter\n",
    "import operator\n",
    "from random import randint\n",
    "# from rnn_classes import Dog, DogInput, Race, Races, GRUNet, smallGRUNet, smalll_lin_GRUNet, smalll_prelin_GRUNet\n",
    "import rnn_tools.rnn_classes as rnn_classes\n",
    "import json\n",
    "import plotly.graph_objs as go"
   ]
  },
  {
   "cell_type": "code",
   "execution_count": 8,
   "metadata": {},
   "outputs": [],
   "source": [
    "import csv\n",
    "from bs4 import BeautifulSoup\n",
    "\n",
    "# Open the file in read mode and parse the HTML\n",
    "with open('bsp.html', 'r') as f:\n",
    "    contents = f.read()\n",
    "\n",
    "soup = BeautifulSoup(contents, 'html.parser')\n",
    "\n",
    "race_numbers = [div.text for div in soup.find_all('div', class_='race-number')]\n",
    "runners = soup.find_all('div', class_='runner')\n",
    "\n",
    "# Prepare data for CSV\n",
    "data = []\n",
    "for runner in runners:\n",
    "    dog_number = runner.find('div', class_='number').text\n",
    "    dog_name = runner.find('div', class_='name').text\n",
    "    price_win = runner.find('div', class_='price win').text\n",
    "    data.append([race_numbers[0], dog_number, dog_name, price_win])\n",
    "\n",
    "# Write data to CSV\n",
    "with open('bsp_today.csv', 'w', newline='') as f:\n",
    "    writer = csv.writer(f)\n",
    "    writer.writerow([\"Race Number\", \"Dog Number\", \"Dog Name\", \"Price Win\"])  # write header\n",
    "    writer.writerows(data)  # write data"
   ]
  },
  {
   "cell_type": "code",
   "execution_count": null,
   "metadata": {},
   "outputs": [],
   "source": [
    "df = pd.read_feather('./data/topaz_data_w_bsp_new_w_price.fth')"
   ]
  },
  {
   "cell_type": "code",
   "execution_count": null,
   "metadata": {},
   "outputs": [],
   "source": [
    "df = df.query('state == \"VIC\"')"
   ]
  },
  {
   "cell_type": "code",
   "execution_count": null,
   "metadata": {},
   "outputs": [],
   "source": [
    "prev_race_not_vic = df.query('prev_race_state != \"VIC\"')"
   ]
  },
  {
   "cell_type": "code",
   "execution_count": null,
   "metadata": {},
   "outputs": [],
   "source": [
    "prev_race_not_vic.prev_race_track.value_counts()"
   ]
  },
  {
   "cell_type": "code",
   "execution_count": null,
   "metadata": {},
   "outputs": [],
   "source": [
    "model_name  = 'VIC-holographic-cruiser-532'\n",
    "epoch = ''\n",
    "all_price_df = pd.read_feather(f'model_all_price/{epoch}{model_name} - all_price_df.fth')"
   ]
  },
  {
   "cell_type": "code",
   "execution_count": null,
   "metadata": {},
   "outputs": [],
   "source": [
    "all_price_df.to_excel(f'model_all_price/{epoch}{model_name} - all_price_df.xlsx')"
   ]
  },
  {
   "cell_type": "code",
   "execution_count": null,
   "metadata": {},
   "outputs": [],
   "source": [
    "    # model_all_price/RL40rich-brook-43 - val_all_price_df.fth model_all_price/RL40rich-brook-43 - all_price_df.fth"
   ]
  },
  {
   "cell_type": "code",
   "execution_count": null,
   "metadata": {},
   "outputs": [],
   "source": [
    "all_price_df.columns"
   ]
  },
  {
   "cell_type": "code",
   "execution_count": null,
   "metadata": {},
   "outputs": [],
   "source": [
    "# all_price_df[['betfair_log_loss', 'log_loss', 'label_loss']] = all_price_df[['betfair_log_loss', 'log_loss', 'label_loss']].expanding().mean()\n",
    "bydate = all_price_df.groupby(['date','raceID'])[['betfair_log_loss', 'log_loss', 'label_loss']].sum().reset_index().groupby('date').mean(numeric_only=True).expanding().mean().reset_index()\n",
    "# bydate = bydate.iloc[100_000:]"
   ]
  },
  {
   "cell_type": "code",
   "execution_count": null,
   "metadata": {},
   "outputs": [],
   "source": [
    "bydate"
   ]
  },
  {
   "cell_type": "code",
   "execution_count": null,
   "metadata": {},
   "outputs": [],
   "source": [
    "import plotly.graph_objects as go\n",
    "\n",
    "# Create a trace for ROI\n",
    "trace_roi = go.Scatter(\n",
    "    x = bydate['date'],\n",
    "    y = bydate['betfair_log_loss'],\n",
    "    mode = 'lines',\n",
    "    name = 'betfair_log_loss',\n",
    "    yaxis='y1'  # This associates this trace with the first y-axis\n",
    ")\n",
    "\n",
    "# Create a second trace for the second y-axis\n",
    "trace_second = go.Scatter(\n",
    "    x = bydate['date'],\n",
    "    y = bydate['log_loss'],  # Replace with your second data\n",
    "    mode = 'lines',\n",
    "    name = 'log_loss',\n",
    "    yaxis='y1'  # This associates this trace with the second y-axis\n",
    ")\n",
    "\n",
    "data = [trace_roi, trace_second]\n",
    "\n",
    "# Define layout\n",
    "layout = go.Layout(\n",
    "    title = 'Interactive Plot',\n",
    "    xaxis = dict(title = 'Round Price'),\n",
    "    yaxis = dict(title = 'Amount'),\n",
    "    yaxis2=dict(\n",
    "        title='Second Amount',  # Title for the second y-axis\n",
    "        overlaying='y',  # This line and the line below ensure that the second y-axis is displayed on the right\n",
    "        side='right'\n",
    "    )\n",
    ")\n",
    "\n",
    "# Define the figure\n",
    "fig = go.Figure(data=data, layout=layout)\n",
    "\n",
    "# Show the figure\n",
    "fig.show()"
   ]
  },
  {
   "cell_type": "code",
   "execution_count": null,
   "metadata": {},
   "outputs": [],
   "source": [
    "model_name  = 'VIC-holographic-cruiser-532'\n",
    "epoch = ''\n",
    "all_price_df = pd.read_feather(f'model_all_price/{epoch}{model_name} - all_price_df.fth')\n",
    "# all_price_df\n",
    "all_price_df2 = pd.read_feather(f'model_all_price/{epoch}{model_name} - val_all_price_df.fth')\n",
    "all_price_df = pd.concat([all_price_df, all_price_df2])"
   ]
  },
  {
   "cell_type": "code",
   "execution_count": null,
   "metadata": {},
   "outputs": [],
   "source": [
    "bytrack = all_price_df.groupby(['date','raceID','track'])[['betfair_log_loss', 'log_loss', 'label_loss']].sum().reset_index().groupby('track').mean(numeric_only=True)"
   ]
  },
  {
   "cell_type": "code",
   "execution_count": null,
   "metadata": {},
   "outputs": [],
   "source": [
    "all_price_df.columns"
   ]
  },
  {
   "cell_type": "code",
   "execution_count": null,
   "metadata": {},
   "outputs": [],
   "source": [
    "all_price_df.groupby('raceID')[['pred_prob']].sum().mean()"
   ]
  },
  {
   "cell_type": "code",
   "execution_count": null,
   "metadata": {},
   "outputs": [],
   "source": [
    "bytrack['delta'] = bytrack['betfair_log_loss'] - bytrack['log_loss']\n",
    "bytrack.plot.scatter(x='betfair_log_loss', y='delta')"
   ]
  },
  {
   "cell_type": "code",
   "execution_count": null,
   "metadata": {},
   "outputs": [],
   "source": [
    "all_price_df.columns"
   ]
  },
  {
   "cell_type": "code",
   "execution_count": null,
   "metadata": {},
   "outputs": [],
   "source": [
    "all_price_df.simple.sum()"
   ]
  },
  {
   "cell_type": "code",
   "execution_count": null,
   "metadata": {},
   "outputs": [],
   "source": [
    "all_price_df.one_hot_win.sum()"
   ]
  },
  {
   "cell_type": "code",
   "execution_count": null,
   "metadata": {},
   "outputs": [],
   "source": [
    "all_price_df['correct_over_fav'] = all_price_df['correct'] - all_price_df['favorite_correct']"
   ]
  },
  {
   "cell_type": "code",
   "execution_count": null,
   "metadata": {},
   "outputs": [],
   "source": [
    "all_price_df['correct_over_fav'].sum()"
   ]
  },
  {
   "cell_type": "code",
   "execution_count": null,
   "metadata": {},
   "outputs": [],
   "source": [
    "all_price_df.query('correct == 1')['prices'].mean()"
   ]
  },
  {
   "cell_type": "code",
   "execution_count": null,
   "metadata": {},
   "outputs": [],
   "source": [
    "all_price_df.query('favorite_correct == 1')['prices'].mean()"
   ]
  },
  {
   "cell_type": "code",
   "execution_count": null,
   "metadata": {},
   "outputs": [],
   "source": []
  },
  {
   "cell_type": "code",
   "execution_count": null,
   "metadata": {},
   "outputs": [],
   "source": [
    "print(f\"{all_price_df['profit_model < 30'].sum()=}\")\n",
    "print(f\"{all_price_df2['profit_model < 30'].sum()=}\")"
   ]
  },
  {
   "cell_type": "code",
   "execution_count": null,
   "metadata": {},
   "outputs": [],
   "source": [
    "all_price_df['dt'] = pd.to_datetime(all_price_df['date']).dt.date\n",
    "all_price_df = all_price_df.sort_values('dt',ascending=True)"
   ]
  },
  {
   "cell_type": "code",
   "execution_count": null,
   "metadata": {},
   "outputs": [],
   "source": [
    "all_price_df = all_price_df2"
   ]
  },
  {
   "cell_type": "code",
   "execution_count": null,
   "metadata": {},
   "outputs": [],
   "source": [
    "all_price_df['lay_profit_model'] = all_price_df['lay_amount_model']-all_price_df['onehot_win']*all_price_df['lay_amount_model']*all_price_df['prices']"
   ]
  },
  {
   "cell_type": "code",
   "execution_count": null,
   "metadata": {},
   "outputs": [],
   "source": [
    "all_price_df['lay_profit_model'].sum()"
   ]
  },
  {
   "cell_type": "code",
   "execution_count": null,
   "metadata": {},
   "outputs": [],
   "source": [
    "bet_all_df = all_price_df[all_price_df['bet_amount_model'] >= 0.6]"
   ]
  },
  {
   "cell_type": "code",
   "execution_count": null,
   "metadata": {},
   "outputs": [],
   "source": [
    "bet_all_df['bet_under_30'] = np.where(bet_all_df['prices'] < 30,1,0)"
   ]
  },
  {
   "cell_type": "code",
   "execution_count": null,
   "metadata": {},
   "outputs": [],
   "source": [
    "bet_all_df['bet_under_30'].mean()"
   ]
  },
  {
   "cell_type": "code",
   "execution_count": null,
   "metadata": {},
   "outputs": [],
   "source": [
    "all_price_df.to_excel(f'model_all_price/{epoch}{model_name} - val-all_price_df.xlsx')"
   ]
  },
  {
   "cell_type": "code",
   "execution_count": null,
   "metadata": {},
   "outputs": [],
   "source": [
    "model_name  = 'sage-blaze-232'\n",
    "epoch = 200\n",
    "all_price_df = pd.read_feather(f'model_all_price/{epoch}{model_name} - all_price_df.fth')\n",
    "all_price_df\n",
    "all_price_df2 = pd.read_feather(f'model_all_price/{epoch}{model_name} - val_all_price_df.fth')\n",
    "all_price_df = pd.concat([all_price_df, all_price_df2])"
   ]
  },
  {
   "cell_type": "code",
   "execution_count": null,
   "metadata": {},
   "outputs": [],
   "source": [
    "all_price_df.date.min()\n"
   ]
  },
  {
   "cell_type": "code",
   "execution_count": null,
   "metadata": {},
   "outputs": [],
   "source": [
    "all_price_df.columns"
   ]
  },
  {
   "cell_type": "code",
   "execution_count": null,
   "metadata": {},
   "outputs": [],
   "source": [
    "all_price_df.raceID.nunique()"
   ]
  },
  {
   "cell_type": "code",
   "execution_count": null,
   "metadata": {},
   "outputs": [],
   "source": [
    "all_price_df.race_num.astype(int).value_counts(sort=False)"
   ]
  },
  {
   "cell_type": "code",
   "execution_count": null,
   "metadata": {},
   "outputs": [],
   "source": [
    "all_price_df.to_parquet(f'model_all_price/{model_name} - all_price_df.pqt')"
   ]
  },
  {
   "cell_type": "code",
   "execution_count": null,
   "metadata": {},
   "outputs": [],
   "source": [
    "all_price_df.shape"
   ]
  },
  {
   "cell_type": "code",
   "execution_count": null,
   "metadata": {},
   "outputs": [],
   "source": [
    "all_price_df.to_excel(f'model_all_price/{model_name} - all_price_df.xlsx')"
   ]
  },
  {
   "cell_type": "code",
   "execution_count": null,
   "metadata": {},
   "outputs": [],
   "source": [
    "model_name = 'faithful-sunset-63'\n",
    "all_price_df_nz = pd.read_parquet(f'model_all_price/{model_name} - all_price_df.pqt')\n",
    "all_price_df = all_price_df_nz"
   ]
  },
  {
   "cell_type": "code",
   "execution_count": null,
   "metadata": {},
   "outputs": [],
   "source": []
  },
  {
   "cell_type": "code",
   "execution_count": null,
   "metadata": {},
   "outputs": [],
   "source": [
    "import matplotlib.pyplot as plt\n",
    "\n",
    "# Filter the dataframe where 'bet_amount_model' > 0.5\n",
    "filtered_df = all_price_df[all_price_df['bet_amount_model'] > 0.8]\n",
    "filtered_df = filtered_df[filtered_df['round_price'] < 100]\n",
    "weights = np.ones_like(filtered_df['round_price']) / len(filtered_df['round_price'])\n",
    "\n",
    "# Plot histogram with weights\n",
    "plt.hist(filtered_df['round_price'], weights=weights, bins=50, edgecolor='black')\n",
    "\n",
    "plt.xlabel('Round Price')\n",
    "plt.ylabel('Percentage of bet_amount_model > 0.5')\n",
    "plt.title('Histogram of percentages of bet_amount_model > 0.5 against round_price')\n",
    "plt.show()"
   ]
  },
  {
   "cell_type": "code",
   "execution_count": null,
   "metadata": {},
   "outputs": [],
   "source": [
    "filtered_df['round_price'].mean()"
   ]
  },
  {
   "cell_type": "code",
   "execution_count": null,
   "metadata": {},
   "outputs": [],
   "source": [
    "filtered_df"
   ]
  },
  {
   "cell_type": "code",
   "execution_count": null,
   "metadata": {},
   "outputs": [],
   "source": [
    "filtered_df = all_price_df[all_price_df['lay_amount_model'] > 0.8]\n",
    "filtered_df = filtered_df[filtered_df['round_price'] < 30].reset_index(drop=True).copy()\n",
    "average_price_per_day = filtered_df.groupby('date')['round_price'].mean()\n",
    "\n",
    "# Plot histogram\n",
    "plt.hist(average_price_per_day, bins=30, edgecolor='black')\n",
    "\n",
    "plt.xlabel('Average Price')\n",
    "plt.ylabel('Frequency')\n",
    "plt.title('Histogram of average prices per day')\n",
    "plt.show()"
   ]
  },
  {
   "cell_type": "code",
   "execution_count": null,
   "metadata": {},
   "outputs": [],
   "source": [
    "all_price_df = pd.concat([all_price_df, all_price_df_nz])"
   ]
  },
  {
   "cell_type": "code",
   "execution_count": null,
   "metadata": {},
   "outputs": [],
   "source": [
    "all_price_df = pd.read_excel(f'model_all_price/{model_name} - all_price_df.xlsx')"
   ]
  },
  {
   "cell_type": "code",
   "execution_count": null,
   "metadata": {},
   "outputs": [],
   "source": [
    "price_df  = all_price_df.groupby('round_price')[['lay_amount_model', 'lay_profit_model','bet_amount_model', 'profit_model']].sum().cumsum().reset_index()\n"
   ]
  },
  {
   "cell_type": "code",
   "execution_count": null,
   "metadata": {},
   "outputs": [],
   "source": [
    "import plotly.graph_objects as go\n",
    "price_df['roi'] = price_df['profit_model'] / price_df['bet_amount_model']\n",
    "price_df = price_df.query('round_price < 100.0')\n",
    "# Create a trace for ROI\n",
    "trace_roi = go.Scatter(\n",
    "    x = price_df['round_price'],\n",
    "    y = price_df['profit_model'],\n",
    "    mode = 'lines',\n",
    "    name = 'Profit Model'\n",
    ")\n",
    "\n",
    "data = [trace_roi]\n",
    "\n",
    "# Define layout\n",
    "layout = go.Layout(\n",
    "    title = 'Interactive Plot',\n",
    "    xaxis = dict(title = 'Round Price'),\n",
    "    yaxis = dict(title = 'Amount'),\n",
    ")\n",
    "\n",
    "# Define the figure\n",
    "fig = go.Figure(data=data, layout=layout)\n",
    "\n",
    "# Show the figure\n",
    "fig.show()\n"
   ]
  },
  {
   "cell_type": "code",
   "execution_count": null,
   "metadata": {},
   "outputs": [],
   "source": [
    "all_price_df['dt'] = pd.to_datetime(all_price_df['date']).dt.date\n",
    "all_price_df = all_price_df.sort_values('dt',ascending=True)"
   ]
  },
  {
   "cell_type": "code",
   "execution_count": null,
   "metadata": {},
   "outputs": [],
   "source": []
  },
  {
   "cell_type": "code",
   "execution_count": null,
   "metadata": {},
   "outputs": [],
   "source": [
    "model_name  = 'fiery-haze-173'\n",
    "all_price_df2 = pd.read_feather(f'model_all_price/{epoch}{model_name} - val_all_price_df.fth')"
   ]
  },
  {
   "cell_type": "code",
   "execution_count": null,
   "metadata": {},
   "outputs": [],
   "source": [
    "import matplotlib.pyplot as plt\n",
    "import seaborn as sns\n",
    "import pandas as pd\n",
    "import numpy as np\n",
    "import glob\n",
    "import re\n",
    "model_name  = 'fiery-haze-173'\n",
    "files = glob.glob(f'model_all_price/*{model_name}* - val_all_price_df.fth')\n",
    "\n",
    "# Create a figure and a single axis\n",
    "fig, ax1 = plt.subplots(figsize=(10, 6))\n",
    "\n",
    "colors = sns.color_palette('husl', len(files))\n",
    "for i,file in enumerate(files):\n",
    "    all_price_df = pd.read_feather(file)\n",
    "    all_price_df['dt'] = pd.to_datetime(all_price_df['date']).dt.date\n",
    "\n",
    "    date = all_price_df.query('round_price <= 24.0').copy()\n",
    "\n",
    "    date['bet_amount_model'] = np.where(date['bet_amount_model'] > 0.1, date['bet_amount_model'], 0)*10*2\n",
    "    date['profit_model'] = np.where(date['bet_amount_model'] > 0.1, date['profit_model'], 0)*10*2\n",
    "\n",
    "    date = date.groupby('dt',sort=False)[['bet_amount_model', 'profit_model','round_price']].sum().cumsum().reset_index()\n",
    "    date['roi'] = date['profit_model'] / date['bet_amount_model']\n",
    "    epoch_number = re.search(r'\\d+', file).group()\n",
    "    # Plot the 'Profit Model' on the first axis\n",
    "    color = colors[i]\n",
    "    ax1.plot(date['dt'], date['profit_model'], label=f'Profit Model {epoch_number}', color=color)\n",
    "    ax1.set_xlabel('Round Price')\n",
    "    ax1.set_ylabel('Amount', color=color)\n",
    "\n",
    "    # Create a second axis that shares the same x-axis\n",
    "    # ax2 = ax1.twinx()\n",
    "\n",
    "    # Plot the 'roi' on the second axis\n",
    "    color = sns.color_palette()[1]\n",
    "    # ax2.plot(date['dt'], date['roi'], label=f'roi {file}', color=color)\n",
    "    # ax2.set_ylabel('roi', color=color)\n",
    "\n",
    "# Show the legend\n",
    "fig.legend(loc=\"upper left\")\n",
    "\n",
    "# Show the plot\n",
    "plt.show()"
   ]
  },
  {
   "cell_type": "code",
   "execution_count": null,
   "metadata": {},
   "outputs": [],
   "source": [
    "all_price_df.columns"
   ]
  },
  {
   "cell_type": "code",
   "execution_count": null,
   "metadata": {},
   "outputs": [],
   "source": [
    "price_df  = all_price_df.query('round_price < 30').groupby('raceID')[['bet_amount_model', 'profit_model']].sum()"
   ]
  },
  {
   "cell_type": "code",
   "execution_count": null,
   "metadata": {},
   "outputs": [],
   "source": [
    "price_df"
   ]
  },
  {
   "cell_type": "code",
   "execution_count": null,
   "metadata": {},
   "outputs": [],
   "source": [
    "all_price_df.query('round_price < 30')['profit_model'].mean()"
   ]
  },
  {
   "cell_type": "code",
   "execution_count": null,
   "metadata": {},
   "outputs": [],
   "source": [
    "all_price_df['roi'] = all_price_df['profit_model'] / all_price_df['bet_amount_model']"
   ]
  },
  {
   "cell_type": "code",
   "execution_count": null,
   "metadata": {},
   "outputs": [],
   "source": [
    "price_df  = all_price_df.query('round_price < 30').groupby('raceID')[['bet_amount_model', 'profit_model']].sum()"
   ]
  },
  {
   "cell_type": "code",
   "execution_count": null,
   "metadata": {},
   "outputs": [],
   "source": [
    "price_df"
   ]
  },
  {
   "cell_type": "code",
   "execution_count": null,
   "metadata": {},
   "outputs": [],
   "source": [
    "price_df.mean()"
   ]
  },
  {
   "cell_type": "code",
   "execution_count": null,
   "metadata": {},
   "outputs": [],
   "source": [
    "import scipy.stats as stats\n",
    "model_name  = 'fiery-haze-173'\n",
    "# file\n",
    "# Concatenate all profit_model data from all files\n",
    "# all_profits =  pd.read_parquet('model_all_price/fiery-haze-173 - all_price_df.pqt')['profit_model']\n",
    "# all_price_df = price_df\n",
    "all_price_df['roi'] = all_price_df['profit_model'] / all_price_df['bet_amount_model']\n",
    "# all_price_df = all_price_df.query('bet_amount_model > 0.10 and prices < 30').copy()\n",
    "\n",
    "all_profits = all_price_df['roi']\n",
    "all_profits.dropna(inplace=True)\n",
    "\n",
    "# Perform the t-test\n",
    "t_stat, p_value = stats.ttest_1samp(all_profits, 0.15)\n",
    "\n",
    "print(f'T-statistic: {t_stat}')\n",
    "print(f'P-value: {p_value}')"
   ]
  },
  {
   "cell_type": "code",
   "execution_count": null,
   "metadata": {},
   "outputs": [],
   "source": [
    "all_profits"
   ]
  },
  {
   "cell_type": "code",
   "execution_count": null,
   "metadata": {},
   "outputs": [],
   "source": [
    "\n",
    "all_profits = all_price_df.groupby('raceID')[['bet_amount_model','profit_model']].sum()\n",
    "all_profits['roi'] = all_profits['profit_model'] / all_profits['bet_amount_model']\n",
    "all_profits = all_profits['roi']"
   ]
  },
  {
   "cell_type": "code",
   "execution_count": null,
   "metadata": {},
   "outputs": [],
   "source": [
    "import numpy as np\n",
    "all_profits \n",
    "std_dev = all_profits.std()\n",
    "num = all_profits.count()\n",
    "print(f'Standard deviation: {std_dev}')\n",
    "\n",
    "Z = 1.96  # z-score for 95% confidence level\n",
    "E = 0.1  # desired margin of error\n",
    "\n",
    "# Calculate the sample size\n",
    "n = (Z**2 * std_dev**2) / E**2\n",
    "n = np.ceil(n)  # round up to the nearest whole number because you can't have a fraction of a sample\n",
    "\n",
    "print(f'Sample size: {n}, num = {num}')"
   ]
  },
  {
   "cell_type": "code",
   "execution_count": null,
   "metadata": {},
   "outputs": [],
   "source": [
    "win_df = all_price_df.query('round_price < 30.0').groupby('dt')['profit_model'].sum().reset_index()\n",
    "win_df['win'] = np.where(win_df['profit_model'] > 0, 1, 0)\n",
    "win_df['win'].value_counts()"
   ]
  },
  {
   "cell_type": "code",
   "execution_count": null,
   "metadata": {},
   "outputs": [],
   "source": [
    "(Z**2 * std_dev**2)"
   ]
  },
  {
   "cell_type": "code",
   "execution_count": null,
   "metadata": {},
   "outputs": [],
   "source": [
    "all_profits.shape"
   ]
  },
  {
   "cell_type": "code",
   "execution_count": null,
   "metadata": {},
   "outputs": [],
   "source": [
    "import matplotlib.pyplot as plt\n",
    "import seaborn as sns\n",
    "\n",
    "# Set the seaborn color palette as the default matplotlib color palette\n",
    "sns.set_palette('husl')\n",
    "\n",
    "# Your existing code\n",
    "date = all_price_df.query('round_price < 31.0').copy()\n",
    "\n",
    "date['bet_amount_model'] = np.where(date['bet_amount_model'] > 0.1, date['bet_amount_model'], 0)*10*2\n",
    "date['profit_model'] = np.where(date['bet_amount_model'] > 0.1, date['profit_model'], 0)*10*2\n",
    "\n",
    "date = date.groupby('dt',sort=False)[['bet_amount_model', 'profit_model','round_price']].sum().cumsum().reset_index()\n",
    "date['balance'] = date['profit_model']\n",
    "date['adj_bet'] = np.where(date['balance']*0.05>20, date['balance']*0.05,20)\n",
    "date['adj_profit'] = date['adj_bet']*date['profit_model']\n",
    "date['roi'] = date['profit_model'] / date['bet_amount_model']\n",
    "date['adj_roi'] = date['adj_profit'] / (date['adj_bet'].cumsum()*20)\n",
    "# Create a figure and a single axis\n",
    "fig, ax1 = plt.subplots(figsize=(10, 6))\n",
    "\n",
    "# Plot the 'Profit Model' on the first axis\n",
    "color = sns.color_palette()[0]\n",
    "ax1.plot(date['dt'], date['adj_profit'], label='Profit Model', color=color)\n",
    "ax1.set_xlabel('Round Price')\n",
    "ax1.set_ylabel('Amount', color=color)\n",
    "\n",
    "color = sns.color_palette()[2]\n",
    "ax1.plot(date['dt'], date['profit_model'], label='Profit Model', color=color)\n",
    "ax1.set_xlabel('Round Price')\n",
    "ax1.set_ylabel('Amount', color=color)\n",
    "\n",
    "\n",
    "# Create a second axis that shares the same x-axis\n",
    "ax2 = ax1.twinx()\n",
    "\n",
    "# Plot the 'roi' on the second axis\n",
    "color = sns.color_palette()[1]\n",
    "ax2.plot(date['dt'], date['adj_roi'], label='roi', color=color)\n",
    "ax2.set_ylabel('roi', color=color)\n",
    "\n",
    "# Show the legend\n",
    "fig.legend(loc=\"upper left\")\n",
    "\n",
    "# Show the plot\n",
    "plt.show()"
   ]
  },
  {
   "cell_type": "code",
   "execution_count": null,
   "metadata": {},
   "outputs": [],
   "source": [
    "import matplotlib.pyplot as plt\n",
    "import seaborn as sns\n",
    "\n",
    "# Set the seaborn color palette as the default matplotlib color palette\n",
    "sns.set_palette('husl')\n",
    "\n",
    "# Your existing code\n",
    "date = all_price_df.query('round_price < 31.0').copy()\n",
    "start_date = '2023-07-01'\n",
    "start_date = pd.to_datetime(start_date).date()\n",
    "date = date.query('dt >= @start_date').copy()\n",
    "# date['bet_amount_model'] = date['lay_amount_model']# + date['bet_amount_model']\n",
    "# date['profit_model'] = date['lay_profit_model']# + date['profit_model']\n",
    "# date['bet_amount_model'] = np.where(date['bet_amount_model'] > 0.1, date['bet_amount_model'], 0)*1\n",
    "# date['profit_model'] = np.where(date['bet_amount_model'] > 0.1, date['profit_model'], 0)*1\n",
    "# date['profit_model'] = np.where(date['profit_model']>0,date['profit_model'],date['profit_model'])\n",
    "date = date.groupby('dt',sort=False)[['bet_amount_model', 'profit_model','round_price']].sum().cumsum().reset_index()\n",
    "date['roi'] = date['profit_model'] / date['bet_amount_model']\n",
    "\n",
    "# Create a figure and a single axis\n",
    "fig, ax1 = plt.subplots(figsize=(10, 6))\n",
    "\n",
    "# Create a figure and a single axis\n",
    "fig, ax1 = plt.subplots(figsize=(10, 6))\n",
    "prices = [3,5,10,15,20,25,30,31,32,35,50,100,10000]\n",
    "colors = sns.color_palette('husl', len(prices))\n",
    "for i,price in enumerate(prices):\n",
    "    print(f\"{price=}\")\n",
    "    date = all_price_df.query('round_price < @price').copy()\n",
    "    start_date = '2023-07-01'\n",
    "    start_date = pd.to_datetime(start_date).date()\n",
    "    date = date.query('dt >= @start_date').copy()\n",
    "    date = date.groupby('dt',sort=False)[['bet_amount_model', 'profit_model','round_price']].sum().cumsum().reset_index()\n",
    "    # Plot the 'Profit Model' on the first axis\n",
    "    color = colors[i]\n",
    "    ax1.plot(date['dt'], date['profit_model'], label=f'Profit Model {price}', color=color)\n",
    "    ax1.set_xlabel('Round Price')\n",
    "    ax1.set_ylabel('Amount', color=color)\n",
    "\n",
    "    # Create a second axis that shares the same x-axis\n",
    "\n",
    "    ax2 = ax1.twinx()\n",
    "\n",
    "    # Plot the 'roi' on the second axis\n",
    "    color = sns.color_palette()[1]\n",
    "    # ax2.plot(date['dt'], date['roi'], label='roi', color=color)\n",
    "    # ax2.set_ylabel('roi', color=color)\n",
    "\n",
    "    # Show the legend\n",
    "fig.legend(loc=\"upper left\")\n",
    "\n",
    "    # Show the plot\n",
    "plt.show()"
   ]
  },
  {
   "cell_type": "code",
   "execution_count": null,
   "metadata": {},
   "outputs": [],
   "source": []
  },
  {
   "cell_type": "code",
   "execution_count": null,
   "metadata": {},
   "outputs": [],
   "source": [
    "#Testing difference in data between server and local\n",
    "local = pd.read_feather('./data/gru_inputs_kitchen_sink_updated_recent.fth')\n",
    "server = pd.read_feather('./data/testing new outs simple 2024-03-24_NZ.fth')"
   ]
  },
  {
   "cell_type": "code",
   "execution_count": null,
   "metadata": {},
   "outputs": [],
   "source": []
  },
  {
   "cell_type": "code",
   "execution_count": null,
   "metadata": {},
   "outputs": [],
   "source": [
    "local = local.rename({'stats':'stats_local','dog_id':'dogid'}, axis=1)\n",
    "server = server.rename({'stats':'stats_server'}, axis=1)"
   ]
  },
  {
   "cell_type": "code",
   "execution_count": null,
   "metadata": {},
   "outputs": [],
   "source": [
    "local.query('raceid==\"1009424823\"')"
   ]
  },
  {
   "cell_type": "code",
   "execution_count": null,
   "metadata": {},
   "outputs": [],
   "source": [
    "local = local[['dogid','raceid','stats_local','prev_race_date']]\n",
    "merged = server.merge(local, on=['dogid','raceid'], how='left')"
   ]
  },
  {
   "cell_type": "code",
   "execution_count": null,
   "metadata": {},
   "outputs": [],
   "source": [
    "local.query('dogid == \"760119322\"')"
   ]
  },
  {
   "cell_type": "code",
   "execution_count": null,
   "metadata": {},
   "outputs": [],
   "source": [
    "merged['stats_diff'] = merged.apply(lambda x: (x['stats_local'] - x['stats_server']).sum(), axis=1)"
   ]
  },
  {
   "cell_type": "code",
   "execution_count": null,
   "metadata": {},
   "outputs": [],
   "source": [
    "dogid = \"505983450\"\n",
    "stats_local = merged.query('dogid == @dogid')['stats_local'].to_list()[0]\n",
    "stats_server = merged.query('dogid == @dogid')['stats_server'].to_list()[0]\n"
   ]
  },
  {
   "cell_type": "code",
   "execution_count": null,
   "metadata": {},
   "outputs": [],
   "source": [
    "stats_local.round(2).tolist()"
   ]
  },
  {
   "cell_type": "code",
   "execution_count": null,
   "metadata": {},
   "outputs": [],
   "source": [
    "delta = pd.DataFrame([stats_server.round(2)[6:],stats_local.round(2)[6:]],columns=eval(merged['stats_cols'][0]))"
   ]
  },
  {
   "cell_type": "code",
   "execution_count": null,
   "metadata": {},
   "outputs": [],
   "source": [
    "local = local.query('state == \"NZ\"')"
   ]
  },
  {
   "cell_type": "code",
   "execution_count": null,
   "metadata": {},
   "outputs": [],
   "source": [
    "local"
   ]
  },
  {
   "cell_type": "code",
   "execution_count": null,
   "metadata": {},
   "outputs": [],
   "source": [
    "server['stats_cols'][0]"
   ]
  },
  {
   "cell_type": "code",
   "execution_count": null,
   "metadata": {},
   "outputs": [],
   "source": [
    "df = df[[col for col in df.columns if '2' not in col and '<' not in col]]"
   ]
  },
  {
   "cell_type": "code",
   "execution_count": null,
   "metadata": {},
   "outputs": [],
   "source": [
    "df['bet_kelly_seq'] = np.where(\n",
    "    df['prices']<30,\n",
    "    df['seq_kelly_ratio']*100,\n",
    "    0\n",
    ")\n",
    "\n",
    "\n",
    "df['profit_kelly_sq'] = np.where(\n",
    "    df['onehot_win'],\n",
    "    df['bet_kelly_seq']  * (df['prices'] - 1) * 0.95,\n",
    "    -1 * df['bet_kelly_seq']\n",
    ")"
   ]
  },
  {
   "cell_type": "code",
   "execution_count": null,
   "metadata": {},
   "outputs": [],
   "source": [
    "df_30 = df[df['prices']<30]"
   ]
  },
  {
   "cell_type": "code",
   "execution_count": null,
   "metadata": {},
   "outputs": [],
   "source": [
    "df_30['profit_kelly_sq'].sum()/df_30['bet_kelly_seq'].sum()"
   ]
  },
  {
   "cell_type": "code",
   "execution_count": null,
   "metadata": {},
   "outputs": [],
   "source": [
    "df_30['profit_kelly'].sum()/df_30['bet_amount_kelly'].sum()"
   ]
  },
  {
   "cell_type": "code",
   "execution_count": null,
   "metadata": {},
   "outputs": [],
   "source": []
  },
  {
   "cell_type": "code",
   "execution_count": null,
   "metadata": {},
   "outputs": [],
   "source": [
    "json_path = 'wandb_jsons/dancing-snake-80' \n",
    "files = os.listdir(json_path)\n",
    "file_paths = [json_path + '/' + file for file in files]\n",
    "\n",
    "for i,file in enumerate(file_paths):\n",
    "    with open(file, 'r') as f:\n",
    "        json_obj = json.load(f)\n",
    "\n",
    "    # Create a DataFrame from the dictionary\n",
    "    if i == 0:\n",
    "        data = pd.DataFrame(data=json_obj[\"data\"], columns=json_obj[\"columns\"])\n",
    "        data['step'] = i\n",
    "    else:\n",
    "        df = pd.DataFrame(data=json_obj[\"data\"], columns=json_obj[\"columns\"])\n",
    "        df['step'] = i\n",
    "        data = pd.concat([data, df])"
   ]
  },
  {
   "cell_type": "code",
   "execution_count": null,
   "metadata": {},
   "outputs": [],
   "source": [
    "data"
   ]
  },
  {
   "cell_type": "code",
   "execution_count": null,
   "metadata": {},
   "outputs": [],
   "source": [
    "df.filter"
   ]
  },
  {
   "cell_type": "code",
   "execution_count": null,
   "metadata": {},
   "outputs": [],
   "source": [
    "df = data\n",
    "df = data.query('onehot_win ==1')\n",
    "# df = df.head(1000)\n",
    "\n",
    "# Create a scatter plot for each step\n",
    "# Create a scatter plot for each step\n",
    "# Create a scatter plot for each step using Scattergl for WebGL\n",
    "traces = [go.Scattergl(\n",
    "    x=df['loss'][df['step'] == step].head(100),\n",
    "    y=df['mutual_info'][df['step'] == step].head(100),\n",
    "    mode='markers',\n",
    "    visible=False,\n",
    "    name=f'Step {step}'\n",
    ") for step in df['step'].unique()]\n",
    "\n",
    "# Make the first trace visible\n",
    "traces[0]['visible'] = True\n",
    "\n",
    "x_range = [df['loss'].min(), df['loss'].max()]\n",
    "y_range = [df['mutual_info'].min(), df['mutual_info'].max()]\n",
    "\n",
    "# Create a layout with a slider\n",
    "layout = go.Layout(\n",
    "    title='Loss vs Mutual Info',\n",
    "    xaxis=dict(title='Loss'),\n",
    "    yaxis=dict(title='Mutual Info'),\n",
    "    sliders=[dict(\n",
    "        active=0,\n",
    "        currentvalue={\"prefix\": \"Step: \"},\n",
    "        pad={\"t\": 50},\n",
    "        steps=[dict(method='update',\n",
    "                    args=[{'visible': [s == step for s in df['step'].unique()]}],\n",
    "                    label=str(step)) for step in df['step'].unique()]\n",
    "    )]\n",
    ")\n",
    "\n",
    "# Create a Figure\n",
    "fig = go.Figure(data=traces, layout=layout)\n",
    "\n",
    "# Display the figure\n",
    "fig.show()"
   ]
  }
 ],
 "metadata": {
  "kernelspec": {
   "display_name": "PYTORCH",
   "language": "python",
   "name": "python3"
  },
  "language_info": {
   "codemirror_mode": {
    "name": "ipython",
    "version": 3
   },
   "file_extension": ".py",
   "mimetype": "text/x-python",
   "name": "python",
   "nbconvert_exporter": "python",
   "pygments_lexer": "ipython3",
   "version": "3.11.5"
  },
  "orig_nbformat": 4,
  "vscode": {
   "interpreter": {
    "hash": "8a48ca33c5a1168302a4f8eae355aad1c03b1396f568d40bc174a6e6aabe725d"
   }
  }
 },
 "nbformat": 4,
 "nbformat_minor": 2
}
