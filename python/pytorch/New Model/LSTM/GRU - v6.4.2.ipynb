{
 "cells": [
  {
   "cell_type": "code",
   "execution_count": 1,
   "metadata": {},
   "outputs": [
    {
     "name": "stderr",
     "output_type": "stream",
     "text": [
      "<frozen importlib._bootstrap>:228: RuntimeWarning: scipy._lib.messagestream.MessageStream size changed, may indicate binary incompatibility. Expected 56 from C header, got 64 from PyObject\n"
     ]
    },
    {
     "name": "stdout",
     "output_type": "stream",
     "text": [
      "c:\\Users\\Nick\\Documents\\GitHub\\grvmodel\\Python\\pytorch\\New Model\\LSTM\n"
     ]
    }
   ],
   "source": [
    "import pickle\n",
    "import pandas as pd\n",
    "import os\n",
    "\n",
    "import torch\n",
    "import numpy as np\n",
    "import torch.nn as nn\n",
    "import torch.nn.functional as F\n",
    "import torch.optim as optim\n",
    "from tqdm.notebook import tqdm, trange\n",
    "import torch.optim as optim\n",
    "from torch.utils.data import TensorDataset, DataLoader\n",
    "import wandb\n",
    "from torch.utils.data.sampler import SubsetRandomSampler\n",
    "import pprint\n",
    "import matplotlib.pyplot as plt\n",
    "import torch\n",
    "\n",
    "from sklearn.preprocessing import MinMaxScaler\n",
    "import math\n",
    "from torch.profiler import profile, record_function, ProfilerActivity\n",
    "\n",
    "from operator import itemgetter\n",
    "import operator\n",
    "from random import randint\n",
    "# from rnn_classes import Dog, DogInput, Race, Races, GRUNet, smallGRUNet, smalll_lin_GRUNet, smalll_prelin_GRUNet\n",
    "import rnn_classes\n",
    "from raceDB import build_dataset, build_pred_dataset\n",
    "import importlib\n",
    "import datetime\n",
    "from model_saver import model_saver, model_saver_wandb\n",
    "import training_testing_gru\n",
    "from torch.nn.utils.rnn import pack_padded_sequence, pack_sequence, pad_packed_sequence,pad_sequence, unpack_sequence, unpad_sequence\n",
    "import training_testing_gru_double"
   ]
  },
  {
   "cell_type": "code",
   "execution_count": 2,
   "metadata": {},
   "outputs": [
    {
     "name": "stdout",
     "output_type": "stream",
     "text": [
      "Running on the GPU\n"
     ]
    }
   ],
   "source": [
    "if torch.cuda.is_available():\n",
    "    device = torch.device(\"cuda:0\")  # you can continue going on here, like cuda:1 cuda:2....etc.\n",
    "    print(\"Running on the GPU\")\n",
    "else:\n",
    "    device = torch.device(\"cpu\")\n",
    "    print(\"Running on the CPU\")"
   ]
  },
  {
   "cell_type": "code",
   "execution_count": 3,
   "metadata": {},
   "outputs": [],
   "source": [
    "torch.set_default_tensor_type(torch.FloatTensor)"
   ]
  },
  {
   "cell_type": "code",
   "execution_count": 4,
   "metadata": {},
   "outputs": [
    {
     "data": {
      "text/plain": [
       "'1.12.1'"
      ]
     },
     "execution_count": 4,
     "metadata": {},
     "output_type": "execute_result"
    }
   ],
   "source": [
    "torch.__version__"
   ]
  },
  {
   "cell_type": "code",
   "execution_count": 5,
   "metadata": {},
   "outputs": [
    {
     "data": {
      "text/plain": [
       "['dist_last__1',\n",
       " 'box_last__1',\n",
       " 'speed_avg_1',\n",
       " 'split_speed_v1_1',\n",
       " 'split_speed_avg_1',\n",
       " 'split_margin_avg_1',\n",
       " 'margin_avg_1',\n",
       " 'margin_time_avg_1',\n",
       " 'RunHomeTime_1',\n",
       " 'run_home_speed_1',\n",
       " 'run_home_speed_v1_1',\n",
       " 'first_out_avg_1',\n",
       " 'pos_out_avg_1',\n",
       " 'post_change_avg_1',\n",
       " 'races_1',\n",
       " 'wins_1',\n",
       " 'wins_last_1',\n",
       " 'weight_',\n",
       " 'min_time_',\n",
       " 'min_split_time_',\n",
       " 'min_split_time_v1',\n",
       " 'last_start_price',\n",
       " 'last_start_prob']"
      ]
     },
     "execution_count": 5,
     "metadata": {},
     "output_type": "execute_result"
    }
   ],
   "source": [
    "['dist_last__1', 'box_last__1', 'speed_avg_1', 'split_speed_v1_1', 'split_speed_avg_1', 'split_margin_avg_1', 'margin_avg_1', 'margin_time_avg_1', 'RunHomeTime_1', 'run_home_speed_1', 'run_home_speed_v1_1', 'first_out_avg_1', 'pos_out_avg_1', 'post_change_avg_1', 'races_1', 'wins_1', 'wins_last_1', 'weight_', 'min_time_', 'min_split_time_', 'min_split_time_v1', 'last_start_price', 'last_start_prob']"
   ]
  },
  {
   "cell_type": "code",
   "execution_count": 6,
   "metadata": {},
   "outputs": [],
   "source": [
    "def custom_l2(output, target):\n",
    "    loss = torch.mean(abs(output-target), dim=1)\n",
    "    return loss"
   ]
  },
  {
   "cell_type": "code",
   "execution_count": 7,
   "metadata": {},
   "outputs": [],
   "source": [
    "def validation_CLE(x,y):\n",
    "    loss_t = -torch.log(torch.exp(x)/torch.sum(torch.exp(x), dim=-1, keepdim=True))*y\n",
    "    return loss_t"
   ]
  },
  {
   "cell_type": "code",
   "execution_count": 8,
   "metadata": {},
   "outputs": [],
   "source": [
    "tracks = ['Sandown Park',\n",
    " 'The Meadows',\n",
    " 'Warragul',\n",
    " 'Geelong',\n",
    " 'Sale',\n",
    " 'Ballarat',\n",
    " 'Bendigo',\n",
    " 'Cranbourne']"
   ]
  },
  {
   "cell_type": "code",
   "execution_count": 9,
   "metadata": {},
   "outputs": [
    {
     "name": "stdout",
     "output_type": "stream",
     "text": [
      "[['dist_last__1', 'box_last__1', 'speed_avg_1', 'split_speed_v1_1', 'split_speed_avg_1', 'split_margin_avg_1', 'margin_avg_1', 'margin_time_avg_1', 'RunHomeTime_1', 'run_home_speed_1', 'run_home_speed_v1_1', 'first_out_avg_1', 'pos_out_avg_1', 'post_change_avg_1', 'races_1', 'wins_1', 'wins_last_1', 'weight_', 'min_time_', 'min_split_time_', 'min_split_time_v1', 'last_start_price', 'last_start_prob']]\n",
      "(1377299, 25)\n",
      "29\n",
      "Latest date = 2023-09-19 00:00:00\n",
      "size after state filter (343613, 27)\n",
      "(343613, 27)\n",
      "Latest date = 2023-09-19 00:00:00\n",
      "num_features_per_dog=29\n"
     ]
    },
    {
     "name": "stderr",
     "output_type": "stream",
     "text": [
      "100%|██████████| 16854/16854 [04:02<00:00, 69.63it/s] \n",
      "100%|██████████| 48103/48103 [02:08<00:00, 375.56it/s]\n",
      "c:\\Users\\Nick\\Documents\\GitHub\\grvmodel\\Python\\pytorch\\New Model\\LSTM\\rnn_classes.py:385: UserWarning: To copy construct from a tensor, it is recommended to use sourceTensor.clone().detach() or sourceTensor.clone().detach().requires_grad_(True), rather than torch.tensor(sourceTensor).\n",
      "  r.prob = torch.tensor((1/(torch.tensor(r.start_prices)+0.0001))/((1/torch.tensor(r.start_prices)).sum()+0.0001),device=self.device)\n"
     ]
    },
    {
     "name": "stdout",
     "output_type": "stream",
     "text": [
      "number of races = 48103, number of unique dogs = 16855\n",
      "0        (Dubbo, 516.0)\n",
      "1        (Dubbo, 400.0)\n",
      "2        (Dubbo, 400.0)\n",
      "3        (Dubbo, 318.0)\n",
      "4        (Dubbo, 516.0)\n",
      "              ...      \n",
      "48098    (Dubbo, 318.0)\n",
      "48099    (Dubbo, 318.0)\n",
      "48100    (Dubbo, 400.0)\n",
      "48101    (Dubbo, 400.0)\n",
      "48102    (Dubbo, 318.0)\n",
      "Length: 48103, dtype: object\n"
     ]
    }
   ],
   "source": [
    "os.getcwd()\n",
    "os.chdir(r\"C:\\Users\\Nick\\Documents\\GitHub\\grvmodel\\Python\\DATA\")\n",
    "date = datetime.datetime.strptime(\"2022-08-01\", \"%Y-%m-%d\").date()\n",
    "hidden_size = 32\n",
    "states = [\"NSW\"]\n",
    "data_file = 'gru_inputs_simple_kitchen_sink_v2.fth'\n",
    "raceDB = build_dataset(data_file, hidden_size ,state_filter=states, margin_type='boosted_sftmin',v6=True)\n",
    "raceDB.create_new_weights_v2()"
   ]
  },
  {
   "cell_type": "code",
   "execution_count": 10,
   "metadata": {},
   "outputs": [],
   "source": [
    "races = raceDB.get_race_input(range(1000,1100))"
   ]
  },
  {
   "cell_type": "code",
   "execution_count": 11,
   "metadata": {},
   "outputs": [
    {
     "data": {
      "text/plain": [
       "0.3815"
      ]
     },
     "execution_count": 11,
     "metadata": {},
     "output_type": "execute_result"
    }
   ],
   "source": [
    "sum([0.0032, 0.0006, 0.0008, 0.1890, 0.0008, 0.0022, 0.1479, 0.0370])"
   ]
  },
  {
   "cell_type": "code",
   "execution_count": 12,
   "metadata": {},
   "outputs": [],
   "source": [
    "x = [0,0,0,0,0,0,0,0]"
   ]
  },
  {
   "cell_type": "code",
   "execution_count": 13,
   "metadata": {},
   "outputs": [
    {
     "data": {
      "text/plain": [
       "tensor([10000., 10000., 10000., 10000., 10000., 10000., 10000., 10000.])"
      ]
     },
     "execution_count": 13,
     "metadata": {},
     "output_type": "execute_result"
    }
   ],
   "source": [
    "(1/(torch.tensor(x)+0.0001))"
   ]
  },
  {
   "cell_type": "code",
   "execution_count": 14,
   "metadata": {},
   "outputs": [
    {
     "data": {
      "text/plain": [
       "tensor(80000.)"
      ]
     },
     "execution_count": 14,
     "metadata": {},
     "output_type": "execute_result"
    }
   ],
   "source": [
    "(1/(torch.tensor(x)+0.0001)).sum()"
   ]
  },
  {
   "cell_type": "code",
   "execution_count": 15,
   "metadata": {},
   "outputs": [
    {
     "ename": "KeyError",
     "evalue": "'500543140'",
     "output_type": "error",
     "traceback": [
      "\u001b[1;31m---------------------------------------------------------------------------\u001b[0m",
      "\u001b[1;31mKeyError\u001b[0m                                  Traceback (most recent call last)",
      "\u001b[1;32mc:\\Users\\Nick\\Documents\\GitHub\\grvmodel\\Python\\pytorch\\New Model\\LSTM\\GRU - v6.4.2.ipynb Cell 15\u001b[0m line \u001b[0;36m1\n\u001b[1;32m----> <a href='vscode-notebook-cell:/c%3A/Users/Nick/Documents/GitHub/grvmodel/Python/pytorch/New%20Model/LSTM/GRU%20-%20v6.4.2.ipynb#X20sZmlsZQ%3D%3D?line=0'>1</a>\u001b[0m r \u001b[39m=\u001b[39m raceDB\u001b[39m.\u001b[39;49mracesDict[\u001b[39m'\u001b[39;49m\u001b[39m500543140\u001b[39;49m\u001b[39m'\u001b[39;49m]\n\u001b[0;32m      <a href='vscode-notebook-cell:/c%3A/Users/Nick/Documents/GitHub/grvmodel/Python/pytorch/New%20Model/LSTM/GRU%20-%20v6.4.2.ipynb#X20sZmlsZQ%3D%3D?line=1'>2</a>\u001b[0m \u001b[39mprint\u001b[39m(r\u001b[39m.\u001b[39mraceid)\n\u001b[0;32m      <a href='vscode-notebook-cell:/c%3A/Users/Nick/Documents/GitHub/grvmodel/Python/pytorch/New%20Model/LSTM/GRU%20-%20v6.4.2.ipynb#X20sZmlsZQ%3D%3D?line=2'>3</a>\u001b[0m \u001b[39mprint\u001b[39m(r\u001b[39m.\u001b[39mrace_dist)\n",
      "\u001b[1;31mKeyError\u001b[0m: '500543140'"
     ]
    }
   ],
   "source": [
    "r = raceDB.racesDict['500543140']\n",
    "print(r.raceid)\n",
    "print(r.race_dist)\n",
    "print(r.race_date)\n",
    "print(r.prices)\n",
    "print(r.start_prices)\n",
    "print(\"prop\",r.prob)\n",
    "print(r.track_name)"
   ]
  },
  {
   "cell_type": "code",
   "execution_count": 16,
   "metadata": {},
   "outputs": [],
   "source": [
    "stat_list = ['dist_last__1', 'box_last__1', 'speed_avg_1', 'split_speed_v1_1', 'split_speed_avg_1', 'split_margin_avg_1', 'margin_avg_1', 'margin_time_avg_1', 'RunHomeTime_1', 'run_home_speed_1', 'run_home_speed_v1_1', 'first_out_avg_1', 'pos_out_avg_1', 'post_change_avg_1', 'races_1', 'wins_1', 'wins_last_1', 'weight_', 'min_time_', 'min_split_time_', 'min_split_time_v1', 'last_start_price', 'last_start_prob']\n"
   ]
  },
  {
   "cell_type": "code",
   "execution_count": 17,
   "metadata": {},
   "outputs": [],
   "source": [
    "def closure(optimizer, criterion, outs, classes):\n",
    "    optimizer.zero_grad()\n",
    "    loss = nn.functional.mse_loss(outs, classes)\n",
    "    loss.backward()\n",
    "    return loss\n",
    "\n",
    "def model_pipeline(my_dataset=raceDB,config=None,prev_model=None, sweep=True, model_state_dict=None, prev_model_file=None, prev_model_version='450'):\n",
    "    if my_dataset:\n",
    "      dataset = my_dataset    \n",
    "    else:\n",
    "      dataset = raceDB\n",
    "    # tell wandb to get started\n",
    "    with wandb.init(project=\"NEW GRU V7\", config=config,):\n",
    "      #  access all HPs through wandb.config, so logging matches execution!\n",
    "      wandb.define_metric(\"loss_val\", summary=\"min\")\n",
    "      wandb.define_metric(\"accuracy\", summary=\"max\")\n",
    "      wandb.define_metric(\"ROI < 30\", summary=\"max\")\n",
    "      wandb.define_metric(\"relu roi\", summary=\"max\")\n",
    "      \n",
    "      config = wandb.config\n",
    "      pprint.pprint(config)\n",
    "      pprint.pprint(config.epochs)\n",
    "      print(config)\n",
    "      # input_size = raceDB.get_race_input([0,1])[0].full_input.shape[0] #create fix so messy\n",
    "      print(config.input_type)\n",
    "\n",
    "      stat_mask = [1,1,1,1,1,1]\n",
    "      for stat in stat_list:\n",
    "\n",
    "          stat_flag = config[stat]\n",
    "\n",
    "          stat_mask = stat_mask+[stat_flag]\n",
    "\n",
    "      stat_mask = torch.tensor(stat_mask).type(torch.bool).to(device)\n",
    "\n",
    "      if 'batch_days' in config.keys():\n",
    "        raceDB.create_test_split_date(config['training_date_end'])\n",
    "        raceDB.create_dogs_test_split_date()\n",
    "        raceDB.attach_races_to_dog_inputv2() \n",
    "        raceDB.reset_hidden()\n",
    "        raceDB.create_batches(batch_days=config['batch_days'], end_date = config['training_date_end'], stat_mask=stat_mask)\n",
    "\n",
    "      if config['input_type'] == 'basic':\n",
    "          print('here')\n",
    "          raceDB.batches['packed_x'] = raceDB.batches['packed_x_basic']\n",
    "          raceDB.batches['packed_y'] = raceDB.batches['packed_y_basic']\n",
    "          raceDB.batches['packed_v'] = raceDB.batches['packed_v_basic']\n",
    "          input_size = raceDB.batches['packed_x'][0].data[0].shape[0]\n",
    "\n",
    "\n",
    "      print(f\"{input_size=}\")\n",
    "\n",
    "\n",
    "\n",
    "      config['stat_mask_tensor'] = torch.tensor(stat_mask, dtype=torch.uint8).to(device)     \n",
    "    \n",
    "\n",
    "      \n",
    "\n",
    "\n",
    "      raceDB.reset_hidden(num_layers=config['num_layers'], hidden_size=config['hidden_size'])\n",
    "      model = rnn_classes.GRUNetv3_BN_double(input_size,config['hidden_size'], num_layers=config['num_layers'],fc0_size=config['f0_layer_size'], fc1_size=config['f1_layer_size'])\n",
    "\n",
    "      if model_state_dict:\n",
    "        model.load_state_dict(model_state_dict)\n",
    "      if prev_model_file!=None:\n",
    "        model_name = prev_model_file\n",
    "        model_loc = f\"C:/Users/Nick/Documents/GitHub/grvmodel/Python/pytorch/New Model/savedmodel/{model_name}/{model_name}_{prev_model_version}.pt\"\n",
    "        model_data = torch.load(model_loc,map_location=torch.device('cuda:0'))\n",
    "        print(model_data['model_state_dict'].keys())\n",
    "        del_keys = ['gru.weight_ih_l0', 'gru.weight_hh_l0', 'gru.bias_ih_l0', 'gru.bias_hh_l0','layer_norm.weight', 'layer_norm.bias']\n",
    "        [model_data['model_state_dict'].pop(k) for k in del_keys]\n",
    "\n",
    "\n",
    "        model.load_state_dict(model_data['model_state_dict'], strict=False)\n",
    "        config['parent model'] = prev_model_file\n",
    "        model = model.to(device)\n",
    "        optimizer = optim.AdamW(model.parameters(), lr=config['learning_rate'])\n",
    "        # optimizer.load_state_dict(model_data['optim'])\n",
    "        # optimizer.to(device)\n",
    "      else:\n",
    "        optimizer = optim.AdamW(model.parameters(), lr=config['learning_rate'])\n",
    "\n",
    "      raceDB.to_cuda()\n",
    "      scheduler = torch.optim.lr_scheduler.ReduceLROnPlateau(optimizer, 'min')\n",
    "\n",
    "      criterion = nn.CrossEntropyLoss(reduction='none')\n",
    "\n",
    "      model = model.to(device)\n",
    "      print(model)\n",
    "\n",
    "      # and use them to train the model\n",
    "      try:\n",
    "        # train_double_loss_regular(model, dataset, criterion, optimizer, scheduler, config, crit2=custom_l2)\n",
    "        training_testing_gru_double.train_double_v3(model, dataset, criterion, optimizer, 'na', config)\n",
    "      except (KeyboardInterrupt) as error:\n",
    "        print(error)\n",
    "        print(\"finished Early\")\n",
    "        \n",
    "      # dataset.create_hidden_states_dict()\n",
    "      raceDB.create_hidden_states_dict_v2()\n",
    "      model_saver_wandb(model, optimizer, 450, 0.1, raceDB.hidden_states_dict_gru_v6,raceDB.train_hidden_dict , model_name=\"long nsw new  22000 RUN\")\n",
    "      if sweep:\n",
    "        # raceDB.reset_all_lstm_states\n",
    "        raceDB.reset_hidden()\n",
    "    \n",
    "\n",
    "\n",
    "    # and test its final performance\n",
    "    #test(model, test_loader)\n",
    "\n",
    "    return (model,dataset, optimizer)"
   ]
  },
  {
   "cell_type": "code",
   "execution_count": 18,
   "metadata": {},
   "outputs": [],
   "source": [
    "len(raceDB.raceIDs)\n",
    "wandb_config_static = {'hidden_size':128,\n",
    "                        'stats':raceDB.stats_cols,\n",
    "                        'races':states,\n",
    "                        'datafile':data_file,\n",
    "                        'latest_date':raceDB.latest_date,\n",
    "                        'input_type':'basic',\n",
    "                        'num_layers':2,\n",
    "                        'batch_size': 750,\n",
    "                        'dropout': 0.3,\n",
    "                        'epochs': 500,\n",
    "                        'learning_rate': 0.0001,\n",
    "                        'optimizer': 'adamW',\n",
    "                        'f0_layer_size':128,\n",
    "                        'f1_layer_size':64,\n",
    "                        'training_date_end':'2021-11-30',\n",
    "                        'batch_days':365,\n",
    "                        'dist_last__1': 1,#\n",
    "                        'box_last__1':1,#\n",
    "                        'speed_avg_1':1,#\n",
    "                        'split_speed_v1_1':1,#\n",
    "                        'split_speed_avg_1':0,\n",
    "                        'split_margin_avg_1':0,\n",
    "                        'margin_avg_1':0,\n",
    "                        'margin_time_avg_1':1,#\n",
    "                        'RunHomeTime_1':0,\n",
    "                        'run_home_speed_1':0,\n",
    "                        'run_home_speed_v1_1':0,\n",
    "                        'first_out_avg_1':0,\n",
    "                        'pos_out_avg_1':1,#\n",
    "                        'post_change_avg_1':1,#\n",
    "                        'races_1':0,\n",
    "                        'wins_1':0,\n",
    "                        'wins_last_1':1,#\n",
    "                        'weight_':1,#\n",
    "                        'min_time_':0,\n",
    "                        'min_split_time_':0, \n",
    "                        'min_split_time_v1':1,#\n",
    "                        'last_start_price':1, #\n",
    "                        'last_start_prob':0,\n",
    "            }"
   ]
  },
  {
   "cell_type": "code",
   "execution_count": 19,
   "metadata": {},
   "outputs": [],
   "source": [
    "wandb_config_static_roi30 = {'hidden_size':128,\n",
    "                        'stats':raceDB.stats_cols,\n",
    "                        'races':states,\n",
    "                        'datafile':data_file,\n",
    "                        'latest_date':raceDB.latest_date,\n",
    "                        'input_type':'basic',\n",
    "                        'num_layers':2,\n",
    "                        'batch_size': 750,\n",
    "                        'dropout': 0.3,\n",
    "                        'epochs': 1000,\n",
    "                        'learning_rate': 0.001,\n",
    "                        'optimizer': 'adamW',\n",
    "                        'f0_layer_size':128,\n",
    "                        'f1_layer_size':64,\n",
    "                        'training_date_end':'2021-11-30',\n",
    "                        'batch_days':365,\n",
    "                        'dist_last__1': 1,#\n",
    "                        'box_last__1':1,#\n",
    "                        'speed_avg_1':1,#\n",
    "                        'split_speed_v1_1':1,#\n",
    "                        'split_speed_avg_1':0,\n",
    "                        'split_margin_avg_1':0,\n",
    "                        'margin_avg_1':0,\n",
    "                        'margin_time_avg_1':1,#\n",
    "                        'RunHomeTime_1':0,\n",
    "                        'run_home_speed_1':0,\n",
    "                        'run_home_speed_v1_1':0,\n",
    "                        'first_out_avg_1':0,\n",
    "                        'pos_out_avg_1':1,#\n",
    "                        'post_change_avg_1':1,#\n",
    "                        'races_1':0,\n",
    "                        'wins_1':0,\n",
    "                        'wins_last_1':1,#\n",
    "                        'weight_':1,#\n",
    "                        'min_time_':0,\n",
    "                        'min_split_time_':0, \n",
    "                        'min_split_time_v1':1,#\n",
    "                        'last_start_price':1, #\n",
    "                        'last_start_prob':0,\n",
    "            }"
   ]
  },
  {
   "cell_type": "code",
   "execution_count": 20,
   "metadata": {},
   "outputs": [],
   "source": [
    "wandb_config_static_kindwood = {'hidden_size':128,\n",
    "                        'stats':raceDB.stats_cols,\n",
    "                        'races':states,\n",
    "                        'datafile':data_file,\n",
    "                        'latest_date':raceDB.latest_date,\n",
    "                        'input_type':'basic',\n",
    "                        'num_layers':2,\n",
    "                        'batch_size': 750,\n",
    "                        'dropout': 0.3,\n",
    "                        'epochs': 5000,\n",
    "                        'learning_rate': 0.0001,\n",
    "                        'optimizer': 'adamW',\n",
    "                        'f0_layer_size':128,\n",
    "                        'f1_layer_size':64,\n",
    "                        'training_date_end':'2022-11-30',\n",
    "                        'batch_days':365,\n",
    "                        'dist_last__1': 1,#\n",
    "                        'box_last__1':1,#\n",
    "                        'speed_avg_1':1,#\n",
    "                        'split_speed_v1_1':1,#\n",
    "                        'split_speed_avg_1':0,#\n",
    "                        'split_margin_avg_1':1,\n",
    "                        'margin_avg_1':1,#\n",
    "                        'margin_time_avg_1':0,#\n",
    "                        'RunHomeTime_1':0,\n",
    "                        'run_home_speed_1':0,\n",
    "                        'run_home_speed_v1_1':0,\n",
    "                        'first_out_avg_1':1,#\n",
    "                        'pos_out_avg_1':0,#\n",
    "                        'post_change_avg_1':1,#\n",
    "                        'races_1':1,\n",
    "                        'wins_1':1,\n",
    "                        'wins_last_1':0,\n",
    "                        'weight_':1,#\n",
    "                        'min_time_':1,#\n",
    "                        'min_split_time_':0, \n",
    "                        'min_split_time_v1':1,#\n",
    "                        'last_start_price':1, #\n",
    "                        'last_start_prob':0,\n",
    "            }"
   ]
  },
  {
   "cell_type": "code",
   "execution_count": 21,
   "metadata": {},
   "outputs": [
    {
     "name": "stdout",
     "output_type": "stream",
     "text": [
      "C:\\Users\\Nick\\Documents\\GitHub\\grvmodel\\Python\\DATA\n"
     ]
    },
    {
     "data": {
      "text/plain": [
       "<module 'rnn_classes' from 'c:\\\\Users\\\\Nick\\\\Documents\\\\GitHub\\\\grvmodel\\\\Python\\\\pytorch\\\\New Model\\\\LSTM\\\\rnn_classes.py'>"
      ]
     },
     "execution_count": 21,
     "metadata": {},
     "output_type": "execute_result"
    }
   ],
   "source": [
    "importlib.reload(training_testing_gru)\n",
    "importlib.reload(training_testing_gru_double)\n",
    "importlib.reload(rnn_classes)"
   ]
  },
  {
   "cell_type": "code",
   "execution_count": 22,
   "metadata": {},
   "outputs": [],
   "source": [
    "raceDB.reset_hidden(num_layers=wandb_config_static['num_layers'], hidden_size=wandb_config_static['hidden_size'])"
   ]
  },
  {
   "cell_type": "code",
   "execution_count": null,
   "metadata": {},
   "outputs": [],
   "source": [
    "torch.cuda.empty_cache()"
   ]
  },
  {
   "cell_type": "code",
   "execution_count": null,
   "metadata": {},
   "outputs": [],
   "source": [
    "# for race in raceDB.racesDict.values():\n",
    "#     for dog in race.dogs:\n",
    "#         try:\n",
    "#             del dog.stats\n",
    "#         except:\n",
    "#             pass\n",
    "\n",
    "# torch.cuda.empty_cache()"
   ]
  },
  {
   "cell_type": "code",
   "execution_count": null,
   "metadata": {},
   "outputs": [
    {
     "data": {
      "text/plain": [
       "tensor([5., 5., 5., 5., 5., 5., 5., 5.])"
      ]
     },
     "execution_count": 26,
     "metadata": {},
     "output_type": "execute_result"
    }
   ],
   "source": [
    "torch.ones(8,5).sum(dim=-1)"
   ]
  },
  {
   "cell_type": "code",
   "execution_count": null,
   "metadata": {},
   "outputs": [],
   "source": [
    "raceDB.race_prices_to_prob()"
   ]
  },
  {
   "cell_type": "code",
   "execution_count": null,
   "metadata": {},
   "outputs": [
    {
     "name": "stdout",
     "output_type": "stream",
     "text": [
      "0 19151\n"
     ]
    }
   ],
   "source": [
    "count_na = 0\n",
    "total = 0\n",
    "for r in raceDB.racesDict.values():\n",
    "    if r.prob.sum().isnan():\n",
    "        # print(r.raceid)\n",
    "        # break\n",
    "        count_na += 1\n",
    "    total+=1\n",
    "\n",
    "print(count_na, total)"
   ]
  },
  {
   "cell_type": "code",
   "execution_count": null,
   "metadata": {},
   "outputs": [
    {
     "name": "stdout",
     "output_type": "stream",
     "text": [
      "500543140\n",
      "tensor([318.], device='cuda:0', dtype=torch.float64)\n",
      "2019-12-01\n",
      "[nan, nan, nan, nan, nan, nan, nan, nan]\n",
      "[0.0, 0.0, 0.0, 0.0, 0.0, 0.0, 0.0, 0.0]\n",
      "prop tensor([0., 0., 0., 0., 0., 0., 0., 0.], device='cuda:0')\n",
      "Auckland\n"
     ]
    }
   ],
   "source": [
    "r = raceDB.racesDict['500543140']\n",
    "print(r.raceid)\n",
    "print(r.race_dist)\n",
    "print(r.race_date)\n",
    "print(r.prices)\n",
    "print(r.start_prices)\n",
    "print(\"prop\",r.prob)\n",
    "print(r.track_name)"
   ]
  },
  {
   "cell_type": "code",
   "execution_count": 23,
   "metadata": {},
   "outputs": [
    {
     "name": "stderr",
     "output_type": "stream",
     "text": [
      "Failed to detect the name of this notebook, you can set it manually with the WANDB_NOTEBOOK_NAME environment variable to enable code saving.\n",
      "\u001b[34m\u001b[1mwandb\u001b[0m: Currently logged in as: \u001b[33mnickojelly\u001b[0m. Use \u001b[1m`wandb login --relogin`\u001b[0m to force relogin\n"
     ]
    },
    {
     "data": {
      "text/html": [
       "wandb version 0.15.11 is available!  To upgrade, please run:\n",
       " $ pip install wandb --upgrade"
      ],
      "text/plain": [
       "<IPython.core.display.HTML object>"
      ]
     },
     "metadata": {},
     "output_type": "display_data"
    },
    {
     "data": {
      "text/html": [
       "Tracking run with wandb version 0.15.10"
      ],
      "text/plain": [
       "<IPython.core.display.HTML object>"
      ]
     },
     "metadata": {},
     "output_type": "display_data"
    },
    {
     "data": {
      "text/html": [
       "Run data is saved locally in <code>C:\\Users\\Nick\\Documents\\GitHub\\grvmodel\\Python\\DATA\\wandb\\run-20230926_001042-pvporn11</code>"
      ],
      "text/plain": [
       "<IPython.core.display.HTML object>"
      ]
     },
     "metadata": {},
     "output_type": "display_data"
    },
    {
     "data": {
      "text/html": [
       "Syncing run <strong><a href='https://wandb.ai/nickojelly/NEW%20GRU%20V7/runs/pvporn11' target=\"_blank\">deft-bush-71</a></strong> to <a href='https://wandb.ai/nickojelly/NEW%20GRU%20V7' target=\"_blank\">Weights & Biases</a> (<a href='https://wandb.me/run' target=\"_blank\">docs</a>)<br/>"
      ],
      "text/plain": [
       "<IPython.core.display.HTML object>"
      ]
     },
     "metadata": {},
     "output_type": "display_data"
    },
    {
     "data": {
      "text/html": [
       " View project at <a href='https://wandb.ai/nickojelly/NEW%20GRU%20V7' target=\"_blank\">https://wandb.ai/nickojelly/NEW%20GRU%20V7</a>"
      ],
      "text/plain": [
       "<IPython.core.display.HTML object>"
      ]
     },
     "metadata": {},
     "output_type": "display_data"
    },
    {
     "data": {
      "text/html": [
       " View run at <a href='https://wandb.ai/nickojelly/NEW%20GRU%20V7/runs/pvporn11' target=\"_blank\">https://wandb.ai/nickojelly/NEW%20GRU%20V7/runs/pvporn11</a>"
      ],
      "text/plain": [
       "<IPython.core.display.HTML object>"
      ]
     },
     "metadata": {},
     "output_type": "display_data"
    },
    {
     "name": "stdout",
     "output_type": "stream",
     "text": [
      "{'hidden_size': 128, 'stats': \"[['dist_last__1', 'box_last__1', 'speed_avg_1', 'split_speed_v1_1', 'split_speed_avg_1', 'split_margin_avg_1', 'margin_avg_1', 'margin_time_avg_1', 'RunHomeTime_1', 'run_home_speed_1', 'run_home_speed_v1_1', 'first_out_avg_1', 'pos_out_avg_1', 'post_change_avg_1', 'races_1', 'wins_1', 'wins_last_1', 'weight_', 'min_time_', 'min_split_time_', 'min_split_time_v1', 'last_start_price', 'last_start_prob']]\", 'races': ['NSW'], 'datafile': 'gru_inputs_simple_kitchen_sink_v2.fth', 'latest_date': '2023-09-19T00:00:00', 'input_type': 'basic', 'num_layers': 2, 'batch_size': 750, 'dropout': 0.3, 'epochs': 5000, 'learning_rate': 0.0001, 'optimizer': 'adamW', 'f0_layer_size': 128, 'f1_layer_size': 64, 'training_date_end': '2022-11-30', 'batch_days': 365, 'dist_last__1': 1, 'box_last__1': 1, 'speed_avg_1': 1, 'split_speed_v1_1': 1, 'split_speed_avg_1': 0, 'split_margin_avg_1': 1, 'margin_avg_1': 1, 'margin_time_avg_1': 0, 'RunHomeTime_1': 0, 'run_home_speed_1': 0, 'run_home_speed_v1_1': 0, 'first_out_avg_1': 1, 'pos_out_avg_1': 0, 'post_change_avg_1': 1, 'races_1': 1, 'wins_1': 1, 'wins_last_1': 0, 'weight_': 1, 'min_time_': 1, 'min_split_time_': 0, 'min_split_time_v1': 1, 'last_start_price': 1, 'last_start_prob': 0}\n",
      "5000\n",
      "{'hidden_size': 128, 'stats': \"[['dist_last__1', 'box_last__1', 'speed_avg_1', 'split_speed_v1_1', 'split_speed_avg_1', 'split_margin_avg_1', 'margin_avg_1', 'margin_time_avg_1', 'RunHomeTime_1', 'run_home_speed_1', 'run_home_speed_v1_1', 'first_out_avg_1', 'pos_out_avg_1', 'post_change_avg_1', 'races_1', 'wins_1', 'wins_last_1', 'weight_', 'min_time_', 'min_split_time_', 'min_split_time_v1', 'last_start_price', 'last_start_prob']]\", 'races': ['NSW'], 'datafile': 'gru_inputs_simple_kitchen_sink_v2.fth', 'latest_date': '2023-09-19T00:00:00', 'input_type': 'basic', 'num_layers': 2, 'batch_size': 750, 'dropout': 0.3, 'epochs': 5000, 'learning_rate': 0.0001, 'optimizer': 'adamW', 'f0_layer_size': 128, 'f1_layer_size': 64, 'training_date_end': '2022-11-30', 'batch_days': 365, 'dist_last__1': 1, 'box_last__1': 1, 'speed_avg_1': 1, 'split_speed_v1_1': 1, 'split_speed_avg_1': 0, 'split_margin_avg_1': 1, 'margin_avg_1': 1, 'margin_time_avg_1': 0, 'RunHomeTime_1': 0, 'run_home_speed_1': 0, 'run_home_speed_v1_1': 0, 'first_out_avg_1': 1, 'pos_out_avg_1': 0, 'post_change_avg_1': 1, 'races_1': 1, 'wins_1': 1, 'wins_last_1': 0, 'weight_': 1, 'min_time_': 1, 'min_split_time_': 0, 'min_split_time_v1': 1, 'last_start_price': 1, 'last_start_prob': 0}\n",
      "basic\n",
      "Train examples 36969, Test examples 8101, Val examples 3033\n"
     ]
    },
    {
     "name": "stderr",
     "output_type": "stream",
     "text": [
      "100%|██████████| 16854/16854 [00:00<00:00, 72538.20it/s]\n",
      "100%|██████████| 16855/16855 [00:05<00:00, 2816.68it/s]\n"
     ]
    },
    {
     "name": "stdout",
     "output_type": "stream",
     "text": [
      "[(datetime.date(2019, 12, 1), datetime.date(2020, 11, 30)), (datetime.date(2020, 11, 30), datetime.date(2021, 11, 30)), (datetime.date(2021, 11, 30), datetime.date(2022, 11, 29))]\n",
      "2020-11-30\n",
      "2021-11-30\n",
      "2022-11-29\n",
      "Train examples [11511, 12343, 13078]\n"
     ]
    },
    {
     "name": "stderr",
     "output_type": "stream",
     "text": [
      "100%|██████████| 16854/16854 [00:22<00:00, 753.10it/s]\n",
      "100%|██████████| 16854/16854 [00:23<00:00, 706.80it/s]\n",
      "100%|██████████| 16854/16854 [00:25<00:00, 651.50it/s]\n",
      "100%|██████████| 3/3 [01:12<00:00, 24.04s/it]\n"
     ]
    },
    {
     "name": "stdout",
     "output_type": "stream",
     "text": [
      "Train examples [6612, 6978, 7499]\n",
      "Train examples [6612, 6978, 7499]\n",
      "Train examples [11511, 12343, 13078]\n",
      "Train examples [11511, 12343, 13078]\n",
      "here\n",
      "input_size=20\n"
     ]
    },
    {
     "name": "stderr",
     "output_type": "stream",
     "text": [
      "C:\\Users\\Nick\\AppData\\Local\\Temp\\ipykernel_17164\\1141755262.py:55: UserWarning: To copy construct from a tensor, it is recommended to use sourceTensor.clone().detach() or sourceTensor.clone().detach().requires_grad_(True), rather than torch.tensor(sourceTensor).\n",
      "  config['stat_mask_tensor'] = torch.tensor(stat_mask, dtype=torch.uint8).to(device)\n"
     ]
    },
    {
     "name": "stdout",
     "output_type": "stream",
     "text": [
      "odict_keys(['gru.weight_ih_l0', 'gru.weight_hh_l0', 'gru.bias_ih_l0', 'gru.bias_hh_l0', 'gru.weight_ih_l1', 'gru.weight_hh_l1', 'gru.bias_ih_l1', 'gru.bias_hh_l1', 'fc0.weight', 'fc0.bias', 'layer_norm.weight', 'layer_norm.bias', 'layer_norm.running_mean', 'layer_norm.running_var', 'layer_norm.num_batches_tracked', 'fc1.weight', 'fc1.bias', 'fc2.weight', 'fc2.bias', 'fc3.weight', 'fc3.bias', 'price_fc2.weight', 'price_fc2.bias', 'price_fc3.weight', 'price_fc3.bias'])\n",
      "GRUNetv3_BN_double(\n",
      "  (gru): GRU(20, 128, num_layers=2, dropout=0.3)\n",
      "  (relu0): ReLU()\n",
      "  (fc0): Linear(in_features=1094, out_features=1094, bias=True)\n",
      "  (layer_norm): BatchNorm1d(20, eps=1e-05, momentum=0.1, affine=True, track_running_stats=True)\n",
      "  (rl1): ReLU()\n",
      "  (drop1): Dropout(p=0.3, inplace=False)\n",
      "  (fc1): Linear(in_features=1094, out_features=128, bias=True)\n",
      "  (rl2): ReLU()\n",
      "  (drop2): Dropout(p=0.3, inplace=False)\n",
      "  (fc2): Linear(in_features=128, out_features=64, bias=True)\n",
      "  (rl3): ReLU()\n",
      "  (drop3): Dropout(p=0.3, inplace=False)\n",
      "  (fc3): Linear(in_features=64, out_features=8, bias=True)\n",
      "  (price_fc2): Linear(in_features=128, out_features=64, bias=True)\n",
      "  (price_rl3): ReLU()\n",
      "  (price_drop3): Dropout(p=0.3, inplace=False)\n",
      "  (price_fc3): Linear(in_features=64, out_features=8, bias=True)\n",
      "  (output_fn): Identity()\n",
      ")\n"
     ]
    },
    {
     "name": "stderr",
     "output_type": "stream",
     "text": [
      "  0%|          | 0/5000 [00:00<?, ?it/s]"
     ]
    },
    {
     "name": "stdout",
     "output_type": "stream",
     "text": [
      "len_test=8101\n",
      "torch.Size([8101, 1024])\n",
      "torch.Size([8101, 1024])\n",
      "val_idx=range(0, 4423), len_test=4423\n",
      "created path\n"
     ]
    },
    {
     "name": "stderr",
     "output_type": "stream",
     "text": [
      "  0%|          | 20/5000 [07:17<29:40:19, 21.45s/it]"
     ]
    },
    {
     "name": "stdout",
     "output_type": "stream",
     "text": [
      "len_test=8101\n",
      "torch.Size([8101, 1024])\n",
      "torch.Size([8101, 1024])\n",
      "val_idx=range(0, 4423), len_test=4423\n"
     ]
    },
    {
     "name": "stderr",
     "output_type": "stream",
     "text": [
      "  1%|          | 40/5000 [14:37<29:29:11, 21.40s/it]"
     ]
    },
    {
     "name": "stdout",
     "output_type": "stream",
     "text": [
      "len_test=8101\n",
      "torch.Size([8101, 1024])\n",
      "torch.Size([8101, 1024])\n",
      "val_idx=range(0, 4423), len_test=4423\n"
     ]
    },
    {
     "name": "stderr",
     "output_type": "stream",
     "text": [
      "  1%|          | 60/5000 [21:57<30:06:28, 21.94s/it]"
     ]
    },
    {
     "name": "stdout",
     "output_type": "stream",
     "text": [
      "len_test=8101\n",
      "torch.Size([8101, 1024])\n",
      "torch.Size([8101, 1024])\n",
      "val_idx=range(0, 4423), len_test=4423\n"
     ]
    },
    {
     "name": "stderr",
     "output_type": "stream",
     "text": [
      "  2%|▏         | 77/5000 [28:13<29:32:39, 21.60s/it]"
     ]
    }
   ],
   "source": [
    "WANDB_MODE='offline'\n",
    "(model,dataset, optimizer) = model_pipeline(raceDB,config=wandb_config_static_kindwood,sweep=False,prev_model_file='skilled-eon-69', prev_model_version='400')"
   ]
  },
  {
   "cell_type": "code",
   "execution_count": null,
   "metadata": {},
   "outputs": [
    {
     "name": "stdout",
     "output_type": "stream",
     "text": [
      "{'method': 'grid',\n",
      " 'metric': {'goal': 'maximize', 'name': 'ROI < 30'},\n",
      " 'parameters': {'RunHomeTime_1': {'values': [0, 1]},\n",
      "                'batch_days': {'values': [90, 180, 365, 550, 10000]},\n",
      "                'batch_size': {'value': 10},\n",
      "                'box_last__1': {'values': [0, 1]},\n",
      "                'dist_last__1': {'values': [0, 1]},\n",
      "                'dropout': {'values': [0.3]},\n",
      "                'epochs': {'values': [500]},\n",
      "                'f0_layer_size': {'values': [128]},\n",
      "                'f1_layer_size': {'values': [64]},\n",
      "                'first_out_avg_1': {'values': [0, 1]},\n",
      "                'hidden_size': {'values': [128]},\n",
      "                'input_type': {'values': ['basic']},\n",
      "                'label_smoothing': {'values': [0.01, 0.0]},\n",
      "                'last_start_price': {'values': [0, 1]},\n",
      "                'last_start_prob': {'values': [0, 1]},\n",
      "                'learning_rate': {'values': [0.0003, 0.0001]},\n",
      "                'len_data': {'value': 19151},\n",
      "                'loss': {'values': ['CEL']},\n",
      "                'margin_avg_1': {'values': [0, 1]},\n",
      "                'margin_time_avg_1': {'values': [0, 1]},\n",
      "                'min_split_time_': {'values': [0, 1]},\n",
      "                'min_split_time_v1': {'values': [0, 1]},\n",
      "                'min_time_': {'values': [0, 1]},\n",
      "                'num_layers': {'values': [2]},\n",
      "                'optimizer': {'value': 'adamW'},\n",
      "                'pos_out_avg_1': {'values': [0, 1]},\n",
      "                'post_change_avg_1': {'values': [0, 1]},\n",
      "                'races': {'value': ['NZ']},\n",
      "                'races_1': {'values': [0, 1]},\n",
      "                'run_home_speed_1': {'values': [0, 1]},\n",
      "                'run_home_speed_v1_1': {'values': [0, 1]},\n",
      "                'speed_avg_1': {'values': [0, 1]},\n",
      "                'split_margin_avg_1': {'values': [0, 1]},\n",
      "                'split_speed_avg_1': {'values': [0, 1]},\n",
      "                'split_speed_v1_1': {'values': [0, 1]},\n",
      "                'stats': {'value': \"[['dist_last__1', 'box_last__1', \"\n",
      "                                   \"'speed_avg_1', 'split_speed_v1_1', \"\n",
      "                                   \"'split_speed_avg_1', 'split_margin_avg_1', \"\n",
      "                                   \"'margin_avg_1', 'margin_time_avg_1', \"\n",
      "                                   \"'RunHomeTime_1', 'run_home_speed_1', \"\n",
      "                                   \"'run_home_speed_v1_1', 'first_out_avg_1', \"\n",
      "                                   \"'pos_out_avg_1', 'post_change_avg_1', \"\n",
      "                                   \"'races_1', 'wins_1', 'wins_last_1', \"\n",
      "                                   \"'weight_', 'min_time_', 'min_split_time_', \"\n",
      "                                   \"'min_split_time_v1', 'last_start_price', \"\n",
      "                                   \"'last_start_prob']]\"},\n",
      "                'training_date_end': {'values': ['2023-04-30',\n",
      "                                                 '2023-02-28',\n",
      "                                                 '2022-11-30',\n",
      "                                                 '2021-11-30']},\n",
      "                'validation_split': {'value': 0.1},\n",
      "                'weight_': {'values': [0, 1]},\n",
      "                'wins_1': {'values': [0, 1]},\n",
      "                'wins_last_1': {'values': [0, 1]}}}\n"
     ]
    },
    {
     "data": {
      "text/plain": [
       "{'method': 'grid',\n",
       " 'metric': {'name': 'ROI < 30', 'goal': 'maximize'},\n",
       " 'parameters': {'optimizer': {'value': 'adamW'},\n",
       "  'batch_days': {'values': [90, 180, 365, 550, 10000]},\n",
       "  'f0_layer_size': {'values': [128]},\n",
       "  'f1_layer_size': {'values': [64]},\n",
       "  'dropout': {'values': [0.3]},\n",
       "  'input_type': {'values': ['basic']},\n",
       "  'num_layers': {'values': [2]},\n",
       "  'hidden_size': {'values': [128]},\n",
       "  'len_data': {'value': 19151},\n",
       "  'stats': {'value': \"[['dist_last__1', 'box_last__1', 'speed_avg_1', 'split_speed_v1_1', 'split_speed_avg_1', 'split_margin_avg_1', 'margin_avg_1', 'margin_time_avg_1', 'RunHomeTime_1', 'run_home_speed_1', 'run_home_speed_v1_1', 'first_out_avg_1', 'pos_out_avg_1', 'post_change_avg_1', 'races_1', 'wins_1', 'wins_last_1', 'weight_', 'min_time_', 'min_split_time_', 'min_split_time_v1', 'last_start_price', 'last_start_prob']]\"},\n",
       "  'races': {'value': ['NZ']},\n",
       "  'batch_size': {'value': 10},\n",
       "  'epochs': {'values': [500]},\n",
       "  'validation_split': {'value': 0.1},\n",
       "  'training_date_end': {'values': ['2023-04-30',\n",
       "    '2023-02-28',\n",
       "    '2022-11-30',\n",
       "    '2021-11-30']},\n",
       "  'learning_rate': {'values': [0.0003, 0.0001]},\n",
       "  'label_smoothing': {'values': [0.01, 0.0]},\n",
       "  'loss': {'values': ['CEL']},\n",
       "  'dist_last__1': {'values': [0, 1]},\n",
       "  'box_last__1': {'values': [0, 1]},\n",
       "  'speed_avg_1': {'values': [0, 1]},\n",
       "  'split_speed_v1_1': {'values': [0, 1]},\n",
       "  'split_speed_avg_1': {'values': [0, 1]},\n",
       "  'split_margin_avg_1': {'values': [0, 1]},\n",
       "  'margin_avg_1': {'values': [0, 1]},\n",
       "  'margin_time_avg_1': {'values': [0, 1]},\n",
       "  'RunHomeTime_1': {'values': [0, 1]},\n",
       "  'run_home_speed_1': {'values': [0, 1]},\n",
       "  'run_home_speed_v1_1': {'values': [0, 1]},\n",
       "  'first_out_avg_1': {'values': [0, 1]},\n",
       "  'pos_out_avg_1': {'values': [0, 1]},\n",
       "  'post_change_avg_1': {'values': [0, 1]},\n",
       "  'races_1': {'values': [0, 1]},\n",
       "  'wins_1': {'values': [0, 1]},\n",
       "  'wins_last_1': {'values': [0, 1]},\n",
       "  'weight_': {'values': [0, 1]},\n",
       "  'min_time_': {'values': [0, 1]},\n",
       "  'min_split_time_': {'values': [0, 1]},\n",
       "  'min_split_time_v1': {'values': [0, 1]},\n",
       "  'last_start_price': {'values': [0, 1]},\n",
       "  'last_start_prob': {'values': [0, 1]}}}"
      ]
     },
     "execution_count": 13,
     "metadata": {},
     "output_type": "execute_result"
    }
   ],
   "source": [
    "sweep_config = {\"method\": \"grid\"}\n",
    "\n",
    "metric = {\"name\": \"ROI < 30\", \"goal\": \"maximize\"}\n",
    "\n",
    "sweep_config[\"metric\"] = metric\n",
    "\n",
    "\n",
    "parameters_dict = {\n",
    "    \"optimizer\": {\"value\": \"adamW\"},\n",
    "    \"batch_days\": {\"values\": [90,180,365,550,10000]},\n",
    "    \"f0_layer_size\": {\"values\": [128]},\n",
    "    \"f1_layer_size\": {\"values\": [64]},\n",
    "    \"dropout\": {\"values\": [0.3]},\n",
    "    \"input_type\": {\"values\": ['basic']},\n",
    "    \"num_layers\": {\"values\": [2]},\n",
    "    'hidden_size':{'values':[128]},\n",
    "    \"len_data\": {\"value\": len(raceDB.raceIDs)},\n",
    "    \"stats\":{\"value\": raceDB.stats_cols},\n",
    "    \"races\":{\"value\": states},\n",
    "    \"batch_size\":{\"value\": 10},\n",
    "}\n",
    "\n",
    "sweep_config[\"parameters\"] = parameters_dict\n",
    "\n",
    "parameters_dict.update(\n",
    "    {\n",
    "        \"epochs\": {\"values\": [1000]},\n",
    "        \"validation_split\": {\"value\": 0.1},\n",
    "        \"training_date_end\": {\"values\": \n",
    "                                [\n",
    "                                '2023-04-30',\n",
    "                                '2023-02-28',\n",
    "                                '2022-11-30',\n",
    "                                '2021-11-30'\n",
    "                                ]},\n",
    "        \"learning_rate\": {\"values\": [0.0003, 0.0001]},\n",
    "        \"label_smoothing\": {\"values\": [0.01,0.0]},\n",
    "        \"loss\": {\n",
    "            \"values\": [ \"CEL\"],\n",
    "        },\n",
    "    'dist_last__1': {'values': [0, 1]},\n",
    "    'box_last__1': {'values': [0, 1]},\n",
    "    'speed_avg_1': {'values': [0, 1]},\n",
    "    'split_speed_v1_1': {'values': [0, 1]},\n",
    "    'split_speed_avg_1': {'values': [0, 1]},\n",
    "    'split_margin_avg_1': {'values': [0, 1]},\n",
    "    'margin_avg_1': {'values': [0, 1]},\n",
    "    'margin_time_avg_1': {'values': [0, 1]},\n",
    "    'RunHomeTime_1': {'values': [0, 1]},\n",
    "    'run_home_speed_1': {'values': [0, 1]},\n",
    "    'run_home_speed_v1_1': {'values': [0, 1]},\n",
    "    'first_out_avg_1': {'values': [0, 1]},\n",
    "    'pos_out_avg_1': {'values': [0, 1]},\n",
    "    'post_change_avg_1': {'values': [0, 1]},\n",
    "    'races_1': {'values': [0, 1]},\n",
    "    'wins_1': {'values': [0, 1]},\n",
    "    'wins_last_1': {'values': [0, 1]},\n",
    "    'weight_': {'values': [0, 1]},\n",
    "    'min_time_': {'values': [0, 1]},\n",
    "    'min_split_time_': {'values': [0, 1]},\n",
    "    'min_split_time_v1': {'values': [0, 1]},\n",
    "    'last_start_price': {'values': [0, 1]},\n",
    "    'last_start_prob': {'values': [0, 1]}\n",
    "}\n",
    ")\n",
    "\n",
    "import pprint\n",
    "\n",
    "pprint.pprint(sweep_config)\n",
    "\n",
    "\n",
    "sweep_config"
   ]
  },
  {
   "cell_type": "code",
   "execution_count": null,
   "metadata": {},
   "outputs": [],
   "source": [
    "# wandb.agent('x9mz21wl', function=model_pipeline, count=100, project='NEW GRU-sweeps')"
   ]
  },
  {
   "attachments": {},
   "cell_type": "markdown",
   "metadata": {},
   "source": []
  },
  {
   "cell_type": "code",
   "execution_count": null,
   "metadata": {},
   "outputs": [],
   "source": []
  },
  {
   "cell_type": "code",
   "execution_count": null,
   "metadata": {},
   "outputs": [
    {
     "name": "stderr",
     "output_type": "stream",
     "text": [
      "Failed to detect the name of this notebook, you can set it manually with the WANDB_NOTEBOOK_NAME environment variable to enable code saving.\n",
      "\u001b[34m\u001b[1mwandb\u001b[0m: Network error (ReadTimeout), entering retry loop.\n"
     ]
    }
   ],
   "source": [
    "sweep_id = wandb.sweep(sweep_config, project=\"Variable Sweeps\")\n",
    "# CUDA_LAUNCH_BLOCKING=1\n",
    "wandb.agent(sweep_id, function=model_pipeline, count=1)"
   ]
  }
 ],
 "metadata": {
  "kernelspec": {
   "display_name": "PYTORCH",
   "language": "python",
   "name": "python3"
  },
  "language_info": {
   "codemirror_mode": {
    "name": "ipython",
    "version": 3
   },
   "file_extension": ".py",
   "mimetype": "text/x-python",
   "name": "python",
   "nbconvert_exporter": "python",
   "pygments_lexer": "ipython3",
   "version": "3.9.16"
  },
  "orig_nbformat": 4,
  "vscode": {
   "interpreter": {
    "hash": "8a48ca33c5a1168302a4f8eae355aad1c03b1396f568d40bc174a6e6aabe725d"
   }
  }
 },
 "nbformat": 4,
 "nbformat_minor": 2
}
