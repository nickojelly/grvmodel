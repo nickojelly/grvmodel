{
 "cells": [
  {
   "cell_type": "code",
   "execution_count": 1,
   "metadata": {},
   "outputs": [
    {
     "name": "stdout",
     "output_type": "stream",
     "text": [
      "c:\\Users\\Nick\\Documents\\GitHub\\grvmodel\\python\n"
     ]
    }
   ],
   "source": [
    "import pickle\n",
    "import pandas as pd\n",
    "import os\n",
    "import setup\n",
    "\n",
    "import torch\n",
    "import numpy as np\n",
    "import torch.nn as nn\n",
    "import torch.nn.functional as F\n",
    "import torch.optim as optim\n",
    "from tqdm.notebook import tqdm, trange\n",
    "import torch.optim as optim\n",
    "from torch.utils.data import TensorDataset, DataLoader\n",
    "import wandb\n",
    "from torch.utils.data.sampler import SubsetRandomSampler\n",
    "import pprint\n",
    "import matplotlib.pyplot as plt\n",
    "import torch\n",
    "\n",
    "from sklearn.preprocessing import MinMaxScaler\n",
    "import math\n",
    "from torch.profiler import profile, record_function, ProfilerActivity\n",
    "\n",
    "from operator import itemgetter\n",
    "import operator\n",
    "from random import randint\n",
    "# from rnn_classes import Dog, DogInput, Race, Races, GRUNet, smallGRUNet, smalll_lin_GRUNet, smalll_prelin_GRUNet\n",
    "import rnn_tools.rnn_classes as rnn_classes\n",
    "from rnn_tools.raceDB import build_dataset\n",
    "import importlib\n",
    "import datetime\n",
    "from rnn_tools.model_saver import model_saver, model_saver_wandb\n",
    "import rnn_tools.training_testing_gru as training_testing_gru\n",
    "from torch.nn.utils.rnn import pack_padded_sequence, pack_sequence, pad_packed_sequence,pad_sequence, unpack_sequence, unpad_sequence\n",
    "import rnn_tools.training_testing_gru_double as training_testing_gru_double\n",
    "import rnn_tools.training_testing_lstm as training_testing_lstm\n",
    "from goto_conversion import goto_conversion\n",
    "\n"
   ]
  },
  {
   "cell_type": "code",
   "execution_count": 2,
   "metadata": {},
   "outputs": [
    {
     "name": "stdout",
     "output_type": "stream",
     "text": [
      "Running on the GPU\n"
     ]
    }
   ],
   "source": [
    "if torch.cuda.is_available():\n",
    "    device = torch.device(\"cuda:0\")  # you can continue going on here, like cuda:1 cuda:2....etc.\n",
    "    print(\"Running on the GPU\")\n",
    "else:\n",
    "    device = torch.device(\"cpu\")\n",
    "    print(\"Running on the CPU\")"
   ]
  },
  {
   "cell_type": "code",
   "execution_count": 3,
   "metadata": {},
   "outputs": [
    {
     "name": "stderr",
     "output_type": "stream",
     "text": [
      "c:\\Users\\Nick\\.conda\\envs\\python311\\Lib\\site-packages\\torch\\__init__.py:614: UserWarning: torch.set_default_tensor_type() is deprecated as of PyTorch 2.1, please use torch.set_default_dtype() and torch.set_default_device() as alternatives. (Triggered internally at C:\\cb\\pytorch_1000000000000\\work\\torch\\csrc\\tensor\\python_tensor.cpp:453.)\n",
      "  _C._set_default_tensor_type(t)\n"
     ]
    }
   ],
   "source": [
    "torch.set_default_tensor_type(torch.FloatTensor)"
   ]
  },
  {
   "cell_type": "code",
   "execution_count": 4,
   "metadata": {},
   "outputs": [
    {
     "data": {
      "text/plain": [
       "'2.1.1'"
      ]
     },
     "execution_count": 4,
     "metadata": {},
     "output_type": "execute_result"
    }
   ],
   "source": [
    "torch.__version__"
   ]
  },
  {
   "cell_type": "code",
   "execution_count": 5,
   "metadata": {},
   "outputs": [
    {
     "data": {
      "text/plain": [
       "['dist_last__1',\n",
       " 'box_last__1',\n",
       " 'speed_avg_1',\n",
       " 'split_speed_v1_1',\n",
       " 'split_speed_avg_1',\n",
       " 'split_margin_avg_1',\n",
       " 'margin_avg_1',\n",
       " 'margin_time_avg_1',\n",
       " 'RunHomeTime_1',\n",
       " 'run_home_speed_1',\n",
       " 'run_home_speed_v1_1',\n",
       " 'first_out_avg_1',\n",
       " 'pos_out_avg_1',\n",
       " 'post_change_avg_1',\n",
       " 'races_1',\n",
       " 'wins_1',\n",
       " 'wins_last_1',\n",
       " 'weight_',\n",
       " 'min_time_',\n",
       " 'min_split_time_',\n",
       " 'min_split_time_v1',\n",
       " 'last_start_price',\n",
       " 'last_start_prob']"
      ]
     },
     "execution_count": 5,
     "metadata": {},
     "output_type": "execute_result"
    }
   ],
   "source": [
    "['dist_last__1', 'box_last__1', 'speed_avg_1', 'split_speed_v1_1', 'split_speed_avg_1', 'split_margin_avg_1', 'margin_avg_1', 'margin_time_avg_1', 'RunHomeTime_1', 'run_home_speed_1', 'run_home_speed_v1_1', 'first_out_avg_1', 'pos_out_avg_1', 'post_change_avg_1', 'races_1', 'wins_1', 'wins_last_1', 'weight_', 'min_time_', 'min_split_time_', 'min_split_time_v1', 'last_start_price', 'last_start_prob']"
   ]
  },
  {
   "cell_type": "code",
   "execution_count": 6,
   "metadata": {},
   "outputs": [],
   "source": [
    "def custom_l2(output, target):\n",
    "    loss = torch.mean(abs(output-target), dim=1)\n",
    "    return loss"
   ]
  },
  {
   "cell_type": "code",
   "execution_count": 7,
   "metadata": {},
   "outputs": [],
   "source": [
    "def validation_CLE(x,y):\n",
    "    loss_t = -torch.log(torch.exp(x)/torch.sum(torch.exp(x), dim=-1, keepdim=True))*y\n",
    "    return loss_t"
   ]
  },
  {
   "cell_type": "code",
   "execution_count": 8,
   "metadata": {},
   "outputs": [],
   "source": [
    "tracks = ['Sandown Park',\n",
    " 'The Meadows',\n",
    " 'Warragul',\n",
    " 'Geelong',\n",
    " 'Sale',\n",
    " 'Ballarat',\n",
    " 'Bendigo',\n",
    " 'Cranbourne']"
   ]
  },
  {
   "cell_type": "code",
   "execution_count": 9,
   "metadata": {},
   "outputs": [
    {
     "name": "stdout",
     "output_type": "stream",
     "text": [
      "c:\\Users\\Nick\\Documents\\GitHub\\grvmodel\\python\n",
      "[['dist_last__1', 'box_last__1', 'speed_avg_1', 'split_speed_v1_1', 'split_speed_avg_1', 'split_margin_avg_1', 'margin_avg_1', 'margin_time_avg_1', 'RunHomeTime_1', 'run_home_speed_1', 'run_home_speed_v1_1', 'first_out_avg_1', 'pos_out_avg_1', 'post_change_avg_1', 'races_1', 'wins_1', 'wins_last_1', 'weight_', 'min_time_', 'min_split_time_', 'min_split_time_v1', 'last_start_price', 'last_start_prob']]\n",
      "(1465899, 25)\n",
      "26\n",
      "Latest date = 2023-12-11 00:00:00\n",
      "size after state filter (151844, 27)\n",
      "(151844, 27)\n",
      "Latest date = 2023-12-10 00:00:00\n",
      "num_features_per_dog=26\n",
      "___Processing 3953 unique dogs___\n"
     ]
    },
    {
     "name": "stderr",
     "output_type": "stream",
     "text": [
      "100%|██████████| 25/25 [00:00<?, ?it/s]\n",
      "c:\\Users\\Nick\\Documents\\GitHub\\grvmodel\\python\\rnn_tools\\rnn_classes.py:391: UserWarning: To copy construct from a tensor, it is recommended to use sourceTensor.clone().detach() or sourceTensor.clone().detach().requires_grad_(True), rather than torch.tensor(sourceTensor).\n",
      "  r.prob = torch.tensor((1/(torch.tensor(r.start_prices)+0.0001))/((1/torch.tensor(r.start_prices)).sum()+0.0001),device=self.device)\n"
     ]
    },
    {
     "name": "stdout",
     "output_type": "stream",
     "text": [
      "number of races = 20191, number of unique dogs = 3954\n",
      "0                (Auckland, 318.0)\n",
      "1        (Palmerston North, 457.0)\n",
      "2                (Auckland, 318.0)\n",
      "3            (Christchurch, 520.0)\n",
      "4                (Wanganui, 305.0)\n",
      "                   ...            \n",
      "20186            (Auckland, 527.0)\n",
      "20187        (Christchurch, 295.0)\n",
      "20188        (Christchurch, 295.0)\n",
      "20189            (Auckland, 318.0)\n",
      "20190        (Christchurch, 295.0)\n",
      "Length: 20191, dtype: object\n"
     ]
    }
   ],
   "source": [
    "os.getcwd()\n",
    "import rnn_tools.raceDB\n",
    "importlib.reload(rnn_tools.raceDB)\n",
    "# os.chdir(r\"C:\\Users\\Nick\\Documents\\GitHub\\grvmodel\\Python\\DATA\")\n",
    "date = datetime.datetime.strptime(\"2022-08-01\", \"%Y-%m-%d\").date()\n",
    "hidden_size = 32\n",
    "states = [\"NZ\"]\n",
    "data_file = './data/gru_inputs_simple_kitchen_sink_new.fth'\n",
    "raceDB = rnn_tools.raceDB.build_dataset(data_file, hidden_size ,state_filter=states, margin_type='boosted_sftmin',v6=True)\n",
    "raceDB.create_new_weights_v2()"
   ]
  },
  {
   "cell_type": "code",
   "execution_count": 10,
   "metadata": {},
   "outputs": [],
   "source": [
    "from rnn_tools.rnn_classes import Races,Dog, DogInput, Race"
   ]
  },
  {
   "cell_type": "code",
   "execution_count": 11,
   "metadata": {},
   "outputs": [],
   "source": [
    "import rnn_tools.raceDB"
   ]
  },
  {
   "cell_type": "code",
   "execution_count": 12,
   "metadata": {},
   "outputs": [
    {
     "data": {
      "text/plain": [
       "[datetime.date(2020, 2, 2),\n",
       " datetime.date(2020, 2, 2),\n",
       " datetime.date(2020, 2, 2),\n",
       " datetime.date(2020, 2, 2),\n",
       " datetime.date(2020, 2, 2),\n",
       " datetime.date(2020, 2, 2),\n",
       " datetime.date(2020, 2, 3),\n",
       " datetime.date(2020, 2, 3),\n",
       " datetime.date(2020, 2, 3),\n",
       " datetime.date(2020, 2, 3),\n",
       " datetime.date(2020, 2, 3),\n",
       " datetime.date(2020, 2, 3),\n",
       " datetime.date(2020, 2, 3),\n",
       " datetime.date(2020, 2, 3),\n",
       " datetime.date(2020, 2, 3),\n",
       " datetime.date(2020, 2, 3),\n",
       " datetime.date(2020, 2, 3),\n",
       " datetime.date(2020, 2, 3),\n",
       " datetime.date(2020, 2, 3),\n",
       " datetime.date(2020, 2, 3),\n",
       " datetime.date(2020, 2, 3),\n",
       " datetime.date(2020, 2, 4),\n",
       " datetime.date(2020, 2, 4),\n",
       " datetime.date(2020, 2, 4),\n",
       " datetime.date(2020, 2, 4),\n",
       " datetime.date(2020, 2, 4),\n",
       " datetime.date(2020, 2, 4),\n",
       " datetime.date(2020, 2, 4),\n",
       " datetime.date(2020, 2, 4),\n",
       " datetime.date(2020, 2, 4),\n",
       " datetime.date(2020, 2, 4),\n",
       " datetime.date(2020, 2, 4),\n",
       " datetime.date(2020, 2, 4),\n",
       " datetime.date(2020, 2, 4),\n",
       " datetime.date(2020, 2, 4),\n",
       " datetime.date(2020, 2, 4),\n",
       " datetime.date(2020, 2, 4),\n",
       " datetime.date(2020, 2, 4),\n",
       " datetime.date(2020, 2, 4),\n",
       " datetime.date(2020, 2, 4),\n",
       " datetime.date(2020, 2, 4),\n",
       " datetime.date(2020, 2, 4),\n",
       " datetime.date(2020, 2, 4),\n",
       " datetime.date(2020, 2, 4),\n",
       " datetime.date(2020, 2, 5),\n",
       " datetime.date(2020, 2, 5),\n",
       " datetime.date(2020, 2, 5),\n",
       " datetime.date(2020, 2, 5),\n",
       " datetime.date(2020, 2, 5),\n",
       " datetime.date(2020, 2, 5),\n",
       " datetime.date(2020, 2, 5),\n",
       " datetime.date(2020, 2, 5),\n",
       " datetime.date(2020, 2, 5),\n",
       " datetime.date(2020, 2, 5),\n",
       " datetime.date(2020, 2, 5),\n",
       " datetime.date(2020, 2, 5),\n",
       " datetime.date(2020, 2, 5),\n",
       " datetime.date(2020, 2, 5),\n",
       " datetime.date(2020, 2, 6),\n",
       " datetime.date(2020, 2, 6),\n",
       " datetime.date(2020, 2, 6),\n",
       " datetime.date(2020, 2, 6),\n",
       " datetime.date(2020, 2, 6),\n",
       " datetime.date(2020, 2, 6),\n",
       " datetime.date(2020, 2, 6),\n",
       " datetime.date(2020, 2, 6),\n",
       " datetime.date(2020, 2, 6),\n",
       " datetime.date(2020, 2, 6),\n",
       " datetime.date(2020, 2, 6),\n",
       " datetime.date(2020, 2, 6),\n",
       " datetime.date(2020, 2, 6),\n",
       " datetime.date(2020, 2, 6),\n",
       " datetime.date(2020, 2, 6),\n",
       " datetime.date(2020, 2, 6),\n",
       " datetime.date(2020, 2, 6),\n",
       " datetime.date(2020, 2, 6),\n",
       " datetime.date(2020, 2, 6),\n",
       " datetime.date(2020, 2, 6),\n",
       " datetime.date(2020, 2, 6),\n",
       " datetime.date(2020, 2, 6),\n",
       " datetime.date(2020, 2, 6),\n",
       " datetime.date(2020, 2, 6),\n",
       " datetime.date(2020, 2, 6),\n",
       " datetime.date(2020, 2, 7),\n",
       " datetime.date(2020, 2, 7),\n",
       " datetime.date(2020, 2, 7),\n",
       " datetime.date(2020, 2, 7),\n",
       " datetime.date(2020, 2, 7),\n",
       " datetime.date(2020, 2, 7),\n",
       " datetime.date(2020, 2, 7),\n",
       " datetime.date(2020, 2, 7),\n",
       " datetime.date(2020, 2, 7),\n",
       " datetime.date(2020, 2, 7),\n",
       " datetime.date(2020, 2, 7),\n",
       " datetime.date(2020, 2, 7),\n",
       " datetime.date(2020, 2, 7),\n",
       " datetime.date(2020, 2, 7),\n",
       " datetime.date(2020, 2, 7),\n",
       " datetime.date(2020, 2, 7),\n",
       " datetime.date(2020, 2, 7)]"
      ]
     },
     "execution_count": 12,
     "metadata": {},
     "output_type": "execute_result"
    }
   ],
   "source": [
    "races = raceDB.get_race_input(range(1000,1100))\n",
    "[r.race_date for r in races]"
   ]
  },
  {
   "cell_type": "code",
   "execution_count": 13,
   "metadata": {},
   "outputs": [],
   "source": [
    "stat_list = ['dist_last__1', 'box_last__1', 'speed_avg_1', 'split_speed_v1_1', 'split_speed_avg_1', 'split_margin_avg_1', 'margin_avg_1', 'margin_time_avg_1', 'RunHomeTime_1', 'run_home_speed_1', 'run_home_speed_v1_1', 'first_out_avg_1', 'pos_out_avg_1', 'post_change_avg_1', 'races_1', 'wins_1', 'wins_last_1', 'weight_', 'min_time_', 'min_split_time_', 'min_split_time_v1', 'last_start_price', 'last_start_prob']\n"
   ]
  },
  {
   "cell_type": "code",
   "execution_count": 14,
   "metadata": {},
   "outputs": [],
   "source": [
    "def closure(optimizer, criterion, outs, classes):\n",
    "    optimizer.zero_grad()\n",
    "    loss = nn.functional.mse_loss(outs, classes)\n",
    "    loss.backward()\n",
    "    return loss\n",
    "\n",
    "def model_pipeline(my_dataset=raceDB,config=None,prev_model=None, sweep=True, model_state_dict=None, prev_model_file=None, prev_model_version='450'):\n",
    "    if my_dataset:\n",
    "      dataset = my_dataset    \n",
    "    else:\n",
    "      dataset = raceDB\n",
    "    # tell wandb to get started\n",
    "    with wandb.init(project=\"NEW GRU V7\", config=config,save_code=False):\n",
    "      #  access all HPs through wandb.config, so logging matches execution!\n",
    "      wandb.define_metric(\"loss_val\", summary=\"min\")\n",
    "      wandb.define_metric(\"accuracy\", summary=\"max\")\n",
    "      wandb.define_metric(\"ROI < 30\", summary=\"max\")\n",
    "      wandb.define_metric(\"relu roi\", summary=\"max\")\n",
    "      \n",
    "      config = wandb.config\n",
    "      pprint.pprint(config)\n",
    "      pprint.pprint(config.epochs)\n",
    "      print(config)\n",
    "      # input_size = raceDB.get_race_input([0,1])[0].full_input.shape[0] #create fix so messy\n",
    "      print(config.input_type)\n",
    "\n",
    "      stat_mask = [1,1,1]\n",
    "      for stat in stat_list:\n",
    "          stat_flag = config[stat]\n",
    "          stat_mask = stat_mask+[stat_flag]\n",
    "\n",
    "      print(stat_mask)\n",
    "      stat_mask = torch.tensor(stat_mask).type(torch.bool).to(device)\n",
    "      stat_mask = torch.ones_like(stat_mask).type(torch.bool).to(device)\n",
    "\n",
    "      print(stat_mask)\n",
    "      print(stat_mask.shape)\n",
    "\n",
    "      if 'batch_days' in config.keys():\n",
    "        # pass\n",
    "        raceDB.create_test_split_date(config['training_date_end'],val_date='2023-12-01')\n",
    "        raceDB.create_dogs_test_split_date()\n",
    "        raceDB.attach_races_to_dog_inputv2() \n",
    "        raceDB.reset_hidden()\n",
    "        raceDB.create_batches(batch_days=config['batch_days'], end_date = config['training_date_end'], stat_mask=None)\n",
    "\n",
    "      if config['input_type'] == 'basic':\n",
    "          print('here')\n",
    "          raceDB.batches['packed_x'] = raceDB.batches['packed_x_basic']\n",
    "          raceDB.batches['packed_y'] = raceDB.batches['packed_y_basic']\n",
    "          raceDB.batches['packed_v'] = raceDB.batches['packed_v_basic']\n",
    "          input_size = raceDB.batches['packed_x'][0].data[0].shape[0]\n",
    "\n",
    "      # for race in raceDB.racesDict.values():\n",
    "      #     for dog_input in race.dogs:\n",
    "      #       dog_input.stats_masked = dog_input.stats.masked_select(stat_mask) \n",
    "\n",
    "\n",
    "      print(f\"{input_size=}\")\n",
    "      config['stat_mask_tensor'] = torch.tensor(stat_mask, dtype=torch.uint8).to(device)     \n",
    "      raceDB.reset_hidden(num_layers=config['num_layers'], hidden_size=config['hidden_size'])\n",
    "      model = rnn_classes.LSTMNetv3_BN_double(input_size,config['hidden_size'], num_layers=config['num_layers'],fc0_size=config['f0_layer_size'], fc1_size=config['f1_layer_size'])\n",
    "      \n",
    "      if model_state_dict:\n",
    "        model.load_state_dict(model_state_dict)\n",
    "      if prev_model_file!=None:\n",
    "        print(f\"Loading model {prev_model_file}, version {prev_model_version}\")\n",
    "        model_name = prev_model_file\n",
    "        model_loc = f\"C:/Users/Nick/Documents/GitHub/grvmodel/Python/pytorch/New Model/savedmodel/{model_name}/{model_name}_{prev_model_version}.pt\"\n",
    "        model_data = torch.load(model_loc,map_location=torch.device('cuda:0'))\n",
    "        print(model_data['model_state_dict'].keys())\n",
    "        model.load_state_dict(model_data['model_state_dict'], strict=True)\n",
    "        config['parent model'] = prev_model_file\n",
    "        model = model.to(device)\n",
    "        optimizer = optim.RAdam(model.parameters(), lr=config['learning_rate'])\n",
    "        # optimizer.load_state_dict(model_data['optim'])\n",
    "        # optimizer.to(device)\n",
    "      else:\n",
    "        optimizer = optim.RAdam(model.parameters(), lr=config['learning_rate'])\n",
    "\n",
    "      raceDB.to_cuda()\n",
    "      criterion = nn.CrossEntropyLoss(reduction='none')\n",
    "\n",
    "      model = model.to(device)\n",
    "      print(model)\n",
    "\n",
    "      # and use them to train the model\n",
    "      wandb.watch(model, log='all')\n",
    "      try:\n",
    "        # train_double_loss_regular(model, dataset, criterion, optimizer, scheduler, config, crit2=custom_l2)\n",
    "        training_testing_lstm.train_double_v3(model, dataset, criterion, optimizer, 'na', config)\n",
    "      except (KeyboardInterrupt) as error:\n",
    "        print(error)\n",
    "        print(\"finished Early\")\n",
    "        \n",
    "      # dataset.create_hidden_states_dict()\n",
    "      raceDB.create_hidden_states_dict_v2()\n",
    "      model_saver_wandb(model, optimizer, 450, 0.1, raceDB.hidden_states_dict_gru_v6,raceDB.train_hidden_dict , model_name=\"long nsw new  22000 RUN\")\n",
    "      if sweep:\n",
    "        # raceDB.reset_all_lstm_states\n",
    "        raceDB.reset_hidden()\n",
    "    \n",
    "\n",
    "\n",
    "    # and test its final performance\n",
    "    #test(model, test_loader)\n",
    "\n",
    "    return (model,dataset, optimizer)"
   ]
  },
  {
   "cell_type": "code",
   "execution_count": 15,
   "metadata": {},
   "outputs": [],
   "source": [
    "len(raceDB.raceIDs)\n",
    "wandb_config_static = {'hidden_size':128,\n",
    "                        'stats':raceDB.stats_cols,\n",
    "                        'races':states,\n",
    "                        'datafile':data_file,\n",
    "                        'latest_date':raceDB.latest_date,\n",
    "                        'input_type':'basic',\n",
    "                        'num_layers':2,\n",
    "                        'batch_size': 750,\n",
    "                        'dropout': 0.3,\n",
    "                        'epochs': 500,\n",
    "                        'learning_rate': 0.0001,\n",
    "                        'optimizer': 'adamW',\n",
    "                        'f0_layer_size':128,\n",
    "                        'f1_layer_size':64,\n",
    "                        'training_date_end':'2021-11-30',\n",
    "                        'batch_days':365,\n",
    "                        'dist_last__1': 1,#\n",
    "                        'box_last__1':1,#\n",
    "                        'speed_avg_1':1,#\n",
    "                        'split_speed_v1_1':1,#\n",
    "                        'split_speed_avg_1':0,\n",
    "                        'split_margin_avg_1':0,\n",
    "                        'margin_avg_1':0,\n",
    "                        'margin_time_avg_1':1,#\n",
    "                        'RunHomeTime_1':0,\n",
    "                        'run_home_speed_1':0,\n",
    "                        'run_home_speed_v1_1':0,\n",
    "                        'first_out_avg_1':0,\n",
    "                        'pos_out_avg_1':1,#\n",
    "                        'post_change_avg_1':1,#\n",
    "                        'races_1':0,\n",
    "                        'wins_1':0,\n",
    "                        'wins_last_1':1,#\n",
    "                        'weight_':1,#\n",
    "                        'min_time_':0,\n",
    "                        'min_split_time_':0, \n",
    "                        'min_split_time_v1':1,#\n",
    "                        'last_start_price':1, #\n",
    "                        'last_start_prob':0,\n",
    "            }"
   ]
  },
  {
   "cell_type": "code",
   "execution_count": 16,
   "metadata": {},
   "outputs": [],
   "source": [
    "wandb_config_static =  {'hidden_size':256,\n",
    "                        'stats':raceDB.stats_cols,\n",
    "                        'races':states,\n",
    "                        'datafile':data_file,\n",
    "                        'latest_date':raceDB.latest_date,\n",
    "                        'input_type':'basic',\n",
    "                        'num_layers':2,\n",
    "                        'batch_size': 750,\n",
    "                        'dropout': 0.3,\n",
    "                        'epochs': 5000,\n",
    "                        'learning_rate': 0.001,\n",
    "                        'optimizer': 'adamW',\n",
    "                        'f0_layer_size':128,\n",
    "                        'f1_layer_size':64,\n",
    "                        'training_date_end':'2023-05-01',\n",
    "                        'batch_days':90,\n",
    "                        'dist_last__1': 1,#\n",
    "                        'box_last__1':1,#\n",
    "                        'speed_avg_1':1,#\n",
    "                        'split_speed_v1_1':0,#\n",
    "                        'split_speed_avg_1':0,#\n",
    "                        'split_margin_avg_1':1,\n",
    "                        'margin_avg_1':1,#\n",
    "                        'margin_time_avg_1':1,#\n",
    "                        'RunHomeTime_1':1,\n",
    "                        'run_home_speed_1':1,\n",
    "                        'run_home_speed_v1_1':0,\n",
    "                        'first_out_avg_1':1,#\n",
    "                        'pos_out_avg_1':1,#\n",
    "                        'post_change_avg_1':1,#\n",
    "                        'races_1':0,\n",
    "                        'wins_1':0,\n",
    "                        'wins_last_1':1,\n",
    "                        'weight_':1,#\n",
    "                        'min_time_':1,#\n",
    "                        'min_split_time_':1, \n",
    "                        'min_split_time_v1':0,#\n",
    "                        'last_start_price':0, #\n",
    "                        'last_start_prob':1,\n",
    "            }"
   ]
  },
  {
   "cell_type": "code",
   "execution_count": 17,
   "metadata": {},
   "outputs": [],
   "source": [
    "raceDB.reset_hidden(num_layers=wandb_config_static['num_layers'], hidden_size=wandb_config_static['hidden_size'])"
   ]
  },
  {
   "cell_type": "code",
   "execution_count": 18,
   "metadata": {},
   "outputs": [],
   "source": [
    "torch.cuda.empty_cache()"
   ]
  },
  {
   "cell_type": "code",
   "execution_count": 19,
   "metadata": {},
   "outputs": [],
   "source": [
    "raceDB.race_prices_to_prob()"
   ]
  },
  {
   "cell_type": "code",
   "execution_count": 20,
   "metadata": {},
   "outputs": [
    {
     "data": {
      "text/plain": [
       "Timestamp('2023-12-10 00:00:00')"
      ]
     },
     "execution_count": 20,
     "metadata": {},
     "output_type": "execute_result"
    }
   ],
   "source": [
    "raceDB.latest_date"
   ]
  },
  {
   "cell_type": "code",
   "execution_count": 21,
   "metadata": {},
   "outputs": [
    {
     "name": "stderr",
     "output_type": "stream",
     "text": [
      "Failed to detect the name of this notebook, you can set it manually with the WANDB_NOTEBOOK_NAME environment variable to enable code saving.\n",
      "\u001b[34m\u001b[1mwandb\u001b[0m: Currently logged in as: \u001b[33mnickojelly\u001b[0m. Use \u001b[1m`wandb login --relogin`\u001b[0m to force relogin\n"
     ]
    },
    {
     "data": {
      "text/html": [
       "Tracking run with wandb version 0.16.2"
      ],
      "text/plain": [
       "<IPython.core.display.HTML object>"
      ]
     },
     "metadata": {},
     "output_type": "display_data"
    },
    {
     "data": {
      "text/html": [
       "Run data is saved locally in <code>c:\\Users\\Nick\\Documents\\GitHub\\grvmodel\\python\\wandb\\run-20240130_203845-n5464qd2</code>"
      ],
      "text/plain": [
       "<IPython.core.display.HTML object>"
      ]
     },
     "metadata": {},
     "output_type": "display_data"
    },
    {
     "data": {
      "text/html": [
       "Syncing run <strong><a href='https://wandb.ai/nickojelly/NEW%20GRU%20V7/runs/n5464qd2' target=\"_blank\">flowing-moon-255</a></strong> to <a href='https://wandb.ai/nickojelly/NEW%20GRU%20V7' target=\"_blank\">Weights & Biases</a> (<a href='https://wandb.me/run' target=\"_blank\">docs</a>)<br/>"
      ],
      "text/plain": [
       "<IPython.core.display.HTML object>"
      ]
     },
     "metadata": {},
     "output_type": "display_data"
    },
    {
     "data": {
      "text/html": [
       " View project at <a href='https://wandb.ai/nickojelly/NEW%20GRU%20V7' target=\"_blank\">https://wandb.ai/nickojelly/NEW%20GRU%20V7</a>"
      ],
      "text/plain": [
       "<IPython.core.display.HTML object>"
      ]
     },
     "metadata": {},
     "output_type": "display_data"
    },
    {
     "data": {
      "text/html": [
       " View run at <a href='https://wandb.ai/nickojelly/NEW%20GRU%20V7/runs/n5464qd2' target=\"_blank\">https://wandb.ai/nickojelly/NEW%20GRU%20V7/runs/n5464qd2</a>"
      ],
      "text/plain": [
       "<IPython.core.display.HTML object>"
      ]
     },
     "metadata": {},
     "output_type": "display_data"
    },
    {
     "name": "stdout",
     "output_type": "stream",
     "text": [
      "{'hidden_size': 256, 'stats': \"[['dist_last__1', 'box_last__1', 'speed_avg_1', 'split_speed_v1_1', 'split_speed_avg_1', 'split_margin_avg_1', 'margin_avg_1', 'margin_time_avg_1', 'RunHomeTime_1', 'run_home_speed_1', 'run_home_speed_v1_1', 'first_out_avg_1', 'pos_out_avg_1', 'post_change_avg_1', 'races_1', 'wins_1', 'wins_last_1', 'weight_', 'min_time_', 'min_split_time_', 'min_split_time_v1', 'last_start_price', 'last_start_prob']]\", 'races': ['NZ'], 'datafile': './data/gru_inputs_simple_kitchen_sink_new.fth', 'latest_date': '2023-12-10T00:00:00', 'input_type': 'basic', 'num_layers': 2, 'batch_size': 750, 'dropout': 0.3, 'epochs': 5000, 'learning_rate': 0.001, 'optimizer': 'adamW', 'f0_layer_size': 128, 'f1_layer_size': 64, 'training_date_end': '2023-05-01', 'batch_days': 90, 'dist_last__1': 1, 'box_last__1': 1, 'speed_avg_1': 1, 'split_speed_v1_1': 0, 'split_speed_avg_1': 0, 'split_margin_avg_1': 1, 'margin_avg_1': 1, 'margin_time_avg_1': 1, 'RunHomeTime_1': 1, 'run_home_speed_1': 1, 'run_home_speed_v1_1': 0, 'first_out_avg_1': 1, 'pos_out_avg_1': 1, 'post_change_avg_1': 1, 'races_1': 0, 'wins_1': 0, 'wins_last_1': 1, 'weight_': 1, 'min_time_': 1, 'min_split_time_': 1, 'min_split_time_v1': 0, 'last_start_price': 0, 'last_start_prob': 1}\n",
      "5000\n",
      "{'hidden_size': 256, 'stats': \"[['dist_last__1', 'box_last__1', 'speed_avg_1', 'split_speed_v1_1', 'split_speed_avg_1', 'split_margin_avg_1', 'margin_avg_1', 'margin_time_avg_1', 'RunHomeTime_1', 'run_home_speed_1', 'run_home_speed_v1_1', 'first_out_avg_1', 'pos_out_avg_1', 'post_change_avg_1', 'races_1', 'wins_1', 'wins_last_1', 'weight_', 'min_time_', 'min_split_time_', 'min_split_time_v1', 'last_start_price', 'last_start_prob']]\", 'races': ['NZ'], 'datafile': './data/gru_inputs_simple_kitchen_sink_new.fth', 'latest_date': '2023-12-10T00:00:00', 'input_type': 'basic', 'num_layers': 2, 'batch_size': 750, 'dropout': 0.3, 'epochs': 5000, 'learning_rate': 0.001, 'optimizer': 'adamW', 'f0_layer_size': 128, 'f1_layer_size': 64, 'training_date_end': '2023-05-01', 'batch_days': 90, 'dist_last__1': 1, 'box_last__1': 1, 'speed_avg_1': 1, 'split_speed_v1_1': 0, 'split_speed_avg_1': 0, 'split_margin_avg_1': 1, 'margin_avg_1': 1, 'margin_time_avg_1': 1, 'RunHomeTime_1': 1, 'run_home_speed_1': 1, 'run_home_speed_v1_1': 0, 'first_out_avg_1': 1, 'pos_out_avg_1': 1, 'post_change_avg_1': 1, 'races_1': 0, 'wins_1': 0, 'wins_last_1': 1, 'weight_': 1, 'min_time_': 1, 'min_split_time_': 1, 'min_split_time_v1': 0, 'last_start_price': 0, 'last_start_prob': 1}\n",
      "basic\n",
      "[1, 1, 1, 1, 1, 1, 0, 0, 1, 1, 1, 1, 1, 0, 1, 1, 1, 0, 0, 1, 1, 1, 1, 0, 0, 1]\n",
      "tensor([True, True, True, True, True, True, True, True, True, True, True, True,\n",
      "        True, True, True, True, True, True, True, True, True, True, True, True,\n",
      "        True, True], device='cuda:0')\n",
      "torch.Size([26])\n",
      "Train examples 17172, Test examples 2914, Val examples 105\n"
     ]
    },
    {
     "name": "stderr",
     "output_type": "stream",
     "text": [
      "100%|██████████| 3953/3953 [00:00<00:00, 64802.40it/s]\n",
      "100%|██████████| 3954/3954 [00:03<00:00, 1265.07it/s]\n"
     ]
    },
    {
     "name": "stdout",
     "output_type": "stream",
     "text": [
      "[(datetime.date(2019, 12, 1), datetime.date(2020, 2, 29)), (datetime.date(2020, 2, 29), datetime.date(2020, 5, 29)), (datetime.date(2020, 5, 29), datetime.date(2020, 8, 27)), (datetime.date(2020, 8, 27), datetime.date(2020, 11, 25)), (datetime.date(2020, 11, 25), datetime.date(2021, 2, 23)), (datetime.date(2021, 2, 23), datetime.date(2021, 5, 24)), (datetime.date(2021, 5, 24), datetime.date(2021, 8, 22)), (datetime.date(2021, 8, 22), datetime.date(2021, 11, 20)), (datetime.date(2021, 11, 20), datetime.date(2022, 2, 18)), (datetime.date(2022, 2, 18), datetime.date(2022, 5, 19)), (datetime.date(2022, 5, 19), datetime.date(2022, 8, 17)), (datetime.date(2022, 8, 17), datetime.date(2022, 11, 15)), (datetime.date(2022, 11, 15), datetime.date(2023, 2, 13)), (datetime.date(2023, 2, 13), datetime.date(2023, 4, 30))]\n",
      "2020-02-29\n",
      "2020-05-29\n",
      "2020-08-27\n",
      "2020-11-25\n",
      "2021-02-23\n",
      "2021-05-24\n",
      "2021-08-22\n",
      "2021-11-20\n",
      "2022-02-18\n",
      "2022-05-19\n",
      "2022-08-17\n",
      "2022-11-15\n",
      "2023-02-13\n",
      "2023-04-30\n",
      "Train examples [1431, 769, 1453, 1372, 1331, 1348, 1242, 1153, 1230, 1213, 1238, 1152, 1190, 1025]\n"
     ]
    },
    {
     "name": "stderr",
     "output_type": "stream",
     "text": [
      "100%|██████████| 3953/3953 [00:00<00:00, 7148.30it/s]\n",
      "100%|██████████| 3953/3953 [00:00<00:00, 12834.33it/s]\n",
      "100%|██████████| 3953/3953 [00:00<00:00, 7071.55it/s]\n",
      "100%|██████████| 3953/3953 [00:00<00:00, 7500.82it/s]\n",
      "100%|██████████| 3953/3953 [00:00<00:00, 7592.42it/s]\n",
      "100%|██████████| 3953/3953 [00:00<00:00, 7118.49it/s]\n",
      "100%|██████████| 3953/3953 [00:00<00:00, 8287.25it/s]\n",
      "100%|██████████| 3953/3953 [00:00<00:00, 8843.47it/s]\n",
      "100%|██████████| 3953/3953 [00:00<00:00, 8287.25it/s]\n",
      "100%|██████████| 3953/3953 [00:00<00:00, 8446.63it/s]\n",
      "100%|██████████| 3953/3953 [00:00<00:00, 8304.60it/s]\n",
      "100%|██████████| 3953/3953 [00:00<00:00, 8843.41it/s]\n",
      "100%|██████████| 3953/3953 [00:00<00:00, 8593.52it/s]\n",
      "100%|██████████| 3953/3953 [00:00<00:00, 10033.02it/s]\n",
      "100%|██████████| 14/14 [00:06<00:00,  2.08it/s]\n"
     ]
    },
    {
     "name": "stdout",
     "output_type": "stream",
     "text": [
      "Train examples [1400, 1295, 1405, 1321, 1309, 1270, 1270, 1243, 1204, 1144, 1167, 1108, 1139, 1090]\n",
      "Train examples [1400, 1295, 1405, 1321, 1309, 1270, 1270, 1243, 1204, 1144, 1167, 1108, 1139, 1090]\n",
      "Train examples [1431, 769, 1453, 1372, 1331, 1348, 1242, 1153, 1230, 1213, 1238, 1152, 1190, 1025]\n",
      "Train examples [1431, 769, 1453, 1372, 1331, 1348, 1242, 1153, 1230, 1213, 1238, 1152, 1190, 1025]\n",
      "here\n",
      "input_size=26\n"
     ]
    },
    {
     "name": "stderr",
     "output_type": "stream",
     "text": [
      "C:\\Users\\Nick\\AppData\\Local\\Temp\\ipykernel_21748\\3479760067.py:60: UserWarning: To copy construct from a tensor, it is recommended to use sourceTensor.clone().detach() or sourceTensor.clone().detach().requires_grad_(True), rather than torch.tensor(sourceTensor).\n",
      "  config['stat_mask_tensor'] = torch.tensor(stat_mask, dtype=torch.uint8).to(device)\n"
     ]
    },
    {
     "name": "stdout",
     "output_type": "stream",
     "text": [
      "LSTMNetv3_BN_double(\n",
      "  (gru): LSTM(26, 256, num_layers=2, dropout=0.3)\n",
      "  (relu): ReLU()\n",
      "  (drop): Dropout(p=0.3, inplace=False)\n",
      "  (layer_norm): BatchNorm1d(26, eps=1e-05, momentum=0.1, affine=True, track_running_stats=True)\n",
      "  (batch_norm0): BatchNorm1d(26, eps=1e-05, momentum=0.1, affine=True, track_running_stats=True)\n",
      "  (softmax): Softmax(dim=-1)\n",
      "  (fc_lstm0): Linear(in_features=282, out_features=512, bias=True)\n",
      "  (fc_lstm1): Linear(in_features=512, out_features=1024, bias=True)\n",
      "  (fc_lstm2): Linear(in_features=1024, out_features=256, bias=True)\n",
      "  (batch_norm): BatchNorm1d(2118, eps=1e-05, momentum=0.1, affine=True, track_running_stats=True)\n",
      "  (fc0): Linear(in_features=2118, out_features=2118, bias=True)\n",
      "  (fc1): Linear(in_features=2118, out_features=128, bias=True)\n",
      "  (fc2): Linear(in_features=128, out_features=64, bias=True)\n",
      "  (fc3): Linear(in_features=64, out_features=8, bias=True)\n",
      "  (price_fc2): Linear(in_features=128, out_features=64, bias=True)\n",
      "  (price_fc3): Linear(in_features=64, out_features=8, bias=True)\n",
      "  (final_bn): Bilinear(in1_features=8, in2_features=8, out_features=32, bias=True)\n",
      "  (final_fc): Linear(in_features=32, out_features=8, bias=True)\n",
      "  (output_fn): Identity()\n",
      ")\n"
     ]
    },
    {
     "name": "stderr",
     "output_type": "stream",
     "text": [
      "  0%|          | 0/5000 [00:00<?, ?it/s]"
     ]
    },
    {
     "name": "stdout",
     "output_type": "stream",
     "text": [
      "val_idx=range(0, 654), len_test=654\n",
      "created path\n"
     ]
    },
    {
     "name": "stderr",
     "output_type": "stream",
     "text": [
      "  0%|          | 5/5000 [02:23<38:31:44, 27.77s/it]"
     ]
    },
    {
     "name": "stdout",
     "output_type": "stream",
     "text": [
      "val_idx=range(0, 654), len_test=654\n"
     ]
    },
    {
     "name": "stderr",
     "output_type": "stream",
     "text": [
      "  0%|          | 10/5000 [04:47<38:47:26, 27.99s/it]"
     ]
    },
    {
     "name": "stdout",
     "output_type": "stream",
     "text": [
      "val_idx=range(0, 654), len_test=654\n"
     ]
    },
    {
     "name": "stderr",
     "output_type": "stream",
     "text": [
      "  0%|          | 15/5000 [07:14<39:19:59, 28.41s/it]"
     ]
    },
    {
     "name": "stdout",
     "output_type": "stream",
     "text": [
      "val_idx=range(0, 654), len_test=654\n"
     ]
    },
    {
     "name": "stderr",
     "output_type": "stream",
     "text": [
      "  0%|          | 20/5000 [09:48<40:56:19, 29.59s/it]"
     ]
    },
    {
     "name": "stdout",
     "output_type": "stream",
     "text": [
      "val_idx=range(0, 654), len_test=654\n"
     ]
    },
    {
     "name": "stderr",
     "output_type": "stream",
     "text": [
      "  0%|          | 25/5000 [12:33<44:41:12, 32.34s/it]"
     ]
    }
   ],
   "source": [
    "importlib.reload(training_testing_gru)\n",
    "importlib.reload(training_testing_lstm)\n",
    "importlib.reload(training_testing_gru_double)\n",
    "importlib.reload(rnn_classes)\n",
    "(model,dataset, optimizer) = model_pipeline(raceDB,config=wandb_config_static,sweep=False)\n",
    "# all_price_df = model_pipeline(raceDB,config=wandb_config_static,sweep=False)\n"
   ]
  },
  {
   "cell_type": "code",
   "execution_count": null,
   "metadata": {},
   "outputs": [],
   "source": []
  },
  {
   "cell_type": "code",
   "execution_count": null,
   "metadata": {},
   "outputs": [],
   "source": [
    "config = wandb_config_static"
   ]
  },
  {
   "cell_type": "code",
   "execution_count": null,
   "metadata": {},
   "outputs": [],
   "source": [
    "model = rnn_classes.LSTMNetv3_BN_double(22,config['hidden_size'], num_layers=config['num_layers'],fc0_size=config['f0_layer_size'], fc1_size=config['f1_layer_size'])"
   ]
  },
  {
   "cell_type": "code",
   "execution_count": null,
   "metadata": {},
   "outputs": [],
   "source": [
    "model = model.to('cuda:0')"
   ]
  },
  {
   "cell_type": "code",
   "execution_count": null,
   "metadata": {},
   "outputs": [],
   "source": [
    "sweep_config = {\"method\": \"grid\"}\n",
    "\n",
    "metric = {\"name\": \"ROI < 30\", \"goal\": \"maximize\"}\n",
    "\n",
    "sweep_config[\"metric\"] = metric\n",
    "\n",
    "\n",
    "parameters_dict = {\n",
    "    \"optimizer\": {\"value\": \"adamW\"},\n",
    "    \"batch_days\": {\"values\": [90,180,365,550,10000]},\n",
    "    \"f0_layer_size\": {\"values\": [128]},\n",
    "    \"f1_layer_size\": {\"values\": [64]},\n",
    "    \"dropout\": {\"values\": [0.3]},\n",
    "    \"input_type\": {\"values\": ['basic']},\n",
    "    \"num_layers\": {\"values\": [2]},\n",
    "    'hidden_size':{'values':[128]},\n",
    "    \"len_data\": {\"value\": len(raceDB.raceIDs)},\n",
    "    \"stats\":{\"value\": raceDB.stats_cols},\n",
    "    \"races\":{\"value\": states},\n",
    "    \"batch_size\":{\"value\": 10},\n",
    "}\n",
    "\n",
    "sweep_config[\"parameters\"] = parameters_dict\n",
    "\n",
    "parameters_dict.update(\n",
    "    {\n",
    "        \"epochs\": {\"values\": [1000]},\n",
    "        \"validation_split\": {\"value\": 0.1},\n",
    "        \"training_date_end\": {\"values\": \n",
    "                                [\n",
    "                                '2023-04-30',\n",
    "                                '2023-02-28',\n",
    "                                '2022-11-30',\n",
    "                                '2021-11-30'\n",
    "                                ]},\n",
    "        \"learning_rate\": {\"values\": [0.0003, 0.0001]},\n",
    "        \"label_smoothing\": {\"values\": [0.01,0.0]},\n",
    "        \"loss\": {\n",
    "            \"values\": [ \"CEL\"],\n",
    "        },\n",
    "    'dist_last__1': {'values': [0, 1]},\n",
    "    'box_last__1': {'values': [0, 1]},\n",
    "    'speed_avg_1': {'values': [0, 1]},\n",
    "    'split_speed_v1_1': {'values': [0, 1]},\n",
    "    'split_speed_avg_1': {'values': [0, 1]},\n",
    "    'split_margin_avg_1': {'values': [0, 1]},\n",
    "    'margin_avg_1': {'values': [0, 1]},\n",
    "    'margin_time_avg_1': {'values': [0, 1]},\n",
    "    'RunHomeTime_1': {'values': [0, 1]},\n",
    "    'run_home_speed_1': {'values': [0, 1]},\n",
    "    'run_home_speed_v1_1': {'values': [0, 1]},\n",
    "    'first_out_avg_1': {'values': [0, 1]},\n",
    "    'pos_out_avg_1': {'values': [0, 1]},\n",
    "    'post_change_avg_1': {'values': [0, 1]},\n",
    "    'races_1': {'values': [0, 1]},\n",
    "    'wins_1': {'values': [0, 1]},\n",
    "    'wins_last_1': {'values': [0, 1]},\n",
    "    'weight_': {'values': [0, 1]},\n",
    "    'min_time_': {'values': [0, 1]},\n",
    "    'min_split_time_': {'values': [0, 1]},\n",
    "    'min_split_time_v1': {'values': [0, 1]},\n",
    "    'last_start_price': {'values': [0, 1]},\n",
    "    'last_start_prob': {'values': [0, 1]}\n",
    "}\n",
    ")\n",
    "\n",
    "import pprint\n",
    "\n",
    "pprint.pprint(sweep_config)\n",
    "\n",
    "\n",
    "sweep_config"
   ]
  },
  {
   "cell_type": "code",
   "execution_count": null,
   "metadata": {},
   "outputs": [],
   "source": [
    "# wandb.agent('x9mz21wl', function=model_pipeline, count=100, project='NEW GRU-sweeps')"
   ]
  },
  {
   "attachments": {},
   "cell_type": "markdown",
   "metadata": {},
   "source": []
  },
  {
   "cell_type": "code",
   "execution_count": null,
   "metadata": {},
   "outputs": [],
   "source": []
  },
  {
   "cell_type": "code",
   "execution_count": null,
   "metadata": {},
   "outputs": [],
   "source": [
    "sweep_id = wandb.sweep(sweep_config, project=\"Variable Sweeps\")\n",
    "# CUDA_LAUNCH_BLOCKING=1\n",
    "wandb.agent(sweep_id, function=model_pipeline, count=1)"
   ]
  }
 ],
 "metadata": {
  "kernelspec": {
   "display_name": "PYTORCH",
   "language": "python",
   "name": "python3"
  },
  "language_info": {
   "codemirror_mode": {
    "name": "ipython",
    "version": 3
   },
   "file_extension": ".py",
   "mimetype": "text/x-python",
   "name": "python",
   "nbconvert_exporter": "python",
   "pygments_lexer": "ipython3",
   "version": "3.11.5"
  },
  "orig_nbformat": 4,
  "vscode": {
   "interpreter": {
    "hash": "8a48ca33c5a1168302a4f8eae355aad1c03b1396f568d40bc174a6e6aabe725d"
   }
  }
 },
 "nbformat": 4,
 "nbformat_minor": 2
}
