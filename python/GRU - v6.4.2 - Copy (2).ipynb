{
 "cells": [
  {
   "cell_type": "code",
   "execution_count": 1,
   "metadata": {},
   "outputs": [
    {
     "name": "stdout",
     "output_type": "stream",
     "text": [
      "c:\\Users\\Nick\\Documents\\GitHub\\new_grv\n"
     ]
    }
   ],
   "source": [
    "import pickle\n",
    "import pandas as pd\n",
    "import os\n",
    "import setup\n",
    "\n",
    "import torch\n",
    "import numpy as np\n",
    "import torch.nn as nn\n",
    "import torch.nn.functional as F\n",
    "import torch.optim as optim\n",
    "from tqdm.notebook import tqdm, trange\n",
    "import torch.optim as optim\n",
    "from torch.utils.data import TensorDataset, DataLoader\n",
    "import wandb\n",
    "from torch.utils.data.sampler import SubsetRandomSampler\n",
    "import pprint\n",
    "import matplotlib.pyplot as plt\n",
    "import torch\n",
    "\n",
    "from sklearn.preprocessing import MinMaxScaler\n",
    "import math\n",
    "from torch.profiler import profile, record_function, ProfilerActivity\n",
    "\n",
    "from operator import itemgetter\n",
    "import operator\n",
    "from random import randint\n",
    "# from rnn_classes import Dog, DogInput, Race, Races, GRUNet, smallGRUNet, smalll_lin_GRUNet, smalll_prelin_GRUNet\n",
    "import rnn_tools.rnn_classes as rnn_classes\n",
    "from rnn_tools.raceDB import build_dataset, build_pred_dataset\n",
    "import importlib\n",
    "import datetime\n",
    "from rnn_tools.model_saver import model_saver, model_saver_wandb\n",
    "import rnn_tools.training_testing_gru as training_testing_gru\n",
    "from torch.nn.utils.rnn import pack_padded_sequence, pack_sequence, pad_packed_sequence,pad_sequence, unpack_sequence, unpad_sequence\n",
    "import rnn_tools.training_testing_gru_double as training_testing_gru_double\n",
    "import rnn_tools.training_testing_lstm as training_testing_lstm\n",
    "from goto_conversion import goto_conversion"
   ]
  },
  {
   "cell_type": "code",
   "execution_count": 2,
   "metadata": {},
   "outputs": [
    {
     "name": "stdout",
     "output_type": "stream",
     "text": [
      "Running on the GPU\n"
     ]
    }
   ],
   "source": [
    "if torch.cuda.is_available():\n",
    "    device = torch.device(\"cuda:0\")  # you can continue going on here, like cuda:1 cuda:2....etc.\n",
    "    print(\"Running on the GPU\")\n",
    "else:\n",
    "    device = torch.device(\"cpu\")\n",
    "    print(\"Running on the CPU\")"
   ]
  },
  {
   "cell_type": "code",
   "execution_count": 3,
   "metadata": {},
   "outputs": [
    {
     "name": "stderr",
     "output_type": "stream",
     "text": [
      "c:\\Users\\Nick\\.conda\\envs\\python311\\Lib\\site-packages\\torch\\__init__.py:614: UserWarning: torch.set_default_tensor_type() is deprecated as of PyTorch 2.1, please use torch.set_default_dtype() and torch.set_default_device() as alternatives. (Triggered internally at C:\\cb\\pytorch_1000000000000\\work\\torch\\csrc\\tensor\\python_tensor.cpp:453.)\n",
      "  _C._set_default_tensor_type(t)\n"
     ]
    }
   ],
   "source": [
    "torch.set_default_tensor_type(torch.FloatTensor)"
   ]
  },
  {
   "cell_type": "code",
   "execution_count": 4,
   "metadata": {},
   "outputs": [
    {
     "data": {
      "text/plain": [
       "'2.1.1'"
      ]
     },
     "execution_count": 4,
     "metadata": {},
     "output_type": "execute_result"
    }
   ],
   "source": [
    "torch.__version__"
   ]
  },
  {
   "cell_type": "code",
   "execution_count": 5,
   "metadata": {},
   "outputs": [
    {
     "data": {
      "text/plain": [
       "['dist_last__1',\n",
       " 'box_last__1',\n",
       " 'speed_avg_1',\n",
       " 'split_speed_v1_1',\n",
       " 'split_speed_avg_1',\n",
       " 'split_margin_avg_1',\n",
       " 'margin_avg_1',\n",
       " 'margin_time_avg_1',\n",
       " 'RunHomeTime_1',\n",
       " 'run_home_speed_1',\n",
       " 'run_home_speed_v1_1',\n",
       " 'first_out_avg_1',\n",
       " 'pos_out_avg_1',\n",
       " 'post_change_avg_1',\n",
       " 'races_1',\n",
       " 'wins_1',\n",
       " 'wins_last_1',\n",
       " 'weight_',\n",
       " 'min_time_',\n",
       " 'min_split_time_',\n",
       " 'min_split_time_v1',\n",
       " 'last_start_price',\n",
       " 'last_start_prob']"
      ]
     },
     "execution_count": 5,
     "metadata": {},
     "output_type": "execute_result"
    }
   ],
   "source": [
    "['dist_last__1', 'box_last__1', 'speed_avg_1', 'split_speed_v1_1', 'split_speed_avg_1', 'split_margin_avg_1', 'margin_avg_1', 'margin_time_avg_1', 'RunHomeTime_1', 'run_home_speed_1', 'run_home_speed_v1_1', 'first_out_avg_1', 'pos_out_avg_1', 'post_change_avg_1', 'races_1', 'wins_1', 'wins_last_1', 'weight_', 'min_time_', 'min_split_time_', 'min_split_time_v1', 'last_start_price', 'last_start_prob']"
   ]
  },
  {
   "cell_type": "code",
   "execution_count": 6,
   "metadata": {},
   "outputs": [],
   "source": [
    "def custom_l2(output, target):\n",
    "    loss = torch.mean(abs(output-target), dim=1)\n",
    "    return loss"
   ]
  },
  {
   "cell_type": "code",
   "execution_count": 7,
   "metadata": {},
   "outputs": [],
   "source": [
    "def validation_CLE(x,y):\n",
    "    loss_t = -torch.log(torch.exp(x)/torch.sum(torch.exp(x), dim=-1, keepdim=True))*y\n",
    "    return loss_t"
   ]
  },
  {
   "cell_type": "code",
   "execution_count": 8,
   "metadata": {},
   "outputs": [],
   "source": [
    "tracks = ['Sandown Park',\n",
    " 'The Meadows',\n",
    " 'Warragul',\n",
    " 'Geelong',\n",
    " 'Sale',\n",
    " 'Ballarat',\n",
    " 'Bendigo',\n",
    " 'Cranbourne']"
   ]
  },
  {
   "cell_type": "code",
   "execution_count": 9,
   "metadata": {},
   "outputs": [
    {
     "name": "stdout",
     "output_type": "stream",
     "text": [
      "[['dist_last__1', 'box_last__1', 'speed_avg_1', 'split_speed_v1_1', 'split_speed_avg_1', 'split_margin_avg_1', 'margin_avg_1', 'margin_time_avg_1', 'RunHomeTime_1', 'run_home_speed_1', 'run_home_speed_v1_1', 'first_out_avg_1', 'pos_out_avg_1', 'post_change_avg_1', 'races_1', 'wins_1', 'wins_last_1', 'weight_', 'min_time_', 'min_split_time_', 'min_split_time_v1', 'last_start_price', 'last_start_prob']]\n",
      "(1465899, 25)\n",
      "26\n",
      "Latest date = 2023-12-11 00:00:00\n",
      "size after state filter (151844, 27)\n",
      "(151844, 27)\n",
      "Latest date = 2023-12-10 00:00:00\n",
      "num_features_per_dog=26\n"
     ]
    },
    {
     "name": "stderr",
     "output_type": "stream",
     "text": [
      "100%|██████████| 3953/3953 [01:49<00:00, 36.17it/s] \n",
      "100%|██████████| 20191/20191 [00:49<00:00, 408.98it/s]\n",
      "c:\\Users\\Nick\\Documents\\GitHub\\new_grv\\rnn_tools\\rnn_classes.py:391: UserWarning: To copy construct from a tensor, it is recommended to use sourceTensor.clone().detach() or sourceTensor.clone().detach().requires_grad_(True), rather than torch.tensor(sourceTensor).\n",
      "  r.prob = torch.tensor((1/(torch.tensor(r.start_prices)+0.0001))/((1/torch.tensor(r.start_prices)).sum()+0.0001),device=self.device)\n"
     ]
    },
    {
     "name": "stdout",
     "output_type": "stream",
     "text": [
      "number of races = 20191, number of unique dogs = 3954\n",
      "0        (Auckland, 318.0)\n",
      "1        (Auckland, 318.0)\n",
      "2        (Auckland, 527.0)\n",
      "3        (Auckland, 318.0)\n",
      "4        (Auckland, 318.0)\n",
      "               ...        \n",
      "20186    (Auckland, 318.0)\n",
      "20187    (Auckland, 318.0)\n",
      "20188    (Auckland, 318.0)\n",
      "20189    (Auckland, 318.0)\n",
      "20190    (Auckland, 527.0)\n",
      "Length: 20191, dtype: object\n"
     ]
    }
   ],
   "source": [
    "os.getcwd()\n",
    "# os.chdir(r\"C:\\Users\\Nick\\Documents\\GitHub\\grvmodel\\Python\\DATA\")\n",
    "date = datetime.datetime.strptime(\"2022-08-01\", \"%Y-%m-%d\").date()\n",
    "hidden_size = 32\n",
    "states = [\"NZ\"]\n",
    "data_file = './data/gru_inputs_simple_kitchen_sink_new.fth'\n",
    "raceDB = build_dataset(data_file, hidden_size ,state_filter=states, margin_type='boosted_sftmin',v6=True)\n",
    "raceDB.create_new_weights_v2()"
   ]
  },
  {
   "cell_type": "code",
   "execution_count": 10,
   "metadata": {},
   "outputs": [],
   "source": [
    "races = raceDB.get_race_input(range(1000,1100))"
   ]
  },
  {
   "cell_type": "code",
   "execution_count": 11,
   "metadata": {},
   "outputs": [
    {
     "data": {
      "text/plain": [
       "0.3815"
      ]
     },
     "execution_count": 11,
     "metadata": {},
     "output_type": "execute_result"
    }
   ],
   "source": [
    "sum([0.0032, 0.0006, 0.0008, 0.1890, 0.0008, 0.0022, 0.1479, 0.0370])"
   ]
  },
  {
   "cell_type": "code",
   "execution_count": 12,
   "metadata": {},
   "outputs": [],
   "source": [
    "x = [0,0,0,0,0,0,0,0]"
   ]
  },
  {
   "cell_type": "code",
   "execution_count": 13,
   "metadata": {},
   "outputs": [
    {
     "data": {
      "text/plain": [
       "tensor([10000., 10000., 10000., 10000., 10000., 10000., 10000., 10000.])"
      ]
     },
     "execution_count": 13,
     "metadata": {},
     "output_type": "execute_result"
    }
   ],
   "source": [
    "(1/(torch.tensor(x)+0.0001))"
   ]
  },
  {
   "cell_type": "code",
   "execution_count": 14,
   "metadata": {},
   "outputs": [
    {
     "data": {
      "text/plain": [
       "tensor(80000.)"
      ]
     },
     "execution_count": 14,
     "metadata": {},
     "output_type": "execute_result"
    }
   ],
   "source": [
    "(1/(torch.tensor(x)+0.0001)).sum()"
   ]
  },
  {
   "cell_type": "code",
   "execution_count": 15,
   "metadata": {},
   "outputs": [],
   "source": [
    "# r = raceDB.racesDict['500543140']\n",
    "# print(r.raceid)\n",
    "# print(r.race_dist)\n",
    "# print(r.race_date)\n",
    "# print(r.prices)\n",
    "# print(r.start_prices)\n",
    "# print(\"prop\",r.prob)\n",
    "# print(r.track_name)"
   ]
  },
  {
   "cell_type": "code",
   "execution_count": 16,
   "metadata": {},
   "outputs": [],
   "source": [
    "stat_list = ['dist_last__1', 'box_last__1', 'speed_avg_1', 'split_speed_v1_1', 'split_speed_avg_1', 'split_margin_avg_1', 'margin_avg_1', 'margin_time_avg_1', 'RunHomeTime_1', 'run_home_speed_1', 'run_home_speed_v1_1', 'first_out_avg_1', 'pos_out_avg_1', 'post_change_avg_1', 'races_1', 'wins_1', 'wins_last_1', 'weight_', 'min_time_', 'min_split_time_', 'min_split_time_v1', 'last_start_price', 'last_start_prob']\n"
   ]
  },
  {
   "cell_type": "code",
   "execution_count": 17,
   "metadata": {},
   "outputs": [],
   "source": [
    "def closure(optimizer, criterion, outs, classes):\n",
    "    optimizer.zero_grad()\n",
    "    loss = nn.functional.mse_loss(outs, classes)\n",
    "    loss.backward()\n",
    "    return loss\n",
    "\n",
    "def model_pipeline(my_dataset=raceDB,config=None,prev_model=None, sweep=True, model_state_dict=None, prev_model_file=None, prev_model_version='450'):\n",
    "    if my_dataset:\n",
    "      dataset = my_dataset    \n",
    "    else:\n",
    "      dataset = raceDB\n",
    "    # tell wandb to get started\n",
    "    with wandb.init(project=\"NEW GRU V7\", config=config,save_code=False):\n",
    "      #  access all HPs through wandb.config, so logging matches execution!\n",
    "      wandb.define_metric(\"loss_val\", summary=\"min\")\n",
    "      wandb.define_metric(\"accuracy\", summary=\"max\")\n",
    "      wandb.define_metric(\"ROI < 30\", summary=\"max\")\n",
    "      wandb.define_metric(\"relu roi\", summary=\"max\")\n",
    "      \n",
    "      config = wandb.config\n",
    "      pprint.pprint(config)\n",
    "      pprint.pprint(config.epochs)\n",
    "      print(config)\n",
    "      # input_size = raceDB.get_race_input([0,1])[0].full_input.shape[0] #create fix so messy\n",
    "      print(config.input_type)\n",
    "\n",
    "      stat_mask = [1,1,1]\n",
    "      for stat in stat_list:\n",
    "\n",
    "          stat_flag = config[stat]\n",
    "\n",
    "          stat_mask = stat_mask+[stat_flag]\n",
    "\n",
    "      print(stat_mask)\n",
    "      stat_mask = torch.tensor(stat_mask).type(torch.bool).to(device)\n",
    "\n",
    "      print(stat_mask)\n",
    "      print(stat_mask.shape)\n",
    "\n",
    "      if 'batch_days' in config.keys():\n",
    "        raceDB.create_test_split_date(config['training_date_end'])\n",
    "        raceDB.create_dogs_test_split_date()\n",
    "        raceDB.attach_races_to_dog_inputv2() \n",
    "        raceDB.reset_hidden()\n",
    "        raceDB.create_batches(batch_days=config['batch_days'], end_date = config['training_date_end'], stat_mask=stat_mask)\n",
    "\n",
    "      if config['input_type'] == 'basic':\n",
    "          print('here')\n",
    "          raceDB.batches['packed_x'] = raceDB.batches['packed_x_basic']\n",
    "          raceDB.batches['packed_y'] = raceDB.batches['packed_y_basic']\n",
    "          raceDB.batches['packed_v'] = raceDB.batches['packed_v_basic']\n",
    "          input_size = raceDB.batches['packed_x'][0].data[0].shape[0]\n",
    "\n",
    "      for race in raceDB.racesDict.values():\n",
    "          for dog_input in race.dogs:\n",
    "            dog_input.stats_masked = dog_input.stats.masked_select(stat_mask) \n",
    "\n",
    "\n",
    "      print(f\"{input_size=}\")\n",
    "\n",
    "\n",
    "\n",
    "      config['stat_mask_tensor'] = torch.tensor(stat_mask, dtype=torch.uint8).to(device)     \n",
    "    \n",
    "\n",
    "      \n",
    "\n",
    "\n",
    "      raceDB.reset_hidden(num_layers=config['num_layers'], hidden_size=config['hidden_size'])\n",
    "      model = rnn_classes.LSTMNetv3_BN_double(input_size,config['hidden_size'], num_layers=config['num_layers'],fc0_size=config['f0_layer_size'], fc1_size=config['f1_layer_size'])\n",
    "      \n",
    "      if model_state_dict:\n",
    "        model.load_state_dict(model_state_dict)\n",
    "      if prev_model_file!=None:\n",
    "        print(f\"Loading model {prev_model_file}, version {prev_model_version}\")\n",
    "        model_name = prev_model_file\n",
    "        model_loc = f\"C:/Users/Nick/Documents/GitHub/grvmodel/Python/pytorch/New Model/savedmodel/{model_name}/{model_name}_{prev_model_version}.pt\"\n",
    "        model_data = torch.load(model_loc,map_location=torch.device('cuda:0'))\n",
    "        print(model_data['model_state_dict'].keys())\n",
    "        # del_keys = ['gru.weight_ih_l0', 'gru.weight_hh_l0', 'gru.bias_ih_l0', 'gru.bias_hh_l0','layer_norm.weight', 'layer_norm.bias']\n",
    "        # [model_data['model_state_dict'].pop(k) for k in del_keys]\n",
    "        model.load_state_dict(model_data['model_state_dict'], strict=False)\n",
    "        config['parent model'] = prev_model_file\n",
    "        model = model.to(device)\n",
    "        optimizer = optim.RAdam(model.parameters(), lr=config['learning_rate'])\n",
    "        optimizer.load_state_dict(model_data['optim'])\n",
    "        # optimizer.to(device)\n",
    "      else:\n",
    "        optimizer = optim.RAdam(model.parameters(), lr=config['learning_rate'])\n",
    "\n",
    "      raceDB.to_cuda()\n",
    "      scheduler = torch.optim.lr_scheduler.ReduceLROnPlateau(optimizer, 'min')\n",
    "\n",
    "      criterion = nn.CrossEntropyLoss(reduction='none')\n",
    "\n",
    "      model = model.to(device)\n",
    "      print(model)\n",
    "\n",
    "      # and use them to train the model\n",
    "      wandb.watch(model, log='all')\n",
    "      try:\n",
    "        # train_double_loss_regular(model, dataset, criterion, optimizer, scheduler, config, crit2=custom_l2)\n",
    "        training_testing_lstm.train_double_v3(model, dataset, criterion, optimizer, 'na', config)\n",
    "      except (KeyboardInterrupt) as error:\n",
    "        print(error)\n",
    "        print(\"finished Early\")\n",
    "        \n",
    "      # dataset.create_hidden_states_dict()\n",
    "      raceDB.create_hidden_states_dict_v2()\n",
    "      model_saver_wandb(model, optimizer, 450, 0.1, raceDB.hidden_states_dict_gru_v6,raceDB.train_hidden_dict , model_name=\"long nsw new  22000 RUN\")\n",
    "      if sweep:\n",
    "        # raceDB.reset_all_lstm_states\n",
    "        raceDB.reset_hidden()\n",
    "    \n",
    "\n",
    "\n",
    "    # and test its final performance\n",
    "    #test(model, test_loader)\n",
    "\n",
    "    return (model,dataset, optimizer)"
   ]
  },
  {
   "cell_type": "code",
   "execution_count": 18,
   "metadata": {},
   "outputs": [],
   "source": [
    "len(raceDB.raceIDs)\n",
    "wandb_config_static = {'hidden_size':128,\n",
    "                        'stats':raceDB.stats_cols,\n",
    "                        'races':states,\n",
    "                        'datafile':data_file,\n",
    "                        'latest_date':raceDB.latest_date,\n",
    "                        'input_type':'basic',\n",
    "                        'num_layers':2,\n",
    "                        'batch_size': 750,\n",
    "                        'dropout': 0.3,\n",
    "                        'epochs': 500,\n",
    "                        'learning_rate': 0.0001,\n",
    "                        'optimizer': 'adamW',\n",
    "                        'f0_layer_size':128,\n",
    "                        'f1_layer_size':64,\n",
    "                        'training_date_end':'2021-11-30',\n",
    "                        'batch_days':365,\n",
    "                        'dist_last__1': 1,#\n",
    "                        'box_last__1':1,#\n",
    "                        'speed_avg_1':1,#\n",
    "                        'split_speed_v1_1':1,#\n",
    "                        'split_speed_avg_1':0,\n",
    "                        'split_margin_avg_1':0,\n",
    "                        'margin_avg_1':0,\n",
    "                        'margin_time_avg_1':1,#\n",
    "                        'RunHomeTime_1':0,\n",
    "                        'run_home_speed_1':0,\n",
    "                        'run_home_speed_v1_1':0,\n",
    "                        'first_out_avg_1':0,\n",
    "                        'pos_out_avg_1':1,#\n",
    "                        'post_change_avg_1':1,#\n",
    "                        'races_1':0,\n",
    "                        'wins_1':0,\n",
    "                        'wins_last_1':1,#\n",
    "                        'weight_':1,#\n",
    "                        'min_time_':0,\n",
    "                        'min_split_time_':0, \n",
    "                        'min_split_time_v1':1,#\n",
    "                        'last_start_price':1, #\n",
    "                        'last_start_prob':0,\n",
    "            }"
   ]
  },
  {
   "cell_type": "code",
   "execution_count": 19,
   "metadata": {},
   "outputs": [],
   "source": [
    "wandb_config_static =  {'hidden_size':128,\n",
    "                        'stats':raceDB.stats_cols,\n",
    "                        'races':states,\n",
    "                        'datafile':data_file,\n",
    "                        'latest_date':raceDB.latest_date,\n",
    "                        'input_type':'basic',\n",
    "                        'num_layers':2,\n",
    "                        'batch_size': 750,\n",
    "                        'dropout': 0.3,\n",
    "                        'epochs': 5000,\n",
    "                        'learning_rate': 0.0002,\n",
    "                        'optimizer': 'adamW',\n",
    "                        'f0_layer_size':128,\n",
    "                        'f1_layer_size':64,\n",
    "                        'training_date_end':'2022-11-30',\n",
    "                        'batch_days':365,\n",
    "                        'dist_last__1': 1,#\n",
    "                        'box_last__1':1,#\n",
    "                        'speed_avg_1':1,#\n",
    "                        'split_speed_v1_1':1,#\n",
    "                        'split_speed_avg_1':0,#\n",
    "                        'split_margin_avg_1':1,\n",
    "                        'margin_avg_1':1,#\n",
    "                        'margin_time_avg_1':0,#\n",
    "                        'RunHomeTime_1':0,\n",
    "                        'run_home_speed_1':0,\n",
    "                        'run_home_speed_v1_1':0,\n",
    "                        'first_out_avg_1':1,#\n",
    "                        'pos_out_avg_1':0,#\n",
    "                        'post_change_avg_1':1,#\n",
    "                        'races_1':1,\n",
    "                        'wins_1':1,\n",
    "                        'wins_last_1':0,\n",
    "                        'weight_':1,#\n",
    "                        'min_time_':1,#\n",
    "                        'min_split_time_':0, \n",
    "                        'min_split_time_v1':1,#\n",
    "                        'last_start_price':0, #\n",
    "                        'last_start_prob':0,\n",
    "            }"
   ]
  },
  {
   "cell_type": "markdown",
   "metadata": {},
   "source": []
  },
  {
   "cell_type": "code",
   "execution_count": 31,
   "metadata": {},
   "outputs": [
    {
     "name": "stdout",
     "output_type": "stream",
     "text": [
      "c:\\Users\\Nick\\Documents\\GitHub\\new_grv\n"
     ]
    },
    {
     "data": {
      "text/plain": [
       "<module 'rnn_tools.rnn_classes' from 'c:\\\\Users\\\\Nick\\\\Documents\\\\GitHub\\\\new_grv\\\\rnn_tools\\\\rnn_classes.py'>"
      ]
     },
     "execution_count": 31,
     "metadata": {},
     "output_type": "execute_result"
    }
   ],
   "source": [
    "importlib.reload(training_testing_gru)\n",
    "importlib.reload(training_testing_lstm)\n",
    "importlib.reload(training_testing_gru_double)\n",
    "importlib.reload(rnn_classes)"
   ]
  },
  {
   "cell_type": "code",
   "execution_count": 21,
   "metadata": {},
   "outputs": [],
   "source": [
    "raceDB.reset_hidden(num_layers=wandb_config_static['num_layers'], hidden_size=wandb_config_static['hidden_size'])"
   ]
  },
  {
   "cell_type": "code",
   "execution_count": 22,
   "metadata": {},
   "outputs": [],
   "source": [
    "torch.cuda.empty_cache()"
   ]
  },
  {
   "cell_type": "code",
   "execution_count": 23,
   "metadata": {},
   "outputs": [],
   "source": [
    "raceDB.race_prices_to_prob()"
   ]
  },
  {
   "cell_type": "code",
   "execution_count": 24,
   "metadata": {},
   "outputs": [],
   "source": [
    "for dog in raceDB.dogsDict.values():\n",
    "    dog.cell_test = torch.zeros(2,128).to(device)"
   ]
  },
  {
   "cell_type": "code",
   "execution_count": 25,
   "metadata": {},
   "outputs": [
    {
     "ename": "AttributeError",
     "evalue": "'Races' object has no attribute 'batches'",
     "output_type": "error",
     "traceback": [
      "\u001b[1;31m---------------------------------------------------------------------------\u001b[0m",
      "\u001b[1;31mAttributeError\u001b[0m                            Traceback (most recent call last)",
      "Cell \u001b[1;32mIn[25], line 1\u001b[0m\n\u001b[1;32m----> 1\u001b[0m batch_races \u001b[38;5;241m=\u001b[39m X \u001b[38;5;241m=\u001b[39m \u001b[43mraceDB\u001b[49m\u001b[38;5;241;43m.\u001b[39;49m\u001b[43mbatches\u001b[49m[\u001b[38;5;124m'\u001b[39m\u001b[38;5;124mpacked_x\u001b[39m\u001b[38;5;124m'\u001b[39m][\u001b[38;5;241m0\u001b[39m]\n",
      "\u001b[1;31mAttributeError\u001b[0m: 'Races' object has no attribute 'batches'"
     ]
    }
   ],
   "source": [
    "batch_races = X = raceDB.batches['packed_x'][0]"
   ]
  },
  {
   "cell_type": "code",
   "execution_count": 32,
   "metadata": {},
   "outputs": [
    {
     "data": {
      "text/html": [
       "wandb version 0.16.1 is available!  To upgrade, please run:\n",
       " $ pip install wandb --upgrade"
      ],
      "text/plain": [
       "<IPython.core.display.HTML object>"
      ]
     },
     "metadata": {},
     "output_type": "display_data"
    },
    {
     "data": {
      "text/html": [
       "Tracking run with wandb version 0.15.11"
      ],
      "text/plain": [
       "<IPython.core.display.HTML object>"
      ]
     },
     "metadata": {},
     "output_type": "display_data"
    },
    {
     "data": {
      "text/html": [
       "Run data is saved locally in <code>c:\\Users\\Nick\\Documents\\GitHub\\new_grv\\wandb\\run-20240104_152900-x6cqe1xq</code>"
      ],
      "text/plain": [
       "<IPython.core.display.HTML object>"
      ]
     },
     "metadata": {},
     "output_type": "display_data"
    },
    {
     "data": {
      "text/html": [
       "Syncing run <strong><a href='https://wandb.ai/nickojelly/NEW%20GRU%20V7/runs/x6cqe1xq' target=\"_blank\">sunny-plasma-174</a></strong> to <a href='https://wandb.ai/nickojelly/NEW%20GRU%20V7' target=\"_blank\">Weights & Biases</a> (<a href='https://wandb.me/run' target=\"_blank\">docs</a>)<br/>"
      ],
      "text/plain": [
       "<IPython.core.display.HTML object>"
      ]
     },
     "metadata": {},
     "output_type": "display_data"
    },
    {
     "data": {
      "text/html": [
       " View project at <a href='https://wandb.ai/nickojelly/NEW%20GRU%20V7' target=\"_blank\">https://wandb.ai/nickojelly/NEW%20GRU%20V7</a>"
      ],
      "text/plain": [
       "<IPython.core.display.HTML object>"
      ]
     },
     "metadata": {},
     "output_type": "display_data"
    },
    {
     "data": {
      "text/html": [
       " View run at <a href='https://wandb.ai/nickojelly/NEW%20GRU%20V7/runs/x6cqe1xq' target=\"_blank\">https://wandb.ai/nickojelly/NEW%20GRU%20V7/runs/x6cqe1xq</a>"
      ],
      "text/plain": [
       "<IPython.core.display.HTML object>"
      ]
     },
     "metadata": {},
     "output_type": "display_data"
    },
    {
     "name": "stdout",
     "output_type": "stream",
     "text": [
      "{'hidden_size': 128, 'stats': \"[['dist_last__1', 'box_last__1', 'speed_avg_1', 'split_speed_v1_1', 'split_speed_avg_1', 'split_margin_avg_1', 'margin_avg_1', 'margin_time_avg_1', 'RunHomeTime_1', 'run_home_speed_1', 'run_home_speed_v1_1', 'first_out_avg_1', 'pos_out_avg_1', 'post_change_avg_1', 'races_1', 'wins_1', 'wins_last_1', 'weight_', 'min_time_', 'min_split_time_', 'min_split_time_v1', 'last_start_price', 'last_start_prob']]\", 'races': ['NZ'], 'datafile': './data/gru_inputs_simple_kitchen_sink_new.fth', 'latest_date': '2023-12-10T00:00:00', 'input_type': 'basic', 'num_layers': 2, 'batch_size': 750, 'dropout': 0.3, 'epochs': 5000, 'learning_rate': 0.0002, 'optimizer': 'adamW', 'f0_layer_size': 128, 'f1_layer_size': 64, 'training_date_end': '2022-11-30', 'batch_days': 365, 'dist_last__1': 1, 'box_last__1': 1, 'speed_avg_1': 1, 'split_speed_v1_1': 1, 'split_speed_avg_1': 0, 'split_margin_avg_1': 1, 'margin_avg_1': 1, 'margin_time_avg_1': 0, 'RunHomeTime_1': 0, 'run_home_speed_1': 0, 'run_home_speed_v1_1': 0, 'first_out_avg_1': 1, 'pos_out_avg_1': 0, 'post_change_avg_1': 1, 'races_1': 1, 'wins_1': 1, 'wins_last_1': 0, 'weight_': 1, 'min_time_': 1, 'min_split_time_': 0, 'min_split_time_v1': 1, 'last_start_price': 0, 'last_start_prob': 0}\n",
      "5000\n",
      "{'hidden_size': 128, 'stats': \"[['dist_last__1', 'box_last__1', 'speed_avg_1', 'split_speed_v1_1', 'split_speed_avg_1', 'split_margin_avg_1', 'margin_avg_1', 'margin_time_avg_1', 'RunHomeTime_1', 'run_home_speed_1', 'run_home_speed_v1_1', 'first_out_avg_1', 'pos_out_avg_1', 'post_change_avg_1', 'races_1', 'wins_1', 'wins_last_1', 'weight_', 'min_time_', 'min_split_time_', 'min_split_time_v1', 'last_start_price', 'last_start_prob']]\", 'races': ['NZ'], 'datafile': './data/gru_inputs_simple_kitchen_sink_new.fth', 'latest_date': '2023-12-10T00:00:00', 'input_type': 'basic', 'num_layers': 2, 'batch_size': 750, 'dropout': 0.3, 'epochs': 5000, 'learning_rate': 0.0002, 'optimizer': 'adamW', 'f0_layer_size': 128, 'f1_layer_size': 64, 'training_date_end': '2022-11-30', 'batch_days': 365, 'dist_last__1': 1, 'box_last__1': 1, 'speed_avg_1': 1, 'split_speed_v1_1': 1, 'split_speed_avg_1': 0, 'split_margin_avg_1': 1, 'margin_avg_1': 1, 'margin_time_avg_1': 0, 'RunHomeTime_1': 0, 'run_home_speed_1': 0, 'run_home_speed_v1_1': 0, 'first_out_avg_1': 1, 'pos_out_avg_1': 0, 'post_change_avg_1': 1, 'races_1': 1, 'wins_1': 1, 'wins_last_1': 0, 'weight_': 1, 'min_time_': 1, 'min_split_time_': 0, 'min_split_time_v1': 1, 'last_start_price': 0, 'last_start_prob': 0}\n",
      "basic\n",
      "[1, 1, 1, 1, 1, 1, 1, 0, 1, 1, 0, 0, 0, 0, 1, 0, 1, 1, 1, 0, 1, 1, 0, 1, 0, 0]\n",
      "tensor([ True,  True,  True,  True,  True,  True,  True, False,  True,  True,\n",
      "        False, False, False, False,  True, False,  True,  True,  True, False,\n",
      "         True,  True, False,  True, False, False], device='cuda:0')\n",
      "torch.Size([26])\n",
      "Train examples 15145, Test examples 2871, Val examples 2175\n"
     ]
    },
    {
     "name": "stderr",
     "output_type": "stream",
     "text": [
      "100%|██████████| 3953/3953 [00:00<00:00, 28934.82it/s]\n",
      "100%|██████████| 3954/3954 [00:04<00:00, 918.64it/s] \n"
     ]
    },
    {
     "name": "stdout",
     "output_type": "stream",
     "text": [
      "[(datetime.date(2019, 12, 1), datetime.date(2020, 11, 30)), (datetime.date(2020, 11, 30), datetime.date(2021, 11, 30)), (datetime.date(2021, 11, 30), datetime.date(2022, 11, 29))]\n",
      "2020-11-30\n",
      "2021-11-30\n",
      "2022-11-29\n",
      "Train examples [5094, 5162, 4879]\n"
     ]
    },
    {
     "name": "stderr",
     "output_type": "stream",
     "text": [
      "100%|██████████| 3953/3953 [00:03<00:00, 1096.20it/s]\n",
      "100%|██████████| 3953/3953 [00:05<00:00, 700.78it/s] \n",
      "100%|██████████| 3953/3953 [00:03<00:00, 1205.98it/s]\n",
      "100%|██████████| 3/3 [00:12<00:00,  4.18s/it]\n"
     ]
    },
    {
     "name": "stdout",
     "output_type": "stream",
     "text": [
      "Train examples [1947, 1877, 1792]\n",
      "Train examples [1947, 1877, 1792]\n",
      "Train examples [5094, 5162, 4879]\n",
      "Train examples [5094, 5162, 4879]\n",
      "here\n",
      "input_size=16\n"
     ]
    },
    {
     "name": "stderr",
     "output_type": "stream",
     "text": [
      "C:\\Users\\Nick\\AppData\\Local\\Temp\\ipykernel_60604\\2435528409.py:63: UserWarning: To copy construct from a tensor, it is recommended to use sourceTensor.clone().detach() or sourceTensor.clone().detach().requires_grad_(True), rather than torch.tensor(sourceTensor).\n",
      "  config['stat_mask_tensor'] = torch.tensor(stat_mask, dtype=torch.uint8).to(device)\n"
     ]
    },
    {
     "name": "stdout",
     "output_type": "stream",
     "text": [
      "LSTMNetv3_BN_double(\n",
      "  (gru): LSTM(16, 128, num_layers=2, dropout=0.3)\n",
      "  (relu): ReLU()\n",
      "  (drop): Dropout(p=0.3, inplace=False)\n",
      "  (fc0): Linear(in_features=1094, out_features=1094, bias=True)\n",
      "  (layer_norm): BatchNorm1d(16, eps=1e-05, momentum=0.1, affine=True, track_running_stats=True)\n",
      "  (batch_norm0): BatchNorm1d(16, eps=1e-05, momentum=0.1, affine=True, track_running_stats=True)\n",
      "  (fc_lstm0): Linear(in_features=144, out_features=256, bias=True)\n",
      "  (fc_lstm1): Linear(in_features=256, out_features=512, bias=True)\n",
      "  (fc_lstm2): Linear(in_features=512, out_features=128, bias=True)\n",
      "  (batch_norm): BatchNorm1d(1094, eps=1e-05, momentum=0.1, affine=True, track_running_stats=True)\n",
      "  (fc1): Linear(in_features=1094, out_features=128, bias=True)\n",
      "  (fc2): Linear(in_features=128, out_features=64, bias=True)\n",
      "  (fc3): Linear(in_features=64, out_features=8, bias=True)\n",
      "  (price_fc2): Linear(in_features=128, out_features=64, bias=True)\n",
      "  (price_fc3): Linear(in_features=64, out_features=8, bias=True)\n",
      "  (output_fn): Identity()\n",
      ")\n"
     ]
    },
    {
     "name": "stderr",
     "output_type": "stream",
     "text": [
      "  0%|          | 0/5000 [00:00<?, ?it/s]"
     ]
    },
    {
     "name": "stdout",
     "output_type": "stream",
     "text": [
      "val_idx=range(0, 1335), len_test=1335\n",
      "created path\n"
     ]
    },
    {
     "name": "stderr",
     "output_type": "stream",
     "text": [
      "  0%|          | 2/5000 [00:46<29:33:05, 21.29s/it]"
     ]
    }
   ],
   "source": [
    "WANDB_MODE='offline'\n",
    "(model,dataset, optimizer) = model_pipeline(raceDB,config=wandb_config_static,sweep=False)"
   ]
  },
  {
   "cell_type": "code",
   "execution_count": 45,
   "metadata": {},
   "outputs": [
    {
     "data": {
      "text/plain": [
       "1094"
      ]
     },
     "execution_count": 45,
     "metadata": {},
     "output_type": "execute_result"
    }
   ],
   "source": [
    "128*8+70"
   ]
  },
  {
   "cell_type": "code",
   "execution_count": null,
   "metadata": {},
   "outputs": [],
   "source": []
  },
  {
   "cell_type": "code",
   "execution_count": null,
   "metadata": {},
   "outputs": [],
   "source": [
    "criterion = nn.CrossEntropyLoss(reduction='none')"
   ]
  },
  {
   "cell_type": "code",
   "execution_count": null,
   "metadata": {},
   "outputs": [
    {
     "name": "stdout",
     "output_type": "stream",
     "text": [
      "You must call wandb.init() before wandb.log()\n"
     ]
    },
    {
     "ename": "Error",
     "evalue": "You must call wandb.init() before wandb.log()",
     "output_type": "error",
     "traceback": [
      "\u001b[1;31m---------------------------------------------------------------------------\u001b[0m",
      "\u001b[1;31mError\u001b[0m                                     Traceback (most recent call last)",
      "Cell \u001b[1;32mIn[31], line 1\u001b[0m\n\u001b[1;32m----> 1\u001b[0m \u001b[43mtraining_testing_gru_double\u001b[49m\u001b[38;5;241;43m.\u001b[39;49m\u001b[43mtest_model_v3\u001b[49m\u001b[43m(\u001b[49m\u001b[43mmodel\u001b[49m\u001b[43m,\u001b[49m\u001b[43mraceDB\u001b[49m\u001b[43m,\u001b[49m\u001b[43mcriterion\u001b[49m\u001b[43m)\u001b[49m\n",
      "File \u001b[1;32mc:\\Users\\Nick\\.conda\\envs\\python311\\Lib\\site-packages\\torch\\utils\\_contextlib.py:115\u001b[0m, in \u001b[0;36mcontext_decorator.<locals>.decorate_context\u001b[1;34m(*args, **kwargs)\u001b[0m\n\u001b[0;32m    112\u001b[0m \u001b[38;5;129m@functools\u001b[39m\u001b[38;5;241m.\u001b[39mwraps(func)\n\u001b[0;32m    113\u001b[0m \u001b[38;5;28;01mdef\u001b[39;00m \u001b[38;5;21mdecorate_context\u001b[39m(\u001b[38;5;241m*\u001b[39margs, \u001b[38;5;241m*\u001b[39m\u001b[38;5;241m*\u001b[39mkwargs):\n\u001b[0;32m    114\u001b[0m     \u001b[38;5;28;01mwith\u001b[39;00m ctx_factory():\n\u001b[1;32m--> 115\u001b[0m         \u001b[38;5;28;01mreturn\u001b[39;00m \u001b[43mfunc\u001b[49m\u001b[43m(\u001b[49m\u001b[38;5;241;43m*\u001b[39;49m\u001b[43margs\u001b[49m\u001b[43m,\u001b[49m\u001b[43m \u001b[49m\u001b[38;5;241;43m*\u001b[39;49m\u001b[38;5;241;43m*\u001b[39;49m\u001b[43mkwargs\u001b[49m\u001b[43m)\u001b[49m\n",
      "File \u001b[1;32mc:\\Users\\Nick\\Documents\\GitHub\\new_grv\\rnn_tools\\training_testing_gru_double.py:496\u001b[0m, in \u001b[0;36mtest_model_v3\u001b[1;34m(model, raceDB, criterion, batch_size, epoch, config, device)\u001b[0m\n\u001b[0;32m    494\u001b[0m \u001b[38;5;28;01mexcept\u001b[39;00m \u001b[38;5;167;01mException\u001b[39;00m \u001b[38;5;28;01mas\u001b[39;00m e:\n\u001b[0;32m    495\u001b[0m     \u001b[38;5;28mprint\u001b[39m(e)\n\u001b[1;32m--> 496\u001b[0m \u001b[43mwandb\u001b[49m\u001b[38;5;241;43m.\u001b[39;49m\u001b[43mlog\u001b[49m\u001b[43m(\u001b[49m\u001b[43mstats_dict\u001b[49m\u001b[43m)\u001b[49m\n\u001b[0;32m    498\u001b[0m flat_track_df\u001b[38;5;241m.\u001b[39mto_csv(\u001b[38;5;124mf\u001b[39m\u001b[38;5;124m'\u001b[39m\u001b[38;5;124m./model_all_price/\u001b[39m\u001b[38;5;132;01m{\u001b[39;00mwandb\u001b[38;5;241m.\u001b[39mrun\u001b[38;5;241m.\u001b[39mname\u001b[38;5;132;01m}\u001b[39;00m\u001b[38;5;124m - flat_df.csv\u001b[39m\u001b[38;5;124m'\u001b[39m)\n\u001b[0;32m    500\u001b[0m \u001b[38;5;28;01mif\u001b[39;00m epoch\u001b[38;5;241m%\u001b[39m\u001b[38;5;241m100\u001b[39m\u001b[38;5;241m==\u001b[39m\u001b[38;5;241m0\u001b[39m:\n",
      "File \u001b[1;32mc:\\Users\\Nick\\.conda\\envs\\python311\\Lib\\site-packages\\wandb\\sdk\\lib\\preinit.py:36\u001b[0m, in \u001b[0;36mPreInitCallable.<locals>.preinit_wrapper\u001b[1;34m(*args, **kwargs)\u001b[0m\n\u001b[0;32m     35\u001b[0m \u001b[38;5;28;01mdef\u001b[39;00m \u001b[38;5;21mpreinit_wrapper\u001b[39m(\u001b[38;5;241m*\u001b[39margs: Any, \u001b[38;5;241m*\u001b[39m\u001b[38;5;241m*\u001b[39mkwargs: Any) \u001b[38;5;241m-\u001b[39m\u001b[38;5;241m>\u001b[39m Any:\n\u001b[1;32m---> 36\u001b[0m     \u001b[38;5;28;01mraise\u001b[39;00m wandb\u001b[38;5;241m.\u001b[39mError(\u001b[38;5;124mf\u001b[39m\u001b[38;5;124m\"\u001b[39m\u001b[38;5;124mYou must call wandb.init() before \u001b[39m\u001b[38;5;132;01m{\u001b[39;00mname\u001b[38;5;132;01m}\u001b[39;00m\u001b[38;5;124m()\u001b[39m\u001b[38;5;124m\"\u001b[39m)\n",
      "\u001b[1;31mError\u001b[0m: You must call wandb.init() before wandb.log()"
     ]
    }
   ],
   "source": [
    "training_testing_gru_double.test_model_v3(model,raceDB,criterion)"
   ]
  },
  {
   "cell_type": "code",
   "execution_count": null,
   "metadata": {},
   "outputs": [
    {
     "name": "stdout",
     "output_type": "stream",
     "text": [
      "{'method': 'grid',\n",
      " 'metric': {'goal': 'maximize', 'name': 'ROI < 30'},\n",
      " 'parameters': {'RunHomeTime_1': {'values': [0, 1]},\n",
      "                'batch_days': {'values': [90, 180, 365, 550, 10000]},\n",
      "                'batch_size': {'value': 10},\n",
      "                'box_last__1': {'values': [0, 1]},\n",
      "                'dist_last__1': {'values': [0, 1]},\n",
      "                'dropout': {'values': [0.3]},\n",
      "                'epochs': {'values': [500]},\n",
      "                'f0_layer_size': {'values': [128]},\n",
      "                'f1_layer_size': {'values': [64]},\n",
      "                'first_out_avg_1': {'values': [0, 1]},\n",
      "                'hidden_size': {'values': [128]},\n",
      "                'input_type': {'values': ['basic']},\n",
      "                'label_smoothing': {'values': [0.01, 0.0]},\n",
      "                'last_start_price': {'values': [0, 1]},\n",
      "                'last_start_prob': {'values': [0, 1]},\n",
      "                'learning_rate': {'values': [0.0003, 0.0001]},\n",
      "                'len_data': {'value': 19151},\n",
      "                'loss': {'values': ['CEL']},\n",
      "                'margin_avg_1': {'values': [0, 1]},\n",
      "                'margin_time_avg_1': {'values': [0, 1]},\n",
      "                'min_split_time_': {'values': [0, 1]},\n",
      "                'min_split_time_v1': {'values': [0, 1]},\n",
      "                'min_time_': {'values': [0, 1]},\n",
      "                'num_layers': {'values': [2]},\n",
      "                'optimizer': {'value': 'adamW'},\n",
      "                'pos_out_avg_1': {'values': [0, 1]},\n",
      "                'post_change_avg_1': {'values': [0, 1]},\n",
      "                'races': {'value': ['NZ']},\n",
      "                'races_1': {'values': [0, 1]},\n",
      "                'run_home_speed_1': {'values': [0, 1]},\n",
      "                'run_home_speed_v1_1': {'values': [0, 1]},\n",
      "                'speed_avg_1': {'values': [0, 1]},\n",
      "                'split_margin_avg_1': {'values': [0, 1]},\n",
      "                'split_speed_avg_1': {'values': [0, 1]},\n",
      "                'split_speed_v1_1': {'values': [0, 1]},\n",
      "                'stats': {'value': \"[['dist_last__1', 'box_last__1', \"\n",
      "                                   \"'speed_avg_1', 'split_speed_v1_1', \"\n",
      "                                   \"'split_speed_avg_1', 'split_margin_avg_1', \"\n",
      "                                   \"'margin_avg_1', 'margin_time_avg_1', \"\n",
      "                                   \"'RunHomeTime_1', 'run_home_speed_1', \"\n",
      "                                   \"'run_home_speed_v1_1', 'first_out_avg_1', \"\n",
      "                                   \"'pos_out_avg_1', 'post_change_avg_1', \"\n",
      "                                   \"'races_1', 'wins_1', 'wins_last_1', \"\n",
      "                                   \"'weight_', 'min_time_', 'min_split_time_', \"\n",
      "                                   \"'min_split_time_v1', 'last_start_price', \"\n",
      "                                   \"'last_start_prob']]\"},\n",
      "                'training_date_end': {'values': ['2023-04-30',\n",
      "                                                 '2023-02-28',\n",
      "                                                 '2022-11-30',\n",
      "                                                 '2021-11-30']},\n",
      "                'validation_split': {'value': 0.1},\n",
      "                'weight_': {'values': [0, 1]},\n",
      "                'wins_1': {'values': [0, 1]},\n",
      "                'wins_last_1': {'values': [0, 1]}}}\n"
     ]
    },
    {
     "data": {
      "text/plain": [
       "{'method': 'grid',\n",
       " 'metric': {'name': 'ROI < 30', 'goal': 'maximize'},\n",
       " 'parameters': {'optimizer': {'value': 'adamW'},\n",
       "  'batch_days': {'values': [90, 180, 365, 550, 10000]},\n",
       "  'f0_layer_size': {'values': [128]},\n",
       "  'f1_layer_size': {'values': [64]},\n",
       "  'dropout': {'values': [0.3]},\n",
       "  'input_type': {'values': ['basic']},\n",
       "  'num_layers': {'values': [2]},\n",
       "  'hidden_size': {'values': [128]},\n",
       "  'len_data': {'value': 19151},\n",
       "  'stats': {'value': \"[['dist_last__1', 'box_last__1', 'speed_avg_1', 'split_speed_v1_1', 'split_speed_avg_1', 'split_margin_avg_1', 'margin_avg_1', 'margin_time_avg_1', 'RunHomeTime_1', 'run_home_speed_1', 'run_home_speed_v1_1', 'first_out_avg_1', 'pos_out_avg_1', 'post_change_avg_1', 'races_1', 'wins_1', 'wins_last_1', 'weight_', 'min_time_', 'min_split_time_', 'min_split_time_v1', 'last_start_price', 'last_start_prob']]\"},\n",
       "  'races': {'value': ['NZ']},\n",
       "  'batch_size': {'value': 10},\n",
       "  'epochs': {'values': [500]},\n",
       "  'validation_split': {'value': 0.1},\n",
       "  'training_date_end': {'values': ['2023-04-30',\n",
       "    '2023-02-28',\n",
       "    '2022-11-30',\n",
       "    '2021-11-30']},\n",
       "  'learning_rate': {'values': [0.0003, 0.0001]},\n",
       "  'label_smoothing': {'values': [0.01, 0.0]},\n",
       "  'loss': {'values': ['CEL']},\n",
       "  'dist_last__1': {'values': [0, 1]},\n",
       "  'box_last__1': {'values': [0, 1]},\n",
       "  'speed_avg_1': {'values': [0, 1]},\n",
       "  'split_speed_v1_1': {'values': [0, 1]},\n",
       "  'split_speed_avg_1': {'values': [0, 1]},\n",
       "  'split_margin_avg_1': {'values': [0, 1]},\n",
       "  'margin_avg_1': {'values': [0, 1]},\n",
       "  'margin_time_avg_1': {'values': [0, 1]},\n",
       "  'RunHomeTime_1': {'values': [0, 1]},\n",
       "  'run_home_speed_1': {'values': [0, 1]},\n",
       "  'run_home_speed_v1_1': {'values': [0, 1]},\n",
       "  'first_out_avg_1': {'values': [0, 1]},\n",
       "  'pos_out_avg_1': {'values': [0, 1]},\n",
       "  'post_change_avg_1': {'values': [0, 1]},\n",
       "  'races_1': {'values': [0, 1]},\n",
       "  'wins_1': {'values': [0, 1]},\n",
       "  'wins_last_1': {'values': [0, 1]},\n",
       "  'weight_': {'values': [0, 1]},\n",
       "  'min_time_': {'values': [0, 1]},\n",
       "  'min_split_time_': {'values': [0, 1]},\n",
       "  'min_split_time_v1': {'values': [0, 1]},\n",
       "  'last_start_price': {'values': [0, 1]},\n",
       "  'last_start_prob': {'values': [0, 1]}}}"
      ]
     },
     "execution_count": 13,
     "metadata": {},
     "output_type": "execute_result"
    }
   ],
   "source": [
    "sweep_config = {\"method\": \"grid\"}\n",
    "\n",
    "metric = {\"name\": \"ROI < 30\", \"goal\": \"maximize\"}\n",
    "\n",
    "sweep_config[\"metric\"] = metric\n",
    "\n",
    "\n",
    "parameters_dict = {\n",
    "    \"optimizer\": {\"value\": \"adamW\"},\n",
    "    \"batch_days\": {\"values\": [90,180,365,550,10000]},\n",
    "    \"f0_layer_size\": {\"values\": [128]},\n",
    "    \"f1_layer_size\": {\"values\": [64]},\n",
    "    \"dropout\": {\"values\": [0.3]},\n",
    "    \"input_type\": {\"values\": ['basic']},\n",
    "    \"num_layers\": {\"values\": [2]},\n",
    "    'hidden_size':{'values':[128]},\n",
    "    \"len_data\": {\"value\": len(raceDB.raceIDs)},\n",
    "    \"stats\":{\"value\": raceDB.stats_cols},\n",
    "    \"races\":{\"value\": states},\n",
    "    \"batch_size\":{\"value\": 10},\n",
    "}\n",
    "\n",
    "sweep_config[\"parameters\"] = parameters_dict\n",
    "\n",
    "parameters_dict.update(\n",
    "    {\n",
    "        \"epochs\": {\"values\": [1000]},\n",
    "        \"validation_split\": {\"value\": 0.1},\n",
    "        \"training_date_end\": {\"values\": \n",
    "                                [\n",
    "                                '2023-04-30',\n",
    "                                '2023-02-28',\n",
    "                                '2022-11-30',\n",
    "                                '2021-11-30'\n",
    "                                ]},\n",
    "        \"learning_rate\": {\"values\": [0.0003, 0.0001]},\n",
    "        \"label_smoothing\": {\"values\": [0.01,0.0]},\n",
    "        \"loss\": {\n",
    "            \"values\": [ \"CEL\"],\n",
    "        },\n",
    "    'dist_last__1': {'values': [0, 1]},\n",
    "    'box_last__1': {'values': [0, 1]},\n",
    "    'speed_avg_1': {'values': [0, 1]},\n",
    "    'split_speed_v1_1': {'values': [0, 1]},\n",
    "    'split_speed_avg_1': {'values': [0, 1]},\n",
    "    'split_margin_avg_1': {'values': [0, 1]},\n",
    "    'margin_avg_1': {'values': [0, 1]},\n",
    "    'margin_time_avg_1': {'values': [0, 1]},\n",
    "    'RunHomeTime_1': {'values': [0, 1]},\n",
    "    'run_home_speed_1': {'values': [0, 1]},\n",
    "    'run_home_speed_v1_1': {'values': [0, 1]},\n",
    "    'first_out_avg_1': {'values': [0, 1]},\n",
    "    'pos_out_avg_1': {'values': [0, 1]},\n",
    "    'post_change_avg_1': {'values': [0, 1]},\n",
    "    'races_1': {'values': [0, 1]},\n",
    "    'wins_1': {'values': [0, 1]},\n",
    "    'wins_last_1': {'values': [0, 1]},\n",
    "    'weight_': {'values': [0, 1]},\n",
    "    'min_time_': {'values': [0, 1]},\n",
    "    'min_split_time_': {'values': [0, 1]},\n",
    "    'min_split_time_v1': {'values': [0, 1]},\n",
    "    'last_start_price': {'values': [0, 1]},\n",
    "    'last_start_prob': {'values': [0, 1]}\n",
    "}\n",
    ")\n",
    "\n",
    "import pprint\n",
    "\n",
    "pprint.pprint(sweep_config)\n",
    "\n",
    "\n",
    "sweep_config"
   ]
  },
  {
   "cell_type": "code",
   "execution_count": null,
   "metadata": {},
   "outputs": [],
   "source": [
    "# wandb.agent('x9mz21wl', function=model_pipeline, count=100, project='NEW GRU-sweeps')"
   ]
  },
  {
   "attachments": {},
   "cell_type": "markdown",
   "metadata": {},
   "source": []
  },
  {
   "cell_type": "code",
   "execution_count": null,
   "metadata": {},
   "outputs": [],
   "source": []
  },
  {
   "cell_type": "code",
   "execution_count": null,
   "metadata": {},
   "outputs": [
    {
     "name": "stderr",
     "output_type": "stream",
     "text": [
      "Failed to detect the name of this notebook, you can set it manually with the WANDB_NOTEBOOK_NAME environment variable to enable code saving.\n",
      "\u001b[34m\u001b[1mwandb\u001b[0m: Network error (ReadTimeout), entering retry loop.\n"
     ]
    }
   ],
   "source": [
    "sweep_id = wandb.sweep(sweep_config, project=\"Variable Sweeps\")\n",
    "# CUDA_LAUNCH_BLOCKING=1\n",
    "wandb.agent(sweep_id, function=model_pipeline, count=1)"
   ]
  }
 ],
 "metadata": {
  "kernelspec": {
   "display_name": "PYTORCH",
   "language": "python",
   "name": "python3"
  },
  "language_info": {
   "codemirror_mode": {
    "name": "ipython",
    "version": 3
   },
   "file_extension": ".py",
   "mimetype": "text/x-python",
   "name": "python",
   "nbconvert_exporter": "python",
   "pygments_lexer": "ipython3",
   "version": "3.11.5"
  },
  "orig_nbformat": 4,
  "vscode": {
   "interpreter": {
    "hash": "8a48ca33c5a1168302a4f8eae355aad1c03b1396f568d40bc174a6e6aabe725d"
   }
  }
 },
 "nbformat": 4,
 "nbformat_minor": 2
}
