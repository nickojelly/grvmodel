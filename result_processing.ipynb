{
 "cells": [
  {
   "cell_type": "markdown",
   "metadata": {},
   "source": [
    "Full pandas dataframe created for all shep race results\n",
    "\n",
    "todo:\n",
    "create graph of box number vs place\n",
    "create lin model of distance box vs time/place?\n",
    "\n",
    "idea:\n",
    "clustering analysis of dog to predict dogs that will behave the same  \n",
    "\n",
    "working:\n",
    "currently working with all split time correct in r\n",
    "creating dog index in r to hold previous race results\n"
   ]
  },
  {
   "cell_type": "code",
   "execution_count": 1,
   "metadata": {},
   "outputs": [],
   "source": [
    "import os\n",
    "import xml.etree.ElementTree as ET\n",
    "import pandas as pd\n",
    "import tqdm"
   ]
  },
  {
   "cell_type": "code",
   "execution_count": 6,
   "metadata": {},
   "outputs": [
    {
     "name": "stdout",
     "output_type": "stream",
     "text": [
      "['.git', '.gitignore', '.ipynb_checkpoints', '.RData', '.Rhistory', '.Rproj.user', 'betfair tar to csv', 'betfair-master', 'betfair-master.zip', 'boxpositionboxplot.png', 'debug.log', 'filter.nb.html', 'filter.Rmd', 'final.csv', 'final.txt', 'greyhound data', 'greyhound model.Rproj', 'grv scraper', 'historicdata-master', 'input-layer-form.ipynb', 'masterfile.csv', 'masterfilenew.csv', 'modelold.ipynb', 'pytorch', 'r pricing model', 'README.md', 'result_processing.ipynb']\n"
     ]
    }
   ],
   "source": [
    "#Loading race results database\n",
    "os.chdir(r'C:\\Users\\Nick\\Documents\\GitHub\\grvmodel')\n",
    "file_list = os.listdir()\n",
    "path = os.getcwd()\n",
    "print(file_list)\n"
   ]
  },
  {
   "cell_type": "code",
   "execution_count": 7,
   "metadata": {},
   "outputs": [],
   "source": [
    "master_list = pd.read_csv('masterfile.csv')\n",
    "\n",
    "# not needed unless needs to be regenerated\n",
    "# master_list = result_getter(file_list, path)\n"
   ]
  },
  {
   "cell_type": "code",
   "execution_count": 8,
   "metadata": {},
   "outputs": [],
   "source": [
    "def result_labels(file_list, path):\n",
    "    label_list = []\n",
    "    for i in file_list:\n",
    "        root = ET.parse(i).getroot()\n",
    "        \n",
    "        for race in root.iter('Race'):\n",
    "            race_id = race.attrib[\"id\"]\n",
    "            print(\"race id = \",race_id)\n",
    "            \n",
    "            places = []\n",
    "            \n",
    "            for dog in race.iter('Dog'):\n",
    "                places.append(dog[0].text)\n",
    "            print(places)\n",
    "        break\n",
    "            "
   ]
  },
  {
   "cell_type": "code",
   "execution_count": 9,
   "metadata": {},
   "outputs": [],
   "source": [
    "def result_getter(file_list, path):\n",
    "    master_list = []\n",
    "    \n",
    "    for i in file_list:\n",
    "        root = ET.parse(i).getroot()\n",
    "\n",
    "        track = root[0]\n",
    "        #print(\"track =\", track.text)\n",
    "        date = root[1]\n",
    "        #print(\"date =\", date.text)\n",
    "\n",
    "\n",
    "        for race in root.iter('Race'):\n",
    "            print(\"race id = \",race.attrib[\"id\"])\n",
    "            #print(\"Distance =\", race[3].text, \"\\n\")\n",
    "            #print(\"Grade =\", race[4].text, \"\\n\")\n",
    "            #print(\"place name box split split_margin runtime\")\n",
    "\n",
    "            places = []\n",
    "            ids = []\n",
    "            boxes = []\n",
    "            splittimes = []\n",
    "            split_margin = []\n",
    "            split_position = []\n",
    "            runtimes = []\n",
    "\n",
    "            for dog in race.iter('Dog'):\n",
    "                if not dog.attrib[\"id\"]:\n",
    "                    continue\n",
    "                if not dog[0].text:\n",
    "                    continue\n",
    "                if (dog[0].text in \"RSBFNPTBD\")or('=' in dog[0].text):\n",
    "                    #print(\"scratched check working\")\n",
    "                    continue\n",
    "                else:\n",
    "                    places.append(dog[0].text)\n",
    "                    ids.append(dog.attrib[\"id\"])\n",
    "                    boxes.append(dog[3].text)\n",
    "                    splittimes.append(dog[13].text)\n",
    "                    runtimes.append(dog[14].text)\n",
    "\n",
    "            for i in range(len(splittimes)):\n",
    "                if splittimes[0] == None:\n",
    "                    split_margin.append(pd.NaT)\n",
    "                    continue\n",
    "                try:\n",
    "                    split_margin.append(\"%.2f\" % (float(splittimes[i])-float(min(splittimes))))\n",
    "                    \n",
    "                                        #trying to get split position\n",
    "                except:\n",
    "                    split_margin.append(pd.NaT)\n",
    "                    \n",
    "                    \n",
    "            for i in range(len(places)):\n",
    "                try:\n",
    "                    pass\n",
    "                    #print(places[i], ids[i], boxes[i], splittimes[i], \"%.2f\" % split_margin[i], runtimes[i])\n",
    "                except :\n",
    "                    pass\n",
    "                    #print(places[i], ids[i], boxes[i], splittimes[i], split_margin[i], runtimes[i])\n",
    "\n",
    "            #print(\"\\n------------------------\\n\")\n",
    "            zipall = list(zip(places,ids,boxes,splittimes,split_margin,runtimes))\n",
    "            #print(zipall)\n",
    "            for i in range(len(zipall)):\n",
    "                zipall[i] = (race.attrib[\"id\"],track.text, race[3].text, race[4].text,) + zipall[i]\n",
    "                master_list.append(zipall[i])\n",
    "\n",
    "    return master_list"
   ]
  },
  {
   "cell_type": "code",
   "execution_count": 10,
   "metadata": {},
   "outputs": [
    {
     "data": {
      "text/plain": [
       "array([1., 2., 3., 4., 5., 6., 7., 8.])"
      ]
     },
     "execution_count": 10,
     "metadata": {},
     "output_type": "execute_result"
    }
   ],
   "source": [
    "col_names = [\"race_id\", \"track\",\"dist\",\"grade\", \"place\", \"dog_id\", \"box\", \"split_times\", \"split_margins\", \"run_time\"]\n",
    "df = pd.DataFrame(master_list, columns = col_names)\n",
    "df.place = df.place.astype(float)\n",
    "df.place.unique()"
   ]
  },
  {
   "cell_type": "code",
   "execution_count": 11,
   "metadata": {},
   "outputs": [
    {
     "name": "stdout",
     "output_type": "stream",
     "text": [
      "3733780\n",
      "3733780\n"
     ]
    }
   ],
   "source": [
    "print(df.size)\n",
    "df = df.dropna()\n",
    "print(df.size)\n",
    "df.to_csv(\"masterfile.csv\")"
   ]
  },
  {
   "cell_type": "code",
   "execution_count": 12,
   "metadata": {},
   "outputs": [
    {
     "data": {
      "text/plain": [
       "Grade 5                            83011\n",
       "Mixed 4/5                          34759\n",
       "Maiden                             28677\n",
       "Grade 5 T3                         23526\n",
       "Mixed 6/7                          19371\n",
       "Grade 7                            15907\n",
       "Restricted Win                     14063\n",
       "Grade 5 Heat                       12790\n",
       "Tier 3 - Maiden                    11537\n",
       "Maiden Heat                        11505\n",
       "Restricted Win Heat                10620\n",
       "Tier 3 - Grade 7                    9818\n",
       "Grade 6                             9584\n",
       "S/E Heat                            7972\n",
       "Free For All                        7735\n",
       "Mixed 6/7 Heat                      7621\n",
       "Tier 3 - Grade 6                    6197\n",
       "Grade 5 No Penalty                  5393\n",
       "Aged Prize Money                    5374\n",
       "Tier 3 - Restricted Win             5215\n",
       "Grade 5 Final                       3890\n",
       "Special Event                       3879\n",
       "Mixed 3/4                           3565\n",
       "Restricted Win Final                3320\n",
       "Maiden Final                        3025\n",
       "S/E Veteran                         2985\n",
       "All Maiden                          2954\n",
       "Restricted Win Aged Prize Money     2492\n",
       "Maiden Aged Prize Money             2411\n",
       "Mixed 6/7 Final                     2245\n",
       "Grade 7 Aged Prize Money            1817\n",
       "Grade 4                             1483\n",
       "S/E Final                           1337\n",
       "Maiden Semi Final                   1313\n",
       "Grade 6 Aged Prize Money            1098\n",
       "Grade 7 Heat                         633\n",
       "Novice Grade 7                       555\n",
       "S/E Group 1                          481\n",
       "S/E Semi Final                       423\n",
       "S/E Group 2                          391\n",
       "Grade 6 Heat                         367\n",
       "S/E Group 3                          341\n",
       "Handicap                             299\n",
       "Maiden Quali Final                   253\n",
       "Mixed 4/5 Heat                       227\n",
       "Group Listed                         194\n",
       "Grade 7 Final                        176\n",
       "Grade 6 Final                        167\n",
       "Grade 5 Non Penalty Heat             108\n",
       "Mixed 4/5 Final                      103\n",
       "Restricted Win Qualifying Final       86\n",
       "Novice Heat                           36\n",
       "Special Event Heat Non Penalty        21\n",
       "Grade 5 Quali Final                    8\n",
       "Novice Final                           8\n",
       "Grade 3                                7\n",
       "Special Event Non Penalty              5\n",
       "Name: grade, dtype: int64"
      ]
     },
     "execution_count": 12,
     "metadata": {},
     "output_type": "execute_result"
    }
   ],
   "source": [
    "df.grade.value_counts()"
   ]
  },
  {
   "cell_type": "code",
   "execution_count": 13,
   "metadata": {},
   "outputs": [
    {
     "name": "stdout",
     "output_type": "stream",
     "text": [
      "         race_id      track  dist         grade  place      dog_id  box  \\\n",
      "312035  12539914  Traralgon  525m  Maiden Final    8.0   109032142    1   \n",
      "312031  12539914  Traralgon  525m  Maiden Final    4.0   145856635    2   \n",
      "312033  12539914  Traralgon  525m  Maiden Final    6.0  2131520028    3   \n",
      "312030  12539914  Traralgon  525m  Maiden Final    3.0   167542442    4   \n",
      "312029  12539914  Traralgon  525m  Maiden Final    2.0   128006011    5   \n",
      "312034  12539914  Traralgon  525m  Maiden Final    7.0  1199430051    6   \n",
      "312032  12539914  Traralgon  525m  Maiden Final    5.0   159734832    7   \n",
      "312028  12539914  Traralgon  525m  Maiden Final    1.0   115367782    8   \n",
      "\n",
      "        split_times  split_margins  run_time  place_adj  \n",
      "312035         5.06           0.20     32.31   0.125000  \n",
      "312031         5.06           0.20     31.53   0.250000  \n",
      "312033         5.06           0.20     31.70   0.166667  \n",
      "312030         4.90           0.04     31.31   0.333333  \n",
      "312029         5.04           0.18     31.09   0.500000  \n",
      "312034         5.04           0.18     32.13   0.142857  \n",
      "312032         4.95           0.09     31.58   0.200000  \n",
      "312028         4.86           0.00     31.08   1.000000  \n"
     ]
    }
   ],
   "source": [
    "#generates adjusted place to transfer to form results\n",
    "\n",
    "dfsorted = df.sort_values(['box'])\n",
    "dfsorted['place_adj'] = 1/(dfsorted[\"place\"])\n",
    "grouped = dfsorted.groupby(['race_id'])\n",
    "\n",
    "for group in grouped:\n",
    "    \n",
    "    print(group[1])\n",
    "    break\n",
    " "
   ]
  },
  {
   "cell_type": "code",
   "execution_count": 14,
   "metadata": {},
   "outputs": [],
   "source": [
    "dfsorted.to_csv(\"masterfilenew.csv\")\n"
   ]
  },
  {
   "cell_type": "code",
   "execution_count": null,
   "metadata": {},
   "outputs": [],
   "source": [
    "\n",
    "    "
   ]
  }
 ],
 "metadata": {
  "kernelspec": {
   "display_name": "Python 3",
   "language": "python",
   "name": "python3"
  },
  "language_info": {
   "codemirror_mode": {
    "name": "ipython",
    "version": 3
   },
   "file_extension": ".py",
   "mimetype": "text/x-python",
   "name": "python",
   "nbconvert_exporter": "python",
   "pygments_lexer": "ipython3",
   "version": "3.9.2"
  }
 },
 "nbformat": 4,
 "nbformat_minor": 2
}
